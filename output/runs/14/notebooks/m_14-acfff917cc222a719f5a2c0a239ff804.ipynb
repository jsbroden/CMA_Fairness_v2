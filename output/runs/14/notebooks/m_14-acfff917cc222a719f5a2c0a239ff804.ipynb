{
 "cells": [
  {
   "cell_type": "code",
   "execution_count": 1,
   "id": "f159f837-637b-42ba-96b5-ec9a68c44524",
   "metadata": {
    "execution": {
     "iopub.execute_input": "2025-07-30T21:36:47.054822Z",
     "iopub.status.busy": "2025-07-30T21:36:47.054480Z",
     "iopub.status.idle": "2025-07-30T21:36:47.065133Z",
     "shell.execute_reply": "2025-07-30T21:36:47.064123Z"
    },
    "papermill": {
     "duration": 0.023917,
     "end_time": "2025-07-30T21:36:47.066648",
     "exception": false,
     "start_time": "2025-07-30T21:36:47.042731",
     "status": "completed"
    },
    "tags": []
   },
   "outputs": [
    {
     "name": "stdout",
     "output_type": "stream",
     "text": [
      "/dss/dsshome1/0C/ra93lal2/cma/CMA_Fairness_v2\n"
     ]
    },
    {
     "name": "stderr",
     "output_type": "stream",
     "text": [
      "/dss/dsshome1/0C/ra93lal2/.local/share/virtualenvs/CMA_Fairness_v2-3j10GkSs/lib/python3.10/site-packages/IPython/core/magics/osm.py:393: UserWarning: This is now an optional IPython functionality, using bookmarks requires you to install the `pickleshare` library.\n",
      "  bkms = self.shell.db.get('bookmarks', {})\n",
      "/dss/dsshome1/0C/ra93lal2/.local/share/virtualenvs/CMA_Fairness_v2-3j10GkSs/lib/python3.10/site-packages/IPython/core/magics/osm.py:417: UserWarning: This is now an optional IPython functionality, setting dhist requires you to install the `pickleshare` library.\n",
      "  self.shell.db['dhist'] = compress_dhist(dhist)[-100:]\n"
     ]
    }
   ],
   "source": [
    "%cd ~/cma/CMA_Fairness_v2"
   ]
  },
  {
   "cell_type": "markdown",
   "id": "de2603b9",
   "metadata": {
    "papermill": {
     "duration": 0.01031,
     "end_time": "2025-07-30T21:36:47.088130",
     "exception": false,
     "start_time": "2025-07-30T21:36:47.077820",
     "status": "completed"
    },
    "tags": []
   },
   "source": [
    "The following cell holds the definition of our parameters, these values can be overriden by rendering the with e.g. the following command:\n",
    "\n",
    "papermill -p alpha 0.2 -p ratio 0.3 universe_analysis.ipynb output/test_run.ipynb"
   ]
  },
  {
   "cell_type": "code",
   "execution_count": 2,
   "id": "a80968a0-40bb-4fa9-85ef-2d5eefb01975",
   "metadata": {
    "execution": {
     "iopub.execute_input": "2025-07-30T21:36:47.110442Z",
     "iopub.status.busy": "2025-07-30T21:36:47.109991Z",
     "iopub.status.idle": "2025-07-30T21:36:47.114909Z",
     "shell.execute_reply": "2025-07-30T21:36:47.113869Z"
    },
    "papermill": {
     "duration": 0.01744,
     "end_time": "2025-07-30T21:36:47.116262",
     "exception": false,
     "start_time": "2025-07-30T21:36:47.098822",
     "status": "completed"
    },
    "tags": []
   },
   "outputs": [
    {
     "name": "stdout",
     "output_type": "stream",
     "text": [
      "Current working directory: /dss/dsshome1/0C/ra93lal2/cma/CMA_Fairness_v2\n"
     ]
    }
   ],
   "source": [
    "import os\n",
    "print(\"Current working directory:\", os.getcwd())"
   ]
  },
  {
   "cell_type": "code",
   "execution_count": 3,
   "id": "2dce4c03",
   "metadata": {
    "execution": {
     "iopub.execute_input": "2025-07-30T21:36:47.150922Z",
     "iopub.status.busy": "2025-07-30T21:36:47.150492Z",
     "iopub.status.idle": "2025-07-30T21:36:47.157288Z",
     "shell.execute_reply": "2025-07-30T21:36:47.156182Z"
    },
    "papermill": {
     "duration": 0.029615,
     "end_time": "2025-07-30T21:36:47.158979",
     "exception": false,
     "start_time": "2025-07-30T21:36:47.129364",
     "status": "completed"
    },
    "tags": [
     "parameters"
    ]
   },
   "outputs": [],
   "source": [
    "run_no = 0\n",
    "universe_id = \"test\"\n",
    "universe = {\n",
    "    \"training_size\": \"25k\", # \"25k\", \"5k\", \"1k\"\n",
    "    \"training_year\": \"2014\", # \"2014\", \"2012_14\", \"2010_14\"\n",
    "    \"scale\": \"scale\", # \"scale\", \"do-not-scale\",\n",
    "    #\"stratify_split\": \"target\", # \"none\", \"target\", \"protected-attribute\", \"both\",\n",
    "    \"model\": \"elasticnet\", # \"logreg\", \"penalized_logreg\", \"rf\", \"gbm\", \"elasticnet\"\n",
    "    \"cutoff\": [\"quantile_0.15\", \"quantile_0.30\"],\n",
    "    \"exclude_features\": \"age\", # \"none\", \"nationality\", \"sex\", \"nationality-sex\", \"age\"\n",
    "    \"exclude_subgroups\": \"keep-all\", # \"keep-all\", \"drop-non-german\"\n",
    "    \"eval_fairness_grouping\": [\"majority-minority\", \"nationality-all\"]\n",
    "}\n",
    "\n",
    "output_dir=\"./output\"\n",
    "seed=0"
   ]
  },
  {
   "cell_type": "code",
   "execution_count": 4,
   "id": "c9923e49",
   "metadata": {
    "execution": {
     "iopub.execute_input": "2025-07-30T21:36:47.201992Z",
     "iopub.status.busy": "2025-07-30T21:36:47.201496Z",
     "iopub.status.idle": "2025-07-30T21:36:47.207056Z",
     "shell.execute_reply": "2025-07-30T21:36:47.206038Z"
    },
    "papermill": {
     "duration": 0.028911,
     "end_time": "2025-07-30T21:36:47.208869",
     "exception": false,
     "start_time": "2025-07-30T21:36:47.179958",
     "status": "completed"
    },
    "tags": [
     "injected-parameters"
    ]
   },
   "outputs": [],
   "source": [
    "# Parameters\n",
    "universe_id = \"acfff917cc222a719f5a2c0a239ff804\"\n",
    "run_no = \"14\"\n",
    "universe = \"{\\\"cutoff\\\": [\\\"quantile_0.1\\\", \\\"quantile_0.25\\\"], \\\"eval_fairness_grouping\\\": [\\\"majority-minority\\\", \\\"nationality-all\\\"], \\\"exclude_features\\\": \\\"none\\\", \\\"exclude_subgroups\\\": \\\"keep-all\\\", \\\"model\\\": \\\"elasticnet\\\", \\\"scale\\\": \\\"scale\\\", \\\"training_size\\\": \\\"1k\\\", \\\"training_year\\\": \\\"2012_14\\\"}\"\n",
    "output_dir = \"output\"\n",
    "seed = \"2023\"\n"
   ]
  },
  {
   "cell_type": "code",
   "execution_count": 5,
   "id": "1650acaf",
   "metadata": {
    "execution": {
     "iopub.execute_input": "2025-07-30T21:36:47.251390Z",
     "iopub.status.busy": "2025-07-30T21:36:47.250783Z",
     "iopub.status.idle": "2025-07-30T21:36:47.255889Z",
     "shell.execute_reply": "2025-07-30T21:36:47.254963Z"
    },
    "papermill": {
     "duration": 0.028604,
     "end_time": "2025-07-30T21:36:47.257553",
     "exception": false,
     "start_time": "2025-07-30T21:36:47.228949",
     "status": "completed"
    },
    "tags": []
   },
   "outputs": [],
   "source": [
    "import json\n",
    "# Parse universe into dict if it is passed as a string\n",
    "if isinstance(universe, str):\n",
    "    universe = json.loads(universe)"
   ]
  },
  {
   "cell_type": "code",
   "execution_count": 6,
   "id": "16620c48",
   "metadata": {
    "execution": {
     "iopub.execute_input": "2025-07-30T21:36:47.301417Z",
     "iopub.status.busy": "2025-07-30T21:36:47.301067Z",
     "iopub.status.idle": "2025-07-30T21:36:47.348323Z",
     "shell.execute_reply": "2025-07-30T21:36:47.347319Z"
    },
    "papermill": {
     "duration": 0.069978,
     "end_time": "2025-07-30T21:36:47.350213",
     "exception": false,
     "start_time": "2025-07-30T21:36:47.280235",
     "status": "completed"
    },
    "tags": []
   },
   "outputs": [],
   "source": [
    "# Auto-reload the custom package\n",
    "%load_ext autoreload\n",
    "%autoreload 1\n",
    "%aimport fairness_multiverse"
   ]
  },
  {
   "cell_type": "code",
   "execution_count": 7,
   "id": "01c5c9f3",
   "metadata": {
    "execution": {
     "iopub.execute_input": "2025-07-30T21:36:47.396023Z",
     "iopub.status.busy": "2025-07-30T21:36:47.395543Z",
     "iopub.status.idle": "2025-07-30T21:36:49.231017Z",
     "shell.execute_reply": "2025-07-30T21:36:49.229868Z"
    },
    "papermill": {
     "duration": 1.859963,
     "end_time": "2025-07-30T21:36:49.232797",
     "exception": false,
     "start_time": "2025-07-30T21:36:47.372834",
     "status": "completed"
    },
    "tags": []
   },
   "outputs": [],
   "source": [
    "from fairness_multiverse.universe import UniverseAnalysis\n",
    "\n",
    "universe_analysis = UniverseAnalysis(\n",
    "    run_no = run_no,\n",
    "    universe_id = universe_id,\n",
    "    universe = universe,\n",
    "    output_dir=output_dir,\n",
    ")"
   ]
  },
  {
   "cell_type": "code",
   "execution_count": 8,
   "id": "106241f5",
   "metadata": {
    "execution": {
     "iopub.execute_input": "2025-07-30T21:36:49.269637Z",
     "iopub.status.busy": "2025-07-30T21:36:49.269221Z",
     "iopub.status.idle": "2025-07-30T21:36:49.274923Z",
     "shell.execute_reply": "2025-07-30T21:36:49.273946Z"
    },
    "papermill": {
     "duration": 0.024482,
     "end_time": "2025-07-30T21:36:49.276406",
     "exception": false,
     "start_time": "2025-07-30T21:36:49.251924",
     "status": "completed"
    },
    "tags": []
   },
   "outputs": [
    {
     "name": "stdout",
     "output_type": "stream",
     "text": [
      "Using Seed: 2023\n"
     ]
    }
   ],
   "source": [
    "import numpy as np\n",
    "parsed_seed = int(seed)\n",
    "np.random.seed(parsed_seed)\n",
    "print(f\"Using Seed: {parsed_seed}\")"
   ]
  },
  {
   "cell_type": "markdown",
   "id": "e0ebdc57",
   "metadata": {
    "papermill": {
     "duration": 0.010364,
     "end_time": "2025-07-30T21:36:49.298986",
     "exception": false,
     "start_time": "2025-07-30T21:36:49.288622",
     "status": "completed"
    },
    "tags": []
   },
   "source": [
    "# Loading Data"
   ]
  },
  {
   "cell_type": "markdown",
   "id": "681925a3",
   "metadata": {
    "papermill": {
     "duration": 0.010733,
     "end_time": "2025-07-30T21:36:49.319741",
     "exception": false,
     "start_time": "2025-07-30T21:36:49.309008",
     "status": "completed"
    },
    "tags": []
   },
   "source": [
    "Load siab_train, siab_test, siab_calib and/or \n",
    "load siab_train_features, siab_train_labels"
   ]
  },
  {
   "cell_type": "code",
   "execution_count": 9,
   "id": "f0496b8a",
   "metadata": {
    "execution": {
     "iopub.execute_input": "2025-07-30T21:36:49.350064Z",
     "iopub.status.busy": "2025-07-30T21:36:49.349777Z",
     "iopub.status.idle": "2025-07-30T21:37:01.470337Z",
     "shell.execute_reply": "2025-07-30T21:37:01.469216Z"
    },
    "papermill": {
     "duration": 12.134041,
     "end_time": "2025-07-30T21:37:01.471896",
     "exception": false,
     "start_time": "2025-07-30T21:36:49.337855",
     "status": "completed"
    },
    "tags": []
   },
   "outputs": [
    {
     "name": "stdout",
     "output_type": "stream",
     "text": [
      "Loading SIAB data from cache: data/siab_cached.csv.gz\n"
     ]
    },
    {
     "name": "stdout",
     "output_type": "stream",
     "text": [
      "(643690, 164)\n"
     ]
    }
   ],
   "source": [
    "from pathlib import Path\n",
    "import pandas as pd\n",
    "\n",
    "# File paths\n",
    "raw_file = Path(\"data/raw/siab.csv\")\n",
    "cache_file = Path(\"data/siab_cached.csv.gz\")\n",
    "\n",
    "# Ensure cache directory exists\n",
    "cache_file.parent.mkdir(parents=True, exist_ok=True)\n",
    "\n",
    "# Load with simple caching\n",
    "if cache_file.exists():\n",
    "    print(f\"Loading SIAB data from cache: {cache_file}\")\n",
    "    siab = pd.read_csv(cache_file, compression='gzip')\n",
    "else:\n",
    "    print(f\"Cache not found. Reading raw SIAB data: {raw_file}\")\n",
    "    siab = pd.read_csv(raw_file)\n",
    "    siab.to_csv(cache_file, index=False, compression='gzip')\n",
    "    print(f\"Cached SIAB data to: {cache_file}\")\n",
    "\n",
    "# Now use `siab` DataFrame as needed\n",
    "print(siab.shape)"
   ]
  },
  {
   "cell_type": "code",
   "execution_count": 10,
   "id": "db0ca512-5f53-4dba-abdb-a2888bca41ba",
   "metadata": {
    "execution": {
     "iopub.execute_input": "2025-07-30T21:37:01.515507Z",
     "iopub.status.busy": "2025-07-30T21:37:01.514670Z",
     "iopub.status.idle": "2025-07-30T21:37:01.519869Z",
     "shell.execute_reply": "2025-07-30T21:37:01.518947Z"
    },
    "papermill": {
     "duration": 0.027981,
     "end_time": "2025-07-30T21:37:01.521534",
     "exception": false,
     "start_time": "2025-07-30T21:37:01.493553",
     "status": "completed"
    },
    "tags": []
   },
   "outputs": [],
   "source": [
    "#siab"
   ]
  },
  {
   "cell_type": "code",
   "execution_count": 11,
   "id": "a0edb063",
   "metadata": {
    "execution": {
     "iopub.execute_input": "2025-07-30T21:37:01.561082Z",
     "iopub.status.busy": "2025-07-30T21:37:01.560326Z",
     "iopub.status.idle": "2025-07-30T21:37:01.565724Z",
     "shell.execute_reply": "2025-07-30T21:37:01.564876Z"
    },
    "papermill": {
     "duration": 0.024428,
     "end_time": "2025-07-30T21:37:01.567529",
     "exception": false,
     "start_time": "2025-07-30T21:37:01.543101",
     "status": "completed"
    },
    "tags": []
   },
   "outputs": [],
   "source": [
    "#import pandas as pd\n",
    "#\n",
    "#X_train = pd.read_csv(\"./data/X_train.csv\")\n",
    "#y_train = pd.read_csv(\"./data/y_train.csv\")"
   ]
  },
  {
   "cell_type": "code",
   "execution_count": 12,
   "id": "63d08085",
   "metadata": {
    "execution": {
     "iopub.execute_input": "2025-07-30T21:37:01.607114Z",
     "iopub.status.busy": "2025-07-30T21:37:01.606680Z",
     "iopub.status.idle": "2025-07-30T21:37:01.610611Z",
     "shell.execute_reply": "2025-07-30T21:37:01.609858Z"
    },
    "papermill": {
     "duration": 0.022799,
     "end_time": "2025-07-30T21:37:01.612089",
     "exception": false,
     "start_time": "2025-07-30T21:37:01.589290",
     "status": "completed"
    },
    "tags": []
   },
   "outputs": [],
   "source": [
    "#X_test = pd.read_csv(\"./data/X_test.csv\")\n",
    "#y_true = pd.read_csv(\"./data/y_test.csv\")"
   ]
  },
  {
   "cell_type": "code",
   "execution_count": 13,
   "id": "98a8d0fa-1d3d-4ed8-bb2c-281470e24add",
   "metadata": {
    "execution": {
     "iopub.execute_input": "2025-07-30T21:37:01.636208Z",
     "iopub.status.busy": "2025-07-30T21:37:01.635695Z",
     "iopub.status.idle": "2025-07-30T21:37:01.676348Z",
     "shell.execute_reply": "2025-07-30T21:37:01.675469Z"
    },
    "papermill": {
     "duration": 0.054493,
     "end_time": "2025-07-30T21:37:01.677910",
     "exception": false,
     "start_time": "2025-07-30T21:37:01.623417",
     "status": "completed"
    },
    "tags": []
   },
   "outputs": [],
   "source": [
    "# Calibration data for conformal\n",
    "#X_calib = pd.read_csv(\"./data/X_calib.csv\")\n",
    "#y_calib = pd.read_csv(\"./data/y_calib.csv\")"
   ]
  },
  {
   "cell_type": "markdown",
   "id": "997051c5-15bd-4b69-9786-c3001a3ce484",
   "metadata": {
    "papermill": {
     "duration": 0.012577,
     "end_time": "2025-07-30T21:37:01.702314",
     "exception": false,
     "start_time": "2025-07-30T21:37:01.689737",
     "status": "completed"
    },
    "tags": []
   },
   "source": [
    "# Splitting Data and Setting Training Data Size"
   ]
  },
  {
   "cell_type": "code",
   "execution_count": 14,
   "id": "e993b61f-042d-41a6-8c81-f55681f86335",
   "metadata": {
    "execution": {
     "iopub.execute_input": "2025-07-30T21:37:01.726162Z",
     "iopub.status.busy": "2025-07-30T21:37:01.725650Z",
     "iopub.status.idle": "2025-07-30T21:37:01.735159Z",
     "shell.execute_reply": "2025-07-30T21:37:01.734452Z"
    },
    "papermill": {
     "duration": 0.023016,
     "end_time": "2025-07-30T21:37:01.736448",
     "exception": false,
     "start_time": "2025-07-30T21:37:01.713432",
     "status": "completed"
    },
    "tags": []
   },
   "outputs": [],
   "source": [
    "def sample_by_year_size(df,\n",
    "                        training_year: str,\n",
    "                        training_size: str,\n",
    "                        random_state: int = 42):\n",
    "    # --- parse training_year into a list of int years ---\n",
    "    if \"_\" in training_year:\n",
    "        start_str, end_str = training_year.split(\"_\", 1)\n",
    "        start = int(start_str)\n",
    "        end   = int(end_str) if len(end_str) == 4 else (int(end_str) + (start // 100)*100)\n",
    "        years = list(range(start, end + 1))\n",
    "    else:\n",
    "        years = [int(training_year)]\n",
    "\n",
    "    df = df[df[\"year\"].isin(years)].reset_index(drop=True)\n",
    "\n",
    "    # --- map training_size to total number of samples ---\n",
    "    total_map = {\"25k\": 25_000, \"5k\": 5_000, \"1k\": 1_000}\n",
    "    if training_size not in total_map:\n",
    "        return df  # e.g. \"all\"\n",
    "\n",
    "    total_samples = total_map[training_size]\n",
    "    n_years       = len(years)\n",
    "    base          = total_samples // n_years\n",
    "    remainder     = total_samples % n_years\n",
    "\n",
    "    # --- build a dict: year -> how many to sample ---\n",
    "    # give +1 to the first `remainder` years in ascending order\n",
    "    quotas = {\n",
    "        year: base + (1 if idx < remainder else 0)\n",
    "        for idx, year in enumerate(sorted(years))\n",
    "    }\n",
    "\n",
    "    # --- sample per‐year according to the quota dict ---\n",
    "    sampled = (\n",
    "        df\n",
    "        .groupby(\"year\", group_keys=False)\n",
    "        .apply(lambda grp: grp.sample(\n",
    "            n=min(len(grp), quotas[grp.name]),\n",
    "            random_state=random_state))\n",
    "        .reset_index(drop=True)\n",
    "    )\n",
    "\n",
    "    return sampled"
   ]
  },
  {
   "cell_type": "code",
   "execution_count": 15,
   "id": "c0ccd338-0e02-41f3-a09d-f56f9266e3fb",
   "metadata": {
    "execution": {
     "iopub.execute_input": "2025-07-30T21:37:01.774202Z",
     "iopub.status.busy": "2025-07-30T21:37:01.773787Z",
     "iopub.status.idle": "2025-07-30T21:37:01.784582Z",
     "shell.execute_reply": "2025-07-30T21:37:01.783653Z"
    },
    "papermill": {
     "duration": 0.035563,
     "end_time": "2025-07-30T21:37:01.786206",
     "exception": false,
     "start_time": "2025-07-30T21:37:01.750643",
     "status": "completed"
    },
    "tags": []
   },
   "outputs": [],
   "source": [
    "#universe[\"training_size\"]"
   ]
  },
  {
   "cell_type": "code",
   "execution_count": 16,
   "id": "ca707fd7-8047-4acd-bfa5-66248fbbf8e6",
   "metadata": {
    "execution": {
     "iopub.execute_input": "2025-07-30T21:37:01.829201Z",
     "iopub.status.busy": "2025-07-30T21:37:01.828709Z",
     "iopub.status.idle": "2025-07-30T21:37:01.833577Z",
     "shell.execute_reply": "2025-07-30T21:37:01.832655Z"
    },
    "papermill": {
     "duration": 0.028788,
     "end_time": "2025-07-30T21:37:01.835175",
     "exception": false,
     "start_time": "2025-07-30T21:37:01.806387",
     "status": "completed"
    },
    "tags": []
   },
   "outputs": [],
   "source": [
    "#universe[\"training_year\"]"
   ]
  },
  {
   "cell_type": "code",
   "execution_count": 17,
   "id": "aea9c6ef-6f46-42c8-85eb-5a62025c1508",
   "metadata": {
    "execution": {
     "iopub.execute_input": "2025-07-30T21:37:01.876936Z",
     "iopub.status.busy": "2025-07-30T21:37:01.876232Z",
     "iopub.status.idle": "2025-07-30T21:37:02.435869Z",
     "shell.execute_reply": "2025-07-30T21:37:02.434881Z"
    },
    "papermill": {
     "duration": 0.583613,
     "end_time": "2025-07-30T21:37:02.437776",
     "exception": false,
     "start_time": "2025-07-30T21:37:01.854163",
     "status": "completed"
    },
    "tags": []
   },
   "outputs": [],
   "source": [
    "siab_train = sample_by_year_size(siab,\n",
    "                               training_year=universe[\"training_year\"],\n",
    "                               training_size=universe[\"training_size\"])"
   ]
  },
  {
   "cell_type": "code",
   "execution_count": 18,
   "id": "8d3afb32-789d-442c-8d5d-9f5aa8dd2eed",
   "metadata": {
    "execution": {
     "iopub.execute_input": "2025-07-30T21:37:02.483093Z",
     "iopub.status.busy": "2025-07-30T21:37:02.482537Z",
     "iopub.status.idle": "2025-07-30T21:37:02.487989Z",
     "shell.execute_reply": "2025-07-30T21:37:02.487000Z"
    },
    "papermill": {
     "duration": 0.031843,
     "end_time": "2025-07-30T21:37:02.489688",
     "exception": false,
     "start_time": "2025-07-30T21:37:02.457845",
     "status": "completed"
    },
    "tags": []
   },
   "outputs": [],
   "source": [
    "#siab_train.shape"
   ]
  },
  {
   "cell_type": "code",
   "execution_count": 19,
   "id": "d582db68-1a4c-47fb-84fc-08518dc1975a",
   "metadata": {
    "execution": {
     "iopub.execute_input": "2025-07-30T21:37:02.536175Z",
     "iopub.status.busy": "2025-07-30T21:37:02.535511Z",
     "iopub.status.idle": "2025-07-30T21:37:02.540825Z",
     "shell.execute_reply": "2025-07-30T21:37:02.539875Z"
    },
    "papermill": {
     "duration": 0.02902,
     "end_time": "2025-07-30T21:37:02.542461",
     "exception": false,
     "start_time": "2025-07-30T21:37:02.513441",
     "status": "completed"
    },
    "tags": []
   },
   "outputs": [],
   "source": [
    "#display(siab_train.groupby(\"year\").size())"
   ]
  },
  {
   "cell_type": "code",
   "execution_count": 20,
   "id": "a561edb4-d032-42cb-8256-22eac1111c64",
   "metadata": {
    "execution": {
     "iopub.execute_input": "2025-07-30T21:37:02.590761Z",
     "iopub.status.busy": "2025-07-30T21:37:02.590104Z",
     "iopub.status.idle": "2025-07-30T21:37:02.821838Z",
     "shell.execute_reply": "2025-07-30T21:37:02.821109Z"
    },
    "papermill": {
     "duration": 0.258889,
     "end_time": "2025-07-30T21:37:02.823728",
     "exception": false,
     "start_time": "2025-07-30T21:37:02.564839",
     "status": "completed"
    },
    "tags": []
   },
   "outputs": [],
   "source": [
    "#siab_train = siab_s[siab_s.year < 2015]\n",
    "siab_calib = siab[siab.year == 2015]\n",
    "siab_test = siab[siab.year == 2016]"
   ]
  },
  {
   "cell_type": "code",
   "execution_count": 21,
   "id": "472de16f-c3db-4916-846b-1f0de9cf1746",
   "metadata": {
    "execution": {
     "iopub.execute_input": "2025-07-30T21:37:02.875369Z",
     "iopub.status.busy": "2025-07-30T21:37:02.874673Z",
     "iopub.status.idle": "2025-07-30T21:37:02.880796Z",
     "shell.execute_reply": "2025-07-30T21:37:02.880007Z"
    },
    "papermill": {
     "duration": 0.018709,
     "end_time": "2025-07-30T21:37:02.882065",
     "exception": false,
     "start_time": "2025-07-30T21:37:02.863356",
     "status": "completed"
    },
    "tags": []
   },
   "outputs": [],
   "source": [
    "X_train = siab_train.iloc[:,4:164]\n",
    "y_train = siab_train.iloc[:, [3]]"
   ]
  },
  {
   "cell_type": "code",
   "execution_count": 22,
   "id": "828c96af-f43a-4ed6-ba47-8ac73a47d56c",
   "metadata": {
    "execution": {
     "iopub.execute_input": "2025-07-30T21:37:02.905115Z",
     "iopub.status.busy": "2025-07-30T21:37:02.904810Z",
     "iopub.status.idle": "2025-07-30T21:37:02.979979Z",
     "shell.execute_reply": "2025-07-30T21:37:02.979203Z"
    },
    "papermill": {
     "duration": 0.087899,
     "end_time": "2025-07-30T21:37:02.981466",
     "exception": false,
     "start_time": "2025-07-30T21:37:02.893567",
     "status": "completed"
    },
    "tags": []
   },
   "outputs": [],
   "source": [
    "X_calib = siab_calib.iloc[:,4:164]\n",
    "y_calib = siab_calib.iloc[:, [3]]"
   ]
  },
  {
   "cell_type": "code",
   "execution_count": 23,
   "id": "c34be9c3-6bd6-476e-acd3-845840e303be",
   "metadata": {
    "execution": {
     "iopub.execute_input": "2025-07-30T21:37:03.005649Z",
     "iopub.status.busy": "2025-07-30T21:37:03.004684Z",
     "iopub.status.idle": "2025-07-30T21:37:03.051599Z",
     "shell.execute_reply": "2025-07-30T21:37:03.050729Z"
    },
    "papermill": {
     "duration": 0.059366,
     "end_time": "2025-07-30T21:37:03.052873",
     "exception": false,
     "start_time": "2025-07-30T21:37:02.993507",
     "status": "completed"
    },
    "tags": []
   },
   "outputs": [],
   "source": [
    "X_test = siab_test.iloc[:,4:164]\n",
    "y_true = siab_test.iloc[:, [3]]"
   ]
  },
  {
   "cell_type": "markdown",
   "id": "9901737e-04df-44f0-9100-f5ad144ed040",
   "metadata": {
    "papermill": {
     "duration": 0.010431,
     "end_time": "2025-07-30T21:37:03.075460",
     "exception": false,
     "start_time": "2025-07-30T21:37:03.065029",
     "status": "completed"
    },
    "tags": []
   },
   "source": [
    "# Splitting Data and Setting Training Data Size OLD VERSION"
   ]
  },
  {
   "cell_type": "code",
   "execution_count": 24,
   "id": "acbc8f7d-8fc8-4e86-8c59-5dcb0f58384b",
   "metadata": {
    "execution": {
     "iopub.execute_input": "2025-07-30T21:37:03.098125Z",
     "iopub.status.busy": "2025-07-30T21:37:03.097456Z",
     "iopub.status.idle": "2025-07-30T21:37:03.102156Z",
     "shell.execute_reply": "2025-07-30T21:37:03.101389Z"
    },
    "papermill": {
     "duration": 0.017574,
     "end_time": "2025-07-30T21:37:03.103593",
     "exception": false,
     "start_time": "2025-07-30T21:37:03.086019",
     "status": "completed"
    },
    "tags": []
   },
   "outputs": [],
   "source": [
    "#def sample_by_year(df, training_size, random_state=42):\n",
    "#    if training_size == \"2014\":\n",
    "#        return df[df[\"year\"] == 2014].reset_index(drop=True)\n",
    "#    \n",
    "#    size_map = {\n",
    "#        \"25k\": 5000,\n",
    "#        \"5k\": 1000,\n",
    "#        \"1k\": 200\n",
    "#    }\n",
    "#\n",
    "#    if training_size not in size_map:\n",
    "#        return df.reset_index(drop=True)  # use all data\n",
    "#\n",
    "#    n_per_year = size_map[training_size]\n",
    "#    grouped = df.groupby(\"year\")\n",
    "#    sampled = grouped.apply(lambda x: x.sample(n=min(n_per_year, len(x)), random_state=random_state))\n",
    "#    return sampled.reset_index(drop=True)"
   ]
  },
  {
   "cell_type": "code",
   "execution_count": 25,
   "id": "6d931f52-beaf-43ff-9e78-9d44a448d54e",
   "metadata": {
    "execution": {
     "iopub.execute_input": "2025-07-30T21:37:03.127074Z",
     "iopub.status.busy": "2025-07-30T21:37:03.126583Z",
     "iopub.status.idle": "2025-07-30T21:37:03.130750Z",
     "shell.execute_reply": "2025-07-30T21:37:03.130086Z"
    },
    "papermill": {
     "duration": 0.016818,
     "end_time": "2025-07-30T21:37:03.131998",
     "exception": false,
     "start_time": "2025-07-30T21:37:03.115180",
     "status": "completed"
    },
    "tags": []
   },
   "outputs": [],
   "source": [
    "#siab_s = sample_by_year(siab, universe[\"training_size\"])"
   ]
  },
  {
   "cell_type": "code",
   "execution_count": 26,
   "id": "5db0a40e-a4e2-4920-be85-b12ae061d70d",
   "metadata": {
    "execution": {
     "iopub.execute_input": "2025-07-30T21:37:03.155482Z",
     "iopub.status.busy": "2025-07-30T21:37:03.154871Z",
     "iopub.status.idle": "2025-07-30T21:37:03.159043Z",
     "shell.execute_reply": "2025-07-30T21:37:03.158361Z"
    },
    "papermill": {
     "duration": 0.016856,
     "end_time": "2025-07-30T21:37:03.160499",
     "exception": false,
     "start_time": "2025-07-30T21:37:03.143643",
     "status": "completed"
    },
    "tags": []
   },
   "outputs": [],
   "source": [
    "#display(siab_s.groupby(\"year\").size())"
   ]
  },
  {
   "cell_type": "code",
   "execution_count": 27,
   "id": "e6c733c5",
   "metadata": {
    "execution": {
     "iopub.execute_input": "2025-07-30T21:37:03.183822Z",
     "iopub.status.busy": "2025-07-30T21:37:03.183333Z",
     "iopub.status.idle": "2025-07-30T21:37:03.274167Z",
     "shell.execute_reply": "2025-07-30T21:37:03.273236Z"
    },
    "papermill": {
     "duration": 0.104117,
     "end_time": "2025-07-30T21:37:03.276007",
     "exception": false,
     "start_time": "2025-07-30T21:37:03.171890",
     "status": "completed"
    },
    "tags": []
   },
   "outputs": [],
   "source": [
    "# Auxiliary data needed downstream in the pipeline\n",
    "\n",
    "org_train = X_train.copy()\n",
    "org_test = X_test.copy()\n",
    "org_calib = X_calib.copy()"
   ]
  },
  {
   "cell_type": "code",
   "execution_count": 28,
   "id": "1466abac-c6da-4492-a62f-4240ae3783af",
   "metadata": {
    "execution": {
     "iopub.execute_input": "2025-07-30T21:37:03.319427Z",
     "iopub.status.busy": "2025-07-30T21:37:03.318975Z",
     "iopub.status.idle": "2025-07-30T21:37:03.324512Z",
     "shell.execute_reply": "2025-07-30T21:37:03.323560Z"
    },
    "papermill": {
     "duration": 0.028498,
     "end_time": "2025-07-30T21:37:03.326052",
     "exception": false,
     "start_time": "2025-07-30T21:37:03.297554",
     "status": "completed"
    },
    "tags": []
   },
   "outputs": [],
   "source": [
    "# put in other script?\n",
    "# Group sizes\n",
    "\n",
    "#def calculate_percentages(df, df_name):\n",
    "#    total_entries = len(df)\n",
    "#\n",
    "#    female_pct = (df['frau1'] == 1).mean() * 100\n",
    "#    non_german_pct = ((df['maxdeutsch1'] == 0) & (df['maxdeutsch.Missing.'] == 0)).mean() * 100\n",
    "#    non_german_male_pct = ((df['frau1'] == 0) & (df['maxdeutsch1'] == 0) & (df['maxdeutsch.Missing.'] == 0)).mean() * 100\n",
    "#    non_german_female_pct = ((df['frau1'] == 1) & (df['maxdeutsch1'] == 0) & (df['maxdeutsch.Missing.'] == 0)).mean() * 100\n",
    "#\n",
    "#    print(f\"--- {df_name} ---\")\n",
    "#    print(f\"Female: {female_pct:.2f}%\")\n",
    "#    print(f\"Non-German: {non_german_pct:.2f}%\")\n",
    "#    print(f\"Non-German Male: {non_german_male_pct:.2f}%\")\n",
    "#    print(f\"Non-German Female: {non_german_female_pct:.2f}%\\n\")\n",
    "#\n",
    "## Calculate for each DataFrame\n",
    "#calculate_percentages(siab_calib, \"siab_calib\")\n",
    "#calculate_percentages(siab_test, \"siab_test\")\n",
    "#calculate_percentages(siab_train, \"siab_train\")"
   ]
  },
  {
   "cell_type": "markdown",
   "id": "0a4a1b33",
   "metadata": {
    "papermill": {
     "duration": 0.013067,
     "end_time": "2025-07-30T21:37:03.361701",
     "exception": false,
     "start_time": "2025-07-30T21:37:03.348634",
     "status": "completed"
    },
    "tags": []
   },
   "source": [
    "# Preprocessing Data"
   ]
  },
  {
   "cell_type": "code",
   "execution_count": 29,
   "id": "ca879031",
   "metadata": {
    "execution": {
     "iopub.execute_input": "2025-07-30T21:37:03.385901Z",
     "iopub.status.busy": "2025-07-30T21:37:03.385517Z",
     "iopub.status.idle": "2025-07-30T21:37:03.392306Z",
     "shell.execute_reply": "2025-07-30T21:37:03.391167Z"
    },
    "papermill": {
     "duration": 0.021185,
     "end_time": "2025-07-30T21:37:03.394315",
     "exception": false,
     "start_time": "2025-07-30T21:37:03.373130",
     "status": "completed"
    },
    "tags": []
   },
   "outputs": [],
   "source": [
    "# EXCLUDE PROTECTED FEATURES\n",
    "# ----------------------\n",
    "# \"exclude_features\": \"none\", # \"nationality\", \"sex\", \"nationality-sex\"\n",
    "\n",
    "excluded_features = universe[\"exclude_features\"].split(\"-\") # split, e.g.: \"nationality-sex\" -> [\"nationality\", \"sex\"]\n",
    "excluded_features_dictionary = {\n",
    "    \"nationality\": [\"maxdeutsch1\", \"maxdeutsch.Missing.\"],\n",
    "    \"sex\": [\"frau1\"],\n",
    "    \"age\": [\"age\"],\n",
    "}\n"
   ]
  },
  {
   "cell_type": "code",
   "execution_count": 30,
   "id": "b745ac60",
   "metadata": {
    "execution": {
     "iopub.execute_input": "2025-07-30T21:37:03.456224Z",
     "iopub.status.busy": "2025-07-30T21:37:03.455479Z",
     "iopub.status.idle": "2025-07-30T21:37:03.461444Z",
     "shell.execute_reply": "2025-07-30T21:37:03.460289Z"
    },
    "papermill": {
     "duration": 0.038782,
     "end_time": "2025-07-30T21:37:03.463510",
     "exception": false,
     "start_time": "2025-07-30T21:37:03.424728",
     "status": "completed"
    },
    "tags": []
   },
   "outputs": [],
   "source": [
    "# Code nice names to column names\n",
    "\n",
    "excluded_features_columns = [\n",
    "    excluded_features_dictionary[f] for f in excluded_features if len(f) > 0 and f != \"none\"\n",
    "]"
   ]
  },
  {
   "cell_type": "code",
   "execution_count": 31,
   "id": "f84f73a2",
   "metadata": {
    "execution": {
     "iopub.execute_input": "2025-07-30T21:37:03.519727Z",
     "iopub.status.busy": "2025-07-30T21:37:03.519062Z",
     "iopub.status.idle": "2025-07-30T21:37:03.525283Z",
     "shell.execute_reply": "2025-07-30T21:37:03.524454Z"
    },
    "papermill": {
     "duration": 0.031509,
     "end_time": "2025-07-30T21:37:03.526740",
     "exception": false,
     "start_time": "2025-07-30T21:37:03.495231",
     "status": "completed"
    },
    "tags": []
   },
   "outputs": [],
   "source": [
    "from utils import flatten_once\n",
    "\n",
    "excluded_features_columns = flatten_once(excluded_features_columns)"
   ]
  },
  {
   "cell_type": "code",
   "execution_count": 32,
   "id": "884dea22",
   "metadata": {
    "execution": {
     "iopub.execute_input": "2025-07-30T21:37:03.567108Z",
     "iopub.status.busy": "2025-07-30T21:37:03.566473Z",
     "iopub.status.idle": "2025-07-30T21:37:03.572451Z",
     "shell.execute_reply": "2025-07-30T21:37:03.571250Z"
    },
    "papermill": {
     "duration": 0.027881,
     "end_time": "2025-07-30T21:37:03.574430",
     "exception": false,
     "start_time": "2025-07-30T21:37:03.546549",
     "status": "completed"
    },
    "tags": []
   },
   "outputs": [],
   "source": [
    "if len(excluded_features_columns) > 0:\n",
    "    print(f\"Dropping features: {excluded_features_columns}\")\n",
    "    X_train.drop(excluded_features_columns, axis=1, inplace=True)"
   ]
  },
  {
   "cell_type": "code",
   "execution_count": 33,
   "id": "95ab8b16",
   "metadata": {
    "execution": {
     "iopub.execute_input": "2025-07-30T21:37:03.625231Z",
     "iopub.status.busy": "2025-07-30T21:37:03.624583Z",
     "iopub.status.idle": "2025-07-30T21:37:03.630563Z",
     "shell.execute_reply": "2025-07-30T21:37:03.629458Z"
    },
    "papermill": {
     "duration": 0.031278,
     "end_time": "2025-07-30T21:37:03.632184",
     "exception": false,
     "start_time": "2025-07-30T21:37:03.600906",
     "status": "completed"
    },
    "tags": []
   },
   "outputs": [],
   "source": [
    "if len(excluded_features_columns) > 0:\n",
    "    print(f\"Dropping features: {excluded_features_columns}\")\n",
    "    X_test.drop(excluded_features_columns, axis=1, inplace=True)"
   ]
  },
  {
   "cell_type": "code",
   "execution_count": 34,
   "id": "1853aaf5-fb9f-46cb-a2b5-8ea4ae2237e4",
   "metadata": {
    "execution": {
     "iopub.execute_input": "2025-07-30T21:37:03.679199Z",
     "iopub.status.busy": "2025-07-30T21:37:03.678546Z",
     "iopub.status.idle": "2025-07-30T21:37:03.684231Z",
     "shell.execute_reply": "2025-07-30T21:37:03.683243Z"
    },
    "papermill": {
     "duration": 0.030769,
     "end_time": "2025-07-30T21:37:03.685889",
     "exception": false,
     "start_time": "2025-07-30T21:37:03.655120",
     "status": "completed"
    },
    "tags": []
   },
   "outputs": [],
   "source": [
    "if len(excluded_features_columns) > 0:\n",
    "    print(f\"Dropping features: {excluded_features_columns}\")\n",
    "    X_calib.drop(excluded_features_columns, axis=1, inplace=True)"
   ]
  },
  {
   "cell_type": "code",
   "execution_count": 35,
   "id": "6727d079-03e5-481e-9d38-292a90b7a0a8",
   "metadata": {
    "execution": {
     "iopub.execute_input": "2025-07-30T21:37:03.732019Z",
     "iopub.status.busy": "2025-07-30T21:37:03.731079Z",
     "iopub.status.idle": "2025-07-30T21:37:03.736314Z",
     "shell.execute_reply": "2025-07-30T21:37:03.735399Z"
    },
    "papermill": {
     "duration": 0.029856,
     "end_time": "2025-07-30T21:37:03.738031",
     "exception": false,
     "start_time": "2025-07-30T21:37:03.708175",
     "status": "completed"
    },
    "tags": []
   },
   "outputs": [],
   "source": [
    "# SPLIT & STRATIFY DATA\n",
    "# ----------------------"
   ]
  },
  {
   "cell_type": "code",
   "execution_count": 36,
   "id": "76c4dc6d",
   "metadata": {
    "execution": {
     "iopub.execute_input": "2025-07-30T21:37:03.785191Z",
     "iopub.status.busy": "2025-07-30T21:37:03.784420Z",
     "iopub.status.idle": "2025-07-30T21:37:03.790175Z",
     "shell.execute_reply": "2025-07-30T21:37:03.789159Z"
    },
    "papermill": {
     "duration": 0.030788,
     "end_time": "2025-07-30T21:37:03.791810",
     "exception": false,
     "start_time": "2025-07-30T21:37:03.761022",
     "status": "completed"
    },
    "tags": []
   },
   "outputs": [],
   "source": [
    "# EXCLUDE CERTAIN SUBGROUPS\n",
    "# ----------------------\n",
    "\n",
    "mode = universe.get(\"exclude_subgroups\", \"keep-all\") \n",
    "# Fetches the exclude_subgroups setting from the universe dict.\n",
    "# Defaults to \"keep-all\" if the key is missing."
   ]
  },
  {
   "cell_type": "code",
   "execution_count": 37,
   "id": "21994072",
   "metadata": {
    "execution": {
     "iopub.execute_input": "2025-07-30T21:37:03.838367Z",
     "iopub.status.busy": "2025-07-30T21:37:03.837675Z",
     "iopub.status.idle": "2025-07-30T21:37:03.844660Z",
     "shell.execute_reply": "2025-07-30T21:37:03.843550Z"
    },
    "papermill": {
     "duration": 0.032074,
     "end_time": "2025-07-30T21:37:03.846299",
     "exception": false,
     "start_time": "2025-07-30T21:37:03.814225",
     "status": "completed"
    },
    "tags": []
   },
   "outputs": [],
   "source": [
    "if mode == \"keep-all\":\n",
    "    keep_mask = pd.Series(True, index=org_train.index)\n",
    "\n",
    "# org_train contains the original feature columns from features_org (in Simson)\n",
    "# features_org contains unprocessed features, for me X_train at beginning ???\n",
    "# For keep-all, creates a boolean Series (keep_mask) of all True, so no rows are removed.\n",
    "\n",
    "elif mode == \"drop-non-german\":\n",
    "    keep_mask = org_train[\"maxdeutsch1\"] == 1 # ??? what about missing values?\n",
    "\n",
    "else:\n",
    "    raise ValueError(f\"Unsupported mode for exclude_subgroups: {mode}\")\n"
   ]
  },
  {
   "cell_type": "code",
   "execution_count": 38,
   "id": "71651440",
   "metadata": {
    "execution": {
     "iopub.execute_input": "2025-07-30T21:37:03.896173Z",
     "iopub.status.busy": "2025-07-30T21:37:03.895399Z",
     "iopub.status.idle": "2025-07-30T21:37:03.903968Z",
     "shell.execute_reply": "2025-07-30T21:37:03.902979Z"
    },
    "papermill": {
     "duration": 0.035553,
     "end_time": "2025-07-30T21:37:03.905747",
     "exception": false,
     "start_time": "2025-07-30T21:37:03.870194",
     "status": "completed"
    },
    "tags": []
   },
   "outputs": [],
   "source": [
    "n_drop = (~keep_mask).sum() # Calculates how many rows are set to be dropped\n",
    "if n_drop > 0:\n",
    "    pct = n_drop / len(keep_mask) * 100\n",
    "    print(f\"Dropping {n_drop} rows ({pct:.2f}%) where mode='{mode}'\")"
   ]
  },
  {
   "cell_type": "code",
   "execution_count": 39,
   "id": "5fb8eee5",
   "metadata": {
    "execution": {
     "iopub.execute_input": "2025-07-30T21:37:03.956148Z",
     "iopub.status.busy": "2025-07-30T21:37:03.955659Z",
     "iopub.status.idle": "2025-07-30T21:37:03.961797Z",
     "shell.execute_reply": "2025-07-30T21:37:03.960933Z"
    },
    "papermill": {
     "duration": 0.032408,
     "end_time": "2025-07-30T21:37:03.963661",
     "exception": false,
     "start_time": "2025-07-30T21:37:03.931253",
     "status": "completed"
    },
    "tags": []
   },
   "outputs": [],
   "source": [
    "X_train = X_train[keep_mask]"
   ]
  },
  {
   "cell_type": "code",
   "execution_count": 40,
   "id": "b202bb3a",
   "metadata": {
    "execution": {
     "iopub.execute_input": "2025-07-30T21:37:04.013336Z",
     "iopub.status.busy": "2025-07-30T21:37:04.012327Z",
     "iopub.status.idle": "2025-07-30T21:37:04.022799Z",
     "shell.execute_reply": "2025-07-30T21:37:04.021339Z"
    },
    "papermill": {
     "duration": 0.037682,
     "end_time": "2025-07-30T21:37:04.024765",
     "exception": false,
     "start_time": "2025-07-30T21:37:03.987083",
     "status": "completed"
    },
    "tags": []
   },
   "outputs": [],
   "source": [
    "y_train = y_train[keep_mask]"
   ]
  },
  {
   "cell_type": "markdown",
   "id": "493e2ac3",
   "metadata": {
    "papermill": {
     "duration": 0.012446,
     "end_time": "2025-07-30T21:37:04.055787",
     "exception": false,
     "start_time": "2025-07-30T21:37:04.043341",
     "status": "completed"
    },
    "tags": []
   },
   "source": [
    "# Model Training"
   ]
  },
  {
   "cell_type": "code",
   "execution_count": 41,
   "id": "679e1268",
   "metadata": {
    "execution": {
     "iopub.execute_input": "2025-07-30T21:37:04.081101Z",
     "iopub.status.busy": "2025-07-30T21:37:04.080748Z",
     "iopub.status.idle": "2025-07-30T21:37:04.161796Z",
     "shell.execute_reply": "2025-07-30T21:37:04.161065Z"
    },
    "papermill": {
     "duration": 0.095505,
     "end_time": "2025-07-30T21:37:04.163251",
     "exception": false,
     "start_time": "2025-07-30T21:37:04.067746",
     "status": "completed"
    },
    "tags": []
   },
   "outputs": [],
   "source": [
    "from sklearn.linear_model import LogisticRegression\n",
    "from sklearn.ensemble import GradientBoostingClassifier, RandomForestClassifier\n",
    "\n",
    "if (universe[\"model\"] == \"logreg\"):\n",
    "    model = LogisticRegression() #penalty=\"none\") #, solver=\"newton-cg\", max_iter=1) # include random_state=19 ?\n",
    "elif (universe[\"model\"] == \"penalized_logreg\"):\n",
    "    model = LogisticRegression(penalty=\"l2\", C=1.0) #, solver=\"newton-cg\", max_iter=1)\n",
    "elif (universe[\"model\"] == \"rf\"):\n",
    "    model = RandomForestClassifier(n_estimators=100, n_jobs=-1)\n",
    "elif (universe[\"model\"] == \"gbm\"):\n",
    "    model = GradientBoostingClassifier()\n",
    "elif (universe[\"model\"] == \"elasticnet\"):\n",
    "    model = LogisticRegression(penalty = 'elasticnet', solver = 'saga', l1_ratio = 0.5, max_iter=5000) # which solver to use?\n",
    "else:\n",
    "    raise \"Unsupported universe.model\""
   ]
  },
  {
   "cell_type": "code",
   "execution_count": 42,
   "id": "0cc8f744",
   "metadata": {
    "execution": {
     "iopub.execute_input": "2025-07-30T21:37:04.189210Z",
     "iopub.status.busy": "2025-07-30T21:37:04.188701Z",
     "iopub.status.idle": "2025-07-30T21:37:04.194041Z",
     "shell.execute_reply": "2025-07-30T21:37:04.193220Z"
    },
    "papermill": {
     "duration": 0.019444,
     "end_time": "2025-07-30T21:37:04.195420",
     "exception": false,
     "start_time": "2025-07-30T21:37:04.175976",
     "status": "completed"
    },
    "tags": []
   },
   "outputs": [],
   "source": [
    "import numpy as np\n",
    "from sklearn.pipeline import Pipeline\n",
    "from sklearn.preprocessing import StandardScaler\n",
    "\n",
    "model = Pipeline([\n",
    "    #(\"continuous_processor\", continuous_processor),\n",
    "    #(\"categorical_preprocessor\", categorical_preprocessor),\n",
    "    (\"scale\", StandardScaler() if universe[\"scale\"] == \"scale\" else None), \n",
    "    (\"model\", model),\n",
    "])"
   ]
  },
  {
   "cell_type": "code",
   "execution_count": 43,
   "id": "9442c04d",
   "metadata": {
    "execution": {
     "iopub.execute_input": "2025-07-30T21:37:04.221434Z",
     "iopub.status.busy": "2025-07-30T21:37:04.220944Z",
     "iopub.status.idle": "2025-07-30T21:37:08.560871Z",
     "shell.execute_reply": "2025-07-30T21:37:08.559742Z"
    },
    "papermill": {
     "duration": 4.354076,
     "end_time": "2025-07-30T21:37:08.562473",
     "exception": false,
     "start_time": "2025-07-30T21:37:04.208397",
     "status": "completed"
    },
    "tags": []
   },
   "outputs": [
    {
     "data": {
      "text/html": [
       "<style>#sk-container-id-1 {color: black;background-color: white;}#sk-container-id-1 pre{padding: 0;}#sk-container-id-1 div.sk-toggleable {background-color: white;}#sk-container-id-1 label.sk-toggleable__label {cursor: pointer;display: block;width: 100%;margin-bottom: 0;padding: 0.3em;box-sizing: border-box;text-align: center;}#sk-container-id-1 label.sk-toggleable__label-arrow:before {content: \"▸\";float: left;margin-right: 0.25em;color: #696969;}#sk-container-id-1 label.sk-toggleable__label-arrow:hover:before {color: black;}#sk-container-id-1 div.sk-estimator:hover label.sk-toggleable__label-arrow:before {color: black;}#sk-container-id-1 div.sk-toggleable__content {max-height: 0;max-width: 0;overflow: hidden;text-align: left;background-color: #f0f8ff;}#sk-container-id-1 div.sk-toggleable__content pre {margin: 0.2em;color: black;border-radius: 0.25em;background-color: #f0f8ff;}#sk-container-id-1 input.sk-toggleable__control:checked~div.sk-toggleable__content {max-height: 200px;max-width: 100%;overflow: auto;}#sk-container-id-1 input.sk-toggleable__control:checked~label.sk-toggleable__label-arrow:before {content: \"▾\";}#sk-container-id-1 div.sk-estimator input.sk-toggleable__control:checked~label.sk-toggleable__label {background-color: #d4ebff;}#sk-container-id-1 div.sk-label input.sk-toggleable__control:checked~label.sk-toggleable__label {background-color: #d4ebff;}#sk-container-id-1 input.sk-hidden--visually {border: 0;clip: rect(1px 1px 1px 1px);clip: rect(1px, 1px, 1px, 1px);height: 1px;margin: -1px;overflow: hidden;padding: 0;position: absolute;width: 1px;}#sk-container-id-1 div.sk-estimator {font-family: monospace;background-color: #f0f8ff;border: 1px dotted black;border-radius: 0.25em;box-sizing: border-box;margin-bottom: 0.5em;}#sk-container-id-1 div.sk-estimator:hover {background-color: #d4ebff;}#sk-container-id-1 div.sk-parallel-item::after {content: \"\";width: 100%;border-bottom: 1px solid gray;flex-grow: 1;}#sk-container-id-1 div.sk-label:hover label.sk-toggleable__label {background-color: #d4ebff;}#sk-container-id-1 div.sk-serial::before {content: \"\";position: absolute;border-left: 1px solid gray;box-sizing: border-box;top: 0;bottom: 0;left: 50%;z-index: 0;}#sk-container-id-1 div.sk-serial {display: flex;flex-direction: column;align-items: center;background-color: white;padding-right: 0.2em;padding-left: 0.2em;position: relative;}#sk-container-id-1 div.sk-item {position: relative;z-index: 1;}#sk-container-id-1 div.sk-parallel {display: flex;align-items: stretch;justify-content: center;background-color: white;position: relative;}#sk-container-id-1 div.sk-item::before, #sk-container-id-1 div.sk-parallel-item::before {content: \"\";position: absolute;border-left: 1px solid gray;box-sizing: border-box;top: 0;bottom: 0;left: 50%;z-index: -1;}#sk-container-id-1 div.sk-parallel-item {display: flex;flex-direction: column;z-index: 1;position: relative;background-color: white;}#sk-container-id-1 div.sk-parallel-item:first-child::after {align-self: flex-end;width: 50%;}#sk-container-id-1 div.sk-parallel-item:last-child::after {align-self: flex-start;width: 50%;}#sk-container-id-1 div.sk-parallel-item:only-child::after {width: 0;}#sk-container-id-1 div.sk-dashed-wrapped {border: 1px dashed gray;margin: 0 0.4em 0.5em 0.4em;box-sizing: border-box;padding-bottom: 0.4em;background-color: white;}#sk-container-id-1 div.sk-label label {font-family: monospace;font-weight: bold;display: inline-block;line-height: 1.2em;}#sk-container-id-1 div.sk-label-container {text-align: center;}#sk-container-id-1 div.sk-container {/* jupyter's `normalize.less` sets `[hidden] { display: none; }` but bootstrap.min.css set `[hidden] { display: none !important; }` so we also need the `!important` here to be able to override the default hidden behavior on the sphinx rendered scikit-learn.org. See: https://github.com/scikit-learn/scikit-learn/issues/21755 */display: inline-block !important;position: relative;}#sk-container-id-1 div.sk-text-repr-fallback {display: none;}</style><div id=\"sk-container-id-1\" class=\"sk-top-container\"><div class=\"sk-text-repr-fallback\"><pre>Pipeline(steps=[(&#x27;scale&#x27;, StandardScaler()),\n",
       "                (&#x27;model&#x27;,\n",
       "                 LogisticRegression(l1_ratio=0.5, max_iter=5000,\n",
       "                                    penalty=&#x27;elasticnet&#x27;, solver=&#x27;saga&#x27;))])</pre><b>In a Jupyter environment, please rerun this cell to show the HTML representation or trust the notebook. <br />On GitHub, the HTML representation is unable to render, please try loading this page with nbviewer.org.</b></div><div class=\"sk-container\" hidden><div class=\"sk-item sk-dashed-wrapped\"><div class=\"sk-label-container\"><div class=\"sk-label sk-toggleable\"><input class=\"sk-toggleable__control sk-hidden--visually\" id=\"sk-estimator-id-1\" type=\"checkbox\" ><label for=\"sk-estimator-id-1\" class=\"sk-toggleable__label sk-toggleable__label-arrow\">Pipeline</label><div class=\"sk-toggleable__content\"><pre>Pipeline(steps=[(&#x27;scale&#x27;, StandardScaler()),\n",
       "                (&#x27;model&#x27;,\n",
       "                 LogisticRegression(l1_ratio=0.5, max_iter=5000,\n",
       "                                    penalty=&#x27;elasticnet&#x27;, solver=&#x27;saga&#x27;))])</pre></div></div></div><div class=\"sk-serial\"><div class=\"sk-item\"><div class=\"sk-estimator sk-toggleable\"><input class=\"sk-toggleable__control sk-hidden--visually\" id=\"sk-estimator-id-2\" type=\"checkbox\" ><label for=\"sk-estimator-id-2\" class=\"sk-toggleable__label sk-toggleable__label-arrow\">StandardScaler</label><div class=\"sk-toggleable__content\"><pre>StandardScaler()</pre></div></div></div><div class=\"sk-item\"><div class=\"sk-estimator sk-toggleable\"><input class=\"sk-toggleable__control sk-hidden--visually\" id=\"sk-estimator-id-3\" type=\"checkbox\" ><label for=\"sk-estimator-id-3\" class=\"sk-toggleable__label sk-toggleable__label-arrow\">LogisticRegression</label><div class=\"sk-toggleable__content\"><pre>LogisticRegression(l1_ratio=0.5, max_iter=5000, penalty=&#x27;elasticnet&#x27;,\n",
       "                   solver=&#x27;saga&#x27;)</pre></div></div></div></div></div></div></div>"
      ],
      "text/plain": [
       "Pipeline(steps=[('scale', StandardScaler()),\n",
       "                ('model',\n",
       "                 LogisticRegression(l1_ratio=0.5, max_iter=5000,\n",
       "                                    penalty='elasticnet', solver='saga'))])"
      ]
     },
     "execution_count": 43,
     "metadata": {},
     "output_type": "execute_result"
    }
   ],
   "source": [
    "model.fit(X_train, y_train.values.ravel())"
   ]
  },
  {
   "cell_type": "code",
   "execution_count": 44,
   "id": "af59f8c0",
   "metadata": {
    "execution": {
     "iopub.execute_input": "2025-07-30T21:37:08.616607Z",
     "iopub.status.busy": "2025-07-30T21:37:08.616000Z",
     "iopub.status.idle": "2025-07-30T21:37:08.622344Z",
     "shell.execute_reply": "2025-07-30T21:37:08.621372Z"
    },
    "papermill": {
     "duration": 0.033111,
     "end_time": "2025-07-30T21:37:08.623918",
     "exception": false,
     "start_time": "2025-07-30T21:37:08.590807",
     "status": "completed"
    },
    "tags": []
   },
   "outputs": [],
   "source": [
    "from fairness_multiverse.universe import predict_w_threshold"
   ]
  },
  {
   "cell_type": "code",
   "execution_count": 45,
   "id": "a7cf2e16",
   "metadata": {
    "execution": {
     "iopub.execute_input": "2025-07-30T21:37:08.672135Z",
     "iopub.status.busy": "2025-07-30T21:37:08.671187Z",
     "iopub.status.idle": "2025-07-30T21:37:08.863275Z",
     "shell.execute_reply": "2025-07-30T21:37:08.862353Z"
    },
    "papermill": {
     "duration": 0.218976,
     "end_time": "2025-07-30T21:37:08.865251",
     "exception": false,
     "start_time": "2025-07-30T21:37:08.646275",
     "status": "completed"
    },
    "tags": []
   },
   "outputs": [
    {
     "data": {
      "text/plain": [
       "0.8243228179690113"
      ]
     },
     "execution_count": 45,
     "metadata": {},
     "output_type": "execute_result"
    }
   ],
   "source": [
    "probs_test = model.predict_proba(X_test)\n",
    "\n",
    "'''\n",
    "Below code returns a boolean array (or binary 0/1 array depending on how it’s used) where each element \n",
    "is True if the probability of class 1 is greater than or equal to the threshold, and False otherwise.\n",
    "'''\n",
    "y_pred_default = predict_w_threshold(probs_test, 0.5)\n",
    "\n",
    "from sklearn.metrics import accuracy_score\n",
    "\n",
    "# Naive prediction\n",
    "accuracy_score(y_true = y_true, y_pred = y_pred_default)"
   ]
  },
  {
   "cell_type": "code",
   "execution_count": 46,
   "id": "081964c3",
   "metadata": {
    "execution": {
     "iopub.execute_input": "2025-07-30T21:37:08.945421Z",
     "iopub.status.busy": "2025-07-30T21:37:08.944360Z",
     "iopub.status.idle": "2025-07-30T21:37:09.194004Z",
     "shell.execute_reply": "2025-07-30T21:37:09.192923Z"
    },
    "papermill": {
     "duration": 0.285659,
     "end_time": "2025-07-30T21:37:09.197417",
     "exception": false,
     "start_time": "2025-07-30T21:37:08.911758",
     "status": "completed"
    },
    "tags": []
   },
   "outputs": [
    {
     "data": {
      "text/plain": [
       "array([0, 0, 0, ..., 0, 0, 0])"
      ]
     },
     "execution_count": 46,
     "metadata": {},
     "output_type": "execute_result"
    }
   ],
   "source": [
    "model.predict(X_test)"
   ]
  },
  {
   "cell_type": "markdown",
   "id": "56c9705b",
   "metadata": {
    "papermill": {
     "duration": 0.025952,
     "end_time": "2025-07-30T21:37:09.244774",
     "exception": false,
     "start_time": "2025-07-30T21:37:09.218822",
     "status": "completed"
    },
    "tags": []
   },
   "source": [
    "# Conformal Prediction"
   ]
  },
  {
   "cell_type": "code",
   "execution_count": 47,
   "id": "160ec6ff",
   "metadata": {
    "execution": {
     "iopub.execute_input": "2025-07-30T21:37:09.299536Z",
     "iopub.status.busy": "2025-07-30T21:37:09.298820Z",
     "iopub.status.idle": "2025-07-30T21:37:09.304072Z",
     "shell.execute_reply": "2025-07-30T21:37:09.303030Z"
    },
    "papermill": {
     "duration": 0.035047,
     "end_time": "2025-07-30T21:37:09.306132",
     "exception": false,
     "start_time": "2025-07-30T21:37:09.271085",
     "status": "completed"
    },
    "tags": []
   },
   "outputs": [],
   "source": [
    "# Miscoverage level for conformal prediction (10% allowed error rate => 90% target coverage)\n",
    "alpha = 0.1"
   ]
  },
  {
   "cell_type": "code",
   "execution_count": 48,
   "id": "eadf4555-3dd3-440e-8e35-f82a4ad9f855",
   "metadata": {
    "execution": {
     "iopub.execute_input": "2025-07-30T21:37:09.361062Z",
     "iopub.status.busy": "2025-07-30T21:37:09.360343Z",
     "iopub.status.idle": "2025-07-30T21:37:09.543933Z",
     "shell.execute_reply": "2025-07-30T21:37:09.542869Z"
    },
    "papermill": {
     "duration": 0.213069,
     "end_time": "2025-07-30T21:37:09.546159",
     "exception": false,
     "start_time": "2025-07-30T21:37:09.333090",
     "status": "completed"
    },
    "tags": []
   },
   "outputs": [],
   "source": [
    "probs_calib = model.predict_proba(X_calib)"
   ]
  },
  {
   "cell_type": "code",
   "execution_count": 49,
   "id": "2ed93547-6d5d-4983-9b36-1ecb300da49a",
   "metadata": {
    "execution": {
     "iopub.execute_input": "2025-07-30T21:37:09.606032Z",
     "iopub.status.busy": "2025-07-30T21:37:09.605467Z",
     "iopub.status.idle": "2025-07-30T21:37:09.610664Z",
     "shell.execute_reply": "2025-07-30T21:37:09.609882Z"
    },
    "papermill": {
     "duration": 0.035005,
     "end_time": "2025-07-30T21:37:09.612082",
     "exception": false,
     "start_time": "2025-07-30T21:37:09.577077",
     "status": "completed"
    },
    "tags": []
   },
   "outputs": [],
   "source": [
    "y_calib = y_calib.values.ravel().astype(int)"
   ]
  },
  {
   "cell_type": "code",
   "execution_count": 50,
   "id": "65d1320d-f588-4b38-9072-62af1ae97f7d",
   "metadata": {
    "execution": {
     "iopub.execute_input": "2025-07-30T21:37:09.638738Z",
     "iopub.status.busy": "2025-07-30T21:37:09.638398Z",
     "iopub.status.idle": "2025-07-30T21:37:09.644301Z",
     "shell.execute_reply": "2025-07-30T21:37:09.643515Z"
    },
    "papermill": {
     "duration": 0.020139,
     "end_time": "2025-07-30T21:37:09.645711",
     "exception": false,
     "start_time": "2025-07-30T21:37:09.625572",
     "status": "completed"
    },
    "tags": []
   },
   "outputs": [],
   "source": [
    "from fairness_multiverse.conformal import compute_nc_scores\n",
    "\n",
    "# Compute nonconformity scores on calibration set (1 - probability of true class)\n",
    "nc_scores = compute_nc_scores(probs_calib, y_calib)"
   ]
  },
  {
   "cell_type": "code",
   "execution_count": 51,
   "id": "df3b8ca3-53b7-43d5-9667-7c85da7aeda2",
   "metadata": {
    "execution": {
     "iopub.execute_input": "2025-07-30T21:37:09.678728Z",
     "iopub.status.busy": "2025-07-30T21:37:09.678165Z",
     "iopub.status.idle": "2025-07-30T21:37:09.684120Z",
     "shell.execute_reply": "2025-07-30T21:37:09.683344Z"
    },
    "papermill": {
     "duration": 0.021968,
     "end_time": "2025-07-30T21:37:09.685404",
     "exception": false,
     "start_time": "2025-07-30T21:37:09.663436",
     "status": "completed"
    },
    "tags": []
   },
   "outputs": [],
   "source": [
    "from fairness_multiverse.conformal import find_threshold\n",
    "\n",
    "# Find conformal threshold q_hat for the given alpha (split conformal method)\n",
    "q_hat = find_threshold(nc_scores, alpha)"
   ]
  },
  {
   "cell_type": "code",
   "execution_count": 52,
   "id": "4d29e6c1-0ef6-4aa4-b8fe-4fe79b0d033a",
   "metadata": {
    "execution": {
     "iopub.execute_input": "2025-07-30T21:37:09.712735Z",
     "iopub.status.busy": "2025-07-30T21:37:09.712218Z",
     "iopub.status.idle": "2025-07-30T21:37:09.721724Z",
     "shell.execute_reply": "2025-07-30T21:37:09.720552Z"
    },
    "papermill": {
     "duration": 0.024895,
     "end_time": "2025-07-30T21:37:09.724060",
     "exception": false,
     "start_time": "2025-07-30T21:37:09.699165",
     "status": "completed"
    },
    "tags": []
   },
   "outputs": [
    {
     "data": {
      "text/plain": [
       "0.796143073372699"
      ]
     },
     "execution_count": 52,
     "metadata": {},
     "output_type": "execute_result"
    }
   ],
   "source": [
    "q_hat"
   ]
  },
  {
   "cell_type": "code",
   "execution_count": 53,
   "id": "92460794-cdac-4be2-ba28-f28c0515a6fb",
   "metadata": {
    "execution": {
     "iopub.execute_input": "2025-07-30T21:37:09.782196Z",
     "iopub.status.busy": "2025-07-30T21:37:09.781697Z",
     "iopub.status.idle": "2025-07-30T21:37:10.660802Z",
     "shell.execute_reply": "2025-07-30T21:37:10.659688Z"
    },
    "papermill": {
     "duration": 0.910609,
     "end_time": "2025-07-30T21:37:10.662734",
     "exception": false,
     "start_time": "2025-07-30T21:37:09.752125",
     "status": "completed"
    },
    "tags": []
   },
   "outputs": [],
   "source": [
    "from fairness_multiverse.conformal import predict_conformal_sets\n",
    "\n",
    "# Generate prediction sets for each test example\n",
    "pred_sets = predict_conformal_sets(model, X_test, q_hat)"
   ]
  },
  {
   "cell_type": "code",
   "execution_count": 54,
   "id": "d90c9a65-e6db-4f5d-80cd-e68fb7e46829",
   "metadata": {
    "execution": {
     "iopub.execute_input": "2025-07-30T21:37:10.711399Z",
     "iopub.status.busy": "2025-07-30T21:37:10.710906Z",
     "iopub.status.idle": "2025-07-30T21:37:10.716619Z",
     "shell.execute_reply": "2025-07-30T21:37:10.715556Z"
    },
    "papermill": {
     "duration": 0.031976,
     "end_time": "2025-07-30T21:37:10.719694",
     "exception": false,
     "start_time": "2025-07-30T21:37:10.687718",
     "status": "completed"
    },
    "tags": []
   },
   "outputs": [],
   "source": [
    "y_true = y_true.squeeze()"
   ]
  },
  {
   "cell_type": "code",
   "execution_count": 55,
   "id": "3a58a54a-1e68-46b9-927a-df01f18aebc8",
   "metadata": {
    "execution": {
     "iopub.execute_input": "2025-07-30T21:37:10.776107Z",
     "iopub.status.busy": "2025-07-30T21:37:10.774436Z",
     "iopub.status.idle": "2025-07-30T21:37:11.554395Z",
     "shell.execute_reply": "2025-07-30T21:37:11.553487Z"
    },
    "papermill": {
     "duration": 0.80997,
     "end_time": "2025-07-30T21:37:11.556319",
     "exception": false,
     "start_time": "2025-07-30T21:37:10.746349",
     "status": "completed"
    },
    "tags": []
   },
   "outputs": [],
   "source": [
    "from fairness_multiverse.conformal import evaluate_sets\n",
    "\n",
    "# Evaluate coverage and average set size on test data\n",
    "metrics = evaluate_sets(pred_sets, y_true)"
   ]
  },
  {
   "cell_type": "markdown",
   "id": "2b569c12-9aaa-4c88-98c9-bbcd0cf3ebb8",
   "metadata": {
    "papermill": {
     "duration": 0.012323,
     "end_time": "2025-07-30T21:37:11.585386",
     "exception": false,
     "start_time": "2025-07-30T21:37:11.573063",
     "status": "completed"
    },
    "tags": []
   },
   "source": [
    "# CP Metrics"
   ]
  },
  {
   "cell_type": "code",
   "execution_count": 56,
   "id": "5ce0a5cb-201f-45a0-ade5-94c7f0bd6095",
   "metadata": {
    "execution": {
     "iopub.execute_input": "2025-07-30T21:37:11.615926Z",
     "iopub.status.busy": "2025-07-30T21:37:11.615380Z",
     "iopub.status.idle": "2025-07-30T21:37:11.622257Z",
     "shell.execute_reply": "2025-07-30T21:37:11.621479Z"
    },
    "papermill": {
     "duration": 0.025179,
     "end_time": "2025-07-30T21:37:11.623596",
     "exception": false,
     "start_time": "2025-07-30T21:37:11.598417",
     "status": "completed"
    },
    "tags": []
   },
   "outputs": [
    {
     "data": {
      "text/plain": [
       "{'coverage': 0.9094192397726006, 'avg_size': 1.240965332738825}"
      ]
     },
     "execution_count": 56,
     "metadata": {},
     "output_type": "execute_result"
    }
   ],
   "source": [
    "metrics"
   ]
  },
  {
   "cell_type": "code",
   "execution_count": 57,
   "id": "9b9a838d-31c9-430b-ae14-12baee460d17",
   "metadata": {
    "execution": {
     "iopub.execute_input": "2025-07-30T21:37:11.652402Z",
     "iopub.status.busy": "2025-07-30T21:37:11.651932Z",
     "iopub.status.idle": "2025-07-30T21:37:11.657530Z",
     "shell.execute_reply": "2025-07-30T21:37:11.656525Z"
    },
    "papermill": {
     "duration": 0.021796,
     "end_time": "2025-07-30T21:37:11.659372",
     "exception": false,
     "start_time": "2025-07-30T21:37:11.637576",
     "status": "completed"
    },
    "tags": []
   },
   "outputs": [],
   "source": [
    "example_universe = universe.copy()\n",
    "universe_training_year = example_universe.get(\"training_year\")\n",
    "universe_training_size = example_universe.get(\"training_size\")\n",
    "universe_scale = example_universe.get(\"scale\")\n",
    "universe_model = example_universe.get(\"model\")\n",
    "universe_exclude_features = example_universe.get(\"exclude_features\")\n",
    "universe_exclude_subgroups = example_universe.get(\"exclude_subgroups\")"
   ]
  },
  {
   "cell_type": "code",
   "execution_count": 58,
   "id": "f4b6a8ac-9dc0-4245-8a91-5b3b5999c4f9",
   "metadata": {
    "execution": {
     "iopub.execute_input": "2025-07-30T21:37:11.715820Z",
     "iopub.status.busy": "2025-07-30T21:37:11.715141Z",
     "iopub.status.idle": "2025-07-30T21:37:11.722219Z",
     "shell.execute_reply": "2025-07-30T21:37:11.721291Z"
    },
    "papermill": {
     "duration": 0.037101,
     "end_time": "2025-07-30T21:37:11.724141",
     "exception": false,
     "start_time": "2025-07-30T21:37:11.687040",
     "status": "completed"
    },
    "tags": []
   },
   "outputs": [],
   "source": [
    "cp_metrics_dict = {\n",
    "    \"universe_id\": [universe_id],\n",
    "    \"universe_training_year\": [universe_training_year],\n",
    "    \"universe_training_size\": [universe_training_size],\n",
    "    \"universe_scale\": [universe_scale],\n",
    "    \"universe_model\": [universe_model],\n",
    "    \"universe_exclude_features\": [universe_exclude_features],\n",
    "    \"universe_exclude_subgroups\": [universe_exclude_subgroups],\n",
    "    \"q_hat\": [q_hat],\n",
    "    \"coverage\": [metrics[\"coverage\"]],\n",
    "    \"avg_size\": [metrics[\"avg_size\"]],\n",
    "}"
   ]
  },
  {
   "cell_type": "code",
   "execution_count": 59,
   "id": "908acbb1-0371-4915-85ca-3fa520d2efe2",
   "metadata": {
    "execution": {
     "iopub.execute_input": "2025-07-30T21:37:11.780083Z",
     "iopub.status.busy": "2025-07-30T21:37:11.779404Z",
     "iopub.status.idle": "2025-07-30T21:37:11.786948Z",
     "shell.execute_reply": "2025-07-30T21:37:11.785972Z"
    },
    "papermill": {
     "duration": 0.036296,
     "end_time": "2025-07-30T21:37:11.788612",
     "exception": false,
     "start_time": "2025-07-30T21:37:11.752316",
     "status": "completed"
    },
    "tags": []
   },
   "outputs": [
    {
     "data": {
      "text/plain": [
       "{'universe_id': ['acfff917cc222a719f5a2c0a239ff804'],\n",
       " 'universe_training_year': ['2012_14'],\n",
       " 'universe_training_size': ['1k'],\n",
       " 'universe_scale': ['scale'],\n",
       " 'universe_model': ['elasticnet'],\n",
       " 'universe_exclude_features': ['none'],\n",
       " 'universe_exclude_subgroups': ['keep-all'],\n",
       " 'q_hat': [0.796143073372699],\n",
       " 'coverage': [0.9094192397726006],\n",
       " 'avg_size': [1.240965332738825]}"
      ]
     },
     "execution_count": 59,
     "metadata": {},
     "output_type": "execute_result"
    }
   ],
   "source": [
    "cp_metrics_dict"
   ]
  },
  {
   "cell_type": "code",
   "execution_count": 60,
   "id": "33007efc-14e9-4ec6-97ac-56a455c82265",
   "metadata": {
    "execution": {
     "iopub.execute_input": "2025-07-30T21:37:11.843323Z",
     "iopub.status.busy": "2025-07-30T21:37:11.842695Z",
     "iopub.status.idle": "2025-07-30T21:37:11.849319Z",
     "shell.execute_reply": "2025-07-30T21:37:11.848372Z"
    },
    "papermill": {
     "duration": 0.035678,
     "end_time": "2025-07-30T21:37:11.851206",
     "exception": false,
     "start_time": "2025-07-30T21:37:11.815528",
     "status": "completed"
    },
    "tags": []
   },
   "outputs": [],
   "source": [
    "cp_metrics_df = pd.DataFrame(cp_metrics_dict)"
   ]
  },
  {
   "cell_type": "code",
   "execution_count": 61,
   "id": "db12611b-57b2-4910-b9d0-355adfd6e7bf",
   "metadata": {
    "execution": {
     "iopub.execute_input": "2025-07-30T21:37:11.906646Z",
     "iopub.status.busy": "2025-07-30T21:37:11.905752Z",
     "iopub.status.idle": "2025-07-30T21:37:11.923933Z",
     "shell.execute_reply": "2025-07-30T21:37:11.922870Z"
    },
    "papermill": {
     "duration": 0.047471,
     "end_time": "2025-07-30T21:37:11.925756",
     "exception": false,
     "start_time": "2025-07-30T21:37:11.878285",
     "status": "completed"
    },
    "tags": []
   },
   "outputs": [
    {
     "data": {
      "text/html": [
       "<div>\n",
       "<style scoped>\n",
       "    .dataframe tbody tr th:only-of-type {\n",
       "        vertical-align: middle;\n",
       "    }\n",
       "\n",
       "    .dataframe tbody tr th {\n",
       "        vertical-align: top;\n",
       "    }\n",
       "\n",
       "    .dataframe thead th {\n",
       "        text-align: right;\n",
       "    }\n",
       "</style>\n",
       "<table border=\"1\" class=\"dataframe\">\n",
       "  <thead>\n",
       "    <tr style=\"text-align: right;\">\n",
       "      <th></th>\n",
       "      <th>universe_id</th>\n",
       "      <th>universe_training_year</th>\n",
       "      <th>universe_training_size</th>\n",
       "      <th>universe_scale</th>\n",
       "      <th>universe_model</th>\n",
       "      <th>universe_exclude_features</th>\n",
       "      <th>universe_exclude_subgroups</th>\n",
       "      <th>q_hat</th>\n",
       "      <th>coverage</th>\n",
       "      <th>avg_size</th>\n",
       "    </tr>\n",
       "  </thead>\n",
       "  <tbody>\n",
       "    <tr>\n",
       "      <th>0</th>\n",
       "      <td>acfff917cc222a719f5a2c0a239ff804</td>\n",
       "      <td>2012_14</td>\n",
       "      <td>1k</td>\n",
       "      <td>scale</td>\n",
       "      <td>elasticnet</td>\n",
       "      <td>none</td>\n",
       "      <td>keep-all</td>\n",
       "      <td>0.796143</td>\n",
       "      <td>0.909419</td>\n",
       "      <td>1.240965</td>\n",
       "    </tr>\n",
       "  </tbody>\n",
       "</table>\n",
       "</div>"
      ],
      "text/plain": [
       "                        universe_id universe_training_year  \\\n",
       "0  acfff917cc222a719f5a2c0a239ff804                2012_14   \n",
       "\n",
       "  universe_training_size universe_scale universe_model  \\\n",
       "0                     1k          scale     elasticnet   \n",
       "\n",
       "  universe_exclude_features universe_exclude_subgroups     q_hat  coverage  \\\n",
       "0                      none                   keep-all  0.796143  0.909419   \n",
       "\n",
       "   avg_size  \n",
       "0  1.240965  "
      ]
     },
     "execution_count": 61,
     "metadata": {},
     "output_type": "execute_result"
    }
   ],
   "source": [
    "cp_metrics_df"
   ]
  },
  {
   "cell_type": "code",
   "execution_count": 62,
   "id": "b7fbde55-a0a1-47e4-9af6-fe4a17fa8c61",
   "metadata": {
    "execution": {
     "iopub.execute_input": "2025-07-30T21:37:11.982253Z",
     "iopub.status.busy": "2025-07-30T21:37:11.981778Z",
     "iopub.status.idle": "2025-07-30T21:37:11.986920Z",
     "shell.execute_reply": "2025-07-30T21:37:11.985822Z"
    },
    "papermill": {
     "duration": 0.035187,
     "end_time": "2025-07-30T21:37:11.988806",
     "exception": false,
     "start_time": "2025-07-30T21:37:11.953619",
     "status": "completed"
    },
    "tags": []
   },
   "outputs": [],
   "source": [
    "# Conditional Coverage & looking at subgroups"
   ]
  },
  {
   "cell_type": "code",
   "execution_count": 63,
   "id": "027ae886-68dd-4141-96c7-805a5450e1ef",
   "metadata": {
    "execution": {
     "iopub.execute_input": "2025-07-30T21:37:12.045341Z",
     "iopub.status.busy": "2025-07-30T21:37:12.044677Z",
     "iopub.status.idle": "2025-07-30T21:37:12.321790Z",
     "shell.execute_reply": "2025-07-30T21:37:12.320900Z"
    },
    "papermill": {
     "duration": 0.307029,
     "end_time": "2025-07-30T21:37:12.323582",
     "exception": false,
     "start_time": "2025-07-30T21:37:12.016553",
     "status": "completed"
    },
    "tags": []
   },
   "outputs": [],
   "source": [
    "from fairness_multiverse.conformal import build_cp_groups\n",
    "\n",
    "cp_groups_df = build_cp_groups(pred_sets, y_true, X_test.index, org_test)\n",
    "#needs universe_id and setting"
   ]
  },
  {
   "cell_type": "code",
   "execution_count": 64,
   "id": "01d5802c-663a-4d1f-9d69-e036faaffbf7",
   "metadata": {
    "execution": {
     "iopub.execute_input": "2025-07-30T21:37:12.375143Z",
     "iopub.status.busy": "2025-07-30T21:37:12.374529Z",
     "iopub.status.idle": "2025-07-30T21:37:12.379412Z",
     "shell.execute_reply": "2025-07-30T21:37:12.378540Z"
    },
    "papermill": {
     "duration": 0.032369,
     "end_time": "2025-07-30T21:37:12.381150",
     "exception": false,
     "start_time": "2025-07-30T21:37:12.348781",
     "status": "completed"
    },
    "tags": []
   },
   "outputs": [],
   "source": [
    "#delete\n",
    "#cp_groups_df"
   ]
  },
  {
   "cell_type": "code",
   "execution_count": 65,
   "id": "fa424af1-d1eb-443d-b717-2d279ada8408",
   "metadata": {
    "execution": {
     "iopub.execute_input": "2025-07-30T21:37:12.432869Z",
     "iopub.status.busy": "2025-07-30T21:37:12.432418Z",
     "iopub.status.idle": "2025-07-30T21:37:12.437698Z",
     "shell.execute_reply": "2025-07-30T21:37:12.436734Z"
    },
    "papermill": {
     "duration": 0.032353,
     "end_time": "2025-07-30T21:37:12.439361",
     "exception": false,
     "start_time": "2025-07-30T21:37:12.407008",
     "status": "completed"
    },
    "tags": []
   },
   "outputs": [],
   "source": [
    "#delete\n",
    "#percentage = (cp_groups_df['nongerman_female'] == 1).mean() * 100\n",
    "#print(percentage)\n"
   ]
  },
  {
   "cell_type": "code",
   "execution_count": 66,
   "id": "6cbdab96-b2b2-45af-ad54-d0516db2e28d",
   "metadata": {
    "execution": {
     "iopub.execute_input": "2025-07-30T21:37:12.490542Z",
     "iopub.status.busy": "2025-07-30T21:37:12.490066Z",
     "iopub.status.idle": "2025-07-30T21:37:14.113530Z",
     "shell.execute_reply": "2025-07-30T21:37:14.112674Z"
    },
    "papermill": {
     "duration": 1.650127,
     "end_time": "2025-07-30T21:37:14.115324",
     "exception": false,
     "start_time": "2025-07-30T21:37:12.465197",
     "status": "completed"
    },
    "tags": []
   },
   "outputs": [],
   "source": [
    "# Define covered = 1 if true_label is in the predicted set\n",
    "cp_groups_df['covered'] = cp_groups_df.apply(\n",
    "    lambda r: int(r['true_label'] in r['pred_set']),\n",
    "    axis=1\n",
    ")"
   ]
  },
  {
   "cell_type": "code",
   "execution_count": 67,
   "id": "338ff529-1a6b-4b87-a931-8e4788d52aad",
   "metadata": {
    "execution": {
     "iopub.execute_input": "2025-07-30T21:37:14.164608Z",
     "iopub.status.busy": "2025-07-30T21:37:14.163926Z",
     "iopub.status.idle": "2025-07-30T21:37:14.169143Z",
     "shell.execute_reply": "2025-07-30T21:37:14.168241Z"
    },
    "papermill": {
     "duration": 0.030893,
     "end_time": "2025-07-30T21:37:14.170723",
     "exception": false,
     "start_time": "2025-07-30T21:37:14.139830",
     "status": "completed"
    },
    "tags": []
   },
   "outputs": [],
   "source": [
    "#cp_groups_df"
   ]
  },
  {
   "cell_type": "code",
   "execution_count": 68,
   "id": "90032e27-66df-4540-9169-4e89cfbaa758",
   "metadata": {
    "execution": {
     "iopub.execute_input": "2025-07-30T21:37:14.220131Z",
     "iopub.status.busy": "2025-07-30T21:37:14.219475Z",
     "iopub.status.idle": "2025-07-30T21:37:14.231282Z",
     "shell.execute_reply": "2025-07-30T21:37:14.230369Z"
    },
    "papermill": {
     "duration": 0.037922,
     "end_time": "2025-07-30T21:37:14.233030",
     "exception": false,
     "start_time": "2025-07-30T21:37:14.195108",
     "status": "completed"
    },
    "tags": []
   },
   "outputs": [],
   "source": [
    "subgroups = ['frau1','nongerman','nongerman_male','nongerman_female']\n",
    "\n",
    "# Conditional coverage for subgroup==1\n",
    "cond_coverage = {\n",
    "    g: cp_groups_df.loc[cp_groups_df[g]==1, 'covered'].mean()\n",
    "    for g in subgroups\n",
    "}"
   ]
  },
  {
   "cell_type": "code",
   "execution_count": 69,
   "id": "1e348fb1-b9c3-45bc-ba23-f016827a7e0d",
   "metadata": {
    "execution": {
     "iopub.execute_input": "2025-07-30T21:37:14.282086Z",
     "iopub.status.busy": "2025-07-30T21:37:14.281479Z",
     "iopub.status.idle": "2025-07-30T21:37:14.288518Z",
     "shell.execute_reply": "2025-07-30T21:37:14.287524Z"
    },
    "papermill": {
     "duration": 0.032913,
     "end_time": "2025-07-30T21:37:14.290018",
     "exception": false,
     "start_time": "2025-07-30T21:37:14.257105",
     "status": "completed"
    },
    "tags": []
   },
   "outputs": [
    {
     "data": {
      "text/plain": [
       "{'frau1': 0.9024935975198813,\n",
       " 'nongerman': 0.9148374782462246,\n",
       " 'nongerman_male': 0.9327208862469603,\n",
       " 'nongerman_female': 0.8852459016393442}"
      ]
     },
     "execution_count": 69,
     "metadata": {},
     "output_type": "execute_result"
    }
   ],
   "source": [
    "cond_coverage"
   ]
  },
  {
   "cell_type": "code",
   "execution_count": 70,
   "id": "f5093324-c3dd-4d63-bc4c-8d945e5c8bbb",
   "metadata": {
    "execution": {
     "iopub.execute_input": "2025-07-30T21:37:14.339238Z",
     "iopub.status.busy": "2025-07-30T21:37:14.338472Z",
     "iopub.status.idle": "2025-07-30T21:37:14.345351Z",
     "shell.execute_reply": "2025-07-30T21:37:14.344448Z"
    },
    "papermill": {
     "duration": 0.032632,
     "end_time": "2025-07-30T21:37:14.346898",
     "exception": false,
     "start_time": "2025-07-30T21:37:14.314266",
     "status": "completed"
    },
    "tags": []
   },
   "outputs": [],
   "source": [
    "for subgroup, cov in cond_coverage.items():\n",
    "    cp_metrics_df[f\"cov_{subgroup}\"] = cov"
   ]
  },
  {
   "cell_type": "code",
   "execution_count": 71,
   "id": "6e872e10-dbe5-49e8-b554-5030c98ff75d",
   "metadata": {
    "execution": {
     "iopub.execute_input": "2025-07-30T21:37:14.397154Z",
     "iopub.status.busy": "2025-07-30T21:37:14.396529Z",
     "iopub.status.idle": "2025-07-30T21:37:14.414589Z",
     "shell.execute_reply": "2025-07-30T21:37:14.413648Z"
    },
    "papermill": {
     "duration": 0.044607,
     "end_time": "2025-07-30T21:37:14.416298",
     "exception": false,
     "start_time": "2025-07-30T21:37:14.371691",
     "status": "completed"
    },
    "tags": []
   },
   "outputs": [
    {
     "data": {
      "text/html": [
       "<div>\n",
       "<style scoped>\n",
       "    .dataframe tbody tr th:only-of-type {\n",
       "        vertical-align: middle;\n",
       "    }\n",
       "\n",
       "    .dataframe tbody tr th {\n",
       "        vertical-align: top;\n",
       "    }\n",
       "\n",
       "    .dataframe thead th {\n",
       "        text-align: right;\n",
       "    }\n",
       "</style>\n",
       "<table border=\"1\" class=\"dataframe\">\n",
       "  <thead>\n",
       "    <tr style=\"text-align: right;\">\n",
       "      <th></th>\n",
       "      <th>universe_id</th>\n",
       "      <th>universe_training_year</th>\n",
       "      <th>universe_training_size</th>\n",
       "      <th>universe_scale</th>\n",
       "      <th>universe_model</th>\n",
       "      <th>universe_exclude_features</th>\n",
       "      <th>universe_exclude_subgroups</th>\n",
       "      <th>q_hat</th>\n",
       "      <th>coverage</th>\n",
       "      <th>avg_size</th>\n",
       "      <th>cov_frau1</th>\n",
       "      <th>cov_nongerman</th>\n",
       "      <th>cov_nongerman_male</th>\n",
       "      <th>cov_nongerman_female</th>\n",
       "    </tr>\n",
       "  </thead>\n",
       "  <tbody>\n",
       "    <tr>\n",
       "      <th>0</th>\n",
       "      <td>acfff917cc222a719f5a2c0a239ff804</td>\n",
       "      <td>2012_14</td>\n",
       "      <td>1k</td>\n",
       "      <td>scale</td>\n",
       "      <td>elasticnet</td>\n",
       "      <td>none</td>\n",
       "      <td>keep-all</td>\n",
       "      <td>0.796143</td>\n",
       "      <td>0.909419</td>\n",
       "      <td>1.240965</td>\n",
       "      <td>0.902494</td>\n",
       "      <td>0.914837</td>\n",
       "      <td>0.932721</td>\n",
       "      <td>0.885246</td>\n",
       "    </tr>\n",
       "  </tbody>\n",
       "</table>\n",
       "</div>"
      ],
      "text/plain": [
       "                        universe_id universe_training_year  \\\n",
       "0  acfff917cc222a719f5a2c0a239ff804                2012_14   \n",
       "\n",
       "  universe_training_size universe_scale universe_model  \\\n",
       "0                     1k          scale     elasticnet   \n",
       "\n",
       "  universe_exclude_features universe_exclude_subgroups     q_hat  coverage  \\\n",
       "0                      none                   keep-all  0.796143  0.909419   \n",
       "\n",
       "   avg_size  cov_frau1  cov_nongerman  cov_nongerman_male  \\\n",
       "0  1.240965   0.902494       0.914837            0.932721   \n",
       "\n",
       "   cov_nongerman_female  \n",
       "0              0.885246  "
      ]
     },
     "execution_count": 71,
     "metadata": {},
     "output_type": "execute_result"
    }
   ],
   "source": [
    "cp_metrics_df"
   ]
  },
  {
   "cell_type": "markdown",
   "id": "33774451",
   "metadata": {
    "papermill": {
     "duration": 0.024415,
     "end_time": "2025-07-30T21:37:14.466915",
     "exception": false,
     "start_time": "2025-07-30T21:37:14.442500",
     "status": "completed"
    },
    "tags": []
   },
   "source": [
    "# (Fairness) Metrics"
   ]
  },
  {
   "cell_type": "code",
   "execution_count": 72,
   "id": "debc5d62",
   "metadata": {
    "execution": {
     "iopub.execute_input": "2025-07-30T21:37:14.517546Z",
     "iopub.status.busy": "2025-07-30T21:37:14.516912Z",
     "iopub.status.idle": "2025-07-30T21:37:14.537943Z",
     "shell.execute_reply": "2025-07-30T21:37:14.537130Z"
    },
    "papermill": {
     "duration": 0.048322,
     "end_time": "2025-07-30T21:37:14.539704",
     "exception": false,
     "start_time": "2025-07-30T21:37:14.491382",
     "status": "completed"
    },
    "tags": []
   },
   "outputs": [],
   "source": [
    "# do I need to include maxdeutsch1.missing?\n",
    "\n",
    "import numpy as np\n",
    "\n",
    "colname_to_bin = \"maxdeutsch1\"\n",
    "majority_value = org_train[colname_to_bin].mode()[0]\n",
    "\n",
    "org_test[\"majmin\"] = np.where(org_test[colname_to_bin] == majority_value, \"majority\", \"minority\")"
   ]
  },
  {
   "cell_type": "code",
   "execution_count": 73,
   "id": "06a50de5",
   "metadata": {
    "execution": {
     "iopub.execute_input": "2025-07-30T21:37:14.591440Z",
     "iopub.status.busy": "2025-07-30T21:37:14.590812Z",
     "iopub.status.idle": "2025-07-30T21:37:16.595872Z",
     "shell.execute_reply": "2025-07-30T21:37:16.595136Z"
    },
    "papermill": {
     "duration": 2.032345,
     "end_time": "2025-07-30T21:37:16.597316",
     "exception": false,
     "start_time": "2025-07-30T21:37:14.564971",
     "status": "completed"
    },
    "tags": []
   },
   "outputs": [],
   "source": [
    "example_universe = universe.copy()\n",
    "example_universe[\"cutoff\"] = example_universe[\"cutoff\"][0]\n",
    "example_universe[\"eval_fairness_grouping\"] = example_universe[\"eval_fairness_grouping\"][0]\n",
    "fairness_dict, metric_frame = universe_analysis.compute_metrics(\n",
    "    example_universe,\n",
    "    y_pred_prob=probs_test,\n",
    "    y_test=y_true,\n",
    "    org_test=org_test,\n",
    ")"
   ]
  },
  {
   "cell_type": "markdown",
   "id": "f95d4e02",
   "metadata": {
    "papermill": {
     "duration": 0.013063,
     "end_time": "2025-07-30T21:37:16.627284",
     "exception": false,
     "start_time": "2025-07-30T21:37:16.614221",
     "status": "completed"
    },
    "tags": []
   },
   "source": [
    "# Overall"
   ]
  },
  {
   "cell_type": "markdown",
   "id": "bdee4871",
   "metadata": {
    "papermill": {
     "duration": 0.013249,
     "end_time": "2025-07-30T21:37:16.653885",
     "exception": false,
     "start_time": "2025-07-30T21:37:16.640636",
     "status": "completed"
    },
    "tags": []
   },
   "source": [
    "Fairness\n",
    "Main fairness target: Equalized Odds. Seems to be a better fit than equal opportunity, since we're not only interested in Y = 1. Seems to be a better fit than demographic parity, since we also care about accuracy, not just equal distribution of preds.\n",
    "\n",
    "Pick column for computation of fairness metrics\n",
    "\n",
    "Performance\n",
    "Overall performance measures, most interesting in relation to the measures split by group below"
   ]
  },
  {
   "cell_type": "code",
   "execution_count": 74,
   "id": "c4e067c6",
   "metadata": {
    "execution": {
     "iopub.execute_input": "2025-07-30T21:37:16.682394Z",
     "iopub.status.busy": "2025-07-30T21:37:16.681911Z",
     "iopub.status.idle": "2025-07-30T21:37:16.689301Z",
     "shell.execute_reply": "2025-07-30T21:37:16.688522Z"
    },
    "papermill": {
     "duration": 0.023222,
     "end_time": "2025-07-30T21:37:16.690625",
     "exception": false,
     "start_time": "2025-07-30T21:37:16.667403",
     "status": "completed"
    },
    "tags": []
   },
   "outputs": [
    {
     "data": {
      "text/plain": [
       "accuracy                   0.218002\n",
       "balanced accuracy          0.534381\n",
       "f1                         0.239509\n",
       "precision                  0.136824\n",
       "false positive rate        0.891179\n",
       "false negative rate        0.040059\n",
       "selection rate             0.900000\n",
       "count                  89710.000000\n",
       "dtype: float64"
      ]
     },
     "execution_count": 74,
     "metadata": {},
     "output_type": "execute_result"
    }
   ],
   "source": [
    "metric_frame.overall"
   ]
  },
  {
   "cell_type": "markdown",
   "id": "e968fe9d",
   "metadata": {
    "papermill": {
     "duration": 0.013492,
     "end_time": "2025-07-30T21:37:16.718953",
     "exception": false,
     "start_time": "2025-07-30T21:37:16.705461",
     "status": "completed"
    },
    "tags": []
   },
   "source": [
    "By Group"
   ]
  },
  {
   "cell_type": "code",
   "execution_count": 75,
   "id": "ec325bce",
   "metadata": {
    "execution": {
     "iopub.execute_input": "2025-07-30T21:37:16.747044Z",
     "iopub.status.busy": "2025-07-30T21:37:16.746559Z",
     "iopub.status.idle": "2025-07-30T21:37:16.758681Z",
     "shell.execute_reply": "2025-07-30T21:37:16.757915Z"
    },
    "papermill": {
     "duration": 0.02767,
     "end_time": "2025-07-30T21:37:16.759994",
     "exception": false,
     "start_time": "2025-07-30T21:37:16.732324",
     "status": "completed"
    },
    "tags": []
   },
   "outputs": [
    {
     "data": {
      "text/html": [
       "<div>\n",
       "<style scoped>\n",
       "    .dataframe tbody tr th:only-of-type {\n",
       "        vertical-align: middle;\n",
       "    }\n",
       "\n",
       "    .dataframe tbody tr th {\n",
       "        vertical-align: top;\n",
       "    }\n",
       "\n",
       "    .dataframe thead th {\n",
       "        text-align: right;\n",
       "    }\n",
       "</style>\n",
       "<table border=\"1\" class=\"dataframe\">\n",
       "  <thead>\n",
       "    <tr style=\"text-align: right;\">\n",
       "      <th></th>\n",
       "      <th>accuracy</th>\n",
       "      <th>balanced accuracy</th>\n",
       "      <th>f1</th>\n",
       "      <th>precision</th>\n",
       "      <th>false positive rate</th>\n",
       "      <th>false negative rate</th>\n",
       "      <th>selection rate</th>\n",
       "      <th>count</th>\n",
       "    </tr>\n",
       "    <tr>\n",
       "      <th>majmin</th>\n",
       "      <th></th>\n",
       "      <th></th>\n",
       "      <th></th>\n",
       "      <th></th>\n",
       "      <th></th>\n",
       "      <th></th>\n",
       "      <th></th>\n",
       "      <th></th>\n",
       "    </tr>\n",
       "  </thead>\n",
       "  <tbody>\n",
       "    <tr>\n",
       "      <th>majority</th>\n",
       "      <td>0.236967</td>\n",
       "      <td>0.540778</td>\n",
       "      <td>0.248302</td>\n",
       "      <td>0.142731</td>\n",
       "      <td>0.872164</td>\n",
       "      <td>0.046280</td>\n",
       "      <td>0.882941</td>\n",
       "      <td>69170.0</td>\n",
       "    </tr>\n",
       "    <tr>\n",
       "      <th>minority</th>\n",
       "      <td>0.154138</td>\n",
       "      <td>0.514979</td>\n",
       "      <td>0.211491</td>\n",
       "      <td>0.118479</td>\n",
       "      <td>0.953995</td>\n",
       "      <td>0.016047</td>\n",
       "      <td>0.957449</td>\n",
       "      <td>20540.0</td>\n",
       "    </tr>\n",
       "  </tbody>\n",
       "</table>\n",
       "</div>"
      ],
      "text/plain": [
       "          accuracy  balanced accuracy        f1  precision  \\\n",
       "majmin                                                       \n",
       "majority  0.236967           0.540778  0.248302   0.142731   \n",
       "minority  0.154138           0.514979  0.211491   0.118479   \n",
       "\n",
       "          false positive rate  false negative rate  selection rate    count  \n",
       "majmin                                                                       \n",
       "majority             0.872164             0.046280        0.882941  69170.0  \n",
       "minority             0.953995             0.016047        0.957449  20540.0  "
      ]
     },
     "execution_count": 75,
     "metadata": {},
     "output_type": "execute_result"
    }
   ],
   "source": [
    "metric_frame.by_group"
   ]
  },
  {
   "cell_type": "code",
   "execution_count": 76,
   "id": "a9ddbe63",
   "metadata": {
    "execution": {
     "iopub.execute_input": "2025-07-30T21:37:16.789985Z",
     "iopub.status.busy": "2025-07-30T21:37:16.789286Z",
     "iopub.status.idle": "2025-07-30T21:37:18.937830Z",
     "shell.execute_reply": "2025-07-30T21:37:18.937100Z"
    },
    "papermill": {
     "duration": 2.164665,
     "end_time": "2025-07-30T21:37:18.939389",
     "exception": false,
     "start_time": "2025-07-30T21:37:16.774724",
     "status": "completed"
    },
    "tags": []
   },
   "outputs": [
    {
     "data": {
      "text/plain": [
       "array([[<Axes: title={'center': 'accuracy'}, xlabel='majmin'>,\n",
       "        <Axes: title={'center': 'balanced accuracy'}, xlabel='majmin'>,\n",
       "        <Axes: title={'center': 'f1'}, xlabel='majmin'>],\n",
       "       [<Axes: title={'center': 'precision'}, xlabel='majmin'>,\n",
       "        <Axes: title={'center': 'false positive rate'}, xlabel='majmin'>,\n",
       "        <Axes: title={'center': 'false negative rate'}, xlabel='majmin'>],\n",
       "       [<Axes: title={'center': 'selection rate'}, xlabel='majmin'>,\n",
       "        <Axes: title={'center': 'count'}, xlabel='majmin'>,\n",
       "        <Axes: xlabel='majmin'>]], dtype=object)"
      ]
     },
     "execution_count": 76,
     "metadata": {},
     "output_type": "execute_result"
    },
    {
     "data": {
      "image/png": "[encoded data removed]",
      "text/plain": [
       "<Figure size 1200x800 with 9 Axes>"
      ]
     },
     "metadata": {},
     "output_type": "display_data"
    }
   ],
   "source": [
    "# In a graphic\n",
    "metric_frame.by_group.plot.bar(\n",
    "    subplots=True,\n",
    "    layout=[3, 3],\n",
    "    legend=False,\n",
    "    figsize=[12, 8],\n",
    "    title=\"Show all metrics\",\n",
    ")"
   ]
  },
  {
   "cell_type": "markdown",
   "id": "f57a0bac",
   "metadata": {
    "papermill": {
     "duration": 0.034178,
     "end_time": "2025-07-30T21:37:19.007608",
     "exception": false,
     "start_time": "2025-07-30T21:37:18.973430",
     "status": "completed"
    },
    "tags": []
   },
   "source": [
    "# Final Output"
   ]
  },
  {
   "cell_type": "code",
   "execution_count": 77,
   "id": "96d280a3",
   "metadata": {
    "execution": {
     "iopub.execute_input": "2025-07-30T21:37:19.080358Z",
     "iopub.status.busy": "2025-07-30T21:37:19.079159Z",
     "iopub.status.idle": "2025-07-30T21:37:19.088146Z",
     "shell.execute_reply": "2025-07-30T21:37:19.087089Z"
    },
    "papermill": {
     "duration": 0.046677,
     "end_time": "2025-07-30T21:37:19.089492",
     "exception": false,
     "start_time": "2025-07-30T21:37:19.042815",
     "status": "completed"
    },
    "tags": []
   },
   "outputs": [
    {
     "data": {
      "text/plain": [
       "4"
      ]
     },
     "execution_count": 77,
     "metadata": {},
     "output_type": "execute_result"
    }
   ],
   "source": [
    "sub_universes = universe_analysis.generate_sub_universes()\n",
    "len(sub_universes)"
   ]
  },
  {
   "cell_type": "code",
   "execution_count": 78,
   "id": "92adf7ba",
   "metadata": {
    "execution": {
     "iopub.execute_input": "2025-07-30T21:37:19.122091Z",
     "iopub.status.busy": "2025-07-30T21:37:19.121468Z",
     "iopub.status.idle": "2025-07-30T21:37:19.151203Z",
     "shell.execute_reply": "2025-07-30T21:37:19.149971Z"
    },
    "papermill": {
     "duration": 0.048161,
     "end_time": "2025-07-30T21:37:19.153795",
     "exception": false,
     "start_time": "2025-07-30T21:37:19.105634",
     "status": "completed"
    },
    "tags": []
   },
   "outputs": [],
   "source": [
    "def filter_sub_universe_data(sub_universe, org_test):\n",
    "    # Keep all rows — no filtering\n",
    "    keep_rows_mask = np.ones(org_test.shape[0], dtype=bool)\n",
    "\n",
    "    print(f\"[INFO] Keeping all rows: {keep_rows_mask.sum()} rows retained.\")\n",
    "    return keep_rows_mask"
   ]
  },
  {
   "cell_type": "code",
   "execution_count": 79,
   "id": "4a759155",
   "metadata": {
    "execution": {
     "iopub.execute_input": "2025-07-30T21:37:19.226121Z",
     "iopub.status.busy": "2025-07-30T21:37:19.225399Z",
     "iopub.status.idle": "2025-07-30T21:37:28.136351Z",
     "shell.execute_reply": "2025-07-30T21:37:28.135285Z"
    },
    "papermill": {
     "duration": 8.949268,
     "end_time": "2025-07-30T21:37:28.137834",
     "exception": false,
     "start_time": "2025-07-30T21:37:19.188566",
     "status": "completed"
    },
    "tags": []
   },
   "outputs": [
    {
     "name": "stdout",
     "output_type": "stream",
     "text": [
      "Stopping execution_time clock.\n",
      "[INFO] Keeping all rows: 89710 rows retained.\n"
     ]
    },
    {
     "name": "stdout",
     "output_type": "stream",
     "text": [
      "[INFO] Keeping all rows: 89710 rows retained.\n"
     ]
    },
    {
     "name": "stdout",
     "output_type": "stream",
     "text": [
      "[INFO] Keeping all rows: 89710 rows retained.\n"
     ]
    },
    {
     "name": "stdout",
     "output_type": "stream",
     "text": [
      "[INFO] Keeping all rows: 89710 rows retained.\n"
     ]
    },
    {
     "data": {
      "text/html": [
       "<div>\n",
       "<style scoped>\n",
       "    .dataframe tbody tr th:only-of-type {\n",
       "        vertical-align: middle;\n",
       "    }\n",
       "\n",
       "    .dataframe tbody tr th {\n",
       "        vertical-align: top;\n",
       "    }\n",
       "\n",
       "    .dataframe thead th {\n",
       "        text-align: right;\n",
       "    }\n",
       "</style>\n",
       "<table border=\"1\" class=\"dataframe\">\n",
       "  <thead>\n",
       "    <tr style=\"text-align: right;\">\n",
       "      <th></th>\n",
       "      <th>run_no</th>\n",
       "      <th>universe_id</th>\n",
       "      <th>universe_settings</th>\n",
       "      <th>execution_time</th>\n",
       "      <th>test_size_n</th>\n",
       "      <th>test_size_frac</th>\n",
       "      <th>fair_main_equalized_odds_difference</th>\n",
       "      <th>fair_main_equalized_odds_ratio</th>\n",
       "      <th>fair_main_demographic_parity_difference</th>\n",
       "      <th>fair_main_demographic_parity_ratio</th>\n",
       "      <th>...</th>\n",
       "      <th>perf_grp_precision_0</th>\n",
       "      <th>perf_grp_precision_1</th>\n",
       "      <th>perf_grp_false positive rate_0</th>\n",
       "      <th>perf_grp_false positive rate_1</th>\n",
       "      <th>perf_grp_false negative rate_0</th>\n",
       "      <th>perf_grp_false negative rate_1</th>\n",
       "      <th>perf_grp_selection rate_0</th>\n",
       "      <th>perf_grp_selection rate_1</th>\n",
       "      <th>perf_grp_count_0</th>\n",
       "      <th>perf_grp_count_1</th>\n",
       "    </tr>\n",
       "  </thead>\n",
       "  <tbody>\n",
       "    <tr>\n",
       "      <th>0</th>\n",
       "      <td>14</td>\n",
       "      <td>acfff917cc222a719f5a2c0a239ff804</td>\n",
       "      <td>{\"cutoff\": \"quantile_0.1\", \"eval_fairness_grou...</td>\n",
       "      <td>30.065031</td>\n",
       "      <td>89710</td>\n",
       "      <td>1.0</td>\n",
       "      <td>0.081831</td>\n",
       "      <td>0.914223</td>\n",
       "      <td>0.074508</td>\n",
       "      <td>0.92218</td>\n",
       "      <td>...</td>\n",
       "      <td>NaN</td>\n",
       "      <td>NaN</td>\n",
       "      <td>NaN</td>\n",
       "      <td>NaN</td>\n",
       "      <td>NaN</td>\n",
       "      <td>NaN</td>\n",
       "      <td>NaN</td>\n",
       "      <td>NaN</td>\n",
       "      <td>NaN</td>\n",
       "      <td>NaN</td>\n",
       "    </tr>\n",
       "    <tr>\n",
       "      <th>0</th>\n",
       "      <td>14</td>\n",
       "      <td>acfff917cc222a719f5a2c0a239ff804</td>\n",
       "      <td>{\"cutoff\": \"quantile_0.1\", \"eval_fairness_grou...</td>\n",
       "      <td>30.065031</td>\n",
       "      <td>89710</td>\n",
       "      <td>1.0</td>\n",
       "      <td>0.081831</td>\n",
       "      <td>0.914223</td>\n",
       "      <td>0.074508</td>\n",
       "      <td>0.92218</td>\n",
       "      <td>...</td>\n",
       "      <td>0.118479</td>\n",
       "      <td>0.142731</td>\n",
       "      <td>0.953995</td>\n",
       "      <td>0.872164</td>\n",
       "      <td>0.016047</td>\n",
       "      <td>0.046280</td>\n",
       "      <td>0.957449</td>\n",
       "      <td>0.882941</td>\n",
       "      <td>20540.0</td>\n",
       "      <td>69170.0</td>\n",
       "    </tr>\n",
       "    <tr>\n",
       "      <th>0</th>\n",
       "      <td>14</td>\n",
       "      <td>acfff917cc222a719f5a2c0a239ff804</td>\n",
       "      <td>{\"cutoff\": \"quantile_0.25\", \"eval_fairness_gro...</td>\n",
       "      <td>30.065031</td>\n",
       "      <td>89710</td>\n",
       "      <td>1.0</td>\n",
       "      <td>0.170279</td>\n",
       "      <td>0.802243</td>\n",
       "      <td>0.155149</td>\n",
       "      <td>0.82159</td>\n",
       "      <td>...</td>\n",
       "      <td>NaN</td>\n",
       "      <td>NaN</td>\n",
       "      <td>NaN</td>\n",
       "      <td>NaN</td>\n",
       "      <td>NaN</td>\n",
       "      <td>NaN</td>\n",
       "      <td>NaN</td>\n",
       "      <td>NaN</td>\n",
       "      <td>NaN</td>\n",
       "      <td>NaN</td>\n",
       "    </tr>\n",
       "    <tr>\n",
       "      <th>0</th>\n",
       "      <td>14</td>\n",
       "      <td>acfff917cc222a719f5a2c0a239ff804</td>\n",
       "      <td>{\"cutoff\": \"quantile_0.25\", \"eval_fairness_gro...</td>\n",
       "      <td>30.065031</td>\n",
       "      <td>89710</td>\n",
       "      <td>1.0</td>\n",
       "      <td>0.170279</td>\n",
       "      <td>0.802243</td>\n",
       "      <td>0.155149</td>\n",
       "      <td>0.82159</td>\n",
       "      <td>...</td>\n",
       "      <td>0.124006</td>\n",
       "      <td>0.160927</td>\n",
       "      <td>0.861050</td>\n",
       "      <td>0.690771</td>\n",
       "      <td>0.064611</td>\n",
       "      <td>0.129869</td>\n",
       "      <td>0.869620</td>\n",
       "      <td>0.714472</td>\n",
       "      <td>20540.0</td>\n",
       "      <td>69170.0</td>\n",
       "    </tr>\n",
       "  </tbody>\n",
       "</table>\n",
       "<p>4 rows × 50 columns</p>\n",
       "</div>"
      ],
      "text/plain": [
       "  run_no                       universe_id  \\\n",
       "0     14  acfff917cc222a719f5a2c0a239ff804   \n",
       "0     14  acfff917cc222a719f5a2c0a239ff804   \n",
       "0     14  acfff917cc222a719f5a2c0a239ff804   \n",
       "0     14  acfff917cc222a719f5a2c0a239ff804   \n",
       "\n",
       "                                   universe_settings  execution_time  \\\n",
       "0  {\"cutoff\": \"quantile_0.1\", \"eval_fairness_grou...       30.065031   \n",
       "0  {\"cutoff\": \"quantile_0.1\", \"eval_fairness_grou...       30.065031   \n",
       "0  {\"cutoff\": \"quantile_0.25\", \"eval_fairness_gro...       30.065031   \n",
       "0  {\"cutoff\": \"quantile_0.25\", \"eval_fairness_gro...       30.065031   \n",
       "\n",
       "   test_size_n  test_size_frac  fair_main_equalized_odds_difference  \\\n",
       "0        89710             1.0                             0.081831   \n",
       "0        89710             1.0                             0.081831   \n",
       "0        89710             1.0                             0.170279   \n",
       "0        89710             1.0                             0.170279   \n",
       "\n",
       "   fair_main_equalized_odds_ratio  fair_main_demographic_parity_difference  \\\n",
       "0                        0.914223                                 0.074508   \n",
       "0                        0.914223                                 0.074508   \n",
       "0                        0.802243                                 0.155149   \n",
       "0                        0.802243                                 0.155149   \n",
       "\n",
       "   fair_main_demographic_parity_ratio  ...  perf_grp_precision_0  \\\n",
       "0                             0.92218  ...                   NaN   \n",
       "0                             0.92218  ...              0.118479   \n",
       "0                             0.82159  ...                   NaN   \n",
       "0                             0.82159  ...              0.124006   \n",
       "\n",
       "   perf_grp_precision_1  perf_grp_false positive rate_0  \\\n",
       "0                   NaN                             NaN   \n",
       "0              0.142731                        0.953995   \n",
       "0                   NaN                             NaN   \n",
       "0              0.160927                        0.861050   \n",
       "\n",
       "   perf_grp_false positive rate_1  perf_grp_false negative rate_0  \\\n",
       "0                             NaN                             NaN   \n",
       "0                        0.872164                        0.016047   \n",
       "0                             NaN                             NaN   \n",
       "0                        0.690771                        0.064611   \n",
       "\n",
       "   perf_grp_false negative rate_1  perf_grp_selection rate_0  \\\n",
       "0                             NaN                        NaN   \n",
       "0                        0.046280                   0.957449   \n",
       "0                             NaN                        NaN   \n",
       "0                        0.129869                   0.869620   \n",
       "\n",
       "   perf_grp_selection rate_1  perf_grp_count_0  perf_grp_count_1  \n",
       "0                        NaN               NaN               NaN  \n",
       "0                   0.882941           20540.0           69170.0  \n",
       "0                        NaN               NaN               NaN  \n",
       "0                   0.714472           20540.0           69170.0  \n",
       "\n",
       "[4 rows x 50 columns]"
      ]
     },
     "execution_count": 79,
     "metadata": {},
     "output_type": "execute_result"
    }
   ],
   "source": [
    "final_output = universe_analysis.generate_final_output(\n",
    "    y_pred_prob=probs_test,\n",
    "    y_test=y_true,\n",
    "    org_test=org_test,\n",
    "    filter_data=filter_sub_universe_data,\n",
    "    cp_metrics_df=cp_metrics_df,\n",
    "    save=True,\n",
    ")\n",
    "final_output"
   ]
  },
  {
   "cell_type": "code",
   "execution_count": null,
   "id": "721ff514-cb11-46f8-b6fc-50392f74b5cb",
   "metadata": {
    "papermill": {
     "duration": 0.028299,
     "end_time": "2025-07-30T21:37:28.196403",
     "exception": false,
     "start_time": "2025-07-30T21:37:28.168104",
     "status": "completed"
    },
    "tags": []
   },
   "outputs": [],
   "source": []
  }
 ],
 "metadata": {
  "celltoolbar": "Tags",
  "kernelspec": {
   "display_name": "Python (CMA Fairness)",
   "language": "python",
   "name": "cma_fair_env"
  },
  "language_info": {
   "codemirror_mode": {
    "name": "ipython",
    "version": 3
   },
   "file_extension": ".py",
   "mimetype": "text/x-python",
   "name": "python",
   "nbconvert_exporter": "python",
   "pygments_lexer": "ipython3",
   "version": "3.10.12"
  },
  "papermill": {
   "default_parameters": {},
   "duration": 43.06366,
   "end_time": "2025-07-30T21:37:28.943065",
   "environment_variables": {},
   "exception": null,
   "input_path": "universe_analysis.ipynb",
   "output_path": "output/runs/14/notebooks/m_14-acfff917cc222a719f5a2c0a239ff804.ipynb",
   "parameters": {
    "output_dir": "output",
    "run_no": "14",
    "seed": "2023",
    "universe": "{\"cutoff\": [\"quantile_0.1\", \"quantile_0.25\"], \"eval_fairness_grouping\": [\"majority-minority\", \"nationality-all\"], \"exclude_features\": \"none\", \"exclude_subgroups\": \"keep-all\", \"model\": \"elasticnet\", \"scale\": \"scale\", \"training_size\": \"1k\", \"training_year\": \"2012_14\"}",
    "universe_id": "acfff917cc222a719f5a2c0a239ff804"
   },
   "start_time": "2025-07-30T21:36:45.879405",
   "version": "2.6.0"
  }
 },
 "nbformat": 4,
 "nbformat_minor": 5
}