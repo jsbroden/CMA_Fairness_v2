{
 "cells": [
  {
   "cell_type": "code",
   "execution_count": 1,
   "id": "f159f837-637b-42ba-96b5-ec9a68c44524",
   "metadata": {
    "execution": {
     "iopub.execute_input": "2025-07-30T20:11:08.462305Z",
     "iopub.status.busy": "2025-07-30T20:11:08.461809Z",
     "iopub.status.idle": "2025-07-30T20:11:08.477039Z",
     "shell.execute_reply": "2025-07-30T20:11:08.475854Z"
    },
    "papermill": {
     "duration": 0.041092,
     "end_time": "2025-07-30T20:11:08.478892",
     "exception": false,
     "start_time": "2025-07-30T20:11:08.437800",
     "status": "completed"
    },
    "tags": []
   },
   "outputs": [
    {
     "name": "stdout",
     "output_type": "stream",
     "text": [
      "/dss/dsshome1/0C/ra93lal2/cma/CMA_Fairness_v2\n"
     ]
    },
    {
     "name": "stderr",
     "output_type": "stream",
     "text": [
      "/dss/dsshome1/0C/ra93lal2/.local/share/virtualenvs/CMA_Fairness_v2-3j10GkSs/lib/python3.10/site-packages/IPython/core/magics/osm.py:393: UserWarning: This is now an optional IPython functionality, using bookmarks requires you to install the `pickleshare` library.\n",
      "  bkms = self.shell.db.get('bookmarks', {})\n",
      "/dss/dsshome1/0C/ra93lal2/.local/share/virtualenvs/CMA_Fairness_v2-3j10GkSs/lib/python3.10/site-packages/IPython/core/magics/osm.py:417: UserWarning: This is now an optional IPython functionality, setting dhist requires you to install the `pickleshare` library.\n",
      "  self.shell.db['dhist'] = compress_dhist(dhist)[-100:]\n"
     ]
    }
   ],
   "source": [
    "%cd ~/cma/CMA_Fairness_v2"
   ]
  },
  {
   "cell_type": "markdown",
   "id": "de2603b9",
   "metadata": {
    "papermill": {
     "duration": 0.020247,
     "end_time": "2025-07-30T20:11:08.520026",
     "exception": false,
     "start_time": "2025-07-30T20:11:08.499779",
     "status": "completed"
    },
    "tags": []
   },
   "source": [
    "The following cell holds the definition of our parameters, these values can be overriden by rendering the with e.g. the following command:\n",
    "\n",
    "papermill -p alpha 0.2 -p ratio 0.3 universe_analysis.ipynb output/test_run.ipynb"
   ]
  },
  {
   "cell_type": "code",
   "execution_count": 2,
   "id": "a80968a0-40bb-4fa9-85ef-2d5eefb01975",
   "metadata": {
    "execution": {
     "iopub.execute_input": "2025-07-30T20:11:08.561214Z",
     "iopub.status.busy": "2025-07-30T20:11:08.560527Z",
     "iopub.status.idle": "2025-07-30T20:11:08.566490Z",
     "shell.execute_reply": "2025-07-30T20:11:08.565486Z"
    },
    "papermill": {
     "duration": 0.028845,
     "end_time": "2025-07-30T20:11:08.568303",
     "exception": false,
     "start_time": "2025-07-30T20:11:08.539458",
     "status": "completed"
    },
    "tags": []
   },
   "outputs": [
    {
     "name": "stdout",
     "output_type": "stream",
     "text": [
      "Current working directory: /dss/dsshome1/0C/ra93lal2/cma/CMA_Fairness_v2\n"
     ]
    }
   ],
   "source": [
    "import os\n",
    "print(\"Current working directory:\", os.getcwd())"
   ]
  },
  {
   "cell_type": "code",
   "execution_count": 3,
   "id": "2dce4c03",
   "metadata": {
    "execution": {
     "iopub.execute_input": "2025-07-30T20:11:08.613393Z",
     "iopub.status.busy": "2025-07-30T20:11:08.612901Z",
     "iopub.status.idle": "2025-07-30T20:11:08.620668Z",
     "shell.execute_reply": "2025-07-30T20:11:08.619654Z"
    },
    "papermill": {
     "duration": 0.03318,
     "end_time": "2025-07-30T20:11:08.622386",
     "exception": false,
     "start_time": "2025-07-30T20:11:08.589206",
     "status": "completed"
    },
    "tags": [
     "parameters"
    ]
   },
   "outputs": [],
   "source": [
    "run_no = 0\n",
    "universe_id = \"test\"\n",
    "universe = {\n",
    "    \"training_size\": \"25k\", # \"25k\", \"5k\", \"1k\"\n",
    "    \"training_year\": \"2014\", # \"2014\", \"2012_14\", \"2010_14\"\n",
    "    \"scale\": \"scale\", # \"scale\", \"do-not-scale\",\n",
    "    #\"stratify_split\": \"target\", # \"none\", \"target\", \"protected-attribute\", \"both\",\n",
    "    \"model\": \"elasticnet\", # \"logreg\", \"penalized_logreg\", \"rf\", \"gbm\", \"elasticnet\"\n",
    "    \"cutoff\": [\"quantile_0.15\", \"quantile_0.30\"],\n",
    "    \"exclude_features\": \"age\", # \"none\", \"nationality\", \"sex\", \"nationality-sex\", \"age\"\n",
    "    \"exclude_subgroups\": \"keep-all\", # \"keep-all\", \"drop-non-german\"\n",
    "    \"eval_fairness_grouping\": [\"majority-minority\", \"nationality-all\"]\n",
    "}\n",
    "\n",
    "output_dir=\"./output\"\n",
    "seed=0"
   ]
  },
  {
   "cell_type": "code",
   "execution_count": 4,
   "id": "e4fbafd7",
   "metadata": {
    "execution": {
     "iopub.execute_input": "2025-07-30T20:11:08.666795Z",
     "iopub.status.busy": "2025-07-30T20:11:08.665902Z",
     "iopub.status.idle": "2025-07-30T20:11:08.671306Z",
     "shell.execute_reply": "2025-07-30T20:11:08.670387Z"
    },
    "papermill": {
     "duration": 0.028981,
     "end_time": "2025-07-30T20:11:08.672927",
     "exception": false,
     "start_time": "2025-07-30T20:11:08.643946",
     "status": "completed"
    },
    "tags": [
     "injected-parameters"
    ]
   },
   "outputs": [],
   "source": [
    "# Parameters\n",
    "universe_id = \"8574f00ba5c34f822b76d2f1f4ad553d\"\n",
    "run_no = \"14\"\n",
    "universe = \"{\\\"cutoff\\\": [\\\"quantile_0.1\\\", \\\"quantile_0.25\\\"], \\\"eval_fairness_grouping\\\": [\\\"majority-minority\\\", \\\"nationality-all\\\"], \\\"exclude_features\\\": \\\"sex\\\", \\\"exclude_subgroups\\\": \\\"keep-all\\\", \\\"model\\\": \\\"rf\\\", \\\"scale\\\": \\\"scale\\\", \\\"training_size\\\": \\\"25k\\\", \\\"training_year\\\": \\\"2012_14\\\"}\"\n",
    "output_dir = \"output\"\n",
    "seed = \"2023\"\n"
   ]
  },
  {
   "cell_type": "code",
   "execution_count": 5,
   "id": "1650acaf",
   "metadata": {
    "execution": {
     "iopub.execute_input": "2025-07-30T20:11:08.715194Z",
     "iopub.status.busy": "2025-07-30T20:11:08.714765Z",
     "iopub.status.idle": "2025-07-30T20:11:08.719595Z",
     "shell.execute_reply": "2025-07-30T20:11:08.718688Z"
    },
    "papermill": {
     "duration": 0.028366,
     "end_time": "2025-07-30T20:11:08.721482",
     "exception": false,
     "start_time": "2025-07-30T20:11:08.693116",
     "status": "completed"
    },
    "tags": []
   },
   "outputs": [],
   "source": [
    "import json\n",
    "# Parse universe into dict if it is passed as a string\n",
    "if isinstance(universe, str):\n",
    "    universe = json.loads(universe)"
   ]
  },
  {
   "cell_type": "code",
   "execution_count": 6,
   "id": "16620c48",
   "metadata": {
    "execution": {
     "iopub.execute_input": "2025-07-30T20:11:08.762456Z",
     "iopub.status.busy": "2025-07-30T20:11:08.762077Z",
     "iopub.status.idle": "2025-07-30T20:11:08.808981Z",
     "shell.execute_reply": "2025-07-30T20:11:08.807951Z"
    },
    "papermill": {
     "duration": 0.069319,
     "end_time": "2025-07-30T20:11:08.810841",
     "exception": false,
     "start_time": "2025-07-30T20:11:08.741522",
     "status": "completed"
    },
    "tags": []
   },
   "outputs": [],
   "source": [
    "# Auto-reload the custom package\n",
    "%load_ext autoreload\n",
    "%autoreload 1\n",
    "%aimport fairness_multiverse"
   ]
  },
  {
   "cell_type": "code",
   "execution_count": 7,
   "id": "01c5c9f3",
   "metadata": {
    "execution": {
     "iopub.execute_input": "2025-07-30T20:11:08.854152Z",
     "iopub.status.busy": "2025-07-30T20:11:08.853349Z",
     "iopub.status.idle": "2025-07-30T20:11:10.813621Z",
     "shell.execute_reply": "2025-07-30T20:11:10.812472Z"
    },
    "papermill": {
     "duration": 1.983458,
     "end_time": "2025-07-30T20:11:10.815760",
     "exception": false,
     "start_time": "2025-07-30T20:11:08.832302",
     "status": "completed"
    },
    "tags": []
   },
   "outputs": [],
   "source": [
    "from fairness_multiverse.universe import UniverseAnalysis\n",
    "\n",
    "universe_analysis = UniverseAnalysis(\n",
    "    run_no = run_no,\n",
    "    universe_id = universe_id,\n",
    "    universe = universe,\n",
    "    output_dir=output_dir,\n",
    ")"
   ]
  },
  {
   "cell_type": "code",
   "execution_count": 8,
   "id": "106241f5",
   "metadata": {
    "execution": {
     "iopub.execute_input": "2025-07-30T20:11:10.864459Z",
     "iopub.status.busy": "2025-07-30T20:11:10.863605Z",
     "iopub.status.idle": "2025-07-30T20:11:10.870294Z",
     "shell.execute_reply": "2025-07-30T20:11:10.869282Z"
    },
    "papermill": {
     "duration": 0.031616,
     "end_time": "2025-07-30T20:11:10.871998",
     "exception": false,
     "start_time": "2025-07-30T20:11:10.840382",
     "status": "completed"
    },
    "tags": []
   },
   "outputs": [
    {
     "name": "stdout",
     "output_type": "stream",
     "text": [
      "Using Seed: 2023\n"
     ]
    }
   ],
   "source": [
    "import numpy as np\n",
    "parsed_seed = int(seed)\n",
    "np.random.seed(parsed_seed)\n",
    "print(f\"Using Seed: {parsed_seed}\")"
   ]
  },
  {
   "cell_type": "markdown",
   "id": "e0ebdc57",
   "metadata": {
    "papermill": {
     "duration": 0.012497,
     "end_time": "2025-07-30T20:11:10.905944",
     "exception": false,
     "start_time": "2025-07-30T20:11:10.893447",
     "status": "completed"
    },
    "tags": []
   },
   "source": [
    "# Loading Data"
   ]
  },
  {
   "cell_type": "markdown",
   "id": "681925a3",
   "metadata": {
    "papermill": {
     "duration": 0.022305,
     "end_time": "2025-07-30T20:11:10.942230",
     "exception": false,
     "start_time": "2025-07-30T20:11:10.919925",
     "status": "completed"
    },
    "tags": []
   },
   "source": [
    "Load siab_train, siab_test, siab_calib and/or \n",
    "load siab_train_features, siab_train_labels"
   ]
  },
  {
   "cell_type": "code",
   "execution_count": 9,
   "id": "f0496b8a",
   "metadata": {
    "execution": {
     "iopub.execute_input": "2025-07-30T20:11:10.981678Z",
     "iopub.status.busy": "2025-07-30T20:11:10.981241Z",
     "iopub.status.idle": "2025-07-30T20:11:24.537183Z",
     "shell.execute_reply": "2025-07-30T20:11:24.536097Z"
    },
    "papermill": {
     "duration": 13.575093,
     "end_time": "2025-07-30T20:11:24.538956",
     "exception": false,
     "start_time": "2025-07-30T20:11:10.963863",
     "status": "completed"
    },
    "tags": []
   },
   "outputs": [
    {
     "name": "stdout",
     "output_type": "stream",
     "text": [
      "Loading SIAB data from cache: data/siab_cached.csv.gz\n"
     ]
    },
    {
     "name": "stdout",
     "output_type": "stream",
     "text": [
      "(643690, 164)\n"
     ]
    }
   ],
   "source": [
    "from pathlib import Path\n",
    "import pandas as pd\n",
    "\n",
    "# File paths\n",
    "raw_file = Path(\"data/raw/siab.csv\")\n",
    "cache_file = Path(\"data/siab_cached.csv.gz\")\n",
    "\n",
    "# Ensure cache directory exists\n",
    "cache_file.parent.mkdir(parents=True, exist_ok=True)\n",
    "\n",
    "# Load with simple caching\n",
    "if cache_file.exists():\n",
    "    print(f\"Loading SIAB data from cache: {cache_file}\")\n",
    "    siab = pd.read_csv(cache_file, compression='gzip')\n",
    "else:\n",
    "    print(f\"Cache not found. Reading raw SIAB data: {raw_file}\")\n",
    "    siab = pd.read_csv(raw_file)\n",
    "    siab.to_csv(cache_file, index=False, compression='gzip')\n",
    "    print(f\"Cached SIAB data to: {cache_file}\")\n",
    "\n",
    "# Now use `siab` DataFrame as needed\n",
    "print(siab.shape)"
   ]
  },
  {
   "cell_type": "code",
   "execution_count": 10,
   "id": "db0ca512-5f53-4dba-abdb-a2888bca41ba",
   "metadata": {
    "execution": {
     "iopub.execute_input": "2025-07-30T20:11:24.626607Z",
     "iopub.status.busy": "2025-07-30T20:11:24.626199Z",
     "iopub.status.idle": "2025-07-30T20:11:24.631939Z",
     "shell.execute_reply": "2025-07-30T20:11:24.630964Z"
    },
    "papermill": {
     "duration": 0.058896,
     "end_time": "2025-07-30T20:11:24.633672",
     "exception": false,
     "start_time": "2025-07-30T20:11:24.574776",
     "status": "completed"
    },
    "tags": []
   },
   "outputs": [],
   "source": [
    "#siab"
   ]
  },
  {
   "cell_type": "code",
   "execution_count": 11,
   "id": "a0edb063",
   "metadata": {
    "execution": {
     "iopub.execute_input": "2025-07-30T20:11:24.742428Z",
     "iopub.status.busy": "2025-07-30T20:11:24.742055Z",
     "iopub.status.idle": "2025-07-30T20:11:24.747069Z",
     "shell.execute_reply": "2025-07-30T20:11:24.746176Z"
    },
    "papermill": {
     "duration": 0.060386,
     "end_time": "2025-07-30T20:11:24.748964",
     "exception": false,
     "start_time": "2025-07-30T20:11:24.688578",
     "status": "completed"
    },
    "tags": []
   },
   "outputs": [],
   "source": [
    "#import pandas as pd\n",
    "#\n",
    "#X_train = pd.read_csv(\"./data/X_train.csv\")\n",
    "#y_train = pd.read_csv(\"./data/y_train.csv\")"
   ]
  },
  {
   "cell_type": "code",
   "execution_count": 12,
   "id": "63d08085",
   "metadata": {
    "execution": {
     "iopub.execute_input": "2025-07-30T20:11:24.826918Z",
     "iopub.status.busy": "2025-07-30T20:11:24.826482Z",
     "iopub.status.idle": "2025-07-30T20:11:24.831576Z",
     "shell.execute_reply": "2025-07-30T20:11:24.830612Z"
    },
    "papermill": {
     "duration": 0.040672,
     "end_time": "2025-07-30T20:11:24.845237",
     "exception": false,
     "start_time": "2025-07-30T20:11:24.804565",
     "status": "completed"
    },
    "tags": []
   },
   "outputs": [],
   "source": [
    "#X_test = pd.read_csv(\"./data/X_test.csv\")\n",
    "#y_true = pd.read_csv(\"./data/y_test.csv\")"
   ]
  },
  {
   "cell_type": "code",
   "execution_count": 13,
   "id": "98a8d0fa-1d3d-4ed8-bb2c-281470e24add",
   "metadata": {
    "execution": {
     "iopub.execute_input": "2025-07-30T20:11:24.923089Z",
     "iopub.status.busy": "2025-07-30T20:11:24.922534Z",
     "iopub.status.idle": "2025-07-30T20:11:24.928216Z",
     "shell.execute_reply": "2025-07-30T20:11:24.927009Z"
    },
    "papermill": {
     "duration": 0.047854,
     "end_time": "2025-07-30T20:11:24.930656",
     "exception": false,
     "start_time": "2025-07-30T20:11:24.882802",
     "status": "completed"
    },
    "tags": []
   },
   "outputs": [],
   "source": [
    "# Calibration data for conformal\n",
    "#X_calib = pd.read_csv(\"./data/X_calib.csv\")\n",
    "#y_calib = pd.read_csv(\"./data/y_calib.csv\")"
   ]
  },
  {
   "cell_type": "markdown",
   "id": "997051c5-15bd-4b69-9786-c3001a3ce484",
   "metadata": {
    "papermill": {
     "duration": 0.049839,
     "end_time": "2025-07-30T20:11:25.002598",
     "exception": false,
     "start_time": "2025-07-30T20:11:24.952759",
     "status": "completed"
    },
    "tags": []
   },
   "source": [
    "# Splitting Data and Setting Training Data Size"
   ]
  },
  {
   "cell_type": "code",
   "execution_count": 14,
   "id": "e993b61f-042d-41a6-8c81-f55681f86335",
   "metadata": {
    "execution": {
     "iopub.execute_input": "2025-07-30T20:11:25.125458Z",
     "iopub.status.busy": "2025-07-30T20:11:25.125074Z",
     "iopub.status.idle": "2025-07-30T20:11:25.158464Z",
     "shell.execute_reply": "2025-07-30T20:11:25.157519Z"
    },
    "papermill": {
     "duration": 0.101137,
     "end_time": "2025-07-30T20:11:25.163909",
     "exception": false,
     "start_time": "2025-07-30T20:11:25.062772",
     "status": "completed"
    },
    "tags": []
   },
   "outputs": [],
   "source": [
    "def sample_by_year_size(df,\n",
    "                        training_year: str,\n",
    "                        training_size: str,\n",
    "                        random_state: int = 42):\n",
    "    # --- parse training_year into a list of int years ---\n",
    "    if \"_\" in training_year:\n",
    "        start_str, end_str = training_year.split(\"_\", 1)\n",
    "        start = int(start_str)\n",
    "        end   = int(end_str) if len(end_str) == 4 else (int(end_str) + (start // 100)*100)\n",
    "        years = list(range(start, end + 1))\n",
    "    else:\n",
    "        years = [int(training_year)]\n",
    "\n",
    "    df = df[df[\"year\"].isin(years)].reset_index(drop=True)\n",
    "\n",
    "    # --- map training_size to total number of samples ---\n",
    "    total_map = {\"25k\": 25_000, \"5k\": 5_000, \"1k\": 1_000}\n",
    "    if training_size not in total_map:\n",
    "        return df  # e.g. \"all\"\n",
    "\n",
    "    total_samples = total_map[training_size]\n",
    "    n_years       = len(years)\n",
    "    base          = total_samples // n_years\n",
    "    remainder     = total_samples % n_years\n",
    "\n",
    "    # --- build a dict: year -> how many to sample ---\n",
    "    # give +1 to the first `remainder` years in ascending order\n",
    "    quotas = {\n",
    "        year: base + (1 if idx < remainder else 0)\n",
    "        for idx, year in enumerate(sorted(years))\n",
    "    }\n",
    "\n",
    "    # --- sample per‐year according to the quota dict ---\n",
    "    sampled = (\n",
    "        df\n",
    "        .groupby(\"year\", group_keys=False)\n",
    "        .apply(lambda grp: grp.sample(\n",
    "            n=min(len(grp), quotas[grp.name]),\n",
    "            random_state=random_state))\n",
    "        .reset_index(drop=True)\n",
    "    )\n",
    "\n",
    "    return sampled"
   ]
  },
  {
   "cell_type": "code",
   "execution_count": 15,
   "id": "c0ccd338-0e02-41f3-a09d-f56f9266e3fb",
   "metadata": {
    "execution": {
     "iopub.execute_input": "2025-07-30T20:11:25.317205Z",
     "iopub.status.busy": "2025-07-30T20:11:25.316786Z",
     "iopub.status.idle": "2025-07-30T20:11:25.322185Z",
     "shell.execute_reply": "2025-07-30T20:11:25.321141Z"
    },
    "papermill": {
     "duration": 0.081149,
     "end_time": "2025-07-30T20:11:25.330167",
     "exception": false,
     "start_time": "2025-07-30T20:11:25.249018",
     "status": "completed"
    },
    "tags": []
   },
   "outputs": [],
   "source": [
    "#universe[\"training_size\"]"
   ]
  },
  {
   "cell_type": "code",
   "execution_count": 16,
   "id": "ca707fd7-8047-4acd-bfa5-66248fbbf8e6",
   "metadata": {
    "execution": {
     "iopub.execute_input": "2025-07-30T20:11:25.478509Z",
     "iopub.status.busy": "2025-07-30T20:11:25.478097Z",
     "iopub.status.idle": "2025-07-30T20:11:25.483523Z",
     "shell.execute_reply": "2025-07-30T20:11:25.482542Z"
    },
    "papermill": {
     "duration": 0.08182,
     "end_time": "2025-07-30T20:11:25.486511",
     "exception": false,
     "start_time": "2025-07-30T20:11:25.404691",
     "status": "completed"
    },
    "tags": []
   },
   "outputs": [],
   "source": [
    "#universe[\"training_year\"]"
   ]
  },
  {
   "cell_type": "code",
   "execution_count": 17,
   "id": "aea9c6ef-6f46-42c8-85eb-5a62025c1508",
   "metadata": {
    "execution": {
     "iopub.execute_input": "2025-07-30T20:11:25.556373Z",
     "iopub.status.busy": "2025-07-30T20:11:25.555914Z",
     "iopub.status.idle": "2025-07-30T20:11:26.265060Z",
     "shell.execute_reply": "2025-07-30T20:11:26.263959Z"
    },
    "papermill": {
     "duration": 0.733982,
     "end_time": "2025-07-30T20:11:26.267085",
     "exception": false,
     "start_time": "2025-07-30T20:11:25.533103",
     "status": "completed"
    },
    "tags": []
   },
   "outputs": [],
   "source": [
    "siab_train = sample_by_year_size(siab,\n",
    "                               training_year=universe[\"training_year\"],\n",
    "                               training_size=universe[\"training_size\"])"
   ]
  },
  {
   "cell_type": "code",
   "execution_count": 18,
   "id": "8d3afb32-789d-442c-8d5d-9f5aa8dd2eed",
   "metadata": {
    "execution": {
     "iopub.execute_input": "2025-07-30T20:11:26.393269Z",
     "iopub.status.busy": "2025-07-30T20:11:26.392873Z",
     "iopub.status.idle": "2025-07-30T20:11:26.397155Z",
     "shell.execute_reply": "2025-07-30T20:11:26.396218Z"
    },
    "papermill": {
     "duration": 0.042586,
     "end_time": "2025-07-30T20:11:26.398684",
     "exception": false,
     "start_time": "2025-07-30T20:11:26.356098",
     "status": "completed"
    },
    "tags": []
   },
   "outputs": [],
   "source": [
    "#siab_train.shape"
   ]
  },
  {
   "cell_type": "code",
   "execution_count": 19,
   "id": "d582db68-1a4c-47fb-84fc-08518dc1975a",
   "metadata": {
    "execution": {
     "iopub.execute_input": "2025-07-30T20:11:26.465259Z",
     "iopub.status.busy": "2025-07-30T20:11:26.464223Z",
     "iopub.status.idle": "2025-07-30T20:11:26.481212Z",
     "shell.execute_reply": "2025-07-30T20:11:26.480096Z"
    },
    "papermill": {
     "duration": 0.049878,
     "end_time": "2025-07-30T20:11:26.483416",
     "exception": false,
     "start_time": "2025-07-30T20:11:26.433538",
     "status": "completed"
    },
    "tags": []
   },
   "outputs": [],
   "source": [
    "#display(siab_train.groupby(\"year\").size())"
   ]
  },
  {
   "cell_type": "code",
   "execution_count": 20,
   "id": "a561edb4-d032-42cb-8256-22eac1111c64",
   "metadata": {
    "execution": {
     "iopub.execute_input": "2025-07-30T20:11:26.595123Z",
     "iopub.status.busy": "2025-07-30T20:11:26.594718Z",
     "iopub.status.idle": "2025-07-30T20:11:26.856272Z",
     "shell.execute_reply": "2025-07-30T20:11:26.855232Z"
    },
    "papermill": {
     "duration": 0.337666,
     "end_time": "2025-07-30T20:11:26.858067",
     "exception": false,
     "start_time": "2025-07-30T20:11:26.520401",
     "status": "completed"
    },
    "tags": []
   },
   "outputs": [],
   "source": [
    "#siab_train = siab_s[siab_s.year < 2015]\n",
    "siab_calib = siab[siab.year == 2015]\n",
    "siab_test = siab[siab.year == 2016]"
   ]
  },
  {
   "cell_type": "code",
   "execution_count": 21,
   "id": "472de16f-c3db-4916-846b-1f0de9cf1746",
   "metadata": {
    "execution": {
     "iopub.execute_input": "2025-07-30T20:11:26.978474Z",
     "iopub.status.busy": "2025-07-30T20:11:26.978091Z",
     "iopub.status.idle": "2025-07-30T20:11:26.993245Z",
     "shell.execute_reply": "2025-07-30T20:11:26.992127Z"
    },
    "papermill": {
     "duration": 0.079416,
     "end_time": "2025-07-30T20:11:26.994998",
     "exception": false,
     "start_time": "2025-07-30T20:11:26.915582",
     "status": "completed"
    },
    "tags": []
   },
   "outputs": [],
   "source": [
    "X_train = siab_train.iloc[:,4:164]\n",
    "y_train = siab_train.iloc[:, [3]]"
   ]
  },
  {
   "cell_type": "code",
   "execution_count": 22,
   "id": "828c96af-f43a-4ed6-ba47-8ac73a47d56c",
   "metadata": {
    "execution": {
     "iopub.execute_input": "2025-07-30T20:11:27.041099Z",
     "iopub.status.busy": "2025-07-30T20:11:27.039840Z",
     "iopub.status.idle": "2025-07-30T20:11:27.111546Z",
     "shell.execute_reply": "2025-07-30T20:11:27.110477Z"
    },
    "papermill": {
     "duration": 0.095598,
     "end_time": "2025-07-30T20:11:27.113744",
     "exception": false,
     "start_time": "2025-07-30T20:11:27.018146",
     "status": "completed"
    },
    "tags": []
   },
   "outputs": [],
   "source": [
    "X_calib = siab_calib.iloc[:,4:164]\n",
    "y_calib = siab_calib.iloc[:, [3]]"
   ]
  },
  {
   "cell_type": "code",
   "execution_count": 23,
   "id": "c34be9c3-6bd6-476e-acd3-845840e303be",
   "metadata": {
    "execution": {
     "iopub.execute_input": "2025-07-30T20:11:27.174995Z",
     "iopub.status.busy": "2025-07-30T20:11:27.174037Z",
     "iopub.status.idle": "2025-07-30T20:11:27.228162Z",
     "shell.execute_reply": "2025-07-30T20:11:27.227120Z"
    },
    "papermill": {
     "duration": 0.086795,
     "end_time": "2025-07-30T20:11:27.229874",
     "exception": false,
     "start_time": "2025-07-30T20:11:27.143079",
     "status": "completed"
    },
    "tags": []
   },
   "outputs": [],
   "source": [
    "X_test = siab_test.iloc[:,4:164]\n",
    "y_true = siab_test.iloc[:, [3]]"
   ]
  },
  {
   "cell_type": "markdown",
   "id": "9901737e-04df-44f0-9100-f5ad144ed040",
   "metadata": {
    "papermill": {
     "duration": 0.020719,
     "end_time": "2025-07-30T20:11:27.271830",
     "exception": false,
     "start_time": "2025-07-30T20:11:27.251111",
     "status": "completed"
    },
    "tags": []
   },
   "source": [
    "# Splitting Data and Setting Training Data Size OLD VERSION"
   ]
  },
  {
   "cell_type": "code",
   "execution_count": 24,
   "id": "acbc8f7d-8fc8-4e86-8c59-5dcb0f58384b",
   "metadata": {
    "execution": {
     "iopub.execute_input": "2025-07-30T20:11:27.317455Z",
     "iopub.status.busy": "2025-07-30T20:11:27.317075Z",
     "iopub.status.idle": "2025-07-30T20:11:27.322911Z",
     "shell.execute_reply": "2025-07-30T20:11:27.322019Z"
    },
    "papermill": {
     "duration": 0.030255,
     "end_time": "2025-07-30T20:11:27.325872",
     "exception": false,
     "start_time": "2025-07-30T20:11:27.295617",
     "status": "completed"
    },
    "tags": []
   },
   "outputs": [],
   "source": [
    "#def sample_by_year(df, training_size, random_state=42):\n",
    "#    if training_size == \"2014\":\n",
    "#        return df[df[\"year\"] == 2014].reset_index(drop=True)\n",
    "#    \n",
    "#    size_map = {\n",
    "#        \"25k\": 5000,\n",
    "#        \"5k\": 1000,\n",
    "#        \"1k\": 200\n",
    "#    }\n",
    "#\n",
    "#    if training_size not in size_map:\n",
    "#        return df.reset_index(drop=True)  # use all data\n",
    "#\n",
    "#    n_per_year = size_map[training_size]\n",
    "#    grouped = df.groupby(\"year\")\n",
    "#    sampled = grouped.apply(lambda x: x.sample(n=min(n_per_year, len(x)), random_state=random_state))\n",
    "#    return sampled.reset_index(drop=True)"
   ]
  },
  {
   "cell_type": "code",
   "execution_count": 25,
   "id": "6d931f52-beaf-43ff-9e78-9d44a448d54e",
   "metadata": {
    "execution": {
     "iopub.execute_input": "2025-07-30T20:11:27.426164Z",
     "iopub.status.busy": "2025-07-30T20:11:27.425726Z",
     "iopub.status.idle": "2025-07-30T20:11:27.431169Z",
     "shell.execute_reply": "2025-07-30T20:11:27.430165Z"
    },
    "papermill": {
     "duration": 0.072459,
     "end_time": "2025-07-30T20:11:27.433789",
     "exception": false,
     "start_time": "2025-07-30T20:11:27.361330",
     "status": "completed"
    },
    "tags": []
   },
   "outputs": [],
   "source": [
    "#siab_s = sample_by_year(siab, universe[\"training_size\"])"
   ]
  },
  {
   "cell_type": "code",
   "execution_count": 26,
   "id": "5db0a40e-a4e2-4920-be85-b12ae061d70d",
   "metadata": {
    "execution": {
     "iopub.execute_input": "2025-07-30T20:11:27.548208Z",
     "iopub.status.busy": "2025-07-30T20:11:27.547721Z",
     "iopub.status.idle": "2025-07-30T20:11:27.553409Z",
     "shell.execute_reply": "2025-07-30T20:11:27.552422Z"
    },
    "papermill": {
     "duration": 0.080455,
     "end_time": "2025-07-30T20:11:27.555569",
     "exception": false,
     "start_time": "2025-07-30T20:11:27.475114",
     "status": "completed"
    },
    "tags": []
   },
   "outputs": [],
   "source": [
    "#display(siab_s.groupby(\"year\").size())"
   ]
  },
  {
   "cell_type": "code",
   "execution_count": 27,
   "id": "e6c733c5",
   "metadata": {
    "execution": {
     "iopub.execute_input": "2025-07-30T20:11:27.632983Z",
     "iopub.status.busy": "2025-07-30T20:11:27.632582Z",
     "iopub.status.idle": "2025-07-30T20:11:27.739318Z",
     "shell.execute_reply": "2025-07-30T20:11:27.738371Z"
    },
    "papermill": {
     "duration": 0.148691,
     "end_time": "2025-07-30T20:11:27.741412",
     "exception": false,
     "start_time": "2025-07-30T20:11:27.592721",
     "status": "completed"
    },
    "tags": []
   },
   "outputs": [],
   "source": [
    "# Auxiliary data needed downstream in the pipeline\n",
    "\n",
    "org_train = X_train.copy()\n",
    "org_test = X_test.copy()\n",
    "org_calib = X_calib.copy()"
   ]
  },
  {
   "cell_type": "code",
   "execution_count": 28,
   "id": "1466abac-c6da-4492-a62f-4240ae3783af",
   "metadata": {
    "execution": {
     "iopub.execute_input": "2025-07-30T20:11:27.816489Z",
     "iopub.status.busy": "2025-07-30T20:11:27.816066Z",
     "iopub.status.idle": "2025-07-30T20:11:27.822072Z",
     "shell.execute_reply": "2025-07-30T20:11:27.821251Z"
    },
    "papermill": {
     "duration": 0.045448,
     "end_time": "2025-07-30T20:11:27.824570",
     "exception": false,
     "start_time": "2025-07-30T20:11:27.779122",
     "status": "completed"
    },
    "tags": []
   },
   "outputs": [],
   "source": [
    "# put in other script?\n",
    "# Group sizes\n",
    "\n",
    "#def calculate_percentages(df, df_name):\n",
    "#    total_entries = len(df)\n",
    "#\n",
    "#    female_pct = (df['frau1'] == 1).mean() * 100\n",
    "#    non_german_pct = ((df['maxdeutsch1'] == 0) & (df['maxdeutsch.Missing.'] == 0)).mean() * 100\n",
    "#    non_german_male_pct = ((df['frau1'] == 0) & (df['maxdeutsch1'] == 0) & (df['maxdeutsch.Missing.'] == 0)).mean() * 100\n",
    "#    non_german_female_pct = ((df['frau1'] == 1) & (df['maxdeutsch1'] == 0) & (df['maxdeutsch.Missing.'] == 0)).mean() * 100\n",
    "#\n",
    "#    print(f\"--- {df_name} ---\")\n",
    "#    print(f\"Female: {female_pct:.2f}%\")\n",
    "#    print(f\"Non-German: {non_german_pct:.2f}%\")\n",
    "#    print(f\"Non-German Male: {non_german_male_pct:.2f}%\")\n",
    "#    print(f\"Non-German Female: {non_german_female_pct:.2f}%\\n\")\n",
    "#\n",
    "## Calculate for each DataFrame\n",
    "#calculate_percentages(siab_calib, \"siab_calib\")\n",
    "#calculate_percentages(siab_test, \"siab_test\")\n",
    "#calculate_percentages(siab_train, \"siab_train\")"
   ]
  },
  {
   "cell_type": "markdown",
   "id": "0a4a1b33",
   "metadata": {
    "papermill": {
     "duration": 0.021063,
     "end_time": "2025-07-30T20:11:27.867443",
     "exception": false,
     "start_time": "2025-07-30T20:11:27.846380",
     "status": "completed"
    },
    "tags": []
   },
   "source": [
    "# Preprocessing Data"
   ]
  },
  {
   "cell_type": "code",
   "execution_count": 29,
   "id": "ca879031",
   "metadata": {
    "execution": {
     "iopub.execute_input": "2025-07-30T20:11:27.914724Z",
     "iopub.status.busy": "2025-07-30T20:11:27.914332Z",
     "iopub.status.idle": "2025-07-30T20:11:27.920686Z",
     "shell.execute_reply": "2025-07-30T20:11:27.919524Z"
    },
    "papermill": {
     "duration": 0.032425,
     "end_time": "2025-07-30T20:11:27.922972",
     "exception": false,
     "start_time": "2025-07-30T20:11:27.890547",
     "status": "completed"
    },
    "tags": []
   },
   "outputs": [],
   "source": [
    "# EXCLUDE PROTECTED FEATURES\n",
    "# ----------------------\n",
    "# \"exclude_features\": \"none\", # \"nationality\", \"sex\", \"nationality-sex\"\n",
    "\n",
    "excluded_features = universe[\"exclude_features\"].split(\"-\") # split, e.g.: \"nationality-sex\" -> [\"nationality\", \"sex\"]\n",
    "excluded_features_dictionary = {\n",
    "    \"nationality\": [\"maxdeutsch1\", \"maxdeutsch.Missing.\"],\n",
    "    \"sex\": [\"frau1\"],\n",
    "    \"age\": [\"age\"],\n",
    "}\n"
   ]
  },
  {
   "cell_type": "code",
   "execution_count": 30,
   "id": "b745ac60",
   "metadata": {
    "execution": {
     "iopub.execute_input": "2025-07-30T20:11:27.964547Z",
     "iopub.status.busy": "2025-07-30T20:11:27.964150Z",
     "iopub.status.idle": "2025-07-30T20:11:27.969885Z",
     "shell.execute_reply": "2025-07-30T20:11:27.969053Z"
    },
    "papermill": {
     "duration": 0.030919,
     "end_time": "2025-07-30T20:11:27.972947",
     "exception": false,
     "start_time": "2025-07-30T20:11:27.942028",
     "status": "completed"
    },
    "tags": []
   },
   "outputs": [],
   "source": [
    "# Code nice names to column names\n",
    "\n",
    "excluded_features_columns = [\n",
    "    excluded_features_dictionary[f] for f in excluded_features if len(f) > 0 and f != \"none\"\n",
    "]"
   ]
  },
  {
   "cell_type": "code",
   "execution_count": 31,
   "id": "f84f73a2",
   "metadata": {
    "execution": {
     "iopub.execute_input": "2025-07-30T20:11:28.018764Z",
     "iopub.status.busy": "2025-07-30T20:11:28.018391Z",
     "iopub.status.idle": "2025-07-30T20:11:28.024551Z",
     "shell.execute_reply": "2025-07-30T20:11:28.023607Z"
    },
    "papermill": {
     "duration": 0.031512,
     "end_time": "2025-07-30T20:11:28.027244",
     "exception": false,
     "start_time": "2025-07-30T20:11:27.995732",
     "status": "completed"
    },
    "tags": []
   },
   "outputs": [],
   "source": [
    "from utils import flatten_once\n",
    "\n",
    "excluded_features_columns = flatten_once(excluded_features_columns)"
   ]
  },
  {
   "cell_type": "code",
   "execution_count": 32,
   "id": "884dea22",
   "metadata": {
    "execution": {
     "iopub.execute_input": "2025-07-30T20:11:28.086143Z",
     "iopub.status.busy": "2025-07-30T20:11:28.085754Z",
     "iopub.status.idle": "2025-07-30T20:11:28.107327Z",
     "shell.execute_reply": "2025-07-30T20:11:28.106118Z"
    },
    "papermill": {
     "duration": 0.060606,
     "end_time": "2025-07-30T20:11:28.109019",
     "exception": false,
     "start_time": "2025-07-30T20:11:28.048413",
     "status": "completed"
    },
    "tags": []
   },
   "outputs": [
    {
     "name": "stdout",
     "output_type": "stream",
     "text": [
      "Dropping features: ['frau1']\n"
     ]
    }
   ],
   "source": [
    "if len(excluded_features_columns) > 0:\n",
    "    print(f\"Dropping features: {excluded_features_columns}\")\n",
    "    X_train.drop(excluded_features_columns, axis=1, inplace=True)"
   ]
  },
  {
   "cell_type": "code",
   "execution_count": 33,
   "id": "95ab8b16",
   "metadata": {
    "execution": {
     "iopub.execute_input": "2025-07-30T20:11:28.172576Z",
     "iopub.status.busy": "2025-07-30T20:11:28.171717Z",
     "iopub.status.idle": "2025-07-30T20:11:28.225761Z",
     "shell.execute_reply": "2025-07-30T20:11:28.224401Z"
    },
    "papermill": {
     "duration": 0.078981,
     "end_time": "2025-07-30T20:11:28.227526",
     "exception": false,
     "start_time": "2025-07-30T20:11:28.148545",
     "status": "completed"
    },
    "tags": []
   },
   "outputs": [
    {
     "name": "stdout",
     "output_type": "stream",
     "text": [
      "Dropping features: ['frau1']\n"
     ]
    }
   ],
   "source": [
    "if len(excluded_features_columns) > 0:\n",
    "    print(f\"Dropping features: {excluded_features_columns}\")\n",
    "    X_test.drop(excluded_features_columns, axis=1, inplace=True)"
   ]
  },
  {
   "cell_type": "code",
   "execution_count": 34,
   "id": "1853aaf5-fb9f-46cb-a2b5-8ea4ae2237e4",
   "metadata": {
    "execution": {
     "iopub.execute_input": "2025-07-30T20:11:28.277271Z",
     "iopub.status.busy": "2025-07-30T20:11:28.276273Z",
     "iopub.status.idle": "2025-07-30T20:11:28.330806Z",
     "shell.execute_reply": "2025-07-30T20:11:28.329987Z"
    },
    "papermill": {
     "duration": 0.079773,
     "end_time": "2025-07-30T20:11:28.332503",
     "exception": false,
     "start_time": "2025-07-30T20:11:28.252730",
     "status": "completed"
    },
    "tags": []
   },
   "outputs": [
    {
     "name": "stdout",
     "output_type": "stream",
     "text": [
      "Dropping features: ['frau1']\n"
     ]
    }
   ],
   "source": [
    "if len(excluded_features_columns) > 0:\n",
    "    print(f\"Dropping features: {excluded_features_columns}\")\n",
    "    X_calib.drop(excluded_features_columns, axis=1, inplace=True)"
   ]
  },
  {
   "cell_type": "code",
   "execution_count": 35,
   "id": "6727d079-03e5-481e-9d38-292a90b7a0a8",
   "metadata": {
    "execution": {
     "iopub.execute_input": "2025-07-30T20:11:28.374880Z",
     "iopub.status.busy": "2025-07-30T20:11:28.374499Z",
     "iopub.status.idle": "2025-07-30T20:11:28.378783Z",
     "shell.execute_reply": "2025-07-30T20:11:28.377925Z"
    },
    "papermill": {
     "duration": 0.021594,
     "end_time": "2025-07-30T20:11:28.380261",
     "exception": false,
     "start_time": "2025-07-30T20:11:28.358667",
     "status": "completed"
    },
    "tags": []
   },
   "outputs": [],
   "source": [
    "# SPLIT & STRATIFY DATA\n",
    "# ----------------------"
   ]
  },
  {
   "cell_type": "code",
   "execution_count": 36,
   "id": "76c4dc6d",
   "metadata": {
    "execution": {
     "iopub.execute_input": "2025-07-30T20:11:28.408578Z",
     "iopub.status.busy": "2025-07-30T20:11:28.408076Z",
     "iopub.status.idle": "2025-07-30T20:11:28.413197Z",
     "shell.execute_reply": "2025-07-30T20:11:28.412315Z"
    },
    "papermill": {
     "duration": 0.020283,
     "end_time": "2025-07-30T20:11:28.414535",
     "exception": false,
     "start_time": "2025-07-30T20:11:28.394252",
     "status": "completed"
    },
    "tags": []
   },
   "outputs": [],
   "source": [
    "# EXCLUDE CERTAIN SUBGROUPS\n",
    "# ----------------------\n",
    "\n",
    "mode = universe.get(\"exclude_subgroups\", \"keep-all\") \n",
    "# Fetches the exclude_subgroups setting from the universe dict.\n",
    "# Defaults to \"keep-all\" if the key is missing."
   ]
  },
  {
   "cell_type": "code",
   "execution_count": 37,
   "id": "21994072",
   "metadata": {
    "execution": {
     "iopub.execute_input": "2025-07-30T20:11:28.442544Z",
     "iopub.status.busy": "2025-07-30T20:11:28.441976Z",
     "iopub.status.idle": "2025-07-30T20:11:28.448636Z",
     "shell.execute_reply": "2025-07-30T20:11:28.447712Z"
    },
    "papermill": {
     "duration": 0.022157,
     "end_time": "2025-07-30T20:11:28.450086",
     "exception": false,
     "start_time": "2025-07-30T20:11:28.427929",
     "status": "completed"
    },
    "tags": []
   },
   "outputs": [],
   "source": [
    "if mode == \"keep-all\":\n",
    "    keep_mask = pd.Series(True, index=org_train.index)\n",
    "\n",
    "# org_train contains the original feature columns from features_org (in Simson)\n",
    "# features_org contains unprocessed features, for me X_train at beginning ???\n",
    "# For keep-all, creates a boolean Series (keep_mask) of all True, so no rows are removed.\n",
    "\n",
    "elif mode == \"drop-non-german\":\n",
    "    keep_mask = org_train[\"maxdeutsch1\"] == 1 # ??? what about missing values?\n",
    "\n",
    "else:\n",
    "    raise ValueError(f\"Unsupported mode for exclude_subgroups: {mode}\")\n"
   ]
  },
  {
   "cell_type": "code",
   "execution_count": 38,
   "id": "71651440",
   "metadata": {
    "execution": {
     "iopub.execute_input": "2025-07-30T20:11:28.501773Z",
     "iopub.status.busy": "2025-07-30T20:11:28.501274Z",
     "iopub.status.idle": "2025-07-30T20:11:28.508291Z",
     "shell.execute_reply": "2025-07-30T20:11:28.507267Z"
    },
    "papermill": {
     "duration": 0.034495,
     "end_time": "2025-07-30T20:11:28.509914",
     "exception": false,
     "start_time": "2025-07-30T20:11:28.475419",
     "status": "completed"
    },
    "tags": []
   },
   "outputs": [],
   "source": [
    "n_drop = (~keep_mask).sum() # Calculates how many rows are set to be dropped\n",
    "if n_drop > 0:\n",
    "    pct = n_drop / len(keep_mask) * 100\n",
    "    print(f\"Dropping {n_drop} rows ({pct:.2f}%) where mode='{mode}'\")"
   ]
  },
  {
   "cell_type": "code",
   "execution_count": 39,
   "id": "5fb8eee5",
   "metadata": {
    "execution": {
     "iopub.execute_input": "2025-07-30T20:11:28.589041Z",
     "iopub.status.busy": "2025-07-30T20:11:28.588534Z",
     "iopub.status.idle": "2025-07-30T20:11:28.629672Z",
     "shell.execute_reply": "2025-07-30T20:11:28.628184Z"
    },
    "papermill": {
     "duration": 0.083411,
     "end_time": "2025-07-30T20:11:28.631723",
     "exception": false,
     "start_time": "2025-07-30T20:11:28.548312",
     "status": "completed"
    },
    "tags": []
   },
   "outputs": [],
   "source": [
    "X_train = X_train[keep_mask]"
   ]
  },
  {
   "cell_type": "code",
   "execution_count": 40,
   "id": "b202bb3a",
   "metadata": {
    "execution": {
     "iopub.execute_input": "2025-07-30T20:11:28.730846Z",
     "iopub.status.busy": "2025-07-30T20:11:28.730441Z",
     "iopub.status.idle": "2025-07-30T20:11:28.737102Z",
     "shell.execute_reply": "2025-07-30T20:11:28.736233Z"
    },
    "papermill": {
     "duration": 0.048208,
     "end_time": "2025-07-30T20:11:28.738561",
     "exception": false,
     "start_time": "2025-07-30T20:11:28.690353",
     "status": "completed"
    },
    "tags": []
   },
   "outputs": [],
   "source": [
    "y_train = y_train[keep_mask]"
   ]
  },
  {
   "cell_type": "markdown",
   "id": "493e2ac3",
   "metadata": {
    "papermill": {
     "duration": 0.021895,
     "end_time": "2025-07-30T20:11:28.802628",
     "exception": false,
     "start_time": "2025-07-30T20:11:28.780733",
     "status": "completed"
    },
    "tags": []
   },
   "source": [
    "# Model Training"
   ]
  },
  {
   "cell_type": "code",
   "execution_count": 41,
   "id": "679e1268",
   "metadata": {
    "execution": {
     "iopub.execute_input": "2025-07-30T20:11:28.871191Z",
     "iopub.status.busy": "2025-07-30T20:11:28.870723Z",
     "iopub.status.idle": "2025-07-30T20:11:29.065175Z",
     "shell.execute_reply": "2025-07-30T20:11:29.064117Z"
    },
    "papermill": {
     "duration": 0.222787,
     "end_time": "2025-07-30T20:11:29.066969",
     "exception": false,
     "start_time": "2025-07-30T20:11:28.844182",
     "status": "completed"
    },
    "tags": []
   },
   "outputs": [],
   "source": [
    "from sklearn.linear_model import LogisticRegression\n",
    "from sklearn.ensemble import GradientBoostingClassifier, RandomForestClassifier\n",
    "\n",
    "if (universe[\"model\"] == \"logreg\"):\n",
    "    model = LogisticRegression() #penalty=\"none\") #, solver=\"newton-cg\", max_iter=1) # include random_state=19 ?\n",
    "elif (universe[\"model\"] == \"penalized_logreg\"):\n",
    "    model = LogisticRegression(penalty=\"l2\", C=1.0) #, solver=\"newton-cg\", max_iter=1)\n",
    "elif (universe[\"model\"] == \"rf\"):\n",
    "    model = RandomForestClassifier(n_estimators=100, n_jobs=-1)\n",
    "elif (universe[\"model\"] == \"gbm\"):\n",
    "    model = GradientBoostingClassifier()\n",
    "elif (universe[\"model\"] == \"elasticnet\"):\n",
    "    model = LogisticRegression(penalty = 'elasticnet', solver = 'saga', l1_ratio = 0.5, max_iter=5000) # which solver to use?\n",
    "else:\n",
    "    raise \"Unsupported universe.model\""
   ]
  },
  {
   "cell_type": "code",
   "execution_count": 42,
   "id": "0cc8f744",
   "metadata": {
    "execution": {
     "iopub.execute_input": "2025-07-30T20:11:29.188851Z",
     "iopub.status.busy": "2025-07-30T20:11:29.188474Z",
     "iopub.status.idle": "2025-07-30T20:11:29.194915Z",
     "shell.execute_reply": "2025-07-30T20:11:29.193943Z"
    },
    "papermill": {
     "duration": 0.089815,
     "end_time": "2025-07-30T20:11:29.196736",
     "exception": false,
     "start_time": "2025-07-30T20:11:29.106921",
     "status": "completed"
    },
    "tags": []
   },
   "outputs": [],
   "source": [
    "import numpy as np\n",
    "from sklearn.pipeline import Pipeline\n",
    "from sklearn.preprocessing import StandardScaler\n",
    "\n",
    "model = Pipeline([\n",
    "    #(\"continuous_processor\", continuous_processor),\n",
    "    #(\"categorical_preprocessor\", categorical_preprocessor),\n",
    "    (\"scale\", StandardScaler() if universe[\"scale\"] == \"scale\" else None), \n",
    "    (\"model\", model),\n",
    "])"
   ]
  },
  {
   "cell_type": "code",
   "execution_count": 43,
   "id": "9442c04d",
   "metadata": {
    "execution": {
     "iopub.execute_input": "2025-07-30T20:11:29.246100Z",
     "iopub.status.busy": "2025-07-30T20:11:29.245687Z",
     "iopub.status.idle": "2025-07-30T20:11:32.462360Z",
     "shell.execute_reply": "2025-07-30T20:11:32.461291Z"
    },
    "papermill": {
     "duration": 3.242827,
     "end_time": "2025-07-30T20:11:32.463715",
     "exception": false,
     "start_time": "2025-07-30T20:11:29.220888",
     "status": "completed"
    },
    "tags": []
   },
   "outputs": [
    {
     "data": {
      "text/html": [
       "<style>#sk-container-id-1 {color: black;background-color: white;}#sk-container-id-1 pre{padding: 0;}#sk-container-id-1 div.sk-toggleable {background-color: white;}#sk-container-id-1 label.sk-toggleable__label {cursor: pointer;display: block;width: 100%;margin-bottom: 0;padding: 0.3em;box-sizing: border-box;text-align: center;}#sk-container-id-1 label.sk-toggleable__label-arrow:before {content: \"▸\";float: left;margin-right: 0.25em;color: #696969;}#sk-container-id-1 label.sk-toggleable__label-arrow:hover:before {color: black;}#sk-container-id-1 div.sk-estimator:hover label.sk-toggleable__label-arrow:before {color: black;}#sk-container-id-1 div.sk-toggleable__content {max-height: 0;max-width: 0;overflow: hidden;text-align: left;background-color: #f0f8ff;}#sk-container-id-1 div.sk-toggleable__content pre {margin: 0.2em;color: black;border-radius: 0.25em;background-color: #f0f8ff;}#sk-container-id-1 input.sk-toggleable__control:checked~div.sk-toggleable__content {max-height: 200px;max-width: 100%;overflow: auto;}#sk-container-id-1 input.sk-toggleable__control:checked~label.sk-toggleable__label-arrow:before {content: \"▾\";}#sk-container-id-1 div.sk-estimator input.sk-toggleable__control:checked~label.sk-toggleable__label {background-color: #d4ebff;}#sk-container-id-1 div.sk-label input.sk-toggleable__control:checked~label.sk-toggleable__label {background-color: #d4ebff;}#sk-container-id-1 input.sk-hidden--visually {border: 0;clip: rect(1px 1px 1px 1px);clip: rect(1px, 1px, 1px, 1px);height: 1px;margin: -1px;overflow: hidden;padding: 0;position: absolute;width: 1px;}#sk-container-id-1 div.sk-estimator {font-family: monospace;background-color: #f0f8ff;border: 1px dotted black;border-radius: 0.25em;box-sizing: border-box;margin-bottom: 0.5em;}#sk-container-id-1 div.sk-estimator:hover {background-color: #d4ebff;}#sk-container-id-1 div.sk-parallel-item::after {content: \"\";width: 100%;border-bottom: 1px solid gray;flex-grow: 1;}#sk-container-id-1 div.sk-label:hover label.sk-toggleable__label {background-color: #d4ebff;}#sk-container-id-1 div.sk-serial::before {content: \"\";position: absolute;border-left: 1px solid gray;box-sizing: border-box;top: 0;bottom: 0;left: 50%;z-index: 0;}#sk-container-id-1 div.sk-serial {display: flex;flex-direction: column;align-items: center;background-color: white;padding-right: 0.2em;padding-left: 0.2em;position: relative;}#sk-container-id-1 div.sk-item {position: relative;z-index: 1;}#sk-container-id-1 div.sk-parallel {display: flex;align-items: stretch;justify-content: center;background-color: white;position: relative;}#sk-container-id-1 div.sk-item::before, #sk-container-id-1 div.sk-parallel-item::before {content: \"\";position: absolute;border-left: 1px solid gray;box-sizing: border-box;top: 0;bottom: 0;left: 50%;z-index: -1;}#sk-container-id-1 div.sk-parallel-item {display: flex;flex-direction: column;z-index: 1;position: relative;background-color: white;}#sk-container-id-1 div.sk-parallel-item:first-child::after {align-self: flex-end;width: 50%;}#sk-container-id-1 div.sk-parallel-item:last-child::after {align-self: flex-start;width: 50%;}#sk-container-id-1 div.sk-parallel-item:only-child::after {width: 0;}#sk-container-id-1 div.sk-dashed-wrapped {border: 1px dashed gray;margin: 0 0.4em 0.5em 0.4em;box-sizing: border-box;padding-bottom: 0.4em;background-color: white;}#sk-container-id-1 div.sk-label label {font-family: monospace;font-weight: bold;display: inline-block;line-height: 1.2em;}#sk-container-id-1 div.sk-label-container {text-align: center;}#sk-container-id-1 div.sk-container {/* jupyter's `normalize.less` sets `[hidden] { display: none; }` but bootstrap.min.css set `[hidden] { display: none !important; }` so we also need the `!important` here to be able to override the default hidden behavior on the sphinx rendered scikit-learn.org. See: https://github.com/scikit-learn/scikit-learn/issues/21755 */display: inline-block !important;position: relative;}#sk-container-id-1 div.sk-text-repr-fallback {display: none;}</style><div id=\"sk-container-id-1\" class=\"sk-top-container\"><div class=\"sk-text-repr-fallback\"><pre>Pipeline(steps=[(&#x27;scale&#x27;, StandardScaler()),\n",
       "                (&#x27;model&#x27;, RandomForestClassifier(n_jobs=-1))])</pre><b>In a Jupyter environment, please rerun this cell to show the HTML representation or trust the notebook. <br />On GitHub, the HTML representation is unable to render, please try loading this page with nbviewer.org.</b></div><div class=\"sk-container\" hidden><div class=\"sk-item sk-dashed-wrapped\"><div class=\"sk-label-container\"><div class=\"sk-label sk-toggleable\"><input class=\"sk-toggleable__control sk-hidden--visually\" id=\"sk-estimator-id-1\" type=\"checkbox\" ><label for=\"sk-estimator-id-1\" class=\"sk-toggleable__label sk-toggleable__label-arrow\">Pipeline</label><div class=\"sk-toggleable__content\"><pre>Pipeline(steps=[(&#x27;scale&#x27;, StandardScaler()),\n",
       "                (&#x27;model&#x27;, RandomForestClassifier(n_jobs=-1))])</pre></div></div></div><div class=\"sk-serial\"><div class=\"sk-item\"><div class=\"sk-estimator sk-toggleable\"><input class=\"sk-toggleable__control sk-hidden--visually\" id=\"sk-estimator-id-2\" type=\"checkbox\" ><label for=\"sk-estimator-id-2\" class=\"sk-toggleable__label sk-toggleable__label-arrow\">StandardScaler</label><div class=\"sk-toggleable__content\"><pre>StandardScaler()</pre></div></div></div><div class=\"sk-item\"><div class=\"sk-estimator sk-toggleable\"><input class=\"sk-toggleable__control sk-hidden--visually\" id=\"sk-estimator-id-3\" type=\"checkbox\" ><label for=\"sk-estimator-id-3\" class=\"sk-toggleable__label sk-toggleable__label-arrow\">RandomForestClassifier</label><div class=\"sk-toggleable__content\"><pre>RandomForestClassifier(n_jobs=-1)</pre></div></div></div></div></div></div></div>"
      ],
      "text/plain": [
       "Pipeline(steps=[('scale', StandardScaler()),\n",
       "                ('model', RandomForestClassifier(n_jobs=-1))])"
      ]
     },
     "execution_count": 43,
     "metadata": {},
     "output_type": "execute_result"
    }
   ],
   "source": [
    "model.fit(X_train, y_train.values.ravel())"
   ]
  },
  {
   "cell_type": "code",
   "execution_count": 44,
   "id": "af59f8c0",
   "metadata": {
    "execution": {
     "iopub.execute_input": "2025-07-30T20:11:32.510308Z",
     "iopub.status.busy": "2025-07-30T20:11:32.509498Z",
     "iopub.status.idle": "2025-07-30T20:11:32.515737Z",
     "shell.execute_reply": "2025-07-30T20:11:32.514616Z"
    },
    "papermill": {
     "duration": 0.034849,
     "end_time": "2025-07-30T20:11:32.517820",
     "exception": false,
     "start_time": "2025-07-30T20:11:32.482971",
     "status": "completed"
    },
    "tags": []
   },
   "outputs": [],
   "source": [
    "from fairness_multiverse.universe import predict_w_threshold"
   ]
  },
  {
   "cell_type": "code",
   "execution_count": 45,
   "id": "a7cf2e16",
   "metadata": {
    "execution": {
     "iopub.execute_input": "2025-07-30T20:11:32.557565Z",
     "iopub.status.busy": "2025-07-30T20:11:32.557078Z",
     "iopub.status.idle": "2025-07-30T20:11:33.638531Z",
     "shell.execute_reply": "2025-07-30T20:11:33.637630Z"
    },
    "papermill": {
     "duration": 1.100498,
     "end_time": "2025-07-30T20:11:33.640255",
     "exception": false,
     "start_time": "2025-07-30T20:11:32.539757",
     "status": "completed"
    },
    "tags": []
   },
   "outputs": [
    {
     "data": {
      "text/plain": [
       "0.8663805595808717"
      ]
     },
     "execution_count": 45,
     "metadata": {},
     "output_type": "execute_result"
    }
   ],
   "source": [
    "probs_test = model.predict_proba(X_test)\n",
    "\n",
    "'''\n",
    "Below code returns a boolean array (or binary 0/1 array depending on how it’s used) where each element \n",
    "is True if the probability of class 1 is greater than or equal to the threshold, and False otherwise.\n",
    "'''\n",
    "y_pred_default = predict_w_threshold(probs_test, 0.5)\n",
    "\n",
    "from sklearn.metrics import accuracy_score\n",
    "\n",
    "# Naive prediction\n",
    "accuracy_score(y_true = y_true, y_pred = y_pred_default)"
   ]
  },
  {
   "cell_type": "code",
   "execution_count": 46,
   "id": "081964c3",
   "metadata": {
    "execution": {
     "iopub.execute_input": "2025-07-30T20:11:33.693713Z",
     "iopub.status.busy": "2025-07-30T20:11:33.693317Z",
     "iopub.status.idle": "2025-07-30T20:11:34.797594Z",
     "shell.execute_reply": "2025-07-30T20:11:34.796398Z"
    },
    "papermill": {
     "duration": 1.133115,
     "end_time": "2025-07-30T20:11:34.799270",
     "exception": false,
     "start_time": "2025-07-30T20:11:33.666155",
     "status": "completed"
    },
    "tags": []
   },
   "outputs": [
    {
     "data": {
      "text/plain": [
       "array([0, 0, 0, ..., 0, 0, 0])"
      ]
     },
     "execution_count": 46,
     "metadata": {},
     "output_type": "execute_result"
    }
   ],
   "source": [
    "model.predict(X_test)"
   ]
  },
  {
   "cell_type": "markdown",
   "id": "56c9705b",
   "metadata": {
    "papermill": {
     "duration": 0.028166,
     "end_time": "2025-07-30T20:11:34.851593",
     "exception": false,
     "start_time": "2025-07-30T20:11:34.823427",
     "status": "completed"
    },
    "tags": []
   },
   "source": [
    "# Conformal Prediction"
   ]
  },
  {
   "cell_type": "code",
   "execution_count": 47,
   "id": "160ec6ff",
   "metadata": {
    "execution": {
     "iopub.execute_input": "2025-07-30T20:11:34.906139Z",
     "iopub.status.busy": "2025-07-30T20:11:34.905631Z",
     "iopub.status.idle": "2025-07-30T20:11:34.911095Z",
     "shell.execute_reply": "2025-07-30T20:11:34.910192Z"
    },
    "papermill": {
     "duration": 0.034802,
     "end_time": "2025-07-30T20:11:34.912787",
     "exception": false,
     "start_time": "2025-07-30T20:11:34.877985",
     "status": "completed"
    },
    "tags": []
   },
   "outputs": [],
   "source": [
    "# Miscoverage level for conformal prediction (10% allowed error rate => 90% target coverage)\n",
    "alpha = 0.1"
   ]
  },
  {
   "cell_type": "code",
   "execution_count": 48,
   "id": "eadf4555-3dd3-440e-8e35-f82a4ad9f855",
   "metadata": {
    "execution": {
     "iopub.execute_input": "2025-07-30T20:11:34.968938Z",
     "iopub.status.busy": "2025-07-30T20:11:34.967969Z",
     "iopub.status.idle": "2025-07-30T20:11:36.173038Z",
     "shell.execute_reply": "2025-07-30T20:11:36.171990Z"
    },
    "papermill": {
     "duration": 1.235005,
     "end_time": "2025-07-30T20:11:36.174951",
     "exception": false,
     "start_time": "2025-07-30T20:11:34.939946",
     "status": "completed"
    },
    "tags": []
   },
   "outputs": [],
   "source": [
    "probs_calib = model.predict_proba(X_calib)"
   ]
  },
  {
   "cell_type": "code",
   "execution_count": 49,
   "id": "2ed93547-6d5d-4983-9b36-1ecb300da49a",
   "metadata": {
    "execution": {
     "iopub.execute_input": "2025-07-30T20:11:36.230721Z",
     "iopub.status.busy": "2025-07-30T20:11:36.230082Z",
     "iopub.status.idle": "2025-07-30T20:11:36.236054Z",
     "shell.execute_reply": "2025-07-30T20:11:36.235161Z"
    },
    "papermill": {
     "duration": 0.035153,
     "end_time": "2025-07-30T20:11:36.237735",
     "exception": false,
     "start_time": "2025-07-30T20:11:36.202582",
     "status": "completed"
    },
    "tags": []
   },
   "outputs": [],
   "source": [
    "y_calib = y_calib.values.ravel().astype(int)"
   ]
  },
  {
   "cell_type": "code",
   "execution_count": 50,
   "id": "65d1320d-f588-4b38-9072-62af1ae97f7d",
   "metadata": {
    "execution": {
     "iopub.execute_input": "2025-07-30T20:11:36.291811Z",
     "iopub.status.busy": "2025-07-30T20:11:36.291183Z",
     "iopub.status.idle": "2025-07-30T20:11:36.298689Z",
     "shell.execute_reply": "2025-07-30T20:11:36.297807Z"
    },
    "papermill": {
     "duration": 0.036021,
     "end_time": "2025-07-30T20:11:36.300419",
     "exception": false,
     "start_time": "2025-07-30T20:11:36.264398",
     "status": "completed"
    },
    "tags": []
   },
   "outputs": [],
   "source": [
    "from fairness_multiverse.conformal import compute_nc_scores\n",
    "\n",
    "# Compute nonconformity scores on calibration set (1 - probability of true class)\n",
    "nc_scores = compute_nc_scores(probs_calib, y_calib)"
   ]
  },
  {
   "cell_type": "code",
   "execution_count": 51,
   "id": "df3b8ca3-53b7-43d5-9667-7c85da7aeda2",
   "metadata": {
    "execution": {
     "iopub.execute_input": "2025-07-30T20:11:36.354379Z",
     "iopub.status.busy": "2025-07-30T20:11:36.353606Z",
     "iopub.status.idle": "2025-07-30T20:11:36.360849Z",
     "shell.execute_reply": "2025-07-30T20:11:36.359919Z"
    },
    "papermill": {
     "duration": 0.035532,
     "end_time": "2025-07-30T20:11:36.362386",
     "exception": false,
     "start_time": "2025-07-30T20:11:36.326854",
     "status": "completed"
    },
    "tags": []
   },
   "outputs": [],
   "source": [
    "from fairness_multiverse.conformal import find_threshold\n",
    "\n",
    "# Find conformal threshold q_hat for the given alpha (split conformal method)\n",
    "q_hat = find_threshold(nc_scores, alpha)"
   ]
  },
  {
   "cell_type": "code",
   "execution_count": 52,
   "id": "4d29e6c1-0ef6-4aa4-b8fe-4fe79b0d033a",
   "metadata": {
    "execution": {
     "iopub.execute_input": "2025-07-30T20:11:36.406977Z",
     "iopub.status.busy": "2025-07-30T20:11:36.406168Z",
     "iopub.status.idle": "2025-07-30T20:11:36.413265Z",
     "shell.execute_reply": "2025-07-30T20:11:36.412287Z"
    },
    "papermill": {
     "duration": 0.030835,
     "end_time": "2025-07-30T20:11:36.414750",
     "exception": false,
     "start_time": "2025-07-30T20:11:36.383915",
     "status": "completed"
    },
    "tags": []
   },
   "outputs": [
    {
     "data": {
      "text/plain": [
       "0.6599999999999999"
      ]
     },
     "execution_count": 52,
     "metadata": {},
     "output_type": "execute_result"
    }
   ],
   "source": [
    "q_hat"
   ]
  },
  {
   "cell_type": "code",
   "execution_count": 53,
   "id": "92460794-cdac-4be2-ba28-f28c0515a6fb",
   "metadata": {
    "execution": {
     "iopub.execute_input": "2025-07-30T20:11:36.467756Z",
     "iopub.status.busy": "2025-07-30T20:11:36.467090Z",
     "iopub.status.idle": "2025-07-30T20:11:38.046205Z",
     "shell.execute_reply": "2025-07-30T20:11:38.045456Z"
    },
    "papermill": {
     "duration": 1.608251,
     "end_time": "2025-07-30T20:11:38.047569",
     "exception": false,
     "start_time": "2025-07-30T20:11:36.439318",
     "status": "completed"
    },
    "tags": []
   },
   "outputs": [],
   "source": [
    "from fairness_multiverse.conformal import predict_conformal_sets\n",
    "\n",
    "# Generate prediction sets for each test example\n",
    "pred_sets = predict_conformal_sets(model, X_test, q_hat)"
   ]
  },
  {
   "cell_type": "code",
   "execution_count": 54,
   "id": "d90c9a65-e6db-4f5d-80cd-e68fb7e46829",
   "metadata": {
    "execution": {
     "iopub.execute_input": "2025-07-30T20:11:38.076649Z",
     "iopub.status.busy": "2025-07-30T20:11:38.076170Z",
     "iopub.status.idle": "2025-07-30T20:11:38.080735Z",
     "shell.execute_reply": "2025-07-30T20:11:38.079994Z"
    },
    "papermill": {
     "duration": 0.019189,
     "end_time": "2025-07-30T20:11:38.082042",
     "exception": false,
     "start_time": "2025-07-30T20:11:38.062853",
     "status": "completed"
    },
    "tags": []
   },
   "outputs": [],
   "source": [
    "y_true = y_true.squeeze()"
   ]
  },
  {
   "cell_type": "code",
   "execution_count": 55,
   "id": "3a58a54a-1e68-46b9-927a-df01f18aebc8",
   "metadata": {
    "execution": {
     "iopub.execute_input": "2025-07-30T20:11:38.109384Z",
     "iopub.status.busy": "2025-07-30T20:11:38.108587Z",
     "iopub.status.idle": "2025-07-30T20:11:38.664418Z",
     "shell.execute_reply": "2025-07-30T20:11:38.663402Z"
    },
    "papermill": {
     "duration": 0.57071,
     "end_time": "2025-07-30T20:11:38.666011",
     "exception": false,
     "start_time": "2025-07-30T20:11:38.095301",
     "status": "completed"
    },
    "tags": []
   },
   "outputs": [],
   "source": [
    "from fairness_multiverse.conformal import evaluate_sets\n",
    "\n",
    "# Evaluate coverage and average set size on test data\n",
    "metrics = evaluate_sets(pred_sets, y_true)"
   ]
  },
  {
   "cell_type": "markdown",
   "id": "2b569c12-9aaa-4c88-98c9-bbcd0cf3ebb8",
   "metadata": {
    "papermill": {
     "duration": 0.025487,
     "end_time": "2025-07-30T20:11:38.715268",
     "exception": false,
     "start_time": "2025-07-30T20:11:38.689781",
     "status": "completed"
    },
    "tags": []
   },
   "source": [
    "# CP Metrics"
   ]
  },
  {
   "cell_type": "code",
   "execution_count": 56,
   "id": "5ce0a5cb-201f-45a0-ade5-94c7f0bd6095",
   "metadata": {
    "execution": {
     "iopub.execute_input": "2025-07-30T20:11:38.766150Z",
     "iopub.status.busy": "2025-07-30T20:11:38.765696Z",
     "iopub.status.idle": "2025-07-30T20:11:38.773042Z",
     "shell.execute_reply": "2025-07-30T20:11:38.772080Z"
    },
    "papermill": {
     "duration": 0.035789,
     "end_time": "2025-07-30T20:11:38.774728",
     "exception": false,
     "start_time": "2025-07-30T20:11:38.738939",
     "status": "completed"
    },
    "tags": []
   },
   "outputs": [
    {
     "data": {
      "text/plain": [
       "{'coverage': 0.9166425147698138, 'avg_size': 1.1461487013710847}"
      ]
     },
     "execution_count": 56,
     "metadata": {},
     "output_type": "execute_result"
    }
   ],
   "source": [
    "metrics"
   ]
  },
  {
   "cell_type": "code",
   "execution_count": 57,
   "id": "9b9a838d-31c9-430b-ae14-12baee460d17",
   "metadata": {
    "execution": {
     "iopub.execute_input": "2025-07-30T20:11:38.828904Z",
     "iopub.status.busy": "2025-07-30T20:11:38.827981Z",
     "iopub.status.idle": "2025-07-30T20:11:38.834598Z",
     "shell.execute_reply": "2025-07-30T20:11:38.833680Z"
    },
    "papermill": {
     "duration": 0.035342,
     "end_time": "2025-07-30T20:11:38.836257",
     "exception": false,
     "start_time": "2025-07-30T20:11:38.800915",
     "status": "completed"
    },
    "tags": []
   },
   "outputs": [],
   "source": [
    "example_universe = universe.copy()\n",
    "universe_training_year = example_universe.get(\"training_year\")\n",
    "universe_training_size = example_universe.get(\"training_size\")\n",
    "universe_scale = example_universe.get(\"scale\")\n",
    "universe_model = example_universe.get(\"model\")\n",
    "universe_exclude_features = example_universe.get(\"exclude_features\")\n",
    "universe_exclude_subgroups = example_universe.get(\"exclude_subgroups\")"
   ]
  },
  {
   "cell_type": "code",
   "execution_count": 58,
   "id": "f4b6a8ac-9dc0-4245-8a91-5b3b5999c4f9",
   "metadata": {
    "execution": {
     "iopub.execute_input": "2025-07-30T20:11:38.879136Z",
     "iopub.status.busy": "2025-07-30T20:11:38.878631Z",
     "iopub.status.idle": "2025-07-30T20:11:38.885788Z",
     "shell.execute_reply": "2025-07-30T20:11:38.884769Z"
    },
    "papermill": {
     "duration": 0.035566,
     "end_time": "2025-07-30T20:11:38.887331",
     "exception": false,
     "start_time": "2025-07-30T20:11:38.851765",
     "status": "completed"
    },
    "tags": []
   },
   "outputs": [],
   "source": [
    "cp_metrics_dict = {\n",
    "    \"universe_id\": [universe_id],\n",
    "    \"universe_training_year\": [universe_training_year],\n",
    "    \"universe_training_size\": [universe_training_size],\n",
    "    \"universe_scale\": [universe_scale],\n",
    "    \"universe_model\": [universe_model],\n",
    "    \"universe_exclude_features\": [universe_exclude_features],\n",
    "    \"universe_exclude_subgroups\": [universe_exclude_subgroups],\n",
    "    \"q_hat\": [q_hat],\n",
    "    \"coverage\": [metrics[\"coverage\"]],\n",
    "    \"avg_size\": [metrics[\"avg_size\"]],\n",
    "}"
   ]
  },
  {
   "cell_type": "code",
   "execution_count": 59,
   "id": "908acbb1-0371-4915-85ca-3fa520d2efe2",
   "metadata": {
    "execution": {
     "iopub.execute_input": "2025-07-30T20:11:38.919646Z",
     "iopub.status.busy": "2025-07-30T20:11:38.919259Z",
     "iopub.status.idle": "2025-07-30T20:11:38.925778Z",
     "shell.execute_reply": "2025-07-30T20:11:38.925118Z"
    },
    "papermill": {
     "duration": 0.021631,
     "end_time": "2025-07-30T20:11:38.927028",
     "exception": false,
     "start_time": "2025-07-30T20:11:38.905397",
     "status": "completed"
    },
    "tags": []
   },
   "outputs": [
    {
     "data": {
      "text/plain": [
       "{'universe_id': ['8574f00ba5c34f822b76d2f1f4ad553d'],\n",
       " 'universe_training_year': ['2012_14'],\n",
       " 'universe_training_size': ['25k'],\n",
       " 'universe_scale': ['scale'],\n",
       " 'universe_model': ['rf'],\n",
       " 'universe_exclude_features': ['sex'],\n",
       " 'universe_exclude_subgroups': ['keep-all'],\n",
       " 'q_hat': [0.6599999999999999],\n",
       " 'coverage': [0.9166425147698138],\n",
       " 'avg_size': [1.1461487013710847]}"
      ]
     },
     "execution_count": 59,
     "metadata": {},
     "output_type": "execute_result"
    }
   ],
   "source": [
    "cp_metrics_dict"
   ]
  },
  {
   "cell_type": "code",
   "execution_count": 60,
   "id": "33007efc-14e9-4ec6-97ac-56a455c82265",
   "metadata": {
    "execution": {
     "iopub.execute_input": "2025-07-30T20:11:38.955085Z",
     "iopub.status.busy": "2025-07-30T20:11:38.954556Z",
     "iopub.status.idle": "2025-07-30T20:11:38.959566Z",
     "shell.execute_reply": "2025-07-30T20:11:38.958586Z"
    },
    "papermill": {
     "duration": 0.020408,
     "end_time": "2025-07-30T20:11:38.961074",
     "exception": false,
     "start_time": "2025-07-30T20:11:38.940666",
     "status": "completed"
    },
    "tags": []
   },
   "outputs": [],
   "source": [
    "cp_metrics_df = pd.DataFrame(cp_metrics_dict)"
   ]
  },
  {
   "cell_type": "code",
   "execution_count": 61,
   "id": "db12611b-57b2-4910-b9d0-355adfd6e7bf",
   "metadata": {
    "execution": {
     "iopub.execute_input": "2025-07-30T20:11:39.014213Z",
     "iopub.status.busy": "2025-07-30T20:11:39.013691Z",
     "iopub.status.idle": "2025-07-30T20:11:39.033457Z",
     "shell.execute_reply": "2025-07-30T20:11:39.032547Z"
    },
    "papermill": {
     "duration": 0.048632,
     "end_time": "2025-07-30T20:11:39.034914",
     "exception": false,
     "start_time": "2025-07-30T20:11:38.986282",
     "status": "completed"
    },
    "tags": []
   },
   "outputs": [
    {
     "data": {
      "text/html": [
       "<div>\n",
       "<style scoped>\n",
       "    .dataframe tbody tr th:only-of-type {\n",
       "        vertical-align: middle;\n",
       "    }\n",
       "\n",
       "    .dataframe tbody tr th {\n",
       "        vertical-align: top;\n",
       "    }\n",
       "\n",
       "    .dataframe thead th {\n",
       "        text-align: right;\n",
       "    }\n",
       "</style>\n",
       "<table border=\"1\" class=\"dataframe\">\n",
       "  <thead>\n",
       "    <tr style=\"text-align: right;\">\n",
       "      <th></th>\n",
       "      <th>universe_id</th>\n",
       "      <th>universe_training_year</th>\n",
       "      <th>universe_training_size</th>\n",
       "      <th>universe_scale</th>\n",
       "      <th>universe_model</th>\n",
       "      <th>universe_exclude_features</th>\n",
       "      <th>universe_exclude_subgroups</th>\n",
       "      <th>q_hat</th>\n",
       "      <th>coverage</th>\n",
       "      <th>avg_size</th>\n",
       "    </tr>\n",
       "  </thead>\n",
       "  <tbody>\n",
       "    <tr>\n",
       "      <th>0</th>\n",
       "      <td>8574f00ba5c34f822b76d2f1f4ad553d</td>\n",
       "      <td>2012_14</td>\n",
       "      <td>25k</td>\n",
       "      <td>scale</td>\n",
       "      <td>rf</td>\n",
       "      <td>sex</td>\n",
       "      <td>keep-all</td>\n",
       "      <td>0.66</td>\n",
       "      <td>0.916643</td>\n",
       "      <td>1.146149</td>\n",
       "    </tr>\n",
       "  </tbody>\n",
       "</table>\n",
       "</div>"
      ],
      "text/plain": [
       "                        universe_id universe_training_year  \\\n",
       "0  8574f00ba5c34f822b76d2f1f4ad553d                2012_14   \n",
       "\n",
       "  universe_training_size universe_scale universe_model  \\\n",
       "0                    25k          scale             rf   \n",
       "\n",
       "  universe_exclude_features universe_exclude_subgroups  q_hat  coverage  \\\n",
       "0                       sex                   keep-all   0.66  0.916643   \n",
       "\n",
       "   avg_size  \n",
       "0  1.146149  "
      ]
     },
     "execution_count": 61,
     "metadata": {},
     "output_type": "execute_result"
    }
   ],
   "source": [
    "cp_metrics_df"
   ]
  },
  {
   "cell_type": "code",
   "execution_count": 62,
   "id": "b7fbde55-a0a1-47e4-9af6-fe4a17fa8c61",
   "metadata": {
    "execution": {
     "iopub.execute_input": "2025-07-30T20:11:39.090020Z",
     "iopub.status.busy": "2025-07-30T20:11:39.089149Z",
     "iopub.status.idle": "2025-07-30T20:11:39.094259Z",
     "shell.execute_reply": "2025-07-30T20:11:39.093360Z"
    },
    "papermill": {
     "duration": 0.034416,
     "end_time": "2025-07-30T20:11:39.096008",
     "exception": false,
     "start_time": "2025-07-30T20:11:39.061592",
     "status": "completed"
    },
    "tags": []
   },
   "outputs": [],
   "source": [
    "# Conditional Coverage & looking at subgroups"
   ]
  },
  {
   "cell_type": "code",
   "execution_count": 63,
   "id": "027ae886-68dd-4141-96c7-805a5450e1ef",
   "metadata": {
    "execution": {
     "iopub.execute_input": "2025-07-30T20:11:39.150863Z",
     "iopub.status.busy": "2025-07-30T20:11:39.150339Z",
     "iopub.status.idle": "2025-07-30T20:11:39.433890Z",
     "shell.execute_reply": "2025-07-30T20:11:39.432861Z"
    },
    "papermill": {
     "duration": 0.313443,
     "end_time": "2025-07-30T20:11:39.435839",
     "exception": false,
     "start_time": "2025-07-30T20:11:39.122396",
     "status": "completed"
    },
    "tags": []
   },
   "outputs": [],
   "source": [
    "from fairness_multiverse.conformal import build_cp_groups\n",
    "\n",
    "cp_groups_df = build_cp_groups(pred_sets, y_true, X_test.index, org_test)\n",
    "#needs universe_id and setting"
   ]
  },
  {
   "cell_type": "code",
   "execution_count": 64,
   "id": "01d5802c-663a-4d1f-9d69-e036faaffbf7",
   "metadata": {
    "execution": {
     "iopub.execute_input": "2025-07-30T20:11:39.491678Z",
     "iopub.status.busy": "2025-07-30T20:11:39.490923Z",
     "iopub.status.idle": "2025-07-30T20:11:39.496427Z",
     "shell.execute_reply": "2025-07-30T20:11:39.495360Z"
    },
    "papermill": {
     "duration": 0.033495,
     "end_time": "2025-07-30T20:11:39.498150",
     "exception": false,
     "start_time": "2025-07-30T20:11:39.464655",
     "status": "completed"
    },
    "tags": []
   },
   "outputs": [],
   "source": [
    "#delete\n",
    "#cp_groups_df"
   ]
  },
  {
   "cell_type": "code",
   "execution_count": 65,
   "id": "fa424af1-d1eb-443d-b717-2d279ada8408",
   "metadata": {
    "execution": {
     "iopub.execute_input": "2025-07-30T20:11:39.553763Z",
     "iopub.status.busy": "2025-07-30T20:11:39.552861Z",
     "iopub.status.idle": "2025-07-30T20:11:39.558072Z",
     "shell.execute_reply": "2025-07-30T20:11:39.557100Z"
    },
    "papermill": {
     "duration": 0.033637,
     "end_time": "2025-07-30T20:11:39.559789",
     "exception": false,
     "start_time": "2025-07-30T20:11:39.526152",
     "status": "completed"
    },
    "tags": []
   },
   "outputs": [],
   "source": [
    "#delete\n",
    "#percentage = (cp_groups_df['nongerman_female'] == 1).mean() * 100\n",
    "#print(percentage)\n"
   ]
  },
  {
   "cell_type": "code",
   "execution_count": 66,
   "id": "6cbdab96-b2b2-45af-ad54-d0516db2e28d",
   "metadata": {
    "execution": {
     "iopub.execute_input": "2025-07-30T20:11:39.614710Z",
     "iopub.status.busy": "2025-07-30T20:11:39.613933Z",
     "iopub.status.idle": "2025-07-30T20:11:41.370626Z",
     "shell.execute_reply": "2025-07-30T20:11:41.369890Z"
    },
    "papermill": {
     "duration": 1.786439,
     "end_time": "2025-07-30T20:11:41.372088",
     "exception": false,
     "start_time": "2025-07-30T20:11:39.585649",
     "status": "completed"
    },
    "tags": []
   },
   "outputs": [],
   "source": [
    "# Define covered = 1 if true_label is in the predicted set\n",
    "cp_groups_df['covered'] = cp_groups_df.apply(\n",
    "    lambda r: int(r['true_label'] in r['pred_set']),\n",
    "    axis=1\n",
    ")"
   ]
  },
  {
   "cell_type": "code",
   "execution_count": 67,
   "id": "338ff529-1a6b-4b87-a931-8e4788d52aad",
   "metadata": {
    "execution": {
     "iopub.execute_input": "2025-07-30T20:11:41.402560Z",
     "iopub.status.busy": "2025-07-30T20:11:41.402012Z",
     "iopub.status.idle": "2025-07-30T20:11:41.406555Z",
     "shell.execute_reply": "2025-07-30T20:11:41.405765Z"
    },
    "papermill": {
     "duration": 0.019696,
     "end_time": "2025-07-30T20:11:41.407843",
     "exception": false,
     "start_time": "2025-07-30T20:11:41.388147",
     "status": "completed"
    },
    "tags": []
   },
   "outputs": [],
   "source": [
    "#cp_groups_df"
   ]
  },
  {
   "cell_type": "code",
   "execution_count": 68,
   "id": "90032e27-66df-4540-9169-4e89cfbaa758",
   "metadata": {
    "execution": {
     "iopub.execute_input": "2025-07-30T20:11:41.441965Z",
     "iopub.status.busy": "2025-07-30T20:11:41.441204Z",
     "iopub.status.idle": "2025-07-30T20:11:41.449562Z",
     "shell.execute_reply": "2025-07-30T20:11:41.448913Z"
    },
    "papermill": {
     "duration": 0.028165,
     "end_time": "2025-07-30T20:11:41.450753",
     "exception": false,
     "start_time": "2025-07-30T20:11:41.422588",
     "status": "completed"
    },
    "tags": []
   },
   "outputs": [],
   "source": [
    "subgroups = ['frau1','nongerman','nongerman_male','nongerman_female']\n",
    "\n",
    "# Conditional coverage for subgroup==1\n",
    "cond_coverage = {\n",
    "    g: cp_groups_df.loc[cp_groups_df[g]==1, 'covered'].mean()\n",
    "    for g in subgroups\n",
    "}"
   ]
  },
  {
   "cell_type": "code",
   "execution_count": 69,
   "id": "1e348fb1-b9c3-45bc-ba23-f016827a7e0d",
   "metadata": {
    "execution": {
     "iopub.execute_input": "2025-07-30T20:11:41.479735Z",
     "iopub.status.busy": "2025-07-30T20:11:41.479146Z",
     "iopub.status.idle": "2025-07-30T20:11:41.493791Z",
     "shell.execute_reply": "2025-07-30T20:11:41.493101Z"
    },
    "papermill": {
     "duration": 0.03101,
     "end_time": "2025-07-30T20:11:41.495180",
     "exception": false,
     "start_time": "2025-07-30T20:11:41.464170",
     "status": "completed"
    },
    "tags": []
   },
   "outputs": [
    {
     "data": {
      "text/plain": [
       "{'frau1': 0.915837713977625,\n",
       " 'nongerman': 0.9124235109189918,\n",
       " 'nongerman_male': 0.9265063496352337,\n",
       " 'nongerman_female': 0.8891207153502235}"
      ]
     },
     "execution_count": 69,
     "metadata": {},
     "output_type": "execute_result"
    }
   ],
   "source": [
    "cond_coverage"
   ]
  },
  {
   "cell_type": "code",
   "execution_count": 70,
   "id": "f5093324-c3dd-4d63-bc4c-8d945e5c8bbb",
   "metadata": {
    "execution": {
     "iopub.execute_input": "2025-07-30T20:11:41.528920Z",
     "iopub.status.busy": "2025-07-30T20:11:41.528231Z",
     "iopub.status.idle": "2025-07-30T20:11:41.534233Z",
     "shell.execute_reply": "2025-07-30T20:11:41.533475Z"
    },
    "papermill": {
     "duration": 0.022827,
     "end_time": "2025-07-30T20:11:41.535712",
     "exception": false,
     "start_time": "2025-07-30T20:11:41.512885",
     "status": "completed"
    },
    "tags": []
   },
   "outputs": [],
   "source": [
    "for subgroup, cov in cond_coverage.items():\n",
    "    cp_metrics_df[f\"cov_{subgroup}\"] = cov"
   ]
  },
  {
   "cell_type": "code",
   "execution_count": 71,
   "id": "6e872e10-dbe5-49e8-b554-5030c98ff75d",
   "metadata": {
    "execution": {
     "iopub.execute_input": "2025-07-30T20:11:41.564835Z",
     "iopub.status.busy": "2025-07-30T20:11:41.564184Z",
     "iopub.status.idle": "2025-07-30T20:11:41.577703Z",
     "shell.execute_reply": "2025-07-30T20:11:41.576959Z"
    },
    "papermill": {
     "duration": 0.028581,
     "end_time": "2025-07-30T20:11:41.579053",
     "exception": false,
     "start_time": "2025-07-30T20:11:41.550472",
     "status": "completed"
    },
    "tags": []
   },
   "outputs": [
    {
     "data": {
      "text/html": [
       "<div>\n",
       "<style scoped>\n",
       "    .dataframe tbody tr th:only-of-type {\n",
       "        vertical-align: middle;\n",
       "    }\n",
       "\n",
       "    .dataframe tbody tr th {\n",
       "        vertical-align: top;\n",
       "    }\n",
       "\n",
       "    .dataframe thead th {\n",
       "        text-align: right;\n",
       "    }\n",
       "</style>\n",
       "<table border=\"1\" class=\"dataframe\">\n",
       "  <thead>\n",
       "    <tr style=\"text-align: right;\">\n",
       "      <th></th>\n",
       "      <th>universe_id</th>\n",
       "      <th>universe_training_year</th>\n",
       "      <th>universe_training_size</th>\n",
       "      <th>universe_scale</th>\n",
       "      <th>universe_model</th>\n",
       "      <th>universe_exclude_features</th>\n",
       "      <th>universe_exclude_subgroups</th>\n",
       "      <th>q_hat</th>\n",
       "      <th>coverage</th>\n",
       "      <th>avg_size</th>\n",
       "      <th>cov_frau1</th>\n",
       "      <th>cov_nongerman</th>\n",
       "      <th>cov_nongerman_male</th>\n",
       "      <th>cov_nongerman_female</th>\n",
       "    </tr>\n",
       "  </thead>\n",
       "  <tbody>\n",
       "    <tr>\n",
       "      <th>0</th>\n",
       "      <td>8574f00ba5c34f822b76d2f1f4ad553d</td>\n",
       "      <td>2012_14</td>\n",
       "      <td>25k</td>\n",
       "      <td>scale</td>\n",
       "      <td>rf</td>\n",
       "      <td>sex</td>\n",
       "      <td>keep-all</td>\n",
       "      <td>0.66</td>\n",
       "      <td>0.916643</td>\n",
       "      <td>1.146149</td>\n",
       "      <td>0.915838</td>\n",
       "      <td>0.912424</td>\n",
       "      <td>0.926506</td>\n",
       "      <td>0.889121</td>\n",
       "    </tr>\n",
       "  </tbody>\n",
       "</table>\n",
       "</div>"
      ],
      "text/plain": [
       "                        universe_id universe_training_year  \\\n",
       "0  8574f00ba5c34f822b76d2f1f4ad553d                2012_14   \n",
       "\n",
       "  universe_training_size universe_scale universe_model  \\\n",
       "0                    25k          scale             rf   \n",
       "\n",
       "  universe_exclude_features universe_exclude_subgroups  q_hat  coverage  \\\n",
       "0                       sex                   keep-all   0.66  0.916643   \n",
       "\n",
       "   avg_size  cov_frau1  cov_nongerman  cov_nongerman_male  \\\n",
       "0  1.146149   0.915838       0.912424            0.926506   \n",
       "\n",
       "   cov_nongerman_female  \n",
       "0              0.889121  "
      ]
     },
     "execution_count": 71,
     "metadata": {},
     "output_type": "execute_result"
    }
   ],
   "source": [
    "cp_metrics_df"
   ]
  },
  {
   "cell_type": "markdown",
   "id": "33774451",
   "metadata": {
    "papermill": {
     "duration": 0.036255,
     "end_time": "2025-07-30T20:11:41.645500",
     "exception": false,
     "start_time": "2025-07-30T20:11:41.609245",
     "status": "completed"
    },
    "tags": []
   },
   "source": [
    "# (Fairness) Metrics"
   ]
  },
  {
   "cell_type": "code",
   "execution_count": 72,
   "id": "debc5d62",
   "metadata": {
    "execution": {
     "iopub.execute_input": "2025-07-30T20:11:41.701336Z",
     "iopub.status.busy": "2025-07-30T20:11:41.700459Z",
     "iopub.status.idle": "2025-07-30T20:11:41.724408Z",
     "shell.execute_reply": "2025-07-30T20:11:41.723393Z"
    },
    "papermill": {
     "duration": 0.051806,
     "end_time": "2025-07-30T20:11:41.726167",
     "exception": false,
     "start_time": "2025-07-30T20:11:41.674361",
     "status": "completed"
    },
    "tags": []
   },
   "outputs": [],
   "source": [
    "# do I need to include maxdeutsch1.missing?\n",
    "\n",
    "import numpy as np\n",
    "\n",
    "colname_to_bin = \"maxdeutsch1\"\n",
    "majority_value = org_train[colname_to_bin].mode()[0]\n",
    "\n",
    "org_test[\"majmin\"] = np.where(org_test[colname_to_bin] == majority_value, \"majority\", \"minority\")"
   ]
  },
  {
   "cell_type": "code",
   "execution_count": 73,
   "id": "06a50de5",
   "metadata": {
    "execution": {
     "iopub.execute_input": "2025-07-30T20:11:41.778630Z",
     "iopub.status.busy": "2025-07-30T20:11:41.778030Z",
     "iopub.status.idle": "2025-07-30T20:11:43.509407Z",
     "shell.execute_reply": "2025-07-30T20:11:43.508665Z"
    },
    "papermill": {
     "duration": 1.75862,
     "end_time": "2025-07-30T20:11:43.510868",
     "exception": false,
     "start_time": "2025-07-30T20:11:41.752248",
     "status": "completed"
    },
    "tags": []
   },
   "outputs": [],
   "source": [
    "example_universe = universe.copy()\n",
    "example_universe[\"cutoff\"] = example_universe[\"cutoff\"][0]\n",
    "example_universe[\"eval_fairness_grouping\"] = example_universe[\"eval_fairness_grouping\"][0]\n",
    "fairness_dict, metric_frame = universe_analysis.compute_metrics(\n",
    "    example_universe,\n",
    "    y_pred_prob=probs_test,\n",
    "    y_test=y_true,\n",
    "    org_test=org_test,\n",
    ")"
   ]
  },
  {
   "cell_type": "markdown",
   "id": "f95d4e02",
   "metadata": {
    "papermill": {
     "duration": 0.013801,
     "end_time": "2025-07-30T20:11:43.541587",
     "exception": false,
     "start_time": "2025-07-30T20:11:43.527786",
     "status": "completed"
    },
    "tags": []
   },
   "source": [
    "# Overall"
   ]
  },
  {
   "cell_type": "markdown",
   "id": "bdee4871",
   "metadata": {
    "papermill": {
     "duration": 0.0136,
     "end_time": "2025-07-30T20:11:43.568968",
     "exception": false,
     "start_time": "2025-07-30T20:11:43.555368",
     "status": "completed"
    },
    "tags": []
   },
   "source": [
    "Fairness\n",
    "Main fairness target: Equalized Odds. Seems to be a better fit than equal opportunity, since we're not only interested in Y = 1. Seems to be a better fit than demographic parity, since we also care about accuracy, not just equal distribution of preds.\n",
    "\n",
    "Pick column for computation of fairness metrics\n",
    "\n",
    "Performance\n",
    "Overall performance measures, most interesting in relation to the measures split by group below"
   ]
  },
  {
   "cell_type": "code",
   "execution_count": 74,
   "id": "c4e067c6",
   "metadata": {
    "execution": {
     "iopub.execute_input": "2025-07-30T20:11:43.597125Z",
     "iopub.status.busy": "2025-07-30T20:11:43.596637Z",
     "iopub.status.idle": "2025-07-30T20:11:43.603960Z",
     "shell.execute_reply": "2025-07-30T20:11:43.603251Z"
    },
    "papermill": {
     "duration": 0.02312,
     "end_time": "2025-07-30T20:11:43.605317",
     "exception": false,
     "start_time": "2025-07-30T20:11:43.582197",
     "status": "completed"
    },
    "tags": []
   },
   "outputs": [
    {
     "data": {
      "text/plain": [
       "accuracy                   0.198952\n",
       "balanced accuracy          0.532829\n",
       "f1                         0.239250\n",
       "precision                  0.136220\n",
       "false positive rate        0.916268\n",
       "false negative rate        0.018074\n",
       "selection rate             0.924691\n",
       "count                  89710.000000\n",
       "dtype: float64"
      ]
     },
     "execution_count": 74,
     "metadata": {},
     "output_type": "execute_result"
    }
   ],
   "source": [
    "metric_frame.overall"
   ]
  },
  {
   "cell_type": "markdown",
   "id": "e968fe9d",
   "metadata": {
    "papermill": {
     "duration": 0.013535,
     "end_time": "2025-07-30T20:11:43.634076",
     "exception": false,
     "start_time": "2025-07-30T20:11:43.620541",
     "status": "completed"
    },
    "tags": []
   },
   "source": [
    "By Group"
   ]
  },
  {
   "cell_type": "code",
   "execution_count": 75,
   "id": "ec325bce",
   "metadata": {
    "execution": {
     "iopub.execute_input": "2025-07-30T20:11:43.662625Z",
     "iopub.status.busy": "2025-07-30T20:11:43.662139Z",
     "iopub.status.idle": "2025-07-30T20:11:43.674435Z",
     "shell.execute_reply": "2025-07-30T20:11:43.673731Z"
    },
    "papermill": {
     "duration": 0.028256,
     "end_time": "2025-07-30T20:11:43.675814",
     "exception": false,
     "start_time": "2025-07-30T20:11:43.647558",
     "status": "completed"
    },
    "tags": []
   },
   "outputs": [
    {
     "data": {
      "text/html": [
       "<div>\n",
       "<style scoped>\n",
       "    .dataframe tbody tr th:only-of-type {\n",
       "        vertical-align: middle;\n",
       "    }\n",
       "\n",
       "    .dataframe tbody tr th {\n",
       "        vertical-align: top;\n",
       "    }\n",
       "\n",
       "    .dataframe thead th {\n",
       "        text-align: right;\n",
       "    }\n",
       "</style>\n",
       "<table border=\"1\" class=\"dataframe\">\n",
       "  <thead>\n",
       "    <tr style=\"text-align: right;\">\n",
       "      <th></th>\n",
       "      <th>accuracy</th>\n",
       "      <th>balanced accuracy</th>\n",
       "      <th>f1</th>\n",
       "      <th>precision</th>\n",
       "      <th>false positive rate</th>\n",
       "      <th>false negative rate</th>\n",
       "      <th>selection rate</th>\n",
       "      <th>count</th>\n",
       "    </tr>\n",
       "    <tr>\n",
       "      <th>majmin</th>\n",
       "      <th></th>\n",
       "      <th></th>\n",
       "      <th></th>\n",
       "      <th></th>\n",
       "      <th></th>\n",
       "      <th></th>\n",
       "      <th></th>\n",
       "      <th></th>\n",
       "    </tr>\n",
       "  </thead>\n",
       "  <tbody>\n",
       "    <tr>\n",
       "      <th>majority</th>\n",
       "      <td>0.188478</td>\n",
       "      <td>0.528841</td>\n",
       "      <td>0.244071</td>\n",
       "      <td>0.139165</td>\n",
       "      <td>0.933783</td>\n",
       "      <td>0.008534</td>\n",
       "      <td>0.941405</td>\n",
       "      <td>69170.0</td>\n",
       "    </tr>\n",
       "    <tr>\n",
       "      <th>minority</th>\n",
       "      <td>0.234226</td>\n",
       "      <td>0.543346</td>\n",
       "      <td>0.221529</td>\n",
       "      <td>0.125470</td>\n",
       "      <td>0.858409</td>\n",
       "      <td>0.054899</td>\n",
       "      <td>0.868403</td>\n",
       "      <td>20540.0</td>\n",
       "    </tr>\n",
       "  </tbody>\n",
       "</table>\n",
       "</div>"
      ],
      "text/plain": [
       "          accuracy  balanced accuracy        f1  precision  \\\n",
       "majmin                                                       \n",
       "majority  0.188478           0.528841  0.244071   0.139165   \n",
       "minority  0.234226           0.543346  0.221529   0.125470   \n",
       "\n",
       "          false positive rate  false negative rate  selection rate    count  \n",
       "majmin                                                                       \n",
       "majority             0.933783             0.008534        0.941405  69170.0  \n",
       "minority             0.858409             0.054899        0.868403  20540.0  "
      ]
     },
     "execution_count": 75,
     "metadata": {},
     "output_type": "execute_result"
    }
   ],
   "source": [
    "metric_frame.by_group"
   ]
  },
  {
   "cell_type": "code",
   "execution_count": 76,
   "id": "a9ddbe63",
   "metadata": {
    "execution": {
     "iopub.execute_input": "2025-07-30T20:11:43.706265Z",
     "iopub.status.busy": "2025-07-30T20:11:43.705599Z",
     "iopub.status.idle": "2025-07-30T20:11:45.377127Z",
     "shell.execute_reply": "2025-07-30T20:11:45.376417Z"
    },
    "papermill": {
     "duration": 1.687576,
     "end_time": "2025-07-30T20:11:45.378432",
     "exception": false,
     "start_time": "2025-07-30T20:11:43.690856",
     "status": "completed"
    },
    "tags": []
   },
   "outputs": [
    {
     "data": {
      "text/plain": [
       "array([[<Axes: title={'center': 'accuracy'}, xlabel='majmin'>,\n",
       "        <Axes: title={'center': 'balanced accuracy'}, xlabel='majmin'>,\n",
       "        <Axes: title={'center': 'f1'}, xlabel='majmin'>],\n",
       "       [<Axes: title={'center': 'precision'}, xlabel='majmin'>,\n",
       "        <Axes: title={'center': 'false positive rate'}, xlabel='majmin'>,\n",
       "        <Axes: title={'center': 'false negative rate'}, xlabel='majmin'>],\n",
       "       [<Axes: title={'center': 'selection rate'}, xlabel='majmin'>,\n",
       "        <Axes: title={'center': 'count'}, xlabel='majmin'>,\n",
       "        <Axes: xlabel='majmin'>]], dtype=object)"
      ]
     },
     "execution_count": 76,
     "metadata": {},
     "output_type": "execute_result"
    },
    {
     "data": {
      "image/png": "[encoded data removed]",
      "text/plain": [
       "<Figure size 1200x800 with 9 Axes>"
      ]
     },
     "metadata": {},
     "output_type": "display_data"
    }
   ],
   "source": [
    "# In a graphic\n",
    "metric_frame.by_group.plot.bar(\n",
    "    subplots=True,\n",
    "    layout=[3, 3],\n",
    "    legend=False,\n",
    "    figsize=[12, 8],\n",
    "    title=\"Show all metrics\",\n",
    ")"
   ]
  },
  {
   "cell_type": "markdown",
   "id": "f57a0bac",
   "metadata": {
    "papermill": {
     "duration": 0.015078,
     "end_time": "2025-07-30T20:11:45.409322",
     "exception": false,
     "start_time": "2025-07-30T20:11:45.394244",
     "status": "completed"
    },
    "tags": []
   },
   "source": [
    "# Final Output"
   ]
  },
  {
   "cell_type": "code",
   "execution_count": 77,
   "id": "96d280a3",
   "metadata": {
    "execution": {
     "iopub.execute_input": "2025-07-30T20:11:45.442442Z",
     "iopub.status.busy": "2025-07-30T20:11:45.441976Z",
     "iopub.status.idle": "2025-07-30T20:11:45.448624Z",
     "shell.execute_reply": "2025-07-30T20:11:45.447910Z"
    },
    "papermill": {
     "duration": 0.025191,
     "end_time": "2025-07-30T20:11:45.449952",
     "exception": false,
     "start_time": "2025-07-30T20:11:45.424761",
     "status": "completed"
    },
    "tags": []
   },
   "outputs": [
    {
     "data": {
      "text/plain": [
       "4"
      ]
     },
     "execution_count": 77,
     "metadata": {},
     "output_type": "execute_result"
    }
   ],
   "source": [
    "sub_universes = universe_analysis.generate_sub_universes()\n",
    "len(sub_universes)"
   ]
  },
  {
   "cell_type": "code",
   "execution_count": 78,
   "id": "92adf7ba",
   "metadata": {
    "execution": {
     "iopub.execute_input": "2025-07-30T20:11:45.488770Z",
     "iopub.status.busy": "2025-07-30T20:11:45.488418Z",
     "iopub.status.idle": "2025-07-30T20:11:45.493190Z",
     "shell.execute_reply": "2025-07-30T20:11:45.492528Z"
    },
    "papermill": {
     "duration": 0.024141,
     "end_time": "2025-07-30T20:11:45.494458",
     "exception": false,
     "start_time": "2025-07-30T20:11:45.470317",
     "status": "completed"
    },
    "tags": []
   },
   "outputs": [],
   "source": [
    "def filter_sub_universe_data(sub_universe, org_test):\n",
    "    # Keep all rows — no filtering\n",
    "    keep_rows_mask = np.ones(org_test.shape[0], dtype=bool)\n",
    "\n",
    "    print(f\"[INFO] Keeping all rows: {keep_rows_mask.sum()} rows retained.\")\n",
    "    return keep_rows_mask"
   ]
  },
  {
   "cell_type": "code",
   "execution_count": 79,
   "id": "4a759155",
   "metadata": {
    "execution": {
     "iopub.execute_input": "2025-07-30T20:11:45.528926Z",
     "iopub.status.busy": "2025-07-30T20:11:45.528208Z",
     "iopub.status.idle": "2025-07-30T20:11:58.158284Z",
     "shell.execute_reply": "2025-07-30T20:11:58.157129Z"
    },
    "papermill": {
     "duration": 12.649597,
     "end_time": "2025-07-30T20:11:58.160365",
     "exception": false,
     "start_time": "2025-07-30T20:11:45.510768",
     "status": "completed"
    },
    "tags": []
   },
   "outputs": [
    {
     "name": "stdout",
     "output_type": "stream",
     "text": [
      "Stopping execution_time clock.\n",
      "[INFO] Keeping all rows: 89710 rows retained.\n"
     ]
    },
    {
     "name": "stdout",
     "output_type": "stream",
     "text": [
      "[INFO] Keeping all rows: 89710 rows retained.\n"
     ]
    },
    {
     "name": "stdout",
     "output_type": "stream",
     "text": [
      "[INFO] Keeping all rows: 89710 rows retained.\n"
     ]
    },
    {
     "name": "stdout",
     "output_type": "stream",
     "text": [
      "[INFO] Keeping all rows: 89710 rows retained.\n"
     ]
    },
    {
     "data": {
      "text/html": [
       "<div>\n",
       "<style scoped>\n",
       "    .dataframe tbody tr th:only-of-type {\n",
       "        vertical-align: middle;\n",
       "    }\n",
       "\n",
       "    .dataframe tbody tr th {\n",
       "        vertical-align: top;\n",
       "    }\n",
       "\n",
       "    .dataframe thead th {\n",
       "        text-align: right;\n",
       "    }\n",
       "</style>\n",
       "<table border=\"1\" class=\"dataframe\">\n",
       "  <thead>\n",
       "    <tr style=\"text-align: right;\">\n",
       "      <th></th>\n",
       "      <th>run_no</th>\n",
       "      <th>universe_id</th>\n",
       "      <th>universe_settings</th>\n",
       "      <th>execution_time</th>\n",
       "      <th>test_size_n</th>\n",
       "      <th>test_size_frac</th>\n",
       "      <th>fair_main_equalized_odds_difference</th>\n",
       "      <th>fair_main_equalized_odds_ratio</th>\n",
       "      <th>fair_main_demographic_parity_difference</th>\n",
       "      <th>fair_main_demographic_parity_ratio</th>\n",
       "      <th>...</th>\n",
       "      <th>perf_grp_precision_0</th>\n",
       "      <th>perf_grp_precision_1</th>\n",
       "      <th>perf_grp_false positive rate_0</th>\n",
       "      <th>perf_grp_false positive rate_1</th>\n",
       "      <th>perf_grp_false negative rate_0</th>\n",
       "      <th>perf_grp_false negative rate_1</th>\n",
       "      <th>perf_grp_selection rate_0</th>\n",
       "      <th>perf_grp_selection rate_1</th>\n",
       "      <th>perf_grp_count_0</th>\n",
       "      <th>perf_grp_count_1</th>\n",
       "    </tr>\n",
       "  </thead>\n",
       "  <tbody>\n",
       "    <tr>\n",
       "      <th>0</th>\n",
       "      <td>14</td>\n",
       "      <td>8574f00ba5c34f822b76d2f1f4ad553d</td>\n",
       "      <td>{\"cutoff\": \"quantile_0.1\", \"eval_fairness_grou...</td>\n",
       "      <td>34.778775</td>\n",
       "      <td>89710</td>\n",
       "      <td>1.0</td>\n",
       "      <td>0.075375</td>\n",
       "      <td>0.919280</td>\n",
       "      <td>0.073002</td>\n",
       "      <td>0.922454</td>\n",
       "      <td>...</td>\n",
       "      <td>NaN</td>\n",
       "      <td>NaN</td>\n",
       "      <td>NaN</td>\n",
       "      <td>NaN</td>\n",
       "      <td>NaN</td>\n",
       "      <td>NaN</td>\n",
       "      <td>NaN</td>\n",
       "      <td>NaN</td>\n",
       "      <td>NaN</td>\n",
       "      <td>NaN</td>\n",
       "    </tr>\n",
       "    <tr>\n",
       "      <th>0</th>\n",
       "      <td>14</td>\n",
       "      <td>8574f00ba5c34f822b76d2f1f4ad553d</td>\n",
       "      <td>{\"cutoff\": \"quantile_0.1\", \"eval_fairness_grou...</td>\n",
       "      <td>34.778775</td>\n",
       "      <td>89710</td>\n",
       "      <td>1.0</td>\n",
       "      <td>0.075375</td>\n",
       "      <td>0.919280</td>\n",
       "      <td>0.073002</td>\n",
       "      <td>0.922454</td>\n",
       "      <td>...</td>\n",
       "      <td>0.125470</td>\n",
       "      <td>0.139165</td>\n",
       "      <td>0.858409</td>\n",
       "      <td>0.933783</td>\n",
       "      <td>0.054899</td>\n",
       "      <td>0.008534</td>\n",
       "      <td>0.868403</td>\n",
       "      <td>0.941405</td>\n",
       "      <td>20540.0</td>\n",
       "      <td>69170.0</td>\n",
       "    </tr>\n",
       "    <tr>\n",
       "      <th>0</th>\n",
       "      <td>14</td>\n",
       "      <td>8574f00ba5c34f822b76d2f1f4ad553d</td>\n",
       "      <td>{\"cutoff\": \"quantile_0.25\", \"eval_fairness_gro...</td>\n",
       "      <td>34.778775</td>\n",
       "      <td>89710</td>\n",
       "      <td>1.0</td>\n",
       "      <td>0.104866</td>\n",
       "      <td>0.890959</td>\n",
       "      <td>0.088544</td>\n",
       "      <td>0.888599</td>\n",
       "      <td>...</td>\n",
       "      <td>NaN</td>\n",
       "      <td>NaN</td>\n",
       "      <td>NaN</td>\n",
       "      <td>NaN</td>\n",
       "      <td>NaN</td>\n",
       "      <td>NaN</td>\n",
       "      <td>NaN</td>\n",
       "      <td>NaN</td>\n",
       "      <td>NaN</td>\n",
       "      <td>NaN</td>\n",
       "    </tr>\n",
       "    <tr>\n",
       "      <th>0</th>\n",
       "      <td>14</td>\n",
       "      <td>8574f00ba5c34f822b76d2f1f4ad553d</td>\n",
       "      <td>{\"cutoff\": \"quantile_0.25\", \"eval_fairness_gro...</td>\n",
       "      <td>34.778775</td>\n",
       "      <td>89710</td>\n",
       "      <td>1.0</td>\n",
       "      <td>0.104866</td>\n",
       "      <td>0.890959</td>\n",
       "      <td>0.088544</td>\n",
       "      <td>0.888599</td>\n",
       "      <td>...</td>\n",
       "      <td>0.139864</td>\n",
       "      <td>0.159882</td>\n",
       "      <td>0.686661</td>\n",
       "      <td>0.769415</td>\n",
       "      <td>0.143159</td>\n",
       "      <td>0.038293</td>\n",
       "      <td>0.706280</td>\n",
       "      <td>0.794824</td>\n",
       "      <td>20540.0</td>\n",
       "      <td>69170.0</td>\n",
       "    </tr>\n",
       "  </tbody>\n",
       "</table>\n",
       "<p>4 rows × 50 columns</p>\n",
       "</div>"
      ],
      "text/plain": [
       "  run_no                       universe_id  \\\n",
       "0     14  8574f00ba5c34f822b76d2f1f4ad553d   \n",
       "0     14  8574f00ba5c34f822b76d2f1f4ad553d   \n",
       "0     14  8574f00ba5c34f822b76d2f1f4ad553d   \n",
       "0     14  8574f00ba5c34f822b76d2f1f4ad553d   \n",
       "\n",
       "                                   universe_settings  execution_time  \\\n",
       "0  {\"cutoff\": \"quantile_0.1\", \"eval_fairness_grou...       34.778775   \n",
       "0  {\"cutoff\": \"quantile_0.1\", \"eval_fairness_grou...       34.778775   \n",
       "0  {\"cutoff\": \"quantile_0.25\", \"eval_fairness_gro...       34.778775   \n",
       "0  {\"cutoff\": \"quantile_0.25\", \"eval_fairness_gro...       34.778775   \n",
       "\n",
       "   test_size_n  test_size_frac  fair_main_equalized_odds_difference  \\\n",
       "0        89710             1.0                             0.075375   \n",
       "0        89710             1.0                             0.075375   \n",
       "0        89710             1.0                             0.104866   \n",
       "0        89710             1.0                             0.104866   \n",
       "\n",
       "   fair_main_equalized_odds_ratio  fair_main_demographic_parity_difference  \\\n",
       "0                        0.919280                                 0.073002   \n",
       "0                        0.919280                                 0.073002   \n",
       "0                        0.890959                                 0.088544   \n",
       "0                        0.890959                                 0.088544   \n",
       "\n",
       "   fair_main_demographic_parity_ratio  ...  perf_grp_precision_0  \\\n",
       "0                            0.922454  ...                   NaN   \n",
       "0                            0.922454  ...              0.125470   \n",
       "0                            0.888599  ...                   NaN   \n",
       "0                            0.888599  ...              0.139864   \n",
       "\n",
       "   perf_grp_precision_1  perf_grp_false positive rate_0  \\\n",
       "0                   NaN                             NaN   \n",
       "0              0.139165                        0.858409   \n",
       "0                   NaN                             NaN   \n",
       "0              0.159882                        0.686661   \n",
       "\n",
       "   perf_grp_false positive rate_1  perf_grp_false negative rate_0  \\\n",
       "0                             NaN                             NaN   \n",
       "0                        0.933783                        0.054899   \n",
       "0                             NaN                             NaN   \n",
       "0                        0.769415                        0.143159   \n",
       "\n",
       "   perf_grp_false negative rate_1  perf_grp_selection rate_0  \\\n",
       "0                             NaN                        NaN   \n",
       "0                        0.008534                   0.868403   \n",
       "0                             NaN                        NaN   \n",
       "0                        0.038293                   0.706280   \n",
       "\n",
       "   perf_grp_selection rate_1  perf_grp_count_0  perf_grp_count_1  \n",
       "0                        NaN               NaN               NaN  \n",
       "0                   0.941405           20540.0           69170.0  \n",
       "0                        NaN               NaN               NaN  \n",
       "0                   0.794824           20540.0           69170.0  \n",
       "\n",
       "[4 rows x 50 columns]"
      ]
     },
     "execution_count": 79,
     "metadata": {},
     "output_type": "execute_result"
    }
   ],
   "source": [
    "final_output = universe_analysis.generate_final_output(\n",
    "    y_pred_prob=probs_test,\n",
    "    y_test=y_true,\n",
    "    org_test=org_test,\n",
    "    filter_data=filter_sub_universe_data,\n",
    "    cp_metrics_df=cp_metrics_df,\n",
    "    save=True,\n",
    ")\n",
    "final_output"
   ]
  },
  {
   "cell_type": "code",
   "execution_count": null,
   "id": "721ff514-cb11-46f8-b6fc-50392f74b5cb",
   "metadata": {
    "papermill": {
     "duration": 0.059891,
     "end_time": "2025-07-30T20:11:58.266710",
     "exception": false,
     "start_time": "2025-07-30T20:11:58.206819",
     "status": "completed"
    },
    "tags": []
   },
   "outputs": [],
   "source": []
  }
 ],
 "metadata": {
  "celltoolbar": "Tags",
  "kernelspec": {
   "display_name": "Python (CMA Fairness)",
   "language": "python",
   "name": "cma_fair_env"
  },
  "language_info": {
   "codemirror_mode": {
    "name": "ipython",
    "version": 3
   },
   "file_extension": ".py",
   "mimetype": "text/x-python",
   "name": "python",
   "nbconvert_exporter": "python",
   "pygments_lexer": "ipython3",
   "version": "3.10.12"
  },
  "papermill": {
   "default_parameters": {},
   "duration": 52.495013,
   "end_time": "2025-07-30T20:11:59.533313",
   "environment_variables": {},
   "exception": null,
   "input_path": "universe_analysis.ipynb",
   "output_path": "output/runs/14/notebooks/m_14-8574f00ba5c34f822b76d2f1f4ad553d.ipynb",
   "parameters": {
    "output_dir": "output",
    "run_no": "14",
    "seed": "2023",
    "universe": "{\"cutoff\": [\"quantile_0.1\", \"quantile_0.25\"], \"eval_fairness_grouping\": [\"majority-minority\", \"nationality-all\"], \"exclude_features\": \"sex\", \"exclude_subgroups\": \"keep-all\", \"model\": \"rf\", \"scale\": \"scale\", \"training_size\": \"25k\", \"training_year\": \"2012_14\"}",
    "universe_id": "8574f00ba5c34f822b76d2f1f4ad553d"
   },
   "start_time": "2025-07-30T20:11:07.038300",
   "version": "2.6.0"
  }
 },
 "nbformat": 4,
 "nbformat_minor": 5
}