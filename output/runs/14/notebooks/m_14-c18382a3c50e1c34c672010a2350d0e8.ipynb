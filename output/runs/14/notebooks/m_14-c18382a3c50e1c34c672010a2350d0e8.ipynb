{
 "cells": [
  {
   "cell_type": "code",
   "execution_count": 1,
   "id": "f159f837-637b-42ba-96b5-ec9a68c44524",
   "metadata": {
    "execution": {
     "iopub.execute_input": "2025-07-30T21:50:09.904761Z",
     "iopub.status.busy": "2025-07-30T21:50:09.903835Z",
     "iopub.status.idle": "2025-07-30T21:50:09.917554Z",
     "shell.execute_reply": "2025-07-30T21:50:09.916601Z"
    },
    "papermill": {
     "duration": 0.040119,
     "end_time": "2025-07-30T21:50:09.919371",
     "exception": false,
     "start_time": "2025-07-30T21:50:09.879252",
     "status": "completed"
    },
    "tags": []
   },
   "outputs": [
    {
     "name": "stdout",
     "output_type": "stream",
     "text": [
      "/dss/dsshome1/0C/ra93lal2/cma/CMA_Fairness_v2\n"
     ]
    },
    {
     "name": "stderr",
     "output_type": "stream",
     "text": [
      "/dss/dsshome1/0C/ra93lal2/.local/share/virtualenvs/CMA_Fairness_v2-3j10GkSs/lib/python3.10/site-packages/IPython/core/magics/osm.py:393: UserWarning: This is now an optional IPython functionality, using bookmarks requires you to install the `pickleshare` library.\n",
      "  bkms = self.shell.db.get('bookmarks', {})\n",
      "/dss/dsshome1/0C/ra93lal2/.local/share/virtualenvs/CMA_Fairness_v2-3j10GkSs/lib/python3.10/site-packages/IPython/core/magics/osm.py:417: UserWarning: This is now an optional IPython functionality, setting dhist requires you to install the `pickleshare` library.\n",
      "  self.shell.db['dhist'] = compress_dhist(dhist)[-100:]\n"
     ]
    }
   ],
   "source": [
    "%cd ~/cma/CMA_Fairness_v2"
   ]
  },
  {
   "cell_type": "markdown",
   "id": "de2603b9",
   "metadata": {
    "papermill": {
     "duration": 0.019267,
     "end_time": "2025-07-30T21:50:09.959169",
     "exception": false,
     "start_time": "2025-07-30T21:50:09.939902",
     "status": "completed"
    },
    "tags": []
   },
   "source": [
    "The following cell holds the definition of our parameters, these values can be overriden by rendering the with e.g. the following command:\n",
    "\n",
    "papermill -p alpha 0.2 -p ratio 0.3 universe_analysis.ipynb output/test_run.ipynb"
   ]
  },
  {
   "cell_type": "code",
   "execution_count": 2,
   "id": "a80968a0-40bb-4fa9-85ef-2d5eefb01975",
   "metadata": {
    "execution": {
     "iopub.execute_input": "2025-07-30T21:50:09.999083Z",
     "iopub.status.busy": "2025-07-30T21:50:09.998075Z",
     "iopub.status.idle": "2025-07-30T21:50:10.003790Z",
     "shell.execute_reply": "2025-07-30T21:50:10.002809Z"
    },
    "papermill": {
     "duration": 0.027332,
     "end_time": "2025-07-30T21:50:10.005674",
     "exception": false,
     "start_time": "2025-07-30T21:50:09.978342",
     "status": "completed"
    },
    "tags": []
   },
   "outputs": [
    {
     "name": "stdout",
     "output_type": "stream",
     "text": [
      "Current working directory: /dss/dsshome1/0C/ra93lal2/cma/CMA_Fairness_v2\n"
     ]
    }
   ],
   "source": [
    "import os\n",
    "print(\"Current working directory:\", os.getcwd())"
   ]
  },
  {
   "cell_type": "code",
   "execution_count": 3,
   "id": "2dce4c03",
   "metadata": {
    "execution": {
     "iopub.execute_input": "2025-07-30T21:50:10.047433Z",
     "iopub.status.busy": "2025-07-30T21:50:10.046665Z",
     "iopub.status.idle": "2025-07-30T21:50:10.053116Z",
     "shell.execute_reply": "2025-07-30T21:50:10.052087Z"
    },
    "papermill": {
     "duration": 0.028455,
     "end_time": "2025-07-30T21:50:10.054852",
     "exception": false,
     "start_time": "2025-07-30T21:50:10.026397",
     "status": "completed"
    },
    "tags": [
     "parameters"
    ]
   },
   "outputs": [],
   "source": [
    "run_no = 0\n",
    "universe_id = \"test\"\n",
    "universe = {\n",
    "    \"training_size\": \"25k\", # \"25k\", \"5k\", \"1k\"\n",
    "    \"training_year\": \"2014\", # \"2014\", \"2012_14\", \"2010_14\"\n",
    "    \"scale\": \"scale\", # \"scale\", \"do-not-scale\",\n",
    "    #\"stratify_split\": \"target\", # \"none\", \"target\", \"protected-attribute\", \"both\",\n",
    "    \"model\": \"elasticnet\", # \"logreg\", \"penalized_logreg\", \"rf\", \"gbm\", \"elasticnet\"\n",
    "    \"cutoff\": [\"quantile_0.15\", \"quantile_0.30\"],\n",
    "    \"exclude_features\": \"age\", # \"none\", \"nationality\", \"sex\", \"nationality-sex\", \"age\"\n",
    "    \"exclude_subgroups\": \"keep-all\", # \"keep-all\", \"drop-non-german\"\n",
    "    \"eval_fairness_grouping\": [\"majority-minority\", \"nationality-all\"]\n",
    "}\n",
    "\n",
    "output_dir=\"./output\"\n",
    "seed=0"
   ]
  },
  {
   "cell_type": "code",
   "execution_count": 4,
   "id": "3e036e45",
   "metadata": {
    "execution": {
     "iopub.execute_input": "2025-07-30T21:50:10.096419Z",
     "iopub.status.busy": "2025-07-30T21:50:10.095909Z",
     "iopub.status.idle": "2025-07-30T21:50:10.101550Z",
     "shell.execute_reply": "2025-07-30T21:50:10.100561Z"
    },
    "papermill": {
     "duration": 0.028505,
     "end_time": "2025-07-30T21:50:10.103628",
     "exception": false,
     "start_time": "2025-07-30T21:50:10.075123",
     "status": "completed"
    },
    "tags": [
     "injected-parameters"
    ]
   },
   "outputs": [],
   "source": [
    "# Parameters\n",
    "universe_id = \"c18382a3c50e1c34c672010a2350d0e8\"\n",
    "run_no = \"14\"\n",
    "universe = \"{\\\"cutoff\\\": [\\\"quantile_0.1\\\", \\\"quantile_0.25\\\"], \\\"eval_fairness_grouping\\\": [\\\"majority-minority\\\", \\\"nationality-all\\\"], \\\"exclude_features\\\": \\\"nationality-sex\\\", \\\"exclude_subgroups\\\": \\\"keep-all\\\", \\\"model\\\": \\\"penalized_logreg\\\", \\\"scale\\\": \\\"do-not-scale\\\", \\\"training_size\\\": \\\"1k\\\", \\\"training_year\\\": \\\"2010_14\\\"}\"\n",
    "output_dir = \"output\"\n",
    "seed = \"2023\"\n"
   ]
  },
  {
   "cell_type": "code",
   "execution_count": 5,
   "id": "1650acaf",
   "metadata": {
    "execution": {
     "iopub.execute_input": "2025-07-30T21:50:10.144760Z",
     "iopub.status.busy": "2025-07-30T21:50:10.144279Z",
     "iopub.status.idle": "2025-07-30T21:50:10.149448Z",
     "shell.execute_reply": "2025-07-30T21:50:10.148451Z"
    },
    "papermill": {
     "duration": 0.026803,
     "end_time": "2025-07-30T21:50:10.151160",
     "exception": false,
     "start_time": "2025-07-30T21:50:10.124357",
     "status": "completed"
    },
    "tags": []
   },
   "outputs": [],
   "source": [
    "import json\n",
    "# Parse universe into dict if it is passed as a string\n",
    "if isinstance(universe, str):\n",
    "    universe = json.loads(universe)"
   ]
  },
  {
   "cell_type": "code",
   "execution_count": 6,
   "id": "16620c48",
   "metadata": {
    "execution": {
     "iopub.execute_input": "2025-07-30T21:50:10.193453Z",
     "iopub.status.busy": "2025-07-30T21:50:10.192994Z",
     "iopub.status.idle": "2025-07-30T21:50:10.238739Z",
     "shell.execute_reply": "2025-07-30T21:50:10.237768Z"
    },
    "papermill": {
     "duration": 0.068116,
     "end_time": "2025-07-30T21:50:10.240593",
     "exception": false,
     "start_time": "2025-07-30T21:50:10.172477",
     "status": "completed"
    },
    "tags": []
   },
   "outputs": [],
   "source": [
    "# Auto-reload the custom package\n",
    "%load_ext autoreload\n",
    "%autoreload 1\n",
    "%aimport fairness_multiverse"
   ]
  },
  {
   "cell_type": "code",
   "execution_count": 7,
   "id": "01c5c9f3",
   "metadata": {
    "execution": {
     "iopub.execute_input": "2025-07-30T21:50:10.282294Z",
     "iopub.status.busy": "2025-07-30T21:50:10.281828Z",
     "iopub.status.idle": "2025-07-30T21:50:12.087781Z",
     "shell.execute_reply": "2025-07-30T21:50:12.086790Z"
    },
    "papermill": {
     "duration": 1.829338,
     "end_time": "2025-07-30T21:50:12.089781",
     "exception": false,
     "start_time": "2025-07-30T21:50:10.260443",
     "status": "completed"
    },
    "tags": []
   },
   "outputs": [],
   "source": [
    "from fairness_multiverse.universe import UniverseAnalysis\n",
    "\n",
    "universe_analysis = UniverseAnalysis(\n",
    "    run_no = run_no,\n",
    "    universe_id = universe_id,\n",
    "    universe = universe,\n",
    "    output_dir=output_dir,\n",
    ")"
   ]
  },
  {
   "cell_type": "code",
   "execution_count": 8,
   "id": "106241f5",
   "metadata": {
    "execution": {
     "iopub.execute_input": "2025-07-30T21:50:12.134030Z",
     "iopub.status.busy": "2025-07-30T21:50:12.133503Z",
     "iopub.status.idle": "2025-07-30T21:50:12.140669Z",
     "shell.execute_reply": "2025-07-30T21:50:12.139498Z"
    },
    "papermill": {
     "duration": 0.030109,
     "end_time": "2025-07-30T21:50:12.142347",
     "exception": false,
     "start_time": "2025-07-30T21:50:12.112238",
     "status": "completed"
    },
    "tags": []
   },
   "outputs": [
    {
     "name": "stdout",
     "output_type": "stream",
     "text": [
      "Using Seed: 2023\n"
     ]
    }
   ],
   "source": [
    "import numpy as np\n",
    "parsed_seed = int(seed)\n",
    "np.random.seed(parsed_seed)\n",
    "print(f\"Using Seed: {parsed_seed}\")"
   ]
  },
  {
   "cell_type": "markdown",
   "id": "e0ebdc57",
   "metadata": {
    "papermill": {
     "duration": 0.018953,
     "end_time": "2025-07-30T21:50:12.182267",
     "exception": false,
     "start_time": "2025-07-30T21:50:12.163314",
     "status": "completed"
    },
    "tags": []
   },
   "source": [
    "# Loading Data"
   ]
  },
  {
   "cell_type": "markdown",
   "id": "681925a3",
   "metadata": {
    "papermill": {
     "duration": 0.020453,
     "end_time": "2025-07-30T21:50:12.223558",
     "exception": false,
     "start_time": "2025-07-30T21:50:12.203105",
     "status": "completed"
    },
    "tags": []
   },
   "source": [
    "Load siab_train, siab_test, siab_calib and/or \n",
    "load siab_train_features, siab_train_labels"
   ]
  },
  {
   "cell_type": "code",
   "execution_count": 9,
   "id": "f0496b8a",
   "metadata": {
    "execution": {
     "iopub.execute_input": "2025-07-30T21:50:12.264696Z",
     "iopub.status.busy": "2025-07-30T21:50:12.264166Z",
     "iopub.status.idle": "2025-07-30T21:50:25.211201Z",
     "shell.execute_reply": "2025-07-30T21:50:25.209671Z"
    },
    "papermill": {
     "duration": 12.970286,
     "end_time": "2025-07-30T21:50:25.213303",
     "exception": false,
     "start_time": "2025-07-30T21:50:12.243017",
     "status": "completed"
    },
    "tags": []
   },
   "outputs": [
    {
     "name": "stdout",
     "output_type": "stream",
     "text": [
      "Loading SIAB data from cache: data/siab_cached.csv.gz\n"
     ]
    },
    {
     "name": "stdout",
     "output_type": "stream",
     "text": [
      "(643690, 164)\n"
     ]
    }
   ],
   "source": [
    "from pathlib import Path\n",
    "import pandas as pd\n",
    "\n",
    "# File paths\n",
    "raw_file = Path(\"data/raw/siab.csv\")\n",
    "cache_file = Path(\"data/siab_cached.csv.gz\")\n",
    "\n",
    "# Ensure cache directory exists\n",
    "cache_file.parent.mkdir(parents=True, exist_ok=True)\n",
    "\n",
    "# Load with simple caching\n",
    "if cache_file.exists():\n",
    "    print(f\"Loading SIAB data from cache: {cache_file}\")\n",
    "    siab = pd.read_csv(cache_file, compression='gzip')\n",
    "else:\n",
    "    print(f\"Cache not found. Reading raw SIAB data: {raw_file}\")\n",
    "    siab = pd.read_csv(raw_file)\n",
    "    siab.to_csv(cache_file, index=False, compression='gzip')\n",
    "    print(f\"Cached SIAB data to: {cache_file}\")\n",
    "\n",
    "# Now use `siab` DataFrame as needed\n",
    "print(siab.shape)"
   ]
  },
  {
   "cell_type": "code",
   "execution_count": 10,
   "id": "db0ca512-5f53-4dba-abdb-a2888bca41ba",
   "metadata": {
    "execution": {
     "iopub.execute_input": "2025-07-30T21:50:25.261813Z",
     "iopub.status.busy": "2025-07-30T21:50:25.261208Z",
     "iopub.status.idle": "2025-07-30T21:50:25.267229Z",
     "shell.execute_reply": "2025-07-30T21:50:25.266114Z"
    },
    "papermill": {
     "duration": 0.032124,
     "end_time": "2025-07-30T21:50:25.269152",
     "exception": false,
     "start_time": "2025-07-30T21:50:25.237028",
     "status": "completed"
    },
    "tags": []
   },
   "outputs": [],
   "source": [
    "#siab"
   ]
  },
  {
   "cell_type": "code",
   "execution_count": 11,
   "id": "a0edb063",
   "metadata": {
    "execution": {
     "iopub.execute_input": "2025-07-30T21:50:25.311615Z",
     "iopub.status.busy": "2025-07-30T21:50:25.311109Z",
     "iopub.status.idle": "2025-07-30T21:50:25.316847Z",
     "shell.execute_reply": "2025-07-30T21:50:25.315558Z"
    },
    "papermill": {
     "duration": 0.02859,
     "end_time": "2025-07-30T21:50:25.318854",
     "exception": false,
     "start_time": "2025-07-30T21:50:25.290264",
     "status": "completed"
    },
    "tags": []
   },
   "outputs": [],
   "source": [
    "#import pandas as pd\n",
    "#\n",
    "#X_train = pd.read_csv(\"./data/X_train.csv\")\n",
    "#y_train = pd.read_csv(\"./data/y_train.csv\")"
   ]
  },
  {
   "cell_type": "code",
   "execution_count": 12,
   "id": "63d08085",
   "metadata": {
    "execution": {
     "iopub.execute_input": "2025-07-30T21:50:25.378493Z",
     "iopub.status.busy": "2025-07-30T21:50:25.377888Z",
     "iopub.status.idle": "2025-07-30T21:50:25.384060Z",
     "shell.execute_reply": "2025-07-30T21:50:25.382897Z"
    },
    "papermill": {
     "duration": 0.044363,
     "end_time": "2025-07-30T21:50:25.386067",
     "exception": false,
     "start_time": "2025-07-30T21:50:25.341704",
     "status": "completed"
    },
    "tags": []
   },
   "outputs": [],
   "source": [
    "#X_test = pd.read_csv(\"./data/X_test.csv\")\n",
    "#y_true = pd.read_csv(\"./data/y_test.csv\")"
   ]
  },
  {
   "cell_type": "code",
   "execution_count": 13,
   "id": "98a8d0fa-1d3d-4ed8-bb2c-281470e24add",
   "metadata": {
    "execution": {
     "iopub.execute_input": "2025-07-30T21:50:25.442381Z",
     "iopub.status.busy": "2025-07-30T21:50:25.441825Z",
     "iopub.status.idle": "2025-07-30T21:50:25.447496Z",
     "shell.execute_reply": "2025-07-30T21:50:25.446504Z"
    },
    "papermill": {
     "duration": 0.037423,
     "end_time": "2025-07-30T21:50:25.451197",
     "exception": false,
     "start_time": "2025-07-30T21:50:25.413774",
     "status": "completed"
    },
    "tags": []
   },
   "outputs": [],
   "source": [
    "# Calibration data for conformal\n",
    "#X_calib = pd.read_csv(\"./data/X_calib.csv\")\n",
    "#y_calib = pd.read_csv(\"./data/y_calib.csv\")"
   ]
  },
  {
   "cell_type": "markdown",
   "id": "997051c5-15bd-4b69-9786-c3001a3ce484",
   "metadata": {
    "papermill": {
     "duration": 0.026685,
     "end_time": "2025-07-30T21:50:25.504794",
     "exception": false,
     "start_time": "2025-07-30T21:50:25.478109",
     "status": "completed"
    },
    "tags": []
   },
   "source": [
    "# Splitting Data and Setting Training Data Size"
   ]
  },
  {
   "cell_type": "code",
   "execution_count": 14,
   "id": "e993b61f-042d-41a6-8c81-f55681f86335",
   "metadata": {
    "execution": {
     "iopub.execute_input": "2025-07-30T21:50:25.560076Z",
     "iopub.status.busy": "2025-07-30T21:50:25.559673Z",
     "iopub.status.idle": "2025-07-30T21:50:25.574139Z",
     "shell.execute_reply": "2025-07-30T21:50:25.572977Z"
    },
    "papermill": {
     "duration": 0.043862,
     "end_time": "2025-07-30T21:50:25.576508",
     "exception": false,
     "start_time": "2025-07-30T21:50:25.532646",
     "status": "completed"
    },
    "tags": []
   },
   "outputs": [],
   "source": [
    "def sample_by_year_size(df,\n",
    "                        training_year: str,\n",
    "                        training_size: str,\n",
    "                        random_state: int = 42):\n",
    "    # --- parse training_year into a list of int years ---\n",
    "    if \"_\" in training_year:\n",
    "        start_str, end_str = training_year.split(\"_\", 1)\n",
    "        start = int(start_str)\n",
    "        end   = int(end_str) if len(end_str) == 4 else (int(end_str) + (start // 100)*100)\n",
    "        years = list(range(start, end + 1))\n",
    "    else:\n",
    "        years = [int(training_year)]\n",
    "\n",
    "    df = df[df[\"year\"].isin(years)].reset_index(drop=True)\n",
    "\n",
    "    # --- map training_size to total number of samples ---\n",
    "    total_map = {\"25k\": 25_000, \"5k\": 5_000, \"1k\": 1_000}\n",
    "    if training_size not in total_map:\n",
    "        return df  # e.g. \"all\"\n",
    "\n",
    "    total_samples = total_map[training_size]\n",
    "    n_years       = len(years)\n",
    "    base          = total_samples // n_years\n",
    "    remainder     = total_samples % n_years\n",
    "\n",
    "    # --- build a dict: year -> how many to sample ---\n",
    "    # give +1 to the first `remainder` years in ascending order\n",
    "    quotas = {\n",
    "        year: base + (1 if idx < remainder else 0)\n",
    "        for idx, year in enumerate(sorted(years))\n",
    "    }\n",
    "\n",
    "    # --- sample per‐year according to the quota dict ---\n",
    "    sampled = (\n",
    "        df\n",
    "        .groupby(\"year\", group_keys=False)\n",
    "        .apply(lambda grp: grp.sample(\n",
    "            n=min(len(grp), quotas[grp.name]),\n",
    "            random_state=random_state))\n",
    "        .reset_index(drop=True)\n",
    "    )\n",
    "\n",
    "    return sampled"
   ]
  },
  {
   "cell_type": "code",
   "execution_count": 15,
   "id": "c0ccd338-0e02-41f3-a09d-f56f9266e3fb",
   "metadata": {
    "execution": {
     "iopub.execute_input": "2025-07-30T21:50:25.635831Z",
     "iopub.status.busy": "2025-07-30T21:50:25.634894Z",
     "iopub.status.idle": "2025-07-30T21:50:25.640514Z",
     "shell.execute_reply": "2025-07-30T21:50:25.639499Z"
    },
    "papermill": {
     "duration": 0.032664,
     "end_time": "2025-07-30T21:50:25.642312",
     "exception": false,
     "start_time": "2025-07-30T21:50:25.609648",
     "status": "completed"
    },
    "tags": []
   },
   "outputs": [],
   "source": [
    "#universe[\"training_size\"]"
   ]
  },
  {
   "cell_type": "code",
   "execution_count": 16,
   "id": "ca707fd7-8047-4acd-bfa5-66248fbbf8e6",
   "metadata": {
    "execution": {
     "iopub.execute_input": "2025-07-30T21:50:25.690815Z",
     "iopub.status.busy": "2025-07-30T21:50:25.689904Z",
     "iopub.status.idle": "2025-07-30T21:50:25.696158Z",
     "shell.execute_reply": "2025-07-30T21:50:25.694953Z"
    },
    "papermill": {
     "duration": 0.032422,
     "end_time": "2025-07-30T21:50:25.698238",
     "exception": false,
     "start_time": "2025-07-30T21:50:25.665816",
     "status": "completed"
    },
    "tags": []
   },
   "outputs": [],
   "source": [
    "#universe[\"training_year\"]"
   ]
  },
  {
   "cell_type": "code",
   "execution_count": 17,
   "id": "aea9c6ef-6f46-42c8-85eb-5a62025c1508",
   "metadata": {
    "execution": {
     "iopub.execute_input": "2025-07-30T21:50:25.742485Z",
     "iopub.status.busy": "2025-07-30T21:50:25.742052Z",
     "iopub.status.idle": "2025-07-30T21:50:26.810399Z",
     "shell.execute_reply": "2025-07-30T21:50:26.809357Z"
    },
    "papermill": {
     "duration": 1.094065,
     "end_time": "2025-07-30T21:50:26.812088",
     "exception": false,
     "start_time": "2025-07-30T21:50:25.718023",
     "status": "completed"
    },
    "tags": []
   },
   "outputs": [],
   "source": [
    "siab_train = sample_by_year_size(siab,\n",
    "                               training_year=universe[\"training_year\"],\n",
    "                               training_size=universe[\"training_size\"])"
   ]
  },
  {
   "cell_type": "code",
   "execution_count": 18,
   "id": "8d3afb32-789d-442c-8d5d-9f5aa8dd2eed",
   "metadata": {
    "execution": {
     "iopub.execute_input": "2025-07-30T21:50:26.851174Z",
     "iopub.status.busy": "2025-07-30T21:50:26.850720Z",
     "iopub.status.idle": "2025-07-30T21:50:26.856392Z",
     "shell.execute_reply": "2025-07-30T21:50:26.855265Z"
    },
    "papermill": {
     "duration": 0.030469,
     "end_time": "2025-07-30T21:50:26.858267",
     "exception": false,
     "start_time": "2025-07-30T21:50:26.827798",
     "status": "completed"
    },
    "tags": []
   },
   "outputs": [],
   "source": [
    "#siab_train.shape"
   ]
  },
  {
   "cell_type": "code",
   "execution_count": 19,
   "id": "d582db68-1a4c-47fb-84fc-08518dc1975a",
   "metadata": {
    "execution": {
     "iopub.execute_input": "2025-07-30T21:50:26.903915Z",
     "iopub.status.busy": "2025-07-30T21:50:26.903292Z",
     "iopub.status.idle": "2025-07-30T21:50:26.908744Z",
     "shell.execute_reply": "2025-07-30T21:50:26.907639Z"
    },
    "papermill": {
     "duration": 0.027681,
     "end_time": "2025-07-30T21:50:26.910636",
     "exception": false,
     "start_time": "2025-07-30T21:50:26.882955",
     "status": "completed"
    },
    "tags": []
   },
   "outputs": [],
   "source": [
    "#display(siab_train.groupby(\"year\").size())"
   ]
  },
  {
   "cell_type": "code",
   "execution_count": 20,
   "id": "a561edb4-d032-42cb-8256-22eac1111c64",
   "metadata": {
    "execution": {
     "iopub.execute_input": "2025-07-30T21:50:26.956540Z",
     "iopub.status.busy": "2025-07-30T21:50:26.956129Z",
     "iopub.status.idle": "2025-07-30T21:50:27.209738Z",
     "shell.execute_reply": "2025-07-30T21:50:27.208687Z"
    },
    "papermill": {
     "duration": 0.27724,
     "end_time": "2025-07-30T21:50:27.211743",
     "exception": false,
     "start_time": "2025-07-30T21:50:26.934503",
     "status": "completed"
    },
    "tags": []
   },
   "outputs": [],
   "source": [
    "#siab_train = siab_s[siab_s.year < 2015]\n",
    "siab_calib = siab[siab.year == 2015]\n",
    "siab_test = siab[siab.year == 2016]"
   ]
  },
  {
   "cell_type": "code",
   "execution_count": 21,
   "id": "472de16f-c3db-4916-846b-1f0de9cf1746",
   "metadata": {
    "execution": {
     "iopub.execute_input": "2025-07-30T21:50:27.278005Z",
     "iopub.status.busy": "2025-07-30T21:50:27.277075Z",
     "iopub.status.idle": "2025-07-30T21:50:27.283863Z",
     "shell.execute_reply": "2025-07-30T21:50:27.282949Z"
    },
    "papermill": {
     "duration": 0.03316,
     "end_time": "2025-07-30T21:50:27.285795",
     "exception": false,
     "start_time": "2025-07-30T21:50:27.252635",
     "status": "completed"
    },
    "tags": []
   },
   "outputs": [],
   "source": [
    "X_train = siab_train.iloc[:,4:164]\n",
    "y_train = siab_train.iloc[:, [3]]"
   ]
  },
  {
   "cell_type": "code",
   "execution_count": 22,
   "id": "828c96af-f43a-4ed6-ba47-8ac73a47d56c",
   "metadata": {
    "execution": {
     "iopub.execute_input": "2025-07-30T21:50:27.335000Z",
     "iopub.status.busy": "2025-07-30T21:50:27.334271Z",
     "iopub.status.idle": "2025-07-30T21:50:27.390406Z",
     "shell.execute_reply": "2025-07-30T21:50:27.389308Z"
    },
    "papermill": {
     "duration": 0.081374,
     "end_time": "2025-07-30T21:50:27.392973",
     "exception": false,
     "start_time": "2025-07-30T21:50:27.311599",
     "status": "completed"
    },
    "tags": []
   },
   "outputs": [],
   "source": [
    "X_calib = siab_calib.iloc[:,4:164]\n",
    "y_calib = siab_calib.iloc[:, [3]]"
   ]
  },
  {
   "cell_type": "code",
   "execution_count": 23,
   "id": "c34be9c3-6bd6-476e-acd3-845840e303be",
   "metadata": {
    "execution": {
     "iopub.execute_input": "2025-07-30T21:50:27.453875Z",
     "iopub.status.busy": "2025-07-30T21:50:27.453332Z",
     "iopub.status.idle": "2025-07-30T21:50:27.511463Z",
     "shell.execute_reply": "2025-07-30T21:50:27.510429Z"
    },
    "papermill": {
     "duration": 0.091131,
     "end_time": "2025-07-30T21:50:27.513528",
     "exception": false,
     "start_time": "2025-07-30T21:50:27.422397",
     "status": "completed"
    },
    "tags": []
   },
   "outputs": [],
   "source": [
    "X_test = siab_test.iloc[:,4:164]\n",
    "y_true = siab_test.iloc[:, [3]]"
   ]
  },
  {
   "cell_type": "markdown",
   "id": "9901737e-04df-44f0-9100-f5ad144ed040",
   "metadata": {
    "papermill": {
     "duration": 0.030188,
     "end_time": "2025-07-30T21:50:27.570193",
     "exception": false,
     "start_time": "2025-07-30T21:50:27.540005",
     "status": "completed"
    },
    "tags": []
   },
   "source": [
    "# Splitting Data and Setting Training Data Size OLD VERSION"
   ]
  },
  {
   "cell_type": "code",
   "execution_count": 24,
   "id": "acbc8f7d-8fc8-4e86-8c59-5dcb0f58384b",
   "metadata": {
    "execution": {
     "iopub.execute_input": "2025-07-30T21:50:27.622220Z",
     "iopub.status.busy": "2025-07-30T21:50:27.621665Z",
     "iopub.status.idle": "2025-07-30T21:50:27.627891Z",
     "shell.execute_reply": "2025-07-30T21:50:27.626474Z"
    },
    "papermill": {
     "duration": 0.033351,
     "end_time": "2025-07-30T21:50:27.630148",
     "exception": false,
     "start_time": "2025-07-30T21:50:27.596797",
     "status": "completed"
    },
    "tags": []
   },
   "outputs": [],
   "source": [
    "#def sample_by_year(df, training_size, random_state=42):\n",
    "#    if training_size == \"2014\":\n",
    "#        return df[df[\"year\"] == 2014].reset_index(drop=True)\n",
    "#    \n",
    "#    size_map = {\n",
    "#        \"25k\": 5000,\n",
    "#        \"5k\": 1000,\n",
    "#        \"1k\": 200\n",
    "#    }\n",
    "#\n",
    "#    if training_size not in size_map:\n",
    "#        return df.reset_index(drop=True)  # use all data\n",
    "#\n",
    "#    n_per_year = size_map[training_size]\n",
    "#    grouped = df.groupby(\"year\")\n",
    "#    sampled = grouped.apply(lambda x: x.sample(n=min(n_per_year, len(x)), random_state=random_state))\n",
    "#    return sampled.reset_index(drop=True)"
   ]
  },
  {
   "cell_type": "code",
   "execution_count": 25,
   "id": "6d931f52-beaf-43ff-9e78-9d44a448d54e",
   "metadata": {
    "execution": {
     "iopub.execute_input": "2025-07-30T21:50:27.680831Z",
     "iopub.status.busy": "2025-07-30T21:50:27.680295Z",
     "iopub.status.idle": "2025-07-30T21:50:27.686045Z",
     "shell.execute_reply": "2025-07-30T21:50:27.684997Z"
    },
    "papermill": {
     "duration": 0.033518,
     "end_time": "2025-07-30T21:50:27.688073",
     "exception": false,
     "start_time": "2025-07-30T21:50:27.654555",
     "status": "completed"
    },
    "tags": []
   },
   "outputs": [],
   "source": [
    "#siab_s = sample_by_year(siab, universe[\"training_size\"])"
   ]
  },
  {
   "cell_type": "code",
   "execution_count": 26,
   "id": "5db0a40e-a4e2-4920-be85-b12ae061d70d",
   "metadata": {
    "execution": {
     "iopub.execute_input": "2025-07-30T21:50:27.739082Z",
     "iopub.status.busy": "2025-07-30T21:50:27.738555Z",
     "iopub.status.idle": "2025-07-30T21:50:27.744193Z",
     "shell.execute_reply": "2025-07-30T21:50:27.743139Z"
    },
    "papermill": {
     "duration": 0.033277,
     "end_time": "2025-07-30T21:50:27.745951",
     "exception": false,
     "start_time": "2025-07-30T21:50:27.712674",
     "status": "completed"
    },
    "tags": []
   },
   "outputs": [],
   "source": [
    "#display(siab_s.groupby(\"year\").size())"
   ]
  },
  {
   "cell_type": "code",
   "execution_count": 27,
   "id": "e6c733c5",
   "metadata": {
    "execution": {
     "iopub.execute_input": "2025-07-30T21:50:27.805658Z",
     "iopub.status.busy": "2025-07-30T21:50:27.804889Z",
     "iopub.status.idle": "2025-07-30T21:50:27.962016Z",
     "shell.execute_reply": "2025-07-30T21:50:27.960732Z"
    },
    "papermill": {
     "duration": 0.193418,
     "end_time": "2025-07-30T21:50:27.964301",
     "exception": false,
     "start_time": "2025-07-30T21:50:27.770883",
     "status": "completed"
    },
    "tags": []
   },
   "outputs": [],
   "source": [
    "# Auxiliary data needed downstream in the pipeline\n",
    "\n",
    "org_train = X_train.copy()\n",
    "org_test = X_test.copy()\n",
    "org_calib = X_calib.copy()"
   ]
  },
  {
   "cell_type": "code",
   "execution_count": 28,
   "id": "1466abac-c6da-4492-a62f-4240ae3783af",
   "metadata": {
    "execution": {
     "iopub.execute_input": "2025-07-30T21:50:28.017893Z",
     "iopub.status.busy": "2025-07-30T21:50:28.017173Z",
     "iopub.status.idle": "2025-07-30T21:50:28.023760Z",
     "shell.execute_reply": "2025-07-30T21:50:28.022574Z"
    },
    "papermill": {
     "duration": 0.034698,
     "end_time": "2025-07-30T21:50:28.025720",
     "exception": false,
     "start_time": "2025-07-30T21:50:27.991022",
     "status": "completed"
    },
    "tags": []
   },
   "outputs": [],
   "source": [
    "# put in other script?\n",
    "# Group sizes\n",
    "\n",
    "#def calculate_percentages(df, df_name):\n",
    "#    total_entries = len(df)\n",
    "#\n",
    "#    female_pct = (df['frau1'] == 1).mean() * 100\n",
    "#    non_german_pct = ((df['maxdeutsch1'] == 0) & (df['maxdeutsch.Missing.'] == 0)).mean() * 100\n",
    "#    non_german_male_pct = ((df['frau1'] == 0) & (df['maxdeutsch1'] == 0) & (df['maxdeutsch.Missing.'] == 0)).mean() * 100\n",
    "#    non_german_female_pct = ((df['frau1'] == 1) & (df['maxdeutsch1'] == 0) & (df['maxdeutsch.Missing.'] == 0)).mean() * 100\n",
    "#\n",
    "#    print(f\"--- {df_name} ---\")\n",
    "#    print(f\"Female: {female_pct:.2f}%\")\n",
    "#    print(f\"Non-German: {non_german_pct:.2f}%\")\n",
    "#    print(f\"Non-German Male: {non_german_male_pct:.2f}%\")\n",
    "#    print(f\"Non-German Female: {non_german_female_pct:.2f}%\\n\")\n",
    "#\n",
    "## Calculate for each DataFrame\n",
    "#calculate_percentages(siab_calib, \"siab_calib\")\n",
    "#calculate_percentages(siab_test, \"siab_test\")\n",
    "#calculate_percentages(siab_train, \"siab_train\")"
   ]
  },
  {
   "cell_type": "markdown",
   "id": "0a4a1b33",
   "metadata": {
    "papermill": {
     "duration": 0.024711,
     "end_time": "2025-07-30T21:50:28.075876",
     "exception": false,
     "start_time": "2025-07-30T21:50:28.051165",
     "status": "completed"
    },
    "tags": []
   },
   "source": [
    "# Preprocessing Data"
   ]
  },
  {
   "cell_type": "code",
   "execution_count": 29,
   "id": "ca879031",
   "metadata": {
    "execution": {
     "iopub.execute_input": "2025-07-30T21:50:28.126639Z",
     "iopub.status.busy": "2025-07-30T21:50:28.126095Z",
     "iopub.status.idle": "2025-07-30T21:50:28.133144Z",
     "shell.execute_reply": "2025-07-30T21:50:28.131905Z"
    },
    "papermill": {
     "duration": 0.034354,
     "end_time": "2025-07-30T21:50:28.135012",
     "exception": false,
     "start_time": "2025-07-30T21:50:28.100658",
     "status": "completed"
    },
    "tags": []
   },
   "outputs": [],
   "source": [
    "# EXCLUDE PROTECTED FEATURES\n",
    "# ----------------------\n",
    "# \"exclude_features\": \"none\", # \"nationality\", \"sex\", \"nationality-sex\"\n",
    "\n",
    "excluded_features = universe[\"exclude_features\"].split(\"-\") # split, e.g.: \"nationality-sex\" -> [\"nationality\", \"sex\"]\n",
    "excluded_features_dictionary = {\n",
    "    \"nationality\": [\"maxdeutsch1\", \"maxdeutsch.Missing.\"],\n",
    "    \"sex\": [\"frau1\"],\n",
    "    \"age\": [\"age\"],\n",
    "}\n"
   ]
  },
  {
   "cell_type": "code",
   "execution_count": 30,
   "id": "b745ac60",
   "metadata": {
    "execution": {
     "iopub.execute_input": "2025-07-30T21:50:28.197545Z",
     "iopub.status.busy": "2025-07-30T21:50:28.196844Z",
     "iopub.status.idle": "2025-07-30T21:50:28.203798Z",
     "shell.execute_reply": "2025-07-30T21:50:28.202604Z"
    },
    "papermill": {
     "duration": 0.040356,
     "end_time": "2025-07-30T21:50:28.205989",
     "exception": false,
     "start_time": "2025-07-30T21:50:28.165633",
     "status": "completed"
    },
    "tags": []
   },
   "outputs": [],
   "source": [
    "# Code nice names to column names\n",
    "\n",
    "excluded_features_columns = [\n",
    "    excluded_features_dictionary[f] for f in excluded_features if len(f) > 0 and f != \"none\"\n",
    "]"
   ]
  },
  {
   "cell_type": "code",
   "execution_count": 31,
   "id": "f84f73a2",
   "metadata": {
    "execution": {
     "iopub.execute_input": "2025-07-30T21:50:28.269980Z",
     "iopub.status.busy": "2025-07-30T21:50:28.269513Z",
     "iopub.status.idle": "2025-07-30T21:50:28.276742Z",
     "shell.execute_reply": "2025-07-30T21:50:28.275539Z"
    },
    "papermill": {
     "duration": 0.041027,
     "end_time": "2025-07-30T21:50:28.278717",
     "exception": false,
     "start_time": "2025-07-30T21:50:28.237690",
     "status": "completed"
    },
    "tags": []
   },
   "outputs": [],
   "source": [
    "from utils import flatten_once\n",
    "\n",
    "excluded_features_columns = flatten_once(excluded_features_columns)"
   ]
  },
  {
   "cell_type": "code",
   "execution_count": 32,
   "id": "884dea22",
   "metadata": {
    "execution": {
     "iopub.execute_input": "2025-07-30T21:50:28.343009Z",
     "iopub.status.busy": "2025-07-30T21:50:28.342536Z",
     "iopub.status.idle": "2025-07-30T21:50:28.350012Z",
     "shell.execute_reply": "2025-07-30T21:50:28.348830Z"
    },
    "papermill": {
     "duration": 0.042236,
     "end_time": "2025-07-30T21:50:28.352122",
     "exception": false,
     "start_time": "2025-07-30T21:50:28.309886",
     "status": "completed"
    },
    "tags": []
   },
   "outputs": [
    {
     "name": "stdout",
     "output_type": "stream",
     "text": [
      "Dropping features: ['maxdeutsch1', 'maxdeutsch.Missing.', 'frau1']\n"
     ]
    }
   ],
   "source": [
    "if len(excluded_features_columns) > 0:\n",
    "    print(f\"Dropping features: {excluded_features_columns}\")\n",
    "    X_train.drop(excluded_features_columns, axis=1, inplace=True)"
   ]
  },
  {
   "cell_type": "code",
   "execution_count": 33,
   "id": "95ab8b16",
   "metadata": {
    "execution": {
     "iopub.execute_input": "2025-07-30T21:50:28.404007Z",
     "iopub.status.busy": "2025-07-30T21:50:28.403294Z",
     "iopub.status.idle": "2025-07-30T21:50:28.457833Z",
     "shell.execute_reply": "2025-07-30T21:50:28.456795Z"
    },
    "papermill": {
     "duration": 0.082348,
     "end_time": "2025-07-30T21:50:28.459994",
     "exception": false,
     "start_time": "2025-07-30T21:50:28.377646",
     "status": "completed"
    },
    "tags": []
   },
   "outputs": [
    {
     "name": "stdout",
     "output_type": "stream",
     "text": [
      "Dropping features: ['maxdeutsch1', 'maxdeutsch.Missing.', 'frau1']\n"
     ]
    }
   ],
   "source": [
    "if len(excluded_features_columns) > 0:\n",
    "    print(f\"Dropping features: {excluded_features_columns}\")\n",
    "    X_test.drop(excluded_features_columns, axis=1, inplace=True)"
   ]
  },
  {
   "cell_type": "code",
   "execution_count": 34,
   "id": "1853aaf5-fb9f-46cb-a2b5-8ea4ae2237e4",
   "metadata": {
    "execution": {
     "iopub.execute_input": "2025-07-30T21:50:28.507782Z",
     "iopub.status.busy": "2025-07-30T21:50:28.506881Z",
     "iopub.status.idle": "2025-07-30T21:50:28.561034Z",
     "shell.execute_reply": "2025-07-30T21:50:28.559952Z"
    },
    "papermill": {
     "duration": 0.076582,
     "end_time": "2025-07-30T21:50:28.562912",
     "exception": false,
     "start_time": "2025-07-30T21:50:28.486330",
     "status": "completed"
    },
    "tags": []
   },
   "outputs": [
    {
     "name": "stdout",
     "output_type": "stream",
     "text": [
      "Dropping features: ['maxdeutsch1', 'maxdeutsch.Missing.', 'frau1']\n"
     ]
    }
   ],
   "source": [
    "if len(excluded_features_columns) > 0:\n",
    "    print(f\"Dropping features: {excluded_features_columns}\")\n",
    "    X_calib.drop(excluded_features_columns, axis=1, inplace=True)"
   ]
  },
  {
   "cell_type": "code",
   "execution_count": 35,
   "id": "6727d079-03e5-481e-9d38-292a90b7a0a8",
   "metadata": {
    "execution": {
     "iopub.execute_input": "2025-07-30T21:50:28.614521Z",
     "iopub.status.busy": "2025-07-30T21:50:28.614158Z",
     "iopub.status.idle": "2025-07-30T21:50:28.618512Z",
     "shell.execute_reply": "2025-07-30T21:50:28.617735Z"
    },
    "papermill": {
     "duration": 0.031878,
     "end_time": "2025-07-30T21:50:28.619846",
     "exception": false,
     "start_time": "2025-07-30T21:50:28.587968",
     "status": "completed"
    },
    "tags": []
   },
   "outputs": [],
   "source": [
    "# SPLIT & STRATIFY DATA\n",
    "# ----------------------"
   ]
  },
  {
   "cell_type": "code",
   "execution_count": 36,
   "id": "76c4dc6d",
   "metadata": {
    "execution": {
     "iopub.execute_input": "2025-07-30T21:50:28.664952Z",
     "iopub.status.busy": "2025-07-30T21:50:28.664594Z",
     "iopub.status.idle": "2025-07-30T21:50:28.684220Z",
     "shell.execute_reply": "2025-07-30T21:50:28.683413Z"
    },
    "papermill": {
     "duration": 0.035435,
     "end_time": "2025-07-30T21:50:28.685808",
     "exception": false,
     "start_time": "2025-07-30T21:50:28.650373",
     "status": "completed"
    },
    "tags": []
   },
   "outputs": [],
   "source": [
    "# EXCLUDE CERTAIN SUBGROUPS\n",
    "# ----------------------\n",
    "\n",
    "mode = universe.get(\"exclude_subgroups\", \"keep-all\") \n",
    "# Fetches the exclude_subgroups setting from the universe dict.\n",
    "# Defaults to \"keep-all\" if the key is missing."
   ]
  },
  {
   "cell_type": "code",
   "execution_count": 37,
   "id": "21994072",
   "metadata": {
    "execution": {
     "iopub.execute_input": "2025-07-30T21:50:28.731661Z",
     "iopub.status.busy": "2025-07-30T21:50:28.731153Z",
     "iopub.status.idle": "2025-07-30T21:50:28.738490Z",
     "shell.execute_reply": "2025-07-30T21:50:28.737525Z"
    },
    "papermill": {
     "duration": 0.035905,
     "end_time": "2025-07-30T21:50:28.740134",
     "exception": false,
     "start_time": "2025-07-30T21:50:28.704229",
     "status": "completed"
    },
    "tags": []
   },
   "outputs": [],
   "source": [
    "if mode == \"keep-all\":\n",
    "    keep_mask = pd.Series(True, index=org_train.index)\n",
    "\n",
    "# org_train contains the original feature columns from features_org (in Simson)\n",
    "# features_org contains unprocessed features, for me X_train at beginning ???\n",
    "# For keep-all, creates a boolean Series (keep_mask) of all True, so no rows are removed.\n",
    "\n",
    "elif mode == \"drop-non-german\":\n",
    "    keep_mask = org_train[\"maxdeutsch1\"] == 1 # ??? what about missing values?\n",
    "\n",
    "else:\n",
    "    raise ValueError(f\"Unsupported mode for exclude_subgroups: {mode}\")\n"
   ]
  },
  {
   "cell_type": "code",
   "execution_count": 38,
   "id": "71651440",
   "metadata": {
    "execution": {
     "iopub.execute_input": "2025-07-30T21:50:28.788938Z",
     "iopub.status.busy": "2025-07-30T21:50:28.788649Z",
     "iopub.status.idle": "2025-07-30T21:50:28.794947Z",
     "shell.execute_reply": "2025-07-30T21:50:28.793814Z"
    },
    "papermill": {
     "duration": 0.034469,
     "end_time": "2025-07-30T21:50:28.797292",
     "exception": false,
     "start_time": "2025-07-30T21:50:28.762823",
     "status": "completed"
    },
    "tags": []
   },
   "outputs": [],
   "source": [
    "n_drop = (~keep_mask).sum() # Calculates how many rows are set to be dropped\n",
    "if n_drop > 0:\n",
    "    pct = n_drop / len(keep_mask) * 100\n",
    "    print(f\"Dropping {n_drop} rows ({pct:.2f}%) where mode='{mode}'\")"
   ]
  },
  {
   "cell_type": "code",
   "execution_count": 39,
   "id": "5fb8eee5",
   "metadata": {
    "execution": {
     "iopub.execute_input": "2025-07-30T21:50:28.847420Z",
     "iopub.status.busy": "2025-07-30T21:50:28.846614Z",
     "iopub.status.idle": "2025-07-30T21:50:28.853165Z",
     "shell.execute_reply": "2025-07-30T21:50:28.852188Z"
    },
    "papermill": {
     "duration": 0.035053,
     "end_time": "2025-07-30T21:50:28.855383",
     "exception": false,
     "start_time": "2025-07-30T21:50:28.820330",
     "status": "completed"
    },
    "tags": []
   },
   "outputs": [],
   "source": [
    "X_train = X_train[keep_mask]"
   ]
  },
  {
   "cell_type": "code",
   "execution_count": 40,
   "id": "b202bb3a",
   "metadata": {
    "execution": {
     "iopub.execute_input": "2025-07-30T21:50:28.894029Z",
     "iopub.status.busy": "2025-07-30T21:50:28.893574Z",
     "iopub.status.idle": "2025-07-30T21:50:28.898420Z",
     "shell.execute_reply": "2025-07-30T21:50:28.897761Z"
    },
    "papermill": {
     "duration": 0.019884,
     "end_time": "2025-07-30T21:50:28.899732",
     "exception": false,
     "start_time": "2025-07-30T21:50:28.879848",
     "status": "completed"
    },
    "tags": []
   },
   "outputs": [],
   "source": [
    "y_train = y_train[keep_mask]"
   ]
  },
  {
   "cell_type": "markdown",
   "id": "493e2ac3",
   "metadata": {
    "papermill": {
     "duration": 0.013881,
     "end_time": "2025-07-30T21:50:28.925952",
     "exception": false,
     "start_time": "2025-07-30T21:50:28.912071",
     "status": "completed"
    },
    "tags": []
   },
   "source": [
    "# Model Training"
   ]
  },
  {
   "cell_type": "code",
   "execution_count": 41,
   "id": "679e1268",
   "metadata": {
    "execution": {
     "iopub.execute_input": "2025-07-30T21:50:28.951266Z",
     "iopub.status.busy": "2025-07-30T21:50:28.950470Z",
     "iopub.status.idle": "2025-07-30T21:50:29.035135Z",
     "shell.execute_reply": "2025-07-30T21:50:29.034410Z"
    },
    "papermill": {
     "duration": 0.098576,
     "end_time": "2025-07-30T21:50:29.036616",
     "exception": false,
     "start_time": "2025-07-30T21:50:28.938040",
     "status": "completed"
    },
    "tags": []
   },
   "outputs": [],
   "source": [
    "from sklearn.linear_model import LogisticRegression\n",
    "from sklearn.ensemble import GradientBoostingClassifier, RandomForestClassifier\n",
    "\n",
    "if (universe[\"model\"] == \"logreg\"):\n",
    "    model = LogisticRegression() #penalty=\"none\") #, solver=\"newton-cg\", max_iter=1) # include random_state=19 ?\n",
    "elif (universe[\"model\"] == \"penalized_logreg\"):\n",
    "    model = LogisticRegression(penalty=\"l2\", C=1.0) #, solver=\"newton-cg\", max_iter=1)\n",
    "elif (universe[\"model\"] == \"rf\"):\n",
    "    model = RandomForestClassifier(n_estimators=100, n_jobs=-1)\n",
    "elif (universe[\"model\"] == \"gbm\"):\n",
    "    model = GradientBoostingClassifier()\n",
    "elif (universe[\"model\"] == \"elasticnet\"):\n",
    "    model = LogisticRegression(penalty = 'elasticnet', solver = 'saga', l1_ratio = 0.5, max_iter=5000) # which solver to use?\n",
    "else:\n",
    "    raise \"Unsupported universe.model\""
   ]
  },
  {
   "cell_type": "code",
   "execution_count": 42,
   "id": "0cc8f744",
   "metadata": {
    "execution": {
     "iopub.execute_input": "2025-07-30T21:50:29.070362Z",
     "iopub.status.busy": "2025-07-30T21:50:29.069921Z",
     "iopub.status.idle": "2025-07-30T21:50:29.076956Z",
     "shell.execute_reply": "2025-07-30T21:50:29.075736Z"
    },
    "papermill": {
     "duration": 0.030072,
     "end_time": "2025-07-30T21:50:29.078904",
     "exception": false,
     "start_time": "2025-07-30T21:50:29.048832",
     "status": "completed"
    },
    "tags": []
   },
   "outputs": [],
   "source": [
    "import numpy as np\n",
    "from sklearn.pipeline import Pipeline\n",
    "from sklearn.preprocessing import StandardScaler\n",
    "\n",
    "model = Pipeline([\n",
    "    #(\"continuous_processor\", continuous_processor),\n",
    "    #(\"categorical_preprocessor\", categorical_preprocessor),\n",
    "    (\"scale\", StandardScaler() if universe[\"scale\"] == \"scale\" else None), \n",
    "    (\"model\", model),\n",
    "])"
   ]
  },
  {
   "cell_type": "code",
   "execution_count": 43,
   "id": "9442c04d",
   "metadata": {
    "execution": {
     "iopub.execute_input": "2025-07-30T21:50:29.120258Z",
     "iopub.status.busy": "2025-07-30T21:50:29.119860Z",
     "iopub.status.idle": "2025-07-30T21:50:29.174302Z",
     "shell.execute_reply": "2025-07-30T21:50:29.173294Z"
    },
    "papermill": {
     "duration": 0.07733,
     "end_time": "2025-07-30T21:50:29.179449",
     "exception": false,
     "start_time": "2025-07-30T21:50:29.102119",
     "status": "completed"
    },
    "tags": []
   },
   "outputs": [
    {
     "name": "stderr",
     "output_type": "stream",
     "text": [
      "/dss/dsshome1/0C/ra93lal2/.local/share/virtualenvs/CMA_Fairness_v2-3j10GkSs/lib/python3.10/site-packages/sklearn/linear_model/_logistic.py:444: ConvergenceWarning: lbfgs failed to converge (status=1):\n",
      "STOP: TOTAL NO. of ITERATIONS REACHED LIMIT.\n",
      "\n",
      "Increase the number of iterations (max_iter) or scale the data as shown in:\n",
      "    https://scikit-learn.org/stable/modules/preprocessing.html\n",
      "Please also refer to the documentation for alternative solver options:\n",
      "    https://scikit-learn.org/stable/modules/linear_model.html#logistic-regression\n",
      "  n_iter_i = _check_optimize_result(\n"
     ]
    },
    {
     "data": {
      "text/html": [
       "<style>#sk-container-id-1 {color: black;background-color: white;}#sk-container-id-1 pre{padding: 0;}#sk-container-id-1 div.sk-toggleable {background-color: white;}#sk-container-id-1 label.sk-toggleable__label {cursor: pointer;display: block;width: 100%;margin-bottom: 0;padding: 0.3em;box-sizing: border-box;text-align: center;}#sk-container-id-1 label.sk-toggleable__label-arrow:before {content: \"▸\";float: left;margin-right: 0.25em;color: #696969;}#sk-container-id-1 label.sk-toggleable__label-arrow:hover:before {color: black;}#sk-container-id-1 div.sk-estimator:hover label.sk-toggleable__label-arrow:before {color: black;}#sk-container-id-1 div.sk-toggleable__content {max-height: 0;max-width: 0;overflow: hidden;text-align: left;background-color: #f0f8ff;}#sk-container-id-1 div.sk-toggleable__content pre {margin: 0.2em;color: black;border-radius: 0.25em;background-color: #f0f8ff;}#sk-container-id-1 input.sk-toggleable__control:checked~div.sk-toggleable__content {max-height: 200px;max-width: 100%;overflow: auto;}#sk-container-id-1 input.sk-toggleable__control:checked~label.sk-toggleable__label-arrow:before {content: \"▾\";}#sk-container-id-1 div.sk-estimator input.sk-toggleable__control:checked~label.sk-toggleable__label {background-color: #d4ebff;}#sk-container-id-1 div.sk-label input.sk-toggleable__control:checked~label.sk-toggleable__label {background-color: #d4ebff;}#sk-container-id-1 input.sk-hidden--visually {border: 0;clip: rect(1px 1px 1px 1px);clip: rect(1px, 1px, 1px, 1px);height: 1px;margin: -1px;overflow: hidden;padding: 0;position: absolute;width: 1px;}#sk-container-id-1 div.sk-estimator {font-family: monospace;background-color: #f0f8ff;border: 1px dotted black;border-radius: 0.25em;box-sizing: border-box;margin-bottom: 0.5em;}#sk-container-id-1 div.sk-estimator:hover {background-color: #d4ebff;}#sk-container-id-1 div.sk-parallel-item::after {content: \"\";width: 100%;border-bottom: 1px solid gray;flex-grow: 1;}#sk-container-id-1 div.sk-label:hover label.sk-toggleable__label {background-color: #d4ebff;}#sk-container-id-1 div.sk-serial::before {content: \"\";position: absolute;border-left: 1px solid gray;box-sizing: border-box;top: 0;bottom: 0;left: 50%;z-index: 0;}#sk-container-id-1 div.sk-serial {display: flex;flex-direction: column;align-items: center;background-color: white;padding-right: 0.2em;padding-left: 0.2em;position: relative;}#sk-container-id-1 div.sk-item {position: relative;z-index: 1;}#sk-container-id-1 div.sk-parallel {display: flex;align-items: stretch;justify-content: center;background-color: white;position: relative;}#sk-container-id-1 div.sk-item::before, #sk-container-id-1 div.sk-parallel-item::before {content: \"\";position: absolute;border-left: 1px solid gray;box-sizing: border-box;top: 0;bottom: 0;left: 50%;z-index: -1;}#sk-container-id-1 div.sk-parallel-item {display: flex;flex-direction: column;z-index: 1;position: relative;background-color: white;}#sk-container-id-1 div.sk-parallel-item:first-child::after {align-self: flex-end;width: 50%;}#sk-container-id-1 div.sk-parallel-item:last-child::after {align-self: flex-start;width: 50%;}#sk-container-id-1 div.sk-parallel-item:only-child::after {width: 0;}#sk-container-id-1 div.sk-dashed-wrapped {border: 1px dashed gray;margin: 0 0.4em 0.5em 0.4em;box-sizing: border-box;padding-bottom: 0.4em;background-color: white;}#sk-container-id-1 div.sk-label label {font-family: monospace;font-weight: bold;display: inline-block;line-height: 1.2em;}#sk-container-id-1 div.sk-label-container {text-align: center;}#sk-container-id-1 div.sk-container {/* jupyter's `normalize.less` sets `[hidden] { display: none; }` but bootstrap.min.css set `[hidden] { display: none !important; }` so we also need the `!important` here to be able to override the default hidden behavior on the sphinx rendered scikit-learn.org. See: https://github.com/scikit-learn/scikit-learn/issues/21755 */display: inline-block !important;position: relative;}#sk-container-id-1 div.sk-text-repr-fallback {display: none;}</style><div id=\"sk-container-id-1\" class=\"sk-top-container\"><div class=\"sk-text-repr-fallback\"><pre>Pipeline(steps=[(&#x27;scale&#x27;, None), (&#x27;model&#x27;, LogisticRegression())])</pre><b>In a Jupyter environment, please rerun this cell to show the HTML representation or trust the notebook. <br />On GitHub, the HTML representation is unable to render, please try loading this page with nbviewer.org.</b></div><div class=\"sk-container\" hidden><div class=\"sk-item sk-dashed-wrapped\"><div class=\"sk-label-container\"><div class=\"sk-label sk-toggleable\"><input class=\"sk-toggleable__control sk-hidden--visually\" id=\"sk-estimator-id-1\" type=\"checkbox\" ><label for=\"sk-estimator-id-1\" class=\"sk-toggleable__label sk-toggleable__label-arrow\">Pipeline</label><div class=\"sk-toggleable__content\"><pre>Pipeline(steps=[(&#x27;scale&#x27;, None), (&#x27;model&#x27;, LogisticRegression())])</pre></div></div></div><div class=\"sk-serial\"><div class=\"sk-item\"><div class=\"sk-estimator sk-toggleable\"><input class=\"sk-toggleable__control sk-hidden--visually\" id=\"sk-estimator-id-2\" type=\"checkbox\" ><label for=\"sk-estimator-id-2\" class=\"sk-toggleable__label sk-toggleable__label-arrow\">None</label><div class=\"sk-toggleable__content\"><pre>None</pre></div></div></div><div class=\"sk-item\"><div class=\"sk-estimator sk-toggleable\"><input class=\"sk-toggleable__control sk-hidden--visually\" id=\"sk-estimator-id-3\" type=\"checkbox\" ><label for=\"sk-estimator-id-3\" class=\"sk-toggleable__label sk-toggleable__label-arrow\">LogisticRegression</label><div class=\"sk-toggleable__content\"><pre>LogisticRegression()</pre></div></div></div></div></div></div></div>"
      ],
      "text/plain": [
       "Pipeline(steps=[('scale', None), ('model', LogisticRegression())])"
      ]
     },
     "execution_count": 43,
     "metadata": {},
     "output_type": "execute_result"
    }
   ],
   "source": [
    "model.fit(X_train, y_train.values.ravel())"
   ]
  },
  {
   "cell_type": "code",
   "execution_count": 44,
   "id": "af59f8c0",
   "metadata": {
    "execution": {
     "iopub.execute_input": "2025-07-30T21:50:29.224699Z",
     "iopub.status.busy": "2025-07-30T21:50:29.223873Z",
     "iopub.status.idle": "2025-07-30T21:50:29.228531Z",
     "shell.execute_reply": "2025-07-30T21:50:29.227693Z"
    },
    "papermill": {
     "duration": 0.025028,
     "end_time": "2025-07-30T21:50:29.229943",
     "exception": false,
     "start_time": "2025-07-30T21:50:29.204915",
     "status": "completed"
    },
    "tags": []
   },
   "outputs": [],
   "source": [
    "from fairness_multiverse.universe import predict_w_threshold"
   ]
  },
  {
   "cell_type": "code",
   "execution_count": 45,
   "id": "a7cf2e16",
   "metadata": {
    "execution": {
     "iopub.execute_input": "2025-07-30T21:50:29.256477Z",
     "iopub.status.busy": "2025-07-30T21:50:29.256099Z",
     "iopub.status.idle": "2025-07-30T21:50:29.355273Z",
     "shell.execute_reply": "2025-07-30T21:50:29.354413Z"
    },
    "papermill": {
     "duration": 0.113832,
     "end_time": "2025-07-30T21:50:29.356652",
     "exception": false,
     "start_time": "2025-07-30T21:50:29.242820",
     "status": "completed"
    },
    "tags": []
   },
   "outputs": [
    {
     "data": {
      "text/plain": [
       "0.8493256047263404"
      ]
     },
     "execution_count": 45,
     "metadata": {},
     "output_type": "execute_result"
    }
   ],
   "source": [
    "probs_test = model.predict_proba(X_test)\n",
    "\n",
    "'''\n",
    "Below code returns a boolean array (or binary 0/1 array depending on how it’s used) where each element \n",
    "is True if the probability of class 1 is greater than or equal to the threshold, and False otherwise.\n",
    "'''\n",
    "y_pred_default = predict_w_threshold(probs_test, 0.5)\n",
    "\n",
    "from sklearn.metrics import accuracy_score\n",
    "\n",
    "# Naive prediction\n",
    "accuracy_score(y_true = y_true, y_pred = y_pred_default)"
   ]
  },
  {
   "cell_type": "code",
   "execution_count": 46,
   "id": "081964c3",
   "metadata": {
    "execution": {
     "iopub.execute_input": "2025-07-30T21:50:29.403696Z",
     "iopub.status.busy": "2025-07-30T21:50:29.403222Z",
     "iopub.status.idle": "2025-07-30T21:50:29.496461Z",
     "shell.execute_reply": "2025-07-30T21:50:29.495551Z"
    },
    "papermill": {
     "duration": 0.121712,
     "end_time": "2025-07-30T21:50:29.498045",
     "exception": false,
     "start_time": "2025-07-30T21:50:29.376333",
     "status": "completed"
    },
    "tags": []
   },
   "outputs": [
    {
     "data": {
      "text/plain": [
       "array([0, 0, 0, ..., 0, 0, 0])"
      ]
     },
     "execution_count": 46,
     "metadata": {},
     "output_type": "execute_result"
    }
   ],
   "source": [
    "model.predict(X_test)"
   ]
  },
  {
   "cell_type": "markdown",
   "id": "56c9705b",
   "metadata": {
    "papermill": {
     "duration": 0.022984,
     "end_time": "2025-07-30T21:50:29.545635",
     "exception": false,
     "start_time": "2025-07-30T21:50:29.522651",
     "status": "completed"
    },
    "tags": []
   },
   "source": [
    "# Conformal Prediction"
   ]
  },
  {
   "cell_type": "code",
   "execution_count": 47,
   "id": "160ec6ff",
   "metadata": {
    "execution": {
     "iopub.execute_input": "2025-07-30T21:50:29.592224Z",
     "iopub.status.busy": "2025-07-30T21:50:29.591710Z",
     "iopub.status.idle": "2025-07-30T21:50:29.597122Z",
     "shell.execute_reply": "2025-07-30T21:50:29.596013Z"
    },
    "papermill": {
     "duration": 0.031587,
     "end_time": "2025-07-30T21:50:29.598707",
     "exception": false,
     "start_time": "2025-07-30T21:50:29.567120",
     "status": "completed"
    },
    "tags": []
   },
   "outputs": [],
   "source": [
    "# Miscoverage level for conformal prediction (10% allowed error rate => 90% target coverage)\n",
    "alpha = 0.1"
   ]
  },
  {
   "cell_type": "code",
   "execution_count": 48,
   "id": "eadf4555-3dd3-440e-8e35-f82a4ad9f855",
   "metadata": {
    "execution": {
     "iopub.execute_input": "2025-07-30T21:50:29.646552Z",
     "iopub.status.busy": "2025-07-30T21:50:29.645828Z",
     "iopub.status.idle": "2025-07-30T21:50:29.731106Z",
     "shell.execute_reply": "2025-07-30T21:50:29.730175Z"
    },
    "papermill": {
     "duration": 0.112012,
     "end_time": "2025-07-30T21:50:29.733080",
     "exception": false,
     "start_time": "2025-07-30T21:50:29.621068",
     "status": "completed"
    },
    "tags": []
   },
   "outputs": [],
   "source": [
    "probs_calib = model.predict_proba(X_calib)"
   ]
  },
  {
   "cell_type": "code",
   "execution_count": 49,
   "id": "2ed93547-6d5d-4983-9b36-1ecb300da49a",
   "metadata": {
    "execution": {
     "iopub.execute_input": "2025-07-30T21:50:29.784476Z",
     "iopub.status.busy": "2025-07-30T21:50:29.783666Z",
     "iopub.status.idle": "2025-07-30T21:50:29.790054Z",
     "shell.execute_reply": "2025-07-30T21:50:29.789125Z"
    },
    "papermill": {
     "duration": 0.034645,
     "end_time": "2025-07-30T21:50:29.791558",
     "exception": false,
     "start_time": "2025-07-30T21:50:29.756913",
     "status": "completed"
    },
    "tags": []
   },
   "outputs": [],
   "source": [
    "y_calib = y_calib.values.ravel().astype(int)"
   ]
  },
  {
   "cell_type": "code",
   "execution_count": 50,
   "id": "65d1320d-f588-4b38-9072-62af1ae97f7d",
   "metadata": {
    "execution": {
     "iopub.execute_input": "2025-07-30T21:50:29.838120Z",
     "iopub.status.busy": "2025-07-30T21:50:29.837649Z",
     "iopub.status.idle": "2025-07-30T21:50:29.844804Z",
     "shell.execute_reply": "2025-07-30T21:50:29.843679Z"
    },
    "papermill": {
     "duration": 0.032247,
     "end_time": "2025-07-30T21:50:29.846624",
     "exception": false,
     "start_time": "2025-07-30T21:50:29.814377",
     "status": "completed"
    },
    "tags": []
   },
   "outputs": [],
   "source": [
    "from fairness_multiverse.conformal import compute_nc_scores\n",
    "\n",
    "# Compute nonconformity scores on calibration set (1 - probability of true class)\n",
    "nc_scores = compute_nc_scores(probs_calib, y_calib)"
   ]
  },
  {
   "cell_type": "code",
   "execution_count": 51,
   "id": "df3b8ca3-53b7-43d5-9667-7c85da7aeda2",
   "metadata": {
    "execution": {
     "iopub.execute_input": "2025-07-30T21:50:29.902326Z",
     "iopub.status.busy": "2025-07-30T21:50:29.901862Z",
     "iopub.status.idle": "2025-07-30T21:50:29.908690Z",
     "shell.execute_reply": "2025-07-30T21:50:29.907593Z"
    },
    "papermill": {
     "duration": 0.03668,
     "end_time": "2025-07-30T21:50:29.910567",
     "exception": false,
     "start_time": "2025-07-30T21:50:29.873887",
     "status": "completed"
    },
    "tags": []
   },
   "outputs": [],
   "source": [
    "from fairness_multiverse.conformal import find_threshold\n",
    "\n",
    "# Find conformal threshold q_hat for the given alpha (split conformal method)\n",
    "q_hat = find_threshold(nc_scores, alpha)"
   ]
  },
  {
   "cell_type": "code",
   "execution_count": 52,
   "id": "4d29e6c1-0ef6-4aa4-b8fe-4fe79b0d033a",
   "metadata": {
    "execution": {
     "iopub.execute_input": "2025-07-30T21:50:29.966096Z",
     "iopub.status.busy": "2025-07-30T21:50:29.965569Z",
     "iopub.status.idle": "2025-07-30T21:50:29.973636Z",
     "shell.execute_reply": "2025-07-30T21:50:29.972546Z"
    },
    "papermill": {
     "duration": 0.037346,
     "end_time": "2025-07-30T21:50:29.975600",
     "exception": false,
     "start_time": "2025-07-30T21:50:29.938254",
     "status": "completed"
    },
    "tags": []
   },
   "outputs": [
    {
     "data": {
      "text/plain": [
       "0.6993868817170328"
      ]
     },
     "execution_count": 52,
     "metadata": {},
     "output_type": "execute_result"
    }
   ],
   "source": [
    "q_hat"
   ]
  },
  {
   "cell_type": "code",
   "execution_count": 53,
   "id": "92460794-cdac-4be2-ba28-f28c0515a6fb",
   "metadata": {
    "execution": {
     "iopub.execute_input": "2025-07-30T21:50:30.033830Z",
     "iopub.status.busy": "2025-07-30T21:50:30.033320Z",
     "iopub.status.idle": "2025-07-30T21:50:30.798089Z",
     "shell.execute_reply": "2025-07-30T21:50:30.797279Z"
    },
    "papermill": {
     "duration": 0.795904,
     "end_time": "2025-07-30T21:50:30.800235",
     "exception": false,
     "start_time": "2025-07-30T21:50:30.004331",
     "status": "completed"
    },
    "tags": []
   },
   "outputs": [],
   "source": [
    "from fairness_multiverse.conformal import predict_conformal_sets\n",
    "\n",
    "# Generate prediction sets for each test example\n",
    "pred_sets = predict_conformal_sets(model, X_test, q_hat)"
   ]
  },
  {
   "cell_type": "code",
   "execution_count": 54,
   "id": "d90c9a65-e6db-4f5d-80cd-e68fb7e46829",
   "metadata": {
    "execution": {
     "iopub.execute_input": "2025-07-30T21:50:30.848789Z",
     "iopub.status.busy": "2025-07-30T21:50:30.847978Z",
     "iopub.status.idle": "2025-07-30T21:50:30.853727Z",
     "shell.execute_reply": "2025-07-30T21:50:30.852712Z"
    },
    "papermill": {
     "duration": 0.037752,
     "end_time": "2025-07-30T21:50:30.861467",
     "exception": false,
     "start_time": "2025-07-30T21:50:30.823715",
     "status": "completed"
    },
    "tags": []
   },
   "outputs": [],
   "source": [
    "y_true = y_true.squeeze()"
   ]
  },
  {
   "cell_type": "code",
   "execution_count": 55,
   "id": "3a58a54a-1e68-46b9-927a-df01f18aebc8",
   "metadata": {
    "execution": {
     "iopub.execute_input": "2025-07-30T21:50:30.920870Z",
     "iopub.status.busy": "2025-07-30T21:50:30.920336Z",
     "iopub.status.idle": "2025-07-30T21:50:31.987614Z",
     "shell.execute_reply": "2025-07-30T21:50:31.986672Z"
    },
    "papermill": {
     "duration": 1.099425,
     "end_time": "2025-07-30T21:50:31.989745",
     "exception": false,
     "start_time": "2025-07-30T21:50:30.890320",
     "status": "completed"
    },
    "tags": []
   },
   "outputs": [],
   "source": [
    "from fairness_multiverse.conformal import evaluate_sets\n",
    "\n",
    "# Evaluate coverage and average set size on test data\n",
    "metrics = evaluate_sets(pred_sets, y_true)"
   ]
  },
  {
   "cell_type": "markdown",
   "id": "2b569c12-9aaa-4c88-98c9-bbcd0cf3ebb8",
   "metadata": {
    "papermill": {
     "duration": 0.023691,
     "end_time": "2025-07-30T21:50:32.039330",
     "exception": false,
     "start_time": "2025-07-30T21:50:32.015639",
     "status": "completed"
    },
    "tags": []
   },
   "source": [
    "# CP Metrics"
   ]
  },
  {
   "cell_type": "code",
   "execution_count": 56,
   "id": "5ce0a5cb-201f-45a0-ade5-94c7f0bd6095",
   "metadata": {
    "execution": {
     "iopub.execute_input": "2025-07-30T21:50:32.087102Z",
     "iopub.status.busy": "2025-07-30T21:50:32.086444Z",
     "iopub.status.idle": "2025-07-30T21:50:32.093236Z",
     "shell.execute_reply": "2025-07-30T21:50:32.092341Z"
    },
    "papermill": {
     "duration": 0.033556,
     "end_time": "2025-07-30T21:50:32.094858",
     "exception": false,
     "start_time": "2025-07-30T21:50:32.061302",
     "status": "completed"
    },
    "tags": []
   },
   "outputs": [
    {
     "data": {
      "text/plain": [
       "{'coverage': 0.9104559134990525, 'avg_size': 1.217211013264965}"
      ]
     },
     "execution_count": 56,
     "metadata": {},
     "output_type": "execute_result"
    }
   ],
   "source": [
    "metrics"
   ]
  },
  {
   "cell_type": "code",
   "execution_count": 57,
   "id": "9b9a838d-31c9-430b-ae14-12baee460d17",
   "metadata": {
    "execution": {
     "iopub.execute_input": "2025-07-30T21:50:32.139690Z",
     "iopub.status.busy": "2025-07-30T21:50:32.139251Z",
     "iopub.status.idle": "2025-07-30T21:50:32.144162Z",
     "shell.execute_reply": "2025-07-30T21:50:32.143404Z"
    },
    "papermill": {
     "duration": 0.024615,
     "end_time": "2025-07-30T21:50:32.145473",
     "exception": false,
     "start_time": "2025-07-30T21:50:32.120858",
     "status": "completed"
    },
    "tags": []
   },
   "outputs": [],
   "source": [
    "example_universe = universe.copy()\n",
    "universe_training_year = example_universe.get(\"training_year\")\n",
    "universe_training_size = example_universe.get(\"training_size\")\n",
    "universe_scale = example_universe.get(\"scale\")\n",
    "universe_model = example_universe.get(\"model\")\n",
    "universe_exclude_features = example_universe.get(\"exclude_features\")\n",
    "universe_exclude_subgroups = example_universe.get(\"exclude_subgroups\")"
   ]
  },
  {
   "cell_type": "code",
   "execution_count": 58,
   "id": "f4b6a8ac-9dc0-4245-8a91-5b3b5999c4f9",
   "metadata": {
    "execution": {
     "iopub.execute_input": "2025-07-30T21:50:32.173216Z",
     "iopub.status.busy": "2025-07-30T21:50:32.172796Z",
     "iopub.status.idle": "2025-07-30T21:50:32.177829Z",
     "shell.execute_reply": "2025-07-30T21:50:32.176980Z"
    },
    "papermill": {
     "duration": 0.020487,
     "end_time": "2025-07-30T21:50:32.179621",
     "exception": false,
     "start_time": "2025-07-30T21:50:32.159134",
     "status": "completed"
    },
    "tags": []
   },
   "outputs": [],
   "source": [
    "cp_metrics_dict = {\n",
    "    \"universe_id\": [universe_id],\n",
    "    \"universe_training_year\": [universe_training_year],\n",
    "    \"universe_training_size\": [universe_training_size],\n",
    "    \"universe_scale\": [universe_scale],\n",
    "    \"universe_model\": [universe_model],\n",
    "    \"universe_exclude_features\": [universe_exclude_features],\n",
    "    \"universe_exclude_subgroups\": [universe_exclude_subgroups],\n",
    "    \"q_hat\": [q_hat],\n",
    "    \"coverage\": [metrics[\"coverage\"]],\n",
    "    \"avg_size\": [metrics[\"avg_size\"]],\n",
    "}"
   ]
  },
  {
   "cell_type": "code",
   "execution_count": 59,
   "id": "908acbb1-0371-4915-85ca-3fa520d2efe2",
   "metadata": {
    "execution": {
     "iopub.execute_input": "2025-07-30T21:50:32.237018Z",
     "iopub.status.busy": "2025-07-30T21:50:32.236523Z",
     "iopub.status.idle": "2025-07-30T21:50:32.244851Z",
     "shell.execute_reply": "2025-07-30T21:50:32.243756Z"
    },
    "papermill": {
     "duration": 0.038755,
     "end_time": "2025-07-30T21:50:32.246576",
     "exception": false,
     "start_time": "2025-07-30T21:50:32.207821",
     "status": "completed"
    },
    "tags": []
   },
   "outputs": [
    {
     "data": {
      "text/plain": [
       "{'universe_id': ['c18382a3c50e1c34c672010a2350d0e8'],\n",
       " 'universe_training_year': ['2010_14'],\n",
       " 'universe_training_size': ['1k'],\n",
       " 'universe_scale': ['do-not-scale'],\n",
       " 'universe_model': ['penalized_logreg'],\n",
       " 'universe_exclude_features': ['nationality-sex'],\n",
       " 'universe_exclude_subgroups': ['keep-all'],\n",
       " 'q_hat': [0.6993868817170328],\n",
       " 'coverage': [0.9104559134990525],\n",
       " 'avg_size': [1.217211013264965]}"
      ]
     },
     "execution_count": 59,
     "metadata": {},
     "output_type": "execute_result"
    }
   ],
   "source": [
    "cp_metrics_dict"
   ]
  },
  {
   "cell_type": "code",
   "execution_count": 60,
   "id": "33007efc-14e9-4ec6-97ac-56a455c82265",
   "metadata": {
    "execution": {
     "iopub.execute_input": "2025-07-30T21:50:32.303732Z",
     "iopub.status.busy": "2025-07-30T21:50:32.303255Z",
     "iopub.status.idle": "2025-07-30T21:50:32.310896Z",
     "shell.execute_reply": "2025-07-30T21:50:32.309754Z"
    },
    "papermill": {
     "duration": 0.037879,
     "end_time": "2025-07-30T21:50:32.312854",
     "exception": false,
     "start_time": "2025-07-30T21:50:32.274975",
     "status": "completed"
    },
    "tags": []
   },
   "outputs": [],
   "source": [
    "cp_metrics_df = pd.DataFrame(cp_metrics_dict)"
   ]
  },
  {
   "cell_type": "code",
   "execution_count": 61,
   "id": "db12611b-57b2-4910-b9d0-355adfd6e7bf",
   "metadata": {
    "execution": {
     "iopub.execute_input": "2025-07-30T21:50:32.370087Z",
     "iopub.status.busy": "2025-07-30T21:50:32.369332Z",
     "iopub.status.idle": "2025-07-30T21:50:32.387068Z",
     "shell.execute_reply": "2025-07-30T21:50:32.386182Z"
    },
    "papermill": {
     "duration": 0.047237,
     "end_time": "2025-07-30T21:50:32.388700",
     "exception": false,
     "start_time": "2025-07-30T21:50:32.341463",
     "status": "completed"
    },
    "tags": []
   },
   "outputs": [
    {
     "data": {
      "text/html": [
       "<div>\n",
       "<style scoped>\n",
       "    .dataframe tbody tr th:only-of-type {\n",
       "        vertical-align: middle;\n",
       "    }\n",
       "\n",
       "    .dataframe tbody tr th {\n",
       "        vertical-align: top;\n",
       "    }\n",
       "\n",
       "    .dataframe thead th {\n",
       "        text-align: right;\n",
       "    }\n",
       "</style>\n",
       "<table border=\"1\" class=\"dataframe\">\n",
       "  <thead>\n",
       "    <tr style=\"text-align: right;\">\n",
       "      <th></th>\n",
       "      <th>universe_id</th>\n",
       "      <th>universe_training_year</th>\n",
       "      <th>universe_training_size</th>\n",
       "      <th>universe_scale</th>\n",
       "      <th>universe_model</th>\n",
       "      <th>universe_exclude_features</th>\n",
       "      <th>universe_exclude_subgroups</th>\n",
       "      <th>q_hat</th>\n",
       "      <th>coverage</th>\n",
       "      <th>avg_size</th>\n",
       "    </tr>\n",
       "  </thead>\n",
       "  <tbody>\n",
       "    <tr>\n",
       "      <th>0</th>\n",
       "      <td>c18382a3c50e1c34c672010a2350d0e8</td>\n",
       "      <td>2010_14</td>\n",
       "      <td>1k</td>\n",
       "      <td>do-not-scale</td>\n",
       "      <td>penalized_logreg</td>\n",
       "      <td>nationality-sex</td>\n",
       "      <td>keep-all</td>\n",
       "      <td>0.699387</td>\n",
       "      <td>0.910456</td>\n",
       "      <td>1.217211</td>\n",
       "    </tr>\n",
       "  </tbody>\n",
       "</table>\n",
       "</div>"
      ],
      "text/plain": [
       "                        universe_id universe_training_year  \\\n",
       "0  c18382a3c50e1c34c672010a2350d0e8                2010_14   \n",
       "\n",
       "  universe_training_size universe_scale    universe_model  \\\n",
       "0                     1k   do-not-scale  penalized_logreg   \n",
       "\n",
       "  universe_exclude_features universe_exclude_subgroups     q_hat  coverage  \\\n",
       "0           nationality-sex                   keep-all  0.699387  0.910456   \n",
       "\n",
       "   avg_size  \n",
       "0  1.217211  "
      ]
     },
     "execution_count": 61,
     "metadata": {},
     "output_type": "execute_result"
    }
   ],
   "source": [
    "cp_metrics_df"
   ]
  },
  {
   "cell_type": "code",
   "execution_count": 62,
   "id": "b7fbde55-a0a1-47e4-9af6-fe4a17fa8c61",
   "metadata": {
    "execution": {
     "iopub.execute_input": "2025-07-30T21:50:32.437512Z",
     "iopub.status.busy": "2025-07-30T21:50:32.437046Z",
     "iopub.status.idle": "2025-07-30T21:50:32.443019Z",
     "shell.execute_reply": "2025-07-30T21:50:32.442003Z"
    },
    "papermill": {
     "duration": 0.032261,
     "end_time": "2025-07-30T21:50:32.445081",
     "exception": false,
     "start_time": "2025-07-30T21:50:32.412820",
     "status": "completed"
    },
    "tags": []
   },
   "outputs": [],
   "source": [
    "# Conditional Coverage & looking at subgroups"
   ]
  },
  {
   "cell_type": "code",
   "execution_count": 63,
   "id": "027ae886-68dd-4141-96c7-805a5450e1ef",
   "metadata": {
    "execution": {
     "iopub.execute_input": "2025-07-30T21:50:32.495983Z",
     "iopub.status.busy": "2025-07-30T21:50:32.495192Z",
     "iopub.status.idle": "2025-07-30T21:50:32.739144Z",
     "shell.execute_reply": "2025-07-30T21:50:32.738244Z"
    },
    "papermill": {
     "duration": 0.271006,
     "end_time": "2025-07-30T21:50:32.741249",
     "exception": false,
     "start_time": "2025-07-30T21:50:32.470243",
     "status": "completed"
    },
    "tags": []
   },
   "outputs": [],
   "source": [
    "from fairness_multiverse.conformal import build_cp_groups\n",
    "\n",
    "cp_groups_df = build_cp_groups(pred_sets, y_true, X_test.index, org_test)\n",
    "#needs universe_id and setting"
   ]
  },
  {
   "cell_type": "code",
   "execution_count": 64,
   "id": "01d5802c-663a-4d1f-9d69-e036faaffbf7",
   "metadata": {
    "execution": {
     "iopub.execute_input": "2025-07-30T21:50:32.790666Z",
     "iopub.status.busy": "2025-07-30T21:50:32.790068Z",
     "iopub.status.idle": "2025-07-30T21:50:32.794676Z",
     "shell.execute_reply": "2025-07-30T21:50:32.793656Z"
    },
    "papermill": {
     "duration": 0.030536,
     "end_time": "2025-07-30T21:50:32.796310",
     "exception": false,
     "start_time": "2025-07-30T21:50:32.765774",
     "status": "completed"
    },
    "tags": []
   },
   "outputs": [],
   "source": [
    "#delete\n",
    "#cp_groups_df"
   ]
  },
  {
   "cell_type": "code",
   "execution_count": 65,
   "id": "fa424af1-d1eb-443d-b717-2d279ada8408",
   "metadata": {
    "execution": {
     "iopub.execute_input": "2025-07-30T21:50:32.845233Z",
     "iopub.status.busy": "2025-07-30T21:50:32.844526Z",
     "iopub.status.idle": "2025-07-30T21:50:32.849375Z",
     "shell.execute_reply": "2025-07-30T21:50:32.848429Z"
    },
    "papermill": {
     "duration": 0.03045,
     "end_time": "2025-07-30T21:50:32.851037",
     "exception": false,
     "start_time": "2025-07-30T21:50:32.820587",
     "status": "completed"
    },
    "tags": []
   },
   "outputs": [],
   "source": [
    "#delete\n",
    "#percentage = (cp_groups_df['nongerman_female'] == 1).mean() * 100\n",
    "#print(percentage)\n"
   ]
  },
  {
   "cell_type": "code",
   "execution_count": 66,
   "id": "6cbdab96-b2b2-45af-ad54-d0516db2e28d",
   "metadata": {
    "execution": {
     "iopub.execute_input": "2025-07-30T21:50:32.902055Z",
     "iopub.status.busy": "2025-07-30T21:50:32.901405Z",
     "iopub.status.idle": "2025-07-30T21:50:34.514158Z",
     "shell.execute_reply": "2025-07-30T21:50:34.513138Z"
    },
    "papermill": {
     "duration": 1.641229,
     "end_time": "2025-07-30T21:50:34.516228",
     "exception": false,
     "start_time": "2025-07-30T21:50:32.874999",
     "status": "completed"
    },
    "tags": []
   },
   "outputs": [],
   "source": [
    "# Define covered = 1 if true_label is in the predicted set\n",
    "cp_groups_df['covered'] = cp_groups_df.apply(\n",
    "    lambda r: int(r['true_label'] in r['pred_set']),\n",
    "    axis=1\n",
    ")"
   ]
  },
  {
   "cell_type": "code",
   "execution_count": 67,
   "id": "338ff529-1a6b-4b87-a931-8e4788d52aad",
   "metadata": {
    "execution": {
     "iopub.execute_input": "2025-07-30T21:50:34.574415Z",
     "iopub.status.busy": "2025-07-30T21:50:34.573829Z",
     "iopub.status.idle": "2025-07-30T21:50:34.579287Z",
     "shell.execute_reply": "2025-07-30T21:50:34.578272Z"
    },
    "papermill": {
     "duration": 0.036013,
     "end_time": "2025-07-30T21:50:34.580916",
     "exception": false,
     "start_time": "2025-07-30T21:50:34.544903",
     "status": "completed"
    },
    "tags": []
   },
   "outputs": [],
   "source": [
    "#cp_groups_df"
   ]
  },
  {
   "cell_type": "code",
   "execution_count": 68,
   "id": "90032e27-66df-4540-9169-4e89cfbaa758",
   "metadata": {
    "execution": {
     "iopub.execute_input": "2025-07-30T21:50:34.630568Z",
     "iopub.status.busy": "2025-07-30T21:50:34.630060Z",
     "iopub.status.idle": "2025-07-30T21:50:34.642174Z",
     "shell.execute_reply": "2025-07-30T21:50:34.641214Z"
    },
    "papermill": {
     "duration": 0.038499,
     "end_time": "2025-07-30T21:50:34.644212",
     "exception": false,
     "start_time": "2025-07-30T21:50:34.605713",
     "status": "completed"
    },
    "tags": []
   },
   "outputs": [],
   "source": [
    "subgroups = ['frau1','nongerman','nongerman_male','nongerman_female']\n",
    "\n",
    "# Conditional coverage for subgroup==1\n",
    "cond_coverage = {\n",
    "    g: cp_groups_df.loc[cp_groups_df[g]==1, 'covered'].mean()\n",
    "    for g in subgroups\n",
    "}"
   ]
  },
  {
   "cell_type": "code",
   "execution_count": 69,
   "id": "1e348fb1-b9c3-45bc-ba23-f016827a7e0d",
   "metadata": {
    "execution": {
     "iopub.execute_input": "2025-07-30T21:50:34.694704Z",
     "iopub.status.busy": "2025-07-30T21:50:34.694229Z",
     "iopub.status.idle": "2025-07-30T21:50:34.701731Z",
     "shell.execute_reply": "2025-07-30T21:50:34.700602Z"
    },
    "papermill": {
     "duration": 0.033818,
     "end_time": "2025-07-30T21:50:34.703594",
     "exception": false,
     "start_time": "2025-07-30T21:50:34.669776",
     "status": "completed"
    },
    "tags": []
   },
   "outputs": [
    {
     "data": {
      "text/plain": [
       "{'frau1': 0.909502628386575,\n",
       " 'nongerman': 0.9241003761297929,\n",
       " 'nongerman_male': 0.9397460145906512,\n",
       " 'nongerman_female': 0.8982116244411327}"
      ]
     },
     "execution_count": 69,
     "metadata": {},
     "output_type": "execute_result"
    }
   ],
   "source": [
    "cond_coverage"
   ]
  },
  {
   "cell_type": "code",
   "execution_count": 70,
   "id": "f5093324-c3dd-4d63-bc4c-8d945e5c8bbb",
   "metadata": {
    "execution": {
     "iopub.execute_input": "2025-07-30T21:50:34.756513Z",
     "iopub.status.busy": "2025-07-30T21:50:34.755637Z",
     "iopub.status.idle": "2025-07-30T21:50:34.763183Z",
     "shell.execute_reply": "2025-07-30T21:50:34.762211Z"
    },
    "papermill": {
     "duration": 0.034079,
     "end_time": "2025-07-30T21:50:34.764838",
     "exception": false,
     "start_time": "2025-07-30T21:50:34.730759",
     "status": "completed"
    },
    "tags": []
   },
   "outputs": [],
   "source": [
    "for subgroup, cov in cond_coverage.items():\n",
    "    cp_metrics_df[f\"cov_{subgroup}\"] = cov"
   ]
  },
  {
   "cell_type": "code",
   "execution_count": 71,
   "id": "6e872e10-dbe5-49e8-b554-5030c98ff75d",
   "metadata": {
    "execution": {
     "iopub.execute_input": "2025-07-30T21:50:34.815610Z",
     "iopub.status.busy": "2025-07-30T21:50:34.814906Z",
     "iopub.status.idle": "2025-07-30T21:50:34.835227Z",
     "shell.execute_reply": "2025-07-30T21:50:34.834276Z"
    },
    "papermill": {
     "duration": 0.046889,
     "end_time": "2025-07-30T21:50:34.836886",
     "exception": false,
     "start_time": "2025-07-30T21:50:34.789997",
     "status": "completed"
    },
    "tags": []
   },
   "outputs": [
    {
     "data": {
      "text/html": [
       "<div>\n",
       "<style scoped>\n",
       "    .dataframe tbody tr th:only-of-type {\n",
       "        vertical-align: middle;\n",
       "    }\n",
       "\n",
       "    .dataframe tbody tr th {\n",
       "        vertical-align: top;\n",
       "    }\n",
       "\n",
       "    .dataframe thead th {\n",
       "        text-align: right;\n",
       "    }\n",
       "</style>\n",
       "<table border=\"1\" class=\"dataframe\">\n",
       "  <thead>\n",
       "    <tr style=\"text-align: right;\">\n",
       "      <th></th>\n",
       "      <th>universe_id</th>\n",
       "      <th>universe_training_year</th>\n",
       "      <th>universe_training_size</th>\n",
       "      <th>universe_scale</th>\n",
       "      <th>universe_model</th>\n",
       "      <th>universe_exclude_features</th>\n",
       "      <th>universe_exclude_subgroups</th>\n",
       "      <th>q_hat</th>\n",
       "      <th>coverage</th>\n",
       "      <th>avg_size</th>\n",
       "      <th>cov_frau1</th>\n",
       "      <th>cov_nongerman</th>\n",
       "      <th>cov_nongerman_male</th>\n",
       "      <th>cov_nongerman_female</th>\n",
       "    </tr>\n",
       "  </thead>\n",
       "  <tbody>\n",
       "    <tr>\n",
       "      <th>0</th>\n",
       "      <td>c18382a3c50e1c34c672010a2350d0e8</td>\n",
       "      <td>2010_14</td>\n",
       "      <td>1k</td>\n",
       "      <td>do-not-scale</td>\n",
       "      <td>penalized_logreg</td>\n",
       "      <td>nationality-sex</td>\n",
       "      <td>keep-all</td>\n",
       "      <td>0.699387</td>\n",
       "      <td>0.910456</td>\n",
       "      <td>1.217211</td>\n",
       "      <td>0.909503</td>\n",
       "      <td>0.9241</td>\n",
       "      <td>0.939746</td>\n",
       "      <td>0.898212</td>\n",
       "    </tr>\n",
       "  </tbody>\n",
       "</table>\n",
       "</div>"
      ],
      "text/plain": [
       "                        universe_id universe_training_year  \\\n",
       "0  c18382a3c50e1c34c672010a2350d0e8                2010_14   \n",
       "\n",
       "  universe_training_size universe_scale    universe_model  \\\n",
       "0                     1k   do-not-scale  penalized_logreg   \n",
       "\n",
       "  universe_exclude_features universe_exclude_subgroups     q_hat  coverage  \\\n",
       "0           nationality-sex                   keep-all  0.699387  0.910456   \n",
       "\n",
       "   avg_size  cov_frau1  cov_nongerman  cov_nongerman_male  \\\n",
       "0  1.217211   0.909503         0.9241            0.939746   \n",
       "\n",
       "   cov_nongerman_female  \n",
       "0              0.898212  "
      ]
     },
     "execution_count": 71,
     "metadata": {},
     "output_type": "execute_result"
    }
   ],
   "source": [
    "cp_metrics_df"
   ]
  },
  {
   "cell_type": "markdown",
   "id": "33774451",
   "metadata": {
    "papermill": {
     "duration": 0.023802,
     "end_time": "2025-07-30T21:50:34.885730",
     "exception": false,
     "start_time": "2025-07-30T21:50:34.861928",
     "status": "completed"
    },
    "tags": []
   },
   "source": [
    "# (Fairness) Metrics"
   ]
  },
  {
   "cell_type": "code",
   "execution_count": 72,
   "id": "debc5d62",
   "metadata": {
    "execution": {
     "iopub.execute_input": "2025-07-30T21:50:34.937512Z",
     "iopub.status.busy": "2025-07-30T21:50:34.936741Z",
     "iopub.status.idle": "2025-07-30T21:50:34.958290Z",
     "shell.execute_reply": "2025-07-30T21:50:34.957196Z"
    },
    "papermill": {
     "duration": 0.048632,
     "end_time": "2025-07-30T21:50:34.959940",
     "exception": false,
     "start_time": "2025-07-30T21:50:34.911308",
     "status": "completed"
    },
    "tags": []
   },
   "outputs": [],
   "source": [
    "# do I need to include maxdeutsch1.missing?\n",
    "\n",
    "import numpy as np\n",
    "\n",
    "colname_to_bin = \"maxdeutsch1\"\n",
    "majority_value = org_train[colname_to_bin].mode()[0]\n",
    "\n",
    "org_test[\"majmin\"] = np.where(org_test[colname_to_bin] == majority_value, \"majority\", \"minority\")"
   ]
  },
  {
   "cell_type": "code",
   "execution_count": 73,
   "id": "06a50de5",
   "metadata": {
    "execution": {
     "iopub.execute_input": "2025-07-30T21:50:35.011184Z",
     "iopub.status.busy": "2025-07-30T21:50:35.010694Z",
     "iopub.status.idle": "2025-07-30T21:50:37.693602Z",
     "shell.execute_reply": "2025-07-30T21:50:37.692603Z"
    },
    "papermill": {
     "duration": 2.709881,
     "end_time": "2025-07-30T21:50:37.695456",
     "exception": false,
     "start_time": "2025-07-30T21:50:34.985575",
     "status": "completed"
    },
    "tags": []
   },
   "outputs": [],
   "source": [
    "example_universe = universe.copy()\n",
    "example_universe[\"cutoff\"] = example_universe[\"cutoff\"][0]\n",
    "example_universe[\"eval_fairness_grouping\"] = example_universe[\"eval_fairness_grouping\"][0]\n",
    "fairness_dict, metric_frame = universe_analysis.compute_metrics(\n",
    "    example_universe,\n",
    "    y_pred_prob=probs_test,\n",
    "    y_test=y_true,\n",
    "    org_test=org_test,\n",
    ")"
   ]
  },
  {
   "cell_type": "markdown",
   "id": "f95d4e02",
   "metadata": {
    "papermill": {
     "duration": 0.024514,
     "end_time": "2025-07-30T21:50:37.749850",
     "exception": false,
     "start_time": "2025-07-30T21:50:37.725336",
     "status": "completed"
    },
    "tags": []
   },
   "source": [
    "# Overall"
   ]
  },
  {
   "cell_type": "markdown",
   "id": "bdee4871",
   "metadata": {
    "papermill": {
     "duration": 0.026954,
     "end_time": "2025-07-30T21:50:37.801843",
     "exception": false,
     "start_time": "2025-07-30T21:50:37.774889",
     "status": "completed"
    },
    "tags": []
   },
   "source": [
    "Fairness\n",
    "Main fairness target: Equalized Odds. Seems to be a better fit than equal opportunity, since we're not only interested in Y = 1. Seems to be a better fit than demographic parity, since we also care about accuracy, not just equal distribution of preds.\n",
    "\n",
    "Pick column for computation of fairness metrics\n",
    "\n",
    "Performance\n",
    "Overall performance measures, most interesting in relation to the measures split by group below"
   ]
  },
  {
   "cell_type": "code",
   "execution_count": 74,
   "id": "c4e067c6",
   "metadata": {
    "execution": {
     "iopub.execute_input": "2025-07-30T21:50:37.858767Z",
     "iopub.status.busy": "2025-07-30T21:50:37.858267Z",
     "iopub.status.idle": "2025-07-30T21:50:37.866884Z",
     "shell.execute_reply": "2025-07-30T21:50:37.865944Z"
    },
    "papermill": {
     "duration": 0.041008,
     "end_time": "2025-07-30T21:50:37.868442",
     "exception": false,
     "start_time": "2025-07-30T21:50:37.827434",
     "status": "completed"
    },
    "tags": []
   },
   "outputs": [
    {
     "data": {
      "text/plain": [
       "accuracy                   0.214034\n",
       "balanced accuracy          0.525509\n",
       "f1                         0.235650\n",
       "precision                  0.134619\n",
       "false positive rate        0.893455\n",
       "false negative rate        0.055527\n",
       "selection rate             0.900000\n",
       "count                  89710.000000\n",
       "dtype: float64"
      ]
     },
     "execution_count": 74,
     "metadata": {},
     "output_type": "execute_result"
    }
   ],
   "source": [
    "metric_frame.overall"
   ]
  },
  {
   "cell_type": "markdown",
   "id": "e968fe9d",
   "metadata": {
    "papermill": {
     "duration": 0.024994,
     "end_time": "2025-07-30T21:50:37.918860",
     "exception": false,
     "start_time": "2025-07-30T21:50:37.893866",
     "status": "completed"
    },
    "tags": []
   },
   "source": [
    "By Group"
   ]
  },
  {
   "cell_type": "code",
   "execution_count": 75,
   "id": "ec325bce",
   "metadata": {
    "execution": {
     "iopub.execute_input": "2025-07-30T21:50:37.970607Z",
     "iopub.status.busy": "2025-07-30T21:50:37.969949Z",
     "iopub.status.idle": "2025-07-30T21:50:37.985426Z",
     "shell.execute_reply": "2025-07-30T21:50:37.984466Z"
    },
    "papermill": {
     "duration": 0.043613,
     "end_time": "2025-07-30T21:50:37.986975",
     "exception": false,
     "start_time": "2025-07-30T21:50:37.943362",
     "status": "completed"
    },
    "tags": []
   },
   "outputs": [
    {
     "data": {
      "text/html": [
       "<div>\n",
       "<style scoped>\n",
       "    .dataframe tbody tr th:only-of-type {\n",
       "        vertical-align: middle;\n",
       "    }\n",
       "\n",
       "    .dataframe tbody tr th {\n",
       "        vertical-align: top;\n",
       "    }\n",
       "\n",
       "    .dataframe thead th {\n",
       "        text-align: right;\n",
       "    }\n",
       "</style>\n",
       "<table border=\"1\" class=\"dataframe\">\n",
       "  <thead>\n",
       "    <tr style=\"text-align: right;\">\n",
       "      <th></th>\n",
       "      <th>accuracy</th>\n",
       "      <th>balanced accuracy</th>\n",
       "      <th>f1</th>\n",
       "      <th>precision</th>\n",
       "      <th>false positive rate</th>\n",
       "      <th>false negative rate</th>\n",
       "      <th>selection rate</th>\n",
       "      <th>count</th>\n",
       "    </tr>\n",
       "    <tr>\n",
       "      <th>majmin</th>\n",
       "      <th></th>\n",
       "      <th></th>\n",
       "      <th></th>\n",
       "      <th></th>\n",
       "      <th></th>\n",
       "      <th></th>\n",
       "      <th></th>\n",
       "      <th></th>\n",
       "    </tr>\n",
       "  </thead>\n",
       "  <tbody>\n",
       "    <tr>\n",
       "      <th>majority</th>\n",
       "      <td>0.235507</td>\n",
       "      <td>0.531543</td>\n",
       "      <td>0.244053</td>\n",
       "      <td>0.140367</td>\n",
       "      <td>0.870831</td>\n",
       "      <td>0.066083</td>\n",
       "      <td>0.879167</td>\n",
       "      <td>69170.0</td>\n",
       "    </tr>\n",
       "    <tr>\n",
       "      <th>minority</th>\n",
       "      <td>0.141723</td>\n",
       "      <td>0.508513</td>\n",
       "      <td>0.209285</td>\n",
       "      <td>0.117077</td>\n",
       "      <td>0.968193</td>\n",
       "      <td>0.014780</td>\n",
       "      <td>0.970156</td>\n",
       "      <td>20540.0</td>\n",
       "    </tr>\n",
       "  </tbody>\n",
       "</table>\n",
       "</div>"
      ],
      "text/plain": [
       "          accuracy  balanced accuracy        f1  precision  \\\n",
       "majmin                                                       \n",
       "majority  0.235507           0.531543  0.244053   0.140367   \n",
       "minority  0.141723           0.508513  0.209285   0.117077   \n",
       "\n",
       "          false positive rate  false negative rate  selection rate    count  \n",
       "majmin                                                                       \n",
       "majority             0.870831             0.066083        0.879167  69170.0  \n",
       "minority             0.968193             0.014780        0.970156  20540.0  "
      ]
     },
     "execution_count": 75,
     "metadata": {},
     "output_type": "execute_result"
    }
   ],
   "source": [
    "metric_frame.by_group"
   ]
  },
  {
   "cell_type": "code",
   "execution_count": 76,
   "id": "a9ddbe63",
   "metadata": {
    "execution": {
     "iopub.execute_input": "2025-07-30T21:50:38.039148Z",
     "iopub.status.busy": "2025-07-30T21:50:38.038519Z",
     "iopub.status.idle": "2025-07-30T21:50:40.021573Z",
     "shell.execute_reply": "2025-07-30T21:50:40.020860Z"
    },
    "papermill": {
     "duration": 2.010154,
     "end_time": "2025-07-30T21:50:40.022830",
     "exception": false,
     "start_time": "2025-07-30T21:50:38.012676",
     "status": "completed"
    },
    "tags": []
   },
   "outputs": [
    {
     "data": {
      "text/plain": [
       "array([[<Axes: title={'center': 'accuracy'}, xlabel='majmin'>,\n",
       "        <Axes: title={'center': 'balanced accuracy'}, xlabel='majmin'>,\n",
       "        <Axes: title={'center': 'f1'}, xlabel='majmin'>],\n",
       "       [<Axes: title={'center': 'precision'}, xlabel='majmin'>,\n",
       "        <Axes: title={'center': 'false positive rate'}, xlabel='majmin'>,\n",
       "        <Axes: title={'center': 'false negative rate'}, xlabel='majmin'>],\n",
       "       [<Axes: title={'center': 'selection rate'}, xlabel='majmin'>,\n",
       "        <Axes: title={'center': 'count'}, xlabel='majmin'>,\n",
       "        <Axes: xlabel='majmin'>]], dtype=object)"
      ]
     },
     "execution_count": 76,
     "metadata": {},
     "output_type": "execute_result"
    },
    {
     "data": {
      "image/png": "[encoded data removed]",
      "text/plain": [
       "<Figure size 1200x800 with 9 Axes>"
      ]
     },
     "metadata": {},
     "output_type": "display_data"
    }
   ],
   "source": [
    "# In a graphic\n",
    "metric_frame.by_group.plot.bar(\n",
    "    subplots=True,\n",
    "    layout=[3, 3],\n",
    "    legend=False,\n",
    "    figsize=[12, 8],\n",
    "    title=\"Show all metrics\",\n",
    ")"
   ]
  },
  {
   "cell_type": "markdown",
   "id": "f57a0bac",
   "metadata": {
    "papermill": {
     "duration": 0.01717,
     "end_time": "2025-07-30T21:50:40.055655",
     "exception": false,
     "start_time": "2025-07-30T21:50:40.038485",
     "status": "completed"
    },
    "tags": []
   },
   "source": [
    "# Final Output"
   ]
  },
  {
   "cell_type": "code",
   "execution_count": 77,
   "id": "96d280a3",
   "metadata": {
    "execution": {
     "iopub.execute_input": "2025-07-30T21:50:40.114685Z",
     "iopub.status.busy": "2025-07-30T21:50:40.114100Z",
     "iopub.status.idle": "2025-07-30T21:50:40.122690Z",
     "shell.execute_reply": "2025-07-30T21:50:40.121579Z"
    },
    "papermill": {
     "duration": 0.04039,
     "end_time": "2025-07-30T21:50:40.124417",
     "exception": false,
     "start_time": "2025-07-30T21:50:40.084027",
     "status": "completed"
    },
    "tags": []
   },
   "outputs": [
    {
     "data": {
      "text/plain": [
       "4"
      ]
     },
     "execution_count": 77,
     "metadata": {},
     "output_type": "execute_result"
    }
   ],
   "source": [
    "sub_universes = universe_analysis.generate_sub_universes()\n",
    "len(sub_universes)"
   ]
  },
  {
   "cell_type": "code",
   "execution_count": 78,
   "id": "92adf7ba",
   "metadata": {
    "execution": {
     "iopub.execute_input": "2025-07-30T21:50:40.172596Z",
     "iopub.status.busy": "2025-07-30T21:50:40.172149Z",
     "iopub.status.idle": "2025-07-30T21:50:40.178423Z",
     "shell.execute_reply": "2025-07-30T21:50:40.177429Z"
    },
    "papermill": {
     "duration": 0.027296,
     "end_time": "2025-07-30T21:50:40.180168",
     "exception": false,
     "start_time": "2025-07-30T21:50:40.152872",
     "status": "completed"
    },
    "tags": []
   },
   "outputs": [],
   "source": [
    "def filter_sub_universe_data(sub_universe, org_test):\n",
    "    # Keep all rows — no filtering\n",
    "    keep_rows_mask = np.ones(org_test.shape[0], dtype=bool)\n",
    "\n",
    "    print(f\"[INFO] Keeping all rows: {keep_rows_mask.sum()} rows retained.\")\n",
    "    return keep_rows_mask"
   ]
  },
  {
   "cell_type": "code",
   "execution_count": 79,
   "id": "4a759155",
   "metadata": {
    "execution": {
     "iopub.execute_input": "2025-07-30T21:50:40.241976Z",
     "iopub.status.busy": "2025-07-30T21:50:40.241066Z",
     "iopub.status.idle": "2025-07-30T21:50:50.918730Z",
     "shell.execute_reply": "2025-07-30T21:50:50.917705Z"
    },
    "papermill": {
     "duration": 10.709226,
     "end_time": "2025-07-30T21:50:50.920423",
     "exception": false,
     "start_time": "2025-07-30T21:50:40.211197",
     "status": "completed"
    },
    "tags": []
   },
   "outputs": [
    {
     "name": "stdout",
     "output_type": "stream",
     "text": [
      "Stopping execution_time clock.\n",
      "[INFO] Keeping all rows: 89710 rows retained.\n"
     ]
    },
    {
     "name": "stdout",
     "output_type": "stream",
     "text": [
      "[INFO] Keeping all rows: 89710 rows retained.\n"
     ]
    },
    {
     "name": "stdout",
     "output_type": "stream",
     "text": [
      "[INFO] Keeping all rows: 89710 rows retained.\n"
     ]
    },
    {
     "name": "stdout",
     "output_type": "stream",
     "text": [
      "[INFO] Keeping all rows: 89710 rows retained.\n"
     ]
    },
    {
     "data": {
      "text/html": [
       "<div>\n",
       "<style scoped>\n",
       "    .dataframe tbody tr th:only-of-type {\n",
       "        vertical-align: middle;\n",
       "    }\n",
       "\n",
       "    .dataframe tbody tr th {\n",
       "        vertical-align: top;\n",
       "    }\n",
       "\n",
       "    .dataframe thead th {\n",
       "        text-align: right;\n",
       "    }\n",
       "</style>\n",
       "<table border=\"1\" class=\"dataframe\">\n",
       "  <thead>\n",
       "    <tr style=\"text-align: right;\">\n",
       "      <th></th>\n",
       "      <th>run_no</th>\n",
       "      <th>universe_id</th>\n",
       "      <th>universe_settings</th>\n",
       "      <th>execution_time</th>\n",
       "      <th>test_size_n</th>\n",
       "      <th>test_size_frac</th>\n",
       "      <th>fair_main_equalized_odds_difference</th>\n",
       "      <th>fair_main_equalized_odds_ratio</th>\n",
       "      <th>fair_main_demographic_parity_difference</th>\n",
       "      <th>fair_main_demographic_parity_ratio</th>\n",
       "      <th>...</th>\n",
       "      <th>perf_grp_precision_0</th>\n",
       "      <th>perf_grp_precision_1</th>\n",
       "      <th>perf_grp_false positive rate_0</th>\n",
       "      <th>perf_grp_false positive rate_1</th>\n",
       "      <th>perf_grp_false negative rate_0</th>\n",
       "      <th>perf_grp_false negative rate_1</th>\n",
       "      <th>perf_grp_selection rate_0</th>\n",
       "      <th>perf_grp_selection rate_1</th>\n",
       "      <th>perf_grp_count_0</th>\n",
       "      <th>perf_grp_count_1</th>\n",
       "    </tr>\n",
       "  </thead>\n",
       "  <tbody>\n",
       "    <tr>\n",
       "      <th>0</th>\n",
       "      <td>14</td>\n",
       "      <td>c18382a3c50e1c34c672010a2350d0e8</td>\n",
       "      <td>{\"cutoff\": \"quantile_0.1\", \"eval_fairness_grou...</td>\n",
       "      <td>28.217046</td>\n",
       "      <td>89710</td>\n",
       "      <td>1.0</td>\n",
       "      <td>0.097362</td>\n",
       "      <td>0.899440</td>\n",
       "      <td>0.090989</td>\n",
       "      <td>0.906212</td>\n",
       "      <td>...</td>\n",
       "      <td>NaN</td>\n",
       "      <td>NaN</td>\n",
       "      <td>NaN</td>\n",
       "      <td>NaN</td>\n",
       "      <td>NaN</td>\n",
       "      <td>NaN</td>\n",
       "      <td>NaN</td>\n",
       "      <td>NaN</td>\n",
       "      <td>NaN</td>\n",
       "      <td>NaN</td>\n",
       "    </tr>\n",
       "    <tr>\n",
       "      <th>0</th>\n",
       "      <td>14</td>\n",
       "      <td>c18382a3c50e1c34c672010a2350d0e8</td>\n",
       "      <td>{\"cutoff\": \"quantile_0.1\", \"eval_fairness_grou...</td>\n",
       "      <td>28.217046</td>\n",
       "      <td>89710</td>\n",
       "      <td>1.0</td>\n",
       "      <td>0.097362</td>\n",
       "      <td>0.899440</td>\n",
       "      <td>0.090989</td>\n",
       "      <td>0.906212</td>\n",
       "      <td>...</td>\n",
       "      <td>0.117077</td>\n",
       "      <td>0.140367</td>\n",
       "      <td>0.968193</td>\n",
       "      <td>0.870831</td>\n",
       "      <td>0.014780</td>\n",
       "      <td>0.066083</td>\n",
       "      <td>0.970156</td>\n",
       "      <td>0.879167</td>\n",
       "      <td>20540.0</td>\n",
       "      <td>69170.0</td>\n",
       "    </tr>\n",
       "    <tr>\n",
       "      <th>0</th>\n",
       "      <td>14</td>\n",
       "      <td>c18382a3c50e1c34c672010a2350d0e8</td>\n",
       "      <td>{\"cutoff\": \"quantile_0.25\", \"eval_fairness_gro...</td>\n",
       "      <td>28.217046</td>\n",
       "      <td>89710</td>\n",
       "      <td>1.0</td>\n",
       "      <td>0.212818</td>\n",
       "      <td>0.762187</td>\n",
       "      <td>0.196823</td>\n",
       "      <td>0.781733</td>\n",
       "      <td>...</td>\n",
       "      <td>NaN</td>\n",
       "      <td>NaN</td>\n",
       "      <td>NaN</td>\n",
       "      <td>NaN</td>\n",
       "      <td>NaN</td>\n",
       "      <td>NaN</td>\n",
       "      <td>NaN</td>\n",
       "      <td>NaN</td>\n",
       "      <td>NaN</td>\n",
       "      <td>NaN</td>\n",
       "    </tr>\n",
       "    <tr>\n",
       "      <th>0</th>\n",
       "      <td>14</td>\n",
       "      <td>c18382a3c50e1c34c672010a2350d0e8</td>\n",
       "      <td>{\"cutoff\": \"quantile_0.25\", \"eval_fairness_gro...</td>\n",
       "      <td>28.217046</td>\n",
       "      <td>89710</td>\n",
       "      <td>1.0</td>\n",
       "      <td>0.212818</td>\n",
       "      <td>0.762187</td>\n",
       "      <td>0.196823</td>\n",
       "      <td>0.781733</td>\n",
       "      <td>...</td>\n",
       "      <td>0.122017</td>\n",
       "      <td>0.160275</td>\n",
       "      <td>0.894893</td>\n",
       "      <td>0.682076</td>\n",
       "      <td>0.045608</td>\n",
       "      <td>0.144967</td>\n",
       "      <td>0.901753</td>\n",
       "      <td>0.704930</td>\n",
       "      <td>20540.0</td>\n",
       "      <td>69170.0</td>\n",
       "    </tr>\n",
       "  </tbody>\n",
       "</table>\n",
       "<p>4 rows × 50 columns</p>\n",
       "</div>"
      ],
      "text/plain": [
       "  run_no                       universe_id  \\\n",
       "0     14  c18382a3c50e1c34c672010a2350d0e8   \n",
       "0     14  c18382a3c50e1c34c672010a2350d0e8   \n",
       "0     14  c18382a3c50e1c34c672010a2350d0e8   \n",
       "0     14  c18382a3c50e1c34c672010a2350d0e8   \n",
       "\n",
       "                                   universe_settings  execution_time  \\\n",
       "0  {\"cutoff\": \"quantile_0.1\", \"eval_fairness_grou...       28.217046   \n",
       "0  {\"cutoff\": \"quantile_0.1\", \"eval_fairness_grou...       28.217046   \n",
       "0  {\"cutoff\": \"quantile_0.25\", \"eval_fairness_gro...       28.217046   \n",
       "0  {\"cutoff\": \"quantile_0.25\", \"eval_fairness_gro...       28.217046   \n",
       "\n",
       "   test_size_n  test_size_frac  fair_main_equalized_odds_difference  \\\n",
       "0        89710             1.0                             0.097362   \n",
       "0        89710             1.0                             0.097362   \n",
       "0        89710             1.0                             0.212818   \n",
       "0        89710             1.0                             0.212818   \n",
       "\n",
       "   fair_main_equalized_odds_ratio  fair_main_demographic_parity_difference  \\\n",
       "0                        0.899440                                 0.090989   \n",
       "0                        0.899440                                 0.090989   \n",
       "0                        0.762187                                 0.196823   \n",
       "0                        0.762187                                 0.196823   \n",
       "\n",
       "   fair_main_demographic_parity_ratio  ...  perf_grp_precision_0  \\\n",
       "0                            0.906212  ...                   NaN   \n",
       "0                            0.906212  ...              0.117077   \n",
       "0                            0.781733  ...                   NaN   \n",
       "0                            0.781733  ...              0.122017   \n",
       "\n",
       "   perf_grp_precision_1  perf_grp_false positive rate_0  \\\n",
       "0                   NaN                             NaN   \n",
       "0              0.140367                        0.968193   \n",
       "0                   NaN                             NaN   \n",
       "0              0.160275                        0.894893   \n",
       "\n",
       "   perf_grp_false positive rate_1  perf_grp_false negative rate_0  \\\n",
       "0                             NaN                             NaN   \n",
       "0                        0.870831                        0.014780   \n",
       "0                             NaN                             NaN   \n",
       "0                        0.682076                        0.045608   \n",
       "\n",
       "   perf_grp_false negative rate_1  perf_grp_selection rate_0  \\\n",
       "0                             NaN                        NaN   \n",
       "0                        0.066083                   0.970156   \n",
       "0                             NaN                        NaN   \n",
       "0                        0.144967                   0.901753   \n",
       "\n",
       "   perf_grp_selection rate_1  perf_grp_count_0  perf_grp_count_1  \n",
       "0                        NaN               NaN               NaN  \n",
       "0                   0.879167           20540.0           69170.0  \n",
       "0                        NaN               NaN               NaN  \n",
       "0                   0.704930           20540.0           69170.0  \n",
       "\n",
       "[4 rows x 50 columns]"
      ]
     },
     "execution_count": 79,
     "metadata": {},
     "output_type": "execute_result"
    }
   ],
   "source": [
    "final_output = universe_analysis.generate_final_output(\n",
    "    y_pred_prob=probs_test,\n",
    "    y_test=y_true,\n",
    "    org_test=org_test,\n",
    "    filter_data=filter_sub_universe_data,\n",
    "    cp_metrics_df=cp_metrics_df,\n",
    "    save=True,\n",
    ")\n",
    "final_output"
   ]
  },
  {
   "cell_type": "code",
   "execution_count": null,
   "id": "721ff514-cb11-46f8-b6fc-50392f74b5cb",
   "metadata": {
    "papermill": {
     "duration": 0.030986,
     "end_time": "2025-07-30T21:50:50.983923",
     "exception": false,
     "start_time": "2025-07-30T21:50:50.952937",
     "status": "completed"
    },
    "tags": []
   },
   "outputs": [],
   "source": []
  }
 ],
 "metadata": {
  "celltoolbar": "Tags",
  "kernelspec": {
   "display_name": "Python (CMA Fairness)",
   "language": "python",
   "name": "cma_fair_env"
  },
  "language_info": {
   "codemirror_mode": {
    "name": "ipython",
    "version": 3
   },
   "file_extension": ".py",
   "mimetype": "text/x-python",
   "name": "python",
   "nbconvert_exporter": "python",
   "pygments_lexer": "ipython3",
   "version": "3.10.12"
  },
  "papermill": {
   "default_parameters": {},
   "duration": 43.057334,
   "end_time": "2025-07-30T21:50:51.834473",
   "environment_variables": {},
   "exception": null,
   "input_path": "universe_analysis.ipynb",
   "output_path": "output/runs/14/notebooks/m_14-c18382a3c50e1c34c672010a2350d0e8.ipynb",
   "parameters": {
    "output_dir": "output",
    "run_no": "14",
    "seed": "2023",
    "universe": "{\"cutoff\": [\"quantile_0.1\", \"quantile_0.25\"], \"eval_fairness_grouping\": [\"majority-minority\", \"nationality-all\"], \"exclude_features\": \"nationality-sex\", \"exclude_subgroups\": \"keep-all\", \"model\": \"penalized_logreg\", \"scale\": \"do-not-scale\", \"training_size\": \"1k\", \"training_year\": \"2010_14\"}",
    "universe_id": "c18382a3c50e1c34c672010a2350d0e8"
   },
   "start_time": "2025-07-30T21:50:08.777139",
   "version": "2.6.0"
  }
 },
 "nbformat": 4,
 "nbformat_minor": 5
}