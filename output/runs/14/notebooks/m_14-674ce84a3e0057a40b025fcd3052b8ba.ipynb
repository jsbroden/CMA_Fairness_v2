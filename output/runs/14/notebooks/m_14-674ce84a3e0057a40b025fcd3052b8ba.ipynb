{
 "cells": [
  {
   "cell_type": "code",
   "execution_count": 1,
   "id": "f159f837-637b-42ba-96b5-ec9a68c44524",
   "metadata": {
    "execution": {
     "iopub.execute_input": "2025-07-30T19:57:31.139690Z",
     "iopub.status.busy": "2025-07-30T19:57:31.139294Z",
     "iopub.status.idle": "2025-07-30T19:57:31.155061Z",
     "shell.execute_reply": "2025-07-30T19:57:31.154049Z"
    },
    "papermill": {
     "duration": 0.031063,
     "end_time": "2025-07-30T19:57:31.156913",
     "exception": false,
     "start_time": "2025-07-30T19:57:31.125850",
     "status": "completed"
    },
    "tags": []
   },
   "outputs": [
    {
     "name": "stdout",
     "output_type": "stream",
     "text": [
      "/dss/dsshome1/0C/ra93lal2/cma/CMA_Fairness_v2\n"
     ]
    },
    {
     "name": "stderr",
     "output_type": "stream",
     "text": [
      "/dss/dsshome1/0C/ra93lal2/.local/share/virtualenvs/CMA_Fairness_v2-3j10GkSs/lib/python3.10/site-packages/IPython/core/magics/osm.py:393: UserWarning: This is now an optional IPython functionality, using bookmarks requires you to install the `pickleshare` library.\n",
      "  bkms = self.shell.db.get('bookmarks', {})\n",
      "/dss/dsshome1/0C/ra93lal2/.local/share/virtualenvs/CMA_Fairness_v2-3j10GkSs/lib/python3.10/site-packages/IPython/core/magics/osm.py:417: UserWarning: This is now an optional IPython functionality, setting dhist requires you to install the `pickleshare` library.\n",
      "  self.shell.db['dhist'] = compress_dhist(dhist)[-100:]\n"
     ]
    }
   ],
   "source": [
    "%cd ~/cma/CMA_Fairness_v2"
   ]
  },
  {
   "cell_type": "markdown",
   "id": "de2603b9",
   "metadata": {
    "papermill": {
     "duration": 0.020177,
     "end_time": "2025-07-30T19:57:31.199208",
     "exception": false,
     "start_time": "2025-07-30T19:57:31.179031",
     "status": "completed"
    },
    "tags": []
   },
   "source": [
    "The following cell holds the definition of our parameters, these values can be overriden by rendering the with e.g. the following command:\n",
    "\n",
    "papermill -p alpha 0.2 -p ratio 0.3 universe_analysis.ipynb output/test_run.ipynb"
   ]
  },
  {
   "cell_type": "code",
   "execution_count": 2,
   "id": "a80968a0-40bb-4fa9-85ef-2d5eefb01975",
   "metadata": {
    "execution": {
     "iopub.execute_input": "2025-07-30T19:57:31.241420Z",
     "iopub.status.busy": "2025-07-30T19:57:31.240953Z",
     "iopub.status.idle": "2025-07-30T19:57:31.246916Z",
     "shell.execute_reply": "2025-07-30T19:57:31.245844Z"
    },
    "papermill": {
     "duration": 0.029596,
     "end_time": "2025-07-30T19:57:31.248845",
     "exception": false,
     "start_time": "2025-07-30T19:57:31.219249",
     "status": "completed"
    },
    "tags": []
   },
   "outputs": [
    {
     "name": "stdout",
     "output_type": "stream",
     "text": [
      "Current working directory: /dss/dsshome1/0C/ra93lal2/cma/CMA_Fairness_v2\n"
     ]
    }
   ],
   "source": [
    "import os\n",
    "print(\"Current working directory:\", os.getcwd())"
   ]
  },
  {
   "cell_type": "code",
   "execution_count": 3,
   "id": "2dce4c03",
   "metadata": {
    "execution": {
     "iopub.execute_input": "2025-07-30T19:57:31.293296Z",
     "iopub.status.busy": "2025-07-30T19:57:31.292860Z",
     "iopub.status.idle": "2025-07-30T19:57:31.299767Z",
     "shell.execute_reply": "2025-07-30T19:57:31.298567Z"
    },
    "papermill": {
     "duration": 0.030838,
     "end_time": "2025-07-30T19:57:31.301535",
     "exception": false,
     "start_time": "2025-07-30T19:57:31.270697",
     "status": "completed"
    },
    "tags": [
     "parameters"
    ]
   },
   "outputs": [],
   "source": [
    "run_no = 0\n",
    "universe_id = \"test\"\n",
    "universe = {\n",
    "    \"training_size\": \"25k\", # \"25k\", \"5k\", \"1k\"\n",
    "    \"training_year\": \"2014\", # \"2014\", \"2012_14\", \"2010_14\"\n",
    "    \"scale\": \"scale\", # \"scale\", \"do-not-scale\",\n",
    "    #\"stratify_split\": \"target\", # \"none\", \"target\", \"protected-attribute\", \"both\",\n",
    "    \"model\": \"elasticnet\", # \"logreg\", \"penalized_logreg\", \"rf\", \"gbm\", \"elasticnet\"\n",
    "    \"cutoff\": [\"quantile_0.15\", \"quantile_0.30\"],\n",
    "    \"exclude_features\": \"age\", # \"none\", \"nationality\", \"sex\", \"nationality-sex\", \"age\"\n",
    "    \"exclude_subgroups\": \"keep-all\", # \"keep-all\", \"drop-non-german\"\n",
    "    \"eval_fairness_grouping\": [\"majority-minority\", \"nationality-all\"]\n",
    "}\n",
    "\n",
    "output_dir=\"./output\"\n",
    "seed=0"
   ]
  },
  {
   "cell_type": "code",
   "execution_count": 4,
   "id": "a7c722ad",
   "metadata": {
    "execution": {
     "iopub.execute_input": "2025-07-30T19:57:31.346778Z",
     "iopub.status.busy": "2025-07-30T19:57:31.345977Z",
     "iopub.status.idle": "2025-07-30T19:57:31.352379Z",
     "shell.execute_reply": "2025-07-30T19:57:31.351105Z"
    },
    "papermill": {
     "duration": 0.030759,
     "end_time": "2025-07-30T19:57:31.354186",
     "exception": false,
     "start_time": "2025-07-30T19:57:31.323427",
     "status": "completed"
    },
    "tags": [
     "injected-parameters"
    ]
   },
   "outputs": [],
   "source": [
    "# Parameters\n",
    "universe_id = \"674ce84a3e0057a40b025fcd3052b8ba\"\n",
    "run_no = \"14\"\n",
    "universe = \"{\\\"cutoff\\\": [\\\"quantile_0.1\\\", \\\"quantile_0.25\\\"], \\\"eval_fairness_grouping\\\": [\\\"majority-minority\\\", \\\"nationality-all\\\"], \\\"exclude_features\\\": \\\"age\\\", \\\"exclude_subgroups\\\": \\\"drop-non-german\\\", \\\"model\\\": \\\"logreg\\\", \\\"scale\\\": \\\"do-not-scale\\\", \\\"training_size\\\": \\\"25k\\\", \\\"training_year\\\": \\\"2014\\\"}\"\n",
    "output_dir = \"output\"\n",
    "seed = \"2023\"\n"
   ]
  },
  {
   "cell_type": "code",
   "execution_count": 5,
   "id": "1650acaf",
   "metadata": {
    "execution": {
     "iopub.execute_input": "2025-07-30T19:57:31.400089Z",
     "iopub.status.busy": "2025-07-30T19:57:31.399371Z",
     "iopub.status.idle": "2025-07-30T19:57:31.405030Z",
     "shell.execute_reply": "2025-07-30T19:57:31.404062Z"
    },
    "papermill": {
     "duration": 0.029869,
     "end_time": "2025-07-30T19:57:31.406824",
     "exception": false,
     "start_time": "2025-07-30T19:57:31.376955",
     "status": "completed"
    },
    "tags": []
   },
   "outputs": [],
   "source": [
    "import json\n",
    "# Parse universe into dict if it is passed as a string\n",
    "if isinstance(universe, str):\n",
    "    universe = json.loads(universe)"
   ]
  },
  {
   "cell_type": "code",
   "execution_count": 6,
   "id": "16620c48",
   "metadata": {
    "execution": {
     "iopub.execute_input": "2025-07-30T19:57:31.452960Z",
     "iopub.status.busy": "2025-07-30T19:57:31.452338Z",
     "iopub.status.idle": "2025-07-30T19:57:31.494368Z",
     "shell.execute_reply": "2025-07-30T19:57:31.493337Z"
    },
    "papermill": {
     "duration": 0.06785,
     "end_time": "2025-07-30T19:57:31.497237",
     "exception": false,
     "start_time": "2025-07-30T19:57:31.429387",
     "status": "completed"
    },
    "tags": []
   },
   "outputs": [],
   "source": [
    "# Auto-reload the custom package\n",
    "%load_ext autoreload\n",
    "%autoreload 1\n",
    "%aimport fairness_multiverse"
   ]
  },
  {
   "cell_type": "code",
   "execution_count": 7,
   "id": "01c5c9f3",
   "metadata": {
    "execution": {
     "iopub.execute_input": "2025-07-30T19:57:31.558263Z",
     "iopub.status.busy": "2025-07-30T19:57:31.557422Z",
     "iopub.status.idle": "2025-07-30T19:57:33.395628Z",
     "shell.execute_reply": "2025-07-30T19:57:33.394479Z"
    },
    "papermill": {
     "duration": 1.861966,
     "end_time": "2025-07-30T19:57:33.397717",
     "exception": false,
     "start_time": "2025-07-30T19:57:31.535751",
     "status": "completed"
    },
    "tags": []
   },
   "outputs": [],
   "source": [
    "from fairness_multiverse.universe import UniverseAnalysis\n",
    "\n",
    "universe_analysis = UniverseAnalysis(\n",
    "    run_no = run_no,\n",
    "    universe_id = universe_id,\n",
    "    universe = universe,\n",
    "    output_dir=output_dir,\n",
    ")"
   ]
  },
  {
   "cell_type": "code",
   "execution_count": 8,
   "id": "106241f5",
   "metadata": {
    "execution": {
     "iopub.execute_input": "2025-07-30T19:57:33.445620Z",
     "iopub.status.busy": "2025-07-30T19:57:33.444975Z",
     "iopub.status.idle": "2025-07-30T19:57:33.451578Z",
     "shell.execute_reply": "2025-07-30T19:57:33.450570Z"
    },
    "papermill": {
     "duration": 0.032328,
     "end_time": "2025-07-30T19:57:33.453308",
     "exception": false,
     "start_time": "2025-07-30T19:57:33.420980",
     "status": "completed"
    },
    "tags": []
   },
   "outputs": [
    {
     "name": "stdout",
     "output_type": "stream",
     "text": [
      "Using Seed: 2023\n"
     ]
    }
   ],
   "source": [
    "import numpy as np\n",
    "parsed_seed = int(seed)\n",
    "np.random.seed(parsed_seed)\n",
    "print(f\"Using Seed: {parsed_seed}\")"
   ]
  },
  {
   "cell_type": "markdown",
   "id": "e0ebdc57",
   "metadata": {
    "papermill": {
     "duration": 0.018212,
     "end_time": "2025-07-30T19:57:33.490751",
     "exception": false,
     "start_time": "2025-07-30T19:57:33.472539",
     "status": "completed"
    },
    "tags": []
   },
   "source": [
    "# Loading Data"
   ]
  },
  {
   "cell_type": "markdown",
   "id": "681925a3",
   "metadata": {
    "papermill": {
     "duration": 0.021077,
     "end_time": "2025-07-30T19:57:33.533868",
     "exception": false,
     "start_time": "2025-07-30T19:57:33.512791",
     "status": "completed"
    },
    "tags": []
   },
   "source": [
    "Load siab_train, siab_test, siab_calib and/or \n",
    "load siab_train_features, siab_train_labels"
   ]
  },
  {
   "cell_type": "code",
   "execution_count": 9,
   "id": "f0496b8a",
   "metadata": {
    "execution": {
     "iopub.execute_input": "2025-07-30T19:57:33.577289Z",
     "iopub.status.busy": "2025-07-30T19:57:33.576777Z",
     "iopub.status.idle": "2025-07-30T19:57:47.645187Z",
     "shell.execute_reply": "2025-07-30T19:57:47.643943Z"
    },
    "papermill": {
     "duration": 14.092075,
     "end_time": "2025-07-30T19:57:47.646997",
     "exception": false,
     "start_time": "2025-07-30T19:57:33.554922",
     "status": "completed"
    },
    "tags": []
   },
   "outputs": [
    {
     "name": "stdout",
     "output_type": "stream",
     "text": [
      "Loading SIAB data from cache: data/siab_cached.csv.gz\n"
     ]
    },
    {
     "name": "stdout",
     "output_type": "stream",
     "text": [
      "(643690, 164)\n"
     ]
    }
   ],
   "source": [
    "from pathlib import Path\n",
    "import pandas as pd\n",
    "\n",
    "# File paths\n",
    "raw_file = Path(\"data/raw/siab.csv\")\n",
    "cache_file = Path(\"data/siab_cached.csv.gz\")\n",
    "\n",
    "# Ensure cache directory exists\n",
    "cache_file.parent.mkdir(parents=True, exist_ok=True)\n",
    "\n",
    "# Load with simple caching\n",
    "if cache_file.exists():\n",
    "    print(f\"Loading SIAB data from cache: {cache_file}\")\n",
    "    siab = pd.read_csv(cache_file, compression='gzip')\n",
    "else:\n",
    "    print(f\"Cache not found. Reading raw SIAB data: {raw_file}\")\n",
    "    siab = pd.read_csv(raw_file)\n",
    "    siab.to_csv(cache_file, index=False, compression='gzip')\n",
    "    print(f\"Cached SIAB data to: {cache_file}\")\n",
    "\n",
    "# Now use `siab` DataFrame as needed\n",
    "print(siab.shape)"
   ]
  },
  {
   "cell_type": "code",
   "execution_count": 10,
   "id": "db0ca512-5f53-4dba-abdb-a2888bca41ba",
   "metadata": {
    "execution": {
     "iopub.execute_input": "2025-07-30T19:57:47.692712Z",
     "iopub.status.busy": "2025-07-30T19:57:47.691840Z",
     "iopub.status.idle": "2025-07-30T19:57:47.697330Z",
     "shell.execute_reply": "2025-07-30T19:57:47.696601Z"
    },
    "papermill": {
     "duration": 0.025654,
     "end_time": "2025-07-30T19:57:47.698583",
     "exception": false,
     "start_time": "2025-07-30T19:57:47.672929",
     "status": "completed"
    },
    "tags": []
   },
   "outputs": [],
   "source": [
    "#siab"
   ]
  },
  {
   "cell_type": "code",
   "execution_count": 11,
   "id": "a0edb063",
   "metadata": {
    "execution": {
     "iopub.execute_input": "2025-07-30T19:57:47.736840Z",
     "iopub.status.busy": "2025-07-30T19:57:47.735957Z",
     "iopub.status.idle": "2025-07-30T19:57:47.742411Z",
     "shell.execute_reply": "2025-07-30T19:57:47.741239Z"
    },
    "papermill": {
     "duration": 0.032827,
     "end_time": "2025-07-30T19:57:47.744706",
     "exception": false,
     "start_time": "2025-07-30T19:57:47.711879",
     "status": "completed"
    },
    "tags": []
   },
   "outputs": [],
   "source": [
    "#import pandas as pd\n",
    "#\n",
    "#X_train = pd.read_csv(\"./data/X_train.csv\")\n",
    "#y_train = pd.read_csv(\"./data/y_train.csv\")"
   ]
  },
  {
   "cell_type": "code",
   "execution_count": 12,
   "id": "63d08085",
   "metadata": {
    "execution": {
     "iopub.execute_input": "2025-07-30T19:57:47.802077Z",
     "iopub.status.busy": "2025-07-30T19:57:47.801390Z",
     "iopub.status.idle": "2025-07-30T19:57:47.807603Z",
     "shell.execute_reply": "2025-07-30T19:57:47.806467Z"
    },
    "papermill": {
     "duration": 0.036486,
     "end_time": "2025-07-30T19:57:47.809423",
     "exception": false,
     "start_time": "2025-07-30T19:57:47.772937",
     "status": "completed"
    },
    "tags": []
   },
   "outputs": [],
   "source": [
    "#X_test = pd.read_csv(\"./data/X_test.csv\")\n",
    "#y_true = pd.read_csv(\"./data/y_test.csv\")"
   ]
  },
  {
   "cell_type": "code",
   "execution_count": 13,
   "id": "98a8d0fa-1d3d-4ed8-bb2c-281470e24add",
   "metadata": {
    "execution": {
     "iopub.execute_input": "2025-07-30T19:57:47.853878Z",
     "iopub.status.busy": "2025-07-30T19:57:47.852941Z",
     "iopub.status.idle": "2025-07-30T19:57:47.858476Z",
     "shell.execute_reply": "2025-07-30T19:57:47.857365Z"
    },
    "papermill": {
     "duration": 0.030688,
     "end_time": "2025-07-30T19:57:47.861144",
     "exception": false,
     "start_time": "2025-07-30T19:57:47.830456",
     "status": "completed"
    },
    "tags": []
   },
   "outputs": [],
   "source": [
    "# Calibration data for conformal\n",
    "#X_calib = pd.read_csv(\"./data/X_calib.csv\")\n",
    "#y_calib = pd.read_csv(\"./data/y_calib.csv\")"
   ]
  },
  {
   "cell_type": "markdown",
   "id": "997051c5-15bd-4b69-9786-c3001a3ce484",
   "metadata": {
    "papermill": {
     "duration": 0.027662,
     "end_time": "2025-07-30T19:57:47.919524",
     "exception": false,
     "start_time": "2025-07-30T19:57:47.891862",
     "status": "completed"
    },
    "tags": []
   },
   "source": [
    "# Splitting Data and Setting Training Data Size"
   ]
  },
  {
   "cell_type": "code",
   "execution_count": 14,
   "id": "e993b61f-042d-41a6-8c81-f55681f86335",
   "metadata": {
    "execution": {
     "iopub.execute_input": "2025-07-30T19:57:47.970236Z",
     "iopub.status.busy": "2025-07-30T19:57:47.969388Z",
     "iopub.status.idle": "2025-07-30T19:57:47.983690Z",
     "shell.execute_reply": "2025-07-30T19:57:47.982467Z"
    },
    "papermill": {
     "duration": 0.042435,
     "end_time": "2025-07-30T19:57:47.986985",
     "exception": false,
     "start_time": "2025-07-30T19:57:47.944550",
     "status": "completed"
    },
    "tags": []
   },
   "outputs": [],
   "source": [
    "def sample_by_year_size(df,\n",
    "                        training_year: str,\n",
    "                        training_size: str,\n",
    "                        random_state: int = 42):\n",
    "    # --- parse training_year into a list of int years ---\n",
    "    if \"_\" in training_year:\n",
    "        start_str, end_str = training_year.split(\"_\", 1)\n",
    "        start = int(start_str)\n",
    "        end   = int(end_str) if len(end_str) == 4 else (int(end_str) + (start // 100)*100)\n",
    "        years = list(range(start, end + 1))\n",
    "    else:\n",
    "        years = [int(training_year)]\n",
    "\n",
    "    df = df[df[\"year\"].isin(years)].reset_index(drop=True)\n",
    "\n",
    "    # --- map training_size to total number of samples ---\n",
    "    total_map = {\"25k\": 25_000, \"5k\": 5_000, \"1k\": 1_000}\n",
    "    if training_size not in total_map:\n",
    "        return df  # e.g. \"all\"\n",
    "\n",
    "    total_samples = total_map[training_size]\n",
    "    n_years       = len(years)\n",
    "    base          = total_samples // n_years\n",
    "    remainder     = total_samples % n_years\n",
    "\n",
    "    # --- build a dict: year -> how many to sample ---\n",
    "    # give +1 to the first `remainder` years in ascending order\n",
    "    quotas = {\n",
    "        year: base + (1 if idx < remainder else 0)\n",
    "        for idx, year in enumerate(sorted(years))\n",
    "    }\n",
    "\n",
    "    # --- sample per‐year according to the quota dict ---\n",
    "    sampled = (\n",
    "        df\n",
    "        .groupby(\"year\", group_keys=False)\n",
    "        .apply(lambda grp: grp.sample(\n",
    "            n=min(len(grp), quotas[grp.name]),\n",
    "            random_state=random_state))\n",
    "        .reset_index(drop=True)\n",
    "    )\n",
    "\n",
    "    return sampled"
   ]
  },
  {
   "cell_type": "code",
   "execution_count": 15,
   "id": "c0ccd338-0e02-41f3-a09d-f56f9266e3fb",
   "metadata": {
    "execution": {
     "iopub.execute_input": "2025-07-30T19:57:48.026915Z",
     "iopub.status.busy": "2025-07-30T19:57:48.026355Z",
     "iopub.status.idle": "2025-07-30T19:57:48.030701Z",
     "shell.execute_reply": "2025-07-30T19:57:48.029882Z"
    },
    "papermill": {
     "duration": 0.01766,
     "end_time": "2025-07-30T19:57:48.032011",
     "exception": false,
     "start_time": "2025-07-30T19:57:48.014351",
     "status": "completed"
    },
    "tags": []
   },
   "outputs": [],
   "source": [
    "#universe[\"training_size\"]"
   ]
  },
  {
   "cell_type": "code",
   "execution_count": 16,
   "id": "ca707fd7-8047-4acd-bfa5-66248fbbf8e6",
   "metadata": {
    "execution": {
     "iopub.execute_input": "2025-07-30T19:57:48.056635Z",
     "iopub.status.busy": "2025-07-30T19:57:48.056240Z",
     "iopub.status.idle": "2025-07-30T19:57:48.061348Z",
     "shell.execute_reply": "2025-07-30T19:57:48.060269Z"
    },
    "papermill": {
     "duration": 0.019124,
     "end_time": "2025-07-30T19:57:48.062876",
     "exception": false,
     "start_time": "2025-07-30T19:57:48.043752",
     "status": "completed"
    },
    "tags": []
   },
   "outputs": [],
   "source": [
    "#universe[\"training_year\"]"
   ]
  },
  {
   "cell_type": "code",
   "execution_count": 17,
   "id": "aea9c6ef-6f46-42c8-85eb-5a62025c1508",
   "metadata": {
    "execution": {
     "iopub.execute_input": "2025-07-30T19:57:48.106291Z",
     "iopub.status.busy": "2025-07-30T19:57:48.105448Z",
     "iopub.status.idle": "2025-07-30T19:57:48.472652Z",
     "shell.execute_reply": "2025-07-30T19:57:48.471735Z"
    },
    "papermill": {
     "duration": 0.38999,
     "end_time": "2025-07-30T19:57:48.474193",
     "exception": false,
     "start_time": "2025-07-30T19:57:48.084203",
     "status": "completed"
    },
    "tags": []
   },
   "outputs": [],
   "source": [
    "siab_train = sample_by_year_size(siab,\n",
    "                               training_year=universe[\"training_year\"],\n",
    "                               training_size=universe[\"training_size\"])"
   ]
  },
  {
   "cell_type": "code",
   "execution_count": 18,
   "id": "8d3afb32-789d-442c-8d5d-9f5aa8dd2eed",
   "metadata": {
    "execution": {
     "iopub.execute_input": "2025-07-30T19:57:48.515343Z",
     "iopub.status.busy": "2025-07-30T19:57:48.514703Z",
     "iopub.status.idle": "2025-07-30T19:57:48.520288Z",
     "shell.execute_reply": "2025-07-30T19:57:48.519255Z"
    },
    "papermill": {
     "duration": 0.028769,
     "end_time": "2025-07-30T19:57:48.522012",
     "exception": false,
     "start_time": "2025-07-30T19:57:48.493243",
     "status": "completed"
    },
    "tags": []
   },
   "outputs": [],
   "source": [
    "#siab_train.shape"
   ]
  },
  {
   "cell_type": "code",
   "execution_count": 19,
   "id": "d582db68-1a4c-47fb-84fc-08518dc1975a",
   "metadata": {
    "execution": {
     "iopub.execute_input": "2025-07-30T19:57:48.554811Z",
     "iopub.status.busy": "2025-07-30T19:57:48.554452Z",
     "iopub.status.idle": "2025-07-30T19:57:48.559194Z",
     "shell.execute_reply": "2025-07-30T19:57:48.558392Z"
    },
    "papermill": {
     "duration": 0.018793,
     "end_time": "2025-07-30T19:57:48.560786",
     "exception": false,
     "start_time": "2025-07-30T19:57:48.541993",
     "status": "completed"
    },
    "tags": []
   },
   "outputs": [],
   "source": [
    "#display(siab_train.groupby(\"year\").size())"
   ]
  },
  {
   "cell_type": "code",
   "execution_count": 20,
   "id": "a561edb4-d032-42cb-8256-22eac1111c64",
   "metadata": {
    "execution": {
     "iopub.execute_input": "2025-07-30T19:57:48.590447Z",
     "iopub.status.busy": "2025-07-30T19:57:48.589930Z",
     "iopub.status.idle": "2025-07-30T19:57:48.804229Z",
     "shell.execute_reply": "2025-07-30T19:57:48.803234Z"
    },
    "papermill": {
     "duration": 0.233022,
     "end_time": "2025-07-30T19:57:48.806249",
     "exception": false,
     "start_time": "2025-07-30T19:57:48.573227",
     "status": "completed"
    },
    "tags": []
   },
   "outputs": [],
   "source": [
    "#siab_train = siab_s[siab_s.year < 2015]\n",
    "siab_calib = siab[siab.year == 2015]\n",
    "siab_test = siab[siab.year == 2016]"
   ]
  },
  {
   "cell_type": "code",
   "execution_count": 21,
   "id": "472de16f-c3db-4916-846b-1f0de9cf1746",
   "metadata": {
    "execution": {
     "iopub.execute_input": "2025-07-30T19:57:48.853343Z",
     "iopub.status.busy": "2025-07-30T19:57:48.852433Z",
     "iopub.status.idle": "2025-07-30T19:57:48.867608Z",
     "shell.execute_reply": "2025-07-30T19:57:48.866627Z"
    },
    "papermill": {
     "duration": 0.041003,
     "end_time": "2025-07-30T19:57:48.869702",
     "exception": false,
     "start_time": "2025-07-30T19:57:48.828699",
     "status": "completed"
    },
    "tags": []
   },
   "outputs": [],
   "source": [
    "X_train = siab_train.iloc[:,4:164]\n",
    "y_train = siab_train.iloc[:, [3]]"
   ]
  },
  {
   "cell_type": "code",
   "execution_count": 22,
   "id": "828c96af-f43a-4ed6-ba47-8ac73a47d56c",
   "metadata": {
    "execution": {
     "iopub.execute_input": "2025-07-30T19:57:48.913428Z",
     "iopub.status.busy": "2025-07-30T19:57:48.912592Z",
     "iopub.status.idle": "2025-07-30T19:57:48.968206Z",
     "shell.execute_reply": "2025-07-30T19:57:48.966951Z"
    },
    "papermill": {
     "duration": 0.07911,
     "end_time": "2025-07-30T19:57:48.970921",
     "exception": false,
     "start_time": "2025-07-30T19:57:48.891811",
     "status": "completed"
    },
    "tags": []
   },
   "outputs": [],
   "source": [
    "X_calib = siab_calib.iloc[:,4:164]\n",
    "y_calib = siab_calib.iloc[:, [3]]"
   ]
  },
  {
   "cell_type": "code",
   "execution_count": 23,
   "id": "c34be9c3-6bd6-476e-acd3-845840e303be",
   "metadata": {
    "execution": {
     "iopub.execute_input": "2025-07-30T19:57:49.034519Z",
     "iopub.status.busy": "2025-07-30T19:57:49.034049Z",
     "iopub.status.idle": "2025-07-30T19:57:49.088461Z",
     "shell.execute_reply": "2025-07-30T19:57:49.087189Z"
    },
    "papermill": {
     "duration": 0.088171,
     "end_time": "2025-07-30T19:57:49.090355",
     "exception": false,
     "start_time": "2025-07-30T19:57:49.002184",
     "status": "completed"
    },
    "tags": []
   },
   "outputs": [],
   "source": [
    "X_test = siab_test.iloc[:,4:164]\n",
    "y_true = siab_test.iloc[:, [3]]"
   ]
  },
  {
   "cell_type": "markdown",
   "id": "9901737e-04df-44f0-9100-f5ad144ed040",
   "metadata": {
    "papermill": {
     "duration": 0.021761,
     "end_time": "2025-07-30T19:57:49.135790",
     "exception": false,
     "start_time": "2025-07-30T19:57:49.114029",
     "status": "completed"
    },
    "tags": []
   },
   "source": [
    "# Splitting Data and Setting Training Data Size OLD VERSION"
   ]
  },
  {
   "cell_type": "code",
   "execution_count": 24,
   "id": "acbc8f7d-8fc8-4e86-8c59-5dcb0f58384b",
   "metadata": {
    "execution": {
     "iopub.execute_input": "2025-07-30T19:57:49.182762Z",
     "iopub.status.busy": "2025-07-30T19:57:49.182099Z",
     "iopub.status.idle": "2025-07-30T19:57:49.187795Z",
     "shell.execute_reply": "2025-07-30T19:57:49.186716Z"
    },
    "papermill": {
     "duration": 0.031406,
     "end_time": "2025-07-30T19:57:49.189558",
     "exception": false,
     "start_time": "2025-07-30T19:57:49.158152",
     "status": "completed"
    },
    "tags": []
   },
   "outputs": [],
   "source": [
    "#def sample_by_year(df, training_size, random_state=42):\n",
    "#    if training_size == \"2014\":\n",
    "#        return df[df[\"year\"] == 2014].reset_index(drop=True)\n",
    "#    \n",
    "#    size_map = {\n",
    "#        \"25k\": 5000,\n",
    "#        \"5k\": 1000,\n",
    "#        \"1k\": 200\n",
    "#    }\n",
    "#\n",
    "#    if training_size not in size_map:\n",
    "#        return df.reset_index(drop=True)  # use all data\n",
    "#\n",
    "#    n_per_year = size_map[training_size]\n",
    "#    grouped = df.groupby(\"year\")\n",
    "#    sampled = grouped.apply(lambda x: x.sample(n=min(n_per_year, len(x)), random_state=random_state))\n",
    "#    return sampled.reset_index(drop=True)"
   ]
  },
  {
   "cell_type": "code",
   "execution_count": 25,
   "id": "6d931f52-beaf-43ff-9e78-9d44a448d54e",
   "metadata": {
    "execution": {
     "iopub.execute_input": "2025-07-30T19:57:49.236531Z",
     "iopub.status.busy": "2025-07-30T19:57:49.235497Z",
     "iopub.status.idle": "2025-07-30T19:57:49.240781Z",
     "shell.execute_reply": "2025-07-30T19:57:49.239708Z"
    },
    "papermill": {
     "duration": 0.030588,
     "end_time": "2025-07-30T19:57:49.242525",
     "exception": false,
     "start_time": "2025-07-30T19:57:49.211937",
     "status": "completed"
    },
    "tags": []
   },
   "outputs": [],
   "source": [
    "#siab_s = sample_by_year(siab, universe[\"training_size\"])"
   ]
  },
  {
   "cell_type": "code",
   "execution_count": 26,
   "id": "5db0a40e-a4e2-4920-be85-b12ae061d70d",
   "metadata": {
    "execution": {
     "iopub.execute_input": "2025-07-30T19:57:49.292098Z",
     "iopub.status.busy": "2025-07-30T19:57:49.291462Z",
     "iopub.status.idle": "2025-07-30T19:57:49.296949Z",
     "shell.execute_reply": "2025-07-30T19:57:49.295889Z"
    },
    "papermill": {
     "duration": 0.02933,
     "end_time": "2025-07-30T19:57:49.298703",
     "exception": false,
     "start_time": "2025-07-30T19:57:49.269373",
     "status": "completed"
    },
    "tags": []
   },
   "outputs": [],
   "source": [
    "#display(siab_s.groupby(\"year\").size())"
   ]
  },
  {
   "cell_type": "code",
   "execution_count": 27,
   "id": "e6c733c5",
   "metadata": {
    "execution": {
     "iopub.execute_input": "2025-07-30T19:57:49.348769Z",
     "iopub.status.busy": "2025-07-30T19:57:49.347902Z",
     "iopub.status.idle": "2025-07-30T19:57:49.447411Z",
     "shell.execute_reply": "2025-07-30T19:57:49.446449Z"
    },
    "papermill": {
     "duration": 0.127947,
     "end_time": "2025-07-30T19:57:49.449573",
     "exception": false,
     "start_time": "2025-07-30T19:57:49.321626",
     "status": "completed"
    },
    "tags": []
   },
   "outputs": [],
   "source": [
    "# Auxiliary data needed downstream in the pipeline\n",
    "\n",
    "org_train = X_train.copy()\n",
    "org_test = X_test.copy()\n",
    "org_calib = X_calib.copy()"
   ]
  },
  {
   "cell_type": "code",
   "execution_count": 28,
   "id": "1466abac-c6da-4492-a62f-4240ae3783af",
   "metadata": {
    "execution": {
     "iopub.execute_input": "2025-07-30T19:57:49.495450Z",
     "iopub.status.busy": "2025-07-30T19:57:49.494989Z",
     "iopub.status.idle": "2025-07-30T19:57:49.501386Z",
     "shell.execute_reply": "2025-07-30T19:57:49.500413Z"
    },
    "papermill": {
     "duration": 0.031079,
     "end_time": "2025-07-30T19:57:49.503067",
     "exception": false,
     "start_time": "2025-07-30T19:57:49.471988",
     "status": "completed"
    },
    "tags": []
   },
   "outputs": [],
   "source": [
    "# put in other script?\n",
    "# Group sizes\n",
    "\n",
    "#def calculate_percentages(df, df_name):\n",
    "#    total_entries = len(df)\n",
    "#\n",
    "#    female_pct = (df['frau1'] == 1).mean() * 100\n",
    "#    non_german_pct = ((df['maxdeutsch1'] == 0) & (df['maxdeutsch.Missing.'] == 0)).mean() * 100\n",
    "#    non_german_male_pct = ((df['frau1'] == 0) & (df['maxdeutsch1'] == 0) & (df['maxdeutsch.Missing.'] == 0)).mean() * 100\n",
    "#    non_german_female_pct = ((df['frau1'] == 1) & (df['maxdeutsch1'] == 0) & (df['maxdeutsch.Missing.'] == 0)).mean() * 100\n",
    "#\n",
    "#    print(f\"--- {df_name} ---\")\n",
    "#    print(f\"Female: {female_pct:.2f}%\")\n",
    "#    print(f\"Non-German: {non_german_pct:.2f}%\")\n",
    "#    print(f\"Non-German Male: {non_german_male_pct:.2f}%\")\n",
    "#    print(f\"Non-German Female: {non_german_female_pct:.2f}%\\n\")\n",
    "#\n",
    "## Calculate for each DataFrame\n",
    "#calculate_percentages(siab_calib, \"siab_calib\")\n",
    "#calculate_percentages(siab_test, \"siab_test\")\n",
    "#calculate_percentages(siab_train, \"siab_train\")"
   ]
  },
  {
   "cell_type": "markdown",
   "id": "0a4a1b33",
   "metadata": {
    "papermill": {
     "duration": 0.020959,
     "end_time": "2025-07-30T19:57:49.547736",
     "exception": false,
     "start_time": "2025-07-30T19:57:49.526777",
     "status": "completed"
    },
    "tags": []
   },
   "source": [
    "# Preprocessing Data"
   ]
  },
  {
   "cell_type": "code",
   "execution_count": 29,
   "id": "ca879031",
   "metadata": {
    "execution": {
     "iopub.execute_input": "2025-07-30T19:57:49.591544Z",
     "iopub.status.busy": "2025-07-30T19:57:49.591045Z",
     "iopub.status.idle": "2025-07-30T19:57:49.597344Z",
     "shell.execute_reply": "2025-07-30T19:57:49.596445Z"
    },
    "papermill": {
     "duration": 0.029945,
     "end_time": "2025-07-30T19:57:49.598968",
     "exception": false,
     "start_time": "2025-07-30T19:57:49.569023",
     "status": "completed"
    },
    "tags": []
   },
   "outputs": [],
   "source": [
    "# EXCLUDE PROTECTED FEATURES\n",
    "# ----------------------\n",
    "# \"exclude_features\": \"none\", # \"nationality\", \"sex\", \"nationality-sex\"\n",
    "\n",
    "excluded_features = universe[\"exclude_features\"].split(\"-\") # split, e.g.: \"nationality-sex\" -> [\"nationality\", \"sex\"]\n",
    "excluded_features_dictionary = {\n",
    "    \"nationality\": [\"maxdeutsch1\", \"maxdeutsch.Missing.\"],\n",
    "    \"sex\": [\"frau1\"],\n",
    "    \"age\": [\"age\"],\n",
    "}\n"
   ]
  },
  {
   "cell_type": "code",
   "execution_count": 30,
   "id": "b745ac60",
   "metadata": {
    "execution": {
     "iopub.execute_input": "2025-07-30T19:57:49.642184Z",
     "iopub.status.busy": "2025-07-30T19:57:49.641694Z",
     "iopub.status.idle": "2025-07-30T19:57:49.647663Z",
     "shell.execute_reply": "2025-07-30T19:57:49.646676Z"
    },
    "papermill": {
     "duration": 0.029589,
     "end_time": "2025-07-30T19:57:49.649499",
     "exception": false,
     "start_time": "2025-07-30T19:57:49.619910",
     "status": "completed"
    },
    "tags": []
   },
   "outputs": [],
   "source": [
    "# Code nice names to column names\n",
    "\n",
    "excluded_features_columns = [\n",
    "    excluded_features_dictionary[f] for f in excluded_features if len(f) > 0 and f != \"none\"\n",
    "]"
   ]
  },
  {
   "cell_type": "code",
   "execution_count": 31,
   "id": "f84f73a2",
   "metadata": {
    "execution": {
     "iopub.execute_input": "2025-07-30T19:57:49.695180Z",
     "iopub.status.busy": "2025-07-30T19:57:49.694138Z",
     "iopub.status.idle": "2025-07-30T19:57:49.700944Z",
     "shell.execute_reply": "2025-07-30T19:57:49.699921Z"
    },
    "papermill": {
     "duration": 0.030501,
     "end_time": "2025-07-30T19:57:49.702653",
     "exception": false,
     "start_time": "2025-07-30T19:57:49.672152",
     "status": "completed"
    },
    "tags": []
   },
   "outputs": [],
   "source": [
    "from utils import flatten_once\n",
    "\n",
    "excluded_features_columns = flatten_once(excluded_features_columns)"
   ]
  },
  {
   "cell_type": "code",
   "execution_count": 32,
   "id": "884dea22",
   "metadata": {
    "execution": {
     "iopub.execute_input": "2025-07-30T19:57:49.743362Z",
     "iopub.status.busy": "2025-07-30T19:57:49.742917Z",
     "iopub.status.idle": "2025-07-30T19:57:49.769331Z",
     "shell.execute_reply": "2025-07-30T19:57:49.768068Z"
    },
    "papermill": {
     "duration": 0.04452,
     "end_time": "2025-07-30T19:57:49.770961",
     "exception": false,
     "start_time": "2025-07-30T19:57:49.726441",
     "status": "completed"
    },
    "tags": []
   },
   "outputs": [
    {
     "name": "stdout",
     "output_type": "stream",
     "text": [
      "Dropping features: ['age']\n"
     ]
    }
   ],
   "source": [
    "if len(excluded_features_columns) > 0:\n",
    "    print(f\"Dropping features: {excluded_features_columns}\")\n",
    "    X_train.drop(excluded_features_columns, axis=1, inplace=True)"
   ]
  },
  {
   "cell_type": "code",
   "execution_count": 33,
   "id": "95ab8b16",
   "metadata": {
    "execution": {
     "iopub.execute_input": "2025-07-30T19:57:49.816247Z",
     "iopub.status.busy": "2025-07-30T19:57:49.815334Z",
     "iopub.status.idle": "2025-07-30T19:57:49.866308Z",
     "shell.execute_reply": "2025-07-30T19:57:49.865280Z"
    },
    "papermill": {
     "duration": 0.073523,
     "end_time": "2025-07-30T19:57:49.868899",
     "exception": false,
     "start_time": "2025-07-30T19:57:49.795376",
     "status": "completed"
    },
    "tags": []
   },
   "outputs": [
    {
     "name": "stdout",
     "output_type": "stream",
     "text": [
      "Dropping features: ['age']\n"
     ]
    }
   ],
   "source": [
    "if len(excluded_features_columns) > 0:\n",
    "    print(f\"Dropping features: {excluded_features_columns}\")\n",
    "    X_test.drop(excluded_features_columns, axis=1, inplace=True)"
   ]
  },
  {
   "cell_type": "code",
   "execution_count": 34,
   "id": "1853aaf5-fb9f-46cb-a2b5-8ea4ae2237e4",
   "metadata": {
    "execution": {
     "iopub.execute_input": "2025-07-30T19:57:49.894722Z",
     "iopub.status.busy": "2025-07-30T19:57:49.894360Z",
     "iopub.status.idle": "2025-07-30T19:57:49.943513Z",
     "shell.execute_reply": "2025-07-30T19:57:49.942638Z"
    },
    "papermill": {
     "duration": 0.063201,
     "end_time": "2025-07-30T19:57:49.945263",
     "exception": false,
     "start_time": "2025-07-30T19:57:49.882062",
     "status": "completed"
    },
    "tags": []
   },
   "outputs": [
    {
     "name": "stdout",
     "output_type": "stream",
     "text": [
      "Dropping features: ['age']\n"
     ]
    }
   ],
   "source": [
    "if len(excluded_features_columns) > 0:\n",
    "    print(f\"Dropping features: {excluded_features_columns}\")\n",
    "    X_calib.drop(excluded_features_columns, axis=1, inplace=True)"
   ]
  },
  {
   "cell_type": "code",
   "execution_count": 35,
   "id": "6727d079-03e5-481e-9d38-292a90b7a0a8",
   "metadata": {
    "execution": {
     "iopub.execute_input": "2025-07-30T19:57:49.984422Z",
     "iopub.status.busy": "2025-07-30T19:57:49.983944Z",
     "iopub.status.idle": "2025-07-30T19:57:49.988749Z",
     "shell.execute_reply": "2025-07-30T19:57:49.987698Z"
    },
    "papermill": {
     "duration": 0.025073,
     "end_time": "2025-07-30T19:57:49.994350",
     "exception": false,
     "start_time": "2025-07-30T19:57:49.969277",
     "status": "completed"
    },
    "tags": []
   },
   "outputs": [],
   "source": [
    "# SPLIT & STRATIFY DATA\n",
    "# ----------------------"
   ]
  },
  {
   "cell_type": "code",
   "execution_count": 36,
   "id": "76c4dc6d",
   "metadata": {
    "execution": {
     "iopub.execute_input": "2025-07-30T19:57:50.042925Z",
     "iopub.status.busy": "2025-07-30T19:57:50.042468Z",
     "iopub.status.idle": "2025-07-30T19:57:50.047969Z",
     "shell.execute_reply": "2025-07-30T19:57:50.047007Z"
    },
    "papermill": {
     "duration": 0.031557,
     "end_time": "2025-07-30T19:57:50.049509",
     "exception": false,
     "start_time": "2025-07-30T19:57:50.017952",
     "status": "completed"
    },
    "tags": []
   },
   "outputs": [],
   "source": [
    "# EXCLUDE CERTAIN SUBGROUPS\n",
    "# ----------------------\n",
    "\n",
    "mode = universe.get(\"exclude_subgroups\", \"keep-all\") \n",
    "# Fetches the exclude_subgroups setting from the universe dict.\n",
    "# Defaults to \"keep-all\" if the key is missing."
   ]
  },
  {
   "cell_type": "code",
   "execution_count": 37,
   "id": "21994072",
   "metadata": {
    "execution": {
     "iopub.execute_input": "2025-07-30T19:57:50.078083Z",
     "iopub.status.busy": "2025-07-30T19:57:50.077736Z",
     "iopub.status.idle": "2025-07-30T19:57:50.083140Z",
     "shell.execute_reply": "2025-07-30T19:57:50.082248Z"
    },
    "papermill": {
     "duration": 0.020302,
     "end_time": "2025-07-30T19:57:50.084695",
     "exception": false,
     "start_time": "2025-07-30T19:57:50.064393",
     "status": "completed"
    },
    "tags": []
   },
   "outputs": [],
   "source": [
    "if mode == \"keep-all\":\n",
    "    keep_mask = pd.Series(True, index=org_train.index)\n",
    "\n",
    "# org_train contains the original feature columns from features_org (in Simson)\n",
    "# features_org contains unprocessed features, for me X_train at beginning ???\n",
    "# For keep-all, creates a boolean Series (keep_mask) of all True, so no rows are removed.\n",
    "\n",
    "elif mode == \"drop-non-german\":\n",
    "    keep_mask = org_train[\"maxdeutsch1\"] == 1 # ??? what about missing values?\n",
    "\n",
    "else:\n",
    "    raise ValueError(f\"Unsupported mode for exclude_subgroups: {mode}\")\n"
   ]
  },
  {
   "cell_type": "code",
   "execution_count": 38,
   "id": "71651440",
   "metadata": {
    "execution": {
     "iopub.execute_input": "2025-07-30T19:57:50.111839Z",
     "iopub.status.busy": "2025-07-30T19:57:50.111487Z",
     "iopub.status.idle": "2025-07-30T19:57:50.117387Z",
     "shell.execute_reply": "2025-07-30T19:57:50.116374Z"
    },
    "papermill": {
     "duration": 0.020915,
     "end_time": "2025-07-30T19:57:50.118863",
     "exception": false,
     "start_time": "2025-07-30T19:57:50.097948",
     "status": "completed"
    },
    "tags": []
   },
   "outputs": [
    {
     "name": "stdout",
     "output_type": "stream",
     "text": [
      "Dropping 3688 rows (14.75%) where mode='drop-non-german'\n"
     ]
    }
   ],
   "source": [
    "n_drop = (~keep_mask).sum() # Calculates how many rows are set to be dropped\n",
    "if n_drop > 0:\n",
    "    pct = n_drop / len(keep_mask) * 100\n",
    "    print(f\"Dropping {n_drop} rows ({pct:.2f}%) where mode='{mode}'\")"
   ]
  },
  {
   "cell_type": "code",
   "execution_count": 39,
   "id": "5fb8eee5",
   "metadata": {
    "execution": {
     "iopub.execute_input": "2025-07-30T19:57:50.145893Z",
     "iopub.status.busy": "2025-07-30T19:57:50.145392Z",
     "iopub.status.idle": "2025-07-30T19:57:50.159825Z",
     "shell.execute_reply": "2025-07-30T19:57:50.158988Z"
    },
    "papermill": {
     "duration": 0.029428,
     "end_time": "2025-07-30T19:57:50.161592",
     "exception": false,
     "start_time": "2025-07-30T19:57:50.132164",
     "status": "completed"
    },
    "tags": []
   },
   "outputs": [],
   "source": [
    "X_train = X_train[keep_mask]"
   ]
  },
  {
   "cell_type": "code",
   "execution_count": 40,
   "id": "b202bb3a",
   "metadata": {
    "execution": {
     "iopub.execute_input": "2025-07-30T19:57:50.188545Z",
     "iopub.status.busy": "2025-07-30T19:57:50.187949Z",
     "iopub.status.idle": "2025-07-30T19:57:50.193835Z",
     "shell.execute_reply": "2025-07-30T19:57:50.192948Z"
    },
    "papermill": {
     "duration": 0.020533,
     "end_time": "2025-07-30T19:57:50.195352",
     "exception": false,
     "start_time": "2025-07-30T19:57:50.174819",
     "status": "completed"
    },
    "tags": []
   },
   "outputs": [],
   "source": [
    "y_train = y_train[keep_mask]"
   ]
  },
  {
   "cell_type": "markdown",
   "id": "493e2ac3",
   "metadata": {
    "papermill": {
     "duration": 0.012387,
     "end_time": "2025-07-30T19:57:50.221216",
     "exception": false,
     "start_time": "2025-07-30T19:57:50.208829",
     "status": "completed"
    },
    "tags": []
   },
   "source": [
    "# Model Training"
   ]
  },
  {
   "cell_type": "code",
   "execution_count": 41,
   "id": "679e1268",
   "metadata": {
    "execution": {
     "iopub.execute_input": "2025-07-30T19:57:50.247136Z",
     "iopub.status.busy": "2025-07-30T19:57:50.246630Z",
     "iopub.status.idle": "2025-07-30T19:57:50.322207Z",
     "shell.execute_reply": "2025-07-30T19:57:50.321462Z"
    },
    "papermill": {
     "duration": 0.090334,
     "end_time": "2025-07-30T19:57:50.323678",
     "exception": false,
     "start_time": "2025-07-30T19:57:50.233344",
     "status": "completed"
    },
    "tags": []
   },
   "outputs": [],
   "source": [
    "from sklearn.linear_model import LogisticRegression\n",
    "from sklearn.ensemble import GradientBoostingClassifier, RandomForestClassifier\n",
    "\n",
    "if (universe[\"model\"] == \"logreg\"):\n",
    "    model = LogisticRegression() #penalty=\"none\") #, solver=\"newton-cg\", max_iter=1) # include random_state=19 ?\n",
    "elif (universe[\"model\"] == \"penalized_logreg\"):\n",
    "    model = LogisticRegression(penalty=\"l2\", C=1.0) #, solver=\"newton-cg\", max_iter=1)\n",
    "elif (universe[\"model\"] == \"rf\"):\n",
    "    model = RandomForestClassifier(n_estimators=100, n_jobs=-1)\n",
    "elif (universe[\"model\"] == \"gbm\"):\n",
    "    model = GradientBoostingClassifier()\n",
    "elif (universe[\"model\"] == \"elasticnet\"):\n",
    "    model = LogisticRegression(penalty = 'elasticnet', solver = 'saga', l1_ratio = 0.5, max_iter=5000) # which solver to use?\n",
    "else:\n",
    "    raise \"Unsupported universe.model\""
   ]
  },
  {
   "cell_type": "code",
   "execution_count": 42,
   "id": "0cc8f744",
   "metadata": {
    "execution": {
     "iopub.execute_input": "2025-07-30T19:57:50.350324Z",
     "iopub.status.busy": "2025-07-30T19:57:50.349970Z",
     "iopub.status.idle": "2025-07-30T19:57:50.355274Z",
     "shell.execute_reply": "2025-07-30T19:57:50.354306Z"
    },
    "papermill": {
     "duration": 0.020398,
     "end_time": "2025-07-30T19:57:50.356787",
     "exception": false,
     "start_time": "2025-07-30T19:57:50.336389",
     "status": "completed"
    },
    "tags": []
   },
   "outputs": [],
   "source": [
    "import numpy as np\n",
    "from sklearn.pipeline import Pipeline\n",
    "from sklearn.preprocessing import StandardScaler\n",
    "\n",
    "model = Pipeline([\n",
    "    #(\"continuous_processor\", continuous_processor),\n",
    "    #(\"categorical_preprocessor\", categorical_preprocessor),\n",
    "    (\"scale\", StandardScaler() if universe[\"scale\"] == \"scale\" else None), \n",
    "    (\"model\", model),\n",
    "])"
   ]
  },
  {
   "cell_type": "code",
   "execution_count": 43,
   "id": "9442c04d",
   "metadata": {
    "execution": {
     "iopub.execute_input": "2025-07-30T19:57:50.384711Z",
     "iopub.status.busy": "2025-07-30T19:57:50.384175Z",
     "iopub.status.idle": "2025-07-30T19:57:51.035983Z",
     "shell.execute_reply": "2025-07-30T19:57:51.035268Z"
    },
    "papermill": {
     "duration": 0.666832,
     "end_time": "2025-07-30T19:57:51.037367",
     "exception": false,
     "start_time": "2025-07-30T19:57:50.370535",
     "status": "completed"
    },
    "tags": []
   },
   "outputs": [
    {
     "name": "stderr",
     "output_type": "stream",
     "text": [
      "/dss/dsshome1/0C/ra93lal2/.local/share/virtualenvs/CMA_Fairness_v2-3j10GkSs/lib/python3.10/site-packages/sklearn/linear_model/_logistic.py:444: ConvergenceWarning: lbfgs failed to converge (status=1):\n",
      "STOP: TOTAL NO. of ITERATIONS REACHED LIMIT.\n",
      "\n",
      "Increase the number of iterations (max_iter) or scale the data as shown in:\n",
      "    https://scikit-learn.org/stable/modules/preprocessing.html\n",
      "Please also refer to the documentation for alternative solver options:\n",
      "    https://scikit-learn.org/stable/modules/linear_model.html#logistic-regression\n",
      "  n_iter_i = _check_optimize_result(\n"
     ]
    },
    {
     "data": {
      "text/html": [
       "<style>#sk-container-id-1 {color: black;background-color: white;}#sk-container-id-1 pre{padding: 0;}#sk-container-id-1 div.sk-toggleable {background-color: white;}#sk-container-id-1 label.sk-toggleable__label {cursor: pointer;display: block;width: 100%;margin-bottom: 0;padding: 0.3em;box-sizing: border-box;text-align: center;}#sk-container-id-1 label.sk-toggleable__label-arrow:before {content: \"▸\";float: left;margin-right: 0.25em;color: #696969;}#sk-container-id-1 label.sk-toggleable__label-arrow:hover:before {color: black;}#sk-container-id-1 div.sk-estimator:hover label.sk-toggleable__label-arrow:before {color: black;}#sk-container-id-1 div.sk-toggleable__content {max-height: 0;max-width: 0;overflow: hidden;text-align: left;background-color: #f0f8ff;}#sk-container-id-1 div.sk-toggleable__content pre {margin: 0.2em;color: black;border-radius: 0.25em;background-color: #f0f8ff;}#sk-container-id-1 input.sk-toggleable__control:checked~div.sk-toggleable__content {max-height: 200px;max-width: 100%;overflow: auto;}#sk-container-id-1 input.sk-toggleable__control:checked~label.sk-toggleable__label-arrow:before {content: \"▾\";}#sk-container-id-1 div.sk-estimator input.sk-toggleable__control:checked~label.sk-toggleable__label {background-color: #d4ebff;}#sk-container-id-1 div.sk-label input.sk-toggleable__control:checked~label.sk-toggleable__label {background-color: #d4ebff;}#sk-container-id-1 input.sk-hidden--visually {border: 0;clip: rect(1px 1px 1px 1px);clip: rect(1px, 1px, 1px, 1px);height: 1px;margin: -1px;overflow: hidden;padding: 0;position: absolute;width: 1px;}#sk-container-id-1 div.sk-estimator {font-family: monospace;background-color: #f0f8ff;border: 1px dotted black;border-radius: 0.25em;box-sizing: border-box;margin-bottom: 0.5em;}#sk-container-id-1 div.sk-estimator:hover {background-color: #d4ebff;}#sk-container-id-1 div.sk-parallel-item::after {content: \"\";width: 100%;border-bottom: 1px solid gray;flex-grow: 1;}#sk-container-id-1 div.sk-label:hover label.sk-toggleable__label {background-color: #d4ebff;}#sk-container-id-1 div.sk-serial::before {content: \"\";position: absolute;border-left: 1px solid gray;box-sizing: border-box;top: 0;bottom: 0;left: 50%;z-index: 0;}#sk-container-id-1 div.sk-serial {display: flex;flex-direction: column;align-items: center;background-color: white;padding-right: 0.2em;padding-left: 0.2em;position: relative;}#sk-container-id-1 div.sk-item {position: relative;z-index: 1;}#sk-container-id-1 div.sk-parallel {display: flex;align-items: stretch;justify-content: center;background-color: white;position: relative;}#sk-container-id-1 div.sk-item::before, #sk-container-id-1 div.sk-parallel-item::before {content: \"\";position: absolute;border-left: 1px solid gray;box-sizing: border-box;top: 0;bottom: 0;left: 50%;z-index: -1;}#sk-container-id-1 div.sk-parallel-item {display: flex;flex-direction: column;z-index: 1;position: relative;background-color: white;}#sk-container-id-1 div.sk-parallel-item:first-child::after {align-self: flex-end;width: 50%;}#sk-container-id-1 div.sk-parallel-item:last-child::after {align-self: flex-start;width: 50%;}#sk-container-id-1 div.sk-parallel-item:only-child::after {width: 0;}#sk-container-id-1 div.sk-dashed-wrapped {border: 1px dashed gray;margin: 0 0.4em 0.5em 0.4em;box-sizing: border-box;padding-bottom: 0.4em;background-color: white;}#sk-container-id-1 div.sk-label label {font-family: monospace;font-weight: bold;display: inline-block;line-height: 1.2em;}#sk-container-id-1 div.sk-label-container {text-align: center;}#sk-container-id-1 div.sk-container {/* jupyter's `normalize.less` sets `[hidden] { display: none; }` but bootstrap.min.css set `[hidden] { display: none !important; }` so we also need the `!important` here to be able to override the default hidden behavior on the sphinx rendered scikit-learn.org. See: https://github.com/scikit-learn/scikit-learn/issues/21755 */display: inline-block !important;position: relative;}#sk-container-id-1 div.sk-text-repr-fallback {display: none;}</style><div id=\"sk-container-id-1\" class=\"sk-top-container\"><div class=\"sk-text-repr-fallback\"><pre>Pipeline(steps=[(&#x27;scale&#x27;, None), (&#x27;model&#x27;, LogisticRegression())])</pre><b>In a Jupyter environment, please rerun this cell to show the HTML representation or trust the notebook. <br />On GitHub, the HTML representation is unable to render, please try loading this page with nbviewer.org.</b></div><div class=\"sk-container\" hidden><div class=\"sk-item sk-dashed-wrapped\"><div class=\"sk-label-container\"><div class=\"sk-label sk-toggleable\"><input class=\"sk-toggleable__control sk-hidden--visually\" id=\"sk-estimator-id-1\" type=\"checkbox\" ><label for=\"sk-estimator-id-1\" class=\"sk-toggleable__label sk-toggleable__label-arrow\">Pipeline</label><div class=\"sk-toggleable__content\"><pre>Pipeline(steps=[(&#x27;scale&#x27;, None), (&#x27;model&#x27;, LogisticRegression())])</pre></div></div></div><div class=\"sk-serial\"><div class=\"sk-item\"><div class=\"sk-estimator sk-toggleable\"><input class=\"sk-toggleable__control sk-hidden--visually\" id=\"sk-estimator-id-2\" type=\"checkbox\" ><label for=\"sk-estimator-id-2\" class=\"sk-toggleable__label sk-toggleable__label-arrow\">None</label><div class=\"sk-toggleable__content\"><pre>None</pre></div></div></div><div class=\"sk-item\"><div class=\"sk-estimator sk-toggleable\"><input class=\"sk-toggleable__control sk-hidden--visually\" id=\"sk-estimator-id-3\" type=\"checkbox\" ><label for=\"sk-estimator-id-3\" class=\"sk-toggleable__label sk-toggleable__label-arrow\">LogisticRegression</label><div class=\"sk-toggleable__content\"><pre>LogisticRegression()</pre></div></div></div></div></div></div></div>"
      ],
      "text/plain": [
       "Pipeline(steps=[('scale', None), ('model', LogisticRegression())])"
      ]
     },
     "execution_count": 43,
     "metadata": {},
     "output_type": "execute_result"
    }
   ],
   "source": [
    "model.fit(X_train, y_train.values.ravel())"
   ]
  },
  {
   "cell_type": "code",
   "execution_count": 44,
   "id": "af59f8c0",
   "metadata": {
    "execution": {
     "iopub.execute_input": "2025-07-30T19:57:51.065667Z",
     "iopub.status.busy": "2025-07-30T19:57:51.064769Z",
     "iopub.status.idle": "2025-07-30T19:57:51.070177Z",
     "shell.execute_reply": "2025-07-30T19:57:51.069225Z"
    },
    "papermill": {
     "duration": 0.021681,
     "end_time": "2025-07-30T19:57:51.072391",
     "exception": false,
     "start_time": "2025-07-30T19:57:51.050710",
     "status": "completed"
    },
    "tags": []
   },
   "outputs": [],
   "source": [
    "from fairness_multiverse.universe import predict_w_threshold"
   ]
  },
  {
   "cell_type": "code",
   "execution_count": 45,
   "id": "a7cf2e16",
   "metadata": {
    "execution": {
     "iopub.execute_input": "2025-07-30T19:57:51.127828Z",
     "iopub.status.busy": "2025-07-30T19:57:51.127456Z",
     "iopub.status.idle": "2025-07-30T19:57:51.226022Z",
     "shell.execute_reply": "2025-07-30T19:57:51.225308Z"
    },
    "papermill": {
     "duration": 0.129052,
     "end_time": "2025-07-30T19:57:51.227419",
     "exception": false,
     "start_time": "2025-07-30T19:57:51.098367",
     "status": "completed"
    },
    "tags": []
   },
   "outputs": [
    {
     "data": {
      "text/plain": [
       "0.8619217478541968"
      ]
     },
     "execution_count": 45,
     "metadata": {},
     "output_type": "execute_result"
    }
   ],
   "source": [
    "probs_test = model.predict_proba(X_test)\n",
    "\n",
    "'''\n",
    "Below code returns a boolean array (or binary 0/1 array depending on how it’s used) where each element \n",
    "is True if the probability of class 1 is greater than or equal to the threshold, and False otherwise.\n",
    "'''\n",
    "y_pred_default = predict_w_threshold(probs_test, 0.5)\n",
    "\n",
    "from sklearn.metrics import accuracy_score\n",
    "\n",
    "# Naive prediction\n",
    "accuracy_score(y_true = y_true, y_pred = y_pred_default)"
   ]
  },
  {
   "cell_type": "code",
   "execution_count": 46,
   "id": "081964c3",
   "metadata": {
    "execution": {
     "iopub.execute_input": "2025-07-30T19:57:51.255629Z",
     "iopub.status.busy": "2025-07-30T19:57:51.255109Z",
     "iopub.status.idle": "2025-07-30T19:57:51.340905Z",
     "shell.execute_reply": "2025-07-30T19:57:51.340177Z"
    },
    "papermill": {
     "duration": 0.10141,
     "end_time": "2025-07-30T19:57:51.342392",
     "exception": false,
     "start_time": "2025-07-30T19:57:51.240982",
     "status": "completed"
    },
    "tags": []
   },
   "outputs": [
    {
     "data": {
      "text/plain": [
       "array([0, 0, 0, ..., 0, 0, 0])"
      ]
     },
     "execution_count": 46,
     "metadata": {},
     "output_type": "execute_result"
    }
   ],
   "source": [
    "model.predict(X_test)"
   ]
  },
  {
   "cell_type": "markdown",
   "id": "56c9705b",
   "metadata": {
    "papermill": {
     "duration": 0.027453,
     "end_time": "2025-07-30T19:57:51.395932",
     "exception": false,
     "start_time": "2025-07-30T19:57:51.368479",
     "status": "completed"
    },
    "tags": []
   },
   "source": [
    "# Conformal Prediction"
   ]
  },
  {
   "cell_type": "code",
   "execution_count": 47,
   "id": "160ec6ff",
   "metadata": {
    "execution": {
     "iopub.execute_input": "2025-07-30T19:57:51.450248Z",
     "iopub.status.busy": "2025-07-30T19:57:51.449760Z",
     "iopub.status.idle": "2025-07-30T19:57:51.454647Z",
     "shell.execute_reply": "2025-07-30T19:57:51.453645Z"
    },
    "papermill": {
     "duration": 0.034541,
     "end_time": "2025-07-30T19:57:51.456869",
     "exception": false,
     "start_time": "2025-07-30T19:57:51.422328",
     "status": "completed"
    },
    "tags": []
   },
   "outputs": [],
   "source": [
    "# Miscoverage level for conformal prediction (10% allowed error rate => 90% target coverage)\n",
    "alpha = 0.1"
   ]
  },
  {
   "cell_type": "code",
   "execution_count": 48,
   "id": "eadf4555-3dd3-440e-8e35-f82a4ad9f855",
   "metadata": {
    "execution": {
     "iopub.execute_input": "2025-07-30T19:57:51.509467Z",
     "iopub.status.busy": "2025-07-30T19:57:51.508968Z",
     "iopub.status.idle": "2025-07-30T19:57:51.592073Z",
     "shell.execute_reply": "2025-07-30T19:57:51.591016Z"
    },
    "papermill": {
     "duration": 0.1115,
     "end_time": "2025-07-30T19:57:51.593755",
     "exception": false,
     "start_time": "2025-07-30T19:57:51.482255",
     "status": "completed"
    },
    "tags": []
   },
   "outputs": [],
   "source": [
    "probs_calib = model.predict_proba(X_calib)"
   ]
  },
  {
   "cell_type": "code",
   "execution_count": 49,
   "id": "2ed93547-6d5d-4983-9b36-1ecb300da49a",
   "metadata": {
    "execution": {
     "iopub.execute_input": "2025-07-30T19:57:51.646343Z",
     "iopub.status.busy": "2025-07-30T19:57:51.645863Z",
     "iopub.status.idle": "2025-07-30T19:57:51.663915Z",
     "shell.execute_reply": "2025-07-30T19:57:51.662850Z"
    },
    "papermill": {
     "duration": 0.055667,
     "end_time": "2025-07-30T19:57:51.665889",
     "exception": false,
     "start_time": "2025-07-30T19:57:51.610222",
     "status": "completed"
    },
    "tags": []
   },
   "outputs": [],
   "source": [
    "y_calib = y_calib.values.ravel().astype(int)"
   ]
  },
  {
   "cell_type": "code",
   "execution_count": 50,
   "id": "65d1320d-f588-4b38-9072-62af1ae97f7d",
   "metadata": {
    "execution": {
     "iopub.execute_input": "2025-07-30T19:57:51.719123Z",
     "iopub.status.busy": "2025-07-30T19:57:51.718417Z",
     "iopub.status.idle": "2025-07-30T19:57:51.725839Z",
     "shell.execute_reply": "2025-07-30T19:57:51.724844Z"
    },
    "papermill": {
     "duration": 0.037274,
     "end_time": "2025-07-30T19:57:51.727365",
     "exception": false,
     "start_time": "2025-07-30T19:57:51.690091",
     "status": "completed"
    },
    "tags": []
   },
   "outputs": [],
   "source": [
    "from fairness_multiverse.conformal import compute_nc_scores\n",
    "\n",
    "# Compute nonconformity scores on calibration set (1 - probability of true class)\n",
    "nc_scores = compute_nc_scores(probs_calib, y_calib)"
   ]
  },
  {
   "cell_type": "code",
   "execution_count": 51,
   "id": "df3b8ca3-53b7-43d5-9667-7c85da7aeda2",
   "metadata": {
    "execution": {
     "iopub.execute_input": "2025-07-30T19:57:51.781414Z",
     "iopub.status.busy": "2025-07-30T19:57:51.780866Z",
     "iopub.status.idle": "2025-07-30T19:57:51.787975Z",
     "shell.execute_reply": "2025-07-30T19:57:51.787058Z"
    },
    "papermill": {
     "duration": 0.036316,
     "end_time": "2025-07-30T19:57:51.789519",
     "exception": false,
     "start_time": "2025-07-30T19:57:51.753203",
     "status": "completed"
    },
    "tags": []
   },
   "outputs": [],
   "source": [
    "from fairness_multiverse.conformal import find_threshold\n",
    "\n",
    "# Find conformal threshold q_hat for the given alpha (split conformal method)\n",
    "q_hat = find_threshold(nc_scores, alpha)"
   ]
  },
  {
   "cell_type": "code",
   "execution_count": 52,
   "id": "4d29e6c1-0ef6-4aa4-b8fe-4fe79b0d033a",
   "metadata": {
    "execution": {
     "iopub.execute_input": "2025-07-30T19:57:51.841541Z",
     "iopub.status.busy": "2025-07-30T19:57:51.841023Z",
     "iopub.status.idle": "2025-07-30T19:57:51.848653Z",
     "shell.execute_reply": "2025-07-30T19:57:51.847545Z"
    },
    "papermill": {
     "duration": 0.035997,
     "end_time": "2025-07-30T19:57:51.850262",
     "exception": false,
     "start_time": "2025-07-30T19:57:51.814265",
     "status": "completed"
    },
    "tags": []
   },
   "outputs": [
    {
     "data": {
      "text/plain": [
       "0.6468475962834543"
      ]
     },
     "execution_count": 52,
     "metadata": {},
     "output_type": "execute_result"
    }
   ],
   "source": [
    "q_hat"
   ]
  },
  {
   "cell_type": "code",
   "execution_count": 53,
   "id": "92460794-cdac-4be2-ba28-f28c0515a6fb",
   "metadata": {
    "execution": {
     "iopub.execute_input": "2025-07-30T19:57:51.903565Z",
     "iopub.status.busy": "2025-07-30T19:57:51.902834Z",
     "iopub.status.idle": "2025-07-30T19:57:52.774792Z",
     "shell.execute_reply": "2025-07-30T19:57:52.773791Z"
    },
    "papermill": {
     "duration": 0.901207,
     "end_time": "2025-07-30T19:57:52.776727",
     "exception": false,
     "start_time": "2025-07-30T19:57:51.875520",
     "status": "completed"
    },
    "tags": []
   },
   "outputs": [],
   "source": [
    "from fairness_multiverse.conformal import predict_conformal_sets\n",
    "\n",
    "# Generate prediction sets for each test example\n",
    "pred_sets = predict_conformal_sets(model, X_test, q_hat)"
   ]
  },
  {
   "cell_type": "code",
   "execution_count": 54,
   "id": "d90c9a65-e6db-4f5d-80cd-e68fb7e46829",
   "metadata": {
    "execution": {
     "iopub.execute_input": "2025-07-30T19:57:52.829561Z",
     "iopub.status.busy": "2025-07-30T19:57:52.828840Z",
     "iopub.status.idle": "2025-07-30T19:57:52.835089Z",
     "shell.execute_reply": "2025-07-30T19:57:52.833819Z"
    },
    "papermill": {
     "duration": 0.034534,
     "end_time": "2025-07-30T19:57:52.836931",
     "exception": false,
     "start_time": "2025-07-30T19:57:52.802397",
     "status": "completed"
    },
    "tags": []
   },
   "outputs": [],
   "source": [
    "y_true = y_true.squeeze()"
   ]
  },
  {
   "cell_type": "code",
   "execution_count": 55,
   "id": "3a58a54a-1e68-46b9-927a-df01f18aebc8",
   "metadata": {
    "execution": {
     "iopub.execute_input": "2025-07-30T19:57:52.889907Z",
     "iopub.status.busy": "2025-07-30T19:57:52.889397Z",
     "iopub.status.idle": "2025-07-30T19:57:53.848860Z",
     "shell.execute_reply": "2025-07-30T19:57:53.848053Z"
    },
    "papermill": {
     "duration": 0.987624,
     "end_time": "2025-07-30T19:57:53.850994",
     "exception": false,
     "start_time": "2025-07-30T19:57:52.863370",
     "status": "completed"
    },
    "tags": []
   },
   "outputs": [],
   "source": [
    "from fairness_multiverse.conformal import evaluate_sets\n",
    "\n",
    "# Evaluate coverage and average set size on test data\n",
    "metrics = evaluate_sets(pred_sets, y_true)"
   ]
  },
  {
   "cell_type": "markdown",
   "id": "2b569c12-9aaa-4c88-98c9-bbcd0cf3ebb8",
   "metadata": {
    "papermill": {
     "duration": 0.030742,
     "end_time": "2025-07-30T19:57:53.913161",
     "exception": false,
     "start_time": "2025-07-30T19:57:53.882419",
     "status": "completed"
    },
    "tags": []
   },
   "source": [
    "# CP Metrics"
   ]
  },
  {
   "cell_type": "code",
   "execution_count": 56,
   "id": "5ce0a5cb-201f-45a0-ade5-94c7f0bd6095",
   "metadata": {
    "execution": {
     "iopub.execute_input": "2025-07-30T19:57:53.968170Z",
     "iopub.status.busy": "2025-07-30T19:57:53.967171Z",
     "iopub.status.idle": "2025-07-30T19:57:53.976605Z",
     "shell.execute_reply": "2025-07-30T19:57:53.974075Z"
    },
    "papermill": {
     "duration": 0.0402,
     "end_time": "2025-07-30T19:57:53.980189",
     "exception": false,
     "start_time": "2025-07-30T19:57:53.939989",
     "status": "completed"
    },
    "tags": []
   },
   "outputs": [
    {
     "data": {
      "text/plain": [
       "{'coverage': 0.9131423475643741, 'avg_size': 1.249871809162858}"
      ]
     },
     "execution_count": 56,
     "metadata": {},
     "output_type": "execute_result"
    }
   ],
   "source": [
    "metrics"
   ]
  },
  {
   "cell_type": "code",
   "execution_count": 57,
   "id": "9b9a838d-31c9-430b-ae14-12baee460d17",
   "metadata": {
    "execution": {
     "iopub.execute_input": "2025-07-30T19:57:54.038005Z",
     "iopub.status.busy": "2025-07-30T19:57:54.037094Z",
     "iopub.status.idle": "2025-07-30T19:57:54.044388Z",
     "shell.execute_reply": "2025-07-30T19:57:54.043460Z"
    },
    "papermill": {
     "duration": 0.038262,
     "end_time": "2025-07-30T19:57:54.046966",
     "exception": false,
     "start_time": "2025-07-30T19:57:54.008704",
     "status": "completed"
    },
    "tags": []
   },
   "outputs": [],
   "source": [
    "example_universe = universe.copy()\n",
    "universe_training_year = example_universe.get(\"training_year\")\n",
    "universe_training_size = example_universe.get(\"training_size\")\n",
    "universe_scale = example_universe.get(\"scale\")\n",
    "universe_model = example_universe.get(\"model\")\n",
    "universe_exclude_features = example_universe.get(\"exclude_features\")\n",
    "universe_exclude_subgroups = example_universe.get(\"exclude_subgroups\")"
   ]
  },
  {
   "cell_type": "code",
   "execution_count": 58,
   "id": "f4b6a8ac-9dc0-4245-8a91-5b3b5999c4f9",
   "metadata": {
    "execution": {
     "iopub.execute_input": "2025-07-30T19:57:54.117413Z",
     "iopub.status.busy": "2025-07-30T19:57:54.116994Z",
     "iopub.status.idle": "2025-07-30T19:57:54.123262Z",
     "shell.execute_reply": "2025-07-30T19:57:54.121783Z"
    },
    "papermill": {
     "duration": 0.044095,
     "end_time": "2025-07-30T19:57:54.125595",
     "exception": false,
     "start_time": "2025-07-30T19:57:54.081500",
     "status": "completed"
    },
    "tags": []
   },
   "outputs": [],
   "source": [
    "cp_metrics_dict = {\n",
    "    \"universe_id\": [universe_id],\n",
    "    \"universe_training_year\": [universe_training_year],\n",
    "    \"universe_training_size\": [universe_training_size],\n",
    "    \"universe_scale\": [universe_scale],\n",
    "    \"universe_model\": [universe_model],\n",
    "    \"universe_exclude_features\": [universe_exclude_features],\n",
    "    \"universe_exclude_subgroups\": [universe_exclude_subgroups],\n",
    "    \"q_hat\": [q_hat],\n",
    "    \"coverage\": [metrics[\"coverage\"]],\n",
    "    \"avg_size\": [metrics[\"avg_size\"]],\n",
    "}"
   ]
  },
  {
   "cell_type": "code",
   "execution_count": 59,
   "id": "908acbb1-0371-4915-85ca-3fa520d2efe2",
   "metadata": {
    "execution": {
     "iopub.execute_input": "2025-07-30T19:57:54.206134Z",
     "iopub.status.busy": "2025-07-30T19:57:54.205731Z",
     "iopub.status.idle": "2025-07-30T19:57:54.214667Z",
     "shell.execute_reply": "2025-07-30T19:57:54.213685Z"
    },
    "papermill": {
     "duration": 0.051999,
     "end_time": "2025-07-30T19:57:54.217112",
     "exception": false,
     "start_time": "2025-07-30T19:57:54.165113",
     "status": "completed"
    },
    "tags": []
   },
   "outputs": [
    {
     "data": {
      "text/plain": [
       "{'universe_id': ['674ce84a3e0057a40b025fcd3052b8ba'],\n",
       " 'universe_training_year': ['2014'],\n",
       " 'universe_training_size': ['25k'],\n",
       " 'universe_scale': ['do-not-scale'],\n",
       " 'universe_model': ['logreg'],\n",
       " 'universe_exclude_features': ['age'],\n",
       " 'universe_exclude_subgroups': ['drop-non-german'],\n",
       " 'q_hat': [0.6468475962834543],\n",
       " 'coverage': [0.9131423475643741],\n",
       " 'avg_size': [1.249871809162858]}"
      ]
     },
     "execution_count": 59,
     "metadata": {},
     "output_type": "execute_result"
    }
   ],
   "source": [
    "cp_metrics_dict"
   ]
  },
  {
   "cell_type": "code",
   "execution_count": 60,
   "id": "33007efc-14e9-4ec6-97ac-56a455c82265",
   "metadata": {
    "execution": {
     "iopub.execute_input": "2025-07-30T19:57:54.301710Z",
     "iopub.status.busy": "2025-07-30T19:57:54.301317Z",
     "iopub.status.idle": "2025-07-30T19:57:54.308223Z",
     "shell.execute_reply": "2025-07-30T19:57:54.306930Z"
    },
    "papermill": {
     "duration": 0.053688,
     "end_time": "2025-07-30T19:57:54.310598",
     "exception": false,
     "start_time": "2025-07-30T19:57:54.256910",
     "status": "completed"
    },
    "tags": []
   },
   "outputs": [],
   "source": [
    "cp_metrics_df = pd.DataFrame(cp_metrics_dict)"
   ]
  },
  {
   "cell_type": "code",
   "execution_count": 61,
   "id": "db12611b-57b2-4910-b9d0-355adfd6e7bf",
   "metadata": {
    "execution": {
     "iopub.execute_input": "2025-07-30T19:57:54.390119Z",
     "iopub.status.busy": "2025-07-30T19:57:54.389614Z",
     "iopub.status.idle": "2025-07-30T19:57:54.408923Z",
     "shell.execute_reply": "2025-07-30T19:57:54.407734Z"
    },
    "papermill": {
     "duration": 0.068584,
     "end_time": "2025-07-30T19:57:54.418814",
     "exception": false,
     "start_time": "2025-07-30T19:57:54.350230",
     "status": "completed"
    },
    "tags": []
   },
   "outputs": [
    {
     "data": {
      "text/html": [
       "<div>\n",
       "<style scoped>\n",
       "    .dataframe tbody tr th:only-of-type {\n",
       "        vertical-align: middle;\n",
       "    }\n",
       "\n",
       "    .dataframe tbody tr th {\n",
       "        vertical-align: top;\n",
       "    }\n",
       "\n",
       "    .dataframe thead th {\n",
       "        text-align: right;\n",
       "    }\n",
       "</style>\n",
       "<table border=\"1\" class=\"dataframe\">\n",
       "  <thead>\n",
       "    <tr style=\"text-align: right;\">\n",
       "      <th></th>\n",
       "      <th>universe_id</th>\n",
       "      <th>universe_training_year</th>\n",
       "      <th>universe_training_size</th>\n",
       "      <th>universe_scale</th>\n",
       "      <th>universe_model</th>\n",
       "      <th>universe_exclude_features</th>\n",
       "      <th>universe_exclude_subgroups</th>\n",
       "      <th>q_hat</th>\n",
       "      <th>coverage</th>\n",
       "      <th>avg_size</th>\n",
       "    </tr>\n",
       "  </thead>\n",
       "  <tbody>\n",
       "    <tr>\n",
       "      <th>0</th>\n",
       "      <td>674ce84a3e0057a40b025fcd3052b8ba</td>\n",
       "      <td>2014</td>\n",
       "      <td>25k</td>\n",
       "      <td>do-not-scale</td>\n",
       "      <td>logreg</td>\n",
       "      <td>age</td>\n",
       "      <td>drop-non-german</td>\n",
       "      <td>0.646848</td>\n",
       "      <td>0.913142</td>\n",
       "      <td>1.249872</td>\n",
       "    </tr>\n",
       "  </tbody>\n",
       "</table>\n",
       "</div>"
      ],
      "text/plain": [
       "                        universe_id universe_training_year  \\\n",
       "0  674ce84a3e0057a40b025fcd3052b8ba                   2014   \n",
       "\n",
       "  universe_training_size universe_scale universe_model  \\\n",
       "0                    25k   do-not-scale         logreg   \n",
       "\n",
       "  universe_exclude_features universe_exclude_subgroups     q_hat  coverage  \\\n",
       "0                       age            drop-non-german  0.646848  0.913142   \n",
       "\n",
       "   avg_size  \n",
       "0  1.249872  "
      ]
     },
     "execution_count": 61,
     "metadata": {},
     "output_type": "execute_result"
    }
   ],
   "source": [
    "cp_metrics_df"
   ]
  },
  {
   "cell_type": "code",
   "execution_count": 62,
   "id": "b7fbde55-a0a1-47e4-9af6-fe4a17fa8c61",
   "metadata": {
    "execution": {
     "iopub.execute_input": "2025-07-30T19:57:54.490933Z",
     "iopub.status.busy": "2025-07-30T19:57:54.490281Z",
     "iopub.status.idle": "2025-07-30T19:57:54.496553Z",
     "shell.execute_reply": "2025-07-30T19:57:54.495546Z"
    },
    "papermill": {
     "duration": 0.038003,
     "end_time": "2025-07-30T19:57:54.498968",
     "exception": false,
     "start_time": "2025-07-30T19:57:54.460965",
     "status": "completed"
    },
    "tags": []
   },
   "outputs": [],
   "source": [
    "# Conditional Coverage & looking at subgroups"
   ]
  },
  {
   "cell_type": "code",
   "execution_count": 63,
   "id": "027ae886-68dd-4141-96c7-805a5450e1ef",
   "metadata": {
    "execution": {
     "iopub.execute_input": "2025-07-30T19:57:54.578341Z",
     "iopub.status.busy": "2025-07-30T19:57:54.577523Z",
     "iopub.status.idle": "2025-07-30T19:57:54.848210Z",
     "shell.execute_reply": "2025-07-30T19:57:54.847207Z"
    },
    "papermill": {
     "duration": 0.313562,
     "end_time": "2025-07-30T19:57:54.850577",
     "exception": false,
     "start_time": "2025-07-30T19:57:54.537015",
     "status": "completed"
    },
    "tags": []
   },
   "outputs": [],
   "source": [
    "from fairness_multiverse.conformal import build_cp_groups\n",
    "\n",
    "cp_groups_df = build_cp_groups(pred_sets, y_true, X_test.index, org_test)\n",
    "#needs universe_id and setting"
   ]
  },
  {
   "cell_type": "code",
   "execution_count": 64,
   "id": "01d5802c-663a-4d1f-9d69-e036faaffbf7",
   "metadata": {
    "execution": {
     "iopub.execute_input": "2025-07-30T19:57:54.890510Z",
     "iopub.status.busy": "2025-07-30T19:57:54.890137Z",
     "iopub.status.idle": "2025-07-30T19:57:54.894203Z",
     "shell.execute_reply": "2025-07-30T19:57:54.893342Z"
    },
    "papermill": {
     "duration": 0.019554,
     "end_time": "2025-07-30T19:57:54.895650",
     "exception": false,
     "start_time": "2025-07-30T19:57:54.876096",
     "status": "completed"
    },
    "tags": []
   },
   "outputs": [],
   "source": [
    "#delete\n",
    "#cp_groups_df"
   ]
  },
  {
   "cell_type": "code",
   "execution_count": 65,
   "id": "fa424af1-d1eb-443d-b717-2d279ada8408",
   "metadata": {
    "execution": {
     "iopub.execute_input": "2025-07-30T19:57:54.941494Z",
     "iopub.status.busy": "2025-07-30T19:57:54.941040Z",
     "iopub.status.idle": "2025-07-30T19:57:54.946866Z",
     "shell.execute_reply": "2025-07-30T19:57:54.945688Z"
    },
    "papermill": {
     "duration": 0.039071,
     "end_time": "2025-07-30T19:57:54.949110",
     "exception": false,
     "start_time": "2025-07-30T19:57:54.910039",
     "status": "completed"
    },
    "tags": []
   },
   "outputs": [],
   "source": [
    "#delete\n",
    "#percentage = (cp_groups_df['nongerman_female'] == 1).mean() * 100\n",
    "#print(percentage)\n"
   ]
  },
  {
   "cell_type": "code",
   "execution_count": 66,
   "id": "6cbdab96-b2b2-45af-ad54-d0516db2e28d",
   "metadata": {
    "execution": {
     "iopub.execute_input": "2025-07-30T19:57:55.009691Z",
     "iopub.status.busy": "2025-07-30T19:57:55.009216Z",
     "iopub.status.idle": "2025-07-30T19:57:56.598405Z",
     "shell.execute_reply": "2025-07-30T19:57:56.597475Z"
    },
    "papermill": {
     "duration": 1.621617,
     "end_time": "2025-07-30T19:57:56.600336",
     "exception": false,
     "start_time": "2025-07-30T19:57:54.978719",
     "status": "completed"
    },
    "tags": []
   },
   "outputs": [],
   "source": [
    "# Define covered = 1 if true_label is in the predicted set\n",
    "cp_groups_df['covered'] = cp_groups_df.apply(\n",
    "    lambda r: int(r['true_label'] in r['pred_set']),\n",
    "    axis=1\n",
    ")"
   ]
  },
  {
   "cell_type": "code",
   "execution_count": 67,
   "id": "338ff529-1a6b-4b87-a931-8e4788d52aad",
   "metadata": {
    "execution": {
     "iopub.execute_input": "2025-07-30T19:57:56.680181Z",
     "iopub.status.busy": "2025-07-30T19:57:56.679453Z",
     "iopub.status.idle": "2025-07-30T19:57:56.685110Z",
     "shell.execute_reply": "2025-07-30T19:57:56.684140Z"
    },
    "papermill": {
     "duration": 0.038157,
     "end_time": "2025-07-30T19:57:56.686937",
     "exception": false,
     "start_time": "2025-07-30T19:57:56.648780",
     "status": "completed"
    },
    "tags": []
   },
   "outputs": [],
   "source": [
    "#cp_groups_df"
   ]
  },
  {
   "cell_type": "code",
   "execution_count": 68,
   "id": "90032e27-66df-4540-9169-4e89cfbaa758",
   "metadata": {
    "execution": {
     "iopub.execute_input": "2025-07-30T19:57:56.742370Z",
     "iopub.status.busy": "2025-07-30T19:57:56.741916Z",
     "iopub.status.idle": "2025-07-30T19:57:56.753429Z",
     "shell.execute_reply": "2025-07-30T19:57:56.752497Z"
    },
    "papermill": {
     "duration": 0.041435,
     "end_time": "2025-07-30T19:57:56.755136",
     "exception": false,
     "start_time": "2025-07-30T19:57:56.713701",
     "status": "completed"
    },
    "tags": []
   },
   "outputs": [],
   "source": [
    "subgroups = ['frau1','nongerman','nongerman_male','nongerman_female']\n",
    "\n",
    "# Conditional coverage for subgroup==1\n",
    "cond_coverage = {\n",
    "    g: cp_groups_df.loc[cp_groups_df[g]==1, 'covered'].mean()\n",
    "    for g in subgroups\n",
    "}"
   ]
  },
  {
   "cell_type": "code",
   "execution_count": 69,
   "id": "1e348fb1-b9c3-45bc-ba23-f016827a7e0d",
   "metadata": {
    "execution": {
     "iopub.execute_input": "2025-07-30T19:57:56.812525Z",
     "iopub.status.busy": "2025-07-30T19:57:56.811936Z",
     "iopub.status.idle": "2025-07-30T19:57:56.819513Z",
     "shell.execute_reply": "2025-07-30T19:57:56.818590Z"
    },
    "papermill": {
     "duration": 0.046163,
     "end_time": "2025-07-30T19:57:56.828979",
     "exception": false,
     "start_time": "2025-07-30T19:57:56.782816",
     "status": "completed"
    },
    "tags": []
   },
   "outputs": [
    {
     "data": {
      "text/plain": [
       "{'frau1': 0.9135463000404367,\n",
       " 'nongerman': 0.9610396901139617,\n",
       " 'nongerman_male': 0.9674862649734306,\n",
       " 'nongerman_female': 0.9503725782414307}"
      ]
     },
     "execution_count": 69,
     "metadata": {},
     "output_type": "execute_result"
    }
   ],
   "source": [
    "cond_coverage"
   ]
  },
  {
   "cell_type": "code",
   "execution_count": 70,
   "id": "f5093324-c3dd-4d63-bc4c-8d945e5c8bbb",
   "metadata": {
    "execution": {
     "iopub.execute_input": "2025-07-30T19:57:56.904997Z",
     "iopub.status.busy": "2025-07-30T19:57:56.904216Z",
     "iopub.status.idle": "2025-07-30T19:57:56.911600Z",
     "shell.execute_reply": "2025-07-30T19:57:56.910480Z"
    },
    "papermill": {
     "duration": 0.047378,
     "end_time": "2025-07-30T19:57:56.913744",
     "exception": false,
     "start_time": "2025-07-30T19:57:56.866366",
     "status": "completed"
    },
    "tags": []
   },
   "outputs": [],
   "source": [
    "for subgroup, cov in cond_coverage.items():\n",
    "    cp_metrics_df[f\"cov_{subgroup}\"] = cov"
   ]
  },
  {
   "cell_type": "code",
   "execution_count": 71,
   "id": "6e872e10-dbe5-49e8-b554-5030c98ff75d",
   "metadata": {
    "execution": {
     "iopub.execute_input": "2025-07-30T19:57:56.977065Z",
     "iopub.status.busy": "2025-07-30T19:57:56.976688Z",
     "iopub.status.idle": "2025-07-30T19:57:56.998058Z",
     "shell.execute_reply": "2025-07-30T19:57:56.996963Z"
    },
    "papermill": {
     "duration": 0.052016,
     "end_time": "2025-07-30T19:57:56.999822",
     "exception": false,
     "start_time": "2025-07-30T19:57:56.947806",
     "status": "completed"
    },
    "tags": []
   },
   "outputs": [
    {
     "data": {
      "text/html": [
       "<div>\n",
       "<style scoped>\n",
       "    .dataframe tbody tr th:only-of-type {\n",
       "        vertical-align: middle;\n",
       "    }\n",
       "\n",
       "    .dataframe tbody tr th {\n",
       "        vertical-align: top;\n",
       "    }\n",
       "\n",
       "    .dataframe thead th {\n",
       "        text-align: right;\n",
       "    }\n",
       "</style>\n",
       "<table border=\"1\" class=\"dataframe\">\n",
       "  <thead>\n",
       "    <tr style=\"text-align: right;\">\n",
       "      <th></th>\n",
       "      <th>universe_id</th>\n",
       "      <th>universe_training_year</th>\n",
       "      <th>universe_training_size</th>\n",
       "      <th>universe_scale</th>\n",
       "      <th>universe_model</th>\n",
       "      <th>universe_exclude_features</th>\n",
       "      <th>universe_exclude_subgroups</th>\n",
       "      <th>q_hat</th>\n",
       "      <th>coverage</th>\n",
       "      <th>avg_size</th>\n",
       "      <th>cov_frau1</th>\n",
       "      <th>cov_nongerman</th>\n",
       "      <th>cov_nongerman_male</th>\n",
       "      <th>cov_nongerman_female</th>\n",
       "    </tr>\n",
       "  </thead>\n",
       "  <tbody>\n",
       "    <tr>\n",
       "      <th>0</th>\n",
       "      <td>674ce84a3e0057a40b025fcd3052b8ba</td>\n",
       "      <td>2014</td>\n",
       "      <td>25k</td>\n",
       "      <td>do-not-scale</td>\n",
       "      <td>logreg</td>\n",
       "      <td>age</td>\n",
       "      <td>drop-non-german</td>\n",
       "      <td>0.646848</td>\n",
       "      <td>0.913142</td>\n",
       "      <td>1.249872</td>\n",
       "      <td>0.913546</td>\n",
       "      <td>0.96104</td>\n",
       "      <td>0.967486</td>\n",
       "      <td>0.950373</td>\n",
       "    </tr>\n",
       "  </tbody>\n",
       "</table>\n",
       "</div>"
      ],
      "text/plain": [
       "                        universe_id universe_training_year  \\\n",
       "0  674ce84a3e0057a40b025fcd3052b8ba                   2014   \n",
       "\n",
       "  universe_training_size universe_scale universe_model  \\\n",
       "0                    25k   do-not-scale         logreg   \n",
       "\n",
       "  universe_exclude_features universe_exclude_subgroups     q_hat  coverage  \\\n",
       "0                       age            drop-non-german  0.646848  0.913142   \n",
       "\n",
       "   avg_size  cov_frau1  cov_nongerman  cov_nongerman_male  \\\n",
       "0  1.249872   0.913546        0.96104            0.967486   \n",
       "\n",
       "   cov_nongerman_female  \n",
       "0              0.950373  "
      ]
     },
     "execution_count": 71,
     "metadata": {},
     "output_type": "execute_result"
    }
   ],
   "source": [
    "cp_metrics_df"
   ]
  },
  {
   "cell_type": "markdown",
   "id": "33774451",
   "metadata": {
    "papermill": {
     "duration": 0.028163,
     "end_time": "2025-07-30T19:57:57.058263",
     "exception": false,
     "start_time": "2025-07-30T19:57:57.030100",
     "status": "completed"
    },
    "tags": []
   },
   "source": [
    "# (Fairness) Metrics"
   ]
  },
  {
   "cell_type": "code",
   "execution_count": 72,
   "id": "debc5d62",
   "metadata": {
    "execution": {
     "iopub.execute_input": "2025-07-30T19:57:57.105969Z",
     "iopub.status.busy": "2025-07-30T19:57:57.105434Z",
     "iopub.status.idle": "2025-07-30T19:57:57.127326Z",
     "shell.execute_reply": "2025-07-30T19:57:57.126276Z"
    },
    "papermill": {
     "duration": 0.047977,
     "end_time": "2025-07-30T19:57:57.129056",
     "exception": false,
     "start_time": "2025-07-30T19:57:57.081079",
     "status": "completed"
    },
    "tags": []
   },
   "outputs": [],
   "source": [
    "# do I need to include maxdeutsch1.missing?\n",
    "\n",
    "import numpy as np\n",
    "\n",
    "colname_to_bin = \"maxdeutsch1\"\n",
    "majority_value = org_train[colname_to_bin].mode()[0]\n",
    "\n",
    "org_test[\"majmin\"] = np.where(org_test[colname_to_bin] == majority_value, \"majority\", \"minority\")"
   ]
  },
  {
   "cell_type": "code",
   "execution_count": 73,
   "id": "06a50de5",
   "metadata": {
    "execution": {
     "iopub.execute_input": "2025-07-30T19:57:57.191176Z",
     "iopub.status.busy": "2025-07-30T19:57:57.190240Z",
     "iopub.status.idle": "2025-07-30T19:57:59.269544Z",
     "shell.execute_reply": "2025-07-30T19:57:59.268502Z"
    },
    "papermill": {
     "duration": 2.110427,
     "end_time": "2025-07-30T19:57:59.271152",
     "exception": false,
     "start_time": "2025-07-30T19:57:57.160725",
     "status": "completed"
    },
    "tags": []
   },
   "outputs": [],
   "source": [
    "example_universe = universe.copy()\n",
    "example_universe[\"cutoff\"] = example_universe[\"cutoff\"][0]\n",
    "example_universe[\"eval_fairness_grouping\"] = example_universe[\"eval_fairness_grouping\"][0]\n",
    "fairness_dict, metric_frame = universe_analysis.compute_metrics(\n",
    "    example_universe,\n",
    "    y_pred_prob=probs_test,\n",
    "    y_test=y_true,\n",
    "    org_test=org_test,\n",
    ")"
   ]
  },
  {
   "cell_type": "markdown",
   "id": "f95d4e02",
   "metadata": {
    "papermill": {
     "duration": 0.018851,
     "end_time": "2025-07-30T19:57:59.307436",
     "exception": false,
     "start_time": "2025-07-30T19:57:59.288585",
     "status": "completed"
    },
    "tags": []
   },
   "source": [
    "# Overall"
   ]
  },
  {
   "cell_type": "markdown",
   "id": "bdee4871",
   "metadata": {
    "papermill": {
     "duration": 0.013975,
     "end_time": "2025-07-30T19:57:59.335431",
     "exception": false,
     "start_time": "2025-07-30T19:57:59.321456",
     "status": "completed"
    },
    "tags": []
   },
   "source": [
    "Fairness\n",
    "Main fairness target: Equalized Odds. Seems to be a better fit than equal opportunity, since we're not only interested in Y = 1. Seems to be a better fit than demographic parity, since we also care about accuracy, not just equal distribution of preds.\n",
    "\n",
    "Pick column for computation of fairness metrics\n",
    "\n",
    "Performance\n",
    "Overall performance measures, most interesting in relation to the measures split by group below"
   ]
  },
  {
   "cell_type": "code",
   "execution_count": 74,
   "id": "c4e067c6",
   "metadata": {
    "execution": {
     "iopub.execute_input": "2025-07-30T19:57:59.363835Z",
     "iopub.status.busy": "2025-07-30T19:57:59.363471Z",
     "iopub.status.idle": "2025-07-30T19:57:59.370696Z",
     "shell.execute_reply": "2025-07-30T19:57:59.369918Z"
    },
    "papermill": {
     "duration": 0.023111,
     "end_time": "2025-07-30T19:57:59.372077",
     "exception": false,
     "start_time": "2025-07-30T19:57:59.348966",
     "status": "completed"
    },
    "tags": []
   },
   "outputs": [
    {
     "data": {
      "text/plain": [
       "accuracy                   0.216687\n",
       "balanced accuracy          0.531440\n",
       "f1                         0.238230\n",
       "precision                  0.136093\n",
       "false positive rate        0.891934\n",
       "false negative rate        0.045186\n",
       "selection rate             0.900000\n",
       "count                  89710.000000\n",
       "dtype: float64"
      ]
     },
     "execution_count": 74,
     "metadata": {},
     "output_type": "execute_result"
    }
   ],
   "source": [
    "metric_frame.overall"
   ]
  },
  {
   "cell_type": "markdown",
   "id": "e968fe9d",
   "metadata": {
    "papermill": {
     "duration": 0.028666,
     "end_time": "2025-07-30T19:57:59.426371",
     "exception": false,
     "start_time": "2025-07-30T19:57:59.397705",
     "status": "completed"
    },
    "tags": []
   },
   "source": [
    "By Group"
   ]
  },
  {
   "cell_type": "code",
   "execution_count": 75,
   "id": "ec325bce",
   "metadata": {
    "execution": {
     "iopub.execute_input": "2025-07-30T19:57:59.482553Z",
     "iopub.status.busy": "2025-07-30T19:57:59.482078Z",
     "iopub.status.idle": "2025-07-30T19:57:59.499417Z",
     "shell.execute_reply": "2025-07-30T19:57:59.498428Z"
    },
    "papermill": {
     "duration": 0.053275,
     "end_time": "2025-07-30T19:57:59.505529",
     "exception": false,
     "start_time": "2025-07-30T19:57:59.452254",
     "status": "completed"
    },
    "tags": []
   },
   "outputs": [
    {
     "data": {
      "text/html": [
       "<div>\n",
       "<style scoped>\n",
       "    .dataframe tbody tr th:only-of-type {\n",
       "        vertical-align: middle;\n",
       "    }\n",
       "\n",
       "    .dataframe tbody tr th {\n",
       "        vertical-align: top;\n",
       "    }\n",
       "\n",
       "    .dataframe thead th {\n",
       "        text-align: right;\n",
       "    }\n",
       "</style>\n",
       "<table border=\"1\" class=\"dataframe\">\n",
       "  <thead>\n",
       "    <tr style=\"text-align: right;\">\n",
       "      <th></th>\n",
       "      <th>accuracy</th>\n",
       "      <th>balanced accuracy</th>\n",
       "      <th>f1</th>\n",
       "      <th>precision</th>\n",
       "      <th>false positive rate</th>\n",
       "      <th>false negative rate</th>\n",
       "      <th>selection rate</th>\n",
       "      <th>count</th>\n",
       "    </tr>\n",
       "    <tr>\n",
       "      <th>majmin</th>\n",
       "      <th></th>\n",
       "      <th></th>\n",
       "      <th></th>\n",
       "      <th></th>\n",
       "      <th></th>\n",
       "      <th></th>\n",
       "      <th></th>\n",
       "      <th></th>\n",
       "    </tr>\n",
       "  </thead>\n",
       "  <tbody>\n",
       "    <tr>\n",
       "      <th>majority</th>\n",
       "      <td>0.239107</td>\n",
       "      <td>0.539089</td>\n",
       "      <td>0.247473</td>\n",
       "      <td>0.142338</td>\n",
       "      <td>0.868649</td>\n",
       "      <td>0.053173</td>\n",
       "      <td>0.878979</td>\n",
       "      <td>69170.0</td>\n",
       "    </tr>\n",
       "    <tr>\n",
       "      <th>minority</th>\n",
       "      <td>0.141188</td>\n",
       "      <td>0.508394</td>\n",
       "      <td>0.209252</td>\n",
       "      <td>0.117051</td>\n",
       "      <td>0.968853</td>\n",
       "      <td>0.014358</td>\n",
       "      <td>0.970789</td>\n",
       "      <td>20540.0</td>\n",
       "    </tr>\n",
       "  </tbody>\n",
       "</table>\n",
       "</div>"
      ],
      "text/plain": [
       "          accuracy  balanced accuracy        f1  precision  \\\n",
       "majmin                                                       \n",
       "majority  0.239107           0.539089  0.247473   0.142338   \n",
       "minority  0.141188           0.508394  0.209252   0.117051   \n",
       "\n",
       "          false positive rate  false negative rate  selection rate    count  \n",
       "majmin                                                                       \n",
       "majority             0.868649             0.053173        0.878979  69170.0  \n",
       "minority             0.968853             0.014358        0.970789  20540.0  "
      ]
     },
     "execution_count": 75,
     "metadata": {},
     "output_type": "execute_result"
    }
   ],
   "source": [
    "metric_frame.by_group"
   ]
  },
  {
   "cell_type": "code",
   "execution_count": 76,
   "id": "a9ddbe63",
   "metadata": {
    "execution": {
     "iopub.execute_input": "2025-07-30T19:57:59.584680Z",
     "iopub.status.busy": "2025-07-30T19:57:59.583956Z",
     "iopub.status.idle": "2025-07-30T19:58:01.885361Z",
     "shell.execute_reply": "2025-07-30T19:58:01.884415Z"
    },
    "papermill": {
     "duration": 2.342497,
     "end_time": "2025-07-30T19:58:01.887186",
     "exception": false,
     "start_time": "2025-07-30T19:57:59.544689",
     "status": "completed"
    },
    "tags": []
   },
   "outputs": [
    {
     "data": {
      "text/plain": [
       "array([[<Axes: title={'center': 'accuracy'}, xlabel='majmin'>,\n",
       "        <Axes: title={'center': 'balanced accuracy'}, xlabel='majmin'>,\n",
       "        <Axes: title={'center': 'f1'}, xlabel='majmin'>],\n",
       "       [<Axes: title={'center': 'precision'}, xlabel='majmin'>,\n",
       "        <Axes: title={'center': 'false positive rate'}, xlabel='majmin'>,\n",
       "        <Axes: title={'center': 'false negative rate'}, xlabel='majmin'>],\n",
       "       [<Axes: title={'center': 'selection rate'}, xlabel='majmin'>,\n",
       "        <Axes: title={'center': 'count'}, xlabel='majmin'>,\n",
       "        <Axes: xlabel='majmin'>]], dtype=object)"
      ]
     },
     "execution_count": 76,
     "metadata": {},
     "output_type": "execute_result"
    },
    {
     "data": {
      "image/png": "[encoded data removed]",
      "text/plain": [
       "<Figure size 1200x800 with 9 Axes>"
      ]
     },
     "metadata": {},
     "output_type": "display_data"
    }
   ],
   "source": [
    "# In a graphic\n",
    "metric_frame.by_group.plot.bar(\n",
    "    subplots=True,\n",
    "    layout=[3, 3],\n",
    "    legend=False,\n",
    "    figsize=[12, 8],\n",
    "    title=\"Show all metrics\",\n",
    ")"
   ]
  },
  {
   "cell_type": "markdown",
   "id": "f57a0bac",
   "metadata": {
    "papermill": {
     "duration": 0.032112,
     "end_time": "2025-07-30T19:58:01.947190",
     "exception": false,
     "start_time": "2025-07-30T19:58:01.915078",
     "status": "completed"
    },
    "tags": []
   },
   "source": [
    "# Final Output"
   ]
  },
  {
   "cell_type": "code",
   "execution_count": 77,
   "id": "96d280a3",
   "metadata": {
    "execution": {
     "iopub.execute_input": "2025-07-30T19:58:01.989281Z",
     "iopub.status.busy": "2025-07-30T19:58:01.988447Z",
     "iopub.status.idle": "2025-07-30T19:58:01.995586Z",
     "shell.execute_reply": "2025-07-30T19:58:01.994833Z"
    },
    "papermill": {
     "duration": 0.024918,
     "end_time": "2025-07-30T19:58:01.996963",
     "exception": false,
     "start_time": "2025-07-30T19:58:01.972045",
     "status": "completed"
    },
    "tags": []
   },
   "outputs": [
    {
     "data": {
      "text/plain": [
       "4"
      ]
     },
     "execution_count": 77,
     "metadata": {},
     "output_type": "execute_result"
    }
   ],
   "source": [
    "sub_universes = universe_analysis.generate_sub_universes()\n",
    "len(sub_universes)"
   ]
  },
  {
   "cell_type": "code",
   "execution_count": 78,
   "id": "92adf7ba",
   "metadata": {
    "execution": {
     "iopub.execute_input": "2025-07-30T19:58:02.034681Z",
     "iopub.status.busy": "2025-07-30T19:58:02.034170Z",
     "iopub.status.idle": "2025-07-30T19:58:02.046072Z",
     "shell.execute_reply": "2025-07-30T19:58:02.045237Z"
    },
    "papermill": {
     "duration": 0.033655,
     "end_time": "2025-07-30T19:58:02.047583",
     "exception": false,
     "start_time": "2025-07-30T19:58:02.013928",
     "status": "completed"
    },
    "tags": []
   },
   "outputs": [],
   "source": [
    "def filter_sub_universe_data(sub_universe, org_test):\n",
    "    # Keep all rows — no filtering\n",
    "    keep_rows_mask = np.ones(org_test.shape[0], dtype=bool)\n",
    "\n",
    "    print(f\"[INFO] Keeping all rows: {keep_rows_mask.sum()} rows retained.\")\n",
    "    return keep_rows_mask"
   ]
  },
  {
   "cell_type": "code",
   "execution_count": 79,
   "id": "4a759155",
   "metadata": {
    "execution": {
     "iopub.execute_input": "2025-07-30T19:58:02.084720Z",
     "iopub.status.busy": "2025-07-30T19:58:02.084295Z",
     "iopub.status.idle": "2025-07-30T19:58:12.227885Z",
     "shell.execute_reply": "2025-07-30T19:58:12.226798Z"
    },
    "papermill": {
     "duration": 10.165057,
     "end_time": "2025-07-30T19:58:12.229431",
     "exception": false,
     "start_time": "2025-07-30T19:58:02.064374",
     "status": "completed"
    },
    "tags": []
   },
   "outputs": [
    {
     "name": "stdout",
     "output_type": "stream",
     "text": [
      "Stopping execution_time clock.\n",
      "[INFO] Keeping all rows: 89710 rows retained.\n"
     ]
    },
    {
     "name": "stdout",
     "output_type": "stream",
     "text": [
      "[INFO] Keeping all rows: 89710 rows retained.\n"
     ]
    },
    {
     "name": "stdout",
     "output_type": "stream",
     "text": [
      "[INFO] Keeping all rows: 89710 rows retained.\n"
     ]
    },
    {
     "name": "stdout",
     "output_type": "stream",
     "text": [
      "[INFO] Keeping all rows: 89710 rows retained.\n"
     ]
    },
    {
     "data": {
      "text/html": [
       "<div>\n",
       "<style scoped>\n",
       "    .dataframe tbody tr th:only-of-type {\n",
       "        vertical-align: middle;\n",
       "    }\n",
       "\n",
       "    .dataframe tbody tr th {\n",
       "        vertical-align: top;\n",
       "    }\n",
       "\n",
       "    .dataframe thead th {\n",
       "        text-align: right;\n",
       "    }\n",
       "</style>\n",
       "<table border=\"1\" class=\"dataframe\">\n",
       "  <thead>\n",
       "    <tr style=\"text-align: right;\">\n",
       "      <th></th>\n",
       "      <th>run_no</th>\n",
       "      <th>universe_id</th>\n",
       "      <th>universe_settings</th>\n",
       "      <th>execution_time</th>\n",
       "      <th>test_size_n</th>\n",
       "      <th>test_size_frac</th>\n",
       "      <th>fair_main_equalized_odds_difference</th>\n",
       "      <th>fair_main_equalized_odds_ratio</th>\n",
       "      <th>fair_main_demographic_parity_difference</th>\n",
       "      <th>fair_main_demographic_parity_ratio</th>\n",
       "      <th>...</th>\n",
       "      <th>perf_grp_precision_0</th>\n",
       "      <th>perf_grp_precision_1</th>\n",
       "      <th>perf_grp_false positive rate_0</th>\n",
       "      <th>perf_grp_false positive rate_1</th>\n",
       "      <th>perf_grp_false negative rate_0</th>\n",
       "      <th>perf_grp_false negative rate_1</th>\n",
       "      <th>perf_grp_selection rate_0</th>\n",
       "      <th>perf_grp_selection rate_1</th>\n",
       "      <th>perf_grp_count_0</th>\n",
       "      <th>perf_grp_count_1</th>\n",
       "    </tr>\n",
       "  </thead>\n",
       "  <tbody>\n",
       "    <tr>\n",
       "      <th>0</th>\n",
       "      <td>14</td>\n",
       "      <td>674ce84a3e0057a40b025fcd3052b8ba</td>\n",
       "      <td>{\"cutoff\": \"quantile_0.1\", \"eval_fairness_grou...</td>\n",
       "      <td>28.736312</td>\n",
       "      <td>89710</td>\n",
       "      <td>1.0</td>\n",
       "      <td>0.100204</td>\n",
       "      <td>0.896574</td>\n",
       "      <td>0.091809</td>\n",
       "      <td>0.905428</td>\n",
       "      <td>...</td>\n",
       "      <td>NaN</td>\n",
       "      <td>NaN</td>\n",
       "      <td>NaN</td>\n",
       "      <td>NaN</td>\n",
       "      <td>NaN</td>\n",
       "      <td>NaN</td>\n",
       "      <td>NaN</td>\n",
       "      <td>NaN</td>\n",
       "      <td>NaN</td>\n",
       "      <td>NaN</td>\n",
       "    </tr>\n",
       "    <tr>\n",
       "      <th>0</th>\n",
       "      <td>14</td>\n",
       "      <td>674ce84a3e0057a40b025fcd3052b8ba</td>\n",
       "      <td>{\"cutoff\": \"quantile_0.1\", \"eval_fairness_grou...</td>\n",
       "      <td>28.736312</td>\n",
       "      <td>89710</td>\n",
       "      <td>1.0</td>\n",
       "      <td>0.100204</td>\n",
       "      <td>0.896574</td>\n",
       "      <td>0.091809</td>\n",
       "      <td>0.905428</td>\n",
       "      <td>...</td>\n",
       "      <td>0.117051</td>\n",
       "      <td>0.142338</td>\n",
       "      <td>0.968853</td>\n",
       "      <td>0.868649</td>\n",
       "      <td>0.014358</td>\n",
       "      <td>0.053173</td>\n",
       "      <td>0.970789</td>\n",
       "      <td>0.878979</td>\n",
       "      <td>20540.0</td>\n",
       "      <td>69170.0</td>\n",
       "    </tr>\n",
       "    <tr>\n",
       "      <th>0</th>\n",
       "      <td>14</td>\n",
       "      <td>674ce84a3e0057a40b025fcd3052b8ba</td>\n",
       "      <td>{\"cutoff\": \"quantile_0.25\", \"eval_fairness_gro...</td>\n",
       "      <td>28.736312</td>\n",
       "      <td>89710</td>\n",
       "      <td>1.0</td>\n",
       "      <td>0.235053</td>\n",
       "      <td>0.742393</td>\n",
       "      <td>0.217028</td>\n",
       "      <td>0.763413</td>\n",
       "      <td>...</td>\n",
       "      <td>NaN</td>\n",
       "      <td>NaN</td>\n",
       "      <td>NaN</td>\n",
       "      <td>NaN</td>\n",
       "      <td>NaN</td>\n",
       "      <td>NaN</td>\n",
       "      <td>NaN</td>\n",
       "      <td>NaN</td>\n",
       "      <td>NaN</td>\n",
       "      <td>NaN</td>\n",
       "    </tr>\n",
       "    <tr>\n",
       "      <th>0</th>\n",
       "      <td>14</td>\n",
       "      <td>674ce84a3e0057a40b025fcd3052b8ba</td>\n",
       "      <td>{\"cutoff\": \"quantile_0.25\", \"eval_fairness_gro...</td>\n",
       "      <td>28.736312</td>\n",
       "      <td>89710</td>\n",
       "      <td>1.0</td>\n",
       "      <td>0.235053</td>\n",
       "      <td>0.742393</td>\n",
       "      <td>0.217028</td>\n",
       "      <td>0.763413</td>\n",
       "      <td>...</td>\n",
       "      <td>0.119998</td>\n",
       "      <td>0.160528</td>\n",
       "      <td>0.912448</td>\n",
       "      <td>0.677395</td>\n",
       "      <td>0.045186</td>\n",
       "      <td>0.149234</td>\n",
       "      <td>0.917332</td>\n",
       "      <td>0.700304</td>\n",
       "      <td>20540.0</td>\n",
       "      <td>69170.0</td>\n",
       "    </tr>\n",
       "  </tbody>\n",
       "</table>\n",
       "<p>4 rows × 50 columns</p>\n",
       "</div>"
      ],
      "text/plain": [
       "  run_no                       universe_id  \\\n",
       "0     14  674ce84a3e0057a40b025fcd3052b8ba   \n",
       "0     14  674ce84a3e0057a40b025fcd3052b8ba   \n",
       "0     14  674ce84a3e0057a40b025fcd3052b8ba   \n",
       "0     14  674ce84a3e0057a40b025fcd3052b8ba   \n",
       "\n",
       "                                   universe_settings  execution_time  \\\n",
       "0  {\"cutoff\": \"quantile_0.1\", \"eval_fairness_grou...       28.736312   \n",
       "0  {\"cutoff\": \"quantile_0.1\", \"eval_fairness_grou...       28.736312   \n",
       "0  {\"cutoff\": \"quantile_0.25\", \"eval_fairness_gro...       28.736312   \n",
       "0  {\"cutoff\": \"quantile_0.25\", \"eval_fairness_gro...       28.736312   \n",
       "\n",
       "   test_size_n  test_size_frac  fair_main_equalized_odds_difference  \\\n",
       "0        89710             1.0                             0.100204   \n",
       "0        89710             1.0                             0.100204   \n",
       "0        89710             1.0                             0.235053   \n",
       "0        89710             1.0                             0.235053   \n",
       "\n",
       "   fair_main_equalized_odds_ratio  fair_main_demographic_parity_difference  \\\n",
       "0                        0.896574                                 0.091809   \n",
       "0                        0.896574                                 0.091809   \n",
       "0                        0.742393                                 0.217028   \n",
       "0                        0.742393                                 0.217028   \n",
       "\n",
       "   fair_main_demographic_parity_ratio  ...  perf_grp_precision_0  \\\n",
       "0                            0.905428  ...                   NaN   \n",
       "0                            0.905428  ...              0.117051   \n",
       "0                            0.763413  ...                   NaN   \n",
       "0                            0.763413  ...              0.119998   \n",
       "\n",
       "   perf_grp_precision_1  perf_grp_false positive rate_0  \\\n",
       "0                   NaN                             NaN   \n",
       "0              0.142338                        0.968853   \n",
       "0                   NaN                             NaN   \n",
       "0              0.160528                        0.912448   \n",
       "\n",
       "   perf_grp_false positive rate_1  perf_grp_false negative rate_0  \\\n",
       "0                             NaN                             NaN   \n",
       "0                        0.868649                        0.014358   \n",
       "0                             NaN                             NaN   \n",
       "0                        0.677395                        0.045186   \n",
       "\n",
       "   perf_grp_false negative rate_1  perf_grp_selection rate_0  \\\n",
       "0                             NaN                        NaN   \n",
       "0                        0.053173                   0.970789   \n",
       "0                             NaN                        NaN   \n",
       "0                        0.149234                   0.917332   \n",
       "\n",
       "   perf_grp_selection rate_1  perf_grp_count_0  perf_grp_count_1  \n",
       "0                        NaN               NaN               NaN  \n",
       "0                   0.878979           20540.0           69170.0  \n",
       "0                        NaN               NaN               NaN  \n",
       "0                   0.700304           20540.0           69170.0  \n",
       "\n",
       "[4 rows x 50 columns]"
      ]
     },
     "execution_count": 79,
     "metadata": {},
     "output_type": "execute_result"
    }
   ],
   "source": [
    "final_output = universe_analysis.generate_final_output(\n",
    "    y_pred_prob=probs_test,\n",
    "    y_test=y_true,\n",
    "    org_test=org_test,\n",
    "    filter_data=filter_sub_universe_data,\n",
    "    cp_metrics_df=cp_metrics_df,\n",
    "    save=True,\n",
    ")\n",
    "final_output"
   ]
  },
  {
   "cell_type": "code",
   "execution_count": null,
   "id": "721ff514-cb11-46f8-b6fc-50392f74b5cb",
   "metadata": {
    "papermill": {
     "duration": 0.031982,
     "end_time": "2025-07-30T19:58:12.294642",
     "exception": false,
     "start_time": "2025-07-30T19:58:12.262660",
     "status": "completed"
    },
    "tags": []
   },
   "outputs": [],
   "source": []
  }
 ],
 "metadata": {
  "celltoolbar": "Tags",
  "kernelspec": {
   "display_name": "Python (CMA Fairness)",
   "language": "python",
   "name": "cma_fair_env"
  },
  "language_info": {
   "codemirror_mode": {
    "name": "ipython",
    "version": 3
   },
   "file_extension": ".py",
   "mimetype": "text/x-python",
   "name": "python",
   "nbconvert_exporter": "python",
   "pygments_lexer": "ipython3",
   "version": "3.10.12"
  },
  "papermill": {
   "default_parameters": {},
   "duration": 43.160104,
   "end_time": "2025-07-30T19:58:13.147429",
   "environment_variables": {},
   "exception": null,
   "input_path": "universe_analysis.ipynb",
   "output_path": "output/runs/14/notebooks/m_14-674ce84a3e0057a40b025fcd3052b8ba.ipynb",
   "parameters": {
    "output_dir": "output",
    "run_no": "14",
    "seed": "2023",
    "universe": "{\"cutoff\": [\"quantile_0.1\", \"quantile_0.25\"], \"eval_fairness_grouping\": [\"majority-minority\", \"nationality-all\"], \"exclude_features\": \"age\", \"exclude_subgroups\": \"drop-non-german\", \"model\": \"logreg\", \"scale\": \"do-not-scale\", \"training_size\": \"25k\", \"training_year\": \"2014\"}",
    "universe_id": "674ce84a3e0057a40b025fcd3052b8ba"
   },
   "start_time": "2025-07-30T19:57:29.987325",
   "version": "2.6.0"
  }
 },
 "nbformat": 4,
 "nbformat_minor": 5
}