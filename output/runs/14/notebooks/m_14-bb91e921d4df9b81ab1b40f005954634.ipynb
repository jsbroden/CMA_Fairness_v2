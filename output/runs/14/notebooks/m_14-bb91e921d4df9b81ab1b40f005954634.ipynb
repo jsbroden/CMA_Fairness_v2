{
 "cells": [
  {
   "cell_type": "code",
   "execution_count": 1,
   "id": "f159f837-637b-42ba-96b5-ec9a68c44524",
   "metadata": {
    "execution": {
     "iopub.execute_input": "2025-07-30T21:47:54.623485Z",
     "iopub.status.busy": "2025-07-30T21:47:54.622956Z",
     "iopub.status.idle": "2025-07-30T21:47:54.637308Z",
     "shell.execute_reply": "2025-07-30T21:47:54.636104Z"
    },
    "papermill": {
     "duration": 0.040283,
     "end_time": "2025-07-30T21:47:54.639487",
     "exception": false,
     "start_time": "2025-07-30T21:47:54.599204",
     "status": "completed"
    },
    "tags": []
   },
   "outputs": [
    {
     "name": "stdout",
     "output_type": "stream",
     "text": [
      "/dss/dsshome1/0C/ra93lal2/cma/CMA_Fairness_v2\n"
     ]
    },
    {
     "name": "stderr",
     "output_type": "stream",
     "text": [
      "/dss/dsshome1/0C/ra93lal2/.local/share/virtualenvs/CMA_Fairness_v2-3j10GkSs/lib/python3.10/site-packages/IPython/core/magics/osm.py:393: UserWarning: This is now an optional IPython functionality, using bookmarks requires you to install the `pickleshare` library.\n",
      "  bkms = self.shell.db.get('bookmarks', {})\n",
      "/dss/dsshome1/0C/ra93lal2/.local/share/virtualenvs/CMA_Fairness_v2-3j10GkSs/lib/python3.10/site-packages/IPython/core/magics/osm.py:417: UserWarning: This is now an optional IPython functionality, setting dhist requires you to install the `pickleshare` library.\n",
      "  self.shell.db['dhist'] = compress_dhist(dhist)[-100:]\n"
     ]
    }
   ],
   "source": [
    "%cd ~/cma/CMA_Fairness_v2"
   ]
  },
  {
   "cell_type": "markdown",
   "id": "de2603b9",
   "metadata": {
    "papermill": {
     "duration": 0.027027,
     "end_time": "2025-07-30T21:47:54.694568",
     "exception": false,
     "start_time": "2025-07-30T21:47:54.667541",
     "status": "completed"
    },
    "tags": []
   },
   "source": [
    "The following cell holds the definition of our parameters, these values can be overriden by rendering the with e.g. the following command:\n",
    "\n",
    "papermill -p alpha 0.2 -p ratio 0.3 universe_analysis.ipynb output/test_run.ipynb"
   ]
  },
  {
   "cell_type": "code",
   "execution_count": 2,
   "id": "a80968a0-40bb-4fa9-85ef-2d5eefb01975",
   "metadata": {
    "execution": {
     "iopub.execute_input": "2025-07-30T21:47:54.735883Z",
     "iopub.status.busy": "2025-07-30T21:47:54.735401Z",
     "iopub.status.idle": "2025-07-30T21:47:54.740507Z",
     "shell.execute_reply": "2025-07-30T21:47:54.739586Z"
    },
    "papermill": {
     "duration": 0.027682,
     "end_time": "2025-07-30T21:47:54.742105",
     "exception": false,
     "start_time": "2025-07-30T21:47:54.714423",
     "status": "completed"
    },
    "tags": []
   },
   "outputs": [
    {
     "name": "stdout",
     "output_type": "stream",
     "text": [
      "Current working directory: /dss/dsshome1/0C/ra93lal2/cma/CMA_Fairness_v2\n"
     ]
    }
   ],
   "source": [
    "import os\n",
    "print(\"Current working directory:\", os.getcwd())"
   ]
  },
  {
   "cell_type": "code",
   "execution_count": 3,
   "id": "2dce4c03",
   "metadata": {
    "execution": {
     "iopub.execute_input": "2025-07-30T21:47:54.783423Z",
     "iopub.status.busy": "2025-07-30T21:47:54.783035Z",
     "iopub.status.idle": "2025-07-30T21:47:54.789223Z",
     "shell.execute_reply": "2025-07-30T21:47:54.788184Z"
    },
    "papermill": {
     "duration": 0.028894,
     "end_time": "2025-07-30T21:47:54.791007",
     "exception": false,
     "start_time": "2025-07-30T21:47:54.762113",
     "status": "completed"
    },
    "tags": [
     "parameters"
    ]
   },
   "outputs": [],
   "source": [
    "run_no = 0\n",
    "universe_id = \"test\"\n",
    "universe = {\n",
    "    \"training_size\": \"25k\", # \"25k\", \"5k\", \"1k\"\n",
    "    \"training_year\": \"2014\", # \"2014\", \"2012_14\", \"2010_14\"\n",
    "    \"scale\": \"scale\", # \"scale\", \"do-not-scale\",\n",
    "    #\"stratify_split\": \"target\", # \"none\", \"target\", \"protected-attribute\", \"both\",\n",
    "    \"model\": \"elasticnet\", # \"logreg\", \"penalized_logreg\", \"rf\", \"gbm\", \"elasticnet\"\n",
    "    \"cutoff\": [\"quantile_0.15\", \"quantile_0.30\"],\n",
    "    \"exclude_features\": \"age\", # \"none\", \"nationality\", \"sex\", \"nationality-sex\", \"age\"\n",
    "    \"exclude_subgroups\": \"keep-all\", # \"keep-all\", \"drop-non-german\"\n",
    "    \"eval_fairness_grouping\": [\"majority-minority\", \"nationality-all\"]\n",
    "}\n",
    "\n",
    "output_dir=\"./output\"\n",
    "seed=0"
   ]
  },
  {
   "cell_type": "code",
   "execution_count": 4,
   "id": "1098b712",
   "metadata": {
    "execution": {
     "iopub.execute_input": "2025-07-30T21:47:54.836537Z",
     "iopub.status.busy": "2025-07-30T21:47:54.835970Z",
     "iopub.status.idle": "2025-07-30T21:47:54.841181Z",
     "shell.execute_reply": "2025-07-30T21:47:54.840266Z"
    },
    "papermill": {
     "duration": 0.029758,
     "end_time": "2025-07-30T21:47:54.843048",
     "exception": false,
     "start_time": "2025-07-30T21:47:54.813290",
     "status": "completed"
    },
    "tags": [
     "injected-parameters"
    ]
   },
   "outputs": [],
   "source": [
    "# Parameters\n",
    "universe_id = \"bb91e921d4df9b81ab1b40f005954634\"\n",
    "run_no = \"14\"\n",
    "universe = \"{\\\"cutoff\\\": [\\\"quantile_0.1\\\", \\\"quantile_0.25\\\"], \\\"eval_fairness_grouping\\\": [\\\"majority-minority\\\", \\\"nationality-all\\\"], \\\"exclude_features\\\": \\\"nationality\\\", \\\"exclude_subgroups\\\": \\\"keep-all\\\", \\\"model\\\": \\\"elasticnet\\\", \\\"scale\\\": \\\"scale\\\", \\\"training_size\\\": \\\"1k\\\", \\\"training_year\\\": \\\"2010_14\\\"}\"\n",
    "output_dir = \"output\"\n",
    "seed = \"2023\"\n"
   ]
  },
  {
   "cell_type": "code",
   "execution_count": 5,
   "id": "1650acaf",
   "metadata": {
    "execution": {
     "iopub.execute_input": "2025-07-30T21:47:54.888524Z",
     "iopub.status.busy": "2025-07-30T21:47:54.887841Z",
     "iopub.status.idle": "2025-07-30T21:47:54.893076Z",
     "shell.execute_reply": "2025-07-30T21:47:54.892008Z"
    },
    "papermill": {
     "duration": 0.029705,
     "end_time": "2025-07-30T21:47:54.895028",
     "exception": false,
     "start_time": "2025-07-30T21:47:54.865323",
     "status": "completed"
    },
    "tags": []
   },
   "outputs": [],
   "source": [
    "import json\n",
    "# Parse universe into dict if it is passed as a string\n",
    "if isinstance(universe, str):\n",
    "    universe = json.loads(universe)"
   ]
  },
  {
   "cell_type": "code",
   "execution_count": 6,
   "id": "16620c48",
   "metadata": {
    "execution": {
     "iopub.execute_input": "2025-07-30T21:47:54.948125Z",
     "iopub.status.busy": "2025-07-30T21:47:54.947576Z",
     "iopub.status.idle": "2025-07-30T21:47:54.981520Z",
     "shell.execute_reply": "2025-07-30T21:47:54.980714Z"
    },
    "papermill": {
     "duration": 0.064921,
     "end_time": "2025-07-30T21:47:54.983476",
     "exception": false,
     "start_time": "2025-07-30T21:47:54.918555",
     "status": "completed"
    },
    "tags": []
   },
   "outputs": [],
   "source": [
    "# Auto-reload the custom package\n",
    "%load_ext autoreload\n",
    "%autoreload 1\n",
    "%aimport fairness_multiverse"
   ]
  },
  {
   "cell_type": "code",
   "execution_count": 7,
   "id": "01c5c9f3",
   "metadata": {
    "execution": {
     "iopub.execute_input": "2025-07-30T21:47:55.023608Z",
     "iopub.status.busy": "2025-07-30T21:47:55.023295Z",
     "iopub.status.idle": "2025-07-30T21:47:56.968539Z",
     "shell.execute_reply": "2025-07-30T21:47:56.967582Z"
    },
    "papermill": {
     "duration": 1.966312,
     "end_time": "2025-07-30T21:47:56.970467",
     "exception": false,
     "start_time": "2025-07-30T21:47:55.004155",
     "status": "completed"
    },
    "tags": []
   },
   "outputs": [],
   "source": [
    "from fairness_multiverse.universe import UniverseAnalysis\n",
    "\n",
    "universe_analysis = UniverseAnalysis(\n",
    "    run_no = run_no,\n",
    "    universe_id = universe_id,\n",
    "    universe = universe,\n",
    "    output_dir=output_dir,\n",
    ")"
   ]
  },
  {
   "cell_type": "code",
   "execution_count": 8,
   "id": "106241f5",
   "metadata": {
    "execution": {
     "iopub.execute_input": "2025-07-30T21:47:57.015226Z",
     "iopub.status.busy": "2025-07-30T21:47:57.014513Z",
     "iopub.status.idle": "2025-07-30T21:47:57.021175Z",
     "shell.execute_reply": "2025-07-30T21:47:57.020227Z"
    },
    "papermill": {
     "duration": 0.029096,
     "end_time": "2025-07-30T21:47:57.022751",
     "exception": false,
     "start_time": "2025-07-30T21:47:56.993655",
     "status": "completed"
    },
    "tags": []
   },
   "outputs": [
    {
     "name": "stdout",
     "output_type": "stream",
     "text": [
      "Using Seed: 2023\n"
     ]
    }
   ],
   "source": [
    "import numpy as np\n",
    "parsed_seed = int(seed)\n",
    "np.random.seed(parsed_seed)\n",
    "print(f\"Using Seed: {parsed_seed}\")"
   ]
  },
  {
   "cell_type": "markdown",
   "id": "e0ebdc57",
   "metadata": {
    "papermill": {
     "duration": 0.019924,
     "end_time": "2025-07-30T21:47:57.063245",
     "exception": false,
     "start_time": "2025-07-30T21:47:57.043321",
     "status": "completed"
    },
    "tags": []
   },
   "source": [
    "# Loading Data"
   ]
  },
  {
   "cell_type": "markdown",
   "id": "681925a3",
   "metadata": {
    "papermill": {
     "duration": 0.020284,
     "end_time": "2025-07-30T21:47:57.103193",
     "exception": false,
     "start_time": "2025-07-30T21:47:57.082909",
     "status": "completed"
    },
    "tags": []
   },
   "source": [
    "Load siab_train, siab_test, siab_calib and/or \n",
    "load siab_train_features, siab_train_labels"
   ]
  },
  {
   "cell_type": "code",
   "execution_count": 9,
   "id": "f0496b8a",
   "metadata": {
    "execution": {
     "iopub.execute_input": "2025-07-30T21:47:57.144970Z",
     "iopub.status.busy": "2025-07-30T21:47:57.144025Z",
     "iopub.status.idle": "2025-07-30T21:48:09.445225Z",
     "shell.execute_reply": "2025-07-30T21:48:09.444060Z"
    },
    "papermill": {
     "duration": 12.323138,
     "end_time": "2025-07-30T21:48:09.446840",
     "exception": false,
     "start_time": "2025-07-30T21:47:57.123702",
     "status": "completed"
    },
    "tags": []
   },
   "outputs": [
    {
     "name": "stdout",
     "output_type": "stream",
     "text": [
      "Loading SIAB data from cache: data/siab_cached.csv.gz\n"
     ]
    },
    {
     "name": "stdout",
     "output_type": "stream",
     "text": [
      "(643690, 164)\n"
     ]
    }
   ],
   "source": [
    "from pathlib import Path\n",
    "import pandas as pd\n",
    "\n",
    "# File paths\n",
    "raw_file = Path(\"data/raw/siab.csv\")\n",
    "cache_file = Path(\"data/siab_cached.csv.gz\")\n",
    "\n",
    "# Ensure cache directory exists\n",
    "cache_file.parent.mkdir(parents=True, exist_ok=True)\n",
    "\n",
    "# Load with simple caching\n",
    "if cache_file.exists():\n",
    "    print(f\"Loading SIAB data from cache: {cache_file}\")\n",
    "    siab = pd.read_csv(cache_file, compression='gzip')\n",
    "else:\n",
    "    print(f\"Cache not found. Reading raw SIAB data: {raw_file}\")\n",
    "    siab = pd.read_csv(raw_file)\n",
    "    siab.to_csv(cache_file, index=False, compression='gzip')\n",
    "    print(f\"Cached SIAB data to: {cache_file}\")\n",
    "\n",
    "# Now use `siab` DataFrame as needed\n",
    "print(siab.shape)"
   ]
  },
  {
   "cell_type": "code",
   "execution_count": 10,
   "id": "db0ca512-5f53-4dba-abdb-a2888bca41ba",
   "metadata": {
    "execution": {
     "iopub.execute_input": "2025-07-30T21:48:09.496150Z",
     "iopub.status.busy": "2025-07-30T21:48:09.495128Z",
     "iopub.status.idle": "2025-07-30T21:48:09.501028Z",
     "shell.execute_reply": "2025-07-30T21:48:09.500019Z"
    },
    "papermill": {
     "duration": 0.031714,
     "end_time": "2025-07-30T21:48:09.503101",
     "exception": false,
     "start_time": "2025-07-30T21:48:09.471387",
     "status": "completed"
    },
    "tags": []
   },
   "outputs": [],
   "source": [
    "#siab"
   ]
  },
  {
   "cell_type": "code",
   "execution_count": 11,
   "id": "a0edb063",
   "metadata": {
    "execution": {
     "iopub.execute_input": "2025-07-30T21:48:09.548596Z",
     "iopub.status.busy": "2025-07-30T21:48:09.547918Z",
     "iopub.status.idle": "2025-07-30T21:48:09.553490Z",
     "shell.execute_reply": "2025-07-30T21:48:09.552573Z"
    },
    "papermill": {
     "duration": 0.02989,
     "end_time": "2025-07-30T21:48:09.555167",
     "exception": false,
     "start_time": "2025-07-30T21:48:09.525277",
     "status": "completed"
    },
    "tags": []
   },
   "outputs": [],
   "source": [
    "#import pandas as pd\n",
    "#\n",
    "#X_train = pd.read_csv(\"./data/X_train.csv\")\n",
    "#y_train = pd.read_csv(\"./data/y_train.csv\")"
   ]
  },
  {
   "cell_type": "code",
   "execution_count": 12,
   "id": "63d08085",
   "metadata": {
    "execution": {
     "iopub.execute_input": "2025-07-30T21:48:09.600660Z",
     "iopub.status.busy": "2025-07-30T21:48:09.599987Z",
     "iopub.status.idle": "2025-07-30T21:48:09.604921Z",
     "shell.execute_reply": "2025-07-30T21:48:09.603911Z"
    },
    "papermill": {
     "duration": 0.029596,
     "end_time": "2025-07-30T21:48:09.606547",
     "exception": false,
     "start_time": "2025-07-30T21:48:09.576951",
     "status": "completed"
    },
    "tags": []
   },
   "outputs": [],
   "source": [
    "#X_test = pd.read_csv(\"./data/X_test.csv\")\n",
    "#y_true = pd.read_csv(\"./data/y_test.csv\")"
   ]
  },
  {
   "cell_type": "code",
   "execution_count": 13,
   "id": "98a8d0fa-1d3d-4ed8-bb2c-281470e24add",
   "metadata": {
    "execution": {
     "iopub.execute_input": "2025-07-30T21:48:09.652116Z",
     "iopub.status.busy": "2025-07-30T21:48:09.651148Z",
     "iopub.status.idle": "2025-07-30T21:48:09.656475Z",
     "shell.execute_reply": "2025-07-30T21:48:09.655508Z"
    },
    "papermill": {
     "duration": 0.030229,
     "end_time": "2025-07-30T21:48:09.658440",
     "exception": false,
     "start_time": "2025-07-30T21:48:09.628211",
     "status": "completed"
    },
    "tags": []
   },
   "outputs": [],
   "source": [
    "# Calibration data for conformal\n",
    "#X_calib = pd.read_csv(\"./data/X_calib.csv\")\n",
    "#y_calib = pd.read_csv(\"./data/y_calib.csv\")"
   ]
  },
  {
   "cell_type": "markdown",
   "id": "997051c5-15bd-4b69-9786-c3001a3ce484",
   "metadata": {
    "papermill": {
     "duration": 0.02147,
     "end_time": "2025-07-30T21:48:09.702269",
     "exception": false,
     "start_time": "2025-07-30T21:48:09.680799",
     "status": "completed"
    },
    "tags": []
   },
   "source": [
    "# Splitting Data and Setting Training Data Size"
   ]
  },
  {
   "cell_type": "code",
   "execution_count": 14,
   "id": "e993b61f-042d-41a6-8c81-f55681f86335",
   "metadata": {
    "execution": {
     "iopub.execute_input": "2025-07-30T21:48:09.749687Z",
     "iopub.status.busy": "2025-07-30T21:48:09.748627Z",
     "iopub.status.idle": "2025-07-30T21:48:09.763768Z",
     "shell.execute_reply": "2025-07-30T21:48:09.762705Z"
    },
    "papermill": {
     "duration": 0.042639,
     "end_time": "2025-07-30T21:48:09.766792",
     "exception": false,
     "start_time": "2025-07-30T21:48:09.724153",
     "status": "completed"
    },
    "tags": []
   },
   "outputs": [],
   "source": [
    "def sample_by_year_size(df,\n",
    "                        training_year: str,\n",
    "                        training_size: str,\n",
    "                        random_state: int = 42):\n",
    "    # --- parse training_year into a list of int years ---\n",
    "    if \"_\" in training_year:\n",
    "        start_str, end_str = training_year.split(\"_\", 1)\n",
    "        start = int(start_str)\n",
    "        end   = int(end_str) if len(end_str) == 4 else (int(end_str) + (start // 100)*100)\n",
    "        years = list(range(start, end + 1))\n",
    "    else:\n",
    "        years = [int(training_year)]\n",
    "\n",
    "    df = df[df[\"year\"].isin(years)].reset_index(drop=True)\n",
    "\n",
    "    # --- map training_size to total number of samples ---\n",
    "    total_map = {\"25k\": 25_000, \"5k\": 5_000, \"1k\": 1_000}\n",
    "    if training_size not in total_map:\n",
    "        return df  # e.g. \"all\"\n",
    "\n",
    "    total_samples = total_map[training_size]\n",
    "    n_years       = len(years)\n",
    "    base          = total_samples // n_years\n",
    "    remainder     = total_samples % n_years\n",
    "\n",
    "    # --- build a dict: year -> how many to sample ---\n",
    "    # give +1 to the first `remainder` years in ascending order\n",
    "    quotas = {\n",
    "        year: base + (1 if idx < remainder else 0)\n",
    "        for idx, year in enumerate(sorted(years))\n",
    "    }\n",
    "\n",
    "    # --- sample per‐year according to the quota dict ---\n",
    "    sampled = (\n",
    "        df\n",
    "        .groupby(\"year\", group_keys=False)\n",
    "        .apply(lambda grp: grp.sample(\n",
    "            n=min(len(grp), quotas[grp.name]),\n",
    "            random_state=random_state))\n",
    "        .reset_index(drop=True)\n",
    "    )\n",
    "\n",
    "    return sampled"
   ]
  },
  {
   "cell_type": "code",
   "execution_count": 15,
   "id": "c0ccd338-0e02-41f3-a09d-f56f9266e3fb",
   "metadata": {
    "execution": {
     "iopub.execute_input": "2025-07-30T21:48:09.823119Z",
     "iopub.status.busy": "2025-07-30T21:48:09.822221Z",
     "iopub.status.idle": "2025-07-30T21:48:09.828221Z",
     "shell.execute_reply": "2025-07-30T21:48:09.827053Z"
    },
    "papermill": {
     "duration": 0.036104,
     "end_time": "2025-07-30T21:48:09.830439",
     "exception": false,
     "start_time": "2025-07-30T21:48:09.794335",
     "status": "completed"
    },
    "tags": []
   },
   "outputs": [],
   "source": [
    "#universe[\"training_size\"]"
   ]
  },
  {
   "cell_type": "code",
   "execution_count": 16,
   "id": "ca707fd7-8047-4acd-bfa5-66248fbbf8e6",
   "metadata": {
    "execution": {
     "iopub.execute_input": "2025-07-30T21:48:09.886901Z",
     "iopub.status.busy": "2025-07-30T21:48:09.886180Z",
     "iopub.status.idle": "2025-07-30T21:48:09.891852Z",
     "shell.execute_reply": "2025-07-30T21:48:09.890856Z"
    },
    "papermill": {
     "duration": 0.036216,
     "end_time": "2025-07-30T21:48:09.893815",
     "exception": false,
     "start_time": "2025-07-30T21:48:09.857599",
     "status": "completed"
    },
    "tags": []
   },
   "outputs": [],
   "source": [
    "#universe[\"training_year\"]"
   ]
  },
  {
   "cell_type": "code",
   "execution_count": 17,
   "id": "aea9c6ef-6f46-42c8-85eb-5a62025c1508",
   "metadata": {
    "execution": {
     "iopub.execute_input": "2025-07-30T21:48:09.950363Z",
     "iopub.status.busy": "2025-07-30T21:48:09.949583Z",
     "iopub.status.idle": "2025-07-30T21:48:11.007824Z",
     "shell.execute_reply": "2025-07-30T21:48:11.006782Z"
    },
    "papermill": {
     "duration": 1.089195,
     "end_time": "2025-07-30T21:48:11.010026",
     "exception": false,
     "start_time": "2025-07-30T21:48:09.920831",
     "status": "completed"
    },
    "tags": []
   },
   "outputs": [],
   "source": [
    "siab_train = sample_by_year_size(siab,\n",
    "                               training_year=universe[\"training_year\"],\n",
    "                               training_size=universe[\"training_size\"])"
   ]
  },
  {
   "cell_type": "code",
   "execution_count": 18,
   "id": "8d3afb32-789d-442c-8d5d-9f5aa8dd2eed",
   "metadata": {
    "execution": {
     "iopub.execute_input": "2025-07-30T21:48:11.055321Z",
     "iopub.status.busy": "2025-07-30T21:48:11.054853Z",
     "iopub.status.idle": "2025-07-30T21:48:11.059922Z",
     "shell.execute_reply": "2025-07-30T21:48:11.059017Z"
    },
    "papermill": {
     "duration": 0.030138,
     "end_time": "2025-07-30T21:48:11.061676",
     "exception": false,
     "start_time": "2025-07-30T21:48:11.031538",
     "status": "completed"
    },
    "tags": []
   },
   "outputs": [],
   "source": [
    "#siab_train.shape"
   ]
  },
  {
   "cell_type": "code",
   "execution_count": 19,
   "id": "d582db68-1a4c-47fb-84fc-08518dc1975a",
   "metadata": {
    "execution": {
     "iopub.execute_input": "2025-07-30T21:48:11.108596Z",
     "iopub.status.busy": "2025-07-30T21:48:11.108087Z",
     "iopub.status.idle": "2025-07-30T21:48:11.113215Z",
     "shell.execute_reply": "2025-07-30T21:48:11.112263Z"
    },
    "papermill": {
     "duration": 0.029343,
     "end_time": "2025-07-30T21:48:11.114702",
     "exception": false,
     "start_time": "2025-07-30T21:48:11.085359",
     "status": "completed"
    },
    "tags": []
   },
   "outputs": [],
   "source": [
    "#display(siab_train.groupby(\"year\").size())"
   ]
  },
  {
   "cell_type": "code",
   "execution_count": 20,
   "id": "a561edb4-d032-42cb-8256-22eac1111c64",
   "metadata": {
    "execution": {
     "iopub.execute_input": "2025-07-30T21:48:11.160681Z",
     "iopub.status.busy": "2025-07-30T21:48:11.160019Z",
     "iopub.status.idle": "2025-07-30T21:48:11.435133Z",
     "shell.execute_reply": "2025-07-30T21:48:11.433840Z"
    },
    "papermill": {
     "duration": 0.300844,
     "end_time": "2025-07-30T21:48:11.437296",
     "exception": false,
     "start_time": "2025-07-30T21:48:11.136452",
     "status": "completed"
    },
    "tags": []
   },
   "outputs": [],
   "source": [
    "#siab_train = siab_s[siab_s.year < 2015]\n",
    "siab_calib = siab[siab.year == 2015]\n",
    "siab_test = siab[siab.year == 2016]"
   ]
  },
  {
   "cell_type": "code",
   "execution_count": 21,
   "id": "472de16f-c3db-4916-846b-1f0de9cf1746",
   "metadata": {
    "execution": {
     "iopub.execute_input": "2025-07-30T21:48:11.483310Z",
     "iopub.status.busy": "2025-07-30T21:48:11.482806Z",
     "iopub.status.idle": "2025-07-30T21:48:11.490035Z",
     "shell.execute_reply": "2025-07-30T21:48:11.488971Z"
    },
    "papermill": {
     "duration": 0.032682,
     "end_time": "2025-07-30T21:48:11.492285",
     "exception": false,
     "start_time": "2025-07-30T21:48:11.459603",
     "status": "completed"
    },
    "tags": []
   },
   "outputs": [],
   "source": [
    "X_train = siab_train.iloc[:,4:164]\n",
    "y_train = siab_train.iloc[:, [3]]"
   ]
  },
  {
   "cell_type": "code",
   "execution_count": 22,
   "id": "828c96af-f43a-4ed6-ba47-8ac73a47d56c",
   "metadata": {
    "execution": {
     "iopub.execute_input": "2025-07-30T21:48:11.542585Z",
     "iopub.status.busy": "2025-07-30T21:48:11.541798Z",
     "iopub.status.idle": "2025-07-30T21:48:11.598087Z",
     "shell.execute_reply": "2025-07-30T21:48:11.596730Z"
    },
    "papermill": {
     "duration": 0.085757,
     "end_time": "2025-07-30T21:48:11.600258",
     "exception": false,
     "start_time": "2025-07-30T21:48:11.514501",
     "status": "completed"
    },
    "tags": []
   },
   "outputs": [],
   "source": [
    "X_calib = siab_calib.iloc[:,4:164]\n",
    "y_calib = siab_calib.iloc[:, [3]]"
   ]
  },
  {
   "cell_type": "code",
   "execution_count": 23,
   "id": "c34be9c3-6bd6-476e-acd3-845840e303be",
   "metadata": {
    "execution": {
     "iopub.execute_input": "2025-07-30T21:48:11.646710Z",
     "iopub.status.busy": "2025-07-30T21:48:11.646202Z",
     "iopub.status.idle": "2025-07-30T21:48:11.734099Z",
     "shell.execute_reply": "2025-07-30T21:48:11.732773Z"
    },
    "papermill": {
     "duration": 0.11294,
     "end_time": "2025-07-30T21:48:11.735986",
     "exception": false,
     "start_time": "2025-07-30T21:48:11.623046",
     "status": "completed"
    },
    "tags": []
   },
   "outputs": [],
   "source": [
    "X_test = siab_test.iloc[:,4:164]\n",
    "y_true = siab_test.iloc[:, [3]]"
   ]
  },
  {
   "cell_type": "markdown",
   "id": "9901737e-04df-44f0-9100-f5ad144ed040",
   "metadata": {
    "papermill": {
     "duration": 0.023547,
     "end_time": "2025-07-30T21:48:11.791180",
     "exception": false,
     "start_time": "2025-07-30T21:48:11.767633",
     "status": "completed"
    },
    "tags": []
   },
   "source": [
    "# Splitting Data and Setting Training Data Size OLD VERSION"
   ]
  },
  {
   "cell_type": "code",
   "execution_count": 24,
   "id": "acbc8f7d-8fc8-4e86-8c59-5dcb0f58384b",
   "metadata": {
    "execution": {
     "iopub.execute_input": "2025-07-30T21:48:11.838356Z",
     "iopub.status.busy": "2025-07-30T21:48:11.837770Z",
     "iopub.status.idle": "2025-07-30T21:48:11.843591Z",
     "shell.execute_reply": "2025-07-30T21:48:11.842671Z"
    },
    "papermill": {
     "duration": 0.032476,
     "end_time": "2025-07-30T21:48:11.845309",
     "exception": false,
     "start_time": "2025-07-30T21:48:11.812833",
     "status": "completed"
    },
    "tags": []
   },
   "outputs": [],
   "source": [
    "#def sample_by_year(df, training_size, random_state=42):\n",
    "#    if training_size == \"2014\":\n",
    "#        return df[df[\"year\"] == 2014].reset_index(drop=True)\n",
    "#    \n",
    "#    size_map = {\n",
    "#        \"25k\": 5000,\n",
    "#        \"5k\": 1000,\n",
    "#        \"1k\": 200\n",
    "#    }\n",
    "#\n",
    "#    if training_size not in size_map:\n",
    "#        return df.reset_index(drop=True)  # use all data\n",
    "#\n",
    "#    n_per_year = size_map[training_size]\n",
    "#    grouped = df.groupby(\"year\")\n",
    "#    sampled = grouped.apply(lambda x: x.sample(n=min(n_per_year, len(x)), random_state=random_state))\n",
    "#    return sampled.reset_index(drop=True)"
   ]
  },
  {
   "cell_type": "code",
   "execution_count": 25,
   "id": "6d931f52-beaf-43ff-9e78-9d44a448d54e",
   "metadata": {
    "execution": {
     "iopub.execute_input": "2025-07-30T21:48:11.891605Z",
     "iopub.status.busy": "2025-07-30T21:48:11.890962Z",
     "iopub.status.idle": "2025-07-30T21:48:11.896268Z",
     "shell.execute_reply": "2025-07-30T21:48:11.895255Z"
    },
    "papermill": {
     "duration": 0.031492,
     "end_time": "2025-07-30T21:48:11.898094",
     "exception": false,
     "start_time": "2025-07-30T21:48:11.866602",
     "status": "completed"
    },
    "tags": []
   },
   "outputs": [],
   "source": [
    "#siab_s = sample_by_year(siab, universe[\"training_size\"])"
   ]
  },
  {
   "cell_type": "code",
   "execution_count": 26,
   "id": "5db0a40e-a4e2-4920-be85-b12ae061d70d",
   "metadata": {
    "execution": {
     "iopub.execute_input": "2025-07-30T21:48:11.933156Z",
     "iopub.status.busy": "2025-07-30T21:48:11.932760Z",
     "iopub.status.idle": "2025-07-30T21:48:11.937611Z",
     "shell.execute_reply": "2025-07-30T21:48:11.936759Z"
    },
    "papermill": {
     "duration": 0.020555,
     "end_time": "2025-07-30T21:48:11.939260",
     "exception": false,
     "start_time": "2025-07-30T21:48:11.918705",
     "status": "completed"
    },
    "tags": []
   },
   "outputs": [],
   "source": [
    "#display(siab_s.groupby(\"year\").size())"
   ]
  },
  {
   "cell_type": "code",
   "execution_count": 27,
   "id": "e6c733c5",
   "metadata": {
    "execution": {
     "iopub.execute_input": "2025-07-30T21:48:11.992792Z",
     "iopub.status.busy": "2025-07-30T21:48:11.992193Z",
     "iopub.status.idle": "2025-07-30T21:48:12.091359Z",
     "shell.execute_reply": "2025-07-30T21:48:12.090187Z"
    },
    "papermill": {
     "duration": 0.136804,
     "end_time": "2025-07-30T21:48:12.093857",
     "exception": false,
     "start_time": "2025-07-30T21:48:11.957053",
     "status": "completed"
    },
    "tags": []
   },
   "outputs": [],
   "source": [
    "# Auxiliary data needed downstream in the pipeline\n",
    "\n",
    "org_train = X_train.copy()\n",
    "org_test = X_test.copy()\n",
    "org_calib = X_calib.copy()"
   ]
  },
  {
   "cell_type": "code",
   "execution_count": 28,
   "id": "1466abac-c6da-4492-a62f-4240ae3783af",
   "metadata": {
    "execution": {
     "iopub.execute_input": "2025-07-30T21:48:12.162385Z",
     "iopub.status.busy": "2025-07-30T21:48:12.161819Z",
     "iopub.status.idle": "2025-07-30T21:48:12.168848Z",
     "shell.execute_reply": "2025-07-30T21:48:12.167673Z"
    },
    "papermill": {
     "duration": 0.043857,
     "end_time": "2025-07-30T21:48:12.171148",
     "exception": false,
     "start_time": "2025-07-30T21:48:12.127291",
     "status": "completed"
    },
    "tags": []
   },
   "outputs": [],
   "source": [
    "# put in other script?\n",
    "# Group sizes\n",
    "\n",
    "#def calculate_percentages(df, df_name):\n",
    "#    total_entries = len(df)\n",
    "#\n",
    "#    female_pct = (df['frau1'] == 1).mean() * 100\n",
    "#    non_german_pct = ((df['maxdeutsch1'] == 0) & (df['maxdeutsch.Missing.'] == 0)).mean() * 100\n",
    "#    non_german_male_pct = ((df['frau1'] == 0) & (df['maxdeutsch1'] == 0) & (df['maxdeutsch.Missing.'] == 0)).mean() * 100\n",
    "#    non_german_female_pct = ((df['frau1'] == 1) & (df['maxdeutsch1'] == 0) & (df['maxdeutsch.Missing.'] == 0)).mean() * 100\n",
    "#\n",
    "#    print(f\"--- {df_name} ---\")\n",
    "#    print(f\"Female: {female_pct:.2f}%\")\n",
    "#    print(f\"Non-German: {non_german_pct:.2f}%\")\n",
    "#    print(f\"Non-German Male: {non_german_male_pct:.2f}%\")\n",
    "#    print(f\"Non-German Female: {non_german_female_pct:.2f}%\\n\")\n",
    "#\n",
    "## Calculate for each DataFrame\n",
    "#calculate_percentages(siab_calib, \"siab_calib\")\n",
    "#calculate_percentages(siab_test, \"siab_test\")\n",
    "#calculate_percentages(siab_train, \"siab_train\")"
   ]
  },
  {
   "cell_type": "markdown",
   "id": "0a4a1b33",
   "metadata": {
    "papermill": {
     "duration": 0.03377,
     "end_time": "2025-07-30T21:48:12.239452",
     "exception": false,
     "start_time": "2025-07-30T21:48:12.205682",
     "status": "completed"
    },
    "tags": []
   },
   "source": [
    "# Preprocessing Data"
   ]
  },
  {
   "cell_type": "code",
   "execution_count": 29,
   "id": "ca879031",
   "metadata": {
    "execution": {
     "iopub.execute_input": "2025-07-30T21:48:12.307549Z",
     "iopub.status.busy": "2025-07-30T21:48:12.307003Z",
     "iopub.status.idle": "2025-07-30T21:48:12.314192Z",
     "shell.execute_reply": "2025-07-30T21:48:12.313065Z"
    },
    "papermill": {
     "duration": 0.044201,
     "end_time": "2025-07-30T21:48:12.316763",
     "exception": false,
     "start_time": "2025-07-30T21:48:12.272562",
     "status": "completed"
    },
    "tags": []
   },
   "outputs": [],
   "source": [
    "# EXCLUDE PROTECTED FEATURES\n",
    "# ----------------------\n",
    "# \"exclude_features\": \"none\", # \"nationality\", \"sex\", \"nationality-sex\"\n",
    "\n",
    "excluded_features = universe[\"exclude_features\"].split(\"-\") # split, e.g.: \"nationality-sex\" -> [\"nationality\", \"sex\"]\n",
    "excluded_features_dictionary = {\n",
    "    \"nationality\": [\"maxdeutsch1\", \"maxdeutsch.Missing.\"],\n",
    "    \"sex\": [\"frau1\"],\n",
    "    \"age\": [\"age\"],\n",
    "}\n"
   ]
  },
  {
   "cell_type": "code",
   "execution_count": 30,
   "id": "b745ac60",
   "metadata": {
    "execution": {
     "iopub.execute_input": "2025-07-30T21:48:12.383490Z",
     "iopub.status.busy": "2025-07-30T21:48:12.382988Z",
     "iopub.status.idle": "2025-07-30T21:48:12.389254Z",
     "shell.execute_reply": "2025-07-30T21:48:12.388290Z"
    },
    "papermill": {
     "duration": 0.041583,
     "end_time": "2025-07-30T21:48:12.391491",
     "exception": false,
     "start_time": "2025-07-30T21:48:12.349908",
     "status": "completed"
    },
    "tags": []
   },
   "outputs": [],
   "source": [
    "# Code nice names to column names\n",
    "\n",
    "excluded_features_columns = [\n",
    "    excluded_features_dictionary[f] for f in excluded_features if len(f) > 0 and f != \"none\"\n",
    "]"
   ]
  },
  {
   "cell_type": "code",
   "execution_count": 31,
   "id": "f84f73a2",
   "metadata": {
    "execution": {
     "iopub.execute_input": "2025-07-30T21:48:12.457265Z",
     "iopub.status.busy": "2025-07-30T21:48:12.456878Z",
     "iopub.status.idle": "2025-07-30T21:48:12.463580Z",
     "shell.execute_reply": "2025-07-30T21:48:12.462553Z"
    },
    "papermill": {
     "duration": 0.041709,
     "end_time": "2025-07-30T21:48:12.465609",
     "exception": false,
     "start_time": "2025-07-30T21:48:12.423900",
     "status": "completed"
    },
    "tags": []
   },
   "outputs": [],
   "source": [
    "from utils import flatten_once\n",
    "\n",
    "excluded_features_columns = flatten_once(excluded_features_columns)"
   ]
  },
  {
   "cell_type": "code",
   "execution_count": 32,
   "id": "884dea22",
   "metadata": {
    "execution": {
     "iopub.execute_input": "2025-07-30T21:48:12.533003Z",
     "iopub.status.busy": "2025-07-30T21:48:12.532614Z",
     "iopub.status.idle": "2025-07-30T21:48:12.540480Z",
     "shell.execute_reply": "2025-07-30T21:48:12.539496Z"
    },
    "papermill": {
     "duration": 0.045086,
     "end_time": "2025-07-30T21:48:12.542407",
     "exception": false,
     "start_time": "2025-07-30T21:48:12.497321",
     "status": "completed"
    },
    "tags": []
   },
   "outputs": [
    {
     "name": "stdout",
     "output_type": "stream",
     "text": [
      "Dropping features: ['maxdeutsch1', 'maxdeutsch.Missing.']\n"
     ]
    }
   ],
   "source": [
    "if len(excluded_features_columns) > 0:\n",
    "    print(f\"Dropping features: {excluded_features_columns}\")\n",
    "    X_train.drop(excluded_features_columns, axis=1, inplace=True)"
   ]
  },
  {
   "cell_type": "code",
   "execution_count": 33,
   "id": "95ab8b16",
   "metadata": {
    "execution": {
     "iopub.execute_input": "2025-07-30T21:48:12.608246Z",
     "iopub.status.busy": "2025-07-30T21:48:12.607502Z",
     "iopub.status.idle": "2025-07-30T21:48:12.659324Z",
     "shell.execute_reply": "2025-07-30T21:48:12.658268Z"
    },
    "papermill": {
     "duration": 0.087468,
     "end_time": "2025-07-30T21:48:12.661847",
     "exception": false,
     "start_time": "2025-07-30T21:48:12.574379",
     "status": "completed"
    },
    "tags": []
   },
   "outputs": [
    {
     "name": "stdout",
     "output_type": "stream",
     "text": [
      "Dropping features: ['maxdeutsch1', 'maxdeutsch.Missing.']\n"
     ]
    }
   ],
   "source": [
    "if len(excluded_features_columns) > 0:\n",
    "    print(f\"Dropping features: {excluded_features_columns}\")\n",
    "    X_test.drop(excluded_features_columns, axis=1, inplace=True)"
   ]
  },
  {
   "cell_type": "code",
   "execution_count": 34,
   "id": "1853aaf5-fb9f-46cb-a2b5-8ea4ae2237e4",
   "metadata": {
    "execution": {
     "iopub.execute_input": "2025-07-30T21:48:12.728622Z",
     "iopub.status.busy": "2025-07-30T21:48:12.727841Z",
     "iopub.status.idle": "2025-07-30T21:48:12.779547Z",
     "shell.execute_reply": "2025-07-30T21:48:12.778632Z"
    },
    "papermill": {
     "duration": 0.088039,
     "end_time": "2025-07-30T21:48:12.782286",
     "exception": false,
     "start_time": "2025-07-30T21:48:12.694247",
     "status": "completed"
    },
    "tags": []
   },
   "outputs": [
    {
     "name": "stdout",
     "output_type": "stream",
     "text": [
      "Dropping features: ['maxdeutsch1', 'maxdeutsch.Missing.']\n"
     ]
    }
   ],
   "source": [
    "if len(excluded_features_columns) > 0:\n",
    "    print(f\"Dropping features: {excluded_features_columns}\")\n",
    "    X_calib.drop(excluded_features_columns, axis=1, inplace=True)"
   ]
  },
  {
   "cell_type": "code",
   "execution_count": 35,
   "id": "6727d079-03e5-481e-9d38-292a90b7a0a8",
   "metadata": {
    "execution": {
     "iopub.execute_input": "2025-07-30T21:48:12.829058Z",
     "iopub.status.busy": "2025-07-30T21:48:12.828520Z",
     "iopub.status.idle": "2025-07-30T21:48:12.833654Z",
     "shell.execute_reply": "2025-07-30T21:48:12.832628Z"
    },
    "papermill": {
     "duration": 0.031889,
     "end_time": "2025-07-30T21:48:12.835331",
     "exception": false,
     "start_time": "2025-07-30T21:48:12.803442",
     "status": "completed"
    },
    "tags": []
   },
   "outputs": [],
   "source": [
    "# SPLIT & STRATIFY DATA\n",
    "# ----------------------"
   ]
  },
  {
   "cell_type": "code",
   "execution_count": 36,
   "id": "76c4dc6d",
   "metadata": {
    "execution": {
     "iopub.execute_input": "2025-07-30T21:48:12.881958Z",
     "iopub.status.busy": "2025-07-30T21:48:12.881044Z",
     "iopub.status.idle": "2025-07-30T21:48:12.886855Z",
     "shell.execute_reply": "2025-07-30T21:48:12.886013Z"
    },
    "papermill": {
     "duration": 0.031104,
     "end_time": "2025-07-30T21:48:12.888433",
     "exception": false,
     "start_time": "2025-07-30T21:48:12.857329",
     "status": "completed"
    },
    "tags": []
   },
   "outputs": [],
   "source": [
    "# EXCLUDE CERTAIN SUBGROUPS\n",
    "# ----------------------\n",
    "\n",
    "mode = universe.get(\"exclude_subgroups\", \"keep-all\") \n",
    "# Fetches the exclude_subgroups setting from the universe dict.\n",
    "# Defaults to \"keep-all\" if the key is missing."
   ]
  },
  {
   "cell_type": "code",
   "execution_count": 37,
   "id": "21994072",
   "metadata": {
    "execution": {
     "iopub.execute_input": "2025-07-30T21:48:12.934880Z",
     "iopub.status.busy": "2025-07-30T21:48:12.934193Z",
     "iopub.status.idle": "2025-07-30T21:48:12.941147Z",
     "shell.execute_reply": "2025-07-30T21:48:12.940112Z"
    },
    "papermill": {
     "duration": 0.032184,
     "end_time": "2025-07-30T21:48:12.942888",
     "exception": false,
     "start_time": "2025-07-30T21:48:12.910704",
     "status": "completed"
    },
    "tags": []
   },
   "outputs": [],
   "source": [
    "if mode == \"keep-all\":\n",
    "    keep_mask = pd.Series(True, index=org_train.index)\n",
    "\n",
    "# org_train contains the original feature columns from features_org (in Simson)\n",
    "# features_org contains unprocessed features, for me X_train at beginning ???\n",
    "# For keep-all, creates a boolean Series (keep_mask) of all True, so no rows are removed.\n",
    "\n",
    "elif mode == \"drop-non-german\":\n",
    "    keep_mask = org_train[\"maxdeutsch1\"] == 1 # ??? what about missing values?\n",
    "\n",
    "else:\n",
    "    raise ValueError(f\"Unsupported mode for exclude_subgroups: {mode}\")\n"
   ]
  },
  {
   "cell_type": "code",
   "execution_count": 38,
   "id": "71651440",
   "metadata": {
    "execution": {
     "iopub.execute_input": "2025-07-30T21:48:12.988501Z",
     "iopub.status.busy": "2025-07-30T21:48:12.986647Z",
     "iopub.status.idle": "2025-07-30T21:48:12.995325Z",
     "shell.execute_reply": "2025-07-30T21:48:12.994465Z"
    },
    "papermill": {
     "duration": 0.032673,
     "end_time": "2025-07-30T21:48:12.996986",
     "exception": false,
     "start_time": "2025-07-30T21:48:12.964313",
     "status": "completed"
    },
    "tags": []
   },
   "outputs": [],
   "source": [
    "n_drop = (~keep_mask).sum() # Calculates how many rows are set to be dropped\n",
    "if n_drop > 0:\n",
    "    pct = n_drop / len(keep_mask) * 100\n",
    "    print(f\"Dropping {n_drop} rows ({pct:.2f}%) where mode='{mode}'\")"
   ]
  },
  {
   "cell_type": "code",
   "execution_count": 39,
   "id": "5fb8eee5",
   "metadata": {
    "execution": {
     "iopub.execute_input": "2025-07-30T21:48:13.041867Z",
     "iopub.status.busy": "2025-07-30T21:48:13.041393Z",
     "iopub.status.idle": "2025-07-30T21:48:13.047835Z",
     "shell.execute_reply": "2025-07-30T21:48:13.046849Z"
    },
    "papermill": {
     "duration": 0.030814,
     "end_time": "2025-07-30T21:48:13.049305",
     "exception": false,
     "start_time": "2025-07-30T21:48:13.018491",
     "status": "completed"
    },
    "tags": []
   },
   "outputs": [],
   "source": [
    "X_train = X_train[keep_mask]"
   ]
  },
  {
   "cell_type": "code",
   "execution_count": 40,
   "id": "b202bb3a",
   "metadata": {
    "execution": {
     "iopub.execute_input": "2025-07-30T21:48:13.094532Z",
     "iopub.status.busy": "2025-07-30T21:48:13.093828Z",
     "iopub.status.idle": "2025-07-30T21:48:13.098564Z",
     "shell.execute_reply": "2025-07-30T21:48:13.097857Z"
    },
    "papermill": {
     "duration": 0.036269,
     "end_time": "2025-07-30T21:48:13.107162",
     "exception": false,
     "start_time": "2025-07-30T21:48:13.070893",
     "status": "completed"
    },
    "tags": []
   },
   "outputs": [],
   "source": [
    "y_train = y_train[keep_mask]"
   ]
  },
  {
   "cell_type": "markdown",
   "id": "493e2ac3",
   "metadata": {
    "papermill": {
     "duration": 0.022596,
     "end_time": "2025-07-30T21:48:13.152511",
     "exception": false,
     "start_time": "2025-07-30T21:48:13.129915",
     "status": "completed"
    },
    "tags": []
   },
   "source": [
    "# Model Training"
   ]
  },
  {
   "cell_type": "code",
   "execution_count": 41,
   "id": "679e1268",
   "metadata": {
    "execution": {
     "iopub.execute_input": "2025-07-30T21:48:13.199292Z",
     "iopub.status.busy": "2025-07-30T21:48:13.198309Z",
     "iopub.status.idle": "2025-07-30T21:48:13.301220Z",
     "shell.execute_reply": "2025-07-30T21:48:13.300179Z"
    },
    "papermill": {
     "duration": 0.128542,
     "end_time": "2025-07-30T21:48:13.303146",
     "exception": false,
     "start_time": "2025-07-30T21:48:13.174604",
     "status": "completed"
    },
    "tags": []
   },
   "outputs": [],
   "source": [
    "from sklearn.linear_model import LogisticRegression\n",
    "from sklearn.ensemble import GradientBoostingClassifier, RandomForestClassifier\n",
    "\n",
    "if (universe[\"model\"] == \"logreg\"):\n",
    "    model = LogisticRegression() #penalty=\"none\") #, solver=\"newton-cg\", max_iter=1) # include random_state=19 ?\n",
    "elif (universe[\"model\"] == \"penalized_logreg\"):\n",
    "    model = LogisticRegression(penalty=\"l2\", C=1.0) #, solver=\"newton-cg\", max_iter=1)\n",
    "elif (universe[\"model\"] == \"rf\"):\n",
    "    model = RandomForestClassifier(n_estimators=100, n_jobs=-1)\n",
    "elif (universe[\"model\"] == \"gbm\"):\n",
    "    model = GradientBoostingClassifier()\n",
    "elif (universe[\"model\"] == \"elasticnet\"):\n",
    "    model = LogisticRegression(penalty = 'elasticnet', solver = 'saga', l1_ratio = 0.5, max_iter=5000) # which solver to use?\n",
    "else:\n",
    "    raise \"Unsupported universe.model\""
   ]
  },
  {
   "cell_type": "code",
   "execution_count": 42,
   "id": "0cc8f744",
   "metadata": {
    "execution": {
     "iopub.execute_input": "2025-07-30T21:48:13.349988Z",
     "iopub.status.busy": "2025-07-30T21:48:13.349131Z",
     "iopub.status.idle": "2025-07-30T21:48:13.356710Z",
     "shell.execute_reply": "2025-07-30T21:48:13.355612Z"
    },
    "papermill": {
     "duration": 0.033194,
     "end_time": "2025-07-30T21:48:13.358490",
     "exception": false,
     "start_time": "2025-07-30T21:48:13.325296",
     "status": "completed"
    },
    "tags": []
   },
   "outputs": [],
   "source": [
    "import numpy as np\n",
    "from sklearn.pipeline import Pipeline\n",
    "from sklearn.preprocessing import StandardScaler\n",
    "\n",
    "model = Pipeline([\n",
    "    #(\"continuous_processor\", continuous_processor),\n",
    "    #(\"categorical_preprocessor\", categorical_preprocessor),\n",
    "    (\"scale\", StandardScaler() if universe[\"scale\"] == \"scale\" else None), \n",
    "    (\"model\", model),\n",
    "])"
   ]
  },
  {
   "cell_type": "code",
   "execution_count": 43,
   "id": "9442c04d",
   "metadata": {
    "execution": {
     "iopub.execute_input": "2025-07-30T21:48:13.405826Z",
     "iopub.status.busy": "2025-07-30T21:48:13.404866Z",
     "iopub.status.idle": "2025-07-30T21:48:17.108256Z",
     "shell.execute_reply": "2025-07-30T21:48:17.107531Z"
    },
    "papermill": {
     "duration": 3.728766,
     "end_time": "2025-07-30T21:48:17.109683",
     "exception": false,
     "start_time": "2025-07-30T21:48:13.380917",
     "status": "completed"
    },
    "tags": []
   },
   "outputs": [
    {
     "data": {
      "text/html": [
       "<style>#sk-container-id-1 {color: black;background-color: white;}#sk-container-id-1 pre{padding: 0;}#sk-container-id-1 div.sk-toggleable {background-color: white;}#sk-container-id-1 label.sk-toggleable__label {cursor: pointer;display: block;width: 100%;margin-bottom: 0;padding: 0.3em;box-sizing: border-box;text-align: center;}#sk-container-id-1 label.sk-toggleable__label-arrow:before {content: \"▸\";float: left;margin-right: 0.25em;color: #696969;}#sk-container-id-1 label.sk-toggleable__label-arrow:hover:before {color: black;}#sk-container-id-1 div.sk-estimator:hover label.sk-toggleable__label-arrow:before {color: black;}#sk-container-id-1 div.sk-toggleable__content {max-height: 0;max-width: 0;overflow: hidden;text-align: left;background-color: #f0f8ff;}#sk-container-id-1 div.sk-toggleable__content pre {margin: 0.2em;color: black;border-radius: 0.25em;background-color: #f0f8ff;}#sk-container-id-1 input.sk-toggleable__control:checked~div.sk-toggleable__content {max-height: 200px;max-width: 100%;overflow: auto;}#sk-container-id-1 input.sk-toggleable__control:checked~label.sk-toggleable__label-arrow:before {content: \"▾\";}#sk-container-id-1 div.sk-estimator input.sk-toggleable__control:checked~label.sk-toggleable__label {background-color: #d4ebff;}#sk-container-id-1 div.sk-label input.sk-toggleable__control:checked~label.sk-toggleable__label {background-color: #d4ebff;}#sk-container-id-1 input.sk-hidden--visually {border: 0;clip: rect(1px 1px 1px 1px);clip: rect(1px, 1px, 1px, 1px);height: 1px;margin: -1px;overflow: hidden;padding: 0;position: absolute;width: 1px;}#sk-container-id-1 div.sk-estimator {font-family: monospace;background-color: #f0f8ff;border: 1px dotted black;border-radius: 0.25em;box-sizing: border-box;margin-bottom: 0.5em;}#sk-container-id-1 div.sk-estimator:hover {background-color: #d4ebff;}#sk-container-id-1 div.sk-parallel-item::after {content: \"\";width: 100%;border-bottom: 1px solid gray;flex-grow: 1;}#sk-container-id-1 div.sk-label:hover label.sk-toggleable__label {background-color: #d4ebff;}#sk-container-id-1 div.sk-serial::before {content: \"\";position: absolute;border-left: 1px solid gray;box-sizing: border-box;top: 0;bottom: 0;left: 50%;z-index: 0;}#sk-container-id-1 div.sk-serial {display: flex;flex-direction: column;align-items: center;background-color: white;padding-right: 0.2em;padding-left: 0.2em;position: relative;}#sk-container-id-1 div.sk-item {position: relative;z-index: 1;}#sk-container-id-1 div.sk-parallel {display: flex;align-items: stretch;justify-content: center;background-color: white;position: relative;}#sk-container-id-1 div.sk-item::before, #sk-container-id-1 div.sk-parallel-item::before {content: \"\";position: absolute;border-left: 1px solid gray;box-sizing: border-box;top: 0;bottom: 0;left: 50%;z-index: -1;}#sk-container-id-1 div.sk-parallel-item {display: flex;flex-direction: column;z-index: 1;position: relative;background-color: white;}#sk-container-id-1 div.sk-parallel-item:first-child::after {align-self: flex-end;width: 50%;}#sk-container-id-1 div.sk-parallel-item:last-child::after {align-self: flex-start;width: 50%;}#sk-container-id-1 div.sk-parallel-item:only-child::after {width: 0;}#sk-container-id-1 div.sk-dashed-wrapped {border: 1px dashed gray;margin: 0 0.4em 0.5em 0.4em;box-sizing: border-box;padding-bottom: 0.4em;background-color: white;}#sk-container-id-1 div.sk-label label {font-family: monospace;font-weight: bold;display: inline-block;line-height: 1.2em;}#sk-container-id-1 div.sk-label-container {text-align: center;}#sk-container-id-1 div.sk-container {/* jupyter's `normalize.less` sets `[hidden] { display: none; }` but bootstrap.min.css set `[hidden] { display: none !important; }` so we also need the `!important` here to be able to override the default hidden behavior on the sphinx rendered scikit-learn.org. See: https://github.com/scikit-learn/scikit-learn/issues/21755 */display: inline-block !important;position: relative;}#sk-container-id-1 div.sk-text-repr-fallback {display: none;}</style><div id=\"sk-container-id-1\" class=\"sk-top-container\"><div class=\"sk-text-repr-fallback\"><pre>Pipeline(steps=[(&#x27;scale&#x27;, StandardScaler()),\n",
       "                (&#x27;model&#x27;,\n",
       "                 LogisticRegression(l1_ratio=0.5, max_iter=5000,\n",
       "                                    penalty=&#x27;elasticnet&#x27;, solver=&#x27;saga&#x27;))])</pre><b>In a Jupyter environment, please rerun this cell to show the HTML representation or trust the notebook. <br />On GitHub, the HTML representation is unable to render, please try loading this page with nbviewer.org.</b></div><div class=\"sk-container\" hidden><div class=\"sk-item sk-dashed-wrapped\"><div class=\"sk-label-container\"><div class=\"sk-label sk-toggleable\"><input class=\"sk-toggleable__control sk-hidden--visually\" id=\"sk-estimator-id-1\" type=\"checkbox\" ><label for=\"sk-estimator-id-1\" class=\"sk-toggleable__label sk-toggleable__label-arrow\">Pipeline</label><div class=\"sk-toggleable__content\"><pre>Pipeline(steps=[(&#x27;scale&#x27;, StandardScaler()),\n",
       "                (&#x27;model&#x27;,\n",
       "                 LogisticRegression(l1_ratio=0.5, max_iter=5000,\n",
       "                                    penalty=&#x27;elasticnet&#x27;, solver=&#x27;saga&#x27;))])</pre></div></div></div><div class=\"sk-serial\"><div class=\"sk-item\"><div class=\"sk-estimator sk-toggleable\"><input class=\"sk-toggleable__control sk-hidden--visually\" id=\"sk-estimator-id-2\" type=\"checkbox\" ><label for=\"sk-estimator-id-2\" class=\"sk-toggleable__label sk-toggleable__label-arrow\">StandardScaler</label><div class=\"sk-toggleable__content\"><pre>StandardScaler()</pre></div></div></div><div class=\"sk-item\"><div class=\"sk-estimator sk-toggleable\"><input class=\"sk-toggleable__control sk-hidden--visually\" id=\"sk-estimator-id-3\" type=\"checkbox\" ><label for=\"sk-estimator-id-3\" class=\"sk-toggleable__label sk-toggleable__label-arrow\">LogisticRegression</label><div class=\"sk-toggleable__content\"><pre>LogisticRegression(l1_ratio=0.5, max_iter=5000, penalty=&#x27;elasticnet&#x27;,\n",
       "                   solver=&#x27;saga&#x27;)</pre></div></div></div></div></div></div></div>"
      ],
      "text/plain": [
       "Pipeline(steps=[('scale', StandardScaler()),\n",
       "                ('model',\n",
       "                 LogisticRegression(l1_ratio=0.5, max_iter=5000,\n",
       "                                    penalty='elasticnet', solver='saga'))])"
      ]
     },
     "execution_count": 43,
     "metadata": {},
     "output_type": "execute_result"
    }
   ],
   "source": [
    "model.fit(X_train, y_train.values.ravel())"
   ]
  },
  {
   "cell_type": "code",
   "execution_count": 44,
   "id": "af59f8c0",
   "metadata": {
    "execution": {
     "iopub.execute_input": "2025-07-30T21:48:17.163270Z",
     "iopub.status.busy": "2025-07-30T21:48:17.162805Z",
     "iopub.status.idle": "2025-07-30T21:48:17.168474Z",
     "shell.execute_reply": "2025-07-30T21:48:17.167446Z"
    },
    "papermill": {
     "duration": 0.032796,
     "end_time": "2025-07-30T21:48:17.170314",
     "exception": false,
     "start_time": "2025-07-30T21:48:17.137518",
     "status": "completed"
    },
    "tags": []
   },
   "outputs": [],
   "source": [
    "from fairness_multiverse.universe import predict_w_threshold"
   ]
  },
  {
   "cell_type": "code",
   "execution_count": 45,
   "id": "a7cf2e16",
   "metadata": {
    "execution": {
     "iopub.execute_input": "2025-07-30T21:48:17.219348Z",
     "iopub.status.busy": "2025-07-30T21:48:17.218827Z",
     "iopub.status.idle": "2025-07-30T21:48:17.446246Z",
     "shell.execute_reply": "2025-07-30T21:48:17.445102Z"
    },
    "papermill": {
     "duration": 0.251907,
     "end_time": "2025-07-30T21:48:17.448193",
     "exception": false,
     "start_time": "2025-07-30T21:48:17.196286",
     "status": "completed"
    },
    "tags": []
   },
   "outputs": [
    {
     "data": {
      "text/plain": [
       "0.8242336417344778"
      ]
     },
     "execution_count": 45,
     "metadata": {},
     "output_type": "execute_result"
    }
   ],
   "source": [
    "probs_test = model.predict_proba(X_test)\n",
    "\n",
    "'''\n",
    "Below code returns a boolean array (or binary 0/1 array depending on how it’s used) where each element \n",
    "is True if the probability of class 1 is greater than or equal to the threshold, and False otherwise.\n",
    "'''\n",
    "y_pred_default = predict_w_threshold(probs_test, 0.5)\n",
    "\n",
    "from sklearn.metrics import accuracy_score\n",
    "\n",
    "# Naive prediction\n",
    "accuracy_score(y_true = y_true, y_pred = y_pred_default)"
   ]
  },
  {
   "cell_type": "code",
   "execution_count": 46,
   "id": "081964c3",
   "metadata": {
    "execution": {
     "iopub.execute_input": "2025-07-30T21:48:17.498539Z",
     "iopub.status.busy": "2025-07-30T21:48:17.497586Z",
     "iopub.status.idle": "2025-07-30T21:48:17.711927Z",
     "shell.execute_reply": "2025-07-30T21:48:17.710782Z"
    },
    "papermill": {
     "duration": 0.239884,
     "end_time": "2025-07-30T21:48:17.713761",
     "exception": false,
     "start_time": "2025-07-30T21:48:17.473877",
     "status": "completed"
    },
    "tags": []
   },
   "outputs": [
    {
     "data": {
      "text/plain": [
       "array([0, 0, 0, ..., 0, 0, 0])"
      ]
     },
     "execution_count": 46,
     "metadata": {},
     "output_type": "execute_result"
    }
   ],
   "source": [
    "model.predict(X_test)"
   ]
  },
  {
   "cell_type": "markdown",
   "id": "56c9705b",
   "metadata": {
    "papermill": {
     "duration": 0.031845,
     "end_time": "2025-07-30T21:48:17.778609",
     "exception": false,
     "start_time": "2025-07-30T21:48:17.746764",
     "status": "completed"
    },
    "tags": []
   },
   "source": [
    "# Conformal Prediction"
   ]
  },
  {
   "cell_type": "code",
   "execution_count": 47,
   "id": "160ec6ff",
   "metadata": {
    "execution": {
     "iopub.execute_input": "2025-07-30T21:48:17.838659Z",
     "iopub.status.busy": "2025-07-30T21:48:17.838049Z",
     "iopub.status.idle": "2025-07-30T21:48:17.845217Z",
     "shell.execute_reply": "2025-07-30T21:48:17.844097Z"
    },
    "papermill": {
     "duration": 0.036949,
     "end_time": "2025-07-30T21:48:17.846963",
     "exception": false,
     "start_time": "2025-07-30T21:48:17.810014",
     "status": "completed"
    },
    "tags": []
   },
   "outputs": [],
   "source": [
    "# Miscoverage level for conformal prediction (10% allowed error rate => 90% target coverage)\n",
    "alpha = 0.1"
   ]
  },
  {
   "cell_type": "code",
   "execution_count": 48,
   "id": "eadf4555-3dd3-440e-8e35-f82a4ad9f855",
   "metadata": {
    "execution": {
     "iopub.execute_input": "2025-07-30T21:48:17.902681Z",
     "iopub.status.busy": "2025-07-30T21:48:17.902067Z",
     "iopub.status.idle": "2025-07-30T21:48:18.182970Z",
     "shell.execute_reply": "2025-07-30T21:48:18.181551Z"
    },
    "papermill": {
     "duration": 0.311205,
     "end_time": "2025-07-30T21:48:18.185135",
     "exception": false,
     "start_time": "2025-07-30T21:48:17.873930",
     "status": "completed"
    },
    "tags": []
   },
   "outputs": [],
   "source": [
    "probs_calib = model.predict_proba(X_calib)"
   ]
  },
  {
   "cell_type": "code",
   "execution_count": 49,
   "id": "2ed93547-6d5d-4983-9b36-1ecb300da49a",
   "metadata": {
    "execution": {
     "iopub.execute_input": "2025-07-30T21:48:18.222931Z",
     "iopub.status.busy": "2025-07-30T21:48:18.222277Z",
     "iopub.status.idle": "2025-07-30T21:48:18.230027Z",
     "shell.execute_reply": "2025-07-30T21:48:18.228562Z"
    },
    "papermill": {
     "duration": 0.024961,
     "end_time": "2025-07-30T21:48:18.232816",
     "exception": false,
     "start_time": "2025-07-30T21:48:18.207855",
     "status": "completed"
    },
    "tags": []
   },
   "outputs": [],
   "source": [
    "y_calib = y_calib.values.ravel().astype(int)"
   ]
  },
  {
   "cell_type": "code",
   "execution_count": 50,
   "id": "65d1320d-f588-4b38-9072-62af1ae97f7d",
   "metadata": {
    "execution": {
     "iopub.execute_input": "2025-07-30T21:48:18.287139Z",
     "iopub.status.busy": "2025-07-30T21:48:18.286160Z",
     "iopub.status.idle": "2025-07-30T21:48:18.295175Z",
     "shell.execute_reply": "2025-07-30T21:48:18.294107Z"
    },
    "papermill": {
     "duration": 0.037778,
     "end_time": "2025-07-30T21:48:18.297141",
     "exception": false,
     "start_time": "2025-07-30T21:48:18.259363",
     "status": "completed"
    },
    "tags": []
   },
   "outputs": [],
   "source": [
    "from fairness_multiverse.conformal import compute_nc_scores\n",
    "\n",
    "# Compute nonconformity scores on calibration set (1 - probability of true class)\n",
    "nc_scores = compute_nc_scores(probs_calib, y_calib)"
   ]
  },
  {
   "cell_type": "code",
   "execution_count": 51,
   "id": "df3b8ca3-53b7-43d5-9667-7c85da7aeda2",
   "metadata": {
    "execution": {
     "iopub.execute_input": "2025-07-30T21:48:18.352863Z",
     "iopub.status.busy": "2025-07-30T21:48:18.352312Z",
     "iopub.status.idle": "2025-07-30T21:48:18.359574Z",
     "shell.execute_reply": "2025-07-30T21:48:18.358628Z"
    },
    "papermill": {
     "duration": 0.038351,
     "end_time": "2025-07-30T21:48:18.361300",
     "exception": false,
     "start_time": "2025-07-30T21:48:18.322949",
     "status": "completed"
    },
    "tags": []
   },
   "outputs": [],
   "source": [
    "from fairness_multiverse.conformal import find_threshold\n",
    "\n",
    "# Find conformal threshold q_hat for the given alpha (split conformal method)\n",
    "q_hat = find_threshold(nc_scores, alpha)"
   ]
  },
  {
   "cell_type": "code",
   "execution_count": 52,
   "id": "4d29e6c1-0ef6-4aa4-b8fe-4fe79b0d033a",
   "metadata": {
    "execution": {
     "iopub.execute_input": "2025-07-30T21:48:18.418600Z",
     "iopub.status.busy": "2025-07-30T21:48:18.417913Z",
     "iopub.status.idle": "2025-07-30T21:48:18.425736Z",
     "shell.execute_reply": "2025-07-30T21:48:18.424812Z"
    },
    "papermill": {
     "duration": 0.038155,
     "end_time": "2025-07-30T21:48:18.427290",
     "exception": false,
     "start_time": "2025-07-30T21:48:18.389135",
     "status": "completed"
    },
    "tags": []
   },
   "outputs": [
    {
     "data": {
      "text/plain": [
       "0.7544929942685162"
      ]
     },
     "execution_count": 52,
     "metadata": {},
     "output_type": "execute_result"
    }
   ],
   "source": [
    "q_hat"
   ]
  },
  {
   "cell_type": "code",
   "execution_count": 53,
   "id": "92460794-cdac-4be2-ba28-f28c0515a6fb",
   "metadata": {
    "execution": {
     "iopub.execute_input": "2025-07-30T21:48:18.492094Z",
     "iopub.status.busy": "2025-07-30T21:48:18.491604Z",
     "iopub.status.idle": "2025-07-30T21:48:19.249647Z",
     "shell.execute_reply": "2025-07-30T21:48:19.248496Z"
    },
    "papermill": {
     "duration": 0.794527,
     "end_time": "2025-07-30T21:48:19.251657",
     "exception": false,
     "start_time": "2025-07-30T21:48:18.457130",
     "status": "completed"
    },
    "tags": []
   },
   "outputs": [],
   "source": [
    "from fairness_multiverse.conformal import predict_conformal_sets\n",
    "\n",
    "# Generate prediction sets for each test example\n",
    "pred_sets = predict_conformal_sets(model, X_test, q_hat)"
   ]
  },
  {
   "cell_type": "code",
   "execution_count": 54,
   "id": "d90c9a65-e6db-4f5d-80cd-e68fb7e46829",
   "metadata": {
    "execution": {
     "iopub.execute_input": "2025-07-30T21:48:19.307106Z",
     "iopub.status.busy": "2025-07-30T21:48:19.306457Z",
     "iopub.status.idle": "2025-07-30T21:48:19.312478Z",
     "shell.execute_reply": "2025-07-30T21:48:19.311428Z"
    },
    "papermill": {
     "duration": 0.035267,
     "end_time": "2025-07-30T21:48:19.314219",
     "exception": false,
     "start_time": "2025-07-30T21:48:19.278952",
     "status": "completed"
    },
    "tags": []
   },
   "outputs": [],
   "source": [
    "y_true = y_true.squeeze()"
   ]
  },
  {
   "cell_type": "code",
   "execution_count": 55,
   "id": "3a58a54a-1e68-46b9-927a-df01f18aebc8",
   "metadata": {
    "execution": {
     "iopub.execute_input": "2025-07-30T21:48:19.358333Z",
     "iopub.status.busy": "2025-07-30T21:48:19.357149Z",
     "iopub.status.idle": "2025-07-30T21:48:20.282884Z",
     "shell.execute_reply": "2025-07-30T21:48:20.281859Z"
    },
    "papermill": {
     "duration": 0.947015,
     "end_time": "2025-07-30T21:48:20.284938",
     "exception": false,
     "start_time": "2025-07-30T21:48:19.337923",
     "status": "completed"
    },
    "tags": []
   },
   "outputs": [],
   "source": [
    "from fairness_multiverse.conformal import evaluate_sets\n",
    "\n",
    "# Evaluate coverage and average set size on test data\n",
    "metrics = evaluate_sets(pred_sets, y_true)"
   ]
  },
  {
   "cell_type": "markdown",
   "id": "2b569c12-9aaa-4c88-98c9-bbcd0cf3ebb8",
   "metadata": {
    "papermill": {
     "duration": 0.02866,
     "end_time": "2025-07-30T21:48:20.341643",
     "exception": false,
     "start_time": "2025-07-30T21:48:20.312983",
     "status": "completed"
    },
    "tags": []
   },
   "source": [
    "# CP Metrics"
   ]
  },
  {
   "cell_type": "code",
   "execution_count": 56,
   "id": "5ce0a5cb-201f-45a0-ade5-94c7f0bd6095",
   "metadata": {
    "execution": {
     "iopub.execute_input": "2025-07-30T21:48:20.397236Z",
     "iopub.status.busy": "2025-07-30T21:48:20.396720Z",
     "iopub.status.idle": "2025-07-30T21:48:20.403813Z",
     "shell.execute_reply": "2025-07-30T21:48:20.402831Z"
    },
    "papermill": {
     "duration": 0.036614,
     "end_time": "2025-07-30T21:48:20.405477",
     "exception": false,
     "start_time": "2025-07-30T21:48:20.368863",
     "status": "completed"
    },
    "tags": []
   },
   "outputs": [
    {
     "data": {
      "text/plain": [
       "{'coverage': 0.9077137442871475, 'avg_size': 1.2216475309330064}"
      ]
     },
     "execution_count": 56,
     "metadata": {},
     "output_type": "execute_result"
    }
   ],
   "source": [
    "metrics"
   ]
  },
  {
   "cell_type": "code",
   "execution_count": 57,
   "id": "9b9a838d-31c9-430b-ae14-12baee460d17",
   "metadata": {
    "execution": {
     "iopub.execute_input": "2025-07-30T21:48:20.462949Z",
     "iopub.status.busy": "2025-07-30T21:48:20.462489Z",
     "iopub.status.idle": "2025-07-30T21:48:20.468604Z",
     "shell.execute_reply": "2025-07-30T21:48:20.467758Z"
    },
    "papermill": {
     "duration": 0.03734,
     "end_time": "2025-07-30T21:48:20.470393",
     "exception": false,
     "start_time": "2025-07-30T21:48:20.433053",
     "status": "completed"
    },
    "tags": []
   },
   "outputs": [],
   "source": [
    "example_universe = universe.copy()\n",
    "universe_training_year = example_universe.get(\"training_year\")\n",
    "universe_training_size = example_universe.get(\"training_size\")\n",
    "universe_scale = example_universe.get(\"scale\")\n",
    "universe_model = example_universe.get(\"model\")\n",
    "universe_exclude_features = example_universe.get(\"exclude_features\")\n",
    "universe_exclude_subgroups = example_universe.get(\"exclude_subgroups\")"
   ]
  },
  {
   "cell_type": "code",
   "execution_count": 58,
   "id": "f4b6a8ac-9dc0-4245-8a91-5b3b5999c4f9",
   "metadata": {
    "execution": {
     "iopub.execute_input": "2025-07-30T21:48:20.524734Z",
     "iopub.status.busy": "2025-07-30T21:48:20.524203Z",
     "iopub.status.idle": "2025-07-30T21:48:20.531276Z",
     "shell.execute_reply": "2025-07-30T21:48:20.530397Z"
    },
    "papermill": {
     "duration": 0.034342,
     "end_time": "2025-07-30T21:48:20.532786",
     "exception": false,
     "start_time": "2025-07-30T21:48:20.498444",
     "status": "completed"
    },
    "tags": []
   },
   "outputs": [],
   "source": [
    "cp_metrics_dict = {\n",
    "    \"universe_id\": [universe_id],\n",
    "    \"universe_training_year\": [universe_training_year],\n",
    "    \"universe_training_size\": [universe_training_size],\n",
    "    \"universe_scale\": [universe_scale],\n",
    "    \"universe_model\": [universe_model],\n",
    "    \"universe_exclude_features\": [universe_exclude_features],\n",
    "    \"universe_exclude_subgroups\": [universe_exclude_subgroups],\n",
    "    \"q_hat\": [q_hat],\n",
    "    \"coverage\": [metrics[\"coverage\"]],\n",
    "    \"avg_size\": [metrics[\"avg_size\"]],\n",
    "}"
   ]
  },
  {
   "cell_type": "code",
   "execution_count": 59,
   "id": "908acbb1-0371-4915-85ca-3fa520d2efe2",
   "metadata": {
    "execution": {
     "iopub.execute_input": "2025-07-30T21:48:20.583720Z",
     "iopub.status.busy": "2025-07-30T21:48:20.583211Z",
     "iopub.status.idle": "2025-07-30T21:48:20.591735Z",
     "shell.execute_reply": "2025-07-30T21:48:20.590784Z"
    },
    "papermill": {
     "duration": 0.036214,
     "end_time": "2025-07-30T21:48:20.593296",
     "exception": false,
     "start_time": "2025-07-30T21:48:20.557082",
     "status": "completed"
    },
    "tags": []
   },
   "outputs": [
    {
     "data": {
      "text/plain": [
       "{'universe_id': ['bb91e921d4df9b81ab1b40f005954634'],\n",
       " 'universe_training_year': ['2010_14'],\n",
       " 'universe_training_size': ['1k'],\n",
       " 'universe_scale': ['scale'],\n",
       " 'universe_model': ['elasticnet'],\n",
       " 'universe_exclude_features': ['nationality'],\n",
       " 'universe_exclude_subgroups': ['keep-all'],\n",
       " 'q_hat': [0.7544929942685162],\n",
       " 'coverage': [0.9077137442871475],\n",
       " 'avg_size': [1.2216475309330064]}"
      ]
     },
     "execution_count": 59,
     "metadata": {},
     "output_type": "execute_result"
    }
   ],
   "source": [
    "cp_metrics_dict"
   ]
  },
  {
   "cell_type": "code",
   "execution_count": 60,
   "id": "33007efc-14e9-4ec6-97ac-56a455c82265",
   "metadata": {
    "execution": {
     "iopub.execute_input": "2025-07-30T21:48:20.641528Z",
     "iopub.status.busy": "2025-07-30T21:48:20.641118Z",
     "iopub.status.idle": "2025-07-30T21:48:20.646146Z",
     "shell.execute_reply": "2025-07-30T21:48:20.645179Z"
    },
    "papermill": {
     "duration": 0.030342,
     "end_time": "2025-07-30T21:48:20.647616",
     "exception": false,
     "start_time": "2025-07-30T21:48:20.617274",
     "status": "completed"
    },
    "tags": []
   },
   "outputs": [],
   "source": [
    "cp_metrics_df = pd.DataFrame(cp_metrics_dict)"
   ]
  },
  {
   "cell_type": "code",
   "execution_count": 61,
   "id": "db12611b-57b2-4910-b9d0-355adfd6e7bf",
   "metadata": {
    "execution": {
     "iopub.execute_input": "2025-07-30T21:48:20.696519Z",
     "iopub.status.busy": "2025-07-30T21:48:20.695835Z",
     "iopub.status.idle": "2025-07-30T21:48:20.713647Z",
     "shell.execute_reply": "2025-07-30T21:48:20.712700Z"
    },
    "papermill": {
     "duration": 0.044157,
     "end_time": "2025-07-30T21:48:20.715146",
     "exception": false,
     "start_time": "2025-07-30T21:48:20.670989",
     "status": "completed"
    },
    "tags": []
   },
   "outputs": [
    {
     "data": {
      "text/html": [
       "<div>\n",
       "<style scoped>\n",
       "    .dataframe tbody tr th:only-of-type {\n",
       "        vertical-align: middle;\n",
       "    }\n",
       "\n",
       "    .dataframe tbody tr th {\n",
       "        vertical-align: top;\n",
       "    }\n",
       "\n",
       "    .dataframe thead th {\n",
       "        text-align: right;\n",
       "    }\n",
       "</style>\n",
       "<table border=\"1\" class=\"dataframe\">\n",
       "  <thead>\n",
       "    <tr style=\"text-align: right;\">\n",
       "      <th></th>\n",
       "      <th>universe_id</th>\n",
       "      <th>universe_training_year</th>\n",
       "      <th>universe_training_size</th>\n",
       "      <th>universe_scale</th>\n",
       "      <th>universe_model</th>\n",
       "      <th>universe_exclude_features</th>\n",
       "      <th>universe_exclude_subgroups</th>\n",
       "      <th>q_hat</th>\n",
       "      <th>coverage</th>\n",
       "      <th>avg_size</th>\n",
       "    </tr>\n",
       "  </thead>\n",
       "  <tbody>\n",
       "    <tr>\n",
       "      <th>0</th>\n",
       "      <td>bb91e921d4df9b81ab1b40f005954634</td>\n",
       "      <td>2010_14</td>\n",
       "      <td>1k</td>\n",
       "      <td>scale</td>\n",
       "      <td>elasticnet</td>\n",
       "      <td>nationality</td>\n",
       "      <td>keep-all</td>\n",
       "      <td>0.754493</td>\n",
       "      <td>0.907714</td>\n",
       "      <td>1.221648</td>\n",
       "    </tr>\n",
       "  </tbody>\n",
       "</table>\n",
       "</div>"
      ],
      "text/plain": [
       "                        universe_id universe_training_year  \\\n",
       "0  bb91e921d4df9b81ab1b40f005954634                2010_14   \n",
       "\n",
       "  universe_training_size universe_scale universe_model  \\\n",
       "0                     1k          scale     elasticnet   \n",
       "\n",
       "  universe_exclude_features universe_exclude_subgroups     q_hat  coverage  \\\n",
       "0               nationality                   keep-all  0.754493  0.907714   \n",
       "\n",
       "   avg_size  \n",
       "0  1.221648  "
      ]
     },
     "execution_count": 61,
     "metadata": {},
     "output_type": "execute_result"
    }
   ],
   "source": [
    "cp_metrics_df"
   ]
  },
  {
   "cell_type": "code",
   "execution_count": 62,
   "id": "b7fbde55-a0a1-47e4-9af6-fe4a17fa8c61",
   "metadata": {
    "execution": {
     "iopub.execute_input": "2025-07-30T21:48:20.761846Z",
     "iopub.status.busy": "2025-07-30T21:48:20.761470Z",
     "iopub.status.idle": "2025-07-30T21:48:20.764912Z",
     "shell.execute_reply": "2025-07-30T21:48:20.764205Z"
    },
    "papermill": {
     "duration": 0.028248,
     "end_time": "2025-07-30T21:48:20.766302",
     "exception": false,
     "start_time": "2025-07-30T21:48:20.738054",
     "status": "completed"
    },
    "tags": []
   },
   "outputs": [],
   "source": [
    "# Conditional Coverage & looking at subgroups"
   ]
  },
  {
   "cell_type": "code",
   "execution_count": 63,
   "id": "027ae886-68dd-4141-96c7-805a5450e1ef",
   "metadata": {
    "execution": {
     "iopub.execute_input": "2025-07-30T21:48:20.817874Z",
     "iopub.status.busy": "2025-07-30T21:48:20.817115Z",
     "iopub.status.idle": "2025-07-30T21:48:21.051074Z",
     "shell.execute_reply": "2025-07-30T21:48:21.050180Z"
    },
    "papermill": {
     "duration": 0.261784,
     "end_time": "2025-07-30T21:48:21.053012",
     "exception": false,
     "start_time": "2025-07-30T21:48:20.791228",
     "status": "completed"
    },
    "tags": []
   },
   "outputs": [],
   "source": [
    "from fairness_multiverse.conformal import build_cp_groups\n",
    "\n",
    "cp_groups_df = build_cp_groups(pred_sets, y_true, X_test.index, org_test)\n",
    "#needs universe_id and setting"
   ]
  },
  {
   "cell_type": "code",
   "execution_count": 64,
   "id": "01d5802c-663a-4d1f-9d69-e036faaffbf7",
   "metadata": {
    "execution": {
     "iopub.execute_input": "2025-07-30T21:48:21.111783Z",
     "iopub.status.busy": "2025-07-30T21:48:21.110368Z",
     "iopub.status.idle": "2025-07-30T21:48:21.115797Z",
     "shell.execute_reply": "2025-07-30T21:48:21.114856Z"
    },
    "papermill": {
     "duration": 0.035642,
     "end_time": "2025-07-30T21:48:21.117530",
     "exception": false,
     "start_time": "2025-07-30T21:48:21.081888",
     "status": "completed"
    },
    "tags": []
   },
   "outputs": [],
   "source": [
    "#delete\n",
    "#cp_groups_df"
   ]
  },
  {
   "cell_type": "code",
   "execution_count": 65,
   "id": "fa424af1-d1eb-443d-b717-2d279ada8408",
   "metadata": {
    "execution": {
     "iopub.execute_input": "2025-07-30T21:48:21.173545Z",
     "iopub.status.busy": "2025-07-30T21:48:21.173251Z",
     "iopub.status.idle": "2025-07-30T21:48:21.177387Z",
     "shell.execute_reply": "2025-07-30T21:48:21.176469Z"
    },
    "papermill": {
     "duration": 0.034343,
     "end_time": "2025-07-30T21:48:21.179089",
     "exception": false,
     "start_time": "2025-07-30T21:48:21.144746",
     "status": "completed"
    },
    "tags": []
   },
   "outputs": [],
   "source": [
    "#delete\n",
    "#percentage = (cp_groups_df['nongerman_female'] == 1).mean() * 100\n",
    "#print(percentage)\n"
   ]
  },
  {
   "cell_type": "code",
   "execution_count": 66,
   "id": "6cbdab96-b2b2-45af-ad54-d0516db2e28d",
   "metadata": {
    "execution": {
     "iopub.execute_input": "2025-07-30T21:48:21.228099Z",
     "iopub.status.busy": "2025-07-30T21:48:21.227715Z",
     "iopub.status.idle": "2025-07-30T21:48:22.769193Z",
     "shell.execute_reply": "2025-07-30T21:48:22.768239Z"
    },
    "papermill": {
     "duration": 1.568299,
     "end_time": "2025-07-30T21:48:22.771281",
     "exception": false,
     "start_time": "2025-07-30T21:48:21.202982",
     "status": "completed"
    },
    "tags": []
   },
   "outputs": [],
   "source": [
    "# Define covered = 1 if true_label is in the predicted set\n",
    "cp_groups_df['covered'] = cp_groups_df.apply(\n",
    "    lambda r: int(r['true_label'] in r['pred_set']),\n",
    "    axis=1\n",
    ")"
   ]
  },
  {
   "cell_type": "code",
   "execution_count": 67,
   "id": "338ff529-1a6b-4b87-a931-8e4788d52aad",
   "metadata": {
    "execution": {
     "iopub.execute_input": "2025-07-30T21:48:22.831081Z",
     "iopub.status.busy": "2025-07-30T21:48:22.830186Z",
     "iopub.status.idle": "2025-07-30T21:48:22.835562Z",
     "shell.execute_reply": "2025-07-30T21:48:22.834704Z"
    },
    "papermill": {
     "duration": 0.034922,
     "end_time": "2025-07-30T21:48:22.837098",
     "exception": false,
     "start_time": "2025-07-30T21:48:22.802176",
     "status": "completed"
    },
    "tags": []
   },
   "outputs": [],
   "source": [
    "#cp_groups_df"
   ]
  },
  {
   "cell_type": "code",
   "execution_count": 68,
   "id": "90032e27-66df-4540-9169-4e89cfbaa758",
   "metadata": {
    "execution": {
     "iopub.execute_input": "2025-07-30T21:48:22.886108Z",
     "iopub.status.busy": "2025-07-30T21:48:22.885632Z",
     "iopub.status.idle": "2025-07-30T21:48:22.896378Z",
     "shell.execute_reply": "2025-07-30T21:48:22.895480Z"
    },
    "papermill": {
     "duration": 0.036642,
     "end_time": "2025-07-30T21:48:22.897902",
     "exception": false,
     "start_time": "2025-07-30T21:48:22.861260",
     "status": "completed"
    },
    "tags": []
   },
   "outputs": [],
   "source": [
    "subgroups = ['frau1','nongerman','nongerman_male','nongerman_female']\n",
    "\n",
    "# Conditional coverage for subgroup==1\n",
    "cond_coverage = {\n",
    "    g: cp_groups_df.loc[cp_groups_df[g]==1, 'covered'].mean()\n",
    "    for g in subgroups\n",
    "}"
   ]
  },
  {
   "cell_type": "code",
   "execution_count": 69,
   "id": "1e348fb1-b9c3-45bc-ba23-f016827a7e0d",
   "metadata": {
    "execution": {
     "iopub.execute_input": "2025-07-30T21:48:22.951347Z",
     "iopub.status.busy": "2025-07-30T21:48:22.950583Z",
     "iopub.status.idle": "2025-07-30T21:48:22.957143Z",
     "shell.execute_reply": "2025-07-30T21:48:22.956258Z"
    },
    "papermill": {
     "duration": 0.033266,
     "end_time": "2025-07-30T21:48:22.958515",
     "exception": false,
     "start_time": "2025-07-30T21:48:22.925249",
     "status": "completed"
    },
    "tags": []
   },
   "outputs": [
    {
     "data": {
      "text/plain": [
       "{'frau1': 0.9089365143550344,\n",
       " 'nongerman': 0.9157356986470555,\n",
       " 'nongerman_male': 0.9284877960911465,\n",
       " 'nongerman_female': 0.8946348733233979}"
      ]
     },
     "execution_count": 69,
     "metadata": {},
     "output_type": "execute_result"
    }
   ],
   "source": [
    "cond_coverage"
   ]
  },
  {
   "cell_type": "code",
   "execution_count": 70,
   "id": "f5093324-c3dd-4d63-bc4c-8d945e5c8bbb",
   "metadata": {
    "execution": {
     "iopub.execute_input": "2025-07-30T21:48:22.992975Z",
     "iopub.status.busy": "2025-07-30T21:48:22.992642Z",
     "iopub.status.idle": "2025-07-30T21:48:22.999319Z",
     "shell.execute_reply": "2025-07-30T21:48:22.998479Z"
    },
    "papermill": {
     "duration": 0.021818,
     "end_time": "2025-07-30T21:48:23.000848",
     "exception": false,
     "start_time": "2025-07-30T21:48:22.979030",
     "status": "completed"
    },
    "tags": []
   },
   "outputs": [],
   "source": [
    "for subgroup, cov in cond_coverage.items():\n",
    "    cp_metrics_df[f\"cov_{subgroup}\"] = cov"
   ]
  },
  {
   "cell_type": "code",
   "execution_count": 71,
   "id": "6e872e10-dbe5-49e8-b554-5030c98ff75d",
   "metadata": {
    "execution": {
     "iopub.execute_input": "2025-07-30T21:48:23.055569Z",
     "iopub.status.busy": "2025-07-30T21:48:23.055272Z",
     "iopub.status.idle": "2025-07-30T21:48:23.074416Z",
     "shell.execute_reply": "2025-07-30T21:48:23.073384Z"
    },
    "papermill": {
     "duration": 0.04831,
     "end_time": "2025-07-30T21:48:23.075966",
     "exception": false,
     "start_time": "2025-07-30T21:48:23.027656",
     "status": "completed"
    },
    "tags": []
   },
   "outputs": [
    {
     "data": {
      "text/html": [
       "<div>\n",
       "<style scoped>\n",
       "    .dataframe tbody tr th:only-of-type {\n",
       "        vertical-align: middle;\n",
       "    }\n",
       "\n",
       "    .dataframe tbody tr th {\n",
       "        vertical-align: top;\n",
       "    }\n",
       "\n",
       "    .dataframe thead th {\n",
       "        text-align: right;\n",
       "    }\n",
       "</style>\n",
       "<table border=\"1\" class=\"dataframe\">\n",
       "  <thead>\n",
       "    <tr style=\"text-align: right;\">\n",
       "      <th></th>\n",
       "      <th>universe_id</th>\n",
       "      <th>universe_training_year</th>\n",
       "      <th>universe_training_size</th>\n",
       "      <th>universe_scale</th>\n",
       "      <th>universe_model</th>\n",
       "      <th>universe_exclude_features</th>\n",
       "      <th>universe_exclude_subgroups</th>\n",
       "      <th>q_hat</th>\n",
       "      <th>coverage</th>\n",
       "      <th>avg_size</th>\n",
       "      <th>cov_frau1</th>\n",
       "      <th>cov_nongerman</th>\n",
       "      <th>cov_nongerman_male</th>\n",
       "      <th>cov_nongerman_female</th>\n",
       "    </tr>\n",
       "  </thead>\n",
       "  <tbody>\n",
       "    <tr>\n",
       "      <th>0</th>\n",
       "      <td>bb91e921d4df9b81ab1b40f005954634</td>\n",
       "      <td>2010_14</td>\n",
       "      <td>1k</td>\n",
       "      <td>scale</td>\n",
       "      <td>elasticnet</td>\n",
       "      <td>nationality</td>\n",
       "      <td>keep-all</td>\n",
       "      <td>0.754493</td>\n",
       "      <td>0.907714</td>\n",
       "      <td>1.221648</td>\n",
       "      <td>0.908937</td>\n",
       "      <td>0.915736</td>\n",
       "      <td>0.928488</td>\n",
       "      <td>0.894635</td>\n",
       "    </tr>\n",
       "  </tbody>\n",
       "</table>\n",
       "</div>"
      ],
      "text/plain": [
       "                        universe_id universe_training_year  \\\n",
       "0  bb91e921d4df9b81ab1b40f005954634                2010_14   \n",
       "\n",
       "  universe_training_size universe_scale universe_model  \\\n",
       "0                     1k          scale     elasticnet   \n",
       "\n",
       "  universe_exclude_features universe_exclude_subgroups     q_hat  coverage  \\\n",
       "0               nationality                   keep-all  0.754493  0.907714   \n",
       "\n",
       "   avg_size  cov_frau1  cov_nongerman  cov_nongerman_male  \\\n",
       "0  1.221648   0.908937       0.915736            0.928488   \n",
       "\n",
       "   cov_nongerman_female  \n",
       "0              0.894635  "
      ]
     },
     "execution_count": 71,
     "metadata": {},
     "output_type": "execute_result"
    }
   ],
   "source": [
    "cp_metrics_df"
   ]
  },
  {
   "cell_type": "markdown",
   "id": "33774451",
   "metadata": {
    "papermill": {
     "duration": 0.03544,
     "end_time": "2025-07-30T21:48:23.135378",
     "exception": false,
     "start_time": "2025-07-30T21:48:23.099938",
     "status": "completed"
    },
    "tags": []
   },
   "source": [
    "# (Fairness) Metrics"
   ]
  },
  {
   "cell_type": "code",
   "execution_count": 72,
   "id": "debc5d62",
   "metadata": {
    "execution": {
     "iopub.execute_input": "2025-07-30T21:48:23.210865Z",
     "iopub.status.busy": "2025-07-30T21:48:23.210320Z",
     "iopub.status.idle": "2025-07-30T21:48:23.233758Z",
     "shell.execute_reply": "2025-07-30T21:48:23.232712Z"
    },
    "papermill": {
     "duration": 0.064033,
     "end_time": "2025-07-30T21:48:23.235914",
     "exception": false,
     "start_time": "2025-07-30T21:48:23.171881",
     "status": "completed"
    },
    "tags": []
   },
   "outputs": [],
   "source": [
    "# do I need to include maxdeutsch1.missing?\n",
    "\n",
    "import numpy as np\n",
    "\n",
    "colname_to_bin = \"maxdeutsch1\"\n",
    "majority_value = org_train[colname_to_bin].mode()[0]\n",
    "\n",
    "org_test[\"majmin\"] = np.where(org_test[colname_to_bin] == majority_value, \"majority\", \"minority\")"
   ]
  },
  {
   "cell_type": "code",
   "execution_count": 73,
   "id": "06a50de5",
   "metadata": {
    "execution": {
     "iopub.execute_input": "2025-07-30T21:48:23.301513Z",
     "iopub.status.busy": "2025-07-30T21:48:23.300797Z",
     "iopub.status.idle": "2025-07-30T21:48:25.544740Z",
     "shell.execute_reply": "2025-07-30T21:48:25.543664Z"
    },
    "papermill": {
     "duration": 2.275414,
     "end_time": "2025-07-30T21:48:25.546824",
     "exception": false,
     "start_time": "2025-07-30T21:48:23.271410",
     "status": "completed"
    },
    "tags": []
   },
   "outputs": [],
   "source": [
    "example_universe = universe.copy()\n",
    "example_universe[\"cutoff\"] = example_universe[\"cutoff\"][0]\n",
    "example_universe[\"eval_fairness_grouping\"] = example_universe[\"eval_fairness_grouping\"][0]\n",
    "fairness_dict, metric_frame = universe_analysis.compute_metrics(\n",
    "    example_universe,\n",
    "    y_pred_prob=probs_test,\n",
    "    y_test=y_true,\n",
    "    org_test=org_test,\n",
    ")"
   ]
  },
  {
   "cell_type": "markdown",
   "id": "f95d4e02",
   "metadata": {
    "papermill": {
     "duration": 0.033513,
     "end_time": "2025-07-30T21:48:25.616241",
     "exception": false,
     "start_time": "2025-07-30T21:48:25.582728",
     "status": "completed"
    },
    "tags": []
   },
   "source": [
    "# Overall"
   ]
  },
  {
   "cell_type": "markdown",
   "id": "bdee4871",
   "metadata": {
    "papermill": {
     "duration": 0.031046,
     "end_time": "2025-07-30T21:48:25.676910",
     "exception": false,
     "start_time": "2025-07-30T21:48:25.645864",
     "status": "completed"
    },
    "tags": []
   },
   "source": [
    "Fairness\n",
    "Main fairness target: Equalized Odds. Seems to be a better fit than equal opportunity, since we're not only interested in Y = 1. Seems to be a better fit than demographic parity, since we also care about accuracy, not just equal distribution of preds.\n",
    "\n",
    "Pick column for computation of fairness metrics\n",
    "\n",
    "Performance\n",
    "Overall performance measures, most interesting in relation to the measures split by group below"
   ]
  },
  {
   "cell_type": "code",
   "execution_count": 74,
   "id": "c4e067c6",
   "metadata": {
    "execution": {
     "iopub.execute_input": "2025-07-30T21:48:25.735830Z",
     "iopub.status.busy": "2025-07-30T21:48:25.734962Z",
     "iopub.status.idle": "2025-07-30T21:48:25.743929Z",
     "shell.execute_reply": "2025-07-30T21:48:25.742992Z"
    },
    "papermill": {
     "duration": 0.04263,
     "end_time": "2025-07-30T21:48:25.748929",
     "exception": false,
     "start_time": "2025-07-30T21:48:25.706299",
     "status": "completed"
    },
    "tags": []
   },
   "outputs": [
    {
     "data": {
      "text/plain": [
       "accuracy                   0.219050\n",
       "balanced accuracy          0.536723\n",
       "f1                         0.240528\n",
       "precision                  0.137406\n",
       "false positive rate        0.890578\n",
       "false negative rate        0.035975\n",
       "selection rate             0.900000\n",
       "count                  89710.000000\n",
       "dtype: float64"
      ]
     },
     "execution_count": 74,
     "metadata": {},
     "output_type": "execute_result"
    }
   ],
   "source": [
    "metric_frame.overall"
   ]
  },
  {
   "cell_type": "markdown",
   "id": "e968fe9d",
   "metadata": {
    "papermill": {
     "duration": 0.027176,
     "end_time": "2025-07-30T21:48:25.797692",
     "exception": false,
     "start_time": "2025-07-30T21:48:25.770516",
     "status": "completed"
    },
    "tags": []
   },
   "source": [
    "By Group"
   ]
  },
  {
   "cell_type": "code",
   "execution_count": 75,
   "id": "ec325bce",
   "metadata": {
    "execution": {
     "iopub.execute_input": "2025-07-30T21:48:25.854402Z",
     "iopub.status.busy": "2025-07-30T21:48:25.853929Z",
     "iopub.status.idle": "2025-07-30T21:48:25.885537Z",
     "shell.execute_reply": "2025-07-30T21:48:25.884717Z"
    },
    "papermill": {
     "duration": 0.06168,
     "end_time": "2025-07-30T21:48:25.887107",
     "exception": false,
     "start_time": "2025-07-30T21:48:25.825427",
     "status": "completed"
    },
    "tags": []
   },
   "outputs": [
    {
     "data": {
      "text/html": [
       "<div>\n",
       "<style scoped>\n",
       "    .dataframe tbody tr th:only-of-type {\n",
       "        vertical-align: middle;\n",
       "    }\n",
       "\n",
       "    .dataframe tbody tr th {\n",
       "        vertical-align: top;\n",
       "    }\n",
       "\n",
       "    .dataframe thead th {\n",
       "        text-align: right;\n",
       "    }\n",
       "</style>\n",
       "<table border=\"1\" class=\"dataframe\">\n",
       "  <thead>\n",
       "    <tr style=\"text-align: right;\">\n",
       "      <th></th>\n",
       "      <th>accuracy</th>\n",
       "      <th>balanced accuracy</th>\n",
       "      <th>f1</th>\n",
       "      <th>precision</th>\n",
       "      <th>false positive rate</th>\n",
       "      <th>false negative rate</th>\n",
       "      <th>selection rate</th>\n",
       "      <th>count</th>\n",
       "    </tr>\n",
       "    <tr>\n",
       "      <th>majmin</th>\n",
       "      <th></th>\n",
       "      <th></th>\n",
       "      <th></th>\n",
       "      <th></th>\n",
       "      <th></th>\n",
       "      <th></th>\n",
       "      <th></th>\n",
       "      <th></th>\n",
       "    </tr>\n",
       "  </thead>\n",
       "  <tbody>\n",
       "    <tr>\n",
       "      <th>majority</th>\n",
       "      <td>0.231386</td>\n",
       "      <td>0.540995</td>\n",
       "      <td>0.248519</td>\n",
       "      <td>0.142695</td>\n",
       "      <td>0.879827</td>\n",
       "      <td>0.038184</td>\n",
       "      <td>0.890661</td>\n",
       "      <td>69170.0</td>\n",
       "    </tr>\n",
       "    <tr>\n",
       "      <th>minority</th>\n",
       "      <td>0.177507</td>\n",
       "      <td>0.523228</td>\n",
       "      <td>0.214233</td>\n",
       "      <td>0.120374</td>\n",
       "      <td>0.926095</td>\n",
       "      <td>0.027449</td>\n",
       "      <td>0.931451</td>\n",
       "      <td>20540.0</td>\n",
       "    </tr>\n",
       "  </tbody>\n",
       "</table>\n",
       "</div>"
      ],
      "text/plain": [
       "          accuracy  balanced accuracy        f1  precision  \\\n",
       "majmin                                                       \n",
       "majority  0.231386           0.540995  0.248519   0.142695   \n",
       "minority  0.177507           0.523228  0.214233   0.120374   \n",
       "\n",
       "          false positive rate  false negative rate  selection rate    count  \n",
       "majmin                                                                       \n",
       "majority             0.879827             0.038184        0.890661  69170.0  \n",
       "minority             0.926095             0.027449        0.931451  20540.0  "
      ]
     },
     "execution_count": 75,
     "metadata": {},
     "output_type": "execute_result"
    }
   ],
   "source": [
    "metric_frame.by_group"
   ]
  },
  {
   "cell_type": "code",
   "execution_count": 76,
   "id": "a9ddbe63",
   "metadata": {
    "execution": {
     "iopub.execute_input": "2025-07-30T21:48:25.918630Z",
     "iopub.status.busy": "2025-07-30T21:48:25.918287Z",
     "iopub.status.idle": "2025-07-30T21:48:27.955801Z",
     "shell.execute_reply": "2025-07-30T21:48:27.954863Z"
    },
    "papermill": {
     "duration": 2.053778,
     "end_time": "2025-07-30T21:48:27.957612",
     "exception": false,
     "start_time": "2025-07-30T21:48:25.903834",
     "status": "completed"
    },
    "tags": []
   },
   "outputs": [
    {
     "data": {
      "text/plain": [
       "array([[<Axes: title={'center': 'accuracy'}, xlabel='majmin'>,\n",
       "        <Axes: title={'center': 'balanced accuracy'}, xlabel='majmin'>,\n",
       "        <Axes: title={'center': 'f1'}, xlabel='majmin'>],\n",
       "       [<Axes: title={'center': 'precision'}, xlabel='majmin'>,\n",
       "        <Axes: title={'center': 'false positive rate'}, xlabel='majmin'>,\n",
       "        <Axes: title={'center': 'false negative rate'}, xlabel='majmin'>],\n",
       "       [<Axes: title={'center': 'selection rate'}, xlabel='majmin'>,\n",
       "        <Axes: title={'center': 'count'}, xlabel='majmin'>,\n",
       "        <Axes: xlabel='majmin'>]], dtype=object)"
      ]
     },
     "execution_count": 76,
     "metadata": {},
     "output_type": "execute_result"
    },
    {
     "data": {
      "image/png": "[encoded data removed]",
      "text/plain": [
       "<Figure size 1200x800 with 9 Axes>"
      ]
     },
     "metadata": {},
     "output_type": "display_data"
    }
   ],
   "source": [
    "# In a graphic\n",
    "metric_frame.by_group.plot.bar(\n",
    "    subplots=True,\n",
    "    layout=[3, 3],\n",
    "    legend=False,\n",
    "    figsize=[12, 8],\n",
    "    title=\"Show all metrics\",\n",
    ")"
   ]
  },
  {
   "cell_type": "markdown",
   "id": "f57a0bac",
   "metadata": {
    "papermill": {
     "duration": 0.028237,
     "end_time": "2025-07-30T21:48:28.015351",
     "exception": false,
     "start_time": "2025-07-30T21:48:27.987114",
     "status": "completed"
    },
    "tags": []
   },
   "source": [
    "# Final Output"
   ]
  },
  {
   "cell_type": "code",
   "execution_count": 77,
   "id": "96d280a3",
   "metadata": {
    "execution": {
     "iopub.execute_input": "2025-07-30T21:48:28.072460Z",
     "iopub.status.busy": "2025-07-30T21:48:28.071594Z",
     "iopub.status.idle": "2025-07-30T21:48:28.080357Z",
     "shell.execute_reply": "2025-07-30T21:48:28.079404Z"
    },
    "papermill": {
     "duration": 0.039166,
     "end_time": "2025-07-30T21:48:28.081766",
     "exception": false,
     "start_time": "2025-07-30T21:48:28.042600",
     "status": "completed"
    },
    "tags": []
   },
   "outputs": [
    {
     "data": {
      "text/plain": [
       "4"
      ]
     },
     "execution_count": 77,
     "metadata": {},
     "output_type": "execute_result"
    }
   ],
   "source": [
    "sub_universes = universe_analysis.generate_sub_universes()\n",
    "len(sub_universes)"
   ]
  },
  {
   "cell_type": "code",
   "execution_count": 78,
   "id": "92adf7ba",
   "metadata": {
    "execution": {
     "iopub.execute_input": "2025-07-30T21:48:28.138381Z",
     "iopub.status.busy": "2025-07-30T21:48:28.137377Z",
     "iopub.status.idle": "2025-07-30T21:48:28.144085Z",
     "shell.execute_reply": "2025-07-30T21:48:28.143131Z"
    },
    "papermill": {
     "duration": 0.036859,
     "end_time": "2025-07-30T21:48:28.145686",
     "exception": false,
     "start_time": "2025-07-30T21:48:28.108827",
     "status": "completed"
    },
    "tags": []
   },
   "outputs": [],
   "source": [
    "def filter_sub_universe_data(sub_universe, org_test):\n",
    "    # Keep all rows — no filtering\n",
    "    keep_rows_mask = np.ones(org_test.shape[0], dtype=bool)\n",
    "\n",
    "    print(f\"[INFO] Keeping all rows: {keep_rows_mask.sum()} rows retained.\")\n",
    "    return keep_rows_mask"
   ]
  },
  {
   "cell_type": "code",
   "execution_count": 79,
   "id": "4a759155",
   "metadata": {
    "execution": {
     "iopub.execute_input": "2025-07-30T21:48:28.202683Z",
     "iopub.status.busy": "2025-07-30T21:48:28.202204Z",
     "iopub.status.idle": "2025-07-30T21:48:38.734976Z",
     "shell.execute_reply": "2025-07-30T21:48:38.734000Z"
    },
    "papermill": {
     "duration": 10.562057,
     "end_time": "2025-07-30T21:48:38.736583",
     "exception": false,
     "start_time": "2025-07-30T21:48:28.174526",
     "status": "completed"
    },
    "tags": []
   },
   "outputs": [
    {
     "name": "stdout",
     "output_type": "stream",
     "text": [
      "Stopping execution_time clock.\n",
      "[INFO] Keeping all rows: 89710 rows retained.\n"
     ]
    },
    {
     "name": "stdout",
     "output_type": "stream",
     "text": [
      "[INFO] Keeping all rows: 89710 rows retained.\n"
     ]
    },
    {
     "name": "stdout",
     "output_type": "stream",
     "text": [
      "[INFO] Keeping all rows: 89710 rows retained.\n"
     ]
    },
    {
     "name": "stdout",
     "output_type": "stream",
     "text": [
      "[INFO] Keeping all rows: 89710 rows retained.\n"
     ]
    },
    {
     "data": {
      "text/html": [
       "<div>\n",
       "<style scoped>\n",
       "    .dataframe tbody tr th:only-of-type {\n",
       "        vertical-align: middle;\n",
       "    }\n",
       "\n",
       "    .dataframe tbody tr th {\n",
       "        vertical-align: top;\n",
       "    }\n",
       "\n",
       "    .dataframe thead th {\n",
       "        text-align: right;\n",
       "    }\n",
       "</style>\n",
       "<table border=\"1\" class=\"dataframe\">\n",
       "  <thead>\n",
       "    <tr style=\"text-align: right;\">\n",
       "      <th></th>\n",
       "      <th>run_no</th>\n",
       "      <th>universe_id</th>\n",
       "      <th>universe_settings</th>\n",
       "      <th>execution_time</th>\n",
       "      <th>test_size_n</th>\n",
       "      <th>test_size_frac</th>\n",
       "      <th>fair_main_equalized_odds_difference</th>\n",
       "      <th>fair_main_equalized_odds_ratio</th>\n",
       "      <th>fair_main_demographic_parity_difference</th>\n",
       "      <th>fair_main_demographic_parity_ratio</th>\n",
       "      <th>...</th>\n",
       "      <th>perf_grp_precision_0</th>\n",
       "      <th>perf_grp_precision_1</th>\n",
       "      <th>perf_grp_false positive rate_0</th>\n",
       "      <th>perf_grp_false positive rate_1</th>\n",
       "      <th>perf_grp_false negative rate_0</th>\n",
       "      <th>perf_grp_false negative rate_1</th>\n",
       "      <th>perf_grp_selection rate_0</th>\n",
       "      <th>perf_grp_selection rate_1</th>\n",
       "      <th>perf_grp_count_0</th>\n",
       "      <th>perf_grp_count_1</th>\n",
       "    </tr>\n",
       "  </thead>\n",
       "  <tbody>\n",
       "    <tr>\n",
       "      <th>0</th>\n",
       "      <td>14</td>\n",
       "      <td>bb91e921d4df9b81ab1b40f005954634</td>\n",
       "      <td>{\"cutoff\": \"quantile_0.1\", \"eval_fairness_grou...</td>\n",
       "      <td>31.292267</td>\n",
       "      <td>89710</td>\n",
       "      <td>1.0</td>\n",
       "      <td>0.046268</td>\n",
       "      <td>0.950039</td>\n",
       "      <td>0.04079</td>\n",
       "      <td>0.956208</td>\n",
       "      <td>...</td>\n",
       "      <td>NaN</td>\n",
       "      <td>NaN</td>\n",
       "      <td>NaN</td>\n",
       "      <td>NaN</td>\n",
       "      <td>NaN</td>\n",
       "      <td>NaN</td>\n",
       "      <td>NaN</td>\n",
       "      <td>NaN</td>\n",
       "      <td>NaN</td>\n",
       "      <td>NaN</td>\n",
       "    </tr>\n",
       "    <tr>\n",
       "      <th>0</th>\n",
       "      <td>14</td>\n",
       "      <td>bb91e921d4df9b81ab1b40f005954634</td>\n",
       "      <td>{\"cutoff\": \"quantile_0.1\", \"eval_fairness_grou...</td>\n",
       "      <td>31.292267</td>\n",
       "      <td>89710</td>\n",
       "      <td>1.0</td>\n",
       "      <td>0.046268</td>\n",
       "      <td>0.950039</td>\n",
       "      <td>0.04079</td>\n",
       "      <td>0.956208</td>\n",
       "      <td>...</td>\n",
       "      <td>0.120374</td>\n",
       "      <td>0.142695</td>\n",
       "      <td>0.926095</td>\n",
       "      <td>0.879827</td>\n",
       "      <td>0.027449</td>\n",
       "      <td>0.038184</td>\n",
       "      <td>0.931451</td>\n",
       "      <td>0.890661</td>\n",
       "      <td>20540.0</td>\n",
       "      <td>69170.0</td>\n",
       "    </tr>\n",
       "    <tr>\n",
       "      <th>0</th>\n",
       "      <td>14</td>\n",
       "      <td>bb91e921d4df9b81ab1b40f005954634</td>\n",
       "      <td>{\"cutoff\": \"quantile_0.25\", \"eval_fairness_gro...</td>\n",
       "      <td>31.292267</td>\n",
       "      <td>89710</td>\n",
       "      <td>1.0</td>\n",
       "      <td>0.111676</td>\n",
       "      <td>0.876739</td>\n",
       "      <td>0.05720</td>\n",
       "      <td>0.925042</td>\n",
       "      <td>...</td>\n",
       "      <td>NaN</td>\n",
       "      <td>NaN</td>\n",
       "      <td>NaN</td>\n",
       "      <td>NaN</td>\n",
       "      <td>NaN</td>\n",
       "      <td>NaN</td>\n",
       "      <td>NaN</td>\n",
       "      <td>NaN</td>\n",
       "      <td>NaN</td>\n",
       "      <td>NaN</td>\n",
       "    </tr>\n",
       "    <tr>\n",
       "      <th>0</th>\n",
       "      <td>14</td>\n",
       "      <td>bb91e921d4df9b81ab1b40f005954634</td>\n",
       "      <td>{\"cutoff\": \"quantile_0.25\", \"eval_fairness_gro...</td>\n",
       "      <td>31.292267</td>\n",
       "      <td>89710</td>\n",
       "      <td>1.0</td>\n",
       "      <td>0.111676</td>\n",
       "      <td>0.876739</td>\n",
       "      <td>0.05720</td>\n",
       "      <td>0.925042</td>\n",
       "      <td>...</td>\n",
       "      <td>0.129733</td>\n",
       "      <td>0.156888</td>\n",
       "      <td>0.694365</td>\n",
       "      <td>0.741329</td>\n",
       "      <td>0.205659</td>\n",
       "      <td>0.093982</td>\n",
       "      <td>0.705891</td>\n",
       "      <td>0.763091</td>\n",
       "      <td>20540.0</td>\n",
       "      <td>69170.0</td>\n",
       "    </tr>\n",
       "  </tbody>\n",
       "</table>\n",
       "<p>4 rows × 50 columns</p>\n",
       "</div>"
      ],
      "text/plain": [
       "  run_no                       universe_id  \\\n",
       "0     14  bb91e921d4df9b81ab1b40f005954634   \n",
       "0     14  bb91e921d4df9b81ab1b40f005954634   \n",
       "0     14  bb91e921d4df9b81ab1b40f005954634   \n",
       "0     14  bb91e921d4df9b81ab1b40f005954634   \n",
       "\n",
       "                                   universe_settings  execution_time  \\\n",
       "0  {\"cutoff\": \"quantile_0.1\", \"eval_fairness_grou...       31.292267   \n",
       "0  {\"cutoff\": \"quantile_0.1\", \"eval_fairness_grou...       31.292267   \n",
       "0  {\"cutoff\": \"quantile_0.25\", \"eval_fairness_gro...       31.292267   \n",
       "0  {\"cutoff\": \"quantile_0.25\", \"eval_fairness_gro...       31.292267   \n",
       "\n",
       "   test_size_n  test_size_frac  fair_main_equalized_odds_difference  \\\n",
       "0        89710             1.0                             0.046268   \n",
       "0        89710             1.0                             0.046268   \n",
       "0        89710             1.0                             0.111676   \n",
       "0        89710             1.0                             0.111676   \n",
       "\n",
       "   fair_main_equalized_odds_ratio  fair_main_demographic_parity_difference  \\\n",
       "0                        0.950039                                  0.04079   \n",
       "0                        0.950039                                  0.04079   \n",
       "0                        0.876739                                  0.05720   \n",
       "0                        0.876739                                  0.05720   \n",
       "\n",
       "   fair_main_demographic_parity_ratio  ...  perf_grp_precision_0  \\\n",
       "0                            0.956208  ...                   NaN   \n",
       "0                            0.956208  ...              0.120374   \n",
       "0                            0.925042  ...                   NaN   \n",
       "0                            0.925042  ...              0.129733   \n",
       "\n",
       "   perf_grp_precision_1  perf_grp_false positive rate_0  \\\n",
       "0                   NaN                             NaN   \n",
       "0              0.142695                        0.926095   \n",
       "0                   NaN                             NaN   \n",
       "0              0.156888                        0.694365   \n",
       "\n",
       "   perf_grp_false positive rate_1  perf_grp_false negative rate_0  \\\n",
       "0                             NaN                             NaN   \n",
       "0                        0.879827                        0.027449   \n",
       "0                             NaN                             NaN   \n",
       "0                        0.741329                        0.205659   \n",
       "\n",
       "   perf_grp_false negative rate_1  perf_grp_selection rate_0  \\\n",
       "0                             NaN                        NaN   \n",
       "0                        0.038184                   0.931451   \n",
       "0                             NaN                        NaN   \n",
       "0                        0.093982                   0.705891   \n",
       "\n",
       "   perf_grp_selection rate_1  perf_grp_count_0  perf_grp_count_1  \n",
       "0                        NaN               NaN               NaN  \n",
       "0                   0.890661           20540.0           69170.0  \n",
       "0                        NaN               NaN               NaN  \n",
       "0                   0.763091           20540.0           69170.0  \n",
       "\n",
       "[4 rows x 50 columns]"
      ]
     },
     "execution_count": 79,
     "metadata": {},
     "output_type": "execute_result"
    }
   ],
   "source": [
    "final_output = universe_analysis.generate_final_output(\n",
    "    y_pred_prob=probs_test,\n",
    "    y_test=y_true,\n",
    "    org_test=org_test,\n",
    "    filter_data=filter_sub_universe_data,\n",
    "    cp_metrics_df=cp_metrics_df,\n",
    "    save=True,\n",
    ")\n",
    "final_output"
   ]
  },
  {
   "cell_type": "code",
   "execution_count": null,
   "id": "721ff514-cb11-46f8-b6fc-50392f74b5cb",
   "metadata": {
    "papermill": {
     "duration": 0.029412,
     "end_time": "2025-07-30T21:48:38.798411",
     "exception": false,
     "start_time": "2025-07-30T21:48:38.768999",
     "status": "completed"
    },
    "tags": []
   },
   "outputs": [],
   "source": []
  }
 ],
 "metadata": {
  "celltoolbar": "Tags",
  "kernelspec": {
   "display_name": "Python (CMA Fairness)",
   "language": "python",
   "name": "cma_fair_env"
  },
  "language_info": {
   "codemirror_mode": {
    "name": "ipython",
    "version": 3
   },
   "file_extension": ".py",
   "mimetype": "text/x-python",
   "name": "python",
   "nbconvert_exporter": "python",
   "pygments_lexer": "ipython3",
   "version": "3.10.12"
  },
  "papermill": {
   "default_parameters": {},
   "duration": 46.954526,
   "end_time": "2025-07-30T21:48:39.547845",
   "environment_variables": {},
   "exception": null,
   "input_path": "universe_analysis.ipynb",
   "output_path": "output/runs/14/notebooks/m_14-bb91e921d4df9b81ab1b40f005954634.ipynb",
   "parameters": {
    "output_dir": "output",
    "run_no": "14",
    "seed": "2023",
    "universe": "{\"cutoff\": [\"quantile_0.1\", \"quantile_0.25\"], \"eval_fairness_grouping\": [\"majority-minority\", \"nationality-all\"], \"exclude_features\": \"nationality\", \"exclude_subgroups\": \"keep-all\", \"model\": \"elasticnet\", \"scale\": \"scale\", \"training_size\": \"1k\", \"training_year\": \"2010_14\"}",
    "universe_id": "bb91e921d4df9b81ab1b40f005954634"
   },
   "start_time": "2025-07-30T21:47:52.593319",
   "version": "2.6.0"
  }
 },
 "nbformat": 4,
 "nbformat_minor": 5
}