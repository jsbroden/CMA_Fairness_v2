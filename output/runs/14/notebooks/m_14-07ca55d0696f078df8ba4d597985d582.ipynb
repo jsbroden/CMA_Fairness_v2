{
 "cells": [
  {
   "cell_type": "code",
   "execution_count": 1,
   "id": "f159f837-637b-42ba-96b5-ec9a68c44524",
   "metadata": {
    "execution": {
     "iopub.execute_input": "2025-07-30T21:02:22.820967Z",
     "iopub.status.busy": "2025-07-30T21:02:22.820473Z",
     "iopub.status.idle": "2025-07-30T21:02:22.833212Z",
     "shell.execute_reply": "2025-07-30T21:02:22.832271Z"
    },
    "papermill": {
     "duration": 0.0393,
     "end_time": "2025-07-30T21:02:22.836089",
     "exception": false,
     "start_time": "2025-07-30T21:02:22.796789",
     "status": "completed"
    },
    "tags": []
   },
   "outputs": [
    {
     "name": "stdout",
     "output_type": "stream",
     "text": [
      "/dss/dsshome1/0C/ra93lal2/cma/CMA_Fairness_v2\n"
     ]
    },
    {
     "name": "stderr",
     "output_type": "stream",
     "text": [
      "/dss/dsshome1/0C/ra93lal2/.local/share/virtualenvs/CMA_Fairness_v2-3j10GkSs/lib/python3.10/site-packages/IPython/core/magics/osm.py:393: UserWarning: This is now an optional IPython functionality, using bookmarks requires you to install the `pickleshare` library.\n",
      "  bkms = self.shell.db.get('bookmarks', {})\n",
      "/dss/dsshome1/0C/ra93lal2/.local/share/virtualenvs/CMA_Fairness_v2-3j10GkSs/lib/python3.10/site-packages/IPython/core/magics/osm.py:417: UserWarning: This is now an optional IPython functionality, setting dhist requires you to install the `pickleshare` library.\n",
      "  self.shell.db['dhist'] = compress_dhist(dhist)[-100:]\n"
     ]
    }
   ],
   "source": [
    "%cd ~/cma/CMA_Fairness_v2"
   ]
  },
  {
   "cell_type": "markdown",
   "id": "de2603b9",
   "metadata": {
    "papermill": {
     "duration": 0.018331,
     "end_time": "2025-07-30T21:02:22.873667",
     "exception": false,
     "start_time": "2025-07-30T21:02:22.855336",
     "status": "completed"
    },
    "tags": []
   },
   "source": [
    "The following cell holds the definition of our parameters, these values can be overriden by rendering the with e.g. the following command:\n",
    "\n",
    "papermill -p alpha 0.2 -p ratio 0.3 universe_analysis.ipynb output/test_run.ipynb"
   ]
  },
  {
   "cell_type": "code",
   "execution_count": 2,
   "id": "a80968a0-40bb-4fa9-85ef-2d5eefb01975",
   "metadata": {
    "execution": {
     "iopub.execute_input": "2025-07-30T21:02:22.911793Z",
     "iopub.status.busy": "2025-07-30T21:02:22.911432Z",
     "iopub.status.idle": "2025-07-30T21:02:22.916654Z",
     "shell.execute_reply": "2025-07-30T21:02:22.915767Z"
    },
    "papermill": {
     "duration": 0.026553,
     "end_time": "2025-07-30T21:02:22.918372",
     "exception": false,
     "start_time": "2025-07-30T21:02:22.891819",
     "status": "completed"
    },
    "tags": []
   },
   "outputs": [
    {
     "name": "stdout",
     "output_type": "stream",
     "text": [
      "Current working directory: /dss/dsshome1/0C/ra93lal2/cma/CMA_Fairness_v2\n"
     ]
    }
   ],
   "source": [
    "import os\n",
    "print(\"Current working directory:\", os.getcwd())"
   ]
  },
  {
   "cell_type": "code",
   "execution_count": 3,
   "id": "2dce4c03",
   "metadata": {
    "execution": {
     "iopub.execute_input": "2025-07-30T21:02:22.958008Z",
     "iopub.status.busy": "2025-07-30T21:02:22.957541Z",
     "iopub.status.idle": "2025-07-30T21:02:22.963704Z",
     "shell.execute_reply": "2025-07-30T21:02:22.962867Z"
    },
    "papermill": {
     "duration": 0.027469,
     "end_time": "2025-07-30T21:02:22.965240",
     "exception": false,
     "start_time": "2025-07-30T21:02:22.937771",
     "status": "completed"
    },
    "tags": [
     "parameters"
    ]
   },
   "outputs": [],
   "source": [
    "run_no = 0\n",
    "universe_id = \"test\"\n",
    "universe = {\n",
    "    \"training_size\": \"25k\", # \"25k\", \"5k\", \"1k\"\n",
    "    \"training_year\": \"2014\", # \"2014\", \"2012_14\", \"2010_14\"\n",
    "    \"scale\": \"scale\", # \"scale\", \"do-not-scale\",\n",
    "    #\"stratify_split\": \"target\", # \"none\", \"target\", \"protected-attribute\", \"both\",\n",
    "    \"model\": \"elasticnet\", # \"logreg\", \"penalized_logreg\", \"rf\", \"gbm\", \"elasticnet\"\n",
    "    \"cutoff\": [\"quantile_0.15\", \"quantile_0.30\"],\n",
    "    \"exclude_features\": \"age\", # \"none\", \"nationality\", \"sex\", \"nationality-sex\", \"age\"\n",
    "    \"exclude_subgroups\": \"keep-all\", # \"keep-all\", \"drop-non-german\"\n",
    "    \"eval_fairness_grouping\": [\"majority-minority\", \"nationality-all\"]\n",
    "}\n",
    "\n",
    "output_dir=\"./output\"\n",
    "seed=0"
   ]
  },
  {
   "cell_type": "code",
   "execution_count": 4,
   "id": "9192bd9d",
   "metadata": {
    "execution": {
     "iopub.execute_input": "2025-07-30T21:02:23.005306Z",
     "iopub.status.busy": "2025-07-30T21:02:23.004695Z",
     "iopub.status.idle": "2025-07-30T21:02:23.010234Z",
     "shell.execute_reply": "2025-07-30T21:02:23.009253Z"
    },
    "papermill": {
     "duration": 0.027253,
     "end_time": "2025-07-30T21:02:23.011887",
     "exception": false,
     "start_time": "2025-07-30T21:02:22.984634",
     "status": "completed"
    },
    "tags": [
     "injected-parameters"
    ]
   },
   "outputs": [],
   "source": [
    "# Parameters\n",
    "universe_id = \"07ca55d0696f078df8ba4d597985d582\"\n",
    "run_no = \"14\"\n",
    "universe = \"{\\\"cutoff\\\": [\\\"quantile_0.1\\\", \\\"quantile_0.25\\\"], \\\"eval_fairness_grouping\\\": [\\\"majority-minority\\\", \\\"nationality-all\\\"], \\\"exclude_features\\\": \\\"age\\\", \\\"exclude_subgroups\\\": \\\"drop-non-german\\\", \\\"model\\\": \\\"elasticnet\\\", \\\"scale\\\": \\\"scale\\\", \\\"training_size\\\": \\\"5k\\\", \\\"training_year\\\": \\\"2012_14\\\"}\"\n",
    "output_dir = \"output\"\n",
    "seed = \"2023\"\n"
   ]
  },
  {
   "cell_type": "code",
   "execution_count": 5,
   "id": "1650acaf",
   "metadata": {
    "execution": {
     "iopub.execute_input": "2025-07-30T21:02:23.052166Z",
     "iopub.status.busy": "2025-07-30T21:02:23.051603Z",
     "iopub.status.idle": "2025-07-30T21:02:23.056394Z",
     "shell.execute_reply": "2025-07-30T21:02:23.055552Z"
    },
    "papermill": {
     "duration": 0.026382,
     "end_time": "2025-07-30T21:02:23.057867",
     "exception": false,
     "start_time": "2025-07-30T21:02:23.031485",
     "status": "completed"
    },
    "tags": []
   },
   "outputs": [],
   "source": [
    "import json\n",
    "# Parse universe into dict if it is passed as a string\n",
    "if isinstance(universe, str):\n",
    "    universe = json.loads(universe)"
   ]
  },
  {
   "cell_type": "code",
   "execution_count": 6,
   "id": "16620c48",
   "metadata": {
    "execution": {
     "iopub.execute_input": "2025-07-30T21:02:23.097225Z",
     "iopub.status.busy": "2025-07-30T21:02:23.096610Z",
     "iopub.status.idle": "2025-07-30T21:02:23.141476Z",
     "shell.execute_reply": "2025-07-30T21:02:23.140597Z"
    },
    "papermill": {
     "duration": 0.0663,
     "end_time": "2025-07-30T21:02:23.143298",
     "exception": false,
     "start_time": "2025-07-30T21:02:23.076998",
     "status": "completed"
    },
    "tags": []
   },
   "outputs": [],
   "source": [
    "# Auto-reload the custom package\n",
    "%load_ext autoreload\n",
    "%autoreload 1\n",
    "%aimport fairness_multiverse"
   ]
  },
  {
   "cell_type": "code",
   "execution_count": 7,
   "id": "01c5c9f3",
   "metadata": {
    "execution": {
     "iopub.execute_input": "2025-07-30T21:02:23.183591Z",
     "iopub.status.busy": "2025-07-30T21:02:23.182755Z",
     "iopub.status.idle": "2025-07-30T21:02:25.008860Z",
     "shell.execute_reply": "2025-07-30T21:02:25.007846Z"
    },
    "papermill": {
     "duration": 1.848386,
     "end_time": "2025-07-30T21:02:25.010868",
     "exception": false,
     "start_time": "2025-07-30T21:02:23.162482",
     "status": "completed"
    },
    "tags": []
   },
   "outputs": [],
   "source": [
    "from fairness_multiverse.universe import UniverseAnalysis\n",
    "\n",
    "universe_analysis = UniverseAnalysis(\n",
    "    run_no = run_no,\n",
    "    universe_id = universe_id,\n",
    "    universe = universe,\n",
    "    output_dir=output_dir,\n",
    ")"
   ]
  },
  {
   "cell_type": "code",
   "execution_count": 8,
   "id": "106241f5",
   "metadata": {
    "execution": {
     "iopub.execute_input": "2025-07-30T21:02:25.056638Z",
     "iopub.status.busy": "2025-07-30T21:02:25.055893Z",
     "iopub.status.idle": "2025-07-30T21:02:25.062611Z",
     "shell.execute_reply": "2025-07-30T21:02:25.061723Z"
    },
    "papermill": {
     "duration": 0.032536,
     "end_time": "2025-07-30T21:02:25.064412",
     "exception": false,
     "start_time": "2025-07-30T21:02:25.031876",
     "status": "completed"
    },
    "tags": []
   },
   "outputs": [
    {
     "name": "stdout",
     "output_type": "stream",
     "text": [
      "Using Seed: 2023\n"
     ]
    }
   ],
   "source": [
    "import numpy as np\n",
    "parsed_seed = int(seed)\n",
    "np.random.seed(parsed_seed)\n",
    "print(f\"Using Seed: {parsed_seed}\")"
   ]
  },
  {
   "cell_type": "markdown",
   "id": "e0ebdc57",
   "metadata": {
    "papermill": {
     "duration": 0.020301,
     "end_time": "2025-07-30T21:02:25.106859",
     "exception": false,
     "start_time": "2025-07-30T21:02:25.086558",
     "status": "completed"
    },
    "tags": []
   },
   "source": [
    "# Loading Data"
   ]
  },
  {
   "cell_type": "markdown",
   "id": "681925a3",
   "metadata": {
    "papermill": {
     "duration": 0.02296,
     "end_time": "2025-07-30T21:02:25.152018",
     "exception": false,
     "start_time": "2025-07-30T21:02:25.129058",
     "status": "completed"
    },
    "tags": []
   },
   "source": [
    "Load siab_train, siab_test, siab_calib and/or \n",
    "load siab_train_features, siab_train_labels"
   ]
  },
  {
   "cell_type": "code",
   "execution_count": 9,
   "id": "f0496b8a",
   "metadata": {
    "execution": {
     "iopub.execute_input": "2025-07-30T21:02:25.196568Z",
     "iopub.status.busy": "2025-07-30T21:02:25.195836Z",
     "iopub.status.idle": "2025-07-30T21:02:37.105110Z",
     "shell.execute_reply": "2025-07-30T21:02:37.103437Z"
    },
    "papermill": {
     "duration": 11.933772,
     "end_time": "2025-07-30T21:02:37.107254",
     "exception": false,
     "start_time": "2025-07-30T21:02:25.173482",
     "status": "completed"
    },
    "tags": []
   },
   "outputs": [
    {
     "name": "stdout",
     "output_type": "stream",
     "text": [
      "Loading SIAB data from cache: data/siab_cached.csv.gz\n"
     ]
    },
    {
     "name": "stdout",
     "output_type": "stream",
     "text": [
      "(643690, 164)\n"
     ]
    }
   ],
   "source": [
    "from pathlib import Path\n",
    "import pandas as pd\n",
    "\n",
    "# File paths\n",
    "raw_file = Path(\"data/raw/siab.csv\")\n",
    "cache_file = Path(\"data/siab_cached.csv.gz\")\n",
    "\n",
    "# Ensure cache directory exists\n",
    "cache_file.parent.mkdir(parents=True, exist_ok=True)\n",
    "\n",
    "# Load with simple caching\n",
    "if cache_file.exists():\n",
    "    print(f\"Loading SIAB data from cache: {cache_file}\")\n",
    "    siab = pd.read_csv(cache_file, compression='gzip')\n",
    "else:\n",
    "    print(f\"Cache not found. Reading raw SIAB data: {raw_file}\")\n",
    "    siab = pd.read_csv(raw_file)\n",
    "    siab.to_csv(cache_file, index=False, compression='gzip')\n",
    "    print(f\"Cached SIAB data to: {cache_file}\")\n",
    "\n",
    "# Now use `siab` DataFrame as needed\n",
    "print(siab.shape)"
   ]
  },
  {
   "cell_type": "code",
   "execution_count": 10,
   "id": "db0ca512-5f53-4dba-abdb-a2888bca41ba",
   "metadata": {
    "execution": {
     "iopub.execute_input": "2025-07-30T21:02:37.176791Z",
     "iopub.status.busy": "2025-07-30T21:02:37.175847Z",
     "iopub.status.idle": "2025-07-30T21:02:37.182630Z",
     "shell.execute_reply": "2025-07-30T21:02:37.181588Z"
    },
    "papermill": {
     "duration": 0.044336,
     "end_time": "2025-07-30T21:02:37.184577",
     "exception": false,
     "start_time": "2025-07-30T21:02:37.140241",
     "status": "completed"
    },
    "tags": []
   },
   "outputs": [],
   "source": [
    "#siab"
   ]
  },
  {
   "cell_type": "code",
   "execution_count": 11,
   "id": "a0edb063",
   "metadata": {
    "execution": {
     "iopub.execute_input": "2025-07-30T21:02:37.242514Z",
     "iopub.status.busy": "2025-07-30T21:02:37.241721Z",
     "iopub.status.idle": "2025-07-30T21:02:37.247287Z",
     "shell.execute_reply": "2025-07-30T21:02:37.246322Z"
    },
    "papermill": {
     "duration": 0.036264,
     "end_time": "2025-07-30T21:02:37.249201",
     "exception": false,
     "start_time": "2025-07-30T21:02:37.212937",
     "status": "completed"
    },
    "tags": []
   },
   "outputs": [],
   "source": [
    "#import pandas as pd\n",
    "#\n",
    "#X_train = pd.read_csv(\"./data/X_train.csv\")\n",
    "#y_train = pd.read_csv(\"./data/y_train.csv\")"
   ]
  },
  {
   "cell_type": "code",
   "execution_count": 12,
   "id": "63d08085",
   "metadata": {
    "execution": {
     "iopub.execute_input": "2025-07-30T21:02:37.299342Z",
     "iopub.status.busy": "2025-07-30T21:02:37.298209Z",
     "iopub.status.idle": "2025-07-30T21:02:37.303761Z",
     "shell.execute_reply": "2025-07-30T21:02:37.302975Z"
    },
    "papermill": {
     "duration": 0.03183,
     "end_time": "2025-07-30T21:02:37.306112",
     "exception": false,
     "start_time": "2025-07-30T21:02:37.274282",
     "status": "completed"
    },
    "tags": []
   },
   "outputs": [],
   "source": [
    "#X_test = pd.read_csv(\"./data/X_test.csv\")\n",
    "#y_true = pd.read_csv(\"./data/y_test.csv\")"
   ]
  },
  {
   "cell_type": "code",
   "execution_count": 13,
   "id": "98a8d0fa-1d3d-4ed8-bb2c-281470e24add",
   "metadata": {
    "execution": {
     "iopub.execute_input": "2025-07-30T21:02:37.356131Z",
     "iopub.status.busy": "2025-07-30T21:02:37.355303Z",
     "iopub.status.idle": "2025-07-30T21:02:37.360795Z",
     "shell.execute_reply": "2025-07-30T21:02:37.359754Z"
    },
    "papermill": {
     "duration": 0.032498,
     "end_time": "2025-07-30T21:02:37.362547",
     "exception": false,
     "start_time": "2025-07-30T21:02:37.330049",
     "status": "completed"
    },
    "tags": []
   },
   "outputs": [],
   "source": [
    "# Calibration data for conformal\n",
    "#X_calib = pd.read_csv(\"./data/X_calib.csv\")\n",
    "#y_calib = pd.read_csv(\"./data/y_calib.csv\")"
   ]
  },
  {
   "cell_type": "markdown",
   "id": "997051c5-15bd-4b69-9786-c3001a3ce484",
   "metadata": {
    "papermill": {
     "duration": 0.023335,
     "end_time": "2025-07-30T21:02:37.410485",
     "exception": false,
     "start_time": "2025-07-30T21:02:37.387150",
     "status": "completed"
    },
    "tags": []
   },
   "source": [
    "# Splitting Data and Setting Training Data Size"
   ]
  },
  {
   "cell_type": "code",
   "execution_count": 14,
   "id": "e993b61f-042d-41a6-8c81-f55681f86335",
   "metadata": {
    "execution": {
     "iopub.execute_input": "2025-07-30T21:02:37.462758Z",
     "iopub.status.busy": "2025-07-30T21:02:37.461748Z",
     "iopub.status.idle": "2025-07-30T21:02:37.478147Z",
     "shell.execute_reply": "2025-07-30T21:02:37.476898Z"
    },
    "papermill": {
     "duration": 0.044499,
     "end_time": "2025-07-30T21:02:37.480274",
     "exception": false,
     "start_time": "2025-07-30T21:02:37.435775",
     "status": "completed"
    },
    "tags": []
   },
   "outputs": [],
   "source": [
    "def sample_by_year_size(df,\n",
    "                        training_year: str,\n",
    "                        training_size: str,\n",
    "                        random_state: int = 42):\n",
    "    # --- parse training_year into a list of int years ---\n",
    "    if \"_\" in training_year:\n",
    "        start_str, end_str = training_year.split(\"_\", 1)\n",
    "        start = int(start_str)\n",
    "        end   = int(end_str) if len(end_str) == 4 else (int(end_str) + (start // 100)*100)\n",
    "        years = list(range(start, end + 1))\n",
    "    else:\n",
    "        years = [int(training_year)]\n",
    "\n",
    "    df = df[df[\"year\"].isin(years)].reset_index(drop=True)\n",
    "\n",
    "    # --- map training_size to total number of samples ---\n",
    "    total_map = {\"25k\": 25_000, \"5k\": 5_000, \"1k\": 1_000}\n",
    "    if training_size not in total_map:\n",
    "        return df  # e.g. \"all\"\n",
    "\n",
    "    total_samples = total_map[training_size]\n",
    "    n_years       = len(years)\n",
    "    base          = total_samples // n_years\n",
    "    remainder     = total_samples % n_years\n",
    "\n",
    "    # --- build a dict: year -> how many to sample ---\n",
    "    # give +1 to the first `remainder` years in ascending order\n",
    "    quotas = {\n",
    "        year: base + (1 if idx < remainder else 0)\n",
    "        for idx, year in enumerate(sorted(years))\n",
    "    }\n",
    "\n",
    "    # --- sample per‐year according to the quota dict ---\n",
    "    sampled = (\n",
    "        df\n",
    "        .groupby(\"year\", group_keys=False)\n",
    "        .apply(lambda grp: grp.sample(\n",
    "            n=min(len(grp), quotas[grp.name]),\n",
    "            random_state=random_state))\n",
    "        .reset_index(drop=True)\n",
    "    )\n",
    "\n",
    "    return sampled"
   ]
  },
  {
   "cell_type": "code",
   "execution_count": 15,
   "id": "c0ccd338-0e02-41f3-a09d-f56f9266e3fb",
   "metadata": {
    "execution": {
     "iopub.execute_input": "2025-07-30T21:02:37.532495Z",
     "iopub.status.busy": "2025-07-30T21:02:37.531399Z",
     "iopub.status.idle": "2025-07-30T21:02:37.537219Z",
     "shell.execute_reply": "2025-07-30T21:02:37.536065Z"
    },
    "papermill": {
     "duration": 0.034051,
     "end_time": "2025-07-30T21:02:37.538980",
     "exception": false,
     "start_time": "2025-07-30T21:02:37.504929",
     "status": "completed"
    },
    "tags": []
   },
   "outputs": [],
   "source": [
    "#universe[\"training_size\"]"
   ]
  },
  {
   "cell_type": "code",
   "execution_count": 16,
   "id": "ca707fd7-8047-4acd-bfa5-66248fbbf8e6",
   "metadata": {
    "execution": {
     "iopub.execute_input": "2025-07-30T21:02:37.577934Z",
     "iopub.status.busy": "2025-07-30T21:02:37.577447Z",
     "iopub.status.idle": "2025-07-30T21:02:37.582338Z",
     "shell.execute_reply": "2025-07-30T21:02:37.581668Z"
    },
    "papermill": {
     "duration": 0.019769,
     "end_time": "2025-07-30T21:02:37.583643",
     "exception": false,
     "start_time": "2025-07-30T21:02:37.563874",
     "status": "completed"
    },
    "tags": []
   },
   "outputs": [],
   "source": [
    "#universe[\"training_year\"]"
   ]
  },
  {
   "cell_type": "code",
   "execution_count": 17,
   "id": "aea9c6ef-6f46-42c8-85eb-5a62025c1508",
   "metadata": {
    "execution": {
     "iopub.execute_input": "2025-07-30T21:02:37.608617Z",
     "iopub.status.busy": "2025-07-30T21:02:37.607806Z",
     "iopub.status.idle": "2025-07-30T21:02:38.212994Z",
     "shell.execute_reply": "2025-07-30T21:02:38.211942Z"
    },
    "papermill": {
     "duration": 0.619605,
     "end_time": "2025-07-30T21:02:38.214956",
     "exception": false,
     "start_time": "2025-07-30T21:02:37.595351",
     "status": "completed"
    },
    "tags": []
   },
   "outputs": [],
   "source": [
    "siab_train = sample_by_year_size(siab,\n",
    "                               training_year=universe[\"training_year\"],\n",
    "                               training_size=universe[\"training_size\"])"
   ]
  },
  {
   "cell_type": "code",
   "execution_count": 18,
   "id": "8d3afb32-789d-442c-8d5d-9f5aa8dd2eed",
   "metadata": {
    "execution": {
     "iopub.execute_input": "2025-07-30T21:02:38.264013Z",
     "iopub.status.busy": "2025-07-30T21:02:38.263121Z",
     "iopub.status.idle": "2025-07-30T21:02:38.269700Z",
     "shell.execute_reply": "2025-07-30T21:02:38.268721Z"
    },
    "papermill": {
     "duration": 0.032351,
     "end_time": "2025-07-30T21:02:38.271545",
     "exception": false,
     "start_time": "2025-07-30T21:02:38.239194",
     "status": "completed"
    },
    "tags": []
   },
   "outputs": [],
   "source": [
    "#siab_train.shape"
   ]
  },
  {
   "cell_type": "code",
   "execution_count": 19,
   "id": "d582db68-1a4c-47fb-84fc-08518dc1975a",
   "metadata": {
    "execution": {
     "iopub.execute_input": "2025-07-30T21:02:38.320149Z",
     "iopub.status.busy": "2025-07-30T21:02:38.319617Z",
     "iopub.status.idle": "2025-07-30T21:02:38.324912Z",
     "shell.execute_reply": "2025-07-30T21:02:38.323896Z"
    },
    "papermill": {
     "duration": 0.03086,
     "end_time": "2025-07-30T21:02:38.326473",
     "exception": false,
     "start_time": "2025-07-30T21:02:38.295613",
     "status": "completed"
    },
    "tags": []
   },
   "outputs": [],
   "source": [
    "#display(siab_train.groupby(\"year\").size())"
   ]
  },
  {
   "cell_type": "code",
   "execution_count": 20,
   "id": "a561edb4-d032-42cb-8256-22eac1111c64",
   "metadata": {
    "execution": {
     "iopub.execute_input": "2025-07-30T21:02:38.374385Z",
     "iopub.status.busy": "2025-07-30T21:02:38.373467Z",
     "iopub.status.idle": "2025-07-30T21:02:38.636923Z",
     "shell.execute_reply": "2025-07-30T21:02:38.636189Z"
    },
    "papermill": {
     "duration": 0.288506,
     "end_time": "2025-07-30T21:02:38.638278",
     "exception": false,
     "start_time": "2025-07-30T21:02:38.349772",
     "status": "completed"
    },
    "tags": []
   },
   "outputs": [],
   "source": [
    "#siab_train = siab_s[siab_s.year < 2015]\n",
    "siab_calib = siab[siab.year == 2015]\n",
    "siab_test = siab[siab.year == 2016]"
   ]
  },
  {
   "cell_type": "code",
   "execution_count": 21,
   "id": "472de16f-c3db-4916-846b-1f0de9cf1746",
   "metadata": {
    "execution": {
     "iopub.execute_input": "2025-07-30T21:02:38.662650Z",
     "iopub.status.busy": "2025-07-30T21:02:38.661906Z",
     "iopub.status.idle": "2025-07-30T21:02:38.668889Z",
     "shell.execute_reply": "2025-07-30T21:02:38.668141Z"
    },
    "papermill": {
     "duration": 0.01976,
     "end_time": "2025-07-30T21:02:38.670214",
     "exception": false,
     "start_time": "2025-07-30T21:02:38.650454",
     "status": "completed"
    },
    "tags": []
   },
   "outputs": [],
   "source": [
    "X_train = siab_train.iloc[:,4:164]\n",
    "y_train = siab_train.iloc[:, [3]]"
   ]
  },
  {
   "cell_type": "code",
   "execution_count": 22,
   "id": "828c96af-f43a-4ed6-ba47-8ac73a47d56c",
   "metadata": {
    "execution": {
     "iopub.execute_input": "2025-07-30T21:02:38.693327Z",
     "iopub.status.busy": "2025-07-30T21:02:38.693098Z",
     "iopub.status.idle": "2025-07-30T21:02:38.744364Z",
     "shell.execute_reply": "2025-07-30T21:02:38.743340Z"
    },
    "papermill": {
     "duration": 0.064045,
     "end_time": "2025-07-30T21:02:38.745784",
     "exception": false,
     "start_time": "2025-07-30T21:02:38.681739",
     "status": "completed"
    },
    "tags": []
   },
   "outputs": [],
   "source": [
    "X_calib = siab_calib.iloc[:,4:164]\n",
    "y_calib = siab_calib.iloc[:, [3]]"
   ]
  },
  {
   "cell_type": "code",
   "execution_count": 23,
   "id": "c34be9c3-6bd6-476e-acd3-845840e303be",
   "metadata": {
    "execution": {
     "iopub.execute_input": "2025-07-30T21:02:38.770908Z",
     "iopub.status.busy": "2025-07-30T21:02:38.770227Z",
     "iopub.status.idle": "2025-07-30T21:02:38.820836Z",
     "shell.execute_reply": "2025-07-30T21:02:38.820075Z"
    },
    "papermill": {
     "duration": 0.064048,
     "end_time": "2025-07-30T21:02:38.822261",
     "exception": false,
     "start_time": "2025-07-30T21:02:38.758213",
     "status": "completed"
    },
    "tags": []
   },
   "outputs": [],
   "source": [
    "X_test = siab_test.iloc[:,4:164]\n",
    "y_true = siab_test.iloc[:, [3]]"
   ]
  },
  {
   "cell_type": "markdown",
   "id": "9901737e-04df-44f0-9100-f5ad144ed040",
   "metadata": {
    "papermill": {
     "duration": 0.011268,
     "end_time": "2025-07-30T21:02:38.846196",
     "exception": false,
     "start_time": "2025-07-30T21:02:38.834928",
     "status": "completed"
    },
    "tags": []
   },
   "source": [
    "# Splitting Data and Setting Training Data Size OLD VERSION"
   ]
  },
  {
   "cell_type": "code",
   "execution_count": 24,
   "id": "acbc8f7d-8fc8-4e86-8c59-5dcb0f58384b",
   "metadata": {
    "execution": {
     "iopub.execute_input": "2025-07-30T21:02:38.870423Z",
     "iopub.status.busy": "2025-07-30T21:02:38.869892Z",
     "iopub.status.idle": "2025-07-30T21:02:38.875027Z",
     "shell.execute_reply": "2025-07-30T21:02:38.873779Z"
    },
    "papermill": {
     "duration": 0.019513,
     "end_time": "2025-07-30T21:02:38.876794",
     "exception": false,
     "start_time": "2025-07-30T21:02:38.857281",
     "status": "completed"
    },
    "tags": []
   },
   "outputs": [],
   "source": [
    "#def sample_by_year(df, training_size, random_state=42):\n",
    "#    if training_size == \"2014\":\n",
    "#        return df[df[\"year\"] == 2014].reset_index(drop=True)\n",
    "#    \n",
    "#    size_map = {\n",
    "#        \"25k\": 5000,\n",
    "#        \"5k\": 1000,\n",
    "#        \"1k\": 200\n",
    "#    }\n",
    "#\n",
    "#    if training_size not in size_map:\n",
    "#        return df.reset_index(drop=True)  # use all data\n",
    "#\n",
    "#    n_per_year = size_map[training_size]\n",
    "#    grouped = df.groupby(\"year\")\n",
    "#    sampled = grouped.apply(lambda x: x.sample(n=min(n_per_year, len(x)), random_state=random_state))\n",
    "#    return sampled.reset_index(drop=True)"
   ]
  },
  {
   "cell_type": "code",
   "execution_count": 25,
   "id": "6d931f52-beaf-43ff-9e78-9d44a448d54e",
   "metadata": {
    "execution": {
     "iopub.execute_input": "2025-07-30T21:02:38.902848Z",
     "iopub.status.busy": "2025-07-30T21:02:38.902168Z",
     "iopub.status.idle": "2025-07-30T21:02:38.906488Z",
     "shell.execute_reply": "2025-07-30T21:02:38.905801Z"
    },
    "papermill": {
     "duration": 0.017908,
     "end_time": "2025-07-30T21:02:38.907949",
     "exception": false,
     "start_time": "2025-07-30T21:02:38.890041",
     "status": "completed"
    },
    "tags": []
   },
   "outputs": [],
   "source": [
    "#siab_s = sample_by_year(siab, universe[\"training_size\"])"
   ]
  },
  {
   "cell_type": "code",
   "execution_count": 26,
   "id": "5db0a40e-a4e2-4920-be85-b12ae061d70d",
   "metadata": {
    "execution": {
     "iopub.execute_input": "2025-07-30T21:02:38.931695Z",
     "iopub.status.busy": "2025-07-30T21:02:38.931132Z",
     "iopub.status.idle": "2025-07-30T21:02:38.935195Z",
     "shell.execute_reply": "2025-07-30T21:02:38.934501Z"
    },
    "papermill": {
     "duration": 0.017136,
     "end_time": "2025-07-30T21:02:38.936664",
     "exception": false,
     "start_time": "2025-07-30T21:02:38.919528",
     "status": "completed"
    },
    "tags": []
   },
   "outputs": [],
   "source": [
    "#display(siab_s.groupby(\"year\").size())"
   ]
  },
  {
   "cell_type": "code",
   "execution_count": 27,
   "id": "e6c733c5",
   "metadata": {
    "execution": {
     "iopub.execute_input": "2025-07-30T21:02:38.964652Z",
     "iopub.status.busy": "2025-07-30T21:02:38.964093Z",
     "iopub.status.idle": "2025-07-30T21:02:39.054924Z",
     "shell.execute_reply": "2025-07-30T21:02:39.054196Z"
    },
    "papermill": {
     "duration": 0.105434,
     "end_time": "2025-07-30T21:02:39.056478",
     "exception": false,
     "start_time": "2025-07-30T21:02:38.951044",
     "status": "completed"
    },
    "tags": []
   },
   "outputs": [],
   "source": [
    "# Auxiliary data needed downstream in the pipeline\n",
    "\n",
    "org_train = X_train.copy()\n",
    "org_test = X_test.copy()\n",
    "org_calib = X_calib.copy()"
   ]
  },
  {
   "cell_type": "code",
   "execution_count": 28,
   "id": "1466abac-c6da-4492-a62f-4240ae3783af",
   "metadata": {
    "execution": {
     "iopub.execute_input": "2025-07-30T21:02:39.090583Z",
     "iopub.status.busy": "2025-07-30T21:02:39.090087Z",
     "iopub.status.idle": "2025-07-30T21:02:39.095998Z",
     "shell.execute_reply": "2025-07-30T21:02:39.094992Z"
    },
    "papermill": {
     "duration": 0.024616,
     "end_time": "2025-07-30T21:02:39.097964",
     "exception": false,
     "start_time": "2025-07-30T21:02:39.073348",
     "status": "completed"
    },
    "tags": []
   },
   "outputs": [],
   "source": [
    "# put in other script?\n",
    "# Group sizes\n",
    "\n",
    "#def calculate_percentages(df, df_name):\n",
    "#    total_entries = len(df)\n",
    "#\n",
    "#    female_pct = (df['frau1'] == 1).mean() * 100\n",
    "#    non_german_pct = ((df['maxdeutsch1'] == 0) & (df['maxdeutsch.Missing.'] == 0)).mean() * 100\n",
    "#    non_german_male_pct = ((df['frau1'] == 0) & (df['maxdeutsch1'] == 0) & (df['maxdeutsch.Missing.'] == 0)).mean() * 100\n",
    "#    non_german_female_pct = ((df['frau1'] == 1) & (df['maxdeutsch1'] == 0) & (df['maxdeutsch.Missing.'] == 0)).mean() * 100\n",
    "#\n",
    "#    print(f\"--- {df_name} ---\")\n",
    "#    print(f\"Female: {female_pct:.2f}%\")\n",
    "#    print(f\"Non-German: {non_german_pct:.2f}%\")\n",
    "#    print(f\"Non-German Male: {non_german_male_pct:.2f}%\")\n",
    "#    print(f\"Non-German Female: {non_german_female_pct:.2f}%\\n\")\n",
    "#\n",
    "## Calculate for each DataFrame\n",
    "#calculate_percentages(siab_calib, \"siab_calib\")\n",
    "#calculate_percentages(siab_test, \"siab_test\")\n",
    "#calculate_percentages(siab_train, \"siab_train\")"
   ]
  },
  {
   "cell_type": "markdown",
   "id": "0a4a1b33",
   "metadata": {
    "papermill": {
     "duration": 0.021861,
     "end_time": "2025-07-30T21:02:39.142843",
     "exception": false,
     "start_time": "2025-07-30T21:02:39.120982",
     "status": "completed"
    },
    "tags": []
   },
   "source": [
    "# Preprocessing Data"
   ]
  },
  {
   "cell_type": "code",
   "execution_count": 29,
   "id": "ca879031",
   "metadata": {
    "execution": {
     "iopub.execute_input": "2025-07-30T21:02:39.191443Z",
     "iopub.status.busy": "2025-07-30T21:02:39.190954Z",
     "iopub.status.idle": "2025-07-30T21:02:39.197194Z",
     "shell.execute_reply": "2025-07-30T21:02:39.196156Z"
    },
    "papermill": {
     "duration": 0.032288,
     "end_time": "2025-07-30T21:02:39.198907",
     "exception": false,
     "start_time": "2025-07-30T21:02:39.166619",
     "status": "completed"
    },
    "tags": []
   },
   "outputs": [],
   "source": [
    "# EXCLUDE PROTECTED FEATURES\n",
    "# ----------------------\n",
    "# \"exclude_features\": \"none\", # \"nationality\", \"sex\", \"nationality-sex\"\n",
    "\n",
    "excluded_features = universe[\"exclude_features\"].split(\"-\") # split, e.g.: \"nationality-sex\" -> [\"nationality\", \"sex\"]\n",
    "excluded_features_dictionary = {\n",
    "    \"nationality\": [\"maxdeutsch1\", \"maxdeutsch.Missing.\"],\n",
    "    \"sex\": [\"frau1\"],\n",
    "    \"age\": [\"age\"],\n",
    "}\n"
   ]
  },
  {
   "cell_type": "code",
   "execution_count": 30,
   "id": "b745ac60",
   "metadata": {
    "execution": {
     "iopub.execute_input": "2025-07-30T21:02:39.228437Z",
     "iopub.status.busy": "2025-07-30T21:02:39.227961Z",
     "iopub.status.idle": "2025-07-30T21:02:39.233010Z",
     "shell.execute_reply": "2025-07-30T21:02:39.232347Z"
    },
    "papermill": {
     "duration": 0.019473,
     "end_time": "2025-07-30T21:02:39.234391",
     "exception": false,
     "start_time": "2025-07-30T21:02:39.214918",
     "status": "completed"
    },
    "tags": []
   },
   "outputs": [],
   "source": [
    "# Code nice names to column names\n",
    "\n",
    "excluded_features_columns = [\n",
    "    excluded_features_dictionary[f] for f in excluded_features if len(f) > 0 and f != \"none\"\n",
    "]"
   ]
  },
  {
   "cell_type": "code",
   "execution_count": 31,
   "id": "f84f73a2",
   "metadata": {
    "execution": {
     "iopub.execute_input": "2025-07-30T21:02:39.264440Z",
     "iopub.status.busy": "2025-07-30T21:02:39.264063Z",
     "iopub.status.idle": "2025-07-30T21:02:39.269119Z",
     "shell.execute_reply": "2025-07-30T21:02:39.268494Z"
    },
    "papermill": {
     "duration": 0.019546,
     "end_time": "2025-07-30T21:02:39.270332",
     "exception": false,
     "start_time": "2025-07-30T21:02:39.250786",
     "status": "completed"
    },
    "tags": []
   },
   "outputs": [],
   "source": [
    "from utils import flatten_once\n",
    "\n",
    "excluded_features_columns = flatten_once(excluded_features_columns)"
   ]
  },
  {
   "cell_type": "code",
   "execution_count": 32,
   "id": "884dea22",
   "metadata": {
    "execution": {
     "iopub.execute_input": "2025-07-30T21:02:39.296408Z",
     "iopub.status.busy": "2025-07-30T21:02:39.295870Z",
     "iopub.status.idle": "2025-07-30T21:02:39.305124Z",
     "shell.execute_reply": "2025-07-30T21:02:39.304316Z"
    },
    "papermill": {
     "duration": 0.024411,
     "end_time": "2025-07-30T21:02:39.307109",
     "exception": false,
     "start_time": "2025-07-30T21:02:39.282698",
     "status": "completed"
    },
    "tags": []
   },
   "outputs": [
    {
     "name": "stdout",
     "output_type": "stream",
     "text": [
      "Dropping features: ['age']\n"
     ]
    }
   ],
   "source": [
    "if len(excluded_features_columns) > 0:\n",
    "    print(f\"Dropping features: {excluded_features_columns}\")\n",
    "    X_train.drop(excluded_features_columns, axis=1, inplace=True)"
   ]
  },
  {
   "cell_type": "code",
   "execution_count": 33,
   "id": "95ab8b16",
   "metadata": {
    "execution": {
     "iopub.execute_input": "2025-07-30T21:02:39.335527Z",
     "iopub.status.busy": "2025-07-30T21:02:39.334780Z",
     "iopub.status.idle": "2025-07-30T21:02:39.383460Z",
     "shell.execute_reply": "2025-07-30T21:02:39.382698Z"
    },
    "papermill": {
     "duration": 0.06246,
     "end_time": "2025-07-30T21:02:39.384742",
     "exception": false,
     "start_time": "2025-07-30T21:02:39.322282",
     "status": "completed"
    },
    "tags": []
   },
   "outputs": [
    {
     "name": "stdout",
     "output_type": "stream",
     "text": [
      "Dropping features: ['age']\n"
     ]
    }
   ],
   "source": [
    "if len(excluded_features_columns) > 0:\n",
    "    print(f\"Dropping features: {excluded_features_columns}\")\n",
    "    X_test.drop(excluded_features_columns, axis=1, inplace=True)"
   ]
  },
  {
   "cell_type": "code",
   "execution_count": 34,
   "id": "1853aaf5-fb9f-46cb-a2b5-8ea4ae2237e4",
   "metadata": {
    "execution": {
     "iopub.execute_input": "2025-07-30T21:02:39.433166Z",
     "iopub.status.busy": "2025-07-30T21:02:39.432588Z",
     "iopub.status.idle": "2025-07-30T21:02:39.490269Z",
     "shell.execute_reply": "2025-07-30T21:02:39.489187Z"
    },
    "papermill": {
     "duration": 0.084073,
     "end_time": "2025-07-30T21:02:39.492153",
     "exception": false,
     "start_time": "2025-07-30T21:02:39.408080",
     "status": "completed"
    },
    "tags": []
   },
   "outputs": [
    {
     "name": "stdout",
     "output_type": "stream",
     "text": [
      "Dropping features: ['age']\n"
     ]
    }
   ],
   "source": [
    "if len(excluded_features_columns) > 0:\n",
    "    print(f\"Dropping features: {excluded_features_columns}\")\n",
    "    X_calib.drop(excluded_features_columns, axis=1, inplace=True)"
   ]
  },
  {
   "cell_type": "code",
   "execution_count": 35,
   "id": "6727d079-03e5-481e-9d38-292a90b7a0a8",
   "metadata": {
    "execution": {
     "iopub.execute_input": "2025-07-30T21:02:39.531081Z",
     "iopub.status.busy": "2025-07-30T21:02:39.530617Z",
     "iopub.status.idle": "2025-07-30T21:02:39.534707Z",
     "shell.execute_reply": "2025-07-30T21:02:39.534035Z"
    },
    "papermill": {
     "duration": 0.02089,
     "end_time": "2025-07-30T21:02:39.536081",
     "exception": false,
     "start_time": "2025-07-30T21:02:39.515191",
     "status": "completed"
    },
    "tags": []
   },
   "outputs": [],
   "source": [
    "# SPLIT & STRATIFY DATA\n",
    "# ----------------------"
   ]
  },
  {
   "cell_type": "code",
   "execution_count": 36,
   "id": "76c4dc6d",
   "metadata": {
    "execution": {
     "iopub.execute_input": "2025-07-30T21:02:39.565314Z",
     "iopub.status.busy": "2025-07-30T21:02:39.564597Z",
     "iopub.status.idle": "2025-07-30T21:02:39.569630Z",
     "shell.execute_reply": "2025-07-30T21:02:39.568895Z"
    },
    "papermill": {
     "duration": 0.021374,
     "end_time": "2025-07-30T21:02:39.571026",
     "exception": false,
     "start_time": "2025-07-30T21:02:39.549652",
     "status": "completed"
    },
    "tags": []
   },
   "outputs": [],
   "source": [
    "# EXCLUDE CERTAIN SUBGROUPS\n",
    "# ----------------------\n",
    "\n",
    "mode = universe.get(\"exclude_subgroups\", \"keep-all\") \n",
    "# Fetches the exclude_subgroups setting from the universe dict.\n",
    "# Defaults to \"keep-all\" if the key is missing."
   ]
  },
  {
   "cell_type": "code",
   "execution_count": 37,
   "id": "21994072",
   "metadata": {
    "execution": {
     "iopub.execute_input": "2025-07-30T21:02:39.600951Z",
     "iopub.status.busy": "2025-07-30T21:02:39.600460Z",
     "iopub.status.idle": "2025-07-30T21:02:39.606000Z",
     "shell.execute_reply": "2025-07-30T21:02:39.605267Z"
    },
    "papermill": {
     "duration": 0.020844,
     "end_time": "2025-07-30T21:02:39.607231",
     "exception": false,
     "start_time": "2025-07-30T21:02:39.586387",
     "status": "completed"
    },
    "tags": []
   },
   "outputs": [],
   "source": [
    "if mode == \"keep-all\":\n",
    "    keep_mask = pd.Series(True, index=org_train.index)\n",
    "\n",
    "# org_train contains the original feature columns from features_org (in Simson)\n",
    "# features_org contains unprocessed features, for me X_train at beginning ???\n",
    "# For keep-all, creates a boolean Series (keep_mask) of all True, so no rows are removed.\n",
    "\n",
    "elif mode == \"drop-non-german\":\n",
    "    keep_mask = org_train[\"maxdeutsch1\"] == 1 # ??? what about missing values?\n",
    "\n",
    "else:\n",
    "    raise ValueError(f\"Unsupported mode for exclude_subgroups: {mode}\")\n"
   ]
  },
  {
   "cell_type": "code",
   "execution_count": 38,
   "id": "71651440",
   "metadata": {
    "execution": {
     "iopub.execute_input": "2025-07-30T21:02:39.633860Z",
     "iopub.status.busy": "2025-07-30T21:02:39.633368Z",
     "iopub.status.idle": "2025-07-30T21:02:39.639763Z",
     "shell.execute_reply": "2025-07-30T21:02:39.638925Z"
    },
    "papermill": {
     "duration": 0.021602,
     "end_time": "2025-07-30T21:02:39.641434",
     "exception": false,
     "start_time": "2025-07-30T21:02:39.619832",
     "status": "completed"
    },
    "tags": []
   },
   "outputs": [
    {
     "name": "stdout",
     "output_type": "stream",
     "text": [
      "Dropping 665 rows (13.30%) where mode='drop-non-german'\n"
     ]
    }
   ],
   "source": [
    "n_drop = (~keep_mask).sum() # Calculates how many rows are set to be dropped\n",
    "if n_drop > 0:\n",
    "    pct = n_drop / len(keep_mask) * 100\n",
    "    print(f\"Dropping {n_drop} rows ({pct:.2f}%) where mode='{mode}'\")"
   ]
  },
  {
   "cell_type": "code",
   "execution_count": 39,
   "id": "5fb8eee5",
   "metadata": {
    "execution": {
     "iopub.execute_input": "2025-07-30T21:02:39.694785Z",
     "iopub.status.busy": "2025-07-30T21:02:39.694076Z",
     "iopub.status.idle": "2025-07-30T21:02:39.702146Z",
     "shell.execute_reply": "2025-07-30T21:02:39.701181Z"
    },
    "papermill": {
     "duration": 0.034044,
     "end_time": "2025-07-30T21:02:39.703761",
     "exception": false,
     "start_time": "2025-07-30T21:02:39.669717",
     "status": "completed"
    },
    "tags": []
   },
   "outputs": [],
   "source": [
    "X_train = X_train[keep_mask]"
   ]
  },
  {
   "cell_type": "code",
   "execution_count": 40,
   "id": "b202bb3a",
   "metadata": {
    "execution": {
     "iopub.execute_input": "2025-07-30T21:02:39.757311Z",
     "iopub.status.busy": "2025-07-30T21:02:39.756380Z",
     "iopub.status.idle": "2025-07-30T21:02:39.762301Z",
     "shell.execute_reply": "2025-07-30T21:02:39.761448Z"
    },
    "papermill": {
     "duration": 0.034191,
     "end_time": "2025-07-30T21:02:39.763902",
     "exception": false,
     "start_time": "2025-07-30T21:02:39.729711",
     "status": "completed"
    },
    "tags": []
   },
   "outputs": [],
   "source": [
    "y_train = y_train[keep_mask]"
   ]
  },
  {
   "cell_type": "markdown",
   "id": "493e2ac3",
   "metadata": {
    "papermill": {
     "duration": 0.024996,
     "end_time": "2025-07-30T21:02:39.814678",
     "exception": false,
     "start_time": "2025-07-30T21:02:39.789682",
     "status": "completed"
    },
    "tags": []
   },
   "source": [
    "# Model Training"
   ]
  },
  {
   "cell_type": "code",
   "execution_count": 41,
   "id": "679e1268",
   "metadata": {
    "execution": {
     "iopub.execute_input": "2025-07-30T21:02:39.868065Z",
     "iopub.status.busy": "2025-07-30T21:02:39.867556Z",
     "iopub.status.idle": "2025-07-30T21:02:39.977594Z",
     "shell.execute_reply": "2025-07-30T21:02:39.976610Z"
    },
    "papermill": {
     "duration": 0.139413,
     "end_time": "2025-07-30T21:02:39.979686",
     "exception": false,
     "start_time": "2025-07-30T21:02:39.840273",
     "status": "completed"
    },
    "tags": []
   },
   "outputs": [],
   "source": [
    "from sklearn.linear_model import LogisticRegression\n",
    "from sklearn.ensemble import GradientBoostingClassifier, RandomForestClassifier\n",
    "\n",
    "if (universe[\"model\"] == \"logreg\"):\n",
    "    model = LogisticRegression() #penalty=\"none\") #, solver=\"newton-cg\", max_iter=1) # include random_state=19 ?\n",
    "elif (universe[\"model\"] == \"penalized_logreg\"):\n",
    "    model = LogisticRegression(penalty=\"l2\", C=1.0) #, solver=\"newton-cg\", max_iter=1)\n",
    "elif (universe[\"model\"] == \"rf\"):\n",
    "    model = RandomForestClassifier(n_estimators=100, n_jobs=-1)\n",
    "elif (universe[\"model\"] == \"gbm\"):\n",
    "    model = GradientBoostingClassifier()\n",
    "elif (universe[\"model\"] == \"elasticnet\"):\n",
    "    model = LogisticRegression(penalty = 'elasticnet', solver = 'saga', l1_ratio = 0.5, max_iter=5000) # which solver to use?\n",
    "else:\n",
    "    raise \"Unsupported universe.model\""
   ]
  },
  {
   "cell_type": "code",
   "execution_count": 42,
   "id": "0cc8f744",
   "metadata": {
    "execution": {
     "iopub.execute_input": "2025-07-30T21:02:40.033378Z",
     "iopub.status.busy": "2025-07-30T21:02:40.032486Z",
     "iopub.status.idle": "2025-07-30T21:02:40.039678Z",
     "shell.execute_reply": "2025-07-30T21:02:40.038660Z"
    },
    "papermill": {
     "duration": 0.035214,
     "end_time": "2025-07-30T21:02:40.041399",
     "exception": false,
     "start_time": "2025-07-30T21:02:40.006185",
     "status": "completed"
    },
    "tags": []
   },
   "outputs": [],
   "source": [
    "import numpy as np\n",
    "from sklearn.pipeline import Pipeline\n",
    "from sklearn.preprocessing import StandardScaler\n",
    "\n",
    "model = Pipeline([\n",
    "    #(\"continuous_processor\", continuous_processor),\n",
    "    #(\"categorical_preprocessor\", categorical_preprocessor),\n",
    "    (\"scale\", StandardScaler() if universe[\"scale\"] == \"scale\" else None), \n",
    "    (\"model\", model),\n",
    "])"
   ]
  },
  {
   "cell_type": "code",
   "execution_count": 43,
   "id": "9442c04d",
   "metadata": {
    "execution": {
     "iopub.execute_input": "2025-07-30T21:02:40.094032Z",
     "iopub.status.busy": "2025-07-30T21:02:40.093491Z",
     "iopub.status.idle": "2025-07-30T21:02:49.147023Z",
     "shell.execute_reply": "2025-07-30T21:02:49.146080Z"
    },
    "papermill": {
     "duration": 9.081288,
     "end_time": "2025-07-30T21:02:49.148721",
     "exception": false,
     "start_time": "2025-07-30T21:02:40.067433",
     "status": "completed"
    },
    "tags": []
   },
   "outputs": [
    {
     "data": {
      "text/html": [
       "<style>#sk-container-id-1 {color: black;background-color: white;}#sk-container-id-1 pre{padding: 0;}#sk-container-id-1 div.sk-toggleable {background-color: white;}#sk-container-id-1 label.sk-toggleable__label {cursor: pointer;display: block;width: 100%;margin-bottom: 0;padding: 0.3em;box-sizing: border-box;text-align: center;}#sk-container-id-1 label.sk-toggleable__label-arrow:before {content: \"▸\";float: left;margin-right: 0.25em;color: #696969;}#sk-container-id-1 label.sk-toggleable__label-arrow:hover:before {color: black;}#sk-container-id-1 div.sk-estimator:hover label.sk-toggleable__label-arrow:before {color: black;}#sk-container-id-1 div.sk-toggleable__content {max-height: 0;max-width: 0;overflow: hidden;text-align: left;background-color: #f0f8ff;}#sk-container-id-1 div.sk-toggleable__content pre {margin: 0.2em;color: black;border-radius: 0.25em;background-color: #f0f8ff;}#sk-container-id-1 input.sk-toggleable__control:checked~div.sk-toggleable__content {max-height: 200px;max-width: 100%;overflow: auto;}#sk-container-id-1 input.sk-toggleable__control:checked~label.sk-toggleable__label-arrow:before {content: \"▾\";}#sk-container-id-1 div.sk-estimator input.sk-toggleable__control:checked~label.sk-toggleable__label {background-color: #d4ebff;}#sk-container-id-1 div.sk-label input.sk-toggleable__control:checked~label.sk-toggleable__label {background-color: #d4ebff;}#sk-container-id-1 input.sk-hidden--visually {border: 0;clip: rect(1px 1px 1px 1px);clip: rect(1px, 1px, 1px, 1px);height: 1px;margin: -1px;overflow: hidden;padding: 0;position: absolute;width: 1px;}#sk-container-id-1 div.sk-estimator {font-family: monospace;background-color: #f0f8ff;border: 1px dotted black;border-radius: 0.25em;box-sizing: border-box;margin-bottom: 0.5em;}#sk-container-id-1 div.sk-estimator:hover {background-color: #d4ebff;}#sk-container-id-1 div.sk-parallel-item::after {content: \"\";width: 100%;border-bottom: 1px solid gray;flex-grow: 1;}#sk-container-id-1 div.sk-label:hover label.sk-toggleable__label {background-color: #d4ebff;}#sk-container-id-1 div.sk-serial::before {content: \"\";position: absolute;border-left: 1px solid gray;box-sizing: border-box;top: 0;bottom: 0;left: 50%;z-index: 0;}#sk-container-id-1 div.sk-serial {display: flex;flex-direction: column;align-items: center;background-color: white;padding-right: 0.2em;padding-left: 0.2em;position: relative;}#sk-container-id-1 div.sk-item {position: relative;z-index: 1;}#sk-container-id-1 div.sk-parallel {display: flex;align-items: stretch;justify-content: center;background-color: white;position: relative;}#sk-container-id-1 div.sk-item::before, #sk-container-id-1 div.sk-parallel-item::before {content: \"\";position: absolute;border-left: 1px solid gray;box-sizing: border-box;top: 0;bottom: 0;left: 50%;z-index: -1;}#sk-container-id-1 div.sk-parallel-item {display: flex;flex-direction: column;z-index: 1;position: relative;background-color: white;}#sk-container-id-1 div.sk-parallel-item:first-child::after {align-self: flex-end;width: 50%;}#sk-container-id-1 div.sk-parallel-item:last-child::after {align-self: flex-start;width: 50%;}#sk-container-id-1 div.sk-parallel-item:only-child::after {width: 0;}#sk-container-id-1 div.sk-dashed-wrapped {border: 1px dashed gray;margin: 0 0.4em 0.5em 0.4em;box-sizing: border-box;padding-bottom: 0.4em;background-color: white;}#sk-container-id-1 div.sk-label label {font-family: monospace;font-weight: bold;display: inline-block;line-height: 1.2em;}#sk-container-id-1 div.sk-label-container {text-align: center;}#sk-container-id-1 div.sk-container {/* jupyter's `normalize.less` sets `[hidden] { display: none; }` but bootstrap.min.css set `[hidden] { display: none !important; }` so we also need the `!important` here to be able to override the default hidden behavior on the sphinx rendered scikit-learn.org. See: https://github.com/scikit-learn/scikit-learn/issues/21755 */display: inline-block !important;position: relative;}#sk-container-id-1 div.sk-text-repr-fallback {display: none;}</style><div id=\"sk-container-id-1\" class=\"sk-top-container\"><div class=\"sk-text-repr-fallback\"><pre>Pipeline(steps=[(&#x27;scale&#x27;, StandardScaler()),\n",
       "                (&#x27;model&#x27;,\n",
       "                 LogisticRegression(l1_ratio=0.5, max_iter=5000,\n",
       "                                    penalty=&#x27;elasticnet&#x27;, solver=&#x27;saga&#x27;))])</pre><b>In a Jupyter environment, please rerun this cell to show the HTML representation or trust the notebook. <br />On GitHub, the HTML representation is unable to render, please try loading this page with nbviewer.org.</b></div><div class=\"sk-container\" hidden><div class=\"sk-item sk-dashed-wrapped\"><div class=\"sk-label-container\"><div class=\"sk-label sk-toggleable\"><input class=\"sk-toggleable__control sk-hidden--visually\" id=\"sk-estimator-id-1\" type=\"checkbox\" ><label for=\"sk-estimator-id-1\" class=\"sk-toggleable__label sk-toggleable__label-arrow\">Pipeline</label><div class=\"sk-toggleable__content\"><pre>Pipeline(steps=[(&#x27;scale&#x27;, StandardScaler()),\n",
       "                (&#x27;model&#x27;,\n",
       "                 LogisticRegression(l1_ratio=0.5, max_iter=5000,\n",
       "                                    penalty=&#x27;elasticnet&#x27;, solver=&#x27;saga&#x27;))])</pre></div></div></div><div class=\"sk-serial\"><div class=\"sk-item\"><div class=\"sk-estimator sk-toggleable\"><input class=\"sk-toggleable__control sk-hidden--visually\" id=\"sk-estimator-id-2\" type=\"checkbox\" ><label for=\"sk-estimator-id-2\" class=\"sk-toggleable__label sk-toggleable__label-arrow\">StandardScaler</label><div class=\"sk-toggleable__content\"><pre>StandardScaler()</pre></div></div></div><div class=\"sk-item\"><div class=\"sk-estimator sk-toggleable\"><input class=\"sk-toggleable__control sk-hidden--visually\" id=\"sk-estimator-id-3\" type=\"checkbox\" ><label for=\"sk-estimator-id-3\" class=\"sk-toggleable__label sk-toggleable__label-arrow\">LogisticRegression</label><div class=\"sk-toggleable__content\"><pre>LogisticRegression(l1_ratio=0.5, max_iter=5000, penalty=&#x27;elasticnet&#x27;,\n",
       "                   solver=&#x27;saga&#x27;)</pre></div></div></div></div></div></div></div>"
      ],
      "text/plain": [
       "Pipeline(steps=[('scale', StandardScaler()),\n",
       "                ('model',\n",
       "                 LogisticRegression(l1_ratio=0.5, max_iter=5000,\n",
       "                                    penalty='elasticnet', solver='saga'))])"
      ]
     },
     "execution_count": 43,
     "metadata": {},
     "output_type": "execute_result"
    }
   ],
   "source": [
    "model.fit(X_train, y_train.values.ravel())"
   ]
  },
  {
   "cell_type": "code",
   "execution_count": 44,
   "id": "af59f8c0",
   "metadata": {
    "execution": {
     "iopub.execute_input": "2025-07-30T21:02:49.212009Z",
     "iopub.status.busy": "2025-07-30T21:02:49.211299Z",
     "iopub.status.idle": "2025-07-30T21:02:49.217577Z",
     "shell.execute_reply": "2025-07-30T21:02:49.216335Z"
    },
    "papermill": {
     "duration": 0.041394,
     "end_time": "2025-07-30T21:02:49.219582",
     "exception": false,
     "start_time": "2025-07-30T21:02:49.178188",
     "status": "completed"
    },
    "tags": []
   },
   "outputs": [],
   "source": [
    "from fairness_multiverse.universe import predict_w_threshold"
   ]
  },
  {
   "cell_type": "code",
   "execution_count": 45,
   "id": "a7cf2e16",
   "metadata": {
    "execution": {
     "iopub.execute_input": "2025-07-30T21:02:49.271819Z",
     "iopub.status.busy": "2025-07-30T21:02:49.271170Z",
     "iopub.status.idle": "2025-07-30T21:02:49.460411Z",
     "shell.execute_reply": "2025-07-30T21:02:49.459445Z"
    },
    "papermill": {
     "duration": 0.214494,
     "end_time": "2025-07-30T21:02:49.462448",
     "exception": false,
     "start_time": "2025-07-30T21:02:49.247954",
     "status": "completed"
    },
    "tags": []
   },
   "outputs": [
    {
     "data": {
      "text/plain": [
       "0.8565265856649203"
      ]
     },
     "execution_count": 45,
     "metadata": {},
     "output_type": "execute_result"
    }
   ],
   "source": [
    "probs_test = model.predict_proba(X_test)\n",
    "\n",
    "'''\n",
    "Below code returns a boolean array (or binary 0/1 array depending on how it’s used) where each element \n",
    "is True if the probability of class 1 is greater than or equal to the threshold, and False otherwise.\n",
    "'''\n",
    "y_pred_default = predict_w_threshold(probs_test, 0.5)\n",
    "\n",
    "from sklearn.metrics import accuracy_score\n",
    "\n",
    "# Naive prediction\n",
    "accuracy_score(y_true = y_true, y_pred = y_pred_default)"
   ]
  },
  {
   "cell_type": "code",
   "execution_count": 46,
   "id": "081964c3",
   "metadata": {
    "execution": {
     "iopub.execute_input": "2025-07-30T21:02:49.511109Z",
     "iopub.status.busy": "2025-07-30T21:02:49.510473Z",
     "iopub.status.idle": "2025-07-30T21:02:49.684706Z",
     "shell.execute_reply": "2025-07-30T21:02:49.683770Z"
    },
    "papermill": {
     "duration": 0.198707,
     "end_time": "2025-07-30T21:02:49.686326",
     "exception": false,
     "start_time": "2025-07-30T21:02:49.487619",
     "status": "completed"
    },
    "tags": []
   },
   "outputs": [
    {
     "data": {
      "text/plain": [
       "array([0, 0, 0, ..., 0, 0, 0])"
      ]
     },
     "execution_count": 46,
     "metadata": {},
     "output_type": "execute_result"
    }
   ],
   "source": [
    "model.predict(X_test)"
   ]
  },
  {
   "cell_type": "markdown",
   "id": "56c9705b",
   "metadata": {
    "papermill": {
     "duration": 0.024215,
     "end_time": "2025-07-30T21:02:49.736095",
     "exception": false,
     "start_time": "2025-07-30T21:02:49.711880",
     "status": "completed"
    },
    "tags": []
   },
   "source": [
    "# Conformal Prediction"
   ]
  },
  {
   "cell_type": "code",
   "execution_count": 47,
   "id": "160ec6ff",
   "metadata": {
    "execution": {
     "iopub.execute_input": "2025-07-30T21:02:49.782484Z",
     "iopub.status.busy": "2025-07-30T21:02:49.782020Z",
     "iopub.status.idle": "2025-07-30T21:02:49.786949Z",
     "shell.execute_reply": "2025-07-30T21:02:49.786148Z"
    },
    "papermill": {
     "duration": 0.03037,
     "end_time": "2025-07-30T21:02:49.788498",
     "exception": false,
     "start_time": "2025-07-30T21:02:49.758128",
     "status": "completed"
    },
    "tags": []
   },
   "outputs": [],
   "source": [
    "# Miscoverage level for conformal prediction (10% allowed error rate => 90% target coverage)\n",
    "alpha = 0.1"
   ]
  },
  {
   "cell_type": "code",
   "execution_count": 48,
   "id": "eadf4555-3dd3-440e-8e35-f82a4ad9f855",
   "metadata": {
    "execution": {
     "iopub.execute_input": "2025-07-30T21:02:49.835650Z",
     "iopub.status.busy": "2025-07-30T21:02:49.835022Z",
     "iopub.status.idle": "2025-07-30T21:02:50.003506Z",
     "shell.execute_reply": "2025-07-30T21:02:50.002647Z"
    },
    "papermill": {
     "duration": 0.194452,
     "end_time": "2025-07-30T21:02:50.005365",
     "exception": false,
     "start_time": "2025-07-30T21:02:49.810913",
     "status": "completed"
    },
    "tags": []
   },
   "outputs": [],
   "source": [
    "probs_calib = model.predict_proba(X_calib)"
   ]
  },
  {
   "cell_type": "code",
   "execution_count": 49,
   "id": "2ed93547-6d5d-4983-9b36-1ecb300da49a",
   "metadata": {
    "execution": {
     "iopub.execute_input": "2025-07-30T21:02:50.053519Z",
     "iopub.status.busy": "2025-07-30T21:02:50.052906Z",
     "iopub.status.idle": "2025-07-30T21:02:50.058902Z",
     "shell.execute_reply": "2025-07-30T21:02:50.058042Z"
    },
    "papermill": {
     "duration": 0.030638,
     "end_time": "2025-07-30T21:02:50.060525",
     "exception": false,
     "start_time": "2025-07-30T21:02:50.029887",
     "status": "completed"
    },
    "tags": []
   },
   "outputs": [],
   "source": [
    "y_calib = y_calib.values.ravel().astype(int)"
   ]
  },
  {
   "cell_type": "code",
   "execution_count": 50,
   "id": "65d1320d-f588-4b38-9072-62af1ae97f7d",
   "metadata": {
    "execution": {
     "iopub.execute_input": "2025-07-30T21:02:50.107021Z",
     "iopub.status.busy": "2025-07-30T21:02:50.106389Z",
     "iopub.status.idle": "2025-07-30T21:02:50.113871Z",
     "shell.execute_reply": "2025-07-30T21:02:50.112962Z"
    },
    "papermill": {
     "duration": 0.032227,
     "end_time": "2025-07-30T21:02:50.115384",
     "exception": false,
     "start_time": "2025-07-30T21:02:50.083157",
     "status": "completed"
    },
    "tags": []
   },
   "outputs": [],
   "source": [
    "from fairness_multiverse.conformal import compute_nc_scores\n",
    "\n",
    "# Compute nonconformity scores on calibration set (1 - probability of true class)\n",
    "nc_scores = compute_nc_scores(probs_calib, y_calib)"
   ]
  },
  {
   "cell_type": "code",
   "execution_count": 51,
   "id": "df3b8ca3-53b7-43d5-9667-7c85da7aeda2",
   "metadata": {
    "execution": {
     "iopub.execute_input": "2025-07-30T21:02:50.162530Z",
     "iopub.status.busy": "2025-07-30T21:02:50.161878Z",
     "iopub.status.idle": "2025-07-30T21:02:50.168972Z",
     "shell.execute_reply": "2025-07-30T21:02:50.167885Z"
    },
    "papermill": {
     "duration": 0.031426,
     "end_time": "2025-07-30T21:02:50.170444",
     "exception": false,
     "start_time": "2025-07-30T21:02:50.139018",
     "status": "completed"
    },
    "tags": []
   },
   "outputs": [],
   "source": [
    "from fairness_multiverse.conformal import find_threshold\n",
    "\n",
    "# Find conformal threshold q_hat for the given alpha (split conformal method)\n",
    "q_hat = find_threshold(nc_scores, alpha)"
   ]
  },
  {
   "cell_type": "code",
   "execution_count": 52,
   "id": "4d29e6c1-0ef6-4aa4-b8fe-4fe79b0d033a",
   "metadata": {
    "execution": {
     "iopub.execute_input": "2025-07-30T21:02:50.218972Z",
     "iopub.status.busy": "2025-07-30T21:02:50.218093Z",
     "iopub.status.idle": "2025-07-30T21:02:50.225087Z",
     "shell.execute_reply": "2025-07-30T21:02:50.224067Z"
    },
    "papermill": {
     "duration": 0.031678,
     "end_time": "2025-07-30T21:02:50.226709",
     "exception": false,
     "start_time": "2025-07-30T21:02:50.195031",
     "status": "completed"
    },
    "tags": []
   },
   "outputs": [
    {
     "data": {
      "text/plain": [
       "0.6972814721126402"
      ]
     },
     "execution_count": 52,
     "metadata": {},
     "output_type": "execute_result"
    }
   ],
   "source": [
    "q_hat"
   ]
  },
  {
   "cell_type": "code",
   "execution_count": 53,
   "id": "92460794-cdac-4be2-ba28-f28c0515a6fb",
   "metadata": {
    "execution": {
     "iopub.execute_input": "2025-07-30T21:02:50.274595Z",
     "iopub.status.busy": "2025-07-30T21:02:50.273940Z",
     "iopub.status.idle": "2025-07-30T21:02:51.134861Z",
     "shell.execute_reply": "2025-07-30T21:02:51.133896Z"
    },
    "papermill": {
     "duration": 0.886281,
     "end_time": "2025-07-30T21:02:51.136746",
     "exception": false,
     "start_time": "2025-07-30T21:02:50.250465",
     "status": "completed"
    },
    "tags": []
   },
   "outputs": [],
   "source": [
    "from fairness_multiverse.conformal import predict_conformal_sets\n",
    "\n",
    "# Generate prediction sets for each test example\n",
    "pred_sets = predict_conformal_sets(model, X_test, q_hat)"
   ]
  },
  {
   "cell_type": "code",
   "execution_count": 54,
   "id": "d90c9a65-e6db-4f5d-80cd-e68fb7e46829",
   "metadata": {
    "execution": {
     "iopub.execute_input": "2025-07-30T21:02:51.190964Z",
     "iopub.status.busy": "2025-07-30T21:02:51.190274Z",
     "iopub.status.idle": "2025-07-30T21:02:51.196250Z",
     "shell.execute_reply": "2025-07-30T21:02:51.195267Z"
    },
    "papermill": {
     "duration": 0.034585,
     "end_time": "2025-07-30T21:02:51.198053",
     "exception": false,
     "start_time": "2025-07-30T21:02:51.163468",
     "status": "completed"
    },
    "tags": []
   },
   "outputs": [],
   "source": [
    "y_true = y_true.squeeze()"
   ]
  },
  {
   "cell_type": "code",
   "execution_count": 55,
   "id": "3a58a54a-1e68-46b9-927a-df01f18aebc8",
   "metadata": {
    "execution": {
     "iopub.execute_input": "2025-07-30T21:02:51.253849Z",
     "iopub.status.busy": "2025-07-30T21:02:51.253337Z",
     "iopub.status.idle": "2025-07-30T21:02:51.939300Z",
     "shell.execute_reply": "2025-07-30T21:02:51.938560Z"
    },
    "papermill": {
     "duration": 0.715891,
     "end_time": "2025-07-30T21:02:51.940802",
     "exception": false,
     "start_time": "2025-07-30T21:02:51.224911",
     "status": "completed"
    },
    "tags": []
   },
   "outputs": [],
   "source": [
    "from fairness_multiverse.conformal import evaluate_sets\n",
    "\n",
    "# Evaluate coverage and average set size on test data\n",
    "metrics = evaluate_sets(pred_sets, y_true)"
   ]
  },
  {
   "cell_type": "markdown",
   "id": "2b569c12-9aaa-4c88-98c9-bbcd0cf3ebb8",
   "metadata": {
    "papermill": {
     "duration": 0.012565,
     "end_time": "2025-07-30T21:02:51.966782",
     "exception": false,
     "start_time": "2025-07-30T21:02:51.954217",
     "status": "completed"
    },
    "tags": []
   },
   "source": [
    "# CP Metrics"
   ]
  },
  {
   "cell_type": "code",
   "execution_count": 56,
   "id": "5ce0a5cb-201f-45a0-ade5-94c7f0bd6095",
   "metadata": {
    "execution": {
     "iopub.execute_input": "2025-07-30T21:02:51.993316Z",
     "iopub.status.busy": "2025-07-30T21:02:51.992677Z",
     "iopub.status.idle": "2025-07-30T21:02:51.999100Z",
     "shell.execute_reply": "2025-07-30T21:02:51.998281Z"
    },
    "papermill": {
     "duration": 0.021307,
     "end_time": "2025-07-30T21:02:52.000439",
     "exception": false,
     "start_time": "2025-07-30T21:02:51.979132",
     "status": "completed"
    },
    "tags": []
   },
   "outputs": [
    {
     "data": {
      "text/plain": [
       "{'coverage': 0.9106565600267529, 'avg_size': 1.1364730799242002}"
      ]
     },
     "execution_count": 56,
     "metadata": {},
     "output_type": "execute_result"
    }
   ],
   "source": [
    "metrics"
   ]
  },
  {
   "cell_type": "code",
   "execution_count": 57,
   "id": "9b9a838d-31c9-430b-ae14-12baee460d17",
   "metadata": {
    "execution": {
     "iopub.execute_input": "2025-07-30T21:02:52.027614Z",
     "iopub.status.busy": "2025-07-30T21:02:52.027104Z",
     "iopub.status.idle": "2025-07-30T21:02:52.031840Z",
     "shell.execute_reply": "2025-07-30T21:02:52.031153Z"
    },
    "papermill": {
     "duration": 0.019612,
     "end_time": "2025-07-30T21:02:52.033253",
     "exception": false,
     "start_time": "2025-07-30T21:02:52.013641",
     "status": "completed"
    },
    "tags": []
   },
   "outputs": [],
   "source": [
    "example_universe = universe.copy()\n",
    "universe_training_year = example_universe.get(\"training_year\")\n",
    "universe_training_size = example_universe.get(\"training_size\")\n",
    "universe_scale = example_universe.get(\"scale\")\n",
    "universe_model = example_universe.get(\"model\")\n",
    "universe_exclude_features = example_universe.get(\"exclude_features\")\n",
    "universe_exclude_subgroups = example_universe.get(\"exclude_subgroups\")"
   ]
  },
  {
   "cell_type": "code",
   "execution_count": 58,
   "id": "f4b6a8ac-9dc0-4245-8a91-5b3b5999c4f9",
   "metadata": {
    "execution": {
     "iopub.execute_input": "2025-07-30T21:02:52.060680Z",
     "iopub.status.busy": "2025-07-30T21:02:52.060006Z",
     "iopub.status.idle": "2025-07-30T21:02:52.065611Z",
     "shell.execute_reply": "2025-07-30T21:02:52.064865Z"
    },
    "papermill": {
     "duration": 0.020544,
     "end_time": "2025-07-30T21:02:52.066938",
     "exception": false,
     "start_time": "2025-07-30T21:02:52.046394",
     "status": "completed"
    },
    "tags": []
   },
   "outputs": [],
   "source": [
    "cp_metrics_dict = {\n",
    "    \"universe_id\": [universe_id],\n",
    "    \"universe_training_year\": [universe_training_year],\n",
    "    \"universe_training_size\": [universe_training_size],\n",
    "    \"universe_scale\": [universe_scale],\n",
    "    \"universe_model\": [universe_model],\n",
    "    \"universe_exclude_features\": [universe_exclude_features],\n",
    "    \"universe_exclude_subgroups\": [universe_exclude_subgroups],\n",
    "    \"q_hat\": [q_hat],\n",
    "    \"coverage\": [metrics[\"coverage\"]],\n",
    "    \"avg_size\": [metrics[\"avg_size\"]],\n",
    "}"
   ]
  },
  {
   "cell_type": "code",
   "execution_count": 59,
   "id": "908acbb1-0371-4915-85ca-3fa520d2efe2",
   "metadata": {
    "execution": {
     "iopub.execute_input": "2025-07-30T21:02:52.094057Z",
     "iopub.status.busy": "2025-07-30T21:02:52.093427Z",
     "iopub.status.idle": "2025-07-30T21:02:52.099412Z",
     "shell.execute_reply": "2025-07-30T21:02:52.098639Z"
    },
    "papermill": {
     "duration": 0.02049,
     "end_time": "2025-07-30T21:02:52.100789",
     "exception": false,
     "start_time": "2025-07-30T21:02:52.080299",
     "status": "completed"
    },
    "tags": []
   },
   "outputs": [
    {
     "data": {
      "text/plain": [
       "{'universe_id': ['07ca55d0696f078df8ba4d597985d582'],\n",
       " 'universe_training_year': ['2012_14'],\n",
       " 'universe_training_size': ['5k'],\n",
       " 'universe_scale': ['scale'],\n",
       " 'universe_model': ['elasticnet'],\n",
       " 'universe_exclude_features': ['age'],\n",
       " 'universe_exclude_subgroups': ['drop-non-german'],\n",
       " 'q_hat': [0.6972814721126402],\n",
       " 'coverage': [0.9106565600267529],\n",
       " 'avg_size': [1.1364730799242002]}"
      ]
     },
     "execution_count": 59,
     "metadata": {},
     "output_type": "execute_result"
    }
   ],
   "source": [
    "cp_metrics_dict"
   ]
  },
  {
   "cell_type": "code",
   "execution_count": 60,
   "id": "33007efc-14e9-4ec6-97ac-56a455c82265",
   "metadata": {
    "execution": {
     "iopub.execute_input": "2025-07-30T21:02:52.128105Z",
     "iopub.status.busy": "2025-07-30T21:02:52.127782Z",
     "iopub.status.idle": "2025-07-30T21:02:52.132718Z",
     "shell.execute_reply": "2025-07-30T21:02:52.132012Z"
    },
    "papermill": {
     "duration": 0.019702,
     "end_time": "2025-07-30T21:02:52.134040",
     "exception": false,
     "start_time": "2025-07-30T21:02:52.114338",
     "status": "completed"
    },
    "tags": []
   },
   "outputs": [],
   "source": [
    "cp_metrics_df = pd.DataFrame(cp_metrics_dict)"
   ]
  },
  {
   "cell_type": "code",
   "execution_count": 61,
   "id": "db12611b-57b2-4910-b9d0-355adfd6e7bf",
   "metadata": {
    "execution": {
     "iopub.execute_input": "2025-07-30T21:02:52.161525Z",
     "iopub.status.busy": "2025-07-30T21:02:52.161017Z",
     "iopub.status.idle": "2025-07-30T21:02:52.174554Z",
     "shell.execute_reply": "2025-07-30T21:02:52.173888Z"
    },
    "papermill": {
     "duration": 0.028559,
     "end_time": "2025-07-30T21:02:52.175758",
     "exception": false,
     "start_time": "2025-07-30T21:02:52.147199",
     "status": "completed"
    },
    "tags": []
   },
   "outputs": [
    {
     "data": {
      "text/html": [
       "<div>\n",
       "<style scoped>\n",
       "    .dataframe tbody tr th:only-of-type {\n",
       "        vertical-align: middle;\n",
       "    }\n",
       "\n",
       "    .dataframe tbody tr th {\n",
       "        vertical-align: top;\n",
       "    }\n",
       "\n",
       "    .dataframe thead th {\n",
       "        text-align: right;\n",
       "    }\n",
       "</style>\n",
       "<table border=\"1\" class=\"dataframe\">\n",
       "  <thead>\n",
       "    <tr style=\"text-align: right;\">\n",
       "      <th></th>\n",
       "      <th>universe_id</th>\n",
       "      <th>universe_training_year</th>\n",
       "      <th>universe_training_size</th>\n",
       "      <th>universe_scale</th>\n",
       "      <th>universe_model</th>\n",
       "      <th>universe_exclude_features</th>\n",
       "      <th>universe_exclude_subgroups</th>\n",
       "      <th>q_hat</th>\n",
       "      <th>coverage</th>\n",
       "      <th>avg_size</th>\n",
       "    </tr>\n",
       "  </thead>\n",
       "  <tbody>\n",
       "    <tr>\n",
       "      <th>0</th>\n",
       "      <td>07ca55d0696f078df8ba4d597985d582</td>\n",
       "      <td>2012_14</td>\n",
       "      <td>5k</td>\n",
       "      <td>scale</td>\n",
       "      <td>elasticnet</td>\n",
       "      <td>age</td>\n",
       "      <td>drop-non-german</td>\n",
       "      <td>0.697281</td>\n",
       "      <td>0.910657</td>\n",
       "      <td>1.136473</td>\n",
       "    </tr>\n",
       "  </tbody>\n",
       "</table>\n",
       "</div>"
      ],
      "text/plain": [
       "                        universe_id universe_training_year  \\\n",
       "0  07ca55d0696f078df8ba4d597985d582                2012_14   \n",
       "\n",
       "  universe_training_size universe_scale universe_model  \\\n",
       "0                     5k          scale     elasticnet   \n",
       "\n",
       "  universe_exclude_features universe_exclude_subgroups     q_hat  coverage  \\\n",
       "0                       age            drop-non-german  0.697281  0.910657   \n",
       "\n",
       "   avg_size  \n",
       "0  1.136473  "
      ]
     },
     "execution_count": 61,
     "metadata": {},
     "output_type": "execute_result"
    }
   ],
   "source": [
    "cp_metrics_df"
   ]
  },
  {
   "cell_type": "code",
   "execution_count": 62,
   "id": "b7fbde55-a0a1-47e4-9af6-fe4a17fa8c61",
   "metadata": {
    "execution": {
     "iopub.execute_input": "2025-07-30T21:02:52.209162Z",
     "iopub.status.busy": "2025-07-30T21:02:52.208488Z",
     "iopub.status.idle": "2025-07-30T21:02:52.212816Z",
     "shell.execute_reply": "2025-07-30T21:02:52.212134Z"
    },
    "papermill": {
     "duration": 0.019835,
     "end_time": "2025-07-30T21:02:52.214224",
     "exception": false,
     "start_time": "2025-07-30T21:02:52.194389",
     "status": "completed"
    },
    "tags": []
   },
   "outputs": [],
   "source": [
    "# Conditional Coverage & looking at subgroups"
   ]
  },
  {
   "cell_type": "code",
   "execution_count": 63,
   "id": "027ae886-68dd-4141-96c7-805a5450e1ef",
   "metadata": {
    "execution": {
     "iopub.execute_input": "2025-07-30T21:02:52.242019Z",
     "iopub.status.busy": "2025-07-30T21:02:52.241509Z",
     "iopub.status.idle": "2025-07-30T21:02:52.417091Z",
     "shell.execute_reply": "2025-07-30T21:02:52.416375Z"
    },
    "papermill": {
     "duration": 0.190664,
     "end_time": "2025-07-30T21:02:52.418494",
     "exception": false,
     "start_time": "2025-07-30T21:02:52.227830",
     "status": "completed"
    },
    "tags": []
   },
   "outputs": [],
   "source": [
    "from fairness_multiverse.conformal import build_cp_groups\n",
    "\n",
    "cp_groups_df = build_cp_groups(pred_sets, y_true, X_test.index, org_test)\n",
    "#needs universe_id and setting"
   ]
  },
  {
   "cell_type": "code",
   "execution_count": 64,
   "id": "01d5802c-663a-4d1f-9d69-e036faaffbf7",
   "metadata": {
    "execution": {
     "iopub.execute_input": "2025-07-30T21:02:52.448404Z",
     "iopub.status.busy": "2025-07-30T21:02:52.447937Z",
     "iopub.status.idle": "2025-07-30T21:02:52.451951Z",
     "shell.execute_reply": "2025-07-30T21:02:52.451200Z"
    },
    "papermill": {
     "duration": 0.020105,
     "end_time": "2025-07-30T21:02:52.453435",
     "exception": false,
     "start_time": "2025-07-30T21:02:52.433330",
     "status": "completed"
    },
    "tags": []
   },
   "outputs": [],
   "source": [
    "#delete\n",
    "#cp_groups_df"
   ]
  },
  {
   "cell_type": "code",
   "execution_count": 65,
   "id": "fa424af1-d1eb-443d-b717-2d279ada8408",
   "metadata": {
    "execution": {
     "iopub.execute_input": "2025-07-30T21:02:52.482224Z",
     "iopub.status.busy": "2025-07-30T21:02:52.481913Z",
     "iopub.status.idle": "2025-07-30T21:02:52.486277Z",
     "shell.execute_reply": "2025-07-30T21:02:52.485563Z"
    },
    "papermill": {
     "duration": 0.019782,
     "end_time": "2025-07-30T21:02:52.487587",
     "exception": false,
     "start_time": "2025-07-30T21:02:52.467805",
     "status": "completed"
    },
    "tags": []
   },
   "outputs": [],
   "source": [
    "#delete\n",
    "#percentage = (cp_groups_df['nongerman_female'] == 1).mean() * 100\n",
    "#print(percentage)\n"
   ]
  },
  {
   "cell_type": "code",
   "execution_count": 66,
   "id": "6cbdab96-b2b2-45af-ad54-d0516db2e28d",
   "metadata": {
    "execution": {
     "iopub.execute_input": "2025-07-30T21:02:52.516550Z",
     "iopub.status.busy": "2025-07-30T21:02:52.515964Z",
     "iopub.status.idle": "2025-07-30T21:02:53.796266Z",
     "shell.execute_reply": "2025-07-30T21:02:53.795489Z"
    },
    "papermill": {
     "duration": 1.296153,
     "end_time": "2025-07-30T21:02:53.797749",
     "exception": false,
     "start_time": "2025-07-30T21:02:52.501596",
     "status": "completed"
    },
    "tags": []
   },
   "outputs": [],
   "source": [
    "# Define covered = 1 if true_label is in the predicted set\n",
    "cp_groups_df['covered'] = cp_groups_df.apply(\n",
    "    lambda r: int(r['true_label'] in r['pred_set']),\n",
    "    axis=1\n",
    ")"
   ]
  },
  {
   "cell_type": "code",
   "execution_count": 67,
   "id": "338ff529-1a6b-4b87-a931-8e4788d52aad",
   "metadata": {
    "execution": {
     "iopub.execute_input": "2025-07-30T21:02:53.831376Z",
     "iopub.status.busy": "2025-07-30T21:02:53.831011Z",
     "iopub.status.idle": "2025-07-30T21:02:53.835267Z",
     "shell.execute_reply": "2025-07-30T21:02:53.834548Z"
    },
    "papermill": {
     "duration": 0.020374,
     "end_time": "2025-07-30T21:02:53.836713",
     "exception": false,
     "start_time": "2025-07-30T21:02:53.816339",
     "status": "completed"
    },
    "tags": []
   },
   "outputs": [],
   "source": [
    "#cp_groups_df"
   ]
  },
  {
   "cell_type": "code",
   "execution_count": 68,
   "id": "90032e27-66df-4540-9169-4e89cfbaa758",
   "metadata": {
    "execution": {
     "iopub.execute_input": "2025-07-30T21:02:53.866215Z",
     "iopub.status.busy": "2025-07-30T21:02:53.865512Z",
     "iopub.status.idle": "2025-07-30T21:02:53.876463Z",
     "shell.execute_reply": "2025-07-30T21:02:53.875484Z"
    },
    "papermill": {
     "duration": 0.027208,
     "end_time": "2025-07-30T21:02:53.877744",
     "exception": false,
     "start_time": "2025-07-30T21:02:53.850536",
     "status": "completed"
    },
    "tags": []
   },
   "outputs": [],
   "source": [
    "subgroups = ['frau1','nongerman','nongerman_male','nongerman_female']\n",
    "\n",
    "# Conditional coverage for subgroup==1\n",
    "cond_coverage = {\n",
    "    g: cp_groups_df.loc[cp_groups_df[g]==1, 'covered'].mean()\n",
    "    for g in subgroups\n",
    "}"
   ]
  },
  {
   "cell_type": "code",
   "execution_count": 69,
   "id": "1e348fb1-b9c3-45bc-ba23-f016827a7e0d",
   "metadata": {
    "execution": {
     "iopub.execute_input": "2025-07-30T21:02:53.927764Z",
     "iopub.status.busy": "2025-07-30T21:02:53.927106Z",
     "iopub.status.idle": "2025-07-30T21:02:53.934896Z",
     "shell.execute_reply": "2025-07-30T21:02:53.933964Z"
    },
    "papermill": {
     "duration": 0.034359,
     "end_time": "2025-07-30T21:02:53.936410",
     "exception": false,
     "start_time": "2025-07-30T21:02:53.902051",
     "status": "completed"
    },
    "tags": []
   },
   "outputs": [
    {
     "data": {
      "text/plain": [
       "{'frau1': 0.904003234937323,\n",
       " 'nongerman': 0.9051816089372929,\n",
       " 'nongerman_male': 0.924885166171305,\n",
       " 'nongerman_female': 0.8725782414307004}"
      ]
     },
     "execution_count": 69,
     "metadata": {},
     "output_type": "execute_result"
    }
   ],
   "source": [
    "cond_coverage"
   ]
  },
  {
   "cell_type": "code",
   "execution_count": 70,
   "id": "f5093324-c3dd-4d63-bc4c-8d945e5c8bbb",
   "metadata": {
    "execution": {
     "iopub.execute_input": "2025-07-30T21:02:53.988628Z",
     "iopub.status.busy": "2025-07-30T21:02:53.987495Z",
     "iopub.status.idle": "2025-07-30T21:02:53.995573Z",
     "shell.execute_reply": "2025-07-30T21:02:53.994649Z"
    },
    "papermill": {
     "duration": 0.035865,
     "end_time": "2025-07-30T21:02:53.997252",
     "exception": false,
     "start_time": "2025-07-30T21:02:53.961387",
     "status": "completed"
    },
    "tags": []
   },
   "outputs": [],
   "source": [
    "for subgroup, cov in cond_coverage.items():\n",
    "    cp_metrics_df[f\"cov_{subgroup}\"] = cov"
   ]
  },
  {
   "cell_type": "code",
   "execution_count": 71,
   "id": "6e872e10-dbe5-49e8-b554-5030c98ff75d",
   "metadata": {
    "execution": {
     "iopub.execute_input": "2025-07-30T21:02:54.049458Z",
     "iopub.status.busy": "2025-07-30T21:02:54.048722Z",
     "iopub.status.idle": "2025-07-30T21:02:54.066820Z",
     "shell.execute_reply": "2025-07-30T21:02:54.065860Z"
    },
    "papermill": {
     "duration": 0.045684,
     "end_time": "2025-07-30T21:02:54.068520",
     "exception": false,
     "start_time": "2025-07-30T21:02:54.022836",
     "status": "completed"
    },
    "tags": []
   },
   "outputs": [
    {
     "data": {
      "text/html": [
       "<div>\n",
       "<style scoped>\n",
       "    .dataframe tbody tr th:only-of-type {\n",
       "        vertical-align: middle;\n",
       "    }\n",
       "\n",
       "    .dataframe tbody tr th {\n",
       "        vertical-align: top;\n",
       "    }\n",
       "\n",
       "    .dataframe thead th {\n",
       "        text-align: right;\n",
       "    }\n",
       "</style>\n",
       "<table border=\"1\" class=\"dataframe\">\n",
       "  <thead>\n",
       "    <tr style=\"text-align: right;\">\n",
       "      <th></th>\n",
       "      <th>universe_id</th>\n",
       "      <th>universe_training_year</th>\n",
       "      <th>universe_training_size</th>\n",
       "      <th>universe_scale</th>\n",
       "      <th>universe_model</th>\n",
       "      <th>universe_exclude_features</th>\n",
       "      <th>universe_exclude_subgroups</th>\n",
       "      <th>q_hat</th>\n",
       "      <th>coverage</th>\n",
       "      <th>avg_size</th>\n",
       "      <th>cov_frau1</th>\n",
       "      <th>cov_nongerman</th>\n",
       "      <th>cov_nongerman_male</th>\n",
       "      <th>cov_nongerman_female</th>\n",
       "    </tr>\n",
       "  </thead>\n",
       "  <tbody>\n",
       "    <tr>\n",
       "      <th>0</th>\n",
       "      <td>07ca55d0696f078df8ba4d597985d582</td>\n",
       "      <td>2012_14</td>\n",
       "      <td>5k</td>\n",
       "      <td>scale</td>\n",
       "      <td>elasticnet</td>\n",
       "      <td>age</td>\n",
       "      <td>drop-non-german</td>\n",
       "      <td>0.697281</td>\n",
       "      <td>0.910657</td>\n",
       "      <td>1.136473</td>\n",
       "      <td>0.904003</td>\n",
       "      <td>0.905182</td>\n",
       "      <td>0.924885</td>\n",
       "      <td>0.872578</td>\n",
       "    </tr>\n",
       "  </tbody>\n",
       "</table>\n",
       "</div>"
      ],
      "text/plain": [
       "                        universe_id universe_training_year  \\\n",
       "0  07ca55d0696f078df8ba4d597985d582                2012_14   \n",
       "\n",
       "  universe_training_size universe_scale universe_model  \\\n",
       "0                     5k          scale     elasticnet   \n",
       "\n",
       "  universe_exclude_features universe_exclude_subgroups     q_hat  coverage  \\\n",
       "0                       age            drop-non-german  0.697281  0.910657   \n",
       "\n",
       "   avg_size  cov_frau1  cov_nongerman  cov_nongerman_male  \\\n",
       "0  1.136473   0.904003       0.905182            0.924885   \n",
       "\n",
       "   cov_nongerman_female  \n",
       "0              0.872578  "
      ]
     },
     "execution_count": 71,
     "metadata": {},
     "output_type": "execute_result"
    }
   ],
   "source": [
    "cp_metrics_df"
   ]
  },
  {
   "cell_type": "markdown",
   "id": "33774451",
   "metadata": {
    "papermill": {
     "duration": 0.024545,
     "end_time": "2025-07-30T21:02:54.119755",
     "exception": false,
     "start_time": "2025-07-30T21:02:54.095210",
     "status": "completed"
    },
    "tags": []
   },
   "source": [
    "# (Fairness) Metrics"
   ]
  },
  {
   "cell_type": "code",
   "execution_count": 72,
   "id": "debc5d62",
   "metadata": {
    "execution": {
     "iopub.execute_input": "2025-07-30T21:02:54.173358Z",
     "iopub.status.busy": "2025-07-30T21:02:54.172407Z",
     "iopub.status.idle": "2025-07-30T21:02:54.195455Z",
     "shell.execute_reply": "2025-07-30T21:02:54.194574Z"
    },
    "papermill": {
     "duration": 0.051886,
     "end_time": "2025-07-30T21:02:54.197349",
     "exception": false,
     "start_time": "2025-07-30T21:02:54.145463",
     "status": "completed"
    },
    "tags": []
   },
   "outputs": [],
   "source": [
    "# do I need to include maxdeutsch1.missing?\n",
    "\n",
    "import numpy as np\n",
    "\n",
    "colname_to_bin = \"maxdeutsch1\"\n",
    "majority_value = org_train[colname_to_bin].mode()[0]\n",
    "\n",
    "org_test[\"majmin\"] = np.where(org_test[colname_to_bin] == majority_value, \"majority\", \"minority\")"
   ]
  },
  {
   "cell_type": "code",
   "execution_count": 73,
   "id": "06a50de5",
   "metadata": {
    "execution": {
     "iopub.execute_input": "2025-07-30T21:02:54.254896Z",
     "iopub.status.busy": "2025-07-30T21:02:54.254243Z",
     "iopub.status.idle": "2025-07-30T21:02:57.072812Z",
     "shell.execute_reply": "2025-07-30T21:02:57.071785Z"
    },
    "papermill": {
     "duration": 2.849983,
     "end_time": "2025-07-30T21:02:57.074799",
     "exception": false,
     "start_time": "2025-07-30T21:02:54.224816",
     "status": "completed"
    },
    "tags": []
   },
   "outputs": [],
   "source": [
    "example_universe = universe.copy()\n",
    "example_universe[\"cutoff\"] = example_universe[\"cutoff\"][0]\n",
    "example_universe[\"eval_fairness_grouping\"] = example_universe[\"eval_fairness_grouping\"][0]\n",
    "fairness_dict, metric_frame = universe_analysis.compute_metrics(\n",
    "    example_universe,\n",
    "    y_pred_prob=probs_test,\n",
    "    y_test=y_true,\n",
    "    org_test=org_test,\n",
    ")"
   ]
  },
  {
   "cell_type": "markdown",
   "id": "f95d4e02",
   "metadata": {
    "papermill": {
     "duration": 0.027678,
     "end_time": "2025-07-30T21:02:57.133267",
     "exception": false,
     "start_time": "2025-07-30T21:02:57.105589",
     "status": "completed"
    },
    "tags": []
   },
   "source": [
    "# Overall"
   ]
  },
  {
   "cell_type": "markdown",
   "id": "bdee4871",
   "metadata": {
    "papermill": {
     "duration": 0.027808,
     "end_time": "2025-07-30T21:02:57.188918",
     "exception": false,
     "start_time": "2025-07-30T21:02:57.161110",
     "status": "completed"
    },
    "tags": []
   },
   "source": [
    "Fairness\n",
    "Main fairness target: Equalized Odds. Seems to be a better fit than equal opportunity, since we're not only interested in Y = 1. Seems to be a better fit than demographic parity, since we also care about accuracy, not just equal distribution of preds.\n",
    "\n",
    "Pick column for computation of fairness metrics\n",
    "\n",
    "Performance\n",
    "Overall performance measures, most interesting in relation to the measures split by group below"
   ]
  },
  {
   "cell_type": "code",
   "execution_count": 74,
   "id": "c4e067c6",
   "metadata": {
    "execution": {
     "iopub.execute_input": "2025-07-30T21:02:57.248447Z",
     "iopub.status.busy": "2025-07-30T21:02:57.247964Z",
     "iopub.status.idle": "2025-07-30T21:02:57.257376Z",
     "shell.execute_reply": "2025-07-30T21:02:57.256247Z"
    },
    "papermill": {
     "duration": 0.041255,
     "end_time": "2025-07-30T21:02:57.259316",
     "exception": false,
     "start_time": "2025-07-30T21:02:57.218061",
     "status": "completed"
    },
    "tags": []
   },
   "outputs": [
    {
     "data": {
      "text/plain": [
       "accuracy                   0.223464\n",
       "balanced accuracy          0.546592\n",
       "f1                         0.244821\n",
       "precision                  0.139858\n",
       "false positive rate        0.888046\n",
       "false negative rate        0.018770\n",
       "selection rate             0.900000\n",
       "count                  89710.000000\n",
       "dtype: float64"
      ]
     },
     "execution_count": 74,
     "metadata": {},
     "output_type": "execute_result"
    }
   ],
   "source": [
    "metric_frame.overall"
   ]
  },
  {
   "cell_type": "markdown",
   "id": "e968fe9d",
   "metadata": {
    "papermill": {
     "duration": 0.034725,
     "end_time": "2025-07-30T21:02:57.329622",
     "exception": false,
     "start_time": "2025-07-30T21:02:57.294897",
     "status": "completed"
    },
    "tags": []
   },
   "source": [
    "By Group"
   ]
  },
  {
   "cell_type": "code",
   "execution_count": 75,
   "id": "ec325bce",
   "metadata": {
    "execution": {
     "iopub.execute_input": "2025-07-30T21:02:57.403171Z",
     "iopub.status.busy": "2025-07-30T21:02:57.402431Z",
     "iopub.status.idle": "2025-07-30T21:02:57.422551Z",
     "shell.execute_reply": "2025-07-30T21:02:57.421519Z"
    },
    "papermill": {
     "duration": 0.066688,
     "end_time": "2025-07-30T21:02:57.431985",
     "exception": false,
     "start_time": "2025-07-30T21:02:57.365297",
     "status": "completed"
    },
    "tags": []
   },
   "outputs": [
    {
     "data": {
      "text/html": [
       "<div>\n",
       "<style scoped>\n",
       "    .dataframe tbody tr th:only-of-type {\n",
       "        vertical-align: middle;\n",
       "    }\n",
       "\n",
       "    .dataframe tbody tr th {\n",
       "        vertical-align: top;\n",
       "    }\n",
       "\n",
       "    .dataframe thead th {\n",
       "        text-align: right;\n",
       "    }\n",
       "</style>\n",
       "<table border=\"1\" class=\"dataframe\">\n",
       "  <thead>\n",
       "    <tr style=\"text-align: right;\">\n",
       "      <th></th>\n",
       "      <th>accuracy</th>\n",
       "      <th>balanced accuracy</th>\n",
       "      <th>f1</th>\n",
       "      <th>precision</th>\n",
       "      <th>false positive rate</th>\n",
       "      <th>false negative rate</th>\n",
       "      <th>selection rate</th>\n",
       "      <th>count</th>\n",
       "    </tr>\n",
       "    <tr>\n",
       "      <th>majmin</th>\n",
       "      <th></th>\n",
       "      <th></th>\n",
       "      <th></th>\n",
       "      <th></th>\n",
       "      <th></th>\n",
       "      <th></th>\n",
       "      <th></th>\n",
       "      <th></th>\n",
       "    </tr>\n",
       "  </thead>\n",
       "  <tbody>\n",
       "    <tr>\n",
       "      <th>majority</th>\n",
       "      <td>0.239208</td>\n",
       "      <td>0.553616</td>\n",
       "      <td>0.254153</td>\n",
       "      <td>0.145988</td>\n",
       "      <td>0.87373</td>\n",
       "      <td>0.019037</td>\n",
       "      <td>0.887899</td>\n",
       "      <td>69170.0</td>\n",
       "    </tr>\n",
       "    <tr>\n",
       "      <th>minority</th>\n",
       "      <td>0.170448</td>\n",
       "      <td>0.523462</td>\n",
       "      <td>0.214467</td>\n",
       "      <td>0.120375</td>\n",
       "      <td>0.93534</td>\n",
       "      <td>0.017736</td>\n",
       "      <td>0.940750</td>\n",
       "      <td>20540.0</td>\n",
       "    </tr>\n",
       "  </tbody>\n",
       "</table>\n",
       "</div>"
      ],
      "text/plain": [
       "          accuracy  balanced accuracy        f1  precision  \\\n",
       "majmin                                                       \n",
       "majority  0.239208           0.553616  0.254153   0.145988   \n",
       "minority  0.170448           0.523462  0.214467   0.120375   \n",
       "\n",
       "          false positive rate  false negative rate  selection rate    count  \n",
       "majmin                                                                       \n",
       "majority              0.87373             0.019037        0.887899  69170.0  \n",
       "minority              0.93534             0.017736        0.940750  20540.0  "
      ]
     },
     "execution_count": 75,
     "metadata": {},
     "output_type": "execute_result"
    }
   ],
   "source": [
    "metric_frame.by_group"
   ]
  },
  {
   "cell_type": "code",
   "execution_count": 76,
   "id": "a9ddbe63",
   "metadata": {
    "execution": {
     "iopub.execute_input": "2025-07-30T21:02:57.518645Z",
     "iopub.status.busy": "2025-07-30T21:02:57.518098Z",
     "iopub.status.idle": "2025-07-30T21:03:00.239013Z",
     "shell.execute_reply": "2025-07-30T21:03:00.237612Z"
    },
    "papermill": {
     "duration": 2.759451,
     "end_time": "2025-07-30T21:03:00.241199",
     "exception": false,
     "start_time": "2025-07-30T21:02:57.481748",
     "status": "completed"
    },
    "tags": []
   },
   "outputs": [
    {
     "data": {
      "text/plain": [
       "array([[<Axes: title={'center': 'accuracy'}, xlabel='majmin'>,\n",
       "        <Axes: title={'center': 'balanced accuracy'}, xlabel='majmin'>,\n",
       "        <Axes: title={'center': 'f1'}, xlabel='majmin'>],\n",
       "       [<Axes: title={'center': 'precision'}, xlabel='majmin'>,\n",
       "        <Axes: title={'center': 'false positive rate'}, xlabel='majmin'>,\n",
       "        <Axes: title={'center': 'false negative rate'}, xlabel='majmin'>],\n",
       "       [<Axes: title={'center': 'selection rate'}, xlabel='majmin'>,\n",
       "        <Axes: title={'center': 'count'}, xlabel='majmin'>,\n",
       "        <Axes: xlabel='majmin'>]], dtype=object)"
      ]
     },
     "execution_count": 76,
     "metadata": {},
     "output_type": "execute_result"
    },
    {
     "data": {
      "image/png": "[encoded data removed]",
      "text/plain": [
       "<Figure size 1200x800 with 9 Axes>"
      ]
     },
     "metadata": {},
     "output_type": "display_data"
    }
   ],
   "source": [
    "# In a graphic\n",
    "metric_frame.by_group.plot.bar(\n",
    "    subplots=True,\n",
    "    layout=[3, 3],\n",
    "    legend=False,\n",
    "    figsize=[12, 8],\n",
    "    title=\"Show all metrics\",\n",
    ")"
   ]
  },
  {
   "cell_type": "markdown",
   "id": "f57a0bac",
   "metadata": {
    "papermill": {
     "duration": 0.031945,
     "end_time": "2025-07-30T21:03:00.305565",
     "exception": false,
     "start_time": "2025-07-30T21:03:00.273620",
     "status": "completed"
    },
    "tags": []
   },
   "source": [
    "# Final Output"
   ]
  },
  {
   "cell_type": "code",
   "execution_count": 77,
   "id": "96d280a3",
   "metadata": {
    "execution": {
     "iopub.execute_input": "2025-07-30T21:03:00.372494Z",
     "iopub.status.busy": "2025-07-30T21:03:00.371331Z",
     "iopub.status.idle": "2025-07-30T21:03:00.383842Z",
     "shell.execute_reply": "2025-07-30T21:03:00.382712Z"
    },
    "papermill": {
     "duration": 0.048059,
     "end_time": "2025-07-30T21:03:00.385879",
     "exception": false,
     "start_time": "2025-07-30T21:03:00.337820",
     "status": "completed"
    },
    "tags": []
   },
   "outputs": [
    {
     "data": {
      "text/plain": [
       "4"
      ]
     },
     "execution_count": 77,
     "metadata": {},
     "output_type": "execute_result"
    }
   ],
   "source": [
    "sub_universes = universe_analysis.generate_sub_universes()\n",
    "len(sub_universes)"
   ]
  },
  {
   "cell_type": "code",
   "execution_count": 78,
   "id": "92adf7ba",
   "metadata": {
    "execution": {
     "iopub.execute_input": "2025-07-30T21:03:00.450635Z",
     "iopub.status.busy": "2025-07-30T21:03:00.450224Z",
     "iopub.status.idle": "2025-07-30T21:03:00.457030Z",
     "shell.execute_reply": "2025-07-30T21:03:00.455676Z"
    },
    "papermill": {
     "duration": 0.044854,
     "end_time": "2025-07-30T21:03:00.458958",
     "exception": false,
     "start_time": "2025-07-30T21:03:00.414104",
     "status": "completed"
    },
    "tags": []
   },
   "outputs": [],
   "source": [
    "def filter_sub_universe_data(sub_universe, org_test):\n",
    "    # Keep all rows — no filtering\n",
    "    keep_rows_mask = np.ones(org_test.shape[0], dtype=bool)\n",
    "\n",
    "    print(f\"[INFO] Keeping all rows: {keep_rows_mask.sum()} rows retained.\")\n",
    "    return keep_rows_mask"
   ]
  },
  {
   "cell_type": "code",
   "execution_count": 79,
   "id": "4a759155",
   "metadata": {
    "execution": {
     "iopub.execute_input": "2025-07-30T21:03:00.526600Z",
     "iopub.status.busy": "2025-07-30T21:03:00.525623Z",
     "iopub.status.idle": "2025-07-30T21:03:09.357508Z",
     "shell.execute_reply": "2025-07-30T21:03:09.356538Z"
    },
    "papermill": {
     "duration": 8.867255,
     "end_time": "2025-07-30T21:03:09.359220",
     "exception": false,
     "start_time": "2025-07-30T21:03:00.491965",
     "status": "completed"
    },
    "tags": []
   },
   "outputs": [
    {
     "name": "stdout",
     "output_type": "stream",
     "text": [
      "Stopping execution_time clock.\n",
      "[INFO] Keeping all rows: 89710 rows retained.\n"
     ]
    },
    {
     "name": "stdout",
     "output_type": "stream",
     "text": [
      "[INFO] Keeping all rows: 89710 rows retained.\n"
     ]
    },
    {
     "name": "stdout",
     "output_type": "stream",
     "text": [
      "[INFO] Keeping all rows: 89710 rows retained.\n"
     ]
    },
    {
     "name": "stdout",
     "output_type": "stream",
     "text": [
      "[INFO] Keeping all rows: 89710 rows retained.\n"
     ]
    },
    {
     "data": {
      "text/html": [
       "<div>\n",
       "<style scoped>\n",
       "    .dataframe tbody tr th:only-of-type {\n",
       "        vertical-align: middle;\n",
       "    }\n",
       "\n",
       "    .dataframe tbody tr th {\n",
       "        vertical-align: top;\n",
       "    }\n",
       "\n",
       "    .dataframe thead th {\n",
       "        text-align: right;\n",
       "    }\n",
       "</style>\n",
       "<table border=\"1\" class=\"dataframe\">\n",
       "  <thead>\n",
       "    <tr style=\"text-align: right;\">\n",
       "      <th></th>\n",
       "      <th>run_no</th>\n",
       "      <th>universe_id</th>\n",
       "      <th>universe_settings</th>\n",
       "      <th>execution_time</th>\n",
       "      <th>test_size_n</th>\n",
       "      <th>test_size_frac</th>\n",
       "      <th>fair_main_equalized_odds_difference</th>\n",
       "      <th>fair_main_equalized_odds_ratio</th>\n",
       "      <th>fair_main_demographic_parity_difference</th>\n",
       "      <th>fair_main_demographic_parity_ratio</th>\n",
       "      <th>...</th>\n",
       "      <th>perf_grp_precision_0</th>\n",
       "      <th>perf_grp_precision_1</th>\n",
       "      <th>perf_grp_false positive rate_0</th>\n",
       "      <th>perf_grp_false positive rate_1</th>\n",
       "      <th>perf_grp_false negative rate_0</th>\n",
       "      <th>perf_grp_false negative rate_1</th>\n",
       "      <th>perf_grp_selection rate_0</th>\n",
       "      <th>perf_grp_selection rate_1</th>\n",
       "      <th>perf_grp_count_0</th>\n",
       "      <th>perf_grp_count_1</th>\n",
       "    </tr>\n",
       "  </thead>\n",
       "  <tbody>\n",
       "    <tr>\n",
       "      <th>0</th>\n",
       "      <td>14</td>\n",
       "      <td>07ca55d0696f078df8ba4d597985d582</td>\n",
       "      <td>{\"cutoff\": \"quantile_0.1\", \"eval_fairness_grou...</td>\n",
       "      <td>35.576027</td>\n",
       "      <td>89710</td>\n",
       "      <td>1.0</td>\n",
       "      <td>0.061610</td>\n",
       "      <td>0.934131</td>\n",
       "      <td>0.052850</td>\n",
       "      <td>0.943821</td>\n",
       "      <td>...</td>\n",
       "      <td>NaN</td>\n",
       "      <td>NaN</td>\n",
       "      <td>NaN</td>\n",
       "      <td>NaN</td>\n",
       "      <td>NaN</td>\n",
       "      <td>NaN</td>\n",
       "      <td>NaN</td>\n",
       "      <td>NaN</td>\n",
       "      <td>NaN</td>\n",
       "      <td>NaN</td>\n",
       "    </tr>\n",
       "    <tr>\n",
       "      <th>0</th>\n",
       "      <td>14</td>\n",
       "      <td>07ca55d0696f078df8ba4d597985d582</td>\n",
       "      <td>{\"cutoff\": \"quantile_0.1\", \"eval_fairness_grou...</td>\n",
       "      <td>35.576027</td>\n",
       "      <td>89710</td>\n",
       "      <td>1.0</td>\n",
       "      <td>0.061610</td>\n",
       "      <td>0.934131</td>\n",
       "      <td>0.052850</td>\n",
       "      <td>0.943821</td>\n",
       "      <td>...</td>\n",
       "      <td>0.120375</td>\n",
       "      <td>0.145988</td>\n",
       "      <td>0.935340</td>\n",
       "      <td>0.873730</td>\n",
       "      <td>0.017736</td>\n",
       "      <td>0.019037</td>\n",
       "      <td>0.940750</td>\n",
       "      <td>0.887899</td>\n",
       "      <td>20540.0</td>\n",
       "      <td>69170.0</td>\n",
       "    </tr>\n",
       "    <tr>\n",
       "      <th>0</th>\n",
       "      <td>14</td>\n",
       "      <td>07ca55d0696f078df8ba4d597985d582</td>\n",
       "      <td>{\"cutoff\": \"quantile_0.25\", \"eval_fairness_gro...</td>\n",
       "      <td>35.576027</td>\n",
       "      <td>89710</td>\n",
       "      <td>1.0</td>\n",
       "      <td>0.130868</td>\n",
       "      <td>0.841056</td>\n",
       "      <td>0.112275</td>\n",
       "      <td>0.865790</td>\n",
       "      <td>...</td>\n",
       "      <td>NaN</td>\n",
       "      <td>NaN</td>\n",
       "      <td>NaN</td>\n",
       "      <td>NaN</td>\n",
       "      <td>NaN</td>\n",
       "      <td>NaN</td>\n",
       "      <td>NaN</td>\n",
       "      <td>NaN</td>\n",
       "      <td>NaN</td>\n",
       "      <td>NaN</td>\n",
       "    </tr>\n",
       "    <tr>\n",
       "      <th>0</th>\n",
       "      <td>14</td>\n",
       "      <td>07ca55d0696f078df8ba4d597985d582</td>\n",
       "      <td>{\"cutoff\": \"quantile_0.25\", \"eval_fairness_gro...</td>\n",
       "      <td>35.576027</td>\n",
       "      <td>89710</td>\n",
       "      <td>1.0</td>\n",
       "      <td>0.130868</td>\n",
       "      <td>0.841056</td>\n",
       "      <td>0.112275</td>\n",
       "      <td>0.865790</td>\n",
       "      <td>...</td>\n",
       "      <td>0.129256</td>\n",
       "      <td>0.170243</td>\n",
       "      <td>0.823355</td>\n",
       "      <td>0.692487</td>\n",
       "      <td>0.062078</td>\n",
       "      <td>0.066849</td>\n",
       "      <td>0.836563</td>\n",
       "      <td>0.724288</td>\n",
       "      <td>20540.0</td>\n",
       "      <td>69170.0</td>\n",
       "    </tr>\n",
       "  </tbody>\n",
       "</table>\n",
       "<p>4 rows × 50 columns</p>\n",
       "</div>"
      ],
      "text/plain": [
       "  run_no                       universe_id  \\\n",
       "0     14  07ca55d0696f078df8ba4d597985d582   \n",
       "0     14  07ca55d0696f078df8ba4d597985d582   \n",
       "0     14  07ca55d0696f078df8ba4d597985d582   \n",
       "0     14  07ca55d0696f078df8ba4d597985d582   \n",
       "\n",
       "                                   universe_settings  execution_time  \\\n",
       "0  {\"cutoff\": \"quantile_0.1\", \"eval_fairness_grou...       35.576027   \n",
       "0  {\"cutoff\": \"quantile_0.1\", \"eval_fairness_grou...       35.576027   \n",
       "0  {\"cutoff\": \"quantile_0.25\", \"eval_fairness_gro...       35.576027   \n",
       "0  {\"cutoff\": \"quantile_0.25\", \"eval_fairness_gro...       35.576027   \n",
       "\n",
       "   test_size_n  test_size_frac  fair_main_equalized_odds_difference  \\\n",
       "0        89710             1.0                             0.061610   \n",
       "0        89710             1.0                             0.061610   \n",
       "0        89710             1.0                             0.130868   \n",
       "0        89710             1.0                             0.130868   \n",
       "\n",
       "   fair_main_equalized_odds_ratio  fair_main_demographic_parity_difference  \\\n",
       "0                        0.934131                                 0.052850   \n",
       "0                        0.934131                                 0.052850   \n",
       "0                        0.841056                                 0.112275   \n",
       "0                        0.841056                                 0.112275   \n",
       "\n",
       "   fair_main_demographic_parity_ratio  ...  perf_grp_precision_0  \\\n",
       "0                            0.943821  ...                   NaN   \n",
       "0                            0.943821  ...              0.120375   \n",
       "0                            0.865790  ...                   NaN   \n",
       "0                            0.865790  ...              0.129256   \n",
       "\n",
       "   perf_grp_precision_1  perf_grp_false positive rate_0  \\\n",
       "0                   NaN                             NaN   \n",
       "0              0.145988                        0.935340   \n",
       "0                   NaN                             NaN   \n",
       "0              0.170243                        0.823355   \n",
       "\n",
       "   perf_grp_false positive rate_1  perf_grp_false negative rate_0  \\\n",
       "0                             NaN                             NaN   \n",
       "0                        0.873730                        0.017736   \n",
       "0                             NaN                             NaN   \n",
       "0                        0.692487                        0.062078   \n",
       "\n",
       "   perf_grp_false negative rate_1  perf_grp_selection rate_0  \\\n",
       "0                             NaN                        NaN   \n",
       "0                        0.019037                   0.940750   \n",
       "0                             NaN                        NaN   \n",
       "0                        0.066849                   0.836563   \n",
       "\n",
       "   perf_grp_selection rate_1  perf_grp_count_0  perf_grp_count_1  \n",
       "0                        NaN               NaN               NaN  \n",
       "0                   0.887899           20540.0           69170.0  \n",
       "0                        NaN               NaN               NaN  \n",
       "0                   0.724288           20540.0           69170.0  \n",
       "\n",
       "[4 rows x 50 columns]"
      ]
     },
     "execution_count": 79,
     "metadata": {},
     "output_type": "execute_result"
    }
   ],
   "source": [
    "final_output = universe_analysis.generate_final_output(\n",
    "    y_pred_prob=probs_test,\n",
    "    y_test=y_true,\n",
    "    org_test=org_test,\n",
    "    filter_data=filter_sub_universe_data,\n",
    "    cp_metrics_df=cp_metrics_df,\n",
    "    save=True,\n",
    ")\n",
    "final_output"
   ]
  },
  {
   "cell_type": "code",
   "execution_count": null,
   "id": "721ff514-cb11-46f8-b6fc-50392f74b5cb",
   "metadata": {
    "papermill": {
     "duration": 0.032215,
     "end_time": "2025-07-30T21:03:09.423697",
     "exception": false,
     "start_time": "2025-07-30T21:03:09.391482",
     "status": "completed"
    },
    "tags": []
   },
   "outputs": [],
   "source": []
  }
 ],
 "metadata": {
  "celltoolbar": "Tags",
  "kernelspec": {
   "display_name": "Python (CMA Fairness)",
   "language": "python",
   "name": "cma_fair_env"
  },
  "language_info": {
   "codemirror_mode": {
    "name": "ipython",
    "version": 3
   },
   "file_extension": ".py",
   "mimetype": "text/x-python",
   "name": "python",
   "nbconvert_exporter": "python",
   "pygments_lexer": "ipython3",
   "version": "3.10.12"
  },
  "papermill": {
   "default_parameters": {},
   "duration": 48.636644,
   "end_time": "2025-07-30T21:03:10.271802",
   "environment_variables": {},
   "exception": null,
   "input_path": "universe_analysis.ipynb",
   "output_path": "output/runs/14/notebooks/m_14-07ca55d0696f078df8ba4d597985d582.ipynb",
   "parameters": {
    "output_dir": "output",
    "run_no": "14",
    "seed": "2023",
    "universe": "{\"cutoff\": [\"quantile_0.1\", \"quantile_0.25\"], \"eval_fairness_grouping\": [\"majority-minority\", \"nationality-all\"], \"exclude_features\": \"age\", \"exclude_subgroups\": \"drop-non-german\", \"model\": \"elasticnet\", \"scale\": \"scale\", \"training_size\": \"5k\", \"training_year\": \"2012_14\"}",
    "universe_id": "07ca55d0696f078df8ba4d597985d582"
   },
   "start_time": "2025-07-30T21:02:21.635158",
   "version": "2.6.0"
  }
 },
 "nbformat": 4,
 "nbformat_minor": 5
}