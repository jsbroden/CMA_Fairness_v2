{
 "cells": [
  {
   "cell_type": "code",
   "execution_count": 1,
   "id": "f159f837-637b-42ba-96b5-ec9a68c44524",
   "metadata": {
    "execution": {
     "iopub.execute_input": "2025-07-30T21:01:49.945558Z",
     "iopub.status.busy": "2025-07-30T21:01:49.944990Z",
     "iopub.status.idle": "2025-07-30T21:01:49.959551Z",
     "shell.execute_reply": "2025-07-30T21:01:49.958491Z"
    },
    "papermill": {
     "duration": 0.036103,
     "end_time": "2025-07-30T21:01:49.961196",
     "exception": false,
     "start_time": "2025-07-30T21:01:49.925093",
     "status": "completed"
    },
    "tags": []
   },
   "outputs": [
    {
     "name": "stdout",
     "output_type": "stream",
     "text": [
      "/dss/dsshome1/0C/ra93lal2/cma/CMA_Fairness_v2\n"
     ]
    },
    {
     "name": "stderr",
     "output_type": "stream",
     "text": [
      "/dss/dsshome1/0C/ra93lal2/.local/share/virtualenvs/CMA_Fairness_v2-3j10GkSs/lib/python3.10/site-packages/IPython/core/magics/osm.py:393: UserWarning: This is now an optional IPython functionality, using bookmarks requires you to install the `pickleshare` library.\n",
      "  bkms = self.shell.db.get('bookmarks', {})\n",
      "/dss/dsshome1/0C/ra93lal2/.local/share/virtualenvs/CMA_Fairness_v2-3j10GkSs/lib/python3.10/site-packages/IPython/core/magics/osm.py:417: UserWarning: This is now an optional IPython functionality, setting dhist requires you to install the `pickleshare` library.\n",
      "  self.shell.db['dhist'] = compress_dhist(dhist)[-100:]\n"
     ]
    }
   ],
   "source": [
    "%cd ~/cma/CMA_Fairness_v2"
   ]
  },
  {
   "cell_type": "markdown",
   "id": "de2603b9",
   "metadata": {
    "papermill": {
     "duration": 0.01778,
     "end_time": "2025-07-30T21:01:49.997794",
     "exception": false,
     "start_time": "2025-07-30T21:01:49.980014",
     "status": "completed"
    },
    "tags": []
   },
   "source": [
    "The following cell holds the definition of our parameters, these values can be overriden by rendering the with e.g. the following command:\n",
    "\n",
    "papermill -p alpha 0.2 -p ratio 0.3 universe_analysis.ipynb output/test_run.ipynb"
   ]
  },
  {
   "cell_type": "code",
   "execution_count": 2,
   "id": "a80968a0-40bb-4fa9-85ef-2d5eefb01975",
   "metadata": {
    "execution": {
     "iopub.execute_input": "2025-07-30T21:01:50.035264Z",
     "iopub.status.busy": "2025-07-30T21:01:50.034480Z",
     "iopub.status.idle": "2025-07-30T21:01:50.040656Z",
     "shell.execute_reply": "2025-07-30T21:01:50.039629Z"
    },
    "papermill": {
     "duration": 0.026531,
     "end_time": "2025-07-30T21:01:50.042167",
     "exception": false,
     "start_time": "2025-07-30T21:01:50.015636",
     "status": "completed"
    },
    "tags": []
   },
   "outputs": [
    {
     "name": "stdout",
     "output_type": "stream",
     "text": [
      "Current working directory: /dss/dsshome1/0C/ra93lal2/cma/CMA_Fairness_v2\n"
     ]
    }
   ],
   "source": [
    "import os\n",
    "print(\"Current working directory:\", os.getcwd())"
   ]
  },
  {
   "cell_type": "code",
   "execution_count": 3,
   "id": "2dce4c03",
   "metadata": {
    "execution": {
     "iopub.execute_input": "2025-07-30T21:01:50.080950Z",
     "iopub.status.busy": "2025-07-30T21:01:50.080188Z",
     "iopub.status.idle": "2025-07-30T21:01:50.086451Z",
     "shell.execute_reply": "2025-07-30T21:01:50.085546Z"
    },
    "papermill": {
     "duration": 0.027071,
     "end_time": "2025-07-30T21:01:50.088194",
     "exception": false,
     "start_time": "2025-07-30T21:01:50.061123",
     "status": "completed"
    },
    "tags": [
     "parameters"
    ]
   },
   "outputs": [],
   "source": [
    "run_no = 0\n",
    "universe_id = \"test\"\n",
    "universe = {\n",
    "    \"training_size\": \"25k\", # \"25k\", \"5k\", \"1k\"\n",
    "    \"training_year\": \"2014\", # \"2014\", \"2012_14\", \"2010_14\"\n",
    "    \"scale\": \"scale\", # \"scale\", \"do-not-scale\",\n",
    "    #\"stratify_split\": \"target\", # \"none\", \"target\", \"protected-attribute\", \"both\",\n",
    "    \"model\": \"elasticnet\", # \"logreg\", \"penalized_logreg\", \"rf\", \"gbm\", \"elasticnet\"\n",
    "    \"cutoff\": [\"quantile_0.15\", \"quantile_0.30\"],\n",
    "    \"exclude_features\": \"age\", # \"none\", \"nationality\", \"sex\", \"nationality-sex\", \"age\"\n",
    "    \"exclude_subgroups\": \"keep-all\", # \"keep-all\", \"drop-non-german\"\n",
    "    \"eval_fairness_grouping\": [\"majority-minority\", \"nationality-all\"]\n",
    "}\n",
    "\n",
    "output_dir=\"./output\"\n",
    "seed=0"
   ]
  },
  {
   "cell_type": "code",
   "execution_count": 4,
   "id": "a27a4db2",
   "metadata": {
    "execution": {
     "iopub.execute_input": "2025-07-30T21:01:50.129913Z",
     "iopub.status.busy": "2025-07-30T21:01:50.129120Z",
     "iopub.status.idle": "2025-07-30T21:01:50.134780Z",
     "shell.execute_reply": "2025-07-30T21:01:50.133807Z"
    },
    "papermill": {
     "duration": 0.027498,
     "end_time": "2025-07-30T21:01:50.136468",
     "exception": false,
     "start_time": "2025-07-30T21:01:50.108970",
     "status": "completed"
    },
    "tags": [
     "injected-parameters"
    ]
   },
   "outputs": [],
   "source": [
    "# Parameters\n",
    "universe_id = \"9d9e92e2058a6725ff20c27422127abf\"\n",
    "run_no = \"14\"\n",
    "universe = \"{\\\"cutoff\\\": [\\\"quantile_0.1\\\", \\\"quantile_0.25\\\"], \\\"eval_fairness_grouping\\\": [\\\"majority-minority\\\", \\\"nationality-all\\\"], \\\"exclude_features\\\": \\\"sex\\\", \\\"exclude_subgroups\\\": \\\"keep-all\\\", \\\"model\\\": \\\"elasticnet\\\", \\\"scale\\\": \\\"scale\\\", \\\"training_size\\\": \\\"5k\\\", \\\"training_year\\\": \\\"2012_14\\\"}\"\n",
    "output_dir = \"output\"\n",
    "seed = \"2023\"\n"
   ]
  },
  {
   "cell_type": "code",
   "execution_count": 5,
   "id": "1650acaf",
   "metadata": {
    "execution": {
     "iopub.execute_input": "2025-07-30T21:01:50.177929Z",
     "iopub.status.busy": "2025-07-30T21:01:50.177200Z",
     "iopub.status.idle": "2025-07-30T21:01:50.182426Z",
     "shell.execute_reply": "2025-07-30T21:01:50.181443Z"
    },
    "papermill": {
     "duration": 0.027536,
     "end_time": "2025-07-30T21:01:50.183922",
     "exception": false,
     "start_time": "2025-07-30T21:01:50.156386",
     "status": "completed"
    },
    "tags": []
   },
   "outputs": [],
   "source": [
    "import json\n",
    "# Parse universe into dict if it is passed as a string\n",
    "if isinstance(universe, str):\n",
    "    universe = json.loads(universe)"
   ]
  },
  {
   "cell_type": "code",
   "execution_count": 6,
   "id": "16620c48",
   "metadata": {
    "execution": {
     "iopub.execute_input": "2025-07-30T21:01:50.224255Z",
     "iopub.status.busy": "2025-07-30T21:01:50.223795Z",
     "iopub.status.idle": "2025-07-30T21:01:50.270300Z",
     "shell.execute_reply": "2025-07-30T21:01:50.269449Z"
    },
    "papermill": {
     "duration": 0.068503,
     "end_time": "2025-07-30T21:01:50.272086",
     "exception": false,
     "start_time": "2025-07-30T21:01:50.203583",
     "status": "completed"
    },
    "tags": []
   },
   "outputs": [],
   "source": [
    "# Auto-reload the custom package\n",
    "%load_ext autoreload\n",
    "%autoreload 1\n",
    "%aimport fairness_multiverse"
   ]
  },
  {
   "cell_type": "code",
   "execution_count": 7,
   "id": "01c5c9f3",
   "metadata": {
    "execution": {
     "iopub.execute_input": "2025-07-30T21:01:50.311964Z",
     "iopub.status.busy": "2025-07-30T21:01:50.311187Z",
     "iopub.status.idle": "2025-07-30T21:01:52.080102Z",
     "shell.execute_reply": "2025-07-30T21:01:52.078777Z"
    },
    "papermill": {
     "duration": 1.791441,
     "end_time": "2025-07-30T21:01:52.083097",
     "exception": false,
     "start_time": "2025-07-30T21:01:50.291656",
     "status": "completed"
    },
    "tags": []
   },
   "outputs": [],
   "source": [
    "from fairness_multiverse.universe import UniverseAnalysis\n",
    "\n",
    "universe_analysis = UniverseAnalysis(\n",
    "    run_no = run_no,\n",
    "    universe_id = universe_id,\n",
    "    universe = universe,\n",
    "    output_dir=output_dir,\n",
    ")"
   ]
  },
  {
   "cell_type": "code",
   "execution_count": 8,
   "id": "106241f5",
   "metadata": {
    "execution": {
     "iopub.execute_input": "2025-07-30T21:01:52.132348Z",
     "iopub.status.busy": "2025-07-30T21:01:52.131346Z",
     "iopub.status.idle": "2025-07-30T21:01:52.139917Z",
     "shell.execute_reply": "2025-07-30T21:01:52.138853Z"
    },
    "papermill": {
     "duration": 0.033292,
     "end_time": "2025-07-30T21:01:52.142386",
     "exception": false,
     "start_time": "2025-07-30T21:01:52.109094",
     "status": "completed"
    },
    "tags": []
   },
   "outputs": [
    {
     "name": "stdout",
     "output_type": "stream",
     "text": [
      "Using Seed: 2023\n"
     ]
    }
   ],
   "source": [
    "import numpy as np\n",
    "parsed_seed = int(seed)\n",
    "np.random.seed(parsed_seed)\n",
    "print(f\"Using Seed: {parsed_seed}\")"
   ]
  },
  {
   "cell_type": "markdown",
   "id": "e0ebdc57",
   "metadata": {
    "papermill": {
     "duration": 0.027023,
     "end_time": "2025-07-30T21:01:52.195047",
     "exception": false,
     "start_time": "2025-07-30T21:01:52.168024",
     "status": "completed"
    },
    "tags": []
   },
   "source": [
    "# Loading Data"
   ]
  },
  {
   "cell_type": "markdown",
   "id": "681925a3",
   "metadata": {
    "papermill": {
     "duration": 0.010399,
     "end_time": "2025-07-30T21:01:52.216798",
     "exception": false,
     "start_time": "2025-07-30T21:01:52.206399",
     "status": "completed"
    },
    "tags": []
   },
   "source": [
    "Load siab_train, siab_test, siab_calib and/or \n",
    "load siab_train_features, siab_train_labels"
   ]
  },
  {
   "cell_type": "code",
   "execution_count": 9,
   "id": "f0496b8a",
   "metadata": {
    "execution": {
     "iopub.execute_input": "2025-07-30T21:01:52.258304Z",
     "iopub.status.busy": "2025-07-30T21:01:52.257815Z",
     "iopub.status.idle": "2025-07-30T21:02:05.173118Z",
     "shell.execute_reply": "2025-07-30T21:02:05.171953Z"
    },
    "papermill": {
     "duration": 12.938256,
     "end_time": "2025-07-30T21:02:05.174704",
     "exception": false,
     "start_time": "2025-07-30T21:01:52.236448",
     "status": "completed"
    },
    "tags": []
   },
   "outputs": [
    {
     "name": "stdout",
     "output_type": "stream",
     "text": [
      "Loading SIAB data from cache: data/siab_cached.csv.gz\n"
     ]
    },
    {
     "name": "stdout",
     "output_type": "stream",
     "text": [
      "(643690, 164)\n"
     ]
    }
   ],
   "source": [
    "from pathlib import Path\n",
    "import pandas as pd\n",
    "\n",
    "# File paths\n",
    "raw_file = Path(\"data/raw/siab.csv\")\n",
    "cache_file = Path(\"data/siab_cached.csv.gz\")\n",
    "\n",
    "# Ensure cache directory exists\n",
    "cache_file.parent.mkdir(parents=True, exist_ok=True)\n",
    "\n",
    "# Load with simple caching\n",
    "if cache_file.exists():\n",
    "    print(f\"Loading SIAB data from cache: {cache_file}\")\n",
    "    siab = pd.read_csv(cache_file, compression='gzip')\n",
    "else:\n",
    "    print(f\"Cache not found. Reading raw SIAB data: {raw_file}\")\n",
    "    siab = pd.read_csv(raw_file)\n",
    "    siab.to_csv(cache_file, index=False, compression='gzip')\n",
    "    print(f\"Cached SIAB data to: {cache_file}\")\n",
    "\n",
    "# Now use `siab` DataFrame as needed\n",
    "print(siab.shape)"
   ]
  },
  {
   "cell_type": "code",
   "execution_count": 10,
   "id": "db0ca512-5f53-4dba-abdb-a2888bca41ba",
   "metadata": {
    "execution": {
     "iopub.execute_input": "2025-07-30T21:02:05.223546Z",
     "iopub.status.busy": "2025-07-30T21:02:05.223064Z",
     "iopub.status.idle": "2025-07-30T21:02:05.228571Z",
     "shell.execute_reply": "2025-07-30T21:02:05.227605Z"
    },
    "papermill": {
     "duration": 0.029697,
     "end_time": "2025-07-30T21:02:05.230430",
     "exception": false,
     "start_time": "2025-07-30T21:02:05.200733",
     "status": "completed"
    },
    "tags": []
   },
   "outputs": [],
   "source": [
    "#siab"
   ]
  },
  {
   "cell_type": "code",
   "execution_count": 11,
   "id": "a0edb063",
   "metadata": {
    "execution": {
     "iopub.execute_input": "2025-07-30T21:02:05.280578Z",
     "iopub.status.busy": "2025-07-30T21:02:05.280103Z",
     "iopub.status.idle": "2025-07-30T21:02:05.285626Z",
     "shell.execute_reply": "2025-07-30T21:02:05.284561Z"
    },
    "papermill": {
     "duration": 0.030852,
     "end_time": "2025-07-30T21:02:05.287768",
     "exception": false,
     "start_time": "2025-07-30T21:02:05.256916",
     "status": "completed"
    },
    "tags": []
   },
   "outputs": [],
   "source": [
    "#import pandas as pd\n",
    "#\n",
    "#X_train = pd.read_csv(\"./data/X_train.csv\")\n",
    "#y_train = pd.read_csv(\"./data/y_train.csv\")"
   ]
  },
  {
   "cell_type": "code",
   "execution_count": 12,
   "id": "63d08085",
   "metadata": {
    "execution": {
     "iopub.execute_input": "2025-07-30T21:02:05.343394Z",
     "iopub.status.busy": "2025-07-30T21:02:05.342913Z",
     "iopub.status.idle": "2025-07-30T21:02:05.348478Z",
     "shell.execute_reply": "2025-07-30T21:02:05.347356Z"
    },
    "papermill": {
     "duration": 0.035446,
     "end_time": "2025-07-30T21:02:05.350376",
     "exception": false,
     "start_time": "2025-07-30T21:02:05.314930",
     "status": "completed"
    },
    "tags": []
   },
   "outputs": [],
   "source": [
    "#X_test = pd.read_csv(\"./data/X_test.csv\")\n",
    "#y_true = pd.read_csv(\"./data/y_test.csv\")"
   ]
  },
  {
   "cell_type": "code",
   "execution_count": 13,
   "id": "98a8d0fa-1d3d-4ed8-bb2c-281470e24add",
   "metadata": {
    "execution": {
     "iopub.execute_input": "2025-07-30T21:02:05.393954Z",
     "iopub.status.busy": "2025-07-30T21:02:05.393417Z",
     "iopub.status.idle": "2025-07-30T21:02:05.398983Z",
     "shell.execute_reply": "2025-07-30T21:02:05.398034Z"
    },
    "papermill": {
     "duration": 0.028971,
     "end_time": "2025-07-30T21:02:05.400697",
     "exception": false,
     "start_time": "2025-07-30T21:02:05.371726",
     "status": "completed"
    },
    "tags": []
   },
   "outputs": [],
   "source": [
    "# Calibration data for conformal\n",
    "#X_calib = pd.read_csv(\"./data/X_calib.csv\")\n",
    "#y_calib = pd.read_csv(\"./data/y_calib.csv\")"
   ]
  },
  {
   "cell_type": "markdown",
   "id": "997051c5-15bd-4b69-9786-c3001a3ce484",
   "metadata": {
    "papermill": {
     "duration": 0.019784,
     "end_time": "2025-07-30T21:02:05.440687",
     "exception": false,
     "start_time": "2025-07-30T21:02:05.420903",
     "status": "completed"
    },
    "tags": []
   },
   "source": [
    "# Splitting Data and Setting Training Data Size"
   ]
  },
  {
   "cell_type": "code",
   "execution_count": 14,
   "id": "e993b61f-042d-41a6-8c81-f55681f86335",
   "metadata": {
    "execution": {
     "iopub.execute_input": "2025-07-30T21:02:05.481685Z",
     "iopub.status.busy": "2025-07-30T21:02:05.481000Z",
     "iopub.status.idle": "2025-07-30T21:02:05.496018Z",
     "shell.execute_reply": "2025-07-30T21:02:05.495043Z"
    },
    "papermill": {
     "duration": 0.037375,
     "end_time": "2025-07-30T21:02:05.497578",
     "exception": false,
     "start_time": "2025-07-30T21:02:05.460203",
     "status": "completed"
    },
    "tags": []
   },
   "outputs": [],
   "source": [
    "def sample_by_year_size(df,\n",
    "                        training_year: str,\n",
    "                        training_size: str,\n",
    "                        random_state: int = 42):\n",
    "    # --- parse training_year into a list of int years ---\n",
    "    if \"_\" in training_year:\n",
    "        start_str, end_str = training_year.split(\"_\", 1)\n",
    "        start = int(start_str)\n",
    "        end   = int(end_str) if len(end_str) == 4 else (int(end_str) + (start // 100)*100)\n",
    "        years = list(range(start, end + 1))\n",
    "    else:\n",
    "        years = [int(training_year)]\n",
    "\n",
    "    df = df[df[\"year\"].isin(years)].reset_index(drop=True)\n",
    "\n",
    "    # --- map training_size to total number of samples ---\n",
    "    total_map = {\"25k\": 25_000, \"5k\": 5_000, \"1k\": 1_000}\n",
    "    if training_size not in total_map:\n",
    "        return df  # e.g. \"all\"\n",
    "\n",
    "    total_samples = total_map[training_size]\n",
    "    n_years       = len(years)\n",
    "    base          = total_samples // n_years\n",
    "    remainder     = total_samples % n_years\n",
    "\n",
    "    # --- build a dict: year -> how many to sample ---\n",
    "    # give +1 to the first `remainder` years in ascending order\n",
    "    quotas = {\n",
    "        year: base + (1 if idx < remainder else 0)\n",
    "        for idx, year in enumerate(sorted(years))\n",
    "    }\n",
    "\n",
    "    # --- sample per‐year according to the quota dict ---\n",
    "    sampled = (\n",
    "        df\n",
    "        .groupby(\"year\", group_keys=False)\n",
    "        .apply(lambda grp: grp.sample(\n",
    "            n=min(len(grp), quotas[grp.name]),\n",
    "            random_state=random_state))\n",
    "        .reset_index(drop=True)\n",
    "    )\n",
    "\n",
    "    return sampled"
   ]
  },
  {
   "cell_type": "code",
   "execution_count": 15,
   "id": "c0ccd338-0e02-41f3-a09d-f56f9266e3fb",
   "metadata": {
    "execution": {
     "iopub.execute_input": "2025-07-30T21:02:05.541330Z",
     "iopub.status.busy": "2025-07-30T21:02:05.540592Z",
     "iopub.status.idle": "2025-07-30T21:02:05.546477Z",
     "shell.execute_reply": "2025-07-30T21:02:05.545371Z"
    },
    "papermill": {
     "duration": 0.02904,
     "end_time": "2025-07-30T21:02:05.548272",
     "exception": false,
     "start_time": "2025-07-30T21:02:05.519232",
     "status": "completed"
    },
    "tags": []
   },
   "outputs": [],
   "source": [
    "#universe[\"training_size\"]"
   ]
  },
  {
   "cell_type": "code",
   "execution_count": 16,
   "id": "ca707fd7-8047-4acd-bfa5-66248fbbf8e6",
   "metadata": {
    "execution": {
     "iopub.execute_input": "2025-07-30T21:02:05.591567Z",
     "iopub.status.busy": "2025-07-30T21:02:05.590615Z",
     "iopub.status.idle": "2025-07-30T21:02:05.596729Z",
     "shell.execute_reply": "2025-07-30T21:02:05.595633Z"
    },
    "papermill": {
     "duration": 0.028952,
     "end_time": "2025-07-30T21:02:05.598337",
     "exception": false,
     "start_time": "2025-07-30T21:02:05.569385",
     "status": "completed"
    },
    "tags": []
   },
   "outputs": [],
   "source": [
    "#universe[\"training_year\"]"
   ]
  },
  {
   "cell_type": "code",
   "execution_count": 17,
   "id": "aea9c6ef-6f46-42c8-85eb-5a62025c1508",
   "metadata": {
    "execution": {
     "iopub.execute_input": "2025-07-30T21:02:05.640728Z",
     "iopub.status.busy": "2025-07-30T21:02:05.639809Z",
     "iopub.status.idle": "2025-07-30T21:02:06.648752Z",
     "shell.execute_reply": "2025-07-30T21:02:06.647641Z"
    },
    "papermill": {
     "duration": 1.032504,
     "end_time": "2025-07-30T21:02:06.651204",
     "exception": false,
     "start_time": "2025-07-30T21:02:05.618700",
     "status": "completed"
    },
    "tags": []
   },
   "outputs": [],
   "source": [
    "siab_train = sample_by_year_size(siab,\n",
    "                               training_year=universe[\"training_year\"],\n",
    "                               training_size=universe[\"training_size\"])"
   ]
  },
  {
   "cell_type": "code",
   "execution_count": 18,
   "id": "8d3afb32-789d-442c-8d5d-9f5aa8dd2eed",
   "metadata": {
    "execution": {
     "iopub.execute_input": "2025-07-30T21:02:06.714818Z",
     "iopub.status.busy": "2025-07-30T21:02:06.713963Z",
     "iopub.status.idle": "2025-07-30T21:02:06.720644Z",
     "shell.execute_reply": "2025-07-30T21:02:06.719194Z"
    },
    "papermill": {
     "duration": 0.040849,
     "end_time": "2025-07-30T21:02:06.722415",
     "exception": false,
     "start_time": "2025-07-30T21:02:06.681566",
     "status": "completed"
    },
    "tags": []
   },
   "outputs": [],
   "source": [
    "#siab_train.shape"
   ]
  },
  {
   "cell_type": "code",
   "execution_count": 19,
   "id": "d582db68-1a4c-47fb-84fc-08518dc1975a",
   "metadata": {
    "execution": {
     "iopub.execute_input": "2025-07-30T21:02:06.765423Z",
     "iopub.status.busy": "2025-07-30T21:02:06.764916Z",
     "iopub.status.idle": "2025-07-30T21:02:06.771015Z",
     "shell.execute_reply": "2025-07-30T21:02:06.769555Z"
    },
    "papermill": {
     "duration": 0.02979,
     "end_time": "2025-07-30T21:02:06.772928",
     "exception": false,
     "start_time": "2025-07-30T21:02:06.743138",
     "status": "completed"
    },
    "tags": []
   },
   "outputs": [],
   "source": [
    "#display(siab_train.groupby(\"year\").size())"
   ]
  },
  {
   "cell_type": "code",
   "execution_count": 20,
   "id": "a561edb4-d032-42cb-8256-22eac1111c64",
   "metadata": {
    "execution": {
     "iopub.execute_input": "2025-07-30T21:02:06.816896Z",
     "iopub.status.busy": "2025-07-30T21:02:06.816145Z",
     "iopub.status.idle": "2025-07-30T21:02:07.247392Z",
     "shell.execute_reply": "2025-07-30T21:02:07.246436Z"
    },
    "papermill": {
     "duration": 0.455806,
     "end_time": "2025-07-30T21:02:07.249849",
     "exception": false,
     "start_time": "2025-07-30T21:02:06.794043",
     "status": "completed"
    },
    "tags": []
   },
   "outputs": [],
   "source": [
    "#siab_train = siab_s[siab_s.year < 2015]\n",
    "siab_calib = siab[siab.year == 2015]\n",
    "siab_test = siab[siab.year == 2016]"
   ]
  },
  {
   "cell_type": "code",
   "execution_count": 21,
   "id": "472de16f-c3db-4916-846b-1f0de9cf1746",
   "metadata": {
    "execution": {
     "iopub.execute_input": "2025-07-30T21:02:07.294268Z",
     "iopub.status.busy": "2025-07-30T21:02:07.293818Z",
     "iopub.status.idle": "2025-07-30T21:02:07.302407Z",
     "shell.execute_reply": "2025-07-30T21:02:07.301392Z"
    },
    "papermill": {
     "duration": 0.030965,
     "end_time": "2025-07-30T21:02:07.304305",
     "exception": false,
     "start_time": "2025-07-30T21:02:07.273340",
     "status": "completed"
    },
    "tags": []
   },
   "outputs": [],
   "source": [
    "X_train = siab_train.iloc[:,4:164]\n",
    "y_train = siab_train.iloc[:, [3]]"
   ]
  },
  {
   "cell_type": "code",
   "execution_count": 22,
   "id": "828c96af-f43a-4ed6-ba47-8ac73a47d56c",
   "metadata": {
    "execution": {
     "iopub.execute_input": "2025-07-30T21:02:07.349660Z",
     "iopub.status.busy": "2025-07-30T21:02:07.348874Z",
     "iopub.status.idle": "2025-07-30T21:02:07.401235Z",
     "shell.execute_reply": "2025-07-30T21:02:07.400145Z"
    },
    "papermill": {
     "duration": 0.077394,
     "end_time": "2025-07-30T21:02:07.403089",
     "exception": false,
     "start_time": "2025-07-30T21:02:07.325695",
     "status": "completed"
    },
    "tags": []
   },
   "outputs": [],
   "source": [
    "X_calib = siab_calib.iloc[:,4:164]\n",
    "y_calib = siab_calib.iloc[:, [3]]"
   ]
  },
  {
   "cell_type": "code",
   "execution_count": 23,
   "id": "c34be9c3-6bd6-476e-acd3-845840e303be",
   "metadata": {
    "execution": {
     "iopub.execute_input": "2025-07-30T21:02:07.447424Z",
     "iopub.status.busy": "2025-07-30T21:02:07.446683Z",
     "iopub.status.idle": "2025-07-30T21:02:07.499123Z",
     "shell.execute_reply": "2025-07-30T21:02:07.498127Z"
    },
    "papermill": {
     "duration": 0.076338,
     "end_time": "2025-07-30T21:02:07.502341",
     "exception": false,
     "start_time": "2025-07-30T21:02:07.426003",
     "status": "completed"
    },
    "tags": []
   },
   "outputs": [],
   "source": [
    "X_test = siab_test.iloc[:,4:164]\n",
    "y_true = siab_test.iloc[:, [3]]"
   ]
  },
  {
   "cell_type": "markdown",
   "id": "9901737e-04df-44f0-9100-f5ad144ed040",
   "metadata": {
    "papermill": {
     "duration": 0.02206,
     "end_time": "2025-07-30T21:02:07.546476",
     "exception": false,
     "start_time": "2025-07-30T21:02:07.524416",
     "status": "completed"
    },
    "tags": []
   },
   "source": [
    "# Splitting Data and Setting Training Data Size OLD VERSION"
   ]
  },
  {
   "cell_type": "code",
   "execution_count": 24,
   "id": "acbc8f7d-8fc8-4e86-8c59-5dcb0f58384b",
   "metadata": {
    "execution": {
     "iopub.execute_input": "2025-07-30T21:02:07.590133Z",
     "iopub.status.busy": "2025-07-30T21:02:07.589548Z",
     "iopub.status.idle": "2025-07-30T21:02:07.594542Z",
     "shell.execute_reply": "2025-07-30T21:02:07.593684Z"
    },
    "papermill": {
     "duration": 0.029768,
     "end_time": "2025-07-30T21:02:07.596327",
     "exception": false,
     "start_time": "2025-07-30T21:02:07.566559",
     "status": "completed"
    },
    "tags": []
   },
   "outputs": [],
   "source": [
    "#def sample_by_year(df, training_size, random_state=42):\n",
    "#    if training_size == \"2014\":\n",
    "#        return df[df[\"year\"] == 2014].reset_index(drop=True)\n",
    "#    \n",
    "#    size_map = {\n",
    "#        \"25k\": 5000,\n",
    "#        \"5k\": 1000,\n",
    "#        \"1k\": 200\n",
    "#    }\n",
    "#\n",
    "#    if training_size not in size_map:\n",
    "#        return df.reset_index(drop=True)  # use all data\n",
    "#\n",
    "#    n_per_year = size_map[training_size]\n",
    "#    grouped = df.groupby(\"year\")\n",
    "#    sampled = grouped.apply(lambda x: x.sample(n=min(n_per_year, len(x)), random_state=random_state))\n",
    "#    return sampled.reset_index(drop=True)"
   ]
  },
  {
   "cell_type": "code",
   "execution_count": 25,
   "id": "6d931f52-beaf-43ff-9e78-9d44a448d54e",
   "metadata": {
    "execution": {
     "iopub.execute_input": "2025-07-30T21:02:07.626543Z",
     "iopub.status.busy": "2025-07-30T21:02:07.625655Z",
     "iopub.status.idle": "2025-07-30T21:02:07.630888Z",
     "shell.execute_reply": "2025-07-30T21:02:07.629815Z"
    },
    "papermill": {
     "duration": 0.025142,
     "end_time": "2025-07-30T21:02:07.632865",
     "exception": false,
     "start_time": "2025-07-30T21:02:07.607723",
     "status": "completed"
    },
    "tags": []
   },
   "outputs": [],
   "source": [
    "#siab_s = sample_by_year(siab, universe[\"training_size\"])"
   ]
  },
  {
   "cell_type": "code",
   "execution_count": 26,
   "id": "5db0a40e-a4e2-4920-be85-b12ae061d70d",
   "metadata": {
    "execution": {
     "iopub.execute_input": "2025-07-30T21:02:07.694824Z",
     "iopub.status.busy": "2025-07-30T21:02:07.694224Z",
     "iopub.status.idle": "2025-07-30T21:02:07.700793Z",
     "shell.execute_reply": "2025-07-30T21:02:07.699540Z"
    },
    "papermill": {
     "duration": 0.041432,
     "end_time": "2025-07-30T21:02:07.703529",
     "exception": false,
     "start_time": "2025-07-30T21:02:07.662097",
     "status": "completed"
    },
    "tags": []
   },
   "outputs": [],
   "source": [
    "#display(siab_s.groupby(\"year\").size())"
   ]
  },
  {
   "cell_type": "code",
   "execution_count": 27,
   "id": "e6c733c5",
   "metadata": {
    "execution": {
     "iopub.execute_input": "2025-07-30T21:02:07.764876Z",
     "iopub.status.busy": "2025-07-30T21:02:07.764234Z",
     "iopub.status.idle": "2025-07-30T21:02:07.871240Z",
     "shell.execute_reply": "2025-07-30T21:02:07.870488Z"
    },
    "papermill": {
     "duration": 0.140082,
     "end_time": "2025-07-30T21:02:07.873469",
     "exception": false,
     "start_time": "2025-07-30T21:02:07.733387",
     "status": "completed"
    },
    "tags": []
   },
   "outputs": [],
   "source": [
    "# Auxiliary data needed downstream in the pipeline\n",
    "\n",
    "org_train = X_train.copy()\n",
    "org_test = X_test.copy()\n",
    "org_calib = X_calib.copy()"
   ]
  },
  {
   "cell_type": "code",
   "execution_count": 28,
   "id": "1466abac-c6da-4492-a62f-4240ae3783af",
   "metadata": {
    "execution": {
     "iopub.execute_input": "2025-07-30T21:02:07.960275Z",
     "iopub.status.busy": "2025-07-30T21:02:07.959631Z",
     "iopub.status.idle": "2025-07-30T21:02:07.967432Z",
     "shell.execute_reply": "2025-07-30T21:02:07.966016Z"
    },
    "papermill": {
     "duration": 0.044515,
     "end_time": "2025-07-30T21:02:07.969781",
     "exception": false,
     "start_time": "2025-07-30T21:02:07.925266",
     "status": "completed"
    },
    "tags": []
   },
   "outputs": [],
   "source": [
    "# put in other script?\n",
    "# Group sizes\n",
    "\n",
    "#def calculate_percentages(df, df_name):\n",
    "#    total_entries = len(df)\n",
    "#\n",
    "#    female_pct = (df['frau1'] == 1).mean() * 100\n",
    "#    non_german_pct = ((df['maxdeutsch1'] == 0) & (df['maxdeutsch.Missing.'] == 0)).mean() * 100\n",
    "#    non_german_male_pct = ((df['frau1'] == 0) & (df['maxdeutsch1'] == 0) & (df['maxdeutsch.Missing.'] == 0)).mean() * 100\n",
    "#    non_german_female_pct = ((df['frau1'] == 1) & (df['maxdeutsch1'] == 0) & (df['maxdeutsch.Missing.'] == 0)).mean() * 100\n",
    "#\n",
    "#    print(f\"--- {df_name} ---\")\n",
    "#    print(f\"Female: {female_pct:.2f}%\")\n",
    "#    print(f\"Non-German: {non_german_pct:.2f}%\")\n",
    "#    print(f\"Non-German Male: {non_german_male_pct:.2f}%\")\n",
    "#    print(f\"Non-German Female: {non_german_female_pct:.2f}%\\n\")\n",
    "#\n",
    "## Calculate for each DataFrame\n",
    "#calculate_percentages(siab_calib, \"siab_calib\")\n",
    "#calculate_percentages(siab_test, \"siab_test\")\n",
    "#calculate_percentages(siab_train, \"siab_train\")"
   ]
  },
  {
   "cell_type": "markdown",
   "id": "0a4a1b33",
   "metadata": {
    "papermill": {
     "duration": 0.029723,
     "end_time": "2025-07-30T21:02:08.026929",
     "exception": false,
     "start_time": "2025-07-30T21:02:07.997206",
     "status": "completed"
    },
    "tags": []
   },
   "source": [
    "# Preprocessing Data"
   ]
  },
  {
   "cell_type": "code",
   "execution_count": 29,
   "id": "ca879031",
   "metadata": {
    "execution": {
     "iopub.execute_input": "2025-07-30T21:02:08.089231Z",
     "iopub.status.busy": "2025-07-30T21:02:08.088349Z",
     "iopub.status.idle": "2025-07-30T21:02:08.096665Z",
     "shell.execute_reply": "2025-07-30T21:02:08.095261Z"
    },
    "papermill": {
     "duration": 0.042353,
     "end_time": "2025-07-30T21:02:08.099042",
     "exception": false,
     "start_time": "2025-07-30T21:02:08.056689",
     "status": "completed"
    },
    "tags": []
   },
   "outputs": [],
   "source": [
    "# EXCLUDE PROTECTED FEATURES\n",
    "# ----------------------\n",
    "# \"exclude_features\": \"none\", # \"nationality\", \"sex\", \"nationality-sex\"\n",
    "\n",
    "excluded_features = universe[\"exclude_features\"].split(\"-\") # split, e.g.: \"nationality-sex\" -> [\"nationality\", \"sex\"]\n",
    "excluded_features_dictionary = {\n",
    "    \"nationality\": [\"maxdeutsch1\", \"maxdeutsch.Missing.\"],\n",
    "    \"sex\": [\"frau1\"],\n",
    "    \"age\": [\"age\"],\n",
    "}\n"
   ]
  },
  {
   "cell_type": "code",
   "execution_count": 30,
   "id": "b745ac60",
   "metadata": {
    "execution": {
     "iopub.execute_input": "2025-07-30T21:02:08.160666Z",
     "iopub.status.busy": "2025-07-30T21:02:08.160191Z",
     "iopub.status.idle": "2025-07-30T21:02:08.166531Z",
     "shell.execute_reply": "2025-07-30T21:02:08.165256Z"
    },
    "papermill": {
     "duration": 0.038757,
     "end_time": "2025-07-30T21:02:08.168455",
     "exception": false,
     "start_time": "2025-07-30T21:02:08.129698",
     "status": "completed"
    },
    "tags": []
   },
   "outputs": [],
   "source": [
    "# Code nice names to column names\n",
    "\n",
    "excluded_features_columns = [\n",
    "    excluded_features_dictionary[f] for f in excluded_features if len(f) > 0 and f != \"none\"\n",
    "]"
   ]
  },
  {
   "cell_type": "code",
   "execution_count": 31,
   "id": "f84f73a2",
   "metadata": {
    "execution": {
     "iopub.execute_input": "2025-07-30T21:02:08.219230Z",
     "iopub.status.busy": "2025-07-30T21:02:08.218648Z",
     "iopub.status.idle": "2025-07-30T21:02:08.225313Z",
     "shell.execute_reply": "2025-07-30T21:02:08.224507Z"
    },
    "papermill": {
     "duration": 0.033463,
     "end_time": "2025-07-30T21:02:08.226760",
     "exception": false,
     "start_time": "2025-07-30T21:02:08.193297",
     "status": "completed"
    },
    "tags": []
   },
   "outputs": [],
   "source": [
    "from utils import flatten_once\n",
    "\n",
    "excluded_features_columns = flatten_once(excluded_features_columns)"
   ]
  },
  {
   "cell_type": "code",
   "execution_count": 32,
   "id": "884dea22",
   "metadata": {
    "execution": {
     "iopub.execute_input": "2025-07-30T21:02:08.252649Z",
     "iopub.status.busy": "2025-07-30T21:02:08.252128Z",
     "iopub.status.idle": "2025-07-30T21:02:08.260496Z",
     "shell.execute_reply": "2025-07-30T21:02:08.259639Z"
    },
    "papermill": {
     "duration": 0.022219,
     "end_time": "2025-07-30T21:02:08.262022",
     "exception": false,
     "start_time": "2025-07-30T21:02:08.239803",
     "status": "completed"
    },
    "tags": []
   },
   "outputs": [
    {
     "name": "stdout",
     "output_type": "stream",
     "text": [
      "Dropping features: ['frau1']\n"
     ]
    }
   ],
   "source": [
    "if len(excluded_features_columns) > 0:\n",
    "    print(f\"Dropping features: {excluded_features_columns}\")\n",
    "    X_train.drop(excluded_features_columns, axis=1, inplace=True)"
   ]
  },
  {
   "cell_type": "code",
   "execution_count": 33,
   "id": "95ab8b16",
   "metadata": {
    "execution": {
     "iopub.execute_input": "2025-07-30T21:02:08.312022Z",
     "iopub.status.busy": "2025-07-30T21:02:08.311516Z",
     "iopub.status.idle": "2025-07-30T21:02:08.367302Z",
     "shell.execute_reply": "2025-07-30T21:02:08.366558Z"
    },
    "papermill": {
     "duration": 0.08164,
     "end_time": "2025-07-30T21:02:08.368674",
     "exception": false,
     "start_time": "2025-07-30T21:02:08.287034",
     "status": "completed"
    },
    "tags": []
   },
   "outputs": [
    {
     "name": "stdout",
     "output_type": "stream",
     "text": [
      "Dropping features: ['frau1']\n"
     ]
    }
   ],
   "source": [
    "if len(excluded_features_columns) > 0:\n",
    "    print(f\"Dropping features: {excluded_features_columns}\")\n",
    "    X_test.drop(excluded_features_columns, axis=1, inplace=True)"
   ]
  },
  {
   "cell_type": "code",
   "execution_count": 34,
   "id": "1853aaf5-fb9f-46cb-a2b5-8ea4ae2237e4",
   "metadata": {
    "execution": {
     "iopub.execute_input": "2025-07-30T21:02:08.412057Z",
     "iopub.status.busy": "2025-07-30T21:02:08.411609Z",
     "iopub.status.idle": "2025-07-30T21:02:08.464654Z",
     "shell.execute_reply": "2025-07-30T21:02:08.463550Z"
    },
    "papermill": {
     "duration": 0.080067,
     "end_time": "2025-07-30T21:02:08.466719",
     "exception": false,
     "start_time": "2025-07-30T21:02:08.386652",
     "status": "completed"
    },
    "tags": []
   },
   "outputs": [
    {
     "name": "stdout",
     "output_type": "stream",
     "text": [
      "Dropping features: ['frau1']\n"
     ]
    }
   ],
   "source": [
    "if len(excluded_features_columns) > 0:\n",
    "    print(f\"Dropping features: {excluded_features_columns}\")\n",
    "    X_calib.drop(excluded_features_columns, axis=1, inplace=True)"
   ]
  },
  {
   "cell_type": "code",
   "execution_count": 35,
   "id": "6727d079-03e5-481e-9d38-292a90b7a0a8",
   "metadata": {
    "execution": {
     "iopub.execute_input": "2025-07-30T21:02:08.528160Z",
     "iopub.status.busy": "2025-07-30T21:02:08.527302Z",
     "iopub.status.idle": "2025-07-30T21:02:08.532761Z",
     "shell.execute_reply": "2025-07-30T21:02:08.531698Z"
    },
    "papermill": {
     "duration": 0.037798,
     "end_time": "2025-07-30T21:02:08.534723",
     "exception": false,
     "start_time": "2025-07-30T21:02:08.496925",
     "status": "completed"
    },
    "tags": []
   },
   "outputs": [],
   "source": [
    "# SPLIT & STRATIFY DATA\n",
    "# ----------------------"
   ]
  },
  {
   "cell_type": "code",
   "execution_count": 36,
   "id": "76c4dc6d",
   "metadata": {
    "execution": {
     "iopub.execute_input": "2025-07-30T21:02:08.596732Z",
     "iopub.status.busy": "2025-07-30T21:02:08.596224Z",
     "iopub.status.idle": "2025-07-30T21:02:08.602569Z",
     "shell.execute_reply": "2025-07-30T21:02:08.601514Z"
    },
    "papermill": {
     "duration": 0.039713,
     "end_time": "2025-07-30T21:02:08.604617",
     "exception": false,
     "start_time": "2025-07-30T21:02:08.564904",
     "status": "completed"
    },
    "tags": []
   },
   "outputs": [],
   "source": [
    "# EXCLUDE CERTAIN SUBGROUPS\n",
    "# ----------------------\n",
    "\n",
    "mode = universe.get(\"exclude_subgroups\", \"keep-all\") \n",
    "# Fetches the exclude_subgroups setting from the universe dict.\n",
    "# Defaults to \"keep-all\" if the key is missing."
   ]
  },
  {
   "cell_type": "code",
   "execution_count": 37,
   "id": "21994072",
   "metadata": {
    "execution": {
     "iopub.execute_input": "2025-07-30T21:02:08.677674Z",
     "iopub.status.busy": "2025-07-30T21:02:08.677102Z",
     "iopub.status.idle": "2025-07-30T21:02:08.684063Z",
     "shell.execute_reply": "2025-07-30T21:02:08.683182Z"
    },
    "papermill": {
     "duration": 0.050423,
     "end_time": "2025-07-30T21:02:08.685503",
     "exception": false,
     "start_time": "2025-07-30T21:02:08.635080",
     "status": "completed"
    },
    "tags": []
   },
   "outputs": [],
   "source": [
    "if mode == \"keep-all\":\n",
    "    keep_mask = pd.Series(True, index=org_train.index)\n",
    "\n",
    "# org_train contains the original feature columns from features_org (in Simson)\n",
    "# features_org contains unprocessed features, for me X_train at beginning ???\n",
    "# For keep-all, creates a boolean Series (keep_mask) of all True, so no rows are removed.\n",
    "\n",
    "elif mode == \"drop-non-german\":\n",
    "    keep_mask = org_train[\"maxdeutsch1\"] == 1 # ??? what about missing values?\n",
    "\n",
    "else:\n",
    "    raise ValueError(f\"Unsupported mode for exclude_subgroups: {mode}\")\n"
   ]
  },
  {
   "cell_type": "code",
   "execution_count": 38,
   "id": "71651440",
   "metadata": {
    "execution": {
     "iopub.execute_input": "2025-07-30T21:02:08.712148Z",
     "iopub.status.busy": "2025-07-30T21:02:08.711619Z",
     "iopub.status.idle": "2025-07-30T21:02:08.717245Z",
     "shell.execute_reply": "2025-07-30T21:02:08.716502Z"
    },
    "papermill": {
     "duration": 0.020124,
     "end_time": "2025-07-30T21:02:08.718702",
     "exception": false,
     "start_time": "2025-07-30T21:02:08.698578",
     "status": "completed"
    },
    "tags": []
   },
   "outputs": [],
   "source": [
    "n_drop = (~keep_mask).sum() # Calculates how many rows are set to be dropped\n",
    "if n_drop > 0:\n",
    "    pct = n_drop / len(keep_mask) * 100\n",
    "    print(f\"Dropping {n_drop} rows ({pct:.2f}%) where mode='{mode}'\")"
   ]
  },
  {
   "cell_type": "code",
   "execution_count": 39,
   "id": "5fb8eee5",
   "metadata": {
    "execution": {
     "iopub.execute_input": "2025-07-30T21:02:08.751927Z",
     "iopub.status.busy": "2025-07-30T21:02:08.751419Z",
     "iopub.status.idle": "2025-07-30T21:02:08.758452Z",
     "shell.execute_reply": "2025-07-30T21:02:08.757714Z"
    },
    "papermill": {
     "duration": 0.023395,
     "end_time": "2025-07-30T21:02:08.759995",
     "exception": false,
     "start_time": "2025-07-30T21:02:08.736600",
     "status": "completed"
    },
    "tags": []
   },
   "outputs": [],
   "source": [
    "X_train = X_train[keep_mask]"
   ]
  },
  {
   "cell_type": "code",
   "execution_count": 40,
   "id": "b202bb3a",
   "metadata": {
    "execution": {
     "iopub.execute_input": "2025-07-30T21:02:08.786870Z",
     "iopub.status.busy": "2025-07-30T21:02:08.786368Z",
     "iopub.status.idle": "2025-07-30T21:02:08.791726Z",
     "shell.execute_reply": "2025-07-30T21:02:08.790996Z"
    },
    "papermill": {
     "duration": 0.020265,
     "end_time": "2025-07-30T21:02:08.793118",
     "exception": false,
     "start_time": "2025-07-30T21:02:08.772853",
     "status": "completed"
    },
    "tags": []
   },
   "outputs": [],
   "source": [
    "y_train = y_train[keep_mask]"
   ]
  },
  {
   "cell_type": "markdown",
   "id": "493e2ac3",
   "metadata": {
    "papermill": {
     "duration": 0.012089,
     "end_time": "2025-07-30T21:02:08.819617",
     "exception": false,
     "start_time": "2025-07-30T21:02:08.807528",
     "status": "completed"
    },
    "tags": []
   },
   "source": [
    "# Model Training"
   ]
  },
  {
   "cell_type": "code",
   "execution_count": 41,
   "id": "679e1268",
   "metadata": {
    "execution": {
     "iopub.execute_input": "2025-07-30T21:02:08.845620Z",
     "iopub.status.busy": "2025-07-30T21:02:08.845264Z",
     "iopub.status.idle": "2025-07-30T21:02:08.954308Z",
     "shell.execute_reply": "2025-07-30T21:02:08.953350Z"
    },
    "papermill": {
     "duration": 0.12418,
     "end_time": "2025-07-30T21:02:08.956156",
     "exception": false,
     "start_time": "2025-07-30T21:02:08.831976",
     "status": "completed"
    },
    "tags": []
   },
   "outputs": [],
   "source": [
    "from sklearn.linear_model import LogisticRegression\n",
    "from sklearn.ensemble import GradientBoostingClassifier, RandomForestClassifier\n",
    "\n",
    "if (universe[\"model\"] == \"logreg\"):\n",
    "    model = LogisticRegression() #penalty=\"none\") #, solver=\"newton-cg\", max_iter=1) # include random_state=19 ?\n",
    "elif (universe[\"model\"] == \"penalized_logreg\"):\n",
    "    model = LogisticRegression(penalty=\"l2\", C=1.0) #, solver=\"newton-cg\", max_iter=1)\n",
    "elif (universe[\"model\"] == \"rf\"):\n",
    "    model = RandomForestClassifier(n_estimators=100, n_jobs=-1)\n",
    "elif (universe[\"model\"] == \"gbm\"):\n",
    "    model = GradientBoostingClassifier()\n",
    "elif (universe[\"model\"] == \"elasticnet\"):\n",
    "    model = LogisticRegression(penalty = 'elasticnet', solver = 'saga', l1_ratio = 0.5, max_iter=5000) # which solver to use?\n",
    "else:\n",
    "    raise \"Unsupported universe.model\""
   ]
  },
  {
   "cell_type": "code",
   "execution_count": 42,
   "id": "0cc8f744",
   "metadata": {
    "execution": {
     "iopub.execute_input": "2025-07-30T21:02:09.005520Z",
     "iopub.status.busy": "2025-07-30T21:02:09.005025Z",
     "iopub.status.idle": "2025-07-30T21:02:09.011245Z",
     "shell.execute_reply": "2025-07-30T21:02:09.010543Z"
    },
    "papermill": {
     "duration": 0.032704,
     "end_time": "2025-07-30T21:02:09.012756",
     "exception": false,
     "start_time": "2025-07-30T21:02:08.980052",
     "status": "completed"
    },
    "tags": []
   },
   "outputs": [],
   "source": [
    "import numpy as np\n",
    "from sklearn.pipeline import Pipeline\n",
    "from sklearn.preprocessing import StandardScaler\n",
    "\n",
    "model = Pipeline([\n",
    "    #(\"continuous_processor\", continuous_processor),\n",
    "    #(\"categorical_preprocessor\", categorical_preprocessor),\n",
    "    (\"scale\", StandardScaler() if universe[\"scale\"] == \"scale\" else None), \n",
    "    (\"model\", model),\n",
    "])"
   ]
  },
  {
   "cell_type": "code",
   "execution_count": 43,
   "id": "9442c04d",
   "metadata": {
    "execution": {
     "iopub.execute_input": "2025-07-30T21:02:09.039315Z",
     "iopub.status.busy": "2025-07-30T21:02:09.038822Z",
     "iopub.status.idle": "2025-07-30T21:02:21.196992Z",
     "shell.execute_reply": "2025-07-30T21:02:21.196014Z"
    },
    "papermill": {
     "duration": 12.172744,
     "end_time": "2025-07-30T21:02:21.198771",
     "exception": false,
     "start_time": "2025-07-30T21:02:09.026027",
     "status": "completed"
    },
    "tags": []
   },
   "outputs": [
    {
     "data": {
      "text/html": [
       "<style>#sk-container-id-1 {color: black;background-color: white;}#sk-container-id-1 pre{padding: 0;}#sk-container-id-1 div.sk-toggleable {background-color: white;}#sk-container-id-1 label.sk-toggleable__label {cursor: pointer;display: block;width: 100%;margin-bottom: 0;padding: 0.3em;box-sizing: border-box;text-align: center;}#sk-container-id-1 label.sk-toggleable__label-arrow:before {content: \"▸\";float: left;margin-right: 0.25em;color: #696969;}#sk-container-id-1 label.sk-toggleable__label-arrow:hover:before {color: black;}#sk-container-id-1 div.sk-estimator:hover label.sk-toggleable__label-arrow:before {color: black;}#sk-container-id-1 div.sk-toggleable__content {max-height: 0;max-width: 0;overflow: hidden;text-align: left;background-color: #f0f8ff;}#sk-container-id-1 div.sk-toggleable__content pre {margin: 0.2em;color: black;border-radius: 0.25em;background-color: #f0f8ff;}#sk-container-id-1 input.sk-toggleable__control:checked~div.sk-toggleable__content {max-height: 200px;max-width: 100%;overflow: auto;}#sk-container-id-1 input.sk-toggleable__control:checked~label.sk-toggleable__label-arrow:before {content: \"▾\";}#sk-container-id-1 div.sk-estimator input.sk-toggleable__control:checked~label.sk-toggleable__label {background-color: #d4ebff;}#sk-container-id-1 div.sk-label input.sk-toggleable__control:checked~label.sk-toggleable__label {background-color: #d4ebff;}#sk-container-id-1 input.sk-hidden--visually {border: 0;clip: rect(1px 1px 1px 1px);clip: rect(1px, 1px, 1px, 1px);height: 1px;margin: -1px;overflow: hidden;padding: 0;position: absolute;width: 1px;}#sk-container-id-1 div.sk-estimator {font-family: monospace;background-color: #f0f8ff;border: 1px dotted black;border-radius: 0.25em;box-sizing: border-box;margin-bottom: 0.5em;}#sk-container-id-1 div.sk-estimator:hover {background-color: #d4ebff;}#sk-container-id-1 div.sk-parallel-item::after {content: \"\";width: 100%;border-bottom: 1px solid gray;flex-grow: 1;}#sk-container-id-1 div.sk-label:hover label.sk-toggleable__label {background-color: #d4ebff;}#sk-container-id-1 div.sk-serial::before {content: \"\";position: absolute;border-left: 1px solid gray;box-sizing: border-box;top: 0;bottom: 0;left: 50%;z-index: 0;}#sk-container-id-1 div.sk-serial {display: flex;flex-direction: column;align-items: center;background-color: white;padding-right: 0.2em;padding-left: 0.2em;position: relative;}#sk-container-id-1 div.sk-item {position: relative;z-index: 1;}#sk-container-id-1 div.sk-parallel {display: flex;align-items: stretch;justify-content: center;background-color: white;position: relative;}#sk-container-id-1 div.sk-item::before, #sk-container-id-1 div.sk-parallel-item::before {content: \"\";position: absolute;border-left: 1px solid gray;box-sizing: border-box;top: 0;bottom: 0;left: 50%;z-index: -1;}#sk-container-id-1 div.sk-parallel-item {display: flex;flex-direction: column;z-index: 1;position: relative;background-color: white;}#sk-container-id-1 div.sk-parallel-item:first-child::after {align-self: flex-end;width: 50%;}#sk-container-id-1 div.sk-parallel-item:last-child::after {align-self: flex-start;width: 50%;}#sk-container-id-1 div.sk-parallel-item:only-child::after {width: 0;}#sk-container-id-1 div.sk-dashed-wrapped {border: 1px dashed gray;margin: 0 0.4em 0.5em 0.4em;box-sizing: border-box;padding-bottom: 0.4em;background-color: white;}#sk-container-id-1 div.sk-label label {font-family: monospace;font-weight: bold;display: inline-block;line-height: 1.2em;}#sk-container-id-1 div.sk-label-container {text-align: center;}#sk-container-id-1 div.sk-container {/* jupyter's `normalize.less` sets `[hidden] { display: none; }` but bootstrap.min.css set `[hidden] { display: none !important; }` so we also need the `!important` here to be able to override the default hidden behavior on the sphinx rendered scikit-learn.org. See: https://github.com/scikit-learn/scikit-learn/issues/21755 */display: inline-block !important;position: relative;}#sk-container-id-1 div.sk-text-repr-fallback {display: none;}</style><div id=\"sk-container-id-1\" class=\"sk-top-container\"><div class=\"sk-text-repr-fallback\"><pre>Pipeline(steps=[(&#x27;scale&#x27;, StandardScaler()),\n",
       "                (&#x27;model&#x27;,\n",
       "                 LogisticRegression(l1_ratio=0.5, max_iter=5000,\n",
       "                                    penalty=&#x27;elasticnet&#x27;, solver=&#x27;saga&#x27;))])</pre><b>In a Jupyter environment, please rerun this cell to show the HTML representation or trust the notebook. <br />On GitHub, the HTML representation is unable to render, please try loading this page with nbviewer.org.</b></div><div class=\"sk-container\" hidden><div class=\"sk-item sk-dashed-wrapped\"><div class=\"sk-label-container\"><div class=\"sk-label sk-toggleable\"><input class=\"sk-toggleable__control sk-hidden--visually\" id=\"sk-estimator-id-1\" type=\"checkbox\" ><label for=\"sk-estimator-id-1\" class=\"sk-toggleable__label sk-toggleable__label-arrow\">Pipeline</label><div class=\"sk-toggleable__content\"><pre>Pipeline(steps=[(&#x27;scale&#x27;, StandardScaler()),\n",
       "                (&#x27;model&#x27;,\n",
       "                 LogisticRegression(l1_ratio=0.5, max_iter=5000,\n",
       "                                    penalty=&#x27;elasticnet&#x27;, solver=&#x27;saga&#x27;))])</pre></div></div></div><div class=\"sk-serial\"><div class=\"sk-item\"><div class=\"sk-estimator sk-toggleable\"><input class=\"sk-toggleable__control sk-hidden--visually\" id=\"sk-estimator-id-2\" type=\"checkbox\" ><label for=\"sk-estimator-id-2\" class=\"sk-toggleable__label sk-toggleable__label-arrow\">StandardScaler</label><div class=\"sk-toggleable__content\"><pre>StandardScaler()</pre></div></div></div><div class=\"sk-item\"><div class=\"sk-estimator sk-toggleable\"><input class=\"sk-toggleable__control sk-hidden--visually\" id=\"sk-estimator-id-3\" type=\"checkbox\" ><label for=\"sk-estimator-id-3\" class=\"sk-toggleable__label sk-toggleable__label-arrow\">LogisticRegression</label><div class=\"sk-toggleable__content\"><pre>LogisticRegression(l1_ratio=0.5, max_iter=5000, penalty=&#x27;elasticnet&#x27;,\n",
       "                   solver=&#x27;saga&#x27;)</pre></div></div></div></div></div></div></div>"
      ],
      "text/plain": [
       "Pipeline(steps=[('scale', StandardScaler()),\n",
       "                ('model',\n",
       "                 LogisticRegression(l1_ratio=0.5, max_iter=5000,\n",
       "                                    penalty='elasticnet', solver='saga'))])"
      ]
     },
     "execution_count": 43,
     "metadata": {},
     "output_type": "execute_result"
    }
   ],
   "source": [
    "model.fit(X_train, y_train.values.ravel())"
   ]
  },
  {
   "cell_type": "code",
   "execution_count": 44,
   "id": "af59f8c0",
   "metadata": {
    "execution": {
     "iopub.execute_input": "2025-07-30T21:02:21.252058Z",
     "iopub.status.busy": "2025-07-30T21:02:21.251565Z",
     "iopub.status.idle": "2025-07-30T21:02:21.257214Z",
     "shell.execute_reply": "2025-07-30T21:02:21.256219Z"
    },
    "papermill": {
     "duration": 0.034502,
     "end_time": "2025-07-30T21:02:21.259404",
     "exception": false,
     "start_time": "2025-07-30T21:02:21.224902",
     "status": "completed"
    },
    "tags": []
   },
   "outputs": [],
   "source": [
    "from fairness_multiverse.universe import predict_w_threshold"
   ]
  },
  {
   "cell_type": "code",
   "execution_count": 45,
   "id": "a7cf2e16",
   "metadata": {
    "execution": {
     "iopub.execute_input": "2025-07-30T21:02:21.312503Z",
     "iopub.status.busy": "2025-07-30T21:02:21.311928Z",
     "iopub.status.idle": "2025-07-30T21:02:21.514017Z",
     "shell.execute_reply": "2025-07-30T21:02:21.513011Z"
    },
    "papermill": {
     "duration": 0.231385,
     "end_time": "2025-07-30T21:02:21.515595",
     "exception": false,
     "start_time": "2025-07-30T21:02:21.284210",
     "status": "completed"
    },
    "tags": []
   },
   "outputs": [
    {
     "data": {
      "text/plain": [
       "0.8574963772154721"
      ]
     },
     "execution_count": 45,
     "metadata": {},
     "output_type": "execute_result"
    }
   ],
   "source": [
    "probs_test = model.predict_proba(X_test)\n",
    "\n",
    "'''\n",
    "Below code returns a boolean array (or binary 0/1 array depending on how it’s used) where each element \n",
    "is True if the probability of class 1 is greater than or equal to the threshold, and False otherwise.\n",
    "'''\n",
    "y_pred_default = predict_w_threshold(probs_test, 0.5)\n",
    "\n",
    "from sklearn.metrics import accuracy_score\n",
    "\n",
    "# Naive prediction\n",
    "accuracy_score(y_true = y_true, y_pred = y_pred_default)"
   ]
  },
  {
   "cell_type": "code",
   "execution_count": 46,
   "id": "081964c3",
   "metadata": {
    "execution": {
     "iopub.execute_input": "2025-07-30T21:02:21.567854Z",
     "iopub.status.busy": "2025-07-30T21:02:21.567012Z",
     "iopub.status.idle": "2025-07-30T21:02:21.759247Z",
     "shell.execute_reply": "2025-07-30T21:02:21.758397Z"
    },
    "papermill": {
     "duration": 0.220237,
     "end_time": "2025-07-30T21:02:21.760951",
     "exception": false,
     "start_time": "2025-07-30T21:02:21.540714",
     "status": "completed"
    },
    "tags": []
   },
   "outputs": [
    {
     "data": {
      "text/plain": [
       "array([0, 0, 0, ..., 0, 0, 0])"
      ]
     },
     "execution_count": 46,
     "metadata": {},
     "output_type": "execute_result"
    }
   ],
   "source": [
    "model.predict(X_test)"
   ]
  },
  {
   "cell_type": "markdown",
   "id": "56c9705b",
   "metadata": {
    "papermill": {
     "duration": 0.022968,
     "end_time": "2025-07-30T21:02:21.807424",
     "exception": false,
     "start_time": "2025-07-30T21:02:21.784456",
     "status": "completed"
    },
    "tags": []
   },
   "source": [
    "# Conformal Prediction"
   ]
  },
  {
   "cell_type": "code",
   "execution_count": 47,
   "id": "160ec6ff",
   "metadata": {
    "execution": {
     "iopub.execute_input": "2025-07-30T21:02:21.856994Z",
     "iopub.status.busy": "2025-07-30T21:02:21.855915Z",
     "iopub.status.idle": "2025-07-30T21:02:21.861141Z",
     "shell.execute_reply": "2025-07-30T21:02:21.860243Z"
    },
    "papermill": {
     "duration": 0.044044,
     "end_time": "2025-07-30T21:02:21.874380",
     "exception": false,
     "start_time": "2025-07-30T21:02:21.830336",
     "status": "completed"
    },
    "tags": []
   },
   "outputs": [],
   "source": [
    "# Miscoverage level for conformal prediction (10% allowed error rate => 90% target coverage)\n",
    "alpha = 0.1"
   ]
  },
  {
   "cell_type": "code",
   "execution_count": 48,
   "id": "eadf4555-3dd3-440e-8e35-f82a4ad9f855",
   "metadata": {
    "execution": {
     "iopub.execute_input": "2025-07-30T21:02:21.941414Z",
     "iopub.status.busy": "2025-07-30T21:02:21.940937Z",
     "iopub.status.idle": "2025-07-30T21:02:22.125307Z",
     "shell.execute_reply": "2025-07-30T21:02:22.124355Z"
    },
    "papermill": {
     "duration": 0.212946,
     "end_time": "2025-07-30T21:02:22.127092",
     "exception": false,
     "start_time": "2025-07-30T21:02:21.914146",
     "status": "completed"
    },
    "tags": []
   },
   "outputs": [],
   "source": [
    "probs_calib = model.predict_proba(X_calib)"
   ]
  },
  {
   "cell_type": "code",
   "execution_count": 49,
   "id": "2ed93547-6d5d-4983-9b36-1ecb300da49a",
   "metadata": {
    "execution": {
     "iopub.execute_input": "2025-07-30T21:02:22.178456Z",
     "iopub.status.busy": "2025-07-30T21:02:22.177811Z",
     "iopub.status.idle": "2025-07-30T21:02:22.183537Z",
     "shell.execute_reply": "2025-07-30T21:02:22.182590Z"
    },
    "papermill": {
     "duration": 0.031971,
     "end_time": "2025-07-30T21:02:22.185306",
     "exception": false,
     "start_time": "2025-07-30T21:02:22.153335",
     "status": "completed"
    },
    "tags": []
   },
   "outputs": [],
   "source": [
    "y_calib = y_calib.values.ravel().astype(int)"
   ]
  },
  {
   "cell_type": "code",
   "execution_count": 50,
   "id": "65d1320d-f588-4b38-9072-62af1ae97f7d",
   "metadata": {
    "execution": {
     "iopub.execute_input": "2025-07-30T21:02:22.235212Z",
     "iopub.status.busy": "2025-07-30T21:02:22.234296Z",
     "iopub.status.idle": "2025-07-30T21:02:22.242128Z",
     "shell.execute_reply": "2025-07-30T21:02:22.241112Z"
    },
    "papermill": {
     "duration": 0.035223,
     "end_time": "2025-07-30T21:02:22.243813",
     "exception": false,
     "start_time": "2025-07-30T21:02:22.208590",
     "status": "completed"
    },
    "tags": []
   },
   "outputs": [],
   "source": [
    "from fairness_multiverse.conformal import compute_nc_scores\n",
    "\n",
    "# Compute nonconformity scores on calibration set (1 - probability of true class)\n",
    "nc_scores = compute_nc_scores(probs_calib, y_calib)"
   ]
  },
  {
   "cell_type": "code",
   "execution_count": 51,
   "id": "df3b8ca3-53b7-43d5-9667-7c85da7aeda2",
   "metadata": {
    "execution": {
     "iopub.execute_input": "2025-07-30T21:02:22.291606Z",
     "iopub.status.busy": "2025-07-30T21:02:22.290696Z",
     "iopub.status.idle": "2025-07-30T21:02:22.297610Z",
     "shell.execute_reply": "2025-07-30T21:02:22.296685Z"
    },
    "papermill": {
     "duration": 0.032207,
     "end_time": "2025-07-30T21:02:22.299463",
     "exception": false,
     "start_time": "2025-07-30T21:02:22.267256",
     "status": "completed"
    },
    "tags": []
   },
   "outputs": [],
   "source": [
    "from fairness_multiverse.conformal import find_threshold\n",
    "\n",
    "# Find conformal threshold q_hat for the given alpha (split conformal method)\n",
    "q_hat = find_threshold(nc_scores, alpha)"
   ]
  },
  {
   "cell_type": "code",
   "execution_count": 52,
   "id": "4d29e6c1-0ef6-4aa4-b8fe-4fe79b0d033a",
   "metadata": {
    "execution": {
     "iopub.execute_input": "2025-07-30T21:02:22.359090Z",
     "iopub.status.busy": "2025-07-30T21:02:22.358219Z",
     "iopub.status.idle": "2025-07-30T21:02:22.366331Z",
     "shell.execute_reply": "2025-07-30T21:02:22.365227Z"
    },
    "papermill": {
     "duration": 0.041754,
     "end_time": "2025-07-30T21:02:22.368442",
     "exception": false,
     "start_time": "2025-07-30T21:02:22.326688",
     "status": "completed"
    },
    "tags": []
   },
   "outputs": [
    {
     "data": {
      "text/plain": [
       "0.6857426196313923"
      ]
     },
     "execution_count": 52,
     "metadata": {},
     "output_type": "execute_result"
    }
   ],
   "source": [
    "q_hat"
   ]
  },
  {
   "cell_type": "code",
   "execution_count": 53,
   "id": "92460794-cdac-4be2-ba28-f28c0515a6fb",
   "metadata": {
    "execution": {
     "iopub.execute_input": "2025-07-30T21:02:22.431259Z",
     "iopub.status.busy": "2025-07-30T21:02:22.430794Z",
     "iopub.status.idle": "2025-07-30T21:02:23.687420Z",
     "shell.execute_reply": "2025-07-30T21:02:23.686232Z"
    },
    "papermill": {
     "duration": 1.290441,
     "end_time": "2025-07-30T21:02:23.689937",
     "exception": false,
     "start_time": "2025-07-30T21:02:22.399496",
     "status": "completed"
    },
    "tags": []
   },
   "outputs": [],
   "source": [
    "from fairness_multiverse.conformal import predict_conformal_sets\n",
    "\n",
    "# Generate prediction sets for each test example\n",
    "pred_sets = predict_conformal_sets(model, X_test, q_hat)"
   ]
  },
  {
   "cell_type": "code",
   "execution_count": 54,
   "id": "d90c9a65-e6db-4f5d-80cd-e68fb7e46829",
   "metadata": {
    "execution": {
     "iopub.execute_input": "2025-07-30T21:02:23.764167Z",
     "iopub.status.busy": "2025-07-30T21:02:23.763485Z",
     "iopub.status.idle": "2025-07-30T21:02:23.770791Z",
     "shell.execute_reply": "2025-07-30T21:02:23.769519Z"
    },
    "papermill": {
     "duration": 0.046626,
     "end_time": "2025-07-30T21:02:23.772756",
     "exception": false,
     "start_time": "2025-07-30T21:02:23.726130",
     "status": "completed"
    },
    "tags": []
   },
   "outputs": [],
   "source": [
    "y_true = y_true.squeeze()"
   ]
  },
  {
   "cell_type": "code",
   "execution_count": 55,
   "id": "3a58a54a-1e68-46b9-927a-df01f18aebc8",
   "metadata": {
    "execution": {
     "iopub.execute_input": "2025-07-30T21:02:23.826077Z",
     "iopub.status.busy": "2025-07-30T21:02:23.825144Z",
     "iopub.status.idle": "2025-07-30T21:02:24.799168Z",
     "shell.execute_reply": "2025-07-30T21:02:24.798381Z"
    },
    "papermill": {
     "duration": 1.002589,
     "end_time": "2025-07-30T21:02:24.801135",
     "exception": false,
     "start_time": "2025-07-30T21:02:23.798546",
     "status": "completed"
    },
    "tags": []
   },
   "outputs": [],
   "source": [
    "from fairness_multiverse.conformal import evaluate_sets\n",
    "\n",
    "# Evaluate coverage and average set size on test data\n",
    "metrics = evaluate_sets(pred_sets, y_true)"
   ]
  },
  {
   "cell_type": "markdown",
   "id": "2b569c12-9aaa-4c88-98c9-bbcd0cf3ebb8",
   "metadata": {
    "papermill": {
     "duration": 0.024497,
     "end_time": "2025-07-30T21:02:24.851260",
     "exception": false,
     "start_time": "2025-07-30T21:02:24.826763",
     "status": "completed"
    },
    "tags": []
   },
   "source": [
    "# CP Metrics"
   ]
  },
  {
   "cell_type": "code",
   "execution_count": 56,
   "id": "5ce0a5cb-201f-45a0-ade5-94c7f0bd6095",
   "metadata": {
    "execution": {
     "iopub.execute_input": "2025-07-30T21:02:24.905925Z",
     "iopub.status.busy": "2025-07-30T21:02:24.905207Z",
     "iopub.status.idle": "2025-07-30T21:02:24.913234Z",
     "shell.execute_reply": "2025-07-30T21:02:24.912191Z"
    },
    "papermill": {
     "duration": 0.037314,
     "end_time": "2025-07-30T21:02:24.915038",
     "exception": false,
     "start_time": "2025-07-30T21:02:24.877724",
     "status": "completed"
    },
    "tags": []
   },
   "outputs": [
    {
     "data": {
      "text/plain": [
       "{'coverage': 0.9109240887303534, 'avg_size': 1.1365288150707837}"
      ]
     },
     "execution_count": 56,
     "metadata": {},
     "output_type": "execute_result"
    }
   ],
   "source": [
    "metrics"
   ]
  },
  {
   "cell_type": "code",
   "execution_count": 57,
   "id": "9b9a838d-31c9-430b-ae14-12baee460d17",
   "metadata": {
    "execution": {
     "iopub.execute_input": "2025-07-30T21:02:24.969584Z",
     "iopub.status.busy": "2025-07-30T21:02:24.968873Z",
     "iopub.status.idle": "2025-07-30T21:02:24.975617Z",
     "shell.execute_reply": "2025-07-30T21:02:24.974502Z"
    },
    "papermill": {
     "duration": 0.03548,
     "end_time": "2025-07-30T21:02:24.977442",
     "exception": false,
     "start_time": "2025-07-30T21:02:24.941962",
     "status": "completed"
    },
    "tags": []
   },
   "outputs": [],
   "source": [
    "example_universe = universe.copy()\n",
    "universe_training_year = example_universe.get(\"training_year\")\n",
    "universe_training_size = example_universe.get(\"training_size\")\n",
    "universe_scale = example_universe.get(\"scale\")\n",
    "universe_model = example_universe.get(\"model\")\n",
    "universe_exclude_features = example_universe.get(\"exclude_features\")\n",
    "universe_exclude_subgroups = example_universe.get(\"exclude_subgroups\")"
   ]
  },
  {
   "cell_type": "code",
   "execution_count": 58,
   "id": "f4b6a8ac-9dc0-4245-8a91-5b3b5999c4f9",
   "metadata": {
    "execution": {
     "iopub.execute_input": "2025-07-30T21:02:25.035778Z",
     "iopub.status.busy": "2025-07-30T21:02:25.035302Z",
     "iopub.status.idle": "2025-07-30T21:02:25.042137Z",
     "shell.execute_reply": "2025-07-30T21:02:25.041225Z"
    },
    "papermill": {
     "duration": 0.03751,
     "end_time": "2025-07-30T21:02:25.043862",
     "exception": false,
     "start_time": "2025-07-30T21:02:25.006352",
     "status": "completed"
    },
    "tags": []
   },
   "outputs": [],
   "source": [
    "cp_metrics_dict = {\n",
    "    \"universe_id\": [universe_id],\n",
    "    \"universe_training_year\": [universe_training_year],\n",
    "    \"universe_training_size\": [universe_training_size],\n",
    "    \"universe_scale\": [universe_scale],\n",
    "    \"universe_model\": [universe_model],\n",
    "    \"universe_exclude_features\": [universe_exclude_features],\n",
    "    \"universe_exclude_subgroups\": [universe_exclude_subgroups],\n",
    "    \"q_hat\": [q_hat],\n",
    "    \"coverage\": [metrics[\"coverage\"]],\n",
    "    \"avg_size\": [metrics[\"avg_size\"]],\n",
    "}"
   ]
  },
  {
   "cell_type": "code",
   "execution_count": 59,
   "id": "908acbb1-0371-4915-85ca-3fa520d2efe2",
   "metadata": {
    "execution": {
     "iopub.execute_input": "2025-07-30T21:02:25.103741Z",
     "iopub.status.busy": "2025-07-30T21:02:25.103281Z",
     "iopub.status.idle": "2025-07-30T21:02:25.111040Z",
     "shell.execute_reply": "2025-07-30T21:02:25.109917Z"
    },
    "papermill": {
     "duration": 0.038796,
     "end_time": "2025-07-30T21:02:25.112840",
     "exception": false,
     "start_time": "2025-07-30T21:02:25.074044",
     "status": "completed"
    },
    "tags": []
   },
   "outputs": [
    {
     "data": {
      "text/plain": [
       "{'universe_id': ['9d9e92e2058a6725ff20c27422127abf'],\n",
       " 'universe_training_year': ['2012_14'],\n",
       " 'universe_training_size': ['5k'],\n",
       " 'universe_scale': ['scale'],\n",
       " 'universe_model': ['elasticnet'],\n",
       " 'universe_exclude_features': ['sex'],\n",
       " 'universe_exclude_subgroups': ['keep-all'],\n",
       " 'q_hat': [0.6857426196313923],\n",
       " 'coverage': [0.9109240887303534],\n",
       " 'avg_size': [1.1365288150707837]}"
      ]
     },
     "execution_count": 59,
     "metadata": {},
     "output_type": "execute_result"
    }
   ],
   "source": [
    "cp_metrics_dict"
   ]
  },
  {
   "cell_type": "code",
   "execution_count": 60,
   "id": "33007efc-14e9-4ec6-97ac-56a455c82265",
   "metadata": {
    "execution": {
     "iopub.execute_input": "2025-07-30T21:02:25.174638Z",
     "iopub.status.busy": "2025-07-30T21:02:25.173985Z",
     "iopub.status.idle": "2025-07-30T21:02:25.180491Z",
     "shell.execute_reply": "2025-07-30T21:02:25.179420Z"
    },
    "papermill": {
     "duration": 0.038814,
     "end_time": "2025-07-30T21:02:25.182128",
     "exception": false,
     "start_time": "2025-07-30T21:02:25.143314",
     "status": "completed"
    },
    "tags": []
   },
   "outputs": [],
   "source": [
    "cp_metrics_df = pd.DataFrame(cp_metrics_dict)"
   ]
  },
  {
   "cell_type": "code",
   "execution_count": 61,
   "id": "db12611b-57b2-4910-b9d0-355adfd6e7bf",
   "metadata": {
    "execution": {
     "iopub.execute_input": "2025-07-30T21:02:25.241700Z",
     "iopub.status.busy": "2025-07-30T21:02:25.241214Z",
     "iopub.status.idle": "2025-07-30T21:02:25.260458Z",
     "shell.execute_reply": "2025-07-30T21:02:25.259489Z"
    },
    "papermill": {
     "duration": 0.050357,
     "end_time": "2025-07-30T21:02:25.262110",
     "exception": false,
     "start_time": "2025-07-30T21:02:25.211753",
     "status": "completed"
    },
    "tags": []
   },
   "outputs": [
    {
     "data": {
      "text/html": [
       "<div>\n",
       "<style scoped>\n",
       "    .dataframe tbody tr th:only-of-type {\n",
       "        vertical-align: middle;\n",
       "    }\n",
       "\n",
       "    .dataframe tbody tr th {\n",
       "        vertical-align: top;\n",
       "    }\n",
       "\n",
       "    .dataframe thead th {\n",
       "        text-align: right;\n",
       "    }\n",
       "</style>\n",
       "<table border=\"1\" class=\"dataframe\">\n",
       "  <thead>\n",
       "    <tr style=\"text-align: right;\">\n",
       "      <th></th>\n",
       "      <th>universe_id</th>\n",
       "      <th>universe_training_year</th>\n",
       "      <th>universe_training_size</th>\n",
       "      <th>universe_scale</th>\n",
       "      <th>universe_model</th>\n",
       "      <th>universe_exclude_features</th>\n",
       "      <th>universe_exclude_subgroups</th>\n",
       "      <th>q_hat</th>\n",
       "      <th>coverage</th>\n",
       "      <th>avg_size</th>\n",
       "    </tr>\n",
       "  </thead>\n",
       "  <tbody>\n",
       "    <tr>\n",
       "      <th>0</th>\n",
       "      <td>9d9e92e2058a6725ff20c27422127abf</td>\n",
       "      <td>2012_14</td>\n",
       "      <td>5k</td>\n",
       "      <td>scale</td>\n",
       "      <td>elasticnet</td>\n",
       "      <td>sex</td>\n",
       "      <td>keep-all</td>\n",
       "      <td>0.685743</td>\n",
       "      <td>0.910924</td>\n",
       "      <td>1.136529</td>\n",
       "    </tr>\n",
       "  </tbody>\n",
       "</table>\n",
       "</div>"
      ],
      "text/plain": [
       "                        universe_id universe_training_year  \\\n",
       "0  9d9e92e2058a6725ff20c27422127abf                2012_14   \n",
       "\n",
       "  universe_training_size universe_scale universe_model  \\\n",
       "0                     5k          scale     elasticnet   \n",
       "\n",
       "  universe_exclude_features universe_exclude_subgroups     q_hat  coverage  \\\n",
       "0                       sex                   keep-all  0.685743  0.910924   \n",
       "\n",
       "   avg_size  \n",
       "0  1.136529  "
      ]
     },
     "execution_count": 61,
     "metadata": {},
     "output_type": "execute_result"
    }
   ],
   "source": [
    "cp_metrics_df"
   ]
  },
  {
   "cell_type": "code",
   "execution_count": 62,
   "id": "b7fbde55-a0a1-47e4-9af6-fe4a17fa8c61",
   "metadata": {
    "execution": {
     "iopub.execute_input": "2025-07-30T21:02:25.320450Z",
     "iopub.status.busy": "2025-07-30T21:02:25.319551Z",
     "iopub.status.idle": "2025-07-30T21:02:25.329676Z",
     "shell.execute_reply": "2025-07-30T21:02:25.328671Z"
    },
    "papermill": {
     "duration": 0.040217,
     "end_time": "2025-07-30T21:02:25.331308",
     "exception": false,
     "start_time": "2025-07-30T21:02:25.291091",
     "status": "completed"
    },
    "tags": []
   },
   "outputs": [],
   "source": [
    "# Conditional Coverage & looking at subgroups"
   ]
  },
  {
   "cell_type": "code",
   "execution_count": 63,
   "id": "027ae886-68dd-4141-96c7-805a5450e1ef",
   "metadata": {
    "execution": {
     "iopub.execute_input": "2025-07-30T21:02:25.382665Z",
     "iopub.status.busy": "2025-07-30T21:02:25.381703Z",
     "iopub.status.idle": "2025-07-30T21:02:25.662780Z",
     "shell.execute_reply": "2025-07-30T21:02:25.661783Z"
    },
    "papermill": {
     "duration": 0.307921,
     "end_time": "2025-07-30T21:02:25.664777",
     "exception": false,
     "start_time": "2025-07-30T21:02:25.356856",
     "status": "completed"
    },
    "tags": []
   },
   "outputs": [],
   "source": [
    "from fairness_multiverse.conformal import build_cp_groups\n",
    "\n",
    "cp_groups_df = build_cp_groups(pred_sets, y_true, X_test.index, org_test)\n",
    "#needs universe_id and setting"
   ]
  },
  {
   "cell_type": "code",
   "execution_count": 64,
   "id": "01d5802c-663a-4d1f-9d69-e036faaffbf7",
   "metadata": {
    "execution": {
     "iopub.execute_input": "2025-07-30T21:02:25.721177Z",
     "iopub.status.busy": "2025-07-30T21:02:25.720668Z",
     "iopub.status.idle": "2025-07-30T21:02:25.725904Z",
     "shell.execute_reply": "2025-07-30T21:02:25.724940Z"
    },
    "papermill": {
     "duration": 0.036949,
     "end_time": "2025-07-30T21:02:25.727575",
     "exception": false,
     "start_time": "2025-07-30T21:02:25.690626",
     "status": "completed"
    },
    "tags": []
   },
   "outputs": [],
   "source": [
    "#delete\n",
    "#cp_groups_df"
   ]
  },
  {
   "cell_type": "code",
   "execution_count": 65,
   "id": "fa424af1-d1eb-443d-b717-2d279ada8408",
   "metadata": {
    "execution": {
     "iopub.execute_input": "2025-07-30T21:02:25.785926Z",
     "iopub.status.busy": "2025-07-30T21:02:25.785479Z",
     "iopub.status.idle": "2025-07-30T21:02:25.790458Z",
     "shell.execute_reply": "2025-07-30T21:02:25.789420Z"
    },
    "papermill": {
     "duration": 0.036863,
     "end_time": "2025-07-30T21:02:25.792173",
     "exception": false,
     "start_time": "2025-07-30T21:02:25.755310",
     "status": "completed"
    },
    "tags": []
   },
   "outputs": [],
   "source": [
    "#delete\n",
    "#percentage = (cp_groups_df['nongerman_female'] == 1).mean() * 100\n",
    "#print(percentage)\n"
   ]
  },
  {
   "cell_type": "code",
   "execution_count": 66,
   "id": "6cbdab96-b2b2-45af-ad54-d0516db2e28d",
   "metadata": {
    "execution": {
     "iopub.execute_input": "2025-07-30T21:02:25.844436Z",
     "iopub.status.busy": "2025-07-30T21:02:25.843944Z",
     "iopub.status.idle": "2025-07-30T21:02:27.404134Z",
     "shell.execute_reply": "2025-07-30T21:02:27.402891Z"
    },
    "papermill": {
     "duration": 1.586656,
     "end_time": "2025-07-30T21:02:27.406076",
     "exception": false,
     "start_time": "2025-07-30T21:02:25.819420",
     "status": "completed"
    },
    "tags": []
   },
   "outputs": [],
   "source": [
    "# Define covered = 1 if true_label is in the predicted set\n",
    "cp_groups_df['covered'] = cp_groups_df.apply(\n",
    "    lambda r: int(r['true_label'] in r['pred_set']),\n",
    "    axis=1\n",
    ")"
   ]
  },
  {
   "cell_type": "code",
   "execution_count": 67,
   "id": "338ff529-1a6b-4b87-a931-8e4788d52aad",
   "metadata": {
    "execution": {
     "iopub.execute_input": "2025-07-30T21:02:27.471971Z",
     "iopub.status.busy": "2025-07-30T21:02:27.471217Z",
     "iopub.status.idle": "2025-07-30T21:02:27.477867Z",
     "shell.execute_reply": "2025-07-30T21:02:27.476769Z"
    },
    "papermill": {
     "duration": 0.047144,
     "end_time": "2025-07-30T21:02:27.480496",
     "exception": false,
     "start_time": "2025-07-30T21:02:27.433352",
     "status": "completed"
    },
    "tags": []
   },
   "outputs": [],
   "source": [
    "#cp_groups_df"
   ]
  },
  {
   "cell_type": "code",
   "execution_count": 68,
   "id": "90032e27-66df-4540-9169-4e89cfbaa758",
   "metadata": {
    "execution": {
     "iopub.execute_input": "2025-07-30T21:02:27.549516Z",
     "iopub.status.busy": "2025-07-30T21:02:27.549010Z",
     "iopub.status.idle": "2025-07-30T21:02:27.560960Z",
     "shell.execute_reply": "2025-07-30T21:02:27.559828Z"
    },
    "papermill": {
     "duration": 0.04865,
     "end_time": "2025-07-30T21:02:27.563003",
     "exception": false,
     "start_time": "2025-07-30T21:02:27.514353",
     "status": "completed"
    },
    "tags": []
   },
   "outputs": [],
   "source": [
    "subgroups = ['frau1','nongerman','nongerman_male','nongerman_female']\n",
    "\n",
    "# Conditional coverage for subgroup==1\n",
    "cond_coverage = {\n",
    "    g: cp_groups_df.loc[cp_groups_df[g]==1, 'covered'].mean()\n",
    "    for g in subgroups\n",
    "}"
   ]
  },
  {
   "cell_type": "code",
   "execution_count": 69,
   "id": "1e348fb1-b9c3-45bc-ba23-f016827a7e0d",
   "metadata": {
    "execution": {
     "iopub.execute_input": "2025-07-30T21:02:27.630840Z",
     "iopub.status.busy": "2025-07-30T21:02:27.630012Z",
     "iopub.status.idle": "2025-07-30T21:02:27.638003Z",
     "shell.execute_reply": "2025-07-30T21:02:27.637038Z"
    },
    "papermill": {
     "duration": 0.043319,
     "end_time": "2025-07-30T21:02:27.639911",
     "exception": false,
     "start_time": "2025-07-30T21:02:27.596592",
     "status": "completed"
    },
    "tags": []
   },
   "outputs": [
    {
     "data": {
      "text/plain": [
       "{'frau1': 0.9077503706699016,\n",
       " 'nongerman': 0.9120305394936282,\n",
       " 'nongerman_male': 0.9282175988471584,\n",
       " 'nongerman_female': 0.8852459016393442}"
      ]
     },
     "execution_count": 69,
     "metadata": {},
     "output_type": "execute_result"
    }
   ],
   "source": [
    "cond_coverage"
   ]
  },
  {
   "cell_type": "code",
   "execution_count": 70,
   "id": "f5093324-c3dd-4d63-bc4c-8d945e5c8bbb",
   "metadata": {
    "execution": {
     "iopub.execute_input": "2025-07-30T21:02:27.708710Z",
     "iopub.status.busy": "2025-07-30T21:02:27.707937Z",
     "iopub.status.idle": "2025-07-30T21:02:27.716499Z",
     "shell.execute_reply": "2025-07-30T21:02:27.715435Z"
    },
    "papermill": {
     "duration": 0.045061,
     "end_time": "2025-07-30T21:02:27.718373",
     "exception": false,
     "start_time": "2025-07-30T21:02:27.673312",
     "status": "completed"
    },
    "tags": []
   },
   "outputs": [],
   "source": [
    "for subgroup, cov in cond_coverage.items():\n",
    "    cp_metrics_df[f\"cov_{subgroup}\"] = cov"
   ]
  },
  {
   "cell_type": "code",
   "execution_count": 71,
   "id": "6e872e10-dbe5-49e8-b554-5030c98ff75d",
   "metadata": {
    "execution": {
     "iopub.execute_input": "2025-07-30T21:02:27.797014Z",
     "iopub.status.busy": "2025-07-30T21:02:27.796243Z",
     "iopub.status.idle": "2025-07-30T21:02:27.817457Z",
     "shell.execute_reply": "2025-07-30T21:02:27.816542Z"
    },
    "papermill": {
     "duration": 0.062813,
     "end_time": "2025-07-30T21:02:27.819601",
     "exception": false,
     "start_time": "2025-07-30T21:02:27.756788",
     "status": "completed"
    },
    "tags": []
   },
   "outputs": [
    {
     "data": {
      "text/html": [
       "<div>\n",
       "<style scoped>\n",
       "    .dataframe tbody tr th:only-of-type {\n",
       "        vertical-align: middle;\n",
       "    }\n",
       "\n",
       "    .dataframe tbody tr th {\n",
       "        vertical-align: top;\n",
       "    }\n",
       "\n",
       "    .dataframe thead th {\n",
       "        text-align: right;\n",
       "    }\n",
       "</style>\n",
       "<table border=\"1\" class=\"dataframe\">\n",
       "  <thead>\n",
       "    <tr style=\"text-align: right;\">\n",
       "      <th></th>\n",
       "      <th>universe_id</th>\n",
       "      <th>universe_training_year</th>\n",
       "      <th>universe_training_size</th>\n",
       "      <th>universe_scale</th>\n",
       "      <th>universe_model</th>\n",
       "      <th>universe_exclude_features</th>\n",
       "      <th>universe_exclude_subgroups</th>\n",
       "      <th>q_hat</th>\n",
       "      <th>coverage</th>\n",
       "      <th>avg_size</th>\n",
       "      <th>cov_frau1</th>\n",
       "      <th>cov_nongerman</th>\n",
       "      <th>cov_nongerman_male</th>\n",
       "      <th>cov_nongerman_female</th>\n",
       "    </tr>\n",
       "  </thead>\n",
       "  <tbody>\n",
       "    <tr>\n",
       "      <th>0</th>\n",
       "      <td>9d9e92e2058a6725ff20c27422127abf</td>\n",
       "      <td>2012_14</td>\n",
       "      <td>5k</td>\n",
       "      <td>scale</td>\n",
       "      <td>elasticnet</td>\n",
       "      <td>sex</td>\n",
       "      <td>keep-all</td>\n",
       "      <td>0.685743</td>\n",
       "      <td>0.910924</td>\n",
       "      <td>1.136529</td>\n",
       "      <td>0.90775</td>\n",
       "      <td>0.912031</td>\n",
       "      <td>0.928218</td>\n",
       "      <td>0.885246</td>\n",
       "    </tr>\n",
       "  </tbody>\n",
       "</table>\n",
       "</div>"
      ],
      "text/plain": [
       "                        universe_id universe_training_year  \\\n",
       "0  9d9e92e2058a6725ff20c27422127abf                2012_14   \n",
       "\n",
       "  universe_training_size universe_scale universe_model  \\\n",
       "0                     5k          scale     elasticnet   \n",
       "\n",
       "  universe_exclude_features universe_exclude_subgroups     q_hat  coverage  \\\n",
       "0                       sex                   keep-all  0.685743  0.910924   \n",
       "\n",
       "   avg_size  cov_frau1  cov_nongerman  cov_nongerman_male  \\\n",
       "0  1.136529    0.90775       0.912031            0.928218   \n",
       "\n",
       "   cov_nongerman_female  \n",
       "0              0.885246  "
      ]
     },
     "execution_count": 71,
     "metadata": {},
     "output_type": "execute_result"
    }
   ],
   "source": [
    "cp_metrics_df"
   ]
  },
  {
   "cell_type": "markdown",
   "id": "33774451",
   "metadata": {
    "papermill": {
     "duration": 0.039419,
     "end_time": "2025-07-30T21:02:27.898673",
     "exception": false,
     "start_time": "2025-07-30T21:02:27.859254",
     "status": "completed"
    },
    "tags": []
   },
   "source": [
    "# (Fairness) Metrics"
   ]
  },
  {
   "cell_type": "code",
   "execution_count": 72,
   "id": "debc5d62",
   "metadata": {
    "execution": {
     "iopub.execute_input": "2025-07-30T21:02:27.978260Z",
     "iopub.status.busy": "2025-07-30T21:02:27.977538Z",
     "iopub.status.idle": "2025-07-30T21:02:28.000616Z",
     "shell.execute_reply": "2025-07-30T21:02:27.999515Z"
    },
    "papermill": {
     "duration": 0.065874,
     "end_time": "2025-07-30T21:02:28.003336",
     "exception": false,
     "start_time": "2025-07-30T21:02:27.937462",
     "status": "completed"
    },
    "tags": []
   },
   "outputs": [],
   "source": [
    "# do I need to include maxdeutsch1.missing?\n",
    "\n",
    "import numpy as np\n",
    "\n",
    "colname_to_bin = \"maxdeutsch1\"\n",
    "majority_value = org_train[colname_to_bin].mode()[0]\n",
    "\n",
    "org_test[\"majmin\"] = np.where(org_test[colname_to_bin] == majority_value, \"majority\", \"minority\")"
   ]
  },
  {
   "cell_type": "code",
   "execution_count": 73,
   "id": "06a50de5",
   "metadata": {
    "execution": {
     "iopub.execute_input": "2025-07-30T21:02:28.088155Z",
     "iopub.status.busy": "2025-07-30T21:02:28.087466Z",
     "iopub.status.idle": "2025-07-30T21:02:30.700213Z",
     "shell.execute_reply": "2025-07-30T21:02:30.699230Z"
    },
    "papermill": {
     "duration": 2.65786,
     "end_time": "2025-07-30T21:02:30.701823",
     "exception": false,
     "start_time": "2025-07-30T21:02:28.043963",
     "status": "completed"
    },
    "tags": []
   },
   "outputs": [],
   "source": [
    "example_universe = universe.copy()\n",
    "example_universe[\"cutoff\"] = example_universe[\"cutoff\"][0]\n",
    "example_universe[\"eval_fairness_grouping\"] = example_universe[\"eval_fairness_grouping\"][0]\n",
    "fairness_dict, metric_frame = universe_analysis.compute_metrics(\n",
    "    example_universe,\n",
    "    y_pred_prob=probs_test,\n",
    "    y_test=y_true,\n",
    "    org_test=org_test,\n",
    ")"
   ]
  },
  {
   "cell_type": "markdown",
   "id": "f95d4e02",
   "metadata": {
    "papermill": {
     "duration": 0.026769,
     "end_time": "2025-07-30T21:02:30.752361",
     "exception": false,
     "start_time": "2025-07-30T21:02:30.725592",
     "status": "completed"
    },
    "tags": []
   },
   "source": [
    "# Overall"
   ]
  },
  {
   "cell_type": "markdown",
   "id": "bdee4871",
   "metadata": {
    "papermill": {
     "duration": 0.027832,
     "end_time": "2025-07-30T21:02:30.808605",
     "exception": false,
     "start_time": "2025-07-30T21:02:30.780773",
     "status": "completed"
    },
    "tags": []
   },
   "source": [
    "Fairness\n",
    "Main fairness target: Equalized Odds. Seems to be a better fit than equal opportunity, since we're not only interested in Y = 1. Seems to be a better fit than demographic parity, since we also care about accuracy, not just equal distribution of preds.\n",
    "\n",
    "Pick column for computation of fairness metrics\n",
    "\n",
    "Performance\n",
    "Overall performance measures, most interesting in relation to the measures split by group below"
   ]
  },
  {
   "cell_type": "code",
   "execution_count": 74,
   "id": "c4e067c6",
   "metadata": {
    "execution": {
     "iopub.execute_input": "2025-07-30T21:02:30.871983Z",
     "iopub.status.busy": "2025-07-30T21:02:30.871047Z",
     "iopub.status.idle": "2025-07-30T21:02:30.879536Z",
     "shell.execute_reply": "2025-07-30T21:02:30.878555Z"
    },
    "papermill": {
     "duration": 0.042974,
     "end_time": "2025-07-30T21:02:30.881132",
     "exception": false,
     "start_time": "2025-07-30T21:02:30.838158",
     "status": "completed"
    },
    "tags": []
   },
   "outputs": [
    {
     "data": {
      "text/plain": [
       "accuracy                   0.224022\n",
       "balanced accuracy          0.547838\n",
       "f1                         0.245363\n",
       "precision                  0.140168\n",
       "false positive rate        0.887727\n",
       "false negative rate        0.016597\n",
       "selection rate             0.900000\n",
       "count                  89710.000000\n",
       "dtype: float64"
      ]
     },
     "execution_count": 74,
     "metadata": {},
     "output_type": "execute_result"
    }
   ],
   "source": [
    "metric_frame.overall"
   ]
  },
  {
   "cell_type": "markdown",
   "id": "e968fe9d",
   "metadata": {
    "papermill": {
     "duration": 0.029188,
     "end_time": "2025-07-30T21:02:30.942993",
     "exception": false,
     "start_time": "2025-07-30T21:02:30.913805",
     "status": "completed"
    },
    "tags": []
   },
   "source": [
    "By Group"
   ]
  },
  {
   "cell_type": "code",
   "execution_count": 75,
   "id": "ec325bce",
   "metadata": {
    "execution": {
     "iopub.execute_input": "2025-07-30T21:02:31.003677Z",
     "iopub.status.busy": "2025-07-30T21:02:31.003202Z",
     "iopub.status.idle": "2025-07-30T21:02:31.021951Z",
     "shell.execute_reply": "2025-07-30T21:02:31.020915Z"
    },
    "papermill": {
     "duration": 0.051207,
     "end_time": "2025-07-30T21:02:31.023967",
     "exception": false,
     "start_time": "2025-07-30T21:02:30.972760",
     "status": "completed"
    },
    "tags": []
   },
   "outputs": [
    {
     "data": {
      "text/html": [
       "<div>\n",
       "<style scoped>\n",
       "    .dataframe tbody tr th:only-of-type {\n",
       "        vertical-align: middle;\n",
       "    }\n",
       "\n",
       "    .dataframe tbody tr th {\n",
       "        vertical-align: top;\n",
       "    }\n",
       "\n",
       "    .dataframe thead th {\n",
       "        text-align: right;\n",
       "    }\n",
       "</style>\n",
       "<table border=\"1\" class=\"dataframe\">\n",
       "  <thead>\n",
       "    <tr style=\"text-align: right;\">\n",
       "      <th></th>\n",
       "      <th>accuracy</th>\n",
       "      <th>balanced accuracy</th>\n",
       "      <th>f1</th>\n",
       "      <th>precision</th>\n",
       "      <th>false positive rate</th>\n",
       "      <th>false negative rate</th>\n",
       "      <th>selection rate</th>\n",
       "      <th>count</th>\n",
       "    </tr>\n",
       "    <tr>\n",
       "      <th>majmin</th>\n",
       "      <th></th>\n",
       "      <th></th>\n",
       "      <th></th>\n",
       "      <th></th>\n",
       "      <th></th>\n",
       "      <th></th>\n",
       "      <th></th>\n",
       "      <th></th>\n",
       "    </tr>\n",
       "  </thead>\n",
       "  <tbody>\n",
       "    <tr>\n",
       "      <th>majority</th>\n",
       "      <td>0.247376</td>\n",
       "      <td>0.558462</td>\n",
       "      <td>0.256268</td>\n",
       "      <td>0.147378</td>\n",
       "      <td>0.864368</td>\n",
       "      <td>0.018709</td>\n",
       "      <td>0.879818</td>\n",
       "      <td>69170.0</td>\n",
       "    </tr>\n",
       "    <tr>\n",
       "      <th>minority</th>\n",
       "      <td>0.145375</td>\n",
       "      <td>0.513332</td>\n",
       "      <td>0.211056</td>\n",
       "      <td>0.118097</td>\n",
       "      <td>0.964891</td>\n",
       "      <td>0.008446</td>\n",
       "      <td>0.967965</td>\n",
       "      <td>20540.0</td>\n",
       "    </tr>\n",
       "  </tbody>\n",
       "</table>\n",
       "</div>"
      ],
      "text/plain": [
       "          accuracy  balanced accuracy        f1  precision  \\\n",
       "majmin                                                       \n",
       "majority  0.247376           0.558462  0.256268   0.147378   \n",
       "minority  0.145375           0.513332  0.211056   0.118097   \n",
       "\n",
       "          false positive rate  false negative rate  selection rate    count  \n",
       "majmin                                                                       \n",
       "majority             0.864368             0.018709        0.879818  69170.0  \n",
       "minority             0.964891             0.008446        0.967965  20540.0  "
      ]
     },
     "execution_count": 75,
     "metadata": {},
     "output_type": "execute_result"
    }
   ],
   "source": [
    "metric_frame.by_group"
   ]
  },
  {
   "cell_type": "code",
   "execution_count": 76,
   "id": "a9ddbe63",
   "metadata": {
    "execution": {
     "iopub.execute_input": "2025-07-30T21:02:31.088818Z",
     "iopub.status.busy": "2025-07-30T21:02:31.088107Z",
     "iopub.status.idle": "2025-07-30T21:02:33.341749Z",
     "shell.execute_reply": "2025-07-30T21:02:33.340885Z"
    },
    "papermill": {
     "duration": 2.287756,
     "end_time": "2025-07-30T21:02:33.343218",
     "exception": false,
     "start_time": "2025-07-30T21:02:31.055462",
     "status": "completed"
    },
    "tags": []
   },
   "outputs": [
    {
     "data": {
      "text/plain": [
       "array([[<Axes: title={'center': 'accuracy'}, xlabel='majmin'>,\n",
       "        <Axes: title={'center': 'balanced accuracy'}, xlabel='majmin'>,\n",
       "        <Axes: title={'center': 'f1'}, xlabel='majmin'>],\n",
       "       [<Axes: title={'center': 'precision'}, xlabel='majmin'>,\n",
       "        <Axes: title={'center': 'false positive rate'}, xlabel='majmin'>,\n",
       "        <Axes: title={'center': 'false negative rate'}, xlabel='majmin'>],\n",
       "       [<Axes: title={'center': 'selection rate'}, xlabel='majmin'>,\n",
       "        <Axes: title={'center': 'count'}, xlabel='majmin'>,\n",
       "        <Axes: xlabel='majmin'>]], dtype=object)"
      ]
     },
     "execution_count": 76,
     "metadata": {},
     "output_type": "execute_result"
    },
    {
     "data": {
      "image/png": "[encoded data removed]",
      "text/plain": [
       "<Figure size 1200x800 with 9 Axes>"
      ]
     },
     "metadata": {},
     "output_type": "display_data"
    }
   ],
   "source": [
    "# In a graphic\n",
    "metric_frame.by_group.plot.bar(\n",
    "    subplots=True,\n",
    "    layout=[3, 3],\n",
    "    legend=False,\n",
    "    figsize=[12, 8],\n",
    "    title=\"Show all metrics\",\n",
    ")"
   ]
  },
  {
   "cell_type": "markdown",
   "id": "f57a0bac",
   "metadata": {
    "papermill": {
     "duration": 0.026922,
     "end_time": "2025-07-30T21:02:33.399483",
     "exception": false,
     "start_time": "2025-07-30T21:02:33.372561",
     "status": "completed"
    },
    "tags": []
   },
   "source": [
    "# Final Output"
   ]
  },
  {
   "cell_type": "code",
   "execution_count": 77,
   "id": "96d280a3",
   "metadata": {
    "execution": {
     "iopub.execute_input": "2025-07-30T21:02:33.454637Z",
     "iopub.status.busy": "2025-07-30T21:02:33.454029Z",
     "iopub.status.idle": "2025-07-30T21:02:33.461764Z",
     "shell.execute_reply": "2025-07-30T21:02:33.460919Z"
    },
    "papermill": {
     "duration": 0.03773,
     "end_time": "2025-07-30T21:02:33.463357",
     "exception": false,
     "start_time": "2025-07-30T21:02:33.425627",
     "status": "completed"
    },
    "tags": []
   },
   "outputs": [
    {
     "data": {
      "text/plain": [
       "4"
      ]
     },
     "execution_count": 77,
     "metadata": {},
     "output_type": "execute_result"
    }
   ],
   "source": [
    "sub_universes = universe_analysis.generate_sub_universes()\n",
    "len(sub_universes)"
   ]
  },
  {
   "cell_type": "code",
   "execution_count": 78,
   "id": "92adf7ba",
   "metadata": {
    "execution": {
     "iopub.execute_input": "2025-07-30T21:02:33.520117Z",
     "iopub.status.busy": "2025-07-30T21:02:33.519467Z",
     "iopub.status.idle": "2025-07-30T21:02:33.525414Z",
     "shell.execute_reply": "2025-07-30T21:02:33.524434Z"
    },
    "papermill": {
     "duration": 0.036815,
     "end_time": "2025-07-30T21:02:33.527004",
     "exception": false,
     "start_time": "2025-07-30T21:02:33.490189",
     "status": "completed"
    },
    "tags": []
   },
   "outputs": [],
   "source": [
    "def filter_sub_universe_data(sub_universe, org_test):\n",
    "    # Keep all rows — no filtering\n",
    "    keep_rows_mask = np.ones(org_test.shape[0], dtype=bool)\n",
    "\n",
    "    print(f\"[INFO] Keeping all rows: {keep_rows_mask.sum()} rows retained.\")\n",
    "    return keep_rows_mask"
   ]
  },
  {
   "cell_type": "code",
   "execution_count": 79,
   "id": "4a759155",
   "metadata": {
    "execution": {
     "iopub.execute_input": "2025-07-30T21:02:33.584298Z",
     "iopub.status.busy": "2025-07-30T21:02:33.583612Z",
     "iopub.status.idle": "2025-07-30T21:02:44.423199Z",
     "shell.execute_reply": "2025-07-30T21:02:44.422372Z"
    },
    "papermill": {
     "duration": 10.869935,
     "end_time": "2025-07-30T21:02:44.424795",
     "exception": false,
     "start_time": "2025-07-30T21:02:33.554860",
     "status": "completed"
    },
    "tags": []
   },
   "outputs": [
    {
     "name": "stdout",
     "output_type": "stream",
     "text": [
      "Stopping execution_time clock.\n",
      "[INFO] Keeping all rows: 89710 rows retained.\n"
     ]
    },
    {
     "name": "stdout",
     "output_type": "stream",
     "text": [
      "[INFO] Keeping all rows: 89710 rows retained.\n"
     ]
    },
    {
     "name": "stdout",
     "output_type": "stream",
     "text": [
      "[INFO] Keeping all rows: 89710 rows retained.\n"
     ]
    },
    {
     "name": "stdout",
     "output_type": "stream",
     "text": [
      "[INFO] Keeping all rows: 89710 rows retained.\n"
     ]
    },
    {
     "data": {
      "text/html": [
       "<div>\n",
       "<style scoped>\n",
       "    .dataframe tbody tr th:only-of-type {\n",
       "        vertical-align: middle;\n",
       "    }\n",
       "\n",
       "    .dataframe tbody tr th {\n",
       "        vertical-align: top;\n",
       "    }\n",
       "\n",
       "    .dataframe thead th {\n",
       "        text-align: right;\n",
       "    }\n",
       "</style>\n",
       "<table border=\"1\" class=\"dataframe\">\n",
       "  <thead>\n",
       "    <tr style=\"text-align: right;\">\n",
       "      <th></th>\n",
       "      <th>run_no</th>\n",
       "      <th>universe_id</th>\n",
       "      <th>universe_settings</th>\n",
       "      <th>execution_time</th>\n",
       "      <th>test_size_n</th>\n",
       "      <th>test_size_frac</th>\n",
       "      <th>fair_main_equalized_odds_difference</th>\n",
       "      <th>fair_main_equalized_odds_ratio</th>\n",
       "      <th>fair_main_demographic_parity_difference</th>\n",
       "      <th>fair_main_demographic_parity_ratio</th>\n",
       "      <th>...</th>\n",
       "      <th>perf_grp_precision_0</th>\n",
       "      <th>perf_grp_precision_1</th>\n",
       "      <th>perf_grp_false positive rate_0</th>\n",
       "      <th>perf_grp_false positive rate_1</th>\n",
       "      <th>perf_grp_false negative rate_0</th>\n",
       "      <th>perf_grp_false negative rate_1</th>\n",
       "      <th>perf_grp_selection rate_0</th>\n",
       "      <th>perf_grp_selection rate_1</th>\n",
       "      <th>perf_grp_count_0</th>\n",
       "      <th>perf_grp_count_1</th>\n",
       "    </tr>\n",
       "  </thead>\n",
       "  <tbody>\n",
       "    <tr>\n",
       "      <th>0</th>\n",
       "      <td>14</td>\n",
       "      <td>9d9e92e2058a6725ff20c27422127abf</td>\n",
       "      <td>{\"cutoff\": \"quantile_0.1\", \"eval_fairness_grou...</td>\n",
       "      <td>41.574443</td>\n",
       "      <td>89710</td>\n",
       "      <td>1.0</td>\n",
       "      <td>0.100523</td>\n",
       "      <td>0.895819</td>\n",
       "      <td>0.088147</td>\n",
       "      <td>0.908936</td>\n",
       "      <td>...</td>\n",
       "      <td>NaN</td>\n",
       "      <td>NaN</td>\n",
       "      <td>NaN</td>\n",
       "      <td>NaN</td>\n",
       "      <td>NaN</td>\n",
       "      <td>NaN</td>\n",
       "      <td>NaN</td>\n",
       "      <td>NaN</td>\n",
       "      <td>NaN</td>\n",
       "      <td>NaN</td>\n",
       "    </tr>\n",
       "    <tr>\n",
       "      <th>0</th>\n",
       "      <td>14</td>\n",
       "      <td>9d9e92e2058a6725ff20c27422127abf</td>\n",
       "      <td>{\"cutoff\": \"quantile_0.1\", \"eval_fairness_grou...</td>\n",
       "      <td>41.574443</td>\n",
       "      <td>89710</td>\n",
       "      <td>1.0</td>\n",
       "      <td>0.100523</td>\n",
       "      <td>0.895819</td>\n",
       "      <td>0.088147</td>\n",
       "      <td>0.908936</td>\n",
       "      <td>...</td>\n",
       "      <td>0.118097</td>\n",
       "      <td>0.147378</td>\n",
       "      <td>0.964891</td>\n",
       "      <td>0.864368</td>\n",
       "      <td>0.008446</td>\n",
       "      <td>0.018709</td>\n",
       "      <td>0.967965</td>\n",
       "      <td>0.879818</td>\n",
       "      <td>20540.0</td>\n",
       "      <td>69170.0</td>\n",
       "    </tr>\n",
       "    <tr>\n",
       "      <th>0</th>\n",
       "      <td>14</td>\n",
       "      <td>9d9e92e2058a6725ff20c27422127abf</td>\n",
       "      <td>{\"cutoff\": \"quantile_0.25\", \"eval_fairness_gro...</td>\n",
       "      <td>41.574443</td>\n",
       "      <td>89710</td>\n",
       "      <td>1.0</td>\n",
       "      <td>0.194371</td>\n",
       "      <td>0.776999</td>\n",
       "      <td>0.171459</td>\n",
       "      <td>0.805652</td>\n",
       "      <td>...</td>\n",
       "      <td>NaN</td>\n",
       "      <td>NaN</td>\n",
       "      <td>NaN</td>\n",
       "      <td>NaN</td>\n",
       "      <td>NaN</td>\n",
       "      <td>NaN</td>\n",
       "      <td>NaN</td>\n",
       "      <td>NaN</td>\n",
       "      <td>NaN</td>\n",
       "      <td>NaN</td>\n",
       "    </tr>\n",
       "    <tr>\n",
       "      <th>0</th>\n",
       "      <td>14</td>\n",
       "      <td>9d9e92e2058a6725ff20c27422127abf</td>\n",
       "      <td>{\"cutoff\": \"quantile_0.25\", \"eval_fairness_gro...</td>\n",
       "      <td>41.574443</td>\n",
       "      <td>89710</td>\n",
       "      <td>1.0</td>\n",
       "      <td>0.194371</td>\n",
       "      <td>0.776999</td>\n",
       "      <td>0.171459</td>\n",
       "      <td>0.805652</td>\n",
       "      <td>...</td>\n",
       "      <td>0.125931</td>\n",
       "      <td>0.173074</td>\n",
       "      <td>0.871616</td>\n",
       "      <td>0.677245</td>\n",
       "      <td>0.036318</td>\n",
       "      <td>0.069037</td>\n",
       "      <td>0.882230</td>\n",
       "      <td>0.710771</td>\n",
       "      <td>20540.0</td>\n",
       "      <td>69170.0</td>\n",
       "    </tr>\n",
       "  </tbody>\n",
       "</table>\n",
       "<p>4 rows × 50 columns</p>\n",
       "</div>"
      ],
      "text/plain": [
       "  run_no                       universe_id  \\\n",
       "0     14  9d9e92e2058a6725ff20c27422127abf   \n",
       "0     14  9d9e92e2058a6725ff20c27422127abf   \n",
       "0     14  9d9e92e2058a6725ff20c27422127abf   \n",
       "0     14  9d9e92e2058a6725ff20c27422127abf   \n",
       "\n",
       "                                   universe_settings  execution_time  \\\n",
       "0  {\"cutoff\": \"quantile_0.1\", \"eval_fairness_grou...       41.574443   \n",
       "0  {\"cutoff\": \"quantile_0.1\", \"eval_fairness_grou...       41.574443   \n",
       "0  {\"cutoff\": \"quantile_0.25\", \"eval_fairness_gro...       41.574443   \n",
       "0  {\"cutoff\": \"quantile_0.25\", \"eval_fairness_gro...       41.574443   \n",
       "\n",
       "   test_size_n  test_size_frac  fair_main_equalized_odds_difference  \\\n",
       "0        89710             1.0                             0.100523   \n",
       "0        89710             1.0                             0.100523   \n",
       "0        89710             1.0                             0.194371   \n",
       "0        89710             1.0                             0.194371   \n",
       "\n",
       "   fair_main_equalized_odds_ratio  fair_main_demographic_parity_difference  \\\n",
       "0                        0.895819                                 0.088147   \n",
       "0                        0.895819                                 0.088147   \n",
       "0                        0.776999                                 0.171459   \n",
       "0                        0.776999                                 0.171459   \n",
       "\n",
       "   fair_main_demographic_parity_ratio  ...  perf_grp_precision_0  \\\n",
       "0                            0.908936  ...                   NaN   \n",
       "0                            0.908936  ...              0.118097   \n",
       "0                            0.805652  ...                   NaN   \n",
       "0                            0.805652  ...              0.125931   \n",
       "\n",
       "   perf_grp_precision_1  perf_grp_false positive rate_0  \\\n",
       "0                   NaN                             NaN   \n",
       "0              0.147378                        0.964891   \n",
       "0                   NaN                             NaN   \n",
       "0              0.173074                        0.871616   \n",
       "\n",
       "   perf_grp_false positive rate_1  perf_grp_false negative rate_0  \\\n",
       "0                             NaN                             NaN   \n",
       "0                        0.864368                        0.008446   \n",
       "0                             NaN                             NaN   \n",
       "0                        0.677245                        0.036318   \n",
       "\n",
       "   perf_grp_false negative rate_1  perf_grp_selection rate_0  \\\n",
       "0                             NaN                        NaN   \n",
       "0                        0.018709                   0.967965   \n",
       "0                             NaN                        NaN   \n",
       "0                        0.069037                   0.882230   \n",
       "\n",
       "   perf_grp_selection rate_1  perf_grp_count_0  perf_grp_count_1  \n",
       "0                        NaN               NaN               NaN  \n",
       "0                   0.879818           20540.0           69170.0  \n",
       "0                        NaN               NaN               NaN  \n",
       "0                   0.710771           20540.0           69170.0  \n",
       "\n",
       "[4 rows x 50 columns]"
      ]
     },
     "execution_count": 79,
     "metadata": {},
     "output_type": "execute_result"
    }
   ],
   "source": [
    "final_output = universe_analysis.generate_final_output(\n",
    "    y_pred_prob=probs_test,\n",
    "    y_test=y_true,\n",
    "    org_test=org_test,\n",
    "    filter_data=filter_sub_universe_data,\n",
    "    cp_metrics_df=cp_metrics_df,\n",
    "    save=True,\n",
    ")\n",
    "final_output"
   ]
  },
  {
   "cell_type": "code",
   "execution_count": null,
   "id": "721ff514-cb11-46f8-b6fc-50392f74b5cb",
   "metadata": {
    "papermill": {
     "duration": 0.034838,
     "end_time": "2025-07-30T21:02:44.495306",
     "exception": false,
     "start_time": "2025-07-30T21:02:44.460468",
     "status": "completed"
    },
    "tags": []
   },
   "outputs": [],
   "source": []
  }
 ],
 "metadata": {
  "celltoolbar": "Tags",
  "kernelspec": {
   "display_name": "Python (CMA Fairness)",
   "language": "python",
   "name": "cma_fair_env"
  },
  "language_info": {
   "codemirror_mode": {
    "name": "ipython",
    "version": 3
   },
   "file_extension": ".py",
   "mimetype": "text/x-python",
   "name": "python",
   "nbconvert_exporter": "python",
   "pygments_lexer": "ipython3",
   "version": "3.10.12"
  },
  "papermill": {
   "default_parameters": {},
   "duration": 56.351777,
   "end_time": "2025-07-30T21:02:45.149525",
   "environment_variables": {},
   "exception": null,
   "input_path": "universe_analysis.ipynb",
   "output_path": "output/runs/14/notebooks/m_14-9d9e92e2058a6725ff20c27422127abf.ipynb",
   "parameters": {
    "output_dir": "output",
    "run_no": "14",
    "seed": "2023",
    "universe": "{\"cutoff\": [\"quantile_0.1\", \"quantile_0.25\"], \"eval_fairness_grouping\": [\"majority-minority\", \"nationality-all\"], \"exclude_features\": \"sex\", \"exclude_subgroups\": \"keep-all\", \"model\": \"elasticnet\", \"scale\": \"scale\", \"training_size\": \"5k\", \"training_year\": \"2012_14\"}",
    "universe_id": "9d9e92e2058a6725ff20c27422127abf"
   },
   "start_time": "2025-07-30T21:01:48.797748",
   "version": "2.6.0"
  }
 },
 "nbformat": 4,
 "nbformat_minor": 5
}