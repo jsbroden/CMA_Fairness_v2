{
 "cells": [
  {
   "cell_type": "code",
   "execution_count": 1,
   "id": "f159f837-637b-42ba-96b5-ec9a68c44524",
   "metadata": {
    "execution": {
     "iopub.execute_input": "2025-07-30T21:25:17.821080Z",
     "iopub.status.busy": "2025-07-30T21:25:17.820545Z",
     "iopub.status.idle": "2025-07-30T21:25:17.835306Z",
     "shell.execute_reply": "2025-07-30T21:25:17.834337Z"
    },
    "papermill": {
     "duration": 0.039357,
     "end_time": "2025-07-30T21:25:17.837127",
     "exception": false,
     "start_time": "2025-07-30T21:25:17.797770",
     "status": "completed"
    },
    "tags": []
   },
   "outputs": [
    {
     "name": "stdout",
     "output_type": "stream",
     "text": [
      "/dss/dsshome1/0C/ra93lal2/cma/CMA_Fairness_v2\n"
     ]
    },
    {
     "name": "stderr",
     "output_type": "stream",
     "text": [
      "/dss/dsshome1/0C/ra93lal2/.local/share/virtualenvs/CMA_Fairness_v2-3j10GkSs/lib/python3.10/site-packages/IPython/core/magics/osm.py:393: UserWarning: This is now an optional IPython functionality, using bookmarks requires you to install the `pickleshare` library.\n",
      "  bkms = self.shell.db.get('bookmarks', {})\n",
      "/dss/dsshome1/0C/ra93lal2/.local/share/virtualenvs/CMA_Fairness_v2-3j10GkSs/lib/python3.10/site-packages/IPython/core/magics/osm.py:417: UserWarning: This is now an optional IPython functionality, setting dhist requires you to install the `pickleshare` library.\n",
      "  self.shell.db['dhist'] = compress_dhist(dhist)[-100:]\n"
     ]
    }
   ],
   "source": [
    "%cd ~/cma/CMA_Fairness_v2"
   ]
  },
  {
   "cell_type": "markdown",
   "id": "de2603b9",
   "metadata": {
    "papermill": {
     "duration": 0.019495,
     "end_time": "2025-07-30T21:25:17.889229",
     "exception": false,
     "start_time": "2025-07-30T21:25:17.869734",
     "status": "completed"
    },
    "tags": []
   },
   "source": [
    "The following cell holds the definition of our parameters, these values can be overriden by rendering the with e.g. the following command:\n",
    "\n",
    "papermill -p alpha 0.2 -p ratio 0.3 universe_analysis.ipynb output/test_run.ipynb"
   ]
  },
  {
   "cell_type": "code",
   "execution_count": 2,
   "id": "a80968a0-40bb-4fa9-85ef-2d5eefb01975",
   "metadata": {
    "execution": {
     "iopub.execute_input": "2025-07-30T21:25:17.930872Z",
     "iopub.status.busy": "2025-07-30T21:25:17.930042Z",
     "iopub.status.idle": "2025-07-30T21:25:17.936418Z",
     "shell.execute_reply": "2025-07-30T21:25:17.935561Z"
    },
    "papermill": {
     "duration": 0.035084,
     "end_time": "2025-07-30T21:25:17.944417",
     "exception": false,
     "start_time": "2025-07-30T21:25:17.909333",
     "status": "completed"
    },
    "tags": []
   },
   "outputs": [
    {
     "name": "stdout",
     "output_type": "stream",
     "text": [
      "Current working directory: /dss/dsshome1/0C/ra93lal2/cma/CMA_Fairness_v2\n"
     ]
    }
   ],
   "source": [
    "import os\n",
    "print(\"Current working directory:\", os.getcwd())"
   ]
  },
  {
   "cell_type": "code",
   "execution_count": 3,
   "id": "2dce4c03",
   "metadata": {
    "execution": {
     "iopub.execute_input": "2025-07-30T21:25:17.987272Z",
     "iopub.status.busy": "2025-07-30T21:25:17.986892Z",
     "iopub.status.idle": "2025-07-30T21:25:17.993355Z",
     "shell.execute_reply": "2025-07-30T21:25:17.992361Z"
    },
    "papermill": {
     "duration": 0.032101,
     "end_time": "2025-07-30T21:25:17.997244",
     "exception": false,
     "start_time": "2025-07-30T21:25:17.965143",
     "status": "completed"
    },
    "tags": [
     "parameters"
    ]
   },
   "outputs": [],
   "source": [
    "run_no = 0\n",
    "universe_id = \"test\"\n",
    "universe = {\n",
    "    \"training_size\": \"25k\", # \"25k\", \"5k\", \"1k\"\n",
    "    \"training_year\": \"2014\", # \"2014\", \"2012_14\", \"2010_14\"\n",
    "    \"scale\": \"scale\", # \"scale\", \"do-not-scale\",\n",
    "    #\"stratify_split\": \"target\", # \"none\", \"target\", \"protected-attribute\", \"both\",\n",
    "    \"model\": \"elasticnet\", # \"logreg\", \"penalized_logreg\", \"rf\", \"gbm\", \"elasticnet\"\n",
    "    \"cutoff\": [\"quantile_0.15\", \"quantile_0.30\"],\n",
    "    \"exclude_features\": \"age\", # \"none\", \"nationality\", \"sex\", \"nationality-sex\", \"age\"\n",
    "    \"exclude_subgroups\": \"keep-all\", # \"keep-all\", \"drop-non-german\"\n",
    "    \"eval_fairness_grouping\": [\"majority-minority\", \"nationality-all\"]\n",
    "}\n",
    "\n",
    "output_dir=\"./output\"\n",
    "seed=0"
   ]
  },
  {
   "cell_type": "code",
   "execution_count": 4,
   "id": "733ffcdb",
   "metadata": {
    "execution": {
     "iopub.execute_input": "2025-07-30T21:25:18.041316Z",
     "iopub.status.busy": "2025-07-30T21:25:18.040830Z",
     "iopub.status.idle": "2025-07-30T21:25:18.046077Z",
     "shell.execute_reply": "2025-07-30T21:25:18.045170Z"
    },
    "papermill": {
     "duration": 0.029405,
     "end_time": "2025-07-30T21:25:18.047721",
     "exception": false,
     "start_time": "2025-07-30T21:25:18.018316",
     "status": "completed"
    },
    "tags": [
     "injected-parameters"
    ]
   },
   "outputs": [],
   "source": [
    "# Parameters\n",
    "universe_id = \"7c8ce3b0f4107efd6c8da94e82cafd64\"\n",
    "run_no = \"14\"\n",
    "universe = \"{\\\"cutoff\\\": [\\\"quantile_0.1\\\", \\\"quantile_0.25\\\"], \\\"eval_fairness_grouping\\\": [\\\"majority-minority\\\", \\\"nationality-all\\\"], \\\"exclude_features\\\": \\\"nationality\\\", \\\"exclude_subgroups\\\": \\\"drop-non-german\\\", \\\"model\\\": \\\"gbm\\\", \\\"scale\\\": \\\"scale\\\", \\\"training_size\\\": \\\"1k\\\", \\\"training_year\\\": \\\"2014\\\"}\"\n",
    "output_dir = \"output\"\n",
    "seed = \"2023\"\n"
   ]
  },
  {
   "cell_type": "code",
   "execution_count": 5,
   "id": "1650acaf",
   "metadata": {
    "execution": {
     "iopub.execute_input": "2025-07-30T21:25:18.091343Z",
     "iopub.status.busy": "2025-07-30T21:25:18.090549Z",
     "iopub.status.idle": "2025-07-30T21:25:18.095607Z",
     "shell.execute_reply": "2025-07-30T21:25:18.094720Z"
    },
    "papermill": {
     "duration": 0.028403,
     "end_time": "2025-07-30T21:25:18.097213",
     "exception": false,
     "start_time": "2025-07-30T21:25:18.068810",
     "status": "completed"
    },
    "tags": []
   },
   "outputs": [],
   "source": [
    "import json\n",
    "# Parse universe into dict if it is passed as a string\n",
    "if isinstance(universe, str):\n",
    "    universe = json.loads(universe)"
   ]
  },
  {
   "cell_type": "code",
   "execution_count": 6,
   "id": "16620c48",
   "metadata": {
    "execution": {
     "iopub.execute_input": "2025-07-30T21:25:18.140966Z",
     "iopub.status.busy": "2025-07-30T21:25:18.140492Z",
     "iopub.status.idle": "2025-07-30T21:25:18.185870Z",
     "shell.execute_reply": "2025-07-30T21:25:18.184976Z"
    },
    "papermill": {
     "duration": 0.070175,
     "end_time": "2025-07-30T21:25:18.187787",
     "exception": false,
     "start_time": "2025-07-30T21:25:18.117612",
     "status": "completed"
    },
    "tags": []
   },
   "outputs": [],
   "source": [
    "# Auto-reload the custom package\n",
    "%load_ext autoreload\n",
    "%autoreload 1\n",
    "%aimport fairness_multiverse"
   ]
  },
  {
   "cell_type": "code",
   "execution_count": 7,
   "id": "01c5c9f3",
   "metadata": {
    "execution": {
     "iopub.execute_input": "2025-07-30T21:25:18.230082Z",
     "iopub.status.busy": "2025-07-30T21:25:18.229593Z",
     "iopub.status.idle": "2025-07-30T21:25:20.205055Z",
     "shell.execute_reply": "2025-07-30T21:25:20.203898Z"
    },
    "papermill": {
     "duration": 1.998061,
     "end_time": "2025-07-30T21:25:20.206914",
     "exception": false,
     "start_time": "2025-07-30T21:25:18.208853",
     "status": "completed"
    },
    "tags": []
   },
   "outputs": [],
   "source": [
    "from fairness_multiverse.universe import UniverseAnalysis\n",
    "\n",
    "universe_analysis = UniverseAnalysis(\n",
    "    run_no = run_no,\n",
    "    universe_id = universe_id,\n",
    "    universe = universe,\n",
    "    output_dir=output_dir,\n",
    ")"
   ]
  },
  {
   "cell_type": "code",
   "execution_count": 8,
   "id": "106241f5",
   "metadata": {
    "execution": {
     "iopub.execute_input": "2025-07-30T21:25:20.251645Z",
     "iopub.status.busy": "2025-07-30T21:25:20.251150Z",
     "iopub.status.idle": "2025-07-30T21:25:20.258151Z",
     "shell.execute_reply": "2025-07-30T21:25:20.257056Z"
    },
    "papermill": {
     "duration": 0.030899,
     "end_time": "2025-07-30T21:25:20.259745",
     "exception": false,
     "start_time": "2025-07-30T21:25:20.228846",
     "status": "completed"
    },
    "tags": []
   },
   "outputs": [
    {
     "name": "stdout",
     "output_type": "stream",
     "text": [
      "Using Seed: 2023\n"
     ]
    }
   ],
   "source": [
    "import numpy as np\n",
    "parsed_seed = int(seed)\n",
    "np.random.seed(parsed_seed)\n",
    "print(f\"Using Seed: {parsed_seed}\")"
   ]
  },
  {
   "cell_type": "markdown",
   "id": "e0ebdc57",
   "metadata": {
    "papermill": {
     "duration": 0.020833,
     "end_time": "2025-07-30T21:25:20.300853",
     "exception": false,
     "start_time": "2025-07-30T21:25:20.280020",
     "status": "completed"
    },
    "tags": []
   },
   "source": [
    "# Loading Data"
   ]
  },
  {
   "cell_type": "markdown",
   "id": "681925a3",
   "metadata": {
    "papermill": {
     "duration": 0.020671,
     "end_time": "2025-07-30T21:25:20.341649",
     "exception": false,
     "start_time": "2025-07-30T21:25:20.320978",
     "status": "completed"
    },
    "tags": []
   },
   "source": [
    "Load siab_train, siab_test, siab_calib and/or \n",
    "load siab_train_features, siab_train_labels"
   ]
  },
  {
   "cell_type": "code",
   "execution_count": 9,
   "id": "f0496b8a",
   "metadata": {
    "execution": {
     "iopub.execute_input": "2025-07-30T21:25:20.384270Z",
     "iopub.status.busy": "2025-07-30T21:25:20.383740Z",
     "iopub.status.idle": "2025-07-30T21:25:32.813411Z",
     "shell.execute_reply": "2025-07-30T21:25:32.812145Z"
    },
    "papermill": {
     "duration": 12.454885,
     "end_time": "2025-07-30T21:25:32.815887",
     "exception": false,
     "start_time": "2025-07-30T21:25:20.361002",
     "status": "completed"
    },
    "tags": []
   },
   "outputs": [
    {
     "name": "stdout",
     "output_type": "stream",
     "text": [
      "Loading SIAB data from cache: data/siab_cached.csv.gz\n"
     ]
    },
    {
     "name": "stdout",
     "output_type": "stream",
     "text": [
      "(643690, 164)\n"
     ]
    }
   ],
   "source": [
    "from pathlib import Path\n",
    "import pandas as pd\n",
    "\n",
    "# File paths\n",
    "raw_file = Path(\"data/raw/siab.csv\")\n",
    "cache_file = Path(\"data/siab_cached.csv.gz\")\n",
    "\n",
    "# Ensure cache directory exists\n",
    "cache_file.parent.mkdir(parents=True, exist_ok=True)\n",
    "\n",
    "# Load with simple caching\n",
    "if cache_file.exists():\n",
    "    print(f\"Loading SIAB data from cache: {cache_file}\")\n",
    "    siab = pd.read_csv(cache_file, compression='gzip')\n",
    "else:\n",
    "    print(f\"Cache not found. Reading raw SIAB data: {raw_file}\")\n",
    "    siab = pd.read_csv(raw_file)\n",
    "    siab.to_csv(cache_file, index=False, compression='gzip')\n",
    "    print(f\"Cached SIAB data to: {cache_file}\")\n",
    "\n",
    "# Now use `siab` DataFrame as needed\n",
    "print(siab.shape)"
   ]
  },
  {
   "cell_type": "code",
   "execution_count": 10,
   "id": "db0ca512-5f53-4dba-abdb-a2888bca41ba",
   "metadata": {
    "execution": {
     "iopub.execute_input": "2025-07-30T21:25:32.880027Z",
     "iopub.status.busy": "2025-07-30T21:25:32.879360Z",
     "iopub.status.idle": "2025-07-30T21:25:32.887181Z",
     "shell.execute_reply": "2025-07-30T21:25:32.886010Z"
    },
    "papermill": {
     "duration": 0.040806,
     "end_time": "2025-07-30T21:25:32.888999",
     "exception": false,
     "start_time": "2025-07-30T21:25:32.848193",
     "status": "completed"
    },
    "tags": []
   },
   "outputs": [],
   "source": [
    "#siab"
   ]
  },
  {
   "cell_type": "code",
   "execution_count": 11,
   "id": "a0edb063",
   "metadata": {
    "execution": {
     "iopub.execute_input": "2025-07-30T21:25:32.932653Z",
     "iopub.status.busy": "2025-07-30T21:25:32.931715Z",
     "iopub.status.idle": "2025-07-30T21:25:32.938407Z",
     "shell.execute_reply": "2025-07-30T21:25:32.937101Z"
    },
    "papermill": {
     "duration": 0.030303,
     "end_time": "2025-07-30T21:25:32.940213",
     "exception": false,
     "start_time": "2025-07-30T21:25:32.909910",
     "status": "completed"
    },
    "tags": []
   },
   "outputs": [],
   "source": [
    "#import pandas as pd\n",
    "#\n",
    "#X_train = pd.read_csv(\"./data/X_train.csv\")\n",
    "#y_train = pd.read_csv(\"./data/y_train.csv\")"
   ]
  },
  {
   "cell_type": "code",
   "execution_count": 12,
   "id": "63d08085",
   "metadata": {
    "execution": {
     "iopub.execute_input": "2025-07-30T21:25:32.984665Z",
     "iopub.status.busy": "2025-07-30T21:25:32.983785Z",
     "iopub.status.idle": "2025-07-30T21:25:32.990003Z",
     "shell.execute_reply": "2025-07-30T21:25:32.988907Z"
    },
    "papermill": {
     "duration": 0.030533,
     "end_time": "2025-07-30T21:25:32.991592",
     "exception": false,
     "start_time": "2025-07-30T21:25:32.961059",
     "status": "completed"
    },
    "tags": []
   },
   "outputs": [],
   "source": [
    "#X_test = pd.read_csv(\"./data/X_test.csv\")\n",
    "#y_true = pd.read_csv(\"./data/y_test.csv\")"
   ]
  },
  {
   "cell_type": "code",
   "execution_count": 13,
   "id": "98a8d0fa-1d3d-4ed8-bb2c-281470e24add",
   "metadata": {
    "execution": {
     "iopub.execute_input": "2025-07-30T21:25:33.035749Z",
     "iopub.status.busy": "2025-07-30T21:25:33.035236Z",
     "iopub.status.idle": "2025-07-30T21:25:33.040684Z",
     "shell.execute_reply": "2025-07-30T21:25:33.039814Z"
    },
    "papermill": {
     "duration": 0.030327,
     "end_time": "2025-07-30T21:25:33.042467",
     "exception": false,
     "start_time": "2025-07-30T21:25:33.012140",
     "status": "completed"
    },
    "tags": []
   },
   "outputs": [],
   "source": [
    "# Calibration data for conformal\n",
    "#X_calib = pd.read_csv(\"./data/X_calib.csv\")\n",
    "#y_calib = pd.read_csv(\"./data/y_calib.csv\")"
   ]
  },
  {
   "cell_type": "markdown",
   "id": "997051c5-15bd-4b69-9786-c3001a3ce484",
   "metadata": {
    "papermill": {
     "duration": 0.021686,
     "end_time": "2025-07-30T21:25:33.084604",
     "exception": false,
     "start_time": "2025-07-30T21:25:33.062918",
     "status": "completed"
    },
    "tags": []
   },
   "source": [
    "# Splitting Data and Setting Training Data Size"
   ]
  },
  {
   "cell_type": "code",
   "execution_count": 14,
   "id": "e993b61f-042d-41a6-8c81-f55681f86335",
   "metadata": {
    "execution": {
     "iopub.execute_input": "2025-07-30T21:25:33.127118Z",
     "iopub.status.busy": "2025-07-30T21:25:33.126630Z",
     "iopub.status.idle": "2025-07-30T21:25:33.140531Z",
     "shell.execute_reply": "2025-07-30T21:25:33.139486Z"
    },
    "papermill": {
     "duration": 0.037497,
     "end_time": "2025-07-30T21:25:33.142195",
     "exception": false,
     "start_time": "2025-07-30T21:25:33.104698",
     "status": "completed"
    },
    "tags": []
   },
   "outputs": [],
   "source": [
    "def sample_by_year_size(df,\n",
    "                        training_year: str,\n",
    "                        training_size: str,\n",
    "                        random_state: int = 42):\n",
    "    # --- parse training_year into a list of int years ---\n",
    "    if \"_\" in training_year:\n",
    "        start_str, end_str = training_year.split(\"_\", 1)\n",
    "        start = int(start_str)\n",
    "        end   = int(end_str) if len(end_str) == 4 else (int(end_str) + (start // 100)*100)\n",
    "        years = list(range(start, end + 1))\n",
    "    else:\n",
    "        years = [int(training_year)]\n",
    "\n",
    "    df = df[df[\"year\"].isin(years)].reset_index(drop=True)\n",
    "\n",
    "    # --- map training_size to total number of samples ---\n",
    "    total_map = {\"25k\": 25_000, \"5k\": 5_000, \"1k\": 1_000}\n",
    "    if training_size not in total_map:\n",
    "        return df  # e.g. \"all\"\n",
    "\n",
    "    total_samples = total_map[training_size]\n",
    "    n_years       = len(years)\n",
    "    base          = total_samples // n_years\n",
    "    remainder     = total_samples % n_years\n",
    "\n",
    "    # --- build a dict: year -> how many to sample ---\n",
    "    # give +1 to the first `remainder` years in ascending order\n",
    "    quotas = {\n",
    "        year: base + (1 if idx < remainder else 0)\n",
    "        for idx, year in enumerate(sorted(years))\n",
    "    }\n",
    "\n",
    "    # --- sample per‐year according to the quota dict ---\n",
    "    sampled = (\n",
    "        df\n",
    "        .groupby(\"year\", group_keys=False)\n",
    "        .apply(lambda grp: grp.sample(\n",
    "            n=min(len(grp), quotas[grp.name]),\n",
    "            random_state=random_state))\n",
    "        .reset_index(drop=True)\n",
    "    )\n",
    "\n",
    "    return sampled"
   ]
  },
  {
   "cell_type": "code",
   "execution_count": 15,
   "id": "c0ccd338-0e02-41f3-a09d-f56f9266e3fb",
   "metadata": {
    "execution": {
     "iopub.execute_input": "2025-07-30T21:25:33.186163Z",
     "iopub.status.busy": "2025-07-30T21:25:33.185579Z",
     "iopub.status.idle": "2025-07-30T21:25:33.191737Z",
     "shell.execute_reply": "2025-07-30T21:25:33.190847Z"
    },
    "papermill": {
     "duration": 0.030144,
     "end_time": "2025-07-30T21:25:33.193714",
     "exception": false,
     "start_time": "2025-07-30T21:25:33.163570",
     "status": "completed"
    },
    "tags": []
   },
   "outputs": [],
   "source": [
    "#universe[\"training_size\"]"
   ]
  },
  {
   "cell_type": "code",
   "execution_count": 16,
   "id": "ca707fd7-8047-4acd-bfa5-66248fbbf8e6",
   "metadata": {
    "execution": {
     "iopub.execute_input": "2025-07-30T21:25:33.238283Z",
     "iopub.status.busy": "2025-07-30T21:25:33.237884Z",
     "iopub.status.idle": "2025-07-30T21:25:33.242037Z",
     "shell.execute_reply": "2025-07-30T21:25:33.241306Z"
    },
    "papermill": {
     "duration": 0.02844,
     "end_time": "2025-07-30T21:25:33.243551",
     "exception": false,
     "start_time": "2025-07-30T21:25:33.215111",
     "status": "completed"
    },
    "tags": []
   },
   "outputs": [],
   "source": [
    "#universe[\"training_year\"]"
   ]
  },
  {
   "cell_type": "code",
   "execution_count": 17,
   "id": "aea9c6ef-6f46-42c8-85eb-5a62025c1508",
   "metadata": {
    "execution": {
     "iopub.execute_input": "2025-07-30T21:25:33.286928Z",
     "iopub.status.busy": "2025-07-30T21:25:33.286554Z",
     "iopub.status.idle": "2025-07-30T21:25:33.537997Z",
     "shell.execute_reply": "2025-07-30T21:25:33.536976Z"
    },
    "papermill": {
     "duration": 0.275187,
     "end_time": "2025-07-30T21:25:33.540139",
     "exception": false,
     "start_time": "2025-07-30T21:25:33.264952",
     "status": "completed"
    },
    "tags": []
   },
   "outputs": [],
   "source": [
    "siab_train = sample_by_year_size(siab,\n",
    "                               training_year=universe[\"training_year\"],\n",
    "                               training_size=universe[\"training_size\"])"
   ]
  },
  {
   "cell_type": "code",
   "execution_count": 18,
   "id": "8d3afb32-789d-442c-8d5d-9f5aa8dd2eed",
   "metadata": {
    "execution": {
     "iopub.execute_input": "2025-07-30T21:25:33.579294Z",
     "iopub.status.busy": "2025-07-30T21:25:33.578884Z",
     "iopub.status.idle": "2025-07-30T21:25:33.583496Z",
     "shell.execute_reply": "2025-07-30T21:25:33.582487Z"
    },
    "papermill": {
     "duration": 0.0213,
     "end_time": "2025-07-30T21:25:33.585004",
     "exception": false,
     "start_time": "2025-07-30T21:25:33.563704",
     "status": "completed"
    },
    "tags": []
   },
   "outputs": [],
   "source": [
    "#siab_train.shape"
   ]
  },
  {
   "cell_type": "code",
   "execution_count": 19,
   "id": "d582db68-1a4c-47fb-84fc-08518dc1975a",
   "metadata": {
    "execution": {
     "iopub.execute_input": "2025-07-30T21:25:33.619200Z",
     "iopub.status.busy": "2025-07-30T21:25:33.618259Z",
     "iopub.status.idle": "2025-07-30T21:25:33.623183Z",
     "shell.execute_reply": "2025-07-30T21:25:33.622315Z"
    },
    "papermill": {
     "duration": 0.02581,
     "end_time": "2025-07-30T21:25:33.624917",
     "exception": false,
     "start_time": "2025-07-30T21:25:33.599107",
     "status": "completed"
    },
    "tags": []
   },
   "outputs": [],
   "source": [
    "#display(siab_train.groupby(\"year\").size())"
   ]
  },
  {
   "cell_type": "code",
   "execution_count": 20,
   "id": "a561edb4-d032-42cb-8256-22eac1111c64",
   "metadata": {
    "execution": {
     "iopub.execute_input": "2025-07-30T21:25:33.671577Z",
     "iopub.status.busy": "2025-07-30T21:25:33.671073Z",
     "iopub.status.idle": "2025-07-30T21:25:33.933122Z",
     "shell.execute_reply": "2025-07-30T21:25:33.932326Z"
    },
    "papermill": {
     "duration": 0.287593,
     "end_time": "2025-07-30T21:25:33.934695",
     "exception": false,
     "start_time": "2025-07-30T21:25:33.647102",
     "status": "completed"
    },
    "tags": []
   },
   "outputs": [],
   "source": [
    "#siab_train = siab_s[siab_s.year < 2015]\n",
    "siab_calib = siab[siab.year == 2015]\n",
    "siab_test = siab[siab.year == 2016]"
   ]
  },
  {
   "cell_type": "code",
   "execution_count": 21,
   "id": "472de16f-c3db-4916-846b-1f0de9cf1746",
   "metadata": {
    "execution": {
     "iopub.execute_input": "2025-07-30T21:25:33.978757Z",
     "iopub.status.busy": "2025-07-30T21:25:33.978306Z",
     "iopub.status.idle": "2025-07-30T21:25:33.986015Z",
     "shell.execute_reply": "2025-07-30T21:25:33.984929Z"
    },
    "papermill": {
     "duration": 0.033648,
     "end_time": "2025-07-30T21:25:33.987937",
     "exception": false,
     "start_time": "2025-07-30T21:25:33.954289",
     "status": "completed"
    },
    "tags": []
   },
   "outputs": [],
   "source": [
    "X_train = siab_train.iloc[:,4:164]\n",
    "y_train = siab_train.iloc[:, [3]]"
   ]
  },
  {
   "cell_type": "code",
   "execution_count": 22,
   "id": "828c96af-f43a-4ed6-ba47-8ac73a47d56c",
   "metadata": {
    "execution": {
     "iopub.execute_input": "2025-07-30T21:25:34.021399Z",
     "iopub.status.busy": "2025-07-30T21:25:34.020862Z",
     "iopub.status.idle": "2025-07-30T21:25:34.073962Z",
     "shell.execute_reply": "2025-07-30T21:25:34.072969Z"
    },
    "papermill": {
     "duration": 0.068017,
     "end_time": "2025-07-30T21:25:34.075795",
     "exception": false,
     "start_time": "2025-07-30T21:25:34.007778",
     "status": "completed"
    },
    "tags": []
   },
   "outputs": [],
   "source": [
    "X_calib = siab_calib.iloc[:,4:164]\n",
    "y_calib = siab_calib.iloc[:, [3]]"
   ]
  },
  {
   "cell_type": "code",
   "execution_count": 23,
   "id": "c34be9c3-6bd6-476e-acd3-845840e303be",
   "metadata": {
    "execution": {
     "iopub.execute_input": "2025-07-30T21:25:34.122527Z",
     "iopub.status.busy": "2025-07-30T21:25:34.121732Z",
     "iopub.status.idle": "2025-07-30T21:25:34.187654Z",
     "shell.execute_reply": "2025-07-30T21:25:34.186477Z"
    },
    "papermill": {
     "duration": 0.090855,
     "end_time": "2025-07-30T21:25:34.189401",
     "exception": false,
     "start_time": "2025-07-30T21:25:34.098546",
     "status": "completed"
    },
    "tags": []
   },
   "outputs": [],
   "source": [
    "X_test = siab_test.iloc[:,4:164]\n",
    "y_true = siab_test.iloc[:, [3]]"
   ]
  },
  {
   "cell_type": "markdown",
   "id": "9901737e-04df-44f0-9100-f5ad144ed040",
   "metadata": {
    "papermill": {
     "duration": 0.024375,
     "end_time": "2025-07-30T21:25:34.236077",
     "exception": false,
     "start_time": "2025-07-30T21:25:34.211702",
     "status": "completed"
    },
    "tags": []
   },
   "source": [
    "# Splitting Data and Setting Training Data Size OLD VERSION"
   ]
  },
  {
   "cell_type": "code",
   "execution_count": 24,
   "id": "acbc8f7d-8fc8-4e86-8c59-5dcb0f58384b",
   "metadata": {
    "execution": {
     "iopub.execute_input": "2025-07-30T21:25:34.282817Z",
     "iopub.status.busy": "2025-07-30T21:25:34.282030Z",
     "iopub.status.idle": "2025-07-30T21:25:34.288102Z",
     "shell.execute_reply": "2025-07-30T21:25:34.287120Z"
    },
    "papermill": {
     "duration": 0.029886,
     "end_time": "2025-07-30T21:25:34.289843",
     "exception": false,
     "start_time": "2025-07-30T21:25:34.259957",
     "status": "completed"
    },
    "tags": []
   },
   "outputs": [],
   "source": [
    "#def sample_by_year(df, training_size, random_state=42):\n",
    "#    if training_size == \"2014\":\n",
    "#        return df[df[\"year\"] == 2014].reset_index(drop=True)\n",
    "#    \n",
    "#    size_map = {\n",
    "#        \"25k\": 5000,\n",
    "#        \"5k\": 1000,\n",
    "#        \"1k\": 200\n",
    "#    }\n",
    "#\n",
    "#    if training_size not in size_map:\n",
    "#        return df.reset_index(drop=True)  # use all data\n",
    "#\n",
    "#    n_per_year = size_map[training_size]\n",
    "#    grouped = df.groupby(\"year\")\n",
    "#    sampled = grouped.apply(lambda x: x.sample(n=min(n_per_year, len(x)), random_state=random_state))\n",
    "#    return sampled.reset_index(drop=True)"
   ]
  },
  {
   "cell_type": "code",
   "execution_count": 25,
   "id": "6d931f52-beaf-43ff-9e78-9d44a448d54e",
   "metadata": {
    "execution": {
     "iopub.execute_input": "2025-07-30T21:25:34.336260Z",
     "iopub.status.busy": "2025-07-30T21:25:34.335737Z",
     "iopub.status.idle": "2025-07-30T21:25:34.341149Z",
     "shell.execute_reply": "2025-07-30T21:25:34.340222Z"
    },
    "papermill": {
     "duration": 0.030003,
     "end_time": "2025-07-30T21:25:34.342858",
     "exception": false,
     "start_time": "2025-07-30T21:25:34.312855",
     "status": "completed"
    },
    "tags": []
   },
   "outputs": [],
   "source": [
    "#siab_s = sample_by_year(siab, universe[\"training_size\"])"
   ]
  },
  {
   "cell_type": "code",
   "execution_count": 26,
   "id": "5db0a40e-a4e2-4920-be85-b12ae061d70d",
   "metadata": {
    "execution": {
     "iopub.execute_input": "2025-07-30T21:25:34.390939Z",
     "iopub.status.busy": "2025-07-30T21:25:34.390138Z",
     "iopub.status.idle": "2025-07-30T21:25:34.395622Z",
     "shell.execute_reply": "2025-07-30T21:25:34.394775Z"
    },
    "papermill": {
     "duration": 0.031217,
     "end_time": "2025-07-30T21:25:34.397315",
     "exception": false,
     "start_time": "2025-07-30T21:25:34.366098",
     "status": "completed"
    },
    "tags": []
   },
   "outputs": [],
   "source": [
    "#display(siab_s.groupby(\"year\").size())"
   ]
  },
  {
   "cell_type": "code",
   "execution_count": 27,
   "id": "e6c733c5",
   "metadata": {
    "execution": {
     "iopub.execute_input": "2025-07-30T21:25:34.433166Z",
     "iopub.status.busy": "2025-07-30T21:25:34.432714Z",
     "iopub.status.idle": "2025-07-30T21:25:34.532794Z",
     "shell.execute_reply": "2025-07-30T21:25:34.531631Z"
    },
    "papermill": {
     "duration": 0.118834,
     "end_time": "2025-07-30T21:25:34.534687",
     "exception": false,
     "start_time": "2025-07-30T21:25:34.415853",
     "status": "completed"
    },
    "tags": []
   },
   "outputs": [],
   "source": [
    "# Auxiliary data needed downstream in the pipeline\n",
    "\n",
    "org_train = X_train.copy()\n",
    "org_test = X_test.copy()\n",
    "org_calib = X_calib.copy()"
   ]
  },
  {
   "cell_type": "code",
   "execution_count": 28,
   "id": "1466abac-c6da-4492-a62f-4240ae3783af",
   "metadata": {
    "execution": {
     "iopub.execute_input": "2025-07-30T21:25:34.580845Z",
     "iopub.status.busy": "2025-07-30T21:25:34.579998Z",
     "iopub.status.idle": "2025-07-30T21:25:34.586343Z",
     "shell.execute_reply": "2025-07-30T21:25:34.585301Z"
    },
    "papermill": {
     "duration": 0.031066,
     "end_time": "2025-07-30T21:25:34.588462",
     "exception": false,
     "start_time": "2025-07-30T21:25:34.557396",
     "status": "completed"
    },
    "tags": []
   },
   "outputs": [],
   "source": [
    "# put in other script?\n",
    "# Group sizes\n",
    "\n",
    "#def calculate_percentages(df, df_name):\n",
    "#    total_entries = len(df)\n",
    "#\n",
    "#    female_pct = (df['frau1'] == 1).mean() * 100\n",
    "#    non_german_pct = ((df['maxdeutsch1'] == 0) & (df['maxdeutsch.Missing.'] == 0)).mean() * 100\n",
    "#    non_german_male_pct = ((df['frau1'] == 0) & (df['maxdeutsch1'] == 0) & (df['maxdeutsch.Missing.'] == 0)).mean() * 100\n",
    "#    non_german_female_pct = ((df['frau1'] == 1) & (df['maxdeutsch1'] == 0) & (df['maxdeutsch.Missing.'] == 0)).mean() * 100\n",
    "#\n",
    "#    print(f\"--- {df_name} ---\")\n",
    "#    print(f\"Female: {female_pct:.2f}%\")\n",
    "#    print(f\"Non-German: {non_german_pct:.2f}%\")\n",
    "#    print(f\"Non-German Male: {non_german_male_pct:.2f}%\")\n",
    "#    print(f\"Non-German Female: {non_german_female_pct:.2f}%\\n\")\n",
    "#\n",
    "## Calculate for each DataFrame\n",
    "#calculate_percentages(siab_calib, \"siab_calib\")\n",
    "#calculate_percentages(siab_test, \"siab_test\")\n",
    "#calculate_percentages(siab_train, \"siab_train\")"
   ]
  },
  {
   "cell_type": "markdown",
   "id": "0a4a1b33",
   "metadata": {
    "papermill": {
     "duration": 0.022854,
     "end_time": "2025-07-30T21:25:34.634537",
     "exception": false,
     "start_time": "2025-07-30T21:25:34.611683",
     "status": "completed"
    },
    "tags": []
   },
   "source": [
    "# Preprocessing Data"
   ]
  },
  {
   "cell_type": "code",
   "execution_count": 29,
   "id": "ca879031",
   "metadata": {
    "execution": {
     "iopub.execute_input": "2025-07-30T21:25:34.682273Z",
     "iopub.status.busy": "2025-07-30T21:25:34.681619Z",
     "iopub.status.idle": "2025-07-30T21:25:34.688612Z",
     "shell.execute_reply": "2025-07-30T21:25:34.687620Z"
    },
    "papermill": {
     "duration": 0.032687,
     "end_time": "2025-07-30T21:25:34.689918",
     "exception": false,
     "start_time": "2025-07-30T21:25:34.657231",
     "status": "completed"
    },
    "tags": []
   },
   "outputs": [],
   "source": [
    "# EXCLUDE PROTECTED FEATURES\n",
    "# ----------------------\n",
    "# \"exclude_features\": \"none\", # \"nationality\", \"sex\", \"nationality-sex\"\n",
    "\n",
    "excluded_features = universe[\"exclude_features\"].split(\"-\") # split, e.g.: \"nationality-sex\" -> [\"nationality\", \"sex\"]\n",
    "excluded_features_dictionary = {\n",
    "    \"nationality\": [\"maxdeutsch1\", \"maxdeutsch.Missing.\"],\n",
    "    \"sex\": [\"frau1\"],\n",
    "    \"age\": [\"age\"],\n",
    "}\n"
   ]
  },
  {
   "cell_type": "code",
   "execution_count": 30,
   "id": "b745ac60",
   "metadata": {
    "execution": {
     "iopub.execute_input": "2025-07-30T21:25:34.716186Z",
     "iopub.status.busy": "2025-07-30T21:25:34.715570Z",
     "iopub.status.idle": "2025-07-30T21:25:34.722455Z",
     "shell.execute_reply": "2025-07-30T21:25:34.721333Z"
    },
    "papermill": {
     "duration": 0.021712,
     "end_time": "2025-07-30T21:25:34.724312",
     "exception": false,
     "start_time": "2025-07-30T21:25:34.702600",
     "status": "completed"
    },
    "tags": []
   },
   "outputs": [],
   "source": [
    "# Code nice names to column names\n",
    "\n",
    "excluded_features_columns = [\n",
    "    excluded_features_dictionary[f] for f in excluded_features if len(f) > 0 and f != \"none\"\n",
    "]"
   ]
  },
  {
   "cell_type": "code",
   "execution_count": 31,
   "id": "f84f73a2",
   "metadata": {
    "execution": {
     "iopub.execute_input": "2025-07-30T21:25:34.773782Z",
     "iopub.status.busy": "2025-07-30T21:25:34.773225Z",
     "iopub.status.idle": "2025-07-30T21:25:34.779738Z",
     "shell.execute_reply": "2025-07-30T21:25:34.779016Z"
    },
    "papermill": {
     "duration": 0.032547,
     "end_time": "2025-07-30T21:25:34.781121",
     "exception": false,
     "start_time": "2025-07-30T21:25:34.748574",
     "status": "completed"
    },
    "tags": []
   },
   "outputs": [],
   "source": [
    "from utils import flatten_once\n",
    "\n",
    "excluded_features_columns = flatten_once(excluded_features_columns)"
   ]
  },
  {
   "cell_type": "code",
   "execution_count": 32,
   "id": "884dea22",
   "metadata": {
    "execution": {
     "iopub.execute_input": "2025-07-30T21:25:34.812680Z",
     "iopub.status.busy": "2025-07-30T21:25:34.812096Z",
     "iopub.status.idle": "2025-07-30T21:25:34.821775Z",
     "shell.execute_reply": "2025-07-30T21:25:34.820659Z"
    },
    "papermill": {
     "duration": 0.029448,
     "end_time": "2025-07-30T21:25:34.823167",
     "exception": false,
     "start_time": "2025-07-30T21:25:34.793719",
     "status": "completed"
    },
    "tags": []
   },
   "outputs": [
    {
     "name": "stdout",
     "output_type": "stream",
     "text": [
      "Dropping features: ['maxdeutsch1', 'maxdeutsch.Missing.']\n"
     ]
    }
   ],
   "source": [
    "if len(excluded_features_columns) > 0:\n",
    "    print(f\"Dropping features: {excluded_features_columns}\")\n",
    "    X_train.drop(excluded_features_columns, axis=1, inplace=True)"
   ]
  },
  {
   "cell_type": "code",
   "execution_count": 33,
   "id": "95ab8b16",
   "metadata": {
    "execution": {
     "iopub.execute_input": "2025-07-30T21:25:34.849597Z",
     "iopub.status.busy": "2025-07-30T21:25:34.849099Z",
     "iopub.status.idle": "2025-07-30T21:25:34.900932Z",
     "shell.execute_reply": "2025-07-30T21:25:34.900208Z"
    },
    "papermill": {
     "duration": 0.066054,
     "end_time": "2025-07-30T21:25:34.902232",
     "exception": false,
     "start_time": "2025-07-30T21:25:34.836178",
     "status": "completed"
    },
    "tags": []
   },
   "outputs": [
    {
     "name": "stdout",
     "output_type": "stream",
     "text": [
      "Dropping features: ['maxdeutsch1', 'maxdeutsch.Missing.']\n"
     ]
    }
   ],
   "source": [
    "if len(excluded_features_columns) > 0:\n",
    "    print(f\"Dropping features: {excluded_features_columns}\")\n",
    "    X_test.drop(excluded_features_columns, axis=1, inplace=True)"
   ]
  },
  {
   "cell_type": "code",
   "execution_count": 34,
   "id": "1853aaf5-fb9f-46cb-a2b5-8ea4ae2237e4",
   "metadata": {
    "execution": {
     "iopub.execute_input": "2025-07-30T21:25:34.929721Z",
     "iopub.status.busy": "2025-07-30T21:25:34.929386Z",
     "iopub.status.idle": "2025-07-30T21:25:34.978190Z",
     "shell.execute_reply": "2025-07-30T21:25:34.976947Z"
    },
    "papermill": {
     "duration": 0.065113,
     "end_time": "2025-07-30T21:25:34.979867",
     "exception": false,
     "start_time": "2025-07-30T21:25:34.914754",
     "status": "completed"
    },
    "tags": []
   },
   "outputs": [
    {
     "name": "stdout",
     "output_type": "stream",
     "text": [
      "Dropping features: ['maxdeutsch1', 'maxdeutsch.Missing.']\n"
     ]
    }
   ],
   "source": [
    "if len(excluded_features_columns) > 0:\n",
    "    print(f\"Dropping features: {excluded_features_columns}\")\n",
    "    X_calib.drop(excluded_features_columns, axis=1, inplace=True)"
   ]
  },
  {
   "cell_type": "code",
   "execution_count": 35,
   "id": "6727d079-03e5-481e-9d38-292a90b7a0a8",
   "metadata": {
    "execution": {
     "iopub.execute_input": "2025-07-30T21:25:35.027455Z",
     "iopub.status.busy": "2025-07-30T21:25:35.026445Z",
     "iopub.status.idle": "2025-07-30T21:25:35.032787Z",
     "shell.execute_reply": "2025-07-30T21:25:35.031504Z"
    },
    "papermill": {
     "duration": 0.032815,
     "end_time": "2025-07-30T21:25:35.034851",
     "exception": false,
     "start_time": "2025-07-30T21:25:35.002036",
     "status": "completed"
    },
    "tags": []
   },
   "outputs": [],
   "source": [
    "# SPLIT & STRATIFY DATA\n",
    "# ----------------------"
   ]
  },
  {
   "cell_type": "code",
   "execution_count": 36,
   "id": "76c4dc6d",
   "metadata": {
    "execution": {
     "iopub.execute_input": "2025-07-30T21:25:35.086168Z",
     "iopub.status.busy": "2025-07-30T21:25:35.085662Z",
     "iopub.status.idle": "2025-07-30T21:25:35.091326Z",
     "shell.execute_reply": "2025-07-30T21:25:35.090349Z"
    },
    "papermill": {
     "duration": 0.032228,
     "end_time": "2025-07-30T21:25:35.093169",
     "exception": false,
     "start_time": "2025-07-30T21:25:35.060941",
     "status": "completed"
    },
    "tags": []
   },
   "outputs": [],
   "source": [
    "# EXCLUDE CERTAIN SUBGROUPS\n",
    "# ----------------------\n",
    "\n",
    "mode = universe.get(\"exclude_subgroups\", \"keep-all\") \n",
    "# Fetches the exclude_subgroups setting from the universe dict.\n",
    "# Defaults to \"keep-all\" if the key is missing."
   ]
  },
  {
   "cell_type": "code",
   "execution_count": 37,
   "id": "21994072",
   "metadata": {
    "execution": {
     "iopub.execute_input": "2025-07-30T21:25:35.141918Z",
     "iopub.status.busy": "2025-07-30T21:25:35.141023Z",
     "iopub.status.idle": "2025-07-30T21:25:35.147789Z",
     "shell.execute_reply": "2025-07-30T21:25:35.146771Z"
    },
    "papermill": {
     "duration": 0.033366,
     "end_time": "2025-07-30T21:25:35.149714",
     "exception": false,
     "start_time": "2025-07-30T21:25:35.116348",
     "status": "completed"
    },
    "tags": []
   },
   "outputs": [],
   "source": [
    "if mode == \"keep-all\":\n",
    "    keep_mask = pd.Series(True, index=org_train.index)\n",
    "\n",
    "# org_train contains the original feature columns from features_org (in Simson)\n",
    "# features_org contains unprocessed features, for me X_train at beginning ???\n",
    "# For keep-all, creates a boolean Series (keep_mask) of all True, so no rows are removed.\n",
    "\n",
    "elif mode == \"drop-non-german\":\n",
    "    keep_mask = org_train[\"maxdeutsch1\"] == 1 # ??? what about missing values?\n",
    "\n",
    "else:\n",
    "    raise ValueError(f\"Unsupported mode for exclude_subgroups: {mode}\")\n"
   ]
  },
  {
   "cell_type": "code",
   "execution_count": 38,
   "id": "71651440",
   "metadata": {
    "execution": {
     "iopub.execute_input": "2025-07-30T21:25:35.199168Z",
     "iopub.status.busy": "2025-07-30T21:25:35.198460Z",
     "iopub.status.idle": "2025-07-30T21:25:35.206159Z",
     "shell.execute_reply": "2025-07-30T21:25:35.205120Z"
    },
    "papermill": {
     "duration": 0.033676,
     "end_time": "2025-07-30T21:25:35.208083",
     "exception": false,
     "start_time": "2025-07-30T21:25:35.174407",
     "status": "completed"
    },
    "tags": []
   },
   "outputs": [
    {
     "name": "stdout",
     "output_type": "stream",
     "text": [
      "Dropping 147 rows (14.70%) where mode='drop-non-german'\n"
     ]
    }
   ],
   "source": [
    "n_drop = (~keep_mask).sum() # Calculates how many rows are set to be dropped\n",
    "if n_drop > 0:\n",
    "    pct = n_drop / len(keep_mask) * 100\n",
    "    print(f\"Dropping {n_drop} rows ({pct:.2f}%) where mode='{mode}'\")"
   ]
  },
  {
   "cell_type": "code",
   "execution_count": 39,
   "id": "5fb8eee5",
   "metadata": {
    "execution": {
     "iopub.execute_input": "2025-07-30T21:25:35.257625Z",
     "iopub.status.busy": "2025-07-30T21:25:35.256797Z",
     "iopub.status.idle": "2025-07-30T21:25:35.264167Z",
     "shell.execute_reply": "2025-07-30T21:25:35.263138Z"
    },
    "papermill": {
     "duration": 0.034847,
     "end_time": "2025-07-30T21:25:35.266018",
     "exception": false,
     "start_time": "2025-07-30T21:25:35.231171",
     "status": "completed"
    },
    "tags": []
   },
   "outputs": [],
   "source": [
    "X_train = X_train[keep_mask]"
   ]
  },
  {
   "cell_type": "code",
   "execution_count": 40,
   "id": "b202bb3a",
   "metadata": {
    "execution": {
     "iopub.execute_input": "2025-07-30T21:25:35.315447Z",
     "iopub.status.busy": "2025-07-30T21:25:35.314972Z",
     "iopub.status.idle": "2025-07-30T21:25:35.321485Z",
     "shell.execute_reply": "2025-07-30T21:25:35.320414Z"
    },
    "papermill": {
     "duration": 0.03977,
     "end_time": "2025-07-30T21:25:35.329589",
     "exception": false,
     "start_time": "2025-07-30T21:25:35.289819",
     "status": "completed"
    },
    "tags": []
   },
   "outputs": [],
   "source": [
    "y_train = y_train[keep_mask]"
   ]
  },
  {
   "cell_type": "markdown",
   "id": "493e2ac3",
   "metadata": {
    "papermill": {
     "duration": 0.024559,
     "end_time": "2025-07-30T21:25:35.378979",
     "exception": false,
     "start_time": "2025-07-30T21:25:35.354420",
     "status": "completed"
    },
    "tags": []
   },
   "source": [
    "# Model Training"
   ]
  },
  {
   "cell_type": "code",
   "execution_count": 41,
   "id": "679e1268",
   "metadata": {
    "execution": {
     "iopub.execute_input": "2025-07-30T21:25:35.428258Z",
     "iopub.status.busy": "2025-07-30T21:25:35.427701Z",
     "iopub.status.idle": "2025-07-30T21:25:35.532550Z",
     "shell.execute_reply": "2025-07-30T21:25:35.531373Z"
    },
    "papermill": {
     "duration": 0.131563,
     "end_time": "2025-07-30T21:25:35.534566",
     "exception": false,
     "start_time": "2025-07-30T21:25:35.403003",
     "status": "completed"
    },
    "tags": []
   },
   "outputs": [],
   "source": [
    "from sklearn.linear_model import LogisticRegression\n",
    "from sklearn.ensemble import GradientBoostingClassifier, RandomForestClassifier\n",
    "\n",
    "if (universe[\"model\"] == \"logreg\"):\n",
    "    model = LogisticRegression() #penalty=\"none\") #, solver=\"newton-cg\", max_iter=1) # include random_state=19 ?\n",
    "elif (universe[\"model\"] == \"penalized_logreg\"):\n",
    "    model = LogisticRegression(penalty=\"l2\", C=1.0) #, solver=\"newton-cg\", max_iter=1)\n",
    "elif (universe[\"model\"] == \"rf\"):\n",
    "    model = RandomForestClassifier(n_estimators=100, n_jobs=-1)\n",
    "elif (universe[\"model\"] == \"gbm\"):\n",
    "    model = GradientBoostingClassifier()\n",
    "elif (universe[\"model\"] == \"elasticnet\"):\n",
    "    model = LogisticRegression(penalty = 'elasticnet', solver = 'saga', l1_ratio = 0.5, max_iter=5000) # which solver to use?\n",
    "else:\n",
    "    raise \"Unsupported universe.model\""
   ]
  },
  {
   "cell_type": "code",
   "execution_count": 42,
   "id": "0cc8f744",
   "metadata": {
    "execution": {
     "iopub.execute_input": "2025-07-30T21:25:35.584174Z",
     "iopub.status.busy": "2025-07-30T21:25:35.583781Z",
     "iopub.status.idle": "2025-07-30T21:25:35.590164Z",
     "shell.execute_reply": "2025-07-30T21:25:35.588993Z"
    },
    "papermill": {
     "duration": 0.033804,
     "end_time": "2025-07-30T21:25:35.592499",
     "exception": false,
     "start_time": "2025-07-30T21:25:35.558695",
     "status": "completed"
    },
    "tags": []
   },
   "outputs": [],
   "source": [
    "import numpy as np\n",
    "from sklearn.pipeline import Pipeline\n",
    "from sklearn.preprocessing import StandardScaler\n",
    "\n",
    "model = Pipeline([\n",
    "    #(\"continuous_processor\", continuous_processor),\n",
    "    #(\"categorical_preprocessor\", categorical_preprocessor),\n",
    "    (\"scale\", StandardScaler() if universe[\"scale\"] == \"scale\" else None), \n",
    "    (\"model\", model),\n",
    "])"
   ]
  },
  {
   "cell_type": "code",
   "execution_count": 43,
   "id": "9442c04d",
   "metadata": {
    "execution": {
     "iopub.execute_input": "2025-07-30T21:25:35.650245Z",
     "iopub.status.busy": "2025-07-30T21:25:35.649742Z",
     "iopub.status.idle": "2025-07-30T21:25:36.592368Z",
     "shell.execute_reply": "2025-07-30T21:25:36.591386Z"
    },
    "papermill": {
     "duration": 0.96875,
     "end_time": "2025-07-30T21:25:36.594215",
     "exception": false,
     "start_time": "2025-07-30T21:25:35.625465",
     "status": "completed"
    },
    "tags": []
   },
   "outputs": [
    {
     "data": {
      "text/html": [
       "<style>#sk-container-id-1 {color: black;background-color: white;}#sk-container-id-1 pre{padding: 0;}#sk-container-id-1 div.sk-toggleable {background-color: white;}#sk-container-id-1 label.sk-toggleable__label {cursor: pointer;display: block;width: 100%;margin-bottom: 0;padding: 0.3em;box-sizing: border-box;text-align: center;}#sk-container-id-1 label.sk-toggleable__label-arrow:before {content: \"▸\";float: left;margin-right: 0.25em;color: #696969;}#sk-container-id-1 label.sk-toggleable__label-arrow:hover:before {color: black;}#sk-container-id-1 div.sk-estimator:hover label.sk-toggleable__label-arrow:before {color: black;}#sk-container-id-1 div.sk-toggleable__content {max-height: 0;max-width: 0;overflow: hidden;text-align: left;background-color: #f0f8ff;}#sk-container-id-1 div.sk-toggleable__content pre {margin: 0.2em;color: black;border-radius: 0.25em;background-color: #f0f8ff;}#sk-container-id-1 input.sk-toggleable__control:checked~div.sk-toggleable__content {max-height: 200px;max-width: 100%;overflow: auto;}#sk-container-id-1 input.sk-toggleable__control:checked~label.sk-toggleable__label-arrow:before {content: \"▾\";}#sk-container-id-1 div.sk-estimator input.sk-toggleable__control:checked~label.sk-toggleable__label {background-color: #d4ebff;}#sk-container-id-1 div.sk-label input.sk-toggleable__control:checked~label.sk-toggleable__label {background-color: #d4ebff;}#sk-container-id-1 input.sk-hidden--visually {border: 0;clip: rect(1px 1px 1px 1px);clip: rect(1px, 1px, 1px, 1px);height: 1px;margin: -1px;overflow: hidden;padding: 0;position: absolute;width: 1px;}#sk-container-id-1 div.sk-estimator {font-family: monospace;background-color: #f0f8ff;border: 1px dotted black;border-radius: 0.25em;box-sizing: border-box;margin-bottom: 0.5em;}#sk-container-id-1 div.sk-estimator:hover {background-color: #d4ebff;}#sk-container-id-1 div.sk-parallel-item::after {content: \"\";width: 100%;border-bottom: 1px solid gray;flex-grow: 1;}#sk-container-id-1 div.sk-label:hover label.sk-toggleable__label {background-color: #d4ebff;}#sk-container-id-1 div.sk-serial::before {content: \"\";position: absolute;border-left: 1px solid gray;box-sizing: border-box;top: 0;bottom: 0;left: 50%;z-index: 0;}#sk-container-id-1 div.sk-serial {display: flex;flex-direction: column;align-items: center;background-color: white;padding-right: 0.2em;padding-left: 0.2em;position: relative;}#sk-container-id-1 div.sk-item {position: relative;z-index: 1;}#sk-container-id-1 div.sk-parallel {display: flex;align-items: stretch;justify-content: center;background-color: white;position: relative;}#sk-container-id-1 div.sk-item::before, #sk-container-id-1 div.sk-parallel-item::before {content: \"\";position: absolute;border-left: 1px solid gray;box-sizing: border-box;top: 0;bottom: 0;left: 50%;z-index: -1;}#sk-container-id-1 div.sk-parallel-item {display: flex;flex-direction: column;z-index: 1;position: relative;background-color: white;}#sk-container-id-1 div.sk-parallel-item:first-child::after {align-self: flex-end;width: 50%;}#sk-container-id-1 div.sk-parallel-item:last-child::after {align-self: flex-start;width: 50%;}#sk-container-id-1 div.sk-parallel-item:only-child::after {width: 0;}#sk-container-id-1 div.sk-dashed-wrapped {border: 1px dashed gray;margin: 0 0.4em 0.5em 0.4em;box-sizing: border-box;padding-bottom: 0.4em;background-color: white;}#sk-container-id-1 div.sk-label label {font-family: monospace;font-weight: bold;display: inline-block;line-height: 1.2em;}#sk-container-id-1 div.sk-label-container {text-align: center;}#sk-container-id-1 div.sk-container {/* jupyter's `normalize.less` sets `[hidden] { display: none; }` but bootstrap.min.css set `[hidden] { display: none !important; }` so we also need the `!important` here to be able to override the default hidden behavior on the sphinx rendered scikit-learn.org. See: https://github.com/scikit-learn/scikit-learn/issues/21755 */display: inline-block !important;position: relative;}#sk-container-id-1 div.sk-text-repr-fallback {display: none;}</style><div id=\"sk-container-id-1\" class=\"sk-top-container\"><div class=\"sk-text-repr-fallback\"><pre>Pipeline(steps=[(&#x27;scale&#x27;, StandardScaler()),\n",
       "                (&#x27;model&#x27;, GradientBoostingClassifier())])</pre><b>In a Jupyter environment, please rerun this cell to show the HTML representation or trust the notebook. <br />On GitHub, the HTML representation is unable to render, please try loading this page with nbviewer.org.</b></div><div class=\"sk-container\" hidden><div class=\"sk-item sk-dashed-wrapped\"><div class=\"sk-label-container\"><div class=\"sk-label sk-toggleable\"><input class=\"sk-toggleable__control sk-hidden--visually\" id=\"sk-estimator-id-1\" type=\"checkbox\" ><label for=\"sk-estimator-id-1\" class=\"sk-toggleable__label sk-toggleable__label-arrow\">Pipeline</label><div class=\"sk-toggleable__content\"><pre>Pipeline(steps=[(&#x27;scale&#x27;, StandardScaler()),\n",
       "                (&#x27;model&#x27;, GradientBoostingClassifier())])</pre></div></div></div><div class=\"sk-serial\"><div class=\"sk-item\"><div class=\"sk-estimator sk-toggleable\"><input class=\"sk-toggleable__control sk-hidden--visually\" id=\"sk-estimator-id-2\" type=\"checkbox\" ><label for=\"sk-estimator-id-2\" class=\"sk-toggleable__label sk-toggleable__label-arrow\">StandardScaler</label><div class=\"sk-toggleable__content\"><pre>StandardScaler()</pre></div></div></div><div class=\"sk-item\"><div class=\"sk-estimator sk-toggleable\"><input class=\"sk-toggleable__control sk-hidden--visually\" id=\"sk-estimator-id-3\" type=\"checkbox\" ><label for=\"sk-estimator-id-3\" class=\"sk-toggleable__label sk-toggleable__label-arrow\">GradientBoostingClassifier</label><div class=\"sk-toggleable__content\"><pre>GradientBoostingClassifier()</pre></div></div></div></div></div></div></div>"
      ],
      "text/plain": [
       "Pipeline(steps=[('scale', StandardScaler()),\n",
       "                ('model', GradientBoostingClassifier())])"
      ]
     },
     "execution_count": 43,
     "metadata": {},
     "output_type": "execute_result"
    }
   ],
   "source": [
    "model.fit(X_train, y_train.values.ravel())"
   ]
  },
  {
   "cell_type": "code",
   "execution_count": 44,
   "id": "af59f8c0",
   "metadata": {
    "execution": {
     "iopub.execute_input": "2025-07-30T21:25:36.648906Z",
     "iopub.status.busy": "2025-07-30T21:25:36.648181Z",
     "iopub.status.idle": "2025-07-30T21:25:36.654350Z",
     "shell.execute_reply": "2025-07-30T21:25:36.653313Z"
    },
    "papermill": {
     "duration": 0.035551,
     "end_time": "2025-07-30T21:25:36.656103",
     "exception": false,
     "start_time": "2025-07-30T21:25:36.620552",
     "status": "completed"
    },
    "tags": []
   },
   "outputs": [],
   "source": [
    "from fairness_multiverse.universe import predict_w_threshold"
   ]
  },
  {
   "cell_type": "code",
   "execution_count": 45,
   "id": "a7cf2e16",
   "metadata": {
    "execution": {
     "iopub.execute_input": "2025-07-30T21:25:36.696435Z",
     "iopub.status.busy": "2025-07-30T21:25:36.695876Z",
     "iopub.status.idle": "2025-07-30T21:25:37.235931Z",
     "shell.execute_reply": "2025-07-30T21:25:37.235253Z"
    },
    "papermill": {
     "duration": 0.554469,
     "end_time": "2025-07-30T21:25:37.237181",
     "exception": false,
     "start_time": "2025-07-30T21:25:36.682712",
     "status": "completed"
    },
    "tags": []
   },
   "outputs": [
    {
     "data": {
      "text/plain": [
       "0.8484226953516888"
      ]
     },
     "execution_count": 45,
     "metadata": {},
     "output_type": "execute_result"
    }
   ],
   "source": [
    "probs_test = model.predict_proba(X_test)\n",
    "\n",
    "'''\n",
    "Below code returns a boolean array (or binary 0/1 array depending on how it’s used) where each element \n",
    "is True if the probability of class 1 is greater than or equal to the threshold, and False otherwise.\n",
    "'''\n",
    "y_pred_default = predict_w_threshold(probs_test, 0.5)\n",
    "\n",
    "from sklearn.metrics import accuracy_score\n",
    "\n",
    "# Naive prediction\n",
    "accuracy_score(y_true = y_true, y_pred = y_pred_default)"
   ]
  },
  {
   "cell_type": "code",
   "execution_count": 46,
   "id": "081964c3",
   "metadata": {
    "execution": {
     "iopub.execute_input": "2025-07-30T21:25:37.263086Z",
     "iopub.status.busy": "2025-07-30T21:25:37.262153Z",
     "iopub.status.idle": "2025-07-30T21:25:37.900846Z",
     "shell.execute_reply": "2025-07-30T21:25:37.900149Z"
    },
    "papermill": {
     "duration": 0.652516,
     "end_time": "2025-07-30T21:25:37.902107",
     "exception": false,
     "start_time": "2025-07-30T21:25:37.249591",
     "status": "completed"
    },
    "tags": []
   },
   "outputs": [
    {
     "data": {
      "text/plain": [
       "array([0, 0, 0, ..., 0, 0, 0])"
      ]
     },
     "execution_count": 46,
     "metadata": {},
     "output_type": "execute_result"
    }
   ],
   "source": [
    "model.predict(X_test)"
   ]
  },
  {
   "cell_type": "markdown",
   "id": "56c9705b",
   "metadata": {
    "papermill": {
     "duration": 0.013921,
     "end_time": "2025-07-30T21:25:37.932321",
     "exception": false,
     "start_time": "2025-07-30T21:25:37.918400",
     "status": "completed"
    },
    "tags": []
   },
   "source": [
    "# Conformal Prediction"
   ]
  },
  {
   "cell_type": "code",
   "execution_count": 47,
   "id": "160ec6ff",
   "metadata": {
    "execution": {
     "iopub.execute_input": "2025-07-30T21:25:37.983085Z",
     "iopub.status.busy": "2025-07-30T21:25:37.982640Z",
     "iopub.status.idle": "2025-07-30T21:25:37.988416Z",
     "shell.execute_reply": "2025-07-30T21:25:37.987375Z"
    },
    "papermill": {
     "duration": 0.03255,
     "end_time": "2025-07-30T21:25:37.990269",
     "exception": false,
     "start_time": "2025-07-30T21:25:37.957719",
     "status": "completed"
    },
    "tags": []
   },
   "outputs": [],
   "source": [
    "# Miscoverage level for conformal prediction (10% allowed error rate => 90% target coverage)\n",
    "alpha = 0.1"
   ]
  },
  {
   "cell_type": "code",
   "execution_count": 48,
   "id": "eadf4555-3dd3-440e-8e35-f82a4ad9f855",
   "metadata": {
    "execution": {
     "iopub.execute_input": "2025-07-30T21:25:38.041786Z",
     "iopub.status.busy": "2025-07-30T21:25:38.041370Z",
     "iopub.status.idle": "2025-07-30T21:25:38.636779Z",
     "shell.execute_reply": "2025-07-30T21:25:38.635908Z"
    },
    "papermill": {
     "duration": 0.62235,
     "end_time": "2025-07-30T21:25:38.638373",
     "exception": false,
     "start_time": "2025-07-30T21:25:38.016023",
     "status": "completed"
    },
    "tags": []
   },
   "outputs": [],
   "source": [
    "probs_calib = model.predict_proba(X_calib)"
   ]
  },
  {
   "cell_type": "code",
   "execution_count": 49,
   "id": "2ed93547-6d5d-4983-9b36-1ecb300da49a",
   "metadata": {
    "execution": {
     "iopub.execute_input": "2025-07-30T21:25:38.666954Z",
     "iopub.status.busy": "2025-07-30T21:25:38.666440Z",
     "iopub.status.idle": "2025-07-30T21:25:38.671892Z",
     "shell.execute_reply": "2025-07-30T21:25:38.670899Z"
    },
    "papermill": {
     "duration": 0.020903,
     "end_time": "2025-07-30T21:25:38.673390",
     "exception": false,
     "start_time": "2025-07-30T21:25:38.652487",
     "status": "completed"
    },
    "tags": []
   },
   "outputs": [],
   "source": [
    "y_calib = y_calib.values.ravel().astype(int)"
   ]
  },
  {
   "cell_type": "code",
   "execution_count": 50,
   "id": "65d1320d-f588-4b38-9072-62af1ae97f7d",
   "metadata": {
    "execution": {
     "iopub.execute_input": "2025-07-30T21:25:38.702036Z",
     "iopub.status.busy": "2025-07-30T21:25:38.701642Z",
     "iopub.status.idle": "2025-07-30T21:25:38.708479Z",
     "shell.execute_reply": "2025-07-30T21:25:38.707452Z"
    },
    "papermill": {
     "duration": 0.022388,
     "end_time": "2025-07-30T21:25:38.710221",
     "exception": false,
     "start_time": "2025-07-30T21:25:38.687833",
     "status": "completed"
    },
    "tags": []
   },
   "outputs": [],
   "source": [
    "from fairness_multiverse.conformal import compute_nc_scores\n",
    "\n",
    "# Compute nonconformity scores on calibration set (1 - probability of true class)\n",
    "nc_scores = compute_nc_scores(probs_calib, y_calib)"
   ]
  },
  {
   "cell_type": "code",
   "execution_count": 51,
   "id": "df3b8ca3-53b7-43d5-9667-7c85da7aeda2",
   "metadata": {
    "execution": {
     "iopub.execute_input": "2025-07-30T21:25:38.764666Z",
     "iopub.status.busy": "2025-07-30T21:25:38.763822Z",
     "iopub.status.idle": "2025-07-30T21:25:38.771433Z",
     "shell.execute_reply": "2025-07-30T21:25:38.770189Z"
    },
    "papermill": {
     "duration": 0.037356,
     "end_time": "2025-07-30T21:25:38.773163",
     "exception": false,
     "start_time": "2025-07-30T21:25:38.735807",
     "status": "completed"
    },
    "tags": []
   },
   "outputs": [],
   "source": [
    "from fairness_multiverse.conformal import find_threshold\n",
    "\n",
    "# Find conformal threshold q_hat for the given alpha (split conformal method)\n",
    "q_hat = find_threshold(nc_scores, alpha)"
   ]
  },
  {
   "cell_type": "code",
   "execution_count": 52,
   "id": "4d29e6c1-0ef6-4aa4-b8fe-4fe79b0d033a",
   "metadata": {
    "execution": {
     "iopub.execute_input": "2025-07-30T21:25:38.825832Z",
     "iopub.status.busy": "2025-07-30T21:25:38.825271Z",
     "iopub.status.idle": "2025-07-30T21:25:38.833347Z",
     "shell.execute_reply": "2025-07-30T21:25:38.832419Z"
    },
    "papermill": {
     "duration": 0.036727,
     "end_time": "2025-07-30T21:25:38.834982",
     "exception": false,
     "start_time": "2025-07-30T21:25:38.798255",
     "status": "completed"
    },
    "tags": []
   },
   "outputs": [
    {
     "data": {
      "text/plain": [
       "0.758135720599874"
      ]
     },
     "execution_count": 52,
     "metadata": {},
     "output_type": "execute_result"
    }
   ],
   "source": [
    "q_hat"
   ]
  },
  {
   "cell_type": "code",
   "execution_count": 53,
   "id": "92460794-cdac-4be2-ba28-f28c0515a6fb",
   "metadata": {
    "execution": {
     "iopub.execute_input": "2025-07-30T21:25:38.886781Z",
     "iopub.status.busy": "2025-07-30T21:25:38.885641Z",
     "iopub.status.idle": "2025-07-30T21:25:40.462968Z",
     "shell.execute_reply": "2025-07-30T21:25:40.461984Z"
    },
    "papermill": {
     "duration": 1.60463,
     "end_time": "2025-07-30T21:25:40.464852",
     "exception": false,
     "start_time": "2025-07-30T21:25:38.860222",
     "status": "completed"
    },
    "tags": []
   },
   "outputs": [],
   "source": [
    "from fairness_multiverse.conformal import predict_conformal_sets\n",
    "\n",
    "# Generate prediction sets for each test example\n",
    "pred_sets = predict_conformal_sets(model, X_test, q_hat)"
   ]
  },
  {
   "cell_type": "code",
   "execution_count": 54,
   "id": "d90c9a65-e6db-4f5d-80cd-e68fb7e46829",
   "metadata": {
    "execution": {
     "iopub.execute_input": "2025-07-30T21:25:40.533431Z",
     "iopub.status.busy": "2025-07-30T21:25:40.532905Z",
     "iopub.status.idle": "2025-07-30T21:25:40.538535Z",
     "shell.execute_reply": "2025-07-30T21:25:40.537590Z"
    },
    "papermill": {
     "duration": 0.049132,
     "end_time": "2025-07-30T21:25:40.540395",
     "exception": false,
     "start_time": "2025-07-30T21:25:40.491263",
     "status": "completed"
    },
    "tags": []
   },
   "outputs": [],
   "source": [
    "y_true = y_true.squeeze()"
   ]
  },
  {
   "cell_type": "code",
   "execution_count": 55,
   "id": "3a58a54a-1e68-46b9-927a-df01f18aebc8",
   "metadata": {
    "execution": {
     "iopub.execute_input": "2025-07-30T21:25:40.593112Z",
     "iopub.status.busy": "2025-07-30T21:25:40.592060Z",
     "iopub.status.idle": "2025-07-30T21:25:41.530442Z",
     "shell.execute_reply": "2025-07-30T21:25:41.529428Z"
    },
    "papermill": {
     "duration": 0.965869,
     "end_time": "2025-07-30T21:25:41.532432",
     "exception": false,
     "start_time": "2025-07-30T21:25:40.566563",
     "status": "completed"
    },
    "tags": []
   },
   "outputs": [],
   "source": [
    "from fairness_multiverse.conformal import evaluate_sets\n",
    "\n",
    "# Evaluate coverage and average set size on test data\n",
    "metrics = evaluate_sets(pred_sets, y_true)"
   ]
  },
  {
   "cell_type": "markdown",
   "id": "2b569c12-9aaa-4c88-98c9-bbcd0cf3ebb8",
   "metadata": {
    "papermill": {
     "duration": 0.023389,
     "end_time": "2025-07-30T21:25:41.580830",
     "exception": false,
     "start_time": "2025-07-30T21:25:41.557441",
     "status": "completed"
    },
    "tags": []
   },
   "source": [
    "# CP Metrics"
   ]
  },
  {
   "cell_type": "code",
   "execution_count": 56,
   "id": "5ce0a5cb-201f-45a0-ade5-94c7f0bd6095",
   "metadata": {
    "execution": {
     "iopub.execute_input": "2025-07-30T21:25:41.631379Z",
     "iopub.status.busy": "2025-07-30T21:25:41.630929Z",
     "iopub.status.idle": "2025-07-30T21:25:41.638073Z",
     "shell.execute_reply": "2025-07-30T21:25:41.637167Z"
    },
    "papermill": {
     "duration": 0.033856,
     "end_time": "2025-07-30T21:25:41.639598",
     "exception": false,
     "start_time": "2025-07-30T21:25:41.605742",
     "status": "completed"
    },
    "tags": []
   },
   "outputs": [
    {
     "data": {
      "text/plain": [
       "{'coverage': 0.9088395942481329, 'avg_size': 1.1578642291829226}"
      ]
     },
     "execution_count": 56,
     "metadata": {},
     "output_type": "execute_result"
    }
   ],
   "source": [
    "metrics"
   ]
  },
  {
   "cell_type": "code",
   "execution_count": 57,
   "id": "9b9a838d-31c9-430b-ae14-12baee460d17",
   "metadata": {
    "execution": {
     "iopub.execute_input": "2025-07-30T21:25:41.692309Z",
     "iopub.status.busy": "2025-07-30T21:25:41.691673Z",
     "iopub.status.idle": "2025-07-30T21:25:41.698411Z",
     "shell.execute_reply": "2025-07-30T21:25:41.697456Z"
    },
    "papermill": {
     "duration": 0.033796,
     "end_time": "2025-07-30T21:25:41.699907",
     "exception": false,
     "start_time": "2025-07-30T21:25:41.666111",
     "status": "completed"
    },
    "tags": []
   },
   "outputs": [],
   "source": [
    "example_universe = universe.copy()\n",
    "universe_training_year = example_universe.get(\"training_year\")\n",
    "universe_training_size = example_universe.get(\"training_size\")\n",
    "universe_scale = example_universe.get(\"scale\")\n",
    "universe_model = example_universe.get(\"model\")\n",
    "universe_exclude_features = example_universe.get(\"exclude_features\")\n",
    "universe_exclude_subgroups = example_universe.get(\"exclude_subgroups\")"
   ]
  },
  {
   "cell_type": "code",
   "execution_count": 58,
   "id": "f4b6a8ac-9dc0-4245-8a91-5b3b5999c4f9",
   "metadata": {
    "execution": {
     "iopub.execute_input": "2025-07-30T21:25:41.752163Z",
     "iopub.status.busy": "2025-07-30T21:25:41.751602Z",
     "iopub.status.idle": "2025-07-30T21:25:41.758141Z",
     "shell.execute_reply": "2025-07-30T21:25:41.757279Z"
    },
    "papermill": {
     "duration": 0.034747,
     "end_time": "2025-07-30T21:25:41.760094",
     "exception": false,
     "start_time": "2025-07-30T21:25:41.725347",
     "status": "completed"
    },
    "tags": []
   },
   "outputs": [],
   "source": [
    "cp_metrics_dict = {\n",
    "    \"universe_id\": [universe_id],\n",
    "    \"universe_training_year\": [universe_training_year],\n",
    "    \"universe_training_size\": [universe_training_size],\n",
    "    \"universe_scale\": [universe_scale],\n",
    "    \"universe_model\": [universe_model],\n",
    "    \"universe_exclude_features\": [universe_exclude_features],\n",
    "    \"universe_exclude_subgroups\": [universe_exclude_subgroups],\n",
    "    \"q_hat\": [q_hat],\n",
    "    \"coverage\": [metrics[\"coverage\"]],\n",
    "    \"avg_size\": [metrics[\"avg_size\"]],\n",
    "}"
   ]
  },
  {
   "cell_type": "code",
   "execution_count": 59,
   "id": "908acbb1-0371-4915-85ca-3fa520d2efe2",
   "metadata": {
    "execution": {
     "iopub.execute_input": "2025-07-30T21:25:41.811747Z",
     "iopub.status.busy": "2025-07-30T21:25:41.811078Z",
     "iopub.status.idle": "2025-07-30T21:25:41.818941Z",
     "shell.execute_reply": "2025-07-30T21:25:41.817921Z"
    },
    "papermill": {
     "duration": 0.035639,
     "end_time": "2025-07-30T21:25:41.820614",
     "exception": false,
     "start_time": "2025-07-30T21:25:41.784975",
     "status": "completed"
    },
    "tags": []
   },
   "outputs": [
    {
     "data": {
      "text/plain": [
       "{'universe_id': ['7c8ce3b0f4107efd6c8da94e82cafd64'],\n",
       " 'universe_training_year': ['2014'],\n",
       " 'universe_training_size': ['1k'],\n",
       " 'universe_scale': ['scale'],\n",
       " 'universe_model': ['gbm'],\n",
       " 'universe_exclude_features': ['nationality'],\n",
       " 'universe_exclude_subgroups': ['drop-non-german'],\n",
       " 'q_hat': [0.758135720599874],\n",
       " 'coverage': [0.9088395942481329],\n",
       " 'avg_size': [1.1578642291829226]}"
      ]
     },
     "execution_count": 59,
     "metadata": {},
     "output_type": "execute_result"
    }
   ],
   "source": [
    "cp_metrics_dict"
   ]
  },
  {
   "cell_type": "code",
   "execution_count": 60,
   "id": "33007efc-14e9-4ec6-97ac-56a455c82265",
   "metadata": {
    "execution": {
     "iopub.execute_input": "2025-07-30T21:25:41.872738Z",
     "iopub.status.busy": "2025-07-30T21:25:41.871819Z",
     "iopub.status.idle": "2025-07-30T21:25:41.878513Z",
     "shell.execute_reply": "2025-07-30T21:25:41.877481Z"
    },
    "papermill": {
     "duration": 0.034518,
     "end_time": "2025-07-30T21:25:41.880024",
     "exception": false,
     "start_time": "2025-07-30T21:25:41.845506",
     "status": "completed"
    },
    "tags": []
   },
   "outputs": [],
   "source": [
    "cp_metrics_df = pd.DataFrame(cp_metrics_dict)"
   ]
  },
  {
   "cell_type": "code",
   "execution_count": 61,
   "id": "db12611b-57b2-4910-b9d0-355adfd6e7bf",
   "metadata": {
    "execution": {
     "iopub.execute_input": "2025-07-30T21:25:41.931887Z",
     "iopub.status.busy": "2025-07-30T21:25:41.931241Z",
     "iopub.status.idle": "2025-07-30T21:25:41.949384Z",
     "shell.execute_reply": "2025-07-30T21:25:41.948219Z"
    },
    "papermill": {
     "duration": 0.04572,
     "end_time": "2025-07-30T21:25:41.950837",
     "exception": false,
     "start_time": "2025-07-30T21:25:41.905117",
     "status": "completed"
    },
    "tags": []
   },
   "outputs": [
    {
     "data": {
      "text/html": [
       "<div>\n",
       "<style scoped>\n",
       "    .dataframe tbody tr th:only-of-type {\n",
       "        vertical-align: middle;\n",
       "    }\n",
       "\n",
       "    .dataframe tbody tr th {\n",
       "        vertical-align: top;\n",
       "    }\n",
       "\n",
       "    .dataframe thead th {\n",
       "        text-align: right;\n",
       "    }\n",
       "</style>\n",
       "<table border=\"1\" class=\"dataframe\">\n",
       "  <thead>\n",
       "    <tr style=\"text-align: right;\">\n",
       "      <th></th>\n",
       "      <th>universe_id</th>\n",
       "      <th>universe_training_year</th>\n",
       "      <th>universe_training_size</th>\n",
       "      <th>universe_scale</th>\n",
       "      <th>universe_model</th>\n",
       "      <th>universe_exclude_features</th>\n",
       "      <th>universe_exclude_subgroups</th>\n",
       "      <th>q_hat</th>\n",
       "      <th>coverage</th>\n",
       "      <th>avg_size</th>\n",
       "    </tr>\n",
       "  </thead>\n",
       "  <tbody>\n",
       "    <tr>\n",
       "      <th>0</th>\n",
       "      <td>7c8ce3b0f4107efd6c8da94e82cafd64</td>\n",
       "      <td>2014</td>\n",
       "      <td>1k</td>\n",
       "      <td>scale</td>\n",
       "      <td>gbm</td>\n",
       "      <td>nationality</td>\n",
       "      <td>drop-non-german</td>\n",
       "      <td>0.758136</td>\n",
       "      <td>0.90884</td>\n",
       "      <td>1.157864</td>\n",
       "    </tr>\n",
       "  </tbody>\n",
       "</table>\n",
       "</div>"
      ],
      "text/plain": [
       "                        universe_id universe_training_year  \\\n",
       "0  7c8ce3b0f4107efd6c8da94e82cafd64                   2014   \n",
       "\n",
       "  universe_training_size universe_scale universe_model  \\\n",
       "0                     1k          scale            gbm   \n",
       "\n",
       "  universe_exclude_features universe_exclude_subgroups     q_hat  coverage  \\\n",
       "0               nationality            drop-non-german  0.758136   0.90884   \n",
       "\n",
       "   avg_size  \n",
       "0  1.157864  "
      ]
     },
     "execution_count": 61,
     "metadata": {},
     "output_type": "execute_result"
    }
   ],
   "source": [
    "cp_metrics_df"
   ]
  },
  {
   "cell_type": "code",
   "execution_count": 62,
   "id": "b7fbde55-a0a1-47e4-9af6-fe4a17fa8c61",
   "metadata": {
    "execution": {
     "iopub.execute_input": "2025-07-30T21:25:42.003803Z",
     "iopub.status.busy": "2025-07-30T21:25:42.002937Z",
     "iopub.status.idle": "2025-07-30T21:25:42.008398Z",
     "shell.execute_reply": "2025-07-30T21:25:42.007301Z"
    },
    "papermill": {
     "duration": 0.034116,
     "end_time": "2025-07-30T21:25:42.009965",
     "exception": false,
     "start_time": "2025-07-30T21:25:41.975849",
     "status": "completed"
    },
    "tags": []
   },
   "outputs": [],
   "source": [
    "# Conditional Coverage & looking at subgroups"
   ]
  },
  {
   "cell_type": "code",
   "execution_count": 63,
   "id": "027ae886-68dd-4141-96c7-805a5450e1ef",
   "metadata": {
    "execution": {
     "iopub.execute_input": "2025-07-30T21:25:42.062118Z",
     "iopub.status.busy": "2025-07-30T21:25:42.061418Z",
     "iopub.status.idle": "2025-07-30T21:25:42.324099Z",
     "shell.execute_reply": "2025-07-30T21:25:42.323079Z"
    },
    "papermill": {
     "duration": 0.291011,
     "end_time": "2025-07-30T21:25:42.326015",
     "exception": false,
     "start_time": "2025-07-30T21:25:42.035004",
     "status": "completed"
    },
    "tags": []
   },
   "outputs": [],
   "source": [
    "from fairness_multiverse.conformal import build_cp_groups\n",
    "\n",
    "cp_groups_df = build_cp_groups(pred_sets, y_true, X_test.index, org_test)\n",
    "#needs universe_id and setting"
   ]
  },
  {
   "cell_type": "code",
   "execution_count": 64,
   "id": "01d5802c-663a-4d1f-9d69-e036faaffbf7",
   "metadata": {
    "execution": {
     "iopub.execute_input": "2025-07-30T21:25:42.379142Z",
     "iopub.status.busy": "2025-07-30T21:25:42.378438Z",
     "iopub.status.idle": "2025-07-30T21:25:42.383723Z",
     "shell.execute_reply": "2025-07-30T21:25:42.382820Z"
    },
    "papermill": {
     "duration": 0.033042,
     "end_time": "2025-07-30T21:25:42.385333",
     "exception": false,
     "start_time": "2025-07-30T21:25:42.352291",
     "status": "completed"
    },
    "tags": []
   },
   "outputs": [],
   "source": [
    "#delete\n",
    "#cp_groups_df"
   ]
  },
  {
   "cell_type": "code",
   "execution_count": 65,
   "id": "fa424af1-d1eb-443d-b717-2d279ada8408",
   "metadata": {
    "execution": {
     "iopub.execute_input": "2025-07-30T21:25:42.438473Z",
     "iopub.status.busy": "2025-07-30T21:25:42.437775Z",
     "iopub.status.idle": "2025-07-30T21:25:42.442835Z",
     "shell.execute_reply": "2025-07-30T21:25:42.441907Z"
    },
    "papermill": {
     "duration": 0.032713,
     "end_time": "2025-07-30T21:25:42.444529",
     "exception": false,
     "start_time": "2025-07-30T21:25:42.411816",
     "status": "completed"
    },
    "tags": []
   },
   "outputs": [],
   "source": [
    "#delete\n",
    "#percentage = (cp_groups_df['nongerman_female'] == 1).mean() * 100\n",
    "#print(percentage)\n"
   ]
  },
  {
   "cell_type": "code",
   "execution_count": 66,
   "id": "6cbdab96-b2b2-45af-ad54-d0516db2e28d",
   "metadata": {
    "execution": {
     "iopub.execute_input": "2025-07-30T21:25:42.501228Z",
     "iopub.status.busy": "2025-07-30T21:25:42.500297Z",
     "iopub.status.idle": "2025-07-30T21:25:44.557650Z",
     "shell.execute_reply": "2025-07-30T21:25:44.556907Z"
    },
    "papermill": {
     "duration": 2.088178,
     "end_time": "2025-07-30T21:25:44.559062",
     "exception": false,
     "start_time": "2025-07-30T21:25:42.470884",
     "status": "completed"
    },
    "tags": []
   },
   "outputs": [],
   "source": [
    "# Define covered = 1 if true_label is in the predicted set\n",
    "cp_groups_df['covered'] = cp_groups_df.apply(\n",
    "    lambda r: int(r['true_label'] in r['pred_set']),\n",
    "    axis=1\n",
    ")"
   ]
  },
  {
   "cell_type": "code",
   "execution_count": 67,
   "id": "338ff529-1a6b-4b87-a931-8e4788d52aad",
   "metadata": {
    "execution": {
     "iopub.execute_input": "2025-07-30T21:25:44.595909Z",
     "iopub.status.busy": "2025-07-30T21:25:44.595460Z",
     "iopub.status.idle": "2025-07-30T21:25:44.599880Z",
     "shell.execute_reply": "2025-07-30T21:25:44.599178Z"
    },
    "papermill": {
     "duration": 0.020914,
     "end_time": "2025-07-30T21:25:44.601152",
     "exception": false,
     "start_time": "2025-07-30T21:25:44.580238",
     "status": "completed"
    },
    "tags": []
   },
   "outputs": [],
   "source": [
    "#cp_groups_df"
   ]
  },
  {
   "cell_type": "code",
   "execution_count": 68,
   "id": "90032e27-66df-4540-9169-4e89cfbaa758",
   "metadata": {
    "execution": {
     "iopub.execute_input": "2025-07-30T21:25:44.630671Z",
     "iopub.status.busy": "2025-07-30T21:25:44.630295Z",
     "iopub.status.idle": "2025-07-30T21:25:44.640774Z",
     "shell.execute_reply": "2025-07-30T21:25:44.640021Z"
    },
    "papermill": {
     "duration": 0.027517,
     "end_time": "2025-07-30T21:25:44.642268",
     "exception": false,
     "start_time": "2025-07-30T21:25:44.614751",
     "status": "completed"
    },
    "tags": []
   },
   "outputs": [],
   "source": [
    "subgroups = ['frau1','nongerman','nongerman_male','nongerman_female']\n",
    "\n",
    "# Conditional coverage for subgroup==1\n",
    "cond_coverage = {\n",
    "    g: cp_groups_df.loc[cp_groups_df[g]==1, 'covered'].mean()\n",
    "    for g in subgroups\n",
    "}"
   ]
  },
  {
   "cell_type": "code",
   "execution_count": 69,
   "id": "1e348fb1-b9c3-45bc-ba23-f016827a7e0d",
   "metadata": {
    "execution": {
     "iopub.execute_input": "2025-07-30T21:25:44.671051Z",
     "iopub.status.busy": "2025-07-30T21:25:44.670537Z",
     "iopub.status.idle": "2025-07-30T21:25:44.676720Z",
     "shell.execute_reply": "2025-07-30T21:25:44.675850Z"
    },
    "papermill": {
     "duration": 0.020928,
     "end_time": "2025-07-30T21:25:44.678061",
     "exception": false,
     "start_time": "2025-07-30T21:25:44.657133",
     "status": "completed"
    },
    "tags": []
   },
   "outputs": [
    {
     "data": {
      "text/plain": [
       "{'frau1': 0.9075077503706699,\n",
       " 'nongerman': 0.9075955762645259,\n",
       " 'nongerman_male': 0.9238043771953526,\n",
       " 'nongerman_female': 0.8807749627421758}"
      ]
     },
     "execution_count": 69,
     "metadata": {},
     "output_type": "execute_result"
    }
   ],
   "source": [
    "cond_coverage"
   ]
  },
  {
   "cell_type": "code",
   "execution_count": 70,
   "id": "f5093324-c3dd-4d63-bc4c-8d945e5c8bbb",
   "metadata": {
    "execution": {
     "iopub.execute_input": "2025-07-30T21:25:44.731973Z",
     "iopub.status.busy": "2025-07-30T21:25:44.731560Z",
     "iopub.status.idle": "2025-07-30T21:25:44.738354Z",
     "shell.execute_reply": "2025-07-30T21:25:44.737406Z"
    },
    "papermill": {
     "duration": 0.035383,
     "end_time": "2025-07-30T21:25:44.739601",
     "exception": false,
     "start_time": "2025-07-30T21:25:44.704218",
     "status": "completed"
    },
    "tags": []
   },
   "outputs": [],
   "source": [
    "for subgroup, cov in cond_coverage.items():\n",
    "    cp_metrics_df[f\"cov_{subgroup}\"] = cov"
   ]
  },
  {
   "cell_type": "code",
   "execution_count": 71,
   "id": "6e872e10-dbe5-49e8-b554-5030c98ff75d",
   "metadata": {
    "execution": {
     "iopub.execute_input": "2025-07-30T21:25:44.771576Z",
     "iopub.status.busy": "2025-07-30T21:25:44.771000Z",
     "iopub.status.idle": "2025-07-30T21:25:44.785379Z",
     "shell.execute_reply": "2025-07-30T21:25:44.784365Z"
    },
    "papermill": {
     "duration": 0.032559,
     "end_time": "2025-07-30T21:25:44.786848",
     "exception": false,
     "start_time": "2025-07-30T21:25:44.754289",
     "status": "completed"
    },
    "tags": []
   },
   "outputs": [
    {
     "data": {
      "text/html": [
       "<div>\n",
       "<style scoped>\n",
       "    .dataframe tbody tr th:only-of-type {\n",
       "        vertical-align: middle;\n",
       "    }\n",
       "\n",
       "    .dataframe tbody tr th {\n",
       "        vertical-align: top;\n",
       "    }\n",
       "\n",
       "    .dataframe thead th {\n",
       "        text-align: right;\n",
       "    }\n",
       "</style>\n",
       "<table border=\"1\" class=\"dataframe\">\n",
       "  <thead>\n",
       "    <tr style=\"text-align: right;\">\n",
       "      <th></th>\n",
       "      <th>universe_id</th>\n",
       "      <th>universe_training_year</th>\n",
       "      <th>universe_training_size</th>\n",
       "      <th>universe_scale</th>\n",
       "      <th>universe_model</th>\n",
       "      <th>universe_exclude_features</th>\n",
       "      <th>universe_exclude_subgroups</th>\n",
       "      <th>q_hat</th>\n",
       "      <th>coverage</th>\n",
       "      <th>avg_size</th>\n",
       "      <th>cov_frau1</th>\n",
       "      <th>cov_nongerman</th>\n",
       "      <th>cov_nongerman_male</th>\n",
       "      <th>cov_nongerman_female</th>\n",
       "    </tr>\n",
       "  </thead>\n",
       "  <tbody>\n",
       "    <tr>\n",
       "      <th>0</th>\n",
       "      <td>7c8ce3b0f4107efd6c8da94e82cafd64</td>\n",
       "      <td>2014</td>\n",
       "      <td>1k</td>\n",
       "      <td>scale</td>\n",
       "      <td>gbm</td>\n",
       "      <td>nationality</td>\n",
       "      <td>drop-non-german</td>\n",
       "      <td>0.758136</td>\n",
       "      <td>0.90884</td>\n",
       "      <td>1.157864</td>\n",
       "      <td>0.907508</td>\n",
       "      <td>0.907596</td>\n",
       "      <td>0.923804</td>\n",
       "      <td>0.880775</td>\n",
       "    </tr>\n",
       "  </tbody>\n",
       "</table>\n",
       "</div>"
      ],
      "text/plain": [
       "                        universe_id universe_training_year  \\\n",
       "0  7c8ce3b0f4107efd6c8da94e82cafd64                   2014   \n",
       "\n",
       "  universe_training_size universe_scale universe_model  \\\n",
       "0                     1k          scale            gbm   \n",
       "\n",
       "  universe_exclude_features universe_exclude_subgroups     q_hat  coverage  \\\n",
       "0               nationality            drop-non-german  0.758136   0.90884   \n",
       "\n",
       "   avg_size  cov_frau1  cov_nongerman  cov_nongerman_male  \\\n",
       "0  1.157864   0.907508       0.907596            0.923804   \n",
       "\n",
       "   cov_nongerman_female  \n",
       "0              0.880775  "
      ]
     },
     "execution_count": 71,
     "metadata": {},
     "output_type": "execute_result"
    }
   ],
   "source": [
    "cp_metrics_df"
   ]
  },
  {
   "cell_type": "markdown",
   "id": "33774451",
   "metadata": {
    "papermill": {
     "duration": 0.014064,
     "end_time": "2025-07-30T21:25:44.815904",
     "exception": false,
     "start_time": "2025-07-30T21:25:44.801840",
     "status": "completed"
    },
    "tags": []
   },
   "source": [
    "# (Fairness) Metrics"
   ]
  },
  {
   "cell_type": "code",
   "execution_count": 72,
   "id": "debc5d62",
   "metadata": {
    "execution": {
     "iopub.execute_input": "2025-07-30T21:25:44.845718Z",
     "iopub.status.busy": "2025-07-30T21:25:44.845190Z",
     "iopub.status.idle": "2025-07-30T21:25:44.860055Z",
     "shell.execute_reply": "2025-07-30T21:25:44.859318Z"
    },
    "papermill": {
     "duration": 0.031501,
     "end_time": "2025-07-30T21:25:44.861501",
     "exception": false,
     "start_time": "2025-07-30T21:25:44.830000",
     "status": "completed"
    },
    "tags": []
   },
   "outputs": [],
   "source": [
    "# do I need to include maxdeutsch1.missing?\n",
    "\n",
    "import numpy as np\n",
    "\n",
    "colname_to_bin = \"maxdeutsch1\"\n",
    "majority_value = org_train[colname_to_bin].mode()[0]\n",
    "\n",
    "org_test[\"majmin\"] = np.where(org_test[colname_to_bin] == majority_value, \"majority\", \"minority\")"
   ]
  },
  {
   "cell_type": "code",
   "execution_count": 73,
   "id": "06a50de5",
   "metadata": {
    "execution": {
     "iopub.execute_input": "2025-07-30T21:25:44.891387Z",
     "iopub.status.busy": "2025-07-30T21:25:44.890891Z",
     "iopub.status.idle": "2025-07-30T21:25:47.350588Z",
     "shell.execute_reply": "2025-07-30T21:25:47.349677Z"
    },
    "papermill": {
     "duration": 2.476596,
     "end_time": "2025-07-30T21:25:47.352447",
     "exception": false,
     "start_time": "2025-07-30T21:25:44.875851",
     "status": "completed"
    },
    "tags": []
   },
   "outputs": [],
   "source": [
    "example_universe = universe.copy()\n",
    "example_universe[\"cutoff\"] = example_universe[\"cutoff\"][0]\n",
    "example_universe[\"eval_fairness_grouping\"] = example_universe[\"eval_fairness_grouping\"][0]\n",
    "fairness_dict, metric_frame = universe_analysis.compute_metrics(\n",
    "    example_universe,\n",
    "    y_pred_prob=probs_test,\n",
    "    y_test=y_true,\n",
    "    org_test=org_test,\n",
    ")"
   ]
  },
  {
   "cell_type": "markdown",
   "id": "f95d4e02",
   "metadata": {
    "papermill": {
     "duration": 0.027212,
     "end_time": "2025-07-30T21:25:47.409523",
     "exception": false,
     "start_time": "2025-07-30T21:25:47.382311",
     "status": "completed"
    },
    "tags": []
   },
   "source": [
    "# Overall"
   ]
  },
  {
   "cell_type": "markdown",
   "id": "bdee4871",
   "metadata": {
    "papermill": {
     "duration": 0.027546,
     "end_time": "2025-07-30T21:25:47.461438",
     "exception": false,
     "start_time": "2025-07-30T21:25:47.433892",
     "status": "completed"
    },
    "tags": []
   },
   "source": [
    "Fairness\n",
    "Main fairness target: Equalized Odds. Seems to be a better fit than equal opportunity, since we're not only interested in Y = 1. Seems to be a better fit than demographic parity, since we also care about accuracy, not just equal distribution of preds.\n",
    "\n",
    "Pick column for computation of fairness metrics\n",
    "\n",
    "Performance\n",
    "Overall performance measures, most interesting in relation to the measures split by group below"
   ]
  },
  {
   "cell_type": "code",
   "execution_count": 74,
   "id": "c4e067c6",
   "metadata": {
    "execution": {
     "iopub.execute_input": "2025-07-30T21:25:47.517214Z",
     "iopub.status.busy": "2025-07-30T21:25:47.516271Z",
     "iopub.status.idle": "2025-07-30T21:25:47.525994Z",
     "shell.execute_reply": "2025-07-30T21:25:47.524915Z"
    },
    "papermill": {
     "duration": 0.040788,
     "end_time": "2025-07-30T21:25:47.527581",
     "exception": false,
     "start_time": "2025-07-30T21:25:47.486793",
     "status": "completed"
    },
    "tags": []
   },
   "outputs": [
    {
     "data": {
      "text/plain": [
       "accuracy                   0.219496\n",
       "balanced accuracy          0.540610\n",
       "f1                         0.242243\n",
       "precision                  0.138352\n",
       "false positive rate        0.891320\n",
       "false negative rate        0.027459\n",
       "selection rate             0.901739\n",
       "count                  89710.000000\n",
       "dtype: float64"
      ]
     },
     "execution_count": 74,
     "metadata": {},
     "output_type": "execute_result"
    }
   ],
   "source": [
    "metric_frame.overall"
   ]
  },
  {
   "cell_type": "markdown",
   "id": "e968fe9d",
   "metadata": {
    "papermill": {
     "duration": 0.025876,
     "end_time": "2025-07-30T21:25:47.579679",
     "exception": false,
     "start_time": "2025-07-30T21:25:47.553803",
     "status": "completed"
    },
    "tags": []
   },
   "source": [
    "By Group"
   ]
  },
  {
   "cell_type": "code",
   "execution_count": 75,
   "id": "ec325bce",
   "metadata": {
    "execution": {
     "iopub.execute_input": "2025-07-30T21:25:47.638729Z",
     "iopub.status.busy": "2025-07-30T21:25:47.637551Z",
     "iopub.status.idle": "2025-07-30T21:25:47.655363Z",
     "shell.execute_reply": "2025-07-30T21:25:47.654248Z"
    },
    "papermill": {
     "duration": 0.047594,
     "end_time": "2025-07-30T21:25:47.656885",
     "exception": false,
     "start_time": "2025-07-30T21:25:47.609291",
     "status": "completed"
    },
    "tags": []
   },
   "outputs": [
    {
     "data": {
      "text/html": [
       "<div>\n",
       "<style scoped>\n",
       "    .dataframe tbody tr th:only-of-type {\n",
       "        vertical-align: middle;\n",
       "    }\n",
       "\n",
       "    .dataframe tbody tr th {\n",
       "        vertical-align: top;\n",
       "    }\n",
       "\n",
       "    .dataframe thead th {\n",
       "        text-align: right;\n",
       "    }\n",
       "</style>\n",
       "<table border=\"1\" class=\"dataframe\">\n",
       "  <thead>\n",
       "    <tr style=\"text-align: right;\">\n",
       "      <th></th>\n",
       "      <th>accuracy</th>\n",
       "      <th>balanced accuracy</th>\n",
       "      <th>f1</th>\n",
       "      <th>precision</th>\n",
       "      <th>false positive rate</th>\n",
       "      <th>false negative rate</th>\n",
       "      <th>selection rate</th>\n",
       "      <th>count</th>\n",
       "    </tr>\n",
       "    <tr>\n",
       "      <th>majmin</th>\n",
       "      <th></th>\n",
       "      <th></th>\n",
       "      <th></th>\n",
       "      <th></th>\n",
       "      <th></th>\n",
       "      <th></th>\n",
       "      <th></th>\n",
       "      <th></th>\n",
       "    </tr>\n",
       "  </thead>\n",
       "  <tbody>\n",
       "    <tr>\n",
       "      <th>majority</th>\n",
       "      <td>0.238962</td>\n",
       "      <td>0.548466</td>\n",
       "      <td>0.251802</td>\n",
       "      <td>0.144698</td>\n",
       "      <td>0.872214</td>\n",
       "      <td>0.030853</td>\n",
       "      <td>0.885022</td>\n",
       "      <td>69170.0</td>\n",
       "    </tr>\n",
       "    <tr>\n",
       "      <th>minority</th>\n",
       "      <td>0.153944</td>\n",
       "      <td>0.515603</td>\n",
       "      <td>0.211739</td>\n",
       "      <td>0.118610</td>\n",
       "      <td>0.954435</td>\n",
       "      <td>0.014358</td>\n",
       "      <td>0.958033</td>\n",
       "      <td>20540.0</td>\n",
       "    </tr>\n",
       "  </tbody>\n",
       "</table>\n",
       "</div>"
      ],
      "text/plain": [
       "          accuracy  balanced accuracy        f1  precision  \\\n",
       "majmin                                                       \n",
       "majority  0.238962           0.548466  0.251802   0.144698   \n",
       "minority  0.153944           0.515603  0.211739   0.118610   \n",
       "\n",
       "          false positive rate  false negative rate  selection rate    count  \n",
       "majmin                                                                       \n",
       "majority             0.872214             0.030853        0.885022  69170.0  \n",
       "minority             0.954435             0.014358        0.958033  20540.0  "
      ]
     },
     "execution_count": 75,
     "metadata": {},
     "output_type": "execute_result"
    }
   ],
   "source": [
    "metric_frame.by_group"
   ]
  },
  {
   "cell_type": "code",
   "execution_count": 76,
   "id": "a9ddbe63",
   "metadata": {
    "execution": {
     "iopub.execute_input": "2025-07-30T21:25:47.712540Z",
     "iopub.status.busy": "2025-07-30T21:25:47.712131Z",
     "iopub.status.idle": "2025-07-30T21:25:50.246224Z",
     "shell.execute_reply": "2025-07-30T21:25:50.245126Z"
    },
    "papermill": {
     "duration": 2.564837,
     "end_time": "2025-07-30T21:25:50.248100",
     "exception": false,
     "start_time": "2025-07-30T21:25:47.683263",
     "status": "completed"
    },
    "tags": []
   },
   "outputs": [
    {
     "data": {
      "text/plain": [
       "array([[<Axes: title={'center': 'accuracy'}, xlabel='majmin'>,\n",
       "        <Axes: title={'center': 'balanced accuracy'}, xlabel='majmin'>,\n",
       "        <Axes: title={'center': 'f1'}, xlabel='majmin'>],\n",
       "       [<Axes: title={'center': 'precision'}, xlabel='majmin'>,\n",
       "        <Axes: title={'center': 'false positive rate'}, xlabel='majmin'>,\n",
       "        <Axes: title={'center': 'false negative rate'}, xlabel='majmin'>],\n",
       "       [<Axes: title={'center': 'selection rate'}, xlabel='majmin'>,\n",
       "        <Axes: title={'center': 'count'}, xlabel='majmin'>,\n",
       "        <Axes: xlabel='majmin'>]], dtype=object)"
      ]
     },
     "execution_count": 76,
     "metadata": {},
     "output_type": "execute_result"
    },
    {
     "data": {
      "image/png": "[encoded data removed]",
      "text/plain": [
       "<Figure size 1200x800 with 9 Axes>"
      ]
     },
     "metadata": {},
     "output_type": "display_data"
    }
   ],
   "source": [
    "# In a graphic\n",
    "metric_frame.by_group.plot.bar(\n",
    "    subplots=True,\n",
    "    layout=[3, 3],\n",
    "    legend=False,\n",
    "    figsize=[12, 8],\n",
    "    title=\"Show all metrics\",\n",
    ")"
   ]
  },
  {
   "cell_type": "markdown",
   "id": "f57a0bac",
   "metadata": {
    "papermill": {
     "duration": 0.030432,
     "end_time": "2025-07-30T21:25:50.306357",
     "exception": false,
     "start_time": "2025-07-30T21:25:50.275925",
     "status": "completed"
    },
    "tags": []
   },
   "source": [
    "# Final Output"
   ]
  },
  {
   "cell_type": "code",
   "execution_count": 77,
   "id": "96d280a3",
   "metadata": {
    "execution": {
     "iopub.execute_input": "2025-07-30T21:25:50.369500Z",
     "iopub.status.busy": "2025-07-30T21:25:50.368522Z",
     "iopub.status.idle": "2025-07-30T21:25:50.377154Z",
     "shell.execute_reply": "2025-07-30T21:25:50.376150Z"
    },
    "papermill": {
     "duration": 0.044605,
     "end_time": "2025-07-30T21:25:50.378743",
     "exception": false,
     "start_time": "2025-07-30T21:25:50.334138",
     "status": "completed"
    },
    "tags": []
   },
   "outputs": [
    {
     "data": {
      "text/plain": [
       "4"
      ]
     },
     "execution_count": 77,
     "metadata": {},
     "output_type": "execute_result"
    }
   ],
   "source": [
    "sub_universes = universe_analysis.generate_sub_universes()\n",
    "len(sub_universes)"
   ]
  },
  {
   "cell_type": "code",
   "execution_count": 78,
   "id": "92adf7ba",
   "metadata": {
    "execution": {
     "iopub.execute_input": "2025-07-30T21:25:50.440167Z",
     "iopub.status.busy": "2025-07-30T21:25:50.439563Z",
     "iopub.status.idle": "2025-07-30T21:25:50.445972Z",
     "shell.execute_reply": "2025-07-30T21:25:50.445105Z"
    },
    "papermill": {
     "duration": 0.040643,
     "end_time": "2025-07-30T21:25:50.447447",
     "exception": false,
     "start_time": "2025-07-30T21:25:50.406804",
     "status": "completed"
    },
    "tags": []
   },
   "outputs": [],
   "source": [
    "def filter_sub_universe_data(sub_universe, org_test):\n",
    "    # Keep all rows — no filtering\n",
    "    keep_rows_mask = np.ones(org_test.shape[0], dtype=bool)\n",
    "\n",
    "    print(f\"[INFO] Keeping all rows: {keep_rows_mask.sum()} rows retained.\")\n",
    "    return keep_rows_mask"
   ]
  },
  {
   "cell_type": "code",
   "execution_count": 79,
   "id": "4a759155",
   "metadata": {
    "execution": {
     "iopub.execute_input": "2025-07-30T21:25:50.509869Z",
     "iopub.status.busy": "2025-07-30T21:25:50.508940Z",
     "iopub.status.idle": "2025-07-30T21:26:00.770125Z",
     "shell.execute_reply": "2025-07-30T21:26:00.769065Z"
    },
    "papermill": {
     "duration": 10.293657,
     "end_time": "2025-07-30T21:26:00.771802",
     "exception": false,
     "start_time": "2025-07-30T21:25:50.478145",
     "status": "completed"
    },
    "tags": []
   },
   "outputs": [
    {
     "name": "stdout",
     "output_type": "stream",
     "text": [
      "Stopping execution_time clock.\n",
      "[INFO] Keeping all rows: 89710 rows retained.\n"
     ]
    },
    {
     "name": "stdout",
     "output_type": "stream",
     "text": [
      "[INFO] Keeping all rows: 89710 rows retained.\n"
     ]
    },
    {
     "name": "stdout",
     "output_type": "stream",
     "text": [
      "[INFO] Keeping all rows: 89710 rows retained.\n"
     ]
    },
    {
     "name": "stdout",
     "output_type": "stream",
     "text": [
      "[INFO] Keeping all rows: 89710 rows retained.\n"
     ]
    },
    {
     "data": {
      "text/html": [
       "<div>\n",
       "<style scoped>\n",
       "    .dataframe tbody tr th:only-of-type {\n",
       "        vertical-align: middle;\n",
       "    }\n",
       "\n",
       "    .dataframe tbody tr th {\n",
       "        vertical-align: top;\n",
       "    }\n",
       "\n",
       "    .dataframe thead th {\n",
       "        text-align: right;\n",
       "    }\n",
       "</style>\n",
       "<table border=\"1\" class=\"dataframe\">\n",
       "  <thead>\n",
       "    <tr style=\"text-align: right;\">\n",
       "      <th></th>\n",
       "      <th>run_no</th>\n",
       "      <th>universe_id</th>\n",
       "      <th>universe_settings</th>\n",
       "      <th>execution_time</th>\n",
       "      <th>test_size_n</th>\n",
       "      <th>test_size_frac</th>\n",
       "      <th>fair_main_equalized_odds_difference</th>\n",
       "      <th>fair_main_equalized_odds_ratio</th>\n",
       "      <th>fair_main_demographic_parity_difference</th>\n",
       "      <th>fair_main_demographic_parity_ratio</th>\n",
       "      <th>...</th>\n",
       "      <th>perf_grp_precision_0</th>\n",
       "      <th>perf_grp_precision_1</th>\n",
       "      <th>perf_grp_false positive rate_0</th>\n",
       "      <th>perf_grp_false positive rate_1</th>\n",
       "      <th>perf_grp_false negative rate_0</th>\n",
       "      <th>perf_grp_false negative rate_1</th>\n",
       "      <th>perf_grp_selection rate_0</th>\n",
       "      <th>perf_grp_selection rate_1</th>\n",
       "      <th>perf_grp_count_0</th>\n",
       "      <th>perf_grp_count_1</th>\n",
       "    </tr>\n",
       "  </thead>\n",
       "  <tbody>\n",
       "    <tr>\n",
       "      <th>0</th>\n",
       "      <td>14</td>\n",
       "      <td>7c8ce3b0f4107efd6c8da94e82cafd64</td>\n",
       "      <td>{\"cutoff\": \"quantile_0.1\", \"eval_fairness_grou...</td>\n",
       "      <td>30.415051</td>\n",
       "      <td>89710</td>\n",
       "      <td>1.0</td>\n",
       "      <td>0.082222</td>\n",
       "      <td>0.913853</td>\n",
       "      <td>0.073011</td>\n",
       "      <td>0.923791</td>\n",
       "      <td>...</td>\n",
       "      <td>NaN</td>\n",
       "      <td>NaN</td>\n",
       "      <td>NaN</td>\n",
       "      <td>NaN</td>\n",
       "      <td>NaN</td>\n",
       "      <td>NaN</td>\n",
       "      <td>NaN</td>\n",
       "      <td>NaN</td>\n",
       "      <td>NaN</td>\n",
       "      <td>NaN</td>\n",
       "    </tr>\n",
       "    <tr>\n",
       "      <th>0</th>\n",
       "      <td>14</td>\n",
       "      <td>7c8ce3b0f4107efd6c8da94e82cafd64</td>\n",
       "      <td>{\"cutoff\": \"quantile_0.1\", \"eval_fairness_grou...</td>\n",
       "      <td>30.415051</td>\n",
       "      <td>89710</td>\n",
       "      <td>1.0</td>\n",
       "      <td>0.082222</td>\n",
       "      <td>0.913853</td>\n",
       "      <td>0.073011</td>\n",
       "      <td>0.923791</td>\n",
       "      <td>...</td>\n",
       "      <td>0.118610</td>\n",
       "      <td>0.144698</td>\n",
       "      <td>0.954435</td>\n",
       "      <td>0.872214</td>\n",
       "      <td>0.014358</td>\n",
       "      <td>0.030853</td>\n",
       "      <td>0.958033</td>\n",
       "      <td>0.885022</td>\n",
       "      <td>20540.0</td>\n",
       "      <td>69170.0</td>\n",
       "    </tr>\n",
       "    <tr>\n",
       "      <th>0</th>\n",
       "      <td>14</td>\n",
       "      <td>7c8ce3b0f4107efd6c8da94e82cafd64</td>\n",
       "      <td>{\"cutoff\": \"quantile_0.25\", \"eval_fairness_gro...</td>\n",
       "      <td>30.415051</td>\n",
       "      <td>89710</td>\n",
       "      <td>1.0</td>\n",
       "      <td>0.178760</td>\n",
       "      <td>0.792922</td>\n",
       "      <td>0.159506</td>\n",
       "      <td>0.817286</td>\n",
       "      <td>...</td>\n",
       "      <td>NaN</td>\n",
       "      <td>NaN</td>\n",
       "      <td>NaN</td>\n",
       "      <td>NaN</td>\n",
       "      <td>NaN</td>\n",
       "      <td>NaN</td>\n",
       "      <td>NaN</td>\n",
       "      <td>NaN</td>\n",
       "      <td>NaN</td>\n",
       "      <td>NaN</td>\n",
       "    </tr>\n",
       "    <tr>\n",
       "      <th>0</th>\n",
       "      <td>14</td>\n",
       "      <td>7c8ce3b0f4107efd6c8da94e82cafd64</td>\n",
       "      <td>{\"cutoff\": \"quantile_0.25\", \"eval_fairness_gro...</td>\n",
       "      <td>30.415051</td>\n",
       "      <td>89710</td>\n",
       "      <td>1.0</td>\n",
       "      <td>0.178760</td>\n",
       "      <td>0.792922</td>\n",
       "      <td>0.159506</td>\n",
       "      <td>0.817286</td>\n",
       "      <td>...</td>\n",
       "      <td>0.125146</td>\n",
       "      <td>0.167393</td>\n",
       "      <td>0.863251</td>\n",
       "      <td>0.684491</td>\n",
       "      <td>0.052365</td>\n",
       "      <td>0.096171</td>\n",
       "      <td>0.872980</td>\n",
       "      <td>0.713474</td>\n",
       "      <td>20540.0</td>\n",
       "      <td>69170.0</td>\n",
       "    </tr>\n",
       "  </tbody>\n",
       "</table>\n",
       "<p>4 rows × 50 columns</p>\n",
       "</div>"
      ],
      "text/plain": [
       "  run_no                       universe_id  \\\n",
       "0     14  7c8ce3b0f4107efd6c8da94e82cafd64   \n",
       "0     14  7c8ce3b0f4107efd6c8da94e82cafd64   \n",
       "0     14  7c8ce3b0f4107efd6c8da94e82cafd64   \n",
       "0     14  7c8ce3b0f4107efd6c8da94e82cafd64   \n",
       "\n",
       "                                   universe_settings  execution_time  \\\n",
       "0  {\"cutoff\": \"quantile_0.1\", \"eval_fairness_grou...       30.415051   \n",
       "0  {\"cutoff\": \"quantile_0.1\", \"eval_fairness_grou...       30.415051   \n",
       "0  {\"cutoff\": \"quantile_0.25\", \"eval_fairness_gro...       30.415051   \n",
       "0  {\"cutoff\": \"quantile_0.25\", \"eval_fairness_gro...       30.415051   \n",
       "\n",
       "   test_size_n  test_size_frac  fair_main_equalized_odds_difference  \\\n",
       "0        89710             1.0                             0.082222   \n",
       "0        89710             1.0                             0.082222   \n",
       "0        89710             1.0                             0.178760   \n",
       "0        89710             1.0                             0.178760   \n",
       "\n",
       "   fair_main_equalized_odds_ratio  fair_main_demographic_parity_difference  \\\n",
       "0                        0.913853                                 0.073011   \n",
       "0                        0.913853                                 0.073011   \n",
       "0                        0.792922                                 0.159506   \n",
       "0                        0.792922                                 0.159506   \n",
       "\n",
       "   fair_main_demographic_parity_ratio  ...  perf_grp_precision_0  \\\n",
       "0                            0.923791  ...                   NaN   \n",
       "0                            0.923791  ...              0.118610   \n",
       "0                            0.817286  ...                   NaN   \n",
       "0                            0.817286  ...              0.125146   \n",
       "\n",
       "   perf_grp_precision_1  perf_grp_false positive rate_0  \\\n",
       "0                   NaN                             NaN   \n",
       "0              0.144698                        0.954435   \n",
       "0                   NaN                             NaN   \n",
       "0              0.167393                        0.863251   \n",
       "\n",
       "   perf_grp_false positive rate_1  perf_grp_false negative rate_0  \\\n",
       "0                             NaN                             NaN   \n",
       "0                        0.872214                        0.014358   \n",
       "0                             NaN                             NaN   \n",
       "0                        0.684491                        0.052365   \n",
       "\n",
       "   perf_grp_false negative rate_1  perf_grp_selection rate_0  \\\n",
       "0                             NaN                        NaN   \n",
       "0                        0.030853                   0.958033   \n",
       "0                             NaN                        NaN   \n",
       "0                        0.096171                   0.872980   \n",
       "\n",
       "   perf_grp_selection rate_1  perf_grp_count_0  perf_grp_count_1  \n",
       "0                        NaN               NaN               NaN  \n",
       "0                   0.885022           20540.0           69170.0  \n",
       "0                        NaN               NaN               NaN  \n",
       "0                   0.713474           20540.0           69170.0  \n",
       "\n",
       "[4 rows x 50 columns]"
      ]
     },
     "execution_count": 79,
     "metadata": {},
     "output_type": "execute_result"
    }
   ],
   "source": [
    "final_output = universe_analysis.generate_final_output(\n",
    "    y_pred_prob=probs_test,\n",
    "    y_test=y_true,\n",
    "    org_test=org_test,\n",
    "    filter_data=filter_sub_universe_data,\n",
    "    cp_metrics_df=cp_metrics_df,\n",
    "    save=True,\n",
    ")\n",
    "final_output"
   ]
  },
  {
   "cell_type": "code",
   "execution_count": null,
   "id": "721ff514-cb11-46f8-b6fc-50392f74b5cb",
   "metadata": {
    "papermill": {
     "duration": 0.032112,
     "end_time": "2025-07-30T21:26:00.836407",
     "exception": false,
     "start_time": "2025-07-30T21:26:00.804295",
     "status": "completed"
    },
    "tags": []
   },
   "outputs": [],
   "source": []
  }
 ],
 "metadata": {
  "celltoolbar": "Tags",
  "kernelspec": {
   "display_name": "Python (CMA Fairness)",
   "language": "python",
   "name": "cma_fair_env"
  },
  "language_info": {
   "codemirror_mode": {
    "name": "ipython",
    "version": 3
   },
   "file_extension": ".py",
   "mimetype": "text/x-python",
   "name": "python",
   "nbconvert_exporter": "python",
   "pygments_lexer": "ipython3",
   "version": "3.10.12"
  },
  "papermill": {
   "default_parameters": {},
   "duration": 45.054558,
   "end_time": "2025-07-30T21:26:01.685694",
   "environment_variables": {},
   "exception": null,
   "input_path": "universe_analysis.ipynb",
   "output_path": "output/runs/14/notebooks/m_14-7c8ce3b0f4107efd6c8da94e82cafd64.ipynb",
   "parameters": {
    "output_dir": "output",
    "run_no": "14",
    "seed": "2023",
    "universe": "{\"cutoff\": [\"quantile_0.1\", \"quantile_0.25\"], \"eval_fairness_grouping\": [\"majority-minority\", \"nationality-all\"], \"exclude_features\": \"nationality\", \"exclude_subgroups\": \"drop-non-german\", \"model\": \"gbm\", \"scale\": \"scale\", \"training_size\": \"1k\", \"training_year\": \"2014\"}",
    "universe_id": "7c8ce3b0f4107efd6c8da94e82cafd64"
   },
   "start_time": "2025-07-30T21:25:16.631136",
   "version": "2.6.0"
  }
 },
 "nbformat": 4,
 "nbformat_minor": 5
}