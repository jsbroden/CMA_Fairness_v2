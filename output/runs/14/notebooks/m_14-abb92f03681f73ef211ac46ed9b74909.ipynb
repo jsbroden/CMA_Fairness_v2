{
 "cells": [
  {
   "cell_type": "code",
   "execution_count": 1,
   "id": "f159f837-637b-42ba-96b5-ec9a68c44524",
   "metadata": {
    "execution": {
     "iopub.execute_input": "2025-07-30T21:26:55.356078Z",
     "iopub.status.busy": "2025-07-30T21:26:55.355359Z",
     "iopub.status.idle": "2025-07-30T21:26:55.368666Z",
     "shell.execute_reply": "2025-07-30T21:26:55.367546Z"
    },
    "papermill": {
     "duration": 0.035539,
     "end_time": "2025-07-30T21:26:55.370368",
     "exception": false,
     "start_time": "2025-07-30T21:26:55.334829",
     "status": "completed"
    },
    "tags": []
   },
   "outputs": [
    {
     "name": "stdout",
     "output_type": "stream",
     "text": [
      "/dss/dsshome1/0C/ra93lal2/cma/CMA_Fairness_v2\n"
     ]
    },
    {
     "name": "stderr",
     "output_type": "stream",
     "text": [
      "/dss/dsshome1/0C/ra93lal2/.local/share/virtualenvs/CMA_Fairness_v2-3j10GkSs/lib/python3.10/site-packages/IPython/core/magics/osm.py:393: UserWarning: This is now an optional IPython functionality, using bookmarks requires you to install the `pickleshare` library.\n",
      "  bkms = self.shell.db.get('bookmarks', {})\n",
      "/dss/dsshome1/0C/ra93lal2/.local/share/virtualenvs/CMA_Fairness_v2-3j10GkSs/lib/python3.10/site-packages/IPython/core/magics/osm.py:417: UserWarning: This is now an optional IPython functionality, setting dhist requires you to install the `pickleshare` library.\n",
      "  self.shell.db['dhist'] = compress_dhist(dhist)[-100:]\n"
     ]
    }
   ],
   "source": [
    "%cd ~/cma/CMA_Fairness_v2"
   ]
  },
  {
   "cell_type": "markdown",
   "id": "de2603b9",
   "metadata": {
    "papermill": {
     "duration": 0.018394,
     "end_time": "2025-07-30T21:26:55.409091",
     "exception": false,
     "start_time": "2025-07-30T21:26:55.390697",
     "status": "completed"
    },
    "tags": []
   },
   "source": [
    "The following cell holds the definition of our parameters, these values can be overriden by rendering the with e.g. the following command:\n",
    "\n",
    "papermill -p alpha 0.2 -p ratio 0.3 universe_analysis.ipynb output/test_run.ipynb"
   ]
  },
  {
   "cell_type": "code",
   "execution_count": 2,
   "id": "a80968a0-40bb-4fa9-85ef-2d5eefb01975",
   "metadata": {
    "execution": {
     "iopub.execute_input": "2025-07-30T21:26:55.447419Z",
     "iopub.status.busy": "2025-07-30T21:26:55.446990Z",
     "iopub.status.idle": "2025-07-30T21:26:55.452344Z",
     "shell.execute_reply": "2025-07-30T21:26:55.451303Z"
    },
    "papermill": {
     "duration": 0.027349,
     "end_time": "2025-07-30T21:26:55.454243",
     "exception": false,
     "start_time": "2025-07-30T21:26:55.426894",
     "status": "completed"
    },
    "tags": []
   },
   "outputs": [
    {
     "name": "stdout",
     "output_type": "stream",
     "text": [
      "Current working directory: /dss/dsshome1/0C/ra93lal2/cma/CMA_Fairness_v2\n"
     ]
    }
   ],
   "source": [
    "import os\n",
    "print(\"Current working directory:\", os.getcwd())"
   ]
  },
  {
   "cell_type": "code",
   "execution_count": 3,
   "id": "2dce4c03",
   "metadata": {
    "execution": {
     "iopub.execute_input": "2025-07-30T21:26:55.496730Z",
     "iopub.status.busy": "2025-07-30T21:26:55.496221Z",
     "iopub.status.idle": "2025-07-30T21:26:55.502801Z",
     "shell.execute_reply": "2025-07-30T21:26:55.501727Z"
    },
    "papermill": {
     "duration": 0.029125,
     "end_time": "2025-07-30T21:26:55.504513",
     "exception": false,
     "start_time": "2025-07-30T21:26:55.475388",
     "status": "completed"
    },
    "tags": [
     "parameters"
    ]
   },
   "outputs": [],
   "source": [
    "run_no = 0\n",
    "universe_id = \"test\"\n",
    "universe = {\n",
    "    \"training_size\": \"25k\", # \"25k\", \"5k\", \"1k\"\n",
    "    \"training_year\": \"2014\", # \"2014\", \"2012_14\", \"2010_14\"\n",
    "    \"scale\": \"scale\", # \"scale\", \"do-not-scale\",\n",
    "    #\"stratify_split\": \"target\", # \"none\", \"target\", \"protected-attribute\", \"both\",\n",
    "    \"model\": \"elasticnet\", # \"logreg\", \"penalized_logreg\", \"rf\", \"gbm\", \"elasticnet\"\n",
    "    \"cutoff\": [\"quantile_0.15\", \"quantile_0.30\"],\n",
    "    \"exclude_features\": \"age\", # \"none\", \"nationality\", \"sex\", \"nationality-sex\", \"age\"\n",
    "    \"exclude_subgroups\": \"keep-all\", # \"keep-all\", \"drop-non-german\"\n",
    "    \"eval_fairness_grouping\": [\"majority-minority\", \"nationality-all\"]\n",
    "}\n",
    "\n",
    "output_dir=\"./output\"\n",
    "seed=0"
   ]
  },
  {
   "cell_type": "code",
   "execution_count": 4,
   "id": "f65f0053",
   "metadata": {
    "execution": {
     "iopub.execute_input": "2025-07-30T21:26:55.546268Z",
     "iopub.status.busy": "2025-07-30T21:26:55.545792Z",
     "iopub.status.idle": "2025-07-30T21:26:55.551088Z",
     "shell.execute_reply": "2025-07-30T21:26:55.550065Z"
    },
    "papermill": {
     "duration": 0.0282,
     "end_time": "2025-07-30T21:26:55.553055",
     "exception": false,
     "start_time": "2025-07-30T21:26:55.524855",
     "status": "completed"
    },
    "tags": [
     "injected-parameters"
    ]
   },
   "outputs": [],
   "source": [
    "# Parameters\n",
    "universe_id = \"abb92f03681f73ef211ac46ed9b74909\"\n",
    "run_no = \"14\"\n",
    "universe = \"{\\\"cutoff\\\": [\\\"quantile_0.1\\\", \\\"quantile_0.25\\\"], \\\"eval_fairness_grouping\\\": [\\\"majority-minority\\\", \\\"nationality-all\\\"], \\\"exclude_features\\\": \\\"age\\\", \\\"exclude_subgroups\\\": \\\"drop-non-german\\\", \\\"model\\\": \\\"elasticnet\\\", \\\"scale\\\": \\\"scale\\\", \\\"training_size\\\": \\\"1k\\\", \\\"training_year\\\": \\\"2014\\\"}\"\n",
    "output_dir = \"output\"\n",
    "seed = \"2023\"\n"
   ]
  },
  {
   "cell_type": "code",
   "execution_count": 5,
   "id": "1650acaf",
   "metadata": {
    "execution": {
     "iopub.execute_input": "2025-07-30T21:26:55.594900Z",
     "iopub.status.busy": "2025-07-30T21:26:55.594064Z",
     "iopub.status.idle": "2025-07-30T21:26:55.599392Z",
     "shell.execute_reply": "2025-07-30T21:26:55.598347Z"
    },
    "papermill": {
     "duration": 0.027781,
     "end_time": "2025-07-30T21:26:55.601233",
     "exception": false,
     "start_time": "2025-07-30T21:26:55.573452",
     "status": "completed"
    },
    "tags": []
   },
   "outputs": [],
   "source": [
    "import json\n",
    "# Parse universe into dict if it is passed as a string\n",
    "if isinstance(universe, str):\n",
    "    universe = json.loads(universe)"
   ]
  },
  {
   "cell_type": "code",
   "execution_count": 6,
   "id": "16620c48",
   "metadata": {
    "execution": {
     "iopub.execute_input": "2025-07-30T21:26:55.644940Z",
     "iopub.status.busy": "2025-07-30T21:26:55.643977Z",
     "iopub.status.idle": "2025-07-30T21:26:55.689389Z",
     "shell.execute_reply": "2025-07-30T21:26:55.688420Z"
    },
    "papermill": {
     "duration": 0.06881,
     "end_time": "2025-07-30T21:26:55.691377",
     "exception": false,
     "start_time": "2025-07-30T21:26:55.622567",
     "status": "completed"
    },
    "tags": []
   },
   "outputs": [],
   "source": [
    "# Auto-reload the custom package\n",
    "%load_ext autoreload\n",
    "%autoreload 1\n",
    "%aimport fairness_multiverse"
   ]
  },
  {
   "cell_type": "code",
   "execution_count": 7,
   "id": "01c5c9f3",
   "metadata": {
    "execution": {
     "iopub.execute_input": "2025-07-30T21:26:55.732693Z",
     "iopub.status.busy": "2025-07-30T21:26:55.732064Z",
     "iopub.status.idle": "2025-07-30T21:26:57.704519Z",
     "shell.execute_reply": "2025-07-30T21:26:57.703504Z"
    },
    "papermill": {
     "duration": 1.994604,
     "end_time": "2025-07-30T21:26:57.706341",
     "exception": false,
     "start_time": "2025-07-30T21:26:55.711737",
     "status": "completed"
    },
    "tags": []
   },
   "outputs": [],
   "source": [
    "from fairness_multiverse.universe import UniverseAnalysis\n",
    "\n",
    "universe_analysis = UniverseAnalysis(\n",
    "    run_no = run_no,\n",
    "    universe_id = universe_id,\n",
    "    universe = universe,\n",
    "    output_dir=output_dir,\n",
    ")"
   ]
  },
  {
   "cell_type": "code",
   "execution_count": 8,
   "id": "106241f5",
   "metadata": {
    "execution": {
     "iopub.execute_input": "2025-07-30T21:26:57.752368Z",
     "iopub.status.busy": "2025-07-30T21:26:57.751760Z",
     "iopub.status.idle": "2025-07-30T21:26:57.758642Z",
     "shell.execute_reply": "2025-07-30T21:26:57.757754Z"
    },
    "papermill": {
     "duration": 0.047287,
     "end_time": "2025-07-30T21:26:57.776817",
     "exception": false,
     "start_time": "2025-07-30T21:26:57.729530",
     "status": "completed"
    },
    "tags": []
   },
   "outputs": [
    {
     "name": "stdout",
     "output_type": "stream",
     "text": [
      "Using Seed: 2023\n"
     ]
    }
   ],
   "source": [
    "import numpy as np\n",
    "parsed_seed = int(seed)\n",
    "np.random.seed(parsed_seed)\n",
    "print(f\"Using Seed: {parsed_seed}\")"
   ]
  },
  {
   "cell_type": "markdown",
   "id": "e0ebdc57",
   "metadata": {
    "papermill": {
     "duration": 0.021085,
     "end_time": "2025-07-30T21:26:57.824203",
     "exception": false,
     "start_time": "2025-07-30T21:26:57.803118",
     "status": "completed"
    },
    "tags": []
   },
   "source": [
    "# Loading Data"
   ]
  },
  {
   "cell_type": "markdown",
   "id": "681925a3",
   "metadata": {
    "papermill": {
     "duration": 0.019557,
     "end_time": "2025-07-30T21:26:57.864482",
     "exception": false,
     "start_time": "2025-07-30T21:26:57.844925",
     "status": "completed"
    },
    "tags": []
   },
   "source": [
    "Load siab_train, siab_test, siab_calib and/or \n",
    "load siab_train_features, siab_train_labels"
   ]
  },
  {
   "cell_type": "code",
   "execution_count": 9,
   "id": "f0496b8a",
   "metadata": {
    "execution": {
     "iopub.execute_input": "2025-07-30T21:26:57.907269Z",
     "iopub.status.busy": "2025-07-30T21:26:57.906801Z",
     "iopub.status.idle": "2025-07-30T21:27:10.443494Z",
     "shell.execute_reply": "2025-07-30T21:27:10.442177Z"
    },
    "papermill": {
     "duration": 12.560373,
     "end_time": "2025-07-30T21:27:10.445669",
     "exception": false,
     "start_time": "2025-07-30T21:26:57.885296",
     "status": "completed"
    },
    "tags": []
   },
   "outputs": [
    {
     "name": "stdout",
     "output_type": "stream",
     "text": [
      "Loading SIAB data from cache: data/siab_cached.csv.gz\n"
     ]
    },
    {
     "name": "stdout",
     "output_type": "stream",
     "text": [
      "(643690, 164)\n"
     ]
    }
   ],
   "source": [
    "from pathlib import Path\n",
    "import pandas as pd\n",
    "\n",
    "# File paths\n",
    "raw_file = Path(\"data/raw/siab.csv\")\n",
    "cache_file = Path(\"data/siab_cached.csv.gz\")\n",
    "\n",
    "# Ensure cache directory exists\n",
    "cache_file.parent.mkdir(parents=True, exist_ok=True)\n",
    "\n",
    "# Load with simple caching\n",
    "if cache_file.exists():\n",
    "    print(f\"Loading SIAB data from cache: {cache_file}\")\n",
    "    siab = pd.read_csv(cache_file, compression='gzip')\n",
    "else:\n",
    "    print(f\"Cache not found. Reading raw SIAB data: {raw_file}\")\n",
    "    siab = pd.read_csv(raw_file)\n",
    "    siab.to_csv(cache_file, index=False, compression='gzip')\n",
    "    print(f\"Cached SIAB data to: {cache_file}\")\n",
    "\n",
    "# Now use `siab` DataFrame as needed\n",
    "print(siab.shape)"
   ]
  },
  {
   "cell_type": "code",
   "execution_count": 10,
   "id": "db0ca512-5f53-4dba-abdb-a2888bca41ba",
   "metadata": {
    "execution": {
     "iopub.execute_input": "2025-07-30T21:27:10.506747Z",
     "iopub.status.busy": "2025-07-30T21:27:10.505487Z",
     "iopub.status.idle": "2025-07-30T21:27:10.518058Z",
     "shell.execute_reply": "2025-07-30T21:27:10.516900Z"
    },
    "papermill": {
     "duration": 0.042726,
     "end_time": "2025-07-30T21:27:10.519913",
     "exception": false,
     "start_time": "2025-07-30T21:27:10.477187",
     "status": "completed"
    },
    "tags": []
   },
   "outputs": [],
   "source": [
    "#siab"
   ]
  },
  {
   "cell_type": "code",
   "execution_count": 11,
   "id": "a0edb063",
   "metadata": {
    "execution": {
     "iopub.execute_input": "2025-07-30T21:27:10.565324Z",
     "iopub.status.busy": "2025-07-30T21:27:10.564551Z",
     "iopub.status.idle": "2025-07-30T21:27:10.570116Z",
     "shell.execute_reply": "2025-07-30T21:27:10.569104Z"
    },
    "papermill": {
     "duration": 0.031599,
     "end_time": "2025-07-30T21:27:10.571973",
     "exception": false,
     "start_time": "2025-07-30T21:27:10.540374",
     "status": "completed"
    },
    "tags": []
   },
   "outputs": [],
   "source": [
    "#import pandas as pd\n",
    "#\n",
    "#X_train = pd.read_csv(\"./data/X_train.csv\")\n",
    "#y_train = pd.read_csv(\"./data/y_train.csv\")"
   ]
  },
  {
   "cell_type": "code",
   "execution_count": 12,
   "id": "63d08085",
   "metadata": {
    "execution": {
     "iopub.execute_input": "2025-07-30T21:27:10.617091Z",
     "iopub.status.busy": "2025-07-30T21:27:10.616597Z",
     "iopub.status.idle": "2025-07-30T21:27:10.622052Z",
     "shell.execute_reply": "2025-07-30T21:27:10.621052Z"
    },
    "papermill": {
     "duration": 0.029082,
     "end_time": "2025-07-30T21:27:10.623910",
     "exception": false,
     "start_time": "2025-07-30T21:27:10.594828",
     "status": "completed"
    },
    "tags": []
   },
   "outputs": [],
   "source": [
    "#X_test = pd.read_csv(\"./data/X_test.csv\")\n",
    "#y_true = pd.read_csv(\"./data/y_test.csv\")"
   ]
  },
  {
   "cell_type": "code",
   "execution_count": 13,
   "id": "98a8d0fa-1d3d-4ed8-bb2c-281470e24add",
   "metadata": {
    "execution": {
     "iopub.execute_input": "2025-07-30T21:27:10.669500Z",
     "iopub.status.busy": "2025-07-30T21:27:10.668865Z",
     "iopub.status.idle": "2025-07-30T21:27:10.674052Z",
     "shell.execute_reply": "2025-07-30T21:27:10.673118Z"
    },
    "papermill": {
     "duration": 0.029518,
     "end_time": "2025-07-30T21:27:10.676154",
     "exception": false,
     "start_time": "2025-07-30T21:27:10.646636",
     "status": "completed"
    },
    "tags": []
   },
   "outputs": [],
   "source": [
    "# Calibration data for conformal\n",
    "#X_calib = pd.read_csv(\"./data/X_calib.csv\")\n",
    "#y_calib = pd.read_csv(\"./data/y_calib.csv\")"
   ]
  },
  {
   "cell_type": "markdown",
   "id": "997051c5-15bd-4b69-9786-c3001a3ce484",
   "metadata": {
    "papermill": {
     "duration": 0.019352,
     "end_time": "2025-07-30T21:27:10.725924",
     "exception": false,
     "start_time": "2025-07-30T21:27:10.706572",
     "status": "completed"
    },
    "tags": []
   },
   "source": [
    "# Splitting Data and Setting Training Data Size"
   ]
  },
  {
   "cell_type": "code",
   "execution_count": 14,
   "id": "e993b61f-042d-41a6-8c81-f55681f86335",
   "metadata": {
    "execution": {
     "iopub.execute_input": "2025-07-30T21:27:10.768885Z",
     "iopub.status.busy": "2025-07-30T21:27:10.768404Z",
     "iopub.status.idle": "2025-07-30T21:27:10.783231Z",
     "shell.execute_reply": "2025-07-30T21:27:10.782152Z"
    },
    "papermill": {
     "duration": 0.037941,
     "end_time": "2025-07-30T21:27:10.785027",
     "exception": false,
     "start_time": "2025-07-30T21:27:10.747086",
     "status": "completed"
    },
    "tags": []
   },
   "outputs": [],
   "source": [
    "def sample_by_year_size(df,\n",
    "                        training_year: str,\n",
    "                        training_size: str,\n",
    "                        random_state: int = 42):\n",
    "    # --- parse training_year into a list of int years ---\n",
    "    if \"_\" in training_year:\n",
    "        start_str, end_str = training_year.split(\"_\", 1)\n",
    "        start = int(start_str)\n",
    "        end   = int(end_str) if len(end_str) == 4 else (int(end_str) + (start // 100)*100)\n",
    "        years = list(range(start, end + 1))\n",
    "    else:\n",
    "        years = [int(training_year)]\n",
    "\n",
    "    df = df[df[\"year\"].isin(years)].reset_index(drop=True)\n",
    "\n",
    "    # --- map training_size to total number of samples ---\n",
    "    total_map = {\"25k\": 25_000, \"5k\": 5_000, \"1k\": 1_000}\n",
    "    if training_size not in total_map:\n",
    "        return df  # e.g. \"all\"\n",
    "\n",
    "    total_samples = total_map[training_size]\n",
    "    n_years       = len(years)\n",
    "    base          = total_samples // n_years\n",
    "    remainder     = total_samples % n_years\n",
    "\n",
    "    # --- build a dict: year -> how many to sample ---\n",
    "    # give +1 to the first `remainder` years in ascending order\n",
    "    quotas = {\n",
    "        year: base + (1 if idx < remainder else 0)\n",
    "        for idx, year in enumerate(sorted(years))\n",
    "    }\n",
    "\n",
    "    # --- sample per‐year according to the quota dict ---\n",
    "    sampled = (\n",
    "        df\n",
    "        .groupby(\"year\", group_keys=False)\n",
    "        .apply(lambda grp: grp.sample(\n",
    "            n=min(len(grp), quotas[grp.name]),\n",
    "            random_state=random_state))\n",
    "        .reset_index(drop=True)\n",
    "    )\n",
    "\n",
    "    return sampled"
   ]
  },
  {
   "cell_type": "code",
   "execution_count": 15,
   "id": "c0ccd338-0e02-41f3-a09d-f56f9266e3fb",
   "metadata": {
    "execution": {
     "iopub.execute_input": "2025-07-30T21:27:10.830759Z",
     "iopub.status.busy": "2025-07-30T21:27:10.829711Z",
     "iopub.status.idle": "2025-07-30T21:27:10.835091Z",
     "shell.execute_reply": "2025-07-30T21:27:10.834112Z"
    },
    "papermill": {
     "duration": 0.029071,
     "end_time": "2025-07-30T21:27:10.837014",
     "exception": false,
     "start_time": "2025-07-30T21:27:10.807943",
     "status": "completed"
    },
    "tags": []
   },
   "outputs": [],
   "source": [
    "#universe[\"training_size\"]"
   ]
  },
  {
   "cell_type": "code",
   "execution_count": 16,
   "id": "ca707fd7-8047-4acd-bfa5-66248fbbf8e6",
   "metadata": {
    "execution": {
     "iopub.execute_input": "2025-07-30T21:27:10.883508Z",
     "iopub.status.busy": "2025-07-30T21:27:10.882256Z",
     "iopub.status.idle": "2025-07-30T21:27:10.887257Z",
     "shell.execute_reply": "2025-07-30T21:27:10.886495Z"
    },
    "papermill": {
     "duration": 0.028591,
     "end_time": "2025-07-30T21:27:10.888843",
     "exception": false,
     "start_time": "2025-07-30T21:27:10.860252",
     "status": "completed"
    },
    "tags": []
   },
   "outputs": [],
   "source": [
    "#universe[\"training_year\"]"
   ]
  },
  {
   "cell_type": "code",
   "execution_count": 17,
   "id": "aea9c6ef-6f46-42c8-85eb-5a62025c1508",
   "metadata": {
    "execution": {
     "iopub.execute_input": "2025-07-30T21:27:10.914397Z",
     "iopub.status.busy": "2025-07-30T21:27:10.913865Z",
     "iopub.status.idle": "2025-07-30T21:27:11.117703Z",
     "shell.execute_reply": "2025-07-30T21:27:11.116696Z"
    },
    "papermill": {
     "duration": 0.218363,
     "end_time": "2025-07-30T21:27:11.119655",
     "exception": false,
     "start_time": "2025-07-30T21:27:10.901292",
     "status": "completed"
    },
    "tags": []
   },
   "outputs": [],
   "source": [
    "siab_train = sample_by_year_size(siab,\n",
    "                               training_year=universe[\"training_year\"],\n",
    "                               training_size=universe[\"training_size\"])"
   ]
  },
  {
   "cell_type": "code",
   "execution_count": 18,
   "id": "8d3afb32-789d-442c-8d5d-9f5aa8dd2eed",
   "metadata": {
    "execution": {
     "iopub.execute_input": "2025-07-30T21:27:11.165814Z",
     "iopub.status.busy": "2025-07-30T21:27:11.164946Z",
     "iopub.status.idle": "2025-07-30T21:27:11.169818Z",
     "shell.execute_reply": "2025-07-30T21:27:11.169007Z"
    },
    "papermill": {
     "duration": 0.030202,
     "end_time": "2025-07-30T21:27:11.171778",
     "exception": false,
     "start_time": "2025-07-30T21:27:11.141576",
     "status": "completed"
    },
    "tags": []
   },
   "outputs": [],
   "source": [
    "#siab_train.shape"
   ]
  },
  {
   "cell_type": "code",
   "execution_count": 19,
   "id": "d582db68-1a4c-47fb-84fc-08518dc1975a",
   "metadata": {
    "execution": {
     "iopub.execute_input": "2025-07-30T21:27:11.220954Z",
     "iopub.status.busy": "2025-07-30T21:27:11.220439Z",
     "iopub.status.idle": "2025-07-30T21:27:11.225590Z",
     "shell.execute_reply": "2025-07-30T21:27:11.224638Z"
    },
    "papermill": {
     "duration": 0.032589,
     "end_time": "2025-07-30T21:27:11.227518",
     "exception": false,
     "start_time": "2025-07-30T21:27:11.194929",
     "status": "completed"
    },
    "tags": []
   },
   "outputs": [],
   "source": [
    "#display(siab_train.groupby(\"year\").size())"
   ]
  },
  {
   "cell_type": "code",
   "execution_count": 20,
   "id": "a561edb4-d032-42cb-8256-22eac1111c64",
   "metadata": {
    "execution": {
     "iopub.execute_input": "2025-07-30T21:27:11.276217Z",
     "iopub.status.busy": "2025-07-30T21:27:11.275813Z",
     "iopub.status.idle": "2025-07-30T21:27:11.495400Z",
     "shell.execute_reply": "2025-07-30T21:27:11.494660Z"
    },
    "papermill": {
     "duration": 0.245161,
     "end_time": "2025-07-30T21:27:11.497365",
     "exception": false,
     "start_time": "2025-07-30T21:27:11.252204",
     "status": "completed"
    },
    "tags": []
   },
   "outputs": [],
   "source": [
    "#siab_train = siab_s[siab_s.year < 2015]\n",
    "siab_calib = siab[siab.year == 2015]\n",
    "siab_test = siab[siab.year == 2016]"
   ]
  },
  {
   "cell_type": "code",
   "execution_count": 21,
   "id": "472de16f-c3db-4916-846b-1f0de9cf1746",
   "metadata": {
    "execution": {
     "iopub.execute_input": "2025-07-30T21:27:11.523385Z",
     "iopub.status.busy": "2025-07-30T21:27:11.523131Z",
     "iopub.status.idle": "2025-07-30T21:27:11.528287Z",
     "shell.execute_reply": "2025-07-30T21:27:11.527583Z"
    },
    "papermill": {
     "duration": 0.017776,
     "end_time": "2025-07-30T21:27:11.529644",
     "exception": false,
     "start_time": "2025-07-30T21:27:11.511868",
     "status": "completed"
    },
    "tags": []
   },
   "outputs": [],
   "source": [
    "X_train = siab_train.iloc[:,4:164]\n",
    "y_train = siab_train.iloc[:, [3]]"
   ]
  },
  {
   "cell_type": "code",
   "execution_count": 22,
   "id": "828c96af-f43a-4ed6-ba47-8ac73a47d56c",
   "metadata": {
    "execution": {
     "iopub.execute_input": "2025-07-30T21:27:11.552665Z",
     "iopub.status.busy": "2025-07-30T21:27:11.552188Z",
     "iopub.status.idle": "2025-07-30T21:27:11.597991Z",
     "shell.execute_reply": "2025-07-30T21:27:11.597163Z"
    },
    "papermill": {
     "duration": 0.058178,
     "end_time": "2025-07-30T21:27:11.599233",
     "exception": false,
     "start_time": "2025-07-30T21:27:11.541055",
     "status": "completed"
    },
    "tags": []
   },
   "outputs": [],
   "source": [
    "X_calib = siab_calib.iloc[:,4:164]\n",
    "y_calib = siab_calib.iloc[:, [3]]"
   ]
  },
  {
   "cell_type": "code",
   "execution_count": 23,
   "id": "c34be9c3-6bd6-476e-acd3-845840e303be",
   "metadata": {
    "execution": {
     "iopub.execute_input": "2025-07-30T21:27:11.623422Z",
     "iopub.status.busy": "2025-07-30T21:27:11.622773Z",
     "iopub.status.idle": "2025-07-30T21:27:11.669812Z",
     "shell.execute_reply": "2025-07-30T21:27:11.668923Z"
    },
    "papermill": {
     "duration": 0.059943,
     "end_time": "2025-07-30T21:27:11.671449",
     "exception": false,
     "start_time": "2025-07-30T21:27:11.611506",
     "status": "completed"
    },
    "tags": []
   },
   "outputs": [],
   "source": [
    "X_test = siab_test.iloc[:,4:164]\n",
    "y_true = siab_test.iloc[:, [3]]"
   ]
  },
  {
   "cell_type": "markdown",
   "id": "9901737e-04df-44f0-9100-f5ad144ed040",
   "metadata": {
    "papermill": {
     "duration": 0.021706,
     "end_time": "2025-07-30T21:27:11.728289",
     "exception": false,
     "start_time": "2025-07-30T21:27:11.706583",
     "status": "completed"
    },
    "tags": []
   },
   "source": [
    "# Splitting Data and Setting Training Data Size OLD VERSION"
   ]
  },
  {
   "cell_type": "code",
   "execution_count": 24,
   "id": "acbc8f7d-8fc8-4e86-8c59-5dcb0f58384b",
   "metadata": {
    "execution": {
     "iopub.execute_input": "2025-07-30T21:27:11.771898Z",
     "iopub.status.busy": "2025-07-30T21:27:11.771466Z",
     "iopub.status.idle": "2025-07-30T21:27:11.777062Z",
     "shell.execute_reply": "2025-07-30T21:27:11.776188Z"
    },
    "papermill": {
     "duration": 0.030151,
     "end_time": "2025-07-30T21:27:11.779125",
     "exception": false,
     "start_time": "2025-07-30T21:27:11.748974",
     "status": "completed"
    },
    "tags": []
   },
   "outputs": [],
   "source": [
    "#def sample_by_year(df, training_size, random_state=42):\n",
    "#    if training_size == \"2014\":\n",
    "#        return df[df[\"year\"] == 2014].reset_index(drop=True)\n",
    "#    \n",
    "#    size_map = {\n",
    "#        \"25k\": 5000,\n",
    "#        \"5k\": 1000,\n",
    "#        \"1k\": 200\n",
    "#    }\n",
    "#\n",
    "#    if training_size not in size_map:\n",
    "#        return df.reset_index(drop=True)  # use all data\n",
    "#\n",
    "#    n_per_year = size_map[training_size]\n",
    "#    grouped = df.groupby(\"year\")\n",
    "#    sampled = grouped.apply(lambda x: x.sample(n=min(n_per_year, len(x)), random_state=random_state))\n",
    "#    return sampled.reset_index(drop=True)"
   ]
  },
  {
   "cell_type": "code",
   "execution_count": 25,
   "id": "6d931f52-beaf-43ff-9e78-9d44a448d54e",
   "metadata": {
    "execution": {
     "iopub.execute_input": "2025-07-30T21:27:11.809912Z",
     "iopub.status.busy": "2025-07-30T21:27:11.809507Z",
     "iopub.status.idle": "2025-07-30T21:27:11.813903Z",
     "shell.execute_reply": "2025-07-30T21:27:11.813017Z"
    },
    "papermill": {
     "duration": 0.019836,
     "end_time": "2025-07-30T21:27:11.815349",
     "exception": false,
     "start_time": "2025-07-30T21:27:11.795513",
     "status": "completed"
    },
    "tags": []
   },
   "outputs": [],
   "source": [
    "#siab_s = sample_by_year(siab, universe[\"training_size\"])"
   ]
  },
  {
   "cell_type": "code",
   "execution_count": 26,
   "id": "5db0a40e-a4e2-4920-be85-b12ae061d70d",
   "metadata": {
    "execution": {
     "iopub.execute_input": "2025-07-30T21:27:11.840422Z",
     "iopub.status.busy": "2025-07-30T21:27:11.840004Z",
     "iopub.status.idle": "2025-07-30T21:27:11.843869Z",
     "shell.execute_reply": "2025-07-30T21:27:11.843198Z"
    },
    "papermill": {
     "duration": 0.01749,
     "end_time": "2025-07-30T21:27:11.845137",
     "exception": false,
     "start_time": "2025-07-30T21:27:11.827647",
     "status": "completed"
    },
    "tags": []
   },
   "outputs": [],
   "source": [
    "#display(siab_s.groupby(\"year\").size())"
   ]
  },
  {
   "cell_type": "code",
   "execution_count": 27,
   "id": "e6c733c5",
   "metadata": {
    "execution": {
     "iopub.execute_input": "2025-07-30T21:27:11.868472Z",
     "iopub.status.busy": "2025-07-30T21:27:11.867938Z",
     "iopub.status.idle": "2025-07-30T21:27:11.959287Z",
     "shell.execute_reply": "2025-07-30T21:27:11.958551Z"
    },
    "papermill": {
     "duration": 0.104168,
     "end_time": "2025-07-30T21:27:11.960723",
     "exception": false,
     "start_time": "2025-07-30T21:27:11.856555",
     "status": "completed"
    },
    "tags": []
   },
   "outputs": [],
   "source": [
    "# Auxiliary data needed downstream in the pipeline\n",
    "\n",
    "org_train = X_train.copy()\n",
    "org_test = X_test.copy()\n",
    "org_calib = X_calib.copy()"
   ]
  },
  {
   "cell_type": "code",
   "execution_count": 28,
   "id": "1466abac-c6da-4492-a62f-4240ae3783af",
   "metadata": {
    "execution": {
     "iopub.execute_input": "2025-07-30T21:27:11.987668Z",
     "iopub.status.busy": "2025-07-30T21:27:11.986973Z",
     "iopub.status.idle": "2025-07-30T21:27:11.992435Z",
     "shell.execute_reply": "2025-07-30T21:27:11.991465Z"
    },
    "papermill": {
     "duration": 0.019411,
     "end_time": "2025-07-30T21:27:11.993833",
     "exception": false,
     "start_time": "2025-07-30T21:27:11.974422",
     "status": "completed"
    },
    "tags": []
   },
   "outputs": [],
   "source": [
    "# put in other script?\n",
    "# Group sizes\n",
    "\n",
    "#def calculate_percentages(df, df_name):\n",
    "#    total_entries = len(df)\n",
    "#\n",
    "#    female_pct = (df['frau1'] == 1).mean() * 100\n",
    "#    non_german_pct = ((df['maxdeutsch1'] == 0) & (df['maxdeutsch.Missing.'] == 0)).mean() * 100\n",
    "#    non_german_male_pct = ((df['frau1'] == 0) & (df['maxdeutsch1'] == 0) & (df['maxdeutsch.Missing.'] == 0)).mean() * 100\n",
    "#    non_german_female_pct = ((df['frau1'] == 1) & (df['maxdeutsch1'] == 0) & (df['maxdeutsch.Missing.'] == 0)).mean() * 100\n",
    "#\n",
    "#    print(f\"--- {df_name} ---\")\n",
    "#    print(f\"Female: {female_pct:.2f}%\")\n",
    "#    print(f\"Non-German: {non_german_pct:.2f}%\")\n",
    "#    print(f\"Non-German Male: {non_german_male_pct:.2f}%\")\n",
    "#    print(f\"Non-German Female: {non_german_female_pct:.2f}%\\n\")\n",
    "#\n",
    "## Calculate for each DataFrame\n",
    "#calculate_percentages(siab_calib, \"siab_calib\")\n",
    "#calculate_percentages(siab_test, \"siab_test\")\n",
    "#calculate_percentages(siab_train, \"siab_train\")"
   ]
  },
  {
   "cell_type": "markdown",
   "id": "0a4a1b33",
   "metadata": {
    "papermill": {
     "duration": 0.014153,
     "end_time": "2025-07-30T21:27:12.024517",
     "exception": false,
     "start_time": "2025-07-30T21:27:12.010364",
     "status": "completed"
    },
    "tags": []
   },
   "source": [
    "# Preprocessing Data"
   ]
  },
  {
   "cell_type": "code",
   "execution_count": 29,
   "id": "ca879031",
   "metadata": {
    "execution": {
     "iopub.execute_input": "2025-07-30T21:27:12.048205Z",
     "iopub.status.busy": "2025-07-30T21:27:12.047769Z",
     "iopub.status.idle": "2025-07-30T21:27:12.053973Z",
     "shell.execute_reply": "2025-07-30T21:27:12.052994Z"
    },
    "papermill": {
     "duration": 0.019729,
     "end_time": "2025-07-30T21:27:12.055596",
     "exception": false,
     "start_time": "2025-07-30T21:27:12.035867",
     "status": "completed"
    },
    "tags": []
   },
   "outputs": [],
   "source": [
    "# EXCLUDE PROTECTED FEATURES\n",
    "# ----------------------\n",
    "# \"exclude_features\": \"none\", # \"nationality\", \"sex\", \"nationality-sex\"\n",
    "\n",
    "excluded_features = universe[\"exclude_features\"].split(\"-\") # split, e.g.: \"nationality-sex\" -> [\"nationality\", \"sex\"]\n",
    "excluded_features_dictionary = {\n",
    "    \"nationality\": [\"maxdeutsch1\", \"maxdeutsch.Missing.\"],\n",
    "    \"sex\": [\"frau1\"],\n",
    "    \"age\": [\"age\"],\n",
    "}\n"
   ]
  },
  {
   "cell_type": "code",
   "execution_count": 30,
   "id": "b745ac60",
   "metadata": {
    "execution": {
     "iopub.execute_input": "2025-07-30T21:27:12.102878Z",
     "iopub.status.busy": "2025-07-30T21:27:12.102424Z",
     "iopub.status.idle": "2025-07-30T21:27:12.108020Z",
     "shell.execute_reply": "2025-07-30T21:27:12.106933Z"
    },
    "papermill": {
     "duration": 0.031699,
     "end_time": "2025-07-30T21:27:12.110076",
     "exception": false,
     "start_time": "2025-07-30T21:27:12.078377",
     "status": "completed"
    },
    "tags": []
   },
   "outputs": [],
   "source": [
    "# Code nice names to column names\n",
    "\n",
    "excluded_features_columns = [\n",
    "    excluded_features_dictionary[f] for f in excluded_features if len(f) > 0 and f != \"none\"\n",
    "]"
   ]
  },
  {
   "cell_type": "code",
   "execution_count": 31,
   "id": "f84f73a2",
   "metadata": {
    "execution": {
     "iopub.execute_input": "2025-07-30T21:27:12.154834Z",
     "iopub.status.busy": "2025-07-30T21:27:12.154213Z",
     "iopub.status.idle": "2025-07-30T21:27:12.160368Z",
     "shell.execute_reply": "2025-07-30T21:27:12.159603Z"
    },
    "papermill": {
     "duration": 0.02887,
     "end_time": "2025-07-30T21:27:12.162021",
     "exception": false,
     "start_time": "2025-07-30T21:27:12.133151",
     "status": "completed"
    },
    "tags": []
   },
   "outputs": [],
   "source": [
    "from utils import flatten_once\n",
    "\n",
    "excluded_features_columns = flatten_once(excluded_features_columns)"
   ]
  },
  {
   "cell_type": "code",
   "execution_count": 32,
   "id": "884dea22",
   "metadata": {
    "execution": {
     "iopub.execute_input": "2025-07-30T21:27:12.211434Z",
     "iopub.status.busy": "2025-07-30T21:27:12.210981Z",
     "iopub.status.idle": "2025-07-30T21:27:12.219677Z",
     "shell.execute_reply": "2025-07-30T21:27:12.218321Z"
    },
    "papermill": {
     "duration": 0.034901,
     "end_time": "2025-07-30T21:27:12.221301",
     "exception": false,
     "start_time": "2025-07-30T21:27:12.186400",
     "status": "completed"
    },
    "tags": []
   },
   "outputs": [
    {
     "name": "stdout",
     "output_type": "stream",
     "text": [
      "Dropping features: ['age']\n"
     ]
    }
   ],
   "source": [
    "if len(excluded_features_columns) > 0:\n",
    "    print(f\"Dropping features: {excluded_features_columns}\")\n",
    "    X_train.drop(excluded_features_columns, axis=1, inplace=True)"
   ]
  },
  {
   "cell_type": "code",
   "execution_count": 33,
   "id": "95ab8b16",
   "metadata": {
    "execution": {
     "iopub.execute_input": "2025-07-30T21:27:12.248563Z",
     "iopub.status.busy": "2025-07-30T21:27:12.247717Z",
     "iopub.status.idle": "2025-07-30T21:27:12.298648Z",
     "shell.execute_reply": "2025-07-30T21:27:12.297710Z"
    },
    "papermill": {
     "duration": 0.065346,
     "end_time": "2025-07-30T21:27:12.299990",
     "exception": false,
     "start_time": "2025-07-30T21:27:12.234644",
     "status": "completed"
    },
    "tags": []
   },
   "outputs": [
    {
     "name": "stdout",
     "output_type": "stream",
     "text": [
      "Dropping features: ['age']\n"
     ]
    }
   ],
   "source": [
    "if len(excluded_features_columns) > 0:\n",
    "    print(f\"Dropping features: {excluded_features_columns}\")\n",
    "    X_test.drop(excluded_features_columns, axis=1, inplace=True)"
   ]
  },
  {
   "cell_type": "code",
   "execution_count": 34,
   "id": "1853aaf5-fb9f-46cb-a2b5-8ea4ae2237e4",
   "metadata": {
    "execution": {
     "iopub.execute_input": "2025-07-30T21:27:12.325799Z",
     "iopub.status.busy": "2025-07-30T21:27:12.325031Z",
     "iopub.status.idle": "2025-07-30T21:27:12.386319Z",
     "shell.execute_reply": "2025-07-30T21:27:12.385362Z"
    },
    "papermill": {
     "duration": 0.074731,
     "end_time": "2025-07-30T21:27:12.387912",
     "exception": false,
     "start_time": "2025-07-30T21:27:12.313181",
     "status": "completed"
    },
    "tags": []
   },
   "outputs": [
    {
     "name": "stdout",
     "output_type": "stream",
     "text": [
      "Dropping features: ['age']\n"
     ]
    }
   ],
   "source": [
    "if len(excluded_features_columns) > 0:\n",
    "    print(f\"Dropping features: {excluded_features_columns}\")\n",
    "    X_calib.drop(excluded_features_columns, axis=1, inplace=True)"
   ]
  },
  {
   "cell_type": "code",
   "execution_count": 35,
   "id": "6727d079-03e5-481e-9d38-292a90b7a0a8",
   "metadata": {
    "execution": {
     "iopub.execute_input": "2025-07-30T21:27:12.433852Z",
     "iopub.status.busy": "2025-07-30T21:27:12.433102Z",
     "iopub.status.idle": "2025-07-30T21:27:12.438057Z",
     "shell.execute_reply": "2025-07-30T21:27:12.437075Z"
    },
    "papermill": {
     "duration": 0.029899,
     "end_time": "2025-07-30T21:27:12.439752",
     "exception": false,
     "start_time": "2025-07-30T21:27:12.409853",
     "status": "completed"
    },
    "tags": []
   },
   "outputs": [],
   "source": [
    "# SPLIT & STRATIFY DATA\n",
    "# ----------------------"
   ]
  },
  {
   "cell_type": "code",
   "execution_count": 36,
   "id": "76c4dc6d",
   "metadata": {
    "execution": {
     "iopub.execute_input": "2025-07-30T21:27:12.485394Z",
     "iopub.status.busy": "2025-07-30T21:27:12.484688Z",
     "iopub.status.idle": "2025-07-30T21:27:12.490295Z",
     "shell.execute_reply": "2025-07-30T21:27:12.489452Z"
    },
    "papermill": {
     "duration": 0.030051,
     "end_time": "2025-07-30T21:27:12.491805",
     "exception": false,
     "start_time": "2025-07-30T21:27:12.461754",
     "status": "completed"
    },
    "tags": []
   },
   "outputs": [],
   "source": [
    "# EXCLUDE CERTAIN SUBGROUPS\n",
    "# ----------------------\n",
    "\n",
    "mode = universe.get(\"exclude_subgroups\", \"keep-all\") \n",
    "# Fetches the exclude_subgroups setting from the universe dict.\n",
    "# Defaults to \"keep-all\" if the key is missing."
   ]
  },
  {
   "cell_type": "code",
   "execution_count": 37,
   "id": "21994072",
   "metadata": {
    "execution": {
     "iopub.execute_input": "2025-07-30T21:27:12.537660Z",
     "iopub.status.busy": "2025-07-30T21:27:12.536957Z",
     "iopub.status.idle": "2025-07-30T21:27:12.543206Z",
     "shell.execute_reply": "2025-07-30T21:27:12.542424Z"
    },
    "papermill": {
     "duration": 0.031114,
     "end_time": "2025-07-30T21:27:12.544508",
     "exception": false,
     "start_time": "2025-07-30T21:27:12.513394",
     "status": "completed"
    },
    "tags": []
   },
   "outputs": [],
   "source": [
    "if mode == \"keep-all\":\n",
    "    keep_mask = pd.Series(True, index=org_train.index)\n",
    "\n",
    "# org_train contains the original feature columns from features_org (in Simson)\n",
    "# features_org contains unprocessed features, for me X_train at beginning ???\n",
    "# For keep-all, creates a boolean Series (keep_mask) of all True, so no rows are removed.\n",
    "\n",
    "elif mode == \"drop-non-german\":\n",
    "    keep_mask = org_train[\"maxdeutsch1\"] == 1 # ??? what about missing values?\n",
    "\n",
    "else:\n",
    "    raise ValueError(f\"Unsupported mode for exclude_subgroups: {mode}\")\n"
   ]
  },
  {
   "cell_type": "code",
   "execution_count": 38,
   "id": "71651440",
   "metadata": {
    "execution": {
     "iopub.execute_input": "2025-07-30T21:27:12.585567Z",
     "iopub.status.busy": "2025-07-30T21:27:12.585153Z",
     "iopub.status.idle": "2025-07-30T21:27:12.592185Z",
     "shell.execute_reply": "2025-07-30T21:27:12.591242Z"
    },
    "papermill": {
     "duration": 0.03294,
     "end_time": "2025-07-30T21:27:12.593920",
     "exception": false,
     "start_time": "2025-07-30T21:27:12.560980",
     "status": "completed"
    },
    "tags": []
   },
   "outputs": [
    {
     "name": "stdout",
     "output_type": "stream",
     "text": [
      "Dropping 147 rows (14.70%) where mode='drop-non-german'\n"
     ]
    }
   ],
   "source": [
    "n_drop = (~keep_mask).sum() # Calculates how many rows are set to be dropped\n",
    "if n_drop > 0:\n",
    "    pct = n_drop / len(keep_mask) * 100\n",
    "    print(f\"Dropping {n_drop} rows ({pct:.2f}%) where mode='{mode}'\")"
   ]
  },
  {
   "cell_type": "code",
   "execution_count": 39,
   "id": "5fb8eee5",
   "metadata": {
    "execution": {
     "iopub.execute_input": "2025-07-30T21:27:12.642321Z",
     "iopub.status.busy": "2025-07-30T21:27:12.641864Z",
     "iopub.status.idle": "2025-07-30T21:27:12.648590Z",
     "shell.execute_reply": "2025-07-30T21:27:12.647638Z"
    },
    "papermill": {
     "duration": 0.033032,
     "end_time": "2025-07-30T21:27:12.650408",
     "exception": false,
     "start_time": "2025-07-30T21:27:12.617376",
     "status": "completed"
    },
    "tags": []
   },
   "outputs": [],
   "source": [
    "X_train = X_train[keep_mask]"
   ]
  },
  {
   "cell_type": "code",
   "execution_count": 40,
   "id": "b202bb3a",
   "metadata": {
    "execution": {
     "iopub.execute_input": "2025-07-30T21:27:12.700209Z",
     "iopub.status.busy": "2025-07-30T21:27:12.699436Z",
     "iopub.status.idle": "2025-07-30T21:27:12.706384Z",
     "shell.execute_reply": "2025-07-30T21:27:12.705460Z"
    },
    "papermill": {
     "duration": 0.031638,
     "end_time": "2025-07-30T21:27:12.708006",
     "exception": false,
     "start_time": "2025-07-30T21:27:12.676368",
     "status": "completed"
    },
    "tags": []
   },
   "outputs": [],
   "source": [
    "y_train = y_train[keep_mask]"
   ]
  },
  {
   "cell_type": "markdown",
   "id": "493e2ac3",
   "metadata": {
    "papermill": {
     "duration": 0.022436,
     "end_time": "2025-07-30T21:27:12.754124",
     "exception": false,
     "start_time": "2025-07-30T21:27:12.731688",
     "status": "completed"
    },
    "tags": []
   },
   "source": [
    "# Model Training"
   ]
  },
  {
   "cell_type": "code",
   "execution_count": 41,
   "id": "679e1268",
   "metadata": {
    "execution": {
     "iopub.execute_input": "2025-07-30T21:27:12.807759Z",
     "iopub.status.busy": "2025-07-30T21:27:12.806482Z",
     "iopub.status.idle": "2025-07-30T21:27:12.911149Z",
     "shell.execute_reply": "2025-07-30T21:27:12.910230Z"
    },
    "papermill": {
     "duration": 0.135349,
     "end_time": "2025-07-30T21:27:12.913102",
     "exception": false,
     "start_time": "2025-07-30T21:27:12.777753",
     "status": "completed"
    },
    "tags": []
   },
   "outputs": [],
   "source": [
    "from sklearn.linear_model import LogisticRegression\n",
    "from sklearn.ensemble import GradientBoostingClassifier, RandomForestClassifier\n",
    "\n",
    "if (universe[\"model\"] == \"logreg\"):\n",
    "    model = LogisticRegression() #penalty=\"none\") #, solver=\"newton-cg\", max_iter=1) # include random_state=19 ?\n",
    "elif (universe[\"model\"] == \"penalized_logreg\"):\n",
    "    model = LogisticRegression(penalty=\"l2\", C=1.0) #, solver=\"newton-cg\", max_iter=1)\n",
    "elif (universe[\"model\"] == \"rf\"):\n",
    "    model = RandomForestClassifier(n_estimators=100, n_jobs=-1)\n",
    "elif (universe[\"model\"] == \"gbm\"):\n",
    "    model = GradientBoostingClassifier()\n",
    "elif (universe[\"model\"] == \"elasticnet\"):\n",
    "    model = LogisticRegression(penalty = 'elasticnet', solver = 'saga', l1_ratio = 0.5, max_iter=5000) # which solver to use?\n",
    "else:\n",
    "    raise \"Unsupported universe.model\""
   ]
  },
  {
   "cell_type": "code",
   "execution_count": 42,
   "id": "0cc8f744",
   "metadata": {
    "execution": {
     "iopub.execute_input": "2025-07-30T21:27:12.964962Z",
     "iopub.status.busy": "2025-07-30T21:27:12.964124Z",
     "iopub.status.idle": "2025-07-30T21:27:12.970475Z",
     "shell.execute_reply": "2025-07-30T21:27:12.969400Z"
    },
    "papermill": {
     "duration": 0.032643,
     "end_time": "2025-07-30T21:27:12.971998",
     "exception": false,
     "start_time": "2025-07-30T21:27:12.939355",
     "status": "completed"
    },
    "tags": []
   },
   "outputs": [],
   "source": [
    "import numpy as np\n",
    "from sklearn.pipeline import Pipeline\n",
    "from sklearn.preprocessing import StandardScaler\n",
    "\n",
    "model = Pipeline([\n",
    "    #(\"continuous_processor\", continuous_processor),\n",
    "    #(\"categorical_preprocessor\", categorical_preprocessor),\n",
    "    (\"scale\", StandardScaler() if universe[\"scale\"] == \"scale\" else None), \n",
    "    (\"model\", model),\n",
    "])"
   ]
  },
  {
   "cell_type": "code",
   "execution_count": 43,
   "id": "9442c04d",
   "metadata": {
    "execution": {
     "iopub.execute_input": "2025-07-30T21:27:13.026138Z",
     "iopub.status.busy": "2025-07-30T21:27:13.025318Z",
     "iopub.status.idle": "2025-07-30T21:27:15.472980Z",
     "shell.execute_reply": "2025-07-30T21:27:15.472319Z"
    },
    "papermill": {
     "duration": 2.475364,
     "end_time": "2025-07-30T21:27:15.474228",
     "exception": false,
     "start_time": "2025-07-30T21:27:12.998864",
     "status": "completed"
    },
    "tags": []
   },
   "outputs": [
    {
     "data": {
      "text/html": [
       "<style>#sk-container-id-1 {color: black;background-color: white;}#sk-container-id-1 pre{padding: 0;}#sk-container-id-1 div.sk-toggleable {background-color: white;}#sk-container-id-1 label.sk-toggleable__label {cursor: pointer;display: block;width: 100%;margin-bottom: 0;padding: 0.3em;box-sizing: border-box;text-align: center;}#sk-container-id-1 label.sk-toggleable__label-arrow:before {content: \"▸\";float: left;margin-right: 0.25em;color: #696969;}#sk-container-id-1 label.sk-toggleable__label-arrow:hover:before {color: black;}#sk-container-id-1 div.sk-estimator:hover label.sk-toggleable__label-arrow:before {color: black;}#sk-container-id-1 div.sk-toggleable__content {max-height: 0;max-width: 0;overflow: hidden;text-align: left;background-color: #f0f8ff;}#sk-container-id-1 div.sk-toggleable__content pre {margin: 0.2em;color: black;border-radius: 0.25em;background-color: #f0f8ff;}#sk-container-id-1 input.sk-toggleable__control:checked~div.sk-toggleable__content {max-height: 200px;max-width: 100%;overflow: auto;}#sk-container-id-1 input.sk-toggleable__control:checked~label.sk-toggleable__label-arrow:before {content: \"▾\";}#sk-container-id-1 div.sk-estimator input.sk-toggleable__control:checked~label.sk-toggleable__label {background-color: #d4ebff;}#sk-container-id-1 div.sk-label input.sk-toggleable__control:checked~label.sk-toggleable__label {background-color: #d4ebff;}#sk-container-id-1 input.sk-hidden--visually {border: 0;clip: rect(1px 1px 1px 1px);clip: rect(1px, 1px, 1px, 1px);height: 1px;margin: -1px;overflow: hidden;padding: 0;position: absolute;width: 1px;}#sk-container-id-1 div.sk-estimator {font-family: monospace;background-color: #f0f8ff;border: 1px dotted black;border-radius: 0.25em;box-sizing: border-box;margin-bottom: 0.5em;}#sk-container-id-1 div.sk-estimator:hover {background-color: #d4ebff;}#sk-container-id-1 div.sk-parallel-item::after {content: \"\";width: 100%;border-bottom: 1px solid gray;flex-grow: 1;}#sk-container-id-1 div.sk-label:hover label.sk-toggleable__label {background-color: #d4ebff;}#sk-container-id-1 div.sk-serial::before {content: \"\";position: absolute;border-left: 1px solid gray;box-sizing: border-box;top: 0;bottom: 0;left: 50%;z-index: 0;}#sk-container-id-1 div.sk-serial {display: flex;flex-direction: column;align-items: center;background-color: white;padding-right: 0.2em;padding-left: 0.2em;position: relative;}#sk-container-id-1 div.sk-item {position: relative;z-index: 1;}#sk-container-id-1 div.sk-parallel {display: flex;align-items: stretch;justify-content: center;background-color: white;position: relative;}#sk-container-id-1 div.sk-item::before, #sk-container-id-1 div.sk-parallel-item::before {content: \"\";position: absolute;border-left: 1px solid gray;box-sizing: border-box;top: 0;bottom: 0;left: 50%;z-index: -1;}#sk-container-id-1 div.sk-parallel-item {display: flex;flex-direction: column;z-index: 1;position: relative;background-color: white;}#sk-container-id-1 div.sk-parallel-item:first-child::after {align-self: flex-end;width: 50%;}#sk-container-id-1 div.sk-parallel-item:last-child::after {align-self: flex-start;width: 50%;}#sk-container-id-1 div.sk-parallel-item:only-child::after {width: 0;}#sk-container-id-1 div.sk-dashed-wrapped {border: 1px dashed gray;margin: 0 0.4em 0.5em 0.4em;box-sizing: border-box;padding-bottom: 0.4em;background-color: white;}#sk-container-id-1 div.sk-label label {font-family: monospace;font-weight: bold;display: inline-block;line-height: 1.2em;}#sk-container-id-1 div.sk-label-container {text-align: center;}#sk-container-id-1 div.sk-container {/* jupyter's `normalize.less` sets `[hidden] { display: none; }` but bootstrap.min.css set `[hidden] { display: none !important; }` so we also need the `!important` here to be able to override the default hidden behavior on the sphinx rendered scikit-learn.org. See: https://github.com/scikit-learn/scikit-learn/issues/21755 */display: inline-block !important;position: relative;}#sk-container-id-1 div.sk-text-repr-fallback {display: none;}</style><div id=\"sk-container-id-1\" class=\"sk-top-container\"><div class=\"sk-text-repr-fallback\"><pre>Pipeline(steps=[(&#x27;scale&#x27;, StandardScaler()),\n",
       "                (&#x27;model&#x27;,\n",
       "                 LogisticRegression(l1_ratio=0.5, max_iter=5000,\n",
       "                                    penalty=&#x27;elasticnet&#x27;, solver=&#x27;saga&#x27;))])</pre><b>In a Jupyter environment, please rerun this cell to show the HTML representation or trust the notebook. <br />On GitHub, the HTML representation is unable to render, please try loading this page with nbviewer.org.</b></div><div class=\"sk-container\" hidden><div class=\"sk-item sk-dashed-wrapped\"><div class=\"sk-label-container\"><div class=\"sk-label sk-toggleable\"><input class=\"sk-toggleable__control sk-hidden--visually\" id=\"sk-estimator-id-1\" type=\"checkbox\" ><label for=\"sk-estimator-id-1\" class=\"sk-toggleable__label sk-toggleable__label-arrow\">Pipeline</label><div class=\"sk-toggleable__content\"><pre>Pipeline(steps=[(&#x27;scale&#x27;, StandardScaler()),\n",
       "                (&#x27;model&#x27;,\n",
       "                 LogisticRegression(l1_ratio=0.5, max_iter=5000,\n",
       "                                    penalty=&#x27;elasticnet&#x27;, solver=&#x27;saga&#x27;))])</pre></div></div></div><div class=\"sk-serial\"><div class=\"sk-item\"><div class=\"sk-estimator sk-toggleable\"><input class=\"sk-toggleable__control sk-hidden--visually\" id=\"sk-estimator-id-2\" type=\"checkbox\" ><label for=\"sk-estimator-id-2\" class=\"sk-toggleable__label sk-toggleable__label-arrow\">StandardScaler</label><div class=\"sk-toggleable__content\"><pre>StandardScaler()</pre></div></div></div><div class=\"sk-item\"><div class=\"sk-estimator sk-toggleable\"><input class=\"sk-toggleable__control sk-hidden--visually\" id=\"sk-estimator-id-3\" type=\"checkbox\" ><label for=\"sk-estimator-id-3\" class=\"sk-toggleable__label sk-toggleable__label-arrow\">LogisticRegression</label><div class=\"sk-toggleable__content\"><pre>LogisticRegression(l1_ratio=0.5, max_iter=5000, penalty=&#x27;elasticnet&#x27;,\n",
       "                   solver=&#x27;saga&#x27;)</pre></div></div></div></div></div></div></div>"
      ],
      "text/plain": [
       "Pipeline(steps=[('scale', StandardScaler()),\n",
       "                ('model',\n",
       "                 LogisticRegression(l1_ratio=0.5, max_iter=5000,\n",
       "                                    penalty='elasticnet', solver='saga'))])"
      ]
     },
     "execution_count": 43,
     "metadata": {},
     "output_type": "execute_result"
    }
   ],
   "source": [
    "model.fit(X_train, y_train.values.ravel())"
   ]
  },
  {
   "cell_type": "code",
   "execution_count": 44,
   "id": "af59f8c0",
   "metadata": {
    "execution": {
     "iopub.execute_input": "2025-07-30T21:27:15.500899Z",
     "iopub.status.busy": "2025-07-30T21:27:15.500467Z",
     "iopub.status.idle": "2025-07-30T21:27:15.515408Z",
     "shell.execute_reply": "2025-07-30T21:27:15.514113Z"
    },
    "papermill": {
     "duration": 0.031236,
     "end_time": "2025-07-30T21:27:15.517865",
     "exception": false,
     "start_time": "2025-07-30T21:27:15.486629",
     "status": "completed"
    },
    "tags": []
   },
   "outputs": [],
   "source": [
    "from fairness_multiverse.universe import predict_w_threshold"
   ]
  },
  {
   "cell_type": "code",
   "execution_count": 45,
   "id": "a7cf2e16",
   "metadata": {
    "execution": {
     "iopub.execute_input": "2025-07-30T21:27:15.586117Z",
     "iopub.status.busy": "2025-07-30T21:27:15.584993Z",
     "iopub.status.idle": "2025-07-30T21:27:15.817840Z",
     "shell.execute_reply": "2025-07-30T21:27:15.816957Z"
    },
    "papermill": {
     "duration": 0.267705,
     "end_time": "2025-07-30T21:27:15.819344",
     "exception": false,
     "start_time": "2025-07-30T21:27:15.551639",
     "status": "completed"
    },
    "tags": []
   },
   "outputs": [
    {
     "data": {
      "text/plain": [
       "0.8129862891539404"
      ]
     },
     "execution_count": 45,
     "metadata": {},
     "output_type": "execute_result"
    }
   ],
   "source": [
    "probs_test = model.predict_proba(X_test)\n",
    "\n",
    "'''\n",
    "Below code returns a boolean array (or binary 0/1 array depending on how it’s used) where each element \n",
    "is True if the probability of class 1 is greater than or equal to the threshold, and False otherwise.\n",
    "'''\n",
    "y_pred_default = predict_w_threshold(probs_test, 0.5)\n",
    "\n",
    "from sklearn.metrics import accuracy_score\n",
    "\n",
    "# Naive prediction\n",
    "accuracy_score(y_true = y_true, y_pred = y_pred_default)"
   ]
  },
  {
   "cell_type": "code",
   "execution_count": 46,
   "id": "081964c3",
   "metadata": {
    "execution": {
     "iopub.execute_input": "2025-07-30T21:27:15.869137Z",
     "iopub.status.busy": "2025-07-30T21:27:15.868193Z",
     "iopub.status.idle": "2025-07-30T21:27:16.048996Z",
     "shell.execute_reply": "2025-07-30T21:27:16.048054Z"
    },
    "papermill": {
     "duration": 0.207197,
     "end_time": "2025-07-30T21:27:16.050573",
     "exception": false,
     "start_time": "2025-07-30T21:27:15.843376",
     "status": "completed"
    },
    "tags": []
   },
   "outputs": [
    {
     "data": {
      "text/plain": [
       "array([0, 0, 0, ..., 0, 0, 0])"
      ]
     },
     "execution_count": 46,
     "metadata": {},
     "output_type": "execute_result"
    }
   ],
   "source": [
    "model.predict(X_test)"
   ]
  },
  {
   "cell_type": "markdown",
   "id": "56c9705b",
   "metadata": {
    "papermill": {
     "duration": 0.021716,
     "end_time": "2025-07-30T21:27:16.097477",
     "exception": false,
     "start_time": "2025-07-30T21:27:16.075761",
     "status": "completed"
    },
    "tags": []
   },
   "source": [
    "# Conformal Prediction"
   ]
  },
  {
   "cell_type": "code",
   "execution_count": 47,
   "id": "160ec6ff",
   "metadata": {
    "execution": {
     "iopub.execute_input": "2025-07-30T21:27:16.144870Z",
     "iopub.status.busy": "2025-07-30T21:27:16.144398Z",
     "iopub.status.idle": "2025-07-30T21:27:16.149342Z",
     "shell.execute_reply": "2025-07-30T21:27:16.148517Z"
    },
    "papermill": {
     "duration": 0.030198,
     "end_time": "2025-07-30T21:27:16.150728",
     "exception": false,
     "start_time": "2025-07-30T21:27:16.120530",
     "status": "completed"
    },
    "tags": []
   },
   "outputs": [],
   "source": [
    "# Miscoverage level for conformal prediction (10% allowed error rate => 90% target coverage)\n",
    "alpha = 0.1"
   ]
  },
  {
   "cell_type": "code",
   "execution_count": 48,
   "id": "eadf4555-3dd3-440e-8e35-f82a4ad9f855",
   "metadata": {
    "execution": {
     "iopub.execute_input": "2025-07-30T21:27:16.181208Z",
     "iopub.status.busy": "2025-07-30T21:27:16.180469Z",
     "iopub.status.idle": "2025-07-30T21:27:16.355426Z",
     "shell.execute_reply": "2025-07-30T21:27:16.354354Z"
    },
    "papermill": {
     "duration": 0.193003,
     "end_time": "2025-07-30T21:27:16.357075",
     "exception": false,
     "start_time": "2025-07-30T21:27:16.164072",
     "status": "completed"
    },
    "tags": []
   },
   "outputs": [],
   "source": [
    "probs_calib = model.predict_proba(X_calib)"
   ]
  },
  {
   "cell_type": "code",
   "execution_count": 49,
   "id": "2ed93547-6d5d-4983-9b36-1ecb300da49a",
   "metadata": {
    "execution": {
     "iopub.execute_input": "2025-07-30T21:27:16.412826Z",
     "iopub.status.busy": "2025-07-30T21:27:16.412168Z",
     "iopub.status.idle": "2025-07-30T21:27:16.418892Z",
     "shell.execute_reply": "2025-07-30T21:27:16.417807Z"
    },
    "papermill": {
     "duration": 0.035585,
     "end_time": "2025-07-30T21:27:16.420808",
     "exception": false,
     "start_time": "2025-07-30T21:27:16.385223",
     "status": "completed"
    },
    "tags": []
   },
   "outputs": [],
   "source": [
    "y_calib = y_calib.values.ravel().astype(int)"
   ]
  },
  {
   "cell_type": "code",
   "execution_count": 50,
   "id": "65d1320d-f588-4b38-9072-62af1ae97f7d",
   "metadata": {
    "execution": {
     "iopub.execute_input": "2025-07-30T21:27:16.475049Z",
     "iopub.status.busy": "2025-07-30T21:27:16.474571Z",
     "iopub.status.idle": "2025-07-30T21:27:16.481979Z",
     "shell.execute_reply": "2025-07-30T21:27:16.480968Z"
    },
    "papermill": {
     "duration": 0.036272,
     "end_time": "2025-07-30T21:27:16.483840",
     "exception": false,
     "start_time": "2025-07-30T21:27:16.447568",
     "status": "completed"
    },
    "tags": []
   },
   "outputs": [],
   "source": [
    "from fairness_multiverse.conformal import compute_nc_scores\n",
    "\n",
    "# Compute nonconformity scores on calibration set (1 - probability of true class)\n",
    "nc_scores = compute_nc_scores(probs_calib, y_calib)"
   ]
  },
  {
   "cell_type": "code",
   "execution_count": 51,
   "id": "df3b8ca3-53b7-43d5-9667-7c85da7aeda2",
   "metadata": {
    "execution": {
     "iopub.execute_input": "2025-07-30T21:27:16.539453Z",
     "iopub.status.busy": "2025-07-30T21:27:16.537624Z",
     "iopub.status.idle": "2025-07-30T21:27:16.546848Z",
     "shell.execute_reply": "2025-07-30T21:27:16.545903Z"
    },
    "papermill": {
     "duration": 0.038502,
     "end_time": "2025-07-30T21:27:16.549040",
     "exception": false,
     "start_time": "2025-07-30T21:27:16.510538",
     "status": "completed"
    },
    "tags": []
   },
   "outputs": [],
   "source": [
    "from fairness_multiverse.conformal import find_threshold\n",
    "\n",
    "# Find conformal threshold q_hat for the given alpha (split conformal method)\n",
    "q_hat = find_threshold(nc_scores, alpha)"
   ]
  },
  {
   "cell_type": "code",
   "execution_count": 52,
   "id": "4d29e6c1-0ef6-4aa4-b8fe-4fe79b0d033a",
   "metadata": {
    "execution": {
     "iopub.execute_input": "2025-07-30T21:27:16.604098Z",
     "iopub.status.busy": "2025-07-30T21:27:16.603520Z",
     "iopub.status.idle": "2025-07-30T21:27:16.611930Z",
     "shell.execute_reply": "2025-07-30T21:27:16.610626Z"
    },
    "papermill": {
     "duration": 0.037998,
     "end_time": "2025-07-30T21:27:16.614080",
     "exception": false,
     "start_time": "2025-07-30T21:27:16.576082",
     "status": "completed"
    },
    "tags": []
   },
   "outputs": [
    {
     "data": {
      "text/plain": [
       "0.8311035811512002"
      ]
     },
     "execution_count": 52,
     "metadata": {},
     "output_type": "execute_result"
    }
   ],
   "source": [
    "q_hat"
   ]
  },
  {
   "cell_type": "code",
   "execution_count": 53,
   "id": "92460794-cdac-4be2-ba28-f28c0515a6fb",
   "metadata": {
    "execution": {
     "iopub.execute_input": "2025-07-30T21:27:16.665749Z",
     "iopub.status.busy": "2025-07-30T21:27:16.665190Z",
     "iopub.status.idle": "2025-07-30T21:27:17.793820Z",
     "shell.execute_reply": "2025-07-30T21:27:17.792732Z"
    },
    "papermill": {
     "duration": 1.155817,
     "end_time": "2025-07-30T21:27:17.796209",
     "exception": false,
     "start_time": "2025-07-30T21:27:16.640392",
     "status": "completed"
    },
    "tags": []
   },
   "outputs": [],
   "source": [
    "from fairness_multiverse.conformal import predict_conformal_sets\n",
    "\n",
    "# Generate prediction sets for each test example\n",
    "pred_sets = predict_conformal_sets(model, X_test, q_hat)"
   ]
  },
  {
   "cell_type": "code",
   "execution_count": 54,
   "id": "d90c9a65-e6db-4f5d-80cd-e68fb7e46829",
   "metadata": {
    "execution": {
     "iopub.execute_input": "2025-07-30T21:27:17.868677Z",
     "iopub.status.busy": "2025-07-30T21:27:17.867975Z",
     "iopub.status.idle": "2025-07-30T21:27:17.873297Z",
     "shell.execute_reply": "2025-07-30T21:27:17.872351Z"
    },
    "papermill": {
     "duration": 0.043475,
     "end_time": "2025-07-30T21:27:17.875371",
     "exception": false,
     "start_time": "2025-07-30T21:27:17.831896",
     "status": "completed"
    },
    "tags": []
   },
   "outputs": [],
   "source": [
    "y_true = y_true.squeeze()"
   ]
  },
  {
   "cell_type": "code",
   "execution_count": 55,
   "id": "3a58a54a-1e68-46b9-927a-df01f18aebc8",
   "metadata": {
    "execution": {
     "iopub.execute_input": "2025-07-30T21:27:17.949216Z",
     "iopub.status.busy": "2025-07-30T21:27:17.948805Z",
     "iopub.status.idle": "2025-07-30T21:27:18.966934Z",
     "shell.execute_reply": "2025-07-30T21:27:18.966188Z"
    },
    "papermill": {
     "duration": 1.05654,
     "end_time": "2025-07-30T21:27:18.968353",
     "exception": false,
     "start_time": "2025-07-30T21:27:17.911813",
     "status": "completed"
    },
    "tags": []
   },
   "outputs": [],
   "source": [
    "from fairness_multiverse.conformal import evaluate_sets\n",
    "\n",
    "# Evaluate coverage and average set size on test data\n",
    "metrics = evaluate_sets(pred_sets, y_true)"
   ]
  },
  {
   "cell_type": "markdown",
   "id": "2b569c12-9aaa-4c88-98c9-bbcd0cf3ebb8",
   "metadata": {
    "papermill": {
     "duration": 0.016019,
     "end_time": "2025-07-30T21:27:18.997514",
     "exception": false,
     "start_time": "2025-07-30T21:27:18.981495",
     "status": "completed"
    },
    "tags": []
   },
   "source": [
    "# CP Metrics"
   ]
  },
  {
   "cell_type": "code",
   "execution_count": 56,
   "id": "5ce0a5cb-201f-45a0-ade5-94c7f0bd6095",
   "metadata": {
    "execution": {
     "iopub.execute_input": "2025-07-30T21:27:19.023380Z",
     "iopub.status.busy": "2025-07-30T21:27:19.023087Z",
     "iopub.status.idle": "2025-07-30T21:27:19.028950Z",
     "shell.execute_reply": "2025-07-30T21:27:19.028158Z"
    },
    "papermill": {
     "duration": 0.020357,
     "end_time": "2025-07-30T21:27:19.030260",
     "exception": false,
     "start_time": "2025-07-30T21:27:19.009903",
     "status": "completed"
    },
    "tags": []
   },
   "outputs": [
    {
     "data": {
      "text/plain": [
       "{'coverage': 0.9086278006911158, 'avg_size': 1.2582989633262736}"
      ]
     },
     "execution_count": 56,
     "metadata": {},
     "output_type": "execute_result"
    }
   ],
   "source": [
    "metrics"
   ]
  },
  {
   "cell_type": "code",
   "execution_count": 57,
   "id": "9b9a838d-31c9-430b-ae14-12baee460d17",
   "metadata": {
    "execution": {
     "iopub.execute_input": "2025-07-30T21:27:19.060968Z",
     "iopub.status.busy": "2025-07-30T21:27:19.060227Z",
     "iopub.status.idle": "2025-07-30T21:27:19.065438Z",
     "shell.execute_reply": "2025-07-30T21:27:19.064673Z"
    },
    "papermill": {
     "duration": 0.019971,
     "end_time": "2025-07-30T21:27:19.066655",
     "exception": false,
     "start_time": "2025-07-30T21:27:19.046684",
     "status": "completed"
    },
    "tags": []
   },
   "outputs": [],
   "source": [
    "example_universe = universe.copy()\n",
    "universe_training_year = example_universe.get(\"training_year\")\n",
    "universe_training_size = example_universe.get(\"training_size\")\n",
    "universe_scale = example_universe.get(\"scale\")\n",
    "universe_model = example_universe.get(\"model\")\n",
    "universe_exclude_features = example_universe.get(\"exclude_features\")\n",
    "universe_exclude_subgroups = example_universe.get(\"exclude_subgroups\")"
   ]
  },
  {
   "cell_type": "code",
   "execution_count": 58,
   "id": "f4b6a8ac-9dc0-4245-8a91-5b3b5999c4f9",
   "metadata": {
    "execution": {
     "iopub.execute_input": "2025-07-30T21:27:19.101296Z",
     "iopub.status.busy": "2025-07-30T21:27:19.100829Z",
     "iopub.status.idle": "2025-07-30T21:27:19.109616Z",
     "shell.execute_reply": "2025-07-30T21:27:19.108227Z"
    },
    "papermill": {
     "duration": 0.031118,
     "end_time": "2025-07-30T21:27:19.112005",
     "exception": false,
     "start_time": "2025-07-30T21:27:19.080887",
     "status": "completed"
    },
    "tags": []
   },
   "outputs": [],
   "source": [
    "cp_metrics_dict = {\n",
    "    \"universe_id\": [universe_id],\n",
    "    \"universe_training_year\": [universe_training_year],\n",
    "    \"universe_training_size\": [universe_training_size],\n",
    "    \"universe_scale\": [universe_scale],\n",
    "    \"universe_model\": [universe_model],\n",
    "    \"universe_exclude_features\": [universe_exclude_features],\n",
    "    \"universe_exclude_subgroups\": [universe_exclude_subgroups],\n",
    "    \"q_hat\": [q_hat],\n",
    "    \"coverage\": [metrics[\"coverage\"]],\n",
    "    \"avg_size\": [metrics[\"avg_size\"]],\n",
    "}"
   ]
  },
  {
   "cell_type": "code",
   "execution_count": 59,
   "id": "908acbb1-0371-4915-85ca-3fa520d2efe2",
   "metadata": {
    "execution": {
     "iopub.execute_input": "2025-07-30T21:27:19.179157Z",
     "iopub.status.busy": "2025-07-30T21:27:19.178410Z",
     "iopub.status.idle": "2025-07-30T21:27:19.187139Z",
     "shell.execute_reply": "2025-07-30T21:27:19.185932Z"
    },
    "papermill": {
     "duration": 0.044459,
     "end_time": "2025-07-30T21:27:19.189150",
     "exception": false,
     "start_time": "2025-07-30T21:27:19.144691",
     "status": "completed"
    },
    "tags": []
   },
   "outputs": [
    {
     "data": {
      "text/plain": [
       "{'universe_id': ['abb92f03681f73ef211ac46ed9b74909'],\n",
       " 'universe_training_year': ['2014'],\n",
       " 'universe_training_size': ['1k'],\n",
       " 'universe_scale': ['scale'],\n",
       " 'universe_model': ['elasticnet'],\n",
       " 'universe_exclude_features': ['age'],\n",
       " 'universe_exclude_subgroups': ['drop-non-german'],\n",
       " 'q_hat': [0.8311035811512002],\n",
       " 'coverage': [0.9086278006911158],\n",
       " 'avg_size': [1.2582989633262736]}"
      ]
     },
     "execution_count": 59,
     "metadata": {},
     "output_type": "execute_result"
    }
   ],
   "source": [
    "cp_metrics_dict"
   ]
  },
  {
   "cell_type": "code",
   "execution_count": 60,
   "id": "33007efc-14e9-4ec6-97ac-56a455c82265",
   "metadata": {
    "execution": {
     "iopub.execute_input": "2025-07-30T21:27:19.259783Z",
     "iopub.status.busy": "2025-07-30T21:27:19.259366Z",
     "iopub.status.idle": "2025-07-30T21:27:19.265924Z",
     "shell.execute_reply": "2025-07-30T21:27:19.264757Z"
    },
    "papermill": {
     "duration": 0.046373,
     "end_time": "2025-07-30T21:27:19.267947",
     "exception": false,
     "start_time": "2025-07-30T21:27:19.221574",
     "status": "completed"
    },
    "tags": []
   },
   "outputs": [],
   "source": [
    "cp_metrics_df = pd.DataFrame(cp_metrics_dict)"
   ]
  },
  {
   "cell_type": "code",
   "execution_count": 61,
   "id": "db12611b-57b2-4910-b9d0-355adfd6e7bf",
   "metadata": {
    "execution": {
     "iopub.execute_input": "2025-07-30T21:27:19.318913Z",
     "iopub.status.busy": "2025-07-30T21:27:19.318279Z",
     "iopub.status.idle": "2025-07-30T21:27:19.333167Z",
     "shell.execute_reply": "2025-07-30T21:27:19.331236Z"
    },
    "papermill": {
     "duration": 0.032686,
     "end_time": "2025-07-30T21:27:19.334731",
     "exception": false,
     "start_time": "2025-07-30T21:27:19.302045",
     "status": "completed"
    },
    "tags": []
   },
   "outputs": [
    {
     "data": {
      "text/html": [
       "<div>\n",
       "<style scoped>\n",
       "    .dataframe tbody tr th:only-of-type {\n",
       "        vertical-align: middle;\n",
       "    }\n",
       "\n",
       "    .dataframe tbody tr th {\n",
       "        vertical-align: top;\n",
       "    }\n",
       "\n",
       "    .dataframe thead th {\n",
       "        text-align: right;\n",
       "    }\n",
       "</style>\n",
       "<table border=\"1\" class=\"dataframe\">\n",
       "  <thead>\n",
       "    <tr style=\"text-align: right;\">\n",
       "      <th></th>\n",
       "      <th>universe_id</th>\n",
       "      <th>universe_training_year</th>\n",
       "      <th>universe_training_size</th>\n",
       "      <th>universe_scale</th>\n",
       "      <th>universe_model</th>\n",
       "      <th>universe_exclude_features</th>\n",
       "      <th>universe_exclude_subgroups</th>\n",
       "      <th>q_hat</th>\n",
       "      <th>coverage</th>\n",
       "      <th>avg_size</th>\n",
       "    </tr>\n",
       "  </thead>\n",
       "  <tbody>\n",
       "    <tr>\n",
       "      <th>0</th>\n",
       "      <td>abb92f03681f73ef211ac46ed9b74909</td>\n",
       "      <td>2014</td>\n",
       "      <td>1k</td>\n",
       "      <td>scale</td>\n",
       "      <td>elasticnet</td>\n",
       "      <td>age</td>\n",
       "      <td>drop-non-german</td>\n",
       "      <td>0.831104</td>\n",
       "      <td>0.908628</td>\n",
       "      <td>1.258299</td>\n",
       "    </tr>\n",
       "  </tbody>\n",
       "</table>\n",
       "</div>"
      ],
      "text/plain": [
       "                        universe_id universe_training_year  \\\n",
       "0  abb92f03681f73ef211ac46ed9b74909                   2014   \n",
       "\n",
       "  universe_training_size universe_scale universe_model  \\\n",
       "0                     1k          scale     elasticnet   \n",
       "\n",
       "  universe_exclude_features universe_exclude_subgroups     q_hat  coverage  \\\n",
       "0                       age            drop-non-german  0.831104  0.908628   \n",
       "\n",
       "   avg_size  \n",
       "0  1.258299  "
      ]
     },
     "execution_count": 61,
     "metadata": {},
     "output_type": "execute_result"
    }
   ],
   "source": [
    "cp_metrics_df"
   ]
  },
  {
   "cell_type": "code",
   "execution_count": 62,
   "id": "b7fbde55-a0a1-47e4-9af6-fe4a17fa8c61",
   "metadata": {
    "execution": {
     "iopub.execute_input": "2025-07-30T21:27:19.369747Z",
     "iopub.status.busy": "2025-07-30T21:27:19.368964Z",
     "iopub.status.idle": "2025-07-30T21:27:19.373265Z",
     "shell.execute_reply": "2025-07-30T21:27:19.372545Z"
    },
    "papermill": {
     "duration": 0.027016,
     "end_time": "2025-07-30T21:27:19.374545",
     "exception": false,
     "start_time": "2025-07-30T21:27:19.347529",
     "status": "completed"
    },
    "tags": []
   },
   "outputs": [],
   "source": [
    "# Conditional Coverage & looking at subgroups"
   ]
  },
  {
   "cell_type": "code",
   "execution_count": 63,
   "id": "027ae886-68dd-4141-96c7-805a5450e1ef",
   "metadata": {
    "execution": {
     "iopub.execute_input": "2025-07-30T21:27:19.403290Z",
     "iopub.status.busy": "2025-07-30T21:27:19.402800Z",
     "iopub.status.idle": "2025-07-30T21:27:19.660565Z",
     "shell.execute_reply": "2025-07-30T21:27:19.659400Z"
    },
    "papermill": {
     "duration": 0.273951,
     "end_time": "2025-07-30T21:27:19.662365",
     "exception": false,
     "start_time": "2025-07-30T21:27:19.388414",
     "status": "completed"
    },
    "tags": []
   },
   "outputs": [],
   "source": [
    "from fairness_multiverse.conformal import build_cp_groups\n",
    "\n",
    "cp_groups_df = build_cp_groups(pred_sets, y_true, X_test.index, org_test)\n",
    "#needs universe_id and setting"
   ]
  },
  {
   "cell_type": "code",
   "execution_count": 64,
   "id": "01d5802c-663a-4d1f-9d69-e036faaffbf7",
   "metadata": {
    "execution": {
     "iopub.execute_input": "2025-07-30T21:27:19.730784Z",
     "iopub.status.busy": "2025-07-30T21:27:19.730180Z",
     "iopub.status.idle": "2025-07-30T21:27:19.735193Z",
     "shell.execute_reply": "2025-07-30T21:27:19.734182Z"
    },
    "papermill": {
     "duration": 0.039825,
     "end_time": "2025-07-30T21:27:19.736846",
     "exception": false,
     "start_time": "2025-07-30T21:27:19.697021",
     "status": "completed"
    },
    "tags": []
   },
   "outputs": [],
   "source": [
    "#delete\n",
    "#cp_groups_df"
   ]
  },
  {
   "cell_type": "code",
   "execution_count": 65,
   "id": "fa424af1-d1eb-443d-b717-2d279ada8408",
   "metadata": {
    "execution": {
     "iopub.execute_input": "2025-07-30T21:27:19.791933Z",
     "iopub.status.busy": "2025-07-30T21:27:19.791477Z",
     "iopub.status.idle": "2025-07-30T21:27:19.797277Z",
     "shell.execute_reply": "2025-07-30T21:27:19.795918Z"
    },
    "papermill": {
     "duration": 0.036176,
     "end_time": "2025-07-30T21:27:19.799093",
     "exception": false,
     "start_time": "2025-07-30T21:27:19.762917",
     "status": "completed"
    },
    "tags": []
   },
   "outputs": [],
   "source": [
    "#delete\n",
    "#percentage = (cp_groups_df['nongerman_female'] == 1).mean() * 100\n",
    "#print(percentage)\n"
   ]
  },
  {
   "cell_type": "code",
   "execution_count": 66,
   "id": "6cbdab96-b2b2-45af-ad54-d0516db2e28d",
   "metadata": {
    "execution": {
     "iopub.execute_input": "2025-07-30T21:27:19.874678Z",
     "iopub.status.busy": "2025-07-30T21:27:19.874221Z",
     "iopub.status.idle": "2025-07-30T21:27:21.396004Z",
     "shell.execute_reply": "2025-07-30T21:27:21.394818Z"
    },
    "papermill": {
     "duration": 1.550655,
     "end_time": "2025-07-30T21:27:21.397673",
     "exception": false,
     "start_time": "2025-07-30T21:27:19.847018",
     "status": "completed"
    },
    "tags": []
   },
   "outputs": [],
   "source": [
    "# Define covered = 1 if true_label is in the predicted set\n",
    "cp_groups_df['covered'] = cp_groups_df.apply(\n",
    "    lambda r: int(r['true_label'] in r['pred_set']),\n",
    "    axis=1\n",
    ")"
   ]
  },
  {
   "cell_type": "code",
   "execution_count": 67,
   "id": "338ff529-1a6b-4b87-a931-8e4788d52aad",
   "metadata": {
    "execution": {
     "iopub.execute_input": "2025-07-30T21:27:21.453428Z",
     "iopub.status.busy": "2025-07-30T21:27:21.452359Z",
     "iopub.status.idle": "2025-07-30T21:27:21.458119Z",
     "shell.execute_reply": "2025-07-30T21:27:21.457211Z"
    },
    "papermill": {
     "duration": 0.036217,
     "end_time": "2025-07-30T21:27:21.459654",
     "exception": false,
     "start_time": "2025-07-30T21:27:21.423437",
     "status": "completed"
    },
    "tags": []
   },
   "outputs": [],
   "source": [
    "#cp_groups_df"
   ]
  },
  {
   "cell_type": "code",
   "execution_count": 68,
   "id": "90032e27-66df-4540-9169-4e89cfbaa758",
   "metadata": {
    "execution": {
     "iopub.execute_input": "2025-07-30T21:27:21.533772Z",
     "iopub.status.busy": "2025-07-30T21:27:21.533318Z",
     "iopub.status.idle": "2025-07-30T21:27:21.543542Z",
     "shell.execute_reply": "2025-07-30T21:27:21.542743Z"
    },
    "papermill": {
     "duration": 0.05766,
     "end_time": "2025-07-30T21:27:21.545112",
     "exception": false,
     "start_time": "2025-07-30T21:27:21.487452",
     "status": "completed"
    },
    "tags": []
   },
   "outputs": [],
   "source": [
    "subgroups = ['frau1','nongerman','nongerman_male','nongerman_female']\n",
    "\n",
    "# Conditional coverage for subgroup==1\n",
    "cond_coverage = {\n",
    "    g: cp_groups_df.loc[cp_groups_df[g]==1, 'covered'].mean()\n",
    "    for g in subgroups\n",
    "}"
   ]
  },
  {
   "cell_type": "code",
   "execution_count": 69,
   "id": "1e348fb1-b9c3-45bc-ba23-f016827a7e0d",
   "metadata": {
    "execution": {
     "iopub.execute_input": "2025-07-30T21:27:21.575549Z",
     "iopub.status.busy": "2025-07-30T21:27:21.575050Z",
     "iopub.status.idle": "2025-07-30T21:27:21.581855Z",
     "shell.execute_reply": "2025-07-30T21:27:21.580993Z"
    },
    "papermill": {
     "duration": 0.02355,
     "end_time": "2025-07-30T21:27:21.583216",
     "exception": false,
     "start_time": "2025-07-30T21:27:21.559666",
     "status": "completed"
    },
    "tags": []
   },
   "outputs": [
    {
     "data": {
      "text/plain": [
       "{'frau1': 0.9050006739452756,\n",
       " 'nongerman': 0.9056868579127604,\n",
       " 'nongerman_male': 0.9240745744393407,\n",
       " 'nongerman_female': 0.8752608047690015}"
      ]
     },
     "execution_count": 69,
     "metadata": {},
     "output_type": "execute_result"
    }
   ],
   "source": [
    "cond_coverage"
   ]
  },
  {
   "cell_type": "code",
   "execution_count": 70,
   "id": "f5093324-c3dd-4d63-bc4c-8d945e5c8bbb",
   "metadata": {
    "execution": {
     "iopub.execute_input": "2025-07-30T21:27:21.614355Z",
     "iopub.status.busy": "2025-07-30T21:27:21.613858Z",
     "iopub.status.idle": "2025-07-30T21:27:21.619729Z",
     "shell.execute_reply": "2025-07-30T21:27:21.618844Z"
    },
    "papermill": {
     "duration": 0.022419,
     "end_time": "2025-07-30T21:27:21.621145",
     "exception": false,
     "start_time": "2025-07-30T21:27:21.598726",
     "status": "completed"
    },
    "tags": []
   },
   "outputs": [],
   "source": [
    "for subgroup, cov in cond_coverage.items():\n",
    "    cp_metrics_df[f\"cov_{subgroup}\"] = cov"
   ]
  },
  {
   "cell_type": "code",
   "execution_count": 71,
   "id": "6e872e10-dbe5-49e8-b554-5030c98ff75d",
   "metadata": {
    "execution": {
     "iopub.execute_input": "2025-07-30T21:27:21.650930Z",
     "iopub.status.busy": "2025-07-30T21:27:21.650423Z",
     "iopub.status.idle": "2025-07-30T21:27:21.664782Z",
     "shell.execute_reply": "2025-07-30T21:27:21.663982Z"
    },
    "papermill": {
     "duration": 0.03001,
     "end_time": "2025-07-30T21:27:21.666074",
     "exception": false,
     "start_time": "2025-07-30T21:27:21.636064",
     "status": "completed"
    },
    "tags": []
   },
   "outputs": [
    {
     "data": {
      "text/html": [
       "<div>\n",
       "<style scoped>\n",
       "    .dataframe tbody tr th:only-of-type {\n",
       "        vertical-align: middle;\n",
       "    }\n",
       "\n",
       "    .dataframe tbody tr th {\n",
       "        vertical-align: top;\n",
       "    }\n",
       "\n",
       "    .dataframe thead th {\n",
       "        text-align: right;\n",
       "    }\n",
       "</style>\n",
       "<table border=\"1\" class=\"dataframe\">\n",
       "  <thead>\n",
       "    <tr style=\"text-align: right;\">\n",
       "      <th></th>\n",
       "      <th>universe_id</th>\n",
       "      <th>universe_training_year</th>\n",
       "      <th>universe_training_size</th>\n",
       "      <th>universe_scale</th>\n",
       "      <th>universe_model</th>\n",
       "      <th>universe_exclude_features</th>\n",
       "      <th>universe_exclude_subgroups</th>\n",
       "      <th>q_hat</th>\n",
       "      <th>coverage</th>\n",
       "      <th>avg_size</th>\n",
       "      <th>cov_frau1</th>\n",
       "      <th>cov_nongerman</th>\n",
       "      <th>cov_nongerman_male</th>\n",
       "      <th>cov_nongerman_female</th>\n",
       "    </tr>\n",
       "  </thead>\n",
       "  <tbody>\n",
       "    <tr>\n",
       "      <th>0</th>\n",
       "      <td>abb92f03681f73ef211ac46ed9b74909</td>\n",
       "      <td>2014</td>\n",
       "      <td>1k</td>\n",
       "      <td>scale</td>\n",
       "      <td>elasticnet</td>\n",
       "      <td>age</td>\n",
       "      <td>drop-non-german</td>\n",
       "      <td>0.831104</td>\n",
       "      <td>0.908628</td>\n",
       "      <td>1.258299</td>\n",
       "      <td>0.905001</td>\n",
       "      <td>0.905687</td>\n",
       "      <td>0.924075</td>\n",
       "      <td>0.875261</td>\n",
       "    </tr>\n",
       "  </tbody>\n",
       "</table>\n",
       "</div>"
      ],
      "text/plain": [
       "                        universe_id universe_training_year  \\\n",
       "0  abb92f03681f73ef211ac46ed9b74909                   2014   \n",
       "\n",
       "  universe_training_size universe_scale universe_model  \\\n",
       "0                     1k          scale     elasticnet   \n",
       "\n",
       "  universe_exclude_features universe_exclude_subgroups     q_hat  coverage  \\\n",
       "0                       age            drop-non-german  0.831104  0.908628   \n",
       "\n",
       "   avg_size  cov_frau1  cov_nongerman  cov_nongerman_male  \\\n",
       "0  1.258299   0.905001       0.905687            0.924075   \n",
       "\n",
       "   cov_nongerman_female  \n",
       "0              0.875261  "
      ]
     },
     "execution_count": 71,
     "metadata": {},
     "output_type": "execute_result"
    }
   ],
   "source": [
    "cp_metrics_df"
   ]
  },
  {
   "cell_type": "markdown",
   "id": "33774451",
   "metadata": {
    "papermill": {
     "duration": 0.013247,
     "end_time": "2025-07-30T21:27:21.694324",
     "exception": false,
     "start_time": "2025-07-30T21:27:21.681077",
     "status": "completed"
    },
    "tags": []
   },
   "source": [
    "# (Fairness) Metrics"
   ]
  },
  {
   "cell_type": "code",
   "execution_count": 72,
   "id": "debc5d62",
   "metadata": {
    "execution": {
     "iopub.execute_input": "2025-07-30T21:27:21.722854Z",
     "iopub.status.busy": "2025-07-30T21:27:21.722059Z",
     "iopub.status.idle": "2025-07-30T21:27:21.736598Z",
     "shell.execute_reply": "2025-07-30T21:27:21.735664Z"
    },
    "papermill": {
     "duration": 0.030049,
     "end_time": "2025-07-30T21:27:21.737845",
     "exception": false,
     "start_time": "2025-07-30T21:27:21.707796",
     "status": "completed"
    },
    "tags": []
   },
   "outputs": [],
   "source": [
    "# do I need to include maxdeutsch1.missing?\n",
    "\n",
    "import numpy as np\n",
    "\n",
    "colname_to_bin = \"maxdeutsch1\"\n",
    "majority_value = org_train[colname_to_bin].mode()[0]\n",
    "\n",
    "org_test[\"majmin\"] = np.where(org_test[colname_to_bin] == majority_value, \"majority\", \"minority\")"
   ]
  },
  {
   "cell_type": "code",
   "execution_count": 73,
   "id": "06a50de5",
   "metadata": {
    "execution": {
     "iopub.execute_input": "2025-07-30T21:27:21.767758Z",
     "iopub.status.busy": "2025-07-30T21:27:21.767024Z",
     "iopub.status.idle": "2025-07-30T21:27:23.357282Z",
     "shell.execute_reply": "2025-07-30T21:27:23.356554Z"
    },
    "papermill": {
     "duration": 1.605922,
     "end_time": "2025-07-30T21:27:23.358664",
     "exception": false,
     "start_time": "2025-07-30T21:27:21.752742",
     "status": "completed"
    },
    "tags": []
   },
   "outputs": [],
   "source": [
    "example_universe = universe.copy()\n",
    "example_universe[\"cutoff\"] = example_universe[\"cutoff\"][0]\n",
    "example_universe[\"eval_fairness_grouping\"] = example_universe[\"eval_fairness_grouping\"][0]\n",
    "fairness_dict, metric_frame = universe_analysis.compute_metrics(\n",
    "    example_universe,\n",
    "    y_pred_prob=probs_test,\n",
    "    y_test=y_true,\n",
    "    org_test=org_test,\n",
    ")"
   ]
  },
  {
   "cell_type": "markdown",
   "id": "f95d4e02",
   "metadata": {
    "papermill": {
     "duration": 0.013605,
     "end_time": "2025-07-30T21:27:23.387019",
     "exception": false,
     "start_time": "2025-07-30T21:27:23.373414",
     "status": "completed"
    },
    "tags": []
   },
   "source": [
    "# Overall"
   ]
  },
  {
   "cell_type": "markdown",
   "id": "bdee4871",
   "metadata": {
    "papermill": {
     "duration": 0.01337,
     "end_time": "2025-07-30T21:27:23.413981",
     "exception": false,
     "start_time": "2025-07-30T21:27:23.400611",
     "status": "completed"
    },
    "tags": []
   },
   "source": [
    "Fairness\n",
    "Main fairness target: Equalized Odds. Seems to be a better fit than equal opportunity, since we're not only interested in Y = 1. Seems to be a better fit than demographic parity, since we also care about accuracy, not just equal distribution of preds.\n",
    "\n",
    "Pick column for computation of fairness metrics\n",
    "\n",
    "Performance\n",
    "Overall performance measures, most interesting in relation to the measures split by group below"
   ]
  },
  {
   "cell_type": "code",
   "execution_count": 74,
   "id": "c4e067c6",
   "metadata": {
    "execution": {
     "iopub.execute_input": "2025-07-30T21:27:23.466552Z",
     "iopub.status.busy": "2025-07-30T21:27:23.466053Z",
     "iopub.status.idle": "2025-07-30T21:27:23.475207Z",
     "shell.execute_reply": "2025-07-30T21:27:23.474469Z"
    },
    "papermill": {
     "duration": 0.03976,
     "end_time": "2025-07-30T21:27:23.477027",
     "exception": false,
     "start_time": "2025-07-30T21:27:23.437267",
     "status": "completed"
    },
    "tags": []
   },
   "outputs": [
    {
     "data": {
      "text/plain": [
       "accuracy                   0.217757\n",
       "balanced accuracy          0.533833\n",
       "f1                         0.239271\n",
       "precision                  0.136687\n",
       "false positive rate        0.891320\n",
       "false negative rate        0.041015\n",
       "selection rate             0.900000\n",
       "count                  89710.000000\n",
       "dtype: float64"
      ]
     },
     "execution_count": 74,
     "metadata": {},
     "output_type": "execute_result"
    }
   ],
   "source": [
    "metric_frame.overall"
   ]
  },
  {
   "cell_type": "markdown",
   "id": "e968fe9d",
   "metadata": {
    "papermill": {
     "duration": 0.027875,
     "end_time": "2025-07-30T21:27:23.533617",
     "exception": false,
     "start_time": "2025-07-30T21:27:23.505742",
     "status": "completed"
    },
    "tags": []
   },
   "source": [
    "By Group"
   ]
  },
  {
   "cell_type": "code",
   "execution_count": 75,
   "id": "ec325bce",
   "metadata": {
    "execution": {
     "iopub.execute_input": "2025-07-30T21:27:23.566373Z",
     "iopub.status.busy": "2025-07-30T21:27:23.566033Z",
     "iopub.status.idle": "2025-07-30T21:27:23.578794Z",
     "shell.execute_reply": "2025-07-30T21:27:23.578030Z"
    },
    "papermill": {
     "duration": 0.029218,
     "end_time": "2025-07-30T21:27:23.580216",
     "exception": false,
     "start_time": "2025-07-30T21:27:23.550998",
     "status": "completed"
    },
    "tags": []
   },
   "outputs": [
    {
     "data": {
      "text/html": [
       "<div>\n",
       "<style scoped>\n",
       "    .dataframe tbody tr th:only-of-type {\n",
       "        vertical-align: middle;\n",
       "    }\n",
       "\n",
       "    .dataframe tbody tr th {\n",
       "        vertical-align: top;\n",
       "    }\n",
       "\n",
       "    .dataframe thead th {\n",
       "        text-align: right;\n",
       "    }\n",
       "</style>\n",
       "<table border=\"1\" class=\"dataframe\">\n",
       "  <thead>\n",
       "    <tr style=\"text-align: right;\">\n",
       "      <th></th>\n",
       "      <th>accuracy</th>\n",
       "      <th>balanced accuracy</th>\n",
       "      <th>f1</th>\n",
       "      <th>precision</th>\n",
       "      <th>false positive rate</th>\n",
       "      <th>false negative rate</th>\n",
       "      <th>selection rate</th>\n",
       "      <th>count</th>\n",
       "    </tr>\n",
       "    <tr>\n",
       "      <th>majmin</th>\n",
       "      <th></th>\n",
       "      <th></th>\n",
       "      <th></th>\n",
       "      <th></th>\n",
       "      <th></th>\n",
       "      <th></th>\n",
       "      <th></th>\n",
       "      <th></th>\n",
       "    </tr>\n",
       "  </thead>\n",
       "  <tbody>\n",
       "    <tr>\n",
       "      <th>majority</th>\n",
       "      <td>0.231849</td>\n",
       "      <td>0.538942</td>\n",
       "      <td>0.247568</td>\n",
       "      <td>0.142188</td>\n",
       "      <td>0.878461</td>\n",
       "      <td>0.043654</td>\n",
       "      <td>0.888752</td>\n",
       "      <td>69170.0</td>\n",
       "    </tr>\n",
       "    <tr>\n",
       "      <th>minority</th>\n",
       "      <td>0.170302</td>\n",
       "      <td>0.517687</td>\n",
       "      <td>0.212186</td>\n",
       "      <td>0.119134</td>\n",
       "      <td>0.933799</td>\n",
       "      <td>0.030828</td>\n",
       "      <td>0.937877</td>\n",
       "      <td>20540.0</td>\n",
       "    </tr>\n",
       "  </tbody>\n",
       "</table>\n",
       "</div>"
      ],
      "text/plain": [
       "          accuracy  balanced accuracy        f1  precision  \\\n",
       "majmin                                                       \n",
       "majority  0.231849           0.538942  0.247568   0.142188   \n",
       "minority  0.170302           0.517687  0.212186   0.119134   \n",
       "\n",
       "          false positive rate  false negative rate  selection rate    count  \n",
       "majmin                                                                       \n",
       "majority             0.878461             0.043654        0.888752  69170.0  \n",
       "minority             0.933799             0.030828        0.937877  20540.0  "
      ]
     },
     "execution_count": 75,
     "metadata": {},
     "output_type": "execute_result"
    }
   ],
   "source": [
    "metric_frame.by_group"
   ]
  },
  {
   "cell_type": "code",
   "execution_count": 76,
   "id": "a9ddbe63",
   "metadata": {
    "execution": {
     "iopub.execute_input": "2025-07-30T21:27:23.616744Z",
     "iopub.status.busy": "2025-07-30T21:27:23.616002Z",
     "iopub.status.idle": "2025-07-30T21:27:26.006245Z",
     "shell.execute_reply": "2025-07-30T21:27:26.005343Z"
    },
    "papermill": {
     "duration": 2.410221,
     "end_time": "2025-07-30T21:27:26.007796",
     "exception": false,
     "start_time": "2025-07-30T21:27:23.597575",
     "status": "completed"
    },
    "tags": []
   },
   "outputs": [
    {
     "data": {
      "text/plain": [
       "array([[<Axes: title={'center': 'accuracy'}, xlabel='majmin'>,\n",
       "        <Axes: title={'center': 'balanced accuracy'}, xlabel='majmin'>,\n",
       "        <Axes: title={'center': 'f1'}, xlabel='majmin'>],\n",
       "       [<Axes: title={'center': 'precision'}, xlabel='majmin'>,\n",
       "        <Axes: title={'center': 'false positive rate'}, xlabel='majmin'>,\n",
       "        <Axes: title={'center': 'false negative rate'}, xlabel='majmin'>],\n",
       "       [<Axes: title={'center': 'selection rate'}, xlabel='majmin'>,\n",
       "        <Axes: title={'center': 'count'}, xlabel='majmin'>,\n",
       "        <Axes: xlabel='majmin'>]], dtype=object)"
      ]
     },
     "execution_count": 76,
     "metadata": {},
     "output_type": "execute_result"
    },
    {
     "data": {
      "image/png": "[encoded data removed]",
      "text/plain": [
       "<Figure size 1200x800 with 9 Axes>"
      ]
     },
     "metadata": {},
     "output_type": "display_data"
    }
   ],
   "source": [
    "# In a graphic\n",
    "metric_frame.by_group.plot.bar(\n",
    "    subplots=True,\n",
    "    layout=[3, 3],\n",
    "    legend=False,\n",
    "    figsize=[12, 8],\n",
    "    title=\"Show all metrics\",\n",
    ")"
   ]
  },
  {
   "cell_type": "markdown",
   "id": "f57a0bac",
   "metadata": {
    "papermill": {
     "duration": 0.03081,
     "end_time": "2025-07-30T21:27:26.068091",
     "exception": false,
     "start_time": "2025-07-30T21:27:26.037281",
     "status": "completed"
    },
    "tags": []
   },
   "source": [
    "# Final Output"
   ]
  },
  {
   "cell_type": "code",
   "execution_count": 77,
   "id": "96d280a3",
   "metadata": {
    "execution": {
     "iopub.execute_input": "2025-07-30T21:27:26.113878Z",
     "iopub.status.busy": "2025-07-30T21:27:26.112924Z",
     "iopub.status.idle": "2025-07-30T21:27:26.120841Z",
     "shell.execute_reply": "2025-07-30T21:27:26.119861Z"
    },
    "papermill": {
     "duration": 0.025897,
     "end_time": "2025-07-30T21:27:26.122481",
     "exception": false,
     "start_time": "2025-07-30T21:27:26.096584",
     "status": "completed"
    },
    "tags": []
   },
   "outputs": [
    {
     "data": {
      "text/plain": [
       "4"
      ]
     },
     "execution_count": 77,
     "metadata": {},
     "output_type": "execute_result"
    }
   ],
   "source": [
    "sub_universes = universe_analysis.generate_sub_universes()\n",
    "len(sub_universes)"
   ]
  },
  {
   "cell_type": "code",
   "execution_count": 78,
   "id": "92adf7ba",
   "metadata": {
    "execution": {
     "iopub.execute_input": "2025-07-30T21:27:26.179602Z",
     "iopub.status.busy": "2025-07-30T21:27:26.179123Z",
     "iopub.status.idle": "2025-07-30T21:27:26.185825Z",
     "shell.execute_reply": "2025-07-30T21:27:26.184922Z"
    },
    "papermill": {
     "duration": 0.038137,
     "end_time": "2025-07-30T21:27:26.187410",
     "exception": false,
     "start_time": "2025-07-30T21:27:26.149273",
     "status": "completed"
    },
    "tags": []
   },
   "outputs": [],
   "source": [
    "def filter_sub_universe_data(sub_universe, org_test):\n",
    "    # Keep all rows — no filtering\n",
    "    keep_rows_mask = np.ones(org_test.shape[0], dtype=bool)\n",
    "\n",
    "    print(f\"[INFO] Keeping all rows: {keep_rows_mask.sum()} rows retained.\")\n",
    "    return keep_rows_mask"
   ]
  },
  {
   "cell_type": "code",
   "execution_count": 79,
   "id": "4a759155",
   "metadata": {
    "execution": {
     "iopub.execute_input": "2025-07-30T21:27:26.244910Z",
     "iopub.status.busy": "2025-07-30T21:27:26.244489Z",
     "iopub.status.idle": "2025-07-30T21:27:36.036026Z",
     "shell.execute_reply": "2025-07-30T21:27:36.034784Z"
    },
    "papermill": {
     "duration": 9.821554,
     "end_time": "2025-07-30T21:27:36.037902",
     "exception": false,
     "start_time": "2025-07-30T21:27:26.216348",
     "status": "completed"
    },
    "tags": []
   },
   "outputs": [
    {
     "name": "stdout",
     "output_type": "stream",
     "text": [
      "Stopping execution_time clock.\n",
      "[INFO] Keeping all rows: 89710 rows retained.\n"
     ]
    },
    {
     "name": "stdout",
     "output_type": "stream",
     "text": [
      "[INFO] Keeping all rows: 89710 rows retained.\n"
     ]
    },
    {
     "name": "stdout",
     "output_type": "stream",
     "text": [
      "[INFO] Keeping all rows: 89710 rows retained.\n"
     ]
    },
    {
     "name": "stdout",
     "output_type": "stream",
     "text": [
      "[INFO] Keeping all rows: 89710 rows retained.\n"
     ]
    },
    {
     "data": {
      "text/html": [
       "<div>\n",
       "<style scoped>\n",
       "    .dataframe tbody tr th:only-of-type {\n",
       "        vertical-align: middle;\n",
       "    }\n",
       "\n",
       "    .dataframe tbody tr th {\n",
       "        vertical-align: top;\n",
       "    }\n",
       "\n",
       "    .dataframe thead th {\n",
       "        text-align: right;\n",
       "    }\n",
       "</style>\n",
       "<table border=\"1\" class=\"dataframe\">\n",
       "  <thead>\n",
       "    <tr style=\"text-align: right;\">\n",
       "      <th></th>\n",
       "      <th>run_no</th>\n",
       "      <th>universe_id</th>\n",
       "      <th>universe_settings</th>\n",
       "      <th>execution_time</th>\n",
       "      <th>test_size_n</th>\n",
       "      <th>test_size_frac</th>\n",
       "      <th>fair_main_equalized_odds_difference</th>\n",
       "      <th>fair_main_equalized_odds_ratio</th>\n",
       "      <th>fair_main_demographic_parity_difference</th>\n",
       "      <th>fair_main_demographic_parity_ratio</th>\n",
       "      <th>...</th>\n",
       "      <th>perf_grp_precision_0</th>\n",
       "      <th>perf_grp_precision_1</th>\n",
       "      <th>perf_grp_false positive rate_0</th>\n",
       "      <th>perf_grp_false positive rate_1</th>\n",
       "      <th>perf_grp_false negative rate_0</th>\n",
       "      <th>perf_grp_false negative rate_1</th>\n",
       "      <th>perf_grp_selection rate_0</th>\n",
       "      <th>perf_grp_selection rate_1</th>\n",
       "      <th>perf_grp_count_0</th>\n",
       "      <th>perf_grp_count_1</th>\n",
       "    </tr>\n",
       "  </thead>\n",
       "  <tbody>\n",
       "    <tr>\n",
       "      <th>0</th>\n",
       "      <td>14</td>\n",
       "      <td>abb92f03681f73ef211ac46ed9b74909</td>\n",
       "      <td>{\"cutoff\": \"quantile_0.1\", \"eval_fairness_grou...</td>\n",
       "      <td>28.598687</td>\n",
       "      <td>89710</td>\n",
       "      <td>1.0</td>\n",
       "      <td>0.055338</td>\n",
       "      <td>0.940738</td>\n",
       "      <td>0.049125</td>\n",
       "      <td>0.947621</td>\n",
       "      <td>...</td>\n",
       "      <td>NaN</td>\n",
       "      <td>NaN</td>\n",
       "      <td>NaN</td>\n",
       "      <td>NaN</td>\n",
       "      <td>NaN</td>\n",
       "      <td>NaN</td>\n",
       "      <td>NaN</td>\n",
       "      <td>NaN</td>\n",
       "      <td>NaN</td>\n",
       "      <td>NaN</td>\n",
       "    </tr>\n",
       "    <tr>\n",
       "      <th>0</th>\n",
       "      <td>14</td>\n",
       "      <td>abb92f03681f73ef211ac46ed9b74909</td>\n",
       "      <td>{\"cutoff\": \"quantile_0.1\", \"eval_fairness_grou...</td>\n",
       "      <td>28.598687</td>\n",
       "      <td>89710</td>\n",
       "      <td>1.0</td>\n",
       "      <td>0.055338</td>\n",
       "      <td>0.940738</td>\n",
       "      <td>0.049125</td>\n",
       "      <td>0.947621</td>\n",
       "      <td>...</td>\n",
       "      <td>0.119134</td>\n",
       "      <td>0.142188</td>\n",
       "      <td>0.933799</td>\n",
       "      <td>0.878461</td>\n",
       "      <td>0.030828</td>\n",
       "      <td>0.043654</td>\n",
       "      <td>0.937877</td>\n",
       "      <td>0.888752</td>\n",
       "      <td>20540.0</td>\n",
       "      <td>69170.0</td>\n",
       "    </tr>\n",
       "    <tr>\n",
       "      <th>0</th>\n",
       "      <td>14</td>\n",
       "      <td>abb92f03681f73ef211ac46ed9b74909</td>\n",
       "      <td>{\"cutoff\": \"quantile_0.25\", \"eval_fairness_gro...</td>\n",
       "      <td>28.598687</td>\n",
       "      <td>89710</td>\n",
       "      <td>1.0</td>\n",
       "      <td>0.066739</td>\n",
       "      <td>0.914684</td>\n",
       "      <td>0.056078</td>\n",
       "      <td>0.929305</td>\n",
       "      <td>...</td>\n",
       "      <td>NaN</td>\n",
       "      <td>NaN</td>\n",
       "      <td>NaN</td>\n",
       "      <td>NaN</td>\n",
       "      <td>NaN</td>\n",
       "      <td>NaN</td>\n",
       "      <td>NaN</td>\n",
       "      <td>NaN</td>\n",
       "      <td>NaN</td>\n",
       "      <td>NaN</td>\n",
       "    </tr>\n",
       "    <tr>\n",
       "      <th>0</th>\n",
       "      <td>14</td>\n",
       "      <td>abb92f03681f73ef211ac46ed9b74909</td>\n",
       "      <td>{\"cutoff\": \"quantile_0.25\", \"eval_fairness_gro...</td>\n",
       "      <td>28.598687</td>\n",
       "      <td>89710</td>\n",
       "      <td>1.0</td>\n",
       "      <td>0.066739</td>\n",
       "      <td>0.914684</td>\n",
       "      <td>0.056078</td>\n",
       "      <td>0.929305</td>\n",
       "      <td>...</td>\n",
       "      <td>0.127539</td>\n",
       "      <td>0.157622</td>\n",
       "      <td>0.782247</td>\n",
       "      <td>0.715509</td>\n",
       "      <td>0.122466</td>\n",
       "      <td>0.120678</td>\n",
       "      <td>0.793233</td>\n",
       "      <td>0.737155</td>\n",
       "      <td>20540.0</td>\n",
       "      <td>69170.0</td>\n",
       "    </tr>\n",
       "  </tbody>\n",
       "</table>\n",
       "<p>4 rows × 50 columns</p>\n",
       "</div>"
      ],
      "text/plain": [
       "  run_no                       universe_id  \\\n",
       "0     14  abb92f03681f73ef211ac46ed9b74909   \n",
       "0     14  abb92f03681f73ef211ac46ed9b74909   \n",
       "0     14  abb92f03681f73ef211ac46ed9b74909   \n",
       "0     14  abb92f03681f73ef211ac46ed9b74909   \n",
       "\n",
       "                                   universe_settings  execution_time  \\\n",
       "0  {\"cutoff\": \"quantile_0.1\", \"eval_fairness_grou...       28.598687   \n",
       "0  {\"cutoff\": \"quantile_0.1\", \"eval_fairness_grou...       28.598687   \n",
       "0  {\"cutoff\": \"quantile_0.25\", \"eval_fairness_gro...       28.598687   \n",
       "0  {\"cutoff\": \"quantile_0.25\", \"eval_fairness_gro...       28.598687   \n",
       "\n",
       "   test_size_n  test_size_frac  fair_main_equalized_odds_difference  \\\n",
       "0        89710             1.0                             0.055338   \n",
       "0        89710             1.0                             0.055338   \n",
       "0        89710             1.0                             0.066739   \n",
       "0        89710             1.0                             0.066739   \n",
       "\n",
       "   fair_main_equalized_odds_ratio  fair_main_demographic_parity_difference  \\\n",
       "0                        0.940738                                 0.049125   \n",
       "0                        0.940738                                 0.049125   \n",
       "0                        0.914684                                 0.056078   \n",
       "0                        0.914684                                 0.056078   \n",
       "\n",
       "   fair_main_demographic_parity_ratio  ...  perf_grp_precision_0  \\\n",
       "0                            0.947621  ...                   NaN   \n",
       "0                            0.947621  ...              0.119134   \n",
       "0                            0.929305  ...                   NaN   \n",
       "0                            0.929305  ...              0.127539   \n",
       "\n",
       "   perf_grp_precision_1  perf_grp_false positive rate_0  \\\n",
       "0                   NaN                             NaN   \n",
       "0              0.142188                        0.933799   \n",
       "0                   NaN                             NaN   \n",
       "0              0.157622                        0.782247   \n",
       "\n",
       "   perf_grp_false positive rate_1  perf_grp_false negative rate_0  \\\n",
       "0                             NaN                             NaN   \n",
       "0                        0.878461                        0.030828   \n",
       "0                             NaN                             NaN   \n",
       "0                        0.715509                        0.122466   \n",
       "\n",
       "   perf_grp_false negative rate_1  perf_grp_selection rate_0  \\\n",
       "0                             NaN                        NaN   \n",
       "0                        0.043654                   0.937877   \n",
       "0                             NaN                        NaN   \n",
       "0                        0.120678                   0.793233   \n",
       "\n",
       "   perf_grp_selection rate_1  perf_grp_count_0  perf_grp_count_1  \n",
       "0                        NaN               NaN               NaN  \n",
       "0                   0.888752           20540.0           69170.0  \n",
       "0                        NaN               NaN               NaN  \n",
       "0                   0.737155           20540.0           69170.0  \n",
       "\n",
       "[4 rows x 50 columns]"
      ]
     },
     "execution_count": 79,
     "metadata": {},
     "output_type": "execute_result"
    }
   ],
   "source": [
    "final_output = universe_analysis.generate_final_output(\n",
    "    y_pred_prob=probs_test,\n",
    "    y_test=y_true,\n",
    "    org_test=org_test,\n",
    "    filter_data=filter_sub_universe_data,\n",
    "    cp_metrics_df=cp_metrics_df,\n",
    "    save=True,\n",
    ")\n",
    "final_output"
   ]
  },
  {
   "cell_type": "code",
   "execution_count": null,
   "id": "721ff514-cb11-46f8-b6fc-50392f74b5cb",
   "metadata": {
    "papermill": {
     "duration": 0.030806,
     "end_time": "2025-07-30T21:27:36.101892",
     "exception": false,
     "start_time": "2025-07-30T21:27:36.071086",
     "status": "completed"
    },
    "tags": []
   },
   "outputs": [],
   "source": []
  }
 ],
 "metadata": {
  "celltoolbar": "Tags",
  "kernelspec": {
   "display_name": "Python (CMA Fairness)",
   "language": "python",
   "name": "cma_fair_env"
  },
  "language_info": {
   "codemirror_mode": {
    "name": "ipython",
    "version": 3
   },
   "file_extension": ".py",
   "mimetype": "text/x-python",
   "name": "python",
   "nbconvert_exporter": "python",
   "pygments_lexer": "ipython3",
   "version": "3.10.12"
  },
  "papermill": {
   "default_parameters": {},
   "duration": 42.524037,
   "end_time": "2025-07-30T21:27:36.951957",
   "environment_variables": {},
   "exception": null,
   "input_path": "universe_analysis.ipynb",
   "output_path": "output/runs/14/notebooks/m_14-abb92f03681f73ef211ac46ed9b74909.ipynb",
   "parameters": {
    "output_dir": "output",
    "run_no": "14",
    "seed": "2023",
    "universe": "{\"cutoff\": [\"quantile_0.1\", \"quantile_0.25\"], \"eval_fairness_grouping\": [\"majority-minority\", \"nationality-all\"], \"exclude_features\": \"age\", \"exclude_subgroups\": \"drop-non-german\", \"model\": \"elasticnet\", \"scale\": \"scale\", \"training_size\": \"1k\", \"training_year\": \"2014\"}",
    "universe_id": "abb92f03681f73ef211ac46ed9b74909"
   },
   "start_time": "2025-07-30T21:26:54.427920",
   "version": "2.6.0"
  }
 },
 "nbformat": 4,
 "nbformat_minor": 5
}