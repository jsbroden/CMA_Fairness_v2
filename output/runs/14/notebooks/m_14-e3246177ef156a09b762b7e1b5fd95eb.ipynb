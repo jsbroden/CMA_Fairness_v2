{
 "cells": [
  {
   "cell_type": "code",
   "execution_count": 1,
   "id": "f159f837-637b-42ba-96b5-ec9a68c44524",
   "metadata": {
    "execution": {
     "iopub.execute_input": "2025-07-30T20:44:58.301993Z",
     "iopub.status.busy": "2025-07-30T20:44:58.301660Z",
     "iopub.status.idle": "2025-07-30T20:44:58.310790Z",
     "shell.execute_reply": "2025-07-30T20:44:58.310019Z"
    },
    "papermill": {
     "duration": 0.031684,
     "end_time": "2025-07-30T20:44:58.312873",
     "exception": false,
     "start_time": "2025-07-30T20:44:58.281189",
     "status": "completed"
    },
    "tags": []
   },
   "outputs": [
    {
     "name": "stdout",
     "output_type": "stream",
     "text": [
      "/dss/dsshome1/0C/ra93lal2/cma/CMA_Fairness_v2\n"
     ]
    },
    {
     "name": "stderr",
     "output_type": "stream",
     "text": [
      "/dss/dsshome1/0C/ra93lal2/.local/share/virtualenvs/CMA_Fairness_v2-3j10GkSs/lib/python3.10/site-packages/IPython/core/magics/osm.py:393: UserWarning: This is now an optional IPython functionality, using bookmarks requires you to install the `pickleshare` library.\n",
      "  bkms = self.shell.db.get('bookmarks', {})\n",
      "/dss/dsshome1/0C/ra93lal2/.local/share/virtualenvs/CMA_Fairness_v2-3j10GkSs/lib/python3.10/site-packages/IPython/core/magics/osm.py:417: UserWarning: This is now an optional IPython functionality, setting dhist requires you to install the `pickleshare` library.\n",
      "  self.shell.db['dhist'] = compress_dhist(dhist)[-100:]\n"
     ]
    }
   ],
   "source": [
    "%cd ~/cma/CMA_Fairness_v2"
   ]
  },
  {
   "cell_type": "markdown",
   "id": "de2603b9",
   "metadata": {
    "papermill": {
     "duration": 0.00954,
     "end_time": "2025-07-30T20:44:58.333354",
     "exception": false,
     "start_time": "2025-07-30T20:44:58.323814",
     "status": "completed"
    },
    "tags": []
   },
   "source": [
    "The following cell holds the definition of our parameters, these values can be overriden by rendering the with e.g. the following command:\n",
    "\n",
    "papermill -p alpha 0.2 -p ratio 0.3 universe_analysis.ipynb output/test_run.ipynb"
   ]
  },
  {
   "cell_type": "code",
   "execution_count": 2,
   "id": "a80968a0-40bb-4fa9-85ef-2d5eefb01975",
   "metadata": {
    "execution": {
     "iopub.execute_input": "2025-07-30T20:44:58.357219Z",
     "iopub.status.busy": "2025-07-30T20:44:58.356756Z",
     "iopub.status.idle": "2025-07-30T20:44:58.361078Z",
     "shell.execute_reply": "2025-07-30T20:44:58.360232Z"
    },
    "papermill": {
     "duration": 0.019494,
     "end_time": "2025-07-30T20:44:58.362561",
     "exception": false,
     "start_time": "2025-07-30T20:44:58.343067",
     "status": "completed"
    },
    "tags": []
   },
   "outputs": [
    {
     "name": "stdout",
     "output_type": "stream",
     "text": [
      "Current working directory: /dss/dsshome1/0C/ra93lal2/cma/CMA_Fairness_v2\n"
     ]
    }
   ],
   "source": [
    "import os\n",
    "print(\"Current working directory:\", os.getcwd())"
   ]
  },
  {
   "cell_type": "code",
   "execution_count": 3,
   "id": "2dce4c03",
   "metadata": {
    "execution": {
     "iopub.execute_input": "2025-07-30T20:44:58.384947Z",
     "iopub.status.busy": "2025-07-30T20:44:58.384461Z",
     "iopub.status.idle": "2025-07-30T20:44:58.389087Z",
     "shell.execute_reply": "2025-07-30T20:44:58.388310Z"
    },
    "papermill": {
     "duration": 0.016809,
     "end_time": "2025-07-30T20:44:58.390383",
     "exception": false,
     "start_time": "2025-07-30T20:44:58.373574",
     "status": "completed"
    },
    "tags": [
     "parameters"
    ]
   },
   "outputs": [],
   "source": [
    "run_no = 0\n",
    "universe_id = \"test\"\n",
    "universe = {\n",
    "    \"training_size\": \"25k\", # \"25k\", \"5k\", \"1k\"\n",
    "    \"training_year\": \"2014\", # \"2014\", \"2012_14\", \"2010_14\"\n",
    "    \"scale\": \"scale\", # \"scale\", \"do-not-scale\",\n",
    "    #\"stratify_split\": \"target\", # \"none\", \"target\", \"protected-attribute\", \"both\",\n",
    "    \"model\": \"elasticnet\", # \"logreg\", \"penalized_logreg\", \"rf\", \"gbm\", \"elasticnet\"\n",
    "    \"cutoff\": [\"quantile_0.15\", \"quantile_0.30\"],\n",
    "    \"exclude_features\": \"age\", # \"none\", \"nationality\", \"sex\", \"nationality-sex\", \"age\"\n",
    "    \"exclude_subgroups\": \"keep-all\", # \"keep-all\", \"drop-non-german\"\n",
    "    \"eval_fairness_grouping\": [\"majority-minority\", \"nationality-all\"]\n",
    "}\n",
    "\n",
    "output_dir=\"./output\"\n",
    "seed=0"
   ]
  },
  {
   "cell_type": "code",
   "execution_count": 4,
   "id": "08e561ee",
   "metadata": {
    "execution": {
     "iopub.execute_input": "2025-07-30T20:44:58.429142Z",
     "iopub.status.busy": "2025-07-30T20:44:58.428517Z",
     "iopub.status.idle": "2025-07-30T20:44:58.434091Z",
     "shell.execute_reply": "2025-07-30T20:44:58.433070Z"
    },
    "papermill": {
     "duration": 0.031738,
     "end_time": "2025-07-30T20:44:58.435483",
     "exception": false,
     "start_time": "2025-07-30T20:44:58.403745",
     "status": "completed"
    },
    "tags": [
     "injected-parameters"
    ]
   },
   "outputs": [],
   "source": [
    "# Parameters\n",
    "universe_id = \"e3246177ef156a09b762b7e1b5fd95eb\"\n",
    "run_no = \"14\"\n",
    "universe = \"{\\\"cutoff\\\": [\\\"quantile_0.1\\\", \\\"quantile_0.25\\\"], \\\"eval_fairness_grouping\\\": [\\\"majority-minority\\\", \\\"nationality-all\\\"], \\\"exclude_features\\\": \\\"nationality-sex\\\", \\\"exclude_subgroups\\\": \\\"keep-all\\\", \\\"model\\\": \\\"penalized_logreg\\\", \\\"scale\\\": \\\"scale\\\", \\\"training_size\\\": \\\"5k\\\", \\\"training_year\\\": \\\"2014\\\"}\"\n",
    "output_dir = \"output\"\n",
    "seed = \"2023\"\n"
   ]
  },
  {
   "cell_type": "code",
   "execution_count": 5,
   "id": "1650acaf",
   "metadata": {
    "execution": {
     "iopub.execute_input": "2025-07-30T20:44:58.486578Z",
     "iopub.status.busy": "2025-07-30T20:44:58.486079Z",
     "iopub.status.idle": "2025-07-30T20:44:58.491870Z",
     "shell.execute_reply": "2025-07-30T20:44:58.490809Z"
    },
    "papermill": {
     "duration": 0.033059,
     "end_time": "2025-07-30T20:44:58.493708",
     "exception": false,
     "start_time": "2025-07-30T20:44:58.460649",
     "status": "completed"
    },
    "tags": []
   },
   "outputs": [],
   "source": [
    "import json\n",
    "# Parse universe into dict if it is passed as a string\n",
    "if isinstance(universe, str):\n",
    "    universe = json.loads(universe)"
   ]
  },
  {
   "cell_type": "code",
   "execution_count": 6,
   "id": "16620c48",
   "metadata": {
    "execution": {
     "iopub.execute_input": "2025-07-30T20:44:58.534552Z",
     "iopub.status.busy": "2025-07-30T20:44:58.533653Z",
     "iopub.status.idle": "2025-07-30T20:44:58.578111Z",
     "shell.execute_reply": "2025-07-30T20:44:58.577120Z"
    },
    "papermill": {
     "duration": 0.066542,
     "end_time": "2025-07-30T20:44:58.579709",
     "exception": false,
     "start_time": "2025-07-30T20:44:58.513167",
     "status": "completed"
    },
    "tags": []
   },
   "outputs": [],
   "source": [
    "# Auto-reload the custom package\n",
    "%load_ext autoreload\n",
    "%autoreload 1\n",
    "%aimport fairness_multiverse"
   ]
  },
  {
   "cell_type": "code",
   "execution_count": 7,
   "id": "01c5c9f3",
   "metadata": {
    "execution": {
     "iopub.execute_input": "2025-07-30T20:44:58.622421Z",
     "iopub.status.busy": "2025-07-30T20:44:58.621979Z",
     "iopub.status.idle": "2025-07-30T20:45:00.426930Z",
     "shell.execute_reply": "2025-07-30T20:45:00.425723Z"
    },
    "papermill": {
     "duration": 1.829601,
     "end_time": "2025-07-30T20:45:00.428967",
     "exception": false,
     "start_time": "2025-07-30T20:44:58.599366",
     "status": "completed"
    },
    "tags": []
   },
   "outputs": [],
   "source": [
    "from fairness_multiverse.universe import UniverseAnalysis\n",
    "\n",
    "universe_analysis = UniverseAnalysis(\n",
    "    run_no = run_no,\n",
    "    universe_id = universe_id,\n",
    "    universe = universe,\n",
    "    output_dir=output_dir,\n",
    ")"
   ]
  },
  {
   "cell_type": "code",
   "execution_count": 8,
   "id": "106241f5",
   "metadata": {
    "execution": {
     "iopub.execute_input": "2025-07-30T20:45:00.468319Z",
     "iopub.status.busy": "2025-07-30T20:45:00.467388Z",
     "iopub.status.idle": "2025-07-30T20:45:00.475020Z",
     "shell.execute_reply": "2025-07-30T20:45:00.473553Z"
    },
    "papermill": {
     "duration": 0.04133,
     "end_time": "2025-07-30T20:45:00.489194",
     "exception": false,
     "start_time": "2025-07-30T20:45:00.447864",
     "status": "completed"
    },
    "tags": []
   },
   "outputs": [
    {
     "name": "stdout",
     "output_type": "stream",
     "text": [
      "Using Seed: 2023\n"
     ]
    }
   ],
   "source": [
    "import numpy as np\n",
    "parsed_seed = int(seed)\n",
    "np.random.seed(parsed_seed)\n",
    "print(f\"Using Seed: {parsed_seed}\")"
   ]
  },
  {
   "cell_type": "markdown",
   "id": "e0ebdc57",
   "metadata": {
    "papermill": {
     "duration": 0.020776,
     "end_time": "2025-07-30T20:45:00.540993",
     "exception": false,
     "start_time": "2025-07-30T20:45:00.520217",
     "status": "completed"
    },
    "tags": []
   },
   "source": [
    "# Loading Data"
   ]
  },
  {
   "cell_type": "markdown",
   "id": "681925a3",
   "metadata": {
    "papermill": {
     "duration": 0.018098,
     "end_time": "2025-07-30T20:45:00.578471",
     "exception": false,
     "start_time": "2025-07-30T20:45:00.560373",
     "status": "completed"
    },
    "tags": []
   },
   "source": [
    "Load siab_train, siab_test, siab_calib and/or \n",
    "load siab_train_features, siab_train_labels"
   ]
  },
  {
   "cell_type": "code",
   "execution_count": 9,
   "id": "f0496b8a",
   "metadata": {
    "execution": {
     "iopub.execute_input": "2025-07-30T20:45:00.617099Z",
     "iopub.status.busy": "2025-07-30T20:45:00.616224Z",
     "iopub.status.idle": "2025-07-30T20:45:14.106579Z",
     "shell.execute_reply": "2025-07-30T20:45:14.105405Z"
    },
    "papermill": {
     "duration": 13.512275,
     "end_time": "2025-07-30T20:45:14.108608",
     "exception": false,
     "start_time": "2025-07-30T20:45:00.596333",
     "status": "completed"
    },
    "tags": []
   },
   "outputs": [
    {
     "name": "stdout",
     "output_type": "stream",
     "text": [
      "Loading SIAB data from cache: data/siab_cached.csv.gz\n"
     ]
    },
    {
     "name": "stdout",
     "output_type": "stream",
     "text": [
      "(643690, 164)\n"
     ]
    }
   ],
   "source": [
    "from pathlib import Path\n",
    "import pandas as pd\n",
    "\n",
    "# File paths\n",
    "raw_file = Path(\"data/raw/siab.csv\")\n",
    "cache_file = Path(\"data/siab_cached.csv.gz\")\n",
    "\n",
    "# Ensure cache directory exists\n",
    "cache_file.parent.mkdir(parents=True, exist_ok=True)\n",
    "\n",
    "# Load with simple caching\n",
    "if cache_file.exists():\n",
    "    print(f\"Loading SIAB data from cache: {cache_file}\")\n",
    "    siab = pd.read_csv(cache_file, compression='gzip')\n",
    "else:\n",
    "    print(f\"Cache not found. Reading raw SIAB data: {raw_file}\")\n",
    "    siab = pd.read_csv(raw_file)\n",
    "    siab.to_csv(cache_file, index=False, compression='gzip')\n",
    "    print(f\"Cached SIAB data to: {cache_file}\")\n",
    "\n",
    "# Now use `siab` DataFrame as needed\n",
    "print(siab.shape)"
   ]
  },
  {
   "cell_type": "code",
   "execution_count": 10,
   "id": "db0ca512-5f53-4dba-abdb-a2888bca41ba",
   "metadata": {
    "execution": {
     "iopub.execute_input": "2025-07-30T20:45:14.163533Z",
     "iopub.status.busy": "2025-07-30T20:45:14.162805Z",
     "iopub.status.idle": "2025-07-30T20:45:14.168915Z",
     "shell.execute_reply": "2025-07-30T20:45:14.167686Z"
    },
    "papermill": {
     "duration": 0.033311,
     "end_time": "2025-07-30T20:45:14.170781",
     "exception": false,
     "start_time": "2025-07-30T20:45:14.137470",
     "status": "completed"
    },
    "tags": []
   },
   "outputs": [],
   "source": [
    "#siab"
   ]
  },
  {
   "cell_type": "code",
   "execution_count": 11,
   "id": "a0edb063",
   "metadata": {
    "execution": {
     "iopub.execute_input": "2025-07-30T20:45:14.224598Z",
     "iopub.status.busy": "2025-07-30T20:45:14.223911Z",
     "iopub.status.idle": "2025-07-30T20:45:14.229093Z",
     "shell.execute_reply": "2025-07-30T20:45:14.227893Z"
    },
    "papermill": {
     "duration": 0.033366,
     "end_time": "2025-07-30T20:45:14.230974",
     "exception": false,
     "start_time": "2025-07-30T20:45:14.197608",
     "status": "completed"
    },
    "tags": []
   },
   "outputs": [],
   "source": [
    "#import pandas as pd\n",
    "#\n",
    "#X_train = pd.read_csv(\"./data/X_train.csv\")\n",
    "#y_train = pd.read_csv(\"./data/y_train.csv\")"
   ]
  },
  {
   "cell_type": "code",
   "execution_count": 12,
   "id": "63d08085",
   "metadata": {
    "execution": {
     "iopub.execute_input": "2025-07-30T20:45:14.260692Z",
     "iopub.status.busy": "2025-07-30T20:45:14.260280Z",
     "iopub.status.idle": "2025-07-30T20:45:14.264823Z",
     "shell.execute_reply": "2025-07-30T20:45:14.264058Z"
    },
    "papermill": {
     "duration": 0.017257,
     "end_time": "2025-07-30T20:45:14.266125",
     "exception": false,
     "start_time": "2025-07-30T20:45:14.248868",
     "status": "completed"
    },
    "tags": []
   },
   "outputs": [],
   "source": [
    "#X_test = pd.read_csv(\"./data/X_test.csv\")\n",
    "#y_true = pd.read_csv(\"./data/y_test.csv\")"
   ]
  },
  {
   "cell_type": "code",
   "execution_count": 13,
   "id": "98a8d0fa-1d3d-4ed8-bb2c-281470e24add",
   "metadata": {
    "execution": {
     "iopub.execute_input": "2025-07-30T20:45:14.290016Z",
     "iopub.status.busy": "2025-07-30T20:45:14.289664Z",
     "iopub.status.idle": "2025-07-30T20:45:14.294237Z",
     "shell.execute_reply": "2025-07-30T20:45:14.293495Z"
    },
    "papermill": {
     "duration": 0.018086,
     "end_time": "2025-07-30T20:45:14.295490",
     "exception": false,
     "start_time": "2025-07-30T20:45:14.277404",
     "status": "completed"
    },
    "tags": []
   },
   "outputs": [],
   "source": [
    "# Calibration data for conformal\n",
    "#X_calib = pd.read_csv(\"./data/X_calib.csv\")\n",
    "#y_calib = pd.read_csv(\"./data/y_calib.csv\")"
   ]
  },
  {
   "cell_type": "markdown",
   "id": "997051c5-15bd-4b69-9786-c3001a3ce484",
   "metadata": {
    "papermill": {
     "duration": 0.011046,
     "end_time": "2025-07-30T20:45:14.317425",
     "exception": false,
     "start_time": "2025-07-30T20:45:14.306379",
     "status": "completed"
    },
    "tags": []
   },
   "source": [
    "# Splitting Data and Setting Training Data Size"
   ]
  },
  {
   "cell_type": "code",
   "execution_count": 14,
   "id": "e993b61f-042d-41a6-8c81-f55681f86335",
   "metadata": {
    "execution": {
     "iopub.execute_input": "2025-07-30T20:45:14.342240Z",
     "iopub.status.busy": "2025-07-30T20:45:14.341889Z",
     "iopub.status.idle": "2025-07-30T20:45:14.351604Z",
     "shell.execute_reply": "2025-07-30T20:45:14.350832Z"
    },
    "papermill": {
     "duration": 0.024582,
     "end_time": "2025-07-30T20:45:14.352861",
     "exception": false,
     "start_time": "2025-07-30T20:45:14.328279",
     "status": "completed"
    },
    "tags": []
   },
   "outputs": [],
   "source": [
    "def sample_by_year_size(df,\n",
    "                        training_year: str,\n",
    "                        training_size: str,\n",
    "                        random_state: int = 42):\n",
    "    # --- parse training_year into a list of int years ---\n",
    "    if \"_\" in training_year:\n",
    "        start_str, end_str = training_year.split(\"_\", 1)\n",
    "        start = int(start_str)\n",
    "        end   = int(end_str) if len(end_str) == 4 else (int(end_str) + (start // 100)*100)\n",
    "        years = list(range(start, end + 1))\n",
    "    else:\n",
    "        years = [int(training_year)]\n",
    "\n",
    "    df = df[df[\"year\"].isin(years)].reset_index(drop=True)\n",
    "\n",
    "    # --- map training_size to total number of samples ---\n",
    "    total_map = {\"25k\": 25_000, \"5k\": 5_000, \"1k\": 1_000}\n",
    "    if training_size not in total_map:\n",
    "        return df  # e.g. \"all\"\n",
    "\n",
    "    total_samples = total_map[training_size]\n",
    "    n_years       = len(years)\n",
    "    base          = total_samples // n_years\n",
    "    remainder     = total_samples % n_years\n",
    "\n",
    "    # --- build a dict: year -> how many to sample ---\n",
    "    # give +1 to the first `remainder` years in ascending order\n",
    "    quotas = {\n",
    "        year: base + (1 if idx < remainder else 0)\n",
    "        for idx, year in enumerate(sorted(years))\n",
    "    }\n",
    "\n",
    "    # --- sample per‐year according to the quota dict ---\n",
    "    sampled = (\n",
    "        df\n",
    "        .groupby(\"year\", group_keys=False)\n",
    "        .apply(lambda grp: grp.sample(\n",
    "            n=min(len(grp), quotas[grp.name]),\n",
    "            random_state=random_state))\n",
    "        .reset_index(drop=True)\n",
    "    )\n",
    "\n",
    "    return sampled"
   ]
  },
  {
   "cell_type": "code",
   "execution_count": 15,
   "id": "c0ccd338-0e02-41f3-a09d-f56f9266e3fb",
   "metadata": {
    "execution": {
     "iopub.execute_input": "2025-07-30T20:45:14.375967Z",
     "iopub.status.busy": "2025-07-30T20:45:14.375461Z",
     "iopub.status.idle": "2025-07-30T20:45:14.379293Z",
     "shell.execute_reply": "2025-07-30T20:45:14.378618Z"
    },
    "papermill": {
     "duration": 0.016102,
     "end_time": "2025-07-30T20:45:14.380610",
     "exception": false,
     "start_time": "2025-07-30T20:45:14.364508",
     "status": "completed"
    },
    "tags": []
   },
   "outputs": [],
   "source": [
    "#universe[\"training_size\"]"
   ]
  },
  {
   "cell_type": "code",
   "execution_count": 16,
   "id": "ca707fd7-8047-4acd-bfa5-66248fbbf8e6",
   "metadata": {
    "execution": {
     "iopub.execute_input": "2025-07-30T20:45:14.407453Z",
     "iopub.status.busy": "2025-07-30T20:45:14.406908Z",
     "iopub.status.idle": "2025-07-30T20:45:14.412775Z",
     "shell.execute_reply": "2025-07-30T20:45:14.411518Z"
    },
    "papermill": {
     "duration": 0.020534,
     "end_time": "2025-07-30T20:45:14.414624",
     "exception": false,
     "start_time": "2025-07-30T20:45:14.394090",
     "status": "completed"
    },
    "tags": []
   },
   "outputs": [],
   "source": [
    "#universe[\"training_year\"]"
   ]
  },
  {
   "cell_type": "code",
   "execution_count": 17,
   "id": "aea9c6ef-6f46-42c8-85eb-5a62025c1508",
   "metadata": {
    "execution": {
     "iopub.execute_input": "2025-07-30T20:45:14.461025Z",
     "iopub.status.busy": "2025-07-30T20:45:14.460183Z",
     "iopub.status.idle": "2025-07-30T20:45:14.679904Z",
     "shell.execute_reply": "2025-07-30T20:45:14.679184Z"
    },
    "papermill": {
     "duration": 0.244299,
     "end_time": "2025-07-30T20:45:14.681359",
     "exception": false,
     "start_time": "2025-07-30T20:45:14.437060",
     "status": "completed"
    },
    "tags": []
   },
   "outputs": [],
   "source": [
    "siab_train = sample_by_year_size(siab,\n",
    "                               training_year=universe[\"training_year\"],\n",
    "                               training_size=universe[\"training_size\"])"
   ]
  },
  {
   "cell_type": "code",
   "execution_count": 18,
   "id": "8d3afb32-789d-442c-8d5d-9f5aa8dd2eed",
   "metadata": {
    "execution": {
     "iopub.execute_input": "2025-07-30T20:45:14.729891Z",
     "iopub.status.busy": "2025-07-30T20:45:14.729436Z",
     "iopub.status.idle": "2025-07-30T20:45:14.734422Z",
     "shell.execute_reply": "2025-07-30T20:45:14.733442Z"
    },
    "papermill": {
     "duration": 0.034308,
     "end_time": "2025-07-30T20:45:14.736263",
     "exception": false,
     "start_time": "2025-07-30T20:45:14.701955",
     "status": "completed"
    },
    "tags": []
   },
   "outputs": [],
   "source": [
    "#siab_train.shape"
   ]
  },
  {
   "cell_type": "code",
   "execution_count": 19,
   "id": "d582db68-1a4c-47fb-84fc-08518dc1975a",
   "metadata": {
    "execution": {
     "iopub.execute_input": "2025-07-30T20:45:14.781859Z",
     "iopub.status.busy": "2025-07-30T20:45:14.781396Z",
     "iopub.status.idle": "2025-07-30T20:45:14.786438Z",
     "shell.execute_reply": "2025-07-30T20:45:14.785388Z"
    },
    "papermill": {
     "duration": 0.029738,
     "end_time": "2025-07-30T20:45:14.788019",
     "exception": false,
     "start_time": "2025-07-30T20:45:14.758281",
     "status": "completed"
    },
    "tags": []
   },
   "outputs": [],
   "source": [
    "#display(siab_train.groupby(\"year\").size())"
   ]
  },
  {
   "cell_type": "code",
   "execution_count": 20,
   "id": "a561edb4-d032-42cb-8256-22eac1111c64",
   "metadata": {
    "execution": {
     "iopub.execute_input": "2025-07-30T20:45:14.833828Z",
     "iopub.status.busy": "2025-07-30T20:45:14.833378Z",
     "iopub.status.idle": "2025-07-30T20:45:15.035774Z",
     "shell.execute_reply": "2025-07-30T20:45:15.034848Z"
    },
    "papermill": {
     "duration": 0.227672,
     "end_time": "2025-07-30T20:45:15.038003",
     "exception": false,
     "start_time": "2025-07-30T20:45:14.810331",
     "status": "completed"
    },
    "tags": []
   },
   "outputs": [],
   "source": [
    "#siab_train = siab_s[siab_s.year < 2015]\n",
    "siab_calib = siab[siab.year == 2015]\n",
    "siab_test = siab[siab.year == 2016]"
   ]
  },
  {
   "cell_type": "code",
   "execution_count": 21,
   "id": "472de16f-c3db-4916-846b-1f0de9cf1746",
   "metadata": {
    "execution": {
     "iopub.execute_input": "2025-07-30T20:45:15.088177Z",
     "iopub.status.busy": "2025-07-30T20:45:15.087685Z",
     "iopub.status.idle": "2025-07-30T20:45:15.095340Z",
     "shell.execute_reply": "2025-07-30T20:45:15.094434Z"
    },
    "papermill": {
     "duration": 0.030097,
     "end_time": "2025-07-30T20:45:15.097213",
     "exception": false,
     "start_time": "2025-07-30T20:45:15.067116",
     "status": "completed"
    },
    "tags": []
   },
   "outputs": [],
   "source": [
    "X_train = siab_train.iloc[:,4:164]\n",
    "y_train = siab_train.iloc[:, [3]]"
   ]
  },
  {
   "cell_type": "code",
   "execution_count": 22,
   "id": "828c96af-f43a-4ed6-ba47-8ac73a47d56c",
   "metadata": {
    "execution": {
     "iopub.execute_input": "2025-07-30T20:45:15.139532Z",
     "iopub.status.busy": "2025-07-30T20:45:15.139043Z",
     "iopub.status.idle": "2025-07-30T20:45:15.195318Z",
     "shell.execute_reply": "2025-07-30T20:45:15.194303Z"
    },
    "papermill": {
     "duration": 0.079965,
     "end_time": "2025-07-30T20:45:15.197419",
     "exception": false,
     "start_time": "2025-07-30T20:45:15.117454",
     "status": "completed"
    },
    "tags": []
   },
   "outputs": [],
   "source": [
    "X_calib = siab_calib.iloc[:,4:164]\n",
    "y_calib = siab_calib.iloc[:, [3]]"
   ]
  },
  {
   "cell_type": "code",
   "execution_count": 23,
   "id": "c34be9c3-6bd6-476e-acd3-845840e303be",
   "metadata": {
    "execution": {
     "iopub.execute_input": "2025-07-30T20:45:15.245870Z",
     "iopub.status.busy": "2025-07-30T20:45:15.244857Z",
     "iopub.status.idle": "2025-07-30T20:45:15.296703Z",
     "shell.execute_reply": "2025-07-30T20:45:15.295789Z"
    },
    "papermill": {
     "duration": 0.078486,
     "end_time": "2025-07-30T20:45:15.298155",
     "exception": false,
     "start_time": "2025-07-30T20:45:15.219669",
     "status": "completed"
    },
    "tags": []
   },
   "outputs": [],
   "source": [
    "X_test = siab_test.iloc[:,4:164]\n",
    "y_true = siab_test.iloc[:, [3]]"
   ]
  },
  {
   "cell_type": "markdown",
   "id": "9901737e-04df-44f0-9100-f5ad144ed040",
   "metadata": {
    "papermill": {
     "duration": 0.010633,
     "end_time": "2025-07-30T20:45:15.321096",
     "exception": false,
     "start_time": "2025-07-30T20:45:15.310463",
     "status": "completed"
    },
    "tags": []
   },
   "source": [
    "# Splitting Data and Setting Training Data Size OLD VERSION"
   ]
  },
  {
   "cell_type": "code",
   "execution_count": 24,
   "id": "acbc8f7d-8fc8-4e86-8c59-5dcb0f58384b",
   "metadata": {
    "execution": {
     "iopub.execute_input": "2025-07-30T20:45:15.352527Z",
     "iopub.status.busy": "2025-07-30T20:45:15.352129Z",
     "iopub.status.idle": "2025-07-30T20:45:15.356596Z",
     "shell.execute_reply": "2025-07-30T20:45:15.355792Z"
    },
    "papermill": {
     "duration": 0.023101,
     "end_time": "2025-07-30T20:45:15.358015",
     "exception": false,
     "start_time": "2025-07-30T20:45:15.334914",
     "status": "completed"
    },
    "tags": []
   },
   "outputs": [],
   "source": [
    "#def sample_by_year(df, training_size, random_state=42):\n",
    "#    if training_size == \"2014\":\n",
    "#        return df[df[\"year\"] == 2014].reset_index(drop=True)\n",
    "#    \n",
    "#    size_map = {\n",
    "#        \"25k\": 5000,\n",
    "#        \"5k\": 1000,\n",
    "#        \"1k\": 200\n",
    "#    }\n",
    "#\n",
    "#    if training_size not in size_map:\n",
    "#        return df.reset_index(drop=True)  # use all data\n",
    "#\n",
    "#    n_per_year = size_map[training_size]\n",
    "#    grouped = df.groupby(\"year\")\n",
    "#    sampled = grouped.apply(lambda x: x.sample(n=min(n_per_year, len(x)), random_state=random_state))\n",
    "#    return sampled.reset_index(drop=True)"
   ]
  },
  {
   "cell_type": "code",
   "execution_count": 25,
   "id": "6d931f52-beaf-43ff-9e78-9d44a448d54e",
   "metadata": {
    "execution": {
     "iopub.execute_input": "2025-07-30T20:45:15.385225Z",
     "iopub.status.busy": "2025-07-30T20:45:15.384236Z",
     "iopub.status.idle": "2025-07-30T20:45:15.389417Z",
     "shell.execute_reply": "2025-07-30T20:45:15.388561Z"
    },
    "papermill": {
     "duration": 0.021383,
     "end_time": "2025-07-30T20:45:15.390971",
     "exception": false,
     "start_time": "2025-07-30T20:45:15.369588",
     "status": "completed"
    },
    "tags": []
   },
   "outputs": [],
   "source": [
    "#siab_s = sample_by_year(siab, universe[\"training_size\"])"
   ]
  },
  {
   "cell_type": "code",
   "execution_count": 26,
   "id": "5db0a40e-a4e2-4920-be85-b12ae061d70d",
   "metadata": {
    "execution": {
     "iopub.execute_input": "2025-07-30T20:45:15.433573Z",
     "iopub.status.busy": "2025-07-30T20:45:15.432969Z",
     "iopub.status.idle": "2025-07-30T20:45:15.438411Z",
     "shell.execute_reply": "2025-07-30T20:45:15.437440Z"
    },
    "papermill": {
     "duration": 0.028586,
     "end_time": "2025-07-30T20:45:15.440171",
     "exception": false,
     "start_time": "2025-07-30T20:45:15.411585",
     "status": "completed"
    },
    "tags": []
   },
   "outputs": [],
   "source": [
    "#display(siab_s.groupby(\"year\").size())"
   ]
  },
  {
   "cell_type": "code",
   "execution_count": 27,
   "id": "e6c733c5",
   "metadata": {
    "execution": {
     "iopub.execute_input": "2025-07-30T20:45:15.483232Z",
     "iopub.status.busy": "2025-07-30T20:45:15.482723Z",
     "iopub.status.idle": "2025-07-30T20:45:15.576277Z",
     "shell.execute_reply": "2025-07-30T20:45:15.575395Z"
    },
    "papermill": {
     "duration": 0.117199,
     "end_time": "2025-07-30T20:45:15.578068",
     "exception": false,
     "start_time": "2025-07-30T20:45:15.460869",
     "status": "completed"
    },
    "tags": []
   },
   "outputs": [],
   "source": [
    "# Auxiliary data needed downstream in the pipeline\n",
    "\n",
    "org_train = X_train.copy()\n",
    "org_test = X_test.copy()\n",
    "org_calib = X_calib.copy()"
   ]
  },
  {
   "cell_type": "code",
   "execution_count": 28,
   "id": "1466abac-c6da-4492-a62f-4240ae3783af",
   "metadata": {
    "execution": {
     "iopub.execute_input": "2025-07-30T20:45:15.620208Z",
     "iopub.status.busy": "2025-07-30T20:45:15.619696Z",
     "iopub.status.idle": "2025-07-30T20:45:15.626269Z",
     "shell.execute_reply": "2025-07-30T20:45:15.625326Z"
    },
    "papermill": {
     "duration": 0.029873,
     "end_time": "2025-07-30T20:45:15.627959",
     "exception": false,
     "start_time": "2025-07-30T20:45:15.598086",
     "status": "completed"
    },
    "tags": []
   },
   "outputs": [],
   "source": [
    "# put in other script?\n",
    "# Group sizes\n",
    "\n",
    "#def calculate_percentages(df, df_name):\n",
    "#    total_entries = len(df)\n",
    "#\n",
    "#    female_pct = (df['frau1'] == 1).mean() * 100\n",
    "#    non_german_pct = ((df['maxdeutsch1'] == 0) & (df['maxdeutsch.Missing.'] == 0)).mean() * 100\n",
    "#    non_german_male_pct = ((df['frau1'] == 0) & (df['maxdeutsch1'] == 0) & (df['maxdeutsch.Missing.'] == 0)).mean() * 100\n",
    "#    non_german_female_pct = ((df['frau1'] == 1) & (df['maxdeutsch1'] == 0) & (df['maxdeutsch.Missing.'] == 0)).mean() * 100\n",
    "#\n",
    "#    print(f\"--- {df_name} ---\")\n",
    "#    print(f\"Female: {female_pct:.2f}%\")\n",
    "#    print(f\"Non-German: {non_german_pct:.2f}%\")\n",
    "#    print(f\"Non-German Male: {non_german_male_pct:.2f}%\")\n",
    "#    print(f\"Non-German Female: {non_german_female_pct:.2f}%\\n\")\n",
    "#\n",
    "## Calculate for each DataFrame\n",
    "#calculate_percentages(siab_calib, \"siab_calib\")\n",
    "#calculate_percentages(siab_test, \"siab_test\")\n",
    "#calculate_percentages(siab_train, \"siab_train\")"
   ]
  },
  {
   "cell_type": "markdown",
   "id": "0a4a1b33",
   "metadata": {
    "papermill": {
     "duration": 0.020153,
     "end_time": "2025-07-30T20:45:15.669461",
     "exception": false,
     "start_time": "2025-07-30T20:45:15.649308",
     "status": "completed"
    },
    "tags": []
   },
   "source": [
    "# Preprocessing Data"
   ]
  },
  {
   "cell_type": "code",
   "execution_count": 29,
   "id": "ca879031",
   "metadata": {
    "execution": {
     "iopub.execute_input": "2025-07-30T20:45:15.710520Z",
     "iopub.status.busy": "2025-07-30T20:45:15.709501Z",
     "iopub.status.idle": "2025-07-30T20:45:15.716301Z",
     "shell.execute_reply": "2025-07-30T20:45:15.715267Z"
    },
    "papermill": {
     "duration": 0.028881,
     "end_time": "2025-07-30T20:45:15.717770",
     "exception": false,
     "start_time": "2025-07-30T20:45:15.688889",
     "status": "completed"
    },
    "tags": []
   },
   "outputs": [],
   "source": [
    "# EXCLUDE PROTECTED FEATURES\n",
    "# ----------------------\n",
    "# \"exclude_features\": \"none\", # \"nationality\", \"sex\", \"nationality-sex\"\n",
    "\n",
    "excluded_features = universe[\"exclude_features\"].split(\"-\") # split, e.g.: \"nationality-sex\" -> [\"nationality\", \"sex\"]\n",
    "excluded_features_dictionary = {\n",
    "    \"nationality\": [\"maxdeutsch1\", \"maxdeutsch.Missing.\"],\n",
    "    \"sex\": [\"frau1\"],\n",
    "    \"age\": [\"age\"],\n",
    "}\n"
   ]
  },
  {
   "cell_type": "code",
   "execution_count": 30,
   "id": "b745ac60",
   "metadata": {
    "execution": {
     "iopub.execute_input": "2025-07-30T20:45:15.760350Z",
     "iopub.status.busy": "2025-07-30T20:45:15.759498Z",
     "iopub.status.idle": "2025-07-30T20:45:15.765270Z",
     "shell.execute_reply": "2025-07-30T20:45:15.764317Z"
    },
    "papermill": {
     "duration": 0.028297,
     "end_time": "2025-07-30T20:45:15.767041",
     "exception": false,
     "start_time": "2025-07-30T20:45:15.738744",
     "status": "completed"
    },
    "tags": []
   },
   "outputs": [],
   "source": [
    "# Code nice names to column names\n",
    "\n",
    "excluded_features_columns = [\n",
    "    excluded_features_dictionary[f] for f in excluded_features if len(f) > 0 and f != \"none\"\n",
    "]"
   ]
  },
  {
   "cell_type": "code",
   "execution_count": 31,
   "id": "f84f73a2",
   "metadata": {
    "execution": {
     "iopub.execute_input": "2025-07-30T20:45:15.809683Z",
     "iopub.status.busy": "2025-07-30T20:45:15.808882Z",
     "iopub.status.idle": "2025-07-30T20:45:15.815069Z",
     "shell.execute_reply": "2025-07-30T20:45:15.814229Z"
    },
    "papermill": {
     "duration": 0.028868,
     "end_time": "2025-07-30T20:45:15.816773",
     "exception": false,
     "start_time": "2025-07-30T20:45:15.787905",
     "status": "completed"
    },
    "tags": []
   },
   "outputs": [],
   "source": [
    "from utils import flatten_once\n",
    "\n",
    "excluded_features_columns = flatten_once(excluded_features_columns)"
   ]
  },
  {
   "cell_type": "code",
   "execution_count": 32,
   "id": "884dea22",
   "metadata": {
    "execution": {
     "iopub.execute_input": "2025-07-30T20:45:15.859036Z",
     "iopub.status.busy": "2025-07-30T20:45:15.858219Z",
     "iopub.status.idle": "2025-07-30T20:45:15.867212Z",
     "shell.execute_reply": "2025-07-30T20:45:15.866309Z"
    },
    "papermill": {
     "duration": 0.031359,
     "end_time": "2025-07-30T20:45:15.868835",
     "exception": false,
     "start_time": "2025-07-30T20:45:15.837476",
     "status": "completed"
    },
    "tags": []
   },
   "outputs": [
    {
     "name": "stdout",
     "output_type": "stream",
     "text": [
      "Dropping features: ['maxdeutsch1', 'maxdeutsch.Missing.', 'frau1']\n"
     ]
    }
   ],
   "source": [
    "if len(excluded_features_columns) > 0:\n",
    "    print(f\"Dropping features: {excluded_features_columns}\")\n",
    "    X_train.drop(excluded_features_columns, axis=1, inplace=True)"
   ]
  },
  {
   "cell_type": "code",
   "execution_count": 33,
   "id": "95ab8b16",
   "metadata": {
    "execution": {
     "iopub.execute_input": "2025-07-30T20:45:15.911683Z",
     "iopub.status.busy": "2025-07-30T20:45:15.910785Z",
     "iopub.status.idle": "2025-07-30T20:45:15.961625Z",
     "shell.execute_reply": "2025-07-30T20:45:15.960418Z"
    },
    "papermill": {
     "duration": 0.074433,
     "end_time": "2025-07-30T20:45:15.964139",
     "exception": false,
     "start_time": "2025-07-30T20:45:15.889706",
     "status": "completed"
    },
    "tags": []
   },
   "outputs": [
    {
     "name": "stdout",
     "output_type": "stream",
     "text": [
      "Dropping features: ['maxdeutsch1', 'maxdeutsch.Missing.', 'frau1']\n"
     ]
    }
   ],
   "source": [
    "if len(excluded_features_columns) > 0:\n",
    "    print(f\"Dropping features: {excluded_features_columns}\")\n",
    "    X_test.drop(excluded_features_columns, axis=1, inplace=True)"
   ]
  },
  {
   "cell_type": "code",
   "execution_count": 34,
   "id": "1853aaf5-fb9f-46cb-a2b5-8ea4ae2237e4",
   "metadata": {
    "execution": {
     "iopub.execute_input": "2025-07-30T20:45:16.015860Z",
     "iopub.status.busy": "2025-07-30T20:45:16.015221Z",
     "iopub.status.idle": "2025-07-30T20:45:16.067184Z",
     "shell.execute_reply": "2025-07-30T20:45:16.066227Z"
    },
    "papermill": {
     "duration": 0.079525,
     "end_time": "2025-07-30T20:45:16.069902",
     "exception": false,
     "start_time": "2025-07-30T20:45:15.990377",
     "status": "completed"
    },
    "tags": []
   },
   "outputs": [
    {
     "name": "stdout",
     "output_type": "stream",
     "text": [
      "Dropping features: ['maxdeutsch1', 'maxdeutsch.Missing.', 'frau1']\n"
     ]
    }
   ],
   "source": [
    "if len(excluded_features_columns) > 0:\n",
    "    print(f\"Dropping features: {excluded_features_columns}\")\n",
    "    X_calib.drop(excluded_features_columns, axis=1, inplace=True)"
   ]
  },
  {
   "cell_type": "code",
   "execution_count": 35,
   "id": "6727d079-03e5-481e-9d38-292a90b7a0a8",
   "metadata": {
    "execution": {
     "iopub.execute_input": "2025-07-30T20:45:16.121490Z",
     "iopub.status.busy": "2025-07-30T20:45:16.120862Z",
     "iopub.status.idle": "2025-07-30T20:45:16.125701Z",
     "shell.execute_reply": "2025-07-30T20:45:16.124720Z"
    },
    "papermill": {
     "duration": 0.031719,
     "end_time": "2025-07-30T20:45:16.127538",
     "exception": false,
     "start_time": "2025-07-30T20:45:16.095819",
     "status": "completed"
    },
    "tags": []
   },
   "outputs": [],
   "source": [
    "# SPLIT & STRATIFY DATA\n",
    "# ----------------------"
   ]
  },
  {
   "cell_type": "code",
   "execution_count": 36,
   "id": "76c4dc6d",
   "metadata": {
    "execution": {
     "iopub.execute_input": "2025-07-30T20:45:16.182228Z",
     "iopub.status.busy": "2025-07-30T20:45:16.181492Z",
     "iopub.status.idle": "2025-07-30T20:45:16.187433Z",
     "shell.execute_reply": "2025-07-30T20:45:16.186398Z"
    },
    "papermill": {
     "duration": 0.034515,
     "end_time": "2025-07-30T20:45:16.189230",
     "exception": false,
     "start_time": "2025-07-30T20:45:16.154715",
     "status": "completed"
    },
    "tags": []
   },
   "outputs": [],
   "source": [
    "# EXCLUDE CERTAIN SUBGROUPS\n",
    "# ----------------------\n",
    "\n",
    "mode = universe.get(\"exclude_subgroups\", \"keep-all\") \n",
    "# Fetches the exclude_subgroups setting from the universe dict.\n",
    "# Defaults to \"keep-all\" if the key is missing."
   ]
  },
  {
   "cell_type": "code",
   "execution_count": 37,
   "id": "21994072",
   "metadata": {
    "execution": {
     "iopub.execute_input": "2025-07-30T20:45:16.247341Z",
     "iopub.status.busy": "2025-07-30T20:45:16.246582Z",
     "iopub.status.idle": "2025-07-30T20:45:16.253823Z",
     "shell.execute_reply": "2025-07-30T20:45:16.252914Z"
    },
    "papermill": {
     "duration": 0.041901,
     "end_time": "2025-07-30T20:45:16.255532",
     "exception": false,
     "start_time": "2025-07-30T20:45:16.213631",
     "status": "completed"
    },
    "tags": []
   },
   "outputs": [],
   "source": [
    "if mode == \"keep-all\":\n",
    "    keep_mask = pd.Series(True, index=org_train.index)\n",
    "\n",
    "# org_train contains the original feature columns from features_org (in Simson)\n",
    "# features_org contains unprocessed features, for me X_train at beginning ???\n",
    "# For keep-all, creates a boolean Series (keep_mask) of all True, so no rows are removed.\n",
    "\n",
    "elif mode == \"drop-non-german\":\n",
    "    keep_mask = org_train[\"maxdeutsch1\"] == 1 # ??? what about missing values?\n",
    "\n",
    "else:\n",
    "    raise ValueError(f\"Unsupported mode for exclude_subgroups: {mode}\")\n"
   ]
  },
  {
   "cell_type": "code",
   "execution_count": 38,
   "id": "71651440",
   "metadata": {
    "execution": {
     "iopub.execute_input": "2025-07-30T20:45:16.300312Z",
     "iopub.status.busy": "2025-07-30T20:45:16.299521Z",
     "iopub.status.idle": "2025-07-30T20:45:16.306164Z",
     "shell.execute_reply": "2025-07-30T20:45:16.305282Z"
    },
    "papermill": {
     "duration": 0.031033,
     "end_time": "2025-07-30T20:45:16.307935",
     "exception": false,
     "start_time": "2025-07-30T20:45:16.276902",
     "status": "completed"
    },
    "tags": []
   },
   "outputs": [],
   "source": [
    "n_drop = (~keep_mask).sum() # Calculates how many rows are set to be dropped\n",
    "if n_drop > 0:\n",
    "    pct = n_drop / len(keep_mask) * 100\n",
    "    print(f\"Dropping {n_drop} rows ({pct:.2f}%) where mode='{mode}'\")"
   ]
  },
  {
   "cell_type": "code",
   "execution_count": 39,
   "id": "5fb8eee5",
   "metadata": {
    "execution": {
     "iopub.execute_input": "2025-07-30T20:45:16.357417Z",
     "iopub.status.busy": "2025-07-30T20:45:16.356883Z",
     "iopub.status.idle": "2025-07-30T20:45:16.366000Z",
     "shell.execute_reply": "2025-07-30T20:45:16.365006Z"
    },
    "papermill": {
     "duration": 0.038655,
     "end_time": "2025-07-30T20:45:16.367820",
     "exception": false,
     "start_time": "2025-07-30T20:45:16.329165",
     "status": "completed"
    },
    "tags": []
   },
   "outputs": [],
   "source": [
    "X_train = X_train[keep_mask]"
   ]
  },
  {
   "cell_type": "code",
   "execution_count": 40,
   "id": "b202bb3a",
   "metadata": {
    "execution": {
     "iopub.execute_input": "2025-07-30T20:45:16.412759Z",
     "iopub.status.busy": "2025-07-30T20:45:16.412082Z",
     "iopub.status.idle": "2025-07-30T20:45:16.419215Z",
     "shell.execute_reply": "2025-07-30T20:45:16.418264Z"
    },
    "papermill": {
     "duration": 0.03108,
     "end_time": "2025-07-30T20:45:16.421000",
     "exception": false,
     "start_time": "2025-07-30T20:45:16.389920",
     "status": "completed"
    },
    "tags": []
   },
   "outputs": [],
   "source": [
    "y_train = y_train[keep_mask]"
   ]
  },
  {
   "cell_type": "markdown",
   "id": "493e2ac3",
   "metadata": {
    "papermill": {
     "duration": 0.024114,
     "end_time": "2025-07-30T20:45:16.467283",
     "exception": false,
     "start_time": "2025-07-30T20:45:16.443169",
     "status": "completed"
    },
    "tags": []
   },
   "source": [
    "# Model Training"
   ]
  },
  {
   "cell_type": "code",
   "execution_count": 41,
   "id": "679e1268",
   "metadata": {
    "execution": {
     "iopub.execute_input": "2025-07-30T20:45:16.511265Z",
     "iopub.status.busy": "2025-07-30T20:45:16.510766Z",
     "iopub.status.idle": "2025-07-30T20:45:16.613150Z",
     "shell.execute_reply": "2025-07-30T20:45:16.612063Z"
    },
    "papermill": {
     "duration": 0.126539,
     "end_time": "2025-07-30T20:45:16.615211",
     "exception": false,
     "start_time": "2025-07-30T20:45:16.488672",
     "status": "completed"
    },
    "tags": []
   },
   "outputs": [],
   "source": [
    "from sklearn.linear_model import LogisticRegression\n",
    "from sklearn.ensemble import GradientBoostingClassifier, RandomForestClassifier\n",
    "\n",
    "if (universe[\"model\"] == \"logreg\"):\n",
    "    model = LogisticRegression() #penalty=\"none\") #, solver=\"newton-cg\", max_iter=1) # include random_state=19 ?\n",
    "elif (universe[\"model\"] == \"penalized_logreg\"):\n",
    "    model = LogisticRegression(penalty=\"l2\", C=1.0) #, solver=\"newton-cg\", max_iter=1)\n",
    "elif (universe[\"model\"] == \"rf\"):\n",
    "    model = RandomForestClassifier(n_estimators=100, n_jobs=-1)\n",
    "elif (universe[\"model\"] == \"gbm\"):\n",
    "    model = GradientBoostingClassifier()\n",
    "elif (universe[\"model\"] == \"elasticnet\"):\n",
    "    model = LogisticRegression(penalty = 'elasticnet', solver = 'saga', l1_ratio = 0.5, max_iter=5000) # which solver to use?\n",
    "else:\n",
    "    raise \"Unsupported universe.model\""
   ]
  },
  {
   "cell_type": "code",
   "execution_count": 42,
   "id": "0cc8f744",
   "metadata": {
    "execution": {
     "iopub.execute_input": "2025-07-30T20:45:16.674964Z",
     "iopub.status.busy": "2025-07-30T20:45:16.674280Z",
     "iopub.status.idle": "2025-07-30T20:45:16.680942Z",
     "shell.execute_reply": "2025-07-30T20:45:16.679844Z"
    },
    "papermill": {
     "duration": 0.037593,
     "end_time": "2025-07-30T20:45:16.682972",
     "exception": false,
     "start_time": "2025-07-30T20:45:16.645379",
     "status": "completed"
    },
    "tags": []
   },
   "outputs": [],
   "source": [
    "import numpy as np\n",
    "from sklearn.pipeline import Pipeline\n",
    "from sklearn.preprocessing import StandardScaler\n",
    "\n",
    "model = Pipeline([\n",
    "    #(\"continuous_processor\", continuous_processor),\n",
    "    #(\"categorical_preprocessor\", categorical_preprocessor),\n",
    "    (\"scale\", StandardScaler() if universe[\"scale\"] == \"scale\" else None), \n",
    "    (\"model\", model),\n",
    "])"
   ]
  },
  {
   "cell_type": "code",
   "execution_count": 43,
   "id": "9442c04d",
   "metadata": {
    "execution": {
     "iopub.execute_input": "2025-07-30T20:45:16.741555Z",
     "iopub.status.busy": "2025-07-30T20:45:16.741263Z",
     "iopub.status.idle": "2025-07-30T20:45:16.900088Z",
     "shell.execute_reply": "2025-07-30T20:45:16.899118Z"
    },
    "papermill": {
     "duration": 0.189576,
     "end_time": "2025-07-30T20:45:16.901795",
     "exception": false,
     "start_time": "2025-07-30T20:45:16.712219",
     "status": "completed"
    },
    "tags": []
   },
   "outputs": [
    {
     "name": "stderr",
     "output_type": "stream",
     "text": [
      "/dss/dsshome1/0C/ra93lal2/.local/share/virtualenvs/CMA_Fairness_v2-3j10GkSs/lib/python3.10/site-packages/sklearn/linear_model/_logistic.py:444: ConvergenceWarning: lbfgs failed to converge (status=1):\n",
      "STOP: TOTAL NO. of ITERATIONS REACHED LIMIT.\n",
      "\n",
      "Increase the number of iterations (max_iter) or scale the data as shown in:\n",
      "    https://scikit-learn.org/stable/modules/preprocessing.html\n",
      "Please also refer to the documentation for alternative solver options:\n",
      "    https://scikit-learn.org/stable/modules/linear_model.html#logistic-regression\n",
      "  n_iter_i = _check_optimize_result(\n"
     ]
    },
    {
     "data": {
      "text/html": [
       "<style>#sk-container-id-1 {color: black;background-color: white;}#sk-container-id-1 pre{padding: 0;}#sk-container-id-1 div.sk-toggleable {background-color: white;}#sk-container-id-1 label.sk-toggleable__label {cursor: pointer;display: block;width: 100%;margin-bottom: 0;padding: 0.3em;box-sizing: border-box;text-align: center;}#sk-container-id-1 label.sk-toggleable__label-arrow:before {content: \"▸\";float: left;margin-right: 0.25em;color: #696969;}#sk-container-id-1 label.sk-toggleable__label-arrow:hover:before {color: black;}#sk-container-id-1 div.sk-estimator:hover label.sk-toggleable__label-arrow:before {color: black;}#sk-container-id-1 div.sk-toggleable__content {max-height: 0;max-width: 0;overflow: hidden;text-align: left;background-color: #f0f8ff;}#sk-container-id-1 div.sk-toggleable__content pre {margin: 0.2em;color: black;border-radius: 0.25em;background-color: #f0f8ff;}#sk-container-id-1 input.sk-toggleable__control:checked~div.sk-toggleable__content {max-height: 200px;max-width: 100%;overflow: auto;}#sk-container-id-1 input.sk-toggleable__control:checked~label.sk-toggleable__label-arrow:before {content: \"▾\";}#sk-container-id-1 div.sk-estimator input.sk-toggleable__control:checked~label.sk-toggleable__label {background-color: #d4ebff;}#sk-container-id-1 div.sk-label input.sk-toggleable__control:checked~label.sk-toggleable__label {background-color: #d4ebff;}#sk-container-id-1 input.sk-hidden--visually {border: 0;clip: rect(1px 1px 1px 1px);clip: rect(1px, 1px, 1px, 1px);height: 1px;margin: -1px;overflow: hidden;padding: 0;position: absolute;width: 1px;}#sk-container-id-1 div.sk-estimator {font-family: monospace;background-color: #f0f8ff;border: 1px dotted black;border-radius: 0.25em;box-sizing: border-box;margin-bottom: 0.5em;}#sk-container-id-1 div.sk-estimator:hover {background-color: #d4ebff;}#sk-container-id-1 div.sk-parallel-item::after {content: \"\";width: 100%;border-bottom: 1px solid gray;flex-grow: 1;}#sk-container-id-1 div.sk-label:hover label.sk-toggleable__label {background-color: #d4ebff;}#sk-container-id-1 div.sk-serial::before {content: \"\";position: absolute;border-left: 1px solid gray;box-sizing: border-box;top: 0;bottom: 0;left: 50%;z-index: 0;}#sk-container-id-1 div.sk-serial {display: flex;flex-direction: column;align-items: center;background-color: white;padding-right: 0.2em;padding-left: 0.2em;position: relative;}#sk-container-id-1 div.sk-item {position: relative;z-index: 1;}#sk-container-id-1 div.sk-parallel {display: flex;align-items: stretch;justify-content: center;background-color: white;position: relative;}#sk-container-id-1 div.sk-item::before, #sk-container-id-1 div.sk-parallel-item::before {content: \"\";position: absolute;border-left: 1px solid gray;box-sizing: border-box;top: 0;bottom: 0;left: 50%;z-index: -1;}#sk-container-id-1 div.sk-parallel-item {display: flex;flex-direction: column;z-index: 1;position: relative;background-color: white;}#sk-container-id-1 div.sk-parallel-item:first-child::after {align-self: flex-end;width: 50%;}#sk-container-id-1 div.sk-parallel-item:last-child::after {align-self: flex-start;width: 50%;}#sk-container-id-1 div.sk-parallel-item:only-child::after {width: 0;}#sk-container-id-1 div.sk-dashed-wrapped {border: 1px dashed gray;margin: 0 0.4em 0.5em 0.4em;box-sizing: border-box;padding-bottom: 0.4em;background-color: white;}#sk-container-id-1 div.sk-label label {font-family: monospace;font-weight: bold;display: inline-block;line-height: 1.2em;}#sk-container-id-1 div.sk-label-container {text-align: center;}#sk-container-id-1 div.sk-container {/* jupyter's `normalize.less` sets `[hidden] { display: none; }` but bootstrap.min.css set `[hidden] { display: none !important; }` so we also need the `!important` here to be able to override the default hidden behavior on the sphinx rendered scikit-learn.org. See: https://github.com/scikit-learn/scikit-learn/issues/21755 */display: inline-block !important;position: relative;}#sk-container-id-1 div.sk-text-repr-fallback {display: none;}</style><div id=\"sk-container-id-1\" class=\"sk-top-container\"><div class=\"sk-text-repr-fallback\"><pre>Pipeline(steps=[(&#x27;scale&#x27;, StandardScaler()), (&#x27;model&#x27;, LogisticRegression())])</pre><b>In a Jupyter environment, please rerun this cell to show the HTML representation or trust the notebook. <br />On GitHub, the HTML representation is unable to render, please try loading this page with nbviewer.org.</b></div><div class=\"sk-container\" hidden><div class=\"sk-item sk-dashed-wrapped\"><div class=\"sk-label-container\"><div class=\"sk-label sk-toggleable\"><input class=\"sk-toggleable__control sk-hidden--visually\" id=\"sk-estimator-id-1\" type=\"checkbox\" ><label for=\"sk-estimator-id-1\" class=\"sk-toggleable__label sk-toggleable__label-arrow\">Pipeline</label><div class=\"sk-toggleable__content\"><pre>Pipeline(steps=[(&#x27;scale&#x27;, StandardScaler()), (&#x27;model&#x27;, LogisticRegression())])</pre></div></div></div><div class=\"sk-serial\"><div class=\"sk-item\"><div class=\"sk-estimator sk-toggleable\"><input class=\"sk-toggleable__control sk-hidden--visually\" id=\"sk-estimator-id-2\" type=\"checkbox\" ><label for=\"sk-estimator-id-2\" class=\"sk-toggleable__label sk-toggleable__label-arrow\">StandardScaler</label><div class=\"sk-toggleable__content\"><pre>StandardScaler()</pre></div></div></div><div class=\"sk-item\"><div class=\"sk-estimator sk-toggleable\"><input class=\"sk-toggleable__control sk-hidden--visually\" id=\"sk-estimator-id-3\" type=\"checkbox\" ><label for=\"sk-estimator-id-3\" class=\"sk-toggleable__label sk-toggleable__label-arrow\">LogisticRegression</label><div class=\"sk-toggleable__content\"><pre>LogisticRegression()</pre></div></div></div></div></div></div></div>"
      ],
      "text/plain": [
       "Pipeline(steps=[('scale', StandardScaler()), ('model', LogisticRegression())])"
      ]
     },
     "execution_count": 43,
     "metadata": {},
     "output_type": "execute_result"
    }
   ],
   "source": [
    "model.fit(X_train, y_train.values.ravel())"
   ]
  },
  {
   "cell_type": "code",
   "execution_count": 44,
   "id": "af59f8c0",
   "metadata": {
    "execution": {
     "iopub.execute_input": "2025-07-30T20:45:16.956075Z",
     "iopub.status.busy": "2025-07-30T20:45:16.955204Z",
     "iopub.status.idle": "2025-07-30T20:45:16.961678Z",
     "shell.execute_reply": "2025-07-30T20:45:16.960661Z"
    },
    "papermill": {
     "duration": 0.045212,
     "end_time": "2025-07-30T20:45:16.963929",
     "exception": false,
     "start_time": "2025-07-30T20:45:16.918717",
     "status": "completed"
    },
    "tags": []
   },
   "outputs": [],
   "source": [
    "from fairness_multiverse.universe import predict_w_threshold"
   ]
  },
  {
   "cell_type": "code",
   "execution_count": 45,
   "id": "a7cf2e16",
   "metadata": {
    "execution": {
     "iopub.execute_input": "2025-07-30T20:45:17.033953Z",
     "iopub.status.busy": "2025-07-30T20:45:17.033291Z",
     "iopub.status.idle": "2025-07-30T20:45:17.228399Z",
     "shell.execute_reply": "2025-07-30T20:45:17.227659Z"
    },
    "papermill": {
     "duration": 0.232349,
     "end_time": "2025-07-30T20:45:17.229817",
     "exception": false,
     "start_time": "2025-07-30T20:45:16.997468",
     "status": "completed"
    },
    "tags": []
   },
   "outputs": [
    {
     "data": {
      "text/plain": [
       "0.8575632593913722"
      ]
     },
     "execution_count": 45,
     "metadata": {},
     "output_type": "execute_result"
    }
   ],
   "source": [
    "probs_test = model.predict_proba(X_test)\n",
    "\n",
    "'''\n",
    "Below code returns a boolean array (or binary 0/1 array depending on how it’s used) where each element \n",
    "is True if the probability of class 1 is greater than or equal to the threshold, and False otherwise.\n",
    "'''\n",
    "y_pred_default = predict_w_threshold(probs_test, 0.5)\n",
    "\n",
    "from sklearn.metrics import accuracy_score\n",
    "\n",
    "# Naive prediction\n",
    "accuracy_score(y_true = y_true, y_pred = y_pred_default)"
   ]
  },
  {
   "cell_type": "code",
   "execution_count": 46,
   "id": "081964c3",
   "metadata": {
    "execution": {
     "iopub.execute_input": "2025-07-30T20:45:17.276885Z",
     "iopub.status.busy": "2025-07-30T20:45:17.276399Z",
     "iopub.status.idle": "2025-07-30T20:45:17.456021Z",
     "shell.execute_reply": "2025-07-30T20:45:17.454994Z"
    },
    "papermill": {
     "duration": 0.205641,
     "end_time": "2025-07-30T20:45:17.458200",
     "exception": false,
     "start_time": "2025-07-30T20:45:17.252559",
     "status": "completed"
    },
    "tags": []
   },
   "outputs": [
    {
     "data": {
      "text/plain": [
       "array([0, 0, 0, ..., 0, 0, 0])"
      ]
     },
     "execution_count": 46,
     "metadata": {},
     "output_type": "execute_result"
    }
   ],
   "source": [
    "model.predict(X_test)"
   ]
  },
  {
   "cell_type": "markdown",
   "id": "56c9705b",
   "metadata": {
    "papermill": {
     "duration": 0.024164,
     "end_time": "2025-07-30T20:45:17.516149",
     "exception": false,
     "start_time": "2025-07-30T20:45:17.491985",
     "status": "completed"
    },
    "tags": []
   },
   "source": [
    "# Conformal Prediction"
   ]
  },
  {
   "cell_type": "code",
   "execution_count": 47,
   "id": "160ec6ff",
   "metadata": {
    "execution": {
     "iopub.execute_input": "2025-07-30T20:45:17.561470Z",
     "iopub.status.busy": "2025-07-30T20:45:17.560905Z",
     "iopub.status.idle": "2025-07-30T20:45:17.566995Z",
     "shell.execute_reply": "2025-07-30T20:45:17.565983Z"
    },
    "papermill": {
     "duration": 0.03092,
     "end_time": "2025-07-30T20:45:17.568652",
     "exception": false,
     "start_time": "2025-07-30T20:45:17.537732",
     "status": "completed"
    },
    "tags": []
   },
   "outputs": [],
   "source": [
    "# Miscoverage level for conformal prediction (10% allowed error rate => 90% target coverage)\n",
    "alpha = 0.1"
   ]
  },
  {
   "cell_type": "code",
   "execution_count": 48,
   "id": "eadf4555-3dd3-440e-8e35-f82a4ad9f855",
   "metadata": {
    "execution": {
     "iopub.execute_input": "2025-07-30T20:45:17.615633Z",
     "iopub.status.busy": "2025-07-30T20:45:17.615096Z",
     "iopub.status.idle": "2025-07-30T20:45:17.792512Z",
     "shell.execute_reply": "2025-07-30T20:45:17.791261Z"
    },
    "papermill": {
     "duration": 0.202925,
     "end_time": "2025-07-30T20:45:17.794575",
     "exception": false,
     "start_time": "2025-07-30T20:45:17.591650",
     "status": "completed"
    },
    "tags": []
   },
   "outputs": [],
   "source": [
    "probs_calib = model.predict_proba(X_calib)"
   ]
  },
  {
   "cell_type": "code",
   "execution_count": 49,
   "id": "2ed93547-6d5d-4983-9b36-1ecb300da49a",
   "metadata": {
    "execution": {
     "iopub.execute_input": "2025-07-30T20:45:17.858647Z",
     "iopub.status.busy": "2025-07-30T20:45:17.857947Z",
     "iopub.status.idle": "2025-07-30T20:45:17.864573Z",
     "shell.execute_reply": "2025-07-30T20:45:17.863479Z"
    },
    "papermill": {
     "duration": 0.03307,
     "end_time": "2025-07-30T20:45:17.866579",
     "exception": false,
     "start_time": "2025-07-30T20:45:17.833509",
     "status": "completed"
    },
    "tags": []
   },
   "outputs": [],
   "source": [
    "y_calib = y_calib.values.ravel().astype(int)"
   ]
  },
  {
   "cell_type": "code",
   "execution_count": 50,
   "id": "65d1320d-f588-4b38-9072-62af1ae97f7d",
   "metadata": {
    "execution": {
     "iopub.execute_input": "2025-07-30T20:45:17.915861Z",
     "iopub.status.busy": "2025-07-30T20:45:17.915227Z",
     "iopub.status.idle": "2025-07-30T20:45:17.924374Z",
     "shell.execute_reply": "2025-07-30T20:45:17.923287Z"
    },
    "papermill": {
     "duration": 0.035212,
     "end_time": "2025-07-30T20:45:17.926175",
     "exception": false,
     "start_time": "2025-07-30T20:45:17.890963",
     "status": "completed"
    },
    "tags": []
   },
   "outputs": [],
   "source": [
    "from fairness_multiverse.conformal import compute_nc_scores\n",
    "\n",
    "# Compute nonconformity scores on calibration set (1 - probability of true class)\n",
    "nc_scores = compute_nc_scores(probs_calib, y_calib)"
   ]
  },
  {
   "cell_type": "code",
   "execution_count": 51,
   "id": "df3b8ca3-53b7-43d5-9667-7c85da7aeda2",
   "metadata": {
    "execution": {
     "iopub.execute_input": "2025-07-30T20:45:17.973851Z",
     "iopub.status.busy": "2025-07-30T20:45:17.973169Z",
     "iopub.status.idle": "2025-07-30T20:45:17.981130Z",
     "shell.execute_reply": "2025-07-30T20:45:17.980099Z"
    },
    "papermill": {
     "duration": 0.033995,
     "end_time": "2025-07-30T20:45:17.983120",
     "exception": false,
     "start_time": "2025-07-30T20:45:17.949125",
     "status": "completed"
    },
    "tags": []
   },
   "outputs": [],
   "source": [
    "from fairness_multiverse.conformal import find_threshold\n",
    "\n",
    "# Find conformal threshold q_hat for the given alpha (split conformal method)\n",
    "q_hat = find_threshold(nc_scores, alpha)"
   ]
  },
  {
   "cell_type": "code",
   "execution_count": 52,
   "id": "4d29e6c1-0ef6-4aa4-b8fe-4fe79b0d033a",
   "metadata": {
    "execution": {
     "iopub.execute_input": "2025-07-30T20:45:18.031502Z",
     "iopub.status.busy": "2025-07-30T20:45:18.030787Z",
     "iopub.status.idle": "2025-07-30T20:45:18.040161Z",
     "shell.execute_reply": "2025-07-30T20:45:18.038881Z"
    },
    "papermill": {
     "duration": 0.034745,
     "end_time": "2025-07-30T20:45:18.041871",
     "exception": false,
     "start_time": "2025-07-30T20:45:18.007126",
     "status": "completed"
    },
    "tags": []
   },
   "outputs": [
    {
     "data": {
      "text/plain": [
       "0.6856473194076578"
      ]
     },
     "execution_count": 52,
     "metadata": {},
     "output_type": "execute_result"
    }
   ],
   "source": [
    "q_hat"
   ]
  },
  {
   "cell_type": "code",
   "execution_count": 53,
   "id": "92460794-cdac-4be2-ba28-f28c0515a6fb",
   "metadata": {
    "execution": {
     "iopub.execute_input": "2025-07-30T20:45:18.090699Z",
     "iopub.status.busy": "2025-07-30T20:45:18.090160Z",
     "iopub.status.idle": "2025-07-30T20:45:18.789388Z",
     "shell.execute_reply": "2025-07-30T20:45:18.788639Z"
    },
    "papermill": {
     "duration": 0.725587,
     "end_time": "2025-07-30T20:45:18.791140",
     "exception": false,
     "start_time": "2025-07-30T20:45:18.065553",
     "status": "completed"
    },
    "tags": []
   },
   "outputs": [],
   "source": [
    "from fairness_multiverse.conformal import predict_conformal_sets\n",
    "\n",
    "# Generate prediction sets for each test example\n",
    "pred_sets = predict_conformal_sets(model, X_test, q_hat)"
   ]
  },
  {
   "cell_type": "code",
   "execution_count": 54,
   "id": "d90c9a65-e6db-4f5d-80cd-e68fb7e46829",
   "metadata": {
    "execution": {
     "iopub.execute_input": "2025-07-30T20:45:18.842601Z",
     "iopub.status.busy": "2025-07-30T20:45:18.841708Z",
     "iopub.status.idle": "2025-07-30T20:45:18.847601Z",
     "shell.execute_reply": "2025-07-30T20:45:18.846641Z"
    },
    "papermill": {
     "duration": 0.037489,
     "end_time": "2025-07-30T20:45:18.854471",
     "exception": false,
     "start_time": "2025-07-30T20:45:18.816982",
     "status": "completed"
    },
    "tags": []
   },
   "outputs": [],
   "source": [
    "y_true = y_true.squeeze()"
   ]
  },
  {
   "cell_type": "code",
   "execution_count": 55,
   "id": "3a58a54a-1e68-46b9-927a-df01f18aebc8",
   "metadata": {
    "execution": {
     "iopub.execute_input": "2025-07-30T20:45:18.908448Z",
     "iopub.status.busy": "2025-07-30T20:45:18.907988Z",
     "iopub.status.idle": "2025-07-30T20:45:19.783394Z",
     "shell.execute_reply": "2025-07-30T20:45:19.782544Z"
    },
    "papermill": {
     "duration": 0.904068,
     "end_time": "2025-07-30T20:45:19.784925",
     "exception": false,
     "start_time": "2025-07-30T20:45:18.880857",
     "status": "completed"
    },
    "tags": []
   },
   "outputs": [],
   "source": [
    "from fairness_multiverse.conformal import evaluate_sets\n",
    "\n",
    "# Evaluate coverage and average set size on test data\n",
    "metrics = evaluate_sets(pred_sets, y_true)"
   ]
  },
  {
   "cell_type": "markdown",
   "id": "2b569c12-9aaa-4c88-98c9-bbcd0cf3ebb8",
   "metadata": {
    "papermill": {
     "duration": 0.016097,
     "end_time": "2025-07-30T20:45:19.814998",
     "exception": false,
     "start_time": "2025-07-30T20:45:19.798901",
     "status": "completed"
    },
    "tags": []
   },
   "source": [
    "# CP Metrics"
   ]
  },
  {
   "cell_type": "code",
   "execution_count": 56,
   "id": "5ce0a5cb-201f-45a0-ade5-94c7f0bd6095",
   "metadata": {
    "execution": {
     "iopub.execute_input": "2025-07-30T20:45:19.851321Z",
     "iopub.status.busy": "2025-07-30T20:45:19.850870Z",
     "iopub.status.idle": "2025-07-30T20:45:19.857388Z",
     "shell.execute_reply": "2025-07-30T20:45:19.856368Z"
    },
    "papermill": {
     "duration": 0.029538,
     "end_time": "2025-07-30T20:45:19.858901",
     "exception": false,
     "start_time": "2025-07-30T20:45:19.829363",
     "status": "completed"
    },
    "tags": []
   },
   "outputs": [
    {
     "data": {
      "text/plain": [
       "{'coverage': 0.9105339427042694, 'avg_size': 1.1350351131423475}"
      ]
     },
     "execution_count": 56,
     "metadata": {},
     "output_type": "execute_result"
    }
   ],
   "source": [
    "metrics"
   ]
  },
  {
   "cell_type": "code",
   "execution_count": 57,
   "id": "9b9a838d-31c9-430b-ae14-12baee460d17",
   "metadata": {
    "execution": {
     "iopub.execute_input": "2025-07-30T20:45:19.912106Z",
     "iopub.status.busy": "2025-07-30T20:45:19.911659Z",
     "iopub.status.idle": "2025-07-30T20:45:19.917917Z",
     "shell.execute_reply": "2025-07-30T20:45:19.917039Z"
    },
    "papermill": {
     "duration": 0.033861,
     "end_time": "2025-07-30T20:45:19.919562",
     "exception": false,
     "start_time": "2025-07-30T20:45:19.885701",
     "status": "completed"
    },
    "tags": []
   },
   "outputs": [],
   "source": [
    "example_universe = universe.copy()\n",
    "universe_training_year = example_universe.get(\"training_year\")\n",
    "universe_training_size = example_universe.get(\"training_size\")\n",
    "universe_scale = example_universe.get(\"scale\")\n",
    "universe_model = example_universe.get(\"model\")\n",
    "universe_exclude_features = example_universe.get(\"exclude_features\")\n",
    "universe_exclude_subgroups = example_universe.get(\"exclude_subgroups\")"
   ]
  },
  {
   "cell_type": "code",
   "execution_count": 58,
   "id": "f4b6a8ac-9dc0-4245-8a91-5b3b5999c4f9",
   "metadata": {
    "execution": {
     "iopub.execute_input": "2025-07-30T20:45:19.961632Z",
     "iopub.status.busy": "2025-07-30T20:45:19.961259Z",
     "iopub.status.idle": "2025-07-30T20:45:19.967749Z",
     "shell.execute_reply": "2025-07-30T20:45:19.966810Z"
    },
    "papermill": {
     "duration": 0.02513,
     "end_time": "2025-07-30T20:45:19.969516",
     "exception": false,
     "start_time": "2025-07-30T20:45:19.944386",
     "status": "completed"
    },
    "tags": []
   },
   "outputs": [],
   "source": [
    "cp_metrics_dict = {\n",
    "    \"universe_id\": [universe_id],\n",
    "    \"universe_training_year\": [universe_training_year],\n",
    "    \"universe_training_size\": [universe_training_size],\n",
    "    \"universe_scale\": [universe_scale],\n",
    "    \"universe_model\": [universe_model],\n",
    "    \"universe_exclude_features\": [universe_exclude_features],\n",
    "    \"universe_exclude_subgroups\": [universe_exclude_subgroups],\n",
    "    \"q_hat\": [q_hat],\n",
    "    \"coverage\": [metrics[\"coverage\"]],\n",
    "    \"avg_size\": [metrics[\"avg_size\"]],\n",
    "}"
   ]
  },
  {
   "cell_type": "code",
   "execution_count": 59,
   "id": "908acbb1-0371-4915-85ca-3fa520d2efe2",
   "metadata": {
    "execution": {
     "iopub.execute_input": "2025-07-30T20:45:20.024904Z",
     "iopub.status.busy": "2025-07-30T20:45:20.024455Z",
     "iopub.status.idle": "2025-07-30T20:45:20.031143Z",
     "shell.execute_reply": "2025-07-30T20:45:20.030157Z"
    },
    "papermill": {
     "duration": 0.036824,
     "end_time": "2025-07-30T20:45:20.032900",
     "exception": false,
     "start_time": "2025-07-30T20:45:19.996076",
     "status": "completed"
    },
    "tags": []
   },
   "outputs": [
    {
     "data": {
      "text/plain": [
       "{'universe_id': ['e3246177ef156a09b762b7e1b5fd95eb'],\n",
       " 'universe_training_year': ['2014'],\n",
       " 'universe_training_size': ['5k'],\n",
       " 'universe_scale': ['scale'],\n",
       " 'universe_model': ['penalized_logreg'],\n",
       " 'universe_exclude_features': ['nationality-sex'],\n",
       " 'universe_exclude_subgroups': ['keep-all'],\n",
       " 'q_hat': [0.6856473194076578],\n",
       " 'coverage': [0.9105339427042694],\n",
       " 'avg_size': [1.1350351131423475]}"
      ]
     },
     "execution_count": 59,
     "metadata": {},
     "output_type": "execute_result"
    }
   ],
   "source": [
    "cp_metrics_dict"
   ]
  },
  {
   "cell_type": "code",
   "execution_count": 60,
   "id": "33007efc-14e9-4ec6-97ac-56a455c82265",
   "metadata": {
    "execution": {
     "iopub.execute_input": "2025-07-30T20:45:20.099052Z",
     "iopub.status.busy": "2025-07-30T20:45:20.098168Z",
     "iopub.status.idle": "2025-07-30T20:45:20.104870Z",
     "shell.execute_reply": "2025-07-30T20:45:20.103866Z"
    },
    "papermill": {
     "duration": 0.044889,
     "end_time": "2025-07-30T20:45:20.106466",
     "exception": false,
     "start_time": "2025-07-30T20:45:20.061577",
     "status": "completed"
    },
    "tags": []
   },
   "outputs": [],
   "source": [
    "cp_metrics_df = pd.DataFrame(cp_metrics_dict)"
   ]
  },
  {
   "cell_type": "code",
   "execution_count": 61,
   "id": "db12611b-57b2-4910-b9d0-355adfd6e7bf",
   "metadata": {
    "execution": {
     "iopub.execute_input": "2025-07-30T20:45:20.162040Z",
     "iopub.status.busy": "2025-07-30T20:45:20.161700Z",
     "iopub.status.idle": "2025-07-30T20:45:20.175142Z",
     "shell.execute_reply": "2025-07-30T20:45:20.174382Z"
    },
    "papermill": {
     "duration": 0.044593,
     "end_time": "2025-07-30T20:45:20.176465",
     "exception": false,
     "start_time": "2025-07-30T20:45:20.131872",
     "status": "completed"
    },
    "tags": []
   },
   "outputs": [
    {
     "data": {
      "text/html": [
       "<div>\n",
       "<style scoped>\n",
       "    .dataframe tbody tr th:only-of-type {\n",
       "        vertical-align: middle;\n",
       "    }\n",
       "\n",
       "    .dataframe tbody tr th {\n",
       "        vertical-align: top;\n",
       "    }\n",
       "\n",
       "    .dataframe thead th {\n",
       "        text-align: right;\n",
       "    }\n",
       "</style>\n",
       "<table border=\"1\" class=\"dataframe\">\n",
       "  <thead>\n",
       "    <tr style=\"text-align: right;\">\n",
       "      <th></th>\n",
       "      <th>universe_id</th>\n",
       "      <th>universe_training_year</th>\n",
       "      <th>universe_training_size</th>\n",
       "      <th>universe_scale</th>\n",
       "      <th>universe_model</th>\n",
       "      <th>universe_exclude_features</th>\n",
       "      <th>universe_exclude_subgroups</th>\n",
       "      <th>q_hat</th>\n",
       "      <th>coverage</th>\n",
       "      <th>avg_size</th>\n",
       "    </tr>\n",
       "  </thead>\n",
       "  <tbody>\n",
       "    <tr>\n",
       "      <th>0</th>\n",
       "      <td>e3246177ef156a09b762b7e1b5fd95eb</td>\n",
       "      <td>2014</td>\n",
       "      <td>5k</td>\n",
       "      <td>scale</td>\n",
       "      <td>penalized_logreg</td>\n",
       "      <td>nationality-sex</td>\n",
       "      <td>keep-all</td>\n",
       "      <td>0.685647</td>\n",
       "      <td>0.910534</td>\n",
       "      <td>1.135035</td>\n",
       "    </tr>\n",
       "  </tbody>\n",
       "</table>\n",
       "</div>"
      ],
      "text/plain": [
       "                        universe_id universe_training_year  \\\n",
       "0  e3246177ef156a09b762b7e1b5fd95eb                   2014   \n",
       "\n",
       "  universe_training_size universe_scale    universe_model  \\\n",
       "0                     5k          scale  penalized_logreg   \n",
       "\n",
       "  universe_exclude_features universe_exclude_subgroups     q_hat  coverage  \\\n",
       "0           nationality-sex                   keep-all  0.685647  0.910534   \n",
       "\n",
       "   avg_size  \n",
       "0  1.135035  "
      ]
     },
     "execution_count": 61,
     "metadata": {},
     "output_type": "execute_result"
    }
   ],
   "source": [
    "cp_metrics_df"
   ]
  },
  {
   "cell_type": "code",
   "execution_count": 62,
   "id": "b7fbde55-a0a1-47e4-9af6-fe4a17fa8c61",
   "metadata": {
    "execution": {
     "iopub.execute_input": "2025-07-30T20:45:20.220219Z",
     "iopub.status.busy": "2025-07-30T20:45:20.219732Z",
     "iopub.status.idle": "2025-07-30T20:45:20.233369Z",
     "shell.execute_reply": "2025-07-30T20:45:20.232599Z"
    },
    "papermill": {
     "duration": 0.044331,
     "end_time": "2025-07-30T20:45:20.234991",
     "exception": false,
     "start_time": "2025-07-30T20:45:20.190660",
     "status": "completed"
    },
    "tags": []
   },
   "outputs": [],
   "source": [
    "# Conditional Coverage & looking at subgroups"
   ]
  },
  {
   "cell_type": "code",
   "execution_count": 63,
   "id": "027ae886-68dd-4141-96c7-805a5450e1ef",
   "metadata": {
    "execution": {
     "iopub.execute_input": "2025-07-30T20:45:20.287959Z",
     "iopub.status.busy": "2025-07-30T20:45:20.287425Z",
     "iopub.status.idle": "2025-07-30T20:45:20.559310Z",
     "shell.execute_reply": "2025-07-30T20:45:20.558341Z"
    },
    "papermill": {
     "duration": 0.301007,
     "end_time": "2025-07-30T20:45:20.561377",
     "exception": false,
     "start_time": "2025-07-30T20:45:20.260370",
     "status": "completed"
    },
    "tags": []
   },
   "outputs": [],
   "source": [
    "from fairness_multiverse.conformal import build_cp_groups\n",
    "\n",
    "cp_groups_df = build_cp_groups(pred_sets, y_true, X_test.index, org_test)\n",
    "#needs universe_id and setting"
   ]
  },
  {
   "cell_type": "code",
   "execution_count": 64,
   "id": "01d5802c-663a-4d1f-9d69-e036faaffbf7",
   "metadata": {
    "execution": {
     "iopub.execute_input": "2025-07-30T20:45:20.619274Z",
     "iopub.status.busy": "2025-07-30T20:45:20.618416Z",
     "iopub.status.idle": "2025-07-30T20:45:20.623514Z",
     "shell.execute_reply": "2025-07-30T20:45:20.622496Z"
    },
    "papermill": {
     "duration": 0.033216,
     "end_time": "2025-07-30T20:45:20.625205",
     "exception": false,
     "start_time": "2025-07-30T20:45:20.591989",
     "status": "completed"
    },
    "tags": []
   },
   "outputs": [],
   "source": [
    "#delete\n",
    "#cp_groups_df"
   ]
  },
  {
   "cell_type": "code",
   "execution_count": 65,
   "id": "fa424af1-d1eb-443d-b717-2d279ada8408",
   "metadata": {
    "execution": {
     "iopub.execute_input": "2025-07-30T20:45:20.677005Z",
     "iopub.status.busy": "2025-07-30T20:45:20.676494Z",
     "iopub.status.idle": "2025-07-30T20:45:20.681901Z",
     "shell.execute_reply": "2025-07-30T20:45:20.680942Z"
    },
    "papermill": {
     "duration": 0.032657,
     "end_time": "2025-07-30T20:45:20.683454",
     "exception": false,
     "start_time": "2025-07-30T20:45:20.650797",
     "status": "completed"
    },
    "tags": []
   },
   "outputs": [],
   "source": [
    "#delete\n",
    "#percentage = (cp_groups_df['nongerman_female'] == 1).mean() * 100\n",
    "#print(percentage)\n"
   ]
  },
  {
   "cell_type": "code",
   "execution_count": 66,
   "id": "6cbdab96-b2b2-45af-ad54-d0516db2e28d",
   "metadata": {
    "execution": {
     "iopub.execute_input": "2025-07-30T20:45:20.714373Z",
     "iopub.status.busy": "2025-07-30T20:45:20.713950Z",
     "iopub.status.idle": "2025-07-30T20:45:21.876326Z",
     "shell.execute_reply": "2025-07-30T20:45:21.875538Z"
    },
    "papermill": {
     "duration": 1.178439,
     "end_time": "2025-07-30T20:45:21.877770",
     "exception": false,
     "start_time": "2025-07-30T20:45:20.699331",
     "status": "completed"
    },
    "tags": []
   },
   "outputs": [],
   "source": [
    "# Define covered = 1 if true_label is in the predicted set\n",
    "cp_groups_df['covered'] = cp_groups_df.apply(\n",
    "    lambda r: int(r['true_label'] in r['pred_set']),\n",
    "    axis=1\n",
    ")"
   ]
  },
  {
   "cell_type": "code",
   "execution_count": 67,
   "id": "338ff529-1a6b-4b87-a931-8e4788d52aad",
   "metadata": {
    "execution": {
     "iopub.execute_input": "2025-07-30T20:45:21.910659Z",
     "iopub.status.busy": "2025-07-30T20:45:21.910123Z",
     "iopub.status.idle": "2025-07-30T20:45:21.914513Z",
     "shell.execute_reply": "2025-07-30T20:45:21.913799Z"
    },
    "papermill": {
     "duration": 0.021517,
     "end_time": "2025-07-30T20:45:21.915809",
     "exception": false,
     "start_time": "2025-07-30T20:45:21.894292",
     "status": "completed"
    },
    "tags": []
   },
   "outputs": [],
   "source": [
    "#cp_groups_df"
   ]
  },
  {
   "cell_type": "code",
   "execution_count": 68,
   "id": "90032e27-66df-4540-9169-4e89cfbaa758",
   "metadata": {
    "execution": {
     "iopub.execute_input": "2025-07-30T20:45:21.947182Z",
     "iopub.status.busy": "2025-07-30T20:45:21.946655Z",
     "iopub.status.idle": "2025-07-30T20:45:21.956534Z",
     "shell.execute_reply": "2025-07-30T20:45:21.955690Z"
    },
    "papermill": {
     "duration": 0.026605,
     "end_time": "2025-07-30T20:45:21.958006",
     "exception": false,
     "start_time": "2025-07-30T20:45:21.931401",
     "status": "completed"
    },
    "tags": []
   },
   "outputs": [],
   "source": [
    "subgroups = ['frau1','nongerman','nongerman_male','nongerman_female']\n",
    "\n",
    "# Conditional coverage for subgroup==1\n",
    "cond_coverage = {\n",
    "    g: cp_groups_df.loc[cp_groups_df[g]==1, 'covered'].mean()\n",
    "    for g in subgroups\n",
    "}"
   ]
  },
  {
   "cell_type": "code",
   "execution_count": 69,
   "id": "1e348fb1-b9c3-45bc-ba23-f016827a7e0d",
   "metadata": {
    "execution": {
     "iopub.execute_input": "2025-07-30T20:45:21.995528Z",
     "iopub.status.busy": "2025-07-30T20:45:21.994866Z",
     "iopub.status.idle": "2025-07-30T20:45:22.010193Z",
     "shell.execute_reply": "2025-07-30T20:45:22.008723Z"
    },
    "papermill": {
     "duration": 0.039654,
     "end_time": "2025-07-30T20:45:22.013433",
     "exception": false,
     "start_time": "2025-07-30T20:45:21.973779",
     "status": "completed"
    },
    "tags": []
   },
   "outputs": [
    {
     "data": {
      "text/plain": [
       "{'frau1': 0.909718290874781,\n",
       " 'nongerman': 0.9097849884915511,\n",
       " 'nongerman_male': 0.9269566783752139,\n",
       " 'nongerman_female': 0.881371087928465}"
      ]
     },
     "execution_count": 69,
     "metadata": {},
     "output_type": "execute_result"
    }
   ],
   "source": [
    "cond_coverage"
   ]
  },
  {
   "cell_type": "code",
   "execution_count": 70,
   "id": "f5093324-c3dd-4d63-bc4c-8d945e5c8bbb",
   "metadata": {
    "execution": {
     "iopub.execute_input": "2025-07-30T20:45:22.073810Z",
     "iopub.status.busy": "2025-07-30T20:45:22.072893Z",
     "iopub.status.idle": "2025-07-30T20:45:22.080526Z",
     "shell.execute_reply": "2025-07-30T20:45:22.079489Z"
    },
    "papermill": {
     "duration": 0.040692,
     "end_time": "2025-07-30T20:45:22.082520",
     "exception": false,
     "start_time": "2025-07-30T20:45:22.041828",
     "status": "completed"
    },
    "tags": []
   },
   "outputs": [],
   "source": [
    "for subgroup, cov in cond_coverage.items():\n",
    "    cp_metrics_df[f\"cov_{subgroup}\"] = cov"
   ]
  },
  {
   "cell_type": "code",
   "execution_count": 71,
   "id": "6e872e10-dbe5-49e8-b554-5030c98ff75d",
   "metadata": {
    "execution": {
     "iopub.execute_input": "2025-07-30T20:45:22.134799Z",
     "iopub.status.busy": "2025-07-30T20:45:22.134252Z",
     "iopub.status.idle": "2025-07-30T20:45:22.154479Z",
     "shell.execute_reply": "2025-07-30T20:45:22.153525Z"
    },
    "papermill": {
     "duration": 0.048883,
     "end_time": "2025-07-30T20:45:22.156327",
     "exception": false,
     "start_time": "2025-07-30T20:45:22.107444",
     "status": "completed"
    },
    "tags": []
   },
   "outputs": [
    {
     "data": {
      "text/html": [
       "<div>\n",
       "<style scoped>\n",
       "    .dataframe tbody tr th:only-of-type {\n",
       "        vertical-align: middle;\n",
       "    }\n",
       "\n",
       "    .dataframe tbody tr th {\n",
       "        vertical-align: top;\n",
       "    }\n",
       "\n",
       "    .dataframe thead th {\n",
       "        text-align: right;\n",
       "    }\n",
       "</style>\n",
       "<table border=\"1\" class=\"dataframe\">\n",
       "  <thead>\n",
       "    <tr style=\"text-align: right;\">\n",
       "      <th></th>\n",
       "      <th>universe_id</th>\n",
       "      <th>universe_training_year</th>\n",
       "      <th>universe_training_size</th>\n",
       "      <th>universe_scale</th>\n",
       "      <th>universe_model</th>\n",
       "      <th>universe_exclude_features</th>\n",
       "      <th>universe_exclude_subgroups</th>\n",
       "      <th>q_hat</th>\n",
       "      <th>coverage</th>\n",
       "      <th>avg_size</th>\n",
       "      <th>cov_frau1</th>\n",
       "      <th>cov_nongerman</th>\n",
       "      <th>cov_nongerman_male</th>\n",
       "      <th>cov_nongerman_female</th>\n",
       "    </tr>\n",
       "  </thead>\n",
       "  <tbody>\n",
       "    <tr>\n",
       "      <th>0</th>\n",
       "      <td>e3246177ef156a09b762b7e1b5fd95eb</td>\n",
       "      <td>2014</td>\n",
       "      <td>5k</td>\n",
       "      <td>scale</td>\n",
       "      <td>penalized_logreg</td>\n",
       "      <td>nationality-sex</td>\n",
       "      <td>keep-all</td>\n",
       "      <td>0.685647</td>\n",
       "      <td>0.910534</td>\n",
       "      <td>1.135035</td>\n",
       "      <td>0.909718</td>\n",
       "      <td>0.909785</td>\n",
       "      <td>0.926957</td>\n",
       "      <td>0.881371</td>\n",
       "    </tr>\n",
       "  </tbody>\n",
       "</table>\n",
       "</div>"
      ],
      "text/plain": [
       "                        universe_id universe_training_year  \\\n",
       "0  e3246177ef156a09b762b7e1b5fd95eb                   2014   \n",
       "\n",
       "  universe_training_size universe_scale    universe_model  \\\n",
       "0                     5k          scale  penalized_logreg   \n",
       "\n",
       "  universe_exclude_features universe_exclude_subgroups     q_hat  coverage  \\\n",
       "0           nationality-sex                   keep-all  0.685647  0.910534   \n",
       "\n",
       "   avg_size  cov_frau1  cov_nongerman  cov_nongerman_male  \\\n",
       "0  1.135035   0.909718       0.909785            0.926957   \n",
       "\n",
       "   cov_nongerman_female  \n",
       "0              0.881371  "
      ]
     },
     "execution_count": 71,
     "metadata": {},
     "output_type": "execute_result"
    }
   ],
   "source": [
    "cp_metrics_df"
   ]
  },
  {
   "cell_type": "markdown",
   "id": "33774451",
   "metadata": {
    "papermill": {
     "duration": 0.014639,
     "end_time": "2025-07-30T20:45:22.198014",
     "exception": false,
     "start_time": "2025-07-30T20:45:22.183375",
     "status": "completed"
    },
    "tags": []
   },
   "source": [
    "# (Fairness) Metrics"
   ]
  },
  {
   "cell_type": "code",
   "execution_count": 72,
   "id": "debc5d62",
   "metadata": {
    "execution": {
     "iopub.execute_input": "2025-07-30T20:45:22.231854Z",
     "iopub.status.busy": "2025-07-30T20:45:22.231342Z",
     "iopub.status.idle": "2025-07-30T20:45:22.254249Z",
     "shell.execute_reply": "2025-07-30T20:45:22.253136Z"
    },
    "papermill": {
     "duration": 0.043727,
     "end_time": "2025-07-30T20:45:22.255695",
     "exception": false,
     "start_time": "2025-07-30T20:45:22.211968",
     "status": "completed"
    },
    "tags": []
   },
   "outputs": [],
   "source": [
    "# do I need to include maxdeutsch1.missing?\n",
    "\n",
    "import numpy as np\n",
    "\n",
    "colname_to_bin = \"maxdeutsch1\"\n",
    "majority_value = org_train[colname_to_bin].mode()[0]\n",
    "\n",
    "org_test[\"majmin\"] = np.where(org_test[colname_to_bin] == majority_value, \"majority\", \"minority\")"
   ]
  },
  {
   "cell_type": "code",
   "execution_count": 73,
   "id": "06a50de5",
   "metadata": {
    "execution": {
     "iopub.execute_input": "2025-07-30T20:45:22.311547Z",
     "iopub.status.busy": "2025-07-30T20:45:22.311106Z",
     "iopub.status.idle": "2025-07-30T20:45:24.888724Z",
     "shell.execute_reply": "2025-07-30T20:45:24.887946Z"
    },
    "papermill": {
     "duration": 2.603632,
     "end_time": "2025-07-30T20:45:24.890117",
     "exception": false,
     "start_time": "2025-07-30T20:45:22.286485",
     "status": "completed"
    },
    "tags": []
   },
   "outputs": [],
   "source": [
    "example_universe = universe.copy()\n",
    "example_universe[\"cutoff\"] = example_universe[\"cutoff\"][0]\n",
    "example_universe[\"eval_fairness_grouping\"] = example_universe[\"eval_fairness_grouping\"][0]\n",
    "fairness_dict, metric_frame = universe_analysis.compute_metrics(\n",
    "    example_universe,\n",
    "    y_pred_prob=probs_test,\n",
    "    y_test=y_true,\n",
    "    org_test=org_test,\n",
    ")"
   ]
  },
  {
   "cell_type": "markdown",
   "id": "f95d4e02",
   "metadata": {
    "papermill": {
     "duration": 0.023274,
     "end_time": "2025-07-30T20:45:24.927876",
     "exception": false,
     "start_time": "2025-07-30T20:45:24.904602",
     "status": "completed"
    },
    "tags": []
   },
   "source": [
    "# Overall"
   ]
  },
  {
   "cell_type": "markdown",
   "id": "bdee4871",
   "metadata": {
    "papermill": {
     "duration": 0.025897,
     "end_time": "2025-07-30T20:45:24.982142",
     "exception": false,
     "start_time": "2025-07-30T20:45:24.956245",
     "status": "completed"
    },
    "tags": []
   },
   "source": [
    "Fairness\n",
    "Main fairness target: Equalized Odds. Seems to be a better fit than equal opportunity, since we're not only interested in Y = 1. Seems to be a better fit than demographic parity, since we also care about accuracy, not just equal distribution of preds.\n",
    "\n",
    "Pick column for computation of fairness metrics\n",
    "\n",
    "Performance\n",
    "Overall performance measures, most interesting in relation to the measures split by group below"
   ]
  },
  {
   "cell_type": "code",
   "execution_count": 74,
   "id": "c4e067c6",
   "metadata": {
    "execution": {
     "iopub.execute_input": "2025-07-30T20:45:25.041568Z",
     "iopub.status.busy": "2025-07-30T20:45:25.041147Z",
     "iopub.status.idle": "2025-07-30T20:45:25.050790Z",
     "shell.execute_reply": "2025-07-30T20:45:25.049475Z"
    },
    "papermill": {
     "duration": 0.041733,
     "end_time": "2025-07-30T20:45:25.052951",
     "exception": false,
     "start_time": "2025-07-30T20:45:25.011218",
     "status": "completed"
    },
    "tags": []
   },
   "outputs": [
    {
     "data": {
      "text/plain": [
       "accuracy                   0.224156\n",
       "balanced accuracy          0.548137\n",
       "f1                         0.245493\n",
       "precision                  0.140242\n",
       "false positive rate        0.887650\n",
       "false negative rate        0.016076\n",
       "selection rate             0.900000\n",
       "count                  89710.000000\n",
       "dtype: float64"
      ]
     },
     "execution_count": 74,
     "metadata": {},
     "output_type": "execute_result"
    }
   ],
   "source": [
    "metric_frame.overall"
   ]
  },
  {
   "cell_type": "markdown",
   "id": "e968fe9d",
   "metadata": {
    "papermill": {
     "duration": 0.030081,
     "end_time": "2025-07-30T20:45:25.114993",
     "exception": false,
     "start_time": "2025-07-30T20:45:25.084912",
     "status": "completed"
    },
    "tags": []
   },
   "source": [
    "By Group"
   ]
  },
  {
   "cell_type": "code",
   "execution_count": 75,
   "id": "ec325bce",
   "metadata": {
    "execution": {
     "iopub.execute_input": "2025-07-30T20:45:25.175163Z",
     "iopub.status.busy": "2025-07-30T20:45:25.174459Z",
     "iopub.status.idle": "2025-07-30T20:45:25.191795Z",
     "shell.execute_reply": "2025-07-30T20:45:25.190585Z"
    },
    "papermill": {
     "duration": 0.048979,
     "end_time": "2025-07-30T20:45:25.193526",
     "exception": false,
     "start_time": "2025-07-30T20:45:25.144547",
     "status": "completed"
    },
    "tags": []
   },
   "outputs": [
    {
     "data": {
      "text/html": [
       "<div>\n",
       "<style scoped>\n",
       "    .dataframe tbody tr th:only-of-type {\n",
       "        vertical-align: middle;\n",
       "    }\n",
       "\n",
       "    .dataframe tbody tr th {\n",
       "        vertical-align: top;\n",
       "    }\n",
       "\n",
       "    .dataframe thead th {\n",
       "        text-align: right;\n",
       "    }\n",
       "</style>\n",
       "<table border=\"1\" class=\"dataframe\">\n",
       "  <thead>\n",
       "    <tr style=\"text-align: right;\">\n",
       "      <th></th>\n",
       "      <th>accuracy</th>\n",
       "      <th>balanced accuracy</th>\n",
       "      <th>f1</th>\n",
       "      <th>precision</th>\n",
       "      <th>false positive rate</th>\n",
       "      <th>false negative rate</th>\n",
       "      <th>selection rate</th>\n",
       "      <th>count</th>\n",
       "    </tr>\n",
       "    <tr>\n",
       "      <th>majmin</th>\n",
       "      <th></th>\n",
       "      <th></th>\n",
       "      <th></th>\n",
       "      <th></th>\n",
       "      <th></th>\n",
       "      <th></th>\n",
       "      <th></th>\n",
       "      <th></th>\n",
       "    </tr>\n",
       "  </thead>\n",
       "  <tbody>\n",
       "    <tr>\n",
       "      <th>majority</th>\n",
       "      <td>0.241434</td>\n",
       "      <td>0.556105</td>\n",
       "      <td>0.255259</td>\n",
       "      <td>0.146655</td>\n",
       "      <td>0.871598</td>\n",
       "      <td>0.016193</td>\n",
       "      <td>0.886425</td>\n",
       "      <td>69170.0</td>\n",
       "    </tr>\n",
       "    <tr>\n",
       "      <th>minority</th>\n",
       "      <td>0.165969</td>\n",
       "      <td>0.521849</td>\n",
       "      <td>0.213922</td>\n",
       "      <td>0.120000</td>\n",
       "      <td>0.940678</td>\n",
       "      <td>0.015625</td>\n",
       "      <td>0.945716</td>\n",
       "      <td>20540.0</td>\n",
       "    </tr>\n",
       "  </tbody>\n",
       "</table>\n",
       "</div>"
      ],
      "text/plain": [
       "          accuracy  balanced accuracy        f1  precision  \\\n",
       "majmin                                                       \n",
       "majority  0.241434           0.556105  0.255259   0.146655   \n",
       "minority  0.165969           0.521849  0.213922   0.120000   \n",
       "\n",
       "          false positive rate  false negative rate  selection rate    count  \n",
       "majmin                                                                       \n",
       "majority             0.871598             0.016193        0.886425  69170.0  \n",
       "minority             0.940678             0.015625        0.945716  20540.0  "
      ]
     },
     "execution_count": 75,
     "metadata": {},
     "output_type": "execute_result"
    }
   ],
   "source": [
    "metric_frame.by_group"
   ]
  },
  {
   "cell_type": "code",
   "execution_count": 76,
   "id": "a9ddbe63",
   "metadata": {
    "execution": {
     "iopub.execute_input": "2025-07-30T20:45:25.256002Z",
     "iopub.status.busy": "2025-07-30T20:45:25.255001Z",
     "iopub.status.idle": "2025-07-30T20:45:27.328178Z",
     "shell.execute_reply": "2025-07-30T20:45:27.327463Z"
    },
    "papermill": {
     "duration": 2.105001,
     "end_time": "2025-07-30T20:45:27.329415",
     "exception": false,
     "start_time": "2025-07-30T20:45:25.224414",
     "status": "completed"
    },
    "tags": []
   },
   "outputs": [
    {
     "data": {
      "text/plain": [
       "array([[<Axes: title={'center': 'accuracy'}, xlabel='majmin'>,\n",
       "        <Axes: title={'center': 'balanced accuracy'}, xlabel='majmin'>,\n",
       "        <Axes: title={'center': 'f1'}, xlabel='majmin'>],\n",
       "       [<Axes: title={'center': 'precision'}, xlabel='majmin'>,\n",
       "        <Axes: title={'center': 'false positive rate'}, xlabel='majmin'>,\n",
       "        <Axes: title={'center': 'false negative rate'}, xlabel='majmin'>],\n",
       "       [<Axes: title={'center': 'selection rate'}, xlabel='majmin'>,\n",
       "        <Axes: title={'center': 'count'}, xlabel='majmin'>,\n",
       "        <Axes: xlabel='majmin'>]], dtype=object)"
      ]
     },
     "execution_count": 76,
     "metadata": {},
     "output_type": "execute_result"
    },
    {
     "data": {
      "image/png": "[encoded data removed]",
      "text/plain": [
       "<Figure size 1200x800 with 9 Axes>"
      ]
     },
     "metadata": {},
     "output_type": "display_data"
    }
   ],
   "source": [
    "# In a graphic\n",
    "metric_frame.by_group.plot.bar(\n",
    "    subplots=True,\n",
    "    layout=[3, 3],\n",
    "    legend=False,\n",
    "    figsize=[12, 8],\n",
    "    title=\"Show all metrics\",\n",
    ")"
   ]
  },
  {
   "cell_type": "markdown",
   "id": "f57a0bac",
   "metadata": {
    "papermill": {
     "duration": 0.014842,
     "end_time": "2025-07-30T20:45:27.361792",
     "exception": false,
     "start_time": "2025-07-30T20:45:27.346950",
     "status": "completed"
    },
    "tags": []
   },
   "source": [
    "# Final Output"
   ]
  },
  {
   "cell_type": "code",
   "execution_count": 77,
   "id": "96d280a3",
   "metadata": {
    "execution": {
     "iopub.execute_input": "2025-07-30T20:45:27.392421Z",
     "iopub.status.busy": "2025-07-30T20:45:27.391791Z",
     "iopub.status.idle": "2025-07-30T20:45:27.398882Z",
     "shell.execute_reply": "2025-07-30T20:45:27.398132Z"
    },
    "papermill": {
     "duration": 0.023914,
     "end_time": "2025-07-30T20:45:27.400244",
     "exception": false,
     "start_time": "2025-07-30T20:45:27.376330",
     "status": "completed"
    },
    "tags": []
   },
   "outputs": [
    {
     "data": {
      "text/plain": [
       "4"
      ]
     },
     "execution_count": 77,
     "metadata": {},
     "output_type": "execute_result"
    }
   ],
   "source": [
    "sub_universes = universe_analysis.generate_sub_universes()\n",
    "len(sub_universes)"
   ]
  },
  {
   "cell_type": "code",
   "execution_count": 78,
   "id": "92adf7ba",
   "metadata": {
    "execution": {
     "iopub.execute_input": "2025-07-30T20:45:27.433130Z",
     "iopub.status.busy": "2025-07-30T20:45:27.432447Z",
     "iopub.status.idle": "2025-07-30T20:45:27.437653Z",
     "shell.execute_reply": "2025-07-30T20:45:27.436982Z"
    },
    "papermill": {
     "duration": 0.022016,
     "end_time": "2025-07-30T20:45:27.438952",
     "exception": false,
     "start_time": "2025-07-30T20:45:27.416936",
     "status": "completed"
    },
    "tags": []
   },
   "outputs": [],
   "source": [
    "def filter_sub_universe_data(sub_universe, org_test):\n",
    "    # Keep all rows — no filtering\n",
    "    keep_rows_mask = np.ones(org_test.shape[0], dtype=bool)\n",
    "\n",
    "    print(f\"[INFO] Keeping all rows: {keep_rows_mask.sum()} rows retained.\")\n",
    "    return keep_rows_mask"
   ]
  },
  {
   "cell_type": "code",
   "execution_count": 79,
   "id": "4a759155",
   "metadata": {
    "execution": {
     "iopub.execute_input": "2025-07-30T20:45:27.471406Z",
     "iopub.status.busy": "2025-07-30T20:45:27.470742Z",
     "iopub.status.idle": "2025-07-30T20:45:36.525586Z",
     "shell.execute_reply": "2025-07-30T20:45:36.524601Z"
    },
    "papermill": {
     "duration": 9.071884,
     "end_time": "2025-07-30T20:45:36.527226",
     "exception": false,
     "start_time": "2025-07-30T20:45:27.455342",
     "status": "completed"
    },
    "tags": []
   },
   "outputs": [
    {
     "name": "stdout",
     "output_type": "stream",
     "text": [
      "Stopping execution_time clock.\n",
      "[INFO] Keeping all rows: 89710 rows retained.\n"
     ]
    },
    {
     "name": "stdout",
     "output_type": "stream",
     "text": [
      "[INFO] Keeping all rows: 89710 rows retained.\n"
     ]
    },
    {
     "name": "stdout",
     "output_type": "stream",
     "text": [
      "[INFO] Keeping all rows: 89710 rows retained.\n"
     ]
    },
    {
     "name": "stdout",
     "output_type": "stream",
     "text": [
      "[INFO] Keeping all rows: 89710 rows retained.\n"
     ]
    },
    {
     "data": {
      "text/html": [
       "<div>\n",
       "<style scoped>\n",
       "    .dataframe tbody tr th:only-of-type {\n",
       "        vertical-align: middle;\n",
       "    }\n",
       "\n",
       "    .dataframe tbody tr th {\n",
       "        vertical-align: top;\n",
       "    }\n",
       "\n",
       "    .dataframe thead th {\n",
       "        text-align: right;\n",
       "    }\n",
       "</style>\n",
       "<table border=\"1\" class=\"dataframe\">\n",
       "  <thead>\n",
       "    <tr style=\"text-align: right;\">\n",
       "      <th></th>\n",
       "      <th>run_no</th>\n",
       "      <th>universe_id</th>\n",
       "      <th>universe_settings</th>\n",
       "      <th>execution_time</th>\n",
       "      <th>test_size_n</th>\n",
       "      <th>test_size_frac</th>\n",
       "      <th>fair_main_equalized_odds_difference</th>\n",
       "      <th>fair_main_equalized_odds_ratio</th>\n",
       "      <th>fair_main_demographic_parity_difference</th>\n",
       "      <th>fair_main_demographic_parity_ratio</th>\n",
       "      <th>...</th>\n",
       "      <th>perf_grp_precision_0</th>\n",
       "      <th>perf_grp_precision_1</th>\n",
       "      <th>perf_grp_false positive rate_0</th>\n",
       "      <th>perf_grp_false positive rate_1</th>\n",
       "      <th>perf_grp_false negative rate_0</th>\n",
       "      <th>perf_grp_false negative rate_1</th>\n",
       "      <th>perf_grp_selection rate_0</th>\n",
       "      <th>perf_grp_selection rate_1</th>\n",
       "      <th>perf_grp_count_0</th>\n",
       "      <th>perf_grp_count_1</th>\n",
       "    </tr>\n",
       "  </thead>\n",
       "  <tbody>\n",
       "    <tr>\n",
       "      <th>0</th>\n",
       "      <td>14</td>\n",
       "      <td>e3246177ef156a09b762b7e1b5fd95eb</td>\n",
       "      <td>{\"cutoff\": \"quantile_0.1\", \"eval_fairness_grou...</td>\n",
       "      <td>27.107594</td>\n",
       "      <td>89710</td>\n",
       "      <td>1.0</td>\n",
       "      <td>0.069080</td>\n",
       "      <td>0.926563</td>\n",
       "      <td>0.059291</td>\n",
       "      <td>0.937306</td>\n",
       "      <td>...</td>\n",
       "      <td>NaN</td>\n",
       "      <td>NaN</td>\n",
       "      <td>NaN</td>\n",
       "      <td>NaN</td>\n",
       "      <td>NaN</td>\n",
       "      <td>NaN</td>\n",
       "      <td>NaN</td>\n",
       "      <td>NaN</td>\n",
       "      <td>NaN</td>\n",
       "      <td>NaN</td>\n",
       "    </tr>\n",
       "    <tr>\n",
       "      <th>0</th>\n",
       "      <td>14</td>\n",
       "      <td>e3246177ef156a09b762b7e1b5fd95eb</td>\n",
       "      <td>{\"cutoff\": \"quantile_0.1\", \"eval_fairness_grou...</td>\n",
       "      <td>27.107594</td>\n",
       "      <td>89710</td>\n",
       "      <td>1.0</td>\n",
       "      <td>0.069080</td>\n",
       "      <td>0.926563</td>\n",
       "      <td>0.059291</td>\n",
       "      <td>0.937306</td>\n",
       "      <td>...</td>\n",
       "      <td>0.12000</td>\n",
       "      <td>0.146655</td>\n",
       "      <td>0.940678</td>\n",
       "      <td>0.871598</td>\n",
       "      <td>0.015625</td>\n",
       "      <td>0.016193</td>\n",
       "      <td>0.945716</td>\n",
       "      <td>0.886425</td>\n",
       "      <td>20540.0</td>\n",
       "      <td>69170.0</td>\n",
       "    </tr>\n",
       "    <tr>\n",
       "      <th>0</th>\n",
       "      <td>14</td>\n",
       "      <td>e3246177ef156a09b762b7e1b5fd95eb</td>\n",
       "      <td>{\"cutoff\": \"quantile_0.25\", \"eval_fairness_gro...</td>\n",
       "      <td>27.107594</td>\n",
       "      <td>89710</td>\n",
       "      <td>1.0</td>\n",
       "      <td>0.142071</td>\n",
       "      <td>0.829162</td>\n",
       "      <td>0.122441</td>\n",
       "      <td>0.854997</td>\n",
       "      <td>...</td>\n",
       "      <td>NaN</td>\n",
       "      <td>NaN</td>\n",
       "      <td>NaN</td>\n",
       "      <td>NaN</td>\n",
       "      <td>NaN</td>\n",
       "      <td>NaN</td>\n",
       "      <td>NaN</td>\n",
       "      <td>NaN</td>\n",
       "      <td>NaN</td>\n",
       "      <td>NaN</td>\n",
       "    </tr>\n",
       "    <tr>\n",
       "      <th>0</th>\n",
       "      <td>14</td>\n",
       "      <td>e3246177ef156a09b762b7e1b5fd95eb</td>\n",
       "      <td>{\"cutoff\": \"quantile_0.25\", \"eval_fairness_gro...</td>\n",
       "      <td>27.107594</td>\n",
       "      <td>89710</td>\n",
       "      <td>1.0</td>\n",
       "      <td>0.142071</td>\n",
       "      <td>0.829162</td>\n",
       "      <td>0.122441</td>\n",
       "      <td>0.854997</td>\n",
       "      <td>...</td>\n",
       "      <td>0.12869</td>\n",
       "      <td>0.171112</td>\n",
       "      <td>0.831609</td>\n",
       "      <td>0.689539</td>\n",
       "      <td>0.057432</td>\n",
       "      <td>0.065098</td>\n",
       "      <td>0.844401</td>\n",
       "      <td>0.721960</td>\n",
       "      <td>20540.0</td>\n",
       "      <td>69170.0</td>\n",
       "    </tr>\n",
       "  </tbody>\n",
       "</table>\n",
       "<p>4 rows × 50 columns</p>\n",
       "</div>"
      ],
      "text/plain": [
       "  run_no                       universe_id  \\\n",
       "0     14  e3246177ef156a09b762b7e1b5fd95eb   \n",
       "0     14  e3246177ef156a09b762b7e1b5fd95eb   \n",
       "0     14  e3246177ef156a09b762b7e1b5fd95eb   \n",
       "0     14  e3246177ef156a09b762b7e1b5fd95eb   \n",
       "\n",
       "                                   universe_settings  execution_time  \\\n",
       "0  {\"cutoff\": \"quantile_0.1\", \"eval_fairness_grou...       27.107594   \n",
       "0  {\"cutoff\": \"quantile_0.1\", \"eval_fairness_grou...       27.107594   \n",
       "0  {\"cutoff\": \"quantile_0.25\", \"eval_fairness_gro...       27.107594   \n",
       "0  {\"cutoff\": \"quantile_0.25\", \"eval_fairness_gro...       27.107594   \n",
       "\n",
       "   test_size_n  test_size_frac  fair_main_equalized_odds_difference  \\\n",
       "0        89710             1.0                             0.069080   \n",
       "0        89710             1.0                             0.069080   \n",
       "0        89710             1.0                             0.142071   \n",
       "0        89710             1.0                             0.142071   \n",
       "\n",
       "   fair_main_equalized_odds_ratio  fair_main_demographic_parity_difference  \\\n",
       "0                        0.926563                                 0.059291   \n",
       "0                        0.926563                                 0.059291   \n",
       "0                        0.829162                                 0.122441   \n",
       "0                        0.829162                                 0.122441   \n",
       "\n",
       "   fair_main_demographic_parity_ratio  ...  perf_grp_precision_0  \\\n",
       "0                            0.937306  ...                   NaN   \n",
       "0                            0.937306  ...               0.12000   \n",
       "0                            0.854997  ...                   NaN   \n",
       "0                            0.854997  ...               0.12869   \n",
       "\n",
       "   perf_grp_precision_1  perf_grp_false positive rate_0  \\\n",
       "0                   NaN                             NaN   \n",
       "0              0.146655                        0.940678   \n",
       "0                   NaN                             NaN   \n",
       "0              0.171112                        0.831609   \n",
       "\n",
       "   perf_grp_false positive rate_1  perf_grp_false negative rate_0  \\\n",
       "0                             NaN                             NaN   \n",
       "0                        0.871598                        0.015625   \n",
       "0                             NaN                             NaN   \n",
       "0                        0.689539                        0.057432   \n",
       "\n",
       "   perf_grp_false negative rate_1  perf_grp_selection rate_0  \\\n",
       "0                             NaN                        NaN   \n",
       "0                        0.016193                   0.945716   \n",
       "0                             NaN                        NaN   \n",
       "0                        0.065098                   0.844401   \n",
       "\n",
       "   perf_grp_selection rate_1  perf_grp_count_0  perf_grp_count_1  \n",
       "0                        NaN               NaN               NaN  \n",
       "0                   0.886425           20540.0           69170.0  \n",
       "0                        NaN               NaN               NaN  \n",
       "0                   0.721960           20540.0           69170.0  \n",
       "\n",
       "[4 rows x 50 columns]"
      ]
     },
     "execution_count": 79,
     "metadata": {},
     "output_type": "execute_result"
    }
   ],
   "source": [
    "final_output = universe_analysis.generate_final_output(\n",
    "    y_pred_prob=probs_test,\n",
    "    y_test=y_true,\n",
    "    org_test=org_test,\n",
    "    filter_data=filter_sub_universe_data,\n",
    "    cp_metrics_df=cp_metrics_df,\n",
    "    save=True,\n",
    ")\n",
    "final_output"
   ]
  },
  {
   "cell_type": "code",
   "execution_count": null,
   "id": "721ff514-cb11-46f8-b6fc-50392f74b5cb",
   "metadata": {
    "papermill": {
     "duration": 0.030511,
     "end_time": "2025-07-30T20:45:36.617052",
     "exception": false,
     "start_time": "2025-07-30T20:45:36.586541",
     "status": "completed"
    },
    "tags": []
   },
   "outputs": [],
   "source": []
  }
 ],
 "metadata": {
  "celltoolbar": "Tags",
  "kernelspec": {
   "display_name": "Python (CMA Fairness)",
   "language": "python",
   "name": "cma_fair_env"
  },
  "language_info": {
   "codemirror_mode": {
    "name": "ipython",
    "version": 3
   },
   "file_extension": ".py",
   "mimetype": "text/x-python",
   "name": "python",
   "nbconvert_exporter": "python",
   "pygments_lexer": "ipython3",
   "version": "3.10.12"
  },
  "papermill": {
   "default_parameters": {},
   "duration": 40.254762,
   "end_time": "2025-07-30T20:45:37.467720",
   "environment_variables": {},
   "exception": null,
   "input_path": "universe_analysis.ipynb",
   "output_path": "output/runs/14/notebooks/m_14-e3246177ef156a09b762b7e1b5fd95eb.ipynb",
   "parameters": {
    "output_dir": "output",
    "run_no": "14",
    "seed": "2023",
    "universe": "{\"cutoff\": [\"quantile_0.1\", \"quantile_0.25\"], \"eval_fairness_grouping\": [\"majority-minority\", \"nationality-all\"], \"exclude_features\": \"nationality-sex\", \"exclude_subgroups\": \"keep-all\", \"model\": \"penalized_logreg\", \"scale\": \"scale\", \"training_size\": \"5k\", \"training_year\": \"2014\"}",
    "universe_id": "e3246177ef156a09b762b7e1b5fd95eb"
   },
   "start_time": "2025-07-30T20:44:57.212958",
   "version": "2.6.0"
  }
 },
 "nbformat": 4,
 "nbformat_minor": 5
}