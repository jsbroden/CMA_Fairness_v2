{
 "cells": [
  {
   "cell_type": "code",
   "execution_count": 1,
   "id": "f159f837-637b-42ba-96b5-ec9a68c44524",
   "metadata": {
    "execution": {
     "iopub.execute_input": "2025-07-30T21:37:30.274477Z",
     "iopub.status.busy": "2025-07-30T21:37:30.273834Z",
     "iopub.status.idle": "2025-07-30T21:37:30.287345Z",
     "shell.execute_reply": "2025-07-30T21:37:30.286425Z"
    },
    "papermill": {
     "duration": 0.038752,
     "end_time": "2025-07-30T21:37:30.289053",
     "exception": false,
     "start_time": "2025-07-30T21:37:30.250301",
     "status": "completed"
    },
    "tags": []
   },
   "outputs": [
    {
     "name": "stdout",
     "output_type": "stream",
     "text": [
      "/dss/dsshome1/0C/ra93lal2/cma/CMA_Fairness_v2\n"
     ]
    },
    {
     "name": "stderr",
     "output_type": "stream",
     "text": [
      "/dss/dsshome1/0C/ra93lal2/.local/share/virtualenvs/CMA_Fairness_v2-3j10GkSs/lib/python3.10/site-packages/IPython/core/magics/osm.py:393: UserWarning: This is now an optional IPython functionality, using bookmarks requires you to install the `pickleshare` library.\n",
      "  bkms = self.shell.db.get('bookmarks', {})\n",
      "/dss/dsshome1/0C/ra93lal2/.local/share/virtualenvs/CMA_Fairness_v2-3j10GkSs/lib/python3.10/site-packages/IPython/core/magics/osm.py:417: UserWarning: This is now an optional IPython functionality, setting dhist requires you to install the `pickleshare` library.\n",
      "  self.shell.db['dhist'] = compress_dhist(dhist)[-100:]\n"
     ]
    }
   ],
   "source": [
    "%cd ~/cma/CMA_Fairness_v2"
   ]
  },
  {
   "cell_type": "markdown",
   "id": "de2603b9",
   "metadata": {
    "papermill": {
     "duration": 0.020736,
     "end_time": "2025-07-30T21:37:30.331352",
     "exception": false,
     "start_time": "2025-07-30T21:37:30.310616",
     "status": "completed"
    },
    "tags": []
   },
   "source": [
    "The following cell holds the definition of our parameters, these values can be overriden by rendering the with e.g. the following command:\n",
    "\n",
    "papermill -p alpha 0.2 -p ratio 0.3 universe_analysis.ipynb output/test_run.ipynb"
   ]
  },
  {
   "cell_type": "code",
   "execution_count": 2,
   "id": "a80968a0-40bb-4fa9-85ef-2d5eefb01975",
   "metadata": {
    "execution": {
     "iopub.execute_input": "2025-07-30T21:37:30.375135Z",
     "iopub.status.busy": "2025-07-30T21:37:30.374361Z",
     "iopub.status.idle": "2025-07-30T21:37:30.380439Z",
     "shell.execute_reply": "2025-07-30T21:37:30.379374Z"
    },
    "papermill": {
     "duration": 0.029968,
     "end_time": "2025-07-30T21:37:30.382234",
     "exception": false,
     "start_time": "2025-07-30T21:37:30.352266",
     "status": "completed"
    },
    "tags": []
   },
   "outputs": [
    {
     "name": "stdout",
     "output_type": "stream",
     "text": [
      "Current working directory: /dss/dsshome1/0C/ra93lal2/cma/CMA_Fairness_v2\n"
     ]
    }
   ],
   "source": [
    "import os\n",
    "print(\"Current working directory:\", os.getcwd())"
   ]
  },
  {
   "cell_type": "code",
   "execution_count": 3,
   "id": "2dce4c03",
   "metadata": {
    "execution": {
     "iopub.execute_input": "2025-07-30T21:37:30.427225Z",
     "iopub.status.busy": "2025-07-30T21:37:30.426598Z",
     "iopub.status.idle": "2025-07-30T21:37:30.432767Z",
     "shell.execute_reply": "2025-07-30T21:37:30.431754Z"
    },
    "papermill": {
     "duration": 0.030456,
     "end_time": "2025-07-30T21:37:30.434561",
     "exception": false,
     "start_time": "2025-07-30T21:37:30.404105",
     "status": "completed"
    },
    "tags": [
     "parameters"
    ]
   },
   "outputs": [],
   "source": [
    "run_no = 0\n",
    "universe_id = \"test\"\n",
    "universe = {\n",
    "    \"training_size\": \"25k\", # \"25k\", \"5k\", \"1k\"\n",
    "    \"training_year\": \"2014\", # \"2014\", \"2012_14\", \"2010_14\"\n",
    "    \"scale\": \"scale\", # \"scale\", \"do-not-scale\",\n",
    "    #\"stratify_split\": \"target\", # \"none\", \"target\", \"protected-attribute\", \"both\",\n",
    "    \"model\": \"elasticnet\", # \"logreg\", \"penalized_logreg\", \"rf\", \"gbm\", \"elasticnet\"\n",
    "    \"cutoff\": [\"quantile_0.15\", \"quantile_0.30\"],\n",
    "    \"exclude_features\": \"age\", # \"none\", \"nationality\", \"sex\", \"nationality-sex\", \"age\"\n",
    "    \"exclude_subgroups\": \"keep-all\", # \"keep-all\", \"drop-non-german\"\n",
    "    \"eval_fairness_grouping\": [\"majority-minority\", \"nationality-all\"]\n",
    "}\n",
    "\n",
    "output_dir=\"./output\"\n",
    "seed=0"
   ]
  },
  {
   "cell_type": "code",
   "execution_count": 4,
   "id": "c3bd9cf0",
   "metadata": {
    "execution": {
     "iopub.execute_input": "2025-07-30T21:37:30.480634Z",
     "iopub.status.busy": "2025-07-30T21:37:30.480366Z",
     "iopub.status.idle": "2025-07-30T21:37:30.484982Z",
     "shell.execute_reply": "2025-07-30T21:37:30.484188Z"
    },
    "papermill": {
     "duration": 0.029945,
     "end_time": "2025-07-30T21:37:30.486277",
     "exception": false,
     "start_time": "2025-07-30T21:37:30.456332",
     "status": "completed"
    },
    "tags": [
     "injected-parameters"
    ]
   },
   "outputs": [],
   "source": [
    "# Parameters\n",
    "universe_id = \"25443ffbf6bdfd6d9ffdc3cbad78c205\"\n",
    "run_no = \"14\"\n",
    "universe = \"{\\\"cutoff\\\": [\\\"quantile_0.1\\\", \\\"quantile_0.25\\\"], \\\"eval_fairness_grouping\\\": [\\\"majority-minority\\\", \\\"nationality-all\\\"], \\\"exclude_features\\\": \\\"nationality-sex\\\", \\\"exclude_subgroups\\\": \\\"drop-non-german\\\", \\\"model\\\": \\\"elasticnet\\\", \\\"scale\\\": \\\"scale\\\", \\\"training_size\\\": \\\"1k\\\", \\\"training_year\\\": \\\"2012_14\\\"}\"\n",
    "output_dir = \"output\"\n",
    "seed = \"2023\"\n"
   ]
  },
  {
   "cell_type": "code",
   "execution_count": 5,
   "id": "1650acaf",
   "metadata": {
    "execution": {
     "iopub.execute_input": "2025-07-30T21:37:30.507939Z",
     "iopub.status.busy": "2025-07-30T21:37:30.507648Z",
     "iopub.status.idle": "2025-07-30T21:37:30.511554Z",
     "shell.execute_reply": "2025-07-30T21:37:30.510726Z"
    },
    "papermill": {
     "duration": 0.016105,
     "end_time": "2025-07-30T21:37:30.512957",
     "exception": false,
     "start_time": "2025-07-30T21:37:30.496852",
     "status": "completed"
    },
    "tags": []
   },
   "outputs": [],
   "source": [
    "import json\n",
    "# Parse universe into dict if it is passed as a string\n",
    "if isinstance(universe, str):\n",
    "    universe = json.loads(universe)"
   ]
  },
  {
   "cell_type": "code",
   "execution_count": 6,
   "id": "16620c48",
   "metadata": {
    "execution": {
     "iopub.execute_input": "2025-07-30T21:37:30.537355Z",
     "iopub.status.busy": "2025-07-30T21:37:30.536942Z",
     "iopub.status.idle": "2025-07-30T21:37:30.564841Z",
     "shell.execute_reply": "2025-07-30T21:37:30.564135Z"
    },
    "papermill": {
     "duration": 0.0428,
     "end_time": "2025-07-30T21:37:30.566095",
     "exception": false,
     "start_time": "2025-07-30T21:37:30.523295",
     "status": "completed"
    },
    "tags": []
   },
   "outputs": [],
   "source": [
    "# Auto-reload the custom package\n",
    "%load_ext autoreload\n",
    "%autoreload 1\n",
    "%aimport fairness_multiverse"
   ]
  },
  {
   "cell_type": "code",
   "execution_count": 7,
   "id": "01c5c9f3",
   "metadata": {
    "execution": {
     "iopub.execute_input": "2025-07-30T21:37:30.595236Z",
     "iopub.status.busy": "2025-07-30T21:37:30.594831Z",
     "iopub.status.idle": "2025-07-30T21:37:32.256475Z",
     "shell.execute_reply": "2025-07-30T21:37:32.255701Z"
    },
    "papermill": {
     "duration": 1.680993,
     "end_time": "2025-07-30T21:37:32.257872",
     "exception": false,
     "start_time": "2025-07-30T21:37:30.576879",
     "status": "completed"
    },
    "tags": []
   },
   "outputs": [],
   "source": [
    "from fairness_multiverse.universe import UniverseAnalysis\n",
    "\n",
    "universe_analysis = UniverseAnalysis(\n",
    "    run_no = run_no,\n",
    "    universe_id = universe_id,\n",
    "    universe = universe,\n",
    "    output_dir=output_dir,\n",
    ")"
   ]
  },
  {
   "cell_type": "code",
   "execution_count": 8,
   "id": "106241f5",
   "metadata": {
    "execution": {
     "iopub.execute_input": "2025-07-30T21:37:32.280549Z",
     "iopub.status.busy": "2025-07-30T21:37:32.279756Z",
     "iopub.status.idle": "2025-07-30T21:37:32.285380Z",
     "shell.execute_reply": "2025-07-30T21:37:32.284559Z"
    },
    "papermill": {
     "duration": 0.018002,
     "end_time": "2025-07-30T21:37:32.286776",
     "exception": false,
     "start_time": "2025-07-30T21:37:32.268774",
     "status": "completed"
    },
    "tags": []
   },
   "outputs": [
    {
     "name": "stdout",
     "output_type": "stream",
     "text": [
      "Using Seed: 2023\n"
     ]
    }
   ],
   "source": [
    "import numpy as np\n",
    "parsed_seed = int(seed)\n",
    "np.random.seed(parsed_seed)\n",
    "print(f\"Using Seed: {parsed_seed}\")"
   ]
  },
  {
   "cell_type": "markdown",
   "id": "e0ebdc57",
   "metadata": {
    "papermill": {
     "duration": 0.01714,
     "end_time": "2025-07-30T21:37:32.314821",
     "exception": false,
     "start_time": "2025-07-30T21:37:32.297681",
     "status": "completed"
    },
    "tags": []
   },
   "source": [
    "# Loading Data"
   ]
  },
  {
   "cell_type": "markdown",
   "id": "681925a3",
   "metadata": {
    "papermill": {
     "duration": 0.020208,
     "end_time": "2025-07-30T21:37:32.355343",
     "exception": false,
     "start_time": "2025-07-30T21:37:32.335135",
     "status": "completed"
    },
    "tags": []
   },
   "source": [
    "Load siab_train, siab_test, siab_calib and/or \n",
    "load siab_train_features, siab_train_labels"
   ]
  },
  {
   "cell_type": "code",
   "execution_count": 9,
   "id": "f0496b8a",
   "metadata": {
    "execution": {
     "iopub.execute_input": "2025-07-30T21:37:32.396330Z",
     "iopub.status.busy": "2025-07-30T21:37:32.395825Z",
     "iopub.status.idle": "2025-07-30T21:37:45.557743Z",
     "shell.execute_reply": "2025-07-30T21:37:45.556604Z"
    },
    "papermill": {
     "duration": 13.185269,
     "end_time": "2025-07-30T21:37:45.559429",
     "exception": false,
     "start_time": "2025-07-30T21:37:32.374160",
     "status": "completed"
    },
    "tags": []
   },
   "outputs": [
    {
     "name": "stdout",
     "output_type": "stream",
     "text": [
      "Loading SIAB data from cache: data/siab_cached.csv.gz\n"
     ]
    },
    {
     "name": "stdout",
     "output_type": "stream",
     "text": [
      "(643690, 164)\n"
     ]
    }
   ],
   "source": [
    "from pathlib import Path\n",
    "import pandas as pd\n",
    "\n",
    "# File paths\n",
    "raw_file = Path(\"data/raw/siab.csv\")\n",
    "cache_file = Path(\"data/siab_cached.csv.gz\")\n",
    "\n",
    "# Ensure cache directory exists\n",
    "cache_file.parent.mkdir(parents=True, exist_ok=True)\n",
    "\n",
    "# Load with simple caching\n",
    "if cache_file.exists():\n",
    "    print(f\"Loading SIAB data from cache: {cache_file}\")\n",
    "    siab = pd.read_csv(cache_file, compression='gzip')\n",
    "else:\n",
    "    print(f\"Cache not found. Reading raw SIAB data: {raw_file}\")\n",
    "    siab = pd.read_csv(raw_file)\n",
    "    siab.to_csv(cache_file, index=False, compression='gzip')\n",
    "    print(f\"Cached SIAB data to: {cache_file}\")\n",
    "\n",
    "# Now use `siab` DataFrame as needed\n",
    "print(siab.shape)"
   ]
  },
  {
   "cell_type": "code",
   "execution_count": 10,
   "id": "db0ca512-5f53-4dba-abdb-a2888bca41ba",
   "metadata": {
    "execution": {
     "iopub.execute_input": "2025-07-30T21:37:45.604011Z",
     "iopub.status.busy": "2025-07-30T21:37:45.603481Z",
     "iopub.status.idle": "2025-07-30T21:37:45.608677Z",
     "shell.execute_reply": "2025-07-30T21:37:45.607967Z"
    },
    "papermill": {
     "duration": 0.02927,
     "end_time": "2025-07-30T21:37:45.611174",
     "exception": false,
     "start_time": "2025-07-30T21:37:45.581904",
     "status": "completed"
    },
    "tags": []
   },
   "outputs": [],
   "source": [
    "#siab"
   ]
  },
  {
   "cell_type": "code",
   "execution_count": 11,
   "id": "a0edb063",
   "metadata": {
    "execution": {
     "iopub.execute_input": "2025-07-30T21:37:45.654747Z",
     "iopub.status.busy": "2025-07-30T21:37:45.653843Z",
     "iopub.status.idle": "2025-07-30T21:37:45.659154Z",
     "shell.execute_reply": "2025-07-30T21:37:45.658152Z"
    },
    "papermill": {
     "duration": 0.028652,
     "end_time": "2025-07-30T21:37:45.660809",
     "exception": false,
     "start_time": "2025-07-30T21:37:45.632157",
     "status": "completed"
    },
    "tags": []
   },
   "outputs": [],
   "source": [
    "#import pandas as pd\n",
    "#\n",
    "#X_train = pd.read_csv(\"./data/X_train.csv\")\n",
    "#y_train = pd.read_csv(\"./data/y_train.csv\")"
   ]
  },
  {
   "cell_type": "code",
   "execution_count": 12,
   "id": "63d08085",
   "metadata": {
    "execution": {
     "iopub.execute_input": "2025-07-30T21:37:45.704222Z",
     "iopub.status.busy": "2025-07-30T21:37:45.703653Z",
     "iopub.status.idle": "2025-07-30T21:37:45.708902Z",
     "shell.execute_reply": "2025-07-30T21:37:45.707937Z"
    },
    "papermill": {
     "duration": 0.029245,
     "end_time": "2025-07-30T21:37:45.710422",
     "exception": false,
     "start_time": "2025-07-30T21:37:45.681177",
     "status": "completed"
    },
    "tags": []
   },
   "outputs": [],
   "source": [
    "#X_test = pd.read_csv(\"./data/X_test.csv\")\n",
    "#y_true = pd.read_csv(\"./data/y_test.csv\")"
   ]
  },
  {
   "cell_type": "code",
   "execution_count": 13,
   "id": "98a8d0fa-1d3d-4ed8-bb2c-281470e24add",
   "metadata": {
    "execution": {
     "iopub.execute_input": "2025-07-30T21:37:45.754682Z",
     "iopub.status.busy": "2025-07-30T21:37:45.754216Z",
     "iopub.status.idle": "2025-07-30T21:37:45.759372Z",
     "shell.execute_reply": "2025-07-30T21:37:45.758564Z"
    },
    "papermill": {
     "duration": 0.029824,
     "end_time": "2025-07-30T21:37:45.760831",
     "exception": false,
     "start_time": "2025-07-30T21:37:45.731007",
     "status": "completed"
    },
    "tags": []
   },
   "outputs": [],
   "source": [
    "# Calibration data for conformal\n",
    "#X_calib = pd.read_csv(\"./data/X_calib.csv\")\n",
    "#y_calib = pd.read_csv(\"./data/y_calib.csv\")"
   ]
  },
  {
   "cell_type": "markdown",
   "id": "997051c5-15bd-4b69-9786-c3001a3ce484",
   "metadata": {
    "papermill": {
     "duration": 0.018897,
     "end_time": "2025-07-30T21:37:45.799904",
     "exception": false,
     "start_time": "2025-07-30T21:37:45.781007",
     "status": "completed"
    },
    "tags": []
   },
   "source": [
    "# Splitting Data and Setting Training Data Size"
   ]
  },
  {
   "cell_type": "code",
   "execution_count": 14,
   "id": "e993b61f-042d-41a6-8c81-f55681f86335",
   "metadata": {
    "execution": {
     "iopub.execute_input": "2025-07-30T21:37:45.841663Z",
     "iopub.status.busy": "2025-07-30T21:37:45.841036Z",
     "iopub.status.idle": "2025-07-30T21:37:45.853899Z",
     "shell.execute_reply": "2025-07-30T21:37:45.852939Z"
    },
    "papermill": {
     "duration": 0.03449,
     "end_time": "2025-07-30T21:37:45.855490",
     "exception": false,
     "start_time": "2025-07-30T21:37:45.821000",
     "status": "completed"
    },
    "tags": []
   },
   "outputs": [],
   "source": [
    "def sample_by_year_size(df,\n",
    "                        training_year: str,\n",
    "                        training_size: str,\n",
    "                        random_state: int = 42):\n",
    "    # --- parse training_year into a list of int years ---\n",
    "    if \"_\" in training_year:\n",
    "        start_str, end_str = training_year.split(\"_\", 1)\n",
    "        start = int(start_str)\n",
    "        end   = int(end_str) if len(end_str) == 4 else (int(end_str) + (start // 100)*100)\n",
    "        years = list(range(start, end + 1))\n",
    "    else:\n",
    "        years = [int(training_year)]\n",
    "\n",
    "    df = df[df[\"year\"].isin(years)].reset_index(drop=True)\n",
    "\n",
    "    # --- map training_size to total number of samples ---\n",
    "    total_map = {\"25k\": 25_000, \"5k\": 5_000, \"1k\": 1_000}\n",
    "    if training_size not in total_map:\n",
    "        return df  # e.g. \"all\"\n",
    "\n",
    "    total_samples = total_map[training_size]\n",
    "    n_years       = len(years)\n",
    "    base          = total_samples // n_years\n",
    "    remainder     = total_samples % n_years\n",
    "\n",
    "    # --- build a dict: year -> how many to sample ---\n",
    "    # give +1 to the first `remainder` years in ascending order\n",
    "    quotas = {\n",
    "        year: base + (1 if idx < remainder else 0)\n",
    "        for idx, year in enumerate(sorted(years))\n",
    "    }\n",
    "\n",
    "    # --- sample per‐year according to the quota dict ---\n",
    "    sampled = (\n",
    "        df\n",
    "        .groupby(\"year\", group_keys=False)\n",
    "        .apply(lambda grp: grp.sample(\n",
    "            n=min(len(grp), quotas[grp.name]),\n",
    "            random_state=random_state))\n",
    "        .reset_index(drop=True)\n",
    "    )\n",
    "\n",
    "    return sampled"
   ]
  },
  {
   "cell_type": "code",
   "execution_count": 15,
   "id": "c0ccd338-0e02-41f3-a09d-f56f9266e3fb",
   "metadata": {
    "execution": {
     "iopub.execute_input": "2025-07-30T21:37:45.896326Z",
     "iopub.status.busy": "2025-07-30T21:37:45.895686Z",
     "iopub.status.idle": "2025-07-30T21:37:45.900229Z",
     "shell.execute_reply": "2025-07-30T21:37:45.899379Z"
    },
    "papermill": {
     "duration": 0.025952,
     "end_time": "2025-07-30T21:37:45.901763",
     "exception": false,
     "start_time": "2025-07-30T21:37:45.875811",
     "status": "completed"
    },
    "tags": []
   },
   "outputs": [],
   "source": [
    "#universe[\"training_size\"]"
   ]
  },
  {
   "cell_type": "code",
   "execution_count": 16,
   "id": "ca707fd7-8047-4acd-bfa5-66248fbbf8e6",
   "metadata": {
    "execution": {
     "iopub.execute_input": "2025-07-30T21:37:45.943004Z",
     "iopub.status.busy": "2025-07-30T21:37:45.942233Z",
     "iopub.status.idle": "2025-07-30T21:37:45.947047Z",
     "shell.execute_reply": "2025-07-30T21:37:45.946163Z"
    },
    "papermill": {
     "duration": 0.026202,
     "end_time": "2025-07-30T21:37:45.948692",
     "exception": false,
     "start_time": "2025-07-30T21:37:45.922490",
     "status": "completed"
    },
    "tags": []
   },
   "outputs": [],
   "source": [
    "#universe[\"training_year\"]"
   ]
  },
  {
   "cell_type": "code",
   "execution_count": 17,
   "id": "aea9c6ef-6f46-42c8-85eb-5a62025c1508",
   "metadata": {
    "execution": {
     "iopub.execute_input": "2025-07-30T21:37:45.989524Z",
     "iopub.status.busy": "2025-07-30T21:37:45.989075Z",
     "iopub.status.idle": "2025-07-30T21:37:46.561626Z",
     "shell.execute_reply": "2025-07-30T21:37:46.560759Z"
    },
    "papermill": {
     "duration": 0.594655,
     "end_time": "2025-07-30T21:37:46.563613",
     "exception": false,
     "start_time": "2025-07-30T21:37:45.968958",
     "status": "completed"
    },
    "tags": []
   },
   "outputs": [],
   "source": [
    "siab_train = sample_by_year_size(siab,\n",
    "                               training_year=universe[\"training_year\"],\n",
    "                               training_size=universe[\"training_size\"])"
   ]
  },
  {
   "cell_type": "code",
   "execution_count": 18,
   "id": "8d3afb32-789d-442c-8d5d-9f5aa8dd2eed",
   "metadata": {
    "execution": {
     "iopub.execute_input": "2025-07-30T21:37:46.607813Z",
     "iopub.status.busy": "2025-07-30T21:37:46.607354Z",
     "iopub.status.idle": "2025-07-30T21:37:46.611987Z",
     "shell.execute_reply": "2025-07-30T21:37:46.611104Z"
    },
    "papermill": {
     "duration": 0.02745,
     "end_time": "2025-07-30T21:37:46.613765",
     "exception": false,
     "start_time": "2025-07-30T21:37:46.586315",
     "status": "completed"
    },
    "tags": []
   },
   "outputs": [],
   "source": [
    "#siab_train.shape"
   ]
  },
  {
   "cell_type": "code",
   "execution_count": 19,
   "id": "d582db68-1a4c-47fb-84fc-08518dc1975a",
   "metadata": {
    "execution": {
     "iopub.execute_input": "2025-07-30T21:37:46.660012Z",
     "iopub.status.busy": "2025-07-30T21:37:46.659591Z",
     "iopub.status.idle": "2025-07-30T21:37:46.664282Z",
     "shell.execute_reply": "2025-07-30T21:37:46.663394Z"
    },
    "papermill": {
     "duration": 0.029314,
     "end_time": "2025-07-30T21:37:46.665942",
     "exception": false,
     "start_time": "2025-07-30T21:37:46.636628",
     "status": "completed"
    },
    "tags": []
   },
   "outputs": [],
   "source": [
    "#display(siab_train.groupby(\"year\").size())"
   ]
  },
  {
   "cell_type": "code",
   "execution_count": 20,
   "id": "a561edb4-d032-42cb-8256-22eac1111c64",
   "metadata": {
    "execution": {
     "iopub.execute_input": "2025-07-30T21:37:46.709811Z",
     "iopub.status.busy": "2025-07-30T21:37:46.709224Z",
     "iopub.status.idle": "2025-07-30T21:37:46.930426Z",
     "shell.execute_reply": "2025-07-30T21:37:46.929472Z"
    },
    "papermill": {
     "duration": 0.245918,
     "end_time": "2025-07-30T21:37:46.932411",
     "exception": false,
     "start_time": "2025-07-30T21:37:46.686493",
     "status": "completed"
    },
    "tags": []
   },
   "outputs": [],
   "source": [
    "#siab_train = siab_s[siab_s.year < 2015]\n",
    "siab_calib = siab[siab.year == 2015]\n",
    "siab_test = siab[siab.year == 2016]"
   ]
  },
  {
   "cell_type": "code",
   "execution_count": 21,
   "id": "472de16f-c3db-4916-846b-1f0de9cf1746",
   "metadata": {
    "execution": {
     "iopub.execute_input": "2025-07-30T21:37:46.975740Z",
     "iopub.status.busy": "2025-07-30T21:37:46.974955Z",
     "iopub.status.idle": "2025-07-30T21:37:46.982102Z",
     "shell.execute_reply": "2025-07-30T21:37:46.981112Z"
    },
    "papermill": {
     "duration": 0.02991,
     "end_time": "2025-07-30T21:37:46.983835",
     "exception": false,
     "start_time": "2025-07-30T21:37:46.953925",
     "status": "completed"
    },
    "tags": []
   },
   "outputs": [],
   "source": [
    "X_train = siab_train.iloc[:,4:164]\n",
    "y_train = siab_train.iloc[:, [3]]"
   ]
  },
  {
   "cell_type": "code",
   "execution_count": 22,
   "id": "828c96af-f43a-4ed6-ba47-8ac73a47d56c",
   "metadata": {
    "execution": {
     "iopub.execute_input": "2025-07-30T21:37:47.030332Z",
     "iopub.status.busy": "2025-07-30T21:37:47.029567Z",
     "iopub.status.idle": "2025-07-30T21:37:47.082955Z",
     "shell.execute_reply": "2025-07-30T21:37:47.081895Z"
    },
    "papermill": {
     "duration": 0.078736,
     "end_time": "2025-07-30T21:37:47.084697",
     "exception": false,
     "start_time": "2025-07-30T21:37:47.005961",
     "status": "completed"
    },
    "tags": []
   },
   "outputs": [],
   "source": [
    "X_calib = siab_calib.iloc[:,4:164]\n",
    "y_calib = siab_calib.iloc[:, [3]]"
   ]
  },
  {
   "cell_type": "code",
   "execution_count": 23,
   "id": "c34be9c3-6bd6-476e-acd3-845840e303be",
   "metadata": {
    "execution": {
     "iopub.execute_input": "2025-07-30T21:37:47.129413Z",
     "iopub.status.busy": "2025-07-30T21:37:47.128506Z",
     "iopub.status.idle": "2025-07-30T21:37:47.180520Z",
     "shell.execute_reply": "2025-07-30T21:37:47.179508Z"
    },
    "papermill": {
     "duration": 0.076793,
     "end_time": "2025-07-30T21:37:47.182478",
     "exception": false,
     "start_time": "2025-07-30T21:37:47.105685",
     "status": "completed"
    },
    "tags": []
   },
   "outputs": [],
   "source": [
    "X_test = siab_test.iloc[:,4:164]\n",
    "y_true = siab_test.iloc[:, [3]]"
   ]
  },
  {
   "cell_type": "markdown",
   "id": "9901737e-04df-44f0-9100-f5ad144ed040",
   "metadata": {
    "papermill": {
     "duration": 0.019876,
     "end_time": "2025-07-30T21:37:47.223687",
     "exception": false,
     "start_time": "2025-07-30T21:37:47.203811",
     "status": "completed"
    },
    "tags": []
   },
   "source": [
    "# Splitting Data and Setting Training Data Size OLD VERSION"
   ]
  },
  {
   "cell_type": "code",
   "execution_count": 24,
   "id": "acbc8f7d-8fc8-4e86-8c59-5dcb0f58384b",
   "metadata": {
    "execution": {
     "iopub.execute_input": "2025-07-30T21:37:47.268164Z",
     "iopub.status.busy": "2025-07-30T21:37:47.267253Z",
     "iopub.status.idle": "2025-07-30T21:37:47.273169Z",
     "shell.execute_reply": "2025-07-30T21:37:47.271982Z"
    },
    "papermill": {
     "duration": 0.031316,
     "end_time": "2025-07-30T21:37:47.275004",
     "exception": false,
     "start_time": "2025-07-30T21:37:47.243688",
     "status": "completed"
    },
    "tags": []
   },
   "outputs": [],
   "source": [
    "#def sample_by_year(df, training_size, random_state=42):\n",
    "#    if training_size == \"2014\":\n",
    "#        return df[df[\"year\"] == 2014].reset_index(drop=True)\n",
    "#    \n",
    "#    size_map = {\n",
    "#        \"25k\": 5000,\n",
    "#        \"5k\": 1000,\n",
    "#        \"1k\": 200\n",
    "#    }\n",
    "#\n",
    "#    if training_size not in size_map:\n",
    "#        return df.reset_index(drop=True)  # use all data\n",
    "#\n",
    "#    n_per_year = size_map[training_size]\n",
    "#    grouped = df.groupby(\"year\")\n",
    "#    sampled = grouped.apply(lambda x: x.sample(n=min(n_per_year, len(x)), random_state=random_state))\n",
    "#    return sampled.reset_index(drop=True)"
   ]
  },
  {
   "cell_type": "code",
   "execution_count": 25,
   "id": "6d931f52-beaf-43ff-9e78-9d44a448d54e",
   "metadata": {
    "execution": {
     "iopub.execute_input": "2025-07-30T21:37:47.331278Z",
     "iopub.status.busy": "2025-07-30T21:37:47.330608Z",
     "iopub.status.idle": "2025-07-30T21:37:47.336129Z",
     "shell.execute_reply": "2025-07-30T21:37:47.335054Z"
    },
    "papermill": {
     "duration": 0.037976,
     "end_time": "2025-07-30T21:37:47.338299",
     "exception": false,
     "start_time": "2025-07-30T21:37:47.300323",
     "status": "completed"
    },
    "tags": []
   },
   "outputs": [],
   "source": [
    "#siab_s = sample_by_year(siab, universe[\"training_size\"])"
   ]
  },
  {
   "cell_type": "code",
   "execution_count": 26,
   "id": "5db0a40e-a4e2-4920-be85-b12ae061d70d",
   "metadata": {
    "execution": {
     "iopub.execute_input": "2025-07-30T21:37:47.386619Z",
     "iopub.status.busy": "2025-07-30T21:37:47.385986Z",
     "iopub.status.idle": "2025-07-30T21:37:47.390922Z",
     "shell.execute_reply": "2025-07-30T21:37:47.390005Z"
    },
    "papermill": {
     "duration": 0.027693,
     "end_time": "2025-07-30T21:37:47.392616",
     "exception": false,
     "start_time": "2025-07-30T21:37:47.364923",
     "status": "completed"
    },
    "tags": []
   },
   "outputs": [],
   "source": [
    "#display(siab_s.groupby(\"year\").size())"
   ]
  },
  {
   "cell_type": "code",
   "execution_count": 27,
   "id": "e6c733c5",
   "metadata": {
    "execution": {
     "iopub.execute_input": "2025-07-30T21:37:47.434923Z",
     "iopub.status.busy": "2025-07-30T21:37:47.434495Z",
     "iopub.status.idle": "2025-07-30T21:37:47.529522Z",
     "shell.execute_reply": "2025-07-30T21:37:47.527466Z"
    },
    "papermill": {
     "duration": 0.117914,
     "end_time": "2025-07-30T21:37:47.531412",
     "exception": false,
     "start_time": "2025-07-30T21:37:47.413498",
     "status": "completed"
    },
    "tags": []
   },
   "outputs": [],
   "source": [
    "# Auxiliary data needed downstream in the pipeline\n",
    "\n",
    "org_train = X_train.copy()\n",
    "org_test = X_test.copy()\n",
    "org_calib = X_calib.copy()"
   ]
  },
  {
   "cell_type": "code",
   "execution_count": 28,
   "id": "1466abac-c6da-4492-a62f-4240ae3783af",
   "metadata": {
    "execution": {
     "iopub.execute_input": "2025-07-30T21:37:47.577877Z",
     "iopub.status.busy": "2025-07-30T21:37:47.577406Z",
     "iopub.status.idle": "2025-07-30T21:37:47.585521Z",
     "shell.execute_reply": "2025-07-30T21:37:47.583420Z"
    },
    "papermill": {
     "duration": 0.032946,
     "end_time": "2025-07-30T21:37:47.587601",
     "exception": false,
     "start_time": "2025-07-30T21:37:47.554655",
     "status": "completed"
    },
    "tags": []
   },
   "outputs": [],
   "source": [
    "# put in other script?\n",
    "# Group sizes\n",
    "\n",
    "#def calculate_percentages(df, df_name):\n",
    "#    total_entries = len(df)\n",
    "#\n",
    "#    female_pct = (df['frau1'] == 1).mean() * 100\n",
    "#    non_german_pct = ((df['maxdeutsch1'] == 0) & (df['maxdeutsch.Missing.'] == 0)).mean() * 100\n",
    "#    non_german_male_pct = ((df['frau1'] == 0) & (df['maxdeutsch1'] == 0) & (df['maxdeutsch.Missing.'] == 0)).mean() * 100\n",
    "#    non_german_female_pct = ((df['frau1'] == 1) & (df['maxdeutsch1'] == 0) & (df['maxdeutsch.Missing.'] == 0)).mean() * 100\n",
    "#\n",
    "#    print(f\"--- {df_name} ---\")\n",
    "#    print(f\"Female: {female_pct:.2f}%\")\n",
    "#    print(f\"Non-German: {non_german_pct:.2f}%\")\n",
    "#    print(f\"Non-German Male: {non_german_male_pct:.2f}%\")\n",
    "#    print(f\"Non-German Female: {non_german_female_pct:.2f}%\\n\")\n",
    "#\n",
    "## Calculate for each DataFrame\n",
    "#calculate_percentages(siab_calib, \"siab_calib\")\n",
    "#calculate_percentages(siab_test, \"siab_test\")\n",
    "#calculate_percentages(siab_train, \"siab_train\")"
   ]
  },
  {
   "cell_type": "markdown",
   "id": "0a4a1b33",
   "metadata": {
    "papermill": {
     "duration": 0.021217,
     "end_time": "2025-07-30T21:37:47.631202",
     "exception": false,
     "start_time": "2025-07-30T21:37:47.609985",
     "status": "completed"
    },
    "tags": []
   },
   "source": [
    "# Preprocessing Data"
   ]
  },
  {
   "cell_type": "code",
   "execution_count": 29,
   "id": "ca879031",
   "metadata": {
    "execution": {
     "iopub.execute_input": "2025-07-30T21:37:47.676541Z",
     "iopub.status.busy": "2025-07-30T21:37:47.675835Z",
     "iopub.status.idle": "2025-07-30T21:37:47.681942Z",
     "shell.execute_reply": "2025-07-30T21:37:47.681021Z"
    },
    "papermill": {
     "duration": 0.030231,
     "end_time": "2025-07-30T21:37:47.683532",
     "exception": false,
     "start_time": "2025-07-30T21:37:47.653301",
     "status": "completed"
    },
    "tags": []
   },
   "outputs": [],
   "source": [
    "# EXCLUDE PROTECTED FEATURES\n",
    "# ----------------------\n",
    "# \"exclude_features\": \"none\", # \"nationality\", \"sex\", \"nationality-sex\"\n",
    "\n",
    "excluded_features = universe[\"exclude_features\"].split(\"-\") # split, e.g.: \"nationality-sex\" -> [\"nationality\", \"sex\"]\n",
    "excluded_features_dictionary = {\n",
    "    \"nationality\": [\"maxdeutsch1\", \"maxdeutsch.Missing.\"],\n",
    "    \"sex\": [\"frau1\"],\n",
    "    \"age\": [\"age\"],\n",
    "}\n"
   ]
  },
  {
   "cell_type": "code",
   "execution_count": 30,
   "id": "b745ac60",
   "metadata": {
    "execution": {
     "iopub.execute_input": "2025-07-30T21:37:47.728152Z",
     "iopub.status.busy": "2025-07-30T21:37:47.727298Z",
     "iopub.status.idle": "2025-07-30T21:37:47.732884Z",
     "shell.execute_reply": "2025-07-30T21:37:47.731942Z"
    },
    "papermill": {
     "duration": 0.029729,
     "end_time": "2025-07-30T21:37:47.734666",
     "exception": false,
     "start_time": "2025-07-30T21:37:47.704937",
     "status": "completed"
    },
    "tags": []
   },
   "outputs": [],
   "source": [
    "# Code nice names to column names\n",
    "\n",
    "excluded_features_columns = [\n",
    "    excluded_features_dictionary[f] for f in excluded_features if len(f) > 0 and f != \"none\"\n",
    "]"
   ]
  },
  {
   "cell_type": "code",
   "execution_count": 31,
   "id": "f84f73a2",
   "metadata": {
    "execution": {
     "iopub.execute_input": "2025-07-30T21:37:47.779477Z",
     "iopub.status.busy": "2025-07-30T21:37:47.778713Z",
     "iopub.status.idle": "2025-07-30T21:37:47.785480Z",
     "shell.execute_reply": "2025-07-30T21:37:47.784562Z"
    },
    "papermill": {
     "duration": 0.0311,
     "end_time": "2025-07-30T21:37:47.787214",
     "exception": false,
     "start_time": "2025-07-30T21:37:47.756114",
     "status": "completed"
    },
    "tags": []
   },
   "outputs": [],
   "source": [
    "from utils import flatten_once\n",
    "\n",
    "excluded_features_columns = flatten_once(excluded_features_columns)"
   ]
  },
  {
   "cell_type": "code",
   "execution_count": 32,
   "id": "884dea22",
   "metadata": {
    "execution": {
     "iopub.execute_input": "2025-07-30T21:37:47.830429Z",
     "iopub.status.busy": "2025-07-30T21:37:47.829965Z",
     "iopub.status.idle": "2025-07-30T21:37:47.838113Z",
     "shell.execute_reply": "2025-07-30T21:37:47.837171Z"
    },
    "papermill": {
     "duration": 0.031018,
     "end_time": "2025-07-30T21:37:47.839683",
     "exception": false,
     "start_time": "2025-07-30T21:37:47.808665",
     "status": "completed"
    },
    "tags": []
   },
   "outputs": [
    {
     "name": "stdout",
     "output_type": "stream",
     "text": [
      "Dropping features: ['maxdeutsch1', 'maxdeutsch.Missing.', 'frau1']\n"
     ]
    }
   ],
   "source": [
    "if len(excluded_features_columns) > 0:\n",
    "    print(f\"Dropping features: {excluded_features_columns}\")\n",
    "    X_train.drop(excluded_features_columns, axis=1, inplace=True)"
   ]
  },
  {
   "cell_type": "code",
   "execution_count": 33,
   "id": "95ab8b16",
   "metadata": {
    "execution": {
     "iopub.execute_input": "2025-07-30T21:37:47.885227Z",
     "iopub.status.busy": "2025-07-30T21:37:47.884493Z",
     "iopub.status.idle": "2025-07-30T21:37:47.942764Z",
     "shell.execute_reply": "2025-07-30T21:37:47.941768Z"
    },
    "papermill": {
     "duration": 0.08208,
     "end_time": "2025-07-30T21:37:47.944558",
     "exception": false,
     "start_time": "2025-07-30T21:37:47.862478",
     "status": "completed"
    },
    "tags": []
   },
   "outputs": [
    {
     "name": "stdout",
     "output_type": "stream",
     "text": [
      "Dropping features: ['maxdeutsch1', 'maxdeutsch.Missing.', 'frau1']\n"
     ]
    }
   ],
   "source": [
    "if len(excluded_features_columns) > 0:\n",
    "    print(f\"Dropping features: {excluded_features_columns}\")\n",
    "    X_test.drop(excluded_features_columns, axis=1, inplace=True)"
   ]
  },
  {
   "cell_type": "code",
   "execution_count": 34,
   "id": "1853aaf5-fb9f-46cb-a2b5-8ea4ae2237e4",
   "metadata": {
    "execution": {
     "iopub.execute_input": "2025-07-30T21:37:47.997902Z",
     "iopub.status.busy": "2025-07-30T21:37:47.996943Z",
     "iopub.status.idle": "2025-07-30T21:37:48.046116Z",
     "shell.execute_reply": "2025-07-30T21:37:48.045202Z"
    },
    "papermill": {
     "duration": 0.078265,
     "end_time": "2025-07-30T21:37:48.047830",
     "exception": false,
     "start_time": "2025-07-30T21:37:47.969565",
     "status": "completed"
    },
    "tags": []
   },
   "outputs": [
    {
     "name": "stdout",
     "output_type": "stream",
     "text": [
      "Dropping features: ['maxdeutsch1', 'maxdeutsch.Missing.', 'frau1']\n"
     ]
    }
   ],
   "source": [
    "if len(excluded_features_columns) > 0:\n",
    "    print(f\"Dropping features: {excluded_features_columns}\")\n",
    "    X_calib.drop(excluded_features_columns, axis=1, inplace=True)"
   ]
  },
  {
   "cell_type": "code",
   "execution_count": 35,
   "id": "6727d079-03e5-481e-9d38-292a90b7a0a8",
   "metadata": {
    "execution": {
     "iopub.execute_input": "2025-07-30T21:37:48.097634Z",
     "iopub.status.busy": "2025-07-30T21:37:48.096796Z",
     "iopub.status.idle": "2025-07-30T21:37:48.101503Z",
     "shell.execute_reply": "2025-07-30T21:37:48.100689Z"
    },
    "papermill": {
     "duration": 0.03,
     "end_time": "2025-07-30T21:37:48.103016",
     "exception": false,
     "start_time": "2025-07-30T21:37:48.073016",
     "status": "completed"
    },
    "tags": []
   },
   "outputs": [],
   "source": [
    "# SPLIT & STRATIFY DATA\n",
    "# ----------------------"
   ]
  },
  {
   "cell_type": "code",
   "execution_count": 36,
   "id": "76c4dc6d",
   "metadata": {
    "execution": {
     "iopub.execute_input": "2025-07-30T21:37:48.149827Z",
     "iopub.status.busy": "2025-07-30T21:37:48.149292Z",
     "iopub.status.idle": "2025-07-30T21:37:48.155353Z",
     "shell.execute_reply": "2025-07-30T21:37:48.154571Z"
    },
    "papermill": {
     "duration": 0.031963,
     "end_time": "2025-07-30T21:37:48.156987",
     "exception": false,
     "start_time": "2025-07-30T21:37:48.125024",
     "status": "completed"
    },
    "tags": []
   },
   "outputs": [],
   "source": [
    "# EXCLUDE CERTAIN SUBGROUPS\n",
    "# ----------------------\n",
    "\n",
    "mode = universe.get(\"exclude_subgroups\", \"keep-all\") \n",
    "# Fetches the exclude_subgroups setting from the universe dict.\n",
    "# Defaults to \"keep-all\" if the key is missing."
   ]
  },
  {
   "cell_type": "code",
   "execution_count": 37,
   "id": "21994072",
   "metadata": {
    "execution": {
     "iopub.execute_input": "2025-07-30T21:37:48.204685Z",
     "iopub.status.busy": "2025-07-30T21:37:48.203946Z",
     "iopub.status.idle": "2025-07-30T21:37:48.210832Z",
     "shell.execute_reply": "2025-07-30T21:37:48.209980Z"
    },
    "papermill": {
     "duration": 0.032211,
     "end_time": "2025-07-30T21:37:48.212513",
     "exception": false,
     "start_time": "2025-07-30T21:37:48.180302",
     "status": "completed"
    },
    "tags": []
   },
   "outputs": [],
   "source": [
    "if mode == \"keep-all\":\n",
    "    keep_mask = pd.Series(True, index=org_train.index)\n",
    "\n",
    "# org_train contains the original feature columns from features_org (in Simson)\n",
    "# features_org contains unprocessed features, for me X_train at beginning ???\n",
    "# For keep-all, creates a boolean Series (keep_mask) of all True, so no rows are removed.\n",
    "\n",
    "elif mode == \"drop-non-german\":\n",
    "    keep_mask = org_train[\"maxdeutsch1\"] == 1 # ??? what about missing values?\n",
    "\n",
    "else:\n",
    "    raise ValueError(f\"Unsupported mode for exclude_subgroups: {mode}\")\n"
   ]
  },
  {
   "cell_type": "code",
   "execution_count": 38,
   "id": "71651440",
   "metadata": {
    "execution": {
     "iopub.execute_input": "2025-07-30T21:37:48.259572Z",
     "iopub.status.busy": "2025-07-30T21:37:48.258868Z",
     "iopub.status.idle": "2025-07-30T21:37:48.266430Z",
     "shell.execute_reply": "2025-07-30T21:37:48.265413Z"
    },
    "papermill": {
     "duration": 0.033023,
     "end_time": "2025-07-30T21:37:48.268111",
     "exception": false,
     "start_time": "2025-07-30T21:37:48.235088",
     "status": "completed"
    },
    "tags": []
   },
   "outputs": [
    {
     "name": "stdout",
     "output_type": "stream",
     "text": [
      "Dropping 147 rows (14.70%) where mode='drop-non-german'\n"
     ]
    }
   ],
   "source": [
    "n_drop = (~keep_mask).sum() # Calculates how many rows are set to be dropped\n",
    "if n_drop > 0:\n",
    "    pct = n_drop / len(keep_mask) * 100\n",
    "    print(f\"Dropping {n_drop} rows ({pct:.2f}%) where mode='{mode}'\")"
   ]
  },
  {
   "cell_type": "code",
   "execution_count": 39,
   "id": "5fb8eee5",
   "metadata": {
    "execution": {
     "iopub.execute_input": "2025-07-30T21:37:48.315163Z",
     "iopub.status.busy": "2025-07-30T21:37:48.314511Z",
     "iopub.status.idle": "2025-07-30T21:37:48.321245Z",
     "shell.execute_reply": "2025-07-30T21:37:48.320146Z"
    },
    "papermill": {
     "duration": 0.032379,
     "end_time": "2025-07-30T21:37:48.323039",
     "exception": false,
     "start_time": "2025-07-30T21:37:48.290660",
     "status": "completed"
    },
    "tags": []
   },
   "outputs": [],
   "source": [
    "X_train = X_train[keep_mask]"
   ]
  },
  {
   "cell_type": "code",
   "execution_count": 40,
   "id": "b202bb3a",
   "metadata": {
    "execution": {
     "iopub.execute_input": "2025-07-30T21:37:48.370104Z",
     "iopub.status.busy": "2025-07-30T21:37:48.369456Z",
     "iopub.status.idle": "2025-07-30T21:37:48.375639Z",
     "shell.execute_reply": "2025-07-30T21:37:48.374716Z"
    },
    "papermill": {
     "duration": 0.031153,
     "end_time": "2025-07-30T21:37:48.377361",
     "exception": false,
     "start_time": "2025-07-30T21:37:48.346208",
     "status": "completed"
    },
    "tags": []
   },
   "outputs": [],
   "source": [
    "y_train = y_train[keep_mask]"
   ]
  },
  {
   "cell_type": "markdown",
   "id": "493e2ac3",
   "metadata": {
    "papermill": {
     "duration": 0.021791,
     "end_time": "2025-07-30T21:37:48.422062",
     "exception": false,
     "start_time": "2025-07-30T21:37:48.400271",
     "status": "completed"
    },
    "tags": []
   },
   "source": [
    "# Model Training"
   ]
  },
  {
   "cell_type": "code",
   "execution_count": 41,
   "id": "679e1268",
   "metadata": {
    "execution": {
     "iopub.execute_input": "2025-07-30T21:37:48.467317Z",
     "iopub.status.busy": "2025-07-30T21:37:48.466828Z",
     "iopub.status.idle": "2025-07-30T21:37:48.571567Z",
     "shell.execute_reply": "2025-07-30T21:37:48.570717Z"
    },
    "papermill": {
     "duration": 0.129531,
     "end_time": "2025-07-30T21:37:48.573447",
     "exception": false,
     "start_time": "2025-07-30T21:37:48.443916",
     "status": "completed"
    },
    "tags": []
   },
   "outputs": [],
   "source": [
    "from sklearn.linear_model import LogisticRegression\n",
    "from sklearn.ensemble import GradientBoostingClassifier, RandomForestClassifier\n",
    "\n",
    "if (universe[\"model\"] == \"logreg\"):\n",
    "    model = LogisticRegression() #penalty=\"none\") #, solver=\"newton-cg\", max_iter=1) # include random_state=19 ?\n",
    "elif (universe[\"model\"] == \"penalized_logreg\"):\n",
    "    model = LogisticRegression(penalty=\"l2\", C=1.0) #, solver=\"newton-cg\", max_iter=1)\n",
    "elif (universe[\"model\"] == \"rf\"):\n",
    "    model = RandomForestClassifier(n_estimators=100, n_jobs=-1)\n",
    "elif (universe[\"model\"] == \"gbm\"):\n",
    "    model = GradientBoostingClassifier()\n",
    "elif (universe[\"model\"] == \"elasticnet\"):\n",
    "    model = LogisticRegression(penalty = 'elasticnet', solver = 'saga', l1_ratio = 0.5, max_iter=5000) # which solver to use?\n",
    "else:\n",
    "    raise \"Unsupported universe.model\""
   ]
  },
  {
   "cell_type": "code",
   "execution_count": 42,
   "id": "0cc8f744",
   "metadata": {
    "execution": {
     "iopub.execute_input": "2025-07-30T21:37:48.620026Z",
     "iopub.status.busy": "2025-07-30T21:37:48.619393Z",
     "iopub.status.idle": "2025-07-30T21:37:48.626318Z",
     "shell.execute_reply": "2025-07-30T21:37:48.625202Z"
    },
    "papermill": {
     "duration": 0.030902,
     "end_time": "2025-07-30T21:37:48.628062",
     "exception": false,
     "start_time": "2025-07-30T21:37:48.597160",
     "status": "completed"
    },
    "tags": []
   },
   "outputs": [],
   "source": [
    "import numpy as np\n",
    "from sklearn.pipeline import Pipeline\n",
    "from sklearn.preprocessing import StandardScaler\n",
    "\n",
    "model = Pipeline([\n",
    "    #(\"continuous_processor\", continuous_processor),\n",
    "    #(\"categorical_preprocessor\", categorical_preprocessor),\n",
    "    (\"scale\", StandardScaler() if universe[\"scale\"] == \"scale\" else None), \n",
    "    (\"model\", model),\n",
    "])"
   ]
  },
  {
   "cell_type": "code",
   "execution_count": 43,
   "id": "9442c04d",
   "metadata": {
    "execution": {
     "iopub.execute_input": "2025-07-30T21:37:48.674071Z",
     "iopub.status.busy": "2025-07-30T21:37:48.673485Z",
     "iopub.status.idle": "2025-07-30T21:37:53.036252Z",
     "shell.execute_reply": "2025-07-30T21:37:53.035298Z"
    },
    "papermill": {
     "duration": 4.387224,
     "end_time": "2025-07-30T21:37:53.037901",
     "exception": false,
     "start_time": "2025-07-30T21:37:48.650677",
     "status": "completed"
    },
    "tags": []
   },
   "outputs": [
    {
     "data": {
      "text/html": [
       "<style>#sk-container-id-1 {color: black;background-color: white;}#sk-container-id-1 pre{padding: 0;}#sk-container-id-1 div.sk-toggleable {background-color: white;}#sk-container-id-1 label.sk-toggleable__label {cursor: pointer;display: block;width: 100%;margin-bottom: 0;padding: 0.3em;box-sizing: border-box;text-align: center;}#sk-container-id-1 label.sk-toggleable__label-arrow:before {content: \"▸\";float: left;margin-right: 0.25em;color: #696969;}#sk-container-id-1 label.sk-toggleable__label-arrow:hover:before {color: black;}#sk-container-id-1 div.sk-estimator:hover label.sk-toggleable__label-arrow:before {color: black;}#sk-container-id-1 div.sk-toggleable__content {max-height: 0;max-width: 0;overflow: hidden;text-align: left;background-color: #f0f8ff;}#sk-container-id-1 div.sk-toggleable__content pre {margin: 0.2em;color: black;border-radius: 0.25em;background-color: #f0f8ff;}#sk-container-id-1 input.sk-toggleable__control:checked~div.sk-toggleable__content {max-height: 200px;max-width: 100%;overflow: auto;}#sk-container-id-1 input.sk-toggleable__control:checked~label.sk-toggleable__label-arrow:before {content: \"▾\";}#sk-container-id-1 div.sk-estimator input.sk-toggleable__control:checked~label.sk-toggleable__label {background-color: #d4ebff;}#sk-container-id-1 div.sk-label input.sk-toggleable__control:checked~label.sk-toggleable__label {background-color: #d4ebff;}#sk-container-id-1 input.sk-hidden--visually {border: 0;clip: rect(1px 1px 1px 1px);clip: rect(1px, 1px, 1px, 1px);height: 1px;margin: -1px;overflow: hidden;padding: 0;position: absolute;width: 1px;}#sk-container-id-1 div.sk-estimator {font-family: monospace;background-color: #f0f8ff;border: 1px dotted black;border-radius: 0.25em;box-sizing: border-box;margin-bottom: 0.5em;}#sk-container-id-1 div.sk-estimator:hover {background-color: #d4ebff;}#sk-container-id-1 div.sk-parallel-item::after {content: \"\";width: 100%;border-bottom: 1px solid gray;flex-grow: 1;}#sk-container-id-1 div.sk-label:hover label.sk-toggleable__label {background-color: #d4ebff;}#sk-container-id-1 div.sk-serial::before {content: \"\";position: absolute;border-left: 1px solid gray;box-sizing: border-box;top: 0;bottom: 0;left: 50%;z-index: 0;}#sk-container-id-1 div.sk-serial {display: flex;flex-direction: column;align-items: center;background-color: white;padding-right: 0.2em;padding-left: 0.2em;position: relative;}#sk-container-id-1 div.sk-item {position: relative;z-index: 1;}#sk-container-id-1 div.sk-parallel {display: flex;align-items: stretch;justify-content: center;background-color: white;position: relative;}#sk-container-id-1 div.sk-item::before, #sk-container-id-1 div.sk-parallel-item::before {content: \"\";position: absolute;border-left: 1px solid gray;box-sizing: border-box;top: 0;bottom: 0;left: 50%;z-index: -1;}#sk-container-id-1 div.sk-parallel-item {display: flex;flex-direction: column;z-index: 1;position: relative;background-color: white;}#sk-container-id-1 div.sk-parallel-item:first-child::after {align-self: flex-end;width: 50%;}#sk-container-id-1 div.sk-parallel-item:last-child::after {align-self: flex-start;width: 50%;}#sk-container-id-1 div.sk-parallel-item:only-child::after {width: 0;}#sk-container-id-1 div.sk-dashed-wrapped {border: 1px dashed gray;margin: 0 0.4em 0.5em 0.4em;box-sizing: border-box;padding-bottom: 0.4em;background-color: white;}#sk-container-id-1 div.sk-label label {font-family: monospace;font-weight: bold;display: inline-block;line-height: 1.2em;}#sk-container-id-1 div.sk-label-container {text-align: center;}#sk-container-id-1 div.sk-container {/* jupyter's `normalize.less` sets `[hidden] { display: none; }` but bootstrap.min.css set `[hidden] { display: none !important; }` so we also need the `!important` here to be able to override the default hidden behavior on the sphinx rendered scikit-learn.org. See: https://github.com/scikit-learn/scikit-learn/issues/21755 */display: inline-block !important;position: relative;}#sk-container-id-1 div.sk-text-repr-fallback {display: none;}</style><div id=\"sk-container-id-1\" class=\"sk-top-container\"><div class=\"sk-text-repr-fallback\"><pre>Pipeline(steps=[(&#x27;scale&#x27;, StandardScaler()),\n",
       "                (&#x27;model&#x27;,\n",
       "                 LogisticRegression(l1_ratio=0.5, max_iter=5000,\n",
       "                                    penalty=&#x27;elasticnet&#x27;, solver=&#x27;saga&#x27;))])</pre><b>In a Jupyter environment, please rerun this cell to show the HTML representation or trust the notebook. <br />On GitHub, the HTML representation is unable to render, please try loading this page with nbviewer.org.</b></div><div class=\"sk-container\" hidden><div class=\"sk-item sk-dashed-wrapped\"><div class=\"sk-label-container\"><div class=\"sk-label sk-toggleable\"><input class=\"sk-toggleable__control sk-hidden--visually\" id=\"sk-estimator-id-1\" type=\"checkbox\" ><label for=\"sk-estimator-id-1\" class=\"sk-toggleable__label sk-toggleable__label-arrow\">Pipeline</label><div class=\"sk-toggleable__content\"><pre>Pipeline(steps=[(&#x27;scale&#x27;, StandardScaler()),\n",
       "                (&#x27;model&#x27;,\n",
       "                 LogisticRegression(l1_ratio=0.5, max_iter=5000,\n",
       "                                    penalty=&#x27;elasticnet&#x27;, solver=&#x27;saga&#x27;))])</pre></div></div></div><div class=\"sk-serial\"><div class=\"sk-item\"><div class=\"sk-estimator sk-toggleable\"><input class=\"sk-toggleable__control sk-hidden--visually\" id=\"sk-estimator-id-2\" type=\"checkbox\" ><label for=\"sk-estimator-id-2\" class=\"sk-toggleable__label sk-toggleable__label-arrow\">StandardScaler</label><div class=\"sk-toggleable__content\"><pre>StandardScaler()</pre></div></div></div><div class=\"sk-item\"><div class=\"sk-estimator sk-toggleable\"><input class=\"sk-toggleable__control sk-hidden--visually\" id=\"sk-estimator-id-3\" type=\"checkbox\" ><label for=\"sk-estimator-id-3\" class=\"sk-toggleable__label sk-toggleable__label-arrow\">LogisticRegression</label><div class=\"sk-toggleable__content\"><pre>LogisticRegression(l1_ratio=0.5, max_iter=5000, penalty=&#x27;elasticnet&#x27;,\n",
       "                   solver=&#x27;saga&#x27;)</pre></div></div></div></div></div></div></div>"
      ],
      "text/plain": [
       "Pipeline(steps=[('scale', StandardScaler()),\n",
       "                ('model',\n",
       "                 LogisticRegression(l1_ratio=0.5, max_iter=5000,\n",
       "                                    penalty='elasticnet', solver='saga'))])"
      ]
     },
     "execution_count": 43,
     "metadata": {},
     "output_type": "execute_result"
    }
   ],
   "source": [
    "model.fit(X_train, y_train.values.ravel())"
   ]
  },
  {
   "cell_type": "code",
   "execution_count": 44,
   "id": "af59f8c0",
   "metadata": {
    "execution": {
     "iopub.execute_input": "2025-07-30T21:37:53.088001Z",
     "iopub.status.busy": "2025-07-30T21:37:53.087615Z",
     "iopub.status.idle": "2025-07-30T21:37:53.094286Z",
     "shell.execute_reply": "2025-07-30T21:37:53.093356Z"
    },
    "papermill": {
     "duration": 0.032378,
     "end_time": "2025-07-30T21:37:53.095820",
     "exception": false,
     "start_time": "2025-07-30T21:37:53.063442",
     "status": "completed"
    },
    "tags": []
   },
   "outputs": [],
   "source": [
    "from fairness_multiverse.universe import predict_w_threshold"
   ]
  },
  {
   "cell_type": "code",
   "execution_count": 45,
   "id": "a7cf2e16",
   "metadata": {
    "execution": {
     "iopub.execute_input": "2025-07-30T21:37:53.148300Z",
     "iopub.status.busy": "2025-07-30T21:37:53.147716Z",
     "iopub.status.idle": "2025-07-30T21:37:53.344611Z",
     "shell.execute_reply": "2025-07-30T21:37:53.343643Z"
    },
    "papermill": {
     "duration": 0.226355,
     "end_time": "2025-07-30T21:37:53.346300",
     "exception": false,
     "start_time": "2025-07-30T21:37:53.119945",
     "status": "completed"
    },
    "tags": []
   },
   "outputs": [
    {
     "data": {
      "text/plain": [
       "0.8251922862557128"
      ]
     },
     "execution_count": 45,
     "metadata": {},
     "output_type": "execute_result"
    }
   ],
   "source": [
    "probs_test = model.predict_proba(X_test)\n",
    "\n",
    "'''\n",
    "Below code returns a boolean array (or binary 0/1 array depending on how it’s used) where each element \n",
    "is True if the probability of class 1 is greater than or equal to the threshold, and False otherwise.\n",
    "'''\n",
    "y_pred_default = predict_w_threshold(probs_test, 0.5)\n",
    "\n",
    "from sklearn.metrics import accuracy_score\n",
    "\n",
    "# Naive prediction\n",
    "accuracy_score(y_true = y_true, y_pred = y_pred_default)"
   ]
  },
  {
   "cell_type": "code",
   "execution_count": 46,
   "id": "081964c3",
   "metadata": {
    "execution": {
     "iopub.execute_input": "2025-07-30T21:37:53.409541Z",
     "iopub.status.busy": "2025-07-30T21:37:53.408769Z",
     "iopub.status.idle": "2025-07-30T21:37:53.599575Z",
     "shell.execute_reply": "2025-07-30T21:37:53.598531Z"
    },
    "papermill": {
     "duration": 0.220269,
     "end_time": "2025-07-30T21:37:53.601432",
     "exception": false,
     "start_time": "2025-07-30T21:37:53.381163",
     "status": "completed"
    },
    "tags": []
   },
   "outputs": [
    {
     "data": {
      "text/plain": [
       "array([0, 0, 1, ..., 0, 0, 0])"
      ]
     },
     "execution_count": 46,
     "metadata": {},
     "output_type": "execute_result"
    }
   ],
   "source": [
    "model.predict(X_test)"
   ]
  },
  {
   "cell_type": "markdown",
   "id": "56c9705b",
   "metadata": {
    "papermill": {
     "duration": 0.024673,
     "end_time": "2025-07-30T21:37:53.651106",
     "exception": false,
     "start_time": "2025-07-30T21:37:53.626433",
     "status": "completed"
    },
    "tags": []
   },
   "source": [
    "# Conformal Prediction"
   ]
  },
  {
   "cell_type": "code",
   "execution_count": 47,
   "id": "160ec6ff",
   "metadata": {
    "execution": {
     "iopub.execute_input": "2025-07-30T21:37:53.702478Z",
     "iopub.status.busy": "2025-07-30T21:37:53.701506Z",
     "iopub.status.idle": "2025-07-30T21:37:53.706942Z",
     "shell.execute_reply": "2025-07-30T21:37:53.706019Z"
    },
    "papermill": {
     "duration": 0.03361,
     "end_time": "2025-07-30T21:37:53.709218",
     "exception": false,
     "start_time": "2025-07-30T21:37:53.675608",
     "status": "completed"
    },
    "tags": []
   },
   "outputs": [],
   "source": [
    "# Miscoverage level for conformal prediction (10% allowed error rate => 90% target coverage)\n",
    "alpha = 0.1"
   ]
  },
  {
   "cell_type": "code",
   "execution_count": 48,
   "id": "eadf4555-3dd3-440e-8e35-f82a4ad9f855",
   "metadata": {
    "execution": {
     "iopub.execute_input": "2025-07-30T21:37:53.760462Z",
     "iopub.status.busy": "2025-07-30T21:37:53.759956Z",
     "iopub.status.idle": "2025-07-30T21:37:53.945181Z",
     "shell.execute_reply": "2025-07-30T21:37:53.944073Z"
    },
    "papermill": {
     "duration": 0.213113,
     "end_time": "2025-07-30T21:37:53.947175",
     "exception": false,
     "start_time": "2025-07-30T21:37:53.734062",
     "status": "completed"
    },
    "tags": []
   },
   "outputs": [],
   "source": [
    "probs_calib = model.predict_proba(X_calib)"
   ]
  },
  {
   "cell_type": "code",
   "execution_count": 49,
   "id": "2ed93547-6d5d-4983-9b36-1ecb300da49a",
   "metadata": {
    "execution": {
     "iopub.execute_input": "2025-07-30T21:37:54.006026Z",
     "iopub.status.busy": "2025-07-30T21:37:54.005106Z",
     "iopub.status.idle": "2025-07-30T21:37:54.011505Z",
     "shell.execute_reply": "2025-07-30T21:37:54.010675Z"
    },
    "papermill": {
     "duration": 0.03664,
     "end_time": "2025-07-30T21:37:54.012922",
     "exception": false,
     "start_time": "2025-07-30T21:37:53.976282",
     "status": "completed"
    },
    "tags": []
   },
   "outputs": [],
   "source": [
    "y_calib = y_calib.values.ravel().astype(int)"
   ]
  },
  {
   "cell_type": "code",
   "execution_count": 50,
   "id": "65d1320d-f588-4b38-9072-62af1ae97f7d",
   "metadata": {
    "execution": {
     "iopub.execute_input": "2025-07-30T21:37:54.040874Z",
     "iopub.status.busy": "2025-07-30T21:37:54.040238Z",
     "iopub.status.idle": "2025-07-30T21:37:54.047760Z",
     "shell.execute_reply": "2025-07-30T21:37:54.046765Z"
    },
    "papermill": {
     "duration": 0.02288,
     "end_time": "2025-07-30T21:37:54.049537",
     "exception": false,
     "start_time": "2025-07-30T21:37:54.026657",
     "status": "completed"
    },
    "tags": []
   },
   "outputs": [],
   "source": [
    "from fairness_multiverse.conformal import compute_nc_scores\n",
    "\n",
    "# Compute nonconformity scores on calibration set (1 - probability of true class)\n",
    "nc_scores = compute_nc_scores(probs_calib, y_calib)"
   ]
  },
  {
   "cell_type": "code",
   "execution_count": 51,
   "id": "df3b8ca3-53b7-43d5-9667-7c85da7aeda2",
   "metadata": {
    "execution": {
     "iopub.execute_input": "2025-07-30T21:37:54.103519Z",
     "iopub.status.busy": "2025-07-30T21:37:54.103020Z",
     "iopub.status.idle": "2025-07-30T21:37:54.110561Z",
     "shell.execute_reply": "2025-07-30T21:37:54.109541Z"
    },
    "papermill": {
     "duration": 0.036905,
     "end_time": "2025-07-30T21:37:54.112397",
     "exception": false,
     "start_time": "2025-07-30T21:37:54.075492",
     "status": "completed"
    },
    "tags": []
   },
   "outputs": [],
   "source": [
    "from fairness_multiverse.conformal import find_threshold\n",
    "\n",
    "# Find conformal threshold q_hat for the given alpha (split conformal method)\n",
    "q_hat = find_threshold(nc_scores, alpha)"
   ]
  },
  {
   "cell_type": "code",
   "execution_count": 52,
   "id": "4d29e6c1-0ef6-4aa4-b8fe-4fe79b0d033a",
   "metadata": {
    "execution": {
     "iopub.execute_input": "2025-07-30T21:37:54.165029Z",
     "iopub.status.busy": "2025-07-30T21:37:54.164524Z",
     "iopub.status.idle": "2025-07-30T21:37:54.170808Z",
     "shell.execute_reply": "2025-07-30T21:37:54.170143Z"
    },
    "papermill": {
     "duration": 0.033528,
     "end_time": "2025-07-30T21:37:54.172312",
     "exception": false,
     "start_time": "2025-07-30T21:37:54.138784",
     "status": "completed"
    },
    "tags": []
   },
   "outputs": [
    {
     "data": {
      "text/plain": [
       "0.800411842778521"
      ]
     },
     "execution_count": 52,
     "metadata": {},
     "output_type": "execute_result"
    }
   ],
   "source": [
    "q_hat"
   ]
  },
  {
   "cell_type": "code",
   "execution_count": 53,
   "id": "92460794-cdac-4be2-ba28-f28c0515a6fb",
   "metadata": {
    "execution": {
     "iopub.execute_input": "2025-07-30T21:37:54.222901Z",
     "iopub.status.busy": "2025-07-30T21:37:54.222459Z",
     "iopub.status.idle": "2025-07-30T21:37:55.241660Z",
     "shell.execute_reply": "2025-07-30T21:37:55.240732Z"
    },
    "papermill": {
     "duration": 1.045588,
     "end_time": "2025-07-30T21:37:55.243380",
     "exception": false,
     "start_time": "2025-07-30T21:37:54.197792",
     "status": "completed"
    },
    "tags": []
   },
   "outputs": [],
   "source": [
    "from fairness_multiverse.conformal import predict_conformal_sets\n",
    "\n",
    "# Generate prediction sets for each test example\n",
    "pred_sets = predict_conformal_sets(model, X_test, q_hat)"
   ]
  },
  {
   "cell_type": "code",
   "execution_count": 54,
   "id": "d90c9a65-e6db-4f5d-80cd-e68fb7e46829",
   "metadata": {
    "execution": {
     "iopub.execute_input": "2025-07-30T21:37:55.290069Z",
     "iopub.status.busy": "2025-07-30T21:37:55.289670Z",
     "iopub.status.idle": "2025-07-30T21:37:55.293899Z",
     "shell.execute_reply": "2025-07-30T21:37:55.293011Z"
    },
    "papermill": {
     "duration": 0.028652,
     "end_time": "2025-07-30T21:37:55.295165",
     "exception": false,
     "start_time": "2025-07-30T21:37:55.266513",
     "status": "completed"
    },
    "tags": []
   },
   "outputs": [],
   "source": [
    "y_true = y_true.squeeze()"
   ]
  },
  {
   "cell_type": "code",
   "execution_count": 55,
   "id": "3a58a54a-1e68-46b9-927a-df01f18aebc8",
   "metadata": {
    "execution": {
     "iopub.execute_input": "2025-07-30T21:37:55.322214Z",
     "iopub.status.busy": "2025-07-30T21:37:55.321886Z",
     "iopub.status.idle": "2025-07-30T21:37:56.221307Z",
     "shell.execute_reply": "2025-07-30T21:37:56.220560Z"
    },
    "papermill": {
     "duration": 0.91412,
     "end_time": "2025-07-30T21:37:56.222904",
     "exception": false,
     "start_time": "2025-07-30T21:37:55.308784",
     "status": "completed"
    },
    "tags": []
   },
   "outputs": [],
   "source": [
    "from fairness_multiverse.conformal import evaluate_sets\n",
    "\n",
    "# Evaluate coverage and average set size on test data\n",
    "metrics = evaluate_sets(pred_sets, y_true)"
   ]
  },
  {
   "cell_type": "markdown",
   "id": "2b569c12-9aaa-4c88-98c9-bbcd0cf3ebb8",
   "metadata": {
    "papermill": {
     "duration": 0.012817,
     "end_time": "2025-07-30T21:37:56.250209",
     "exception": false,
     "start_time": "2025-07-30T21:37:56.237392",
     "status": "completed"
    },
    "tags": []
   },
   "source": [
    "# CP Metrics"
   ]
  },
  {
   "cell_type": "code",
   "execution_count": 56,
   "id": "5ce0a5cb-201f-45a0-ade5-94c7f0bd6095",
   "metadata": {
    "execution": {
     "iopub.execute_input": "2025-07-30T21:37:56.281614Z",
     "iopub.status.busy": "2025-07-30T21:37:56.280837Z",
     "iopub.status.idle": "2025-07-30T21:37:56.287025Z",
     "shell.execute_reply": "2025-07-30T21:37:56.286250Z"
    },
    "papermill": {
     "duration": 0.021218,
     "end_time": "2025-07-30T21:37:56.288355",
     "exception": false,
     "start_time": "2025-07-30T21:37:56.267137",
     "status": "completed"
    },
    "tags": []
   },
   "outputs": [
    {
     "data": {
      "text/plain": [
       "{'coverage': 0.9104001783524691, 'avg_size': 1.2509976591238434}"
      ]
     },
     "execution_count": 56,
     "metadata": {},
     "output_type": "execute_result"
    }
   ],
   "source": [
    "metrics"
   ]
  },
  {
   "cell_type": "code",
   "execution_count": 57,
   "id": "9b9a838d-31c9-430b-ae14-12baee460d17",
   "metadata": {
    "execution": {
     "iopub.execute_input": "2025-07-30T21:37:56.317117Z",
     "iopub.status.busy": "2025-07-30T21:37:56.316703Z",
     "iopub.status.idle": "2025-07-30T21:37:56.321900Z",
     "shell.execute_reply": "2025-07-30T21:37:56.320969Z"
    },
    "papermill": {
     "duration": 0.020641,
     "end_time": "2025-07-30T21:37:56.323181",
     "exception": false,
     "start_time": "2025-07-30T21:37:56.302540",
     "status": "completed"
    },
    "tags": []
   },
   "outputs": [],
   "source": [
    "example_universe = universe.copy()\n",
    "universe_training_year = example_universe.get(\"training_year\")\n",
    "universe_training_size = example_universe.get(\"training_size\")\n",
    "universe_scale = example_universe.get(\"scale\")\n",
    "universe_model = example_universe.get(\"model\")\n",
    "universe_exclude_features = example_universe.get(\"exclude_features\")\n",
    "universe_exclude_subgroups = example_universe.get(\"exclude_subgroups\")"
   ]
  },
  {
   "cell_type": "code",
   "execution_count": 58,
   "id": "f4b6a8ac-9dc0-4245-8a91-5b3b5999c4f9",
   "metadata": {
    "execution": {
     "iopub.execute_input": "2025-07-30T21:37:56.389323Z",
     "iopub.status.busy": "2025-07-30T21:37:56.388818Z",
     "iopub.status.idle": "2025-07-30T21:37:56.396511Z",
     "shell.execute_reply": "2025-07-30T21:37:56.395312Z"
    },
    "papermill": {
     "duration": 0.045721,
     "end_time": "2025-07-30T21:37:56.398592",
     "exception": false,
     "start_time": "2025-07-30T21:37:56.352871",
     "status": "completed"
    },
    "tags": []
   },
   "outputs": [],
   "source": [
    "cp_metrics_dict = {\n",
    "    \"universe_id\": [universe_id],\n",
    "    \"universe_training_year\": [universe_training_year],\n",
    "    \"universe_training_size\": [universe_training_size],\n",
    "    \"universe_scale\": [universe_scale],\n",
    "    \"universe_model\": [universe_model],\n",
    "    \"universe_exclude_features\": [universe_exclude_features],\n",
    "    \"universe_exclude_subgroups\": [universe_exclude_subgroups],\n",
    "    \"q_hat\": [q_hat],\n",
    "    \"coverage\": [metrics[\"coverage\"]],\n",
    "    \"avg_size\": [metrics[\"avg_size\"]],\n",
    "}"
   ]
  },
  {
   "cell_type": "code",
   "execution_count": 59,
   "id": "908acbb1-0371-4915-85ca-3fa520d2efe2",
   "metadata": {
    "execution": {
     "iopub.execute_input": "2025-07-30T21:37:56.450463Z",
     "iopub.status.busy": "2025-07-30T21:37:56.449976Z",
     "iopub.status.idle": "2025-07-30T21:37:56.457474Z",
     "shell.execute_reply": "2025-07-30T21:37:56.456520Z"
    },
    "papermill": {
     "duration": 0.034822,
     "end_time": "2025-07-30T21:37:56.459237",
     "exception": false,
     "start_time": "2025-07-30T21:37:56.424415",
     "status": "completed"
    },
    "tags": []
   },
   "outputs": [
    {
     "data": {
      "text/plain": [
       "{'universe_id': ['25443ffbf6bdfd6d9ffdc3cbad78c205'],\n",
       " 'universe_training_year': ['2012_14'],\n",
       " 'universe_training_size': ['1k'],\n",
       " 'universe_scale': ['scale'],\n",
       " 'universe_model': ['elasticnet'],\n",
       " 'universe_exclude_features': ['nationality-sex'],\n",
       " 'universe_exclude_subgroups': ['drop-non-german'],\n",
       " 'q_hat': [0.800411842778521],\n",
       " 'coverage': [0.9104001783524691],\n",
       " 'avg_size': [1.2509976591238434]}"
      ]
     },
     "execution_count": 59,
     "metadata": {},
     "output_type": "execute_result"
    }
   ],
   "source": [
    "cp_metrics_dict"
   ]
  },
  {
   "cell_type": "code",
   "execution_count": 60,
   "id": "33007efc-14e9-4ec6-97ac-56a455c82265",
   "metadata": {
    "execution": {
     "iopub.execute_input": "2025-07-30T21:37:56.510537Z",
     "iopub.status.busy": "2025-07-30T21:37:56.509670Z",
     "iopub.status.idle": "2025-07-30T21:37:56.516470Z",
     "shell.execute_reply": "2025-07-30T21:37:56.515523Z"
    },
    "papermill": {
     "duration": 0.033639,
     "end_time": "2025-07-30T21:37:56.518056",
     "exception": false,
     "start_time": "2025-07-30T21:37:56.484417",
     "status": "completed"
    },
    "tags": []
   },
   "outputs": [],
   "source": [
    "cp_metrics_df = pd.DataFrame(cp_metrics_dict)"
   ]
  },
  {
   "cell_type": "code",
   "execution_count": 61,
   "id": "db12611b-57b2-4910-b9d0-355adfd6e7bf",
   "metadata": {
    "execution": {
     "iopub.execute_input": "2025-07-30T21:37:56.569803Z",
     "iopub.status.busy": "2025-07-30T21:37:56.569041Z",
     "iopub.status.idle": "2025-07-30T21:37:56.587580Z",
     "shell.execute_reply": "2025-07-30T21:37:56.586611Z"
    },
    "papermill": {
     "duration": 0.045759,
     "end_time": "2025-07-30T21:37:56.589296",
     "exception": false,
     "start_time": "2025-07-30T21:37:56.543537",
     "status": "completed"
    },
    "tags": []
   },
   "outputs": [
    {
     "data": {
      "text/html": [
       "<div>\n",
       "<style scoped>\n",
       "    .dataframe tbody tr th:only-of-type {\n",
       "        vertical-align: middle;\n",
       "    }\n",
       "\n",
       "    .dataframe tbody tr th {\n",
       "        vertical-align: top;\n",
       "    }\n",
       "\n",
       "    .dataframe thead th {\n",
       "        text-align: right;\n",
       "    }\n",
       "</style>\n",
       "<table border=\"1\" class=\"dataframe\">\n",
       "  <thead>\n",
       "    <tr style=\"text-align: right;\">\n",
       "      <th></th>\n",
       "      <th>universe_id</th>\n",
       "      <th>universe_training_year</th>\n",
       "      <th>universe_training_size</th>\n",
       "      <th>universe_scale</th>\n",
       "      <th>universe_model</th>\n",
       "      <th>universe_exclude_features</th>\n",
       "      <th>universe_exclude_subgroups</th>\n",
       "      <th>q_hat</th>\n",
       "      <th>coverage</th>\n",
       "      <th>avg_size</th>\n",
       "    </tr>\n",
       "  </thead>\n",
       "  <tbody>\n",
       "    <tr>\n",
       "      <th>0</th>\n",
       "      <td>25443ffbf6bdfd6d9ffdc3cbad78c205</td>\n",
       "      <td>2012_14</td>\n",
       "      <td>1k</td>\n",
       "      <td>scale</td>\n",
       "      <td>elasticnet</td>\n",
       "      <td>nationality-sex</td>\n",
       "      <td>drop-non-german</td>\n",
       "      <td>0.800412</td>\n",
       "      <td>0.9104</td>\n",
       "      <td>1.250998</td>\n",
       "    </tr>\n",
       "  </tbody>\n",
       "</table>\n",
       "</div>"
      ],
      "text/plain": [
       "                        universe_id universe_training_year  \\\n",
       "0  25443ffbf6bdfd6d9ffdc3cbad78c205                2012_14   \n",
       "\n",
       "  universe_training_size universe_scale universe_model  \\\n",
       "0                     1k          scale     elasticnet   \n",
       "\n",
       "  universe_exclude_features universe_exclude_subgroups     q_hat  coverage  \\\n",
       "0           nationality-sex            drop-non-german  0.800412    0.9104   \n",
       "\n",
       "   avg_size  \n",
       "0  1.250998  "
      ]
     },
     "execution_count": 61,
     "metadata": {},
     "output_type": "execute_result"
    }
   ],
   "source": [
    "cp_metrics_df"
   ]
  },
  {
   "cell_type": "code",
   "execution_count": 62,
   "id": "b7fbde55-a0a1-47e4-9af6-fe4a17fa8c61",
   "metadata": {
    "execution": {
     "iopub.execute_input": "2025-07-30T21:37:56.640652Z",
     "iopub.status.busy": "2025-07-30T21:37:56.640205Z",
     "iopub.status.idle": "2025-07-30T21:37:56.645299Z",
     "shell.execute_reply": "2025-07-30T21:37:56.644219Z"
    },
    "papermill": {
     "duration": 0.032046,
     "end_time": "2025-07-30T21:37:56.646821",
     "exception": false,
     "start_time": "2025-07-30T21:37:56.614775",
     "status": "completed"
    },
    "tags": []
   },
   "outputs": [],
   "source": [
    "# Conditional Coverage & looking at subgroups"
   ]
  },
  {
   "cell_type": "code",
   "execution_count": 63,
   "id": "027ae886-68dd-4141-96c7-805a5450e1ef",
   "metadata": {
    "execution": {
     "iopub.execute_input": "2025-07-30T21:37:56.698685Z",
     "iopub.status.busy": "2025-07-30T21:37:56.698046Z",
     "iopub.status.idle": "2025-07-30T21:37:56.958712Z",
     "shell.execute_reply": "2025-07-30T21:37:56.957776Z"
    },
    "papermill": {
     "duration": 0.288063,
     "end_time": "2025-07-30T21:37:56.960591",
     "exception": false,
     "start_time": "2025-07-30T21:37:56.672528",
     "status": "completed"
    },
    "tags": []
   },
   "outputs": [],
   "source": [
    "from fairness_multiverse.conformal import build_cp_groups\n",
    "\n",
    "cp_groups_df = build_cp_groups(pred_sets, y_true, X_test.index, org_test)\n",
    "#needs universe_id and setting"
   ]
  },
  {
   "cell_type": "code",
   "execution_count": 64,
   "id": "01d5802c-663a-4d1f-9d69-e036faaffbf7",
   "metadata": {
    "execution": {
     "iopub.execute_input": "2025-07-30T21:37:57.013033Z",
     "iopub.status.busy": "2025-07-30T21:37:57.012560Z",
     "iopub.status.idle": "2025-07-30T21:37:57.017519Z",
     "shell.execute_reply": "2025-07-30T21:37:57.016318Z"
    },
    "papermill": {
     "duration": 0.034655,
     "end_time": "2025-07-30T21:37:57.019299",
     "exception": false,
     "start_time": "2025-07-30T21:37:56.984644",
     "status": "completed"
    },
    "tags": []
   },
   "outputs": [],
   "source": [
    "#delete\n",
    "#cp_groups_df"
   ]
  },
  {
   "cell_type": "code",
   "execution_count": 65,
   "id": "fa424af1-d1eb-443d-b717-2d279ada8408",
   "metadata": {
    "execution": {
     "iopub.execute_input": "2025-07-30T21:37:57.071696Z",
     "iopub.status.busy": "2025-07-30T21:37:57.071226Z",
     "iopub.status.idle": "2025-07-30T21:37:57.076545Z",
     "shell.execute_reply": "2025-07-30T21:37:57.075576Z"
    },
    "papermill": {
     "duration": 0.033686,
     "end_time": "2025-07-30T21:37:57.078479",
     "exception": false,
     "start_time": "2025-07-30T21:37:57.044793",
     "status": "completed"
    },
    "tags": []
   },
   "outputs": [],
   "source": [
    "#delete\n",
    "#percentage = (cp_groups_df['nongerman_female'] == 1).mean() * 100\n",
    "#print(percentage)\n"
   ]
  },
  {
   "cell_type": "code",
   "execution_count": 66,
   "id": "6cbdab96-b2b2-45af-ad54-d0516db2e28d",
   "metadata": {
    "execution": {
     "iopub.execute_input": "2025-07-30T21:37:57.134109Z",
     "iopub.status.busy": "2025-07-30T21:37:57.133627Z",
     "iopub.status.idle": "2025-07-30T21:37:58.726528Z",
     "shell.execute_reply": "2025-07-30T21:37:58.725561Z"
    },
    "papermill": {
     "duration": 1.623576,
     "end_time": "2025-07-30T21:37:58.728744",
     "exception": false,
     "start_time": "2025-07-30T21:37:57.105168",
     "status": "completed"
    },
    "tags": []
   },
   "outputs": [],
   "source": [
    "# Define covered = 1 if true_label is in the predicted set\n",
    "cp_groups_df['covered'] = cp_groups_df.apply(\n",
    "    lambda r: int(r['true_label'] in r['pred_set']),\n",
    "    axis=1\n",
    ")"
   ]
  },
  {
   "cell_type": "code",
   "execution_count": 67,
   "id": "338ff529-1a6b-4b87-a931-8e4788d52aad",
   "metadata": {
    "execution": {
     "iopub.execute_input": "2025-07-30T21:37:58.792147Z",
     "iopub.status.busy": "2025-07-30T21:37:58.791464Z",
     "iopub.status.idle": "2025-07-30T21:37:58.796500Z",
     "shell.execute_reply": "2025-07-30T21:37:58.795497Z"
    },
    "papermill": {
     "duration": 0.036704,
     "end_time": "2025-07-30T21:37:58.798142",
     "exception": false,
     "start_time": "2025-07-30T21:37:58.761438",
     "status": "completed"
    },
    "tags": []
   },
   "outputs": [],
   "source": [
    "#cp_groups_df"
   ]
  },
  {
   "cell_type": "code",
   "execution_count": 68,
   "id": "90032e27-66df-4540-9169-4e89cfbaa758",
   "metadata": {
    "execution": {
     "iopub.execute_input": "2025-07-30T21:37:58.851530Z",
     "iopub.status.busy": "2025-07-30T21:37:58.851050Z",
     "iopub.status.idle": "2025-07-30T21:37:58.862638Z",
     "shell.execute_reply": "2025-07-30T21:37:58.861709Z"
    },
    "papermill": {
     "duration": 0.039473,
     "end_time": "2025-07-30T21:37:58.864310",
     "exception": false,
     "start_time": "2025-07-30T21:37:58.824837",
     "status": "completed"
    },
    "tags": []
   },
   "outputs": [],
   "source": [
    "subgroups = ['frau1','nongerman','nongerman_male','nongerman_female']\n",
    "\n",
    "# Conditional coverage for subgroup==1\n",
    "cond_coverage = {\n",
    "    g: cp_groups_df.loc[cp_groups_df[g]==1, 'covered'].mean()\n",
    "    for g in subgroups\n",
    "}"
   ]
  },
  {
   "cell_type": "code",
   "execution_count": 69,
   "id": "1e348fb1-b9c3-45bc-ba23-f016827a7e0d",
   "metadata": {
    "execution": {
     "iopub.execute_input": "2025-07-30T21:37:58.918763Z",
     "iopub.status.busy": "2025-07-30T21:37:58.918067Z",
     "iopub.status.idle": "2025-07-30T21:37:58.925810Z",
     "shell.execute_reply": "2025-07-30T21:37:58.924896Z"
    },
    "papermill": {
     "duration": 0.035006,
     "end_time": "2025-07-30T21:37:58.927394",
     "exception": false,
     "start_time": "2025-07-30T21:37:58.892388",
     "status": "completed"
    },
    "tags": []
   },
   "outputs": [
    {
     "data": {
      "text/plain": [
       "{'frau1': 0.905809408276048,\n",
       " 'nongerman': 0.9206197720765733,\n",
       " 'nongerman_male': 0.9320003602629919,\n",
       " 'nongerman_female': 0.9017883755588674}"
      ]
     },
     "execution_count": 69,
     "metadata": {},
     "output_type": "execute_result"
    }
   ],
   "source": [
    "cond_coverage"
   ]
  },
  {
   "cell_type": "code",
   "execution_count": 70,
   "id": "f5093324-c3dd-4d63-bc4c-8d945e5c8bbb",
   "metadata": {
    "execution": {
     "iopub.execute_input": "2025-07-30T21:37:58.981206Z",
     "iopub.status.busy": "2025-07-30T21:37:58.980222Z",
     "iopub.status.idle": "2025-07-30T21:37:58.987539Z",
     "shell.execute_reply": "2025-07-30T21:37:58.986635Z"
    },
    "papermill": {
     "duration": 0.034079,
     "end_time": "2025-07-30T21:37:58.989305",
     "exception": false,
     "start_time": "2025-07-30T21:37:58.955226",
     "status": "completed"
    },
    "tags": []
   },
   "outputs": [],
   "source": [
    "for subgroup, cov in cond_coverage.items():\n",
    "    cp_metrics_df[f\"cov_{subgroup}\"] = cov"
   ]
  },
  {
   "cell_type": "code",
   "execution_count": 71,
   "id": "6e872e10-dbe5-49e8-b554-5030c98ff75d",
   "metadata": {
    "execution": {
     "iopub.execute_input": "2025-07-30T21:37:59.053321Z",
     "iopub.status.busy": "2025-07-30T21:37:59.052909Z",
     "iopub.status.idle": "2025-07-30T21:37:59.067787Z",
     "shell.execute_reply": "2025-07-30T21:37:59.066813Z"
    },
    "papermill": {
     "duration": 0.052116,
     "end_time": "2025-07-30T21:37:59.069212",
     "exception": false,
     "start_time": "2025-07-30T21:37:59.017096",
     "status": "completed"
    },
    "tags": []
   },
   "outputs": [
    {
     "data": {
      "text/html": [
       "<div>\n",
       "<style scoped>\n",
       "    .dataframe tbody tr th:only-of-type {\n",
       "        vertical-align: middle;\n",
       "    }\n",
       "\n",
       "    .dataframe tbody tr th {\n",
       "        vertical-align: top;\n",
       "    }\n",
       "\n",
       "    .dataframe thead th {\n",
       "        text-align: right;\n",
       "    }\n",
       "</style>\n",
       "<table border=\"1\" class=\"dataframe\">\n",
       "  <thead>\n",
       "    <tr style=\"text-align: right;\">\n",
       "      <th></th>\n",
       "      <th>universe_id</th>\n",
       "      <th>universe_training_year</th>\n",
       "      <th>universe_training_size</th>\n",
       "      <th>universe_scale</th>\n",
       "      <th>universe_model</th>\n",
       "      <th>universe_exclude_features</th>\n",
       "      <th>universe_exclude_subgroups</th>\n",
       "      <th>q_hat</th>\n",
       "      <th>coverage</th>\n",
       "      <th>avg_size</th>\n",
       "      <th>cov_frau1</th>\n",
       "      <th>cov_nongerman</th>\n",
       "      <th>cov_nongerman_male</th>\n",
       "      <th>cov_nongerman_female</th>\n",
       "    </tr>\n",
       "  </thead>\n",
       "  <tbody>\n",
       "    <tr>\n",
       "      <th>0</th>\n",
       "      <td>25443ffbf6bdfd6d9ffdc3cbad78c205</td>\n",
       "      <td>2012_14</td>\n",
       "      <td>1k</td>\n",
       "      <td>scale</td>\n",
       "      <td>elasticnet</td>\n",
       "      <td>nationality-sex</td>\n",
       "      <td>drop-non-german</td>\n",
       "      <td>0.800412</td>\n",
       "      <td>0.9104</td>\n",
       "      <td>1.250998</td>\n",
       "      <td>0.905809</td>\n",
       "      <td>0.92062</td>\n",
       "      <td>0.932</td>\n",
       "      <td>0.901788</td>\n",
       "    </tr>\n",
       "  </tbody>\n",
       "</table>\n",
       "</div>"
      ],
      "text/plain": [
       "                        universe_id universe_training_year  \\\n",
       "0  25443ffbf6bdfd6d9ffdc3cbad78c205                2012_14   \n",
       "\n",
       "  universe_training_size universe_scale universe_model  \\\n",
       "0                     1k          scale     elasticnet   \n",
       "\n",
       "  universe_exclude_features universe_exclude_subgroups     q_hat  coverage  \\\n",
       "0           nationality-sex            drop-non-german  0.800412    0.9104   \n",
       "\n",
       "   avg_size  cov_frau1  cov_nongerman  cov_nongerman_male  \\\n",
       "0  1.250998   0.905809        0.92062               0.932   \n",
       "\n",
       "   cov_nongerman_female  \n",
       "0              0.901788  "
      ]
     },
     "execution_count": 71,
     "metadata": {},
     "output_type": "execute_result"
    }
   ],
   "source": [
    "cp_metrics_df"
   ]
  },
  {
   "cell_type": "markdown",
   "id": "33774451",
   "metadata": {
    "papermill": {
     "duration": 0.013994,
     "end_time": "2025-07-30T21:37:59.098390",
     "exception": false,
     "start_time": "2025-07-30T21:37:59.084396",
     "status": "completed"
    },
    "tags": []
   },
   "source": [
    "# (Fairness) Metrics"
   ]
  },
  {
   "cell_type": "code",
   "execution_count": 72,
   "id": "debc5d62",
   "metadata": {
    "execution": {
     "iopub.execute_input": "2025-07-30T21:37:59.128935Z",
     "iopub.status.busy": "2025-07-30T21:37:59.128413Z",
     "iopub.status.idle": "2025-07-30T21:37:59.143152Z",
     "shell.execute_reply": "2025-07-30T21:37:59.142172Z"
    },
    "papermill": {
     "duration": 0.031759,
     "end_time": "2025-07-30T21:37:59.144676",
     "exception": false,
     "start_time": "2025-07-30T21:37:59.112917",
     "status": "completed"
    },
    "tags": []
   },
   "outputs": [],
   "source": [
    "# do I need to include maxdeutsch1.missing?\n",
    "\n",
    "import numpy as np\n",
    "\n",
    "colname_to_bin = \"maxdeutsch1\"\n",
    "majority_value = org_train[colname_to_bin].mode()[0]\n",
    "\n",
    "org_test[\"majmin\"] = np.where(org_test[colname_to_bin] == majority_value, \"majority\", \"minority\")"
   ]
  },
  {
   "cell_type": "code",
   "execution_count": 73,
   "id": "06a50de5",
   "metadata": {
    "execution": {
     "iopub.execute_input": "2025-07-30T21:37:59.175700Z",
     "iopub.status.busy": "2025-07-30T21:37:59.175176Z",
     "iopub.status.idle": "2025-07-30T21:38:00.764960Z",
     "shell.execute_reply": "2025-07-30T21:38:00.764259Z"
    },
    "papermill": {
     "duration": 1.606995,
     "end_time": "2025-07-30T21:38:00.766333",
     "exception": false,
     "start_time": "2025-07-30T21:37:59.159338",
     "status": "completed"
    },
    "tags": []
   },
   "outputs": [],
   "source": [
    "example_universe = universe.copy()\n",
    "example_universe[\"cutoff\"] = example_universe[\"cutoff\"][0]\n",
    "example_universe[\"eval_fairness_grouping\"] = example_universe[\"eval_fairness_grouping\"][0]\n",
    "fairness_dict, metric_frame = universe_analysis.compute_metrics(\n",
    "    example_universe,\n",
    "    y_pred_prob=probs_test,\n",
    "    y_test=y_true,\n",
    "    org_test=org_test,\n",
    ")"
   ]
  },
  {
   "cell_type": "markdown",
   "id": "f95d4e02",
   "metadata": {
    "papermill": {
     "duration": 0.013138,
     "end_time": "2025-07-30T21:38:00.793700",
     "exception": false,
     "start_time": "2025-07-30T21:38:00.780562",
     "status": "completed"
    },
    "tags": []
   },
   "source": [
    "# Overall"
   ]
  },
  {
   "cell_type": "markdown",
   "id": "bdee4871",
   "metadata": {
    "papermill": {
     "duration": 0.013172,
     "end_time": "2025-07-30T21:38:00.820185",
     "exception": false,
     "start_time": "2025-07-30T21:38:00.807013",
     "status": "completed"
    },
    "tags": []
   },
   "source": [
    "Fairness\n",
    "Main fairness target: Equalized Odds. Seems to be a better fit than equal opportunity, since we're not only interested in Y = 1. Seems to be a better fit than demographic parity, since we also care about accuracy, not just equal distribution of preds.\n",
    "\n",
    "Pick column for computation of fairness metrics\n",
    "\n",
    "Performance\n",
    "Overall performance measures, most interesting in relation to the measures split by group below"
   ]
  },
  {
   "cell_type": "code",
   "execution_count": 74,
   "id": "c4e067c6",
   "metadata": {
    "execution": {
     "iopub.execute_input": "2025-07-30T21:38:00.849136Z",
     "iopub.status.busy": "2025-07-30T21:38:00.848636Z",
     "iopub.status.idle": "2025-07-30T21:38:00.856098Z",
     "shell.execute_reply": "2025-07-30T21:38:00.855277Z"
    },
    "papermill": {
     "duration": 0.02391,
     "end_time": "2025-07-30T21:38:00.857626",
     "exception": false,
     "start_time": "2025-07-30T21:38:00.833716",
     "status": "completed"
    },
    "tags": []
   },
   "outputs": [
    {
     "data": {
      "text/plain": [
       "accuracy                   0.217066\n",
       "balanced accuracy          0.532287\n",
       "f1                         0.238599\n",
       "precision                  0.136303\n",
       "false positive rate        0.891716\n",
       "false negative rate        0.043709\n",
       "selection rate             0.900000\n",
       "count                  89710.000000\n",
       "dtype: float64"
      ]
     },
     "execution_count": 74,
     "metadata": {},
     "output_type": "execute_result"
    }
   ],
   "source": [
    "metric_frame.overall"
   ]
  },
  {
   "cell_type": "markdown",
   "id": "e968fe9d",
   "metadata": {
    "papermill": {
     "duration": 0.013754,
     "end_time": "2025-07-30T21:38:00.886926",
     "exception": false,
     "start_time": "2025-07-30T21:38:00.873172",
     "status": "completed"
    },
    "tags": []
   },
   "source": [
    "By Group"
   ]
  },
  {
   "cell_type": "code",
   "execution_count": 75,
   "id": "ec325bce",
   "metadata": {
    "execution": {
     "iopub.execute_input": "2025-07-30T21:38:00.917549Z",
     "iopub.status.busy": "2025-07-30T21:38:00.917044Z",
     "iopub.status.idle": "2025-07-30T21:38:00.934128Z",
     "shell.execute_reply": "2025-07-30T21:38:00.933173Z"
    },
    "papermill": {
     "duration": 0.03463,
     "end_time": "2025-07-30T21:38:00.935967",
     "exception": false,
     "start_time": "2025-07-30T21:38:00.901337",
     "status": "completed"
    },
    "tags": []
   },
   "outputs": [
    {
     "data": {
      "text/html": [
       "<div>\n",
       "<style scoped>\n",
       "    .dataframe tbody tr th:only-of-type {\n",
       "        vertical-align: middle;\n",
       "    }\n",
       "\n",
       "    .dataframe tbody tr th {\n",
       "        vertical-align: top;\n",
       "    }\n",
       "\n",
       "    .dataframe thead th {\n",
       "        text-align: right;\n",
       "    }\n",
       "</style>\n",
       "<table border=\"1\" class=\"dataframe\">\n",
       "  <thead>\n",
       "    <tr style=\"text-align: right;\">\n",
       "      <th></th>\n",
       "      <th>accuracy</th>\n",
       "      <th>balanced accuracy</th>\n",
       "      <th>f1</th>\n",
       "      <th>precision</th>\n",
       "      <th>false positive rate</th>\n",
       "      <th>false negative rate</th>\n",
       "      <th>selection rate</th>\n",
       "      <th>count</th>\n",
       "    </tr>\n",
       "    <tr>\n",
       "      <th>majmin</th>\n",
       "      <th></th>\n",
       "      <th></th>\n",
       "      <th></th>\n",
       "      <th></th>\n",
       "      <th></th>\n",
       "      <th></th>\n",
       "      <th></th>\n",
       "      <th></th>\n",
       "    </tr>\n",
       "  </thead>\n",
       "  <tbody>\n",
       "    <tr>\n",
       "      <th>majority</th>\n",
       "      <td>0.231170</td>\n",
       "      <td>0.536464</td>\n",
       "      <td>0.246443</td>\n",
       "      <td>0.141555</td>\n",
       "      <td>0.878494</td>\n",
       "      <td>0.048578</td>\n",
       "      <td>0.888131</td>\n",
       "      <td>69170.0</td>\n",
       "    </tr>\n",
       "    <tr>\n",
       "      <th>minority</th>\n",
       "      <td>0.169572</td>\n",
       "      <td>0.519845</td>\n",
       "      <td>0.213057</td>\n",
       "      <td>0.119594</td>\n",
       "      <td>0.935395</td>\n",
       "      <td>0.024916</td>\n",
       "      <td>0.939971</td>\n",
       "      <td>20540.0</td>\n",
       "    </tr>\n",
       "  </tbody>\n",
       "</table>\n",
       "</div>"
      ],
      "text/plain": [
       "          accuracy  balanced accuracy        f1  precision  \\\n",
       "majmin                                                       \n",
       "majority  0.231170           0.536464  0.246443   0.141555   \n",
       "minority  0.169572           0.519845  0.213057   0.119594   \n",
       "\n",
       "          false positive rate  false negative rate  selection rate    count  \n",
       "majmin                                                                       \n",
       "majority             0.878494             0.048578        0.888131  69170.0  \n",
       "minority             0.935395             0.024916        0.939971  20540.0  "
      ]
     },
     "execution_count": 75,
     "metadata": {},
     "output_type": "execute_result"
    }
   ],
   "source": [
    "metric_frame.by_group"
   ]
  },
  {
   "cell_type": "code",
   "execution_count": 76,
   "id": "a9ddbe63",
   "metadata": {
    "execution": {
     "iopub.execute_input": "2025-07-30T21:38:01.000283Z",
     "iopub.status.busy": "2025-07-30T21:38:00.999593Z",
     "iopub.status.idle": "2025-07-30T21:38:03.410248Z",
     "shell.execute_reply": "2025-07-30T21:38:03.409093Z"
    },
    "papermill": {
     "duration": 2.44502,
     "end_time": "2025-07-30T21:38:03.412292",
     "exception": false,
     "start_time": "2025-07-30T21:38:00.967272",
     "status": "completed"
    },
    "tags": []
   },
   "outputs": [
    {
     "data": {
      "text/plain": [
       "array([[<Axes: title={'center': 'accuracy'}, xlabel='majmin'>,\n",
       "        <Axes: title={'center': 'balanced accuracy'}, xlabel='majmin'>,\n",
       "        <Axes: title={'center': 'f1'}, xlabel='majmin'>],\n",
       "       [<Axes: title={'center': 'precision'}, xlabel='majmin'>,\n",
       "        <Axes: title={'center': 'false positive rate'}, xlabel='majmin'>,\n",
       "        <Axes: title={'center': 'false negative rate'}, xlabel='majmin'>],\n",
       "       [<Axes: title={'center': 'selection rate'}, xlabel='majmin'>,\n",
       "        <Axes: title={'center': 'count'}, xlabel='majmin'>,\n",
       "        <Axes: xlabel='majmin'>]], dtype=object)"
      ]
     },
     "execution_count": 76,
     "metadata": {},
     "output_type": "execute_result"
    },
    {
     "data": {
      "image/png": "[encoded data removed]",
      "text/plain": [
       "<Figure size 1200x800 with 9 Axes>"
      ]
     },
     "metadata": {},
     "output_type": "display_data"
    }
   ],
   "source": [
    "# In a graphic\n",
    "metric_frame.by_group.plot.bar(\n",
    "    subplots=True,\n",
    "    layout=[3, 3],\n",
    "    legend=False,\n",
    "    figsize=[12, 8],\n",
    "    title=\"Show all metrics\",\n",
    ")"
   ]
  },
  {
   "cell_type": "markdown",
   "id": "f57a0bac",
   "metadata": {
    "papermill": {
     "duration": 0.028351,
     "end_time": "2025-07-30T21:38:03.472418",
     "exception": false,
     "start_time": "2025-07-30T21:38:03.444067",
     "status": "completed"
    },
    "tags": []
   },
   "source": [
    "# Final Output"
   ]
  },
  {
   "cell_type": "code",
   "execution_count": 77,
   "id": "96d280a3",
   "metadata": {
    "execution": {
     "iopub.execute_input": "2025-07-30T21:38:03.533425Z",
     "iopub.status.busy": "2025-07-30T21:38:03.532740Z",
     "iopub.status.idle": "2025-07-30T21:38:03.542232Z",
     "shell.execute_reply": "2025-07-30T21:38:03.541283Z"
    },
    "papermill": {
     "duration": 0.04203,
     "end_time": "2025-07-30T21:38:03.543754",
     "exception": false,
     "start_time": "2025-07-30T21:38:03.501724",
     "status": "completed"
    },
    "tags": []
   },
   "outputs": [
    {
     "data": {
      "text/plain": [
       "4"
      ]
     },
     "execution_count": 77,
     "metadata": {},
     "output_type": "execute_result"
    }
   ],
   "source": [
    "sub_universes = universe_analysis.generate_sub_universes()\n",
    "len(sub_universes)"
   ]
  },
  {
   "cell_type": "code",
   "execution_count": 78,
   "id": "92adf7ba",
   "metadata": {
    "execution": {
     "iopub.execute_input": "2025-07-30T21:38:03.603418Z",
     "iopub.status.busy": "2025-07-30T21:38:03.602777Z",
     "iopub.status.idle": "2025-07-30T21:38:03.608848Z",
     "shell.execute_reply": "2025-07-30T21:38:03.607785Z"
    },
    "papermill": {
     "duration": 0.038155,
     "end_time": "2025-07-30T21:38:03.610415",
     "exception": false,
     "start_time": "2025-07-30T21:38:03.572260",
     "status": "completed"
    },
    "tags": []
   },
   "outputs": [],
   "source": [
    "def filter_sub_universe_data(sub_universe, org_test):\n",
    "    # Keep all rows — no filtering\n",
    "    keep_rows_mask = np.ones(org_test.shape[0], dtype=bool)\n",
    "\n",
    "    print(f\"[INFO] Keeping all rows: {keep_rows_mask.sum()} rows retained.\")\n",
    "    return keep_rows_mask"
   ]
  },
  {
   "cell_type": "code",
   "execution_count": 79,
   "id": "4a759155",
   "metadata": {
    "execution": {
     "iopub.execute_input": "2025-07-30T21:38:03.674133Z",
     "iopub.status.busy": "2025-07-30T21:38:03.673469Z",
     "iopub.status.idle": "2025-07-30T21:38:12.571045Z",
     "shell.execute_reply": "2025-07-30T21:38:12.570037Z"
    },
    "papermill": {
     "duration": 8.932188,
     "end_time": "2025-07-30T21:38:12.572868",
     "exception": false,
     "start_time": "2025-07-30T21:38:03.640680",
     "status": "completed"
    },
    "tags": []
   },
   "outputs": [
    {
     "name": "stdout",
     "output_type": "stream",
     "text": [
      "Stopping execution_time clock.\n",
      "[INFO] Keeping all rows: 89710 rows retained.\n"
     ]
    },
    {
     "name": "stdout",
     "output_type": "stream",
     "text": [
      "[INFO] Keeping all rows: 89710 rows retained.\n"
     ]
    },
    {
     "name": "stdout",
     "output_type": "stream",
     "text": [
      "[INFO] Keeping all rows: 89710 rows retained.\n"
     ]
    },
    {
     "name": "stdout",
     "output_type": "stream",
     "text": [
      "[INFO] Keeping all rows: 89710 rows retained.\n"
     ]
    },
    {
     "data": {
      "text/html": [
       "<div>\n",
       "<style scoped>\n",
       "    .dataframe tbody tr th:only-of-type {\n",
       "        vertical-align: middle;\n",
       "    }\n",
       "\n",
       "    .dataframe tbody tr th {\n",
       "        vertical-align: top;\n",
       "    }\n",
       "\n",
       "    .dataframe thead th {\n",
       "        text-align: right;\n",
       "    }\n",
       "</style>\n",
       "<table border=\"1\" class=\"dataframe\">\n",
       "  <thead>\n",
       "    <tr style=\"text-align: right;\">\n",
       "      <th></th>\n",
       "      <th>run_no</th>\n",
       "      <th>universe_id</th>\n",
       "      <th>universe_settings</th>\n",
       "      <th>execution_time</th>\n",
       "      <th>test_size_n</th>\n",
       "      <th>test_size_frac</th>\n",
       "      <th>fair_main_equalized_odds_difference</th>\n",
       "      <th>fair_main_equalized_odds_ratio</th>\n",
       "      <th>fair_main_demographic_parity_difference</th>\n",
       "      <th>fair_main_demographic_parity_ratio</th>\n",
       "      <th>...</th>\n",
       "      <th>perf_grp_precision_0</th>\n",
       "      <th>perf_grp_precision_1</th>\n",
       "      <th>perf_grp_false positive rate_0</th>\n",
       "      <th>perf_grp_false positive rate_1</th>\n",
       "      <th>perf_grp_false negative rate_0</th>\n",
       "      <th>perf_grp_false negative rate_1</th>\n",
       "      <th>perf_grp_selection rate_0</th>\n",
       "      <th>perf_grp_selection rate_1</th>\n",
       "      <th>perf_grp_count_0</th>\n",
       "      <th>perf_grp_count_1</th>\n",
       "    </tr>\n",
       "  </thead>\n",
       "  <tbody>\n",
       "    <tr>\n",
       "      <th>0</th>\n",
       "      <td>14</td>\n",
       "      <td>25443ffbf6bdfd6d9ffdc3cbad78c205</td>\n",
       "      <td>{\"cutoff\": \"quantile_0.1\", \"eval_fairness_grou...</td>\n",
       "      <td>31.453766</td>\n",
       "      <td>89710</td>\n",
       "      <td>1.0</td>\n",
       "      <td>0.056901</td>\n",
       "      <td>0.939169</td>\n",
       "      <td>0.051840</td>\n",
       "      <td>0.944849</td>\n",
       "      <td>...</td>\n",
       "      <td>NaN</td>\n",
       "      <td>NaN</td>\n",
       "      <td>NaN</td>\n",
       "      <td>NaN</td>\n",
       "      <td>NaN</td>\n",
       "      <td>NaN</td>\n",
       "      <td>NaN</td>\n",
       "      <td>NaN</td>\n",
       "      <td>NaN</td>\n",
       "      <td>NaN</td>\n",
       "    </tr>\n",
       "    <tr>\n",
       "      <th>0</th>\n",
       "      <td>14</td>\n",
       "      <td>25443ffbf6bdfd6d9ffdc3cbad78c205</td>\n",
       "      <td>{\"cutoff\": \"quantile_0.1\", \"eval_fairness_grou...</td>\n",
       "      <td>31.453766</td>\n",
       "      <td>89710</td>\n",
       "      <td>1.0</td>\n",
       "      <td>0.056901</td>\n",
       "      <td>0.939169</td>\n",
       "      <td>0.051840</td>\n",
       "      <td>0.944849</td>\n",
       "      <td>...</td>\n",
       "      <td>0.119594</td>\n",
       "      <td>0.141555</td>\n",
       "      <td>0.935395</td>\n",
       "      <td>0.878494</td>\n",
       "      <td>0.024916</td>\n",
       "      <td>0.048578</td>\n",
       "      <td>0.939971</td>\n",
       "      <td>0.888131</td>\n",
       "      <td>20540.0</td>\n",
       "      <td>69170.0</td>\n",
       "    </tr>\n",
       "    <tr>\n",
       "      <th>0</th>\n",
       "      <td>14</td>\n",
       "      <td>25443ffbf6bdfd6d9ffdc3cbad78c205</td>\n",
       "      <td>{\"cutoff\": \"quantile_0.25\", \"eval_fairness_gro...</td>\n",
       "      <td>31.453766</td>\n",
       "      <td>89710</td>\n",
       "      <td>1.0</td>\n",
       "      <td>0.140998</td>\n",
       "      <td>0.832085</td>\n",
       "      <td>0.129197</td>\n",
       "      <td>0.847934</td>\n",
       "      <td>...</td>\n",
       "      <td>NaN</td>\n",
       "      <td>NaN</td>\n",
       "      <td>NaN</td>\n",
       "      <td>NaN</td>\n",
       "      <td>NaN</td>\n",
       "      <td>NaN</td>\n",
       "      <td>NaN</td>\n",
       "      <td>NaN</td>\n",
       "      <td>NaN</td>\n",
       "      <td>NaN</td>\n",
       "    </tr>\n",
       "    <tr>\n",
       "      <th>0</th>\n",
       "      <td>14</td>\n",
       "      <td>25443ffbf6bdfd6d9ffdc3cbad78c205</td>\n",
       "      <td>{\"cutoff\": \"quantile_0.25\", \"eval_fairness_gro...</td>\n",
       "      <td>31.453766</td>\n",
       "      <td>89710</td>\n",
       "      <td>1.0</td>\n",
       "      <td>0.140998</td>\n",
       "      <td>0.832085</td>\n",
       "      <td>0.129197</td>\n",
       "      <td>0.847934</td>\n",
       "      <td>...</td>\n",
       "      <td>0.125609</td>\n",
       "      <td>0.158295</td>\n",
       "      <td>0.839698</td>\n",
       "      <td>0.698701</td>\n",
       "      <td>0.074324</td>\n",
       "      <td>0.136980</td>\n",
       "      <td>0.849611</td>\n",
       "      <td>0.720413</td>\n",
       "      <td>20540.0</td>\n",
       "      <td>69170.0</td>\n",
       "    </tr>\n",
       "  </tbody>\n",
       "</table>\n",
       "<p>4 rows × 50 columns</p>\n",
       "</div>"
      ],
      "text/plain": [
       "  run_no                       universe_id  \\\n",
       "0     14  25443ffbf6bdfd6d9ffdc3cbad78c205   \n",
       "0     14  25443ffbf6bdfd6d9ffdc3cbad78c205   \n",
       "0     14  25443ffbf6bdfd6d9ffdc3cbad78c205   \n",
       "0     14  25443ffbf6bdfd6d9ffdc3cbad78c205   \n",
       "\n",
       "                                   universe_settings  execution_time  \\\n",
       "0  {\"cutoff\": \"quantile_0.1\", \"eval_fairness_grou...       31.453766   \n",
       "0  {\"cutoff\": \"quantile_0.1\", \"eval_fairness_grou...       31.453766   \n",
       "0  {\"cutoff\": \"quantile_0.25\", \"eval_fairness_gro...       31.453766   \n",
       "0  {\"cutoff\": \"quantile_0.25\", \"eval_fairness_gro...       31.453766   \n",
       "\n",
       "   test_size_n  test_size_frac  fair_main_equalized_odds_difference  \\\n",
       "0        89710             1.0                             0.056901   \n",
       "0        89710             1.0                             0.056901   \n",
       "0        89710             1.0                             0.140998   \n",
       "0        89710             1.0                             0.140998   \n",
       "\n",
       "   fair_main_equalized_odds_ratio  fair_main_demographic_parity_difference  \\\n",
       "0                        0.939169                                 0.051840   \n",
       "0                        0.939169                                 0.051840   \n",
       "0                        0.832085                                 0.129197   \n",
       "0                        0.832085                                 0.129197   \n",
       "\n",
       "   fair_main_demographic_parity_ratio  ...  perf_grp_precision_0  \\\n",
       "0                            0.944849  ...                   NaN   \n",
       "0                            0.944849  ...              0.119594   \n",
       "0                            0.847934  ...                   NaN   \n",
       "0                            0.847934  ...              0.125609   \n",
       "\n",
       "   perf_grp_precision_1  perf_grp_false positive rate_0  \\\n",
       "0                   NaN                             NaN   \n",
       "0              0.141555                        0.935395   \n",
       "0                   NaN                             NaN   \n",
       "0              0.158295                        0.839698   \n",
       "\n",
       "   perf_grp_false positive rate_1  perf_grp_false negative rate_0  \\\n",
       "0                             NaN                             NaN   \n",
       "0                        0.878494                        0.024916   \n",
       "0                             NaN                             NaN   \n",
       "0                        0.698701                        0.074324   \n",
       "\n",
       "   perf_grp_false negative rate_1  perf_grp_selection rate_0  \\\n",
       "0                             NaN                        NaN   \n",
       "0                        0.048578                   0.939971   \n",
       "0                             NaN                        NaN   \n",
       "0                        0.136980                   0.849611   \n",
       "\n",
       "   perf_grp_selection rate_1  perf_grp_count_0  perf_grp_count_1  \n",
       "0                        NaN               NaN               NaN  \n",
       "0                   0.888131           20540.0           69170.0  \n",
       "0                        NaN               NaN               NaN  \n",
       "0                   0.720413           20540.0           69170.0  \n",
       "\n",
       "[4 rows x 50 columns]"
      ]
     },
     "execution_count": 79,
     "metadata": {},
     "output_type": "execute_result"
    }
   ],
   "source": [
    "final_output = universe_analysis.generate_final_output(\n",
    "    y_pred_prob=probs_test,\n",
    "    y_test=y_true,\n",
    "    org_test=org_test,\n",
    "    filter_data=filter_sub_universe_data,\n",
    "    cp_metrics_df=cp_metrics_df,\n",
    "    save=True,\n",
    ")\n",
    "final_output"
   ]
  },
  {
   "cell_type": "code",
   "execution_count": null,
   "id": "721ff514-cb11-46f8-b6fc-50392f74b5cb",
   "metadata": {
    "papermill": {
     "duration": 0.030598,
     "end_time": "2025-07-30T21:38:12.637011",
     "exception": false,
     "start_time": "2025-07-30T21:38:12.606413",
     "status": "completed"
    },
    "tags": []
   },
   "outputs": [],
   "source": []
  }
 ],
 "metadata": {
  "celltoolbar": "Tags",
  "kernelspec": {
   "display_name": "Python (CMA Fairness)",
   "language": "python",
   "name": "cma_fair_env"
  },
  "language_info": {
   "codemirror_mode": {
    "name": "ipython",
    "version": 3
   },
   "file_extension": ".py",
   "mimetype": "text/x-python",
   "name": "python",
   "nbconvert_exporter": "python",
   "pygments_lexer": "ipython3",
   "version": "3.10.12"
  },
  "papermill": {
   "default_parameters": {},
   "duration": 44.474648,
   "end_time": "2025-07-30T21:38:13.486936",
   "environment_variables": {},
   "exception": null,
   "input_path": "universe_analysis.ipynb",
   "output_path": "output/runs/14/notebooks/m_14-25443ffbf6bdfd6d9ffdc3cbad78c205.ipynb",
   "parameters": {
    "output_dir": "output",
    "run_no": "14",
    "seed": "2023",
    "universe": "{\"cutoff\": [\"quantile_0.1\", \"quantile_0.25\"], \"eval_fairness_grouping\": [\"majority-minority\", \"nationality-all\"], \"exclude_features\": \"nationality-sex\", \"exclude_subgroups\": \"drop-non-german\", \"model\": \"elasticnet\", \"scale\": \"scale\", \"training_size\": \"1k\", \"training_year\": \"2012_14\"}",
    "universe_id": "25443ffbf6bdfd6d9ffdc3cbad78c205"
   },
   "start_time": "2025-07-30T21:37:29.012288",
   "version": "2.6.0"
  }
 },
 "nbformat": 4,
 "nbformat_minor": 5
}