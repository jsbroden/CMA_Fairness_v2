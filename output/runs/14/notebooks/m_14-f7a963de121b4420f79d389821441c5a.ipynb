{
 "cells": [
  {
   "cell_type": "code",
   "execution_count": 1,
   "id": "f159f837-637b-42ba-96b5-ec9a68c44524",
   "metadata": {
    "execution": {
     "iopub.execute_input": "2025-07-30T21:34:13.326470Z",
     "iopub.status.busy": "2025-07-30T21:34:13.325979Z",
     "iopub.status.idle": "2025-07-30T21:34:13.340005Z",
     "shell.execute_reply": "2025-07-30T21:34:13.338968Z"
    },
    "papermill": {
     "duration": 0.03797,
     "end_time": "2025-07-30T21:34:13.342051",
     "exception": false,
     "start_time": "2025-07-30T21:34:13.304081",
     "status": "completed"
    },
    "tags": []
   },
   "outputs": [
    {
     "name": "stdout",
     "output_type": "stream",
     "text": [
      "/dss/dsshome1/0C/ra93lal2/cma/CMA_Fairness_v2\n"
     ]
    },
    {
     "name": "stderr",
     "output_type": "stream",
     "text": [
      "/dss/dsshome1/0C/ra93lal2/.local/share/virtualenvs/CMA_Fairness_v2-3j10GkSs/lib/python3.10/site-packages/IPython/core/magics/osm.py:393: UserWarning: This is now an optional IPython functionality, using bookmarks requires you to install the `pickleshare` library.\n",
      "  bkms = self.shell.db.get('bookmarks', {})\n",
      "/dss/dsshome1/0C/ra93lal2/.local/share/virtualenvs/CMA_Fairness_v2-3j10GkSs/lib/python3.10/site-packages/IPython/core/magics/osm.py:417: UserWarning: This is now an optional IPython functionality, setting dhist requires you to install the `pickleshare` library.\n",
      "  self.shell.db['dhist'] = compress_dhist(dhist)[-100:]\n"
     ]
    }
   ],
   "source": [
    "%cd ~/cma/CMA_Fairness_v2"
   ]
  },
  {
   "cell_type": "markdown",
   "id": "de2603b9",
   "metadata": {
    "papermill": {
     "duration": 0.018242,
     "end_time": "2025-07-30T21:34:13.379000",
     "exception": false,
     "start_time": "2025-07-30T21:34:13.360758",
     "status": "completed"
    },
    "tags": []
   },
   "source": [
    "The following cell holds the definition of our parameters, these values can be overriden by rendering the with e.g. the following command:\n",
    "\n",
    "papermill -p alpha 0.2 -p ratio 0.3 universe_analysis.ipynb output/test_run.ipynb"
   ]
  },
  {
   "cell_type": "code",
   "execution_count": 2,
   "id": "a80968a0-40bb-4fa9-85ef-2d5eefb01975",
   "metadata": {
    "execution": {
     "iopub.execute_input": "2025-07-30T21:34:13.418306Z",
     "iopub.status.busy": "2025-07-30T21:34:13.417361Z",
     "iopub.status.idle": "2025-07-30T21:34:13.423459Z",
     "shell.execute_reply": "2025-07-30T21:34:13.422358Z"
    },
    "papermill": {
     "duration": 0.027159,
     "end_time": "2025-07-30T21:34:13.425229",
     "exception": false,
     "start_time": "2025-07-30T21:34:13.398070",
     "status": "completed"
    },
    "tags": []
   },
   "outputs": [
    {
     "name": "stdout",
     "output_type": "stream",
     "text": [
      "Current working directory: /dss/dsshome1/0C/ra93lal2/cma/CMA_Fairness_v2\n"
     ]
    }
   ],
   "source": [
    "import os\n",
    "print(\"Current working directory:\", os.getcwd())"
   ]
  },
  {
   "cell_type": "code",
   "execution_count": 3,
   "id": "2dce4c03",
   "metadata": {
    "execution": {
     "iopub.execute_input": "2025-07-30T21:34:13.471079Z",
     "iopub.status.busy": "2025-07-30T21:34:13.470384Z",
     "iopub.status.idle": "2025-07-30T21:34:13.477086Z",
     "shell.execute_reply": "2025-07-30T21:34:13.475893Z"
    },
    "papermill": {
     "duration": 0.031525,
     "end_time": "2025-07-30T21:34:13.479103",
     "exception": false,
     "start_time": "2025-07-30T21:34:13.447578",
     "status": "completed"
    },
    "tags": [
     "parameters"
    ]
   },
   "outputs": [],
   "source": [
    "run_no = 0\n",
    "universe_id = \"test\"\n",
    "universe = {\n",
    "    \"training_size\": \"25k\", # \"25k\", \"5k\", \"1k\"\n",
    "    \"training_year\": \"2014\", # \"2014\", \"2012_14\", \"2010_14\"\n",
    "    \"scale\": \"scale\", # \"scale\", \"do-not-scale\",\n",
    "    #\"stratify_split\": \"target\", # \"none\", \"target\", \"protected-attribute\", \"both\",\n",
    "    \"model\": \"elasticnet\", # \"logreg\", \"penalized_logreg\", \"rf\", \"gbm\", \"elasticnet\"\n",
    "    \"cutoff\": [\"quantile_0.15\", \"quantile_0.30\"],\n",
    "    \"exclude_features\": \"age\", # \"none\", \"nationality\", \"sex\", \"nationality-sex\", \"age\"\n",
    "    \"exclude_subgroups\": \"keep-all\", # \"keep-all\", \"drop-non-german\"\n",
    "    \"eval_fairness_grouping\": [\"majority-minority\", \"nationality-all\"]\n",
    "}\n",
    "\n",
    "output_dir=\"./output\"\n",
    "seed=0"
   ]
  },
  {
   "cell_type": "code",
   "execution_count": 4,
   "id": "f623e394",
   "metadata": {
    "execution": {
     "iopub.execute_input": "2025-07-30T21:34:13.527150Z",
     "iopub.status.busy": "2025-07-30T21:34:13.526410Z",
     "iopub.status.idle": "2025-07-30T21:34:13.532451Z",
     "shell.execute_reply": "2025-07-30T21:34:13.531444Z"
    },
    "papermill": {
     "duration": 0.032652,
     "end_time": "2025-07-30T21:34:13.534361",
     "exception": false,
     "start_time": "2025-07-30T21:34:13.501709",
     "status": "completed"
    },
    "tags": [
     "injected-parameters"
    ]
   },
   "outputs": [],
   "source": [
    "# Parameters\n",
    "universe_id = \"f7a963de121b4420f79d389821441c5a\"\n",
    "run_no = \"14\"\n",
    "universe = \"{\\\"cutoff\\\": [\\\"quantile_0.1\\\", \\\"quantile_0.25\\\"], \\\"eval_fairness_grouping\\\": [\\\"majority-minority\\\", \\\"nationality-all\\\"], \\\"exclude_features\\\": \\\"sex\\\", \\\"exclude_subgroups\\\": \\\"drop-non-german\\\", \\\"model\\\": \\\"penalized_logreg\\\", \\\"scale\\\": \\\"scale\\\", \\\"training_size\\\": \\\"1k\\\", \\\"training_year\\\": \\\"2012_14\\\"}\"\n",
    "output_dir = \"output\"\n",
    "seed = \"2023\"\n"
   ]
  },
  {
   "cell_type": "code",
   "execution_count": 5,
   "id": "1650acaf",
   "metadata": {
    "execution": {
     "iopub.execute_input": "2025-07-30T21:34:13.585042Z",
     "iopub.status.busy": "2025-07-30T21:34:13.584309Z",
     "iopub.status.idle": "2025-07-30T21:34:13.590125Z",
     "shell.execute_reply": "2025-07-30T21:34:13.589162Z"
    },
    "papermill": {
     "duration": 0.033129,
     "end_time": "2025-07-30T21:34:13.591740",
     "exception": false,
     "start_time": "2025-07-30T21:34:13.558611",
     "status": "completed"
    },
    "tags": []
   },
   "outputs": [],
   "source": [
    "import json\n",
    "# Parse universe into dict if it is passed as a string\n",
    "if isinstance(universe, str):\n",
    "    universe = json.loads(universe)"
   ]
  },
  {
   "cell_type": "code",
   "execution_count": 6,
   "id": "16620c48",
   "metadata": {
    "execution": {
     "iopub.execute_input": "2025-07-30T21:34:13.632751Z",
     "iopub.status.busy": "2025-07-30T21:34:13.631770Z",
     "iopub.status.idle": "2025-07-30T21:34:13.678227Z",
     "shell.execute_reply": "2025-07-30T21:34:13.677333Z"
    },
    "papermill": {
     "duration": 0.068407,
     "end_time": "2025-07-30T21:34:13.680144",
     "exception": false,
     "start_time": "2025-07-30T21:34:13.611737",
     "status": "completed"
    },
    "tags": []
   },
   "outputs": [],
   "source": [
    "# Auto-reload the custom package\n",
    "%load_ext autoreload\n",
    "%autoreload 1\n",
    "%aimport fairness_multiverse"
   ]
  },
  {
   "cell_type": "code",
   "execution_count": 7,
   "id": "01c5c9f3",
   "metadata": {
    "execution": {
     "iopub.execute_input": "2025-07-30T21:34:13.722671Z",
     "iopub.status.busy": "2025-07-30T21:34:13.721794Z",
     "iopub.status.idle": "2025-07-30T21:34:15.629195Z",
     "shell.execute_reply": "2025-07-30T21:34:15.628441Z"
    },
    "papermill": {
     "duration": 1.931572,
     "end_time": "2025-07-30T21:34:15.630703",
     "exception": false,
     "start_time": "2025-07-30T21:34:13.699131",
     "status": "completed"
    },
    "tags": []
   },
   "outputs": [],
   "source": [
    "from fairness_multiverse.universe import UniverseAnalysis\n",
    "\n",
    "universe_analysis = UniverseAnalysis(\n",
    "    run_no = run_no,\n",
    "    universe_id = universe_id,\n",
    "    universe = universe,\n",
    "    output_dir=output_dir,\n",
    ")"
   ]
  },
  {
   "cell_type": "code",
   "execution_count": 8,
   "id": "106241f5",
   "metadata": {
    "execution": {
     "iopub.execute_input": "2025-07-30T21:34:15.661517Z",
     "iopub.status.busy": "2025-07-30T21:34:15.661098Z",
     "iopub.status.idle": "2025-07-30T21:34:15.667664Z",
     "shell.execute_reply": "2025-07-30T21:34:15.666647Z"
    },
    "papermill": {
     "duration": 0.032131,
     "end_time": "2025-07-30T21:34:15.673551",
     "exception": false,
     "start_time": "2025-07-30T21:34:15.641420",
     "status": "completed"
    },
    "tags": []
   },
   "outputs": [
    {
     "name": "stdout",
     "output_type": "stream",
     "text": [
      "Using Seed: 2023\n"
     ]
    }
   ],
   "source": [
    "import numpy as np\n",
    "parsed_seed = int(seed)\n",
    "np.random.seed(parsed_seed)\n",
    "print(f\"Using Seed: {parsed_seed}\")"
   ]
  },
  {
   "cell_type": "markdown",
   "id": "e0ebdc57",
   "metadata": {
    "papermill": {
     "duration": 0.016094,
     "end_time": "2025-07-30T21:34:15.710119",
     "exception": false,
     "start_time": "2025-07-30T21:34:15.694025",
     "status": "completed"
    },
    "tags": []
   },
   "source": [
    "# Loading Data"
   ]
  },
  {
   "cell_type": "markdown",
   "id": "681925a3",
   "metadata": {
    "papermill": {
     "duration": 0.010196,
     "end_time": "2025-07-30T21:34:15.730968",
     "exception": false,
     "start_time": "2025-07-30T21:34:15.720772",
     "status": "completed"
    },
    "tags": []
   },
   "source": [
    "Load siab_train, siab_test, siab_calib and/or \n",
    "load siab_train_features, siab_train_labels"
   ]
  },
  {
   "cell_type": "code",
   "execution_count": 9,
   "id": "f0496b8a",
   "metadata": {
    "execution": {
     "iopub.execute_input": "2025-07-30T21:34:15.759790Z",
     "iopub.status.busy": "2025-07-30T21:34:15.759434Z",
     "iopub.status.idle": "2025-07-30T21:34:26.907079Z",
     "shell.execute_reply": "2025-07-30T21:34:26.905875Z"
    },
    "papermill": {
     "duration": 11.16468,
     "end_time": "2025-07-30T21:34:26.908967",
     "exception": false,
     "start_time": "2025-07-30T21:34:15.744287",
     "status": "completed"
    },
    "tags": []
   },
   "outputs": [
    {
     "name": "stdout",
     "output_type": "stream",
     "text": [
      "Loading SIAB data from cache: data/siab_cached.csv.gz\n"
     ]
    },
    {
     "name": "stdout",
     "output_type": "stream",
     "text": [
      "(643690, 164)\n"
     ]
    }
   ],
   "source": [
    "from pathlib import Path\n",
    "import pandas as pd\n",
    "\n",
    "# File paths\n",
    "raw_file = Path(\"data/raw/siab.csv\")\n",
    "cache_file = Path(\"data/siab_cached.csv.gz\")\n",
    "\n",
    "# Ensure cache directory exists\n",
    "cache_file.parent.mkdir(parents=True, exist_ok=True)\n",
    "\n",
    "# Load with simple caching\n",
    "if cache_file.exists():\n",
    "    print(f\"Loading SIAB data from cache: {cache_file}\")\n",
    "    siab = pd.read_csv(cache_file, compression='gzip')\n",
    "else:\n",
    "    print(f\"Cache not found. Reading raw SIAB data: {raw_file}\")\n",
    "    siab = pd.read_csv(raw_file)\n",
    "    siab.to_csv(cache_file, index=False, compression='gzip')\n",
    "    print(f\"Cached SIAB data to: {cache_file}\")\n",
    "\n",
    "# Now use `siab` DataFrame as needed\n",
    "print(siab.shape)"
   ]
  },
  {
   "cell_type": "code",
   "execution_count": 10,
   "id": "db0ca512-5f53-4dba-abdb-a2888bca41ba",
   "metadata": {
    "execution": {
     "iopub.execute_input": "2025-07-30T21:34:26.963433Z",
     "iopub.status.busy": "2025-07-30T21:34:26.963067Z",
     "iopub.status.idle": "2025-07-30T21:34:26.967854Z",
     "shell.execute_reply": "2025-07-30T21:34:26.967118Z"
    },
    "papermill": {
     "duration": 0.034454,
     "end_time": "2025-07-30T21:34:26.969194",
     "exception": false,
     "start_time": "2025-07-30T21:34:26.934740",
     "status": "completed"
    },
    "tags": []
   },
   "outputs": [],
   "source": [
    "#siab"
   ]
  },
  {
   "cell_type": "code",
   "execution_count": 11,
   "id": "a0edb063",
   "metadata": {
    "execution": {
     "iopub.execute_input": "2025-07-30T21:34:26.994027Z",
     "iopub.status.busy": "2025-07-30T21:34:26.993522Z",
     "iopub.status.idle": "2025-07-30T21:34:26.998217Z",
     "shell.execute_reply": "2025-07-30T21:34:26.997384Z"
    },
    "papermill": {
     "duration": 0.018306,
     "end_time": "2025-07-30T21:34:26.999599",
     "exception": false,
     "start_time": "2025-07-30T21:34:26.981293",
     "status": "completed"
    },
    "tags": []
   },
   "outputs": [],
   "source": [
    "#import pandas as pd\n",
    "#\n",
    "#X_train = pd.read_csv(\"./data/X_train.csv\")\n",
    "#y_train = pd.read_csv(\"./data/y_train.csv\")"
   ]
  },
  {
   "cell_type": "code",
   "execution_count": 12,
   "id": "63d08085",
   "metadata": {
    "execution": {
     "iopub.execute_input": "2025-07-30T21:34:27.024096Z",
     "iopub.status.busy": "2025-07-30T21:34:27.023716Z",
     "iopub.status.idle": "2025-07-30T21:34:27.028209Z",
     "shell.execute_reply": "2025-07-30T21:34:27.027459Z"
    },
    "papermill": {
     "duration": 0.017786,
     "end_time": "2025-07-30T21:34:27.029619",
     "exception": false,
     "start_time": "2025-07-30T21:34:27.011833",
     "status": "completed"
    },
    "tags": []
   },
   "outputs": [],
   "source": [
    "#X_test = pd.read_csv(\"./data/X_test.csv\")\n",
    "#y_true = pd.read_csv(\"./data/y_test.csv\")"
   ]
  },
  {
   "cell_type": "code",
   "execution_count": 13,
   "id": "98a8d0fa-1d3d-4ed8-bb2c-281470e24add",
   "metadata": {
    "execution": {
     "iopub.execute_input": "2025-07-30T21:34:27.058645Z",
     "iopub.status.busy": "2025-07-30T21:34:27.058228Z",
     "iopub.status.idle": "2025-07-30T21:34:27.063180Z",
     "shell.execute_reply": "2025-07-30T21:34:27.062104Z"
    },
    "papermill": {
     "duration": 0.023359,
     "end_time": "2025-07-30T21:34:27.065080",
     "exception": false,
     "start_time": "2025-07-30T21:34:27.041721",
     "status": "completed"
    },
    "tags": []
   },
   "outputs": [],
   "source": [
    "# Calibration data for conformal\n",
    "#X_calib = pd.read_csv(\"./data/X_calib.csv\")\n",
    "#y_calib = pd.read_csv(\"./data/y_calib.csv\")"
   ]
  },
  {
   "cell_type": "markdown",
   "id": "997051c5-15bd-4b69-9786-c3001a3ce484",
   "metadata": {
    "papermill": {
     "duration": 0.011761,
     "end_time": "2025-07-30T21:34:27.089518",
     "exception": false,
     "start_time": "2025-07-30T21:34:27.077757",
     "status": "completed"
    },
    "tags": []
   },
   "source": [
    "# Splitting Data and Setting Training Data Size"
   ]
  },
  {
   "cell_type": "code",
   "execution_count": 14,
   "id": "e993b61f-042d-41a6-8c81-f55681f86335",
   "metadata": {
    "execution": {
     "iopub.execute_input": "2025-07-30T21:34:27.116885Z",
     "iopub.status.busy": "2025-07-30T21:34:27.116539Z",
     "iopub.status.idle": "2025-07-30T21:34:27.126313Z",
     "shell.execute_reply": "2025-07-30T21:34:27.125500Z"
    },
    "papermill": {
     "duration": 0.023815,
     "end_time": "2025-07-30T21:34:27.127655",
     "exception": false,
     "start_time": "2025-07-30T21:34:27.103840",
     "status": "completed"
    },
    "tags": []
   },
   "outputs": [],
   "source": [
    "def sample_by_year_size(df,\n",
    "                        training_year: str,\n",
    "                        training_size: str,\n",
    "                        random_state: int = 42):\n",
    "    # --- parse training_year into a list of int years ---\n",
    "    if \"_\" in training_year:\n",
    "        start_str, end_str = training_year.split(\"_\", 1)\n",
    "        start = int(start_str)\n",
    "        end   = int(end_str) if len(end_str) == 4 else (int(end_str) + (start // 100)*100)\n",
    "        years = list(range(start, end + 1))\n",
    "    else:\n",
    "        years = [int(training_year)]\n",
    "\n",
    "    df = df[df[\"year\"].isin(years)].reset_index(drop=True)\n",
    "\n",
    "    # --- map training_size to total number of samples ---\n",
    "    total_map = {\"25k\": 25_000, \"5k\": 5_000, \"1k\": 1_000}\n",
    "    if training_size not in total_map:\n",
    "        return df  # e.g. \"all\"\n",
    "\n",
    "    total_samples = total_map[training_size]\n",
    "    n_years       = len(years)\n",
    "    base          = total_samples // n_years\n",
    "    remainder     = total_samples % n_years\n",
    "\n",
    "    # --- build a dict: year -> how many to sample ---\n",
    "    # give +1 to the first `remainder` years in ascending order\n",
    "    quotas = {\n",
    "        year: base + (1 if idx < remainder else 0)\n",
    "        for idx, year in enumerate(sorted(years))\n",
    "    }\n",
    "\n",
    "    # --- sample per‐year according to the quota dict ---\n",
    "    sampled = (\n",
    "        df\n",
    "        .groupby(\"year\", group_keys=False)\n",
    "        .apply(lambda grp: grp.sample(\n",
    "            n=min(len(grp), quotas[grp.name]),\n",
    "            random_state=random_state))\n",
    "        .reset_index(drop=True)\n",
    "    )\n",
    "\n",
    "    return sampled"
   ]
  },
  {
   "cell_type": "code",
   "execution_count": 15,
   "id": "c0ccd338-0e02-41f3-a09d-f56f9266e3fb",
   "metadata": {
    "execution": {
     "iopub.execute_input": "2025-07-30T21:34:27.175336Z",
     "iopub.status.busy": "2025-07-30T21:34:27.174847Z",
     "iopub.status.idle": "2025-07-30T21:34:27.180822Z",
     "shell.execute_reply": "2025-07-30T21:34:27.179628Z"
    },
    "papermill": {
     "duration": 0.0348,
     "end_time": "2025-07-30T21:34:27.185716",
     "exception": false,
     "start_time": "2025-07-30T21:34:27.150916",
     "status": "completed"
    },
    "tags": []
   },
   "outputs": [],
   "source": [
    "#universe[\"training_size\"]"
   ]
  },
  {
   "cell_type": "code",
   "execution_count": 16,
   "id": "ca707fd7-8047-4acd-bfa5-66248fbbf8e6",
   "metadata": {
    "execution": {
     "iopub.execute_input": "2025-07-30T21:34:27.232210Z",
     "iopub.status.busy": "2025-07-30T21:34:27.231670Z",
     "iopub.status.idle": "2025-07-30T21:34:27.237469Z",
     "shell.execute_reply": "2025-07-30T21:34:27.236606Z"
    },
    "papermill": {
     "duration": 0.029985,
     "end_time": "2025-07-30T21:34:27.239000",
     "exception": false,
     "start_time": "2025-07-30T21:34:27.209015",
     "status": "completed"
    },
    "tags": []
   },
   "outputs": [],
   "source": [
    "#universe[\"training_year\"]"
   ]
  },
  {
   "cell_type": "code",
   "execution_count": 17,
   "id": "aea9c6ef-6f46-42c8-85eb-5a62025c1508",
   "metadata": {
    "execution": {
     "iopub.execute_input": "2025-07-30T21:34:27.287792Z",
     "iopub.status.busy": "2025-07-30T21:34:27.287385Z",
     "iopub.status.idle": "2025-07-30T21:34:27.864442Z",
     "shell.execute_reply": "2025-07-30T21:34:27.863419Z"
    },
    "papermill": {
     "duration": 0.601692,
     "end_time": "2025-07-30T21:34:27.866585",
     "exception": false,
     "start_time": "2025-07-30T21:34:27.264893",
     "status": "completed"
    },
    "tags": []
   },
   "outputs": [],
   "source": [
    "siab_train = sample_by_year_size(siab,\n",
    "                               training_year=universe[\"training_year\"],\n",
    "                               training_size=universe[\"training_size\"])"
   ]
  },
  {
   "cell_type": "code",
   "execution_count": 18,
   "id": "8d3afb32-789d-442c-8d5d-9f5aa8dd2eed",
   "metadata": {
    "execution": {
     "iopub.execute_input": "2025-07-30T21:34:27.915296Z",
     "iopub.status.busy": "2025-07-30T21:34:27.914800Z",
     "iopub.status.idle": "2025-07-30T21:34:27.919880Z",
     "shell.execute_reply": "2025-07-30T21:34:27.918972Z"
    },
    "papermill": {
     "duration": 0.030832,
     "end_time": "2025-07-30T21:34:27.921531",
     "exception": false,
     "start_time": "2025-07-30T21:34:27.890699",
     "status": "completed"
    },
    "tags": []
   },
   "outputs": [],
   "source": [
    "#siab_train.shape"
   ]
  },
  {
   "cell_type": "code",
   "execution_count": 19,
   "id": "d582db68-1a4c-47fb-84fc-08518dc1975a",
   "metadata": {
    "execution": {
     "iopub.execute_input": "2025-07-30T21:34:27.967430Z",
     "iopub.status.busy": "2025-07-30T21:34:27.966919Z",
     "iopub.status.idle": "2025-07-30T21:34:27.972651Z",
     "shell.execute_reply": "2025-07-30T21:34:27.971622Z"
    },
    "papermill": {
     "duration": 0.031037,
     "end_time": "2025-07-30T21:34:27.974645",
     "exception": false,
     "start_time": "2025-07-30T21:34:27.943608",
     "status": "completed"
    },
    "tags": []
   },
   "outputs": [],
   "source": [
    "#display(siab_train.groupby(\"year\").size())"
   ]
  },
  {
   "cell_type": "code",
   "execution_count": 20,
   "id": "a561edb4-d032-42cb-8256-22eac1111c64",
   "metadata": {
    "execution": {
     "iopub.execute_input": "2025-07-30T21:34:28.019617Z",
     "iopub.status.busy": "2025-07-30T21:34:28.019101Z",
     "iopub.status.idle": "2025-07-30T21:34:28.329153Z",
     "shell.execute_reply": "2025-07-30T21:34:28.328348Z"
    },
    "papermill": {
     "duration": 0.334218,
     "end_time": "2025-07-30T21:34:28.330945",
     "exception": false,
     "start_time": "2025-07-30T21:34:27.996727",
     "status": "completed"
    },
    "tags": []
   },
   "outputs": [],
   "source": [
    "#siab_train = siab_s[siab_s.year < 2015]\n",
    "siab_calib = siab[siab.year == 2015]\n",
    "siab_test = siab[siab.year == 2016]"
   ]
  },
  {
   "cell_type": "code",
   "execution_count": 21,
   "id": "472de16f-c3db-4916-846b-1f0de9cf1746",
   "metadata": {
    "execution": {
     "iopub.execute_input": "2025-07-30T21:34:28.375044Z",
     "iopub.status.busy": "2025-07-30T21:34:28.374608Z",
     "iopub.status.idle": "2025-07-30T21:34:28.381617Z",
     "shell.execute_reply": "2025-07-30T21:34:28.380666Z"
    },
    "papermill": {
     "duration": 0.031199,
     "end_time": "2025-07-30T21:34:28.383333",
     "exception": false,
     "start_time": "2025-07-30T21:34:28.352134",
     "status": "completed"
    },
    "tags": []
   },
   "outputs": [],
   "source": [
    "X_train = siab_train.iloc[:,4:164]\n",
    "y_train = siab_train.iloc[:, [3]]"
   ]
  },
  {
   "cell_type": "code",
   "execution_count": 22,
   "id": "828c96af-f43a-4ed6-ba47-8ac73a47d56c",
   "metadata": {
    "execution": {
     "iopub.execute_input": "2025-07-30T21:34:28.426454Z",
     "iopub.status.busy": "2025-07-30T21:34:28.425600Z",
     "iopub.status.idle": "2025-07-30T21:34:28.477597Z",
     "shell.execute_reply": "2025-07-30T21:34:28.476603Z"
    },
    "papermill": {
     "duration": 0.074972,
     "end_time": "2025-07-30T21:34:28.479490",
     "exception": false,
     "start_time": "2025-07-30T21:34:28.404518",
     "status": "completed"
    },
    "tags": []
   },
   "outputs": [],
   "source": [
    "X_calib = siab_calib.iloc[:,4:164]\n",
    "y_calib = siab_calib.iloc[:, [3]]"
   ]
  },
  {
   "cell_type": "code",
   "execution_count": 23,
   "id": "c34be9c3-6bd6-476e-acd3-845840e303be",
   "metadata": {
    "execution": {
     "iopub.execute_input": "2025-07-30T21:34:28.524258Z",
     "iopub.status.busy": "2025-07-30T21:34:28.523544Z",
     "iopub.status.idle": "2025-07-30T21:34:28.574675Z",
     "shell.execute_reply": "2025-07-30T21:34:28.573888Z"
    },
    "papermill": {
     "duration": 0.073223,
     "end_time": "2025-07-30T21:34:28.575913",
     "exception": false,
     "start_time": "2025-07-30T21:34:28.502690",
     "status": "completed"
    },
    "tags": []
   },
   "outputs": [],
   "source": [
    "X_test = siab_test.iloc[:,4:164]\n",
    "y_true = siab_test.iloc[:, [3]]"
   ]
  },
  {
   "cell_type": "markdown",
   "id": "9901737e-04df-44f0-9100-f5ad144ed040",
   "metadata": {
    "papermill": {
     "duration": 0.011003,
     "end_time": "2025-07-30T21:34:28.599171",
     "exception": false,
     "start_time": "2025-07-30T21:34:28.588168",
     "status": "completed"
    },
    "tags": []
   },
   "source": [
    "# Splitting Data and Setting Training Data Size OLD VERSION"
   ]
  },
  {
   "cell_type": "code",
   "execution_count": 24,
   "id": "acbc8f7d-8fc8-4e86-8c59-5dcb0f58384b",
   "metadata": {
    "execution": {
     "iopub.execute_input": "2025-07-30T21:34:28.649755Z",
     "iopub.status.busy": "2025-07-30T21:34:28.649290Z",
     "iopub.status.idle": "2025-07-30T21:34:28.654854Z",
     "shell.execute_reply": "2025-07-30T21:34:28.653961Z"
    },
    "papermill": {
     "duration": 0.040368,
     "end_time": "2025-07-30T21:34:28.656599",
     "exception": false,
     "start_time": "2025-07-30T21:34:28.616231",
     "status": "completed"
    },
    "tags": []
   },
   "outputs": [],
   "source": [
    "#def sample_by_year(df, training_size, random_state=42):\n",
    "#    if training_size == \"2014\":\n",
    "#        return df[df[\"year\"] == 2014].reset_index(drop=True)\n",
    "#    \n",
    "#    size_map = {\n",
    "#        \"25k\": 5000,\n",
    "#        \"5k\": 1000,\n",
    "#        \"1k\": 200\n",
    "#    }\n",
    "#\n",
    "#    if training_size not in size_map:\n",
    "#        return df.reset_index(drop=True)  # use all data\n",
    "#\n",
    "#    n_per_year = size_map[training_size]\n",
    "#    grouped = df.groupby(\"year\")\n",
    "#    sampled = grouped.apply(lambda x: x.sample(n=min(n_per_year, len(x)), random_state=random_state))\n",
    "#    return sampled.reset_index(drop=True)"
   ]
  },
  {
   "cell_type": "code",
   "execution_count": 25,
   "id": "6d931f52-beaf-43ff-9e78-9d44a448d54e",
   "metadata": {
    "execution": {
     "iopub.execute_input": "2025-07-30T21:34:28.695277Z",
     "iopub.status.busy": "2025-07-30T21:34:28.694899Z",
     "iopub.status.idle": "2025-07-30T21:34:28.699550Z",
     "shell.execute_reply": "2025-07-30T21:34:28.698779Z"
    },
    "papermill": {
     "duration": 0.018082,
     "end_time": "2025-07-30T21:34:28.700960",
     "exception": false,
     "start_time": "2025-07-30T21:34:28.682878",
     "status": "completed"
    },
    "tags": []
   },
   "outputs": [],
   "source": [
    "#siab_s = sample_by_year(siab, universe[\"training_size\"])"
   ]
  },
  {
   "cell_type": "code",
   "execution_count": 26,
   "id": "5db0a40e-a4e2-4920-be85-b12ae061d70d",
   "metadata": {
    "execution": {
     "iopub.execute_input": "2025-07-30T21:34:28.733834Z",
     "iopub.status.busy": "2025-07-30T21:34:28.733356Z",
     "iopub.status.idle": "2025-07-30T21:34:28.739260Z",
     "shell.execute_reply": "2025-07-30T21:34:28.738192Z"
    },
    "papermill": {
     "duration": 0.028975,
     "end_time": "2025-07-30T21:34:28.741967",
     "exception": false,
     "start_time": "2025-07-30T21:34:28.712992",
     "status": "completed"
    },
    "tags": []
   },
   "outputs": [],
   "source": [
    "#display(siab_s.groupby(\"year\").size())"
   ]
  },
  {
   "cell_type": "code",
   "execution_count": 27,
   "id": "e6c733c5",
   "metadata": {
    "execution": {
     "iopub.execute_input": "2025-07-30T21:34:28.787540Z",
     "iopub.status.busy": "2025-07-30T21:34:28.787080Z",
     "iopub.status.idle": "2025-07-30T21:34:28.900374Z",
     "shell.execute_reply": "2025-07-30T21:34:28.899147Z"
    },
    "papermill": {
     "duration": 0.131142,
     "end_time": "2025-07-30T21:34:28.902414",
     "exception": false,
     "start_time": "2025-07-30T21:34:28.771272",
     "status": "completed"
    },
    "tags": []
   },
   "outputs": [],
   "source": [
    "# Auxiliary data needed downstream in the pipeline\n",
    "\n",
    "org_train = X_train.copy()\n",
    "org_test = X_test.copy()\n",
    "org_calib = X_calib.copy()"
   ]
  },
  {
   "cell_type": "code",
   "execution_count": 28,
   "id": "1466abac-c6da-4492-a62f-4240ae3783af",
   "metadata": {
    "execution": {
     "iopub.execute_input": "2025-07-30T21:34:28.953382Z",
     "iopub.status.busy": "2025-07-30T21:34:28.952528Z",
     "iopub.status.idle": "2025-07-30T21:34:28.959091Z",
     "shell.execute_reply": "2025-07-30T21:34:28.957947Z"
    },
    "papermill": {
     "duration": 0.033594,
     "end_time": "2025-07-30T21:34:28.960852",
     "exception": false,
     "start_time": "2025-07-30T21:34:28.927258",
     "status": "completed"
    },
    "tags": []
   },
   "outputs": [],
   "source": [
    "# put in other script?\n",
    "# Group sizes\n",
    "\n",
    "#def calculate_percentages(df, df_name):\n",
    "#    total_entries = len(df)\n",
    "#\n",
    "#    female_pct = (df['frau1'] == 1).mean() * 100\n",
    "#    non_german_pct = ((df['maxdeutsch1'] == 0) & (df['maxdeutsch.Missing.'] == 0)).mean() * 100\n",
    "#    non_german_male_pct = ((df['frau1'] == 0) & (df['maxdeutsch1'] == 0) & (df['maxdeutsch.Missing.'] == 0)).mean() * 100\n",
    "#    non_german_female_pct = ((df['frau1'] == 1) & (df['maxdeutsch1'] == 0) & (df['maxdeutsch.Missing.'] == 0)).mean() * 100\n",
    "#\n",
    "#    print(f\"--- {df_name} ---\")\n",
    "#    print(f\"Female: {female_pct:.2f}%\")\n",
    "#    print(f\"Non-German: {non_german_pct:.2f}%\")\n",
    "#    print(f\"Non-German Male: {non_german_male_pct:.2f}%\")\n",
    "#    print(f\"Non-German Female: {non_german_female_pct:.2f}%\\n\")\n",
    "#\n",
    "## Calculate for each DataFrame\n",
    "#calculate_percentages(siab_calib, \"siab_calib\")\n",
    "#calculate_percentages(siab_test, \"siab_test\")\n",
    "#calculate_percentages(siab_train, \"siab_train\")"
   ]
  },
  {
   "cell_type": "markdown",
   "id": "0a4a1b33",
   "metadata": {
    "papermill": {
     "duration": 0.022985,
     "end_time": "2025-07-30T21:34:29.007662",
     "exception": false,
     "start_time": "2025-07-30T21:34:28.984677",
     "status": "completed"
    },
    "tags": []
   },
   "source": [
    "# Preprocessing Data"
   ]
  },
  {
   "cell_type": "code",
   "execution_count": 29,
   "id": "ca879031",
   "metadata": {
    "execution": {
     "iopub.execute_input": "2025-07-30T21:34:29.053030Z",
     "iopub.status.busy": "2025-07-30T21:34:29.052547Z",
     "iopub.status.idle": "2025-07-30T21:34:29.058470Z",
     "shell.execute_reply": "2025-07-30T21:34:29.057493Z"
    },
    "papermill": {
     "duration": 0.030819,
     "end_time": "2025-07-30T21:34:29.060210",
     "exception": false,
     "start_time": "2025-07-30T21:34:29.029391",
     "status": "completed"
    },
    "tags": []
   },
   "outputs": [],
   "source": [
    "# EXCLUDE PROTECTED FEATURES\n",
    "# ----------------------\n",
    "# \"exclude_features\": \"none\", # \"nationality\", \"sex\", \"nationality-sex\"\n",
    "\n",
    "excluded_features = universe[\"exclude_features\"].split(\"-\") # split, e.g.: \"nationality-sex\" -> [\"nationality\", \"sex\"]\n",
    "excluded_features_dictionary = {\n",
    "    \"nationality\": [\"maxdeutsch1\", \"maxdeutsch.Missing.\"],\n",
    "    \"sex\": [\"frau1\"],\n",
    "    \"age\": [\"age\"],\n",
    "}\n"
   ]
  },
  {
   "cell_type": "code",
   "execution_count": 30,
   "id": "b745ac60",
   "metadata": {
    "execution": {
     "iopub.execute_input": "2025-07-30T21:34:29.105099Z",
     "iopub.status.busy": "2025-07-30T21:34:29.104542Z",
     "iopub.status.idle": "2025-07-30T21:34:29.110290Z",
     "shell.execute_reply": "2025-07-30T21:34:29.109201Z"
    },
    "papermill": {
     "duration": 0.03009,
     "end_time": "2025-07-30T21:34:29.112153",
     "exception": false,
     "start_time": "2025-07-30T21:34:29.082063",
     "status": "completed"
    },
    "tags": []
   },
   "outputs": [],
   "source": [
    "# Code nice names to column names\n",
    "\n",
    "excluded_features_columns = [\n",
    "    excluded_features_dictionary[f] for f in excluded_features if len(f) > 0 and f != \"none\"\n",
    "]"
   ]
  },
  {
   "cell_type": "code",
   "execution_count": 31,
   "id": "f84f73a2",
   "metadata": {
    "execution": {
     "iopub.execute_input": "2025-07-30T21:34:29.158380Z",
     "iopub.status.busy": "2025-07-30T21:34:29.157901Z",
     "iopub.status.idle": "2025-07-30T21:34:29.164318Z",
     "shell.execute_reply": "2025-07-30T21:34:29.163567Z"
    },
    "papermill": {
     "duration": 0.030396,
     "end_time": "2025-07-30T21:34:29.165675",
     "exception": false,
     "start_time": "2025-07-30T21:34:29.135279",
     "status": "completed"
    },
    "tags": []
   },
   "outputs": [],
   "source": [
    "from utils import flatten_once\n",
    "\n",
    "excluded_features_columns = flatten_once(excluded_features_columns)"
   ]
  },
  {
   "cell_type": "code",
   "execution_count": 32,
   "id": "884dea22",
   "metadata": {
    "execution": {
     "iopub.execute_input": "2025-07-30T21:34:29.191343Z",
     "iopub.status.busy": "2025-07-30T21:34:29.190641Z",
     "iopub.status.idle": "2025-07-30T21:34:29.199508Z",
     "shell.execute_reply": "2025-07-30T21:34:29.198438Z"
    },
    "papermill": {
     "duration": 0.023105,
     "end_time": "2025-07-30T21:34:29.201366",
     "exception": false,
     "start_time": "2025-07-30T21:34:29.178261",
     "status": "completed"
    },
    "tags": []
   },
   "outputs": [
    {
     "name": "stdout",
     "output_type": "stream",
     "text": [
      "Dropping features: ['frau1']\n"
     ]
    }
   ],
   "source": [
    "if len(excluded_features_columns) > 0:\n",
    "    print(f\"Dropping features: {excluded_features_columns}\")\n",
    "    X_train.drop(excluded_features_columns, axis=1, inplace=True)"
   ]
  },
  {
   "cell_type": "code",
   "execution_count": 33,
   "id": "95ab8b16",
   "metadata": {
    "execution": {
     "iopub.execute_input": "2025-07-30T21:34:29.231495Z",
     "iopub.status.busy": "2025-07-30T21:34:29.231010Z",
     "iopub.status.idle": "2025-07-30T21:34:29.280631Z",
     "shell.execute_reply": "2025-07-30T21:34:29.279875Z"
    },
    "papermill": {
     "duration": 0.064415,
     "end_time": "2025-07-30T21:34:29.282146",
     "exception": false,
     "start_time": "2025-07-30T21:34:29.217731",
     "status": "completed"
    },
    "tags": []
   },
   "outputs": [
    {
     "name": "stdout",
     "output_type": "stream",
     "text": [
      "Dropping features: ['frau1']\n"
     ]
    }
   ],
   "source": [
    "if len(excluded_features_columns) > 0:\n",
    "    print(f\"Dropping features: {excluded_features_columns}\")\n",
    "    X_test.drop(excluded_features_columns, axis=1, inplace=True)"
   ]
  },
  {
   "cell_type": "code",
   "execution_count": 34,
   "id": "1853aaf5-fb9f-46cb-a2b5-8ea4ae2237e4",
   "metadata": {
    "execution": {
     "iopub.execute_input": "2025-07-30T21:34:29.326658Z",
     "iopub.status.busy": "2025-07-30T21:34:29.326241Z",
     "iopub.status.idle": "2025-07-30T21:34:29.378758Z",
     "shell.execute_reply": "2025-07-30T21:34:29.377664Z"
    },
    "papermill": {
     "duration": 0.077776,
     "end_time": "2025-07-30T21:34:29.380293",
     "exception": false,
     "start_time": "2025-07-30T21:34:29.302517",
     "status": "completed"
    },
    "tags": []
   },
   "outputs": [
    {
     "name": "stdout",
     "output_type": "stream",
     "text": [
      "Dropping features: ['frau1']\n"
     ]
    }
   ],
   "source": [
    "if len(excluded_features_columns) > 0:\n",
    "    print(f\"Dropping features: {excluded_features_columns}\")\n",
    "    X_calib.drop(excluded_features_columns, axis=1, inplace=True)"
   ]
  },
  {
   "cell_type": "code",
   "execution_count": 35,
   "id": "6727d079-03e5-481e-9d38-292a90b7a0a8",
   "metadata": {
    "execution": {
     "iopub.execute_input": "2025-07-30T21:34:29.429396Z",
     "iopub.status.busy": "2025-07-30T21:34:29.428770Z",
     "iopub.status.idle": "2025-07-30T21:34:29.434023Z",
     "shell.execute_reply": "2025-07-30T21:34:29.432944Z"
    },
    "papermill": {
     "duration": 0.03096,
     "end_time": "2025-07-30T21:34:29.435749",
     "exception": false,
     "start_time": "2025-07-30T21:34:29.404789",
     "status": "completed"
    },
    "tags": []
   },
   "outputs": [],
   "source": [
    "# SPLIT & STRATIFY DATA\n",
    "# ----------------------"
   ]
  },
  {
   "cell_type": "code",
   "execution_count": 36,
   "id": "76c4dc6d",
   "metadata": {
    "execution": {
     "iopub.execute_input": "2025-07-30T21:34:29.466551Z",
     "iopub.status.busy": "2025-07-30T21:34:29.466085Z",
     "iopub.status.idle": "2025-07-30T21:34:29.470423Z",
     "shell.execute_reply": "2025-07-30T21:34:29.469707Z"
    },
    "papermill": {
     "duration": 0.018292,
     "end_time": "2025-07-30T21:34:29.471711",
     "exception": false,
     "start_time": "2025-07-30T21:34:29.453419",
     "status": "completed"
    },
    "tags": []
   },
   "outputs": [],
   "source": [
    "# EXCLUDE CERTAIN SUBGROUPS\n",
    "# ----------------------\n",
    "\n",
    "mode = universe.get(\"exclude_subgroups\", \"keep-all\") \n",
    "# Fetches the exclude_subgroups setting from the universe dict.\n",
    "# Defaults to \"keep-all\" if the key is missing."
   ]
  },
  {
   "cell_type": "code",
   "execution_count": 37,
   "id": "21994072",
   "metadata": {
    "execution": {
     "iopub.execute_input": "2025-07-30T21:34:29.498194Z",
     "iopub.status.busy": "2025-07-30T21:34:29.497496Z",
     "iopub.status.idle": "2025-07-30T21:34:29.503258Z",
     "shell.execute_reply": "2025-07-30T21:34:29.502418Z"
    },
    "papermill": {
     "duration": 0.020908,
     "end_time": "2025-07-30T21:34:29.505546",
     "exception": false,
     "start_time": "2025-07-30T21:34:29.484638",
     "status": "completed"
    },
    "tags": []
   },
   "outputs": [],
   "source": [
    "if mode == \"keep-all\":\n",
    "    keep_mask = pd.Series(True, index=org_train.index)\n",
    "\n",
    "# org_train contains the original feature columns from features_org (in Simson)\n",
    "# features_org contains unprocessed features, for me X_train at beginning ???\n",
    "# For keep-all, creates a boolean Series (keep_mask) of all True, so no rows are removed.\n",
    "\n",
    "elif mode == \"drop-non-german\":\n",
    "    keep_mask = org_train[\"maxdeutsch1\"] == 1 # ??? what about missing values?\n",
    "\n",
    "else:\n",
    "    raise ValueError(f\"Unsupported mode for exclude_subgroups: {mode}\")\n"
   ]
  },
  {
   "cell_type": "code",
   "execution_count": 38,
   "id": "71651440",
   "metadata": {
    "execution": {
     "iopub.execute_input": "2025-07-30T21:34:29.542433Z",
     "iopub.status.busy": "2025-07-30T21:34:29.542016Z",
     "iopub.status.idle": "2025-07-30T21:34:29.548435Z",
     "shell.execute_reply": "2025-07-30T21:34:29.547734Z"
    },
    "papermill": {
     "duration": 0.030361,
     "end_time": "2025-07-30T21:34:29.549802",
     "exception": false,
     "start_time": "2025-07-30T21:34:29.519441",
     "status": "completed"
    },
    "tags": []
   },
   "outputs": [
    {
     "name": "stdout",
     "output_type": "stream",
     "text": [
      "Dropping 147 rows (14.70%) where mode='drop-non-german'\n"
     ]
    }
   ],
   "source": [
    "n_drop = (~keep_mask).sum() # Calculates how many rows are set to be dropped\n",
    "if n_drop > 0:\n",
    "    pct = n_drop / len(keep_mask) * 100\n",
    "    print(f\"Dropping {n_drop} rows ({pct:.2f}%) where mode='{mode}'\")"
   ]
  },
  {
   "cell_type": "code",
   "execution_count": 39,
   "id": "5fb8eee5",
   "metadata": {
    "execution": {
     "iopub.execute_input": "2025-07-30T21:34:29.576541Z",
     "iopub.status.busy": "2025-07-30T21:34:29.576046Z",
     "iopub.status.idle": "2025-07-30T21:34:29.581777Z",
     "shell.execute_reply": "2025-07-30T21:34:29.581044Z"
    },
    "papermill": {
     "duration": 0.020489,
     "end_time": "2025-07-30T21:34:29.583130",
     "exception": false,
     "start_time": "2025-07-30T21:34:29.562641",
     "status": "completed"
    },
    "tags": []
   },
   "outputs": [],
   "source": [
    "X_train = X_train[keep_mask]"
   ]
  },
  {
   "cell_type": "code",
   "execution_count": 40,
   "id": "b202bb3a",
   "metadata": {
    "execution": {
     "iopub.execute_input": "2025-07-30T21:34:29.609703Z",
     "iopub.status.busy": "2025-07-30T21:34:29.609010Z",
     "iopub.status.idle": "2025-07-30T21:34:29.614036Z",
     "shell.execute_reply": "2025-07-30T21:34:29.613371Z"
    },
    "papermill": {
     "duration": 0.019099,
     "end_time": "2025-07-30T21:34:29.615344",
     "exception": false,
     "start_time": "2025-07-30T21:34:29.596245",
     "status": "completed"
    },
    "tags": []
   },
   "outputs": [],
   "source": [
    "y_train = y_train[keep_mask]"
   ]
  },
  {
   "cell_type": "markdown",
   "id": "493e2ac3",
   "metadata": {
    "papermill": {
     "duration": 0.026407,
     "end_time": "2025-07-30T21:34:29.659068",
     "exception": false,
     "start_time": "2025-07-30T21:34:29.632661",
     "status": "completed"
    },
    "tags": []
   },
   "source": [
    "# Model Training"
   ]
  },
  {
   "cell_type": "code",
   "execution_count": 41,
   "id": "679e1268",
   "metadata": {
    "execution": {
     "iopub.execute_input": "2025-07-30T21:34:29.713341Z",
     "iopub.status.busy": "2025-07-30T21:34:29.712905Z",
     "iopub.status.idle": "2025-07-30T21:34:29.802247Z",
     "shell.execute_reply": "2025-07-30T21:34:29.801516Z"
    },
    "papermill": {
     "duration": 0.119001,
     "end_time": "2025-07-30T21:34:29.804200",
     "exception": false,
     "start_time": "2025-07-30T21:34:29.685199",
     "status": "completed"
    },
    "tags": []
   },
   "outputs": [],
   "source": [
    "from sklearn.linear_model import LogisticRegression\n",
    "from sklearn.ensemble import GradientBoostingClassifier, RandomForestClassifier\n",
    "\n",
    "if (universe[\"model\"] == \"logreg\"):\n",
    "    model = LogisticRegression() #penalty=\"none\") #, solver=\"newton-cg\", max_iter=1) # include random_state=19 ?\n",
    "elif (universe[\"model\"] == \"penalized_logreg\"):\n",
    "    model = LogisticRegression(penalty=\"l2\", C=1.0) #, solver=\"newton-cg\", max_iter=1)\n",
    "elif (universe[\"model\"] == \"rf\"):\n",
    "    model = RandomForestClassifier(n_estimators=100, n_jobs=-1)\n",
    "elif (universe[\"model\"] == \"gbm\"):\n",
    "    model = GradientBoostingClassifier()\n",
    "elif (universe[\"model\"] == \"elasticnet\"):\n",
    "    model = LogisticRegression(penalty = 'elasticnet', solver = 'saga', l1_ratio = 0.5, max_iter=5000) # which solver to use?\n",
    "else:\n",
    "    raise \"Unsupported universe.model\""
   ]
  },
  {
   "cell_type": "code",
   "execution_count": 42,
   "id": "0cc8f744",
   "metadata": {
    "execution": {
     "iopub.execute_input": "2025-07-30T21:34:29.870647Z",
     "iopub.status.busy": "2025-07-30T21:34:29.869870Z",
     "iopub.status.idle": "2025-07-30T21:34:29.877586Z",
     "shell.execute_reply": "2025-07-30T21:34:29.876425Z"
    },
    "papermill": {
     "duration": 0.032554,
     "end_time": "2025-07-30T21:34:29.879417",
     "exception": false,
     "start_time": "2025-07-30T21:34:29.846863",
     "status": "completed"
    },
    "tags": []
   },
   "outputs": [],
   "source": [
    "import numpy as np\n",
    "from sklearn.pipeline import Pipeline\n",
    "from sklearn.preprocessing import StandardScaler\n",
    "\n",
    "model = Pipeline([\n",
    "    #(\"continuous_processor\", continuous_processor),\n",
    "    #(\"categorical_preprocessor\", categorical_preprocessor),\n",
    "    (\"scale\", StandardScaler() if universe[\"scale\"] == \"scale\" else None), \n",
    "    (\"model\", model),\n",
    "])"
   ]
  },
  {
   "cell_type": "code",
   "execution_count": 43,
   "id": "9442c04d",
   "metadata": {
    "execution": {
     "iopub.execute_input": "2025-07-30T21:34:29.929614Z",
     "iopub.status.busy": "2025-07-30T21:34:29.928907Z",
     "iopub.status.idle": "2025-07-30T21:34:30.012558Z",
     "shell.execute_reply": "2025-07-30T21:34:29.999553Z"
    },
    "papermill": {
     "duration": 0.109986,
     "end_time": "2025-07-30T21:34:30.014616",
     "exception": false,
     "start_time": "2025-07-30T21:34:29.904630",
     "status": "completed"
    },
    "tags": []
   },
   "outputs": [
    {
     "name": "stderr",
     "output_type": "stream",
     "text": [
      "/dss/dsshome1/0C/ra93lal2/.local/share/virtualenvs/CMA_Fairness_v2-3j10GkSs/lib/python3.10/site-packages/sklearn/linear_model/_logistic.py:444: ConvergenceWarning: lbfgs failed to converge (status=1):\n",
      "STOP: TOTAL NO. of ITERATIONS REACHED LIMIT.\n",
      "\n",
      "Increase the number of iterations (max_iter) or scale the data as shown in:\n",
      "    https://scikit-learn.org/stable/modules/preprocessing.html\n",
      "Please also refer to the documentation for alternative solver options:\n",
      "    https://scikit-learn.org/stable/modules/linear_model.html#logistic-regression\n",
      "  n_iter_i = _check_optimize_result(\n"
     ]
    },
    {
     "data": {
      "text/html": [
       "<style>#sk-container-id-1 {color: black;background-color: white;}#sk-container-id-1 pre{padding: 0;}#sk-container-id-1 div.sk-toggleable {background-color: white;}#sk-container-id-1 label.sk-toggleable__label {cursor: pointer;display: block;width: 100%;margin-bottom: 0;padding: 0.3em;box-sizing: border-box;text-align: center;}#sk-container-id-1 label.sk-toggleable__label-arrow:before {content: \"▸\";float: left;margin-right: 0.25em;color: #696969;}#sk-container-id-1 label.sk-toggleable__label-arrow:hover:before {color: black;}#sk-container-id-1 div.sk-estimator:hover label.sk-toggleable__label-arrow:before {color: black;}#sk-container-id-1 div.sk-toggleable__content {max-height: 0;max-width: 0;overflow: hidden;text-align: left;background-color: #f0f8ff;}#sk-container-id-1 div.sk-toggleable__content pre {margin: 0.2em;color: black;border-radius: 0.25em;background-color: #f0f8ff;}#sk-container-id-1 input.sk-toggleable__control:checked~div.sk-toggleable__content {max-height: 200px;max-width: 100%;overflow: auto;}#sk-container-id-1 input.sk-toggleable__control:checked~label.sk-toggleable__label-arrow:before {content: \"▾\";}#sk-container-id-1 div.sk-estimator input.sk-toggleable__control:checked~label.sk-toggleable__label {background-color: #d4ebff;}#sk-container-id-1 div.sk-label input.sk-toggleable__control:checked~label.sk-toggleable__label {background-color: #d4ebff;}#sk-container-id-1 input.sk-hidden--visually {border: 0;clip: rect(1px 1px 1px 1px);clip: rect(1px, 1px, 1px, 1px);height: 1px;margin: -1px;overflow: hidden;padding: 0;position: absolute;width: 1px;}#sk-container-id-1 div.sk-estimator {font-family: monospace;background-color: #f0f8ff;border: 1px dotted black;border-radius: 0.25em;box-sizing: border-box;margin-bottom: 0.5em;}#sk-container-id-1 div.sk-estimator:hover {background-color: #d4ebff;}#sk-container-id-1 div.sk-parallel-item::after {content: \"\";width: 100%;border-bottom: 1px solid gray;flex-grow: 1;}#sk-container-id-1 div.sk-label:hover label.sk-toggleable__label {background-color: #d4ebff;}#sk-container-id-1 div.sk-serial::before {content: \"\";position: absolute;border-left: 1px solid gray;box-sizing: border-box;top: 0;bottom: 0;left: 50%;z-index: 0;}#sk-container-id-1 div.sk-serial {display: flex;flex-direction: column;align-items: center;background-color: white;padding-right: 0.2em;padding-left: 0.2em;position: relative;}#sk-container-id-1 div.sk-item {position: relative;z-index: 1;}#sk-container-id-1 div.sk-parallel {display: flex;align-items: stretch;justify-content: center;background-color: white;position: relative;}#sk-container-id-1 div.sk-item::before, #sk-container-id-1 div.sk-parallel-item::before {content: \"\";position: absolute;border-left: 1px solid gray;box-sizing: border-box;top: 0;bottom: 0;left: 50%;z-index: -1;}#sk-container-id-1 div.sk-parallel-item {display: flex;flex-direction: column;z-index: 1;position: relative;background-color: white;}#sk-container-id-1 div.sk-parallel-item:first-child::after {align-self: flex-end;width: 50%;}#sk-container-id-1 div.sk-parallel-item:last-child::after {align-self: flex-start;width: 50%;}#sk-container-id-1 div.sk-parallel-item:only-child::after {width: 0;}#sk-container-id-1 div.sk-dashed-wrapped {border: 1px dashed gray;margin: 0 0.4em 0.5em 0.4em;box-sizing: border-box;padding-bottom: 0.4em;background-color: white;}#sk-container-id-1 div.sk-label label {font-family: monospace;font-weight: bold;display: inline-block;line-height: 1.2em;}#sk-container-id-1 div.sk-label-container {text-align: center;}#sk-container-id-1 div.sk-container {/* jupyter's `normalize.less` sets `[hidden] { display: none; }` but bootstrap.min.css set `[hidden] { display: none !important; }` so we also need the `!important` here to be able to override the default hidden behavior on the sphinx rendered scikit-learn.org. See: https://github.com/scikit-learn/scikit-learn/issues/21755 */display: inline-block !important;position: relative;}#sk-container-id-1 div.sk-text-repr-fallback {display: none;}</style><div id=\"sk-container-id-1\" class=\"sk-top-container\"><div class=\"sk-text-repr-fallback\"><pre>Pipeline(steps=[(&#x27;scale&#x27;, StandardScaler()), (&#x27;model&#x27;, LogisticRegression())])</pre><b>In a Jupyter environment, please rerun this cell to show the HTML representation or trust the notebook. <br />On GitHub, the HTML representation is unable to render, please try loading this page with nbviewer.org.</b></div><div class=\"sk-container\" hidden><div class=\"sk-item sk-dashed-wrapped\"><div class=\"sk-label-container\"><div class=\"sk-label sk-toggleable\"><input class=\"sk-toggleable__control sk-hidden--visually\" id=\"sk-estimator-id-1\" type=\"checkbox\" ><label for=\"sk-estimator-id-1\" class=\"sk-toggleable__label sk-toggleable__label-arrow\">Pipeline</label><div class=\"sk-toggleable__content\"><pre>Pipeline(steps=[(&#x27;scale&#x27;, StandardScaler()), (&#x27;model&#x27;, LogisticRegression())])</pre></div></div></div><div class=\"sk-serial\"><div class=\"sk-item\"><div class=\"sk-estimator sk-toggleable\"><input class=\"sk-toggleable__control sk-hidden--visually\" id=\"sk-estimator-id-2\" type=\"checkbox\" ><label for=\"sk-estimator-id-2\" class=\"sk-toggleable__label sk-toggleable__label-arrow\">StandardScaler</label><div class=\"sk-toggleable__content\"><pre>StandardScaler()</pre></div></div></div><div class=\"sk-item\"><div class=\"sk-estimator sk-toggleable\"><input class=\"sk-toggleable__control sk-hidden--visually\" id=\"sk-estimator-id-3\" type=\"checkbox\" ><label for=\"sk-estimator-id-3\" class=\"sk-toggleable__label sk-toggleable__label-arrow\">LogisticRegression</label><div class=\"sk-toggleable__content\"><pre>LogisticRegression()</pre></div></div></div></div></div></div></div>"
      ],
      "text/plain": [
       "Pipeline(steps=[('scale', StandardScaler()), ('model', LogisticRegression())])"
      ]
     },
     "execution_count": 43,
     "metadata": {},
     "output_type": "execute_result"
    }
   ],
   "source": [
    "model.fit(X_train, y_train.values.ravel())"
   ]
  },
  {
   "cell_type": "code",
   "execution_count": 44,
   "id": "af59f8c0",
   "metadata": {
    "execution": {
     "iopub.execute_input": "2025-07-30T21:34:30.063687Z",
     "iopub.status.busy": "2025-07-30T21:34:30.063021Z",
     "iopub.status.idle": "2025-07-30T21:34:30.068517Z",
     "shell.execute_reply": "2025-07-30T21:34:30.067448Z"
    },
    "papermill": {
     "duration": 0.032462,
     "end_time": "2025-07-30T21:34:30.070218",
     "exception": false,
     "start_time": "2025-07-30T21:34:30.037756",
     "status": "completed"
    },
    "tags": []
   },
   "outputs": [],
   "source": [
    "from fairness_multiverse.universe import predict_w_threshold"
   ]
  },
  {
   "cell_type": "code",
   "execution_count": 45,
   "id": "a7cf2e16",
   "metadata": {
    "execution": {
     "iopub.execute_input": "2025-07-30T21:34:30.122987Z",
     "iopub.status.busy": "2025-07-30T21:34:30.122493Z",
     "iopub.status.idle": "2025-07-30T21:34:30.326308Z",
     "shell.execute_reply": "2025-07-30T21:34:30.325299Z"
    },
    "papermill": {
     "duration": 0.231756,
     "end_time": "2025-07-30T21:34:30.327999",
     "exception": false,
     "start_time": "2025-07-30T21:34:30.096243",
     "status": "completed"
    },
    "tags": []
   },
   "outputs": [
    {
     "data": {
      "text/plain": [
       "0.8191505963660685"
      ]
     },
     "execution_count": 45,
     "metadata": {},
     "output_type": "execute_result"
    }
   ],
   "source": [
    "probs_test = model.predict_proba(X_test)\n",
    "\n",
    "'''\n",
    "Below code returns a boolean array (or binary 0/1 array depending on how it’s used) where each element \n",
    "is True if the probability of class 1 is greater than or equal to the threshold, and False otherwise.\n",
    "'''\n",
    "y_pred_default = predict_w_threshold(probs_test, 0.5)\n",
    "\n",
    "from sklearn.metrics import accuracy_score\n",
    "\n",
    "# Naive prediction\n",
    "accuracy_score(y_true = y_true, y_pred = y_pred_default)"
   ]
  },
  {
   "cell_type": "code",
   "execution_count": 46,
   "id": "081964c3",
   "metadata": {
    "execution": {
     "iopub.execute_input": "2025-07-30T21:34:30.367909Z",
     "iopub.status.busy": "2025-07-30T21:34:30.367147Z",
     "iopub.status.idle": "2025-07-30T21:34:30.541070Z",
     "shell.execute_reply": "2025-07-30T21:34:30.539894Z"
    },
    "papermill": {
     "duration": 0.189708,
     "end_time": "2025-07-30T21:34:30.542883",
     "exception": false,
     "start_time": "2025-07-30T21:34:30.353175",
     "status": "completed"
    },
    "tags": []
   },
   "outputs": [
    {
     "data": {
      "text/plain": [
       "array([0, 0, 1, ..., 0, 0, 0])"
      ]
     },
     "execution_count": 46,
     "metadata": {},
     "output_type": "execute_result"
    }
   ],
   "source": [
    "model.predict(X_test)"
   ]
  },
  {
   "cell_type": "markdown",
   "id": "56c9705b",
   "metadata": {
    "papermill": {
     "duration": 0.022477,
     "end_time": "2025-07-30T21:34:30.591253",
     "exception": false,
     "start_time": "2025-07-30T21:34:30.568776",
     "status": "completed"
    },
    "tags": []
   },
   "source": [
    "# Conformal Prediction"
   ]
  },
  {
   "cell_type": "code",
   "execution_count": 47,
   "id": "160ec6ff",
   "metadata": {
    "execution": {
     "iopub.execute_input": "2025-07-30T21:34:30.645152Z",
     "iopub.status.busy": "2025-07-30T21:34:30.644389Z",
     "iopub.status.idle": "2025-07-30T21:34:30.650958Z",
     "shell.execute_reply": "2025-07-30T21:34:30.649979Z"
    },
    "papermill": {
     "duration": 0.03742,
     "end_time": "2025-07-30T21:34:30.653309",
     "exception": false,
     "start_time": "2025-07-30T21:34:30.615889",
     "status": "completed"
    },
    "tags": []
   },
   "outputs": [],
   "source": [
    "# Miscoverage level for conformal prediction (10% allowed error rate => 90% target coverage)\n",
    "alpha = 0.1"
   ]
  },
  {
   "cell_type": "code",
   "execution_count": 48,
   "id": "eadf4555-3dd3-440e-8e35-f82a4ad9f855",
   "metadata": {
    "execution": {
     "iopub.execute_input": "2025-07-30T21:34:30.706729Z",
     "iopub.status.busy": "2025-07-30T21:34:30.706264Z",
     "iopub.status.idle": "2025-07-30T21:34:30.885322Z",
     "shell.execute_reply": "2025-07-30T21:34:30.884314Z"
    },
    "papermill": {
     "duration": 0.207735,
     "end_time": "2025-07-30T21:34:30.887428",
     "exception": false,
     "start_time": "2025-07-30T21:34:30.679693",
     "status": "completed"
    },
    "tags": []
   },
   "outputs": [],
   "source": [
    "probs_calib = model.predict_proba(X_calib)"
   ]
  },
  {
   "cell_type": "code",
   "execution_count": 49,
   "id": "2ed93547-6d5d-4983-9b36-1ecb300da49a",
   "metadata": {
    "execution": {
     "iopub.execute_input": "2025-07-30T21:34:30.939908Z",
     "iopub.status.busy": "2025-07-30T21:34:30.939249Z",
     "iopub.status.idle": "2025-07-30T21:34:30.945124Z",
     "shell.execute_reply": "2025-07-30T21:34:30.944090Z"
    },
    "papermill": {
     "duration": 0.033322,
     "end_time": "2025-07-30T21:34:30.946849",
     "exception": false,
     "start_time": "2025-07-30T21:34:30.913527",
     "status": "completed"
    },
    "tags": []
   },
   "outputs": [],
   "source": [
    "y_calib = y_calib.values.ravel().astype(int)"
   ]
  },
  {
   "cell_type": "code",
   "execution_count": 50,
   "id": "65d1320d-f588-4b38-9072-62af1ae97f7d",
   "metadata": {
    "execution": {
     "iopub.execute_input": "2025-07-30T21:34:31.000902Z",
     "iopub.status.busy": "2025-07-30T21:34:31.000243Z",
     "iopub.status.idle": "2025-07-30T21:34:31.008273Z",
     "shell.execute_reply": "2025-07-30T21:34:31.007180Z"
    },
    "papermill": {
     "duration": 0.036267,
     "end_time": "2025-07-30T21:34:31.010040",
     "exception": false,
     "start_time": "2025-07-30T21:34:30.973773",
     "status": "completed"
    },
    "tags": []
   },
   "outputs": [],
   "source": [
    "from fairness_multiverse.conformal import compute_nc_scores\n",
    "\n",
    "# Compute nonconformity scores on calibration set (1 - probability of true class)\n",
    "nc_scores = compute_nc_scores(probs_calib, y_calib)"
   ]
  },
  {
   "cell_type": "code",
   "execution_count": 51,
   "id": "df3b8ca3-53b7-43d5-9667-7c85da7aeda2",
   "metadata": {
    "execution": {
     "iopub.execute_input": "2025-07-30T21:34:31.064057Z",
     "iopub.status.busy": "2025-07-30T21:34:31.063332Z",
     "iopub.status.idle": "2025-07-30T21:34:31.071277Z",
     "shell.execute_reply": "2025-07-30T21:34:31.070381Z"
    },
    "papermill": {
     "duration": 0.036095,
     "end_time": "2025-07-30T21:34:31.073094",
     "exception": false,
     "start_time": "2025-07-30T21:34:31.036999",
     "status": "completed"
    },
    "tags": []
   },
   "outputs": [],
   "source": [
    "from fairness_multiverse.conformal import find_threshold\n",
    "\n",
    "# Find conformal threshold q_hat for the given alpha (split conformal method)\n",
    "q_hat = find_threshold(nc_scores, alpha)"
   ]
  },
  {
   "cell_type": "code",
   "execution_count": 52,
   "id": "4d29e6c1-0ef6-4aa4-b8fe-4fe79b0d033a",
   "metadata": {
    "execution": {
     "iopub.execute_input": "2025-07-30T21:34:31.129009Z",
     "iopub.status.busy": "2025-07-30T21:34:31.128310Z",
     "iopub.status.idle": "2025-07-30T21:34:31.136505Z",
     "shell.execute_reply": "2025-07-30T21:34:31.135609Z"
    },
    "papermill": {
     "duration": 0.037814,
     "end_time": "2025-07-30T21:34:31.138070",
     "exception": false,
     "start_time": "2025-07-30T21:34:31.100256",
     "status": "completed"
    },
    "tags": []
   },
   "outputs": [
    {
     "data": {
      "text/plain": [
       "0.8172183602701932"
      ]
     },
     "execution_count": 52,
     "metadata": {},
     "output_type": "execute_result"
    }
   ],
   "source": [
    "q_hat"
   ]
  },
  {
   "cell_type": "code",
   "execution_count": 53,
   "id": "92460794-cdac-4be2-ba28-f28c0515a6fb",
   "metadata": {
    "execution": {
     "iopub.execute_input": "2025-07-30T21:34:31.194256Z",
     "iopub.status.busy": "2025-07-30T21:34:31.193333Z",
     "iopub.status.idle": "2025-07-30T21:34:31.916130Z",
     "shell.execute_reply": "2025-07-30T21:34:31.915386Z"
    },
    "papermill": {
     "duration": 0.752323,
     "end_time": "2025-07-30T21:34:31.917835",
     "exception": false,
     "start_time": "2025-07-30T21:34:31.165512",
     "status": "completed"
    },
    "tags": []
   },
   "outputs": [],
   "source": [
    "from fairness_multiverse.conformal import predict_conformal_sets\n",
    "\n",
    "# Generate prediction sets for each test example\n",
    "pred_sets = predict_conformal_sets(model, X_test, q_hat)"
   ]
  },
  {
   "cell_type": "code",
   "execution_count": 54,
   "id": "d90c9a65-e6db-4f5d-80cd-e68fb7e46829",
   "metadata": {
    "execution": {
     "iopub.execute_input": "2025-07-30T21:34:31.972067Z",
     "iopub.status.busy": "2025-07-30T21:34:31.971526Z",
     "iopub.status.idle": "2025-07-30T21:34:31.977183Z",
     "shell.execute_reply": "2025-07-30T21:34:31.976192Z"
    },
    "papermill": {
     "duration": 0.034879,
     "end_time": "2025-07-30T21:34:31.979133",
     "exception": false,
     "start_time": "2025-07-30T21:34:31.944254",
     "status": "completed"
    },
    "tags": []
   },
   "outputs": [],
   "source": [
    "y_true = y_true.squeeze()"
   ]
  },
  {
   "cell_type": "code",
   "execution_count": 55,
   "id": "3a58a54a-1e68-46b9-927a-df01f18aebc8",
   "metadata": {
    "execution": {
     "iopub.execute_input": "2025-07-30T21:34:32.032578Z",
     "iopub.status.busy": "2025-07-30T21:34:32.032023Z",
     "iopub.status.idle": "2025-07-30T21:34:32.751065Z",
     "shell.execute_reply": "2025-07-30T21:34:32.749997Z"
    },
    "papermill": {
     "duration": 0.748405,
     "end_time": "2025-07-30T21:34:32.753244",
     "exception": false,
     "start_time": "2025-07-30T21:34:32.004839",
     "status": "completed"
    },
    "tags": []
   },
   "outputs": [],
   "source": [
    "from fairness_multiverse.conformal import evaluate_sets\n",
    "\n",
    "# Evaluate coverage and average set size on test data\n",
    "metrics = evaluate_sets(pred_sets, y_true)"
   ]
  },
  {
   "cell_type": "markdown",
   "id": "2b569c12-9aaa-4c88-98c9-bbcd0cf3ebb8",
   "metadata": {
    "papermill": {
     "duration": 0.025631,
     "end_time": "2025-07-30T21:34:32.805159",
     "exception": false,
     "start_time": "2025-07-30T21:34:32.779528",
     "status": "completed"
    },
    "tags": []
   },
   "source": [
    "# CP Metrics"
   ]
  },
  {
   "cell_type": "code",
   "execution_count": 56,
   "id": "5ce0a5cb-201f-45a0-ade5-94c7f0bd6095",
   "metadata": {
    "execution": {
     "iopub.execute_input": "2025-07-30T21:34:32.858598Z",
     "iopub.status.busy": "2025-07-30T21:34:32.857900Z",
     "iopub.status.idle": "2025-07-30T21:34:32.865491Z",
     "shell.execute_reply": "2025-07-30T21:34:32.864577Z"
    },
    "papermill": {
     "duration": 0.036566,
     "end_time": "2025-07-30T21:34:32.867062",
     "exception": false,
     "start_time": "2025-07-30T21:34:32.830496",
     "status": "completed"
    },
    "tags": []
   },
   "outputs": [
    {
     "data": {
      "text/plain": [
       "{'coverage': 0.9100769145022851, 'avg_size': 1.2659569724668376}"
      ]
     },
     "execution_count": 56,
     "metadata": {},
     "output_type": "execute_result"
    }
   ],
   "source": [
    "metrics"
   ]
  },
  {
   "cell_type": "code",
   "execution_count": 57,
   "id": "9b9a838d-31c9-430b-ae14-12baee460d17",
   "metadata": {
    "execution": {
     "iopub.execute_input": "2025-07-30T21:34:32.922730Z",
     "iopub.status.busy": "2025-07-30T21:34:32.922078Z",
     "iopub.status.idle": "2025-07-30T21:34:32.928977Z",
     "shell.execute_reply": "2025-07-30T21:34:32.927873Z"
    },
    "papermill": {
     "duration": 0.036439,
     "end_time": "2025-07-30T21:34:32.930622",
     "exception": false,
     "start_time": "2025-07-30T21:34:32.894183",
     "status": "completed"
    },
    "tags": []
   },
   "outputs": [],
   "source": [
    "example_universe = universe.copy()\n",
    "universe_training_year = example_universe.get(\"training_year\")\n",
    "universe_training_size = example_universe.get(\"training_size\")\n",
    "universe_scale = example_universe.get(\"scale\")\n",
    "universe_model = example_universe.get(\"model\")\n",
    "universe_exclude_features = example_universe.get(\"exclude_features\")\n",
    "universe_exclude_subgroups = example_universe.get(\"exclude_subgroups\")"
   ]
  },
  {
   "cell_type": "code",
   "execution_count": 58,
   "id": "f4b6a8ac-9dc0-4245-8a91-5b3b5999c4f9",
   "metadata": {
    "execution": {
     "iopub.execute_input": "2025-07-30T21:34:32.985650Z",
     "iopub.status.busy": "2025-07-30T21:34:32.985082Z",
     "iopub.status.idle": "2025-07-30T21:34:32.992710Z",
     "shell.execute_reply": "2025-07-30T21:34:32.991538Z"
    },
    "papermill": {
     "duration": 0.037218,
     "end_time": "2025-07-30T21:34:32.994437",
     "exception": false,
     "start_time": "2025-07-30T21:34:32.957219",
     "status": "completed"
    },
    "tags": []
   },
   "outputs": [],
   "source": [
    "cp_metrics_dict = {\n",
    "    \"universe_id\": [universe_id],\n",
    "    \"universe_training_year\": [universe_training_year],\n",
    "    \"universe_training_size\": [universe_training_size],\n",
    "    \"universe_scale\": [universe_scale],\n",
    "    \"universe_model\": [universe_model],\n",
    "    \"universe_exclude_features\": [universe_exclude_features],\n",
    "    \"universe_exclude_subgroups\": [universe_exclude_subgroups],\n",
    "    \"q_hat\": [q_hat],\n",
    "    \"coverage\": [metrics[\"coverage\"]],\n",
    "    \"avg_size\": [metrics[\"avg_size\"]],\n",
    "}"
   ]
  },
  {
   "cell_type": "code",
   "execution_count": 59,
   "id": "908acbb1-0371-4915-85ca-3fa520d2efe2",
   "metadata": {
    "execution": {
     "iopub.execute_input": "2025-07-30T21:34:33.049033Z",
     "iopub.status.busy": "2025-07-30T21:34:33.048241Z",
     "iopub.status.idle": "2025-07-30T21:34:33.056410Z",
     "shell.execute_reply": "2025-07-30T21:34:33.055442Z"
    },
    "papermill": {
     "duration": 0.037593,
     "end_time": "2025-07-30T21:34:33.058211",
     "exception": false,
     "start_time": "2025-07-30T21:34:33.020618",
     "status": "completed"
    },
    "tags": []
   },
   "outputs": [
    {
     "data": {
      "text/plain": [
       "{'universe_id': ['f7a963de121b4420f79d389821441c5a'],\n",
       " 'universe_training_year': ['2012_14'],\n",
       " 'universe_training_size': ['1k'],\n",
       " 'universe_scale': ['scale'],\n",
       " 'universe_model': ['penalized_logreg'],\n",
       " 'universe_exclude_features': ['sex'],\n",
       " 'universe_exclude_subgroups': ['drop-non-german'],\n",
       " 'q_hat': [0.8172183602701932],\n",
       " 'coverage': [0.9100769145022851],\n",
       " 'avg_size': [1.2659569724668376]}"
      ]
     },
     "execution_count": 59,
     "metadata": {},
     "output_type": "execute_result"
    }
   ],
   "source": [
    "cp_metrics_dict"
   ]
  },
  {
   "cell_type": "code",
   "execution_count": 60,
   "id": "33007efc-14e9-4ec6-97ac-56a455c82265",
   "metadata": {
    "execution": {
     "iopub.execute_input": "2025-07-30T21:34:33.114052Z",
     "iopub.status.busy": "2025-07-30T21:34:33.113230Z",
     "iopub.status.idle": "2025-07-30T21:34:33.120284Z",
     "shell.execute_reply": "2025-07-30T21:34:33.119163Z"
    },
    "papermill": {
     "duration": 0.037352,
     "end_time": "2025-07-30T21:34:33.122234",
     "exception": false,
     "start_time": "2025-07-30T21:34:33.084882",
     "status": "completed"
    },
    "tags": []
   },
   "outputs": [],
   "source": [
    "cp_metrics_df = pd.DataFrame(cp_metrics_dict)"
   ]
  },
  {
   "cell_type": "code",
   "execution_count": 61,
   "id": "db12611b-57b2-4910-b9d0-355adfd6e7bf",
   "metadata": {
    "execution": {
     "iopub.execute_input": "2025-07-30T21:34:33.173291Z",
     "iopub.status.busy": "2025-07-30T21:34:33.172775Z",
     "iopub.status.idle": "2025-07-30T21:34:33.191036Z",
     "shell.execute_reply": "2025-07-30T21:34:33.190158Z"
    },
    "papermill": {
     "duration": 0.045186,
     "end_time": "2025-07-30T21:34:33.192707",
     "exception": false,
     "start_time": "2025-07-30T21:34:33.147521",
     "status": "completed"
    },
    "tags": []
   },
   "outputs": [
    {
     "data": {
      "text/html": [
       "<div>\n",
       "<style scoped>\n",
       "    .dataframe tbody tr th:only-of-type {\n",
       "        vertical-align: middle;\n",
       "    }\n",
       "\n",
       "    .dataframe tbody tr th {\n",
       "        vertical-align: top;\n",
       "    }\n",
       "\n",
       "    .dataframe thead th {\n",
       "        text-align: right;\n",
       "    }\n",
       "</style>\n",
       "<table border=\"1\" class=\"dataframe\">\n",
       "  <thead>\n",
       "    <tr style=\"text-align: right;\">\n",
       "      <th></th>\n",
       "      <th>universe_id</th>\n",
       "      <th>universe_training_year</th>\n",
       "      <th>universe_training_size</th>\n",
       "      <th>universe_scale</th>\n",
       "      <th>universe_model</th>\n",
       "      <th>universe_exclude_features</th>\n",
       "      <th>universe_exclude_subgroups</th>\n",
       "      <th>q_hat</th>\n",
       "      <th>coverage</th>\n",
       "      <th>avg_size</th>\n",
       "    </tr>\n",
       "  </thead>\n",
       "  <tbody>\n",
       "    <tr>\n",
       "      <th>0</th>\n",
       "      <td>f7a963de121b4420f79d389821441c5a</td>\n",
       "      <td>2012_14</td>\n",
       "      <td>1k</td>\n",
       "      <td>scale</td>\n",
       "      <td>penalized_logreg</td>\n",
       "      <td>sex</td>\n",
       "      <td>drop-non-german</td>\n",
       "      <td>0.817218</td>\n",
       "      <td>0.910077</td>\n",
       "      <td>1.265957</td>\n",
       "    </tr>\n",
       "  </tbody>\n",
       "</table>\n",
       "</div>"
      ],
      "text/plain": [
       "                        universe_id universe_training_year  \\\n",
       "0  f7a963de121b4420f79d389821441c5a                2012_14   \n",
       "\n",
       "  universe_training_size universe_scale    universe_model  \\\n",
       "0                     1k          scale  penalized_logreg   \n",
       "\n",
       "  universe_exclude_features universe_exclude_subgroups     q_hat  coverage  \\\n",
       "0                       sex            drop-non-german  0.817218  0.910077   \n",
       "\n",
       "   avg_size  \n",
       "0  1.265957  "
      ]
     },
     "execution_count": 61,
     "metadata": {},
     "output_type": "execute_result"
    }
   ],
   "source": [
    "cp_metrics_df"
   ]
  },
  {
   "cell_type": "code",
   "execution_count": 62,
   "id": "b7fbde55-a0a1-47e4-9af6-fe4a17fa8c61",
   "metadata": {
    "execution": {
     "iopub.execute_input": "2025-07-30T21:34:33.253308Z",
     "iopub.status.busy": "2025-07-30T21:34:33.252809Z",
     "iopub.status.idle": "2025-07-30T21:34:33.257859Z",
     "shell.execute_reply": "2025-07-30T21:34:33.256836Z"
    },
    "papermill": {
     "duration": 0.04268,
     "end_time": "2025-07-30T21:34:33.259477",
     "exception": false,
     "start_time": "2025-07-30T21:34:33.216797",
     "status": "completed"
    },
    "tags": []
   },
   "outputs": [],
   "source": [
    "# Conditional Coverage & looking at subgroups"
   ]
  },
  {
   "cell_type": "code",
   "execution_count": 63,
   "id": "027ae886-68dd-4141-96c7-805a5450e1ef",
   "metadata": {
    "execution": {
     "iopub.execute_input": "2025-07-30T21:34:33.312704Z",
     "iopub.status.busy": "2025-07-30T21:34:33.312080Z",
     "iopub.status.idle": "2025-07-30T21:34:33.612175Z",
     "shell.execute_reply": "2025-07-30T21:34:33.611077Z"
    },
    "papermill": {
     "duration": 0.328306,
     "end_time": "2025-07-30T21:34:33.614028",
     "exception": false,
     "start_time": "2025-07-30T21:34:33.285722",
     "status": "completed"
    },
    "tags": []
   },
   "outputs": [],
   "source": [
    "from fairness_multiverse.conformal import build_cp_groups\n",
    "\n",
    "cp_groups_df = build_cp_groups(pred_sets, y_true, X_test.index, org_test)\n",
    "#needs universe_id and setting"
   ]
  },
  {
   "cell_type": "code",
   "execution_count": 64,
   "id": "01d5802c-663a-4d1f-9d69-e036faaffbf7",
   "metadata": {
    "execution": {
     "iopub.execute_input": "2025-07-30T21:34:33.665789Z",
     "iopub.status.busy": "2025-07-30T21:34:33.665254Z",
     "iopub.status.idle": "2025-07-30T21:34:33.670668Z",
     "shell.execute_reply": "2025-07-30T21:34:33.669481Z"
    },
    "papermill": {
     "duration": 0.032836,
     "end_time": "2025-07-30T21:34:33.672315",
     "exception": false,
     "start_time": "2025-07-30T21:34:33.639479",
     "status": "completed"
    },
    "tags": []
   },
   "outputs": [],
   "source": [
    "#delete\n",
    "#cp_groups_df"
   ]
  },
  {
   "cell_type": "code",
   "execution_count": 65,
   "id": "fa424af1-d1eb-443d-b717-2d279ada8408",
   "metadata": {
    "execution": {
     "iopub.execute_input": "2025-07-30T21:34:33.723146Z",
     "iopub.status.busy": "2025-07-30T21:34:33.722498Z",
     "iopub.status.idle": "2025-07-30T21:34:33.727593Z",
     "shell.execute_reply": "2025-07-30T21:34:33.726493Z"
    },
    "papermill": {
     "duration": 0.031511,
     "end_time": "2025-07-30T21:34:33.729476",
     "exception": false,
     "start_time": "2025-07-30T21:34:33.697965",
     "status": "completed"
    },
    "tags": []
   },
   "outputs": [],
   "source": [
    "#delete\n",
    "#percentage = (cp_groups_df['nongerman_female'] == 1).mean() * 100\n",
    "#print(percentage)\n"
   ]
  },
  {
   "cell_type": "code",
   "execution_count": 66,
   "id": "6cbdab96-b2b2-45af-ad54-d0516db2e28d",
   "metadata": {
    "execution": {
     "iopub.execute_input": "2025-07-30T21:34:33.789503Z",
     "iopub.status.busy": "2025-07-30T21:34:33.788801Z",
     "iopub.status.idle": "2025-07-30T21:34:35.530098Z",
     "shell.execute_reply": "2025-07-30T21:34:35.529357Z"
    },
    "papermill": {
     "duration": 1.77247,
     "end_time": "2025-07-30T21:34:35.531897",
     "exception": false,
     "start_time": "2025-07-30T21:34:33.759427",
     "status": "completed"
    },
    "tags": []
   },
   "outputs": [],
   "source": [
    "# Define covered = 1 if true_label is in the predicted set\n",
    "cp_groups_df['covered'] = cp_groups_df.apply(\n",
    "    lambda r: int(r['true_label'] in r['pred_set']),\n",
    "    axis=1\n",
    ")"
   ]
  },
  {
   "cell_type": "code",
   "execution_count": 67,
   "id": "338ff529-1a6b-4b87-a931-8e4788d52aad",
   "metadata": {
    "execution": {
     "iopub.execute_input": "2025-07-30T21:34:35.588681Z",
     "iopub.status.busy": "2025-07-30T21:34:35.588169Z",
     "iopub.status.idle": "2025-07-30T21:34:35.593420Z",
     "shell.execute_reply": "2025-07-30T21:34:35.592256Z"
    },
    "papermill": {
     "duration": 0.036411,
     "end_time": "2025-07-30T21:34:35.595454",
     "exception": false,
     "start_time": "2025-07-30T21:34:35.559043",
     "status": "completed"
    },
    "tags": []
   },
   "outputs": [],
   "source": [
    "#cp_groups_df"
   ]
  },
  {
   "cell_type": "code",
   "execution_count": 68,
   "id": "90032e27-66df-4540-9169-4e89cfbaa758",
   "metadata": {
    "execution": {
     "iopub.execute_input": "2025-07-30T21:34:35.651152Z",
     "iopub.status.busy": "2025-07-30T21:34:35.650698Z",
     "iopub.status.idle": "2025-07-30T21:34:35.662434Z",
     "shell.execute_reply": "2025-07-30T21:34:35.661450Z"
    },
    "papermill": {
     "duration": 0.042186,
     "end_time": "2025-07-30T21:34:35.664277",
     "exception": false,
     "start_time": "2025-07-30T21:34:35.622091",
     "status": "completed"
    },
    "tags": []
   },
   "outputs": [],
   "source": [
    "subgroups = ['frau1','nongerman','nongerman_male','nongerman_female']\n",
    "\n",
    "# Conditional coverage for subgroup==1\n",
    "cond_coverage = {\n",
    "    g: cp_groups_df.loc[cp_groups_df[g]==1, 'covered'].mean()\n",
    "    for g in subgroups\n",
    "}"
   ]
  },
  {
   "cell_type": "code",
   "execution_count": 69,
   "id": "1e348fb1-b9c3-45bc-ba23-f016827a7e0d",
   "metadata": {
    "execution": {
     "iopub.execute_input": "2025-07-30T21:34:35.716204Z",
     "iopub.status.busy": "2025-07-30T21:34:35.715679Z",
     "iopub.status.idle": "2025-07-30T21:34:35.723193Z",
     "shell.execute_reply": "2025-07-30T21:34:35.722272Z"
    },
    "papermill": {
     "duration": 0.034613,
     "end_time": "2025-07-30T21:34:35.724764",
     "exception": false,
     "start_time": "2025-07-30T21:34:35.690151",
     "status": "completed"
    },
    "tags": []
   },
   "outputs": [
    {
     "data": {
      "text/plain": [
       "{'frau1': 0.9051624208114301,\n",
       " 'nongerman': 0.9219109639027676,\n",
       " 'nongerman_male': 0.9337116094749167,\n",
       " 'nongerman_female': 0.9023845007451565}"
      ]
     },
     "execution_count": 69,
     "metadata": {},
     "output_type": "execute_result"
    }
   ],
   "source": [
    "cond_coverage"
   ]
  },
  {
   "cell_type": "code",
   "execution_count": 70,
   "id": "f5093324-c3dd-4d63-bc4c-8d945e5c8bbb",
   "metadata": {
    "execution": {
     "iopub.execute_input": "2025-07-30T21:34:35.777119Z",
     "iopub.status.busy": "2025-07-30T21:34:35.776162Z",
     "iopub.status.idle": "2025-07-30T21:34:35.783552Z",
     "shell.execute_reply": "2025-07-30T21:34:35.782546Z"
    },
    "papermill": {
     "duration": 0.035629,
     "end_time": "2025-07-30T21:34:35.785182",
     "exception": false,
     "start_time": "2025-07-30T21:34:35.749553",
     "status": "completed"
    },
    "tags": []
   },
   "outputs": [],
   "source": [
    "for subgroup, cov in cond_coverage.items():\n",
    "    cp_metrics_df[f\"cov_{subgroup}\"] = cov"
   ]
  },
  {
   "cell_type": "code",
   "execution_count": 71,
   "id": "6e872e10-dbe5-49e8-b554-5030c98ff75d",
   "metadata": {
    "execution": {
     "iopub.execute_input": "2025-07-30T21:34:35.837197Z",
     "iopub.status.busy": "2025-07-30T21:34:35.836449Z",
     "iopub.status.idle": "2025-07-30T21:34:35.856267Z",
     "shell.execute_reply": "2025-07-30T21:34:35.855133Z"
    },
    "papermill": {
     "duration": 0.047417,
     "end_time": "2025-07-30T21:34:35.858090",
     "exception": false,
     "start_time": "2025-07-30T21:34:35.810673",
     "status": "completed"
    },
    "tags": []
   },
   "outputs": [
    {
     "data": {
      "text/html": [
       "<div>\n",
       "<style scoped>\n",
       "    .dataframe tbody tr th:only-of-type {\n",
       "        vertical-align: middle;\n",
       "    }\n",
       "\n",
       "    .dataframe tbody tr th {\n",
       "        vertical-align: top;\n",
       "    }\n",
       "\n",
       "    .dataframe thead th {\n",
       "        text-align: right;\n",
       "    }\n",
       "</style>\n",
       "<table border=\"1\" class=\"dataframe\">\n",
       "  <thead>\n",
       "    <tr style=\"text-align: right;\">\n",
       "      <th></th>\n",
       "      <th>universe_id</th>\n",
       "      <th>universe_training_year</th>\n",
       "      <th>universe_training_size</th>\n",
       "      <th>universe_scale</th>\n",
       "      <th>universe_model</th>\n",
       "      <th>universe_exclude_features</th>\n",
       "      <th>universe_exclude_subgroups</th>\n",
       "      <th>q_hat</th>\n",
       "      <th>coverage</th>\n",
       "      <th>avg_size</th>\n",
       "      <th>cov_frau1</th>\n",
       "      <th>cov_nongerman</th>\n",
       "      <th>cov_nongerman_male</th>\n",
       "      <th>cov_nongerman_female</th>\n",
       "    </tr>\n",
       "  </thead>\n",
       "  <tbody>\n",
       "    <tr>\n",
       "      <th>0</th>\n",
       "      <td>f7a963de121b4420f79d389821441c5a</td>\n",
       "      <td>2012_14</td>\n",
       "      <td>1k</td>\n",
       "      <td>scale</td>\n",
       "      <td>penalized_logreg</td>\n",
       "      <td>sex</td>\n",
       "      <td>drop-non-german</td>\n",
       "      <td>0.817218</td>\n",
       "      <td>0.910077</td>\n",
       "      <td>1.265957</td>\n",
       "      <td>0.905162</td>\n",
       "      <td>0.921911</td>\n",
       "      <td>0.933712</td>\n",
       "      <td>0.902385</td>\n",
       "    </tr>\n",
       "  </tbody>\n",
       "</table>\n",
       "</div>"
      ],
      "text/plain": [
       "                        universe_id universe_training_year  \\\n",
       "0  f7a963de121b4420f79d389821441c5a                2012_14   \n",
       "\n",
       "  universe_training_size universe_scale    universe_model  \\\n",
       "0                     1k          scale  penalized_logreg   \n",
       "\n",
       "  universe_exclude_features universe_exclude_subgroups     q_hat  coverage  \\\n",
       "0                       sex            drop-non-german  0.817218  0.910077   \n",
       "\n",
       "   avg_size  cov_frau1  cov_nongerman  cov_nongerman_male  \\\n",
       "0  1.265957   0.905162       0.921911            0.933712   \n",
       "\n",
       "   cov_nongerman_female  \n",
       "0              0.902385  "
      ]
     },
     "execution_count": 71,
     "metadata": {},
     "output_type": "execute_result"
    }
   ],
   "source": [
    "cp_metrics_df"
   ]
  },
  {
   "cell_type": "markdown",
   "id": "33774451",
   "metadata": {
    "papermill": {
     "duration": 0.026312,
     "end_time": "2025-07-30T21:34:35.912160",
     "exception": false,
     "start_time": "2025-07-30T21:34:35.885848",
     "status": "completed"
    },
    "tags": []
   },
   "source": [
    "# (Fairness) Metrics"
   ]
  },
  {
   "cell_type": "code",
   "execution_count": 72,
   "id": "debc5d62",
   "metadata": {
    "execution": {
     "iopub.execute_input": "2025-07-30T21:34:35.963938Z",
     "iopub.status.busy": "2025-07-30T21:34:35.963408Z",
     "iopub.status.idle": "2025-07-30T21:34:35.984007Z",
     "shell.execute_reply": "2025-07-30T21:34:35.983067Z"
    },
    "papermill": {
     "duration": 0.048069,
     "end_time": "2025-07-30T21:34:35.985722",
     "exception": false,
     "start_time": "2025-07-30T21:34:35.937653",
     "status": "completed"
    },
    "tags": []
   },
   "outputs": [],
   "source": [
    "# do I need to include maxdeutsch1.missing?\n",
    "\n",
    "import numpy as np\n",
    "\n",
    "colname_to_bin = \"maxdeutsch1\"\n",
    "majority_value = org_train[colname_to_bin].mode()[0]\n",
    "\n",
    "org_test[\"majmin\"] = np.where(org_test[colname_to_bin] == majority_value, \"majority\", \"minority\")"
   ]
  },
  {
   "cell_type": "code",
   "execution_count": 73,
   "id": "06a50de5",
   "metadata": {
    "execution": {
     "iopub.execute_input": "2025-07-30T21:34:36.038814Z",
     "iopub.status.busy": "2025-07-30T21:34:36.038164Z",
     "iopub.status.idle": "2025-07-30T21:34:38.770735Z",
     "shell.execute_reply": "2025-07-30T21:34:38.769551Z"
    },
    "papermill": {
     "duration": 2.761507,
     "end_time": "2025-07-30T21:34:38.772780",
     "exception": false,
     "start_time": "2025-07-30T21:34:36.011273",
     "status": "completed"
    },
    "tags": []
   },
   "outputs": [],
   "source": [
    "example_universe = universe.copy()\n",
    "example_universe[\"cutoff\"] = example_universe[\"cutoff\"][0]\n",
    "example_universe[\"eval_fairness_grouping\"] = example_universe[\"eval_fairness_grouping\"][0]\n",
    "fairness_dict, metric_frame = universe_analysis.compute_metrics(\n",
    "    example_universe,\n",
    "    y_pred_prob=probs_test,\n",
    "    y_test=y_true,\n",
    "    org_test=org_test,\n",
    ")"
   ]
  },
  {
   "cell_type": "markdown",
   "id": "f95d4e02",
   "metadata": {
    "papermill": {
     "duration": 0.028443,
     "end_time": "2025-07-30T21:34:38.829562",
     "exception": false,
     "start_time": "2025-07-30T21:34:38.801119",
     "status": "completed"
    },
    "tags": []
   },
   "source": [
    "# Overall"
   ]
  },
  {
   "cell_type": "markdown",
   "id": "bdee4871",
   "metadata": {
    "papermill": {
     "duration": 0.030117,
     "end_time": "2025-07-30T21:34:38.887702",
     "exception": false,
     "start_time": "2025-07-30T21:34:38.857585",
     "status": "completed"
    },
    "tags": []
   },
   "source": [
    "Fairness\n",
    "Main fairness target: Equalized Odds. Seems to be a better fit than equal opportunity, since we're not only interested in Y = 1. Seems to be a better fit than demographic parity, since we also care about accuracy, not just equal distribution of preds.\n",
    "\n",
    "Pick column for computation of fairness metrics\n",
    "\n",
    "Performance\n",
    "Overall performance measures, most interesting in relation to the measures split by group below"
   ]
  },
  {
   "cell_type": "code",
   "execution_count": 74,
   "id": "c4e067c6",
   "metadata": {
    "execution": {
     "iopub.execute_input": "2025-07-30T21:34:38.949361Z",
     "iopub.status.busy": "2025-07-30T21:34:38.948856Z",
     "iopub.status.idle": "2025-07-30T21:34:38.957337Z",
     "shell.execute_reply": "2025-07-30T21:34:38.956189Z"
    },
    "papermill": {
     "duration": 0.040547,
     "end_time": "2025-07-30T21:34:38.959156",
     "exception": false,
     "start_time": "2025-07-30T21:34:38.918609",
     "status": "completed"
    },
    "tags": []
   },
   "outputs": [
    {
     "data": {
      "text/plain": [
       "accuracy                   0.216219\n",
       "balanced accuracy          0.530393\n",
       "f1                         0.237775\n",
       "precision                  0.135833\n",
       "false positive rate        0.892202\n",
       "false negative rate        0.047011\n",
       "selection rate             0.900000\n",
       "count                  89710.000000\n",
       "dtype: float64"
      ]
     },
     "execution_count": 74,
     "metadata": {},
     "output_type": "execute_result"
    }
   ],
   "source": [
    "metric_frame.overall"
   ]
  },
  {
   "cell_type": "markdown",
   "id": "e968fe9d",
   "metadata": {
    "papermill": {
     "duration": 0.028883,
     "end_time": "2025-07-30T21:34:39.018081",
     "exception": false,
     "start_time": "2025-07-30T21:34:38.989198",
     "status": "completed"
    },
    "tags": []
   },
   "source": [
    "By Group"
   ]
  },
  {
   "cell_type": "code",
   "execution_count": 75,
   "id": "ec325bce",
   "metadata": {
    "execution": {
     "iopub.execute_input": "2025-07-30T21:34:39.077628Z",
     "iopub.status.busy": "2025-07-30T21:34:39.076725Z",
     "iopub.status.idle": "2025-07-30T21:34:39.093597Z",
     "shell.execute_reply": "2025-07-30T21:34:39.092636Z"
    },
    "papermill": {
     "duration": 0.048108,
     "end_time": "2025-07-30T21:34:39.095355",
     "exception": false,
     "start_time": "2025-07-30T21:34:39.047247",
     "status": "completed"
    },
    "tags": []
   },
   "outputs": [
    {
     "data": {
      "text/html": [
       "<div>\n",
       "<style scoped>\n",
       "    .dataframe tbody tr th:only-of-type {\n",
       "        vertical-align: middle;\n",
       "    }\n",
       "\n",
       "    .dataframe tbody tr th {\n",
       "        vertical-align: top;\n",
       "    }\n",
       "\n",
       "    .dataframe thead th {\n",
       "        text-align: right;\n",
       "    }\n",
       "</style>\n",
       "<table border=\"1\" class=\"dataframe\">\n",
       "  <thead>\n",
       "    <tr style=\"text-align: right;\">\n",
       "      <th></th>\n",
       "      <th>accuracy</th>\n",
       "      <th>balanced accuracy</th>\n",
       "      <th>f1</th>\n",
       "      <th>precision</th>\n",
       "      <th>false positive rate</th>\n",
       "      <th>false negative rate</th>\n",
       "      <th>selection rate</th>\n",
       "      <th>count</th>\n",
       "    </tr>\n",
       "    <tr>\n",
       "      <th>majmin</th>\n",
       "      <th></th>\n",
       "      <th></th>\n",
       "      <th></th>\n",
       "      <th></th>\n",
       "      <th></th>\n",
       "      <th></th>\n",
       "      <th></th>\n",
       "      <th></th>\n",
       "    </tr>\n",
       "  </thead>\n",
       "  <tbody>\n",
       "    <tr>\n",
       "      <th>majority</th>\n",
       "      <td>0.230186</td>\n",
       "      <td>0.534460</td>\n",
       "      <td>0.245544</td>\n",
       "      <td>0.141036</td>\n",
       "      <td>0.87911</td>\n",
       "      <td>0.051969</td>\n",
       "      <td>0.888217</td>\n",
       "      <td>69170.0</td>\n",
       "    </tr>\n",
       "    <tr>\n",
       "      <th>minority</th>\n",
       "      <td>0.169182</td>\n",
       "      <td>0.518339</td>\n",
       "      <td>0.212469</td>\n",
       "      <td>0.119268</td>\n",
       "      <td>0.93545</td>\n",
       "      <td>0.027872</td>\n",
       "      <td>0.939679</td>\n",
       "      <td>20540.0</td>\n",
       "    </tr>\n",
       "  </tbody>\n",
       "</table>\n",
       "</div>"
      ],
      "text/plain": [
       "          accuracy  balanced accuracy        f1  precision  \\\n",
       "majmin                                                       \n",
       "majority  0.230186           0.534460  0.245544   0.141036   \n",
       "minority  0.169182           0.518339  0.212469   0.119268   \n",
       "\n",
       "          false positive rate  false negative rate  selection rate    count  \n",
       "majmin                                                                       \n",
       "majority              0.87911             0.051969        0.888217  69170.0  \n",
       "minority              0.93545             0.027872        0.939679  20540.0  "
      ]
     },
     "execution_count": 75,
     "metadata": {},
     "output_type": "execute_result"
    }
   ],
   "source": [
    "metric_frame.by_group"
   ]
  },
  {
   "cell_type": "code",
   "execution_count": 76,
   "id": "a9ddbe63",
   "metadata": {
    "execution": {
     "iopub.execute_input": "2025-07-30T21:34:39.153327Z",
     "iopub.status.busy": "2025-07-30T21:34:39.152846Z",
     "iopub.status.idle": "2025-07-30T21:34:41.607776Z",
     "shell.execute_reply": "2025-07-30T21:34:41.606975Z"
    },
    "papermill": {
     "duration": 2.48534,
     "end_time": "2025-07-30T21:34:41.609199",
     "exception": false,
     "start_time": "2025-07-30T21:34:39.123859",
     "status": "completed"
    },
    "tags": []
   },
   "outputs": [
    {
     "data": {
      "text/plain": [
       "array([[<Axes: title={'center': 'accuracy'}, xlabel='majmin'>,\n",
       "        <Axes: title={'center': 'balanced accuracy'}, xlabel='majmin'>,\n",
       "        <Axes: title={'center': 'f1'}, xlabel='majmin'>],\n",
       "       [<Axes: title={'center': 'precision'}, xlabel='majmin'>,\n",
       "        <Axes: title={'center': 'false positive rate'}, xlabel='majmin'>,\n",
       "        <Axes: title={'center': 'false negative rate'}, xlabel='majmin'>],\n",
       "       [<Axes: title={'center': 'selection rate'}, xlabel='majmin'>,\n",
       "        <Axes: title={'center': 'count'}, xlabel='majmin'>,\n",
       "        <Axes: xlabel='majmin'>]], dtype=object)"
      ]
     },
     "execution_count": 76,
     "metadata": {},
     "output_type": "execute_result"
    },
    {
     "data": {
      "image/png": "[encoded data removed]",
      "text/plain": [
       "<Figure size 1200x800 with 9 Axes>"
      ]
     },
     "metadata": {},
     "output_type": "display_data"
    }
   ],
   "source": [
    "# In a graphic\n",
    "metric_frame.by_group.plot.bar(\n",
    "    subplots=True,\n",
    "    layout=[3, 3],\n",
    "    legend=False,\n",
    "    figsize=[12, 8],\n",
    "    title=\"Show all metrics\",\n",
    ")"
   ]
  },
  {
   "cell_type": "markdown",
   "id": "f57a0bac",
   "metadata": {
    "papermill": {
     "duration": 0.015554,
     "end_time": "2025-07-30T21:34:41.640728",
     "exception": false,
     "start_time": "2025-07-30T21:34:41.625174",
     "status": "completed"
    },
    "tags": []
   },
   "source": [
    "# Final Output"
   ]
  },
  {
   "cell_type": "code",
   "execution_count": 77,
   "id": "96d280a3",
   "metadata": {
    "execution": {
     "iopub.execute_input": "2025-07-30T21:34:41.675459Z",
     "iopub.status.busy": "2025-07-30T21:34:41.675037Z",
     "iopub.status.idle": "2025-07-30T21:34:41.682854Z",
     "shell.execute_reply": "2025-07-30T21:34:41.681849Z"
    },
    "papermill": {
     "duration": 0.030774,
     "end_time": "2025-07-30T21:34:41.687398",
     "exception": false,
     "start_time": "2025-07-30T21:34:41.656624",
     "status": "completed"
    },
    "tags": []
   },
   "outputs": [
    {
     "data": {
      "text/plain": [
       "4"
      ]
     },
     "execution_count": 77,
     "metadata": {},
     "output_type": "execute_result"
    }
   ],
   "source": [
    "sub_universes = universe_analysis.generate_sub_universes()\n",
    "len(sub_universes)"
   ]
  },
  {
   "cell_type": "code",
   "execution_count": 78,
   "id": "92adf7ba",
   "metadata": {
    "execution": {
     "iopub.execute_input": "2025-07-30T21:34:41.752358Z",
     "iopub.status.busy": "2025-07-30T21:34:41.751821Z",
     "iopub.status.idle": "2025-07-30T21:34:41.759041Z",
     "shell.execute_reply": "2025-07-30T21:34:41.756616Z"
    },
    "papermill": {
     "duration": 0.043139,
     "end_time": "2025-07-30T21:34:41.761543",
     "exception": false,
     "start_time": "2025-07-30T21:34:41.718404",
     "status": "completed"
    },
    "tags": []
   },
   "outputs": [],
   "source": [
    "def filter_sub_universe_data(sub_universe, org_test):\n",
    "    # Keep all rows — no filtering\n",
    "    keep_rows_mask = np.ones(org_test.shape[0], dtype=bool)\n",
    "\n",
    "    print(f\"[INFO] Keeping all rows: {keep_rows_mask.sum()} rows retained.\")\n",
    "    return keep_rows_mask"
   ]
  },
  {
   "cell_type": "code",
   "execution_count": 79,
   "id": "4a759155",
   "metadata": {
    "execution": {
     "iopub.execute_input": "2025-07-30T21:34:41.845522Z",
     "iopub.status.busy": "2025-07-30T21:34:41.844969Z",
     "iopub.status.idle": "2025-07-30T21:34:52.693744Z",
     "shell.execute_reply": "2025-07-30T21:34:52.692794Z"
    },
    "papermill": {
     "duration": 10.892375,
     "end_time": "2025-07-30T21:34:52.695316",
     "exception": false,
     "start_time": "2025-07-30T21:34:41.802941",
     "status": "completed"
    },
    "tags": []
   },
   "outputs": [
    {
     "name": "stdout",
     "output_type": "stream",
     "text": [
      "Stopping execution_time clock.\n",
      "[INFO] Keeping all rows: 89710 rows retained.\n"
     ]
    },
    {
     "name": "stdout",
     "output_type": "stream",
     "text": [
      "[INFO] Keeping all rows: 89710 rows retained.\n"
     ]
    },
    {
     "name": "stdout",
     "output_type": "stream",
     "text": [
      "[INFO] Keeping all rows: 89710 rows retained.\n"
     ]
    },
    {
     "name": "stdout",
     "output_type": "stream",
     "text": [
      "[INFO] Keeping all rows: 89710 rows retained.\n"
     ]
    },
    {
     "data": {
      "text/html": [
       "<div>\n",
       "<style scoped>\n",
       "    .dataframe tbody tr th:only-of-type {\n",
       "        vertical-align: middle;\n",
       "    }\n",
       "\n",
       "    .dataframe tbody tr th {\n",
       "        vertical-align: top;\n",
       "    }\n",
       "\n",
       "    .dataframe thead th {\n",
       "        text-align: right;\n",
       "    }\n",
       "</style>\n",
       "<table border=\"1\" class=\"dataframe\">\n",
       "  <thead>\n",
       "    <tr style=\"text-align: right;\">\n",
       "      <th></th>\n",
       "      <th>run_no</th>\n",
       "      <th>universe_id</th>\n",
       "      <th>universe_settings</th>\n",
       "      <th>execution_time</th>\n",
       "      <th>test_size_n</th>\n",
       "      <th>test_size_frac</th>\n",
       "      <th>fair_main_equalized_odds_difference</th>\n",
       "      <th>fair_main_equalized_odds_ratio</th>\n",
       "      <th>fair_main_demographic_parity_difference</th>\n",
       "      <th>fair_main_demographic_parity_ratio</th>\n",
       "      <th>...</th>\n",
       "      <th>perf_grp_precision_0</th>\n",
       "      <th>perf_grp_precision_1</th>\n",
       "      <th>perf_grp_false positive rate_0</th>\n",
       "      <th>perf_grp_false positive rate_1</th>\n",
       "      <th>perf_grp_false negative rate_0</th>\n",
       "      <th>perf_grp_false negative rate_1</th>\n",
       "      <th>perf_grp_selection rate_0</th>\n",
       "      <th>perf_grp_selection rate_1</th>\n",
       "      <th>perf_grp_count_0</th>\n",
       "      <th>perf_grp_count_1</th>\n",
       "    </tr>\n",
       "  </thead>\n",
       "  <tbody>\n",
       "    <tr>\n",
       "      <th>0</th>\n",
       "      <td>14</td>\n",
       "      <td>f7a963de121b4420f79d389821441c5a</td>\n",
       "      <td>{\"cutoff\": \"quantile_0.1\", \"eval_fairness_grou...</td>\n",
       "      <td>26.25663</td>\n",
       "      <td>89710</td>\n",
       "      <td>1.0</td>\n",
       "      <td>0.056340</td>\n",
       "      <td>0.939773</td>\n",
       "      <td>0.051461</td>\n",
       "      <td>0.945235</td>\n",
       "      <td>...</td>\n",
       "      <td>NaN</td>\n",
       "      <td>NaN</td>\n",
       "      <td>NaN</td>\n",
       "      <td>NaN</td>\n",
       "      <td>NaN</td>\n",
       "      <td>NaN</td>\n",
       "      <td>NaN</td>\n",
       "      <td>NaN</td>\n",
       "      <td>NaN</td>\n",
       "      <td>NaN</td>\n",
       "    </tr>\n",
       "    <tr>\n",
       "      <th>0</th>\n",
       "      <td>14</td>\n",
       "      <td>f7a963de121b4420f79d389821441c5a</td>\n",
       "      <td>{\"cutoff\": \"quantile_0.1\", \"eval_fairness_grou...</td>\n",
       "      <td>26.25663</td>\n",
       "      <td>89710</td>\n",
       "      <td>1.0</td>\n",
       "      <td>0.056340</td>\n",
       "      <td>0.939773</td>\n",
       "      <td>0.051461</td>\n",
       "      <td>0.945235</td>\n",
       "      <td>...</td>\n",
       "      <td>0.119268</td>\n",
       "      <td>0.141036</td>\n",
       "      <td>0.935450</td>\n",
       "      <td>0.879110</td>\n",
       "      <td>0.027872</td>\n",
       "      <td>0.051969</td>\n",
       "      <td>0.939679</td>\n",
       "      <td>0.888217</td>\n",
       "      <td>20540.0</td>\n",
       "      <td>69170.0</td>\n",
       "    </tr>\n",
       "    <tr>\n",
       "      <th>0</th>\n",
       "      <td>14</td>\n",
       "      <td>f7a963de121b4420f79d389821441c5a</td>\n",
       "      <td>{\"cutoff\": \"quantile_0.25\", \"eval_fairness_gro...</td>\n",
       "      <td>26.25663</td>\n",
       "      <td>89710</td>\n",
       "      <td>1.0</td>\n",
       "      <td>0.136629</td>\n",
       "      <td>0.836785</td>\n",
       "      <td>0.125598</td>\n",
       "      <td>0.851686</td>\n",
       "      <td>...</td>\n",
       "      <td>NaN</td>\n",
       "      <td>NaN</td>\n",
       "      <td>NaN</td>\n",
       "      <td>NaN</td>\n",
       "      <td>NaN</td>\n",
       "      <td>NaN</td>\n",
       "      <td>NaN</td>\n",
       "      <td>NaN</td>\n",
       "      <td>NaN</td>\n",
       "      <td>NaN</td>\n",
       "    </tr>\n",
       "    <tr>\n",
       "      <th>0</th>\n",
       "      <td>14</td>\n",
       "      <td>f7a963de121b4420f79d389821441c5a</td>\n",
       "      <td>{\"cutoff\": \"quantile_0.25\", \"eval_fairness_gro...</td>\n",
       "      <td>26.25663</td>\n",
       "      <td>89710</td>\n",
       "      <td>1.0</td>\n",
       "      <td>0.136629</td>\n",
       "      <td>0.836785</td>\n",
       "      <td>0.125598</td>\n",
       "      <td>0.851686</td>\n",
       "      <td>...</td>\n",
       "      <td>0.125446</td>\n",
       "      <td>0.157112</td>\n",
       "      <td>0.837112</td>\n",
       "      <td>0.700483</td>\n",
       "      <td>0.078547</td>\n",
       "      <td>0.142451</td>\n",
       "      <td>0.846835</td>\n",
       "      <td>0.721238</td>\n",
       "      <td>20540.0</td>\n",
       "      <td>69170.0</td>\n",
       "    </tr>\n",
       "  </tbody>\n",
       "</table>\n",
       "<p>4 rows × 50 columns</p>\n",
       "</div>"
      ],
      "text/plain": [
       "  run_no                       universe_id  \\\n",
       "0     14  f7a963de121b4420f79d389821441c5a   \n",
       "0     14  f7a963de121b4420f79d389821441c5a   \n",
       "0     14  f7a963de121b4420f79d389821441c5a   \n",
       "0     14  f7a963de121b4420f79d389821441c5a   \n",
       "\n",
       "                                   universe_settings  execution_time  \\\n",
       "0  {\"cutoff\": \"quantile_0.1\", \"eval_fairness_grou...        26.25663   \n",
       "0  {\"cutoff\": \"quantile_0.1\", \"eval_fairness_grou...        26.25663   \n",
       "0  {\"cutoff\": \"quantile_0.25\", \"eval_fairness_gro...        26.25663   \n",
       "0  {\"cutoff\": \"quantile_0.25\", \"eval_fairness_gro...        26.25663   \n",
       "\n",
       "   test_size_n  test_size_frac  fair_main_equalized_odds_difference  \\\n",
       "0        89710             1.0                             0.056340   \n",
       "0        89710             1.0                             0.056340   \n",
       "0        89710             1.0                             0.136629   \n",
       "0        89710             1.0                             0.136629   \n",
       "\n",
       "   fair_main_equalized_odds_ratio  fair_main_demographic_parity_difference  \\\n",
       "0                        0.939773                                 0.051461   \n",
       "0                        0.939773                                 0.051461   \n",
       "0                        0.836785                                 0.125598   \n",
       "0                        0.836785                                 0.125598   \n",
       "\n",
       "   fair_main_demographic_parity_ratio  ...  perf_grp_precision_0  \\\n",
       "0                            0.945235  ...                   NaN   \n",
       "0                            0.945235  ...              0.119268   \n",
       "0                            0.851686  ...                   NaN   \n",
       "0                            0.851686  ...              0.125446   \n",
       "\n",
       "   perf_grp_precision_1  perf_grp_false positive rate_0  \\\n",
       "0                   NaN                             NaN   \n",
       "0              0.141036                        0.935450   \n",
       "0                   NaN                             NaN   \n",
       "0              0.157112                        0.837112   \n",
       "\n",
       "   perf_grp_false positive rate_1  perf_grp_false negative rate_0  \\\n",
       "0                             NaN                             NaN   \n",
       "0                        0.879110                        0.027872   \n",
       "0                             NaN                             NaN   \n",
       "0                        0.700483                        0.078547   \n",
       "\n",
       "   perf_grp_false negative rate_1  perf_grp_selection rate_0  \\\n",
       "0                             NaN                        NaN   \n",
       "0                        0.051969                   0.939679   \n",
       "0                             NaN                        NaN   \n",
       "0                        0.142451                   0.846835   \n",
       "\n",
       "   perf_grp_selection rate_1  perf_grp_count_0  perf_grp_count_1  \n",
       "0                        NaN               NaN               NaN  \n",
       "0                   0.888217           20540.0           69170.0  \n",
       "0                        NaN               NaN               NaN  \n",
       "0                   0.721238           20540.0           69170.0  \n",
       "\n",
       "[4 rows x 50 columns]"
      ]
     },
     "execution_count": 79,
     "metadata": {},
     "output_type": "execute_result"
    }
   ],
   "source": [
    "final_output = universe_analysis.generate_final_output(\n",
    "    y_pred_prob=probs_test,\n",
    "    y_test=y_true,\n",
    "    org_test=org_test,\n",
    "    filter_data=filter_sub_universe_data,\n",
    "    cp_metrics_df=cp_metrics_df,\n",
    "    save=True,\n",
    ")\n",
    "final_output"
   ]
  },
  {
   "cell_type": "code",
   "execution_count": null,
   "id": "721ff514-cb11-46f8-b6fc-50392f74b5cb",
   "metadata": {
    "papermill": {
     "duration": 0.027991,
     "end_time": "2025-07-30T21:34:52.752912",
     "exception": false,
     "start_time": "2025-07-30T21:34:52.724921",
     "status": "completed"
    },
    "tags": []
   },
   "outputs": [],
   "source": []
  }
 ],
 "metadata": {
  "celltoolbar": "Tags",
  "kernelspec": {
   "display_name": "Python (CMA Fairness)",
   "language": "python",
   "name": "cma_fair_env"
  },
  "language_info": {
   "codemirror_mode": {
    "name": "ipython",
    "version": 3
   },
   "file_extension": ".py",
   "mimetype": "text/x-python",
   "name": "python",
   "nbconvert_exporter": "python",
   "pygments_lexer": "ipython3",
   "version": "3.10.12"
  },
  "papermill": {
   "default_parameters": {},
   "duration": 41.707814,
   "end_time": "2025-07-30T21:34:53.902442",
   "environment_variables": {},
   "exception": null,
   "input_path": "universe_analysis.ipynb",
   "output_path": "output/runs/14/notebooks/m_14-f7a963de121b4420f79d389821441c5a.ipynb",
   "parameters": {
    "output_dir": "output",
    "run_no": "14",
    "seed": "2023",
    "universe": "{\"cutoff\": [\"quantile_0.1\", \"quantile_0.25\"], \"eval_fairness_grouping\": [\"majority-minority\", \"nationality-all\"], \"exclude_features\": \"sex\", \"exclude_subgroups\": \"drop-non-german\", \"model\": \"penalized_logreg\", \"scale\": \"scale\", \"training_size\": \"1k\", \"training_year\": \"2012_14\"}",
    "universe_id": "f7a963de121b4420f79d389821441c5a"
   },
   "start_time": "2025-07-30T21:34:12.194628",
   "version": "2.6.0"
  }
 },
 "nbformat": 4,
 "nbformat_minor": 5
}