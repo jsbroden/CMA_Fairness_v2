{
 "cells": [
  {
   "cell_type": "code",
   "execution_count": 1,
   "id": "f159f837-637b-42ba-96b5-ec9a68c44524",
   "metadata": {
    "execution": {
     "iopub.execute_input": "2025-07-30T21:33:10.413916Z",
     "iopub.status.busy": "2025-07-30T21:33:10.413573Z",
     "iopub.status.idle": "2025-07-30T21:33:10.423563Z",
     "shell.execute_reply": "2025-07-30T21:33:10.422678Z"
    },
    "papermill": {
     "duration": 0.02554,
     "end_time": "2025-07-30T21:33:10.424941",
     "exception": false,
     "start_time": "2025-07-30T21:33:10.399401",
     "status": "completed"
    },
    "tags": []
   },
   "outputs": [
    {
     "name": "stdout",
     "output_type": "stream",
     "text": [
      "/dss/dsshome1/0C/ra93lal2/cma/CMA_Fairness_v2\n"
     ]
    },
    {
     "name": "stderr",
     "output_type": "stream",
     "text": [
      "/dss/dsshome1/0C/ra93lal2/.local/share/virtualenvs/CMA_Fairness_v2-3j10GkSs/lib/python3.10/site-packages/IPython/core/magics/osm.py:393: UserWarning: This is now an optional IPython functionality, using bookmarks requires you to install the `pickleshare` library.\n",
      "  bkms = self.shell.db.get('bookmarks', {})\n",
      "/dss/dsshome1/0C/ra93lal2/.local/share/virtualenvs/CMA_Fairness_v2-3j10GkSs/lib/python3.10/site-packages/IPython/core/magics/osm.py:417: UserWarning: This is now an optional IPython functionality, setting dhist requires you to install the `pickleshare` library.\n",
      "  self.shell.db['dhist'] = compress_dhist(dhist)[-100:]\n"
     ]
    }
   ],
   "source": [
    "%cd ~/cma/CMA_Fairness_v2"
   ]
  },
  {
   "cell_type": "markdown",
   "id": "de2603b9",
   "metadata": {
    "papermill": {
     "duration": 0.009933,
     "end_time": "2025-07-30T21:33:10.445481",
     "exception": false,
     "start_time": "2025-07-30T21:33:10.435548",
     "status": "completed"
    },
    "tags": []
   },
   "source": [
    "The following cell holds the definition of our parameters, these values can be overriden by rendering the with e.g. the following command:\n",
    "\n",
    "papermill -p alpha 0.2 -p ratio 0.3 universe_analysis.ipynb output/test_run.ipynb"
   ]
  },
  {
   "cell_type": "code",
   "execution_count": 2,
   "id": "a80968a0-40bb-4fa9-85ef-2d5eefb01975",
   "metadata": {
    "execution": {
     "iopub.execute_input": "2025-07-30T21:33:10.468188Z",
     "iopub.status.busy": "2025-07-30T21:33:10.467679Z",
     "iopub.status.idle": "2025-07-30T21:33:10.472518Z",
     "shell.execute_reply": "2025-07-30T21:33:10.471829Z"
    },
    "papermill": {
     "duration": 0.018277,
     "end_time": "2025-07-30T21:33:10.473845",
     "exception": false,
     "start_time": "2025-07-30T21:33:10.455568",
     "status": "completed"
    },
    "tags": []
   },
   "outputs": [
    {
     "name": "stdout",
     "output_type": "stream",
     "text": [
      "Current working directory: /dss/dsshome1/0C/ra93lal2/cma/CMA_Fairness_v2\n"
     ]
    }
   ],
   "source": [
    "import os\n",
    "print(\"Current working directory:\", os.getcwd())"
   ]
  },
  {
   "cell_type": "code",
   "execution_count": 3,
   "id": "2dce4c03",
   "metadata": {
    "execution": {
     "iopub.execute_input": "2025-07-30T21:33:10.496620Z",
     "iopub.status.busy": "2025-07-30T21:33:10.496105Z",
     "iopub.status.idle": "2025-07-30T21:33:10.501477Z",
     "shell.execute_reply": "2025-07-30T21:33:10.500733Z"
    },
    "papermill": {
     "duration": 0.018228,
     "end_time": "2025-07-30T21:33:10.502929",
     "exception": false,
     "start_time": "2025-07-30T21:33:10.484701",
     "status": "completed"
    },
    "tags": [
     "parameters"
    ]
   },
   "outputs": [],
   "source": [
    "run_no = 0\n",
    "universe_id = \"test\"\n",
    "universe = {\n",
    "    \"training_size\": \"25k\", # \"25k\", \"5k\", \"1k\"\n",
    "    \"training_year\": \"2014\", # \"2014\", \"2012_14\", \"2010_14\"\n",
    "    \"scale\": \"scale\", # \"scale\", \"do-not-scale\",\n",
    "    #\"stratify_split\": \"target\", # \"none\", \"target\", \"protected-attribute\", \"both\",\n",
    "    \"model\": \"elasticnet\", # \"logreg\", \"penalized_logreg\", \"rf\", \"gbm\", \"elasticnet\"\n",
    "    \"cutoff\": [\"quantile_0.15\", \"quantile_0.30\"],\n",
    "    \"exclude_features\": \"age\", # \"none\", \"nationality\", \"sex\", \"nationality-sex\", \"age\"\n",
    "    \"exclude_subgroups\": \"keep-all\", # \"keep-all\", \"drop-non-german\"\n",
    "    \"eval_fairness_grouping\": [\"majority-minority\", \"nationality-all\"]\n",
    "}\n",
    "\n",
    "output_dir=\"./output\"\n",
    "seed=0"
   ]
  },
  {
   "cell_type": "code",
   "execution_count": 4,
   "id": "540735db",
   "metadata": {
    "execution": {
     "iopub.execute_input": "2025-07-30T21:33:10.539748Z",
     "iopub.status.busy": "2025-07-30T21:33:10.539334Z",
     "iopub.status.idle": "2025-07-30T21:33:10.544605Z",
     "shell.execute_reply": "2025-07-30T21:33:10.543650Z"
    },
    "papermill": {
     "duration": 0.027809,
     "end_time": "2025-07-30T21:33:10.546263",
     "exception": false,
     "start_time": "2025-07-30T21:33:10.518454",
     "status": "completed"
    },
    "tags": [
     "injected-parameters"
    ]
   },
   "outputs": [],
   "source": [
    "# Parameters\n",
    "universe_id = \"dd6a72b9ee8d00e5e87f024922c8b72d\"\n",
    "run_no = \"14\"\n",
    "universe = \"{\\\"cutoff\\\": [\\\"quantile_0.1\\\", \\\"quantile_0.25\\\"], \\\"eval_fairness_grouping\\\": [\\\"majority-minority\\\", \\\"nationality-all\\\"], \\\"exclude_features\\\": \\\"sex\\\", \\\"exclude_subgroups\\\": \\\"keep-all\\\", \\\"model\\\": \\\"logreg\\\", \\\"scale\\\": \\\"scale\\\", \\\"training_size\\\": \\\"1k\\\", \\\"training_year\\\": \\\"2012_14\\\"}\"\n",
    "output_dir = \"output\"\n",
    "seed = \"2023\"\n"
   ]
  },
  {
   "cell_type": "code",
   "execution_count": 5,
   "id": "1650acaf",
   "metadata": {
    "execution": {
     "iopub.execute_input": "2025-07-30T21:33:10.579668Z",
     "iopub.status.busy": "2025-07-30T21:33:10.579225Z",
     "iopub.status.idle": "2025-07-30T21:33:10.583089Z",
     "shell.execute_reply": "2025-07-30T21:33:10.582399Z"
    },
    "papermill": {
     "duration": 0.017843,
     "end_time": "2025-07-30T21:33:10.584378",
     "exception": false,
     "start_time": "2025-07-30T21:33:10.566535",
     "status": "completed"
    },
    "tags": []
   },
   "outputs": [],
   "source": [
    "import json\n",
    "# Parse universe into dict if it is passed as a string\n",
    "if isinstance(universe, str):\n",
    "    universe = json.loads(universe)"
   ]
  },
  {
   "cell_type": "code",
   "execution_count": 6,
   "id": "16620c48",
   "metadata": {
    "execution": {
     "iopub.execute_input": "2025-07-30T21:33:10.605522Z",
     "iopub.status.busy": "2025-07-30T21:33:10.605237Z",
     "iopub.status.idle": "2025-07-30T21:33:10.636791Z",
     "shell.execute_reply": "2025-07-30T21:33:10.636104Z"
    },
    "papermill": {
     "duration": 0.043453,
     "end_time": "2025-07-30T21:33:10.638048",
     "exception": false,
     "start_time": "2025-07-30T21:33:10.594595",
     "status": "completed"
    },
    "tags": []
   },
   "outputs": [],
   "source": [
    "# Auto-reload the custom package\n",
    "%load_ext autoreload\n",
    "%autoreload 1\n",
    "%aimport fairness_multiverse"
   ]
  },
  {
   "cell_type": "code",
   "execution_count": 7,
   "id": "01c5c9f3",
   "metadata": {
    "execution": {
     "iopub.execute_input": "2025-07-30T21:33:10.659533Z",
     "iopub.status.busy": "2025-07-30T21:33:10.658993Z",
     "iopub.status.idle": "2025-07-30T21:33:12.592748Z",
     "shell.execute_reply": "2025-07-30T21:33:12.591676Z"
    },
    "papermill": {
     "duration": 1.946442,
     "end_time": "2025-07-30T21:33:12.594827",
     "exception": false,
     "start_time": "2025-07-30T21:33:10.648385",
     "status": "completed"
    },
    "tags": []
   },
   "outputs": [],
   "source": [
    "from fairness_multiverse.universe import UniverseAnalysis\n",
    "\n",
    "universe_analysis = UniverseAnalysis(\n",
    "    run_no = run_no,\n",
    "    universe_id = universe_id,\n",
    "    universe = universe,\n",
    "    output_dir=output_dir,\n",
    ")"
   ]
  },
  {
   "cell_type": "code",
   "execution_count": 8,
   "id": "106241f5",
   "metadata": {
    "execution": {
     "iopub.execute_input": "2025-07-30T21:33:12.642906Z",
     "iopub.status.busy": "2025-07-30T21:33:12.641878Z",
     "iopub.status.idle": "2025-07-30T21:33:12.648846Z",
     "shell.execute_reply": "2025-07-30T21:33:12.647760Z"
    },
    "papermill": {
     "duration": 0.031239,
     "end_time": "2025-07-30T21:33:12.650500",
     "exception": false,
     "start_time": "2025-07-30T21:33:12.619261",
     "status": "completed"
    },
    "tags": []
   },
   "outputs": [
    {
     "name": "stdout",
     "output_type": "stream",
     "text": [
      "Using Seed: 2023\n"
     ]
    }
   ],
   "source": [
    "import numpy as np\n",
    "parsed_seed = int(seed)\n",
    "np.random.seed(parsed_seed)\n",
    "print(f\"Using Seed: {parsed_seed}\")"
   ]
  },
  {
   "cell_type": "markdown",
   "id": "e0ebdc57",
   "metadata": {
    "papermill": {
     "duration": 0.019453,
     "end_time": "2025-07-30T21:33:12.690511",
     "exception": false,
     "start_time": "2025-07-30T21:33:12.671058",
     "status": "completed"
    },
    "tags": []
   },
   "source": [
    "# Loading Data"
   ]
  },
  {
   "cell_type": "markdown",
   "id": "681925a3",
   "metadata": {
    "papermill": {
     "duration": 0.019842,
     "end_time": "2025-07-30T21:33:12.729562",
     "exception": false,
     "start_time": "2025-07-30T21:33:12.709720",
     "status": "completed"
    },
    "tags": []
   },
   "source": [
    "Load siab_train, siab_test, siab_calib and/or \n",
    "load siab_train_features, siab_train_labels"
   ]
  },
  {
   "cell_type": "code",
   "execution_count": 9,
   "id": "f0496b8a",
   "metadata": {
    "execution": {
     "iopub.execute_input": "2025-07-30T21:33:12.771179Z",
     "iopub.status.busy": "2025-07-30T21:33:12.770629Z",
     "iopub.status.idle": "2025-07-30T21:33:25.006292Z",
     "shell.execute_reply": "2025-07-30T21:33:25.005106Z"
    },
    "papermill": {
     "duration": 12.258635,
     "end_time": "2025-07-30T21:33:25.008082",
     "exception": false,
     "start_time": "2025-07-30T21:33:12.749447",
     "status": "completed"
    },
    "tags": []
   },
   "outputs": [
    {
     "name": "stdout",
     "output_type": "stream",
     "text": [
      "Loading SIAB data from cache: data/siab_cached.csv.gz\n"
     ]
    },
    {
     "name": "stdout",
     "output_type": "stream",
     "text": [
      "(643690, 164)\n"
     ]
    }
   ],
   "source": [
    "from pathlib import Path\n",
    "import pandas as pd\n",
    "\n",
    "# File paths\n",
    "raw_file = Path(\"data/raw/siab.csv\")\n",
    "cache_file = Path(\"data/siab_cached.csv.gz\")\n",
    "\n",
    "# Ensure cache directory exists\n",
    "cache_file.parent.mkdir(parents=True, exist_ok=True)\n",
    "\n",
    "# Load with simple caching\n",
    "if cache_file.exists():\n",
    "    print(f\"Loading SIAB data from cache: {cache_file}\")\n",
    "    siab = pd.read_csv(cache_file, compression='gzip')\n",
    "else:\n",
    "    print(f\"Cache not found. Reading raw SIAB data: {raw_file}\")\n",
    "    siab = pd.read_csv(raw_file)\n",
    "    siab.to_csv(cache_file, index=False, compression='gzip')\n",
    "    print(f\"Cached SIAB data to: {cache_file}\")\n",
    "\n",
    "# Now use `siab` DataFrame as needed\n",
    "print(siab.shape)"
   ]
  },
  {
   "cell_type": "code",
   "execution_count": 10,
   "id": "db0ca512-5f53-4dba-abdb-a2888bca41ba",
   "metadata": {
    "execution": {
     "iopub.execute_input": "2025-07-30T21:33:25.055101Z",
     "iopub.status.busy": "2025-07-30T21:33:25.054519Z",
     "iopub.status.idle": "2025-07-30T21:33:25.061137Z",
     "shell.execute_reply": "2025-07-30T21:33:25.060263Z"
    },
    "papermill": {
     "duration": 0.031034,
     "end_time": "2025-07-30T21:33:25.062899",
     "exception": false,
     "start_time": "2025-07-30T21:33:25.031865",
     "status": "completed"
    },
    "tags": []
   },
   "outputs": [],
   "source": [
    "#siab"
   ]
  },
  {
   "cell_type": "code",
   "execution_count": 11,
   "id": "a0edb063",
   "metadata": {
    "execution": {
     "iopub.execute_input": "2025-07-30T21:33:25.105637Z",
     "iopub.status.busy": "2025-07-30T21:33:25.105032Z",
     "iopub.status.idle": "2025-07-30T21:33:25.109600Z",
     "shell.execute_reply": "2025-07-30T21:33:25.108749Z"
    },
    "papermill": {
     "duration": 0.027269,
     "end_time": "2025-07-30T21:33:25.111534",
     "exception": false,
     "start_time": "2025-07-30T21:33:25.084265",
     "status": "completed"
    },
    "tags": []
   },
   "outputs": [],
   "source": [
    "#import pandas as pd\n",
    "#\n",
    "#X_train = pd.read_csv(\"./data/X_train.csv\")\n",
    "#y_train = pd.read_csv(\"./data/y_train.csv\")"
   ]
  },
  {
   "cell_type": "code",
   "execution_count": 12,
   "id": "63d08085",
   "metadata": {
    "execution": {
     "iopub.execute_input": "2025-07-30T21:33:25.154938Z",
     "iopub.status.busy": "2025-07-30T21:33:25.154507Z",
     "iopub.status.idle": "2025-07-30T21:33:25.159142Z",
     "shell.execute_reply": "2025-07-30T21:33:25.158243Z"
    },
    "papermill": {
     "duration": 0.027768,
     "end_time": "2025-07-30T21:33:25.160688",
     "exception": false,
     "start_time": "2025-07-30T21:33:25.132920",
     "status": "completed"
    },
    "tags": []
   },
   "outputs": [],
   "source": [
    "#X_test = pd.read_csv(\"./data/X_test.csv\")\n",
    "#y_true = pd.read_csv(\"./data/y_test.csv\")"
   ]
  },
  {
   "cell_type": "code",
   "execution_count": 13,
   "id": "98a8d0fa-1d3d-4ed8-bb2c-281470e24add",
   "metadata": {
    "execution": {
     "iopub.execute_input": "2025-07-30T21:33:25.203675Z",
     "iopub.status.busy": "2025-07-30T21:33:25.202861Z",
     "iopub.status.idle": "2025-07-30T21:33:25.208348Z",
     "shell.execute_reply": "2025-07-30T21:33:25.207329Z"
    },
    "papermill": {
     "duration": 0.029245,
     "end_time": "2025-07-30T21:33:25.210125",
     "exception": false,
     "start_time": "2025-07-30T21:33:25.180880",
     "status": "completed"
    },
    "tags": []
   },
   "outputs": [],
   "source": [
    "# Calibration data for conformal\n",
    "#X_calib = pd.read_csv(\"./data/X_calib.csv\")\n",
    "#y_calib = pd.read_csv(\"./data/y_calib.csv\")"
   ]
  },
  {
   "cell_type": "markdown",
   "id": "997051c5-15bd-4b69-9786-c3001a3ce484",
   "metadata": {
    "papermill": {
     "duration": 0.021963,
     "end_time": "2025-07-30T21:33:25.253245",
     "exception": false,
     "start_time": "2025-07-30T21:33:25.231282",
     "status": "completed"
    },
    "tags": []
   },
   "source": [
    "# Splitting Data and Setting Training Data Size"
   ]
  },
  {
   "cell_type": "code",
   "execution_count": 14,
   "id": "e993b61f-042d-41a6-8c81-f55681f86335",
   "metadata": {
    "execution": {
     "iopub.execute_input": "2025-07-30T21:33:25.297067Z",
     "iopub.status.busy": "2025-07-30T21:33:25.296359Z",
     "iopub.status.idle": "2025-07-30T21:33:25.309748Z",
     "shell.execute_reply": "2025-07-30T21:33:25.308739Z"
    },
    "papermill": {
     "duration": 0.03632,
     "end_time": "2025-07-30T21:33:25.311396",
     "exception": false,
     "start_time": "2025-07-30T21:33:25.275076",
     "status": "completed"
    },
    "tags": []
   },
   "outputs": [],
   "source": [
    "def sample_by_year_size(df,\n",
    "                        training_year: str,\n",
    "                        training_size: str,\n",
    "                        random_state: int = 42):\n",
    "    # --- parse training_year into a list of int years ---\n",
    "    if \"_\" in training_year:\n",
    "        start_str, end_str = training_year.split(\"_\", 1)\n",
    "        start = int(start_str)\n",
    "        end   = int(end_str) if len(end_str) == 4 else (int(end_str) + (start // 100)*100)\n",
    "        years = list(range(start, end + 1))\n",
    "    else:\n",
    "        years = [int(training_year)]\n",
    "\n",
    "    df = df[df[\"year\"].isin(years)].reset_index(drop=True)\n",
    "\n",
    "    # --- map training_size to total number of samples ---\n",
    "    total_map = {\"25k\": 25_000, \"5k\": 5_000, \"1k\": 1_000}\n",
    "    if training_size not in total_map:\n",
    "        return df  # e.g. \"all\"\n",
    "\n",
    "    total_samples = total_map[training_size]\n",
    "    n_years       = len(years)\n",
    "    base          = total_samples // n_years\n",
    "    remainder     = total_samples % n_years\n",
    "\n",
    "    # --- build a dict: year -> how many to sample ---\n",
    "    # give +1 to the first `remainder` years in ascending order\n",
    "    quotas = {\n",
    "        year: base + (1 if idx < remainder else 0)\n",
    "        for idx, year in enumerate(sorted(years))\n",
    "    }\n",
    "\n",
    "    # --- sample per‐year according to the quota dict ---\n",
    "    sampled = (\n",
    "        df\n",
    "        .groupby(\"year\", group_keys=False)\n",
    "        .apply(lambda grp: grp.sample(\n",
    "            n=min(len(grp), quotas[grp.name]),\n",
    "            random_state=random_state))\n",
    "        .reset_index(drop=True)\n",
    "    )\n",
    "\n",
    "    return sampled"
   ]
  },
  {
   "cell_type": "code",
   "execution_count": 15,
   "id": "c0ccd338-0e02-41f3-a09d-f56f9266e3fb",
   "metadata": {
    "execution": {
     "iopub.execute_input": "2025-07-30T21:33:25.355685Z",
     "iopub.status.busy": "2025-07-30T21:33:25.354781Z",
     "iopub.status.idle": "2025-07-30T21:33:25.359814Z",
     "shell.execute_reply": "2025-07-30T21:33:25.358923Z"
    },
    "papermill": {
     "duration": 0.028275,
     "end_time": "2025-07-30T21:33:25.361526",
     "exception": false,
     "start_time": "2025-07-30T21:33:25.333251",
     "status": "completed"
    },
    "tags": []
   },
   "outputs": [],
   "source": [
    "#universe[\"training_size\"]"
   ]
  },
  {
   "cell_type": "code",
   "execution_count": 16,
   "id": "ca707fd7-8047-4acd-bfa5-66248fbbf8e6",
   "metadata": {
    "execution": {
     "iopub.execute_input": "2025-07-30T21:33:25.404754Z",
     "iopub.status.busy": "2025-07-30T21:33:25.404148Z",
     "iopub.status.idle": "2025-07-30T21:33:25.409514Z",
     "shell.execute_reply": "2025-07-30T21:33:25.408593Z"
    },
    "papermill": {
     "duration": 0.029487,
     "end_time": "2025-07-30T21:33:25.411560",
     "exception": false,
     "start_time": "2025-07-30T21:33:25.382073",
     "status": "completed"
    },
    "tags": []
   },
   "outputs": [],
   "source": [
    "#universe[\"training_year\"]"
   ]
  },
  {
   "cell_type": "code",
   "execution_count": 17,
   "id": "aea9c6ef-6f46-42c8-85eb-5a62025c1508",
   "metadata": {
    "execution": {
     "iopub.execute_input": "2025-07-30T21:33:25.454577Z",
     "iopub.status.busy": "2025-07-30T21:33:25.453922Z",
     "iopub.status.idle": "2025-07-30T21:33:26.032236Z",
     "shell.execute_reply": "2025-07-30T21:33:26.031066Z"
    },
    "papermill": {
     "duration": 0.601726,
     "end_time": "2025-07-30T21:33:26.034189",
     "exception": false,
     "start_time": "2025-07-30T21:33:25.432463",
     "status": "completed"
    },
    "tags": []
   },
   "outputs": [],
   "source": [
    "siab_train = sample_by_year_size(siab,\n",
    "                               training_year=universe[\"training_year\"],\n",
    "                               training_size=universe[\"training_size\"])"
   ]
  },
  {
   "cell_type": "code",
   "execution_count": 18,
   "id": "8d3afb32-789d-442c-8d5d-9f5aa8dd2eed",
   "metadata": {
    "execution": {
     "iopub.execute_input": "2025-07-30T21:33:26.079924Z",
     "iopub.status.busy": "2025-07-30T21:33:26.079289Z",
     "iopub.status.idle": "2025-07-30T21:33:26.084169Z",
     "shell.execute_reply": "2025-07-30T21:33:26.083175Z"
    },
    "papermill": {
     "duration": 0.027779,
     "end_time": "2025-07-30T21:33:26.085714",
     "exception": false,
     "start_time": "2025-07-30T21:33:26.057935",
     "status": "completed"
    },
    "tags": []
   },
   "outputs": [],
   "source": [
    "#siab_train.shape"
   ]
  },
  {
   "cell_type": "code",
   "execution_count": 19,
   "id": "d582db68-1a4c-47fb-84fc-08518dc1975a",
   "metadata": {
    "execution": {
     "iopub.execute_input": "2025-07-30T21:33:26.127098Z",
     "iopub.status.busy": "2025-07-30T21:33:26.126589Z",
     "iopub.status.idle": "2025-07-30T21:33:26.132334Z",
     "shell.execute_reply": "2025-07-30T21:33:26.131120Z"
    },
    "papermill": {
     "duration": 0.028674,
     "end_time": "2025-07-30T21:33:26.134041",
     "exception": false,
     "start_time": "2025-07-30T21:33:26.105367",
     "status": "completed"
    },
    "tags": []
   },
   "outputs": [],
   "source": [
    "#display(siab_train.groupby(\"year\").size())"
   ]
  },
  {
   "cell_type": "code",
   "execution_count": 20,
   "id": "a561edb4-d032-42cb-8256-22eac1111c64",
   "metadata": {
    "execution": {
     "iopub.execute_input": "2025-07-30T21:33:26.177528Z",
     "iopub.status.busy": "2025-07-30T21:33:26.176844Z",
     "iopub.status.idle": "2025-07-30T21:33:26.440400Z",
     "shell.execute_reply": "2025-07-30T21:33:26.437033Z"
    },
    "papermill": {
     "duration": 0.287142,
     "end_time": "2025-07-30T21:33:26.442211",
     "exception": false,
     "start_time": "2025-07-30T21:33:26.155069",
     "status": "completed"
    },
    "tags": []
   },
   "outputs": [],
   "source": [
    "#siab_train = siab_s[siab_s.year < 2015]\n",
    "siab_calib = siab[siab.year == 2015]\n",
    "siab_test = siab[siab.year == 2016]"
   ]
  },
  {
   "cell_type": "code",
   "execution_count": 21,
   "id": "472de16f-c3db-4916-846b-1f0de9cf1746",
   "metadata": {
    "execution": {
     "iopub.execute_input": "2025-07-30T21:33:26.484237Z",
     "iopub.status.busy": "2025-07-30T21:33:26.483157Z",
     "iopub.status.idle": "2025-07-30T21:33:26.490429Z",
     "shell.execute_reply": "2025-07-30T21:33:26.489427Z"
    },
    "papermill": {
     "duration": 0.030891,
     "end_time": "2025-07-30T21:33:26.493055",
     "exception": false,
     "start_time": "2025-07-30T21:33:26.462164",
     "status": "completed"
    },
    "tags": []
   },
   "outputs": [],
   "source": [
    "X_train = siab_train.iloc[:,4:164]\n",
    "y_train = siab_train.iloc[:, [3]]"
   ]
  },
  {
   "cell_type": "code",
   "execution_count": 22,
   "id": "828c96af-f43a-4ed6-ba47-8ac73a47d56c",
   "metadata": {
    "execution": {
     "iopub.execute_input": "2025-07-30T21:33:26.536216Z",
     "iopub.status.busy": "2025-07-30T21:33:26.535701Z",
     "iopub.status.idle": "2025-07-30T21:33:26.586943Z",
     "shell.execute_reply": "2025-07-30T21:33:26.585896Z"
    },
    "papermill": {
     "duration": 0.074142,
     "end_time": "2025-07-30T21:33:26.588684",
     "exception": false,
     "start_time": "2025-07-30T21:33:26.514542",
     "status": "completed"
    },
    "tags": []
   },
   "outputs": [],
   "source": [
    "X_calib = siab_calib.iloc[:,4:164]\n",
    "y_calib = siab_calib.iloc[:, [3]]"
   ]
  },
  {
   "cell_type": "code",
   "execution_count": 23,
   "id": "c34be9c3-6bd6-476e-acd3-845840e303be",
   "metadata": {
    "execution": {
     "iopub.execute_input": "2025-07-30T21:33:26.630985Z",
     "iopub.status.busy": "2025-07-30T21:33:26.630056Z",
     "iopub.status.idle": "2025-07-30T21:33:26.685973Z",
     "shell.execute_reply": "2025-07-30T21:33:26.684860Z"
    },
    "papermill": {
     "duration": 0.078721,
     "end_time": "2025-07-30T21:33:26.688193",
     "exception": false,
     "start_time": "2025-07-30T21:33:26.609472",
     "status": "completed"
    },
    "tags": []
   },
   "outputs": [],
   "source": [
    "X_test = siab_test.iloc[:,4:164]\n",
    "y_true = siab_test.iloc[:, [3]]"
   ]
  },
  {
   "cell_type": "markdown",
   "id": "9901737e-04df-44f0-9100-f5ad144ed040",
   "metadata": {
    "papermill": {
     "duration": 0.020331,
     "end_time": "2025-07-30T21:33:26.730556",
     "exception": false,
     "start_time": "2025-07-30T21:33:26.710225",
     "status": "completed"
    },
    "tags": []
   },
   "source": [
    "# Splitting Data and Setting Training Data Size OLD VERSION"
   ]
  },
  {
   "cell_type": "code",
   "execution_count": 24,
   "id": "acbc8f7d-8fc8-4e86-8c59-5dcb0f58384b",
   "metadata": {
    "execution": {
     "iopub.execute_input": "2025-07-30T21:33:26.774560Z",
     "iopub.status.busy": "2025-07-30T21:33:26.773887Z",
     "iopub.status.idle": "2025-07-30T21:33:26.779226Z",
     "shell.execute_reply": "2025-07-30T21:33:26.778274Z"
    },
    "papermill": {
     "duration": 0.029722,
     "end_time": "2025-07-30T21:33:26.780975",
     "exception": false,
     "start_time": "2025-07-30T21:33:26.751253",
     "status": "completed"
    },
    "tags": []
   },
   "outputs": [],
   "source": [
    "#def sample_by_year(df, training_size, random_state=42):\n",
    "#    if training_size == \"2014\":\n",
    "#        return df[df[\"year\"] == 2014].reset_index(drop=True)\n",
    "#    \n",
    "#    size_map = {\n",
    "#        \"25k\": 5000,\n",
    "#        \"5k\": 1000,\n",
    "#        \"1k\": 200\n",
    "#    }\n",
    "#\n",
    "#    if training_size not in size_map:\n",
    "#        return df.reset_index(drop=True)  # use all data\n",
    "#\n",
    "#    n_per_year = size_map[training_size]\n",
    "#    grouped = df.groupby(\"year\")\n",
    "#    sampled = grouped.apply(lambda x: x.sample(n=min(n_per_year, len(x)), random_state=random_state))\n",
    "#    return sampled.reset_index(drop=True)"
   ]
  },
  {
   "cell_type": "code",
   "execution_count": 25,
   "id": "6d931f52-beaf-43ff-9e78-9d44a448d54e",
   "metadata": {
    "execution": {
     "iopub.execute_input": "2025-07-30T21:33:26.823140Z",
     "iopub.status.busy": "2025-07-30T21:33:26.822518Z",
     "iopub.status.idle": "2025-07-30T21:33:26.827892Z",
     "shell.execute_reply": "2025-07-30T21:33:26.826944Z"
    },
    "papermill": {
     "duration": 0.028211,
     "end_time": "2025-07-30T21:33:26.829417",
     "exception": false,
     "start_time": "2025-07-30T21:33:26.801206",
     "status": "completed"
    },
    "tags": []
   },
   "outputs": [],
   "source": [
    "#siab_s = sample_by_year(siab, universe[\"training_size\"])"
   ]
  },
  {
   "cell_type": "code",
   "execution_count": 26,
   "id": "5db0a40e-a4e2-4920-be85-b12ae061d70d",
   "metadata": {
    "execution": {
     "iopub.execute_input": "2025-07-30T21:33:26.872252Z",
     "iopub.status.busy": "2025-07-30T21:33:26.871292Z",
     "iopub.status.idle": "2025-07-30T21:33:26.876191Z",
     "shell.execute_reply": "2025-07-30T21:33:26.875280Z"
    },
    "papermill": {
     "duration": 0.02777,
     "end_time": "2025-07-30T21:33:26.877755",
     "exception": false,
     "start_time": "2025-07-30T21:33:26.849985",
     "status": "completed"
    },
    "tags": []
   },
   "outputs": [],
   "source": [
    "#display(siab_s.groupby(\"year\").size())"
   ]
  },
  {
   "cell_type": "code",
   "execution_count": 27,
   "id": "e6c733c5",
   "metadata": {
    "execution": {
     "iopub.execute_input": "2025-07-30T21:33:26.925813Z",
     "iopub.status.busy": "2025-07-30T21:33:26.925154Z",
     "iopub.status.idle": "2025-07-30T21:33:27.020501Z",
     "shell.execute_reply": "2025-07-30T21:33:27.019461Z"
    },
    "papermill": {
     "duration": 0.121885,
     "end_time": "2025-07-30T21:33:27.022420",
     "exception": false,
     "start_time": "2025-07-30T21:33:26.900535",
     "status": "completed"
    },
    "tags": []
   },
   "outputs": [],
   "source": [
    "# Auxiliary data needed downstream in the pipeline\n",
    "\n",
    "org_train = X_train.copy()\n",
    "org_test = X_test.copy()\n",
    "org_calib = X_calib.copy()"
   ]
  },
  {
   "cell_type": "code",
   "execution_count": 28,
   "id": "1466abac-c6da-4492-a62f-4240ae3783af",
   "metadata": {
    "execution": {
     "iopub.execute_input": "2025-07-30T21:33:27.065396Z",
     "iopub.status.busy": "2025-07-30T21:33:27.064724Z",
     "iopub.status.idle": "2025-07-30T21:33:27.070597Z",
     "shell.execute_reply": "2025-07-30T21:33:27.069615Z"
    },
    "papermill": {
     "duration": 0.028936,
     "end_time": "2025-07-30T21:33:27.072188",
     "exception": false,
     "start_time": "2025-07-30T21:33:27.043252",
     "status": "completed"
    },
    "tags": []
   },
   "outputs": [],
   "source": [
    "# put in other script?\n",
    "# Group sizes\n",
    "\n",
    "#def calculate_percentages(df, df_name):\n",
    "#    total_entries = len(df)\n",
    "#\n",
    "#    female_pct = (df['frau1'] == 1).mean() * 100\n",
    "#    non_german_pct = ((df['maxdeutsch1'] == 0) & (df['maxdeutsch.Missing.'] == 0)).mean() * 100\n",
    "#    non_german_male_pct = ((df['frau1'] == 0) & (df['maxdeutsch1'] == 0) & (df['maxdeutsch.Missing.'] == 0)).mean() * 100\n",
    "#    non_german_female_pct = ((df['frau1'] == 1) & (df['maxdeutsch1'] == 0) & (df['maxdeutsch.Missing.'] == 0)).mean() * 100\n",
    "#\n",
    "#    print(f\"--- {df_name} ---\")\n",
    "#    print(f\"Female: {female_pct:.2f}%\")\n",
    "#    print(f\"Non-German: {non_german_pct:.2f}%\")\n",
    "#    print(f\"Non-German Male: {non_german_male_pct:.2f}%\")\n",
    "#    print(f\"Non-German Female: {non_german_female_pct:.2f}%\\n\")\n",
    "#\n",
    "## Calculate for each DataFrame\n",
    "#calculate_percentages(siab_calib, \"siab_calib\")\n",
    "#calculate_percentages(siab_test, \"siab_test\")\n",
    "#calculate_percentages(siab_train, \"siab_train\")"
   ]
  },
  {
   "cell_type": "markdown",
   "id": "0a4a1b33",
   "metadata": {
    "papermill": {
     "duration": 0.019633,
     "end_time": "2025-07-30T21:33:27.111921",
     "exception": false,
     "start_time": "2025-07-30T21:33:27.092288",
     "status": "completed"
    },
    "tags": []
   },
   "source": [
    "# Preprocessing Data"
   ]
  },
  {
   "cell_type": "code",
   "execution_count": 29,
   "id": "ca879031",
   "metadata": {
    "execution": {
     "iopub.execute_input": "2025-07-30T21:33:27.153105Z",
     "iopub.status.busy": "2025-07-30T21:33:27.152498Z",
     "iopub.status.idle": "2025-07-30T21:33:27.158927Z",
     "shell.execute_reply": "2025-07-30T21:33:27.157831Z"
    },
    "papermill": {
     "duration": 0.028882,
     "end_time": "2025-07-30T21:33:27.160420",
     "exception": false,
     "start_time": "2025-07-30T21:33:27.131538",
     "status": "completed"
    },
    "tags": []
   },
   "outputs": [],
   "source": [
    "# EXCLUDE PROTECTED FEATURES\n",
    "# ----------------------\n",
    "# \"exclude_features\": \"none\", # \"nationality\", \"sex\", \"nationality-sex\"\n",
    "\n",
    "excluded_features = universe[\"exclude_features\"].split(\"-\") # split, e.g.: \"nationality-sex\" -> [\"nationality\", \"sex\"]\n",
    "excluded_features_dictionary = {\n",
    "    \"nationality\": [\"maxdeutsch1\", \"maxdeutsch.Missing.\"],\n",
    "    \"sex\": [\"frau1\"],\n",
    "    \"age\": [\"age\"],\n",
    "}\n"
   ]
  },
  {
   "cell_type": "code",
   "execution_count": 30,
   "id": "b745ac60",
   "metadata": {
    "execution": {
     "iopub.execute_input": "2025-07-30T21:33:27.202223Z",
     "iopub.status.busy": "2025-07-30T21:33:27.201665Z",
     "iopub.status.idle": "2025-07-30T21:33:27.207362Z",
     "shell.execute_reply": "2025-07-30T21:33:27.206407Z"
    },
    "papermill": {
     "duration": 0.028375,
     "end_time": "2025-07-30T21:33:27.208980",
     "exception": false,
     "start_time": "2025-07-30T21:33:27.180605",
     "status": "completed"
    },
    "tags": []
   },
   "outputs": [],
   "source": [
    "# Code nice names to column names\n",
    "\n",
    "excluded_features_columns = [\n",
    "    excluded_features_dictionary[f] for f in excluded_features if len(f) > 0 and f != \"none\"\n",
    "]"
   ]
  },
  {
   "cell_type": "code",
   "execution_count": 31,
   "id": "f84f73a2",
   "metadata": {
    "execution": {
     "iopub.execute_input": "2025-07-30T21:33:27.253556Z",
     "iopub.status.busy": "2025-07-30T21:33:27.252932Z",
     "iopub.status.idle": "2025-07-30T21:33:27.259837Z",
     "shell.execute_reply": "2025-07-30T21:33:27.258999Z"
    },
    "papermill": {
     "duration": 0.030503,
     "end_time": "2025-07-30T21:33:27.261527",
     "exception": false,
     "start_time": "2025-07-30T21:33:27.231024",
     "status": "completed"
    },
    "tags": []
   },
   "outputs": [],
   "source": [
    "from utils import flatten_once\n",
    "\n",
    "excluded_features_columns = flatten_once(excluded_features_columns)"
   ]
  },
  {
   "cell_type": "code",
   "execution_count": 32,
   "id": "884dea22",
   "metadata": {
    "execution": {
     "iopub.execute_input": "2025-07-30T21:33:27.304236Z",
     "iopub.status.busy": "2025-07-30T21:33:27.303369Z",
     "iopub.status.idle": "2025-07-30T21:33:27.311643Z",
     "shell.execute_reply": "2025-07-30T21:33:27.310715Z"
    },
    "papermill": {
     "duration": 0.031222,
     "end_time": "2025-07-30T21:33:27.313323",
     "exception": false,
     "start_time": "2025-07-30T21:33:27.282101",
     "status": "completed"
    },
    "tags": []
   },
   "outputs": [
    {
     "name": "stdout",
     "output_type": "stream",
     "text": [
      "Dropping features: ['frau1']\n"
     ]
    }
   ],
   "source": [
    "if len(excluded_features_columns) > 0:\n",
    "    print(f\"Dropping features: {excluded_features_columns}\")\n",
    "    X_train.drop(excluded_features_columns, axis=1, inplace=True)"
   ]
  },
  {
   "cell_type": "code",
   "execution_count": 33,
   "id": "95ab8b16",
   "metadata": {
    "execution": {
     "iopub.execute_input": "2025-07-30T21:33:27.359494Z",
     "iopub.status.busy": "2025-07-30T21:33:27.358951Z",
     "iopub.status.idle": "2025-07-30T21:33:27.411730Z",
     "shell.execute_reply": "2025-07-30T21:33:27.410782Z"
    },
    "papermill": {
     "duration": 0.077567,
     "end_time": "2025-07-30T21:33:27.413478",
     "exception": false,
     "start_time": "2025-07-30T21:33:27.335911",
     "status": "completed"
    },
    "tags": []
   },
   "outputs": [
    {
     "name": "stdout",
     "output_type": "stream",
     "text": [
      "Dropping features: ['frau1']\n"
     ]
    }
   ],
   "source": [
    "if len(excluded_features_columns) > 0:\n",
    "    print(f\"Dropping features: {excluded_features_columns}\")\n",
    "    X_test.drop(excluded_features_columns, axis=1, inplace=True)"
   ]
  },
  {
   "cell_type": "code",
   "execution_count": 34,
   "id": "1853aaf5-fb9f-46cb-a2b5-8ea4ae2237e4",
   "metadata": {
    "execution": {
     "iopub.execute_input": "2025-07-30T21:33:27.457361Z",
     "iopub.status.busy": "2025-07-30T21:33:27.456558Z",
     "iopub.status.idle": "2025-07-30T21:33:27.507505Z",
     "shell.execute_reply": "2025-07-30T21:33:27.506599Z"
    },
    "papermill": {
     "duration": 0.074553,
     "end_time": "2025-07-30T21:33:27.509370",
     "exception": false,
     "start_time": "2025-07-30T21:33:27.434817",
     "status": "completed"
    },
    "tags": []
   },
   "outputs": [
    {
     "name": "stdout",
     "output_type": "stream",
     "text": [
      "Dropping features: ['frau1']\n"
     ]
    }
   ],
   "source": [
    "if len(excluded_features_columns) > 0:\n",
    "    print(f\"Dropping features: {excluded_features_columns}\")\n",
    "    X_calib.drop(excluded_features_columns, axis=1, inplace=True)"
   ]
  },
  {
   "cell_type": "code",
   "execution_count": 35,
   "id": "6727d079-03e5-481e-9d38-292a90b7a0a8",
   "metadata": {
    "execution": {
     "iopub.execute_input": "2025-07-30T21:33:27.555382Z",
     "iopub.status.busy": "2025-07-30T21:33:27.554740Z",
     "iopub.status.idle": "2025-07-30T21:33:27.559779Z",
     "shell.execute_reply": "2025-07-30T21:33:27.558882Z"
    },
    "papermill": {
     "duration": 0.029755,
     "end_time": "2025-07-30T21:33:27.561444",
     "exception": false,
     "start_time": "2025-07-30T21:33:27.531689",
     "status": "completed"
    },
    "tags": []
   },
   "outputs": [],
   "source": [
    "# SPLIT & STRATIFY DATA\n",
    "# ----------------------"
   ]
  },
  {
   "cell_type": "code",
   "execution_count": 36,
   "id": "76c4dc6d",
   "metadata": {
    "execution": {
     "iopub.execute_input": "2025-07-30T21:33:27.606728Z",
     "iopub.status.busy": "2025-07-30T21:33:27.606171Z",
     "iopub.status.idle": "2025-07-30T21:33:27.611496Z",
     "shell.execute_reply": "2025-07-30T21:33:27.610612Z"
    },
    "papermill": {
     "duration": 0.029443,
     "end_time": "2025-07-30T21:33:27.613135",
     "exception": false,
     "start_time": "2025-07-30T21:33:27.583692",
     "status": "completed"
    },
    "tags": []
   },
   "outputs": [],
   "source": [
    "# EXCLUDE CERTAIN SUBGROUPS\n",
    "# ----------------------\n",
    "\n",
    "mode = universe.get(\"exclude_subgroups\", \"keep-all\") \n",
    "# Fetches the exclude_subgroups setting from the universe dict.\n",
    "# Defaults to \"keep-all\" if the key is missing."
   ]
  },
  {
   "cell_type": "code",
   "execution_count": 37,
   "id": "21994072",
   "metadata": {
    "execution": {
     "iopub.execute_input": "2025-07-30T21:33:27.660007Z",
     "iopub.status.busy": "2025-07-30T21:33:27.659376Z",
     "iopub.status.idle": "2025-07-30T21:33:27.666051Z",
     "shell.execute_reply": "2025-07-30T21:33:27.665161Z"
    },
    "papermill": {
     "duration": 0.031317,
     "end_time": "2025-07-30T21:33:27.667549",
     "exception": false,
     "start_time": "2025-07-30T21:33:27.636232",
     "status": "completed"
    },
    "tags": []
   },
   "outputs": [],
   "source": [
    "if mode == \"keep-all\":\n",
    "    keep_mask = pd.Series(True, index=org_train.index)\n",
    "\n",
    "# org_train contains the original feature columns from features_org (in Simson)\n",
    "# features_org contains unprocessed features, for me X_train at beginning ???\n",
    "# For keep-all, creates a boolean Series (keep_mask) of all True, so no rows are removed.\n",
    "\n",
    "elif mode == \"drop-non-german\":\n",
    "    keep_mask = org_train[\"maxdeutsch1\"] == 1 # ??? what about missing values?\n",
    "\n",
    "else:\n",
    "    raise ValueError(f\"Unsupported mode for exclude_subgroups: {mode}\")\n"
   ]
  },
  {
   "cell_type": "code",
   "execution_count": 38,
   "id": "71651440",
   "metadata": {
    "execution": {
     "iopub.execute_input": "2025-07-30T21:33:27.714703Z",
     "iopub.status.busy": "2025-07-30T21:33:27.714085Z",
     "iopub.status.idle": "2025-07-30T21:33:27.720564Z",
     "shell.execute_reply": "2025-07-30T21:33:27.719589Z"
    },
    "papermill": {
     "duration": 0.031698,
     "end_time": "2025-07-30T21:33:27.722075",
     "exception": false,
     "start_time": "2025-07-30T21:33:27.690377",
     "status": "completed"
    },
    "tags": []
   },
   "outputs": [],
   "source": [
    "n_drop = (~keep_mask).sum() # Calculates how many rows are set to be dropped\n",
    "if n_drop > 0:\n",
    "    pct = n_drop / len(keep_mask) * 100\n",
    "    print(f\"Dropping {n_drop} rows ({pct:.2f}%) where mode='{mode}'\")"
   ]
  },
  {
   "cell_type": "code",
   "execution_count": 39,
   "id": "5fb8eee5",
   "metadata": {
    "execution": {
     "iopub.execute_input": "2025-07-30T21:33:27.769441Z",
     "iopub.status.busy": "2025-07-30T21:33:27.768796Z",
     "iopub.status.idle": "2025-07-30T21:33:27.775392Z",
     "shell.execute_reply": "2025-07-30T21:33:27.774489Z"
    },
    "papermill": {
     "duration": 0.032767,
     "end_time": "2025-07-30T21:33:27.776960",
     "exception": false,
     "start_time": "2025-07-30T21:33:27.744193",
     "status": "completed"
    },
    "tags": []
   },
   "outputs": [],
   "source": [
    "X_train = X_train[keep_mask]"
   ]
  },
  {
   "cell_type": "code",
   "execution_count": 40,
   "id": "b202bb3a",
   "metadata": {
    "execution": {
     "iopub.execute_input": "2025-07-30T21:33:27.824961Z",
     "iopub.status.busy": "2025-07-30T21:33:27.824298Z",
     "iopub.status.idle": "2025-07-30T21:33:27.830536Z",
     "shell.execute_reply": "2025-07-30T21:33:27.829642Z"
    },
    "papermill": {
     "duration": 0.032354,
     "end_time": "2025-07-30T21:33:27.832162",
     "exception": false,
     "start_time": "2025-07-30T21:33:27.799808",
     "status": "completed"
    },
    "tags": []
   },
   "outputs": [],
   "source": [
    "y_train = y_train[keep_mask]"
   ]
  },
  {
   "cell_type": "markdown",
   "id": "493e2ac3",
   "metadata": {
    "papermill": {
     "duration": 0.02178,
     "end_time": "2025-07-30T21:33:27.876748",
     "exception": false,
     "start_time": "2025-07-30T21:33:27.854968",
     "status": "completed"
    },
    "tags": []
   },
   "source": [
    "# Model Training"
   ]
  },
  {
   "cell_type": "code",
   "execution_count": 41,
   "id": "679e1268",
   "metadata": {
    "execution": {
     "iopub.execute_input": "2025-07-30T21:33:27.924041Z",
     "iopub.status.busy": "2025-07-30T21:33:27.923523Z",
     "iopub.status.idle": "2025-07-30T21:33:28.028157Z",
     "shell.execute_reply": "2025-07-30T21:33:28.027131Z"
    },
    "papermill": {
     "duration": 0.130311,
     "end_time": "2025-07-30T21:33:28.030029",
     "exception": false,
     "start_time": "2025-07-30T21:33:27.899718",
     "status": "completed"
    },
    "tags": []
   },
   "outputs": [],
   "source": [
    "from sklearn.linear_model import LogisticRegression\n",
    "from sklearn.ensemble import GradientBoostingClassifier, RandomForestClassifier\n",
    "\n",
    "if (universe[\"model\"] == \"logreg\"):\n",
    "    model = LogisticRegression() #penalty=\"none\") #, solver=\"newton-cg\", max_iter=1) # include random_state=19 ?\n",
    "elif (universe[\"model\"] == \"penalized_logreg\"):\n",
    "    model = LogisticRegression(penalty=\"l2\", C=1.0) #, solver=\"newton-cg\", max_iter=1)\n",
    "elif (universe[\"model\"] == \"rf\"):\n",
    "    model = RandomForestClassifier(n_estimators=100, n_jobs=-1)\n",
    "elif (universe[\"model\"] == \"gbm\"):\n",
    "    model = GradientBoostingClassifier()\n",
    "elif (universe[\"model\"] == \"elasticnet\"):\n",
    "    model = LogisticRegression(penalty = 'elasticnet', solver = 'saga', l1_ratio = 0.5, max_iter=5000) # which solver to use?\n",
    "else:\n",
    "    raise \"Unsupported universe.model\""
   ]
  },
  {
   "cell_type": "code",
   "execution_count": 42,
   "id": "0cc8f744",
   "metadata": {
    "execution": {
     "iopub.execute_input": "2025-07-30T21:33:28.078208Z",
     "iopub.status.busy": "2025-07-30T21:33:28.077549Z",
     "iopub.status.idle": "2025-07-30T21:33:28.084072Z",
     "shell.execute_reply": "2025-07-30T21:33:28.083044Z"
    },
    "papermill": {
     "duration": 0.031877,
     "end_time": "2025-07-30T21:33:28.085743",
     "exception": false,
     "start_time": "2025-07-30T21:33:28.053866",
     "status": "completed"
    },
    "tags": []
   },
   "outputs": [],
   "source": [
    "import numpy as np\n",
    "from sklearn.pipeline import Pipeline\n",
    "from sklearn.preprocessing import StandardScaler\n",
    "\n",
    "model = Pipeline([\n",
    "    #(\"continuous_processor\", continuous_processor),\n",
    "    #(\"categorical_preprocessor\", categorical_preprocessor),\n",
    "    (\"scale\", StandardScaler() if universe[\"scale\"] == \"scale\" else None), \n",
    "    (\"model\", model),\n",
    "])"
   ]
  },
  {
   "cell_type": "code",
   "execution_count": 43,
   "id": "9442c04d",
   "metadata": {
    "execution": {
     "iopub.execute_input": "2025-07-30T21:33:28.146959Z",
     "iopub.status.busy": "2025-07-30T21:33:28.146571Z",
     "iopub.status.idle": "2025-07-30T21:33:28.229260Z",
     "shell.execute_reply": "2025-07-30T21:33:28.228115Z"
    },
    "papermill": {
     "duration": 0.10842,
     "end_time": "2025-07-30T21:33:28.231492",
     "exception": false,
     "start_time": "2025-07-30T21:33:28.123072",
     "status": "completed"
    },
    "tags": []
   },
   "outputs": [
    {
     "name": "stderr",
     "output_type": "stream",
     "text": [
      "/dss/dsshome1/0C/ra93lal2/.local/share/virtualenvs/CMA_Fairness_v2-3j10GkSs/lib/python3.10/site-packages/sklearn/linear_model/_logistic.py:444: ConvergenceWarning: lbfgs failed to converge (status=1):\n",
      "STOP: TOTAL NO. of ITERATIONS REACHED LIMIT.\n",
      "\n",
      "Increase the number of iterations (max_iter) or scale the data as shown in:\n",
      "    https://scikit-learn.org/stable/modules/preprocessing.html\n",
      "Please also refer to the documentation for alternative solver options:\n",
      "    https://scikit-learn.org/stable/modules/linear_model.html#logistic-regression\n",
      "  n_iter_i = _check_optimize_result(\n"
     ]
    },
    {
     "data": {
      "text/html": [
       "<style>#sk-container-id-1 {color: black;background-color: white;}#sk-container-id-1 pre{padding: 0;}#sk-container-id-1 div.sk-toggleable {background-color: white;}#sk-container-id-1 label.sk-toggleable__label {cursor: pointer;display: block;width: 100%;margin-bottom: 0;padding: 0.3em;box-sizing: border-box;text-align: center;}#sk-container-id-1 label.sk-toggleable__label-arrow:before {content: \"▸\";float: left;margin-right: 0.25em;color: #696969;}#sk-container-id-1 label.sk-toggleable__label-arrow:hover:before {color: black;}#sk-container-id-1 div.sk-estimator:hover label.sk-toggleable__label-arrow:before {color: black;}#sk-container-id-1 div.sk-toggleable__content {max-height: 0;max-width: 0;overflow: hidden;text-align: left;background-color: #f0f8ff;}#sk-container-id-1 div.sk-toggleable__content pre {margin: 0.2em;color: black;border-radius: 0.25em;background-color: #f0f8ff;}#sk-container-id-1 input.sk-toggleable__control:checked~div.sk-toggleable__content {max-height: 200px;max-width: 100%;overflow: auto;}#sk-container-id-1 input.sk-toggleable__control:checked~label.sk-toggleable__label-arrow:before {content: \"▾\";}#sk-container-id-1 div.sk-estimator input.sk-toggleable__control:checked~label.sk-toggleable__label {background-color: #d4ebff;}#sk-container-id-1 div.sk-label input.sk-toggleable__control:checked~label.sk-toggleable__label {background-color: #d4ebff;}#sk-container-id-1 input.sk-hidden--visually {border: 0;clip: rect(1px 1px 1px 1px);clip: rect(1px, 1px, 1px, 1px);height: 1px;margin: -1px;overflow: hidden;padding: 0;position: absolute;width: 1px;}#sk-container-id-1 div.sk-estimator {font-family: monospace;background-color: #f0f8ff;border: 1px dotted black;border-radius: 0.25em;box-sizing: border-box;margin-bottom: 0.5em;}#sk-container-id-1 div.sk-estimator:hover {background-color: #d4ebff;}#sk-container-id-1 div.sk-parallel-item::after {content: \"\";width: 100%;border-bottom: 1px solid gray;flex-grow: 1;}#sk-container-id-1 div.sk-label:hover label.sk-toggleable__label {background-color: #d4ebff;}#sk-container-id-1 div.sk-serial::before {content: \"\";position: absolute;border-left: 1px solid gray;box-sizing: border-box;top: 0;bottom: 0;left: 50%;z-index: 0;}#sk-container-id-1 div.sk-serial {display: flex;flex-direction: column;align-items: center;background-color: white;padding-right: 0.2em;padding-left: 0.2em;position: relative;}#sk-container-id-1 div.sk-item {position: relative;z-index: 1;}#sk-container-id-1 div.sk-parallel {display: flex;align-items: stretch;justify-content: center;background-color: white;position: relative;}#sk-container-id-1 div.sk-item::before, #sk-container-id-1 div.sk-parallel-item::before {content: \"\";position: absolute;border-left: 1px solid gray;box-sizing: border-box;top: 0;bottom: 0;left: 50%;z-index: -1;}#sk-container-id-1 div.sk-parallel-item {display: flex;flex-direction: column;z-index: 1;position: relative;background-color: white;}#sk-container-id-1 div.sk-parallel-item:first-child::after {align-self: flex-end;width: 50%;}#sk-container-id-1 div.sk-parallel-item:last-child::after {align-self: flex-start;width: 50%;}#sk-container-id-1 div.sk-parallel-item:only-child::after {width: 0;}#sk-container-id-1 div.sk-dashed-wrapped {border: 1px dashed gray;margin: 0 0.4em 0.5em 0.4em;box-sizing: border-box;padding-bottom: 0.4em;background-color: white;}#sk-container-id-1 div.sk-label label {font-family: monospace;font-weight: bold;display: inline-block;line-height: 1.2em;}#sk-container-id-1 div.sk-label-container {text-align: center;}#sk-container-id-1 div.sk-container {/* jupyter's `normalize.less` sets `[hidden] { display: none; }` but bootstrap.min.css set `[hidden] { display: none !important; }` so we also need the `!important` here to be able to override the default hidden behavior on the sphinx rendered scikit-learn.org. See: https://github.com/scikit-learn/scikit-learn/issues/21755 */display: inline-block !important;position: relative;}#sk-container-id-1 div.sk-text-repr-fallback {display: none;}</style><div id=\"sk-container-id-1\" class=\"sk-top-container\"><div class=\"sk-text-repr-fallback\"><pre>Pipeline(steps=[(&#x27;scale&#x27;, StandardScaler()), (&#x27;model&#x27;, LogisticRegression())])</pre><b>In a Jupyter environment, please rerun this cell to show the HTML representation or trust the notebook. <br />On GitHub, the HTML representation is unable to render, please try loading this page with nbviewer.org.</b></div><div class=\"sk-container\" hidden><div class=\"sk-item sk-dashed-wrapped\"><div class=\"sk-label-container\"><div class=\"sk-label sk-toggleable\"><input class=\"sk-toggleable__control sk-hidden--visually\" id=\"sk-estimator-id-1\" type=\"checkbox\" ><label for=\"sk-estimator-id-1\" class=\"sk-toggleable__label sk-toggleable__label-arrow\">Pipeline</label><div class=\"sk-toggleable__content\"><pre>Pipeline(steps=[(&#x27;scale&#x27;, StandardScaler()), (&#x27;model&#x27;, LogisticRegression())])</pre></div></div></div><div class=\"sk-serial\"><div class=\"sk-item\"><div class=\"sk-estimator sk-toggleable\"><input class=\"sk-toggleable__control sk-hidden--visually\" id=\"sk-estimator-id-2\" type=\"checkbox\" ><label for=\"sk-estimator-id-2\" class=\"sk-toggleable__label sk-toggleable__label-arrow\">StandardScaler</label><div class=\"sk-toggleable__content\"><pre>StandardScaler()</pre></div></div></div><div class=\"sk-item\"><div class=\"sk-estimator sk-toggleable\"><input class=\"sk-toggleable__control sk-hidden--visually\" id=\"sk-estimator-id-3\" type=\"checkbox\" ><label for=\"sk-estimator-id-3\" class=\"sk-toggleable__label sk-toggleable__label-arrow\">LogisticRegression</label><div class=\"sk-toggleable__content\"><pre>LogisticRegression()</pre></div></div></div></div></div></div></div>"
      ],
      "text/plain": [
       "Pipeline(steps=[('scale', StandardScaler()), ('model', LogisticRegression())])"
      ]
     },
     "execution_count": 43,
     "metadata": {},
     "output_type": "execute_result"
    }
   ],
   "source": [
    "model.fit(X_train, y_train.values.ravel())"
   ]
  },
  {
   "cell_type": "code",
   "execution_count": 44,
   "id": "af59f8c0",
   "metadata": {
    "execution": {
     "iopub.execute_input": "2025-07-30T21:33:28.294541Z",
     "iopub.status.busy": "2025-07-30T21:33:28.293949Z",
     "iopub.status.idle": "2025-07-30T21:33:28.299698Z",
     "shell.execute_reply": "2025-07-30T21:33:28.298627Z"
    },
    "papermill": {
     "duration": 0.038963,
     "end_time": "2025-07-30T21:33:28.301521",
     "exception": false,
     "start_time": "2025-07-30T21:33:28.262558",
     "status": "completed"
    },
    "tags": []
   },
   "outputs": [],
   "source": [
    "from fairness_multiverse.universe import predict_w_threshold"
   ]
  },
  {
   "cell_type": "code",
   "execution_count": 45,
   "id": "a7cf2e16",
   "metadata": {
    "execution": {
     "iopub.execute_input": "2025-07-30T21:33:28.349103Z",
     "iopub.status.busy": "2025-07-30T21:33:28.348016Z",
     "iopub.status.idle": "2025-07-30T21:33:28.604540Z",
     "shell.execute_reply": "2025-07-30T21:33:28.603557Z"
    },
    "papermill": {
     "duration": 0.282222,
     "end_time": "2025-07-30T21:33:28.606276",
     "exception": false,
     "start_time": "2025-07-30T21:33:28.324054",
     "status": "completed"
    },
    "tags": []
   },
   "outputs": [
    {
     "data": {
      "text/plain": [
       "0.8186712741054509"
      ]
     },
     "execution_count": 45,
     "metadata": {},
     "output_type": "execute_result"
    }
   ],
   "source": [
    "probs_test = model.predict_proba(X_test)\n",
    "\n",
    "'''\n",
    "Below code returns a boolean array (or binary 0/1 array depending on how it’s used) where each element \n",
    "is True if the probability of class 1 is greater than or equal to the threshold, and False otherwise.\n",
    "'''\n",
    "y_pred_default = predict_w_threshold(probs_test, 0.5)\n",
    "\n",
    "from sklearn.metrics import accuracy_score\n",
    "\n",
    "# Naive prediction\n",
    "accuracy_score(y_true = y_true, y_pred = y_pred_default)"
   ]
  },
  {
   "cell_type": "code",
   "execution_count": 46,
   "id": "081964c3",
   "metadata": {
    "execution": {
     "iopub.execute_input": "2025-07-30T21:33:28.657478Z",
     "iopub.status.busy": "2025-07-30T21:33:28.656920Z",
     "iopub.status.idle": "2025-07-30T21:33:28.841147Z",
     "shell.execute_reply": "2025-07-30T21:33:28.840386Z"
    },
    "papermill": {
     "duration": 0.211094,
     "end_time": "2025-07-30T21:33:28.842399",
     "exception": false,
     "start_time": "2025-07-30T21:33:28.631305",
     "status": "completed"
    },
    "tags": []
   },
   "outputs": [
    {
     "data": {
      "text/plain": [
       "array([0, 0, 0, ..., 0, 0, 0])"
      ]
     },
     "execution_count": 46,
     "metadata": {},
     "output_type": "execute_result"
    }
   ],
   "source": [
    "model.predict(X_test)"
   ]
  },
  {
   "cell_type": "markdown",
   "id": "56c9705b",
   "metadata": {
    "papermill": {
     "duration": 0.024968,
     "end_time": "2025-07-30T21:33:28.891696",
     "exception": false,
     "start_time": "2025-07-30T21:33:28.866728",
     "status": "completed"
    },
    "tags": []
   },
   "source": [
    "# Conformal Prediction"
   ]
  },
  {
   "cell_type": "code",
   "execution_count": 47,
   "id": "160ec6ff",
   "metadata": {
    "execution": {
     "iopub.execute_input": "2025-07-30T21:33:28.943467Z",
     "iopub.status.busy": "2025-07-30T21:33:28.942801Z",
     "iopub.status.idle": "2025-07-30T21:33:28.948134Z",
     "shell.execute_reply": "2025-07-30T21:33:28.947123Z"
    },
    "papermill": {
     "duration": 0.03481,
     "end_time": "2025-07-30T21:33:28.949680",
     "exception": false,
     "start_time": "2025-07-30T21:33:28.914870",
     "status": "completed"
    },
    "tags": []
   },
   "outputs": [],
   "source": [
    "# Miscoverage level for conformal prediction (10% allowed error rate => 90% target coverage)\n",
    "alpha = 0.1"
   ]
  },
  {
   "cell_type": "code",
   "execution_count": 48,
   "id": "eadf4555-3dd3-440e-8e35-f82a4ad9f855",
   "metadata": {
    "execution": {
     "iopub.execute_input": "2025-07-30T21:33:29.004154Z",
     "iopub.status.busy": "2025-07-30T21:33:29.003326Z",
     "iopub.status.idle": "2025-07-30T21:33:29.182824Z",
     "shell.execute_reply": "2025-07-30T21:33:29.181842Z"
    },
    "papermill": {
     "duration": 0.206939,
     "end_time": "2025-07-30T21:33:29.184363",
     "exception": false,
     "start_time": "2025-07-30T21:33:28.977424",
     "status": "completed"
    },
    "tags": []
   },
   "outputs": [],
   "source": [
    "probs_calib = model.predict_proba(X_calib)"
   ]
  },
  {
   "cell_type": "code",
   "execution_count": 49,
   "id": "2ed93547-6d5d-4983-9b36-1ecb300da49a",
   "metadata": {
    "execution": {
     "iopub.execute_input": "2025-07-30T21:33:29.235600Z",
     "iopub.status.busy": "2025-07-30T21:33:29.234933Z",
     "iopub.status.idle": "2025-07-30T21:33:29.240613Z",
     "shell.execute_reply": "2025-07-30T21:33:29.239638Z"
    },
    "papermill": {
     "duration": 0.035881,
     "end_time": "2025-07-30T21:33:29.242330",
     "exception": false,
     "start_time": "2025-07-30T21:33:29.206449",
     "status": "completed"
    },
    "tags": []
   },
   "outputs": [],
   "source": [
    "y_calib = y_calib.values.ravel().astype(int)"
   ]
  },
  {
   "cell_type": "code",
   "execution_count": 50,
   "id": "65d1320d-f588-4b38-9072-62af1ae97f7d",
   "metadata": {
    "execution": {
     "iopub.execute_input": "2025-07-30T21:33:29.292535Z",
     "iopub.status.busy": "2025-07-30T21:33:29.291799Z",
     "iopub.status.idle": "2025-07-30T21:33:29.299392Z",
     "shell.execute_reply": "2025-07-30T21:33:29.298478Z"
    },
    "papermill": {
     "duration": 0.034123,
     "end_time": "2025-07-30T21:33:29.301036",
     "exception": false,
     "start_time": "2025-07-30T21:33:29.266913",
     "status": "completed"
    },
    "tags": []
   },
   "outputs": [],
   "source": [
    "from fairness_multiverse.conformal import compute_nc_scores\n",
    "\n",
    "# Compute nonconformity scores on calibration set (1 - probability of true class)\n",
    "nc_scores = compute_nc_scores(probs_calib, y_calib)"
   ]
  },
  {
   "cell_type": "code",
   "execution_count": 51,
   "id": "df3b8ca3-53b7-43d5-9667-7c85da7aeda2",
   "metadata": {
    "execution": {
     "iopub.execute_input": "2025-07-30T21:33:29.348720Z",
     "iopub.status.busy": "2025-07-30T21:33:29.347981Z",
     "iopub.status.idle": "2025-07-30T21:33:29.354891Z",
     "shell.execute_reply": "2025-07-30T21:33:29.353989Z"
    },
    "papermill": {
     "duration": 0.032764,
     "end_time": "2025-07-30T21:33:29.356710",
     "exception": false,
     "start_time": "2025-07-30T21:33:29.323946",
     "status": "completed"
    },
    "tags": []
   },
   "outputs": [],
   "source": [
    "from fairness_multiverse.conformal import find_threshold\n",
    "\n",
    "# Find conformal threshold q_hat for the given alpha (split conformal method)\n",
    "q_hat = find_threshold(nc_scores, alpha)"
   ]
  },
  {
   "cell_type": "code",
   "execution_count": 52,
   "id": "4d29e6c1-0ef6-4aa4-b8fe-4fe79b0d033a",
   "metadata": {
    "execution": {
     "iopub.execute_input": "2025-07-30T21:33:29.409227Z",
     "iopub.status.busy": "2025-07-30T21:33:29.408535Z",
     "iopub.status.idle": "2025-07-30T21:33:29.415768Z",
     "shell.execute_reply": "2025-07-30T21:33:29.414872Z"
    },
    "papermill": {
     "duration": 0.034639,
     "end_time": "2025-07-30T21:33:29.417673",
     "exception": false,
     "start_time": "2025-07-30T21:33:29.383034",
     "status": "completed"
    },
    "tags": []
   },
   "outputs": [
    {
     "data": {
      "text/plain": [
       "0.8066884785326449"
      ]
     },
     "execution_count": 52,
     "metadata": {},
     "output_type": "execute_result"
    }
   ],
   "source": [
    "q_hat"
   ]
  },
  {
   "cell_type": "code",
   "execution_count": 53,
   "id": "92460794-cdac-4be2-ba28-f28c0515a6fb",
   "metadata": {
    "execution": {
     "iopub.execute_input": "2025-07-30T21:33:29.470871Z",
     "iopub.status.busy": "2025-07-30T21:33:29.469992Z",
     "iopub.status.idle": "2025-07-30T21:33:30.361823Z",
     "shell.execute_reply": "2025-07-30T21:33:30.360946Z"
    },
    "papermill": {
     "duration": 0.919289,
     "end_time": "2025-07-30T21:33:30.363721",
     "exception": false,
     "start_time": "2025-07-30T21:33:29.444432",
     "status": "completed"
    },
    "tags": []
   },
   "outputs": [],
   "source": [
    "from fairness_multiverse.conformal import predict_conformal_sets\n",
    "\n",
    "# Generate prediction sets for each test example\n",
    "pred_sets = predict_conformal_sets(model, X_test, q_hat)"
   ]
  },
  {
   "cell_type": "code",
   "execution_count": 54,
   "id": "d90c9a65-e6db-4f5d-80cd-e68fb7e46829",
   "metadata": {
    "execution": {
     "iopub.execute_input": "2025-07-30T21:33:30.419862Z",
     "iopub.status.busy": "2025-07-30T21:33:30.419198Z",
     "iopub.status.idle": "2025-07-30T21:33:30.425591Z",
     "shell.execute_reply": "2025-07-30T21:33:30.424379Z"
    },
    "papermill": {
     "duration": 0.040953,
     "end_time": "2025-07-30T21:33:30.427555",
     "exception": false,
     "start_time": "2025-07-30T21:33:30.386602",
     "status": "completed"
    },
    "tags": []
   },
   "outputs": [],
   "source": [
    "y_true = y_true.squeeze()"
   ]
  },
  {
   "cell_type": "code",
   "execution_count": 55,
   "id": "3a58a54a-1e68-46b9-927a-df01f18aebc8",
   "metadata": {
    "execution": {
     "iopub.execute_input": "2025-07-30T21:33:30.490344Z",
     "iopub.status.busy": "2025-07-30T21:33:30.489178Z",
     "iopub.status.idle": "2025-07-30T21:33:31.462639Z",
     "shell.execute_reply": "2025-07-30T21:33:31.461647Z"
    },
    "papermill": {
     "duration": 1.006766,
     "end_time": "2025-07-30T21:33:31.464630",
     "exception": false,
     "start_time": "2025-07-30T21:33:30.457864",
     "status": "completed"
    },
    "tags": []
   },
   "outputs": [],
   "source": [
    "from fairness_multiverse.conformal import evaluate_sets\n",
    "\n",
    "# Evaluate coverage and average set size on test data\n",
    "metrics = evaluate_sets(pred_sets, y_true)"
   ]
  },
  {
   "cell_type": "markdown",
   "id": "2b569c12-9aaa-4c88-98c9-bbcd0cf3ebb8",
   "metadata": {
    "papermill": {
     "duration": 0.02768,
     "end_time": "2025-07-30T21:33:31.519237",
     "exception": false,
     "start_time": "2025-07-30T21:33:31.491557",
     "status": "completed"
    },
    "tags": []
   },
   "source": [
    "# CP Metrics"
   ]
  },
  {
   "cell_type": "code",
   "execution_count": 56,
   "id": "5ce0a5cb-201f-45a0-ade5-94c7f0bd6095",
   "metadata": {
    "execution": {
     "iopub.execute_input": "2025-07-30T21:33:31.575285Z",
     "iopub.status.busy": "2025-07-30T21:33:31.574557Z",
     "iopub.status.idle": "2025-07-30T21:33:31.582261Z",
     "shell.execute_reply": "2025-07-30T21:33:31.581228Z"
    },
    "papermill": {
     "duration": 0.038702,
     "end_time": "2025-07-30T21:33:31.583917",
     "exception": false,
     "start_time": "2025-07-30T21:33:31.545215",
     "status": "completed"
    },
    "tags": []
   },
   "outputs": [
    {
     "data": {
      "text/plain": [
       "{'coverage': 0.908159625459815, 'avg_size': 1.2492252814624902}"
      ]
     },
     "execution_count": 56,
     "metadata": {},
     "output_type": "execute_result"
    }
   ],
   "source": [
    "metrics"
   ]
  },
  {
   "cell_type": "code",
   "execution_count": 57,
   "id": "9b9a838d-31c9-430b-ae14-12baee460d17",
   "metadata": {
    "execution": {
     "iopub.execute_input": "2025-07-30T21:33:31.639135Z",
     "iopub.status.busy": "2025-07-30T21:33:31.638585Z",
     "iopub.status.idle": "2025-07-30T21:33:31.645800Z",
     "shell.execute_reply": "2025-07-30T21:33:31.644849Z"
    },
    "papermill": {
     "duration": 0.04002,
     "end_time": "2025-07-30T21:33:31.650369",
     "exception": false,
     "start_time": "2025-07-30T21:33:31.610349",
     "status": "completed"
    },
    "tags": []
   },
   "outputs": [],
   "source": [
    "example_universe = universe.copy()\n",
    "universe_training_year = example_universe.get(\"training_year\")\n",
    "universe_training_size = example_universe.get(\"training_size\")\n",
    "universe_scale = example_universe.get(\"scale\")\n",
    "universe_model = example_universe.get(\"model\")\n",
    "universe_exclude_features = example_universe.get(\"exclude_features\")\n",
    "universe_exclude_subgroups = example_universe.get(\"exclude_subgroups\")"
   ]
  },
  {
   "cell_type": "code",
   "execution_count": 58,
   "id": "f4b6a8ac-9dc0-4245-8a91-5b3b5999c4f9",
   "metadata": {
    "execution": {
     "iopub.execute_input": "2025-07-30T21:33:31.707203Z",
     "iopub.status.busy": "2025-07-30T21:33:31.706434Z",
     "iopub.status.idle": "2025-07-30T21:33:31.713500Z",
     "shell.execute_reply": "2025-07-30T21:33:31.712602Z"
    },
    "papermill": {
     "duration": 0.037445,
     "end_time": "2025-07-30T21:33:31.715271",
     "exception": false,
     "start_time": "2025-07-30T21:33:31.677826",
     "status": "completed"
    },
    "tags": []
   },
   "outputs": [],
   "source": [
    "cp_metrics_dict = {\n",
    "    \"universe_id\": [universe_id],\n",
    "    \"universe_training_year\": [universe_training_year],\n",
    "    \"universe_training_size\": [universe_training_size],\n",
    "    \"universe_scale\": [universe_scale],\n",
    "    \"universe_model\": [universe_model],\n",
    "    \"universe_exclude_features\": [universe_exclude_features],\n",
    "    \"universe_exclude_subgroups\": [universe_exclude_subgroups],\n",
    "    \"q_hat\": [q_hat],\n",
    "    \"coverage\": [metrics[\"coverage\"]],\n",
    "    \"avg_size\": [metrics[\"avg_size\"]],\n",
    "}"
   ]
  },
  {
   "cell_type": "code",
   "execution_count": 59,
   "id": "908acbb1-0371-4915-85ca-3fa520d2efe2",
   "metadata": {
    "execution": {
     "iopub.execute_input": "2025-07-30T21:33:31.771106Z",
     "iopub.status.busy": "2025-07-30T21:33:31.770571Z",
     "iopub.status.idle": "2025-07-30T21:33:31.778597Z",
     "shell.execute_reply": "2025-07-30T21:33:31.777567Z"
    },
    "papermill": {
     "duration": 0.038176,
     "end_time": "2025-07-30T21:33:31.780229",
     "exception": false,
     "start_time": "2025-07-30T21:33:31.742053",
     "status": "completed"
    },
    "tags": []
   },
   "outputs": [
    {
     "data": {
      "text/plain": [
       "{'universe_id': ['dd6a72b9ee8d00e5e87f024922c8b72d'],\n",
       " 'universe_training_year': ['2012_14'],\n",
       " 'universe_training_size': ['1k'],\n",
       " 'universe_scale': ['scale'],\n",
       " 'universe_model': ['logreg'],\n",
       " 'universe_exclude_features': ['sex'],\n",
       " 'universe_exclude_subgroups': ['keep-all'],\n",
       " 'q_hat': [0.8066884785326449],\n",
       " 'coverage': [0.908159625459815],\n",
       " 'avg_size': [1.2492252814624902]}"
      ]
     },
     "execution_count": 59,
     "metadata": {},
     "output_type": "execute_result"
    }
   ],
   "source": [
    "cp_metrics_dict"
   ]
  },
  {
   "cell_type": "code",
   "execution_count": 60,
   "id": "33007efc-14e9-4ec6-97ac-56a455c82265",
   "metadata": {
    "execution": {
     "iopub.execute_input": "2025-07-30T21:33:31.835284Z",
     "iopub.status.busy": "2025-07-30T21:33:31.834788Z",
     "iopub.status.idle": "2025-07-30T21:33:31.842217Z",
     "shell.execute_reply": "2025-07-30T21:33:31.840413Z"
    },
    "papermill": {
     "duration": 0.037994,
     "end_time": "2025-07-30T21:33:31.843995",
     "exception": false,
     "start_time": "2025-07-30T21:33:31.806001",
     "status": "completed"
    },
    "tags": []
   },
   "outputs": [],
   "source": [
    "cp_metrics_df = pd.DataFrame(cp_metrics_dict)"
   ]
  },
  {
   "cell_type": "code",
   "execution_count": 61,
   "id": "db12611b-57b2-4910-b9d0-355adfd6e7bf",
   "metadata": {
    "execution": {
     "iopub.execute_input": "2025-07-30T21:33:31.898480Z",
     "iopub.status.busy": "2025-07-30T21:33:31.897944Z",
     "iopub.status.idle": "2025-07-30T21:33:31.914998Z",
     "shell.execute_reply": "2025-07-30T21:33:31.914044Z"
    },
    "papermill": {
     "duration": 0.044637,
     "end_time": "2025-07-30T21:33:31.916472",
     "exception": false,
     "start_time": "2025-07-30T21:33:31.871835",
     "status": "completed"
    },
    "tags": []
   },
   "outputs": [
    {
     "data": {
      "text/html": [
       "<div>\n",
       "<style scoped>\n",
       "    .dataframe tbody tr th:only-of-type {\n",
       "        vertical-align: middle;\n",
       "    }\n",
       "\n",
       "    .dataframe tbody tr th {\n",
       "        vertical-align: top;\n",
       "    }\n",
       "\n",
       "    .dataframe thead th {\n",
       "        text-align: right;\n",
       "    }\n",
       "</style>\n",
       "<table border=\"1\" class=\"dataframe\">\n",
       "  <thead>\n",
       "    <tr style=\"text-align: right;\">\n",
       "      <th></th>\n",
       "      <th>universe_id</th>\n",
       "      <th>universe_training_year</th>\n",
       "      <th>universe_training_size</th>\n",
       "      <th>universe_scale</th>\n",
       "      <th>universe_model</th>\n",
       "      <th>universe_exclude_features</th>\n",
       "      <th>universe_exclude_subgroups</th>\n",
       "      <th>q_hat</th>\n",
       "      <th>coverage</th>\n",
       "      <th>avg_size</th>\n",
       "    </tr>\n",
       "  </thead>\n",
       "  <tbody>\n",
       "    <tr>\n",
       "      <th>0</th>\n",
       "      <td>dd6a72b9ee8d00e5e87f024922c8b72d</td>\n",
       "      <td>2012_14</td>\n",
       "      <td>1k</td>\n",
       "      <td>scale</td>\n",
       "      <td>logreg</td>\n",
       "      <td>sex</td>\n",
       "      <td>keep-all</td>\n",
       "      <td>0.806688</td>\n",
       "      <td>0.90816</td>\n",
       "      <td>1.249225</td>\n",
       "    </tr>\n",
       "  </tbody>\n",
       "</table>\n",
       "</div>"
      ],
      "text/plain": [
       "                        universe_id universe_training_year  \\\n",
       "0  dd6a72b9ee8d00e5e87f024922c8b72d                2012_14   \n",
       "\n",
       "  universe_training_size universe_scale universe_model  \\\n",
       "0                     1k          scale         logreg   \n",
       "\n",
       "  universe_exclude_features universe_exclude_subgroups     q_hat  coverage  \\\n",
       "0                       sex                   keep-all  0.806688   0.90816   \n",
       "\n",
       "   avg_size  \n",
       "0  1.249225  "
      ]
     },
     "execution_count": 61,
     "metadata": {},
     "output_type": "execute_result"
    }
   ],
   "source": [
    "cp_metrics_df"
   ]
  },
  {
   "cell_type": "code",
   "execution_count": 62,
   "id": "b7fbde55-a0a1-47e4-9af6-fe4a17fa8c61",
   "metadata": {
    "execution": {
     "iopub.execute_input": "2025-07-30T21:33:31.947118Z",
     "iopub.status.busy": "2025-07-30T21:33:31.946731Z",
     "iopub.status.idle": "2025-07-30T21:33:31.952517Z",
     "shell.execute_reply": "2025-07-30T21:33:31.951773Z"
    },
    "papermill": {
     "duration": 0.022563,
     "end_time": "2025-07-30T21:33:31.953883",
     "exception": false,
     "start_time": "2025-07-30T21:33:31.931320",
     "status": "completed"
    },
    "tags": []
   },
   "outputs": [],
   "source": [
    "# Conditional Coverage & looking at subgroups"
   ]
  },
  {
   "cell_type": "code",
   "execution_count": 63,
   "id": "027ae886-68dd-4141-96c7-805a5450e1ef",
   "metadata": {
    "execution": {
     "iopub.execute_input": "2025-07-30T21:33:31.988085Z",
     "iopub.status.busy": "2025-07-30T21:33:31.987613Z",
     "iopub.status.idle": "2025-07-30T21:33:32.265417Z",
     "shell.execute_reply": "2025-07-30T21:33:32.264259Z"
    },
    "papermill": {
     "duration": 0.29514,
     "end_time": "2025-07-30T21:33:32.267178",
     "exception": false,
     "start_time": "2025-07-30T21:33:31.972038",
     "status": "completed"
    },
    "tags": []
   },
   "outputs": [],
   "source": [
    "from fairness_multiverse.conformal import build_cp_groups\n",
    "\n",
    "cp_groups_df = build_cp_groups(pred_sets, y_true, X_test.index, org_test)\n",
    "#needs universe_id and setting"
   ]
  },
  {
   "cell_type": "code",
   "execution_count": 64,
   "id": "01d5802c-663a-4d1f-9d69-e036faaffbf7",
   "metadata": {
    "execution": {
     "iopub.execute_input": "2025-07-30T21:33:32.310079Z",
     "iopub.status.busy": "2025-07-30T21:33:32.309638Z",
     "iopub.status.idle": "2025-07-30T21:33:32.314335Z",
     "shell.execute_reply": "2025-07-30T21:33:32.313649Z"
    },
    "papermill": {
     "duration": 0.023761,
     "end_time": "2025-07-30T21:33:32.315760",
     "exception": false,
     "start_time": "2025-07-30T21:33:32.291999",
     "status": "completed"
    },
    "tags": []
   },
   "outputs": [],
   "source": [
    "#delete\n",
    "#cp_groups_df"
   ]
  },
  {
   "cell_type": "code",
   "execution_count": 65,
   "id": "fa424af1-d1eb-443d-b717-2d279ada8408",
   "metadata": {
    "execution": {
     "iopub.execute_input": "2025-07-30T21:33:32.350393Z",
     "iopub.status.busy": "2025-07-30T21:33:32.350039Z",
     "iopub.status.idle": "2025-07-30T21:33:32.354035Z",
     "shell.execute_reply": "2025-07-30T21:33:32.353182Z"
    },
    "papermill": {
     "duration": 0.023265,
     "end_time": "2025-07-30T21:33:32.355261",
     "exception": false,
     "start_time": "2025-07-30T21:33:32.331996",
     "status": "completed"
    },
    "tags": []
   },
   "outputs": [],
   "source": [
    "#delete\n",
    "#percentage = (cp_groups_df['nongerman_female'] == 1).mean() * 100\n",
    "#print(percentage)\n"
   ]
  },
  {
   "cell_type": "code",
   "execution_count": 66,
   "id": "6cbdab96-b2b2-45af-ad54-d0516db2e28d",
   "metadata": {
    "execution": {
     "iopub.execute_input": "2025-07-30T21:33:32.384945Z",
     "iopub.status.busy": "2025-07-30T21:33:32.384475Z",
     "iopub.status.idle": "2025-07-30T21:33:33.938385Z",
     "shell.execute_reply": "2025-07-30T21:33:33.937268Z"
    },
    "papermill": {
     "duration": 1.570903,
     "end_time": "2025-07-30T21:33:33.940522",
     "exception": false,
     "start_time": "2025-07-30T21:33:32.369619",
     "status": "completed"
    },
    "tags": []
   },
   "outputs": [],
   "source": [
    "# Define covered = 1 if true_label is in the predicted set\n",
    "cp_groups_df['covered'] = cp_groups_df.apply(\n",
    "    lambda r: int(r['true_label'] in r['pred_set']),\n",
    "    axis=1\n",
    ")"
   ]
  },
  {
   "cell_type": "code",
   "execution_count": 67,
   "id": "338ff529-1a6b-4b87-a931-8e4788d52aad",
   "metadata": {
    "execution": {
     "iopub.execute_input": "2025-07-30T21:33:33.997371Z",
     "iopub.status.busy": "2025-07-30T21:33:33.996952Z",
     "iopub.status.idle": "2025-07-30T21:33:34.002505Z",
     "shell.execute_reply": "2025-07-30T21:33:34.001457Z"
    },
    "papermill": {
     "duration": 0.036138,
     "end_time": "2025-07-30T21:33:34.004408",
     "exception": false,
     "start_time": "2025-07-30T21:33:33.968270",
     "status": "completed"
    },
    "tags": []
   },
   "outputs": [],
   "source": [
    "#cp_groups_df"
   ]
  },
  {
   "cell_type": "code",
   "execution_count": 68,
   "id": "90032e27-66df-4540-9169-4e89cfbaa758",
   "metadata": {
    "execution": {
     "iopub.execute_input": "2025-07-30T21:33:34.060956Z",
     "iopub.status.busy": "2025-07-30T21:33:34.059895Z",
     "iopub.status.idle": "2025-07-30T21:33:34.073612Z",
     "shell.execute_reply": "2025-07-30T21:33:34.072442Z"
    },
    "papermill": {
     "duration": 0.043215,
     "end_time": "2025-07-30T21:33:34.075907",
     "exception": false,
     "start_time": "2025-07-30T21:33:34.032692",
     "status": "completed"
    },
    "tags": []
   },
   "outputs": [],
   "source": [
    "subgroups = ['frau1','nongerman','nongerman_male','nongerman_female']\n",
    "\n",
    "# Conditional coverage for subgroup==1\n",
    "cond_coverage = {\n",
    "    g: cp_groups_df.loc[cp_groups_df[g]==1, 'covered'].mean()\n",
    "    for g in subgroups\n",
    "}"
   ]
  },
  {
   "cell_type": "code",
   "execution_count": 69,
   "id": "1e348fb1-b9c3-45bc-ba23-f016827a7e0d",
   "metadata": {
    "execution": {
     "iopub.execute_input": "2025-07-30T21:33:34.133791Z",
     "iopub.status.busy": "2025-07-30T21:33:34.132991Z",
     "iopub.status.idle": "2025-07-30T21:33:34.141010Z",
     "shell.execute_reply": "2025-07-30T21:33:34.139922Z"
    },
    "papermill": {
     "duration": 0.037141,
     "end_time": "2025-07-30T21:33:34.142542",
     "exception": false,
     "start_time": "2025-07-30T21:33:34.105401",
     "status": "completed"
    },
    "tags": []
   },
   "outputs": [
    {
     "data": {
      "text/plain": [
       "{'frau1': 0.9040571505593746,\n",
       " 'nongerman': 0.9151743108965362,\n",
       " 'nongerman_male': 0.929658650815095,\n",
       " 'nongerman_female': 0.8912071535022354}"
      ]
     },
     "execution_count": 69,
     "metadata": {},
     "output_type": "execute_result"
    }
   ],
   "source": [
    "cond_coverage"
   ]
  },
  {
   "cell_type": "code",
   "execution_count": 70,
   "id": "f5093324-c3dd-4d63-bc4c-8d945e5c8bbb",
   "metadata": {
    "execution": {
     "iopub.execute_input": "2025-07-30T21:33:34.199607Z",
     "iopub.status.busy": "2025-07-30T21:33:34.199127Z",
     "iopub.status.idle": "2025-07-30T21:33:34.206403Z",
     "shell.execute_reply": "2025-07-30T21:33:34.205407Z"
    },
    "papermill": {
     "duration": 0.036462,
     "end_time": "2025-07-30T21:33:34.208102",
     "exception": false,
     "start_time": "2025-07-30T21:33:34.171640",
     "status": "completed"
    },
    "tags": []
   },
   "outputs": [],
   "source": [
    "for subgroup, cov in cond_coverage.items():\n",
    "    cp_metrics_df[f\"cov_{subgroup}\"] = cov"
   ]
  },
  {
   "cell_type": "code",
   "execution_count": 71,
   "id": "6e872e10-dbe5-49e8-b554-5030c98ff75d",
   "metadata": {
    "execution": {
     "iopub.execute_input": "2025-07-30T21:33:34.265416Z",
     "iopub.status.busy": "2025-07-30T21:33:34.264469Z",
     "iopub.status.idle": "2025-07-30T21:33:34.285173Z",
     "shell.execute_reply": "2025-07-30T21:33:34.283997Z"
    },
    "papermill": {
     "duration": 0.050998,
     "end_time": "2025-07-30T21:33:34.286917",
     "exception": false,
     "start_time": "2025-07-30T21:33:34.235919",
     "status": "completed"
    },
    "tags": []
   },
   "outputs": [
    {
     "data": {
      "text/html": [
       "<div>\n",
       "<style scoped>\n",
       "    .dataframe tbody tr th:only-of-type {\n",
       "        vertical-align: middle;\n",
       "    }\n",
       "\n",
       "    .dataframe tbody tr th {\n",
       "        vertical-align: top;\n",
       "    }\n",
       "\n",
       "    .dataframe thead th {\n",
       "        text-align: right;\n",
       "    }\n",
       "</style>\n",
       "<table border=\"1\" class=\"dataframe\">\n",
       "  <thead>\n",
       "    <tr style=\"text-align: right;\">\n",
       "      <th></th>\n",
       "      <th>universe_id</th>\n",
       "      <th>universe_training_year</th>\n",
       "      <th>universe_training_size</th>\n",
       "      <th>universe_scale</th>\n",
       "      <th>universe_model</th>\n",
       "      <th>universe_exclude_features</th>\n",
       "      <th>universe_exclude_subgroups</th>\n",
       "      <th>q_hat</th>\n",
       "      <th>coverage</th>\n",
       "      <th>avg_size</th>\n",
       "      <th>cov_frau1</th>\n",
       "      <th>cov_nongerman</th>\n",
       "      <th>cov_nongerman_male</th>\n",
       "      <th>cov_nongerman_female</th>\n",
       "    </tr>\n",
       "  </thead>\n",
       "  <tbody>\n",
       "    <tr>\n",
       "      <th>0</th>\n",
       "      <td>dd6a72b9ee8d00e5e87f024922c8b72d</td>\n",
       "      <td>2012_14</td>\n",
       "      <td>1k</td>\n",
       "      <td>scale</td>\n",
       "      <td>logreg</td>\n",
       "      <td>sex</td>\n",
       "      <td>keep-all</td>\n",
       "      <td>0.806688</td>\n",
       "      <td>0.90816</td>\n",
       "      <td>1.249225</td>\n",
       "      <td>0.904057</td>\n",
       "      <td>0.915174</td>\n",
       "      <td>0.929659</td>\n",
       "      <td>0.891207</td>\n",
       "    </tr>\n",
       "  </tbody>\n",
       "</table>\n",
       "</div>"
      ],
      "text/plain": [
       "                        universe_id universe_training_year  \\\n",
       "0  dd6a72b9ee8d00e5e87f024922c8b72d                2012_14   \n",
       "\n",
       "  universe_training_size universe_scale universe_model  \\\n",
       "0                     1k          scale         logreg   \n",
       "\n",
       "  universe_exclude_features universe_exclude_subgroups     q_hat  coverage  \\\n",
       "0                       sex                   keep-all  0.806688   0.90816   \n",
       "\n",
       "   avg_size  cov_frau1  cov_nongerman  cov_nongerman_male  \\\n",
       "0  1.249225   0.904057       0.915174            0.929659   \n",
       "\n",
       "   cov_nongerman_female  \n",
       "0              0.891207  "
      ]
     },
     "execution_count": 71,
     "metadata": {},
     "output_type": "execute_result"
    }
   ],
   "source": [
    "cp_metrics_df"
   ]
  },
  {
   "cell_type": "markdown",
   "id": "33774451",
   "metadata": {
    "papermill": {
     "duration": 0.027512,
     "end_time": "2025-07-30T21:33:34.342261",
     "exception": false,
     "start_time": "2025-07-30T21:33:34.314749",
     "status": "completed"
    },
    "tags": []
   },
   "source": [
    "# (Fairness) Metrics"
   ]
  },
  {
   "cell_type": "code",
   "execution_count": 72,
   "id": "debc5d62",
   "metadata": {
    "execution": {
     "iopub.execute_input": "2025-07-30T21:33:34.402642Z",
     "iopub.status.busy": "2025-07-30T21:33:34.401574Z",
     "iopub.status.idle": "2025-07-30T21:33:34.424754Z",
     "shell.execute_reply": "2025-07-30T21:33:34.423410Z"
    },
    "papermill": {
     "duration": 0.057815,
     "end_time": "2025-07-30T21:33:34.429387",
     "exception": false,
     "start_time": "2025-07-30T21:33:34.371572",
     "status": "completed"
    },
    "tags": []
   },
   "outputs": [],
   "source": [
    "# do I need to include maxdeutsch1.missing?\n",
    "\n",
    "import numpy as np\n",
    "\n",
    "colname_to_bin = \"maxdeutsch1\"\n",
    "majority_value = org_train[colname_to_bin].mode()[0]\n",
    "\n",
    "org_test[\"majmin\"] = np.where(org_test[colname_to_bin] == majority_value, \"majority\", \"minority\")"
   ]
  },
  {
   "cell_type": "code",
   "execution_count": 73,
   "id": "06a50de5",
   "metadata": {
    "execution": {
     "iopub.execute_input": "2025-07-30T21:33:34.481889Z",
     "iopub.status.busy": "2025-07-30T21:33:34.481347Z",
     "iopub.status.idle": "2025-07-30T21:33:37.419735Z",
     "shell.execute_reply": "2025-07-30T21:33:37.418784Z"
    },
    "papermill": {
     "duration": 2.96219,
     "end_time": "2025-07-30T21:33:37.421590",
     "exception": false,
     "start_time": "2025-07-30T21:33:34.459400",
     "status": "completed"
    },
    "tags": []
   },
   "outputs": [],
   "source": [
    "example_universe = universe.copy()\n",
    "example_universe[\"cutoff\"] = example_universe[\"cutoff\"][0]\n",
    "example_universe[\"eval_fairness_grouping\"] = example_universe[\"eval_fairness_grouping\"][0]\n",
    "fairness_dict, metric_frame = universe_analysis.compute_metrics(\n",
    "    example_universe,\n",
    "    y_pred_prob=probs_test,\n",
    "    y_test=y_true,\n",
    "    org_test=org_test,\n",
    ")"
   ]
  },
  {
   "cell_type": "markdown",
   "id": "f95d4e02",
   "metadata": {
    "papermill": {
     "duration": 0.025427,
     "end_time": "2025-07-30T21:33:37.477492",
     "exception": false,
     "start_time": "2025-07-30T21:33:37.452065",
     "status": "completed"
    },
    "tags": []
   },
   "source": [
    "# Overall"
   ]
  },
  {
   "cell_type": "markdown",
   "id": "bdee4871",
   "metadata": {
    "papermill": {
     "duration": 0.026176,
     "end_time": "2025-07-30T21:33:37.530722",
     "exception": false,
     "start_time": "2025-07-30T21:33:37.504546",
     "status": "completed"
    },
    "tags": []
   },
   "source": [
    "Fairness\n",
    "Main fairness target: Equalized Odds. Seems to be a better fit than equal opportunity, since we're not only interested in Y = 1. Seems to be a better fit than demographic parity, since we also care about accuracy, not just equal distribution of preds.\n",
    "\n",
    "Pick column for computation of fairness metrics\n",
    "\n",
    "Performance\n",
    "Overall performance measures, most interesting in relation to the measures split by group below"
   ]
  },
  {
   "cell_type": "code",
   "execution_count": 74,
   "id": "c4e067c6",
   "metadata": {
    "execution": {
     "iopub.execute_input": "2025-07-30T21:33:37.585812Z",
     "iopub.status.busy": "2025-07-30T21:33:37.585149Z",
     "iopub.status.idle": "2025-07-30T21:33:37.593852Z",
     "shell.execute_reply": "2025-07-30T21:33:37.593037Z"
    },
    "papermill": {
     "duration": 0.038305,
     "end_time": "2025-07-30T21:33:37.595401",
     "exception": false,
     "start_time": "2025-07-30T21:33:37.557096",
     "status": "completed"
    },
    "tags": []
   },
   "outputs": [
    {
     "data": {
      "text/plain": [
       "accuracy                   0.216999\n",
       "balanced accuracy          0.532138\n",
       "f1                         0.238534\n",
       "precision                  0.136266\n",
       "false positive rate        0.891755\n",
       "false negative rate        0.043969\n",
       "selection rate             0.900000\n",
       "count                  89710.000000\n",
       "dtype: float64"
      ]
     },
     "execution_count": 74,
     "metadata": {},
     "output_type": "execute_result"
    }
   ],
   "source": [
    "metric_frame.overall"
   ]
  },
  {
   "cell_type": "markdown",
   "id": "e968fe9d",
   "metadata": {
    "papermill": {
     "duration": 0.027403,
     "end_time": "2025-07-30T21:33:37.649256",
     "exception": false,
     "start_time": "2025-07-30T21:33:37.621853",
     "status": "completed"
    },
    "tags": []
   },
   "source": [
    "By Group"
   ]
  },
  {
   "cell_type": "code",
   "execution_count": 75,
   "id": "ec325bce",
   "metadata": {
    "execution": {
     "iopub.execute_input": "2025-07-30T21:33:37.703766Z",
     "iopub.status.busy": "2025-07-30T21:33:37.703171Z",
     "iopub.status.idle": "2025-07-30T21:33:37.719034Z",
     "shell.execute_reply": "2025-07-30T21:33:37.718203Z"
    },
    "papermill": {
     "duration": 0.045762,
     "end_time": "2025-07-30T21:33:37.720742",
     "exception": false,
     "start_time": "2025-07-30T21:33:37.674980",
     "status": "completed"
    },
    "tags": []
   },
   "outputs": [
    {
     "data": {
      "text/html": [
       "<div>\n",
       "<style scoped>\n",
       "    .dataframe tbody tr th:only-of-type {\n",
       "        vertical-align: middle;\n",
       "    }\n",
       "\n",
       "    .dataframe tbody tr th {\n",
       "        vertical-align: top;\n",
       "    }\n",
       "\n",
       "    .dataframe thead th {\n",
       "        text-align: right;\n",
       "    }\n",
       "</style>\n",
       "<table border=\"1\" class=\"dataframe\">\n",
       "  <thead>\n",
       "    <tr style=\"text-align: right;\">\n",
       "      <th></th>\n",
       "      <th>accuracy</th>\n",
       "      <th>balanced accuracy</th>\n",
       "      <th>f1</th>\n",
       "      <th>precision</th>\n",
       "      <th>false positive rate</th>\n",
       "      <th>false negative rate</th>\n",
       "      <th>selection rate</th>\n",
       "      <th>count</th>\n",
       "    </tr>\n",
       "    <tr>\n",
       "      <th>majmin</th>\n",
       "      <th></th>\n",
       "      <th></th>\n",
       "      <th></th>\n",
       "      <th></th>\n",
       "      <th></th>\n",
       "      <th></th>\n",
       "      <th></th>\n",
       "      <th></th>\n",
       "    </tr>\n",
       "  </thead>\n",
       "  <tbody>\n",
       "    <tr>\n",
       "      <th>majority</th>\n",
       "      <td>0.234668</td>\n",
       "      <td>0.537367</td>\n",
       "      <td>0.246777</td>\n",
       "      <td>0.141834</td>\n",
       "      <td>0.874063</td>\n",
       "      <td>0.051204</td>\n",
       "      <td>0.883938</td>\n",
       "      <td>69170.0</td>\n",
       "    </tr>\n",
       "    <tr>\n",
       "      <th>minority</th>\n",
       "      <td>0.157498</td>\n",
       "      <td>0.516877</td>\n",
       "      <td>0.212156</td>\n",
       "      <td>0.118896</td>\n",
       "      <td>0.950198</td>\n",
       "      <td>0.016047</td>\n",
       "      <td>0.954090</td>\n",
       "      <td>20540.0</td>\n",
       "    </tr>\n",
       "  </tbody>\n",
       "</table>\n",
       "</div>"
      ],
      "text/plain": [
       "          accuracy  balanced accuracy        f1  precision  \\\n",
       "majmin                                                       \n",
       "majority  0.234668           0.537367  0.246777   0.141834   \n",
       "minority  0.157498           0.516877  0.212156   0.118896   \n",
       "\n",
       "          false positive rate  false negative rate  selection rate    count  \n",
       "majmin                                                                       \n",
       "majority             0.874063             0.051204        0.883938  69170.0  \n",
       "minority             0.950198             0.016047        0.954090  20540.0  "
      ]
     },
     "execution_count": 75,
     "metadata": {},
     "output_type": "execute_result"
    }
   ],
   "source": [
    "metric_frame.by_group"
   ]
  },
  {
   "cell_type": "code",
   "execution_count": 76,
   "id": "a9ddbe63",
   "metadata": {
    "execution": {
     "iopub.execute_input": "2025-07-30T21:33:37.776363Z",
     "iopub.status.busy": "2025-07-30T21:33:37.775685Z",
     "iopub.status.idle": "2025-07-30T21:33:39.997867Z",
     "shell.execute_reply": "2025-07-30T21:33:39.996923Z"
    },
    "papermill": {
     "duration": 2.252008,
     "end_time": "2025-07-30T21:33:39.999496",
     "exception": false,
     "start_time": "2025-07-30T21:33:37.747488",
     "status": "completed"
    },
    "tags": []
   },
   "outputs": [
    {
     "data": {
      "text/plain": [
       "array([[<Axes: title={'center': 'accuracy'}, xlabel='majmin'>,\n",
       "        <Axes: title={'center': 'balanced accuracy'}, xlabel='majmin'>,\n",
       "        <Axes: title={'center': 'f1'}, xlabel='majmin'>],\n",
       "       [<Axes: title={'center': 'precision'}, xlabel='majmin'>,\n",
       "        <Axes: title={'center': 'false positive rate'}, xlabel='majmin'>,\n",
       "        <Axes: title={'center': 'false negative rate'}, xlabel='majmin'>],\n",
       "       [<Axes: title={'center': 'selection rate'}, xlabel='majmin'>,\n",
       "        <Axes: title={'center': 'count'}, xlabel='majmin'>,\n",
       "        <Axes: xlabel='majmin'>]], dtype=object)"
      ]
     },
     "execution_count": 76,
     "metadata": {},
     "output_type": "execute_result"
    },
    {
     "data": {
      "image/png": "[encoded data removed]",
      "text/plain": [
       "<Figure size 1200x800 with 9 Axes>"
      ]
     },
     "metadata": {},
     "output_type": "display_data"
    }
   ],
   "source": [
    "# In a graphic\n",
    "metric_frame.by_group.plot.bar(\n",
    "    subplots=True,\n",
    "    layout=[3, 3],\n",
    "    legend=False,\n",
    "    figsize=[12, 8],\n",
    "    title=\"Show all metrics\",\n",
    ")"
   ]
  },
  {
   "cell_type": "markdown",
   "id": "f57a0bac",
   "metadata": {
    "papermill": {
     "duration": 0.028504,
     "end_time": "2025-07-30T21:33:40.057318",
     "exception": false,
     "start_time": "2025-07-30T21:33:40.028814",
     "status": "completed"
    },
    "tags": []
   },
   "source": [
    "# Final Output"
   ]
  },
  {
   "cell_type": "code",
   "execution_count": 77,
   "id": "96d280a3",
   "metadata": {
    "execution": {
     "iopub.execute_input": "2025-07-30T21:33:40.115862Z",
     "iopub.status.busy": "2025-07-30T21:33:40.115240Z",
     "iopub.status.idle": "2025-07-30T21:33:40.123750Z",
     "shell.execute_reply": "2025-07-30T21:33:40.122825Z"
    },
    "papermill": {
     "duration": 0.039123,
     "end_time": "2025-07-30T21:33:40.125432",
     "exception": false,
     "start_time": "2025-07-30T21:33:40.086309",
     "status": "completed"
    },
    "tags": []
   },
   "outputs": [
    {
     "data": {
      "text/plain": [
       "4"
      ]
     },
     "execution_count": 77,
     "metadata": {},
     "output_type": "execute_result"
    }
   ],
   "source": [
    "sub_universes = universe_analysis.generate_sub_universes()\n",
    "len(sub_universes)"
   ]
  },
  {
   "cell_type": "code",
   "execution_count": 78,
   "id": "92adf7ba",
   "metadata": {
    "execution": {
     "iopub.execute_input": "2025-07-30T21:33:40.185403Z",
     "iopub.status.busy": "2025-07-30T21:33:40.184753Z",
     "iopub.status.idle": "2025-07-30T21:33:40.191134Z",
     "shell.execute_reply": "2025-07-30T21:33:40.190162Z"
    },
    "papermill": {
     "duration": 0.037787,
     "end_time": "2025-07-30T21:33:40.192742",
     "exception": false,
     "start_time": "2025-07-30T21:33:40.154955",
     "status": "completed"
    },
    "tags": []
   },
   "outputs": [],
   "source": [
    "def filter_sub_universe_data(sub_universe, org_test):\n",
    "    # Keep all rows — no filtering\n",
    "    keep_rows_mask = np.ones(org_test.shape[0], dtype=bool)\n",
    "\n",
    "    print(f\"[INFO] Keeping all rows: {keep_rows_mask.sum()} rows retained.\")\n",
    "    return keep_rows_mask"
   ]
  },
  {
   "cell_type": "code",
   "execution_count": 79,
   "id": "4a759155",
   "metadata": {
    "execution": {
     "iopub.execute_input": "2025-07-30T21:33:40.252418Z",
     "iopub.status.busy": "2025-07-30T21:33:40.251697Z",
     "iopub.status.idle": "2025-07-30T21:33:50.186337Z",
     "shell.execute_reply": "2025-07-30T21:33:50.185296Z"
    },
    "papermill": {
     "duration": 9.965284,
     "end_time": "2025-07-30T21:33:50.188065",
     "exception": false,
     "start_time": "2025-07-30T21:33:40.222781",
     "status": "completed"
    },
    "tags": []
   },
   "outputs": [
    {
     "name": "stdout",
     "output_type": "stream",
     "text": [
      "Stopping execution_time clock.\n",
      "[INFO] Keeping all rows: 89710 rows retained.\n"
     ]
    },
    {
     "name": "stdout",
     "output_type": "stream",
     "text": [
      "[INFO] Keeping all rows: 89710 rows retained.\n"
     ]
    },
    {
     "name": "stdout",
     "output_type": "stream",
     "text": [
      "[INFO] Keeping all rows: 89710 rows retained.\n"
     ]
    },
    {
     "name": "stdout",
     "output_type": "stream",
     "text": [
      "[INFO] Keeping all rows: 89710 rows retained.\n"
     ]
    },
    {
     "data": {
      "text/html": [
       "<div>\n",
       "<style scoped>\n",
       "    .dataframe tbody tr th:only-of-type {\n",
       "        vertical-align: middle;\n",
       "    }\n",
       "\n",
       "    .dataframe tbody tr th {\n",
       "        vertical-align: top;\n",
       "    }\n",
       "\n",
       "    .dataframe thead th {\n",
       "        text-align: right;\n",
       "    }\n",
       "</style>\n",
       "<table border=\"1\" class=\"dataframe\">\n",
       "  <thead>\n",
       "    <tr style=\"text-align: right;\">\n",
       "      <th></th>\n",
       "      <th>run_no</th>\n",
       "      <th>universe_id</th>\n",
       "      <th>universe_settings</th>\n",
       "      <th>execution_time</th>\n",
       "      <th>test_size_n</th>\n",
       "      <th>test_size_frac</th>\n",
       "      <th>fair_main_equalized_odds_difference</th>\n",
       "      <th>fair_main_equalized_odds_ratio</th>\n",
       "      <th>fair_main_demographic_parity_difference</th>\n",
       "      <th>fair_main_demographic_parity_ratio</th>\n",
       "      <th>...</th>\n",
       "      <th>perf_grp_precision_0</th>\n",
       "      <th>perf_grp_precision_1</th>\n",
       "      <th>perf_grp_false positive rate_0</th>\n",
       "      <th>perf_grp_false positive rate_1</th>\n",
       "      <th>perf_grp_false negative rate_0</th>\n",
       "      <th>perf_grp_false negative rate_1</th>\n",
       "      <th>perf_grp_selection rate_0</th>\n",
       "      <th>perf_grp_selection rate_1</th>\n",
       "      <th>perf_grp_count_0</th>\n",
       "      <th>perf_grp_count_1</th>\n",
       "    </tr>\n",
       "  </thead>\n",
       "  <tbody>\n",
       "    <tr>\n",
       "      <th>0</th>\n",
       "      <td>14</td>\n",
       "      <td>dd6a72b9ee8d00e5e87f024922c8b72d</td>\n",
       "      <td>{\"cutoff\": \"quantile_0.1\", \"eval_fairness_grou...</td>\n",
       "      <td>27.719936</td>\n",
       "      <td>89710</td>\n",
       "      <td>1.0</td>\n",
       "      <td>0.076135</td>\n",
       "      <td>0.919874</td>\n",
       "      <td>0.070151</td>\n",
       "      <td>0.926473</td>\n",
       "      <td>...</td>\n",
       "      <td>NaN</td>\n",
       "      <td>NaN</td>\n",
       "      <td>NaN</td>\n",
       "      <td>NaN</td>\n",
       "      <td>NaN</td>\n",
       "      <td>NaN</td>\n",
       "      <td>NaN</td>\n",
       "      <td>NaN</td>\n",
       "      <td>NaN</td>\n",
       "      <td>NaN</td>\n",
       "    </tr>\n",
       "    <tr>\n",
       "      <th>0</th>\n",
       "      <td>14</td>\n",
       "      <td>dd6a72b9ee8d00e5e87f024922c8b72d</td>\n",
       "      <td>{\"cutoff\": \"quantile_0.1\", \"eval_fairness_grou...</td>\n",
       "      <td>27.719936</td>\n",
       "      <td>89710</td>\n",
       "      <td>1.0</td>\n",
       "      <td>0.076135</td>\n",
       "      <td>0.919874</td>\n",
       "      <td>0.070151</td>\n",
       "      <td>0.926473</td>\n",
       "      <td>...</td>\n",
       "      <td>0.118896</td>\n",
       "      <td>0.141834</td>\n",
       "      <td>0.950198</td>\n",
       "      <td>0.874063</td>\n",
       "      <td>0.016047</td>\n",
       "      <td>0.051204</td>\n",
       "      <td>0.954090</td>\n",
       "      <td>0.883938</td>\n",
       "      <td>20540.0</td>\n",
       "      <td>69170.0</td>\n",
       "    </tr>\n",
       "    <tr>\n",
       "      <th>0</th>\n",
       "      <td>14</td>\n",
       "      <td>dd6a72b9ee8d00e5e87f024922c8b72d</td>\n",
       "      <td>{\"cutoff\": \"quantile_0.25\", \"eval_fairness_gro...</td>\n",
       "      <td>27.719936</td>\n",
       "      <td>89710</td>\n",
       "      <td>1.0</td>\n",
       "      <td>0.164711</td>\n",
       "      <td>0.807972</td>\n",
       "      <td>0.151108</td>\n",
       "      <td>0.825612</td>\n",
       "      <td>...</td>\n",
       "      <td>NaN</td>\n",
       "      <td>NaN</td>\n",
       "      <td>NaN</td>\n",
       "      <td>NaN</td>\n",
       "      <td>NaN</td>\n",
       "      <td>NaN</td>\n",
       "      <td>NaN</td>\n",
       "      <td>NaN</td>\n",
       "      <td>NaN</td>\n",
       "      <td>NaN</td>\n",
       "    </tr>\n",
       "    <tr>\n",
       "      <th>0</th>\n",
       "      <td>14</td>\n",
       "      <td>dd6a72b9ee8d00e5e87f024922c8b72d</td>\n",
       "      <td>{\"cutoff\": \"quantile_0.25\", \"eval_fairness_gro...</td>\n",
       "      <td>27.719936</td>\n",
       "      <td>89710</td>\n",
       "      <td>1.0</td>\n",
       "      <td>0.164711</td>\n",
       "      <td>0.807972</td>\n",
       "      <td>0.151108</td>\n",
       "      <td>0.825612</td>\n",
       "      <td>...</td>\n",
       "      <td>0.124227</td>\n",
       "      <td>0.159264</td>\n",
       "      <td>0.857748</td>\n",
       "      <td>0.693037</td>\n",
       "      <td>0.066301</td>\n",
       "      <td>0.137746</td>\n",
       "      <td>0.866504</td>\n",
       "      <td>0.715397</td>\n",
       "      <td>20540.0</td>\n",
       "      <td>69170.0</td>\n",
       "    </tr>\n",
       "  </tbody>\n",
       "</table>\n",
       "<p>4 rows × 50 columns</p>\n",
       "</div>"
      ],
      "text/plain": [
       "  run_no                       universe_id  \\\n",
       "0     14  dd6a72b9ee8d00e5e87f024922c8b72d   \n",
       "0     14  dd6a72b9ee8d00e5e87f024922c8b72d   \n",
       "0     14  dd6a72b9ee8d00e5e87f024922c8b72d   \n",
       "0     14  dd6a72b9ee8d00e5e87f024922c8b72d   \n",
       "\n",
       "                                   universe_settings  execution_time  \\\n",
       "0  {\"cutoff\": \"quantile_0.1\", \"eval_fairness_grou...       27.719936   \n",
       "0  {\"cutoff\": \"quantile_0.1\", \"eval_fairness_grou...       27.719936   \n",
       "0  {\"cutoff\": \"quantile_0.25\", \"eval_fairness_gro...       27.719936   \n",
       "0  {\"cutoff\": \"quantile_0.25\", \"eval_fairness_gro...       27.719936   \n",
       "\n",
       "   test_size_n  test_size_frac  fair_main_equalized_odds_difference  \\\n",
       "0        89710             1.0                             0.076135   \n",
       "0        89710             1.0                             0.076135   \n",
       "0        89710             1.0                             0.164711   \n",
       "0        89710             1.0                             0.164711   \n",
       "\n",
       "   fair_main_equalized_odds_ratio  fair_main_demographic_parity_difference  \\\n",
       "0                        0.919874                                 0.070151   \n",
       "0                        0.919874                                 0.070151   \n",
       "0                        0.807972                                 0.151108   \n",
       "0                        0.807972                                 0.151108   \n",
       "\n",
       "   fair_main_demographic_parity_ratio  ...  perf_grp_precision_0  \\\n",
       "0                            0.926473  ...                   NaN   \n",
       "0                            0.926473  ...              0.118896   \n",
       "0                            0.825612  ...                   NaN   \n",
       "0                            0.825612  ...              0.124227   \n",
       "\n",
       "   perf_grp_precision_1  perf_grp_false positive rate_0  \\\n",
       "0                   NaN                             NaN   \n",
       "0              0.141834                        0.950198   \n",
       "0                   NaN                             NaN   \n",
       "0              0.159264                        0.857748   \n",
       "\n",
       "   perf_grp_false positive rate_1  perf_grp_false negative rate_0  \\\n",
       "0                             NaN                             NaN   \n",
       "0                        0.874063                        0.016047   \n",
       "0                             NaN                             NaN   \n",
       "0                        0.693037                        0.066301   \n",
       "\n",
       "   perf_grp_false negative rate_1  perf_grp_selection rate_0  \\\n",
       "0                             NaN                        NaN   \n",
       "0                        0.051204                   0.954090   \n",
       "0                             NaN                        NaN   \n",
       "0                        0.137746                   0.866504   \n",
       "\n",
       "   perf_grp_selection rate_1  perf_grp_count_0  perf_grp_count_1  \n",
       "0                        NaN               NaN               NaN  \n",
       "0                   0.883938           20540.0           69170.0  \n",
       "0                        NaN               NaN               NaN  \n",
       "0                   0.715397           20540.0           69170.0  \n",
       "\n",
       "[4 rows x 50 columns]"
      ]
     },
     "execution_count": 79,
     "metadata": {},
     "output_type": "execute_result"
    }
   ],
   "source": [
    "final_output = universe_analysis.generate_final_output(\n",
    "    y_pred_prob=probs_test,\n",
    "    y_test=y_true,\n",
    "    org_test=org_test,\n",
    "    filter_data=filter_sub_universe_data,\n",
    "    cp_metrics_df=cp_metrics_df,\n",
    "    save=True,\n",
    ")\n",
    "final_output"
   ]
  },
  {
   "cell_type": "code",
   "execution_count": null,
   "id": "721ff514-cb11-46f8-b6fc-50392f74b5cb",
   "metadata": {
    "papermill": {
     "duration": 0.02902,
     "end_time": "2025-07-30T21:33:50.248508",
     "exception": false,
     "start_time": "2025-07-30T21:33:50.219488",
     "status": "completed"
    },
    "tags": []
   },
   "outputs": [],
   "source": []
  }
 ],
 "metadata": {
  "celltoolbar": "Tags",
  "kernelspec": {
   "display_name": "Python (CMA Fairness)",
   "language": "python",
   "name": "cma_fair_env"
  },
  "language_info": {
   "codemirror_mode": {
    "name": "ipython",
    "version": 3
   },
   "file_extension": ".py",
   "mimetype": "text/x-python",
   "name": "python",
   "nbconvert_exporter": "python",
   "pygments_lexer": "ipython3",
   "version": "3.10.12"
  },
  "papermill": {
   "default_parameters": {},
   "duration": 41.801743,
   "end_time": "2025-07-30T21:33:51.091365",
   "environment_variables": {},
   "exception": null,
   "input_path": "universe_analysis.ipynb",
   "output_path": "output/runs/14/notebooks/m_14-dd6a72b9ee8d00e5e87f024922c8b72d.ipynb",
   "parameters": {
    "output_dir": "output",
    "run_no": "14",
    "seed": "2023",
    "universe": "{\"cutoff\": [\"quantile_0.1\", \"quantile_0.25\"], \"eval_fairness_grouping\": [\"majority-minority\", \"nationality-all\"], \"exclude_features\": \"sex\", \"exclude_subgroups\": \"keep-all\", \"model\": \"logreg\", \"scale\": \"scale\", \"training_size\": \"1k\", \"training_year\": \"2012_14\"}",
    "universe_id": "dd6a72b9ee8d00e5e87f024922c8b72d"
   },
   "start_time": "2025-07-30T21:33:09.289622",
   "version": "2.6.0"
  }
 },
 "nbformat": 4,
 "nbformat_minor": 5
}