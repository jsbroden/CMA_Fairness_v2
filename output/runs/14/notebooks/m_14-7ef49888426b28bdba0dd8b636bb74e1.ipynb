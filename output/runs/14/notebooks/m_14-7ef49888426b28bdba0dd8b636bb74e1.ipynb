{
 "cells": [
  {
   "cell_type": "code",
   "execution_count": 1,
   "id": "f159f837-637b-42ba-96b5-ec9a68c44524",
   "metadata": {
    "execution": {
     "iopub.execute_input": "2025-07-30T21:37:37.824981Z",
     "iopub.status.busy": "2025-07-30T21:37:37.824477Z",
     "iopub.status.idle": "2025-07-30T21:37:37.839102Z",
     "shell.execute_reply": "2025-07-30T21:37:37.838074Z"
    },
    "papermill": {
     "duration": 0.03905,
     "end_time": "2025-07-30T21:37:37.840814",
     "exception": false,
     "start_time": "2025-07-30T21:37:37.801764",
     "status": "completed"
    },
    "tags": []
   },
   "outputs": [
    {
     "name": "stdout",
     "output_type": "stream",
     "text": [
      "/dss/dsshome1/0C/ra93lal2/cma/CMA_Fairness_v2\n"
     ]
    },
    {
     "name": "stderr",
     "output_type": "stream",
     "text": [
      "/dss/dsshome1/0C/ra93lal2/.local/share/virtualenvs/CMA_Fairness_v2-3j10GkSs/lib/python3.10/site-packages/IPython/core/magics/osm.py:393: UserWarning: This is now an optional IPython functionality, using bookmarks requires you to install the `pickleshare` library.\n",
      "  bkms = self.shell.db.get('bookmarks', {})\n",
      "/dss/dsshome1/0C/ra93lal2/.local/share/virtualenvs/CMA_Fairness_v2-3j10GkSs/lib/python3.10/site-packages/IPython/core/magics/osm.py:417: UserWarning: This is now an optional IPython functionality, setting dhist requires you to install the `pickleshare` library.\n",
      "  self.shell.db['dhist'] = compress_dhist(dhist)[-100:]\n"
     ]
    }
   ],
   "source": [
    "%cd ~/cma/CMA_Fairness_v2"
   ]
  },
  {
   "cell_type": "markdown",
   "id": "de2603b9",
   "metadata": {
    "papermill": {
     "duration": 0.020652,
     "end_time": "2025-07-30T21:37:37.883388",
     "exception": false,
     "start_time": "2025-07-30T21:37:37.862736",
     "status": "completed"
    },
    "tags": []
   },
   "source": [
    "The following cell holds the definition of our parameters, these values can be overriden by rendering the with e.g. the following command:\n",
    "\n",
    "papermill -p alpha 0.2 -p ratio 0.3 universe_analysis.ipynb output/test_run.ipynb"
   ]
  },
  {
   "cell_type": "code",
   "execution_count": 2,
   "id": "a80968a0-40bb-4fa9-85ef-2d5eefb01975",
   "metadata": {
    "execution": {
     "iopub.execute_input": "2025-07-30T21:37:37.926962Z",
     "iopub.status.busy": "2025-07-30T21:37:37.926391Z",
     "iopub.status.idle": "2025-07-30T21:37:37.932902Z",
     "shell.execute_reply": "2025-07-30T21:37:37.931805Z"
    },
    "papermill": {
     "duration": 0.030371,
     "end_time": "2025-07-30T21:37:37.934566",
     "exception": false,
     "start_time": "2025-07-30T21:37:37.904195",
     "status": "completed"
    },
    "tags": []
   },
   "outputs": [
    {
     "name": "stdout",
     "output_type": "stream",
     "text": [
      "Current working directory: /dss/dsshome1/0C/ra93lal2/cma/CMA_Fairness_v2\n"
     ]
    }
   ],
   "source": [
    "import os\n",
    "print(\"Current working directory:\", os.getcwd())"
   ]
  },
  {
   "cell_type": "code",
   "execution_count": 3,
   "id": "2dce4c03",
   "metadata": {
    "execution": {
     "iopub.execute_input": "2025-07-30T21:37:37.960349Z",
     "iopub.status.busy": "2025-07-30T21:37:37.959848Z",
     "iopub.status.idle": "2025-07-30T21:37:37.966709Z",
     "shell.execute_reply": "2025-07-30T21:37:37.965832Z"
    },
    "papermill": {
     "duration": 0.020225,
     "end_time": "2025-07-30T21:37:37.968014",
     "exception": false,
     "start_time": "2025-07-30T21:37:37.947789",
     "status": "completed"
    },
    "tags": [
     "parameters"
    ]
   },
   "outputs": [],
   "source": [
    "run_no = 0\n",
    "universe_id = \"test\"\n",
    "universe = {\n",
    "    \"training_size\": \"25k\", # \"25k\", \"5k\", \"1k\"\n",
    "    \"training_year\": \"2014\", # \"2014\", \"2012_14\", \"2010_14\"\n",
    "    \"scale\": \"scale\", # \"scale\", \"do-not-scale\",\n",
    "    #\"stratify_split\": \"target\", # \"none\", \"target\", \"protected-attribute\", \"both\",\n",
    "    \"model\": \"elasticnet\", # \"logreg\", \"penalized_logreg\", \"rf\", \"gbm\", \"elasticnet\"\n",
    "    \"cutoff\": [\"quantile_0.15\", \"quantile_0.30\"],\n",
    "    \"exclude_features\": \"age\", # \"none\", \"nationality\", \"sex\", \"nationality-sex\", \"age\"\n",
    "    \"exclude_subgroups\": \"keep-all\", # \"keep-all\", \"drop-non-german\"\n",
    "    \"eval_fairness_grouping\": [\"majority-minority\", \"nationality-all\"]\n",
    "}\n",
    "\n",
    "output_dir=\"./output\"\n",
    "seed=0"
   ]
  },
  {
   "cell_type": "code",
   "execution_count": 4,
   "id": "d43228b4",
   "metadata": {
    "execution": {
     "iopub.execute_input": "2025-07-30T21:37:37.990761Z",
     "iopub.status.busy": "2025-07-30T21:37:37.990262Z",
     "iopub.status.idle": "2025-07-30T21:37:37.994693Z",
     "shell.execute_reply": "2025-07-30T21:37:37.994002Z"
    },
    "papermill": {
     "duration": 0.01691,
     "end_time": "2025-07-30T21:37:37.995990",
     "exception": false,
     "start_time": "2025-07-30T21:37:37.979080",
     "status": "completed"
    },
    "tags": [
     "injected-parameters"
    ]
   },
   "outputs": [],
   "source": [
    "# Parameters\n",
    "universe_id = \"7ef49888426b28bdba0dd8b636bb74e1\"\n",
    "run_no = \"14\"\n",
    "universe = \"{\\\"cutoff\\\": [\\\"quantile_0.1\\\", \\\"quantile_0.25\\\"], \\\"eval_fairness_grouping\\\": [\\\"majority-minority\\\", \\\"nationality-all\\\"], \\\"exclude_features\\\": \\\"age\\\", \\\"exclude_subgroups\\\": \\\"keep-all\\\", \\\"model\\\": \\\"elasticnet\\\", \\\"scale\\\": \\\"scale\\\", \\\"training_size\\\": \\\"1k\\\", \\\"training_year\\\": \\\"2012_14\\\"}\"\n",
    "output_dir = \"output\"\n",
    "seed = \"2023\"\n"
   ]
  },
  {
   "cell_type": "code",
   "execution_count": 5,
   "id": "1650acaf",
   "metadata": {
    "execution": {
     "iopub.execute_input": "2025-07-30T21:37:38.019174Z",
     "iopub.status.busy": "2025-07-30T21:37:38.018671Z",
     "iopub.status.idle": "2025-07-30T21:37:38.023312Z",
     "shell.execute_reply": "2025-07-30T21:37:38.022525Z"
    },
    "papermill": {
     "duration": 0.017473,
     "end_time": "2025-07-30T21:37:38.024797",
     "exception": false,
     "start_time": "2025-07-30T21:37:38.007324",
     "status": "completed"
    },
    "tags": []
   },
   "outputs": [],
   "source": [
    "import json\n",
    "# Parse universe into dict if it is passed as a string\n",
    "if isinstance(universe, str):\n",
    "    universe = json.loads(universe)"
   ]
  },
  {
   "cell_type": "code",
   "execution_count": 6,
   "id": "16620c48",
   "metadata": {
    "execution": {
     "iopub.execute_input": "2025-07-30T21:37:38.047724Z",
     "iopub.status.busy": "2025-07-30T21:37:38.046894Z",
     "iopub.status.idle": "2025-07-30T21:37:38.086214Z",
     "shell.execute_reply": "2025-07-30T21:37:38.085149Z"
    },
    "papermill": {
     "duration": 0.052074,
     "end_time": "2025-07-30T21:37:38.088126",
     "exception": false,
     "start_time": "2025-07-30T21:37:38.036052",
     "status": "completed"
    },
    "tags": []
   },
   "outputs": [],
   "source": [
    "# Auto-reload the custom package\n",
    "%load_ext autoreload\n",
    "%autoreload 1\n",
    "%aimport fairness_multiverse"
   ]
  },
  {
   "cell_type": "code",
   "execution_count": 7,
   "id": "01c5c9f3",
   "metadata": {
    "execution": {
     "iopub.execute_input": "2025-07-30T21:37:38.130129Z",
     "iopub.status.busy": "2025-07-30T21:37:38.129107Z",
     "iopub.status.idle": "2025-07-30T21:37:39.831375Z",
     "shell.execute_reply": "2025-07-30T21:37:39.830550Z"
    },
    "papermill": {
     "duration": 1.723463,
     "end_time": "2025-07-30T21:37:39.832879",
     "exception": false,
     "start_time": "2025-07-30T21:37:38.109416",
     "status": "completed"
    },
    "tags": []
   },
   "outputs": [],
   "source": [
    "from fairness_multiverse.universe import UniverseAnalysis\n",
    "\n",
    "universe_analysis = UniverseAnalysis(\n",
    "    run_no = run_no,\n",
    "    universe_id = universe_id,\n",
    "    universe = universe,\n",
    "    output_dir=output_dir,\n",
    ")"
   ]
  },
  {
   "cell_type": "code",
   "execution_count": 8,
   "id": "106241f5",
   "metadata": {
    "execution": {
     "iopub.execute_input": "2025-07-30T21:37:39.859138Z",
     "iopub.status.busy": "2025-07-30T21:37:39.858457Z",
     "iopub.status.idle": "2025-07-30T21:37:39.864448Z",
     "shell.execute_reply": "2025-07-30T21:37:39.863610Z"
    },
    "papermill": {
     "duration": 0.022285,
     "end_time": "2025-07-30T21:37:39.865732",
     "exception": false,
     "start_time": "2025-07-30T21:37:39.843447",
     "status": "completed"
    },
    "tags": []
   },
   "outputs": [
    {
     "name": "stdout",
     "output_type": "stream",
     "text": [
      "Using Seed: 2023\n"
     ]
    }
   ],
   "source": [
    "import numpy as np\n",
    "parsed_seed = int(seed)\n",
    "np.random.seed(parsed_seed)\n",
    "print(f\"Using Seed: {parsed_seed}\")"
   ]
  },
  {
   "cell_type": "markdown",
   "id": "e0ebdc57",
   "metadata": {
    "papermill": {
     "duration": 0.010009,
     "end_time": "2025-07-30T21:37:39.886502",
     "exception": false,
     "start_time": "2025-07-30T21:37:39.876493",
     "status": "completed"
    },
    "tags": []
   },
   "source": [
    "# Loading Data"
   ]
  },
  {
   "cell_type": "markdown",
   "id": "681925a3",
   "metadata": {
    "papermill": {
     "duration": 0.013426,
     "end_time": "2025-07-30T21:37:39.909755",
     "exception": false,
     "start_time": "2025-07-30T21:37:39.896329",
     "status": "completed"
    },
    "tags": []
   },
   "source": [
    "Load siab_train, siab_test, siab_calib and/or \n",
    "load siab_train_features, siab_train_labels"
   ]
  },
  {
   "cell_type": "code",
   "execution_count": 9,
   "id": "f0496b8a",
   "metadata": {
    "execution": {
     "iopub.execute_input": "2025-07-30T21:37:39.932337Z",
     "iopub.status.busy": "2025-07-30T21:37:39.931621Z",
     "iopub.status.idle": "2025-07-30T21:37:51.111178Z",
     "shell.execute_reply": "2025-07-30T21:37:51.110061Z"
    },
    "papermill": {
     "duration": 11.192371,
     "end_time": "2025-07-30T21:37:51.112892",
     "exception": false,
     "start_time": "2025-07-30T21:37:39.920521",
     "status": "completed"
    },
    "tags": []
   },
   "outputs": [
    {
     "name": "stdout",
     "output_type": "stream",
     "text": [
      "Loading SIAB data from cache: data/siab_cached.csv.gz\n"
     ]
    },
    {
     "name": "stdout",
     "output_type": "stream",
     "text": [
      "(643690, 164)\n"
     ]
    }
   ],
   "source": [
    "from pathlib import Path\n",
    "import pandas as pd\n",
    "\n",
    "# File paths\n",
    "raw_file = Path(\"data/raw/siab.csv\")\n",
    "cache_file = Path(\"data/siab_cached.csv.gz\")\n",
    "\n",
    "# Ensure cache directory exists\n",
    "cache_file.parent.mkdir(parents=True, exist_ok=True)\n",
    "\n",
    "# Load with simple caching\n",
    "if cache_file.exists():\n",
    "    print(f\"Loading SIAB data from cache: {cache_file}\")\n",
    "    siab = pd.read_csv(cache_file, compression='gzip')\n",
    "else:\n",
    "    print(f\"Cache not found. Reading raw SIAB data: {raw_file}\")\n",
    "    siab = pd.read_csv(raw_file)\n",
    "    siab.to_csv(cache_file, index=False, compression='gzip')\n",
    "    print(f\"Cached SIAB data to: {cache_file}\")\n",
    "\n",
    "# Now use `siab` DataFrame as needed\n",
    "print(siab.shape)"
   ]
  },
  {
   "cell_type": "code",
   "execution_count": 10,
   "id": "db0ca512-5f53-4dba-abdb-a2888bca41ba",
   "metadata": {
    "execution": {
     "iopub.execute_input": "2025-07-30T21:37:51.158414Z",
     "iopub.status.busy": "2025-07-30T21:37:51.157608Z",
     "iopub.status.idle": "2025-07-30T21:37:51.163616Z",
     "shell.execute_reply": "2025-07-30T21:37:51.162573Z"
    },
    "papermill": {
     "duration": 0.029585,
     "end_time": "2025-07-30T21:37:51.165290",
     "exception": false,
     "start_time": "2025-07-30T21:37:51.135705",
     "status": "completed"
    },
    "tags": []
   },
   "outputs": [],
   "source": [
    "#siab"
   ]
  },
  {
   "cell_type": "code",
   "execution_count": 11,
   "id": "a0edb063",
   "metadata": {
    "execution": {
     "iopub.execute_input": "2025-07-30T21:37:51.207810Z",
     "iopub.status.busy": "2025-07-30T21:37:51.207123Z",
     "iopub.status.idle": "2025-07-30T21:37:51.212104Z",
     "shell.execute_reply": "2025-07-30T21:37:51.211084Z"
    },
    "papermill": {
     "duration": 0.02685,
     "end_time": "2025-07-30T21:37:51.213867",
     "exception": false,
     "start_time": "2025-07-30T21:37:51.187017",
     "status": "completed"
    },
    "tags": []
   },
   "outputs": [],
   "source": [
    "#import pandas as pd\n",
    "#\n",
    "#X_train = pd.read_csv(\"./data/X_train.csv\")\n",
    "#y_train = pd.read_csv(\"./data/y_train.csv\")"
   ]
  },
  {
   "cell_type": "code",
   "execution_count": 12,
   "id": "63d08085",
   "metadata": {
    "execution": {
     "iopub.execute_input": "2025-07-30T21:37:51.250352Z",
     "iopub.status.busy": "2025-07-30T21:37:51.249957Z",
     "iopub.status.idle": "2025-07-30T21:37:51.254427Z",
     "shell.execute_reply": "2025-07-30T21:37:51.253661Z"
    },
    "papermill": {
     "duration": 0.021408,
     "end_time": "2025-07-30T21:37:51.255864",
     "exception": false,
     "start_time": "2025-07-30T21:37:51.234456",
     "status": "completed"
    },
    "tags": []
   },
   "outputs": [],
   "source": [
    "#X_test = pd.read_csv(\"./data/X_test.csv\")\n",
    "#y_true = pd.read_csv(\"./data/y_test.csv\")"
   ]
  },
  {
   "cell_type": "code",
   "execution_count": 13,
   "id": "98a8d0fa-1d3d-4ed8-bb2c-281470e24add",
   "metadata": {
    "execution": {
     "iopub.execute_input": "2025-07-30T21:37:51.279775Z",
     "iopub.status.busy": "2025-07-30T21:37:51.279324Z",
     "iopub.status.idle": "2025-07-30T21:37:51.284256Z",
     "shell.execute_reply": "2025-07-30T21:37:51.283250Z"
    },
    "papermill": {
     "duration": 0.019159,
     "end_time": "2025-07-30T21:37:51.286242",
     "exception": false,
     "start_time": "2025-07-30T21:37:51.267083",
     "status": "completed"
    },
    "tags": []
   },
   "outputs": [],
   "source": [
    "# Calibration data for conformal\n",
    "#X_calib = pd.read_csv(\"./data/X_calib.csv\")\n",
    "#y_calib = pd.read_csv(\"./data/y_calib.csv\")"
   ]
  },
  {
   "cell_type": "markdown",
   "id": "997051c5-15bd-4b69-9786-c3001a3ce484",
   "metadata": {
    "papermill": {
     "duration": 0.01908,
     "end_time": "2025-07-30T21:37:51.327160",
     "exception": false,
     "start_time": "2025-07-30T21:37:51.308080",
     "status": "completed"
    },
    "tags": []
   },
   "source": [
    "# Splitting Data and Setting Training Data Size"
   ]
  },
  {
   "cell_type": "code",
   "execution_count": 14,
   "id": "e993b61f-042d-41a6-8c81-f55681f86335",
   "metadata": {
    "execution": {
     "iopub.execute_input": "2025-07-30T21:37:51.371876Z",
     "iopub.status.busy": "2025-07-30T21:37:51.371201Z",
     "iopub.status.idle": "2025-07-30T21:37:51.384731Z",
     "shell.execute_reply": "2025-07-30T21:37:51.383497Z"
    },
    "papermill": {
     "duration": 0.03816,
     "end_time": "2025-07-30T21:37:51.386487",
     "exception": false,
     "start_time": "2025-07-30T21:37:51.348327",
     "status": "completed"
    },
    "tags": []
   },
   "outputs": [],
   "source": [
    "def sample_by_year_size(df,\n",
    "                        training_year: str,\n",
    "                        training_size: str,\n",
    "                        random_state: int = 42):\n",
    "    # --- parse training_year into a list of int years ---\n",
    "    if \"_\" in training_year:\n",
    "        start_str, end_str = training_year.split(\"_\", 1)\n",
    "        start = int(start_str)\n",
    "        end   = int(end_str) if len(end_str) == 4 else (int(end_str) + (start // 100)*100)\n",
    "        years = list(range(start, end + 1))\n",
    "    else:\n",
    "        years = [int(training_year)]\n",
    "\n",
    "    df = df[df[\"year\"].isin(years)].reset_index(drop=True)\n",
    "\n",
    "    # --- map training_size to total number of samples ---\n",
    "    total_map = {\"25k\": 25_000, \"5k\": 5_000, \"1k\": 1_000}\n",
    "    if training_size not in total_map:\n",
    "        return df  # e.g. \"all\"\n",
    "\n",
    "    total_samples = total_map[training_size]\n",
    "    n_years       = len(years)\n",
    "    base          = total_samples // n_years\n",
    "    remainder     = total_samples % n_years\n",
    "\n",
    "    # --- build a dict: year -> how many to sample ---\n",
    "    # give +1 to the first `remainder` years in ascending order\n",
    "    quotas = {\n",
    "        year: base + (1 if idx < remainder else 0)\n",
    "        for idx, year in enumerate(sorted(years))\n",
    "    }\n",
    "\n",
    "    # --- sample per‐year according to the quota dict ---\n",
    "    sampled = (\n",
    "        df\n",
    "        .groupby(\"year\", group_keys=False)\n",
    "        .apply(lambda grp: grp.sample(\n",
    "            n=min(len(grp), quotas[grp.name]),\n",
    "            random_state=random_state))\n",
    "        .reset_index(drop=True)\n",
    "    )\n",
    "\n",
    "    return sampled"
   ]
  },
  {
   "cell_type": "code",
   "execution_count": 15,
   "id": "c0ccd338-0e02-41f3-a09d-f56f9266e3fb",
   "metadata": {
    "execution": {
     "iopub.execute_input": "2025-07-30T21:37:51.431075Z",
     "iopub.status.busy": "2025-07-30T21:37:51.430594Z",
     "iopub.status.idle": "2025-07-30T21:37:51.435512Z",
     "shell.execute_reply": "2025-07-30T21:37:51.434615Z"
    },
    "papermill": {
     "duration": 0.028923,
     "end_time": "2025-07-30T21:37:51.437189",
     "exception": false,
     "start_time": "2025-07-30T21:37:51.408266",
     "status": "completed"
    },
    "tags": []
   },
   "outputs": [],
   "source": [
    "#universe[\"training_size\"]"
   ]
  },
  {
   "cell_type": "code",
   "execution_count": 16,
   "id": "ca707fd7-8047-4acd-bfa5-66248fbbf8e6",
   "metadata": {
    "execution": {
     "iopub.execute_input": "2025-07-30T21:37:51.475339Z",
     "iopub.status.busy": "2025-07-30T21:37:51.474937Z",
     "iopub.status.idle": "2025-07-30T21:37:51.480394Z",
     "shell.execute_reply": "2025-07-30T21:37:51.479305Z"
    },
    "papermill": {
     "duration": 0.028063,
     "end_time": "2025-07-30T21:37:51.486873",
     "exception": false,
     "start_time": "2025-07-30T21:37:51.458810",
     "status": "completed"
    },
    "tags": []
   },
   "outputs": [],
   "source": [
    "#universe[\"training_year\"]"
   ]
  },
  {
   "cell_type": "code",
   "execution_count": 17,
   "id": "aea9c6ef-6f46-42c8-85eb-5a62025c1508",
   "metadata": {
    "execution": {
     "iopub.execute_input": "2025-07-30T21:37:51.546396Z",
     "iopub.status.busy": "2025-07-30T21:37:51.545693Z",
     "iopub.status.idle": "2025-07-30T21:37:52.131510Z",
     "shell.execute_reply": "2025-07-30T21:37:52.130510Z"
    },
    "papermill": {
     "duration": 0.618404,
     "end_time": "2025-07-30T21:37:52.134045",
     "exception": false,
     "start_time": "2025-07-30T21:37:51.515641",
     "status": "completed"
    },
    "tags": []
   },
   "outputs": [],
   "source": [
    "siab_train = sample_by_year_size(siab,\n",
    "                               training_year=universe[\"training_year\"],\n",
    "                               training_size=universe[\"training_size\"])"
   ]
  },
  {
   "cell_type": "code",
   "execution_count": 18,
   "id": "8d3afb32-789d-442c-8d5d-9f5aa8dd2eed",
   "metadata": {
    "execution": {
     "iopub.execute_input": "2025-07-30T21:37:52.178536Z",
     "iopub.status.busy": "2025-07-30T21:37:52.177957Z",
     "iopub.status.idle": "2025-07-30T21:37:52.182815Z",
     "shell.execute_reply": "2025-07-30T21:37:52.181735Z"
    },
    "papermill": {
     "duration": 0.028282,
     "end_time": "2025-07-30T21:37:52.184507",
     "exception": false,
     "start_time": "2025-07-30T21:37:52.156225",
     "status": "completed"
    },
    "tags": []
   },
   "outputs": [],
   "source": [
    "#siab_train.shape"
   ]
  },
  {
   "cell_type": "code",
   "execution_count": 19,
   "id": "d582db68-1a4c-47fb-84fc-08518dc1975a",
   "metadata": {
    "execution": {
     "iopub.execute_input": "2025-07-30T21:37:52.227874Z",
     "iopub.status.busy": "2025-07-30T21:37:52.227456Z",
     "iopub.status.idle": "2025-07-30T21:37:52.232012Z",
     "shell.execute_reply": "2025-07-30T21:37:52.231083Z"
    },
    "papermill": {
     "duration": 0.027846,
     "end_time": "2025-07-30T21:37:52.234023",
     "exception": false,
     "start_time": "2025-07-30T21:37:52.206177",
     "status": "completed"
    },
    "tags": []
   },
   "outputs": [],
   "source": [
    "#display(siab_train.groupby(\"year\").size())"
   ]
  },
  {
   "cell_type": "code",
   "execution_count": 20,
   "id": "a561edb4-d032-42cb-8256-22eac1111c64",
   "metadata": {
    "execution": {
     "iopub.execute_input": "2025-07-30T21:37:52.261977Z",
     "iopub.status.busy": "2025-07-30T21:37:52.261598Z",
     "iopub.status.idle": "2025-07-30T21:37:52.480002Z",
     "shell.execute_reply": "2025-07-30T21:37:52.478997Z"
    },
    "papermill": {
     "duration": 0.23171,
     "end_time": "2025-07-30T21:37:52.481873",
     "exception": false,
     "start_time": "2025-07-30T21:37:52.250163",
     "status": "completed"
    },
    "tags": []
   },
   "outputs": [],
   "source": [
    "#siab_train = siab_s[siab_s.year < 2015]\n",
    "siab_calib = siab[siab.year == 2015]\n",
    "siab_test = siab[siab.year == 2016]"
   ]
  },
  {
   "cell_type": "code",
   "execution_count": 21,
   "id": "472de16f-c3db-4916-846b-1f0de9cf1746",
   "metadata": {
    "execution": {
     "iopub.execute_input": "2025-07-30T21:37:52.523718Z",
     "iopub.status.busy": "2025-07-30T21:37:52.523293Z",
     "iopub.status.idle": "2025-07-30T21:37:52.530124Z",
     "shell.execute_reply": "2025-07-30T21:37:52.529138Z"
    },
    "papermill": {
     "duration": 0.029004,
     "end_time": "2025-07-30T21:37:52.531807",
     "exception": false,
     "start_time": "2025-07-30T21:37:52.502803",
     "status": "completed"
    },
    "tags": []
   },
   "outputs": [],
   "source": [
    "X_train = siab_train.iloc[:,4:164]\n",
    "y_train = siab_train.iloc[:, [3]]"
   ]
  },
  {
   "cell_type": "code",
   "execution_count": 22,
   "id": "828c96af-f43a-4ed6-ba47-8ac73a47d56c",
   "metadata": {
    "execution": {
     "iopub.execute_input": "2025-07-30T21:37:52.572523Z",
     "iopub.status.busy": "2025-07-30T21:37:52.572156Z",
     "iopub.status.idle": "2025-07-30T21:37:52.610813Z",
     "shell.execute_reply": "2025-07-30T21:37:52.609760Z"
    },
    "papermill": {
     "duration": 0.06135,
     "end_time": "2025-07-30T21:37:52.612640",
     "exception": false,
     "start_time": "2025-07-30T21:37:52.551290",
     "status": "completed"
    },
    "tags": []
   },
   "outputs": [],
   "source": [
    "X_calib = siab_calib.iloc[:,4:164]\n",
    "y_calib = siab_calib.iloc[:, [3]]"
   ]
  },
  {
   "cell_type": "code",
   "execution_count": 23,
   "id": "c34be9c3-6bd6-476e-acd3-845840e303be",
   "metadata": {
    "execution": {
     "iopub.execute_input": "2025-07-30T21:37:52.660228Z",
     "iopub.status.busy": "2025-07-30T21:37:52.659506Z",
     "iopub.status.idle": "2025-07-30T21:37:52.716951Z",
     "shell.execute_reply": "2025-07-30T21:37:52.716021Z"
    },
    "papermill": {
     "duration": 0.082163,
     "end_time": "2025-07-30T21:37:52.718648",
     "exception": false,
     "start_time": "2025-07-30T21:37:52.636485",
     "status": "completed"
    },
    "tags": []
   },
   "outputs": [],
   "source": [
    "X_test = siab_test.iloc[:,4:164]\n",
    "y_true = siab_test.iloc[:, [3]]"
   ]
  },
  {
   "cell_type": "markdown",
   "id": "9901737e-04df-44f0-9100-f5ad144ed040",
   "metadata": {
    "papermill": {
     "duration": 0.02016,
     "end_time": "2025-07-30T21:37:52.759843",
     "exception": false,
     "start_time": "2025-07-30T21:37:52.739683",
     "status": "completed"
    },
    "tags": []
   },
   "source": [
    "# Splitting Data and Setting Training Data Size OLD VERSION"
   ]
  },
  {
   "cell_type": "code",
   "execution_count": 24,
   "id": "acbc8f7d-8fc8-4e86-8c59-5dcb0f58384b",
   "metadata": {
    "execution": {
     "iopub.execute_input": "2025-07-30T21:37:52.807868Z",
     "iopub.status.busy": "2025-07-30T21:37:52.807356Z",
     "iopub.status.idle": "2025-07-30T21:37:52.813199Z",
     "shell.execute_reply": "2025-07-30T21:37:52.812143Z"
    },
    "papermill": {
     "duration": 0.034144,
     "end_time": "2025-07-30T21:37:52.814985",
     "exception": false,
     "start_time": "2025-07-30T21:37:52.780841",
     "status": "completed"
    },
    "tags": []
   },
   "outputs": [],
   "source": [
    "#def sample_by_year(df, training_size, random_state=42):\n",
    "#    if training_size == \"2014\":\n",
    "#        return df[df[\"year\"] == 2014].reset_index(drop=True)\n",
    "#    \n",
    "#    size_map = {\n",
    "#        \"25k\": 5000,\n",
    "#        \"5k\": 1000,\n",
    "#        \"1k\": 200\n",
    "#    }\n",
    "#\n",
    "#    if training_size not in size_map:\n",
    "#        return df.reset_index(drop=True)  # use all data\n",
    "#\n",
    "#    n_per_year = size_map[training_size]\n",
    "#    grouped = df.groupby(\"year\")\n",
    "#    sampled = grouped.apply(lambda x: x.sample(n=min(n_per_year, len(x)), random_state=random_state))\n",
    "#    return sampled.reset_index(drop=True)"
   ]
  },
  {
   "cell_type": "code",
   "execution_count": 25,
   "id": "6d931f52-beaf-43ff-9e78-9d44a448d54e",
   "metadata": {
    "execution": {
     "iopub.execute_input": "2025-07-30T21:37:52.866927Z",
     "iopub.status.busy": "2025-07-30T21:37:52.866300Z",
     "iopub.status.idle": "2025-07-30T21:37:52.871493Z",
     "shell.execute_reply": "2025-07-30T21:37:52.870345Z"
    },
    "papermill": {
     "duration": 0.032428,
     "end_time": "2025-07-30T21:37:52.873426",
     "exception": false,
     "start_time": "2025-07-30T21:37:52.840998",
     "status": "completed"
    },
    "tags": []
   },
   "outputs": [],
   "source": [
    "#siab_s = sample_by_year(siab, universe[\"training_size\"])"
   ]
  },
  {
   "cell_type": "code",
   "execution_count": 26,
   "id": "5db0a40e-a4e2-4920-be85-b12ae061d70d",
   "metadata": {
    "execution": {
     "iopub.execute_input": "2025-07-30T21:37:52.924130Z",
     "iopub.status.busy": "2025-07-30T21:37:52.923555Z",
     "iopub.status.idle": "2025-07-30T21:37:52.929115Z",
     "shell.execute_reply": "2025-07-30T21:37:52.928093Z"
    },
    "papermill": {
     "duration": 0.032169,
     "end_time": "2025-07-30T21:37:52.930666",
     "exception": false,
     "start_time": "2025-07-30T21:37:52.898497",
     "status": "completed"
    },
    "tags": []
   },
   "outputs": [],
   "source": [
    "#display(siab_s.groupby(\"year\").size())"
   ]
  },
  {
   "cell_type": "code",
   "execution_count": 27,
   "id": "e6c733c5",
   "metadata": {
    "execution": {
     "iopub.execute_input": "2025-07-30T21:37:52.973792Z",
     "iopub.status.busy": "2025-07-30T21:37:52.973118Z",
     "iopub.status.idle": "2025-07-30T21:37:53.088102Z",
     "shell.execute_reply": "2025-07-30T21:37:53.085897Z"
    },
    "papermill": {
     "duration": 0.13737,
     "end_time": "2025-07-30T21:37:53.089977",
     "exception": false,
     "start_time": "2025-07-30T21:37:52.952607",
     "status": "completed"
    },
    "tags": []
   },
   "outputs": [],
   "source": [
    "# Auxiliary data needed downstream in the pipeline\n",
    "\n",
    "org_train = X_train.copy()\n",
    "org_test = X_test.copy()\n",
    "org_calib = X_calib.copy()"
   ]
  },
  {
   "cell_type": "code",
   "execution_count": 28,
   "id": "1466abac-c6da-4492-a62f-4240ae3783af",
   "metadata": {
    "execution": {
     "iopub.execute_input": "2025-07-30T21:37:53.134383Z",
     "iopub.status.busy": "2025-07-30T21:37:53.133879Z",
     "iopub.status.idle": "2025-07-30T21:37:53.139949Z",
     "shell.execute_reply": "2025-07-30T21:37:53.139097Z"
    },
    "papermill": {
     "duration": 0.029188,
     "end_time": "2025-07-30T21:37:53.141552",
     "exception": false,
     "start_time": "2025-07-30T21:37:53.112364",
     "status": "completed"
    },
    "tags": []
   },
   "outputs": [],
   "source": [
    "# put in other script?\n",
    "# Group sizes\n",
    "\n",
    "#def calculate_percentages(df, df_name):\n",
    "#    total_entries = len(df)\n",
    "#\n",
    "#    female_pct = (df['frau1'] == 1).mean() * 100\n",
    "#    non_german_pct = ((df['maxdeutsch1'] == 0) & (df['maxdeutsch.Missing.'] == 0)).mean() * 100\n",
    "#    non_german_male_pct = ((df['frau1'] == 0) & (df['maxdeutsch1'] == 0) & (df['maxdeutsch.Missing.'] == 0)).mean() * 100\n",
    "#    non_german_female_pct = ((df['frau1'] == 1) & (df['maxdeutsch1'] == 0) & (df['maxdeutsch.Missing.'] == 0)).mean() * 100\n",
    "#\n",
    "#    print(f\"--- {df_name} ---\")\n",
    "#    print(f\"Female: {female_pct:.2f}%\")\n",
    "#    print(f\"Non-German: {non_german_pct:.2f}%\")\n",
    "#    print(f\"Non-German Male: {non_german_male_pct:.2f}%\")\n",
    "#    print(f\"Non-German Female: {non_german_female_pct:.2f}%\\n\")\n",
    "#\n",
    "## Calculate for each DataFrame\n",
    "#calculate_percentages(siab_calib, \"siab_calib\")\n",
    "#calculate_percentages(siab_test, \"siab_test\")\n",
    "#calculate_percentages(siab_train, \"siab_train\")"
   ]
  },
  {
   "cell_type": "markdown",
   "id": "0a4a1b33",
   "metadata": {
    "papermill": {
     "duration": 0.024786,
     "end_time": "2025-07-30T21:37:53.187621",
     "exception": false,
     "start_time": "2025-07-30T21:37:53.162835",
     "status": "completed"
    },
    "tags": []
   },
   "source": [
    "# Preprocessing Data"
   ]
  },
  {
   "cell_type": "code",
   "execution_count": 29,
   "id": "ca879031",
   "metadata": {
    "execution": {
     "iopub.execute_input": "2025-07-30T21:37:53.229883Z",
     "iopub.status.busy": "2025-07-30T21:37:53.229298Z",
     "iopub.status.idle": "2025-07-30T21:37:53.234648Z",
     "shell.execute_reply": "2025-07-30T21:37:53.233902Z"
    },
    "papermill": {
     "duration": 0.024117,
     "end_time": "2025-07-30T21:37:53.235946",
     "exception": false,
     "start_time": "2025-07-30T21:37:53.211829",
     "status": "completed"
    },
    "tags": []
   },
   "outputs": [],
   "source": [
    "# EXCLUDE PROTECTED FEATURES\n",
    "# ----------------------\n",
    "# \"exclude_features\": \"none\", # \"nationality\", \"sex\", \"nationality-sex\"\n",
    "\n",
    "excluded_features = universe[\"exclude_features\"].split(\"-\") # split, e.g.: \"nationality-sex\" -> [\"nationality\", \"sex\"]\n",
    "excluded_features_dictionary = {\n",
    "    \"nationality\": [\"maxdeutsch1\", \"maxdeutsch.Missing.\"],\n",
    "    \"sex\": [\"frau1\"],\n",
    "    \"age\": [\"age\"],\n",
    "}\n"
   ]
  },
  {
   "cell_type": "code",
   "execution_count": 30,
   "id": "b745ac60",
   "metadata": {
    "execution": {
     "iopub.execute_input": "2025-07-30T21:37:53.262817Z",
     "iopub.status.busy": "2025-07-30T21:37:53.262143Z",
     "iopub.status.idle": "2025-07-30T21:37:53.267416Z",
     "shell.execute_reply": "2025-07-30T21:37:53.266403Z"
    },
    "papermill": {
     "duration": 0.02075,
     "end_time": "2025-07-30T21:37:53.269125",
     "exception": false,
     "start_time": "2025-07-30T21:37:53.248375",
     "status": "completed"
    },
    "tags": []
   },
   "outputs": [],
   "source": [
    "# Code nice names to column names\n",
    "\n",
    "excluded_features_columns = [\n",
    "    excluded_features_dictionary[f] for f in excluded_features if len(f) > 0 and f != \"none\"\n",
    "]"
   ]
  },
  {
   "cell_type": "code",
   "execution_count": 31,
   "id": "f84f73a2",
   "metadata": {
    "execution": {
     "iopub.execute_input": "2025-07-30T21:37:53.301011Z",
     "iopub.status.busy": "2025-07-30T21:37:53.300591Z",
     "iopub.status.idle": "2025-07-30T21:37:53.306440Z",
     "shell.execute_reply": "2025-07-30T21:37:53.305703Z"
    },
    "papermill": {
     "duration": 0.024021,
     "end_time": "2025-07-30T21:37:53.307829",
     "exception": false,
     "start_time": "2025-07-30T21:37:53.283808",
     "status": "completed"
    },
    "tags": []
   },
   "outputs": [],
   "source": [
    "from utils import flatten_once\n",
    "\n",
    "excluded_features_columns = flatten_once(excluded_features_columns)"
   ]
  },
  {
   "cell_type": "code",
   "execution_count": 32,
   "id": "884dea22",
   "metadata": {
    "execution": {
     "iopub.execute_input": "2025-07-30T21:37:53.337891Z",
     "iopub.status.busy": "2025-07-30T21:37:53.337471Z",
     "iopub.status.idle": "2025-07-30T21:37:53.354341Z",
     "shell.execute_reply": "2025-07-30T21:37:53.353532Z"
    },
    "papermill": {
     "duration": 0.041787,
     "end_time": "2025-07-30T21:37:53.362145",
     "exception": false,
     "start_time": "2025-07-30T21:37:53.320358",
     "status": "completed"
    },
    "tags": []
   },
   "outputs": [
    {
     "name": "stdout",
     "output_type": "stream",
     "text": [
      "Dropping features: ['age']\n"
     ]
    }
   ],
   "source": [
    "if len(excluded_features_columns) > 0:\n",
    "    print(f\"Dropping features: {excluded_features_columns}\")\n",
    "    X_train.drop(excluded_features_columns, axis=1, inplace=True)"
   ]
  },
  {
   "cell_type": "code",
   "execution_count": 33,
   "id": "95ab8b16",
   "metadata": {
    "execution": {
     "iopub.execute_input": "2025-07-30T21:37:53.413285Z",
     "iopub.status.busy": "2025-07-30T21:37:53.412808Z",
     "iopub.status.idle": "2025-07-30T21:37:53.479079Z",
     "shell.execute_reply": "2025-07-30T21:37:53.478005Z"
    },
    "papermill": {
     "duration": 0.094981,
     "end_time": "2025-07-30T21:37:53.480783",
     "exception": false,
     "start_time": "2025-07-30T21:37:53.385802",
     "status": "completed"
    },
    "tags": []
   },
   "outputs": [
    {
     "name": "stdout",
     "output_type": "stream",
     "text": [
      "Dropping features: ['age']\n"
     ]
    }
   ],
   "source": [
    "if len(excluded_features_columns) > 0:\n",
    "    print(f\"Dropping features: {excluded_features_columns}\")\n",
    "    X_test.drop(excluded_features_columns, axis=1, inplace=True)"
   ]
  },
  {
   "cell_type": "code",
   "execution_count": 34,
   "id": "1853aaf5-fb9f-46cb-a2b5-8ea4ae2237e4",
   "metadata": {
    "execution": {
     "iopub.execute_input": "2025-07-30T21:37:53.532906Z",
     "iopub.status.busy": "2025-07-30T21:37:53.531910Z",
     "iopub.status.idle": "2025-07-30T21:37:53.590707Z",
     "shell.execute_reply": "2025-07-30T21:37:53.589613Z"
    },
    "papermill": {
     "duration": 0.086438,
     "end_time": "2025-07-30T21:37:53.592589",
     "exception": false,
     "start_time": "2025-07-30T21:37:53.506151",
     "status": "completed"
    },
    "tags": []
   },
   "outputs": [
    {
     "name": "stdout",
     "output_type": "stream",
     "text": [
      "Dropping features: ['age']\n"
     ]
    }
   ],
   "source": [
    "if len(excluded_features_columns) > 0:\n",
    "    print(f\"Dropping features: {excluded_features_columns}\")\n",
    "    X_calib.drop(excluded_features_columns, axis=1, inplace=True)"
   ]
  },
  {
   "cell_type": "code",
   "execution_count": 35,
   "id": "6727d079-03e5-481e-9d38-292a90b7a0a8",
   "metadata": {
    "execution": {
     "iopub.execute_input": "2025-07-30T21:37:53.645500Z",
     "iopub.status.busy": "2025-07-30T21:37:53.644585Z",
     "iopub.status.idle": "2025-07-30T21:37:53.649928Z",
     "shell.execute_reply": "2025-07-30T21:37:53.648906Z"
    },
    "papermill": {
     "duration": 0.034071,
     "end_time": "2025-07-30T21:37:53.651883",
     "exception": false,
     "start_time": "2025-07-30T21:37:53.617812",
     "status": "completed"
    },
    "tags": []
   },
   "outputs": [],
   "source": [
    "# SPLIT & STRATIFY DATA\n",
    "# ----------------------"
   ]
  },
  {
   "cell_type": "code",
   "execution_count": 36,
   "id": "76c4dc6d",
   "metadata": {
    "execution": {
     "iopub.execute_input": "2025-07-30T21:37:53.706265Z",
     "iopub.status.busy": "2025-07-30T21:37:53.705819Z",
     "iopub.status.idle": "2025-07-30T21:37:53.711879Z",
     "shell.execute_reply": "2025-07-30T21:37:53.710762Z"
    },
    "papermill": {
     "duration": 0.036058,
     "end_time": "2025-07-30T21:37:53.713918",
     "exception": false,
     "start_time": "2025-07-30T21:37:53.677860",
     "status": "completed"
    },
    "tags": []
   },
   "outputs": [],
   "source": [
    "# EXCLUDE CERTAIN SUBGROUPS\n",
    "# ----------------------\n",
    "\n",
    "mode = universe.get(\"exclude_subgroups\", \"keep-all\") \n",
    "# Fetches the exclude_subgroups setting from the universe dict.\n",
    "# Defaults to \"keep-all\" if the key is missing."
   ]
  },
  {
   "cell_type": "code",
   "execution_count": 37,
   "id": "21994072",
   "metadata": {
    "execution": {
     "iopub.execute_input": "2025-07-30T21:37:53.780401Z",
     "iopub.status.busy": "2025-07-30T21:37:53.766239Z",
     "iopub.status.idle": "2025-07-30T21:37:53.787854Z",
     "shell.execute_reply": "2025-07-30T21:37:53.786900Z"
    },
    "papermill": {
     "duration": 0.050257,
     "end_time": "2025-07-30T21:37:53.789902",
     "exception": false,
     "start_time": "2025-07-30T21:37:53.739645",
     "status": "completed"
    },
    "tags": []
   },
   "outputs": [],
   "source": [
    "if mode == \"keep-all\":\n",
    "    keep_mask = pd.Series(True, index=org_train.index)\n",
    "\n",
    "# org_train contains the original feature columns from features_org (in Simson)\n",
    "# features_org contains unprocessed features, for me X_train at beginning ???\n",
    "# For keep-all, creates a boolean Series (keep_mask) of all True, so no rows are removed.\n",
    "\n",
    "elif mode == \"drop-non-german\":\n",
    "    keep_mask = org_train[\"maxdeutsch1\"] == 1 # ??? what about missing values?\n",
    "\n",
    "else:\n",
    "    raise ValueError(f\"Unsupported mode for exclude_subgroups: {mode}\")\n"
   ]
  },
  {
   "cell_type": "code",
   "execution_count": 38,
   "id": "71651440",
   "metadata": {
    "execution": {
     "iopub.execute_input": "2025-07-30T21:37:53.842649Z",
     "iopub.status.busy": "2025-07-30T21:37:53.841836Z",
     "iopub.status.idle": "2025-07-30T21:37:53.848748Z",
     "shell.execute_reply": "2025-07-30T21:37:53.847706Z"
    },
    "papermill": {
     "duration": 0.035211,
     "end_time": "2025-07-30T21:37:53.850569",
     "exception": false,
     "start_time": "2025-07-30T21:37:53.815358",
     "status": "completed"
    },
    "tags": []
   },
   "outputs": [],
   "source": [
    "n_drop = (~keep_mask).sum() # Calculates how many rows are set to be dropped\n",
    "if n_drop > 0:\n",
    "    pct = n_drop / len(keep_mask) * 100\n",
    "    print(f\"Dropping {n_drop} rows ({pct:.2f}%) where mode='{mode}'\")"
   ]
  },
  {
   "cell_type": "code",
   "execution_count": 39,
   "id": "5fb8eee5",
   "metadata": {
    "execution": {
     "iopub.execute_input": "2025-07-30T21:37:53.902632Z",
     "iopub.status.busy": "2025-07-30T21:37:53.901908Z",
     "iopub.status.idle": "2025-07-30T21:37:53.909099Z",
     "shell.execute_reply": "2025-07-30T21:37:53.908079Z"
    },
    "papermill": {
     "duration": 0.034716,
     "end_time": "2025-07-30T21:37:53.910997",
     "exception": false,
     "start_time": "2025-07-30T21:37:53.876281",
     "status": "completed"
    },
    "tags": []
   },
   "outputs": [],
   "source": [
    "X_train = X_train[keep_mask]"
   ]
  },
  {
   "cell_type": "code",
   "execution_count": 40,
   "id": "b202bb3a",
   "metadata": {
    "execution": {
     "iopub.execute_input": "2025-07-30T21:37:53.962917Z",
     "iopub.status.busy": "2025-07-30T21:37:53.962361Z",
     "iopub.status.idle": "2025-07-30T21:37:53.969132Z",
     "shell.execute_reply": "2025-07-30T21:37:53.968183Z"
    },
    "papermill": {
     "duration": 0.034269,
     "end_time": "2025-07-30T21:37:53.970927",
     "exception": false,
     "start_time": "2025-07-30T21:37:53.936658",
     "status": "completed"
    },
    "tags": []
   },
   "outputs": [],
   "source": [
    "y_train = y_train[keep_mask]"
   ]
  },
  {
   "cell_type": "markdown",
   "id": "493e2ac3",
   "metadata": {
    "papermill": {
     "duration": 0.025527,
     "end_time": "2025-07-30T21:37:54.021025",
     "exception": false,
     "start_time": "2025-07-30T21:37:53.995498",
     "status": "completed"
    },
    "tags": []
   },
   "source": [
    "# Model Training"
   ]
  },
  {
   "cell_type": "code",
   "execution_count": 41,
   "id": "679e1268",
   "metadata": {
    "execution": {
     "iopub.execute_input": "2025-07-30T21:37:54.071979Z",
     "iopub.status.busy": "2025-07-30T21:37:54.071495Z",
     "iopub.status.idle": "2025-07-30T21:37:54.179569Z",
     "shell.execute_reply": "2025-07-30T21:37:54.178401Z"
    },
    "papermill": {
     "duration": 0.135793,
     "end_time": "2025-07-30T21:37:54.181509",
     "exception": false,
     "start_time": "2025-07-30T21:37:54.045716",
     "status": "completed"
    },
    "tags": []
   },
   "outputs": [],
   "source": [
    "from sklearn.linear_model import LogisticRegression\n",
    "from sklearn.ensemble import GradientBoostingClassifier, RandomForestClassifier\n",
    "\n",
    "if (universe[\"model\"] == \"logreg\"):\n",
    "    model = LogisticRegression() #penalty=\"none\") #, solver=\"newton-cg\", max_iter=1) # include random_state=19 ?\n",
    "elif (universe[\"model\"] == \"penalized_logreg\"):\n",
    "    model = LogisticRegression(penalty=\"l2\", C=1.0) #, solver=\"newton-cg\", max_iter=1)\n",
    "elif (universe[\"model\"] == \"rf\"):\n",
    "    model = RandomForestClassifier(n_estimators=100, n_jobs=-1)\n",
    "elif (universe[\"model\"] == \"gbm\"):\n",
    "    model = GradientBoostingClassifier()\n",
    "elif (universe[\"model\"] == \"elasticnet\"):\n",
    "    model = LogisticRegression(penalty = 'elasticnet', solver = 'saga', l1_ratio = 0.5, max_iter=5000) # which solver to use?\n",
    "else:\n",
    "    raise \"Unsupported universe.model\""
   ]
  },
  {
   "cell_type": "code",
   "execution_count": 42,
   "id": "0cc8f744",
   "metadata": {
    "execution": {
     "iopub.execute_input": "2025-07-30T21:37:54.233872Z",
     "iopub.status.busy": "2025-07-30T21:37:54.232938Z",
     "iopub.status.idle": "2025-07-30T21:37:54.240081Z",
     "shell.execute_reply": "2025-07-30T21:37:54.238874Z"
    },
    "papermill": {
     "duration": 0.035971,
     "end_time": "2025-07-30T21:37:54.241761",
     "exception": false,
     "start_time": "2025-07-30T21:37:54.205790",
     "status": "completed"
    },
    "tags": []
   },
   "outputs": [],
   "source": [
    "import numpy as np\n",
    "from sklearn.pipeline import Pipeline\n",
    "from sklearn.preprocessing import StandardScaler\n",
    "\n",
    "model = Pipeline([\n",
    "    #(\"continuous_processor\", continuous_processor),\n",
    "    #(\"categorical_preprocessor\", categorical_preprocessor),\n",
    "    (\"scale\", StandardScaler() if universe[\"scale\"] == \"scale\" else None), \n",
    "    (\"model\", model),\n",
    "])"
   ]
  },
  {
   "cell_type": "code",
   "execution_count": 43,
   "id": "9442c04d",
   "metadata": {
    "execution": {
     "iopub.execute_input": "2025-07-30T21:37:54.309530Z",
     "iopub.status.busy": "2025-07-30T21:37:54.308530Z",
     "iopub.status.idle": "2025-07-30T21:37:58.179400Z",
     "shell.execute_reply": "2025-07-30T21:37:58.178703Z"
    },
    "papermill": {
     "duration": 3.901314,
     "end_time": "2025-07-30T21:37:58.180700",
     "exception": false,
     "start_time": "2025-07-30T21:37:54.279386",
     "status": "completed"
    },
    "tags": []
   },
   "outputs": [
    {
     "data": {
      "text/html": [
       "<style>#sk-container-id-1 {color: black;background-color: white;}#sk-container-id-1 pre{padding: 0;}#sk-container-id-1 div.sk-toggleable {background-color: white;}#sk-container-id-1 label.sk-toggleable__label {cursor: pointer;display: block;width: 100%;margin-bottom: 0;padding: 0.3em;box-sizing: border-box;text-align: center;}#sk-container-id-1 label.sk-toggleable__label-arrow:before {content: \"▸\";float: left;margin-right: 0.25em;color: #696969;}#sk-container-id-1 label.sk-toggleable__label-arrow:hover:before {color: black;}#sk-container-id-1 div.sk-estimator:hover label.sk-toggleable__label-arrow:before {color: black;}#sk-container-id-1 div.sk-toggleable__content {max-height: 0;max-width: 0;overflow: hidden;text-align: left;background-color: #f0f8ff;}#sk-container-id-1 div.sk-toggleable__content pre {margin: 0.2em;color: black;border-radius: 0.25em;background-color: #f0f8ff;}#sk-container-id-1 input.sk-toggleable__control:checked~div.sk-toggleable__content {max-height: 200px;max-width: 100%;overflow: auto;}#sk-container-id-1 input.sk-toggleable__control:checked~label.sk-toggleable__label-arrow:before {content: \"▾\";}#sk-container-id-1 div.sk-estimator input.sk-toggleable__control:checked~label.sk-toggleable__label {background-color: #d4ebff;}#sk-container-id-1 div.sk-label input.sk-toggleable__control:checked~label.sk-toggleable__label {background-color: #d4ebff;}#sk-container-id-1 input.sk-hidden--visually {border: 0;clip: rect(1px 1px 1px 1px);clip: rect(1px, 1px, 1px, 1px);height: 1px;margin: -1px;overflow: hidden;padding: 0;position: absolute;width: 1px;}#sk-container-id-1 div.sk-estimator {font-family: monospace;background-color: #f0f8ff;border: 1px dotted black;border-radius: 0.25em;box-sizing: border-box;margin-bottom: 0.5em;}#sk-container-id-1 div.sk-estimator:hover {background-color: #d4ebff;}#sk-container-id-1 div.sk-parallel-item::after {content: \"\";width: 100%;border-bottom: 1px solid gray;flex-grow: 1;}#sk-container-id-1 div.sk-label:hover label.sk-toggleable__label {background-color: #d4ebff;}#sk-container-id-1 div.sk-serial::before {content: \"\";position: absolute;border-left: 1px solid gray;box-sizing: border-box;top: 0;bottom: 0;left: 50%;z-index: 0;}#sk-container-id-1 div.sk-serial {display: flex;flex-direction: column;align-items: center;background-color: white;padding-right: 0.2em;padding-left: 0.2em;position: relative;}#sk-container-id-1 div.sk-item {position: relative;z-index: 1;}#sk-container-id-1 div.sk-parallel {display: flex;align-items: stretch;justify-content: center;background-color: white;position: relative;}#sk-container-id-1 div.sk-item::before, #sk-container-id-1 div.sk-parallel-item::before {content: \"\";position: absolute;border-left: 1px solid gray;box-sizing: border-box;top: 0;bottom: 0;left: 50%;z-index: -1;}#sk-container-id-1 div.sk-parallel-item {display: flex;flex-direction: column;z-index: 1;position: relative;background-color: white;}#sk-container-id-1 div.sk-parallel-item:first-child::after {align-self: flex-end;width: 50%;}#sk-container-id-1 div.sk-parallel-item:last-child::after {align-self: flex-start;width: 50%;}#sk-container-id-1 div.sk-parallel-item:only-child::after {width: 0;}#sk-container-id-1 div.sk-dashed-wrapped {border: 1px dashed gray;margin: 0 0.4em 0.5em 0.4em;box-sizing: border-box;padding-bottom: 0.4em;background-color: white;}#sk-container-id-1 div.sk-label label {font-family: monospace;font-weight: bold;display: inline-block;line-height: 1.2em;}#sk-container-id-1 div.sk-label-container {text-align: center;}#sk-container-id-1 div.sk-container {/* jupyter's `normalize.less` sets `[hidden] { display: none; }` but bootstrap.min.css set `[hidden] { display: none !important; }` so we also need the `!important` here to be able to override the default hidden behavior on the sphinx rendered scikit-learn.org. See: https://github.com/scikit-learn/scikit-learn/issues/21755 */display: inline-block !important;position: relative;}#sk-container-id-1 div.sk-text-repr-fallback {display: none;}</style><div id=\"sk-container-id-1\" class=\"sk-top-container\"><div class=\"sk-text-repr-fallback\"><pre>Pipeline(steps=[(&#x27;scale&#x27;, StandardScaler()),\n",
       "                (&#x27;model&#x27;,\n",
       "                 LogisticRegression(l1_ratio=0.5, max_iter=5000,\n",
       "                                    penalty=&#x27;elasticnet&#x27;, solver=&#x27;saga&#x27;))])</pre><b>In a Jupyter environment, please rerun this cell to show the HTML representation or trust the notebook. <br />On GitHub, the HTML representation is unable to render, please try loading this page with nbviewer.org.</b></div><div class=\"sk-container\" hidden><div class=\"sk-item sk-dashed-wrapped\"><div class=\"sk-label-container\"><div class=\"sk-label sk-toggleable\"><input class=\"sk-toggleable__control sk-hidden--visually\" id=\"sk-estimator-id-1\" type=\"checkbox\" ><label for=\"sk-estimator-id-1\" class=\"sk-toggleable__label sk-toggleable__label-arrow\">Pipeline</label><div class=\"sk-toggleable__content\"><pre>Pipeline(steps=[(&#x27;scale&#x27;, StandardScaler()),\n",
       "                (&#x27;model&#x27;,\n",
       "                 LogisticRegression(l1_ratio=0.5, max_iter=5000,\n",
       "                                    penalty=&#x27;elasticnet&#x27;, solver=&#x27;saga&#x27;))])</pre></div></div></div><div class=\"sk-serial\"><div class=\"sk-item\"><div class=\"sk-estimator sk-toggleable\"><input class=\"sk-toggleable__control sk-hidden--visually\" id=\"sk-estimator-id-2\" type=\"checkbox\" ><label for=\"sk-estimator-id-2\" class=\"sk-toggleable__label sk-toggleable__label-arrow\">StandardScaler</label><div class=\"sk-toggleable__content\"><pre>StandardScaler()</pre></div></div></div><div class=\"sk-item\"><div class=\"sk-estimator sk-toggleable\"><input class=\"sk-toggleable__control sk-hidden--visually\" id=\"sk-estimator-id-3\" type=\"checkbox\" ><label for=\"sk-estimator-id-3\" class=\"sk-toggleable__label sk-toggleable__label-arrow\">LogisticRegression</label><div class=\"sk-toggleable__content\"><pre>LogisticRegression(l1_ratio=0.5, max_iter=5000, penalty=&#x27;elasticnet&#x27;,\n",
       "                   solver=&#x27;saga&#x27;)</pre></div></div></div></div></div></div></div>"
      ],
      "text/plain": [
       "Pipeline(steps=[('scale', StandardScaler()),\n",
       "                ('model',\n",
       "                 LogisticRegression(l1_ratio=0.5, max_iter=5000,\n",
       "                                    penalty='elasticnet', solver='saga'))])"
      ]
     },
     "execution_count": 43,
     "metadata": {},
     "output_type": "execute_result"
    }
   ],
   "source": [
    "model.fit(X_train, y_train.values.ravel())"
   ]
  },
  {
   "cell_type": "code",
   "execution_count": 44,
   "id": "af59f8c0",
   "metadata": {
    "execution": {
     "iopub.execute_input": "2025-07-30T21:37:58.207390Z",
     "iopub.status.busy": "2025-07-30T21:37:58.207082Z",
     "iopub.status.idle": "2025-07-30T21:37:58.211137Z",
     "shell.execute_reply": "2025-07-30T21:37:58.210398Z"
    },
    "papermill": {
     "duration": 0.017593,
     "end_time": "2025-07-30T21:37:58.212459",
     "exception": false,
     "start_time": "2025-07-30T21:37:58.194866",
     "status": "completed"
    },
    "tags": []
   },
   "outputs": [],
   "source": [
    "from fairness_multiverse.universe import predict_w_threshold"
   ]
  },
  {
   "cell_type": "code",
   "execution_count": 45,
   "id": "a7cf2e16",
   "metadata": {
    "execution": {
     "iopub.execute_input": "2025-07-30T21:37:58.237463Z",
     "iopub.status.busy": "2025-07-30T21:37:58.236764Z",
     "iopub.status.idle": "2025-07-30T21:37:58.383280Z",
     "shell.execute_reply": "2025-07-30T21:37:58.382413Z"
    },
    "papermill": {
     "duration": 0.159924,
     "end_time": "2025-07-30T21:37:58.384603",
     "exception": false,
     "start_time": "2025-07-30T21:37:58.224679",
     "status": "completed"
    },
    "tags": []
   },
   "outputs": [
    {
     "data": {
      "text/plain": [
       "0.8236317021513767"
      ]
     },
     "execution_count": 45,
     "metadata": {},
     "output_type": "execute_result"
    }
   ],
   "source": [
    "probs_test = model.predict_proba(X_test)\n",
    "\n",
    "'''\n",
    "Below code returns a boolean array (or binary 0/1 array depending on how it’s used) where each element \n",
    "is True if the probability of class 1 is greater than or equal to the threshold, and False otherwise.\n",
    "'''\n",
    "y_pred_default = predict_w_threshold(probs_test, 0.5)\n",
    "\n",
    "from sklearn.metrics import accuracy_score\n",
    "\n",
    "# Naive prediction\n",
    "accuracy_score(y_true = y_true, y_pred = y_pred_default)"
   ]
  },
  {
   "cell_type": "code",
   "execution_count": 46,
   "id": "081964c3",
   "metadata": {
    "execution": {
     "iopub.execute_input": "2025-07-30T21:37:58.410025Z",
     "iopub.status.busy": "2025-07-30T21:37:58.409709Z",
     "iopub.status.idle": "2025-07-30T21:37:58.549070Z",
     "shell.execute_reply": "2025-07-30T21:37:58.548185Z"
    },
    "papermill": {
     "duration": 0.153362,
     "end_time": "2025-07-30T21:37:58.550425",
     "exception": false,
     "start_time": "2025-07-30T21:37:58.397063",
     "status": "completed"
    },
    "tags": []
   },
   "outputs": [
    {
     "data": {
      "text/plain": [
       "array([0, 0, 0, ..., 0, 0, 0])"
      ]
     },
     "execution_count": 46,
     "metadata": {},
     "output_type": "execute_result"
    }
   ],
   "source": [
    "model.predict(X_test)"
   ]
  },
  {
   "cell_type": "markdown",
   "id": "56c9705b",
   "metadata": {
    "papermill": {
     "duration": 0.011815,
     "end_time": "2025-07-30T21:37:58.574960",
     "exception": false,
     "start_time": "2025-07-30T21:37:58.563145",
     "status": "completed"
    },
    "tags": []
   },
   "source": [
    "# Conformal Prediction"
   ]
  },
  {
   "cell_type": "code",
   "execution_count": 47,
   "id": "160ec6ff",
   "metadata": {
    "execution": {
     "iopub.execute_input": "2025-07-30T21:37:58.599578Z",
     "iopub.status.busy": "2025-07-30T21:37:58.599090Z",
     "iopub.status.idle": "2025-07-30T21:37:58.603487Z",
     "shell.execute_reply": "2025-07-30T21:37:58.602709Z"
    },
    "papermill": {
     "duration": 0.018196,
     "end_time": "2025-07-30T21:37:58.604807",
     "exception": false,
     "start_time": "2025-07-30T21:37:58.586611",
     "status": "completed"
    },
    "tags": []
   },
   "outputs": [],
   "source": [
    "# Miscoverage level for conformal prediction (10% allowed error rate => 90% target coverage)\n",
    "alpha = 0.1"
   ]
  },
  {
   "cell_type": "code",
   "execution_count": 48,
   "id": "eadf4555-3dd3-440e-8e35-f82a4ad9f855",
   "metadata": {
    "execution": {
     "iopub.execute_input": "2025-07-30T21:37:58.630922Z",
     "iopub.status.busy": "2025-07-30T21:37:58.630431Z",
     "iopub.status.idle": "2025-07-30T21:37:58.770240Z",
     "shell.execute_reply": "2025-07-30T21:37:58.769294Z"
    },
    "papermill": {
     "duration": 0.154354,
     "end_time": "2025-07-30T21:37:58.771792",
     "exception": false,
     "start_time": "2025-07-30T21:37:58.617438",
     "status": "completed"
    },
    "tags": []
   },
   "outputs": [],
   "source": [
    "probs_calib = model.predict_proba(X_calib)"
   ]
  },
  {
   "cell_type": "code",
   "execution_count": 49,
   "id": "2ed93547-6d5d-4983-9b36-1ecb300da49a",
   "metadata": {
    "execution": {
     "iopub.execute_input": "2025-07-30T21:37:58.820919Z",
     "iopub.status.busy": "2025-07-30T21:37:58.820497Z",
     "iopub.status.idle": "2025-07-30T21:37:58.825769Z",
     "shell.execute_reply": "2025-07-30T21:37:58.824910Z"
    },
    "papermill": {
     "duration": 0.032873,
     "end_time": "2025-07-30T21:37:58.827104",
     "exception": false,
     "start_time": "2025-07-30T21:37:58.794231",
     "status": "completed"
    },
    "tags": []
   },
   "outputs": [],
   "source": [
    "y_calib = y_calib.values.ravel().astype(int)"
   ]
  },
  {
   "cell_type": "code",
   "execution_count": 50,
   "id": "65d1320d-f588-4b38-9072-62af1ae97f7d",
   "metadata": {
    "execution": {
     "iopub.execute_input": "2025-07-30T21:37:58.853794Z",
     "iopub.status.busy": "2025-07-30T21:37:58.853310Z",
     "iopub.status.idle": "2025-07-30T21:37:58.858930Z",
     "shell.execute_reply": "2025-07-30T21:37:58.858223Z"
    },
    "papermill": {
     "duration": 0.022047,
     "end_time": "2025-07-30T21:37:58.861740",
     "exception": false,
     "start_time": "2025-07-30T21:37:58.839693",
     "status": "completed"
    },
    "tags": []
   },
   "outputs": [],
   "source": [
    "from fairness_multiverse.conformal import compute_nc_scores\n",
    "\n",
    "# Compute nonconformity scores on calibration set (1 - probability of true class)\n",
    "nc_scores = compute_nc_scores(probs_calib, y_calib)"
   ]
  },
  {
   "cell_type": "code",
   "execution_count": 51,
   "id": "df3b8ca3-53b7-43d5-9667-7c85da7aeda2",
   "metadata": {
    "execution": {
     "iopub.execute_input": "2025-07-30T21:37:58.913633Z",
     "iopub.status.busy": "2025-07-30T21:37:58.913171Z",
     "iopub.status.idle": "2025-07-30T21:37:58.919813Z",
     "shell.execute_reply": "2025-07-30T21:37:58.918816Z"
    },
    "papermill": {
     "duration": 0.034064,
     "end_time": "2025-07-30T21:37:58.921559",
     "exception": false,
     "start_time": "2025-07-30T21:37:58.887495",
     "status": "completed"
    },
    "tags": []
   },
   "outputs": [],
   "source": [
    "from fairness_multiverse.conformal import find_threshold\n",
    "\n",
    "# Find conformal threshold q_hat for the given alpha (split conformal method)\n",
    "q_hat = find_threshold(nc_scores, alpha)"
   ]
  },
  {
   "cell_type": "code",
   "execution_count": 52,
   "id": "4d29e6c1-0ef6-4aa4-b8fe-4fe79b0d033a",
   "metadata": {
    "execution": {
     "iopub.execute_input": "2025-07-30T21:37:58.972023Z",
     "iopub.status.busy": "2025-07-30T21:37:58.971574Z",
     "iopub.status.idle": "2025-07-30T21:37:58.978542Z",
     "shell.execute_reply": "2025-07-30T21:37:58.977589Z"
    },
    "papermill": {
     "duration": 0.033746,
     "end_time": "2025-07-30T21:37:58.980006",
     "exception": false,
     "start_time": "2025-07-30T21:37:58.946260",
     "status": "completed"
    },
    "tags": []
   },
   "outputs": [
    {
     "data": {
      "text/plain": [
       "0.7960753734867871"
      ]
     },
     "execution_count": 52,
     "metadata": {},
     "output_type": "execute_result"
    }
   ],
   "source": [
    "q_hat"
   ]
  },
  {
   "cell_type": "code",
   "execution_count": 53,
   "id": "92460794-cdac-4be2-ba28-f28c0515a6fb",
   "metadata": {
    "execution": {
     "iopub.execute_input": "2025-07-30T21:37:59.030369Z",
     "iopub.status.busy": "2025-07-30T21:37:59.029901Z",
     "iopub.status.idle": "2025-07-30T21:37:59.908076Z",
     "shell.execute_reply": "2025-07-30T21:37:59.907167Z"
    },
    "papermill": {
     "duration": 0.90599,
     "end_time": "2025-07-30T21:37:59.909991",
     "exception": false,
     "start_time": "2025-07-30T21:37:59.004001",
     "status": "completed"
    },
    "tags": []
   },
   "outputs": [],
   "source": [
    "from fairness_multiverse.conformal import predict_conformal_sets\n",
    "\n",
    "# Generate prediction sets for each test example\n",
    "pred_sets = predict_conformal_sets(model, X_test, q_hat)"
   ]
  },
  {
   "cell_type": "code",
   "execution_count": 54,
   "id": "d90c9a65-e6db-4f5d-80cd-e68fb7e46829",
   "metadata": {
    "execution": {
     "iopub.execute_input": "2025-07-30T21:37:59.957406Z",
     "iopub.status.busy": "2025-07-30T21:37:59.956798Z",
     "iopub.status.idle": "2025-07-30T21:37:59.962211Z",
     "shell.execute_reply": "2025-07-30T21:37:59.961218Z"
    },
    "papermill": {
     "duration": 0.030326,
     "end_time": "2025-07-30T21:37:59.963625",
     "exception": false,
     "start_time": "2025-07-30T21:37:59.933299",
     "status": "completed"
    },
    "tags": []
   },
   "outputs": [],
   "source": [
    "y_true = y_true.squeeze()"
   ]
  },
  {
   "cell_type": "code",
   "execution_count": 55,
   "id": "3a58a54a-1e68-46b9-927a-df01f18aebc8",
   "metadata": {
    "execution": {
     "iopub.execute_input": "2025-07-30T21:38:00.011610Z",
     "iopub.status.busy": "2025-07-30T21:38:00.010968Z",
     "iopub.status.idle": "2025-07-30T21:38:00.925542Z",
     "shell.execute_reply": "2025-07-30T21:38:00.924314Z"
    },
    "papermill": {
     "duration": 0.940949,
     "end_time": "2025-07-30T21:38:00.927263",
     "exception": false,
     "start_time": "2025-07-30T21:37:59.986314",
     "status": "completed"
    },
    "tags": []
   },
   "outputs": [],
   "source": [
    "from fairness_multiverse.conformal import evaluate_sets\n",
    "\n",
    "# Evaluate coverage and average set size on test data\n",
    "metrics = evaluate_sets(pred_sets, y_true)"
   ]
  },
  {
   "cell_type": "markdown",
   "id": "2b569c12-9aaa-4c88-98c9-bbcd0cf3ebb8",
   "metadata": {
    "papermill": {
     "duration": 0.027646,
     "end_time": "2025-07-30T21:38:00.981742",
     "exception": false,
     "start_time": "2025-07-30T21:38:00.954096",
     "status": "completed"
    },
    "tags": []
   },
   "source": [
    "# CP Metrics"
   ]
  },
  {
   "cell_type": "code",
   "execution_count": 56,
   "id": "5ce0a5cb-201f-45a0-ade5-94c7f0bd6095",
   "metadata": {
    "execution": {
     "iopub.execute_input": "2025-07-30T21:38:01.020909Z",
     "iopub.status.busy": "2025-07-30T21:38:01.020564Z",
     "iopub.status.idle": "2025-07-30T21:38:01.027562Z",
     "shell.execute_reply": "2025-07-30T21:38:01.026891Z"
    },
    "papermill": {
     "duration": 0.023794,
     "end_time": "2025-07-30T21:38:01.029116",
     "exception": false,
     "start_time": "2025-07-30T21:38:01.005322",
     "status": "completed"
    },
    "tags": []
   },
   "outputs": [
    {
     "data": {
      "text/plain": [
       "{'coverage': 0.9089845056292498, 'avg_size': 1.2452346449671163}"
      ]
     },
     "execution_count": 56,
     "metadata": {},
     "output_type": "execute_result"
    }
   ],
   "source": [
    "metrics"
   ]
  },
  {
   "cell_type": "code",
   "execution_count": 57,
   "id": "9b9a838d-31c9-430b-ae14-12baee460d17",
   "metadata": {
    "execution": {
     "iopub.execute_input": "2025-07-30T21:38:01.056934Z",
     "iopub.status.busy": "2025-07-30T21:38:01.056614Z",
     "iopub.status.idle": "2025-07-30T21:38:01.062423Z",
     "shell.execute_reply": "2025-07-30T21:38:01.061490Z"
    },
    "papermill": {
     "duration": 0.021747,
     "end_time": "2025-07-30T21:38:01.064163",
     "exception": false,
     "start_time": "2025-07-30T21:38:01.042416",
     "status": "completed"
    },
    "tags": []
   },
   "outputs": [],
   "source": [
    "example_universe = universe.copy()\n",
    "universe_training_year = example_universe.get(\"training_year\")\n",
    "universe_training_size = example_universe.get(\"training_size\")\n",
    "universe_scale = example_universe.get(\"scale\")\n",
    "universe_model = example_universe.get(\"model\")\n",
    "universe_exclude_features = example_universe.get(\"exclude_features\")\n",
    "universe_exclude_subgroups = example_universe.get(\"exclude_subgroups\")"
   ]
  },
  {
   "cell_type": "code",
   "execution_count": 58,
   "id": "f4b6a8ac-9dc0-4245-8a91-5b3b5999c4f9",
   "metadata": {
    "execution": {
     "iopub.execute_input": "2025-07-30T21:38:01.120611Z",
     "iopub.status.busy": "2025-07-30T21:38:01.119897Z",
     "iopub.status.idle": "2025-07-30T21:38:01.127503Z",
     "shell.execute_reply": "2025-07-30T21:38:01.126647Z"
    },
    "papermill": {
     "duration": 0.037335,
     "end_time": "2025-07-30T21:38:01.129012",
     "exception": false,
     "start_time": "2025-07-30T21:38:01.091677",
     "status": "completed"
    },
    "tags": []
   },
   "outputs": [],
   "source": [
    "cp_metrics_dict = {\n",
    "    \"universe_id\": [universe_id],\n",
    "    \"universe_training_year\": [universe_training_year],\n",
    "    \"universe_training_size\": [universe_training_size],\n",
    "    \"universe_scale\": [universe_scale],\n",
    "    \"universe_model\": [universe_model],\n",
    "    \"universe_exclude_features\": [universe_exclude_features],\n",
    "    \"universe_exclude_subgroups\": [universe_exclude_subgroups],\n",
    "    \"q_hat\": [q_hat],\n",
    "    \"coverage\": [metrics[\"coverage\"]],\n",
    "    \"avg_size\": [metrics[\"avg_size\"]],\n",
    "}"
   ]
  },
  {
   "cell_type": "code",
   "execution_count": 59,
   "id": "908acbb1-0371-4915-85ca-3fa520d2efe2",
   "metadata": {
    "execution": {
     "iopub.execute_input": "2025-07-30T21:38:01.159151Z",
     "iopub.status.busy": "2025-07-30T21:38:01.158585Z",
     "iopub.status.idle": "2025-07-30T21:38:01.166315Z",
     "shell.execute_reply": "2025-07-30T21:38:01.165560Z"
    },
    "papermill": {
     "duration": 0.024252,
     "end_time": "2025-07-30T21:38:01.167600",
     "exception": false,
     "start_time": "2025-07-30T21:38:01.143348",
     "status": "completed"
    },
    "tags": []
   },
   "outputs": [
    {
     "data": {
      "text/plain": [
       "{'universe_id': ['7ef49888426b28bdba0dd8b636bb74e1'],\n",
       " 'universe_training_year': ['2012_14'],\n",
       " 'universe_training_size': ['1k'],\n",
       " 'universe_scale': ['scale'],\n",
       " 'universe_model': ['elasticnet'],\n",
       " 'universe_exclude_features': ['age'],\n",
       " 'universe_exclude_subgroups': ['keep-all'],\n",
       " 'q_hat': [0.7960753734867871],\n",
       " 'coverage': [0.9089845056292498],\n",
       " 'avg_size': [1.2452346449671163]}"
      ]
     },
     "execution_count": 59,
     "metadata": {},
     "output_type": "execute_result"
    }
   ],
   "source": [
    "cp_metrics_dict"
   ]
  },
  {
   "cell_type": "code",
   "execution_count": 60,
   "id": "33007efc-14e9-4ec6-97ac-56a455c82265",
   "metadata": {
    "execution": {
     "iopub.execute_input": "2025-07-30T21:38:01.195991Z",
     "iopub.status.busy": "2025-07-30T21:38:01.195354Z",
     "iopub.status.idle": "2025-07-30T21:38:01.201519Z",
     "shell.execute_reply": "2025-07-30T21:38:01.200527Z"
    },
    "papermill": {
     "duration": 0.021878,
     "end_time": "2025-07-30T21:38:01.203094",
     "exception": false,
     "start_time": "2025-07-30T21:38:01.181216",
     "status": "completed"
    },
    "tags": []
   },
   "outputs": [],
   "source": [
    "cp_metrics_df = pd.DataFrame(cp_metrics_dict)"
   ]
  },
  {
   "cell_type": "code",
   "execution_count": 61,
   "id": "db12611b-57b2-4910-b9d0-355adfd6e7bf",
   "metadata": {
    "execution": {
     "iopub.execute_input": "2025-07-30T21:38:01.254587Z",
     "iopub.status.busy": "2025-07-30T21:38:01.253732Z",
     "iopub.status.idle": "2025-07-30T21:38:01.273104Z",
     "shell.execute_reply": "2025-07-30T21:38:01.271685Z"
    },
    "papermill": {
     "duration": 0.047272,
     "end_time": "2025-07-30T21:38:01.274936",
     "exception": false,
     "start_time": "2025-07-30T21:38:01.227664",
     "status": "completed"
    },
    "tags": []
   },
   "outputs": [
    {
     "data": {
      "text/html": [
       "<div>\n",
       "<style scoped>\n",
       "    .dataframe tbody tr th:only-of-type {\n",
       "        vertical-align: middle;\n",
       "    }\n",
       "\n",
       "    .dataframe tbody tr th {\n",
       "        vertical-align: top;\n",
       "    }\n",
       "\n",
       "    .dataframe thead th {\n",
       "        text-align: right;\n",
       "    }\n",
       "</style>\n",
       "<table border=\"1\" class=\"dataframe\">\n",
       "  <thead>\n",
       "    <tr style=\"text-align: right;\">\n",
       "      <th></th>\n",
       "      <th>universe_id</th>\n",
       "      <th>universe_training_year</th>\n",
       "      <th>universe_training_size</th>\n",
       "      <th>universe_scale</th>\n",
       "      <th>universe_model</th>\n",
       "      <th>universe_exclude_features</th>\n",
       "      <th>universe_exclude_subgroups</th>\n",
       "      <th>q_hat</th>\n",
       "      <th>coverage</th>\n",
       "      <th>avg_size</th>\n",
       "    </tr>\n",
       "  </thead>\n",
       "  <tbody>\n",
       "    <tr>\n",
       "      <th>0</th>\n",
       "      <td>7ef49888426b28bdba0dd8b636bb74e1</td>\n",
       "      <td>2012_14</td>\n",
       "      <td>1k</td>\n",
       "      <td>scale</td>\n",
       "      <td>elasticnet</td>\n",
       "      <td>age</td>\n",
       "      <td>keep-all</td>\n",
       "      <td>0.796075</td>\n",
       "      <td>0.908985</td>\n",
       "      <td>1.245235</td>\n",
       "    </tr>\n",
       "  </tbody>\n",
       "</table>\n",
       "</div>"
      ],
      "text/plain": [
       "                        universe_id universe_training_year  \\\n",
       "0  7ef49888426b28bdba0dd8b636bb74e1                2012_14   \n",
       "\n",
       "  universe_training_size universe_scale universe_model  \\\n",
       "0                     1k          scale     elasticnet   \n",
       "\n",
       "  universe_exclude_features universe_exclude_subgroups     q_hat  coverage  \\\n",
       "0                       age                   keep-all  0.796075  0.908985   \n",
       "\n",
       "   avg_size  \n",
       "0  1.245235  "
      ]
     },
     "execution_count": 61,
     "metadata": {},
     "output_type": "execute_result"
    }
   ],
   "source": [
    "cp_metrics_df"
   ]
  },
  {
   "cell_type": "code",
   "execution_count": 62,
   "id": "b7fbde55-a0a1-47e4-9af6-fe4a17fa8c61",
   "metadata": {
    "execution": {
     "iopub.execute_input": "2025-07-30T21:38:01.335826Z",
     "iopub.status.busy": "2025-07-30T21:38:01.335230Z",
     "iopub.status.idle": "2025-07-30T21:38:01.340646Z",
     "shell.execute_reply": "2025-07-30T21:38:01.339590Z"
    },
    "papermill": {
     "duration": 0.036953,
     "end_time": "2025-07-30T21:38:01.342297",
     "exception": false,
     "start_time": "2025-07-30T21:38:01.305344",
     "status": "completed"
    },
    "tags": []
   },
   "outputs": [],
   "source": [
    "# Conditional Coverage & looking at subgroups"
   ]
  },
  {
   "cell_type": "code",
   "execution_count": 63,
   "id": "027ae886-68dd-4141-96c7-805a5450e1ef",
   "metadata": {
    "execution": {
     "iopub.execute_input": "2025-07-30T21:38:01.400492Z",
     "iopub.status.busy": "2025-07-30T21:38:01.399738Z",
     "iopub.status.idle": "2025-07-30T21:38:01.671864Z",
     "shell.execute_reply": "2025-07-30T21:38:01.670859Z"
    },
    "papermill": {
     "duration": 0.302971,
     "end_time": "2025-07-30T21:38:01.673876",
     "exception": false,
     "start_time": "2025-07-30T21:38:01.370905",
     "status": "completed"
    },
    "tags": []
   },
   "outputs": [],
   "source": [
    "from fairness_multiverse.conformal import build_cp_groups\n",
    "\n",
    "cp_groups_df = build_cp_groups(pred_sets, y_true, X_test.index, org_test)\n",
    "#needs universe_id and setting"
   ]
  },
  {
   "cell_type": "code",
   "execution_count": 64,
   "id": "01d5802c-663a-4d1f-9d69-e036faaffbf7",
   "metadata": {
    "execution": {
     "iopub.execute_input": "2025-07-30T21:38:01.733033Z",
     "iopub.status.busy": "2025-07-30T21:38:01.732366Z",
     "iopub.status.idle": "2025-07-30T21:38:01.737687Z",
     "shell.execute_reply": "2025-07-30T21:38:01.736715Z"
    },
    "papermill": {
     "duration": 0.036812,
     "end_time": "2025-07-30T21:38:01.739708",
     "exception": false,
     "start_time": "2025-07-30T21:38:01.702896",
     "status": "completed"
    },
    "tags": []
   },
   "outputs": [],
   "source": [
    "#delete\n",
    "#cp_groups_df"
   ]
  },
  {
   "cell_type": "code",
   "execution_count": 65,
   "id": "fa424af1-d1eb-443d-b717-2d279ada8408",
   "metadata": {
    "execution": {
     "iopub.execute_input": "2025-07-30T21:38:01.800246Z",
     "iopub.status.busy": "2025-07-30T21:38:01.799492Z",
     "iopub.status.idle": "2025-07-30T21:38:01.804862Z",
     "shell.execute_reply": "2025-07-30T21:38:01.803866Z"
    },
    "papermill": {
     "duration": 0.037995,
     "end_time": "2025-07-30T21:38:01.806757",
     "exception": false,
     "start_time": "2025-07-30T21:38:01.768762",
     "status": "completed"
    },
    "tags": []
   },
   "outputs": [],
   "source": [
    "#delete\n",
    "#percentage = (cp_groups_df['nongerman_female'] == 1).mean() * 100\n",
    "#print(percentage)\n"
   ]
  },
  {
   "cell_type": "code",
   "execution_count": 66,
   "id": "6cbdab96-b2b2-45af-ad54-d0516db2e28d",
   "metadata": {
    "execution": {
     "iopub.execute_input": "2025-07-30T21:38:01.866472Z",
     "iopub.status.busy": "2025-07-30T21:38:01.866013Z",
     "iopub.status.idle": "2025-07-30T21:38:03.619259Z",
     "shell.execute_reply": "2025-07-30T21:38:03.618504Z"
    },
    "papermill": {
     "duration": 1.784811,
     "end_time": "2025-07-30T21:38:03.620764",
     "exception": false,
     "start_time": "2025-07-30T21:38:01.835953",
     "status": "completed"
    },
    "tags": []
   },
   "outputs": [],
   "source": [
    "# Define covered = 1 if true_label is in the predicted set\n",
    "cp_groups_df['covered'] = cp_groups_df.apply(\n",
    "    lambda r: int(r['true_label'] in r['pred_set']),\n",
    "    axis=1\n",
    ")"
   ]
  },
  {
   "cell_type": "code",
   "execution_count": 67,
   "id": "338ff529-1a6b-4b87-a931-8e4788d52aad",
   "metadata": {
    "execution": {
     "iopub.execute_input": "2025-07-30T21:38:03.651922Z",
     "iopub.status.busy": "2025-07-30T21:38:03.651541Z",
     "iopub.status.idle": "2025-07-30T21:38:03.656215Z",
     "shell.execute_reply": "2025-07-30T21:38:03.655105Z"
    },
    "papermill": {
     "duration": 0.022519,
     "end_time": "2025-07-30T21:38:03.657641",
     "exception": false,
     "start_time": "2025-07-30T21:38:03.635122",
     "status": "completed"
    },
    "tags": []
   },
   "outputs": [],
   "source": [
    "#cp_groups_df"
   ]
  },
  {
   "cell_type": "code",
   "execution_count": 68,
   "id": "90032e27-66df-4540-9169-4e89cfbaa758",
   "metadata": {
    "execution": {
     "iopub.execute_input": "2025-07-30T21:38:03.706307Z",
     "iopub.status.busy": "2025-07-30T21:38:03.705789Z",
     "iopub.status.idle": "2025-07-30T21:38:03.720707Z",
     "shell.execute_reply": "2025-07-30T21:38:03.719259Z"
    },
    "papermill": {
     "duration": 0.050256,
     "end_time": "2025-07-30T21:38:03.723151",
     "exception": false,
     "start_time": "2025-07-30T21:38:03.672895",
     "status": "completed"
    },
    "tags": []
   },
   "outputs": [],
   "source": [
    "subgroups = ['frau1','nongerman','nongerman_male','nongerman_female']\n",
    "\n",
    "# Conditional coverage for subgroup==1\n",
    "cond_coverage = {\n",
    "    g: cp_groups_df.loc[cp_groups_df[g]==1, 'covered'].mean()\n",
    "    for g in subgroups\n",
    "}"
   ]
  },
  {
   "cell_type": "code",
   "execution_count": 69,
   "id": "1e348fb1-b9c3-45bc-ba23-f016827a7e0d",
   "metadata": {
    "execution": {
     "iopub.execute_input": "2025-07-30T21:38:03.788757Z",
     "iopub.status.busy": "2025-07-30T21:38:03.787752Z",
     "iopub.status.idle": "2025-07-30T21:38:03.795726Z",
     "shell.execute_reply": "2025-07-30T21:38:03.794914Z"
    },
    "papermill": {
     "duration": 0.03781,
     "end_time": "2025-07-30T21:38:03.797400",
     "exception": false,
     "start_time": "2025-07-30T21:38:03.759590",
     "status": "completed"
    },
    "tags": []
   },
   "outputs": [
    {
     "data": {
      "text/plain": [
       "{'frau1': 0.902008356921418,\n",
       " 'nongerman': 0.9146690619210689,\n",
       " 'nongerman_male': 0.9326308204989643,\n",
       " 'nongerman_female': 0.8849478390461997}"
      ]
     },
     "execution_count": 69,
     "metadata": {},
     "output_type": "execute_result"
    }
   ],
   "source": [
    "cond_coverage"
   ]
  },
  {
   "cell_type": "code",
   "execution_count": 70,
   "id": "f5093324-c3dd-4d63-bc4c-8d945e5c8bbb",
   "metadata": {
    "execution": {
     "iopub.execute_input": "2025-07-30T21:38:03.826646Z",
     "iopub.status.busy": "2025-07-30T21:38:03.826232Z",
     "iopub.status.idle": "2025-07-30T21:38:03.834335Z",
     "shell.execute_reply": "2025-07-30T21:38:03.833353Z"
    },
    "papermill": {
     "duration": 0.024407,
     "end_time": "2025-07-30T21:38:03.835927",
     "exception": false,
     "start_time": "2025-07-30T21:38:03.811520",
     "status": "completed"
    },
    "tags": []
   },
   "outputs": [],
   "source": [
    "for subgroup, cov in cond_coverage.items():\n",
    "    cp_metrics_df[f\"cov_{subgroup}\"] = cov"
   ]
  },
  {
   "cell_type": "code",
   "execution_count": 71,
   "id": "6e872e10-dbe5-49e8-b554-5030c98ff75d",
   "metadata": {
    "execution": {
     "iopub.execute_input": "2025-07-30T21:38:03.894805Z",
     "iopub.status.busy": "2025-07-30T21:38:03.894338Z",
     "iopub.status.idle": "2025-07-30T21:38:03.913775Z",
     "shell.execute_reply": "2025-07-30T21:38:03.912845Z"
    },
    "papermill": {
     "duration": 0.049905,
     "end_time": "2025-07-30T21:38:03.915481",
     "exception": false,
     "start_time": "2025-07-30T21:38:03.865576",
     "status": "completed"
    },
    "tags": []
   },
   "outputs": [
    {
     "data": {
      "text/html": [
       "<div>\n",
       "<style scoped>\n",
       "    .dataframe tbody tr th:only-of-type {\n",
       "        vertical-align: middle;\n",
       "    }\n",
       "\n",
       "    .dataframe tbody tr th {\n",
       "        vertical-align: top;\n",
       "    }\n",
       "\n",
       "    .dataframe thead th {\n",
       "        text-align: right;\n",
       "    }\n",
       "</style>\n",
       "<table border=\"1\" class=\"dataframe\">\n",
       "  <thead>\n",
       "    <tr style=\"text-align: right;\">\n",
       "      <th></th>\n",
       "      <th>universe_id</th>\n",
       "      <th>universe_training_year</th>\n",
       "      <th>universe_training_size</th>\n",
       "      <th>universe_scale</th>\n",
       "      <th>universe_model</th>\n",
       "      <th>universe_exclude_features</th>\n",
       "      <th>universe_exclude_subgroups</th>\n",
       "      <th>q_hat</th>\n",
       "      <th>coverage</th>\n",
       "      <th>avg_size</th>\n",
       "      <th>cov_frau1</th>\n",
       "      <th>cov_nongerman</th>\n",
       "      <th>cov_nongerman_male</th>\n",
       "      <th>cov_nongerman_female</th>\n",
       "    </tr>\n",
       "  </thead>\n",
       "  <tbody>\n",
       "    <tr>\n",
       "      <th>0</th>\n",
       "      <td>7ef49888426b28bdba0dd8b636bb74e1</td>\n",
       "      <td>2012_14</td>\n",
       "      <td>1k</td>\n",
       "      <td>scale</td>\n",
       "      <td>elasticnet</td>\n",
       "      <td>age</td>\n",
       "      <td>keep-all</td>\n",
       "      <td>0.796075</td>\n",
       "      <td>0.908985</td>\n",
       "      <td>1.245235</td>\n",
       "      <td>0.902008</td>\n",
       "      <td>0.914669</td>\n",
       "      <td>0.932631</td>\n",
       "      <td>0.884948</td>\n",
       "    </tr>\n",
       "  </tbody>\n",
       "</table>\n",
       "</div>"
      ],
      "text/plain": [
       "                        universe_id universe_training_year  \\\n",
       "0  7ef49888426b28bdba0dd8b636bb74e1                2012_14   \n",
       "\n",
       "  universe_training_size universe_scale universe_model  \\\n",
       "0                     1k          scale     elasticnet   \n",
       "\n",
       "  universe_exclude_features universe_exclude_subgroups     q_hat  coverage  \\\n",
       "0                       age                   keep-all  0.796075  0.908985   \n",
       "\n",
       "   avg_size  cov_frau1  cov_nongerman  cov_nongerman_male  \\\n",
       "0  1.245235   0.902008       0.914669            0.932631   \n",
       "\n",
       "   cov_nongerman_female  \n",
       "0              0.884948  "
      ]
     },
     "execution_count": 71,
     "metadata": {},
     "output_type": "execute_result"
    }
   ],
   "source": [
    "cp_metrics_df"
   ]
  },
  {
   "cell_type": "markdown",
   "id": "33774451",
   "metadata": {
    "papermill": {
     "duration": 0.013558,
     "end_time": "2025-07-30T21:38:03.948664",
     "exception": false,
     "start_time": "2025-07-30T21:38:03.935106",
     "status": "completed"
    },
    "tags": []
   },
   "source": [
    "# (Fairness) Metrics"
   ]
  },
  {
   "cell_type": "code",
   "execution_count": 72,
   "id": "debc5d62",
   "metadata": {
    "execution": {
     "iopub.execute_input": "2025-07-30T21:38:03.977492Z",
     "iopub.status.busy": "2025-07-30T21:38:03.977097Z",
     "iopub.status.idle": "2025-07-30T21:38:03.991712Z",
     "shell.execute_reply": "2025-07-30T21:38:03.990977Z"
    },
    "papermill": {
     "duration": 0.030781,
     "end_time": "2025-07-30T21:38:03.993254",
     "exception": false,
     "start_time": "2025-07-30T21:38:03.962473",
     "status": "completed"
    },
    "tags": []
   },
   "outputs": [],
   "source": [
    "# do I need to include maxdeutsch1.missing?\n",
    "\n",
    "import numpy as np\n",
    "\n",
    "colname_to_bin = \"maxdeutsch1\"\n",
    "majority_value = org_train[colname_to_bin].mode()[0]\n",
    "\n",
    "org_test[\"majmin\"] = np.where(org_test[colname_to_bin] == majority_value, \"majority\", \"minority\")"
   ]
  },
  {
   "cell_type": "code",
   "execution_count": 73,
   "id": "06a50de5",
   "metadata": {
    "execution": {
     "iopub.execute_input": "2025-07-30T21:38:04.024479Z",
     "iopub.status.busy": "2025-07-30T21:38:04.023942Z",
     "iopub.status.idle": "2025-07-30T21:38:05.963637Z",
     "shell.execute_reply": "2025-07-30T21:38:05.962853Z"
    },
    "papermill": {
     "duration": 1.957014,
     "end_time": "2025-07-30T21:38:05.965210",
     "exception": false,
     "start_time": "2025-07-30T21:38:04.008196",
     "status": "completed"
    },
    "tags": []
   },
   "outputs": [],
   "source": [
    "example_universe = universe.copy()\n",
    "example_universe[\"cutoff\"] = example_universe[\"cutoff\"][0]\n",
    "example_universe[\"eval_fairness_grouping\"] = example_universe[\"eval_fairness_grouping\"][0]\n",
    "fairness_dict, metric_frame = universe_analysis.compute_metrics(\n",
    "    example_universe,\n",
    "    y_pred_prob=probs_test,\n",
    "    y_test=y_true,\n",
    "    org_test=org_test,\n",
    ")"
   ]
  },
  {
   "cell_type": "markdown",
   "id": "f95d4e02",
   "metadata": {
    "papermill": {
     "duration": 0.01399,
     "end_time": "2025-07-30T21:38:05.995925",
     "exception": false,
     "start_time": "2025-07-30T21:38:05.981935",
     "status": "completed"
    },
    "tags": []
   },
   "source": [
    "# Overall"
   ]
  },
  {
   "cell_type": "markdown",
   "id": "bdee4871",
   "metadata": {
    "papermill": {
     "duration": 0.015359,
     "end_time": "2025-07-30T21:38:06.031798",
     "exception": false,
     "start_time": "2025-07-30T21:38:06.016439",
     "status": "completed"
    },
    "tags": []
   },
   "source": [
    "Fairness\n",
    "Main fairness target: Equalized Odds. Seems to be a better fit than equal opportunity, since we're not only interested in Y = 1. Seems to be a better fit than demographic parity, since we also care about accuracy, not just equal distribution of preds.\n",
    "\n",
    "Pick column for computation of fairness metrics\n",
    "\n",
    "Performance\n",
    "Overall performance measures, most interesting in relation to the measures split by group below"
   ]
  },
  {
   "cell_type": "code",
   "execution_count": 74,
   "id": "c4e067c6",
   "metadata": {
    "execution": {
     "iopub.execute_input": "2025-07-30T21:38:06.061558Z",
     "iopub.status.busy": "2025-07-30T21:38:06.061211Z",
     "iopub.status.idle": "2025-07-30T21:38:06.068458Z",
     "shell.execute_reply": "2025-07-30T21:38:06.067668Z"
    },
    "papermill": {
     "duration": 0.024346,
     "end_time": "2025-07-30T21:38:06.069776",
     "exception": false,
     "start_time": "2025-07-30T21:38:06.045430",
     "status": "completed"
    },
    "tags": []
   },
   "outputs": [
    {
     "data": {
      "text/plain": [
       "accuracy                   0.217869\n",
       "balanced accuracy          0.534082\n",
       "f1                         0.239379\n",
       "precision                  0.136749\n",
       "false positive rate        0.891256\n",
       "false negative rate        0.040580\n",
       "selection rate             0.900000\n",
       "count                  89710.000000\n",
       "dtype: float64"
      ]
     },
     "execution_count": 74,
     "metadata": {},
     "output_type": "execute_result"
    }
   ],
   "source": [
    "metric_frame.overall"
   ]
  },
  {
   "cell_type": "markdown",
   "id": "e968fe9d",
   "metadata": {
    "papermill": {
     "duration": 0.016692,
     "end_time": "2025-07-30T21:38:06.102135",
     "exception": false,
     "start_time": "2025-07-30T21:38:06.085443",
     "status": "completed"
    },
    "tags": []
   },
   "source": [
    "By Group"
   ]
  },
  {
   "cell_type": "code",
   "execution_count": 75,
   "id": "ec325bce",
   "metadata": {
    "execution": {
     "iopub.execute_input": "2025-07-30T21:38:06.134062Z",
     "iopub.status.busy": "2025-07-30T21:38:06.133711Z",
     "iopub.status.idle": "2025-07-30T21:38:06.145980Z",
     "shell.execute_reply": "2025-07-30T21:38:06.144934Z"
    },
    "papermill": {
     "duration": 0.030891,
     "end_time": "2025-07-30T21:38:06.149388",
     "exception": false,
     "start_time": "2025-07-30T21:38:06.118497",
     "status": "completed"
    },
    "tags": []
   },
   "outputs": [
    {
     "data": {
      "text/html": [
       "<div>\n",
       "<style scoped>\n",
       "    .dataframe tbody tr th:only-of-type {\n",
       "        vertical-align: middle;\n",
       "    }\n",
       "\n",
       "    .dataframe tbody tr th {\n",
       "        vertical-align: top;\n",
       "    }\n",
       "\n",
       "    .dataframe thead th {\n",
       "        text-align: right;\n",
       "    }\n",
       "</style>\n",
       "<table border=\"1\" class=\"dataframe\">\n",
       "  <thead>\n",
       "    <tr style=\"text-align: right;\">\n",
       "      <th></th>\n",
       "      <th>accuracy</th>\n",
       "      <th>balanced accuracy</th>\n",
       "      <th>f1</th>\n",
       "      <th>precision</th>\n",
       "      <th>false positive rate</th>\n",
       "      <th>false negative rate</th>\n",
       "      <th>selection rate</th>\n",
       "      <th>count</th>\n",
       "    </tr>\n",
       "    <tr>\n",
       "      <th>majmin</th>\n",
       "      <th></th>\n",
       "      <th></th>\n",
       "      <th></th>\n",
       "      <th></th>\n",
       "      <th></th>\n",
       "      <th></th>\n",
       "      <th></th>\n",
       "      <th></th>\n",
       "    </tr>\n",
       "  </thead>\n",
       "  <tbody>\n",
       "    <tr>\n",
       "      <th>majority</th>\n",
       "      <td>0.236461</td>\n",
       "      <td>0.540347</td>\n",
       "      <td>0.248114</td>\n",
       "      <td>0.142614</td>\n",
       "      <td>0.872697</td>\n",
       "      <td>0.046608</td>\n",
       "      <td>0.883360</td>\n",
       "      <td>69170.0</td>\n",
       "    </tr>\n",
       "    <tr>\n",
       "      <th>minority</th>\n",
       "      <td>0.155258</td>\n",
       "      <td>0.515061</td>\n",
       "      <td>0.211497</td>\n",
       "      <td>0.118501</td>\n",
       "      <td>0.952564</td>\n",
       "      <td>0.017314</td>\n",
       "      <td>0.956037</td>\n",
       "      <td>20540.0</td>\n",
       "    </tr>\n",
       "  </tbody>\n",
       "</table>\n",
       "</div>"
      ],
      "text/plain": [
       "          accuracy  balanced accuracy        f1  precision  \\\n",
       "majmin                                                       \n",
       "majority  0.236461           0.540347  0.248114   0.142614   \n",
       "minority  0.155258           0.515061  0.211497   0.118501   \n",
       "\n",
       "          false positive rate  false negative rate  selection rate    count  \n",
       "majmin                                                                       \n",
       "majority             0.872697             0.046608        0.883360  69170.0  \n",
       "minority             0.952564             0.017314        0.956037  20540.0  "
      ]
     },
     "execution_count": 75,
     "metadata": {},
     "output_type": "execute_result"
    }
   ],
   "source": [
    "metric_frame.by_group"
   ]
  },
  {
   "cell_type": "code",
   "execution_count": 76,
   "id": "a9ddbe63",
   "metadata": {
    "execution": {
     "iopub.execute_input": "2025-07-30T21:38:06.199029Z",
     "iopub.status.busy": "2025-07-30T21:38:06.198591Z",
     "iopub.status.idle": "2025-07-30T21:38:08.723324Z",
     "shell.execute_reply": "2025-07-30T21:38:08.722367Z"
    },
    "papermill": {
     "duration": 2.553818,
     "end_time": "2025-07-30T21:38:08.725042",
     "exception": false,
     "start_time": "2025-07-30T21:38:06.171224",
     "status": "completed"
    },
    "tags": []
   },
   "outputs": [
    {
     "data": {
      "text/plain": [
       "array([[<Axes: title={'center': 'accuracy'}, xlabel='majmin'>,\n",
       "        <Axes: title={'center': 'balanced accuracy'}, xlabel='majmin'>,\n",
       "        <Axes: title={'center': 'f1'}, xlabel='majmin'>],\n",
       "       [<Axes: title={'center': 'precision'}, xlabel='majmin'>,\n",
       "        <Axes: title={'center': 'false positive rate'}, xlabel='majmin'>,\n",
       "        <Axes: title={'center': 'false negative rate'}, xlabel='majmin'>],\n",
       "       [<Axes: title={'center': 'selection rate'}, xlabel='majmin'>,\n",
       "        <Axes: title={'center': 'count'}, xlabel='majmin'>,\n",
       "        <Axes: xlabel='majmin'>]], dtype=object)"
      ]
     },
     "execution_count": 76,
     "metadata": {},
     "output_type": "execute_result"
    },
    {
     "data": {
      "image/png": "[encoded data removed]",
      "text/plain": [
       "<Figure size 1200x800 with 9 Axes>"
      ]
     },
     "metadata": {},
     "output_type": "display_data"
    }
   ],
   "source": [
    "# In a graphic\n",
    "metric_frame.by_group.plot.bar(\n",
    "    subplots=True,\n",
    "    layout=[3, 3],\n",
    "    legend=False,\n",
    "    figsize=[12, 8],\n",
    "    title=\"Show all metrics\",\n",
    ")"
   ]
  },
  {
   "cell_type": "markdown",
   "id": "f57a0bac",
   "metadata": {
    "papermill": {
     "duration": 0.026373,
     "end_time": "2025-07-30T21:38:08.781566",
     "exception": false,
     "start_time": "2025-07-30T21:38:08.755193",
     "status": "completed"
    },
    "tags": []
   },
   "source": [
    "# Final Output"
   ]
  },
  {
   "cell_type": "code",
   "execution_count": 77,
   "id": "96d280a3",
   "metadata": {
    "execution": {
     "iopub.execute_input": "2025-07-30T21:38:08.828569Z",
     "iopub.status.busy": "2025-07-30T21:38:08.828109Z",
     "iopub.status.idle": "2025-07-30T21:38:08.835566Z",
     "shell.execute_reply": "2025-07-30T21:38:08.834440Z"
    },
    "papermill": {
     "duration": 0.038849,
     "end_time": "2025-07-30T21:38:08.837155",
     "exception": false,
     "start_time": "2025-07-30T21:38:08.798306",
     "status": "completed"
    },
    "tags": []
   },
   "outputs": [
    {
     "data": {
      "text/plain": [
       "4"
      ]
     },
     "execution_count": 77,
     "metadata": {},
     "output_type": "execute_result"
    }
   ],
   "source": [
    "sub_universes = universe_analysis.generate_sub_universes()\n",
    "len(sub_universes)"
   ]
  },
  {
   "cell_type": "code",
   "execution_count": 78,
   "id": "92adf7ba",
   "metadata": {
    "execution": {
     "iopub.execute_input": "2025-07-30T21:38:08.896151Z",
     "iopub.status.busy": "2025-07-30T21:38:08.895584Z",
     "iopub.status.idle": "2025-07-30T21:38:08.901921Z",
     "shell.execute_reply": "2025-07-30T21:38:08.900930Z"
    },
    "papermill": {
     "duration": 0.03869,
     "end_time": "2025-07-30T21:38:08.903673",
     "exception": false,
     "start_time": "2025-07-30T21:38:08.864983",
     "status": "completed"
    },
    "tags": []
   },
   "outputs": [],
   "source": [
    "def filter_sub_universe_data(sub_universe, org_test):\n",
    "    # Keep all rows — no filtering\n",
    "    keep_rows_mask = np.ones(org_test.shape[0], dtype=bool)\n",
    "\n",
    "    print(f\"[INFO] Keeping all rows: {keep_rows_mask.sum()} rows retained.\")\n",
    "    return keep_rows_mask"
   ]
  },
  {
   "cell_type": "code",
   "execution_count": 79,
   "id": "4a759155",
   "metadata": {
    "execution": {
     "iopub.execute_input": "2025-07-30T21:38:08.960495Z",
     "iopub.status.busy": "2025-07-30T21:38:08.959524Z",
     "iopub.status.idle": "2025-07-30T21:38:19.094499Z",
     "shell.execute_reply": "2025-07-30T21:38:19.093438Z"
    },
    "papermill": {
     "duration": 10.164818,
     "end_time": "2025-07-30T21:38:19.096207",
     "exception": false,
     "start_time": "2025-07-30T21:38:08.931389",
     "status": "completed"
    },
    "tags": []
   },
   "outputs": [
    {
     "name": "stdout",
     "output_type": "stream",
     "text": [
      "Stopping execution_time clock.\n",
      "[INFO] Keeping all rows: 89710 rows retained.\n"
     ]
    },
    {
     "name": "stdout",
     "output_type": "stream",
     "text": [
      "[INFO] Keeping all rows: 89710 rows retained.\n"
     ]
    },
    {
     "name": "stdout",
     "output_type": "stream",
     "text": [
      "[INFO] Keeping all rows: 89710 rows retained.\n"
     ]
    },
    {
     "name": "stdout",
     "output_type": "stream",
     "text": [
      "[INFO] Keeping all rows: 89710 rows retained.\n"
     ]
    },
    {
     "data": {
      "text/html": [
       "<div>\n",
       "<style scoped>\n",
       "    .dataframe tbody tr th:only-of-type {\n",
       "        vertical-align: middle;\n",
       "    }\n",
       "\n",
       "    .dataframe tbody tr th {\n",
       "        vertical-align: top;\n",
       "    }\n",
       "\n",
       "    .dataframe thead th {\n",
       "        text-align: right;\n",
       "    }\n",
       "</style>\n",
       "<table border=\"1\" class=\"dataframe\">\n",
       "  <thead>\n",
       "    <tr style=\"text-align: right;\">\n",
       "      <th></th>\n",
       "      <th>run_no</th>\n",
       "      <th>universe_id</th>\n",
       "      <th>universe_settings</th>\n",
       "      <th>execution_time</th>\n",
       "      <th>test_size_n</th>\n",
       "      <th>test_size_frac</th>\n",
       "      <th>fair_main_equalized_odds_difference</th>\n",
       "      <th>fair_main_equalized_odds_ratio</th>\n",
       "      <th>fair_main_demographic_parity_difference</th>\n",
       "      <th>fair_main_demographic_parity_ratio</th>\n",
       "      <th>...</th>\n",
       "      <th>perf_grp_precision_0</th>\n",
       "      <th>perf_grp_precision_1</th>\n",
       "      <th>perf_grp_false positive rate_0</th>\n",
       "      <th>perf_grp_false positive rate_1</th>\n",
       "      <th>perf_grp_false negative rate_0</th>\n",
       "      <th>perf_grp_false negative rate_1</th>\n",
       "      <th>perf_grp_selection rate_0</th>\n",
       "      <th>perf_grp_selection rate_1</th>\n",
       "      <th>perf_grp_count_0</th>\n",
       "      <th>perf_grp_count_1</th>\n",
       "    </tr>\n",
       "  </thead>\n",
       "  <tbody>\n",
       "    <tr>\n",
       "      <th>0</th>\n",
       "      <td>14</td>\n",
       "      <td>7ef49888426b28bdba0dd8b636bb74e1</td>\n",
       "      <td>{\"cutoff\": \"quantile_0.1\", \"eval_fairness_grou...</td>\n",
       "      <td>29.172467</td>\n",
       "      <td>89710</td>\n",
       "      <td>1.0</td>\n",
       "      <td>0.079867</td>\n",
       "      <td>0.916155</td>\n",
       "      <td>0.072677</td>\n",
       "      <td>0.923981</td>\n",
       "      <td>...</td>\n",
       "      <td>NaN</td>\n",
       "      <td>NaN</td>\n",
       "      <td>NaN</td>\n",
       "      <td>NaN</td>\n",
       "      <td>NaN</td>\n",
       "      <td>NaN</td>\n",
       "      <td>NaN</td>\n",
       "      <td>NaN</td>\n",
       "      <td>NaN</td>\n",
       "      <td>NaN</td>\n",
       "    </tr>\n",
       "    <tr>\n",
       "      <th>0</th>\n",
       "      <td>14</td>\n",
       "      <td>7ef49888426b28bdba0dd8b636bb74e1</td>\n",
       "      <td>{\"cutoff\": \"quantile_0.1\", \"eval_fairness_grou...</td>\n",
       "      <td>29.172467</td>\n",
       "      <td>89710</td>\n",
       "      <td>1.0</td>\n",
       "      <td>0.079867</td>\n",
       "      <td>0.916155</td>\n",
       "      <td>0.072677</td>\n",
       "      <td>0.923981</td>\n",
       "      <td>...</td>\n",
       "      <td>0.118501</td>\n",
       "      <td>0.142614</td>\n",
       "      <td>0.952564</td>\n",
       "      <td>0.872697</td>\n",
       "      <td>0.017314</td>\n",
       "      <td>0.046608</td>\n",
       "      <td>0.956037</td>\n",
       "      <td>0.883360</td>\n",
       "      <td>20540.0</td>\n",
       "      <td>69170.0</td>\n",
       "    </tr>\n",
       "    <tr>\n",
       "      <th>0</th>\n",
       "      <td>14</td>\n",
       "      <td>7ef49888426b28bdba0dd8b636bb74e1</td>\n",
       "      <td>{\"cutoff\": \"quantile_0.25\", \"eval_fairness_gro...</td>\n",
       "      <td>29.172467</td>\n",
       "      <td>89710</td>\n",
       "      <td>1.0</td>\n",
       "      <td>0.168402</td>\n",
       "      <td>0.804147</td>\n",
       "      <td>0.153696</td>\n",
       "      <td>0.823032</td>\n",
       "      <td>...</td>\n",
       "      <td>NaN</td>\n",
       "      <td>NaN</td>\n",
       "      <td>NaN</td>\n",
       "      <td>NaN</td>\n",
       "      <td>NaN</td>\n",
       "      <td>NaN</td>\n",
       "      <td>NaN</td>\n",
       "      <td>NaN</td>\n",
       "      <td>NaN</td>\n",
       "      <td>NaN</td>\n",
       "    </tr>\n",
       "    <tr>\n",
       "      <th>0</th>\n",
       "      <td>14</td>\n",
       "      <td>7ef49888426b28bdba0dd8b636bb74e1</td>\n",
       "      <td>{\"cutoff\": \"quantile_0.25\", \"eval_fairness_gro...</td>\n",
       "      <td>29.172467</td>\n",
       "      <td>89710</td>\n",
       "      <td>1.0</td>\n",
       "      <td>0.168402</td>\n",
       "      <td>0.804147</td>\n",
       "      <td>0.153696</td>\n",
       "      <td>0.823032</td>\n",
       "      <td>...</td>\n",
       "      <td>0.124110</td>\n",
       "      <td>0.160508</td>\n",
       "      <td>0.859839</td>\n",
       "      <td>0.691438</td>\n",
       "      <td>0.065034</td>\n",
       "      <td>0.131729</td>\n",
       "      <td>0.868500</td>\n",
       "      <td>0.714804</td>\n",
       "      <td>20540.0</td>\n",
       "      <td>69170.0</td>\n",
       "    </tr>\n",
       "  </tbody>\n",
       "</table>\n",
       "<p>4 rows × 50 columns</p>\n",
       "</div>"
      ],
      "text/plain": [
       "  run_no                       universe_id  \\\n",
       "0     14  7ef49888426b28bdba0dd8b636bb74e1   \n",
       "0     14  7ef49888426b28bdba0dd8b636bb74e1   \n",
       "0     14  7ef49888426b28bdba0dd8b636bb74e1   \n",
       "0     14  7ef49888426b28bdba0dd8b636bb74e1   \n",
       "\n",
       "                                   universe_settings  execution_time  \\\n",
       "0  {\"cutoff\": \"quantile_0.1\", \"eval_fairness_grou...       29.172467   \n",
       "0  {\"cutoff\": \"quantile_0.1\", \"eval_fairness_grou...       29.172467   \n",
       "0  {\"cutoff\": \"quantile_0.25\", \"eval_fairness_gro...       29.172467   \n",
       "0  {\"cutoff\": \"quantile_0.25\", \"eval_fairness_gro...       29.172467   \n",
       "\n",
       "   test_size_n  test_size_frac  fair_main_equalized_odds_difference  \\\n",
       "0        89710             1.0                             0.079867   \n",
       "0        89710             1.0                             0.079867   \n",
       "0        89710             1.0                             0.168402   \n",
       "0        89710             1.0                             0.168402   \n",
       "\n",
       "   fair_main_equalized_odds_ratio  fair_main_demographic_parity_difference  \\\n",
       "0                        0.916155                                 0.072677   \n",
       "0                        0.916155                                 0.072677   \n",
       "0                        0.804147                                 0.153696   \n",
       "0                        0.804147                                 0.153696   \n",
       "\n",
       "   fair_main_demographic_parity_ratio  ...  perf_grp_precision_0  \\\n",
       "0                            0.923981  ...                   NaN   \n",
       "0                            0.923981  ...              0.118501   \n",
       "0                            0.823032  ...                   NaN   \n",
       "0                            0.823032  ...              0.124110   \n",
       "\n",
       "   perf_grp_precision_1  perf_grp_false positive rate_0  \\\n",
       "0                   NaN                             NaN   \n",
       "0              0.142614                        0.952564   \n",
       "0                   NaN                             NaN   \n",
       "0              0.160508                        0.859839   \n",
       "\n",
       "   perf_grp_false positive rate_1  perf_grp_false negative rate_0  \\\n",
       "0                             NaN                             NaN   \n",
       "0                        0.872697                        0.017314   \n",
       "0                             NaN                             NaN   \n",
       "0                        0.691438                        0.065034   \n",
       "\n",
       "   perf_grp_false negative rate_1  perf_grp_selection rate_0  \\\n",
       "0                             NaN                        NaN   \n",
       "0                        0.046608                   0.956037   \n",
       "0                             NaN                        NaN   \n",
       "0                        0.131729                   0.868500   \n",
       "\n",
       "   perf_grp_selection rate_1  perf_grp_count_0  perf_grp_count_1  \n",
       "0                        NaN               NaN               NaN  \n",
       "0                   0.883360           20540.0           69170.0  \n",
       "0                        NaN               NaN               NaN  \n",
       "0                   0.714804           20540.0           69170.0  \n",
       "\n",
       "[4 rows x 50 columns]"
      ]
     },
     "execution_count": 79,
     "metadata": {},
     "output_type": "execute_result"
    }
   ],
   "source": [
    "final_output = universe_analysis.generate_final_output(\n",
    "    y_pred_prob=probs_test,\n",
    "    y_test=y_true,\n",
    "    org_test=org_test,\n",
    "    filter_data=filter_sub_universe_data,\n",
    "    cp_metrics_df=cp_metrics_df,\n",
    "    save=True,\n",
    ")\n",
    "final_output"
   ]
  },
  {
   "cell_type": "code",
   "execution_count": null,
   "id": "721ff514-cb11-46f8-b6fc-50392f74b5cb",
   "metadata": {
    "papermill": {
     "duration": 0.028361,
     "end_time": "2025-07-30T21:38:19.156124",
     "exception": false,
     "start_time": "2025-07-30T21:38:19.127763",
     "status": "completed"
    },
    "tags": []
   },
   "outputs": [],
   "source": []
  }
 ],
 "metadata": {
  "celltoolbar": "Tags",
  "kernelspec": {
   "display_name": "Python (CMA Fairness)",
   "language": "python",
   "name": "cma_fair_env"
  },
  "language_info": {
   "codemirror_mode": {
    "name": "ipython",
    "version": 3
   },
   "file_extension": ".py",
   "mimetype": "text/x-python",
   "name": "python",
   "nbconvert_exporter": "python",
   "pygments_lexer": "ipython3",
   "version": "3.10.12"
  },
  "papermill": {
   "default_parameters": {},
   "duration": 43.347453,
   "end_time": "2025-07-30T21:38:20.005017",
   "environment_variables": {},
   "exception": null,
   "input_path": "universe_analysis.ipynb",
   "output_path": "output/runs/14/notebooks/m_14-7ef49888426b28bdba0dd8b636bb74e1.ipynb",
   "parameters": {
    "output_dir": "output",
    "run_no": "14",
    "seed": "2023",
    "universe": "{\"cutoff\": [\"quantile_0.1\", \"quantile_0.25\"], \"eval_fairness_grouping\": [\"majority-minority\", \"nationality-all\"], \"exclude_features\": \"age\", \"exclude_subgroups\": \"keep-all\", \"model\": \"elasticnet\", \"scale\": \"scale\", \"training_size\": \"1k\", \"training_year\": \"2012_14\"}",
    "universe_id": "7ef49888426b28bdba0dd8b636bb74e1"
   },
   "start_time": "2025-07-30T21:37:36.657564",
   "version": "2.6.0"
  }
 },
 "nbformat": 4,
 "nbformat_minor": 5
}