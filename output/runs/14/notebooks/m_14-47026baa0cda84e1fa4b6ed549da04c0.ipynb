{
 "cells": [
  {
   "cell_type": "code",
   "execution_count": 1,
   "id": "f159f837-637b-42ba-96b5-ec9a68c44524",
   "metadata": {
    "execution": {
     "iopub.execute_input": "2025-07-30T21:51:36.971234Z",
     "iopub.status.busy": "2025-07-30T21:51:36.970463Z",
     "iopub.status.idle": "2025-07-30T21:51:36.983954Z",
     "shell.execute_reply": "2025-07-30T21:51:36.983186Z"
    },
    "papermill": {
     "duration": 0.050451,
     "end_time": "2025-07-30T21:51:36.985838",
     "exception": false,
     "start_time": "2025-07-30T21:51:36.935387",
     "status": "completed"
    },
    "tags": []
   },
   "outputs": [
    {
     "name": "stdout",
     "output_type": "stream",
     "text": [
      "/dss/dsshome1/0C/ra93lal2/cma/CMA_Fairness_v2\n"
     ]
    },
    {
     "name": "stderr",
     "output_type": "stream",
     "text": [
      "/dss/dsshome1/0C/ra93lal2/.local/share/virtualenvs/CMA_Fairness_v2-3j10GkSs/lib/python3.10/site-packages/IPython/core/magics/osm.py:393: UserWarning: This is now an optional IPython functionality, using bookmarks requires you to install the `pickleshare` library.\n",
      "  bkms = self.shell.db.get('bookmarks', {})\n",
      "/dss/dsshome1/0C/ra93lal2/.local/share/virtualenvs/CMA_Fairness_v2-3j10GkSs/lib/python3.10/site-packages/IPython/core/magics/osm.py:417: UserWarning: This is now an optional IPython functionality, setting dhist requires you to install the `pickleshare` library.\n",
      "  self.shell.db['dhist'] = compress_dhist(dhist)[-100:]\n"
     ]
    }
   ],
   "source": [
    "%cd ~/cma/CMA_Fairness_v2"
   ]
  },
  {
   "cell_type": "markdown",
   "id": "de2603b9",
   "metadata": {
    "papermill": {
     "duration": 0.025223,
     "end_time": "2025-07-30T21:51:37.036801",
     "exception": false,
     "start_time": "2025-07-30T21:51:37.011578",
     "status": "completed"
    },
    "tags": []
   },
   "source": [
    "The following cell holds the definition of our parameters, these values can be overriden by rendering the with e.g. the following command:\n",
    "\n",
    "papermill -p alpha 0.2 -p ratio 0.3 universe_analysis.ipynb output/test_run.ipynb"
   ]
  },
  {
   "cell_type": "code",
   "execution_count": 2,
   "id": "a80968a0-40bb-4fa9-85ef-2d5eefb01975",
   "metadata": {
    "execution": {
     "iopub.execute_input": "2025-07-30T21:51:37.089211Z",
     "iopub.status.busy": "2025-07-30T21:51:37.088698Z",
     "iopub.status.idle": "2025-07-30T21:51:37.095811Z",
     "shell.execute_reply": "2025-07-30T21:51:37.094659Z"
    },
    "papermill": {
     "duration": 0.035402,
     "end_time": "2025-07-30T21:51:37.097814",
     "exception": false,
     "start_time": "2025-07-30T21:51:37.062412",
     "status": "completed"
    },
    "tags": []
   },
   "outputs": [
    {
     "name": "stdout",
     "output_type": "stream",
     "text": [
      "Current working directory: /dss/dsshome1/0C/ra93lal2/cma/CMA_Fairness_v2\n"
     ]
    }
   ],
   "source": [
    "import os\n",
    "print(\"Current working directory:\", os.getcwd())"
   ]
  },
  {
   "cell_type": "code",
   "execution_count": 3,
   "id": "2dce4c03",
   "metadata": {
    "execution": {
     "iopub.execute_input": "2025-07-30T21:51:37.150740Z",
     "iopub.status.busy": "2025-07-30T21:51:37.150033Z",
     "iopub.status.idle": "2025-07-30T21:51:37.157534Z",
     "shell.execute_reply": "2025-07-30T21:51:37.156511Z"
    },
    "papermill": {
     "duration": 0.035918,
     "end_time": "2025-07-30T21:51:37.159559",
     "exception": false,
     "start_time": "2025-07-30T21:51:37.123641",
     "status": "completed"
    },
    "tags": [
     "parameters"
    ]
   },
   "outputs": [],
   "source": [
    "run_no = 0\n",
    "universe_id = \"test\"\n",
    "universe = {\n",
    "    \"training_size\": \"25k\", # \"25k\", \"5k\", \"1k\"\n",
    "    \"training_year\": \"2014\", # \"2014\", \"2012_14\", \"2010_14\"\n",
    "    \"scale\": \"scale\", # \"scale\", \"do-not-scale\",\n",
    "    #\"stratify_split\": \"target\", # \"none\", \"target\", \"protected-attribute\", \"both\",\n",
    "    \"model\": \"elasticnet\", # \"logreg\", \"penalized_logreg\", \"rf\", \"gbm\", \"elasticnet\"\n",
    "    \"cutoff\": [\"quantile_0.15\", \"quantile_0.30\"],\n",
    "    \"exclude_features\": \"age\", # \"none\", \"nationality\", \"sex\", \"nationality-sex\", \"age\"\n",
    "    \"exclude_subgroups\": \"keep-all\", # \"keep-all\", \"drop-non-german\"\n",
    "    \"eval_fairness_grouping\": [\"majority-minority\", \"nationality-all\"]\n",
    "}\n",
    "\n",
    "output_dir=\"./output\"\n",
    "seed=0"
   ]
  },
  {
   "cell_type": "code",
   "execution_count": 4,
   "id": "2bdd54ff",
   "metadata": {
    "execution": {
     "iopub.execute_input": "2025-07-30T21:51:37.201438Z",
     "iopub.status.busy": "2025-07-30T21:51:37.200946Z",
     "iopub.status.idle": "2025-07-30T21:51:37.206724Z",
     "shell.execute_reply": "2025-07-30T21:51:37.205647Z"
    },
    "papermill": {
     "duration": 0.026119,
     "end_time": "2025-07-30T21:51:37.208380",
     "exception": false,
     "start_time": "2025-07-30T21:51:37.182261",
     "status": "completed"
    },
    "tags": [
     "injected-parameters"
    ]
   },
   "outputs": [],
   "source": [
    "# Parameters\n",
    "universe_id = \"47026baa0cda84e1fa4b6ed549da04c0\"\n",
    "run_no = \"14\"\n",
    "universe = \"{\\\"cutoff\\\": [\\\"quantile_0.1\\\", \\\"quantile_0.25\\\"], \\\"eval_fairness_grouping\\\": [\\\"majority-minority\\\", \\\"nationality-all\\\"], \\\"exclude_features\\\": \\\"age\\\", \\\"exclude_subgroups\\\": \\\"drop-non-german\\\", \\\"model\\\": \\\"rf\\\", \\\"scale\\\": \\\"do-not-scale\\\", \\\"training_size\\\": \\\"1k\\\", \\\"training_year\\\": \\\"2010_14\\\"}\"\n",
    "output_dir = \"output\"\n",
    "seed = \"2023\"\n"
   ]
  },
  {
   "cell_type": "code",
   "execution_count": 5,
   "id": "1650acaf",
   "metadata": {
    "execution": {
     "iopub.execute_input": "2025-07-30T21:51:37.249447Z",
     "iopub.status.busy": "2025-07-30T21:51:37.249113Z",
     "iopub.status.idle": "2025-07-30T21:51:37.253430Z",
     "shell.execute_reply": "2025-07-30T21:51:37.252624Z"
    },
    "papermill": {
     "duration": 0.024554,
     "end_time": "2025-07-30T21:51:37.254772",
     "exception": false,
     "start_time": "2025-07-30T21:51:37.230218",
     "status": "completed"
    },
    "tags": []
   },
   "outputs": [],
   "source": [
    "import json\n",
    "# Parse universe into dict if it is passed as a string\n",
    "if isinstance(universe, str):\n",
    "    universe = json.loads(universe)"
   ]
  },
  {
   "cell_type": "code",
   "execution_count": 6,
   "id": "16620c48",
   "metadata": {
    "execution": {
     "iopub.execute_input": "2025-07-30T21:51:37.278296Z",
     "iopub.status.busy": "2025-07-30T21:51:37.277803Z",
     "iopub.status.idle": "2025-07-30T21:51:37.322946Z",
     "shell.execute_reply": "2025-07-30T21:51:37.321787Z"
    },
    "papermill": {
     "duration": 0.058464,
     "end_time": "2025-07-30T21:51:37.324953",
     "exception": false,
     "start_time": "2025-07-30T21:51:37.266489",
     "status": "completed"
    },
    "tags": []
   },
   "outputs": [],
   "source": [
    "# Auto-reload the custom package\n",
    "%load_ext autoreload\n",
    "%autoreload 1\n",
    "%aimport fairness_multiverse"
   ]
  },
  {
   "cell_type": "code",
   "execution_count": 7,
   "id": "01c5c9f3",
   "metadata": {
    "execution": {
     "iopub.execute_input": "2025-07-30T21:51:37.369574Z",
     "iopub.status.busy": "2025-07-30T21:51:37.368787Z",
     "iopub.status.idle": "2025-07-30T21:51:39.531629Z",
     "shell.execute_reply": "2025-07-30T21:51:39.530744Z"
    },
    "papermill": {
     "duration": 2.188085,
     "end_time": "2025-07-30T21:51:39.533497",
     "exception": false,
     "start_time": "2025-07-30T21:51:37.345412",
     "status": "completed"
    },
    "tags": []
   },
   "outputs": [],
   "source": [
    "from fairness_multiverse.universe import UniverseAnalysis\n",
    "\n",
    "universe_analysis = UniverseAnalysis(\n",
    "    run_no = run_no,\n",
    "    universe_id = universe_id,\n",
    "    universe = universe,\n",
    "    output_dir=output_dir,\n",
    ")"
   ]
  },
  {
   "cell_type": "code",
   "execution_count": 8,
   "id": "106241f5",
   "metadata": {
    "execution": {
     "iopub.execute_input": "2025-07-30T21:51:39.585800Z",
     "iopub.status.busy": "2025-07-30T21:51:39.585245Z",
     "iopub.status.idle": "2025-07-30T21:51:39.591849Z",
     "shell.execute_reply": "2025-07-30T21:51:39.590620Z"
    },
    "papermill": {
     "duration": 0.034019,
     "end_time": "2025-07-30T21:51:39.593920",
     "exception": false,
     "start_time": "2025-07-30T21:51:39.559901",
     "status": "completed"
    },
    "tags": []
   },
   "outputs": [
    {
     "name": "stdout",
     "output_type": "stream",
     "text": [
      "Using Seed: 2023\n"
     ]
    }
   ],
   "source": [
    "import numpy as np\n",
    "parsed_seed = int(seed)\n",
    "np.random.seed(parsed_seed)\n",
    "print(f\"Using Seed: {parsed_seed}\")"
   ]
  },
  {
   "cell_type": "markdown",
   "id": "e0ebdc57",
   "metadata": {
    "papermill": {
     "duration": 0.024124,
     "end_time": "2025-07-30T21:51:39.632354",
     "exception": false,
     "start_time": "2025-07-30T21:51:39.608230",
     "status": "completed"
    },
    "tags": []
   },
   "source": [
    "# Loading Data"
   ]
  },
  {
   "cell_type": "markdown",
   "id": "681925a3",
   "metadata": {
    "papermill": {
     "duration": 0.020809,
     "end_time": "2025-07-30T21:51:39.675212",
     "exception": false,
     "start_time": "2025-07-30T21:51:39.654403",
     "status": "completed"
    },
    "tags": []
   },
   "source": [
    "Load siab_train, siab_test, siab_calib and/or \n",
    "load siab_train_features, siab_train_labels"
   ]
  },
  {
   "cell_type": "code",
   "execution_count": 9,
   "id": "f0496b8a",
   "metadata": {
    "execution": {
     "iopub.execute_input": "2025-07-30T21:51:39.722477Z",
     "iopub.status.busy": "2025-07-30T21:51:39.722021Z",
     "iopub.status.idle": "2025-07-30T21:51:53.388808Z",
     "shell.execute_reply": "2025-07-30T21:51:53.387401Z"
    },
    "papermill": {
     "duration": 13.692019,
     "end_time": "2025-07-30T21:51:53.390404",
     "exception": false,
     "start_time": "2025-07-30T21:51:39.698385",
     "status": "completed"
    },
    "tags": []
   },
   "outputs": [
    {
     "name": "stdout",
     "output_type": "stream",
     "text": [
      "Loading SIAB data from cache: data/siab_cached.csv.gz\n"
     ]
    },
    {
     "name": "stdout",
     "output_type": "stream",
     "text": [
      "(643690, 164)\n"
     ]
    }
   ],
   "source": [
    "from pathlib import Path\n",
    "import pandas as pd\n",
    "\n",
    "# File paths\n",
    "raw_file = Path(\"data/raw/siab.csv\")\n",
    "cache_file = Path(\"data/siab_cached.csv.gz\")\n",
    "\n",
    "# Ensure cache directory exists\n",
    "cache_file.parent.mkdir(parents=True, exist_ok=True)\n",
    "\n",
    "# Load with simple caching\n",
    "if cache_file.exists():\n",
    "    print(f\"Loading SIAB data from cache: {cache_file}\")\n",
    "    siab = pd.read_csv(cache_file, compression='gzip')\n",
    "else:\n",
    "    print(f\"Cache not found. Reading raw SIAB data: {raw_file}\")\n",
    "    siab = pd.read_csv(raw_file)\n",
    "    siab.to_csv(cache_file, index=False, compression='gzip')\n",
    "    print(f\"Cached SIAB data to: {cache_file}\")\n",
    "\n",
    "# Now use `siab` DataFrame as needed\n",
    "print(siab.shape)"
   ]
  },
  {
   "cell_type": "code",
   "execution_count": 10,
   "id": "db0ca512-5f53-4dba-abdb-a2888bca41ba",
   "metadata": {
    "execution": {
     "iopub.execute_input": "2025-07-30T21:51:53.437250Z",
     "iopub.status.busy": "2025-07-30T21:51:53.436482Z",
     "iopub.status.idle": "2025-07-30T21:51:53.442779Z",
     "shell.execute_reply": "2025-07-30T21:51:53.441866Z"
    },
    "papermill": {
     "duration": 0.031288,
     "end_time": "2025-07-30T21:51:53.444443",
     "exception": false,
     "start_time": "2025-07-30T21:51:53.413155",
     "status": "completed"
    },
    "tags": []
   },
   "outputs": [],
   "source": [
    "#siab"
   ]
  },
  {
   "cell_type": "code",
   "execution_count": 11,
   "id": "a0edb063",
   "metadata": {
    "execution": {
     "iopub.execute_input": "2025-07-30T21:51:53.490049Z",
     "iopub.status.busy": "2025-07-30T21:51:53.489580Z",
     "iopub.status.idle": "2025-07-30T21:51:53.495689Z",
     "shell.execute_reply": "2025-07-30T21:51:53.494690Z"
    },
    "papermill": {
     "duration": 0.029904,
     "end_time": "2025-07-30T21:51:53.497434",
     "exception": false,
     "start_time": "2025-07-30T21:51:53.467530",
     "status": "completed"
    },
    "tags": []
   },
   "outputs": [],
   "source": [
    "#import pandas as pd\n",
    "#\n",
    "#X_train = pd.read_csv(\"./data/X_train.csv\")\n",
    "#y_train = pd.read_csv(\"./data/y_train.csv\")"
   ]
  },
  {
   "cell_type": "code",
   "execution_count": 12,
   "id": "63d08085",
   "metadata": {
    "execution": {
     "iopub.execute_input": "2025-07-30T21:51:53.542260Z",
     "iopub.status.busy": "2025-07-30T21:51:53.541582Z",
     "iopub.status.idle": "2025-07-30T21:51:53.547540Z",
     "shell.execute_reply": "2025-07-30T21:51:53.546378Z"
    },
    "papermill": {
     "duration": 0.031151,
     "end_time": "2025-07-30T21:51:53.549430",
     "exception": false,
     "start_time": "2025-07-30T21:51:53.518279",
     "status": "completed"
    },
    "tags": []
   },
   "outputs": [],
   "source": [
    "#X_test = pd.read_csv(\"./data/X_test.csv\")\n",
    "#y_true = pd.read_csv(\"./data/y_test.csv\")"
   ]
  },
  {
   "cell_type": "code",
   "execution_count": 13,
   "id": "98a8d0fa-1d3d-4ed8-bb2c-281470e24add",
   "metadata": {
    "execution": {
     "iopub.execute_input": "2025-07-30T21:51:53.613686Z",
     "iopub.status.busy": "2025-07-30T21:51:53.613079Z",
     "iopub.status.idle": "2025-07-30T21:51:53.618347Z",
     "shell.execute_reply": "2025-07-30T21:51:53.617376Z"
    },
    "papermill": {
     "duration": 0.048984,
     "end_time": "2025-07-30T21:51:53.620168",
     "exception": false,
     "start_time": "2025-07-30T21:51:53.571184",
     "status": "completed"
    },
    "tags": []
   },
   "outputs": [],
   "source": [
    "# Calibration data for conformal\n",
    "#X_calib = pd.read_csv(\"./data/X_calib.csv\")\n",
    "#y_calib = pd.read_csv(\"./data/y_calib.csv\")"
   ]
  },
  {
   "cell_type": "markdown",
   "id": "997051c5-15bd-4b69-9786-c3001a3ce484",
   "metadata": {
    "papermill": {
     "duration": 0.088026,
     "end_time": "2025-07-30T21:51:53.732303",
     "exception": false,
     "start_time": "2025-07-30T21:51:53.644277",
     "status": "completed"
    },
    "tags": []
   },
   "source": [
    "# Splitting Data and Setting Training Data Size"
   ]
  },
  {
   "cell_type": "code",
   "execution_count": 14,
   "id": "e993b61f-042d-41a6-8c81-f55681f86335",
   "metadata": {
    "execution": {
     "iopub.execute_input": "2025-07-30T21:51:53.846742Z",
     "iopub.status.busy": "2025-07-30T21:51:53.846375Z",
     "iopub.status.idle": "2025-07-30T21:51:53.861883Z",
     "shell.execute_reply": "2025-07-30T21:51:53.860629Z"
    },
    "papermill": {
     "duration": 0.059578,
     "end_time": "2025-07-30T21:51:53.863925",
     "exception": false,
     "start_time": "2025-07-30T21:51:53.804347",
     "status": "completed"
    },
    "tags": []
   },
   "outputs": [],
   "source": [
    "def sample_by_year_size(df,\n",
    "                        training_year: str,\n",
    "                        training_size: str,\n",
    "                        random_state: int = 42):\n",
    "    # --- parse training_year into a list of int years ---\n",
    "    if \"_\" in training_year:\n",
    "        start_str, end_str = training_year.split(\"_\", 1)\n",
    "        start = int(start_str)\n",
    "        end   = int(end_str) if len(end_str) == 4 else (int(end_str) + (start // 100)*100)\n",
    "        years = list(range(start, end + 1))\n",
    "    else:\n",
    "        years = [int(training_year)]\n",
    "\n",
    "    df = df[df[\"year\"].isin(years)].reset_index(drop=True)\n",
    "\n",
    "    # --- map training_size to total number of samples ---\n",
    "    total_map = {\"25k\": 25_000, \"5k\": 5_000, \"1k\": 1_000}\n",
    "    if training_size not in total_map:\n",
    "        return df  # e.g. \"all\"\n",
    "\n",
    "    total_samples = total_map[training_size]\n",
    "    n_years       = len(years)\n",
    "    base          = total_samples // n_years\n",
    "    remainder     = total_samples % n_years\n",
    "\n",
    "    # --- build a dict: year -> how many to sample ---\n",
    "    # give +1 to the first `remainder` years in ascending order\n",
    "    quotas = {\n",
    "        year: base + (1 if idx < remainder else 0)\n",
    "        for idx, year in enumerate(sorted(years))\n",
    "    }\n",
    "\n",
    "    # --- sample per‐year according to the quota dict ---\n",
    "    sampled = (\n",
    "        df\n",
    "        .groupby(\"year\", group_keys=False)\n",
    "        .apply(lambda grp: grp.sample(\n",
    "            n=min(len(grp), quotas[grp.name]),\n",
    "            random_state=random_state))\n",
    "        .reset_index(drop=True)\n",
    "    )\n",
    "\n",
    "    return sampled"
   ]
  },
  {
   "cell_type": "code",
   "execution_count": 15,
   "id": "c0ccd338-0e02-41f3-a09d-f56f9266e3fb",
   "metadata": {
    "execution": {
     "iopub.execute_input": "2025-07-30T21:51:53.945946Z",
     "iopub.status.busy": "2025-07-30T21:51:53.945374Z",
     "iopub.status.idle": "2025-07-30T21:51:53.952398Z",
     "shell.execute_reply": "2025-07-30T21:51:53.951045Z"
    },
    "papermill": {
     "duration": 0.067997,
     "end_time": "2025-07-30T21:51:53.953860",
     "exception": false,
     "start_time": "2025-07-30T21:51:53.885863",
     "status": "completed"
    },
    "tags": []
   },
   "outputs": [],
   "source": [
    "#universe[\"training_size\"]"
   ]
  },
  {
   "cell_type": "code",
   "execution_count": 16,
   "id": "ca707fd7-8047-4acd-bfa5-66248fbbf8e6",
   "metadata": {
    "execution": {
     "iopub.execute_input": "2025-07-30T21:51:54.005702Z",
     "iopub.status.busy": "2025-07-30T21:51:54.005231Z",
     "iopub.status.idle": "2025-07-30T21:51:54.010682Z",
     "shell.execute_reply": "2025-07-30T21:51:54.009893Z"
    },
    "papermill": {
     "duration": 0.036711,
     "end_time": "2025-07-30T21:51:54.013047",
     "exception": false,
     "start_time": "2025-07-30T21:51:53.976336",
     "status": "completed"
    },
    "tags": []
   },
   "outputs": [],
   "source": [
    "#universe[\"training_year\"]"
   ]
  },
  {
   "cell_type": "code",
   "execution_count": 17,
   "id": "aea9c6ef-6f46-42c8-85eb-5a62025c1508",
   "metadata": {
    "execution": {
     "iopub.execute_input": "2025-07-30T21:51:54.074037Z",
     "iopub.status.busy": "2025-07-30T21:51:54.073534Z",
     "iopub.status.idle": "2025-07-30T21:51:55.792673Z",
     "shell.execute_reply": "2025-07-30T21:51:55.791400Z"
    },
    "papermill": {
     "duration": 1.749815,
     "end_time": "2025-07-30T21:51:55.795074",
     "exception": false,
     "start_time": "2025-07-30T21:51:54.045259",
     "status": "completed"
    },
    "tags": []
   },
   "outputs": [],
   "source": [
    "siab_train = sample_by_year_size(siab,\n",
    "                               training_year=universe[\"training_year\"],\n",
    "                               training_size=universe[\"training_size\"])"
   ]
  },
  {
   "cell_type": "code",
   "execution_count": 18,
   "id": "8d3afb32-789d-442c-8d5d-9f5aa8dd2eed",
   "metadata": {
    "execution": {
     "iopub.execute_input": "2025-07-30T21:51:55.859622Z",
     "iopub.status.busy": "2025-07-30T21:51:55.858638Z",
     "iopub.status.idle": "2025-07-30T21:51:55.865282Z",
     "shell.execute_reply": "2025-07-30T21:51:55.863997Z"
    },
    "papermill": {
     "duration": 0.039836,
     "end_time": "2025-07-30T21:51:55.867144",
     "exception": false,
     "start_time": "2025-07-30T21:51:55.827308",
     "status": "completed"
    },
    "tags": []
   },
   "outputs": [],
   "source": [
    "#siab_train.shape"
   ]
  },
  {
   "cell_type": "code",
   "execution_count": 19,
   "id": "d582db68-1a4c-47fb-84fc-08518dc1975a",
   "metadata": {
    "execution": {
     "iopub.execute_input": "2025-07-30T21:51:55.916100Z",
     "iopub.status.busy": "2025-07-30T21:51:55.915300Z",
     "iopub.status.idle": "2025-07-30T21:51:55.923203Z",
     "shell.execute_reply": "2025-07-30T21:51:55.922192Z"
    },
    "papermill": {
     "duration": 0.03477,
     "end_time": "2025-07-30T21:51:55.925080",
     "exception": false,
     "start_time": "2025-07-30T21:51:55.890310",
     "status": "completed"
    },
    "tags": []
   },
   "outputs": [],
   "source": [
    "#display(siab_train.groupby(\"year\").size())"
   ]
  },
  {
   "cell_type": "code",
   "execution_count": 20,
   "id": "a561edb4-d032-42cb-8256-22eac1111c64",
   "metadata": {
    "execution": {
     "iopub.execute_input": "2025-07-30T21:51:55.973779Z",
     "iopub.status.busy": "2025-07-30T21:51:55.973273Z",
     "iopub.status.idle": "2025-07-30T21:51:56.228105Z",
     "shell.execute_reply": "2025-07-30T21:51:56.226877Z"
    },
    "papermill": {
     "duration": 0.281766,
     "end_time": "2025-07-30T21:51:56.230414",
     "exception": false,
     "start_time": "2025-07-30T21:51:55.948648",
     "status": "completed"
    },
    "tags": []
   },
   "outputs": [],
   "source": [
    "#siab_train = siab_s[siab_s.year < 2015]\n",
    "siab_calib = siab[siab.year == 2015]\n",
    "siab_test = siab[siab.year == 2016]"
   ]
  },
  {
   "cell_type": "code",
   "execution_count": 21,
   "id": "472de16f-c3db-4916-846b-1f0de9cf1746",
   "metadata": {
    "execution": {
     "iopub.execute_input": "2025-07-30T21:51:56.262357Z",
     "iopub.status.busy": "2025-07-30T21:51:56.261869Z",
     "iopub.status.idle": "2025-07-30T21:51:56.267928Z",
     "shell.execute_reply": "2025-07-30T21:51:56.267234Z"
    },
    "papermill": {
     "duration": 0.020242,
     "end_time": "2025-07-30T21:51:56.269465",
     "exception": false,
     "start_time": "2025-07-30T21:51:56.249223",
     "status": "completed"
    },
    "tags": []
   },
   "outputs": [],
   "source": [
    "X_train = siab_train.iloc[:,4:164]\n",
    "y_train = siab_train.iloc[:, [3]]"
   ]
  },
  {
   "cell_type": "code",
   "execution_count": 22,
   "id": "828c96af-f43a-4ed6-ba47-8ac73a47d56c",
   "metadata": {
    "execution": {
     "iopub.execute_input": "2025-07-30T21:51:56.305639Z",
     "iopub.status.busy": "2025-07-30T21:51:56.305142Z",
     "iopub.status.idle": "2025-07-30T21:51:56.360870Z",
     "shell.execute_reply": "2025-07-30T21:51:56.359958Z"
    },
    "papermill": {
     "duration": 0.081151,
     "end_time": "2025-07-30T21:51:56.362786",
     "exception": false,
     "start_time": "2025-07-30T21:51:56.281635",
     "status": "completed"
    },
    "tags": []
   },
   "outputs": [],
   "source": [
    "X_calib = siab_calib.iloc[:,4:164]\n",
    "y_calib = siab_calib.iloc[:, [3]]"
   ]
  },
  {
   "cell_type": "code",
   "execution_count": 23,
   "id": "c34be9c3-6bd6-476e-acd3-845840e303be",
   "metadata": {
    "execution": {
     "iopub.execute_input": "2025-07-30T21:51:56.410558Z",
     "iopub.status.busy": "2025-07-30T21:51:56.410167Z",
     "iopub.status.idle": "2025-07-30T21:51:56.592117Z",
     "shell.execute_reply": "2025-07-30T21:51:56.591256Z"
    },
    "papermill": {
     "duration": 0.20527,
     "end_time": "2025-07-30T21:51:56.593697",
     "exception": false,
     "start_time": "2025-07-30T21:51:56.388427",
     "status": "completed"
    },
    "tags": []
   },
   "outputs": [],
   "source": [
    "X_test = siab_test.iloc[:,4:164]\n",
    "y_true = siab_test.iloc[:, [3]]"
   ]
  },
  {
   "cell_type": "markdown",
   "id": "9901737e-04df-44f0-9100-f5ad144ed040",
   "metadata": {
    "papermill": {
     "duration": 0.011538,
     "end_time": "2025-07-30T21:51:56.619950",
     "exception": false,
     "start_time": "2025-07-30T21:51:56.608412",
     "status": "completed"
    },
    "tags": []
   },
   "source": [
    "# Splitting Data and Setting Training Data Size OLD VERSION"
   ]
  },
  {
   "cell_type": "code",
   "execution_count": 24,
   "id": "acbc8f7d-8fc8-4e86-8c59-5dcb0f58384b",
   "metadata": {
    "execution": {
     "iopub.execute_input": "2025-07-30T21:51:56.670584Z",
     "iopub.status.busy": "2025-07-30T21:51:56.669967Z",
     "iopub.status.idle": "2025-07-30T21:51:56.675901Z",
     "shell.execute_reply": "2025-07-30T21:51:56.674934Z"
    },
    "papermill": {
     "duration": 0.038363,
     "end_time": "2025-07-30T21:51:56.677764",
     "exception": false,
     "start_time": "2025-07-30T21:51:56.639401",
     "status": "completed"
    },
    "tags": []
   },
   "outputs": [],
   "source": [
    "#def sample_by_year(df, training_size, random_state=42):\n",
    "#    if training_size == \"2014\":\n",
    "#        return df[df[\"year\"] == 2014].reset_index(drop=True)\n",
    "#    \n",
    "#    size_map = {\n",
    "#        \"25k\": 5000,\n",
    "#        \"5k\": 1000,\n",
    "#        \"1k\": 200\n",
    "#    }\n",
    "#\n",
    "#    if training_size not in size_map:\n",
    "#        return df.reset_index(drop=True)  # use all data\n",
    "#\n",
    "#    n_per_year = size_map[training_size]\n",
    "#    grouped = df.groupby(\"year\")\n",
    "#    sampled = grouped.apply(lambda x: x.sample(n=min(n_per_year, len(x)), random_state=random_state))\n",
    "#    return sampled.reset_index(drop=True)"
   ]
  },
  {
   "cell_type": "code",
   "execution_count": 25,
   "id": "6d931f52-beaf-43ff-9e78-9d44a448d54e",
   "metadata": {
    "execution": {
     "iopub.execute_input": "2025-07-30T21:51:56.734279Z",
     "iopub.status.busy": "2025-07-30T21:51:56.733891Z",
     "iopub.status.idle": "2025-07-30T21:51:56.739365Z",
     "shell.execute_reply": "2025-07-30T21:51:56.738194Z"
    },
    "papermill": {
     "duration": 0.033518,
     "end_time": "2025-07-30T21:51:56.740833",
     "exception": false,
     "start_time": "2025-07-30T21:51:56.707315",
     "status": "completed"
    },
    "tags": []
   },
   "outputs": [],
   "source": [
    "#siab_s = sample_by_year(siab, universe[\"training_size\"])"
   ]
  },
  {
   "cell_type": "code",
   "execution_count": 26,
   "id": "5db0a40e-a4e2-4920-be85-b12ae061d70d",
   "metadata": {
    "execution": {
     "iopub.execute_input": "2025-07-30T21:51:56.791634Z",
     "iopub.status.busy": "2025-07-30T21:51:56.790903Z",
     "iopub.status.idle": "2025-07-30T21:51:56.796645Z",
     "shell.execute_reply": "2025-07-30T21:51:56.795468Z"
    },
    "papermill": {
     "duration": 0.033924,
     "end_time": "2025-07-30T21:51:56.798476",
     "exception": false,
     "start_time": "2025-07-30T21:51:56.764552",
     "status": "completed"
    },
    "tags": []
   },
   "outputs": [],
   "source": [
    "#display(siab_s.groupby(\"year\").size())"
   ]
  },
  {
   "cell_type": "code",
   "execution_count": 27,
   "id": "e6c733c5",
   "metadata": {
    "execution": {
     "iopub.execute_input": "2025-07-30T21:51:56.838541Z",
     "iopub.status.busy": "2025-07-30T21:51:56.837840Z",
     "iopub.status.idle": "2025-07-30T21:51:56.943009Z",
     "shell.execute_reply": "2025-07-30T21:51:56.941980Z"
    },
    "papermill": {
     "duration": 0.124699,
     "end_time": "2025-07-30T21:51:56.944876",
     "exception": false,
     "start_time": "2025-07-30T21:51:56.820177",
     "status": "completed"
    },
    "tags": []
   },
   "outputs": [],
   "source": [
    "# Auxiliary data needed downstream in the pipeline\n",
    "\n",
    "org_train = X_train.copy()\n",
    "org_test = X_test.copy()\n",
    "org_calib = X_calib.copy()"
   ]
  },
  {
   "cell_type": "code",
   "execution_count": 28,
   "id": "1466abac-c6da-4492-a62f-4240ae3783af",
   "metadata": {
    "execution": {
     "iopub.execute_input": "2025-07-30T21:51:56.995333Z",
     "iopub.status.busy": "2025-07-30T21:51:56.994536Z",
     "iopub.status.idle": "2025-07-30T21:51:57.001852Z",
     "shell.execute_reply": "2025-07-30T21:51:57.000432Z"
    },
    "papermill": {
     "duration": 0.041036,
     "end_time": "2025-07-30T21:51:57.003909",
     "exception": false,
     "start_time": "2025-07-30T21:51:56.962873",
     "status": "completed"
    },
    "tags": []
   },
   "outputs": [],
   "source": [
    "# put in other script?\n",
    "# Group sizes\n",
    "\n",
    "#def calculate_percentages(df, df_name):\n",
    "#    total_entries = len(df)\n",
    "#\n",
    "#    female_pct = (df['frau1'] == 1).mean() * 100\n",
    "#    non_german_pct = ((df['maxdeutsch1'] == 0) & (df['maxdeutsch.Missing.'] == 0)).mean() * 100\n",
    "#    non_german_male_pct = ((df['frau1'] == 0) & (df['maxdeutsch1'] == 0) & (df['maxdeutsch.Missing.'] == 0)).mean() * 100\n",
    "#    non_german_female_pct = ((df['frau1'] == 1) & (df['maxdeutsch1'] == 0) & (df['maxdeutsch.Missing.'] == 0)).mean() * 100\n",
    "#\n",
    "#    print(f\"--- {df_name} ---\")\n",
    "#    print(f\"Female: {female_pct:.2f}%\")\n",
    "#    print(f\"Non-German: {non_german_pct:.2f}%\")\n",
    "#    print(f\"Non-German Male: {non_german_male_pct:.2f}%\")\n",
    "#    print(f\"Non-German Female: {non_german_female_pct:.2f}%\\n\")\n",
    "#\n",
    "## Calculate for each DataFrame\n",
    "#calculate_percentages(siab_calib, \"siab_calib\")\n",
    "#calculate_percentages(siab_test, \"siab_test\")\n",
    "#calculate_percentages(siab_train, \"siab_train\")"
   ]
  },
  {
   "cell_type": "markdown",
   "id": "0a4a1b33",
   "metadata": {
    "papermill": {
     "duration": 0.028621,
     "end_time": "2025-07-30T21:51:57.064497",
     "exception": false,
     "start_time": "2025-07-30T21:51:57.035876",
     "status": "completed"
    },
    "tags": []
   },
   "source": [
    "# Preprocessing Data"
   ]
  },
  {
   "cell_type": "code",
   "execution_count": 29,
   "id": "ca879031",
   "metadata": {
    "execution": {
     "iopub.execute_input": "2025-07-30T21:51:57.125539Z",
     "iopub.status.busy": "2025-07-30T21:51:57.124489Z",
     "iopub.status.idle": "2025-07-30T21:51:57.132321Z",
     "shell.execute_reply": "2025-07-30T21:51:57.131034Z"
    },
    "papermill": {
     "duration": 0.039641,
     "end_time": "2025-07-30T21:51:57.134108",
     "exception": false,
     "start_time": "2025-07-30T21:51:57.094467",
     "status": "completed"
    },
    "tags": []
   },
   "outputs": [],
   "source": [
    "# EXCLUDE PROTECTED FEATURES\n",
    "# ----------------------\n",
    "# \"exclude_features\": \"none\", # \"nationality\", \"sex\", \"nationality-sex\"\n",
    "\n",
    "excluded_features = universe[\"exclude_features\"].split(\"-\") # split, e.g.: \"nationality-sex\" -> [\"nationality\", \"sex\"]\n",
    "excluded_features_dictionary = {\n",
    "    \"nationality\": [\"maxdeutsch1\", \"maxdeutsch.Missing.\"],\n",
    "    \"sex\": [\"frau1\"],\n",
    "    \"age\": [\"age\"],\n",
    "}\n"
   ]
  },
  {
   "cell_type": "code",
   "execution_count": 30,
   "id": "b745ac60",
   "metadata": {
    "execution": {
     "iopub.execute_input": "2025-07-30T21:51:57.185972Z",
     "iopub.status.busy": "2025-07-30T21:51:57.185407Z",
     "iopub.status.idle": "2025-07-30T21:51:57.191774Z",
     "shell.execute_reply": "2025-07-30T21:51:57.190574Z"
    },
    "papermill": {
     "duration": 0.033659,
     "end_time": "2025-07-30T21:51:57.193274",
     "exception": false,
     "start_time": "2025-07-30T21:51:57.159615",
     "status": "completed"
    },
    "tags": []
   },
   "outputs": [],
   "source": [
    "# Code nice names to column names\n",
    "\n",
    "excluded_features_columns = [\n",
    "    excluded_features_dictionary[f] for f in excluded_features if len(f) > 0 and f != \"none\"\n",
    "]"
   ]
  },
  {
   "cell_type": "code",
   "execution_count": 31,
   "id": "f84f73a2",
   "metadata": {
    "execution": {
     "iopub.execute_input": "2025-07-30T21:51:57.221558Z",
     "iopub.status.busy": "2025-07-30T21:51:57.220799Z",
     "iopub.status.idle": "2025-07-30T21:51:57.229142Z",
     "shell.execute_reply": "2025-07-30T21:51:57.227799Z"
    },
    "papermill": {
     "duration": 0.024085,
     "end_time": "2025-07-30T21:51:57.231030",
     "exception": false,
     "start_time": "2025-07-30T21:51:57.206945",
     "status": "completed"
    },
    "tags": []
   },
   "outputs": [],
   "source": [
    "from utils import flatten_once\n",
    "\n",
    "excluded_features_columns = flatten_once(excluded_features_columns)"
   ]
  },
  {
   "cell_type": "code",
   "execution_count": 32,
   "id": "884dea22",
   "metadata": {
    "execution": {
     "iopub.execute_input": "2025-07-30T21:51:57.279203Z",
     "iopub.status.busy": "2025-07-30T21:51:57.278479Z",
     "iopub.status.idle": "2025-07-30T21:51:57.291330Z",
     "shell.execute_reply": "2025-07-30T21:51:57.290148Z"
    },
    "papermill": {
     "duration": 0.04003,
     "end_time": "2025-07-30T21:51:57.292955",
     "exception": false,
     "start_time": "2025-07-30T21:51:57.252925",
     "status": "completed"
    },
    "tags": []
   },
   "outputs": [
    {
     "name": "stdout",
     "output_type": "stream",
     "text": [
      "Dropping features: ['age']\n"
     ]
    }
   ],
   "source": [
    "if len(excluded_features_columns) > 0:\n",
    "    print(f\"Dropping features: {excluded_features_columns}\")\n",
    "    X_train.drop(excluded_features_columns, axis=1, inplace=True)"
   ]
  },
  {
   "cell_type": "code",
   "execution_count": 33,
   "id": "95ab8b16",
   "metadata": {
    "execution": {
     "iopub.execute_input": "2025-07-30T21:51:57.335753Z",
     "iopub.status.busy": "2025-07-30T21:51:57.335394Z",
     "iopub.status.idle": "2025-07-30T21:51:57.402461Z",
     "shell.execute_reply": "2025-07-30T21:51:57.400893Z"
    },
    "papermill": {
     "duration": 0.090161,
     "end_time": "2025-07-30T21:51:57.404993",
     "exception": false,
     "start_time": "2025-07-30T21:51:57.314832",
     "status": "completed"
    },
    "tags": []
   },
   "outputs": [
    {
     "name": "stdout",
     "output_type": "stream",
     "text": [
      "Dropping features: ['age']\n"
     ]
    }
   ],
   "source": [
    "if len(excluded_features_columns) > 0:\n",
    "    print(f\"Dropping features: {excluded_features_columns}\")\n",
    "    X_test.drop(excluded_features_columns, axis=1, inplace=True)"
   ]
  },
  {
   "cell_type": "code",
   "execution_count": 34,
   "id": "1853aaf5-fb9f-46cb-a2b5-8ea4ae2237e4",
   "metadata": {
    "execution": {
     "iopub.execute_input": "2025-07-30T21:51:57.458860Z",
     "iopub.status.busy": "2025-07-30T21:51:57.458141Z",
     "iopub.status.idle": "2025-07-30T21:51:57.510132Z",
     "shell.execute_reply": "2025-07-30T21:51:57.509320Z"
    },
    "papermill": {
     "duration": 0.080551,
     "end_time": "2025-07-30T21:51:57.511727",
     "exception": false,
     "start_time": "2025-07-30T21:51:57.431176",
     "status": "completed"
    },
    "tags": []
   },
   "outputs": [
    {
     "name": "stdout",
     "output_type": "stream",
     "text": [
      "Dropping features: ['age']\n"
     ]
    }
   ],
   "source": [
    "if len(excluded_features_columns) > 0:\n",
    "    print(f\"Dropping features: {excluded_features_columns}\")\n",
    "    X_calib.drop(excluded_features_columns, axis=1, inplace=True)"
   ]
  },
  {
   "cell_type": "code",
   "execution_count": 35,
   "id": "6727d079-03e5-481e-9d38-292a90b7a0a8",
   "metadata": {
    "execution": {
     "iopub.execute_input": "2025-07-30T21:51:57.540538Z",
     "iopub.status.busy": "2025-07-30T21:51:57.540059Z",
     "iopub.status.idle": "2025-07-30T21:51:57.544276Z",
     "shell.execute_reply": "2025-07-30T21:51:57.543418Z"
    },
    "papermill": {
     "duration": 0.020816,
     "end_time": "2025-07-30T21:51:57.545502",
     "exception": false,
     "start_time": "2025-07-30T21:51:57.524686",
     "status": "completed"
    },
    "tags": []
   },
   "outputs": [],
   "source": [
    "# SPLIT & STRATIFY DATA\n",
    "# ----------------------"
   ]
  },
  {
   "cell_type": "code",
   "execution_count": 36,
   "id": "76c4dc6d",
   "metadata": {
    "execution": {
     "iopub.execute_input": "2025-07-30T21:51:57.574695Z",
     "iopub.status.busy": "2025-07-30T21:51:57.574171Z",
     "iopub.status.idle": "2025-07-30T21:51:57.579263Z",
     "shell.execute_reply": "2025-07-30T21:51:57.578439Z"
    },
    "papermill": {
     "duration": 0.022308,
     "end_time": "2025-07-30T21:51:57.580694",
     "exception": false,
     "start_time": "2025-07-30T21:51:57.558386",
     "status": "completed"
    },
    "tags": []
   },
   "outputs": [],
   "source": [
    "# EXCLUDE CERTAIN SUBGROUPS\n",
    "# ----------------------\n",
    "\n",
    "mode = universe.get(\"exclude_subgroups\", \"keep-all\") \n",
    "# Fetches the exclude_subgroups setting from the universe dict.\n",
    "# Defaults to \"keep-all\" if the key is missing."
   ]
  },
  {
   "cell_type": "code",
   "execution_count": 37,
   "id": "21994072",
   "metadata": {
    "execution": {
     "iopub.execute_input": "2025-07-30T21:51:57.608852Z",
     "iopub.status.busy": "2025-07-30T21:51:57.608255Z",
     "iopub.status.idle": "2025-07-30T21:51:57.614157Z",
     "shell.execute_reply": "2025-07-30T21:51:57.613289Z"
    },
    "papermill": {
     "duration": 0.021509,
     "end_time": "2025-07-30T21:51:57.615486",
     "exception": false,
     "start_time": "2025-07-30T21:51:57.593977",
     "status": "completed"
    },
    "tags": []
   },
   "outputs": [],
   "source": [
    "if mode == \"keep-all\":\n",
    "    keep_mask = pd.Series(True, index=org_train.index)\n",
    "\n",
    "# org_train contains the original feature columns from features_org (in Simson)\n",
    "# features_org contains unprocessed features, for me X_train at beginning ???\n",
    "# For keep-all, creates a boolean Series (keep_mask) of all True, so no rows are removed.\n",
    "\n",
    "elif mode == \"drop-non-german\":\n",
    "    keep_mask = org_train[\"maxdeutsch1\"] == 1 # ??? what about missing values?\n",
    "\n",
    "else:\n",
    "    raise ValueError(f\"Unsupported mode for exclude_subgroups: {mode}\")\n"
   ]
  },
  {
   "cell_type": "code",
   "execution_count": 38,
   "id": "71651440",
   "metadata": {
    "execution": {
     "iopub.execute_input": "2025-07-30T21:51:57.642290Z",
     "iopub.status.busy": "2025-07-30T21:51:57.641824Z",
     "iopub.status.idle": "2025-07-30T21:51:57.649500Z",
     "shell.execute_reply": "2025-07-30T21:51:57.648397Z"
    },
    "papermill": {
     "duration": 0.023341,
     "end_time": "2025-07-30T21:51:57.651890",
     "exception": false,
     "start_time": "2025-07-30T21:51:57.628549",
     "status": "completed"
    },
    "tags": []
   },
   "outputs": [
    {
     "name": "stdout",
     "output_type": "stream",
     "text": [
      "Dropping 131 rows (13.10%) where mode='drop-non-german'\n"
     ]
    }
   ],
   "source": [
    "n_drop = (~keep_mask).sum() # Calculates how many rows are set to be dropped\n",
    "if n_drop > 0:\n",
    "    pct = n_drop / len(keep_mask) * 100\n",
    "    print(f\"Dropping {n_drop} rows ({pct:.2f}%) where mode='{mode}'\")"
   ]
  },
  {
   "cell_type": "code",
   "execution_count": 39,
   "id": "5fb8eee5",
   "metadata": {
    "execution": {
     "iopub.execute_input": "2025-07-30T21:51:57.701158Z",
     "iopub.status.busy": "2025-07-30T21:51:57.700599Z",
     "iopub.status.idle": "2025-07-30T21:51:57.708576Z",
     "shell.execute_reply": "2025-07-30T21:51:57.707076Z"
    },
    "papermill": {
     "duration": 0.043569,
     "end_time": "2025-07-30T21:51:57.718328",
     "exception": false,
     "start_time": "2025-07-30T21:51:57.674759",
     "status": "completed"
    },
    "tags": []
   },
   "outputs": [],
   "source": [
    "X_train = X_train[keep_mask]"
   ]
  },
  {
   "cell_type": "code",
   "execution_count": 40,
   "id": "b202bb3a",
   "metadata": {
    "execution": {
     "iopub.execute_input": "2025-07-30T21:51:57.785798Z",
     "iopub.status.busy": "2025-07-30T21:51:57.785362Z",
     "iopub.status.idle": "2025-07-30T21:51:57.792401Z",
     "shell.execute_reply": "2025-07-30T21:51:57.791218Z"
    },
    "papermill": {
     "duration": 0.04322,
     "end_time": "2025-07-30T21:51:57.796144",
     "exception": false,
     "start_time": "2025-07-30T21:51:57.752924",
     "status": "completed"
    },
    "tags": []
   },
   "outputs": [],
   "source": [
    "y_train = y_train[keep_mask]"
   ]
  },
  {
   "cell_type": "markdown",
   "id": "493e2ac3",
   "metadata": {
    "papermill": {
     "duration": 0.027511,
     "end_time": "2025-07-30T21:51:57.851081",
     "exception": false,
     "start_time": "2025-07-30T21:51:57.823570",
     "status": "completed"
    },
    "tags": []
   },
   "source": [
    "# Model Training"
   ]
  },
  {
   "cell_type": "code",
   "execution_count": 41,
   "id": "679e1268",
   "metadata": {
    "execution": {
     "iopub.execute_input": "2025-07-30T21:51:58.021864Z",
     "iopub.status.busy": "2025-07-30T21:51:58.021375Z",
     "iopub.status.idle": "2025-07-30T21:51:58.216729Z",
     "shell.execute_reply": "2025-07-30T21:51:58.198026Z"
    },
    "papermill": {
     "duration": 0.343895,
     "end_time": "2025-07-30T21:51:58.221630",
     "exception": false,
     "start_time": "2025-07-30T21:51:57.877735",
     "status": "completed"
    },
    "tags": []
   },
   "outputs": [],
   "source": [
    "from sklearn.linear_model import LogisticRegression\n",
    "from sklearn.ensemble import GradientBoostingClassifier, RandomForestClassifier\n",
    "\n",
    "if (universe[\"model\"] == \"logreg\"):\n",
    "    model = LogisticRegression() #penalty=\"none\") #, solver=\"newton-cg\", max_iter=1) # include random_state=19 ?\n",
    "elif (universe[\"model\"] == \"penalized_logreg\"):\n",
    "    model = LogisticRegression(penalty=\"l2\", C=1.0) #, solver=\"newton-cg\", max_iter=1)\n",
    "elif (universe[\"model\"] == \"rf\"):\n",
    "    model = RandomForestClassifier(n_estimators=100, n_jobs=-1)\n",
    "elif (universe[\"model\"] == \"gbm\"):\n",
    "    model = GradientBoostingClassifier()\n",
    "elif (universe[\"model\"] == \"elasticnet\"):\n",
    "    model = LogisticRegression(penalty = 'elasticnet', solver = 'saga', l1_ratio = 0.5, max_iter=5000) # which solver to use?\n",
    "else:\n",
    "    raise \"Unsupported universe.model\""
   ]
  },
  {
   "cell_type": "code",
   "execution_count": 42,
   "id": "0cc8f744",
   "metadata": {
    "execution": {
     "iopub.execute_input": "2025-07-30T21:51:58.303350Z",
     "iopub.status.busy": "2025-07-30T21:51:58.302400Z",
     "iopub.status.idle": "2025-07-30T21:51:58.309622Z",
     "shell.execute_reply": "2025-07-30T21:51:58.308280Z"
    },
    "papermill": {
     "duration": 0.035745,
     "end_time": "2025-07-30T21:51:58.311627",
     "exception": false,
     "start_time": "2025-07-30T21:51:58.275882",
     "status": "completed"
    },
    "tags": []
   },
   "outputs": [],
   "source": [
    "import numpy as np\n",
    "from sklearn.pipeline import Pipeline\n",
    "from sklearn.preprocessing import StandardScaler\n",
    "\n",
    "model = Pipeline([\n",
    "    #(\"continuous_processor\", continuous_processor),\n",
    "    #(\"categorical_preprocessor\", categorical_preprocessor),\n",
    "    (\"scale\", StandardScaler() if universe[\"scale\"] == \"scale\" else None), \n",
    "    (\"model\", model),\n",
    "])"
   ]
  },
  {
   "cell_type": "code",
   "execution_count": 43,
   "id": "9442c04d",
   "metadata": {
    "execution": {
     "iopub.execute_input": "2025-07-30T21:51:58.376073Z",
     "iopub.status.busy": "2025-07-30T21:51:58.375698Z",
     "iopub.status.idle": "2025-07-30T21:51:58.925561Z",
     "shell.execute_reply": "2025-07-30T21:51:58.924562Z"
    },
    "papermill": {
     "duration": 0.585795,
     "end_time": "2025-07-30T21:51:58.927446",
     "exception": false,
     "start_time": "2025-07-30T21:51:58.341651",
     "status": "completed"
    },
    "tags": []
   },
   "outputs": [
    {
     "data": {
      "text/html": [
       "<style>#sk-container-id-1 {color: black;background-color: white;}#sk-container-id-1 pre{padding: 0;}#sk-container-id-1 div.sk-toggleable {background-color: white;}#sk-container-id-1 label.sk-toggleable__label {cursor: pointer;display: block;width: 100%;margin-bottom: 0;padding: 0.3em;box-sizing: border-box;text-align: center;}#sk-container-id-1 label.sk-toggleable__label-arrow:before {content: \"▸\";float: left;margin-right: 0.25em;color: #696969;}#sk-container-id-1 label.sk-toggleable__label-arrow:hover:before {color: black;}#sk-container-id-1 div.sk-estimator:hover label.sk-toggleable__label-arrow:before {color: black;}#sk-container-id-1 div.sk-toggleable__content {max-height: 0;max-width: 0;overflow: hidden;text-align: left;background-color: #f0f8ff;}#sk-container-id-1 div.sk-toggleable__content pre {margin: 0.2em;color: black;border-radius: 0.25em;background-color: #f0f8ff;}#sk-container-id-1 input.sk-toggleable__control:checked~div.sk-toggleable__content {max-height: 200px;max-width: 100%;overflow: auto;}#sk-container-id-1 input.sk-toggleable__control:checked~label.sk-toggleable__label-arrow:before {content: \"▾\";}#sk-container-id-1 div.sk-estimator input.sk-toggleable__control:checked~label.sk-toggleable__label {background-color: #d4ebff;}#sk-container-id-1 div.sk-label input.sk-toggleable__control:checked~label.sk-toggleable__label {background-color: #d4ebff;}#sk-container-id-1 input.sk-hidden--visually {border: 0;clip: rect(1px 1px 1px 1px);clip: rect(1px, 1px, 1px, 1px);height: 1px;margin: -1px;overflow: hidden;padding: 0;position: absolute;width: 1px;}#sk-container-id-1 div.sk-estimator {font-family: monospace;background-color: #f0f8ff;border: 1px dotted black;border-radius: 0.25em;box-sizing: border-box;margin-bottom: 0.5em;}#sk-container-id-1 div.sk-estimator:hover {background-color: #d4ebff;}#sk-container-id-1 div.sk-parallel-item::after {content: \"\";width: 100%;border-bottom: 1px solid gray;flex-grow: 1;}#sk-container-id-1 div.sk-label:hover label.sk-toggleable__label {background-color: #d4ebff;}#sk-container-id-1 div.sk-serial::before {content: \"\";position: absolute;border-left: 1px solid gray;box-sizing: border-box;top: 0;bottom: 0;left: 50%;z-index: 0;}#sk-container-id-1 div.sk-serial {display: flex;flex-direction: column;align-items: center;background-color: white;padding-right: 0.2em;padding-left: 0.2em;position: relative;}#sk-container-id-1 div.sk-item {position: relative;z-index: 1;}#sk-container-id-1 div.sk-parallel {display: flex;align-items: stretch;justify-content: center;background-color: white;position: relative;}#sk-container-id-1 div.sk-item::before, #sk-container-id-1 div.sk-parallel-item::before {content: \"\";position: absolute;border-left: 1px solid gray;box-sizing: border-box;top: 0;bottom: 0;left: 50%;z-index: -1;}#sk-container-id-1 div.sk-parallel-item {display: flex;flex-direction: column;z-index: 1;position: relative;background-color: white;}#sk-container-id-1 div.sk-parallel-item:first-child::after {align-self: flex-end;width: 50%;}#sk-container-id-1 div.sk-parallel-item:last-child::after {align-self: flex-start;width: 50%;}#sk-container-id-1 div.sk-parallel-item:only-child::after {width: 0;}#sk-container-id-1 div.sk-dashed-wrapped {border: 1px dashed gray;margin: 0 0.4em 0.5em 0.4em;box-sizing: border-box;padding-bottom: 0.4em;background-color: white;}#sk-container-id-1 div.sk-label label {font-family: monospace;font-weight: bold;display: inline-block;line-height: 1.2em;}#sk-container-id-1 div.sk-label-container {text-align: center;}#sk-container-id-1 div.sk-container {/* jupyter's `normalize.less` sets `[hidden] { display: none; }` but bootstrap.min.css set `[hidden] { display: none !important; }` so we also need the `!important` here to be able to override the default hidden behavior on the sphinx rendered scikit-learn.org. See: https://github.com/scikit-learn/scikit-learn/issues/21755 */display: inline-block !important;position: relative;}#sk-container-id-1 div.sk-text-repr-fallback {display: none;}</style><div id=\"sk-container-id-1\" class=\"sk-top-container\"><div class=\"sk-text-repr-fallback\"><pre>Pipeline(steps=[(&#x27;scale&#x27;, None), (&#x27;model&#x27;, RandomForestClassifier(n_jobs=-1))])</pre><b>In a Jupyter environment, please rerun this cell to show the HTML representation or trust the notebook. <br />On GitHub, the HTML representation is unable to render, please try loading this page with nbviewer.org.</b></div><div class=\"sk-container\" hidden><div class=\"sk-item sk-dashed-wrapped\"><div class=\"sk-label-container\"><div class=\"sk-label sk-toggleable\"><input class=\"sk-toggleable__control sk-hidden--visually\" id=\"sk-estimator-id-1\" type=\"checkbox\" ><label for=\"sk-estimator-id-1\" class=\"sk-toggleable__label sk-toggleable__label-arrow\">Pipeline</label><div class=\"sk-toggleable__content\"><pre>Pipeline(steps=[(&#x27;scale&#x27;, None), (&#x27;model&#x27;, RandomForestClassifier(n_jobs=-1))])</pre></div></div></div><div class=\"sk-serial\"><div class=\"sk-item\"><div class=\"sk-estimator sk-toggleable\"><input class=\"sk-toggleable__control sk-hidden--visually\" id=\"sk-estimator-id-2\" type=\"checkbox\" ><label for=\"sk-estimator-id-2\" class=\"sk-toggleable__label sk-toggleable__label-arrow\">None</label><div class=\"sk-toggleable__content\"><pre>None</pre></div></div></div><div class=\"sk-item\"><div class=\"sk-estimator sk-toggleable\"><input class=\"sk-toggleable__control sk-hidden--visually\" id=\"sk-estimator-id-3\" type=\"checkbox\" ><label for=\"sk-estimator-id-3\" class=\"sk-toggleable__label sk-toggleable__label-arrow\">RandomForestClassifier</label><div class=\"sk-toggleable__content\"><pre>RandomForestClassifier(n_jobs=-1)</pre></div></div></div></div></div></div></div>"
      ],
      "text/plain": [
       "Pipeline(steps=[('scale', None), ('model', RandomForestClassifier(n_jobs=-1))])"
      ]
     },
     "execution_count": 43,
     "metadata": {},
     "output_type": "execute_result"
    }
   ],
   "source": [
    "model.fit(X_train, y_train.values.ravel())"
   ]
  },
  {
   "cell_type": "code",
   "execution_count": 44,
   "id": "af59f8c0",
   "metadata": {
    "execution": {
     "iopub.execute_input": "2025-07-30T21:51:59.010314Z",
     "iopub.status.busy": "2025-07-30T21:51:59.009931Z",
     "iopub.status.idle": "2025-07-30T21:51:59.015874Z",
     "shell.execute_reply": "2025-07-30T21:51:59.014747Z"
    },
    "papermill": {
     "duration": 0.050233,
     "end_time": "2025-07-30T21:51:59.018529",
     "exception": false,
     "start_time": "2025-07-30T21:51:58.968296",
     "status": "completed"
    },
    "tags": []
   },
   "outputs": [],
   "source": [
    "from fairness_multiverse.universe import predict_w_threshold"
   ]
  },
  {
   "cell_type": "code",
   "execution_count": 45,
   "id": "a7cf2e16",
   "metadata": {
    "execution": {
     "iopub.execute_input": "2025-07-30T21:51:59.063615Z",
     "iopub.status.busy": "2025-07-30T21:51:59.063200Z",
     "iopub.status.idle": "2025-07-30T21:52:00.037073Z",
     "shell.execute_reply": "2025-07-30T21:52:00.036176Z"
    },
    "papermill": {
     "duration": 0.999922,
     "end_time": "2025-07-30T21:52:00.038507",
     "exception": false,
     "start_time": "2025-07-30T21:51:59.038585",
     "status": "completed"
    },
    "tags": []
   },
   "outputs": [
    {
     "data": {
      "text/plain": [
       "0.8549214134433174"
      ]
     },
     "execution_count": 45,
     "metadata": {},
     "output_type": "execute_result"
    }
   ],
   "source": [
    "probs_test = model.predict_proba(X_test)\n",
    "\n",
    "'''\n",
    "Below code returns a boolean array (or binary 0/1 array depending on how it’s used) where each element \n",
    "is True if the probability of class 1 is greater than or equal to the threshold, and False otherwise.\n",
    "'''\n",
    "y_pred_default = predict_w_threshold(probs_test, 0.5)\n",
    "\n",
    "from sklearn.metrics import accuracy_score\n",
    "\n",
    "# Naive prediction\n",
    "accuracy_score(y_true = y_true, y_pred = y_pred_default)"
   ]
  },
  {
   "cell_type": "code",
   "execution_count": 46,
   "id": "081964c3",
   "metadata": {
    "execution": {
     "iopub.execute_input": "2025-07-30T21:52:00.134706Z",
     "iopub.status.busy": "2025-07-30T21:52:00.134290Z",
     "iopub.status.idle": "2025-07-30T21:52:00.909144Z",
     "shell.execute_reply": "2025-07-30T21:52:00.908204Z"
    },
    "papermill": {
     "duration": 0.830009,
     "end_time": "2025-07-30T21:52:00.911147",
     "exception": false,
     "start_time": "2025-07-30T21:52:00.081138",
     "status": "completed"
    },
    "tags": []
   },
   "outputs": [
    {
     "data": {
      "text/plain": [
       "array([0, 0, 0, ..., 0, 0, 0])"
      ]
     },
     "execution_count": 46,
     "metadata": {},
     "output_type": "execute_result"
    }
   ],
   "source": [
    "model.predict(X_test)"
   ]
  },
  {
   "cell_type": "markdown",
   "id": "56c9705b",
   "metadata": {
    "papermill": {
     "duration": 0.027616,
     "end_time": "2025-07-30T21:52:00.964561",
     "exception": false,
     "start_time": "2025-07-30T21:52:00.936945",
     "status": "completed"
    },
    "tags": []
   },
   "source": [
    "# Conformal Prediction"
   ]
  },
  {
   "cell_type": "code",
   "execution_count": 47,
   "id": "160ec6ff",
   "metadata": {
    "execution": {
     "iopub.execute_input": "2025-07-30T21:52:01.030199Z",
     "iopub.status.busy": "2025-07-30T21:52:01.029780Z",
     "iopub.status.idle": "2025-07-30T21:52:01.035217Z",
     "shell.execute_reply": "2025-07-30T21:52:01.034310Z"
    },
    "papermill": {
     "duration": 0.03315,
     "end_time": "2025-07-30T21:52:01.037503",
     "exception": false,
     "start_time": "2025-07-30T21:52:01.004353",
     "status": "completed"
    },
    "tags": []
   },
   "outputs": [],
   "source": [
    "# Miscoverage level for conformal prediction (10% allowed error rate => 90% target coverage)\n",
    "alpha = 0.1"
   ]
  },
  {
   "cell_type": "code",
   "execution_count": 48,
   "id": "eadf4555-3dd3-440e-8e35-f82a4ad9f855",
   "metadata": {
    "execution": {
     "iopub.execute_input": "2025-07-30T21:52:01.172855Z",
     "iopub.status.busy": "2025-07-30T21:52:01.172472Z",
     "iopub.status.idle": "2025-07-30T21:52:02.038821Z",
     "shell.execute_reply": "2025-07-30T21:52:02.037860Z"
    },
    "papermill": {
     "duration": 0.944833,
     "end_time": "2025-07-30T21:52:02.041140",
     "exception": false,
     "start_time": "2025-07-30T21:52:01.096307",
     "status": "completed"
    },
    "tags": []
   },
   "outputs": [],
   "source": [
    "probs_calib = model.predict_proba(X_calib)"
   ]
  },
  {
   "cell_type": "code",
   "execution_count": 49,
   "id": "2ed93547-6d5d-4983-9b36-1ecb300da49a",
   "metadata": {
    "execution": {
     "iopub.execute_input": "2025-07-30T21:52:02.116269Z",
     "iopub.status.busy": "2025-07-30T21:52:02.115719Z",
     "iopub.status.idle": "2025-07-30T21:52:02.121465Z",
     "shell.execute_reply": "2025-07-30T21:52:02.120613Z"
    },
    "papermill": {
     "duration": 0.037628,
     "end_time": "2025-07-30T21:52:02.123423",
     "exception": false,
     "start_time": "2025-07-30T21:52:02.085795",
     "status": "completed"
    },
    "tags": []
   },
   "outputs": [],
   "source": [
    "y_calib = y_calib.values.ravel().astype(int)"
   ]
  },
  {
   "cell_type": "code",
   "execution_count": 50,
   "id": "65d1320d-f588-4b38-9072-62af1ae97f7d",
   "metadata": {
    "execution": {
     "iopub.execute_input": "2025-07-30T21:52:02.178494Z",
     "iopub.status.busy": "2025-07-30T21:52:02.177945Z",
     "iopub.status.idle": "2025-07-30T21:52:02.185304Z",
     "shell.execute_reply": "2025-07-30T21:52:02.184362Z"
    },
    "papermill": {
     "duration": 0.038915,
     "end_time": "2025-07-30T21:52:02.187034",
     "exception": false,
     "start_time": "2025-07-30T21:52:02.148119",
     "status": "completed"
    },
    "tags": []
   },
   "outputs": [],
   "source": [
    "from fairness_multiverse.conformal import compute_nc_scores\n",
    "\n",
    "# Compute nonconformity scores on calibration set (1 - probability of true class)\n",
    "nc_scores = compute_nc_scores(probs_calib, y_calib)"
   ]
  },
  {
   "cell_type": "code",
   "execution_count": 51,
   "id": "df3b8ca3-53b7-43d5-9667-7c85da7aeda2",
   "metadata": {
    "execution": {
     "iopub.execute_input": "2025-07-30T21:52:02.239196Z",
     "iopub.status.busy": "2025-07-30T21:52:02.238764Z",
     "iopub.status.idle": "2025-07-30T21:52:02.246434Z",
     "shell.execute_reply": "2025-07-30T21:52:02.245402Z"
    },
    "papermill": {
     "duration": 0.037493,
     "end_time": "2025-07-30T21:52:02.249593",
     "exception": false,
     "start_time": "2025-07-30T21:52:02.212100",
     "status": "completed"
    },
    "tags": []
   },
   "outputs": [],
   "source": [
    "from fairness_multiverse.conformal import find_threshold\n",
    "\n",
    "# Find conformal threshold q_hat for the given alpha (split conformal method)\n",
    "q_hat = find_threshold(nc_scores, alpha)"
   ]
  },
  {
   "cell_type": "code",
   "execution_count": 52,
   "id": "4d29e6c1-0ef6-4aa4-b8fe-4fe79b0d033a",
   "metadata": {
    "execution": {
     "iopub.execute_input": "2025-07-30T21:52:02.303485Z",
     "iopub.status.busy": "2025-07-30T21:52:02.303054Z",
     "iopub.status.idle": "2025-07-30T21:52:02.311066Z",
     "shell.execute_reply": "2025-07-30T21:52:02.310101Z"
    },
    "papermill": {
     "duration": 0.04025,
     "end_time": "2025-07-30T21:52:02.315064",
     "exception": false,
     "start_time": "2025-07-30T21:52:02.274814",
     "status": "completed"
    },
    "tags": []
   },
   "outputs": [
    {
     "data": {
      "text/plain": [
       "0.6599999999999999"
      ]
     },
     "execution_count": 52,
     "metadata": {},
     "output_type": "execute_result"
    }
   ],
   "source": [
    "q_hat"
   ]
  },
  {
   "cell_type": "code",
   "execution_count": 53,
   "id": "92460794-cdac-4be2-ba28-f28c0515a6fb",
   "metadata": {
    "execution": {
     "iopub.execute_input": "2025-07-30T21:52:02.367287Z",
     "iopub.status.busy": "2025-07-30T21:52:02.366861Z",
     "iopub.status.idle": "2025-07-30T21:52:03.993049Z",
     "shell.execute_reply": "2025-07-30T21:52:03.991977Z"
    },
    "papermill": {
     "duration": 1.655439,
     "end_time": "2025-07-30T21:52:03.994996",
     "exception": false,
     "start_time": "2025-07-30T21:52:02.339557",
     "status": "completed"
    },
    "tags": []
   },
   "outputs": [],
   "source": [
    "from fairness_multiverse.conformal import predict_conformal_sets\n",
    "\n",
    "# Generate prediction sets for each test example\n",
    "pred_sets = predict_conformal_sets(model, X_test, q_hat)"
   ]
  },
  {
   "cell_type": "code",
   "execution_count": 54,
   "id": "d90c9a65-e6db-4f5d-80cd-e68fb7e46829",
   "metadata": {
    "execution": {
     "iopub.execute_input": "2025-07-30T21:52:04.053198Z",
     "iopub.status.busy": "2025-07-30T21:52:04.052683Z",
     "iopub.status.idle": "2025-07-30T21:52:04.058885Z",
     "shell.execute_reply": "2025-07-30T21:52:04.057890Z"
    },
    "papermill": {
     "duration": 0.037633,
     "end_time": "2025-07-30T21:52:04.060882",
     "exception": false,
     "start_time": "2025-07-30T21:52:04.023249",
     "status": "completed"
    },
    "tags": []
   },
   "outputs": [],
   "source": [
    "y_true = y_true.squeeze()"
   ]
  },
  {
   "cell_type": "code",
   "execution_count": 55,
   "id": "3a58a54a-1e68-46b9-927a-df01f18aebc8",
   "metadata": {
    "execution": {
     "iopub.execute_input": "2025-07-30T21:52:04.118342Z",
     "iopub.status.busy": "2025-07-30T21:52:04.117838Z",
     "iopub.status.idle": "2025-07-30T21:52:05.088694Z",
     "shell.execute_reply": "2025-07-30T21:52:05.087597Z"
    },
    "papermill": {
     "duration": 1.001461,
     "end_time": "2025-07-30T21:52:05.090760",
     "exception": false,
     "start_time": "2025-07-30T21:52:04.089299",
     "status": "completed"
    },
    "tags": []
   },
   "outputs": [],
   "source": [
    "from fairness_multiverse.conformal import evaluate_sets\n",
    "\n",
    "# Evaluate coverage and average set size on test data\n",
    "metrics = evaluate_sets(pred_sets, y_true)"
   ]
  },
  {
   "cell_type": "markdown",
   "id": "2b569c12-9aaa-4c88-98c9-bbcd0cf3ebb8",
   "metadata": {
    "papermill": {
     "duration": 0.028064,
     "end_time": "2025-07-30T21:52:05.146954",
     "exception": false,
     "start_time": "2025-07-30T21:52:05.118890",
     "status": "completed"
    },
    "tags": []
   },
   "source": [
    "# CP Metrics"
   ]
  },
  {
   "cell_type": "code",
   "execution_count": 56,
   "id": "5ce0a5cb-201f-45a0-ade5-94c7f0bd6095",
   "metadata": {
    "execution": {
     "iopub.execute_input": "2025-07-30T21:52:05.205967Z",
     "iopub.status.busy": "2025-07-30T21:52:05.205458Z",
     "iopub.status.idle": "2025-07-30T21:52:05.213071Z",
     "shell.execute_reply": "2025-07-30T21:52:05.212074Z"
    },
    "papermill": {
     "duration": 0.039274,
     "end_time": "2025-07-30T21:52:05.214877",
     "exception": false,
     "start_time": "2025-07-30T21:52:05.175603",
     "status": "completed"
    },
    "tags": []
   },
   "outputs": [
    {
     "data": {
      "text/plain": [
       "{'coverage': 0.9141678742615094, 'avg_size': 1.1617099542971798}"
      ]
     },
     "execution_count": 56,
     "metadata": {},
     "output_type": "execute_result"
    }
   ],
   "source": [
    "metrics"
   ]
  },
  {
   "cell_type": "code",
   "execution_count": 57,
   "id": "9b9a838d-31c9-430b-ae14-12baee460d17",
   "metadata": {
    "execution": {
     "iopub.execute_input": "2025-07-30T21:52:05.273799Z",
     "iopub.status.busy": "2025-07-30T21:52:05.273125Z",
     "iopub.status.idle": "2025-07-30T21:52:05.279890Z",
     "shell.execute_reply": "2025-07-30T21:52:05.278882Z"
    },
    "papermill": {
     "duration": 0.037969,
     "end_time": "2025-07-30T21:52:05.281603",
     "exception": false,
     "start_time": "2025-07-30T21:52:05.243634",
     "status": "completed"
    },
    "tags": []
   },
   "outputs": [],
   "source": [
    "example_universe = universe.copy()\n",
    "universe_training_year = example_universe.get(\"training_year\")\n",
    "universe_training_size = example_universe.get(\"training_size\")\n",
    "universe_scale = example_universe.get(\"scale\")\n",
    "universe_model = example_universe.get(\"model\")\n",
    "universe_exclude_features = example_universe.get(\"exclude_features\")\n",
    "universe_exclude_subgroups = example_universe.get(\"exclude_subgroups\")"
   ]
  },
  {
   "cell_type": "code",
   "execution_count": 58,
   "id": "f4b6a8ac-9dc0-4245-8a91-5b3b5999c4f9",
   "metadata": {
    "execution": {
     "iopub.execute_input": "2025-07-30T21:52:05.338596Z",
     "iopub.status.busy": "2025-07-30T21:52:05.338005Z",
     "iopub.status.idle": "2025-07-30T21:52:05.345140Z",
     "shell.execute_reply": "2025-07-30T21:52:05.344086Z"
    },
    "papermill": {
     "duration": 0.036593,
     "end_time": "2025-07-30T21:52:05.346741",
     "exception": false,
     "start_time": "2025-07-30T21:52:05.310148",
     "status": "completed"
    },
    "tags": []
   },
   "outputs": [],
   "source": [
    "cp_metrics_dict = {\n",
    "    \"universe_id\": [universe_id],\n",
    "    \"universe_training_year\": [universe_training_year],\n",
    "    \"universe_training_size\": [universe_training_size],\n",
    "    \"universe_scale\": [universe_scale],\n",
    "    \"universe_model\": [universe_model],\n",
    "    \"universe_exclude_features\": [universe_exclude_features],\n",
    "    \"universe_exclude_subgroups\": [universe_exclude_subgroups],\n",
    "    \"q_hat\": [q_hat],\n",
    "    \"coverage\": [metrics[\"coverage\"]],\n",
    "    \"avg_size\": [metrics[\"avg_size\"]],\n",
    "}"
   ]
  },
  {
   "cell_type": "code",
   "execution_count": 59,
   "id": "908acbb1-0371-4915-85ca-3fa520d2efe2",
   "metadata": {
    "execution": {
     "iopub.execute_input": "2025-07-30T21:52:05.403115Z",
     "iopub.status.busy": "2025-07-30T21:52:05.402463Z",
     "iopub.status.idle": "2025-07-30T21:52:05.410244Z",
     "shell.execute_reply": "2025-07-30T21:52:05.409286Z"
    },
    "papermill": {
     "duration": 0.037943,
     "end_time": "2025-07-30T21:52:05.412239",
     "exception": false,
     "start_time": "2025-07-30T21:52:05.374296",
     "status": "completed"
    },
    "tags": []
   },
   "outputs": [
    {
     "data": {
      "text/plain": [
       "{'universe_id': ['47026baa0cda84e1fa4b6ed549da04c0'],\n",
       " 'universe_training_year': ['2010_14'],\n",
       " 'universe_training_size': ['1k'],\n",
       " 'universe_scale': ['do-not-scale'],\n",
       " 'universe_model': ['rf'],\n",
       " 'universe_exclude_features': ['age'],\n",
       " 'universe_exclude_subgroups': ['drop-non-german'],\n",
       " 'q_hat': [0.6599999999999999],\n",
       " 'coverage': [0.9141678742615094],\n",
       " 'avg_size': [1.1617099542971798]}"
      ]
     },
     "execution_count": 59,
     "metadata": {},
     "output_type": "execute_result"
    }
   ],
   "source": [
    "cp_metrics_dict"
   ]
  },
  {
   "cell_type": "code",
   "execution_count": 60,
   "id": "33007efc-14e9-4ec6-97ac-56a455c82265",
   "metadata": {
    "execution": {
     "iopub.execute_input": "2025-07-30T21:52:05.468804Z",
     "iopub.status.busy": "2025-07-30T21:52:05.468295Z",
     "iopub.status.idle": "2025-07-30T21:52:05.475047Z",
     "shell.execute_reply": "2025-07-30T21:52:05.474095Z"
    },
    "papermill": {
     "duration": 0.036676,
     "end_time": "2025-07-30T21:52:05.476878",
     "exception": false,
     "start_time": "2025-07-30T21:52:05.440202",
     "status": "completed"
    },
    "tags": []
   },
   "outputs": [],
   "source": [
    "cp_metrics_df = pd.DataFrame(cp_metrics_dict)"
   ]
  },
  {
   "cell_type": "code",
   "execution_count": 61,
   "id": "db12611b-57b2-4910-b9d0-355adfd6e7bf",
   "metadata": {
    "execution": {
     "iopub.execute_input": "2025-07-30T21:52:05.535276Z",
     "iopub.status.busy": "2025-07-30T21:52:05.534648Z",
     "iopub.status.idle": "2025-07-30T21:52:05.555371Z",
     "shell.execute_reply": "2025-07-30T21:52:05.554246Z"
    },
    "papermill": {
     "duration": 0.05155,
     "end_time": "2025-07-30T21:52:05.557200",
     "exception": false,
     "start_time": "2025-07-30T21:52:05.505650",
     "status": "completed"
    },
    "tags": []
   },
   "outputs": [
    {
     "data": {
      "text/html": [
       "<div>\n",
       "<style scoped>\n",
       "    .dataframe tbody tr th:only-of-type {\n",
       "        vertical-align: middle;\n",
       "    }\n",
       "\n",
       "    .dataframe tbody tr th {\n",
       "        vertical-align: top;\n",
       "    }\n",
       "\n",
       "    .dataframe thead th {\n",
       "        text-align: right;\n",
       "    }\n",
       "</style>\n",
       "<table border=\"1\" class=\"dataframe\">\n",
       "  <thead>\n",
       "    <tr style=\"text-align: right;\">\n",
       "      <th></th>\n",
       "      <th>universe_id</th>\n",
       "      <th>universe_training_year</th>\n",
       "      <th>universe_training_size</th>\n",
       "      <th>universe_scale</th>\n",
       "      <th>universe_model</th>\n",
       "      <th>universe_exclude_features</th>\n",
       "      <th>universe_exclude_subgroups</th>\n",
       "      <th>q_hat</th>\n",
       "      <th>coverage</th>\n",
       "      <th>avg_size</th>\n",
       "    </tr>\n",
       "  </thead>\n",
       "  <tbody>\n",
       "    <tr>\n",
       "      <th>0</th>\n",
       "      <td>47026baa0cda84e1fa4b6ed549da04c0</td>\n",
       "      <td>2010_14</td>\n",
       "      <td>1k</td>\n",
       "      <td>do-not-scale</td>\n",
       "      <td>rf</td>\n",
       "      <td>age</td>\n",
       "      <td>drop-non-german</td>\n",
       "      <td>0.66</td>\n",
       "      <td>0.914168</td>\n",
       "      <td>1.16171</td>\n",
       "    </tr>\n",
       "  </tbody>\n",
       "</table>\n",
       "</div>"
      ],
      "text/plain": [
       "                        universe_id universe_training_year  \\\n",
       "0  47026baa0cda84e1fa4b6ed549da04c0                2010_14   \n",
       "\n",
       "  universe_training_size universe_scale universe_model  \\\n",
       "0                     1k   do-not-scale             rf   \n",
       "\n",
       "  universe_exclude_features universe_exclude_subgroups  q_hat  coverage  \\\n",
       "0                       age            drop-non-german   0.66  0.914168   \n",
       "\n",
       "   avg_size  \n",
       "0   1.16171  "
      ]
     },
     "execution_count": 61,
     "metadata": {},
     "output_type": "execute_result"
    }
   ],
   "source": [
    "cp_metrics_df"
   ]
  },
  {
   "cell_type": "code",
   "execution_count": 62,
   "id": "b7fbde55-a0a1-47e4-9af6-fe4a17fa8c61",
   "metadata": {
    "execution": {
     "iopub.execute_input": "2025-07-30T21:52:05.616381Z",
     "iopub.status.busy": "2025-07-30T21:52:05.615678Z",
     "iopub.status.idle": "2025-07-30T21:52:05.620751Z",
     "shell.execute_reply": "2025-07-30T21:52:05.619745Z"
    },
    "papermill": {
     "duration": 0.036669,
     "end_time": "2025-07-30T21:52:05.622662",
     "exception": false,
     "start_time": "2025-07-30T21:52:05.585993",
     "status": "completed"
    },
    "tags": []
   },
   "outputs": [],
   "source": [
    "# Conditional Coverage & looking at subgroups"
   ]
  },
  {
   "cell_type": "code",
   "execution_count": 63,
   "id": "027ae886-68dd-4141-96c7-805a5450e1ef",
   "metadata": {
    "execution": {
     "iopub.execute_input": "2025-07-30T21:52:05.679175Z",
     "iopub.status.busy": "2025-07-30T21:52:05.678524Z",
     "iopub.status.idle": "2025-07-30T21:52:05.940239Z",
     "shell.execute_reply": "2025-07-30T21:52:05.939487Z"
    },
    "papermill": {
     "duration": 0.291655,
     "end_time": "2025-07-30T21:52:05.942103",
     "exception": false,
     "start_time": "2025-07-30T21:52:05.650448",
     "status": "completed"
    },
    "tags": []
   },
   "outputs": [],
   "source": [
    "from fairness_multiverse.conformal import build_cp_groups\n",
    "\n",
    "cp_groups_df = build_cp_groups(pred_sets, y_true, X_test.index, org_test)\n",
    "#needs universe_id and setting"
   ]
  },
  {
   "cell_type": "code",
   "execution_count": 64,
   "id": "01d5802c-663a-4d1f-9d69-e036faaffbf7",
   "metadata": {
    "execution": {
     "iopub.execute_input": "2025-07-30T21:52:06.000865Z",
     "iopub.status.busy": "2025-07-30T21:52:06.000370Z",
     "iopub.status.idle": "2025-07-30T21:52:06.005122Z",
     "shell.execute_reply": "2025-07-30T21:52:06.004177Z"
    },
    "papermill": {
     "duration": 0.035343,
     "end_time": "2025-07-30T21:52:06.006840",
     "exception": false,
     "start_time": "2025-07-30T21:52:05.971497",
     "status": "completed"
    },
    "tags": []
   },
   "outputs": [],
   "source": [
    "#delete\n",
    "#cp_groups_df"
   ]
  },
  {
   "cell_type": "code",
   "execution_count": 65,
   "id": "fa424af1-d1eb-443d-b717-2d279ada8408",
   "metadata": {
    "execution": {
     "iopub.execute_input": "2025-07-30T21:52:06.062249Z",
     "iopub.status.busy": "2025-07-30T21:52:06.061840Z",
     "iopub.status.idle": "2025-07-30T21:52:06.066362Z",
     "shell.execute_reply": "2025-07-30T21:52:06.065494Z"
    },
    "papermill": {
     "duration": 0.031804,
     "end_time": "2025-07-30T21:52:06.067884",
     "exception": false,
     "start_time": "2025-07-30T21:52:06.036080",
     "status": "completed"
    },
    "tags": []
   },
   "outputs": [],
   "source": [
    "#delete\n",
    "#percentage = (cp_groups_df['nongerman_female'] == 1).mean() * 100\n",
    "#print(percentage)\n"
   ]
  },
  {
   "cell_type": "code",
   "execution_count": 66,
   "id": "6cbdab96-b2b2-45af-ad54-d0516db2e28d",
   "metadata": {
    "execution": {
     "iopub.execute_input": "2025-07-30T21:52:06.114544Z",
     "iopub.status.busy": "2025-07-30T21:52:06.114172Z",
     "iopub.status.idle": "2025-07-30T21:52:07.036837Z",
     "shell.execute_reply": "2025-07-30T21:52:07.036110Z"
    },
    "papermill": {
     "duration": 0.945597,
     "end_time": "2025-07-30T21:52:07.038192",
     "exception": false,
     "start_time": "2025-07-30T21:52:06.092595",
     "status": "completed"
    },
    "tags": []
   },
   "outputs": [],
   "source": [
    "# Define covered = 1 if true_label is in the predicted set\n",
    "cp_groups_df['covered'] = cp_groups_df.apply(\n",
    "    lambda r: int(r['true_label'] in r['pred_set']),\n",
    "    axis=1\n",
    ")"
   ]
  },
  {
   "cell_type": "code",
   "execution_count": 67,
   "id": "338ff529-1a6b-4b87-a931-8e4788d52aad",
   "metadata": {
    "execution": {
     "iopub.execute_input": "2025-07-30T21:52:07.065595Z",
     "iopub.status.busy": "2025-07-30T21:52:07.065244Z",
     "iopub.status.idle": "2025-07-30T21:52:07.069389Z",
     "shell.execute_reply": "2025-07-30T21:52:07.068671Z"
    },
    "papermill": {
     "duration": 0.018847,
     "end_time": "2025-07-30T21:52:07.070697",
     "exception": false,
     "start_time": "2025-07-30T21:52:07.051850",
     "status": "completed"
    },
    "tags": []
   },
   "outputs": [],
   "source": [
    "#cp_groups_df"
   ]
  },
  {
   "cell_type": "code",
   "execution_count": 68,
   "id": "90032e27-66df-4540-9169-4e89cfbaa758",
   "metadata": {
    "execution": {
     "iopub.execute_input": "2025-07-30T21:52:07.103402Z",
     "iopub.status.busy": "2025-07-30T21:52:07.102812Z",
     "iopub.status.idle": "2025-07-30T21:52:07.111298Z",
     "shell.execute_reply": "2025-07-30T21:52:07.110645Z"
    },
    "papermill": {
     "duration": 0.028271,
     "end_time": "2025-07-30T21:52:07.112672",
     "exception": false,
     "start_time": "2025-07-30T21:52:07.084401",
     "status": "completed"
    },
    "tags": []
   },
   "outputs": [],
   "source": [
    "subgroups = ['frau1','nongerman','nongerman_male','nongerman_female']\n",
    "\n",
    "# Conditional coverage for subgroup==1\n",
    "cond_coverage = {\n",
    "    g: cp_groups_df.loc[cp_groups_df[g]==1, 'covered'].mean()\n",
    "    for g in subgroups\n",
    "}"
   ]
  },
  {
   "cell_type": "code",
   "execution_count": 69,
   "id": "1e348fb1-b9c3-45bc-ba23-f016827a7e0d",
   "metadata": {
    "execution": {
     "iopub.execute_input": "2025-07-30T21:52:07.140312Z",
     "iopub.status.busy": "2025-07-30T21:52:07.139846Z",
     "iopub.status.idle": "2025-07-30T21:52:07.152496Z",
     "shell.execute_reply": "2025-07-30T21:52:07.148379Z"
    },
    "papermill": {
     "duration": 0.02791,
     "end_time": "2025-07-30T21:52:07.154122",
     "exception": false,
     "start_time": "2025-07-30T21:52:07.126212",
     "status": "completed"
    },
    "tags": []
   },
   "outputs": [
    {
     "data": {
      "text/plain": [
       "{'frau1': 0.9116862110796603,\n",
       " 'nongerman': 0.9074271599393702,\n",
       " 'nongerman_male': 0.9282175988471584,\n",
       " 'nongerman_female': 0.8730253353204173}"
      ]
     },
     "execution_count": 69,
     "metadata": {},
     "output_type": "execute_result"
    }
   ],
   "source": [
    "cond_coverage"
   ]
  },
  {
   "cell_type": "code",
   "execution_count": 70,
   "id": "f5093324-c3dd-4d63-bc4c-8d945e5c8bbb",
   "metadata": {
    "execution": {
     "iopub.execute_input": "2025-07-30T21:52:07.212213Z",
     "iopub.status.busy": "2025-07-30T21:52:07.211747Z",
     "iopub.status.idle": "2025-07-30T21:52:07.219805Z",
     "shell.execute_reply": "2025-07-30T21:52:07.218734Z"
    },
    "papermill": {
     "duration": 0.038972,
     "end_time": "2025-07-30T21:52:07.221520",
     "exception": false,
     "start_time": "2025-07-30T21:52:07.182548",
     "status": "completed"
    },
    "tags": []
   },
   "outputs": [],
   "source": [
    "for subgroup, cov in cond_coverage.items():\n",
    "    cp_metrics_df[f\"cov_{subgroup}\"] = cov"
   ]
  },
  {
   "cell_type": "code",
   "execution_count": 71,
   "id": "6e872e10-dbe5-49e8-b554-5030c98ff75d",
   "metadata": {
    "execution": {
     "iopub.execute_input": "2025-07-30T21:52:07.251971Z",
     "iopub.status.busy": "2025-07-30T21:52:07.251591Z",
     "iopub.status.idle": "2025-07-30T21:52:07.273417Z",
     "shell.execute_reply": "2025-07-30T21:52:07.272168Z"
    },
    "papermill": {
     "duration": 0.039188,
     "end_time": "2025-07-30T21:52:07.275282",
     "exception": false,
     "start_time": "2025-07-30T21:52:07.236094",
     "status": "completed"
    },
    "tags": []
   },
   "outputs": [
    {
     "data": {
      "text/html": [
       "<div>\n",
       "<style scoped>\n",
       "    .dataframe tbody tr th:only-of-type {\n",
       "        vertical-align: middle;\n",
       "    }\n",
       "\n",
       "    .dataframe tbody tr th {\n",
       "        vertical-align: top;\n",
       "    }\n",
       "\n",
       "    .dataframe thead th {\n",
       "        text-align: right;\n",
       "    }\n",
       "</style>\n",
       "<table border=\"1\" class=\"dataframe\">\n",
       "  <thead>\n",
       "    <tr style=\"text-align: right;\">\n",
       "      <th></th>\n",
       "      <th>universe_id</th>\n",
       "      <th>universe_training_year</th>\n",
       "      <th>universe_training_size</th>\n",
       "      <th>universe_scale</th>\n",
       "      <th>universe_model</th>\n",
       "      <th>universe_exclude_features</th>\n",
       "      <th>universe_exclude_subgroups</th>\n",
       "      <th>q_hat</th>\n",
       "      <th>coverage</th>\n",
       "      <th>avg_size</th>\n",
       "      <th>cov_frau1</th>\n",
       "      <th>cov_nongerman</th>\n",
       "      <th>cov_nongerman_male</th>\n",
       "      <th>cov_nongerman_female</th>\n",
       "    </tr>\n",
       "  </thead>\n",
       "  <tbody>\n",
       "    <tr>\n",
       "      <th>0</th>\n",
       "      <td>47026baa0cda84e1fa4b6ed549da04c0</td>\n",
       "      <td>2010_14</td>\n",
       "      <td>1k</td>\n",
       "      <td>do-not-scale</td>\n",
       "      <td>rf</td>\n",
       "      <td>age</td>\n",
       "      <td>drop-non-german</td>\n",
       "      <td>0.66</td>\n",
       "      <td>0.914168</td>\n",
       "      <td>1.16171</td>\n",
       "      <td>0.911686</td>\n",
       "      <td>0.907427</td>\n",
       "      <td>0.928218</td>\n",
       "      <td>0.873025</td>\n",
       "    </tr>\n",
       "  </tbody>\n",
       "</table>\n",
       "</div>"
      ],
      "text/plain": [
       "                        universe_id universe_training_year  \\\n",
       "0  47026baa0cda84e1fa4b6ed549da04c0                2010_14   \n",
       "\n",
       "  universe_training_size universe_scale universe_model  \\\n",
       "0                     1k   do-not-scale             rf   \n",
       "\n",
       "  universe_exclude_features universe_exclude_subgroups  q_hat  coverage  \\\n",
       "0                       age            drop-non-german   0.66  0.914168   \n",
       "\n",
       "   avg_size  cov_frau1  cov_nongerman  cov_nongerman_male  \\\n",
       "0   1.16171   0.911686       0.907427            0.928218   \n",
       "\n",
       "   cov_nongerman_female  \n",
       "0              0.873025  "
      ]
     },
     "execution_count": 71,
     "metadata": {},
     "output_type": "execute_result"
    }
   ],
   "source": [
    "cp_metrics_df"
   ]
  },
  {
   "cell_type": "markdown",
   "id": "33774451",
   "metadata": {
    "papermill": {
     "duration": 0.017692,
     "end_time": "2025-07-30T21:52:07.312456",
     "exception": false,
     "start_time": "2025-07-30T21:52:07.294764",
     "status": "completed"
    },
    "tags": []
   },
   "source": [
    "# (Fairness) Metrics"
   ]
  },
  {
   "cell_type": "code",
   "execution_count": 72,
   "id": "debc5d62",
   "metadata": {
    "execution": {
     "iopub.execute_input": "2025-07-30T21:52:07.348170Z",
     "iopub.status.busy": "2025-07-30T21:52:07.347664Z",
     "iopub.status.idle": "2025-07-30T21:52:07.367116Z",
     "shell.execute_reply": "2025-07-30T21:52:07.366225Z"
    },
    "papermill": {
     "duration": 0.042528,
     "end_time": "2025-07-30T21:52:07.369217",
     "exception": false,
     "start_time": "2025-07-30T21:52:07.326689",
     "status": "completed"
    },
    "tags": []
   },
   "outputs": [],
   "source": [
    "# do I need to include maxdeutsch1.missing?\n",
    "\n",
    "import numpy as np\n",
    "\n",
    "colname_to_bin = \"maxdeutsch1\"\n",
    "majority_value = org_train[colname_to_bin].mode()[0]\n",
    "\n",
    "org_test[\"majmin\"] = np.where(org_test[colname_to_bin] == majority_value, \"majority\", \"minority\")"
   ]
  },
  {
   "cell_type": "code",
   "execution_count": 73,
   "id": "06a50de5",
   "metadata": {
    "execution": {
     "iopub.execute_input": "2025-07-30T21:52:07.418533Z",
     "iopub.status.busy": "2025-07-30T21:52:07.417810Z",
     "iopub.status.idle": "2025-07-30T21:52:09.924137Z",
     "shell.execute_reply": "2025-07-30T21:52:09.923060Z"
    },
    "papermill": {
     "duration": 2.526706,
     "end_time": "2025-07-30T21:52:09.925755",
     "exception": false,
     "start_time": "2025-07-30T21:52:07.399049",
     "status": "completed"
    },
    "tags": []
   },
   "outputs": [],
   "source": [
    "example_universe = universe.copy()\n",
    "example_universe[\"cutoff\"] = example_universe[\"cutoff\"][0]\n",
    "example_universe[\"eval_fairness_grouping\"] = example_universe[\"eval_fairness_grouping\"][0]\n",
    "fairness_dict, metric_frame = universe_analysis.compute_metrics(\n",
    "    example_universe,\n",
    "    y_pred_prob=probs_test,\n",
    "    y_test=y_true,\n",
    "    org_test=org_test,\n",
    ")"
   ]
  },
  {
   "cell_type": "markdown",
   "id": "f95d4e02",
   "metadata": {
    "papermill": {
     "duration": 0.0152,
     "end_time": "2025-07-30T21:52:09.964822",
     "exception": false,
     "start_time": "2025-07-30T21:52:09.949622",
     "status": "completed"
    },
    "tags": []
   },
   "source": [
    "# Overall"
   ]
  },
  {
   "cell_type": "markdown",
   "id": "bdee4871",
   "metadata": {
    "papermill": {
     "duration": 0.013293,
     "end_time": "2025-07-30T21:52:09.991712",
     "exception": false,
     "start_time": "2025-07-30T21:52:09.978419",
     "status": "completed"
    },
    "tags": []
   },
   "source": [
    "Fairness\n",
    "Main fairness target: Equalized Odds. Seems to be a better fit than equal opportunity, since we're not only interested in Y = 1. Seems to be a better fit than demographic parity, since we also care about accuracy, not just equal distribution of preds.\n",
    "\n",
    "Pick column for computation of fairness metrics\n",
    "\n",
    "Performance\n",
    "Overall performance measures, most interesting in relation to the measures split by group below"
   ]
  },
  {
   "cell_type": "code",
   "execution_count": 74,
   "id": "c4e067c6",
   "metadata": {
    "execution": {
     "iopub.execute_input": "2025-07-30T21:52:10.019451Z",
     "iopub.status.busy": "2025-07-30T21:52:10.019107Z",
     "iopub.status.idle": "2025-07-30T21:52:10.026202Z",
     "shell.execute_reply": "2025-07-30T21:52:10.025415Z"
    },
    "papermill": {
     "duration": 0.022781,
     "end_time": "2025-07-30T21:52:10.027592",
     "exception": false,
     "start_time": "2025-07-30T21:52:10.004811",
     "status": "completed"
    },
    "tags": []
   },
   "outputs": [
    {
     "data": {
      "text/plain": [
       "accuracy                   0.201037\n",
       "balanced accuracy          0.535321\n",
       "f1                         0.240288\n",
       "precision                  0.136835\n",
       "false positive rate        0.914324\n",
       "false negative rate        0.015033\n",
       "selection rate             0.923386\n",
       "count                  89710.000000\n",
       "dtype: float64"
      ]
     },
     "execution_count": 74,
     "metadata": {},
     "output_type": "execute_result"
    }
   ],
   "source": [
    "metric_frame.overall"
   ]
  },
  {
   "cell_type": "markdown",
   "id": "e968fe9d",
   "metadata": {
    "papermill": {
     "duration": 0.013648,
     "end_time": "2025-07-30T21:52:10.055750",
     "exception": false,
     "start_time": "2025-07-30T21:52:10.042102",
     "status": "completed"
    },
    "tags": []
   },
   "source": [
    "By Group"
   ]
  },
  {
   "cell_type": "code",
   "execution_count": 75,
   "id": "ec325bce",
   "metadata": {
    "execution": {
     "iopub.execute_input": "2025-07-30T21:52:10.086303Z",
     "iopub.status.busy": "2025-07-30T21:52:10.085955Z",
     "iopub.status.idle": "2025-07-30T21:52:10.098333Z",
     "shell.execute_reply": "2025-07-30T21:52:10.097587Z"
    },
    "papermill": {
     "duration": 0.029571,
     "end_time": "2025-07-30T21:52:10.099690",
     "exception": false,
     "start_time": "2025-07-30T21:52:10.070119",
     "status": "completed"
    },
    "tags": []
   },
   "outputs": [
    {
     "data": {
      "text/html": [
       "<div>\n",
       "<style scoped>\n",
       "    .dataframe tbody tr th:only-of-type {\n",
       "        vertical-align: middle;\n",
       "    }\n",
       "\n",
       "    .dataframe tbody tr th {\n",
       "        vertical-align: top;\n",
       "    }\n",
       "\n",
       "    .dataframe thead th {\n",
       "        text-align: right;\n",
       "    }\n",
       "</style>\n",
       "<table border=\"1\" class=\"dataframe\">\n",
       "  <thead>\n",
       "    <tr style=\"text-align: right;\">\n",
       "      <th></th>\n",
       "      <th>accuracy</th>\n",
       "      <th>balanced accuracy</th>\n",
       "      <th>f1</th>\n",
       "      <th>precision</th>\n",
       "      <th>false positive rate</th>\n",
       "      <th>false negative rate</th>\n",
       "      <th>selection rate</th>\n",
       "      <th>count</th>\n",
       "    </tr>\n",
       "    <tr>\n",
       "      <th>majmin</th>\n",
       "      <th></th>\n",
       "      <th></th>\n",
       "      <th></th>\n",
       "      <th></th>\n",
       "      <th></th>\n",
       "      <th></th>\n",
       "      <th></th>\n",
       "      <th></th>\n",
       "    </tr>\n",
       "  </thead>\n",
       "  <tbody>\n",
       "    <tr>\n",
       "      <th>majority</th>\n",
       "      <td>0.203831</td>\n",
       "      <td>0.535786</td>\n",
       "      <td>0.246769</td>\n",
       "      <td>0.141013</td>\n",
       "      <td>0.915409</td>\n",
       "      <td>0.013020</td>\n",
       "      <td>0.924866</td>\n",
       "      <td>69170.0</td>\n",
       "    </tr>\n",
       "    <tr>\n",
       "      <th>minority</th>\n",
       "      <td>0.191626</td>\n",
       "      <td>0.533227</td>\n",
       "      <td>0.217973</td>\n",
       "      <td>0.122668</td>\n",
       "      <td>0.910742</td>\n",
       "      <td>0.022804</td>\n",
       "      <td>0.918403</td>\n",
       "      <td>20540.0</td>\n",
       "    </tr>\n",
       "  </tbody>\n",
       "</table>\n",
       "</div>"
      ],
      "text/plain": [
       "          accuracy  balanced accuracy        f1  precision  \\\n",
       "majmin                                                       \n",
       "majority  0.203831           0.535786  0.246769   0.141013   \n",
       "minority  0.191626           0.533227  0.217973   0.122668   \n",
       "\n",
       "          false positive rate  false negative rate  selection rate    count  \n",
       "majmin                                                                       \n",
       "majority             0.915409             0.013020        0.924866  69170.0  \n",
       "minority             0.910742             0.022804        0.918403  20540.0  "
      ]
     },
     "execution_count": 75,
     "metadata": {},
     "output_type": "execute_result"
    }
   ],
   "source": [
    "metric_frame.by_group"
   ]
  },
  {
   "cell_type": "code",
   "execution_count": 76,
   "id": "a9ddbe63",
   "metadata": {
    "execution": {
     "iopub.execute_input": "2025-07-30T21:52:10.131838Z",
     "iopub.status.busy": "2025-07-30T21:52:10.131327Z",
     "iopub.status.idle": "2025-07-30T21:52:12.269442Z",
     "shell.execute_reply": "2025-07-30T21:52:12.268267Z"
    },
    "papermill": {
     "duration": 2.155627,
     "end_time": "2025-07-30T21:52:12.271181",
     "exception": false,
     "start_time": "2025-07-30T21:52:10.115554",
     "status": "completed"
    },
    "tags": []
   },
   "outputs": [
    {
     "data": {
      "text/plain": [
       "array([[<Axes: title={'center': 'accuracy'}, xlabel='majmin'>,\n",
       "        <Axes: title={'center': 'balanced accuracy'}, xlabel='majmin'>,\n",
       "        <Axes: title={'center': 'f1'}, xlabel='majmin'>],\n",
       "       [<Axes: title={'center': 'precision'}, xlabel='majmin'>,\n",
       "        <Axes: title={'center': 'false positive rate'}, xlabel='majmin'>,\n",
       "        <Axes: title={'center': 'false negative rate'}, xlabel='majmin'>],\n",
       "       [<Axes: title={'center': 'selection rate'}, xlabel='majmin'>,\n",
       "        <Axes: title={'center': 'count'}, xlabel='majmin'>,\n",
       "        <Axes: xlabel='majmin'>]], dtype=object)"
      ]
     },
     "execution_count": 76,
     "metadata": {},
     "output_type": "execute_result"
    },
    {
     "data": {
      "image/png": "[encoded data removed]",
      "text/plain": [
       "<Figure size 1200x800 with 9 Axes>"
      ]
     },
     "metadata": {},
     "output_type": "display_data"
    }
   ],
   "source": [
    "# In a graphic\n",
    "metric_frame.by_group.plot.bar(\n",
    "    subplots=True,\n",
    "    layout=[3, 3],\n",
    "    legend=False,\n",
    "    figsize=[12, 8],\n",
    "    title=\"Show all metrics\",\n",
    ")"
   ]
  },
  {
   "cell_type": "markdown",
   "id": "f57a0bac",
   "metadata": {
    "papermill": {
     "duration": 0.016899,
     "end_time": "2025-07-30T21:52:12.309428",
     "exception": false,
     "start_time": "2025-07-30T21:52:12.292529",
     "status": "completed"
    },
    "tags": []
   },
   "source": [
    "# Final Output"
   ]
  },
  {
   "cell_type": "code",
   "execution_count": 77,
   "id": "96d280a3",
   "metadata": {
    "execution": {
     "iopub.execute_input": "2025-07-30T21:52:12.349466Z",
     "iopub.status.busy": "2025-07-30T21:52:12.348649Z",
     "iopub.status.idle": "2025-07-30T21:52:12.356939Z",
     "shell.execute_reply": "2025-07-30T21:52:12.356151Z"
    },
    "papermill": {
     "duration": 0.02692,
     "end_time": "2025-07-30T21:52:12.358305",
     "exception": false,
     "start_time": "2025-07-30T21:52:12.331385",
     "status": "completed"
    },
    "tags": []
   },
   "outputs": [
    {
     "data": {
      "text/plain": [
       "4"
      ]
     },
     "execution_count": 77,
     "metadata": {},
     "output_type": "execute_result"
    }
   ],
   "source": [
    "sub_universes = universe_analysis.generate_sub_universes()\n",
    "len(sub_universes)"
   ]
  },
  {
   "cell_type": "code",
   "execution_count": 78,
   "id": "92adf7ba",
   "metadata": {
    "execution": {
     "iopub.execute_input": "2025-07-30T21:52:12.392533Z",
     "iopub.status.busy": "2025-07-30T21:52:12.391940Z",
     "iopub.status.idle": "2025-07-30T21:52:12.419843Z",
     "shell.execute_reply": "2025-07-30T21:52:12.418838Z"
    },
    "papermill": {
     "duration": 0.048332,
     "end_time": "2025-07-30T21:52:12.422196",
     "exception": false,
     "start_time": "2025-07-30T21:52:12.373864",
     "status": "completed"
    },
    "tags": []
   },
   "outputs": [],
   "source": [
    "def filter_sub_universe_data(sub_universe, org_test):\n",
    "    # Keep all rows — no filtering\n",
    "    keep_rows_mask = np.ones(org_test.shape[0], dtype=bool)\n",
    "\n",
    "    print(f\"[INFO] Keeping all rows: {keep_rows_mask.sum()} rows retained.\")\n",
    "    return keep_rows_mask"
   ]
  },
  {
   "cell_type": "code",
   "execution_count": 79,
   "id": "4a759155",
   "metadata": {
    "execution": {
     "iopub.execute_input": "2025-07-30T21:52:12.501019Z",
     "iopub.status.busy": "2025-07-30T21:52:12.500504Z",
     "iopub.status.idle": "2025-07-30T21:52:20.924912Z",
     "shell.execute_reply": "2025-07-30T21:52:20.924059Z"
    },
    "papermill": {
     "duration": 8.462227,
     "end_time": "2025-07-30T21:52:20.926461",
     "exception": false,
     "start_time": "2025-07-30T21:52:12.464234",
     "status": "completed"
    },
    "tags": []
   },
   "outputs": [
    {
     "name": "stdout",
     "output_type": "stream",
     "text": [
      "Stopping execution_time clock.\n",
      "[INFO] Keeping all rows: 89710 rows retained.\n"
     ]
    },
    {
     "name": "stdout",
     "output_type": "stream",
     "text": [
      "[INFO] Keeping all rows: 89710 rows retained.\n"
     ]
    },
    {
     "name": "stdout",
     "output_type": "stream",
     "text": [
      "[INFO] Keeping all rows: 89710 rows retained.\n"
     ]
    },
    {
     "name": "stdout",
     "output_type": "stream",
     "text": [
      "[INFO] Keeping all rows: 89710 rows retained.\n"
     ]
    },
    {
     "data": {
      "text/html": [
       "<div>\n",
       "<style scoped>\n",
       "    .dataframe tbody tr th:only-of-type {\n",
       "        vertical-align: middle;\n",
       "    }\n",
       "\n",
       "    .dataframe tbody tr th {\n",
       "        vertical-align: top;\n",
       "    }\n",
       "\n",
       "    .dataframe thead th {\n",
       "        text-align: right;\n",
       "    }\n",
       "</style>\n",
       "<table border=\"1\" class=\"dataframe\">\n",
       "  <thead>\n",
       "    <tr style=\"text-align: right;\">\n",
       "      <th></th>\n",
       "      <th>run_no</th>\n",
       "      <th>universe_id</th>\n",
       "      <th>universe_settings</th>\n",
       "      <th>execution_time</th>\n",
       "      <th>test_size_n</th>\n",
       "      <th>test_size_frac</th>\n",
       "      <th>fair_main_equalized_odds_difference</th>\n",
       "      <th>fair_main_equalized_odds_ratio</th>\n",
       "      <th>fair_main_demographic_parity_difference</th>\n",
       "      <th>fair_main_demographic_parity_ratio</th>\n",
       "      <th>...</th>\n",
       "      <th>perf_grp_precision_0</th>\n",
       "      <th>perf_grp_precision_1</th>\n",
       "      <th>perf_grp_false positive rate_0</th>\n",
       "      <th>perf_grp_false positive rate_1</th>\n",
       "      <th>perf_grp_false negative rate_0</th>\n",
       "      <th>perf_grp_false negative rate_1</th>\n",
       "      <th>perf_grp_selection rate_0</th>\n",
       "      <th>perf_grp_selection rate_1</th>\n",
       "      <th>perf_grp_count_0</th>\n",
       "      <th>perf_grp_count_1</th>\n",
       "    </tr>\n",
       "  </thead>\n",
       "  <tbody>\n",
       "    <tr>\n",
       "      <th>0</th>\n",
       "      <td>14</td>\n",
       "      <td>47026baa0cda84e1fa4b6ed549da04c0</td>\n",
       "      <td>{\"cutoff\": \"quantile_0.1\", \"eval_fairness_grou...</td>\n",
       "      <td>33.027872</td>\n",
       "      <td>89710</td>\n",
       "      <td>1.0</td>\n",
       "      <td>0.009784</td>\n",
       "      <td>0.990087</td>\n",
       "      <td>0.006463</td>\n",
       "      <td>0.993012</td>\n",
       "      <td>...</td>\n",
       "      <td>NaN</td>\n",
       "      <td>NaN</td>\n",
       "      <td>NaN</td>\n",
       "      <td>NaN</td>\n",
       "      <td>NaN</td>\n",
       "      <td>NaN</td>\n",
       "      <td>NaN</td>\n",
       "      <td>NaN</td>\n",
       "      <td>NaN</td>\n",
       "      <td>NaN</td>\n",
       "    </tr>\n",
       "    <tr>\n",
       "      <th>0</th>\n",
       "      <td>14</td>\n",
       "      <td>47026baa0cda84e1fa4b6ed549da04c0</td>\n",
       "      <td>{\"cutoff\": \"quantile_0.1\", \"eval_fairness_grou...</td>\n",
       "      <td>33.027872</td>\n",
       "      <td>89710</td>\n",
       "      <td>1.0</td>\n",
       "      <td>0.009784</td>\n",
       "      <td>0.990087</td>\n",
       "      <td>0.006463</td>\n",
       "      <td>0.993012</td>\n",
       "      <td>...</td>\n",
       "      <td>0.122668</td>\n",
       "      <td>0.141013</td>\n",
       "      <td>0.910742</td>\n",
       "      <td>0.915409</td>\n",
       "      <td>0.022804</td>\n",
       "      <td>0.013020</td>\n",
       "      <td>0.918403</td>\n",
       "      <td>0.924866</td>\n",
       "      <td>20540.0</td>\n",
       "      <td>69170.0</td>\n",
       "    </tr>\n",
       "    <tr>\n",
       "      <th>0</th>\n",
       "      <td>14</td>\n",
       "      <td>47026baa0cda84e1fa4b6ed549da04c0</td>\n",
       "      <td>{\"cutoff\": \"quantile_0.25\", \"eval_fairness_gro...</td>\n",
       "      <td>33.027872</td>\n",
       "      <td>89710</td>\n",
       "      <td>1.0</td>\n",
       "      <td>0.041518</td>\n",
       "      <td>0.945729</td>\n",
       "      <td>0.029052</td>\n",
       "      <td>0.962750</td>\n",
       "      <td>...</td>\n",
       "      <td>NaN</td>\n",
       "      <td>NaN</td>\n",
       "      <td>NaN</td>\n",
       "      <td>NaN</td>\n",
       "      <td>NaN</td>\n",
       "      <td>NaN</td>\n",
       "      <td>NaN</td>\n",
       "      <td>NaN</td>\n",
       "      <td>NaN</td>\n",
       "      <td>NaN</td>\n",
       "    </tr>\n",
       "    <tr>\n",
       "      <th>0</th>\n",
       "      <td>14</td>\n",
       "      <td>47026baa0cda84e1fa4b6ed549da04c0</td>\n",
       "      <td>{\"cutoff\": \"quantile_0.25\", \"eval_fairness_gro...</td>\n",
       "      <td>33.027872</td>\n",
       "      <td>89710</td>\n",
       "      <td>1.0</td>\n",
       "      <td>0.041518</td>\n",
       "      <td>0.945729</td>\n",
       "      <td>0.029052</td>\n",
       "      <td>0.962750</td>\n",
       "      <td>...</td>\n",
       "      <td>0.132210</td>\n",
       "      <td>0.163788</td>\n",
       "      <td>0.765023</td>\n",
       "      <td>0.723505</td>\n",
       "      <td>0.105574</td>\n",
       "      <td>0.069256</td>\n",
       "      <td>0.779942</td>\n",
       "      <td>0.750889</td>\n",
       "      <td>20540.0</td>\n",
       "      <td>69170.0</td>\n",
       "    </tr>\n",
       "  </tbody>\n",
       "</table>\n",
       "<p>4 rows × 50 columns</p>\n",
       "</div>"
      ],
      "text/plain": [
       "  run_no                       universe_id  \\\n",
       "0     14  47026baa0cda84e1fa4b6ed549da04c0   \n",
       "0     14  47026baa0cda84e1fa4b6ed549da04c0   \n",
       "0     14  47026baa0cda84e1fa4b6ed549da04c0   \n",
       "0     14  47026baa0cda84e1fa4b6ed549da04c0   \n",
       "\n",
       "                                   universe_settings  execution_time  \\\n",
       "0  {\"cutoff\": \"quantile_0.1\", \"eval_fairness_grou...       33.027872   \n",
       "0  {\"cutoff\": \"quantile_0.1\", \"eval_fairness_grou...       33.027872   \n",
       "0  {\"cutoff\": \"quantile_0.25\", \"eval_fairness_gro...       33.027872   \n",
       "0  {\"cutoff\": \"quantile_0.25\", \"eval_fairness_gro...       33.027872   \n",
       "\n",
       "   test_size_n  test_size_frac  fair_main_equalized_odds_difference  \\\n",
       "0        89710             1.0                             0.009784   \n",
       "0        89710             1.0                             0.009784   \n",
       "0        89710             1.0                             0.041518   \n",
       "0        89710             1.0                             0.041518   \n",
       "\n",
       "   fair_main_equalized_odds_ratio  fair_main_demographic_parity_difference  \\\n",
       "0                        0.990087                                 0.006463   \n",
       "0                        0.990087                                 0.006463   \n",
       "0                        0.945729                                 0.029052   \n",
       "0                        0.945729                                 0.029052   \n",
       "\n",
       "   fair_main_demographic_parity_ratio  ...  perf_grp_precision_0  \\\n",
       "0                            0.993012  ...                   NaN   \n",
       "0                            0.993012  ...              0.122668   \n",
       "0                            0.962750  ...                   NaN   \n",
       "0                            0.962750  ...              0.132210   \n",
       "\n",
       "   perf_grp_precision_1  perf_grp_false positive rate_0  \\\n",
       "0                   NaN                             NaN   \n",
       "0              0.141013                        0.910742   \n",
       "0                   NaN                             NaN   \n",
       "0              0.163788                        0.765023   \n",
       "\n",
       "   perf_grp_false positive rate_1  perf_grp_false negative rate_0  \\\n",
       "0                             NaN                             NaN   \n",
       "0                        0.915409                        0.022804   \n",
       "0                             NaN                             NaN   \n",
       "0                        0.723505                        0.105574   \n",
       "\n",
       "   perf_grp_false negative rate_1  perf_grp_selection rate_0  \\\n",
       "0                             NaN                        NaN   \n",
       "0                        0.013020                   0.918403   \n",
       "0                             NaN                        NaN   \n",
       "0                        0.069256                   0.779942   \n",
       "\n",
       "   perf_grp_selection rate_1  perf_grp_count_0  perf_grp_count_1  \n",
       "0                        NaN               NaN               NaN  \n",
       "0                   0.924866           20540.0           69170.0  \n",
       "0                        NaN               NaN               NaN  \n",
       "0                   0.750889           20540.0           69170.0  \n",
       "\n",
       "[4 rows x 50 columns]"
      ]
     },
     "execution_count": 79,
     "metadata": {},
     "output_type": "execute_result"
    }
   ],
   "source": [
    "final_output = universe_analysis.generate_final_output(\n",
    "    y_pred_prob=probs_test,\n",
    "    y_test=y_true,\n",
    "    org_test=org_test,\n",
    "    filter_data=filter_sub_universe_data,\n",
    "    cp_metrics_df=cp_metrics_df,\n",
    "    save=True,\n",
    ")\n",
    "final_output"
   ]
  },
  {
   "cell_type": "code",
   "execution_count": null,
   "id": "721ff514-cb11-46f8-b6fc-50392f74b5cb",
   "metadata": {
    "papermill": {
     "duration": 0.028033,
     "end_time": "2025-07-30T21:52:20.985152",
     "exception": false,
     "start_time": "2025-07-30T21:52:20.957119",
     "status": "completed"
    },
    "tags": []
   },
   "outputs": [],
   "source": []
  }
 ],
 "metadata": {
  "celltoolbar": "Tags",
  "kernelspec": {
   "display_name": "Python (CMA Fairness)",
   "language": "python",
   "name": "cma_fair_env"
  },
  "language_info": {
   "codemirror_mode": {
    "name": "ipython",
    "version": 3
   },
   "file_extension": ".py",
   "mimetype": "text/x-python",
   "name": "python",
   "nbconvert_exporter": "python",
   "pygments_lexer": "ipython3",
   "version": "3.10.12"
  },
  "papermill": {
   "default_parameters": {},
   "duration": 46.023882,
   "end_time": "2025-07-30T21:52:21.731728",
   "environment_variables": {},
   "exception": null,
   "input_path": "universe_analysis.ipynb",
   "output_path": "output/runs/14/notebooks/m_14-47026baa0cda84e1fa4b6ed549da04c0.ipynb",
   "parameters": {
    "output_dir": "output",
    "run_no": "14",
    "seed": "2023",
    "universe": "{\"cutoff\": [\"quantile_0.1\", \"quantile_0.25\"], \"eval_fairness_grouping\": [\"majority-minority\", \"nationality-all\"], \"exclude_features\": \"age\", \"exclude_subgroups\": \"drop-non-german\", \"model\": \"rf\", \"scale\": \"do-not-scale\", \"training_size\": \"1k\", \"training_year\": \"2010_14\"}",
    "universe_id": "47026baa0cda84e1fa4b6ed549da04c0"
   },
   "start_time": "2025-07-30T21:51:35.707846",
   "version": "2.6.0"
  }
 },
 "nbformat": 4,
 "nbformat_minor": 5
}