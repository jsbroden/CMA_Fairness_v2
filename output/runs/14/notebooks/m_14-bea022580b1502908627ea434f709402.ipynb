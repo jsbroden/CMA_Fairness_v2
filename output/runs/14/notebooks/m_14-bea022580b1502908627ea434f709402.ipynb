{
 "cells": [
  {
   "cell_type": "code",
   "execution_count": 1,
   "id": "f159f837-637b-42ba-96b5-ec9a68c44524",
   "metadata": {
    "execution": {
     "iopub.execute_input": "2025-07-30T21:26:54.310773Z",
     "iopub.status.busy": "2025-07-30T21:26:54.310391Z",
     "iopub.status.idle": "2025-07-30T21:26:54.322447Z",
     "shell.execute_reply": "2025-07-30T21:26:54.321677Z"
    },
    "papermill": {
     "duration": 0.025115,
     "end_time": "2025-07-30T21:26:54.323850",
     "exception": false,
     "start_time": "2025-07-30T21:26:54.298735",
     "status": "completed"
    },
    "tags": []
   },
   "outputs": [
    {
     "name": "stdout",
     "output_type": "stream",
     "text": [
      "/dss/dsshome1/0C/ra93lal2/cma/CMA_Fairness_v2\n"
     ]
    },
    {
     "name": "stderr",
     "output_type": "stream",
     "text": [
      "/dss/dsshome1/0C/ra93lal2/.local/share/virtualenvs/CMA_Fairness_v2-3j10GkSs/lib/python3.10/site-packages/IPython/core/magics/osm.py:393: UserWarning: This is now an optional IPython functionality, using bookmarks requires you to install the `pickleshare` library.\n",
      "  bkms = self.shell.db.get('bookmarks', {})\n",
      "/dss/dsshome1/0C/ra93lal2/.local/share/virtualenvs/CMA_Fairness_v2-3j10GkSs/lib/python3.10/site-packages/IPython/core/magics/osm.py:417: UserWarning: This is now an optional IPython functionality, setting dhist requires you to install the `pickleshare` library.\n",
      "  self.shell.db['dhist'] = compress_dhist(dhist)[-100:]\n"
     ]
    }
   ],
   "source": [
    "%cd ~/cma/CMA_Fairness_v2"
   ]
  },
  {
   "cell_type": "markdown",
   "id": "de2603b9",
   "metadata": {
    "papermill": {
     "duration": 0.010165,
     "end_time": "2025-07-30T21:26:54.345439",
     "exception": false,
     "start_time": "2025-07-30T21:26:54.335274",
     "status": "completed"
    },
    "tags": []
   },
   "source": [
    "The following cell holds the definition of our parameters, these values can be overriden by rendering the with e.g. the following command:\n",
    "\n",
    "papermill -p alpha 0.2 -p ratio 0.3 universe_analysis.ipynb output/test_run.ipynb"
   ]
  },
  {
   "cell_type": "code",
   "execution_count": 2,
   "id": "a80968a0-40bb-4fa9-85ef-2d5eefb01975",
   "metadata": {
    "execution": {
     "iopub.execute_input": "2025-07-30T21:26:54.367047Z",
     "iopub.status.busy": "2025-07-30T21:26:54.366573Z",
     "iopub.status.idle": "2025-07-30T21:26:54.372255Z",
     "shell.execute_reply": "2025-07-30T21:26:54.371438Z"
    },
    "papermill": {
     "duration": 0.018434,
     "end_time": "2025-07-30T21:26:54.373702",
     "exception": false,
     "start_time": "2025-07-30T21:26:54.355268",
     "status": "completed"
    },
    "tags": []
   },
   "outputs": [
    {
     "name": "stdout",
     "output_type": "stream",
     "text": [
      "Current working directory: /dss/dsshome1/0C/ra93lal2/cma/CMA_Fairness_v2\n"
     ]
    }
   ],
   "source": [
    "import os\n",
    "print(\"Current working directory:\", os.getcwd())"
   ]
  },
  {
   "cell_type": "code",
   "execution_count": 3,
   "id": "2dce4c03",
   "metadata": {
    "execution": {
     "iopub.execute_input": "2025-07-30T21:26:54.396351Z",
     "iopub.status.busy": "2025-07-30T21:26:54.395740Z",
     "iopub.status.idle": "2025-07-30T21:26:54.400555Z",
     "shell.execute_reply": "2025-07-30T21:26:54.399802Z"
    },
    "papermill": {
     "duration": 0.017018,
     "end_time": "2025-07-30T21:26:54.401856",
     "exception": false,
     "start_time": "2025-07-30T21:26:54.384838",
     "status": "completed"
    },
    "tags": [
     "parameters"
    ]
   },
   "outputs": [],
   "source": [
    "run_no = 0\n",
    "universe_id = \"test\"\n",
    "universe = {\n",
    "    \"training_size\": \"25k\", # \"25k\", \"5k\", \"1k\"\n",
    "    \"training_year\": \"2014\", # \"2014\", \"2012_14\", \"2010_14\"\n",
    "    \"scale\": \"scale\", # \"scale\", \"do-not-scale\",\n",
    "    #\"stratify_split\": \"target\", # \"none\", \"target\", \"protected-attribute\", \"both\",\n",
    "    \"model\": \"elasticnet\", # \"logreg\", \"penalized_logreg\", \"rf\", \"gbm\", \"elasticnet\"\n",
    "    \"cutoff\": [\"quantile_0.15\", \"quantile_0.30\"],\n",
    "    \"exclude_features\": \"age\", # \"none\", \"nationality\", \"sex\", \"nationality-sex\", \"age\"\n",
    "    \"exclude_subgroups\": \"keep-all\", # \"keep-all\", \"drop-non-german\"\n",
    "    \"eval_fairness_grouping\": [\"majority-minority\", \"nationality-all\"]\n",
    "}\n",
    "\n",
    "output_dir=\"./output\"\n",
    "seed=0"
   ]
  },
  {
   "cell_type": "code",
   "execution_count": 4,
   "id": "2c714da2",
   "metadata": {
    "execution": {
     "iopub.execute_input": "2025-07-30T21:26:54.425411Z",
     "iopub.status.busy": "2025-07-30T21:26:54.425101Z",
     "iopub.status.idle": "2025-07-30T21:26:54.429162Z",
     "shell.execute_reply": "2025-07-30T21:26:54.428495Z"
    },
    "papermill": {
     "duration": 0.017472,
     "end_time": "2025-07-30T21:26:54.430517",
     "exception": false,
     "start_time": "2025-07-30T21:26:54.413045",
     "status": "completed"
    },
    "tags": [
     "injected-parameters"
    ]
   },
   "outputs": [],
   "source": [
    "# Parameters\n",
    "universe_id = \"bea022580b1502908627ea434f709402\"\n",
    "run_no = \"14\"\n",
    "universe = \"{\\\"cutoff\\\": [\\\"quantile_0.1\\\", \\\"quantile_0.25\\\"], \\\"eval_fairness_grouping\\\": [\\\"majority-minority\\\", \\\"nationality-all\\\"], \\\"exclude_features\\\": \\\"age\\\", \\\"exclude_subgroups\\\": \\\"keep-all\\\", \\\"model\\\": \\\"elasticnet\\\", \\\"scale\\\": \\\"scale\\\", \\\"training_size\\\": \\\"1k\\\", \\\"training_year\\\": \\\"2014\\\"}\"\n",
    "output_dir = \"output\"\n",
    "seed = \"2023\"\n"
   ]
  },
  {
   "cell_type": "code",
   "execution_count": 5,
   "id": "1650acaf",
   "metadata": {
    "execution": {
     "iopub.execute_input": "2025-07-30T21:26:54.453044Z",
     "iopub.status.busy": "2025-07-30T21:26:54.452410Z",
     "iopub.status.idle": "2025-07-30T21:26:54.457661Z",
     "shell.execute_reply": "2025-07-30T21:26:54.456589Z"
    },
    "papermill": {
     "duration": 0.017923,
     "end_time": "2025-07-30T21:26:54.459420",
     "exception": false,
     "start_time": "2025-07-30T21:26:54.441497",
     "status": "completed"
    },
    "tags": []
   },
   "outputs": [],
   "source": [
    "import json\n",
    "# Parse universe into dict if it is passed as a string\n",
    "if isinstance(universe, str):\n",
    "    universe = json.loads(universe)"
   ]
  },
  {
   "cell_type": "code",
   "execution_count": 6,
   "id": "16620c48",
   "metadata": {
    "execution": {
     "iopub.execute_input": "2025-07-30T21:26:54.504890Z",
     "iopub.status.busy": "2025-07-30T21:26:54.504388Z",
     "iopub.status.idle": "2025-07-30T21:26:54.550799Z",
     "shell.execute_reply": "2025-07-30T21:26:54.549824Z"
    },
    "papermill": {
     "duration": 0.070437,
     "end_time": "2025-07-30T21:26:54.552702",
     "exception": false,
     "start_time": "2025-07-30T21:26:54.482265",
     "status": "completed"
    },
    "tags": []
   },
   "outputs": [],
   "source": [
    "# Auto-reload the custom package\n",
    "%load_ext autoreload\n",
    "%autoreload 1\n",
    "%aimport fairness_multiverse"
   ]
  },
  {
   "cell_type": "code",
   "execution_count": 7,
   "id": "01c5c9f3",
   "metadata": {
    "execution": {
     "iopub.execute_input": "2025-07-30T21:26:54.598269Z",
     "iopub.status.busy": "2025-07-30T21:26:54.597330Z",
     "iopub.status.idle": "2025-07-30T21:26:56.556149Z",
     "shell.execute_reply": "2025-07-30T21:26:56.554876Z"
    },
    "papermill": {
     "duration": 1.983918,
     "end_time": "2025-07-30T21:26:56.558761",
     "exception": false,
     "start_time": "2025-07-30T21:26:54.574843",
     "status": "completed"
    },
    "tags": []
   },
   "outputs": [],
   "source": [
    "from fairness_multiverse.universe import UniverseAnalysis\n",
    "\n",
    "universe_analysis = UniverseAnalysis(\n",
    "    run_no = run_no,\n",
    "    universe_id = universe_id,\n",
    "    universe = universe,\n",
    "    output_dir=output_dir,\n",
    ")"
   ]
  },
  {
   "cell_type": "code",
   "execution_count": 8,
   "id": "106241f5",
   "metadata": {
    "execution": {
     "iopub.execute_input": "2025-07-30T21:26:56.615686Z",
     "iopub.status.busy": "2025-07-30T21:26:56.614662Z",
     "iopub.status.idle": "2025-07-30T21:26:56.623181Z",
     "shell.execute_reply": "2025-07-30T21:26:56.622114Z"
    },
    "papermill": {
     "duration": 0.038075,
     "end_time": "2025-07-30T21:26:56.624928",
     "exception": false,
     "start_time": "2025-07-30T21:26:56.586853",
     "status": "completed"
    },
    "tags": []
   },
   "outputs": [
    {
     "name": "stdout",
     "output_type": "stream",
     "text": [
      "Using Seed: 2023\n"
     ]
    }
   ],
   "source": [
    "import numpy as np\n",
    "parsed_seed = int(seed)\n",
    "np.random.seed(parsed_seed)\n",
    "print(f\"Using Seed: {parsed_seed}\")"
   ]
  },
  {
   "cell_type": "markdown",
   "id": "e0ebdc57",
   "metadata": {
    "papermill": {
     "duration": 0.022018,
     "end_time": "2025-07-30T21:26:56.669611",
     "exception": false,
     "start_time": "2025-07-30T21:26:56.647593",
     "status": "completed"
    },
    "tags": []
   },
   "source": [
    "# Loading Data"
   ]
  },
  {
   "cell_type": "markdown",
   "id": "681925a3",
   "metadata": {
    "papermill": {
     "duration": 0.021301,
     "end_time": "2025-07-30T21:26:56.711741",
     "exception": false,
     "start_time": "2025-07-30T21:26:56.690440",
     "status": "completed"
    },
    "tags": []
   },
   "source": [
    "Load siab_train, siab_test, siab_calib and/or \n",
    "load siab_train_features, siab_train_labels"
   ]
  },
  {
   "cell_type": "code",
   "execution_count": 9,
   "id": "f0496b8a",
   "metadata": {
    "execution": {
     "iopub.execute_input": "2025-07-30T21:26:56.756862Z",
     "iopub.status.busy": "2025-07-30T21:26:56.756069Z",
     "iopub.status.idle": "2025-07-30T21:27:08.709926Z",
     "shell.execute_reply": "2025-07-30T21:27:08.708724Z"
    },
    "papermill": {
     "duration": 11.978579,
     "end_time": "2025-07-30T21:27:08.711669",
     "exception": false,
     "start_time": "2025-07-30T21:26:56.733090",
     "status": "completed"
    },
    "tags": []
   },
   "outputs": [
    {
     "name": "stdout",
     "output_type": "stream",
     "text": [
      "Loading SIAB data from cache: data/siab_cached.csv.gz\n"
     ]
    },
    {
     "name": "stdout",
     "output_type": "stream",
     "text": [
      "(643690, 164)\n"
     ]
    }
   ],
   "source": [
    "from pathlib import Path\n",
    "import pandas as pd\n",
    "\n",
    "# File paths\n",
    "raw_file = Path(\"data/raw/siab.csv\")\n",
    "cache_file = Path(\"data/siab_cached.csv.gz\")\n",
    "\n",
    "# Ensure cache directory exists\n",
    "cache_file.parent.mkdir(parents=True, exist_ok=True)\n",
    "\n",
    "# Load with simple caching\n",
    "if cache_file.exists():\n",
    "    print(f\"Loading SIAB data from cache: {cache_file}\")\n",
    "    siab = pd.read_csv(cache_file, compression='gzip')\n",
    "else:\n",
    "    print(f\"Cache not found. Reading raw SIAB data: {raw_file}\")\n",
    "    siab = pd.read_csv(raw_file)\n",
    "    siab.to_csv(cache_file, index=False, compression='gzip')\n",
    "    print(f\"Cached SIAB data to: {cache_file}\")\n",
    "\n",
    "# Now use `siab` DataFrame as needed\n",
    "print(siab.shape)"
   ]
  },
  {
   "cell_type": "code",
   "execution_count": 10,
   "id": "db0ca512-5f53-4dba-abdb-a2888bca41ba",
   "metadata": {
    "execution": {
     "iopub.execute_input": "2025-07-30T21:27:08.736857Z",
     "iopub.status.busy": "2025-07-30T21:27:08.736476Z",
     "iopub.status.idle": "2025-07-30T21:27:08.741113Z",
     "shell.execute_reply": "2025-07-30T21:27:08.740264Z"
    },
    "papermill": {
     "duration": 0.01728,
     "end_time": "2025-07-30T21:27:08.742354",
     "exception": false,
     "start_time": "2025-07-30T21:27:08.725074",
     "status": "completed"
    },
    "tags": []
   },
   "outputs": [],
   "source": [
    "#siab"
   ]
  },
  {
   "cell_type": "code",
   "execution_count": 11,
   "id": "a0edb063",
   "metadata": {
    "execution": {
     "iopub.execute_input": "2025-07-30T21:27:08.765650Z",
     "iopub.status.busy": "2025-07-30T21:27:08.765163Z",
     "iopub.status.idle": "2025-07-30T21:27:08.769267Z",
     "shell.execute_reply": "2025-07-30T21:27:08.768586Z"
    },
    "papermill": {
     "duration": 0.016469,
     "end_time": "2025-07-30T21:27:08.770536",
     "exception": false,
     "start_time": "2025-07-30T21:27:08.754067",
     "status": "completed"
    },
    "tags": []
   },
   "outputs": [],
   "source": [
    "#import pandas as pd\n",
    "#\n",
    "#X_train = pd.read_csv(\"./data/X_train.csv\")\n",
    "#y_train = pd.read_csv(\"./data/y_train.csv\")"
   ]
  },
  {
   "cell_type": "code",
   "execution_count": 12,
   "id": "63d08085",
   "metadata": {
    "execution": {
     "iopub.execute_input": "2025-07-30T21:27:08.794277Z",
     "iopub.status.busy": "2025-07-30T21:27:08.793490Z",
     "iopub.status.idle": "2025-07-30T21:27:08.797849Z",
     "shell.execute_reply": "2025-07-30T21:27:08.797168Z"
    },
    "papermill": {
     "duration": 0.016825,
     "end_time": "2025-07-30T21:27:08.799222",
     "exception": false,
     "start_time": "2025-07-30T21:27:08.782397",
     "status": "completed"
    },
    "tags": []
   },
   "outputs": [],
   "source": [
    "#X_test = pd.read_csv(\"./data/X_test.csv\")\n",
    "#y_true = pd.read_csv(\"./data/y_test.csv\")"
   ]
  },
  {
   "cell_type": "code",
   "execution_count": 13,
   "id": "98a8d0fa-1d3d-4ed8-bb2c-281470e24add",
   "metadata": {
    "execution": {
     "iopub.execute_input": "2025-07-30T21:27:08.822654Z",
     "iopub.status.busy": "2025-07-30T21:27:08.822167Z",
     "iopub.status.idle": "2025-07-30T21:27:08.826669Z",
     "shell.execute_reply": "2025-07-30T21:27:08.825998Z"
    },
    "papermill": {
     "duration": 0.017063,
     "end_time": "2025-07-30T21:27:08.827952",
     "exception": false,
     "start_time": "2025-07-30T21:27:08.810889",
     "status": "completed"
    },
    "tags": []
   },
   "outputs": [],
   "source": [
    "# Calibration data for conformal\n",
    "#X_calib = pd.read_csv(\"./data/X_calib.csv\")\n",
    "#y_calib = pd.read_csv(\"./data/y_calib.csv\")"
   ]
  },
  {
   "cell_type": "markdown",
   "id": "997051c5-15bd-4b69-9786-c3001a3ce484",
   "metadata": {
    "papermill": {
     "duration": 0.018146,
     "end_time": "2025-07-30T21:27:08.861667",
     "exception": false,
     "start_time": "2025-07-30T21:27:08.843521",
     "status": "completed"
    },
    "tags": []
   },
   "source": [
    "# Splitting Data and Setting Training Data Size"
   ]
  },
  {
   "cell_type": "code",
   "execution_count": 14,
   "id": "e993b61f-042d-41a6-8c81-f55681f86335",
   "metadata": {
    "execution": {
     "iopub.execute_input": "2025-07-30T21:27:08.883972Z",
     "iopub.status.busy": "2025-07-30T21:27:08.883469Z",
     "iopub.status.idle": "2025-07-30T21:27:08.892916Z",
     "shell.execute_reply": "2025-07-30T21:27:08.892224Z"
    },
    "papermill": {
     "duration": 0.022298,
     "end_time": "2025-07-30T21:27:08.894297",
     "exception": false,
     "start_time": "2025-07-30T21:27:08.871999",
     "status": "completed"
    },
    "tags": []
   },
   "outputs": [],
   "source": [
    "def sample_by_year_size(df,\n",
    "                        training_year: str,\n",
    "                        training_size: str,\n",
    "                        random_state: int = 42):\n",
    "    # --- parse training_year into a list of int years ---\n",
    "    if \"_\" in training_year:\n",
    "        start_str, end_str = training_year.split(\"_\", 1)\n",
    "        start = int(start_str)\n",
    "        end   = int(end_str) if len(end_str) == 4 else (int(end_str) + (start // 100)*100)\n",
    "        years = list(range(start, end + 1))\n",
    "    else:\n",
    "        years = [int(training_year)]\n",
    "\n",
    "    df = df[df[\"year\"].isin(years)].reset_index(drop=True)\n",
    "\n",
    "    # --- map training_size to total number of samples ---\n",
    "    total_map = {\"25k\": 25_000, \"5k\": 5_000, \"1k\": 1_000}\n",
    "    if training_size not in total_map:\n",
    "        return df  # e.g. \"all\"\n",
    "\n",
    "    total_samples = total_map[training_size]\n",
    "    n_years       = len(years)\n",
    "    base          = total_samples // n_years\n",
    "    remainder     = total_samples % n_years\n",
    "\n",
    "    # --- build a dict: year -> how many to sample ---\n",
    "    # give +1 to the first `remainder` years in ascending order\n",
    "    quotas = {\n",
    "        year: base + (1 if idx < remainder else 0)\n",
    "        for idx, year in enumerate(sorted(years))\n",
    "    }\n",
    "\n",
    "    # --- sample per‐year according to the quota dict ---\n",
    "    sampled = (\n",
    "        df\n",
    "        .groupby(\"year\", group_keys=False)\n",
    "        .apply(lambda grp: grp.sample(\n",
    "            n=min(len(grp), quotas[grp.name]),\n",
    "            random_state=random_state))\n",
    "        .reset_index(drop=True)\n",
    "    )\n",
    "\n",
    "    return sampled"
   ]
  },
  {
   "cell_type": "code",
   "execution_count": 15,
   "id": "c0ccd338-0e02-41f3-a09d-f56f9266e3fb",
   "metadata": {
    "execution": {
     "iopub.execute_input": "2025-07-30T21:27:08.918084Z",
     "iopub.status.busy": "2025-07-30T21:27:08.917576Z",
     "iopub.status.idle": "2025-07-30T21:27:08.924324Z",
     "shell.execute_reply": "2025-07-30T21:27:08.922783Z"
    },
    "papermill": {
     "duration": 0.023171,
     "end_time": "2025-07-30T21:27:08.929365",
     "exception": false,
     "start_time": "2025-07-30T21:27:08.906194",
     "status": "completed"
    },
    "tags": []
   },
   "outputs": [],
   "source": [
    "#universe[\"training_size\"]"
   ]
  },
  {
   "cell_type": "code",
   "execution_count": 16,
   "id": "ca707fd7-8047-4acd-bfa5-66248fbbf8e6",
   "metadata": {
    "execution": {
     "iopub.execute_input": "2025-07-30T21:27:08.972136Z",
     "iopub.status.busy": "2025-07-30T21:27:08.971606Z",
     "iopub.status.idle": "2025-07-30T21:27:08.976873Z",
     "shell.execute_reply": "2025-07-30T21:27:08.975964Z"
    },
    "papermill": {
     "duration": 0.027597,
     "end_time": "2025-07-30T21:27:08.978569",
     "exception": false,
     "start_time": "2025-07-30T21:27:08.950972",
     "status": "completed"
    },
    "tags": []
   },
   "outputs": [],
   "source": [
    "#universe[\"training_year\"]"
   ]
  },
  {
   "cell_type": "code",
   "execution_count": 17,
   "id": "aea9c6ef-6f46-42c8-85eb-5a62025c1508",
   "metadata": {
    "execution": {
     "iopub.execute_input": "2025-07-30T21:27:09.018174Z",
     "iopub.status.busy": "2025-07-30T21:27:09.017865Z",
     "iopub.status.idle": "2025-07-30T21:27:09.256791Z",
     "shell.execute_reply": "2025-07-30T21:27:09.255498Z"
    },
    "papermill": {
     "duration": 0.258626,
     "end_time": "2025-07-30T21:27:09.258545",
     "exception": false,
     "start_time": "2025-07-30T21:27:08.999919",
     "status": "completed"
    },
    "tags": []
   },
   "outputs": [],
   "source": [
    "siab_train = sample_by_year_size(siab,\n",
    "                               training_year=universe[\"training_year\"],\n",
    "                               training_size=universe[\"training_size\"])"
   ]
  },
  {
   "cell_type": "code",
   "execution_count": 18,
   "id": "8d3afb32-789d-442c-8d5d-9f5aa8dd2eed",
   "metadata": {
    "execution": {
     "iopub.execute_input": "2025-07-30T21:27:09.333793Z",
     "iopub.status.busy": "2025-07-30T21:27:09.332881Z",
     "iopub.status.idle": "2025-07-30T21:27:09.339116Z",
     "shell.execute_reply": "2025-07-30T21:27:09.337813Z"
    },
    "papermill": {
     "duration": 0.055154,
     "end_time": "2025-07-30T21:27:09.341524",
     "exception": false,
     "start_time": "2025-07-30T21:27:09.286370",
     "status": "completed"
    },
    "tags": []
   },
   "outputs": [],
   "source": [
    "#siab_train.shape"
   ]
  },
  {
   "cell_type": "code",
   "execution_count": 19,
   "id": "d582db68-1a4c-47fb-84fc-08518dc1975a",
   "metadata": {
    "execution": {
     "iopub.execute_input": "2025-07-30T21:27:09.396442Z",
     "iopub.status.busy": "2025-07-30T21:27:09.395656Z",
     "iopub.status.idle": "2025-07-30T21:27:09.402509Z",
     "shell.execute_reply": "2025-07-30T21:27:09.401188Z"
    },
    "papermill": {
     "duration": 0.031194,
     "end_time": "2025-07-30T21:27:09.404430",
     "exception": false,
     "start_time": "2025-07-30T21:27:09.373236",
     "status": "completed"
    },
    "tags": []
   },
   "outputs": [],
   "source": [
    "#display(siab_train.groupby(\"year\").size())"
   ]
  },
  {
   "cell_type": "code",
   "execution_count": 20,
   "id": "a561edb4-d032-42cb-8256-22eac1111c64",
   "metadata": {
    "execution": {
     "iopub.execute_input": "2025-07-30T21:27:09.453310Z",
     "iopub.status.busy": "2025-07-30T21:27:09.452637Z",
     "iopub.status.idle": "2025-07-30T21:27:09.683060Z",
     "shell.execute_reply": "2025-07-30T21:27:09.682261Z"
    },
    "papermill": {
     "duration": 0.257032,
     "end_time": "2025-07-30T21:27:09.684656",
     "exception": false,
     "start_time": "2025-07-30T21:27:09.427624",
     "status": "completed"
    },
    "tags": []
   },
   "outputs": [],
   "source": [
    "#siab_train = siab_s[siab_s.year < 2015]\n",
    "siab_calib = siab[siab.year == 2015]\n",
    "siab_test = siab[siab.year == 2016]"
   ]
  },
  {
   "cell_type": "code",
   "execution_count": 21,
   "id": "472de16f-c3db-4916-846b-1f0de9cf1746",
   "metadata": {
    "execution": {
     "iopub.execute_input": "2025-07-30T21:27:09.721788Z",
     "iopub.status.busy": "2025-07-30T21:27:09.721301Z",
     "iopub.status.idle": "2025-07-30T21:27:09.728995Z",
     "shell.execute_reply": "2025-07-30T21:27:09.727950Z"
    },
    "papermill": {
     "duration": 0.031743,
     "end_time": "2025-07-30T21:27:09.730660",
     "exception": false,
     "start_time": "2025-07-30T21:27:09.698917",
     "status": "completed"
    },
    "tags": []
   },
   "outputs": [],
   "source": [
    "X_train = siab_train.iloc[:,4:164]\n",
    "y_train = siab_train.iloc[:, [3]]"
   ]
  },
  {
   "cell_type": "code",
   "execution_count": 22,
   "id": "828c96af-f43a-4ed6-ba47-8ac73a47d56c",
   "metadata": {
    "execution": {
     "iopub.execute_input": "2025-07-30T21:27:09.780018Z",
     "iopub.status.busy": "2025-07-30T21:27:09.779257Z",
     "iopub.status.idle": "2025-07-30T21:27:09.829863Z",
     "shell.execute_reply": "2025-07-30T21:27:09.828817Z"
    },
    "papermill": {
     "duration": 0.078255,
     "end_time": "2025-07-30T21:27:09.832374",
     "exception": false,
     "start_time": "2025-07-30T21:27:09.754119",
     "status": "completed"
    },
    "tags": []
   },
   "outputs": [],
   "source": [
    "X_calib = siab_calib.iloc[:,4:164]\n",
    "y_calib = siab_calib.iloc[:, [3]]"
   ]
  },
  {
   "cell_type": "code",
   "execution_count": 23,
   "id": "c34be9c3-6bd6-476e-acd3-845840e303be",
   "metadata": {
    "execution": {
     "iopub.execute_input": "2025-07-30T21:27:09.884490Z",
     "iopub.status.busy": "2025-07-30T21:27:09.883605Z",
     "iopub.status.idle": "2025-07-30T21:27:09.933845Z",
     "shell.execute_reply": "2025-07-30T21:27:09.932824Z"
    },
    "papermill": {
     "duration": 0.078265,
     "end_time": "2025-07-30T21:27:09.936118",
     "exception": false,
     "start_time": "2025-07-30T21:27:09.857853",
     "status": "completed"
    },
    "tags": []
   },
   "outputs": [],
   "source": [
    "X_test = siab_test.iloc[:,4:164]\n",
    "y_true = siab_test.iloc[:, [3]]"
   ]
  },
  {
   "cell_type": "markdown",
   "id": "9901737e-04df-44f0-9100-f5ad144ed040",
   "metadata": {
    "papermill": {
     "duration": 0.011209,
     "end_time": "2025-07-30T21:27:09.962961",
     "exception": false,
     "start_time": "2025-07-30T21:27:09.951752",
     "status": "completed"
    },
    "tags": []
   },
   "source": [
    "# Splitting Data and Setting Training Data Size OLD VERSION"
   ]
  },
  {
   "cell_type": "code",
   "execution_count": 24,
   "id": "acbc8f7d-8fc8-4e86-8c59-5dcb0f58384b",
   "metadata": {
    "execution": {
     "iopub.execute_input": "2025-07-30T21:27:09.986478Z",
     "iopub.status.busy": "2025-07-30T21:27:09.986073Z",
     "iopub.status.idle": "2025-07-30T21:27:09.991472Z",
     "shell.execute_reply": "2025-07-30T21:27:09.990686Z"
    },
    "papermill": {
     "duration": 0.018864,
     "end_time": "2025-07-30T21:27:09.992745",
     "exception": false,
     "start_time": "2025-07-30T21:27:09.973881",
     "status": "completed"
    },
    "tags": []
   },
   "outputs": [],
   "source": [
    "#def sample_by_year(df, training_size, random_state=42):\n",
    "#    if training_size == \"2014\":\n",
    "#        return df[df[\"year\"] == 2014].reset_index(drop=True)\n",
    "#    \n",
    "#    size_map = {\n",
    "#        \"25k\": 5000,\n",
    "#        \"5k\": 1000,\n",
    "#        \"1k\": 200\n",
    "#    }\n",
    "#\n",
    "#    if training_size not in size_map:\n",
    "#        return df.reset_index(drop=True)  # use all data\n",
    "#\n",
    "#    n_per_year = size_map[training_size]\n",
    "#    grouped = df.groupby(\"year\")\n",
    "#    sampled = grouped.apply(lambda x: x.sample(n=min(n_per_year, len(x)), random_state=random_state))\n",
    "#    return sampled.reset_index(drop=True)"
   ]
  },
  {
   "cell_type": "code",
   "execution_count": 25,
   "id": "6d931f52-beaf-43ff-9e78-9d44a448d54e",
   "metadata": {
    "execution": {
     "iopub.execute_input": "2025-07-30T21:27:10.021739Z",
     "iopub.status.busy": "2025-07-30T21:27:10.021386Z",
     "iopub.status.idle": "2025-07-30T21:27:10.025811Z",
     "shell.execute_reply": "2025-07-30T21:27:10.025027Z"
    },
    "papermill": {
     "duration": 0.018619,
     "end_time": "2025-07-30T21:27:10.027169",
     "exception": false,
     "start_time": "2025-07-30T21:27:10.008550",
     "status": "completed"
    },
    "tags": []
   },
   "outputs": [],
   "source": [
    "#siab_s = sample_by_year(siab, universe[\"training_size\"])"
   ]
  },
  {
   "cell_type": "code",
   "execution_count": 26,
   "id": "5db0a40e-a4e2-4920-be85-b12ae061d70d",
   "metadata": {
    "execution": {
     "iopub.execute_input": "2025-07-30T21:27:10.052422Z",
     "iopub.status.busy": "2025-07-30T21:27:10.052062Z",
     "iopub.status.idle": "2025-07-30T21:27:10.056260Z",
     "shell.execute_reply": "2025-07-30T21:27:10.055440Z"
    },
    "papermill": {
     "duration": 0.017904,
     "end_time": "2025-07-30T21:27:10.057621",
     "exception": false,
     "start_time": "2025-07-30T21:27:10.039717",
     "status": "completed"
    },
    "tags": []
   },
   "outputs": [],
   "source": [
    "#display(siab_s.groupby(\"year\").size())"
   ]
  },
  {
   "cell_type": "code",
   "execution_count": 27,
   "id": "e6c733c5",
   "metadata": {
    "execution": {
     "iopub.execute_input": "2025-07-30T21:27:10.087157Z",
     "iopub.status.busy": "2025-07-30T21:27:10.086637Z",
     "iopub.status.idle": "2025-07-30T21:27:10.182285Z",
     "shell.execute_reply": "2025-07-30T21:27:10.181112Z"
    },
    "papermill": {
     "duration": 0.109928,
     "end_time": "2025-07-30T21:27:10.183922",
     "exception": false,
     "start_time": "2025-07-30T21:27:10.073994",
     "status": "completed"
    },
    "tags": []
   },
   "outputs": [],
   "source": [
    "# Auxiliary data needed downstream in the pipeline\n",
    "\n",
    "org_train = X_train.copy()\n",
    "org_test = X_test.copy()\n",
    "org_calib = X_calib.copy()"
   ]
  },
  {
   "cell_type": "code",
   "execution_count": 28,
   "id": "1466abac-c6da-4492-a62f-4240ae3783af",
   "metadata": {
    "execution": {
     "iopub.execute_input": "2025-07-30T21:27:10.228287Z",
     "iopub.status.busy": "2025-07-30T21:27:10.227336Z",
     "iopub.status.idle": "2025-07-30T21:27:10.234531Z",
     "shell.execute_reply": "2025-07-30T21:27:10.233195Z"
    },
    "papermill": {
     "duration": 0.029934,
     "end_time": "2025-07-30T21:27:10.237015",
     "exception": false,
     "start_time": "2025-07-30T21:27:10.207081",
     "status": "completed"
    },
    "tags": []
   },
   "outputs": [],
   "source": [
    "# put in other script?\n",
    "# Group sizes\n",
    "\n",
    "#def calculate_percentages(df, df_name):\n",
    "#    total_entries = len(df)\n",
    "#\n",
    "#    female_pct = (df['frau1'] == 1).mean() * 100\n",
    "#    non_german_pct = ((df['maxdeutsch1'] == 0) & (df['maxdeutsch.Missing.'] == 0)).mean() * 100\n",
    "#    non_german_male_pct = ((df['frau1'] == 0) & (df['maxdeutsch1'] == 0) & (df['maxdeutsch.Missing.'] == 0)).mean() * 100\n",
    "#    non_german_female_pct = ((df['frau1'] == 1) & (df['maxdeutsch1'] == 0) & (df['maxdeutsch.Missing.'] == 0)).mean() * 100\n",
    "#\n",
    "#    print(f\"--- {df_name} ---\")\n",
    "#    print(f\"Female: {female_pct:.2f}%\")\n",
    "#    print(f\"Non-German: {non_german_pct:.2f}%\")\n",
    "#    print(f\"Non-German Male: {non_german_male_pct:.2f}%\")\n",
    "#    print(f\"Non-German Female: {non_german_female_pct:.2f}%\\n\")\n",
    "#\n",
    "## Calculate for each DataFrame\n",
    "#calculate_percentages(siab_calib, \"siab_calib\")\n",
    "#calculate_percentages(siab_test, \"siab_test\")\n",
    "#calculate_percentages(siab_train, \"siab_train\")"
   ]
  },
  {
   "cell_type": "markdown",
   "id": "0a4a1b33",
   "metadata": {
    "papermill": {
     "duration": 0.03121,
     "end_time": "2025-07-30T21:27:10.300496",
     "exception": false,
     "start_time": "2025-07-30T21:27:10.269286",
     "status": "completed"
    },
    "tags": []
   },
   "source": [
    "# Preprocessing Data"
   ]
  },
  {
   "cell_type": "code",
   "execution_count": 29,
   "id": "ca879031",
   "metadata": {
    "execution": {
     "iopub.execute_input": "2025-07-30T21:27:10.364295Z",
     "iopub.status.busy": "2025-07-30T21:27:10.363786Z",
     "iopub.status.idle": "2025-07-30T21:27:10.369999Z",
     "shell.execute_reply": "2025-07-30T21:27:10.368862Z"
    },
    "papermill": {
     "duration": 0.040786,
     "end_time": "2025-07-30T21:27:10.371864",
     "exception": false,
     "start_time": "2025-07-30T21:27:10.331078",
     "status": "completed"
    },
    "tags": []
   },
   "outputs": [],
   "source": [
    "# EXCLUDE PROTECTED FEATURES\n",
    "# ----------------------\n",
    "# \"exclude_features\": \"none\", # \"nationality\", \"sex\", \"nationality-sex\"\n",
    "\n",
    "excluded_features = universe[\"exclude_features\"].split(\"-\") # split, e.g.: \"nationality-sex\" -> [\"nationality\", \"sex\"]\n",
    "excluded_features_dictionary = {\n",
    "    \"nationality\": [\"maxdeutsch1\", \"maxdeutsch.Missing.\"],\n",
    "    \"sex\": [\"frau1\"],\n",
    "    \"age\": [\"age\"],\n",
    "}\n"
   ]
  },
  {
   "cell_type": "code",
   "execution_count": 30,
   "id": "b745ac60",
   "metadata": {
    "execution": {
     "iopub.execute_input": "2025-07-30T21:27:10.413841Z",
     "iopub.status.busy": "2025-07-30T21:27:10.413489Z",
     "iopub.status.idle": "2025-07-30T21:27:10.417985Z",
     "shell.execute_reply": "2025-07-30T21:27:10.417250Z"
    },
    "papermill": {
     "duration": 0.021709,
     "end_time": "2025-07-30T21:27:10.419379",
     "exception": false,
     "start_time": "2025-07-30T21:27:10.397670",
     "status": "completed"
    },
    "tags": []
   },
   "outputs": [],
   "source": [
    "# Code nice names to column names\n",
    "\n",
    "excluded_features_columns = [\n",
    "    excluded_features_dictionary[f] for f in excluded_features if len(f) > 0 and f != \"none\"\n",
    "]"
   ]
  },
  {
   "cell_type": "code",
   "execution_count": 31,
   "id": "f84f73a2",
   "metadata": {
    "execution": {
     "iopub.execute_input": "2025-07-30T21:27:10.446797Z",
     "iopub.status.busy": "2025-07-30T21:27:10.446441Z",
     "iopub.status.idle": "2025-07-30T21:27:10.451445Z",
     "shell.execute_reply": "2025-07-30T21:27:10.450769Z"
    },
    "papermill": {
     "duration": 0.020737,
     "end_time": "2025-07-30T21:27:10.452820",
     "exception": false,
     "start_time": "2025-07-30T21:27:10.432083",
     "status": "completed"
    },
    "tags": []
   },
   "outputs": [],
   "source": [
    "from utils import flatten_once\n",
    "\n",
    "excluded_features_columns = flatten_once(excluded_features_columns)"
   ]
  },
  {
   "cell_type": "code",
   "execution_count": 32,
   "id": "884dea22",
   "metadata": {
    "execution": {
     "iopub.execute_input": "2025-07-30T21:27:10.485401Z",
     "iopub.status.busy": "2025-07-30T21:27:10.484704Z",
     "iopub.status.idle": "2025-07-30T21:27:10.491390Z",
     "shell.execute_reply": "2025-07-30T21:27:10.490592Z"
    },
    "papermill": {
     "duration": 0.022361,
     "end_time": "2025-07-30T21:27:10.493194",
     "exception": false,
     "start_time": "2025-07-30T21:27:10.470833",
     "status": "completed"
    },
    "tags": []
   },
   "outputs": [
    {
     "name": "stdout",
     "output_type": "stream",
     "text": [
      "Dropping features: ['age']\n"
     ]
    }
   ],
   "source": [
    "if len(excluded_features_columns) > 0:\n",
    "    print(f\"Dropping features: {excluded_features_columns}\")\n",
    "    X_train.drop(excluded_features_columns, axis=1, inplace=True)"
   ]
  },
  {
   "cell_type": "code",
   "execution_count": 33,
   "id": "95ab8b16",
   "metadata": {
    "execution": {
     "iopub.execute_input": "2025-07-30T21:27:10.537895Z",
     "iopub.status.busy": "2025-07-30T21:27:10.537356Z",
     "iopub.status.idle": "2025-07-30T21:27:10.604065Z",
     "shell.execute_reply": "2025-07-30T21:27:10.602844Z"
    },
    "papermill": {
     "duration": 0.09344,
     "end_time": "2025-07-30T21:27:10.605699",
     "exception": false,
     "start_time": "2025-07-30T21:27:10.512259",
     "status": "completed"
    },
    "tags": []
   },
   "outputs": [
    {
     "name": "stdout",
     "output_type": "stream",
     "text": [
      "Dropping features: ['age']\n"
     ]
    }
   ],
   "source": [
    "if len(excluded_features_columns) > 0:\n",
    "    print(f\"Dropping features: {excluded_features_columns}\")\n",
    "    X_test.drop(excluded_features_columns, axis=1, inplace=True)"
   ]
  },
  {
   "cell_type": "code",
   "execution_count": 34,
   "id": "1853aaf5-fb9f-46cb-a2b5-8ea4ae2237e4",
   "metadata": {
    "execution": {
     "iopub.execute_input": "2025-07-30T21:27:10.653865Z",
     "iopub.status.busy": "2025-07-30T21:27:10.653357Z",
     "iopub.status.idle": "2025-07-30T21:27:10.714359Z",
     "shell.execute_reply": "2025-07-30T21:27:10.711759Z"
    },
    "papermill": {
     "duration": 0.087863,
     "end_time": "2025-07-30T21:27:10.716356",
     "exception": false,
     "start_time": "2025-07-30T21:27:10.628493",
     "status": "completed"
    },
    "tags": []
   },
   "outputs": [
    {
     "name": "stdout",
     "output_type": "stream",
     "text": [
      "Dropping features: ['age']\n"
     ]
    }
   ],
   "source": [
    "if len(excluded_features_columns) > 0:\n",
    "    print(f\"Dropping features: {excluded_features_columns}\")\n",
    "    X_calib.drop(excluded_features_columns, axis=1, inplace=True)"
   ]
  },
  {
   "cell_type": "code",
   "execution_count": 35,
   "id": "6727d079-03e5-481e-9d38-292a90b7a0a8",
   "metadata": {
    "execution": {
     "iopub.execute_input": "2025-07-30T21:27:10.766245Z",
     "iopub.status.busy": "2025-07-30T21:27:10.765589Z",
     "iopub.status.idle": "2025-07-30T21:27:10.770903Z",
     "shell.execute_reply": "2025-07-30T21:27:10.770016Z"
    },
    "papermill": {
     "duration": 0.031543,
     "end_time": "2025-07-30T21:27:10.772331",
     "exception": false,
     "start_time": "2025-07-30T21:27:10.740788",
     "status": "completed"
    },
    "tags": []
   },
   "outputs": [],
   "source": [
    "# SPLIT & STRATIFY DATA\n",
    "# ----------------------"
   ]
  },
  {
   "cell_type": "code",
   "execution_count": 36,
   "id": "76c4dc6d",
   "metadata": {
    "execution": {
     "iopub.execute_input": "2025-07-30T21:27:10.821048Z",
     "iopub.status.busy": "2025-07-30T21:27:10.820611Z",
     "iopub.status.idle": "2025-07-30T21:27:10.826321Z",
     "shell.execute_reply": "2025-07-30T21:27:10.825253Z"
    },
    "papermill": {
     "duration": 0.032748,
     "end_time": "2025-07-30T21:27:10.828300",
     "exception": false,
     "start_time": "2025-07-30T21:27:10.795552",
     "status": "completed"
    },
    "tags": []
   },
   "outputs": [],
   "source": [
    "# EXCLUDE CERTAIN SUBGROUPS\n",
    "# ----------------------\n",
    "\n",
    "mode = universe.get(\"exclude_subgroups\", \"keep-all\") \n",
    "# Fetches the exclude_subgroups setting from the universe dict.\n",
    "# Defaults to \"keep-all\" if the key is missing."
   ]
  },
  {
   "cell_type": "code",
   "execution_count": 37,
   "id": "21994072",
   "metadata": {
    "execution": {
     "iopub.execute_input": "2025-07-30T21:27:10.876537Z",
     "iopub.status.busy": "2025-07-30T21:27:10.875705Z",
     "iopub.status.idle": "2025-07-30T21:27:10.882490Z",
     "shell.execute_reply": "2025-07-30T21:27:10.881402Z"
    },
    "papermill": {
     "duration": 0.033801,
     "end_time": "2025-07-30T21:27:10.884268",
     "exception": false,
     "start_time": "2025-07-30T21:27:10.850467",
     "status": "completed"
    },
    "tags": []
   },
   "outputs": [],
   "source": [
    "if mode == \"keep-all\":\n",
    "    keep_mask = pd.Series(True, index=org_train.index)\n",
    "\n",
    "# org_train contains the original feature columns from features_org (in Simson)\n",
    "# features_org contains unprocessed features, for me X_train at beginning ???\n",
    "# For keep-all, creates a boolean Series (keep_mask) of all True, so no rows are removed.\n",
    "\n",
    "elif mode == \"drop-non-german\":\n",
    "    keep_mask = org_train[\"maxdeutsch1\"] == 1 # ??? what about missing values?\n",
    "\n",
    "else:\n",
    "    raise ValueError(f\"Unsupported mode for exclude_subgroups: {mode}\")\n"
   ]
  },
  {
   "cell_type": "code",
   "execution_count": 38,
   "id": "71651440",
   "metadata": {
    "execution": {
     "iopub.execute_input": "2025-07-30T21:27:10.940683Z",
     "iopub.status.busy": "2025-07-30T21:27:10.940092Z",
     "iopub.status.idle": "2025-07-30T21:27:10.947508Z",
     "shell.execute_reply": "2025-07-30T21:27:10.946228Z"
    },
    "papermill": {
     "duration": 0.037225,
     "end_time": "2025-07-30T21:27:10.949457",
     "exception": false,
     "start_time": "2025-07-30T21:27:10.912232",
     "status": "completed"
    },
    "tags": []
   },
   "outputs": [],
   "source": [
    "n_drop = (~keep_mask).sum() # Calculates how many rows are set to be dropped\n",
    "if n_drop > 0:\n",
    "    pct = n_drop / len(keep_mask) * 100\n",
    "    print(f\"Dropping {n_drop} rows ({pct:.2f}%) where mode='{mode}'\")"
   ]
  },
  {
   "cell_type": "code",
   "execution_count": 39,
   "id": "5fb8eee5",
   "metadata": {
    "execution": {
     "iopub.execute_input": "2025-07-30T21:27:11.004735Z",
     "iopub.status.busy": "2025-07-30T21:27:11.003724Z",
     "iopub.status.idle": "2025-07-30T21:27:11.010881Z",
     "shell.execute_reply": "2025-07-30T21:27:11.009723Z"
    },
    "papermill": {
     "duration": 0.037133,
     "end_time": "2025-07-30T21:27:11.013308",
     "exception": false,
     "start_time": "2025-07-30T21:27:10.976175",
     "status": "completed"
    },
    "tags": []
   },
   "outputs": [],
   "source": [
    "X_train = X_train[keep_mask]"
   ]
  },
  {
   "cell_type": "code",
   "execution_count": 40,
   "id": "b202bb3a",
   "metadata": {
    "execution": {
     "iopub.execute_input": "2025-07-30T21:27:11.077372Z",
     "iopub.status.busy": "2025-07-30T21:27:11.076613Z",
     "iopub.status.idle": "2025-07-30T21:27:11.083907Z",
     "shell.execute_reply": "2025-07-30T21:27:11.082655Z"
    },
    "papermill": {
     "duration": 0.041913,
     "end_time": "2025-07-30T21:27:11.086318",
     "exception": false,
     "start_time": "2025-07-30T21:27:11.044405",
     "status": "completed"
    },
    "tags": []
   },
   "outputs": [],
   "source": [
    "y_train = y_train[keep_mask]"
   ]
  },
  {
   "cell_type": "markdown",
   "id": "493e2ac3",
   "metadata": {
    "papermill": {
     "duration": 0.022357,
     "end_time": "2025-07-30T21:27:11.138319",
     "exception": false,
     "start_time": "2025-07-30T21:27:11.115962",
     "status": "completed"
    },
    "tags": []
   },
   "source": [
    "# Model Training"
   ]
  },
  {
   "cell_type": "code",
   "execution_count": 41,
   "id": "679e1268",
   "metadata": {
    "execution": {
     "iopub.execute_input": "2025-07-30T21:27:11.186080Z",
     "iopub.status.busy": "2025-07-30T21:27:11.185648Z",
     "iopub.status.idle": "2025-07-30T21:27:11.264577Z",
     "shell.execute_reply": "2025-07-30T21:27:11.263812Z"
    },
    "papermill": {
     "duration": 0.10352,
     "end_time": "2025-07-30T21:27:11.265961",
     "exception": false,
     "start_time": "2025-07-30T21:27:11.162441",
     "status": "completed"
    },
    "tags": []
   },
   "outputs": [],
   "source": [
    "from sklearn.linear_model import LogisticRegression\n",
    "from sklearn.ensemble import GradientBoostingClassifier, RandomForestClassifier\n",
    "\n",
    "if (universe[\"model\"] == \"logreg\"):\n",
    "    model = LogisticRegression() #penalty=\"none\") #, solver=\"newton-cg\", max_iter=1) # include random_state=19 ?\n",
    "elif (universe[\"model\"] == \"penalized_logreg\"):\n",
    "    model = LogisticRegression(penalty=\"l2\", C=1.0) #, solver=\"newton-cg\", max_iter=1)\n",
    "elif (universe[\"model\"] == \"rf\"):\n",
    "    model = RandomForestClassifier(n_estimators=100, n_jobs=-1)\n",
    "elif (universe[\"model\"] == \"gbm\"):\n",
    "    model = GradientBoostingClassifier()\n",
    "elif (universe[\"model\"] == \"elasticnet\"):\n",
    "    model = LogisticRegression(penalty = 'elasticnet', solver = 'saga', l1_ratio = 0.5, max_iter=5000) # which solver to use?\n",
    "else:\n",
    "    raise \"Unsupported universe.model\""
   ]
  },
  {
   "cell_type": "code",
   "execution_count": 42,
   "id": "0cc8f744",
   "metadata": {
    "execution": {
     "iopub.execute_input": "2025-07-30T21:27:11.313276Z",
     "iopub.status.busy": "2025-07-30T21:27:11.312395Z",
     "iopub.status.idle": "2025-07-30T21:27:11.319423Z",
     "shell.execute_reply": "2025-07-30T21:27:11.318379Z"
    },
    "papermill": {
     "duration": 0.040346,
     "end_time": "2025-07-30T21:27:11.321668",
     "exception": false,
     "start_time": "2025-07-30T21:27:11.281322",
     "status": "completed"
    },
    "tags": []
   },
   "outputs": [],
   "source": [
    "import numpy as np\n",
    "from sklearn.pipeline import Pipeline\n",
    "from sklearn.preprocessing import StandardScaler\n",
    "\n",
    "model = Pipeline([\n",
    "    #(\"continuous_processor\", continuous_processor),\n",
    "    #(\"categorical_preprocessor\", categorical_preprocessor),\n",
    "    (\"scale\", StandardScaler() if universe[\"scale\"] == \"scale\" else None), \n",
    "    (\"model\", model),\n",
    "])"
   ]
  },
  {
   "cell_type": "code",
   "execution_count": 43,
   "id": "9442c04d",
   "metadata": {
    "execution": {
     "iopub.execute_input": "2025-07-30T21:27:11.383459Z",
     "iopub.status.busy": "2025-07-30T21:27:11.382722Z",
     "iopub.status.idle": "2025-07-30T21:27:15.153203Z",
     "shell.execute_reply": "2025-07-30T21:27:15.152287Z"
    },
    "papermill": {
     "duration": 3.803057,
     "end_time": "2025-07-30T21:27:15.154821",
     "exception": false,
     "start_time": "2025-07-30T21:27:11.351764",
     "status": "completed"
    },
    "tags": []
   },
   "outputs": [
    {
     "data": {
      "text/html": [
       "<style>#sk-container-id-1 {color: black;background-color: white;}#sk-container-id-1 pre{padding: 0;}#sk-container-id-1 div.sk-toggleable {background-color: white;}#sk-container-id-1 label.sk-toggleable__label {cursor: pointer;display: block;width: 100%;margin-bottom: 0;padding: 0.3em;box-sizing: border-box;text-align: center;}#sk-container-id-1 label.sk-toggleable__label-arrow:before {content: \"▸\";float: left;margin-right: 0.25em;color: #696969;}#sk-container-id-1 label.sk-toggleable__label-arrow:hover:before {color: black;}#sk-container-id-1 div.sk-estimator:hover label.sk-toggleable__label-arrow:before {color: black;}#sk-container-id-1 div.sk-toggleable__content {max-height: 0;max-width: 0;overflow: hidden;text-align: left;background-color: #f0f8ff;}#sk-container-id-1 div.sk-toggleable__content pre {margin: 0.2em;color: black;border-radius: 0.25em;background-color: #f0f8ff;}#sk-container-id-1 input.sk-toggleable__control:checked~div.sk-toggleable__content {max-height: 200px;max-width: 100%;overflow: auto;}#sk-container-id-1 input.sk-toggleable__control:checked~label.sk-toggleable__label-arrow:before {content: \"▾\";}#sk-container-id-1 div.sk-estimator input.sk-toggleable__control:checked~label.sk-toggleable__label {background-color: #d4ebff;}#sk-container-id-1 div.sk-label input.sk-toggleable__control:checked~label.sk-toggleable__label {background-color: #d4ebff;}#sk-container-id-1 input.sk-hidden--visually {border: 0;clip: rect(1px 1px 1px 1px);clip: rect(1px, 1px, 1px, 1px);height: 1px;margin: -1px;overflow: hidden;padding: 0;position: absolute;width: 1px;}#sk-container-id-1 div.sk-estimator {font-family: monospace;background-color: #f0f8ff;border: 1px dotted black;border-radius: 0.25em;box-sizing: border-box;margin-bottom: 0.5em;}#sk-container-id-1 div.sk-estimator:hover {background-color: #d4ebff;}#sk-container-id-1 div.sk-parallel-item::after {content: \"\";width: 100%;border-bottom: 1px solid gray;flex-grow: 1;}#sk-container-id-1 div.sk-label:hover label.sk-toggleable__label {background-color: #d4ebff;}#sk-container-id-1 div.sk-serial::before {content: \"\";position: absolute;border-left: 1px solid gray;box-sizing: border-box;top: 0;bottom: 0;left: 50%;z-index: 0;}#sk-container-id-1 div.sk-serial {display: flex;flex-direction: column;align-items: center;background-color: white;padding-right: 0.2em;padding-left: 0.2em;position: relative;}#sk-container-id-1 div.sk-item {position: relative;z-index: 1;}#sk-container-id-1 div.sk-parallel {display: flex;align-items: stretch;justify-content: center;background-color: white;position: relative;}#sk-container-id-1 div.sk-item::before, #sk-container-id-1 div.sk-parallel-item::before {content: \"\";position: absolute;border-left: 1px solid gray;box-sizing: border-box;top: 0;bottom: 0;left: 50%;z-index: -1;}#sk-container-id-1 div.sk-parallel-item {display: flex;flex-direction: column;z-index: 1;position: relative;background-color: white;}#sk-container-id-1 div.sk-parallel-item:first-child::after {align-self: flex-end;width: 50%;}#sk-container-id-1 div.sk-parallel-item:last-child::after {align-self: flex-start;width: 50%;}#sk-container-id-1 div.sk-parallel-item:only-child::after {width: 0;}#sk-container-id-1 div.sk-dashed-wrapped {border: 1px dashed gray;margin: 0 0.4em 0.5em 0.4em;box-sizing: border-box;padding-bottom: 0.4em;background-color: white;}#sk-container-id-1 div.sk-label label {font-family: monospace;font-weight: bold;display: inline-block;line-height: 1.2em;}#sk-container-id-1 div.sk-label-container {text-align: center;}#sk-container-id-1 div.sk-container {/* jupyter's `normalize.less` sets `[hidden] { display: none; }` but bootstrap.min.css set `[hidden] { display: none !important; }` so we also need the `!important` here to be able to override the default hidden behavior on the sphinx rendered scikit-learn.org. See: https://github.com/scikit-learn/scikit-learn/issues/21755 */display: inline-block !important;position: relative;}#sk-container-id-1 div.sk-text-repr-fallback {display: none;}</style><div id=\"sk-container-id-1\" class=\"sk-top-container\"><div class=\"sk-text-repr-fallback\"><pre>Pipeline(steps=[(&#x27;scale&#x27;, StandardScaler()),\n",
       "                (&#x27;model&#x27;,\n",
       "                 LogisticRegression(l1_ratio=0.5, max_iter=5000,\n",
       "                                    penalty=&#x27;elasticnet&#x27;, solver=&#x27;saga&#x27;))])</pre><b>In a Jupyter environment, please rerun this cell to show the HTML representation or trust the notebook. <br />On GitHub, the HTML representation is unable to render, please try loading this page with nbviewer.org.</b></div><div class=\"sk-container\" hidden><div class=\"sk-item sk-dashed-wrapped\"><div class=\"sk-label-container\"><div class=\"sk-label sk-toggleable\"><input class=\"sk-toggleable__control sk-hidden--visually\" id=\"sk-estimator-id-1\" type=\"checkbox\" ><label for=\"sk-estimator-id-1\" class=\"sk-toggleable__label sk-toggleable__label-arrow\">Pipeline</label><div class=\"sk-toggleable__content\"><pre>Pipeline(steps=[(&#x27;scale&#x27;, StandardScaler()),\n",
       "                (&#x27;model&#x27;,\n",
       "                 LogisticRegression(l1_ratio=0.5, max_iter=5000,\n",
       "                                    penalty=&#x27;elasticnet&#x27;, solver=&#x27;saga&#x27;))])</pre></div></div></div><div class=\"sk-serial\"><div class=\"sk-item\"><div class=\"sk-estimator sk-toggleable\"><input class=\"sk-toggleable__control sk-hidden--visually\" id=\"sk-estimator-id-2\" type=\"checkbox\" ><label for=\"sk-estimator-id-2\" class=\"sk-toggleable__label sk-toggleable__label-arrow\">StandardScaler</label><div class=\"sk-toggleable__content\"><pre>StandardScaler()</pre></div></div></div><div class=\"sk-item\"><div class=\"sk-estimator sk-toggleable\"><input class=\"sk-toggleable__control sk-hidden--visually\" id=\"sk-estimator-id-3\" type=\"checkbox\" ><label for=\"sk-estimator-id-3\" class=\"sk-toggleable__label sk-toggleable__label-arrow\">LogisticRegression</label><div class=\"sk-toggleable__content\"><pre>LogisticRegression(l1_ratio=0.5, max_iter=5000, penalty=&#x27;elasticnet&#x27;,\n",
       "                   solver=&#x27;saga&#x27;)</pre></div></div></div></div></div></div></div>"
      ],
      "text/plain": [
       "Pipeline(steps=[('scale', StandardScaler()),\n",
       "                ('model',\n",
       "                 LogisticRegression(l1_ratio=0.5, max_iter=5000,\n",
       "                                    penalty='elasticnet', solver='saga'))])"
      ]
     },
     "execution_count": 43,
     "metadata": {},
     "output_type": "execute_result"
    }
   ],
   "source": [
    "model.fit(X_train, y_train.values.ravel())"
   ]
  },
  {
   "cell_type": "code",
   "execution_count": 44,
   "id": "af59f8c0",
   "metadata": {
    "execution": {
     "iopub.execute_input": "2025-07-30T21:27:15.203694Z",
     "iopub.status.busy": "2025-07-30T21:27:15.203025Z",
     "iopub.status.idle": "2025-07-30T21:27:15.208245Z",
     "shell.execute_reply": "2025-07-30T21:27:15.207281Z"
    },
    "papermill": {
     "duration": 0.02967,
     "end_time": "2025-07-30T21:27:15.209833",
     "exception": false,
     "start_time": "2025-07-30T21:27:15.180163",
     "status": "completed"
    },
    "tags": []
   },
   "outputs": [],
   "source": [
    "from fairness_multiverse.universe import predict_w_threshold"
   ]
  },
  {
   "cell_type": "code",
   "execution_count": 45,
   "id": "a7cf2e16",
   "metadata": {
    "execution": {
     "iopub.execute_input": "2025-07-30T21:27:15.257359Z",
     "iopub.status.busy": "2025-07-30T21:27:15.256736Z",
     "iopub.status.idle": "2025-07-30T21:27:15.448786Z",
     "shell.execute_reply": "2025-07-30T21:27:15.447896Z"
    },
    "papermill": {
     "duration": 0.217762,
     "end_time": "2025-07-30T21:27:15.450400",
     "exception": false,
     "start_time": "2025-07-30T21:27:15.232638",
     "status": "completed"
    },
    "tags": []
   },
   "outputs": [
    {
     "data": {
      "text/plain": [
       "0.8200646527700368"
      ]
     },
     "execution_count": 45,
     "metadata": {},
     "output_type": "execute_result"
    }
   ],
   "source": [
    "probs_test = model.predict_proba(X_test)\n",
    "\n",
    "'''\n",
    "Below code returns a boolean array (or binary 0/1 array depending on how it’s used) where each element \n",
    "is True if the probability of class 1 is greater than or equal to the threshold, and False otherwise.\n",
    "'''\n",
    "y_pred_default = predict_w_threshold(probs_test, 0.5)\n",
    "\n",
    "from sklearn.metrics import accuracy_score\n",
    "\n",
    "# Naive prediction\n",
    "accuracy_score(y_true = y_true, y_pred = y_pred_default)"
   ]
  },
  {
   "cell_type": "code",
   "execution_count": 46,
   "id": "081964c3",
   "metadata": {
    "execution": {
     "iopub.execute_input": "2025-07-30T21:27:15.497927Z",
     "iopub.status.busy": "2025-07-30T21:27:15.497460Z",
     "iopub.status.idle": "2025-07-30T21:27:15.722679Z",
     "shell.execute_reply": "2025-07-30T21:27:15.721622Z"
    },
    "papermill": {
     "duration": 0.24944,
     "end_time": "2025-07-30T21:27:15.724327",
     "exception": false,
     "start_time": "2025-07-30T21:27:15.474887",
     "status": "completed"
    },
    "tags": []
   },
   "outputs": [
    {
     "data": {
      "text/plain": [
       "array([0, 0, 0, ..., 0, 0, 0])"
      ]
     },
     "execution_count": 46,
     "metadata": {},
     "output_type": "execute_result"
    }
   ],
   "source": [
    "model.predict(X_test)"
   ]
  },
  {
   "cell_type": "markdown",
   "id": "56c9705b",
   "metadata": {
    "papermill": {
     "duration": 0.031648,
     "end_time": "2025-07-30T21:27:15.778487",
     "exception": false,
     "start_time": "2025-07-30T21:27:15.746839",
     "status": "completed"
    },
    "tags": []
   },
   "source": [
    "# Conformal Prediction"
   ]
  },
  {
   "cell_type": "code",
   "execution_count": 47,
   "id": "160ec6ff",
   "metadata": {
    "execution": {
     "iopub.execute_input": "2025-07-30T21:27:15.826221Z",
     "iopub.status.busy": "2025-07-30T21:27:15.825878Z",
     "iopub.status.idle": "2025-07-30T21:27:15.830088Z",
     "shell.execute_reply": "2025-07-30T21:27:15.829181Z"
    },
    "papermill": {
     "duration": 0.022129,
     "end_time": "2025-07-30T21:27:15.831624",
     "exception": false,
     "start_time": "2025-07-30T21:27:15.809495",
     "status": "completed"
    },
    "tags": []
   },
   "outputs": [],
   "source": [
    "# Miscoverage level for conformal prediction (10% allowed error rate => 90% target coverage)\n",
    "alpha = 0.1"
   ]
  },
  {
   "cell_type": "code",
   "execution_count": 48,
   "id": "eadf4555-3dd3-440e-8e35-f82a4ad9f855",
   "metadata": {
    "execution": {
     "iopub.execute_input": "2025-07-30T21:27:15.857941Z",
     "iopub.status.busy": "2025-07-30T21:27:15.857521Z",
     "iopub.status.idle": "2025-07-30T21:27:16.018764Z",
     "shell.execute_reply": "2025-07-30T21:27:16.017995Z"
    },
    "papermill": {
     "duration": 0.175764,
     "end_time": "2025-07-30T21:27:16.020318",
     "exception": false,
     "start_time": "2025-07-30T21:27:15.844554",
     "status": "completed"
    },
    "tags": []
   },
   "outputs": [],
   "source": [
    "probs_calib = model.predict_proba(X_calib)"
   ]
  },
  {
   "cell_type": "code",
   "execution_count": 49,
   "id": "2ed93547-6d5d-4983-9b36-1ecb300da49a",
   "metadata": {
    "execution": {
     "iopub.execute_input": "2025-07-30T21:27:16.048152Z",
     "iopub.status.busy": "2025-07-30T21:27:16.047414Z",
     "iopub.status.idle": "2025-07-30T21:27:16.067198Z",
     "shell.execute_reply": "2025-07-30T21:27:16.066396Z"
    },
    "papermill": {
     "duration": 0.035288,
     "end_time": "2025-07-30T21:27:16.068615",
     "exception": false,
     "start_time": "2025-07-30T21:27:16.033327",
     "status": "completed"
    },
    "tags": []
   },
   "outputs": [],
   "source": [
    "y_calib = y_calib.values.ravel().astype(int)"
   ]
  },
  {
   "cell_type": "code",
   "execution_count": 50,
   "id": "65d1320d-f588-4b38-9072-62af1ae97f7d",
   "metadata": {
    "execution": {
     "iopub.execute_input": "2025-07-30T21:27:16.094641Z",
     "iopub.status.busy": "2025-07-30T21:27:16.094398Z",
     "iopub.status.idle": "2025-07-30T21:27:16.100073Z",
     "shell.execute_reply": "2025-07-30T21:27:16.099304Z"
    },
    "papermill": {
     "duration": 0.019499,
     "end_time": "2025-07-30T21:27:16.101381",
     "exception": false,
     "start_time": "2025-07-30T21:27:16.081882",
     "status": "completed"
    },
    "tags": []
   },
   "outputs": [],
   "source": [
    "from fairness_multiverse.conformal import compute_nc_scores\n",
    "\n",
    "# Compute nonconformity scores on calibration set (1 - probability of true class)\n",
    "nc_scores = compute_nc_scores(probs_calib, y_calib)"
   ]
  },
  {
   "cell_type": "code",
   "execution_count": 51,
   "id": "df3b8ca3-53b7-43d5-9667-7c85da7aeda2",
   "metadata": {
    "execution": {
     "iopub.execute_input": "2025-07-30T21:27:16.127719Z",
     "iopub.status.busy": "2025-07-30T21:27:16.127329Z",
     "iopub.status.idle": "2025-07-30T21:27:16.132751Z",
     "shell.execute_reply": "2025-07-30T21:27:16.131941Z"
    },
    "papermill": {
     "duration": 0.019661,
     "end_time": "2025-07-30T21:27:16.134117",
     "exception": false,
     "start_time": "2025-07-30T21:27:16.114456",
     "status": "completed"
    },
    "tags": []
   },
   "outputs": [],
   "source": [
    "from fairness_multiverse.conformal import find_threshold\n",
    "\n",
    "# Find conformal threshold q_hat for the given alpha (split conformal method)\n",
    "q_hat = find_threshold(nc_scores, alpha)"
   ]
  },
  {
   "cell_type": "code",
   "execution_count": 52,
   "id": "4d29e6c1-0ef6-4aa4-b8fe-4fe79b0d033a",
   "metadata": {
    "execution": {
     "iopub.execute_input": "2025-07-30T21:27:16.174384Z",
     "iopub.status.busy": "2025-07-30T21:27:16.173951Z",
     "iopub.status.idle": "2025-07-30T21:27:16.181716Z",
     "shell.execute_reply": "2025-07-30T21:27:16.180777Z"
    },
    "papermill": {
     "duration": 0.033682,
     "end_time": "2025-07-30T21:27:16.183347",
     "exception": false,
     "start_time": "2025-07-30T21:27:16.149665",
     "status": "completed"
    },
    "tags": []
   },
   "outputs": [
    {
     "data": {
      "text/plain": [
       "0.7921947675866985"
      ]
     },
     "execution_count": 52,
     "metadata": {},
     "output_type": "execute_result"
    }
   ],
   "source": [
    "q_hat"
   ]
  },
  {
   "cell_type": "code",
   "execution_count": 53,
   "id": "92460794-cdac-4be2-ba28-f28c0515a6fb",
   "metadata": {
    "execution": {
     "iopub.execute_input": "2025-07-30T21:27:16.213309Z",
     "iopub.status.busy": "2025-07-30T21:27:16.212600Z",
     "iopub.status.idle": "2025-07-30T21:27:16.917681Z",
     "shell.execute_reply": "2025-07-30T21:27:16.916905Z"
    },
    "papermill": {
     "duration": 0.721055,
     "end_time": "2025-07-30T21:27:16.919110",
     "exception": false,
     "start_time": "2025-07-30T21:27:16.198055",
     "status": "completed"
    },
    "tags": []
   },
   "outputs": [],
   "source": [
    "from fairness_multiverse.conformal import predict_conformal_sets\n",
    "\n",
    "# Generate prediction sets for each test example\n",
    "pred_sets = predict_conformal_sets(model, X_test, q_hat)"
   ]
  },
  {
   "cell_type": "code",
   "execution_count": 54,
   "id": "d90c9a65-e6db-4f5d-80cd-e68fb7e46829",
   "metadata": {
    "execution": {
     "iopub.execute_input": "2025-07-30T21:27:16.947008Z",
     "iopub.status.busy": "2025-07-30T21:27:16.946505Z",
     "iopub.status.idle": "2025-07-30T21:27:16.951139Z",
     "shell.execute_reply": "2025-07-30T21:27:16.950280Z"
    },
    "papermill": {
     "duration": 0.01991,
     "end_time": "2025-07-30T21:27:16.952521",
     "exception": false,
     "start_time": "2025-07-30T21:27:16.932611",
     "status": "completed"
    },
    "tags": []
   },
   "outputs": [],
   "source": [
    "y_true = y_true.squeeze()"
   ]
  },
  {
   "cell_type": "code",
   "execution_count": 55,
   "id": "3a58a54a-1e68-46b9-927a-df01f18aebc8",
   "metadata": {
    "execution": {
     "iopub.execute_input": "2025-07-30T21:27:16.981540Z",
     "iopub.status.busy": "2025-07-30T21:27:16.980714Z",
     "iopub.status.idle": "2025-07-30T21:27:17.831459Z",
     "shell.execute_reply": "2025-07-30T21:27:17.830484Z"
    },
    "papermill": {
     "duration": 0.866303,
     "end_time": "2025-07-30T21:27:17.833111",
     "exception": false,
     "start_time": "2025-07-30T21:27:16.966808",
     "status": "completed"
    },
    "tags": []
   },
   "outputs": [],
   "source": [
    "from fairness_multiverse.conformal import evaluate_sets\n",
    "\n",
    "# Evaluate coverage and average set size on test data\n",
    "metrics = evaluate_sets(pred_sets, y_true)"
   ]
  },
  {
   "cell_type": "markdown",
   "id": "2b569c12-9aaa-4c88-98c9-bbcd0cf3ebb8",
   "metadata": {
    "papermill": {
     "duration": 0.027065,
     "end_time": "2025-07-30T21:27:17.884305",
     "exception": false,
     "start_time": "2025-07-30T21:27:17.857240",
     "status": "completed"
    },
    "tags": []
   },
   "source": [
    "# CP Metrics"
   ]
  },
  {
   "cell_type": "code",
   "execution_count": 56,
   "id": "5ce0a5cb-201f-45a0-ade5-94c7f0bd6095",
   "metadata": {
    "execution": {
     "iopub.execute_input": "2025-07-30T21:27:17.937977Z",
     "iopub.status.busy": "2025-07-30T21:27:17.937548Z",
     "iopub.status.idle": "2025-07-30T21:27:17.944805Z",
     "shell.execute_reply": "2025-07-30T21:27:17.943682Z"
    },
    "papermill": {
     "duration": 0.036154,
     "end_time": "2025-07-30T21:27:17.946515",
     "exception": false,
     "start_time": "2025-07-30T21:27:17.910361",
     "status": "completed"
    },
    "tags": []
   },
   "outputs": [
    {
     "data": {
      "text/plain": [
       "{'coverage': 0.9068331289711292, 'avg_size': 1.2363393155724}"
      ]
     },
     "execution_count": 56,
     "metadata": {},
     "output_type": "execute_result"
    }
   ],
   "source": [
    "metrics"
   ]
  },
  {
   "cell_type": "code",
   "execution_count": 57,
   "id": "9b9a838d-31c9-430b-ae14-12baee460d17",
   "metadata": {
    "execution": {
     "iopub.execute_input": "2025-07-30T21:27:18.002344Z",
     "iopub.status.busy": "2025-07-30T21:27:18.001683Z",
     "iopub.status.idle": "2025-07-30T21:27:18.007847Z",
     "shell.execute_reply": "2025-07-30T21:27:18.007048Z"
    },
    "papermill": {
     "duration": 0.03479,
     "end_time": "2025-07-30T21:27:18.009200",
     "exception": false,
     "start_time": "2025-07-30T21:27:17.974410",
     "status": "completed"
    },
    "tags": []
   },
   "outputs": [],
   "source": [
    "example_universe = universe.copy()\n",
    "universe_training_year = example_universe.get(\"training_year\")\n",
    "universe_training_size = example_universe.get(\"training_size\")\n",
    "universe_scale = example_universe.get(\"scale\")\n",
    "universe_model = example_universe.get(\"model\")\n",
    "universe_exclude_features = example_universe.get(\"exclude_features\")\n",
    "universe_exclude_subgroups = example_universe.get(\"exclude_subgroups\")"
   ]
  },
  {
   "cell_type": "code",
   "execution_count": 58,
   "id": "f4b6a8ac-9dc0-4245-8a91-5b3b5999c4f9",
   "metadata": {
    "execution": {
     "iopub.execute_input": "2025-07-30T21:27:18.037171Z",
     "iopub.status.busy": "2025-07-30T21:27:18.036404Z",
     "iopub.status.idle": "2025-07-30T21:27:18.041909Z",
     "shell.execute_reply": "2025-07-30T21:27:18.041139Z"
    },
    "papermill": {
     "duration": 0.020099,
     "end_time": "2025-07-30T21:27:18.043298",
     "exception": false,
     "start_time": "2025-07-30T21:27:18.023199",
     "status": "completed"
    },
    "tags": []
   },
   "outputs": [],
   "source": [
    "cp_metrics_dict = {\n",
    "    \"universe_id\": [universe_id],\n",
    "    \"universe_training_year\": [universe_training_year],\n",
    "    \"universe_training_size\": [universe_training_size],\n",
    "    \"universe_scale\": [universe_scale],\n",
    "    \"universe_model\": [universe_model],\n",
    "    \"universe_exclude_features\": [universe_exclude_features],\n",
    "    \"universe_exclude_subgroups\": [universe_exclude_subgroups],\n",
    "    \"q_hat\": [q_hat],\n",
    "    \"coverage\": [metrics[\"coverage\"]],\n",
    "    \"avg_size\": [metrics[\"avg_size\"]],\n",
    "}"
   ]
  },
  {
   "cell_type": "code",
   "execution_count": 59,
   "id": "908acbb1-0371-4915-85ca-3fa520d2efe2",
   "metadata": {
    "execution": {
     "iopub.execute_input": "2025-07-30T21:27:18.071343Z",
     "iopub.status.busy": "2025-07-30T21:27:18.070846Z",
     "iopub.status.idle": "2025-07-30T21:27:18.077081Z",
     "shell.execute_reply": "2025-07-30T21:27:18.076391Z"
    },
    "papermill": {
     "duration": 0.020932,
     "end_time": "2025-07-30T21:27:18.078407",
     "exception": false,
     "start_time": "2025-07-30T21:27:18.057475",
     "status": "completed"
    },
    "tags": []
   },
   "outputs": [
    {
     "data": {
      "text/plain": [
       "{'universe_id': ['bea022580b1502908627ea434f709402'],\n",
       " 'universe_training_year': ['2014'],\n",
       " 'universe_training_size': ['1k'],\n",
       " 'universe_scale': ['scale'],\n",
       " 'universe_model': ['elasticnet'],\n",
       " 'universe_exclude_features': ['age'],\n",
       " 'universe_exclude_subgroups': ['keep-all'],\n",
       " 'q_hat': [0.7921947675866985],\n",
       " 'coverage': [0.9068331289711292],\n",
       " 'avg_size': [1.2363393155724]}"
      ]
     },
     "execution_count": 59,
     "metadata": {},
     "output_type": "execute_result"
    }
   ],
   "source": [
    "cp_metrics_dict"
   ]
  },
  {
   "cell_type": "code",
   "execution_count": 60,
   "id": "33007efc-14e9-4ec6-97ac-56a455c82265",
   "metadata": {
    "execution": {
     "iopub.execute_input": "2025-07-30T21:27:18.106919Z",
     "iopub.status.busy": "2025-07-30T21:27:18.106216Z",
     "iopub.status.idle": "2025-07-30T21:27:18.111484Z",
     "shell.execute_reply": "2025-07-30T21:27:18.110766Z"
    },
    "papermill": {
     "duration": 0.020598,
     "end_time": "2025-07-30T21:27:18.112931",
     "exception": false,
     "start_time": "2025-07-30T21:27:18.092333",
     "status": "completed"
    },
    "tags": []
   },
   "outputs": [],
   "source": [
    "cp_metrics_df = pd.DataFrame(cp_metrics_dict)"
   ]
  },
  {
   "cell_type": "code",
   "execution_count": 61,
   "id": "db12611b-57b2-4910-b9d0-355adfd6e7bf",
   "metadata": {
    "execution": {
     "iopub.execute_input": "2025-07-30T21:27:18.141297Z",
     "iopub.status.busy": "2025-07-30T21:27:18.140761Z",
     "iopub.status.idle": "2025-07-30T21:27:18.155223Z",
     "shell.execute_reply": "2025-07-30T21:27:18.154434Z"
    },
    "papermill": {
     "duration": 0.029488,
     "end_time": "2025-07-30T21:27:18.156685",
     "exception": false,
     "start_time": "2025-07-30T21:27:18.127197",
     "status": "completed"
    },
    "tags": []
   },
   "outputs": [
    {
     "data": {
      "text/html": [
       "<div>\n",
       "<style scoped>\n",
       "    .dataframe tbody tr th:only-of-type {\n",
       "        vertical-align: middle;\n",
       "    }\n",
       "\n",
       "    .dataframe tbody tr th {\n",
       "        vertical-align: top;\n",
       "    }\n",
       "\n",
       "    .dataframe thead th {\n",
       "        text-align: right;\n",
       "    }\n",
       "</style>\n",
       "<table border=\"1\" class=\"dataframe\">\n",
       "  <thead>\n",
       "    <tr style=\"text-align: right;\">\n",
       "      <th></th>\n",
       "      <th>universe_id</th>\n",
       "      <th>universe_training_year</th>\n",
       "      <th>universe_training_size</th>\n",
       "      <th>universe_scale</th>\n",
       "      <th>universe_model</th>\n",
       "      <th>universe_exclude_features</th>\n",
       "      <th>universe_exclude_subgroups</th>\n",
       "      <th>q_hat</th>\n",
       "      <th>coverage</th>\n",
       "      <th>avg_size</th>\n",
       "    </tr>\n",
       "  </thead>\n",
       "  <tbody>\n",
       "    <tr>\n",
       "      <th>0</th>\n",
       "      <td>bea022580b1502908627ea434f709402</td>\n",
       "      <td>2014</td>\n",
       "      <td>1k</td>\n",
       "      <td>scale</td>\n",
       "      <td>elasticnet</td>\n",
       "      <td>age</td>\n",
       "      <td>keep-all</td>\n",
       "      <td>0.792195</td>\n",
       "      <td>0.906833</td>\n",
       "      <td>1.236339</td>\n",
       "    </tr>\n",
       "  </tbody>\n",
       "</table>\n",
       "</div>"
      ],
      "text/plain": [
       "                        universe_id universe_training_year  \\\n",
       "0  bea022580b1502908627ea434f709402                   2014   \n",
       "\n",
       "  universe_training_size universe_scale universe_model  \\\n",
       "0                     1k          scale     elasticnet   \n",
       "\n",
       "  universe_exclude_features universe_exclude_subgroups     q_hat  coverage  \\\n",
       "0                       age                   keep-all  0.792195  0.906833   \n",
       "\n",
       "   avg_size  \n",
       "0  1.236339  "
      ]
     },
     "execution_count": 61,
     "metadata": {},
     "output_type": "execute_result"
    }
   ],
   "source": [
    "cp_metrics_df"
   ]
  },
  {
   "cell_type": "code",
   "execution_count": 62,
   "id": "b7fbde55-a0a1-47e4-9af6-fe4a17fa8c61",
   "metadata": {
    "execution": {
     "iopub.execute_input": "2025-07-30T21:27:18.184751Z",
     "iopub.status.busy": "2025-07-30T21:27:18.184251Z",
     "iopub.status.idle": "2025-07-30T21:27:18.189066Z",
     "shell.execute_reply": "2025-07-30T21:27:18.188241Z"
    },
    "papermill": {
     "duration": 0.019731,
     "end_time": "2025-07-30T21:27:18.190413",
     "exception": false,
     "start_time": "2025-07-30T21:27:18.170682",
     "status": "completed"
    },
    "tags": []
   },
   "outputs": [],
   "source": [
    "# Conditional Coverage & looking at subgroups"
   ]
  },
  {
   "cell_type": "code",
   "execution_count": 63,
   "id": "027ae886-68dd-4141-96c7-805a5450e1ef",
   "metadata": {
    "execution": {
     "iopub.execute_input": "2025-07-30T21:27:18.218737Z",
     "iopub.status.busy": "2025-07-30T21:27:18.218398Z",
     "iopub.status.idle": "2025-07-30T21:27:18.399751Z",
     "shell.execute_reply": "2025-07-30T21:27:18.398995Z"
    },
    "papermill": {
     "duration": 0.196438,
     "end_time": "2025-07-30T21:27:18.401243",
     "exception": false,
     "start_time": "2025-07-30T21:27:18.204805",
     "status": "completed"
    },
    "tags": []
   },
   "outputs": [],
   "source": [
    "from fairness_multiverse.conformal import build_cp_groups\n",
    "\n",
    "cp_groups_df = build_cp_groups(pred_sets, y_true, X_test.index, org_test)\n",
    "#needs universe_id and setting"
   ]
  },
  {
   "cell_type": "code",
   "execution_count": 64,
   "id": "01d5802c-663a-4d1f-9d69-e036faaffbf7",
   "metadata": {
    "execution": {
     "iopub.execute_input": "2025-07-30T21:27:18.429589Z",
     "iopub.status.busy": "2025-07-30T21:27:18.429194Z",
     "iopub.status.idle": "2025-07-30T21:27:18.433274Z",
     "shell.execute_reply": "2025-07-30T21:27:18.432399Z"
    },
    "papermill": {
     "duration": 0.019401,
     "end_time": "2025-07-30T21:27:18.434576",
     "exception": false,
     "start_time": "2025-07-30T21:27:18.415175",
     "status": "completed"
    },
    "tags": []
   },
   "outputs": [],
   "source": [
    "#delete\n",
    "#cp_groups_df"
   ]
  },
  {
   "cell_type": "code",
   "execution_count": 65,
   "id": "fa424af1-d1eb-443d-b717-2d279ada8408",
   "metadata": {
    "execution": {
     "iopub.execute_input": "2025-07-30T21:27:18.463650Z",
     "iopub.status.busy": "2025-07-30T21:27:18.463303Z",
     "iopub.status.idle": "2025-07-30T21:27:18.467904Z",
     "shell.execute_reply": "2025-07-30T21:27:18.467068Z"
    },
    "papermill": {
     "duration": 0.0199,
     "end_time": "2025-07-30T21:27:18.469178",
     "exception": false,
     "start_time": "2025-07-30T21:27:18.449278",
     "status": "completed"
    },
    "tags": []
   },
   "outputs": [],
   "source": [
    "#delete\n",
    "#percentage = (cp_groups_df['nongerman_female'] == 1).mean() * 100\n",
    "#print(percentage)\n"
   ]
  },
  {
   "cell_type": "code",
   "execution_count": 66,
   "id": "6cbdab96-b2b2-45af-ad54-d0516db2e28d",
   "metadata": {
    "execution": {
     "iopub.execute_input": "2025-07-30T21:27:18.497706Z",
     "iopub.status.busy": "2025-07-30T21:27:18.497358Z",
     "iopub.status.idle": "2025-07-30T21:27:19.631944Z",
     "shell.execute_reply": "2025-07-30T21:27:19.631182Z"
    },
    "papermill": {
     "duration": 1.149904,
     "end_time": "2025-07-30T21:27:19.633378",
     "exception": false,
     "start_time": "2025-07-30T21:27:18.483474",
     "status": "completed"
    },
    "tags": []
   },
   "outputs": [],
   "source": [
    "# Define covered = 1 if true_label is in the predicted set\n",
    "cp_groups_df['covered'] = cp_groups_df.apply(\n",
    "    lambda r: int(r['true_label'] in r['pred_set']),\n",
    "    axis=1\n",
    ")"
   ]
  },
  {
   "cell_type": "code",
   "execution_count": 67,
   "id": "338ff529-1a6b-4b87-a931-8e4788d52aad",
   "metadata": {
    "execution": {
     "iopub.execute_input": "2025-07-30T21:27:19.663934Z",
     "iopub.status.busy": "2025-07-30T21:27:19.663485Z",
     "iopub.status.idle": "2025-07-30T21:27:19.669307Z",
     "shell.execute_reply": "2025-07-30T21:27:19.668421Z"
    },
    "papermill": {
     "duration": 0.023629,
     "end_time": "2025-07-30T21:27:19.670921",
     "exception": false,
     "start_time": "2025-07-30T21:27:19.647292",
     "status": "completed"
    },
    "tags": []
   },
   "outputs": [],
   "source": [
    "#cp_groups_df"
   ]
  },
  {
   "cell_type": "code",
   "execution_count": 68,
   "id": "90032e27-66df-4540-9169-4e89cfbaa758",
   "metadata": {
    "execution": {
     "iopub.execute_input": "2025-07-30T21:27:19.703971Z",
     "iopub.status.busy": "2025-07-30T21:27:19.703498Z",
     "iopub.status.idle": "2025-07-30T21:27:19.712746Z",
     "shell.execute_reply": "2025-07-30T21:27:19.711921Z"
    },
    "papermill": {
     "duration": 0.025449,
     "end_time": "2025-07-30T21:27:19.714235",
     "exception": false,
     "start_time": "2025-07-30T21:27:19.688786",
     "status": "completed"
    },
    "tags": []
   },
   "outputs": [],
   "source": [
    "subgroups = ['frau1','nongerman','nongerman_male','nongerman_female']\n",
    "\n",
    "# Conditional coverage for subgroup==1\n",
    "cond_coverage = {\n",
    "    g: cp_groups_df.loc[cp_groups_df[g]==1, 'covered'].mean()\n",
    "    for g in subgroups\n",
    "}"
   ]
  },
  {
   "cell_type": "code",
   "execution_count": 69,
   "id": "1e348fb1-b9c3-45bc-ba23-f016827a7e0d",
   "metadata": {
    "execution": {
     "iopub.execute_input": "2025-07-30T21:27:19.757546Z",
     "iopub.status.busy": "2025-07-30T21:27:19.757061Z",
     "iopub.status.idle": "2025-07-30T21:27:19.763792Z",
     "shell.execute_reply": "2025-07-30T21:27:19.762825Z"
    },
    "papermill": {
     "duration": 0.035151,
     "end_time": "2025-07-30T21:27:19.765562",
     "exception": false,
     "start_time": "2025-07-30T21:27:19.730411",
     "status": "completed"
    },
    "tags": []
   },
   "outputs": [
    {
     "data": {
      "text/plain": [
       "{'frau1': 0.9039493193152716,\n",
       " 'nongerman': 0.9077639925896817,\n",
       " 'nongerman_male': 0.9282175988471584,\n",
       " 'nongerman_female': 0.873919523099851}"
      ]
     },
     "execution_count": 69,
     "metadata": {},
     "output_type": "execute_result"
    }
   ],
   "source": [
    "cond_coverage"
   ]
  },
  {
   "cell_type": "code",
   "execution_count": 70,
   "id": "f5093324-c3dd-4d63-bc4c-8d945e5c8bbb",
   "metadata": {
    "execution": {
     "iopub.execute_input": "2025-07-30T21:27:19.825107Z",
     "iopub.status.busy": "2025-07-30T21:27:19.824296Z",
     "iopub.status.idle": "2025-07-30T21:27:19.833541Z",
     "shell.execute_reply": "2025-07-30T21:27:19.832284Z"
    },
    "papermill": {
     "duration": 0.040976,
     "end_time": "2025-07-30T21:27:19.835082",
     "exception": false,
     "start_time": "2025-07-30T21:27:19.794106",
     "status": "completed"
    },
    "tags": []
   },
   "outputs": [],
   "source": [
    "for subgroup, cov in cond_coverage.items():\n",
    "    cp_metrics_df[f\"cov_{subgroup}\"] = cov"
   ]
  },
  {
   "cell_type": "code",
   "execution_count": 71,
   "id": "6e872e10-dbe5-49e8-b554-5030c98ff75d",
   "metadata": {
    "execution": {
     "iopub.execute_input": "2025-07-30T21:27:19.889896Z",
     "iopub.status.busy": "2025-07-30T21:27:19.889201Z",
     "iopub.status.idle": "2025-07-30T21:27:19.910641Z",
     "shell.execute_reply": "2025-07-30T21:27:19.909586Z"
    },
    "papermill": {
     "duration": 0.052788,
     "end_time": "2025-07-30T21:27:19.913141",
     "exception": false,
     "start_time": "2025-07-30T21:27:19.860353",
     "status": "completed"
    },
    "tags": []
   },
   "outputs": [
    {
     "data": {
      "text/html": [
       "<div>\n",
       "<style scoped>\n",
       "    .dataframe tbody tr th:only-of-type {\n",
       "        vertical-align: middle;\n",
       "    }\n",
       "\n",
       "    .dataframe tbody tr th {\n",
       "        vertical-align: top;\n",
       "    }\n",
       "\n",
       "    .dataframe thead th {\n",
       "        text-align: right;\n",
       "    }\n",
       "</style>\n",
       "<table border=\"1\" class=\"dataframe\">\n",
       "  <thead>\n",
       "    <tr style=\"text-align: right;\">\n",
       "      <th></th>\n",
       "      <th>universe_id</th>\n",
       "      <th>universe_training_year</th>\n",
       "      <th>universe_training_size</th>\n",
       "      <th>universe_scale</th>\n",
       "      <th>universe_model</th>\n",
       "      <th>universe_exclude_features</th>\n",
       "      <th>universe_exclude_subgroups</th>\n",
       "      <th>q_hat</th>\n",
       "      <th>coverage</th>\n",
       "      <th>avg_size</th>\n",
       "      <th>cov_frau1</th>\n",
       "      <th>cov_nongerman</th>\n",
       "      <th>cov_nongerman_male</th>\n",
       "      <th>cov_nongerman_female</th>\n",
       "    </tr>\n",
       "  </thead>\n",
       "  <tbody>\n",
       "    <tr>\n",
       "      <th>0</th>\n",
       "      <td>bea022580b1502908627ea434f709402</td>\n",
       "      <td>2014</td>\n",
       "      <td>1k</td>\n",
       "      <td>scale</td>\n",
       "      <td>elasticnet</td>\n",
       "      <td>age</td>\n",
       "      <td>keep-all</td>\n",
       "      <td>0.792195</td>\n",
       "      <td>0.906833</td>\n",
       "      <td>1.236339</td>\n",
       "      <td>0.903949</td>\n",
       "      <td>0.907764</td>\n",
       "      <td>0.928218</td>\n",
       "      <td>0.87392</td>\n",
       "    </tr>\n",
       "  </tbody>\n",
       "</table>\n",
       "</div>"
      ],
      "text/plain": [
       "                        universe_id universe_training_year  \\\n",
       "0  bea022580b1502908627ea434f709402                   2014   \n",
       "\n",
       "  universe_training_size universe_scale universe_model  \\\n",
       "0                     1k          scale     elasticnet   \n",
       "\n",
       "  universe_exclude_features universe_exclude_subgroups     q_hat  coverage  \\\n",
       "0                       age                   keep-all  0.792195  0.906833   \n",
       "\n",
       "   avg_size  cov_frau1  cov_nongerman  cov_nongerman_male  \\\n",
       "0  1.236339   0.903949       0.907764            0.928218   \n",
       "\n",
       "   cov_nongerman_female  \n",
       "0               0.87392  "
      ]
     },
     "execution_count": 71,
     "metadata": {},
     "output_type": "execute_result"
    }
   ],
   "source": [
    "cp_metrics_df"
   ]
  },
  {
   "cell_type": "markdown",
   "id": "33774451",
   "metadata": {
    "papermill": {
     "duration": 0.027971,
     "end_time": "2025-07-30T21:27:19.970943",
     "exception": false,
     "start_time": "2025-07-30T21:27:19.942972",
     "status": "completed"
    },
    "tags": []
   },
   "source": [
    "# (Fairness) Metrics"
   ]
  },
  {
   "cell_type": "code",
   "execution_count": 72,
   "id": "debc5d62",
   "metadata": {
    "execution": {
     "iopub.execute_input": "2025-07-30T21:27:20.029306Z",
     "iopub.status.busy": "2025-07-30T21:27:20.028725Z",
     "iopub.status.idle": "2025-07-30T21:27:20.048999Z",
     "shell.execute_reply": "2025-07-30T21:27:20.047787Z"
    },
    "papermill": {
     "duration": 0.05212,
     "end_time": "2025-07-30T21:27:20.050801",
     "exception": false,
     "start_time": "2025-07-30T21:27:19.998681",
     "status": "completed"
    },
    "tags": []
   },
   "outputs": [],
   "source": [
    "# do I need to include maxdeutsch1.missing?\n",
    "\n",
    "import numpy as np\n",
    "\n",
    "colname_to_bin = \"maxdeutsch1\"\n",
    "majority_value = org_train[colname_to_bin].mode()[0]\n",
    "\n",
    "org_test[\"majmin\"] = np.where(org_test[colname_to_bin] == majority_value, \"majority\", \"minority\")"
   ]
  },
  {
   "cell_type": "code",
   "execution_count": 73,
   "id": "06a50de5",
   "metadata": {
    "execution": {
     "iopub.execute_input": "2025-07-30T21:27:20.100679Z",
     "iopub.status.busy": "2025-07-30T21:27:20.100010Z",
     "iopub.status.idle": "2025-07-30T21:27:22.999233Z",
     "shell.execute_reply": "2025-07-30T21:27:22.998333Z"
    },
    "papermill": {
     "duration": 2.920368,
     "end_time": "2025-07-30T21:27:23.001228",
     "exception": false,
     "start_time": "2025-07-30T21:27:20.080860",
     "status": "completed"
    },
    "tags": []
   },
   "outputs": [],
   "source": [
    "example_universe = universe.copy()\n",
    "example_universe[\"cutoff\"] = example_universe[\"cutoff\"][0]\n",
    "example_universe[\"eval_fairness_grouping\"] = example_universe[\"eval_fairness_grouping\"][0]\n",
    "fairness_dict, metric_frame = universe_analysis.compute_metrics(\n",
    "    example_universe,\n",
    "    y_pred_prob=probs_test,\n",
    "    y_test=y_true,\n",
    "    org_test=org_test,\n",
    ")"
   ]
  },
  {
   "cell_type": "markdown",
   "id": "f95d4e02",
   "metadata": {
    "papermill": {
     "duration": 0.024246,
     "end_time": "2025-07-30T21:27:23.051242",
     "exception": false,
     "start_time": "2025-07-30T21:27:23.026996",
     "status": "completed"
    },
    "tags": []
   },
   "source": [
    "# Overall"
   ]
  },
  {
   "cell_type": "markdown",
   "id": "bdee4871",
   "metadata": {
    "papermill": {
     "duration": 0.024504,
     "end_time": "2025-07-30T21:27:23.099724",
     "exception": false,
     "start_time": "2025-07-30T21:27:23.075220",
     "status": "completed"
    },
    "tags": []
   },
   "source": [
    "Fairness\n",
    "Main fairness target: Equalized Odds. Seems to be a better fit than equal opportunity, since we're not only interested in Y = 1. Seems to be a better fit than demographic parity, since we also care about accuracy, not just equal distribution of preds.\n",
    "\n",
    "Pick column for computation of fairness metrics\n",
    "\n",
    "Performance\n",
    "Overall performance measures, most interesting in relation to the measures split by group below"
   ]
  },
  {
   "cell_type": "code",
   "execution_count": 74,
   "id": "c4e067c6",
   "metadata": {
    "execution": {
     "iopub.execute_input": "2025-07-30T21:27:23.150620Z",
     "iopub.status.busy": "2025-07-30T21:27:23.149925Z",
     "iopub.status.idle": "2025-07-30T21:27:23.158428Z",
     "shell.execute_reply": "2025-07-30T21:27:23.157472Z"
    },
    "papermill": {
     "duration": 0.036008,
     "end_time": "2025-07-30T21:27:23.159994",
     "exception": false,
     "start_time": "2025-07-30T21:27:23.123986",
     "status": "completed"
    },
    "tags": []
   },
   "outputs": [
    {
     "data": {
      "text/plain": [
       "accuracy                   0.218337\n",
       "balanced accuracy          0.535128\n",
       "f1                         0.239834\n",
       "precision                  0.137009\n",
       "false positive rate        0.890987\n",
       "false negative rate        0.038756\n",
       "selection rate             0.900000\n",
       "count                  89710.000000\n",
       "dtype: float64"
      ]
     },
     "execution_count": 74,
     "metadata": {},
     "output_type": "execute_result"
    }
   ],
   "source": [
    "metric_frame.overall"
   ]
  },
  {
   "cell_type": "markdown",
   "id": "e968fe9d",
   "metadata": {
    "papermill": {
     "duration": 0.028965,
     "end_time": "2025-07-30T21:27:23.215001",
     "exception": false,
     "start_time": "2025-07-30T21:27:23.186036",
     "status": "completed"
    },
    "tags": []
   },
   "source": [
    "By Group"
   ]
  },
  {
   "cell_type": "code",
   "execution_count": 75,
   "id": "ec325bce",
   "metadata": {
    "execution": {
     "iopub.execute_input": "2025-07-30T21:27:23.266140Z",
     "iopub.status.busy": "2025-07-30T21:27:23.265493Z",
     "iopub.status.idle": "2025-07-30T21:27:23.281642Z",
     "shell.execute_reply": "2025-07-30T21:27:23.280557Z"
    },
    "papermill": {
     "duration": 0.043393,
     "end_time": "2025-07-30T21:27:23.283272",
     "exception": false,
     "start_time": "2025-07-30T21:27:23.239879",
     "status": "completed"
    },
    "tags": []
   },
   "outputs": [
    {
     "data": {
      "text/html": [
       "<div>\n",
       "<style scoped>\n",
       "    .dataframe tbody tr th:only-of-type {\n",
       "        vertical-align: middle;\n",
       "    }\n",
       "\n",
       "    .dataframe tbody tr th {\n",
       "        vertical-align: top;\n",
       "    }\n",
       "\n",
       "    .dataframe thead th {\n",
       "        text-align: right;\n",
       "    }\n",
       "</style>\n",
       "<table border=\"1\" class=\"dataframe\">\n",
       "  <thead>\n",
       "    <tr style=\"text-align: right;\">\n",
       "      <th></th>\n",
       "      <th>accuracy</th>\n",
       "      <th>balanced accuracy</th>\n",
       "      <th>f1</th>\n",
       "      <th>precision</th>\n",
       "      <th>false positive rate</th>\n",
       "      <th>false negative rate</th>\n",
       "      <th>selection rate</th>\n",
       "      <th>count</th>\n",
       "    </tr>\n",
       "    <tr>\n",
       "      <th>majmin</th>\n",
       "      <th></th>\n",
       "      <th></th>\n",
       "      <th></th>\n",
       "      <th></th>\n",
       "      <th></th>\n",
       "      <th></th>\n",
       "      <th></th>\n",
       "      <th></th>\n",
       "    </tr>\n",
       "  </thead>\n",
       "  <tbody>\n",
       "    <tr>\n",
       "      <th>majority</th>\n",
       "      <td>0.235145</td>\n",
       "      <td>0.541723</td>\n",
       "      <td>0.248775</td>\n",
       "      <td>0.142939</td>\n",
       "      <td>0.874979</td>\n",
       "      <td>0.041575</td>\n",
       "      <td>0.886005</td>\n",
       "      <td>69170.0</td>\n",
       "    </tr>\n",
       "    <tr>\n",
       "      <th>minority</th>\n",
       "      <td>0.161733</td>\n",
       "      <td>0.514129</td>\n",
       "      <td>0.210980</td>\n",
       "      <td>0.118330</td>\n",
       "      <td>0.943870</td>\n",
       "      <td>0.027872</td>\n",
       "      <td>0.947128</td>\n",
       "      <td>20540.0</td>\n",
       "    </tr>\n",
       "  </tbody>\n",
       "</table>\n",
       "</div>"
      ],
      "text/plain": [
       "          accuracy  balanced accuracy        f1  precision  \\\n",
       "majmin                                                       \n",
       "majority  0.235145           0.541723  0.248775   0.142939   \n",
       "minority  0.161733           0.514129  0.210980   0.118330   \n",
       "\n",
       "          false positive rate  false negative rate  selection rate    count  \n",
       "majmin                                                                       \n",
       "majority             0.874979             0.041575        0.886005  69170.0  \n",
       "minority             0.943870             0.027872        0.947128  20540.0  "
      ]
     },
     "execution_count": 75,
     "metadata": {},
     "output_type": "execute_result"
    }
   ],
   "source": [
    "metric_frame.by_group"
   ]
  },
  {
   "cell_type": "code",
   "execution_count": 76,
   "id": "a9ddbe63",
   "metadata": {
    "execution": {
     "iopub.execute_input": "2025-07-30T21:27:23.335972Z",
     "iopub.status.busy": "2025-07-30T21:27:23.335179Z",
     "iopub.status.idle": "2025-07-30T21:27:25.598047Z",
     "shell.execute_reply": "2025-07-30T21:27:25.597155Z"
    },
    "papermill": {
     "duration": 2.290151,
     "end_time": "2025-07-30T21:27:25.599578",
     "exception": false,
     "start_time": "2025-07-30T21:27:23.309427",
     "status": "completed"
    },
    "tags": []
   },
   "outputs": [
    {
     "data": {
      "text/plain": [
       "array([[<Axes: title={'center': 'accuracy'}, xlabel='majmin'>,\n",
       "        <Axes: title={'center': 'balanced accuracy'}, xlabel='majmin'>,\n",
       "        <Axes: title={'center': 'f1'}, xlabel='majmin'>],\n",
       "       [<Axes: title={'center': 'precision'}, xlabel='majmin'>,\n",
       "        <Axes: title={'center': 'false positive rate'}, xlabel='majmin'>,\n",
       "        <Axes: title={'center': 'false negative rate'}, xlabel='majmin'>],\n",
       "       [<Axes: title={'center': 'selection rate'}, xlabel='majmin'>,\n",
       "        <Axes: title={'center': 'count'}, xlabel='majmin'>,\n",
       "        <Axes: xlabel='majmin'>]], dtype=object)"
      ]
     },
     "execution_count": 76,
     "metadata": {},
     "output_type": "execute_result"
    },
    {
     "data": {
      "image/png": "[encoded data removed]",
      "text/plain": [
       "<Figure size 1200x800 with 9 Axes>"
      ]
     },
     "metadata": {},
     "output_type": "display_data"
    }
   ],
   "source": [
    "# In a graphic\n",
    "metric_frame.by_group.plot.bar(\n",
    "    subplots=True,\n",
    "    layout=[3, 3],\n",
    "    legend=False,\n",
    "    figsize=[12, 8],\n",
    "    title=\"Show all metrics\",\n",
    ")"
   ]
  },
  {
   "cell_type": "markdown",
   "id": "f57a0bac",
   "metadata": {
    "papermill": {
     "duration": 0.026894,
     "end_time": "2025-07-30T21:27:25.655932",
     "exception": false,
     "start_time": "2025-07-30T21:27:25.629038",
     "status": "completed"
    },
    "tags": []
   },
   "source": [
    "# Final Output"
   ]
  },
  {
   "cell_type": "code",
   "execution_count": 77,
   "id": "96d280a3",
   "metadata": {
    "execution": {
     "iopub.execute_input": "2025-07-30T21:27:25.712096Z",
     "iopub.status.busy": "2025-07-30T21:27:25.711100Z",
     "iopub.status.idle": "2025-07-30T21:27:25.718698Z",
     "shell.execute_reply": "2025-07-30T21:27:25.717768Z"
    },
    "papermill": {
     "duration": 0.038373,
     "end_time": "2025-07-30T21:27:25.720677",
     "exception": false,
     "start_time": "2025-07-30T21:27:25.682304",
     "status": "completed"
    },
    "tags": []
   },
   "outputs": [
    {
     "data": {
      "text/plain": [
       "4"
      ]
     },
     "execution_count": 77,
     "metadata": {},
     "output_type": "execute_result"
    }
   ],
   "source": [
    "sub_universes = universe_analysis.generate_sub_universes()\n",
    "len(sub_universes)"
   ]
  },
  {
   "cell_type": "code",
   "execution_count": 78,
   "id": "92adf7ba",
   "metadata": {
    "execution": {
     "iopub.execute_input": "2025-07-30T21:27:25.794634Z",
     "iopub.status.busy": "2025-07-30T21:27:25.793986Z",
     "iopub.status.idle": "2025-07-30T21:27:25.799979Z",
     "shell.execute_reply": "2025-07-30T21:27:25.798986Z"
    },
    "papermill": {
     "duration": 0.046533,
     "end_time": "2025-07-30T21:27:25.801644",
     "exception": false,
     "start_time": "2025-07-30T21:27:25.755111",
     "status": "completed"
    },
    "tags": []
   },
   "outputs": [],
   "source": [
    "def filter_sub_universe_data(sub_universe, org_test):\n",
    "    # Keep all rows — no filtering\n",
    "    keep_rows_mask = np.ones(org_test.shape[0], dtype=bool)\n",
    "\n",
    "    print(f\"[INFO] Keeping all rows: {keep_rows_mask.sum()} rows retained.\")\n",
    "    return keep_rows_mask"
   ]
  },
  {
   "cell_type": "code",
   "execution_count": 79,
   "id": "4a759155",
   "metadata": {
    "execution": {
     "iopub.execute_input": "2025-07-30T21:27:25.858632Z",
     "iopub.status.busy": "2025-07-30T21:27:25.857893Z",
     "iopub.status.idle": "2025-07-30T21:27:34.241267Z",
     "shell.execute_reply": "2025-07-30T21:27:34.240561Z"
    },
    "papermill": {
     "duration": 8.412096,
     "end_time": "2025-07-30T21:27:34.242526",
     "exception": false,
     "start_time": "2025-07-30T21:27:25.830430",
     "status": "completed"
    },
    "tags": []
   },
   "outputs": [
    {
     "name": "stdout",
     "output_type": "stream",
     "text": [
      "Stopping execution_time clock.\n",
      "[INFO] Keeping all rows: 89710 rows retained.\n"
     ]
    },
    {
     "name": "stdout",
     "output_type": "stream",
     "text": [
      "[INFO] Keeping all rows: 89710 rows retained.\n"
     ]
    },
    {
     "name": "stdout",
     "output_type": "stream",
     "text": [
      "[INFO] Keeping all rows: 89710 rows retained.\n"
     ]
    },
    {
     "name": "stdout",
     "output_type": "stream",
     "text": [
      "[INFO] Keeping all rows: 89710 rows retained.\n"
     ]
    },
    {
     "data": {
      "text/html": [
       "<div>\n",
       "<style scoped>\n",
       "    .dataframe tbody tr th:only-of-type {\n",
       "        vertical-align: middle;\n",
       "    }\n",
       "\n",
       "    .dataframe tbody tr th {\n",
       "        vertical-align: top;\n",
       "    }\n",
       "\n",
       "    .dataframe thead th {\n",
       "        text-align: right;\n",
       "    }\n",
       "</style>\n",
       "<table border=\"1\" class=\"dataframe\">\n",
       "  <thead>\n",
       "    <tr style=\"text-align: right;\">\n",
       "      <th></th>\n",
       "      <th>run_no</th>\n",
       "      <th>universe_id</th>\n",
       "      <th>universe_settings</th>\n",
       "      <th>execution_time</th>\n",
       "      <th>test_size_n</th>\n",
       "      <th>test_size_frac</th>\n",
       "      <th>fair_main_equalized_odds_difference</th>\n",
       "      <th>fair_main_equalized_odds_ratio</th>\n",
       "      <th>fair_main_demographic_parity_difference</th>\n",
       "      <th>fair_main_demographic_parity_ratio</th>\n",
       "      <th>...</th>\n",
       "      <th>perf_grp_precision_0</th>\n",
       "      <th>perf_grp_precision_1</th>\n",
       "      <th>perf_grp_false positive rate_0</th>\n",
       "      <th>perf_grp_false positive rate_1</th>\n",
       "      <th>perf_grp_false negative rate_0</th>\n",
       "      <th>perf_grp_false negative rate_1</th>\n",
       "      <th>perf_grp_selection rate_0</th>\n",
       "      <th>perf_grp_selection rate_1</th>\n",
       "      <th>perf_grp_count_0</th>\n",
       "      <th>perf_grp_count_1</th>\n",
       "    </tr>\n",
       "  </thead>\n",
       "  <tbody>\n",
       "    <tr>\n",
       "      <th>0</th>\n",
       "      <td>14</td>\n",
       "      <td>bea022580b1502908627ea434f709402</td>\n",
       "      <td>{\"cutoff\": \"quantile_0.1\", \"eval_fairness_grou...</td>\n",
       "      <td>29.3721</td>\n",
       "      <td>89710</td>\n",
       "      <td>1.0</td>\n",
       "      <td>0.068891</td>\n",
       "      <td>0.927013</td>\n",
       "      <td>0.061122</td>\n",
       "      <td>0.935466</td>\n",
       "      <td>...</td>\n",
       "      <td>NaN</td>\n",
       "      <td>NaN</td>\n",
       "      <td>NaN</td>\n",
       "      <td>NaN</td>\n",
       "      <td>NaN</td>\n",
       "      <td>NaN</td>\n",
       "      <td>NaN</td>\n",
       "      <td>NaN</td>\n",
       "      <td>NaN</td>\n",
       "      <td>NaN</td>\n",
       "    </tr>\n",
       "    <tr>\n",
       "      <th>0</th>\n",
       "      <td>14</td>\n",
       "      <td>bea022580b1502908627ea434f709402</td>\n",
       "      <td>{\"cutoff\": \"quantile_0.1\", \"eval_fairness_grou...</td>\n",
       "      <td>29.3721</td>\n",
       "      <td>89710</td>\n",
       "      <td>1.0</td>\n",
       "      <td>0.068891</td>\n",
       "      <td>0.927013</td>\n",
       "      <td>0.061122</td>\n",
       "      <td>0.935466</td>\n",
       "      <td>...</td>\n",
       "      <td>0.11833</td>\n",
       "      <td>0.142939</td>\n",
       "      <td>0.943870</td>\n",
       "      <td>0.874979</td>\n",
       "      <td>0.027872</td>\n",
       "      <td>0.041575</td>\n",
       "      <td>0.947128</td>\n",
       "      <td>0.886005</td>\n",
       "      <td>20540.0</td>\n",
       "      <td>69170.0</td>\n",
       "    </tr>\n",
       "    <tr>\n",
       "      <th>0</th>\n",
       "      <td>14</td>\n",
       "      <td>bea022580b1502908627ea434f709402</td>\n",
       "      <td>{\"cutoff\": \"quantile_0.25\", \"eval_fairness_gro...</td>\n",
       "      <td>29.3721</td>\n",
       "      <td>89710</td>\n",
       "      <td>1.0</td>\n",
       "      <td>0.103580</td>\n",
       "      <td>0.872225</td>\n",
       "      <td>0.091690</td>\n",
       "      <td>0.888277</td>\n",
       "      <td>...</td>\n",
       "      <td>NaN</td>\n",
       "      <td>NaN</td>\n",
       "      <td>NaN</td>\n",
       "      <td>NaN</td>\n",
       "      <td>NaN</td>\n",
       "      <td>NaN</td>\n",
       "      <td>NaN</td>\n",
       "      <td>NaN</td>\n",
       "      <td>NaN</td>\n",
       "      <td>NaN</td>\n",
       "    </tr>\n",
       "    <tr>\n",
       "      <th>0</th>\n",
       "      <td>14</td>\n",
       "      <td>bea022580b1502908627ea434f709402</td>\n",
       "      <td>{\"cutoff\": \"quantile_0.25\", \"eval_fairness_gro...</td>\n",
       "      <td>29.3721</td>\n",
       "      <td>89710</td>\n",
       "      <td>1.0</td>\n",
       "      <td>0.103580</td>\n",
       "      <td>0.872225</td>\n",
       "      <td>0.091690</td>\n",
       "      <td>0.888277</td>\n",
       "      <td>...</td>\n",
       "      <td>0.12612</td>\n",
       "      <td>0.158255</td>\n",
       "      <td>0.810643</td>\n",
       "      <td>0.707063</td>\n",
       "      <td>0.102196</td>\n",
       "      <td>0.126915</td>\n",
       "      <td>0.820691</td>\n",
       "      <td>0.729001</td>\n",
       "      <td>20540.0</td>\n",
       "      <td>69170.0</td>\n",
       "    </tr>\n",
       "  </tbody>\n",
       "</table>\n",
       "<p>4 rows × 50 columns</p>\n",
       "</div>"
      ],
      "text/plain": [
       "  run_no                       universe_id  \\\n",
       "0     14  bea022580b1502908627ea434f709402   \n",
       "0     14  bea022580b1502908627ea434f709402   \n",
       "0     14  bea022580b1502908627ea434f709402   \n",
       "0     14  bea022580b1502908627ea434f709402   \n",
       "\n",
       "                                   universe_settings  execution_time  \\\n",
       "0  {\"cutoff\": \"quantile_0.1\", \"eval_fairness_grou...         29.3721   \n",
       "0  {\"cutoff\": \"quantile_0.1\", \"eval_fairness_grou...         29.3721   \n",
       "0  {\"cutoff\": \"quantile_0.25\", \"eval_fairness_gro...         29.3721   \n",
       "0  {\"cutoff\": \"quantile_0.25\", \"eval_fairness_gro...         29.3721   \n",
       "\n",
       "   test_size_n  test_size_frac  fair_main_equalized_odds_difference  \\\n",
       "0        89710             1.0                             0.068891   \n",
       "0        89710             1.0                             0.068891   \n",
       "0        89710             1.0                             0.103580   \n",
       "0        89710             1.0                             0.103580   \n",
       "\n",
       "   fair_main_equalized_odds_ratio  fair_main_demographic_parity_difference  \\\n",
       "0                        0.927013                                 0.061122   \n",
       "0                        0.927013                                 0.061122   \n",
       "0                        0.872225                                 0.091690   \n",
       "0                        0.872225                                 0.091690   \n",
       "\n",
       "   fair_main_demographic_parity_ratio  ...  perf_grp_precision_0  \\\n",
       "0                            0.935466  ...                   NaN   \n",
       "0                            0.935466  ...               0.11833   \n",
       "0                            0.888277  ...                   NaN   \n",
       "0                            0.888277  ...               0.12612   \n",
       "\n",
       "   perf_grp_precision_1  perf_grp_false positive rate_0  \\\n",
       "0                   NaN                             NaN   \n",
       "0              0.142939                        0.943870   \n",
       "0                   NaN                             NaN   \n",
       "0              0.158255                        0.810643   \n",
       "\n",
       "   perf_grp_false positive rate_1  perf_grp_false negative rate_0  \\\n",
       "0                             NaN                             NaN   \n",
       "0                        0.874979                        0.027872   \n",
       "0                             NaN                             NaN   \n",
       "0                        0.707063                        0.102196   \n",
       "\n",
       "   perf_grp_false negative rate_1  perf_grp_selection rate_0  \\\n",
       "0                             NaN                        NaN   \n",
       "0                        0.041575                   0.947128   \n",
       "0                             NaN                        NaN   \n",
       "0                        0.126915                   0.820691   \n",
       "\n",
       "   perf_grp_selection rate_1  perf_grp_count_0  perf_grp_count_1  \n",
       "0                        NaN               NaN               NaN  \n",
       "0                   0.886005           20540.0           69170.0  \n",
       "0                        NaN               NaN               NaN  \n",
       "0                   0.729001           20540.0           69170.0  \n",
       "\n",
       "[4 rows x 50 columns]"
      ]
     },
     "execution_count": 79,
     "metadata": {},
     "output_type": "execute_result"
    }
   ],
   "source": [
    "final_output = universe_analysis.generate_final_output(\n",
    "    y_pred_prob=probs_test,\n",
    "    y_test=y_true,\n",
    "    org_test=org_test,\n",
    "    filter_data=filter_sub_universe_data,\n",
    "    cp_metrics_df=cp_metrics_df,\n",
    "    save=True,\n",
    ")\n",
    "final_output"
   ]
  },
  {
   "cell_type": "code",
   "execution_count": null,
   "id": "721ff514-cb11-46f8-b6fc-50392f74b5cb",
   "metadata": {
    "papermill": {
     "duration": 0.015212,
     "end_time": "2025-07-30T21:27:34.276407",
     "exception": false,
     "start_time": "2025-07-30T21:27:34.261195",
     "status": "completed"
    },
    "tags": []
   },
   "outputs": [],
   "source": []
  }
 ],
 "metadata": {
  "celltoolbar": "Tags",
  "kernelspec": {
   "display_name": "Python (CMA Fairness)",
   "language": "python",
   "name": "cma_fair_env"
  },
  "language_info": {
   "codemirror_mode": {
    "name": "ipython",
    "version": 3
   },
   "file_extension": ".py",
   "mimetype": "text/x-python",
   "name": "python",
   "nbconvert_exporter": "python",
   "pygments_lexer": "ipython3",
   "version": "3.10.12"
  },
  "papermill": {
   "default_parameters": {},
   "duration": 41.54306,
   "end_time": "2025-07-30T21:27:34.909015",
   "environment_variables": {},
   "exception": null,
   "input_path": "universe_analysis.ipynb",
   "output_path": "output/runs/14/notebooks/m_14-bea022580b1502908627ea434f709402.ipynb",
   "parameters": {
    "output_dir": "output",
    "run_no": "14",
    "seed": "2023",
    "universe": "{\"cutoff\": [\"quantile_0.1\", \"quantile_0.25\"], \"eval_fairness_grouping\": [\"majority-minority\", \"nationality-all\"], \"exclude_features\": \"age\", \"exclude_subgroups\": \"keep-all\", \"model\": \"elasticnet\", \"scale\": \"scale\", \"training_size\": \"1k\", \"training_year\": \"2014\"}",
    "universe_id": "bea022580b1502908627ea434f709402"
   },
   "start_time": "2025-07-30T21:26:53.365955",
   "version": "2.6.0"
  }
 },
 "nbformat": 4,
 "nbformat_minor": 5
}