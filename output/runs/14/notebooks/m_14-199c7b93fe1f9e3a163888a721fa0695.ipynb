{
 "cells": [
  {
   "cell_type": "code",
   "execution_count": 1,
   "id": "f159f837-637b-42ba-96b5-ec9a68c44524",
   "metadata": {
    "execution": {
     "iopub.execute_input": "2025-07-30T20:36:16.238202Z",
     "iopub.status.busy": "2025-07-30T20:36:16.237662Z",
     "iopub.status.idle": "2025-07-30T20:36:16.252674Z",
     "shell.execute_reply": "2025-07-30T20:36:16.251826Z"
    },
    "papermill": {
     "duration": 0.040116,
     "end_time": "2025-07-30T20:36:16.254316",
     "exception": false,
     "start_time": "2025-07-30T20:36:16.214200",
     "status": "completed"
    },
    "tags": []
   },
   "outputs": [
    {
     "name": "stdout",
     "output_type": "stream",
     "text": [
      "/dss/dsshome1/0C/ra93lal2/cma/CMA_Fairness_v2\n"
     ]
    },
    {
     "name": "stderr",
     "output_type": "stream",
     "text": [
      "/dss/dsshome1/0C/ra93lal2/.local/share/virtualenvs/CMA_Fairness_v2-3j10GkSs/lib/python3.10/site-packages/IPython/core/magics/osm.py:393: UserWarning: This is now an optional IPython functionality, using bookmarks requires you to install the `pickleshare` library.\n",
      "  bkms = self.shell.db.get('bookmarks', {})\n",
      "/dss/dsshome1/0C/ra93lal2/.local/share/virtualenvs/CMA_Fairness_v2-3j10GkSs/lib/python3.10/site-packages/IPython/core/magics/osm.py:417: UserWarning: This is now an optional IPython functionality, setting dhist requires you to install the `pickleshare` library.\n",
      "  self.shell.db['dhist'] = compress_dhist(dhist)[-100:]\n"
     ]
    }
   ],
   "source": [
    "%cd ~/cma/CMA_Fairness_v2"
   ]
  },
  {
   "cell_type": "markdown",
   "id": "de2603b9",
   "metadata": {
    "papermill": {
     "duration": 0.020927,
     "end_time": "2025-07-30T20:36:16.295180",
     "exception": false,
     "start_time": "2025-07-30T20:36:16.274253",
     "status": "completed"
    },
    "tags": []
   },
   "source": [
    "The following cell holds the definition of our parameters, these values can be overriden by rendering the with e.g. the following command:\n",
    "\n",
    "papermill -p alpha 0.2 -p ratio 0.3 universe_analysis.ipynb output/test_run.ipynb"
   ]
  },
  {
   "cell_type": "code",
   "execution_count": 2,
   "id": "a80968a0-40bb-4fa9-85ef-2d5eefb01975",
   "metadata": {
    "execution": {
     "iopub.execute_input": "2025-07-30T20:36:16.336980Z",
     "iopub.status.busy": "2025-07-30T20:36:16.336015Z",
     "iopub.status.idle": "2025-07-30T20:36:16.440480Z",
     "shell.execute_reply": "2025-07-30T20:36:16.439421Z"
    },
    "papermill": {
     "duration": 0.126494,
     "end_time": "2025-07-30T20:36:16.442296",
     "exception": false,
     "start_time": "2025-07-30T20:36:16.315802",
     "status": "completed"
    },
    "tags": []
   },
   "outputs": [
    {
     "name": "stdout",
     "output_type": "stream",
     "text": [
      "Current working directory: /dss/dsshome1/0C/ra93lal2/cma/CMA_Fairness_v2\n"
     ]
    }
   ],
   "source": [
    "import os\n",
    "print(\"Current working directory:\", os.getcwd())"
   ]
  },
  {
   "cell_type": "code",
   "execution_count": 3,
   "id": "2dce4c03",
   "metadata": {
    "execution": {
     "iopub.execute_input": "2025-07-30T20:36:16.485321Z",
     "iopub.status.busy": "2025-07-30T20:36:16.484919Z",
     "iopub.status.idle": "2025-07-30T20:36:16.491038Z",
     "shell.execute_reply": "2025-07-30T20:36:16.490063Z"
    },
    "papermill": {
     "duration": 0.030237,
     "end_time": "2025-07-30T20:36:16.494599",
     "exception": false,
     "start_time": "2025-07-30T20:36:16.464362",
     "status": "completed"
    },
    "tags": [
     "parameters"
    ]
   },
   "outputs": [],
   "source": [
    "run_no = 0\n",
    "universe_id = \"test\"\n",
    "universe = {\n",
    "    \"training_size\": \"25k\", # \"25k\", \"5k\", \"1k\"\n",
    "    \"training_year\": \"2014\", # \"2014\", \"2012_14\", \"2010_14\"\n",
    "    \"scale\": \"scale\", # \"scale\", \"do-not-scale\",\n",
    "    #\"stratify_split\": \"target\", # \"none\", \"target\", \"protected-attribute\", \"both\",\n",
    "    \"model\": \"elasticnet\", # \"logreg\", \"penalized_logreg\", \"rf\", \"gbm\", \"elasticnet\"\n",
    "    \"cutoff\": [\"quantile_0.15\", \"quantile_0.30\"],\n",
    "    \"exclude_features\": \"age\", # \"none\", \"nationality\", \"sex\", \"nationality-sex\", \"age\"\n",
    "    \"exclude_subgroups\": \"keep-all\", # \"keep-all\", \"drop-non-german\"\n",
    "    \"eval_fairness_grouping\": [\"majority-minority\", \"nationality-all\"]\n",
    "}\n",
    "\n",
    "output_dir=\"./output\"\n",
    "seed=0"
   ]
  },
  {
   "cell_type": "code",
   "execution_count": 4,
   "id": "f2fcfe9f",
   "metadata": {
    "execution": {
     "iopub.execute_input": "2025-07-30T20:36:16.537286Z",
     "iopub.status.busy": "2025-07-30T20:36:16.536872Z",
     "iopub.status.idle": "2025-07-30T20:36:16.551338Z",
     "shell.execute_reply": "2025-07-30T20:36:16.541421Z"
    },
    "papermill": {
     "duration": 0.046143,
     "end_time": "2025-07-30T20:36:16.561861",
     "exception": false,
     "start_time": "2025-07-30T20:36:16.515718",
     "status": "completed"
    },
    "tags": [
     "injected-parameters"
    ]
   },
   "outputs": [],
   "source": [
    "# Parameters\n",
    "universe_id = \"199c7b93fe1f9e3a163888a721fa0695\"\n",
    "run_no = \"14\"\n",
    "universe = \"{\\\"cutoff\\\": [\\\"quantile_0.1\\\", \\\"quantile_0.25\\\"], \\\"eval_fairness_grouping\\\": [\\\"majority-minority\\\", \\\"nationality-all\\\"], \\\"exclude_features\\\": \\\"age\\\", \\\"exclude_subgroups\\\": \\\"keep-all\\\", \\\"model\\\": \\\"rf\\\", \\\"scale\\\": \\\"do-not-scale\\\", \\\"training_size\\\": \\\"25k\\\", \\\"training_year\\\": \\\"2010_14\\\"}\"\n",
    "output_dir = \"output\"\n",
    "seed = \"2023\"\n"
   ]
  },
  {
   "cell_type": "code",
   "execution_count": 5,
   "id": "1650acaf",
   "metadata": {
    "execution": {
     "iopub.execute_input": "2025-07-30T20:36:16.615152Z",
     "iopub.status.busy": "2025-07-30T20:36:16.614751Z",
     "iopub.status.idle": "2025-07-30T20:36:16.619843Z",
     "shell.execute_reply": "2025-07-30T20:36:16.618839Z"
    },
    "papermill": {
     "duration": 0.03075,
     "end_time": "2025-07-30T20:36:16.623291",
     "exception": false,
     "start_time": "2025-07-30T20:36:16.592541",
     "status": "completed"
    },
    "tags": []
   },
   "outputs": [],
   "source": [
    "import json\n",
    "# Parse universe into dict if it is passed as a string\n",
    "if isinstance(universe, str):\n",
    "    universe = json.loads(universe)"
   ]
  },
  {
   "cell_type": "code",
   "execution_count": 6,
   "id": "16620c48",
   "metadata": {
    "execution": {
     "iopub.execute_input": "2025-07-30T20:36:16.667449Z",
     "iopub.status.busy": "2025-07-30T20:36:16.667033Z",
     "iopub.status.idle": "2025-07-30T20:36:16.734043Z",
     "shell.execute_reply": "2025-07-30T20:36:16.731444Z"
    },
    "papermill": {
     "duration": 0.090589,
     "end_time": "2025-07-30T20:36:16.735918",
     "exception": false,
     "start_time": "2025-07-30T20:36:16.645329",
     "status": "completed"
    },
    "tags": []
   },
   "outputs": [],
   "source": [
    "# Auto-reload the custom package\n",
    "%load_ext autoreload\n",
    "%autoreload 1\n",
    "%aimport fairness_multiverse"
   ]
  },
  {
   "cell_type": "code",
   "execution_count": 7,
   "id": "01c5c9f3",
   "metadata": {
    "execution": {
     "iopub.execute_input": "2025-07-30T20:36:16.804595Z",
     "iopub.status.busy": "2025-07-30T20:36:16.804136Z",
     "iopub.status.idle": "2025-07-30T20:36:20.270451Z",
     "shell.execute_reply": "2025-07-30T20:36:20.269247Z"
    },
    "papermill": {
     "duration": 3.505099,
     "end_time": "2025-07-30T20:36:20.272729",
     "exception": false,
     "start_time": "2025-07-30T20:36:16.767630",
     "status": "completed"
    },
    "tags": []
   },
   "outputs": [],
   "source": [
    "from fairness_multiverse.universe import UniverseAnalysis\n",
    "\n",
    "universe_analysis = UniverseAnalysis(\n",
    "    run_no = run_no,\n",
    "    universe_id = universe_id,\n",
    "    universe = universe,\n",
    "    output_dir=output_dir,\n",
    ")"
   ]
  },
  {
   "cell_type": "code",
   "execution_count": 8,
   "id": "106241f5",
   "metadata": {
    "execution": {
     "iopub.execute_input": "2025-07-30T20:36:20.344376Z",
     "iopub.status.busy": "2025-07-30T20:36:20.343857Z",
     "iopub.status.idle": "2025-07-30T20:36:20.351534Z",
     "shell.execute_reply": "2025-07-30T20:36:20.350422Z"
    },
    "papermill": {
     "duration": 0.055565,
     "end_time": "2025-07-30T20:36:20.365798",
     "exception": false,
     "start_time": "2025-07-30T20:36:20.310233",
     "status": "completed"
    },
    "tags": []
   },
   "outputs": [
    {
     "name": "stdout",
     "output_type": "stream",
     "text": [
      "Using Seed: 2023\n"
     ]
    }
   ],
   "source": [
    "import numpy as np\n",
    "parsed_seed = int(seed)\n",
    "np.random.seed(parsed_seed)\n",
    "print(f\"Using Seed: {parsed_seed}\")"
   ]
  },
  {
   "cell_type": "markdown",
   "id": "e0ebdc57",
   "metadata": {
    "papermill": {
     "duration": 0.056194,
     "end_time": "2025-07-30T20:36:20.472879",
     "exception": false,
     "start_time": "2025-07-30T20:36:20.416685",
     "status": "completed"
    },
    "tags": []
   },
   "source": [
    "# Loading Data"
   ]
  },
  {
   "cell_type": "markdown",
   "id": "681925a3",
   "metadata": {
    "papermill": {
     "duration": 0.05003,
     "end_time": "2025-07-30T20:36:20.560932",
     "exception": false,
     "start_time": "2025-07-30T20:36:20.510902",
     "status": "completed"
    },
    "tags": []
   },
   "source": [
    "Load siab_train, siab_test, siab_calib and/or \n",
    "load siab_train_features, siab_train_labels"
   ]
  },
  {
   "cell_type": "code",
   "execution_count": 9,
   "id": "f0496b8a",
   "metadata": {
    "execution": {
     "iopub.execute_input": "2025-07-30T20:36:20.614531Z",
     "iopub.status.busy": "2025-07-30T20:36:20.614135Z",
     "iopub.status.idle": "2025-07-30T20:36:34.535261Z",
     "shell.execute_reply": "2025-07-30T20:36:34.534153Z"
    },
    "papermill": {
     "duration": 13.952337,
     "end_time": "2025-07-30T20:36:34.537099",
     "exception": false,
     "start_time": "2025-07-30T20:36:20.584762",
     "status": "completed"
    },
    "tags": []
   },
   "outputs": [
    {
     "name": "stdout",
     "output_type": "stream",
     "text": [
      "Loading SIAB data from cache: data/siab_cached.csv.gz\n"
     ]
    },
    {
     "name": "stdout",
     "output_type": "stream",
     "text": [
      "(643690, 164)\n"
     ]
    }
   ],
   "source": [
    "from pathlib import Path\n",
    "import pandas as pd\n",
    "\n",
    "# File paths\n",
    "raw_file = Path(\"data/raw/siab.csv\")\n",
    "cache_file = Path(\"data/siab_cached.csv.gz\")\n",
    "\n",
    "# Ensure cache directory exists\n",
    "cache_file.parent.mkdir(parents=True, exist_ok=True)\n",
    "\n",
    "# Load with simple caching\n",
    "if cache_file.exists():\n",
    "    print(f\"Loading SIAB data from cache: {cache_file}\")\n",
    "    siab = pd.read_csv(cache_file, compression='gzip')\n",
    "else:\n",
    "    print(f\"Cache not found. Reading raw SIAB data: {raw_file}\")\n",
    "    siab = pd.read_csv(raw_file)\n",
    "    siab.to_csv(cache_file, index=False, compression='gzip')\n",
    "    print(f\"Cached SIAB data to: {cache_file}\")\n",
    "\n",
    "# Now use `siab` DataFrame as needed\n",
    "print(siab.shape)"
   ]
  },
  {
   "cell_type": "code",
   "execution_count": 10,
   "id": "db0ca512-5f53-4dba-abdb-a2888bca41ba",
   "metadata": {
    "execution": {
     "iopub.execute_input": "2025-07-30T20:36:34.593332Z",
     "iopub.status.busy": "2025-07-30T20:36:34.592874Z",
     "iopub.status.idle": "2025-07-30T20:36:34.599569Z",
     "shell.execute_reply": "2025-07-30T20:36:34.598409Z"
    },
    "papermill": {
     "duration": 0.035751,
     "end_time": "2025-07-30T20:36:34.602607",
     "exception": false,
     "start_time": "2025-07-30T20:36:34.566856",
     "status": "completed"
    },
    "tags": []
   },
   "outputs": [],
   "source": [
    "#siab"
   ]
  },
  {
   "cell_type": "code",
   "execution_count": 11,
   "id": "a0edb063",
   "metadata": {
    "execution": {
     "iopub.execute_input": "2025-07-30T20:36:34.661432Z",
     "iopub.status.busy": "2025-07-30T20:36:34.660969Z",
     "iopub.status.idle": "2025-07-30T20:36:34.666053Z",
     "shell.execute_reply": "2025-07-30T20:36:34.665155Z"
    },
    "papermill": {
     "duration": 0.042618,
     "end_time": "2025-07-30T20:36:34.668105",
     "exception": false,
     "start_time": "2025-07-30T20:36:34.625487",
     "status": "completed"
    },
    "tags": []
   },
   "outputs": [],
   "source": [
    "#import pandas as pd\n",
    "#\n",
    "#X_train = pd.read_csv(\"./data/X_train.csv\")\n",
    "#y_train = pd.read_csv(\"./data/y_train.csv\")"
   ]
  },
  {
   "cell_type": "code",
   "execution_count": 12,
   "id": "63d08085",
   "metadata": {
    "execution": {
     "iopub.execute_input": "2025-07-30T20:36:34.730036Z",
     "iopub.status.busy": "2025-07-30T20:36:34.729459Z",
     "iopub.status.idle": "2025-07-30T20:36:34.734503Z",
     "shell.execute_reply": "2025-07-30T20:36:34.733308Z"
    },
    "papermill": {
     "duration": 0.02553,
     "end_time": "2025-07-30T20:36:34.736479",
     "exception": false,
     "start_time": "2025-07-30T20:36:34.710949",
     "status": "completed"
    },
    "tags": []
   },
   "outputs": [],
   "source": [
    "#X_test = pd.read_csv(\"./data/X_test.csv\")\n",
    "#y_true = pd.read_csv(\"./data/y_test.csv\")"
   ]
  },
  {
   "cell_type": "code",
   "execution_count": 13,
   "id": "98a8d0fa-1d3d-4ed8-bb2c-281470e24add",
   "metadata": {
    "execution": {
     "iopub.execute_input": "2025-07-30T20:36:34.778585Z",
     "iopub.status.busy": "2025-07-30T20:36:34.778060Z",
     "iopub.status.idle": "2025-07-30T20:36:34.783448Z",
     "shell.execute_reply": "2025-07-30T20:36:34.782325Z"
    },
    "papermill": {
     "duration": 0.026772,
     "end_time": "2025-07-30T20:36:34.785508",
     "exception": false,
     "start_time": "2025-07-30T20:36:34.758736",
     "status": "completed"
    },
    "tags": []
   },
   "outputs": [],
   "source": [
    "# Calibration data for conformal\n",
    "#X_calib = pd.read_csv(\"./data/X_calib.csv\")\n",
    "#y_calib = pd.read_csv(\"./data/y_calib.csv\")"
   ]
  },
  {
   "cell_type": "markdown",
   "id": "997051c5-15bd-4b69-9786-c3001a3ce484",
   "metadata": {
    "papermill": {
     "duration": 0.019108,
     "end_time": "2025-07-30T20:36:34.827799",
     "exception": false,
     "start_time": "2025-07-30T20:36:34.808691",
     "status": "completed"
    },
    "tags": []
   },
   "source": [
    "# Splitting Data and Setting Training Data Size"
   ]
  },
  {
   "cell_type": "code",
   "execution_count": 14,
   "id": "e993b61f-042d-41a6-8c81-f55681f86335",
   "metadata": {
    "execution": {
     "iopub.execute_input": "2025-07-30T20:36:34.853278Z",
     "iopub.status.busy": "2025-07-30T20:36:34.852831Z",
     "iopub.status.idle": "2025-07-30T20:36:34.864386Z",
     "shell.execute_reply": "2025-07-30T20:36:34.863538Z"
    },
    "papermill": {
     "duration": 0.025037,
     "end_time": "2025-07-30T20:36:34.865714",
     "exception": false,
     "start_time": "2025-07-30T20:36:34.840677",
     "status": "completed"
    },
    "tags": []
   },
   "outputs": [],
   "source": [
    "def sample_by_year_size(df,\n",
    "                        training_year: str,\n",
    "                        training_size: str,\n",
    "                        random_state: int = 42):\n",
    "    # --- parse training_year into a list of int years ---\n",
    "    if \"_\" in training_year:\n",
    "        start_str, end_str = training_year.split(\"_\", 1)\n",
    "        start = int(start_str)\n",
    "        end   = int(end_str) if len(end_str) == 4 else (int(end_str) + (start // 100)*100)\n",
    "        years = list(range(start, end + 1))\n",
    "    else:\n",
    "        years = [int(training_year)]\n",
    "\n",
    "    df = df[df[\"year\"].isin(years)].reset_index(drop=True)\n",
    "\n",
    "    # --- map training_size to total number of samples ---\n",
    "    total_map = {\"25k\": 25_000, \"5k\": 5_000, \"1k\": 1_000}\n",
    "    if training_size not in total_map:\n",
    "        return df  # e.g. \"all\"\n",
    "\n",
    "    total_samples = total_map[training_size]\n",
    "    n_years       = len(years)\n",
    "    base          = total_samples // n_years\n",
    "    remainder     = total_samples % n_years\n",
    "\n",
    "    # --- build a dict: year -> how many to sample ---\n",
    "    # give +1 to the first `remainder` years in ascending order\n",
    "    quotas = {\n",
    "        year: base + (1 if idx < remainder else 0)\n",
    "        for idx, year in enumerate(sorted(years))\n",
    "    }\n",
    "\n",
    "    # --- sample per‐year according to the quota dict ---\n",
    "    sampled = (\n",
    "        df\n",
    "        .groupby(\"year\", group_keys=False)\n",
    "        .apply(lambda grp: grp.sample(\n",
    "            n=min(len(grp), quotas[grp.name]),\n",
    "            random_state=random_state))\n",
    "        .reset_index(drop=True)\n",
    "    )\n",
    "\n",
    "    return sampled"
   ]
  },
  {
   "cell_type": "code",
   "execution_count": 15,
   "id": "c0ccd338-0e02-41f3-a09d-f56f9266e3fb",
   "metadata": {
    "execution": {
     "iopub.execute_input": "2025-07-30T20:36:34.971492Z",
     "iopub.status.busy": "2025-07-30T20:36:34.971096Z",
     "iopub.status.idle": "2025-07-30T20:36:34.976336Z",
     "shell.execute_reply": "2025-07-30T20:36:34.975286Z"
    },
    "papermill": {
     "duration": 0.039344,
     "end_time": "2025-07-30T20:36:34.980355",
     "exception": false,
     "start_time": "2025-07-30T20:36:34.941011",
     "status": "completed"
    },
    "tags": []
   },
   "outputs": [],
   "source": [
    "#universe[\"training_size\"]"
   ]
  },
  {
   "cell_type": "code",
   "execution_count": 16,
   "id": "ca707fd7-8047-4acd-bfa5-66248fbbf8e6",
   "metadata": {
    "execution": {
     "iopub.execute_input": "2025-07-30T20:36:35.041827Z",
     "iopub.status.busy": "2025-07-30T20:36:35.041419Z",
     "iopub.status.idle": "2025-07-30T20:36:35.046694Z",
     "shell.execute_reply": "2025-07-30T20:36:35.045633Z"
    },
    "papermill": {
     "duration": 0.029472,
     "end_time": "2025-07-30T20:36:35.049734",
     "exception": false,
     "start_time": "2025-07-30T20:36:35.020262",
     "status": "completed"
    },
    "tags": []
   },
   "outputs": [],
   "source": [
    "#universe[\"training_year\"]"
   ]
  },
  {
   "cell_type": "code",
   "execution_count": 17,
   "id": "aea9c6ef-6f46-42c8-85eb-5a62025c1508",
   "metadata": {
    "execution": {
     "iopub.execute_input": "2025-07-30T20:36:35.108279Z",
     "iopub.status.busy": "2025-07-30T20:36:35.107857Z",
     "iopub.status.idle": "2025-07-30T20:36:36.613323Z",
     "shell.execute_reply": "2025-07-30T20:36:36.612110Z"
    },
    "papermill": {
     "duration": 1.541424,
     "end_time": "2025-07-30T20:36:36.615234",
     "exception": false,
     "start_time": "2025-07-30T20:36:35.073810",
     "status": "completed"
    },
    "tags": []
   },
   "outputs": [],
   "source": [
    "siab_train = sample_by_year_size(siab,\n",
    "                               training_year=universe[\"training_year\"],\n",
    "                               training_size=universe[\"training_size\"])"
   ]
  },
  {
   "cell_type": "code",
   "execution_count": 18,
   "id": "8d3afb32-789d-442c-8d5d-9f5aa8dd2eed",
   "metadata": {
    "execution": {
     "iopub.execute_input": "2025-07-30T20:36:36.690691Z",
     "iopub.status.busy": "2025-07-30T20:36:36.690288Z",
     "iopub.status.idle": "2025-07-30T20:36:36.695711Z",
     "shell.execute_reply": "2025-07-30T20:36:36.694665Z"
    },
    "papermill": {
     "duration": 0.033898,
     "end_time": "2025-07-30T20:36:36.697534",
     "exception": false,
     "start_time": "2025-07-30T20:36:36.663636",
     "status": "completed"
    },
    "tags": []
   },
   "outputs": [],
   "source": [
    "#siab_train.shape"
   ]
  },
  {
   "cell_type": "code",
   "execution_count": 19,
   "id": "d582db68-1a4c-47fb-84fc-08518dc1975a",
   "metadata": {
    "execution": {
     "iopub.execute_input": "2025-07-30T20:36:36.765675Z",
     "iopub.status.busy": "2025-07-30T20:36:36.765144Z",
     "iopub.status.idle": "2025-07-30T20:36:36.770740Z",
     "shell.execute_reply": "2025-07-30T20:36:36.769649Z"
    },
    "papermill": {
     "duration": 0.065005,
     "end_time": "2025-07-30T20:36:36.798074",
     "exception": false,
     "start_time": "2025-07-30T20:36:36.733069",
     "status": "completed"
    },
    "tags": []
   },
   "outputs": [],
   "source": [
    "#display(siab_train.groupby(\"year\").size())"
   ]
  },
  {
   "cell_type": "code",
   "execution_count": 20,
   "id": "a561edb4-d032-42cb-8256-22eac1111c64",
   "metadata": {
    "execution": {
     "iopub.execute_input": "2025-07-30T20:36:36.879696Z",
     "iopub.status.busy": "2025-07-30T20:36:36.879284Z",
     "iopub.status.idle": "2025-07-30T20:36:37.086675Z",
     "shell.execute_reply": "2025-07-30T20:36:37.085787Z"
    },
    "papermill": {
     "duration": 0.226925,
     "end_time": "2025-07-30T20:36:37.088088",
     "exception": false,
     "start_time": "2025-07-30T20:36:36.861163",
     "status": "completed"
    },
    "tags": []
   },
   "outputs": [],
   "source": [
    "#siab_train = siab_s[siab_s.year < 2015]\n",
    "siab_calib = siab[siab.year == 2015]\n",
    "siab_test = siab[siab.year == 2016]"
   ]
  },
  {
   "cell_type": "code",
   "execution_count": 21,
   "id": "472de16f-c3db-4916-846b-1f0de9cf1746",
   "metadata": {
    "execution": {
     "iopub.execute_input": "2025-07-30T20:36:37.111569Z",
     "iopub.status.busy": "2025-07-30T20:36:37.111223Z",
     "iopub.status.idle": "2025-07-30T20:36:37.123778Z",
     "shell.execute_reply": "2025-07-30T20:36:37.122816Z"
    },
    "papermill": {
     "duration": 0.025833,
     "end_time": "2025-07-30T20:36:37.125230",
     "exception": false,
     "start_time": "2025-07-30T20:36:37.099397",
     "status": "completed"
    },
    "tags": []
   },
   "outputs": [],
   "source": [
    "X_train = siab_train.iloc[:,4:164]\n",
    "y_train = siab_train.iloc[:, [3]]"
   ]
  },
  {
   "cell_type": "code",
   "execution_count": 22,
   "id": "828c96af-f43a-4ed6-ba47-8ac73a47d56c",
   "metadata": {
    "execution": {
     "iopub.execute_input": "2025-07-30T20:36:37.154993Z",
     "iopub.status.busy": "2025-07-30T20:36:37.154272Z",
     "iopub.status.idle": "2025-07-30T20:36:37.200342Z",
     "shell.execute_reply": "2025-07-30T20:36:37.199509Z"
    },
    "papermill": {
     "duration": 0.06459,
     "end_time": "2025-07-30T20:36:37.202010",
     "exception": false,
     "start_time": "2025-07-30T20:36:37.137420",
     "status": "completed"
    },
    "tags": []
   },
   "outputs": [],
   "source": [
    "X_calib = siab_calib.iloc[:,4:164]\n",
    "y_calib = siab_calib.iloc[:, [3]]"
   ]
  },
  {
   "cell_type": "code",
   "execution_count": 23,
   "id": "c34be9c3-6bd6-476e-acd3-845840e303be",
   "metadata": {
    "execution": {
     "iopub.execute_input": "2025-07-30T20:36:37.255619Z",
     "iopub.status.busy": "2025-07-30T20:36:37.255174Z",
     "iopub.status.idle": "2025-07-30T20:36:37.306512Z",
     "shell.execute_reply": "2025-07-30T20:36:37.305307Z"
    },
    "papermill": {
     "duration": 0.083523,
     "end_time": "2025-07-30T20:36:37.307796",
     "exception": false,
     "start_time": "2025-07-30T20:36:37.224273",
     "status": "completed"
    },
    "tags": []
   },
   "outputs": [],
   "source": [
    "X_test = siab_test.iloc[:,4:164]\n",
    "y_true = siab_test.iloc[:, [3]]"
   ]
  },
  {
   "cell_type": "markdown",
   "id": "9901737e-04df-44f0-9100-f5ad144ed040",
   "metadata": {
    "papermill": {
     "duration": 0.021371,
     "end_time": "2025-07-30T20:36:37.348919",
     "exception": false,
     "start_time": "2025-07-30T20:36:37.327548",
     "status": "completed"
    },
    "tags": []
   },
   "source": [
    "# Splitting Data and Setting Training Data Size OLD VERSION"
   ]
  },
  {
   "cell_type": "code",
   "execution_count": 24,
   "id": "acbc8f7d-8fc8-4e86-8c59-5dcb0f58384b",
   "metadata": {
    "execution": {
     "iopub.execute_input": "2025-07-30T20:36:37.445457Z",
     "iopub.status.busy": "2025-07-30T20:36:37.445066Z",
     "iopub.status.idle": "2025-07-30T20:36:37.450387Z",
     "shell.execute_reply": "2025-07-30T20:36:37.449377Z"
    },
    "papermill": {
     "duration": 0.047818,
     "end_time": "2025-07-30T20:36:37.453118",
     "exception": false,
     "start_time": "2025-07-30T20:36:37.405300",
     "status": "completed"
    },
    "tags": []
   },
   "outputs": [],
   "source": [
    "#def sample_by_year(df, training_size, random_state=42):\n",
    "#    if training_size == \"2014\":\n",
    "#        return df[df[\"year\"] == 2014].reset_index(drop=True)\n",
    "#    \n",
    "#    size_map = {\n",
    "#        \"25k\": 5000,\n",
    "#        \"5k\": 1000,\n",
    "#        \"1k\": 200\n",
    "#    }\n",
    "#\n",
    "#    if training_size not in size_map:\n",
    "#        return df.reset_index(drop=True)  # use all data\n",
    "#\n",
    "#    n_per_year = size_map[training_size]\n",
    "#    grouped = df.groupby(\"year\")\n",
    "#    sampled = grouped.apply(lambda x: x.sample(n=min(n_per_year, len(x)), random_state=random_state))\n",
    "#    return sampled.reset_index(drop=True)"
   ]
  },
  {
   "cell_type": "code",
   "execution_count": 25,
   "id": "6d931f52-beaf-43ff-9e78-9d44a448d54e",
   "metadata": {
    "execution": {
     "iopub.execute_input": "2025-07-30T20:36:37.522134Z",
     "iopub.status.busy": "2025-07-30T20:36:37.521736Z",
     "iopub.status.idle": "2025-07-30T20:36:37.544476Z",
     "shell.execute_reply": "2025-07-30T20:36:37.532103Z"
    },
    "papermill": {
     "duration": 0.046585,
     "end_time": "2025-07-30T20:36:37.546453",
     "exception": false,
     "start_time": "2025-07-30T20:36:37.499868",
     "status": "completed"
    },
    "tags": []
   },
   "outputs": [],
   "source": [
    "#siab_s = sample_by_year(siab, universe[\"training_size\"])"
   ]
  },
  {
   "cell_type": "code",
   "execution_count": 26,
   "id": "5db0a40e-a4e2-4920-be85-b12ae061d70d",
   "metadata": {
    "execution": {
     "iopub.execute_input": "2025-07-30T20:36:37.616833Z",
     "iopub.status.busy": "2025-07-30T20:36:37.616423Z",
     "iopub.status.idle": "2025-07-30T20:36:37.621761Z",
     "shell.execute_reply": "2025-07-30T20:36:37.620692Z"
    },
    "papermill": {
     "duration": 0.040921,
     "end_time": "2025-07-30T20:36:37.624660",
     "exception": false,
     "start_time": "2025-07-30T20:36:37.583739",
     "status": "completed"
    },
    "tags": []
   },
   "outputs": [],
   "source": [
    "#display(siab_s.groupby(\"year\").size())"
   ]
  },
  {
   "cell_type": "code",
   "execution_count": 27,
   "id": "e6c733c5",
   "metadata": {
    "execution": {
     "iopub.execute_input": "2025-07-30T20:36:37.683183Z",
     "iopub.status.busy": "2025-07-30T20:36:37.682795Z",
     "iopub.status.idle": "2025-07-30T20:36:37.895602Z",
     "shell.execute_reply": "2025-07-30T20:36:37.894639Z"
    },
    "papermill": {
     "duration": 0.249595,
     "end_time": "2025-07-30T20:36:37.897270",
     "exception": false,
     "start_time": "2025-07-30T20:36:37.647675",
     "status": "completed"
    },
    "tags": []
   },
   "outputs": [],
   "source": [
    "# Auxiliary data needed downstream in the pipeline\n",
    "\n",
    "org_train = X_train.copy()\n",
    "org_test = X_test.copy()\n",
    "org_calib = X_calib.copy()"
   ]
  },
  {
   "cell_type": "code",
   "execution_count": 28,
   "id": "1466abac-c6da-4492-a62f-4240ae3783af",
   "metadata": {
    "execution": {
     "iopub.execute_input": "2025-07-30T20:36:37.977012Z",
     "iopub.status.busy": "2025-07-30T20:36:37.976621Z",
     "iopub.status.idle": "2025-07-30T20:36:37.983672Z",
     "shell.execute_reply": "2025-07-30T20:36:37.981170Z"
    },
    "papermill": {
     "duration": 0.042906,
     "end_time": "2025-07-30T20:36:37.998759",
     "exception": false,
     "start_time": "2025-07-30T20:36:37.955853",
     "status": "completed"
    },
    "tags": []
   },
   "outputs": [],
   "source": [
    "# put in other script?\n",
    "# Group sizes\n",
    "\n",
    "#def calculate_percentages(df, df_name):\n",
    "#    total_entries = len(df)\n",
    "#\n",
    "#    female_pct = (df['frau1'] == 1).mean() * 100\n",
    "#    non_german_pct = ((df['maxdeutsch1'] == 0) & (df['maxdeutsch.Missing.'] == 0)).mean() * 100\n",
    "#    non_german_male_pct = ((df['frau1'] == 0) & (df['maxdeutsch1'] == 0) & (df['maxdeutsch.Missing.'] == 0)).mean() * 100\n",
    "#    non_german_female_pct = ((df['frau1'] == 1) & (df['maxdeutsch1'] == 0) & (df['maxdeutsch.Missing.'] == 0)).mean() * 100\n",
    "#\n",
    "#    print(f\"--- {df_name} ---\")\n",
    "#    print(f\"Female: {female_pct:.2f}%\")\n",
    "#    print(f\"Non-German: {non_german_pct:.2f}%\")\n",
    "#    print(f\"Non-German Male: {non_german_male_pct:.2f}%\")\n",
    "#    print(f\"Non-German Female: {non_german_female_pct:.2f}%\\n\")\n",
    "#\n",
    "## Calculate for each DataFrame\n",
    "#calculate_percentages(siab_calib, \"siab_calib\")\n",
    "#calculate_percentages(siab_test, \"siab_test\")\n",
    "#calculate_percentages(siab_train, \"siab_train\")"
   ]
  },
  {
   "cell_type": "markdown",
   "id": "0a4a1b33",
   "metadata": {
    "papermill": {
     "duration": 0.062443,
     "end_time": "2025-07-30T20:36:38.086409",
     "exception": false,
     "start_time": "2025-07-30T20:36:38.023966",
     "status": "completed"
    },
    "tags": []
   },
   "source": [
    "# Preprocessing Data"
   ]
  },
  {
   "cell_type": "code",
   "execution_count": 29,
   "id": "ca879031",
   "metadata": {
    "execution": {
     "iopub.execute_input": "2025-07-30T20:36:38.169941Z",
     "iopub.status.busy": "2025-07-30T20:36:38.169203Z",
     "iopub.status.idle": "2025-07-30T20:36:38.175762Z",
     "shell.execute_reply": "2025-07-30T20:36:38.174769Z"
    },
    "papermill": {
     "duration": 0.044057,
     "end_time": "2025-07-30T20:36:38.178503",
     "exception": false,
     "start_time": "2025-07-30T20:36:38.134446",
     "status": "completed"
    },
    "tags": []
   },
   "outputs": [],
   "source": [
    "# EXCLUDE PROTECTED FEATURES\n",
    "# ----------------------\n",
    "# \"exclude_features\": \"none\", # \"nationality\", \"sex\", \"nationality-sex\"\n",
    "\n",
    "excluded_features = universe[\"exclude_features\"].split(\"-\") # split, e.g.: \"nationality-sex\" -> [\"nationality\", \"sex\"]\n",
    "excluded_features_dictionary = {\n",
    "    \"nationality\": [\"maxdeutsch1\", \"maxdeutsch.Missing.\"],\n",
    "    \"sex\": [\"frau1\"],\n",
    "    \"age\": [\"age\"],\n",
    "}\n"
   ]
  },
  {
   "cell_type": "code",
   "execution_count": 30,
   "id": "b745ac60",
   "metadata": {
    "execution": {
     "iopub.execute_input": "2025-07-30T20:36:38.228010Z",
     "iopub.status.busy": "2025-07-30T20:36:38.227505Z",
     "iopub.status.idle": "2025-07-30T20:36:38.233172Z",
     "shell.execute_reply": "2025-07-30T20:36:38.232126Z"
    },
    "papermill": {
     "duration": 0.032163,
     "end_time": "2025-07-30T20:36:38.235064",
     "exception": false,
     "start_time": "2025-07-30T20:36:38.202901",
     "status": "completed"
    },
    "tags": []
   },
   "outputs": [],
   "source": [
    "# Code nice names to column names\n",
    "\n",
    "excluded_features_columns = [\n",
    "    excluded_features_dictionary[f] for f in excluded_features if len(f) > 0 and f != \"none\"\n",
    "]"
   ]
  },
  {
   "cell_type": "code",
   "execution_count": 31,
   "id": "f84f73a2",
   "metadata": {
    "execution": {
     "iopub.execute_input": "2025-07-30T20:36:38.285167Z",
     "iopub.status.busy": "2025-07-30T20:36:38.284241Z",
     "iopub.status.idle": "2025-07-30T20:36:38.291015Z",
     "shell.execute_reply": "2025-07-30T20:36:38.289975Z"
    },
    "papermill": {
     "duration": 0.0332,
     "end_time": "2025-07-30T20:36:38.292868",
     "exception": false,
     "start_time": "2025-07-30T20:36:38.259668",
     "status": "completed"
    },
    "tags": []
   },
   "outputs": [],
   "source": [
    "from utils import flatten_once\n",
    "\n",
    "excluded_features_columns = flatten_once(excluded_features_columns)"
   ]
  },
  {
   "cell_type": "code",
   "execution_count": 32,
   "id": "884dea22",
   "metadata": {
    "execution": {
     "iopub.execute_input": "2025-07-30T20:36:38.342268Z",
     "iopub.status.busy": "2025-07-30T20:36:38.341402Z",
     "iopub.status.idle": "2025-07-30T20:36:38.368336Z",
     "shell.execute_reply": "2025-07-30T20:36:38.367266Z"
    },
    "papermill": {
     "duration": 0.053217,
     "end_time": "2025-07-30T20:36:38.370259",
     "exception": false,
     "start_time": "2025-07-30T20:36:38.317042",
     "status": "completed"
    },
    "tags": []
   },
   "outputs": [
    {
     "name": "stdout",
     "output_type": "stream",
     "text": [
      "Dropping features: ['age']\n"
     ]
    }
   ],
   "source": [
    "if len(excluded_features_columns) > 0:\n",
    "    print(f\"Dropping features: {excluded_features_columns}\")\n",
    "    X_train.drop(excluded_features_columns, axis=1, inplace=True)"
   ]
  },
  {
   "cell_type": "code",
   "execution_count": 33,
   "id": "95ab8b16",
   "metadata": {
    "execution": {
     "iopub.execute_input": "2025-07-30T20:36:38.417225Z",
     "iopub.status.busy": "2025-07-30T20:36:38.416530Z",
     "iopub.status.idle": "2025-07-30T20:36:38.472057Z",
     "shell.execute_reply": "2025-07-30T20:36:38.471010Z"
    },
    "papermill": {
     "duration": 0.080187,
     "end_time": "2025-07-30T20:36:38.473992",
     "exception": false,
     "start_time": "2025-07-30T20:36:38.393805",
     "status": "completed"
    },
    "tags": []
   },
   "outputs": [
    {
     "name": "stdout",
     "output_type": "stream",
     "text": [
      "Dropping features: ['age']\n"
     ]
    }
   ],
   "source": [
    "if len(excluded_features_columns) > 0:\n",
    "    print(f\"Dropping features: {excluded_features_columns}\")\n",
    "    X_test.drop(excluded_features_columns, axis=1, inplace=True)"
   ]
  },
  {
   "cell_type": "code",
   "execution_count": 34,
   "id": "1853aaf5-fb9f-46cb-a2b5-8ea4ae2237e4",
   "metadata": {
    "execution": {
     "iopub.execute_input": "2025-07-30T20:36:38.525495Z",
     "iopub.status.busy": "2025-07-30T20:36:38.525023Z",
     "iopub.status.idle": "2025-07-30T20:36:38.578241Z",
     "shell.execute_reply": "2025-07-30T20:36:38.577417Z"
    },
    "papermill": {
     "duration": 0.089901,
     "end_time": "2025-07-30T20:36:38.589238",
     "exception": false,
     "start_time": "2025-07-30T20:36:38.499337",
     "status": "completed"
    },
    "tags": []
   },
   "outputs": [
    {
     "name": "stdout",
     "output_type": "stream",
     "text": [
      "Dropping features: ['age']\n"
     ]
    }
   ],
   "source": [
    "if len(excluded_features_columns) > 0:\n",
    "    print(f\"Dropping features: {excluded_features_columns}\")\n",
    "    X_calib.drop(excluded_features_columns, axis=1, inplace=True)"
   ]
  },
  {
   "cell_type": "code",
   "execution_count": 35,
   "id": "6727d079-03e5-481e-9d38-292a90b7a0a8",
   "metadata": {
    "execution": {
     "iopub.execute_input": "2025-07-30T20:36:38.614072Z",
     "iopub.status.busy": "2025-07-30T20:36:38.613763Z",
     "iopub.status.idle": "2025-07-30T20:36:38.618039Z",
     "shell.execute_reply": "2025-07-30T20:36:38.617291Z"
    },
    "papermill": {
     "duration": 0.017856,
     "end_time": "2025-07-30T20:36:38.619356",
     "exception": false,
     "start_time": "2025-07-30T20:36:38.601500",
     "status": "completed"
    },
    "tags": []
   },
   "outputs": [],
   "source": [
    "# SPLIT & STRATIFY DATA\n",
    "# ----------------------"
   ]
  },
  {
   "cell_type": "code",
   "execution_count": 36,
   "id": "76c4dc6d",
   "metadata": {
    "execution": {
     "iopub.execute_input": "2025-07-30T20:36:38.649343Z",
     "iopub.status.busy": "2025-07-30T20:36:38.649006Z",
     "iopub.status.idle": "2025-07-30T20:36:38.653574Z",
     "shell.execute_reply": "2025-07-30T20:36:38.652787Z"
    },
    "papermill": {
     "duration": 0.023594,
     "end_time": "2025-07-30T20:36:38.654913",
     "exception": false,
     "start_time": "2025-07-30T20:36:38.631319",
     "status": "completed"
    },
    "tags": []
   },
   "outputs": [],
   "source": [
    "# EXCLUDE CERTAIN SUBGROUPS\n",
    "# ----------------------\n",
    "\n",
    "mode = universe.get(\"exclude_subgroups\", \"keep-all\") \n",
    "# Fetches the exclude_subgroups setting from the universe dict.\n",
    "# Defaults to \"keep-all\" if the key is missing."
   ]
  },
  {
   "cell_type": "code",
   "execution_count": 37,
   "id": "21994072",
   "metadata": {
    "execution": {
     "iopub.execute_input": "2025-07-30T20:36:38.679481Z",
     "iopub.status.busy": "2025-07-30T20:36:38.678898Z",
     "iopub.status.idle": "2025-07-30T20:36:38.684243Z",
     "shell.execute_reply": "2025-07-30T20:36:38.683443Z"
    },
    "papermill": {
     "duration": 0.018469,
     "end_time": "2025-07-30T20:36:38.685562",
     "exception": false,
     "start_time": "2025-07-30T20:36:38.667093",
     "status": "completed"
    },
    "tags": []
   },
   "outputs": [],
   "source": [
    "if mode == \"keep-all\":\n",
    "    keep_mask = pd.Series(True, index=org_train.index)\n",
    "\n",
    "# org_train contains the original feature columns from features_org (in Simson)\n",
    "# features_org contains unprocessed features, for me X_train at beginning ???\n",
    "# For keep-all, creates a boolean Series (keep_mask) of all True, so no rows are removed.\n",
    "\n",
    "elif mode == \"drop-non-german\":\n",
    "    keep_mask = org_train[\"maxdeutsch1\"] == 1 # ??? what about missing values?\n",
    "\n",
    "else:\n",
    "    raise ValueError(f\"Unsupported mode for exclude_subgroups: {mode}\")\n"
   ]
  },
  {
   "cell_type": "code",
   "execution_count": 38,
   "id": "71651440",
   "metadata": {
    "execution": {
     "iopub.execute_input": "2025-07-30T20:36:38.725084Z",
     "iopub.status.busy": "2025-07-30T20:36:38.724606Z",
     "iopub.status.idle": "2025-07-30T20:36:38.731070Z",
     "shell.execute_reply": "2025-07-30T20:36:38.730132Z"
    },
    "papermill": {
     "duration": 0.030549,
     "end_time": "2025-07-30T20:36:38.733014",
     "exception": false,
     "start_time": "2025-07-30T20:36:38.702465",
     "status": "completed"
    },
    "tags": []
   },
   "outputs": [],
   "source": [
    "n_drop = (~keep_mask).sum() # Calculates how many rows are set to be dropped\n",
    "if n_drop > 0:\n",
    "    pct = n_drop / len(keep_mask) * 100\n",
    "    print(f\"Dropping {n_drop} rows ({pct:.2f}%) where mode='{mode}'\")"
   ]
  },
  {
   "cell_type": "code",
   "execution_count": 39,
   "id": "5fb8eee5",
   "metadata": {
    "execution": {
     "iopub.execute_input": "2025-07-30T20:36:38.784962Z",
     "iopub.status.busy": "2025-07-30T20:36:38.783957Z",
     "iopub.status.idle": "2025-07-30T20:36:38.799492Z",
     "shell.execute_reply": "2025-07-30T20:36:38.798506Z"
    },
    "papermill": {
     "duration": 0.042895,
     "end_time": "2025-07-30T20:36:38.801351",
     "exception": false,
     "start_time": "2025-07-30T20:36:38.758456",
     "status": "completed"
    },
    "tags": []
   },
   "outputs": [],
   "source": [
    "X_train = X_train[keep_mask]"
   ]
  },
  {
   "cell_type": "code",
   "execution_count": 40,
   "id": "b202bb3a",
   "metadata": {
    "execution": {
     "iopub.execute_input": "2025-07-30T20:36:38.854214Z",
     "iopub.status.busy": "2025-07-30T20:36:38.853287Z",
     "iopub.status.idle": "2025-07-30T20:36:38.859693Z",
     "shell.execute_reply": "2025-07-30T20:36:38.858934Z"
    },
    "papermill": {
     "duration": 0.034261,
     "end_time": "2025-07-30T20:36:38.861647",
     "exception": false,
     "start_time": "2025-07-30T20:36:38.827386",
     "status": "completed"
    },
    "tags": []
   },
   "outputs": [],
   "source": [
    "y_train = y_train[keep_mask]"
   ]
  },
  {
   "cell_type": "markdown",
   "id": "493e2ac3",
   "metadata": {
    "papermill": {
     "duration": 0.022507,
     "end_time": "2025-07-30T20:36:38.907642",
     "exception": false,
     "start_time": "2025-07-30T20:36:38.885135",
     "status": "completed"
    },
    "tags": []
   },
   "source": [
    "# Model Training"
   ]
  },
  {
   "cell_type": "code",
   "execution_count": 41,
   "id": "679e1268",
   "metadata": {
    "execution": {
     "iopub.execute_input": "2025-07-30T20:36:38.953446Z",
     "iopub.status.busy": "2025-07-30T20:36:38.952972Z",
     "iopub.status.idle": "2025-07-30T20:36:39.055272Z",
     "shell.execute_reply": "2025-07-30T20:36:39.054371Z"
    },
    "papermill": {
     "duration": 0.126858,
     "end_time": "2025-07-30T20:36:39.057064",
     "exception": false,
     "start_time": "2025-07-30T20:36:38.930206",
     "status": "completed"
    },
    "tags": []
   },
   "outputs": [],
   "source": [
    "from sklearn.linear_model import LogisticRegression\n",
    "from sklearn.ensemble import GradientBoostingClassifier, RandomForestClassifier\n",
    "\n",
    "if (universe[\"model\"] == \"logreg\"):\n",
    "    model = LogisticRegression() #penalty=\"none\") #, solver=\"newton-cg\", max_iter=1) # include random_state=19 ?\n",
    "elif (universe[\"model\"] == \"penalized_logreg\"):\n",
    "    model = LogisticRegression(penalty=\"l2\", C=1.0) #, solver=\"newton-cg\", max_iter=1)\n",
    "elif (universe[\"model\"] == \"rf\"):\n",
    "    model = RandomForestClassifier(n_estimators=100, n_jobs=-1)\n",
    "elif (universe[\"model\"] == \"gbm\"):\n",
    "    model = GradientBoostingClassifier()\n",
    "elif (universe[\"model\"] == \"elasticnet\"):\n",
    "    model = LogisticRegression(penalty = 'elasticnet', solver = 'saga', l1_ratio = 0.5, max_iter=5000) # which solver to use?\n",
    "else:\n",
    "    raise \"Unsupported universe.model\""
   ]
  },
  {
   "cell_type": "code",
   "execution_count": 42,
   "id": "0cc8f744",
   "metadata": {
    "execution": {
     "iopub.execute_input": "2025-07-30T20:36:39.103944Z",
     "iopub.status.busy": "2025-07-30T20:36:39.103299Z",
     "iopub.status.idle": "2025-07-30T20:36:39.109709Z",
     "shell.execute_reply": "2025-07-30T20:36:39.108732Z"
    },
    "papermill": {
     "duration": 0.031851,
     "end_time": "2025-07-30T20:36:39.111432",
     "exception": false,
     "start_time": "2025-07-30T20:36:39.079581",
     "status": "completed"
    },
    "tags": []
   },
   "outputs": [],
   "source": [
    "import numpy as np\n",
    "from sklearn.pipeline import Pipeline\n",
    "from sklearn.preprocessing import StandardScaler\n",
    "\n",
    "model = Pipeline([\n",
    "    #(\"continuous_processor\", continuous_processor),\n",
    "    #(\"categorical_preprocessor\", categorical_preprocessor),\n",
    "    (\"scale\", StandardScaler() if universe[\"scale\"] == \"scale\" else None), \n",
    "    (\"model\", model),\n",
    "])"
   ]
  },
  {
   "cell_type": "code",
   "execution_count": 43,
   "id": "9442c04d",
   "metadata": {
    "execution": {
     "iopub.execute_input": "2025-07-30T20:36:39.157972Z",
     "iopub.status.busy": "2025-07-30T20:36:39.157325Z",
     "iopub.status.idle": "2025-07-30T20:36:42.132570Z",
     "shell.execute_reply": "2025-07-30T20:36:42.131685Z"
    },
    "papermill": {
     "duration": 2.99986,
     "end_time": "2025-07-30T20:36:42.134015",
     "exception": false,
     "start_time": "2025-07-30T20:36:39.134155",
     "status": "completed"
    },
    "tags": []
   },
   "outputs": [
    {
     "data": {
      "text/html": [
       "<style>#sk-container-id-1 {color: black;background-color: white;}#sk-container-id-1 pre{padding: 0;}#sk-container-id-1 div.sk-toggleable {background-color: white;}#sk-container-id-1 label.sk-toggleable__label {cursor: pointer;display: block;width: 100%;margin-bottom: 0;padding: 0.3em;box-sizing: border-box;text-align: center;}#sk-container-id-1 label.sk-toggleable__label-arrow:before {content: \"▸\";float: left;margin-right: 0.25em;color: #696969;}#sk-container-id-1 label.sk-toggleable__label-arrow:hover:before {color: black;}#sk-container-id-1 div.sk-estimator:hover label.sk-toggleable__label-arrow:before {color: black;}#sk-container-id-1 div.sk-toggleable__content {max-height: 0;max-width: 0;overflow: hidden;text-align: left;background-color: #f0f8ff;}#sk-container-id-1 div.sk-toggleable__content pre {margin: 0.2em;color: black;border-radius: 0.25em;background-color: #f0f8ff;}#sk-container-id-1 input.sk-toggleable__control:checked~div.sk-toggleable__content {max-height: 200px;max-width: 100%;overflow: auto;}#sk-container-id-1 input.sk-toggleable__control:checked~label.sk-toggleable__label-arrow:before {content: \"▾\";}#sk-container-id-1 div.sk-estimator input.sk-toggleable__control:checked~label.sk-toggleable__label {background-color: #d4ebff;}#sk-container-id-1 div.sk-label input.sk-toggleable__control:checked~label.sk-toggleable__label {background-color: #d4ebff;}#sk-container-id-1 input.sk-hidden--visually {border: 0;clip: rect(1px 1px 1px 1px);clip: rect(1px, 1px, 1px, 1px);height: 1px;margin: -1px;overflow: hidden;padding: 0;position: absolute;width: 1px;}#sk-container-id-1 div.sk-estimator {font-family: monospace;background-color: #f0f8ff;border: 1px dotted black;border-radius: 0.25em;box-sizing: border-box;margin-bottom: 0.5em;}#sk-container-id-1 div.sk-estimator:hover {background-color: #d4ebff;}#sk-container-id-1 div.sk-parallel-item::after {content: \"\";width: 100%;border-bottom: 1px solid gray;flex-grow: 1;}#sk-container-id-1 div.sk-label:hover label.sk-toggleable__label {background-color: #d4ebff;}#sk-container-id-1 div.sk-serial::before {content: \"\";position: absolute;border-left: 1px solid gray;box-sizing: border-box;top: 0;bottom: 0;left: 50%;z-index: 0;}#sk-container-id-1 div.sk-serial {display: flex;flex-direction: column;align-items: center;background-color: white;padding-right: 0.2em;padding-left: 0.2em;position: relative;}#sk-container-id-1 div.sk-item {position: relative;z-index: 1;}#sk-container-id-1 div.sk-parallel {display: flex;align-items: stretch;justify-content: center;background-color: white;position: relative;}#sk-container-id-1 div.sk-item::before, #sk-container-id-1 div.sk-parallel-item::before {content: \"\";position: absolute;border-left: 1px solid gray;box-sizing: border-box;top: 0;bottom: 0;left: 50%;z-index: -1;}#sk-container-id-1 div.sk-parallel-item {display: flex;flex-direction: column;z-index: 1;position: relative;background-color: white;}#sk-container-id-1 div.sk-parallel-item:first-child::after {align-self: flex-end;width: 50%;}#sk-container-id-1 div.sk-parallel-item:last-child::after {align-self: flex-start;width: 50%;}#sk-container-id-1 div.sk-parallel-item:only-child::after {width: 0;}#sk-container-id-1 div.sk-dashed-wrapped {border: 1px dashed gray;margin: 0 0.4em 0.5em 0.4em;box-sizing: border-box;padding-bottom: 0.4em;background-color: white;}#sk-container-id-1 div.sk-label label {font-family: monospace;font-weight: bold;display: inline-block;line-height: 1.2em;}#sk-container-id-1 div.sk-label-container {text-align: center;}#sk-container-id-1 div.sk-container {/* jupyter's `normalize.less` sets `[hidden] { display: none; }` but bootstrap.min.css set `[hidden] { display: none !important; }` so we also need the `!important` here to be able to override the default hidden behavior on the sphinx rendered scikit-learn.org. See: https://github.com/scikit-learn/scikit-learn/issues/21755 */display: inline-block !important;position: relative;}#sk-container-id-1 div.sk-text-repr-fallback {display: none;}</style><div id=\"sk-container-id-1\" class=\"sk-top-container\"><div class=\"sk-text-repr-fallback\"><pre>Pipeline(steps=[(&#x27;scale&#x27;, None), (&#x27;model&#x27;, RandomForestClassifier(n_jobs=-1))])</pre><b>In a Jupyter environment, please rerun this cell to show the HTML representation or trust the notebook. <br />On GitHub, the HTML representation is unable to render, please try loading this page with nbviewer.org.</b></div><div class=\"sk-container\" hidden><div class=\"sk-item sk-dashed-wrapped\"><div class=\"sk-label-container\"><div class=\"sk-label sk-toggleable\"><input class=\"sk-toggleable__control sk-hidden--visually\" id=\"sk-estimator-id-1\" type=\"checkbox\" ><label for=\"sk-estimator-id-1\" class=\"sk-toggleable__label sk-toggleable__label-arrow\">Pipeline</label><div class=\"sk-toggleable__content\"><pre>Pipeline(steps=[(&#x27;scale&#x27;, None), (&#x27;model&#x27;, RandomForestClassifier(n_jobs=-1))])</pre></div></div></div><div class=\"sk-serial\"><div class=\"sk-item\"><div class=\"sk-estimator sk-toggleable\"><input class=\"sk-toggleable__control sk-hidden--visually\" id=\"sk-estimator-id-2\" type=\"checkbox\" ><label for=\"sk-estimator-id-2\" class=\"sk-toggleable__label sk-toggleable__label-arrow\">None</label><div class=\"sk-toggleable__content\"><pre>None</pre></div></div></div><div class=\"sk-item\"><div class=\"sk-estimator sk-toggleable\"><input class=\"sk-toggleable__control sk-hidden--visually\" id=\"sk-estimator-id-3\" type=\"checkbox\" ><label for=\"sk-estimator-id-3\" class=\"sk-toggleable__label sk-toggleable__label-arrow\">RandomForestClassifier</label><div class=\"sk-toggleable__content\"><pre>RandomForestClassifier(n_jobs=-1)</pre></div></div></div></div></div></div></div>"
      ],
      "text/plain": [
       "Pipeline(steps=[('scale', None), ('model', RandomForestClassifier(n_jobs=-1))])"
      ]
     },
     "execution_count": 43,
     "metadata": {},
     "output_type": "execute_result"
    }
   ],
   "source": [
    "model.fit(X_train, y_train.values.ravel())"
   ]
  },
  {
   "cell_type": "code",
   "execution_count": 44,
   "id": "af59f8c0",
   "metadata": {
    "execution": {
     "iopub.execute_input": "2025-07-30T20:36:42.180674Z",
     "iopub.status.busy": "2025-07-30T20:36:42.179679Z",
     "iopub.status.idle": "2025-07-30T20:36:42.185258Z",
     "shell.execute_reply": "2025-07-30T20:36:42.184255Z"
    },
    "papermill": {
     "duration": 0.030889,
     "end_time": "2025-07-30T20:36:42.187243",
     "exception": false,
     "start_time": "2025-07-30T20:36:42.156354",
     "status": "completed"
    },
    "tags": []
   },
   "outputs": [],
   "source": [
    "from fairness_multiverse.universe import predict_w_threshold"
   ]
  },
  {
   "cell_type": "code",
   "execution_count": 45,
   "id": "a7cf2e16",
   "metadata": {
    "execution": {
     "iopub.execute_input": "2025-07-30T20:36:42.239249Z",
     "iopub.status.busy": "2025-07-30T20:36:42.238362Z",
     "iopub.status.idle": "2025-07-30T20:36:43.212499Z",
     "shell.execute_reply": "2025-07-30T20:36:43.211515Z"
    },
    "papermill": {
     "duration": 1.000945,
     "end_time": "2025-07-30T20:36:43.214018",
     "exception": false,
     "start_time": "2025-07-30T20:36:42.213073",
     "status": "completed"
    },
    "tags": []
   },
   "outputs": [
    {
     "data": {
      "text/plain": [
       "0.8676624679522907"
      ]
     },
     "execution_count": 45,
     "metadata": {},
     "output_type": "execute_result"
    }
   ],
   "source": [
    "probs_test = model.predict_proba(X_test)\n",
    "\n",
    "'''\n",
    "Below code returns a boolean array (or binary 0/1 array depending on how it’s used) where each element \n",
    "is True if the probability of class 1 is greater than or equal to the threshold, and False otherwise.\n",
    "'''\n",
    "y_pred_default = predict_w_threshold(probs_test, 0.5)\n",
    "\n",
    "from sklearn.metrics import accuracy_score\n",
    "\n",
    "# Naive prediction\n",
    "accuracy_score(y_true = y_true, y_pred = y_pred_default)"
   ]
  },
  {
   "cell_type": "code",
   "execution_count": 46,
   "id": "081964c3",
   "metadata": {
    "execution": {
     "iopub.execute_input": "2025-07-30T20:36:43.261676Z",
     "iopub.status.busy": "2025-07-30T20:36:43.260940Z",
     "iopub.status.idle": "2025-07-30T20:36:44.258366Z",
     "shell.execute_reply": "2025-07-30T20:36:44.257486Z"
    },
    "papermill": {
     "duration": 1.023205,
     "end_time": "2025-07-30T20:36:44.259985",
     "exception": false,
     "start_time": "2025-07-30T20:36:43.236780",
     "status": "completed"
    },
    "tags": []
   },
   "outputs": [
    {
     "data": {
      "text/plain": [
       "array([0, 0, 0, ..., 0, 0, 0])"
      ]
     },
     "execution_count": 46,
     "metadata": {},
     "output_type": "execute_result"
    }
   ],
   "source": [
    "model.predict(X_test)"
   ]
  },
  {
   "cell_type": "markdown",
   "id": "56c9705b",
   "metadata": {
    "papermill": {
     "duration": 0.023494,
     "end_time": "2025-07-30T20:36:44.308185",
     "exception": false,
     "start_time": "2025-07-30T20:36:44.284691",
     "status": "completed"
    },
    "tags": []
   },
   "source": [
    "# Conformal Prediction"
   ]
  },
  {
   "cell_type": "code",
   "execution_count": 47,
   "id": "160ec6ff",
   "metadata": {
    "execution": {
     "iopub.execute_input": "2025-07-30T20:36:44.356407Z",
     "iopub.status.busy": "2025-07-30T20:36:44.355837Z",
     "iopub.status.idle": "2025-07-30T20:36:44.361090Z",
     "shell.execute_reply": "2025-07-30T20:36:44.360066Z"
    },
    "papermill": {
     "duration": 0.031365,
     "end_time": "2025-07-30T20:36:44.362845",
     "exception": false,
     "start_time": "2025-07-30T20:36:44.331480",
     "status": "completed"
    },
    "tags": []
   },
   "outputs": [],
   "source": [
    "# Miscoverage level for conformal prediction (10% allowed error rate => 90% target coverage)\n",
    "alpha = 0.1"
   ]
  },
  {
   "cell_type": "code",
   "execution_count": 48,
   "id": "eadf4555-3dd3-440e-8e35-f82a4ad9f855",
   "metadata": {
    "execution": {
     "iopub.execute_input": "2025-07-30T20:36:44.413144Z",
     "iopub.status.busy": "2025-07-30T20:36:44.412490Z",
     "iopub.status.idle": "2025-07-30T20:36:45.437177Z",
     "shell.execute_reply": "2025-07-30T20:36:45.436102Z"
    },
    "papermill": {
     "duration": 1.051635,
     "end_time": "2025-07-30T20:36:45.438985",
     "exception": false,
     "start_time": "2025-07-30T20:36:44.387350",
     "status": "completed"
    },
    "tags": []
   },
   "outputs": [],
   "source": [
    "probs_calib = model.predict_proba(X_calib)"
   ]
  },
  {
   "cell_type": "code",
   "execution_count": 49,
   "id": "2ed93547-6d5d-4983-9b36-1ecb300da49a",
   "metadata": {
    "execution": {
     "iopub.execute_input": "2025-07-30T20:36:45.486357Z",
     "iopub.status.busy": "2025-07-30T20:36:45.485867Z",
     "iopub.status.idle": "2025-07-30T20:36:45.491911Z",
     "shell.execute_reply": "2025-07-30T20:36:45.490965Z"
    },
    "papermill": {
     "duration": 0.031665,
     "end_time": "2025-07-30T20:36:45.493777",
     "exception": false,
     "start_time": "2025-07-30T20:36:45.462112",
     "status": "completed"
    },
    "tags": []
   },
   "outputs": [],
   "source": [
    "y_calib = y_calib.values.ravel().astype(int)"
   ]
  },
  {
   "cell_type": "code",
   "execution_count": 50,
   "id": "65d1320d-f588-4b38-9072-62af1ae97f7d",
   "metadata": {
    "execution": {
     "iopub.execute_input": "2025-07-30T20:36:45.542975Z",
     "iopub.status.busy": "2025-07-30T20:36:45.542462Z",
     "iopub.status.idle": "2025-07-30T20:36:45.550419Z",
     "shell.execute_reply": "2025-07-30T20:36:45.549470Z"
    },
    "papermill": {
     "duration": 0.033934,
     "end_time": "2025-07-30T20:36:45.552122",
     "exception": false,
     "start_time": "2025-07-30T20:36:45.518188",
     "status": "completed"
    },
    "tags": []
   },
   "outputs": [],
   "source": [
    "from fairness_multiverse.conformal import compute_nc_scores\n",
    "\n",
    "# Compute nonconformity scores on calibration set (1 - probability of true class)\n",
    "nc_scores = compute_nc_scores(probs_calib, y_calib)"
   ]
  },
  {
   "cell_type": "code",
   "execution_count": 51,
   "id": "df3b8ca3-53b7-43d5-9667-7c85da7aeda2",
   "metadata": {
    "execution": {
     "iopub.execute_input": "2025-07-30T20:36:45.605152Z",
     "iopub.status.busy": "2025-07-30T20:36:45.604668Z",
     "iopub.status.idle": "2025-07-30T20:36:45.611415Z",
     "shell.execute_reply": "2025-07-30T20:36:45.610468Z"
    },
    "papermill": {
     "duration": 0.034176,
     "end_time": "2025-07-30T20:36:45.613055",
     "exception": false,
     "start_time": "2025-07-30T20:36:45.578879",
     "status": "completed"
    },
    "tags": []
   },
   "outputs": [],
   "source": [
    "from fairness_multiverse.conformal import find_threshold\n",
    "\n",
    "# Find conformal threshold q_hat for the given alpha (split conformal method)\n",
    "q_hat = find_threshold(nc_scores, alpha)"
   ]
  },
  {
   "cell_type": "code",
   "execution_count": 52,
   "id": "4d29e6c1-0ef6-4aa4-b8fe-4fe79b0d033a",
   "metadata": {
    "execution": {
     "iopub.execute_input": "2025-07-30T20:36:45.661915Z",
     "iopub.status.busy": "2025-07-30T20:36:45.661265Z",
     "iopub.status.idle": "2025-07-30T20:36:45.668994Z",
     "shell.execute_reply": "2025-07-30T20:36:45.667820Z"
    },
    "papermill": {
     "duration": 0.033983,
     "end_time": "2025-07-30T20:36:45.670589",
     "exception": false,
     "start_time": "2025-07-30T20:36:45.636606",
     "status": "completed"
    },
    "tags": []
   },
   "outputs": [
    {
     "data": {
      "text/plain": [
       "0.6599999999999999"
      ]
     },
     "execution_count": 52,
     "metadata": {},
     "output_type": "execute_result"
    }
   ],
   "source": [
    "q_hat"
   ]
  },
  {
   "cell_type": "code",
   "execution_count": 53,
   "id": "92460794-cdac-4be2-ba28-f28c0515a6fb",
   "metadata": {
    "execution": {
     "iopub.execute_input": "2025-07-30T20:36:45.719624Z",
     "iopub.status.busy": "2025-07-30T20:36:45.718849Z",
     "iopub.status.idle": "2025-07-30T20:36:47.454129Z",
     "shell.execute_reply": "2025-07-30T20:36:47.453168Z"
    },
    "papermill": {
     "duration": 1.762176,
     "end_time": "2025-07-30T20:36:47.456020",
     "exception": false,
     "start_time": "2025-07-30T20:36:45.693844",
     "status": "completed"
    },
    "tags": []
   },
   "outputs": [],
   "source": [
    "from fairness_multiverse.conformal import predict_conformal_sets\n",
    "\n",
    "# Generate prediction sets for each test example\n",
    "pred_sets = predict_conformal_sets(model, X_test, q_hat)"
   ]
  },
  {
   "cell_type": "code",
   "execution_count": 54,
   "id": "d90c9a65-e6db-4f5d-80cd-e68fb7e46829",
   "metadata": {
    "execution": {
     "iopub.execute_input": "2025-07-30T20:36:47.514881Z",
     "iopub.status.busy": "2025-07-30T20:36:47.514129Z",
     "iopub.status.idle": "2025-07-30T20:36:47.519903Z",
     "shell.execute_reply": "2025-07-30T20:36:47.518987Z"
    },
    "papermill": {
     "duration": 0.037816,
     "end_time": "2025-07-30T20:36:47.521667",
     "exception": false,
     "start_time": "2025-07-30T20:36:47.483851",
     "status": "completed"
    },
    "tags": []
   },
   "outputs": [],
   "source": [
    "y_true = y_true.squeeze()"
   ]
  },
  {
   "cell_type": "code",
   "execution_count": 55,
   "id": "3a58a54a-1e68-46b9-927a-df01f18aebc8",
   "metadata": {
    "execution": {
     "iopub.execute_input": "2025-07-30T20:36:47.569539Z",
     "iopub.status.busy": "2025-07-30T20:36:47.569115Z",
     "iopub.status.idle": "2025-07-30T20:36:48.611727Z",
     "shell.execute_reply": "2025-07-30T20:36:48.610724Z"
    },
    "papermill": {
     "duration": 1.068316,
     "end_time": "2025-07-30T20:36:48.613798",
     "exception": false,
     "start_time": "2025-07-30T20:36:47.545482",
     "status": "completed"
    },
    "tags": []
   },
   "outputs": [],
   "source": [
    "from fairness_multiverse.conformal import evaluate_sets\n",
    "\n",
    "# Evaluate coverage and average set size on test data\n",
    "metrics = evaluate_sets(pred_sets, y_true)"
   ]
  },
  {
   "cell_type": "markdown",
   "id": "2b569c12-9aaa-4c88-98c9-bbcd0cf3ebb8",
   "metadata": {
    "papermill": {
     "duration": 0.029445,
     "end_time": "2025-07-30T20:36:48.673133",
     "exception": false,
     "start_time": "2025-07-30T20:36:48.643688",
     "status": "completed"
    },
    "tags": []
   },
   "source": [
    "# CP Metrics"
   ]
  },
  {
   "cell_type": "code",
   "execution_count": 56,
   "id": "5ce0a5cb-201f-45a0-ade5-94c7f0bd6095",
   "metadata": {
    "execution": {
     "iopub.execute_input": "2025-07-30T20:36:48.731255Z",
     "iopub.status.busy": "2025-07-30T20:36:48.730580Z",
     "iopub.status.idle": "2025-07-30T20:36:48.737955Z",
     "shell.execute_reply": "2025-07-30T20:36:48.736970Z"
    },
    "papermill": {
     "duration": 0.038343,
     "end_time": "2025-07-30T20:36:48.739688",
     "exception": false,
     "start_time": "2025-07-30T20:36:48.701345",
     "status": "completed"
    },
    "tags": []
   },
   "outputs": [
    {
     "data": {
      "text/plain": [
       "{'coverage': 0.9144576970237431, 'avg_size': 1.1418793891427934}"
      ]
     },
     "execution_count": 56,
     "metadata": {},
     "output_type": "execute_result"
    }
   ],
   "source": [
    "metrics"
   ]
  },
  {
   "cell_type": "code",
   "execution_count": 57,
   "id": "9b9a838d-31c9-430b-ae14-12baee460d17",
   "metadata": {
    "execution": {
     "iopub.execute_input": "2025-07-30T20:36:48.787238Z",
     "iopub.status.busy": "2025-07-30T20:36:48.786673Z",
     "iopub.status.idle": "2025-07-30T20:36:48.793745Z",
     "shell.execute_reply": "2025-07-30T20:36:48.792687Z"
    },
    "papermill": {
     "duration": 0.03233,
     "end_time": "2025-07-30T20:36:48.795441",
     "exception": false,
     "start_time": "2025-07-30T20:36:48.763111",
     "status": "completed"
    },
    "tags": []
   },
   "outputs": [],
   "source": [
    "example_universe = universe.copy()\n",
    "universe_training_year = example_universe.get(\"training_year\")\n",
    "universe_training_size = example_universe.get(\"training_size\")\n",
    "universe_scale = example_universe.get(\"scale\")\n",
    "universe_model = example_universe.get(\"model\")\n",
    "universe_exclude_features = example_universe.get(\"exclude_features\")\n",
    "universe_exclude_subgroups = example_universe.get(\"exclude_subgroups\")"
   ]
  },
  {
   "cell_type": "code",
   "execution_count": 58,
   "id": "f4b6a8ac-9dc0-4245-8a91-5b3b5999c4f9",
   "metadata": {
    "execution": {
     "iopub.execute_input": "2025-07-30T20:36:48.844621Z",
     "iopub.status.busy": "2025-07-30T20:36:48.843764Z",
     "iopub.status.idle": "2025-07-30T20:36:48.851164Z",
     "shell.execute_reply": "2025-07-30T20:36:48.850162Z"
    },
    "papermill": {
     "duration": 0.033296,
     "end_time": "2025-07-30T20:36:48.852736",
     "exception": false,
     "start_time": "2025-07-30T20:36:48.819440",
     "status": "completed"
    },
    "tags": []
   },
   "outputs": [],
   "source": [
    "cp_metrics_dict = {\n",
    "    \"universe_id\": [universe_id],\n",
    "    \"universe_training_year\": [universe_training_year],\n",
    "    \"universe_training_size\": [universe_training_size],\n",
    "    \"universe_scale\": [universe_scale],\n",
    "    \"universe_model\": [universe_model],\n",
    "    \"universe_exclude_features\": [universe_exclude_features],\n",
    "    \"universe_exclude_subgroups\": [universe_exclude_subgroups],\n",
    "    \"q_hat\": [q_hat],\n",
    "    \"coverage\": [metrics[\"coverage\"]],\n",
    "    \"avg_size\": [metrics[\"avg_size\"]],\n",
    "}"
   ]
  },
  {
   "cell_type": "code",
   "execution_count": 59,
   "id": "908acbb1-0371-4915-85ca-3fa520d2efe2",
   "metadata": {
    "execution": {
     "iopub.execute_input": "2025-07-30T20:36:48.901402Z",
     "iopub.status.busy": "2025-07-30T20:36:48.900966Z",
     "iopub.status.idle": "2025-07-30T20:36:48.908795Z",
     "shell.execute_reply": "2025-07-30T20:36:48.907726Z"
    },
    "papermill": {
     "duration": 0.033314,
     "end_time": "2025-07-30T20:36:48.910515",
     "exception": false,
     "start_time": "2025-07-30T20:36:48.877201",
     "status": "completed"
    },
    "tags": []
   },
   "outputs": [
    {
     "data": {
      "text/plain": [
       "{'universe_id': ['199c7b93fe1f9e3a163888a721fa0695'],\n",
       " 'universe_training_year': ['2010_14'],\n",
       " 'universe_training_size': ['25k'],\n",
       " 'universe_scale': ['do-not-scale'],\n",
       " 'universe_model': ['rf'],\n",
       " 'universe_exclude_features': ['age'],\n",
       " 'universe_exclude_subgroups': ['keep-all'],\n",
       " 'q_hat': [0.6599999999999999],\n",
       " 'coverage': [0.9144576970237431],\n",
       " 'avg_size': [1.1418793891427934]}"
      ]
     },
     "execution_count": 59,
     "metadata": {},
     "output_type": "execute_result"
    }
   ],
   "source": [
    "cp_metrics_dict"
   ]
  },
  {
   "cell_type": "code",
   "execution_count": 60,
   "id": "33007efc-14e9-4ec6-97ac-56a455c82265",
   "metadata": {
    "execution": {
     "iopub.execute_input": "2025-07-30T20:36:48.960001Z",
     "iopub.status.busy": "2025-07-30T20:36:48.959250Z",
     "iopub.status.idle": "2025-07-30T20:36:48.965964Z",
     "shell.execute_reply": "2025-07-30T20:36:48.964822Z"
    },
    "papermill": {
     "duration": 0.032559,
     "end_time": "2025-07-30T20:36:48.967770",
     "exception": false,
     "start_time": "2025-07-30T20:36:48.935211",
     "status": "completed"
    },
    "tags": []
   },
   "outputs": [],
   "source": [
    "cp_metrics_df = pd.DataFrame(cp_metrics_dict)"
   ]
  },
  {
   "cell_type": "code",
   "execution_count": 61,
   "id": "db12611b-57b2-4910-b9d0-355adfd6e7bf",
   "metadata": {
    "execution": {
     "iopub.execute_input": "2025-07-30T20:36:49.018320Z",
     "iopub.status.busy": "2025-07-30T20:36:49.017337Z",
     "iopub.status.idle": "2025-07-30T20:36:49.037639Z",
     "shell.execute_reply": "2025-07-30T20:36:49.036770Z"
    },
    "papermill": {
     "duration": 0.046804,
     "end_time": "2025-07-30T20:36:49.039078",
     "exception": false,
     "start_time": "2025-07-30T20:36:48.992274",
     "status": "completed"
    },
    "tags": []
   },
   "outputs": [
    {
     "data": {
      "text/html": [
       "<div>\n",
       "<style scoped>\n",
       "    .dataframe tbody tr th:only-of-type {\n",
       "        vertical-align: middle;\n",
       "    }\n",
       "\n",
       "    .dataframe tbody tr th {\n",
       "        vertical-align: top;\n",
       "    }\n",
       "\n",
       "    .dataframe thead th {\n",
       "        text-align: right;\n",
       "    }\n",
       "</style>\n",
       "<table border=\"1\" class=\"dataframe\">\n",
       "  <thead>\n",
       "    <tr style=\"text-align: right;\">\n",
       "      <th></th>\n",
       "      <th>universe_id</th>\n",
       "      <th>universe_training_year</th>\n",
       "      <th>universe_training_size</th>\n",
       "      <th>universe_scale</th>\n",
       "      <th>universe_model</th>\n",
       "      <th>universe_exclude_features</th>\n",
       "      <th>universe_exclude_subgroups</th>\n",
       "      <th>q_hat</th>\n",
       "      <th>coverage</th>\n",
       "      <th>avg_size</th>\n",
       "    </tr>\n",
       "  </thead>\n",
       "  <tbody>\n",
       "    <tr>\n",
       "      <th>0</th>\n",
       "      <td>199c7b93fe1f9e3a163888a721fa0695</td>\n",
       "      <td>2010_14</td>\n",
       "      <td>25k</td>\n",
       "      <td>do-not-scale</td>\n",
       "      <td>rf</td>\n",
       "      <td>age</td>\n",
       "      <td>keep-all</td>\n",
       "      <td>0.66</td>\n",
       "      <td>0.914458</td>\n",
       "      <td>1.141879</td>\n",
       "    </tr>\n",
       "  </tbody>\n",
       "</table>\n",
       "</div>"
      ],
      "text/plain": [
       "                        universe_id universe_training_year  \\\n",
       "0  199c7b93fe1f9e3a163888a721fa0695                2010_14   \n",
       "\n",
       "  universe_training_size universe_scale universe_model  \\\n",
       "0                    25k   do-not-scale             rf   \n",
       "\n",
       "  universe_exclude_features universe_exclude_subgroups  q_hat  coverage  \\\n",
       "0                       age                   keep-all   0.66  0.914458   \n",
       "\n",
       "   avg_size  \n",
       "0  1.141879  "
      ]
     },
     "execution_count": 61,
     "metadata": {},
     "output_type": "execute_result"
    }
   ],
   "source": [
    "cp_metrics_df"
   ]
  },
  {
   "cell_type": "code",
   "execution_count": 62,
   "id": "b7fbde55-a0a1-47e4-9af6-fe4a17fa8c61",
   "metadata": {
    "execution": {
     "iopub.execute_input": "2025-07-30T20:36:49.089087Z",
     "iopub.status.busy": "2025-07-30T20:36:49.088198Z",
     "iopub.status.idle": "2025-07-30T20:36:49.093733Z",
     "shell.execute_reply": "2025-07-30T20:36:49.092598Z"
    },
    "papermill": {
     "duration": 0.032362,
     "end_time": "2025-07-30T20:36:49.095741",
     "exception": false,
     "start_time": "2025-07-30T20:36:49.063379",
     "status": "completed"
    },
    "tags": []
   },
   "outputs": [],
   "source": [
    "# Conditional Coverage & looking at subgroups"
   ]
  },
  {
   "cell_type": "code",
   "execution_count": 63,
   "id": "027ae886-68dd-4141-96c7-805a5450e1ef",
   "metadata": {
    "execution": {
     "iopub.execute_input": "2025-07-30T20:36:49.159363Z",
     "iopub.status.busy": "2025-07-30T20:36:49.158163Z",
     "iopub.status.idle": "2025-07-30T20:36:49.423338Z",
     "shell.execute_reply": "2025-07-30T20:36:49.422414Z"
    },
    "papermill": {
     "duration": 0.299,
     "end_time": "2025-07-30T20:36:49.425112",
     "exception": false,
     "start_time": "2025-07-30T20:36:49.126112",
     "status": "completed"
    },
    "tags": []
   },
   "outputs": [],
   "source": [
    "from fairness_multiverse.conformal import build_cp_groups\n",
    "\n",
    "cp_groups_df = build_cp_groups(pred_sets, y_true, X_test.index, org_test)\n",
    "#needs universe_id and setting"
   ]
  },
  {
   "cell_type": "code",
   "execution_count": 64,
   "id": "01d5802c-663a-4d1f-9d69-e036faaffbf7",
   "metadata": {
    "execution": {
     "iopub.execute_input": "2025-07-30T20:36:49.477119Z",
     "iopub.status.busy": "2025-07-30T20:36:49.476194Z",
     "iopub.status.idle": "2025-07-30T20:36:49.481183Z",
     "shell.execute_reply": "2025-07-30T20:36:49.480189Z"
    },
    "papermill": {
     "duration": 0.029937,
     "end_time": "2025-07-30T20:36:49.482871",
     "exception": false,
     "start_time": "2025-07-30T20:36:49.452934",
     "status": "completed"
    },
    "tags": []
   },
   "outputs": [],
   "source": [
    "#delete\n",
    "#cp_groups_df"
   ]
  },
  {
   "cell_type": "code",
   "execution_count": 65,
   "id": "fa424af1-d1eb-443d-b717-2d279ada8408",
   "metadata": {
    "execution": {
     "iopub.execute_input": "2025-07-30T20:36:49.545494Z",
     "iopub.status.busy": "2025-07-30T20:36:49.545075Z",
     "iopub.status.idle": "2025-07-30T20:36:49.550407Z",
     "shell.execute_reply": "2025-07-30T20:36:49.549599Z"
    },
    "papermill": {
     "duration": 0.041887,
     "end_time": "2025-07-30T20:36:49.551869",
     "exception": false,
     "start_time": "2025-07-30T20:36:49.509982",
     "status": "completed"
    },
    "tags": []
   },
   "outputs": [],
   "source": [
    "#delete\n",
    "#percentage = (cp_groups_df['nongerman_female'] == 1).mean() * 100\n",
    "#print(percentage)\n"
   ]
  },
  {
   "cell_type": "code",
   "execution_count": 66,
   "id": "6cbdab96-b2b2-45af-ad54-d0516db2e28d",
   "metadata": {
    "execution": {
     "iopub.execute_input": "2025-07-30T20:36:49.583033Z",
     "iopub.status.busy": "2025-07-30T20:36:49.582507Z",
     "iopub.status.idle": "2025-07-30T20:36:50.914815Z",
     "shell.execute_reply": "2025-07-30T20:36:50.913903Z"
    },
    "papermill": {
     "duration": 1.34992,
     "end_time": "2025-07-30T20:36:50.916939",
     "exception": false,
     "start_time": "2025-07-30T20:36:49.567019",
     "status": "completed"
    },
    "tags": []
   },
   "outputs": [],
   "source": [
    "# Define covered = 1 if true_label is in the predicted set\n",
    "cp_groups_df['covered'] = cp_groups_df.apply(\n",
    "    lambda r: int(r['true_label'] in r['pred_set']),\n",
    "    axis=1\n",
    ")"
   ]
  },
  {
   "cell_type": "code",
   "execution_count": 67,
   "id": "338ff529-1a6b-4b87-a931-8e4788d52aad",
   "metadata": {
    "execution": {
     "iopub.execute_input": "2025-07-30T20:36:50.970758Z",
     "iopub.status.busy": "2025-07-30T20:36:50.970388Z",
     "iopub.status.idle": "2025-07-30T20:36:50.975990Z",
     "shell.execute_reply": "2025-07-30T20:36:50.974959Z"
    },
    "papermill": {
     "duration": 0.034088,
     "end_time": "2025-07-30T20:36:50.977858",
     "exception": false,
     "start_time": "2025-07-30T20:36:50.943770",
     "status": "completed"
    },
    "tags": []
   },
   "outputs": [],
   "source": [
    "#cp_groups_df"
   ]
  },
  {
   "cell_type": "code",
   "execution_count": 68,
   "id": "90032e27-66df-4540-9169-4e89cfbaa758",
   "metadata": {
    "execution": {
     "iopub.execute_input": "2025-07-30T20:36:51.035556Z",
     "iopub.status.busy": "2025-07-30T20:36:51.034855Z",
     "iopub.status.idle": "2025-07-30T20:36:51.047045Z",
     "shell.execute_reply": "2025-07-30T20:36:51.046024Z"
    },
    "papermill": {
     "duration": 0.043387,
     "end_time": "2025-07-30T20:36:51.049024",
     "exception": false,
     "start_time": "2025-07-30T20:36:51.005637",
     "status": "completed"
    },
    "tags": []
   },
   "outputs": [],
   "source": [
    "subgroups = ['frau1','nongerman','nongerman_male','nongerman_female']\n",
    "\n",
    "# Conditional coverage for subgroup==1\n",
    "cond_coverage = {\n",
    "    g: cp_groups_df.loc[cp_groups_df[g]==1, 'covered'].mean()\n",
    "    for g in subgroups\n",
    "}"
   ]
  },
  {
   "cell_type": "code",
   "execution_count": 69,
   "id": "1e348fb1-b9c3-45bc-ba23-f016827a7e0d",
   "metadata": {
    "execution": {
     "iopub.execute_input": "2025-07-30T20:36:51.105322Z",
     "iopub.status.busy": "2025-07-30T20:36:51.104895Z",
     "iopub.status.idle": "2025-07-30T20:36:51.111812Z",
     "shell.execute_reply": "2025-07-30T20:36:51.111062Z"
    },
    "papermill": {
     "duration": 0.037319,
     "end_time": "2025-07-30T20:36:51.113320",
     "exception": false,
     "start_time": "2025-07-30T20:36:51.076001",
     "status": "completed"
    },
    "tags": []
   },
   "outputs": [
    {
     "data": {
      "text/plain": [
       "{'frau1': 0.9132497641191535,\n",
       " 'nongerman': 0.9097288497164991,\n",
       " 'nongerman_male': 0.924795100423309,\n",
       " 'nongerman_female': 0.8847988077496274}"
      ]
     },
     "execution_count": 69,
     "metadata": {},
     "output_type": "execute_result"
    }
   ],
   "source": [
    "cond_coverage"
   ]
  },
  {
   "cell_type": "code",
   "execution_count": 70,
   "id": "f5093324-c3dd-4d63-bc4c-8d945e5c8bbb",
   "metadata": {
    "execution": {
     "iopub.execute_input": "2025-07-30T20:36:51.144422Z",
     "iopub.status.busy": "2025-07-30T20:36:51.143961Z",
     "iopub.status.idle": "2025-07-30T20:36:51.150270Z",
     "shell.execute_reply": "2025-07-30T20:36:51.149579Z"
    },
    "papermill": {
     "duration": 0.022723,
     "end_time": "2025-07-30T20:36:51.151668",
     "exception": false,
     "start_time": "2025-07-30T20:36:51.128945",
     "status": "completed"
    },
    "tags": []
   },
   "outputs": [],
   "source": [
    "for subgroup, cov in cond_coverage.items():\n",
    "    cp_metrics_df[f\"cov_{subgroup}\"] = cov"
   ]
  },
  {
   "cell_type": "code",
   "execution_count": 71,
   "id": "6e872e10-dbe5-49e8-b554-5030c98ff75d",
   "metadata": {
    "execution": {
     "iopub.execute_input": "2025-07-30T20:36:51.182509Z",
     "iopub.status.busy": "2025-07-30T20:36:51.182013Z",
     "iopub.status.idle": "2025-07-30T20:36:51.197017Z",
     "shell.execute_reply": "2025-07-30T20:36:51.196202Z"
    },
    "papermill": {
     "duration": 0.031213,
     "end_time": "2025-07-30T20:36:51.198418",
     "exception": false,
     "start_time": "2025-07-30T20:36:51.167205",
     "status": "completed"
    },
    "tags": []
   },
   "outputs": [
    {
     "data": {
      "text/html": [
       "<div>\n",
       "<style scoped>\n",
       "    .dataframe tbody tr th:only-of-type {\n",
       "        vertical-align: middle;\n",
       "    }\n",
       "\n",
       "    .dataframe tbody tr th {\n",
       "        vertical-align: top;\n",
       "    }\n",
       "\n",
       "    .dataframe thead th {\n",
       "        text-align: right;\n",
       "    }\n",
       "</style>\n",
       "<table border=\"1\" class=\"dataframe\">\n",
       "  <thead>\n",
       "    <tr style=\"text-align: right;\">\n",
       "      <th></th>\n",
       "      <th>universe_id</th>\n",
       "      <th>universe_training_year</th>\n",
       "      <th>universe_training_size</th>\n",
       "      <th>universe_scale</th>\n",
       "      <th>universe_model</th>\n",
       "      <th>universe_exclude_features</th>\n",
       "      <th>universe_exclude_subgroups</th>\n",
       "      <th>q_hat</th>\n",
       "      <th>coverage</th>\n",
       "      <th>avg_size</th>\n",
       "      <th>cov_frau1</th>\n",
       "      <th>cov_nongerman</th>\n",
       "      <th>cov_nongerman_male</th>\n",
       "      <th>cov_nongerman_female</th>\n",
       "    </tr>\n",
       "  </thead>\n",
       "  <tbody>\n",
       "    <tr>\n",
       "      <th>0</th>\n",
       "      <td>199c7b93fe1f9e3a163888a721fa0695</td>\n",
       "      <td>2010_14</td>\n",
       "      <td>25k</td>\n",
       "      <td>do-not-scale</td>\n",
       "      <td>rf</td>\n",
       "      <td>age</td>\n",
       "      <td>keep-all</td>\n",
       "      <td>0.66</td>\n",
       "      <td>0.914458</td>\n",
       "      <td>1.141879</td>\n",
       "      <td>0.91325</td>\n",
       "      <td>0.909729</td>\n",
       "      <td>0.924795</td>\n",
       "      <td>0.884799</td>\n",
       "    </tr>\n",
       "  </tbody>\n",
       "</table>\n",
       "</div>"
      ],
      "text/plain": [
       "                        universe_id universe_training_year  \\\n",
       "0  199c7b93fe1f9e3a163888a721fa0695                2010_14   \n",
       "\n",
       "  universe_training_size universe_scale universe_model  \\\n",
       "0                    25k   do-not-scale             rf   \n",
       "\n",
       "  universe_exclude_features universe_exclude_subgroups  q_hat  coverage  \\\n",
       "0                       age                   keep-all   0.66  0.914458   \n",
       "\n",
       "   avg_size  cov_frau1  cov_nongerman  cov_nongerman_male  \\\n",
       "0  1.141879    0.91325       0.909729            0.924795   \n",
       "\n",
       "   cov_nongerman_female  \n",
       "0              0.884799  "
      ]
     },
     "execution_count": 71,
     "metadata": {},
     "output_type": "execute_result"
    }
   ],
   "source": [
    "cp_metrics_df"
   ]
  },
  {
   "cell_type": "markdown",
   "id": "33774451",
   "metadata": {
    "papermill": {
     "duration": 0.014673,
     "end_time": "2025-07-30T20:36:51.228827",
     "exception": false,
     "start_time": "2025-07-30T20:36:51.214154",
     "status": "completed"
    },
    "tags": []
   },
   "source": [
    "# (Fairness) Metrics"
   ]
  },
  {
   "cell_type": "code",
   "execution_count": 72,
   "id": "debc5d62",
   "metadata": {
    "execution": {
     "iopub.execute_input": "2025-07-30T20:36:51.258399Z",
     "iopub.status.busy": "2025-07-30T20:36:51.257903Z",
     "iopub.status.idle": "2025-07-30T20:36:51.273185Z",
     "shell.execute_reply": "2025-07-30T20:36:51.272443Z"
    },
    "papermill": {
     "duration": 0.03171,
     "end_time": "2025-07-30T20:36:51.274650",
     "exception": false,
     "start_time": "2025-07-30T20:36:51.242940",
     "status": "completed"
    },
    "tags": []
   },
   "outputs": [],
   "source": [
    "# do I need to include maxdeutsch1.missing?\n",
    "\n",
    "import numpy as np\n",
    "\n",
    "colname_to_bin = \"maxdeutsch1\"\n",
    "majority_value = org_train[colname_to_bin].mode()[0]\n",
    "\n",
    "org_test[\"majmin\"] = np.where(org_test[colname_to_bin] == majority_value, \"majority\", \"minority\")"
   ]
  },
  {
   "cell_type": "code",
   "execution_count": 73,
   "id": "06a50de5",
   "metadata": {
    "execution": {
     "iopub.execute_input": "2025-07-30T20:36:51.305117Z",
     "iopub.status.busy": "2025-07-30T20:36:51.304598Z",
     "iopub.status.idle": "2025-07-30T20:36:53.708708Z",
     "shell.execute_reply": "2025-07-30T20:36:53.707589Z"
    },
    "papermill": {
     "duration": 2.421202,
     "end_time": "2025-07-30T20:36:53.710686",
     "exception": false,
     "start_time": "2025-07-30T20:36:51.289484",
     "status": "completed"
    },
    "tags": []
   },
   "outputs": [],
   "source": [
    "example_universe = universe.copy()\n",
    "example_universe[\"cutoff\"] = example_universe[\"cutoff\"][0]\n",
    "example_universe[\"eval_fairness_grouping\"] = example_universe[\"eval_fairness_grouping\"][0]\n",
    "fairness_dict, metric_frame = universe_analysis.compute_metrics(\n",
    "    example_universe,\n",
    "    y_pred_prob=probs_test,\n",
    "    y_test=y_true,\n",
    "    org_test=org_test,\n",
    ")"
   ]
  },
  {
   "cell_type": "markdown",
   "id": "f95d4e02",
   "metadata": {
    "papermill": {
     "duration": 0.027217,
     "end_time": "2025-07-30T20:36:53.765437",
     "exception": false,
     "start_time": "2025-07-30T20:36:53.738220",
     "status": "completed"
    },
    "tags": []
   },
   "source": [
    "# Overall"
   ]
  },
  {
   "cell_type": "markdown",
   "id": "bdee4871",
   "metadata": {
    "papermill": {
     "duration": 0.02737,
     "end_time": "2025-07-30T20:36:53.820096",
     "exception": false,
     "start_time": "2025-07-30T20:36:53.792726",
     "status": "completed"
    },
    "tags": []
   },
   "source": [
    "Fairness\n",
    "Main fairness target: Equalized Odds. Seems to be a better fit than equal opportunity, since we're not only interested in Y = 1. Seems to be a better fit than demographic parity, since we also care about accuracy, not just equal distribution of preds.\n",
    "\n",
    "Pick column for computation of fairness metrics\n",
    "\n",
    "Performance\n",
    "Overall performance measures, most interesting in relation to the measures split by group below"
   ]
  },
  {
   "cell_type": "code",
   "execution_count": 74,
   "id": "c4e067c6",
   "metadata": {
    "execution": {
     "iopub.execute_input": "2025-07-30T20:36:53.876126Z",
     "iopub.status.busy": "2025-07-30T20:36:53.875596Z",
     "iopub.status.idle": "2025-07-30T20:36:53.884775Z",
     "shell.execute_reply": "2025-07-30T20:36:53.883783Z"
    },
    "papermill": {
     "duration": 0.038629,
     "end_time": "2025-07-30T20:36:53.886473",
     "exception": false,
     "start_time": "2025-07-30T20:36:53.847844",
     "status": "completed"
    },
    "tags": []
   },
   "outputs": [
    {
     "data": {
      "text/plain": [
       "accuracy                   0.219485\n",
       "balanced accuracy          0.543198\n",
       "f1                         0.243387\n",
       "precision                  0.138975\n",
       "false positive rate        0.892228\n",
       "false negative rate        0.021376\n",
       "selection rate             0.903311\n",
       "count                  89710.000000\n",
       "dtype: float64"
      ]
     },
     "execution_count": 74,
     "metadata": {},
     "output_type": "execute_result"
    }
   ],
   "source": [
    "metric_frame.overall"
   ]
  },
  {
   "cell_type": "markdown",
   "id": "e968fe9d",
   "metadata": {
    "papermill": {
     "duration": 0.027584,
     "end_time": "2025-07-30T20:36:53.942990",
     "exception": false,
     "start_time": "2025-07-30T20:36:53.915406",
     "status": "completed"
    },
    "tags": []
   },
   "source": [
    "By Group"
   ]
  },
  {
   "cell_type": "code",
   "execution_count": 75,
   "id": "ec325bce",
   "metadata": {
    "execution": {
     "iopub.execute_input": "2025-07-30T20:36:54.001399Z",
     "iopub.status.busy": "2025-07-30T20:36:54.000895Z",
     "iopub.status.idle": "2025-07-30T20:36:54.016743Z",
     "shell.execute_reply": "2025-07-30T20:36:54.015506Z"
    },
    "papermill": {
     "duration": 0.04622,
     "end_time": "2025-07-30T20:36:54.018240",
     "exception": false,
     "start_time": "2025-07-30T20:36:53.972020",
     "status": "completed"
    },
    "tags": []
   },
   "outputs": [
    {
     "data": {
      "text/html": [
       "<div>\n",
       "<style scoped>\n",
       "    .dataframe tbody tr th:only-of-type {\n",
       "        vertical-align: middle;\n",
       "    }\n",
       "\n",
       "    .dataframe tbody tr th {\n",
       "        vertical-align: top;\n",
       "    }\n",
       "\n",
       "    .dataframe thead th {\n",
       "        text-align: right;\n",
       "    }\n",
       "</style>\n",
       "<table border=\"1\" class=\"dataframe\">\n",
       "  <thead>\n",
       "    <tr style=\"text-align: right;\">\n",
       "      <th></th>\n",
       "      <th>accuracy</th>\n",
       "      <th>balanced accuracy</th>\n",
       "      <th>f1</th>\n",
       "      <th>precision</th>\n",
       "      <th>false positive rate</th>\n",
       "      <th>false negative rate</th>\n",
       "      <th>selection rate</th>\n",
       "      <th>count</th>\n",
       "    </tr>\n",
       "    <tr>\n",
       "      <th>majmin</th>\n",
       "      <th></th>\n",
       "      <th></th>\n",
       "      <th></th>\n",
       "      <th></th>\n",
       "      <th></th>\n",
       "      <th></th>\n",
       "      <th></th>\n",
       "      <th></th>\n",
       "    </tr>\n",
       "  </thead>\n",
       "  <tbody>\n",
       "    <tr>\n",
       "      <th>majority</th>\n",
       "      <td>0.215513</td>\n",
       "      <td>0.542377</td>\n",
       "      <td>0.249464</td>\n",
       "      <td>0.142783</td>\n",
       "      <td>0.901899</td>\n",
       "      <td>0.013348</td>\n",
       "      <td>0.913098</td>\n",
       "      <td>69170.0</td>\n",
       "    </tr>\n",
       "    <tr>\n",
       "      <th>minority</th>\n",
       "      <td>0.232863</td>\n",
       "      <td>0.543678</td>\n",
       "      <td>0.221684</td>\n",
       "      <td>0.125524</td>\n",
       "      <td>0.860280</td>\n",
       "      <td>0.052365</td>\n",
       "      <td>0.870351</td>\n",
       "      <td>20540.0</td>\n",
       "    </tr>\n",
       "  </tbody>\n",
       "</table>\n",
       "</div>"
      ],
      "text/plain": [
       "          accuracy  balanced accuracy        f1  precision  \\\n",
       "majmin                                                       \n",
       "majority  0.215513           0.542377  0.249464   0.142783   \n",
       "minority  0.232863           0.543678  0.221684   0.125524   \n",
       "\n",
       "          false positive rate  false negative rate  selection rate    count  \n",
       "majmin                                                                       \n",
       "majority             0.901899             0.013348        0.913098  69170.0  \n",
       "minority             0.860280             0.052365        0.870351  20540.0  "
      ]
     },
     "execution_count": 75,
     "metadata": {},
     "output_type": "execute_result"
    }
   ],
   "source": [
    "metric_frame.by_group"
   ]
  },
  {
   "cell_type": "code",
   "execution_count": 76,
   "id": "a9ddbe63",
   "metadata": {
    "execution": {
     "iopub.execute_input": "2025-07-30T20:36:54.050178Z",
     "iopub.status.busy": "2025-07-30T20:36:54.049415Z",
     "iopub.status.idle": "2025-07-30T20:36:56.437139Z",
     "shell.execute_reply": "2025-07-30T20:36:56.436086Z"
    },
    "papermill": {
     "duration": 2.40421,
     "end_time": "2025-07-30T20:36:56.438876",
     "exception": false,
     "start_time": "2025-07-30T20:36:54.034666",
     "status": "completed"
    },
    "tags": []
   },
   "outputs": [
    {
     "data": {
      "text/plain": [
       "array([[<Axes: title={'center': 'accuracy'}, xlabel='majmin'>,\n",
       "        <Axes: title={'center': 'balanced accuracy'}, xlabel='majmin'>,\n",
       "        <Axes: title={'center': 'f1'}, xlabel='majmin'>],\n",
       "       [<Axes: title={'center': 'precision'}, xlabel='majmin'>,\n",
       "        <Axes: title={'center': 'false positive rate'}, xlabel='majmin'>,\n",
       "        <Axes: title={'center': 'false negative rate'}, xlabel='majmin'>],\n",
       "       [<Axes: title={'center': 'selection rate'}, xlabel='majmin'>,\n",
       "        <Axes: title={'center': 'count'}, xlabel='majmin'>,\n",
       "        <Axes: xlabel='majmin'>]], dtype=object)"
      ]
     },
     "execution_count": 76,
     "metadata": {},
     "output_type": "execute_result"
    },
    {
     "data": {
      "image/png": "[encoded data removed]",
      "text/plain": [
       "<Figure size 1200x800 with 9 Axes>"
      ]
     },
     "metadata": {},
     "output_type": "display_data"
    }
   ],
   "source": [
    "# In a graphic\n",
    "metric_frame.by_group.plot.bar(\n",
    "    subplots=True,\n",
    "    layout=[3, 3],\n",
    "    legend=False,\n",
    "    figsize=[12, 8],\n",
    "    title=\"Show all metrics\",\n",
    ")"
   ]
  },
  {
   "cell_type": "markdown",
   "id": "f57a0bac",
   "metadata": {
    "papermill": {
     "duration": 0.056112,
     "end_time": "2025-07-30T20:36:56.553099",
     "exception": false,
     "start_time": "2025-07-30T20:36:56.496987",
     "status": "completed"
    },
    "tags": []
   },
   "source": [
    "# Final Output"
   ]
  },
  {
   "cell_type": "code",
   "execution_count": 77,
   "id": "96d280a3",
   "metadata": {
    "execution": {
     "iopub.execute_input": "2025-07-30T20:36:56.617822Z",
     "iopub.status.busy": "2025-07-30T20:36:56.617069Z",
     "iopub.status.idle": "2025-07-30T20:36:56.625448Z",
     "shell.execute_reply": "2025-07-30T20:36:56.624458Z"
    },
    "papermill": {
     "duration": 0.043005,
     "end_time": "2025-07-30T20:36:56.628664",
     "exception": false,
     "start_time": "2025-07-30T20:36:56.585659",
     "status": "completed"
    },
    "tags": []
   },
   "outputs": [
    {
     "data": {
      "text/plain": [
       "4"
      ]
     },
     "execution_count": 77,
     "metadata": {},
     "output_type": "execute_result"
    }
   ],
   "source": [
    "sub_universes = universe_analysis.generate_sub_universes()\n",
    "len(sub_universes)"
   ]
  },
  {
   "cell_type": "code",
   "execution_count": 78,
   "id": "92adf7ba",
   "metadata": {
    "execution": {
     "iopub.execute_input": "2025-07-30T20:36:56.706842Z",
     "iopub.status.busy": "2025-07-30T20:36:56.706417Z",
     "iopub.status.idle": "2025-07-30T20:36:56.714336Z",
     "shell.execute_reply": "2025-07-30T20:36:56.713367Z"
    },
    "papermill": {
     "duration": 0.057859,
     "end_time": "2025-07-30T20:36:56.716015",
     "exception": false,
     "start_time": "2025-07-30T20:36:56.658156",
     "status": "completed"
    },
    "tags": []
   },
   "outputs": [],
   "source": [
    "def filter_sub_universe_data(sub_universe, org_test):\n",
    "    # Keep all rows — no filtering\n",
    "    keep_rows_mask = np.ones(org_test.shape[0], dtype=bool)\n",
    "\n",
    "    print(f\"[INFO] Keeping all rows: {keep_rows_mask.sum()} rows retained.\")\n",
    "    return keep_rows_mask"
   ]
  },
  {
   "cell_type": "code",
   "execution_count": 79,
   "id": "4a759155",
   "metadata": {
    "execution": {
     "iopub.execute_input": "2025-07-30T20:36:56.850128Z",
     "iopub.status.busy": "2025-07-30T20:36:56.849707Z",
     "iopub.status.idle": "2025-07-30T20:37:07.695258Z",
     "shell.execute_reply": "2025-07-30T20:37:07.694202Z"
    },
    "papermill": {
     "duration": 10.914652,
     "end_time": "2025-07-30T20:37:07.696910",
     "exception": false,
     "start_time": "2025-07-30T20:36:56.782258",
     "status": "completed"
    },
    "tags": []
   },
   "outputs": [
    {
     "name": "stdout",
     "output_type": "stream",
     "text": [
      "Stopping execution_time clock.\n",
      "[INFO] Keeping all rows: 89710 rows retained.\n"
     ]
    },
    {
     "name": "stdout",
     "output_type": "stream",
     "text": [
      "[INFO] Keeping all rows: 89710 rows retained.\n"
     ]
    },
    {
     "name": "stdout",
     "output_type": "stream",
     "text": [
      "[INFO] Keeping all rows: 89710 rows retained.\n"
     ]
    },
    {
     "name": "stdout",
     "output_type": "stream",
     "text": [
      "[INFO] Keeping all rows: 89710 rows retained.\n"
     ]
    },
    {
     "data": {
      "text/html": [
       "<div>\n",
       "<style scoped>\n",
       "    .dataframe tbody tr th:only-of-type {\n",
       "        vertical-align: middle;\n",
       "    }\n",
       "\n",
       "    .dataframe tbody tr th {\n",
       "        vertical-align: top;\n",
       "    }\n",
       "\n",
       "    .dataframe thead th {\n",
       "        text-align: right;\n",
       "    }\n",
       "</style>\n",
       "<table border=\"1\" class=\"dataframe\">\n",
       "  <thead>\n",
       "    <tr style=\"text-align: right;\">\n",
       "      <th></th>\n",
       "      <th>run_no</th>\n",
       "      <th>universe_id</th>\n",
       "      <th>universe_settings</th>\n",
       "      <th>execution_time</th>\n",
       "      <th>test_size_n</th>\n",
       "      <th>test_size_frac</th>\n",
       "      <th>fair_main_equalized_odds_difference</th>\n",
       "      <th>fair_main_equalized_odds_ratio</th>\n",
       "      <th>fair_main_demographic_parity_difference</th>\n",
       "      <th>fair_main_demographic_parity_ratio</th>\n",
       "      <th>...</th>\n",
       "      <th>perf_grp_precision_0</th>\n",
       "      <th>perf_grp_precision_1</th>\n",
       "      <th>perf_grp_false positive rate_0</th>\n",
       "      <th>perf_grp_false positive rate_1</th>\n",
       "      <th>perf_grp_false negative rate_0</th>\n",
       "      <th>perf_grp_false negative rate_1</th>\n",
       "      <th>perf_grp_selection rate_0</th>\n",
       "      <th>perf_grp_selection rate_1</th>\n",
       "      <th>perf_grp_count_0</th>\n",
       "      <th>perf_grp_count_1</th>\n",
       "    </tr>\n",
       "  </thead>\n",
       "  <tbody>\n",
       "    <tr>\n",
       "      <th>0</th>\n",
       "      <td>14</td>\n",
       "      <td>199c7b93fe1f9e3a163888a721fa0695</td>\n",
       "      <td>{\"cutoff\": \"quantile_0.1\", \"eval_fairness_grou...</td>\n",
       "      <td>36.693754</td>\n",
       "      <td>89710</td>\n",
       "      <td>1.0</td>\n",
       "      <td>0.041619</td>\n",
       "      <td>0.953853</td>\n",
       "      <td>0.042748</td>\n",
       "      <td>0.953184</td>\n",
       "      <td>...</td>\n",
       "      <td>NaN</td>\n",
       "      <td>NaN</td>\n",
       "      <td>NaN</td>\n",
       "      <td>NaN</td>\n",
       "      <td>NaN</td>\n",
       "      <td>NaN</td>\n",
       "      <td>NaN</td>\n",
       "      <td>NaN</td>\n",
       "      <td>NaN</td>\n",
       "      <td>NaN</td>\n",
       "    </tr>\n",
       "    <tr>\n",
       "      <th>0</th>\n",
       "      <td>14</td>\n",
       "      <td>199c7b93fe1f9e3a163888a721fa0695</td>\n",
       "      <td>{\"cutoff\": \"quantile_0.1\", \"eval_fairness_grou...</td>\n",
       "      <td>36.693754</td>\n",
       "      <td>89710</td>\n",
       "      <td>1.0</td>\n",
       "      <td>0.041619</td>\n",
       "      <td>0.953853</td>\n",
       "      <td>0.042748</td>\n",
       "      <td>0.953184</td>\n",
       "      <td>...</td>\n",
       "      <td>0.125524</td>\n",
       "      <td>0.142783</td>\n",
       "      <td>0.860280</td>\n",
       "      <td>0.901899</td>\n",
       "      <td>0.052365</td>\n",
       "      <td>0.013348</td>\n",
       "      <td>0.870351</td>\n",
       "      <td>0.913098</td>\n",
       "      <td>20540.0</td>\n",
       "      <td>69170.0</td>\n",
       "    </tr>\n",
       "    <tr>\n",
       "      <th>0</th>\n",
       "      <td>14</td>\n",
       "      <td>199c7b93fe1f9e3a163888a721fa0695</td>\n",
       "      <td>{\"cutoff\": \"quantile_0.25\", \"eval_fairness_gro...</td>\n",
       "      <td>36.693754</td>\n",
       "      <td>89710</td>\n",
       "      <td>1.0</td>\n",
       "      <td>0.069854</td>\n",
       "      <td>0.926529</td>\n",
       "      <td>0.044108</td>\n",
       "      <td>0.942704</td>\n",
       "      <td>...</td>\n",
       "      <td>NaN</td>\n",
       "      <td>NaN</td>\n",
       "      <td>NaN</td>\n",
       "      <td>NaN</td>\n",
       "      <td>NaN</td>\n",
       "      <td>NaN</td>\n",
       "      <td>NaN</td>\n",
       "      <td>NaN</td>\n",
       "      <td>NaN</td>\n",
       "      <td>NaN</td>\n",
       "    </tr>\n",
       "    <tr>\n",
       "      <th>0</th>\n",
       "      <td>14</td>\n",
       "      <td>199c7b93fe1f9e3a163888a721fa0695</td>\n",
       "      <td>{\"cutoff\": \"quantile_0.25\", \"eval_fairness_gro...</td>\n",
       "      <td>36.693754</td>\n",
       "      <td>89710</td>\n",
       "      <td>1.0</td>\n",
       "      <td>0.069854</td>\n",
       "      <td>0.926529</td>\n",
       "      <td>0.044108</td>\n",
       "      <td>0.942704</td>\n",
       "      <td>...</td>\n",
       "      <td>0.139944</td>\n",
       "      <td>0.163199</td>\n",
       "      <td>0.705481</td>\n",
       "      <td>0.742262</td>\n",
       "      <td>0.119088</td>\n",
       "      <td>0.049234</td>\n",
       "      <td>0.725706</td>\n",
       "      <td>0.769814</td>\n",
       "      <td>20540.0</td>\n",
       "      <td>69170.0</td>\n",
       "    </tr>\n",
       "  </tbody>\n",
       "</table>\n",
       "<p>4 rows × 50 columns</p>\n",
       "</div>"
      ],
      "text/plain": [
       "  run_no                       universe_id  \\\n",
       "0     14  199c7b93fe1f9e3a163888a721fa0695   \n",
       "0     14  199c7b93fe1f9e3a163888a721fa0695   \n",
       "0     14  199c7b93fe1f9e3a163888a721fa0695   \n",
       "0     14  199c7b93fe1f9e3a163888a721fa0695   \n",
       "\n",
       "                                   universe_settings  execution_time  \\\n",
       "0  {\"cutoff\": \"quantile_0.1\", \"eval_fairness_grou...       36.693754   \n",
       "0  {\"cutoff\": \"quantile_0.1\", \"eval_fairness_grou...       36.693754   \n",
       "0  {\"cutoff\": \"quantile_0.25\", \"eval_fairness_gro...       36.693754   \n",
       "0  {\"cutoff\": \"quantile_0.25\", \"eval_fairness_gro...       36.693754   \n",
       "\n",
       "   test_size_n  test_size_frac  fair_main_equalized_odds_difference  \\\n",
       "0        89710             1.0                             0.041619   \n",
       "0        89710             1.0                             0.041619   \n",
       "0        89710             1.0                             0.069854   \n",
       "0        89710             1.0                             0.069854   \n",
       "\n",
       "   fair_main_equalized_odds_ratio  fair_main_demographic_parity_difference  \\\n",
       "0                        0.953853                                 0.042748   \n",
       "0                        0.953853                                 0.042748   \n",
       "0                        0.926529                                 0.044108   \n",
       "0                        0.926529                                 0.044108   \n",
       "\n",
       "   fair_main_demographic_parity_ratio  ...  perf_grp_precision_0  \\\n",
       "0                            0.953184  ...                   NaN   \n",
       "0                            0.953184  ...              0.125524   \n",
       "0                            0.942704  ...                   NaN   \n",
       "0                            0.942704  ...              0.139944   \n",
       "\n",
       "   perf_grp_precision_1  perf_grp_false positive rate_0  \\\n",
       "0                   NaN                             NaN   \n",
       "0              0.142783                        0.860280   \n",
       "0                   NaN                             NaN   \n",
       "0              0.163199                        0.705481   \n",
       "\n",
       "   perf_grp_false positive rate_1  perf_grp_false negative rate_0  \\\n",
       "0                             NaN                             NaN   \n",
       "0                        0.901899                        0.052365   \n",
       "0                             NaN                             NaN   \n",
       "0                        0.742262                        0.119088   \n",
       "\n",
       "   perf_grp_false negative rate_1  perf_grp_selection rate_0  \\\n",
       "0                             NaN                        NaN   \n",
       "0                        0.013348                   0.870351   \n",
       "0                             NaN                        NaN   \n",
       "0                        0.049234                   0.725706   \n",
       "\n",
       "   perf_grp_selection rate_1  perf_grp_count_0  perf_grp_count_1  \n",
       "0                        NaN               NaN               NaN  \n",
       "0                   0.913098           20540.0           69170.0  \n",
       "0                        NaN               NaN               NaN  \n",
       "0                   0.769814           20540.0           69170.0  \n",
       "\n",
       "[4 rows x 50 columns]"
      ]
     },
     "execution_count": 79,
     "metadata": {},
     "output_type": "execute_result"
    }
   ],
   "source": [
    "final_output = universe_analysis.generate_final_output(\n",
    "    y_pred_prob=probs_test,\n",
    "    y_test=y_true,\n",
    "    org_test=org_test,\n",
    "    filter_data=filter_sub_universe_data,\n",
    "    cp_metrics_df=cp_metrics_df,\n",
    "    save=True,\n",
    ")\n",
    "final_output"
   ]
  },
  {
   "cell_type": "code",
   "execution_count": null,
   "id": "721ff514-cb11-46f8-b6fc-50392f74b5cb",
   "metadata": {
    "papermill": {
     "duration": 0.029025,
     "end_time": "2025-07-30T20:37:07.757824",
     "exception": false,
     "start_time": "2025-07-30T20:37:07.728799",
     "status": "completed"
    },
    "tags": []
   },
   "outputs": [],
   "source": []
  }
 ],
 "metadata": {
  "celltoolbar": "Tags",
  "kernelspec": {
   "display_name": "Python (CMA Fairness)",
   "language": "python",
   "name": "cma_fair_env"
  },
  "language_info": {
   "codemirror_mode": {
    "name": "ipython",
    "version": 3
   },
   "file_extension": ".py",
   "mimetype": "text/x-python",
   "name": "python",
   "nbconvert_exporter": "python",
   "pygments_lexer": "ipython3",
   "version": "3.10.12"
  },
  "papermill": {
   "default_parameters": {},
   "duration": 54.095009,
   "end_time": "2025-07-30T20:37:08.606887",
   "environment_variables": {},
   "exception": null,
   "input_path": "universe_analysis.ipynb",
   "output_path": "output/runs/14/notebooks/m_14-199c7b93fe1f9e3a163888a721fa0695.ipynb",
   "parameters": {
    "output_dir": "output",
    "run_no": "14",
    "seed": "2023",
    "universe": "{\"cutoff\": [\"quantile_0.1\", \"quantile_0.25\"], \"eval_fairness_grouping\": [\"majority-minority\", \"nationality-all\"], \"exclude_features\": \"age\", \"exclude_subgroups\": \"keep-all\", \"model\": \"rf\", \"scale\": \"do-not-scale\", \"training_size\": \"25k\", \"training_year\": \"2010_14\"}",
    "universe_id": "199c7b93fe1f9e3a163888a721fa0695"
   },
   "start_time": "2025-07-30T20:36:14.511878",
   "version": "2.6.0"
  }
 },
 "nbformat": 4,
 "nbformat_minor": 5
}