{
 "cells": [
  {
   "cell_type": "code",
   "execution_count": 1,
   "id": "f159f837-637b-42ba-96b5-ec9a68c44524",
   "metadata": {
    "execution": {
     "iopub.execute_input": "2025-07-30T21:39:16.903739Z",
     "iopub.status.busy": "2025-07-30T21:39:16.903320Z",
     "iopub.status.idle": "2025-07-30T21:39:16.917343Z",
     "shell.execute_reply": "2025-07-30T21:39:16.916264Z"
    },
    "papermill": {
     "duration": 0.044184,
     "end_time": "2025-07-30T21:39:16.925700",
     "exception": false,
     "start_time": "2025-07-30T21:39:16.881516",
     "status": "completed"
    },
    "tags": []
   },
   "outputs": [
    {
     "name": "stdout",
     "output_type": "stream",
     "text": [
      "/dss/dsshome1/0C/ra93lal2/cma/CMA_Fairness_v2\n"
     ]
    },
    {
     "name": "stderr",
     "output_type": "stream",
     "text": [
      "/dss/dsshome1/0C/ra93lal2/.local/share/virtualenvs/CMA_Fairness_v2-3j10GkSs/lib/python3.10/site-packages/IPython/core/magics/osm.py:393: UserWarning: This is now an optional IPython functionality, using bookmarks requires you to install the `pickleshare` library.\n",
      "  bkms = self.shell.db.get('bookmarks', {})\n",
      "/dss/dsshome1/0C/ra93lal2/.local/share/virtualenvs/CMA_Fairness_v2-3j10GkSs/lib/python3.10/site-packages/IPython/core/magics/osm.py:417: UserWarning: This is now an optional IPython functionality, setting dhist requires you to install the `pickleshare` library.\n",
      "  self.shell.db['dhist'] = compress_dhist(dhist)[-100:]\n"
     ]
    }
   ],
   "source": [
    "%cd ~/cma/CMA_Fairness_v2"
   ]
  },
  {
   "cell_type": "markdown",
   "id": "de2603b9",
   "metadata": {
    "papermill": {
     "duration": 0.027681,
     "end_time": "2025-07-30T21:39:16.981931",
     "exception": false,
     "start_time": "2025-07-30T21:39:16.954250",
     "status": "completed"
    },
    "tags": []
   },
   "source": [
    "The following cell holds the definition of our parameters, these values can be overriden by rendering the with e.g. the following command:\n",
    "\n",
    "papermill -p alpha 0.2 -p ratio 0.3 universe_analysis.ipynb output/test_run.ipynb"
   ]
  },
  {
   "cell_type": "code",
   "execution_count": 2,
   "id": "a80968a0-40bb-4fa9-85ef-2d5eefb01975",
   "metadata": {
    "execution": {
     "iopub.execute_input": "2025-07-30T21:39:17.028264Z",
     "iopub.status.busy": "2025-07-30T21:39:17.027608Z",
     "iopub.status.idle": "2025-07-30T21:39:17.033525Z",
     "shell.execute_reply": "2025-07-30T21:39:17.032351Z"
    },
    "papermill": {
     "duration": 0.029896,
     "end_time": "2025-07-30T21:39:17.036715",
     "exception": false,
     "start_time": "2025-07-30T21:39:17.006819",
     "status": "completed"
    },
    "tags": []
   },
   "outputs": [
    {
     "name": "stdout",
     "output_type": "stream",
     "text": [
      "Current working directory: /dss/dsshome1/0C/ra93lal2/cma/CMA_Fairness_v2\n"
     ]
    }
   ],
   "source": [
    "import os\n",
    "print(\"Current working directory:\", os.getcwd())"
   ]
  },
  {
   "cell_type": "code",
   "execution_count": 3,
   "id": "2dce4c03",
   "metadata": {
    "execution": {
     "iopub.execute_input": "2025-07-30T21:39:17.078943Z",
     "iopub.status.busy": "2025-07-30T21:39:17.078149Z",
     "iopub.status.idle": "2025-07-30T21:39:17.084853Z",
     "shell.execute_reply": "2025-07-30T21:39:17.083796Z"
    },
    "papermill": {
     "duration": 0.02963,
     "end_time": "2025-07-30T21:39:17.086638",
     "exception": false,
     "start_time": "2025-07-30T21:39:17.057008",
     "status": "completed"
    },
    "tags": [
     "parameters"
    ]
   },
   "outputs": [],
   "source": [
    "run_no = 0\n",
    "universe_id = \"test\"\n",
    "universe = {\n",
    "    \"training_size\": \"25k\", # \"25k\", \"5k\", \"1k\"\n",
    "    \"training_year\": \"2014\", # \"2014\", \"2012_14\", \"2010_14\"\n",
    "    \"scale\": \"scale\", # \"scale\", \"do-not-scale\",\n",
    "    #\"stratify_split\": \"target\", # \"none\", \"target\", \"protected-attribute\", \"both\",\n",
    "    \"model\": \"elasticnet\", # \"logreg\", \"penalized_logreg\", \"rf\", \"gbm\", \"elasticnet\"\n",
    "    \"cutoff\": [\"quantile_0.15\", \"quantile_0.30\"],\n",
    "    \"exclude_features\": \"age\", # \"none\", \"nationality\", \"sex\", \"nationality-sex\", \"age\"\n",
    "    \"exclude_subgroups\": \"keep-all\", # \"keep-all\", \"drop-non-german\"\n",
    "    \"eval_fairness_grouping\": [\"majority-minority\", \"nationality-all\"]\n",
    "}\n",
    "\n",
    "output_dir=\"./output\"\n",
    "seed=0"
   ]
  },
  {
   "cell_type": "code",
   "execution_count": 4,
   "id": "7e911e5f",
   "metadata": {
    "execution": {
     "iopub.execute_input": "2025-07-30T21:39:17.128929Z",
     "iopub.status.busy": "2025-07-30T21:39:17.128545Z",
     "iopub.status.idle": "2025-07-30T21:39:17.133921Z",
     "shell.execute_reply": "2025-07-30T21:39:17.132835Z"
    },
    "papermill": {
     "duration": 0.028127,
     "end_time": "2025-07-30T21:39:17.135582",
     "exception": false,
     "start_time": "2025-07-30T21:39:17.107455",
     "status": "completed"
    },
    "tags": [
     "injected-parameters"
    ]
   },
   "outputs": [],
   "source": [
    "# Parameters\n",
    "universe_id = \"81748a1d026bd9091f7083285e1ef244\"\n",
    "run_no = \"14\"\n",
    "universe = \"{\\\"cutoff\\\": [\\\"quantile_0.1\\\", \\\"quantile_0.25\\\"], \\\"eval_fairness_grouping\\\": [\\\"majority-minority\\\", \\\"nationality-all\\\"], \\\"exclude_features\\\": \\\"nationality\\\", \\\"exclude_subgroups\\\": \\\"drop-non-german\\\", \\\"model\\\": \\\"penalized_logreg\\\", \\\"scale\\\": \\\"do-not-scale\\\", \\\"training_size\\\": \\\"1k\\\", \\\"training_year\\\": \\\"2012_14\\\"}\"\n",
    "output_dir = \"output\"\n",
    "seed = \"2023\"\n"
   ]
  },
  {
   "cell_type": "code",
   "execution_count": 5,
   "id": "1650acaf",
   "metadata": {
    "execution": {
     "iopub.execute_input": "2025-07-30T21:39:17.175898Z",
     "iopub.status.busy": "2025-07-30T21:39:17.175473Z",
     "iopub.status.idle": "2025-07-30T21:39:17.180530Z",
     "shell.execute_reply": "2025-07-30T21:39:17.179471Z"
    },
    "papermill": {
     "duration": 0.028392,
     "end_time": "2025-07-30T21:39:17.182410",
     "exception": false,
     "start_time": "2025-07-30T21:39:17.154018",
     "status": "completed"
    },
    "tags": []
   },
   "outputs": [],
   "source": [
    "import json\n",
    "# Parse universe into dict if it is passed as a string\n",
    "if isinstance(universe, str):\n",
    "    universe = json.loads(universe)"
   ]
  },
  {
   "cell_type": "code",
   "execution_count": 6,
   "id": "16620c48",
   "metadata": {
    "execution": {
     "iopub.execute_input": "2025-07-30T21:39:17.228083Z",
     "iopub.status.busy": "2025-07-30T21:39:17.227619Z",
     "iopub.status.idle": "2025-07-30T21:39:17.270339Z",
     "shell.execute_reply": "2025-07-30T21:39:17.269626Z"
    },
    "papermill": {
     "duration": 0.066649,
     "end_time": "2025-07-30T21:39:17.272205",
     "exception": false,
     "start_time": "2025-07-30T21:39:17.205556",
     "status": "completed"
    },
    "tags": []
   },
   "outputs": [],
   "source": [
    "# Auto-reload the custom package\n",
    "%load_ext autoreload\n",
    "%autoreload 1\n",
    "%aimport fairness_multiverse"
   ]
  },
  {
   "cell_type": "code",
   "execution_count": 7,
   "id": "01c5c9f3",
   "metadata": {
    "execution": {
     "iopub.execute_input": "2025-07-30T21:39:17.340554Z",
     "iopub.status.busy": "2025-07-30T21:39:17.339988Z",
     "iopub.status.idle": "2025-07-30T21:39:19.210024Z",
     "shell.execute_reply": "2025-07-30T21:39:19.209271Z"
    },
    "papermill": {
     "duration": 1.898992,
     "end_time": "2025-07-30T21:39:19.211417",
     "exception": false,
     "start_time": "2025-07-30T21:39:17.312425",
     "status": "completed"
    },
    "tags": []
   },
   "outputs": [],
   "source": [
    "from fairness_multiverse.universe import UniverseAnalysis\n",
    "\n",
    "universe_analysis = UniverseAnalysis(\n",
    "    run_no = run_no,\n",
    "    universe_id = universe_id,\n",
    "    universe = universe,\n",
    "    output_dir=output_dir,\n",
    ")"
   ]
  },
  {
   "cell_type": "code",
   "execution_count": 8,
   "id": "106241f5",
   "metadata": {
    "execution": {
     "iopub.execute_input": "2025-07-30T21:39:19.238067Z",
     "iopub.status.busy": "2025-07-30T21:39:19.237736Z",
     "iopub.status.idle": "2025-07-30T21:39:19.243223Z",
     "shell.execute_reply": "2025-07-30T21:39:19.242306Z"
    },
    "papermill": {
     "duration": 0.022113,
     "end_time": "2025-07-30T21:39:19.244794",
     "exception": false,
     "start_time": "2025-07-30T21:39:19.222681",
     "status": "completed"
    },
    "tags": []
   },
   "outputs": [
    {
     "name": "stdout",
     "output_type": "stream",
     "text": [
      "Using Seed: 2023\n"
     ]
    }
   ],
   "source": [
    "import numpy as np\n",
    "parsed_seed = int(seed)\n",
    "np.random.seed(parsed_seed)\n",
    "print(f\"Using Seed: {parsed_seed}\")"
   ]
  },
  {
   "cell_type": "markdown",
   "id": "e0ebdc57",
   "metadata": {
    "papermill": {
     "duration": 0.012493,
     "end_time": "2025-07-30T21:39:19.268584",
     "exception": false,
     "start_time": "2025-07-30T21:39:19.256091",
     "status": "completed"
    },
    "tags": []
   },
   "source": [
    "# Loading Data"
   ]
  },
  {
   "cell_type": "markdown",
   "id": "681925a3",
   "metadata": {
    "papermill": {
     "duration": 0.021352,
     "end_time": "2025-07-30T21:39:19.311410",
     "exception": false,
     "start_time": "2025-07-30T21:39:19.290058",
     "status": "completed"
    },
    "tags": []
   },
   "source": [
    "Load siab_train, siab_test, siab_calib and/or \n",
    "load siab_train_features, siab_train_labels"
   ]
  },
  {
   "cell_type": "code",
   "execution_count": 9,
   "id": "f0496b8a",
   "metadata": {
    "execution": {
     "iopub.execute_input": "2025-07-30T21:39:19.348164Z",
     "iopub.status.busy": "2025-07-30T21:39:19.347768Z",
     "iopub.status.idle": "2025-07-30T21:39:31.198356Z",
     "shell.execute_reply": "2025-07-30T21:39:31.197229Z"
    },
    "papermill": {
     "duration": 11.868237,
     "end_time": "2025-07-30T21:39:31.200131",
     "exception": false,
     "start_time": "2025-07-30T21:39:19.331894",
     "status": "completed"
    },
    "tags": []
   },
   "outputs": [
    {
     "name": "stdout",
     "output_type": "stream",
     "text": [
      "Loading SIAB data from cache: data/siab_cached.csv.gz\n"
     ]
    },
    {
     "name": "stdout",
     "output_type": "stream",
     "text": [
      "(643690, 164)\n"
     ]
    }
   ],
   "source": [
    "from pathlib import Path\n",
    "import pandas as pd\n",
    "\n",
    "# File paths\n",
    "raw_file = Path(\"data/raw/siab.csv\")\n",
    "cache_file = Path(\"data/siab_cached.csv.gz\")\n",
    "\n",
    "# Ensure cache directory exists\n",
    "cache_file.parent.mkdir(parents=True, exist_ok=True)\n",
    "\n",
    "# Load with simple caching\n",
    "if cache_file.exists():\n",
    "    print(f\"Loading SIAB data from cache: {cache_file}\")\n",
    "    siab = pd.read_csv(cache_file, compression='gzip')\n",
    "else:\n",
    "    print(f\"Cache not found. Reading raw SIAB data: {raw_file}\")\n",
    "    siab = pd.read_csv(raw_file)\n",
    "    siab.to_csv(cache_file, index=False, compression='gzip')\n",
    "    print(f\"Cached SIAB data to: {cache_file}\")\n",
    "\n",
    "# Now use `siab` DataFrame as needed\n",
    "print(siab.shape)"
   ]
  },
  {
   "cell_type": "code",
   "execution_count": 10,
   "id": "db0ca512-5f53-4dba-abdb-a2888bca41ba",
   "metadata": {
    "execution": {
     "iopub.execute_input": "2025-07-30T21:39:31.246881Z",
     "iopub.status.busy": "2025-07-30T21:39:31.246366Z",
     "iopub.status.idle": "2025-07-30T21:39:31.252609Z",
     "shell.execute_reply": "2025-07-30T21:39:31.251632Z"
    },
    "papermill": {
     "duration": 0.03069,
     "end_time": "2025-07-30T21:39:31.254518",
     "exception": false,
     "start_time": "2025-07-30T21:39:31.223828",
     "status": "completed"
    },
    "tags": []
   },
   "outputs": [],
   "source": [
    "#siab"
   ]
  },
  {
   "cell_type": "code",
   "execution_count": 11,
   "id": "a0edb063",
   "metadata": {
    "execution": {
     "iopub.execute_input": "2025-07-30T21:39:31.297319Z",
     "iopub.status.busy": "2025-07-30T21:39:31.296856Z",
     "iopub.status.idle": "2025-07-30T21:39:31.302301Z",
     "shell.execute_reply": "2025-07-30T21:39:31.301266Z"
    },
    "papermill": {
     "duration": 0.029281,
     "end_time": "2025-07-30T21:39:31.304617",
     "exception": false,
     "start_time": "2025-07-30T21:39:31.275336",
     "status": "completed"
    },
    "tags": []
   },
   "outputs": [],
   "source": [
    "#import pandas as pd\n",
    "#\n",
    "#X_train = pd.read_csv(\"./data/X_train.csv\")\n",
    "#y_train = pd.read_csv(\"./data/y_train.csv\")"
   ]
  },
  {
   "cell_type": "code",
   "execution_count": 12,
   "id": "63d08085",
   "metadata": {
    "execution": {
     "iopub.execute_input": "2025-07-30T21:39:31.353854Z",
     "iopub.status.busy": "2025-07-30T21:39:31.353363Z",
     "iopub.status.idle": "2025-07-30T21:39:31.359021Z",
     "shell.execute_reply": "2025-07-30T21:39:31.357732Z"
    },
    "papermill": {
     "duration": 0.031904,
     "end_time": "2025-07-30T21:39:31.361286",
     "exception": false,
     "start_time": "2025-07-30T21:39:31.329382",
     "status": "completed"
    },
    "tags": []
   },
   "outputs": [],
   "source": [
    "#X_test = pd.read_csv(\"./data/X_test.csv\")\n",
    "#y_true = pd.read_csv(\"./data/y_test.csv\")"
   ]
  },
  {
   "cell_type": "code",
   "execution_count": 13,
   "id": "98a8d0fa-1d3d-4ed8-bb2c-281470e24add",
   "metadata": {
    "execution": {
     "iopub.execute_input": "2025-07-30T21:39:31.413904Z",
     "iopub.status.busy": "2025-07-30T21:39:31.413173Z",
     "iopub.status.idle": "2025-07-30T21:39:31.419292Z",
     "shell.execute_reply": "2025-07-30T21:39:31.418056Z"
    },
    "papermill": {
     "duration": 0.033652,
     "end_time": "2025-07-30T21:39:31.421268",
     "exception": false,
     "start_time": "2025-07-30T21:39:31.387616",
     "status": "completed"
    },
    "tags": []
   },
   "outputs": [],
   "source": [
    "# Calibration data for conformal\n",
    "#X_calib = pd.read_csv(\"./data/X_calib.csv\")\n",
    "#y_calib = pd.read_csv(\"./data/y_calib.csv\")"
   ]
  },
  {
   "cell_type": "markdown",
   "id": "997051c5-15bd-4b69-9786-c3001a3ce484",
   "metadata": {
    "papermill": {
     "duration": 0.02268,
     "end_time": "2025-07-30T21:39:31.465398",
     "exception": false,
     "start_time": "2025-07-30T21:39:31.442718",
     "status": "completed"
    },
    "tags": []
   },
   "source": [
    "# Splitting Data and Setting Training Data Size"
   ]
  },
  {
   "cell_type": "code",
   "execution_count": 14,
   "id": "e993b61f-042d-41a6-8c81-f55681f86335",
   "metadata": {
    "execution": {
     "iopub.execute_input": "2025-07-30T21:39:31.512172Z",
     "iopub.status.busy": "2025-07-30T21:39:31.511632Z",
     "iopub.status.idle": "2025-07-30T21:39:31.525664Z",
     "shell.execute_reply": "2025-07-30T21:39:31.524261Z"
    },
    "papermill": {
     "duration": 0.040823,
     "end_time": "2025-07-30T21:39:31.527849",
     "exception": false,
     "start_time": "2025-07-30T21:39:31.487026",
     "status": "completed"
    },
    "tags": []
   },
   "outputs": [],
   "source": [
    "def sample_by_year_size(df,\n",
    "                        training_year: str,\n",
    "                        training_size: str,\n",
    "                        random_state: int = 42):\n",
    "    # --- parse training_year into a list of int years ---\n",
    "    if \"_\" in training_year:\n",
    "        start_str, end_str = training_year.split(\"_\", 1)\n",
    "        start = int(start_str)\n",
    "        end   = int(end_str) if len(end_str) == 4 else (int(end_str) + (start // 100)*100)\n",
    "        years = list(range(start, end + 1))\n",
    "    else:\n",
    "        years = [int(training_year)]\n",
    "\n",
    "    df = df[df[\"year\"].isin(years)].reset_index(drop=True)\n",
    "\n",
    "    # --- map training_size to total number of samples ---\n",
    "    total_map = {\"25k\": 25_000, \"5k\": 5_000, \"1k\": 1_000}\n",
    "    if training_size not in total_map:\n",
    "        return df  # e.g. \"all\"\n",
    "\n",
    "    total_samples = total_map[training_size]\n",
    "    n_years       = len(years)\n",
    "    base          = total_samples // n_years\n",
    "    remainder     = total_samples % n_years\n",
    "\n",
    "    # --- build a dict: year -> how many to sample ---\n",
    "    # give +1 to the first `remainder` years in ascending order\n",
    "    quotas = {\n",
    "        year: base + (1 if idx < remainder else 0)\n",
    "        for idx, year in enumerate(sorted(years))\n",
    "    }\n",
    "\n",
    "    # --- sample per‐year according to the quota dict ---\n",
    "    sampled = (\n",
    "        df\n",
    "        .groupby(\"year\", group_keys=False)\n",
    "        .apply(lambda grp: grp.sample(\n",
    "            n=min(len(grp), quotas[grp.name]),\n",
    "            random_state=random_state))\n",
    "        .reset_index(drop=True)\n",
    "    )\n",
    "\n",
    "    return sampled"
   ]
  },
  {
   "cell_type": "code",
   "execution_count": 15,
   "id": "c0ccd338-0e02-41f3-a09d-f56f9266e3fb",
   "metadata": {
    "execution": {
     "iopub.execute_input": "2025-07-30T21:39:31.579939Z",
     "iopub.status.busy": "2025-07-30T21:39:31.579448Z",
     "iopub.status.idle": "2025-07-30T21:39:31.585543Z",
     "shell.execute_reply": "2025-07-30T21:39:31.584225Z"
    },
    "papermill": {
     "duration": 0.032299,
     "end_time": "2025-07-30T21:39:31.587466",
     "exception": false,
     "start_time": "2025-07-30T21:39:31.555167",
     "status": "completed"
    },
    "tags": []
   },
   "outputs": [],
   "source": [
    "#universe[\"training_size\"]"
   ]
  },
  {
   "cell_type": "code",
   "execution_count": 16,
   "id": "ca707fd7-8047-4acd-bfa5-66248fbbf8e6",
   "metadata": {
    "execution": {
     "iopub.execute_input": "2025-07-30T21:39:31.634660Z",
     "iopub.status.busy": "2025-07-30T21:39:31.633210Z",
     "iopub.status.idle": "2025-07-30T21:39:31.640955Z",
     "shell.execute_reply": "2025-07-30T21:39:31.639623Z"
    },
    "papermill": {
     "duration": 0.034556,
     "end_time": "2025-07-30T21:39:31.645439",
     "exception": false,
     "start_time": "2025-07-30T21:39:31.610883",
     "status": "completed"
    },
    "tags": []
   },
   "outputs": [],
   "source": [
    "#universe[\"training_year\"]"
   ]
  },
  {
   "cell_type": "code",
   "execution_count": 17,
   "id": "aea9c6ef-6f46-42c8-85eb-5a62025c1508",
   "metadata": {
    "execution": {
     "iopub.execute_input": "2025-07-30T21:39:31.694803Z",
     "iopub.status.busy": "2025-07-30T21:39:31.693890Z",
     "iopub.status.idle": "2025-07-30T21:39:32.317361Z",
     "shell.execute_reply": "2025-07-30T21:39:32.316220Z"
    },
    "papermill": {
     "duration": 0.650422,
     "end_time": "2025-07-30T21:39:32.319398",
     "exception": false,
     "start_time": "2025-07-30T21:39:31.668976",
     "status": "completed"
    },
    "tags": []
   },
   "outputs": [],
   "source": [
    "siab_train = sample_by_year_size(siab,\n",
    "                               training_year=universe[\"training_year\"],\n",
    "                               training_size=universe[\"training_size\"])"
   ]
  },
  {
   "cell_type": "code",
   "execution_count": 18,
   "id": "8d3afb32-789d-442c-8d5d-9f5aa8dd2eed",
   "metadata": {
    "execution": {
     "iopub.execute_input": "2025-07-30T21:39:32.363060Z",
     "iopub.status.busy": "2025-07-30T21:39:32.362534Z",
     "iopub.status.idle": "2025-07-30T21:39:32.367731Z",
     "shell.execute_reply": "2025-07-30T21:39:32.366556Z"
    },
    "papermill": {
     "duration": 0.028317,
     "end_time": "2025-07-30T21:39:32.369530",
     "exception": false,
     "start_time": "2025-07-30T21:39:32.341213",
     "status": "completed"
    },
    "tags": []
   },
   "outputs": [],
   "source": [
    "#siab_train.shape"
   ]
  },
  {
   "cell_type": "code",
   "execution_count": 19,
   "id": "d582db68-1a4c-47fb-84fc-08518dc1975a",
   "metadata": {
    "execution": {
     "iopub.execute_input": "2025-07-30T21:39:32.415778Z",
     "iopub.status.busy": "2025-07-30T21:39:32.415215Z",
     "iopub.status.idle": "2025-07-30T21:39:32.421218Z",
     "shell.execute_reply": "2025-07-30T21:39:32.419930Z"
    },
    "papermill": {
     "duration": 0.031997,
     "end_time": "2025-07-30T21:39:32.423420",
     "exception": false,
     "start_time": "2025-07-30T21:39:32.391423",
     "status": "completed"
    },
    "tags": []
   },
   "outputs": [],
   "source": [
    "#display(siab_train.groupby(\"year\").size())"
   ]
  },
  {
   "cell_type": "code",
   "execution_count": 20,
   "id": "a561edb4-d032-42cb-8256-22eac1111c64",
   "metadata": {
    "execution": {
     "iopub.execute_input": "2025-07-30T21:39:32.491573Z",
     "iopub.status.busy": "2025-07-30T21:39:32.490799Z",
     "iopub.status.idle": "2025-07-30T21:39:32.890634Z",
     "shell.execute_reply": "2025-07-30T21:39:32.889589Z"
    },
    "papermill": {
     "duration": 0.435744,
     "end_time": "2025-07-30T21:39:32.892756",
     "exception": false,
     "start_time": "2025-07-30T21:39:32.457012",
     "status": "completed"
    },
    "tags": []
   },
   "outputs": [],
   "source": [
    "#siab_train = siab_s[siab_s.year < 2015]\n",
    "siab_calib = siab[siab.year == 2015]\n",
    "siab_test = siab[siab.year == 2016]"
   ]
  },
  {
   "cell_type": "code",
   "execution_count": 21,
   "id": "472de16f-c3db-4916-846b-1f0de9cf1746",
   "metadata": {
    "execution": {
     "iopub.execute_input": "2025-07-30T21:39:32.941894Z",
     "iopub.status.busy": "2025-07-30T21:39:32.941248Z",
     "iopub.status.idle": "2025-07-30T21:39:32.949395Z",
     "shell.execute_reply": "2025-07-30T21:39:32.948191Z"
    },
    "papermill": {
     "duration": 0.033984,
     "end_time": "2025-07-30T21:39:32.951210",
     "exception": false,
     "start_time": "2025-07-30T21:39:32.917226",
     "status": "completed"
    },
    "tags": []
   },
   "outputs": [],
   "source": [
    "X_train = siab_train.iloc[:,4:164]\n",
    "y_train = siab_train.iloc[:, [3]]"
   ]
  },
  {
   "cell_type": "code",
   "execution_count": 22,
   "id": "828c96af-f43a-4ed6-ba47-8ac73a47d56c",
   "metadata": {
    "execution": {
     "iopub.execute_input": "2025-07-30T21:39:32.998650Z",
     "iopub.status.busy": "2025-07-30T21:39:32.998133Z",
     "iopub.status.idle": "2025-07-30T21:39:33.056350Z",
     "shell.execute_reply": "2025-07-30T21:39:33.055003Z"
    },
    "papermill": {
     "duration": 0.085009,
     "end_time": "2025-07-30T21:39:33.058748",
     "exception": false,
     "start_time": "2025-07-30T21:39:32.973739",
     "status": "completed"
    },
    "tags": []
   },
   "outputs": [],
   "source": [
    "X_calib = siab_calib.iloc[:,4:164]\n",
    "y_calib = siab_calib.iloc[:, [3]]"
   ]
  },
  {
   "cell_type": "code",
   "execution_count": 23,
   "id": "c34be9c3-6bd6-476e-acd3-845840e303be",
   "metadata": {
    "execution": {
     "iopub.execute_input": "2025-07-30T21:39:33.111695Z",
     "iopub.status.busy": "2025-07-30T21:39:33.111008Z",
     "iopub.status.idle": "2025-07-30T21:39:33.174972Z",
     "shell.execute_reply": "2025-07-30T21:39:33.173869Z"
    },
    "papermill": {
     "duration": 0.092007,
     "end_time": "2025-07-30T21:39:33.176917",
     "exception": false,
     "start_time": "2025-07-30T21:39:33.084910",
     "status": "completed"
    },
    "tags": []
   },
   "outputs": [],
   "source": [
    "X_test = siab_test.iloc[:,4:164]\n",
    "y_true = siab_test.iloc[:, [3]]"
   ]
  },
  {
   "cell_type": "markdown",
   "id": "9901737e-04df-44f0-9100-f5ad144ed040",
   "metadata": {
    "papermill": {
     "duration": 0.014925,
     "end_time": "2025-07-30T21:39:33.210934",
     "exception": false,
     "start_time": "2025-07-30T21:39:33.196009",
     "status": "completed"
    },
    "tags": []
   },
   "source": [
    "# Splitting Data and Setting Training Data Size OLD VERSION"
   ]
  },
  {
   "cell_type": "code",
   "execution_count": 24,
   "id": "acbc8f7d-8fc8-4e86-8c59-5dcb0f58384b",
   "metadata": {
    "execution": {
     "iopub.execute_input": "2025-07-30T21:39:33.239027Z",
     "iopub.status.busy": "2025-07-30T21:39:33.238551Z",
     "iopub.status.idle": "2025-07-30T21:39:33.245294Z",
     "shell.execute_reply": "2025-07-30T21:39:33.243950Z"
    },
    "papermill": {
     "duration": 0.023312,
     "end_time": "2025-07-30T21:39:33.247684",
     "exception": false,
     "start_time": "2025-07-30T21:39:33.224372",
     "status": "completed"
    },
    "tags": []
   },
   "outputs": [],
   "source": [
    "#def sample_by_year(df, training_size, random_state=42):\n",
    "#    if training_size == \"2014\":\n",
    "#        return df[df[\"year\"] == 2014].reset_index(drop=True)\n",
    "#    \n",
    "#    size_map = {\n",
    "#        \"25k\": 5000,\n",
    "#        \"5k\": 1000,\n",
    "#        \"1k\": 200\n",
    "#    }\n",
    "#\n",
    "#    if training_size not in size_map:\n",
    "#        return df.reset_index(drop=True)  # use all data\n",
    "#\n",
    "#    n_per_year = size_map[training_size]\n",
    "#    grouped = df.groupby(\"year\")\n",
    "#    sampled = grouped.apply(lambda x: x.sample(n=min(n_per_year, len(x)), random_state=random_state))\n",
    "#    return sampled.reset_index(drop=True)"
   ]
  },
  {
   "cell_type": "code",
   "execution_count": 25,
   "id": "6d931f52-beaf-43ff-9e78-9d44a448d54e",
   "metadata": {
    "execution": {
     "iopub.execute_input": "2025-07-30T21:39:33.314307Z",
     "iopub.status.busy": "2025-07-30T21:39:33.313534Z",
     "iopub.status.idle": "2025-07-30T21:39:33.319451Z",
     "shell.execute_reply": "2025-07-30T21:39:33.318262Z"
    },
    "papermill": {
     "duration": 0.041302,
     "end_time": "2025-07-30T21:39:33.321409",
     "exception": false,
     "start_time": "2025-07-30T21:39:33.280107",
     "status": "completed"
    },
    "tags": []
   },
   "outputs": [],
   "source": [
    "#siab_s = sample_by_year(siab, universe[\"training_size\"])"
   ]
  },
  {
   "cell_type": "code",
   "execution_count": 26,
   "id": "5db0a40e-a4e2-4920-be85-b12ae061d70d",
   "metadata": {
    "execution": {
     "iopub.execute_input": "2025-07-30T21:39:33.370875Z",
     "iopub.status.busy": "2025-07-30T21:39:33.370224Z",
     "iopub.status.idle": "2025-07-30T21:39:33.375463Z",
     "shell.execute_reply": "2025-07-30T21:39:33.374464Z"
    },
    "papermill": {
     "duration": 0.031228,
     "end_time": "2025-07-30T21:39:33.377291",
     "exception": false,
     "start_time": "2025-07-30T21:39:33.346063",
     "status": "completed"
    },
    "tags": []
   },
   "outputs": [],
   "source": [
    "#display(siab_s.groupby(\"year\").size())"
   ]
  },
  {
   "cell_type": "code",
   "execution_count": 27,
   "id": "e6c733c5",
   "metadata": {
    "execution": {
     "iopub.execute_input": "2025-07-30T21:39:33.427529Z",
     "iopub.status.busy": "2025-07-30T21:39:33.426619Z",
     "iopub.status.idle": "2025-07-30T21:39:33.537078Z",
     "shell.execute_reply": "2025-07-30T21:39:33.535461Z"
    },
    "papermill": {
     "duration": 0.14058,
     "end_time": "2025-07-30T21:39:33.541225",
     "exception": false,
     "start_time": "2025-07-30T21:39:33.400645",
     "status": "completed"
    },
    "tags": []
   },
   "outputs": [],
   "source": [
    "# Auxiliary data needed downstream in the pipeline\n",
    "\n",
    "org_train = X_train.copy()\n",
    "org_test = X_test.copy()\n",
    "org_calib = X_calib.copy()"
   ]
  },
  {
   "cell_type": "code",
   "execution_count": 28,
   "id": "1466abac-c6da-4492-a62f-4240ae3783af",
   "metadata": {
    "execution": {
     "iopub.execute_input": "2025-07-30T21:39:33.589128Z",
     "iopub.status.busy": "2025-07-30T21:39:33.588369Z",
     "iopub.status.idle": "2025-07-30T21:39:33.594817Z",
     "shell.execute_reply": "2025-07-30T21:39:33.593749Z"
    },
    "papermill": {
     "duration": 0.032687,
     "end_time": "2025-07-30T21:39:33.596692",
     "exception": false,
     "start_time": "2025-07-30T21:39:33.564005",
     "status": "completed"
    },
    "tags": []
   },
   "outputs": [],
   "source": [
    "# put in other script?\n",
    "# Group sizes\n",
    "\n",
    "#def calculate_percentages(df, df_name):\n",
    "#    total_entries = len(df)\n",
    "#\n",
    "#    female_pct = (df['frau1'] == 1).mean() * 100\n",
    "#    non_german_pct = ((df['maxdeutsch1'] == 0) & (df['maxdeutsch.Missing.'] == 0)).mean() * 100\n",
    "#    non_german_male_pct = ((df['frau1'] == 0) & (df['maxdeutsch1'] == 0) & (df['maxdeutsch.Missing.'] == 0)).mean() * 100\n",
    "#    non_german_female_pct = ((df['frau1'] == 1) & (df['maxdeutsch1'] == 0) & (df['maxdeutsch.Missing.'] == 0)).mean() * 100\n",
    "#\n",
    "#    print(f\"--- {df_name} ---\")\n",
    "#    print(f\"Female: {female_pct:.2f}%\")\n",
    "#    print(f\"Non-German: {non_german_pct:.2f}%\")\n",
    "#    print(f\"Non-German Male: {non_german_male_pct:.2f}%\")\n",
    "#    print(f\"Non-German Female: {non_german_female_pct:.2f}%\\n\")\n",
    "#\n",
    "## Calculate for each DataFrame\n",
    "#calculate_percentages(siab_calib, \"siab_calib\")\n",
    "#calculate_percentages(siab_test, \"siab_test\")\n",
    "#calculate_percentages(siab_train, \"siab_train\")"
   ]
  },
  {
   "cell_type": "markdown",
   "id": "0a4a1b33",
   "metadata": {
    "papermill": {
     "duration": 0.024249,
     "end_time": "2025-07-30T21:39:33.646395",
     "exception": false,
     "start_time": "2025-07-30T21:39:33.622146",
     "status": "completed"
    },
    "tags": []
   },
   "source": [
    "# Preprocessing Data"
   ]
  },
  {
   "cell_type": "code",
   "execution_count": 29,
   "id": "ca879031",
   "metadata": {
    "execution": {
     "iopub.execute_input": "2025-07-30T21:39:33.698195Z",
     "iopub.status.busy": "2025-07-30T21:39:33.697509Z",
     "iopub.status.idle": "2025-07-30T21:39:33.704303Z",
     "shell.execute_reply": "2025-07-30T21:39:33.703255Z"
    },
    "papermill": {
     "duration": 0.035318,
     "end_time": "2025-07-30T21:39:33.706209",
     "exception": false,
     "start_time": "2025-07-30T21:39:33.670891",
     "status": "completed"
    },
    "tags": []
   },
   "outputs": [],
   "source": [
    "# EXCLUDE PROTECTED FEATURES\n",
    "# ----------------------\n",
    "# \"exclude_features\": \"none\", # \"nationality\", \"sex\", \"nationality-sex\"\n",
    "\n",
    "excluded_features = universe[\"exclude_features\"].split(\"-\") # split, e.g.: \"nationality-sex\" -> [\"nationality\", \"sex\"]\n",
    "excluded_features_dictionary = {\n",
    "    \"nationality\": [\"maxdeutsch1\", \"maxdeutsch.Missing.\"],\n",
    "    \"sex\": [\"frau1\"],\n",
    "    \"age\": [\"age\"],\n",
    "}\n"
   ]
  },
  {
   "cell_type": "code",
   "execution_count": 30,
   "id": "b745ac60",
   "metadata": {
    "execution": {
     "iopub.execute_input": "2025-07-30T21:39:33.773986Z",
     "iopub.status.busy": "2025-07-30T21:39:33.773330Z",
     "iopub.status.idle": "2025-07-30T21:39:33.780129Z",
     "shell.execute_reply": "2025-07-30T21:39:33.779034Z"
    },
    "papermill": {
     "duration": 0.03395,
     "end_time": "2025-07-30T21:39:33.782253",
     "exception": false,
     "start_time": "2025-07-30T21:39:33.748303",
     "status": "completed"
    },
    "tags": []
   },
   "outputs": [],
   "source": [
    "# Code nice names to column names\n",
    "\n",
    "excluded_features_columns = [\n",
    "    excluded_features_dictionary[f] for f in excluded_features if len(f) > 0 and f != \"none\"\n",
    "]"
   ]
  },
  {
   "cell_type": "code",
   "execution_count": 31,
   "id": "f84f73a2",
   "metadata": {
    "execution": {
     "iopub.execute_input": "2025-07-30T21:39:33.836521Z",
     "iopub.status.busy": "2025-07-30T21:39:33.835978Z",
     "iopub.status.idle": "2025-07-30T21:39:33.843365Z",
     "shell.execute_reply": "2025-07-30T21:39:33.841918Z"
    },
    "papermill": {
     "duration": 0.037364,
     "end_time": "2025-07-30T21:39:33.844965",
     "exception": false,
     "start_time": "2025-07-30T21:39:33.807601",
     "status": "completed"
    },
    "tags": []
   },
   "outputs": [],
   "source": [
    "from utils import flatten_once\n",
    "\n",
    "excluded_features_columns = flatten_once(excluded_features_columns)"
   ]
  },
  {
   "cell_type": "code",
   "execution_count": 32,
   "id": "884dea22",
   "metadata": {
    "execution": {
     "iopub.execute_input": "2025-07-30T21:39:33.893857Z",
     "iopub.status.busy": "2025-07-30T21:39:33.893324Z",
     "iopub.status.idle": "2025-07-30T21:39:33.901688Z",
     "shell.execute_reply": "2025-07-30T21:39:33.900765Z"
    },
    "papermill": {
     "duration": 0.034777,
     "end_time": "2025-07-30T21:39:33.903283",
     "exception": false,
     "start_time": "2025-07-30T21:39:33.868506",
     "status": "completed"
    },
    "tags": []
   },
   "outputs": [
    {
     "name": "stdout",
     "output_type": "stream",
     "text": [
      "Dropping features: ['maxdeutsch1', 'maxdeutsch.Missing.']\n"
     ]
    }
   ],
   "source": [
    "if len(excluded_features_columns) > 0:\n",
    "    print(f\"Dropping features: {excluded_features_columns}\")\n",
    "    X_train.drop(excluded_features_columns, axis=1, inplace=True)"
   ]
  },
  {
   "cell_type": "code",
   "execution_count": 33,
   "id": "95ab8b16",
   "metadata": {
    "execution": {
     "iopub.execute_input": "2025-07-30T21:39:33.949667Z",
     "iopub.status.busy": "2025-07-30T21:39:33.948807Z",
     "iopub.status.idle": "2025-07-30T21:39:34.008605Z",
     "shell.execute_reply": "2025-07-30T21:39:34.007360Z"
    },
    "papermill": {
     "duration": 0.083928,
     "end_time": "2025-07-30T21:39:34.010245",
     "exception": false,
     "start_time": "2025-07-30T21:39:33.926317",
     "status": "completed"
    },
    "tags": []
   },
   "outputs": [
    {
     "name": "stdout",
     "output_type": "stream",
     "text": [
      "Dropping features: ['maxdeutsch1', 'maxdeutsch.Missing.']\n"
     ]
    }
   ],
   "source": [
    "if len(excluded_features_columns) > 0:\n",
    "    print(f\"Dropping features: {excluded_features_columns}\")\n",
    "    X_test.drop(excluded_features_columns, axis=1, inplace=True)"
   ]
  },
  {
   "cell_type": "code",
   "execution_count": 34,
   "id": "1853aaf5-fb9f-46cb-a2b5-8ea4ae2237e4",
   "metadata": {
    "execution": {
     "iopub.execute_input": "2025-07-30T21:39:34.057914Z",
     "iopub.status.busy": "2025-07-30T21:39:34.057366Z",
     "iopub.status.idle": "2025-07-30T21:39:34.111653Z",
     "shell.execute_reply": "2025-07-30T21:39:34.110418Z"
    },
    "papermill": {
     "duration": 0.080672,
     "end_time": "2025-07-30T21:39:34.113484",
     "exception": false,
     "start_time": "2025-07-30T21:39:34.032812",
     "status": "completed"
    },
    "tags": []
   },
   "outputs": [
    {
     "name": "stdout",
     "output_type": "stream",
     "text": [
      "Dropping features: ['maxdeutsch1', 'maxdeutsch.Missing.']\n"
     ]
    }
   ],
   "source": [
    "if len(excluded_features_columns) > 0:\n",
    "    print(f\"Dropping features: {excluded_features_columns}\")\n",
    "    X_calib.drop(excluded_features_columns, axis=1, inplace=True)"
   ]
  },
  {
   "cell_type": "code",
   "execution_count": 35,
   "id": "6727d079-03e5-481e-9d38-292a90b7a0a8",
   "metadata": {
    "execution": {
     "iopub.execute_input": "2025-07-30T21:39:34.159600Z",
     "iopub.status.busy": "2025-07-30T21:39:34.159014Z",
     "iopub.status.idle": "2025-07-30T21:39:34.163358Z",
     "shell.execute_reply": "2025-07-30T21:39:34.162395Z"
    },
    "papermill": {
     "duration": 0.029022,
     "end_time": "2025-07-30T21:39:34.164963",
     "exception": false,
     "start_time": "2025-07-30T21:39:34.135941",
     "status": "completed"
    },
    "tags": []
   },
   "outputs": [],
   "source": [
    "# SPLIT & STRATIFY DATA\n",
    "# ----------------------"
   ]
  },
  {
   "cell_type": "code",
   "execution_count": 36,
   "id": "76c4dc6d",
   "metadata": {
    "execution": {
     "iopub.execute_input": "2025-07-30T21:39:34.212008Z",
     "iopub.status.busy": "2025-07-30T21:39:34.211513Z",
     "iopub.status.idle": "2025-07-30T21:39:34.217377Z",
     "shell.execute_reply": "2025-07-30T21:39:34.216478Z"
    },
    "papermill": {
     "duration": 0.030794,
     "end_time": "2025-07-30T21:39:34.219147",
     "exception": false,
     "start_time": "2025-07-30T21:39:34.188353",
     "status": "completed"
    },
    "tags": []
   },
   "outputs": [],
   "source": [
    "# EXCLUDE CERTAIN SUBGROUPS\n",
    "# ----------------------\n",
    "\n",
    "mode = universe.get(\"exclude_subgroups\", \"keep-all\") \n",
    "# Fetches the exclude_subgroups setting from the universe dict.\n",
    "# Defaults to \"keep-all\" if the key is missing."
   ]
  },
  {
   "cell_type": "code",
   "execution_count": 37,
   "id": "21994072",
   "metadata": {
    "execution": {
     "iopub.execute_input": "2025-07-30T21:39:34.268905Z",
     "iopub.status.busy": "2025-07-30T21:39:34.268014Z",
     "iopub.status.idle": "2025-07-30T21:39:34.275327Z",
     "shell.execute_reply": "2025-07-30T21:39:34.274329Z"
    },
    "papermill": {
     "duration": 0.034363,
     "end_time": "2025-07-30T21:39:34.277155",
     "exception": false,
     "start_time": "2025-07-30T21:39:34.242792",
     "status": "completed"
    },
    "tags": []
   },
   "outputs": [],
   "source": [
    "if mode == \"keep-all\":\n",
    "    keep_mask = pd.Series(True, index=org_train.index)\n",
    "\n",
    "# org_train contains the original feature columns from features_org (in Simson)\n",
    "# features_org contains unprocessed features, for me X_train at beginning ???\n",
    "# For keep-all, creates a boolean Series (keep_mask) of all True, so no rows are removed.\n",
    "\n",
    "elif mode == \"drop-non-german\":\n",
    "    keep_mask = org_train[\"maxdeutsch1\"] == 1 # ??? what about missing values?\n",
    "\n",
    "else:\n",
    "    raise ValueError(f\"Unsupported mode for exclude_subgroups: {mode}\")\n"
   ]
  },
  {
   "cell_type": "code",
   "execution_count": 38,
   "id": "71651440",
   "metadata": {
    "execution": {
     "iopub.execute_input": "2025-07-30T21:39:34.324307Z",
     "iopub.status.busy": "2025-07-30T21:39:34.323795Z",
     "iopub.status.idle": "2025-07-30T21:39:34.331054Z",
     "shell.execute_reply": "2025-07-30T21:39:34.330258Z"
    },
    "papermill": {
     "duration": 0.032108,
     "end_time": "2025-07-30T21:39:34.332570",
     "exception": false,
     "start_time": "2025-07-30T21:39:34.300462",
     "status": "completed"
    },
    "tags": []
   },
   "outputs": [
    {
     "name": "stdout",
     "output_type": "stream",
     "text": [
      "Dropping 147 rows (14.70%) where mode='drop-non-german'\n"
     ]
    }
   ],
   "source": [
    "n_drop = (~keep_mask).sum() # Calculates how many rows are set to be dropped\n",
    "if n_drop > 0:\n",
    "    pct = n_drop / len(keep_mask) * 100\n",
    "    print(f\"Dropping {n_drop} rows ({pct:.2f}%) where mode='{mode}'\")"
   ]
  },
  {
   "cell_type": "code",
   "execution_count": 39,
   "id": "5fb8eee5",
   "metadata": {
    "execution": {
     "iopub.execute_input": "2025-07-30T21:39:34.383332Z",
     "iopub.status.busy": "2025-07-30T21:39:34.382942Z",
     "iopub.status.idle": "2025-07-30T21:39:34.389359Z",
     "shell.execute_reply": "2025-07-30T21:39:34.388435Z"
    },
    "papermill": {
     "duration": 0.033835,
     "end_time": "2025-07-30T21:39:34.390593",
     "exception": false,
     "start_time": "2025-07-30T21:39:34.356758",
     "status": "completed"
    },
    "tags": []
   },
   "outputs": [],
   "source": [
    "X_train = X_train[keep_mask]"
   ]
  },
  {
   "cell_type": "code",
   "execution_count": 40,
   "id": "b202bb3a",
   "metadata": {
    "execution": {
     "iopub.execute_input": "2025-07-30T21:39:34.418488Z",
     "iopub.status.busy": "2025-07-30T21:39:34.417861Z",
     "iopub.status.idle": "2025-07-30T21:39:34.423412Z",
     "shell.execute_reply": "2025-07-30T21:39:34.422582Z"
    },
    "papermill": {
     "duration": 0.020916,
     "end_time": "2025-07-30T21:39:34.425248",
     "exception": false,
     "start_time": "2025-07-30T21:39:34.404332",
     "status": "completed"
    },
    "tags": []
   },
   "outputs": [],
   "source": [
    "y_train = y_train[keep_mask]"
   ]
  },
  {
   "cell_type": "markdown",
   "id": "493e2ac3",
   "metadata": {
    "papermill": {
     "duration": 0.025973,
     "end_time": "2025-07-30T21:39:34.475535",
     "exception": false,
     "start_time": "2025-07-30T21:39:34.449562",
     "status": "completed"
    },
    "tags": []
   },
   "source": [
    "# Model Training"
   ]
  },
  {
   "cell_type": "code",
   "execution_count": 41,
   "id": "679e1268",
   "metadata": {
    "execution": {
     "iopub.execute_input": "2025-07-30T21:39:34.523237Z",
     "iopub.status.busy": "2025-07-30T21:39:34.522675Z",
     "iopub.status.idle": "2025-07-30T21:39:34.637455Z",
     "shell.execute_reply": "2025-07-30T21:39:34.635754Z"
    },
    "papermill": {
     "duration": 0.140849,
     "end_time": "2025-07-30T21:39:34.639294",
     "exception": false,
     "start_time": "2025-07-30T21:39:34.498445",
     "status": "completed"
    },
    "tags": []
   },
   "outputs": [],
   "source": [
    "from sklearn.linear_model import LogisticRegression\n",
    "from sklearn.ensemble import GradientBoostingClassifier, RandomForestClassifier\n",
    "\n",
    "if (universe[\"model\"] == \"logreg\"):\n",
    "    model = LogisticRegression() #penalty=\"none\") #, solver=\"newton-cg\", max_iter=1) # include random_state=19 ?\n",
    "elif (universe[\"model\"] == \"penalized_logreg\"):\n",
    "    model = LogisticRegression(penalty=\"l2\", C=1.0) #, solver=\"newton-cg\", max_iter=1)\n",
    "elif (universe[\"model\"] == \"rf\"):\n",
    "    model = RandomForestClassifier(n_estimators=100, n_jobs=-1)\n",
    "elif (universe[\"model\"] == \"gbm\"):\n",
    "    model = GradientBoostingClassifier()\n",
    "elif (universe[\"model\"] == \"elasticnet\"):\n",
    "    model = LogisticRegression(penalty = 'elasticnet', solver = 'saga', l1_ratio = 0.5, max_iter=5000) # which solver to use?\n",
    "else:\n",
    "    raise \"Unsupported universe.model\""
   ]
  },
  {
   "cell_type": "code",
   "execution_count": 42,
   "id": "0cc8f744",
   "metadata": {
    "execution": {
     "iopub.execute_input": "2025-07-30T21:39:34.688437Z",
     "iopub.status.busy": "2025-07-30T21:39:34.687461Z",
     "iopub.status.idle": "2025-07-30T21:39:34.695079Z",
     "shell.execute_reply": "2025-07-30T21:39:34.693903Z"
    },
    "papermill": {
     "duration": 0.03365,
     "end_time": "2025-07-30T21:39:34.697112",
     "exception": false,
     "start_time": "2025-07-30T21:39:34.663462",
     "status": "completed"
    },
    "tags": []
   },
   "outputs": [],
   "source": [
    "import numpy as np\n",
    "from sklearn.pipeline import Pipeline\n",
    "from sklearn.preprocessing import StandardScaler\n",
    "\n",
    "model = Pipeline([\n",
    "    #(\"continuous_processor\", continuous_processor),\n",
    "    #(\"categorical_preprocessor\", categorical_preprocessor),\n",
    "    (\"scale\", StandardScaler() if universe[\"scale\"] == \"scale\" else None), \n",
    "    (\"model\", model),\n",
    "])"
   ]
  },
  {
   "cell_type": "code",
   "execution_count": 43,
   "id": "9442c04d",
   "metadata": {
    "execution": {
     "iopub.execute_input": "2025-07-30T21:39:34.737801Z",
     "iopub.status.busy": "2025-07-30T21:39:34.737383Z",
     "iopub.status.idle": "2025-07-30T21:39:34.802423Z",
     "shell.execute_reply": "2025-07-30T21:39:34.801629Z"
    },
    "papermill": {
     "duration": 0.082493,
     "end_time": "2025-07-30T21:39:34.803999",
     "exception": false,
     "start_time": "2025-07-30T21:39:34.721506",
     "status": "completed"
    },
    "tags": []
   },
   "outputs": [
    {
     "name": "stderr",
     "output_type": "stream",
     "text": [
      "/dss/dsshome1/0C/ra93lal2/.local/share/virtualenvs/CMA_Fairness_v2-3j10GkSs/lib/python3.10/site-packages/sklearn/linear_model/_logistic.py:444: ConvergenceWarning: lbfgs failed to converge (status=1):\n",
      "STOP: TOTAL NO. of ITERATIONS REACHED LIMIT.\n",
      "\n",
      "Increase the number of iterations (max_iter) or scale the data as shown in:\n",
      "    https://scikit-learn.org/stable/modules/preprocessing.html\n",
      "Please also refer to the documentation for alternative solver options:\n",
      "    https://scikit-learn.org/stable/modules/linear_model.html#logistic-regression\n",
      "  n_iter_i = _check_optimize_result(\n"
     ]
    },
    {
     "data": {
      "text/html": [
       "<style>#sk-container-id-1 {color: black;background-color: white;}#sk-container-id-1 pre{padding: 0;}#sk-container-id-1 div.sk-toggleable {background-color: white;}#sk-container-id-1 label.sk-toggleable__label {cursor: pointer;display: block;width: 100%;margin-bottom: 0;padding: 0.3em;box-sizing: border-box;text-align: center;}#sk-container-id-1 label.sk-toggleable__label-arrow:before {content: \"▸\";float: left;margin-right: 0.25em;color: #696969;}#sk-container-id-1 label.sk-toggleable__label-arrow:hover:before {color: black;}#sk-container-id-1 div.sk-estimator:hover label.sk-toggleable__label-arrow:before {color: black;}#sk-container-id-1 div.sk-toggleable__content {max-height: 0;max-width: 0;overflow: hidden;text-align: left;background-color: #f0f8ff;}#sk-container-id-1 div.sk-toggleable__content pre {margin: 0.2em;color: black;border-radius: 0.25em;background-color: #f0f8ff;}#sk-container-id-1 input.sk-toggleable__control:checked~div.sk-toggleable__content {max-height: 200px;max-width: 100%;overflow: auto;}#sk-container-id-1 input.sk-toggleable__control:checked~label.sk-toggleable__label-arrow:before {content: \"▾\";}#sk-container-id-1 div.sk-estimator input.sk-toggleable__control:checked~label.sk-toggleable__label {background-color: #d4ebff;}#sk-container-id-1 div.sk-label input.sk-toggleable__control:checked~label.sk-toggleable__label {background-color: #d4ebff;}#sk-container-id-1 input.sk-hidden--visually {border: 0;clip: rect(1px 1px 1px 1px);clip: rect(1px, 1px, 1px, 1px);height: 1px;margin: -1px;overflow: hidden;padding: 0;position: absolute;width: 1px;}#sk-container-id-1 div.sk-estimator {font-family: monospace;background-color: #f0f8ff;border: 1px dotted black;border-radius: 0.25em;box-sizing: border-box;margin-bottom: 0.5em;}#sk-container-id-1 div.sk-estimator:hover {background-color: #d4ebff;}#sk-container-id-1 div.sk-parallel-item::after {content: \"\";width: 100%;border-bottom: 1px solid gray;flex-grow: 1;}#sk-container-id-1 div.sk-label:hover label.sk-toggleable__label {background-color: #d4ebff;}#sk-container-id-1 div.sk-serial::before {content: \"\";position: absolute;border-left: 1px solid gray;box-sizing: border-box;top: 0;bottom: 0;left: 50%;z-index: 0;}#sk-container-id-1 div.sk-serial {display: flex;flex-direction: column;align-items: center;background-color: white;padding-right: 0.2em;padding-left: 0.2em;position: relative;}#sk-container-id-1 div.sk-item {position: relative;z-index: 1;}#sk-container-id-1 div.sk-parallel {display: flex;align-items: stretch;justify-content: center;background-color: white;position: relative;}#sk-container-id-1 div.sk-item::before, #sk-container-id-1 div.sk-parallel-item::before {content: \"\";position: absolute;border-left: 1px solid gray;box-sizing: border-box;top: 0;bottom: 0;left: 50%;z-index: -1;}#sk-container-id-1 div.sk-parallel-item {display: flex;flex-direction: column;z-index: 1;position: relative;background-color: white;}#sk-container-id-1 div.sk-parallel-item:first-child::after {align-self: flex-end;width: 50%;}#sk-container-id-1 div.sk-parallel-item:last-child::after {align-self: flex-start;width: 50%;}#sk-container-id-1 div.sk-parallel-item:only-child::after {width: 0;}#sk-container-id-1 div.sk-dashed-wrapped {border: 1px dashed gray;margin: 0 0.4em 0.5em 0.4em;box-sizing: border-box;padding-bottom: 0.4em;background-color: white;}#sk-container-id-1 div.sk-label label {font-family: monospace;font-weight: bold;display: inline-block;line-height: 1.2em;}#sk-container-id-1 div.sk-label-container {text-align: center;}#sk-container-id-1 div.sk-container {/* jupyter's `normalize.less` sets `[hidden] { display: none; }` but bootstrap.min.css set `[hidden] { display: none !important; }` so we also need the `!important` here to be able to override the default hidden behavior on the sphinx rendered scikit-learn.org. See: https://github.com/scikit-learn/scikit-learn/issues/21755 */display: inline-block !important;position: relative;}#sk-container-id-1 div.sk-text-repr-fallback {display: none;}</style><div id=\"sk-container-id-1\" class=\"sk-top-container\"><div class=\"sk-text-repr-fallback\"><pre>Pipeline(steps=[(&#x27;scale&#x27;, None), (&#x27;model&#x27;, LogisticRegression())])</pre><b>In a Jupyter environment, please rerun this cell to show the HTML representation or trust the notebook. <br />On GitHub, the HTML representation is unable to render, please try loading this page with nbviewer.org.</b></div><div class=\"sk-container\" hidden><div class=\"sk-item sk-dashed-wrapped\"><div class=\"sk-label-container\"><div class=\"sk-label sk-toggleable\"><input class=\"sk-toggleable__control sk-hidden--visually\" id=\"sk-estimator-id-1\" type=\"checkbox\" ><label for=\"sk-estimator-id-1\" class=\"sk-toggleable__label sk-toggleable__label-arrow\">Pipeline</label><div class=\"sk-toggleable__content\"><pre>Pipeline(steps=[(&#x27;scale&#x27;, None), (&#x27;model&#x27;, LogisticRegression())])</pre></div></div></div><div class=\"sk-serial\"><div class=\"sk-item\"><div class=\"sk-estimator sk-toggleable\"><input class=\"sk-toggleable__control sk-hidden--visually\" id=\"sk-estimator-id-2\" type=\"checkbox\" ><label for=\"sk-estimator-id-2\" class=\"sk-toggleable__label sk-toggleable__label-arrow\">None</label><div class=\"sk-toggleable__content\"><pre>None</pre></div></div></div><div class=\"sk-item\"><div class=\"sk-estimator sk-toggleable\"><input class=\"sk-toggleable__control sk-hidden--visually\" id=\"sk-estimator-id-3\" type=\"checkbox\" ><label for=\"sk-estimator-id-3\" class=\"sk-toggleable__label sk-toggleable__label-arrow\">LogisticRegression</label><div class=\"sk-toggleable__content\"><pre>LogisticRegression()</pre></div></div></div></div></div></div></div>"
      ],
      "text/plain": [
       "Pipeline(steps=[('scale', None), ('model', LogisticRegression())])"
      ]
     },
     "execution_count": 43,
     "metadata": {},
     "output_type": "execute_result"
    }
   ],
   "source": [
    "model.fit(X_train, y_train.values.ravel())"
   ]
  },
  {
   "cell_type": "code",
   "execution_count": 44,
   "id": "af59f8c0",
   "metadata": {
    "execution": {
     "iopub.execute_input": "2025-07-30T21:39:34.851599Z",
     "iopub.status.busy": "2025-07-30T21:39:34.851209Z",
     "iopub.status.idle": "2025-07-30T21:39:34.856372Z",
     "shell.execute_reply": "2025-07-30T21:39:34.855588Z"
    },
    "papermill": {
     "duration": 0.029916,
     "end_time": "2025-07-30T21:39:34.857679",
     "exception": false,
     "start_time": "2025-07-30T21:39:34.827763",
     "status": "completed"
    },
    "tags": []
   },
   "outputs": [],
   "source": [
    "from fairness_multiverse.universe import predict_w_threshold"
   ]
  },
  {
   "cell_type": "code",
   "execution_count": 45,
   "id": "a7cf2e16",
   "metadata": {
    "execution": {
     "iopub.execute_input": "2025-07-30T21:39:34.884490Z",
     "iopub.status.busy": "2025-07-30T21:39:34.883947Z",
     "iopub.status.idle": "2025-07-30T21:39:34.978115Z",
     "shell.execute_reply": "2025-07-30T21:39:34.977182Z"
    },
    "papermill": {
     "duration": 0.10881,
     "end_time": "2025-07-30T21:39:34.979854",
     "exception": false,
     "start_time": "2025-07-30T21:39:34.871044",
     "status": "completed"
    },
    "tags": []
   },
   "outputs": [
    {
     "data": {
      "text/plain": [
       "0.8609853973915952"
      ]
     },
     "execution_count": 45,
     "metadata": {},
     "output_type": "execute_result"
    }
   ],
   "source": [
    "probs_test = model.predict_proba(X_test)\n",
    "\n",
    "'''\n",
    "Below code returns a boolean array (or binary 0/1 array depending on how it’s used) where each element \n",
    "is True if the probability of class 1 is greater than or equal to the threshold, and False otherwise.\n",
    "'''\n",
    "y_pred_default = predict_w_threshold(probs_test, 0.5)\n",
    "\n",
    "from sklearn.metrics import accuracy_score\n",
    "\n",
    "# Naive prediction\n",
    "accuracy_score(y_true = y_true, y_pred = y_pred_default)"
   ]
  },
  {
   "cell_type": "code",
   "execution_count": 46,
   "id": "081964c3",
   "metadata": {
    "execution": {
     "iopub.execute_input": "2025-07-30T21:39:35.031743Z",
     "iopub.status.busy": "2025-07-30T21:39:35.031233Z",
     "iopub.status.idle": "2025-07-30T21:39:35.121121Z",
     "shell.execute_reply": "2025-07-30T21:39:35.120074Z"
    },
    "papermill": {
     "duration": 0.117093,
     "end_time": "2025-07-30T21:39:35.122798",
     "exception": false,
     "start_time": "2025-07-30T21:39:35.005705",
     "status": "completed"
    },
    "tags": []
   },
   "outputs": [
    {
     "data": {
      "text/plain": [
       "array([0, 0, 0, ..., 0, 0, 0])"
      ]
     },
     "execution_count": 46,
     "metadata": {},
     "output_type": "execute_result"
    }
   ],
   "source": [
    "model.predict(X_test)"
   ]
  },
  {
   "cell_type": "markdown",
   "id": "56c9705b",
   "metadata": {
    "papermill": {
     "duration": 0.02563,
     "end_time": "2025-07-30T21:39:35.175164",
     "exception": false,
     "start_time": "2025-07-30T21:39:35.149534",
     "status": "completed"
    },
    "tags": []
   },
   "source": [
    "# Conformal Prediction"
   ]
  },
  {
   "cell_type": "code",
   "execution_count": 47,
   "id": "160ec6ff",
   "metadata": {
    "execution": {
     "iopub.execute_input": "2025-07-30T21:39:35.223980Z",
     "iopub.status.busy": "2025-07-30T21:39:35.223552Z",
     "iopub.status.idle": "2025-07-30T21:39:35.228842Z",
     "shell.execute_reply": "2025-07-30T21:39:35.227839Z"
    },
    "papermill": {
     "duration": 0.031902,
     "end_time": "2025-07-30T21:39:35.230459",
     "exception": false,
     "start_time": "2025-07-30T21:39:35.198557",
     "status": "completed"
    },
    "tags": []
   },
   "outputs": [],
   "source": [
    "# Miscoverage level for conformal prediction (10% allowed error rate => 90% target coverage)\n",
    "alpha = 0.1"
   ]
  },
  {
   "cell_type": "code",
   "execution_count": 48,
   "id": "eadf4555-3dd3-440e-8e35-f82a4ad9f855",
   "metadata": {
    "execution": {
     "iopub.execute_input": "2025-07-30T21:39:35.280222Z",
     "iopub.status.busy": "2025-07-30T21:39:35.279660Z",
     "iopub.status.idle": "2025-07-30T21:39:35.368957Z",
     "shell.execute_reply": "2025-07-30T21:39:35.367934Z"
    },
    "papermill": {
     "duration": 0.115911,
     "end_time": "2025-07-30T21:39:35.370861",
     "exception": false,
     "start_time": "2025-07-30T21:39:35.254950",
     "status": "completed"
    },
    "tags": []
   },
   "outputs": [],
   "source": [
    "probs_calib = model.predict_proba(X_calib)"
   ]
  },
  {
   "cell_type": "code",
   "execution_count": 49,
   "id": "2ed93547-6d5d-4983-9b36-1ecb300da49a",
   "metadata": {
    "execution": {
     "iopub.execute_input": "2025-07-30T21:39:35.409053Z",
     "iopub.status.busy": "2025-07-30T21:39:35.408276Z",
     "iopub.status.idle": "2025-07-30T21:39:35.413905Z",
     "shell.execute_reply": "2025-07-30T21:39:35.413002Z"
    },
    "papermill": {
     "duration": 0.030754,
     "end_time": "2025-07-30T21:39:35.422720",
     "exception": false,
     "start_time": "2025-07-30T21:39:35.391966",
     "status": "completed"
    },
    "tags": []
   },
   "outputs": [],
   "source": [
    "y_calib = y_calib.values.ravel().astype(int)"
   ]
  },
  {
   "cell_type": "code",
   "execution_count": 50,
   "id": "65d1320d-f588-4b38-9072-62af1ae97f7d",
   "metadata": {
    "execution": {
     "iopub.execute_input": "2025-07-30T21:39:35.473328Z",
     "iopub.status.busy": "2025-07-30T21:39:35.472803Z",
     "iopub.status.idle": "2025-07-30T21:39:35.480280Z",
     "shell.execute_reply": "2025-07-30T21:39:35.479169Z"
    },
    "papermill": {
     "duration": 0.034062,
     "end_time": "2025-07-30T21:39:35.482008",
     "exception": false,
     "start_time": "2025-07-30T21:39:35.447946",
     "status": "completed"
    },
    "tags": []
   },
   "outputs": [],
   "source": [
    "from fairness_multiverse.conformal import compute_nc_scores\n",
    "\n",
    "# Compute nonconformity scores on calibration set (1 - probability of true class)\n",
    "nc_scores = compute_nc_scores(probs_calib, y_calib)"
   ]
  },
  {
   "cell_type": "code",
   "execution_count": 51,
   "id": "df3b8ca3-53b7-43d5-9667-7c85da7aeda2",
   "metadata": {
    "execution": {
     "iopub.execute_input": "2025-07-30T21:39:35.532183Z",
     "iopub.status.busy": "2025-07-30T21:39:35.531685Z",
     "iopub.status.idle": "2025-07-30T21:39:35.538275Z",
     "shell.execute_reply": "2025-07-30T21:39:35.537256Z"
    },
    "papermill": {
     "duration": 0.033896,
     "end_time": "2025-07-30T21:39:35.540136",
     "exception": false,
     "start_time": "2025-07-30T21:39:35.506240",
     "status": "completed"
    },
    "tags": []
   },
   "outputs": [],
   "source": [
    "from fairness_multiverse.conformal import find_threshold\n",
    "\n",
    "# Find conformal threshold q_hat for the given alpha (split conformal method)\n",
    "q_hat = find_threshold(nc_scores, alpha)"
   ]
  },
  {
   "cell_type": "code",
   "execution_count": 52,
   "id": "4d29e6c1-0ef6-4aa4-b8fe-4fe79b0d033a",
   "metadata": {
    "execution": {
     "iopub.execute_input": "2025-07-30T21:39:35.594229Z",
     "iopub.status.busy": "2025-07-30T21:39:35.593453Z",
     "iopub.status.idle": "2025-07-30T21:39:35.601059Z",
     "shell.execute_reply": "2025-07-30T21:39:35.600072Z"
    },
    "papermill": {
     "duration": 0.035086,
     "end_time": "2025-07-30T21:39:35.602879",
     "exception": false,
     "start_time": "2025-07-30T21:39:35.567793",
     "status": "completed"
    },
    "tags": []
   },
   "outputs": [
    {
     "data": {
      "text/plain": [
       "0.6947777675276768"
      ]
     },
     "execution_count": 52,
     "metadata": {},
     "output_type": "execute_result"
    }
   ],
   "source": [
    "q_hat"
   ]
  },
  {
   "cell_type": "code",
   "execution_count": 53,
   "id": "92460794-cdac-4be2-ba28-f28c0515a6fb",
   "metadata": {
    "execution": {
     "iopub.execute_input": "2025-07-30T21:39:35.658590Z",
     "iopub.status.busy": "2025-07-30T21:39:35.657174Z",
     "iopub.status.idle": "2025-07-30T21:39:36.376173Z",
     "shell.execute_reply": "2025-07-30T21:39:36.375271Z"
    },
    "papermill": {
     "duration": 0.748085,
     "end_time": "2025-07-30T21:39:36.378023",
     "exception": false,
     "start_time": "2025-07-30T21:39:35.629938",
     "status": "completed"
    },
    "tags": []
   },
   "outputs": [],
   "source": [
    "from fairness_multiverse.conformal import predict_conformal_sets\n",
    "\n",
    "# Generate prediction sets for each test example\n",
    "pred_sets = predict_conformal_sets(model, X_test, q_hat)"
   ]
  },
  {
   "cell_type": "code",
   "execution_count": 54,
   "id": "d90c9a65-e6db-4f5d-80cd-e68fb7e46829",
   "metadata": {
    "execution": {
     "iopub.execute_input": "2025-07-30T21:39:36.433637Z",
     "iopub.status.busy": "2025-07-30T21:39:36.433296Z",
     "iopub.status.idle": "2025-07-30T21:39:36.438221Z",
     "shell.execute_reply": "2025-07-30T21:39:36.437460Z"
    },
    "papermill": {
     "duration": 0.019673,
     "end_time": "2025-07-30T21:39:36.439485",
     "exception": false,
     "start_time": "2025-07-30T21:39:36.419812",
     "status": "completed"
    },
    "tags": []
   },
   "outputs": [],
   "source": [
    "y_true = y_true.squeeze()"
   ]
  },
  {
   "cell_type": "code",
   "execution_count": 55,
   "id": "3a58a54a-1e68-46b9-927a-df01f18aebc8",
   "metadata": {
    "execution": {
     "iopub.execute_input": "2025-07-30T21:39:36.469883Z",
     "iopub.status.busy": "2025-07-30T21:39:36.469363Z",
     "iopub.status.idle": "2025-07-30T21:39:37.146813Z",
     "shell.execute_reply": "2025-07-30T21:39:37.146036Z"
    },
    "papermill": {
     "duration": 0.694924,
     "end_time": "2025-07-30T21:39:37.148499",
     "exception": false,
     "start_time": "2025-07-30T21:39:36.453575",
     "status": "completed"
    },
    "tags": []
   },
   "outputs": [],
   "source": [
    "from fairness_multiverse.conformal import evaluate_sets\n",
    "\n",
    "# Evaluate coverage and average set size on test data\n",
    "metrics = evaluate_sets(pred_sets, y_true)"
   ]
  },
  {
   "cell_type": "markdown",
   "id": "2b569c12-9aaa-4c88-98c9-bbcd0cf3ebb8",
   "metadata": {
    "papermill": {
     "duration": 0.012615,
     "end_time": "2025-07-30T21:39:37.178370",
     "exception": false,
     "start_time": "2025-07-30T21:39:37.165755",
     "status": "completed"
    },
    "tags": []
   },
   "source": [
    "# CP Metrics"
   ]
  },
  {
   "cell_type": "code",
   "execution_count": 56,
   "id": "5ce0a5cb-201f-45a0-ade5-94c7f0bd6095",
   "metadata": {
    "execution": {
     "iopub.execute_input": "2025-07-30T21:39:37.205586Z",
     "iopub.status.busy": "2025-07-30T21:39:37.204929Z",
     "iopub.status.idle": "2025-07-30T21:39:37.213150Z",
     "shell.execute_reply": "2025-07-30T21:39:37.212239Z"
    },
    "papermill": {
     "duration": 0.024095,
     "end_time": "2025-07-30T21:39:37.215172",
     "exception": false,
     "start_time": "2025-07-30T21:39:37.191077",
     "status": "completed"
    },
    "tags": []
   },
   "outputs": [
    {
     "data": {
      "text/plain": [
       "{'coverage': 0.9124289376881061, 'avg_size': 1.2294727455133208}"
      ]
     },
     "execution_count": 56,
     "metadata": {},
     "output_type": "execute_result"
    }
   ],
   "source": [
    "metrics"
   ]
  },
  {
   "cell_type": "code",
   "execution_count": 57,
   "id": "9b9a838d-31c9-430b-ae14-12baee460d17",
   "metadata": {
    "execution": {
     "iopub.execute_input": "2025-07-30T21:39:37.267852Z",
     "iopub.status.busy": "2025-07-30T21:39:37.267032Z",
     "iopub.status.idle": "2025-07-30T21:39:37.274505Z",
     "shell.execute_reply": "2025-07-30T21:39:37.273293Z"
    },
    "papermill": {
     "duration": 0.033406,
     "end_time": "2025-07-30T21:39:37.276425",
     "exception": false,
     "start_time": "2025-07-30T21:39:37.243019",
     "status": "completed"
    },
    "tags": []
   },
   "outputs": [],
   "source": [
    "example_universe = universe.copy()\n",
    "universe_training_year = example_universe.get(\"training_year\")\n",
    "universe_training_size = example_universe.get(\"training_size\")\n",
    "universe_scale = example_universe.get(\"scale\")\n",
    "universe_model = example_universe.get(\"model\")\n",
    "universe_exclude_features = example_universe.get(\"exclude_features\")\n",
    "universe_exclude_subgroups = example_universe.get(\"exclude_subgroups\")"
   ]
  },
  {
   "cell_type": "code",
   "execution_count": 58,
   "id": "f4b6a8ac-9dc0-4245-8a91-5b3b5999c4f9",
   "metadata": {
    "execution": {
     "iopub.execute_input": "2025-07-30T21:39:37.329459Z",
     "iopub.status.busy": "2025-07-30T21:39:37.328530Z",
     "iopub.status.idle": "2025-07-30T21:39:37.335138Z",
     "shell.execute_reply": "2025-07-30T21:39:37.334331Z"
    },
    "papermill": {
     "duration": 0.035613,
     "end_time": "2025-07-30T21:39:37.338568",
     "exception": false,
     "start_time": "2025-07-30T21:39:37.302955",
     "status": "completed"
    },
    "tags": []
   },
   "outputs": [],
   "source": [
    "cp_metrics_dict = {\n",
    "    \"universe_id\": [universe_id],\n",
    "    \"universe_training_year\": [universe_training_year],\n",
    "    \"universe_training_size\": [universe_training_size],\n",
    "    \"universe_scale\": [universe_scale],\n",
    "    \"universe_model\": [universe_model],\n",
    "    \"universe_exclude_features\": [universe_exclude_features],\n",
    "    \"universe_exclude_subgroups\": [universe_exclude_subgroups],\n",
    "    \"q_hat\": [q_hat],\n",
    "    \"coverage\": [metrics[\"coverage\"]],\n",
    "    \"avg_size\": [metrics[\"avg_size\"]],\n",
    "}"
   ]
  },
  {
   "cell_type": "code",
   "execution_count": 59,
   "id": "908acbb1-0371-4915-85ca-3fa520d2efe2",
   "metadata": {
    "execution": {
     "iopub.execute_input": "2025-07-30T21:39:37.390676Z",
     "iopub.status.busy": "2025-07-30T21:39:37.390172Z",
     "iopub.status.idle": "2025-07-30T21:39:37.398032Z",
     "shell.execute_reply": "2025-07-30T21:39:37.397063Z"
    },
    "papermill": {
     "duration": 0.035464,
     "end_time": "2025-07-30T21:39:37.399626",
     "exception": false,
     "start_time": "2025-07-30T21:39:37.364162",
     "status": "completed"
    },
    "tags": []
   },
   "outputs": [
    {
     "data": {
      "text/plain": [
       "{'universe_id': ['81748a1d026bd9091f7083285e1ef244'],\n",
       " 'universe_training_year': ['2012_14'],\n",
       " 'universe_training_size': ['1k'],\n",
       " 'universe_scale': ['do-not-scale'],\n",
       " 'universe_model': ['penalized_logreg'],\n",
       " 'universe_exclude_features': ['nationality'],\n",
       " 'universe_exclude_subgroups': ['drop-non-german'],\n",
       " 'q_hat': [0.6947777675276768],\n",
       " 'coverage': [0.9124289376881061],\n",
       " 'avg_size': [1.2294727455133208]}"
      ]
     },
     "execution_count": 59,
     "metadata": {},
     "output_type": "execute_result"
    }
   ],
   "source": [
    "cp_metrics_dict"
   ]
  },
  {
   "cell_type": "code",
   "execution_count": 60,
   "id": "33007efc-14e9-4ec6-97ac-56a455c82265",
   "metadata": {
    "execution": {
     "iopub.execute_input": "2025-07-30T21:39:37.455137Z",
     "iopub.status.busy": "2025-07-30T21:39:37.454123Z",
     "iopub.status.idle": "2025-07-30T21:39:37.461228Z",
     "shell.execute_reply": "2025-07-30T21:39:37.460186Z"
    },
    "papermill": {
     "duration": 0.037387,
     "end_time": "2025-07-30T21:39:37.462880",
     "exception": false,
     "start_time": "2025-07-30T21:39:37.425493",
     "status": "completed"
    },
    "tags": []
   },
   "outputs": [],
   "source": [
    "cp_metrics_df = pd.DataFrame(cp_metrics_dict)"
   ]
  },
  {
   "cell_type": "code",
   "execution_count": 61,
   "id": "db12611b-57b2-4910-b9d0-355adfd6e7bf",
   "metadata": {
    "execution": {
     "iopub.execute_input": "2025-07-30T21:39:37.512933Z",
     "iopub.status.busy": "2025-07-30T21:39:37.512222Z",
     "iopub.status.idle": "2025-07-30T21:39:37.532572Z",
     "shell.execute_reply": "2025-07-30T21:39:37.531372Z"
    },
    "papermill": {
     "duration": 0.046517,
     "end_time": "2025-07-30T21:39:37.534110",
     "exception": false,
     "start_time": "2025-07-30T21:39:37.487593",
     "status": "completed"
    },
    "tags": []
   },
   "outputs": [
    {
     "data": {
      "text/html": [
       "<div>\n",
       "<style scoped>\n",
       "    .dataframe tbody tr th:only-of-type {\n",
       "        vertical-align: middle;\n",
       "    }\n",
       "\n",
       "    .dataframe tbody tr th {\n",
       "        vertical-align: top;\n",
       "    }\n",
       "\n",
       "    .dataframe thead th {\n",
       "        text-align: right;\n",
       "    }\n",
       "</style>\n",
       "<table border=\"1\" class=\"dataframe\">\n",
       "  <thead>\n",
       "    <tr style=\"text-align: right;\">\n",
       "      <th></th>\n",
       "      <th>universe_id</th>\n",
       "      <th>universe_training_year</th>\n",
       "      <th>universe_training_size</th>\n",
       "      <th>universe_scale</th>\n",
       "      <th>universe_model</th>\n",
       "      <th>universe_exclude_features</th>\n",
       "      <th>universe_exclude_subgroups</th>\n",
       "      <th>q_hat</th>\n",
       "      <th>coverage</th>\n",
       "      <th>avg_size</th>\n",
       "    </tr>\n",
       "  </thead>\n",
       "  <tbody>\n",
       "    <tr>\n",
       "      <th>0</th>\n",
       "      <td>81748a1d026bd9091f7083285e1ef244</td>\n",
       "      <td>2012_14</td>\n",
       "      <td>1k</td>\n",
       "      <td>do-not-scale</td>\n",
       "      <td>penalized_logreg</td>\n",
       "      <td>nationality</td>\n",
       "      <td>drop-non-german</td>\n",
       "      <td>0.694778</td>\n",
       "      <td>0.912429</td>\n",
       "      <td>1.229473</td>\n",
       "    </tr>\n",
       "  </tbody>\n",
       "</table>\n",
       "</div>"
      ],
      "text/plain": [
       "                        universe_id universe_training_year  \\\n",
       "0  81748a1d026bd9091f7083285e1ef244                2012_14   \n",
       "\n",
       "  universe_training_size universe_scale    universe_model  \\\n",
       "0                     1k   do-not-scale  penalized_logreg   \n",
       "\n",
       "  universe_exclude_features universe_exclude_subgroups     q_hat  coverage  \\\n",
       "0               nationality            drop-non-german  0.694778  0.912429   \n",
       "\n",
       "   avg_size  \n",
       "0  1.229473  "
      ]
     },
     "execution_count": 61,
     "metadata": {},
     "output_type": "execute_result"
    }
   ],
   "source": [
    "cp_metrics_df"
   ]
  },
  {
   "cell_type": "code",
   "execution_count": 62,
   "id": "b7fbde55-a0a1-47e4-9af6-fe4a17fa8c61",
   "metadata": {
    "execution": {
     "iopub.execute_input": "2025-07-30T21:39:37.587296Z",
     "iopub.status.busy": "2025-07-30T21:39:37.586793Z",
     "iopub.status.idle": "2025-07-30T21:39:37.591622Z",
     "shell.execute_reply": "2025-07-30T21:39:37.590736Z"
    },
    "papermill": {
     "duration": 0.033855,
     "end_time": "2025-07-30T21:39:37.593455",
     "exception": false,
     "start_time": "2025-07-30T21:39:37.559600",
     "status": "completed"
    },
    "tags": []
   },
   "outputs": [],
   "source": [
    "# Conditional Coverage & looking at subgroups"
   ]
  },
  {
   "cell_type": "code",
   "execution_count": 63,
   "id": "027ae886-68dd-4141-96c7-805a5450e1ef",
   "metadata": {
    "execution": {
     "iopub.execute_input": "2025-07-30T21:39:37.645260Z",
     "iopub.status.busy": "2025-07-30T21:39:37.644668Z",
     "iopub.status.idle": "2025-07-30T21:39:37.927757Z",
     "shell.execute_reply": "2025-07-30T21:39:37.926831Z"
    },
    "papermill": {
     "duration": 0.310627,
     "end_time": "2025-07-30T21:39:37.929670",
     "exception": false,
     "start_time": "2025-07-30T21:39:37.619043",
     "status": "completed"
    },
    "tags": []
   },
   "outputs": [],
   "source": [
    "from fairness_multiverse.conformal import build_cp_groups\n",
    "\n",
    "cp_groups_df = build_cp_groups(pred_sets, y_true, X_test.index, org_test)\n",
    "#needs universe_id and setting"
   ]
  },
  {
   "cell_type": "code",
   "execution_count": 64,
   "id": "01d5802c-663a-4d1f-9d69-e036faaffbf7",
   "metadata": {
    "execution": {
     "iopub.execute_input": "2025-07-30T21:39:37.981544Z",
     "iopub.status.busy": "2025-07-30T21:39:37.980975Z",
     "iopub.status.idle": "2025-07-30T21:39:37.986443Z",
     "shell.execute_reply": "2025-07-30T21:39:37.985446Z"
    },
    "papermill": {
     "duration": 0.032628,
     "end_time": "2025-07-30T21:39:37.988405",
     "exception": false,
     "start_time": "2025-07-30T21:39:37.955777",
     "status": "completed"
    },
    "tags": []
   },
   "outputs": [],
   "source": [
    "#delete\n",
    "#cp_groups_df"
   ]
  },
  {
   "cell_type": "code",
   "execution_count": 65,
   "id": "fa424af1-d1eb-443d-b717-2d279ada8408",
   "metadata": {
    "execution": {
     "iopub.execute_input": "2025-07-30T21:39:38.043117Z",
     "iopub.status.busy": "2025-07-30T21:39:38.042196Z",
     "iopub.status.idle": "2025-07-30T21:39:38.047416Z",
     "shell.execute_reply": "2025-07-30T21:39:38.046426Z"
    },
    "papermill": {
     "duration": 0.03379,
     "end_time": "2025-07-30T21:39:38.049039",
     "exception": false,
     "start_time": "2025-07-30T21:39:38.015249",
     "status": "completed"
    },
    "tags": []
   },
   "outputs": [],
   "source": [
    "#delete\n",
    "#percentage = (cp_groups_df['nongerman_female'] == 1).mean() * 100\n",
    "#print(percentage)\n"
   ]
  },
  {
   "cell_type": "code",
   "execution_count": 66,
   "id": "6cbdab96-b2b2-45af-ad54-d0516db2e28d",
   "metadata": {
    "execution": {
     "iopub.execute_input": "2025-07-30T21:39:38.105799Z",
     "iopub.status.busy": "2025-07-30T21:39:38.105318Z",
     "iopub.status.idle": "2025-07-30T21:39:39.524163Z",
     "shell.execute_reply": "2025-07-30T21:39:39.523417Z"
    },
    "papermill": {
     "duration": 1.446703,
     "end_time": "2025-07-30T21:39:39.525565",
     "exception": false,
     "start_time": "2025-07-30T21:39:38.078862",
     "status": "completed"
    },
    "tags": []
   },
   "outputs": [],
   "source": [
    "# Define covered = 1 if true_label is in the predicted set\n",
    "cp_groups_df['covered'] = cp_groups_df.apply(\n",
    "    lambda r: int(r['true_label'] in r['pred_set']),\n",
    "    axis=1\n",
    ")"
   ]
  },
  {
   "cell_type": "code",
   "execution_count": 67,
   "id": "338ff529-1a6b-4b87-a931-8e4788d52aad",
   "metadata": {
    "execution": {
     "iopub.execute_input": "2025-07-30T21:39:39.556417Z",
     "iopub.status.busy": "2025-07-30T21:39:39.556012Z",
     "iopub.status.idle": "2025-07-30T21:39:39.560066Z",
     "shell.execute_reply": "2025-07-30T21:39:39.559226Z"
    },
    "papermill": {
     "duration": 0.019254,
     "end_time": "2025-07-30T21:39:39.561292",
     "exception": false,
     "start_time": "2025-07-30T21:39:39.542038",
     "status": "completed"
    },
    "tags": []
   },
   "outputs": [],
   "source": [
    "#cp_groups_df"
   ]
  },
  {
   "cell_type": "code",
   "execution_count": 68,
   "id": "90032e27-66df-4540-9169-4e89cfbaa758",
   "metadata": {
    "execution": {
     "iopub.execute_input": "2025-07-30T21:39:39.590222Z",
     "iopub.status.busy": "2025-07-30T21:39:39.589540Z",
     "iopub.status.idle": "2025-07-30T21:39:39.598789Z",
     "shell.execute_reply": "2025-07-30T21:39:39.598029Z"
    },
    "papermill": {
     "duration": 0.024808,
     "end_time": "2025-07-30T21:39:39.600225",
     "exception": false,
     "start_time": "2025-07-30T21:39:39.575417",
     "status": "completed"
    },
    "tags": []
   },
   "outputs": [],
   "source": [
    "subgroups = ['frau1','nongerman','nongerman_male','nongerman_female']\n",
    "\n",
    "# Conditional coverage for subgroup==1\n",
    "cond_coverage = {\n",
    "    g: cp_groups_df.loc[cp_groups_df[g]==1, 'covered'].mean()\n",
    "    for g in subgroups\n",
    "}"
   ]
  },
  {
   "cell_type": "code",
   "execution_count": 69,
   "id": "1e348fb1-b9c3-45bc-ba23-f016827a7e0d",
   "metadata": {
    "execution": {
     "iopub.execute_input": "2025-07-30T21:39:39.629212Z",
     "iopub.status.busy": "2025-07-30T21:39:39.628716Z",
     "iopub.status.idle": "2025-07-30T21:39:39.634797Z",
     "shell.execute_reply": "2025-07-30T21:39:39.634116Z"
    },
    "papermill": {
     "duration": 0.021573,
     "end_time": "2025-07-30T21:39:39.636276",
     "exception": false,
     "start_time": "2025-07-30T21:39:39.614703",
     "status": "completed"
    },
    "tags": []
   },
   "outputs": [
    {
     "data": {
      "text/plain": [
       "{'frau1': 0.9114166329694029,\n",
       " 'nongerman': 0.9409981474204233,\n",
       " 'nongerman_male': 0.951634693326128,\n",
       " 'nongerman_female': 0.923397913561848}"
      ]
     },
     "execution_count": 69,
     "metadata": {},
     "output_type": "execute_result"
    }
   ],
   "source": [
    "cond_coverage"
   ]
  },
  {
   "cell_type": "code",
   "execution_count": 70,
   "id": "f5093324-c3dd-4d63-bc4c-8d945e5c8bbb",
   "metadata": {
    "execution": {
     "iopub.execute_input": "2025-07-30T21:39:39.665295Z",
     "iopub.status.busy": "2025-07-30T21:39:39.664763Z",
     "iopub.status.idle": "2025-07-30T21:39:39.671089Z",
     "shell.execute_reply": "2025-07-30T21:39:39.670002Z"
    },
    "papermill": {
     "duration": 0.022406,
     "end_time": "2025-07-30T21:39:39.672957",
     "exception": false,
     "start_time": "2025-07-30T21:39:39.650551",
     "status": "completed"
    },
    "tags": []
   },
   "outputs": [],
   "source": [
    "for subgroup, cov in cond_coverage.items():\n",
    "    cp_metrics_df[f\"cov_{subgroup}\"] = cov"
   ]
  },
  {
   "cell_type": "code",
   "execution_count": 71,
   "id": "6e872e10-dbe5-49e8-b554-5030c98ff75d",
   "metadata": {
    "execution": {
     "iopub.execute_input": "2025-07-30T21:39:39.730702Z",
     "iopub.status.busy": "2025-07-30T21:39:39.730068Z",
     "iopub.status.idle": "2025-07-30T21:39:39.750096Z",
     "shell.execute_reply": "2025-07-30T21:39:39.749076Z"
    },
    "papermill": {
     "duration": 0.051219,
     "end_time": "2025-07-30T21:39:39.752078",
     "exception": false,
     "start_time": "2025-07-30T21:39:39.700859",
     "status": "completed"
    },
    "tags": []
   },
   "outputs": [
    {
     "data": {
      "text/html": [
       "<div>\n",
       "<style scoped>\n",
       "    .dataframe tbody tr th:only-of-type {\n",
       "        vertical-align: middle;\n",
       "    }\n",
       "\n",
       "    .dataframe tbody tr th {\n",
       "        vertical-align: top;\n",
       "    }\n",
       "\n",
       "    .dataframe thead th {\n",
       "        text-align: right;\n",
       "    }\n",
       "</style>\n",
       "<table border=\"1\" class=\"dataframe\">\n",
       "  <thead>\n",
       "    <tr style=\"text-align: right;\">\n",
       "      <th></th>\n",
       "      <th>universe_id</th>\n",
       "      <th>universe_training_year</th>\n",
       "      <th>universe_training_size</th>\n",
       "      <th>universe_scale</th>\n",
       "      <th>universe_model</th>\n",
       "      <th>universe_exclude_features</th>\n",
       "      <th>universe_exclude_subgroups</th>\n",
       "      <th>q_hat</th>\n",
       "      <th>coverage</th>\n",
       "      <th>avg_size</th>\n",
       "      <th>cov_frau1</th>\n",
       "      <th>cov_nongerman</th>\n",
       "      <th>cov_nongerman_male</th>\n",
       "      <th>cov_nongerman_female</th>\n",
       "    </tr>\n",
       "  </thead>\n",
       "  <tbody>\n",
       "    <tr>\n",
       "      <th>0</th>\n",
       "      <td>81748a1d026bd9091f7083285e1ef244</td>\n",
       "      <td>2012_14</td>\n",
       "      <td>1k</td>\n",
       "      <td>do-not-scale</td>\n",
       "      <td>penalized_logreg</td>\n",
       "      <td>nationality</td>\n",
       "      <td>drop-non-german</td>\n",
       "      <td>0.694778</td>\n",
       "      <td>0.912429</td>\n",
       "      <td>1.229473</td>\n",
       "      <td>0.911417</td>\n",
       "      <td>0.940998</td>\n",
       "      <td>0.951635</td>\n",
       "      <td>0.923398</td>\n",
       "    </tr>\n",
       "  </tbody>\n",
       "</table>\n",
       "</div>"
      ],
      "text/plain": [
       "                        universe_id universe_training_year  \\\n",
       "0  81748a1d026bd9091f7083285e1ef244                2012_14   \n",
       "\n",
       "  universe_training_size universe_scale    universe_model  \\\n",
       "0                     1k   do-not-scale  penalized_logreg   \n",
       "\n",
       "  universe_exclude_features universe_exclude_subgroups     q_hat  coverage  \\\n",
       "0               nationality            drop-non-german  0.694778  0.912429   \n",
       "\n",
       "   avg_size  cov_frau1  cov_nongerman  cov_nongerman_male  \\\n",
       "0  1.229473   0.911417       0.940998            0.951635   \n",
       "\n",
       "   cov_nongerman_female  \n",
       "0              0.923398  "
      ]
     },
     "execution_count": 71,
     "metadata": {},
     "output_type": "execute_result"
    }
   ],
   "source": [
    "cp_metrics_df"
   ]
  },
  {
   "cell_type": "markdown",
   "id": "33774451",
   "metadata": {
    "papermill": {
     "duration": 0.027587,
     "end_time": "2025-07-30T21:39:39.806601",
     "exception": false,
     "start_time": "2025-07-30T21:39:39.779014",
     "status": "completed"
    },
    "tags": []
   },
   "source": [
    "# (Fairness) Metrics"
   ]
  },
  {
   "cell_type": "code",
   "execution_count": 72,
   "id": "debc5d62",
   "metadata": {
    "execution": {
     "iopub.execute_input": "2025-07-30T21:39:39.861460Z",
     "iopub.status.busy": "2025-07-30T21:39:39.861056Z",
     "iopub.status.idle": "2025-07-30T21:39:39.882811Z",
     "shell.execute_reply": "2025-07-30T21:39:39.881977Z"
    },
    "papermill": {
     "duration": 0.05181,
     "end_time": "2025-07-30T21:39:39.884168",
     "exception": false,
     "start_time": "2025-07-30T21:39:39.832358",
     "status": "completed"
    },
    "tags": []
   },
   "outputs": [],
   "source": [
    "# do I need to include maxdeutsch1.missing?\n",
    "\n",
    "import numpy as np\n",
    "\n",
    "colname_to_bin = \"maxdeutsch1\"\n",
    "majority_value = org_train[colname_to_bin].mode()[0]\n",
    "\n",
    "org_test[\"majmin\"] = np.where(org_test[colname_to_bin] == majority_value, \"majority\", \"minority\")"
   ]
  },
  {
   "cell_type": "code",
   "execution_count": 73,
   "id": "06a50de5",
   "metadata": {
    "execution": {
     "iopub.execute_input": "2025-07-30T21:39:39.929488Z",
     "iopub.status.busy": "2025-07-30T21:39:39.928998Z",
     "iopub.status.idle": "2025-07-30T21:39:42.725345Z",
     "shell.execute_reply": "2025-07-30T21:39:42.724353Z"
    },
    "papermill": {
     "duration": 2.827771,
     "end_time": "2025-07-30T21:39:42.727275",
     "exception": false,
     "start_time": "2025-07-30T21:39:39.899504",
     "status": "completed"
    },
    "tags": []
   },
   "outputs": [],
   "source": [
    "example_universe = universe.copy()\n",
    "example_universe[\"cutoff\"] = example_universe[\"cutoff\"][0]\n",
    "example_universe[\"eval_fairness_grouping\"] = example_universe[\"eval_fairness_grouping\"][0]\n",
    "fairness_dict, metric_frame = universe_analysis.compute_metrics(\n",
    "    example_universe,\n",
    "    y_pred_prob=probs_test,\n",
    "    y_test=y_true,\n",
    "    org_test=org_test,\n",
    ")"
   ]
  },
  {
   "cell_type": "markdown",
   "id": "f95d4e02",
   "metadata": {
    "papermill": {
     "duration": 0.026619,
     "end_time": "2025-07-30T21:39:42.784309",
     "exception": false,
     "start_time": "2025-07-30T21:39:42.757690",
     "status": "completed"
    },
    "tags": []
   },
   "source": [
    "# Overall"
   ]
  },
  {
   "cell_type": "markdown",
   "id": "bdee4871",
   "metadata": {
    "papermill": {
     "duration": 0.027473,
     "end_time": "2025-07-30T21:39:42.838474",
     "exception": false,
     "start_time": "2025-07-30T21:39:42.811001",
     "status": "completed"
    },
    "tags": []
   },
   "source": [
    "Fairness\n",
    "Main fairness target: Equalized Odds. Seems to be a better fit than equal opportunity, since we're not only interested in Y = 1. Seems to be a better fit than demographic parity, since we also care about accuracy, not just equal distribution of preds.\n",
    "\n",
    "Pick column for computation of fairness metrics\n",
    "\n",
    "Performance\n",
    "Overall performance measures, most interesting in relation to the measures split by group below"
   ]
  },
  {
   "cell_type": "code",
   "execution_count": 74,
   "id": "c4e067c6",
   "metadata": {
    "execution": {
     "iopub.execute_input": "2025-07-30T21:39:42.892985Z",
     "iopub.status.busy": "2025-07-30T21:39:42.892327Z",
     "iopub.status.idle": "2025-07-30T21:39:42.901496Z",
     "shell.execute_reply": "2025-07-30T21:39:42.900420Z"
    },
    "papermill": {
     "duration": 0.039075,
     "end_time": "2025-07-30T21:39:42.903188",
     "exception": false,
     "start_time": "2025-07-30T21:39:42.864113",
     "status": "completed"
    },
    "tags": []
   },
   "outputs": [
    {
     "data": {
      "text/plain": [
       "accuracy                   0.212741\n",
       "balanced accuracy          0.522618\n",
       "f1                         0.234392\n",
       "precision                  0.133901\n",
       "false positive rate        0.894197\n",
       "false negative rate        0.060567\n",
       "selection rate             0.900000\n",
       "count                  89710.000000\n",
       "dtype: float64"
      ]
     },
     "execution_count": 74,
     "metadata": {},
     "output_type": "execute_result"
    }
   ],
   "source": [
    "metric_frame.overall"
   ]
  },
  {
   "cell_type": "markdown",
   "id": "e968fe9d",
   "metadata": {
    "papermill": {
     "duration": 0.027631,
     "end_time": "2025-07-30T21:39:42.958198",
     "exception": false,
     "start_time": "2025-07-30T21:39:42.930567",
     "status": "completed"
    },
    "tags": []
   },
   "source": [
    "By Group"
   ]
  },
  {
   "cell_type": "code",
   "execution_count": 75,
   "id": "ec325bce",
   "metadata": {
    "execution": {
     "iopub.execute_input": "2025-07-30T21:39:43.014577Z",
     "iopub.status.busy": "2025-07-30T21:39:43.013714Z",
     "iopub.status.idle": "2025-07-30T21:39:43.030217Z",
     "shell.execute_reply": "2025-07-30T21:39:43.029230Z"
    },
    "papermill": {
     "duration": 0.046108,
     "end_time": "2025-07-30T21:39:43.031932",
     "exception": false,
     "start_time": "2025-07-30T21:39:42.985824",
     "status": "completed"
    },
    "tags": []
   },
   "outputs": [
    {
     "data": {
      "text/html": [
       "<div>\n",
       "<style scoped>\n",
       "    .dataframe tbody tr th:only-of-type {\n",
       "        vertical-align: middle;\n",
       "    }\n",
       "\n",
       "    .dataframe tbody tr th {\n",
       "        vertical-align: top;\n",
       "    }\n",
       "\n",
       "    .dataframe thead th {\n",
       "        text-align: right;\n",
       "    }\n",
       "</style>\n",
       "<table border=\"1\" class=\"dataframe\">\n",
       "  <thead>\n",
       "    <tr style=\"text-align: right;\">\n",
       "      <th></th>\n",
       "      <th>accuracy</th>\n",
       "      <th>balanced accuracy</th>\n",
       "      <th>f1</th>\n",
       "      <th>precision</th>\n",
       "      <th>false positive rate</th>\n",
       "      <th>false negative rate</th>\n",
       "      <th>selection rate</th>\n",
       "      <th>count</th>\n",
       "    </tr>\n",
       "    <tr>\n",
       "      <th>majmin</th>\n",
       "      <th></th>\n",
       "      <th></th>\n",
       "      <th></th>\n",
       "      <th></th>\n",
       "      <th></th>\n",
       "      <th></th>\n",
       "      <th></th>\n",
       "      <th></th>\n",
       "    </tr>\n",
       "  </thead>\n",
       "  <tbody>\n",
       "    <tr>\n",
       "      <th>majority</th>\n",
       "      <td>0.231748</td>\n",
       "      <td>0.527337</td>\n",
       "      <td>0.242200</td>\n",
       "      <td>0.139250</td>\n",
       "      <td>0.874429</td>\n",
       "      <td>0.070897</td>\n",
       "      <td>0.881654</td>\n",
       "      <td>69170.0</td>\n",
       "    </tr>\n",
       "    <tr>\n",
       "      <th>minority</th>\n",
       "      <td>0.148734</td>\n",
       "      <td>0.509905</td>\n",
       "      <td>0.209646</td>\n",
       "      <td>0.117388</td>\n",
       "      <td>0.959498</td>\n",
       "      <td>0.020693</td>\n",
       "      <td>0.961782</td>\n",
       "      <td>20540.0</td>\n",
       "    </tr>\n",
       "  </tbody>\n",
       "</table>\n",
       "</div>"
      ],
      "text/plain": [
       "          accuracy  balanced accuracy        f1  precision  \\\n",
       "majmin                                                       \n",
       "majority  0.231748           0.527337  0.242200   0.139250   \n",
       "minority  0.148734           0.509905  0.209646   0.117388   \n",
       "\n",
       "          false positive rate  false negative rate  selection rate    count  \n",
       "majmin                                                                       \n",
       "majority             0.874429             0.070897        0.881654  69170.0  \n",
       "minority             0.959498             0.020693        0.961782  20540.0  "
      ]
     },
     "execution_count": 75,
     "metadata": {},
     "output_type": "execute_result"
    }
   ],
   "source": [
    "metric_frame.by_group"
   ]
  },
  {
   "cell_type": "code",
   "execution_count": 76,
   "id": "a9ddbe63",
   "metadata": {
    "execution": {
     "iopub.execute_input": "2025-07-30T21:39:43.089925Z",
     "iopub.status.busy": "2025-07-30T21:39:43.089561Z",
     "iopub.status.idle": "2025-07-30T21:39:45.557279Z",
     "shell.execute_reply": "2025-07-30T21:39:45.556417Z"
    },
    "papermill": {
     "duration": 2.499357,
     "end_time": "2025-07-30T21:39:45.558948",
     "exception": false,
     "start_time": "2025-07-30T21:39:43.059591",
     "status": "completed"
    },
    "tags": []
   },
   "outputs": [
    {
     "data": {
      "text/plain": [
       "array([[<Axes: title={'center': 'accuracy'}, xlabel='majmin'>,\n",
       "        <Axes: title={'center': 'balanced accuracy'}, xlabel='majmin'>,\n",
       "        <Axes: title={'center': 'f1'}, xlabel='majmin'>],\n",
       "       [<Axes: title={'center': 'precision'}, xlabel='majmin'>,\n",
       "        <Axes: title={'center': 'false positive rate'}, xlabel='majmin'>,\n",
       "        <Axes: title={'center': 'false negative rate'}, xlabel='majmin'>],\n",
       "       [<Axes: title={'center': 'selection rate'}, xlabel='majmin'>,\n",
       "        <Axes: title={'center': 'count'}, xlabel='majmin'>,\n",
       "        <Axes: xlabel='majmin'>]], dtype=object)"
      ]
     },
     "execution_count": 76,
     "metadata": {},
     "output_type": "execute_result"
    },
    {
     "data": {
      "image/png": "[encoded data removed]",
      "text/plain": [
       "<Figure size 1200x800 with 9 Axes>"
      ]
     },
     "metadata": {},
     "output_type": "display_data"
    }
   ],
   "source": [
    "# In a graphic\n",
    "metric_frame.by_group.plot.bar(\n",
    "    subplots=True,\n",
    "    layout=[3, 3],\n",
    "    legend=False,\n",
    "    figsize=[12, 8],\n",
    "    title=\"Show all metrics\",\n",
    ")"
   ]
  },
  {
   "cell_type": "markdown",
   "id": "f57a0bac",
   "metadata": {
    "papermill": {
     "duration": 0.029469,
     "end_time": "2025-07-30T21:39:45.617160",
     "exception": false,
     "start_time": "2025-07-30T21:39:45.587691",
     "status": "completed"
    },
    "tags": []
   },
   "source": [
    "# Final Output"
   ]
  },
  {
   "cell_type": "code",
   "execution_count": 77,
   "id": "96d280a3",
   "metadata": {
    "execution": {
     "iopub.execute_input": "2025-07-30T21:39:45.680376Z",
     "iopub.status.busy": "2025-07-30T21:39:45.679692Z",
     "iopub.status.idle": "2025-07-30T21:39:45.687683Z",
     "shell.execute_reply": "2025-07-30T21:39:45.686583Z"
    },
    "papermill": {
     "duration": 0.041909,
     "end_time": "2025-07-30T21:39:45.689324",
     "exception": false,
     "start_time": "2025-07-30T21:39:45.647415",
     "status": "completed"
    },
    "tags": []
   },
   "outputs": [
    {
     "data": {
      "text/plain": [
       "4"
      ]
     },
     "execution_count": 77,
     "metadata": {},
     "output_type": "execute_result"
    }
   ],
   "source": [
    "sub_universes = universe_analysis.generate_sub_universes()\n",
    "len(sub_universes)"
   ]
  },
  {
   "cell_type": "code",
   "execution_count": 78,
   "id": "92adf7ba",
   "metadata": {
    "execution": {
     "iopub.execute_input": "2025-07-30T21:39:45.722397Z",
     "iopub.status.busy": "2025-07-30T21:39:45.722022Z",
     "iopub.status.idle": "2025-07-30T21:39:45.738894Z",
     "shell.execute_reply": "2025-07-30T21:39:45.737981Z"
    },
    "papermill": {
     "duration": 0.035157,
     "end_time": "2025-07-30T21:39:45.740464",
     "exception": false,
     "start_time": "2025-07-30T21:39:45.705307",
     "status": "completed"
    },
    "tags": []
   },
   "outputs": [],
   "source": [
    "def filter_sub_universe_data(sub_universe, org_test):\n",
    "    # Keep all rows — no filtering\n",
    "    keep_rows_mask = np.ones(org_test.shape[0], dtype=bool)\n",
    "\n",
    "    print(f\"[INFO] Keeping all rows: {keep_rows_mask.sum()} rows retained.\")\n",
    "    return keep_rows_mask"
   ]
  },
  {
   "cell_type": "code",
   "execution_count": 79,
   "id": "4a759155",
   "metadata": {
    "execution": {
     "iopub.execute_input": "2025-07-30T21:39:45.775975Z",
     "iopub.status.busy": "2025-07-30T21:39:45.774928Z",
     "iopub.status.idle": "2025-07-30T21:39:55.826448Z",
     "shell.execute_reply": "2025-07-30T21:39:55.825372Z"
    },
    "papermill": {
     "duration": 10.071136,
     "end_time": "2025-07-30T21:39:55.828583",
     "exception": false,
     "start_time": "2025-07-30T21:39:45.757447",
     "status": "completed"
    },
    "tags": []
   },
   "outputs": [
    {
     "name": "stdout",
     "output_type": "stream",
     "text": [
      "Stopping execution_time clock.\n",
      "[INFO] Keeping all rows: 89710 rows retained.\n"
     ]
    },
    {
     "name": "stdout",
     "output_type": "stream",
     "text": [
      "[INFO] Keeping all rows: 89710 rows retained.\n"
     ]
    },
    {
     "name": "stdout",
     "output_type": "stream",
     "text": [
      "[INFO] Keeping all rows: 89710 rows retained.\n"
     ]
    },
    {
     "name": "stdout",
     "output_type": "stream",
     "text": [
      "[INFO] Keeping all rows: 89710 rows retained.\n"
     ]
    },
    {
     "data": {
      "text/html": [
       "<div>\n",
       "<style scoped>\n",
       "    .dataframe tbody tr th:only-of-type {\n",
       "        vertical-align: middle;\n",
       "    }\n",
       "\n",
       "    .dataframe tbody tr th {\n",
       "        vertical-align: top;\n",
       "    }\n",
       "\n",
       "    .dataframe thead th {\n",
       "        text-align: right;\n",
       "    }\n",
       "</style>\n",
       "<table border=\"1\" class=\"dataframe\">\n",
       "  <thead>\n",
       "    <tr style=\"text-align: right;\">\n",
       "      <th></th>\n",
       "      <th>run_no</th>\n",
       "      <th>universe_id</th>\n",
       "      <th>universe_settings</th>\n",
       "      <th>execution_time</th>\n",
       "      <th>test_size_n</th>\n",
       "      <th>test_size_frac</th>\n",
       "      <th>fair_main_equalized_odds_difference</th>\n",
       "      <th>fair_main_equalized_odds_ratio</th>\n",
       "      <th>fair_main_demographic_parity_difference</th>\n",
       "      <th>fair_main_demographic_parity_ratio</th>\n",
       "      <th>...</th>\n",
       "      <th>perf_grp_precision_0</th>\n",
       "      <th>perf_grp_precision_1</th>\n",
       "      <th>perf_grp_false positive rate_0</th>\n",
       "      <th>perf_grp_false positive rate_1</th>\n",
       "      <th>perf_grp_false negative rate_0</th>\n",
       "      <th>perf_grp_false negative rate_1</th>\n",
       "      <th>perf_grp_selection rate_0</th>\n",
       "      <th>perf_grp_selection rate_1</th>\n",
       "      <th>perf_grp_count_0</th>\n",
       "      <th>perf_grp_count_1</th>\n",
       "    </tr>\n",
       "  </thead>\n",
       "  <tbody>\n",
       "    <tr>\n",
       "      <th>0</th>\n",
       "      <td>14</td>\n",
       "      <td>81748a1d026bd9091f7083285e1ef244</td>\n",
       "      <td>{\"cutoff\": \"quantile_0.1\", \"eval_fairness_grou...</td>\n",
       "      <td>26.615494</td>\n",
       "      <td>89710</td>\n",
       "      <td>1.0</td>\n",
       "      <td>0.085069</td>\n",
       "      <td>0.911340</td>\n",
       "      <td>0.080128</td>\n",
       "      <td>0.916688</td>\n",
       "      <td>...</td>\n",
       "      <td>NaN</td>\n",
       "      <td>NaN</td>\n",
       "      <td>NaN</td>\n",
       "      <td>NaN</td>\n",
       "      <td>NaN</td>\n",
       "      <td>NaN</td>\n",
       "      <td>NaN</td>\n",
       "      <td>NaN</td>\n",
       "      <td>NaN</td>\n",
       "      <td>NaN</td>\n",
       "    </tr>\n",
       "    <tr>\n",
       "      <th>0</th>\n",
       "      <td>14</td>\n",
       "      <td>81748a1d026bd9091f7083285e1ef244</td>\n",
       "      <td>{\"cutoff\": \"quantile_0.1\", \"eval_fairness_grou...</td>\n",
       "      <td>26.615494</td>\n",
       "      <td>89710</td>\n",
       "      <td>1.0</td>\n",
       "      <td>0.085069</td>\n",
       "      <td>0.911340</td>\n",
       "      <td>0.080128</td>\n",
       "      <td>0.916688</td>\n",
       "      <td>...</td>\n",
       "      <td>0.117388</td>\n",
       "      <td>0.139250</td>\n",
       "      <td>0.959498</td>\n",
       "      <td>0.874429</td>\n",
       "      <td>0.020693</td>\n",
       "      <td>0.070897</td>\n",
       "      <td>0.961782</td>\n",
       "      <td>0.881654</td>\n",
       "      <td>20540.0</td>\n",
       "      <td>69170.0</td>\n",
       "    </tr>\n",
       "    <tr>\n",
       "      <th>0</th>\n",
       "      <td>14</td>\n",
       "      <td>81748a1d026bd9091f7083285e1ef244</td>\n",
       "      <td>{\"cutoff\": \"quantile_0.25\", \"eval_fairness_gro...</td>\n",
       "      <td>26.615494</td>\n",
       "      <td>89710</td>\n",
       "      <td>1.0</td>\n",
       "      <td>0.209736</td>\n",
       "      <td>0.765774</td>\n",
       "      <td>0.195118</td>\n",
       "      <td>0.783308</td>\n",
       "      <td>...</td>\n",
       "      <td>NaN</td>\n",
       "      <td>NaN</td>\n",
       "      <td>NaN</td>\n",
       "      <td>NaN</td>\n",
       "      <td>NaN</td>\n",
       "      <td>NaN</td>\n",
       "      <td>NaN</td>\n",
       "      <td>NaN</td>\n",
       "      <td>NaN</td>\n",
       "      <td>NaN</td>\n",
       "    </tr>\n",
       "    <tr>\n",
       "      <th>0</th>\n",
       "      <td>14</td>\n",
       "      <td>81748a1d026bd9091f7083285e1ef244</td>\n",
       "      <td>{\"cutoff\": \"quantile_0.25\", \"eval_fairness_gro...</td>\n",
       "      <td>26.615494</td>\n",
       "      <td>89710</td>\n",
       "      <td>1.0</td>\n",
       "      <td>0.209736</td>\n",
       "      <td>0.765774</td>\n",
       "      <td>0.195118</td>\n",
       "      <td>0.783308</td>\n",
       "      <td>...</td>\n",
       "      <td>0.120195</td>\n",
       "      <td>0.156271</td>\n",
       "      <td>0.895444</td>\n",
       "      <td>0.685707</td>\n",
       "      <td>0.061233</td>\n",
       "      <td>0.165864</td>\n",
       "      <td>0.900438</td>\n",
       "      <td>0.705320</td>\n",
       "      <td>20540.0</td>\n",
       "      <td>69170.0</td>\n",
       "    </tr>\n",
       "  </tbody>\n",
       "</table>\n",
       "<p>4 rows × 50 columns</p>\n",
       "</div>"
      ],
      "text/plain": [
       "  run_no                       universe_id  \\\n",
       "0     14  81748a1d026bd9091f7083285e1ef244   \n",
       "0     14  81748a1d026bd9091f7083285e1ef244   \n",
       "0     14  81748a1d026bd9091f7083285e1ef244   \n",
       "0     14  81748a1d026bd9091f7083285e1ef244   \n",
       "\n",
       "                                   universe_settings  execution_time  \\\n",
       "0  {\"cutoff\": \"quantile_0.1\", \"eval_fairness_grou...       26.615494   \n",
       "0  {\"cutoff\": \"quantile_0.1\", \"eval_fairness_grou...       26.615494   \n",
       "0  {\"cutoff\": \"quantile_0.25\", \"eval_fairness_gro...       26.615494   \n",
       "0  {\"cutoff\": \"quantile_0.25\", \"eval_fairness_gro...       26.615494   \n",
       "\n",
       "   test_size_n  test_size_frac  fair_main_equalized_odds_difference  \\\n",
       "0        89710             1.0                             0.085069   \n",
       "0        89710             1.0                             0.085069   \n",
       "0        89710             1.0                             0.209736   \n",
       "0        89710             1.0                             0.209736   \n",
       "\n",
       "   fair_main_equalized_odds_ratio  fair_main_demographic_parity_difference  \\\n",
       "0                        0.911340                                 0.080128   \n",
       "0                        0.911340                                 0.080128   \n",
       "0                        0.765774                                 0.195118   \n",
       "0                        0.765774                                 0.195118   \n",
       "\n",
       "   fair_main_demographic_parity_ratio  ...  perf_grp_precision_0  \\\n",
       "0                            0.916688  ...                   NaN   \n",
       "0                            0.916688  ...              0.117388   \n",
       "0                            0.783308  ...                   NaN   \n",
       "0                            0.783308  ...              0.120195   \n",
       "\n",
       "   perf_grp_precision_1  perf_grp_false positive rate_0  \\\n",
       "0                   NaN                             NaN   \n",
       "0              0.139250                        0.959498   \n",
       "0                   NaN                             NaN   \n",
       "0              0.156271                        0.895444   \n",
       "\n",
       "   perf_grp_false positive rate_1  perf_grp_false negative rate_0  \\\n",
       "0                             NaN                             NaN   \n",
       "0                        0.874429                        0.020693   \n",
       "0                             NaN                             NaN   \n",
       "0                        0.685707                        0.061233   \n",
       "\n",
       "   perf_grp_false negative rate_1  perf_grp_selection rate_0  \\\n",
       "0                             NaN                        NaN   \n",
       "0                        0.070897                   0.961782   \n",
       "0                             NaN                        NaN   \n",
       "0                        0.165864                   0.900438   \n",
       "\n",
       "   perf_grp_selection rate_1  perf_grp_count_0  perf_grp_count_1  \n",
       "0                        NaN               NaN               NaN  \n",
       "0                   0.881654           20540.0           69170.0  \n",
       "0                        NaN               NaN               NaN  \n",
       "0                   0.705320           20540.0           69170.0  \n",
       "\n",
       "[4 rows x 50 columns]"
      ]
     },
     "execution_count": 79,
     "metadata": {},
     "output_type": "execute_result"
    }
   ],
   "source": [
    "final_output = universe_analysis.generate_final_output(\n",
    "    y_pred_prob=probs_test,\n",
    "    y_test=y_true,\n",
    "    org_test=org_test,\n",
    "    filter_data=filter_sub_universe_data,\n",
    "    cp_metrics_df=cp_metrics_df,\n",
    "    save=True,\n",
    ")\n",
    "final_output"
   ]
  },
  {
   "cell_type": "code",
   "execution_count": null,
   "id": "721ff514-cb11-46f8-b6fc-50392f74b5cb",
   "metadata": {
    "papermill": {
     "duration": 0.017065,
     "end_time": "2025-07-30T21:39:55.887763",
     "exception": false,
     "start_time": "2025-07-30T21:39:55.870698",
     "status": "completed"
    },
    "tags": []
   },
   "outputs": [],
   "source": []
  }
 ],
 "metadata": {
  "celltoolbar": "Tags",
  "kernelspec": {
   "display_name": "Python (CMA Fairness)",
   "language": "python",
   "name": "cma_fair_env"
  },
  "language_info": {
   "codemirror_mode": {
    "name": "ipython",
    "version": 3
   },
   "file_extension": ".py",
   "mimetype": "text/x-python",
   "name": "python",
   "nbconvert_exporter": "python",
   "pygments_lexer": "ipython3",
   "version": "3.10.12"
  },
  "papermill": {
   "default_parameters": {},
   "duration": 40.837305,
   "end_time": "2025-07-30T21:39:56.623390",
   "environment_variables": {},
   "exception": null,
   "input_path": "universe_analysis.ipynb",
   "output_path": "output/runs/14/notebooks/m_14-81748a1d026bd9091f7083285e1ef244.ipynb",
   "parameters": {
    "output_dir": "output",
    "run_no": "14",
    "seed": "2023",
    "universe": "{\"cutoff\": [\"quantile_0.1\", \"quantile_0.25\"], \"eval_fairness_grouping\": [\"majority-minority\", \"nationality-all\"], \"exclude_features\": \"nationality\", \"exclude_subgroups\": \"drop-non-german\", \"model\": \"penalized_logreg\", \"scale\": \"do-not-scale\", \"training_size\": \"1k\", \"training_year\": \"2012_14\"}",
    "universe_id": "81748a1d026bd9091f7083285e1ef244"
   },
   "start_time": "2025-07-30T21:39:15.786085",
   "version": "2.6.0"
  }
 },
 "nbformat": 4,
 "nbformat_minor": 5
}