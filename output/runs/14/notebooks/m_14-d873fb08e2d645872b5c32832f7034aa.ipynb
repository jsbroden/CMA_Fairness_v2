{
 "cells": [
  {
   "cell_type": "code",
   "execution_count": 1,
   "id": "f159f837-637b-42ba-96b5-ec9a68c44524",
   "metadata": {
    "execution": {
     "iopub.execute_input": "2025-07-30T20:12:53.964483Z",
     "iopub.status.busy": "2025-07-30T20:12:53.963923Z",
     "iopub.status.idle": "2025-07-30T20:12:53.978372Z",
     "shell.execute_reply": "2025-07-30T20:12:53.977243Z"
    },
    "papermill": {
     "duration": 0.038766,
     "end_time": "2025-07-30T20:12:53.980002",
     "exception": false,
     "start_time": "2025-07-30T20:12:53.941236",
     "status": "completed"
    },
    "tags": []
   },
   "outputs": [
    {
     "name": "stdout",
     "output_type": "stream",
     "text": [
      "/dss/dsshome1/0C/ra93lal2/cma/CMA_Fairness_v2\n"
     ]
    },
    {
     "name": "stderr",
     "output_type": "stream",
     "text": [
      "/dss/dsshome1/0C/ra93lal2/.local/share/virtualenvs/CMA_Fairness_v2-3j10GkSs/lib/python3.10/site-packages/IPython/core/magics/osm.py:393: UserWarning: This is now an optional IPython functionality, using bookmarks requires you to install the `pickleshare` library.\n",
      "  bkms = self.shell.db.get('bookmarks', {})\n",
      "/dss/dsshome1/0C/ra93lal2/.local/share/virtualenvs/CMA_Fairness_v2-3j10GkSs/lib/python3.10/site-packages/IPython/core/magics/osm.py:417: UserWarning: This is now an optional IPython functionality, setting dhist requires you to install the `pickleshare` library.\n",
      "  self.shell.db['dhist'] = compress_dhist(dhist)[-100:]\n"
     ]
    }
   ],
   "source": [
    "%cd ~/cma/CMA_Fairness_v2"
   ]
  },
  {
   "cell_type": "markdown",
   "id": "de2603b9",
   "metadata": {
    "papermill": {
     "duration": 0.021123,
     "end_time": "2025-07-30T20:12:54.023672",
     "exception": false,
     "start_time": "2025-07-30T20:12:54.002549",
     "status": "completed"
    },
    "tags": []
   },
   "source": [
    "The following cell holds the definition of our parameters, these values can be overriden by rendering the with e.g. the following command:\n",
    "\n",
    "papermill -p alpha 0.2 -p ratio 0.3 universe_analysis.ipynb output/test_run.ipynb"
   ]
  },
  {
   "cell_type": "code",
   "execution_count": 2,
   "id": "a80968a0-40bb-4fa9-85ef-2d5eefb01975",
   "metadata": {
    "execution": {
     "iopub.execute_input": "2025-07-30T20:12:54.068802Z",
     "iopub.status.busy": "2025-07-30T20:12:54.068172Z",
     "iopub.status.idle": "2025-07-30T20:12:54.073897Z",
     "shell.execute_reply": "2025-07-30T20:12:54.072963Z"
    },
    "papermill": {
     "duration": 0.03035,
     "end_time": "2025-07-30T20:12:54.075645",
     "exception": false,
     "start_time": "2025-07-30T20:12:54.045295",
     "status": "completed"
    },
    "tags": []
   },
   "outputs": [
    {
     "name": "stdout",
     "output_type": "stream",
     "text": [
      "Current working directory: /dss/dsshome1/0C/ra93lal2/cma/CMA_Fairness_v2\n"
     ]
    }
   ],
   "source": [
    "import os\n",
    "print(\"Current working directory:\", os.getcwd())"
   ]
  },
  {
   "cell_type": "code",
   "execution_count": 3,
   "id": "2dce4c03",
   "metadata": {
    "execution": {
     "iopub.execute_input": "2025-07-30T20:12:54.120022Z",
     "iopub.status.busy": "2025-07-30T20:12:54.119352Z",
     "iopub.status.idle": "2025-07-30T20:12:54.126085Z",
     "shell.execute_reply": "2025-07-30T20:12:54.125139Z"
    },
    "papermill": {
     "duration": 0.030943,
     "end_time": "2025-07-30T20:12:54.127742",
     "exception": false,
     "start_time": "2025-07-30T20:12:54.096799",
     "status": "completed"
    },
    "tags": [
     "parameters"
    ]
   },
   "outputs": [],
   "source": [
    "run_no = 0\n",
    "universe_id = \"test\"\n",
    "universe = {\n",
    "    \"training_size\": \"25k\", # \"25k\", \"5k\", \"1k\"\n",
    "    \"training_year\": \"2014\", # \"2014\", \"2012_14\", \"2010_14\"\n",
    "    \"scale\": \"scale\", # \"scale\", \"do-not-scale\",\n",
    "    #\"stratify_split\": \"target\", # \"none\", \"target\", \"protected-attribute\", \"both\",\n",
    "    \"model\": \"elasticnet\", # \"logreg\", \"penalized_logreg\", \"rf\", \"gbm\", \"elasticnet\"\n",
    "    \"cutoff\": [\"quantile_0.15\", \"quantile_0.30\"],\n",
    "    \"exclude_features\": \"age\", # \"none\", \"nationality\", \"sex\", \"nationality-sex\", \"age\"\n",
    "    \"exclude_subgroups\": \"keep-all\", # \"keep-all\", \"drop-non-german\"\n",
    "    \"eval_fairness_grouping\": [\"majority-minority\", \"nationality-all\"]\n",
    "}\n",
    "\n",
    "output_dir=\"./output\"\n",
    "seed=0"
   ]
  },
  {
   "cell_type": "code",
   "execution_count": 4,
   "id": "63dbf396",
   "metadata": {
    "execution": {
     "iopub.execute_input": "2025-07-30T20:12:54.171967Z",
     "iopub.status.busy": "2025-07-30T20:12:54.171349Z",
     "iopub.status.idle": "2025-07-30T20:12:54.177172Z",
     "shell.execute_reply": "2025-07-30T20:12:54.176145Z"
    },
    "papermill": {
     "duration": 0.029344,
     "end_time": "2025-07-30T20:12:54.178826",
     "exception": false,
     "start_time": "2025-07-30T20:12:54.149482",
     "status": "completed"
    },
    "tags": [
     "injected-parameters"
    ]
   },
   "outputs": [],
   "source": [
    "# Parameters\n",
    "universe_id = \"d873fb08e2d645872b5c32832f7034aa\"\n",
    "run_no = \"14\"\n",
    "universe = \"{\\\"cutoff\\\": [\\\"quantile_0.1\\\", \\\"quantile_0.25\\\"], \\\"eval_fairness_grouping\\\": [\\\"majority-minority\\\", \\\"nationality-all\\\"], \\\"exclude_features\\\": \\\"nationality-sex\\\", \\\"exclude_subgroups\\\": \\\"keep-all\\\", \\\"model\\\": \\\"gbm\\\", \\\"scale\\\": \\\"scale\\\", \\\"training_size\\\": \\\"25k\\\", \\\"training_year\\\": \\\"2012_14\\\"}\"\n",
    "output_dir = \"output\"\n",
    "seed = \"2023\"\n"
   ]
  },
  {
   "cell_type": "code",
   "execution_count": 5,
   "id": "1650acaf",
   "metadata": {
    "execution": {
     "iopub.execute_input": "2025-07-30T20:12:54.224123Z",
     "iopub.status.busy": "2025-07-30T20:12:54.223649Z",
     "iopub.status.idle": "2025-07-30T20:12:54.228910Z",
     "shell.execute_reply": "2025-07-30T20:12:54.227927Z"
    },
    "papermill": {
     "duration": 0.029487,
     "end_time": "2025-07-30T20:12:54.230559",
     "exception": false,
     "start_time": "2025-07-30T20:12:54.201072",
     "status": "completed"
    },
    "tags": []
   },
   "outputs": [],
   "source": [
    "import json\n",
    "# Parse universe into dict if it is passed as a string\n",
    "if isinstance(universe, str):\n",
    "    universe = json.loads(universe)"
   ]
  },
  {
   "cell_type": "code",
   "execution_count": 6,
   "id": "16620c48",
   "metadata": {
    "execution": {
     "iopub.execute_input": "2025-07-30T20:12:54.276882Z",
     "iopub.status.busy": "2025-07-30T20:12:54.276181Z",
     "iopub.status.idle": "2025-07-30T20:12:54.321611Z",
     "shell.execute_reply": "2025-07-30T20:12:54.320658Z"
    },
    "papermill": {
     "duration": 0.069914,
     "end_time": "2025-07-30T20:12:54.323581",
     "exception": false,
     "start_time": "2025-07-30T20:12:54.253667",
     "status": "completed"
    },
    "tags": []
   },
   "outputs": [],
   "source": [
    "# Auto-reload the custom package\n",
    "%load_ext autoreload\n",
    "%autoreload 1\n",
    "%aimport fairness_multiverse"
   ]
  },
  {
   "cell_type": "code",
   "execution_count": 7,
   "id": "01c5c9f3",
   "metadata": {
    "execution": {
     "iopub.execute_input": "2025-07-30T20:12:54.366625Z",
     "iopub.status.busy": "2025-07-30T20:12:54.365834Z",
     "iopub.status.idle": "2025-07-30T20:12:56.223830Z",
     "shell.execute_reply": "2025-07-30T20:12:56.223074Z"
    },
    "papermill": {
     "duration": 1.881009,
     "end_time": "2025-07-30T20:12:56.225336",
     "exception": false,
     "start_time": "2025-07-30T20:12:54.344327",
     "status": "completed"
    },
    "tags": []
   },
   "outputs": [],
   "source": [
    "from fairness_multiverse.universe import UniverseAnalysis\n",
    "\n",
    "universe_analysis = UniverseAnalysis(\n",
    "    run_no = run_no,\n",
    "    universe_id = universe_id,\n",
    "    universe = universe,\n",
    "    output_dir=output_dir,\n",
    ")"
   ]
  },
  {
   "cell_type": "code",
   "execution_count": 8,
   "id": "106241f5",
   "metadata": {
    "execution": {
     "iopub.execute_input": "2025-07-30T20:12:56.247507Z",
     "iopub.status.busy": "2025-07-30T20:12:56.247147Z",
     "iopub.status.idle": "2025-07-30T20:12:56.252762Z",
     "shell.execute_reply": "2025-07-30T20:12:56.251617Z"
    },
    "papermill": {
     "duration": 0.018155,
     "end_time": "2025-07-30T20:12:56.254083",
     "exception": false,
     "start_time": "2025-07-30T20:12:56.235928",
     "status": "completed"
    },
    "tags": []
   },
   "outputs": [
    {
     "name": "stdout",
     "output_type": "stream",
     "text": [
      "Using Seed: 2023\n"
     ]
    }
   ],
   "source": [
    "import numpy as np\n",
    "parsed_seed = int(seed)\n",
    "np.random.seed(parsed_seed)\n",
    "print(f\"Using Seed: {parsed_seed}\")"
   ]
  },
  {
   "cell_type": "markdown",
   "id": "e0ebdc57",
   "metadata": {
    "papermill": {
     "duration": 0.010317,
     "end_time": "2025-07-30T20:12:56.275630",
     "exception": false,
     "start_time": "2025-07-30T20:12:56.265313",
     "status": "completed"
    },
    "tags": []
   },
   "source": [
    "# Loading Data"
   ]
  },
  {
   "cell_type": "markdown",
   "id": "681925a3",
   "metadata": {
    "papermill": {
     "duration": 0.010387,
     "end_time": "2025-07-30T20:12:56.301378",
     "exception": false,
     "start_time": "2025-07-30T20:12:56.290991",
     "status": "completed"
    },
    "tags": []
   },
   "source": [
    "Load siab_train, siab_test, siab_calib and/or \n",
    "load siab_train_features, siab_train_labels"
   ]
  },
  {
   "cell_type": "code",
   "execution_count": 9,
   "id": "f0496b8a",
   "metadata": {
    "execution": {
     "iopub.execute_input": "2025-07-30T20:12:56.322693Z",
     "iopub.status.busy": "2025-07-30T20:12:56.322320Z",
     "iopub.status.idle": "2025-07-30T20:13:05.768917Z",
     "shell.execute_reply": "2025-07-30T20:13:05.767951Z"
    },
    "papermill": {
     "duration": 9.458895,
     "end_time": "2025-07-30T20:13:05.770236",
     "exception": false,
     "start_time": "2025-07-30T20:12:56.311341",
     "status": "completed"
    },
    "tags": []
   },
   "outputs": [
    {
     "name": "stdout",
     "output_type": "stream",
     "text": [
      "Loading SIAB data from cache: data/siab_cached.csv.gz\n"
     ]
    },
    {
     "name": "stdout",
     "output_type": "stream",
     "text": [
      "(643690, 164)\n"
     ]
    }
   ],
   "source": [
    "from pathlib import Path\n",
    "import pandas as pd\n",
    "\n",
    "# File paths\n",
    "raw_file = Path(\"data/raw/siab.csv\")\n",
    "cache_file = Path(\"data/siab_cached.csv.gz\")\n",
    "\n",
    "# Ensure cache directory exists\n",
    "cache_file.parent.mkdir(parents=True, exist_ok=True)\n",
    "\n",
    "# Load with simple caching\n",
    "if cache_file.exists():\n",
    "    print(f\"Loading SIAB data from cache: {cache_file}\")\n",
    "    siab = pd.read_csv(cache_file, compression='gzip')\n",
    "else:\n",
    "    print(f\"Cache not found. Reading raw SIAB data: {raw_file}\")\n",
    "    siab = pd.read_csv(raw_file)\n",
    "    siab.to_csv(cache_file, index=False, compression='gzip')\n",
    "    print(f\"Cached SIAB data to: {cache_file}\")\n",
    "\n",
    "# Now use `siab` DataFrame as needed\n",
    "print(siab.shape)"
   ]
  },
  {
   "cell_type": "code",
   "execution_count": 10,
   "id": "db0ca512-5f53-4dba-abdb-a2888bca41ba",
   "metadata": {
    "execution": {
     "iopub.execute_input": "2025-07-30T20:13:05.795908Z",
     "iopub.status.busy": "2025-07-30T20:13:05.795541Z",
     "iopub.status.idle": "2025-07-30T20:13:05.800320Z",
     "shell.execute_reply": "2025-07-30T20:13:05.799544Z"
    },
    "papermill": {
     "duration": 0.017984,
     "end_time": "2025-07-30T20:13:05.801661",
     "exception": false,
     "start_time": "2025-07-30T20:13:05.783677",
     "status": "completed"
    },
    "tags": []
   },
   "outputs": [],
   "source": [
    "#siab"
   ]
  },
  {
   "cell_type": "code",
   "execution_count": 11,
   "id": "a0edb063",
   "metadata": {
    "execution": {
     "iopub.execute_input": "2025-07-30T20:13:05.825484Z",
     "iopub.status.busy": "2025-07-30T20:13:05.824986Z",
     "iopub.status.idle": "2025-07-30T20:13:05.829518Z",
     "shell.execute_reply": "2025-07-30T20:13:05.828789Z"
    },
    "papermill": {
     "duration": 0.01791,
     "end_time": "2025-07-30T20:13:05.830913",
     "exception": false,
     "start_time": "2025-07-30T20:13:05.813003",
     "status": "completed"
    },
    "tags": []
   },
   "outputs": [],
   "source": [
    "#import pandas as pd\n",
    "#\n",
    "#X_train = pd.read_csv(\"./data/X_train.csv\")\n",
    "#y_train = pd.read_csv(\"./data/y_train.csv\")"
   ]
  },
  {
   "cell_type": "code",
   "execution_count": 12,
   "id": "63d08085",
   "metadata": {
    "execution": {
     "iopub.execute_input": "2025-07-30T20:13:05.855193Z",
     "iopub.status.busy": "2025-07-30T20:13:05.854846Z",
     "iopub.status.idle": "2025-07-30T20:13:05.858712Z",
     "shell.execute_reply": "2025-07-30T20:13:05.857934Z"
    },
    "papermill": {
     "duration": 0.016497,
     "end_time": "2025-07-30T20:13:05.859926",
     "exception": false,
     "start_time": "2025-07-30T20:13:05.843429",
     "status": "completed"
    },
    "tags": []
   },
   "outputs": [],
   "source": [
    "#X_test = pd.read_csv(\"./data/X_test.csv\")\n",
    "#y_true = pd.read_csv(\"./data/y_test.csv\")"
   ]
  },
  {
   "cell_type": "code",
   "execution_count": 13,
   "id": "98a8d0fa-1d3d-4ed8-bb2c-281470e24add",
   "metadata": {
    "execution": {
     "iopub.execute_input": "2025-07-30T20:13:05.882895Z",
     "iopub.status.busy": "2025-07-30T20:13:05.882545Z",
     "iopub.status.idle": "2025-07-30T20:13:05.886610Z",
     "shell.execute_reply": "2025-07-30T20:13:05.885782Z"
    },
    "papermill": {
     "duration": 0.016597,
     "end_time": "2025-07-30T20:13:05.887941",
     "exception": false,
     "start_time": "2025-07-30T20:13:05.871344",
     "status": "completed"
    },
    "tags": []
   },
   "outputs": [],
   "source": [
    "# Calibration data for conformal\n",
    "#X_calib = pd.read_csv(\"./data/X_calib.csv\")\n",
    "#y_calib = pd.read_csv(\"./data/y_calib.csv\")"
   ]
  },
  {
   "cell_type": "markdown",
   "id": "997051c5-15bd-4b69-9786-c3001a3ce484",
   "metadata": {
    "papermill": {
     "duration": 0.010351,
     "end_time": "2025-07-30T20:13:05.910072",
     "exception": false,
     "start_time": "2025-07-30T20:13:05.899721",
     "status": "completed"
    },
    "tags": []
   },
   "source": [
    "# Splitting Data and Setting Training Data Size"
   ]
  },
  {
   "cell_type": "code",
   "execution_count": 14,
   "id": "e993b61f-042d-41a6-8c81-f55681f86335",
   "metadata": {
    "execution": {
     "iopub.execute_input": "2025-07-30T20:13:05.932618Z",
     "iopub.status.busy": "2025-07-30T20:13:05.932273Z",
     "iopub.status.idle": "2025-07-30T20:13:05.940934Z",
     "shell.execute_reply": "2025-07-30T20:13:05.940188Z"
    },
    "papermill": {
     "duration": 0.021669,
     "end_time": "2025-07-30T20:13:05.942249",
     "exception": false,
     "start_time": "2025-07-30T20:13:05.920580",
     "status": "completed"
    },
    "tags": []
   },
   "outputs": [],
   "source": [
    "def sample_by_year_size(df,\n",
    "                        training_year: str,\n",
    "                        training_size: str,\n",
    "                        random_state: int = 42):\n",
    "    # --- parse training_year into a list of int years ---\n",
    "    if \"_\" in training_year:\n",
    "        start_str, end_str = training_year.split(\"_\", 1)\n",
    "        start = int(start_str)\n",
    "        end   = int(end_str) if len(end_str) == 4 else (int(end_str) + (start // 100)*100)\n",
    "        years = list(range(start, end + 1))\n",
    "    else:\n",
    "        years = [int(training_year)]\n",
    "\n",
    "    df = df[df[\"year\"].isin(years)].reset_index(drop=True)\n",
    "\n",
    "    # --- map training_size to total number of samples ---\n",
    "    total_map = {\"25k\": 25_000, \"5k\": 5_000, \"1k\": 1_000}\n",
    "    if training_size not in total_map:\n",
    "        return df  # e.g. \"all\"\n",
    "\n",
    "    total_samples = total_map[training_size]\n",
    "    n_years       = len(years)\n",
    "    base          = total_samples // n_years\n",
    "    remainder     = total_samples % n_years\n",
    "\n",
    "    # --- build a dict: year -> how many to sample ---\n",
    "    # give +1 to the first `remainder` years in ascending order\n",
    "    quotas = {\n",
    "        year: base + (1 if idx < remainder else 0)\n",
    "        for idx, year in enumerate(sorted(years))\n",
    "    }\n",
    "\n",
    "    # --- sample per‐year according to the quota dict ---\n",
    "    sampled = (\n",
    "        df\n",
    "        .groupby(\"year\", group_keys=False)\n",
    "        .apply(lambda grp: grp.sample(\n",
    "            n=min(len(grp), quotas[grp.name]),\n",
    "            random_state=random_state))\n",
    "        .reset_index(drop=True)\n",
    "    )\n",
    "\n",
    "    return sampled"
   ]
  },
  {
   "cell_type": "code",
   "execution_count": 15,
   "id": "c0ccd338-0e02-41f3-a09d-f56f9266e3fb",
   "metadata": {
    "execution": {
     "iopub.execute_input": "2025-07-30T20:13:05.965846Z",
     "iopub.status.busy": "2025-07-30T20:13:05.965348Z",
     "iopub.status.idle": "2025-07-30T20:13:05.969917Z",
     "shell.execute_reply": "2025-07-30T20:13:05.969196Z"
    },
    "papermill": {
     "duration": 0.017465,
     "end_time": "2025-07-30T20:13:05.971324",
     "exception": false,
     "start_time": "2025-07-30T20:13:05.953859",
     "status": "completed"
    },
    "tags": []
   },
   "outputs": [],
   "source": [
    "#universe[\"training_size\"]"
   ]
  },
  {
   "cell_type": "code",
   "execution_count": 16,
   "id": "ca707fd7-8047-4acd-bfa5-66248fbbf8e6",
   "metadata": {
    "execution": {
     "iopub.execute_input": "2025-07-30T20:13:05.994944Z",
     "iopub.status.busy": "2025-07-30T20:13:05.994446Z",
     "iopub.status.idle": "2025-07-30T20:13:05.999189Z",
     "shell.execute_reply": "2025-07-30T20:13:05.998475Z"
    },
    "papermill": {
     "duration": 0.017376,
     "end_time": "2025-07-30T20:13:06.000406",
     "exception": false,
     "start_time": "2025-07-30T20:13:05.983030",
     "status": "completed"
    },
    "tags": []
   },
   "outputs": [],
   "source": [
    "#universe[\"training_year\"]"
   ]
  },
  {
   "cell_type": "code",
   "execution_count": 17,
   "id": "aea9c6ef-6f46-42c8-85eb-5a62025c1508",
   "metadata": {
    "execution": {
     "iopub.execute_input": "2025-07-30T20:13:06.023953Z",
     "iopub.status.busy": "2025-07-30T20:13:06.023454Z",
     "iopub.status.idle": "2025-07-30T20:13:06.614148Z",
     "shell.execute_reply": "2025-07-30T20:13:06.613418Z"
    },
    "papermill": {
     "duration": 0.6039,
     "end_time": "2025-07-30T20:13:06.615615",
     "exception": false,
     "start_time": "2025-07-30T20:13:06.011715",
     "status": "completed"
    },
    "tags": []
   },
   "outputs": [],
   "source": [
    "siab_train = sample_by_year_size(siab,\n",
    "                               training_year=universe[\"training_year\"],\n",
    "                               training_size=universe[\"training_size\"])"
   ]
  },
  {
   "cell_type": "code",
   "execution_count": 18,
   "id": "8d3afb32-789d-442c-8d5d-9f5aa8dd2eed",
   "metadata": {
    "execution": {
     "iopub.execute_input": "2025-07-30T20:13:06.639053Z",
     "iopub.status.busy": "2025-07-30T20:13:06.638706Z",
     "iopub.status.idle": "2025-07-30T20:13:06.642984Z",
     "shell.execute_reply": "2025-07-30T20:13:06.642249Z"
    },
    "papermill": {
     "duration": 0.01748,
     "end_time": "2025-07-30T20:13:06.644376",
     "exception": false,
     "start_time": "2025-07-30T20:13:06.626896",
     "status": "completed"
    },
    "tags": []
   },
   "outputs": [],
   "source": [
    "#siab_train.shape"
   ]
  },
  {
   "cell_type": "code",
   "execution_count": 19,
   "id": "d582db68-1a4c-47fb-84fc-08518dc1975a",
   "metadata": {
    "execution": {
     "iopub.execute_input": "2025-07-30T20:13:06.667918Z",
     "iopub.status.busy": "2025-07-30T20:13:06.667432Z",
     "iopub.status.idle": "2025-07-30T20:13:06.671879Z",
     "shell.execute_reply": "2025-07-30T20:13:06.671190Z"
    },
    "papermill": {
     "duration": 0.017479,
     "end_time": "2025-07-30T20:13:06.673280",
     "exception": false,
     "start_time": "2025-07-30T20:13:06.655801",
     "status": "completed"
    },
    "tags": []
   },
   "outputs": [],
   "source": [
    "#display(siab_train.groupby(\"year\").size())"
   ]
  },
  {
   "cell_type": "code",
   "execution_count": 20,
   "id": "a561edb4-d032-42cb-8256-22eac1111c64",
   "metadata": {
    "execution": {
     "iopub.execute_input": "2025-07-30T20:13:06.697209Z",
     "iopub.status.busy": "2025-07-30T20:13:06.696461Z",
     "iopub.status.idle": "2025-07-30T20:13:06.894086Z",
     "shell.execute_reply": "2025-07-30T20:13:06.893150Z"
    },
    "papermill": {
     "duration": 0.211015,
     "end_time": "2025-07-30T20:13:06.896015",
     "exception": false,
     "start_time": "2025-07-30T20:13:06.685000",
     "status": "completed"
    },
    "tags": []
   },
   "outputs": [],
   "source": [
    "#siab_train = siab_s[siab_s.year < 2015]\n",
    "siab_calib = siab[siab.year == 2015]\n",
    "siab_test = siab[siab.year == 2016]"
   ]
  },
  {
   "cell_type": "code",
   "execution_count": 21,
   "id": "472de16f-c3db-4916-846b-1f0de9cf1746",
   "metadata": {
    "execution": {
     "iopub.execute_input": "2025-07-30T20:13:06.941841Z",
     "iopub.status.busy": "2025-07-30T20:13:06.940940Z",
     "iopub.status.idle": "2025-07-30T20:13:06.955625Z",
     "shell.execute_reply": "2025-07-30T20:13:06.954581Z"
    },
    "papermill": {
     "duration": 0.039489,
     "end_time": "2025-07-30T20:13:06.957624",
     "exception": false,
     "start_time": "2025-07-30T20:13:06.918135",
     "status": "completed"
    },
    "tags": []
   },
   "outputs": [],
   "source": [
    "X_train = siab_train.iloc[:,4:164]\n",
    "y_train = siab_train.iloc[:, [3]]"
   ]
  },
  {
   "cell_type": "code",
   "execution_count": 22,
   "id": "828c96af-f43a-4ed6-ba47-8ac73a47d56c",
   "metadata": {
    "execution": {
     "iopub.execute_input": "2025-07-30T20:13:07.002500Z",
     "iopub.status.busy": "2025-07-30T20:13:07.001619Z",
     "iopub.status.idle": "2025-07-30T20:13:07.037456Z",
     "shell.execute_reply": "2025-07-30T20:13:07.036173Z"
    },
    "papermill": {
     "duration": 0.060543,
     "end_time": "2025-07-30T20:13:07.039416",
     "exception": false,
     "start_time": "2025-07-30T20:13:06.978873",
     "status": "completed"
    },
    "tags": []
   },
   "outputs": [],
   "source": [
    "X_calib = siab_calib.iloc[:,4:164]\n",
    "y_calib = siab_calib.iloc[:, [3]]"
   ]
  },
  {
   "cell_type": "code",
   "execution_count": 23,
   "id": "c34be9c3-6bd6-476e-acd3-845840e303be",
   "metadata": {
    "execution": {
     "iopub.execute_input": "2025-07-30T20:13:07.085206Z",
     "iopub.status.busy": "2025-07-30T20:13:07.084312Z",
     "iopub.status.idle": "2025-07-30T20:13:07.138103Z",
     "shell.execute_reply": "2025-07-30T20:13:07.136842Z"
    },
    "papermill": {
     "duration": 0.078346,
     "end_time": "2025-07-30T20:13:07.140282",
     "exception": false,
     "start_time": "2025-07-30T20:13:07.061936",
     "status": "completed"
    },
    "tags": []
   },
   "outputs": [],
   "source": [
    "X_test = siab_test.iloc[:,4:164]\n",
    "y_true = siab_test.iloc[:, [3]]"
   ]
  },
  {
   "cell_type": "markdown",
   "id": "9901737e-04df-44f0-9100-f5ad144ed040",
   "metadata": {
    "papermill": {
     "duration": 0.023896,
     "end_time": "2025-07-30T20:13:07.186233",
     "exception": false,
     "start_time": "2025-07-30T20:13:07.162337",
     "status": "completed"
    },
    "tags": []
   },
   "source": [
    "# Splitting Data and Setting Training Data Size OLD VERSION"
   ]
  },
  {
   "cell_type": "code",
   "execution_count": 24,
   "id": "acbc8f7d-8fc8-4e86-8c59-5dcb0f58384b",
   "metadata": {
    "execution": {
     "iopub.execute_input": "2025-07-30T20:13:07.233150Z",
     "iopub.status.busy": "2025-07-30T20:13:07.232588Z",
     "iopub.status.idle": "2025-07-30T20:13:07.239297Z",
     "shell.execute_reply": "2025-07-30T20:13:07.238106Z"
    },
    "papermill": {
     "duration": 0.032683,
     "end_time": "2025-07-30T20:13:07.241173",
     "exception": false,
     "start_time": "2025-07-30T20:13:07.208490",
     "status": "completed"
    },
    "tags": []
   },
   "outputs": [],
   "source": [
    "#def sample_by_year(df, training_size, random_state=42):\n",
    "#    if training_size == \"2014\":\n",
    "#        return df[df[\"year\"] == 2014].reset_index(drop=True)\n",
    "#    \n",
    "#    size_map = {\n",
    "#        \"25k\": 5000,\n",
    "#        \"5k\": 1000,\n",
    "#        \"1k\": 200\n",
    "#    }\n",
    "#\n",
    "#    if training_size not in size_map:\n",
    "#        return df.reset_index(drop=True)  # use all data\n",
    "#\n",
    "#    n_per_year = size_map[training_size]\n",
    "#    grouped = df.groupby(\"year\")\n",
    "#    sampled = grouped.apply(lambda x: x.sample(n=min(n_per_year, len(x)), random_state=random_state))\n",
    "#    return sampled.reset_index(drop=True)"
   ]
  },
  {
   "cell_type": "code",
   "execution_count": 25,
   "id": "6d931f52-beaf-43ff-9e78-9d44a448d54e",
   "metadata": {
    "execution": {
     "iopub.execute_input": "2025-07-30T20:13:07.287851Z",
     "iopub.status.busy": "2025-07-30T20:13:07.287014Z",
     "iopub.status.idle": "2025-07-30T20:13:07.293433Z",
     "shell.execute_reply": "2025-07-30T20:13:07.292390Z"
    },
    "papermill": {
     "duration": 0.031298,
     "end_time": "2025-07-30T20:13:07.295143",
     "exception": false,
     "start_time": "2025-07-30T20:13:07.263845",
     "status": "completed"
    },
    "tags": []
   },
   "outputs": [],
   "source": [
    "#siab_s = sample_by_year(siab, universe[\"training_size\"])"
   ]
  },
  {
   "cell_type": "code",
   "execution_count": 26,
   "id": "5db0a40e-a4e2-4920-be85-b12ae061d70d",
   "metadata": {
    "execution": {
     "iopub.execute_input": "2025-07-30T20:13:07.341947Z",
     "iopub.status.busy": "2025-07-30T20:13:07.341308Z",
     "iopub.status.idle": "2025-07-30T20:13:07.347180Z",
     "shell.execute_reply": "2025-07-30T20:13:07.346135Z"
    },
    "papermill": {
     "duration": 0.030727,
     "end_time": "2025-07-30T20:13:07.348793",
     "exception": false,
     "start_time": "2025-07-30T20:13:07.318066",
     "status": "completed"
    },
    "tags": []
   },
   "outputs": [],
   "source": [
    "#display(siab_s.groupby(\"year\").size())"
   ]
  },
  {
   "cell_type": "code",
   "execution_count": 27,
   "id": "e6c733c5",
   "metadata": {
    "execution": {
     "iopub.execute_input": "2025-07-30T20:13:07.396908Z",
     "iopub.status.busy": "2025-07-30T20:13:07.395897Z",
     "iopub.status.idle": "2025-07-30T20:13:07.552260Z",
     "shell.execute_reply": "2025-07-30T20:13:07.551091Z"
    },
    "papermill": {
     "duration": 0.182163,
     "end_time": "2025-07-30T20:13:07.553895",
     "exception": false,
     "start_time": "2025-07-30T20:13:07.371732",
     "status": "completed"
    },
    "tags": []
   },
   "outputs": [],
   "source": [
    "# Auxiliary data needed downstream in the pipeline\n",
    "\n",
    "org_train = X_train.copy()\n",
    "org_test = X_test.copy()\n",
    "org_calib = X_calib.copy()"
   ]
  },
  {
   "cell_type": "code",
   "execution_count": 28,
   "id": "1466abac-c6da-4492-a62f-4240ae3783af",
   "metadata": {
    "execution": {
     "iopub.execute_input": "2025-07-30T20:13:07.599812Z",
     "iopub.status.busy": "2025-07-30T20:13:07.598829Z",
     "iopub.status.idle": "2025-07-30T20:13:07.605542Z",
     "shell.execute_reply": "2025-07-30T20:13:07.604504Z"
    },
    "papermill": {
     "duration": 0.032985,
     "end_time": "2025-07-30T20:13:07.607554",
     "exception": false,
     "start_time": "2025-07-30T20:13:07.574569",
     "status": "completed"
    },
    "tags": []
   },
   "outputs": [],
   "source": [
    "# put in other script?\n",
    "# Group sizes\n",
    "\n",
    "#def calculate_percentages(df, df_name):\n",
    "#    total_entries = len(df)\n",
    "#\n",
    "#    female_pct = (df['frau1'] == 1).mean() * 100\n",
    "#    non_german_pct = ((df['maxdeutsch1'] == 0) & (df['maxdeutsch.Missing.'] == 0)).mean() * 100\n",
    "#    non_german_male_pct = ((df['frau1'] == 0) & (df['maxdeutsch1'] == 0) & (df['maxdeutsch.Missing.'] == 0)).mean() * 100\n",
    "#    non_german_female_pct = ((df['frau1'] == 1) & (df['maxdeutsch1'] == 0) & (df['maxdeutsch.Missing.'] == 0)).mean() * 100\n",
    "#\n",
    "#    print(f\"--- {df_name} ---\")\n",
    "#    print(f\"Female: {female_pct:.2f}%\")\n",
    "#    print(f\"Non-German: {non_german_pct:.2f}%\")\n",
    "#    print(f\"Non-German Male: {non_german_male_pct:.2f}%\")\n",
    "#    print(f\"Non-German Female: {non_german_female_pct:.2f}%\\n\")\n",
    "#\n",
    "## Calculate for each DataFrame\n",
    "#calculate_percentages(siab_calib, \"siab_calib\")\n",
    "#calculate_percentages(siab_test, \"siab_test\")\n",
    "#calculate_percentages(siab_train, \"siab_train\")"
   ]
  },
  {
   "cell_type": "markdown",
   "id": "0a4a1b33",
   "metadata": {
    "papermill": {
     "duration": 0.026211,
     "end_time": "2025-07-30T20:13:07.662857",
     "exception": false,
     "start_time": "2025-07-30T20:13:07.636646",
     "status": "completed"
    },
    "tags": []
   },
   "source": [
    "# Preprocessing Data"
   ]
  },
  {
   "cell_type": "code",
   "execution_count": 29,
   "id": "ca879031",
   "metadata": {
    "execution": {
     "iopub.execute_input": "2025-07-30T20:13:07.722465Z",
     "iopub.status.busy": "2025-07-30T20:13:07.721751Z",
     "iopub.status.idle": "2025-07-30T20:13:07.728712Z",
     "shell.execute_reply": "2025-07-30T20:13:07.727560Z"
    },
    "papermill": {
     "duration": 0.038935,
     "end_time": "2025-07-30T20:13:07.730388",
     "exception": false,
     "start_time": "2025-07-30T20:13:07.691453",
     "status": "completed"
    },
    "tags": []
   },
   "outputs": [],
   "source": [
    "# EXCLUDE PROTECTED FEATURES\n",
    "# ----------------------\n",
    "# \"exclude_features\": \"none\", # \"nationality\", \"sex\", \"nationality-sex\"\n",
    "\n",
    "excluded_features = universe[\"exclude_features\"].split(\"-\") # split, e.g.: \"nationality-sex\" -> [\"nationality\", \"sex\"]\n",
    "excluded_features_dictionary = {\n",
    "    \"nationality\": [\"maxdeutsch1\", \"maxdeutsch.Missing.\"],\n",
    "    \"sex\": [\"frau1\"],\n",
    "    \"age\": [\"age\"],\n",
    "}\n"
   ]
  },
  {
   "cell_type": "code",
   "execution_count": 30,
   "id": "b745ac60",
   "metadata": {
    "execution": {
     "iopub.execute_input": "2025-07-30T20:13:07.778165Z",
     "iopub.status.busy": "2025-07-30T20:13:07.777445Z",
     "iopub.status.idle": "2025-07-30T20:13:07.783794Z",
     "shell.execute_reply": "2025-07-30T20:13:07.782715Z"
    },
    "papermill": {
     "duration": 0.031872,
     "end_time": "2025-07-30T20:13:07.785500",
     "exception": false,
     "start_time": "2025-07-30T20:13:07.753628",
     "status": "completed"
    },
    "tags": []
   },
   "outputs": [],
   "source": [
    "# Code nice names to column names\n",
    "\n",
    "excluded_features_columns = [\n",
    "    excluded_features_dictionary[f] for f in excluded_features if len(f) > 0 and f != \"none\"\n",
    "]"
   ]
  },
  {
   "cell_type": "code",
   "execution_count": 31,
   "id": "f84f73a2",
   "metadata": {
    "execution": {
     "iopub.execute_input": "2025-07-30T20:13:07.833507Z",
     "iopub.status.busy": "2025-07-30T20:13:07.832538Z",
     "iopub.status.idle": "2025-07-30T20:13:07.841295Z",
     "shell.execute_reply": "2025-07-30T20:13:07.840062Z"
    },
    "papermill": {
     "duration": 0.034679,
     "end_time": "2025-07-30T20:13:07.843115",
     "exception": false,
     "start_time": "2025-07-30T20:13:07.808436",
     "status": "completed"
    },
    "tags": []
   },
   "outputs": [],
   "source": [
    "from utils import flatten_once\n",
    "\n",
    "excluded_features_columns = flatten_once(excluded_features_columns)"
   ]
  },
  {
   "cell_type": "code",
   "execution_count": 32,
   "id": "884dea22",
   "metadata": {
    "execution": {
     "iopub.execute_input": "2025-07-30T20:13:07.894001Z",
     "iopub.status.busy": "2025-07-30T20:13:07.893382Z",
     "iopub.status.idle": "2025-07-30T20:13:07.907729Z",
     "shell.execute_reply": "2025-07-30T20:13:07.906932Z"
    },
    "papermill": {
     "duration": 0.042309,
     "end_time": "2025-07-30T20:13:07.909100",
     "exception": false,
     "start_time": "2025-07-30T20:13:07.866791",
     "status": "completed"
    },
    "tags": []
   },
   "outputs": [
    {
     "name": "stdout",
     "output_type": "stream",
     "text": [
      "Dropping features: ['maxdeutsch1', 'maxdeutsch.Missing.', 'frau1']\n"
     ]
    }
   ],
   "source": [
    "if len(excluded_features_columns) > 0:\n",
    "    print(f\"Dropping features: {excluded_features_columns}\")\n",
    "    X_train.drop(excluded_features_columns, axis=1, inplace=True)"
   ]
  },
  {
   "cell_type": "code",
   "execution_count": 33,
   "id": "95ab8b16",
   "metadata": {
    "execution": {
     "iopub.execute_input": "2025-07-30T20:13:07.933845Z",
     "iopub.status.busy": "2025-07-30T20:13:07.933170Z",
     "iopub.status.idle": "2025-07-30T20:13:07.981813Z",
     "shell.execute_reply": "2025-07-30T20:13:07.981028Z"
    },
    "papermill": {
     "duration": 0.061701,
     "end_time": "2025-07-30T20:13:07.983057",
     "exception": false,
     "start_time": "2025-07-30T20:13:07.921356",
     "status": "completed"
    },
    "tags": []
   },
   "outputs": [
    {
     "name": "stdout",
     "output_type": "stream",
     "text": [
      "Dropping features: ['maxdeutsch1', 'maxdeutsch.Missing.', 'frau1']\n"
     ]
    }
   ],
   "source": [
    "if len(excluded_features_columns) > 0:\n",
    "    print(f\"Dropping features: {excluded_features_columns}\")\n",
    "    X_test.drop(excluded_features_columns, axis=1, inplace=True)"
   ]
  },
  {
   "cell_type": "code",
   "execution_count": 34,
   "id": "1853aaf5-fb9f-46cb-a2b5-8ea4ae2237e4",
   "metadata": {
    "execution": {
     "iopub.execute_input": "2025-07-30T20:13:08.034350Z",
     "iopub.status.busy": "2025-07-30T20:13:08.033886Z",
     "iopub.status.idle": "2025-07-30T20:13:08.084554Z",
     "shell.execute_reply": "2025-07-30T20:13:08.083475Z"
    },
    "papermill": {
     "duration": 0.08232,
     "end_time": "2025-07-30T20:13:08.086522",
     "exception": false,
     "start_time": "2025-07-30T20:13:08.004202",
     "status": "completed"
    },
    "tags": []
   },
   "outputs": [
    {
     "name": "stdout",
     "output_type": "stream",
     "text": [
      "Dropping features: ['maxdeutsch1', 'maxdeutsch.Missing.', 'frau1']\n"
     ]
    }
   ],
   "source": [
    "if len(excluded_features_columns) > 0:\n",
    "    print(f\"Dropping features: {excluded_features_columns}\")\n",
    "    X_calib.drop(excluded_features_columns, axis=1, inplace=True)"
   ]
  },
  {
   "cell_type": "code",
   "execution_count": 35,
   "id": "6727d079-03e5-481e-9d38-292a90b7a0a8",
   "metadata": {
    "execution": {
     "iopub.execute_input": "2025-07-30T20:13:08.146107Z",
     "iopub.status.busy": "2025-07-30T20:13:08.145404Z",
     "iopub.status.idle": "2025-07-30T20:13:08.151140Z",
     "shell.execute_reply": "2025-07-30T20:13:08.150127Z"
    },
    "papermill": {
     "duration": 0.037311,
     "end_time": "2025-07-30T20:13:08.153188",
     "exception": false,
     "start_time": "2025-07-30T20:13:08.115877",
     "status": "completed"
    },
    "tags": []
   },
   "outputs": [],
   "source": [
    "# SPLIT & STRATIFY DATA\n",
    "# ----------------------"
   ]
  },
  {
   "cell_type": "code",
   "execution_count": 36,
   "id": "76c4dc6d",
   "metadata": {
    "execution": {
     "iopub.execute_input": "2025-07-30T20:13:08.214178Z",
     "iopub.status.busy": "2025-07-30T20:13:08.213470Z",
     "iopub.status.idle": "2025-07-30T20:13:08.219785Z",
     "shell.execute_reply": "2025-07-30T20:13:08.218618Z"
    },
    "papermill": {
     "duration": 0.038974,
     "end_time": "2025-07-30T20:13:08.221834",
     "exception": false,
     "start_time": "2025-07-30T20:13:08.182860",
     "status": "completed"
    },
    "tags": []
   },
   "outputs": [],
   "source": [
    "# EXCLUDE CERTAIN SUBGROUPS\n",
    "# ----------------------\n",
    "\n",
    "mode = universe.get(\"exclude_subgroups\", \"keep-all\") \n",
    "# Fetches the exclude_subgroups setting from the universe dict.\n",
    "# Defaults to \"keep-all\" if the key is missing."
   ]
  },
  {
   "cell_type": "code",
   "execution_count": 37,
   "id": "21994072",
   "metadata": {
    "execution": {
     "iopub.execute_input": "2025-07-30T20:13:08.260785Z",
     "iopub.status.busy": "2025-07-30T20:13:08.260444Z",
     "iopub.status.idle": "2025-07-30T20:13:08.265884Z",
     "shell.execute_reply": "2025-07-30T20:13:08.265244Z"
    },
    "papermill": {
     "duration": 0.01894,
     "end_time": "2025-07-30T20:13:08.267103",
     "exception": false,
     "start_time": "2025-07-30T20:13:08.248163",
     "status": "completed"
    },
    "tags": []
   },
   "outputs": [],
   "source": [
    "if mode == \"keep-all\":\n",
    "    keep_mask = pd.Series(True, index=org_train.index)\n",
    "\n",
    "# org_train contains the original feature columns from features_org (in Simson)\n",
    "# features_org contains unprocessed features, for me X_train at beginning ???\n",
    "# For keep-all, creates a boolean Series (keep_mask) of all True, so no rows are removed.\n",
    "\n",
    "elif mode == \"drop-non-german\":\n",
    "    keep_mask = org_train[\"maxdeutsch1\"] == 1 # ??? what about missing values?\n",
    "\n",
    "else:\n",
    "    raise ValueError(f\"Unsupported mode for exclude_subgroups: {mode}\")\n"
   ]
  },
  {
   "cell_type": "code",
   "execution_count": 38,
   "id": "71651440",
   "metadata": {
    "execution": {
     "iopub.execute_input": "2025-07-30T20:13:08.291641Z",
     "iopub.status.busy": "2025-07-30T20:13:08.291235Z",
     "iopub.status.idle": "2025-07-30T20:13:08.298721Z",
     "shell.execute_reply": "2025-07-30T20:13:08.297466Z"
    },
    "papermill": {
     "duration": 0.022413,
     "end_time": "2025-07-30T20:13:08.301501",
     "exception": false,
     "start_time": "2025-07-30T20:13:08.279088",
     "status": "completed"
    },
    "tags": []
   },
   "outputs": [],
   "source": [
    "n_drop = (~keep_mask).sum() # Calculates how many rows are set to be dropped\n",
    "if n_drop > 0:\n",
    "    pct = n_drop / len(keep_mask) * 100\n",
    "    print(f\"Dropping {n_drop} rows ({pct:.2f}%) where mode='{mode}'\")"
   ]
  },
  {
   "cell_type": "code",
   "execution_count": 39,
   "id": "5fb8eee5",
   "metadata": {
    "execution": {
     "iopub.execute_input": "2025-07-30T20:13:08.329475Z",
     "iopub.status.busy": "2025-07-30T20:13:08.329143Z",
     "iopub.status.idle": "2025-07-30T20:13:08.341636Z",
     "shell.execute_reply": "2025-07-30T20:13:08.340743Z"
    },
    "papermill": {
     "duration": 0.025917,
     "end_time": "2025-07-30T20:13:08.343061",
     "exception": false,
     "start_time": "2025-07-30T20:13:08.317144",
     "status": "completed"
    },
    "tags": []
   },
   "outputs": [],
   "source": [
    "X_train = X_train[keep_mask]"
   ]
  },
  {
   "cell_type": "code",
   "execution_count": 40,
   "id": "b202bb3a",
   "metadata": {
    "execution": {
     "iopub.execute_input": "2025-07-30T20:13:08.386623Z",
     "iopub.status.busy": "2025-07-30T20:13:08.386142Z",
     "iopub.status.idle": "2025-07-30T20:13:08.393506Z",
     "shell.execute_reply": "2025-07-30T20:13:08.392426Z"
    },
    "papermill": {
     "duration": 0.040137,
     "end_time": "2025-07-30T20:13:08.395680",
     "exception": false,
     "start_time": "2025-07-30T20:13:08.355543",
     "status": "completed"
    },
    "tags": []
   },
   "outputs": [],
   "source": [
    "y_train = y_train[keep_mask]"
   ]
  },
  {
   "cell_type": "markdown",
   "id": "493e2ac3",
   "metadata": {
    "papermill": {
     "duration": 0.01172,
     "end_time": "2025-07-30T20:13:08.429286",
     "exception": false,
     "start_time": "2025-07-30T20:13:08.417566",
     "status": "completed"
    },
    "tags": []
   },
   "source": [
    "# Model Training"
   ]
  },
  {
   "cell_type": "code",
   "execution_count": 41,
   "id": "679e1268",
   "metadata": {
    "execution": {
     "iopub.execute_input": "2025-07-30T20:13:08.453155Z",
     "iopub.status.busy": "2025-07-30T20:13:08.452698Z",
     "iopub.status.idle": "2025-07-30T20:13:08.566116Z",
     "shell.execute_reply": "2025-07-30T20:13:08.565176Z"
    },
    "papermill": {
     "duration": 0.127452,
     "end_time": "2025-07-30T20:13:08.568063",
     "exception": false,
     "start_time": "2025-07-30T20:13:08.440611",
     "status": "completed"
    },
    "tags": []
   },
   "outputs": [],
   "source": [
    "from sklearn.linear_model import LogisticRegression\n",
    "from sklearn.ensemble import GradientBoostingClassifier, RandomForestClassifier\n",
    "\n",
    "if (universe[\"model\"] == \"logreg\"):\n",
    "    model = LogisticRegression() #penalty=\"none\") #, solver=\"newton-cg\", max_iter=1) # include random_state=19 ?\n",
    "elif (universe[\"model\"] == \"penalized_logreg\"):\n",
    "    model = LogisticRegression(penalty=\"l2\", C=1.0) #, solver=\"newton-cg\", max_iter=1)\n",
    "elif (universe[\"model\"] == \"rf\"):\n",
    "    model = RandomForestClassifier(n_estimators=100, n_jobs=-1)\n",
    "elif (universe[\"model\"] == \"gbm\"):\n",
    "    model = GradientBoostingClassifier()\n",
    "elif (universe[\"model\"] == \"elasticnet\"):\n",
    "    model = LogisticRegression(penalty = 'elasticnet', solver = 'saga', l1_ratio = 0.5, max_iter=5000) # which solver to use?\n",
    "else:\n",
    "    raise \"Unsupported universe.model\""
   ]
  },
  {
   "cell_type": "code",
   "execution_count": 42,
   "id": "0cc8f744",
   "metadata": {
    "execution": {
     "iopub.execute_input": "2025-07-30T20:13:08.619548Z",
     "iopub.status.busy": "2025-07-30T20:13:08.618722Z",
     "iopub.status.idle": "2025-07-30T20:13:08.625494Z",
     "shell.execute_reply": "2025-07-30T20:13:08.624577Z"
    },
    "papermill": {
     "duration": 0.03498,
     "end_time": "2025-07-30T20:13:08.627107",
     "exception": false,
     "start_time": "2025-07-30T20:13:08.592127",
     "status": "completed"
    },
    "tags": []
   },
   "outputs": [],
   "source": [
    "import numpy as np\n",
    "from sklearn.pipeline import Pipeline\n",
    "from sklearn.preprocessing import StandardScaler\n",
    "\n",
    "model = Pipeline([\n",
    "    #(\"continuous_processor\", continuous_processor),\n",
    "    #(\"categorical_preprocessor\", categorical_preprocessor),\n",
    "    (\"scale\", StandardScaler() if universe[\"scale\"] == \"scale\" else None), \n",
    "    (\"model\", model),\n",
    "])"
   ]
  },
  {
   "cell_type": "code",
   "execution_count": 43,
   "id": "9442c04d",
   "metadata": {
    "execution": {
     "iopub.execute_input": "2025-07-30T20:13:08.677602Z",
     "iopub.status.busy": "2025-07-30T20:13:08.676759Z",
     "iopub.status.idle": "2025-07-30T20:13:33.315226Z",
     "shell.execute_reply": "2025-07-30T20:13:33.314150Z"
    },
    "papermill": {
     "duration": 24.66462,
     "end_time": "2025-07-30T20:13:33.317055",
     "exception": false,
     "start_time": "2025-07-30T20:13:08.652435",
     "status": "completed"
    },
    "tags": []
   },
   "outputs": [
    {
     "data": {
      "text/html": [
       "<style>#sk-container-id-1 {color: black;background-color: white;}#sk-container-id-1 pre{padding: 0;}#sk-container-id-1 div.sk-toggleable {background-color: white;}#sk-container-id-1 label.sk-toggleable__label {cursor: pointer;display: block;width: 100%;margin-bottom: 0;padding: 0.3em;box-sizing: border-box;text-align: center;}#sk-container-id-1 label.sk-toggleable__label-arrow:before {content: \"▸\";float: left;margin-right: 0.25em;color: #696969;}#sk-container-id-1 label.sk-toggleable__label-arrow:hover:before {color: black;}#sk-container-id-1 div.sk-estimator:hover label.sk-toggleable__label-arrow:before {color: black;}#sk-container-id-1 div.sk-toggleable__content {max-height: 0;max-width: 0;overflow: hidden;text-align: left;background-color: #f0f8ff;}#sk-container-id-1 div.sk-toggleable__content pre {margin: 0.2em;color: black;border-radius: 0.25em;background-color: #f0f8ff;}#sk-container-id-1 input.sk-toggleable__control:checked~div.sk-toggleable__content {max-height: 200px;max-width: 100%;overflow: auto;}#sk-container-id-1 input.sk-toggleable__control:checked~label.sk-toggleable__label-arrow:before {content: \"▾\";}#sk-container-id-1 div.sk-estimator input.sk-toggleable__control:checked~label.sk-toggleable__label {background-color: #d4ebff;}#sk-container-id-1 div.sk-label input.sk-toggleable__control:checked~label.sk-toggleable__label {background-color: #d4ebff;}#sk-container-id-1 input.sk-hidden--visually {border: 0;clip: rect(1px 1px 1px 1px);clip: rect(1px, 1px, 1px, 1px);height: 1px;margin: -1px;overflow: hidden;padding: 0;position: absolute;width: 1px;}#sk-container-id-1 div.sk-estimator {font-family: monospace;background-color: #f0f8ff;border: 1px dotted black;border-radius: 0.25em;box-sizing: border-box;margin-bottom: 0.5em;}#sk-container-id-1 div.sk-estimator:hover {background-color: #d4ebff;}#sk-container-id-1 div.sk-parallel-item::after {content: \"\";width: 100%;border-bottom: 1px solid gray;flex-grow: 1;}#sk-container-id-1 div.sk-label:hover label.sk-toggleable__label {background-color: #d4ebff;}#sk-container-id-1 div.sk-serial::before {content: \"\";position: absolute;border-left: 1px solid gray;box-sizing: border-box;top: 0;bottom: 0;left: 50%;z-index: 0;}#sk-container-id-1 div.sk-serial {display: flex;flex-direction: column;align-items: center;background-color: white;padding-right: 0.2em;padding-left: 0.2em;position: relative;}#sk-container-id-1 div.sk-item {position: relative;z-index: 1;}#sk-container-id-1 div.sk-parallel {display: flex;align-items: stretch;justify-content: center;background-color: white;position: relative;}#sk-container-id-1 div.sk-item::before, #sk-container-id-1 div.sk-parallel-item::before {content: \"\";position: absolute;border-left: 1px solid gray;box-sizing: border-box;top: 0;bottom: 0;left: 50%;z-index: -1;}#sk-container-id-1 div.sk-parallel-item {display: flex;flex-direction: column;z-index: 1;position: relative;background-color: white;}#sk-container-id-1 div.sk-parallel-item:first-child::after {align-self: flex-end;width: 50%;}#sk-container-id-1 div.sk-parallel-item:last-child::after {align-self: flex-start;width: 50%;}#sk-container-id-1 div.sk-parallel-item:only-child::after {width: 0;}#sk-container-id-1 div.sk-dashed-wrapped {border: 1px dashed gray;margin: 0 0.4em 0.5em 0.4em;box-sizing: border-box;padding-bottom: 0.4em;background-color: white;}#sk-container-id-1 div.sk-label label {font-family: monospace;font-weight: bold;display: inline-block;line-height: 1.2em;}#sk-container-id-1 div.sk-label-container {text-align: center;}#sk-container-id-1 div.sk-container {/* jupyter's `normalize.less` sets `[hidden] { display: none; }` but bootstrap.min.css set `[hidden] { display: none !important; }` so we also need the `!important` here to be able to override the default hidden behavior on the sphinx rendered scikit-learn.org. See: https://github.com/scikit-learn/scikit-learn/issues/21755 */display: inline-block !important;position: relative;}#sk-container-id-1 div.sk-text-repr-fallback {display: none;}</style><div id=\"sk-container-id-1\" class=\"sk-top-container\"><div class=\"sk-text-repr-fallback\"><pre>Pipeline(steps=[(&#x27;scale&#x27;, StandardScaler()),\n",
       "                (&#x27;model&#x27;, GradientBoostingClassifier())])</pre><b>In a Jupyter environment, please rerun this cell to show the HTML representation or trust the notebook. <br />On GitHub, the HTML representation is unable to render, please try loading this page with nbviewer.org.</b></div><div class=\"sk-container\" hidden><div class=\"sk-item sk-dashed-wrapped\"><div class=\"sk-label-container\"><div class=\"sk-label sk-toggleable\"><input class=\"sk-toggleable__control sk-hidden--visually\" id=\"sk-estimator-id-1\" type=\"checkbox\" ><label for=\"sk-estimator-id-1\" class=\"sk-toggleable__label sk-toggleable__label-arrow\">Pipeline</label><div class=\"sk-toggleable__content\"><pre>Pipeline(steps=[(&#x27;scale&#x27;, StandardScaler()),\n",
       "                (&#x27;model&#x27;, GradientBoostingClassifier())])</pre></div></div></div><div class=\"sk-serial\"><div class=\"sk-item\"><div class=\"sk-estimator sk-toggleable\"><input class=\"sk-toggleable__control sk-hidden--visually\" id=\"sk-estimator-id-2\" type=\"checkbox\" ><label for=\"sk-estimator-id-2\" class=\"sk-toggleable__label sk-toggleable__label-arrow\">StandardScaler</label><div class=\"sk-toggleable__content\"><pre>StandardScaler()</pre></div></div></div><div class=\"sk-item\"><div class=\"sk-estimator sk-toggleable\"><input class=\"sk-toggleable__control sk-hidden--visually\" id=\"sk-estimator-id-3\" type=\"checkbox\" ><label for=\"sk-estimator-id-3\" class=\"sk-toggleable__label sk-toggleable__label-arrow\">GradientBoostingClassifier</label><div class=\"sk-toggleable__content\"><pre>GradientBoostingClassifier()</pre></div></div></div></div></div></div></div>"
      ],
      "text/plain": [
       "Pipeline(steps=[('scale', StandardScaler()),\n",
       "                ('model', GradientBoostingClassifier())])"
      ]
     },
     "execution_count": 43,
     "metadata": {},
     "output_type": "execute_result"
    }
   ],
   "source": [
    "model.fit(X_train, y_train.values.ravel())"
   ]
  },
  {
   "cell_type": "code",
   "execution_count": 44,
   "id": "af59f8c0",
   "metadata": {
    "execution": {
     "iopub.execute_input": "2025-07-30T20:13:33.389578Z",
     "iopub.status.busy": "2025-07-30T20:13:33.389041Z",
     "iopub.status.idle": "2025-07-30T20:13:33.395934Z",
     "shell.execute_reply": "2025-07-30T20:13:33.394923Z"
    },
    "papermill": {
     "duration": 0.038108,
     "end_time": "2025-07-30T20:13:33.397942",
     "exception": false,
     "start_time": "2025-07-30T20:13:33.359834",
     "status": "completed"
    },
    "tags": []
   },
   "outputs": [],
   "source": [
    "from fairness_multiverse.universe import predict_w_threshold"
   ]
  },
  {
   "cell_type": "code",
   "execution_count": 45,
   "id": "a7cf2e16",
   "metadata": {
    "execution": {
     "iopub.execute_input": "2025-07-30T20:13:33.449214Z",
     "iopub.status.busy": "2025-07-30T20:13:33.448629Z",
     "iopub.status.idle": "2025-07-30T20:13:34.313204Z",
     "shell.execute_reply": "2025-07-30T20:13:34.312259Z"
    },
    "papermill": {
     "duration": 0.892703,
     "end_time": "2025-07-30T20:13:34.315071",
     "exception": false,
     "start_time": "2025-07-30T20:13:33.422368",
     "status": "completed"
    },
    "tags": []
   },
   "outputs": [
    {
     "data": {
      "text/plain": [
       "0.8691227287927767"
      ]
     },
     "execution_count": 45,
     "metadata": {},
     "output_type": "execute_result"
    }
   ],
   "source": [
    "probs_test = model.predict_proba(X_test)\n",
    "\n",
    "'''\n",
    "Below code returns a boolean array (or binary 0/1 array depending on how it’s used) where each element \n",
    "is True if the probability of class 1 is greater than or equal to the threshold, and False otherwise.\n",
    "'''\n",
    "y_pred_default = predict_w_threshold(probs_test, 0.5)\n",
    "\n",
    "from sklearn.metrics import accuracy_score\n",
    "\n",
    "# Naive prediction\n",
    "accuracy_score(y_true = y_true, y_pred = y_pred_default)"
   ]
  },
  {
   "cell_type": "code",
   "execution_count": 46,
   "id": "081964c3",
   "metadata": {
    "execution": {
     "iopub.execute_input": "2025-07-30T20:13:34.367867Z",
     "iopub.status.busy": "2025-07-30T20:13:34.367172Z",
     "iopub.status.idle": "2025-07-30T20:13:35.199628Z",
     "shell.execute_reply": "2025-07-30T20:13:35.198687Z"
    },
    "papermill": {
     "duration": 0.861524,
     "end_time": "2025-07-30T20:13:35.201487",
     "exception": false,
     "start_time": "2025-07-30T20:13:34.339963",
     "status": "completed"
    },
    "tags": []
   },
   "outputs": [
    {
     "data": {
      "text/plain": [
       "array([0, 0, 0, ..., 0, 0, 0])"
      ]
     },
     "execution_count": 46,
     "metadata": {},
     "output_type": "execute_result"
    }
   ],
   "source": [
    "model.predict(X_test)"
   ]
  },
  {
   "cell_type": "markdown",
   "id": "56c9705b",
   "metadata": {
    "papermill": {
     "duration": 0.024671,
     "end_time": "2025-07-30T20:13:35.251409",
     "exception": false,
     "start_time": "2025-07-30T20:13:35.226738",
     "status": "completed"
    },
    "tags": []
   },
   "source": [
    "# Conformal Prediction"
   ]
  },
  {
   "cell_type": "code",
   "execution_count": 47,
   "id": "160ec6ff",
   "metadata": {
    "execution": {
     "iopub.execute_input": "2025-07-30T20:13:35.301702Z",
     "iopub.status.busy": "2025-07-30T20:13:35.301237Z",
     "iopub.status.idle": "2025-07-30T20:13:35.306090Z",
     "shell.execute_reply": "2025-07-30T20:13:35.305216Z"
    },
    "papermill": {
     "duration": 0.031136,
     "end_time": "2025-07-30T20:13:35.307542",
     "exception": false,
     "start_time": "2025-07-30T20:13:35.276406",
     "status": "completed"
    },
    "tags": []
   },
   "outputs": [],
   "source": [
    "# Miscoverage level for conformal prediction (10% allowed error rate => 90% target coverage)\n",
    "alpha = 0.1"
   ]
  },
  {
   "cell_type": "code",
   "execution_count": 48,
   "id": "eadf4555-3dd3-440e-8e35-f82a4ad9f855",
   "metadata": {
    "execution": {
     "iopub.execute_input": "2025-07-30T20:13:35.358114Z",
     "iopub.status.busy": "2025-07-30T20:13:35.357220Z",
     "iopub.status.idle": "2025-07-30T20:13:35.927035Z",
     "shell.execute_reply": "2025-07-30T20:13:35.926240Z"
    },
    "papermill": {
     "duration": 0.596677,
     "end_time": "2025-07-30T20:13:35.929029",
     "exception": false,
     "start_time": "2025-07-30T20:13:35.332352",
     "status": "completed"
    },
    "tags": []
   },
   "outputs": [],
   "source": [
    "probs_calib = model.predict_proba(X_calib)"
   ]
  },
  {
   "cell_type": "code",
   "execution_count": 49,
   "id": "2ed93547-6d5d-4983-9b36-1ecb300da49a",
   "metadata": {
    "execution": {
     "iopub.execute_input": "2025-07-30T20:13:35.981786Z",
     "iopub.status.busy": "2025-07-30T20:13:35.981266Z",
     "iopub.status.idle": "2025-07-30T20:13:35.987074Z",
     "shell.execute_reply": "2025-07-30T20:13:35.986140Z"
    },
    "papermill": {
     "duration": 0.035392,
     "end_time": "2025-07-30T20:13:35.988925",
     "exception": false,
     "start_time": "2025-07-30T20:13:35.953533",
     "status": "completed"
    },
    "tags": []
   },
   "outputs": [],
   "source": [
    "y_calib = y_calib.values.ravel().astype(int)"
   ]
  },
  {
   "cell_type": "code",
   "execution_count": 50,
   "id": "65d1320d-f588-4b38-9072-62af1ae97f7d",
   "metadata": {
    "execution": {
     "iopub.execute_input": "2025-07-30T20:13:36.040102Z",
     "iopub.status.busy": "2025-07-30T20:13:36.039596Z",
     "iopub.status.idle": "2025-07-30T20:13:36.046720Z",
     "shell.execute_reply": "2025-07-30T20:13:36.045840Z"
    },
    "papermill": {
     "duration": 0.034453,
     "end_time": "2025-07-30T20:13:36.048503",
     "exception": false,
     "start_time": "2025-07-30T20:13:36.014050",
     "status": "completed"
    },
    "tags": []
   },
   "outputs": [],
   "source": [
    "from fairness_multiverse.conformal import compute_nc_scores\n",
    "\n",
    "# Compute nonconformity scores on calibration set (1 - probability of true class)\n",
    "nc_scores = compute_nc_scores(probs_calib, y_calib)"
   ]
  },
  {
   "cell_type": "code",
   "execution_count": 51,
   "id": "df3b8ca3-53b7-43d5-9667-7c85da7aeda2",
   "metadata": {
    "execution": {
     "iopub.execute_input": "2025-07-30T20:13:36.098051Z",
     "iopub.status.busy": "2025-07-30T20:13:36.097519Z",
     "iopub.status.idle": "2025-07-30T20:13:36.104617Z",
     "shell.execute_reply": "2025-07-30T20:13:36.103621Z"
    },
    "papermill": {
     "duration": 0.03427,
     "end_time": "2025-07-30T20:13:36.106242",
     "exception": false,
     "start_time": "2025-07-30T20:13:36.071972",
     "status": "completed"
    },
    "tags": []
   },
   "outputs": [],
   "source": [
    "from fairness_multiverse.conformal import find_threshold\n",
    "\n",
    "# Find conformal threshold q_hat for the given alpha (split conformal method)\n",
    "q_hat = find_threshold(nc_scores, alpha)"
   ]
  },
  {
   "cell_type": "code",
   "execution_count": 52,
   "id": "4d29e6c1-0ef6-4aa4-b8fe-4fe79b0d033a",
   "metadata": {
    "execution": {
     "iopub.execute_input": "2025-07-30T20:13:36.156392Z",
     "iopub.status.busy": "2025-07-30T20:13:36.155669Z",
     "iopub.status.idle": "2025-07-30T20:13:36.177628Z",
     "shell.execute_reply": "2025-07-30T20:13:36.176722Z"
    },
    "papermill": {
     "duration": 0.048654,
     "end_time": "2025-07-30T20:13:36.179363",
     "exception": false,
     "start_time": "2025-07-30T20:13:36.130709",
     "status": "completed"
    },
    "tags": []
   },
   "outputs": [
    {
     "data": {
      "text/plain": [
       "0.6601781415683268"
      ]
     },
     "execution_count": 52,
     "metadata": {},
     "output_type": "execute_result"
    }
   ],
   "source": [
    "q_hat"
   ]
  },
  {
   "cell_type": "code",
   "execution_count": 53,
   "id": "92460794-cdac-4be2-ba28-f28c0515a6fb",
   "metadata": {
    "execution": {
     "iopub.execute_input": "2025-07-30T20:13:36.229831Z",
     "iopub.status.busy": "2025-07-30T20:13:36.229324Z",
     "iopub.status.idle": "2025-07-30T20:13:37.627284Z",
     "shell.execute_reply": "2025-07-30T20:13:37.626515Z"
    },
    "papermill": {
     "duration": 1.425456,
     "end_time": "2025-07-30T20:13:37.628808",
     "exception": false,
     "start_time": "2025-07-30T20:13:36.203352",
     "status": "completed"
    },
    "tags": []
   },
   "outputs": [],
   "source": [
    "from fairness_multiverse.conformal import predict_conformal_sets\n",
    "\n",
    "# Generate prediction sets for each test example\n",
    "pred_sets = predict_conformal_sets(model, X_test, q_hat)"
   ]
  },
  {
   "cell_type": "code",
   "execution_count": 54,
   "id": "d90c9a65-e6db-4f5d-80cd-e68fb7e46829",
   "metadata": {
    "execution": {
     "iopub.execute_input": "2025-07-30T20:13:37.655224Z",
     "iopub.status.busy": "2025-07-30T20:13:37.654872Z",
     "iopub.status.idle": "2025-07-30T20:13:37.659877Z",
     "shell.execute_reply": "2025-07-30T20:13:37.659071Z"
    },
    "papermill": {
     "duration": 0.019535,
     "end_time": "2025-07-30T20:13:37.661275",
     "exception": false,
     "start_time": "2025-07-30T20:13:37.641740",
     "status": "completed"
    },
    "tags": []
   },
   "outputs": [],
   "source": [
    "y_true = y_true.squeeze()"
   ]
  },
  {
   "cell_type": "code",
   "execution_count": 55,
   "id": "3a58a54a-1e68-46b9-927a-df01f18aebc8",
   "metadata": {
    "execution": {
     "iopub.execute_input": "2025-07-30T20:13:37.687276Z",
     "iopub.status.busy": "2025-07-30T20:13:37.686890Z",
     "iopub.status.idle": "2025-07-30T20:13:38.502725Z",
     "shell.execute_reply": "2025-07-30T20:13:38.501651Z"
    },
    "papermill": {
     "duration": 0.830518,
     "end_time": "2025-07-30T20:13:38.504757",
     "exception": false,
     "start_time": "2025-07-30T20:13:37.674239",
     "status": "completed"
    },
    "tags": []
   },
   "outputs": [],
   "source": [
    "from fairness_multiverse.conformal import evaluate_sets\n",
    "\n",
    "# Evaluate coverage and average set size on test data\n",
    "metrics = evaluate_sets(pred_sets, y_true)"
   ]
  },
  {
   "cell_type": "markdown",
   "id": "2b569c12-9aaa-4c88-98c9-bbcd0cf3ebb8",
   "metadata": {
    "papermill": {
     "duration": 0.025014,
     "end_time": "2025-07-30T20:13:38.555379",
     "exception": false,
     "start_time": "2025-07-30T20:13:38.530365",
     "status": "completed"
    },
    "tags": []
   },
   "source": [
    "# CP Metrics"
   ]
  },
  {
   "cell_type": "code",
   "execution_count": 56,
   "id": "5ce0a5cb-201f-45a0-ade5-94c7f0bd6095",
   "metadata": {
    "execution": {
     "iopub.execute_input": "2025-07-30T20:13:38.621658Z",
     "iopub.status.busy": "2025-07-30T20:13:38.620912Z",
     "iopub.status.idle": "2025-07-30T20:13:38.628071Z",
     "shell.execute_reply": "2025-07-30T20:13:38.626891Z"
    },
    "papermill": {
     "duration": 0.054304,
     "end_time": "2025-07-30T20:13:38.635508",
     "exception": false,
     "start_time": "2025-07-30T20:13:38.581204",
     "status": "completed"
    },
    "tags": []
   },
   "outputs": [
    {
     "data": {
      "text/plain": [
       "{'coverage': 0.911793557017055, 'avg_size': 1.1159402519228625}"
      ]
     },
     "execution_count": 56,
     "metadata": {},
     "output_type": "execute_result"
    }
   ],
   "source": [
    "metrics"
   ]
  },
  {
   "cell_type": "code",
   "execution_count": 57,
   "id": "9b9a838d-31c9-430b-ae14-12baee460d17",
   "metadata": {
    "execution": {
     "iopub.execute_input": "2025-07-30T20:13:38.688348Z",
     "iopub.status.busy": "2025-07-30T20:13:38.687825Z",
     "iopub.status.idle": "2025-07-30T20:13:38.695180Z",
     "shell.execute_reply": "2025-07-30T20:13:38.694153Z"
    },
    "papermill": {
     "duration": 0.035792,
     "end_time": "2025-07-30T20:13:38.697144",
     "exception": false,
     "start_time": "2025-07-30T20:13:38.661352",
     "status": "completed"
    },
    "tags": []
   },
   "outputs": [],
   "source": [
    "example_universe = universe.copy()\n",
    "universe_training_year = example_universe.get(\"training_year\")\n",
    "universe_training_size = example_universe.get(\"training_size\")\n",
    "universe_scale = example_universe.get(\"scale\")\n",
    "universe_model = example_universe.get(\"model\")\n",
    "universe_exclude_features = example_universe.get(\"exclude_features\")\n",
    "universe_exclude_subgroups = example_universe.get(\"exclude_subgroups\")"
   ]
  },
  {
   "cell_type": "code",
   "execution_count": 58,
   "id": "f4b6a8ac-9dc0-4245-8a91-5b3b5999c4f9",
   "metadata": {
    "execution": {
     "iopub.execute_input": "2025-07-30T20:13:38.751964Z",
     "iopub.status.busy": "2025-07-30T20:13:38.751057Z",
     "iopub.status.idle": "2025-07-30T20:13:38.757854Z",
     "shell.execute_reply": "2025-07-30T20:13:38.756842Z"
    },
    "papermill": {
     "duration": 0.03576,
     "end_time": "2025-07-30T20:13:38.759998",
     "exception": false,
     "start_time": "2025-07-30T20:13:38.724238",
     "status": "completed"
    },
    "tags": []
   },
   "outputs": [],
   "source": [
    "cp_metrics_dict = {\n",
    "    \"universe_id\": [universe_id],\n",
    "    \"universe_training_year\": [universe_training_year],\n",
    "    \"universe_training_size\": [universe_training_size],\n",
    "    \"universe_scale\": [universe_scale],\n",
    "    \"universe_model\": [universe_model],\n",
    "    \"universe_exclude_features\": [universe_exclude_features],\n",
    "    \"universe_exclude_subgroups\": [universe_exclude_subgroups],\n",
    "    \"q_hat\": [q_hat],\n",
    "    \"coverage\": [metrics[\"coverage\"]],\n",
    "    \"avg_size\": [metrics[\"avg_size\"]],\n",
    "}"
   ]
  },
  {
   "cell_type": "code",
   "execution_count": 59,
   "id": "908acbb1-0371-4915-85ca-3fa520d2efe2",
   "metadata": {
    "execution": {
     "iopub.execute_input": "2025-07-30T20:13:38.815660Z",
     "iopub.status.busy": "2025-07-30T20:13:38.814769Z",
     "iopub.status.idle": "2025-07-30T20:13:38.823572Z",
     "shell.execute_reply": "2025-07-30T20:13:38.822480Z"
    },
    "papermill": {
     "duration": 0.037659,
     "end_time": "2025-07-30T20:13:38.825390",
     "exception": false,
     "start_time": "2025-07-30T20:13:38.787731",
     "status": "completed"
    },
    "tags": []
   },
   "outputs": [
    {
     "data": {
      "text/plain": [
       "{'universe_id': ['d873fb08e2d645872b5c32832f7034aa'],\n",
       " 'universe_training_year': ['2012_14'],\n",
       " 'universe_training_size': ['25k'],\n",
       " 'universe_scale': ['scale'],\n",
       " 'universe_model': ['gbm'],\n",
       " 'universe_exclude_features': ['nationality-sex'],\n",
       " 'universe_exclude_subgroups': ['keep-all'],\n",
       " 'q_hat': [0.6601781415683268],\n",
       " 'coverage': [0.911793557017055],\n",
       " 'avg_size': [1.1159402519228625]}"
      ]
     },
     "execution_count": 59,
     "metadata": {},
     "output_type": "execute_result"
    }
   ],
   "source": [
    "cp_metrics_dict"
   ]
  },
  {
   "cell_type": "code",
   "execution_count": 60,
   "id": "33007efc-14e9-4ec6-97ac-56a455c82265",
   "metadata": {
    "execution": {
     "iopub.execute_input": "2025-07-30T20:13:38.878627Z",
     "iopub.status.busy": "2025-07-30T20:13:38.878154Z",
     "iopub.status.idle": "2025-07-30T20:13:38.885027Z",
     "shell.execute_reply": "2025-07-30T20:13:38.883898Z"
    },
    "papermill": {
     "duration": 0.035337,
     "end_time": "2025-07-30T20:13:38.886721",
     "exception": false,
     "start_time": "2025-07-30T20:13:38.851384",
     "status": "completed"
    },
    "tags": []
   },
   "outputs": [],
   "source": [
    "cp_metrics_df = pd.DataFrame(cp_metrics_dict)"
   ]
  },
  {
   "cell_type": "code",
   "execution_count": 61,
   "id": "db12611b-57b2-4910-b9d0-355adfd6e7bf",
   "metadata": {
    "execution": {
     "iopub.execute_input": "2025-07-30T20:13:38.941365Z",
     "iopub.status.busy": "2025-07-30T20:13:38.940504Z",
     "iopub.status.idle": "2025-07-30T20:13:38.960796Z",
     "shell.execute_reply": "2025-07-30T20:13:38.959744Z"
    },
    "papermill": {
     "duration": 0.048827,
     "end_time": "2025-07-30T20:13:38.962383",
     "exception": false,
     "start_time": "2025-07-30T20:13:38.913556",
     "status": "completed"
    },
    "tags": []
   },
   "outputs": [
    {
     "data": {
      "text/html": [
       "<div>\n",
       "<style scoped>\n",
       "    .dataframe tbody tr th:only-of-type {\n",
       "        vertical-align: middle;\n",
       "    }\n",
       "\n",
       "    .dataframe tbody tr th {\n",
       "        vertical-align: top;\n",
       "    }\n",
       "\n",
       "    .dataframe thead th {\n",
       "        text-align: right;\n",
       "    }\n",
       "</style>\n",
       "<table border=\"1\" class=\"dataframe\">\n",
       "  <thead>\n",
       "    <tr style=\"text-align: right;\">\n",
       "      <th></th>\n",
       "      <th>universe_id</th>\n",
       "      <th>universe_training_year</th>\n",
       "      <th>universe_training_size</th>\n",
       "      <th>universe_scale</th>\n",
       "      <th>universe_model</th>\n",
       "      <th>universe_exclude_features</th>\n",
       "      <th>universe_exclude_subgroups</th>\n",
       "      <th>q_hat</th>\n",
       "      <th>coverage</th>\n",
       "      <th>avg_size</th>\n",
       "    </tr>\n",
       "  </thead>\n",
       "  <tbody>\n",
       "    <tr>\n",
       "      <th>0</th>\n",
       "      <td>d873fb08e2d645872b5c32832f7034aa</td>\n",
       "      <td>2012_14</td>\n",
       "      <td>25k</td>\n",
       "      <td>scale</td>\n",
       "      <td>gbm</td>\n",
       "      <td>nationality-sex</td>\n",
       "      <td>keep-all</td>\n",
       "      <td>0.660178</td>\n",
       "      <td>0.911794</td>\n",
       "      <td>1.11594</td>\n",
       "    </tr>\n",
       "  </tbody>\n",
       "</table>\n",
       "</div>"
      ],
      "text/plain": [
       "                        universe_id universe_training_year  \\\n",
       "0  d873fb08e2d645872b5c32832f7034aa                2012_14   \n",
       "\n",
       "  universe_training_size universe_scale universe_model  \\\n",
       "0                    25k          scale            gbm   \n",
       "\n",
       "  universe_exclude_features universe_exclude_subgroups     q_hat  coverage  \\\n",
       "0           nationality-sex                   keep-all  0.660178  0.911794   \n",
       "\n",
       "   avg_size  \n",
       "0   1.11594  "
      ]
     },
     "execution_count": 61,
     "metadata": {},
     "output_type": "execute_result"
    }
   ],
   "source": [
    "cp_metrics_df"
   ]
  },
  {
   "cell_type": "code",
   "execution_count": 62,
   "id": "b7fbde55-a0a1-47e4-9af6-fe4a17fa8c61",
   "metadata": {
    "execution": {
     "iopub.execute_input": "2025-07-30T20:13:39.016958Z",
     "iopub.status.busy": "2025-07-30T20:13:39.016012Z",
     "iopub.status.idle": "2025-07-30T20:13:39.021934Z",
     "shell.execute_reply": "2025-07-30T20:13:39.020863Z"
    },
    "papermill": {
     "duration": 0.034492,
     "end_time": "2025-07-30T20:13:39.023885",
     "exception": false,
     "start_time": "2025-07-30T20:13:38.989393",
     "status": "completed"
    },
    "tags": []
   },
   "outputs": [],
   "source": [
    "# Conditional Coverage & looking at subgroups"
   ]
  },
  {
   "cell_type": "code",
   "execution_count": 63,
   "id": "027ae886-68dd-4141-96c7-805a5450e1ef",
   "metadata": {
    "execution": {
     "iopub.execute_input": "2025-07-30T20:13:39.084501Z",
     "iopub.status.busy": "2025-07-30T20:13:39.083680Z",
     "iopub.status.idle": "2025-07-30T20:13:39.351751Z",
     "shell.execute_reply": "2025-07-30T20:13:39.350813Z"
    },
    "papermill": {
     "duration": 0.299919,
     "end_time": "2025-07-30T20:13:39.353780",
     "exception": false,
     "start_time": "2025-07-30T20:13:39.053861",
     "status": "completed"
    },
    "tags": []
   },
   "outputs": [],
   "source": [
    "from fairness_multiverse.conformal import build_cp_groups\n",
    "\n",
    "cp_groups_df = build_cp_groups(pred_sets, y_true, X_test.index, org_test)\n",
    "#needs universe_id and setting"
   ]
  },
  {
   "cell_type": "code",
   "execution_count": 64,
   "id": "01d5802c-663a-4d1f-9d69-e036faaffbf7",
   "metadata": {
    "execution": {
     "iopub.execute_input": "2025-07-30T20:13:39.411433Z",
     "iopub.status.busy": "2025-07-30T20:13:39.410939Z",
     "iopub.status.idle": "2025-07-30T20:13:39.416006Z",
     "shell.execute_reply": "2025-07-30T20:13:39.415034Z"
    },
    "papermill": {
     "duration": 0.035516,
     "end_time": "2025-07-30T20:13:39.417847",
     "exception": false,
     "start_time": "2025-07-30T20:13:39.382331",
     "status": "completed"
    },
    "tags": []
   },
   "outputs": [],
   "source": [
    "#delete\n",
    "#cp_groups_df"
   ]
  },
  {
   "cell_type": "code",
   "execution_count": 65,
   "id": "fa424af1-d1eb-443d-b717-2d279ada8408",
   "metadata": {
    "execution": {
     "iopub.execute_input": "2025-07-30T20:13:39.476175Z",
     "iopub.status.busy": "2025-07-30T20:13:39.475606Z",
     "iopub.status.idle": "2025-07-30T20:13:39.480765Z",
     "shell.execute_reply": "2025-07-30T20:13:39.479709Z"
    },
    "papermill": {
     "duration": 0.036005,
     "end_time": "2025-07-30T20:13:39.482745",
     "exception": false,
     "start_time": "2025-07-30T20:13:39.446740",
     "status": "completed"
    },
    "tags": []
   },
   "outputs": [],
   "source": [
    "#delete\n",
    "#percentage = (cp_groups_df['nongerman_female'] == 1).mean() * 100\n",
    "#print(percentage)\n"
   ]
  },
  {
   "cell_type": "code",
   "execution_count": 66,
   "id": "6cbdab96-b2b2-45af-ad54-d0516db2e28d",
   "metadata": {
    "execution": {
     "iopub.execute_input": "2025-07-30T20:13:39.542373Z",
     "iopub.status.busy": "2025-07-30T20:13:39.541682Z",
     "iopub.status.idle": "2025-07-30T20:13:41.267076Z",
     "shell.execute_reply": "2025-07-30T20:13:41.266100Z"
    },
    "papermill": {
     "duration": 1.757013,
     "end_time": "2025-07-30T20:13:41.269036",
     "exception": false,
     "start_time": "2025-07-30T20:13:39.512023",
     "status": "completed"
    },
    "tags": []
   },
   "outputs": [],
   "source": [
    "# Define covered = 1 if true_label is in the predicted set\n",
    "cp_groups_df['covered'] = cp_groups_df.apply(\n",
    "    lambda r: int(r['true_label'] in r['pred_set']),\n",
    "    axis=1\n",
    ")"
   ]
  },
  {
   "cell_type": "code",
   "execution_count": 67,
   "id": "338ff529-1a6b-4b87-a931-8e4788d52aad",
   "metadata": {
    "execution": {
     "iopub.execute_input": "2025-07-30T20:13:41.323418Z",
     "iopub.status.busy": "2025-07-30T20:13:41.322561Z",
     "iopub.status.idle": "2025-07-30T20:13:41.328087Z",
     "shell.execute_reply": "2025-07-30T20:13:41.327000Z"
    },
    "papermill": {
     "duration": 0.033864,
     "end_time": "2025-07-30T20:13:41.329943",
     "exception": false,
     "start_time": "2025-07-30T20:13:41.296079",
     "status": "completed"
    },
    "tags": []
   },
   "outputs": [],
   "source": [
    "#cp_groups_df"
   ]
  },
  {
   "cell_type": "code",
   "execution_count": 68,
   "id": "90032e27-66df-4540-9169-4e89cfbaa758",
   "metadata": {
    "execution": {
     "iopub.execute_input": "2025-07-30T20:13:41.384752Z",
     "iopub.status.busy": "2025-07-30T20:13:41.383805Z",
     "iopub.status.idle": "2025-07-30T20:13:41.395640Z",
     "shell.execute_reply": "2025-07-30T20:13:41.394656Z"
    },
    "papermill": {
     "duration": 0.040303,
     "end_time": "2025-07-30T20:13:41.397552",
     "exception": false,
     "start_time": "2025-07-30T20:13:41.357249",
     "status": "completed"
    },
    "tags": []
   },
   "outputs": [],
   "source": [
    "subgroups = ['frau1','nongerman','nongerman_male','nongerman_female']\n",
    "\n",
    "# Conditional coverage for subgroup==1\n",
    "cond_coverage = {\n",
    "    g: cp_groups_df.loc[cp_groups_df[g]==1, 'covered'].mean()\n",
    "    for g in subgroups\n",
    "}"
   ]
  },
  {
   "cell_type": "code",
   "execution_count": 69,
   "id": "1e348fb1-b9c3-45bc-ba23-f016827a7e0d",
   "metadata": {
    "execution": {
     "iopub.execute_input": "2025-07-30T20:13:41.452849Z",
     "iopub.status.busy": "2025-07-30T20:13:41.451719Z",
     "iopub.status.idle": "2025-07-30T20:13:41.459156Z",
     "shell.execute_reply": "2025-07-30T20:13:41.458206Z"
    },
    "papermill": {
     "duration": 0.036159,
     "end_time": "2025-07-30T20:13:41.460790",
     "exception": false,
     "start_time": "2025-07-30T20:13:41.424631",
     "status": "completed"
    },
    "tags": []
   },
   "outputs": [
    {
     "data": {
      "text/plain": [
       "{'frau1': 0.913519342229411,\n",
       " 'nongerman': 0.9084376578903048,\n",
       " 'nongerman_male': 0.9250652976672972,\n",
       " 'nongerman_female': 0.8809239940387481}"
      ]
     },
     "execution_count": 69,
     "metadata": {},
     "output_type": "execute_result"
    }
   ],
   "source": [
    "cond_coverage"
   ]
  },
  {
   "cell_type": "code",
   "execution_count": 70,
   "id": "f5093324-c3dd-4d63-bc4c-8d945e5c8bbb",
   "metadata": {
    "execution": {
     "iopub.execute_input": "2025-07-30T20:13:41.515843Z",
     "iopub.status.busy": "2025-07-30T20:13:41.514903Z",
     "iopub.status.idle": "2025-07-30T20:13:41.522395Z",
     "shell.execute_reply": "2025-07-30T20:13:41.521496Z"
    },
    "papermill": {
     "duration": 0.0363,
     "end_time": "2025-07-30T20:13:41.524269",
     "exception": false,
     "start_time": "2025-07-30T20:13:41.487969",
     "status": "completed"
    },
    "tags": []
   },
   "outputs": [],
   "source": [
    "for subgroup, cov in cond_coverage.items():\n",
    "    cp_metrics_df[f\"cov_{subgroup}\"] = cov"
   ]
  },
  {
   "cell_type": "code",
   "execution_count": 71,
   "id": "6e872e10-dbe5-49e8-b554-5030c98ff75d",
   "metadata": {
    "execution": {
     "iopub.execute_input": "2025-07-30T20:13:41.579445Z",
     "iopub.status.busy": "2025-07-30T20:13:41.578551Z",
     "iopub.status.idle": "2025-07-30T20:13:41.597716Z",
     "shell.execute_reply": "2025-07-30T20:13:41.596707Z"
    },
    "papermill": {
     "duration": 0.04789,
     "end_time": "2025-07-30T20:13:41.599535",
     "exception": false,
     "start_time": "2025-07-30T20:13:41.551645",
     "status": "completed"
    },
    "tags": []
   },
   "outputs": [
    {
     "data": {
      "text/html": [
       "<div>\n",
       "<style scoped>\n",
       "    .dataframe tbody tr th:only-of-type {\n",
       "        vertical-align: middle;\n",
       "    }\n",
       "\n",
       "    .dataframe tbody tr th {\n",
       "        vertical-align: top;\n",
       "    }\n",
       "\n",
       "    .dataframe thead th {\n",
       "        text-align: right;\n",
       "    }\n",
       "</style>\n",
       "<table border=\"1\" class=\"dataframe\">\n",
       "  <thead>\n",
       "    <tr style=\"text-align: right;\">\n",
       "      <th></th>\n",
       "      <th>universe_id</th>\n",
       "      <th>universe_training_year</th>\n",
       "      <th>universe_training_size</th>\n",
       "      <th>universe_scale</th>\n",
       "      <th>universe_model</th>\n",
       "      <th>universe_exclude_features</th>\n",
       "      <th>universe_exclude_subgroups</th>\n",
       "      <th>q_hat</th>\n",
       "      <th>coverage</th>\n",
       "      <th>avg_size</th>\n",
       "      <th>cov_frau1</th>\n",
       "      <th>cov_nongerman</th>\n",
       "      <th>cov_nongerman_male</th>\n",
       "      <th>cov_nongerman_female</th>\n",
       "    </tr>\n",
       "  </thead>\n",
       "  <tbody>\n",
       "    <tr>\n",
       "      <th>0</th>\n",
       "      <td>d873fb08e2d645872b5c32832f7034aa</td>\n",
       "      <td>2012_14</td>\n",
       "      <td>25k</td>\n",
       "      <td>scale</td>\n",
       "      <td>gbm</td>\n",
       "      <td>nationality-sex</td>\n",
       "      <td>keep-all</td>\n",
       "      <td>0.660178</td>\n",
       "      <td>0.911794</td>\n",
       "      <td>1.11594</td>\n",
       "      <td>0.913519</td>\n",
       "      <td>0.908438</td>\n",
       "      <td>0.925065</td>\n",
       "      <td>0.880924</td>\n",
       "    </tr>\n",
       "  </tbody>\n",
       "</table>\n",
       "</div>"
      ],
      "text/plain": [
       "                        universe_id universe_training_year  \\\n",
       "0  d873fb08e2d645872b5c32832f7034aa                2012_14   \n",
       "\n",
       "  universe_training_size universe_scale universe_model  \\\n",
       "0                    25k          scale            gbm   \n",
       "\n",
       "  universe_exclude_features universe_exclude_subgroups     q_hat  coverage  \\\n",
       "0           nationality-sex                   keep-all  0.660178  0.911794   \n",
       "\n",
       "   avg_size  cov_frau1  cov_nongerman  cov_nongerman_male  \\\n",
       "0   1.11594   0.913519       0.908438            0.925065   \n",
       "\n",
       "   cov_nongerman_female  \n",
       "0              0.880924  "
      ]
     },
     "execution_count": 71,
     "metadata": {},
     "output_type": "execute_result"
    }
   ],
   "source": [
    "cp_metrics_df"
   ]
  },
  {
   "cell_type": "markdown",
   "id": "33774451",
   "metadata": {
    "papermill": {
     "duration": 0.027124,
     "end_time": "2025-07-30T20:13:41.653717",
     "exception": false,
     "start_time": "2025-07-30T20:13:41.626593",
     "status": "completed"
    },
    "tags": []
   },
   "source": [
    "# (Fairness) Metrics"
   ]
  },
  {
   "cell_type": "code",
   "execution_count": 72,
   "id": "debc5d62",
   "metadata": {
    "execution": {
     "iopub.execute_input": "2025-07-30T20:13:41.709124Z",
     "iopub.status.busy": "2025-07-30T20:13:41.708167Z",
     "iopub.status.idle": "2025-07-30T20:13:41.729571Z",
     "shell.execute_reply": "2025-07-30T20:13:41.728702Z"
    },
    "papermill": {
     "duration": 0.050849,
     "end_time": "2025-07-30T20:13:41.731482",
     "exception": false,
     "start_time": "2025-07-30T20:13:41.680633",
     "status": "completed"
    },
    "tags": []
   },
   "outputs": [],
   "source": [
    "# do I need to include maxdeutsch1.missing?\n",
    "\n",
    "import numpy as np\n",
    "\n",
    "colname_to_bin = \"maxdeutsch1\"\n",
    "majority_value = org_train[colname_to_bin].mode()[0]\n",
    "\n",
    "org_test[\"majmin\"] = np.where(org_test[colname_to_bin] == majority_value, \"majority\", \"minority\")"
   ]
  },
  {
   "cell_type": "code",
   "execution_count": 73,
   "id": "06a50de5",
   "metadata": {
    "execution": {
     "iopub.execute_input": "2025-07-30T20:13:41.787185Z",
     "iopub.status.busy": "2025-07-30T20:13:41.786530Z",
     "iopub.status.idle": "2025-07-30T20:13:44.578371Z",
     "shell.execute_reply": "2025-07-30T20:13:44.577434Z"
    },
    "papermill": {
     "duration": 2.821474,
     "end_time": "2025-07-30T20:13:44.580247",
     "exception": false,
     "start_time": "2025-07-30T20:13:41.758773",
     "status": "completed"
    },
    "tags": []
   },
   "outputs": [],
   "source": [
    "example_universe = universe.copy()\n",
    "example_universe[\"cutoff\"] = example_universe[\"cutoff\"][0]\n",
    "example_universe[\"eval_fairness_grouping\"] = example_universe[\"eval_fairness_grouping\"][0]\n",
    "fairness_dict, metric_frame = universe_analysis.compute_metrics(\n",
    "    example_universe,\n",
    "    y_pred_prob=probs_test,\n",
    "    y_test=y_true,\n",
    "    org_test=org_test,\n",
    ")"
   ]
  },
  {
   "cell_type": "markdown",
   "id": "f95d4e02",
   "metadata": {
    "papermill": {
     "duration": 0.026164,
     "end_time": "2025-07-30T20:13:44.635781",
     "exception": false,
     "start_time": "2025-07-30T20:13:44.609617",
     "status": "completed"
    },
    "tags": []
   },
   "source": [
    "# Overall"
   ]
  },
  {
   "cell_type": "markdown",
   "id": "bdee4871",
   "metadata": {
    "papermill": {
     "duration": 0.025932,
     "end_time": "2025-07-30T20:13:44.688233",
     "exception": false,
     "start_time": "2025-07-30T20:13:44.662301",
     "status": "completed"
    },
    "tags": []
   },
   "source": [
    "Fairness\n",
    "Main fairness target: Equalized Odds. Seems to be a better fit than equal opportunity, since we're not only interested in Y = 1. Seems to be a better fit than demographic parity, since we also care about accuracy, not just equal distribution of preds.\n",
    "\n",
    "Pick column for computation of fairness metrics\n",
    "\n",
    "Performance\n",
    "Overall performance measures, most interesting in relation to the measures split by group below"
   ]
  },
  {
   "cell_type": "code",
   "execution_count": 74,
   "id": "c4e067c6",
   "metadata": {
    "execution": {
     "iopub.execute_input": "2025-07-30T20:13:44.742916Z",
     "iopub.status.busy": "2025-07-30T20:13:44.742182Z",
     "iopub.status.idle": "2025-07-30T20:13:44.753512Z",
     "shell.execute_reply": "2025-07-30T20:13:44.752590Z"
    },
    "papermill": {
     "duration": 0.0409,
     "end_time": "2025-07-30T20:13:44.755303",
     "exception": false,
     "start_time": "2025-07-30T20:13:44.714403",
     "status": "completed"
    },
    "tags": []
   },
   "outputs": [
    {
     "data": {
      "text/plain": [
       "accuracy                   0.225226\n",
       "balanced accuracy          0.550530\n",
       "f1                         0.246534\n",
       "precision                  0.140837\n",
       "false positive rate        0.887036\n",
       "false negative rate        0.011905\n",
       "selection rate             0.900000\n",
       "count                  89710.000000\n",
       "dtype: float64"
      ]
     },
     "execution_count": 74,
     "metadata": {},
     "output_type": "execute_result"
    }
   ],
   "source": [
    "metric_frame.overall"
   ]
  },
  {
   "cell_type": "markdown",
   "id": "e968fe9d",
   "metadata": {
    "papermill": {
     "duration": 0.026424,
     "end_time": "2025-07-30T20:13:44.809278",
     "exception": false,
     "start_time": "2025-07-30T20:13:44.782854",
     "status": "completed"
    },
    "tags": []
   },
   "source": [
    "By Group"
   ]
  },
  {
   "cell_type": "code",
   "execution_count": 75,
   "id": "ec325bce",
   "metadata": {
    "execution": {
     "iopub.execute_input": "2025-07-30T20:13:44.923196Z",
     "iopub.status.busy": "2025-07-30T20:13:44.922602Z",
     "iopub.status.idle": "2025-07-30T20:13:44.939534Z",
     "shell.execute_reply": "2025-07-30T20:13:44.938462Z"
    },
    "papermill": {
     "duration": 0.1052,
     "end_time": "2025-07-30T20:13:44.941360",
     "exception": false,
     "start_time": "2025-07-30T20:13:44.836160",
     "status": "completed"
    },
    "tags": []
   },
   "outputs": [
    {
     "data": {
      "text/html": [
       "<div>\n",
       "<style scoped>\n",
       "    .dataframe tbody tr th:only-of-type {\n",
       "        vertical-align: middle;\n",
       "    }\n",
       "\n",
       "    .dataframe tbody tr th {\n",
       "        vertical-align: top;\n",
       "    }\n",
       "\n",
       "    .dataframe thead th {\n",
       "        text-align: right;\n",
       "    }\n",
       "</style>\n",
       "<table border=\"1\" class=\"dataframe\">\n",
       "  <thead>\n",
       "    <tr style=\"text-align: right;\">\n",
       "      <th></th>\n",
       "      <th>accuracy</th>\n",
       "      <th>balanced accuracy</th>\n",
       "      <th>f1</th>\n",
       "      <th>precision</th>\n",
       "      <th>false positive rate</th>\n",
       "      <th>false negative rate</th>\n",
       "      <th>selection rate</th>\n",
       "      <th>count</th>\n",
       "    </tr>\n",
       "    <tr>\n",
       "      <th>majmin</th>\n",
       "      <th></th>\n",
       "      <th></th>\n",
       "      <th></th>\n",
       "      <th></th>\n",
       "      <th></th>\n",
       "      <th></th>\n",
       "      <th></th>\n",
       "      <th></th>\n",
       "    </tr>\n",
       "  </thead>\n",
       "  <tbody>\n",
       "    <tr>\n",
       "      <th>majority</th>\n",
       "      <td>0.244383</td>\n",
       "      <td>0.559149</td>\n",
       "      <td>0.256614</td>\n",
       "      <td>0.147479</td>\n",
       "      <td>0.868682</td>\n",
       "      <td>0.013020</td>\n",
       "      <td>0.884314</td>\n",
       "      <td>69170.0</td>\n",
       "    </tr>\n",
       "    <tr>\n",
       "      <th>minority</th>\n",
       "      <td>0.160711</td>\n",
       "      <td>0.522366</td>\n",
       "      <td>0.214230</td>\n",
       "      <td>0.120076</td>\n",
       "      <td>0.947667</td>\n",
       "      <td>0.007601</td>\n",
       "      <td>0.952824</td>\n",
       "      <td>20540.0</td>\n",
       "    </tr>\n",
       "  </tbody>\n",
       "</table>\n",
       "</div>"
      ],
      "text/plain": [
       "          accuracy  balanced accuracy        f1  precision  \\\n",
       "majmin                                                       \n",
       "majority  0.244383           0.559149  0.256614   0.147479   \n",
       "minority  0.160711           0.522366  0.214230   0.120076   \n",
       "\n",
       "          false positive rate  false negative rate  selection rate    count  \n",
       "majmin                                                                       \n",
       "majority             0.868682             0.013020        0.884314  69170.0  \n",
       "minority             0.947667             0.007601        0.952824  20540.0  "
      ]
     },
     "execution_count": 75,
     "metadata": {},
     "output_type": "execute_result"
    }
   ],
   "source": [
    "metric_frame.by_group"
   ]
  },
  {
   "cell_type": "code",
   "execution_count": 76,
   "id": "a9ddbe63",
   "metadata": {
    "execution": {
     "iopub.execute_input": "2025-07-30T20:13:44.999362Z",
     "iopub.status.busy": "2025-07-30T20:13:44.998686Z",
     "iopub.status.idle": "2025-07-30T20:13:47.444804Z",
     "shell.execute_reply": "2025-07-30T20:13:47.443669Z"
    },
    "papermill": {
     "duration": 2.475701,
     "end_time": "2025-07-30T20:13:47.446288",
     "exception": false,
     "start_time": "2025-07-30T20:13:44.970587",
     "status": "completed"
    },
    "tags": []
   },
   "outputs": [
    {
     "data": {
      "text/plain": [
       "array([[<Axes: title={'center': 'accuracy'}, xlabel='majmin'>,\n",
       "        <Axes: title={'center': 'balanced accuracy'}, xlabel='majmin'>,\n",
       "        <Axes: title={'center': 'f1'}, xlabel='majmin'>],\n",
       "       [<Axes: title={'center': 'precision'}, xlabel='majmin'>,\n",
       "        <Axes: title={'center': 'false positive rate'}, xlabel='majmin'>,\n",
       "        <Axes: title={'center': 'false negative rate'}, xlabel='majmin'>],\n",
       "       [<Axes: title={'center': 'selection rate'}, xlabel='majmin'>,\n",
       "        <Axes: title={'center': 'count'}, xlabel='majmin'>,\n",
       "        <Axes: xlabel='majmin'>]], dtype=object)"
      ]
     },
     "execution_count": 76,
     "metadata": {},
     "output_type": "execute_result"
    },
    {
     "data": {
      "image/png": "[encoded data removed]",
      "text/plain": [
       "<Figure size 1200x800 with 9 Axes>"
      ]
     },
     "metadata": {},
     "output_type": "display_data"
    }
   ],
   "source": [
    "# In a graphic\n",
    "metric_frame.by_group.plot.bar(\n",
    "    subplots=True,\n",
    "    layout=[3, 3],\n",
    "    legend=False,\n",
    "    figsize=[12, 8],\n",
    "    title=\"Show all metrics\",\n",
    ")"
   ]
  },
  {
   "cell_type": "markdown",
   "id": "f57a0bac",
   "metadata": {
    "papermill": {
     "duration": 0.028765,
     "end_time": "2025-07-30T20:13:47.504190",
     "exception": false,
     "start_time": "2025-07-30T20:13:47.475425",
     "status": "completed"
    },
    "tags": []
   },
   "source": [
    "# Final Output"
   ]
  },
  {
   "cell_type": "code",
   "execution_count": 77,
   "id": "96d280a3",
   "metadata": {
    "execution": {
     "iopub.execute_input": "2025-07-30T20:13:47.563602Z",
     "iopub.status.busy": "2025-07-30T20:13:47.562835Z",
     "iopub.status.idle": "2025-07-30T20:13:47.573000Z",
     "shell.execute_reply": "2025-07-30T20:13:47.572129Z"
    },
    "papermill": {
     "duration": 0.042371,
     "end_time": "2025-07-30T20:13:47.574454",
     "exception": false,
     "start_time": "2025-07-30T20:13:47.532083",
     "status": "completed"
    },
    "tags": []
   },
   "outputs": [
    {
     "data": {
      "text/plain": [
       "4"
      ]
     },
     "execution_count": 77,
     "metadata": {},
     "output_type": "execute_result"
    }
   ],
   "source": [
    "sub_universes = universe_analysis.generate_sub_universes()\n",
    "len(sub_universes)"
   ]
  },
  {
   "cell_type": "code",
   "execution_count": 78,
   "id": "92adf7ba",
   "metadata": {
    "execution": {
     "iopub.execute_input": "2025-07-30T20:13:47.635441Z",
     "iopub.status.busy": "2025-07-30T20:13:47.634938Z",
     "iopub.status.idle": "2025-07-30T20:13:47.641946Z",
     "shell.execute_reply": "2025-07-30T20:13:47.640871Z"
    },
    "papermill": {
     "duration": 0.04045,
     "end_time": "2025-07-30T20:13:47.643477",
     "exception": false,
     "start_time": "2025-07-30T20:13:47.603027",
     "status": "completed"
    },
    "tags": []
   },
   "outputs": [],
   "source": [
    "def filter_sub_universe_data(sub_universe, org_test):\n",
    "    # Keep all rows — no filtering\n",
    "    keep_rows_mask = np.ones(org_test.shape[0], dtype=bool)\n",
    "\n",
    "    print(f\"[INFO] Keeping all rows: {keep_rows_mask.sum()} rows retained.\")\n",
    "    return keep_rows_mask"
   ]
  },
  {
   "cell_type": "code",
   "execution_count": 79,
   "id": "4a759155",
   "metadata": {
    "execution": {
     "iopub.execute_input": "2025-07-30T20:13:47.704788Z",
     "iopub.status.busy": "2025-07-30T20:13:47.704106Z",
     "iopub.status.idle": "2025-07-30T20:13:56.695615Z",
     "shell.execute_reply": "2025-07-30T20:13:56.694870Z"
    },
    "papermill": {
     "duration": 9.023996,
     "end_time": "2025-07-30T20:13:56.696956",
     "exception": false,
     "start_time": "2025-07-30T20:13:47.672960",
     "status": "completed"
    },
    "tags": []
   },
   "outputs": [
    {
     "name": "stdout",
     "output_type": "stream",
     "text": [
      "Stopping execution_time clock.\n",
      "[INFO] Keeping all rows: 89710 rows retained.\n"
     ]
    },
    {
     "name": "stdout",
     "output_type": "stream",
     "text": [
      "[INFO] Keeping all rows: 89710 rows retained.\n"
     ]
    },
    {
     "name": "stdout",
     "output_type": "stream",
     "text": [
      "[INFO] Keeping all rows: 89710 rows retained.\n"
     ]
    },
    {
     "name": "stdout",
     "output_type": "stream",
     "text": [
      "[INFO] Keeping all rows: 89710 rows retained.\n"
     ]
    },
    {
     "data": {
      "text/html": [
       "<div>\n",
       "<style scoped>\n",
       "    .dataframe tbody tr th:only-of-type {\n",
       "        vertical-align: middle;\n",
       "    }\n",
       "\n",
       "    .dataframe tbody tr th {\n",
       "        vertical-align: top;\n",
       "    }\n",
       "\n",
       "    .dataframe thead th {\n",
       "        text-align: right;\n",
       "    }\n",
       "</style>\n",
       "<table border=\"1\" class=\"dataframe\">\n",
       "  <thead>\n",
       "    <tr style=\"text-align: right;\">\n",
       "      <th></th>\n",
       "      <th>run_no</th>\n",
       "      <th>universe_id</th>\n",
       "      <th>universe_settings</th>\n",
       "      <th>execution_time</th>\n",
       "      <th>test_size_n</th>\n",
       "      <th>test_size_frac</th>\n",
       "      <th>fair_main_equalized_odds_difference</th>\n",
       "      <th>fair_main_equalized_odds_ratio</th>\n",
       "      <th>fair_main_demographic_parity_difference</th>\n",
       "      <th>fair_main_demographic_parity_ratio</th>\n",
       "      <th>...</th>\n",
       "      <th>perf_grp_precision_0</th>\n",
       "      <th>perf_grp_precision_1</th>\n",
       "      <th>perf_grp_false positive rate_0</th>\n",
       "      <th>perf_grp_false positive rate_1</th>\n",
       "      <th>perf_grp_false negative rate_0</th>\n",
       "      <th>perf_grp_false negative rate_1</th>\n",
       "      <th>perf_grp_selection rate_0</th>\n",
       "      <th>perf_grp_selection rate_1</th>\n",
       "      <th>perf_grp_count_0</th>\n",
       "      <th>perf_grp_count_1</th>\n",
       "    </tr>\n",
       "  </thead>\n",
       "  <tbody>\n",
       "    <tr>\n",
       "      <th>0</th>\n",
       "      <td>14</td>\n",
       "      <td>d873fb08e2d645872b5c32832f7034aa</td>\n",
       "      <td>{\"cutoff\": \"quantile_0.1\", \"eval_fairness_grou...</td>\n",
       "      <td>51.525712</td>\n",
       "      <td>89710</td>\n",
       "      <td>1.0</td>\n",
       "      <td>0.078984</td>\n",
       "      <td>0.916654</td>\n",
       "      <td>0.068510</td>\n",
       "      <td>0.928098</td>\n",
       "      <td>...</td>\n",
       "      <td>NaN</td>\n",
       "      <td>NaN</td>\n",
       "      <td>NaN</td>\n",
       "      <td>NaN</td>\n",
       "      <td>NaN</td>\n",
       "      <td>NaN</td>\n",
       "      <td>NaN</td>\n",
       "      <td>NaN</td>\n",
       "      <td>NaN</td>\n",
       "      <td>NaN</td>\n",
       "    </tr>\n",
       "    <tr>\n",
       "      <th>0</th>\n",
       "      <td>14</td>\n",
       "      <td>d873fb08e2d645872b5c32832f7034aa</td>\n",
       "      <td>{\"cutoff\": \"quantile_0.1\", \"eval_fairness_grou...</td>\n",
       "      <td>51.525712</td>\n",
       "      <td>89710</td>\n",
       "      <td>1.0</td>\n",
       "      <td>0.078984</td>\n",
       "      <td>0.916654</td>\n",
       "      <td>0.068510</td>\n",
       "      <td>0.928098</td>\n",
       "      <td>...</td>\n",
       "      <td>0.120076</td>\n",
       "      <td>0.147479</td>\n",
       "      <td>0.947667</td>\n",
       "      <td>0.868682</td>\n",
       "      <td>0.007601</td>\n",
       "      <td>0.013020</td>\n",
       "      <td>0.952824</td>\n",
       "      <td>0.884314</td>\n",
       "      <td>20540.0</td>\n",
       "      <td>69170.0</td>\n",
       "    </tr>\n",
       "    <tr>\n",
       "      <th>0</th>\n",
       "      <td>14</td>\n",
       "      <td>d873fb08e2d645872b5c32832f7034aa</td>\n",
       "      <td>{\"cutoff\": \"quantile_0.25\", \"eval_fairness_gro...</td>\n",
       "      <td>51.525712</td>\n",
       "      <td>89710</td>\n",
       "      <td>1.0</td>\n",
       "      <td>0.077749</td>\n",
       "      <td>0.900376</td>\n",
       "      <td>0.062266</td>\n",
       "      <td>0.921973</td>\n",
       "      <td>...</td>\n",
       "      <td>NaN</td>\n",
       "      <td>NaN</td>\n",
       "      <td>NaN</td>\n",
       "      <td>NaN</td>\n",
       "      <td>NaN</td>\n",
       "      <td>NaN</td>\n",
       "      <td>NaN</td>\n",
       "      <td>NaN</td>\n",
       "      <td>NaN</td>\n",
       "      <td>NaN</td>\n",
       "    </tr>\n",
       "    <tr>\n",
       "      <th>0</th>\n",
       "      <td>14</td>\n",
       "      <td>d873fb08e2d645872b5c32832f7034aa</td>\n",
       "      <td>{\"cutoff\": \"quantile_0.25\", \"eval_fairness_gro...</td>\n",
       "      <td>51.525712</td>\n",
       "      <td>89710</td>\n",
       "      <td>1.0</td>\n",
       "      <td>0.077749</td>\n",
       "      <td>0.900376</td>\n",
       "      <td>0.062266</td>\n",
       "      <td>0.921973</td>\n",
       "      <td>...</td>\n",
       "      <td>0.134769</td>\n",
       "      <td>0.171130</td>\n",
       "      <td>0.780431</td>\n",
       "      <td>0.702682</td>\n",
       "      <td>0.067145</td>\n",
       "      <td>0.047155</td>\n",
       "      <td>0.798004</td>\n",
       "      <td>0.735738</td>\n",
       "      <td>20540.0</td>\n",
       "      <td>69170.0</td>\n",
       "    </tr>\n",
       "  </tbody>\n",
       "</table>\n",
       "<p>4 rows × 50 columns</p>\n",
       "</div>"
      ],
      "text/plain": [
       "  run_no                       universe_id  \\\n",
       "0     14  d873fb08e2d645872b5c32832f7034aa   \n",
       "0     14  d873fb08e2d645872b5c32832f7034aa   \n",
       "0     14  d873fb08e2d645872b5c32832f7034aa   \n",
       "0     14  d873fb08e2d645872b5c32832f7034aa   \n",
       "\n",
       "                                   universe_settings  execution_time  \\\n",
       "0  {\"cutoff\": \"quantile_0.1\", \"eval_fairness_grou...       51.525712   \n",
       "0  {\"cutoff\": \"quantile_0.1\", \"eval_fairness_grou...       51.525712   \n",
       "0  {\"cutoff\": \"quantile_0.25\", \"eval_fairness_gro...       51.525712   \n",
       "0  {\"cutoff\": \"quantile_0.25\", \"eval_fairness_gro...       51.525712   \n",
       "\n",
       "   test_size_n  test_size_frac  fair_main_equalized_odds_difference  \\\n",
       "0        89710             1.0                             0.078984   \n",
       "0        89710             1.0                             0.078984   \n",
       "0        89710             1.0                             0.077749   \n",
       "0        89710             1.0                             0.077749   \n",
       "\n",
       "   fair_main_equalized_odds_ratio  fair_main_demographic_parity_difference  \\\n",
       "0                        0.916654                                 0.068510   \n",
       "0                        0.916654                                 0.068510   \n",
       "0                        0.900376                                 0.062266   \n",
       "0                        0.900376                                 0.062266   \n",
       "\n",
       "   fair_main_demographic_parity_ratio  ...  perf_grp_precision_0  \\\n",
       "0                            0.928098  ...                   NaN   \n",
       "0                            0.928098  ...              0.120076   \n",
       "0                            0.921973  ...                   NaN   \n",
       "0                            0.921973  ...              0.134769   \n",
       "\n",
       "   perf_grp_precision_1  perf_grp_false positive rate_0  \\\n",
       "0                   NaN                             NaN   \n",
       "0              0.147479                        0.947667   \n",
       "0                   NaN                             NaN   \n",
       "0              0.171130                        0.780431   \n",
       "\n",
       "   perf_grp_false positive rate_1  perf_grp_false negative rate_0  \\\n",
       "0                             NaN                             NaN   \n",
       "0                        0.868682                        0.007601   \n",
       "0                             NaN                             NaN   \n",
       "0                        0.702682                        0.067145   \n",
       "\n",
       "   perf_grp_false negative rate_1  perf_grp_selection rate_0  \\\n",
       "0                             NaN                        NaN   \n",
       "0                        0.013020                   0.952824   \n",
       "0                             NaN                        NaN   \n",
       "0                        0.047155                   0.798004   \n",
       "\n",
       "   perf_grp_selection rate_1  perf_grp_count_0  perf_grp_count_1  \n",
       "0                        NaN               NaN               NaN  \n",
       "0                   0.884314           20540.0           69170.0  \n",
       "0                        NaN               NaN               NaN  \n",
       "0                   0.735738           20540.0           69170.0  \n",
       "\n",
       "[4 rows x 50 columns]"
      ]
     },
     "execution_count": 79,
     "metadata": {},
     "output_type": "execute_result"
    }
   ],
   "source": [
    "final_output = universe_analysis.generate_final_output(\n",
    "    y_pred_prob=probs_test,\n",
    "    y_test=y_true,\n",
    "    org_test=org_test,\n",
    "    filter_data=filter_sub_universe_data,\n",
    "    cp_metrics_df=cp_metrics_df,\n",
    "    save=True,\n",
    ")\n",
    "final_output"
   ]
  },
  {
   "cell_type": "code",
   "execution_count": null,
   "id": "721ff514-cb11-46f8-b6fc-50392f74b5cb",
   "metadata": {
    "papermill": {
     "duration": 0.015757,
     "end_time": "2025-07-30T20:13:56.731737",
     "exception": false,
     "start_time": "2025-07-30T20:13:56.715980",
     "status": "completed"
    },
    "tags": []
   },
   "outputs": [],
   "source": []
  }
 ],
 "metadata": {
  "celltoolbar": "Tags",
  "kernelspec": {
   "display_name": "Python (CMA Fairness)",
   "language": "python",
   "name": "cma_fair_env"
  },
  "language_info": {
   "codemirror_mode": {
    "name": "ipython",
    "version": 3
   },
   "file_extension": ".py",
   "mimetype": "text/x-python",
   "name": "python",
   "nbconvert_exporter": "python",
   "pygments_lexer": "ipython3",
   "version": "3.10.12"
  },
  "papermill": {
   "default_parameters": {},
   "duration": 64.842049,
   "end_time": "2025-07-30T20:13:57.566500",
   "environment_variables": {},
   "exception": null,
   "input_path": "universe_analysis.ipynb",
   "output_path": "output/runs/14/notebooks/m_14-d873fb08e2d645872b5c32832f7034aa.ipynb",
   "parameters": {
    "output_dir": "output",
    "run_no": "14",
    "seed": "2023",
    "universe": "{\"cutoff\": [\"quantile_0.1\", \"quantile_0.25\"], \"eval_fairness_grouping\": [\"majority-minority\", \"nationality-all\"], \"exclude_features\": \"nationality-sex\", \"exclude_subgroups\": \"keep-all\", \"model\": \"gbm\", \"scale\": \"scale\", \"training_size\": \"25k\", \"training_year\": \"2012_14\"}",
    "universe_id": "d873fb08e2d645872b5c32832f7034aa"
   },
   "start_time": "2025-07-30T20:12:52.724451",
   "version": "2.6.0"
  }
 },
 "nbformat": 4,
 "nbformat_minor": 5
}