{
 "cells": [
  {
   "cell_type": "code",
   "execution_count": 1,
   "id": "f159f837-637b-42ba-96b5-ec9a68c44524",
   "metadata": {
    "execution": {
     "iopub.execute_input": "2025-07-30T20:01:53.731021Z",
     "iopub.status.busy": "2025-07-30T20:01:53.730527Z",
     "iopub.status.idle": "2025-07-30T20:01:53.745270Z",
     "shell.execute_reply": "2025-07-30T20:01:53.744268Z"
    },
    "papermill": {
     "duration": 0.036256,
     "end_time": "2025-07-30T20:01:53.746770",
     "exception": false,
     "start_time": "2025-07-30T20:01:53.710514",
     "status": "completed"
    },
    "tags": []
   },
   "outputs": [
    {
     "name": "stdout",
     "output_type": "stream",
     "text": [
      "/dss/dsshome1/0C/ra93lal2/cma/CMA_Fairness_v2\n"
     ]
    },
    {
     "name": "stderr",
     "output_type": "stream",
     "text": [
      "/dss/dsshome1/0C/ra93lal2/.local/share/virtualenvs/CMA_Fairness_v2-3j10GkSs/lib/python3.10/site-packages/IPython/core/magics/osm.py:393: UserWarning: This is now an optional IPython functionality, using bookmarks requires you to install the `pickleshare` library.\n",
      "  bkms = self.shell.db.get('bookmarks', {})\n",
      "/dss/dsshome1/0C/ra93lal2/.local/share/virtualenvs/CMA_Fairness_v2-3j10GkSs/lib/python3.10/site-packages/IPython/core/magics/osm.py:417: UserWarning: This is now an optional IPython functionality, setting dhist requires you to install the `pickleshare` library.\n",
      "  self.shell.db['dhist'] = compress_dhist(dhist)[-100:]\n"
     ]
    }
   ],
   "source": [
    "%cd ~/cma/CMA_Fairness_v2"
   ]
  },
  {
   "cell_type": "markdown",
   "id": "de2603b9",
   "metadata": {
    "papermill": {
     "duration": 0.017986,
     "end_time": "2025-07-30T20:01:53.783686",
     "exception": false,
     "start_time": "2025-07-30T20:01:53.765700",
     "status": "completed"
    },
    "tags": []
   },
   "source": [
    "The following cell holds the definition of our parameters, these values can be overriden by rendering the with e.g. the following command:\n",
    "\n",
    "papermill -p alpha 0.2 -p ratio 0.3 universe_analysis.ipynb output/test_run.ipynb"
   ]
  },
  {
   "cell_type": "code",
   "execution_count": 2,
   "id": "a80968a0-40bb-4fa9-85ef-2d5eefb01975",
   "metadata": {
    "execution": {
     "iopub.execute_input": "2025-07-30T20:01:53.821438Z",
     "iopub.status.busy": "2025-07-30T20:01:53.820512Z",
     "iopub.status.idle": "2025-07-30T20:01:53.825920Z",
     "shell.execute_reply": "2025-07-30T20:01:53.825008Z"
    },
    "papermill": {
     "duration": 0.026054,
     "end_time": "2025-07-30T20:01:53.827617",
     "exception": false,
     "start_time": "2025-07-30T20:01:53.801563",
     "status": "completed"
    },
    "tags": []
   },
   "outputs": [
    {
     "name": "stdout",
     "output_type": "stream",
     "text": [
      "Current working directory: /dss/dsshome1/0C/ra93lal2/cma/CMA_Fairness_v2\n"
     ]
    }
   ],
   "source": [
    "import os\n",
    "print(\"Current working directory:\", os.getcwd())"
   ]
  },
  {
   "cell_type": "code",
   "execution_count": 3,
   "id": "2dce4c03",
   "metadata": {
    "execution": {
     "iopub.execute_input": "2025-07-30T20:01:53.865553Z",
     "iopub.status.busy": "2025-07-30T20:01:53.865009Z",
     "iopub.status.idle": "2025-07-30T20:01:53.871129Z",
     "shell.execute_reply": "2025-07-30T20:01:53.870300Z"
    },
    "papermill": {
     "duration": 0.026756,
     "end_time": "2025-07-30T20:01:53.872610",
     "exception": false,
     "start_time": "2025-07-30T20:01:53.845854",
     "status": "completed"
    },
    "tags": [
     "parameters"
    ]
   },
   "outputs": [],
   "source": [
    "run_no = 0\n",
    "universe_id = \"test\"\n",
    "universe = {\n",
    "    \"training_size\": \"25k\", # \"25k\", \"5k\", \"1k\"\n",
    "    \"training_year\": \"2014\", # \"2014\", \"2012_14\", \"2010_14\"\n",
    "    \"scale\": \"scale\", # \"scale\", \"do-not-scale\",\n",
    "    #\"stratify_split\": \"target\", # \"none\", \"target\", \"protected-attribute\", \"both\",\n",
    "    \"model\": \"elasticnet\", # \"logreg\", \"penalized_logreg\", \"rf\", \"gbm\", \"elasticnet\"\n",
    "    \"cutoff\": [\"quantile_0.15\", \"quantile_0.30\"],\n",
    "    \"exclude_features\": \"age\", # \"none\", \"nationality\", \"sex\", \"nationality-sex\", \"age\"\n",
    "    \"exclude_subgroups\": \"keep-all\", # \"keep-all\", \"drop-non-german\"\n",
    "    \"eval_fairness_grouping\": [\"majority-minority\", \"nationality-all\"]\n",
    "}\n",
    "\n",
    "output_dir=\"./output\"\n",
    "seed=0"
   ]
  },
  {
   "cell_type": "code",
   "execution_count": 4,
   "id": "2fa77935",
   "metadata": {
    "execution": {
     "iopub.execute_input": "2025-07-30T20:01:53.910303Z",
     "iopub.status.busy": "2025-07-30T20:01:53.909603Z",
     "iopub.status.idle": "2025-07-30T20:01:53.914934Z",
     "shell.execute_reply": "2025-07-30T20:01:53.913982Z"
    },
    "papermill": {
     "duration": 0.02587,
     "end_time": "2025-07-30T20:01:53.916482",
     "exception": false,
     "start_time": "2025-07-30T20:01:53.890612",
     "status": "completed"
    },
    "tags": [
     "injected-parameters"
    ]
   },
   "outputs": [],
   "source": [
    "# Parameters\n",
    "universe_id = \"3f6cff82b9c68a66c8e8f9ecf13776d0\"\n",
    "run_no = \"14\"\n",
    "universe = \"{\\\"cutoff\\\": [\\\"quantile_0.1\\\", \\\"quantile_0.25\\\"], \\\"eval_fairness_grouping\\\": [\\\"majority-minority\\\", \\\"nationality-all\\\"], \\\"exclude_features\\\": \\\"nationality\\\", \\\"exclude_subgroups\\\": \\\"drop-non-german\\\", \\\"model\\\": \\\"elasticnet\\\", \\\"scale\\\": \\\"do-not-scale\\\", \\\"training_size\\\": \\\"25k\\\", \\\"training_year\\\": \\\"2014\\\"}\"\n",
    "output_dir = \"output\"\n",
    "seed = \"2023\"\n"
   ]
  },
  {
   "cell_type": "code",
   "execution_count": 5,
   "id": "1650acaf",
   "metadata": {
    "execution": {
     "iopub.execute_input": "2025-07-30T20:01:53.954151Z",
     "iopub.status.busy": "2025-07-30T20:01:53.953625Z",
     "iopub.status.idle": "2025-07-30T20:01:53.958430Z",
     "shell.execute_reply": "2025-07-30T20:01:53.957566Z"
    },
    "papermill": {
     "duration": 0.024965,
     "end_time": "2025-07-30T20:01:53.959852",
     "exception": false,
     "start_time": "2025-07-30T20:01:53.934887",
     "status": "completed"
    },
    "tags": []
   },
   "outputs": [],
   "source": [
    "import json\n",
    "# Parse universe into dict if it is passed as a string\n",
    "if isinstance(universe, str):\n",
    "    universe = json.loads(universe)"
   ]
  },
  {
   "cell_type": "code",
   "execution_count": 6,
   "id": "16620c48",
   "metadata": {
    "execution": {
     "iopub.execute_input": "2025-07-30T20:01:53.982254Z",
     "iopub.status.busy": "2025-07-30T20:01:53.981760Z",
     "iopub.status.idle": "2025-07-30T20:01:54.013519Z",
     "shell.execute_reply": "2025-07-30T20:01:54.012357Z"
    },
    "papermill": {
     "duration": 0.044666,
     "end_time": "2025-07-30T20:01:54.015378",
     "exception": false,
     "start_time": "2025-07-30T20:01:53.970712",
     "status": "completed"
    },
    "tags": []
   },
   "outputs": [],
   "source": [
    "# Auto-reload the custom package\n",
    "%load_ext autoreload\n",
    "%autoreload 1\n",
    "%aimport fairness_multiverse"
   ]
  },
  {
   "cell_type": "code",
   "execution_count": 7,
   "id": "01c5c9f3",
   "metadata": {
    "execution": {
     "iopub.execute_input": "2025-07-30T20:01:54.070812Z",
     "iopub.status.busy": "2025-07-30T20:01:54.070269Z",
     "iopub.status.idle": "2025-07-30T20:01:55.761557Z",
     "shell.execute_reply": "2025-07-30T20:01:55.760556Z"
    },
    "papermill": {
     "duration": 1.712737,
     "end_time": "2025-07-30T20:01:55.763304",
     "exception": false,
     "start_time": "2025-07-30T20:01:54.050567",
     "status": "completed"
    },
    "tags": []
   },
   "outputs": [],
   "source": [
    "from fairness_multiverse.universe import UniverseAnalysis\n",
    "\n",
    "universe_analysis = UniverseAnalysis(\n",
    "    run_no = run_no,\n",
    "    universe_id = universe_id,\n",
    "    universe = universe,\n",
    "    output_dir=output_dir,\n",
    ")"
   ]
  },
  {
   "cell_type": "code",
   "execution_count": 8,
   "id": "106241f5",
   "metadata": {
    "execution": {
     "iopub.execute_input": "2025-07-30T20:01:55.802196Z",
     "iopub.status.busy": "2025-07-30T20:01:55.801728Z",
     "iopub.status.idle": "2025-07-30T20:01:55.808616Z",
     "shell.execute_reply": "2025-07-30T20:01:55.807616Z"
    },
    "papermill": {
     "duration": 0.02785,
     "end_time": "2025-07-30T20:01:55.810190",
     "exception": false,
     "start_time": "2025-07-30T20:01:55.782340",
     "status": "completed"
    },
    "tags": []
   },
   "outputs": [
    {
     "name": "stdout",
     "output_type": "stream",
     "text": [
      "Using Seed: 2023\n"
     ]
    }
   ],
   "source": [
    "import numpy as np\n",
    "parsed_seed = int(seed)\n",
    "np.random.seed(parsed_seed)\n",
    "print(f\"Using Seed: {parsed_seed}\")"
   ]
  },
  {
   "cell_type": "markdown",
   "id": "e0ebdc57",
   "metadata": {
    "papermill": {
     "duration": 0.018089,
     "end_time": "2025-07-30T20:01:55.847207",
     "exception": false,
     "start_time": "2025-07-30T20:01:55.829118",
     "status": "completed"
    },
    "tags": []
   },
   "source": [
    "# Loading Data"
   ]
  },
  {
   "cell_type": "markdown",
   "id": "681925a3",
   "metadata": {
    "papermill": {
     "duration": 0.01815,
     "end_time": "2025-07-30T20:01:55.883372",
     "exception": false,
     "start_time": "2025-07-30T20:01:55.865222",
     "status": "completed"
    },
    "tags": []
   },
   "source": [
    "Load siab_train, siab_test, siab_calib and/or \n",
    "load siab_train_features, siab_train_labels"
   ]
  },
  {
   "cell_type": "code",
   "execution_count": 9,
   "id": "f0496b8a",
   "metadata": {
    "execution": {
     "iopub.execute_input": "2025-07-30T20:01:55.921704Z",
     "iopub.status.busy": "2025-07-30T20:01:55.921060Z",
     "iopub.status.idle": "2025-07-30T20:02:07.821077Z",
     "shell.execute_reply": "2025-07-30T20:02:07.819764Z"
    },
    "papermill": {
     "duration": 11.921083,
     "end_time": "2025-07-30T20:02:07.822612",
     "exception": false,
     "start_time": "2025-07-30T20:01:55.901529",
     "status": "completed"
    },
    "tags": []
   },
   "outputs": [
    {
     "name": "stdout",
     "output_type": "stream",
     "text": [
      "Loading SIAB data from cache: data/siab_cached.csv.gz\n"
     ]
    },
    {
     "name": "stdout",
     "output_type": "stream",
     "text": [
      "(643690, 164)\n"
     ]
    }
   ],
   "source": [
    "from pathlib import Path\n",
    "import pandas as pd\n",
    "\n",
    "# File paths\n",
    "raw_file = Path(\"data/raw/siab.csv\")\n",
    "cache_file = Path(\"data/siab_cached.csv.gz\")\n",
    "\n",
    "# Ensure cache directory exists\n",
    "cache_file.parent.mkdir(parents=True, exist_ok=True)\n",
    "\n",
    "# Load with simple caching\n",
    "if cache_file.exists():\n",
    "    print(f\"Loading SIAB data from cache: {cache_file}\")\n",
    "    siab = pd.read_csv(cache_file, compression='gzip')\n",
    "else:\n",
    "    print(f\"Cache not found. Reading raw SIAB data: {raw_file}\")\n",
    "    siab = pd.read_csv(raw_file)\n",
    "    siab.to_csv(cache_file, index=False, compression='gzip')\n",
    "    print(f\"Cached SIAB data to: {cache_file}\")\n",
    "\n",
    "# Now use `siab` DataFrame as needed\n",
    "print(siab.shape)"
   ]
  },
  {
   "cell_type": "code",
   "execution_count": 10,
   "id": "db0ca512-5f53-4dba-abdb-a2888bca41ba",
   "metadata": {
    "execution": {
     "iopub.execute_input": "2025-07-30T20:02:07.864583Z",
     "iopub.status.busy": "2025-07-30T20:02:07.863840Z",
     "iopub.status.idle": "2025-07-30T20:02:07.869456Z",
     "shell.execute_reply": "2025-07-30T20:02:07.868594Z"
    },
    "papermill": {
     "duration": 0.027038,
     "end_time": "2025-07-30T20:02:07.870859",
     "exception": false,
     "start_time": "2025-07-30T20:02:07.843821",
     "status": "completed"
    },
    "tags": []
   },
   "outputs": [],
   "source": [
    "#siab"
   ]
  },
  {
   "cell_type": "code",
   "execution_count": 11,
   "id": "a0edb063",
   "metadata": {
    "execution": {
     "iopub.execute_input": "2025-07-30T20:02:07.909982Z",
     "iopub.status.busy": "2025-07-30T20:02:07.909384Z",
     "iopub.status.idle": "2025-07-30T20:02:07.914176Z",
     "shell.execute_reply": "2025-07-30T20:02:07.913268Z"
    },
    "papermill": {
     "duration": 0.025805,
     "end_time": "2025-07-30T20:02:07.915571",
     "exception": false,
     "start_time": "2025-07-30T20:02:07.889766",
     "status": "completed"
    },
    "tags": []
   },
   "outputs": [],
   "source": [
    "#import pandas as pd\n",
    "#\n",
    "#X_train = pd.read_csv(\"./data/X_train.csv\")\n",
    "#y_train = pd.read_csv(\"./data/y_train.csv\")"
   ]
  },
  {
   "cell_type": "code",
   "execution_count": 12,
   "id": "63d08085",
   "metadata": {
    "execution": {
     "iopub.execute_input": "2025-07-30T20:02:07.954507Z",
     "iopub.status.busy": "2025-07-30T20:02:07.953906Z",
     "iopub.status.idle": "2025-07-30T20:02:07.958569Z",
     "shell.execute_reply": "2025-07-30T20:02:07.957730Z"
    },
    "papermill": {
     "duration": 0.025523,
     "end_time": "2025-07-30T20:02:07.959924",
     "exception": false,
     "start_time": "2025-07-30T20:02:07.934401",
     "status": "completed"
    },
    "tags": []
   },
   "outputs": [],
   "source": [
    "#X_test = pd.read_csv(\"./data/X_test.csv\")\n",
    "#y_true = pd.read_csv(\"./data/y_test.csv\")"
   ]
  },
  {
   "cell_type": "code",
   "execution_count": 13,
   "id": "98a8d0fa-1d3d-4ed8-bb2c-281470e24add",
   "metadata": {
    "execution": {
     "iopub.execute_input": "2025-07-30T20:02:07.999057Z",
     "iopub.status.busy": "2025-07-30T20:02:07.998432Z",
     "iopub.status.idle": "2025-07-30T20:02:08.003321Z",
     "shell.execute_reply": "2025-07-30T20:02:08.002404Z"
    },
    "papermill": {
     "duration": 0.026052,
     "end_time": "2025-07-30T20:02:08.004819",
     "exception": false,
     "start_time": "2025-07-30T20:02:07.978767",
     "status": "completed"
    },
    "tags": []
   },
   "outputs": [],
   "source": [
    "# Calibration data for conformal\n",
    "#X_calib = pd.read_csv(\"./data/X_calib.csv\")\n",
    "#y_calib = pd.read_csv(\"./data/y_calib.csv\")"
   ]
  },
  {
   "cell_type": "markdown",
   "id": "997051c5-15bd-4b69-9786-c3001a3ce484",
   "metadata": {
    "papermill": {
     "duration": 0.018346,
     "end_time": "2025-07-30T20:02:08.042006",
     "exception": false,
     "start_time": "2025-07-30T20:02:08.023660",
     "status": "completed"
    },
    "tags": []
   },
   "source": [
    "# Splitting Data and Setting Training Data Size"
   ]
  },
  {
   "cell_type": "code",
   "execution_count": 14,
   "id": "e993b61f-042d-41a6-8c81-f55681f86335",
   "metadata": {
    "execution": {
     "iopub.execute_input": "2025-07-30T20:02:08.080839Z",
     "iopub.status.busy": "2025-07-30T20:02:08.080181Z",
     "iopub.status.idle": "2025-07-30T20:02:08.093008Z",
     "shell.execute_reply": "2025-07-30T20:02:08.092142Z"
    },
    "papermill": {
     "duration": 0.033858,
     "end_time": "2025-07-30T20:02:08.094499",
     "exception": false,
     "start_time": "2025-07-30T20:02:08.060641",
     "status": "completed"
    },
    "tags": []
   },
   "outputs": [],
   "source": [
    "def sample_by_year_size(df,\n",
    "                        training_year: str,\n",
    "                        training_size: str,\n",
    "                        random_state: int = 42):\n",
    "    # --- parse training_year into a list of int years ---\n",
    "    if \"_\" in training_year:\n",
    "        start_str, end_str = training_year.split(\"_\", 1)\n",
    "        start = int(start_str)\n",
    "        end   = int(end_str) if len(end_str) == 4 else (int(end_str) + (start // 100)*100)\n",
    "        years = list(range(start, end + 1))\n",
    "    else:\n",
    "        years = [int(training_year)]\n",
    "\n",
    "    df = df[df[\"year\"].isin(years)].reset_index(drop=True)\n",
    "\n",
    "    # --- map training_size to total number of samples ---\n",
    "    total_map = {\"25k\": 25_000, \"5k\": 5_000, \"1k\": 1_000}\n",
    "    if training_size not in total_map:\n",
    "        return df  # e.g. \"all\"\n",
    "\n",
    "    total_samples = total_map[training_size]\n",
    "    n_years       = len(years)\n",
    "    base          = total_samples // n_years\n",
    "    remainder     = total_samples % n_years\n",
    "\n",
    "    # --- build a dict: year -> how many to sample ---\n",
    "    # give +1 to the first `remainder` years in ascending order\n",
    "    quotas = {\n",
    "        year: base + (1 if idx < remainder else 0)\n",
    "        for idx, year in enumerate(sorted(years))\n",
    "    }\n",
    "\n",
    "    # --- sample per‐year according to the quota dict ---\n",
    "    sampled = (\n",
    "        df\n",
    "        .groupby(\"year\", group_keys=False)\n",
    "        .apply(lambda grp: grp.sample(\n",
    "            n=min(len(grp), quotas[grp.name]),\n",
    "            random_state=random_state))\n",
    "        .reset_index(drop=True)\n",
    "    )\n",
    "\n",
    "    return sampled"
   ]
  },
  {
   "cell_type": "code",
   "execution_count": 15,
   "id": "c0ccd338-0e02-41f3-a09d-f56f9266e3fb",
   "metadata": {
    "execution": {
     "iopub.execute_input": "2025-07-30T20:02:08.134293Z",
     "iopub.status.busy": "2025-07-30T20:02:08.133932Z",
     "iopub.status.idle": "2025-07-30T20:02:08.138875Z",
     "shell.execute_reply": "2025-07-30T20:02:08.137958Z"
    },
    "papermill": {
     "duration": 0.025962,
     "end_time": "2025-07-30T20:02:08.140403",
     "exception": false,
     "start_time": "2025-07-30T20:02:08.114441",
     "status": "completed"
    },
    "tags": []
   },
   "outputs": [],
   "source": [
    "#universe[\"training_size\"]"
   ]
  },
  {
   "cell_type": "code",
   "execution_count": 16,
   "id": "ca707fd7-8047-4acd-bfa5-66248fbbf8e6",
   "metadata": {
    "execution": {
     "iopub.execute_input": "2025-07-30T20:02:08.180103Z",
     "iopub.status.busy": "2025-07-30T20:02:08.179278Z",
     "iopub.status.idle": "2025-07-30T20:02:08.184190Z",
     "shell.execute_reply": "2025-07-30T20:02:08.183357Z"
    },
    "papermill": {
     "duration": 0.025836,
     "end_time": "2025-07-30T20:02:08.185679",
     "exception": false,
     "start_time": "2025-07-30T20:02:08.159843",
     "status": "completed"
    },
    "tags": []
   },
   "outputs": [],
   "source": [
    "#universe[\"training_year\"]"
   ]
  },
  {
   "cell_type": "code",
   "execution_count": 17,
   "id": "aea9c6ef-6f46-42c8-85eb-5a62025c1508",
   "metadata": {
    "execution": {
     "iopub.execute_input": "2025-07-30T20:02:08.225680Z",
     "iopub.status.busy": "2025-07-30T20:02:08.225069Z",
     "iopub.status.idle": "2025-07-30T20:02:08.532076Z",
     "shell.execute_reply": "2025-07-30T20:02:08.531184Z"
    },
    "papermill": {
     "duration": 0.328706,
     "end_time": "2025-07-30T20:02:08.533834",
     "exception": false,
     "start_time": "2025-07-30T20:02:08.205128",
     "status": "completed"
    },
    "tags": []
   },
   "outputs": [],
   "source": [
    "siab_train = sample_by_year_size(siab,\n",
    "                               training_year=universe[\"training_year\"],\n",
    "                               training_size=universe[\"training_size\"])"
   ]
  },
  {
   "cell_type": "code",
   "execution_count": 18,
   "id": "8d3afb32-789d-442c-8d5d-9f5aa8dd2eed",
   "metadata": {
    "execution": {
     "iopub.execute_input": "2025-07-30T20:02:08.573946Z",
     "iopub.status.busy": "2025-07-30T20:02:08.573332Z",
     "iopub.status.idle": "2025-07-30T20:02:08.578203Z",
     "shell.execute_reply": "2025-07-30T20:02:08.577367Z"
    },
    "papermill": {
     "duration": 0.026326,
     "end_time": "2025-07-30T20:02:08.579725",
     "exception": false,
     "start_time": "2025-07-30T20:02:08.553399",
     "status": "completed"
    },
    "tags": []
   },
   "outputs": [],
   "source": [
    "#siab_train.shape"
   ]
  },
  {
   "cell_type": "code",
   "execution_count": 19,
   "id": "d582db68-1a4c-47fb-84fc-08518dc1975a",
   "metadata": {
    "execution": {
     "iopub.execute_input": "2025-07-30T20:02:08.619964Z",
     "iopub.status.busy": "2025-07-30T20:02:08.619175Z",
     "iopub.status.idle": "2025-07-30T20:02:08.624061Z",
     "shell.execute_reply": "2025-07-30T20:02:08.623145Z"
    },
    "papermill": {
     "duration": 0.026371,
     "end_time": "2025-07-30T20:02:08.625609",
     "exception": false,
     "start_time": "2025-07-30T20:02:08.599238",
     "status": "completed"
    },
    "tags": []
   },
   "outputs": [],
   "source": [
    "#display(siab_train.groupby(\"year\").size())"
   ]
  },
  {
   "cell_type": "code",
   "execution_count": 20,
   "id": "a561edb4-d032-42cb-8256-22eac1111c64",
   "metadata": {
    "execution": {
     "iopub.execute_input": "2025-07-30T20:02:08.666311Z",
     "iopub.status.busy": "2025-07-30T20:02:08.665709Z",
     "iopub.status.idle": "2025-07-30T20:02:08.906706Z",
     "shell.execute_reply": "2025-07-30T20:02:08.905833Z"
    },
    "papermill": {
     "duration": 0.262957,
     "end_time": "2025-07-30T20:02:08.908575",
     "exception": false,
     "start_time": "2025-07-30T20:02:08.645618",
     "status": "completed"
    },
    "tags": []
   },
   "outputs": [],
   "source": [
    "#siab_train = siab_s[siab_s.year < 2015]\n",
    "siab_calib = siab[siab.year == 2015]\n",
    "siab_test = siab[siab.year == 2016]"
   ]
  },
  {
   "cell_type": "code",
   "execution_count": 21,
   "id": "472de16f-c3db-4916-846b-1f0de9cf1746",
   "metadata": {
    "execution": {
     "iopub.execute_input": "2025-07-30T20:02:08.949074Z",
     "iopub.status.busy": "2025-07-30T20:02:08.948641Z",
     "iopub.status.idle": "2025-07-30T20:02:08.963302Z",
     "shell.execute_reply": "2025-07-30T20:02:08.961990Z"
    },
    "papermill": {
     "duration": 0.037495,
     "end_time": "2025-07-30T20:02:08.966004",
     "exception": false,
     "start_time": "2025-07-30T20:02:08.928509",
     "status": "completed"
    },
    "tags": []
   },
   "outputs": [],
   "source": [
    "X_train = siab_train.iloc[:,4:164]\n",
    "y_train = siab_train.iloc[:, [3]]"
   ]
  },
  {
   "cell_type": "code",
   "execution_count": 22,
   "id": "828c96af-f43a-4ed6-ba47-8ac73a47d56c",
   "metadata": {
    "execution": {
     "iopub.execute_input": "2025-07-30T20:02:09.006834Z",
     "iopub.status.busy": "2025-07-30T20:02:09.006376Z",
     "iopub.status.idle": "2025-07-30T20:02:09.055581Z",
     "shell.execute_reply": "2025-07-30T20:02:09.054521Z"
    },
    "papermill": {
     "duration": 0.070713,
     "end_time": "2025-07-30T20:02:09.057145",
     "exception": false,
     "start_time": "2025-07-30T20:02:08.986432",
     "status": "completed"
    },
    "tags": []
   },
   "outputs": [],
   "source": [
    "X_calib = siab_calib.iloc[:,4:164]\n",
    "y_calib = siab_calib.iloc[:, [3]]"
   ]
  },
  {
   "cell_type": "code",
   "execution_count": 23,
   "id": "c34be9c3-6bd6-476e-acd3-845840e303be",
   "metadata": {
    "execution": {
     "iopub.execute_input": "2025-07-30T20:02:09.099209Z",
     "iopub.status.busy": "2025-07-30T20:02:09.098738Z",
     "iopub.status.idle": "2025-07-30T20:02:09.148828Z",
     "shell.execute_reply": "2025-07-30T20:02:09.147657Z"
    },
    "papermill": {
     "duration": 0.072905,
     "end_time": "2025-07-30T20:02:09.150548",
     "exception": false,
     "start_time": "2025-07-30T20:02:09.077643",
     "status": "completed"
    },
    "tags": []
   },
   "outputs": [],
   "source": [
    "X_test = siab_test.iloc[:,4:164]\n",
    "y_true = siab_test.iloc[:, [3]]"
   ]
  },
  {
   "cell_type": "markdown",
   "id": "9901737e-04df-44f0-9100-f5ad144ed040",
   "metadata": {
    "papermill": {
     "duration": 0.020101,
     "end_time": "2025-07-30T20:02:09.191920",
     "exception": false,
     "start_time": "2025-07-30T20:02:09.171819",
     "status": "completed"
    },
    "tags": []
   },
   "source": [
    "# Splitting Data and Setting Training Data Size OLD VERSION"
   ]
  },
  {
   "cell_type": "code",
   "execution_count": 24,
   "id": "acbc8f7d-8fc8-4e86-8c59-5dcb0f58384b",
   "metadata": {
    "execution": {
     "iopub.execute_input": "2025-07-30T20:02:09.233656Z",
     "iopub.status.busy": "2025-07-30T20:02:09.232815Z",
     "iopub.status.idle": "2025-07-30T20:02:09.238152Z",
     "shell.execute_reply": "2025-07-30T20:02:09.237345Z"
    },
    "papermill": {
     "duration": 0.02774,
     "end_time": "2025-07-30T20:02:09.239613",
     "exception": false,
     "start_time": "2025-07-30T20:02:09.211873",
     "status": "completed"
    },
    "tags": []
   },
   "outputs": [],
   "source": [
    "#def sample_by_year(df, training_size, random_state=42):\n",
    "#    if training_size == \"2014\":\n",
    "#        return df[df[\"year\"] == 2014].reset_index(drop=True)\n",
    "#    \n",
    "#    size_map = {\n",
    "#        \"25k\": 5000,\n",
    "#        \"5k\": 1000,\n",
    "#        \"1k\": 200\n",
    "#    }\n",
    "#\n",
    "#    if training_size not in size_map:\n",
    "#        return df.reset_index(drop=True)  # use all data\n",
    "#\n",
    "#    n_per_year = size_map[training_size]\n",
    "#    grouped = df.groupby(\"year\")\n",
    "#    sampled = grouped.apply(lambda x: x.sample(n=min(n_per_year, len(x)), random_state=random_state))\n",
    "#    return sampled.reset_index(drop=True)"
   ]
  },
  {
   "cell_type": "code",
   "execution_count": 25,
   "id": "6d931f52-beaf-43ff-9e78-9d44a448d54e",
   "metadata": {
    "execution": {
     "iopub.execute_input": "2025-07-30T20:02:09.282050Z",
     "iopub.status.busy": "2025-07-30T20:02:09.281598Z",
     "iopub.status.idle": "2025-07-30T20:02:09.286791Z",
     "shell.execute_reply": "2025-07-30T20:02:09.285746Z"
    },
    "papermill": {
     "duration": 0.029122,
     "end_time": "2025-07-30T20:02:09.288967",
     "exception": false,
     "start_time": "2025-07-30T20:02:09.259845",
     "status": "completed"
    },
    "tags": []
   },
   "outputs": [],
   "source": [
    "#siab_s = sample_by_year(siab, universe[\"training_size\"])"
   ]
  },
  {
   "cell_type": "code",
   "execution_count": 26,
   "id": "5db0a40e-a4e2-4920-be85-b12ae061d70d",
   "metadata": {
    "execution": {
     "iopub.execute_input": "2025-07-30T20:02:09.331602Z",
     "iopub.status.busy": "2025-07-30T20:02:09.331151Z",
     "iopub.status.idle": "2025-07-30T20:02:09.336289Z",
     "shell.execute_reply": "2025-07-30T20:02:09.335323Z"
    },
    "papermill": {
     "duration": 0.028025,
     "end_time": "2025-07-30T20:02:09.337801",
     "exception": false,
     "start_time": "2025-07-30T20:02:09.309776",
     "status": "completed"
    },
    "tags": []
   },
   "outputs": [],
   "source": [
    "#display(siab_s.groupby(\"year\").size())"
   ]
  },
  {
   "cell_type": "code",
   "execution_count": 27,
   "id": "e6c733c5",
   "metadata": {
    "execution": {
     "iopub.execute_input": "2025-07-30T20:02:09.382077Z",
     "iopub.status.busy": "2025-07-30T20:02:09.381378Z",
     "iopub.status.idle": "2025-07-30T20:02:09.476760Z",
     "shell.execute_reply": "2025-07-30T20:02:09.475880Z"
    },
    "papermill": {
     "duration": 0.118725,
     "end_time": "2025-07-30T20:02:09.478657",
     "exception": false,
     "start_time": "2025-07-30T20:02:09.359932",
     "status": "completed"
    },
    "tags": []
   },
   "outputs": [],
   "source": [
    "# Auxiliary data needed downstream in the pipeline\n",
    "\n",
    "org_train = X_train.copy()\n",
    "org_test = X_test.copy()\n",
    "org_calib = X_calib.copy()"
   ]
  },
  {
   "cell_type": "code",
   "execution_count": 28,
   "id": "1466abac-c6da-4492-a62f-4240ae3783af",
   "metadata": {
    "execution": {
     "iopub.execute_input": "2025-07-30T20:02:09.521168Z",
     "iopub.status.busy": "2025-07-30T20:02:09.520525Z",
     "iopub.status.idle": "2025-07-30T20:02:09.526690Z",
     "shell.execute_reply": "2025-07-30T20:02:09.525765Z"
    },
    "papermill": {
     "duration": 0.029097,
     "end_time": "2025-07-30T20:02:09.528195",
     "exception": false,
     "start_time": "2025-07-30T20:02:09.499098",
     "status": "completed"
    },
    "tags": []
   },
   "outputs": [],
   "source": [
    "# put in other script?\n",
    "# Group sizes\n",
    "\n",
    "#def calculate_percentages(df, df_name):\n",
    "#    total_entries = len(df)\n",
    "#\n",
    "#    female_pct = (df['frau1'] == 1).mean() * 100\n",
    "#    non_german_pct = ((df['maxdeutsch1'] == 0) & (df['maxdeutsch.Missing.'] == 0)).mean() * 100\n",
    "#    non_german_male_pct = ((df['frau1'] == 0) & (df['maxdeutsch1'] == 0) & (df['maxdeutsch.Missing.'] == 0)).mean() * 100\n",
    "#    non_german_female_pct = ((df['frau1'] == 1) & (df['maxdeutsch1'] == 0) & (df['maxdeutsch.Missing.'] == 0)).mean() * 100\n",
    "#\n",
    "#    print(f\"--- {df_name} ---\")\n",
    "#    print(f\"Female: {female_pct:.2f}%\")\n",
    "#    print(f\"Non-German: {non_german_pct:.2f}%\")\n",
    "#    print(f\"Non-German Male: {non_german_male_pct:.2f}%\")\n",
    "#    print(f\"Non-German Female: {non_german_female_pct:.2f}%\\n\")\n",
    "#\n",
    "## Calculate for each DataFrame\n",
    "#calculate_percentages(siab_calib, \"siab_calib\")\n",
    "#calculate_percentages(siab_test, \"siab_test\")\n",
    "#calculate_percentages(siab_train, \"siab_train\")"
   ]
  },
  {
   "cell_type": "markdown",
   "id": "0a4a1b33",
   "metadata": {
    "papermill": {
     "duration": 0.019801,
     "end_time": "2025-07-30T20:02:09.568764",
     "exception": false,
     "start_time": "2025-07-30T20:02:09.548963",
     "status": "completed"
    },
    "tags": []
   },
   "source": [
    "# Preprocessing Data"
   ]
  },
  {
   "cell_type": "code",
   "execution_count": 29,
   "id": "ca879031",
   "metadata": {
    "execution": {
     "iopub.execute_input": "2025-07-30T20:02:09.609841Z",
     "iopub.status.busy": "2025-07-30T20:02:09.609189Z",
     "iopub.status.idle": "2025-07-30T20:02:09.615761Z",
     "shell.execute_reply": "2025-07-30T20:02:09.614597Z"
    },
    "papermill": {
     "duration": 0.032876,
     "end_time": "2025-07-30T20:02:09.621333",
     "exception": false,
     "start_time": "2025-07-30T20:02:09.588457",
     "status": "completed"
    },
    "tags": []
   },
   "outputs": [],
   "source": [
    "# EXCLUDE PROTECTED FEATURES\n",
    "# ----------------------\n",
    "# \"exclude_features\": \"none\", # \"nationality\", \"sex\", \"nationality-sex\"\n",
    "\n",
    "excluded_features = universe[\"exclude_features\"].split(\"-\") # split, e.g.: \"nationality-sex\" -> [\"nationality\", \"sex\"]\n",
    "excluded_features_dictionary = {\n",
    "    \"nationality\": [\"maxdeutsch1\", \"maxdeutsch.Missing.\"],\n",
    "    \"sex\": [\"frau1\"],\n",
    "    \"age\": [\"age\"],\n",
    "}\n"
   ]
  },
  {
   "cell_type": "code",
   "execution_count": 30,
   "id": "b745ac60",
   "metadata": {
    "execution": {
     "iopub.execute_input": "2025-07-30T20:02:09.668005Z",
     "iopub.status.busy": "2025-07-30T20:02:09.667549Z",
     "iopub.status.idle": "2025-07-30T20:02:09.673258Z",
     "shell.execute_reply": "2025-07-30T20:02:09.672363Z"
    },
    "papermill": {
     "duration": 0.030926,
     "end_time": "2025-07-30T20:02:09.674901",
     "exception": false,
     "start_time": "2025-07-30T20:02:09.643975",
     "status": "completed"
    },
    "tags": []
   },
   "outputs": [],
   "source": [
    "# Code nice names to column names\n",
    "\n",
    "excluded_features_columns = [\n",
    "    excluded_features_dictionary[f] for f in excluded_features if len(f) > 0 and f != \"none\"\n",
    "]"
   ]
  },
  {
   "cell_type": "code",
   "execution_count": 31,
   "id": "f84f73a2",
   "metadata": {
    "execution": {
     "iopub.execute_input": "2025-07-30T20:02:09.708361Z",
     "iopub.status.busy": "2025-07-30T20:02:09.707653Z",
     "iopub.status.idle": "2025-07-30T20:02:09.713153Z",
     "shell.execute_reply": "2025-07-30T20:02:09.712446Z"
    },
    "papermill": {
     "duration": 0.018362,
     "end_time": "2025-07-30T20:02:09.714442",
     "exception": false,
     "start_time": "2025-07-30T20:02:09.696080",
     "status": "completed"
    },
    "tags": []
   },
   "outputs": [],
   "source": [
    "from utils import flatten_once\n",
    "\n",
    "excluded_features_columns = flatten_once(excluded_features_columns)"
   ]
  },
  {
   "cell_type": "code",
   "execution_count": 32,
   "id": "884dea22",
   "metadata": {
    "execution": {
     "iopub.execute_input": "2025-07-30T20:02:09.738030Z",
     "iopub.status.busy": "2025-07-30T20:02:09.737536Z",
     "iopub.status.idle": "2025-07-30T20:02:09.751079Z",
     "shell.execute_reply": "2025-07-30T20:02:09.750342Z"
    },
    "papermill": {
     "duration": 0.026496,
     "end_time": "2025-07-30T20:02:09.752577",
     "exception": false,
     "start_time": "2025-07-30T20:02:09.726081",
     "status": "completed"
    },
    "tags": []
   },
   "outputs": [
    {
     "name": "stdout",
     "output_type": "stream",
     "text": [
      "Dropping features: ['maxdeutsch1', 'maxdeutsch.Missing.']\n"
     ]
    }
   ],
   "source": [
    "if len(excluded_features_columns) > 0:\n",
    "    print(f\"Dropping features: {excluded_features_columns}\")\n",
    "    X_train.drop(excluded_features_columns, axis=1, inplace=True)"
   ]
  },
  {
   "cell_type": "code",
   "execution_count": 33,
   "id": "95ab8b16",
   "metadata": {
    "execution": {
     "iopub.execute_input": "2025-07-30T20:02:09.782940Z",
     "iopub.status.busy": "2025-07-30T20:02:09.782351Z",
     "iopub.status.idle": "2025-07-30T20:02:09.835632Z",
     "shell.execute_reply": "2025-07-30T20:02:09.834720Z"
    },
    "papermill": {
     "duration": 0.072084,
     "end_time": "2025-07-30T20:02:09.837495",
     "exception": false,
     "start_time": "2025-07-30T20:02:09.765411",
     "status": "completed"
    },
    "tags": []
   },
   "outputs": [
    {
     "name": "stdout",
     "output_type": "stream",
     "text": [
      "Dropping features: ['maxdeutsch1', 'maxdeutsch.Missing.']\n"
     ]
    }
   ],
   "source": [
    "if len(excluded_features_columns) > 0:\n",
    "    print(f\"Dropping features: {excluded_features_columns}\")\n",
    "    X_test.drop(excluded_features_columns, axis=1, inplace=True)"
   ]
  },
  {
   "cell_type": "code",
   "execution_count": 34,
   "id": "1853aaf5-fb9f-46cb-a2b5-8ea4ae2237e4",
   "metadata": {
    "execution": {
     "iopub.execute_input": "2025-07-30T20:02:09.886839Z",
     "iopub.status.busy": "2025-07-30T20:02:09.886392Z",
     "iopub.status.idle": "2025-07-30T20:02:09.935902Z",
     "shell.execute_reply": "2025-07-30T20:02:09.934947Z"
    },
    "papermill": {
     "duration": 0.075592,
     "end_time": "2025-07-30T20:02:09.937672",
     "exception": false,
     "start_time": "2025-07-30T20:02:09.862080",
     "status": "completed"
    },
    "tags": []
   },
   "outputs": [
    {
     "name": "stdout",
     "output_type": "stream",
     "text": [
      "Dropping features: ['maxdeutsch1', 'maxdeutsch.Missing.']\n"
     ]
    }
   ],
   "source": [
    "if len(excluded_features_columns) > 0:\n",
    "    print(f\"Dropping features: {excluded_features_columns}\")\n",
    "    X_calib.drop(excluded_features_columns, axis=1, inplace=True)"
   ]
  },
  {
   "cell_type": "code",
   "execution_count": 35,
   "id": "6727d079-03e5-481e-9d38-292a90b7a0a8",
   "metadata": {
    "execution": {
     "iopub.execute_input": "2025-07-30T20:02:09.991025Z",
     "iopub.status.busy": "2025-07-30T20:02:09.990398Z",
     "iopub.status.idle": "2025-07-30T20:02:09.995281Z",
     "shell.execute_reply": "2025-07-30T20:02:09.994343Z"
    },
    "papermill": {
     "duration": 0.032559,
     "end_time": "2025-07-30T20:02:09.997100",
     "exception": false,
     "start_time": "2025-07-30T20:02:09.964541",
     "status": "completed"
    },
    "tags": []
   },
   "outputs": [],
   "source": [
    "# SPLIT & STRATIFY DATA\n",
    "# ----------------------"
   ]
  },
  {
   "cell_type": "code",
   "execution_count": 36,
   "id": "76c4dc6d",
   "metadata": {
    "execution": {
     "iopub.execute_input": "2025-07-30T20:02:10.048439Z",
     "iopub.status.busy": "2025-07-30T20:02:10.047733Z",
     "iopub.status.idle": "2025-07-30T20:02:10.053247Z",
     "shell.execute_reply": "2025-07-30T20:02:10.052156Z"
    },
    "papermill": {
     "duration": 0.032847,
     "end_time": "2025-07-30T20:02:10.054937",
     "exception": false,
     "start_time": "2025-07-30T20:02:10.022090",
     "status": "completed"
    },
    "tags": []
   },
   "outputs": [],
   "source": [
    "# EXCLUDE CERTAIN SUBGROUPS\n",
    "# ----------------------\n",
    "\n",
    "mode = universe.get(\"exclude_subgroups\", \"keep-all\") \n",
    "# Fetches the exclude_subgroups setting from the universe dict.\n",
    "# Defaults to \"keep-all\" if the key is missing."
   ]
  },
  {
   "cell_type": "code",
   "execution_count": 37,
   "id": "21994072",
   "metadata": {
    "execution": {
     "iopub.execute_input": "2025-07-30T20:02:10.106609Z",
     "iopub.status.busy": "2025-07-30T20:02:10.105829Z",
     "iopub.status.idle": "2025-07-30T20:02:10.112801Z",
     "shell.execute_reply": "2025-07-30T20:02:10.111793Z"
    },
    "papermill": {
     "duration": 0.034382,
     "end_time": "2025-07-30T20:02:10.114365",
     "exception": false,
     "start_time": "2025-07-30T20:02:10.079983",
     "status": "completed"
    },
    "tags": []
   },
   "outputs": [],
   "source": [
    "if mode == \"keep-all\":\n",
    "    keep_mask = pd.Series(True, index=org_train.index)\n",
    "\n",
    "# org_train contains the original feature columns from features_org (in Simson)\n",
    "# features_org contains unprocessed features, for me X_train at beginning ???\n",
    "# For keep-all, creates a boolean Series (keep_mask) of all True, so no rows are removed.\n",
    "\n",
    "elif mode == \"drop-non-german\":\n",
    "    keep_mask = org_train[\"maxdeutsch1\"] == 1 # ??? what about missing values?\n",
    "\n",
    "else:\n",
    "    raise ValueError(f\"Unsupported mode for exclude_subgroups: {mode}\")\n"
   ]
  },
  {
   "cell_type": "code",
   "execution_count": 38,
   "id": "71651440",
   "metadata": {
    "execution": {
     "iopub.execute_input": "2025-07-30T20:02:10.159466Z",
     "iopub.status.busy": "2025-07-30T20:02:10.158812Z",
     "iopub.status.idle": "2025-07-30T20:02:10.166307Z",
     "shell.execute_reply": "2025-07-30T20:02:10.165494Z"
    },
    "papermill": {
     "duration": 0.03125,
     "end_time": "2025-07-30T20:02:10.167760",
     "exception": false,
     "start_time": "2025-07-30T20:02:10.136510",
     "status": "completed"
    },
    "tags": []
   },
   "outputs": [
    {
     "name": "stdout",
     "output_type": "stream",
     "text": [
      "Dropping 3688 rows (14.75%) where mode='drop-non-german'\n"
     ]
    }
   ],
   "source": [
    "n_drop = (~keep_mask).sum() # Calculates how many rows are set to be dropped\n",
    "if n_drop > 0:\n",
    "    pct = n_drop / len(keep_mask) * 100\n",
    "    print(f\"Dropping {n_drop} rows ({pct:.2f}%) where mode='{mode}'\")"
   ]
  },
  {
   "cell_type": "code",
   "execution_count": 39,
   "id": "5fb8eee5",
   "metadata": {
    "execution": {
     "iopub.execute_input": "2025-07-30T20:02:10.214495Z",
     "iopub.status.busy": "2025-07-30T20:02:10.213800Z",
     "iopub.status.idle": "2025-07-30T20:02:10.228525Z",
     "shell.execute_reply": "2025-07-30T20:02:10.227514Z"
    },
    "papermill": {
     "duration": 0.040355,
     "end_time": "2025-07-30T20:02:10.230349",
     "exception": false,
     "start_time": "2025-07-30T20:02:10.189994",
     "status": "completed"
    },
    "tags": []
   },
   "outputs": [],
   "source": [
    "X_train = X_train[keep_mask]"
   ]
  },
  {
   "cell_type": "code",
   "execution_count": 40,
   "id": "b202bb3a",
   "metadata": {
    "execution": {
     "iopub.execute_input": "2025-07-30T20:02:10.276253Z",
     "iopub.status.busy": "2025-07-30T20:02:10.275556Z",
     "iopub.status.idle": "2025-07-30T20:02:10.282275Z",
     "shell.execute_reply": "2025-07-30T20:02:10.281416Z"
    },
    "papermill": {
     "duration": 0.031358,
     "end_time": "2025-07-30T20:02:10.283664",
     "exception": false,
     "start_time": "2025-07-30T20:02:10.252306",
     "status": "completed"
    },
    "tags": []
   },
   "outputs": [],
   "source": [
    "y_train = y_train[keep_mask]"
   ]
  },
  {
   "cell_type": "markdown",
   "id": "493e2ac3",
   "metadata": {
    "papermill": {
     "duration": 0.021085,
     "end_time": "2025-07-30T20:02:10.327082",
     "exception": false,
     "start_time": "2025-07-30T20:02:10.305997",
     "status": "completed"
    },
    "tags": []
   },
   "source": [
    "# Model Training"
   ]
  },
  {
   "cell_type": "code",
   "execution_count": 41,
   "id": "679e1268",
   "metadata": {
    "execution": {
     "iopub.execute_input": "2025-07-30T20:02:10.372526Z",
     "iopub.status.busy": "2025-07-30T20:02:10.371819Z",
     "iopub.status.idle": "2025-07-30T20:02:10.475605Z",
     "shell.execute_reply": "2025-07-30T20:02:10.474748Z"
    },
    "papermill": {
     "duration": 0.129082,
     "end_time": "2025-07-30T20:02:10.477499",
     "exception": false,
     "start_time": "2025-07-30T20:02:10.348417",
     "status": "completed"
    },
    "tags": []
   },
   "outputs": [],
   "source": [
    "from sklearn.linear_model import LogisticRegression\n",
    "from sklearn.ensemble import GradientBoostingClassifier, RandomForestClassifier\n",
    "\n",
    "if (universe[\"model\"] == \"logreg\"):\n",
    "    model = LogisticRegression() #penalty=\"none\") #, solver=\"newton-cg\", max_iter=1) # include random_state=19 ?\n",
    "elif (universe[\"model\"] == \"penalized_logreg\"):\n",
    "    model = LogisticRegression(penalty=\"l2\", C=1.0) #, solver=\"newton-cg\", max_iter=1)\n",
    "elif (universe[\"model\"] == \"rf\"):\n",
    "    model = RandomForestClassifier(n_estimators=100, n_jobs=-1)\n",
    "elif (universe[\"model\"] == \"gbm\"):\n",
    "    model = GradientBoostingClassifier()\n",
    "elif (universe[\"model\"] == \"elasticnet\"):\n",
    "    model = LogisticRegression(penalty = 'elasticnet', solver = 'saga', l1_ratio = 0.5, max_iter=5000) # which solver to use?\n",
    "else:\n",
    "    raise \"Unsupported universe.model\""
   ]
  },
  {
   "cell_type": "code",
   "execution_count": 42,
   "id": "0cc8f744",
   "metadata": {
    "execution": {
     "iopub.execute_input": "2025-07-30T20:02:10.523854Z",
     "iopub.status.busy": "2025-07-30T20:02:10.523219Z",
     "iopub.status.idle": "2025-07-30T20:02:10.529689Z",
     "shell.execute_reply": "2025-07-30T20:02:10.528767Z"
    },
    "papermill": {
     "duration": 0.031255,
     "end_time": "2025-07-30T20:02:10.531370",
     "exception": false,
     "start_time": "2025-07-30T20:02:10.500115",
     "status": "completed"
    },
    "tags": []
   },
   "outputs": [],
   "source": [
    "import numpy as np\n",
    "from sklearn.pipeline import Pipeline\n",
    "from sklearn.preprocessing import StandardScaler\n",
    "\n",
    "model = Pipeline([\n",
    "    #(\"continuous_processor\", continuous_processor),\n",
    "    #(\"categorical_preprocessor\", categorical_preprocessor),\n",
    "    (\"scale\", StandardScaler() if universe[\"scale\"] == \"scale\" else None), \n",
    "    (\"model\", model),\n",
    "])"
   ]
  },
  {
   "cell_type": "code",
   "execution_count": 43,
   "id": "9442c04d",
   "metadata": {
    "execution": {
     "iopub.execute_input": "2025-07-30T20:02:10.575586Z",
     "iopub.status.busy": "2025-07-30T20:02:10.575122Z",
     "iopub.status.idle": "2025-07-30T20:07:06.051872Z",
     "shell.execute_reply": "2025-07-30T20:07:06.050685Z"
    },
    "papermill": {
     "duration": 295.525038,
     "end_time": "2025-07-30T20:07:06.077786",
     "exception": false,
     "start_time": "2025-07-30T20:02:10.552748",
     "status": "completed"
    },
    "tags": []
   },
   "outputs": [
    {
     "data": {
      "text/html": [
       "<style>#sk-container-id-1 {color: black;background-color: white;}#sk-container-id-1 pre{padding: 0;}#sk-container-id-1 div.sk-toggleable {background-color: white;}#sk-container-id-1 label.sk-toggleable__label {cursor: pointer;display: block;width: 100%;margin-bottom: 0;padding: 0.3em;box-sizing: border-box;text-align: center;}#sk-container-id-1 label.sk-toggleable__label-arrow:before {content: \"▸\";float: left;margin-right: 0.25em;color: #696969;}#sk-container-id-1 label.sk-toggleable__label-arrow:hover:before {color: black;}#sk-container-id-1 div.sk-estimator:hover label.sk-toggleable__label-arrow:before {color: black;}#sk-container-id-1 div.sk-toggleable__content {max-height: 0;max-width: 0;overflow: hidden;text-align: left;background-color: #f0f8ff;}#sk-container-id-1 div.sk-toggleable__content pre {margin: 0.2em;color: black;border-radius: 0.25em;background-color: #f0f8ff;}#sk-container-id-1 input.sk-toggleable__control:checked~div.sk-toggleable__content {max-height: 200px;max-width: 100%;overflow: auto;}#sk-container-id-1 input.sk-toggleable__control:checked~label.sk-toggleable__label-arrow:before {content: \"▾\";}#sk-container-id-1 div.sk-estimator input.sk-toggleable__control:checked~label.sk-toggleable__label {background-color: #d4ebff;}#sk-container-id-1 div.sk-label input.sk-toggleable__control:checked~label.sk-toggleable__label {background-color: #d4ebff;}#sk-container-id-1 input.sk-hidden--visually {border: 0;clip: rect(1px 1px 1px 1px);clip: rect(1px, 1px, 1px, 1px);height: 1px;margin: -1px;overflow: hidden;padding: 0;position: absolute;width: 1px;}#sk-container-id-1 div.sk-estimator {font-family: monospace;background-color: #f0f8ff;border: 1px dotted black;border-radius: 0.25em;box-sizing: border-box;margin-bottom: 0.5em;}#sk-container-id-1 div.sk-estimator:hover {background-color: #d4ebff;}#sk-container-id-1 div.sk-parallel-item::after {content: \"\";width: 100%;border-bottom: 1px solid gray;flex-grow: 1;}#sk-container-id-1 div.sk-label:hover label.sk-toggleable__label {background-color: #d4ebff;}#sk-container-id-1 div.sk-serial::before {content: \"\";position: absolute;border-left: 1px solid gray;box-sizing: border-box;top: 0;bottom: 0;left: 50%;z-index: 0;}#sk-container-id-1 div.sk-serial {display: flex;flex-direction: column;align-items: center;background-color: white;padding-right: 0.2em;padding-left: 0.2em;position: relative;}#sk-container-id-1 div.sk-item {position: relative;z-index: 1;}#sk-container-id-1 div.sk-parallel {display: flex;align-items: stretch;justify-content: center;background-color: white;position: relative;}#sk-container-id-1 div.sk-item::before, #sk-container-id-1 div.sk-parallel-item::before {content: \"\";position: absolute;border-left: 1px solid gray;box-sizing: border-box;top: 0;bottom: 0;left: 50%;z-index: -1;}#sk-container-id-1 div.sk-parallel-item {display: flex;flex-direction: column;z-index: 1;position: relative;background-color: white;}#sk-container-id-1 div.sk-parallel-item:first-child::after {align-self: flex-end;width: 50%;}#sk-container-id-1 div.sk-parallel-item:last-child::after {align-self: flex-start;width: 50%;}#sk-container-id-1 div.sk-parallel-item:only-child::after {width: 0;}#sk-container-id-1 div.sk-dashed-wrapped {border: 1px dashed gray;margin: 0 0.4em 0.5em 0.4em;box-sizing: border-box;padding-bottom: 0.4em;background-color: white;}#sk-container-id-1 div.sk-label label {font-family: monospace;font-weight: bold;display: inline-block;line-height: 1.2em;}#sk-container-id-1 div.sk-label-container {text-align: center;}#sk-container-id-1 div.sk-container {/* jupyter's `normalize.less` sets `[hidden] { display: none; }` but bootstrap.min.css set `[hidden] { display: none !important; }` so we also need the `!important` here to be able to override the default hidden behavior on the sphinx rendered scikit-learn.org. See: https://github.com/scikit-learn/scikit-learn/issues/21755 */display: inline-block !important;position: relative;}#sk-container-id-1 div.sk-text-repr-fallback {display: none;}</style><div id=\"sk-container-id-1\" class=\"sk-top-container\"><div class=\"sk-text-repr-fallback\"><pre>Pipeline(steps=[(&#x27;scale&#x27;, None),\n",
       "                (&#x27;model&#x27;,\n",
       "                 LogisticRegression(l1_ratio=0.5, max_iter=5000,\n",
       "                                    penalty=&#x27;elasticnet&#x27;, solver=&#x27;saga&#x27;))])</pre><b>In a Jupyter environment, please rerun this cell to show the HTML representation or trust the notebook. <br />On GitHub, the HTML representation is unable to render, please try loading this page with nbviewer.org.</b></div><div class=\"sk-container\" hidden><div class=\"sk-item sk-dashed-wrapped\"><div class=\"sk-label-container\"><div class=\"sk-label sk-toggleable\"><input class=\"sk-toggleable__control sk-hidden--visually\" id=\"sk-estimator-id-1\" type=\"checkbox\" ><label for=\"sk-estimator-id-1\" class=\"sk-toggleable__label sk-toggleable__label-arrow\">Pipeline</label><div class=\"sk-toggleable__content\"><pre>Pipeline(steps=[(&#x27;scale&#x27;, None),\n",
       "                (&#x27;model&#x27;,\n",
       "                 LogisticRegression(l1_ratio=0.5, max_iter=5000,\n",
       "                                    penalty=&#x27;elasticnet&#x27;, solver=&#x27;saga&#x27;))])</pre></div></div></div><div class=\"sk-serial\"><div class=\"sk-item\"><div class=\"sk-estimator sk-toggleable\"><input class=\"sk-toggleable__control sk-hidden--visually\" id=\"sk-estimator-id-2\" type=\"checkbox\" ><label for=\"sk-estimator-id-2\" class=\"sk-toggleable__label sk-toggleable__label-arrow\">None</label><div class=\"sk-toggleable__content\"><pre>None</pre></div></div></div><div class=\"sk-item\"><div class=\"sk-estimator sk-toggleable\"><input class=\"sk-toggleable__control sk-hidden--visually\" id=\"sk-estimator-id-3\" type=\"checkbox\" ><label for=\"sk-estimator-id-3\" class=\"sk-toggleable__label sk-toggleable__label-arrow\">LogisticRegression</label><div class=\"sk-toggleable__content\"><pre>LogisticRegression(l1_ratio=0.5, max_iter=5000, penalty=&#x27;elasticnet&#x27;,\n",
       "                   solver=&#x27;saga&#x27;)</pre></div></div></div></div></div></div></div>"
      ],
      "text/plain": [
       "Pipeline(steps=[('scale', None),\n",
       "                ('model',\n",
       "                 LogisticRegression(l1_ratio=0.5, max_iter=5000,\n",
       "                                    penalty='elasticnet', solver='saga'))])"
      ]
     },
     "execution_count": 43,
     "metadata": {},
     "output_type": "execute_result"
    }
   ],
   "source": [
    "model.fit(X_train, y_train.values.ravel())"
   ]
  },
  {
   "cell_type": "code",
   "execution_count": 44,
   "id": "af59f8c0",
   "metadata": {
    "execution": {
     "iopub.execute_input": "2025-07-30T20:07:06.124244Z",
     "iopub.status.busy": "2025-07-30T20:07:06.123502Z",
     "iopub.status.idle": "2025-07-30T20:07:06.129087Z",
     "shell.execute_reply": "2025-07-30T20:07:06.128163Z"
    },
    "papermill": {
     "duration": 0.03032,
     "end_time": "2025-07-30T20:07:06.130581",
     "exception": false,
     "start_time": "2025-07-30T20:07:06.100261",
     "status": "completed"
    },
    "tags": []
   },
   "outputs": [],
   "source": [
    "from fairness_multiverse.universe import predict_w_threshold"
   ]
  },
  {
   "cell_type": "code",
   "execution_count": 45,
   "id": "a7cf2e16",
   "metadata": {
    "execution": {
     "iopub.execute_input": "2025-07-30T20:07:06.175805Z",
     "iopub.status.busy": "2025-07-30T20:07:06.175141Z",
     "iopub.status.idle": "2025-07-30T20:07:06.275543Z",
     "shell.execute_reply": "2025-07-30T20:07:06.274731Z"
    },
    "papermill": {
     "duration": 0.124186,
     "end_time": "2025-07-30T20:07:06.277059",
     "exception": false,
     "start_time": "2025-07-30T20:07:06.152873",
     "status": "completed"
    },
    "tags": []
   },
   "outputs": [
    {
     "data": {
      "text/plain": [
       "0.8619663359714637"
      ]
     },
     "execution_count": 45,
     "metadata": {},
     "output_type": "execute_result"
    }
   ],
   "source": [
    "probs_test = model.predict_proba(X_test)\n",
    "\n",
    "'''\n",
    "Below code returns a boolean array (or binary 0/1 array depending on how it’s used) where each element \n",
    "is True if the probability of class 1 is greater than or equal to the threshold, and False otherwise.\n",
    "'''\n",
    "y_pred_default = predict_w_threshold(probs_test, 0.5)\n",
    "\n",
    "from sklearn.metrics import accuracy_score\n",
    "\n",
    "# Naive prediction\n",
    "accuracy_score(y_true = y_true, y_pred = y_pred_default)"
   ]
  },
  {
   "cell_type": "code",
   "execution_count": 46,
   "id": "081964c3",
   "metadata": {
    "execution": {
     "iopub.execute_input": "2025-07-30T20:07:06.324625Z",
     "iopub.status.busy": "2025-07-30T20:07:06.323889Z",
     "iopub.status.idle": "2025-07-30T20:07:06.408279Z",
     "shell.execute_reply": "2025-07-30T20:07:06.407432Z"
    },
    "papermill": {
     "duration": 0.109463,
     "end_time": "2025-07-30T20:07:06.409795",
     "exception": false,
     "start_time": "2025-07-30T20:07:06.300332",
     "status": "completed"
    },
    "tags": []
   },
   "outputs": [
    {
     "data": {
      "text/plain": [
       "array([0, 0, 0, ..., 0, 0, 0])"
      ]
     },
     "execution_count": 46,
     "metadata": {},
     "output_type": "execute_result"
    }
   ],
   "source": [
    "model.predict(X_test)"
   ]
  },
  {
   "cell_type": "markdown",
   "id": "56c9705b",
   "metadata": {
    "papermill": {
     "duration": 0.022039,
     "end_time": "2025-07-30T20:07:06.454045",
     "exception": false,
     "start_time": "2025-07-30T20:07:06.432006",
     "status": "completed"
    },
    "tags": []
   },
   "source": [
    "# Conformal Prediction"
   ]
  },
  {
   "cell_type": "code",
   "execution_count": 47,
   "id": "160ec6ff",
   "metadata": {
    "execution": {
     "iopub.execute_input": "2025-07-30T20:07:06.499011Z",
     "iopub.status.busy": "2025-07-30T20:07:06.498513Z",
     "iopub.status.idle": "2025-07-30T20:07:06.503678Z",
     "shell.execute_reply": "2025-07-30T20:07:06.502838Z"
    },
    "papermill": {
     "duration": 0.029015,
     "end_time": "2025-07-30T20:07:06.505101",
     "exception": false,
     "start_time": "2025-07-30T20:07:06.476086",
     "status": "completed"
    },
    "tags": []
   },
   "outputs": [],
   "source": [
    "# Miscoverage level for conformal prediction (10% allowed error rate => 90% target coverage)\n",
    "alpha = 0.1"
   ]
  },
  {
   "cell_type": "code",
   "execution_count": 48,
   "id": "eadf4555-3dd3-440e-8e35-f82a4ad9f855",
   "metadata": {
    "execution": {
     "iopub.execute_input": "2025-07-30T20:07:06.550157Z",
     "iopub.status.busy": "2025-07-30T20:07:06.549723Z",
     "iopub.status.idle": "2025-07-30T20:07:06.633923Z",
     "shell.execute_reply": "2025-07-30T20:07:06.632937Z"
    },
    "papermill": {
     "duration": 0.110101,
     "end_time": "2025-07-30T20:07:06.637434",
     "exception": false,
     "start_time": "2025-07-30T20:07:06.527333",
     "status": "completed"
    },
    "tags": []
   },
   "outputs": [],
   "source": [
    "probs_calib = model.predict_proba(X_calib)"
   ]
  },
  {
   "cell_type": "code",
   "execution_count": 49,
   "id": "2ed93547-6d5d-4983-9b36-1ecb300da49a",
   "metadata": {
    "execution": {
     "iopub.execute_input": "2025-07-30T20:07:06.684465Z",
     "iopub.status.busy": "2025-07-30T20:07:06.683768Z",
     "iopub.status.idle": "2025-07-30T20:07:06.689309Z",
     "shell.execute_reply": "2025-07-30T20:07:06.688425Z"
    },
    "papermill": {
     "duration": 0.030145,
     "end_time": "2025-07-30T20:07:06.690859",
     "exception": false,
     "start_time": "2025-07-30T20:07:06.660714",
     "status": "completed"
    },
    "tags": []
   },
   "outputs": [],
   "source": [
    "y_calib = y_calib.values.ravel().astype(int)"
   ]
  },
  {
   "cell_type": "code",
   "execution_count": 50,
   "id": "65d1320d-f588-4b38-9072-62af1ae97f7d",
   "metadata": {
    "execution": {
     "iopub.execute_input": "2025-07-30T20:07:06.736536Z",
     "iopub.status.busy": "2025-07-30T20:07:06.735904Z",
     "iopub.status.idle": "2025-07-30T20:07:06.743099Z",
     "shell.execute_reply": "2025-07-30T20:07:06.742267Z"
    },
    "papermill": {
     "duration": 0.031253,
     "end_time": "2025-07-30T20:07:06.744796",
     "exception": false,
     "start_time": "2025-07-30T20:07:06.713543",
     "status": "completed"
    },
    "tags": []
   },
   "outputs": [],
   "source": [
    "from fairness_multiverse.conformal import compute_nc_scores\n",
    "\n",
    "# Compute nonconformity scores on calibration set (1 - probability of true class)\n",
    "nc_scores = compute_nc_scores(probs_calib, y_calib)"
   ]
  },
  {
   "cell_type": "code",
   "execution_count": 51,
   "id": "df3b8ca3-53b7-43d5-9667-7c85da7aeda2",
   "metadata": {
    "execution": {
     "iopub.execute_input": "2025-07-30T20:07:06.791707Z",
     "iopub.status.busy": "2025-07-30T20:07:06.790886Z",
     "iopub.status.idle": "2025-07-30T20:07:06.797650Z",
     "shell.execute_reply": "2025-07-30T20:07:06.796561Z"
    },
    "papermill": {
     "duration": 0.031139,
     "end_time": "2025-07-30T20:07:06.799282",
     "exception": false,
     "start_time": "2025-07-30T20:07:06.768143",
     "status": "completed"
    },
    "tags": []
   },
   "outputs": [],
   "source": [
    "from fairness_multiverse.conformal import find_threshold\n",
    "\n",
    "# Find conformal threshold q_hat for the given alpha (split conformal method)\n",
    "q_hat = find_threshold(nc_scores, alpha)"
   ]
  },
  {
   "cell_type": "code",
   "execution_count": 52,
   "id": "4d29e6c1-0ef6-4aa4-b8fe-4fe79b0d033a",
   "metadata": {
    "execution": {
     "iopub.execute_input": "2025-07-30T20:07:06.845022Z",
     "iopub.status.busy": "2025-07-30T20:07:06.844587Z",
     "iopub.status.idle": "2025-07-30T20:07:06.851507Z",
     "shell.execute_reply": "2025-07-30T20:07:06.850605Z"
    },
    "papermill": {
     "duration": 0.031176,
     "end_time": "2025-07-30T20:07:06.853077",
     "exception": false,
     "start_time": "2025-07-30T20:07:06.821901",
     "status": "completed"
    },
    "tags": []
   },
   "outputs": [
    {
     "data": {
      "text/plain": [
       "0.6888117394667196"
      ]
     },
     "execution_count": 52,
     "metadata": {},
     "output_type": "execute_result"
    }
   ],
   "source": [
    "q_hat"
   ]
  },
  {
   "cell_type": "code",
   "execution_count": 53,
   "id": "92460794-cdac-4be2-ba28-f28c0515a6fb",
   "metadata": {
    "execution": {
     "iopub.execute_input": "2025-07-30T20:07:06.899218Z",
     "iopub.status.busy": "2025-07-30T20:07:06.898424Z",
     "iopub.status.idle": "2025-07-30T20:07:07.647252Z",
     "shell.execute_reply": "2025-07-30T20:07:07.646346Z"
    },
    "papermill": {
     "duration": 0.773812,
     "end_time": "2025-07-30T20:07:07.649115",
     "exception": false,
     "start_time": "2025-07-30T20:07:06.875303",
     "status": "completed"
    },
    "tags": []
   },
   "outputs": [],
   "source": [
    "from fairness_multiverse.conformal import predict_conformal_sets\n",
    "\n",
    "# Generate prediction sets for each test example\n",
    "pred_sets = predict_conformal_sets(model, X_test, q_hat)"
   ]
  },
  {
   "cell_type": "code",
   "execution_count": 54,
   "id": "d90c9a65-e6db-4f5d-80cd-e68fb7e46829",
   "metadata": {
    "execution": {
     "iopub.execute_input": "2025-07-30T20:07:07.698112Z",
     "iopub.status.busy": "2025-07-30T20:07:07.697420Z",
     "iopub.status.idle": "2025-07-30T20:07:07.703667Z",
     "shell.execute_reply": "2025-07-30T20:07:07.702661Z"
    },
    "papermill": {
     "duration": 0.032351,
     "end_time": "2025-07-30T20:07:07.705248",
     "exception": false,
     "start_time": "2025-07-30T20:07:07.672897",
     "status": "completed"
    },
    "tags": []
   },
   "outputs": [],
   "source": [
    "y_true = y_true.squeeze()"
   ]
  },
  {
   "cell_type": "code",
   "execution_count": 55,
   "id": "3a58a54a-1e68-46b9-927a-df01f18aebc8",
   "metadata": {
    "execution": {
     "iopub.execute_input": "2025-07-30T20:07:07.755246Z",
     "iopub.status.busy": "2025-07-30T20:07:07.754619Z",
     "iopub.status.idle": "2025-07-30T20:07:08.652518Z",
     "shell.execute_reply": "2025-07-30T20:07:08.651571Z"
    },
    "papermill": {
     "duration": 0.923977,
     "end_time": "2025-07-30T20:07:08.654271",
     "exception": false,
     "start_time": "2025-07-30T20:07:07.730294",
     "status": "completed"
    },
    "tags": []
   },
   "outputs": [],
   "source": [
    "from fairness_multiverse.conformal import evaluate_sets\n",
    "\n",
    "# Evaluate coverage and average set size on test data\n",
    "metrics = evaluate_sets(pred_sets, y_true)"
   ]
  },
  {
   "cell_type": "markdown",
   "id": "2b569c12-9aaa-4c88-98c9-bbcd0cf3ebb8",
   "metadata": {
    "papermill": {
     "duration": 0.022235,
     "end_time": "2025-07-30T20:07:08.699515",
     "exception": false,
     "start_time": "2025-07-30T20:07:08.677280",
     "status": "completed"
    },
    "tags": []
   },
   "source": [
    "# CP Metrics"
   ]
  },
  {
   "cell_type": "code",
   "execution_count": 56,
   "id": "5ce0a5cb-201f-45a0-ade5-94c7f0bd6095",
   "metadata": {
    "execution": {
     "iopub.execute_input": "2025-07-30T20:07:08.747500Z",
     "iopub.status.busy": "2025-07-30T20:07:08.746807Z",
     "iopub.status.idle": "2025-07-30T20:07:08.754484Z",
     "shell.execute_reply": "2025-07-30T20:07:08.753506Z"
    },
    "papermill": {
     "duration": 0.03381,
     "end_time": "2025-07-30T20:07:08.756059",
     "exception": false,
     "start_time": "2025-07-30T20:07:08.722249",
     "status": "completed"
    },
    "tags": []
   },
   "outputs": [
    {
     "data": {
      "text/plain": [
       "{'coverage': 0.9112473525805372, 'avg_size': 1.1374986066213355}"
      ]
     },
     "execution_count": 56,
     "metadata": {},
     "output_type": "execute_result"
    }
   ],
   "source": [
    "metrics"
   ]
  },
  {
   "cell_type": "code",
   "execution_count": 57,
   "id": "9b9a838d-31c9-430b-ae14-12baee460d17",
   "metadata": {
    "execution": {
     "iopub.execute_input": "2025-07-30T20:07:08.805837Z",
     "iopub.status.busy": "2025-07-30T20:07:08.805390Z",
     "iopub.status.idle": "2025-07-30T20:07:08.812006Z",
     "shell.execute_reply": "2025-07-30T20:07:08.811200Z"
    },
    "papermill": {
     "duration": 0.032852,
     "end_time": "2025-07-30T20:07:08.813523",
     "exception": false,
     "start_time": "2025-07-30T20:07:08.780671",
     "status": "completed"
    },
    "tags": []
   },
   "outputs": [],
   "source": [
    "example_universe = universe.copy()\n",
    "universe_training_year = example_universe.get(\"training_year\")\n",
    "universe_training_size = example_universe.get(\"training_size\")\n",
    "universe_scale = example_universe.get(\"scale\")\n",
    "universe_model = example_universe.get(\"model\")\n",
    "universe_exclude_features = example_universe.get(\"exclude_features\")\n",
    "universe_exclude_subgroups = example_universe.get(\"exclude_subgroups\")"
   ]
  },
  {
   "cell_type": "code",
   "execution_count": 58,
   "id": "f4b6a8ac-9dc0-4245-8a91-5b3b5999c4f9",
   "metadata": {
    "execution": {
     "iopub.execute_input": "2025-07-30T20:07:08.860706Z",
     "iopub.status.busy": "2025-07-30T20:07:08.859691Z",
     "iopub.status.idle": "2025-07-30T20:07:08.866299Z",
     "shell.execute_reply": "2025-07-30T20:07:08.865302Z"
    },
    "papermill": {
     "duration": 0.031313,
     "end_time": "2025-07-30T20:07:08.867869",
     "exception": false,
     "start_time": "2025-07-30T20:07:08.836556",
     "status": "completed"
    },
    "tags": []
   },
   "outputs": [],
   "source": [
    "cp_metrics_dict = {\n",
    "    \"universe_id\": [universe_id],\n",
    "    \"universe_training_year\": [universe_training_year],\n",
    "    \"universe_training_size\": [universe_training_size],\n",
    "    \"universe_scale\": [universe_scale],\n",
    "    \"universe_model\": [universe_model],\n",
    "    \"universe_exclude_features\": [universe_exclude_features],\n",
    "    \"universe_exclude_subgroups\": [universe_exclude_subgroups],\n",
    "    \"q_hat\": [q_hat],\n",
    "    \"coverage\": [metrics[\"coverage\"]],\n",
    "    \"avg_size\": [metrics[\"avg_size\"]],\n",
    "}"
   ]
  },
  {
   "cell_type": "code",
   "execution_count": 59,
   "id": "908acbb1-0371-4915-85ca-3fa520d2efe2",
   "metadata": {
    "execution": {
     "iopub.execute_input": "2025-07-30T20:07:08.915257Z",
     "iopub.status.busy": "2025-07-30T20:07:08.914591Z",
     "iopub.status.idle": "2025-07-30T20:07:08.922310Z",
     "shell.execute_reply": "2025-07-30T20:07:08.921487Z"
    },
    "papermill": {
     "duration": 0.032533,
     "end_time": "2025-07-30T20:07:08.923735",
     "exception": false,
     "start_time": "2025-07-30T20:07:08.891202",
     "status": "completed"
    },
    "tags": []
   },
   "outputs": [
    {
     "data": {
      "text/plain": [
       "{'universe_id': ['3f6cff82b9c68a66c8e8f9ecf13776d0'],\n",
       " 'universe_training_year': ['2014'],\n",
       " 'universe_training_size': ['25k'],\n",
       " 'universe_scale': ['do-not-scale'],\n",
       " 'universe_model': ['elasticnet'],\n",
       " 'universe_exclude_features': ['nationality'],\n",
       " 'universe_exclude_subgroups': ['drop-non-german'],\n",
       " 'q_hat': [0.6888117394667196],\n",
       " 'coverage': [0.9112473525805372],\n",
       " 'avg_size': [1.1374986066213355]}"
      ]
     },
     "execution_count": 59,
     "metadata": {},
     "output_type": "execute_result"
    }
   ],
   "source": [
    "cp_metrics_dict"
   ]
  },
  {
   "cell_type": "code",
   "execution_count": 60,
   "id": "33007efc-14e9-4ec6-97ac-56a455c82265",
   "metadata": {
    "execution": {
     "iopub.execute_input": "2025-07-30T20:07:08.970638Z",
     "iopub.status.busy": "2025-07-30T20:07:08.970006Z",
     "iopub.status.idle": "2025-07-30T20:07:08.976137Z",
     "shell.execute_reply": "2025-07-30T20:07:08.975188Z"
    },
    "papermill": {
     "duration": 0.030834,
     "end_time": "2025-07-30T20:07:08.977591",
     "exception": false,
     "start_time": "2025-07-30T20:07:08.946757",
     "status": "completed"
    },
    "tags": []
   },
   "outputs": [],
   "source": [
    "cp_metrics_df = pd.DataFrame(cp_metrics_dict)"
   ]
  },
  {
   "cell_type": "code",
   "execution_count": 61,
   "id": "db12611b-57b2-4910-b9d0-355adfd6e7bf",
   "metadata": {
    "execution": {
     "iopub.execute_input": "2025-07-30T20:07:09.025984Z",
     "iopub.status.busy": "2025-07-30T20:07:09.025327Z",
     "iopub.status.idle": "2025-07-30T20:07:09.045017Z",
     "shell.execute_reply": "2025-07-30T20:07:09.043906Z"
    },
    "papermill": {
     "duration": 0.045741,
     "end_time": "2025-07-30T20:07:09.046585",
     "exception": false,
     "start_time": "2025-07-30T20:07:09.000844",
     "status": "completed"
    },
    "tags": []
   },
   "outputs": [
    {
     "data": {
      "text/html": [
       "<div>\n",
       "<style scoped>\n",
       "    .dataframe tbody tr th:only-of-type {\n",
       "        vertical-align: middle;\n",
       "    }\n",
       "\n",
       "    .dataframe tbody tr th {\n",
       "        vertical-align: top;\n",
       "    }\n",
       "\n",
       "    .dataframe thead th {\n",
       "        text-align: right;\n",
       "    }\n",
       "</style>\n",
       "<table border=\"1\" class=\"dataframe\">\n",
       "  <thead>\n",
       "    <tr style=\"text-align: right;\">\n",
       "      <th></th>\n",
       "      <th>universe_id</th>\n",
       "      <th>universe_training_year</th>\n",
       "      <th>universe_training_size</th>\n",
       "      <th>universe_scale</th>\n",
       "      <th>universe_model</th>\n",
       "      <th>universe_exclude_features</th>\n",
       "      <th>universe_exclude_subgroups</th>\n",
       "      <th>q_hat</th>\n",
       "      <th>coverage</th>\n",
       "      <th>avg_size</th>\n",
       "    </tr>\n",
       "  </thead>\n",
       "  <tbody>\n",
       "    <tr>\n",
       "      <th>0</th>\n",
       "      <td>3f6cff82b9c68a66c8e8f9ecf13776d0</td>\n",
       "      <td>2014</td>\n",
       "      <td>25k</td>\n",
       "      <td>do-not-scale</td>\n",
       "      <td>elasticnet</td>\n",
       "      <td>nationality</td>\n",
       "      <td>drop-non-german</td>\n",
       "      <td>0.688812</td>\n",
       "      <td>0.911247</td>\n",
       "      <td>1.137499</td>\n",
       "    </tr>\n",
       "  </tbody>\n",
       "</table>\n",
       "</div>"
      ],
      "text/plain": [
       "                        universe_id universe_training_year  \\\n",
       "0  3f6cff82b9c68a66c8e8f9ecf13776d0                   2014   \n",
       "\n",
       "  universe_training_size universe_scale universe_model  \\\n",
       "0                    25k   do-not-scale     elasticnet   \n",
       "\n",
       "  universe_exclude_features universe_exclude_subgroups     q_hat  coverage  \\\n",
       "0               nationality            drop-non-german  0.688812  0.911247   \n",
       "\n",
       "   avg_size  \n",
       "0  1.137499  "
      ]
     },
     "execution_count": 61,
     "metadata": {},
     "output_type": "execute_result"
    }
   ],
   "source": [
    "cp_metrics_df"
   ]
  },
  {
   "cell_type": "code",
   "execution_count": 62,
   "id": "b7fbde55-a0a1-47e4-9af6-fe4a17fa8c61",
   "metadata": {
    "execution": {
     "iopub.execute_input": "2025-07-30T20:07:09.095456Z",
     "iopub.status.busy": "2025-07-30T20:07:09.094811Z",
     "iopub.status.idle": "2025-07-30T20:07:09.099958Z",
     "shell.execute_reply": "2025-07-30T20:07:09.099059Z"
    },
    "papermill": {
     "duration": 0.030858,
     "end_time": "2025-07-30T20:07:09.101428",
     "exception": false,
     "start_time": "2025-07-30T20:07:09.070570",
     "status": "completed"
    },
    "tags": []
   },
   "outputs": [],
   "source": [
    "# Conditional Coverage & looking at subgroups"
   ]
  },
  {
   "cell_type": "code",
   "execution_count": 63,
   "id": "027ae886-68dd-4141-96c7-805a5450e1ef",
   "metadata": {
    "execution": {
     "iopub.execute_input": "2025-07-30T20:07:09.151298Z",
     "iopub.status.busy": "2025-07-30T20:07:09.150659Z",
     "iopub.status.idle": "2025-07-30T20:07:09.406896Z",
     "shell.execute_reply": "2025-07-30T20:07:09.406019Z"
    },
    "papermill": {
     "duration": 0.282495,
     "end_time": "2025-07-30T20:07:09.408971",
     "exception": false,
     "start_time": "2025-07-30T20:07:09.126476",
     "status": "completed"
    },
    "tags": []
   },
   "outputs": [],
   "source": [
    "from fairness_multiverse.conformal import build_cp_groups\n",
    "\n",
    "cp_groups_df = build_cp_groups(pred_sets, y_true, X_test.index, org_test)\n",
    "#needs universe_id and setting"
   ]
  },
  {
   "cell_type": "code",
   "execution_count": 64,
   "id": "01d5802c-663a-4d1f-9d69-e036faaffbf7",
   "metadata": {
    "execution": {
     "iopub.execute_input": "2025-07-30T20:07:09.457726Z",
     "iopub.status.busy": "2025-07-30T20:07:09.457059Z",
     "iopub.status.idle": "2025-07-30T20:07:09.461791Z",
     "shell.execute_reply": "2025-07-30T20:07:09.460875Z"
    },
    "papermill": {
     "duration": 0.03048,
     "end_time": "2025-07-30T20:07:09.463263",
     "exception": false,
     "start_time": "2025-07-30T20:07:09.432783",
     "status": "completed"
    },
    "tags": []
   },
   "outputs": [],
   "source": [
    "#delete\n",
    "#cp_groups_df"
   ]
  },
  {
   "cell_type": "code",
   "execution_count": 65,
   "id": "fa424af1-d1eb-443d-b717-2d279ada8408",
   "metadata": {
    "execution": {
     "iopub.execute_input": "2025-07-30T20:07:09.512415Z",
     "iopub.status.busy": "2025-07-30T20:07:09.511732Z",
     "iopub.status.idle": "2025-07-30T20:07:09.516785Z",
     "shell.execute_reply": "2025-07-30T20:07:09.515931Z"
    },
    "papermill": {
     "duration": 0.030877,
     "end_time": "2025-07-30T20:07:09.518170",
     "exception": false,
     "start_time": "2025-07-30T20:07:09.487293",
     "status": "completed"
    },
    "tags": []
   },
   "outputs": [],
   "source": [
    "#delete\n",
    "#percentage = (cp_groups_df['nongerman_female'] == 1).mean() * 100\n",
    "#print(percentage)\n"
   ]
  },
  {
   "cell_type": "code",
   "execution_count": 66,
   "id": "6cbdab96-b2b2-45af-ad54-d0516db2e28d",
   "metadata": {
    "execution": {
     "iopub.execute_input": "2025-07-30T20:07:09.566952Z",
     "iopub.status.busy": "2025-07-30T20:07:09.566311Z",
     "iopub.status.idle": "2025-07-30T20:07:11.073893Z",
     "shell.execute_reply": "2025-07-30T20:07:11.072943Z"
    },
    "papermill": {
     "duration": 1.533905,
     "end_time": "2025-07-30T20:07:11.075930",
     "exception": false,
     "start_time": "2025-07-30T20:07:09.542025",
     "status": "completed"
    },
    "tags": []
   },
   "outputs": [],
   "source": [
    "# Define covered = 1 if true_label is in the predicted set\n",
    "cp_groups_df['covered'] = cp_groups_df.apply(\n",
    "    lambda r: int(r['true_label'] in r['pred_set']),\n",
    "    axis=1\n",
    ")"
   ]
  },
  {
   "cell_type": "code",
   "execution_count": 67,
   "id": "338ff529-1a6b-4b87-a931-8e4788d52aad",
   "metadata": {
    "execution": {
     "iopub.execute_input": "2025-07-30T20:07:11.125311Z",
     "iopub.status.busy": "2025-07-30T20:07:11.124663Z",
     "iopub.status.idle": "2025-07-30T20:07:11.129709Z",
     "shell.execute_reply": "2025-07-30T20:07:11.128907Z"
    },
    "papermill": {
     "duration": 0.031186,
     "end_time": "2025-07-30T20:07:11.131141",
     "exception": false,
     "start_time": "2025-07-30T20:07:11.099955",
     "status": "completed"
    },
    "tags": []
   },
   "outputs": [],
   "source": [
    "#cp_groups_df"
   ]
  },
  {
   "cell_type": "code",
   "execution_count": 68,
   "id": "90032e27-66df-4540-9169-4e89cfbaa758",
   "metadata": {
    "execution": {
     "iopub.execute_input": "2025-07-30T20:07:11.180006Z",
     "iopub.status.busy": "2025-07-30T20:07:11.179367Z",
     "iopub.status.idle": "2025-07-30T20:07:11.191093Z",
     "shell.execute_reply": "2025-07-30T20:07:11.190324Z"
    },
    "papermill": {
     "duration": 0.037708,
     "end_time": "2025-07-30T20:07:11.192553",
     "exception": false,
     "start_time": "2025-07-30T20:07:11.154845",
     "status": "completed"
    },
    "tags": []
   },
   "outputs": [],
   "source": [
    "subgroups = ['frau1','nongerman','nongerman_male','nongerman_female']\n",
    "\n",
    "# Conditional coverage for subgroup==1\n",
    "cond_coverage = {\n",
    "    g: cp_groups_df.loc[cp_groups_df[g]==1, 'covered'].mean()\n",
    "    for g in subgroups\n",
    "}"
   ]
  },
  {
   "cell_type": "code",
   "execution_count": 69,
   "id": "1e348fb1-b9c3-45bc-ba23-f016827a7e0d",
   "metadata": {
    "execution": {
     "iopub.execute_input": "2025-07-30T20:07:11.241640Z",
     "iopub.status.busy": "2025-07-30T20:07:11.241001Z",
     "iopub.status.idle": "2025-07-30T20:07:11.247968Z",
     "shell.execute_reply": "2025-07-30T20:07:11.247164Z"
    },
    "papermill": {
     "duration": 0.032866,
     "end_time": "2025-07-30T20:07:11.249396",
     "exception": false,
     "start_time": "2025-07-30T20:07:11.216530",
     "status": "completed"
    },
    "tags": []
   },
   "outputs": [
    {
     "data": {
      "text/plain": [
       "{'frau1': 0.909718290874781,\n",
       " 'nongerman': 0.9083815191152529,\n",
       " 'nongerman_male': 0.9239845086913446,\n",
       " 'nongerman_female': 0.8825633383010432}"
      ]
     },
     "execution_count": 69,
     "metadata": {},
     "output_type": "execute_result"
    }
   ],
   "source": [
    "cond_coverage"
   ]
  },
  {
   "cell_type": "code",
   "execution_count": 70,
   "id": "f5093324-c3dd-4d63-bc4c-8d945e5c8bbb",
   "metadata": {
    "execution": {
     "iopub.execute_input": "2025-07-30T20:07:11.299219Z",
     "iopub.status.busy": "2025-07-30T20:07:11.298581Z",
     "iopub.status.idle": "2025-07-30T20:07:11.305730Z",
     "shell.execute_reply": "2025-07-30T20:07:11.304796Z"
    },
    "papermill": {
     "duration": 0.033293,
     "end_time": "2025-07-30T20:07:11.307152",
     "exception": false,
     "start_time": "2025-07-30T20:07:11.273859",
     "status": "completed"
    },
    "tags": []
   },
   "outputs": [],
   "source": [
    "for subgroup, cov in cond_coverage.items():\n",
    "    cp_metrics_df[f\"cov_{subgroup}\"] = cov"
   ]
  },
  {
   "cell_type": "code",
   "execution_count": 71,
   "id": "6e872e10-dbe5-49e8-b554-5030c98ff75d",
   "metadata": {
    "execution": {
     "iopub.execute_input": "2025-07-30T20:07:11.357058Z",
     "iopub.status.busy": "2025-07-30T20:07:11.356420Z",
     "iopub.status.idle": "2025-07-30T20:07:11.374762Z",
     "shell.execute_reply": "2025-07-30T20:07:11.373842Z"
    },
    "papermill": {
     "duration": 0.044758,
     "end_time": "2025-07-30T20:07:11.376318",
     "exception": false,
     "start_time": "2025-07-30T20:07:11.331560",
     "status": "completed"
    },
    "tags": []
   },
   "outputs": [
    {
     "data": {
      "text/html": [
       "<div>\n",
       "<style scoped>\n",
       "    .dataframe tbody tr th:only-of-type {\n",
       "        vertical-align: middle;\n",
       "    }\n",
       "\n",
       "    .dataframe tbody tr th {\n",
       "        vertical-align: top;\n",
       "    }\n",
       "\n",
       "    .dataframe thead th {\n",
       "        text-align: right;\n",
       "    }\n",
       "</style>\n",
       "<table border=\"1\" class=\"dataframe\">\n",
       "  <thead>\n",
       "    <tr style=\"text-align: right;\">\n",
       "      <th></th>\n",
       "      <th>universe_id</th>\n",
       "      <th>universe_training_year</th>\n",
       "      <th>universe_training_size</th>\n",
       "      <th>universe_scale</th>\n",
       "      <th>universe_model</th>\n",
       "      <th>universe_exclude_features</th>\n",
       "      <th>universe_exclude_subgroups</th>\n",
       "      <th>q_hat</th>\n",
       "      <th>coverage</th>\n",
       "      <th>avg_size</th>\n",
       "      <th>cov_frau1</th>\n",
       "      <th>cov_nongerman</th>\n",
       "      <th>cov_nongerman_male</th>\n",
       "      <th>cov_nongerman_female</th>\n",
       "    </tr>\n",
       "  </thead>\n",
       "  <tbody>\n",
       "    <tr>\n",
       "      <th>0</th>\n",
       "      <td>3f6cff82b9c68a66c8e8f9ecf13776d0</td>\n",
       "      <td>2014</td>\n",
       "      <td>25k</td>\n",
       "      <td>do-not-scale</td>\n",
       "      <td>elasticnet</td>\n",
       "      <td>nationality</td>\n",
       "      <td>drop-non-german</td>\n",
       "      <td>0.688812</td>\n",
       "      <td>0.911247</td>\n",
       "      <td>1.137499</td>\n",
       "      <td>0.909718</td>\n",
       "      <td>0.908382</td>\n",
       "      <td>0.923985</td>\n",
       "      <td>0.882563</td>\n",
       "    </tr>\n",
       "  </tbody>\n",
       "</table>\n",
       "</div>"
      ],
      "text/plain": [
       "                        universe_id universe_training_year  \\\n",
       "0  3f6cff82b9c68a66c8e8f9ecf13776d0                   2014   \n",
       "\n",
       "  universe_training_size universe_scale universe_model  \\\n",
       "0                    25k   do-not-scale     elasticnet   \n",
       "\n",
       "  universe_exclude_features universe_exclude_subgroups     q_hat  coverage  \\\n",
       "0               nationality            drop-non-german  0.688812  0.911247   \n",
       "\n",
       "   avg_size  cov_frau1  cov_nongerman  cov_nongerman_male  \\\n",
       "0  1.137499   0.909718       0.908382            0.923985   \n",
       "\n",
       "   cov_nongerman_female  \n",
       "0              0.882563  "
      ]
     },
     "execution_count": 71,
     "metadata": {},
     "output_type": "execute_result"
    }
   ],
   "source": [
    "cp_metrics_df"
   ]
  },
  {
   "cell_type": "markdown",
   "id": "33774451",
   "metadata": {
    "papermill": {
     "duration": 0.023989,
     "end_time": "2025-07-30T20:07:11.424843",
     "exception": false,
     "start_time": "2025-07-30T20:07:11.400854",
     "status": "completed"
    },
    "tags": []
   },
   "source": [
    "# (Fairness) Metrics"
   ]
  },
  {
   "cell_type": "code",
   "execution_count": 72,
   "id": "debc5d62",
   "metadata": {
    "execution": {
     "iopub.execute_input": "2025-07-30T20:07:11.474615Z",
     "iopub.status.busy": "2025-07-30T20:07:11.473973Z",
     "iopub.status.idle": "2025-07-30T20:07:11.495373Z",
     "shell.execute_reply": "2025-07-30T20:07:11.494560Z"
    },
    "papermill": {
     "duration": 0.048114,
     "end_time": "2025-07-30T20:07:11.496922",
     "exception": false,
     "start_time": "2025-07-30T20:07:11.448808",
     "status": "completed"
    },
    "tags": []
   },
   "outputs": [],
   "source": [
    "# do I need to include maxdeutsch1.missing?\n",
    "\n",
    "import numpy as np\n",
    "\n",
    "colname_to_bin = \"maxdeutsch1\"\n",
    "majority_value = org_train[colname_to_bin].mode()[0]\n",
    "\n",
    "org_test[\"majmin\"] = np.where(org_test[colname_to_bin] == majority_value, \"majority\", \"minority\")"
   ]
  },
  {
   "cell_type": "code",
   "execution_count": 73,
   "id": "06a50de5",
   "metadata": {
    "execution": {
     "iopub.execute_input": "2025-07-30T20:07:11.547297Z",
     "iopub.status.busy": "2025-07-30T20:07:11.546663Z",
     "iopub.status.idle": "2025-07-30T20:07:14.424126Z",
     "shell.execute_reply": "2025-07-30T20:07:14.423258Z"
    },
    "papermill": {
     "duration": 2.904228,
     "end_time": "2025-07-30T20:07:14.425935",
     "exception": false,
     "start_time": "2025-07-30T20:07:11.521707",
     "status": "completed"
    },
    "tags": []
   },
   "outputs": [],
   "source": [
    "example_universe = universe.copy()\n",
    "example_universe[\"cutoff\"] = example_universe[\"cutoff\"][0]\n",
    "example_universe[\"eval_fairness_grouping\"] = example_universe[\"eval_fairness_grouping\"][0]\n",
    "fairness_dict, metric_frame = universe_analysis.compute_metrics(\n",
    "    example_universe,\n",
    "    y_pred_prob=probs_test,\n",
    "    y_test=y_true,\n",
    "    org_test=org_test,\n",
    ")"
   ]
  },
  {
   "cell_type": "markdown",
   "id": "f95d4e02",
   "metadata": {
    "papermill": {
     "duration": 0.031473,
     "end_time": "2025-07-30T20:07:14.484151",
     "exception": false,
     "start_time": "2025-07-30T20:07:14.452678",
     "status": "completed"
    },
    "tags": []
   },
   "source": [
    "# Overall"
   ]
  },
  {
   "cell_type": "markdown",
   "id": "bdee4871",
   "metadata": {
    "papermill": {
     "duration": 0.025391,
     "end_time": "2025-07-30T20:07:14.536959",
     "exception": false,
     "start_time": "2025-07-30T20:07:14.511568",
     "status": "completed"
    },
    "tags": []
   },
   "source": [
    "Fairness\n",
    "Main fairness target: Equalized Odds. Seems to be a better fit than equal opportunity, since we're not only interested in Y = 1. Seems to be a better fit than demographic parity, since we also care about accuracy, not just equal distribution of preds.\n",
    "\n",
    "Pick column for computation of fairness metrics\n",
    "\n",
    "Performance\n",
    "Overall performance measures, most interesting in relation to the measures split by group below"
   ]
  },
  {
   "cell_type": "code",
   "execution_count": 74,
   "id": "c4e067c6",
   "metadata": {
    "execution": {
     "iopub.execute_input": "2025-07-30T20:07:14.592846Z",
     "iopub.status.busy": "2025-07-30T20:07:14.592351Z",
     "iopub.status.idle": "2025-07-30T20:07:14.600835Z",
     "shell.execute_reply": "2025-07-30T20:07:14.599913Z"
    },
    "papermill": {
     "duration": 0.037852,
     "end_time": "2025-07-30T20:07:14.602365",
     "exception": false,
     "start_time": "2025-07-30T20:07:14.564513",
     "status": "completed"
    },
    "tags": []
   },
   "outputs": [
    {
     "data": {
      "text/plain": [
       "accuracy                   0.221257\n",
       "balanced accuracy          0.541658\n",
       "f1                         0.242675\n",
       "precision                  0.138632\n",
       "false positive rate        0.889312\n",
       "false negative rate        0.027372\n",
       "selection rate             0.900000\n",
       "count                  89710.000000\n",
       "dtype: float64"
      ]
     },
     "execution_count": 74,
     "metadata": {},
     "output_type": "execute_result"
    }
   ],
   "source": [
    "metric_frame.overall"
   ]
  },
  {
   "cell_type": "markdown",
   "id": "e968fe9d",
   "metadata": {
    "papermill": {
     "duration": 0.025437,
     "end_time": "2025-07-30T20:07:14.654483",
     "exception": false,
     "start_time": "2025-07-30T20:07:14.629046",
     "status": "completed"
    },
    "tags": []
   },
   "source": [
    "By Group"
   ]
  },
  {
   "cell_type": "code",
   "execution_count": 75,
   "id": "ec325bce",
   "metadata": {
    "execution": {
     "iopub.execute_input": "2025-07-30T20:07:14.707081Z",
     "iopub.status.busy": "2025-07-30T20:07:14.706610Z",
     "iopub.status.idle": "2025-07-30T20:07:14.721817Z",
     "shell.execute_reply": "2025-07-30T20:07:14.720858Z"
    },
    "papermill": {
     "duration": 0.043107,
     "end_time": "2025-07-30T20:07:14.723417",
     "exception": false,
     "start_time": "2025-07-30T20:07:14.680310",
     "status": "completed"
    },
    "tags": []
   },
   "outputs": [
    {
     "data": {
      "text/html": [
       "<div>\n",
       "<style scoped>\n",
       "    .dataframe tbody tr th:only-of-type {\n",
       "        vertical-align: middle;\n",
       "    }\n",
       "\n",
       "    .dataframe tbody tr th {\n",
       "        vertical-align: top;\n",
       "    }\n",
       "\n",
       "    .dataframe thead th {\n",
       "        text-align: right;\n",
       "    }\n",
       "</style>\n",
       "<table border=\"1\" class=\"dataframe\">\n",
       "  <thead>\n",
       "    <tr style=\"text-align: right;\">\n",
       "      <th></th>\n",
       "      <th>accuracy</th>\n",
       "      <th>balanced accuracy</th>\n",
       "      <th>f1</th>\n",
       "      <th>precision</th>\n",
       "      <th>false positive rate</th>\n",
       "      <th>false negative rate</th>\n",
       "      <th>selection rate</th>\n",
       "      <th>count</th>\n",
       "    </tr>\n",
       "    <tr>\n",
       "      <th>majmin</th>\n",
       "      <th></th>\n",
       "      <th></th>\n",
       "      <th></th>\n",
       "      <th></th>\n",
       "      <th></th>\n",
       "      <th></th>\n",
       "      <th></th>\n",
       "      <th></th>\n",
       "    </tr>\n",
       "  </thead>\n",
       "  <tbody>\n",
       "    <tr>\n",
       "      <th>majority</th>\n",
       "      <td>0.244152</td>\n",
       "      <td>0.551457</td>\n",
       "      <td>0.253093</td>\n",
       "      <td>0.145552</td>\n",
       "      <td>0.866234</td>\n",
       "      <td>0.030853</td>\n",
       "      <td>0.879832</td>\n",
       "      <td>69170.0</td>\n",
       "    </tr>\n",
       "    <tr>\n",
       "      <th>minority</th>\n",
       "      <td>0.144158</td>\n",
       "      <td>0.510256</td>\n",
       "      <td>0.209897</td>\n",
       "      <td>0.117449</td>\n",
       "      <td>0.965551</td>\n",
       "      <td>0.013936</td>\n",
       "      <td>0.967916</td>\n",
       "      <td>20540.0</td>\n",
       "    </tr>\n",
       "  </tbody>\n",
       "</table>\n",
       "</div>"
      ],
      "text/plain": [
       "          accuracy  balanced accuracy        f1  precision  \\\n",
       "majmin                                                       \n",
       "majority  0.244152           0.551457  0.253093   0.145552   \n",
       "minority  0.144158           0.510256  0.209897   0.117449   \n",
       "\n",
       "          false positive rate  false negative rate  selection rate    count  \n",
       "majmin                                                                       \n",
       "majority             0.866234             0.030853        0.879832  69170.0  \n",
       "minority             0.965551             0.013936        0.967916  20540.0  "
      ]
     },
     "execution_count": 75,
     "metadata": {},
     "output_type": "execute_result"
    }
   ],
   "source": [
    "metric_frame.by_group"
   ]
  },
  {
   "cell_type": "code",
   "execution_count": 76,
   "id": "a9ddbe63",
   "metadata": {
    "execution": {
     "iopub.execute_input": "2025-07-30T20:07:14.778330Z",
     "iopub.status.busy": "2025-07-30T20:07:14.777849Z",
     "iopub.status.idle": "2025-07-30T20:07:17.060023Z",
     "shell.execute_reply": "2025-07-30T20:07:17.059185Z"
    },
    "papermill": {
     "duration": 2.312212,
     "end_time": "2025-07-30T20:07:17.061557",
     "exception": false,
     "start_time": "2025-07-30T20:07:14.749345",
     "status": "completed"
    },
    "tags": []
   },
   "outputs": [
    {
     "data": {
      "text/plain": [
       "array([[<Axes: title={'center': 'accuracy'}, xlabel='majmin'>,\n",
       "        <Axes: title={'center': 'balanced accuracy'}, xlabel='majmin'>,\n",
       "        <Axes: title={'center': 'f1'}, xlabel='majmin'>],\n",
       "       [<Axes: title={'center': 'precision'}, xlabel='majmin'>,\n",
       "        <Axes: title={'center': 'false positive rate'}, xlabel='majmin'>,\n",
       "        <Axes: title={'center': 'false negative rate'}, xlabel='majmin'>],\n",
       "       [<Axes: title={'center': 'selection rate'}, xlabel='majmin'>,\n",
       "        <Axes: title={'center': 'count'}, xlabel='majmin'>,\n",
       "        <Axes: xlabel='majmin'>]], dtype=object)"
      ]
     },
     "execution_count": 76,
     "metadata": {},
     "output_type": "execute_result"
    },
    {
     "data": {
      "image/png": "[encoded data removed]",
      "text/plain": [
       "<Figure size 1200x800 with 9 Axes>"
      ]
     },
     "metadata": {},
     "output_type": "display_data"
    }
   ],
   "source": [
    "# In a graphic\n",
    "metric_frame.by_group.plot.bar(\n",
    "    subplots=True,\n",
    "    layout=[3, 3],\n",
    "    legend=False,\n",
    "    figsize=[12, 8],\n",
    "    title=\"Show all metrics\",\n",
    ")"
   ]
  },
  {
   "cell_type": "markdown",
   "id": "f57a0bac",
   "metadata": {
    "papermill": {
     "duration": 0.025805,
     "end_time": "2025-07-30T20:07:17.113943",
     "exception": false,
     "start_time": "2025-07-30T20:07:17.088138",
     "status": "completed"
    },
    "tags": []
   },
   "source": [
    "# Final Output"
   ]
  },
  {
   "cell_type": "code",
   "execution_count": 77,
   "id": "96d280a3",
   "metadata": {
    "execution": {
     "iopub.execute_input": "2025-07-30T20:07:17.168087Z",
     "iopub.status.busy": "2025-07-30T20:07:17.167270Z",
     "iopub.status.idle": "2025-07-30T20:07:17.174926Z",
     "shell.execute_reply": "2025-07-30T20:07:17.174159Z"
    },
    "papermill": {
     "duration": 0.036721,
     "end_time": "2025-07-30T20:07:17.176535",
     "exception": false,
     "start_time": "2025-07-30T20:07:17.139814",
     "status": "completed"
    },
    "tags": []
   },
   "outputs": [
    {
     "data": {
      "text/plain": [
       "4"
      ]
     },
     "execution_count": 77,
     "metadata": {},
     "output_type": "execute_result"
    }
   ],
   "source": [
    "sub_universes = universe_analysis.generate_sub_universes()\n",
    "len(sub_universes)"
   ]
  },
  {
   "cell_type": "code",
   "execution_count": 78,
   "id": "92adf7ba",
   "metadata": {
    "execution": {
     "iopub.execute_input": "2025-07-30T20:07:17.231373Z",
     "iopub.status.busy": "2025-07-30T20:07:17.230730Z",
     "iopub.status.idle": "2025-07-30T20:07:17.236730Z",
     "shell.execute_reply": "2025-07-30T20:07:17.235844Z"
    },
    "papermill": {
     "duration": 0.034714,
     "end_time": "2025-07-30T20:07:17.238146",
     "exception": false,
     "start_time": "2025-07-30T20:07:17.203432",
     "status": "completed"
    },
    "tags": []
   },
   "outputs": [],
   "source": [
    "def filter_sub_universe_data(sub_universe, org_test):\n",
    "    # Keep all rows — no filtering\n",
    "    keep_rows_mask = np.ones(org_test.shape[0], dtype=bool)\n",
    "\n",
    "    print(f\"[INFO] Keeping all rows: {keep_rows_mask.sum()} rows retained.\")\n",
    "    return keep_rows_mask"
   ]
  },
  {
   "cell_type": "code",
   "execution_count": 79,
   "id": "4a759155",
   "metadata": {
    "execution": {
     "iopub.execute_input": "2025-07-30T20:07:17.293905Z",
     "iopub.status.busy": "2025-07-30T20:07:17.293219Z",
     "iopub.status.idle": "2025-07-30T20:07:28.442974Z",
     "shell.execute_reply": "2025-07-30T20:07:28.442022Z"
    },
    "papermill": {
     "duration": 11.179899,
     "end_time": "2025-07-30T20:07:28.445011",
     "exception": false,
     "start_time": "2025-07-30T20:07:17.265112",
     "status": "completed"
    },
    "tags": []
   },
   "outputs": [
    {
     "name": "stdout",
     "output_type": "stream",
     "text": [
      "Stopping execution_time clock.\n",
      "[INFO] Keeping all rows: 89710 rows retained.\n"
     ]
    },
    {
     "name": "stdout",
     "output_type": "stream",
     "text": [
      "[INFO] Keeping all rows: 89710 rows retained.\n"
     ]
    },
    {
     "name": "stdout",
     "output_type": "stream",
     "text": [
      "[INFO] Keeping all rows: 89710 rows retained.\n"
     ]
    },
    {
     "name": "stdout",
     "output_type": "stream",
     "text": [
      "[INFO] Keeping all rows: 89710 rows retained.\n"
     ]
    },
    {
     "data": {
      "text/html": [
       "<div>\n",
       "<style scoped>\n",
       "    .dataframe tbody tr th:only-of-type {\n",
       "        vertical-align: middle;\n",
       "    }\n",
       "\n",
       "    .dataframe tbody tr th {\n",
       "        vertical-align: top;\n",
       "    }\n",
       "\n",
       "    .dataframe thead th {\n",
       "        text-align: right;\n",
       "    }\n",
       "</style>\n",
       "<table border=\"1\" class=\"dataframe\">\n",
       "  <thead>\n",
       "    <tr style=\"text-align: right;\">\n",
       "      <th></th>\n",
       "      <th>run_no</th>\n",
       "      <th>universe_id</th>\n",
       "      <th>universe_settings</th>\n",
       "      <th>execution_time</th>\n",
       "      <th>test_size_n</th>\n",
       "      <th>test_size_frac</th>\n",
       "      <th>fair_main_equalized_odds_difference</th>\n",
       "      <th>fair_main_equalized_odds_ratio</th>\n",
       "      <th>fair_main_demographic_parity_difference</th>\n",
       "      <th>fair_main_demographic_parity_ratio</th>\n",
       "      <th>...</th>\n",
       "      <th>perf_grp_precision_0</th>\n",
       "      <th>perf_grp_precision_1</th>\n",
       "      <th>perf_grp_false positive rate_0</th>\n",
       "      <th>perf_grp_false positive rate_1</th>\n",
       "      <th>perf_grp_false negative rate_0</th>\n",
       "      <th>perf_grp_false negative rate_1</th>\n",
       "      <th>perf_grp_selection rate_0</th>\n",
       "      <th>perf_grp_selection rate_1</th>\n",
       "      <th>perf_grp_count_0</th>\n",
       "      <th>perf_grp_count_1</th>\n",
       "    </tr>\n",
       "  </thead>\n",
       "  <tbody>\n",
       "    <tr>\n",
       "      <th>0</th>\n",
       "      <td>14</td>\n",
       "      <td>3f6cff82b9c68a66c8e8f9ecf13776d0</td>\n",
       "      <td>{\"cutoff\": \"quantile_0.1\", \"eval_fairness_grou...</td>\n",
       "      <td>321.592583</td>\n",
       "      <td>89710</td>\n",
       "      <td>1.0</td>\n",
       "      <td>0.099318</td>\n",
       "      <td>0.897139</td>\n",
       "      <td>0.088084</td>\n",
       "      <td>0.908996</td>\n",
       "      <td>...</td>\n",
       "      <td>NaN</td>\n",
       "      <td>NaN</td>\n",
       "      <td>NaN</td>\n",
       "      <td>NaN</td>\n",
       "      <td>NaN</td>\n",
       "      <td>NaN</td>\n",
       "      <td>NaN</td>\n",
       "      <td>NaN</td>\n",
       "      <td>NaN</td>\n",
       "      <td>NaN</td>\n",
       "    </tr>\n",
       "    <tr>\n",
       "      <th>0</th>\n",
       "      <td>14</td>\n",
       "      <td>3f6cff82b9c68a66c8e8f9ecf13776d0</td>\n",
       "      <td>{\"cutoff\": \"quantile_0.1\", \"eval_fairness_grou...</td>\n",
       "      <td>321.592583</td>\n",
       "      <td>89710</td>\n",
       "      <td>1.0</td>\n",
       "      <td>0.099318</td>\n",
       "      <td>0.897139</td>\n",
       "      <td>0.088084</td>\n",
       "      <td>0.908996</td>\n",
       "      <td>...</td>\n",
       "      <td>0.117449</td>\n",
       "      <td>0.145552</td>\n",
       "      <td>0.965551</td>\n",
       "      <td>0.866234</td>\n",
       "      <td>0.013936</td>\n",
       "      <td>0.030853</td>\n",
       "      <td>0.967916</td>\n",
       "      <td>0.879832</td>\n",
       "      <td>20540.0</td>\n",
       "      <td>69170.0</td>\n",
       "    </tr>\n",
       "    <tr>\n",
       "      <th>0</th>\n",
       "      <td>14</td>\n",
       "      <td>3f6cff82b9c68a66c8e8f9ecf13776d0</td>\n",
       "      <td>{\"cutoff\": \"quantile_0.25\", \"eval_fairness_gro...</td>\n",
       "      <td>321.592583</td>\n",
       "      <td>89710</td>\n",
       "      <td>1.0</td>\n",
       "      <td>0.214180</td>\n",
       "      <td>0.759630</td>\n",
       "      <td>0.191645</td>\n",
       "      <td>0.786530</td>\n",
       "      <td>...</td>\n",
       "      <td>NaN</td>\n",
       "      <td>NaN</td>\n",
       "      <td>NaN</td>\n",
       "      <td>NaN</td>\n",
       "      <td>NaN</td>\n",
       "      <td>NaN</td>\n",
       "      <td>NaN</td>\n",
       "      <td>NaN</td>\n",
       "      <td>NaN</td>\n",
       "      <td>NaN</td>\n",
       "    </tr>\n",
       "    <tr>\n",
       "      <th>0</th>\n",
       "      <td>14</td>\n",
       "      <td>3f6cff82b9c68a66c8e8f9ecf13776d0</td>\n",
       "      <td>{\"cutoff\": \"quantile_0.25\", \"eval_fairness_gro...</td>\n",
       "      <td>321.592583</td>\n",
       "      <td>89710</td>\n",
       "      <td>1.0</td>\n",
       "      <td>0.214180</td>\n",
       "      <td>0.759630</td>\n",
       "      <td>0.191645</td>\n",
       "      <td>0.786530</td>\n",
       "      <td>...</td>\n",
       "      <td>0.121909</td>\n",
       "      <td>0.168093</td>\n",
       "      <td>0.891041</td>\n",
       "      <td>0.676862</td>\n",
       "      <td>0.050676</td>\n",
       "      <td>0.101751</td>\n",
       "      <td>0.897760</td>\n",
       "      <td>0.706115</td>\n",
       "      <td>20540.0</td>\n",
       "      <td>69170.0</td>\n",
       "    </tr>\n",
       "  </tbody>\n",
       "</table>\n",
       "<p>4 rows × 50 columns</p>\n",
       "</div>"
      ],
      "text/plain": [
       "  run_no                       universe_id  \\\n",
       "0     14  3f6cff82b9c68a66c8e8f9ecf13776d0   \n",
       "0     14  3f6cff82b9c68a66c8e8f9ecf13776d0   \n",
       "0     14  3f6cff82b9c68a66c8e8f9ecf13776d0   \n",
       "0     14  3f6cff82b9c68a66c8e8f9ecf13776d0   \n",
       "\n",
       "                                   universe_settings  execution_time  \\\n",
       "0  {\"cutoff\": \"quantile_0.1\", \"eval_fairness_grou...      321.592583   \n",
       "0  {\"cutoff\": \"quantile_0.1\", \"eval_fairness_grou...      321.592583   \n",
       "0  {\"cutoff\": \"quantile_0.25\", \"eval_fairness_gro...      321.592583   \n",
       "0  {\"cutoff\": \"quantile_0.25\", \"eval_fairness_gro...      321.592583   \n",
       "\n",
       "   test_size_n  test_size_frac  fair_main_equalized_odds_difference  \\\n",
       "0        89710             1.0                             0.099318   \n",
       "0        89710             1.0                             0.099318   \n",
       "0        89710             1.0                             0.214180   \n",
       "0        89710             1.0                             0.214180   \n",
       "\n",
       "   fair_main_equalized_odds_ratio  fair_main_demographic_parity_difference  \\\n",
       "0                        0.897139                                 0.088084   \n",
       "0                        0.897139                                 0.088084   \n",
       "0                        0.759630                                 0.191645   \n",
       "0                        0.759630                                 0.191645   \n",
       "\n",
       "   fair_main_demographic_parity_ratio  ...  perf_grp_precision_0  \\\n",
       "0                            0.908996  ...                   NaN   \n",
       "0                            0.908996  ...              0.117449   \n",
       "0                            0.786530  ...                   NaN   \n",
       "0                            0.786530  ...              0.121909   \n",
       "\n",
       "   perf_grp_precision_1  perf_grp_false positive rate_0  \\\n",
       "0                   NaN                             NaN   \n",
       "0              0.145552                        0.965551   \n",
       "0                   NaN                             NaN   \n",
       "0              0.168093                        0.891041   \n",
       "\n",
       "   perf_grp_false positive rate_1  perf_grp_false negative rate_0  \\\n",
       "0                             NaN                             NaN   \n",
       "0                        0.866234                        0.013936   \n",
       "0                             NaN                             NaN   \n",
       "0                        0.676862                        0.050676   \n",
       "\n",
       "   perf_grp_false negative rate_1  perf_grp_selection rate_0  \\\n",
       "0                             NaN                        NaN   \n",
       "0                        0.030853                   0.967916   \n",
       "0                             NaN                        NaN   \n",
       "0                        0.101751                   0.897760   \n",
       "\n",
       "   perf_grp_selection rate_1  perf_grp_count_0  perf_grp_count_1  \n",
       "0                        NaN               NaN               NaN  \n",
       "0                   0.879832           20540.0           69170.0  \n",
       "0                        NaN               NaN               NaN  \n",
       "0                   0.706115           20540.0           69170.0  \n",
       "\n",
       "[4 rows x 50 columns]"
      ]
     },
     "execution_count": 79,
     "metadata": {},
     "output_type": "execute_result"
    }
   ],
   "source": [
    "final_output = universe_analysis.generate_final_output(\n",
    "    y_pred_prob=probs_test,\n",
    "    y_test=y_true,\n",
    "    org_test=org_test,\n",
    "    filter_data=filter_sub_universe_data,\n",
    "    cp_metrics_df=cp_metrics_df,\n",
    "    save=True,\n",
    ")\n",
    "final_output"
   ]
  },
  {
   "cell_type": "code",
   "execution_count": null,
   "id": "721ff514-cb11-46f8-b6fc-50392f74b5cb",
   "metadata": {
    "papermill": {
     "duration": 0.036769,
     "end_time": "2025-07-30T20:07:28.522462",
     "exception": false,
     "start_time": "2025-07-30T20:07:28.485693",
     "status": "completed"
    },
    "tags": []
   },
   "outputs": [],
   "source": []
  }
 ],
 "metadata": {
  "celltoolbar": "Tags",
  "kernelspec": {
   "display_name": "Python (CMA Fairness)",
   "language": "python",
   "name": "cma_fair_env"
  },
  "language_info": {
   "codemirror_mode": {
    "name": "ipython",
    "version": 3
   },
   "file_extension": ".py",
   "mimetype": "text/x-python",
   "name": "python",
   "nbconvert_exporter": "python",
   "pygments_lexer": "ipython3",
   "version": "3.10.12"
  },
  "papermill": {
   "default_parameters": {},
   "duration": 336.837731,
   "end_time": "2025-07-30T20:07:29.380521",
   "environment_variables": {},
   "exception": null,
   "input_path": "universe_analysis.ipynb",
   "output_path": "output/runs/14/notebooks/m_14-3f6cff82b9c68a66c8e8f9ecf13776d0.ipynb",
   "parameters": {
    "output_dir": "output",
    "run_no": "14",
    "seed": "2023",
    "universe": "{\"cutoff\": [\"quantile_0.1\", \"quantile_0.25\"], \"eval_fairness_grouping\": [\"majority-minority\", \"nationality-all\"], \"exclude_features\": \"nationality\", \"exclude_subgroups\": \"drop-non-german\", \"model\": \"elasticnet\", \"scale\": \"do-not-scale\", \"training_size\": \"25k\", \"training_year\": \"2014\"}",
    "universe_id": "3f6cff82b9c68a66c8e8f9ecf13776d0"
   },
   "start_time": "2025-07-30T20:01:52.542790",
   "version": "2.6.0"
  }
 },
 "nbformat": 4,
 "nbformat_minor": 5
}