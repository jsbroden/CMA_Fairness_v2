{
 "cells": [
  {
   "cell_type": "code",
   "execution_count": 1,
   "id": "f159f837-637b-42ba-96b5-ec9a68c44524",
   "metadata": {
    "execution": {
     "iopub.execute_input": "2025-07-30T21:01:17.068665Z",
     "iopub.status.busy": "2025-07-30T21:01:17.068249Z",
     "iopub.status.idle": "2025-07-30T21:01:17.083407Z",
     "shell.execute_reply": "2025-07-30T21:01:17.082491Z"
    },
    "papermill": {
     "duration": 0.03944,
     "end_time": "2025-07-30T21:01:17.085131",
     "exception": false,
     "start_time": "2025-07-30T21:01:17.045691",
     "status": "completed"
    },
    "tags": []
   },
   "outputs": [
    {
     "name": "stdout",
     "output_type": "stream",
     "text": [
      "/dss/dsshome1/0C/ra93lal2/cma/CMA_Fairness_v2\n"
     ]
    },
    {
     "name": "stderr",
     "output_type": "stream",
     "text": [
      "/dss/dsshome1/0C/ra93lal2/.local/share/virtualenvs/CMA_Fairness_v2-3j10GkSs/lib/python3.10/site-packages/IPython/core/magics/osm.py:393: UserWarning: This is now an optional IPython functionality, using bookmarks requires you to install the `pickleshare` library.\n",
      "  bkms = self.shell.db.get('bookmarks', {})\n",
      "/dss/dsshome1/0C/ra93lal2/.local/share/virtualenvs/CMA_Fairness_v2-3j10GkSs/lib/python3.10/site-packages/IPython/core/magics/osm.py:417: UserWarning: This is now an optional IPython functionality, setting dhist requires you to install the `pickleshare` library.\n",
      "  self.shell.db['dhist'] = compress_dhist(dhist)[-100:]\n"
     ]
    }
   ],
   "source": [
    "%cd ~/cma/CMA_Fairness_v2"
   ]
  },
  {
   "cell_type": "markdown",
   "id": "de2603b9",
   "metadata": {
    "papermill": {
     "duration": 0.018305,
     "end_time": "2025-07-30T21:01:17.122030",
     "exception": false,
     "start_time": "2025-07-30T21:01:17.103725",
     "status": "completed"
    },
    "tags": []
   },
   "source": [
    "The following cell holds the definition of our parameters, these values can be overriden by rendering the with e.g. the following command:\n",
    "\n",
    "papermill -p alpha 0.2 -p ratio 0.3 universe_analysis.ipynb output/test_run.ipynb"
   ]
  },
  {
   "cell_type": "code",
   "execution_count": 2,
   "id": "a80968a0-40bb-4fa9-85ef-2d5eefb01975",
   "metadata": {
    "execution": {
     "iopub.execute_input": "2025-07-30T21:01:17.163856Z",
     "iopub.status.busy": "2025-07-30T21:01:17.163021Z",
     "iopub.status.idle": "2025-07-30T21:01:17.169071Z",
     "shell.execute_reply": "2025-07-30T21:01:17.167999Z"
    },
    "papermill": {
     "duration": 0.028202,
     "end_time": "2025-07-30T21:01:17.170781",
     "exception": false,
     "start_time": "2025-07-30T21:01:17.142579",
     "status": "completed"
    },
    "tags": []
   },
   "outputs": [
    {
     "name": "stdout",
     "output_type": "stream",
     "text": [
      "Current working directory: /dss/dsshome1/0C/ra93lal2/cma/CMA_Fairness_v2\n"
     ]
    }
   ],
   "source": [
    "import os\n",
    "print(\"Current working directory:\", os.getcwd())"
   ]
  },
  {
   "cell_type": "code",
   "execution_count": 3,
   "id": "2dce4c03",
   "metadata": {
    "execution": {
     "iopub.execute_input": "2025-07-30T21:01:17.211664Z",
     "iopub.status.busy": "2025-07-30T21:01:17.210654Z",
     "iopub.status.idle": "2025-07-30T21:01:17.218455Z",
     "shell.execute_reply": "2025-07-30T21:01:17.217414Z"
    },
    "papermill": {
     "duration": 0.030063,
     "end_time": "2025-07-30T21:01:17.220274",
     "exception": false,
     "start_time": "2025-07-30T21:01:17.190211",
     "status": "completed"
    },
    "tags": [
     "parameters"
    ]
   },
   "outputs": [],
   "source": [
    "run_no = 0\n",
    "universe_id = \"test\"\n",
    "universe = {\n",
    "    \"training_size\": \"25k\", # \"25k\", \"5k\", \"1k\"\n",
    "    \"training_year\": \"2014\", # \"2014\", \"2012_14\", \"2010_14\"\n",
    "    \"scale\": \"scale\", # \"scale\", \"do-not-scale\",\n",
    "    #\"stratify_split\": \"target\", # \"none\", \"target\", \"protected-attribute\", \"both\",\n",
    "    \"model\": \"elasticnet\", # \"logreg\", \"penalized_logreg\", \"rf\", \"gbm\", \"elasticnet\"\n",
    "    \"cutoff\": [\"quantile_0.15\", \"quantile_0.30\"],\n",
    "    \"exclude_features\": \"age\", # \"none\", \"nationality\", \"sex\", \"nationality-sex\", \"age\"\n",
    "    \"exclude_subgroups\": \"keep-all\", # \"keep-all\", \"drop-non-german\"\n",
    "    \"eval_fairness_grouping\": [\"majority-minority\", \"nationality-all\"]\n",
    "}\n",
    "\n",
    "output_dir=\"./output\"\n",
    "seed=0"
   ]
  },
  {
   "cell_type": "code",
   "execution_count": 4,
   "id": "e14a680c",
   "metadata": {
    "execution": {
     "iopub.execute_input": "2025-07-30T21:01:17.262103Z",
     "iopub.status.busy": "2025-07-30T21:01:17.261569Z",
     "iopub.status.idle": "2025-07-30T21:01:17.267114Z",
     "shell.execute_reply": "2025-07-30T21:01:17.266158Z"
    },
    "papermill": {
     "duration": 0.027699,
     "end_time": "2025-07-30T21:01:17.268947",
     "exception": false,
     "start_time": "2025-07-30T21:01:17.241248",
     "status": "completed"
    },
    "tags": [
     "injected-parameters"
    ]
   },
   "outputs": [],
   "source": [
    "# Parameters\n",
    "universe_id = \"ed13d9051032154f7853ed7af847fdec\"\n",
    "run_no = \"14\"\n",
    "universe = \"{\\\"cutoff\\\": [\\\"quantile_0.1\\\", \\\"quantile_0.25\\\"], \\\"eval_fairness_grouping\\\": [\\\"majority-minority\\\", \\\"nationality-all\\\"], \\\"exclude_features\\\": \\\"age\\\", \\\"exclude_subgroups\\\": \\\"drop-non-german\\\", \\\"model\\\": \\\"gbm\\\", \\\"scale\\\": \\\"scale\\\", \\\"training_size\\\": \\\"5k\\\", \\\"training_year\\\": \\\"2012_14\\\"}\"\n",
    "output_dir = \"output\"\n",
    "seed = \"2023\"\n"
   ]
  },
  {
   "cell_type": "code",
   "execution_count": 5,
   "id": "1650acaf",
   "metadata": {
    "execution": {
     "iopub.execute_input": "2025-07-30T21:01:17.310094Z",
     "iopub.status.busy": "2025-07-30T21:01:17.309647Z",
     "iopub.status.idle": "2025-07-30T21:01:17.314705Z",
     "shell.execute_reply": "2025-07-30T21:01:17.313825Z"
    },
    "papermill": {
     "duration": 0.027758,
     "end_time": "2025-07-30T21:01:17.316363",
     "exception": false,
     "start_time": "2025-07-30T21:01:17.288605",
     "status": "completed"
    },
    "tags": []
   },
   "outputs": [],
   "source": [
    "import json\n",
    "# Parse universe into dict if it is passed as a string\n",
    "if isinstance(universe, str):\n",
    "    universe = json.loads(universe)"
   ]
  },
  {
   "cell_type": "code",
   "execution_count": 6,
   "id": "16620c48",
   "metadata": {
    "execution": {
     "iopub.execute_input": "2025-07-30T21:01:17.357896Z",
     "iopub.status.busy": "2025-07-30T21:01:17.357436Z",
     "iopub.status.idle": "2025-07-30T21:01:17.442453Z",
     "shell.execute_reply": "2025-07-30T21:01:17.441579Z"
    },
    "papermill": {
     "duration": 0.108715,
     "end_time": "2025-07-30T21:01:17.444318",
     "exception": false,
     "start_time": "2025-07-30T21:01:17.335603",
     "status": "completed"
    },
    "tags": []
   },
   "outputs": [],
   "source": [
    "# Auto-reload the custom package\n",
    "%load_ext autoreload\n",
    "%autoreload 1\n",
    "%aimport fairness_multiverse"
   ]
  },
  {
   "cell_type": "code",
   "execution_count": 7,
   "id": "01c5c9f3",
   "metadata": {
    "execution": {
     "iopub.execute_input": "2025-07-30T21:01:17.485193Z",
     "iopub.status.busy": "2025-07-30T21:01:17.484535Z",
     "iopub.status.idle": "2025-07-30T21:01:19.403844Z",
     "shell.execute_reply": "2025-07-30T21:01:19.402753Z"
    },
    "papermill": {
     "duration": 1.942667,
     "end_time": "2025-07-30T21:01:19.406204",
     "exception": false,
     "start_time": "2025-07-30T21:01:17.463537",
     "status": "completed"
    },
    "tags": []
   },
   "outputs": [],
   "source": [
    "from fairness_multiverse.universe import UniverseAnalysis\n",
    "\n",
    "universe_analysis = UniverseAnalysis(\n",
    "    run_no = run_no,\n",
    "    universe_id = universe_id,\n",
    "    universe = universe,\n",
    "    output_dir=output_dir,\n",
    ")"
   ]
  },
  {
   "cell_type": "code",
   "execution_count": 8,
   "id": "106241f5",
   "metadata": {
    "execution": {
     "iopub.execute_input": "2025-07-30T21:01:19.464389Z",
     "iopub.status.busy": "2025-07-30T21:01:19.463467Z",
     "iopub.status.idle": "2025-07-30T21:01:19.471301Z",
     "shell.execute_reply": "2025-07-30T21:01:19.469725Z"
    },
    "papermill": {
     "duration": 0.039528,
     "end_time": "2025-07-30T21:01:19.473016",
     "exception": false,
     "start_time": "2025-07-30T21:01:19.433488",
     "status": "completed"
    },
    "tags": []
   },
   "outputs": [
    {
     "name": "stdout",
     "output_type": "stream",
     "text": [
      "Using Seed: 2023\n"
     ]
    }
   ],
   "source": [
    "import numpy as np\n",
    "parsed_seed = int(seed)\n",
    "np.random.seed(parsed_seed)\n",
    "print(f\"Using Seed: {parsed_seed}\")"
   ]
  },
  {
   "cell_type": "markdown",
   "id": "e0ebdc57",
   "metadata": {
    "papermill": {
     "duration": 0.019851,
     "end_time": "2025-07-30T21:01:19.513342",
     "exception": false,
     "start_time": "2025-07-30T21:01:19.493491",
     "status": "completed"
    },
    "tags": []
   },
   "source": [
    "# Loading Data"
   ]
  },
  {
   "cell_type": "markdown",
   "id": "681925a3",
   "metadata": {
    "papermill": {
     "duration": 0.02189,
     "end_time": "2025-07-30T21:01:19.554206",
     "exception": false,
     "start_time": "2025-07-30T21:01:19.532316",
     "status": "completed"
    },
    "tags": []
   },
   "source": [
    "Load siab_train, siab_test, siab_calib and/or \n",
    "load siab_train_features, siab_train_labels"
   ]
  },
  {
   "cell_type": "code",
   "execution_count": 9,
   "id": "f0496b8a",
   "metadata": {
    "execution": {
     "iopub.execute_input": "2025-07-30T21:01:19.599557Z",
     "iopub.status.busy": "2025-07-30T21:01:19.599052Z",
     "iopub.status.idle": "2025-07-30T21:01:31.190696Z",
     "shell.execute_reply": "2025-07-30T21:01:31.189463Z"
    },
    "papermill": {
     "duration": 11.615412,
     "end_time": "2025-07-30T21:01:31.192368",
     "exception": false,
     "start_time": "2025-07-30T21:01:19.576956",
     "status": "completed"
    },
    "tags": []
   },
   "outputs": [
    {
     "name": "stdout",
     "output_type": "stream",
     "text": [
      "Loading SIAB data from cache: data/siab_cached.csv.gz\n"
     ]
    },
    {
     "name": "stdout",
     "output_type": "stream",
     "text": [
      "(643690, 164)\n"
     ]
    }
   ],
   "source": [
    "from pathlib import Path\n",
    "import pandas as pd\n",
    "\n",
    "# File paths\n",
    "raw_file = Path(\"data/raw/siab.csv\")\n",
    "cache_file = Path(\"data/siab_cached.csv.gz\")\n",
    "\n",
    "# Ensure cache directory exists\n",
    "cache_file.parent.mkdir(parents=True, exist_ok=True)\n",
    "\n",
    "# Load with simple caching\n",
    "if cache_file.exists():\n",
    "    print(f\"Loading SIAB data from cache: {cache_file}\")\n",
    "    siab = pd.read_csv(cache_file, compression='gzip')\n",
    "else:\n",
    "    print(f\"Cache not found. Reading raw SIAB data: {raw_file}\")\n",
    "    siab = pd.read_csv(raw_file)\n",
    "    siab.to_csv(cache_file, index=False, compression='gzip')\n",
    "    print(f\"Cached SIAB data to: {cache_file}\")\n",
    "\n",
    "# Now use `siab` DataFrame as needed\n",
    "print(siab.shape)"
   ]
  },
  {
   "cell_type": "code",
   "execution_count": 10,
   "id": "db0ca512-5f53-4dba-abdb-a2888bca41ba",
   "metadata": {
    "execution": {
     "iopub.execute_input": "2025-07-30T21:01:31.237945Z",
     "iopub.status.busy": "2025-07-30T21:01:31.237405Z",
     "iopub.status.idle": "2025-07-30T21:01:31.247974Z",
     "shell.execute_reply": "2025-07-30T21:01:31.247052Z"
    },
    "papermill": {
     "duration": 0.038047,
     "end_time": "2025-07-30T21:01:31.254293",
     "exception": false,
     "start_time": "2025-07-30T21:01:31.216246",
     "status": "completed"
    },
    "tags": []
   },
   "outputs": [],
   "source": [
    "#siab"
   ]
  },
  {
   "cell_type": "code",
   "execution_count": 11,
   "id": "a0edb063",
   "metadata": {
    "execution": {
     "iopub.execute_input": "2025-07-30T21:01:31.297719Z",
     "iopub.status.busy": "2025-07-30T21:01:31.297236Z",
     "iopub.status.idle": "2025-07-30T21:01:31.302097Z",
     "shell.execute_reply": "2025-07-30T21:01:31.301214Z"
    },
    "papermill": {
     "duration": 0.027261,
     "end_time": "2025-07-30T21:01:31.303558",
     "exception": false,
     "start_time": "2025-07-30T21:01:31.276297",
     "status": "completed"
    },
    "tags": []
   },
   "outputs": [],
   "source": [
    "#import pandas as pd\n",
    "#\n",
    "#X_train = pd.read_csv(\"./data/X_train.csv\")\n",
    "#y_train = pd.read_csv(\"./data/y_train.csv\")"
   ]
  },
  {
   "cell_type": "code",
   "execution_count": 12,
   "id": "63d08085",
   "metadata": {
    "execution": {
     "iopub.execute_input": "2025-07-30T21:01:31.346182Z",
     "iopub.status.busy": "2025-07-30T21:01:31.345819Z",
     "iopub.status.idle": "2025-07-30T21:01:31.349385Z",
     "shell.execute_reply": "2025-07-30T21:01:31.348735Z"
    },
    "papermill": {
     "duration": 0.026183,
     "end_time": "2025-07-30T21:01:31.350667",
     "exception": false,
     "start_time": "2025-07-30T21:01:31.324484",
     "status": "completed"
    },
    "tags": []
   },
   "outputs": [],
   "source": [
    "#X_test = pd.read_csv(\"./data/X_test.csv\")\n",
    "#y_true = pd.read_csv(\"./data/y_test.csv\")"
   ]
  },
  {
   "cell_type": "code",
   "execution_count": 13,
   "id": "98a8d0fa-1d3d-4ed8-bb2c-281470e24add",
   "metadata": {
    "execution": {
     "iopub.execute_input": "2025-07-30T21:01:31.389928Z",
     "iopub.status.busy": "2025-07-30T21:01:31.389531Z",
     "iopub.status.idle": "2025-07-30T21:01:31.394399Z",
     "shell.execute_reply": "2025-07-30T21:01:31.393464Z"
    },
    "papermill": {
     "duration": 0.029315,
     "end_time": "2025-07-30T21:01:31.396312",
     "exception": false,
     "start_time": "2025-07-30T21:01:31.366997",
     "status": "completed"
    },
    "tags": []
   },
   "outputs": [],
   "source": [
    "# Calibration data for conformal\n",
    "#X_calib = pd.read_csv(\"./data/X_calib.csv\")\n",
    "#y_calib = pd.read_csv(\"./data/y_calib.csv\")"
   ]
  },
  {
   "cell_type": "markdown",
   "id": "997051c5-15bd-4b69-9786-c3001a3ce484",
   "metadata": {
    "papermill": {
     "duration": 0.014234,
     "end_time": "2025-07-30T21:01:31.432656",
     "exception": false,
     "start_time": "2025-07-30T21:01:31.418422",
     "status": "completed"
    },
    "tags": []
   },
   "source": [
    "# Splitting Data and Setting Training Data Size"
   ]
  },
  {
   "cell_type": "code",
   "execution_count": 14,
   "id": "e993b61f-042d-41a6-8c81-f55681f86335",
   "metadata": {
    "execution": {
     "iopub.execute_input": "2025-07-30T21:01:31.455983Z",
     "iopub.status.busy": "2025-07-30T21:01:31.455433Z",
     "iopub.status.idle": "2025-07-30T21:01:31.465060Z",
     "shell.execute_reply": "2025-07-30T21:01:31.464340Z"
    },
    "papermill": {
     "duration": 0.023007,
     "end_time": "2025-07-30T21:01:31.466344",
     "exception": false,
     "start_time": "2025-07-30T21:01:31.443337",
     "status": "completed"
    },
    "tags": []
   },
   "outputs": [],
   "source": [
    "def sample_by_year_size(df,\n",
    "                        training_year: str,\n",
    "                        training_size: str,\n",
    "                        random_state: int = 42):\n",
    "    # --- parse training_year into a list of int years ---\n",
    "    if \"_\" in training_year:\n",
    "        start_str, end_str = training_year.split(\"_\", 1)\n",
    "        start = int(start_str)\n",
    "        end   = int(end_str) if len(end_str) == 4 else (int(end_str) + (start // 100)*100)\n",
    "        years = list(range(start, end + 1))\n",
    "    else:\n",
    "        years = [int(training_year)]\n",
    "\n",
    "    df = df[df[\"year\"].isin(years)].reset_index(drop=True)\n",
    "\n",
    "    # --- map training_size to total number of samples ---\n",
    "    total_map = {\"25k\": 25_000, \"5k\": 5_000, \"1k\": 1_000}\n",
    "    if training_size not in total_map:\n",
    "        return df  # e.g. \"all\"\n",
    "\n",
    "    total_samples = total_map[training_size]\n",
    "    n_years       = len(years)\n",
    "    base          = total_samples // n_years\n",
    "    remainder     = total_samples % n_years\n",
    "\n",
    "    # --- build a dict: year -> how many to sample ---\n",
    "    # give +1 to the first `remainder` years in ascending order\n",
    "    quotas = {\n",
    "        year: base + (1 if idx < remainder else 0)\n",
    "        for idx, year in enumerate(sorted(years))\n",
    "    }\n",
    "\n",
    "    # --- sample per‐year according to the quota dict ---\n",
    "    sampled = (\n",
    "        df\n",
    "        .groupby(\"year\", group_keys=False)\n",
    "        .apply(lambda grp: grp.sample(\n",
    "            n=min(len(grp), quotas[grp.name]),\n",
    "            random_state=random_state))\n",
    "        .reset_index(drop=True)\n",
    "    )\n",
    "\n",
    "    return sampled"
   ]
  },
  {
   "cell_type": "code",
   "execution_count": 15,
   "id": "c0ccd338-0e02-41f3-a09d-f56f9266e3fb",
   "metadata": {
    "execution": {
     "iopub.execute_input": "2025-07-30T21:01:31.490209Z",
     "iopub.status.busy": "2025-07-30T21:01:31.489702Z",
     "iopub.status.idle": "2025-07-30T21:01:31.494201Z",
     "shell.execute_reply": "2025-07-30T21:01:31.493474Z"
    },
    "papermill": {
     "duration": 0.01771,
     "end_time": "2025-07-30T21:01:31.495719",
     "exception": false,
     "start_time": "2025-07-30T21:01:31.478009",
     "status": "completed"
    },
    "tags": []
   },
   "outputs": [],
   "source": [
    "#universe[\"training_size\"]"
   ]
  },
  {
   "cell_type": "code",
   "execution_count": 16,
   "id": "ca707fd7-8047-4acd-bfa5-66248fbbf8e6",
   "metadata": {
    "execution": {
     "iopub.execute_input": "2025-07-30T21:01:31.518613Z",
     "iopub.status.busy": "2025-07-30T21:01:31.518301Z",
     "iopub.status.idle": "2025-07-30T21:01:31.522062Z",
     "shell.execute_reply": "2025-07-30T21:01:31.521395Z"
    },
    "papermill": {
     "duration": 0.016093,
     "end_time": "2025-07-30T21:01:31.523357",
     "exception": false,
     "start_time": "2025-07-30T21:01:31.507264",
     "status": "completed"
    },
    "tags": []
   },
   "outputs": [],
   "source": [
    "#universe[\"training_year\"]"
   ]
  },
  {
   "cell_type": "code",
   "execution_count": 17,
   "id": "aea9c6ef-6f46-42c8-85eb-5a62025c1508",
   "metadata": {
    "execution": {
     "iopub.execute_input": "2025-07-30T21:01:31.545746Z",
     "iopub.status.busy": "2025-07-30T21:01:31.545349Z",
     "iopub.status.idle": "2025-07-30T21:01:32.089083Z",
     "shell.execute_reply": "2025-07-30T21:01:32.088056Z"
    },
    "papermill": {
     "duration": 0.556245,
     "end_time": "2025-07-30T21:01:32.090565",
     "exception": false,
     "start_time": "2025-07-30T21:01:31.534320",
     "status": "completed"
    },
    "tags": []
   },
   "outputs": [],
   "source": [
    "siab_train = sample_by_year_size(siab,\n",
    "                               training_year=universe[\"training_year\"],\n",
    "                               training_size=universe[\"training_size\"])"
   ]
  },
  {
   "cell_type": "code",
   "execution_count": 18,
   "id": "8d3afb32-789d-442c-8d5d-9f5aa8dd2eed",
   "metadata": {
    "execution": {
     "iopub.execute_input": "2025-07-30T21:01:32.118826Z",
     "iopub.status.busy": "2025-07-30T21:01:32.118173Z",
     "iopub.status.idle": "2025-07-30T21:01:32.122426Z",
     "shell.execute_reply": "2025-07-30T21:01:32.121766Z"
    },
    "papermill": {
     "duration": 0.016795,
     "end_time": "2025-07-30T21:01:32.123715",
     "exception": false,
     "start_time": "2025-07-30T21:01:32.106920",
     "status": "completed"
    },
    "tags": []
   },
   "outputs": [],
   "source": [
    "#siab_train.shape"
   ]
  },
  {
   "cell_type": "code",
   "execution_count": 19,
   "id": "d582db68-1a4c-47fb-84fc-08518dc1975a",
   "metadata": {
    "execution": {
     "iopub.execute_input": "2025-07-30T21:01:32.146489Z",
     "iopub.status.busy": "2025-07-30T21:01:32.145807Z",
     "iopub.status.idle": "2025-07-30T21:01:32.149888Z",
     "shell.execute_reply": "2025-07-30T21:01:32.149244Z"
    },
    "papermill": {
     "duration": 0.016508,
     "end_time": "2025-07-30T21:01:32.151213",
     "exception": false,
     "start_time": "2025-07-30T21:01:32.134705",
     "status": "completed"
    },
    "tags": []
   },
   "outputs": [],
   "source": [
    "#display(siab_train.groupby(\"year\").size())"
   ]
  },
  {
   "cell_type": "code",
   "execution_count": 20,
   "id": "a561edb4-d032-42cb-8256-22eac1111c64",
   "metadata": {
    "execution": {
     "iopub.execute_input": "2025-07-30T21:01:32.174105Z",
     "iopub.status.busy": "2025-07-30T21:01:32.173590Z",
     "iopub.status.idle": "2025-07-30T21:01:32.382991Z",
     "shell.execute_reply": "2025-07-30T21:01:32.382243Z"
    },
    "papermill": {
     "duration": 0.22206,
     "end_time": "2025-07-30T21:01:32.384502",
     "exception": false,
     "start_time": "2025-07-30T21:01:32.162442",
     "status": "completed"
    },
    "tags": []
   },
   "outputs": [],
   "source": [
    "#siab_train = siab_s[siab_s.year < 2015]\n",
    "siab_calib = siab[siab.year == 2015]\n",
    "siab_test = siab[siab.year == 2016]"
   ]
  },
  {
   "cell_type": "code",
   "execution_count": 21,
   "id": "472de16f-c3db-4916-846b-1f0de9cf1746",
   "metadata": {
    "execution": {
     "iopub.execute_input": "2025-07-30T21:01:32.408199Z",
     "iopub.status.busy": "2025-07-30T21:01:32.407495Z",
     "iopub.status.idle": "2025-07-30T21:01:32.414951Z",
     "shell.execute_reply": "2025-07-30T21:01:32.414286Z"
    },
    "papermill": {
     "duration": 0.020037,
     "end_time": "2025-07-30T21:01:32.416222",
     "exception": false,
     "start_time": "2025-07-30T21:01:32.396185",
     "status": "completed"
    },
    "tags": []
   },
   "outputs": [],
   "source": [
    "X_train = siab_train.iloc[:,4:164]\n",
    "y_train = siab_train.iloc[:, [3]]"
   ]
  },
  {
   "cell_type": "code",
   "execution_count": 22,
   "id": "828c96af-f43a-4ed6-ba47-8ac73a47d56c",
   "metadata": {
    "execution": {
     "iopub.execute_input": "2025-07-30T21:01:32.439979Z",
     "iopub.status.busy": "2025-07-30T21:01:32.439281Z",
     "iopub.status.idle": "2025-07-30T21:01:32.485613Z",
     "shell.execute_reply": "2025-07-30T21:01:32.484801Z"
    },
    "papermill": {
     "duration": 0.059457,
     "end_time": "2025-07-30T21:01:32.487324",
     "exception": false,
     "start_time": "2025-07-30T21:01:32.427867",
     "status": "completed"
    },
    "tags": []
   },
   "outputs": [],
   "source": [
    "X_calib = siab_calib.iloc[:,4:164]\n",
    "y_calib = siab_calib.iloc[:, [3]]"
   ]
  },
  {
   "cell_type": "code",
   "execution_count": 23,
   "id": "c34be9c3-6bd6-476e-acd3-845840e303be",
   "metadata": {
    "execution": {
     "iopub.execute_input": "2025-07-30T21:01:32.510971Z",
     "iopub.status.busy": "2025-07-30T21:01:32.510647Z",
     "iopub.status.idle": "2025-07-30T21:01:32.557966Z",
     "shell.execute_reply": "2025-07-30T21:01:32.557073Z"
    },
    "papermill": {
     "duration": 0.060194,
     "end_time": "2025-07-30T21:01:32.559317",
     "exception": false,
     "start_time": "2025-07-30T21:01:32.499123",
     "status": "completed"
    },
    "tags": []
   },
   "outputs": [],
   "source": [
    "X_test = siab_test.iloc[:,4:164]\n",
    "y_true = siab_test.iloc[:, [3]]"
   ]
  },
  {
   "cell_type": "markdown",
   "id": "9901737e-04df-44f0-9100-f5ad144ed040",
   "metadata": {
    "papermill": {
     "duration": 0.010663,
     "end_time": "2025-07-30T21:01:32.581723",
     "exception": false,
     "start_time": "2025-07-30T21:01:32.571060",
     "status": "completed"
    },
    "tags": []
   },
   "source": [
    "# Splitting Data and Setting Training Data Size OLD VERSION"
   ]
  },
  {
   "cell_type": "code",
   "execution_count": 24,
   "id": "acbc8f7d-8fc8-4e86-8c59-5dcb0f58384b",
   "metadata": {
    "execution": {
     "iopub.execute_input": "2025-07-30T21:01:32.604445Z",
     "iopub.status.busy": "2025-07-30T21:01:32.604088Z",
     "iopub.status.idle": "2025-07-30T21:01:32.609220Z",
     "shell.execute_reply": "2025-07-30T21:01:32.608426Z"
    },
    "papermill": {
     "duration": 0.018029,
     "end_time": "2025-07-30T21:01:32.610534",
     "exception": false,
     "start_time": "2025-07-30T21:01:32.592505",
     "status": "completed"
    },
    "tags": []
   },
   "outputs": [],
   "source": [
    "#def sample_by_year(df, training_size, random_state=42):\n",
    "#    if training_size == \"2014\":\n",
    "#        return df[df[\"year\"] == 2014].reset_index(drop=True)\n",
    "#    \n",
    "#    size_map = {\n",
    "#        \"25k\": 5000,\n",
    "#        \"5k\": 1000,\n",
    "#        \"1k\": 200\n",
    "#    }\n",
    "#\n",
    "#    if training_size not in size_map:\n",
    "#        return df.reset_index(drop=True)  # use all data\n",
    "#\n",
    "#    n_per_year = size_map[training_size]\n",
    "#    grouped = df.groupby(\"year\")\n",
    "#    sampled = grouped.apply(lambda x: x.sample(n=min(n_per_year, len(x)), random_state=random_state))\n",
    "#    return sampled.reset_index(drop=True)"
   ]
  },
  {
   "cell_type": "code",
   "execution_count": 25,
   "id": "6d931f52-beaf-43ff-9e78-9d44a448d54e",
   "metadata": {
    "execution": {
     "iopub.execute_input": "2025-07-30T21:01:32.634144Z",
     "iopub.status.busy": "2025-07-30T21:01:32.633515Z",
     "iopub.status.idle": "2025-07-30T21:01:32.637940Z",
     "shell.execute_reply": "2025-07-30T21:01:32.637279Z"
    },
    "papermill": {
     "duration": 0.017364,
     "end_time": "2025-07-30T21:01:32.639270",
     "exception": false,
     "start_time": "2025-07-30T21:01:32.621906",
     "status": "completed"
    },
    "tags": []
   },
   "outputs": [],
   "source": [
    "#siab_s = sample_by_year(siab, universe[\"training_size\"])"
   ]
  },
  {
   "cell_type": "code",
   "execution_count": 26,
   "id": "5db0a40e-a4e2-4920-be85-b12ae061d70d",
   "metadata": {
    "execution": {
     "iopub.execute_input": "2025-07-30T21:01:32.662849Z",
     "iopub.status.busy": "2025-07-30T21:01:32.662365Z",
     "iopub.status.idle": "2025-07-30T21:01:32.666876Z",
     "shell.execute_reply": "2025-07-30T21:01:32.666175Z"
    },
    "papermill": {
     "duration": 0.017693,
     "end_time": "2025-07-30T21:01:32.668291",
     "exception": false,
     "start_time": "2025-07-30T21:01:32.650598",
     "status": "completed"
    },
    "tags": []
   },
   "outputs": [],
   "source": [
    "#display(siab_s.groupby(\"year\").size())"
   ]
  },
  {
   "cell_type": "code",
   "execution_count": 27,
   "id": "e6c733c5",
   "metadata": {
    "execution": {
     "iopub.execute_input": "2025-07-30T21:01:32.691758Z",
     "iopub.status.busy": "2025-07-30T21:01:32.691064Z",
     "iopub.status.idle": "2025-07-30T21:01:32.778907Z",
     "shell.execute_reply": "2025-07-30T21:01:32.778171Z"
    },
    "papermill": {
     "duration": 0.100868,
     "end_time": "2025-07-30T21:01:32.780443",
     "exception": false,
     "start_time": "2025-07-30T21:01:32.679575",
     "status": "completed"
    },
    "tags": []
   },
   "outputs": [],
   "source": [
    "# Auxiliary data needed downstream in the pipeline\n",
    "\n",
    "org_train = X_train.copy()\n",
    "org_test = X_test.copy()\n",
    "org_calib = X_calib.copy()"
   ]
  },
  {
   "cell_type": "code",
   "execution_count": 28,
   "id": "1466abac-c6da-4492-a62f-4240ae3783af",
   "metadata": {
    "execution": {
     "iopub.execute_input": "2025-07-30T21:01:32.804347Z",
     "iopub.status.busy": "2025-07-30T21:01:32.803634Z",
     "iopub.status.idle": "2025-07-30T21:01:32.808598Z",
     "shell.execute_reply": "2025-07-30T21:01:32.807913Z"
    },
    "papermill": {
     "duration": 0.017953,
     "end_time": "2025-07-30T21:01:32.809899",
     "exception": false,
     "start_time": "2025-07-30T21:01:32.791946",
     "status": "completed"
    },
    "tags": []
   },
   "outputs": [],
   "source": [
    "# put in other script?\n",
    "# Group sizes\n",
    "\n",
    "#def calculate_percentages(df, df_name):\n",
    "#    total_entries = len(df)\n",
    "#\n",
    "#    female_pct = (df['frau1'] == 1).mean() * 100\n",
    "#    non_german_pct = ((df['maxdeutsch1'] == 0) & (df['maxdeutsch.Missing.'] == 0)).mean() * 100\n",
    "#    non_german_male_pct = ((df['frau1'] == 0) & (df['maxdeutsch1'] == 0) & (df['maxdeutsch.Missing.'] == 0)).mean() * 100\n",
    "#    non_german_female_pct = ((df['frau1'] == 1) & (df['maxdeutsch1'] == 0) & (df['maxdeutsch.Missing.'] == 0)).mean() * 100\n",
    "#\n",
    "#    print(f\"--- {df_name} ---\")\n",
    "#    print(f\"Female: {female_pct:.2f}%\")\n",
    "#    print(f\"Non-German: {non_german_pct:.2f}%\")\n",
    "#    print(f\"Non-German Male: {non_german_male_pct:.2f}%\")\n",
    "#    print(f\"Non-German Female: {non_german_female_pct:.2f}%\\n\")\n",
    "#\n",
    "## Calculate for each DataFrame\n",
    "#calculate_percentages(siab_calib, \"siab_calib\")\n",
    "#calculate_percentages(siab_test, \"siab_test\")\n",
    "#calculate_percentages(siab_train, \"siab_train\")"
   ]
  },
  {
   "cell_type": "markdown",
   "id": "0a4a1b33",
   "metadata": {
    "papermill": {
     "duration": 0.010645,
     "end_time": "2025-07-30T21:01:32.832138",
     "exception": false,
     "start_time": "2025-07-30T21:01:32.821493",
     "status": "completed"
    },
    "tags": []
   },
   "source": [
    "# Preprocessing Data"
   ]
  },
  {
   "cell_type": "code",
   "execution_count": 29,
   "id": "ca879031",
   "metadata": {
    "execution": {
     "iopub.execute_input": "2025-07-30T21:01:32.855248Z",
     "iopub.status.busy": "2025-07-30T21:01:32.854739Z",
     "iopub.status.idle": "2025-07-30T21:01:32.859802Z",
     "shell.execute_reply": "2025-07-30T21:01:32.859098Z"
    },
    "papermill": {
     "duration": 0.018172,
     "end_time": "2025-07-30T21:01:32.861043",
     "exception": false,
     "start_time": "2025-07-30T21:01:32.842871",
     "status": "completed"
    },
    "tags": []
   },
   "outputs": [],
   "source": [
    "# EXCLUDE PROTECTED FEATURES\n",
    "# ----------------------\n",
    "# \"exclude_features\": \"none\", # \"nationality\", \"sex\", \"nationality-sex\"\n",
    "\n",
    "excluded_features = universe[\"exclude_features\"].split(\"-\") # split, e.g.: \"nationality-sex\" -> [\"nationality\", \"sex\"]\n",
    "excluded_features_dictionary = {\n",
    "    \"nationality\": [\"maxdeutsch1\", \"maxdeutsch.Missing.\"],\n",
    "    \"sex\": [\"frau1\"],\n",
    "    \"age\": [\"age\"],\n",
    "}\n"
   ]
  },
  {
   "cell_type": "code",
   "execution_count": 30,
   "id": "b745ac60",
   "metadata": {
    "execution": {
     "iopub.execute_input": "2025-07-30T21:01:32.884572Z",
     "iopub.status.busy": "2025-07-30T21:01:32.884199Z",
     "iopub.status.idle": "2025-07-30T21:01:32.889018Z",
     "shell.execute_reply": "2025-07-30T21:01:32.888347Z"
    },
    "papermill": {
     "duration": 0.017668,
     "end_time": "2025-07-30T21:01:32.890266",
     "exception": false,
     "start_time": "2025-07-30T21:01:32.872598",
     "status": "completed"
    },
    "tags": []
   },
   "outputs": [],
   "source": [
    "# Code nice names to column names\n",
    "\n",
    "excluded_features_columns = [\n",
    "    excluded_features_dictionary[f] for f in excluded_features if len(f) > 0 and f != \"none\"\n",
    "]"
   ]
  },
  {
   "cell_type": "code",
   "execution_count": 31,
   "id": "f84f73a2",
   "metadata": {
    "execution": {
     "iopub.execute_input": "2025-07-30T21:01:32.913977Z",
     "iopub.status.busy": "2025-07-30T21:01:32.913653Z",
     "iopub.status.idle": "2025-07-30T21:01:32.919061Z",
     "shell.execute_reply": "2025-07-30T21:01:32.918367Z"
    },
    "papermill": {
     "duration": 0.01846,
     "end_time": "2025-07-30T21:01:32.920377",
     "exception": false,
     "start_time": "2025-07-30T21:01:32.901917",
     "status": "completed"
    },
    "tags": []
   },
   "outputs": [],
   "source": [
    "from utils import flatten_once\n",
    "\n",
    "excluded_features_columns = flatten_once(excluded_features_columns)"
   ]
  },
  {
   "cell_type": "code",
   "execution_count": 32,
   "id": "884dea22",
   "metadata": {
    "execution": {
     "iopub.execute_input": "2025-07-30T21:01:32.947330Z",
     "iopub.status.busy": "2025-07-30T21:01:32.946891Z",
     "iopub.status.idle": "2025-07-30T21:01:32.955844Z",
     "shell.execute_reply": "2025-07-30T21:01:32.954792Z"
    },
    "papermill": {
     "duration": 0.026418,
     "end_time": "2025-07-30T21:01:32.958290",
     "exception": false,
     "start_time": "2025-07-30T21:01:32.931872",
     "status": "completed"
    },
    "tags": []
   },
   "outputs": [
    {
     "name": "stdout",
     "output_type": "stream",
     "text": [
      "Dropping features: ['age']\n"
     ]
    }
   ],
   "source": [
    "if len(excluded_features_columns) > 0:\n",
    "    print(f\"Dropping features: {excluded_features_columns}\")\n",
    "    X_train.drop(excluded_features_columns, axis=1, inplace=True)"
   ]
  },
  {
   "cell_type": "code",
   "execution_count": 33,
   "id": "95ab8b16",
   "metadata": {
    "execution": {
     "iopub.execute_input": "2025-07-30T21:01:33.003676Z",
     "iopub.status.busy": "2025-07-30T21:01:33.002862Z",
     "iopub.status.idle": "2025-07-30T21:01:33.059474Z",
     "shell.execute_reply": "2025-07-30T21:01:33.058087Z"
    },
    "papermill": {
     "duration": 0.079419,
     "end_time": "2025-07-30T21:01:33.061270",
     "exception": false,
     "start_time": "2025-07-30T21:01:32.981851",
     "status": "completed"
    },
    "tags": []
   },
   "outputs": [
    {
     "name": "stdout",
     "output_type": "stream",
     "text": [
      "Dropping features: ['age']\n"
     ]
    }
   ],
   "source": [
    "if len(excluded_features_columns) > 0:\n",
    "    print(f\"Dropping features: {excluded_features_columns}\")\n",
    "    X_test.drop(excluded_features_columns, axis=1, inplace=True)"
   ]
  },
  {
   "cell_type": "code",
   "execution_count": 34,
   "id": "1853aaf5-fb9f-46cb-a2b5-8ea4ae2237e4",
   "metadata": {
    "execution": {
     "iopub.execute_input": "2025-07-30T21:01:33.107419Z",
     "iopub.status.busy": "2025-07-30T21:01:33.106381Z",
     "iopub.status.idle": "2025-07-30T21:01:33.160764Z",
     "shell.execute_reply": "2025-07-30T21:01:33.159613Z"
    },
    "papermill": {
     "duration": 0.076937,
     "end_time": "2025-07-30T21:01:33.162499",
     "exception": false,
     "start_time": "2025-07-30T21:01:33.085562",
     "status": "completed"
    },
    "tags": []
   },
   "outputs": [
    {
     "name": "stdout",
     "output_type": "stream",
     "text": [
      "Dropping features: ['age']\n"
     ]
    }
   ],
   "source": [
    "if len(excluded_features_columns) > 0:\n",
    "    print(f\"Dropping features: {excluded_features_columns}\")\n",
    "    X_calib.drop(excluded_features_columns, axis=1, inplace=True)"
   ]
  },
  {
   "cell_type": "code",
   "execution_count": 35,
   "id": "6727d079-03e5-481e-9d38-292a90b7a0a8",
   "metadata": {
    "execution": {
     "iopub.execute_input": "2025-07-30T21:01:33.201990Z",
     "iopub.status.busy": "2025-07-30T21:01:33.201270Z",
     "iopub.status.idle": "2025-07-30T21:01:33.206558Z",
     "shell.execute_reply": "2025-07-30T21:01:33.205484Z"
    },
    "papermill": {
     "duration": 0.022755,
     "end_time": "2025-07-30T21:01:33.208808",
     "exception": false,
     "start_time": "2025-07-30T21:01:33.186053",
     "status": "completed"
    },
    "tags": []
   },
   "outputs": [],
   "source": [
    "# SPLIT & STRATIFY DATA\n",
    "# ----------------------"
   ]
  },
  {
   "cell_type": "code",
   "execution_count": 36,
   "id": "76c4dc6d",
   "metadata": {
    "execution": {
     "iopub.execute_input": "2025-07-30T21:01:33.254896Z",
     "iopub.status.busy": "2025-07-30T21:01:33.254403Z",
     "iopub.status.idle": "2025-07-30T21:01:33.259817Z",
     "shell.execute_reply": "2025-07-30T21:01:33.258868Z"
    },
    "papermill": {
     "duration": 0.029883,
     "end_time": "2025-07-30T21:01:33.261440",
     "exception": false,
     "start_time": "2025-07-30T21:01:33.231557",
     "status": "completed"
    },
    "tags": []
   },
   "outputs": [],
   "source": [
    "# EXCLUDE CERTAIN SUBGROUPS\n",
    "# ----------------------\n",
    "\n",
    "mode = universe.get(\"exclude_subgroups\", \"keep-all\") \n",
    "# Fetches the exclude_subgroups setting from the universe dict.\n",
    "# Defaults to \"keep-all\" if the key is missing."
   ]
  },
  {
   "cell_type": "code",
   "execution_count": 37,
   "id": "21994072",
   "metadata": {
    "execution": {
     "iopub.execute_input": "2025-07-30T21:01:33.309148Z",
     "iopub.status.busy": "2025-07-30T21:01:33.308713Z",
     "iopub.status.idle": "2025-07-30T21:01:33.315555Z",
     "shell.execute_reply": "2025-07-30T21:01:33.314716Z"
    },
    "papermill": {
     "duration": 0.031735,
     "end_time": "2025-07-30T21:01:33.317056",
     "exception": false,
     "start_time": "2025-07-30T21:01:33.285321",
     "status": "completed"
    },
    "tags": []
   },
   "outputs": [],
   "source": [
    "if mode == \"keep-all\":\n",
    "    keep_mask = pd.Series(True, index=org_train.index)\n",
    "\n",
    "# org_train contains the original feature columns from features_org (in Simson)\n",
    "# features_org contains unprocessed features, for me X_train at beginning ???\n",
    "# For keep-all, creates a boolean Series (keep_mask) of all True, so no rows are removed.\n",
    "\n",
    "elif mode == \"drop-non-german\":\n",
    "    keep_mask = org_train[\"maxdeutsch1\"] == 1 # ??? what about missing values?\n",
    "\n",
    "else:\n",
    "    raise ValueError(f\"Unsupported mode for exclude_subgroups: {mode}\")\n"
   ]
  },
  {
   "cell_type": "code",
   "execution_count": 38,
   "id": "71651440",
   "metadata": {
    "execution": {
     "iopub.execute_input": "2025-07-30T21:01:33.365352Z",
     "iopub.status.busy": "2025-07-30T21:01:33.364690Z",
     "iopub.status.idle": "2025-07-30T21:01:33.372695Z",
     "shell.execute_reply": "2025-07-30T21:01:33.371825Z"
    },
    "papermill": {
     "duration": 0.03404,
     "end_time": "2025-07-30T21:01:33.374266",
     "exception": false,
     "start_time": "2025-07-30T21:01:33.340226",
     "status": "completed"
    },
    "tags": []
   },
   "outputs": [
    {
     "name": "stdout",
     "output_type": "stream",
     "text": [
      "Dropping 665 rows (13.30%) where mode='drop-non-german'\n"
     ]
    }
   ],
   "source": [
    "n_drop = (~keep_mask).sum() # Calculates how many rows are set to be dropped\n",
    "if n_drop > 0:\n",
    "    pct = n_drop / len(keep_mask) * 100\n",
    "    print(f\"Dropping {n_drop} rows ({pct:.2f}%) where mode='{mode}'\")"
   ]
  },
  {
   "cell_type": "code",
   "execution_count": 39,
   "id": "5fb8eee5",
   "metadata": {
    "execution": {
     "iopub.execute_input": "2025-07-30T21:01:33.421849Z",
     "iopub.status.busy": "2025-07-30T21:01:33.421171Z",
     "iopub.status.idle": "2025-07-30T21:01:33.429099Z",
     "shell.execute_reply": "2025-07-30T21:01:33.428145Z"
    },
    "papermill": {
     "duration": 0.034149,
     "end_time": "2025-07-30T21:01:33.430846",
     "exception": false,
     "start_time": "2025-07-30T21:01:33.396697",
     "status": "completed"
    },
    "tags": []
   },
   "outputs": [],
   "source": [
    "X_train = X_train[keep_mask]"
   ]
  },
  {
   "cell_type": "code",
   "execution_count": 40,
   "id": "b202bb3a",
   "metadata": {
    "execution": {
     "iopub.execute_input": "2025-07-30T21:01:33.478829Z",
     "iopub.status.busy": "2025-07-30T21:01:33.478172Z",
     "iopub.status.idle": "2025-07-30T21:01:33.484463Z",
     "shell.execute_reply": "2025-07-30T21:01:33.483465Z"
    },
    "papermill": {
     "duration": 0.032119,
     "end_time": "2025-07-30T21:01:33.486283",
     "exception": false,
     "start_time": "2025-07-30T21:01:33.454164",
     "status": "completed"
    },
    "tags": []
   },
   "outputs": [],
   "source": [
    "y_train = y_train[keep_mask]"
   ]
  },
  {
   "cell_type": "markdown",
   "id": "493e2ac3",
   "metadata": {
    "papermill": {
     "duration": 0.022065,
     "end_time": "2025-07-30T21:01:33.532121",
     "exception": false,
     "start_time": "2025-07-30T21:01:33.510056",
     "status": "completed"
    },
    "tags": []
   },
   "source": [
    "# Model Training"
   ]
  },
  {
   "cell_type": "code",
   "execution_count": 41,
   "id": "679e1268",
   "metadata": {
    "execution": {
     "iopub.execute_input": "2025-07-30T21:01:33.580550Z",
     "iopub.status.busy": "2025-07-30T21:01:33.579881Z",
     "iopub.status.idle": "2025-07-30T21:01:33.688252Z",
     "shell.execute_reply": "2025-07-30T21:01:33.687274Z"
    },
    "papermill": {
     "duration": 0.134644,
     "end_time": "2025-07-30T21:01:33.690282",
     "exception": false,
     "start_time": "2025-07-30T21:01:33.555638",
     "status": "completed"
    },
    "tags": []
   },
   "outputs": [],
   "source": [
    "from sklearn.linear_model import LogisticRegression\n",
    "from sklearn.ensemble import GradientBoostingClassifier, RandomForestClassifier\n",
    "\n",
    "if (universe[\"model\"] == \"logreg\"):\n",
    "    model = LogisticRegression() #penalty=\"none\") #, solver=\"newton-cg\", max_iter=1) # include random_state=19 ?\n",
    "elif (universe[\"model\"] == \"penalized_logreg\"):\n",
    "    model = LogisticRegression(penalty=\"l2\", C=1.0) #, solver=\"newton-cg\", max_iter=1)\n",
    "elif (universe[\"model\"] == \"rf\"):\n",
    "    model = RandomForestClassifier(n_estimators=100, n_jobs=-1)\n",
    "elif (universe[\"model\"] == \"gbm\"):\n",
    "    model = GradientBoostingClassifier()\n",
    "elif (universe[\"model\"] == \"elasticnet\"):\n",
    "    model = LogisticRegression(penalty = 'elasticnet', solver = 'saga', l1_ratio = 0.5, max_iter=5000) # which solver to use?\n",
    "else:\n",
    "    raise \"Unsupported universe.model\""
   ]
  },
  {
   "cell_type": "code",
   "execution_count": 42,
   "id": "0cc8f744",
   "metadata": {
    "execution": {
     "iopub.execute_input": "2025-07-30T21:01:33.738370Z",
     "iopub.status.busy": "2025-07-30T21:01:33.737344Z",
     "iopub.status.idle": "2025-07-30T21:01:33.743972Z",
     "shell.execute_reply": "2025-07-30T21:01:33.743017Z"
    },
    "papermill": {
     "duration": 0.031895,
     "end_time": "2025-07-30T21:01:33.745785",
     "exception": false,
     "start_time": "2025-07-30T21:01:33.713890",
     "status": "completed"
    },
    "tags": []
   },
   "outputs": [],
   "source": [
    "import numpy as np\n",
    "from sklearn.pipeline import Pipeline\n",
    "from sklearn.preprocessing import StandardScaler\n",
    "\n",
    "model = Pipeline([\n",
    "    #(\"continuous_processor\", continuous_processor),\n",
    "    #(\"categorical_preprocessor\", categorical_preprocessor),\n",
    "    (\"scale\", StandardScaler() if universe[\"scale\"] == \"scale\" else None), \n",
    "    (\"model\", model),\n",
    "])"
   ]
  },
  {
   "cell_type": "code",
   "execution_count": 43,
   "id": "9442c04d",
   "metadata": {
    "execution": {
     "iopub.execute_input": "2025-07-30T21:01:33.794357Z",
     "iopub.status.busy": "2025-07-30T21:01:33.793556Z",
     "iopub.status.idle": "2025-07-30T21:01:38.309223Z",
     "shell.execute_reply": "2025-07-30T21:01:38.307834Z"
    },
    "papermill": {
     "duration": 4.552101,
     "end_time": "2025-07-30T21:01:38.322003",
     "exception": false,
     "start_time": "2025-07-30T21:01:33.769902",
     "status": "completed"
    },
    "tags": []
   },
   "outputs": [
    {
     "data": {
      "text/html": [
       "<style>#sk-container-id-1 {color: black;background-color: white;}#sk-container-id-1 pre{padding: 0;}#sk-container-id-1 div.sk-toggleable {background-color: white;}#sk-container-id-1 label.sk-toggleable__label {cursor: pointer;display: block;width: 100%;margin-bottom: 0;padding: 0.3em;box-sizing: border-box;text-align: center;}#sk-container-id-1 label.sk-toggleable__label-arrow:before {content: \"▸\";float: left;margin-right: 0.25em;color: #696969;}#sk-container-id-1 label.sk-toggleable__label-arrow:hover:before {color: black;}#sk-container-id-1 div.sk-estimator:hover label.sk-toggleable__label-arrow:before {color: black;}#sk-container-id-1 div.sk-toggleable__content {max-height: 0;max-width: 0;overflow: hidden;text-align: left;background-color: #f0f8ff;}#sk-container-id-1 div.sk-toggleable__content pre {margin: 0.2em;color: black;border-radius: 0.25em;background-color: #f0f8ff;}#sk-container-id-1 input.sk-toggleable__control:checked~div.sk-toggleable__content {max-height: 200px;max-width: 100%;overflow: auto;}#sk-container-id-1 input.sk-toggleable__control:checked~label.sk-toggleable__label-arrow:before {content: \"▾\";}#sk-container-id-1 div.sk-estimator input.sk-toggleable__control:checked~label.sk-toggleable__label {background-color: #d4ebff;}#sk-container-id-1 div.sk-label input.sk-toggleable__control:checked~label.sk-toggleable__label {background-color: #d4ebff;}#sk-container-id-1 input.sk-hidden--visually {border: 0;clip: rect(1px 1px 1px 1px);clip: rect(1px, 1px, 1px, 1px);height: 1px;margin: -1px;overflow: hidden;padding: 0;position: absolute;width: 1px;}#sk-container-id-1 div.sk-estimator {font-family: monospace;background-color: #f0f8ff;border: 1px dotted black;border-radius: 0.25em;box-sizing: border-box;margin-bottom: 0.5em;}#sk-container-id-1 div.sk-estimator:hover {background-color: #d4ebff;}#sk-container-id-1 div.sk-parallel-item::after {content: \"\";width: 100%;border-bottom: 1px solid gray;flex-grow: 1;}#sk-container-id-1 div.sk-label:hover label.sk-toggleable__label {background-color: #d4ebff;}#sk-container-id-1 div.sk-serial::before {content: \"\";position: absolute;border-left: 1px solid gray;box-sizing: border-box;top: 0;bottom: 0;left: 50%;z-index: 0;}#sk-container-id-1 div.sk-serial {display: flex;flex-direction: column;align-items: center;background-color: white;padding-right: 0.2em;padding-left: 0.2em;position: relative;}#sk-container-id-1 div.sk-item {position: relative;z-index: 1;}#sk-container-id-1 div.sk-parallel {display: flex;align-items: stretch;justify-content: center;background-color: white;position: relative;}#sk-container-id-1 div.sk-item::before, #sk-container-id-1 div.sk-parallel-item::before {content: \"\";position: absolute;border-left: 1px solid gray;box-sizing: border-box;top: 0;bottom: 0;left: 50%;z-index: -1;}#sk-container-id-1 div.sk-parallel-item {display: flex;flex-direction: column;z-index: 1;position: relative;background-color: white;}#sk-container-id-1 div.sk-parallel-item:first-child::after {align-self: flex-end;width: 50%;}#sk-container-id-1 div.sk-parallel-item:last-child::after {align-self: flex-start;width: 50%;}#sk-container-id-1 div.sk-parallel-item:only-child::after {width: 0;}#sk-container-id-1 div.sk-dashed-wrapped {border: 1px dashed gray;margin: 0 0.4em 0.5em 0.4em;box-sizing: border-box;padding-bottom: 0.4em;background-color: white;}#sk-container-id-1 div.sk-label label {font-family: monospace;font-weight: bold;display: inline-block;line-height: 1.2em;}#sk-container-id-1 div.sk-label-container {text-align: center;}#sk-container-id-1 div.sk-container {/* jupyter's `normalize.less` sets `[hidden] { display: none; }` but bootstrap.min.css set `[hidden] { display: none !important; }` so we also need the `!important` here to be able to override the default hidden behavior on the sphinx rendered scikit-learn.org. See: https://github.com/scikit-learn/scikit-learn/issues/21755 */display: inline-block !important;position: relative;}#sk-container-id-1 div.sk-text-repr-fallback {display: none;}</style><div id=\"sk-container-id-1\" class=\"sk-top-container\"><div class=\"sk-text-repr-fallback\"><pre>Pipeline(steps=[(&#x27;scale&#x27;, StandardScaler()),\n",
       "                (&#x27;model&#x27;, GradientBoostingClassifier())])</pre><b>In a Jupyter environment, please rerun this cell to show the HTML representation or trust the notebook. <br />On GitHub, the HTML representation is unable to render, please try loading this page with nbviewer.org.</b></div><div class=\"sk-container\" hidden><div class=\"sk-item sk-dashed-wrapped\"><div class=\"sk-label-container\"><div class=\"sk-label sk-toggleable\"><input class=\"sk-toggleable__control sk-hidden--visually\" id=\"sk-estimator-id-1\" type=\"checkbox\" ><label for=\"sk-estimator-id-1\" class=\"sk-toggleable__label sk-toggleable__label-arrow\">Pipeline</label><div class=\"sk-toggleable__content\"><pre>Pipeline(steps=[(&#x27;scale&#x27;, StandardScaler()),\n",
       "                (&#x27;model&#x27;, GradientBoostingClassifier())])</pre></div></div></div><div class=\"sk-serial\"><div class=\"sk-item\"><div class=\"sk-estimator sk-toggleable\"><input class=\"sk-toggleable__control sk-hidden--visually\" id=\"sk-estimator-id-2\" type=\"checkbox\" ><label for=\"sk-estimator-id-2\" class=\"sk-toggleable__label sk-toggleable__label-arrow\">StandardScaler</label><div class=\"sk-toggleable__content\"><pre>StandardScaler()</pre></div></div></div><div class=\"sk-item\"><div class=\"sk-estimator sk-toggleable\"><input class=\"sk-toggleable__control sk-hidden--visually\" id=\"sk-estimator-id-3\" type=\"checkbox\" ><label for=\"sk-estimator-id-3\" class=\"sk-toggleable__label sk-toggleable__label-arrow\">GradientBoostingClassifier</label><div class=\"sk-toggleable__content\"><pre>GradientBoostingClassifier()</pre></div></div></div></div></div></div></div>"
      ],
      "text/plain": [
       "Pipeline(steps=[('scale', StandardScaler()),\n",
       "                ('model', GradientBoostingClassifier())])"
      ]
     },
     "execution_count": 43,
     "metadata": {},
     "output_type": "execute_result"
    }
   ],
   "source": [
    "model.fit(X_train, y_train.values.ravel())"
   ]
  },
  {
   "cell_type": "code",
   "execution_count": 44,
   "id": "af59f8c0",
   "metadata": {
    "execution": {
     "iopub.execute_input": "2025-07-30T21:01:38.379301Z",
     "iopub.status.busy": "2025-07-30T21:01:38.378813Z",
     "iopub.status.idle": "2025-07-30T21:01:38.392843Z",
     "shell.execute_reply": "2025-07-30T21:01:38.383275Z"
    },
    "papermill": {
     "duration": 0.040796,
     "end_time": "2025-07-30T21:01:38.394461",
     "exception": false,
     "start_time": "2025-07-30T21:01:38.353665",
     "status": "completed"
    },
    "tags": []
   },
   "outputs": [],
   "source": [
    "from fairness_multiverse.universe import predict_w_threshold"
   ]
  },
  {
   "cell_type": "code",
   "execution_count": 45,
   "id": "a7cf2e16",
   "metadata": {
    "execution": {
     "iopub.execute_input": "2025-07-30T21:01:38.421011Z",
     "iopub.status.busy": "2025-07-30T21:01:38.420501Z",
     "iopub.status.idle": "2025-07-30T21:01:39.080452Z",
     "shell.execute_reply": "2025-07-30T21:01:39.079450Z"
    },
    "papermill": {
     "duration": 0.674895,
     "end_time": "2025-07-30T21:01:39.081964",
     "exception": false,
     "start_time": "2025-07-30T21:01:38.407069",
     "status": "completed"
    },
    "tags": []
   },
   "outputs": [
    {
     "data": {
      "text/plain": [
       "0.859636606844276"
      ]
     },
     "execution_count": 45,
     "metadata": {},
     "output_type": "execute_result"
    }
   ],
   "source": [
    "probs_test = model.predict_proba(X_test)\n",
    "\n",
    "'''\n",
    "Below code returns a boolean array (or binary 0/1 array depending on how it’s used) where each element \n",
    "is True if the probability of class 1 is greater than or equal to the threshold, and False otherwise.\n",
    "'''\n",
    "y_pred_default = predict_w_threshold(probs_test, 0.5)\n",
    "\n",
    "from sklearn.metrics import accuracy_score\n",
    "\n",
    "# Naive prediction\n",
    "accuracy_score(y_true = y_true, y_pred = y_pred_default)"
   ]
  },
  {
   "cell_type": "code",
   "execution_count": 46,
   "id": "081964c3",
   "metadata": {
    "execution": {
     "iopub.execute_input": "2025-07-30T21:01:39.131708Z",
     "iopub.status.busy": "2025-07-30T21:01:39.131105Z",
     "iopub.status.idle": "2025-07-30T21:01:39.845962Z",
     "shell.execute_reply": "2025-07-30T21:01:39.845150Z"
    },
    "papermill": {
     "duration": 0.739005,
     "end_time": "2025-07-30T21:01:39.847469",
     "exception": false,
     "start_time": "2025-07-30T21:01:39.108464",
     "status": "completed"
    },
    "tags": []
   },
   "outputs": [
    {
     "data": {
      "text/plain": [
       "array([0, 0, 0, ..., 0, 0, 0])"
      ]
     },
     "execution_count": 46,
     "metadata": {},
     "output_type": "execute_result"
    }
   ],
   "source": [
    "model.predict(X_test)"
   ]
  },
  {
   "cell_type": "markdown",
   "id": "56c9705b",
   "metadata": {
    "papermill": {
     "duration": 0.021265,
     "end_time": "2025-07-30T21:01:39.890835",
     "exception": false,
     "start_time": "2025-07-30T21:01:39.869570",
     "status": "completed"
    },
    "tags": []
   },
   "source": [
    "# Conformal Prediction"
   ]
  },
  {
   "cell_type": "code",
   "execution_count": 47,
   "id": "160ec6ff",
   "metadata": {
    "execution": {
     "iopub.execute_input": "2025-07-30T21:01:39.935870Z",
     "iopub.status.busy": "2025-07-30T21:01:39.935230Z",
     "iopub.status.idle": "2025-07-30T21:01:39.940594Z",
     "shell.execute_reply": "2025-07-30T21:01:39.939685Z"
    },
    "papermill": {
     "duration": 0.029915,
     "end_time": "2025-07-30T21:01:39.942080",
     "exception": false,
     "start_time": "2025-07-30T21:01:39.912165",
     "status": "completed"
    },
    "tags": []
   },
   "outputs": [],
   "source": [
    "# Miscoverage level for conformal prediction (10% allowed error rate => 90% target coverage)\n",
    "alpha = 0.1"
   ]
  },
  {
   "cell_type": "code",
   "execution_count": 48,
   "id": "eadf4555-3dd3-440e-8e35-f82a4ad9f855",
   "metadata": {
    "execution": {
     "iopub.execute_input": "2025-07-30T21:01:39.987857Z",
     "iopub.status.busy": "2025-07-30T21:01:39.986994Z",
     "iopub.status.idle": "2025-07-30T21:01:40.616156Z",
     "shell.execute_reply": "2025-07-30T21:01:40.615132Z"
    },
    "papermill": {
     "duration": 0.653734,
     "end_time": "2025-07-30T21:01:40.618050",
     "exception": false,
     "start_time": "2025-07-30T21:01:39.964316",
     "status": "completed"
    },
    "tags": []
   },
   "outputs": [],
   "source": [
    "probs_calib = model.predict_proba(X_calib)"
   ]
  },
  {
   "cell_type": "code",
   "execution_count": 49,
   "id": "2ed93547-6d5d-4983-9b36-1ecb300da49a",
   "metadata": {
    "execution": {
     "iopub.execute_input": "2025-07-30T21:01:40.664048Z",
     "iopub.status.busy": "2025-07-30T21:01:40.663276Z",
     "iopub.status.idle": "2025-07-30T21:01:40.668758Z",
     "shell.execute_reply": "2025-07-30T21:01:40.667913Z"
    },
    "papermill": {
     "duration": 0.029538,
     "end_time": "2025-07-30T21:01:40.670306",
     "exception": false,
     "start_time": "2025-07-30T21:01:40.640768",
     "status": "completed"
    },
    "tags": []
   },
   "outputs": [],
   "source": [
    "y_calib = y_calib.values.ravel().astype(int)"
   ]
  },
  {
   "cell_type": "code",
   "execution_count": 50,
   "id": "65d1320d-f588-4b38-9072-62af1ae97f7d",
   "metadata": {
    "execution": {
     "iopub.execute_input": "2025-07-30T21:01:40.715663Z",
     "iopub.status.busy": "2025-07-30T21:01:40.714895Z",
     "iopub.status.idle": "2025-07-30T21:01:40.721493Z",
     "shell.execute_reply": "2025-07-30T21:01:40.720567Z"
    },
    "papermill": {
     "duration": 0.030705,
     "end_time": "2025-07-30T21:01:40.722982",
     "exception": false,
     "start_time": "2025-07-30T21:01:40.692277",
     "status": "completed"
    },
    "tags": []
   },
   "outputs": [],
   "source": [
    "from fairness_multiverse.conformal import compute_nc_scores\n",
    "\n",
    "# Compute nonconformity scores on calibration set (1 - probability of true class)\n",
    "nc_scores = compute_nc_scores(probs_calib, y_calib)"
   ]
  },
  {
   "cell_type": "code",
   "execution_count": 51,
   "id": "df3b8ca3-53b7-43d5-9667-7c85da7aeda2",
   "metadata": {
    "execution": {
     "iopub.execute_input": "2025-07-30T21:01:40.773322Z",
     "iopub.status.busy": "2025-07-30T21:01:40.772966Z",
     "iopub.status.idle": "2025-07-30T21:01:40.779008Z",
     "shell.execute_reply": "2025-07-30T21:01:40.778159Z"
    },
    "papermill": {
     "duration": 0.032245,
     "end_time": "2025-07-30T21:01:40.780505",
     "exception": false,
     "start_time": "2025-07-30T21:01:40.748260",
     "status": "completed"
    },
    "tags": []
   },
   "outputs": [],
   "source": [
    "from fairness_multiverse.conformal import find_threshold\n",
    "\n",
    "# Find conformal threshold q_hat for the given alpha (split conformal method)\n",
    "q_hat = find_threshold(nc_scores, alpha)"
   ]
  },
  {
   "cell_type": "code",
   "execution_count": 52,
   "id": "4d29e6c1-0ef6-4aa4-b8fe-4fe79b0d033a",
   "metadata": {
    "execution": {
     "iopub.execute_input": "2025-07-30T21:01:40.826858Z",
     "iopub.status.busy": "2025-07-30T21:01:40.826008Z",
     "iopub.status.idle": "2025-07-30T21:01:40.832820Z",
     "shell.execute_reply": "2025-07-30T21:01:40.831807Z"
    },
    "papermill": {
     "duration": 0.031075,
     "end_time": "2025-07-30T21:01:40.834421",
     "exception": false,
     "start_time": "2025-07-30T21:01:40.803346",
     "status": "completed"
    },
    "tags": []
   },
   "outputs": [
    {
     "data": {
      "text/plain": [
       "0.7189089942717748"
      ]
     },
     "execution_count": 52,
     "metadata": {},
     "output_type": "execute_result"
    }
   ],
   "source": [
    "q_hat"
   ]
  },
  {
   "cell_type": "code",
   "execution_count": 53,
   "id": "92460794-cdac-4be2-ba28-f28c0515a6fb",
   "metadata": {
    "execution": {
     "iopub.execute_input": "2025-07-30T21:01:40.880980Z",
     "iopub.status.busy": "2025-07-30T21:01:40.880239Z",
     "iopub.status.idle": "2025-07-30T21:01:42.332703Z",
     "shell.execute_reply": "2025-07-30T21:01:42.331687Z"
    },
    "papermill": {
     "duration": 1.477679,
     "end_time": "2025-07-30T21:01:42.334610",
     "exception": false,
     "start_time": "2025-07-30T21:01:40.856931",
     "status": "completed"
    },
    "tags": []
   },
   "outputs": [],
   "source": [
    "from fairness_multiverse.conformal import predict_conformal_sets\n",
    "\n",
    "# Generate prediction sets for each test example\n",
    "pred_sets = predict_conformal_sets(model, X_test, q_hat)"
   ]
  },
  {
   "cell_type": "code",
   "execution_count": 54,
   "id": "d90c9a65-e6db-4f5d-80cd-e68fb7e46829",
   "metadata": {
    "execution": {
     "iopub.execute_input": "2025-07-30T21:01:42.384747Z",
     "iopub.status.busy": "2025-07-30T21:01:42.384317Z",
     "iopub.status.idle": "2025-07-30T21:01:42.389661Z",
     "shell.execute_reply": "2025-07-30T21:01:42.388916Z"
    },
    "papermill": {
     "duration": 0.029725,
     "end_time": "2025-07-30T21:01:42.390823",
     "exception": false,
     "start_time": "2025-07-30T21:01:42.361098",
     "status": "completed"
    },
    "tags": []
   },
   "outputs": [],
   "source": [
    "y_true = y_true.squeeze()"
   ]
  },
  {
   "cell_type": "code",
   "execution_count": 55,
   "id": "3a58a54a-1e68-46b9-927a-df01f18aebc8",
   "metadata": {
    "execution": {
     "iopub.execute_input": "2025-07-30T21:01:42.436489Z",
     "iopub.status.busy": "2025-07-30T21:01:42.436113Z",
     "iopub.status.idle": "2025-07-30T21:01:43.354365Z",
     "shell.execute_reply": "2025-07-30T21:01:43.352675Z"
    },
    "papermill": {
     "duration": 0.938707,
     "end_time": "2025-07-30T21:01:43.356140",
     "exception": false,
     "start_time": "2025-07-30T21:01:42.417433",
     "status": "completed"
    },
    "tags": []
   },
   "outputs": [],
   "source": [
    "from fairness_multiverse.conformal import evaluate_sets\n",
    "\n",
    "# Evaluate coverage and average set size on test data\n",
    "metrics = evaluate_sets(pred_sets, y_true)"
   ]
  },
  {
   "cell_type": "markdown",
   "id": "2b569c12-9aaa-4c88-98c9-bbcd0cf3ebb8",
   "metadata": {
    "papermill": {
     "duration": 0.013336,
     "end_time": "2025-07-30T21:01:43.385539",
     "exception": false,
     "start_time": "2025-07-30T21:01:43.372203",
     "status": "completed"
    },
    "tags": []
   },
   "source": [
    "# CP Metrics"
   ]
  },
  {
   "cell_type": "code",
   "execution_count": 56,
   "id": "5ce0a5cb-201f-45a0-ade5-94c7f0bd6095",
   "metadata": {
    "execution": {
     "iopub.execute_input": "2025-07-30T21:01:43.429908Z",
     "iopub.status.busy": "2025-07-30T21:01:43.429405Z",
     "iopub.status.idle": "2025-07-30T21:01:43.436960Z",
     "shell.execute_reply": "2025-07-30T21:01:43.435892Z"
    },
    "papermill": {
     "duration": 0.034852,
     "end_time": "2025-07-30T21:01:43.439014",
     "exception": false,
     "start_time": "2025-07-30T21:01:43.404162",
     "status": "completed"
    },
    "tags": []
   },
   "outputs": [
    {
     "data": {
      "text/plain": [
       "{'coverage': 0.9102218258834021, 'avg_size': 1.1382343105562367}"
      ]
     },
     "execution_count": 56,
     "metadata": {},
     "output_type": "execute_result"
    }
   ],
   "source": [
    "metrics"
   ]
  },
  {
   "cell_type": "code",
   "execution_count": 57,
   "id": "9b9a838d-31c9-430b-ae14-12baee460d17",
   "metadata": {
    "execution": {
     "iopub.execute_input": "2025-07-30T21:01:43.508636Z",
     "iopub.status.busy": "2025-07-30T21:01:43.507863Z",
     "iopub.status.idle": "2025-07-30T21:01:43.515860Z",
     "shell.execute_reply": "2025-07-30T21:01:43.514889Z"
    },
    "papermill": {
     "duration": 0.044994,
     "end_time": "2025-07-30T21:01:43.517683",
     "exception": false,
     "start_time": "2025-07-30T21:01:43.472689",
     "status": "completed"
    },
    "tags": []
   },
   "outputs": [],
   "source": [
    "example_universe = universe.copy()\n",
    "universe_training_year = example_universe.get(\"training_year\")\n",
    "universe_training_size = example_universe.get(\"training_size\")\n",
    "universe_scale = example_universe.get(\"scale\")\n",
    "universe_model = example_universe.get(\"model\")\n",
    "universe_exclude_features = example_universe.get(\"exclude_features\")\n",
    "universe_exclude_subgroups = example_universe.get(\"exclude_subgroups\")"
   ]
  },
  {
   "cell_type": "code",
   "execution_count": 58,
   "id": "f4b6a8ac-9dc0-4245-8a91-5b3b5999c4f9",
   "metadata": {
    "execution": {
     "iopub.execute_input": "2025-07-30T21:01:43.568713Z",
     "iopub.status.busy": "2025-07-30T21:01:43.568013Z",
     "iopub.status.idle": "2025-07-30T21:01:43.574610Z",
     "shell.execute_reply": "2025-07-30T21:01:43.573731Z"
    },
    "papermill": {
     "duration": 0.033618,
     "end_time": "2025-07-30T21:01:43.576204",
     "exception": false,
     "start_time": "2025-07-30T21:01:43.542586",
     "status": "completed"
    },
    "tags": []
   },
   "outputs": [],
   "source": [
    "cp_metrics_dict = {\n",
    "    \"universe_id\": [universe_id],\n",
    "    \"universe_training_year\": [universe_training_year],\n",
    "    \"universe_training_size\": [universe_training_size],\n",
    "    \"universe_scale\": [universe_scale],\n",
    "    \"universe_model\": [universe_model],\n",
    "    \"universe_exclude_features\": [universe_exclude_features],\n",
    "    \"universe_exclude_subgroups\": [universe_exclude_subgroups],\n",
    "    \"q_hat\": [q_hat],\n",
    "    \"coverage\": [metrics[\"coverage\"]],\n",
    "    \"avg_size\": [metrics[\"avg_size\"]],\n",
    "}"
   ]
  },
  {
   "cell_type": "code",
   "execution_count": 59,
   "id": "908acbb1-0371-4915-85ca-3fa520d2efe2",
   "metadata": {
    "execution": {
     "iopub.execute_input": "2025-07-30T21:01:43.626884Z",
     "iopub.status.busy": "2025-07-30T21:01:43.626007Z",
     "iopub.status.idle": "2025-07-30T21:01:43.633404Z",
     "shell.execute_reply": "2025-07-30T21:01:43.632540Z"
    },
    "papermill": {
     "duration": 0.034173,
     "end_time": "2025-07-30T21:01:43.634945",
     "exception": false,
     "start_time": "2025-07-30T21:01:43.600772",
     "status": "completed"
    },
    "tags": []
   },
   "outputs": [
    {
     "data": {
      "text/plain": [
       "{'universe_id': ['ed13d9051032154f7853ed7af847fdec'],\n",
       " 'universe_training_year': ['2012_14'],\n",
       " 'universe_training_size': ['5k'],\n",
       " 'universe_scale': ['scale'],\n",
       " 'universe_model': ['gbm'],\n",
       " 'universe_exclude_features': ['age'],\n",
       " 'universe_exclude_subgroups': ['drop-non-german'],\n",
       " 'q_hat': [0.7189089942717748],\n",
       " 'coverage': [0.9102218258834021],\n",
       " 'avg_size': [1.1382343105562367]}"
      ]
     },
     "execution_count": 59,
     "metadata": {},
     "output_type": "execute_result"
    }
   ],
   "source": [
    "cp_metrics_dict"
   ]
  },
  {
   "cell_type": "code",
   "execution_count": 60,
   "id": "33007efc-14e9-4ec6-97ac-56a455c82265",
   "metadata": {
    "execution": {
     "iopub.execute_input": "2025-07-30T21:01:43.685327Z",
     "iopub.status.busy": "2025-07-30T21:01:43.684359Z",
     "iopub.status.idle": "2025-07-30T21:01:43.690927Z",
     "shell.execute_reply": "2025-07-30T21:01:43.689910Z"
    },
    "papermill": {
     "duration": 0.034233,
     "end_time": "2025-07-30T21:01:43.693280",
     "exception": false,
     "start_time": "2025-07-30T21:01:43.659047",
     "status": "completed"
    },
    "tags": []
   },
   "outputs": [],
   "source": [
    "cp_metrics_df = pd.DataFrame(cp_metrics_dict)"
   ]
  },
  {
   "cell_type": "code",
   "execution_count": 61,
   "id": "db12611b-57b2-4910-b9d0-355adfd6e7bf",
   "metadata": {
    "execution": {
     "iopub.execute_input": "2025-07-30T21:01:43.761013Z",
     "iopub.status.busy": "2025-07-30T21:01:43.760251Z",
     "iopub.status.idle": "2025-07-30T21:01:43.784456Z",
     "shell.execute_reply": "2025-07-30T21:01:43.783326Z"
    },
    "papermill": {
     "duration": 0.057325,
     "end_time": "2025-07-30T21:01:43.786227",
     "exception": false,
     "start_time": "2025-07-30T21:01:43.728902",
     "status": "completed"
    },
    "tags": []
   },
   "outputs": [
    {
     "data": {
      "text/html": [
       "<div>\n",
       "<style scoped>\n",
       "    .dataframe tbody tr th:only-of-type {\n",
       "        vertical-align: middle;\n",
       "    }\n",
       "\n",
       "    .dataframe tbody tr th {\n",
       "        vertical-align: top;\n",
       "    }\n",
       "\n",
       "    .dataframe thead th {\n",
       "        text-align: right;\n",
       "    }\n",
       "</style>\n",
       "<table border=\"1\" class=\"dataframe\">\n",
       "  <thead>\n",
       "    <tr style=\"text-align: right;\">\n",
       "      <th></th>\n",
       "      <th>universe_id</th>\n",
       "      <th>universe_training_year</th>\n",
       "      <th>universe_training_size</th>\n",
       "      <th>universe_scale</th>\n",
       "      <th>universe_model</th>\n",
       "      <th>universe_exclude_features</th>\n",
       "      <th>universe_exclude_subgroups</th>\n",
       "      <th>q_hat</th>\n",
       "      <th>coverage</th>\n",
       "      <th>avg_size</th>\n",
       "    </tr>\n",
       "  </thead>\n",
       "  <tbody>\n",
       "    <tr>\n",
       "      <th>0</th>\n",
       "      <td>ed13d9051032154f7853ed7af847fdec</td>\n",
       "      <td>2012_14</td>\n",
       "      <td>5k</td>\n",
       "      <td>scale</td>\n",
       "      <td>gbm</td>\n",
       "      <td>age</td>\n",
       "      <td>drop-non-german</td>\n",
       "      <td>0.718909</td>\n",
       "      <td>0.910222</td>\n",
       "      <td>1.138234</td>\n",
       "    </tr>\n",
       "  </tbody>\n",
       "</table>\n",
       "</div>"
      ],
      "text/plain": [
       "                        universe_id universe_training_year  \\\n",
       "0  ed13d9051032154f7853ed7af847fdec                2012_14   \n",
       "\n",
       "  universe_training_size universe_scale universe_model  \\\n",
       "0                     5k          scale            gbm   \n",
       "\n",
       "  universe_exclude_features universe_exclude_subgroups     q_hat  coverage  \\\n",
       "0                       age            drop-non-german  0.718909  0.910222   \n",
       "\n",
       "   avg_size  \n",
       "0  1.138234  "
      ]
     },
     "execution_count": 61,
     "metadata": {},
     "output_type": "execute_result"
    }
   ],
   "source": [
    "cp_metrics_df"
   ]
  },
  {
   "cell_type": "code",
   "execution_count": 62,
   "id": "b7fbde55-a0a1-47e4-9af6-fe4a17fa8c61",
   "metadata": {
    "execution": {
     "iopub.execute_input": "2025-07-30T21:01:43.840658Z",
     "iopub.status.busy": "2025-07-30T21:01:43.840137Z",
     "iopub.status.idle": "2025-07-30T21:01:43.845502Z",
     "shell.execute_reply": "2025-07-30T21:01:43.844632Z"
    },
    "papermill": {
     "duration": 0.035096,
     "end_time": "2025-07-30T21:01:43.847405",
     "exception": false,
     "start_time": "2025-07-30T21:01:43.812309",
     "status": "completed"
    },
    "tags": []
   },
   "outputs": [],
   "source": [
    "# Conditional Coverage & looking at subgroups"
   ]
  },
  {
   "cell_type": "code",
   "execution_count": 63,
   "id": "027ae886-68dd-4141-96c7-805a5450e1ef",
   "metadata": {
    "execution": {
     "iopub.execute_input": "2025-07-30T21:01:43.900896Z",
     "iopub.status.busy": "2025-07-30T21:01:43.900419Z",
     "iopub.status.idle": "2025-07-30T21:01:44.171253Z",
     "shell.execute_reply": "2025-07-30T21:01:44.170252Z"
    },
    "papermill": {
     "duration": 0.299888,
     "end_time": "2025-07-30T21:01:44.173525",
     "exception": false,
     "start_time": "2025-07-30T21:01:43.873637",
     "status": "completed"
    },
    "tags": []
   },
   "outputs": [],
   "source": [
    "from fairness_multiverse.conformal import build_cp_groups\n",
    "\n",
    "cp_groups_df = build_cp_groups(pred_sets, y_true, X_test.index, org_test)\n",
    "#needs universe_id and setting"
   ]
  },
  {
   "cell_type": "code",
   "execution_count": 64,
   "id": "01d5802c-663a-4d1f-9d69-e036faaffbf7",
   "metadata": {
    "execution": {
     "iopub.execute_input": "2025-07-30T21:01:44.244414Z",
     "iopub.status.busy": "2025-07-30T21:01:44.243654Z",
     "iopub.status.idle": "2025-07-30T21:01:44.248783Z",
     "shell.execute_reply": "2025-07-30T21:01:44.247807Z"
    },
    "papermill": {
     "duration": 0.043183,
     "end_time": "2025-07-30T21:01:44.250679",
     "exception": false,
     "start_time": "2025-07-30T21:01:44.207496",
     "status": "completed"
    },
    "tags": []
   },
   "outputs": [],
   "source": [
    "#delete\n",
    "#cp_groups_df"
   ]
  },
  {
   "cell_type": "code",
   "execution_count": 65,
   "id": "fa424af1-d1eb-443d-b717-2d279ada8408",
   "metadata": {
    "execution": {
     "iopub.execute_input": "2025-07-30T21:01:44.319195Z",
     "iopub.status.busy": "2025-07-30T21:01:44.318494Z",
     "iopub.status.idle": "2025-07-30T21:01:44.323473Z",
     "shell.execute_reply": "2025-07-30T21:01:44.322500Z"
    },
    "papermill": {
     "duration": 0.041371,
     "end_time": "2025-07-30T21:01:44.325392",
     "exception": false,
     "start_time": "2025-07-30T21:01:44.284021",
     "status": "completed"
    },
    "tags": []
   },
   "outputs": [],
   "source": [
    "#delete\n",
    "#percentage = (cp_groups_df['nongerman_female'] == 1).mean() * 100\n",
    "#print(percentage)\n"
   ]
  },
  {
   "cell_type": "code",
   "execution_count": 66,
   "id": "6cbdab96-b2b2-45af-ad54-d0516db2e28d",
   "metadata": {
    "execution": {
     "iopub.execute_input": "2025-07-30T21:01:44.395066Z",
     "iopub.status.busy": "2025-07-30T21:01:44.394205Z",
     "iopub.status.idle": "2025-07-30T21:01:45.919918Z",
     "shell.execute_reply": "2025-07-30T21:01:45.918949Z"
    },
    "papermill": {
     "duration": 1.562751,
     "end_time": "2025-07-30T21:01:45.921791",
     "exception": false,
     "start_time": "2025-07-30T21:01:44.359040",
     "status": "completed"
    },
    "tags": []
   },
   "outputs": [],
   "source": [
    "# Define covered = 1 if true_label is in the predicted set\n",
    "cp_groups_df['covered'] = cp_groups_df.apply(\n",
    "    lambda r: int(r['true_label'] in r['pred_set']),\n",
    "    axis=1\n",
    ")"
   ]
  },
  {
   "cell_type": "code",
   "execution_count": 67,
   "id": "338ff529-1a6b-4b87-a931-8e4788d52aad",
   "metadata": {
    "execution": {
     "iopub.execute_input": "2025-07-30T21:01:45.973831Z",
     "iopub.status.busy": "2025-07-30T21:01:45.973020Z",
     "iopub.status.idle": "2025-07-30T21:01:45.978671Z",
     "shell.execute_reply": "2025-07-30T21:01:45.977702Z"
    },
    "papermill": {
     "duration": 0.032011,
     "end_time": "2025-07-30T21:01:45.980300",
     "exception": false,
     "start_time": "2025-07-30T21:01:45.948289",
     "status": "completed"
    },
    "tags": []
   },
   "outputs": [],
   "source": [
    "#cp_groups_df"
   ]
  },
  {
   "cell_type": "code",
   "execution_count": 68,
   "id": "90032e27-66df-4540-9169-4e89cfbaa758",
   "metadata": {
    "execution": {
     "iopub.execute_input": "2025-07-30T21:01:46.028829Z",
     "iopub.status.busy": "2025-07-30T21:01:46.028347Z",
     "iopub.status.idle": "2025-07-30T21:01:46.039527Z",
     "shell.execute_reply": "2025-07-30T21:01:46.038574Z"
    },
    "papermill": {
     "duration": 0.039422,
     "end_time": "2025-07-30T21:01:46.043281",
     "exception": false,
     "start_time": "2025-07-30T21:01:46.003859",
     "status": "completed"
    },
    "tags": []
   },
   "outputs": [],
   "source": [
    "subgroups = ['frau1','nongerman','nongerman_male','nongerman_female']\n",
    "\n",
    "# Conditional coverage for subgroup==1\n",
    "cond_coverage = {\n",
    "    g: cp_groups_df.loc[cp_groups_df[g]==1, 'covered'].mean()\n",
    "    for g in subgroups\n",
    "}"
   ]
  },
  {
   "cell_type": "code",
   "execution_count": 69,
   "id": "1e348fb1-b9c3-45bc-ba23-f016827a7e0d",
   "metadata": {
    "execution": {
     "iopub.execute_input": "2025-07-30T21:01:46.092665Z",
     "iopub.status.busy": "2025-07-30T21:01:46.091899Z",
     "iopub.status.idle": "2025-07-30T21:01:46.099508Z",
     "shell.execute_reply": "2025-07-30T21:01:46.097954Z"
    },
    "papermill": {
     "duration": 0.033975,
     "end_time": "2025-07-30T21:01:46.101253",
     "exception": false,
     "start_time": "2025-07-30T21:01:46.067278",
     "status": "completed"
    },
    "tags": []
   },
   "outputs": [
    {
     "data": {
      "text/plain": [
       "{'frau1': 0.904003234937323,\n",
       " 'nongerman': 0.9032728905855274,\n",
       " 'nongerman_male': 0.9228136539673962,\n",
       " 'nongerman_female': 0.8709388971684053}"
      ]
     },
     "execution_count": 69,
     "metadata": {},
     "output_type": "execute_result"
    }
   ],
   "source": [
    "cond_coverage"
   ]
  },
  {
   "cell_type": "code",
   "execution_count": 70,
   "id": "f5093324-c3dd-4d63-bc4c-8d945e5c8bbb",
   "metadata": {
    "execution": {
     "iopub.execute_input": "2025-07-30T21:01:46.153450Z",
     "iopub.status.busy": "2025-07-30T21:01:46.152449Z",
     "iopub.status.idle": "2025-07-30T21:01:46.160107Z",
     "shell.execute_reply": "2025-07-30T21:01:46.159261Z"
    },
    "papermill": {
     "duration": 0.035754,
     "end_time": "2025-07-30T21:01:46.161633",
     "exception": false,
     "start_time": "2025-07-30T21:01:46.125879",
     "status": "completed"
    },
    "tags": []
   },
   "outputs": [],
   "source": [
    "for subgroup, cov in cond_coverage.items():\n",
    "    cp_metrics_df[f\"cov_{subgroup}\"] = cov"
   ]
  },
  {
   "cell_type": "code",
   "execution_count": 71,
   "id": "6e872e10-dbe5-49e8-b554-5030c98ff75d",
   "metadata": {
    "execution": {
     "iopub.execute_input": "2025-07-30T21:01:46.212310Z",
     "iopub.status.busy": "2025-07-30T21:01:46.211379Z",
     "iopub.status.idle": "2025-07-30T21:01:46.230231Z",
     "shell.execute_reply": "2025-07-30T21:01:46.229315Z"
    },
    "papermill": {
     "duration": 0.045477,
     "end_time": "2025-07-30T21:01:46.231843",
     "exception": false,
     "start_time": "2025-07-30T21:01:46.186366",
     "status": "completed"
    },
    "tags": []
   },
   "outputs": [
    {
     "data": {
      "text/html": [
       "<div>\n",
       "<style scoped>\n",
       "    .dataframe tbody tr th:only-of-type {\n",
       "        vertical-align: middle;\n",
       "    }\n",
       "\n",
       "    .dataframe tbody tr th {\n",
       "        vertical-align: top;\n",
       "    }\n",
       "\n",
       "    .dataframe thead th {\n",
       "        text-align: right;\n",
       "    }\n",
       "</style>\n",
       "<table border=\"1\" class=\"dataframe\">\n",
       "  <thead>\n",
       "    <tr style=\"text-align: right;\">\n",
       "      <th></th>\n",
       "      <th>universe_id</th>\n",
       "      <th>universe_training_year</th>\n",
       "      <th>universe_training_size</th>\n",
       "      <th>universe_scale</th>\n",
       "      <th>universe_model</th>\n",
       "      <th>universe_exclude_features</th>\n",
       "      <th>universe_exclude_subgroups</th>\n",
       "      <th>q_hat</th>\n",
       "      <th>coverage</th>\n",
       "      <th>avg_size</th>\n",
       "      <th>cov_frau1</th>\n",
       "      <th>cov_nongerman</th>\n",
       "      <th>cov_nongerman_male</th>\n",
       "      <th>cov_nongerman_female</th>\n",
       "    </tr>\n",
       "  </thead>\n",
       "  <tbody>\n",
       "    <tr>\n",
       "      <th>0</th>\n",
       "      <td>ed13d9051032154f7853ed7af847fdec</td>\n",
       "      <td>2012_14</td>\n",
       "      <td>5k</td>\n",
       "      <td>scale</td>\n",
       "      <td>gbm</td>\n",
       "      <td>age</td>\n",
       "      <td>drop-non-german</td>\n",
       "      <td>0.718909</td>\n",
       "      <td>0.910222</td>\n",
       "      <td>1.138234</td>\n",
       "      <td>0.904003</td>\n",
       "      <td>0.903273</td>\n",
       "      <td>0.922814</td>\n",
       "      <td>0.870939</td>\n",
       "    </tr>\n",
       "  </tbody>\n",
       "</table>\n",
       "</div>"
      ],
      "text/plain": [
       "                        universe_id universe_training_year  \\\n",
       "0  ed13d9051032154f7853ed7af847fdec                2012_14   \n",
       "\n",
       "  universe_training_size universe_scale universe_model  \\\n",
       "0                     5k          scale            gbm   \n",
       "\n",
       "  universe_exclude_features universe_exclude_subgroups     q_hat  coverage  \\\n",
       "0                       age            drop-non-german  0.718909  0.910222   \n",
       "\n",
       "   avg_size  cov_frau1  cov_nongerman  cov_nongerman_male  \\\n",
       "0  1.138234   0.904003       0.903273            0.922814   \n",
       "\n",
       "   cov_nongerman_female  \n",
       "0              0.870939  "
      ]
     },
     "execution_count": 71,
     "metadata": {},
     "output_type": "execute_result"
    }
   ],
   "source": [
    "cp_metrics_df"
   ]
  },
  {
   "cell_type": "markdown",
   "id": "33774451",
   "metadata": {
    "papermill": {
     "duration": 0.02471,
     "end_time": "2025-07-30T21:01:46.284687",
     "exception": false,
     "start_time": "2025-07-30T21:01:46.259977",
     "status": "completed"
    },
    "tags": []
   },
   "source": [
    "# (Fairness) Metrics"
   ]
  },
  {
   "cell_type": "code",
   "execution_count": 72,
   "id": "debc5d62",
   "metadata": {
    "execution": {
     "iopub.execute_input": "2025-07-30T21:01:46.334662Z",
     "iopub.status.busy": "2025-07-30T21:01:46.334020Z",
     "iopub.status.idle": "2025-07-30T21:01:46.354815Z",
     "shell.execute_reply": "2025-07-30T21:01:46.353984Z"
    },
    "papermill": {
     "duration": 0.047912,
     "end_time": "2025-07-30T21:01:46.356523",
     "exception": false,
     "start_time": "2025-07-30T21:01:46.308611",
     "status": "completed"
    },
    "tags": []
   },
   "outputs": [],
   "source": [
    "# do I need to include maxdeutsch1.missing?\n",
    "\n",
    "import numpy as np\n",
    "\n",
    "colname_to_bin = \"maxdeutsch1\"\n",
    "majority_value = org_train[colname_to_bin].mode()[0]\n",
    "\n",
    "org_test[\"majmin\"] = np.where(org_test[colname_to_bin] == majority_value, \"majority\", \"minority\")"
   ]
  },
  {
   "cell_type": "code",
   "execution_count": 73,
   "id": "06a50de5",
   "metadata": {
    "execution": {
     "iopub.execute_input": "2025-07-30T21:01:46.407515Z",
     "iopub.status.busy": "2025-07-30T21:01:46.406736Z",
     "iopub.status.idle": "2025-07-30T21:01:48.841823Z",
     "shell.execute_reply": "2025-07-30T21:01:48.840484Z"
    },
    "papermill": {
     "duration": 2.463852,
     "end_time": "2025-07-30T21:01:48.845426",
     "exception": false,
     "start_time": "2025-07-30T21:01:46.381574",
     "status": "completed"
    },
    "tags": []
   },
   "outputs": [],
   "source": [
    "example_universe = universe.copy()\n",
    "example_universe[\"cutoff\"] = example_universe[\"cutoff\"][0]\n",
    "example_universe[\"eval_fairness_grouping\"] = example_universe[\"eval_fairness_grouping\"][0]\n",
    "fairness_dict, metric_frame = universe_analysis.compute_metrics(\n",
    "    example_universe,\n",
    "    y_pred_prob=probs_test,\n",
    "    y_test=y_true,\n",
    "    org_test=org_test,\n",
    ")"
   ]
  },
  {
   "cell_type": "markdown",
   "id": "f95d4e02",
   "metadata": {
    "papermill": {
     "duration": 0.028219,
     "end_time": "2025-07-30T21:01:48.921426",
     "exception": false,
     "start_time": "2025-07-30T21:01:48.893207",
     "status": "completed"
    },
    "tags": []
   },
   "source": [
    "# Overall"
   ]
  },
  {
   "cell_type": "markdown",
   "id": "bdee4871",
   "metadata": {
    "papermill": {
     "duration": 0.028503,
     "end_time": "2025-07-30T21:01:48.977948",
     "exception": false,
     "start_time": "2025-07-30T21:01:48.949445",
     "status": "completed"
    },
    "tags": []
   },
   "source": [
    "Fairness\n",
    "Main fairness target: Equalized Odds. Seems to be a better fit than equal opportunity, since we're not only interested in Y = 1. Seems to be a better fit than demographic parity, since we also care about accuracy, not just equal distribution of preds.\n",
    "\n",
    "Pick column for computation of fairness metrics\n",
    "\n",
    "Performance\n",
    "Overall performance measures, most interesting in relation to the measures split by group below"
   ]
  },
  {
   "cell_type": "code",
   "execution_count": 74,
   "id": "c4e067c6",
   "metadata": {
    "execution": {
     "iopub.execute_input": "2025-07-30T21:01:49.035997Z",
     "iopub.status.busy": "2025-07-30T21:01:49.035486Z",
     "iopub.status.idle": "2025-07-30T21:01:49.044744Z",
     "shell.execute_reply": "2025-07-30T21:01:49.043581Z"
    },
    "papermill": {
     "duration": 0.040691,
     "end_time": "2025-07-30T21:01:49.046590",
     "exception": false,
     "start_time": "2025-07-30T21:01:49.005899",
     "status": "completed"
    },
    "tags": []
   },
   "outputs": [
    {
     "data": {
      "text/plain": [
       "accuracy                   0.224334\n",
       "balanced accuracy          0.548536\n",
       "f1                         0.245667\n",
       "precision                  0.140341\n",
       "false positive rate        0.887548\n",
       "false negative rate        0.015381\n",
       "selection rate             0.900000\n",
       "count                  89710.000000\n",
       "dtype: float64"
      ]
     },
     "execution_count": 74,
     "metadata": {},
     "output_type": "execute_result"
    }
   ],
   "source": [
    "metric_frame.overall"
   ]
  },
  {
   "cell_type": "markdown",
   "id": "e968fe9d",
   "metadata": {
    "papermill": {
     "duration": 0.028556,
     "end_time": "2025-07-30T21:01:49.104696",
     "exception": false,
     "start_time": "2025-07-30T21:01:49.076140",
     "status": "completed"
    },
    "tags": []
   },
   "source": [
    "By Group"
   ]
  },
  {
   "cell_type": "code",
   "execution_count": 75,
   "id": "ec325bce",
   "metadata": {
    "execution": {
     "iopub.execute_input": "2025-07-30T21:01:49.164275Z",
     "iopub.status.busy": "2025-07-30T21:01:49.163392Z",
     "iopub.status.idle": "2025-07-30T21:01:49.180429Z",
     "shell.execute_reply": "2025-07-30T21:01:49.179330Z"
    },
    "papermill": {
     "duration": 0.048759,
     "end_time": "2025-07-30T21:01:49.182136",
     "exception": false,
     "start_time": "2025-07-30T21:01:49.133377",
     "status": "completed"
    },
    "tags": []
   },
   "outputs": [
    {
     "data": {
      "text/html": [
       "<div>\n",
       "<style scoped>\n",
       "    .dataframe tbody tr th:only-of-type {\n",
       "        vertical-align: middle;\n",
       "    }\n",
       "\n",
       "    .dataframe tbody tr th {\n",
       "        vertical-align: top;\n",
       "    }\n",
       "\n",
       "    .dataframe thead th {\n",
       "        text-align: right;\n",
       "    }\n",
       "</style>\n",
       "<table border=\"1\" class=\"dataframe\">\n",
       "  <thead>\n",
       "    <tr style=\"text-align: right;\">\n",
       "      <th></th>\n",
       "      <th>accuracy</th>\n",
       "      <th>balanced accuracy</th>\n",
       "      <th>f1</th>\n",
       "      <th>precision</th>\n",
       "      <th>false positive rate</th>\n",
       "      <th>false negative rate</th>\n",
       "      <th>selection rate</th>\n",
       "      <th>count</th>\n",
       "    </tr>\n",
       "    <tr>\n",
       "      <th>majmin</th>\n",
       "      <th></th>\n",
       "      <th></th>\n",
       "      <th></th>\n",
       "      <th></th>\n",
       "      <th></th>\n",
       "      <th></th>\n",
       "      <th></th>\n",
       "      <th></th>\n",
       "    </tr>\n",
       "  </thead>\n",
       "  <tbody>\n",
       "    <tr>\n",
       "      <th>majority</th>\n",
       "      <td>0.240870</td>\n",
       "      <td>0.556197</td>\n",
       "      <td>0.255308</td>\n",
       "      <td>0.146665</td>\n",
       "      <td>0.872397</td>\n",
       "      <td>0.015208</td>\n",
       "      <td>0.887249</td>\n",
       "      <td>69170.0</td>\n",
       "    </tr>\n",
       "    <tr>\n",
       "      <th>minority</th>\n",
       "      <td>0.168647</td>\n",
       "      <td>0.523178</td>\n",
       "      <td>0.214391</td>\n",
       "      <td>0.120302</td>\n",
       "      <td>0.937596</td>\n",
       "      <td>0.016047</td>\n",
       "      <td>0.942941</td>\n",
       "      <td>20540.0</td>\n",
       "    </tr>\n",
       "  </tbody>\n",
       "</table>\n",
       "</div>"
      ],
      "text/plain": [
       "          accuracy  balanced accuracy        f1  precision  \\\n",
       "majmin                                                       \n",
       "majority  0.240870           0.556197  0.255308   0.146665   \n",
       "minority  0.168647           0.523178  0.214391   0.120302   \n",
       "\n",
       "          false positive rate  false negative rate  selection rate    count  \n",
       "majmin                                                                       \n",
       "majority             0.872397             0.015208        0.887249  69170.0  \n",
       "minority             0.937596             0.016047        0.942941  20540.0  "
      ]
     },
     "execution_count": 75,
     "metadata": {},
     "output_type": "execute_result"
    }
   ],
   "source": [
    "metric_frame.by_group"
   ]
  },
  {
   "cell_type": "code",
   "execution_count": 76,
   "id": "a9ddbe63",
   "metadata": {
    "execution": {
     "iopub.execute_input": "2025-07-30T21:01:49.242943Z",
     "iopub.status.busy": "2025-07-30T21:01:49.242018Z",
     "iopub.status.idle": "2025-07-30T21:01:51.277800Z",
     "shell.execute_reply": "2025-07-30T21:01:51.276884Z"
    },
    "papermill": {
     "duration": 2.067113,
     "end_time": "2025-07-30T21:01:51.279017",
     "exception": false,
     "start_time": "2025-07-30T21:01:49.211904",
     "status": "completed"
    },
    "tags": []
   },
   "outputs": [
    {
     "data": {
      "text/plain": [
       "array([[<Axes: title={'center': 'accuracy'}, xlabel='majmin'>,\n",
       "        <Axes: title={'center': 'balanced accuracy'}, xlabel='majmin'>,\n",
       "        <Axes: title={'center': 'f1'}, xlabel='majmin'>],\n",
       "       [<Axes: title={'center': 'precision'}, xlabel='majmin'>,\n",
       "        <Axes: title={'center': 'false positive rate'}, xlabel='majmin'>,\n",
       "        <Axes: title={'center': 'false negative rate'}, xlabel='majmin'>],\n",
       "       [<Axes: title={'center': 'selection rate'}, xlabel='majmin'>,\n",
       "        <Axes: title={'center': 'count'}, xlabel='majmin'>,\n",
       "        <Axes: xlabel='majmin'>]], dtype=object)"
      ]
     },
     "execution_count": 76,
     "metadata": {},
     "output_type": "execute_result"
    },
    {
     "data": {
      "image/png": "[encoded data removed]",
      "text/plain": [
       "<Figure size 1200x800 with 9 Axes>"
      ]
     },
     "metadata": {},
     "output_type": "display_data"
    }
   ],
   "source": [
    "# In a graphic\n",
    "metric_frame.by_group.plot.bar(\n",
    "    subplots=True,\n",
    "    layout=[3, 3],\n",
    "    legend=False,\n",
    "    figsize=[12, 8],\n",
    "    title=\"Show all metrics\",\n",
    ")"
   ]
  },
  {
   "cell_type": "markdown",
   "id": "f57a0bac",
   "metadata": {
    "papermill": {
     "duration": 0.014341,
     "end_time": "2025-07-30T21:01:51.308885",
     "exception": false,
     "start_time": "2025-07-30T21:01:51.294544",
     "status": "completed"
    },
    "tags": []
   },
   "source": [
    "# Final Output"
   ]
  },
  {
   "cell_type": "code",
   "execution_count": 77,
   "id": "96d280a3",
   "metadata": {
    "execution": {
     "iopub.execute_input": "2025-07-30T21:01:51.347158Z",
     "iopub.status.busy": "2025-07-30T21:01:51.346602Z",
     "iopub.status.idle": "2025-07-30T21:01:51.353047Z",
     "shell.execute_reply": "2025-07-30T21:01:51.352313Z"
    },
    "papermill": {
     "duration": 0.029854,
     "end_time": "2025-07-30T21:01:51.354302",
     "exception": false,
     "start_time": "2025-07-30T21:01:51.324448",
     "status": "completed"
    },
    "tags": []
   },
   "outputs": [
    {
     "data": {
      "text/plain": [
       "4"
      ]
     },
     "execution_count": 77,
     "metadata": {},
     "output_type": "execute_result"
    }
   ],
   "source": [
    "sub_universes = universe_analysis.generate_sub_universes()\n",
    "len(sub_universes)"
   ]
  },
  {
   "cell_type": "code",
   "execution_count": 78,
   "id": "92adf7ba",
   "metadata": {
    "execution": {
     "iopub.execute_input": "2025-07-30T21:01:51.387171Z",
     "iopub.status.busy": "2025-07-30T21:01:51.386865Z",
     "iopub.status.idle": "2025-07-30T21:01:51.423425Z",
     "shell.execute_reply": "2025-07-30T21:01:51.422230Z"
    },
    "papermill": {
     "duration": 0.059573,
     "end_time": "2025-07-30T21:01:51.429875",
     "exception": false,
     "start_time": "2025-07-30T21:01:51.370302",
     "status": "completed"
    },
    "tags": []
   },
   "outputs": [],
   "source": [
    "def filter_sub_universe_data(sub_universe, org_test):\n",
    "    # Keep all rows — no filtering\n",
    "    keep_rows_mask = np.ones(org_test.shape[0], dtype=bool)\n",
    "\n",
    "    print(f\"[INFO] Keeping all rows: {keep_rows_mask.sum()} rows retained.\")\n",
    "    return keep_rows_mask"
   ]
  },
  {
   "cell_type": "code",
   "execution_count": 79,
   "id": "4a759155",
   "metadata": {
    "execution": {
     "iopub.execute_input": "2025-07-30T21:01:51.511158Z",
     "iopub.status.busy": "2025-07-30T21:01:51.510652Z",
     "iopub.status.idle": "2025-07-30T21:02:01.842166Z",
     "shell.execute_reply": "2025-07-30T21:02:01.841105Z"
    },
    "papermill": {
     "duration": 10.374114,
     "end_time": "2025-07-30T21:02:01.843816",
     "exception": false,
     "start_time": "2025-07-30T21:01:51.469702",
     "status": "completed"
    },
    "tags": []
   },
   "outputs": [
    {
     "name": "stdout",
     "output_type": "stream",
     "text": [
      "Stopping execution_time clock.\n",
      "[INFO] Keeping all rows: 89710 rows retained.\n"
     ]
    },
    {
     "name": "stdout",
     "output_type": "stream",
     "text": [
      "[INFO] Keeping all rows: 89710 rows retained.\n"
     ]
    },
    {
     "name": "stdout",
     "output_type": "stream",
     "text": [
      "[INFO] Keeping all rows: 89710 rows retained.\n"
     ]
    },
    {
     "name": "stdout",
     "output_type": "stream",
     "text": [
      "[INFO] Keeping all rows: 89710 rows retained.\n"
     ]
    },
    {
     "data": {
      "text/html": [
       "<div>\n",
       "<style scoped>\n",
       "    .dataframe tbody tr th:only-of-type {\n",
       "        vertical-align: middle;\n",
       "    }\n",
       "\n",
       "    .dataframe tbody tr th {\n",
       "        vertical-align: top;\n",
       "    }\n",
       "\n",
       "    .dataframe thead th {\n",
       "        text-align: right;\n",
       "    }\n",
       "</style>\n",
       "<table border=\"1\" class=\"dataframe\">\n",
       "  <thead>\n",
       "    <tr style=\"text-align: right;\">\n",
       "      <th></th>\n",
       "      <th>run_no</th>\n",
       "      <th>universe_id</th>\n",
       "      <th>universe_settings</th>\n",
       "      <th>execution_time</th>\n",
       "      <th>test_size_n</th>\n",
       "      <th>test_size_frac</th>\n",
       "      <th>fair_main_equalized_odds_difference</th>\n",
       "      <th>fair_main_equalized_odds_ratio</th>\n",
       "      <th>fair_main_demographic_parity_difference</th>\n",
       "      <th>fair_main_demographic_parity_ratio</th>\n",
       "      <th>...</th>\n",
       "      <th>perf_grp_precision_0</th>\n",
       "      <th>perf_grp_precision_1</th>\n",
       "      <th>perf_grp_false positive rate_0</th>\n",
       "      <th>perf_grp_false positive rate_1</th>\n",
       "      <th>perf_grp_false negative rate_0</th>\n",
       "      <th>perf_grp_false negative rate_1</th>\n",
       "      <th>perf_grp_selection rate_0</th>\n",
       "      <th>perf_grp_selection rate_1</th>\n",
       "      <th>perf_grp_count_0</th>\n",
       "      <th>perf_grp_count_1</th>\n",
       "    </tr>\n",
       "  </thead>\n",
       "  <tbody>\n",
       "    <tr>\n",
       "      <th>0</th>\n",
       "      <td>14</td>\n",
       "      <td>ed13d9051032154f7853ed7af847fdec</td>\n",
       "      <td>{\"cutoff\": \"quantile_0.1\", \"eval_fairness_grou...</td>\n",
       "      <td>32.167836</td>\n",
       "      <td>89710</td>\n",
       "      <td>1.0</td>\n",
       "      <td>0.065199</td>\n",
       "      <td>0.930461</td>\n",
       "      <td>0.055692</td>\n",
       "      <td>0.940938</td>\n",
       "      <td>...</td>\n",
       "      <td>NaN</td>\n",
       "      <td>NaN</td>\n",
       "      <td>NaN</td>\n",
       "      <td>NaN</td>\n",
       "      <td>NaN</td>\n",
       "      <td>NaN</td>\n",
       "      <td>NaN</td>\n",
       "      <td>NaN</td>\n",
       "      <td>NaN</td>\n",
       "      <td>NaN</td>\n",
       "    </tr>\n",
       "    <tr>\n",
       "      <th>0</th>\n",
       "      <td>14</td>\n",
       "      <td>ed13d9051032154f7853ed7af847fdec</td>\n",
       "      <td>{\"cutoff\": \"quantile_0.1\", \"eval_fairness_grou...</td>\n",
       "      <td>32.167836</td>\n",
       "      <td>89710</td>\n",
       "      <td>1.0</td>\n",
       "      <td>0.065199</td>\n",
       "      <td>0.930461</td>\n",
       "      <td>0.055692</td>\n",
       "      <td>0.940938</td>\n",
       "      <td>...</td>\n",
       "      <td>0.120302</td>\n",
       "      <td>0.146665</td>\n",
       "      <td>0.937596</td>\n",
       "      <td>0.872397</td>\n",
       "      <td>0.016047</td>\n",
       "      <td>0.015208</td>\n",
       "      <td>0.942941</td>\n",
       "      <td>0.887249</td>\n",
       "      <td>20540.0</td>\n",
       "      <td>69170.0</td>\n",
       "    </tr>\n",
       "    <tr>\n",
       "      <th>0</th>\n",
       "      <td>14</td>\n",
       "      <td>ed13d9051032154f7853ed7af847fdec</td>\n",
       "      <td>{\"cutoff\": \"quantile_0.25\", \"eval_fairness_gro...</td>\n",
       "      <td>32.167836</td>\n",
       "      <td>89710</td>\n",
       "      <td>1.0</td>\n",
       "      <td>0.131566</td>\n",
       "      <td>0.840240</td>\n",
       "      <td>0.112969</td>\n",
       "      <td>0.865046</td>\n",
       "      <td>...</td>\n",
       "      <td>NaN</td>\n",
       "      <td>NaN</td>\n",
       "      <td>NaN</td>\n",
       "      <td>NaN</td>\n",
       "      <td>NaN</td>\n",
       "      <td>NaN</td>\n",
       "      <td>NaN</td>\n",
       "      <td>NaN</td>\n",
       "      <td>NaN</td>\n",
       "      <td>NaN</td>\n",
       "    </tr>\n",
       "    <tr>\n",
       "      <th>0</th>\n",
       "      <td>14</td>\n",
       "      <td>ed13d9051032154f7853ed7af847fdec</td>\n",
       "      <td>{\"cutoff\": \"quantile_0.25\", \"eval_fairness_gro...</td>\n",
       "      <td>32.167836</td>\n",
       "      <td>89710</td>\n",
       "      <td>1.0</td>\n",
       "      <td>0.131566</td>\n",
       "      <td>0.840240</td>\n",
       "      <td>0.112969</td>\n",
       "      <td>0.865046</td>\n",
       "      <td>...</td>\n",
       "      <td>0.129638</td>\n",
       "      <td>0.170700</td>\n",
       "      <td>0.823520</td>\n",
       "      <td>0.691954</td>\n",
       "      <td>0.058699</td>\n",
       "      <td>0.064551</td>\n",
       "      <td>0.837098</td>\n",
       "      <td>0.724129</td>\n",
       "      <td>20540.0</td>\n",
       "      <td>69170.0</td>\n",
       "    </tr>\n",
       "  </tbody>\n",
       "</table>\n",
       "<p>4 rows × 50 columns</p>\n",
       "</div>"
      ],
      "text/plain": [
       "  run_no                       universe_id  \\\n",
       "0     14  ed13d9051032154f7853ed7af847fdec   \n",
       "0     14  ed13d9051032154f7853ed7af847fdec   \n",
       "0     14  ed13d9051032154f7853ed7af847fdec   \n",
       "0     14  ed13d9051032154f7853ed7af847fdec   \n",
       "\n",
       "                                   universe_settings  execution_time  \\\n",
       "0  {\"cutoff\": \"quantile_0.1\", \"eval_fairness_grou...       32.167836   \n",
       "0  {\"cutoff\": \"quantile_0.1\", \"eval_fairness_grou...       32.167836   \n",
       "0  {\"cutoff\": \"quantile_0.25\", \"eval_fairness_gro...       32.167836   \n",
       "0  {\"cutoff\": \"quantile_0.25\", \"eval_fairness_gro...       32.167836   \n",
       "\n",
       "   test_size_n  test_size_frac  fair_main_equalized_odds_difference  \\\n",
       "0        89710             1.0                             0.065199   \n",
       "0        89710             1.0                             0.065199   \n",
       "0        89710             1.0                             0.131566   \n",
       "0        89710             1.0                             0.131566   \n",
       "\n",
       "   fair_main_equalized_odds_ratio  fair_main_demographic_parity_difference  \\\n",
       "0                        0.930461                                 0.055692   \n",
       "0                        0.930461                                 0.055692   \n",
       "0                        0.840240                                 0.112969   \n",
       "0                        0.840240                                 0.112969   \n",
       "\n",
       "   fair_main_demographic_parity_ratio  ...  perf_grp_precision_0  \\\n",
       "0                            0.940938  ...                   NaN   \n",
       "0                            0.940938  ...              0.120302   \n",
       "0                            0.865046  ...                   NaN   \n",
       "0                            0.865046  ...              0.129638   \n",
       "\n",
       "   perf_grp_precision_1  perf_grp_false positive rate_0  \\\n",
       "0                   NaN                             NaN   \n",
       "0              0.146665                        0.937596   \n",
       "0                   NaN                             NaN   \n",
       "0              0.170700                        0.823520   \n",
       "\n",
       "   perf_grp_false positive rate_1  perf_grp_false negative rate_0  \\\n",
       "0                             NaN                             NaN   \n",
       "0                        0.872397                        0.016047   \n",
       "0                             NaN                             NaN   \n",
       "0                        0.691954                        0.058699   \n",
       "\n",
       "   perf_grp_false negative rate_1  perf_grp_selection rate_0  \\\n",
       "0                             NaN                        NaN   \n",
       "0                        0.015208                   0.942941   \n",
       "0                             NaN                        NaN   \n",
       "0                        0.064551                   0.837098   \n",
       "\n",
       "   perf_grp_selection rate_1  perf_grp_count_0  perf_grp_count_1  \n",
       "0                        NaN               NaN               NaN  \n",
       "0                   0.887249           20540.0           69170.0  \n",
       "0                        NaN               NaN               NaN  \n",
       "0                   0.724129           20540.0           69170.0  \n",
       "\n",
       "[4 rows x 50 columns]"
      ]
     },
     "execution_count": 79,
     "metadata": {},
     "output_type": "execute_result"
    }
   ],
   "source": [
    "final_output = universe_analysis.generate_final_output(\n",
    "    y_pred_prob=probs_test,\n",
    "    y_test=y_true,\n",
    "    org_test=org_test,\n",
    "    filter_data=filter_sub_universe_data,\n",
    "    cp_metrics_df=cp_metrics_df,\n",
    "    save=True,\n",
    ")\n",
    "final_output"
   ]
  },
  {
   "cell_type": "code",
   "execution_count": null,
   "id": "721ff514-cb11-46f8-b6fc-50392f74b5cb",
   "metadata": {
    "papermill": {
     "duration": 0.027309,
     "end_time": "2025-07-30T21:02:01.902213",
     "exception": false,
     "start_time": "2025-07-30T21:02:01.874904",
     "status": "completed"
    },
    "tags": []
   },
   "outputs": [],
   "source": []
  }
 ],
 "metadata": {
  "celltoolbar": "Tags",
  "kernelspec": {
   "display_name": "Python (CMA Fairness)",
   "language": "python",
   "name": "cma_fair_env"
  },
  "language_info": {
   "codemirror_mode": {
    "name": "ipython",
    "version": 3
   },
   "file_extension": ".py",
   "mimetype": "text/x-python",
   "name": "python",
   "nbconvert_exporter": "python",
   "pygments_lexer": "ipython3",
   "version": "3.10.12"
  },
  "papermill": {
   "default_parameters": {},
   "duration": 46.871885,
   "end_time": "2025-07-30T21:02:02.749071",
   "environment_variables": {},
   "exception": null,
   "input_path": "universe_analysis.ipynb",
   "output_path": "output/runs/14/notebooks/m_14-ed13d9051032154f7853ed7af847fdec.ipynb",
   "parameters": {
    "output_dir": "output",
    "run_no": "14",
    "seed": "2023",
    "universe": "{\"cutoff\": [\"quantile_0.1\", \"quantile_0.25\"], \"eval_fairness_grouping\": [\"majority-minority\", \"nationality-all\"], \"exclude_features\": \"age\", \"exclude_subgroups\": \"drop-non-german\", \"model\": \"gbm\", \"scale\": \"scale\", \"training_size\": \"5k\", \"training_year\": \"2012_14\"}",
    "universe_id": "ed13d9051032154f7853ed7af847fdec"
   },
   "start_time": "2025-07-30T21:01:15.877186",
   "version": "2.6.0"
  }
 },
 "nbformat": 4,
 "nbformat_minor": 5
}