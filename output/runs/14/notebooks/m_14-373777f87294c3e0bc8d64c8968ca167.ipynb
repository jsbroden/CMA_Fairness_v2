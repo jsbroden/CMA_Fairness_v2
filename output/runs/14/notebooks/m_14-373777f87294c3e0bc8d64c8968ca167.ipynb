{
 "cells": [
  {
   "cell_type": "code",
   "execution_count": 1,
   "id": "f159f837-637b-42ba-96b5-ec9a68c44524",
   "metadata": {
    "execution": {
     "iopub.execute_input": "2025-07-30T21:27:03.749651Z",
     "iopub.status.busy": "2025-07-30T21:27:03.749306Z",
     "iopub.status.idle": "2025-07-30T21:27:03.758888Z",
     "shell.execute_reply": "2025-07-30T21:27:03.758086Z"
    },
    "papermill": {
     "duration": 0.026437,
     "end_time": "2025-07-30T21:27:03.760925",
     "exception": false,
     "start_time": "2025-07-30T21:27:03.734488",
     "status": "completed"
    },
    "tags": []
   },
   "outputs": [
    {
     "name": "stdout",
     "output_type": "stream",
     "text": [
      "/dss/dsshome1/0C/ra93lal2/cma/CMA_Fairness_v2\n"
     ]
    },
    {
     "name": "stderr",
     "output_type": "stream",
     "text": [
      "/dss/dsshome1/0C/ra93lal2/.local/share/virtualenvs/CMA_Fairness_v2-3j10GkSs/lib/python3.10/site-packages/IPython/core/magics/osm.py:393: UserWarning: This is now an optional IPython functionality, using bookmarks requires you to install the `pickleshare` library.\n",
      "  bkms = self.shell.db.get('bookmarks', {})\n",
      "/dss/dsshome1/0C/ra93lal2/.local/share/virtualenvs/CMA_Fairness_v2-3j10GkSs/lib/python3.10/site-packages/IPython/core/magics/osm.py:417: UserWarning: This is now an optional IPython functionality, setting dhist requires you to install the `pickleshare` library.\n",
      "  self.shell.db['dhist'] = compress_dhist(dhist)[-100:]\n"
     ]
    }
   ],
   "source": [
    "%cd ~/cma/CMA_Fairness_v2"
   ]
  },
  {
   "cell_type": "markdown",
   "id": "de2603b9",
   "metadata": {
    "papermill": {
     "duration": 0.009628,
     "end_time": "2025-07-30T21:27:03.780767",
     "exception": false,
     "start_time": "2025-07-30T21:27:03.771139",
     "status": "completed"
    },
    "tags": []
   },
   "source": [
    "The following cell holds the definition of our parameters, these values can be overriden by rendering the with e.g. the following command:\n",
    "\n",
    "papermill -p alpha 0.2 -p ratio 0.3 universe_analysis.ipynb output/test_run.ipynb"
   ]
  },
  {
   "cell_type": "code",
   "execution_count": 2,
   "id": "a80968a0-40bb-4fa9-85ef-2d5eefb01975",
   "metadata": {
    "execution": {
     "iopub.execute_input": "2025-07-30T21:27:03.809045Z",
     "iopub.status.busy": "2025-07-30T21:27:03.808701Z",
     "iopub.status.idle": "2025-07-30T21:27:03.813222Z",
     "shell.execute_reply": "2025-07-30T21:27:03.812432Z"
    },
    "papermill": {
     "duration": 0.0215,
     "end_time": "2025-07-30T21:27:03.814714",
     "exception": false,
     "start_time": "2025-07-30T21:27:03.793214",
     "status": "completed"
    },
    "tags": []
   },
   "outputs": [
    {
     "name": "stdout",
     "output_type": "stream",
     "text": [
      "Current working directory: /dss/dsshome1/0C/ra93lal2/cma/CMA_Fairness_v2\n"
     ]
    }
   ],
   "source": [
    "import os\n",
    "print(\"Current working directory:\", os.getcwd())"
   ]
  },
  {
   "cell_type": "code",
   "execution_count": 3,
   "id": "2dce4c03",
   "metadata": {
    "execution": {
     "iopub.execute_input": "2025-07-30T21:27:03.858208Z",
     "iopub.status.busy": "2025-07-30T21:27:03.857799Z",
     "iopub.status.idle": "2025-07-30T21:27:03.863014Z",
     "shell.execute_reply": "2025-07-30T21:27:03.862179Z"
    },
    "papermill": {
     "duration": 0.030468,
     "end_time": "2025-07-30T21:27:03.864555",
     "exception": false,
     "start_time": "2025-07-30T21:27:03.834087",
     "status": "completed"
    },
    "tags": [
     "parameters"
    ]
   },
   "outputs": [],
   "source": [
    "run_no = 0\n",
    "universe_id = \"test\"\n",
    "universe = {\n",
    "    \"training_size\": \"25k\", # \"25k\", \"5k\", \"1k\"\n",
    "    \"training_year\": \"2014\", # \"2014\", \"2012_14\", \"2010_14\"\n",
    "    \"scale\": \"scale\", # \"scale\", \"do-not-scale\",\n",
    "    #\"stratify_split\": \"target\", # \"none\", \"target\", \"protected-attribute\", \"both\",\n",
    "    \"model\": \"elasticnet\", # \"logreg\", \"penalized_logreg\", \"rf\", \"gbm\", \"elasticnet\"\n",
    "    \"cutoff\": [\"quantile_0.15\", \"quantile_0.30\"],\n",
    "    \"exclude_features\": \"age\", # \"none\", \"nationality\", \"sex\", \"nationality-sex\", \"age\"\n",
    "    \"exclude_subgroups\": \"keep-all\", # \"keep-all\", \"drop-non-german\"\n",
    "    \"eval_fairness_grouping\": [\"majority-minority\", \"nationality-all\"]\n",
    "}\n",
    "\n",
    "output_dir=\"./output\"\n",
    "seed=0"
   ]
  },
  {
   "cell_type": "code",
   "execution_count": 4,
   "id": "9e33704c",
   "metadata": {
    "execution": {
     "iopub.execute_input": "2025-07-30T21:27:03.910625Z",
     "iopub.status.busy": "2025-07-30T21:27:03.910229Z",
     "iopub.status.idle": "2025-07-30T21:27:03.914121Z",
     "shell.execute_reply": "2025-07-30T21:27:03.913413Z"
    },
    "papermill": {
     "duration": 0.026458,
     "end_time": "2025-07-30T21:27:03.915351",
     "exception": false,
     "start_time": "2025-07-30T21:27:03.888893",
     "status": "completed"
    },
    "tags": [
     "injected-parameters"
    ]
   },
   "outputs": [],
   "source": [
    "# Parameters\n",
    "universe_id = \"373777f87294c3e0bc8d64c8968ca167\"\n",
    "run_no = \"14\"\n",
    "universe = \"{\\\"cutoff\\\": [\\\"quantile_0.1\\\", \\\"quantile_0.25\\\"], \\\"eval_fairness_grouping\\\": [\\\"majority-minority\\\", \\\"nationality-all\\\"], \\\"exclude_features\\\": \\\"none\\\", \\\"exclude_subgroups\\\": \\\"keep-all\\\", \\\"model\\\": \\\"logreg\\\", \\\"scale\\\": \\\"do-not-scale\\\", \\\"training_size\\\": \\\"1k\\\", \\\"training_year\\\": \\\"2014\\\"}\"\n",
    "output_dir = \"output\"\n",
    "seed = \"2023\"\n"
   ]
  },
  {
   "cell_type": "code",
   "execution_count": 5,
   "id": "1650acaf",
   "metadata": {
    "execution": {
     "iopub.execute_input": "2025-07-30T21:27:03.955954Z",
     "iopub.status.busy": "2025-07-30T21:27:03.955545Z",
     "iopub.status.idle": "2025-07-30T21:27:03.959324Z",
     "shell.execute_reply": "2025-07-30T21:27:03.958555Z"
    },
    "papermill": {
     "duration": 0.026597,
     "end_time": "2025-07-30T21:27:03.960841",
     "exception": false,
     "start_time": "2025-07-30T21:27:03.934244",
     "status": "completed"
    },
    "tags": []
   },
   "outputs": [],
   "source": [
    "import json\n",
    "# Parse universe into dict if it is passed as a string\n",
    "if isinstance(universe, str):\n",
    "    universe = json.loads(universe)"
   ]
  },
  {
   "cell_type": "code",
   "execution_count": 6,
   "id": "16620c48",
   "metadata": {
    "execution": {
     "iopub.execute_input": "2025-07-30T21:27:04.000889Z",
     "iopub.status.busy": "2025-07-30T21:27:04.000260Z",
     "iopub.status.idle": "2025-07-30T21:27:04.047803Z",
     "shell.execute_reply": "2025-07-30T21:27:04.046618Z"
    },
    "papermill": {
     "duration": 0.071698,
     "end_time": "2025-07-30T21:27:04.050308",
     "exception": false,
     "start_time": "2025-07-30T21:27:03.978610",
     "status": "completed"
    },
    "tags": []
   },
   "outputs": [],
   "source": [
    "# Auto-reload the custom package\n",
    "%load_ext autoreload\n",
    "%autoreload 1\n",
    "%aimport fairness_multiverse"
   ]
  },
  {
   "cell_type": "code",
   "execution_count": 7,
   "id": "01c5c9f3",
   "metadata": {
    "execution": {
     "iopub.execute_input": "2025-07-30T21:27:04.110992Z",
     "iopub.status.busy": "2025-07-30T21:27:04.110173Z",
     "iopub.status.idle": "2025-07-30T21:27:05.966418Z",
     "shell.execute_reply": "2025-07-30T21:27:05.965280Z"
    },
    "papermill": {
     "duration": 1.88901,
     "end_time": "2025-07-30T21:27:05.968536",
     "exception": false,
     "start_time": "2025-07-30T21:27:04.079526",
     "status": "completed"
    },
    "tags": []
   },
   "outputs": [],
   "source": [
    "from fairness_multiverse.universe import UniverseAnalysis\n",
    "\n",
    "universe_analysis = UniverseAnalysis(\n",
    "    run_no = run_no,\n",
    "    universe_id = universe_id,\n",
    "    universe = universe,\n",
    "    output_dir=output_dir,\n",
    ")"
   ]
  },
  {
   "cell_type": "code",
   "execution_count": 8,
   "id": "106241f5",
   "metadata": {
    "execution": {
     "iopub.execute_input": "2025-07-30T21:27:06.018168Z",
     "iopub.status.busy": "2025-07-30T21:27:06.017160Z",
     "iopub.status.idle": "2025-07-30T21:27:06.023704Z",
     "shell.execute_reply": "2025-07-30T21:27:06.022849Z"
    },
    "papermill": {
     "duration": 0.031957,
     "end_time": "2025-07-30T21:27:06.025173",
     "exception": false,
     "start_time": "2025-07-30T21:27:05.993216",
     "status": "completed"
    },
    "tags": []
   },
   "outputs": [
    {
     "name": "stdout",
     "output_type": "stream",
     "text": [
      "Using Seed: 2023\n"
     ]
    }
   ],
   "source": [
    "import numpy as np\n",
    "parsed_seed = int(seed)\n",
    "np.random.seed(parsed_seed)\n",
    "print(f\"Using Seed: {parsed_seed}\")"
   ]
  },
  {
   "cell_type": "markdown",
   "id": "e0ebdc57",
   "metadata": {
    "papermill": {
     "duration": 0.022553,
     "end_time": "2025-07-30T21:27:06.070013",
     "exception": false,
     "start_time": "2025-07-30T21:27:06.047460",
     "status": "completed"
    },
    "tags": []
   },
   "source": [
    "# Loading Data"
   ]
  },
  {
   "cell_type": "markdown",
   "id": "681925a3",
   "metadata": {
    "papermill": {
     "duration": 0.022337,
     "end_time": "2025-07-30T21:27:06.114031",
     "exception": false,
     "start_time": "2025-07-30T21:27:06.091694",
     "status": "completed"
    },
    "tags": []
   },
   "source": [
    "Load siab_train, siab_test, siab_calib and/or \n",
    "load siab_train_features, siab_train_labels"
   ]
  },
  {
   "cell_type": "code",
   "execution_count": 9,
   "id": "f0496b8a",
   "metadata": {
    "execution": {
     "iopub.execute_input": "2025-07-30T21:27:06.157276Z",
     "iopub.status.busy": "2025-07-30T21:27:06.156918Z",
     "iopub.status.idle": "2025-07-30T21:27:18.630263Z",
     "shell.execute_reply": "2025-07-30T21:27:18.629057Z"
    },
    "papermill": {
     "duration": 12.496737,
     "end_time": "2025-07-30T21:27:18.632066",
     "exception": false,
     "start_time": "2025-07-30T21:27:06.135329",
     "status": "completed"
    },
    "tags": []
   },
   "outputs": [
    {
     "name": "stdout",
     "output_type": "stream",
     "text": [
      "Loading SIAB data from cache: data/siab_cached.csv.gz\n"
     ]
    },
    {
     "name": "stdout",
     "output_type": "stream",
     "text": [
      "(643690, 164)\n"
     ]
    }
   ],
   "source": [
    "from pathlib import Path\n",
    "import pandas as pd\n",
    "\n",
    "# File paths\n",
    "raw_file = Path(\"data/raw/siab.csv\")\n",
    "cache_file = Path(\"data/siab_cached.csv.gz\")\n",
    "\n",
    "# Ensure cache directory exists\n",
    "cache_file.parent.mkdir(parents=True, exist_ok=True)\n",
    "\n",
    "# Load with simple caching\n",
    "if cache_file.exists():\n",
    "    print(f\"Loading SIAB data from cache: {cache_file}\")\n",
    "    siab = pd.read_csv(cache_file, compression='gzip')\n",
    "else:\n",
    "    print(f\"Cache not found. Reading raw SIAB data: {raw_file}\")\n",
    "    siab = pd.read_csv(raw_file)\n",
    "    siab.to_csv(cache_file, index=False, compression='gzip')\n",
    "    print(f\"Cached SIAB data to: {cache_file}\")\n",
    "\n",
    "# Now use `siab` DataFrame as needed\n",
    "print(siab.shape)"
   ]
  },
  {
   "cell_type": "code",
   "execution_count": 10,
   "id": "db0ca512-5f53-4dba-abdb-a2888bca41ba",
   "metadata": {
    "execution": {
     "iopub.execute_input": "2025-07-30T21:27:18.680878Z",
     "iopub.status.busy": "2025-07-30T21:27:18.680075Z",
     "iopub.status.idle": "2025-07-30T21:27:18.686051Z",
     "shell.execute_reply": "2025-07-30T21:27:18.685103Z"
    },
    "papermill": {
     "duration": 0.030655,
     "end_time": "2025-07-30T21:27:18.687683",
     "exception": false,
     "start_time": "2025-07-30T21:27:18.657028",
     "status": "completed"
    },
    "tags": []
   },
   "outputs": [],
   "source": [
    "#siab"
   ]
  },
  {
   "cell_type": "code",
   "execution_count": 11,
   "id": "a0edb063",
   "metadata": {
    "execution": {
     "iopub.execute_input": "2025-07-30T21:27:18.731190Z",
     "iopub.status.busy": "2025-07-30T21:27:18.730714Z",
     "iopub.status.idle": "2025-07-30T21:27:18.735363Z",
     "shell.execute_reply": "2025-07-30T21:27:18.734373Z"
    },
    "papermill": {
     "duration": 0.027933,
     "end_time": "2025-07-30T21:27:18.737011",
     "exception": false,
     "start_time": "2025-07-30T21:27:18.709078",
     "status": "completed"
    },
    "tags": []
   },
   "outputs": [],
   "source": [
    "#import pandas as pd\n",
    "#\n",
    "#X_train = pd.read_csv(\"./data/X_train.csv\")\n",
    "#y_train = pd.read_csv(\"./data/y_train.csv\")"
   ]
  },
  {
   "cell_type": "code",
   "execution_count": 12,
   "id": "63d08085",
   "metadata": {
    "execution": {
     "iopub.execute_input": "2025-07-30T21:27:18.780998Z",
     "iopub.status.busy": "2025-07-30T21:27:18.780518Z",
     "iopub.status.idle": "2025-07-30T21:27:18.785080Z",
     "shell.execute_reply": "2025-07-30T21:27:18.784145Z"
    },
    "papermill": {
     "duration": 0.02812,
     "end_time": "2025-07-30T21:27:18.786666",
     "exception": false,
     "start_time": "2025-07-30T21:27:18.758546",
     "status": "completed"
    },
    "tags": []
   },
   "outputs": [],
   "source": [
    "#X_test = pd.read_csv(\"./data/X_test.csv\")\n",
    "#y_true = pd.read_csv(\"./data/y_test.csv\")"
   ]
  },
  {
   "cell_type": "code",
   "execution_count": 13,
   "id": "98a8d0fa-1d3d-4ed8-bb2c-281470e24add",
   "metadata": {
    "execution": {
     "iopub.execute_input": "2025-07-30T21:27:18.830622Z",
     "iopub.status.busy": "2025-07-30T21:27:18.829888Z",
     "iopub.status.idle": "2025-07-30T21:27:18.834504Z",
     "shell.execute_reply": "2025-07-30T21:27:18.833607Z"
    },
    "papermill": {
     "duration": 0.028192,
     "end_time": "2025-07-30T21:27:18.836196",
     "exception": false,
     "start_time": "2025-07-30T21:27:18.808004",
     "status": "completed"
    },
    "tags": []
   },
   "outputs": [],
   "source": [
    "# Calibration data for conformal\n",
    "#X_calib = pd.read_csv(\"./data/X_calib.csv\")\n",
    "#y_calib = pd.read_csv(\"./data/y_calib.csv\")"
   ]
  },
  {
   "cell_type": "markdown",
   "id": "997051c5-15bd-4b69-9786-c3001a3ce484",
   "metadata": {
    "papermill": {
     "duration": 0.021486,
     "end_time": "2025-07-30T21:27:18.879914",
     "exception": false,
     "start_time": "2025-07-30T21:27:18.858428",
     "status": "completed"
    },
    "tags": []
   },
   "source": [
    "# Splitting Data and Setting Training Data Size"
   ]
  },
  {
   "cell_type": "code",
   "execution_count": 14,
   "id": "e993b61f-042d-41a6-8c81-f55681f86335",
   "metadata": {
    "execution": {
     "iopub.execute_input": "2025-07-30T21:27:18.924672Z",
     "iopub.status.busy": "2025-07-30T21:27:18.924171Z",
     "iopub.status.idle": "2025-07-30T21:27:18.937470Z",
     "shell.execute_reply": "2025-07-30T21:27:18.936475Z"
    },
    "papermill": {
     "duration": 0.037651,
     "end_time": "2025-07-30T21:27:18.939110",
     "exception": false,
     "start_time": "2025-07-30T21:27:18.901459",
     "status": "completed"
    },
    "tags": []
   },
   "outputs": [],
   "source": [
    "def sample_by_year_size(df,\n",
    "                        training_year: str,\n",
    "                        training_size: str,\n",
    "                        random_state: int = 42):\n",
    "    # --- parse training_year into a list of int years ---\n",
    "    if \"_\" in training_year:\n",
    "        start_str, end_str = training_year.split(\"_\", 1)\n",
    "        start = int(start_str)\n",
    "        end   = int(end_str) if len(end_str) == 4 else (int(end_str) + (start // 100)*100)\n",
    "        years = list(range(start, end + 1))\n",
    "    else:\n",
    "        years = [int(training_year)]\n",
    "\n",
    "    df = df[df[\"year\"].isin(years)].reset_index(drop=True)\n",
    "\n",
    "    # --- map training_size to total number of samples ---\n",
    "    total_map = {\"25k\": 25_000, \"5k\": 5_000, \"1k\": 1_000}\n",
    "    if training_size not in total_map:\n",
    "        return df  # e.g. \"all\"\n",
    "\n",
    "    total_samples = total_map[training_size]\n",
    "    n_years       = len(years)\n",
    "    base          = total_samples // n_years\n",
    "    remainder     = total_samples % n_years\n",
    "\n",
    "    # --- build a dict: year -> how many to sample ---\n",
    "    # give +1 to the first `remainder` years in ascending order\n",
    "    quotas = {\n",
    "        year: base + (1 if idx < remainder else 0)\n",
    "        for idx, year in enumerate(sorted(years))\n",
    "    }\n",
    "\n",
    "    # --- sample per‐year according to the quota dict ---\n",
    "    sampled = (\n",
    "        df\n",
    "        .groupby(\"year\", group_keys=False)\n",
    "        .apply(lambda grp: grp.sample(\n",
    "            n=min(len(grp), quotas[grp.name]),\n",
    "            random_state=random_state))\n",
    "        .reset_index(drop=True)\n",
    "    )\n",
    "\n",
    "    return sampled"
   ]
  },
  {
   "cell_type": "code",
   "execution_count": 15,
   "id": "c0ccd338-0e02-41f3-a09d-f56f9266e3fb",
   "metadata": {
    "execution": {
     "iopub.execute_input": "2025-07-30T21:27:18.985113Z",
     "iopub.status.busy": "2025-07-30T21:27:18.984418Z",
     "iopub.status.idle": "2025-07-30T21:27:18.989728Z",
     "shell.execute_reply": "2025-07-30T21:27:18.988818Z"
    },
    "papermill": {
     "duration": 0.030157,
     "end_time": "2025-07-30T21:27:18.991459",
     "exception": false,
     "start_time": "2025-07-30T21:27:18.961302",
     "status": "completed"
    },
    "tags": []
   },
   "outputs": [],
   "source": [
    "#universe[\"training_size\"]"
   ]
  },
  {
   "cell_type": "code",
   "execution_count": 16,
   "id": "ca707fd7-8047-4acd-bfa5-66248fbbf8e6",
   "metadata": {
    "execution": {
     "iopub.execute_input": "2025-07-30T21:27:19.038613Z",
     "iopub.status.busy": "2025-07-30T21:27:19.038171Z",
     "iopub.status.idle": "2025-07-30T21:27:19.043286Z",
     "shell.execute_reply": "2025-07-30T21:27:19.042334Z"
    },
    "papermill": {
     "duration": 0.031026,
     "end_time": "2025-07-30T21:27:19.045020",
     "exception": false,
     "start_time": "2025-07-30T21:27:19.013994",
     "status": "completed"
    },
    "tags": []
   },
   "outputs": [],
   "source": [
    "#universe[\"training_year\"]"
   ]
  },
  {
   "cell_type": "code",
   "execution_count": 17,
   "id": "aea9c6ef-6f46-42c8-85eb-5a62025c1508",
   "metadata": {
    "execution": {
     "iopub.execute_input": "2025-07-30T21:27:19.093093Z",
     "iopub.status.busy": "2025-07-30T21:27:19.092601Z",
     "iopub.status.idle": "2025-07-30T21:27:19.306982Z",
     "shell.execute_reply": "2025-07-30T21:27:19.305985Z"
    },
    "papermill": {
     "duration": 0.241334,
     "end_time": "2025-07-30T21:27:19.309075",
     "exception": false,
     "start_time": "2025-07-30T21:27:19.067741",
     "status": "completed"
    },
    "tags": []
   },
   "outputs": [],
   "source": [
    "siab_train = sample_by_year_size(siab,\n",
    "                               training_year=universe[\"training_year\"],\n",
    "                               training_size=universe[\"training_size\"])"
   ]
  },
  {
   "cell_type": "code",
   "execution_count": 18,
   "id": "8d3afb32-789d-442c-8d5d-9f5aa8dd2eed",
   "metadata": {
    "execution": {
     "iopub.execute_input": "2025-07-30T21:27:19.356866Z",
     "iopub.status.busy": "2025-07-30T21:27:19.356374Z",
     "iopub.status.idle": "2025-07-30T21:27:19.361305Z",
     "shell.execute_reply": "2025-07-30T21:27:19.360261Z"
    },
    "papermill": {
     "duration": 0.030149,
     "end_time": "2025-07-30T21:27:19.363236",
     "exception": false,
     "start_time": "2025-07-30T21:27:19.333087",
     "status": "completed"
    },
    "tags": []
   },
   "outputs": [],
   "source": [
    "#siab_train.shape"
   ]
  },
  {
   "cell_type": "code",
   "execution_count": 19,
   "id": "d582db68-1a4c-47fb-84fc-08518dc1975a",
   "metadata": {
    "execution": {
     "iopub.execute_input": "2025-07-30T21:27:19.413168Z",
     "iopub.status.busy": "2025-07-30T21:27:19.412707Z",
     "iopub.status.idle": "2025-07-30T21:27:19.417791Z",
     "shell.execute_reply": "2025-07-30T21:27:19.416789Z"
    },
    "papermill": {
     "duration": 0.031321,
     "end_time": "2025-07-30T21:27:19.419411",
     "exception": false,
     "start_time": "2025-07-30T21:27:19.388090",
     "status": "completed"
    },
    "tags": []
   },
   "outputs": [],
   "source": [
    "#display(siab_train.groupby(\"year\").size())"
   ]
  },
  {
   "cell_type": "code",
   "execution_count": 20,
   "id": "a561edb4-d032-42cb-8256-22eac1111c64",
   "metadata": {
    "execution": {
     "iopub.execute_input": "2025-07-30T21:27:19.468652Z",
     "iopub.status.busy": "2025-07-30T21:27:19.468181Z",
     "iopub.status.idle": "2025-07-30T21:27:19.727756Z",
     "shell.execute_reply": "2025-07-30T21:27:19.726808Z"
    },
    "papermill": {
     "duration": 0.286197,
     "end_time": "2025-07-30T21:27:19.729602",
     "exception": false,
     "start_time": "2025-07-30T21:27:19.443405",
     "status": "completed"
    },
    "tags": []
   },
   "outputs": [],
   "source": [
    "#siab_train = siab_s[siab_s.year < 2015]\n",
    "siab_calib = siab[siab.year == 2015]\n",
    "siab_test = siab[siab.year == 2016]"
   ]
  },
  {
   "cell_type": "code",
   "execution_count": 21,
   "id": "472de16f-c3db-4916-846b-1f0de9cf1746",
   "metadata": {
    "execution": {
     "iopub.execute_input": "2025-07-30T21:27:19.758938Z",
     "iopub.status.busy": "2025-07-30T21:27:19.758493Z",
     "iopub.status.idle": "2025-07-30T21:27:19.765516Z",
     "shell.execute_reply": "2025-07-30T21:27:19.764749Z"
    },
    "papermill": {
     "duration": 0.020227,
     "end_time": "2025-07-30T21:27:19.766815",
     "exception": false,
     "start_time": "2025-07-30T21:27:19.746588",
     "status": "completed"
    },
    "tags": []
   },
   "outputs": [],
   "source": [
    "X_train = siab_train.iloc[:,4:164]\n",
    "y_train = siab_train.iloc[:, [3]]"
   ]
  },
  {
   "cell_type": "code",
   "execution_count": 22,
   "id": "828c96af-f43a-4ed6-ba47-8ac73a47d56c",
   "metadata": {
    "execution": {
     "iopub.execute_input": "2025-07-30T21:27:19.790934Z",
     "iopub.status.busy": "2025-07-30T21:27:19.790434Z",
     "iopub.status.idle": "2025-07-30T21:27:19.840674Z",
     "shell.execute_reply": "2025-07-30T21:27:19.839648Z"
    },
    "papermill": {
     "duration": 0.064343,
     "end_time": "2025-07-30T21:27:19.842542",
     "exception": false,
     "start_time": "2025-07-30T21:27:19.778199",
     "status": "completed"
    },
    "tags": []
   },
   "outputs": [],
   "source": [
    "X_calib = siab_calib.iloc[:,4:164]\n",
    "y_calib = siab_calib.iloc[:, [3]]"
   ]
  },
  {
   "cell_type": "code",
   "execution_count": 23,
   "id": "c34be9c3-6bd6-476e-acd3-845840e303be",
   "metadata": {
    "execution": {
     "iopub.execute_input": "2025-07-30T21:27:19.890195Z",
     "iopub.status.busy": "2025-07-30T21:27:19.889645Z",
     "iopub.status.idle": "2025-07-30T21:27:19.943789Z",
     "shell.execute_reply": "2025-07-30T21:27:19.942727Z"
    },
    "papermill": {
     "duration": 0.079668,
     "end_time": "2025-07-30T21:27:19.945525",
     "exception": false,
     "start_time": "2025-07-30T21:27:19.865857",
     "status": "completed"
    },
    "tags": []
   },
   "outputs": [],
   "source": [
    "X_test = siab_test.iloc[:,4:164]\n",
    "y_true = siab_test.iloc[:, [3]]"
   ]
  },
  {
   "cell_type": "markdown",
   "id": "9901737e-04df-44f0-9100-f5ad144ed040",
   "metadata": {
    "papermill": {
     "duration": 0.022413,
     "end_time": "2025-07-30T21:27:19.991869",
     "exception": false,
     "start_time": "2025-07-30T21:27:19.969456",
     "status": "completed"
    },
    "tags": []
   },
   "source": [
    "# Splitting Data and Setting Training Data Size OLD VERSION"
   ]
  },
  {
   "cell_type": "code",
   "execution_count": 24,
   "id": "acbc8f7d-8fc8-4e86-8c59-5dcb0f58384b",
   "metadata": {
    "execution": {
     "iopub.execute_input": "2025-07-30T21:27:20.034539Z",
     "iopub.status.busy": "2025-07-30T21:27:20.033871Z",
     "iopub.status.idle": "2025-07-30T21:27:20.039867Z",
     "shell.execute_reply": "2025-07-30T21:27:20.038887Z"
    },
    "papermill": {
     "duration": 0.026973,
     "end_time": "2025-07-30T21:27:20.041477",
     "exception": false,
     "start_time": "2025-07-30T21:27:20.014504",
     "status": "completed"
    },
    "tags": []
   },
   "outputs": [],
   "source": [
    "#def sample_by_year(df, training_size, random_state=42):\n",
    "#    if training_size == \"2014\":\n",
    "#        return df[df[\"year\"] == 2014].reset_index(drop=True)\n",
    "#    \n",
    "#    size_map = {\n",
    "#        \"25k\": 5000,\n",
    "#        \"5k\": 1000,\n",
    "#        \"1k\": 200\n",
    "#    }\n",
    "#\n",
    "#    if training_size not in size_map:\n",
    "#        return df.reset_index(drop=True)  # use all data\n",
    "#\n",
    "#    n_per_year = size_map[training_size]\n",
    "#    grouped = df.groupby(\"year\")\n",
    "#    sampled = grouped.apply(lambda x: x.sample(n=min(n_per_year, len(x)), random_state=random_state))\n",
    "#    return sampled.reset_index(drop=True)"
   ]
  },
  {
   "cell_type": "code",
   "execution_count": 25,
   "id": "6d931f52-beaf-43ff-9e78-9d44a448d54e",
   "metadata": {
    "execution": {
     "iopub.execute_input": "2025-07-30T21:27:20.088853Z",
     "iopub.status.busy": "2025-07-30T21:27:20.088390Z",
     "iopub.status.idle": "2025-07-30T21:27:20.113522Z",
     "shell.execute_reply": "2025-07-30T21:27:20.112854Z"
    },
    "papermill": {
     "duration": 0.050485,
     "end_time": "2025-07-30T21:27:20.114744",
     "exception": false,
     "start_time": "2025-07-30T21:27:20.064259",
     "status": "completed"
    },
    "tags": []
   },
   "outputs": [],
   "source": [
    "#siab_s = sample_by_year(siab, universe[\"training_size\"])"
   ]
  },
  {
   "cell_type": "code",
   "execution_count": 26,
   "id": "5db0a40e-a4e2-4920-be85-b12ae061d70d",
   "metadata": {
    "execution": {
     "iopub.execute_input": "2025-07-30T21:27:20.138282Z",
     "iopub.status.busy": "2025-07-30T21:27:20.137640Z",
     "iopub.status.idle": "2025-07-30T21:27:20.141935Z",
     "shell.execute_reply": "2025-07-30T21:27:20.141223Z"
    },
    "papermill": {
     "duration": 0.017079,
     "end_time": "2025-07-30T21:27:20.143141",
     "exception": false,
     "start_time": "2025-07-30T21:27:20.126062",
     "status": "completed"
    },
    "tags": []
   },
   "outputs": [],
   "source": [
    "#display(siab_s.groupby(\"year\").size())"
   ]
  },
  {
   "cell_type": "code",
   "execution_count": 27,
   "id": "e6c733c5",
   "metadata": {
    "execution": {
     "iopub.execute_input": "2025-07-30T21:27:20.166012Z",
     "iopub.status.busy": "2025-07-30T21:27:20.165536Z",
     "iopub.status.idle": "2025-07-30T21:27:20.287652Z",
     "shell.execute_reply": "2025-07-30T21:27:20.286868Z"
    },
    "papermill": {
     "duration": 0.13501,
     "end_time": "2025-07-30T21:27:20.289053",
     "exception": false,
     "start_time": "2025-07-30T21:27:20.154043",
     "status": "completed"
    },
    "tags": []
   },
   "outputs": [],
   "source": [
    "# Auxiliary data needed downstream in the pipeline\n",
    "\n",
    "org_train = X_train.copy()\n",
    "org_test = X_test.copy()\n",
    "org_calib = X_calib.copy()"
   ]
  },
  {
   "cell_type": "code",
   "execution_count": 28,
   "id": "1466abac-c6da-4492-a62f-4240ae3783af",
   "metadata": {
    "execution": {
     "iopub.execute_input": "2025-07-30T21:27:20.312546Z",
     "iopub.status.busy": "2025-07-30T21:27:20.311839Z",
     "iopub.status.idle": "2025-07-30T21:27:20.316565Z",
     "shell.execute_reply": "2025-07-30T21:27:20.315835Z"
    },
    "papermill": {
     "duration": 0.01733,
     "end_time": "2025-07-30T21:27:20.317865",
     "exception": false,
     "start_time": "2025-07-30T21:27:20.300535",
     "status": "completed"
    },
    "tags": []
   },
   "outputs": [],
   "source": [
    "# put in other script?\n",
    "# Group sizes\n",
    "\n",
    "#def calculate_percentages(df, df_name):\n",
    "#    total_entries = len(df)\n",
    "#\n",
    "#    female_pct = (df['frau1'] == 1).mean() * 100\n",
    "#    non_german_pct = ((df['maxdeutsch1'] == 0) & (df['maxdeutsch.Missing.'] == 0)).mean() * 100\n",
    "#    non_german_male_pct = ((df['frau1'] == 0) & (df['maxdeutsch1'] == 0) & (df['maxdeutsch.Missing.'] == 0)).mean() * 100\n",
    "#    non_german_female_pct = ((df['frau1'] == 1) & (df['maxdeutsch1'] == 0) & (df['maxdeutsch.Missing.'] == 0)).mean() * 100\n",
    "#\n",
    "#    print(f\"--- {df_name} ---\")\n",
    "#    print(f\"Female: {female_pct:.2f}%\")\n",
    "#    print(f\"Non-German: {non_german_pct:.2f}%\")\n",
    "#    print(f\"Non-German Male: {non_german_male_pct:.2f}%\")\n",
    "#    print(f\"Non-German Female: {non_german_female_pct:.2f}%\\n\")\n",
    "#\n",
    "## Calculate for each DataFrame\n",
    "#calculate_percentages(siab_calib, \"siab_calib\")\n",
    "#calculate_percentages(siab_test, \"siab_test\")\n",
    "#calculate_percentages(siab_train, \"siab_train\")"
   ]
  },
  {
   "cell_type": "markdown",
   "id": "0a4a1b33",
   "metadata": {
    "papermill": {
     "duration": 0.010723,
     "end_time": "2025-07-30T21:27:20.339764",
     "exception": false,
     "start_time": "2025-07-30T21:27:20.329041",
     "status": "completed"
    },
    "tags": []
   },
   "source": [
    "# Preprocessing Data"
   ]
  },
  {
   "cell_type": "code",
   "execution_count": 29,
   "id": "ca879031",
   "metadata": {
    "execution": {
     "iopub.execute_input": "2025-07-30T21:27:20.362120Z",
     "iopub.status.busy": "2025-07-30T21:27:20.361603Z",
     "iopub.status.idle": "2025-07-30T21:27:20.366404Z",
     "shell.execute_reply": "2025-07-30T21:27:20.365757Z"
    },
    "papermill": {
     "duration": 0.017384,
     "end_time": "2025-07-30T21:27:20.367674",
     "exception": false,
     "start_time": "2025-07-30T21:27:20.350290",
     "status": "completed"
    },
    "tags": []
   },
   "outputs": [],
   "source": [
    "# EXCLUDE PROTECTED FEATURES\n",
    "# ----------------------\n",
    "# \"exclude_features\": \"none\", # \"nationality\", \"sex\", \"nationality-sex\"\n",
    "\n",
    "excluded_features = universe[\"exclude_features\"].split(\"-\") # split, e.g.: \"nationality-sex\" -> [\"nationality\", \"sex\"]\n",
    "excluded_features_dictionary = {\n",
    "    \"nationality\": [\"maxdeutsch1\", \"maxdeutsch.Missing.\"],\n",
    "    \"sex\": [\"frau1\"],\n",
    "    \"age\": [\"age\"],\n",
    "}\n"
   ]
  },
  {
   "cell_type": "code",
   "execution_count": 30,
   "id": "b745ac60",
   "metadata": {
    "execution": {
     "iopub.execute_input": "2025-07-30T21:27:20.390858Z",
     "iopub.status.busy": "2025-07-30T21:27:20.390201Z",
     "iopub.status.idle": "2025-07-30T21:27:20.394688Z",
     "shell.execute_reply": "2025-07-30T21:27:20.393978Z"
    },
    "papermill": {
     "duration": 0.017041,
     "end_time": "2025-07-30T21:27:20.395886",
     "exception": false,
     "start_time": "2025-07-30T21:27:20.378845",
     "status": "completed"
    },
    "tags": []
   },
   "outputs": [],
   "source": [
    "# Code nice names to column names\n",
    "\n",
    "excluded_features_columns = [\n",
    "    excluded_features_dictionary[f] for f in excluded_features if len(f) > 0 and f != \"none\"\n",
    "]"
   ]
  },
  {
   "cell_type": "code",
   "execution_count": 31,
   "id": "f84f73a2",
   "metadata": {
    "execution": {
     "iopub.execute_input": "2025-07-30T21:27:20.419379Z",
     "iopub.status.busy": "2025-07-30T21:27:20.418868Z",
     "iopub.status.idle": "2025-07-30T21:27:20.423993Z",
     "shell.execute_reply": "2025-07-30T21:27:20.423330Z"
    },
    "papermill": {
     "duration": 0.018128,
     "end_time": "2025-07-30T21:27:20.425253",
     "exception": false,
     "start_time": "2025-07-30T21:27:20.407125",
     "status": "completed"
    },
    "tags": []
   },
   "outputs": [],
   "source": [
    "from utils import flatten_once\n",
    "\n",
    "excluded_features_columns = flatten_once(excluded_features_columns)"
   ]
  },
  {
   "cell_type": "code",
   "execution_count": 32,
   "id": "884dea22",
   "metadata": {
    "execution": {
     "iopub.execute_input": "2025-07-30T21:27:20.448593Z",
     "iopub.status.busy": "2025-07-30T21:27:20.447808Z",
     "iopub.status.idle": "2025-07-30T21:27:20.452192Z",
     "shell.execute_reply": "2025-07-30T21:27:20.451494Z"
    },
    "papermill": {
     "duration": 0.016915,
     "end_time": "2025-07-30T21:27:20.453466",
     "exception": false,
     "start_time": "2025-07-30T21:27:20.436551",
     "status": "completed"
    },
    "tags": []
   },
   "outputs": [],
   "source": [
    "if len(excluded_features_columns) > 0:\n",
    "    print(f\"Dropping features: {excluded_features_columns}\")\n",
    "    X_train.drop(excluded_features_columns, axis=1, inplace=True)"
   ]
  },
  {
   "cell_type": "code",
   "execution_count": 33,
   "id": "95ab8b16",
   "metadata": {
    "execution": {
     "iopub.execute_input": "2025-07-30T21:27:20.476840Z",
     "iopub.status.busy": "2025-07-30T21:27:20.476317Z",
     "iopub.status.idle": "2025-07-30T21:27:20.480766Z",
     "shell.execute_reply": "2025-07-30T21:27:20.480101Z"
    },
    "papermill": {
     "duration": 0.017316,
     "end_time": "2025-07-30T21:27:20.481988",
     "exception": false,
     "start_time": "2025-07-30T21:27:20.464672",
     "status": "completed"
    },
    "tags": []
   },
   "outputs": [],
   "source": [
    "if len(excluded_features_columns) > 0:\n",
    "    print(f\"Dropping features: {excluded_features_columns}\")\n",
    "    X_test.drop(excluded_features_columns, axis=1, inplace=True)"
   ]
  },
  {
   "cell_type": "code",
   "execution_count": 34,
   "id": "1853aaf5-fb9f-46cb-a2b5-8ea4ae2237e4",
   "metadata": {
    "execution": {
     "iopub.execute_input": "2025-07-30T21:27:20.505143Z",
     "iopub.status.busy": "2025-07-30T21:27:20.504649Z",
     "iopub.status.idle": "2025-07-30T21:27:20.509061Z",
     "shell.execute_reply": "2025-07-30T21:27:20.508344Z"
    },
    "papermill": {
     "duration": 0.017104,
     "end_time": "2025-07-30T21:27:20.510359",
     "exception": false,
     "start_time": "2025-07-30T21:27:20.493255",
     "status": "completed"
    },
    "tags": []
   },
   "outputs": [],
   "source": [
    "if len(excluded_features_columns) > 0:\n",
    "    print(f\"Dropping features: {excluded_features_columns}\")\n",
    "    X_calib.drop(excluded_features_columns, axis=1, inplace=True)"
   ]
  },
  {
   "cell_type": "code",
   "execution_count": 35,
   "id": "6727d079-03e5-481e-9d38-292a90b7a0a8",
   "metadata": {
    "execution": {
     "iopub.execute_input": "2025-07-30T21:27:20.533866Z",
     "iopub.status.busy": "2025-07-30T21:27:20.533380Z",
     "iopub.status.idle": "2025-07-30T21:27:20.536945Z",
     "shell.execute_reply": "2025-07-30T21:27:20.536284Z"
    },
    "papermill": {
     "duration": 0.01658,
     "end_time": "2025-07-30T21:27:20.538125",
     "exception": false,
     "start_time": "2025-07-30T21:27:20.521545",
     "status": "completed"
    },
    "tags": []
   },
   "outputs": [],
   "source": [
    "# SPLIT & STRATIFY DATA\n",
    "# ----------------------"
   ]
  },
  {
   "cell_type": "code",
   "execution_count": 36,
   "id": "76c4dc6d",
   "metadata": {
    "execution": {
     "iopub.execute_input": "2025-07-30T21:27:20.561294Z",
     "iopub.status.busy": "2025-07-30T21:27:20.560811Z",
     "iopub.status.idle": "2025-07-30T21:27:20.565214Z",
     "shell.execute_reply": "2025-07-30T21:27:20.564476Z"
    },
    "papermill": {
     "duration": 0.01716,
     "end_time": "2025-07-30T21:27:20.566509",
     "exception": false,
     "start_time": "2025-07-30T21:27:20.549349",
     "status": "completed"
    },
    "tags": []
   },
   "outputs": [],
   "source": [
    "# EXCLUDE CERTAIN SUBGROUPS\n",
    "# ----------------------\n",
    "\n",
    "mode = universe.get(\"exclude_subgroups\", \"keep-all\") \n",
    "# Fetches the exclude_subgroups setting from the universe dict.\n",
    "# Defaults to \"keep-all\" if the key is missing."
   ]
  },
  {
   "cell_type": "code",
   "execution_count": 37,
   "id": "21994072",
   "metadata": {
    "execution": {
     "iopub.execute_input": "2025-07-30T21:27:20.590182Z",
     "iopub.status.busy": "2025-07-30T21:27:20.589709Z",
     "iopub.status.idle": "2025-07-30T21:27:20.594853Z",
     "shell.execute_reply": "2025-07-30T21:27:20.594190Z"
    },
    "papermill": {
     "duration": 0.018132,
     "end_time": "2025-07-30T21:27:20.596208",
     "exception": false,
     "start_time": "2025-07-30T21:27:20.578076",
     "status": "completed"
    },
    "tags": []
   },
   "outputs": [],
   "source": [
    "if mode == \"keep-all\":\n",
    "    keep_mask = pd.Series(True, index=org_train.index)\n",
    "\n",
    "# org_train contains the original feature columns from features_org (in Simson)\n",
    "# features_org contains unprocessed features, for me X_train at beginning ???\n",
    "# For keep-all, creates a boolean Series (keep_mask) of all True, so no rows are removed.\n",
    "\n",
    "elif mode == \"drop-non-german\":\n",
    "    keep_mask = org_train[\"maxdeutsch1\"] == 1 # ??? what about missing values?\n",
    "\n",
    "else:\n",
    "    raise ValueError(f\"Unsupported mode for exclude_subgroups: {mode}\")\n"
   ]
  },
  {
   "cell_type": "code",
   "execution_count": 38,
   "id": "71651440",
   "metadata": {
    "execution": {
     "iopub.execute_input": "2025-07-30T21:27:20.619930Z",
     "iopub.status.busy": "2025-07-30T21:27:20.619315Z",
     "iopub.status.idle": "2025-07-30T21:27:20.624722Z",
     "shell.execute_reply": "2025-07-30T21:27:20.623999Z"
    },
    "papermill": {
     "duration": 0.018455,
     "end_time": "2025-07-30T21:27:20.626126",
     "exception": false,
     "start_time": "2025-07-30T21:27:20.607671",
     "status": "completed"
    },
    "tags": []
   },
   "outputs": [],
   "source": [
    "n_drop = (~keep_mask).sum() # Calculates how many rows are set to be dropped\n",
    "if n_drop > 0:\n",
    "    pct = n_drop / len(keep_mask) * 100\n",
    "    print(f\"Dropping {n_drop} rows ({pct:.2f}%) where mode='{mode}'\")"
   ]
  },
  {
   "cell_type": "code",
   "execution_count": 39,
   "id": "5fb8eee5",
   "metadata": {
    "execution": {
     "iopub.execute_input": "2025-07-30T21:27:20.649654Z",
     "iopub.status.busy": "2025-07-30T21:27:20.649171Z",
     "iopub.status.idle": "2025-07-30T21:27:20.654487Z",
     "shell.execute_reply": "2025-07-30T21:27:20.653763Z"
    },
    "papermill": {
     "duration": 0.018229,
     "end_time": "2025-07-30T21:27:20.655869",
     "exception": false,
     "start_time": "2025-07-30T21:27:20.637640",
     "status": "completed"
    },
    "tags": []
   },
   "outputs": [],
   "source": [
    "X_train = X_train[keep_mask]"
   ]
  },
  {
   "cell_type": "code",
   "execution_count": 40,
   "id": "b202bb3a",
   "metadata": {
    "execution": {
     "iopub.execute_input": "2025-07-30T21:27:20.681767Z",
     "iopub.status.busy": "2025-07-30T21:27:20.681234Z",
     "iopub.status.idle": "2025-07-30T21:27:20.686832Z",
     "shell.execute_reply": "2025-07-30T21:27:20.686113Z"
    },
    "papermill": {
     "duration": 0.019898,
     "end_time": "2025-07-30T21:27:20.688149",
     "exception": false,
     "start_time": "2025-07-30T21:27:20.668251",
     "status": "completed"
    },
    "tags": []
   },
   "outputs": [],
   "source": [
    "y_train = y_train[keep_mask]"
   ]
  },
  {
   "cell_type": "markdown",
   "id": "493e2ac3",
   "metadata": {
    "papermill": {
     "duration": 0.011428,
     "end_time": "2025-07-30T21:27:20.711982",
     "exception": false,
     "start_time": "2025-07-30T21:27:20.700554",
     "status": "completed"
    },
    "tags": []
   },
   "source": [
    "# Model Training"
   ]
  },
  {
   "cell_type": "code",
   "execution_count": 41,
   "id": "679e1268",
   "metadata": {
    "execution": {
     "iopub.execute_input": "2025-07-30T21:27:20.736626Z",
     "iopub.status.busy": "2025-07-30T21:27:20.735942Z",
     "iopub.status.idle": "2025-07-30T21:27:20.807732Z",
     "shell.execute_reply": "2025-07-30T21:27:20.807010Z"
    },
    "papermill": {
     "duration": 0.08524,
     "end_time": "2025-07-30T21:27:20.809097",
     "exception": false,
     "start_time": "2025-07-30T21:27:20.723857",
     "status": "completed"
    },
    "tags": []
   },
   "outputs": [],
   "source": [
    "from sklearn.linear_model import LogisticRegression\n",
    "from sklearn.ensemble import GradientBoostingClassifier, RandomForestClassifier\n",
    "\n",
    "if (universe[\"model\"] == \"logreg\"):\n",
    "    model = LogisticRegression() #penalty=\"none\") #, solver=\"newton-cg\", max_iter=1) # include random_state=19 ?\n",
    "elif (universe[\"model\"] == \"penalized_logreg\"):\n",
    "    model = LogisticRegression(penalty=\"l2\", C=1.0) #, solver=\"newton-cg\", max_iter=1)\n",
    "elif (universe[\"model\"] == \"rf\"):\n",
    "    model = RandomForestClassifier(n_estimators=100, n_jobs=-1)\n",
    "elif (universe[\"model\"] == \"gbm\"):\n",
    "    model = GradientBoostingClassifier()\n",
    "elif (universe[\"model\"] == \"elasticnet\"):\n",
    "    model = LogisticRegression(penalty = 'elasticnet', solver = 'saga', l1_ratio = 0.5, max_iter=5000) # which solver to use?\n",
    "else:\n",
    "    raise \"Unsupported universe.model\""
   ]
  },
  {
   "cell_type": "code",
   "execution_count": 42,
   "id": "0cc8f744",
   "metadata": {
    "execution": {
     "iopub.execute_input": "2025-07-30T21:27:20.833586Z",
     "iopub.status.busy": "2025-07-30T21:27:20.832920Z",
     "iopub.status.idle": "2025-07-30T21:27:20.838059Z",
     "shell.execute_reply": "2025-07-30T21:27:20.837347Z"
    },
    "papermill": {
     "duration": 0.018611,
     "end_time": "2025-07-30T21:27:20.839408",
     "exception": false,
     "start_time": "2025-07-30T21:27:20.820797",
     "status": "completed"
    },
    "tags": []
   },
   "outputs": [],
   "source": [
    "import numpy as np\n",
    "from sklearn.pipeline import Pipeline\n",
    "from sklearn.preprocessing import StandardScaler\n",
    "\n",
    "model = Pipeline([\n",
    "    #(\"continuous_processor\", continuous_processor),\n",
    "    #(\"categorical_preprocessor\", categorical_preprocessor),\n",
    "    (\"scale\", StandardScaler() if universe[\"scale\"] == \"scale\" else None), \n",
    "    (\"model\", model),\n",
    "])"
   ]
  },
  {
   "cell_type": "code",
   "execution_count": 43,
   "id": "9442c04d",
   "metadata": {
    "execution": {
     "iopub.execute_input": "2025-07-30T21:27:20.863353Z",
     "iopub.status.busy": "2025-07-30T21:27:20.862864Z",
     "iopub.status.idle": "2025-07-30T21:27:20.909779Z",
     "shell.execute_reply": "2025-07-30T21:27:20.908936Z"
    },
    "papermill": {
     "duration": 0.060488,
     "end_time": "2025-07-30T21:27:20.911622",
     "exception": false,
     "start_time": "2025-07-30T21:27:20.851134",
     "status": "completed"
    },
    "tags": []
   },
   "outputs": [
    {
     "name": "stderr",
     "output_type": "stream",
     "text": [
      "/dss/dsshome1/0C/ra93lal2/.local/share/virtualenvs/CMA_Fairness_v2-3j10GkSs/lib/python3.10/site-packages/sklearn/linear_model/_logistic.py:444: ConvergenceWarning: lbfgs failed to converge (status=1):\n",
      "STOP: TOTAL NO. of ITERATIONS REACHED LIMIT.\n",
      "\n",
      "Increase the number of iterations (max_iter) or scale the data as shown in:\n",
      "    https://scikit-learn.org/stable/modules/preprocessing.html\n",
      "Please also refer to the documentation for alternative solver options:\n",
      "    https://scikit-learn.org/stable/modules/linear_model.html#logistic-regression\n",
      "  n_iter_i = _check_optimize_result(\n"
     ]
    },
    {
     "data": {
      "text/html": [
       "<style>#sk-container-id-1 {color: black;background-color: white;}#sk-container-id-1 pre{padding: 0;}#sk-container-id-1 div.sk-toggleable {background-color: white;}#sk-container-id-1 label.sk-toggleable__label {cursor: pointer;display: block;width: 100%;margin-bottom: 0;padding: 0.3em;box-sizing: border-box;text-align: center;}#sk-container-id-1 label.sk-toggleable__label-arrow:before {content: \"▸\";float: left;margin-right: 0.25em;color: #696969;}#sk-container-id-1 label.sk-toggleable__label-arrow:hover:before {color: black;}#sk-container-id-1 div.sk-estimator:hover label.sk-toggleable__label-arrow:before {color: black;}#sk-container-id-1 div.sk-toggleable__content {max-height: 0;max-width: 0;overflow: hidden;text-align: left;background-color: #f0f8ff;}#sk-container-id-1 div.sk-toggleable__content pre {margin: 0.2em;color: black;border-radius: 0.25em;background-color: #f0f8ff;}#sk-container-id-1 input.sk-toggleable__control:checked~div.sk-toggleable__content {max-height: 200px;max-width: 100%;overflow: auto;}#sk-container-id-1 input.sk-toggleable__control:checked~label.sk-toggleable__label-arrow:before {content: \"▾\";}#sk-container-id-1 div.sk-estimator input.sk-toggleable__control:checked~label.sk-toggleable__label {background-color: #d4ebff;}#sk-container-id-1 div.sk-label input.sk-toggleable__control:checked~label.sk-toggleable__label {background-color: #d4ebff;}#sk-container-id-1 input.sk-hidden--visually {border: 0;clip: rect(1px 1px 1px 1px);clip: rect(1px, 1px, 1px, 1px);height: 1px;margin: -1px;overflow: hidden;padding: 0;position: absolute;width: 1px;}#sk-container-id-1 div.sk-estimator {font-family: monospace;background-color: #f0f8ff;border: 1px dotted black;border-radius: 0.25em;box-sizing: border-box;margin-bottom: 0.5em;}#sk-container-id-1 div.sk-estimator:hover {background-color: #d4ebff;}#sk-container-id-1 div.sk-parallel-item::after {content: \"\";width: 100%;border-bottom: 1px solid gray;flex-grow: 1;}#sk-container-id-1 div.sk-label:hover label.sk-toggleable__label {background-color: #d4ebff;}#sk-container-id-1 div.sk-serial::before {content: \"\";position: absolute;border-left: 1px solid gray;box-sizing: border-box;top: 0;bottom: 0;left: 50%;z-index: 0;}#sk-container-id-1 div.sk-serial {display: flex;flex-direction: column;align-items: center;background-color: white;padding-right: 0.2em;padding-left: 0.2em;position: relative;}#sk-container-id-1 div.sk-item {position: relative;z-index: 1;}#sk-container-id-1 div.sk-parallel {display: flex;align-items: stretch;justify-content: center;background-color: white;position: relative;}#sk-container-id-1 div.sk-item::before, #sk-container-id-1 div.sk-parallel-item::before {content: \"\";position: absolute;border-left: 1px solid gray;box-sizing: border-box;top: 0;bottom: 0;left: 50%;z-index: -1;}#sk-container-id-1 div.sk-parallel-item {display: flex;flex-direction: column;z-index: 1;position: relative;background-color: white;}#sk-container-id-1 div.sk-parallel-item:first-child::after {align-self: flex-end;width: 50%;}#sk-container-id-1 div.sk-parallel-item:last-child::after {align-self: flex-start;width: 50%;}#sk-container-id-1 div.sk-parallel-item:only-child::after {width: 0;}#sk-container-id-1 div.sk-dashed-wrapped {border: 1px dashed gray;margin: 0 0.4em 0.5em 0.4em;box-sizing: border-box;padding-bottom: 0.4em;background-color: white;}#sk-container-id-1 div.sk-label label {font-family: monospace;font-weight: bold;display: inline-block;line-height: 1.2em;}#sk-container-id-1 div.sk-label-container {text-align: center;}#sk-container-id-1 div.sk-container {/* jupyter's `normalize.less` sets `[hidden] { display: none; }` but bootstrap.min.css set `[hidden] { display: none !important; }` so we also need the `!important` here to be able to override the default hidden behavior on the sphinx rendered scikit-learn.org. See: https://github.com/scikit-learn/scikit-learn/issues/21755 */display: inline-block !important;position: relative;}#sk-container-id-1 div.sk-text-repr-fallback {display: none;}</style><div id=\"sk-container-id-1\" class=\"sk-top-container\"><div class=\"sk-text-repr-fallback\"><pre>Pipeline(steps=[(&#x27;scale&#x27;, None), (&#x27;model&#x27;, LogisticRegression())])</pre><b>In a Jupyter environment, please rerun this cell to show the HTML representation or trust the notebook. <br />On GitHub, the HTML representation is unable to render, please try loading this page with nbviewer.org.</b></div><div class=\"sk-container\" hidden><div class=\"sk-item sk-dashed-wrapped\"><div class=\"sk-label-container\"><div class=\"sk-label sk-toggleable\"><input class=\"sk-toggleable__control sk-hidden--visually\" id=\"sk-estimator-id-1\" type=\"checkbox\" ><label for=\"sk-estimator-id-1\" class=\"sk-toggleable__label sk-toggleable__label-arrow\">Pipeline</label><div class=\"sk-toggleable__content\"><pre>Pipeline(steps=[(&#x27;scale&#x27;, None), (&#x27;model&#x27;, LogisticRegression())])</pre></div></div></div><div class=\"sk-serial\"><div class=\"sk-item\"><div class=\"sk-estimator sk-toggleable\"><input class=\"sk-toggleable__control sk-hidden--visually\" id=\"sk-estimator-id-2\" type=\"checkbox\" ><label for=\"sk-estimator-id-2\" class=\"sk-toggleable__label sk-toggleable__label-arrow\">None</label><div class=\"sk-toggleable__content\"><pre>None</pre></div></div></div><div class=\"sk-item\"><div class=\"sk-estimator sk-toggleable\"><input class=\"sk-toggleable__control sk-hidden--visually\" id=\"sk-estimator-id-3\" type=\"checkbox\" ><label for=\"sk-estimator-id-3\" class=\"sk-toggleable__label sk-toggleable__label-arrow\">LogisticRegression</label><div class=\"sk-toggleable__content\"><pre>LogisticRegression()</pre></div></div></div></div></div></div></div>"
      ],
      "text/plain": [
       "Pipeline(steps=[('scale', None), ('model', LogisticRegression())])"
      ]
     },
     "execution_count": 43,
     "metadata": {},
     "output_type": "execute_result"
    }
   ],
   "source": [
    "model.fit(X_train, y_train.values.ravel())"
   ]
  },
  {
   "cell_type": "code",
   "execution_count": 44,
   "id": "af59f8c0",
   "metadata": {
    "execution": {
     "iopub.execute_input": "2025-07-30T21:27:20.936796Z",
     "iopub.status.busy": "2025-07-30T21:27:20.936305Z",
     "iopub.status.idle": "2025-07-30T21:27:20.940639Z",
     "shell.execute_reply": "2025-07-30T21:27:20.939942Z"
    },
    "papermill": {
     "duration": 0.017881,
     "end_time": "2025-07-30T21:27:20.941948",
     "exception": false,
     "start_time": "2025-07-30T21:27:20.924067",
     "status": "completed"
    },
    "tags": []
   },
   "outputs": [],
   "source": [
    "from fairness_multiverse.universe import predict_w_threshold"
   ]
  },
  {
   "cell_type": "code",
   "execution_count": 45,
   "id": "a7cf2e16",
   "metadata": {
    "execution": {
     "iopub.execute_input": "2025-07-30T21:27:20.966784Z",
     "iopub.status.busy": "2025-07-30T21:27:20.966142Z",
     "iopub.status.idle": "2025-07-30T21:27:21.047195Z",
     "shell.execute_reply": "2025-07-30T21:27:21.046358Z"
    },
    "papermill": {
     "duration": 0.09458,
     "end_time": "2025-07-30T21:27:21.048532",
     "exception": false,
     "start_time": "2025-07-30T21:27:20.953952",
     "status": "completed"
    },
    "tags": []
   },
   "outputs": [
    {
     "data": {
      "text/plain": [
       "0.8511537175342772"
      ]
     },
     "execution_count": 45,
     "metadata": {},
     "output_type": "execute_result"
    }
   ],
   "source": [
    "probs_test = model.predict_proba(X_test)\n",
    "\n",
    "'''\n",
    "Below code returns a boolean array (or binary 0/1 array depending on how it’s used) where each element \n",
    "is True if the probability of class 1 is greater than or equal to the threshold, and False otherwise.\n",
    "'''\n",
    "y_pred_default = predict_w_threshold(probs_test, 0.5)\n",
    "\n",
    "from sklearn.metrics import accuracy_score\n",
    "\n",
    "# Naive prediction\n",
    "accuracy_score(y_true = y_true, y_pred = y_pred_default)"
   ]
  },
  {
   "cell_type": "code",
   "execution_count": 46,
   "id": "081964c3",
   "metadata": {
    "execution": {
     "iopub.execute_input": "2025-07-30T21:27:21.073689Z",
     "iopub.status.busy": "2025-07-30T21:27:21.073033Z",
     "iopub.status.idle": "2025-07-30T21:27:21.147504Z",
     "shell.execute_reply": "2025-07-30T21:27:21.146625Z"
    },
    "papermill": {
     "duration": 0.088043,
     "end_time": "2025-07-30T21:27:21.148874",
     "exception": false,
     "start_time": "2025-07-30T21:27:21.060831",
     "status": "completed"
    },
    "tags": []
   },
   "outputs": [
    {
     "data": {
      "text/plain": [
       "array([0, 0, 0, ..., 0, 0, 0])"
      ]
     },
     "execution_count": 46,
     "metadata": {},
     "output_type": "execute_result"
    }
   ],
   "source": [
    "model.predict(X_test)"
   ]
  },
  {
   "cell_type": "markdown",
   "id": "56c9705b",
   "metadata": {
    "papermill": {
     "duration": 0.011499,
     "end_time": "2025-07-30T21:27:21.173231",
     "exception": false,
     "start_time": "2025-07-30T21:27:21.161732",
     "status": "completed"
    },
    "tags": []
   },
   "source": [
    "# Conformal Prediction"
   ]
  },
  {
   "cell_type": "code",
   "execution_count": 47,
   "id": "160ec6ff",
   "metadata": {
    "execution": {
     "iopub.execute_input": "2025-07-30T21:27:21.198053Z",
     "iopub.status.busy": "2025-07-30T21:27:21.197361Z",
     "iopub.status.idle": "2025-07-30T21:27:21.201648Z",
     "shell.execute_reply": "2025-07-30T21:27:21.201010Z"
    },
    "papermill": {
     "duration": 0.018085,
     "end_time": "2025-07-30T21:27:21.203059",
     "exception": false,
     "start_time": "2025-07-30T21:27:21.184974",
     "status": "completed"
    },
    "tags": []
   },
   "outputs": [],
   "source": [
    "# Miscoverage level for conformal prediction (10% allowed error rate => 90% target coverage)\n",
    "alpha = 0.1"
   ]
  },
  {
   "cell_type": "code",
   "execution_count": 48,
   "id": "eadf4555-3dd3-440e-8e35-f82a4ad9f855",
   "metadata": {
    "execution": {
     "iopub.execute_input": "2025-07-30T21:27:21.227934Z",
     "iopub.status.busy": "2025-07-30T21:27:21.227456Z",
     "iopub.status.idle": "2025-07-30T21:27:21.299179Z",
     "shell.execute_reply": "2025-07-30T21:27:21.298430Z"
    },
    "papermill": {
     "duration": 0.085444,
     "end_time": "2025-07-30T21:27:21.300662",
     "exception": false,
     "start_time": "2025-07-30T21:27:21.215218",
     "status": "completed"
    },
    "tags": []
   },
   "outputs": [],
   "source": [
    "probs_calib = model.predict_proba(X_calib)"
   ]
  },
  {
   "cell_type": "code",
   "execution_count": 49,
   "id": "2ed93547-6d5d-4983-9b36-1ecb300da49a",
   "metadata": {
    "execution": {
     "iopub.execute_input": "2025-07-30T21:27:21.326324Z",
     "iopub.status.busy": "2025-07-30T21:27:21.325649Z",
     "iopub.status.idle": "2025-07-30T21:27:21.330437Z",
     "shell.execute_reply": "2025-07-30T21:27:21.329770Z"
    },
    "papermill": {
     "duration": 0.018529,
     "end_time": "2025-07-30T21:27:21.331727",
     "exception": false,
     "start_time": "2025-07-30T21:27:21.313198",
     "status": "completed"
    },
    "tags": []
   },
   "outputs": [],
   "source": [
    "y_calib = y_calib.values.ravel().astype(int)"
   ]
  },
  {
   "cell_type": "code",
   "execution_count": 50,
   "id": "65d1320d-f588-4b38-9072-62af1ae97f7d",
   "metadata": {
    "execution": {
     "iopub.execute_input": "2025-07-30T21:27:21.357785Z",
     "iopub.status.busy": "2025-07-30T21:27:21.357172Z",
     "iopub.status.idle": "2025-07-30T21:27:21.363030Z",
     "shell.execute_reply": "2025-07-30T21:27:21.362318Z"
    },
    "papermill": {
     "duration": 0.019794,
     "end_time": "2025-07-30T21:27:21.364363",
     "exception": false,
     "start_time": "2025-07-30T21:27:21.344569",
     "status": "completed"
    },
    "tags": []
   },
   "outputs": [],
   "source": [
    "from fairness_multiverse.conformal import compute_nc_scores\n",
    "\n",
    "# Compute nonconformity scores on calibration set (1 - probability of true class)\n",
    "nc_scores = compute_nc_scores(probs_calib, y_calib)"
   ]
  },
  {
   "cell_type": "code",
   "execution_count": 51,
   "id": "df3b8ca3-53b7-43d5-9667-7c85da7aeda2",
   "metadata": {
    "execution": {
     "iopub.execute_input": "2025-07-30T21:27:21.390176Z",
     "iopub.status.busy": "2025-07-30T21:27:21.389558Z",
     "iopub.status.idle": "2025-07-30T21:27:21.395772Z",
     "shell.execute_reply": "2025-07-30T21:27:21.394606Z"
    },
    "papermill": {
     "duration": 0.023993,
     "end_time": "2025-07-30T21:27:21.400804",
     "exception": false,
     "start_time": "2025-07-30T21:27:21.376811",
     "status": "completed"
    },
    "tags": []
   },
   "outputs": [],
   "source": [
    "from fairness_multiverse.conformal import find_threshold\n",
    "\n",
    "# Find conformal threshold q_hat for the given alpha (split conformal method)\n",
    "q_hat = find_threshold(nc_scores, alpha)"
   ]
  },
  {
   "cell_type": "code",
   "execution_count": 52,
   "id": "4d29e6c1-0ef6-4aa4-b8fe-4fe79b0d033a",
   "metadata": {
    "execution": {
     "iopub.execute_input": "2025-07-30T21:27:21.450879Z",
     "iopub.status.busy": "2025-07-30T21:27:21.450528Z",
     "iopub.status.idle": "2025-07-30T21:27:21.457437Z",
     "shell.execute_reply": "2025-07-30T21:27:21.456264Z"
    },
    "papermill": {
     "duration": 0.033254,
     "end_time": "2025-07-30T21:27:21.458826",
     "exception": false,
     "start_time": "2025-07-30T21:27:21.425572",
     "status": "completed"
    },
    "tags": []
   },
   "outputs": [
    {
     "data": {
      "text/plain": [
       "0.6877707996745354"
      ]
     },
     "execution_count": 52,
     "metadata": {},
     "output_type": "execute_result"
    }
   ],
   "source": [
    "q_hat"
   ]
  },
  {
   "cell_type": "code",
   "execution_count": 53,
   "id": "92460794-cdac-4be2-ba28-f28c0515a6fb",
   "metadata": {
    "execution": {
     "iopub.execute_input": "2025-07-30T21:27:21.510671Z",
     "iopub.status.busy": "2025-07-30T21:27:21.510195Z",
     "iopub.status.idle": "2025-07-30T21:27:22.296492Z",
     "shell.execute_reply": "2025-07-30T21:27:22.295592Z"
    },
    "papermill": {
     "duration": 0.813503,
     "end_time": "2025-07-30T21:27:22.298335",
     "exception": false,
     "start_time": "2025-07-30T21:27:21.484832",
     "status": "completed"
    },
    "tags": []
   },
   "outputs": [],
   "source": [
    "from fairness_multiverse.conformal import predict_conformal_sets\n",
    "\n",
    "# Generate prediction sets for each test example\n",
    "pred_sets = predict_conformal_sets(model, X_test, q_hat)"
   ]
  },
  {
   "cell_type": "code",
   "execution_count": 54,
   "id": "d90c9a65-e6db-4f5d-80cd-e68fb7e46829",
   "metadata": {
    "execution": {
     "iopub.execute_input": "2025-07-30T21:27:22.345542Z",
     "iopub.status.busy": "2025-07-30T21:27:22.344921Z",
     "iopub.status.idle": "2025-07-30T21:27:22.350180Z",
     "shell.execute_reply": "2025-07-30T21:27:22.349350Z"
    },
    "papermill": {
     "duration": 0.030478,
     "end_time": "2025-07-30T21:27:22.351792",
     "exception": false,
     "start_time": "2025-07-30T21:27:22.321314",
     "status": "completed"
    },
    "tags": []
   },
   "outputs": [],
   "source": [
    "y_true = y_true.squeeze()"
   ]
  },
  {
   "cell_type": "code",
   "execution_count": 55,
   "id": "3a58a54a-1e68-46b9-927a-df01f18aebc8",
   "metadata": {
    "execution": {
     "iopub.execute_input": "2025-07-30T21:27:22.398569Z",
     "iopub.status.busy": "2025-07-30T21:27:22.397778Z",
     "iopub.status.idle": "2025-07-30T21:27:23.317235Z",
     "shell.execute_reply": "2025-07-30T21:27:23.316383Z"
    },
    "papermill": {
     "duration": 0.9443,
     "end_time": "2025-07-30T21:27:23.318947",
     "exception": false,
     "start_time": "2025-07-30T21:27:22.374647",
     "status": "completed"
    },
    "tags": []
   },
   "outputs": [],
   "source": [
    "from fairness_multiverse.conformal import evaluate_sets\n",
    "\n",
    "# Evaluate coverage and average set size on test data\n",
    "metrics = evaluate_sets(pred_sets, y_true)"
   ]
  },
  {
   "cell_type": "markdown",
   "id": "2b569c12-9aaa-4c88-98c9-bbcd0cf3ebb8",
   "metadata": {
    "papermill": {
     "duration": 0.024011,
     "end_time": "2025-07-30T21:27:23.369721",
     "exception": false,
     "start_time": "2025-07-30T21:27:23.345710",
     "status": "completed"
    },
    "tags": []
   },
   "source": [
    "# CP Metrics"
   ]
  },
  {
   "cell_type": "code",
   "execution_count": 56,
   "id": "5ce0a5cb-201f-45a0-ade5-94c7f0bd6095",
   "metadata": {
    "execution": {
     "iopub.execute_input": "2025-07-30T21:27:23.416757Z",
     "iopub.status.busy": "2025-07-30T21:27:23.416373Z",
     "iopub.status.idle": "2025-07-30T21:27:23.423486Z",
     "shell.execute_reply": "2025-07-30T21:27:23.422462Z"
    },
    "papermill": {
     "duration": 0.032259,
     "end_time": "2025-07-30T21:27:23.425110",
     "exception": false,
     "start_time": "2025-07-30T21:27:23.392851",
     "status": "completed"
    },
    "tags": []
   },
   "outputs": [
    {
     "data": {
      "text/plain": [
       "{'coverage': 0.9095195630364508, 'avg_size': 1.2230743506855424}"
      ]
     },
     "execution_count": 56,
     "metadata": {},
     "output_type": "execute_result"
    }
   ],
   "source": [
    "metrics"
   ]
  },
  {
   "cell_type": "code",
   "execution_count": 57,
   "id": "9b9a838d-31c9-430b-ae14-12baee460d17",
   "metadata": {
    "execution": {
     "iopub.execute_input": "2025-07-30T21:27:23.473732Z",
     "iopub.status.busy": "2025-07-30T21:27:23.473241Z",
     "iopub.status.idle": "2025-07-30T21:27:23.480549Z",
     "shell.execute_reply": "2025-07-30T21:27:23.479466Z"
    },
    "papermill": {
     "duration": 0.031343,
     "end_time": "2025-07-30T21:27:23.482275",
     "exception": false,
     "start_time": "2025-07-30T21:27:23.450932",
     "status": "completed"
    },
    "tags": []
   },
   "outputs": [],
   "source": [
    "example_universe = universe.copy()\n",
    "universe_training_year = example_universe.get(\"training_year\")\n",
    "universe_training_size = example_universe.get(\"training_size\")\n",
    "universe_scale = example_universe.get(\"scale\")\n",
    "universe_model = example_universe.get(\"model\")\n",
    "universe_exclude_features = example_universe.get(\"exclude_features\")\n",
    "universe_exclude_subgroups = example_universe.get(\"exclude_subgroups\")"
   ]
  },
  {
   "cell_type": "code",
   "execution_count": 58,
   "id": "f4b6a8ac-9dc0-4245-8a91-5b3b5999c4f9",
   "metadata": {
    "execution": {
     "iopub.execute_input": "2025-07-30T21:27:23.535708Z",
     "iopub.status.busy": "2025-07-30T21:27:23.534897Z",
     "iopub.status.idle": "2025-07-30T21:27:23.541689Z",
     "shell.execute_reply": "2025-07-30T21:27:23.540841Z"
    },
    "papermill": {
     "duration": 0.035369,
     "end_time": "2025-07-30T21:27:23.543518",
     "exception": false,
     "start_time": "2025-07-30T21:27:23.508149",
     "status": "completed"
    },
    "tags": []
   },
   "outputs": [],
   "source": [
    "cp_metrics_dict = {\n",
    "    \"universe_id\": [universe_id],\n",
    "    \"universe_training_year\": [universe_training_year],\n",
    "    \"universe_training_size\": [universe_training_size],\n",
    "    \"universe_scale\": [universe_scale],\n",
    "    \"universe_model\": [universe_model],\n",
    "    \"universe_exclude_features\": [universe_exclude_features],\n",
    "    \"universe_exclude_subgroups\": [universe_exclude_subgroups],\n",
    "    \"q_hat\": [q_hat],\n",
    "    \"coverage\": [metrics[\"coverage\"]],\n",
    "    \"avg_size\": [metrics[\"avg_size\"]],\n",
    "}"
   ]
  },
  {
   "cell_type": "code",
   "execution_count": 59,
   "id": "908acbb1-0371-4915-85ca-3fa520d2efe2",
   "metadata": {
    "execution": {
     "iopub.execute_input": "2025-07-30T21:27:23.594422Z",
     "iopub.status.busy": "2025-07-30T21:27:23.593926Z",
     "iopub.status.idle": "2025-07-30T21:27:23.601808Z",
     "shell.execute_reply": "2025-07-30T21:27:23.600805Z"
    },
    "papermill": {
     "duration": 0.035182,
     "end_time": "2025-07-30T21:27:23.603326",
     "exception": false,
     "start_time": "2025-07-30T21:27:23.568144",
     "status": "completed"
    },
    "tags": []
   },
   "outputs": [
    {
     "data": {
      "text/plain": [
       "{'universe_id': ['373777f87294c3e0bc8d64c8968ca167'],\n",
       " 'universe_training_year': ['2014'],\n",
       " 'universe_training_size': ['1k'],\n",
       " 'universe_scale': ['do-not-scale'],\n",
       " 'universe_model': ['logreg'],\n",
       " 'universe_exclude_features': ['none'],\n",
       " 'universe_exclude_subgroups': ['keep-all'],\n",
       " 'q_hat': [0.6877707996745354],\n",
       " 'coverage': [0.9095195630364508],\n",
       " 'avg_size': [1.2230743506855424]}"
      ]
     },
     "execution_count": 59,
     "metadata": {},
     "output_type": "execute_result"
    }
   ],
   "source": [
    "cp_metrics_dict"
   ]
  },
  {
   "cell_type": "code",
   "execution_count": 60,
   "id": "33007efc-14e9-4ec6-97ac-56a455c82265",
   "metadata": {
    "execution": {
     "iopub.execute_input": "2025-07-30T21:27:23.655040Z",
     "iopub.status.busy": "2025-07-30T21:27:23.654529Z",
     "iopub.status.idle": "2025-07-30T21:27:23.661259Z",
     "shell.execute_reply": "2025-07-30T21:27:23.660352Z"
    },
    "papermill": {
     "duration": 0.034241,
     "end_time": "2025-07-30T21:27:23.662833",
     "exception": false,
     "start_time": "2025-07-30T21:27:23.628592",
     "status": "completed"
    },
    "tags": []
   },
   "outputs": [],
   "source": [
    "cp_metrics_df = pd.DataFrame(cp_metrics_dict)"
   ]
  },
  {
   "cell_type": "code",
   "execution_count": 61,
   "id": "db12611b-57b2-4910-b9d0-355adfd6e7bf",
   "metadata": {
    "execution": {
     "iopub.execute_input": "2025-07-30T21:27:23.712152Z",
     "iopub.status.busy": "2025-07-30T21:27:23.711400Z",
     "iopub.status.idle": "2025-07-30T21:27:23.731110Z",
     "shell.execute_reply": "2025-07-30T21:27:23.730104Z"
    },
    "papermill": {
     "duration": 0.046143,
     "end_time": "2025-07-30T21:27:23.732653",
     "exception": false,
     "start_time": "2025-07-30T21:27:23.686510",
     "status": "completed"
    },
    "tags": []
   },
   "outputs": [
    {
     "data": {
      "text/html": [
       "<div>\n",
       "<style scoped>\n",
       "    .dataframe tbody tr th:only-of-type {\n",
       "        vertical-align: middle;\n",
       "    }\n",
       "\n",
       "    .dataframe tbody tr th {\n",
       "        vertical-align: top;\n",
       "    }\n",
       "\n",
       "    .dataframe thead th {\n",
       "        text-align: right;\n",
       "    }\n",
       "</style>\n",
       "<table border=\"1\" class=\"dataframe\">\n",
       "  <thead>\n",
       "    <tr style=\"text-align: right;\">\n",
       "      <th></th>\n",
       "      <th>universe_id</th>\n",
       "      <th>universe_training_year</th>\n",
       "      <th>universe_training_size</th>\n",
       "      <th>universe_scale</th>\n",
       "      <th>universe_model</th>\n",
       "      <th>universe_exclude_features</th>\n",
       "      <th>universe_exclude_subgroups</th>\n",
       "      <th>q_hat</th>\n",
       "      <th>coverage</th>\n",
       "      <th>avg_size</th>\n",
       "    </tr>\n",
       "  </thead>\n",
       "  <tbody>\n",
       "    <tr>\n",
       "      <th>0</th>\n",
       "      <td>373777f87294c3e0bc8d64c8968ca167</td>\n",
       "      <td>2014</td>\n",
       "      <td>1k</td>\n",
       "      <td>do-not-scale</td>\n",
       "      <td>logreg</td>\n",
       "      <td>none</td>\n",
       "      <td>keep-all</td>\n",
       "      <td>0.687771</td>\n",
       "      <td>0.90952</td>\n",
       "      <td>1.223074</td>\n",
       "    </tr>\n",
       "  </tbody>\n",
       "</table>\n",
       "</div>"
      ],
      "text/plain": [
       "                        universe_id universe_training_year  \\\n",
       "0  373777f87294c3e0bc8d64c8968ca167                   2014   \n",
       "\n",
       "  universe_training_size universe_scale universe_model  \\\n",
       "0                     1k   do-not-scale         logreg   \n",
       "\n",
       "  universe_exclude_features universe_exclude_subgroups     q_hat  coverage  \\\n",
       "0                      none                   keep-all  0.687771   0.90952   \n",
       "\n",
       "   avg_size  \n",
       "0  1.223074  "
      ]
     },
     "execution_count": 61,
     "metadata": {},
     "output_type": "execute_result"
    }
   ],
   "source": [
    "cp_metrics_df"
   ]
  },
  {
   "cell_type": "code",
   "execution_count": 62,
   "id": "b7fbde55-a0a1-47e4-9af6-fe4a17fa8c61",
   "metadata": {
    "execution": {
     "iopub.execute_input": "2025-07-30T21:27:23.782056Z",
     "iopub.status.busy": "2025-07-30T21:27:23.781178Z",
     "iopub.status.idle": "2025-07-30T21:27:23.786426Z",
     "shell.execute_reply": "2025-07-30T21:27:23.785603Z"
    },
    "papermill": {
     "duration": 0.031641,
     "end_time": "2025-07-30T21:27:23.787894",
     "exception": false,
     "start_time": "2025-07-30T21:27:23.756253",
     "status": "completed"
    },
    "tags": []
   },
   "outputs": [],
   "source": [
    "# Conditional Coverage & looking at subgroups"
   ]
  },
  {
   "cell_type": "code",
   "execution_count": 63,
   "id": "027ae886-68dd-4141-96c7-805a5450e1ef",
   "metadata": {
    "execution": {
     "iopub.execute_input": "2025-07-30T21:27:23.838107Z",
     "iopub.status.busy": "2025-07-30T21:27:23.837600Z",
     "iopub.status.idle": "2025-07-30T21:27:24.109244Z",
     "shell.execute_reply": "2025-07-30T21:27:24.108337Z"
    },
    "papermill": {
     "duration": 0.298542,
     "end_time": "2025-07-30T21:27:24.111088",
     "exception": false,
     "start_time": "2025-07-30T21:27:23.812546",
     "status": "completed"
    },
    "tags": []
   },
   "outputs": [],
   "source": [
    "from fairness_multiverse.conformal import build_cp_groups\n",
    "\n",
    "cp_groups_df = build_cp_groups(pred_sets, y_true, X_test.index, org_test)\n",
    "#needs universe_id and setting"
   ]
  },
  {
   "cell_type": "code",
   "execution_count": 64,
   "id": "01d5802c-663a-4d1f-9d69-e036faaffbf7",
   "metadata": {
    "execution": {
     "iopub.execute_input": "2025-07-30T21:27:24.160894Z",
     "iopub.status.busy": "2025-07-30T21:27:24.160065Z",
     "iopub.status.idle": "2025-07-30T21:27:24.164726Z",
     "shell.execute_reply": "2025-07-30T21:27:24.163807Z"
    },
    "papermill": {
     "duration": 0.030579,
     "end_time": "2025-07-30T21:27:24.166397",
     "exception": false,
     "start_time": "2025-07-30T21:27:24.135818",
     "status": "completed"
    },
    "tags": []
   },
   "outputs": [],
   "source": [
    "#delete\n",
    "#cp_groups_df"
   ]
  },
  {
   "cell_type": "code",
   "execution_count": 65,
   "id": "fa424af1-d1eb-443d-b717-2d279ada8408",
   "metadata": {
    "execution": {
     "iopub.execute_input": "2025-07-30T21:27:24.220373Z",
     "iopub.status.busy": "2025-07-30T21:27:24.219596Z",
     "iopub.status.idle": "2025-07-30T21:27:24.224626Z",
     "shell.execute_reply": "2025-07-30T21:27:24.223606Z"
    },
    "papermill": {
     "duration": 0.033502,
     "end_time": "2025-07-30T21:27:24.226264",
     "exception": false,
     "start_time": "2025-07-30T21:27:24.192762",
     "status": "completed"
    },
    "tags": []
   },
   "outputs": [],
   "source": [
    "#delete\n",
    "#percentage = (cp_groups_df['nongerman_female'] == 1).mean() * 100\n",
    "#print(percentage)\n"
   ]
  },
  {
   "cell_type": "code",
   "execution_count": 66,
   "id": "6cbdab96-b2b2-45af-ad54-d0516db2e28d",
   "metadata": {
    "execution": {
     "iopub.execute_input": "2025-07-30T21:27:24.279819Z",
     "iopub.status.busy": "2025-07-30T21:27:24.278936Z",
     "iopub.status.idle": "2025-07-30T21:27:26.059180Z",
     "shell.execute_reply": "2025-07-30T21:27:26.058449Z"
    },
    "papermill": {
     "duration": 1.80814,
     "end_time": "2025-07-30T21:27:26.060620",
     "exception": false,
     "start_time": "2025-07-30T21:27:24.252480",
     "status": "completed"
    },
    "tags": []
   },
   "outputs": [],
   "source": [
    "# Define covered = 1 if true_label is in the predicted set\n",
    "cp_groups_df['covered'] = cp_groups_df.apply(\n",
    "    lambda r: int(r['true_label'] in r['pred_set']),\n",
    "    axis=1\n",
    ")"
   ]
  },
  {
   "cell_type": "code",
   "execution_count": 67,
   "id": "338ff529-1a6b-4b87-a931-8e4788d52aad",
   "metadata": {
    "execution": {
     "iopub.execute_input": "2025-07-30T21:27:26.090046Z",
     "iopub.status.busy": "2025-07-30T21:27:26.089752Z",
     "iopub.status.idle": "2025-07-30T21:27:26.093779Z",
     "shell.execute_reply": "2025-07-30T21:27:26.093040Z"
    },
    "papermill": {
     "duration": 0.019209,
     "end_time": "2025-07-30T21:27:26.095417",
     "exception": false,
     "start_time": "2025-07-30T21:27:26.076208",
     "status": "completed"
    },
    "tags": []
   },
   "outputs": [],
   "source": [
    "#cp_groups_df"
   ]
  },
  {
   "cell_type": "code",
   "execution_count": 68,
   "id": "90032e27-66df-4540-9169-4e89cfbaa758",
   "metadata": {
    "execution": {
     "iopub.execute_input": "2025-07-30T21:27:26.146797Z",
     "iopub.status.busy": "2025-07-30T21:27:26.146362Z",
     "iopub.status.idle": "2025-07-30T21:27:26.158271Z",
     "shell.execute_reply": "2025-07-30T21:27:26.157385Z"
    },
    "papermill": {
     "duration": 0.040094,
     "end_time": "2025-07-30T21:27:26.159730",
     "exception": false,
     "start_time": "2025-07-30T21:27:26.119636",
     "status": "completed"
    },
    "tags": []
   },
   "outputs": [],
   "source": [
    "subgroups = ['frau1','nongerman','nongerman_male','nongerman_female']\n",
    "\n",
    "# Conditional coverage for subgroup==1\n",
    "cond_coverage = {\n",
    "    g: cp_groups_df.loc[cp_groups_df[g]==1, 'covered'].mean()\n",
    "    for g in subgroups\n",
    "}"
   ]
  },
  {
   "cell_type": "code",
   "execution_count": 69,
   "id": "1e348fb1-b9c3-45bc-ba23-f016827a7e0d",
   "metadata": {
    "execution": {
     "iopub.execute_input": "2025-07-30T21:27:26.211390Z",
     "iopub.status.busy": "2025-07-30T21:27:26.210731Z",
     "iopub.status.idle": "2025-07-30T21:27:26.218263Z",
     "shell.execute_reply": "2025-07-30T21:27:26.217217Z"
    },
    "papermill": {
     "duration": 0.035191,
     "end_time": "2025-07-30T21:27:26.219880",
     "exception": false,
     "start_time": "2025-07-30T21:27:26.184689",
     "status": "completed"
    },
    "tags": []
   },
   "outputs": [
    {
     "data": {
      "text/plain": [
       "{'frau1': 0.9076155816147728,\n",
       " 'nongerman': 0.9336439678886207,\n",
       " 'nongerman_male': 0.9460506169503737,\n",
       " 'nongerman_female': 0.9131147540983606}"
      ]
     },
     "execution_count": 69,
     "metadata": {},
     "output_type": "execute_result"
    }
   ],
   "source": [
    "cond_coverage"
   ]
  },
  {
   "cell_type": "code",
   "execution_count": 70,
   "id": "f5093324-c3dd-4d63-bc4c-8d945e5c8bbb",
   "metadata": {
    "execution": {
     "iopub.execute_input": "2025-07-30T21:27:26.276594Z",
     "iopub.status.busy": "2025-07-30T21:27:26.276051Z",
     "iopub.status.idle": "2025-07-30T21:27:26.283850Z",
     "shell.execute_reply": "2025-07-30T21:27:26.282957Z"
    },
    "papermill": {
     "duration": 0.039129,
     "end_time": "2025-07-30T21:27:26.285560",
     "exception": false,
     "start_time": "2025-07-30T21:27:26.246431",
     "status": "completed"
    },
    "tags": []
   },
   "outputs": [],
   "source": [
    "for subgroup, cov in cond_coverage.items():\n",
    "    cp_metrics_df[f\"cov_{subgroup}\"] = cov"
   ]
  },
  {
   "cell_type": "code",
   "execution_count": 71,
   "id": "6e872e10-dbe5-49e8-b554-5030c98ff75d",
   "metadata": {
    "execution": {
     "iopub.execute_input": "2025-07-30T21:27:26.341153Z",
     "iopub.status.busy": "2025-07-30T21:27:26.340693Z",
     "iopub.status.idle": "2025-07-30T21:27:26.359707Z",
     "shell.execute_reply": "2025-07-30T21:27:26.358789Z"
    },
    "papermill": {
     "duration": 0.047744,
     "end_time": "2025-07-30T21:27:26.361355",
     "exception": false,
     "start_time": "2025-07-30T21:27:26.313611",
     "status": "completed"
    },
    "tags": []
   },
   "outputs": [
    {
     "data": {
      "text/html": [
       "<div>\n",
       "<style scoped>\n",
       "    .dataframe tbody tr th:only-of-type {\n",
       "        vertical-align: middle;\n",
       "    }\n",
       "\n",
       "    .dataframe tbody tr th {\n",
       "        vertical-align: top;\n",
       "    }\n",
       "\n",
       "    .dataframe thead th {\n",
       "        text-align: right;\n",
       "    }\n",
       "</style>\n",
       "<table border=\"1\" class=\"dataframe\">\n",
       "  <thead>\n",
       "    <tr style=\"text-align: right;\">\n",
       "      <th></th>\n",
       "      <th>universe_id</th>\n",
       "      <th>universe_training_year</th>\n",
       "      <th>universe_training_size</th>\n",
       "      <th>universe_scale</th>\n",
       "      <th>universe_model</th>\n",
       "      <th>universe_exclude_features</th>\n",
       "      <th>universe_exclude_subgroups</th>\n",
       "      <th>q_hat</th>\n",
       "      <th>coverage</th>\n",
       "      <th>avg_size</th>\n",
       "      <th>cov_frau1</th>\n",
       "      <th>cov_nongerman</th>\n",
       "      <th>cov_nongerman_male</th>\n",
       "      <th>cov_nongerman_female</th>\n",
       "    </tr>\n",
       "  </thead>\n",
       "  <tbody>\n",
       "    <tr>\n",
       "      <th>0</th>\n",
       "      <td>373777f87294c3e0bc8d64c8968ca167</td>\n",
       "      <td>2014</td>\n",
       "      <td>1k</td>\n",
       "      <td>do-not-scale</td>\n",
       "      <td>logreg</td>\n",
       "      <td>none</td>\n",
       "      <td>keep-all</td>\n",
       "      <td>0.687771</td>\n",
       "      <td>0.90952</td>\n",
       "      <td>1.223074</td>\n",
       "      <td>0.907616</td>\n",
       "      <td>0.933644</td>\n",
       "      <td>0.946051</td>\n",
       "      <td>0.913115</td>\n",
       "    </tr>\n",
       "  </tbody>\n",
       "</table>\n",
       "</div>"
      ],
      "text/plain": [
       "                        universe_id universe_training_year  \\\n",
       "0  373777f87294c3e0bc8d64c8968ca167                   2014   \n",
       "\n",
       "  universe_training_size universe_scale universe_model  \\\n",
       "0                     1k   do-not-scale         logreg   \n",
       "\n",
       "  universe_exclude_features universe_exclude_subgroups     q_hat  coverage  \\\n",
       "0                      none                   keep-all  0.687771   0.90952   \n",
       "\n",
       "   avg_size  cov_frau1  cov_nongerman  cov_nongerman_male  \\\n",
       "0  1.223074   0.907616       0.933644            0.946051   \n",
       "\n",
       "   cov_nongerman_female  \n",
       "0              0.913115  "
      ]
     },
     "execution_count": 71,
     "metadata": {},
     "output_type": "execute_result"
    }
   ],
   "source": [
    "cp_metrics_df"
   ]
  },
  {
   "cell_type": "markdown",
   "id": "33774451",
   "metadata": {
    "papermill": {
     "duration": 0.024175,
     "end_time": "2025-07-30T21:27:26.411202",
     "exception": false,
     "start_time": "2025-07-30T21:27:26.387027",
     "status": "completed"
    },
    "tags": []
   },
   "source": [
    "# (Fairness) Metrics"
   ]
  },
  {
   "cell_type": "code",
   "execution_count": 72,
   "id": "debc5d62",
   "metadata": {
    "execution": {
     "iopub.execute_input": "2025-07-30T21:27:26.461588Z",
     "iopub.status.busy": "2025-07-30T21:27:26.460673Z",
     "iopub.status.idle": "2025-07-30T21:27:26.474851Z",
     "shell.execute_reply": "2025-07-30T21:27:26.474175Z"
    },
    "papermill": {
     "duration": 0.040799,
     "end_time": "2025-07-30T21:27:26.476307",
     "exception": false,
     "start_time": "2025-07-30T21:27:26.435508",
     "status": "completed"
    },
    "tags": []
   },
   "outputs": [],
   "source": [
    "# do I need to include maxdeutsch1.missing?\n",
    "\n",
    "import numpy as np\n",
    "\n",
    "colname_to_bin = \"maxdeutsch1\"\n",
    "majority_value = org_train[colname_to_bin].mode()[0]\n",
    "\n",
    "org_test[\"majmin\"] = np.where(org_test[colname_to_bin] == majority_value, \"majority\", \"minority\")"
   ]
  },
  {
   "cell_type": "code",
   "execution_count": 73,
   "id": "06a50de5",
   "metadata": {
    "execution": {
     "iopub.execute_input": "2025-07-30T21:27:26.525797Z",
     "iopub.status.busy": "2025-07-30T21:27:26.525179Z",
     "iopub.status.idle": "2025-07-30T21:27:29.431360Z",
     "shell.execute_reply": "2025-07-30T21:27:29.430267Z"
    },
    "papermill": {
     "duration": 2.932187,
     "end_time": "2025-07-30T21:27:29.433261",
     "exception": false,
     "start_time": "2025-07-30T21:27:26.501074",
     "status": "completed"
    },
    "tags": []
   },
   "outputs": [],
   "source": [
    "example_universe = universe.copy()\n",
    "example_universe[\"cutoff\"] = example_universe[\"cutoff\"][0]\n",
    "example_universe[\"eval_fairness_grouping\"] = example_universe[\"eval_fairness_grouping\"][0]\n",
    "fairness_dict, metric_frame = universe_analysis.compute_metrics(\n",
    "    example_universe,\n",
    "    y_pred_prob=probs_test,\n",
    "    y_test=y_true,\n",
    "    org_test=org_test,\n",
    ")"
   ]
  },
  {
   "cell_type": "markdown",
   "id": "f95d4e02",
   "metadata": {
    "papermill": {
     "duration": 0.027375,
     "end_time": "2025-07-30T21:27:29.487926",
     "exception": false,
     "start_time": "2025-07-30T21:27:29.460551",
     "status": "completed"
    },
    "tags": []
   },
   "source": [
    "# Overall"
   ]
  },
  {
   "cell_type": "markdown",
   "id": "bdee4871",
   "metadata": {
    "papermill": {
     "duration": 0.026561,
     "end_time": "2025-07-30T21:27:29.542994",
     "exception": false,
     "start_time": "2025-07-30T21:27:29.516433",
     "status": "completed"
    },
    "tags": []
   },
   "source": [
    "Fairness\n",
    "Main fairness target: Equalized Odds. Seems to be a better fit than equal opportunity, since we're not only interested in Y = 1. Seems to be a better fit than demographic parity, since we also care about accuracy, not just equal distribution of preds.\n",
    "\n",
    "Pick column for computation of fairness metrics\n",
    "\n",
    "Performance\n",
    "Overall performance measures, most interesting in relation to the measures split by group below"
   ]
  },
  {
   "cell_type": "code",
   "execution_count": 74,
   "id": "c4e067c6",
   "metadata": {
    "execution": {
     "iopub.execute_input": "2025-07-30T21:27:29.601078Z",
     "iopub.status.busy": "2025-07-30T21:27:29.600527Z",
     "iopub.status.idle": "2025-07-30T21:27:29.609549Z",
     "shell.execute_reply": "2025-07-30T21:27:29.608534Z"
    },
    "papermill": {
     "duration": 0.039603,
     "end_time": "2025-07-30T21:27:29.611200",
     "exception": false,
     "start_time": "2025-07-30T21:27:29.571597",
     "status": "completed"
    },
    "tags": []
   },
   "outputs": [
    {
     "data": {
      "text/plain": [
       "accuracy                   0.217557\n",
       "balanced accuracy          0.533384\n",
       "f1                         0.239076\n",
       "precision                  0.136576\n",
       "false positive rate        0.891435\n",
       "false negative rate        0.041797\n",
       "selection rate             0.900000\n",
       "count                  89710.000000\n",
       "dtype: float64"
      ]
     },
     "execution_count": 74,
     "metadata": {},
     "output_type": "execute_result"
    }
   ],
   "source": [
    "metric_frame.overall"
   ]
  },
  {
   "cell_type": "markdown",
   "id": "e968fe9d",
   "metadata": {
    "papermill": {
     "duration": 0.02734,
     "end_time": "2025-07-30T21:27:29.666442",
     "exception": false,
     "start_time": "2025-07-30T21:27:29.639102",
     "status": "completed"
    },
    "tags": []
   },
   "source": [
    "By Group"
   ]
  },
  {
   "cell_type": "code",
   "execution_count": 75,
   "id": "ec325bce",
   "metadata": {
    "execution": {
     "iopub.execute_input": "2025-07-30T21:27:29.726502Z",
     "iopub.status.busy": "2025-07-30T21:27:29.726038Z",
     "iopub.status.idle": "2025-07-30T21:27:29.741361Z",
     "shell.execute_reply": "2025-07-30T21:27:29.740409Z"
    },
    "papermill": {
     "duration": 0.045031,
     "end_time": "2025-07-30T21:27:29.742967",
     "exception": false,
     "start_time": "2025-07-30T21:27:29.697936",
     "status": "completed"
    },
    "tags": []
   },
   "outputs": [
    {
     "data": {
      "text/html": [
       "<div>\n",
       "<style scoped>\n",
       "    .dataframe tbody tr th:only-of-type {\n",
       "        vertical-align: middle;\n",
       "    }\n",
       "\n",
       "    .dataframe tbody tr th {\n",
       "        vertical-align: top;\n",
       "    }\n",
       "\n",
       "    .dataframe thead th {\n",
       "        text-align: right;\n",
       "    }\n",
       "</style>\n",
       "<table border=\"1\" class=\"dataframe\">\n",
       "  <thead>\n",
       "    <tr style=\"text-align: right;\">\n",
       "      <th></th>\n",
       "      <th>accuracy</th>\n",
       "      <th>balanced accuracy</th>\n",
       "      <th>f1</th>\n",
       "      <th>precision</th>\n",
       "      <th>false positive rate</th>\n",
       "      <th>false negative rate</th>\n",
       "      <th>selection rate</th>\n",
       "      <th>count</th>\n",
       "    </tr>\n",
       "    <tr>\n",
       "      <th>majmin</th>\n",
       "      <th></th>\n",
       "      <th></th>\n",
       "      <th></th>\n",
       "      <th></th>\n",
       "      <th></th>\n",
       "      <th></th>\n",
       "      <th></th>\n",
       "      <th></th>\n",
       "    </tr>\n",
       "  </thead>\n",
       "  <tbody>\n",
       "    <tr>\n",
       "      <th>majority</th>\n",
       "      <td>0.238673</td>\n",
       "      <td>0.541065</td>\n",
       "      <td>0.248398</td>\n",
       "      <td>0.142831</td>\n",
       "      <td>0.869948</td>\n",
       "      <td>0.047921</td>\n",
       "      <td>0.880801</td>\n",
       "      <td>69170.0</td>\n",
       "    </tr>\n",
       "    <tr>\n",
       "      <th>minority</th>\n",
       "      <td>0.146446</td>\n",
       "      <td>0.509713</td>\n",
       "      <td>0.209629</td>\n",
       "      <td>0.117341</td>\n",
       "      <td>0.962415</td>\n",
       "      <td>0.018159</td>\n",
       "      <td>0.964654</td>\n",
       "      <td>20540.0</td>\n",
       "    </tr>\n",
       "  </tbody>\n",
       "</table>\n",
       "</div>"
      ],
      "text/plain": [
       "          accuracy  balanced accuracy        f1  precision  \\\n",
       "majmin                                                       \n",
       "majority  0.238673           0.541065  0.248398   0.142831   \n",
       "minority  0.146446           0.509713  0.209629   0.117341   \n",
       "\n",
       "          false positive rate  false negative rate  selection rate    count  \n",
       "majmin                                                                       \n",
       "majority             0.869948             0.047921        0.880801  69170.0  \n",
       "minority             0.962415             0.018159        0.964654  20540.0  "
      ]
     },
     "execution_count": 75,
     "metadata": {},
     "output_type": "execute_result"
    }
   ],
   "source": [
    "metric_frame.by_group"
   ]
  },
  {
   "cell_type": "code",
   "execution_count": 76,
   "id": "a9ddbe63",
   "metadata": {
    "execution": {
     "iopub.execute_input": "2025-07-30T21:27:29.799385Z",
     "iopub.status.busy": "2025-07-30T21:27:29.798890Z",
     "iopub.status.idle": "2025-07-30T21:27:31.782498Z",
     "shell.execute_reply": "2025-07-30T21:27:31.781483Z"
    },
    "papermill": {
     "duration": 2.013982,
     "end_time": "2025-07-30T21:27:31.784410",
     "exception": false,
     "start_time": "2025-07-30T21:27:29.770428",
     "status": "completed"
    },
    "tags": []
   },
   "outputs": [
    {
     "data": {
      "text/plain": [
       "array([[<Axes: title={'center': 'accuracy'}, xlabel='majmin'>,\n",
       "        <Axes: title={'center': 'balanced accuracy'}, xlabel='majmin'>,\n",
       "        <Axes: title={'center': 'f1'}, xlabel='majmin'>],\n",
       "       [<Axes: title={'center': 'precision'}, xlabel='majmin'>,\n",
       "        <Axes: title={'center': 'false positive rate'}, xlabel='majmin'>,\n",
       "        <Axes: title={'center': 'false negative rate'}, xlabel='majmin'>],\n",
       "       [<Axes: title={'center': 'selection rate'}, xlabel='majmin'>,\n",
       "        <Axes: title={'center': 'count'}, xlabel='majmin'>,\n",
       "        <Axes: xlabel='majmin'>]], dtype=object)"
      ]
     },
     "execution_count": 76,
     "metadata": {},
     "output_type": "execute_result"
    },
    {
     "data": {
      "image/png": "[encoded data removed]",
      "text/plain": [
       "<Figure size 1200x800 with 9 Axes>"
      ]
     },
     "metadata": {},
     "output_type": "display_data"
    }
   ],
   "source": [
    "# In a graphic\n",
    "metric_frame.by_group.plot.bar(\n",
    "    subplots=True,\n",
    "    layout=[3, 3],\n",
    "    legend=False,\n",
    "    figsize=[12, 8],\n",
    "    title=\"Show all metrics\",\n",
    ")"
   ]
  },
  {
   "cell_type": "markdown",
   "id": "f57a0bac",
   "metadata": {
    "papermill": {
     "duration": 0.027485,
     "end_time": "2025-07-30T21:27:31.843686",
     "exception": false,
     "start_time": "2025-07-30T21:27:31.816201",
     "status": "completed"
    },
    "tags": []
   },
   "source": [
    "# Final Output"
   ]
  },
  {
   "cell_type": "code",
   "execution_count": 77,
   "id": "96d280a3",
   "metadata": {
    "execution": {
     "iopub.execute_input": "2025-07-30T21:27:31.899930Z",
     "iopub.status.busy": "2025-07-30T21:27:31.898896Z",
     "iopub.status.idle": "2025-07-30T21:27:31.907513Z",
     "shell.execute_reply": "2025-07-30T21:27:31.906430Z"
    },
    "papermill": {
     "duration": 0.037842,
     "end_time": "2025-07-30T21:27:31.908952",
     "exception": false,
     "start_time": "2025-07-30T21:27:31.871110",
     "status": "completed"
    },
    "tags": []
   },
   "outputs": [
    {
     "data": {
      "text/plain": [
       "4"
      ]
     },
     "execution_count": 77,
     "metadata": {},
     "output_type": "execute_result"
    }
   ],
   "source": [
    "sub_universes = universe_analysis.generate_sub_universes()\n",
    "len(sub_universes)"
   ]
  },
  {
   "cell_type": "code",
   "execution_count": 78,
   "id": "92adf7ba",
   "metadata": {
    "execution": {
     "iopub.execute_input": "2025-07-30T21:27:31.965011Z",
     "iopub.status.busy": "2025-07-30T21:27:31.964054Z",
     "iopub.status.idle": "2025-07-30T21:27:31.970699Z",
     "shell.execute_reply": "2025-07-30T21:27:31.969608Z"
    },
    "papermill": {
     "duration": 0.037164,
     "end_time": "2025-07-30T21:27:31.972397",
     "exception": false,
     "start_time": "2025-07-30T21:27:31.935233",
     "status": "completed"
    },
    "tags": []
   },
   "outputs": [],
   "source": [
    "def filter_sub_universe_data(sub_universe, org_test):\n",
    "    # Keep all rows — no filtering\n",
    "    keep_rows_mask = np.ones(org_test.shape[0], dtype=bool)\n",
    "\n",
    "    print(f\"[INFO] Keeping all rows: {keep_rows_mask.sum()} rows retained.\")\n",
    "    return keep_rows_mask"
   ]
  },
  {
   "cell_type": "code",
   "execution_count": 79,
   "id": "4a759155",
   "metadata": {
    "execution": {
     "iopub.execute_input": "2025-07-30T21:27:32.031318Z",
     "iopub.status.busy": "2025-07-30T21:27:32.030419Z",
     "iopub.status.idle": "2025-07-30T21:27:40.004102Z",
     "shell.execute_reply": "2025-07-30T21:27:40.003402Z"
    },
    "papermill": {
     "duration": 8.003403,
     "end_time": "2025-07-30T21:27:40.005304",
     "exception": false,
     "start_time": "2025-07-30T21:27:32.001901",
     "status": "completed"
    },
    "tags": []
   },
   "outputs": [
    {
     "name": "stdout",
     "output_type": "stream",
     "text": [
      "Stopping execution_time clock.\n",
      "[INFO] Keeping all rows: 89710 rows retained.\n"
     ]
    },
    {
     "name": "stdout",
     "output_type": "stream",
     "text": [
      "[INFO] Keeping all rows: 89710 rows retained.\n"
     ]
    },
    {
     "name": "stdout",
     "output_type": "stream",
     "text": [
      "[INFO] Keeping all rows: 89710 rows retained.\n"
     ]
    },
    {
     "name": "stdout",
     "output_type": "stream",
     "text": [
      "[INFO] Keeping all rows: 89710 rows retained.\n"
     ]
    },
    {
     "data": {
      "text/html": [
       "<div>\n",
       "<style scoped>\n",
       "    .dataframe tbody tr th:only-of-type {\n",
       "        vertical-align: middle;\n",
       "    }\n",
       "\n",
       "    .dataframe tbody tr th {\n",
       "        vertical-align: top;\n",
       "    }\n",
       "\n",
       "    .dataframe thead th {\n",
       "        text-align: right;\n",
       "    }\n",
       "</style>\n",
       "<table border=\"1\" class=\"dataframe\">\n",
       "  <thead>\n",
       "    <tr style=\"text-align: right;\">\n",
       "      <th></th>\n",
       "      <th>run_no</th>\n",
       "      <th>universe_id</th>\n",
       "      <th>universe_settings</th>\n",
       "      <th>execution_time</th>\n",
       "      <th>test_size_n</th>\n",
       "      <th>test_size_frac</th>\n",
       "      <th>fair_main_equalized_odds_difference</th>\n",
       "      <th>fair_main_equalized_odds_ratio</th>\n",
       "      <th>fair_main_demographic_parity_difference</th>\n",
       "      <th>fair_main_demographic_parity_ratio</th>\n",
       "      <th>...</th>\n",
       "      <th>perf_grp_precision_0</th>\n",
       "      <th>perf_grp_precision_1</th>\n",
       "      <th>perf_grp_false positive rate_0</th>\n",
       "      <th>perf_grp_false positive rate_1</th>\n",
       "      <th>perf_grp_false negative rate_0</th>\n",
       "      <th>perf_grp_false negative rate_1</th>\n",
       "      <th>perf_grp_selection rate_0</th>\n",
       "      <th>perf_grp_selection rate_1</th>\n",
       "      <th>perf_grp_count_0</th>\n",
       "      <th>perf_grp_count_1</th>\n",
       "    </tr>\n",
       "  </thead>\n",
       "  <tbody>\n",
       "    <tr>\n",
       "      <th>0</th>\n",
       "      <td>14</td>\n",
       "      <td>373777f87294c3e0bc8d64c8968ca167</td>\n",
       "      <td>{\"cutoff\": \"quantile_0.1\", \"eval_fairness_grou...</td>\n",
       "      <td>26.126323</td>\n",
       "      <td>89710</td>\n",
       "      <td>1.0</td>\n",
       "      <td>0.092466</td>\n",
       "      <td>0.903923</td>\n",
       "      <td>0.083853</td>\n",
       "      <td>0.913074</td>\n",
       "      <td>...</td>\n",
       "      <td>NaN</td>\n",
       "      <td>NaN</td>\n",
       "      <td>NaN</td>\n",
       "      <td>NaN</td>\n",
       "      <td>NaN</td>\n",
       "      <td>NaN</td>\n",
       "      <td>NaN</td>\n",
       "      <td>NaN</td>\n",
       "      <td>NaN</td>\n",
       "      <td>NaN</td>\n",
       "    </tr>\n",
       "    <tr>\n",
       "      <th>0</th>\n",
       "      <td>14</td>\n",
       "      <td>373777f87294c3e0bc8d64c8968ca167</td>\n",
       "      <td>{\"cutoff\": \"quantile_0.1\", \"eval_fairness_grou...</td>\n",
       "      <td>26.126323</td>\n",
       "      <td>89710</td>\n",
       "      <td>1.0</td>\n",
       "      <td>0.092466</td>\n",
       "      <td>0.903923</td>\n",
       "      <td>0.083853</td>\n",
       "      <td>0.913074</td>\n",
       "      <td>...</td>\n",
       "      <td>0.117341</td>\n",
       "      <td>0.142831</td>\n",
       "      <td>0.962415</td>\n",
       "      <td>0.869948</td>\n",
       "      <td>0.018159</td>\n",
       "      <td>0.047921</td>\n",
       "      <td>0.964654</td>\n",
       "      <td>0.880801</td>\n",
       "      <td>20540.0</td>\n",
       "      <td>69170.0</td>\n",
       "    </tr>\n",
       "    <tr>\n",
       "      <th>0</th>\n",
       "      <td>14</td>\n",
       "      <td>373777f87294c3e0bc8d64c8968ca167</td>\n",
       "      <td>{\"cutoff\": \"quantile_0.25\", \"eval_fairness_gro...</td>\n",
       "      <td>26.126323</td>\n",
       "      <td>89710</td>\n",
       "      <td>1.0</td>\n",
       "      <td>0.212559</td>\n",
       "      <td>0.762738</td>\n",
       "      <td>0.194992</td>\n",
       "      <td>0.783425</td>\n",
       "      <td>...</td>\n",
       "      <td>NaN</td>\n",
       "      <td>NaN</td>\n",
       "      <td>NaN</td>\n",
       "      <td>NaN</td>\n",
       "      <td>NaN</td>\n",
       "      <td>NaN</td>\n",
       "      <td>NaN</td>\n",
       "      <td>NaN</td>\n",
       "      <td>NaN</td>\n",
       "      <td>NaN</td>\n",
       "    </tr>\n",
       "    <tr>\n",
       "      <th>0</th>\n",
       "      <td>14</td>\n",
       "      <td>373777f87294c3e0bc8d64c8968ca167</td>\n",
       "      <td>{\"cutoff\": \"quantile_0.25\", \"eval_fairness_gro...</td>\n",
       "      <td>26.126323</td>\n",
       "      <td>89710</td>\n",
       "      <td>1.0</td>\n",
       "      <td>0.212559</td>\n",
       "      <td>0.762738</td>\n",
       "      <td>0.194992</td>\n",
       "      <td>0.783425</td>\n",
       "      <td>...</td>\n",
       "      <td>0.119667</td>\n",
       "      <td>0.159237</td>\n",
       "      <td>0.895884</td>\n",
       "      <td>0.683325</td>\n",
       "      <td>0.065456</td>\n",
       "      <td>0.150000</td>\n",
       "      <td>0.900341</td>\n",
       "      <td>0.705349</td>\n",
       "      <td>20540.0</td>\n",
       "      <td>69170.0</td>\n",
       "    </tr>\n",
       "  </tbody>\n",
       "</table>\n",
       "<p>4 rows × 50 columns</p>\n",
       "</div>"
      ],
      "text/plain": [
       "  run_no                       universe_id  \\\n",
       "0     14  373777f87294c3e0bc8d64c8968ca167   \n",
       "0     14  373777f87294c3e0bc8d64c8968ca167   \n",
       "0     14  373777f87294c3e0bc8d64c8968ca167   \n",
       "0     14  373777f87294c3e0bc8d64c8968ca167   \n",
       "\n",
       "                                   universe_settings  execution_time  \\\n",
       "0  {\"cutoff\": \"quantile_0.1\", \"eval_fairness_grou...       26.126323   \n",
       "0  {\"cutoff\": \"quantile_0.1\", \"eval_fairness_grou...       26.126323   \n",
       "0  {\"cutoff\": \"quantile_0.25\", \"eval_fairness_gro...       26.126323   \n",
       "0  {\"cutoff\": \"quantile_0.25\", \"eval_fairness_gro...       26.126323   \n",
       "\n",
       "   test_size_n  test_size_frac  fair_main_equalized_odds_difference  \\\n",
       "0        89710             1.0                             0.092466   \n",
       "0        89710             1.0                             0.092466   \n",
       "0        89710             1.0                             0.212559   \n",
       "0        89710             1.0                             0.212559   \n",
       "\n",
       "   fair_main_equalized_odds_ratio  fair_main_demographic_parity_difference  \\\n",
       "0                        0.903923                                 0.083853   \n",
       "0                        0.903923                                 0.083853   \n",
       "0                        0.762738                                 0.194992   \n",
       "0                        0.762738                                 0.194992   \n",
       "\n",
       "   fair_main_demographic_parity_ratio  ...  perf_grp_precision_0  \\\n",
       "0                            0.913074  ...                   NaN   \n",
       "0                            0.913074  ...              0.117341   \n",
       "0                            0.783425  ...                   NaN   \n",
       "0                            0.783425  ...              0.119667   \n",
       "\n",
       "   perf_grp_precision_1  perf_grp_false positive rate_0  \\\n",
       "0                   NaN                             NaN   \n",
       "0              0.142831                        0.962415   \n",
       "0                   NaN                             NaN   \n",
       "0              0.159237                        0.895884   \n",
       "\n",
       "   perf_grp_false positive rate_1  perf_grp_false negative rate_0  \\\n",
       "0                             NaN                             NaN   \n",
       "0                        0.869948                        0.018159   \n",
       "0                             NaN                             NaN   \n",
       "0                        0.683325                        0.065456   \n",
       "\n",
       "   perf_grp_false negative rate_1  perf_grp_selection rate_0  \\\n",
       "0                             NaN                        NaN   \n",
       "0                        0.047921                   0.964654   \n",
       "0                             NaN                        NaN   \n",
       "0                        0.150000                   0.900341   \n",
       "\n",
       "   perf_grp_selection rate_1  perf_grp_count_0  perf_grp_count_1  \n",
       "0                        NaN               NaN               NaN  \n",
       "0                   0.880801           20540.0           69170.0  \n",
       "0                        NaN               NaN               NaN  \n",
       "0                   0.705349           20540.0           69170.0  \n",
       "\n",
       "[4 rows x 50 columns]"
      ]
     },
     "execution_count": 79,
     "metadata": {},
     "output_type": "execute_result"
    }
   ],
   "source": [
    "final_output = universe_analysis.generate_final_output(\n",
    "    y_pred_prob=probs_test,\n",
    "    y_test=y_true,\n",
    "    org_test=org_test,\n",
    "    filter_data=filter_sub_universe_data,\n",
    "    cp_metrics_df=cp_metrics_df,\n",
    "    save=True,\n",
    ")\n",
    "final_output"
   ]
  },
  {
   "cell_type": "code",
   "execution_count": null,
   "id": "721ff514-cb11-46f8-b6fc-50392f74b5cb",
   "metadata": {
    "papermill": {
     "duration": 0.015998,
     "end_time": "2025-07-30T21:27:40.041122",
     "exception": false,
     "start_time": "2025-07-30T21:27:40.025124",
     "status": "completed"
    },
    "tags": []
   },
   "outputs": [],
   "source": []
  }
 ],
 "metadata": {
  "celltoolbar": "Tags",
  "kernelspec": {
   "display_name": "Python (CMA Fairness)",
   "language": "python",
   "name": "cma_fair_env"
  },
  "language_info": {
   "codemirror_mode": {
    "name": "ipython",
    "version": 3
   },
   "file_extension": ".py",
   "mimetype": "text/x-python",
   "name": "python",
   "nbconvert_exporter": "python",
   "pygments_lexer": "ipython3",
   "version": "3.10.12"
  },
  "papermill": {
   "default_parameters": {},
   "duration": 38.258563,
   "end_time": "2025-07-30T21:27:40.774736",
   "environment_variables": {},
   "exception": null,
   "input_path": "universe_analysis.ipynb",
   "output_path": "output/runs/14/notebooks/m_14-373777f87294c3e0bc8d64c8968ca167.ipynb",
   "parameters": {
    "output_dir": "output",
    "run_no": "14",
    "seed": "2023",
    "universe": "{\"cutoff\": [\"quantile_0.1\", \"quantile_0.25\"], \"eval_fairness_grouping\": [\"majority-minority\", \"nationality-all\"], \"exclude_features\": \"none\", \"exclude_subgroups\": \"keep-all\", \"model\": \"logreg\", \"scale\": \"do-not-scale\", \"training_size\": \"1k\", \"training_year\": \"2014\"}",
    "universe_id": "373777f87294c3e0bc8d64c8968ca167"
   },
   "start_time": "2025-07-30T21:27:02.516173",
   "version": "2.6.0"
  }
 },
 "nbformat": 4,
 "nbformat_minor": 5
}