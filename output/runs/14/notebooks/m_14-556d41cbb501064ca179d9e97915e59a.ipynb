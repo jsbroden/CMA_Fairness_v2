{
 "cells": [
  {
   "cell_type": "code",
   "execution_count": 1,
   "id": "f159f837-637b-42ba-96b5-ec9a68c44524",
   "metadata": {
    "execution": {
     "iopub.execute_input": "2025-07-30T21:40:13.356551Z",
     "iopub.status.busy": "2025-07-30T21:40:13.356076Z",
     "iopub.status.idle": "2025-07-30T21:40:13.370165Z",
     "shell.execute_reply": "2025-07-30T21:40:13.369183Z"
    },
    "papermill": {
     "duration": 0.028954,
     "end_time": "2025-07-30T21:40:13.372001",
     "exception": false,
     "start_time": "2025-07-30T21:40:13.343047",
     "status": "completed"
    },
    "tags": []
   },
   "outputs": [
    {
     "name": "stdout",
     "output_type": "stream",
     "text": [
      "/dss/dsshome1/0C/ra93lal2/cma/CMA_Fairness_v2\n"
     ]
    },
    {
     "name": "stderr",
     "output_type": "stream",
     "text": [
      "/dss/dsshome1/0C/ra93lal2/.local/share/virtualenvs/CMA_Fairness_v2-3j10GkSs/lib/python3.10/site-packages/IPython/core/magics/osm.py:393: UserWarning: This is now an optional IPython functionality, using bookmarks requires you to install the `pickleshare` library.\n",
      "  bkms = self.shell.db.get('bookmarks', {})\n",
      "/dss/dsshome1/0C/ra93lal2/.local/share/virtualenvs/CMA_Fairness_v2-3j10GkSs/lib/python3.10/site-packages/IPython/core/magics/osm.py:417: UserWarning: This is now an optional IPython functionality, setting dhist requires you to install the `pickleshare` library.\n",
      "  self.shell.db['dhist'] = compress_dhist(dhist)[-100:]\n"
     ]
    }
   ],
   "source": [
    "%cd ~/cma/CMA_Fairness_v2"
   ]
  },
  {
   "cell_type": "markdown",
   "id": "de2603b9",
   "metadata": {
    "papermill": {
     "duration": 0.020154,
     "end_time": "2025-07-30T21:40:13.414454",
     "exception": false,
     "start_time": "2025-07-30T21:40:13.394300",
     "status": "completed"
    },
    "tags": []
   },
   "source": [
    "The following cell holds the definition of our parameters, these values can be overriden by rendering the with e.g. the following command:\n",
    "\n",
    "papermill -p alpha 0.2 -p ratio 0.3 universe_analysis.ipynb output/test_run.ipynb"
   ]
  },
  {
   "cell_type": "code",
   "execution_count": 2,
   "id": "a80968a0-40bb-4fa9-85ef-2d5eefb01975",
   "metadata": {
    "execution": {
     "iopub.execute_input": "2025-07-30T21:40:13.457454Z",
     "iopub.status.busy": "2025-07-30T21:40:13.456924Z",
     "iopub.status.idle": "2025-07-30T21:40:13.461873Z",
     "shell.execute_reply": "2025-07-30T21:40:13.460840Z"
    },
    "papermill": {
     "duration": 0.028306,
     "end_time": "2025-07-30T21:40:13.463589",
     "exception": false,
     "start_time": "2025-07-30T21:40:13.435283",
     "status": "completed"
    },
    "tags": []
   },
   "outputs": [
    {
     "name": "stdout",
     "output_type": "stream",
     "text": [
      "Current working directory: /dss/dsshome1/0C/ra93lal2/cma/CMA_Fairness_v2\n"
     ]
    }
   ],
   "source": [
    "import os\n",
    "print(\"Current working directory:\", os.getcwd())"
   ]
  },
  {
   "cell_type": "code",
   "execution_count": 3,
   "id": "2dce4c03",
   "metadata": {
    "execution": {
     "iopub.execute_input": "2025-07-30T21:40:13.509949Z",
     "iopub.status.busy": "2025-07-30T21:40:13.509450Z",
     "iopub.status.idle": "2025-07-30T21:40:13.515911Z",
     "shell.execute_reply": "2025-07-30T21:40:13.514967Z"
    },
    "papermill": {
     "duration": 0.031951,
     "end_time": "2025-07-30T21:40:13.517820",
     "exception": false,
     "start_time": "2025-07-30T21:40:13.485869",
     "status": "completed"
    },
    "tags": [
     "parameters"
    ]
   },
   "outputs": [],
   "source": [
    "run_no = 0\n",
    "universe_id = \"test\"\n",
    "universe = {\n",
    "    \"training_size\": \"25k\", # \"25k\", \"5k\", \"1k\"\n",
    "    \"training_year\": \"2014\", # \"2014\", \"2012_14\", \"2010_14\"\n",
    "    \"scale\": \"scale\", # \"scale\", \"do-not-scale\",\n",
    "    #\"stratify_split\": \"target\", # \"none\", \"target\", \"protected-attribute\", \"both\",\n",
    "    \"model\": \"elasticnet\", # \"logreg\", \"penalized_logreg\", \"rf\", \"gbm\", \"elasticnet\"\n",
    "    \"cutoff\": [\"quantile_0.15\", \"quantile_0.30\"],\n",
    "    \"exclude_features\": \"age\", # \"none\", \"nationality\", \"sex\", \"nationality-sex\", \"age\"\n",
    "    \"exclude_subgroups\": \"keep-all\", # \"keep-all\", \"drop-non-german\"\n",
    "    \"eval_fairness_grouping\": [\"majority-minority\", \"nationality-all\"]\n",
    "}\n",
    "\n",
    "output_dir=\"./output\"\n",
    "seed=0"
   ]
  },
  {
   "cell_type": "code",
   "execution_count": 4,
   "id": "1108d54d",
   "metadata": {
    "execution": {
     "iopub.execute_input": "2025-07-30T21:40:13.565590Z",
     "iopub.status.busy": "2025-07-30T21:40:13.565108Z",
     "iopub.status.idle": "2025-07-30T21:40:13.572037Z",
     "shell.execute_reply": "2025-07-30T21:40:13.570782Z"
    },
    "papermill": {
     "duration": 0.033189,
     "end_time": "2025-07-30T21:40:13.574421",
     "exception": false,
     "start_time": "2025-07-30T21:40:13.541232",
     "status": "completed"
    },
    "tags": [
     "injected-parameters"
    ]
   },
   "outputs": [],
   "source": [
    "# Parameters\n",
    "universe_id = \"556d41cbb501064ca179d9e97915e59a\"\n",
    "run_no = \"14\"\n",
    "universe = \"{\\\"cutoff\\\": [\\\"quantile_0.1\\\", \\\"quantile_0.25\\\"], \\\"eval_fairness_grouping\\\": [\\\"majority-minority\\\", \\\"nationality-all\\\"], \\\"exclude_features\\\": \\\"nationality\\\", \\\"exclude_subgroups\\\": \\\"drop-non-german\\\", \\\"model\\\": \\\"rf\\\", \\\"scale\\\": \\\"do-not-scale\\\", \\\"training_size\\\": \\\"1k\\\", \\\"training_year\\\": \\\"2012_14\\\"}\"\n",
    "output_dir = \"output\"\n",
    "seed = \"2023\"\n"
   ]
  },
  {
   "cell_type": "code",
   "execution_count": 5,
   "id": "1650acaf",
   "metadata": {
    "execution": {
     "iopub.execute_input": "2025-07-30T21:40:13.623870Z",
     "iopub.status.busy": "2025-07-30T21:40:13.623057Z",
     "iopub.status.idle": "2025-07-30T21:40:13.628585Z",
     "shell.execute_reply": "2025-07-30T21:40:13.627345Z"
    },
    "papermill": {
     "duration": 0.029668,
     "end_time": "2025-07-30T21:40:13.630403",
     "exception": false,
     "start_time": "2025-07-30T21:40:13.600735",
     "status": "completed"
    },
    "tags": []
   },
   "outputs": [],
   "source": [
    "import json\n",
    "# Parse universe into dict if it is passed as a string\n",
    "if isinstance(universe, str):\n",
    "    universe = json.loads(universe)"
   ]
  },
  {
   "cell_type": "code",
   "execution_count": 6,
   "id": "16620c48",
   "metadata": {
    "execution": {
     "iopub.execute_input": "2025-07-30T21:40:13.656612Z",
     "iopub.status.busy": "2025-07-30T21:40:13.656240Z",
     "iopub.status.idle": "2025-07-30T21:40:13.700557Z",
     "shell.execute_reply": "2025-07-30T21:40:13.699540Z"
    },
    "papermill": {
     "duration": 0.058497,
     "end_time": "2025-07-30T21:40:13.702568",
     "exception": false,
     "start_time": "2025-07-30T21:40:13.644071",
     "status": "completed"
    },
    "tags": []
   },
   "outputs": [],
   "source": [
    "# Auto-reload the custom package\n",
    "%load_ext autoreload\n",
    "%autoreload 1\n",
    "%aimport fairness_multiverse"
   ]
  },
  {
   "cell_type": "code",
   "execution_count": 7,
   "id": "01c5c9f3",
   "metadata": {
    "execution": {
     "iopub.execute_input": "2025-07-30T21:40:13.746577Z",
     "iopub.status.busy": "2025-07-30T21:40:13.746244Z",
     "iopub.status.idle": "2025-07-30T21:40:15.609571Z",
     "shell.execute_reply": "2025-07-30T21:40:15.608426Z"
    },
    "papermill": {
     "duration": 1.887861,
     "end_time": "2025-07-30T21:40:15.611541",
     "exception": false,
     "start_time": "2025-07-30T21:40:13.723680",
     "status": "completed"
    },
    "tags": []
   },
   "outputs": [],
   "source": [
    "from fairness_multiverse.universe import UniverseAnalysis\n",
    "\n",
    "universe_analysis = UniverseAnalysis(\n",
    "    run_no = run_no,\n",
    "    universe_id = universe_id,\n",
    "    universe = universe,\n",
    "    output_dir=output_dir,\n",
    ")"
   ]
  },
  {
   "cell_type": "code",
   "execution_count": 8,
   "id": "106241f5",
   "metadata": {
    "execution": {
     "iopub.execute_input": "2025-07-30T21:40:15.655921Z",
     "iopub.status.busy": "2025-07-30T21:40:15.655046Z",
     "iopub.status.idle": "2025-07-30T21:40:15.662309Z",
     "shell.execute_reply": "2025-07-30T21:40:15.661161Z"
    },
    "papermill": {
     "duration": 0.03076,
     "end_time": "2025-07-30T21:40:15.663979",
     "exception": false,
     "start_time": "2025-07-30T21:40:15.633219",
     "status": "completed"
    },
    "tags": []
   },
   "outputs": [
    {
     "name": "stdout",
     "output_type": "stream",
     "text": [
      "Using Seed: 2023\n"
     ]
    }
   ],
   "source": [
    "import numpy as np\n",
    "parsed_seed = int(seed)\n",
    "np.random.seed(parsed_seed)\n",
    "print(f\"Using Seed: {parsed_seed}\")"
   ]
  },
  {
   "cell_type": "markdown",
   "id": "e0ebdc57",
   "metadata": {
    "papermill": {
     "duration": 0.019963,
     "end_time": "2025-07-30T21:40:15.704113",
     "exception": false,
     "start_time": "2025-07-30T21:40:15.684150",
     "status": "completed"
    },
    "tags": []
   },
   "source": [
    "# Loading Data"
   ]
  },
  {
   "cell_type": "markdown",
   "id": "681925a3",
   "metadata": {
    "papermill": {
     "duration": 0.021134,
     "end_time": "2025-07-30T21:40:15.746409",
     "exception": false,
     "start_time": "2025-07-30T21:40:15.725275",
     "status": "completed"
    },
    "tags": []
   },
   "source": [
    "Load siab_train, siab_test, siab_calib and/or \n",
    "load siab_train_features, siab_train_labels"
   ]
  },
  {
   "cell_type": "code",
   "execution_count": 9,
   "id": "f0496b8a",
   "metadata": {
    "execution": {
     "iopub.execute_input": "2025-07-30T21:40:15.790979Z",
     "iopub.status.busy": "2025-07-30T21:40:15.790501Z",
     "iopub.status.idle": "2025-07-30T21:40:28.394478Z",
     "shell.execute_reply": "2025-07-30T21:40:28.393282Z"
    },
    "papermill": {
     "duration": 12.628248,
     "end_time": "2025-07-30T21:40:28.396148",
     "exception": false,
     "start_time": "2025-07-30T21:40:15.767900",
     "status": "completed"
    },
    "tags": []
   },
   "outputs": [
    {
     "name": "stdout",
     "output_type": "stream",
     "text": [
      "Loading SIAB data from cache: data/siab_cached.csv.gz\n"
     ]
    },
    {
     "name": "stdout",
     "output_type": "stream",
     "text": [
      "(643690, 164)\n"
     ]
    }
   ],
   "source": [
    "from pathlib import Path\n",
    "import pandas as pd\n",
    "\n",
    "# File paths\n",
    "raw_file = Path(\"data/raw/siab.csv\")\n",
    "cache_file = Path(\"data/siab_cached.csv.gz\")\n",
    "\n",
    "# Ensure cache directory exists\n",
    "cache_file.parent.mkdir(parents=True, exist_ok=True)\n",
    "\n",
    "# Load with simple caching\n",
    "if cache_file.exists():\n",
    "    print(f\"Loading SIAB data from cache: {cache_file}\")\n",
    "    siab = pd.read_csv(cache_file, compression='gzip')\n",
    "else:\n",
    "    print(f\"Cache not found. Reading raw SIAB data: {raw_file}\")\n",
    "    siab = pd.read_csv(raw_file)\n",
    "    siab.to_csv(cache_file, index=False, compression='gzip')\n",
    "    print(f\"Cached SIAB data to: {cache_file}\")\n",
    "\n",
    "# Now use `siab` DataFrame as needed\n",
    "print(siab.shape)"
   ]
  },
  {
   "cell_type": "code",
   "execution_count": 10,
   "id": "db0ca512-5f53-4dba-abdb-a2888bca41ba",
   "metadata": {
    "execution": {
     "iopub.execute_input": "2025-07-30T21:40:28.443537Z",
     "iopub.status.busy": "2025-07-30T21:40:28.442965Z",
     "iopub.status.idle": "2025-07-30T21:40:28.449119Z",
     "shell.execute_reply": "2025-07-30T21:40:28.448097Z"
    },
    "papermill": {
     "duration": 0.03094,
     "end_time": "2025-07-30T21:40:28.450685",
     "exception": false,
     "start_time": "2025-07-30T21:40:28.419745",
     "status": "completed"
    },
    "tags": []
   },
   "outputs": [],
   "source": [
    "#siab"
   ]
  },
  {
   "cell_type": "code",
   "execution_count": 11,
   "id": "a0edb063",
   "metadata": {
    "execution": {
     "iopub.execute_input": "2025-07-30T21:40:28.475450Z",
     "iopub.status.busy": "2025-07-30T21:40:28.474961Z",
     "iopub.status.idle": "2025-07-30T21:40:28.479316Z",
     "shell.execute_reply": "2025-07-30T21:40:28.478655Z"
    },
    "papermill": {
     "duration": 0.017523,
     "end_time": "2025-07-30T21:40:28.480638",
     "exception": false,
     "start_time": "2025-07-30T21:40:28.463115",
     "status": "completed"
    },
    "tags": []
   },
   "outputs": [],
   "source": [
    "#import pandas as pd\n",
    "#\n",
    "#X_train = pd.read_csv(\"./data/X_train.csv\")\n",
    "#y_train = pd.read_csv(\"./data/y_train.csv\")"
   ]
  },
  {
   "cell_type": "code",
   "execution_count": 12,
   "id": "63d08085",
   "metadata": {
    "execution": {
     "iopub.execute_input": "2025-07-30T21:40:28.504223Z",
     "iopub.status.busy": "2025-07-30T21:40:28.503713Z",
     "iopub.status.idle": "2025-07-30T21:40:28.507873Z",
     "shell.execute_reply": "2025-07-30T21:40:28.507144Z"
    },
    "papermill": {
     "duration": 0.017138,
     "end_time": "2025-07-30T21:40:28.509260",
     "exception": false,
     "start_time": "2025-07-30T21:40:28.492122",
     "status": "completed"
    },
    "tags": []
   },
   "outputs": [],
   "source": [
    "#X_test = pd.read_csv(\"./data/X_test.csv\")\n",
    "#y_true = pd.read_csv(\"./data/y_test.csv\")"
   ]
  },
  {
   "cell_type": "code",
   "execution_count": 13,
   "id": "98a8d0fa-1d3d-4ed8-bb2c-281470e24add",
   "metadata": {
    "execution": {
     "iopub.execute_input": "2025-07-30T21:40:28.533083Z",
     "iopub.status.busy": "2025-07-30T21:40:28.532550Z",
     "iopub.status.idle": "2025-07-30T21:40:28.537047Z",
     "shell.execute_reply": "2025-07-30T21:40:28.536392Z"
    },
    "papermill": {
     "duration": 0.017506,
     "end_time": "2025-07-30T21:40:28.538313",
     "exception": false,
     "start_time": "2025-07-30T21:40:28.520807",
     "status": "completed"
    },
    "tags": []
   },
   "outputs": [],
   "source": [
    "# Calibration data for conformal\n",
    "#X_calib = pd.read_csv(\"./data/X_calib.csv\")\n",
    "#y_calib = pd.read_csv(\"./data/y_calib.csv\")"
   ]
  },
  {
   "cell_type": "markdown",
   "id": "997051c5-15bd-4b69-9786-c3001a3ce484",
   "metadata": {
    "papermill": {
     "duration": 0.010776,
     "end_time": "2025-07-30T21:40:28.560814",
     "exception": false,
     "start_time": "2025-07-30T21:40:28.550038",
     "status": "completed"
    },
    "tags": []
   },
   "source": [
    "# Splitting Data and Setting Training Data Size"
   ]
  },
  {
   "cell_type": "code",
   "execution_count": 14,
   "id": "e993b61f-042d-41a6-8c81-f55681f86335",
   "metadata": {
    "execution": {
     "iopub.execute_input": "2025-07-30T21:40:28.583886Z",
     "iopub.status.busy": "2025-07-30T21:40:28.583380Z",
     "iopub.status.idle": "2025-07-30T21:40:28.593249Z",
     "shell.execute_reply": "2025-07-30T21:40:28.592469Z"
    },
    "papermill": {
     "duration": 0.023274,
     "end_time": "2025-07-30T21:40:28.594770",
     "exception": false,
     "start_time": "2025-07-30T21:40:28.571496",
     "status": "completed"
    },
    "tags": []
   },
   "outputs": [],
   "source": [
    "def sample_by_year_size(df,\n",
    "                        training_year: str,\n",
    "                        training_size: str,\n",
    "                        random_state: int = 42):\n",
    "    # --- parse training_year into a list of int years ---\n",
    "    if \"_\" in training_year:\n",
    "        start_str, end_str = training_year.split(\"_\", 1)\n",
    "        start = int(start_str)\n",
    "        end   = int(end_str) if len(end_str) == 4 else (int(end_str) + (start // 100)*100)\n",
    "        years = list(range(start, end + 1))\n",
    "    else:\n",
    "        years = [int(training_year)]\n",
    "\n",
    "    df = df[df[\"year\"].isin(years)].reset_index(drop=True)\n",
    "\n",
    "    # --- map training_size to total number of samples ---\n",
    "    total_map = {\"25k\": 25_000, \"5k\": 5_000, \"1k\": 1_000}\n",
    "    if training_size not in total_map:\n",
    "        return df  # e.g. \"all\"\n",
    "\n",
    "    total_samples = total_map[training_size]\n",
    "    n_years       = len(years)\n",
    "    base          = total_samples // n_years\n",
    "    remainder     = total_samples % n_years\n",
    "\n",
    "    # --- build a dict: year -> how many to sample ---\n",
    "    # give +1 to the first `remainder` years in ascending order\n",
    "    quotas = {\n",
    "        year: base + (1 if idx < remainder else 0)\n",
    "        for idx, year in enumerate(sorted(years))\n",
    "    }\n",
    "\n",
    "    # --- sample per‐year according to the quota dict ---\n",
    "    sampled = (\n",
    "        df\n",
    "        .groupby(\"year\", group_keys=False)\n",
    "        .apply(lambda grp: grp.sample(\n",
    "            n=min(len(grp), quotas[grp.name]),\n",
    "            random_state=random_state))\n",
    "        .reset_index(drop=True)\n",
    "    )\n",
    "\n",
    "    return sampled"
   ]
  },
  {
   "cell_type": "code",
   "execution_count": 15,
   "id": "c0ccd338-0e02-41f3-a09d-f56f9266e3fb",
   "metadata": {
    "execution": {
     "iopub.execute_input": "2025-07-30T21:40:28.619073Z",
     "iopub.status.busy": "2025-07-30T21:40:28.618715Z",
     "iopub.status.idle": "2025-07-30T21:40:28.622913Z",
     "shell.execute_reply": "2025-07-30T21:40:28.622226Z"
    },
    "papermill": {
     "duration": 0.017527,
     "end_time": "2025-07-30T21:40:28.624218",
     "exception": false,
     "start_time": "2025-07-30T21:40:28.606691",
     "status": "completed"
    },
    "tags": []
   },
   "outputs": [],
   "source": [
    "#universe[\"training_size\"]"
   ]
  },
  {
   "cell_type": "code",
   "execution_count": 16,
   "id": "ca707fd7-8047-4acd-bfa5-66248fbbf8e6",
   "metadata": {
    "execution": {
     "iopub.execute_input": "2025-07-30T21:40:28.649079Z",
     "iopub.status.busy": "2025-07-30T21:40:28.648736Z",
     "iopub.status.idle": "2025-07-30T21:40:28.653275Z",
     "shell.execute_reply": "2025-07-30T21:40:28.652596Z"
    },
    "papermill": {
     "duration": 0.01827,
     "end_time": "2025-07-30T21:40:28.654679",
     "exception": false,
     "start_time": "2025-07-30T21:40:28.636409",
     "status": "completed"
    },
    "tags": []
   },
   "outputs": [],
   "source": [
    "#universe[\"training_year\"]"
   ]
  },
  {
   "cell_type": "code",
   "execution_count": 17,
   "id": "aea9c6ef-6f46-42c8-85eb-5a62025c1508",
   "metadata": {
    "execution": {
     "iopub.execute_input": "2025-07-30T21:40:28.680827Z",
     "iopub.status.busy": "2025-07-30T21:40:28.680281Z",
     "iopub.status.idle": "2025-07-30T21:40:29.270721Z",
     "shell.execute_reply": "2025-07-30T21:40:29.269404Z"
    },
    "papermill": {
     "duration": 0.604879,
     "end_time": "2025-07-30T21:40:29.272667",
     "exception": false,
     "start_time": "2025-07-30T21:40:28.667788",
     "status": "completed"
    },
    "tags": []
   },
   "outputs": [],
   "source": [
    "siab_train = sample_by_year_size(siab,\n",
    "                               training_year=universe[\"training_year\"],\n",
    "                               training_size=universe[\"training_size\"])"
   ]
  },
  {
   "cell_type": "code",
   "execution_count": 18,
   "id": "8d3afb32-789d-442c-8d5d-9f5aa8dd2eed",
   "metadata": {
    "execution": {
     "iopub.execute_input": "2025-07-30T21:40:29.318849Z",
     "iopub.status.busy": "2025-07-30T21:40:29.317966Z",
     "iopub.status.idle": "2025-07-30T21:40:29.323529Z",
     "shell.execute_reply": "2025-07-30T21:40:29.322552Z"
    },
    "papermill": {
     "duration": 0.030807,
     "end_time": "2025-07-30T21:40:29.325548",
     "exception": false,
     "start_time": "2025-07-30T21:40:29.294741",
     "status": "completed"
    },
    "tags": []
   },
   "outputs": [],
   "source": [
    "#siab_train.shape"
   ]
  },
  {
   "cell_type": "code",
   "execution_count": 19,
   "id": "d582db68-1a4c-47fb-84fc-08518dc1975a",
   "metadata": {
    "execution": {
     "iopub.execute_input": "2025-07-30T21:40:29.378146Z",
     "iopub.status.busy": "2025-07-30T21:40:29.377154Z",
     "iopub.status.idle": "2025-07-30T21:40:29.383022Z",
     "shell.execute_reply": "2025-07-30T21:40:29.382019Z"
    },
    "papermill": {
     "duration": 0.035037,
     "end_time": "2025-07-30T21:40:29.384946",
     "exception": false,
     "start_time": "2025-07-30T21:40:29.349909",
     "status": "completed"
    },
    "tags": []
   },
   "outputs": [],
   "source": [
    "#display(siab_train.groupby(\"year\").size())"
   ]
  },
  {
   "cell_type": "code",
   "execution_count": 20,
   "id": "a561edb4-d032-42cb-8256-22eac1111c64",
   "metadata": {
    "execution": {
     "iopub.execute_input": "2025-07-30T21:40:29.439467Z",
     "iopub.status.busy": "2025-07-30T21:40:29.438453Z",
     "iopub.status.idle": "2025-07-30T21:40:29.725754Z",
     "shell.execute_reply": "2025-07-30T21:40:29.724547Z"
    },
    "papermill": {
     "duration": 0.31694,
     "end_time": "2025-07-30T21:40:29.728285",
     "exception": false,
     "start_time": "2025-07-30T21:40:29.411345",
     "status": "completed"
    },
    "tags": []
   },
   "outputs": [],
   "source": [
    "#siab_train = siab_s[siab_s.year < 2015]\n",
    "siab_calib = siab[siab.year == 2015]\n",
    "siab_test = siab[siab.year == 2016]"
   ]
  },
  {
   "cell_type": "code",
   "execution_count": 21,
   "id": "472de16f-c3db-4916-846b-1f0de9cf1746",
   "metadata": {
    "execution": {
     "iopub.execute_input": "2025-07-30T21:40:29.806017Z",
     "iopub.status.busy": "2025-07-30T21:40:29.804775Z",
     "iopub.status.idle": "2025-07-30T21:40:29.814128Z",
     "shell.execute_reply": "2025-07-30T21:40:29.812874Z"
    },
    "papermill": {
     "duration": 0.046099,
     "end_time": "2025-07-30T21:40:29.816302",
     "exception": false,
     "start_time": "2025-07-30T21:40:29.770203",
     "status": "completed"
    },
    "tags": []
   },
   "outputs": [],
   "source": [
    "X_train = siab_train.iloc[:,4:164]\n",
    "y_train = siab_train.iloc[:, [3]]"
   ]
  },
  {
   "cell_type": "code",
   "execution_count": 22,
   "id": "828c96af-f43a-4ed6-ba47-8ac73a47d56c",
   "metadata": {
    "execution": {
     "iopub.execute_input": "2025-07-30T21:40:29.865148Z",
     "iopub.status.busy": "2025-07-30T21:40:29.864392Z",
     "iopub.status.idle": "2025-07-30T21:40:29.939751Z",
     "shell.execute_reply": "2025-07-30T21:40:29.938465Z"
    },
    "papermill": {
     "duration": 0.102182,
     "end_time": "2025-07-30T21:40:29.942583",
     "exception": false,
     "start_time": "2025-07-30T21:40:29.840401",
     "status": "completed"
    },
    "tags": []
   },
   "outputs": [],
   "source": [
    "X_calib = siab_calib.iloc[:,4:164]\n",
    "y_calib = siab_calib.iloc[:, [3]]"
   ]
  },
  {
   "cell_type": "code",
   "execution_count": 23,
   "id": "c34be9c3-6bd6-476e-acd3-845840e303be",
   "metadata": {
    "execution": {
     "iopub.execute_input": "2025-07-30T21:40:30.011947Z",
     "iopub.status.busy": "2025-07-30T21:40:30.011125Z",
     "iopub.status.idle": "2025-07-30T21:40:30.065399Z",
     "shell.execute_reply": "2025-07-30T21:40:30.064039Z"
    },
    "papermill": {
     "duration": 0.091746,
     "end_time": "2025-07-30T21:40:30.067842",
     "exception": false,
     "start_time": "2025-07-30T21:40:29.976096",
     "status": "completed"
    },
    "tags": []
   },
   "outputs": [],
   "source": [
    "X_test = siab_test.iloc[:,4:164]\n",
    "y_true = siab_test.iloc[:, [3]]"
   ]
  },
  {
   "cell_type": "markdown",
   "id": "9901737e-04df-44f0-9100-f5ad144ed040",
   "metadata": {
    "papermill": {
     "duration": 0.033381,
     "end_time": "2025-07-30T21:40:30.134215",
     "exception": false,
     "start_time": "2025-07-30T21:40:30.100834",
     "status": "completed"
    },
    "tags": []
   },
   "source": [
    "# Splitting Data and Setting Training Data Size OLD VERSION"
   ]
  },
  {
   "cell_type": "code",
   "execution_count": 24,
   "id": "acbc8f7d-8fc8-4e86-8c59-5dcb0f58384b",
   "metadata": {
    "execution": {
     "iopub.execute_input": "2025-07-30T21:40:30.196795Z",
     "iopub.status.busy": "2025-07-30T21:40:30.196170Z",
     "iopub.status.idle": "2025-07-30T21:40:30.202903Z",
     "shell.execute_reply": "2025-07-30T21:40:30.201838Z"
    },
    "papermill": {
     "duration": 0.038401,
     "end_time": "2025-07-30T21:40:30.204942",
     "exception": false,
     "start_time": "2025-07-30T21:40:30.166541",
     "status": "completed"
    },
    "tags": []
   },
   "outputs": [],
   "source": [
    "#def sample_by_year(df, training_size, random_state=42):\n",
    "#    if training_size == \"2014\":\n",
    "#        return df[df[\"year\"] == 2014].reset_index(drop=True)\n",
    "#    \n",
    "#    size_map = {\n",
    "#        \"25k\": 5000,\n",
    "#        \"5k\": 1000,\n",
    "#        \"1k\": 200\n",
    "#    }\n",
    "#\n",
    "#    if training_size not in size_map:\n",
    "#        return df.reset_index(drop=True)  # use all data\n",
    "#\n",
    "#    n_per_year = size_map[training_size]\n",
    "#    grouped = df.groupby(\"year\")\n",
    "#    sampled = grouped.apply(lambda x: x.sample(n=min(n_per_year, len(x)), random_state=random_state))\n",
    "#    return sampled.reset_index(drop=True)"
   ]
  },
  {
   "cell_type": "code",
   "execution_count": 25,
   "id": "6d931f52-beaf-43ff-9e78-9d44a448d54e",
   "metadata": {
    "execution": {
     "iopub.execute_input": "2025-07-30T21:40:30.263063Z",
     "iopub.status.busy": "2025-07-30T21:40:30.261975Z",
     "iopub.status.idle": "2025-07-30T21:40:30.268224Z",
     "shell.execute_reply": "2025-07-30T21:40:30.267064Z"
    },
    "papermill": {
     "duration": 0.036638,
     "end_time": "2025-07-30T21:40:30.270055",
     "exception": false,
     "start_time": "2025-07-30T21:40:30.233417",
     "status": "completed"
    },
    "tags": []
   },
   "outputs": [],
   "source": [
    "#siab_s = sample_by_year(siab, universe[\"training_size\"])"
   ]
  },
  {
   "cell_type": "code",
   "execution_count": 26,
   "id": "5db0a40e-a4e2-4920-be85-b12ae061d70d",
   "metadata": {
    "execution": {
     "iopub.execute_input": "2025-07-30T21:40:30.325038Z",
     "iopub.status.busy": "2025-07-30T21:40:30.324014Z",
     "iopub.status.idle": "2025-07-30T21:40:30.329887Z",
     "shell.execute_reply": "2025-07-30T21:40:30.328771Z"
    },
    "papermill": {
     "duration": 0.035316,
     "end_time": "2025-07-30T21:40:30.332114",
     "exception": false,
     "start_time": "2025-07-30T21:40:30.296798",
     "status": "completed"
    },
    "tags": []
   },
   "outputs": [],
   "source": [
    "#display(siab_s.groupby(\"year\").size())"
   ]
  },
  {
   "cell_type": "code",
   "execution_count": 27,
   "id": "e6c733c5",
   "metadata": {
    "execution": {
     "iopub.execute_input": "2025-07-30T21:40:30.387999Z",
     "iopub.status.busy": "2025-07-30T21:40:30.387104Z",
     "iopub.status.idle": "2025-07-30T21:40:30.490479Z",
     "shell.execute_reply": "2025-07-30T21:40:30.489185Z"
    },
    "papermill": {
     "duration": 0.134152,
     "end_time": "2025-07-30T21:40:30.492700",
     "exception": false,
     "start_time": "2025-07-30T21:40:30.358548",
     "status": "completed"
    },
    "tags": []
   },
   "outputs": [],
   "source": [
    "# Auxiliary data needed downstream in the pipeline\n",
    "\n",
    "org_train = X_train.copy()\n",
    "org_test = X_test.copy()\n",
    "org_calib = X_calib.copy()"
   ]
  },
  {
   "cell_type": "code",
   "execution_count": 28,
   "id": "1466abac-c6da-4492-a62f-4240ae3783af",
   "metadata": {
    "execution": {
     "iopub.execute_input": "2025-07-30T21:40:30.529037Z",
     "iopub.status.busy": "2025-07-30T21:40:30.527968Z",
     "iopub.status.idle": "2025-07-30T21:40:30.534623Z",
     "shell.execute_reply": "2025-07-30T21:40:30.533659Z"
    },
    "papermill": {
     "duration": 0.027173,
     "end_time": "2025-07-30T21:40:30.536337",
     "exception": false,
     "start_time": "2025-07-30T21:40:30.509164",
     "status": "completed"
    },
    "tags": []
   },
   "outputs": [],
   "source": [
    "# put in other script?\n",
    "# Group sizes\n",
    "\n",
    "#def calculate_percentages(df, df_name):\n",
    "#    total_entries = len(df)\n",
    "#\n",
    "#    female_pct = (df['frau1'] == 1).mean() * 100\n",
    "#    non_german_pct = ((df['maxdeutsch1'] == 0) & (df['maxdeutsch.Missing.'] == 0)).mean() * 100\n",
    "#    non_german_male_pct = ((df['frau1'] == 0) & (df['maxdeutsch1'] == 0) & (df['maxdeutsch.Missing.'] == 0)).mean() * 100\n",
    "#    non_german_female_pct = ((df['frau1'] == 1) & (df['maxdeutsch1'] == 0) & (df['maxdeutsch.Missing.'] == 0)).mean() * 100\n",
    "#\n",
    "#    print(f\"--- {df_name} ---\")\n",
    "#    print(f\"Female: {female_pct:.2f}%\")\n",
    "#    print(f\"Non-German: {non_german_pct:.2f}%\")\n",
    "#    print(f\"Non-German Male: {non_german_male_pct:.2f}%\")\n",
    "#    print(f\"Non-German Female: {non_german_female_pct:.2f}%\\n\")\n",
    "#\n",
    "## Calculate for each DataFrame\n",
    "#calculate_percentages(siab_calib, \"siab_calib\")\n",
    "#calculate_percentages(siab_test, \"siab_test\")\n",
    "#calculate_percentages(siab_train, \"siab_train\")"
   ]
  },
  {
   "cell_type": "markdown",
   "id": "0a4a1b33",
   "metadata": {
    "papermill": {
     "duration": 0.027181,
     "end_time": "2025-07-30T21:40:30.593484",
     "exception": false,
     "start_time": "2025-07-30T21:40:30.566303",
     "status": "completed"
    },
    "tags": []
   },
   "source": [
    "# Preprocessing Data"
   ]
  },
  {
   "cell_type": "code",
   "execution_count": 29,
   "id": "ca879031",
   "metadata": {
    "execution": {
     "iopub.execute_input": "2025-07-30T21:40:30.650880Z",
     "iopub.status.busy": "2025-07-30T21:40:30.650415Z",
     "iopub.status.idle": "2025-07-30T21:40:30.656808Z",
     "shell.execute_reply": "2025-07-30T21:40:30.655497Z"
    },
    "papermill": {
     "duration": 0.038608,
     "end_time": "2025-07-30T21:40:30.658775",
     "exception": false,
     "start_time": "2025-07-30T21:40:30.620167",
     "status": "completed"
    },
    "tags": []
   },
   "outputs": [],
   "source": [
    "# EXCLUDE PROTECTED FEATURES\n",
    "# ----------------------\n",
    "# \"exclude_features\": \"none\", # \"nationality\", \"sex\", \"nationality-sex\"\n",
    "\n",
    "excluded_features = universe[\"exclude_features\"].split(\"-\") # split, e.g.: \"nationality-sex\" -> [\"nationality\", \"sex\"]\n",
    "excluded_features_dictionary = {\n",
    "    \"nationality\": [\"maxdeutsch1\", \"maxdeutsch.Missing.\"],\n",
    "    \"sex\": [\"frau1\"],\n",
    "    \"age\": [\"age\"],\n",
    "}\n"
   ]
  },
  {
   "cell_type": "code",
   "execution_count": 30,
   "id": "b745ac60",
   "metadata": {
    "execution": {
     "iopub.execute_input": "2025-07-30T21:40:30.709405Z",
     "iopub.status.busy": "2025-07-30T21:40:30.708819Z",
     "iopub.status.idle": "2025-07-30T21:40:30.715231Z",
     "shell.execute_reply": "2025-07-30T21:40:30.714226Z"
    },
    "papermill": {
     "duration": 0.033403,
     "end_time": "2025-07-30T21:40:30.717281",
     "exception": false,
     "start_time": "2025-07-30T21:40:30.683878",
     "status": "completed"
    },
    "tags": []
   },
   "outputs": [],
   "source": [
    "# Code nice names to column names\n",
    "\n",
    "excluded_features_columns = [\n",
    "    excluded_features_dictionary[f] for f in excluded_features if len(f) > 0 and f != \"none\"\n",
    "]"
   ]
  },
  {
   "cell_type": "code",
   "execution_count": 31,
   "id": "f84f73a2",
   "metadata": {
    "execution": {
     "iopub.execute_input": "2025-07-30T21:40:30.766561Z",
     "iopub.status.busy": "2025-07-30T21:40:30.766131Z",
     "iopub.status.idle": "2025-07-30T21:40:30.773235Z",
     "shell.execute_reply": "2025-07-30T21:40:30.772119Z"
    },
    "papermill": {
     "duration": 0.03277,
     "end_time": "2025-07-30T21:40:30.774863",
     "exception": false,
     "start_time": "2025-07-30T21:40:30.742093",
     "status": "completed"
    },
    "tags": []
   },
   "outputs": [],
   "source": [
    "from utils import flatten_once\n",
    "\n",
    "excluded_features_columns = flatten_once(excluded_features_columns)"
   ]
  },
  {
   "cell_type": "code",
   "execution_count": 32,
   "id": "884dea22",
   "metadata": {
    "execution": {
     "iopub.execute_input": "2025-07-30T21:40:30.826372Z",
     "iopub.status.busy": "2025-07-30T21:40:30.824720Z",
     "iopub.status.idle": "2025-07-30T21:40:30.835143Z",
     "shell.execute_reply": "2025-07-30T21:40:30.834031Z"
    },
    "papermill": {
     "duration": 0.037359,
     "end_time": "2025-07-30T21:40:30.837091",
     "exception": false,
     "start_time": "2025-07-30T21:40:30.799732",
     "status": "completed"
    },
    "tags": []
   },
   "outputs": [
    {
     "name": "stdout",
     "output_type": "stream",
     "text": [
      "Dropping features: ['maxdeutsch1', 'maxdeutsch.Missing.']\n"
     ]
    }
   ],
   "source": [
    "if len(excluded_features_columns) > 0:\n",
    "    print(f\"Dropping features: {excluded_features_columns}\")\n",
    "    X_train.drop(excluded_features_columns, axis=1, inplace=True)"
   ]
  },
  {
   "cell_type": "code",
   "execution_count": 33,
   "id": "95ab8b16",
   "metadata": {
    "execution": {
     "iopub.execute_input": "2025-07-30T21:40:30.905416Z",
     "iopub.status.busy": "2025-07-30T21:40:30.904899Z",
     "iopub.status.idle": "2025-07-30T21:40:30.980269Z",
     "shell.execute_reply": "2025-07-30T21:40:30.979164Z"
    },
    "papermill": {
     "duration": 0.112802,
     "end_time": "2025-07-30T21:40:30.982140",
     "exception": false,
     "start_time": "2025-07-30T21:40:30.869338",
     "status": "completed"
    },
    "tags": []
   },
   "outputs": [
    {
     "name": "stdout",
     "output_type": "stream",
     "text": [
      "Dropping features: ['maxdeutsch1', 'maxdeutsch.Missing.']\n"
     ]
    }
   ],
   "source": [
    "if len(excluded_features_columns) > 0:\n",
    "    print(f\"Dropping features: {excluded_features_columns}\")\n",
    "    X_test.drop(excluded_features_columns, axis=1, inplace=True)"
   ]
  },
  {
   "cell_type": "code",
   "execution_count": 34,
   "id": "1853aaf5-fb9f-46cb-a2b5-8ea4ae2237e4",
   "metadata": {
    "execution": {
     "iopub.execute_input": "2025-07-30T21:40:31.035129Z",
     "iopub.status.busy": "2025-07-30T21:40:31.034633Z",
     "iopub.status.idle": "2025-07-30T21:40:31.089234Z",
     "shell.execute_reply": "2025-07-30T21:40:31.088090Z"
    },
    "papermill": {
     "duration": 0.083078,
     "end_time": "2025-07-30T21:40:31.091005",
     "exception": false,
     "start_time": "2025-07-30T21:40:31.007927",
     "status": "completed"
    },
    "tags": []
   },
   "outputs": [
    {
     "name": "stdout",
     "output_type": "stream",
     "text": [
      "Dropping features: ['maxdeutsch1', 'maxdeutsch.Missing.']\n"
     ]
    }
   ],
   "source": [
    "if len(excluded_features_columns) > 0:\n",
    "    print(f\"Dropping features: {excluded_features_columns}\")\n",
    "    X_calib.drop(excluded_features_columns, axis=1, inplace=True)"
   ]
  },
  {
   "cell_type": "code",
   "execution_count": 35,
   "id": "6727d079-03e5-481e-9d38-292a90b7a0a8",
   "metadata": {
    "execution": {
     "iopub.execute_input": "2025-07-30T21:40:31.145097Z",
     "iopub.status.busy": "2025-07-30T21:40:31.143946Z",
     "iopub.status.idle": "2025-07-30T21:40:31.150069Z",
     "shell.execute_reply": "2025-07-30T21:40:31.148943Z"
    },
    "papermill": {
     "duration": 0.035185,
     "end_time": "2025-07-30T21:40:31.151965",
     "exception": false,
     "start_time": "2025-07-30T21:40:31.116780",
     "status": "completed"
    },
    "tags": []
   },
   "outputs": [],
   "source": [
    "# SPLIT & STRATIFY DATA\n",
    "# ----------------------"
   ]
  },
  {
   "cell_type": "code",
   "execution_count": 36,
   "id": "76c4dc6d",
   "metadata": {
    "execution": {
     "iopub.execute_input": "2025-07-30T21:40:31.202479Z",
     "iopub.status.busy": "2025-07-30T21:40:31.201504Z",
     "iopub.status.idle": "2025-07-30T21:40:31.207487Z",
     "shell.execute_reply": "2025-07-30T21:40:31.206609Z"
    },
    "papermill": {
     "duration": 0.032849,
     "end_time": "2025-07-30T21:40:31.209125",
     "exception": false,
     "start_time": "2025-07-30T21:40:31.176276",
     "status": "completed"
    },
    "tags": []
   },
   "outputs": [],
   "source": [
    "# EXCLUDE CERTAIN SUBGROUPS\n",
    "# ----------------------\n",
    "\n",
    "mode = universe.get(\"exclude_subgroups\", \"keep-all\") \n",
    "# Fetches the exclude_subgroups setting from the universe dict.\n",
    "# Defaults to \"keep-all\" if the key is missing."
   ]
  },
  {
   "cell_type": "code",
   "execution_count": 37,
   "id": "21994072",
   "metadata": {
    "execution": {
     "iopub.execute_input": "2025-07-30T21:40:31.261182Z",
     "iopub.status.busy": "2025-07-30T21:40:31.260472Z",
     "iopub.status.idle": "2025-07-30T21:40:31.268132Z",
     "shell.execute_reply": "2025-07-30T21:40:31.266970Z"
    },
    "papermill": {
     "duration": 0.044967,
     "end_time": "2025-07-30T21:40:31.278464",
     "exception": false,
     "start_time": "2025-07-30T21:40:31.233497",
     "status": "completed"
    },
    "tags": []
   },
   "outputs": [],
   "source": [
    "if mode == \"keep-all\":\n",
    "    keep_mask = pd.Series(True, index=org_train.index)\n",
    "\n",
    "# org_train contains the original feature columns from features_org (in Simson)\n",
    "# features_org contains unprocessed features, for me X_train at beginning ???\n",
    "# For keep-all, creates a boolean Series (keep_mask) of all True, so no rows are removed.\n",
    "\n",
    "elif mode == \"drop-non-german\":\n",
    "    keep_mask = org_train[\"maxdeutsch1\"] == 1 # ??? what about missing values?\n",
    "\n",
    "else:\n",
    "    raise ValueError(f\"Unsupported mode for exclude_subgroups: {mode}\")\n"
   ]
  },
  {
   "cell_type": "code",
   "execution_count": 38,
   "id": "71651440",
   "metadata": {
    "execution": {
     "iopub.execute_input": "2025-07-30T21:40:31.333625Z",
     "iopub.status.busy": "2025-07-30T21:40:31.332688Z",
     "iopub.status.idle": "2025-07-30T21:40:31.342333Z",
     "shell.execute_reply": "2025-07-30T21:40:31.341021Z"
    },
    "papermill": {
     "duration": 0.035589,
     "end_time": "2025-07-30T21:40:31.344183",
     "exception": false,
     "start_time": "2025-07-30T21:40:31.308594",
     "status": "completed"
    },
    "tags": []
   },
   "outputs": [
    {
     "name": "stdout",
     "output_type": "stream",
     "text": [
      "Dropping 147 rows (14.70%) where mode='drop-non-german'\n"
     ]
    }
   ],
   "source": [
    "n_drop = (~keep_mask).sum() # Calculates how many rows are set to be dropped\n",
    "if n_drop > 0:\n",
    "    pct = n_drop / len(keep_mask) * 100\n",
    "    print(f\"Dropping {n_drop} rows ({pct:.2f}%) where mode='{mode}'\")"
   ]
  },
  {
   "cell_type": "code",
   "execution_count": 39,
   "id": "5fb8eee5",
   "metadata": {
    "execution": {
     "iopub.execute_input": "2025-07-30T21:40:31.393843Z",
     "iopub.status.busy": "2025-07-30T21:40:31.393289Z",
     "iopub.status.idle": "2025-07-30T21:40:31.400411Z",
     "shell.execute_reply": "2025-07-30T21:40:31.399101Z"
    },
    "papermill": {
     "duration": 0.034127,
     "end_time": "2025-07-30T21:40:31.402337",
     "exception": false,
     "start_time": "2025-07-30T21:40:31.368210",
     "status": "completed"
    },
    "tags": []
   },
   "outputs": [],
   "source": [
    "X_train = X_train[keep_mask]"
   ]
  },
  {
   "cell_type": "code",
   "execution_count": 40,
   "id": "b202bb3a",
   "metadata": {
    "execution": {
     "iopub.execute_input": "2025-07-30T21:40:31.452317Z",
     "iopub.status.busy": "2025-07-30T21:40:31.451775Z",
     "iopub.status.idle": "2025-07-30T21:40:31.458418Z",
     "shell.execute_reply": "2025-07-30T21:40:31.457274Z"
    },
    "papermill": {
     "duration": 0.032486,
     "end_time": "2025-07-30T21:40:31.460425",
     "exception": false,
     "start_time": "2025-07-30T21:40:31.427939",
     "status": "completed"
    },
    "tags": []
   },
   "outputs": [],
   "source": [
    "y_train = y_train[keep_mask]"
   ]
  },
  {
   "cell_type": "markdown",
   "id": "493e2ac3",
   "metadata": {
    "papermill": {
     "duration": 0.02198,
     "end_time": "2025-07-30T21:40:31.506153",
     "exception": false,
     "start_time": "2025-07-30T21:40:31.484173",
     "status": "completed"
    },
    "tags": []
   },
   "source": [
    "# Model Training"
   ]
  },
  {
   "cell_type": "code",
   "execution_count": 41,
   "id": "679e1268",
   "metadata": {
    "execution": {
     "iopub.execute_input": "2025-07-30T21:40:31.557254Z",
     "iopub.status.busy": "2025-07-30T21:40:31.556651Z",
     "iopub.status.idle": "2025-07-30T21:40:31.681202Z",
     "shell.execute_reply": "2025-07-30T21:40:31.680043Z"
    },
    "papermill": {
     "duration": 0.154188,
     "end_time": "2025-07-30T21:40:31.683123",
     "exception": false,
     "start_time": "2025-07-30T21:40:31.528935",
     "status": "completed"
    },
    "tags": []
   },
   "outputs": [],
   "source": [
    "from sklearn.linear_model import LogisticRegression\n",
    "from sklearn.ensemble import GradientBoostingClassifier, RandomForestClassifier\n",
    "\n",
    "if (universe[\"model\"] == \"logreg\"):\n",
    "    model = LogisticRegression() #penalty=\"none\") #, solver=\"newton-cg\", max_iter=1) # include random_state=19 ?\n",
    "elif (universe[\"model\"] == \"penalized_logreg\"):\n",
    "    model = LogisticRegression(penalty=\"l2\", C=1.0) #, solver=\"newton-cg\", max_iter=1)\n",
    "elif (universe[\"model\"] == \"rf\"):\n",
    "    model = RandomForestClassifier(n_estimators=100, n_jobs=-1)\n",
    "elif (universe[\"model\"] == \"gbm\"):\n",
    "    model = GradientBoostingClassifier()\n",
    "elif (universe[\"model\"] == \"elasticnet\"):\n",
    "    model = LogisticRegression(penalty = 'elasticnet', solver = 'saga', l1_ratio = 0.5, max_iter=5000) # which solver to use?\n",
    "else:\n",
    "    raise \"Unsupported universe.model\""
   ]
  },
  {
   "cell_type": "code",
   "execution_count": 42,
   "id": "0cc8f744",
   "metadata": {
    "execution": {
     "iopub.execute_input": "2025-07-30T21:40:31.733053Z",
     "iopub.status.busy": "2025-07-30T21:40:31.732237Z",
     "iopub.status.idle": "2025-07-30T21:40:31.740238Z",
     "shell.execute_reply": "2025-07-30T21:40:31.739132Z"
    },
    "papermill": {
     "duration": 0.035305,
     "end_time": "2025-07-30T21:40:31.741742",
     "exception": false,
     "start_time": "2025-07-30T21:40:31.706437",
     "status": "completed"
    },
    "tags": []
   },
   "outputs": [],
   "source": [
    "import numpy as np\n",
    "from sklearn.pipeline import Pipeline\n",
    "from sklearn.preprocessing import StandardScaler\n",
    "\n",
    "model = Pipeline([\n",
    "    #(\"continuous_processor\", continuous_processor),\n",
    "    #(\"categorical_preprocessor\", categorical_preprocessor),\n",
    "    (\"scale\", StandardScaler() if universe[\"scale\"] == \"scale\" else None), \n",
    "    (\"model\", model),\n",
    "])"
   ]
  },
  {
   "cell_type": "code",
   "execution_count": 43,
   "id": "9442c04d",
   "metadata": {
    "execution": {
     "iopub.execute_input": "2025-07-30T21:40:31.801469Z",
     "iopub.status.busy": "2025-07-30T21:40:31.800917Z",
     "iopub.status.idle": "2025-07-30T21:40:32.228380Z",
     "shell.execute_reply": "2025-07-30T21:40:32.227340Z"
    },
    "papermill": {
     "duration": 0.464721,
     "end_time": "2025-07-30T21:40:32.229982",
     "exception": false,
     "start_time": "2025-07-30T21:40:31.765261",
     "status": "completed"
    },
    "tags": []
   },
   "outputs": [
    {
     "data": {
      "text/html": [
       "<style>#sk-container-id-1 {color: black;background-color: white;}#sk-container-id-1 pre{padding: 0;}#sk-container-id-1 div.sk-toggleable {background-color: white;}#sk-container-id-1 label.sk-toggleable__label {cursor: pointer;display: block;width: 100%;margin-bottom: 0;padding: 0.3em;box-sizing: border-box;text-align: center;}#sk-container-id-1 label.sk-toggleable__label-arrow:before {content: \"▸\";float: left;margin-right: 0.25em;color: #696969;}#sk-container-id-1 label.sk-toggleable__label-arrow:hover:before {color: black;}#sk-container-id-1 div.sk-estimator:hover label.sk-toggleable__label-arrow:before {color: black;}#sk-container-id-1 div.sk-toggleable__content {max-height: 0;max-width: 0;overflow: hidden;text-align: left;background-color: #f0f8ff;}#sk-container-id-1 div.sk-toggleable__content pre {margin: 0.2em;color: black;border-radius: 0.25em;background-color: #f0f8ff;}#sk-container-id-1 input.sk-toggleable__control:checked~div.sk-toggleable__content {max-height: 200px;max-width: 100%;overflow: auto;}#sk-container-id-1 input.sk-toggleable__control:checked~label.sk-toggleable__label-arrow:before {content: \"▾\";}#sk-container-id-1 div.sk-estimator input.sk-toggleable__control:checked~label.sk-toggleable__label {background-color: #d4ebff;}#sk-container-id-1 div.sk-label input.sk-toggleable__control:checked~label.sk-toggleable__label {background-color: #d4ebff;}#sk-container-id-1 input.sk-hidden--visually {border: 0;clip: rect(1px 1px 1px 1px);clip: rect(1px, 1px, 1px, 1px);height: 1px;margin: -1px;overflow: hidden;padding: 0;position: absolute;width: 1px;}#sk-container-id-1 div.sk-estimator {font-family: monospace;background-color: #f0f8ff;border: 1px dotted black;border-radius: 0.25em;box-sizing: border-box;margin-bottom: 0.5em;}#sk-container-id-1 div.sk-estimator:hover {background-color: #d4ebff;}#sk-container-id-1 div.sk-parallel-item::after {content: \"\";width: 100%;border-bottom: 1px solid gray;flex-grow: 1;}#sk-container-id-1 div.sk-label:hover label.sk-toggleable__label {background-color: #d4ebff;}#sk-container-id-1 div.sk-serial::before {content: \"\";position: absolute;border-left: 1px solid gray;box-sizing: border-box;top: 0;bottom: 0;left: 50%;z-index: 0;}#sk-container-id-1 div.sk-serial {display: flex;flex-direction: column;align-items: center;background-color: white;padding-right: 0.2em;padding-left: 0.2em;position: relative;}#sk-container-id-1 div.sk-item {position: relative;z-index: 1;}#sk-container-id-1 div.sk-parallel {display: flex;align-items: stretch;justify-content: center;background-color: white;position: relative;}#sk-container-id-1 div.sk-item::before, #sk-container-id-1 div.sk-parallel-item::before {content: \"\";position: absolute;border-left: 1px solid gray;box-sizing: border-box;top: 0;bottom: 0;left: 50%;z-index: -1;}#sk-container-id-1 div.sk-parallel-item {display: flex;flex-direction: column;z-index: 1;position: relative;background-color: white;}#sk-container-id-1 div.sk-parallel-item:first-child::after {align-self: flex-end;width: 50%;}#sk-container-id-1 div.sk-parallel-item:last-child::after {align-self: flex-start;width: 50%;}#sk-container-id-1 div.sk-parallel-item:only-child::after {width: 0;}#sk-container-id-1 div.sk-dashed-wrapped {border: 1px dashed gray;margin: 0 0.4em 0.5em 0.4em;box-sizing: border-box;padding-bottom: 0.4em;background-color: white;}#sk-container-id-1 div.sk-label label {font-family: monospace;font-weight: bold;display: inline-block;line-height: 1.2em;}#sk-container-id-1 div.sk-label-container {text-align: center;}#sk-container-id-1 div.sk-container {/* jupyter's `normalize.less` sets `[hidden] { display: none; }` but bootstrap.min.css set `[hidden] { display: none !important; }` so we also need the `!important` here to be able to override the default hidden behavior on the sphinx rendered scikit-learn.org. See: https://github.com/scikit-learn/scikit-learn/issues/21755 */display: inline-block !important;position: relative;}#sk-container-id-1 div.sk-text-repr-fallback {display: none;}</style><div id=\"sk-container-id-1\" class=\"sk-top-container\"><div class=\"sk-text-repr-fallback\"><pre>Pipeline(steps=[(&#x27;scale&#x27;, None), (&#x27;model&#x27;, RandomForestClassifier(n_jobs=-1))])</pre><b>In a Jupyter environment, please rerun this cell to show the HTML representation or trust the notebook. <br />On GitHub, the HTML representation is unable to render, please try loading this page with nbviewer.org.</b></div><div class=\"sk-container\" hidden><div class=\"sk-item sk-dashed-wrapped\"><div class=\"sk-label-container\"><div class=\"sk-label sk-toggleable\"><input class=\"sk-toggleable__control sk-hidden--visually\" id=\"sk-estimator-id-1\" type=\"checkbox\" ><label for=\"sk-estimator-id-1\" class=\"sk-toggleable__label sk-toggleable__label-arrow\">Pipeline</label><div class=\"sk-toggleable__content\"><pre>Pipeline(steps=[(&#x27;scale&#x27;, None), (&#x27;model&#x27;, RandomForestClassifier(n_jobs=-1))])</pre></div></div></div><div class=\"sk-serial\"><div class=\"sk-item\"><div class=\"sk-estimator sk-toggleable\"><input class=\"sk-toggleable__control sk-hidden--visually\" id=\"sk-estimator-id-2\" type=\"checkbox\" ><label for=\"sk-estimator-id-2\" class=\"sk-toggleable__label sk-toggleable__label-arrow\">None</label><div class=\"sk-toggleable__content\"><pre>None</pre></div></div></div><div class=\"sk-item\"><div class=\"sk-estimator sk-toggleable\"><input class=\"sk-toggleable__control sk-hidden--visually\" id=\"sk-estimator-id-3\" type=\"checkbox\" ><label for=\"sk-estimator-id-3\" class=\"sk-toggleable__label sk-toggleable__label-arrow\">RandomForestClassifier</label><div class=\"sk-toggleable__content\"><pre>RandomForestClassifier(n_jobs=-1)</pre></div></div></div></div></div></div></div>"
      ],
      "text/plain": [
       "Pipeline(steps=[('scale', None), ('model', RandomForestClassifier(n_jobs=-1))])"
      ]
     },
     "execution_count": 43,
     "metadata": {},
     "output_type": "execute_result"
    }
   ],
   "source": [
    "model.fit(X_train, y_train.values.ravel())"
   ]
  },
  {
   "cell_type": "code",
   "execution_count": 44,
   "id": "af59f8c0",
   "metadata": {
    "execution": {
     "iopub.execute_input": "2025-07-30T21:40:32.277263Z",
     "iopub.status.busy": "2025-07-30T21:40:32.276809Z",
     "iopub.status.idle": "2025-07-30T21:40:32.282841Z",
     "shell.execute_reply": "2025-07-30T21:40:32.281677Z"
    },
    "papermill": {
     "duration": 0.032365,
     "end_time": "2025-07-30T21:40:32.285173",
     "exception": false,
     "start_time": "2025-07-30T21:40:32.252808",
     "status": "completed"
    },
    "tags": []
   },
   "outputs": [],
   "source": [
    "from fairness_multiverse.universe import predict_w_threshold"
   ]
  },
  {
   "cell_type": "code",
   "execution_count": 45,
   "id": "a7cf2e16",
   "metadata": {
    "execution": {
     "iopub.execute_input": "2025-07-30T21:40:32.347102Z",
     "iopub.status.busy": "2025-07-30T21:40:32.346502Z",
     "iopub.status.idle": "2025-07-30T21:40:33.144268Z",
     "shell.execute_reply": "2025-07-30T21:40:33.143133Z"
    },
    "papermill": {
     "duration": 0.83129,
     "end_time": "2025-07-30T21:40:33.145912",
     "exception": false,
     "start_time": "2025-07-30T21:40:32.314622",
     "status": "completed"
    },
    "tags": []
   },
   "outputs": [
    {
     "data": {
      "text/plain": [
       "0.8580648757106231"
      ]
     },
     "execution_count": 45,
     "metadata": {},
     "output_type": "execute_result"
    }
   ],
   "source": [
    "probs_test = model.predict_proba(X_test)\n",
    "\n",
    "'''\n",
    "Below code returns a boolean array (or binary 0/1 array depending on how it’s used) where each element \n",
    "is True if the probability of class 1 is greater than or equal to the threshold, and False otherwise.\n",
    "'''\n",
    "y_pred_default = predict_w_threshold(probs_test, 0.5)\n",
    "\n",
    "from sklearn.metrics import accuracy_score\n",
    "\n",
    "# Naive prediction\n",
    "accuracy_score(y_true = y_true, y_pred = y_pred_default)"
   ]
  },
  {
   "cell_type": "code",
   "execution_count": 46,
   "id": "081964c3",
   "metadata": {
    "execution": {
     "iopub.execute_input": "2025-07-30T21:40:33.196151Z",
     "iopub.status.busy": "2025-07-30T21:40:33.195552Z",
     "iopub.status.idle": "2025-07-30T21:40:33.929588Z",
     "shell.execute_reply": "2025-07-30T21:40:33.928351Z"
    },
    "papermill": {
     "duration": 0.761043,
     "end_time": "2025-07-30T21:40:33.931266",
     "exception": false,
     "start_time": "2025-07-30T21:40:33.170223",
     "status": "completed"
    },
    "tags": []
   },
   "outputs": [
    {
     "data": {
      "text/plain": [
       "array([0, 0, 0, ..., 0, 0, 0])"
      ]
     },
     "execution_count": 46,
     "metadata": {},
     "output_type": "execute_result"
    }
   ],
   "source": [
    "model.predict(X_test)"
   ]
  },
  {
   "cell_type": "markdown",
   "id": "56c9705b",
   "metadata": {
    "papermill": {
     "duration": 0.021707,
     "end_time": "2025-07-30T21:40:33.975438",
     "exception": false,
     "start_time": "2025-07-30T21:40:33.953731",
     "status": "completed"
    },
    "tags": []
   },
   "source": [
    "# Conformal Prediction"
   ]
  },
  {
   "cell_type": "code",
   "execution_count": 47,
   "id": "160ec6ff",
   "metadata": {
    "execution": {
     "iopub.execute_input": "2025-07-30T21:40:34.058017Z",
     "iopub.status.busy": "2025-07-30T21:40:34.056972Z",
     "iopub.status.idle": "2025-07-30T21:40:34.062998Z",
     "shell.execute_reply": "2025-07-30T21:40:34.061915Z"
    },
    "papermill": {
     "duration": 0.047637,
     "end_time": "2025-07-30T21:40:34.065950",
     "exception": false,
     "start_time": "2025-07-30T21:40:34.018313",
     "status": "completed"
    },
    "tags": []
   },
   "outputs": [],
   "source": [
    "# Miscoverage level for conformal prediction (10% allowed error rate => 90% target coverage)\n",
    "alpha = 0.1"
   ]
  },
  {
   "cell_type": "code",
   "execution_count": 48,
   "id": "eadf4555-3dd3-440e-8e35-f82a4ad9f855",
   "metadata": {
    "execution": {
     "iopub.execute_input": "2025-07-30T21:40:34.116371Z",
     "iopub.status.busy": "2025-07-30T21:40:34.115514Z",
     "iopub.status.idle": "2025-07-30T21:40:34.929593Z",
     "shell.execute_reply": "2025-07-30T21:40:34.928315Z"
    },
    "papermill": {
     "duration": 0.840783,
     "end_time": "2025-07-30T21:40:34.931790",
     "exception": false,
     "start_time": "2025-07-30T21:40:34.091007",
     "status": "completed"
    },
    "tags": []
   },
   "outputs": [],
   "source": [
    "probs_calib = model.predict_proba(X_calib)"
   ]
  },
  {
   "cell_type": "code",
   "execution_count": 49,
   "id": "2ed93547-6d5d-4983-9b36-1ecb300da49a",
   "metadata": {
    "execution": {
     "iopub.execute_input": "2025-07-30T21:40:35.002839Z",
     "iopub.status.busy": "2025-07-30T21:40:35.001717Z",
     "iopub.status.idle": "2025-07-30T21:40:35.009062Z",
     "shell.execute_reply": "2025-07-30T21:40:35.007387Z"
    },
    "papermill": {
     "duration": 0.036413,
     "end_time": "2025-07-30T21:40:35.011774",
     "exception": false,
     "start_time": "2025-07-30T21:40:34.975361",
     "status": "completed"
    },
    "tags": []
   },
   "outputs": [],
   "source": [
    "y_calib = y_calib.values.ravel().astype(int)"
   ]
  },
  {
   "cell_type": "code",
   "execution_count": 50,
   "id": "65d1320d-f588-4b38-9072-62af1ae97f7d",
   "metadata": {
    "execution": {
     "iopub.execute_input": "2025-07-30T21:40:35.073658Z",
     "iopub.status.busy": "2025-07-30T21:40:35.073063Z",
     "iopub.status.idle": "2025-07-30T21:40:35.080689Z",
     "shell.execute_reply": "2025-07-30T21:40:35.079576Z"
    },
    "papermill": {
     "duration": 0.036991,
     "end_time": "2025-07-30T21:40:35.083423",
     "exception": false,
     "start_time": "2025-07-30T21:40:35.046432",
     "status": "completed"
    },
    "tags": []
   },
   "outputs": [],
   "source": [
    "from fairness_multiverse.conformal import compute_nc_scores\n",
    "\n",
    "# Compute nonconformity scores on calibration set (1 - probability of true class)\n",
    "nc_scores = compute_nc_scores(probs_calib, y_calib)"
   ]
  },
  {
   "cell_type": "code",
   "execution_count": 51,
   "id": "df3b8ca3-53b7-43d5-9667-7c85da7aeda2",
   "metadata": {
    "execution": {
     "iopub.execute_input": "2025-07-30T21:40:35.134470Z",
     "iopub.status.busy": "2025-07-30T21:40:35.133910Z",
     "iopub.status.idle": "2025-07-30T21:40:35.141323Z",
     "shell.execute_reply": "2025-07-30T21:40:35.140038Z"
    },
    "papermill": {
     "duration": 0.046092,
     "end_time": "2025-07-30T21:40:35.154331",
     "exception": false,
     "start_time": "2025-07-30T21:40:35.108239",
     "status": "completed"
    },
    "tags": []
   },
   "outputs": [],
   "source": [
    "from fairness_multiverse.conformal import find_threshold\n",
    "\n",
    "# Find conformal threshold q_hat for the given alpha (split conformal method)\n",
    "q_hat = find_threshold(nc_scores, alpha)"
   ]
  },
  {
   "cell_type": "code",
   "execution_count": 52,
   "id": "4d29e6c1-0ef6-4aa4-b8fe-4fe79b0d033a",
   "metadata": {
    "execution": {
     "iopub.execute_input": "2025-07-30T21:40:35.257208Z",
     "iopub.status.busy": "2025-07-30T21:40:35.255974Z",
     "iopub.status.idle": "2025-07-30T21:40:35.264568Z",
     "shell.execute_reply": "2025-07-30T21:40:35.263328Z"
    },
    "papermill": {
     "duration": 0.065492,
     "end_time": "2025-07-30T21:40:35.266457",
     "exception": false,
     "start_time": "2025-07-30T21:40:35.200965",
     "status": "completed"
    },
    "tags": []
   },
   "outputs": [
    {
     "data": {
      "text/plain": [
       "0.6699999999999999"
      ]
     },
     "execution_count": 52,
     "metadata": {},
     "output_type": "execute_result"
    }
   ],
   "source": [
    "q_hat"
   ]
  },
  {
   "cell_type": "code",
   "execution_count": 53,
   "id": "92460794-cdac-4be2-ba28-f28c0515a6fb",
   "metadata": {
    "execution": {
     "iopub.execute_input": "2025-07-30T21:40:35.318458Z",
     "iopub.status.busy": "2025-07-30T21:40:35.317779Z",
     "iopub.status.idle": "2025-07-30T21:40:36.909210Z",
     "shell.execute_reply": "2025-07-30T21:40:36.908105Z"
    },
    "papermill": {
     "duration": 1.619983,
     "end_time": "2025-07-30T21:40:36.911106",
     "exception": false,
     "start_time": "2025-07-30T21:40:35.291123",
     "status": "completed"
    },
    "tags": []
   },
   "outputs": [],
   "source": [
    "from fairness_multiverse.conformal import predict_conformal_sets\n",
    "\n",
    "# Generate prediction sets for each test example\n",
    "pred_sets = predict_conformal_sets(model, X_test, q_hat)"
   ]
  },
  {
   "cell_type": "code",
   "execution_count": 54,
   "id": "d90c9a65-e6db-4f5d-80cd-e68fb7e46829",
   "metadata": {
    "execution": {
     "iopub.execute_input": "2025-07-30T21:40:37.012174Z",
     "iopub.status.busy": "2025-07-30T21:40:37.011783Z",
     "iopub.status.idle": "2025-07-30T21:40:37.017853Z",
     "shell.execute_reply": "2025-07-30T21:40:37.016780Z"
    },
    "papermill": {
     "duration": 0.071754,
     "end_time": "2025-07-30T21:40:37.019550",
     "exception": false,
     "start_time": "2025-07-30T21:40:36.947796",
     "status": "completed"
    },
    "tags": []
   },
   "outputs": [],
   "source": [
    "y_true = y_true.squeeze()"
   ]
  },
  {
   "cell_type": "code",
   "execution_count": 55,
   "id": "3a58a54a-1e68-46b9-927a-df01f18aebc8",
   "metadata": {
    "execution": {
     "iopub.execute_input": "2025-07-30T21:40:37.108724Z",
     "iopub.status.busy": "2025-07-30T21:40:37.108194Z",
     "iopub.status.idle": "2025-07-30T21:40:38.505148Z",
     "shell.execute_reply": "2025-07-30T21:40:38.504149Z"
    },
    "papermill": {
     "duration": 1.44605,
     "end_time": "2025-07-30T21:40:38.507051",
     "exception": false,
     "start_time": "2025-07-30T21:40:37.061001",
     "status": "completed"
    },
    "tags": []
   },
   "outputs": [],
   "source": [
    "from fairness_multiverse.conformal import evaluate_sets\n",
    "\n",
    "# Evaluate coverage and average set size on test data\n",
    "metrics = evaluate_sets(pred_sets, y_true)"
   ]
  },
  {
   "cell_type": "markdown",
   "id": "2b569c12-9aaa-4c88-98c9-bbcd0cf3ebb8",
   "metadata": {
    "papermill": {
     "duration": 0.024247,
     "end_time": "2025-07-30T21:40:38.594042",
     "exception": false,
     "start_time": "2025-07-30T21:40:38.569795",
     "status": "completed"
    },
    "tags": []
   },
   "source": [
    "# CP Metrics"
   ]
  },
  {
   "cell_type": "code",
   "execution_count": 56,
   "id": "5ce0a5cb-201f-45a0-ade5-94c7f0bd6095",
   "metadata": {
    "execution": {
     "iopub.execute_input": "2025-07-30T21:40:38.650499Z",
     "iopub.status.busy": "2025-07-30T21:40:38.649673Z",
     "iopub.status.idle": "2025-07-30T21:40:38.657453Z",
     "shell.execute_reply": "2025-07-30T21:40:38.656569Z"
    },
    "papermill": {
     "duration": 0.036822,
     "end_time": "2025-07-30T21:40:38.660323",
     "exception": false,
     "start_time": "2025-07-30T21:40:38.623501",
     "status": "completed"
    },
    "tags": []
   },
   "outputs": [
    {
     "data": {
      "text/plain": [
       "{'coverage': 0.9157061643072121, 'avg_size': 1.1831345446438524}"
      ]
     },
     "execution_count": 56,
     "metadata": {},
     "output_type": "execute_result"
    }
   ],
   "source": [
    "metrics"
   ]
  },
  {
   "cell_type": "code",
   "execution_count": 57,
   "id": "9b9a838d-31c9-430b-ae14-12baee460d17",
   "metadata": {
    "execution": {
     "iopub.execute_input": "2025-07-30T21:40:38.711551Z",
     "iopub.status.busy": "2025-07-30T21:40:38.711049Z",
     "iopub.status.idle": "2025-07-30T21:40:38.717590Z",
     "shell.execute_reply": "2025-07-30T21:40:38.716786Z"
    },
    "papermill": {
     "duration": 0.034416,
     "end_time": "2025-07-30T21:40:38.720098",
     "exception": false,
     "start_time": "2025-07-30T21:40:38.685682",
     "status": "completed"
    },
    "tags": []
   },
   "outputs": [],
   "source": [
    "example_universe = universe.copy()\n",
    "universe_training_year = example_universe.get(\"training_year\")\n",
    "universe_training_size = example_universe.get(\"training_size\")\n",
    "universe_scale = example_universe.get(\"scale\")\n",
    "universe_model = example_universe.get(\"model\")\n",
    "universe_exclude_features = example_universe.get(\"exclude_features\")\n",
    "universe_exclude_subgroups = example_universe.get(\"exclude_subgroups\")"
   ]
  },
  {
   "cell_type": "code",
   "execution_count": 58,
   "id": "f4b6a8ac-9dc0-4245-8a91-5b3b5999c4f9",
   "metadata": {
    "execution": {
     "iopub.execute_input": "2025-07-30T21:40:38.771546Z",
     "iopub.status.busy": "2025-07-30T21:40:38.771171Z",
     "iopub.status.idle": "2025-07-30T21:40:38.779542Z",
     "shell.execute_reply": "2025-07-30T21:40:38.778400Z"
    },
    "papermill": {
     "duration": 0.035824,
     "end_time": "2025-07-30T21:40:38.781542",
     "exception": false,
     "start_time": "2025-07-30T21:40:38.745718",
     "status": "completed"
    },
    "tags": []
   },
   "outputs": [],
   "source": [
    "cp_metrics_dict = {\n",
    "    \"universe_id\": [universe_id],\n",
    "    \"universe_training_year\": [universe_training_year],\n",
    "    \"universe_training_size\": [universe_training_size],\n",
    "    \"universe_scale\": [universe_scale],\n",
    "    \"universe_model\": [universe_model],\n",
    "    \"universe_exclude_features\": [universe_exclude_features],\n",
    "    \"universe_exclude_subgroups\": [universe_exclude_subgroups],\n",
    "    \"q_hat\": [q_hat],\n",
    "    \"coverage\": [metrics[\"coverage\"]],\n",
    "    \"avg_size\": [metrics[\"avg_size\"]],\n",
    "}"
   ]
  },
  {
   "cell_type": "code",
   "execution_count": 59,
   "id": "908acbb1-0371-4915-85ca-3fa520d2efe2",
   "metadata": {
    "execution": {
     "iopub.execute_input": "2025-07-30T21:40:38.853387Z",
     "iopub.status.busy": "2025-07-30T21:40:38.852952Z",
     "iopub.status.idle": "2025-07-30T21:40:38.861308Z",
     "shell.execute_reply": "2025-07-30T21:40:38.860183Z"
    },
    "papermill": {
     "duration": 0.04021,
     "end_time": "2025-07-30T21:40:38.865986",
     "exception": false,
     "start_time": "2025-07-30T21:40:38.825776",
     "status": "completed"
    },
    "tags": []
   },
   "outputs": [
    {
     "data": {
      "text/plain": [
       "{'universe_id': ['556d41cbb501064ca179d9e97915e59a'],\n",
       " 'universe_training_year': ['2012_14'],\n",
       " 'universe_training_size': ['1k'],\n",
       " 'universe_scale': ['do-not-scale'],\n",
       " 'universe_model': ['rf'],\n",
       " 'universe_exclude_features': ['nationality'],\n",
       " 'universe_exclude_subgroups': ['drop-non-german'],\n",
       " 'q_hat': [0.6699999999999999],\n",
       " 'coverage': [0.9157061643072121],\n",
       " 'avg_size': [1.1831345446438524]}"
      ]
     },
     "execution_count": 59,
     "metadata": {},
     "output_type": "execute_result"
    }
   ],
   "source": [
    "cp_metrics_dict"
   ]
  },
  {
   "cell_type": "code",
   "execution_count": 60,
   "id": "33007efc-14e9-4ec6-97ac-56a455c82265",
   "metadata": {
    "execution": {
     "iopub.execute_input": "2025-07-30T21:40:38.922020Z",
     "iopub.status.busy": "2025-07-30T21:40:38.921538Z",
     "iopub.status.idle": "2025-07-30T21:40:38.928623Z",
     "shell.execute_reply": "2025-07-30T21:40:38.926981Z"
    },
    "papermill": {
     "duration": 0.046209,
     "end_time": "2025-07-30T21:40:38.943027",
     "exception": false,
     "start_time": "2025-07-30T21:40:38.896818",
     "status": "completed"
    },
    "tags": []
   },
   "outputs": [],
   "source": [
    "cp_metrics_df = pd.DataFrame(cp_metrics_dict)"
   ]
  },
  {
   "cell_type": "code",
   "execution_count": 61,
   "id": "db12611b-57b2-4910-b9d0-355adfd6e7bf",
   "metadata": {
    "execution": {
     "iopub.execute_input": "2025-07-30T21:40:38.995119Z",
     "iopub.status.busy": "2025-07-30T21:40:38.994740Z",
     "iopub.status.idle": "2025-07-30T21:40:39.015471Z",
     "shell.execute_reply": "2025-07-30T21:40:39.014279Z"
    },
    "papermill": {
     "duration": 0.048228,
     "end_time": "2025-07-30T21:40:39.017449",
     "exception": false,
     "start_time": "2025-07-30T21:40:38.969221",
     "status": "completed"
    },
    "tags": []
   },
   "outputs": [
    {
     "data": {
      "text/html": [
       "<div>\n",
       "<style scoped>\n",
       "    .dataframe tbody tr th:only-of-type {\n",
       "        vertical-align: middle;\n",
       "    }\n",
       "\n",
       "    .dataframe tbody tr th {\n",
       "        vertical-align: top;\n",
       "    }\n",
       "\n",
       "    .dataframe thead th {\n",
       "        text-align: right;\n",
       "    }\n",
       "</style>\n",
       "<table border=\"1\" class=\"dataframe\">\n",
       "  <thead>\n",
       "    <tr style=\"text-align: right;\">\n",
       "      <th></th>\n",
       "      <th>universe_id</th>\n",
       "      <th>universe_training_year</th>\n",
       "      <th>universe_training_size</th>\n",
       "      <th>universe_scale</th>\n",
       "      <th>universe_model</th>\n",
       "      <th>universe_exclude_features</th>\n",
       "      <th>universe_exclude_subgroups</th>\n",
       "      <th>q_hat</th>\n",
       "      <th>coverage</th>\n",
       "      <th>avg_size</th>\n",
       "    </tr>\n",
       "  </thead>\n",
       "  <tbody>\n",
       "    <tr>\n",
       "      <th>0</th>\n",
       "      <td>556d41cbb501064ca179d9e97915e59a</td>\n",
       "      <td>2012_14</td>\n",
       "      <td>1k</td>\n",
       "      <td>do-not-scale</td>\n",
       "      <td>rf</td>\n",
       "      <td>nationality</td>\n",
       "      <td>drop-non-german</td>\n",
       "      <td>0.67</td>\n",
       "      <td>0.915706</td>\n",
       "      <td>1.183135</td>\n",
       "    </tr>\n",
       "  </tbody>\n",
       "</table>\n",
       "</div>"
      ],
      "text/plain": [
       "                        universe_id universe_training_year  \\\n",
       "0  556d41cbb501064ca179d9e97915e59a                2012_14   \n",
       "\n",
       "  universe_training_size universe_scale universe_model  \\\n",
       "0                     1k   do-not-scale             rf   \n",
       "\n",
       "  universe_exclude_features universe_exclude_subgroups  q_hat  coverage  \\\n",
       "0               nationality            drop-non-german   0.67  0.915706   \n",
       "\n",
       "   avg_size  \n",
       "0  1.183135  "
      ]
     },
     "execution_count": 61,
     "metadata": {},
     "output_type": "execute_result"
    }
   ],
   "source": [
    "cp_metrics_df"
   ]
  },
  {
   "cell_type": "code",
   "execution_count": 62,
   "id": "b7fbde55-a0a1-47e4-9af6-fe4a17fa8c61",
   "metadata": {
    "execution": {
     "iopub.execute_input": "2025-07-30T21:40:39.067099Z",
     "iopub.status.busy": "2025-07-30T21:40:39.066725Z",
     "iopub.status.idle": "2025-07-30T21:40:39.071734Z",
     "shell.execute_reply": "2025-07-30T21:40:39.070834Z"
    },
    "papermill": {
     "duration": 0.031969,
     "end_time": "2025-07-30T21:40:39.074824",
     "exception": false,
     "start_time": "2025-07-30T21:40:39.042855",
     "status": "completed"
    },
    "tags": []
   },
   "outputs": [],
   "source": [
    "# Conditional Coverage & looking at subgroups"
   ]
  },
  {
   "cell_type": "code",
   "execution_count": 63,
   "id": "027ae886-68dd-4141-96c7-805a5450e1ef",
   "metadata": {
    "execution": {
     "iopub.execute_input": "2025-07-30T21:40:39.141981Z",
     "iopub.status.busy": "2025-07-30T21:40:39.141605Z",
     "iopub.status.idle": "2025-07-30T21:40:39.458763Z",
     "shell.execute_reply": "2025-07-30T21:40:39.457856Z"
    },
    "papermill": {
     "duration": 0.359111,
     "end_time": "2025-07-30T21:40:39.460394",
     "exception": false,
     "start_time": "2025-07-30T21:40:39.101283",
     "status": "completed"
    },
    "tags": []
   },
   "outputs": [],
   "source": [
    "from fairness_multiverse.conformal import build_cp_groups\n",
    "\n",
    "cp_groups_df = build_cp_groups(pred_sets, y_true, X_test.index, org_test)\n",
    "#needs universe_id and setting"
   ]
  },
  {
   "cell_type": "code",
   "execution_count": 64,
   "id": "01d5802c-663a-4d1f-9d69-e036faaffbf7",
   "metadata": {
    "execution": {
     "iopub.execute_input": "2025-07-30T21:40:39.510591Z",
     "iopub.status.busy": "2025-07-30T21:40:39.510079Z",
     "iopub.status.idle": "2025-07-30T21:40:39.515349Z",
     "shell.execute_reply": "2025-07-30T21:40:39.514218Z"
    },
    "papermill": {
     "duration": 0.034343,
     "end_time": "2025-07-30T21:40:39.517289",
     "exception": false,
     "start_time": "2025-07-30T21:40:39.482946",
     "status": "completed"
    },
    "tags": []
   },
   "outputs": [],
   "source": [
    "#delete\n",
    "#cp_groups_df"
   ]
  },
  {
   "cell_type": "code",
   "execution_count": 65,
   "id": "fa424af1-d1eb-443d-b717-2d279ada8408",
   "metadata": {
    "execution": {
     "iopub.execute_input": "2025-07-30T21:40:39.576637Z",
     "iopub.status.busy": "2025-07-30T21:40:39.576132Z",
     "iopub.status.idle": "2025-07-30T21:40:39.580958Z",
     "shell.execute_reply": "2025-07-30T21:40:39.579953Z"
    },
    "papermill": {
     "duration": 0.036809,
     "end_time": "2025-07-30T21:40:39.582587",
     "exception": false,
     "start_time": "2025-07-30T21:40:39.545778",
     "status": "completed"
    },
    "tags": []
   },
   "outputs": [],
   "source": [
    "#delete\n",
    "#percentage = (cp_groups_df['nongerman_female'] == 1).mean() * 100\n",
    "#print(percentage)\n"
   ]
  },
  {
   "cell_type": "code",
   "execution_count": 66,
   "id": "6cbdab96-b2b2-45af-ad54-d0516db2e28d",
   "metadata": {
    "execution": {
     "iopub.execute_input": "2025-07-30T21:40:39.630900Z",
     "iopub.status.busy": "2025-07-30T21:40:39.630597Z",
     "iopub.status.idle": "2025-07-30T21:40:41.173309Z",
     "shell.execute_reply": "2025-07-30T21:40:41.171225Z"
    },
    "papermill": {
     "duration": 1.562979,
     "end_time": "2025-07-30T21:40:41.175311",
     "exception": false,
     "start_time": "2025-07-30T21:40:39.612332",
     "status": "completed"
    },
    "tags": []
   },
   "outputs": [],
   "source": [
    "# Define covered = 1 if true_label is in the predicted set\n",
    "cp_groups_df['covered'] = cp_groups_df.apply(\n",
    "    lambda r: int(r['true_label'] in r['pred_set']),\n",
    "    axis=1\n",
    ")"
   ]
  },
  {
   "cell_type": "code",
   "execution_count": 67,
   "id": "338ff529-1a6b-4b87-a931-8e4788d52aad",
   "metadata": {
    "execution": {
     "iopub.execute_input": "2025-07-30T21:40:41.227015Z",
     "iopub.status.busy": "2025-07-30T21:40:41.226559Z",
     "iopub.status.idle": "2025-07-30T21:40:41.231893Z",
     "shell.execute_reply": "2025-07-30T21:40:41.230966Z"
    },
    "papermill": {
     "duration": 0.033712,
     "end_time": "2025-07-30T21:40:41.234853",
     "exception": false,
     "start_time": "2025-07-30T21:40:41.201141",
     "status": "completed"
    },
    "tags": []
   },
   "outputs": [],
   "source": [
    "#cp_groups_df"
   ]
  },
  {
   "cell_type": "code",
   "execution_count": 68,
   "id": "90032e27-66df-4540-9169-4e89cfbaa758",
   "metadata": {
    "execution": {
     "iopub.execute_input": "2025-07-30T21:40:41.293299Z",
     "iopub.status.busy": "2025-07-30T21:40:41.292922Z",
     "iopub.status.idle": "2025-07-30T21:40:41.303500Z",
     "shell.execute_reply": "2025-07-30T21:40:41.302533Z"
    },
    "papermill": {
     "duration": 0.040764,
     "end_time": "2025-07-30T21:40:41.305145",
     "exception": false,
     "start_time": "2025-07-30T21:40:41.264381",
     "status": "completed"
    },
    "tags": []
   },
   "outputs": [],
   "source": [
    "subgroups = ['frau1','nongerman','nongerman_male','nongerman_female']\n",
    "\n",
    "# Conditional coverage for subgroup==1\n",
    "cond_coverage = {\n",
    "    g: cp_groups_df.loc[cp_groups_df[g]==1, 'covered'].mean()\n",
    "    for g in subgroups\n",
    "}"
   ]
  },
  {
   "cell_type": "code",
   "execution_count": 69,
   "id": "1e348fb1-b9c3-45bc-ba23-f016827a7e0d",
   "metadata": {
    "execution": {
     "iopub.execute_input": "2025-07-30T21:40:41.364920Z",
     "iopub.status.busy": "2025-07-30T21:40:41.364139Z",
     "iopub.status.idle": "2025-07-30T21:40:41.371443Z",
     "shell.execute_reply": "2025-07-30T21:40:41.370503Z"
    },
    "papermill": {
     "duration": 0.03834,
     "end_time": "2025-07-30T21:40:41.373102",
     "exception": false,
     "start_time": "2025-07-30T21:40:41.334762",
     "status": "completed"
    },
    "tags": []
   },
   "outputs": [
    {
     "data": {
      "text/plain": [
       "{'frau1': 0.9138158781506942,\n",
       " 'nongerman': 0.9139392578453938,\n",
       " 'nongerman_male': 0.9260560208952535,\n",
       " 'nongerman_female': 0.8938897168405365}"
      ]
     },
     "execution_count": 69,
     "metadata": {},
     "output_type": "execute_result"
    }
   ],
   "source": [
    "cond_coverage"
   ]
  },
  {
   "cell_type": "code",
   "execution_count": 70,
   "id": "f5093324-c3dd-4d63-bc4c-8d945e5c8bbb",
   "metadata": {
    "execution": {
     "iopub.execute_input": "2025-07-30T21:40:41.427944Z",
     "iopub.status.busy": "2025-07-30T21:40:41.427437Z",
     "iopub.status.idle": "2025-07-30T21:40:41.435479Z",
     "shell.execute_reply": "2025-07-30T21:40:41.434331Z"
    },
    "papermill": {
     "duration": 0.036256,
     "end_time": "2025-07-30T21:40:41.437223",
     "exception": false,
     "start_time": "2025-07-30T21:40:41.400967",
     "status": "completed"
    },
    "tags": []
   },
   "outputs": [],
   "source": [
    "for subgroup, cov in cond_coverage.items():\n",
    "    cp_metrics_df[f\"cov_{subgroup}\"] = cov"
   ]
  },
  {
   "cell_type": "code",
   "execution_count": 71,
   "id": "6e872e10-dbe5-49e8-b554-5030c98ff75d",
   "metadata": {
    "execution": {
     "iopub.execute_input": "2025-07-30T21:40:41.477863Z",
     "iopub.status.busy": "2025-07-30T21:40:41.477138Z",
     "iopub.status.idle": "2025-07-30T21:40:41.498329Z",
     "shell.execute_reply": "2025-07-30T21:40:41.497043Z"
    },
    "papermill": {
     "duration": 0.051993,
     "end_time": "2025-07-30T21:40:41.506479",
     "exception": false,
     "start_time": "2025-07-30T21:40:41.454486",
     "status": "completed"
    },
    "tags": []
   },
   "outputs": [
    {
     "data": {
      "text/html": [
       "<div>\n",
       "<style scoped>\n",
       "    .dataframe tbody tr th:only-of-type {\n",
       "        vertical-align: middle;\n",
       "    }\n",
       "\n",
       "    .dataframe tbody tr th {\n",
       "        vertical-align: top;\n",
       "    }\n",
       "\n",
       "    .dataframe thead th {\n",
       "        text-align: right;\n",
       "    }\n",
       "</style>\n",
       "<table border=\"1\" class=\"dataframe\">\n",
       "  <thead>\n",
       "    <tr style=\"text-align: right;\">\n",
       "      <th></th>\n",
       "      <th>universe_id</th>\n",
       "      <th>universe_training_year</th>\n",
       "      <th>universe_training_size</th>\n",
       "      <th>universe_scale</th>\n",
       "      <th>universe_model</th>\n",
       "      <th>universe_exclude_features</th>\n",
       "      <th>universe_exclude_subgroups</th>\n",
       "      <th>q_hat</th>\n",
       "      <th>coverage</th>\n",
       "      <th>avg_size</th>\n",
       "      <th>cov_frau1</th>\n",
       "      <th>cov_nongerman</th>\n",
       "      <th>cov_nongerman_male</th>\n",
       "      <th>cov_nongerman_female</th>\n",
       "    </tr>\n",
       "  </thead>\n",
       "  <tbody>\n",
       "    <tr>\n",
       "      <th>0</th>\n",
       "      <td>556d41cbb501064ca179d9e97915e59a</td>\n",
       "      <td>2012_14</td>\n",
       "      <td>1k</td>\n",
       "      <td>do-not-scale</td>\n",
       "      <td>rf</td>\n",
       "      <td>nationality</td>\n",
       "      <td>drop-non-german</td>\n",
       "      <td>0.67</td>\n",
       "      <td>0.915706</td>\n",
       "      <td>1.183135</td>\n",
       "      <td>0.913816</td>\n",
       "      <td>0.913939</td>\n",
       "      <td>0.926056</td>\n",
       "      <td>0.89389</td>\n",
       "    </tr>\n",
       "  </tbody>\n",
       "</table>\n",
       "</div>"
      ],
      "text/plain": [
       "                        universe_id universe_training_year  \\\n",
       "0  556d41cbb501064ca179d9e97915e59a                2012_14   \n",
       "\n",
       "  universe_training_size universe_scale universe_model  \\\n",
       "0                     1k   do-not-scale             rf   \n",
       "\n",
       "  universe_exclude_features universe_exclude_subgroups  q_hat  coverage  \\\n",
       "0               nationality            drop-non-german   0.67  0.915706   \n",
       "\n",
       "   avg_size  cov_frau1  cov_nongerman  cov_nongerman_male  \\\n",
       "0  1.183135   0.913816       0.913939            0.926056   \n",
       "\n",
       "   cov_nongerman_female  \n",
       "0               0.89389  "
      ]
     },
     "execution_count": 71,
     "metadata": {},
     "output_type": "execute_result"
    }
   ],
   "source": [
    "cp_metrics_df"
   ]
  },
  {
   "cell_type": "markdown",
   "id": "33774451",
   "metadata": {
    "papermill": {
     "duration": 0.029412,
     "end_time": "2025-07-30T21:40:41.565158",
     "exception": false,
     "start_time": "2025-07-30T21:40:41.535746",
     "status": "completed"
    },
    "tags": []
   },
   "source": [
    "# (Fairness) Metrics"
   ]
  },
  {
   "cell_type": "code",
   "execution_count": 72,
   "id": "debc5d62",
   "metadata": {
    "execution": {
     "iopub.execute_input": "2025-07-30T21:40:41.625124Z",
     "iopub.status.busy": "2025-07-30T21:40:41.624755Z",
     "iopub.status.idle": "2025-07-30T21:40:41.650835Z",
     "shell.execute_reply": "2025-07-30T21:40:41.649505Z"
    },
    "papermill": {
     "duration": 0.059798,
     "end_time": "2025-07-30T21:40:41.652918",
     "exception": false,
     "start_time": "2025-07-30T21:40:41.593120",
     "status": "completed"
    },
    "tags": []
   },
   "outputs": [],
   "source": [
    "# do I need to include maxdeutsch1.missing?\n",
    "\n",
    "import numpy as np\n",
    "\n",
    "colname_to_bin = \"maxdeutsch1\"\n",
    "majority_value = org_train[colname_to_bin].mode()[0]\n",
    "\n",
    "org_test[\"majmin\"] = np.where(org_test[colname_to_bin] == majority_value, \"majority\", \"minority\")"
   ]
  },
  {
   "cell_type": "code",
   "execution_count": 73,
   "id": "06a50de5",
   "metadata": {
    "execution": {
     "iopub.execute_input": "2025-07-30T21:40:41.714656Z",
     "iopub.status.busy": "2025-07-30T21:40:41.714148Z",
     "iopub.status.idle": "2025-07-30T21:40:44.711989Z",
     "shell.execute_reply": "2025-07-30T21:40:44.711012Z"
    },
    "papermill": {
     "duration": 3.031197,
     "end_time": "2025-07-30T21:40:44.713738",
     "exception": false,
     "start_time": "2025-07-30T21:40:41.682541",
     "status": "completed"
    },
    "tags": []
   },
   "outputs": [],
   "source": [
    "example_universe = universe.copy()\n",
    "example_universe[\"cutoff\"] = example_universe[\"cutoff\"][0]\n",
    "example_universe[\"eval_fairness_grouping\"] = example_universe[\"eval_fairness_grouping\"][0]\n",
    "fairness_dict, metric_frame = universe_analysis.compute_metrics(\n",
    "    example_universe,\n",
    "    y_pred_prob=probs_test,\n",
    "    y_test=y_true,\n",
    "    org_test=org_test,\n",
    ")"
   ]
  },
  {
   "cell_type": "markdown",
   "id": "f95d4e02",
   "metadata": {
    "papermill": {
     "duration": 0.025386,
     "end_time": "2025-07-30T21:40:44.764951",
     "exception": false,
     "start_time": "2025-07-30T21:40:44.739565",
     "status": "completed"
    },
    "tags": []
   },
   "source": [
    "# Overall"
   ]
  },
  {
   "cell_type": "markdown",
   "id": "bdee4871",
   "metadata": {
    "papermill": {
     "duration": 0.026009,
     "end_time": "2025-07-30T21:40:44.815359",
     "exception": false,
     "start_time": "2025-07-30T21:40:44.789350",
     "status": "completed"
    },
    "tags": []
   },
   "source": [
    "Fairness\n",
    "Main fairness target: Equalized Odds. Seems to be a better fit than equal opportunity, since we're not only interested in Y = 1. Seems to be a better fit than demographic parity, since we also care about accuracy, not just equal distribution of preds.\n",
    "\n",
    "Pick column for computation of fairness metrics\n",
    "\n",
    "Performance\n",
    "Overall performance measures, most interesting in relation to the measures split by group below"
   ]
  },
  {
   "cell_type": "code",
   "execution_count": 74,
   "id": "c4e067c6",
   "metadata": {
    "execution": {
     "iopub.execute_input": "2025-07-30T21:40:44.867305Z",
     "iopub.status.busy": "2025-07-30T21:40:44.866620Z",
     "iopub.status.idle": "2025-07-30T21:40:44.876334Z",
     "shell.execute_reply": "2025-07-30T21:40:44.875312Z"
    },
    "papermill": {
     "duration": 0.037056,
     "end_time": "2025-07-30T21:40:44.877810",
     "exception": false,
     "start_time": "2025-07-30T21:40:44.840754",
     "status": "completed"
    },
    "tags": []
   },
   "outputs": [
    {
     "data": {
      "text/plain": [
       "accuracy                   0.210255\n",
       "balanced accuracy          0.540572\n",
       "f1                         0.242397\n",
       "precision                  0.138206\n",
       "false positive rate        0.903736\n",
       "false negative rate        0.015120\n",
       "selection rate             0.914146\n",
       "count                  89710.000000\n",
       "dtype: float64"
      ]
     },
     "execution_count": 74,
     "metadata": {},
     "output_type": "execute_result"
    }
   ],
   "source": [
    "metric_frame.overall"
   ]
  },
  {
   "cell_type": "markdown",
   "id": "e968fe9d",
   "metadata": {
    "papermill": {
     "duration": 0.02605,
     "end_time": "2025-07-30T21:40:44.931230",
     "exception": false,
     "start_time": "2025-07-30T21:40:44.905180",
     "status": "completed"
    },
    "tags": []
   },
   "source": [
    "By Group"
   ]
  },
  {
   "cell_type": "code",
   "execution_count": 75,
   "id": "ec325bce",
   "metadata": {
    "execution": {
     "iopub.execute_input": "2025-07-30T21:40:44.981799Z",
     "iopub.status.busy": "2025-07-30T21:40:44.981297Z",
     "iopub.status.idle": "2025-07-30T21:40:44.995044Z",
     "shell.execute_reply": "2025-07-30T21:40:44.993841Z"
    },
    "papermill": {
     "duration": 0.045922,
     "end_time": "2025-07-30T21:40:44.997269",
     "exception": false,
     "start_time": "2025-07-30T21:40:44.951347",
     "status": "completed"
    },
    "tags": []
   },
   "outputs": [
    {
     "data": {
      "text/html": [
       "<div>\n",
       "<style scoped>\n",
       "    .dataframe tbody tr th:only-of-type {\n",
       "        vertical-align: middle;\n",
       "    }\n",
       "\n",
       "    .dataframe tbody tr th {\n",
       "        vertical-align: top;\n",
       "    }\n",
       "\n",
       "    .dataframe thead th {\n",
       "        text-align: right;\n",
       "    }\n",
       "</style>\n",
       "<table border=\"1\" class=\"dataframe\">\n",
       "  <thead>\n",
       "    <tr style=\"text-align: right;\">\n",
       "      <th></th>\n",
       "      <th>accuracy</th>\n",
       "      <th>balanced accuracy</th>\n",
       "      <th>f1</th>\n",
       "      <th>precision</th>\n",
       "      <th>false positive rate</th>\n",
       "      <th>false negative rate</th>\n",
       "      <th>selection rate</th>\n",
       "      <th>count</th>\n",
       "    </tr>\n",
       "    <tr>\n",
       "      <th>majmin</th>\n",
       "      <th></th>\n",
       "      <th></th>\n",
       "      <th></th>\n",
       "      <th></th>\n",
       "      <th></th>\n",
       "      <th></th>\n",
       "      <th></th>\n",
       "      <th></th>\n",
       "    </tr>\n",
       "  </thead>\n",
       "  <tbody>\n",
       "    <tr>\n",
       "      <th>majority</th>\n",
       "      <td>0.222900</td>\n",
       "      <td>0.546308</td>\n",
       "      <td>0.251094</td>\n",
       "      <td>0.143868</td>\n",
       "      <td>0.893270</td>\n",
       "      <td>0.014114</td>\n",
       "      <td>0.905508</td>\n",
       "      <td>69170.0</td>\n",
       "    </tr>\n",
       "    <tr>\n",
       "      <th>minority</th>\n",
       "      <td>0.167673</td>\n",
       "      <td>0.521342</td>\n",
       "      <td>0.213688</td>\n",
       "      <td>0.119903</td>\n",
       "      <td>0.938312</td>\n",
       "      <td>0.019003</td>\n",
       "      <td>0.943233</td>\n",
       "      <td>20540.0</td>\n",
       "    </tr>\n",
       "  </tbody>\n",
       "</table>\n",
       "</div>"
      ],
      "text/plain": [
       "          accuracy  balanced accuracy        f1  precision  \\\n",
       "majmin                                                       \n",
       "majority  0.222900           0.546308  0.251094   0.143868   \n",
       "minority  0.167673           0.521342  0.213688   0.119903   \n",
       "\n",
       "          false positive rate  false negative rate  selection rate    count  \n",
       "majmin                                                                       \n",
       "majority             0.893270             0.014114        0.905508  69170.0  \n",
       "minority             0.938312             0.019003        0.943233  20540.0  "
      ]
     },
     "execution_count": 75,
     "metadata": {},
     "output_type": "execute_result"
    }
   ],
   "source": [
    "metric_frame.by_group"
   ]
  },
  {
   "cell_type": "code",
   "execution_count": 76,
   "id": "a9ddbe63",
   "metadata": {
    "execution": {
     "iopub.execute_input": "2025-07-30T21:40:45.032694Z",
     "iopub.status.busy": "2025-07-30T21:40:45.032385Z",
     "iopub.status.idle": "2025-07-30T21:40:47.302161Z",
     "shell.execute_reply": "2025-07-30T21:40:47.301241Z"
    },
    "papermill": {
     "duration": 2.286816,
     "end_time": "2025-07-30T21:40:47.303753",
     "exception": false,
     "start_time": "2025-07-30T21:40:45.016937",
     "status": "completed"
    },
    "tags": []
   },
   "outputs": [
    {
     "data": {
      "text/plain": [
       "array([[<Axes: title={'center': 'accuracy'}, xlabel='majmin'>,\n",
       "        <Axes: title={'center': 'balanced accuracy'}, xlabel='majmin'>,\n",
       "        <Axes: title={'center': 'f1'}, xlabel='majmin'>],\n",
       "       [<Axes: title={'center': 'precision'}, xlabel='majmin'>,\n",
       "        <Axes: title={'center': 'false positive rate'}, xlabel='majmin'>,\n",
       "        <Axes: title={'center': 'false negative rate'}, xlabel='majmin'>],\n",
       "       [<Axes: title={'center': 'selection rate'}, xlabel='majmin'>,\n",
       "        <Axes: title={'center': 'count'}, xlabel='majmin'>,\n",
       "        <Axes: xlabel='majmin'>]], dtype=object)"
      ]
     },
     "execution_count": 76,
     "metadata": {},
     "output_type": "execute_result"
    },
    {
     "data": {
      "image/png": "[encoded data removed]",
      "text/plain": [
       "<Figure size 1200x800 with 9 Axes>"
      ]
     },
     "metadata": {},
     "output_type": "display_data"
    }
   ],
   "source": [
    "# In a graphic\n",
    "metric_frame.by_group.plot.bar(\n",
    "    subplots=True,\n",
    "    layout=[3, 3],\n",
    "    legend=False,\n",
    "    figsize=[12, 8],\n",
    "    title=\"Show all metrics\",\n",
    ")"
   ]
  },
  {
   "cell_type": "markdown",
   "id": "f57a0bac",
   "metadata": {
    "papermill": {
     "duration": 0.036196,
     "end_time": "2025-07-30T21:40:47.374516",
     "exception": false,
     "start_time": "2025-07-30T21:40:47.338320",
     "status": "completed"
    },
    "tags": []
   },
   "source": [
    "# Final Output"
   ]
  },
  {
   "cell_type": "code",
   "execution_count": 77,
   "id": "96d280a3",
   "metadata": {
    "execution": {
     "iopub.execute_input": "2025-07-30T21:40:47.438702Z",
     "iopub.status.busy": "2025-07-30T21:40:47.438061Z",
     "iopub.status.idle": "2025-07-30T21:40:47.446022Z",
     "shell.execute_reply": "2025-07-30T21:40:47.444950Z"
    },
    "papermill": {
     "duration": 0.042538,
     "end_time": "2025-07-30T21:40:47.447522",
     "exception": false,
     "start_time": "2025-07-30T21:40:47.404984",
     "status": "completed"
    },
    "tags": []
   },
   "outputs": [
    {
     "data": {
      "text/plain": [
       "4"
      ]
     },
     "execution_count": 77,
     "metadata": {},
     "output_type": "execute_result"
    }
   ],
   "source": [
    "sub_universes = universe_analysis.generate_sub_universes()\n",
    "len(sub_universes)"
   ]
  },
  {
   "cell_type": "code",
   "execution_count": 78,
   "id": "92adf7ba",
   "metadata": {
    "execution": {
     "iopub.execute_input": "2025-07-30T21:40:47.512530Z",
     "iopub.status.busy": "2025-07-30T21:40:47.511985Z",
     "iopub.status.idle": "2025-07-30T21:40:47.518560Z",
     "shell.execute_reply": "2025-07-30T21:40:47.517597Z"
    },
    "papermill": {
     "duration": 0.041938,
     "end_time": "2025-07-30T21:40:47.520310",
     "exception": false,
     "start_time": "2025-07-30T21:40:47.478372",
     "status": "completed"
    },
    "tags": []
   },
   "outputs": [],
   "source": [
    "def filter_sub_universe_data(sub_universe, org_test):\n",
    "    # Keep all rows — no filtering\n",
    "    keep_rows_mask = np.ones(org_test.shape[0], dtype=bool)\n",
    "\n",
    "    print(f\"[INFO] Keeping all rows: {keep_rows_mask.sum()} rows retained.\")\n",
    "    return keep_rows_mask"
   ]
  },
  {
   "cell_type": "code",
   "execution_count": 79,
   "id": "4a759155",
   "metadata": {
    "execution": {
     "iopub.execute_input": "2025-07-30T21:40:47.583737Z",
     "iopub.status.busy": "2025-07-30T21:40:47.583171Z",
     "iopub.status.idle": "2025-07-30T21:40:58.391513Z",
     "shell.execute_reply": "2025-07-30T21:40:58.390445Z"
    },
    "papermill": {
     "duration": 10.841589,
     "end_time": "2025-07-30T21:40:58.393462",
     "exception": false,
     "start_time": "2025-07-30T21:40:47.551873",
     "status": "completed"
    },
    "tags": []
   },
   "outputs": [
    {
     "name": "stdout",
     "output_type": "stream",
     "text": [
      "Stopping execution_time clock.\n",
      "[INFO] Keeping all rows: 89710 rows retained.\n"
     ]
    },
    {
     "name": "stdout",
     "output_type": "stream",
     "text": [
      "[INFO] Keeping all rows: 89710 rows retained.\n"
     ]
    },
    {
     "name": "stdout",
     "output_type": "stream",
     "text": [
      "[INFO] Keeping all rows: 89710 rows retained.\n"
     ]
    },
    {
     "name": "stdout",
     "output_type": "stream",
     "text": [
      "[INFO] Keeping all rows: 89710 rows retained.\n"
     ]
    },
    {
     "data": {
      "text/html": [
       "<div>\n",
       "<style scoped>\n",
       "    .dataframe tbody tr th:only-of-type {\n",
       "        vertical-align: middle;\n",
       "    }\n",
       "\n",
       "    .dataframe tbody tr th {\n",
       "        vertical-align: top;\n",
       "    }\n",
       "\n",
       "    .dataframe thead th {\n",
       "        text-align: right;\n",
       "    }\n",
       "</style>\n",
       "<table border=\"1\" class=\"dataframe\">\n",
       "  <thead>\n",
       "    <tr style=\"text-align: right;\">\n",
       "      <th></th>\n",
       "      <th>run_no</th>\n",
       "      <th>universe_id</th>\n",
       "      <th>universe_settings</th>\n",
       "      <th>execution_time</th>\n",
       "      <th>test_size_n</th>\n",
       "      <th>test_size_frac</th>\n",
       "      <th>fair_main_equalized_odds_difference</th>\n",
       "      <th>fair_main_equalized_odds_ratio</th>\n",
       "      <th>fair_main_demographic_parity_difference</th>\n",
       "      <th>fair_main_demographic_parity_ratio</th>\n",
       "      <th>...</th>\n",
       "      <th>perf_grp_precision_0</th>\n",
       "      <th>perf_grp_precision_1</th>\n",
       "      <th>perf_grp_false positive rate_0</th>\n",
       "      <th>perf_grp_false positive rate_1</th>\n",
       "      <th>perf_grp_false negative rate_0</th>\n",
       "      <th>perf_grp_false negative rate_1</th>\n",
       "      <th>perf_grp_selection rate_0</th>\n",
       "      <th>perf_grp_selection rate_1</th>\n",
       "      <th>perf_grp_count_0</th>\n",
       "      <th>perf_grp_count_1</th>\n",
       "    </tr>\n",
       "  </thead>\n",
       "  <tbody>\n",
       "    <tr>\n",
       "      <th>0</th>\n",
       "      <td>14</td>\n",
       "      <td>556d41cbb501064ca179d9e97915e59a</td>\n",
       "      <td>{\"cutoff\": \"quantile_0.1\", \"eval_fairness_grou...</td>\n",
       "      <td>32.041122</td>\n",
       "      <td>89710</td>\n",
       "      <td>1.0</td>\n",
       "      <td>0.045042</td>\n",
       "      <td>0.951997</td>\n",
       "      <td>0.037725</td>\n",
       "      <td>0.960005</td>\n",
       "      <td>...</td>\n",
       "      <td>NaN</td>\n",
       "      <td>NaN</td>\n",
       "      <td>NaN</td>\n",
       "      <td>NaN</td>\n",
       "      <td>NaN</td>\n",
       "      <td>NaN</td>\n",
       "      <td>NaN</td>\n",
       "      <td>NaN</td>\n",
       "      <td>NaN</td>\n",
       "      <td>NaN</td>\n",
       "    </tr>\n",
       "    <tr>\n",
       "      <th>0</th>\n",
       "      <td>14</td>\n",
       "      <td>556d41cbb501064ca179d9e97915e59a</td>\n",
       "      <td>{\"cutoff\": \"quantile_0.1\", \"eval_fairness_grou...</td>\n",
       "      <td>32.041122</td>\n",
       "      <td>89710</td>\n",
       "      <td>1.0</td>\n",
       "      <td>0.045042</td>\n",
       "      <td>0.951997</td>\n",
       "      <td>0.037725</td>\n",
       "      <td>0.960005</td>\n",
       "      <td>...</td>\n",
       "      <td>0.119903</td>\n",
       "      <td>0.143868</td>\n",
       "      <td>0.938312</td>\n",
       "      <td>0.893270</td>\n",
       "      <td>0.019003</td>\n",
       "      <td>0.014114</td>\n",
       "      <td>0.943233</td>\n",
       "      <td>0.905508</td>\n",
       "      <td>20540.0</td>\n",
       "      <td>69170.0</td>\n",
       "    </tr>\n",
       "    <tr>\n",
       "      <th>0</th>\n",
       "      <td>14</td>\n",
       "      <td>556d41cbb501064ca179d9e97915e59a</td>\n",
       "      <td>{\"cutoff\": \"quantile_0.25\", \"eval_fairness_gro...</td>\n",
       "      <td>32.041122</td>\n",
       "      <td>89710</td>\n",
       "      <td>1.0</td>\n",
       "      <td>0.098797</td>\n",
       "      <td>0.881205</td>\n",
       "      <td>0.083159</td>\n",
       "      <td>0.901392</td>\n",
       "      <td>...</td>\n",
       "      <td>NaN</td>\n",
       "      <td>NaN</td>\n",
       "      <td>NaN</td>\n",
       "      <td>NaN</td>\n",
       "      <td>NaN</td>\n",
       "      <td>NaN</td>\n",
       "      <td>NaN</td>\n",
       "      <td>NaN</td>\n",
       "      <td>NaN</td>\n",
       "      <td>NaN</td>\n",
       "    </tr>\n",
       "    <tr>\n",
       "      <th>0</th>\n",
       "      <td>14</td>\n",
       "      <td>556d41cbb501064ca179d9e97915e59a</td>\n",
       "      <td>{\"cutoff\": \"quantile_0.25\", \"eval_fairness_gro...</td>\n",
       "      <td>32.041122</td>\n",
       "      <td>89710</td>\n",
       "      <td>1.0</td>\n",
       "      <td>0.098797</td>\n",
       "      <td>0.881205</td>\n",
       "      <td>0.083159</td>\n",
       "      <td>0.901392</td>\n",
       "      <td>...</td>\n",
       "      <td>0.127526</td>\n",
       "      <td>0.163310</td>\n",
       "      <td>0.831664</td>\n",
       "      <td>0.732867</td>\n",
       "      <td>0.067145</td>\n",
       "      <td>0.060503</td>\n",
       "      <td>0.843330</td>\n",
       "      <td>0.760171</td>\n",
       "      <td>20540.0</td>\n",
       "      <td>69170.0</td>\n",
       "    </tr>\n",
       "  </tbody>\n",
       "</table>\n",
       "<p>4 rows × 50 columns</p>\n",
       "</div>"
      ],
      "text/plain": [
       "  run_no                       universe_id  \\\n",
       "0     14  556d41cbb501064ca179d9e97915e59a   \n",
       "0     14  556d41cbb501064ca179d9e97915e59a   \n",
       "0     14  556d41cbb501064ca179d9e97915e59a   \n",
       "0     14  556d41cbb501064ca179d9e97915e59a   \n",
       "\n",
       "                                   universe_settings  execution_time  \\\n",
       "0  {\"cutoff\": \"quantile_0.1\", \"eval_fairness_grou...       32.041122   \n",
       "0  {\"cutoff\": \"quantile_0.1\", \"eval_fairness_grou...       32.041122   \n",
       "0  {\"cutoff\": \"quantile_0.25\", \"eval_fairness_gro...       32.041122   \n",
       "0  {\"cutoff\": \"quantile_0.25\", \"eval_fairness_gro...       32.041122   \n",
       "\n",
       "   test_size_n  test_size_frac  fair_main_equalized_odds_difference  \\\n",
       "0        89710             1.0                             0.045042   \n",
       "0        89710             1.0                             0.045042   \n",
       "0        89710             1.0                             0.098797   \n",
       "0        89710             1.0                             0.098797   \n",
       "\n",
       "   fair_main_equalized_odds_ratio  fair_main_demographic_parity_difference  \\\n",
       "0                        0.951997                                 0.037725   \n",
       "0                        0.951997                                 0.037725   \n",
       "0                        0.881205                                 0.083159   \n",
       "0                        0.881205                                 0.083159   \n",
       "\n",
       "   fair_main_demographic_parity_ratio  ...  perf_grp_precision_0  \\\n",
       "0                            0.960005  ...                   NaN   \n",
       "0                            0.960005  ...              0.119903   \n",
       "0                            0.901392  ...                   NaN   \n",
       "0                            0.901392  ...              0.127526   \n",
       "\n",
       "   perf_grp_precision_1  perf_grp_false positive rate_0  \\\n",
       "0                   NaN                             NaN   \n",
       "0              0.143868                        0.938312   \n",
       "0                   NaN                             NaN   \n",
       "0              0.163310                        0.831664   \n",
       "\n",
       "   perf_grp_false positive rate_1  perf_grp_false negative rate_0  \\\n",
       "0                             NaN                             NaN   \n",
       "0                        0.893270                        0.019003   \n",
       "0                             NaN                             NaN   \n",
       "0                        0.732867                        0.067145   \n",
       "\n",
       "   perf_grp_false negative rate_1  perf_grp_selection rate_0  \\\n",
       "0                             NaN                        NaN   \n",
       "0                        0.014114                   0.943233   \n",
       "0                             NaN                        NaN   \n",
       "0                        0.060503                   0.843330   \n",
       "\n",
       "   perf_grp_selection rate_1  perf_grp_count_0  perf_grp_count_1  \n",
       "0                        NaN               NaN               NaN  \n",
       "0                   0.905508           20540.0           69170.0  \n",
       "0                        NaN               NaN               NaN  \n",
       "0                   0.760171           20540.0           69170.0  \n",
       "\n",
       "[4 rows x 50 columns]"
      ]
     },
     "execution_count": 79,
     "metadata": {},
     "output_type": "execute_result"
    }
   ],
   "source": [
    "final_output = universe_analysis.generate_final_output(\n",
    "    y_pred_prob=probs_test,\n",
    "    y_test=y_true,\n",
    "    org_test=org_test,\n",
    "    filter_data=filter_sub_universe_data,\n",
    "    cp_metrics_df=cp_metrics_df,\n",
    "    save=True,\n",
    ")\n",
    "final_output"
   ]
  },
  {
   "cell_type": "code",
   "execution_count": null,
   "id": "721ff514-cb11-46f8-b6fc-50392f74b5cb",
   "metadata": {
    "papermill": {
     "duration": 0.031033,
     "end_time": "2025-07-30T21:40:58.458049",
     "exception": false,
     "start_time": "2025-07-30T21:40:58.427016",
     "status": "completed"
    },
    "tags": []
   },
   "outputs": [],
   "source": []
  }
 ],
 "metadata": {
  "celltoolbar": "Tags",
  "kernelspec": {
   "display_name": "Python (CMA Fairness)",
   "language": "python",
   "name": "cma_fair_env"
  },
  "language_info": {
   "codemirror_mode": {
    "name": "ipython",
    "version": 3
   },
   "file_extension": ".py",
   "mimetype": "text/x-python",
   "name": "python",
   "nbconvert_exporter": "python",
   "pygments_lexer": "ipython3",
   "version": "3.10.12"
  },
  "papermill": {
   "default_parameters": {},
   "duration": 47.187356,
   "end_time": "2025-07-30T21:40:59.409912",
   "environment_variables": {},
   "exception": null,
   "input_path": "universe_analysis.ipynb",
   "output_path": "output/runs/14/notebooks/m_14-556d41cbb501064ca179d9e97915e59a.ipynb",
   "parameters": {
    "output_dir": "output",
    "run_no": "14",
    "seed": "2023",
    "universe": "{\"cutoff\": [\"quantile_0.1\", \"quantile_0.25\"], \"eval_fairness_grouping\": [\"majority-minority\", \"nationality-all\"], \"exclude_features\": \"nationality\", \"exclude_subgroups\": \"drop-non-german\", \"model\": \"rf\", \"scale\": \"do-not-scale\", \"training_size\": \"1k\", \"training_year\": \"2012_14\"}",
    "universe_id": "556d41cbb501064ca179d9e97915e59a"
   },
   "start_time": "2025-07-30T21:40:12.222556",
   "version": "2.6.0"
  }
 },
 "nbformat": 4,
 "nbformat_minor": 5
}