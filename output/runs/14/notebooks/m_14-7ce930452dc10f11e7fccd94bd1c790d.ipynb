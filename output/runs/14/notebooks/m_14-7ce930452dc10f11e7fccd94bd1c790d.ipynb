{
 "cells": [
  {
   "cell_type": "code",
   "execution_count": 1,
   "id": "f159f837-637b-42ba-96b5-ec9a68c44524",
   "metadata": {
    "execution": {
     "iopub.execute_input": "2025-07-30T19:51:47.290425Z",
     "iopub.status.busy": "2025-07-30T19:51:47.289916Z",
     "iopub.status.idle": "2025-07-30T19:51:47.299786Z",
     "shell.execute_reply": "2025-07-30T19:51:47.298687Z"
    },
    "papermill": {
     "duration": 0.026233,
     "end_time": "2025-07-30T19:51:47.301359",
     "exception": false,
     "start_time": "2025-07-30T19:51:47.275126",
     "status": "completed"
    },
    "tags": []
   },
   "outputs": [
    {
     "name": "stdout",
     "output_type": "stream",
     "text": [
      "/dss/dsshome1/0C/ra93lal2/cma/CMA_Fairness_v2\n"
     ]
    },
    {
     "name": "stderr",
     "output_type": "stream",
     "text": [
      "/dss/dsshome1/0C/ra93lal2/.local/share/virtualenvs/CMA_Fairness_v2-3j10GkSs/lib/python3.10/site-packages/IPython/core/magics/osm.py:393: UserWarning: This is now an optional IPython functionality, using bookmarks requires you to install the `pickleshare` library.\n",
      "  bkms = self.shell.db.get('bookmarks', {})\n",
      "/dss/dsshome1/0C/ra93lal2/.local/share/virtualenvs/CMA_Fairness_v2-3j10GkSs/lib/python3.10/site-packages/IPython/core/magics/osm.py:417: UserWarning: This is now an optional IPython functionality, setting dhist requires you to install the `pickleshare` library.\n",
      "  self.shell.db['dhist'] = compress_dhist(dhist)[-100:]\n"
     ]
    }
   ],
   "source": [
    "%cd ~/cma/CMA_Fairness_v2"
   ]
  },
  {
   "cell_type": "markdown",
   "id": "de2603b9",
   "metadata": {
    "papermill": {
     "duration": 0.009947,
     "end_time": "2025-07-30T19:51:47.322496",
     "exception": false,
     "start_time": "2025-07-30T19:51:47.312549",
     "status": "completed"
    },
    "tags": []
   },
   "source": [
    "The following cell holds the definition of our parameters, these values can be overriden by rendering the with e.g. the following command:\n",
    "\n",
    "papermill -p alpha 0.2 -p ratio 0.3 universe_analysis.ipynb output/test_run.ipynb"
   ]
  },
  {
   "cell_type": "code",
   "execution_count": 2,
   "id": "a80968a0-40bb-4fa9-85ef-2d5eefb01975",
   "metadata": {
    "execution": {
     "iopub.execute_input": "2025-07-30T19:51:47.344579Z",
     "iopub.status.busy": "2025-07-30T19:51:47.344060Z",
     "iopub.status.idle": "2025-07-30T19:51:47.349512Z",
     "shell.execute_reply": "2025-07-30T19:51:47.348388Z"
    },
    "papermill": {
     "duration": 0.019012,
     "end_time": "2025-07-30T19:51:47.351712",
     "exception": false,
     "start_time": "2025-07-30T19:51:47.332700",
     "status": "completed"
    },
    "tags": []
   },
   "outputs": [
    {
     "name": "stdout",
     "output_type": "stream",
     "text": [
      "Current working directory: /dss/dsshome1/0C/ra93lal2/cma/CMA_Fairness_v2\n"
     ]
    }
   ],
   "source": [
    "import os\n",
    "print(\"Current working directory:\", os.getcwd())"
   ]
  },
  {
   "cell_type": "code",
   "execution_count": 3,
   "id": "2dce4c03",
   "metadata": {
    "execution": {
     "iopub.execute_input": "2025-07-30T19:51:47.397699Z",
     "iopub.status.busy": "2025-07-30T19:51:47.397221Z",
     "iopub.status.idle": "2025-07-30T19:51:47.403601Z",
     "shell.execute_reply": "2025-07-30T19:51:47.402569Z"
    },
    "papermill": {
     "duration": 0.031792,
     "end_time": "2025-07-30T19:51:47.405637",
     "exception": false,
     "start_time": "2025-07-30T19:51:47.373845",
     "status": "completed"
    },
    "tags": [
     "parameters"
    ]
   },
   "outputs": [],
   "source": [
    "run_no = 0\n",
    "universe_id = \"test\"\n",
    "universe = {\n",
    "    \"training_size\": \"25k\", # \"25k\", \"5k\", \"1k\"\n",
    "    \"training_year\": \"2014\", # \"2014\", \"2012_14\", \"2010_14\"\n",
    "    \"scale\": \"scale\", # \"scale\", \"do-not-scale\",\n",
    "    #\"stratify_split\": \"target\", # \"none\", \"target\", \"protected-attribute\", \"both\",\n",
    "    \"model\": \"elasticnet\", # \"logreg\", \"penalized_logreg\", \"rf\", \"gbm\", \"elasticnet\"\n",
    "    \"cutoff\": [\"quantile_0.15\", \"quantile_0.30\"],\n",
    "    \"exclude_features\": \"age\", # \"none\", \"nationality\", \"sex\", \"nationality-sex\", \"age\"\n",
    "    \"exclude_subgroups\": \"keep-all\", # \"keep-all\", \"drop-non-german\"\n",
    "    \"eval_fairness_grouping\": [\"majority-minority\", \"nationality-all\"]\n",
    "}\n",
    "\n",
    "output_dir=\"./output\"\n",
    "seed=0"
   ]
  },
  {
   "cell_type": "code",
   "execution_count": 4,
   "id": "f48633ba",
   "metadata": {
    "execution": {
     "iopub.execute_input": "2025-07-30T19:51:47.452829Z",
     "iopub.status.busy": "2025-07-30T19:51:47.451887Z",
     "iopub.status.idle": "2025-07-30T19:51:47.458228Z",
     "shell.execute_reply": "2025-07-30T19:51:47.457044Z"
    },
    "papermill": {
     "duration": 0.03121,
     "end_time": "2025-07-30T19:51:47.460323",
     "exception": false,
     "start_time": "2025-07-30T19:51:47.429113",
     "status": "completed"
    },
    "tags": [
     "injected-parameters"
    ]
   },
   "outputs": [],
   "source": [
    "# Parameters\n",
    "universe_id = \"7ce930452dc10f11e7fccd94bd1c790d\"\n",
    "run_no = \"14\"\n",
    "universe = \"{\\\"cutoff\\\": [\\\"quantile_0.1\\\", \\\"quantile_0.25\\\"], \\\"eval_fairness_grouping\\\": [\\\"majority-minority\\\", \\\"nationality-all\\\"], \\\"exclude_features\\\": \\\"age\\\", \\\"exclude_subgroups\\\": \\\"keep-all\\\", \\\"model\\\": \\\"penalized_logreg\\\", \\\"scale\\\": \\\"scale\\\", \\\"training_size\\\": \\\"25k\\\", \\\"training_year\\\": \\\"2014\\\"}\"\n",
    "output_dir = \"output\"\n",
    "seed = \"2023\"\n"
   ]
  },
  {
   "cell_type": "code",
   "execution_count": 5,
   "id": "1650acaf",
   "metadata": {
    "execution": {
     "iopub.execute_input": "2025-07-30T19:51:47.506924Z",
     "iopub.status.busy": "2025-07-30T19:51:47.506393Z",
     "iopub.status.idle": "2025-07-30T19:51:47.511681Z",
     "shell.execute_reply": "2025-07-30T19:51:47.510620Z"
    },
    "papermill": {
     "duration": 0.029745,
     "end_time": "2025-07-30T19:51:47.513680",
     "exception": false,
     "start_time": "2025-07-30T19:51:47.483935",
     "status": "completed"
    },
    "tags": []
   },
   "outputs": [],
   "source": [
    "import json\n",
    "# Parse universe into dict if it is passed as a string\n",
    "if isinstance(universe, str):\n",
    "    universe = json.loads(universe)"
   ]
  },
  {
   "cell_type": "code",
   "execution_count": 6,
   "id": "16620c48",
   "metadata": {
    "execution": {
     "iopub.execute_input": "2025-07-30T19:51:47.557184Z",
     "iopub.status.busy": "2025-07-30T19:51:47.556655Z",
     "iopub.status.idle": "2025-07-30T19:51:47.606508Z",
     "shell.execute_reply": "2025-07-30T19:51:47.605475Z"
    },
    "papermill": {
     "duration": 0.07417,
     "end_time": "2025-07-30T19:51:47.608323",
     "exception": false,
     "start_time": "2025-07-30T19:51:47.534153",
     "status": "completed"
    },
    "tags": []
   },
   "outputs": [],
   "source": [
    "# Auto-reload the custom package\n",
    "%load_ext autoreload\n",
    "%autoreload 1\n",
    "%aimport fairness_multiverse"
   ]
  },
  {
   "cell_type": "code",
   "execution_count": 7,
   "id": "01c5c9f3",
   "metadata": {
    "execution": {
     "iopub.execute_input": "2025-07-30T19:51:47.653997Z",
     "iopub.status.busy": "2025-07-30T19:51:47.653534Z",
     "iopub.status.idle": "2025-07-30T19:51:49.735472Z",
     "shell.execute_reply": "2025-07-30T19:51:49.734351Z"
    },
    "papermill": {
     "duration": 2.107124,
     "end_time": "2025-07-30T19:51:49.737577",
     "exception": false,
     "start_time": "2025-07-30T19:51:47.630453",
     "status": "completed"
    },
    "tags": []
   },
   "outputs": [],
   "source": [
    "from fairness_multiverse.universe import UniverseAnalysis\n",
    "\n",
    "universe_analysis = UniverseAnalysis(\n",
    "    run_no = run_no,\n",
    "    universe_id = universe_id,\n",
    "    universe = universe,\n",
    "    output_dir=output_dir,\n",
    ")"
   ]
  },
  {
   "cell_type": "code",
   "execution_count": 8,
   "id": "106241f5",
   "metadata": {
    "execution": {
     "iopub.execute_input": "2025-07-30T19:51:49.785436Z",
     "iopub.status.busy": "2025-07-30T19:51:49.784915Z",
     "iopub.status.idle": "2025-07-30T19:51:49.794064Z",
     "shell.execute_reply": "2025-07-30T19:51:49.793099Z"
    },
    "papermill": {
     "duration": 0.033764,
     "end_time": "2025-07-30T19:51:49.795735",
     "exception": false,
     "start_time": "2025-07-30T19:51:49.761971",
     "status": "completed"
    },
    "tags": []
   },
   "outputs": [
    {
     "name": "stdout",
     "output_type": "stream",
     "text": [
      "Using Seed: 2023\n"
     ]
    }
   ],
   "source": [
    "import numpy as np\n",
    "parsed_seed = int(seed)\n",
    "np.random.seed(parsed_seed)\n",
    "print(f\"Using Seed: {parsed_seed}\")"
   ]
  },
  {
   "cell_type": "markdown",
   "id": "e0ebdc57",
   "metadata": {
    "papermill": {
     "duration": 0.021346,
     "end_time": "2025-07-30T19:51:49.838737",
     "exception": false,
     "start_time": "2025-07-30T19:51:49.817391",
     "status": "completed"
    },
    "tags": []
   },
   "source": [
    "# Loading Data"
   ]
  },
  {
   "cell_type": "markdown",
   "id": "681925a3",
   "metadata": {
    "papermill": {
     "duration": 0.022163,
     "end_time": "2025-07-30T19:51:49.882000",
     "exception": false,
     "start_time": "2025-07-30T19:51:49.859837",
     "status": "completed"
    },
    "tags": []
   },
   "source": [
    "Load siab_train, siab_test, siab_calib and/or \n",
    "load siab_train_features, siab_train_labels"
   ]
  },
  {
   "cell_type": "code",
   "execution_count": 9,
   "id": "f0496b8a",
   "metadata": {
    "execution": {
     "iopub.execute_input": "2025-07-30T19:51:49.929535Z",
     "iopub.status.busy": "2025-07-30T19:51:49.928984Z",
     "iopub.status.idle": "2025-07-30T19:51:58.749677Z",
     "shell.execute_reply": "2025-07-30T19:51:58.748661Z"
    },
    "papermill": {
     "duration": 8.846189,
     "end_time": "2025-07-30T19:51:58.751426",
     "exception": false,
     "start_time": "2025-07-30T19:51:49.905237",
     "status": "completed"
    },
    "tags": []
   },
   "outputs": [
    {
     "name": "stdout",
     "output_type": "stream",
     "text": [
      "Loading SIAB data from cache: data/siab_cached.csv.gz\n"
     ]
    },
    {
     "name": "stdout",
     "output_type": "stream",
     "text": [
      "(643690, 164)\n"
     ]
    }
   ],
   "source": [
    "from pathlib import Path\n",
    "import pandas as pd\n",
    "\n",
    "# File paths\n",
    "raw_file = Path(\"data/raw/siab.csv\")\n",
    "cache_file = Path(\"data/siab_cached.csv.gz\")\n",
    "\n",
    "# Ensure cache directory exists\n",
    "cache_file.parent.mkdir(parents=True, exist_ok=True)\n",
    "\n",
    "# Load with simple caching\n",
    "if cache_file.exists():\n",
    "    print(f\"Loading SIAB data from cache: {cache_file}\")\n",
    "    siab = pd.read_csv(cache_file, compression='gzip')\n",
    "else:\n",
    "    print(f\"Cache not found. Reading raw SIAB data: {raw_file}\")\n",
    "    siab = pd.read_csv(raw_file)\n",
    "    siab.to_csv(cache_file, index=False, compression='gzip')\n",
    "    print(f\"Cached SIAB data to: {cache_file}\")\n",
    "\n",
    "# Now use `siab` DataFrame as needed\n",
    "print(siab.shape)"
   ]
  },
  {
   "cell_type": "code",
   "execution_count": 10,
   "id": "db0ca512-5f53-4dba-abdb-a2888bca41ba",
   "metadata": {
    "execution": {
     "iopub.execute_input": "2025-07-30T19:51:58.799186Z",
     "iopub.status.busy": "2025-07-30T19:51:58.798458Z",
     "iopub.status.idle": "2025-07-30T19:51:58.803981Z",
     "shell.execute_reply": "2025-07-30T19:51:58.802950Z"
    },
    "papermill": {
     "duration": 0.028976,
     "end_time": "2025-07-30T19:51:58.805820",
     "exception": false,
     "start_time": "2025-07-30T19:51:58.776844",
     "status": "completed"
    },
    "tags": []
   },
   "outputs": [],
   "source": [
    "#siab"
   ]
  },
  {
   "cell_type": "code",
   "execution_count": 11,
   "id": "a0edb063",
   "metadata": {
    "execution": {
     "iopub.execute_input": "2025-07-30T19:51:58.851179Z",
     "iopub.status.busy": "2025-07-30T19:51:58.850335Z",
     "iopub.status.idle": "2025-07-30T19:51:58.855455Z",
     "shell.execute_reply": "2025-07-30T19:51:58.854430Z"
    },
    "papermill": {
     "duration": 0.029666,
     "end_time": "2025-07-30T19:51:58.857287",
     "exception": false,
     "start_time": "2025-07-30T19:51:58.827621",
     "status": "completed"
    },
    "tags": []
   },
   "outputs": [],
   "source": [
    "#import pandas as pd\n",
    "#\n",
    "#X_train = pd.read_csv(\"./data/X_train.csv\")\n",
    "#y_train = pd.read_csv(\"./data/y_train.csv\")"
   ]
  },
  {
   "cell_type": "code",
   "execution_count": 12,
   "id": "63d08085",
   "metadata": {
    "execution": {
     "iopub.execute_input": "2025-07-30T19:51:58.901036Z",
     "iopub.status.busy": "2025-07-30T19:51:58.900381Z",
     "iopub.status.idle": "2025-07-30T19:51:58.905366Z",
     "shell.execute_reply": "2025-07-30T19:51:58.904365Z"
    },
    "papermill": {
     "duration": 0.029714,
     "end_time": "2025-07-30T19:51:58.907123",
     "exception": false,
     "start_time": "2025-07-30T19:51:58.877409",
     "status": "completed"
    },
    "tags": []
   },
   "outputs": [],
   "source": [
    "#X_test = pd.read_csv(\"./data/X_test.csv\")\n",
    "#y_true = pd.read_csv(\"./data/y_test.csv\")"
   ]
  },
  {
   "cell_type": "code",
   "execution_count": 13,
   "id": "98a8d0fa-1d3d-4ed8-bb2c-281470e24add",
   "metadata": {
    "execution": {
     "iopub.execute_input": "2025-07-30T19:51:58.949847Z",
     "iopub.status.busy": "2025-07-30T19:51:58.949304Z",
     "iopub.status.idle": "2025-07-30T19:51:58.954252Z",
     "shell.execute_reply": "2025-07-30T19:51:58.953182Z"
    },
    "papermill": {
     "duration": 0.029575,
     "end_time": "2025-07-30T19:51:58.955982",
     "exception": false,
     "start_time": "2025-07-30T19:51:58.926407",
     "status": "completed"
    },
    "tags": []
   },
   "outputs": [],
   "source": [
    "# Calibration data for conformal\n",
    "#X_calib = pd.read_csv(\"./data/X_calib.csv\")\n",
    "#y_calib = pd.read_csv(\"./data/y_calib.csv\")"
   ]
  },
  {
   "cell_type": "markdown",
   "id": "997051c5-15bd-4b69-9786-c3001a3ce484",
   "metadata": {
    "papermill": {
     "duration": 0.013333,
     "end_time": "2025-07-30T19:51:58.985037",
     "exception": false,
     "start_time": "2025-07-30T19:51:58.971704",
     "status": "completed"
    },
    "tags": []
   },
   "source": [
    "# Splitting Data and Setting Training Data Size"
   ]
  },
  {
   "cell_type": "code",
   "execution_count": 14,
   "id": "e993b61f-042d-41a6-8c81-f55681f86335",
   "metadata": {
    "execution": {
     "iopub.execute_input": "2025-07-30T19:51:59.008684Z",
     "iopub.status.busy": "2025-07-30T19:51:59.008329Z",
     "iopub.status.idle": "2025-07-30T19:51:59.018912Z",
     "shell.execute_reply": "2025-07-30T19:51:59.018082Z"
    },
    "papermill": {
     "duration": 0.024321,
     "end_time": "2025-07-30T19:51:59.020549",
     "exception": false,
     "start_time": "2025-07-30T19:51:58.996228",
     "status": "completed"
    },
    "tags": []
   },
   "outputs": [],
   "source": [
    "def sample_by_year_size(df,\n",
    "                        training_year: str,\n",
    "                        training_size: str,\n",
    "                        random_state: int = 42):\n",
    "    # --- parse training_year into a list of int years ---\n",
    "    if \"_\" in training_year:\n",
    "        start_str, end_str = training_year.split(\"_\", 1)\n",
    "        start = int(start_str)\n",
    "        end   = int(end_str) if len(end_str) == 4 else (int(end_str) + (start // 100)*100)\n",
    "        years = list(range(start, end + 1))\n",
    "    else:\n",
    "        years = [int(training_year)]\n",
    "\n",
    "    df = df[df[\"year\"].isin(years)].reset_index(drop=True)\n",
    "\n",
    "    # --- map training_size to total number of samples ---\n",
    "    total_map = {\"25k\": 25_000, \"5k\": 5_000, \"1k\": 1_000}\n",
    "    if training_size not in total_map:\n",
    "        return df  # e.g. \"all\"\n",
    "\n",
    "    total_samples = total_map[training_size]\n",
    "    n_years       = len(years)\n",
    "    base          = total_samples // n_years\n",
    "    remainder     = total_samples % n_years\n",
    "\n",
    "    # --- build a dict: year -> how many to sample ---\n",
    "    # give +1 to the first `remainder` years in ascending order\n",
    "    quotas = {\n",
    "        year: base + (1 if idx < remainder else 0)\n",
    "        for idx, year in enumerate(sorted(years))\n",
    "    }\n",
    "\n",
    "    # --- sample per‐year according to the quota dict ---\n",
    "    sampled = (\n",
    "        df\n",
    "        .groupby(\"year\", group_keys=False)\n",
    "        .apply(lambda grp: grp.sample(\n",
    "            n=min(len(grp), quotas[grp.name]),\n",
    "            random_state=random_state))\n",
    "        .reset_index(drop=True)\n",
    "    )\n",
    "\n",
    "    return sampled"
   ]
  },
  {
   "cell_type": "code",
   "execution_count": 15,
   "id": "c0ccd338-0e02-41f3-a09d-f56f9266e3fb",
   "metadata": {
    "execution": {
     "iopub.execute_input": "2025-07-30T19:51:59.045353Z",
     "iopub.status.busy": "2025-07-30T19:51:59.044809Z",
     "iopub.status.idle": "2025-07-30T19:51:59.049498Z",
     "shell.execute_reply": "2025-07-30T19:51:59.048732Z"
    },
    "papermill": {
     "duration": 0.018387,
     "end_time": "2025-07-30T19:51:59.050953",
     "exception": false,
     "start_time": "2025-07-30T19:51:59.032566",
     "status": "completed"
    },
    "tags": []
   },
   "outputs": [],
   "source": [
    "#universe[\"training_size\"]"
   ]
  },
  {
   "cell_type": "code",
   "execution_count": 16,
   "id": "ca707fd7-8047-4acd-bfa5-66248fbbf8e6",
   "metadata": {
    "execution": {
     "iopub.execute_input": "2025-07-30T19:51:59.075549Z",
     "iopub.status.busy": "2025-07-30T19:51:59.075034Z",
     "iopub.status.idle": "2025-07-30T19:51:59.079608Z",
     "shell.execute_reply": "2025-07-30T19:51:59.078872Z"
    },
    "papermill": {
     "duration": 0.018189,
     "end_time": "2025-07-30T19:51:59.081128",
     "exception": false,
     "start_time": "2025-07-30T19:51:59.062939",
     "status": "completed"
    },
    "tags": []
   },
   "outputs": [],
   "source": [
    "#universe[\"training_year\"]"
   ]
  },
  {
   "cell_type": "code",
   "execution_count": 17,
   "id": "aea9c6ef-6f46-42c8-85eb-5a62025c1508",
   "metadata": {
    "execution": {
     "iopub.execute_input": "2025-07-30T19:51:59.106549Z",
     "iopub.status.busy": "2025-07-30T19:51:59.106192Z",
     "iopub.status.idle": "2025-07-30T19:51:59.325726Z",
     "shell.execute_reply": "2025-07-30T19:51:59.324986Z"
    },
    "papermill": {
     "duration": 0.233587,
     "end_time": "2025-07-30T19:51:59.327304",
     "exception": false,
     "start_time": "2025-07-30T19:51:59.093717",
     "status": "completed"
    },
    "tags": []
   },
   "outputs": [],
   "source": [
    "siab_train = sample_by_year_size(siab,\n",
    "                               training_year=universe[\"training_year\"],\n",
    "                               training_size=universe[\"training_size\"])"
   ]
  },
  {
   "cell_type": "code",
   "execution_count": 18,
   "id": "8d3afb32-789d-442c-8d5d-9f5aa8dd2eed",
   "metadata": {
    "execution": {
     "iopub.execute_input": "2025-07-30T19:51:59.350664Z",
     "iopub.status.busy": "2025-07-30T19:51:59.349779Z",
     "iopub.status.idle": "2025-07-30T19:51:59.355658Z",
     "shell.execute_reply": "2025-07-30T19:51:59.354586Z"
    },
    "papermill": {
     "duration": 0.019284,
     "end_time": "2025-07-30T19:51:59.357535",
     "exception": false,
     "start_time": "2025-07-30T19:51:59.338251",
     "status": "completed"
    },
    "tags": []
   },
   "outputs": [],
   "source": [
    "#siab_train.shape"
   ]
  },
  {
   "cell_type": "code",
   "execution_count": 19,
   "id": "d582db68-1a4c-47fb-84fc-08518dc1975a",
   "metadata": {
    "execution": {
     "iopub.execute_input": "2025-07-30T19:51:59.403334Z",
     "iopub.status.busy": "2025-07-30T19:51:59.402832Z",
     "iopub.status.idle": "2025-07-30T19:51:59.408046Z",
     "shell.execute_reply": "2025-07-30T19:51:59.406971Z"
    },
    "papermill": {
     "duration": 0.029332,
     "end_time": "2025-07-30T19:51:59.409966",
     "exception": false,
     "start_time": "2025-07-30T19:51:59.380634",
     "status": "completed"
    },
    "tags": []
   },
   "outputs": [],
   "source": [
    "#display(siab_train.groupby(\"year\").size())"
   ]
  },
  {
   "cell_type": "code",
   "execution_count": 20,
   "id": "a561edb4-d032-42cb-8256-22eac1111c64",
   "metadata": {
    "execution": {
     "iopub.execute_input": "2025-07-30T19:51:59.458554Z",
     "iopub.status.busy": "2025-07-30T19:51:59.457984Z",
     "iopub.status.idle": "2025-07-30T19:51:59.756414Z",
     "shell.execute_reply": "2025-07-30T19:51:59.754779Z"
    },
    "papermill": {
     "duration": 0.326114,
     "end_time": "2025-07-30T19:51:59.759810",
     "exception": false,
     "start_time": "2025-07-30T19:51:59.433696",
     "status": "completed"
    },
    "tags": []
   },
   "outputs": [],
   "source": [
    "#siab_train = siab_s[siab_s.year < 2015]\n",
    "siab_calib = siab[siab.year == 2015]\n",
    "siab_test = siab[siab.year == 2016]"
   ]
  },
  {
   "cell_type": "code",
   "execution_count": 21,
   "id": "472de16f-c3db-4916-846b-1f0de9cf1746",
   "metadata": {
    "execution": {
     "iopub.execute_input": "2025-07-30T19:51:59.788050Z",
     "iopub.status.busy": "2025-07-30T19:51:59.787542Z",
     "iopub.status.idle": "2025-07-30T19:51:59.801801Z",
     "shell.execute_reply": "2025-07-30T19:51:59.800824Z"
    },
    "papermill": {
     "duration": 0.027976,
     "end_time": "2025-07-30T19:51:59.803211",
     "exception": false,
     "start_time": "2025-07-30T19:51:59.775235",
     "status": "completed"
    },
    "tags": []
   },
   "outputs": [],
   "source": [
    "X_train = siab_train.iloc[:,4:164]\n",
    "y_train = siab_train.iloc[:, [3]]"
   ]
  },
  {
   "cell_type": "code",
   "execution_count": 22,
   "id": "828c96af-f43a-4ed6-ba47-8ac73a47d56c",
   "metadata": {
    "execution": {
     "iopub.execute_input": "2025-07-30T19:51:59.854485Z",
     "iopub.status.busy": "2025-07-30T19:51:59.853978Z",
     "iopub.status.idle": "2025-07-30T19:51:59.911500Z",
     "shell.execute_reply": "2025-07-30T19:51:59.910175Z"
    },
    "papermill": {
     "duration": 0.095183,
     "end_time": "2025-07-30T19:51:59.913940",
     "exception": false,
     "start_time": "2025-07-30T19:51:59.818757",
     "status": "completed"
    },
    "tags": []
   },
   "outputs": [],
   "source": [
    "X_calib = siab_calib.iloc[:,4:164]\n",
    "y_calib = siab_calib.iloc[:, [3]]"
   ]
  },
  {
   "cell_type": "code",
   "execution_count": 23,
   "id": "c34be9c3-6bd6-476e-acd3-845840e303be",
   "metadata": {
    "execution": {
     "iopub.execute_input": "2025-07-30T19:51:59.961906Z",
     "iopub.status.busy": "2025-07-30T19:51:59.961144Z",
     "iopub.status.idle": "2025-07-30T19:52:00.009147Z",
     "shell.execute_reply": "2025-07-30T19:52:00.008250Z"
    },
    "papermill": {
     "duration": 0.065376,
     "end_time": "2025-07-30T19:52:00.010607",
     "exception": false,
     "start_time": "2025-07-30T19:51:59.945231",
     "status": "completed"
    },
    "tags": []
   },
   "outputs": [],
   "source": [
    "X_test = siab_test.iloc[:,4:164]\n",
    "y_true = siab_test.iloc[:, [3]]"
   ]
  },
  {
   "cell_type": "markdown",
   "id": "9901737e-04df-44f0-9100-f5ad144ed040",
   "metadata": {
    "papermill": {
     "duration": 0.010951,
     "end_time": "2025-07-30T19:52:00.033830",
     "exception": false,
     "start_time": "2025-07-30T19:52:00.022879",
     "status": "completed"
    },
    "tags": []
   },
   "source": [
    "# Splitting Data and Setting Training Data Size OLD VERSION"
   ]
  },
  {
   "cell_type": "code",
   "execution_count": 24,
   "id": "acbc8f7d-8fc8-4e86-8c59-5dcb0f58384b",
   "metadata": {
    "execution": {
     "iopub.execute_input": "2025-07-30T19:52:00.070186Z",
     "iopub.status.busy": "2025-07-30T19:52:00.069211Z",
     "iopub.status.idle": "2025-07-30T19:52:00.074828Z",
     "shell.execute_reply": "2025-07-30T19:52:00.073874Z"
    },
    "papermill": {
     "duration": 0.03129,
     "end_time": "2025-07-30T19:52:00.076666",
     "exception": false,
     "start_time": "2025-07-30T19:52:00.045376",
     "status": "completed"
    },
    "tags": []
   },
   "outputs": [],
   "source": [
    "#def sample_by_year(df, training_size, random_state=42):\n",
    "#    if training_size == \"2014\":\n",
    "#        return df[df[\"year\"] == 2014].reset_index(drop=True)\n",
    "#    \n",
    "#    size_map = {\n",
    "#        \"25k\": 5000,\n",
    "#        \"5k\": 1000,\n",
    "#        \"1k\": 200\n",
    "#    }\n",
    "#\n",
    "#    if training_size not in size_map:\n",
    "#        return df.reset_index(drop=True)  # use all data\n",
    "#\n",
    "#    n_per_year = size_map[training_size]\n",
    "#    grouped = df.groupby(\"year\")\n",
    "#    sampled = grouped.apply(lambda x: x.sample(n=min(n_per_year, len(x)), random_state=random_state))\n",
    "#    return sampled.reset_index(drop=True)"
   ]
  },
  {
   "cell_type": "code",
   "execution_count": 25,
   "id": "6d931f52-beaf-43ff-9e78-9d44a448d54e",
   "metadata": {
    "execution": {
     "iopub.execute_input": "2025-07-30T19:52:00.115490Z",
     "iopub.status.busy": "2025-07-30T19:52:00.115139Z",
     "iopub.status.idle": "2025-07-30T19:52:00.120122Z",
     "shell.execute_reply": "2025-07-30T19:52:00.119056Z"
    },
    "papermill": {
     "duration": 0.022711,
     "end_time": "2025-07-30T19:52:00.122005",
     "exception": false,
     "start_time": "2025-07-30T19:52:00.099294",
     "status": "completed"
    },
    "tags": []
   },
   "outputs": [],
   "source": [
    "#siab_s = sample_by_year(siab, universe[\"training_size\"])"
   ]
  },
  {
   "cell_type": "code",
   "execution_count": 26,
   "id": "5db0a40e-a4e2-4920-be85-b12ae061d70d",
   "metadata": {
    "execution": {
     "iopub.execute_input": "2025-07-30T19:52:00.145898Z",
     "iopub.status.busy": "2025-07-30T19:52:00.145428Z",
     "iopub.status.idle": "2025-07-30T19:52:00.149963Z",
     "shell.execute_reply": "2025-07-30T19:52:00.149209Z"
    },
    "papermill": {
     "duration": 0.018379,
     "end_time": "2025-07-30T19:52:00.151446",
     "exception": false,
     "start_time": "2025-07-30T19:52:00.133067",
     "status": "completed"
    },
    "tags": []
   },
   "outputs": [],
   "source": [
    "#display(siab_s.groupby(\"year\").size())"
   ]
  },
  {
   "cell_type": "code",
   "execution_count": 27,
   "id": "e6c733c5",
   "metadata": {
    "execution": {
     "iopub.execute_input": "2025-07-30T19:52:00.191058Z",
     "iopub.status.busy": "2025-07-30T19:52:00.190577Z",
     "iopub.status.idle": "2025-07-30T19:52:00.291794Z",
     "shell.execute_reply": "2025-07-30T19:52:00.290785Z"
    },
    "papermill": {
     "duration": 0.127067,
     "end_time": "2025-07-30T19:52:00.294008",
     "exception": false,
     "start_time": "2025-07-30T19:52:00.166941",
     "status": "completed"
    },
    "tags": []
   },
   "outputs": [],
   "source": [
    "# Auxiliary data needed downstream in the pipeline\n",
    "\n",
    "org_train = X_train.copy()\n",
    "org_test = X_test.copy()\n",
    "org_calib = X_calib.copy()"
   ]
  },
  {
   "cell_type": "code",
   "execution_count": 28,
   "id": "1466abac-c6da-4492-a62f-4240ae3783af",
   "metadata": {
    "execution": {
     "iopub.execute_input": "2025-07-30T19:52:00.355473Z",
     "iopub.status.busy": "2025-07-30T19:52:00.354914Z",
     "iopub.status.idle": "2025-07-30T19:52:00.361545Z",
     "shell.execute_reply": "2025-07-30T19:52:00.360508Z"
    },
    "papermill": {
     "duration": 0.032596,
     "end_time": "2025-07-30T19:52:00.363486",
     "exception": false,
     "start_time": "2025-07-30T19:52:00.330890",
     "status": "completed"
    },
    "tags": []
   },
   "outputs": [],
   "source": [
    "# put in other script?\n",
    "# Group sizes\n",
    "\n",
    "#def calculate_percentages(df, df_name):\n",
    "#    total_entries = len(df)\n",
    "#\n",
    "#    female_pct = (df['frau1'] == 1).mean() * 100\n",
    "#    non_german_pct = ((df['maxdeutsch1'] == 0) & (df['maxdeutsch.Missing.'] == 0)).mean() * 100\n",
    "#    non_german_male_pct = ((df['frau1'] == 0) & (df['maxdeutsch1'] == 0) & (df['maxdeutsch.Missing.'] == 0)).mean() * 100\n",
    "#    non_german_female_pct = ((df['frau1'] == 1) & (df['maxdeutsch1'] == 0) & (df['maxdeutsch.Missing.'] == 0)).mean() * 100\n",
    "#\n",
    "#    print(f\"--- {df_name} ---\")\n",
    "#    print(f\"Female: {female_pct:.2f}%\")\n",
    "#    print(f\"Non-German: {non_german_pct:.2f}%\")\n",
    "#    print(f\"Non-German Male: {non_german_male_pct:.2f}%\")\n",
    "#    print(f\"Non-German Female: {non_german_female_pct:.2f}%\\n\")\n",
    "#\n",
    "## Calculate for each DataFrame\n",
    "#calculate_percentages(siab_calib, \"siab_calib\")\n",
    "#calculate_percentages(siab_test, \"siab_test\")\n",
    "#calculate_percentages(siab_train, \"siab_train\")"
   ]
  },
  {
   "cell_type": "markdown",
   "id": "0a4a1b33",
   "metadata": {
    "papermill": {
     "duration": 0.023225,
     "end_time": "2025-07-30T19:52:00.410416",
     "exception": false,
     "start_time": "2025-07-30T19:52:00.387191",
     "status": "completed"
    },
    "tags": []
   },
   "source": [
    "# Preprocessing Data"
   ]
  },
  {
   "cell_type": "code",
   "execution_count": 29,
   "id": "ca879031",
   "metadata": {
    "execution": {
     "iopub.execute_input": "2025-07-30T19:52:00.456211Z",
     "iopub.status.busy": "2025-07-30T19:52:00.455191Z",
     "iopub.status.idle": "2025-07-30T19:52:00.462153Z",
     "shell.execute_reply": "2025-07-30T19:52:00.461080Z"
    },
    "papermill": {
     "duration": 0.031546,
     "end_time": "2025-07-30T19:52:00.464046",
     "exception": false,
     "start_time": "2025-07-30T19:52:00.432500",
     "status": "completed"
    },
    "tags": []
   },
   "outputs": [],
   "source": [
    "# EXCLUDE PROTECTED FEATURES\n",
    "# ----------------------\n",
    "# \"exclude_features\": \"none\", # \"nationality\", \"sex\", \"nationality-sex\"\n",
    "\n",
    "excluded_features = universe[\"exclude_features\"].split(\"-\") # split, e.g.: \"nationality-sex\" -> [\"nationality\", \"sex\"]\n",
    "excluded_features_dictionary = {\n",
    "    \"nationality\": [\"maxdeutsch1\", \"maxdeutsch.Missing.\"],\n",
    "    \"sex\": [\"frau1\"],\n",
    "    \"age\": [\"age\"],\n",
    "}\n"
   ]
  },
  {
   "cell_type": "code",
   "execution_count": 30,
   "id": "b745ac60",
   "metadata": {
    "execution": {
     "iopub.execute_input": "2025-07-30T19:52:00.512462Z",
     "iopub.status.busy": "2025-07-30T19:52:00.511608Z",
     "iopub.status.idle": "2025-07-30T19:52:00.517339Z",
     "shell.execute_reply": "2025-07-30T19:52:00.516307Z"
    },
    "papermill": {
     "duration": 0.032808,
     "end_time": "2025-07-30T19:52:00.521250",
     "exception": false,
     "start_time": "2025-07-30T19:52:00.488442",
     "status": "completed"
    },
    "tags": []
   },
   "outputs": [],
   "source": [
    "# Code nice names to column names\n",
    "\n",
    "excluded_features_columns = [\n",
    "    excluded_features_dictionary[f] for f in excluded_features if len(f) > 0 and f != \"none\"\n",
    "]"
   ]
  },
  {
   "cell_type": "code",
   "execution_count": 31,
   "id": "f84f73a2",
   "metadata": {
    "execution": {
     "iopub.execute_input": "2025-07-30T19:52:00.566470Z",
     "iopub.status.busy": "2025-07-30T19:52:00.566104Z",
     "iopub.status.idle": "2025-07-30T19:52:00.571639Z",
     "shell.execute_reply": "2025-07-30T19:52:00.570810Z"
    },
    "papermill": {
     "duration": 0.027927,
     "end_time": "2025-07-30T19:52:00.573289",
     "exception": false,
     "start_time": "2025-07-30T19:52:00.545362",
     "status": "completed"
    },
    "tags": []
   },
   "outputs": [],
   "source": [
    "from utils import flatten_once\n",
    "\n",
    "excluded_features_columns = flatten_once(excluded_features_columns)"
   ]
  },
  {
   "cell_type": "code",
   "execution_count": 32,
   "id": "884dea22",
   "metadata": {
    "execution": {
     "iopub.execute_input": "2025-07-30T19:52:00.615024Z",
     "iopub.status.busy": "2025-07-30T19:52:00.614541Z",
     "iopub.status.idle": "2025-07-30T19:52:00.630581Z",
     "shell.execute_reply": "2025-07-30T19:52:00.629659Z"
    },
    "papermill": {
     "duration": 0.0424,
     "end_time": "2025-07-30T19:52:00.632401",
     "exception": false,
     "start_time": "2025-07-30T19:52:00.590001",
     "status": "completed"
    },
    "tags": []
   },
   "outputs": [
    {
     "name": "stdout",
     "output_type": "stream",
     "text": [
      "Dropping features: ['age']\n"
     ]
    }
   ],
   "source": [
    "if len(excluded_features_columns) > 0:\n",
    "    print(f\"Dropping features: {excluded_features_columns}\")\n",
    "    X_train.drop(excluded_features_columns, axis=1, inplace=True)"
   ]
  },
  {
   "cell_type": "code",
   "execution_count": 33,
   "id": "95ab8b16",
   "metadata": {
    "execution": {
     "iopub.execute_input": "2025-07-30T19:52:00.681591Z",
     "iopub.status.busy": "2025-07-30T19:52:00.681175Z",
     "iopub.status.idle": "2025-07-30T19:52:00.740468Z",
     "shell.execute_reply": "2025-07-30T19:52:00.739389Z"
    },
    "papermill": {
     "duration": 0.087135,
     "end_time": "2025-07-30T19:52:00.742811",
     "exception": false,
     "start_time": "2025-07-30T19:52:00.655676",
     "status": "completed"
    },
    "tags": []
   },
   "outputs": [
    {
     "name": "stdout",
     "output_type": "stream",
     "text": [
      "Dropping features: ['age']\n"
     ]
    }
   ],
   "source": [
    "if len(excluded_features_columns) > 0:\n",
    "    print(f\"Dropping features: {excluded_features_columns}\")\n",
    "    X_test.drop(excluded_features_columns, axis=1, inplace=True)"
   ]
  },
  {
   "cell_type": "code",
   "execution_count": 34,
   "id": "1853aaf5-fb9f-46cb-a2b5-8ea4ae2237e4",
   "metadata": {
    "execution": {
     "iopub.execute_input": "2025-07-30T19:52:00.794610Z",
     "iopub.status.busy": "2025-07-30T19:52:00.794072Z",
     "iopub.status.idle": "2025-07-30T19:52:00.867275Z",
     "shell.execute_reply": "2025-07-30T19:52:00.866066Z"
    },
    "papermill": {
     "duration": 0.105305,
     "end_time": "2025-07-30T19:52:00.873144",
     "exception": false,
     "start_time": "2025-07-30T19:52:00.767839",
     "status": "completed"
    },
    "tags": []
   },
   "outputs": [
    {
     "name": "stdout",
     "output_type": "stream",
     "text": [
      "Dropping features: ['age']\n"
     ]
    }
   ],
   "source": [
    "if len(excluded_features_columns) > 0:\n",
    "    print(f\"Dropping features: {excluded_features_columns}\")\n",
    "    X_calib.drop(excluded_features_columns, axis=1, inplace=True)"
   ]
  },
  {
   "cell_type": "code",
   "execution_count": 35,
   "id": "6727d079-03e5-481e-9d38-292a90b7a0a8",
   "metadata": {
    "execution": {
     "iopub.execute_input": "2025-07-30T19:52:00.922047Z",
     "iopub.status.busy": "2025-07-30T19:52:00.921483Z",
     "iopub.status.idle": "2025-07-30T19:52:00.927021Z",
     "shell.execute_reply": "2025-07-30T19:52:00.925980Z"
    },
    "papermill": {
     "duration": 0.030678,
     "end_time": "2025-07-30T19:52:00.929046",
     "exception": false,
     "start_time": "2025-07-30T19:52:00.898368",
     "status": "completed"
    },
    "tags": []
   },
   "outputs": [],
   "source": [
    "# SPLIT & STRATIFY DATA\n",
    "# ----------------------"
   ]
  },
  {
   "cell_type": "code",
   "execution_count": 36,
   "id": "76c4dc6d",
   "metadata": {
    "execution": {
     "iopub.execute_input": "2025-07-30T19:52:00.979758Z",
     "iopub.status.busy": "2025-07-30T19:52:00.979325Z",
     "iopub.status.idle": "2025-07-30T19:52:00.984791Z",
     "shell.execute_reply": "2025-07-30T19:52:00.983634Z"
    },
    "papermill": {
     "duration": 0.031665,
     "end_time": "2025-07-30T19:52:00.986257",
     "exception": false,
     "start_time": "2025-07-30T19:52:00.954592",
     "status": "completed"
    },
    "tags": []
   },
   "outputs": [],
   "source": [
    "# EXCLUDE CERTAIN SUBGROUPS\n",
    "# ----------------------\n",
    "\n",
    "mode = universe.get(\"exclude_subgroups\", \"keep-all\") \n",
    "# Fetches the exclude_subgroups setting from the universe dict.\n",
    "# Defaults to \"keep-all\" if the key is missing."
   ]
  },
  {
   "cell_type": "code",
   "execution_count": 37,
   "id": "21994072",
   "metadata": {
    "execution": {
     "iopub.execute_input": "2025-07-30T19:52:01.038343Z",
     "iopub.status.busy": "2025-07-30T19:52:01.037912Z",
     "iopub.status.idle": "2025-07-30T19:52:01.044175Z",
     "shell.execute_reply": "2025-07-30T19:52:01.043079Z"
    },
    "papermill": {
     "duration": 0.034371,
     "end_time": "2025-07-30T19:52:01.046391",
     "exception": false,
     "start_time": "2025-07-30T19:52:01.012020",
     "status": "completed"
    },
    "tags": []
   },
   "outputs": [],
   "source": [
    "if mode == \"keep-all\":\n",
    "    keep_mask = pd.Series(True, index=org_train.index)\n",
    "\n",
    "# org_train contains the original feature columns from features_org (in Simson)\n",
    "# features_org contains unprocessed features, for me X_train at beginning ???\n",
    "# For keep-all, creates a boolean Series (keep_mask) of all True, so no rows are removed.\n",
    "\n",
    "elif mode == \"drop-non-german\":\n",
    "    keep_mask = org_train[\"maxdeutsch1\"] == 1 # ??? what about missing values?\n",
    "\n",
    "else:\n",
    "    raise ValueError(f\"Unsupported mode for exclude_subgroups: {mode}\")\n"
   ]
  },
  {
   "cell_type": "code",
   "execution_count": 38,
   "id": "71651440",
   "metadata": {
    "execution": {
     "iopub.execute_input": "2025-07-30T19:52:01.101086Z",
     "iopub.status.busy": "2025-07-30T19:52:01.100572Z",
     "iopub.status.idle": "2025-07-30T19:52:01.107528Z",
     "shell.execute_reply": "2025-07-30T19:52:01.106549Z"
    },
    "papermill": {
     "duration": 0.035546,
     "end_time": "2025-07-30T19:52:01.109404",
     "exception": false,
     "start_time": "2025-07-30T19:52:01.073858",
     "status": "completed"
    },
    "tags": []
   },
   "outputs": [],
   "source": [
    "n_drop = (~keep_mask).sum() # Calculates how many rows are set to be dropped\n",
    "if n_drop > 0:\n",
    "    pct = n_drop / len(keep_mask) * 100\n",
    "    print(f\"Dropping {n_drop} rows ({pct:.2f}%) where mode='{mode}'\")"
   ]
  },
  {
   "cell_type": "code",
   "execution_count": 39,
   "id": "5fb8eee5",
   "metadata": {
    "execution": {
     "iopub.execute_input": "2025-07-30T19:52:01.159695Z",
     "iopub.status.busy": "2025-07-30T19:52:01.159181Z",
     "iopub.status.idle": "2025-07-30T19:52:01.174476Z",
     "shell.execute_reply": "2025-07-30T19:52:01.173423Z"
    },
    "papermill": {
     "duration": 0.041816,
     "end_time": "2025-07-30T19:52:01.176747",
     "exception": false,
     "start_time": "2025-07-30T19:52:01.134931",
     "status": "completed"
    },
    "tags": []
   },
   "outputs": [],
   "source": [
    "X_train = X_train[keep_mask]"
   ]
  },
  {
   "cell_type": "code",
   "execution_count": 40,
   "id": "b202bb3a",
   "metadata": {
    "execution": {
     "iopub.execute_input": "2025-07-30T19:52:01.218048Z",
     "iopub.status.busy": "2025-07-30T19:52:01.217483Z",
     "iopub.status.idle": "2025-07-30T19:52:01.223255Z",
     "shell.execute_reply": "2025-07-30T19:52:01.222468Z"
    },
    "papermill": {
     "duration": 0.022272,
     "end_time": "2025-07-30T19:52:01.224678",
     "exception": false,
     "start_time": "2025-07-30T19:52:01.202406",
     "status": "completed"
    },
    "tags": []
   },
   "outputs": [],
   "source": [
    "y_train = y_train[keep_mask]"
   ]
  },
  {
   "cell_type": "markdown",
   "id": "493e2ac3",
   "metadata": {
    "papermill": {
     "duration": 0.011734,
     "end_time": "2025-07-30T19:52:01.249511",
     "exception": false,
     "start_time": "2025-07-30T19:52:01.237777",
     "status": "completed"
    },
    "tags": []
   },
   "source": [
    "# Model Training"
   ]
  },
  {
   "cell_type": "code",
   "execution_count": 41,
   "id": "679e1268",
   "metadata": {
    "execution": {
     "iopub.execute_input": "2025-07-30T19:52:01.274203Z",
     "iopub.status.busy": "2025-07-30T19:52:01.273856Z",
     "iopub.status.idle": "2025-07-30T19:52:01.380697Z",
     "shell.execute_reply": "2025-07-30T19:52:01.379550Z"
    },
    "papermill": {
     "duration": 0.121584,
     "end_time": "2025-07-30T19:52:01.382643",
     "exception": false,
     "start_time": "2025-07-30T19:52:01.261059",
     "status": "completed"
    },
    "tags": []
   },
   "outputs": [],
   "source": [
    "from sklearn.linear_model import LogisticRegression\n",
    "from sklearn.ensemble import GradientBoostingClassifier, RandomForestClassifier\n",
    "\n",
    "if (universe[\"model\"] == \"logreg\"):\n",
    "    model = LogisticRegression() #penalty=\"none\") #, solver=\"newton-cg\", max_iter=1) # include random_state=19 ?\n",
    "elif (universe[\"model\"] == \"penalized_logreg\"):\n",
    "    model = LogisticRegression(penalty=\"l2\", C=1.0) #, solver=\"newton-cg\", max_iter=1)\n",
    "elif (universe[\"model\"] == \"rf\"):\n",
    "    model = RandomForestClassifier(n_estimators=100, n_jobs=-1)\n",
    "elif (universe[\"model\"] == \"gbm\"):\n",
    "    model = GradientBoostingClassifier()\n",
    "elif (universe[\"model\"] == \"elasticnet\"):\n",
    "    model = LogisticRegression(penalty = 'elasticnet', solver = 'saga', l1_ratio = 0.5, max_iter=5000) # which solver to use?\n",
    "else:\n",
    "    raise \"Unsupported universe.model\""
   ]
  },
  {
   "cell_type": "code",
   "execution_count": 42,
   "id": "0cc8f744",
   "metadata": {
    "execution": {
     "iopub.execute_input": "2025-07-30T19:52:01.421470Z",
     "iopub.status.busy": "2025-07-30T19:52:01.421050Z",
     "iopub.status.idle": "2025-07-30T19:52:01.427915Z",
     "shell.execute_reply": "2025-07-30T19:52:01.426921Z"
    },
    "papermill": {
     "duration": 0.028496,
     "end_time": "2025-07-30T19:52:01.429942",
     "exception": false,
     "start_time": "2025-07-30T19:52:01.401446",
     "status": "completed"
    },
    "tags": []
   },
   "outputs": [],
   "source": [
    "import numpy as np\n",
    "from sklearn.pipeline import Pipeline\n",
    "from sklearn.preprocessing import StandardScaler\n",
    "\n",
    "model = Pipeline([\n",
    "    #(\"continuous_processor\", continuous_processor),\n",
    "    #(\"categorical_preprocessor\", categorical_preprocessor),\n",
    "    (\"scale\", StandardScaler() if universe[\"scale\"] == \"scale\" else None), \n",
    "    (\"model\", model),\n",
    "])"
   ]
  },
  {
   "cell_type": "code",
   "execution_count": 43,
   "id": "9442c04d",
   "metadata": {
    "execution": {
     "iopub.execute_input": "2025-07-30T19:52:01.480340Z",
     "iopub.status.busy": "2025-07-30T19:52:01.479790Z",
     "iopub.status.idle": "2025-07-30T19:52:02.605787Z",
     "shell.execute_reply": "2025-07-30T19:52:02.604614Z"
    },
    "papermill": {
     "duration": 1.153584,
     "end_time": "2025-07-30T19:52:02.608135",
     "exception": false,
     "start_time": "2025-07-30T19:52:01.454551",
     "status": "completed"
    },
    "tags": []
   },
   "outputs": [
    {
     "name": "stderr",
     "output_type": "stream",
     "text": [
      "/dss/dsshome1/0C/ra93lal2/.local/share/virtualenvs/CMA_Fairness_v2-3j10GkSs/lib/python3.10/site-packages/sklearn/linear_model/_logistic.py:444: ConvergenceWarning: lbfgs failed to converge (status=1):\n",
      "STOP: TOTAL NO. of ITERATIONS REACHED LIMIT.\n",
      "\n",
      "Increase the number of iterations (max_iter) or scale the data as shown in:\n",
      "    https://scikit-learn.org/stable/modules/preprocessing.html\n",
      "Please also refer to the documentation for alternative solver options:\n",
      "    https://scikit-learn.org/stable/modules/linear_model.html#logistic-regression\n",
      "  n_iter_i = _check_optimize_result(\n"
     ]
    },
    {
     "data": {
      "text/html": [
       "<style>#sk-container-id-1 {color: black;background-color: white;}#sk-container-id-1 pre{padding: 0;}#sk-container-id-1 div.sk-toggleable {background-color: white;}#sk-container-id-1 label.sk-toggleable__label {cursor: pointer;display: block;width: 100%;margin-bottom: 0;padding: 0.3em;box-sizing: border-box;text-align: center;}#sk-container-id-1 label.sk-toggleable__label-arrow:before {content: \"▸\";float: left;margin-right: 0.25em;color: #696969;}#sk-container-id-1 label.sk-toggleable__label-arrow:hover:before {color: black;}#sk-container-id-1 div.sk-estimator:hover label.sk-toggleable__label-arrow:before {color: black;}#sk-container-id-1 div.sk-toggleable__content {max-height: 0;max-width: 0;overflow: hidden;text-align: left;background-color: #f0f8ff;}#sk-container-id-1 div.sk-toggleable__content pre {margin: 0.2em;color: black;border-radius: 0.25em;background-color: #f0f8ff;}#sk-container-id-1 input.sk-toggleable__control:checked~div.sk-toggleable__content {max-height: 200px;max-width: 100%;overflow: auto;}#sk-container-id-1 input.sk-toggleable__control:checked~label.sk-toggleable__label-arrow:before {content: \"▾\";}#sk-container-id-1 div.sk-estimator input.sk-toggleable__control:checked~label.sk-toggleable__label {background-color: #d4ebff;}#sk-container-id-1 div.sk-label input.sk-toggleable__control:checked~label.sk-toggleable__label {background-color: #d4ebff;}#sk-container-id-1 input.sk-hidden--visually {border: 0;clip: rect(1px 1px 1px 1px);clip: rect(1px, 1px, 1px, 1px);height: 1px;margin: -1px;overflow: hidden;padding: 0;position: absolute;width: 1px;}#sk-container-id-1 div.sk-estimator {font-family: monospace;background-color: #f0f8ff;border: 1px dotted black;border-radius: 0.25em;box-sizing: border-box;margin-bottom: 0.5em;}#sk-container-id-1 div.sk-estimator:hover {background-color: #d4ebff;}#sk-container-id-1 div.sk-parallel-item::after {content: \"\";width: 100%;border-bottom: 1px solid gray;flex-grow: 1;}#sk-container-id-1 div.sk-label:hover label.sk-toggleable__label {background-color: #d4ebff;}#sk-container-id-1 div.sk-serial::before {content: \"\";position: absolute;border-left: 1px solid gray;box-sizing: border-box;top: 0;bottom: 0;left: 50%;z-index: 0;}#sk-container-id-1 div.sk-serial {display: flex;flex-direction: column;align-items: center;background-color: white;padding-right: 0.2em;padding-left: 0.2em;position: relative;}#sk-container-id-1 div.sk-item {position: relative;z-index: 1;}#sk-container-id-1 div.sk-parallel {display: flex;align-items: stretch;justify-content: center;background-color: white;position: relative;}#sk-container-id-1 div.sk-item::before, #sk-container-id-1 div.sk-parallel-item::before {content: \"\";position: absolute;border-left: 1px solid gray;box-sizing: border-box;top: 0;bottom: 0;left: 50%;z-index: -1;}#sk-container-id-1 div.sk-parallel-item {display: flex;flex-direction: column;z-index: 1;position: relative;background-color: white;}#sk-container-id-1 div.sk-parallel-item:first-child::after {align-self: flex-end;width: 50%;}#sk-container-id-1 div.sk-parallel-item:last-child::after {align-self: flex-start;width: 50%;}#sk-container-id-1 div.sk-parallel-item:only-child::after {width: 0;}#sk-container-id-1 div.sk-dashed-wrapped {border: 1px dashed gray;margin: 0 0.4em 0.5em 0.4em;box-sizing: border-box;padding-bottom: 0.4em;background-color: white;}#sk-container-id-1 div.sk-label label {font-family: monospace;font-weight: bold;display: inline-block;line-height: 1.2em;}#sk-container-id-1 div.sk-label-container {text-align: center;}#sk-container-id-1 div.sk-container {/* jupyter's `normalize.less` sets `[hidden] { display: none; }` but bootstrap.min.css set `[hidden] { display: none !important; }` so we also need the `!important` here to be able to override the default hidden behavior on the sphinx rendered scikit-learn.org. See: https://github.com/scikit-learn/scikit-learn/issues/21755 */display: inline-block !important;position: relative;}#sk-container-id-1 div.sk-text-repr-fallback {display: none;}</style><div id=\"sk-container-id-1\" class=\"sk-top-container\"><div class=\"sk-text-repr-fallback\"><pre>Pipeline(steps=[(&#x27;scale&#x27;, StandardScaler()), (&#x27;model&#x27;, LogisticRegression())])</pre><b>In a Jupyter environment, please rerun this cell to show the HTML representation or trust the notebook. <br />On GitHub, the HTML representation is unable to render, please try loading this page with nbviewer.org.</b></div><div class=\"sk-container\" hidden><div class=\"sk-item sk-dashed-wrapped\"><div class=\"sk-label-container\"><div class=\"sk-label sk-toggleable\"><input class=\"sk-toggleable__control sk-hidden--visually\" id=\"sk-estimator-id-1\" type=\"checkbox\" ><label for=\"sk-estimator-id-1\" class=\"sk-toggleable__label sk-toggleable__label-arrow\">Pipeline</label><div class=\"sk-toggleable__content\"><pre>Pipeline(steps=[(&#x27;scale&#x27;, StandardScaler()), (&#x27;model&#x27;, LogisticRegression())])</pre></div></div></div><div class=\"sk-serial\"><div class=\"sk-item\"><div class=\"sk-estimator sk-toggleable\"><input class=\"sk-toggleable__control sk-hidden--visually\" id=\"sk-estimator-id-2\" type=\"checkbox\" ><label for=\"sk-estimator-id-2\" class=\"sk-toggleable__label sk-toggleable__label-arrow\">StandardScaler</label><div class=\"sk-toggleable__content\"><pre>StandardScaler()</pre></div></div></div><div class=\"sk-item\"><div class=\"sk-estimator sk-toggleable\"><input class=\"sk-toggleable__control sk-hidden--visually\" id=\"sk-estimator-id-3\" type=\"checkbox\" ><label for=\"sk-estimator-id-3\" class=\"sk-toggleable__label sk-toggleable__label-arrow\">LogisticRegression</label><div class=\"sk-toggleable__content\"><pre>LogisticRegression()</pre></div></div></div></div></div></div></div>"
      ],
      "text/plain": [
       "Pipeline(steps=[('scale', StandardScaler()), ('model', LogisticRegression())])"
      ]
     },
     "execution_count": 43,
     "metadata": {},
     "output_type": "execute_result"
    }
   ],
   "source": [
    "model.fit(X_train, y_train.values.ravel())"
   ]
  },
  {
   "cell_type": "code",
   "execution_count": 44,
   "id": "af59f8c0",
   "metadata": {
    "execution": {
     "iopub.execute_input": "2025-07-30T19:52:02.670961Z",
     "iopub.status.busy": "2025-07-30T19:52:02.670113Z",
     "iopub.status.idle": "2025-07-30T19:52:02.677856Z",
     "shell.execute_reply": "2025-07-30T19:52:02.676545Z"
    },
    "papermill": {
     "duration": 0.042053,
     "end_time": "2025-07-30T19:52:02.680447",
     "exception": false,
     "start_time": "2025-07-30T19:52:02.638394",
     "status": "completed"
    },
    "tags": []
   },
   "outputs": [],
   "source": [
    "from fairness_multiverse.universe import predict_w_threshold"
   ]
  },
  {
   "cell_type": "code",
   "execution_count": 45,
   "id": "a7cf2e16",
   "metadata": {
    "execution": {
     "iopub.execute_input": "2025-07-30T19:52:02.745717Z",
     "iopub.status.busy": "2025-07-30T19:52:02.745169Z",
     "iopub.status.idle": "2025-07-30T19:52:02.997989Z",
     "shell.execute_reply": "2025-07-30T19:52:02.996776Z"
    },
    "papermill": {
     "duration": 0.291524,
     "end_time": "2025-07-30T19:52:03.000783",
     "exception": false,
     "start_time": "2025-07-30T19:52:02.709259",
     "status": "completed"
    },
    "tags": []
   },
   "outputs": [
    {
     "data": {
      "text/plain": [
       "0.8647865343885854"
      ]
     },
     "execution_count": 45,
     "metadata": {},
     "output_type": "execute_result"
    }
   ],
   "source": [
    "probs_test = model.predict_proba(X_test)\n",
    "\n",
    "'''\n",
    "Below code returns a boolean array (or binary 0/1 array depending on how it’s used) where each element \n",
    "is True if the probability of class 1 is greater than or equal to the threshold, and False otherwise.\n",
    "'''\n",
    "y_pred_default = predict_w_threshold(probs_test, 0.5)\n",
    "\n",
    "from sklearn.metrics import accuracy_score\n",
    "\n",
    "# Naive prediction\n",
    "accuracy_score(y_true = y_true, y_pred = y_pred_default)"
   ]
  },
  {
   "cell_type": "code",
   "execution_count": 46,
   "id": "081964c3",
   "metadata": {
    "execution": {
     "iopub.execute_input": "2025-07-30T19:52:03.074191Z",
     "iopub.status.busy": "2025-07-30T19:52:03.073671Z",
     "iopub.status.idle": "2025-07-30T19:52:03.314142Z",
     "shell.execute_reply": "2025-07-30T19:52:03.312986Z"
    },
    "papermill": {
     "duration": 0.279987,
     "end_time": "2025-07-30T19:52:03.316663",
     "exception": false,
     "start_time": "2025-07-30T19:52:03.036676",
     "status": "completed"
    },
    "tags": []
   },
   "outputs": [
    {
     "data": {
      "text/plain": [
       "array([0, 0, 0, ..., 0, 0, 0])"
      ]
     },
     "execution_count": 46,
     "metadata": {},
     "output_type": "execute_result"
    }
   ],
   "source": [
    "model.predict(X_test)"
   ]
  },
  {
   "cell_type": "markdown",
   "id": "56c9705b",
   "metadata": {
    "papermill": {
     "duration": 0.028287,
     "end_time": "2025-07-30T19:52:03.399468",
     "exception": false,
     "start_time": "2025-07-30T19:52:03.371181",
     "status": "completed"
    },
    "tags": []
   },
   "source": [
    "# Conformal Prediction"
   ]
  },
  {
   "cell_type": "code",
   "execution_count": 47,
   "id": "160ec6ff",
   "metadata": {
    "execution": {
     "iopub.execute_input": "2025-07-30T19:52:03.457143Z",
     "iopub.status.busy": "2025-07-30T19:52:03.456651Z",
     "iopub.status.idle": "2025-07-30T19:52:03.462661Z",
     "shell.execute_reply": "2025-07-30T19:52:03.461612Z"
    },
    "papermill": {
     "duration": 0.037687,
     "end_time": "2025-07-30T19:52:03.464943",
     "exception": false,
     "start_time": "2025-07-30T19:52:03.427256",
     "status": "completed"
    },
    "tags": []
   },
   "outputs": [],
   "source": [
    "# Miscoverage level for conformal prediction (10% allowed error rate => 90% target coverage)\n",
    "alpha = 0.1"
   ]
  },
  {
   "cell_type": "code",
   "execution_count": 48,
   "id": "eadf4555-3dd3-440e-8e35-f82a4ad9f855",
   "metadata": {
    "execution": {
     "iopub.execute_input": "2025-07-30T19:52:03.529898Z",
     "iopub.status.busy": "2025-07-30T19:52:03.529466Z",
     "iopub.status.idle": "2025-07-30T19:52:03.781697Z",
     "shell.execute_reply": "2025-07-30T19:52:03.780963Z"
    },
    "papermill": {
     "duration": 0.290654,
     "end_time": "2025-07-30T19:52:03.783630",
     "exception": false,
     "start_time": "2025-07-30T19:52:03.492976",
     "status": "completed"
    },
    "tags": []
   },
   "outputs": [],
   "source": [
    "probs_calib = model.predict_proba(X_calib)"
   ]
  },
  {
   "cell_type": "code",
   "execution_count": 49,
   "id": "2ed93547-6d5d-4983-9b36-1ecb300da49a",
   "metadata": {
    "execution": {
     "iopub.execute_input": "2025-07-30T19:52:03.845565Z",
     "iopub.status.busy": "2025-07-30T19:52:03.844854Z",
     "iopub.status.idle": "2025-07-30T19:52:03.850945Z",
     "shell.execute_reply": "2025-07-30T19:52:03.850024Z"
    },
    "papermill": {
     "duration": 0.036965,
     "end_time": "2025-07-30T19:52:03.852903",
     "exception": false,
     "start_time": "2025-07-30T19:52:03.815938",
     "status": "completed"
    },
    "tags": []
   },
   "outputs": [],
   "source": [
    "y_calib = y_calib.values.ravel().astype(int)"
   ]
  },
  {
   "cell_type": "code",
   "execution_count": 50,
   "id": "65d1320d-f588-4b38-9072-62af1ae97f7d",
   "metadata": {
    "execution": {
     "iopub.execute_input": "2025-07-30T19:52:03.926072Z",
     "iopub.status.busy": "2025-07-30T19:52:03.925425Z",
     "iopub.status.idle": "2025-07-30T19:52:03.935244Z",
     "shell.execute_reply": "2025-07-30T19:52:03.933936Z"
    },
    "papermill": {
     "duration": 0.050379,
     "end_time": "2025-07-30T19:52:03.938047",
     "exception": false,
     "start_time": "2025-07-30T19:52:03.887668",
     "status": "completed"
    },
    "tags": []
   },
   "outputs": [],
   "source": [
    "from fairness_multiverse.conformal import compute_nc_scores\n",
    "\n",
    "# Compute nonconformity scores on calibration set (1 - probability of true class)\n",
    "nc_scores = compute_nc_scores(probs_calib, y_calib)"
   ]
  },
  {
   "cell_type": "code",
   "execution_count": 51,
   "id": "df3b8ca3-53b7-43d5-9667-7c85da7aeda2",
   "metadata": {
    "execution": {
     "iopub.execute_input": "2025-07-30T19:52:04.009564Z",
     "iopub.status.busy": "2025-07-30T19:52:04.008942Z",
     "iopub.status.idle": "2025-07-30T19:52:04.017748Z",
     "shell.execute_reply": "2025-07-30T19:52:04.016282Z"
    },
    "papermill": {
     "duration": 0.047928,
     "end_time": "2025-07-30T19:52:04.020659",
     "exception": false,
     "start_time": "2025-07-30T19:52:03.972731",
     "status": "completed"
    },
    "tags": []
   },
   "outputs": [],
   "source": [
    "from fairness_multiverse.conformal import find_threshold\n",
    "\n",
    "# Find conformal threshold q_hat for the given alpha (split conformal method)\n",
    "q_hat = find_threshold(nc_scores, alpha)"
   ]
  },
  {
   "cell_type": "code",
   "execution_count": 52,
   "id": "4d29e6c1-0ef6-4aa4-b8fe-4fe79b0d033a",
   "metadata": {
    "execution": {
     "iopub.execute_input": "2025-07-30T19:52:04.062070Z",
     "iopub.status.busy": "2025-07-30T19:52:04.061299Z",
     "iopub.status.idle": "2025-07-30T19:52:04.070468Z",
     "shell.execute_reply": "2025-07-30T19:52:04.069224Z"
    },
    "papermill": {
     "duration": 0.025942,
     "end_time": "2025-07-30T19:52:04.072436",
     "exception": false,
     "start_time": "2025-07-30T19:52:04.046494",
     "status": "completed"
    },
    "tags": []
   },
   "outputs": [
    {
     "data": {
      "text/plain": [
       "0.6781012766621138"
      ]
     },
     "execution_count": 52,
     "metadata": {},
     "output_type": "execute_result"
    }
   ],
   "source": [
    "q_hat"
   ]
  },
  {
   "cell_type": "code",
   "execution_count": 53,
   "id": "92460794-cdac-4be2-ba28-f28c0515a6fb",
   "metadata": {
    "execution": {
     "iopub.execute_input": "2025-07-30T19:52:04.130040Z",
     "iopub.status.busy": "2025-07-30T19:52:04.128641Z",
     "iopub.status.idle": "2025-07-30T19:52:04.879841Z",
     "shell.execute_reply": "2025-07-30T19:52:04.879056Z"
    },
    "papermill": {
     "duration": 0.78054,
     "end_time": "2025-07-30T19:52:04.881363",
     "exception": false,
     "start_time": "2025-07-30T19:52:04.100823",
     "status": "completed"
    },
    "tags": []
   },
   "outputs": [],
   "source": [
    "from fairness_multiverse.conformal import predict_conformal_sets\n",
    "\n",
    "# Generate prediction sets for each test example\n",
    "pred_sets = predict_conformal_sets(model, X_test, q_hat)"
   ]
  },
  {
   "cell_type": "code",
   "execution_count": 54,
   "id": "d90c9a65-e6db-4f5d-80cd-e68fb7e46829",
   "metadata": {
    "execution": {
     "iopub.execute_input": "2025-07-30T19:52:04.909744Z",
     "iopub.status.busy": "2025-07-30T19:52:04.909216Z",
     "iopub.status.idle": "2025-07-30T19:52:04.915364Z",
     "shell.execute_reply": "2025-07-30T19:52:04.914167Z"
    },
    "papermill": {
     "duration": 0.02282,
     "end_time": "2025-07-30T19:52:04.917899",
     "exception": false,
     "start_time": "2025-07-30T19:52:04.895079",
     "status": "completed"
    },
    "tags": []
   },
   "outputs": [],
   "source": [
    "y_true = y_true.squeeze()"
   ]
  },
  {
   "cell_type": "code",
   "execution_count": 55,
   "id": "3a58a54a-1e68-46b9-927a-df01f18aebc8",
   "metadata": {
    "execution": {
     "iopub.execute_input": "2025-07-30T19:52:04.983170Z",
     "iopub.status.busy": "2025-07-30T19:52:04.982665Z",
     "iopub.status.idle": "2025-07-30T19:52:05.983008Z",
     "shell.execute_reply": "2025-07-30T19:52:05.981589Z"
    },
    "papermill": {
     "duration": 1.033353,
     "end_time": "2025-07-30T19:52:05.985307",
     "exception": false,
     "start_time": "2025-07-30T19:52:04.951954",
     "status": "completed"
    },
    "tags": []
   },
   "outputs": [],
   "source": [
    "from fairness_multiverse.conformal import evaluate_sets\n",
    "\n",
    "# Evaluate coverage and average set size on test data\n",
    "metrics = evaluate_sets(pred_sets, y_true)"
   ]
  },
  {
   "cell_type": "markdown",
   "id": "2b569c12-9aaa-4c88-98c9-bbcd0cf3ebb8",
   "metadata": {
    "papermill": {
     "duration": 0.012926,
     "end_time": "2025-07-30T19:52:06.016646",
     "exception": false,
     "start_time": "2025-07-30T19:52:06.003720",
     "status": "completed"
    },
    "tags": []
   },
   "source": [
    "# CP Metrics"
   ]
  },
  {
   "cell_type": "code",
   "execution_count": 56,
   "id": "5ce0a5cb-201f-45a0-ade5-94c7f0bd6095",
   "metadata": {
    "execution": {
     "iopub.execute_input": "2025-07-30T19:52:06.051404Z",
     "iopub.status.busy": "2025-07-30T19:52:06.050933Z",
     "iopub.status.idle": "2025-07-30T19:52:06.058635Z",
     "shell.execute_reply": "2025-07-30T19:52:06.057617Z"
    },
    "papermill": {
     "duration": 0.036136,
     "end_time": "2025-07-30T19:52:06.066447",
     "exception": false,
     "start_time": "2025-07-30T19:52:06.030311",
     "status": "completed"
    },
    "tags": []
   },
   "outputs": [
    {
     "data": {
      "text/plain": [
       "{'coverage': 0.9124846728346896, 'avg_size': 1.1268308995652658}"
      ]
     },
     "execution_count": 56,
     "metadata": {},
     "output_type": "execute_result"
    }
   ],
   "source": [
    "metrics"
   ]
  },
  {
   "cell_type": "code",
   "execution_count": 57,
   "id": "9b9a838d-31c9-430b-ae14-12baee460d17",
   "metadata": {
    "execution": {
     "iopub.execute_input": "2025-07-30T19:52:06.114415Z",
     "iopub.status.busy": "2025-07-30T19:52:06.113988Z",
     "iopub.status.idle": "2025-07-30T19:52:06.120537Z",
     "shell.execute_reply": "2025-07-30T19:52:06.119467Z"
    },
    "papermill": {
     "duration": 0.030007,
     "end_time": "2025-07-30T19:52:06.122533",
     "exception": false,
     "start_time": "2025-07-30T19:52:06.092526",
     "status": "completed"
    },
    "tags": []
   },
   "outputs": [],
   "source": [
    "example_universe = universe.copy()\n",
    "universe_training_year = example_universe.get(\"training_year\")\n",
    "universe_training_size = example_universe.get(\"training_size\")\n",
    "universe_scale = example_universe.get(\"scale\")\n",
    "universe_model = example_universe.get(\"model\")\n",
    "universe_exclude_features = example_universe.get(\"exclude_features\")\n",
    "universe_exclude_subgroups = example_universe.get(\"exclude_subgroups\")"
   ]
  },
  {
   "cell_type": "code",
   "execution_count": 58,
   "id": "f4b6a8ac-9dc0-4245-8a91-5b3b5999c4f9",
   "metadata": {
    "execution": {
     "iopub.execute_input": "2025-07-30T19:52:06.167412Z",
     "iopub.status.busy": "2025-07-30T19:52:06.167119Z",
     "iopub.status.idle": "2025-07-30T19:52:06.172545Z",
     "shell.execute_reply": "2025-07-30T19:52:06.171568Z"
    },
    "papermill": {
     "duration": 0.023958,
     "end_time": "2025-07-30T19:52:06.174346",
     "exception": false,
     "start_time": "2025-07-30T19:52:06.150388",
     "status": "completed"
    },
    "tags": []
   },
   "outputs": [],
   "source": [
    "cp_metrics_dict = {\n",
    "    \"universe_id\": [universe_id],\n",
    "    \"universe_training_year\": [universe_training_year],\n",
    "    \"universe_training_size\": [universe_training_size],\n",
    "    \"universe_scale\": [universe_scale],\n",
    "    \"universe_model\": [universe_model],\n",
    "    \"universe_exclude_features\": [universe_exclude_features],\n",
    "    \"universe_exclude_subgroups\": [universe_exclude_subgroups],\n",
    "    \"q_hat\": [q_hat],\n",
    "    \"coverage\": [metrics[\"coverage\"]],\n",
    "    \"avg_size\": [metrics[\"avg_size\"]],\n",
    "}"
   ]
  },
  {
   "cell_type": "code",
   "execution_count": 59,
   "id": "908acbb1-0371-4915-85ca-3fa520d2efe2",
   "metadata": {
    "execution": {
     "iopub.execute_input": "2025-07-30T19:52:06.213256Z",
     "iopub.status.busy": "2025-07-30T19:52:06.212883Z",
     "iopub.status.idle": "2025-07-30T19:52:06.218750Z",
     "shell.execute_reply": "2025-07-30T19:52:06.217824Z"
    },
    "papermill": {
     "duration": 0.022634,
     "end_time": "2025-07-30T19:52:06.220439",
     "exception": false,
     "start_time": "2025-07-30T19:52:06.197805",
     "status": "completed"
    },
    "tags": []
   },
   "outputs": [
    {
     "data": {
      "text/plain": [
       "{'universe_id': ['7ce930452dc10f11e7fccd94bd1c790d'],\n",
       " 'universe_training_year': ['2014'],\n",
       " 'universe_training_size': ['25k'],\n",
       " 'universe_scale': ['scale'],\n",
       " 'universe_model': ['penalized_logreg'],\n",
       " 'universe_exclude_features': ['age'],\n",
       " 'universe_exclude_subgroups': ['keep-all'],\n",
       " 'q_hat': [0.6781012766621138],\n",
       " 'coverage': [0.9124846728346896],\n",
       " 'avg_size': [1.1268308995652658]}"
      ]
     },
     "execution_count": 59,
     "metadata": {},
     "output_type": "execute_result"
    }
   ],
   "source": [
    "cp_metrics_dict"
   ]
  },
  {
   "cell_type": "code",
   "execution_count": 60,
   "id": "33007efc-14e9-4ec6-97ac-56a455c82265",
   "metadata": {
    "execution": {
     "iopub.execute_input": "2025-07-30T19:52:06.252645Z",
     "iopub.status.busy": "2025-07-30T19:52:06.252184Z",
     "iopub.status.idle": "2025-07-30T19:52:06.258838Z",
     "shell.execute_reply": "2025-07-30T19:52:06.257861Z"
    },
    "papermill": {
     "duration": 0.02351,
     "end_time": "2025-07-30T19:52:06.260699",
     "exception": false,
     "start_time": "2025-07-30T19:52:06.237189",
     "status": "completed"
    },
    "tags": []
   },
   "outputs": [],
   "source": [
    "cp_metrics_df = pd.DataFrame(cp_metrics_dict)"
   ]
  },
  {
   "cell_type": "code",
   "execution_count": 61,
   "id": "db12611b-57b2-4910-b9d0-355adfd6e7bf",
   "metadata": {
    "execution": {
     "iopub.execute_input": "2025-07-30T19:52:06.293301Z",
     "iopub.status.busy": "2025-07-30T19:52:06.292397Z",
     "iopub.status.idle": "2025-07-30T19:52:06.308230Z",
     "shell.execute_reply": "2025-07-30T19:52:06.307118Z"
    },
    "papermill": {
     "duration": 0.033128,
     "end_time": "2025-07-30T19:52:06.309721",
     "exception": false,
     "start_time": "2025-07-30T19:52:06.276593",
     "status": "completed"
    },
    "tags": []
   },
   "outputs": [
    {
     "data": {
      "text/html": [
       "<div>\n",
       "<style scoped>\n",
       "    .dataframe tbody tr th:only-of-type {\n",
       "        vertical-align: middle;\n",
       "    }\n",
       "\n",
       "    .dataframe tbody tr th {\n",
       "        vertical-align: top;\n",
       "    }\n",
       "\n",
       "    .dataframe thead th {\n",
       "        text-align: right;\n",
       "    }\n",
       "</style>\n",
       "<table border=\"1\" class=\"dataframe\">\n",
       "  <thead>\n",
       "    <tr style=\"text-align: right;\">\n",
       "      <th></th>\n",
       "      <th>universe_id</th>\n",
       "      <th>universe_training_year</th>\n",
       "      <th>universe_training_size</th>\n",
       "      <th>universe_scale</th>\n",
       "      <th>universe_model</th>\n",
       "      <th>universe_exclude_features</th>\n",
       "      <th>universe_exclude_subgroups</th>\n",
       "      <th>q_hat</th>\n",
       "      <th>coverage</th>\n",
       "      <th>avg_size</th>\n",
       "    </tr>\n",
       "  </thead>\n",
       "  <tbody>\n",
       "    <tr>\n",
       "      <th>0</th>\n",
       "      <td>7ce930452dc10f11e7fccd94bd1c790d</td>\n",
       "      <td>2014</td>\n",
       "      <td>25k</td>\n",
       "      <td>scale</td>\n",
       "      <td>penalized_logreg</td>\n",
       "      <td>age</td>\n",
       "      <td>keep-all</td>\n",
       "      <td>0.678101</td>\n",
       "      <td>0.912485</td>\n",
       "      <td>1.126831</td>\n",
       "    </tr>\n",
       "  </tbody>\n",
       "</table>\n",
       "</div>"
      ],
      "text/plain": [
       "                        universe_id universe_training_year  \\\n",
       "0  7ce930452dc10f11e7fccd94bd1c790d                   2014   \n",
       "\n",
       "  universe_training_size universe_scale    universe_model  \\\n",
       "0                    25k          scale  penalized_logreg   \n",
       "\n",
       "  universe_exclude_features universe_exclude_subgroups     q_hat  coverage  \\\n",
       "0                       age                   keep-all  0.678101  0.912485   \n",
       "\n",
       "   avg_size  \n",
       "0  1.126831  "
      ]
     },
     "execution_count": 61,
     "metadata": {},
     "output_type": "execute_result"
    }
   ],
   "source": [
    "cp_metrics_df"
   ]
  },
  {
   "cell_type": "code",
   "execution_count": 62,
   "id": "b7fbde55-a0a1-47e4-9af6-fe4a17fa8c61",
   "metadata": {
    "execution": {
     "iopub.execute_input": "2025-07-30T19:52:06.372306Z",
     "iopub.status.busy": "2025-07-30T19:52:06.371676Z",
     "iopub.status.idle": "2025-07-30T19:52:06.377642Z",
     "shell.execute_reply": "2025-07-30T19:52:06.376550Z"
    },
    "papermill": {
     "duration": 0.045643,
     "end_time": "2025-07-30T19:52:06.379990",
     "exception": false,
     "start_time": "2025-07-30T19:52:06.334347",
     "status": "completed"
    },
    "tags": []
   },
   "outputs": [],
   "source": [
    "# Conditional Coverage & looking at subgroups"
   ]
  },
  {
   "cell_type": "code",
   "execution_count": 63,
   "id": "027ae886-68dd-4141-96c7-805a5450e1ef",
   "metadata": {
    "execution": {
     "iopub.execute_input": "2025-07-30T19:52:06.445948Z",
     "iopub.status.busy": "2025-07-30T19:52:06.445108Z",
     "iopub.status.idle": "2025-07-30T19:52:06.702744Z",
     "shell.execute_reply": "2025-07-30T19:52:06.701702Z"
    },
    "papermill": {
     "duration": 0.290993,
     "end_time": "2025-07-30T19:52:06.704804",
     "exception": false,
     "start_time": "2025-07-30T19:52:06.413811",
     "status": "completed"
    },
    "tags": []
   },
   "outputs": [],
   "source": [
    "from fairness_multiverse.conformal import build_cp_groups\n",
    "\n",
    "cp_groups_df = build_cp_groups(pred_sets, y_true, X_test.index, org_test)\n",
    "#needs universe_id and setting"
   ]
  },
  {
   "cell_type": "code",
   "execution_count": 64,
   "id": "01d5802c-663a-4d1f-9d69-e036faaffbf7",
   "metadata": {
    "execution": {
     "iopub.execute_input": "2025-07-30T19:52:06.766357Z",
     "iopub.status.busy": "2025-07-30T19:52:06.765807Z",
     "iopub.status.idle": "2025-07-30T19:52:06.776767Z",
     "shell.execute_reply": "2025-07-30T19:52:06.775473Z"
    },
    "papermill": {
     "duration": 0.044979,
     "end_time": "2025-07-30T19:52:06.779108",
     "exception": false,
     "start_time": "2025-07-30T19:52:06.734129",
     "status": "completed"
    },
    "tags": []
   },
   "outputs": [],
   "source": [
    "#delete\n",
    "#cp_groups_df"
   ]
  },
  {
   "cell_type": "code",
   "execution_count": 65,
   "id": "fa424af1-d1eb-443d-b717-2d279ada8408",
   "metadata": {
    "execution": {
     "iopub.execute_input": "2025-07-30T19:52:06.846780Z",
     "iopub.status.busy": "2025-07-30T19:52:06.845873Z",
     "iopub.status.idle": "2025-07-30T19:52:06.851286Z",
     "shell.execute_reply": "2025-07-30T19:52:06.850314Z"
    },
    "papermill": {
     "duration": 0.041478,
     "end_time": "2025-07-30T19:52:06.853190",
     "exception": false,
     "start_time": "2025-07-30T19:52:06.811712",
     "status": "completed"
    },
    "tags": []
   },
   "outputs": [],
   "source": [
    "#delete\n",
    "#percentage = (cp_groups_df['nongerman_female'] == 1).mean() * 100\n",
    "#print(percentage)\n"
   ]
  },
  {
   "cell_type": "code",
   "execution_count": 66,
   "id": "6cbdab96-b2b2-45af-ad54-d0516db2e28d",
   "metadata": {
    "execution": {
     "iopub.execute_input": "2025-07-30T19:52:06.914423Z",
     "iopub.status.busy": "2025-07-30T19:52:06.913642Z",
     "iopub.status.idle": "2025-07-30T19:52:08.803624Z",
     "shell.execute_reply": "2025-07-30T19:52:08.802584Z"
    },
    "papermill": {
     "duration": 1.923781,
     "end_time": "2025-07-30T19:52:08.805554",
     "exception": false,
     "start_time": "2025-07-30T19:52:06.881773",
     "status": "completed"
    },
    "tags": []
   },
   "outputs": [],
   "source": [
    "# Define covered = 1 if true_label is in the predicted set\n",
    "cp_groups_df['covered'] = cp_groups_df.apply(\n",
    "    lambda r: int(r['true_label'] in r['pred_set']),\n",
    "    axis=1\n",
    ")"
   ]
  },
  {
   "cell_type": "code",
   "execution_count": 67,
   "id": "338ff529-1a6b-4b87-a931-8e4788d52aad",
   "metadata": {
    "execution": {
     "iopub.execute_input": "2025-07-30T19:52:08.866835Z",
     "iopub.status.busy": "2025-07-30T19:52:08.866311Z",
     "iopub.status.idle": "2025-07-30T19:52:08.872171Z",
     "shell.execute_reply": "2025-07-30T19:52:08.870957Z"
    },
    "papermill": {
     "duration": 0.040024,
     "end_time": "2025-07-30T19:52:08.874675",
     "exception": false,
     "start_time": "2025-07-30T19:52:08.834651",
     "status": "completed"
    },
    "tags": []
   },
   "outputs": [],
   "source": [
    "#cp_groups_df"
   ]
  },
  {
   "cell_type": "code",
   "execution_count": 68,
   "id": "90032e27-66df-4540-9169-4e89cfbaa758",
   "metadata": {
    "execution": {
     "iopub.execute_input": "2025-07-30T19:52:08.936871Z",
     "iopub.status.busy": "2025-07-30T19:52:08.936396Z",
     "iopub.status.idle": "2025-07-30T19:52:08.953884Z",
     "shell.execute_reply": "2025-07-30T19:52:08.952652Z"
    },
    "papermill": {
     "duration": 0.049892,
     "end_time": "2025-07-30T19:52:08.955774",
     "exception": false,
     "start_time": "2025-07-30T19:52:08.905882",
     "status": "completed"
    },
    "tags": []
   },
   "outputs": [],
   "source": [
    "subgroups = ['frau1','nongerman','nongerman_male','nongerman_female']\n",
    "\n",
    "# Conditional coverage for subgroup==1\n",
    "cond_coverage = {\n",
    "    g: cp_groups_df.loc[cp_groups_df[g]==1, 'covered'].mean()\n",
    "    for g in subgroups\n",
    "}"
   ]
  },
  {
   "cell_type": "code",
   "execution_count": 69,
   "id": "1e348fb1-b9c3-45bc-ba23-f016827a7e0d",
   "metadata": {
    "execution": {
     "iopub.execute_input": "2025-07-30T19:52:09.060166Z",
     "iopub.status.busy": "2025-07-30T19:52:09.059636Z",
     "iopub.status.idle": "2025-07-30T19:52:09.067944Z",
     "shell.execute_reply": "2025-07-30T19:52:09.066926Z"
    },
    "papermill": {
     "duration": 0.053956,
     "end_time": "2025-07-30T19:52:09.070592",
     "exception": false,
     "start_time": "2025-07-30T19:52:09.016636",
     "status": "completed"
    },
    "tags": []
   },
   "outputs": [
    {
     "data": {
      "text/plain": [
       "{'frau1': 0.9114705485914544,\n",
       " 'nongerman': 0.9104586537921743,\n",
       " 'nongerman_male': 0.9257858236512654,\n",
       " 'nongerman_female': 0.885096870342772}"
      ]
     },
     "execution_count": 69,
     "metadata": {},
     "output_type": "execute_result"
    }
   ],
   "source": [
    "cond_coverage"
   ]
  },
  {
   "cell_type": "code",
   "execution_count": 70,
   "id": "f5093324-c3dd-4d63-bc4c-8d945e5c8bbb",
   "metadata": {
    "execution": {
     "iopub.execute_input": "2025-07-30T19:52:09.133024Z",
     "iopub.status.busy": "2025-07-30T19:52:09.132581Z",
     "iopub.status.idle": "2025-07-30T19:52:09.140857Z",
     "shell.execute_reply": "2025-07-30T19:52:09.139639Z"
    },
    "papermill": {
     "duration": 0.041734,
     "end_time": "2025-07-30T19:52:09.144008",
     "exception": false,
     "start_time": "2025-07-30T19:52:09.102274",
     "status": "completed"
    },
    "tags": []
   },
   "outputs": [],
   "source": [
    "for subgroup, cov in cond_coverage.items():\n",
    "    cp_metrics_df[f\"cov_{subgroup}\"] = cov"
   ]
  },
  {
   "cell_type": "code",
   "execution_count": 71,
   "id": "6e872e10-dbe5-49e8-b554-5030c98ff75d",
   "metadata": {
    "execution": {
     "iopub.execute_input": "2025-07-30T19:52:09.201212Z",
     "iopub.status.busy": "2025-07-30T19:52:09.200812Z",
     "iopub.status.idle": "2025-07-30T19:52:09.225702Z",
     "shell.execute_reply": "2025-07-30T19:52:09.224336Z"
    },
    "papermill": {
     "duration": 0.053837,
     "end_time": "2025-07-30T19:52:09.227632",
     "exception": false,
     "start_time": "2025-07-30T19:52:09.173795",
     "status": "completed"
    },
    "tags": []
   },
   "outputs": [
    {
     "data": {
      "text/html": [
       "<div>\n",
       "<style scoped>\n",
       "    .dataframe tbody tr th:only-of-type {\n",
       "        vertical-align: middle;\n",
       "    }\n",
       "\n",
       "    .dataframe tbody tr th {\n",
       "        vertical-align: top;\n",
       "    }\n",
       "\n",
       "    .dataframe thead th {\n",
       "        text-align: right;\n",
       "    }\n",
       "</style>\n",
       "<table border=\"1\" class=\"dataframe\">\n",
       "  <thead>\n",
       "    <tr style=\"text-align: right;\">\n",
       "      <th></th>\n",
       "      <th>universe_id</th>\n",
       "      <th>universe_training_year</th>\n",
       "      <th>universe_training_size</th>\n",
       "      <th>universe_scale</th>\n",
       "      <th>universe_model</th>\n",
       "      <th>universe_exclude_features</th>\n",
       "      <th>universe_exclude_subgroups</th>\n",
       "      <th>q_hat</th>\n",
       "      <th>coverage</th>\n",
       "      <th>avg_size</th>\n",
       "      <th>cov_frau1</th>\n",
       "      <th>cov_nongerman</th>\n",
       "      <th>cov_nongerman_male</th>\n",
       "      <th>cov_nongerman_female</th>\n",
       "    </tr>\n",
       "  </thead>\n",
       "  <tbody>\n",
       "    <tr>\n",
       "      <th>0</th>\n",
       "      <td>7ce930452dc10f11e7fccd94bd1c790d</td>\n",
       "      <td>2014</td>\n",
       "      <td>25k</td>\n",
       "      <td>scale</td>\n",
       "      <td>penalized_logreg</td>\n",
       "      <td>age</td>\n",
       "      <td>keep-all</td>\n",
       "      <td>0.678101</td>\n",
       "      <td>0.912485</td>\n",
       "      <td>1.126831</td>\n",
       "      <td>0.911471</td>\n",
       "      <td>0.910459</td>\n",
       "      <td>0.925786</td>\n",
       "      <td>0.885097</td>\n",
       "    </tr>\n",
       "  </tbody>\n",
       "</table>\n",
       "</div>"
      ],
      "text/plain": [
       "                        universe_id universe_training_year  \\\n",
       "0  7ce930452dc10f11e7fccd94bd1c790d                   2014   \n",
       "\n",
       "  universe_training_size universe_scale    universe_model  \\\n",
       "0                    25k          scale  penalized_logreg   \n",
       "\n",
       "  universe_exclude_features universe_exclude_subgroups     q_hat  coverage  \\\n",
       "0                       age                   keep-all  0.678101  0.912485   \n",
       "\n",
       "   avg_size  cov_frau1  cov_nongerman  cov_nongerman_male  \\\n",
       "0  1.126831   0.911471       0.910459            0.925786   \n",
       "\n",
       "   cov_nongerman_female  \n",
       "0              0.885097  "
      ]
     },
     "execution_count": 71,
     "metadata": {},
     "output_type": "execute_result"
    }
   ],
   "source": [
    "cp_metrics_df"
   ]
  },
  {
   "cell_type": "markdown",
   "id": "33774451",
   "metadata": {
    "papermill": {
     "duration": 0.030131,
     "end_time": "2025-07-30T19:52:09.293030",
     "exception": false,
     "start_time": "2025-07-30T19:52:09.262899",
     "status": "completed"
    },
    "tags": []
   },
   "source": [
    "# (Fairness) Metrics"
   ]
  },
  {
   "cell_type": "code",
   "execution_count": 72,
   "id": "debc5d62",
   "metadata": {
    "execution": {
     "iopub.execute_input": "2025-07-30T19:52:09.373502Z",
     "iopub.status.busy": "2025-07-30T19:52:09.373022Z",
     "iopub.status.idle": "2025-07-30T19:52:09.408486Z",
     "shell.execute_reply": "2025-07-30T19:52:09.407360Z"
    },
    "papermill": {
     "duration": 0.073413,
     "end_time": "2025-07-30T19:52:09.410237",
     "exception": false,
     "start_time": "2025-07-30T19:52:09.336824",
     "status": "completed"
    },
    "tags": []
   },
   "outputs": [],
   "source": [
    "# do I need to include maxdeutsch1.missing?\n",
    "\n",
    "import numpy as np\n",
    "\n",
    "colname_to_bin = \"maxdeutsch1\"\n",
    "majority_value = org_train[colname_to_bin].mode()[0]\n",
    "\n",
    "org_test[\"majmin\"] = np.where(org_test[colname_to_bin] == majority_value, \"majority\", \"minority\")"
   ]
  },
  {
   "cell_type": "code",
   "execution_count": 73,
   "id": "06a50de5",
   "metadata": {
    "execution": {
     "iopub.execute_input": "2025-07-30T19:52:09.534831Z",
     "iopub.status.busy": "2025-07-30T19:52:09.534404Z",
     "iopub.status.idle": "2025-07-30T19:52:12.736831Z",
     "shell.execute_reply": "2025-07-30T19:52:12.735781Z"
    },
    "papermill": {
     "duration": 3.270248,
     "end_time": "2025-07-30T19:52:12.738749",
     "exception": false,
     "start_time": "2025-07-30T19:52:09.468501",
     "status": "completed"
    },
    "tags": []
   },
   "outputs": [],
   "source": [
    "example_universe = universe.copy()\n",
    "example_universe[\"cutoff\"] = example_universe[\"cutoff\"][0]\n",
    "example_universe[\"eval_fairness_grouping\"] = example_universe[\"eval_fairness_grouping\"][0]\n",
    "fairness_dict, metric_frame = universe_analysis.compute_metrics(\n",
    "    example_universe,\n",
    "    y_pred_prob=probs_test,\n",
    "    y_test=y_true,\n",
    "    org_test=org_test,\n",
    ")"
   ]
  },
  {
   "cell_type": "markdown",
   "id": "f95d4e02",
   "metadata": {
    "papermill": {
     "duration": 0.025735,
     "end_time": "2025-07-30T19:52:12.791468",
     "exception": false,
     "start_time": "2025-07-30T19:52:12.765733",
     "status": "completed"
    },
    "tags": []
   },
   "source": [
    "# Overall"
   ]
  },
  {
   "cell_type": "markdown",
   "id": "bdee4871",
   "metadata": {
    "papermill": {
     "duration": 0.024929,
     "end_time": "2025-07-30T19:52:12.841524",
     "exception": false,
     "start_time": "2025-07-30T19:52:12.816595",
     "status": "completed"
    },
    "tags": []
   },
   "source": [
    "Fairness\n",
    "Main fairness target: Equalized Odds. Seems to be a better fit than equal opportunity, since we're not only interested in Y = 1. Seems to be a better fit than demographic parity, since we also care about accuracy, not just equal distribution of preds.\n",
    "\n",
    "Pick column for computation of fairness metrics\n",
    "\n",
    "Performance\n",
    "Overall performance measures, most interesting in relation to the measures split by group below"
   ]
  },
  {
   "cell_type": "code",
   "execution_count": 74,
   "id": "c4e067c6",
   "metadata": {
    "execution": {
     "iopub.execute_input": "2025-07-30T19:52:12.896333Z",
     "iopub.status.busy": "2025-07-30T19:52:12.895888Z",
     "iopub.status.idle": "2025-07-30T19:52:12.905235Z",
     "shell.execute_reply": "2025-07-30T19:52:12.904287Z"
    },
    "papermill": {
     "duration": 0.042878,
     "end_time": "2025-07-30T19:52:12.910773",
     "exception": false,
     "start_time": "2025-07-30T19:52:12.867895",
     "status": "completed"
    },
    "tags": []
   },
   "outputs": [
    {
     "data": {
      "text/plain": [
       "accuracy                   0.225270\n",
       "balanced accuracy          0.550629\n",
       "f1                         0.246577\n",
       "precision                  0.140861\n",
       "false positive rate        0.887011\n",
       "false negative rate        0.011731\n",
       "selection rate             0.900000\n",
       "count                  89710.000000\n",
       "dtype: float64"
      ]
     },
     "execution_count": 74,
     "metadata": {},
     "output_type": "execute_result"
    }
   ],
   "source": [
    "metric_frame.overall"
   ]
  },
  {
   "cell_type": "markdown",
   "id": "e968fe9d",
   "metadata": {
    "papermill": {
     "duration": 0.028046,
     "end_time": "2025-07-30T19:52:12.973480",
     "exception": false,
     "start_time": "2025-07-30T19:52:12.945434",
     "status": "completed"
    },
    "tags": []
   },
   "source": [
    "By Group"
   ]
  },
  {
   "cell_type": "code",
   "execution_count": 75,
   "id": "ec325bce",
   "metadata": {
    "execution": {
     "iopub.execute_input": "2025-07-30T19:52:13.050009Z",
     "iopub.status.busy": "2025-07-30T19:52:13.049575Z",
     "iopub.status.idle": "2025-07-30T19:52:13.075523Z",
     "shell.execute_reply": "2025-07-30T19:52:13.074627Z"
    },
    "papermill": {
     "duration": 0.07424,
     "end_time": "2025-07-30T19:52:13.077118",
     "exception": false,
     "start_time": "2025-07-30T19:52:13.002878",
     "status": "completed"
    },
    "tags": []
   },
   "outputs": [
    {
     "data": {
      "text/html": [
       "<div>\n",
       "<style scoped>\n",
       "    .dataframe tbody tr th:only-of-type {\n",
       "        vertical-align: middle;\n",
       "    }\n",
       "\n",
       "    .dataframe tbody tr th {\n",
       "        vertical-align: top;\n",
       "    }\n",
       "\n",
       "    .dataframe thead th {\n",
       "        text-align: right;\n",
       "    }\n",
       "</style>\n",
       "<table border=\"1\" class=\"dataframe\">\n",
       "  <thead>\n",
       "    <tr style=\"text-align: right;\">\n",
       "      <th></th>\n",
       "      <th>accuracy</th>\n",
       "      <th>balanced accuracy</th>\n",
       "      <th>f1</th>\n",
       "      <th>precision</th>\n",
       "      <th>false positive rate</th>\n",
       "      <th>false negative rate</th>\n",
       "      <th>selection rate</th>\n",
       "      <th>count</th>\n",
       "    </tr>\n",
       "    <tr>\n",
       "      <th>majmin</th>\n",
       "      <th></th>\n",
       "      <th></th>\n",
       "      <th></th>\n",
       "      <th></th>\n",
       "      <th></th>\n",
       "      <th></th>\n",
       "      <th></th>\n",
       "      <th></th>\n",
       "    </tr>\n",
       "  </thead>\n",
       "  <tbody>\n",
       "    <tr>\n",
       "      <th>majority</th>\n",
       "      <td>0.248330</td>\n",
       "      <td>0.561330</td>\n",
       "      <td>0.257572</td>\n",
       "      <td>0.148117</td>\n",
       "      <td>0.864101</td>\n",
       "      <td>0.013239</td>\n",
       "      <td>0.880309</td>\n",
       "      <td>69170.0</td>\n",
       "    </tr>\n",
       "    <tr>\n",
       "      <th>minority</th>\n",
       "      <td>0.147614</td>\n",
       "      <td>0.515699</td>\n",
       "      <td>0.211919</td>\n",
       "      <td>0.118601</td>\n",
       "      <td>0.962690</td>\n",
       "      <td>0.005912</td>\n",
       "      <td>0.966310</td>\n",
       "      <td>20540.0</td>\n",
       "    </tr>\n",
       "  </tbody>\n",
       "</table>\n",
       "</div>"
      ],
      "text/plain": [
       "          accuracy  balanced accuracy        f1  precision  \\\n",
       "majmin                                                       \n",
       "majority  0.248330           0.561330  0.257572   0.148117   \n",
       "minority  0.147614           0.515699  0.211919   0.118601   \n",
       "\n",
       "          false positive rate  false negative rate  selection rate    count  \n",
       "majmin                                                                       \n",
       "majority             0.864101             0.013239        0.880309  69170.0  \n",
       "minority             0.962690             0.005912        0.966310  20540.0  "
      ]
     },
     "execution_count": 75,
     "metadata": {},
     "output_type": "execute_result"
    }
   ],
   "source": [
    "metric_frame.by_group"
   ]
  },
  {
   "cell_type": "code",
   "execution_count": 76,
   "id": "a9ddbe63",
   "metadata": {
    "execution": {
     "iopub.execute_input": "2025-07-30T19:52:13.157943Z",
     "iopub.status.busy": "2025-07-30T19:52:13.156908Z",
     "iopub.status.idle": "2025-07-30T19:52:15.956742Z",
     "shell.execute_reply": "2025-07-30T19:52:15.954337Z"
    },
    "papermill": {
     "duration": 2.834218,
     "end_time": "2025-07-30T19:52:15.958983",
     "exception": false,
     "start_time": "2025-07-30T19:52:13.124765",
     "status": "completed"
    },
    "tags": []
   },
   "outputs": [
    {
     "data": {
      "text/plain": [
       "array([[<Axes: title={'center': 'accuracy'}, xlabel='majmin'>,\n",
       "        <Axes: title={'center': 'balanced accuracy'}, xlabel='majmin'>,\n",
       "        <Axes: title={'center': 'f1'}, xlabel='majmin'>],\n",
       "       [<Axes: title={'center': 'precision'}, xlabel='majmin'>,\n",
       "        <Axes: title={'center': 'false positive rate'}, xlabel='majmin'>,\n",
       "        <Axes: title={'center': 'false negative rate'}, xlabel='majmin'>],\n",
       "       [<Axes: title={'center': 'selection rate'}, xlabel='majmin'>,\n",
       "        <Axes: title={'center': 'count'}, xlabel='majmin'>,\n",
       "        <Axes: xlabel='majmin'>]], dtype=object)"
      ]
     },
     "execution_count": 76,
     "metadata": {},
     "output_type": "execute_result"
    },
    {
     "data": {
      "image/png": "[encoded data removed]",
      "text/plain": [
       "<Figure size 1200x800 with 9 Axes>"
      ]
     },
     "metadata": {},
     "output_type": "display_data"
    }
   ],
   "source": [
    "# In a graphic\n",
    "metric_frame.by_group.plot.bar(\n",
    "    subplots=True,\n",
    "    layout=[3, 3],\n",
    "    legend=False,\n",
    "    figsize=[12, 8],\n",
    "    title=\"Show all metrics\",\n",
    ")"
   ]
  },
  {
   "cell_type": "markdown",
   "id": "f57a0bac",
   "metadata": {
    "papermill": {
     "duration": 0.04412,
     "end_time": "2025-07-30T19:52:16.045063",
     "exception": false,
     "start_time": "2025-07-30T19:52:16.000943",
     "status": "completed"
    },
    "tags": []
   },
   "source": [
    "# Final Output"
   ]
  },
  {
   "cell_type": "code",
   "execution_count": 77,
   "id": "96d280a3",
   "metadata": {
    "execution": {
     "iopub.execute_input": "2025-07-30T19:52:16.128944Z",
     "iopub.status.busy": "2025-07-30T19:52:16.128361Z",
     "iopub.status.idle": "2025-07-30T19:52:16.137368Z",
     "shell.execute_reply": "2025-07-30T19:52:16.136342Z"
    },
    "papermill": {
     "duration": 0.043428,
     "end_time": "2025-07-30T19:52:16.141146",
     "exception": false,
     "start_time": "2025-07-30T19:52:16.097718",
     "status": "completed"
    },
    "tags": []
   },
   "outputs": [
    {
     "data": {
      "text/plain": [
       "4"
      ]
     },
     "execution_count": 77,
     "metadata": {},
     "output_type": "execute_result"
    }
   ],
   "source": [
    "sub_universes = universe_analysis.generate_sub_universes()\n",
    "len(sub_universes)"
   ]
  },
  {
   "cell_type": "code",
   "execution_count": 78,
   "id": "92adf7ba",
   "metadata": {
    "execution": {
     "iopub.execute_input": "2025-07-30T19:52:16.225369Z",
     "iopub.status.busy": "2025-07-30T19:52:16.224978Z",
     "iopub.status.idle": "2025-07-30T19:52:16.231257Z",
     "shell.execute_reply": "2025-07-30T19:52:16.230239Z"
    },
    "papermill": {
     "duration": 0.064924,
     "end_time": "2025-07-30T19:52:16.234457",
     "exception": false,
     "start_time": "2025-07-30T19:52:16.169533",
     "status": "completed"
    },
    "tags": []
   },
   "outputs": [],
   "source": [
    "def filter_sub_universe_data(sub_universe, org_test):\n",
    "    # Keep all rows — no filtering\n",
    "    keep_rows_mask = np.ones(org_test.shape[0], dtype=bool)\n",
    "\n",
    "    print(f\"[INFO] Keeping all rows: {keep_rows_mask.sum()} rows retained.\")\n",
    "    return keep_rows_mask"
   ]
  },
  {
   "cell_type": "code",
   "execution_count": 79,
   "id": "4a759155",
   "metadata": {
    "execution": {
     "iopub.execute_input": "2025-07-30T19:52:16.293643Z",
     "iopub.status.busy": "2025-07-30T19:52:16.293198Z",
     "iopub.status.idle": "2025-07-30T19:52:26.989843Z",
     "shell.execute_reply": "2025-07-30T19:52:26.988998Z"
    },
    "papermill": {
     "duration": 10.727779,
     "end_time": "2025-07-30T19:52:26.991552",
     "exception": false,
     "start_time": "2025-07-30T19:52:16.263773",
     "status": "completed"
    },
    "tags": []
   },
   "outputs": [
    {
     "name": "stdout",
     "output_type": "stream",
     "text": [
      "Stopping execution_time clock.\n",
      "[INFO] Keeping all rows: 89710 rows retained.\n"
     ]
    },
    {
     "name": "stdout",
     "output_type": "stream",
     "text": [
      "[INFO] Keeping all rows: 89710 rows retained.\n"
     ]
    },
    {
     "name": "stdout",
     "output_type": "stream",
     "text": [
      "[INFO] Keeping all rows: 89710 rows retained.\n"
     ]
    },
    {
     "name": "stdout",
     "output_type": "stream",
     "text": [
      "[INFO] Keeping all rows: 89710 rows retained.\n"
     ]
    },
    {
     "data": {
      "text/html": [
       "<div>\n",
       "<style scoped>\n",
       "    .dataframe tbody tr th:only-of-type {\n",
       "        vertical-align: middle;\n",
       "    }\n",
       "\n",
       "    .dataframe tbody tr th {\n",
       "        vertical-align: top;\n",
       "    }\n",
       "\n",
       "    .dataframe thead th {\n",
       "        text-align: right;\n",
       "    }\n",
       "</style>\n",
       "<table border=\"1\" class=\"dataframe\">\n",
       "  <thead>\n",
       "    <tr style=\"text-align: right;\">\n",
       "      <th></th>\n",
       "      <th>run_no</th>\n",
       "      <th>universe_id</th>\n",
       "      <th>universe_settings</th>\n",
       "      <th>execution_time</th>\n",
       "      <th>test_size_n</th>\n",
       "      <th>test_size_frac</th>\n",
       "      <th>fair_main_equalized_odds_difference</th>\n",
       "      <th>fair_main_equalized_odds_ratio</th>\n",
       "      <th>fair_main_demographic_parity_difference</th>\n",
       "      <th>fair_main_demographic_parity_ratio</th>\n",
       "      <th>...</th>\n",
       "      <th>perf_grp_precision_0</th>\n",
       "      <th>perf_grp_precision_1</th>\n",
       "      <th>perf_grp_false positive rate_0</th>\n",
       "      <th>perf_grp_false positive rate_1</th>\n",
       "      <th>perf_grp_false negative rate_0</th>\n",
       "      <th>perf_grp_false negative rate_1</th>\n",
       "      <th>perf_grp_selection rate_0</th>\n",
       "      <th>perf_grp_selection rate_1</th>\n",
       "      <th>perf_grp_count_0</th>\n",
       "      <th>perf_grp_count_1</th>\n",
       "    </tr>\n",
       "  </thead>\n",
       "  <tbody>\n",
       "    <tr>\n",
       "      <th>0</th>\n",
       "      <td>14</td>\n",
       "      <td>7ce930452dc10f11e7fccd94bd1c790d</td>\n",
       "      <td>{\"cutoff\": \"quantile_0.1\", \"eval_fairness_grou...</td>\n",
       "      <td>26.623611</td>\n",
       "      <td>89710</td>\n",
       "      <td>1.0</td>\n",
       "      <td>0.098589</td>\n",
       "      <td>0.897591</td>\n",
       "      <td>0.08600</td>\n",
       "      <td>0.911001</td>\n",
       "      <td>...</td>\n",
       "      <td>NaN</td>\n",
       "      <td>NaN</td>\n",
       "      <td>NaN</td>\n",
       "      <td>NaN</td>\n",
       "      <td>NaN</td>\n",
       "      <td>NaN</td>\n",
       "      <td>NaN</td>\n",
       "      <td>NaN</td>\n",
       "      <td>NaN</td>\n",
       "      <td>NaN</td>\n",
       "    </tr>\n",
       "    <tr>\n",
       "      <th>0</th>\n",
       "      <td>14</td>\n",
       "      <td>7ce930452dc10f11e7fccd94bd1c790d</td>\n",
       "      <td>{\"cutoff\": \"quantile_0.1\", \"eval_fairness_grou...</td>\n",
       "      <td>26.623611</td>\n",
       "      <td>89710</td>\n",
       "      <td>1.0</td>\n",
       "      <td>0.098589</td>\n",
       "      <td>0.897591</td>\n",
       "      <td>0.08600</td>\n",
       "      <td>0.911001</td>\n",
       "      <td>...</td>\n",
       "      <td>0.118601</td>\n",
       "      <td>0.148117</td>\n",
       "      <td>0.962690</td>\n",
       "      <td>0.864101</td>\n",
       "      <td>0.005912</td>\n",
       "      <td>0.013239</td>\n",
       "      <td>0.966310</td>\n",
       "      <td>0.880309</td>\n",
       "      <td>20540.0</td>\n",
       "      <td>69170.0</td>\n",
       "    </tr>\n",
       "    <tr>\n",
       "      <th>0</th>\n",
       "      <td>14</td>\n",
       "      <td>7ce930452dc10f11e7fccd94bd1c790d</td>\n",
       "      <td>{\"cutoff\": \"quantile_0.25\", \"eval_fairness_gro...</td>\n",
       "      <td>26.623611</td>\n",
       "      <td>89710</td>\n",
       "      <td>1.0</td>\n",
       "      <td>0.181067</td>\n",
       "      <td>0.789431</td>\n",
       "      <td>0.15818</td>\n",
       "      <td>0.818593</td>\n",
       "      <td>...</td>\n",
       "      <td>NaN</td>\n",
       "      <td>NaN</td>\n",
       "      <td>NaN</td>\n",
       "      <td>NaN</td>\n",
       "      <td>NaN</td>\n",
       "      <td>NaN</td>\n",
       "      <td>NaN</td>\n",
       "      <td>NaN</td>\n",
       "      <td>NaN</td>\n",
       "      <td>NaN</td>\n",
       "    </tr>\n",
       "    <tr>\n",
       "      <th>0</th>\n",
       "      <td>14</td>\n",
       "      <td>7ce930452dc10f11e7fccd94bd1c790d</td>\n",
       "      <td>{\"cutoff\": \"quantile_0.25\", \"eval_fairness_gro...</td>\n",
       "      <td>26.623611</td>\n",
       "      <td>89710</td>\n",
       "      <td>1.0</td>\n",
       "      <td>0.181067</td>\n",
       "      <td>0.789431</td>\n",
       "      <td>0.15818</td>\n",
       "      <td>0.818593</td>\n",
       "      <td>...</td>\n",
       "      <td>0.127527</td>\n",
       "      <td>0.174633</td>\n",
       "      <td>0.859894</td>\n",
       "      <td>0.678827</td>\n",
       "      <td>0.035473</td>\n",
       "      <td>0.056674</td>\n",
       "      <td>0.871957</td>\n",
       "      <td>0.713778</td>\n",
       "      <td>20540.0</td>\n",
       "      <td>69170.0</td>\n",
       "    </tr>\n",
       "  </tbody>\n",
       "</table>\n",
       "<p>4 rows × 50 columns</p>\n",
       "</div>"
      ],
      "text/plain": [
       "  run_no                       universe_id  \\\n",
       "0     14  7ce930452dc10f11e7fccd94bd1c790d   \n",
       "0     14  7ce930452dc10f11e7fccd94bd1c790d   \n",
       "0     14  7ce930452dc10f11e7fccd94bd1c790d   \n",
       "0     14  7ce930452dc10f11e7fccd94bd1c790d   \n",
       "\n",
       "                                   universe_settings  execution_time  \\\n",
       "0  {\"cutoff\": \"quantile_0.1\", \"eval_fairness_grou...       26.623611   \n",
       "0  {\"cutoff\": \"quantile_0.1\", \"eval_fairness_grou...       26.623611   \n",
       "0  {\"cutoff\": \"quantile_0.25\", \"eval_fairness_gro...       26.623611   \n",
       "0  {\"cutoff\": \"quantile_0.25\", \"eval_fairness_gro...       26.623611   \n",
       "\n",
       "   test_size_n  test_size_frac  fair_main_equalized_odds_difference  \\\n",
       "0        89710             1.0                             0.098589   \n",
       "0        89710             1.0                             0.098589   \n",
       "0        89710             1.0                             0.181067   \n",
       "0        89710             1.0                             0.181067   \n",
       "\n",
       "   fair_main_equalized_odds_ratio  fair_main_demographic_parity_difference  \\\n",
       "0                        0.897591                                  0.08600   \n",
       "0                        0.897591                                  0.08600   \n",
       "0                        0.789431                                  0.15818   \n",
       "0                        0.789431                                  0.15818   \n",
       "\n",
       "   fair_main_demographic_parity_ratio  ...  perf_grp_precision_0  \\\n",
       "0                            0.911001  ...                   NaN   \n",
       "0                            0.911001  ...              0.118601   \n",
       "0                            0.818593  ...                   NaN   \n",
       "0                            0.818593  ...              0.127527   \n",
       "\n",
       "   perf_grp_precision_1  perf_grp_false positive rate_0  \\\n",
       "0                   NaN                             NaN   \n",
       "0              0.148117                        0.962690   \n",
       "0                   NaN                             NaN   \n",
       "0              0.174633                        0.859894   \n",
       "\n",
       "   perf_grp_false positive rate_1  perf_grp_false negative rate_0  \\\n",
       "0                             NaN                             NaN   \n",
       "0                        0.864101                        0.005912   \n",
       "0                             NaN                             NaN   \n",
       "0                        0.678827                        0.035473   \n",
       "\n",
       "   perf_grp_false negative rate_1  perf_grp_selection rate_0  \\\n",
       "0                             NaN                        NaN   \n",
       "0                        0.013239                   0.966310   \n",
       "0                             NaN                        NaN   \n",
       "0                        0.056674                   0.871957   \n",
       "\n",
       "   perf_grp_selection rate_1  perf_grp_count_0  perf_grp_count_1  \n",
       "0                        NaN               NaN               NaN  \n",
       "0                   0.880309           20540.0           69170.0  \n",
       "0                        NaN               NaN               NaN  \n",
       "0                   0.713778           20540.0           69170.0  \n",
       "\n",
       "[4 rows x 50 columns]"
      ]
     },
     "execution_count": 79,
     "metadata": {},
     "output_type": "execute_result"
    }
   ],
   "source": [
    "final_output = universe_analysis.generate_final_output(\n",
    "    y_pred_prob=probs_test,\n",
    "    y_test=y_true,\n",
    "    org_test=org_test,\n",
    "    filter_data=filter_sub_universe_data,\n",
    "    cp_metrics_df=cp_metrics_df,\n",
    "    save=True,\n",
    ")\n",
    "final_output"
   ]
  },
  {
   "cell_type": "code",
   "execution_count": null,
   "id": "721ff514-cb11-46f8-b6fc-50392f74b5cb",
   "metadata": {
    "papermill": {
     "duration": 0.028946,
     "end_time": "2025-07-30T19:52:27.051740",
     "exception": false,
     "start_time": "2025-07-30T19:52:27.022794",
     "status": "completed"
    },
    "tags": []
   },
   "outputs": [],
   "source": []
  }
 ],
 "metadata": {
  "celltoolbar": "Tags",
  "kernelspec": {
   "display_name": "Python (CMA Fairness)",
   "language": "python",
   "name": "cma_fair_env"
  },
  "language_info": {
   "codemirror_mode": {
    "name": "ipython",
    "version": 3
   },
   "file_extension": ".py",
   "mimetype": "text/x-python",
   "name": "python",
   "nbconvert_exporter": "python",
   "pygments_lexer": "ipython3",
   "version": "3.10.12"
  },
  "papermill": {
   "default_parameters": {},
   "duration": 41.762093,
   "end_time": "2025-07-30T19:52:27.898944",
   "environment_variables": {},
   "exception": null,
   "input_path": "universe_analysis.ipynb",
   "output_path": "output/runs/14/notebooks/m_14-7ce930452dc10f11e7fccd94bd1c790d.ipynb",
   "parameters": {
    "output_dir": "output",
    "run_no": "14",
    "seed": "2023",
    "universe": "{\"cutoff\": [\"quantile_0.1\", \"quantile_0.25\"], \"eval_fairness_grouping\": [\"majority-minority\", \"nationality-all\"], \"exclude_features\": \"age\", \"exclude_subgroups\": \"keep-all\", \"model\": \"penalized_logreg\", \"scale\": \"scale\", \"training_size\": \"25k\", \"training_year\": \"2014\"}",
    "universe_id": "7ce930452dc10f11e7fccd94bd1c790d"
   },
   "start_time": "2025-07-30T19:51:46.136851",
   "version": "2.6.0"
  }
 },
 "nbformat": 4,
 "nbformat_minor": 5
}