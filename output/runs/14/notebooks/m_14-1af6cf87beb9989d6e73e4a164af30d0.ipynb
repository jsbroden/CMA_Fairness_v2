{
 "cells": [
  {
   "cell_type": "code",
   "execution_count": 1,
   "id": "f159f837-637b-42ba-96b5-ec9a68c44524",
   "metadata": {
    "execution": {
     "iopub.execute_input": "2025-07-30T21:26:03.708313Z",
     "iopub.status.busy": "2025-07-30T21:26:03.707756Z",
     "iopub.status.idle": "2025-07-30T21:26:03.722642Z",
     "shell.execute_reply": "2025-07-30T21:26:03.721688Z"
    },
    "papermill": {
     "duration": 0.040144,
     "end_time": "2025-07-30T21:26:03.724463",
     "exception": false,
     "start_time": "2025-07-30T21:26:03.684319",
     "status": "completed"
    },
    "tags": []
   },
   "outputs": [
    {
     "name": "stdout",
     "output_type": "stream",
     "text": [
      "/dss/dsshome1/0C/ra93lal2/cma/CMA_Fairness_v2\n"
     ]
    },
    {
     "name": "stderr",
     "output_type": "stream",
     "text": [
      "/dss/dsshome1/0C/ra93lal2/.local/share/virtualenvs/CMA_Fairness_v2-3j10GkSs/lib/python3.10/site-packages/IPython/core/magics/osm.py:393: UserWarning: This is now an optional IPython functionality, using bookmarks requires you to install the `pickleshare` library.\n",
      "  bkms = self.shell.db.get('bookmarks', {})\n",
      "/dss/dsshome1/0C/ra93lal2/.local/share/virtualenvs/CMA_Fairness_v2-3j10GkSs/lib/python3.10/site-packages/IPython/core/magics/osm.py:417: UserWarning: This is now an optional IPython functionality, setting dhist requires you to install the `pickleshare` library.\n",
      "  self.shell.db['dhist'] = compress_dhist(dhist)[-100:]\n"
     ]
    }
   ],
   "source": [
    "%cd ~/cma/CMA_Fairness_v2"
   ]
  },
  {
   "cell_type": "markdown",
   "id": "de2603b9",
   "metadata": {
    "papermill": {
     "duration": 0.020733,
     "end_time": "2025-07-30T21:26:03.773863",
     "exception": false,
     "start_time": "2025-07-30T21:26:03.753130",
     "status": "completed"
    },
    "tags": []
   },
   "source": [
    "The following cell holds the definition of our parameters, these values can be overriden by rendering the with e.g. the following command:\n",
    "\n",
    "papermill -p alpha 0.2 -p ratio 0.3 universe_analysis.ipynb output/test_run.ipynb"
   ]
  },
  {
   "cell_type": "code",
   "execution_count": 2,
   "id": "a80968a0-40bb-4fa9-85ef-2d5eefb01975",
   "metadata": {
    "execution": {
     "iopub.execute_input": "2025-07-30T21:26:03.816731Z",
     "iopub.status.busy": "2025-07-30T21:26:03.815936Z",
     "iopub.status.idle": "2025-07-30T21:26:03.822628Z",
     "shell.execute_reply": "2025-07-30T21:26:03.821345Z"
    },
    "papermill": {
     "duration": 0.029986,
     "end_time": "2025-07-30T21:26:03.824560",
     "exception": false,
     "start_time": "2025-07-30T21:26:03.794574",
     "status": "completed"
    },
    "tags": []
   },
   "outputs": [
    {
     "name": "stdout",
     "output_type": "stream",
     "text": [
      "Current working directory: /dss/dsshome1/0C/ra93lal2/cma/CMA_Fairness_v2\n"
     ]
    }
   ],
   "source": [
    "import os\n",
    "print(\"Current working directory:\", os.getcwd())"
   ]
  },
  {
   "cell_type": "code",
   "execution_count": 3,
   "id": "2dce4c03",
   "metadata": {
    "execution": {
     "iopub.execute_input": "2025-07-30T21:26:03.869867Z",
     "iopub.status.busy": "2025-07-30T21:26:03.869203Z",
     "iopub.status.idle": "2025-07-30T21:26:03.876756Z",
     "shell.execute_reply": "2025-07-30T21:26:03.875722Z"
    },
    "papermill": {
     "duration": 0.031803,
     "end_time": "2025-07-30T21:26:03.878599",
     "exception": false,
     "start_time": "2025-07-30T21:26:03.846796",
     "status": "completed"
    },
    "tags": [
     "parameters"
    ]
   },
   "outputs": [],
   "source": [
    "run_no = 0\n",
    "universe_id = \"test\"\n",
    "universe = {\n",
    "    \"training_size\": \"25k\", # \"25k\", \"5k\", \"1k\"\n",
    "    \"training_year\": \"2014\", # \"2014\", \"2012_14\", \"2010_14\"\n",
    "    \"scale\": \"scale\", # \"scale\", \"do-not-scale\",\n",
    "    #\"stratify_split\": \"target\", # \"none\", \"target\", \"protected-attribute\", \"both\",\n",
    "    \"model\": \"elasticnet\", # \"logreg\", \"penalized_logreg\", \"rf\", \"gbm\", \"elasticnet\"\n",
    "    \"cutoff\": [\"quantile_0.15\", \"quantile_0.30\"],\n",
    "    \"exclude_features\": \"age\", # \"none\", \"nationality\", \"sex\", \"nationality-sex\", \"age\"\n",
    "    \"exclude_subgroups\": \"keep-all\", # \"keep-all\", \"drop-non-german\"\n",
    "    \"eval_fairness_grouping\": [\"majority-minority\", \"nationality-all\"]\n",
    "}\n",
    "\n",
    "output_dir=\"./output\"\n",
    "seed=0"
   ]
  },
  {
   "cell_type": "code",
   "execution_count": 4,
   "id": "83b8a4da",
   "metadata": {
    "execution": {
     "iopub.execute_input": "2025-07-30T21:26:03.925081Z",
     "iopub.status.busy": "2025-07-30T21:26:03.924067Z",
     "iopub.status.idle": "2025-07-30T21:26:03.929611Z",
     "shell.execute_reply": "2025-07-30T21:26:03.928592Z"
    },
    "papermill": {
     "duration": 0.030401,
     "end_time": "2025-07-30T21:26:03.931077",
     "exception": false,
     "start_time": "2025-07-30T21:26:03.900676",
     "status": "completed"
    },
    "tags": [
     "injected-parameters"
    ]
   },
   "outputs": [],
   "source": [
    "# Parameters\n",
    "universe_id = \"1af6cf87beb9989d6e73e4a164af30d0\"\n",
    "run_no = \"14\"\n",
    "universe = \"{\\\"cutoff\\\": [\\\"quantile_0.1\\\", \\\"quantile_0.25\\\"], \\\"eval_fairness_grouping\\\": [\\\"majority-minority\\\", \\\"nationality-all\\\"], \\\"exclude_features\\\": \\\"none\\\", \\\"exclude_subgroups\\\": \\\"keep-all\\\", \\\"model\\\": \\\"elasticnet\\\", \\\"scale\\\": \\\"scale\\\", \\\"training_size\\\": \\\"1k\\\", \\\"training_year\\\": \\\"2014\\\"}\"\n",
    "output_dir = \"output\"\n",
    "seed = \"2023\"\n"
   ]
  },
  {
   "cell_type": "code",
   "execution_count": 5,
   "id": "1650acaf",
   "metadata": {
    "execution": {
     "iopub.execute_input": "2025-07-30T21:26:03.974636Z",
     "iopub.status.busy": "2025-07-30T21:26:03.974167Z",
     "iopub.status.idle": "2025-07-30T21:26:03.979551Z",
     "shell.execute_reply": "2025-07-30T21:26:03.978496Z"
    },
    "papermill": {
     "duration": 0.029928,
     "end_time": "2025-07-30T21:26:03.981304",
     "exception": false,
     "start_time": "2025-07-30T21:26:03.951376",
     "status": "completed"
    },
    "tags": []
   },
   "outputs": [],
   "source": [
    "import json\n",
    "# Parse universe into dict if it is passed as a string\n",
    "if isinstance(universe, str):\n",
    "    universe = json.loads(universe)"
   ]
  },
  {
   "cell_type": "code",
   "execution_count": 6,
   "id": "16620c48",
   "metadata": {
    "execution": {
     "iopub.execute_input": "2025-07-30T21:26:04.019048Z",
     "iopub.status.busy": "2025-07-30T21:26:04.018656Z",
     "iopub.status.idle": "2025-07-30T21:26:04.056348Z",
     "shell.execute_reply": "2025-07-30T21:26:04.055581Z"
    },
    "papermill": {
     "duration": 0.054351,
     "end_time": "2025-07-30T21:26:04.057852",
     "exception": false,
     "start_time": "2025-07-30T21:26:04.003501",
     "status": "completed"
    },
    "tags": []
   },
   "outputs": [],
   "source": [
    "# Auto-reload the custom package\n",
    "%load_ext autoreload\n",
    "%autoreload 1\n",
    "%aimport fairness_multiverse"
   ]
  },
  {
   "cell_type": "code",
   "execution_count": 7,
   "id": "01c5c9f3",
   "metadata": {
    "execution": {
     "iopub.execute_input": "2025-07-30T21:26:04.081563Z",
     "iopub.status.busy": "2025-07-30T21:26:04.080879Z",
     "iopub.status.idle": "2025-07-30T21:26:06.045092Z",
     "shell.execute_reply": "2025-07-30T21:26:06.044056Z"
    },
    "papermill": {
     "duration": 1.977793,
     "end_time": "2025-07-30T21:26:06.047114",
     "exception": false,
     "start_time": "2025-07-30T21:26:04.069321",
     "status": "completed"
    },
    "tags": []
   },
   "outputs": [],
   "source": [
    "from fairness_multiverse.universe import UniverseAnalysis\n",
    "\n",
    "universe_analysis = UniverseAnalysis(\n",
    "    run_no = run_no,\n",
    "    universe_id = universe_id,\n",
    "    universe = universe,\n",
    "    output_dir=output_dir,\n",
    ")"
   ]
  },
  {
   "cell_type": "code",
   "execution_count": 8,
   "id": "106241f5",
   "metadata": {
    "execution": {
     "iopub.execute_input": "2025-07-30T21:26:06.088941Z",
     "iopub.status.busy": "2025-07-30T21:26:06.088130Z",
     "iopub.status.idle": "2025-07-30T21:26:06.094973Z",
     "shell.execute_reply": "2025-07-30T21:26:06.093925Z"
    },
    "papermill": {
     "duration": 0.029056,
     "end_time": "2025-07-30T21:26:06.096770",
     "exception": false,
     "start_time": "2025-07-30T21:26:06.067714",
     "status": "completed"
    },
    "tags": []
   },
   "outputs": [
    {
     "name": "stdout",
     "output_type": "stream",
     "text": [
      "Using Seed: 2023\n"
     ]
    }
   ],
   "source": [
    "import numpy as np\n",
    "parsed_seed = int(seed)\n",
    "np.random.seed(parsed_seed)\n",
    "print(f\"Using Seed: {parsed_seed}\")"
   ]
  },
  {
   "cell_type": "markdown",
   "id": "e0ebdc57",
   "metadata": {
    "papermill": {
     "duration": 0.020541,
     "end_time": "2025-07-30T21:26:06.138600",
     "exception": false,
     "start_time": "2025-07-30T21:26:06.118059",
     "status": "completed"
    },
    "tags": []
   },
   "source": [
    "# Loading Data"
   ]
  },
  {
   "cell_type": "markdown",
   "id": "681925a3",
   "metadata": {
    "papermill": {
     "duration": 0.020253,
     "end_time": "2025-07-30T21:26:06.178144",
     "exception": false,
     "start_time": "2025-07-30T21:26:06.157891",
     "status": "completed"
    },
    "tags": []
   },
   "source": [
    "Load siab_train, siab_test, siab_calib and/or \n",
    "load siab_train_features, siab_train_labels"
   ]
  },
  {
   "cell_type": "code",
   "execution_count": 9,
   "id": "f0496b8a",
   "metadata": {
    "execution": {
     "iopub.execute_input": "2025-07-30T21:26:06.219686Z",
     "iopub.status.busy": "2025-07-30T21:26:06.218715Z",
     "iopub.status.idle": "2025-07-30T21:26:19.069684Z",
     "shell.execute_reply": "2025-07-30T21:26:19.068545Z"
    },
    "papermill": {
     "duration": 12.873629,
     "end_time": "2025-07-30T21:26:19.071568",
     "exception": false,
     "start_time": "2025-07-30T21:26:06.197939",
     "status": "completed"
    },
    "tags": []
   },
   "outputs": [
    {
     "name": "stdout",
     "output_type": "stream",
     "text": [
      "Loading SIAB data from cache: data/siab_cached.csv.gz\n"
     ]
    },
    {
     "name": "stdout",
     "output_type": "stream",
     "text": [
      "(643690, 164)\n"
     ]
    }
   ],
   "source": [
    "from pathlib import Path\n",
    "import pandas as pd\n",
    "\n",
    "# File paths\n",
    "raw_file = Path(\"data/raw/siab.csv\")\n",
    "cache_file = Path(\"data/siab_cached.csv.gz\")\n",
    "\n",
    "# Ensure cache directory exists\n",
    "cache_file.parent.mkdir(parents=True, exist_ok=True)\n",
    "\n",
    "# Load with simple caching\n",
    "if cache_file.exists():\n",
    "    print(f\"Loading SIAB data from cache: {cache_file}\")\n",
    "    siab = pd.read_csv(cache_file, compression='gzip')\n",
    "else:\n",
    "    print(f\"Cache not found. Reading raw SIAB data: {raw_file}\")\n",
    "    siab = pd.read_csv(raw_file)\n",
    "    siab.to_csv(cache_file, index=False, compression='gzip')\n",
    "    print(f\"Cached SIAB data to: {cache_file}\")\n",
    "\n",
    "# Now use `siab` DataFrame as needed\n",
    "print(siab.shape)"
   ]
  },
  {
   "cell_type": "code",
   "execution_count": 10,
   "id": "db0ca512-5f53-4dba-abdb-a2888bca41ba",
   "metadata": {
    "execution": {
     "iopub.execute_input": "2025-07-30T21:26:19.120089Z",
     "iopub.status.busy": "2025-07-30T21:26:19.119474Z",
     "iopub.status.idle": "2025-07-30T21:26:19.125999Z",
     "shell.execute_reply": "2025-07-30T21:26:19.124884Z"
    },
    "papermill": {
     "duration": 0.031709,
     "end_time": "2025-07-30T21:26:19.127660",
     "exception": false,
     "start_time": "2025-07-30T21:26:19.095951",
     "status": "completed"
    },
    "tags": []
   },
   "outputs": [],
   "source": [
    "#siab"
   ]
  },
  {
   "cell_type": "code",
   "execution_count": 11,
   "id": "a0edb063",
   "metadata": {
    "execution": {
     "iopub.execute_input": "2025-07-30T21:26:19.172482Z",
     "iopub.status.busy": "2025-07-30T21:26:19.171352Z",
     "iopub.status.idle": "2025-07-30T21:26:19.191819Z",
     "shell.execute_reply": "2025-07-30T21:26:19.190762Z"
    },
    "papermill": {
     "duration": 0.045177,
     "end_time": "2025-07-30T21:26:19.193696",
     "exception": false,
     "start_time": "2025-07-30T21:26:19.148519",
     "status": "completed"
    },
    "tags": []
   },
   "outputs": [],
   "source": [
    "#import pandas as pd\n",
    "#\n",
    "#X_train = pd.read_csv(\"./data/X_train.csv\")\n",
    "#y_train = pd.read_csv(\"./data/y_train.csv\")"
   ]
  },
  {
   "cell_type": "code",
   "execution_count": 12,
   "id": "63d08085",
   "metadata": {
    "execution": {
     "iopub.execute_input": "2025-07-30T21:26:19.239397Z",
     "iopub.status.busy": "2025-07-30T21:26:19.238901Z",
     "iopub.status.idle": "2025-07-30T21:26:19.283601Z",
     "shell.execute_reply": "2025-07-30T21:26:19.282437Z"
    },
    "papermill": {
     "duration": 0.069763,
     "end_time": "2025-07-30T21:26:19.285995",
     "exception": false,
     "start_time": "2025-07-30T21:26:19.216232",
     "status": "completed"
    },
    "tags": []
   },
   "outputs": [],
   "source": [
    "#X_test = pd.read_csv(\"./data/X_test.csv\")\n",
    "#y_true = pd.read_csv(\"./data/y_test.csv\")"
   ]
  },
  {
   "cell_type": "code",
   "execution_count": 13,
   "id": "98a8d0fa-1d3d-4ed8-bb2c-281470e24add",
   "metadata": {
    "execution": {
     "iopub.execute_input": "2025-07-30T21:26:19.335455Z",
     "iopub.status.busy": "2025-07-30T21:26:19.334604Z",
     "iopub.status.idle": "2025-07-30T21:26:19.343017Z",
     "shell.execute_reply": "2025-07-30T21:26:19.341884Z"
    },
    "papermill": {
     "duration": 0.036176,
     "end_time": "2025-07-30T21:26:19.345450",
     "exception": false,
     "start_time": "2025-07-30T21:26:19.309274",
     "status": "completed"
    },
    "tags": []
   },
   "outputs": [],
   "source": [
    "# Calibration data for conformal\n",
    "#X_calib = pd.read_csv(\"./data/X_calib.csv\")\n",
    "#y_calib = pd.read_csv(\"./data/y_calib.csv\")"
   ]
  },
  {
   "cell_type": "markdown",
   "id": "997051c5-15bd-4b69-9786-c3001a3ce484",
   "metadata": {
    "papermill": {
     "duration": 0.02953,
     "end_time": "2025-07-30T21:26:19.405520",
     "exception": false,
     "start_time": "2025-07-30T21:26:19.375990",
     "status": "completed"
    },
    "tags": []
   },
   "source": [
    "# Splitting Data and Setting Training Data Size"
   ]
  },
  {
   "cell_type": "code",
   "execution_count": 14,
   "id": "e993b61f-042d-41a6-8c81-f55681f86335",
   "metadata": {
    "execution": {
     "iopub.execute_input": "2025-07-30T21:26:19.456753Z",
     "iopub.status.busy": "2025-07-30T21:26:19.455708Z",
     "iopub.status.idle": "2025-07-30T21:26:19.469507Z",
     "shell.execute_reply": "2025-07-30T21:26:19.468445Z"
    },
    "papermill": {
     "duration": 0.03697,
     "end_time": "2025-07-30T21:26:19.471425",
     "exception": false,
     "start_time": "2025-07-30T21:26:19.434455",
     "status": "completed"
    },
    "tags": []
   },
   "outputs": [],
   "source": [
    "def sample_by_year_size(df,\n",
    "                        training_year: str,\n",
    "                        training_size: str,\n",
    "                        random_state: int = 42):\n",
    "    # --- parse training_year into a list of int years ---\n",
    "    if \"_\" in training_year:\n",
    "        start_str, end_str = training_year.split(\"_\", 1)\n",
    "        start = int(start_str)\n",
    "        end   = int(end_str) if len(end_str) == 4 else (int(end_str) + (start // 100)*100)\n",
    "        years = list(range(start, end + 1))\n",
    "    else:\n",
    "        years = [int(training_year)]\n",
    "\n",
    "    df = df[df[\"year\"].isin(years)].reset_index(drop=True)\n",
    "\n",
    "    # --- map training_size to total number of samples ---\n",
    "    total_map = {\"25k\": 25_000, \"5k\": 5_000, \"1k\": 1_000}\n",
    "    if training_size not in total_map:\n",
    "        return df  # e.g. \"all\"\n",
    "\n",
    "    total_samples = total_map[training_size]\n",
    "    n_years       = len(years)\n",
    "    base          = total_samples // n_years\n",
    "    remainder     = total_samples % n_years\n",
    "\n",
    "    # --- build a dict: year -> how many to sample ---\n",
    "    # give +1 to the first `remainder` years in ascending order\n",
    "    quotas = {\n",
    "        year: base + (1 if idx < remainder else 0)\n",
    "        for idx, year in enumerate(sorted(years))\n",
    "    }\n",
    "\n",
    "    # --- sample per‐year according to the quota dict ---\n",
    "    sampled = (\n",
    "        df\n",
    "        .groupby(\"year\", group_keys=False)\n",
    "        .apply(lambda grp: grp.sample(\n",
    "            n=min(len(grp), quotas[grp.name]),\n",
    "            random_state=random_state))\n",
    "        .reset_index(drop=True)\n",
    "    )\n",
    "\n",
    "    return sampled"
   ]
  },
  {
   "cell_type": "code",
   "execution_count": 15,
   "id": "c0ccd338-0e02-41f3-a09d-f56f9266e3fb",
   "metadata": {
    "execution": {
     "iopub.execute_input": "2025-07-30T21:26:19.512987Z",
     "iopub.status.busy": "2025-07-30T21:26:19.512378Z",
     "iopub.status.idle": "2025-07-30T21:26:19.517066Z",
     "shell.execute_reply": "2025-07-30T21:26:19.516242Z"
    },
    "papermill": {
     "duration": 0.024136,
     "end_time": "2025-07-30T21:26:19.518378",
     "exception": false,
     "start_time": "2025-07-30T21:26:19.494242",
     "status": "completed"
    },
    "tags": []
   },
   "outputs": [],
   "source": [
    "#universe[\"training_size\"]"
   ]
  },
  {
   "cell_type": "code",
   "execution_count": 16,
   "id": "ca707fd7-8047-4acd-bfa5-66248fbbf8e6",
   "metadata": {
    "execution": {
     "iopub.execute_input": "2025-07-30T21:26:19.543639Z",
     "iopub.status.busy": "2025-07-30T21:26:19.542954Z",
     "iopub.status.idle": "2025-07-30T21:26:19.547522Z",
     "shell.execute_reply": "2025-07-30T21:26:19.546763Z"
    },
    "papermill": {
     "duration": 0.019021,
     "end_time": "2025-07-30T21:26:19.548937",
     "exception": false,
     "start_time": "2025-07-30T21:26:19.529916",
     "status": "completed"
    },
    "tags": []
   },
   "outputs": [],
   "source": [
    "#universe[\"training_year\"]"
   ]
  },
  {
   "cell_type": "code",
   "execution_count": 17,
   "id": "aea9c6ef-6f46-42c8-85eb-5a62025c1508",
   "metadata": {
    "execution": {
     "iopub.execute_input": "2025-07-30T21:26:19.585776Z",
     "iopub.status.busy": "2025-07-30T21:26:19.585114Z",
     "iopub.status.idle": "2025-07-30T21:26:19.777219Z",
     "shell.execute_reply": "2025-07-30T21:26:19.776248Z"
    },
    "papermill": {
     "duration": 0.214075,
     "end_time": "2025-07-30T21:26:19.779134",
     "exception": false,
     "start_time": "2025-07-30T21:26:19.565059",
     "status": "completed"
    },
    "tags": []
   },
   "outputs": [],
   "source": [
    "siab_train = sample_by_year_size(siab,\n",
    "                               training_year=universe[\"training_year\"],\n",
    "                               training_size=universe[\"training_size\"])"
   ]
  },
  {
   "cell_type": "code",
   "execution_count": 18,
   "id": "8d3afb32-789d-442c-8d5d-9f5aa8dd2eed",
   "metadata": {
    "execution": {
     "iopub.execute_input": "2025-07-30T21:26:19.826614Z",
     "iopub.status.busy": "2025-07-30T21:26:19.826099Z",
     "iopub.status.idle": "2025-07-30T21:26:19.831326Z",
     "shell.execute_reply": "2025-07-30T21:26:19.830373Z"
    },
    "papermill": {
     "duration": 0.03063,
     "end_time": "2025-07-30T21:26:19.833032",
     "exception": false,
     "start_time": "2025-07-30T21:26:19.802402",
     "status": "completed"
    },
    "tags": []
   },
   "outputs": [],
   "source": [
    "#siab_train.shape"
   ]
  },
  {
   "cell_type": "code",
   "execution_count": 19,
   "id": "d582db68-1a4c-47fb-84fc-08518dc1975a",
   "metadata": {
    "execution": {
     "iopub.execute_input": "2025-07-30T21:26:19.881170Z",
     "iopub.status.busy": "2025-07-30T21:26:19.880591Z",
     "iopub.status.idle": "2025-07-30T21:26:19.886096Z",
     "shell.execute_reply": "2025-07-30T21:26:19.885115Z"
    },
    "papermill": {
     "duration": 0.031781,
     "end_time": "2025-07-30T21:26:19.887684",
     "exception": false,
     "start_time": "2025-07-30T21:26:19.855903",
     "status": "completed"
    },
    "tags": []
   },
   "outputs": [],
   "source": [
    "#display(siab_train.groupby(\"year\").size())"
   ]
  },
  {
   "cell_type": "code",
   "execution_count": 20,
   "id": "a561edb4-d032-42cb-8256-22eac1111c64",
   "metadata": {
    "execution": {
     "iopub.execute_input": "2025-07-30T21:26:19.936342Z",
     "iopub.status.busy": "2025-07-30T21:26:19.935834Z",
     "iopub.status.idle": "2025-07-30T21:26:20.183658Z",
     "shell.execute_reply": "2025-07-30T21:26:20.182643Z"
    },
    "papermill": {
     "duration": 0.27413,
     "end_time": "2025-07-30T21:26:20.185581",
     "exception": false,
     "start_time": "2025-07-30T21:26:19.911451",
     "status": "completed"
    },
    "tags": []
   },
   "outputs": [],
   "source": [
    "#siab_train = siab_s[siab_s.year < 2015]\n",
    "siab_calib = siab[siab.year == 2015]\n",
    "siab_test = siab[siab.year == 2016]"
   ]
  },
  {
   "cell_type": "code",
   "execution_count": 21,
   "id": "472de16f-c3db-4916-846b-1f0de9cf1746",
   "metadata": {
    "execution": {
     "iopub.execute_input": "2025-07-30T21:26:20.233754Z",
     "iopub.status.busy": "2025-07-30T21:26:20.233247Z",
     "iopub.status.idle": "2025-07-30T21:26:20.240382Z",
     "shell.execute_reply": "2025-07-30T21:26:20.239428Z"
    },
    "papermill": {
     "duration": 0.03288,
     "end_time": "2025-07-30T21:26:20.242150",
     "exception": false,
     "start_time": "2025-07-30T21:26:20.209270",
     "status": "completed"
    },
    "tags": []
   },
   "outputs": [],
   "source": [
    "X_train = siab_train.iloc[:,4:164]\n",
    "y_train = siab_train.iloc[:, [3]]"
   ]
  },
  {
   "cell_type": "code",
   "execution_count": 22,
   "id": "828c96af-f43a-4ed6-ba47-8ac73a47d56c",
   "metadata": {
    "execution": {
     "iopub.execute_input": "2025-07-30T21:26:20.289709Z",
     "iopub.status.busy": "2025-07-30T21:26:20.289286Z",
     "iopub.status.idle": "2025-07-30T21:26:20.337996Z",
     "shell.execute_reply": "2025-07-30T21:26:20.336951Z"
    },
    "papermill": {
     "duration": 0.074178,
     "end_time": "2025-07-30T21:26:20.339885",
     "exception": false,
     "start_time": "2025-07-30T21:26:20.265707",
     "status": "completed"
    },
    "tags": []
   },
   "outputs": [],
   "source": [
    "X_calib = siab_calib.iloc[:,4:164]\n",
    "y_calib = siab_calib.iloc[:, [3]]"
   ]
  },
  {
   "cell_type": "code",
   "execution_count": 23,
   "id": "c34be9c3-6bd6-476e-acd3-845840e303be",
   "metadata": {
    "execution": {
     "iopub.execute_input": "2025-07-30T21:26:20.384948Z",
     "iopub.status.busy": "2025-07-30T21:26:20.384151Z",
     "iopub.status.idle": "2025-07-30T21:26:20.441111Z",
     "shell.execute_reply": "2025-07-30T21:26:20.439968Z"
    },
    "papermill": {
     "duration": 0.080875,
     "end_time": "2025-07-30T21:26:20.442939",
     "exception": false,
     "start_time": "2025-07-30T21:26:20.362064",
     "status": "completed"
    },
    "tags": []
   },
   "outputs": [],
   "source": [
    "X_test = siab_test.iloc[:,4:164]\n",
    "y_true = siab_test.iloc[:, [3]]"
   ]
  },
  {
   "cell_type": "markdown",
   "id": "9901737e-04df-44f0-9100-f5ad144ed040",
   "metadata": {
    "papermill": {
     "duration": 0.02395,
     "end_time": "2025-07-30T21:26:20.491167",
     "exception": false,
     "start_time": "2025-07-30T21:26:20.467217",
     "status": "completed"
    },
    "tags": []
   },
   "source": [
    "# Splitting Data and Setting Training Data Size OLD VERSION"
   ]
  },
  {
   "cell_type": "code",
   "execution_count": 24,
   "id": "acbc8f7d-8fc8-4e86-8c59-5dcb0f58384b",
   "metadata": {
    "execution": {
     "iopub.execute_input": "2025-07-30T21:26:20.540258Z",
     "iopub.status.busy": "2025-07-30T21:26:20.539546Z",
     "iopub.status.idle": "2025-07-30T21:26:20.546044Z",
     "shell.execute_reply": "2025-07-30T21:26:20.545058Z"
    },
    "papermill": {
     "duration": 0.033186,
     "end_time": "2025-07-30T21:26:20.547805",
     "exception": false,
     "start_time": "2025-07-30T21:26:20.514619",
     "status": "completed"
    },
    "tags": []
   },
   "outputs": [],
   "source": [
    "#def sample_by_year(df, training_size, random_state=42):\n",
    "#    if training_size == \"2014\":\n",
    "#        return df[df[\"year\"] == 2014].reset_index(drop=True)\n",
    "#    \n",
    "#    size_map = {\n",
    "#        \"25k\": 5000,\n",
    "#        \"5k\": 1000,\n",
    "#        \"1k\": 200\n",
    "#    }\n",
    "#\n",
    "#    if training_size not in size_map:\n",
    "#        return df.reset_index(drop=True)  # use all data\n",
    "#\n",
    "#    n_per_year = size_map[training_size]\n",
    "#    grouped = df.groupby(\"year\")\n",
    "#    sampled = grouped.apply(lambda x: x.sample(n=min(n_per_year, len(x)), random_state=random_state))\n",
    "#    return sampled.reset_index(drop=True)"
   ]
  },
  {
   "cell_type": "code",
   "execution_count": 25,
   "id": "6d931f52-beaf-43ff-9e78-9d44a448d54e",
   "metadata": {
    "execution": {
     "iopub.execute_input": "2025-07-30T21:26:20.596582Z",
     "iopub.status.busy": "2025-07-30T21:26:20.596117Z",
     "iopub.status.idle": "2025-07-30T21:26:20.601155Z",
     "shell.execute_reply": "2025-07-30T21:26:20.600091Z"
    },
    "papermill": {
     "duration": 0.018393,
     "end_time": "2025-07-30T21:26:20.602894",
     "exception": false,
     "start_time": "2025-07-30T21:26:20.584501",
     "status": "completed"
    },
    "tags": []
   },
   "outputs": [],
   "source": [
    "#siab_s = sample_by_year(siab, universe[\"training_size\"])"
   ]
  },
  {
   "cell_type": "code",
   "execution_count": 26,
   "id": "5db0a40e-a4e2-4920-be85-b12ae061d70d",
   "metadata": {
    "execution": {
     "iopub.execute_input": "2025-07-30T21:26:20.643802Z",
     "iopub.status.busy": "2025-07-30T21:26:20.643335Z",
     "iopub.status.idle": "2025-07-30T21:26:20.647625Z",
     "shell.execute_reply": "2025-07-30T21:26:20.646916Z"
    },
    "papermill": {
     "duration": 0.023348,
     "end_time": "2025-07-30T21:26:20.649430",
     "exception": false,
     "start_time": "2025-07-30T21:26:20.626082",
     "status": "completed"
    },
    "tags": []
   },
   "outputs": [],
   "source": [
    "#display(siab_s.groupby(\"year\").size())"
   ]
  },
  {
   "cell_type": "code",
   "execution_count": 27,
   "id": "e6c733c5",
   "metadata": {
    "execution": {
     "iopub.execute_input": "2025-07-30T21:26:20.695479Z",
     "iopub.status.busy": "2025-07-30T21:26:20.694984Z",
     "iopub.status.idle": "2025-07-30T21:26:20.802769Z",
     "shell.execute_reply": "2025-07-30T21:26:20.801769Z"
    },
    "papermill": {
     "duration": 0.132527,
     "end_time": "2025-07-30T21:26:20.804772",
     "exception": false,
     "start_time": "2025-07-30T21:26:20.672245",
     "status": "completed"
    },
    "tags": []
   },
   "outputs": [],
   "source": [
    "# Auxiliary data needed downstream in the pipeline\n",
    "\n",
    "org_train = X_train.copy()\n",
    "org_test = X_test.copy()\n",
    "org_calib = X_calib.copy()"
   ]
  },
  {
   "cell_type": "code",
   "execution_count": 28,
   "id": "1466abac-c6da-4492-a62f-4240ae3783af",
   "metadata": {
    "execution": {
     "iopub.execute_input": "2025-07-30T21:26:20.856198Z",
     "iopub.status.busy": "2025-07-30T21:26:20.855703Z",
     "iopub.status.idle": "2025-07-30T21:26:20.861972Z",
     "shell.execute_reply": "2025-07-30T21:26:20.861048Z"
    },
    "papermill": {
     "duration": 0.033745,
     "end_time": "2025-07-30T21:26:20.863718",
     "exception": false,
     "start_time": "2025-07-30T21:26:20.829973",
     "status": "completed"
    },
    "tags": []
   },
   "outputs": [],
   "source": [
    "# put in other script?\n",
    "# Group sizes\n",
    "\n",
    "#def calculate_percentages(df, df_name):\n",
    "#    total_entries = len(df)\n",
    "#\n",
    "#    female_pct = (df['frau1'] == 1).mean() * 100\n",
    "#    non_german_pct = ((df['maxdeutsch1'] == 0) & (df['maxdeutsch.Missing.'] == 0)).mean() * 100\n",
    "#    non_german_male_pct = ((df['frau1'] == 0) & (df['maxdeutsch1'] == 0) & (df['maxdeutsch.Missing.'] == 0)).mean() * 100\n",
    "#    non_german_female_pct = ((df['frau1'] == 1) & (df['maxdeutsch1'] == 0) & (df['maxdeutsch.Missing.'] == 0)).mean() * 100\n",
    "#\n",
    "#    print(f\"--- {df_name} ---\")\n",
    "#    print(f\"Female: {female_pct:.2f}%\")\n",
    "#    print(f\"Non-German: {non_german_pct:.2f}%\")\n",
    "#    print(f\"Non-German Male: {non_german_male_pct:.2f}%\")\n",
    "#    print(f\"Non-German Female: {non_german_female_pct:.2f}%\\n\")\n",
    "#\n",
    "## Calculate for each DataFrame\n",
    "#calculate_percentages(siab_calib, \"siab_calib\")\n",
    "#calculate_percentages(siab_test, \"siab_test\")\n",
    "#calculate_percentages(siab_train, \"siab_train\")"
   ]
  },
  {
   "cell_type": "markdown",
   "id": "0a4a1b33",
   "metadata": {
    "papermill": {
     "duration": 0.025871,
     "end_time": "2025-07-30T21:26:20.915228",
     "exception": false,
     "start_time": "2025-07-30T21:26:20.889357",
     "status": "completed"
    },
    "tags": []
   },
   "source": [
    "# Preprocessing Data"
   ]
  },
  {
   "cell_type": "code",
   "execution_count": 29,
   "id": "ca879031",
   "metadata": {
    "execution": {
     "iopub.execute_input": "2025-07-30T21:26:20.972587Z",
     "iopub.status.busy": "2025-07-30T21:26:20.972096Z",
     "iopub.status.idle": "2025-07-30T21:26:20.978145Z",
     "shell.execute_reply": "2025-07-30T21:26:20.977259Z"
    },
    "papermill": {
     "duration": 0.034183,
     "end_time": "2025-07-30T21:26:20.979944",
     "exception": false,
     "start_time": "2025-07-30T21:26:20.945761",
     "status": "completed"
    },
    "tags": []
   },
   "outputs": [],
   "source": [
    "# EXCLUDE PROTECTED FEATURES\n",
    "# ----------------------\n",
    "# \"exclude_features\": \"none\", # \"nationality\", \"sex\", \"nationality-sex\"\n",
    "\n",
    "excluded_features = universe[\"exclude_features\"].split(\"-\") # split, e.g.: \"nationality-sex\" -> [\"nationality\", \"sex\"]\n",
    "excluded_features_dictionary = {\n",
    "    \"nationality\": [\"maxdeutsch1\", \"maxdeutsch.Missing.\"],\n",
    "    \"sex\": [\"frau1\"],\n",
    "    \"age\": [\"age\"],\n",
    "}\n"
   ]
  },
  {
   "cell_type": "code",
   "execution_count": 30,
   "id": "b745ac60",
   "metadata": {
    "execution": {
     "iopub.execute_input": "2025-07-30T21:26:21.030934Z",
     "iopub.status.busy": "2025-07-30T21:26:21.030029Z",
     "iopub.status.idle": "2025-07-30T21:26:21.036298Z",
     "shell.execute_reply": "2025-07-30T21:26:21.035250Z"
    },
    "papermill": {
     "duration": 0.033557,
     "end_time": "2025-07-30T21:26:21.038155",
     "exception": false,
     "start_time": "2025-07-30T21:26:21.004598",
     "status": "completed"
    },
    "tags": []
   },
   "outputs": [],
   "source": [
    "# Code nice names to column names\n",
    "\n",
    "excluded_features_columns = [\n",
    "    excluded_features_dictionary[f] for f in excluded_features if len(f) > 0 and f != \"none\"\n",
    "]"
   ]
  },
  {
   "cell_type": "code",
   "execution_count": 31,
   "id": "f84f73a2",
   "metadata": {
    "execution": {
     "iopub.execute_input": "2025-07-30T21:26:21.087746Z",
     "iopub.status.busy": "2025-07-30T21:26:21.087032Z",
     "iopub.status.idle": "2025-07-30T21:26:21.094216Z",
     "shell.execute_reply": "2025-07-30T21:26:21.093179Z"
    },
    "papermill": {
     "duration": 0.034151,
     "end_time": "2025-07-30T21:26:21.096153",
     "exception": false,
     "start_time": "2025-07-30T21:26:21.062002",
     "status": "completed"
    },
    "tags": []
   },
   "outputs": [],
   "source": [
    "from utils import flatten_once\n",
    "\n",
    "excluded_features_columns = flatten_once(excluded_features_columns)"
   ]
  },
  {
   "cell_type": "code",
   "execution_count": 32,
   "id": "884dea22",
   "metadata": {
    "execution": {
     "iopub.execute_input": "2025-07-30T21:26:21.144804Z",
     "iopub.status.busy": "2025-07-30T21:26:21.144113Z",
     "iopub.status.idle": "2025-07-30T21:26:21.149944Z",
     "shell.execute_reply": "2025-07-30T21:26:21.148953Z"
    },
    "papermill": {
     "duration": 0.032245,
     "end_time": "2025-07-30T21:26:21.151772",
     "exception": false,
     "start_time": "2025-07-30T21:26:21.119527",
     "status": "completed"
    },
    "tags": []
   },
   "outputs": [],
   "source": [
    "if len(excluded_features_columns) > 0:\n",
    "    print(f\"Dropping features: {excluded_features_columns}\")\n",
    "    X_train.drop(excluded_features_columns, axis=1, inplace=True)"
   ]
  },
  {
   "cell_type": "code",
   "execution_count": 33,
   "id": "95ab8b16",
   "metadata": {
    "execution": {
     "iopub.execute_input": "2025-07-30T21:26:21.201427Z",
     "iopub.status.busy": "2025-07-30T21:26:21.200900Z",
     "iopub.status.idle": "2025-07-30T21:26:21.206966Z",
     "shell.execute_reply": "2025-07-30T21:26:21.206082Z"
    },
    "papermill": {
     "duration": 0.033253,
     "end_time": "2025-07-30T21:26:21.208791",
     "exception": false,
     "start_time": "2025-07-30T21:26:21.175538",
     "status": "completed"
    },
    "tags": []
   },
   "outputs": [],
   "source": [
    "if len(excluded_features_columns) > 0:\n",
    "    print(f\"Dropping features: {excluded_features_columns}\")\n",
    "    X_test.drop(excluded_features_columns, axis=1, inplace=True)"
   ]
  },
  {
   "cell_type": "code",
   "execution_count": 34,
   "id": "1853aaf5-fb9f-46cb-a2b5-8ea4ae2237e4",
   "metadata": {
    "execution": {
     "iopub.execute_input": "2025-07-30T21:26:21.258970Z",
     "iopub.status.busy": "2025-07-30T21:26:21.258283Z",
     "iopub.status.idle": "2025-07-30T21:26:21.264203Z",
     "shell.execute_reply": "2025-07-30T21:26:21.263243Z"
    },
    "papermill": {
     "duration": 0.032676,
     "end_time": "2025-07-30T21:26:21.265840",
     "exception": false,
     "start_time": "2025-07-30T21:26:21.233164",
     "status": "completed"
    },
    "tags": []
   },
   "outputs": [],
   "source": [
    "if len(excluded_features_columns) > 0:\n",
    "    print(f\"Dropping features: {excluded_features_columns}\")\n",
    "    X_calib.drop(excluded_features_columns, axis=1, inplace=True)"
   ]
  },
  {
   "cell_type": "code",
   "execution_count": 35,
   "id": "6727d079-03e5-481e-9d38-292a90b7a0a8",
   "metadata": {
    "execution": {
     "iopub.execute_input": "2025-07-30T21:26:21.311585Z",
     "iopub.status.busy": "2025-07-30T21:26:21.310890Z",
     "iopub.status.idle": "2025-07-30T21:26:21.316055Z",
     "shell.execute_reply": "2025-07-30T21:26:21.315129Z"
    },
    "papermill": {
     "duration": 0.029291,
     "end_time": "2025-07-30T21:26:21.317787",
     "exception": false,
     "start_time": "2025-07-30T21:26:21.288496",
     "status": "completed"
    },
    "tags": []
   },
   "outputs": [],
   "source": [
    "# SPLIT & STRATIFY DATA\n",
    "# ----------------------"
   ]
  },
  {
   "cell_type": "code",
   "execution_count": 36,
   "id": "76c4dc6d",
   "metadata": {
    "execution": {
     "iopub.execute_input": "2025-07-30T21:26:21.353861Z",
     "iopub.status.busy": "2025-07-30T21:26:21.353352Z",
     "iopub.status.idle": "2025-07-30T21:26:21.358193Z",
     "shell.execute_reply": "2025-07-30T21:26:21.357422Z"
    },
    "papermill": {
     "duration": 0.019909,
     "end_time": "2025-07-30T21:26:21.359627",
     "exception": false,
     "start_time": "2025-07-30T21:26:21.339718",
     "status": "completed"
    },
    "tags": []
   },
   "outputs": [],
   "source": [
    "# EXCLUDE CERTAIN SUBGROUPS\n",
    "# ----------------------\n",
    "\n",
    "mode = universe.get(\"exclude_subgroups\", \"keep-all\") \n",
    "# Fetches the exclude_subgroups setting from the universe dict.\n",
    "# Defaults to \"keep-all\" if the key is missing."
   ]
  },
  {
   "cell_type": "code",
   "execution_count": 37,
   "id": "21994072",
   "metadata": {
    "execution": {
     "iopub.execute_input": "2025-07-30T21:26:21.386367Z",
     "iopub.status.busy": "2025-07-30T21:26:21.385880Z",
     "iopub.status.idle": "2025-07-30T21:26:21.391637Z",
     "shell.execute_reply": "2025-07-30T21:26:21.390839Z"
    },
    "papermill": {
     "duration": 0.020413,
     "end_time": "2025-07-30T21:26:21.393165",
     "exception": false,
     "start_time": "2025-07-30T21:26:21.372752",
     "status": "completed"
    },
    "tags": []
   },
   "outputs": [],
   "source": [
    "if mode == \"keep-all\":\n",
    "    keep_mask = pd.Series(True, index=org_train.index)\n",
    "\n",
    "# org_train contains the original feature columns from features_org (in Simson)\n",
    "# features_org contains unprocessed features, for me X_train at beginning ???\n",
    "# For keep-all, creates a boolean Series (keep_mask) of all True, so no rows are removed.\n",
    "\n",
    "elif mode == \"drop-non-german\":\n",
    "    keep_mask = org_train[\"maxdeutsch1\"] == 1 # ??? what about missing values?\n",
    "\n",
    "else:\n",
    "    raise ValueError(f\"Unsupported mode for exclude_subgroups: {mode}\")\n"
   ]
  },
  {
   "cell_type": "code",
   "execution_count": 38,
   "id": "71651440",
   "metadata": {
    "execution": {
     "iopub.execute_input": "2025-07-30T21:26:21.452922Z",
     "iopub.status.busy": "2025-07-30T21:26:21.452296Z",
     "iopub.status.idle": "2025-07-30T21:26:21.460155Z",
     "shell.execute_reply": "2025-07-30T21:26:21.458784Z"
    },
    "papermill": {
     "duration": 0.042936,
     "end_time": "2025-07-30T21:26:21.462110",
     "exception": false,
     "start_time": "2025-07-30T21:26:21.419174",
     "status": "completed"
    },
    "tags": []
   },
   "outputs": [],
   "source": [
    "n_drop = (~keep_mask).sum() # Calculates how many rows are set to be dropped\n",
    "if n_drop > 0:\n",
    "    pct = n_drop / len(keep_mask) * 100\n",
    "    print(f\"Dropping {n_drop} rows ({pct:.2f}%) where mode='{mode}'\")"
   ]
  },
  {
   "cell_type": "code",
   "execution_count": 39,
   "id": "5fb8eee5",
   "metadata": {
    "execution": {
     "iopub.execute_input": "2025-07-30T21:26:21.513199Z",
     "iopub.status.busy": "2025-07-30T21:26:21.512450Z",
     "iopub.status.idle": "2025-07-30T21:26:21.519685Z",
     "shell.execute_reply": "2025-07-30T21:26:21.518584Z"
    },
    "papermill": {
     "duration": 0.035206,
     "end_time": "2025-07-30T21:26:21.521670",
     "exception": false,
     "start_time": "2025-07-30T21:26:21.486464",
     "status": "completed"
    },
    "tags": []
   },
   "outputs": [],
   "source": [
    "X_train = X_train[keep_mask]"
   ]
  },
  {
   "cell_type": "code",
   "execution_count": 40,
   "id": "b202bb3a",
   "metadata": {
    "execution": {
     "iopub.execute_input": "2025-07-30T21:26:21.573257Z",
     "iopub.status.busy": "2025-07-30T21:26:21.572550Z",
     "iopub.status.idle": "2025-07-30T21:26:21.579190Z",
     "shell.execute_reply": "2025-07-30T21:26:21.578208Z"
    },
    "papermill": {
     "duration": 0.033984,
     "end_time": "2025-07-30T21:26:21.580923",
     "exception": false,
     "start_time": "2025-07-30T21:26:21.546939",
     "status": "completed"
    },
    "tags": []
   },
   "outputs": [],
   "source": [
    "y_train = y_train[keep_mask]"
   ]
  },
  {
   "cell_type": "markdown",
   "id": "493e2ac3",
   "metadata": {
    "papermill": {
     "duration": 0.023011,
     "end_time": "2025-07-30T21:26:21.629244",
     "exception": false,
     "start_time": "2025-07-30T21:26:21.606233",
     "status": "completed"
    },
    "tags": []
   },
   "source": [
    "# Model Training"
   ]
  },
  {
   "cell_type": "code",
   "execution_count": 41,
   "id": "679e1268",
   "metadata": {
    "execution": {
     "iopub.execute_input": "2025-07-30T21:26:21.681452Z",
     "iopub.status.busy": "2025-07-30T21:26:21.680566Z",
     "iopub.status.idle": "2025-07-30T21:26:21.798383Z",
     "shell.execute_reply": "2025-07-30T21:26:21.796731Z"
    },
    "papermill": {
     "duration": 0.146077,
     "end_time": "2025-07-30T21:26:21.800691",
     "exception": false,
     "start_time": "2025-07-30T21:26:21.654614",
     "status": "completed"
    },
    "tags": []
   },
   "outputs": [],
   "source": [
    "from sklearn.linear_model import LogisticRegression\n",
    "from sklearn.ensemble import GradientBoostingClassifier, RandomForestClassifier\n",
    "\n",
    "if (universe[\"model\"] == \"logreg\"):\n",
    "    model = LogisticRegression() #penalty=\"none\") #, solver=\"newton-cg\", max_iter=1) # include random_state=19 ?\n",
    "elif (universe[\"model\"] == \"penalized_logreg\"):\n",
    "    model = LogisticRegression(penalty=\"l2\", C=1.0) #, solver=\"newton-cg\", max_iter=1)\n",
    "elif (universe[\"model\"] == \"rf\"):\n",
    "    model = RandomForestClassifier(n_estimators=100, n_jobs=-1)\n",
    "elif (universe[\"model\"] == \"gbm\"):\n",
    "    model = GradientBoostingClassifier()\n",
    "elif (universe[\"model\"] == \"elasticnet\"):\n",
    "    model = LogisticRegression(penalty = 'elasticnet', solver = 'saga', l1_ratio = 0.5, max_iter=5000) # which solver to use?\n",
    "else:\n",
    "    raise \"Unsupported universe.model\""
   ]
  },
  {
   "cell_type": "code",
   "execution_count": 42,
   "id": "0cc8f744",
   "metadata": {
    "execution": {
     "iopub.execute_input": "2025-07-30T21:26:21.862410Z",
     "iopub.status.busy": "2025-07-30T21:26:21.861952Z",
     "iopub.status.idle": "2025-07-30T21:26:21.867893Z",
     "shell.execute_reply": "2025-07-30T21:26:21.867161Z"
    },
    "papermill": {
     "duration": 0.040413,
     "end_time": "2025-07-30T21:26:21.869358",
     "exception": false,
     "start_time": "2025-07-30T21:26:21.828945",
     "status": "completed"
    },
    "tags": []
   },
   "outputs": [],
   "source": [
    "import numpy as np\n",
    "from sklearn.pipeline import Pipeline\n",
    "from sklearn.preprocessing import StandardScaler\n",
    "\n",
    "model = Pipeline([\n",
    "    #(\"continuous_processor\", continuous_processor),\n",
    "    #(\"categorical_preprocessor\", categorical_preprocessor),\n",
    "    (\"scale\", StandardScaler() if universe[\"scale\"] == \"scale\" else None), \n",
    "    (\"model\", model),\n",
    "])"
   ]
  },
  {
   "cell_type": "code",
   "execution_count": 43,
   "id": "9442c04d",
   "metadata": {
    "execution": {
     "iopub.execute_input": "2025-07-30T21:26:21.897950Z",
     "iopub.status.busy": "2025-07-30T21:26:21.897487Z",
     "iopub.status.idle": "2025-07-30T21:26:24.828290Z",
     "shell.execute_reply": "2025-07-30T21:26:24.827338Z"
    },
    "papermill": {
     "duration": 2.947233,
     "end_time": "2025-07-30T21:26:24.829960",
     "exception": false,
     "start_time": "2025-07-30T21:26:21.882727",
     "status": "completed"
    },
    "tags": []
   },
   "outputs": [
    {
     "data": {
      "text/html": [
       "<style>#sk-container-id-1 {color: black;background-color: white;}#sk-container-id-1 pre{padding: 0;}#sk-container-id-1 div.sk-toggleable {background-color: white;}#sk-container-id-1 label.sk-toggleable__label {cursor: pointer;display: block;width: 100%;margin-bottom: 0;padding: 0.3em;box-sizing: border-box;text-align: center;}#sk-container-id-1 label.sk-toggleable__label-arrow:before {content: \"▸\";float: left;margin-right: 0.25em;color: #696969;}#sk-container-id-1 label.sk-toggleable__label-arrow:hover:before {color: black;}#sk-container-id-1 div.sk-estimator:hover label.sk-toggleable__label-arrow:before {color: black;}#sk-container-id-1 div.sk-toggleable__content {max-height: 0;max-width: 0;overflow: hidden;text-align: left;background-color: #f0f8ff;}#sk-container-id-1 div.sk-toggleable__content pre {margin: 0.2em;color: black;border-radius: 0.25em;background-color: #f0f8ff;}#sk-container-id-1 input.sk-toggleable__control:checked~div.sk-toggleable__content {max-height: 200px;max-width: 100%;overflow: auto;}#sk-container-id-1 input.sk-toggleable__control:checked~label.sk-toggleable__label-arrow:before {content: \"▾\";}#sk-container-id-1 div.sk-estimator input.sk-toggleable__control:checked~label.sk-toggleable__label {background-color: #d4ebff;}#sk-container-id-1 div.sk-label input.sk-toggleable__control:checked~label.sk-toggleable__label {background-color: #d4ebff;}#sk-container-id-1 input.sk-hidden--visually {border: 0;clip: rect(1px 1px 1px 1px);clip: rect(1px, 1px, 1px, 1px);height: 1px;margin: -1px;overflow: hidden;padding: 0;position: absolute;width: 1px;}#sk-container-id-1 div.sk-estimator {font-family: monospace;background-color: #f0f8ff;border: 1px dotted black;border-radius: 0.25em;box-sizing: border-box;margin-bottom: 0.5em;}#sk-container-id-1 div.sk-estimator:hover {background-color: #d4ebff;}#sk-container-id-1 div.sk-parallel-item::after {content: \"\";width: 100%;border-bottom: 1px solid gray;flex-grow: 1;}#sk-container-id-1 div.sk-label:hover label.sk-toggleable__label {background-color: #d4ebff;}#sk-container-id-1 div.sk-serial::before {content: \"\";position: absolute;border-left: 1px solid gray;box-sizing: border-box;top: 0;bottom: 0;left: 50%;z-index: 0;}#sk-container-id-1 div.sk-serial {display: flex;flex-direction: column;align-items: center;background-color: white;padding-right: 0.2em;padding-left: 0.2em;position: relative;}#sk-container-id-1 div.sk-item {position: relative;z-index: 1;}#sk-container-id-1 div.sk-parallel {display: flex;align-items: stretch;justify-content: center;background-color: white;position: relative;}#sk-container-id-1 div.sk-item::before, #sk-container-id-1 div.sk-parallel-item::before {content: \"\";position: absolute;border-left: 1px solid gray;box-sizing: border-box;top: 0;bottom: 0;left: 50%;z-index: -1;}#sk-container-id-1 div.sk-parallel-item {display: flex;flex-direction: column;z-index: 1;position: relative;background-color: white;}#sk-container-id-1 div.sk-parallel-item:first-child::after {align-self: flex-end;width: 50%;}#sk-container-id-1 div.sk-parallel-item:last-child::after {align-self: flex-start;width: 50%;}#sk-container-id-1 div.sk-parallel-item:only-child::after {width: 0;}#sk-container-id-1 div.sk-dashed-wrapped {border: 1px dashed gray;margin: 0 0.4em 0.5em 0.4em;box-sizing: border-box;padding-bottom: 0.4em;background-color: white;}#sk-container-id-1 div.sk-label label {font-family: monospace;font-weight: bold;display: inline-block;line-height: 1.2em;}#sk-container-id-1 div.sk-label-container {text-align: center;}#sk-container-id-1 div.sk-container {/* jupyter's `normalize.less` sets `[hidden] { display: none; }` but bootstrap.min.css set `[hidden] { display: none !important; }` so we also need the `!important` here to be able to override the default hidden behavior on the sphinx rendered scikit-learn.org. See: https://github.com/scikit-learn/scikit-learn/issues/21755 */display: inline-block !important;position: relative;}#sk-container-id-1 div.sk-text-repr-fallback {display: none;}</style><div id=\"sk-container-id-1\" class=\"sk-top-container\"><div class=\"sk-text-repr-fallback\"><pre>Pipeline(steps=[(&#x27;scale&#x27;, StandardScaler()),\n",
       "                (&#x27;model&#x27;,\n",
       "                 LogisticRegression(l1_ratio=0.5, max_iter=5000,\n",
       "                                    penalty=&#x27;elasticnet&#x27;, solver=&#x27;saga&#x27;))])</pre><b>In a Jupyter environment, please rerun this cell to show the HTML representation or trust the notebook. <br />On GitHub, the HTML representation is unable to render, please try loading this page with nbviewer.org.</b></div><div class=\"sk-container\" hidden><div class=\"sk-item sk-dashed-wrapped\"><div class=\"sk-label-container\"><div class=\"sk-label sk-toggleable\"><input class=\"sk-toggleable__control sk-hidden--visually\" id=\"sk-estimator-id-1\" type=\"checkbox\" ><label for=\"sk-estimator-id-1\" class=\"sk-toggleable__label sk-toggleable__label-arrow\">Pipeline</label><div class=\"sk-toggleable__content\"><pre>Pipeline(steps=[(&#x27;scale&#x27;, StandardScaler()),\n",
       "                (&#x27;model&#x27;,\n",
       "                 LogisticRegression(l1_ratio=0.5, max_iter=5000,\n",
       "                                    penalty=&#x27;elasticnet&#x27;, solver=&#x27;saga&#x27;))])</pre></div></div></div><div class=\"sk-serial\"><div class=\"sk-item\"><div class=\"sk-estimator sk-toggleable\"><input class=\"sk-toggleable__control sk-hidden--visually\" id=\"sk-estimator-id-2\" type=\"checkbox\" ><label for=\"sk-estimator-id-2\" class=\"sk-toggleable__label sk-toggleable__label-arrow\">StandardScaler</label><div class=\"sk-toggleable__content\"><pre>StandardScaler()</pre></div></div></div><div class=\"sk-item\"><div class=\"sk-estimator sk-toggleable\"><input class=\"sk-toggleable__control sk-hidden--visually\" id=\"sk-estimator-id-3\" type=\"checkbox\" ><label for=\"sk-estimator-id-3\" class=\"sk-toggleable__label sk-toggleable__label-arrow\">LogisticRegression</label><div class=\"sk-toggleable__content\"><pre>LogisticRegression(l1_ratio=0.5, max_iter=5000, penalty=&#x27;elasticnet&#x27;,\n",
       "                   solver=&#x27;saga&#x27;)</pre></div></div></div></div></div></div></div>"
      ],
      "text/plain": [
       "Pipeline(steps=[('scale', StandardScaler()),\n",
       "                ('model',\n",
       "                 LogisticRegression(l1_ratio=0.5, max_iter=5000,\n",
       "                                    penalty='elasticnet', solver='saga'))])"
      ]
     },
     "execution_count": 43,
     "metadata": {},
     "output_type": "execute_result"
    }
   ],
   "source": [
    "model.fit(X_train, y_train.values.ravel())"
   ]
  },
  {
   "cell_type": "code",
   "execution_count": 44,
   "id": "af59f8c0",
   "metadata": {
    "execution": {
     "iopub.execute_input": "2025-07-30T21:26:24.883690Z",
     "iopub.status.busy": "2025-07-30T21:26:24.883219Z",
     "iopub.status.idle": "2025-07-30T21:26:24.889300Z",
     "shell.execute_reply": "2025-07-30T21:26:24.888332Z"
    },
    "papermill": {
     "duration": 0.0325,
     "end_time": "2025-07-30T21:26:24.891060",
     "exception": false,
     "start_time": "2025-07-30T21:26:24.858560",
     "status": "completed"
    },
    "tags": []
   },
   "outputs": [],
   "source": [
    "from fairness_multiverse.universe import predict_w_threshold"
   ]
  },
  {
   "cell_type": "code",
   "execution_count": 45,
   "id": "a7cf2e16",
   "metadata": {
    "execution": {
     "iopub.execute_input": "2025-07-30T21:26:24.941129Z",
     "iopub.status.busy": "2025-07-30T21:26:24.940231Z",
     "iopub.status.idle": "2025-07-30T21:26:25.136626Z",
     "shell.execute_reply": "2025-07-30T21:26:25.135369Z"
    },
    "papermill": {
     "duration": 0.223525,
     "end_time": "2025-07-30T21:26:25.138301",
     "exception": false,
     "start_time": "2025-07-30T21:26:24.914776",
     "status": "completed"
    },
    "tags": []
   },
   "outputs": [
    {
     "data": {
      "text/plain": [
       "0.8202652992977372"
      ]
     },
     "execution_count": 45,
     "metadata": {},
     "output_type": "execute_result"
    }
   ],
   "source": [
    "probs_test = model.predict_proba(X_test)\n",
    "\n",
    "'''\n",
    "Below code returns a boolean array (or binary 0/1 array depending on how it’s used) where each element \n",
    "is True if the probability of class 1 is greater than or equal to the threshold, and False otherwise.\n",
    "'''\n",
    "y_pred_default = predict_w_threshold(probs_test, 0.5)\n",
    "\n",
    "from sklearn.metrics import accuracy_score\n",
    "\n",
    "# Naive prediction\n",
    "accuracy_score(y_true = y_true, y_pred = y_pred_default)"
   ]
  },
  {
   "cell_type": "code",
   "execution_count": 46,
   "id": "081964c3",
   "metadata": {
    "execution": {
     "iopub.execute_input": "2025-07-30T21:26:25.186693Z",
     "iopub.status.busy": "2025-07-30T21:26:25.185964Z",
     "iopub.status.idle": "2025-07-30T21:26:25.369349Z",
     "shell.execute_reply": "2025-07-30T21:26:25.368372Z"
    },
    "papermill": {
     "duration": 0.209416,
     "end_time": "2025-07-30T21:26:25.371083",
     "exception": false,
     "start_time": "2025-07-30T21:26:25.161667",
     "status": "completed"
    },
    "tags": []
   },
   "outputs": [
    {
     "data": {
      "text/plain": [
       "array([0, 0, 0, ..., 0, 0, 0])"
      ]
     },
     "execution_count": 46,
     "metadata": {},
     "output_type": "execute_result"
    }
   ],
   "source": [
    "model.predict(X_test)"
   ]
  },
  {
   "cell_type": "markdown",
   "id": "56c9705b",
   "metadata": {
    "papermill": {
     "duration": 0.023889,
     "end_time": "2025-07-30T21:26:25.418684",
     "exception": false,
     "start_time": "2025-07-30T21:26:25.394795",
     "status": "completed"
    },
    "tags": []
   },
   "source": [
    "# Conformal Prediction"
   ]
  },
  {
   "cell_type": "code",
   "execution_count": 47,
   "id": "160ec6ff",
   "metadata": {
    "execution": {
     "iopub.execute_input": "2025-07-30T21:26:25.467880Z",
     "iopub.status.busy": "2025-07-30T21:26:25.466967Z",
     "iopub.status.idle": "2025-07-30T21:26:25.472440Z",
     "shell.execute_reply": "2025-07-30T21:26:25.471482Z"
    },
    "papermill": {
     "duration": 0.031424,
     "end_time": "2025-07-30T21:26:25.474197",
     "exception": false,
     "start_time": "2025-07-30T21:26:25.442773",
     "status": "completed"
    },
    "tags": []
   },
   "outputs": [],
   "source": [
    "# Miscoverage level for conformal prediction (10% allowed error rate => 90% target coverage)\n",
    "alpha = 0.1"
   ]
  },
  {
   "cell_type": "code",
   "execution_count": 48,
   "id": "eadf4555-3dd3-440e-8e35-f82a4ad9f855",
   "metadata": {
    "execution": {
     "iopub.execute_input": "2025-07-30T21:26:25.524701Z",
     "iopub.status.busy": "2025-07-30T21:26:25.523947Z",
     "iopub.status.idle": "2025-07-30T21:26:25.705495Z",
     "shell.execute_reply": "2025-07-30T21:26:25.704730Z"
    },
    "papermill": {
     "duration": 0.207906,
     "end_time": "2025-07-30T21:26:25.706964",
     "exception": false,
     "start_time": "2025-07-30T21:26:25.499058",
     "status": "completed"
    },
    "tags": []
   },
   "outputs": [],
   "source": [
    "probs_calib = model.predict_proba(X_calib)"
   ]
  },
  {
   "cell_type": "code",
   "execution_count": 49,
   "id": "2ed93547-6d5d-4983-9b36-1ecb300da49a",
   "metadata": {
    "execution": {
     "iopub.execute_input": "2025-07-30T21:26:25.733172Z",
     "iopub.status.busy": "2025-07-30T21:26:25.732817Z",
     "iopub.status.idle": "2025-07-30T21:26:25.738028Z",
     "shell.execute_reply": "2025-07-30T21:26:25.737343Z"
    },
    "papermill": {
     "duration": 0.019517,
     "end_time": "2025-07-30T21:26:25.739364",
     "exception": false,
     "start_time": "2025-07-30T21:26:25.719847",
     "status": "completed"
    },
    "tags": []
   },
   "outputs": [],
   "source": [
    "y_calib = y_calib.values.ravel().astype(int)"
   ]
  },
  {
   "cell_type": "code",
   "execution_count": 50,
   "id": "65d1320d-f588-4b38-9072-62af1ae97f7d",
   "metadata": {
    "execution": {
     "iopub.execute_input": "2025-07-30T21:26:25.771133Z",
     "iopub.status.busy": "2025-07-30T21:26:25.770734Z",
     "iopub.status.idle": "2025-07-30T21:26:25.777001Z",
     "shell.execute_reply": "2025-07-30T21:26:25.776309Z"
    },
    "papermill": {
     "duration": 0.020974,
     "end_time": "2025-07-30T21:26:25.778276",
     "exception": false,
     "start_time": "2025-07-30T21:26:25.757302",
     "status": "completed"
    },
    "tags": []
   },
   "outputs": [],
   "source": [
    "from fairness_multiverse.conformal import compute_nc_scores\n",
    "\n",
    "# Compute nonconformity scores on calibration set (1 - probability of true class)\n",
    "nc_scores = compute_nc_scores(probs_calib, y_calib)"
   ]
  },
  {
   "cell_type": "code",
   "execution_count": 51,
   "id": "df3b8ca3-53b7-43d5-9667-7c85da7aeda2",
   "metadata": {
    "execution": {
     "iopub.execute_input": "2025-07-30T21:26:25.823953Z",
     "iopub.status.busy": "2025-07-30T21:26:25.823463Z",
     "iopub.status.idle": "2025-07-30T21:26:25.830312Z",
     "shell.execute_reply": "2025-07-30T21:26:25.829296Z"
    },
    "papermill": {
     "duration": 0.036959,
     "end_time": "2025-07-30T21:26:25.832382",
     "exception": false,
     "start_time": "2025-07-30T21:26:25.795423",
     "status": "completed"
    },
    "tags": []
   },
   "outputs": [],
   "source": [
    "from fairness_multiverse.conformal import find_threshold\n",
    "\n",
    "# Find conformal threshold q_hat for the given alpha (split conformal method)\n",
    "q_hat = find_threshold(nc_scores, alpha)"
   ]
  },
  {
   "cell_type": "code",
   "execution_count": 52,
   "id": "4d29e6c1-0ef6-4aa4-b8fe-4fe79b0d033a",
   "metadata": {
    "execution": {
     "iopub.execute_input": "2025-07-30T21:26:25.883349Z",
     "iopub.status.busy": "2025-07-30T21:26:25.882716Z",
     "iopub.status.idle": "2025-07-30T21:26:25.889882Z",
     "shell.execute_reply": "2025-07-30T21:26:25.888903Z"
    },
    "papermill": {
     "duration": 0.036032,
     "end_time": "2025-07-30T21:26:25.891478",
     "exception": false,
     "start_time": "2025-07-30T21:26:25.855446",
     "status": "completed"
    },
    "tags": []
   },
   "outputs": [
    {
     "data": {
      "text/plain": [
       "0.7899137025897351"
      ]
     },
     "execution_count": 52,
     "metadata": {},
     "output_type": "execute_result"
    }
   ],
   "source": [
    "q_hat"
   ]
  },
  {
   "cell_type": "code",
   "execution_count": 53,
   "id": "92460794-cdac-4be2-ba28-f28c0515a6fb",
   "metadata": {
    "execution": {
     "iopub.execute_input": "2025-07-30T21:26:25.943110Z",
     "iopub.status.busy": "2025-07-30T21:26:25.942618Z",
     "iopub.status.idle": "2025-07-30T21:26:26.740779Z",
     "shell.execute_reply": "2025-07-30T21:26:26.739858Z"
    },
    "papermill": {
     "duration": 0.826569,
     "end_time": "2025-07-30T21:26:26.742743",
     "exception": false,
     "start_time": "2025-07-30T21:26:25.916174",
     "status": "completed"
    },
    "tags": []
   },
   "outputs": [],
   "source": [
    "from fairness_multiverse.conformal import predict_conformal_sets\n",
    "\n",
    "# Generate prediction sets for each test example\n",
    "pred_sets = predict_conformal_sets(model, X_test, q_hat)"
   ]
  },
  {
   "cell_type": "code",
   "execution_count": 54,
   "id": "d90c9a65-e6db-4f5d-80cd-e68fb7e46829",
   "metadata": {
    "execution": {
     "iopub.execute_input": "2025-07-30T21:26:26.798838Z",
     "iopub.status.busy": "2025-07-30T21:26:26.798183Z",
     "iopub.status.idle": "2025-07-30T21:26:26.803885Z",
     "shell.execute_reply": "2025-07-30T21:26:26.802734Z"
    },
    "papermill": {
     "duration": 0.037706,
     "end_time": "2025-07-30T21:26:26.806002",
     "exception": false,
     "start_time": "2025-07-30T21:26:26.768296",
     "status": "completed"
    },
    "tags": []
   },
   "outputs": [],
   "source": [
    "y_true = y_true.squeeze()"
   ]
  },
  {
   "cell_type": "code",
   "execution_count": 55,
   "id": "3a58a54a-1e68-46b9-927a-df01f18aebc8",
   "metadata": {
    "execution": {
     "iopub.execute_input": "2025-07-30T21:26:26.862228Z",
     "iopub.status.busy": "2025-07-30T21:26:26.861578Z",
     "iopub.status.idle": "2025-07-30T21:26:27.562807Z",
     "shell.execute_reply": "2025-07-30T21:26:27.562058Z"
    },
    "papermill": {
     "duration": 0.731001,
     "end_time": "2025-07-30T21:26:27.564722",
     "exception": false,
     "start_time": "2025-07-30T21:26:26.833721",
     "status": "completed"
    },
    "tags": []
   },
   "outputs": [],
   "source": [
    "from fairness_multiverse.conformal import evaluate_sets\n",
    "\n",
    "# Evaluate coverage and average set size on test data\n",
    "metrics = evaluate_sets(pred_sets, y_true)"
   ]
  },
  {
   "cell_type": "markdown",
   "id": "2b569c12-9aaa-4c88-98c9-bbcd0cf3ebb8",
   "metadata": {
    "papermill": {
     "duration": 0.027459,
     "end_time": "2025-07-30T21:26:27.620974",
     "exception": false,
     "start_time": "2025-07-30T21:26:27.593515",
     "status": "completed"
    },
    "tags": []
   },
   "source": [
    "# CP Metrics"
   ]
  },
  {
   "cell_type": "code",
   "execution_count": 56,
   "id": "5ce0a5cb-201f-45a0-ade5-94c7f0bd6095",
   "metadata": {
    "execution": {
     "iopub.execute_input": "2025-07-30T21:26:27.679437Z",
     "iopub.status.busy": "2025-07-30T21:26:27.678839Z",
     "iopub.status.idle": "2025-07-30T21:26:27.687105Z",
     "shell.execute_reply": "2025-07-30T21:26:27.686065Z"
    },
    "papermill": {
     "duration": 0.040189,
     "end_time": "2025-07-30T21:26:27.688825",
     "exception": false,
     "start_time": "2025-07-30T21:26:27.648636",
     "status": "completed"
    },
    "tags": []
   },
   "outputs": [
    {
     "data": {
      "text/plain": [
       "{'coverage': 0.9067996878831791, 'avg_size': 1.2313565934678408}"
      ]
     },
     "execution_count": 56,
     "metadata": {},
     "output_type": "execute_result"
    }
   ],
   "source": [
    "metrics"
   ]
  },
  {
   "cell_type": "code",
   "execution_count": 57,
   "id": "9b9a838d-31c9-430b-ae14-12baee460d17",
   "metadata": {
    "execution": {
     "iopub.execute_input": "2025-07-30T21:26:27.747640Z",
     "iopub.status.busy": "2025-07-30T21:26:27.747033Z",
     "iopub.status.idle": "2025-07-30T21:26:27.755251Z",
     "shell.execute_reply": "2025-07-30T21:26:27.754114Z"
    },
    "papermill": {
     "duration": 0.043769,
     "end_time": "2025-07-30T21:26:27.761060",
     "exception": false,
     "start_time": "2025-07-30T21:26:27.717291",
     "status": "completed"
    },
    "tags": []
   },
   "outputs": [],
   "source": [
    "example_universe = universe.copy()\n",
    "universe_training_year = example_universe.get(\"training_year\")\n",
    "universe_training_size = example_universe.get(\"training_size\")\n",
    "universe_scale = example_universe.get(\"scale\")\n",
    "universe_model = example_universe.get(\"model\")\n",
    "universe_exclude_features = example_universe.get(\"exclude_features\")\n",
    "universe_exclude_subgroups = example_universe.get(\"exclude_subgroups\")"
   ]
  },
  {
   "cell_type": "code",
   "execution_count": 58,
   "id": "f4b6a8ac-9dc0-4245-8a91-5b3b5999c4f9",
   "metadata": {
    "execution": {
     "iopub.execute_input": "2025-07-30T21:26:27.788653Z",
     "iopub.status.busy": "2025-07-30T21:26:27.788061Z",
     "iopub.status.idle": "2025-07-30T21:26:27.793306Z",
     "shell.execute_reply": "2025-07-30T21:26:27.792659Z"
    },
    "papermill": {
     "duration": 0.02001,
     "end_time": "2025-07-30T21:26:27.794577",
     "exception": false,
     "start_time": "2025-07-30T21:26:27.774567",
     "status": "completed"
    },
    "tags": []
   },
   "outputs": [],
   "source": [
    "cp_metrics_dict = {\n",
    "    \"universe_id\": [universe_id],\n",
    "    \"universe_training_year\": [universe_training_year],\n",
    "    \"universe_training_size\": [universe_training_size],\n",
    "    \"universe_scale\": [universe_scale],\n",
    "    \"universe_model\": [universe_model],\n",
    "    \"universe_exclude_features\": [universe_exclude_features],\n",
    "    \"universe_exclude_subgroups\": [universe_exclude_subgroups],\n",
    "    \"q_hat\": [q_hat],\n",
    "    \"coverage\": [metrics[\"coverage\"]],\n",
    "    \"avg_size\": [metrics[\"avg_size\"]],\n",
    "}"
   ]
  },
  {
   "cell_type": "code",
   "execution_count": 59,
   "id": "908acbb1-0371-4915-85ca-3fa520d2efe2",
   "metadata": {
    "execution": {
     "iopub.execute_input": "2025-07-30T21:26:27.827484Z",
     "iopub.status.busy": "2025-07-30T21:26:27.827122Z",
     "iopub.status.idle": "2025-07-30T21:26:27.833474Z",
     "shell.execute_reply": "2025-07-30T21:26:27.832732Z"
    },
    "papermill": {
     "duration": 0.023039,
     "end_time": "2025-07-30T21:26:27.834765",
     "exception": false,
     "start_time": "2025-07-30T21:26:27.811726",
     "status": "completed"
    },
    "tags": []
   },
   "outputs": [
    {
     "data": {
      "text/plain": [
       "{'universe_id': ['1af6cf87beb9989d6e73e4a164af30d0'],\n",
       " 'universe_training_year': ['2014'],\n",
       " 'universe_training_size': ['1k'],\n",
       " 'universe_scale': ['scale'],\n",
       " 'universe_model': ['elasticnet'],\n",
       " 'universe_exclude_features': ['none'],\n",
       " 'universe_exclude_subgroups': ['keep-all'],\n",
       " 'q_hat': [0.7899137025897351],\n",
       " 'coverage': [0.9067996878831791],\n",
       " 'avg_size': [1.2313565934678408]}"
      ]
     },
     "execution_count": 59,
     "metadata": {},
     "output_type": "execute_result"
    }
   ],
   "source": [
    "cp_metrics_dict"
   ]
  },
  {
   "cell_type": "code",
   "execution_count": 60,
   "id": "33007efc-14e9-4ec6-97ac-56a455c82265",
   "metadata": {
    "execution": {
     "iopub.execute_input": "2025-07-30T21:26:27.863237Z",
     "iopub.status.busy": "2025-07-30T21:26:27.862760Z",
     "iopub.status.idle": "2025-07-30T21:26:27.869844Z",
     "shell.execute_reply": "2025-07-30T21:26:27.868808Z"
    },
    "papermill": {
     "duration": 0.02223,
     "end_time": "2025-07-30T21:26:27.871462",
     "exception": false,
     "start_time": "2025-07-30T21:26:27.849232",
     "status": "completed"
    },
    "tags": []
   },
   "outputs": [],
   "source": [
    "cp_metrics_df = pd.DataFrame(cp_metrics_dict)"
   ]
  },
  {
   "cell_type": "code",
   "execution_count": 61,
   "id": "db12611b-57b2-4910-b9d0-355adfd6e7bf",
   "metadata": {
    "execution": {
     "iopub.execute_input": "2025-07-30T21:26:27.939981Z",
     "iopub.status.busy": "2025-07-30T21:26:27.939229Z",
     "iopub.status.idle": "2025-07-30T21:26:27.960206Z",
     "shell.execute_reply": "2025-07-30T21:26:27.959075Z"
    },
    "papermill": {
     "duration": 0.062412,
     "end_time": "2025-07-30T21:26:27.962101",
     "exception": false,
     "start_time": "2025-07-30T21:26:27.899689",
     "status": "completed"
    },
    "tags": []
   },
   "outputs": [
    {
     "data": {
      "text/html": [
       "<div>\n",
       "<style scoped>\n",
       "    .dataframe tbody tr th:only-of-type {\n",
       "        vertical-align: middle;\n",
       "    }\n",
       "\n",
       "    .dataframe tbody tr th {\n",
       "        vertical-align: top;\n",
       "    }\n",
       "\n",
       "    .dataframe thead th {\n",
       "        text-align: right;\n",
       "    }\n",
       "</style>\n",
       "<table border=\"1\" class=\"dataframe\">\n",
       "  <thead>\n",
       "    <tr style=\"text-align: right;\">\n",
       "      <th></th>\n",
       "      <th>universe_id</th>\n",
       "      <th>universe_training_year</th>\n",
       "      <th>universe_training_size</th>\n",
       "      <th>universe_scale</th>\n",
       "      <th>universe_model</th>\n",
       "      <th>universe_exclude_features</th>\n",
       "      <th>universe_exclude_subgroups</th>\n",
       "      <th>q_hat</th>\n",
       "      <th>coverage</th>\n",
       "      <th>avg_size</th>\n",
       "    </tr>\n",
       "  </thead>\n",
       "  <tbody>\n",
       "    <tr>\n",
       "      <th>0</th>\n",
       "      <td>1af6cf87beb9989d6e73e4a164af30d0</td>\n",
       "      <td>2014</td>\n",
       "      <td>1k</td>\n",
       "      <td>scale</td>\n",
       "      <td>elasticnet</td>\n",
       "      <td>none</td>\n",
       "      <td>keep-all</td>\n",
       "      <td>0.789914</td>\n",
       "      <td>0.9068</td>\n",
       "      <td>1.231357</td>\n",
       "    </tr>\n",
       "  </tbody>\n",
       "</table>\n",
       "</div>"
      ],
      "text/plain": [
       "                        universe_id universe_training_year  \\\n",
       "0  1af6cf87beb9989d6e73e4a164af30d0                   2014   \n",
       "\n",
       "  universe_training_size universe_scale universe_model  \\\n",
       "0                     1k          scale     elasticnet   \n",
       "\n",
       "  universe_exclude_features universe_exclude_subgroups     q_hat  coverage  \\\n",
       "0                      none                   keep-all  0.789914    0.9068   \n",
       "\n",
       "   avg_size  \n",
       "0  1.231357  "
      ]
     },
     "execution_count": 61,
     "metadata": {},
     "output_type": "execute_result"
    }
   ],
   "source": [
    "cp_metrics_df"
   ]
  },
  {
   "cell_type": "code",
   "execution_count": 62,
   "id": "b7fbde55-a0a1-47e4-9af6-fe4a17fa8c61",
   "metadata": {
    "execution": {
     "iopub.execute_input": "2025-07-30T21:26:28.030499Z",
     "iopub.status.busy": "2025-07-30T21:26:28.029747Z",
     "iopub.status.idle": "2025-07-30T21:26:28.035742Z",
     "shell.execute_reply": "2025-07-30T21:26:28.034553Z"
    },
    "papermill": {
     "duration": 0.042605,
     "end_time": "2025-07-30T21:26:28.037887",
     "exception": false,
     "start_time": "2025-07-30T21:26:27.995282",
     "status": "completed"
    },
    "tags": []
   },
   "outputs": [],
   "source": [
    "# Conditional Coverage & looking at subgroups"
   ]
  },
  {
   "cell_type": "code",
   "execution_count": 63,
   "id": "027ae886-68dd-4141-96c7-805a5450e1ef",
   "metadata": {
    "execution": {
     "iopub.execute_input": "2025-07-30T21:26:28.105410Z",
     "iopub.status.busy": "2025-07-30T21:26:28.104667Z",
     "iopub.status.idle": "2025-07-30T21:26:28.375694Z",
     "shell.execute_reply": "2025-07-30T21:26:28.374955Z"
    },
    "papermill": {
     "duration": 0.307321,
     "end_time": "2025-07-30T21:26:28.377584",
     "exception": false,
     "start_time": "2025-07-30T21:26:28.070263",
     "status": "completed"
    },
    "tags": []
   },
   "outputs": [],
   "source": [
    "from fairness_multiverse.conformal import build_cp_groups\n",
    "\n",
    "cp_groups_df = build_cp_groups(pred_sets, y_true, X_test.index, org_test)\n",
    "#needs universe_id and setting"
   ]
  },
  {
   "cell_type": "code",
   "execution_count": 64,
   "id": "01d5802c-663a-4d1f-9d69-e036faaffbf7",
   "metadata": {
    "execution": {
     "iopub.execute_input": "2025-07-30T21:26:28.439581Z",
     "iopub.status.busy": "2025-07-30T21:26:28.439202Z",
     "iopub.status.idle": "2025-07-30T21:26:28.444211Z",
     "shell.execute_reply": "2025-07-30T21:26:28.443269Z"
    },
    "papermill": {
     "duration": 0.045439,
     "end_time": "2025-07-30T21:26:28.445525",
     "exception": false,
     "start_time": "2025-07-30T21:26:28.400086",
     "status": "completed"
    },
    "tags": []
   },
   "outputs": [],
   "source": [
    "#delete\n",
    "#cp_groups_df"
   ]
  },
  {
   "cell_type": "code",
   "execution_count": 65,
   "id": "fa424af1-d1eb-443d-b717-2d279ada8408",
   "metadata": {
    "execution": {
     "iopub.execute_input": "2025-07-30T21:26:28.475903Z",
     "iopub.status.busy": "2025-07-30T21:26:28.475238Z",
     "iopub.status.idle": "2025-07-30T21:26:28.479931Z",
     "shell.execute_reply": "2025-07-30T21:26:28.478890Z"
    },
    "papermill": {
     "duration": 0.022675,
     "end_time": "2025-07-30T21:26:28.482651",
     "exception": false,
     "start_time": "2025-07-30T21:26:28.459976",
     "status": "completed"
    },
    "tags": []
   },
   "outputs": [],
   "source": [
    "#delete\n",
    "#percentage = (cp_groups_df['nongerman_female'] == 1).mean() * 100\n",
    "#print(percentage)\n"
   ]
  },
  {
   "cell_type": "code",
   "execution_count": 66,
   "id": "6cbdab96-b2b2-45af-ad54-d0516db2e28d",
   "metadata": {
    "execution": {
     "iopub.execute_input": "2025-07-30T21:26:28.539278Z",
     "iopub.status.busy": "2025-07-30T21:26:28.538617Z",
     "iopub.status.idle": "2025-07-30T21:26:30.181886Z",
     "shell.execute_reply": "2025-07-30T21:26:30.180922Z"
    },
    "papermill": {
     "duration": 1.674902,
     "end_time": "2025-07-30T21:26:30.183974",
     "exception": false,
     "start_time": "2025-07-30T21:26:28.509072",
     "status": "completed"
    },
    "tags": []
   },
   "outputs": [],
   "source": [
    "# Define covered = 1 if true_label is in the predicted set\n",
    "cp_groups_df['covered'] = cp_groups_df.apply(\n",
    "    lambda r: int(r['true_label'] in r['pred_set']),\n",
    "    axis=1\n",
    ")"
   ]
  },
  {
   "cell_type": "code",
   "execution_count": 67,
   "id": "338ff529-1a6b-4b87-a931-8e4788d52aad",
   "metadata": {
    "execution": {
     "iopub.execute_input": "2025-07-30T21:26:30.245300Z",
     "iopub.status.busy": "2025-07-30T21:26:30.244840Z",
     "iopub.status.idle": "2025-07-30T21:26:30.249731Z",
     "shell.execute_reply": "2025-07-30T21:26:30.248752Z"
    },
    "papermill": {
     "duration": 0.033881,
     "end_time": "2025-07-30T21:26:30.251222",
     "exception": false,
     "start_time": "2025-07-30T21:26:30.217341",
     "status": "completed"
    },
    "tags": []
   },
   "outputs": [],
   "source": [
    "#cp_groups_df"
   ]
  },
  {
   "cell_type": "code",
   "execution_count": 68,
   "id": "90032e27-66df-4540-9169-4e89cfbaa758",
   "metadata": {
    "execution": {
     "iopub.execute_input": "2025-07-30T21:26:30.294232Z",
     "iopub.status.busy": "2025-07-30T21:26:30.293851Z",
     "iopub.status.idle": "2025-07-30T21:26:30.305189Z",
     "shell.execute_reply": "2025-07-30T21:26:30.304066Z"
    },
    "papermill": {
     "duration": 0.029197,
     "end_time": "2025-07-30T21:26:30.307683",
     "exception": false,
     "start_time": "2025-07-30T21:26:30.278486",
     "status": "completed"
    },
    "tags": []
   },
   "outputs": [],
   "source": [
    "subgroups = ['frau1','nongerman','nongerman_male','nongerman_female']\n",
    "\n",
    "# Conditional coverage for subgroup==1\n",
    "cond_coverage = {\n",
    "    g: cp_groups_df.loc[cp_groups_df[g]==1, 'covered'].mean()\n",
    "    for g in subgroups\n",
    "}"
   ]
  },
  {
   "cell_type": "code",
   "execution_count": 69,
   "id": "1e348fb1-b9c3-45bc-ba23-f016827a7e0d",
   "metadata": {
    "execution": {
     "iopub.execute_input": "2025-07-30T21:26:30.363169Z",
     "iopub.status.busy": "2025-07-30T21:26:30.362815Z",
     "iopub.status.idle": "2025-07-30T21:26:30.369346Z",
     "shell.execute_reply": "2025-07-30T21:26:30.368634Z"
    },
    "papermill": {
     "duration": 0.025042,
     "end_time": "2025-07-30T21:26:30.370680",
     "exception": false,
     "start_time": "2025-07-30T21:26:30.345638",
     "status": "completed"
    },
    "tags": []
   },
   "outputs": [
    {
     "data": {
      "text/plain": [
       "{'frau1': 0.9050006739452756,\n",
       " 'nongerman': 0.9102340986919666,\n",
       " 'nongerman_male': 0.9280374673511663,\n",
       " 'nongerman_female': 0.8807749627421758}"
      ]
     },
     "execution_count": 69,
     "metadata": {},
     "output_type": "execute_result"
    }
   ],
   "source": [
    "cond_coverage"
   ]
  },
  {
   "cell_type": "code",
   "execution_count": 70,
   "id": "f5093324-c3dd-4d63-bc4c-8d945e5c8bbb",
   "metadata": {
    "execution": {
     "iopub.execute_input": "2025-07-30T21:26:30.400558Z",
     "iopub.status.busy": "2025-07-30T21:26:30.399701Z",
     "iopub.status.idle": "2025-07-30T21:26:30.407900Z",
     "shell.execute_reply": "2025-07-30T21:26:30.406894Z"
    },
    "papermill": {
     "duration": 0.025026,
     "end_time": "2025-07-30T21:26:30.409439",
     "exception": false,
     "start_time": "2025-07-30T21:26:30.384413",
     "status": "completed"
    },
    "tags": []
   },
   "outputs": [],
   "source": [
    "for subgroup, cov in cond_coverage.items():\n",
    "    cp_metrics_df[f\"cov_{subgroup}\"] = cov"
   ]
  },
  {
   "cell_type": "code",
   "execution_count": 71,
   "id": "6e872e10-dbe5-49e8-b554-5030c98ff75d",
   "metadata": {
    "execution": {
     "iopub.execute_input": "2025-07-30T21:26:30.462043Z",
     "iopub.status.busy": "2025-07-30T21:26:30.461514Z",
     "iopub.status.idle": "2025-07-30T21:26:30.664825Z",
     "shell.execute_reply": "2025-07-30T21:26:30.663865Z"
    },
    "papermill": {
     "duration": 0.23271,
     "end_time": "2025-07-30T21:26:30.666482",
     "exception": false,
     "start_time": "2025-07-30T21:26:30.433772",
     "status": "completed"
    },
    "tags": []
   },
   "outputs": [
    {
     "data": {
      "text/html": [
       "<div>\n",
       "<style scoped>\n",
       "    .dataframe tbody tr th:only-of-type {\n",
       "        vertical-align: middle;\n",
       "    }\n",
       "\n",
       "    .dataframe tbody tr th {\n",
       "        vertical-align: top;\n",
       "    }\n",
       "\n",
       "    .dataframe thead th {\n",
       "        text-align: right;\n",
       "    }\n",
       "</style>\n",
       "<table border=\"1\" class=\"dataframe\">\n",
       "  <thead>\n",
       "    <tr style=\"text-align: right;\">\n",
       "      <th></th>\n",
       "      <th>universe_id</th>\n",
       "      <th>universe_training_year</th>\n",
       "      <th>universe_training_size</th>\n",
       "      <th>universe_scale</th>\n",
       "      <th>universe_model</th>\n",
       "      <th>universe_exclude_features</th>\n",
       "      <th>universe_exclude_subgroups</th>\n",
       "      <th>q_hat</th>\n",
       "      <th>coverage</th>\n",
       "      <th>avg_size</th>\n",
       "      <th>cov_frau1</th>\n",
       "      <th>cov_nongerman</th>\n",
       "      <th>cov_nongerman_male</th>\n",
       "      <th>cov_nongerman_female</th>\n",
       "    </tr>\n",
       "  </thead>\n",
       "  <tbody>\n",
       "    <tr>\n",
       "      <th>0</th>\n",
       "      <td>1af6cf87beb9989d6e73e4a164af30d0</td>\n",
       "      <td>2014</td>\n",
       "      <td>1k</td>\n",
       "      <td>scale</td>\n",
       "      <td>elasticnet</td>\n",
       "      <td>none</td>\n",
       "      <td>keep-all</td>\n",
       "      <td>0.789914</td>\n",
       "      <td>0.9068</td>\n",
       "      <td>1.231357</td>\n",
       "      <td>0.905001</td>\n",
       "      <td>0.910234</td>\n",
       "      <td>0.928037</td>\n",
       "      <td>0.880775</td>\n",
       "    </tr>\n",
       "  </tbody>\n",
       "</table>\n",
       "</div>"
      ],
      "text/plain": [
       "                        universe_id universe_training_year  \\\n",
       "0  1af6cf87beb9989d6e73e4a164af30d0                   2014   \n",
       "\n",
       "  universe_training_size universe_scale universe_model  \\\n",
       "0                     1k          scale     elasticnet   \n",
       "\n",
       "  universe_exclude_features universe_exclude_subgroups     q_hat  coverage  \\\n",
       "0                      none                   keep-all  0.789914    0.9068   \n",
       "\n",
       "   avg_size  cov_frau1  cov_nongerman  cov_nongerman_male  \\\n",
       "0  1.231357   0.905001       0.910234            0.928037   \n",
       "\n",
       "   cov_nongerman_female  \n",
       "0              0.880775  "
      ]
     },
     "execution_count": 71,
     "metadata": {},
     "output_type": "execute_result"
    }
   ],
   "source": [
    "cp_metrics_df"
   ]
  },
  {
   "cell_type": "markdown",
   "id": "33774451",
   "metadata": {
    "papermill": {
     "duration": 0.02532,
     "end_time": "2025-07-30T21:26:30.720193",
     "exception": false,
     "start_time": "2025-07-30T21:26:30.694873",
     "status": "completed"
    },
    "tags": []
   },
   "source": [
    "# (Fairness) Metrics"
   ]
  },
  {
   "cell_type": "code",
   "execution_count": 72,
   "id": "debc5d62",
   "metadata": {
    "execution": {
     "iopub.execute_input": "2025-07-30T21:26:30.778013Z",
     "iopub.status.busy": "2025-07-30T21:26:30.777196Z",
     "iopub.status.idle": "2025-07-30T21:26:30.798352Z",
     "shell.execute_reply": "2025-07-30T21:26:30.797465Z"
    },
    "papermill": {
     "duration": 0.051062,
     "end_time": "2025-07-30T21:26:30.799809",
     "exception": false,
     "start_time": "2025-07-30T21:26:30.748747",
     "status": "completed"
    },
    "tags": []
   },
   "outputs": [],
   "source": [
    "# do I need to include maxdeutsch1.missing?\n",
    "\n",
    "import numpy as np\n",
    "\n",
    "colname_to_bin = \"maxdeutsch1\"\n",
    "majority_value = org_train[colname_to_bin].mode()[0]\n",
    "\n",
    "org_test[\"majmin\"] = np.where(org_test[colname_to_bin] == majority_value, \"majority\", \"minority\")"
   ]
  },
  {
   "cell_type": "code",
   "execution_count": 73,
   "id": "06a50de5",
   "metadata": {
    "execution": {
     "iopub.execute_input": "2025-07-30T21:26:30.856300Z",
     "iopub.status.busy": "2025-07-30T21:26:30.853368Z",
     "iopub.status.idle": "2025-07-30T21:26:33.550200Z",
     "shell.execute_reply": "2025-07-30T21:26:33.549419Z"
    },
    "papermill": {
     "duration": 2.725815,
     "end_time": "2025-07-30T21:26:33.551638",
     "exception": false,
     "start_time": "2025-07-30T21:26:30.825823",
     "status": "completed"
    },
    "tags": []
   },
   "outputs": [],
   "source": [
    "example_universe = universe.copy()\n",
    "example_universe[\"cutoff\"] = example_universe[\"cutoff\"][0]\n",
    "example_universe[\"eval_fairness_grouping\"] = example_universe[\"eval_fairness_grouping\"][0]\n",
    "fairness_dict, metric_frame = universe_analysis.compute_metrics(\n",
    "    example_universe,\n",
    "    y_pred_prob=probs_test,\n",
    "    y_test=y_true,\n",
    "    org_test=org_test,\n",
    ")"
   ]
  },
  {
   "cell_type": "markdown",
   "id": "f95d4e02",
   "metadata": {
    "papermill": {
     "duration": 0.015707,
     "end_time": "2025-07-30T21:26:33.581538",
     "exception": false,
     "start_time": "2025-07-30T21:26:33.565831",
     "status": "completed"
    },
    "tags": []
   },
   "source": [
    "# Overall"
   ]
  },
  {
   "cell_type": "markdown",
   "id": "bdee4871",
   "metadata": {
    "papermill": {
     "duration": 0.027424,
     "end_time": "2025-07-30T21:26:33.637504",
     "exception": false,
     "start_time": "2025-07-30T21:26:33.610080",
     "status": "completed"
    },
    "tags": []
   },
   "source": [
    "Fairness\n",
    "Main fairness target: Equalized Odds. Seems to be a better fit than equal opportunity, since we're not only interested in Y = 1. Seems to be a better fit than demographic parity, since we also care about accuracy, not just equal distribution of preds.\n",
    "\n",
    "Pick column for computation of fairness metrics\n",
    "\n",
    "Performance\n",
    "Overall performance measures, most interesting in relation to the measures split by group below"
   ]
  },
  {
   "cell_type": "code",
   "execution_count": 74,
   "id": "c4e067c6",
   "metadata": {
    "execution": {
     "iopub.execute_input": "2025-07-30T21:26:33.674031Z",
     "iopub.status.busy": "2025-07-30T21:26:33.673676Z",
     "iopub.status.idle": "2025-07-30T21:26:33.680685Z",
     "shell.execute_reply": "2025-07-30T21:26:33.680012Z"
    },
    "papermill": {
     "duration": 0.024066,
     "end_time": "2025-07-30T21:26:33.681973",
     "exception": false,
     "start_time": "2025-07-30T21:26:33.657907",
     "status": "completed"
    },
    "tags": []
   },
   "outputs": [
    {
     "data": {
      "text/plain": [
       "accuracy                   0.218694\n",
       "balanced accuracy          0.535926\n",
       "f1                         0.240181\n",
       "precision                  0.137208\n",
       "false positive rate        0.890783\n",
       "false negative rate        0.037365\n",
       "selection rate             0.900000\n",
       "count                  89710.000000\n",
       "dtype: float64"
      ]
     },
     "execution_count": 74,
     "metadata": {},
     "output_type": "execute_result"
    }
   ],
   "source": [
    "metric_frame.overall"
   ]
  },
  {
   "cell_type": "markdown",
   "id": "e968fe9d",
   "metadata": {
    "papermill": {
     "duration": 0.013816,
     "end_time": "2025-07-30T21:26:33.710723",
     "exception": false,
     "start_time": "2025-07-30T21:26:33.696907",
     "status": "completed"
    },
    "tags": []
   },
   "source": [
    "By Group"
   ]
  },
  {
   "cell_type": "code",
   "execution_count": 75,
   "id": "ec325bce",
   "metadata": {
    "execution": {
     "iopub.execute_input": "2025-07-30T21:26:33.739528Z",
     "iopub.status.busy": "2025-07-30T21:26:33.739170Z",
     "iopub.status.idle": "2025-07-30T21:26:33.751435Z",
     "shell.execute_reply": "2025-07-30T21:26:33.750581Z"
    },
    "papermill": {
     "duration": 0.028396,
     "end_time": "2025-07-30T21:26:33.752913",
     "exception": false,
     "start_time": "2025-07-30T21:26:33.724517",
     "status": "completed"
    },
    "tags": []
   },
   "outputs": [
    {
     "data": {
      "text/html": [
       "<div>\n",
       "<style scoped>\n",
       "    .dataframe tbody tr th:only-of-type {\n",
       "        vertical-align: middle;\n",
       "    }\n",
       "\n",
       "    .dataframe tbody tr th {\n",
       "        vertical-align: top;\n",
       "    }\n",
       "\n",
       "    .dataframe thead th {\n",
       "        text-align: right;\n",
       "    }\n",
       "</style>\n",
       "<table border=\"1\" class=\"dataframe\">\n",
       "  <thead>\n",
       "    <tr style=\"text-align: right;\">\n",
       "      <th></th>\n",
       "      <th>accuracy</th>\n",
       "      <th>balanced accuracy</th>\n",
       "      <th>f1</th>\n",
       "      <th>precision</th>\n",
       "      <th>false positive rate</th>\n",
       "      <th>false negative rate</th>\n",
       "      <th>selection rate</th>\n",
       "      <th>count</th>\n",
       "    </tr>\n",
       "    <tr>\n",
       "      <th>majmin</th>\n",
       "      <th></th>\n",
       "      <th></th>\n",
       "      <th></th>\n",
       "      <th></th>\n",
       "      <th></th>\n",
       "      <th></th>\n",
       "      <th></th>\n",
       "      <th></th>\n",
       "    </tr>\n",
       "  </thead>\n",
       "  <tbody>\n",
       "    <tr>\n",
       "      <th>majority</th>\n",
       "      <td>0.234610</td>\n",
       "      <td>0.541878</td>\n",
       "      <td>0.248858</td>\n",
       "      <td>0.142969</td>\n",
       "      <td>0.875762</td>\n",
       "      <td>0.040481</td>\n",
       "      <td>0.886830</td>\n",
       "      <td>69170.0</td>\n",
       "    </tr>\n",
       "    <tr>\n",
       "      <th>minority</th>\n",
       "      <td>0.165093</td>\n",
       "      <td>0.517130</td>\n",
       "      <td>0.212084</td>\n",
       "      <td>0.118987</td>\n",
       "      <td>0.940403</td>\n",
       "      <td>0.025338</td>\n",
       "      <td>0.944352</td>\n",
       "      <td>20540.0</td>\n",
       "    </tr>\n",
       "  </tbody>\n",
       "</table>\n",
       "</div>"
      ],
      "text/plain": [
       "          accuracy  balanced accuracy        f1  precision  \\\n",
       "majmin                                                       \n",
       "majority  0.234610           0.541878  0.248858   0.142969   \n",
       "minority  0.165093           0.517130  0.212084   0.118987   \n",
       "\n",
       "          false positive rate  false negative rate  selection rate    count  \n",
       "majmin                                                                       \n",
       "majority             0.875762             0.040481        0.886830  69170.0  \n",
       "minority             0.940403             0.025338        0.944352  20540.0  "
      ]
     },
     "execution_count": 75,
     "metadata": {},
     "output_type": "execute_result"
    }
   ],
   "source": [
    "metric_frame.by_group"
   ]
  },
  {
   "cell_type": "code",
   "execution_count": 76,
   "id": "a9ddbe63",
   "metadata": {
    "execution": {
     "iopub.execute_input": "2025-07-30T21:26:33.784578Z",
     "iopub.status.busy": "2025-07-30T21:26:33.784075Z",
     "iopub.status.idle": "2025-07-30T21:26:36.082028Z",
     "shell.execute_reply": "2025-07-30T21:26:36.079508Z"
    },
    "papermill": {
     "duration": 2.315207,
     "end_time": "2025-07-30T21:26:36.084059",
     "exception": false,
     "start_time": "2025-07-30T21:26:33.768852",
     "status": "completed"
    },
    "tags": []
   },
   "outputs": [
    {
     "data": {
      "text/plain": [
       "array([[<Axes: title={'center': 'accuracy'}, xlabel='majmin'>,\n",
       "        <Axes: title={'center': 'balanced accuracy'}, xlabel='majmin'>,\n",
       "        <Axes: title={'center': 'f1'}, xlabel='majmin'>],\n",
       "       [<Axes: title={'center': 'precision'}, xlabel='majmin'>,\n",
       "        <Axes: title={'center': 'false positive rate'}, xlabel='majmin'>,\n",
       "        <Axes: title={'center': 'false negative rate'}, xlabel='majmin'>],\n",
       "       [<Axes: title={'center': 'selection rate'}, xlabel='majmin'>,\n",
       "        <Axes: title={'center': 'count'}, xlabel='majmin'>,\n",
       "        <Axes: xlabel='majmin'>]], dtype=object)"
      ]
     },
     "execution_count": 76,
     "metadata": {},
     "output_type": "execute_result"
    },
    {
     "data": {
      "image/png": "[encoded data removed]",
      "text/plain": [
       "<Figure size 1200x800 with 9 Axes>"
      ]
     },
     "metadata": {},
     "output_type": "display_data"
    }
   ],
   "source": [
    "# In a graphic\n",
    "metric_frame.by_group.plot.bar(\n",
    "    subplots=True,\n",
    "    layout=[3, 3],\n",
    "    legend=False,\n",
    "    figsize=[12, 8],\n",
    "    title=\"Show all metrics\",\n",
    ")"
   ]
  },
  {
   "cell_type": "markdown",
   "id": "f57a0bac",
   "metadata": {
    "papermill": {
     "duration": 0.027262,
     "end_time": "2025-07-30T21:26:36.142650",
     "exception": false,
     "start_time": "2025-07-30T21:26:36.115388",
     "status": "completed"
    },
    "tags": []
   },
   "source": [
    "# Final Output"
   ]
  },
  {
   "cell_type": "code",
   "execution_count": 77,
   "id": "96d280a3",
   "metadata": {
    "execution": {
     "iopub.execute_input": "2025-07-30T21:26:36.209009Z",
     "iopub.status.busy": "2025-07-30T21:26:36.208325Z",
     "iopub.status.idle": "2025-07-30T21:26:36.216728Z",
     "shell.execute_reply": "2025-07-30T21:26:36.215705Z"
    },
    "papermill": {
     "duration": 0.045012,
     "end_time": "2025-07-30T21:26:36.218871",
     "exception": false,
     "start_time": "2025-07-30T21:26:36.173859",
     "status": "completed"
    },
    "tags": []
   },
   "outputs": [
    {
     "data": {
      "text/plain": [
       "4"
      ]
     },
     "execution_count": 77,
     "metadata": {},
     "output_type": "execute_result"
    }
   ],
   "source": [
    "sub_universes = universe_analysis.generate_sub_universes()\n",
    "len(sub_universes)"
   ]
  },
  {
   "cell_type": "code",
   "execution_count": 78,
   "id": "92adf7ba",
   "metadata": {
    "execution": {
     "iopub.execute_input": "2025-07-30T21:26:36.328078Z",
     "iopub.status.busy": "2025-07-30T21:26:36.327597Z",
     "iopub.status.idle": "2025-07-30T21:26:36.333528Z",
     "shell.execute_reply": "2025-07-30T21:26:36.332510Z"
    },
    "papermill": {
     "duration": 0.077675,
     "end_time": "2025-07-30T21:26:36.335231",
     "exception": false,
     "start_time": "2025-07-30T21:26:36.257556",
     "status": "completed"
    },
    "tags": []
   },
   "outputs": [],
   "source": [
    "def filter_sub_universe_data(sub_universe, org_test):\n",
    "    # Keep all rows — no filtering\n",
    "    keep_rows_mask = np.ones(org_test.shape[0], dtype=bool)\n",
    "\n",
    "    print(f\"[INFO] Keeping all rows: {keep_rows_mask.sum()} rows retained.\")\n",
    "    return keep_rows_mask"
   ]
  },
  {
   "cell_type": "code",
   "execution_count": 79,
   "id": "4a759155",
   "metadata": {
    "execution": {
     "iopub.execute_input": "2025-07-30T21:26:36.395167Z",
     "iopub.status.busy": "2025-07-30T21:26:36.394696Z",
     "iopub.status.idle": "2025-07-30T21:26:46.273880Z",
     "shell.execute_reply": "2025-07-30T21:26:46.273065Z"
    },
    "papermill": {
     "duration": 9.912085,
     "end_time": "2025-07-30T21:26:46.275493",
     "exception": false,
     "start_time": "2025-07-30T21:26:36.363408",
     "status": "completed"
    },
    "tags": []
   },
   "outputs": [
    {
     "name": "stdout",
     "output_type": "stream",
     "text": [
      "Stopping execution_time clock.\n",
      "[INFO] Keeping all rows: 89710 rows retained.\n"
     ]
    },
    {
     "name": "stdout",
     "output_type": "stream",
     "text": [
      "[INFO] Keeping all rows: 89710 rows retained.\n"
     ]
    },
    {
     "name": "stdout",
     "output_type": "stream",
     "text": [
      "[INFO] Keeping all rows: 89710 rows retained.\n"
     ]
    },
    {
     "name": "stdout",
     "output_type": "stream",
     "text": [
      "[INFO] Keeping all rows: 89710 rows retained.\n"
     ]
    },
    {
     "data": {
      "text/html": [
       "<div>\n",
       "<style scoped>\n",
       "    .dataframe tbody tr th:only-of-type {\n",
       "        vertical-align: middle;\n",
       "    }\n",
       "\n",
       "    .dataframe tbody tr th {\n",
       "        vertical-align: top;\n",
       "    }\n",
       "\n",
       "    .dataframe thead th {\n",
       "        text-align: right;\n",
       "    }\n",
       "</style>\n",
       "<table border=\"1\" class=\"dataframe\">\n",
       "  <thead>\n",
       "    <tr style=\"text-align: right;\">\n",
       "      <th></th>\n",
       "      <th>run_no</th>\n",
       "      <th>universe_id</th>\n",
       "      <th>universe_settings</th>\n",
       "      <th>execution_time</th>\n",
       "      <th>test_size_n</th>\n",
       "      <th>test_size_frac</th>\n",
       "      <th>fair_main_equalized_odds_difference</th>\n",
       "      <th>fair_main_equalized_odds_ratio</th>\n",
       "      <th>fair_main_demographic_parity_difference</th>\n",
       "      <th>fair_main_demographic_parity_ratio</th>\n",
       "      <th>...</th>\n",
       "      <th>perf_grp_precision_0</th>\n",
       "      <th>perf_grp_precision_1</th>\n",
       "      <th>perf_grp_false positive rate_0</th>\n",
       "      <th>perf_grp_false positive rate_1</th>\n",
       "      <th>perf_grp_false negative rate_0</th>\n",
       "      <th>perf_grp_false negative rate_1</th>\n",
       "      <th>perf_grp_selection rate_0</th>\n",
       "      <th>perf_grp_selection rate_1</th>\n",
       "      <th>perf_grp_count_0</th>\n",
       "      <th>perf_grp_count_1</th>\n",
       "    </tr>\n",
       "  </thead>\n",
       "  <tbody>\n",
       "    <tr>\n",
       "      <th>0</th>\n",
       "      <td>14</td>\n",
       "      <td>1af6cf87beb9989d6e73e4a164af30d0</td>\n",
       "      <td>{\"cutoff\": \"quantile_0.1\", \"eval_fairness_grou...</td>\n",
       "      <td>30.410652</td>\n",
       "      <td>89710</td>\n",
       "      <td>1.0</td>\n",
       "      <td>0.064641</td>\n",
       "      <td>0.931263</td>\n",
       "      <td>0.057523</td>\n",
       "      <td>0.939087</td>\n",
       "      <td>...</td>\n",
       "      <td>NaN</td>\n",
       "      <td>NaN</td>\n",
       "      <td>NaN</td>\n",
       "      <td>NaN</td>\n",
       "      <td>NaN</td>\n",
       "      <td>NaN</td>\n",
       "      <td>NaN</td>\n",
       "      <td>NaN</td>\n",
       "      <td>NaN</td>\n",
       "      <td>NaN</td>\n",
       "    </tr>\n",
       "    <tr>\n",
       "      <th>0</th>\n",
       "      <td>14</td>\n",
       "      <td>1af6cf87beb9989d6e73e4a164af30d0</td>\n",
       "      <td>{\"cutoff\": \"quantile_0.1\", \"eval_fairness_grou...</td>\n",
       "      <td>30.410652</td>\n",
       "      <td>89710</td>\n",
       "      <td>1.0</td>\n",
       "      <td>0.064641</td>\n",
       "      <td>0.931263</td>\n",
       "      <td>0.057523</td>\n",
       "      <td>0.939087</td>\n",
       "      <td>...</td>\n",
       "      <td>0.118987</td>\n",
       "      <td>0.142969</td>\n",
       "      <td>0.940403</td>\n",
       "      <td>0.875762</td>\n",
       "      <td>0.025338</td>\n",
       "      <td>0.040481</td>\n",
       "      <td>0.944352</td>\n",
       "      <td>0.886830</td>\n",
       "      <td>20540.0</td>\n",
       "      <td>69170.0</td>\n",
       "    </tr>\n",
       "    <tr>\n",
       "      <th>0</th>\n",
       "      <td>14</td>\n",
       "      <td>1af6cf87beb9989d6e73e4a164af30d0</td>\n",
       "      <td>{\"cutoff\": \"quantile_0.25\", \"eval_fairness_gro...</td>\n",
       "      <td>30.410652</td>\n",
       "      <td>89710</td>\n",
       "      <td>1.0</td>\n",
       "      <td>0.060597</td>\n",
       "      <td>0.921980</td>\n",
       "      <td>0.050269</td>\n",
       "      <td>0.936268</td>\n",
       "      <td>...</td>\n",
       "      <td>NaN</td>\n",
       "      <td>NaN</td>\n",
       "      <td>NaN</td>\n",
       "      <td>NaN</td>\n",
       "      <td>NaN</td>\n",
       "      <td>NaN</td>\n",
       "      <td>NaN</td>\n",
       "      <td>NaN</td>\n",
       "      <td>NaN</td>\n",
       "      <td>NaN</td>\n",
       "    </tr>\n",
       "    <tr>\n",
       "      <th>0</th>\n",
       "      <td>14</td>\n",
       "      <td>1af6cf87beb9989d6e73e4a164af30d0</td>\n",
       "      <td>{\"cutoff\": \"quantile_0.25\", \"eval_fairness_gro...</td>\n",
       "      <td>30.410652</td>\n",
       "      <td>89710</td>\n",
       "      <td>1.0</td>\n",
       "      <td>0.060597</td>\n",
       "      <td>0.921980</td>\n",
       "      <td>0.050269</td>\n",
       "      <td>0.936268</td>\n",
       "      <td>...</td>\n",
       "      <td>0.128819</td>\n",
       "      <td>0.158454</td>\n",
       "      <td>0.776689</td>\n",
       "      <td>0.716092</td>\n",
       "      <td>0.118666</td>\n",
       "      <td>0.114442</td>\n",
       "      <td>0.788754</td>\n",
       "      <td>0.738485</td>\n",
       "      <td>20540.0</td>\n",
       "      <td>69170.0</td>\n",
       "    </tr>\n",
       "  </tbody>\n",
       "</table>\n",
       "<p>4 rows × 50 columns</p>\n",
       "</div>"
      ],
      "text/plain": [
       "  run_no                       universe_id  \\\n",
       "0     14  1af6cf87beb9989d6e73e4a164af30d0   \n",
       "0     14  1af6cf87beb9989d6e73e4a164af30d0   \n",
       "0     14  1af6cf87beb9989d6e73e4a164af30d0   \n",
       "0     14  1af6cf87beb9989d6e73e4a164af30d0   \n",
       "\n",
       "                                   universe_settings  execution_time  \\\n",
       "0  {\"cutoff\": \"quantile_0.1\", \"eval_fairness_grou...       30.410652   \n",
       "0  {\"cutoff\": \"quantile_0.1\", \"eval_fairness_grou...       30.410652   \n",
       "0  {\"cutoff\": \"quantile_0.25\", \"eval_fairness_gro...       30.410652   \n",
       "0  {\"cutoff\": \"quantile_0.25\", \"eval_fairness_gro...       30.410652   \n",
       "\n",
       "   test_size_n  test_size_frac  fair_main_equalized_odds_difference  \\\n",
       "0        89710             1.0                             0.064641   \n",
       "0        89710             1.0                             0.064641   \n",
       "0        89710             1.0                             0.060597   \n",
       "0        89710             1.0                             0.060597   \n",
       "\n",
       "   fair_main_equalized_odds_ratio  fair_main_demographic_parity_difference  \\\n",
       "0                        0.931263                                 0.057523   \n",
       "0                        0.931263                                 0.057523   \n",
       "0                        0.921980                                 0.050269   \n",
       "0                        0.921980                                 0.050269   \n",
       "\n",
       "   fair_main_demographic_parity_ratio  ...  perf_grp_precision_0  \\\n",
       "0                            0.939087  ...                   NaN   \n",
       "0                            0.939087  ...              0.118987   \n",
       "0                            0.936268  ...                   NaN   \n",
       "0                            0.936268  ...              0.128819   \n",
       "\n",
       "   perf_grp_precision_1  perf_grp_false positive rate_0  \\\n",
       "0                   NaN                             NaN   \n",
       "0              0.142969                        0.940403   \n",
       "0                   NaN                             NaN   \n",
       "0              0.158454                        0.776689   \n",
       "\n",
       "   perf_grp_false positive rate_1  perf_grp_false negative rate_0  \\\n",
       "0                             NaN                             NaN   \n",
       "0                        0.875762                        0.025338   \n",
       "0                             NaN                             NaN   \n",
       "0                        0.716092                        0.118666   \n",
       "\n",
       "   perf_grp_false negative rate_1  perf_grp_selection rate_0  \\\n",
       "0                             NaN                        NaN   \n",
       "0                        0.040481                   0.944352   \n",
       "0                             NaN                        NaN   \n",
       "0                        0.114442                   0.788754   \n",
       "\n",
       "   perf_grp_selection rate_1  perf_grp_count_0  perf_grp_count_1  \n",
       "0                        NaN               NaN               NaN  \n",
       "0                   0.886830           20540.0           69170.0  \n",
       "0                        NaN               NaN               NaN  \n",
       "0                   0.738485           20540.0           69170.0  \n",
       "\n",
       "[4 rows x 50 columns]"
      ]
     },
     "execution_count": 79,
     "metadata": {},
     "output_type": "execute_result"
    }
   ],
   "source": [
    "final_output = universe_analysis.generate_final_output(\n",
    "    y_pred_prob=probs_test,\n",
    "    y_test=y_true,\n",
    "    org_test=org_test,\n",
    "    filter_data=filter_sub_universe_data,\n",
    "    cp_metrics_df=cp_metrics_df,\n",
    "    save=True,\n",
    ")\n",
    "final_output"
   ]
  },
  {
   "cell_type": "code",
   "execution_count": null,
   "id": "721ff514-cb11-46f8-b6fc-50392f74b5cb",
   "metadata": {
    "papermill": {
     "duration": 0.030104,
     "end_time": "2025-07-30T21:26:46.345760",
     "exception": false,
     "start_time": "2025-07-30T21:26:46.315656",
     "status": "completed"
    },
    "tags": []
   },
   "outputs": [],
   "source": []
  }
 ],
 "metadata": {
  "celltoolbar": "Tags",
  "kernelspec": {
   "display_name": "Python (CMA Fairness)",
   "language": "python",
   "name": "cma_fair_env"
  },
  "language_info": {
   "codemirror_mode": {
    "name": "ipython",
    "version": 3
   },
   "file_extension": ".py",
   "mimetype": "text/x-python",
   "name": "python",
   "nbconvert_exporter": "python",
   "pygments_lexer": "ipython3",
   "version": "3.10.12"
  },
  "papermill": {
   "default_parameters": {},
   "duration": 44.393553,
   "end_time": "2025-07-30T21:26:47.097164",
   "environment_variables": {},
   "exception": null,
   "input_path": "universe_analysis.ipynb",
   "output_path": "output/runs/14/notebooks/m_14-1af6cf87beb9989d6e73e4a164af30d0.ipynb",
   "parameters": {
    "output_dir": "output",
    "run_no": "14",
    "seed": "2023",
    "universe": "{\"cutoff\": [\"quantile_0.1\", \"quantile_0.25\"], \"eval_fairness_grouping\": [\"majority-minority\", \"nationality-all\"], \"exclude_features\": \"none\", \"exclude_subgroups\": \"keep-all\", \"model\": \"elasticnet\", \"scale\": \"scale\", \"training_size\": \"1k\", \"training_year\": \"2014\"}",
    "universe_id": "1af6cf87beb9989d6e73e4a164af30d0"
   },
   "start_time": "2025-07-30T21:26:02.703611",
   "version": "2.6.0"
  }
 },
 "nbformat": 4,
 "nbformat_minor": 5
}