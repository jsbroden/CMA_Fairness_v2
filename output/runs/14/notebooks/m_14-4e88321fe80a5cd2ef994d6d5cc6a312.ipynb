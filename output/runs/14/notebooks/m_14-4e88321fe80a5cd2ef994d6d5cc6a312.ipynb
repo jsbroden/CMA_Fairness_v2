{
 "cells": [
  {
   "cell_type": "code",
   "execution_count": 1,
   "id": "f159f837-637b-42ba-96b5-ec9a68c44524",
   "metadata": {
    "execution": {
     "iopub.execute_input": "2025-07-30T21:38:50.233134Z",
     "iopub.status.busy": "2025-07-30T21:38:50.232654Z",
     "iopub.status.idle": "2025-07-30T21:38:50.247454Z",
     "shell.execute_reply": "2025-07-30T21:38:50.246588Z"
    },
    "papermill": {
     "duration": 0.029405,
     "end_time": "2025-07-30T21:38:50.249754",
     "exception": false,
     "start_time": "2025-07-30T21:38:50.220349",
     "status": "completed"
    },
    "tags": []
   },
   "outputs": [
    {
     "name": "stdout",
     "output_type": "stream",
     "text": [
      "/dss/dsshome1/0C/ra93lal2/cma/CMA_Fairness_v2\n"
     ]
    },
    {
     "name": "stderr",
     "output_type": "stream",
     "text": [
      "/dss/dsshome1/0C/ra93lal2/.local/share/virtualenvs/CMA_Fairness_v2-3j10GkSs/lib/python3.10/site-packages/IPython/core/magics/osm.py:393: UserWarning: This is now an optional IPython functionality, using bookmarks requires you to install the `pickleshare` library.\n",
      "  bkms = self.shell.db.get('bookmarks', {})\n",
      "/dss/dsshome1/0C/ra93lal2/.local/share/virtualenvs/CMA_Fairness_v2-3j10GkSs/lib/python3.10/site-packages/IPython/core/magics/osm.py:417: UserWarning: This is now an optional IPython functionality, setting dhist requires you to install the `pickleshare` library.\n",
      "  self.shell.db['dhist'] = compress_dhist(dhist)[-100:]\n"
     ]
    }
   ],
   "source": [
    "%cd ~/cma/CMA_Fairness_v2"
   ]
  },
  {
   "cell_type": "markdown",
   "id": "de2603b9",
   "metadata": {
    "papermill": {
     "duration": 0.026545,
     "end_time": "2025-07-30T21:38:50.303036",
     "exception": false,
     "start_time": "2025-07-30T21:38:50.276491",
     "status": "completed"
    },
    "tags": []
   },
   "source": [
    "The following cell holds the definition of our parameters, these values can be overriden by rendering the with e.g. the following command:\n",
    "\n",
    "papermill -p alpha 0.2 -p ratio 0.3 universe_analysis.ipynb output/test_run.ipynb"
   ]
  },
  {
   "cell_type": "code",
   "execution_count": 2,
   "id": "a80968a0-40bb-4fa9-85ef-2d5eefb01975",
   "metadata": {
    "execution": {
     "iopub.execute_input": "2025-07-30T21:38:50.363752Z",
     "iopub.status.busy": "2025-07-30T21:38:50.362540Z",
     "iopub.status.idle": "2025-07-30T21:38:50.370491Z",
     "shell.execute_reply": "2025-07-30T21:38:50.369132Z"
    },
    "papermill": {
     "duration": 0.041417,
     "end_time": "2025-07-30T21:38:50.372748",
     "exception": false,
     "start_time": "2025-07-30T21:38:50.331331",
     "status": "completed"
    },
    "tags": []
   },
   "outputs": [
    {
     "name": "stdout",
     "output_type": "stream",
     "text": [
      "Current working directory: /dss/dsshome1/0C/ra93lal2/cma/CMA_Fairness_v2\n"
     ]
    }
   ],
   "source": [
    "import os\n",
    "print(\"Current working directory:\", os.getcwd())"
   ]
  },
  {
   "cell_type": "code",
   "execution_count": 3,
   "id": "2dce4c03",
   "metadata": {
    "execution": {
     "iopub.execute_input": "2025-07-30T21:38:50.435537Z",
     "iopub.status.busy": "2025-07-30T21:38:50.434824Z",
     "iopub.status.idle": "2025-07-30T21:38:50.442374Z",
     "shell.execute_reply": "2025-07-30T21:38:50.441339Z"
    },
    "papermill": {
     "duration": 0.041249,
     "end_time": "2025-07-30T21:38:50.444171",
     "exception": false,
     "start_time": "2025-07-30T21:38:50.402922",
     "status": "completed"
    },
    "tags": [
     "parameters"
    ]
   },
   "outputs": [],
   "source": [
    "run_no = 0\n",
    "universe_id = \"test\"\n",
    "universe = {\n",
    "    \"training_size\": \"25k\", # \"25k\", \"5k\", \"1k\"\n",
    "    \"training_year\": \"2014\", # \"2014\", \"2012_14\", \"2010_14\"\n",
    "    \"scale\": \"scale\", # \"scale\", \"do-not-scale\",\n",
    "    #\"stratify_split\": \"target\", # \"none\", \"target\", \"protected-attribute\", \"both\",\n",
    "    \"model\": \"elasticnet\", # \"logreg\", \"penalized_logreg\", \"rf\", \"gbm\", \"elasticnet\"\n",
    "    \"cutoff\": [\"quantile_0.15\", \"quantile_0.30\"],\n",
    "    \"exclude_features\": \"age\", # \"none\", \"nationality\", \"sex\", \"nationality-sex\", \"age\"\n",
    "    \"exclude_subgroups\": \"keep-all\", # \"keep-all\", \"drop-non-german\"\n",
    "    \"eval_fairness_grouping\": [\"majority-minority\", \"nationality-all\"]\n",
    "}\n",
    "\n",
    "output_dir=\"./output\"\n",
    "seed=0"
   ]
  },
  {
   "cell_type": "code",
   "execution_count": 4,
   "id": "5bd55fc0",
   "metadata": {
    "execution": {
     "iopub.execute_input": "2025-07-30T21:38:50.485892Z",
     "iopub.status.busy": "2025-07-30T21:38:50.484986Z",
     "iopub.status.idle": "2025-07-30T21:38:50.492184Z",
     "shell.execute_reply": "2025-07-30T21:38:50.490962Z"
    },
    "papermill": {
     "duration": 0.02952,
     "end_time": "2025-07-30T21:38:50.493857",
     "exception": false,
     "start_time": "2025-07-30T21:38:50.464337",
     "status": "completed"
    },
    "tags": [
     "injected-parameters"
    ]
   },
   "outputs": [],
   "source": [
    "# Parameters\n",
    "universe_id = \"4e88321fe80a5cd2ef994d6d5cc6a312\"\n",
    "run_no = \"14\"\n",
    "universe = \"{\\\"cutoff\\\": [\\\"quantile_0.1\\\", \\\"quantile_0.25\\\"], \\\"eval_fairness_grouping\\\": [\\\"majority-minority\\\", \\\"nationality-all\\\"], \\\"exclude_features\\\": \\\"age\\\", \\\"exclude_subgroups\\\": \\\"drop-non-german\\\", \\\"model\\\": \\\"logreg\\\", \\\"scale\\\": \\\"do-not-scale\\\", \\\"training_size\\\": \\\"1k\\\", \\\"training_year\\\": \\\"2012_14\\\"}\"\n",
    "output_dir = \"output\"\n",
    "seed = \"2023\"\n"
   ]
  },
  {
   "cell_type": "code",
   "execution_count": 5,
   "id": "1650acaf",
   "metadata": {
    "execution": {
     "iopub.execute_input": "2025-07-30T21:38:50.535015Z",
     "iopub.status.busy": "2025-07-30T21:38:50.534185Z",
     "iopub.status.idle": "2025-07-30T21:38:50.540710Z",
     "shell.execute_reply": "2025-07-30T21:38:50.539961Z"
    },
    "papermill": {
     "duration": 0.028519,
     "end_time": "2025-07-30T21:38:50.541932",
     "exception": false,
     "start_time": "2025-07-30T21:38:50.513413",
     "status": "completed"
    },
    "tags": []
   },
   "outputs": [],
   "source": [
    "import json\n",
    "# Parse universe into dict if it is passed as a string\n",
    "if isinstance(universe, str):\n",
    "    universe = json.loads(universe)"
   ]
  },
  {
   "cell_type": "code",
   "execution_count": 6,
   "id": "16620c48",
   "metadata": {
    "execution": {
     "iopub.execute_input": "2025-07-30T21:38:50.565926Z",
     "iopub.status.busy": "2025-07-30T21:38:50.565444Z",
     "iopub.status.idle": "2025-07-30T21:38:50.594318Z",
     "shell.execute_reply": "2025-07-30T21:38:50.593605Z"
    },
    "papermill": {
     "duration": 0.042246,
     "end_time": "2025-07-30T21:38:50.595752",
     "exception": false,
     "start_time": "2025-07-30T21:38:50.553506",
     "status": "completed"
    },
    "tags": []
   },
   "outputs": [],
   "source": [
    "# Auto-reload the custom package\n",
    "%load_ext autoreload\n",
    "%autoreload 1\n",
    "%aimport fairness_multiverse"
   ]
  },
  {
   "cell_type": "code",
   "execution_count": 7,
   "id": "01c5c9f3",
   "metadata": {
    "execution": {
     "iopub.execute_input": "2025-07-30T21:38:50.619291Z",
     "iopub.status.busy": "2025-07-30T21:38:50.618805Z",
     "iopub.status.idle": "2025-07-30T21:38:52.348147Z",
     "shell.execute_reply": "2025-07-30T21:38:52.346964Z"
    },
    "papermill": {
     "duration": 1.743527,
     "end_time": "2025-07-30T21:38:52.350451",
     "exception": false,
     "start_time": "2025-07-30T21:38:50.606924",
     "status": "completed"
    },
    "tags": []
   },
   "outputs": [],
   "source": [
    "from fairness_multiverse.universe import UniverseAnalysis\n",
    "\n",
    "universe_analysis = UniverseAnalysis(\n",
    "    run_no = run_no,\n",
    "    universe_id = universe_id,\n",
    "    universe = universe,\n",
    "    output_dir=output_dir,\n",
    ")"
   ]
  },
  {
   "cell_type": "code",
   "execution_count": 8,
   "id": "106241f5",
   "metadata": {
    "execution": {
     "iopub.execute_input": "2025-07-30T21:38:52.396003Z",
     "iopub.status.busy": "2025-07-30T21:38:52.395251Z",
     "iopub.status.idle": "2025-07-30T21:38:52.404561Z",
     "shell.execute_reply": "2025-07-30T21:38:52.403214Z"
    },
    "papermill": {
     "duration": 0.032636,
     "end_time": "2025-07-30T21:38:52.406509",
     "exception": false,
     "start_time": "2025-07-30T21:38:52.373873",
     "status": "completed"
    },
    "tags": []
   },
   "outputs": [
    {
     "name": "stdout",
     "output_type": "stream",
     "text": [
      "Using Seed: 2023\n"
     ]
    }
   ],
   "source": [
    "import numpy as np\n",
    "parsed_seed = int(seed)\n",
    "np.random.seed(parsed_seed)\n",
    "print(f\"Using Seed: {parsed_seed}\")"
   ]
  },
  {
   "cell_type": "markdown",
   "id": "e0ebdc57",
   "metadata": {
    "papermill": {
     "duration": 0.021966,
     "end_time": "2025-07-30T21:38:52.451480",
     "exception": false,
     "start_time": "2025-07-30T21:38:52.429514",
     "status": "completed"
    },
    "tags": []
   },
   "source": [
    "# Loading Data"
   ]
  },
  {
   "cell_type": "markdown",
   "id": "681925a3",
   "metadata": {
    "papermill": {
     "duration": 0.023091,
     "end_time": "2025-07-30T21:38:52.497347",
     "exception": false,
     "start_time": "2025-07-30T21:38:52.474256",
     "status": "completed"
    },
    "tags": []
   },
   "source": [
    "Load siab_train, siab_test, siab_calib and/or \n",
    "load siab_train_features, siab_train_labels"
   ]
  },
  {
   "cell_type": "code",
   "execution_count": 9,
   "id": "f0496b8a",
   "metadata": {
    "execution": {
     "iopub.execute_input": "2025-07-30T21:38:52.531224Z",
     "iopub.status.busy": "2025-07-30T21:38:52.530736Z",
     "iopub.status.idle": "2025-07-30T21:39:04.391611Z",
     "shell.execute_reply": "2025-07-30T21:39:04.390386Z"
    },
    "papermill": {
     "duration": 11.878005,
     "end_time": "2025-07-30T21:39:04.393376",
     "exception": false,
     "start_time": "2025-07-30T21:38:52.515371",
     "status": "completed"
    },
    "tags": []
   },
   "outputs": [
    {
     "name": "stdout",
     "output_type": "stream",
     "text": [
      "Loading SIAB data from cache: data/siab_cached.csv.gz\n"
     ]
    },
    {
     "name": "stdout",
     "output_type": "stream",
     "text": [
      "(643690, 164)\n"
     ]
    }
   ],
   "source": [
    "from pathlib import Path\n",
    "import pandas as pd\n",
    "\n",
    "# File paths\n",
    "raw_file = Path(\"data/raw/siab.csv\")\n",
    "cache_file = Path(\"data/siab_cached.csv.gz\")\n",
    "\n",
    "# Ensure cache directory exists\n",
    "cache_file.parent.mkdir(parents=True, exist_ok=True)\n",
    "\n",
    "# Load with simple caching\n",
    "if cache_file.exists():\n",
    "    print(f\"Loading SIAB data from cache: {cache_file}\")\n",
    "    siab = pd.read_csv(cache_file, compression='gzip')\n",
    "else:\n",
    "    print(f\"Cache not found. Reading raw SIAB data: {raw_file}\")\n",
    "    siab = pd.read_csv(raw_file)\n",
    "    siab.to_csv(cache_file, index=False, compression='gzip')\n",
    "    print(f\"Cached SIAB data to: {cache_file}\")\n",
    "\n",
    "# Now use `siab` DataFrame as needed\n",
    "print(siab.shape)"
   ]
  },
  {
   "cell_type": "code",
   "execution_count": 10,
   "id": "db0ca512-5f53-4dba-abdb-a2888bca41ba",
   "metadata": {
    "execution": {
     "iopub.execute_input": "2025-07-30T21:39:04.438725Z",
     "iopub.status.busy": "2025-07-30T21:39:04.438130Z",
     "iopub.status.idle": "2025-07-30T21:39:04.443354Z",
     "shell.execute_reply": "2025-07-30T21:39:04.442524Z"
    },
    "papermill": {
     "duration": 0.028283,
     "end_time": "2025-07-30T21:39:04.444599",
     "exception": false,
     "start_time": "2025-07-30T21:39:04.416316",
     "status": "completed"
    },
    "tags": []
   },
   "outputs": [],
   "source": [
    "#siab"
   ]
  },
  {
   "cell_type": "code",
   "execution_count": 11,
   "id": "a0edb063",
   "metadata": {
    "execution": {
     "iopub.execute_input": "2025-07-30T21:39:04.488397Z",
     "iopub.status.busy": "2025-07-30T21:39:04.487846Z",
     "iopub.status.idle": "2025-07-30T21:39:04.492685Z",
     "shell.execute_reply": "2025-07-30T21:39:04.491841Z"
    },
    "papermill": {
     "duration": 0.028176,
     "end_time": "2025-07-30T21:39:04.494017",
     "exception": false,
     "start_time": "2025-07-30T21:39:04.465841",
     "status": "completed"
    },
    "tags": []
   },
   "outputs": [],
   "source": [
    "#import pandas as pd\n",
    "#\n",
    "#X_train = pd.read_csv(\"./data/X_train.csv\")\n",
    "#y_train = pd.read_csv(\"./data/y_train.csv\")"
   ]
  },
  {
   "cell_type": "code",
   "execution_count": 12,
   "id": "63d08085",
   "metadata": {
    "execution": {
     "iopub.execute_input": "2025-07-30T21:39:04.517433Z",
     "iopub.status.busy": "2025-07-30T21:39:04.517004Z",
     "iopub.status.idle": "2025-07-30T21:39:04.521603Z",
     "shell.execute_reply": "2025-07-30T21:39:04.520498Z"
    },
    "papermill": {
     "duration": 0.017643,
     "end_time": "2025-07-30T21:39:04.523432",
     "exception": false,
     "start_time": "2025-07-30T21:39:04.505789",
     "status": "completed"
    },
    "tags": []
   },
   "outputs": [],
   "source": [
    "#X_test = pd.read_csv(\"./data/X_test.csv\")\n",
    "#y_true = pd.read_csv(\"./data/y_test.csv\")"
   ]
  },
  {
   "cell_type": "code",
   "execution_count": 13,
   "id": "98a8d0fa-1d3d-4ed8-bb2c-281470e24add",
   "metadata": {
    "execution": {
     "iopub.execute_input": "2025-07-30T21:39:04.564968Z",
     "iopub.status.busy": "2025-07-30T21:39:04.564298Z",
     "iopub.status.idle": "2025-07-30T21:39:04.569579Z",
     "shell.execute_reply": "2025-07-30T21:39:04.568732Z"
    },
    "papermill": {
     "duration": 0.028486,
     "end_time": "2025-07-30T21:39:04.571466",
     "exception": false,
     "start_time": "2025-07-30T21:39:04.542980",
     "status": "completed"
    },
    "tags": []
   },
   "outputs": [],
   "source": [
    "# Calibration data for conformal\n",
    "#X_calib = pd.read_csv(\"./data/X_calib.csv\")\n",
    "#y_calib = pd.read_csv(\"./data/y_calib.csv\")"
   ]
  },
  {
   "cell_type": "markdown",
   "id": "997051c5-15bd-4b69-9786-c3001a3ce484",
   "metadata": {
    "papermill": {
     "duration": 0.021219,
     "end_time": "2025-07-30T21:39:04.615118",
     "exception": false,
     "start_time": "2025-07-30T21:39:04.593899",
     "status": "completed"
    },
    "tags": []
   },
   "source": [
    "# Splitting Data and Setting Training Data Size"
   ]
  },
  {
   "cell_type": "code",
   "execution_count": 14,
   "id": "e993b61f-042d-41a6-8c81-f55681f86335",
   "metadata": {
    "execution": {
     "iopub.execute_input": "2025-07-30T21:39:04.656161Z",
     "iopub.status.busy": "2025-07-30T21:39:04.655664Z",
     "iopub.status.idle": "2025-07-30T21:39:04.669744Z",
     "shell.execute_reply": "2025-07-30T21:39:04.668748Z"
    },
    "papermill": {
     "duration": 0.03662,
     "end_time": "2025-07-30T21:39:04.671547",
     "exception": false,
     "start_time": "2025-07-30T21:39:04.634927",
     "status": "completed"
    },
    "tags": []
   },
   "outputs": [],
   "source": [
    "def sample_by_year_size(df,\n",
    "                        training_year: str,\n",
    "                        training_size: str,\n",
    "                        random_state: int = 42):\n",
    "    # --- parse training_year into a list of int years ---\n",
    "    if \"_\" in training_year:\n",
    "        start_str, end_str = training_year.split(\"_\", 1)\n",
    "        start = int(start_str)\n",
    "        end   = int(end_str) if len(end_str) == 4 else (int(end_str) + (start // 100)*100)\n",
    "        years = list(range(start, end + 1))\n",
    "    else:\n",
    "        years = [int(training_year)]\n",
    "\n",
    "    df = df[df[\"year\"].isin(years)].reset_index(drop=True)\n",
    "\n",
    "    # --- map training_size to total number of samples ---\n",
    "    total_map = {\"25k\": 25_000, \"5k\": 5_000, \"1k\": 1_000}\n",
    "    if training_size not in total_map:\n",
    "        return df  # e.g. \"all\"\n",
    "\n",
    "    total_samples = total_map[training_size]\n",
    "    n_years       = len(years)\n",
    "    base          = total_samples // n_years\n",
    "    remainder     = total_samples % n_years\n",
    "\n",
    "    # --- build a dict: year -> how many to sample ---\n",
    "    # give +1 to the first `remainder` years in ascending order\n",
    "    quotas = {\n",
    "        year: base + (1 if idx < remainder else 0)\n",
    "        for idx, year in enumerate(sorted(years))\n",
    "    }\n",
    "\n",
    "    # --- sample per‐year according to the quota dict ---\n",
    "    sampled = (\n",
    "        df\n",
    "        .groupby(\"year\", group_keys=False)\n",
    "        .apply(lambda grp: grp.sample(\n",
    "            n=min(len(grp), quotas[grp.name]),\n",
    "            random_state=random_state))\n",
    "        .reset_index(drop=True)\n",
    "    )\n",
    "\n",
    "    return sampled"
   ]
  },
  {
   "cell_type": "code",
   "execution_count": 15,
   "id": "c0ccd338-0e02-41f3-a09d-f56f9266e3fb",
   "metadata": {
    "execution": {
     "iopub.execute_input": "2025-07-30T21:39:04.714864Z",
     "iopub.status.busy": "2025-07-30T21:39:04.714361Z",
     "iopub.status.idle": "2025-07-30T21:39:04.719269Z",
     "shell.execute_reply": "2025-07-30T21:39:04.718400Z"
    },
    "papermill": {
     "duration": 0.028293,
     "end_time": "2025-07-30T21:39:04.721020",
     "exception": false,
     "start_time": "2025-07-30T21:39:04.692727",
     "status": "completed"
    },
    "tags": []
   },
   "outputs": [],
   "source": [
    "#universe[\"training_size\"]"
   ]
  },
  {
   "cell_type": "code",
   "execution_count": 16,
   "id": "ca707fd7-8047-4acd-bfa5-66248fbbf8e6",
   "metadata": {
    "execution": {
     "iopub.execute_input": "2025-07-30T21:39:04.762605Z",
     "iopub.status.busy": "2025-07-30T21:39:04.762185Z",
     "iopub.status.idle": "2025-07-30T21:39:04.767291Z",
     "shell.execute_reply": "2025-07-30T21:39:04.766334Z"
    },
    "papermill": {
     "duration": 0.02718,
     "end_time": "2025-07-30T21:39:04.768904",
     "exception": false,
     "start_time": "2025-07-30T21:39:04.741724",
     "status": "completed"
    },
    "tags": []
   },
   "outputs": [],
   "source": [
    "#universe[\"training_year\"]"
   ]
  },
  {
   "cell_type": "code",
   "execution_count": 17,
   "id": "aea9c6ef-6f46-42c8-85eb-5a62025c1508",
   "metadata": {
    "execution": {
     "iopub.execute_input": "2025-07-30T21:39:04.810896Z",
     "iopub.status.busy": "2025-07-30T21:39:04.809963Z",
     "iopub.status.idle": "2025-07-30T21:39:05.403067Z",
     "shell.execute_reply": "2025-07-30T21:39:05.401999Z"
    },
    "papermill": {
     "duration": 0.615609,
     "end_time": "2025-07-30T21:39:05.405028",
     "exception": false,
     "start_time": "2025-07-30T21:39:04.789419",
     "status": "completed"
    },
    "tags": []
   },
   "outputs": [],
   "source": [
    "siab_train = sample_by_year_size(siab,\n",
    "                               training_year=universe[\"training_year\"],\n",
    "                               training_size=universe[\"training_size\"])"
   ]
  },
  {
   "cell_type": "code",
   "execution_count": 18,
   "id": "8d3afb32-789d-442c-8d5d-9f5aa8dd2eed",
   "metadata": {
    "execution": {
     "iopub.execute_input": "2025-07-30T21:39:05.449310Z",
     "iopub.status.busy": "2025-07-30T21:39:05.448502Z",
     "iopub.status.idle": "2025-07-30T21:39:05.453893Z",
     "shell.execute_reply": "2025-07-30T21:39:05.452702Z"
    },
    "papermill": {
     "duration": 0.02823,
     "end_time": "2025-07-30T21:39:05.455810",
     "exception": false,
     "start_time": "2025-07-30T21:39:05.427580",
     "status": "completed"
    },
    "tags": []
   },
   "outputs": [],
   "source": [
    "#siab_train.shape"
   ]
  },
  {
   "cell_type": "code",
   "execution_count": 19,
   "id": "d582db68-1a4c-47fb-84fc-08518dc1975a",
   "metadata": {
    "execution": {
     "iopub.execute_input": "2025-07-30T21:39:05.498184Z",
     "iopub.status.busy": "2025-07-30T21:39:05.497701Z",
     "iopub.status.idle": "2025-07-30T21:39:05.502941Z",
     "shell.execute_reply": "2025-07-30T21:39:05.501978Z"
    },
    "papermill": {
     "duration": 0.028042,
     "end_time": "2025-07-30T21:39:05.504794",
     "exception": false,
     "start_time": "2025-07-30T21:39:05.476752",
     "status": "completed"
    },
    "tags": []
   },
   "outputs": [],
   "source": [
    "#display(siab_train.groupby(\"year\").size())"
   ]
  },
  {
   "cell_type": "code",
   "execution_count": 20,
   "id": "a561edb4-d032-42cb-8256-22eac1111c64",
   "metadata": {
    "execution": {
     "iopub.execute_input": "2025-07-30T21:39:05.549980Z",
     "iopub.status.busy": "2025-07-30T21:39:05.549294Z",
     "iopub.status.idle": "2025-07-30T21:39:05.776661Z",
     "shell.execute_reply": "2025-07-30T21:39:05.775651Z"
    },
    "papermill": {
     "duration": 0.250635,
     "end_time": "2025-07-30T21:39:05.778622",
     "exception": false,
     "start_time": "2025-07-30T21:39:05.527987",
     "status": "completed"
    },
    "tags": []
   },
   "outputs": [],
   "source": [
    "#siab_train = siab_s[siab_s.year < 2015]\n",
    "siab_calib = siab[siab.year == 2015]\n",
    "siab_test = siab[siab.year == 2016]"
   ]
  },
  {
   "cell_type": "code",
   "execution_count": 21,
   "id": "472de16f-c3db-4916-846b-1f0de9cf1746",
   "metadata": {
    "execution": {
     "iopub.execute_input": "2025-07-30T21:39:05.824257Z",
     "iopub.status.busy": "2025-07-30T21:39:05.823378Z",
     "iopub.status.idle": "2025-07-30T21:39:05.830888Z",
     "shell.execute_reply": "2025-07-30T21:39:05.829904Z"
    },
    "papermill": {
     "duration": 0.031589,
     "end_time": "2025-07-30T21:39:05.832587",
     "exception": false,
     "start_time": "2025-07-30T21:39:05.800998",
     "status": "completed"
    },
    "tags": []
   },
   "outputs": [],
   "source": [
    "X_train = siab_train.iloc[:,4:164]\n",
    "y_train = siab_train.iloc[:, [3]]"
   ]
  },
  {
   "cell_type": "code",
   "execution_count": 22,
   "id": "828c96af-f43a-4ed6-ba47-8ac73a47d56c",
   "metadata": {
    "execution": {
     "iopub.execute_input": "2025-07-30T21:39:05.878100Z",
     "iopub.status.busy": "2025-07-30T21:39:05.877221Z",
     "iopub.status.idle": "2025-07-30T21:39:05.929209Z",
     "shell.execute_reply": "2025-07-30T21:39:05.927984Z"
    },
    "papermill": {
     "duration": 0.076809,
     "end_time": "2025-07-30T21:39:05.931323",
     "exception": false,
     "start_time": "2025-07-30T21:39:05.854514",
     "status": "completed"
    },
    "tags": []
   },
   "outputs": [],
   "source": [
    "X_calib = siab_calib.iloc[:,4:164]\n",
    "y_calib = siab_calib.iloc[:, [3]]"
   ]
  },
  {
   "cell_type": "code",
   "execution_count": 23,
   "id": "c34be9c3-6bd6-476e-acd3-845840e303be",
   "metadata": {
    "execution": {
     "iopub.execute_input": "2025-07-30T21:39:05.977391Z",
     "iopub.status.busy": "2025-07-30T21:39:05.976757Z",
     "iopub.status.idle": "2025-07-30T21:39:06.033935Z",
     "shell.execute_reply": "2025-07-30T21:39:06.032729Z"
    },
    "papermill": {
     "duration": 0.081269,
     "end_time": "2025-07-30T21:39:06.035730",
     "exception": false,
     "start_time": "2025-07-30T21:39:05.954461",
     "status": "completed"
    },
    "tags": []
   },
   "outputs": [],
   "source": [
    "X_test = siab_test.iloc[:,4:164]\n",
    "y_true = siab_test.iloc[:, [3]]"
   ]
  },
  {
   "cell_type": "markdown",
   "id": "9901737e-04df-44f0-9100-f5ad144ed040",
   "metadata": {
    "papermill": {
     "duration": 0.022988,
     "end_time": "2025-07-30T21:39:06.081389",
     "exception": false,
     "start_time": "2025-07-30T21:39:06.058401",
     "status": "completed"
    },
    "tags": []
   },
   "source": [
    "# Splitting Data and Setting Training Data Size OLD VERSION"
   ]
  },
  {
   "cell_type": "code",
   "execution_count": 24,
   "id": "acbc8f7d-8fc8-4e86-8c59-5dcb0f58384b",
   "metadata": {
    "execution": {
     "iopub.execute_input": "2025-07-30T21:39:06.125250Z",
     "iopub.status.busy": "2025-07-30T21:39:06.124790Z",
     "iopub.status.idle": "2025-07-30T21:39:06.130576Z",
     "shell.execute_reply": "2025-07-30T21:39:06.129656Z"
    },
    "papermill": {
     "duration": 0.030241,
     "end_time": "2025-07-30T21:39:06.132439",
     "exception": false,
     "start_time": "2025-07-30T21:39:06.102198",
     "status": "completed"
    },
    "tags": []
   },
   "outputs": [],
   "source": [
    "#def sample_by_year(df, training_size, random_state=42):\n",
    "#    if training_size == \"2014\":\n",
    "#        return df[df[\"year\"] == 2014].reset_index(drop=True)\n",
    "#    \n",
    "#    size_map = {\n",
    "#        \"25k\": 5000,\n",
    "#        \"5k\": 1000,\n",
    "#        \"1k\": 200\n",
    "#    }\n",
    "#\n",
    "#    if training_size not in size_map:\n",
    "#        return df.reset_index(drop=True)  # use all data\n",
    "#\n",
    "#    n_per_year = size_map[training_size]\n",
    "#    grouped = df.groupby(\"year\")\n",
    "#    sampled = grouped.apply(lambda x: x.sample(n=min(n_per_year, len(x)), random_state=random_state))\n",
    "#    return sampled.reset_index(drop=True)"
   ]
  },
  {
   "cell_type": "code",
   "execution_count": 25,
   "id": "6d931f52-beaf-43ff-9e78-9d44a448d54e",
   "metadata": {
    "execution": {
     "iopub.execute_input": "2025-07-30T21:39:06.178207Z",
     "iopub.status.busy": "2025-07-30T21:39:06.177478Z",
     "iopub.status.idle": "2025-07-30T21:39:06.182725Z",
     "shell.execute_reply": "2025-07-30T21:39:06.181820Z"
    },
    "papermill": {
     "duration": 0.029672,
     "end_time": "2025-07-30T21:39:06.184467",
     "exception": false,
     "start_time": "2025-07-30T21:39:06.154795",
     "status": "completed"
    },
    "tags": []
   },
   "outputs": [],
   "source": [
    "#siab_s = sample_by_year(siab, universe[\"training_size\"])"
   ]
  },
  {
   "cell_type": "code",
   "execution_count": 26,
   "id": "5db0a40e-a4e2-4920-be85-b12ae061d70d",
   "metadata": {
    "execution": {
     "iopub.execute_input": "2025-07-30T21:39:06.230617Z",
     "iopub.status.busy": "2025-07-30T21:39:06.229757Z",
     "iopub.status.idle": "2025-07-30T21:39:06.235017Z",
     "shell.execute_reply": "2025-07-30T21:39:06.233881Z"
    },
    "papermill": {
     "duration": 0.029118,
     "end_time": "2025-07-30T21:39:06.236841",
     "exception": false,
     "start_time": "2025-07-30T21:39:06.207723",
     "status": "completed"
    },
    "tags": []
   },
   "outputs": [],
   "source": [
    "#display(siab_s.groupby(\"year\").size())"
   ]
  },
  {
   "cell_type": "code",
   "execution_count": 27,
   "id": "e6c733c5",
   "metadata": {
    "execution": {
     "iopub.execute_input": "2025-07-30T21:39:06.282620Z",
     "iopub.status.busy": "2025-07-30T21:39:06.282159Z",
     "iopub.status.idle": "2025-07-30T21:39:06.379765Z",
     "shell.execute_reply": "2025-07-30T21:39:06.378844Z"
    },
    "papermill": {
     "duration": 0.122218,
     "end_time": "2025-07-30T21:39:06.381766",
     "exception": false,
     "start_time": "2025-07-30T21:39:06.259548",
     "status": "completed"
    },
    "tags": []
   },
   "outputs": [],
   "source": [
    "# Auxiliary data needed downstream in the pipeline\n",
    "\n",
    "org_train = X_train.copy()\n",
    "org_test = X_test.copy()\n",
    "org_calib = X_calib.copy()"
   ]
  },
  {
   "cell_type": "code",
   "execution_count": 28,
   "id": "1466abac-c6da-4492-a62f-4240ae3783af",
   "metadata": {
    "execution": {
     "iopub.execute_input": "2025-07-30T21:39:06.428619Z",
     "iopub.status.busy": "2025-07-30T21:39:06.427926Z",
     "iopub.status.idle": "2025-07-30T21:39:06.434298Z",
     "shell.execute_reply": "2025-07-30T21:39:06.433168Z"
    },
    "papermill": {
     "duration": 0.031085,
     "end_time": "2025-07-30T21:39:06.436197",
     "exception": false,
     "start_time": "2025-07-30T21:39:06.405112",
     "status": "completed"
    },
    "tags": []
   },
   "outputs": [],
   "source": [
    "# put in other script?\n",
    "# Group sizes\n",
    "\n",
    "#def calculate_percentages(df, df_name):\n",
    "#    total_entries = len(df)\n",
    "#\n",
    "#    female_pct = (df['frau1'] == 1).mean() * 100\n",
    "#    non_german_pct = ((df['maxdeutsch1'] == 0) & (df['maxdeutsch.Missing.'] == 0)).mean() * 100\n",
    "#    non_german_male_pct = ((df['frau1'] == 0) & (df['maxdeutsch1'] == 0) & (df['maxdeutsch.Missing.'] == 0)).mean() * 100\n",
    "#    non_german_female_pct = ((df['frau1'] == 1) & (df['maxdeutsch1'] == 0) & (df['maxdeutsch.Missing.'] == 0)).mean() * 100\n",
    "#\n",
    "#    print(f\"--- {df_name} ---\")\n",
    "#    print(f\"Female: {female_pct:.2f}%\")\n",
    "#    print(f\"Non-German: {non_german_pct:.2f}%\")\n",
    "#    print(f\"Non-German Male: {non_german_male_pct:.2f}%\")\n",
    "#    print(f\"Non-German Female: {non_german_female_pct:.2f}%\\n\")\n",
    "#\n",
    "## Calculate for each DataFrame\n",
    "#calculate_percentages(siab_calib, \"siab_calib\")\n",
    "#calculate_percentages(siab_test, \"siab_test\")\n",
    "#calculate_percentages(siab_train, \"siab_train\")"
   ]
  },
  {
   "cell_type": "markdown",
   "id": "0a4a1b33",
   "metadata": {
    "papermill": {
     "duration": 0.024335,
     "end_time": "2025-07-30T21:39:06.484414",
     "exception": false,
     "start_time": "2025-07-30T21:39:06.460079",
     "status": "completed"
    },
    "tags": []
   },
   "source": [
    "# Preprocessing Data"
   ]
  },
  {
   "cell_type": "code",
   "execution_count": 29,
   "id": "ca879031",
   "metadata": {
    "execution": {
     "iopub.execute_input": "2025-07-30T21:39:06.530641Z",
     "iopub.status.busy": "2025-07-30T21:39:06.530134Z",
     "iopub.status.idle": "2025-07-30T21:39:06.536090Z",
     "shell.execute_reply": "2025-07-30T21:39:06.535197Z"
    },
    "papermill": {
     "duration": 0.031603,
     "end_time": "2025-07-30T21:39:06.537735",
     "exception": false,
     "start_time": "2025-07-30T21:39:06.506132",
     "status": "completed"
    },
    "tags": []
   },
   "outputs": [],
   "source": [
    "# EXCLUDE PROTECTED FEATURES\n",
    "# ----------------------\n",
    "# \"exclude_features\": \"none\", # \"nationality\", \"sex\", \"nationality-sex\"\n",
    "\n",
    "excluded_features = universe[\"exclude_features\"].split(\"-\") # split, e.g.: \"nationality-sex\" -> [\"nationality\", \"sex\"]\n",
    "excluded_features_dictionary = {\n",
    "    \"nationality\": [\"maxdeutsch1\", \"maxdeutsch.Missing.\"],\n",
    "    \"sex\": [\"frau1\"],\n",
    "    \"age\": [\"age\"],\n",
    "}\n"
   ]
  },
  {
   "cell_type": "code",
   "execution_count": 30,
   "id": "b745ac60",
   "metadata": {
    "execution": {
     "iopub.execute_input": "2025-07-30T21:39:06.586313Z",
     "iopub.status.busy": "2025-07-30T21:39:06.585622Z",
     "iopub.status.idle": "2025-07-30T21:39:06.591593Z",
     "shell.execute_reply": "2025-07-30T21:39:06.590607Z"
    },
    "papermill": {
     "duration": 0.031181,
     "end_time": "2025-07-30T21:39:06.593418",
     "exception": false,
     "start_time": "2025-07-30T21:39:06.562237",
     "status": "completed"
    },
    "tags": []
   },
   "outputs": [],
   "source": [
    "# Code nice names to column names\n",
    "\n",
    "excluded_features_columns = [\n",
    "    excluded_features_dictionary[f] for f in excluded_features if len(f) > 0 and f != \"none\"\n",
    "]"
   ]
  },
  {
   "cell_type": "code",
   "execution_count": 31,
   "id": "f84f73a2",
   "metadata": {
    "execution": {
     "iopub.execute_input": "2025-07-30T21:39:06.641052Z",
     "iopub.status.busy": "2025-07-30T21:39:06.640400Z",
     "iopub.status.idle": "2025-07-30T21:39:06.647026Z",
     "shell.execute_reply": "2025-07-30T21:39:06.646035Z"
    },
    "papermill": {
     "duration": 0.032186,
     "end_time": "2025-07-30T21:39:06.648908",
     "exception": false,
     "start_time": "2025-07-30T21:39:06.616722",
     "status": "completed"
    },
    "tags": []
   },
   "outputs": [],
   "source": [
    "from utils import flatten_once\n",
    "\n",
    "excluded_features_columns = flatten_once(excluded_features_columns)"
   ]
  },
  {
   "cell_type": "code",
   "execution_count": 32,
   "id": "884dea22",
   "metadata": {
    "execution": {
     "iopub.execute_input": "2025-07-30T21:39:06.696274Z",
     "iopub.status.busy": "2025-07-30T21:39:06.695591Z",
     "iopub.status.idle": "2025-07-30T21:39:06.704610Z",
     "shell.execute_reply": "2025-07-30T21:39:06.703324Z"
    },
    "papermill": {
     "duration": 0.034832,
     "end_time": "2025-07-30T21:39:06.706289",
     "exception": false,
     "start_time": "2025-07-30T21:39:06.671457",
     "status": "completed"
    },
    "tags": []
   },
   "outputs": [
    {
     "name": "stdout",
     "output_type": "stream",
     "text": [
      "Dropping features: ['age']\n"
     ]
    }
   ],
   "source": [
    "if len(excluded_features_columns) > 0:\n",
    "    print(f\"Dropping features: {excluded_features_columns}\")\n",
    "    X_train.drop(excluded_features_columns, axis=1, inplace=True)"
   ]
  },
  {
   "cell_type": "code",
   "execution_count": 33,
   "id": "95ab8b16",
   "metadata": {
    "execution": {
     "iopub.execute_input": "2025-07-30T21:39:06.754121Z",
     "iopub.status.busy": "2025-07-30T21:39:06.753388Z",
     "iopub.status.idle": "2025-07-30T21:39:06.811117Z",
     "shell.execute_reply": "2025-07-30T21:39:06.810022Z"
    },
    "papermill": {
     "duration": 0.084466,
     "end_time": "2025-07-30T21:39:06.814016",
     "exception": false,
     "start_time": "2025-07-30T21:39:06.729550",
     "status": "completed"
    },
    "tags": []
   },
   "outputs": [
    {
     "name": "stdout",
     "output_type": "stream",
     "text": [
      "Dropping features: ['age']\n"
     ]
    }
   ],
   "source": [
    "if len(excluded_features_columns) > 0:\n",
    "    print(f\"Dropping features: {excluded_features_columns}\")\n",
    "    X_test.drop(excluded_features_columns, axis=1, inplace=True)"
   ]
  },
  {
   "cell_type": "code",
   "execution_count": 34,
   "id": "1853aaf5-fb9f-46cb-a2b5-8ea4ae2237e4",
   "metadata": {
    "execution": {
     "iopub.execute_input": "2025-07-30T21:39:06.864262Z",
     "iopub.status.busy": "2025-07-30T21:39:06.863575Z",
     "iopub.status.idle": "2025-07-30T21:39:06.917817Z",
     "shell.execute_reply": "2025-07-30T21:39:06.916681Z"
    },
    "papermill": {
     "duration": 0.081983,
     "end_time": "2025-07-30T21:39:06.919868",
     "exception": false,
     "start_time": "2025-07-30T21:39:06.837885",
     "status": "completed"
    },
    "tags": []
   },
   "outputs": [
    {
     "name": "stdout",
     "output_type": "stream",
     "text": [
      "Dropping features: ['age']\n"
     ]
    }
   ],
   "source": [
    "if len(excluded_features_columns) > 0:\n",
    "    print(f\"Dropping features: {excluded_features_columns}\")\n",
    "    X_calib.drop(excluded_features_columns, axis=1, inplace=True)"
   ]
  },
  {
   "cell_type": "code",
   "execution_count": 35,
   "id": "6727d079-03e5-481e-9d38-292a90b7a0a8",
   "metadata": {
    "execution": {
     "iopub.execute_input": "2025-07-30T21:39:06.969094Z",
     "iopub.status.busy": "2025-07-30T21:39:06.968164Z",
     "iopub.status.idle": "2025-07-30T21:39:06.973354Z",
     "shell.execute_reply": "2025-07-30T21:39:06.972393Z"
    },
    "papermill": {
     "duration": 0.030603,
     "end_time": "2025-07-30T21:39:06.974998",
     "exception": false,
     "start_time": "2025-07-30T21:39:06.944395",
     "status": "completed"
    },
    "tags": []
   },
   "outputs": [],
   "source": [
    "# SPLIT & STRATIFY DATA\n",
    "# ----------------------"
   ]
  },
  {
   "cell_type": "code",
   "execution_count": 36,
   "id": "76c4dc6d",
   "metadata": {
    "execution": {
     "iopub.execute_input": "2025-07-30T21:39:07.023823Z",
     "iopub.status.busy": "2025-07-30T21:39:07.022838Z",
     "iopub.status.idle": "2025-07-30T21:39:07.028545Z",
     "shell.execute_reply": "2025-07-30T21:39:07.027541Z"
    },
    "papermill": {
     "duration": 0.032215,
     "end_time": "2025-07-30T21:39:07.030478",
     "exception": false,
     "start_time": "2025-07-30T21:39:06.998263",
     "status": "completed"
    },
    "tags": []
   },
   "outputs": [],
   "source": [
    "# EXCLUDE CERTAIN SUBGROUPS\n",
    "# ----------------------\n",
    "\n",
    "mode = universe.get(\"exclude_subgroups\", \"keep-all\") \n",
    "# Fetches the exclude_subgroups setting from the universe dict.\n",
    "# Defaults to \"keep-all\" if the key is missing."
   ]
  },
  {
   "cell_type": "code",
   "execution_count": 37,
   "id": "21994072",
   "metadata": {
    "execution": {
     "iopub.execute_input": "2025-07-30T21:39:07.078394Z",
     "iopub.status.busy": "2025-07-30T21:39:07.077886Z",
     "iopub.status.idle": "2025-07-30T21:39:07.084978Z",
     "shell.execute_reply": "2025-07-30T21:39:07.083828Z"
    },
    "papermill": {
     "duration": 0.032716,
     "end_time": "2025-07-30T21:39:07.086959",
     "exception": false,
     "start_time": "2025-07-30T21:39:07.054243",
     "status": "completed"
    },
    "tags": []
   },
   "outputs": [],
   "source": [
    "if mode == \"keep-all\":\n",
    "    keep_mask = pd.Series(True, index=org_train.index)\n",
    "\n",
    "# org_train contains the original feature columns from features_org (in Simson)\n",
    "# features_org contains unprocessed features, for me X_train at beginning ???\n",
    "# For keep-all, creates a boolean Series (keep_mask) of all True, so no rows are removed.\n",
    "\n",
    "elif mode == \"drop-non-german\":\n",
    "    keep_mask = org_train[\"maxdeutsch1\"] == 1 # ??? what about missing values?\n",
    "\n",
    "else:\n",
    "    raise ValueError(f\"Unsupported mode for exclude_subgroups: {mode}\")\n"
   ]
  },
  {
   "cell_type": "code",
   "execution_count": 38,
   "id": "71651440",
   "metadata": {
    "execution": {
     "iopub.execute_input": "2025-07-30T21:39:07.135879Z",
     "iopub.status.busy": "2025-07-30T21:39:07.135138Z",
     "iopub.status.idle": "2025-07-30T21:39:07.143852Z",
     "shell.execute_reply": "2025-07-30T21:39:07.142873Z"
    },
    "papermill": {
     "duration": 0.034488,
     "end_time": "2025-07-30T21:39:07.145749",
     "exception": false,
     "start_time": "2025-07-30T21:39:07.111261",
     "status": "completed"
    },
    "tags": []
   },
   "outputs": [
    {
     "name": "stdout",
     "output_type": "stream",
     "text": [
      "Dropping 147 rows (14.70%) where mode='drop-non-german'\n"
     ]
    }
   ],
   "source": [
    "n_drop = (~keep_mask).sum() # Calculates how many rows are set to be dropped\n",
    "if n_drop > 0:\n",
    "    pct = n_drop / len(keep_mask) * 100\n",
    "    print(f\"Dropping {n_drop} rows ({pct:.2f}%) where mode='{mode}'\")"
   ]
  },
  {
   "cell_type": "code",
   "execution_count": 39,
   "id": "5fb8eee5",
   "metadata": {
    "execution": {
     "iopub.execute_input": "2025-07-30T21:39:07.196233Z",
     "iopub.status.busy": "2025-07-30T21:39:07.195194Z",
     "iopub.status.idle": "2025-07-30T21:39:07.201775Z",
     "shell.execute_reply": "2025-07-30T21:39:07.200770Z"
    },
    "papermill": {
     "duration": 0.033987,
     "end_time": "2025-07-30T21:39:07.203632",
     "exception": false,
     "start_time": "2025-07-30T21:39:07.169645",
     "status": "completed"
    },
    "tags": []
   },
   "outputs": [],
   "source": [
    "X_train = X_train[keep_mask]"
   ]
  },
  {
   "cell_type": "code",
   "execution_count": 40,
   "id": "b202bb3a",
   "metadata": {
    "execution": {
     "iopub.execute_input": "2025-07-30T21:39:07.252683Z",
     "iopub.status.busy": "2025-07-30T21:39:07.252171Z",
     "iopub.status.idle": "2025-07-30T21:39:07.258379Z",
     "shell.execute_reply": "2025-07-30T21:39:07.257443Z"
    },
    "papermill": {
     "duration": 0.032509,
     "end_time": "2025-07-30T21:39:07.260106",
     "exception": false,
     "start_time": "2025-07-30T21:39:07.227597",
     "status": "completed"
    },
    "tags": []
   },
   "outputs": [],
   "source": [
    "y_train = y_train[keep_mask]"
   ]
  },
  {
   "cell_type": "markdown",
   "id": "493e2ac3",
   "metadata": {
    "papermill": {
     "duration": 0.022533,
     "end_time": "2025-07-30T21:39:07.306981",
     "exception": false,
     "start_time": "2025-07-30T21:39:07.284448",
     "status": "completed"
    },
    "tags": []
   },
   "source": [
    "# Model Training"
   ]
  },
  {
   "cell_type": "code",
   "execution_count": 41,
   "id": "679e1268",
   "metadata": {
    "execution": {
     "iopub.execute_input": "2025-07-30T21:39:07.356386Z",
     "iopub.status.busy": "2025-07-30T21:39:07.355882Z",
     "iopub.status.idle": "2025-07-30T21:39:07.459388Z",
     "shell.execute_reply": "2025-07-30T21:39:07.458379Z"
    },
    "papermill": {
     "duration": 0.130379,
     "end_time": "2025-07-30T21:39:07.461430",
     "exception": false,
     "start_time": "2025-07-30T21:39:07.331051",
     "status": "completed"
    },
    "tags": []
   },
   "outputs": [],
   "source": [
    "from sklearn.linear_model import LogisticRegression\n",
    "from sklearn.ensemble import GradientBoostingClassifier, RandomForestClassifier\n",
    "\n",
    "if (universe[\"model\"] == \"logreg\"):\n",
    "    model = LogisticRegression() #penalty=\"none\") #, solver=\"newton-cg\", max_iter=1) # include random_state=19 ?\n",
    "elif (universe[\"model\"] == \"penalized_logreg\"):\n",
    "    model = LogisticRegression(penalty=\"l2\", C=1.0) #, solver=\"newton-cg\", max_iter=1)\n",
    "elif (universe[\"model\"] == \"rf\"):\n",
    "    model = RandomForestClassifier(n_estimators=100, n_jobs=-1)\n",
    "elif (universe[\"model\"] == \"gbm\"):\n",
    "    model = GradientBoostingClassifier()\n",
    "elif (universe[\"model\"] == \"elasticnet\"):\n",
    "    model = LogisticRegression(penalty = 'elasticnet', solver = 'saga', l1_ratio = 0.5, max_iter=5000) # which solver to use?\n",
    "else:\n",
    "    raise \"Unsupported universe.model\""
   ]
  },
  {
   "cell_type": "code",
   "execution_count": 42,
   "id": "0cc8f744",
   "metadata": {
    "execution": {
     "iopub.execute_input": "2025-07-30T21:39:07.511146Z",
     "iopub.status.busy": "2025-07-30T21:39:07.510276Z",
     "iopub.status.idle": "2025-07-30T21:39:07.517152Z",
     "shell.execute_reply": "2025-07-30T21:39:07.516197Z"
    },
    "papermill": {
     "duration": 0.033138,
     "end_time": "2025-07-30T21:39:07.518906",
     "exception": false,
     "start_time": "2025-07-30T21:39:07.485768",
     "status": "completed"
    },
    "tags": []
   },
   "outputs": [],
   "source": [
    "import numpy as np\n",
    "from sklearn.pipeline import Pipeline\n",
    "from sklearn.preprocessing import StandardScaler\n",
    "\n",
    "model = Pipeline([\n",
    "    #(\"continuous_processor\", continuous_processor),\n",
    "    #(\"categorical_preprocessor\", categorical_preprocessor),\n",
    "    (\"scale\", StandardScaler() if universe[\"scale\"] == \"scale\" else None), \n",
    "    (\"model\", model),\n",
    "])"
   ]
  },
  {
   "cell_type": "code",
   "execution_count": 43,
   "id": "9442c04d",
   "metadata": {
    "execution": {
     "iopub.execute_input": "2025-07-30T21:39:07.568333Z",
     "iopub.status.busy": "2025-07-30T21:39:07.567287Z",
     "iopub.status.idle": "2025-07-30T21:39:07.637486Z",
     "shell.execute_reply": "2025-07-30T21:39:07.636595Z"
    },
    "papermill": {
     "duration": 0.096345,
     "end_time": "2025-07-30T21:39:07.639160",
     "exception": false,
     "start_time": "2025-07-30T21:39:07.542815",
     "status": "completed"
    },
    "tags": []
   },
   "outputs": [
    {
     "name": "stderr",
     "output_type": "stream",
     "text": [
      "/dss/dsshome1/0C/ra93lal2/.local/share/virtualenvs/CMA_Fairness_v2-3j10GkSs/lib/python3.10/site-packages/sklearn/linear_model/_logistic.py:444: ConvergenceWarning: lbfgs failed to converge (status=1):\n",
      "STOP: TOTAL NO. of ITERATIONS REACHED LIMIT.\n",
      "\n",
      "Increase the number of iterations (max_iter) or scale the data as shown in:\n",
      "    https://scikit-learn.org/stable/modules/preprocessing.html\n",
      "Please also refer to the documentation for alternative solver options:\n",
      "    https://scikit-learn.org/stable/modules/linear_model.html#logistic-regression\n",
      "  n_iter_i = _check_optimize_result(\n"
     ]
    },
    {
     "data": {
      "text/html": [
       "<style>#sk-container-id-1 {color: black;background-color: white;}#sk-container-id-1 pre{padding: 0;}#sk-container-id-1 div.sk-toggleable {background-color: white;}#sk-container-id-1 label.sk-toggleable__label {cursor: pointer;display: block;width: 100%;margin-bottom: 0;padding: 0.3em;box-sizing: border-box;text-align: center;}#sk-container-id-1 label.sk-toggleable__label-arrow:before {content: \"▸\";float: left;margin-right: 0.25em;color: #696969;}#sk-container-id-1 label.sk-toggleable__label-arrow:hover:before {color: black;}#sk-container-id-1 div.sk-estimator:hover label.sk-toggleable__label-arrow:before {color: black;}#sk-container-id-1 div.sk-toggleable__content {max-height: 0;max-width: 0;overflow: hidden;text-align: left;background-color: #f0f8ff;}#sk-container-id-1 div.sk-toggleable__content pre {margin: 0.2em;color: black;border-radius: 0.25em;background-color: #f0f8ff;}#sk-container-id-1 input.sk-toggleable__control:checked~div.sk-toggleable__content {max-height: 200px;max-width: 100%;overflow: auto;}#sk-container-id-1 input.sk-toggleable__control:checked~label.sk-toggleable__label-arrow:before {content: \"▾\";}#sk-container-id-1 div.sk-estimator input.sk-toggleable__control:checked~label.sk-toggleable__label {background-color: #d4ebff;}#sk-container-id-1 div.sk-label input.sk-toggleable__control:checked~label.sk-toggleable__label {background-color: #d4ebff;}#sk-container-id-1 input.sk-hidden--visually {border: 0;clip: rect(1px 1px 1px 1px);clip: rect(1px, 1px, 1px, 1px);height: 1px;margin: -1px;overflow: hidden;padding: 0;position: absolute;width: 1px;}#sk-container-id-1 div.sk-estimator {font-family: monospace;background-color: #f0f8ff;border: 1px dotted black;border-radius: 0.25em;box-sizing: border-box;margin-bottom: 0.5em;}#sk-container-id-1 div.sk-estimator:hover {background-color: #d4ebff;}#sk-container-id-1 div.sk-parallel-item::after {content: \"\";width: 100%;border-bottom: 1px solid gray;flex-grow: 1;}#sk-container-id-1 div.sk-label:hover label.sk-toggleable__label {background-color: #d4ebff;}#sk-container-id-1 div.sk-serial::before {content: \"\";position: absolute;border-left: 1px solid gray;box-sizing: border-box;top: 0;bottom: 0;left: 50%;z-index: 0;}#sk-container-id-1 div.sk-serial {display: flex;flex-direction: column;align-items: center;background-color: white;padding-right: 0.2em;padding-left: 0.2em;position: relative;}#sk-container-id-1 div.sk-item {position: relative;z-index: 1;}#sk-container-id-1 div.sk-parallel {display: flex;align-items: stretch;justify-content: center;background-color: white;position: relative;}#sk-container-id-1 div.sk-item::before, #sk-container-id-1 div.sk-parallel-item::before {content: \"\";position: absolute;border-left: 1px solid gray;box-sizing: border-box;top: 0;bottom: 0;left: 50%;z-index: -1;}#sk-container-id-1 div.sk-parallel-item {display: flex;flex-direction: column;z-index: 1;position: relative;background-color: white;}#sk-container-id-1 div.sk-parallel-item:first-child::after {align-self: flex-end;width: 50%;}#sk-container-id-1 div.sk-parallel-item:last-child::after {align-self: flex-start;width: 50%;}#sk-container-id-1 div.sk-parallel-item:only-child::after {width: 0;}#sk-container-id-1 div.sk-dashed-wrapped {border: 1px dashed gray;margin: 0 0.4em 0.5em 0.4em;box-sizing: border-box;padding-bottom: 0.4em;background-color: white;}#sk-container-id-1 div.sk-label label {font-family: monospace;font-weight: bold;display: inline-block;line-height: 1.2em;}#sk-container-id-1 div.sk-label-container {text-align: center;}#sk-container-id-1 div.sk-container {/* jupyter's `normalize.less` sets `[hidden] { display: none; }` but bootstrap.min.css set `[hidden] { display: none !important; }` so we also need the `!important` here to be able to override the default hidden behavior on the sphinx rendered scikit-learn.org. See: https://github.com/scikit-learn/scikit-learn/issues/21755 */display: inline-block !important;position: relative;}#sk-container-id-1 div.sk-text-repr-fallback {display: none;}</style><div id=\"sk-container-id-1\" class=\"sk-top-container\"><div class=\"sk-text-repr-fallback\"><pre>Pipeline(steps=[(&#x27;scale&#x27;, None), (&#x27;model&#x27;, LogisticRegression())])</pre><b>In a Jupyter environment, please rerun this cell to show the HTML representation or trust the notebook. <br />On GitHub, the HTML representation is unable to render, please try loading this page with nbviewer.org.</b></div><div class=\"sk-container\" hidden><div class=\"sk-item sk-dashed-wrapped\"><div class=\"sk-label-container\"><div class=\"sk-label sk-toggleable\"><input class=\"sk-toggleable__control sk-hidden--visually\" id=\"sk-estimator-id-1\" type=\"checkbox\" ><label for=\"sk-estimator-id-1\" class=\"sk-toggleable__label sk-toggleable__label-arrow\">Pipeline</label><div class=\"sk-toggleable__content\"><pre>Pipeline(steps=[(&#x27;scale&#x27;, None), (&#x27;model&#x27;, LogisticRegression())])</pre></div></div></div><div class=\"sk-serial\"><div class=\"sk-item\"><div class=\"sk-estimator sk-toggleable\"><input class=\"sk-toggleable__control sk-hidden--visually\" id=\"sk-estimator-id-2\" type=\"checkbox\" ><label for=\"sk-estimator-id-2\" class=\"sk-toggleable__label sk-toggleable__label-arrow\">None</label><div class=\"sk-toggleable__content\"><pre>None</pre></div></div></div><div class=\"sk-item\"><div class=\"sk-estimator sk-toggleable\"><input class=\"sk-toggleable__control sk-hidden--visually\" id=\"sk-estimator-id-3\" type=\"checkbox\" ><label for=\"sk-estimator-id-3\" class=\"sk-toggleable__label sk-toggleable__label-arrow\">LogisticRegression</label><div class=\"sk-toggleable__content\"><pre>LogisticRegression()</pre></div></div></div></div></div></div></div>"
      ],
      "text/plain": [
       "Pipeline(steps=[('scale', None), ('model', LogisticRegression())])"
      ]
     },
     "execution_count": 43,
     "metadata": {},
     "output_type": "execute_result"
    }
   ],
   "source": [
    "model.fit(X_train, y_train.values.ravel())"
   ]
  },
  {
   "cell_type": "code",
   "execution_count": 44,
   "id": "af59f8c0",
   "metadata": {
    "execution": {
     "iopub.execute_input": "2025-07-30T21:39:07.689565Z",
     "iopub.status.busy": "2025-07-30T21:39:07.688627Z",
     "iopub.status.idle": "2025-07-30T21:39:07.694349Z",
     "shell.execute_reply": "2025-07-30T21:39:07.693322Z"
    },
    "papermill": {
     "duration": 0.033581,
     "end_time": "2025-07-30T21:39:07.696394",
     "exception": false,
     "start_time": "2025-07-30T21:39:07.662813",
     "status": "completed"
    },
    "tags": []
   },
   "outputs": [],
   "source": [
    "from fairness_multiverse.universe import predict_w_threshold"
   ]
  },
  {
   "cell_type": "code",
   "execution_count": 45,
   "id": "a7cf2e16",
   "metadata": {
    "execution": {
     "iopub.execute_input": "2025-07-30T21:39:07.746457Z",
     "iopub.status.busy": "2025-07-30T21:39:07.745943Z",
     "iopub.status.idle": "2025-07-30T21:39:07.845665Z",
     "shell.execute_reply": "2025-07-30T21:39:07.844685Z"
    },
    "papermill": {
     "duration": 0.126882,
     "end_time": "2025-07-30T21:39:07.847414",
     "exception": false,
     "start_time": "2025-07-30T21:39:07.720532",
     "status": "completed"
    },
    "tags": []
   },
   "outputs": [
    {
     "data": {
      "text/plain": [
       "0.8613198082710958"
      ]
     },
     "execution_count": 45,
     "metadata": {},
     "output_type": "execute_result"
    }
   ],
   "source": [
    "probs_test = model.predict_proba(X_test)\n",
    "\n",
    "'''\n",
    "Below code returns a boolean array (or binary 0/1 array depending on how it’s used) where each element \n",
    "is True if the probability of class 1 is greater than or equal to the threshold, and False otherwise.\n",
    "'''\n",
    "y_pred_default = predict_w_threshold(probs_test, 0.5)\n",
    "\n",
    "from sklearn.metrics import accuracy_score\n",
    "\n",
    "# Naive prediction\n",
    "accuracy_score(y_true = y_true, y_pred = y_pred_default)"
   ]
  },
  {
   "cell_type": "code",
   "execution_count": 46,
   "id": "081964c3",
   "metadata": {
    "execution": {
     "iopub.execute_input": "2025-07-30T21:39:07.897578Z",
     "iopub.status.busy": "2025-07-30T21:39:07.897015Z",
     "iopub.status.idle": "2025-07-30T21:39:08.040471Z",
     "shell.execute_reply": "2025-07-30T21:39:08.039268Z"
    },
    "papermill": {
     "duration": 0.171275,
     "end_time": "2025-07-30T21:39:08.042912",
     "exception": false,
     "start_time": "2025-07-30T21:39:07.871637",
     "status": "completed"
    },
    "tags": []
   },
   "outputs": [
    {
     "data": {
      "text/plain": [
       "array([0, 0, 0, ..., 0, 0, 0])"
      ]
     },
     "execution_count": 46,
     "metadata": {},
     "output_type": "execute_result"
    }
   ],
   "source": [
    "model.predict(X_test)"
   ]
  },
  {
   "cell_type": "markdown",
   "id": "56c9705b",
   "metadata": {
    "papermill": {
     "duration": 0.023866,
     "end_time": "2025-07-30T21:39:08.091877",
     "exception": false,
     "start_time": "2025-07-30T21:39:08.068011",
     "status": "completed"
    },
    "tags": []
   },
   "source": [
    "# Conformal Prediction"
   ]
  },
  {
   "cell_type": "code",
   "execution_count": 47,
   "id": "160ec6ff",
   "metadata": {
    "execution": {
     "iopub.execute_input": "2025-07-30T21:39:08.142278Z",
     "iopub.status.busy": "2025-07-30T21:39:08.141783Z",
     "iopub.status.idle": "2025-07-30T21:39:08.147093Z",
     "shell.execute_reply": "2025-07-30T21:39:08.146058Z"
    },
    "papermill": {
     "duration": 0.032353,
     "end_time": "2025-07-30T21:39:08.149203",
     "exception": false,
     "start_time": "2025-07-30T21:39:08.116850",
     "status": "completed"
    },
    "tags": []
   },
   "outputs": [],
   "source": [
    "# Miscoverage level for conformal prediction (10% allowed error rate => 90% target coverage)\n",
    "alpha = 0.1"
   ]
  },
  {
   "cell_type": "code",
   "execution_count": 48,
   "id": "eadf4555-3dd3-440e-8e35-f82a4ad9f855",
   "metadata": {
    "execution": {
     "iopub.execute_input": "2025-07-30T21:39:08.201957Z",
     "iopub.status.busy": "2025-07-30T21:39:08.201161Z",
     "iopub.status.idle": "2025-07-30T21:39:08.284682Z",
     "shell.execute_reply": "2025-07-30T21:39:08.283690Z"
    },
    "papermill": {
     "duration": 0.111575,
     "end_time": "2025-07-30T21:39:08.286603",
     "exception": false,
     "start_time": "2025-07-30T21:39:08.175028",
     "status": "completed"
    },
    "tags": []
   },
   "outputs": [],
   "source": [
    "probs_calib = model.predict_proba(X_calib)"
   ]
  },
  {
   "cell_type": "code",
   "execution_count": 49,
   "id": "2ed93547-6d5d-4983-9b36-1ecb300da49a",
   "metadata": {
    "execution": {
     "iopub.execute_input": "2025-07-30T21:39:08.338703Z",
     "iopub.status.busy": "2025-07-30T21:39:08.337852Z",
     "iopub.status.idle": "2025-07-30T21:39:08.343529Z",
     "shell.execute_reply": "2025-07-30T21:39:08.342594Z"
    },
    "papermill": {
     "duration": 0.032603,
     "end_time": "2025-07-30T21:39:08.345122",
     "exception": false,
     "start_time": "2025-07-30T21:39:08.312519",
     "status": "completed"
    },
    "tags": []
   },
   "outputs": [],
   "source": [
    "y_calib = y_calib.values.ravel().astype(int)"
   ]
  },
  {
   "cell_type": "code",
   "execution_count": 50,
   "id": "65d1320d-f588-4b38-9072-62af1ae97f7d",
   "metadata": {
    "execution": {
     "iopub.execute_input": "2025-07-30T21:39:08.396811Z",
     "iopub.status.busy": "2025-07-30T21:39:08.396149Z",
     "iopub.status.idle": "2025-07-30T21:39:08.403395Z",
     "shell.execute_reply": "2025-07-30T21:39:08.402453Z"
    },
    "papermill": {
     "duration": 0.035292,
     "end_time": "2025-07-30T21:39:08.405384",
     "exception": false,
     "start_time": "2025-07-30T21:39:08.370092",
     "status": "completed"
    },
    "tags": []
   },
   "outputs": [],
   "source": [
    "from fairness_multiverse.conformal import compute_nc_scores\n",
    "\n",
    "# Compute nonconformity scores on calibration set (1 - probability of true class)\n",
    "nc_scores = compute_nc_scores(probs_calib, y_calib)"
   ]
  },
  {
   "cell_type": "code",
   "execution_count": 51,
   "id": "df3b8ca3-53b7-43d5-9667-7c85da7aeda2",
   "metadata": {
    "execution": {
     "iopub.execute_input": "2025-07-30T21:39:08.458888Z",
     "iopub.status.busy": "2025-07-30T21:39:08.458103Z",
     "iopub.status.idle": "2025-07-30T21:39:08.465200Z",
     "shell.execute_reply": "2025-07-30T21:39:08.464230Z"
    },
    "papermill": {
     "duration": 0.036529,
     "end_time": "2025-07-30T21:39:08.466914",
     "exception": false,
     "start_time": "2025-07-30T21:39:08.430385",
     "status": "completed"
    },
    "tags": []
   },
   "outputs": [],
   "source": [
    "from fairness_multiverse.conformal import find_threshold\n",
    "\n",
    "# Find conformal threshold q_hat for the given alpha (split conformal method)\n",
    "q_hat = find_threshold(nc_scores, alpha)"
   ]
  },
  {
   "cell_type": "code",
   "execution_count": 52,
   "id": "4d29e6c1-0ef6-4aa4-b8fe-4fe79b0d033a",
   "metadata": {
    "execution": {
     "iopub.execute_input": "2025-07-30T21:39:08.520712Z",
     "iopub.status.busy": "2025-07-30T21:39:08.519720Z",
     "iopub.status.idle": "2025-07-30T21:39:08.528090Z",
     "shell.execute_reply": "2025-07-30T21:39:08.526913Z"
    },
    "papermill": {
     "duration": 0.037549,
     "end_time": "2025-07-30T21:39:08.530205",
     "exception": false,
     "start_time": "2025-07-30T21:39:08.492656",
     "status": "completed"
    },
    "tags": []
   },
   "outputs": [
    {
     "data": {
      "text/plain": [
       "0.677058774569393"
      ]
     },
     "execution_count": 52,
     "metadata": {},
     "output_type": "execute_result"
    }
   ],
   "source": [
    "q_hat"
   ]
  },
  {
   "cell_type": "code",
   "execution_count": 53,
   "id": "92460794-cdac-4be2-ba28-f28c0515a6fb",
   "metadata": {
    "execution": {
     "iopub.execute_input": "2025-07-30T21:39:08.598662Z",
     "iopub.status.busy": "2025-07-30T21:39:08.597920Z",
     "iopub.status.idle": "2025-07-30T21:39:09.446232Z",
     "shell.execute_reply": "2025-07-30T21:39:09.445295Z"
    },
    "papermill": {
     "duration": 0.88438,
     "end_time": "2025-07-30T21:39:09.447689",
     "exception": false,
     "start_time": "2025-07-30T21:39:08.563309",
     "status": "completed"
    },
    "tags": []
   },
   "outputs": [],
   "source": [
    "from fairness_multiverse.conformal import predict_conformal_sets\n",
    "\n",
    "# Generate prediction sets for each test example\n",
    "pred_sets = predict_conformal_sets(model, X_test, q_hat)"
   ]
  },
  {
   "cell_type": "code",
   "execution_count": 54,
   "id": "d90c9a65-e6db-4f5d-80cd-e68fb7e46829",
   "metadata": {
    "execution": {
     "iopub.execute_input": "2025-07-30T21:39:09.484141Z",
     "iopub.status.busy": "2025-07-30T21:39:09.483691Z",
     "iopub.status.idle": "2025-07-30T21:39:09.489226Z",
     "shell.execute_reply": "2025-07-30T21:39:09.488190Z"
    },
    "papermill": {
     "duration": 0.021535,
     "end_time": "2025-07-30T21:39:09.491303",
     "exception": false,
     "start_time": "2025-07-30T21:39:09.469768",
     "status": "completed"
    },
    "tags": []
   },
   "outputs": [],
   "source": [
    "y_true = y_true.squeeze()"
   ]
  },
  {
   "cell_type": "code",
   "execution_count": 55,
   "id": "3a58a54a-1e68-46b9-927a-df01f18aebc8",
   "metadata": {
    "execution": {
     "iopub.execute_input": "2025-07-30T21:39:09.544130Z",
     "iopub.status.busy": "2025-07-30T21:39:09.542996Z",
     "iopub.status.idle": "2025-07-30T21:39:10.391771Z",
     "shell.execute_reply": "2025-07-30T21:39:10.391017Z"
    },
    "papermill": {
     "duration": 0.876069,
     "end_time": "2025-07-30T21:39:10.393590",
     "exception": false,
     "start_time": "2025-07-30T21:39:09.517521",
     "status": "completed"
    },
    "tags": []
   },
   "outputs": [],
   "source": [
    "from fairness_multiverse.conformal import evaluate_sets\n",
    "\n",
    "# Evaluate coverage and average set size on test data\n",
    "metrics = evaluate_sets(pred_sets, y_true)"
   ]
  },
  {
   "cell_type": "markdown",
   "id": "2b569c12-9aaa-4c88-98c9-bbcd0cf3ebb8",
   "metadata": {
    "papermill": {
     "duration": 0.025892,
     "end_time": "2025-07-30T21:39:10.444113",
     "exception": false,
     "start_time": "2025-07-30T21:39:10.418221",
     "status": "completed"
    },
    "tags": []
   },
   "source": [
    "# CP Metrics"
   ]
  },
  {
   "cell_type": "code",
   "execution_count": 56,
   "id": "5ce0a5cb-201f-45a0-ade5-94c7f0bd6095",
   "metadata": {
    "execution": {
     "iopub.execute_input": "2025-07-30T21:39:10.496105Z",
     "iopub.status.busy": "2025-07-30T21:39:10.495560Z",
     "iopub.status.idle": "2025-07-30T21:39:10.503367Z",
     "shell.execute_reply": "2025-07-30T21:39:10.502338Z"
    },
    "papermill": {
     "duration": 0.036373,
     "end_time": "2025-07-30T21:39:10.505101",
     "exception": false,
     "start_time": "2025-07-30T21:39:10.468728",
     "status": "completed"
    },
    "tags": []
   },
   "outputs": [
    {
     "data": {
      "text/plain": [
       "{'coverage': 0.9134990525025081, 'avg_size': 1.2656114145580204}"
      ]
     },
     "execution_count": 56,
     "metadata": {},
     "output_type": "execute_result"
    }
   ],
   "source": [
    "metrics"
   ]
  },
  {
   "cell_type": "code",
   "execution_count": 57,
   "id": "9b9a838d-31c9-430b-ae14-12baee460d17",
   "metadata": {
    "execution": {
     "iopub.execute_input": "2025-07-30T21:39:10.561111Z",
     "iopub.status.busy": "2025-07-30T21:39:10.560317Z",
     "iopub.status.idle": "2025-07-30T21:39:10.567148Z",
     "shell.execute_reply": "2025-07-30T21:39:10.566131Z"
    },
    "papermill": {
     "duration": 0.035687,
     "end_time": "2025-07-30T21:39:10.569131",
     "exception": false,
     "start_time": "2025-07-30T21:39:10.533444",
     "status": "completed"
    },
    "tags": []
   },
   "outputs": [],
   "source": [
    "example_universe = universe.copy()\n",
    "universe_training_year = example_universe.get(\"training_year\")\n",
    "universe_training_size = example_universe.get(\"training_size\")\n",
    "universe_scale = example_universe.get(\"scale\")\n",
    "universe_model = example_universe.get(\"model\")\n",
    "universe_exclude_features = example_universe.get(\"exclude_features\")\n",
    "universe_exclude_subgroups = example_universe.get(\"exclude_subgroups\")"
   ]
  },
  {
   "cell_type": "code",
   "execution_count": 58,
   "id": "f4b6a8ac-9dc0-4245-8a91-5b3b5999c4f9",
   "metadata": {
    "execution": {
     "iopub.execute_input": "2025-07-30T21:39:10.622750Z",
     "iopub.status.busy": "2025-07-30T21:39:10.622352Z",
     "iopub.status.idle": "2025-07-30T21:39:10.627784Z",
     "shell.execute_reply": "2025-07-30T21:39:10.627028Z"
    },
    "papermill": {
     "duration": 0.032763,
     "end_time": "2025-07-30T21:39:10.629093",
     "exception": false,
     "start_time": "2025-07-30T21:39:10.596330",
     "status": "completed"
    },
    "tags": []
   },
   "outputs": [],
   "source": [
    "cp_metrics_dict = {\n",
    "    \"universe_id\": [universe_id],\n",
    "    \"universe_training_year\": [universe_training_year],\n",
    "    \"universe_training_size\": [universe_training_size],\n",
    "    \"universe_scale\": [universe_scale],\n",
    "    \"universe_model\": [universe_model],\n",
    "    \"universe_exclude_features\": [universe_exclude_features],\n",
    "    \"universe_exclude_subgroups\": [universe_exclude_subgroups],\n",
    "    \"q_hat\": [q_hat],\n",
    "    \"coverage\": [metrics[\"coverage\"]],\n",
    "    \"avg_size\": [metrics[\"avg_size\"]],\n",
    "}"
   ]
  },
  {
   "cell_type": "code",
   "execution_count": 59,
   "id": "908acbb1-0371-4915-85ca-3fa520d2efe2",
   "metadata": {
    "execution": {
     "iopub.execute_input": "2025-07-30T21:39:10.658769Z",
     "iopub.status.busy": "2025-07-30T21:39:10.658231Z",
     "iopub.status.idle": "2025-07-30T21:39:10.664901Z",
     "shell.execute_reply": "2025-07-30T21:39:10.664210Z"
    },
    "papermill": {
     "duration": 0.022231,
     "end_time": "2025-07-30T21:39:10.666253",
     "exception": false,
     "start_time": "2025-07-30T21:39:10.644022",
     "status": "completed"
    },
    "tags": []
   },
   "outputs": [
    {
     "data": {
      "text/plain": [
       "{'universe_id': ['4e88321fe80a5cd2ef994d6d5cc6a312'],\n",
       " 'universe_training_year': ['2012_14'],\n",
       " 'universe_training_size': ['1k'],\n",
       " 'universe_scale': ['do-not-scale'],\n",
       " 'universe_model': ['logreg'],\n",
       " 'universe_exclude_features': ['age'],\n",
       " 'universe_exclude_subgroups': ['drop-non-german'],\n",
       " 'q_hat': [0.677058774569393],\n",
       " 'coverage': [0.9134990525025081],\n",
       " 'avg_size': [1.2656114145580204]}"
      ]
     },
     "execution_count": 59,
     "metadata": {},
     "output_type": "execute_result"
    }
   ],
   "source": [
    "cp_metrics_dict"
   ]
  },
  {
   "cell_type": "code",
   "execution_count": 60,
   "id": "33007efc-14e9-4ec6-97ac-56a455c82265",
   "metadata": {
    "execution": {
     "iopub.execute_input": "2025-07-30T21:39:10.704459Z",
     "iopub.status.busy": "2025-07-30T21:39:10.703949Z",
     "iopub.status.idle": "2025-07-30T21:39:10.710547Z",
     "shell.execute_reply": "2025-07-30T21:39:10.709532Z"
    },
    "papermill": {
     "duration": 0.031224,
     "end_time": "2025-07-30T21:39:10.711986",
     "exception": false,
     "start_time": "2025-07-30T21:39:10.680762",
     "status": "completed"
    },
    "tags": []
   },
   "outputs": [],
   "source": [
    "cp_metrics_df = pd.DataFrame(cp_metrics_dict)"
   ]
  },
  {
   "cell_type": "code",
   "execution_count": 61,
   "id": "db12611b-57b2-4910-b9d0-355adfd6e7bf",
   "metadata": {
    "execution": {
     "iopub.execute_input": "2025-07-30T21:39:10.768135Z",
     "iopub.status.busy": "2025-07-30T21:39:10.767598Z",
     "iopub.status.idle": "2025-07-30T21:39:10.792745Z",
     "shell.execute_reply": "2025-07-30T21:39:10.791842Z"
    },
    "papermill": {
     "duration": 0.055172,
     "end_time": "2025-07-30T21:39:10.794871",
     "exception": false,
     "start_time": "2025-07-30T21:39:10.739699",
     "status": "completed"
    },
    "tags": []
   },
   "outputs": [
    {
     "data": {
      "text/html": [
       "<div>\n",
       "<style scoped>\n",
       "    .dataframe tbody tr th:only-of-type {\n",
       "        vertical-align: middle;\n",
       "    }\n",
       "\n",
       "    .dataframe tbody tr th {\n",
       "        vertical-align: top;\n",
       "    }\n",
       "\n",
       "    .dataframe thead th {\n",
       "        text-align: right;\n",
       "    }\n",
       "</style>\n",
       "<table border=\"1\" class=\"dataframe\">\n",
       "  <thead>\n",
       "    <tr style=\"text-align: right;\">\n",
       "      <th></th>\n",
       "      <th>universe_id</th>\n",
       "      <th>universe_training_year</th>\n",
       "      <th>universe_training_size</th>\n",
       "      <th>universe_scale</th>\n",
       "      <th>universe_model</th>\n",
       "      <th>universe_exclude_features</th>\n",
       "      <th>universe_exclude_subgroups</th>\n",
       "      <th>q_hat</th>\n",
       "      <th>coverage</th>\n",
       "      <th>avg_size</th>\n",
       "    </tr>\n",
       "  </thead>\n",
       "  <tbody>\n",
       "    <tr>\n",
       "      <th>0</th>\n",
       "      <td>4e88321fe80a5cd2ef994d6d5cc6a312</td>\n",
       "      <td>2012_14</td>\n",
       "      <td>1k</td>\n",
       "      <td>do-not-scale</td>\n",
       "      <td>logreg</td>\n",
       "      <td>age</td>\n",
       "      <td>drop-non-german</td>\n",
       "      <td>0.677059</td>\n",
       "      <td>0.913499</td>\n",
       "      <td>1.265611</td>\n",
       "    </tr>\n",
       "  </tbody>\n",
       "</table>\n",
       "</div>"
      ],
      "text/plain": [
       "                        universe_id universe_training_year  \\\n",
       "0  4e88321fe80a5cd2ef994d6d5cc6a312                2012_14   \n",
       "\n",
       "  universe_training_size universe_scale universe_model  \\\n",
       "0                     1k   do-not-scale         logreg   \n",
       "\n",
       "  universe_exclude_features universe_exclude_subgroups     q_hat  coverage  \\\n",
       "0                       age            drop-non-german  0.677059  0.913499   \n",
       "\n",
       "   avg_size  \n",
       "0  1.265611  "
      ]
     },
     "execution_count": 61,
     "metadata": {},
     "output_type": "execute_result"
    }
   ],
   "source": [
    "cp_metrics_df"
   ]
  },
  {
   "cell_type": "code",
   "execution_count": 62,
   "id": "b7fbde55-a0a1-47e4-9af6-fe4a17fa8c61",
   "metadata": {
    "execution": {
     "iopub.execute_input": "2025-07-30T21:39:10.855845Z",
     "iopub.status.busy": "2025-07-30T21:39:10.855134Z",
     "iopub.status.idle": "2025-07-30T21:39:10.862005Z",
     "shell.execute_reply": "2025-07-30T21:39:10.860567Z"
    },
    "papermill": {
     "duration": 0.038945,
     "end_time": "2025-07-30T21:39:10.864014",
     "exception": false,
     "start_time": "2025-07-30T21:39:10.825069",
     "status": "completed"
    },
    "tags": []
   },
   "outputs": [],
   "source": [
    "# Conditional Coverage & looking at subgroups"
   ]
  },
  {
   "cell_type": "code",
   "execution_count": 63,
   "id": "027ae886-68dd-4141-96c7-805a5450e1ef",
   "metadata": {
    "execution": {
     "iopub.execute_input": "2025-07-30T21:39:10.919483Z",
     "iopub.status.busy": "2025-07-30T21:39:10.918980Z",
     "iopub.status.idle": "2025-07-30T21:39:11.160413Z",
     "shell.execute_reply": "2025-07-30T21:39:11.159629Z"
    },
    "papermill": {
     "duration": 0.271799,
     "end_time": "2025-07-30T21:39:11.162381",
     "exception": false,
     "start_time": "2025-07-30T21:39:10.890582",
     "status": "completed"
    },
    "tags": []
   },
   "outputs": [],
   "source": [
    "from fairness_multiverse.conformal import build_cp_groups\n",
    "\n",
    "cp_groups_df = build_cp_groups(pred_sets, y_true, X_test.index, org_test)\n",
    "#needs universe_id and setting"
   ]
  },
  {
   "cell_type": "code",
   "execution_count": 64,
   "id": "01d5802c-663a-4d1f-9d69-e036faaffbf7",
   "metadata": {
    "execution": {
     "iopub.execute_input": "2025-07-30T21:39:11.209603Z",
     "iopub.status.busy": "2025-07-30T21:39:11.208768Z",
     "iopub.status.idle": "2025-07-30T21:39:11.213989Z",
     "shell.execute_reply": "2025-07-30T21:39:11.213196Z"
    },
    "papermill": {
     "duration": 0.026494,
     "end_time": "2025-07-30T21:39:11.215295",
     "exception": false,
     "start_time": "2025-07-30T21:39:11.188801",
     "status": "completed"
    },
    "tags": []
   },
   "outputs": [],
   "source": [
    "#delete\n",
    "#cp_groups_df"
   ]
  },
  {
   "cell_type": "code",
   "execution_count": 65,
   "id": "fa424af1-d1eb-443d-b717-2d279ada8408",
   "metadata": {
    "execution": {
     "iopub.execute_input": "2025-07-30T21:39:11.246326Z",
     "iopub.status.busy": "2025-07-30T21:39:11.245830Z",
     "iopub.status.idle": "2025-07-30T21:39:11.250600Z",
     "shell.execute_reply": "2025-07-30T21:39:11.249800Z"
    },
    "papermill": {
     "duration": 0.021141,
     "end_time": "2025-07-30T21:39:11.251990",
     "exception": false,
     "start_time": "2025-07-30T21:39:11.230849",
     "status": "completed"
    },
    "tags": []
   },
   "outputs": [],
   "source": [
    "#delete\n",
    "#percentage = (cp_groups_df['nongerman_female'] == 1).mean() * 100\n",
    "#print(percentage)\n"
   ]
  },
  {
   "cell_type": "code",
   "execution_count": 66,
   "id": "6cbdab96-b2b2-45af-ad54-d0516db2e28d",
   "metadata": {
    "execution": {
     "iopub.execute_input": "2025-07-30T21:39:11.286261Z",
     "iopub.status.busy": "2025-07-30T21:39:11.285820Z",
     "iopub.status.idle": "2025-07-30T21:39:13.005866Z",
     "shell.execute_reply": "2025-07-30T21:39:13.004742Z"
    },
    "papermill": {
     "duration": 1.740421,
     "end_time": "2025-07-30T21:39:13.008014",
     "exception": false,
     "start_time": "2025-07-30T21:39:11.267593",
     "status": "completed"
    },
    "tags": []
   },
   "outputs": [],
   "source": [
    "# Define covered = 1 if true_label is in the predicted set\n",
    "cp_groups_df['covered'] = cp_groups_df.apply(\n",
    "    lambda r: int(r['true_label'] in r['pred_set']),\n",
    "    axis=1\n",
    ")"
   ]
  },
  {
   "cell_type": "code",
   "execution_count": 67,
   "id": "338ff529-1a6b-4b87-a931-8e4788d52aad",
   "metadata": {
    "execution": {
     "iopub.execute_input": "2025-07-30T21:39:13.081246Z",
     "iopub.status.busy": "2025-07-30T21:39:13.080481Z",
     "iopub.status.idle": "2025-07-30T21:39:13.086472Z",
     "shell.execute_reply": "2025-07-30T21:39:13.085108Z"
    },
    "papermill": {
     "duration": 0.043659,
     "end_time": "2025-07-30T21:39:13.088683",
     "exception": false,
     "start_time": "2025-07-30T21:39:13.045024",
     "status": "completed"
    },
    "tags": []
   },
   "outputs": [],
   "source": [
    "#cp_groups_df"
   ]
  },
  {
   "cell_type": "code",
   "execution_count": 68,
   "id": "90032e27-66df-4540-9169-4e89cfbaa758",
   "metadata": {
    "execution": {
     "iopub.execute_input": "2025-07-30T21:39:13.160907Z",
     "iopub.status.busy": "2025-07-30T21:39:13.160148Z",
     "iopub.status.idle": "2025-07-30T21:39:13.172928Z",
     "shell.execute_reply": "2025-07-30T21:39:13.171699Z"
    },
    "papermill": {
     "duration": 0.051317,
     "end_time": "2025-07-30T21:39:13.175191",
     "exception": false,
     "start_time": "2025-07-30T21:39:13.123874",
     "status": "completed"
    },
    "tags": []
   },
   "outputs": [],
   "source": [
    "subgroups = ['frau1','nongerman','nongerman_male','nongerman_female']\n",
    "\n",
    "# Conditional coverage for subgroup==1\n",
    "cond_coverage = {\n",
    "    g: cp_groups_df.loc[cp_groups_df[g]==1, 'covered'].mean()\n",
    "    for g in subgroups\n",
    "}"
   ]
  },
  {
   "cell_type": "code",
   "execution_count": 69,
   "id": "1e348fb1-b9c3-45bc-ba23-f016827a7e0d",
   "metadata": {
    "execution": {
     "iopub.execute_input": "2025-07-30T21:39:13.235229Z",
     "iopub.status.busy": "2025-07-30T21:39:13.234354Z",
     "iopub.status.idle": "2025-07-30T21:39:13.242168Z",
     "shell.execute_reply": "2025-07-30T21:39:13.240904Z"
    },
    "papermill": {
     "duration": 0.039218,
     "end_time": "2025-07-30T21:39:13.243805",
     "exception": false,
     "start_time": "2025-07-30T21:39:13.204587",
     "status": "completed"
    },
    "tags": []
   },
   "outputs": [
    {
     "data": {
      "text/plain": [
       "{'frau1': 0.9134384687963337,\n",
       " 'nongerman': 0.9633413798910908,\n",
       " 'nongerman_male': 0.9696478429253355,\n",
       " 'nongerman_female': 0.9529061102831594}"
      ]
     },
     "execution_count": 69,
     "metadata": {},
     "output_type": "execute_result"
    }
   ],
   "source": [
    "cond_coverage"
   ]
  },
  {
   "cell_type": "code",
   "execution_count": 70,
   "id": "f5093324-c3dd-4d63-bc4c-8d945e5c8bbb",
   "metadata": {
    "execution": {
     "iopub.execute_input": "2025-07-30T21:39:13.299155Z",
     "iopub.status.busy": "2025-07-30T21:39:13.298736Z",
     "iopub.status.idle": "2025-07-30T21:39:13.306183Z",
     "shell.execute_reply": "2025-07-30T21:39:13.305063Z"
    },
    "papermill": {
     "duration": 0.036202,
     "end_time": "2025-07-30T21:39:13.307945",
     "exception": false,
     "start_time": "2025-07-30T21:39:13.271743",
     "status": "completed"
    },
    "tags": []
   },
   "outputs": [],
   "source": [
    "for subgroup, cov in cond_coverage.items():\n",
    "    cp_metrics_df[f\"cov_{subgroup}\"] = cov"
   ]
  },
  {
   "cell_type": "code",
   "execution_count": 71,
   "id": "6e872e10-dbe5-49e8-b554-5030c98ff75d",
   "metadata": {
    "execution": {
     "iopub.execute_input": "2025-07-30T21:39:13.363713Z",
     "iopub.status.busy": "2025-07-30T21:39:13.362956Z",
     "iopub.status.idle": "2025-07-30T21:39:13.384485Z",
     "shell.execute_reply": "2025-07-30T21:39:13.383306Z"
    },
    "papermill": {
     "duration": 0.051425,
     "end_time": "2025-07-30T21:39:13.386285",
     "exception": false,
     "start_time": "2025-07-30T21:39:13.334860",
     "status": "completed"
    },
    "tags": []
   },
   "outputs": [
    {
     "data": {
      "text/html": [
       "<div>\n",
       "<style scoped>\n",
       "    .dataframe tbody tr th:only-of-type {\n",
       "        vertical-align: middle;\n",
       "    }\n",
       "\n",
       "    .dataframe tbody tr th {\n",
       "        vertical-align: top;\n",
       "    }\n",
       "\n",
       "    .dataframe thead th {\n",
       "        text-align: right;\n",
       "    }\n",
       "</style>\n",
       "<table border=\"1\" class=\"dataframe\">\n",
       "  <thead>\n",
       "    <tr style=\"text-align: right;\">\n",
       "      <th></th>\n",
       "      <th>universe_id</th>\n",
       "      <th>universe_training_year</th>\n",
       "      <th>universe_training_size</th>\n",
       "      <th>universe_scale</th>\n",
       "      <th>universe_model</th>\n",
       "      <th>universe_exclude_features</th>\n",
       "      <th>universe_exclude_subgroups</th>\n",
       "      <th>q_hat</th>\n",
       "      <th>coverage</th>\n",
       "      <th>avg_size</th>\n",
       "      <th>cov_frau1</th>\n",
       "      <th>cov_nongerman</th>\n",
       "      <th>cov_nongerman_male</th>\n",
       "      <th>cov_nongerman_female</th>\n",
       "    </tr>\n",
       "  </thead>\n",
       "  <tbody>\n",
       "    <tr>\n",
       "      <th>0</th>\n",
       "      <td>4e88321fe80a5cd2ef994d6d5cc6a312</td>\n",
       "      <td>2012_14</td>\n",
       "      <td>1k</td>\n",
       "      <td>do-not-scale</td>\n",
       "      <td>logreg</td>\n",
       "      <td>age</td>\n",
       "      <td>drop-non-german</td>\n",
       "      <td>0.677059</td>\n",
       "      <td>0.913499</td>\n",
       "      <td>1.265611</td>\n",
       "      <td>0.913438</td>\n",
       "      <td>0.963341</td>\n",
       "      <td>0.969648</td>\n",
       "      <td>0.952906</td>\n",
       "    </tr>\n",
       "  </tbody>\n",
       "</table>\n",
       "</div>"
      ],
      "text/plain": [
       "                        universe_id universe_training_year  \\\n",
       "0  4e88321fe80a5cd2ef994d6d5cc6a312                2012_14   \n",
       "\n",
       "  universe_training_size universe_scale universe_model  \\\n",
       "0                     1k   do-not-scale         logreg   \n",
       "\n",
       "  universe_exclude_features universe_exclude_subgroups     q_hat  coverage  \\\n",
       "0                       age            drop-non-german  0.677059  0.913499   \n",
       "\n",
       "   avg_size  cov_frau1  cov_nongerman  cov_nongerman_male  \\\n",
       "0  1.265611   0.913438       0.963341            0.969648   \n",
       "\n",
       "   cov_nongerman_female  \n",
       "0              0.952906  "
      ]
     },
     "execution_count": 71,
     "metadata": {},
     "output_type": "execute_result"
    }
   ],
   "source": [
    "cp_metrics_df"
   ]
  },
  {
   "cell_type": "markdown",
   "id": "33774451",
   "metadata": {
    "papermill": {
     "duration": 0.026557,
     "end_time": "2025-07-30T21:39:13.440949",
     "exception": false,
     "start_time": "2025-07-30T21:39:13.414392",
     "status": "completed"
    },
    "tags": []
   },
   "source": [
    "# (Fairness) Metrics"
   ]
  },
  {
   "cell_type": "code",
   "execution_count": 72,
   "id": "debc5d62",
   "metadata": {
    "execution": {
     "iopub.execute_input": "2025-07-30T21:39:13.497488Z",
     "iopub.status.busy": "2025-07-30T21:39:13.496894Z",
     "iopub.status.idle": "2025-07-30T21:39:13.519643Z",
     "shell.execute_reply": "2025-07-30T21:39:13.518544Z"
    },
    "papermill": {
     "duration": 0.053759,
     "end_time": "2025-07-30T21:39:13.521749",
     "exception": false,
     "start_time": "2025-07-30T21:39:13.467990",
     "status": "completed"
    },
    "tags": []
   },
   "outputs": [],
   "source": [
    "# do I need to include maxdeutsch1.missing?\n",
    "\n",
    "import numpy as np\n",
    "\n",
    "colname_to_bin = \"maxdeutsch1\"\n",
    "majority_value = org_train[colname_to_bin].mode()[0]\n",
    "\n",
    "org_test[\"majmin\"] = np.where(org_test[colname_to_bin] == majority_value, \"majority\", \"minority\")"
   ]
  },
  {
   "cell_type": "code",
   "execution_count": 73,
   "id": "06a50de5",
   "metadata": {
    "execution": {
     "iopub.execute_input": "2025-07-30T21:39:13.581135Z",
     "iopub.status.busy": "2025-07-30T21:39:13.580611Z",
     "iopub.status.idle": "2025-07-30T21:39:15.984842Z",
     "shell.execute_reply": "2025-07-30T21:39:15.984104Z"
    },
    "papermill": {
     "duration": 2.436717,
     "end_time": "2025-07-30T21:39:15.986360",
     "exception": false,
     "start_time": "2025-07-30T21:39:13.549643",
     "status": "completed"
    },
    "tags": []
   },
   "outputs": [],
   "source": [
    "example_universe = universe.copy()\n",
    "example_universe[\"cutoff\"] = example_universe[\"cutoff\"][0]\n",
    "example_universe[\"eval_fairness_grouping\"] = example_universe[\"eval_fairness_grouping\"][0]\n",
    "fairness_dict, metric_frame = universe_analysis.compute_metrics(\n",
    "    example_universe,\n",
    "    y_pred_prob=probs_test,\n",
    "    y_test=y_true,\n",
    "    org_test=org_test,\n",
    ")"
   ]
  },
  {
   "cell_type": "markdown",
   "id": "f95d4e02",
   "metadata": {
    "papermill": {
     "duration": 0.01449,
     "end_time": "2025-07-30T21:39:16.017513",
     "exception": false,
     "start_time": "2025-07-30T21:39:16.003023",
     "status": "completed"
    },
    "tags": []
   },
   "source": [
    "# Overall"
   ]
  },
  {
   "cell_type": "markdown",
   "id": "bdee4871",
   "metadata": {
    "papermill": {
     "duration": 0.026923,
     "end_time": "2025-07-30T21:39:16.062458",
     "exception": false,
     "start_time": "2025-07-30T21:39:16.035535",
     "status": "completed"
    },
    "tags": []
   },
   "source": [
    "Fairness\n",
    "Main fairness target: Equalized Odds. Seems to be a better fit than equal opportunity, since we're not only interested in Y = 1. Seems to be a better fit than demographic parity, since we also care about accuracy, not just equal distribution of preds.\n",
    "\n",
    "Pick column for computation of fairness metrics\n",
    "\n",
    "Performance\n",
    "Overall performance measures, most interesting in relation to the measures split by group below"
   ]
  },
  {
   "cell_type": "code",
   "execution_count": 74,
   "id": "c4e067c6",
   "metadata": {
    "execution": {
     "iopub.execute_input": "2025-07-30T21:39:16.116653Z",
     "iopub.status.busy": "2025-07-30T21:39:16.115668Z",
     "iopub.status.idle": "2025-07-30T21:39:16.124857Z",
     "shell.execute_reply": "2025-07-30T21:39:16.123754Z"
    },
    "papermill": {
     "duration": 0.038289,
     "end_time": "2025-07-30T21:39:16.126527",
     "exception": false,
     "start_time": "2025-07-30T21:39:16.088238",
     "status": "completed"
    },
    "tags": []
   },
   "outputs": [
    {
     "data": {
      "text/plain": [
       "accuracy                   0.212117\n",
       "balanced accuracy          0.521223\n",
       "f1                         0.233785\n",
       "precision                  0.133554\n",
       "false positive rate        0.894555\n",
       "false negative rate        0.063000\n",
       "selection rate             0.900000\n",
       "count                  89710.000000\n",
       "dtype: float64"
      ]
     },
     "execution_count": 74,
     "metadata": {},
     "output_type": "execute_result"
    }
   ],
   "source": [
    "metric_frame.overall"
   ]
  },
  {
   "cell_type": "markdown",
   "id": "e968fe9d",
   "metadata": {
    "papermill": {
     "duration": 0.02514,
     "end_time": "2025-07-30T21:39:16.179025",
     "exception": false,
     "start_time": "2025-07-30T21:39:16.153885",
     "status": "completed"
    },
    "tags": []
   },
   "source": [
    "By Group"
   ]
  },
  {
   "cell_type": "code",
   "execution_count": 75,
   "id": "ec325bce",
   "metadata": {
    "execution": {
     "iopub.execute_input": "2025-07-30T21:39:16.231408Z",
     "iopub.status.busy": "2025-07-30T21:39:16.231009Z",
     "iopub.status.idle": "2025-07-30T21:39:16.245986Z",
     "shell.execute_reply": "2025-07-30T21:39:16.244938Z"
    },
    "papermill": {
     "duration": 0.043371,
     "end_time": "2025-07-30T21:39:16.247599",
     "exception": false,
     "start_time": "2025-07-30T21:39:16.204228",
     "status": "completed"
    },
    "tags": []
   },
   "outputs": [
    {
     "data": {
      "text/html": [
       "<div>\n",
       "<style scoped>\n",
       "    .dataframe tbody tr th:only-of-type {\n",
       "        vertical-align: middle;\n",
       "    }\n",
       "\n",
       "    .dataframe tbody tr th {\n",
       "        vertical-align: top;\n",
       "    }\n",
       "\n",
       "    .dataframe thead th {\n",
       "        text-align: right;\n",
       "    }\n",
       "</style>\n",
       "<table border=\"1\" class=\"dataframe\">\n",
       "  <thead>\n",
       "    <tr style=\"text-align: right;\">\n",
       "      <th></th>\n",
       "      <th>accuracy</th>\n",
       "      <th>balanced accuracy</th>\n",
       "      <th>f1</th>\n",
       "      <th>precision</th>\n",
       "      <th>false positive rate</th>\n",
       "      <th>false negative rate</th>\n",
       "      <th>selection rate</th>\n",
       "      <th>count</th>\n",
       "    </tr>\n",
       "    <tr>\n",
       "      <th>majmin</th>\n",
       "      <th></th>\n",
       "      <th></th>\n",
       "      <th></th>\n",
       "      <th></th>\n",
       "      <th></th>\n",
       "      <th></th>\n",
       "      <th></th>\n",
       "      <th></th>\n",
       "    </tr>\n",
       "  </thead>\n",
       "  <tbody>\n",
       "    <tr>\n",
       "      <th>majority</th>\n",
       "      <td>0.231806</td>\n",
       "      <td>0.526025</td>\n",
       "      <td>0.241586</td>\n",
       "      <td>0.138915</td>\n",
       "      <td>0.873880</td>\n",
       "      <td>0.07407</td>\n",
       "      <td>0.880758</td>\n",
       "      <td>69170.0</td>\n",
       "    </tr>\n",
       "    <tr>\n",
       "      <th>minority</th>\n",
       "      <td>0.145813</td>\n",
       "      <td>0.508437</td>\n",
       "      <td>0.209150</td>\n",
       "      <td>0.117071</td>\n",
       "      <td>0.962855</td>\n",
       "      <td>0.02027</td>\n",
       "      <td>0.964800</td>\n",
       "      <td>20540.0</td>\n",
       "    </tr>\n",
       "  </tbody>\n",
       "</table>\n",
       "</div>"
      ],
      "text/plain": [
       "          accuracy  balanced accuracy        f1  precision  \\\n",
       "majmin                                                       \n",
       "majority  0.231806           0.526025  0.241586   0.138915   \n",
       "minority  0.145813           0.508437  0.209150   0.117071   \n",
       "\n",
       "          false positive rate  false negative rate  selection rate    count  \n",
       "majmin                                                                       \n",
       "majority             0.873880              0.07407        0.880758  69170.0  \n",
       "minority             0.962855              0.02027        0.964800  20540.0  "
      ]
     },
     "execution_count": 75,
     "metadata": {},
     "output_type": "execute_result"
    }
   ],
   "source": [
    "metric_frame.by_group"
   ]
  },
  {
   "cell_type": "code",
   "execution_count": 76,
   "id": "a9ddbe63",
   "metadata": {
    "execution": {
     "iopub.execute_input": "2025-07-30T21:39:16.312609Z",
     "iopub.status.busy": "2025-07-30T21:39:16.312006Z",
     "iopub.status.idle": "2025-07-30T21:39:18.779231Z",
     "shell.execute_reply": "2025-07-30T21:39:18.778232Z"
    },
    "papermill": {
     "duration": 2.501058,
     "end_time": "2025-07-30T21:39:18.780971",
     "exception": false,
     "start_time": "2025-07-30T21:39:16.279913",
     "status": "completed"
    },
    "tags": []
   },
   "outputs": [
    {
     "data": {
      "text/plain": [
       "array([[<Axes: title={'center': 'accuracy'}, xlabel='majmin'>,\n",
       "        <Axes: title={'center': 'balanced accuracy'}, xlabel='majmin'>,\n",
       "        <Axes: title={'center': 'f1'}, xlabel='majmin'>],\n",
       "       [<Axes: title={'center': 'precision'}, xlabel='majmin'>,\n",
       "        <Axes: title={'center': 'false positive rate'}, xlabel='majmin'>,\n",
       "        <Axes: title={'center': 'false negative rate'}, xlabel='majmin'>],\n",
       "       [<Axes: title={'center': 'selection rate'}, xlabel='majmin'>,\n",
       "        <Axes: title={'center': 'count'}, xlabel='majmin'>,\n",
       "        <Axes: xlabel='majmin'>]], dtype=object)"
      ]
     },
     "execution_count": 76,
     "metadata": {},
     "output_type": "execute_result"
    },
    {
     "data": {
      "image/png": "[encoded data removed]",
      "text/plain": [
       "<Figure size 1200x800 with 9 Axes>"
      ]
     },
     "metadata": {},
     "output_type": "display_data"
    }
   ],
   "source": [
    "# In a graphic\n",
    "metric_frame.by_group.plot.bar(\n",
    "    subplots=True,\n",
    "    layout=[3, 3],\n",
    "    legend=False,\n",
    "    figsize=[12, 8],\n",
    "    title=\"Show all metrics\",\n",
    ")"
   ]
  },
  {
   "cell_type": "markdown",
   "id": "f57a0bac",
   "metadata": {
    "papermill": {
     "duration": 0.031947,
     "end_time": "2025-07-30T21:39:18.843970",
     "exception": false,
     "start_time": "2025-07-30T21:39:18.812023",
     "status": "completed"
    },
    "tags": []
   },
   "source": [
    "# Final Output"
   ]
  },
  {
   "cell_type": "code",
   "execution_count": 77,
   "id": "96d280a3",
   "metadata": {
    "execution": {
     "iopub.execute_input": "2025-07-30T21:39:18.879927Z",
     "iopub.status.busy": "2025-07-30T21:39:18.879271Z",
     "iopub.status.idle": "2025-07-30T21:39:18.886975Z",
     "shell.execute_reply": "2025-07-30T21:39:18.886209Z"
    },
    "papermill": {
     "duration": 0.025784,
     "end_time": "2025-07-30T21:39:18.888222",
     "exception": false,
     "start_time": "2025-07-30T21:39:18.862438",
     "status": "completed"
    },
    "tags": []
   },
   "outputs": [
    {
     "data": {
      "text/plain": [
       "4"
      ]
     },
     "execution_count": 77,
     "metadata": {},
     "output_type": "execute_result"
    }
   ],
   "source": [
    "sub_universes = universe_analysis.generate_sub_universes()\n",
    "len(sub_universes)"
   ]
  },
  {
   "cell_type": "code",
   "execution_count": 78,
   "id": "92adf7ba",
   "metadata": {
    "execution": {
     "iopub.execute_input": "2025-07-30T21:39:18.947909Z",
     "iopub.status.busy": "2025-07-30T21:39:18.947536Z",
     "iopub.status.idle": "2025-07-30T21:39:18.952524Z",
     "shell.execute_reply": "2025-07-30T21:39:18.951724Z"
    },
    "papermill": {
     "duration": 0.039672,
     "end_time": "2025-07-30T21:39:18.954152",
     "exception": false,
     "start_time": "2025-07-30T21:39:18.914480",
     "status": "completed"
    },
    "tags": []
   },
   "outputs": [],
   "source": [
    "def filter_sub_universe_data(sub_universe, org_test):\n",
    "    # Keep all rows — no filtering\n",
    "    keep_rows_mask = np.ones(org_test.shape[0], dtype=bool)\n",
    "\n",
    "    print(f\"[INFO] Keeping all rows: {keep_rows_mask.sum()} rows retained.\")\n",
    "    return keep_rows_mask"
   ]
  },
  {
   "cell_type": "code",
   "execution_count": 79,
   "id": "4a759155",
   "metadata": {
    "execution": {
     "iopub.execute_input": "2025-07-30T21:39:19.024437Z",
     "iopub.status.busy": "2025-07-30T21:39:19.023984Z",
     "iopub.status.idle": "2025-07-30T21:39:29.189240Z",
     "shell.execute_reply": "2025-07-30T21:39:29.188335Z"
    },
    "papermill": {
     "duration": 10.202182,
     "end_time": "2025-07-30T21:39:29.190787",
     "exception": false,
     "start_time": "2025-07-30T21:39:18.988605",
     "status": "completed"
    },
    "tags": []
   },
   "outputs": [
    {
     "name": "stdout",
     "output_type": "stream",
     "text": [
      "Stopping execution_time clock.\n",
      "[INFO] Keeping all rows: 89710 rows retained.\n"
     ]
    },
    {
     "name": "stdout",
     "output_type": "stream",
     "text": [
      "[INFO] Keeping all rows: 89710 rows retained.\n"
     ]
    },
    {
     "name": "stdout",
     "output_type": "stream",
     "text": [
      "[INFO] Keeping all rows: 89710 rows retained.\n"
     ]
    },
    {
     "name": "stdout",
     "output_type": "stream",
     "text": [
      "[INFO] Keeping all rows: 89710 rows retained.\n"
     ]
    },
    {
     "data": {
      "text/html": [
       "<div>\n",
       "<style scoped>\n",
       "    .dataframe tbody tr th:only-of-type {\n",
       "        vertical-align: middle;\n",
       "    }\n",
       "\n",
       "    .dataframe tbody tr th {\n",
       "        vertical-align: top;\n",
       "    }\n",
       "\n",
       "    .dataframe thead th {\n",
       "        text-align: right;\n",
       "    }\n",
       "</style>\n",
       "<table border=\"1\" class=\"dataframe\">\n",
       "  <thead>\n",
       "    <tr style=\"text-align: right;\">\n",
       "      <th></th>\n",
       "      <th>run_no</th>\n",
       "      <th>universe_id</th>\n",
       "      <th>universe_settings</th>\n",
       "      <th>execution_time</th>\n",
       "      <th>test_size_n</th>\n",
       "      <th>test_size_frac</th>\n",
       "      <th>fair_main_equalized_odds_difference</th>\n",
       "      <th>fair_main_equalized_odds_ratio</th>\n",
       "      <th>fair_main_demographic_parity_difference</th>\n",
       "      <th>fair_main_demographic_parity_ratio</th>\n",
       "      <th>...</th>\n",
       "      <th>perf_grp_precision_0</th>\n",
       "      <th>perf_grp_precision_1</th>\n",
       "      <th>perf_grp_false positive rate_0</th>\n",
       "      <th>perf_grp_false positive rate_1</th>\n",
       "      <th>perf_grp_false negative rate_0</th>\n",
       "      <th>perf_grp_false negative rate_1</th>\n",
       "      <th>perf_grp_selection rate_0</th>\n",
       "      <th>perf_grp_selection rate_1</th>\n",
       "      <th>perf_grp_count_0</th>\n",
       "      <th>perf_grp_count_1</th>\n",
       "    </tr>\n",
       "  </thead>\n",
       "  <tbody>\n",
       "    <tr>\n",
       "      <th>0</th>\n",
       "      <td>14</td>\n",
       "      <td>4e88321fe80a5cd2ef994d6d5cc6a312</td>\n",
       "      <td>{\"cutoff\": \"quantile_0.1\", \"eval_fairness_grou...</td>\n",
       "      <td>26.740047</td>\n",
       "      <td>89710</td>\n",
       "      <td>1.0</td>\n",
       "      <td>0.088975</td>\n",
       "      <td>0.907592</td>\n",
       "      <td>0.084043</td>\n",
       "      <td>0.912891</td>\n",
       "      <td>...</td>\n",
       "      <td>NaN</td>\n",
       "      <td>NaN</td>\n",
       "      <td>NaN</td>\n",
       "      <td>NaN</td>\n",
       "      <td>NaN</td>\n",
       "      <td>NaN</td>\n",
       "      <td>NaN</td>\n",
       "      <td>NaN</td>\n",
       "      <td>NaN</td>\n",
       "      <td>NaN</td>\n",
       "    </tr>\n",
       "    <tr>\n",
       "      <th>0</th>\n",
       "      <td>14</td>\n",
       "      <td>4e88321fe80a5cd2ef994d6d5cc6a312</td>\n",
       "      <td>{\"cutoff\": \"quantile_0.1\", \"eval_fairness_grou...</td>\n",
       "      <td>26.740047</td>\n",
       "      <td>89710</td>\n",
       "      <td>1.0</td>\n",
       "      <td>0.088975</td>\n",
       "      <td>0.907592</td>\n",
       "      <td>0.084043</td>\n",
       "      <td>0.912891</td>\n",
       "      <td>...</td>\n",
       "      <td>0.117071</td>\n",
       "      <td>0.138915</td>\n",
       "      <td>0.962855</td>\n",
       "      <td>0.873880</td>\n",
       "      <td>0.02027</td>\n",
       "      <td>0.074070</td>\n",
       "      <td>0.964800</td>\n",
       "      <td>0.880758</td>\n",
       "      <td>20540.0</td>\n",
       "      <td>69170.0</td>\n",
       "    </tr>\n",
       "    <tr>\n",
       "      <th>0</th>\n",
       "      <td>14</td>\n",
       "      <td>4e88321fe80a5cd2ef994d6d5cc6a312</td>\n",
       "      <td>{\"cutoff\": \"quantile_0.25\", \"eval_fairness_gro...</td>\n",
       "      <td>26.740047</td>\n",
       "      <td>89710</td>\n",
       "      <td>1.0</td>\n",
       "      <td>0.218245</td>\n",
       "      <td>0.758704</td>\n",
       "      <td>0.205284</td>\n",
       "      <td>0.773985</td>\n",
       "      <td>...</td>\n",
       "      <td>NaN</td>\n",
       "      <td>NaN</td>\n",
       "      <td>NaN</td>\n",
       "      <td>NaN</td>\n",
       "      <td>NaN</td>\n",
       "      <td>NaN</td>\n",
       "      <td>NaN</td>\n",
       "      <td>NaN</td>\n",
       "      <td>NaN</td>\n",
       "      <td>NaN</td>\n",
       "    </tr>\n",
       "    <tr>\n",
       "      <th>0</th>\n",
       "      <td>14</td>\n",
       "      <td>4e88321fe80a5cd2ef994d6d5cc6a312</td>\n",
       "      <td>{\"cutoff\": \"quantile_0.25\", \"eval_fairness_gro...</td>\n",
       "      <td>26.740047</td>\n",
       "      <td>89710</td>\n",
       "      <td>1.0</td>\n",
       "      <td>0.218245</td>\n",
       "      <td>0.758704</td>\n",
       "      <td>0.205284</td>\n",
       "      <td>0.773985</td>\n",
       "      <td>...</td>\n",
       "      <td>0.118997</td>\n",
       "      <td>0.152840</td>\n",
       "      <td>0.904468</td>\n",
       "      <td>0.686224</td>\n",
       "      <td>0.06250</td>\n",
       "      <td>0.186871</td>\n",
       "      <td>0.908277</td>\n",
       "      <td>0.702993</td>\n",
       "      <td>20540.0</td>\n",
       "      <td>69170.0</td>\n",
       "    </tr>\n",
       "  </tbody>\n",
       "</table>\n",
       "<p>4 rows × 50 columns</p>\n",
       "</div>"
      ],
      "text/plain": [
       "  run_no                       universe_id  \\\n",
       "0     14  4e88321fe80a5cd2ef994d6d5cc6a312   \n",
       "0     14  4e88321fe80a5cd2ef994d6d5cc6a312   \n",
       "0     14  4e88321fe80a5cd2ef994d6d5cc6a312   \n",
       "0     14  4e88321fe80a5cd2ef994d6d5cc6a312   \n",
       "\n",
       "                                   universe_settings  execution_time  \\\n",
       "0  {\"cutoff\": \"quantile_0.1\", \"eval_fairness_grou...       26.740047   \n",
       "0  {\"cutoff\": \"quantile_0.1\", \"eval_fairness_grou...       26.740047   \n",
       "0  {\"cutoff\": \"quantile_0.25\", \"eval_fairness_gro...       26.740047   \n",
       "0  {\"cutoff\": \"quantile_0.25\", \"eval_fairness_gro...       26.740047   \n",
       "\n",
       "   test_size_n  test_size_frac  fair_main_equalized_odds_difference  \\\n",
       "0        89710             1.0                             0.088975   \n",
       "0        89710             1.0                             0.088975   \n",
       "0        89710             1.0                             0.218245   \n",
       "0        89710             1.0                             0.218245   \n",
       "\n",
       "   fair_main_equalized_odds_ratio  fair_main_demographic_parity_difference  \\\n",
       "0                        0.907592                                 0.084043   \n",
       "0                        0.907592                                 0.084043   \n",
       "0                        0.758704                                 0.205284   \n",
       "0                        0.758704                                 0.205284   \n",
       "\n",
       "   fair_main_demographic_parity_ratio  ...  perf_grp_precision_0  \\\n",
       "0                            0.912891  ...                   NaN   \n",
       "0                            0.912891  ...              0.117071   \n",
       "0                            0.773985  ...                   NaN   \n",
       "0                            0.773985  ...              0.118997   \n",
       "\n",
       "   perf_grp_precision_1  perf_grp_false positive rate_0  \\\n",
       "0                   NaN                             NaN   \n",
       "0              0.138915                        0.962855   \n",
       "0                   NaN                             NaN   \n",
       "0              0.152840                        0.904468   \n",
       "\n",
       "   perf_grp_false positive rate_1  perf_grp_false negative rate_0  \\\n",
       "0                             NaN                             NaN   \n",
       "0                        0.873880                         0.02027   \n",
       "0                             NaN                             NaN   \n",
       "0                        0.686224                         0.06250   \n",
       "\n",
       "   perf_grp_false negative rate_1  perf_grp_selection rate_0  \\\n",
       "0                             NaN                        NaN   \n",
       "0                        0.074070                   0.964800   \n",
       "0                             NaN                        NaN   \n",
       "0                        0.186871                   0.908277   \n",
       "\n",
       "   perf_grp_selection rate_1  perf_grp_count_0  perf_grp_count_1  \n",
       "0                        NaN               NaN               NaN  \n",
       "0                   0.880758           20540.0           69170.0  \n",
       "0                        NaN               NaN               NaN  \n",
       "0                   0.702993           20540.0           69170.0  \n",
       "\n",
       "[4 rows x 50 columns]"
      ]
     },
     "execution_count": 79,
     "metadata": {},
     "output_type": "execute_result"
    }
   ],
   "source": [
    "final_output = universe_analysis.generate_final_output(\n",
    "    y_pred_prob=probs_test,\n",
    "    y_test=y_true,\n",
    "    org_test=org_test,\n",
    "    filter_data=filter_sub_universe_data,\n",
    "    cp_metrics_df=cp_metrics_df,\n",
    "    save=True,\n",
    ")\n",
    "final_output"
   ]
  },
  {
   "cell_type": "code",
   "execution_count": null,
   "id": "721ff514-cb11-46f8-b6fc-50392f74b5cb",
   "metadata": {
    "papermill": {
     "duration": 0.030284,
     "end_time": "2025-07-30T21:39:29.255414",
     "exception": false,
     "start_time": "2025-07-30T21:39:29.225130",
     "status": "completed"
    },
    "tags": []
   },
   "outputs": [],
   "source": []
  }
 ],
 "metadata": {
  "celltoolbar": "Tags",
  "kernelspec": {
   "display_name": "Python (CMA Fairness)",
   "language": "python",
   "name": "cma_fair_env"
  },
  "language_info": {
   "codemirror_mode": {
    "name": "ipython",
    "version": 3
   },
   "file_extension": ".py",
   "mimetype": "text/x-python",
   "name": "python",
   "nbconvert_exporter": "python",
   "pygments_lexer": "ipython3",
   "version": "3.10.12"
  },
  "papermill": {
   "default_parameters": {},
   "duration": 41.006191,
   "end_time": "2025-07-30T21:39:30.105368",
   "environment_variables": {},
   "exception": null,
   "input_path": "universe_analysis.ipynb",
   "output_path": "output/runs/14/notebooks/m_14-4e88321fe80a5cd2ef994d6d5cc6a312.ipynb",
   "parameters": {
    "output_dir": "output",
    "run_no": "14",
    "seed": "2023",
    "universe": "{\"cutoff\": [\"quantile_0.1\", \"quantile_0.25\"], \"eval_fairness_grouping\": [\"majority-minority\", \"nationality-all\"], \"exclude_features\": \"age\", \"exclude_subgroups\": \"drop-non-german\", \"model\": \"logreg\", \"scale\": \"do-not-scale\", \"training_size\": \"1k\", \"training_year\": \"2012_14\"}",
    "universe_id": "4e88321fe80a5cd2ef994d6d5cc6a312"
   },
   "start_time": "2025-07-30T21:38:49.099177",
   "version": "2.6.0"
  }
 },
 "nbformat": 4,
 "nbformat_minor": 5
}