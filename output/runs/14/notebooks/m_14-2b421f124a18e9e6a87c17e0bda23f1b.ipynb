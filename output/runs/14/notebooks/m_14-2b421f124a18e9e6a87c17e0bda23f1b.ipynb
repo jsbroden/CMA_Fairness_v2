{
 "cells": [
  {
   "cell_type": "code",
   "execution_count": 1,
   "id": "f159f837-637b-42ba-96b5-ec9a68c44524",
   "metadata": {
    "execution": {
     "iopub.execute_input": "2025-07-30T21:44:56.172809Z",
     "iopub.status.busy": "2025-07-30T21:44:56.171933Z",
     "iopub.status.idle": "2025-07-30T21:44:56.186006Z",
     "shell.execute_reply": "2025-07-30T21:44:56.185068Z"
    },
    "papermill": {
     "duration": 0.038581,
     "end_time": "2025-07-30T21:44:56.187746",
     "exception": false,
     "start_time": "2025-07-30T21:44:56.149165",
     "status": "completed"
    },
    "tags": []
   },
   "outputs": [
    {
     "name": "stdout",
     "output_type": "stream",
     "text": [
      "/dss/dsshome1/0C/ra93lal2/cma/CMA_Fairness_v2\n"
     ]
    },
    {
     "name": "stderr",
     "output_type": "stream",
     "text": [
      "/dss/dsshome1/0C/ra93lal2/.local/share/virtualenvs/CMA_Fairness_v2-3j10GkSs/lib/python3.10/site-packages/IPython/core/magics/osm.py:393: UserWarning: This is now an optional IPython functionality, using bookmarks requires you to install the `pickleshare` library.\n",
      "  bkms = self.shell.db.get('bookmarks', {})\n",
      "/dss/dsshome1/0C/ra93lal2/.local/share/virtualenvs/CMA_Fairness_v2-3j10GkSs/lib/python3.10/site-packages/IPython/core/magics/osm.py:417: UserWarning: This is now an optional IPython functionality, setting dhist requires you to install the `pickleshare` library.\n",
      "  self.shell.db['dhist'] = compress_dhist(dhist)[-100:]\n"
     ]
    }
   ],
   "source": [
    "%cd ~/cma/CMA_Fairness_v2"
   ]
  },
  {
   "cell_type": "markdown",
   "id": "de2603b9",
   "metadata": {
    "papermill": {
     "duration": 0.019106,
     "end_time": "2025-07-30T21:44:56.226993",
     "exception": false,
     "start_time": "2025-07-30T21:44:56.207887",
     "status": "completed"
    },
    "tags": []
   },
   "source": [
    "The following cell holds the definition of our parameters, these values can be overriden by rendering the with e.g. the following command:\n",
    "\n",
    "papermill -p alpha 0.2 -p ratio 0.3 universe_analysis.ipynb output/test_run.ipynb"
   ]
  },
  {
   "cell_type": "code",
   "execution_count": 2,
   "id": "a80968a0-40bb-4fa9-85ef-2d5eefb01975",
   "metadata": {
    "execution": {
     "iopub.execute_input": "2025-07-30T21:44:56.269238Z",
     "iopub.status.busy": "2025-07-30T21:44:56.268742Z",
     "iopub.status.idle": "2025-07-30T21:44:56.273998Z",
     "shell.execute_reply": "2025-07-30T21:44:56.273086Z"
    },
    "papermill": {
     "duration": 0.028174,
     "end_time": "2025-07-30T21:44:56.275588",
     "exception": false,
     "start_time": "2025-07-30T21:44:56.247414",
     "status": "completed"
    },
    "tags": []
   },
   "outputs": [
    {
     "name": "stdout",
     "output_type": "stream",
     "text": [
      "Current working directory: /dss/dsshome1/0C/ra93lal2/cma/CMA_Fairness_v2\n"
     ]
    }
   ],
   "source": [
    "import os\n",
    "print(\"Current working directory:\", os.getcwd())"
   ]
  },
  {
   "cell_type": "code",
   "execution_count": 3,
   "id": "2dce4c03",
   "metadata": {
    "execution": {
     "iopub.execute_input": "2025-07-30T21:44:56.321420Z",
     "iopub.status.busy": "2025-07-30T21:44:56.320933Z",
     "iopub.status.idle": "2025-07-30T21:44:56.327213Z",
     "shell.execute_reply": "2025-07-30T21:44:56.326163Z"
    },
    "papermill": {
     "duration": 0.033535,
     "end_time": "2025-07-30T21:44:56.328817",
     "exception": false,
     "start_time": "2025-07-30T21:44:56.295282",
     "status": "completed"
    },
    "tags": [
     "parameters"
    ]
   },
   "outputs": [],
   "source": [
    "run_no = 0\n",
    "universe_id = \"test\"\n",
    "universe = {\n",
    "    \"training_size\": \"25k\", # \"25k\", \"5k\", \"1k\"\n",
    "    \"training_year\": \"2014\", # \"2014\", \"2012_14\", \"2010_14\"\n",
    "    \"scale\": \"scale\", # \"scale\", \"do-not-scale\",\n",
    "    #\"stratify_split\": \"target\", # \"none\", \"target\", \"protected-attribute\", \"both\",\n",
    "    \"model\": \"elasticnet\", # \"logreg\", \"penalized_logreg\", \"rf\", \"gbm\", \"elasticnet\"\n",
    "    \"cutoff\": [\"quantile_0.15\", \"quantile_0.30\"],\n",
    "    \"exclude_features\": \"age\", # \"none\", \"nationality\", \"sex\", \"nationality-sex\", \"age\"\n",
    "    \"exclude_subgroups\": \"keep-all\", # \"keep-all\", \"drop-non-german\"\n",
    "    \"eval_fairness_grouping\": [\"majority-minority\", \"nationality-all\"]\n",
    "}\n",
    "\n",
    "output_dir=\"./output\"\n",
    "seed=0"
   ]
  },
  {
   "cell_type": "code",
   "execution_count": 4,
   "id": "0e3c185b",
   "metadata": {
    "execution": {
     "iopub.execute_input": "2025-07-30T21:44:56.369952Z",
     "iopub.status.busy": "2025-07-30T21:44:56.369469Z",
     "iopub.status.idle": "2025-07-30T21:44:56.374771Z",
     "shell.execute_reply": "2025-07-30T21:44:56.373900Z"
    },
    "papermill": {
     "duration": 0.027732,
     "end_time": "2025-07-30T21:44:56.376692",
     "exception": false,
     "start_time": "2025-07-30T21:44:56.348960",
     "status": "completed"
    },
    "tags": [
     "injected-parameters"
    ]
   },
   "outputs": [],
   "source": [
    "# Parameters\n",
    "universe_id = \"2b421f124a18e9e6a87c17e0bda23f1b\"\n",
    "run_no = \"14\"\n",
    "universe = \"{\\\"cutoff\\\": [\\\"quantile_0.1\\\", \\\"quantile_0.25\\\"], \\\"eval_fairness_grouping\\\": [\\\"majority-minority\\\", \\\"nationality-all\\\"], \\\"exclude_features\\\": \\\"nationality-sex\\\", \\\"exclude_subgroups\\\": \\\"keep-all\\\", \\\"model\\\": \\\"penalized_logreg\\\", \\\"scale\\\": \\\"scale\\\", \\\"training_size\\\": \\\"1k\\\", \\\"training_year\\\": \\\"2010_14\\\"}\"\n",
    "output_dir = \"output\"\n",
    "seed = \"2023\"\n"
   ]
  },
  {
   "cell_type": "code",
   "execution_count": 5,
   "id": "1650acaf",
   "metadata": {
    "execution": {
     "iopub.execute_input": "2025-07-30T21:44:56.419024Z",
     "iopub.status.busy": "2025-07-30T21:44:56.418314Z",
     "iopub.status.idle": "2025-07-30T21:44:56.424178Z",
     "shell.execute_reply": "2025-07-30T21:44:56.423030Z"
    },
    "papermill": {
     "duration": 0.02876,
     "end_time": "2025-07-30T21:44:56.425907",
     "exception": false,
     "start_time": "2025-07-30T21:44:56.397147",
     "status": "completed"
    },
    "tags": []
   },
   "outputs": [],
   "source": [
    "import json\n",
    "# Parse universe into dict if it is passed as a string\n",
    "if isinstance(universe, str):\n",
    "    universe = json.loads(universe)"
   ]
  },
  {
   "cell_type": "code",
   "execution_count": 6,
   "id": "16620c48",
   "metadata": {
    "execution": {
     "iopub.execute_input": "2025-07-30T21:44:56.468801Z",
     "iopub.status.busy": "2025-07-30T21:44:56.467742Z",
     "iopub.status.idle": "2025-07-30T21:44:56.513099Z",
     "shell.execute_reply": "2025-07-30T21:44:56.512111Z"
    },
    "papermill": {
     "duration": 0.067785,
     "end_time": "2025-07-30T21:44:56.514880",
     "exception": false,
     "start_time": "2025-07-30T21:44:56.447095",
     "status": "completed"
    },
    "tags": []
   },
   "outputs": [],
   "source": [
    "# Auto-reload the custom package\n",
    "%load_ext autoreload\n",
    "%autoreload 1\n",
    "%aimport fairness_multiverse"
   ]
  },
  {
   "cell_type": "code",
   "execution_count": 7,
   "id": "01c5c9f3",
   "metadata": {
    "execution": {
     "iopub.execute_input": "2025-07-30T21:44:56.558748Z",
     "iopub.status.busy": "2025-07-30T21:44:56.558104Z",
     "iopub.status.idle": "2025-07-30T21:44:58.512866Z",
     "shell.execute_reply": "2025-07-30T21:44:58.511789Z"
    },
    "papermill": {
     "duration": 1.979644,
     "end_time": "2025-07-30T21:44:58.515006",
     "exception": false,
     "start_time": "2025-07-30T21:44:56.535362",
     "status": "completed"
    },
    "tags": []
   },
   "outputs": [],
   "source": [
    "from fairness_multiverse.universe import UniverseAnalysis\n",
    "\n",
    "universe_analysis = UniverseAnalysis(\n",
    "    run_no = run_no,\n",
    "    universe_id = universe_id,\n",
    "    universe = universe,\n",
    "    output_dir=output_dir,\n",
    ")"
   ]
  },
  {
   "cell_type": "code",
   "execution_count": 8,
   "id": "106241f5",
   "metadata": {
    "execution": {
     "iopub.execute_input": "2025-07-30T21:44:58.562472Z",
     "iopub.status.busy": "2025-07-30T21:44:58.561870Z",
     "iopub.status.idle": "2025-07-30T21:44:58.569294Z",
     "shell.execute_reply": "2025-07-30T21:44:58.568382Z"
    },
    "papermill": {
     "duration": 0.032973,
     "end_time": "2025-07-30T21:44:58.571046",
     "exception": false,
     "start_time": "2025-07-30T21:44:58.538073",
     "status": "completed"
    },
    "tags": []
   },
   "outputs": [
    {
     "name": "stdout",
     "output_type": "stream",
     "text": [
      "Using Seed: 2023\n"
     ]
    }
   ],
   "source": [
    "import numpy as np\n",
    "parsed_seed = int(seed)\n",
    "np.random.seed(parsed_seed)\n",
    "print(f\"Using Seed: {parsed_seed}\")"
   ]
  },
  {
   "cell_type": "markdown",
   "id": "e0ebdc57",
   "metadata": {
    "papermill": {
     "duration": 0.020254,
     "end_time": "2025-07-30T21:44:58.613570",
     "exception": false,
     "start_time": "2025-07-30T21:44:58.593316",
     "status": "completed"
    },
    "tags": []
   },
   "source": [
    "# Loading Data"
   ]
  },
  {
   "cell_type": "markdown",
   "id": "681925a3",
   "metadata": {
    "papermill": {
     "duration": 0.020783,
     "end_time": "2025-07-30T21:44:58.655284",
     "exception": false,
     "start_time": "2025-07-30T21:44:58.634501",
     "status": "completed"
    },
    "tags": []
   },
   "source": [
    "Load siab_train, siab_test, siab_calib and/or \n",
    "load siab_train_features, siab_train_labels"
   ]
  },
  {
   "cell_type": "code",
   "execution_count": 9,
   "id": "f0496b8a",
   "metadata": {
    "execution": {
     "iopub.execute_input": "2025-07-30T21:44:58.699091Z",
     "iopub.status.busy": "2025-07-30T21:44:58.698205Z",
     "iopub.status.idle": "2025-07-30T21:45:11.679603Z",
     "shell.execute_reply": "2025-07-30T21:45:11.678441Z"
    },
    "papermill": {
     "duration": 13.004626,
     "end_time": "2025-07-30T21:45:11.681249",
     "exception": false,
     "start_time": "2025-07-30T21:44:58.676623",
     "status": "completed"
    },
    "tags": []
   },
   "outputs": [
    {
     "name": "stdout",
     "output_type": "stream",
     "text": [
      "Loading SIAB data from cache: data/siab_cached.csv.gz\n"
     ]
    },
    {
     "name": "stdout",
     "output_type": "stream",
     "text": [
      "(643690, 164)\n"
     ]
    }
   ],
   "source": [
    "from pathlib import Path\n",
    "import pandas as pd\n",
    "\n",
    "# File paths\n",
    "raw_file = Path(\"data/raw/siab.csv\")\n",
    "cache_file = Path(\"data/siab_cached.csv.gz\")\n",
    "\n",
    "# Ensure cache directory exists\n",
    "cache_file.parent.mkdir(parents=True, exist_ok=True)\n",
    "\n",
    "# Load with simple caching\n",
    "if cache_file.exists():\n",
    "    print(f\"Loading SIAB data from cache: {cache_file}\")\n",
    "    siab = pd.read_csv(cache_file, compression='gzip')\n",
    "else:\n",
    "    print(f\"Cache not found. Reading raw SIAB data: {raw_file}\")\n",
    "    siab = pd.read_csv(raw_file)\n",
    "    siab.to_csv(cache_file, index=False, compression='gzip')\n",
    "    print(f\"Cached SIAB data to: {cache_file}\")\n",
    "\n",
    "# Now use `siab` DataFrame as needed\n",
    "print(siab.shape)"
   ]
  },
  {
   "cell_type": "code",
   "execution_count": 10,
   "id": "db0ca512-5f53-4dba-abdb-a2888bca41ba",
   "metadata": {
    "execution": {
     "iopub.execute_input": "2025-07-30T21:45:11.727489Z",
     "iopub.status.busy": "2025-07-30T21:45:11.726862Z",
     "iopub.status.idle": "2025-07-30T21:45:11.734455Z",
     "shell.execute_reply": "2025-07-30T21:45:11.733084Z"
    },
    "papermill": {
     "duration": 0.032455,
     "end_time": "2025-07-30T21:45:11.736445",
     "exception": false,
     "start_time": "2025-07-30T21:45:11.703990",
     "status": "completed"
    },
    "tags": []
   },
   "outputs": [],
   "source": [
    "#siab"
   ]
  },
  {
   "cell_type": "code",
   "execution_count": 11,
   "id": "a0edb063",
   "metadata": {
    "execution": {
     "iopub.execute_input": "2025-07-30T21:45:11.780446Z",
     "iopub.status.busy": "2025-07-30T21:45:11.779578Z",
     "iopub.status.idle": "2025-07-30T21:45:11.784985Z",
     "shell.execute_reply": "2025-07-30T21:45:11.783992Z"
    },
    "papermill": {
     "duration": 0.028901,
     "end_time": "2025-07-30T21:45:11.786659",
     "exception": false,
     "start_time": "2025-07-30T21:45:11.757758",
     "status": "completed"
    },
    "tags": []
   },
   "outputs": [],
   "source": [
    "#import pandas as pd\n",
    "#\n",
    "#X_train = pd.read_csv(\"./data/X_train.csv\")\n",
    "#y_train = pd.read_csv(\"./data/y_train.csv\")"
   ]
  },
  {
   "cell_type": "code",
   "execution_count": 12,
   "id": "63d08085",
   "metadata": {
    "execution": {
     "iopub.execute_input": "2025-07-30T21:45:11.830473Z",
     "iopub.status.busy": "2025-07-30T21:45:11.829528Z",
     "iopub.status.idle": "2025-07-30T21:45:11.834769Z",
     "shell.execute_reply": "2025-07-30T21:45:11.833790Z"
    },
    "papermill": {
     "duration": 0.028462,
     "end_time": "2025-07-30T21:45:11.836428",
     "exception": false,
     "start_time": "2025-07-30T21:45:11.807966",
     "status": "completed"
    },
    "tags": []
   },
   "outputs": [],
   "source": [
    "#X_test = pd.read_csv(\"./data/X_test.csv\")\n",
    "#y_true = pd.read_csv(\"./data/y_test.csv\")"
   ]
  },
  {
   "cell_type": "code",
   "execution_count": 13,
   "id": "98a8d0fa-1d3d-4ed8-bb2c-281470e24add",
   "metadata": {
    "execution": {
     "iopub.execute_input": "2025-07-30T21:45:11.880804Z",
     "iopub.status.busy": "2025-07-30T21:45:11.879143Z",
     "iopub.status.idle": "2025-07-30T21:45:11.885075Z",
     "shell.execute_reply": "2025-07-30T21:45:11.884100Z"
    },
    "papermill": {
     "duration": 0.029071,
     "end_time": "2025-07-30T21:45:11.887066",
     "exception": false,
     "start_time": "2025-07-30T21:45:11.857995",
     "status": "completed"
    },
    "tags": []
   },
   "outputs": [],
   "source": [
    "# Calibration data for conformal\n",
    "#X_calib = pd.read_csv(\"./data/X_calib.csv\")\n",
    "#y_calib = pd.read_csv(\"./data/y_calib.csv\")"
   ]
  },
  {
   "cell_type": "markdown",
   "id": "997051c5-15bd-4b69-9786-c3001a3ce484",
   "metadata": {
    "papermill": {
     "duration": 0.025398,
     "end_time": "2025-07-30T21:45:11.941296",
     "exception": false,
     "start_time": "2025-07-30T21:45:11.915898",
     "status": "completed"
    },
    "tags": []
   },
   "source": [
    "# Splitting Data and Setting Training Data Size"
   ]
  },
  {
   "cell_type": "code",
   "execution_count": 14,
   "id": "e993b61f-042d-41a6-8c81-f55681f86335",
   "metadata": {
    "execution": {
     "iopub.execute_input": "2025-07-30T21:45:11.995181Z",
     "iopub.status.busy": "2025-07-30T21:45:11.994758Z",
     "iopub.status.idle": "2025-07-30T21:45:12.008267Z",
     "shell.execute_reply": "2025-07-30T21:45:12.007100Z"
    },
    "papermill": {
     "duration": 0.042637,
     "end_time": "2025-07-30T21:45:12.010318",
     "exception": false,
     "start_time": "2025-07-30T21:45:11.967681",
     "status": "completed"
    },
    "tags": []
   },
   "outputs": [],
   "source": [
    "def sample_by_year_size(df,\n",
    "                        training_year: str,\n",
    "                        training_size: str,\n",
    "                        random_state: int = 42):\n",
    "    # --- parse training_year into a list of int years ---\n",
    "    if \"_\" in training_year:\n",
    "        start_str, end_str = training_year.split(\"_\", 1)\n",
    "        start = int(start_str)\n",
    "        end   = int(end_str) if len(end_str) == 4 else (int(end_str) + (start // 100)*100)\n",
    "        years = list(range(start, end + 1))\n",
    "    else:\n",
    "        years = [int(training_year)]\n",
    "\n",
    "    df = df[df[\"year\"].isin(years)].reset_index(drop=True)\n",
    "\n",
    "    # --- map training_size to total number of samples ---\n",
    "    total_map = {\"25k\": 25_000, \"5k\": 5_000, \"1k\": 1_000}\n",
    "    if training_size not in total_map:\n",
    "        return df  # e.g. \"all\"\n",
    "\n",
    "    total_samples = total_map[training_size]\n",
    "    n_years       = len(years)\n",
    "    base          = total_samples // n_years\n",
    "    remainder     = total_samples % n_years\n",
    "\n",
    "    # --- build a dict: year -> how many to sample ---\n",
    "    # give +1 to the first `remainder` years in ascending order\n",
    "    quotas = {\n",
    "        year: base + (1 if idx < remainder else 0)\n",
    "        for idx, year in enumerate(sorted(years))\n",
    "    }\n",
    "\n",
    "    # --- sample per‐year according to the quota dict ---\n",
    "    sampled = (\n",
    "        df\n",
    "        .groupby(\"year\", group_keys=False)\n",
    "        .apply(lambda grp: grp.sample(\n",
    "            n=min(len(grp), quotas[grp.name]),\n",
    "            random_state=random_state))\n",
    "        .reset_index(drop=True)\n",
    "    )\n",
    "\n",
    "    return sampled"
   ]
  },
  {
   "cell_type": "code",
   "execution_count": 15,
   "id": "c0ccd338-0e02-41f3-a09d-f56f9266e3fb",
   "metadata": {
    "execution": {
     "iopub.execute_input": "2025-07-30T21:45:12.065935Z",
     "iopub.status.busy": "2025-07-30T21:45:12.065253Z",
     "iopub.status.idle": "2025-07-30T21:45:12.070901Z",
     "shell.execute_reply": "2025-07-30T21:45:12.069921Z"
    },
    "papermill": {
     "duration": 0.035462,
     "end_time": "2025-07-30T21:45:12.072862",
     "exception": false,
     "start_time": "2025-07-30T21:45:12.037400",
     "status": "completed"
    },
    "tags": []
   },
   "outputs": [],
   "source": [
    "#universe[\"training_size\"]"
   ]
  },
  {
   "cell_type": "code",
   "execution_count": 16,
   "id": "ca707fd7-8047-4acd-bfa5-66248fbbf8e6",
   "metadata": {
    "execution": {
     "iopub.execute_input": "2025-07-30T21:45:12.130442Z",
     "iopub.status.busy": "2025-07-30T21:45:12.129665Z",
     "iopub.status.idle": "2025-07-30T21:45:12.136085Z",
     "shell.execute_reply": "2025-07-30T21:45:12.134770Z"
    },
    "papermill": {
     "duration": 0.036927,
     "end_time": "2025-07-30T21:45:12.138299",
     "exception": false,
     "start_time": "2025-07-30T21:45:12.101372",
     "status": "completed"
    },
    "tags": []
   },
   "outputs": [],
   "source": [
    "#universe[\"training_year\"]"
   ]
  },
  {
   "cell_type": "code",
   "execution_count": 17,
   "id": "aea9c6ef-6f46-42c8-85eb-5a62025c1508",
   "metadata": {
    "execution": {
     "iopub.execute_input": "2025-07-30T21:45:12.201212Z",
     "iopub.status.busy": "2025-07-30T21:45:12.200480Z",
     "iopub.status.idle": "2025-07-30T21:45:13.350306Z",
     "shell.execute_reply": "2025-07-30T21:45:13.349157Z"
    },
    "papermill": {
     "duration": 1.183409,
     "end_time": "2025-07-30T21:45:13.352390",
     "exception": false,
     "start_time": "2025-07-30T21:45:12.168981",
     "status": "completed"
    },
    "tags": []
   },
   "outputs": [],
   "source": [
    "siab_train = sample_by_year_size(siab,\n",
    "                               training_year=universe[\"training_year\"],\n",
    "                               training_size=universe[\"training_size\"])"
   ]
  },
  {
   "cell_type": "code",
   "execution_count": 18,
   "id": "8d3afb32-789d-442c-8d5d-9f5aa8dd2eed",
   "metadata": {
    "execution": {
     "iopub.execute_input": "2025-07-30T21:45:13.418265Z",
     "iopub.status.busy": "2025-07-30T21:45:13.417094Z",
     "iopub.status.idle": "2025-07-30T21:45:13.423188Z",
     "shell.execute_reply": "2025-07-30T21:45:13.422145Z"
    },
    "papermill": {
     "duration": 0.034045,
     "end_time": "2025-07-30T21:45:13.425191",
     "exception": false,
     "start_time": "2025-07-30T21:45:13.391146",
     "status": "completed"
    },
    "tags": []
   },
   "outputs": [],
   "source": [
    "#siab_train.shape"
   ]
  },
  {
   "cell_type": "code",
   "execution_count": 19,
   "id": "d582db68-1a4c-47fb-84fc-08518dc1975a",
   "metadata": {
    "execution": {
     "iopub.execute_input": "2025-07-30T21:45:13.477457Z",
     "iopub.status.busy": "2025-07-30T21:45:13.476284Z",
     "iopub.status.idle": "2025-07-30T21:45:13.482504Z",
     "shell.execute_reply": "2025-07-30T21:45:13.481417Z"
    },
    "papermill": {
     "duration": 0.034661,
     "end_time": "2025-07-30T21:45:13.484420",
     "exception": false,
     "start_time": "2025-07-30T21:45:13.449759",
     "status": "completed"
    },
    "tags": []
   },
   "outputs": [],
   "source": [
    "#display(siab_train.groupby(\"year\").size())"
   ]
  },
  {
   "cell_type": "code",
   "execution_count": 20,
   "id": "a561edb4-d032-42cb-8256-22eac1111c64",
   "metadata": {
    "execution": {
     "iopub.execute_input": "2025-07-30T21:45:13.535984Z",
     "iopub.status.busy": "2025-07-30T21:45:13.534998Z",
     "iopub.status.idle": "2025-07-30T21:45:13.970982Z",
     "shell.execute_reply": "2025-07-30T21:45:13.969837Z"
    },
    "papermill": {
     "duration": 0.464633,
     "end_time": "2025-07-30T21:45:13.973403",
     "exception": false,
     "start_time": "2025-07-30T21:45:13.508770",
     "status": "completed"
    },
    "tags": []
   },
   "outputs": [],
   "source": [
    "#siab_train = siab_s[siab_s.year < 2015]\n",
    "siab_calib = siab[siab.year == 2015]\n",
    "siab_test = siab[siab.year == 2016]"
   ]
  },
  {
   "cell_type": "code",
   "execution_count": 21,
   "id": "472de16f-c3db-4916-846b-1f0de9cf1746",
   "metadata": {
    "execution": {
     "iopub.execute_input": "2025-07-30T21:45:14.024682Z",
     "iopub.status.busy": "2025-07-30T21:45:14.024114Z",
     "iopub.status.idle": "2025-07-30T21:45:14.031378Z",
     "shell.execute_reply": "2025-07-30T21:45:14.030541Z"
    },
    "papermill": {
     "duration": 0.035329,
     "end_time": "2025-07-30T21:45:14.033349",
     "exception": false,
     "start_time": "2025-07-30T21:45:13.998020",
     "status": "completed"
    },
    "tags": []
   },
   "outputs": [],
   "source": [
    "X_train = siab_train.iloc[:,4:164]\n",
    "y_train = siab_train.iloc[:, [3]]"
   ]
  },
  {
   "cell_type": "code",
   "execution_count": 22,
   "id": "828c96af-f43a-4ed6-ba47-8ac73a47d56c",
   "metadata": {
    "execution": {
     "iopub.execute_input": "2025-07-30T21:45:14.079265Z",
     "iopub.status.busy": "2025-07-30T21:45:14.078539Z",
     "iopub.status.idle": "2025-07-30T21:45:14.133503Z",
     "shell.execute_reply": "2025-07-30T21:45:14.132395Z"
    },
    "papermill": {
     "duration": 0.080026,
     "end_time": "2025-07-30T21:45:14.135422",
     "exception": false,
     "start_time": "2025-07-30T21:45:14.055396",
     "status": "completed"
    },
    "tags": []
   },
   "outputs": [],
   "source": [
    "X_calib = siab_calib.iloc[:,4:164]\n",
    "y_calib = siab_calib.iloc[:, [3]]"
   ]
  },
  {
   "cell_type": "code",
   "execution_count": 23,
   "id": "c34be9c3-6bd6-476e-acd3-845840e303be",
   "metadata": {
    "execution": {
     "iopub.execute_input": "2025-07-30T21:45:14.186672Z",
     "iopub.status.busy": "2025-07-30T21:45:14.185985Z",
     "iopub.status.idle": "2025-07-30T21:45:14.239767Z",
     "shell.execute_reply": "2025-07-30T21:45:14.238735Z"
    },
    "papermill": {
     "duration": 0.080912,
     "end_time": "2025-07-30T21:45:14.241504",
     "exception": false,
     "start_time": "2025-07-30T21:45:14.160592",
     "status": "completed"
    },
    "tags": []
   },
   "outputs": [],
   "source": [
    "X_test = siab_test.iloc[:,4:164]\n",
    "y_true = siab_test.iloc[:, [3]]"
   ]
  },
  {
   "cell_type": "markdown",
   "id": "9901737e-04df-44f0-9100-f5ad144ed040",
   "metadata": {
    "papermill": {
     "duration": 0.020468,
     "end_time": "2025-07-30T21:45:14.283202",
     "exception": false,
     "start_time": "2025-07-30T21:45:14.262734",
     "status": "completed"
    },
    "tags": []
   },
   "source": [
    "# Splitting Data and Setting Training Data Size OLD VERSION"
   ]
  },
  {
   "cell_type": "code",
   "execution_count": 24,
   "id": "acbc8f7d-8fc8-4e86-8c59-5dcb0f58384b",
   "metadata": {
    "execution": {
     "iopub.execute_input": "2025-07-30T21:45:14.333312Z",
     "iopub.status.busy": "2025-07-30T21:45:14.332920Z",
     "iopub.status.idle": "2025-07-30T21:45:14.338221Z",
     "shell.execute_reply": "2025-07-30T21:45:14.337447Z"
    },
    "papermill": {
     "duration": 0.036333,
     "end_time": "2025-07-30T21:45:14.339555",
     "exception": false,
     "start_time": "2025-07-30T21:45:14.303222",
     "status": "completed"
    },
    "tags": []
   },
   "outputs": [],
   "source": [
    "#def sample_by_year(df, training_size, random_state=42):\n",
    "#    if training_size == \"2014\":\n",
    "#        return df[df[\"year\"] == 2014].reset_index(drop=True)\n",
    "#    \n",
    "#    size_map = {\n",
    "#        \"25k\": 5000,\n",
    "#        \"5k\": 1000,\n",
    "#        \"1k\": 200\n",
    "#    }\n",
    "#\n",
    "#    if training_size not in size_map:\n",
    "#        return df.reset_index(drop=True)  # use all data\n",
    "#\n",
    "#    n_per_year = size_map[training_size]\n",
    "#    grouped = df.groupby(\"year\")\n",
    "#    sampled = grouped.apply(lambda x: x.sample(n=min(n_per_year, len(x)), random_state=random_state))\n",
    "#    return sampled.reset_index(drop=True)"
   ]
  },
  {
   "cell_type": "code",
   "execution_count": 25,
   "id": "6d931f52-beaf-43ff-9e78-9d44a448d54e",
   "metadata": {
    "execution": {
     "iopub.execute_input": "2025-07-30T21:45:14.364660Z",
     "iopub.status.busy": "2025-07-30T21:45:14.364135Z",
     "iopub.status.idle": "2025-07-30T21:45:14.368651Z",
     "shell.execute_reply": "2025-07-30T21:45:14.367933Z"
    },
    "papermill": {
     "duration": 0.018093,
     "end_time": "2025-07-30T21:45:14.369924",
     "exception": false,
     "start_time": "2025-07-30T21:45:14.351831",
     "status": "completed"
    },
    "tags": []
   },
   "outputs": [],
   "source": [
    "#siab_s = sample_by_year(siab, universe[\"training_size\"])"
   ]
  },
  {
   "cell_type": "code",
   "execution_count": 26,
   "id": "5db0a40e-a4e2-4920-be85-b12ae061d70d",
   "metadata": {
    "execution": {
     "iopub.execute_input": "2025-07-30T21:45:14.399676Z",
     "iopub.status.busy": "2025-07-30T21:45:14.399090Z",
     "iopub.status.idle": "2025-07-30T21:45:14.403758Z",
     "shell.execute_reply": "2025-07-30T21:45:14.402998Z"
    },
    "papermill": {
     "duration": 0.019685,
     "end_time": "2025-07-30T21:45:14.405207",
     "exception": false,
     "start_time": "2025-07-30T21:45:14.385522",
     "status": "completed"
    },
    "tags": []
   },
   "outputs": [],
   "source": [
    "#display(siab_s.groupby(\"year\").size())"
   ]
  },
  {
   "cell_type": "code",
   "execution_count": 27,
   "id": "e6c733c5",
   "metadata": {
    "execution": {
     "iopub.execute_input": "2025-07-30T21:45:14.430258Z",
     "iopub.status.busy": "2025-07-30T21:45:14.429755Z",
     "iopub.status.idle": "2025-07-30T21:45:14.531988Z",
     "shell.execute_reply": "2025-07-30T21:45:14.531030Z"
    },
    "papermill": {
     "duration": 0.116411,
     "end_time": "2025-07-30T21:45:14.533959",
     "exception": false,
     "start_time": "2025-07-30T21:45:14.417548",
     "status": "completed"
    },
    "tags": []
   },
   "outputs": [],
   "source": [
    "# Auxiliary data needed downstream in the pipeline\n",
    "\n",
    "org_train = X_train.copy()\n",
    "org_test = X_test.copy()\n",
    "org_calib = X_calib.copy()"
   ]
  },
  {
   "cell_type": "code",
   "execution_count": 28,
   "id": "1466abac-c6da-4492-a62f-4240ae3783af",
   "metadata": {
    "execution": {
     "iopub.execute_input": "2025-07-30T21:45:14.582190Z",
     "iopub.status.busy": "2025-07-30T21:45:14.581322Z",
     "iopub.status.idle": "2025-07-30T21:45:14.587565Z",
     "shell.execute_reply": "2025-07-30T21:45:14.586636Z"
    },
    "papermill": {
     "duration": 0.033044,
     "end_time": "2025-07-30T21:45:14.589319",
     "exception": false,
     "start_time": "2025-07-30T21:45:14.556275",
     "status": "completed"
    },
    "tags": []
   },
   "outputs": [],
   "source": [
    "# put in other script?\n",
    "# Group sizes\n",
    "\n",
    "#def calculate_percentages(df, df_name):\n",
    "#    total_entries = len(df)\n",
    "#\n",
    "#    female_pct = (df['frau1'] == 1).mean() * 100\n",
    "#    non_german_pct = ((df['maxdeutsch1'] == 0) & (df['maxdeutsch.Missing.'] == 0)).mean() * 100\n",
    "#    non_german_male_pct = ((df['frau1'] == 0) & (df['maxdeutsch1'] == 0) & (df['maxdeutsch.Missing.'] == 0)).mean() * 100\n",
    "#    non_german_female_pct = ((df['frau1'] == 1) & (df['maxdeutsch1'] == 0) & (df['maxdeutsch.Missing.'] == 0)).mean() * 100\n",
    "#\n",
    "#    print(f\"--- {df_name} ---\")\n",
    "#    print(f\"Female: {female_pct:.2f}%\")\n",
    "#    print(f\"Non-German: {non_german_pct:.2f}%\")\n",
    "#    print(f\"Non-German Male: {non_german_male_pct:.2f}%\")\n",
    "#    print(f\"Non-German Female: {non_german_female_pct:.2f}%\\n\")\n",
    "#\n",
    "## Calculate for each DataFrame\n",
    "#calculate_percentages(siab_calib, \"siab_calib\")\n",
    "#calculate_percentages(siab_test, \"siab_test\")\n",
    "#calculate_percentages(siab_train, \"siab_train\")"
   ]
  },
  {
   "cell_type": "markdown",
   "id": "0a4a1b33",
   "metadata": {
    "papermill": {
     "duration": 0.024008,
     "end_time": "2025-07-30T21:45:14.635623",
     "exception": false,
     "start_time": "2025-07-30T21:45:14.611615",
     "status": "completed"
    },
    "tags": []
   },
   "source": [
    "# Preprocessing Data"
   ]
  },
  {
   "cell_type": "code",
   "execution_count": 29,
   "id": "ca879031",
   "metadata": {
    "execution": {
     "iopub.execute_input": "2025-07-30T21:45:14.681842Z",
     "iopub.status.busy": "2025-07-30T21:45:14.681446Z",
     "iopub.status.idle": "2025-07-30T21:45:14.687444Z",
     "shell.execute_reply": "2025-07-30T21:45:14.686471Z"
    },
    "papermill": {
     "duration": 0.02972,
     "end_time": "2025-07-30T21:45:14.688874",
     "exception": false,
     "start_time": "2025-07-30T21:45:14.659154",
     "status": "completed"
    },
    "tags": []
   },
   "outputs": [],
   "source": [
    "# EXCLUDE PROTECTED FEATURES\n",
    "# ----------------------\n",
    "# \"exclude_features\": \"none\", # \"nationality\", \"sex\", \"nationality-sex\"\n",
    "\n",
    "excluded_features = universe[\"exclude_features\"].split(\"-\") # split, e.g.: \"nationality-sex\" -> [\"nationality\", \"sex\"]\n",
    "excluded_features_dictionary = {\n",
    "    \"nationality\": [\"maxdeutsch1\", \"maxdeutsch.Missing.\"],\n",
    "    \"sex\": [\"frau1\"],\n",
    "    \"age\": [\"age\"],\n",
    "}\n"
   ]
  },
  {
   "cell_type": "code",
   "execution_count": 30,
   "id": "b745ac60",
   "metadata": {
    "execution": {
     "iopub.execute_input": "2025-07-30T21:45:14.717019Z",
     "iopub.status.busy": "2025-07-30T21:45:14.716517Z",
     "iopub.status.idle": "2025-07-30T21:45:14.732323Z",
     "shell.execute_reply": "2025-07-30T21:45:14.731440Z"
    },
    "papermill": {
     "duration": 0.030446,
     "end_time": "2025-07-30T21:45:14.733807",
     "exception": false,
     "start_time": "2025-07-30T21:45:14.703361",
     "status": "completed"
    },
    "tags": []
   },
   "outputs": [],
   "source": [
    "# Code nice names to column names\n",
    "\n",
    "excluded_features_columns = [\n",
    "    excluded_features_dictionary[f] for f in excluded_features if len(f) > 0 and f != \"none\"\n",
    "]"
   ]
  },
  {
   "cell_type": "code",
   "execution_count": 31,
   "id": "f84f73a2",
   "metadata": {
    "execution": {
     "iopub.execute_input": "2025-07-30T21:45:14.759753Z",
     "iopub.status.busy": "2025-07-30T21:45:14.759253Z",
     "iopub.status.idle": "2025-07-30T21:45:14.764873Z",
     "shell.execute_reply": "2025-07-30T21:45:14.764177Z"
    },
    "papermill": {
     "duration": 0.019565,
     "end_time": "2025-07-30T21:45:14.766210",
     "exception": false,
     "start_time": "2025-07-30T21:45:14.746645",
     "status": "completed"
    },
    "tags": []
   },
   "outputs": [],
   "source": [
    "from utils import flatten_once\n",
    "\n",
    "excluded_features_columns = flatten_once(excluded_features_columns)"
   ]
  },
  {
   "cell_type": "code",
   "execution_count": 32,
   "id": "884dea22",
   "metadata": {
    "execution": {
     "iopub.execute_input": "2025-07-30T21:45:14.791448Z",
     "iopub.status.busy": "2025-07-30T21:45:14.790950Z",
     "iopub.status.idle": "2025-07-30T21:45:14.798286Z",
     "shell.execute_reply": "2025-07-30T21:45:14.797493Z"
    },
    "papermill": {
     "duration": 0.021005,
     "end_time": "2025-07-30T21:45:14.799549",
     "exception": false,
     "start_time": "2025-07-30T21:45:14.778544",
     "status": "completed"
    },
    "tags": []
   },
   "outputs": [
    {
     "name": "stdout",
     "output_type": "stream",
     "text": [
      "Dropping features: ['maxdeutsch1', 'maxdeutsch.Missing.', 'frau1']\n"
     ]
    }
   ],
   "source": [
    "if len(excluded_features_columns) > 0:\n",
    "    print(f\"Dropping features: {excluded_features_columns}\")\n",
    "    X_train.drop(excluded_features_columns, axis=1, inplace=True)"
   ]
  },
  {
   "cell_type": "code",
   "execution_count": 33,
   "id": "95ab8b16",
   "metadata": {
    "execution": {
     "iopub.execute_input": "2025-07-30T21:45:14.836931Z",
     "iopub.status.busy": "2025-07-30T21:45:14.836336Z",
     "iopub.status.idle": "2025-07-30T21:45:14.885295Z",
     "shell.execute_reply": "2025-07-30T21:45:14.884367Z"
    },
    "papermill": {
     "duration": 0.07096,
     "end_time": "2025-07-30T21:45:14.886595",
     "exception": false,
     "start_time": "2025-07-30T21:45:14.815635",
     "status": "completed"
    },
    "tags": []
   },
   "outputs": [
    {
     "name": "stdout",
     "output_type": "stream",
     "text": [
      "Dropping features: ['maxdeutsch1', 'maxdeutsch.Missing.', 'frau1']\n"
     ]
    }
   ],
   "source": [
    "if len(excluded_features_columns) > 0:\n",
    "    print(f\"Dropping features: {excluded_features_columns}\")\n",
    "    X_test.drop(excluded_features_columns, axis=1, inplace=True)"
   ]
  },
  {
   "cell_type": "code",
   "execution_count": 34,
   "id": "1853aaf5-fb9f-46cb-a2b5-8ea4ae2237e4",
   "metadata": {
    "execution": {
     "iopub.execute_input": "2025-07-30T21:45:14.931310Z",
     "iopub.status.busy": "2025-07-30T21:45:14.930881Z",
     "iopub.status.idle": "2025-07-30T21:45:14.982749Z",
     "shell.execute_reply": "2025-07-30T21:45:14.981737Z"
    },
    "papermill": {
     "duration": 0.075538,
     "end_time": "2025-07-30T21:45:14.984631",
     "exception": false,
     "start_time": "2025-07-30T21:45:14.909093",
     "status": "completed"
    },
    "tags": []
   },
   "outputs": [
    {
     "name": "stdout",
     "output_type": "stream",
     "text": [
      "Dropping features: ['maxdeutsch1', 'maxdeutsch.Missing.', 'frau1']\n"
     ]
    }
   ],
   "source": [
    "if len(excluded_features_columns) > 0:\n",
    "    print(f\"Dropping features: {excluded_features_columns}\")\n",
    "    X_calib.drop(excluded_features_columns, axis=1, inplace=True)"
   ]
  },
  {
   "cell_type": "code",
   "execution_count": 35,
   "id": "6727d079-03e5-481e-9d38-292a90b7a0a8",
   "metadata": {
    "execution": {
     "iopub.execute_input": "2025-07-30T21:45:15.049769Z",
     "iopub.status.busy": "2025-07-30T21:45:15.049163Z",
     "iopub.status.idle": "2025-07-30T21:45:15.055444Z",
     "shell.execute_reply": "2025-07-30T21:45:15.054413Z"
    },
    "papermill": {
     "duration": 0.042338,
     "end_time": "2025-07-30T21:45:15.057469",
     "exception": false,
     "start_time": "2025-07-30T21:45:15.015131",
     "status": "completed"
    },
    "tags": []
   },
   "outputs": [],
   "source": [
    "# SPLIT & STRATIFY DATA\n",
    "# ----------------------"
   ]
  },
  {
   "cell_type": "code",
   "execution_count": 36,
   "id": "76c4dc6d",
   "metadata": {
    "execution": {
     "iopub.execute_input": "2025-07-30T21:45:15.121788Z",
     "iopub.status.busy": "2025-07-30T21:45:15.121201Z",
     "iopub.status.idle": "2025-07-30T21:45:15.127463Z",
     "shell.execute_reply": "2025-07-30T21:45:15.126398Z"
    },
    "papermill": {
     "duration": 0.040842,
     "end_time": "2025-07-30T21:45:15.129747",
     "exception": false,
     "start_time": "2025-07-30T21:45:15.088905",
     "status": "completed"
    },
    "tags": []
   },
   "outputs": [],
   "source": [
    "# EXCLUDE CERTAIN SUBGROUPS\n",
    "# ----------------------\n",
    "\n",
    "mode = universe.get(\"exclude_subgroups\", \"keep-all\") \n",
    "# Fetches the exclude_subgroups setting from the universe dict.\n",
    "# Defaults to \"keep-all\" if the key is missing."
   ]
  },
  {
   "cell_type": "code",
   "execution_count": 37,
   "id": "21994072",
   "metadata": {
    "execution": {
     "iopub.execute_input": "2025-07-30T21:45:15.189244Z",
     "iopub.status.busy": "2025-07-30T21:45:15.188835Z",
     "iopub.status.idle": "2025-07-30T21:45:15.195071Z",
     "shell.execute_reply": "2025-07-30T21:45:15.194344Z"
    },
    "papermill": {
     "duration": 0.042478,
     "end_time": "2025-07-30T21:45:15.196334",
     "exception": false,
     "start_time": "2025-07-30T21:45:15.153856",
     "status": "completed"
    },
    "tags": []
   },
   "outputs": [],
   "source": [
    "if mode == \"keep-all\":\n",
    "    keep_mask = pd.Series(True, index=org_train.index)\n",
    "\n",
    "# org_train contains the original feature columns from features_org (in Simson)\n",
    "# features_org contains unprocessed features, for me X_train at beginning ???\n",
    "# For keep-all, creates a boolean Series (keep_mask) of all True, so no rows are removed.\n",
    "\n",
    "elif mode == \"drop-non-german\":\n",
    "    keep_mask = org_train[\"maxdeutsch1\"] == 1 # ??? what about missing values?\n",
    "\n",
    "else:\n",
    "    raise ValueError(f\"Unsupported mode for exclude_subgroups: {mode}\")\n"
   ]
  },
  {
   "cell_type": "code",
   "execution_count": 38,
   "id": "71651440",
   "metadata": {
    "execution": {
     "iopub.execute_input": "2025-07-30T21:45:15.221090Z",
     "iopub.status.busy": "2025-07-30T21:45:15.220732Z",
     "iopub.status.idle": "2025-07-30T21:45:15.226512Z",
     "shell.execute_reply": "2025-07-30T21:45:15.225681Z"
    },
    "papermill": {
     "duration": 0.019494,
     "end_time": "2025-07-30T21:45:15.228064",
     "exception": false,
     "start_time": "2025-07-30T21:45:15.208570",
     "status": "completed"
    },
    "tags": []
   },
   "outputs": [],
   "source": [
    "n_drop = (~keep_mask).sum() # Calculates how many rows are set to be dropped\n",
    "if n_drop > 0:\n",
    "    pct = n_drop / len(keep_mask) * 100\n",
    "    print(f\"Dropping {n_drop} rows ({pct:.2f}%) where mode='{mode}'\")"
   ]
  },
  {
   "cell_type": "code",
   "execution_count": 39,
   "id": "5fb8eee5",
   "metadata": {
    "execution": {
     "iopub.execute_input": "2025-07-30T21:45:15.257418Z",
     "iopub.status.busy": "2025-07-30T21:45:15.256773Z",
     "iopub.status.idle": "2025-07-30T21:45:15.276431Z",
     "shell.execute_reply": "2025-07-30T21:45:15.263043Z"
    },
    "papermill": {
     "duration": 0.039414,
     "end_time": "2025-07-30T21:45:15.279218",
     "exception": false,
     "start_time": "2025-07-30T21:45:15.239804",
     "status": "completed"
    },
    "tags": []
   },
   "outputs": [],
   "source": [
    "X_train = X_train[keep_mask]"
   ]
  },
  {
   "cell_type": "code",
   "execution_count": 40,
   "id": "b202bb3a",
   "metadata": {
    "execution": {
     "iopub.execute_input": "2025-07-30T21:45:15.330149Z",
     "iopub.status.busy": "2025-07-30T21:45:15.329513Z",
     "iopub.status.idle": "2025-07-30T21:45:15.335845Z",
     "shell.execute_reply": "2025-07-30T21:45:15.334801Z"
    },
    "papermill": {
     "duration": 0.033369,
     "end_time": "2025-07-30T21:45:15.337678",
     "exception": false,
     "start_time": "2025-07-30T21:45:15.304309",
     "status": "completed"
    },
    "tags": []
   },
   "outputs": [],
   "source": [
    "y_train = y_train[keep_mask]"
   ]
  },
  {
   "cell_type": "markdown",
   "id": "493e2ac3",
   "metadata": {
    "papermill": {
     "duration": 0.024464,
     "end_time": "2025-07-30T21:45:15.386914",
     "exception": false,
     "start_time": "2025-07-30T21:45:15.362450",
     "status": "completed"
    },
    "tags": []
   },
   "source": [
    "# Model Training"
   ]
  },
  {
   "cell_type": "code",
   "execution_count": 41,
   "id": "679e1268",
   "metadata": {
    "execution": {
     "iopub.execute_input": "2025-07-30T21:45:15.439499Z",
     "iopub.status.busy": "2025-07-30T21:45:15.438924Z",
     "iopub.status.idle": "2025-07-30T21:45:15.549616Z",
     "shell.execute_reply": "2025-07-30T21:45:15.548541Z"
    },
    "papermill": {
     "duration": 0.13902,
     "end_time": "2025-07-30T21:45:15.551881",
     "exception": false,
     "start_time": "2025-07-30T21:45:15.412861",
     "status": "completed"
    },
    "tags": []
   },
   "outputs": [],
   "source": [
    "from sklearn.linear_model import LogisticRegression\n",
    "from sklearn.ensemble import GradientBoostingClassifier, RandomForestClassifier\n",
    "\n",
    "if (universe[\"model\"] == \"logreg\"):\n",
    "    model = LogisticRegression() #penalty=\"none\") #, solver=\"newton-cg\", max_iter=1) # include random_state=19 ?\n",
    "elif (universe[\"model\"] == \"penalized_logreg\"):\n",
    "    model = LogisticRegression(penalty=\"l2\", C=1.0) #, solver=\"newton-cg\", max_iter=1)\n",
    "elif (universe[\"model\"] == \"rf\"):\n",
    "    model = RandomForestClassifier(n_estimators=100, n_jobs=-1)\n",
    "elif (universe[\"model\"] == \"gbm\"):\n",
    "    model = GradientBoostingClassifier()\n",
    "elif (universe[\"model\"] == \"elasticnet\"):\n",
    "    model = LogisticRegression(penalty = 'elasticnet', solver = 'saga', l1_ratio = 0.5, max_iter=5000) # which solver to use?\n",
    "else:\n",
    "    raise \"Unsupported universe.model\""
   ]
  },
  {
   "cell_type": "code",
   "execution_count": 42,
   "id": "0cc8f744",
   "metadata": {
    "execution": {
     "iopub.execute_input": "2025-07-30T21:45:15.590895Z",
     "iopub.status.busy": "2025-07-30T21:45:15.590384Z",
     "iopub.status.idle": "2025-07-30T21:45:15.595991Z",
     "shell.execute_reply": "2025-07-30T21:45:15.595208Z"
    },
    "papermill": {
     "duration": 0.023057,
     "end_time": "2025-07-30T21:45:15.597453",
     "exception": false,
     "start_time": "2025-07-30T21:45:15.574396",
     "status": "completed"
    },
    "tags": []
   },
   "outputs": [],
   "source": [
    "import numpy as np\n",
    "from sklearn.pipeline import Pipeline\n",
    "from sklearn.preprocessing import StandardScaler\n",
    "\n",
    "model = Pipeline([\n",
    "    #(\"continuous_processor\", continuous_processor),\n",
    "    #(\"categorical_preprocessor\", categorical_preprocessor),\n",
    "    (\"scale\", StandardScaler() if universe[\"scale\"] == \"scale\" else None), \n",
    "    (\"model\", model),\n",
    "])"
   ]
  },
  {
   "cell_type": "code",
   "execution_count": 43,
   "id": "9442c04d",
   "metadata": {
    "execution": {
     "iopub.execute_input": "2025-07-30T21:45:15.624637Z",
     "iopub.status.busy": "2025-07-30T21:45:15.624113Z",
     "iopub.status.idle": "2025-07-30T21:45:15.689820Z",
     "shell.execute_reply": "2025-07-30T21:45:15.689026Z"
    },
    "papermill": {
     "duration": 0.08114,
     "end_time": "2025-07-30T21:45:15.691562",
     "exception": false,
     "start_time": "2025-07-30T21:45:15.610422",
     "status": "completed"
    },
    "tags": []
   },
   "outputs": [
    {
     "name": "stderr",
     "output_type": "stream",
     "text": [
      "/dss/dsshome1/0C/ra93lal2/.local/share/virtualenvs/CMA_Fairness_v2-3j10GkSs/lib/python3.10/site-packages/sklearn/linear_model/_logistic.py:444: ConvergenceWarning: lbfgs failed to converge (status=1):\n",
      "STOP: TOTAL NO. of ITERATIONS REACHED LIMIT.\n",
      "\n",
      "Increase the number of iterations (max_iter) or scale the data as shown in:\n",
      "    https://scikit-learn.org/stable/modules/preprocessing.html\n",
      "Please also refer to the documentation for alternative solver options:\n",
      "    https://scikit-learn.org/stable/modules/linear_model.html#logistic-regression\n",
      "  n_iter_i = _check_optimize_result(\n"
     ]
    },
    {
     "data": {
      "text/html": [
       "<style>#sk-container-id-1 {color: black;background-color: white;}#sk-container-id-1 pre{padding: 0;}#sk-container-id-1 div.sk-toggleable {background-color: white;}#sk-container-id-1 label.sk-toggleable__label {cursor: pointer;display: block;width: 100%;margin-bottom: 0;padding: 0.3em;box-sizing: border-box;text-align: center;}#sk-container-id-1 label.sk-toggleable__label-arrow:before {content: \"▸\";float: left;margin-right: 0.25em;color: #696969;}#sk-container-id-1 label.sk-toggleable__label-arrow:hover:before {color: black;}#sk-container-id-1 div.sk-estimator:hover label.sk-toggleable__label-arrow:before {color: black;}#sk-container-id-1 div.sk-toggleable__content {max-height: 0;max-width: 0;overflow: hidden;text-align: left;background-color: #f0f8ff;}#sk-container-id-1 div.sk-toggleable__content pre {margin: 0.2em;color: black;border-radius: 0.25em;background-color: #f0f8ff;}#sk-container-id-1 input.sk-toggleable__control:checked~div.sk-toggleable__content {max-height: 200px;max-width: 100%;overflow: auto;}#sk-container-id-1 input.sk-toggleable__control:checked~label.sk-toggleable__label-arrow:before {content: \"▾\";}#sk-container-id-1 div.sk-estimator input.sk-toggleable__control:checked~label.sk-toggleable__label {background-color: #d4ebff;}#sk-container-id-1 div.sk-label input.sk-toggleable__control:checked~label.sk-toggleable__label {background-color: #d4ebff;}#sk-container-id-1 input.sk-hidden--visually {border: 0;clip: rect(1px 1px 1px 1px);clip: rect(1px, 1px, 1px, 1px);height: 1px;margin: -1px;overflow: hidden;padding: 0;position: absolute;width: 1px;}#sk-container-id-1 div.sk-estimator {font-family: monospace;background-color: #f0f8ff;border: 1px dotted black;border-radius: 0.25em;box-sizing: border-box;margin-bottom: 0.5em;}#sk-container-id-1 div.sk-estimator:hover {background-color: #d4ebff;}#sk-container-id-1 div.sk-parallel-item::after {content: \"\";width: 100%;border-bottom: 1px solid gray;flex-grow: 1;}#sk-container-id-1 div.sk-label:hover label.sk-toggleable__label {background-color: #d4ebff;}#sk-container-id-1 div.sk-serial::before {content: \"\";position: absolute;border-left: 1px solid gray;box-sizing: border-box;top: 0;bottom: 0;left: 50%;z-index: 0;}#sk-container-id-1 div.sk-serial {display: flex;flex-direction: column;align-items: center;background-color: white;padding-right: 0.2em;padding-left: 0.2em;position: relative;}#sk-container-id-1 div.sk-item {position: relative;z-index: 1;}#sk-container-id-1 div.sk-parallel {display: flex;align-items: stretch;justify-content: center;background-color: white;position: relative;}#sk-container-id-1 div.sk-item::before, #sk-container-id-1 div.sk-parallel-item::before {content: \"\";position: absolute;border-left: 1px solid gray;box-sizing: border-box;top: 0;bottom: 0;left: 50%;z-index: -1;}#sk-container-id-1 div.sk-parallel-item {display: flex;flex-direction: column;z-index: 1;position: relative;background-color: white;}#sk-container-id-1 div.sk-parallel-item:first-child::after {align-self: flex-end;width: 50%;}#sk-container-id-1 div.sk-parallel-item:last-child::after {align-self: flex-start;width: 50%;}#sk-container-id-1 div.sk-parallel-item:only-child::after {width: 0;}#sk-container-id-1 div.sk-dashed-wrapped {border: 1px dashed gray;margin: 0 0.4em 0.5em 0.4em;box-sizing: border-box;padding-bottom: 0.4em;background-color: white;}#sk-container-id-1 div.sk-label label {font-family: monospace;font-weight: bold;display: inline-block;line-height: 1.2em;}#sk-container-id-1 div.sk-label-container {text-align: center;}#sk-container-id-1 div.sk-container {/* jupyter's `normalize.less` sets `[hidden] { display: none; }` but bootstrap.min.css set `[hidden] { display: none !important; }` so we also need the `!important` here to be able to override the default hidden behavior on the sphinx rendered scikit-learn.org. See: https://github.com/scikit-learn/scikit-learn/issues/21755 */display: inline-block !important;position: relative;}#sk-container-id-1 div.sk-text-repr-fallback {display: none;}</style><div id=\"sk-container-id-1\" class=\"sk-top-container\"><div class=\"sk-text-repr-fallback\"><pre>Pipeline(steps=[(&#x27;scale&#x27;, StandardScaler()), (&#x27;model&#x27;, LogisticRegression())])</pre><b>In a Jupyter environment, please rerun this cell to show the HTML representation or trust the notebook. <br />On GitHub, the HTML representation is unable to render, please try loading this page with nbviewer.org.</b></div><div class=\"sk-container\" hidden><div class=\"sk-item sk-dashed-wrapped\"><div class=\"sk-label-container\"><div class=\"sk-label sk-toggleable\"><input class=\"sk-toggleable__control sk-hidden--visually\" id=\"sk-estimator-id-1\" type=\"checkbox\" ><label for=\"sk-estimator-id-1\" class=\"sk-toggleable__label sk-toggleable__label-arrow\">Pipeline</label><div class=\"sk-toggleable__content\"><pre>Pipeline(steps=[(&#x27;scale&#x27;, StandardScaler()), (&#x27;model&#x27;, LogisticRegression())])</pre></div></div></div><div class=\"sk-serial\"><div class=\"sk-item\"><div class=\"sk-estimator sk-toggleable\"><input class=\"sk-toggleable__control sk-hidden--visually\" id=\"sk-estimator-id-2\" type=\"checkbox\" ><label for=\"sk-estimator-id-2\" class=\"sk-toggleable__label sk-toggleable__label-arrow\">StandardScaler</label><div class=\"sk-toggleable__content\"><pre>StandardScaler()</pre></div></div></div><div class=\"sk-item\"><div class=\"sk-estimator sk-toggleable\"><input class=\"sk-toggleable__control sk-hidden--visually\" id=\"sk-estimator-id-3\" type=\"checkbox\" ><label for=\"sk-estimator-id-3\" class=\"sk-toggleable__label sk-toggleable__label-arrow\">LogisticRegression</label><div class=\"sk-toggleable__content\"><pre>LogisticRegression()</pre></div></div></div></div></div></div></div>"
      ],
      "text/plain": [
       "Pipeline(steps=[('scale', StandardScaler()), ('model', LogisticRegression())])"
      ]
     },
     "execution_count": 43,
     "metadata": {},
     "output_type": "execute_result"
    }
   ],
   "source": [
    "model.fit(X_train, y_train.values.ravel())"
   ]
  },
  {
   "cell_type": "code",
   "execution_count": 44,
   "id": "af59f8c0",
   "metadata": {
    "execution": {
     "iopub.execute_input": "2025-07-30T21:45:15.760086Z",
     "iopub.status.busy": "2025-07-30T21:45:15.759516Z",
     "iopub.status.idle": "2025-07-30T21:45:15.766392Z",
     "shell.execute_reply": "2025-07-30T21:45:15.765155Z"
    },
    "papermill": {
     "duration": 0.035205,
     "end_time": "2025-07-30T21:45:15.768384",
     "exception": false,
     "start_time": "2025-07-30T21:45:15.733179",
     "status": "completed"
    },
    "tags": []
   },
   "outputs": [],
   "source": [
    "from fairness_multiverse.universe import predict_w_threshold"
   ]
  },
  {
   "cell_type": "code",
   "execution_count": 45,
   "id": "a7cf2e16",
   "metadata": {
    "execution": {
     "iopub.execute_input": "2025-07-30T21:45:15.822047Z",
     "iopub.status.busy": "2025-07-30T21:45:15.821523Z",
     "iopub.status.idle": "2025-07-30T21:45:16.016515Z",
     "shell.execute_reply": "2025-07-30T21:45:16.015448Z"
    },
    "papermill": {
     "duration": 0.224804,
     "end_time": "2025-07-30T21:45:16.018442",
     "exception": false,
     "start_time": "2025-07-30T21:45:15.793638",
     "status": "completed"
    },
    "tags": []
   },
   "outputs": [
    {
     "data": {
      "text/plain": [
       "0.8197190948612195"
      ]
     },
     "execution_count": 45,
     "metadata": {},
     "output_type": "execute_result"
    }
   ],
   "source": [
    "probs_test = model.predict_proba(X_test)\n",
    "\n",
    "'''\n",
    "Below code returns a boolean array (or binary 0/1 array depending on how it’s used) where each element \n",
    "is True if the probability of class 1 is greater than or equal to the threshold, and False otherwise.\n",
    "'''\n",
    "y_pred_default = predict_w_threshold(probs_test, 0.5)\n",
    "\n",
    "from sklearn.metrics import accuracy_score\n",
    "\n",
    "# Naive prediction\n",
    "accuracy_score(y_true = y_true, y_pred = y_pred_default)"
   ]
  },
  {
   "cell_type": "code",
   "execution_count": 46,
   "id": "081964c3",
   "metadata": {
    "execution": {
     "iopub.execute_input": "2025-07-30T21:45:16.074701Z",
     "iopub.status.busy": "2025-07-30T21:45:16.074099Z",
     "iopub.status.idle": "2025-07-30T21:45:16.303510Z",
     "shell.execute_reply": "2025-07-30T21:45:16.302510Z"
    },
    "papermill": {
     "duration": 0.258579,
     "end_time": "2025-07-30T21:45:16.305033",
     "exception": false,
     "start_time": "2025-07-30T21:45:16.046454",
     "status": "completed"
    },
    "tags": []
   },
   "outputs": [
    {
     "data": {
      "text/plain": [
       "array([0, 0, 0, ..., 0, 0, 0])"
      ]
     },
     "execution_count": 46,
     "metadata": {},
     "output_type": "execute_result"
    }
   ],
   "source": [
    "model.predict(X_test)"
   ]
  },
  {
   "cell_type": "markdown",
   "id": "56c9705b",
   "metadata": {
    "papermill": {
     "duration": 0.022735,
     "end_time": "2025-07-30T21:45:16.355187",
     "exception": false,
     "start_time": "2025-07-30T21:45:16.332452",
     "status": "completed"
    },
    "tags": []
   },
   "source": [
    "# Conformal Prediction"
   ]
  },
  {
   "cell_type": "code",
   "execution_count": 47,
   "id": "160ec6ff",
   "metadata": {
    "execution": {
     "iopub.execute_input": "2025-07-30T21:45:16.406427Z",
     "iopub.status.busy": "2025-07-30T21:45:16.405918Z",
     "iopub.status.idle": "2025-07-30T21:45:16.411954Z",
     "shell.execute_reply": "2025-07-30T21:45:16.410826Z"
    },
    "papermill": {
     "duration": 0.033682,
     "end_time": "2025-07-30T21:45:16.413740",
     "exception": false,
     "start_time": "2025-07-30T21:45:16.380058",
     "status": "completed"
    },
    "tags": []
   },
   "outputs": [],
   "source": [
    "# Miscoverage level for conformal prediction (10% allowed error rate => 90% target coverage)\n",
    "alpha = 0.1"
   ]
  },
  {
   "cell_type": "code",
   "execution_count": 48,
   "id": "eadf4555-3dd3-440e-8e35-f82a4ad9f855",
   "metadata": {
    "execution": {
     "iopub.execute_input": "2025-07-30T21:45:16.466454Z",
     "iopub.status.busy": "2025-07-30T21:45:16.465798Z",
     "iopub.status.idle": "2025-07-30T21:45:16.647868Z",
     "shell.execute_reply": "2025-07-30T21:45:16.646788Z"
    },
    "papermill": {
     "duration": 0.21069,
     "end_time": "2025-07-30T21:45:16.649942",
     "exception": false,
     "start_time": "2025-07-30T21:45:16.439252",
     "status": "completed"
    },
    "tags": []
   },
   "outputs": [],
   "source": [
    "probs_calib = model.predict_proba(X_calib)"
   ]
  },
  {
   "cell_type": "code",
   "execution_count": 49,
   "id": "2ed93547-6d5d-4983-9b36-1ecb300da49a",
   "metadata": {
    "execution": {
     "iopub.execute_input": "2025-07-30T21:45:16.719162Z",
     "iopub.status.busy": "2025-07-30T21:45:16.718652Z",
     "iopub.status.idle": "2025-07-30T21:45:16.724835Z",
     "shell.execute_reply": "2025-07-30T21:45:16.723659Z"
    },
    "papermill": {
     "duration": 0.033869,
     "end_time": "2025-07-30T21:45:16.726556",
     "exception": false,
     "start_time": "2025-07-30T21:45:16.692687",
     "status": "completed"
    },
    "tags": []
   },
   "outputs": [],
   "source": [
    "y_calib = y_calib.values.ravel().astype(int)"
   ]
  },
  {
   "cell_type": "code",
   "execution_count": 50,
   "id": "65d1320d-f588-4b38-9072-62af1ae97f7d",
   "metadata": {
    "execution": {
     "iopub.execute_input": "2025-07-30T21:45:16.772609Z",
     "iopub.status.busy": "2025-07-30T21:45:16.772085Z",
     "iopub.status.idle": "2025-07-30T21:45:16.779684Z",
     "shell.execute_reply": "2025-07-30T21:45:16.778679Z"
    },
    "papermill": {
     "duration": 0.038077,
     "end_time": "2025-07-30T21:45:16.781687",
     "exception": false,
     "start_time": "2025-07-30T21:45:16.743610",
     "status": "completed"
    },
    "tags": []
   },
   "outputs": [],
   "source": [
    "from fairness_multiverse.conformal import compute_nc_scores\n",
    "\n",
    "# Compute nonconformity scores on calibration set (1 - probability of true class)\n",
    "nc_scores = compute_nc_scores(probs_calib, y_calib)"
   ]
  },
  {
   "cell_type": "code",
   "execution_count": 51,
   "id": "df3b8ca3-53b7-43d5-9667-7c85da7aeda2",
   "metadata": {
    "execution": {
     "iopub.execute_input": "2025-07-30T21:45:16.833467Z",
     "iopub.status.busy": "2025-07-30T21:45:16.832712Z",
     "iopub.status.idle": "2025-07-30T21:45:16.840182Z",
     "shell.execute_reply": "2025-07-30T21:45:16.839131Z"
    },
    "papermill": {
     "duration": 0.033256,
     "end_time": "2025-07-30T21:45:16.841917",
     "exception": false,
     "start_time": "2025-07-30T21:45:16.808661",
     "status": "completed"
    },
    "tags": []
   },
   "outputs": [],
   "source": [
    "from fairness_multiverse.conformal import find_threshold\n",
    "\n",
    "# Find conformal threshold q_hat for the given alpha (split conformal method)\n",
    "q_hat = find_threshold(nc_scores, alpha)"
   ]
  },
  {
   "cell_type": "code",
   "execution_count": 52,
   "id": "4d29e6c1-0ef6-4aa4-b8fe-4fe79b0d033a",
   "metadata": {
    "execution": {
     "iopub.execute_input": "2025-07-30T21:45:16.894567Z",
     "iopub.status.busy": "2025-07-30T21:45:16.894110Z",
     "iopub.status.idle": "2025-07-30T21:45:16.900797Z",
     "shell.execute_reply": "2025-07-30T21:45:16.900066Z"
    },
    "papermill": {
     "duration": 0.033944,
     "end_time": "2025-07-30T21:45:16.902263",
     "exception": false,
     "start_time": "2025-07-30T21:45:16.868319",
     "status": "completed"
    },
    "tags": []
   },
   "outputs": [
    {
     "data": {
      "text/plain": [
       "0.7700452889990559"
      ]
     },
     "execution_count": 52,
     "metadata": {},
     "output_type": "execute_result"
    }
   ],
   "source": [
    "q_hat"
   ]
  },
  {
   "cell_type": "code",
   "execution_count": 53,
   "id": "92460794-cdac-4be2-ba28-f28c0515a6fb",
   "metadata": {
    "execution": {
     "iopub.execute_input": "2025-07-30T21:45:16.966586Z",
     "iopub.status.busy": "2025-07-30T21:45:16.965233Z",
     "iopub.status.idle": "2025-07-30T21:45:17.765182Z",
     "shell.execute_reply": "2025-07-30T21:45:17.763983Z"
    },
    "papermill": {
     "duration": 0.840904,
     "end_time": "2025-07-30T21:45:17.767174",
     "exception": false,
     "start_time": "2025-07-30T21:45:16.926270",
     "status": "completed"
    },
    "tags": []
   },
   "outputs": [],
   "source": [
    "from fairness_multiverse.conformal import predict_conformal_sets\n",
    "\n",
    "# Generate prediction sets for each test example\n",
    "pred_sets = predict_conformal_sets(model, X_test, q_hat)"
   ]
  },
  {
   "cell_type": "code",
   "execution_count": 54,
   "id": "d90c9a65-e6db-4f5d-80cd-e68fb7e46829",
   "metadata": {
    "execution": {
     "iopub.execute_input": "2025-07-30T21:45:17.826570Z",
     "iopub.status.busy": "2025-07-30T21:45:17.826064Z",
     "iopub.status.idle": "2025-07-30T21:45:17.832204Z",
     "shell.execute_reply": "2025-07-30T21:45:17.831210Z"
    },
    "papermill": {
     "duration": 0.038671,
     "end_time": "2025-07-30T21:45:17.833983",
     "exception": false,
     "start_time": "2025-07-30T21:45:17.795312",
     "status": "completed"
    },
    "tags": []
   },
   "outputs": [],
   "source": [
    "y_true = y_true.squeeze()"
   ]
  },
  {
   "cell_type": "code",
   "execution_count": 55,
   "id": "3a58a54a-1e68-46b9-927a-df01f18aebc8",
   "metadata": {
    "execution": {
     "iopub.execute_input": "2025-07-30T21:45:17.886805Z",
     "iopub.status.busy": "2025-07-30T21:45:17.886267Z",
     "iopub.status.idle": "2025-07-30T21:45:18.772387Z",
     "shell.execute_reply": "2025-07-30T21:45:18.771351Z"
    },
    "papermill": {
     "duration": 0.914182,
     "end_time": "2025-07-30T21:45:18.774195",
     "exception": false,
     "start_time": "2025-07-30T21:45:17.860013",
     "status": "completed"
    },
    "tags": []
   },
   "outputs": [],
   "source": [
    "from fairness_multiverse.conformal import evaluate_sets\n",
    "\n",
    "# Evaluate coverage and average set size on test data\n",
    "metrics = evaluate_sets(pred_sets, y_true)"
   ]
  },
  {
   "cell_type": "markdown",
   "id": "2b569c12-9aaa-4c88-98c9-bbcd0cf3ebb8",
   "metadata": {
    "papermill": {
     "duration": 0.023403,
     "end_time": "2025-07-30T21:45:18.822102",
     "exception": false,
     "start_time": "2025-07-30T21:45:18.798699",
     "status": "completed"
    },
    "tags": []
   },
   "source": [
    "# CP Metrics"
   ]
  },
  {
   "cell_type": "code",
   "execution_count": 56,
   "id": "5ce0a5cb-201f-45a0-ade5-94c7f0bd6095",
   "metadata": {
    "execution": {
     "iopub.execute_input": "2025-07-30T21:45:18.874942Z",
     "iopub.status.busy": "2025-07-30T21:45:18.874510Z",
     "iopub.status.idle": "2025-07-30T21:45:18.881578Z",
     "shell.execute_reply": "2025-07-30T21:45:18.880387Z"
    },
    "papermill": {
     "duration": 0.035614,
     "end_time": "2025-07-30T21:45:18.883412",
     "exception": false,
     "start_time": "2025-07-30T21:45:18.847798",
     "status": "completed"
    },
    "tags": []
   },
   "outputs": [
    {
     "data": {
      "text/plain": [
       "{'coverage': 0.9063983948277784, 'avg_size': 1.234912495819864}"
      ]
     },
     "execution_count": 56,
     "metadata": {},
     "output_type": "execute_result"
    }
   ],
   "source": [
    "metrics"
   ]
  },
  {
   "cell_type": "code",
   "execution_count": 57,
   "id": "9b9a838d-31c9-430b-ae14-12baee460d17",
   "metadata": {
    "execution": {
     "iopub.execute_input": "2025-07-30T21:45:18.914398Z",
     "iopub.status.busy": "2025-07-30T21:45:18.913893Z",
     "iopub.status.idle": "2025-07-30T21:45:18.919451Z",
     "shell.execute_reply": "2025-07-30T21:45:18.918656Z"
    },
    "papermill": {
     "duration": 0.022432,
     "end_time": "2025-07-30T21:45:18.921020",
     "exception": false,
     "start_time": "2025-07-30T21:45:18.898588",
     "status": "completed"
    },
    "tags": []
   },
   "outputs": [],
   "source": [
    "example_universe = universe.copy()\n",
    "universe_training_year = example_universe.get(\"training_year\")\n",
    "universe_training_size = example_universe.get(\"training_size\")\n",
    "universe_scale = example_universe.get(\"scale\")\n",
    "universe_model = example_universe.get(\"model\")\n",
    "universe_exclude_features = example_universe.get(\"exclude_features\")\n",
    "universe_exclude_subgroups = example_universe.get(\"exclude_subgroups\")"
   ]
  },
  {
   "cell_type": "code",
   "execution_count": 58,
   "id": "f4b6a8ac-9dc0-4245-8a91-5b3b5999c4f9",
   "metadata": {
    "execution": {
     "iopub.execute_input": "2025-07-30T21:45:18.950361Z",
     "iopub.status.busy": "2025-07-30T21:45:18.949864Z",
     "iopub.status.idle": "2025-07-30T21:45:18.955009Z",
     "shell.execute_reply": "2025-07-30T21:45:18.954284Z"
    },
    "papermill": {
     "duration": 0.02074,
     "end_time": "2025-07-30T21:45:18.956347",
     "exception": false,
     "start_time": "2025-07-30T21:45:18.935607",
     "status": "completed"
    },
    "tags": []
   },
   "outputs": [],
   "source": [
    "cp_metrics_dict = {\n",
    "    \"universe_id\": [universe_id],\n",
    "    \"universe_training_year\": [universe_training_year],\n",
    "    \"universe_training_size\": [universe_training_size],\n",
    "    \"universe_scale\": [universe_scale],\n",
    "    \"universe_model\": [universe_model],\n",
    "    \"universe_exclude_features\": [universe_exclude_features],\n",
    "    \"universe_exclude_subgroups\": [universe_exclude_subgroups],\n",
    "    \"q_hat\": [q_hat],\n",
    "    \"coverage\": [metrics[\"coverage\"]],\n",
    "    \"avg_size\": [metrics[\"avg_size\"]],\n",
    "}"
   ]
  },
  {
   "cell_type": "code",
   "execution_count": 59,
   "id": "908acbb1-0371-4915-85ca-3fa520d2efe2",
   "metadata": {
    "execution": {
     "iopub.execute_input": "2025-07-30T21:45:18.984720Z",
     "iopub.status.busy": "2025-07-30T21:45:18.984220Z",
     "iopub.status.idle": "2025-07-30T21:45:18.991202Z",
     "shell.execute_reply": "2025-07-30T21:45:18.990514Z"
    },
    "papermill": {
     "duration": 0.022061,
     "end_time": "2025-07-30T21:45:18.992555",
     "exception": false,
     "start_time": "2025-07-30T21:45:18.970494",
     "status": "completed"
    },
    "tags": []
   },
   "outputs": [
    {
     "data": {
      "text/plain": [
       "{'universe_id': ['2b421f124a18e9e6a87c17e0bda23f1b'],\n",
       " 'universe_training_year': ['2010_14'],\n",
       " 'universe_training_size': ['1k'],\n",
       " 'universe_scale': ['scale'],\n",
       " 'universe_model': ['penalized_logreg'],\n",
       " 'universe_exclude_features': ['nationality-sex'],\n",
       " 'universe_exclude_subgroups': ['keep-all'],\n",
       " 'q_hat': [0.7700452889990559],\n",
       " 'coverage': [0.9063983948277784],\n",
       " 'avg_size': [1.234912495819864]}"
      ]
     },
     "execution_count": 59,
     "metadata": {},
     "output_type": "execute_result"
    }
   ],
   "source": [
    "cp_metrics_dict"
   ]
  },
  {
   "cell_type": "code",
   "execution_count": 60,
   "id": "33007efc-14e9-4ec6-97ac-56a455c82265",
   "metadata": {
    "execution": {
     "iopub.execute_input": "2025-07-30T21:45:19.021914Z",
     "iopub.status.busy": "2025-07-30T21:45:19.021413Z",
     "iopub.status.idle": "2025-07-30T21:45:19.026987Z",
     "shell.execute_reply": "2025-07-30T21:45:19.026316Z"
    },
    "papermill": {
     "duration": 0.02144,
     "end_time": "2025-07-30T21:45:19.028476",
     "exception": false,
     "start_time": "2025-07-30T21:45:19.007036",
     "status": "completed"
    },
    "tags": []
   },
   "outputs": [],
   "source": [
    "cp_metrics_df = pd.DataFrame(cp_metrics_dict)"
   ]
  },
  {
   "cell_type": "code",
   "execution_count": 61,
   "id": "db12611b-57b2-4910-b9d0-355adfd6e7bf",
   "metadata": {
    "execution": {
     "iopub.execute_input": "2025-07-30T21:45:19.058466Z",
     "iopub.status.busy": "2025-07-30T21:45:19.057967Z",
     "iopub.status.idle": "2025-07-30T21:45:19.072858Z",
     "shell.execute_reply": "2025-07-30T21:45:19.071754Z"
    },
    "papermill": {
     "duration": 0.031197,
     "end_time": "2025-07-30T21:45:19.074564",
     "exception": false,
     "start_time": "2025-07-30T21:45:19.043367",
     "status": "completed"
    },
    "tags": []
   },
   "outputs": [
    {
     "data": {
      "text/html": [
       "<div>\n",
       "<style scoped>\n",
       "    .dataframe tbody tr th:only-of-type {\n",
       "        vertical-align: middle;\n",
       "    }\n",
       "\n",
       "    .dataframe tbody tr th {\n",
       "        vertical-align: top;\n",
       "    }\n",
       "\n",
       "    .dataframe thead th {\n",
       "        text-align: right;\n",
       "    }\n",
       "</style>\n",
       "<table border=\"1\" class=\"dataframe\">\n",
       "  <thead>\n",
       "    <tr style=\"text-align: right;\">\n",
       "      <th></th>\n",
       "      <th>universe_id</th>\n",
       "      <th>universe_training_year</th>\n",
       "      <th>universe_training_size</th>\n",
       "      <th>universe_scale</th>\n",
       "      <th>universe_model</th>\n",
       "      <th>universe_exclude_features</th>\n",
       "      <th>universe_exclude_subgroups</th>\n",
       "      <th>q_hat</th>\n",
       "      <th>coverage</th>\n",
       "      <th>avg_size</th>\n",
       "    </tr>\n",
       "  </thead>\n",
       "  <tbody>\n",
       "    <tr>\n",
       "      <th>0</th>\n",
       "      <td>2b421f124a18e9e6a87c17e0bda23f1b</td>\n",
       "      <td>2010_14</td>\n",
       "      <td>1k</td>\n",
       "      <td>scale</td>\n",
       "      <td>penalized_logreg</td>\n",
       "      <td>nationality-sex</td>\n",
       "      <td>keep-all</td>\n",
       "      <td>0.770045</td>\n",
       "      <td>0.906398</td>\n",
       "      <td>1.234912</td>\n",
       "    </tr>\n",
       "  </tbody>\n",
       "</table>\n",
       "</div>"
      ],
      "text/plain": [
       "                        universe_id universe_training_year  \\\n",
       "0  2b421f124a18e9e6a87c17e0bda23f1b                2010_14   \n",
       "\n",
       "  universe_training_size universe_scale    universe_model  \\\n",
       "0                     1k          scale  penalized_logreg   \n",
       "\n",
       "  universe_exclude_features universe_exclude_subgroups     q_hat  coverage  \\\n",
       "0           nationality-sex                   keep-all  0.770045  0.906398   \n",
       "\n",
       "   avg_size  \n",
       "0  1.234912  "
      ]
     },
     "execution_count": 61,
     "metadata": {},
     "output_type": "execute_result"
    }
   ],
   "source": [
    "cp_metrics_df"
   ]
  },
  {
   "cell_type": "code",
   "execution_count": 62,
   "id": "b7fbde55-a0a1-47e4-9af6-fe4a17fa8c61",
   "metadata": {
    "execution": {
     "iopub.execute_input": "2025-07-30T21:45:19.101352Z",
     "iopub.status.busy": "2025-07-30T21:45:19.100959Z",
     "iopub.status.idle": "2025-07-30T21:45:19.104966Z",
     "shell.execute_reply": "2025-07-30T21:45:19.104153Z"
    },
    "papermill": {
     "duration": 0.018877,
     "end_time": "2025-07-30T21:45:19.106369",
     "exception": false,
     "start_time": "2025-07-30T21:45:19.087492",
     "status": "completed"
    },
    "tags": []
   },
   "outputs": [],
   "source": [
    "# Conditional Coverage & looking at subgroups"
   ]
  },
  {
   "cell_type": "code",
   "execution_count": 63,
   "id": "027ae886-68dd-4141-96c7-805a5450e1ef",
   "metadata": {
    "execution": {
     "iopub.execute_input": "2025-07-30T21:45:19.146521Z",
     "iopub.status.busy": "2025-07-30T21:45:19.146078Z",
     "iopub.status.idle": "2025-07-30T21:45:19.414965Z",
     "shell.execute_reply": "2025-07-30T21:45:19.413902Z"
    },
    "papermill": {
     "duration": 0.29689,
     "end_time": "2025-07-30T21:45:19.417040",
     "exception": false,
     "start_time": "2025-07-30T21:45:19.120150",
     "status": "completed"
    },
    "tags": []
   },
   "outputs": [],
   "source": [
    "from fairness_multiverse.conformal import build_cp_groups\n",
    "\n",
    "cp_groups_df = build_cp_groups(pred_sets, y_true, X_test.index, org_test)\n",
    "#needs universe_id and setting"
   ]
  },
  {
   "cell_type": "code",
   "execution_count": 64,
   "id": "01d5802c-663a-4d1f-9d69-e036faaffbf7",
   "metadata": {
    "execution": {
     "iopub.execute_input": "2025-07-30T21:45:19.490556Z",
     "iopub.status.busy": "2025-07-30T21:45:19.489514Z",
     "iopub.status.idle": "2025-07-30T21:45:19.495471Z",
     "shell.execute_reply": "2025-07-30T21:45:19.494260Z"
    },
    "papermill": {
     "duration": 0.036406,
     "end_time": "2025-07-30T21:45:19.497533",
     "exception": false,
     "start_time": "2025-07-30T21:45:19.461127",
     "status": "completed"
    },
    "tags": []
   },
   "outputs": [],
   "source": [
    "#delete\n",
    "#cp_groups_df"
   ]
  },
  {
   "cell_type": "code",
   "execution_count": 65,
   "id": "fa424af1-d1eb-443d-b717-2d279ada8408",
   "metadata": {
    "execution": {
     "iopub.execute_input": "2025-07-30T21:45:19.549916Z",
     "iopub.status.busy": "2025-07-30T21:45:19.549059Z",
     "iopub.status.idle": "2025-07-30T21:45:19.555006Z",
     "shell.execute_reply": "2025-07-30T21:45:19.553871Z"
    },
    "papermill": {
     "duration": 0.036467,
     "end_time": "2025-07-30T21:45:19.556902",
     "exception": false,
     "start_time": "2025-07-30T21:45:19.520435",
     "status": "completed"
    },
    "tags": []
   },
   "outputs": [],
   "source": [
    "#delete\n",
    "#percentage = (cp_groups_df['nongerman_female'] == 1).mean() * 100\n",
    "#print(percentage)\n"
   ]
  },
  {
   "cell_type": "code",
   "execution_count": 66,
   "id": "6cbdab96-b2b2-45af-ad54-d0516db2e28d",
   "metadata": {
    "execution": {
     "iopub.execute_input": "2025-07-30T21:45:19.610866Z",
     "iopub.status.busy": "2025-07-30T21:45:19.610089Z",
     "iopub.status.idle": "2025-07-30T21:45:21.199802Z",
     "shell.execute_reply": "2025-07-30T21:45:21.198930Z"
    },
    "papermill": {
     "duration": 1.619721,
     "end_time": "2025-07-30T21:45:21.201693",
     "exception": false,
     "start_time": "2025-07-30T21:45:19.581972",
     "status": "completed"
    },
    "tags": []
   },
   "outputs": [],
   "source": [
    "# Define covered = 1 if true_label is in the predicted set\n",
    "cp_groups_df['covered'] = cp_groups_df.apply(\n",
    "    lambda r: int(r['true_label'] in r['pred_set']),\n",
    "    axis=1\n",
    ")"
   ]
  },
  {
   "cell_type": "code",
   "execution_count": 67,
   "id": "338ff529-1a6b-4b87-a931-8e4788d52aad",
   "metadata": {
    "execution": {
     "iopub.execute_input": "2025-07-30T21:45:21.257009Z",
     "iopub.status.busy": "2025-07-30T21:45:21.256122Z",
     "iopub.status.idle": "2025-07-30T21:45:21.261265Z",
     "shell.execute_reply": "2025-07-30T21:45:21.260272Z"
    },
    "papermill": {
     "duration": 0.035605,
     "end_time": "2025-07-30T21:45:21.262892",
     "exception": false,
     "start_time": "2025-07-30T21:45:21.227287",
     "status": "completed"
    },
    "tags": []
   },
   "outputs": [],
   "source": [
    "#cp_groups_df"
   ]
  },
  {
   "cell_type": "code",
   "execution_count": 68,
   "id": "90032e27-66df-4540-9169-4e89cfbaa758",
   "metadata": {
    "execution": {
     "iopub.execute_input": "2025-07-30T21:45:21.319403Z",
     "iopub.status.busy": "2025-07-30T21:45:21.318929Z",
     "iopub.status.idle": "2025-07-30T21:45:21.331331Z",
     "shell.execute_reply": "2025-07-30T21:45:21.330527Z"
    },
    "papermill": {
     "duration": 0.04413,
     "end_time": "2025-07-30T21:45:21.333365",
     "exception": false,
     "start_time": "2025-07-30T21:45:21.289235",
     "status": "completed"
    },
    "tags": []
   },
   "outputs": [],
   "source": [
    "subgroups = ['frau1','nongerman','nongerman_male','nongerman_female']\n",
    "\n",
    "# Conditional coverage for subgroup==1\n",
    "cond_coverage = {\n",
    "    g: cp_groups_df.loc[cp_groups_df[g]==1, 'covered'].mean()\n",
    "    for g in subgroups\n",
    "}"
   ]
  },
  {
   "cell_type": "code",
   "execution_count": 69,
   "id": "1e348fb1-b9c3-45bc-ba23-f016827a7e0d",
   "metadata": {
    "execution": {
     "iopub.execute_input": "2025-07-30T21:45:21.389657Z",
     "iopub.status.busy": "2025-07-30T21:45:21.388880Z",
     "iopub.status.idle": "2025-07-30T21:45:21.397000Z",
     "shell.execute_reply": "2025-07-30T21:45:21.395967Z"
    },
    "papermill": {
     "duration": 0.035745,
     "end_time": "2025-07-30T21:45:21.398590",
     "exception": false,
     "start_time": "2025-07-30T21:45:21.362845",
     "status": "completed"
    },
    "tags": []
   },
   "outputs": [
    {
     "data": {
      "text/plain": [
       "{'frau1': 0.9074268769375927,\n",
       " 'nongerman': 0.9146690619210689,\n",
       " 'nongerman_male': 0.9290281905791228,\n",
       " 'nongerman_female': 0.8909090909090909}"
      ]
     },
     "execution_count": 69,
     "metadata": {},
     "output_type": "execute_result"
    }
   ],
   "source": [
    "cond_coverage"
   ]
  },
  {
   "cell_type": "code",
   "execution_count": 70,
   "id": "f5093324-c3dd-4d63-bc4c-8d945e5c8bbb",
   "metadata": {
    "execution": {
     "iopub.execute_input": "2025-07-30T21:45:21.451542Z",
     "iopub.status.busy": "2025-07-30T21:45:21.450899Z",
     "iopub.status.idle": "2025-07-30T21:45:21.458665Z",
     "shell.execute_reply": "2025-07-30T21:45:21.457638Z"
    },
    "papermill": {
     "duration": 0.035625,
     "end_time": "2025-07-30T21:45:21.460309",
     "exception": false,
     "start_time": "2025-07-30T21:45:21.424684",
     "status": "completed"
    },
    "tags": []
   },
   "outputs": [],
   "source": [
    "for subgroup, cov in cond_coverage.items():\n",
    "    cp_metrics_df[f\"cov_{subgroup}\"] = cov"
   ]
  },
  {
   "cell_type": "code",
   "execution_count": 71,
   "id": "6e872e10-dbe5-49e8-b554-5030c98ff75d",
   "metadata": {
    "execution": {
     "iopub.execute_input": "2025-07-30T21:45:21.513705Z",
     "iopub.status.busy": "2025-07-30T21:45:21.512943Z",
     "iopub.status.idle": "2025-07-30T21:45:21.531071Z",
     "shell.execute_reply": "2025-07-30T21:45:21.530226Z"
    },
    "papermill": {
     "duration": 0.046893,
     "end_time": "2025-07-30T21:45:21.533161",
     "exception": false,
     "start_time": "2025-07-30T21:45:21.486268",
     "status": "completed"
    },
    "tags": []
   },
   "outputs": [
    {
     "data": {
      "text/html": [
       "<div>\n",
       "<style scoped>\n",
       "    .dataframe tbody tr th:only-of-type {\n",
       "        vertical-align: middle;\n",
       "    }\n",
       "\n",
       "    .dataframe tbody tr th {\n",
       "        vertical-align: top;\n",
       "    }\n",
       "\n",
       "    .dataframe thead th {\n",
       "        text-align: right;\n",
       "    }\n",
       "</style>\n",
       "<table border=\"1\" class=\"dataframe\">\n",
       "  <thead>\n",
       "    <tr style=\"text-align: right;\">\n",
       "      <th></th>\n",
       "      <th>universe_id</th>\n",
       "      <th>universe_training_year</th>\n",
       "      <th>universe_training_size</th>\n",
       "      <th>universe_scale</th>\n",
       "      <th>universe_model</th>\n",
       "      <th>universe_exclude_features</th>\n",
       "      <th>universe_exclude_subgroups</th>\n",
       "      <th>q_hat</th>\n",
       "      <th>coverage</th>\n",
       "      <th>avg_size</th>\n",
       "      <th>cov_frau1</th>\n",
       "      <th>cov_nongerman</th>\n",
       "      <th>cov_nongerman_male</th>\n",
       "      <th>cov_nongerman_female</th>\n",
       "    </tr>\n",
       "  </thead>\n",
       "  <tbody>\n",
       "    <tr>\n",
       "      <th>0</th>\n",
       "      <td>2b421f124a18e9e6a87c17e0bda23f1b</td>\n",
       "      <td>2010_14</td>\n",
       "      <td>1k</td>\n",
       "      <td>scale</td>\n",
       "      <td>penalized_logreg</td>\n",
       "      <td>nationality-sex</td>\n",
       "      <td>keep-all</td>\n",
       "      <td>0.770045</td>\n",
       "      <td>0.906398</td>\n",
       "      <td>1.234912</td>\n",
       "      <td>0.907427</td>\n",
       "      <td>0.914669</td>\n",
       "      <td>0.929028</td>\n",
       "      <td>0.890909</td>\n",
       "    </tr>\n",
       "  </tbody>\n",
       "</table>\n",
       "</div>"
      ],
      "text/plain": [
       "                        universe_id universe_training_year  \\\n",
       "0  2b421f124a18e9e6a87c17e0bda23f1b                2010_14   \n",
       "\n",
       "  universe_training_size universe_scale    universe_model  \\\n",
       "0                     1k          scale  penalized_logreg   \n",
       "\n",
       "  universe_exclude_features universe_exclude_subgroups     q_hat  coverage  \\\n",
       "0           nationality-sex                   keep-all  0.770045  0.906398   \n",
       "\n",
       "   avg_size  cov_frau1  cov_nongerman  cov_nongerman_male  \\\n",
       "0  1.234912   0.907427       0.914669            0.929028   \n",
       "\n",
       "   cov_nongerman_female  \n",
       "0              0.890909  "
      ]
     },
     "execution_count": 71,
     "metadata": {},
     "output_type": "execute_result"
    }
   ],
   "source": [
    "cp_metrics_df"
   ]
  },
  {
   "cell_type": "markdown",
   "id": "33774451",
   "metadata": {
    "papermill": {
     "duration": 0.026127,
     "end_time": "2025-07-30T21:45:21.586396",
     "exception": false,
     "start_time": "2025-07-30T21:45:21.560269",
     "status": "completed"
    },
    "tags": []
   },
   "source": [
    "# (Fairness) Metrics"
   ]
  },
  {
   "cell_type": "code",
   "execution_count": 72,
   "id": "debc5d62",
   "metadata": {
    "execution": {
     "iopub.execute_input": "2025-07-30T21:45:21.639403Z",
     "iopub.status.busy": "2025-07-30T21:45:21.638931Z",
     "iopub.status.idle": "2025-07-30T21:45:21.660784Z",
     "shell.execute_reply": "2025-07-30T21:45:21.659653Z"
    },
    "papermill": {
     "duration": 0.049933,
     "end_time": "2025-07-30T21:45:21.662543",
     "exception": false,
     "start_time": "2025-07-30T21:45:21.612610",
     "status": "completed"
    },
    "tags": []
   },
   "outputs": [],
   "source": [
    "# do I need to include maxdeutsch1.missing?\n",
    "\n",
    "import numpy as np\n",
    "\n",
    "colname_to_bin = \"maxdeutsch1\"\n",
    "majority_value = org_train[colname_to_bin].mode()[0]\n",
    "\n",
    "org_test[\"majmin\"] = np.where(org_test[colname_to_bin] == majority_value, \"majority\", \"minority\")"
   ]
  },
  {
   "cell_type": "code",
   "execution_count": 73,
   "id": "06a50de5",
   "metadata": {
    "execution": {
     "iopub.execute_input": "2025-07-30T21:45:21.718643Z",
     "iopub.status.busy": "2025-07-30T21:45:21.717826Z",
     "iopub.status.idle": "2025-07-30T21:45:24.328008Z",
     "shell.execute_reply": "2025-07-30T21:45:24.327278Z"
    },
    "papermill": {
     "duration": 2.637628,
     "end_time": "2025-07-30T21:45:24.329708",
     "exception": false,
     "start_time": "2025-07-30T21:45:21.692080",
     "status": "completed"
    },
    "tags": []
   },
   "outputs": [],
   "source": [
    "example_universe = universe.copy()\n",
    "example_universe[\"cutoff\"] = example_universe[\"cutoff\"][0]\n",
    "example_universe[\"eval_fairness_grouping\"] = example_universe[\"eval_fairness_grouping\"][0]\n",
    "fairness_dict, metric_frame = universe_analysis.compute_metrics(\n",
    "    example_universe,\n",
    "    y_pred_prob=probs_test,\n",
    "    y_test=y_true,\n",
    "    org_test=org_test,\n",
    ")"
   ]
  },
  {
   "cell_type": "markdown",
   "id": "f95d4e02",
   "metadata": {
    "papermill": {
     "duration": 0.02537,
     "end_time": "2025-07-30T21:45:24.381309",
     "exception": false,
     "start_time": "2025-07-30T21:45:24.355939",
     "status": "completed"
    },
    "tags": []
   },
   "source": [
    "# Overall"
   ]
  },
  {
   "cell_type": "markdown",
   "id": "bdee4871",
   "metadata": {
    "papermill": {
     "duration": 0.026277,
     "end_time": "2025-07-30T21:45:24.434660",
     "exception": false,
     "start_time": "2025-07-30T21:45:24.408383",
     "status": "completed"
    },
    "tags": []
   },
   "source": [
    "Fairness\n",
    "Main fairness target: Equalized Odds. Seems to be a better fit than equal opportunity, since we're not only interested in Y = 1. Seems to be a better fit than demographic parity, since we also care about accuracy, not just equal distribution of preds.\n",
    "\n",
    "Pick column for computation of fairness metrics\n",
    "\n",
    "Performance\n",
    "Overall performance measures, most interesting in relation to the measures split by group below"
   ]
  },
  {
   "cell_type": "code",
   "execution_count": 74,
   "id": "c4e067c6",
   "metadata": {
    "execution": {
     "iopub.execute_input": "2025-07-30T21:45:24.488504Z",
     "iopub.status.busy": "2025-07-30T21:45:24.487902Z",
     "iopub.status.idle": "2025-07-30T21:45:24.497085Z",
     "shell.execute_reply": "2025-07-30T21:45:24.496107Z"
    },
    "papermill": {
     "duration": 0.038592,
     "end_time": "2025-07-30T21:45:24.498754",
     "exception": false,
     "start_time": "2025-07-30T21:45:24.460162",
     "status": "completed"
    },
    "tags": []
   },
   "outputs": [
    {
     "data": {
      "text/plain": [
       "accuracy                   0.218359\n",
       "balanced accuracy          0.535178\n",
       "f1                         0.239856\n",
       "precision                  0.137022\n",
       "false positive rate        0.890975\n",
       "false negative rate        0.038669\n",
       "selection rate             0.900000\n",
       "count                  89710.000000\n",
       "dtype: float64"
      ]
     },
     "execution_count": 74,
     "metadata": {},
     "output_type": "execute_result"
    }
   ],
   "source": [
    "metric_frame.overall"
   ]
  },
  {
   "cell_type": "markdown",
   "id": "e968fe9d",
   "metadata": {
    "papermill": {
     "duration": 0.025758,
     "end_time": "2025-07-30T21:45:24.551541",
     "exception": false,
     "start_time": "2025-07-30T21:45:24.525783",
     "status": "completed"
    },
    "tags": []
   },
   "source": [
    "By Group"
   ]
  },
  {
   "cell_type": "code",
   "execution_count": 75,
   "id": "ec325bce",
   "metadata": {
    "execution": {
     "iopub.execute_input": "2025-07-30T21:45:24.604427Z",
     "iopub.status.busy": "2025-07-30T21:45:24.603780Z",
     "iopub.status.idle": "2025-07-30T21:45:24.620242Z",
     "shell.execute_reply": "2025-07-30T21:45:24.619206Z"
    },
    "papermill": {
     "duration": 0.045002,
     "end_time": "2025-07-30T21:45:24.621978",
     "exception": false,
     "start_time": "2025-07-30T21:45:24.576976",
     "status": "completed"
    },
    "tags": []
   },
   "outputs": [
    {
     "data": {
      "text/html": [
       "<div>\n",
       "<style scoped>\n",
       "    .dataframe tbody tr th:only-of-type {\n",
       "        vertical-align: middle;\n",
       "    }\n",
       "\n",
       "    .dataframe tbody tr th {\n",
       "        vertical-align: top;\n",
       "    }\n",
       "\n",
       "    .dataframe thead th {\n",
       "        text-align: right;\n",
       "    }\n",
       "</style>\n",
       "<table border=\"1\" class=\"dataframe\">\n",
       "  <thead>\n",
       "    <tr style=\"text-align: right;\">\n",
       "      <th></th>\n",
       "      <th>accuracy</th>\n",
       "      <th>balanced accuracy</th>\n",
       "      <th>f1</th>\n",
       "      <th>precision</th>\n",
       "      <th>false positive rate</th>\n",
       "      <th>false negative rate</th>\n",
       "      <th>selection rate</th>\n",
       "      <th>count</th>\n",
       "    </tr>\n",
       "    <tr>\n",
       "      <th>majmin</th>\n",
       "      <th></th>\n",
       "      <th></th>\n",
       "      <th></th>\n",
       "      <th></th>\n",
       "      <th></th>\n",
       "      <th></th>\n",
       "      <th></th>\n",
       "      <th></th>\n",
       "    </tr>\n",
       "  </thead>\n",
       "  <tbody>\n",
       "    <tr>\n",
       "      <th>majority</th>\n",
       "      <td>0.231488</td>\n",
       "      <td>0.539755</td>\n",
       "      <td>0.247949</td>\n",
       "      <td>0.142386</td>\n",
       "      <td>0.879244</td>\n",
       "      <td>0.041247</td>\n",
       "      <td>0.889750</td>\n",
       "      <td>69170.0</td>\n",
       "    </tr>\n",
       "    <tr>\n",
       "      <th>minority</th>\n",
       "      <td>0.174148</td>\n",
       "      <td>0.520778</td>\n",
       "      <td>0.213328</td>\n",
       "      <td>0.119823</td>\n",
       "      <td>0.929727</td>\n",
       "      <td>0.028716</td>\n",
       "      <td>0.934518</td>\n",
       "      <td>20540.0</td>\n",
       "    </tr>\n",
       "  </tbody>\n",
       "</table>\n",
       "</div>"
      ],
      "text/plain": [
       "          accuracy  balanced accuracy        f1  precision  \\\n",
       "majmin                                                       \n",
       "majority  0.231488           0.539755  0.247949   0.142386   \n",
       "minority  0.174148           0.520778  0.213328   0.119823   \n",
       "\n",
       "          false positive rate  false negative rate  selection rate    count  \n",
       "majmin                                                                       \n",
       "majority             0.879244             0.041247        0.889750  69170.0  \n",
       "minority             0.929727             0.028716        0.934518  20540.0  "
      ]
     },
     "execution_count": 75,
     "metadata": {},
     "output_type": "execute_result"
    }
   ],
   "source": [
    "metric_frame.by_group"
   ]
  },
  {
   "cell_type": "code",
   "execution_count": 76,
   "id": "a9ddbe63",
   "metadata": {
    "execution": {
     "iopub.execute_input": "2025-07-30T21:45:24.676762Z",
     "iopub.status.busy": "2025-07-30T21:45:24.676278Z",
     "iopub.status.idle": "2025-07-30T21:45:26.956525Z",
     "shell.execute_reply": "2025-07-30T21:45:26.955585Z"
    },
    "papermill": {
     "duration": 2.308444,
     "end_time": "2025-07-30T21:45:26.958198",
     "exception": false,
     "start_time": "2025-07-30T21:45:24.649754",
     "status": "completed"
    },
    "tags": []
   },
   "outputs": [
    {
     "data": {
      "text/plain": [
       "array([[<Axes: title={'center': 'accuracy'}, xlabel='majmin'>,\n",
       "        <Axes: title={'center': 'balanced accuracy'}, xlabel='majmin'>,\n",
       "        <Axes: title={'center': 'f1'}, xlabel='majmin'>],\n",
       "       [<Axes: title={'center': 'precision'}, xlabel='majmin'>,\n",
       "        <Axes: title={'center': 'false positive rate'}, xlabel='majmin'>,\n",
       "        <Axes: title={'center': 'false negative rate'}, xlabel='majmin'>],\n",
       "       [<Axes: title={'center': 'selection rate'}, xlabel='majmin'>,\n",
       "        <Axes: title={'center': 'count'}, xlabel='majmin'>,\n",
       "        <Axes: xlabel='majmin'>]], dtype=object)"
      ]
     },
     "execution_count": 76,
     "metadata": {},
     "output_type": "execute_result"
    },
    {
     "data": {
      "image/png": "[encoded data removed]",
      "text/plain": [
       "<Figure size 1200x800 with 9 Axes>"
      ]
     },
     "metadata": {},
     "output_type": "display_data"
    }
   ],
   "source": [
    "# In a graphic\n",
    "metric_frame.by_group.plot.bar(\n",
    "    subplots=True,\n",
    "    layout=[3, 3],\n",
    "    legend=False,\n",
    "    figsize=[12, 8],\n",
    "    title=\"Show all metrics\",\n",
    ")"
   ]
  },
  {
   "cell_type": "markdown",
   "id": "f57a0bac",
   "metadata": {
    "papermill": {
     "duration": 0.027741,
     "end_time": "2025-07-30T21:45:27.015415",
     "exception": false,
     "start_time": "2025-07-30T21:45:26.987674",
     "status": "completed"
    },
    "tags": []
   },
   "source": [
    "# Final Output"
   ]
  },
  {
   "cell_type": "code",
   "execution_count": 77,
   "id": "96d280a3",
   "metadata": {
    "execution": {
     "iopub.execute_input": "2025-07-30T21:45:27.071035Z",
     "iopub.status.busy": "2025-07-30T21:45:27.070425Z",
     "iopub.status.idle": "2025-07-30T21:45:27.079349Z",
     "shell.execute_reply": "2025-07-30T21:45:27.078471Z"
    },
    "papermill": {
     "duration": 0.038465,
     "end_time": "2025-07-30T21:45:27.080926",
     "exception": false,
     "start_time": "2025-07-30T21:45:27.042461",
     "status": "completed"
    },
    "tags": []
   },
   "outputs": [
    {
     "data": {
      "text/plain": [
       "4"
      ]
     },
     "execution_count": 77,
     "metadata": {},
     "output_type": "execute_result"
    }
   ],
   "source": [
    "sub_universes = universe_analysis.generate_sub_universes()\n",
    "len(sub_universes)"
   ]
  },
  {
   "cell_type": "code",
   "execution_count": 78,
   "id": "92adf7ba",
   "metadata": {
    "execution": {
     "iopub.execute_input": "2025-07-30T21:45:27.146997Z",
     "iopub.status.busy": "2025-07-30T21:45:27.146617Z",
     "iopub.status.idle": "2025-07-30T21:45:27.153579Z",
     "shell.execute_reply": "2025-07-30T21:45:27.152325Z"
    },
    "papermill": {
     "duration": 0.044332,
     "end_time": "2025-07-30T21:45:27.155870",
     "exception": false,
     "start_time": "2025-07-30T21:45:27.111538",
     "status": "completed"
    },
    "tags": []
   },
   "outputs": [],
   "source": [
    "def filter_sub_universe_data(sub_universe, org_test):\n",
    "    # Keep all rows — no filtering\n",
    "    keep_rows_mask = np.ones(org_test.shape[0], dtype=bool)\n",
    "\n",
    "    print(f\"[INFO] Keeping all rows: {keep_rows_mask.sum()} rows retained.\")\n",
    "    return keep_rows_mask"
   ]
  },
  {
   "cell_type": "code",
   "execution_count": 79,
   "id": "4a759155",
   "metadata": {
    "execution": {
     "iopub.execute_input": "2025-07-30T21:45:27.267232Z",
     "iopub.status.busy": "2025-07-30T21:45:27.266731Z",
     "iopub.status.idle": "2025-07-30T21:45:37.067324Z",
     "shell.execute_reply": "2025-07-30T21:45:37.066508Z"
    },
    "papermill": {
     "duration": 9.87271,
     "end_time": "2025-07-30T21:45:37.068692",
     "exception": false,
     "start_time": "2025-07-30T21:45:27.195982",
     "status": "completed"
    },
    "tags": []
   },
   "outputs": [
    {
     "name": "stdout",
     "output_type": "stream",
     "text": [
      "Stopping execution_time clock.\n",
      "[INFO] Keeping all rows: 89710 rows retained.\n"
     ]
    },
    {
     "name": "stdout",
     "output_type": "stream",
     "text": [
      "[INFO] Keeping all rows: 89710 rows retained.\n"
     ]
    },
    {
     "name": "stdout",
     "output_type": "stream",
     "text": [
      "[INFO] Keeping all rows: 89710 rows retained.\n"
     ]
    },
    {
     "name": "stdout",
     "output_type": "stream",
     "text": [
      "[INFO] Keeping all rows: 89710 rows retained.\n"
     ]
    },
    {
     "data": {
      "text/html": [
       "<div>\n",
       "<style scoped>\n",
       "    .dataframe tbody tr th:only-of-type {\n",
       "        vertical-align: middle;\n",
       "    }\n",
       "\n",
       "    .dataframe tbody tr th {\n",
       "        vertical-align: top;\n",
       "    }\n",
       "\n",
       "    .dataframe thead th {\n",
       "        text-align: right;\n",
       "    }\n",
       "</style>\n",
       "<table border=\"1\" class=\"dataframe\">\n",
       "  <thead>\n",
       "    <tr style=\"text-align: right;\">\n",
       "      <th></th>\n",
       "      <th>run_no</th>\n",
       "      <th>universe_id</th>\n",
       "      <th>universe_settings</th>\n",
       "      <th>execution_time</th>\n",
       "      <th>test_size_n</th>\n",
       "      <th>test_size_frac</th>\n",
       "      <th>fair_main_equalized_odds_difference</th>\n",
       "      <th>fair_main_equalized_odds_ratio</th>\n",
       "      <th>fair_main_demographic_parity_difference</th>\n",
       "      <th>fair_main_demographic_parity_ratio</th>\n",
       "      <th>...</th>\n",
       "      <th>perf_grp_precision_0</th>\n",
       "      <th>perf_grp_precision_1</th>\n",
       "      <th>perf_grp_false positive rate_0</th>\n",
       "      <th>perf_grp_false positive rate_1</th>\n",
       "      <th>perf_grp_false negative rate_0</th>\n",
       "      <th>perf_grp_false negative rate_1</th>\n",
       "      <th>perf_grp_selection rate_0</th>\n",
       "      <th>perf_grp_selection rate_1</th>\n",
       "      <th>perf_grp_count_0</th>\n",
       "      <th>perf_grp_count_1</th>\n",
       "    </tr>\n",
       "  </thead>\n",
       "  <tbody>\n",
       "    <tr>\n",
       "      <th>0</th>\n",
       "      <td>14</td>\n",
       "      <td>2b421f124a18e9e6a87c17e0bda23f1b</td>\n",
       "      <td>{\"cutoff\": \"quantile_0.1\", \"eval_fairness_grou...</td>\n",
       "      <td>28.816971</td>\n",
       "      <td>89710</td>\n",
       "      <td>1.0</td>\n",
       "      <td>0.050483</td>\n",
       "      <td>0.945701</td>\n",
       "      <td>0.044768</td>\n",
       "      <td>0.952095</td>\n",
       "      <td>...</td>\n",
       "      <td>NaN</td>\n",
       "      <td>NaN</td>\n",
       "      <td>NaN</td>\n",
       "      <td>NaN</td>\n",
       "      <td>NaN</td>\n",
       "      <td>NaN</td>\n",
       "      <td>NaN</td>\n",
       "      <td>NaN</td>\n",
       "      <td>NaN</td>\n",
       "      <td>NaN</td>\n",
       "    </tr>\n",
       "    <tr>\n",
       "      <th>0</th>\n",
       "      <td>14</td>\n",
       "      <td>2b421f124a18e9e6a87c17e0bda23f1b</td>\n",
       "      <td>{\"cutoff\": \"quantile_0.1\", \"eval_fairness_grou...</td>\n",
       "      <td>28.816971</td>\n",
       "      <td>89710</td>\n",
       "      <td>1.0</td>\n",
       "      <td>0.050483</td>\n",
       "      <td>0.945701</td>\n",
       "      <td>0.044768</td>\n",
       "      <td>0.952095</td>\n",
       "      <td>...</td>\n",
       "      <td>0.119823</td>\n",
       "      <td>0.142386</td>\n",
       "      <td>0.929727</td>\n",
       "      <td>0.879244</td>\n",
       "      <td>0.028716</td>\n",
       "      <td>0.041247</td>\n",
       "      <td>0.934518</td>\n",
       "      <td>0.889750</td>\n",
       "      <td>20540.0</td>\n",
       "      <td>69170.0</td>\n",
       "    </tr>\n",
       "    <tr>\n",
       "      <th>0</th>\n",
       "      <td>14</td>\n",
       "      <td>2b421f124a18e9e6a87c17e0bda23f1b</td>\n",
       "      <td>{\"cutoff\": \"quantile_0.25\", \"eval_fairness_gro...</td>\n",
       "      <td>28.816971</td>\n",
       "      <td>89710</td>\n",
       "      <td>1.0</td>\n",
       "      <td>0.098495</td>\n",
       "      <td>0.890614</td>\n",
       "      <td>0.048928</td>\n",
       "      <td>0.935722</td>\n",
       "      <td>...</td>\n",
       "      <td>NaN</td>\n",
       "      <td>NaN</td>\n",
       "      <td>NaN</td>\n",
       "      <td>NaN</td>\n",
       "      <td>NaN</td>\n",
       "      <td>NaN</td>\n",
       "      <td>NaN</td>\n",
       "      <td>NaN</td>\n",
       "      <td>NaN</td>\n",
       "      <td>NaN</td>\n",
       "    </tr>\n",
       "    <tr>\n",
       "      <th>0</th>\n",
       "      <td>14</td>\n",
       "      <td>2b421f124a18e9e6a87c17e0bda23f1b</td>\n",
       "      <td>{\"cutoff\": \"quantile_0.25\", \"eval_fairness_gro...</td>\n",
       "      <td>28.816971</td>\n",
       "      <td>89710</td>\n",
       "      <td>1.0</td>\n",
       "      <td>0.098495</td>\n",
       "      <td>0.890614</td>\n",
       "      <td>0.048928</td>\n",
       "      <td>0.935722</td>\n",
       "      <td>...</td>\n",
       "      <td>0.129802</td>\n",
       "      <td>0.156309</td>\n",
       "      <td>0.700583</td>\n",
       "      <td>0.739997</td>\n",
       "      <td>0.198057</td>\n",
       "      <td>0.099562</td>\n",
       "      <td>0.712269</td>\n",
       "      <td>0.761197</td>\n",
       "      <td>20540.0</td>\n",
       "      <td>69170.0</td>\n",
       "    </tr>\n",
       "  </tbody>\n",
       "</table>\n",
       "<p>4 rows × 50 columns</p>\n",
       "</div>"
      ],
      "text/plain": [
       "  run_no                       universe_id  \\\n",
       "0     14  2b421f124a18e9e6a87c17e0bda23f1b   \n",
       "0     14  2b421f124a18e9e6a87c17e0bda23f1b   \n",
       "0     14  2b421f124a18e9e6a87c17e0bda23f1b   \n",
       "0     14  2b421f124a18e9e6a87c17e0bda23f1b   \n",
       "\n",
       "                                   universe_settings  execution_time  \\\n",
       "0  {\"cutoff\": \"quantile_0.1\", \"eval_fairness_grou...       28.816971   \n",
       "0  {\"cutoff\": \"quantile_0.1\", \"eval_fairness_grou...       28.816971   \n",
       "0  {\"cutoff\": \"quantile_0.25\", \"eval_fairness_gro...       28.816971   \n",
       "0  {\"cutoff\": \"quantile_0.25\", \"eval_fairness_gro...       28.816971   \n",
       "\n",
       "   test_size_n  test_size_frac  fair_main_equalized_odds_difference  \\\n",
       "0        89710             1.0                             0.050483   \n",
       "0        89710             1.0                             0.050483   \n",
       "0        89710             1.0                             0.098495   \n",
       "0        89710             1.0                             0.098495   \n",
       "\n",
       "   fair_main_equalized_odds_ratio  fair_main_demographic_parity_difference  \\\n",
       "0                        0.945701                                 0.044768   \n",
       "0                        0.945701                                 0.044768   \n",
       "0                        0.890614                                 0.048928   \n",
       "0                        0.890614                                 0.048928   \n",
       "\n",
       "   fair_main_demographic_parity_ratio  ...  perf_grp_precision_0  \\\n",
       "0                            0.952095  ...                   NaN   \n",
       "0                            0.952095  ...              0.119823   \n",
       "0                            0.935722  ...                   NaN   \n",
       "0                            0.935722  ...              0.129802   \n",
       "\n",
       "   perf_grp_precision_1  perf_grp_false positive rate_0  \\\n",
       "0                   NaN                             NaN   \n",
       "0              0.142386                        0.929727   \n",
       "0                   NaN                             NaN   \n",
       "0              0.156309                        0.700583   \n",
       "\n",
       "   perf_grp_false positive rate_1  perf_grp_false negative rate_0  \\\n",
       "0                             NaN                             NaN   \n",
       "0                        0.879244                        0.028716   \n",
       "0                             NaN                             NaN   \n",
       "0                        0.739997                        0.198057   \n",
       "\n",
       "   perf_grp_false negative rate_1  perf_grp_selection rate_0  \\\n",
       "0                             NaN                        NaN   \n",
       "0                        0.041247                   0.934518   \n",
       "0                             NaN                        NaN   \n",
       "0                        0.099562                   0.712269   \n",
       "\n",
       "   perf_grp_selection rate_1  perf_grp_count_0  perf_grp_count_1  \n",
       "0                        NaN               NaN               NaN  \n",
       "0                   0.889750           20540.0           69170.0  \n",
       "0                        NaN               NaN               NaN  \n",
       "0                   0.761197           20540.0           69170.0  \n",
       "\n",
       "[4 rows x 50 columns]"
      ]
     },
     "execution_count": 79,
     "metadata": {},
     "output_type": "execute_result"
    }
   ],
   "source": [
    "final_output = universe_analysis.generate_final_output(\n",
    "    y_pred_prob=probs_test,\n",
    "    y_test=y_true,\n",
    "    org_test=org_test,\n",
    "    filter_data=filter_sub_universe_data,\n",
    "    cp_metrics_df=cp_metrics_df,\n",
    "    save=True,\n",
    ")\n",
    "final_output"
   ]
  },
  {
   "cell_type": "code",
   "execution_count": null,
   "id": "721ff514-cb11-46f8-b6fc-50392f74b5cb",
   "metadata": {
    "papermill": {
     "duration": 0.015949,
     "end_time": "2025-07-30T21:45:37.103008",
     "exception": false,
     "start_time": "2025-07-30T21:45:37.087059",
     "status": "completed"
    },
    "tags": []
   },
   "outputs": [],
   "source": []
  }
 ],
 "metadata": {
  "celltoolbar": "Tags",
  "kernelspec": {
   "display_name": "Python (CMA Fairness)",
   "language": "python",
   "name": "cma_fair_env"
  },
  "language_info": {
   "codemirror_mode": {
    "name": "ipython",
    "version": 3
   },
   "file_extension": ".py",
   "mimetype": "text/x-python",
   "name": "python",
   "nbconvert_exporter": "python",
   "pygments_lexer": "ipython3",
   "version": "3.10.12"
  },
  "papermill": {
   "default_parameters": {},
   "duration": 42.71573,
   "end_time": "2025-07-30T21:45:37.737037",
   "environment_variables": {},
   "exception": null,
   "input_path": "universe_analysis.ipynb",
   "output_path": "output/runs/14/notebooks/m_14-2b421f124a18e9e6a87c17e0bda23f1b.ipynb",
   "parameters": {
    "output_dir": "output",
    "run_no": "14",
    "seed": "2023",
    "universe": "{\"cutoff\": [\"quantile_0.1\", \"quantile_0.25\"], \"eval_fairness_grouping\": [\"majority-minority\", \"nationality-all\"], \"exclude_features\": \"nationality-sex\", \"exclude_subgroups\": \"keep-all\", \"model\": \"penalized_logreg\", \"scale\": \"scale\", \"training_size\": \"1k\", \"training_year\": \"2010_14\"}",
    "universe_id": "2b421f124a18e9e6a87c17e0bda23f1b"
   },
   "start_time": "2025-07-30T21:44:55.021307",
   "version": "2.6.0"
  }
 },
 "nbformat": 4,
 "nbformat_minor": 5
}