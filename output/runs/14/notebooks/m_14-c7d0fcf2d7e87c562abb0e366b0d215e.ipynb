{
 "cells": [
  {
   "cell_type": "code",
   "execution_count": 1,
   "id": "f159f837-637b-42ba-96b5-ec9a68c44524",
   "metadata": {
    "execution": {
     "iopub.execute_input": "2025-07-30T20:50:07.698382Z",
     "iopub.status.busy": "2025-07-30T20:50:07.697739Z",
     "iopub.status.idle": "2025-07-30T20:50:07.710602Z",
     "shell.execute_reply": "2025-07-30T20:50:07.709779Z"
    },
    "papermill": {
     "duration": 0.034489,
     "end_time": "2025-07-30T20:50:07.712301",
     "exception": false,
     "start_time": "2025-07-30T20:50:07.677812",
     "status": "completed"
    },
    "tags": []
   },
   "outputs": [
    {
     "name": "stdout",
     "output_type": "stream",
     "text": [
      "/dss/dsshome1/0C/ra93lal2/cma/CMA_Fairness_v2\n"
     ]
    },
    {
     "name": "stderr",
     "output_type": "stream",
     "text": [
      "/dss/dsshome1/0C/ra93lal2/.local/share/virtualenvs/CMA_Fairness_v2-3j10GkSs/lib/python3.10/site-packages/IPython/core/magics/osm.py:393: UserWarning: This is now an optional IPython functionality, using bookmarks requires you to install the `pickleshare` library.\n",
      "  bkms = self.shell.db.get('bookmarks', {})\n",
      "/dss/dsshome1/0C/ra93lal2/.local/share/virtualenvs/CMA_Fairness_v2-3j10GkSs/lib/python3.10/site-packages/IPython/core/magics/osm.py:417: UserWarning: This is now an optional IPython functionality, setting dhist requires you to install the `pickleshare` library.\n",
      "  self.shell.db['dhist'] = compress_dhist(dhist)[-100:]\n"
     ]
    }
   ],
   "source": [
    "%cd ~/cma/CMA_Fairness_v2"
   ]
  },
  {
   "cell_type": "markdown",
   "id": "de2603b9",
   "metadata": {
    "papermill": {
     "duration": 0.017912,
     "end_time": "2025-07-30T20:50:07.748545",
     "exception": false,
     "start_time": "2025-07-30T20:50:07.730633",
     "status": "completed"
    },
    "tags": []
   },
   "source": [
    "The following cell holds the definition of our parameters, these values can be overriden by rendering the with e.g. the following command:\n",
    "\n",
    "papermill -p alpha 0.2 -p ratio 0.3 universe_analysis.ipynb output/test_run.ipynb"
   ]
  },
  {
   "cell_type": "code",
   "execution_count": 2,
   "id": "a80968a0-40bb-4fa9-85ef-2d5eefb01975",
   "metadata": {
    "execution": {
     "iopub.execute_input": "2025-07-30T20:50:07.785891Z",
     "iopub.status.busy": "2025-07-30T20:50:07.785197Z",
     "iopub.status.idle": "2025-07-30T20:50:07.791057Z",
     "shell.execute_reply": "2025-07-30T20:50:07.790185Z"
    },
    "papermill": {
     "duration": 0.026391,
     "end_time": "2025-07-30T20:50:07.792800",
     "exception": false,
     "start_time": "2025-07-30T20:50:07.766409",
     "status": "completed"
    },
    "tags": []
   },
   "outputs": [
    {
     "name": "stdout",
     "output_type": "stream",
     "text": [
      "Current working directory: /dss/dsshome1/0C/ra93lal2/cma/CMA_Fairness_v2\n"
     ]
    }
   ],
   "source": [
    "import os\n",
    "print(\"Current working directory:\", os.getcwd())"
   ]
  },
  {
   "cell_type": "code",
   "execution_count": 3,
   "id": "2dce4c03",
   "metadata": {
    "execution": {
     "iopub.execute_input": "2025-07-30T20:50:07.832014Z",
     "iopub.status.busy": "2025-07-30T20:50:07.831393Z",
     "iopub.status.idle": "2025-07-30T20:50:07.838221Z",
     "shell.execute_reply": "2025-07-30T20:50:07.837240Z"
    },
    "papermill": {
     "duration": 0.027603,
     "end_time": "2025-07-30T20:50:07.839850",
     "exception": false,
     "start_time": "2025-07-30T20:50:07.812247",
     "status": "completed"
    },
    "tags": [
     "parameters"
    ]
   },
   "outputs": [],
   "source": [
    "run_no = 0\n",
    "universe_id = \"test\"\n",
    "universe = {\n",
    "    \"training_size\": \"25k\", # \"25k\", \"5k\", \"1k\"\n",
    "    \"training_year\": \"2014\", # \"2014\", \"2012_14\", \"2010_14\"\n",
    "    \"scale\": \"scale\", # \"scale\", \"do-not-scale\",\n",
    "    #\"stratify_split\": \"target\", # \"none\", \"target\", \"protected-attribute\", \"both\",\n",
    "    \"model\": \"elasticnet\", # \"logreg\", \"penalized_logreg\", \"rf\", \"gbm\", \"elasticnet\"\n",
    "    \"cutoff\": [\"quantile_0.15\", \"quantile_0.30\"],\n",
    "    \"exclude_features\": \"age\", # \"none\", \"nationality\", \"sex\", \"nationality-sex\", \"age\"\n",
    "    \"exclude_subgroups\": \"keep-all\", # \"keep-all\", \"drop-non-german\"\n",
    "    \"eval_fairness_grouping\": [\"majority-minority\", \"nationality-all\"]\n",
    "}\n",
    "\n",
    "output_dir=\"./output\"\n",
    "seed=0"
   ]
  },
  {
   "cell_type": "code",
   "execution_count": 4,
   "id": "ea297b13",
   "metadata": {
    "execution": {
     "iopub.execute_input": "2025-07-30T20:50:07.880981Z",
     "iopub.status.busy": "2025-07-30T20:50:07.880368Z",
     "iopub.status.idle": "2025-07-30T20:50:07.885374Z",
     "shell.execute_reply": "2025-07-30T20:50:07.884482Z"
    },
    "papermill": {
     "duration": 0.026307,
     "end_time": "2025-07-30T20:50:07.886857",
     "exception": false,
     "start_time": "2025-07-30T20:50:07.860550",
     "status": "completed"
    },
    "tags": [
     "injected-parameters"
    ]
   },
   "outputs": [],
   "source": [
    "# Parameters\n",
    "universe_id = \"c7d0fcf2d7e87c562abb0e366b0d215e\"\n",
    "run_no = \"14\"\n",
    "universe = \"{\\\"cutoff\\\": [\\\"quantile_0.1\\\", \\\"quantile_0.25\\\"], \\\"eval_fairness_grouping\\\": [\\\"majority-minority\\\", \\\"nationality-all\\\"], \\\"exclude_features\\\": \\\"age\\\", \\\"exclude_subgroups\\\": \\\"drop-non-german\\\", \\\"model\\\": \\\"elasticnet\\\", \\\"scale\\\": \\\"scale\\\", \\\"training_size\\\": \\\"5k\\\", \\\"training_year\\\": \\\"2014\\\"}\"\n",
    "output_dir = \"output\"\n",
    "seed = \"2023\"\n"
   ]
  },
  {
   "cell_type": "code",
   "execution_count": 5,
   "id": "1650acaf",
   "metadata": {
    "execution": {
     "iopub.execute_input": "2025-07-30T20:50:07.926140Z",
     "iopub.status.busy": "2025-07-30T20:50:07.925349Z",
     "iopub.status.idle": "2025-07-30T20:50:07.930462Z",
     "shell.execute_reply": "2025-07-30T20:50:07.929622Z"
    },
    "papermill": {
     "duration": 0.026283,
     "end_time": "2025-07-30T20:50:07.932052",
     "exception": false,
     "start_time": "2025-07-30T20:50:07.905769",
     "status": "completed"
    },
    "tags": []
   },
   "outputs": [],
   "source": [
    "import json\n",
    "# Parse universe into dict if it is passed as a string\n",
    "if isinstance(universe, str):\n",
    "    universe = json.loads(universe)"
   ]
  },
  {
   "cell_type": "code",
   "execution_count": 6,
   "id": "16620c48",
   "metadata": {
    "execution": {
     "iopub.execute_input": "2025-07-30T20:50:07.972527Z",
     "iopub.status.busy": "2025-07-30T20:50:07.971875Z",
     "iopub.status.idle": "2025-07-30T20:50:08.014113Z",
     "shell.execute_reply": "2025-07-30T20:50:08.013300Z"
    },
    "papermill": {
     "duration": 0.064678,
     "end_time": "2025-07-30T20:50:08.015866",
     "exception": false,
     "start_time": "2025-07-30T20:50:07.951188",
     "status": "completed"
    },
    "tags": []
   },
   "outputs": [],
   "source": [
    "# Auto-reload the custom package\n",
    "%load_ext autoreload\n",
    "%autoreload 1\n",
    "%aimport fairness_multiverse"
   ]
  },
  {
   "cell_type": "code",
   "execution_count": 7,
   "id": "01c5c9f3",
   "metadata": {
    "execution": {
     "iopub.execute_input": "2025-07-30T20:50:08.054982Z",
     "iopub.status.busy": "2025-07-30T20:50:08.054193Z",
     "iopub.status.idle": "2025-07-30T20:50:09.918615Z",
     "shell.execute_reply": "2025-07-30T20:50:09.917521Z"
    },
    "papermill": {
     "duration": 1.885889,
     "end_time": "2025-07-30T20:50:09.920652",
     "exception": false,
     "start_time": "2025-07-30T20:50:08.034763",
     "status": "completed"
    },
    "tags": []
   },
   "outputs": [],
   "source": [
    "from fairness_multiverse.universe import UniverseAnalysis\n",
    "\n",
    "universe_analysis = UniverseAnalysis(\n",
    "    run_no = run_no,\n",
    "    universe_id = universe_id,\n",
    "    universe = universe,\n",
    "    output_dir=output_dir,\n",
    ")"
   ]
  },
  {
   "cell_type": "code",
   "execution_count": 8,
   "id": "106241f5",
   "metadata": {
    "execution": {
     "iopub.execute_input": "2025-07-30T20:50:09.961796Z",
     "iopub.status.busy": "2025-07-30T20:50:09.961115Z",
     "iopub.status.idle": "2025-07-30T20:50:09.967935Z",
     "shell.execute_reply": "2025-07-30T20:50:09.967072Z"
    },
    "papermill": {
     "duration": 0.029457,
     "end_time": "2025-07-30T20:50:09.969467",
     "exception": false,
     "start_time": "2025-07-30T20:50:09.940010",
     "status": "completed"
    },
    "tags": []
   },
   "outputs": [
    {
     "name": "stdout",
     "output_type": "stream",
     "text": [
      "Using Seed: 2023\n"
     ]
    }
   ],
   "source": [
    "import numpy as np\n",
    "parsed_seed = int(seed)\n",
    "np.random.seed(parsed_seed)\n",
    "print(f\"Using Seed: {parsed_seed}\")"
   ]
  },
  {
   "cell_type": "markdown",
   "id": "e0ebdc57",
   "metadata": {
    "papermill": {
     "duration": 0.018292,
     "end_time": "2025-07-30T20:50:10.006922",
     "exception": false,
     "start_time": "2025-07-30T20:50:09.988630",
     "status": "completed"
    },
    "tags": []
   },
   "source": [
    "# Loading Data"
   ]
  },
  {
   "cell_type": "markdown",
   "id": "681925a3",
   "metadata": {
    "papermill": {
     "duration": 0.018246,
     "end_time": "2025-07-30T20:50:10.043570",
     "exception": false,
     "start_time": "2025-07-30T20:50:10.025324",
     "status": "completed"
    },
    "tags": []
   },
   "source": [
    "Load siab_train, siab_test, siab_calib and/or \n",
    "load siab_train_features, siab_train_labels"
   ]
  },
  {
   "cell_type": "code",
   "execution_count": 9,
   "id": "f0496b8a",
   "metadata": {
    "execution": {
     "iopub.execute_input": "2025-07-30T20:50:10.082921Z",
     "iopub.status.busy": "2025-07-30T20:50:10.082253Z",
     "iopub.status.idle": "2025-07-30T20:50:20.686952Z",
     "shell.execute_reply": "2025-07-30T20:50:20.685905Z"
    },
    "papermill": {
     "duration": 10.625988,
     "end_time": "2025-07-30T20:50:20.688480",
     "exception": false,
     "start_time": "2025-07-30T20:50:10.062492",
     "status": "completed"
    },
    "tags": []
   },
   "outputs": [
    {
     "name": "stdout",
     "output_type": "stream",
     "text": [
      "Loading SIAB data from cache: data/siab_cached.csv.gz\n"
     ]
    },
    {
     "name": "stdout",
     "output_type": "stream",
     "text": [
      "(643690, 164)\n"
     ]
    }
   ],
   "source": [
    "from pathlib import Path\n",
    "import pandas as pd\n",
    "\n",
    "# File paths\n",
    "raw_file = Path(\"data/raw/siab.csv\")\n",
    "cache_file = Path(\"data/siab_cached.csv.gz\")\n",
    "\n",
    "# Ensure cache directory exists\n",
    "cache_file.parent.mkdir(parents=True, exist_ok=True)\n",
    "\n",
    "# Load with simple caching\n",
    "if cache_file.exists():\n",
    "    print(f\"Loading SIAB data from cache: {cache_file}\")\n",
    "    siab = pd.read_csv(cache_file, compression='gzip')\n",
    "else:\n",
    "    print(f\"Cache not found. Reading raw SIAB data: {raw_file}\")\n",
    "    siab = pd.read_csv(raw_file)\n",
    "    siab.to_csv(cache_file, index=False, compression='gzip')\n",
    "    print(f\"Cached SIAB data to: {cache_file}\")\n",
    "\n",
    "# Now use `siab` DataFrame as needed\n",
    "print(siab.shape)"
   ]
  },
  {
   "cell_type": "code",
   "execution_count": 10,
   "id": "db0ca512-5f53-4dba-abdb-a2888bca41ba",
   "metadata": {
    "execution": {
     "iopub.execute_input": "2025-07-30T20:50:20.730458Z",
     "iopub.status.busy": "2025-07-30T20:50:20.729813Z",
     "iopub.status.idle": "2025-07-30T20:50:20.735278Z",
     "shell.execute_reply": "2025-07-30T20:50:20.734117Z"
    },
    "papermill": {
     "duration": 0.0268,
     "end_time": "2025-07-30T20:50:20.736794",
     "exception": false,
     "start_time": "2025-07-30T20:50:20.709994",
     "status": "completed"
    },
    "tags": []
   },
   "outputs": [],
   "source": [
    "#siab"
   ]
  },
  {
   "cell_type": "code",
   "execution_count": 11,
   "id": "a0edb063",
   "metadata": {
    "execution": {
     "iopub.execute_input": "2025-07-30T20:50:20.776923Z",
     "iopub.status.busy": "2025-07-30T20:50:20.776126Z",
     "iopub.status.idle": "2025-07-30T20:50:20.781412Z",
     "shell.execute_reply": "2025-07-30T20:50:20.780500Z"
    },
    "papermill": {
     "duration": 0.02668,
     "end_time": "2025-07-30T20:50:20.782961",
     "exception": false,
     "start_time": "2025-07-30T20:50:20.756281",
     "status": "completed"
    },
    "tags": []
   },
   "outputs": [],
   "source": [
    "#import pandas as pd\n",
    "#\n",
    "#X_train = pd.read_csv(\"./data/X_train.csv\")\n",
    "#y_train = pd.read_csv(\"./data/y_train.csv\")"
   ]
  },
  {
   "cell_type": "code",
   "execution_count": 12,
   "id": "63d08085",
   "metadata": {
    "execution": {
     "iopub.execute_input": "2025-07-30T20:50:20.823212Z",
     "iopub.status.busy": "2025-07-30T20:50:20.822551Z",
     "iopub.status.idle": "2025-07-30T20:50:20.827489Z",
     "shell.execute_reply": "2025-07-30T20:50:20.826563Z"
    },
    "papermill": {
     "duration": 0.026244,
     "end_time": "2025-07-30T20:50:20.829010",
     "exception": false,
     "start_time": "2025-07-30T20:50:20.802766",
     "status": "completed"
    },
    "tags": []
   },
   "outputs": [],
   "source": [
    "#X_test = pd.read_csv(\"./data/X_test.csv\")\n",
    "#y_true = pd.read_csv(\"./data/y_test.csv\")"
   ]
  },
  {
   "cell_type": "code",
   "execution_count": 13,
   "id": "98a8d0fa-1d3d-4ed8-bb2c-281470e24add",
   "metadata": {
    "execution": {
     "iopub.execute_input": "2025-07-30T20:50:20.870069Z",
     "iopub.status.busy": "2025-07-30T20:50:20.869423Z",
     "iopub.status.idle": "2025-07-30T20:50:20.874182Z",
     "shell.execute_reply": "2025-07-30T20:50:20.873329Z"
    },
    "papermill": {
     "duration": 0.026421,
     "end_time": "2025-07-30T20:50:20.875816",
     "exception": false,
     "start_time": "2025-07-30T20:50:20.849395",
     "status": "completed"
    },
    "tags": []
   },
   "outputs": [],
   "source": [
    "# Calibration data for conformal\n",
    "#X_calib = pd.read_csv(\"./data/X_calib.csv\")\n",
    "#y_calib = pd.read_csv(\"./data/y_calib.csv\")"
   ]
  },
  {
   "cell_type": "markdown",
   "id": "997051c5-15bd-4b69-9786-c3001a3ce484",
   "metadata": {
    "papermill": {
     "duration": 0.018935,
     "end_time": "2025-07-30T20:50:20.919581",
     "exception": false,
     "start_time": "2025-07-30T20:50:20.900646",
     "status": "completed"
    },
    "tags": []
   },
   "source": [
    "# Splitting Data and Setting Training Data Size"
   ]
  },
  {
   "cell_type": "code",
   "execution_count": 14,
   "id": "e993b61f-042d-41a6-8c81-f55681f86335",
   "metadata": {
    "execution": {
     "iopub.execute_input": "2025-07-30T20:50:20.958897Z",
     "iopub.status.busy": "2025-07-30T20:50:20.958222Z",
     "iopub.status.idle": "2025-07-30T20:50:20.970655Z",
     "shell.execute_reply": "2025-07-30T20:50:20.969718Z"
    },
    "papermill": {
     "duration": 0.034097,
     "end_time": "2025-07-30T20:50:20.972295",
     "exception": false,
     "start_time": "2025-07-30T20:50:20.938198",
     "status": "completed"
    },
    "tags": []
   },
   "outputs": [],
   "source": [
    "def sample_by_year_size(df,\n",
    "                        training_year: str,\n",
    "                        training_size: str,\n",
    "                        random_state: int = 42):\n",
    "    # --- parse training_year into a list of int years ---\n",
    "    if \"_\" in training_year:\n",
    "        start_str, end_str = training_year.split(\"_\", 1)\n",
    "        start = int(start_str)\n",
    "        end   = int(end_str) if len(end_str) == 4 else (int(end_str) + (start // 100)*100)\n",
    "        years = list(range(start, end + 1))\n",
    "    else:\n",
    "        years = [int(training_year)]\n",
    "\n",
    "    df = df[df[\"year\"].isin(years)].reset_index(drop=True)\n",
    "\n",
    "    # --- map training_size to total number of samples ---\n",
    "    total_map = {\"25k\": 25_000, \"5k\": 5_000, \"1k\": 1_000}\n",
    "    if training_size not in total_map:\n",
    "        return df  # e.g. \"all\"\n",
    "\n",
    "    total_samples = total_map[training_size]\n",
    "    n_years       = len(years)\n",
    "    base          = total_samples // n_years\n",
    "    remainder     = total_samples % n_years\n",
    "\n",
    "    # --- build a dict: year -> how many to sample ---\n",
    "    # give +1 to the first `remainder` years in ascending order\n",
    "    quotas = {\n",
    "        year: base + (1 if idx < remainder else 0)\n",
    "        for idx, year in enumerate(sorted(years))\n",
    "    }\n",
    "\n",
    "    # --- sample per‐year according to the quota dict ---\n",
    "    sampled = (\n",
    "        df\n",
    "        .groupby(\"year\", group_keys=False)\n",
    "        .apply(lambda grp: grp.sample(\n",
    "            n=min(len(grp), quotas[grp.name]),\n",
    "            random_state=random_state))\n",
    "        .reset_index(drop=True)\n",
    "    )\n",
    "\n",
    "    return sampled"
   ]
  },
  {
   "cell_type": "code",
   "execution_count": 15,
   "id": "c0ccd338-0e02-41f3-a09d-f56f9266e3fb",
   "metadata": {
    "execution": {
     "iopub.execute_input": "2025-07-30T20:50:21.013271Z",
     "iopub.status.busy": "2025-07-30T20:50:21.012634Z",
     "iopub.status.idle": "2025-07-30T20:50:21.017483Z",
     "shell.execute_reply": "2025-07-30T20:50:21.016589Z"
    },
    "papermill": {
     "duration": 0.02669,
     "end_time": "2025-07-30T20:50:21.019144",
     "exception": false,
     "start_time": "2025-07-30T20:50:20.992454",
     "status": "completed"
    },
    "tags": []
   },
   "outputs": [],
   "source": [
    "#universe[\"training_size\"]"
   ]
  },
  {
   "cell_type": "code",
   "execution_count": 16,
   "id": "ca707fd7-8047-4acd-bfa5-66248fbbf8e6",
   "metadata": {
    "execution": {
     "iopub.execute_input": "2025-07-30T20:50:21.060921Z",
     "iopub.status.busy": "2025-07-30T20:50:21.060189Z",
     "iopub.status.idle": "2025-07-30T20:50:21.065162Z",
     "shell.execute_reply": "2025-07-30T20:50:21.064273Z"
    },
    "papermill": {
     "duration": 0.027294,
     "end_time": "2025-07-30T20:50:21.066724",
     "exception": false,
     "start_time": "2025-07-30T20:50:21.039430",
     "status": "completed"
    },
    "tags": []
   },
   "outputs": [],
   "source": [
    "#universe[\"training_year\"]"
   ]
  },
  {
   "cell_type": "code",
   "execution_count": 17,
   "id": "aea9c6ef-6f46-42c8-85eb-5a62025c1508",
   "metadata": {
    "execution": {
     "iopub.execute_input": "2025-07-30T20:50:21.107655Z",
     "iopub.status.busy": "2025-07-30T20:50:21.107006Z",
     "iopub.status.idle": "2025-07-30T20:50:21.366910Z",
     "shell.execute_reply": "2025-07-30T20:50:21.366057Z"
    },
    "papermill": {
     "duration": 0.281687,
     "end_time": "2025-07-30T20:50:21.368693",
     "exception": false,
     "start_time": "2025-07-30T20:50:21.087006",
     "status": "completed"
    },
    "tags": []
   },
   "outputs": [],
   "source": [
    "siab_train = sample_by_year_size(siab,\n",
    "                               training_year=universe[\"training_year\"],\n",
    "                               training_size=universe[\"training_size\"])"
   ]
  },
  {
   "cell_type": "code",
   "execution_count": 18,
   "id": "8d3afb32-789d-442c-8d5d-9f5aa8dd2eed",
   "metadata": {
    "execution": {
     "iopub.execute_input": "2025-07-30T20:50:21.409341Z",
     "iopub.status.busy": "2025-07-30T20:50:21.408694Z",
     "iopub.status.idle": "2025-07-30T20:50:21.414014Z",
     "shell.execute_reply": "2025-07-30T20:50:21.413087Z"
    },
    "papermill": {
     "duration": 0.027181,
     "end_time": "2025-07-30T20:50:21.415510",
     "exception": false,
     "start_time": "2025-07-30T20:50:21.388329",
     "status": "completed"
    },
    "tags": []
   },
   "outputs": [],
   "source": [
    "#siab_train.shape"
   ]
  },
  {
   "cell_type": "code",
   "execution_count": 19,
   "id": "d582db68-1a4c-47fb-84fc-08518dc1975a",
   "metadata": {
    "execution": {
     "iopub.execute_input": "2025-07-30T20:50:21.456594Z",
     "iopub.status.busy": "2025-07-30T20:50:21.455904Z",
     "iopub.status.idle": "2025-07-30T20:50:21.460871Z",
     "shell.execute_reply": "2025-07-30T20:50:21.459970Z"
    },
    "papermill": {
     "duration": 0.026786,
     "end_time": "2025-07-30T20:50:21.462643",
     "exception": false,
     "start_time": "2025-07-30T20:50:21.435857",
     "status": "completed"
    },
    "tags": []
   },
   "outputs": [],
   "source": [
    "#display(siab_train.groupby(\"year\").size())"
   ]
  },
  {
   "cell_type": "code",
   "execution_count": 20,
   "id": "a561edb4-d032-42cb-8256-22eac1111c64",
   "metadata": {
    "execution": {
     "iopub.execute_input": "2025-07-30T20:50:21.503577Z",
     "iopub.status.busy": "2025-07-30T20:50:21.503037Z",
     "iopub.status.idle": "2025-07-30T20:50:21.754796Z",
     "shell.execute_reply": "2025-07-30T20:50:21.753924Z"
    },
    "papermill": {
     "duration": 0.273576,
     "end_time": "2025-07-30T20:50:21.756662",
     "exception": false,
     "start_time": "2025-07-30T20:50:21.483086",
     "status": "completed"
    },
    "tags": []
   },
   "outputs": [],
   "source": [
    "#siab_train = siab_s[siab_s.year < 2015]\n",
    "siab_calib = siab[siab.year == 2015]\n",
    "siab_test = siab[siab.year == 2016]"
   ]
  },
  {
   "cell_type": "code",
   "execution_count": 21,
   "id": "472de16f-c3db-4916-846b-1f0de9cf1746",
   "metadata": {
    "execution": {
     "iopub.execute_input": "2025-07-30T20:50:21.797721Z",
     "iopub.status.busy": "2025-07-30T20:50:21.797080Z",
     "iopub.status.idle": "2025-07-30T20:50:21.805204Z",
     "shell.execute_reply": "2025-07-30T20:50:21.804271Z"
    },
    "papermill": {
     "duration": 0.030096,
     "end_time": "2025-07-30T20:50:21.806738",
     "exception": false,
     "start_time": "2025-07-30T20:50:21.776642",
     "status": "completed"
    },
    "tags": []
   },
   "outputs": [],
   "source": [
    "X_train = siab_train.iloc[:,4:164]\n",
    "y_train = siab_train.iloc[:, [3]]"
   ]
  },
  {
   "cell_type": "code",
   "execution_count": 22,
   "id": "828c96af-f43a-4ed6-ba47-8ac73a47d56c",
   "metadata": {
    "execution": {
     "iopub.execute_input": "2025-07-30T20:50:21.848321Z",
     "iopub.status.busy": "2025-07-30T20:50:21.847677Z",
     "iopub.status.idle": "2025-07-30T20:50:21.897414Z",
     "shell.execute_reply": "2025-07-30T20:50:21.896217Z"
    },
    "papermill": {
     "duration": 0.071456,
     "end_time": "2025-07-30T20:50:21.899041",
     "exception": false,
     "start_time": "2025-07-30T20:50:21.827585",
     "status": "completed"
    },
    "tags": []
   },
   "outputs": [],
   "source": [
    "X_calib = siab_calib.iloc[:,4:164]\n",
    "y_calib = siab_calib.iloc[:, [3]]"
   ]
  },
  {
   "cell_type": "code",
   "execution_count": 23,
   "id": "c34be9c3-6bd6-476e-acd3-845840e303be",
   "metadata": {
    "execution": {
     "iopub.execute_input": "2025-07-30T20:50:21.940888Z",
     "iopub.status.busy": "2025-07-30T20:50:21.940276Z",
     "iopub.status.idle": "2025-07-30T20:50:21.992473Z",
     "shell.execute_reply": "2025-07-30T20:50:21.991395Z"
    },
    "papermill": {
     "duration": 0.074499,
     "end_time": "2025-07-30T20:50:21.994167",
     "exception": false,
     "start_time": "2025-07-30T20:50:21.919668",
     "status": "completed"
    },
    "tags": []
   },
   "outputs": [],
   "source": [
    "X_test = siab_test.iloc[:,4:164]\n",
    "y_true = siab_test.iloc[:, [3]]"
   ]
  },
  {
   "cell_type": "markdown",
   "id": "9901737e-04df-44f0-9100-f5ad144ed040",
   "metadata": {
    "papermill": {
     "duration": 0.01989,
     "end_time": "2025-07-30T20:50:22.035114",
     "exception": false,
     "start_time": "2025-07-30T20:50:22.015224",
     "status": "completed"
    },
    "tags": []
   },
   "source": [
    "# Splitting Data and Setting Training Data Size OLD VERSION"
   ]
  },
  {
   "cell_type": "code",
   "execution_count": 24,
   "id": "acbc8f7d-8fc8-4e86-8c59-5dcb0f58384b",
   "metadata": {
    "execution": {
     "iopub.execute_input": "2025-07-30T20:50:22.077021Z",
     "iopub.status.busy": "2025-07-30T20:50:22.076378Z",
     "iopub.status.idle": "2025-07-30T20:50:22.081864Z",
     "shell.execute_reply": "2025-07-30T20:50:22.080879Z"
    },
    "papermill": {
     "duration": 0.028312,
     "end_time": "2025-07-30T20:50:22.083277",
     "exception": false,
     "start_time": "2025-07-30T20:50:22.054965",
     "status": "completed"
    },
    "tags": []
   },
   "outputs": [],
   "source": [
    "#def sample_by_year(df, training_size, random_state=42):\n",
    "#    if training_size == \"2014\":\n",
    "#        return df[df[\"year\"] == 2014].reset_index(drop=True)\n",
    "#    \n",
    "#    size_map = {\n",
    "#        \"25k\": 5000,\n",
    "#        \"5k\": 1000,\n",
    "#        \"1k\": 200\n",
    "#    }\n",
    "#\n",
    "#    if training_size not in size_map:\n",
    "#        return df.reset_index(drop=True)  # use all data\n",
    "#\n",
    "#    n_per_year = size_map[training_size]\n",
    "#    grouped = df.groupby(\"year\")\n",
    "#    sampled = grouped.apply(lambda x: x.sample(n=min(n_per_year, len(x)), random_state=random_state))\n",
    "#    return sampled.reset_index(drop=True)"
   ]
  },
  {
   "cell_type": "code",
   "execution_count": 25,
   "id": "6d931f52-beaf-43ff-9e78-9d44a448d54e",
   "metadata": {
    "execution": {
     "iopub.execute_input": "2025-07-30T20:50:22.125660Z",
     "iopub.status.busy": "2025-07-30T20:50:22.124900Z",
     "iopub.status.idle": "2025-07-30T20:50:22.130309Z",
     "shell.execute_reply": "2025-07-30T20:50:22.129313Z"
    },
    "papermill": {
     "duration": 0.027436,
     "end_time": "2025-07-30T20:50:22.131881",
     "exception": false,
     "start_time": "2025-07-30T20:50:22.104445",
     "status": "completed"
    },
    "tags": []
   },
   "outputs": [],
   "source": [
    "#siab_s = sample_by_year(siab, universe[\"training_size\"])"
   ]
  },
  {
   "cell_type": "code",
   "execution_count": 26,
   "id": "5db0a40e-a4e2-4920-be85-b12ae061d70d",
   "metadata": {
    "execution": {
     "iopub.execute_input": "2025-07-30T20:50:22.174347Z",
     "iopub.status.busy": "2025-07-30T20:50:22.173481Z",
     "iopub.status.idle": "2025-07-30T20:50:22.178790Z",
     "shell.execute_reply": "2025-07-30T20:50:22.177809Z"
    },
    "papermill": {
     "duration": 0.027693,
     "end_time": "2025-07-30T20:50:22.180576",
     "exception": false,
     "start_time": "2025-07-30T20:50:22.152883",
     "status": "completed"
    },
    "tags": []
   },
   "outputs": [],
   "source": [
    "#display(siab_s.groupby(\"year\").size())"
   ]
  },
  {
   "cell_type": "code",
   "execution_count": 27,
   "id": "e6c733c5",
   "metadata": {
    "execution": {
     "iopub.execute_input": "2025-07-30T20:50:22.221905Z",
     "iopub.status.busy": "2025-07-30T20:50:22.221211Z",
     "iopub.status.idle": "2025-07-30T20:50:22.318598Z",
     "shell.execute_reply": "2025-07-30T20:50:22.317693Z"
    },
    "papermill": {
     "duration": 0.119573,
     "end_time": "2025-07-30T20:50:22.320445",
     "exception": false,
     "start_time": "2025-07-30T20:50:22.200872",
     "status": "completed"
    },
    "tags": []
   },
   "outputs": [],
   "source": [
    "# Auxiliary data needed downstream in the pipeline\n",
    "\n",
    "org_train = X_train.copy()\n",
    "org_test = X_test.copy()\n",
    "org_calib = X_calib.copy()"
   ]
  },
  {
   "cell_type": "code",
   "execution_count": 28,
   "id": "1466abac-c6da-4492-a62f-4240ae3783af",
   "metadata": {
    "execution": {
     "iopub.execute_input": "2025-07-30T20:50:22.362269Z",
     "iopub.status.busy": "2025-07-30T20:50:22.361707Z",
     "iopub.status.idle": "2025-07-30T20:50:22.368023Z",
     "shell.execute_reply": "2025-07-30T20:50:22.367045Z"
    },
    "papermill": {
     "duration": 0.029225,
     "end_time": "2025-07-30T20:50:22.369726",
     "exception": false,
     "start_time": "2025-07-30T20:50:22.340501",
     "status": "completed"
    },
    "tags": []
   },
   "outputs": [],
   "source": [
    "# put in other script?\n",
    "# Group sizes\n",
    "\n",
    "#def calculate_percentages(df, df_name):\n",
    "#    total_entries = len(df)\n",
    "#\n",
    "#    female_pct = (df['frau1'] == 1).mean() * 100\n",
    "#    non_german_pct = ((df['maxdeutsch1'] == 0) & (df['maxdeutsch.Missing.'] == 0)).mean() * 100\n",
    "#    non_german_male_pct = ((df['frau1'] == 0) & (df['maxdeutsch1'] == 0) & (df['maxdeutsch.Missing.'] == 0)).mean() * 100\n",
    "#    non_german_female_pct = ((df['frau1'] == 1) & (df['maxdeutsch1'] == 0) & (df['maxdeutsch.Missing.'] == 0)).mean() * 100\n",
    "#\n",
    "#    print(f\"--- {df_name} ---\")\n",
    "#    print(f\"Female: {female_pct:.2f}%\")\n",
    "#    print(f\"Non-German: {non_german_pct:.2f}%\")\n",
    "#    print(f\"Non-German Male: {non_german_male_pct:.2f}%\")\n",
    "#    print(f\"Non-German Female: {non_german_female_pct:.2f}%\\n\")\n",
    "#\n",
    "## Calculate for each DataFrame\n",
    "#calculate_percentages(siab_calib, \"siab_calib\")\n",
    "#calculate_percentages(siab_test, \"siab_test\")\n",
    "#calculate_percentages(siab_train, \"siab_train\")"
   ]
  },
  {
   "cell_type": "markdown",
   "id": "0a4a1b33",
   "metadata": {
    "papermill": {
     "duration": 0.019775,
     "end_time": "2025-07-30T20:50:22.411878",
     "exception": false,
     "start_time": "2025-07-30T20:50:22.392103",
     "status": "completed"
    },
    "tags": []
   },
   "source": [
    "# Preprocessing Data"
   ]
  },
  {
   "cell_type": "code",
   "execution_count": 29,
   "id": "ca879031",
   "metadata": {
    "execution": {
     "iopub.execute_input": "2025-07-30T20:50:22.454673Z",
     "iopub.status.busy": "2025-07-30T20:50:22.454142Z",
     "iopub.status.idle": "2025-07-30T20:50:22.460826Z",
     "shell.execute_reply": "2025-07-30T20:50:22.459820Z"
    },
    "papermill": {
     "duration": 0.02983,
     "end_time": "2025-07-30T20:50:22.462584",
     "exception": false,
     "start_time": "2025-07-30T20:50:22.432754",
     "status": "completed"
    },
    "tags": []
   },
   "outputs": [],
   "source": [
    "# EXCLUDE PROTECTED FEATURES\n",
    "# ----------------------\n",
    "# \"exclude_features\": \"none\", # \"nationality\", \"sex\", \"nationality-sex\"\n",
    "\n",
    "excluded_features = universe[\"exclude_features\"].split(\"-\") # split, e.g.: \"nationality-sex\" -> [\"nationality\", \"sex\"]\n",
    "excluded_features_dictionary = {\n",
    "    \"nationality\": [\"maxdeutsch1\", \"maxdeutsch.Missing.\"],\n",
    "    \"sex\": [\"frau1\"],\n",
    "    \"age\": [\"age\"],\n",
    "}\n"
   ]
  },
  {
   "cell_type": "code",
   "execution_count": 30,
   "id": "b745ac60",
   "metadata": {
    "execution": {
     "iopub.execute_input": "2025-07-30T20:50:22.505573Z",
     "iopub.status.busy": "2025-07-30T20:50:22.504958Z",
     "iopub.status.idle": "2025-07-30T20:50:22.511157Z",
     "shell.execute_reply": "2025-07-30T20:50:22.510168Z"
    },
    "papermill": {
     "duration": 0.029413,
     "end_time": "2025-07-30T20:50:22.512918",
     "exception": false,
     "start_time": "2025-07-30T20:50:22.483505",
     "status": "completed"
    },
    "tags": []
   },
   "outputs": [],
   "source": [
    "# Code nice names to column names\n",
    "\n",
    "excluded_features_columns = [\n",
    "    excluded_features_dictionary[f] for f in excluded_features if len(f) > 0 and f != \"none\"\n",
    "]"
   ]
  },
  {
   "cell_type": "code",
   "execution_count": 31,
   "id": "f84f73a2",
   "metadata": {
    "execution": {
     "iopub.execute_input": "2025-07-30T20:50:22.557275Z",
     "iopub.status.busy": "2025-07-30T20:50:22.556563Z",
     "iopub.status.idle": "2025-07-30T20:50:22.563336Z",
     "shell.execute_reply": "2025-07-30T20:50:22.562366Z"
    },
    "papermill": {
     "duration": 0.030805,
     "end_time": "2025-07-30T20:50:22.565131",
     "exception": false,
     "start_time": "2025-07-30T20:50:22.534326",
     "status": "completed"
    },
    "tags": []
   },
   "outputs": [],
   "source": [
    "from utils import flatten_once\n",
    "\n",
    "excluded_features_columns = flatten_once(excluded_features_columns)"
   ]
  },
  {
   "cell_type": "code",
   "execution_count": 32,
   "id": "884dea22",
   "metadata": {
    "execution": {
     "iopub.execute_input": "2025-07-30T20:50:22.609104Z",
     "iopub.status.busy": "2025-07-30T20:50:22.608611Z",
     "iopub.status.idle": "2025-07-30T20:50:22.618432Z",
     "shell.execute_reply": "2025-07-30T20:50:22.617406Z"
    },
    "papermill": {
     "duration": 0.033725,
     "end_time": "2025-07-30T20:50:22.620278",
     "exception": false,
     "start_time": "2025-07-30T20:50:22.586553",
     "status": "completed"
    },
    "tags": []
   },
   "outputs": [
    {
     "name": "stdout",
     "output_type": "stream",
     "text": [
      "Dropping features: ['age']\n"
     ]
    }
   ],
   "source": [
    "if len(excluded_features_columns) > 0:\n",
    "    print(f\"Dropping features: {excluded_features_columns}\")\n",
    "    X_train.drop(excluded_features_columns, axis=1, inplace=True)"
   ]
  },
  {
   "cell_type": "code",
   "execution_count": 33,
   "id": "95ab8b16",
   "metadata": {
    "execution": {
     "iopub.execute_input": "2025-07-30T20:50:22.664248Z",
     "iopub.status.busy": "2025-07-30T20:50:22.663767Z",
     "iopub.status.idle": "2025-07-30T20:50:22.718988Z",
     "shell.execute_reply": "2025-07-30T20:50:22.717955Z"
    },
    "papermill": {
     "duration": 0.079244,
     "end_time": "2025-07-30T20:50:22.721504",
     "exception": false,
     "start_time": "2025-07-30T20:50:22.642260",
     "status": "completed"
    },
    "tags": []
   },
   "outputs": [
    {
     "name": "stdout",
     "output_type": "stream",
     "text": [
      "Dropping features: ['age']\n"
     ]
    }
   ],
   "source": [
    "if len(excluded_features_columns) > 0:\n",
    "    print(f\"Dropping features: {excluded_features_columns}\")\n",
    "    X_test.drop(excluded_features_columns, axis=1, inplace=True)"
   ]
  },
  {
   "cell_type": "code",
   "execution_count": 34,
   "id": "1853aaf5-fb9f-46cb-a2b5-8ea4ae2237e4",
   "metadata": {
    "execution": {
     "iopub.execute_input": "2025-07-30T20:50:22.765761Z",
     "iopub.status.busy": "2025-07-30T20:50:22.764771Z",
     "iopub.status.idle": "2025-07-30T20:50:22.817770Z",
     "shell.execute_reply": "2025-07-30T20:50:22.815336Z"
    },
    "papermill": {
     "duration": 0.076214,
     "end_time": "2025-07-30T20:50:22.819479",
     "exception": false,
     "start_time": "2025-07-30T20:50:22.743265",
     "status": "completed"
    },
    "tags": []
   },
   "outputs": [
    {
     "name": "stdout",
     "output_type": "stream",
     "text": [
      "Dropping features: ['age']\n"
     ]
    }
   ],
   "source": [
    "if len(excluded_features_columns) > 0:\n",
    "    print(f\"Dropping features: {excluded_features_columns}\")\n",
    "    X_calib.drop(excluded_features_columns, axis=1, inplace=True)"
   ]
  },
  {
   "cell_type": "code",
   "execution_count": 35,
   "id": "6727d079-03e5-481e-9d38-292a90b7a0a8",
   "metadata": {
    "execution": {
     "iopub.execute_input": "2025-07-30T20:50:22.863856Z",
     "iopub.status.busy": "2025-07-30T20:50:22.862913Z",
     "iopub.status.idle": "2025-07-30T20:50:22.868391Z",
     "shell.execute_reply": "2025-07-30T20:50:22.867345Z"
    },
    "papermill": {
     "duration": 0.028774,
     "end_time": "2025-07-30T20:50:22.869997",
     "exception": false,
     "start_time": "2025-07-30T20:50:22.841223",
     "status": "completed"
    },
    "tags": []
   },
   "outputs": [],
   "source": [
    "# SPLIT & STRATIFY DATA\n",
    "# ----------------------"
   ]
  },
  {
   "cell_type": "code",
   "execution_count": 36,
   "id": "76c4dc6d",
   "metadata": {
    "execution": {
     "iopub.execute_input": "2025-07-30T20:50:22.914549Z",
     "iopub.status.busy": "2025-07-30T20:50:22.913853Z",
     "iopub.status.idle": "2025-07-30T20:50:22.919397Z",
     "shell.execute_reply": "2025-07-30T20:50:22.918447Z"
    },
    "papermill": {
     "duration": 0.028934,
     "end_time": "2025-07-30T20:50:22.921017",
     "exception": false,
     "start_time": "2025-07-30T20:50:22.892083",
     "status": "completed"
    },
    "tags": []
   },
   "outputs": [],
   "source": [
    "# EXCLUDE CERTAIN SUBGROUPS\n",
    "# ----------------------\n",
    "\n",
    "mode = universe.get(\"exclude_subgroups\", \"keep-all\") \n",
    "# Fetches the exclude_subgroups setting from the universe dict.\n",
    "# Defaults to \"keep-all\" if the key is missing."
   ]
  },
  {
   "cell_type": "code",
   "execution_count": 37,
   "id": "21994072",
   "metadata": {
    "execution": {
     "iopub.execute_input": "2025-07-30T20:50:22.965027Z",
     "iopub.status.busy": "2025-07-30T20:50:22.964115Z",
     "iopub.status.idle": "2025-07-30T20:50:22.971403Z",
     "shell.execute_reply": "2025-07-30T20:50:22.970407Z"
    },
    "papermill": {
     "duration": 0.03075,
     "end_time": "2025-07-30T20:50:22.973213",
     "exception": false,
     "start_time": "2025-07-30T20:50:22.942463",
     "status": "completed"
    },
    "tags": []
   },
   "outputs": [],
   "source": [
    "if mode == \"keep-all\":\n",
    "    keep_mask = pd.Series(True, index=org_train.index)\n",
    "\n",
    "# org_train contains the original feature columns from features_org (in Simson)\n",
    "# features_org contains unprocessed features, for me X_train at beginning ???\n",
    "# For keep-all, creates a boolean Series (keep_mask) of all True, so no rows are removed.\n",
    "\n",
    "elif mode == \"drop-non-german\":\n",
    "    keep_mask = org_train[\"maxdeutsch1\"] == 1 # ??? what about missing values?\n",
    "\n",
    "else:\n",
    "    raise ValueError(f\"Unsupported mode for exclude_subgroups: {mode}\")\n"
   ]
  },
  {
   "cell_type": "code",
   "execution_count": 38,
   "id": "71651440",
   "metadata": {
    "execution": {
     "iopub.execute_input": "2025-07-30T20:50:23.017381Z",
     "iopub.status.busy": "2025-07-30T20:50:23.016673Z",
     "iopub.status.idle": "2025-07-30T20:50:23.024069Z",
     "shell.execute_reply": "2025-07-30T20:50:23.023080Z"
    },
    "papermill": {
     "duration": 0.0306,
     "end_time": "2025-07-30T20:50:23.025687",
     "exception": false,
     "start_time": "2025-07-30T20:50:22.995087",
     "status": "completed"
    },
    "tags": []
   },
   "outputs": [
    {
     "name": "stdout",
     "output_type": "stream",
     "text": [
      "Dropping 741 rows (14.82%) where mode='drop-non-german'\n"
     ]
    }
   ],
   "source": [
    "n_drop = (~keep_mask).sum() # Calculates how many rows are set to be dropped\n",
    "if n_drop > 0:\n",
    "    pct = n_drop / len(keep_mask) * 100\n",
    "    print(f\"Dropping {n_drop} rows ({pct:.2f}%) where mode='{mode}'\")"
   ]
  },
  {
   "cell_type": "code",
   "execution_count": 39,
   "id": "5fb8eee5",
   "metadata": {
    "execution": {
     "iopub.execute_input": "2025-07-30T20:50:23.069992Z",
     "iopub.status.busy": "2025-07-30T20:50:23.069258Z",
     "iopub.status.idle": "2025-07-30T20:50:23.077605Z",
     "shell.execute_reply": "2025-07-30T20:50:23.076650Z"
    },
    "papermill": {
     "duration": 0.031659,
     "end_time": "2025-07-30T20:50:23.079308",
     "exception": false,
     "start_time": "2025-07-30T20:50:23.047649",
     "status": "completed"
    },
    "tags": []
   },
   "outputs": [],
   "source": [
    "X_train = X_train[keep_mask]"
   ]
  },
  {
   "cell_type": "code",
   "execution_count": 40,
   "id": "b202bb3a",
   "metadata": {
    "execution": {
     "iopub.execute_input": "2025-07-30T20:50:23.123696Z",
     "iopub.status.busy": "2025-07-30T20:50:23.123104Z",
     "iopub.status.idle": "2025-07-30T20:50:23.129780Z",
     "shell.execute_reply": "2025-07-30T20:50:23.128885Z"
    },
    "papermill": {
     "duration": 0.030201,
     "end_time": "2025-07-30T20:50:23.131575",
     "exception": false,
     "start_time": "2025-07-30T20:50:23.101374",
     "status": "completed"
    },
    "tags": []
   },
   "outputs": [],
   "source": [
    "y_train = y_train[keep_mask]"
   ]
  },
  {
   "cell_type": "markdown",
   "id": "493e2ac3",
   "metadata": {
    "papermill": {
     "duration": 0.020294,
     "end_time": "2025-07-30T20:50:23.173836",
     "exception": false,
     "start_time": "2025-07-30T20:50:23.153542",
     "status": "completed"
    },
    "tags": []
   },
   "source": [
    "# Model Training"
   ]
  },
  {
   "cell_type": "code",
   "execution_count": 41,
   "id": "679e1268",
   "metadata": {
    "execution": {
     "iopub.execute_input": "2025-07-30T20:50:23.216839Z",
     "iopub.status.busy": "2025-07-30T20:50:23.216086Z",
     "iopub.status.idle": "2025-07-30T20:50:23.315769Z",
     "shell.execute_reply": "2025-07-30T20:50:23.314798Z"
    },
    "papermill": {
     "duration": 0.123438,
     "end_time": "2025-07-30T20:50:23.317855",
     "exception": false,
     "start_time": "2025-07-30T20:50:23.194417",
     "status": "completed"
    },
    "tags": []
   },
   "outputs": [],
   "source": [
    "from sklearn.linear_model import LogisticRegression\n",
    "from sklearn.ensemble import GradientBoostingClassifier, RandomForestClassifier\n",
    "\n",
    "if (universe[\"model\"] == \"logreg\"):\n",
    "    model = LogisticRegression() #penalty=\"none\") #, solver=\"newton-cg\", max_iter=1) # include random_state=19 ?\n",
    "elif (universe[\"model\"] == \"penalized_logreg\"):\n",
    "    model = LogisticRegression(penalty=\"l2\", C=1.0) #, solver=\"newton-cg\", max_iter=1)\n",
    "elif (universe[\"model\"] == \"rf\"):\n",
    "    model = RandomForestClassifier(n_estimators=100, n_jobs=-1)\n",
    "elif (universe[\"model\"] == \"gbm\"):\n",
    "    model = GradientBoostingClassifier()\n",
    "elif (universe[\"model\"] == \"elasticnet\"):\n",
    "    model = LogisticRegression(penalty = 'elasticnet', solver = 'saga', l1_ratio = 0.5, max_iter=5000) # which solver to use?\n",
    "else:\n",
    "    raise \"Unsupported universe.model\""
   ]
  },
  {
   "cell_type": "code",
   "execution_count": 42,
   "id": "0cc8f744",
   "metadata": {
    "execution": {
     "iopub.execute_input": "2025-07-30T20:50:23.371715Z",
     "iopub.status.busy": "2025-07-30T20:50:23.371054Z",
     "iopub.status.idle": "2025-07-30T20:50:23.377943Z",
     "shell.execute_reply": "2025-07-30T20:50:23.376860Z"
    },
    "papermill": {
     "duration": 0.035617,
     "end_time": "2025-07-30T20:50:23.379575",
     "exception": false,
     "start_time": "2025-07-30T20:50:23.343958",
     "status": "completed"
    },
    "tags": []
   },
   "outputs": [],
   "source": [
    "import numpy as np\n",
    "from sklearn.pipeline import Pipeline\n",
    "from sklearn.preprocessing import StandardScaler\n",
    "\n",
    "model = Pipeline([\n",
    "    #(\"continuous_processor\", continuous_processor),\n",
    "    #(\"categorical_preprocessor\", categorical_preprocessor),\n",
    "    (\"scale\", StandardScaler() if universe[\"scale\"] == \"scale\" else None), \n",
    "    (\"model\", model),\n",
    "])"
   ]
  },
  {
   "cell_type": "code",
   "execution_count": 43,
   "id": "9442c04d",
   "metadata": {
    "execution": {
     "iopub.execute_input": "2025-07-30T20:50:23.424258Z",
     "iopub.status.busy": "2025-07-30T20:50:23.423383Z",
     "iopub.status.idle": "2025-07-30T20:50:30.660073Z",
     "shell.execute_reply": "2025-07-30T20:50:30.658657Z"
    },
    "papermill": {
     "duration": 7.260708,
     "end_time": "2025-07-30T20:50:30.662432",
     "exception": false,
     "start_time": "2025-07-30T20:50:23.401724",
     "status": "completed"
    },
    "tags": []
   },
   "outputs": [
    {
     "data": {
      "text/html": [
       "<style>#sk-container-id-1 {color: black;background-color: white;}#sk-container-id-1 pre{padding: 0;}#sk-container-id-1 div.sk-toggleable {background-color: white;}#sk-container-id-1 label.sk-toggleable__label {cursor: pointer;display: block;width: 100%;margin-bottom: 0;padding: 0.3em;box-sizing: border-box;text-align: center;}#sk-container-id-1 label.sk-toggleable__label-arrow:before {content: \"▸\";float: left;margin-right: 0.25em;color: #696969;}#sk-container-id-1 label.sk-toggleable__label-arrow:hover:before {color: black;}#sk-container-id-1 div.sk-estimator:hover label.sk-toggleable__label-arrow:before {color: black;}#sk-container-id-1 div.sk-toggleable__content {max-height: 0;max-width: 0;overflow: hidden;text-align: left;background-color: #f0f8ff;}#sk-container-id-1 div.sk-toggleable__content pre {margin: 0.2em;color: black;border-radius: 0.25em;background-color: #f0f8ff;}#sk-container-id-1 input.sk-toggleable__control:checked~div.sk-toggleable__content {max-height: 200px;max-width: 100%;overflow: auto;}#sk-container-id-1 input.sk-toggleable__control:checked~label.sk-toggleable__label-arrow:before {content: \"▾\";}#sk-container-id-1 div.sk-estimator input.sk-toggleable__control:checked~label.sk-toggleable__label {background-color: #d4ebff;}#sk-container-id-1 div.sk-label input.sk-toggleable__control:checked~label.sk-toggleable__label {background-color: #d4ebff;}#sk-container-id-1 input.sk-hidden--visually {border: 0;clip: rect(1px 1px 1px 1px);clip: rect(1px, 1px, 1px, 1px);height: 1px;margin: -1px;overflow: hidden;padding: 0;position: absolute;width: 1px;}#sk-container-id-1 div.sk-estimator {font-family: monospace;background-color: #f0f8ff;border: 1px dotted black;border-radius: 0.25em;box-sizing: border-box;margin-bottom: 0.5em;}#sk-container-id-1 div.sk-estimator:hover {background-color: #d4ebff;}#sk-container-id-1 div.sk-parallel-item::after {content: \"\";width: 100%;border-bottom: 1px solid gray;flex-grow: 1;}#sk-container-id-1 div.sk-label:hover label.sk-toggleable__label {background-color: #d4ebff;}#sk-container-id-1 div.sk-serial::before {content: \"\";position: absolute;border-left: 1px solid gray;box-sizing: border-box;top: 0;bottom: 0;left: 50%;z-index: 0;}#sk-container-id-1 div.sk-serial {display: flex;flex-direction: column;align-items: center;background-color: white;padding-right: 0.2em;padding-left: 0.2em;position: relative;}#sk-container-id-1 div.sk-item {position: relative;z-index: 1;}#sk-container-id-1 div.sk-parallel {display: flex;align-items: stretch;justify-content: center;background-color: white;position: relative;}#sk-container-id-1 div.sk-item::before, #sk-container-id-1 div.sk-parallel-item::before {content: \"\";position: absolute;border-left: 1px solid gray;box-sizing: border-box;top: 0;bottom: 0;left: 50%;z-index: -1;}#sk-container-id-1 div.sk-parallel-item {display: flex;flex-direction: column;z-index: 1;position: relative;background-color: white;}#sk-container-id-1 div.sk-parallel-item:first-child::after {align-self: flex-end;width: 50%;}#sk-container-id-1 div.sk-parallel-item:last-child::after {align-self: flex-start;width: 50%;}#sk-container-id-1 div.sk-parallel-item:only-child::after {width: 0;}#sk-container-id-1 div.sk-dashed-wrapped {border: 1px dashed gray;margin: 0 0.4em 0.5em 0.4em;box-sizing: border-box;padding-bottom: 0.4em;background-color: white;}#sk-container-id-1 div.sk-label label {font-family: monospace;font-weight: bold;display: inline-block;line-height: 1.2em;}#sk-container-id-1 div.sk-label-container {text-align: center;}#sk-container-id-1 div.sk-container {/* jupyter's `normalize.less` sets `[hidden] { display: none; }` but bootstrap.min.css set `[hidden] { display: none !important; }` so we also need the `!important` here to be able to override the default hidden behavior on the sphinx rendered scikit-learn.org. See: https://github.com/scikit-learn/scikit-learn/issues/21755 */display: inline-block !important;position: relative;}#sk-container-id-1 div.sk-text-repr-fallback {display: none;}</style><div id=\"sk-container-id-1\" class=\"sk-top-container\"><div class=\"sk-text-repr-fallback\"><pre>Pipeline(steps=[(&#x27;scale&#x27;, StandardScaler()),\n",
       "                (&#x27;model&#x27;,\n",
       "                 LogisticRegression(l1_ratio=0.5, max_iter=5000,\n",
       "                                    penalty=&#x27;elasticnet&#x27;, solver=&#x27;saga&#x27;))])</pre><b>In a Jupyter environment, please rerun this cell to show the HTML representation or trust the notebook. <br />On GitHub, the HTML representation is unable to render, please try loading this page with nbviewer.org.</b></div><div class=\"sk-container\" hidden><div class=\"sk-item sk-dashed-wrapped\"><div class=\"sk-label-container\"><div class=\"sk-label sk-toggleable\"><input class=\"sk-toggleable__control sk-hidden--visually\" id=\"sk-estimator-id-1\" type=\"checkbox\" ><label for=\"sk-estimator-id-1\" class=\"sk-toggleable__label sk-toggleable__label-arrow\">Pipeline</label><div class=\"sk-toggleable__content\"><pre>Pipeline(steps=[(&#x27;scale&#x27;, StandardScaler()),\n",
       "                (&#x27;model&#x27;,\n",
       "                 LogisticRegression(l1_ratio=0.5, max_iter=5000,\n",
       "                                    penalty=&#x27;elasticnet&#x27;, solver=&#x27;saga&#x27;))])</pre></div></div></div><div class=\"sk-serial\"><div class=\"sk-item\"><div class=\"sk-estimator sk-toggleable\"><input class=\"sk-toggleable__control sk-hidden--visually\" id=\"sk-estimator-id-2\" type=\"checkbox\" ><label for=\"sk-estimator-id-2\" class=\"sk-toggleable__label sk-toggleable__label-arrow\">StandardScaler</label><div class=\"sk-toggleable__content\"><pre>StandardScaler()</pre></div></div></div><div class=\"sk-item\"><div class=\"sk-estimator sk-toggleable\"><input class=\"sk-toggleable__control sk-hidden--visually\" id=\"sk-estimator-id-3\" type=\"checkbox\" ><label for=\"sk-estimator-id-3\" class=\"sk-toggleable__label sk-toggleable__label-arrow\">LogisticRegression</label><div class=\"sk-toggleable__content\"><pre>LogisticRegression(l1_ratio=0.5, max_iter=5000, penalty=&#x27;elasticnet&#x27;,\n",
       "                   solver=&#x27;saga&#x27;)</pre></div></div></div></div></div></div></div>"
      ],
      "text/plain": [
       "Pipeline(steps=[('scale', StandardScaler()),\n",
       "                ('model',\n",
       "                 LogisticRegression(l1_ratio=0.5, max_iter=5000,\n",
       "                                    penalty='elasticnet', solver='saga'))])"
      ]
     },
     "execution_count": 43,
     "metadata": {},
     "output_type": "execute_result"
    }
   ],
   "source": [
    "model.fit(X_train, y_train.values.ravel())"
   ]
  },
  {
   "cell_type": "code",
   "execution_count": 44,
   "id": "af59f8c0",
   "metadata": {
    "execution": {
     "iopub.execute_input": "2025-07-30T20:50:30.741244Z",
     "iopub.status.busy": "2025-07-30T20:50:30.740704Z",
     "iopub.status.idle": "2025-07-30T20:50:30.748882Z",
     "shell.execute_reply": "2025-07-30T20:50:30.747688Z"
    },
    "papermill": {
     "duration": 0.055822,
     "end_time": "2025-07-30T20:50:30.751226",
     "exception": false,
     "start_time": "2025-07-30T20:50:30.695404",
     "status": "completed"
    },
    "tags": []
   },
   "outputs": [],
   "source": [
    "from fairness_multiverse.universe import predict_w_threshold"
   ]
  },
  {
   "cell_type": "code",
   "execution_count": 45,
   "id": "a7cf2e16",
   "metadata": {
    "execution": {
     "iopub.execute_input": "2025-07-30T20:50:30.800763Z",
     "iopub.status.busy": "2025-07-30T20:50:30.799981Z",
     "iopub.status.idle": "2025-07-30T20:50:31.005895Z",
     "shell.execute_reply": "2025-07-30T20:50:31.004985Z"
    },
    "papermill": {
     "duration": 0.225452,
     "end_time": "2025-07-30T20:50:31.007768",
     "exception": false,
     "start_time": "2025-07-30T20:50:30.782316",
     "status": "completed"
    },
    "tags": []
   },
   "outputs": [
    {
     "data": {
      "text/plain": [
       "0.8562033218147364"
      ]
     },
     "execution_count": 45,
     "metadata": {},
     "output_type": "execute_result"
    }
   ],
   "source": [
    "probs_test = model.predict_proba(X_test)\n",
    "\n",
    "'''\n",
    "Below code returns a boolean array (or binary 0/1 array depending on how it’s used) where each element \n",
    "is True if the probability of class 1 is greater than or equal to the threshold, and False otherwise.\n",
    "'''\n",
    "y_pred_default = predict_w_threshold(probs_test, 0.5)\n",
    "\n",
    "from sklearn.metrics import accuracy_score\n",
    "\n",
    "# Naive prediction\n",
    "accuracy_score(y_true = y_true, y_pred = y_pred_default)"
   ]
  },
  {
   "cell_type": "code",
   "execution_count": 46,
   "id": "081964c3",
   "metadata": {
    "execution": {
     "iopub.execute_input": "2025-07-30T20:50:31.060918Z",
     "iopub.status.busy": "2025-07-30T20:50:31.060339Z",
     "iopub.status.idle": "2025-07-30T20:50:31.259737Z",
     "shell.execute_reply": "2025-07-30T20:50:31.258691Z"
    },
    "papermill": {
     "duration": 0.227598,
     "end_time": "2025-07-30T20:50:31.261163",
     "exception": false,
     "start_time": "2025-07-30T20:50:31.033565",
     "status": "completed"
    },
    "tags": []
   },
   "outputs": [
    {
     "data": {
      "text/plain": [
       "array([0, 0, 0, ..., 0, 0, 0])"
      ]
     },
     "execution_count": 46,
     "metadata": {},
     "output_type": "execute_result"
    }
   ],
   "source": [
    "model.predict(X_test)"
   ]
  },
  {
   "cell_type": "markdown",
   "id": "56c9705b",
   "metadata": {
    "papermill": {
     "duration": 0.025972,
     "end_time": "2025-07-30T20:50:31.306773",
     "exception": false,
     "start_time": "2025-07-30T20:50:31.280801",
     "status": "completed"
    },
    "tags": []
   },
   "source": [
    "# Conformal Prediction"
   ]
  },
  {
   "cell_type": "code",
   "execution_count": 47,
   "id": "160ec6ff",
   "metadata": {
    "execution": {
     "iopub.execute_input": "2025-07-30T20:50:31.348676Z",
     "iopub.status.busy": "2025-07-30T20:50:31.348219Z",
     "iopub.status.idle": "2025-07-30T20:50:31.352934Z",
     "shell.execute_reply": "2025-07-30T20:50:31.352115Z"
    },
    "papermill": {
     "duration": 0.022724,
     "end_time": "2025-07-30T20:50:31.354491",
     "exception": false,
     "start_time": "2025-07-30T20:50:31.331767",
     "status": "completed"
    },
    "tags": []
   },
   "outputs": [],
   "source": [
    "# Miscoverage level for conformal prediction (10% allowed error rate => 90% target coverage)\n",
    "alpha = 0.1"
   ]
  },
  {
   "cell_type": "code",
   "execution_count": 48,
   "id": "eadf4555-3dd3-440e-8e35-f82a4ad9f855",
   "metadata": {
    "execution": {
     "iopub.execute_input": "2025-07-30T20:50:31.403914Z",
     "iopub.status.busy": "2025-07-30T20:50:31.403564Z",
     "iopub.status.idle": "2025-07-30T20:50:31.616150Z",
     "shell.execute_reply": "2025-07-30T20:50:31.615380Z"
    },
    "papermill": {
     "duration": 0.239236,
     "end_time": "2025-07-30T20:50:31.617889",
     "exception": false,
     "start_time": "2025-07-30T20:50:31.378653",
     "status": "completed"
    },
    "tags": []
   },
   "outputs": [],
   "source": [
    "probs_calib = model.predict_proba(X_calib)"
   ]
  },
  {
   "cell_type": "code",
   "execution_count": 49,
   "id": "2ed93547-6d5d-4983-9b36-1ecb300da49a",
   "metadata": {
    "execution": {
     "iopub.execute_input": "2025-07-30T20:50:31.668190Z",
     "iopub.status.busy": "2025-07-30T20:50:31.667664Z",
     "iopub.status.idle": "2025-07-30T20:50:31.672954Z",
     "shell.execute_reply": "2025-07-30T20:50:31.672262Z"
    },
    "papermill": {
     "duration": 0.019843,
     "end_time": "2025-07-30T20:50:31.674357",
     "exception": false,
     "start_time": "2025-07-30T20:50:31.654514",
     "status": "completed"
    },
    "tags": []
   },
   "outputs": [],
   "source": [
    "y_calib = y_calib.values.ravel().astype(int)"
   ]
  },
  {
   "cell_type": "code",
   "execution_count": 50,
   "id": "65d1320d-f588-4b38-9072-62af1ae97f7d",
   "metadata": {
    "execution": {
     "iopub.execute_input": "2025-07-30T20:50:31.746609Z",
     "iopub.status.busy": "2025-07-30T20:50:31.745524Z",
     "iopub.status.idle": "2025-07-30T20:50:31.756181Z",
     "shell.execute_reply": "2025-07-30T20:50:31.754918Z"
    },
    "papermill": {
     "duration": 0.032997,
     "end_time": "2025-07-30T20:50:31.758183",
     "exception": false,
     "start_time": "2025-07-30T20:50:31.725186",
     "status": "completed"
    },
    "tags": []
   },
   "outputs": [],
   "source": [
    "from fairness_multiverse.conformal import compute_nc_scores\n",
    "\n",
    "# Compute nonconformity scores on calibration set (1 - probability of true class)\n",
    "nc_scores = compute_nc_scores(probs_calib, y_calib)"
   ]
  },
  {
   "cell_type": "code",
   "execution_count": 51,
   "id": "df3b8ca3-53b7-43d5-9667-7c85da7aeda2",
   "metadata": {
    "execution": {
     "iopub.execute_input": "2025-07-30T20:50:31.813110Z",
     "iopub.status.busy": "2025-07-30T20:50:31.812226Z",
     "iopub.status.idle": "2025-07-30T20:50:31.820777Z",
     "shell.execute_reply": "2025-07-30T20:50:31.819543Z"
    },
    "papermill": {
     "duration": 0.039072,
     "end_time": "2025-07-30T20:50:31.822577",
     "exception": false,
     "start_time": "2025-07-30T20:50:31.783505",
     "status": "completed"
    },
    "tags": []
   },
   "outputs": [],
   "source": [
    "from fairness_multiverse.conformal import find_threshold\n",
    "\n",
    "# Find conformal threshold q_hat for the given alpha (split conformal method)\n",
    "q_hat = find_threshold(nc_scores, alpha)"
   ]
  },
  {
   "cell_type": "code",
   "execution_count": 52,
   "id": "4d29e6c1-0ef6-4aa4-b8fe-4fe79b0d033a",
   "metadata": {
    "execution": {
     "iopub.execute_input": "2025-07-30T20:50:31.874933Z",
     "iopub.status.busy": "2025-07-30T20:50:31.873772Z",
     "iopub.status.idle": "2025-07-30T20:50:31.883531Z",
     "shell.execute_reply": "2025-07-30T20:50:31.882232Z"
    },
    "papermill": {
     "duration": 0.039395,
     "end_time": "2025-07-30T20:50:31.885326",
     "exception": false,
     "start_time": "2025-07-30T20:50:31.845931",
     "status": "completed"
    },
    "tags": []
   },
   "outputs": [
    {
     "data": {
      "text/plain": [
       "0.6996408330810253"
      ]
     },
     "execution_count": 52,
     "metadata": {},
     "output_type": "execute_result"
    }
   ],
   "source": [
    "q_hat"
   ]
  },
  {
   "cell_type": "code",
   "execution_count": 53,
   "id": "92460794-cdac-4be2-ba28-f28c0515a6fb",
   "metadata": {
    "execution": {
     "iopub.execute_input": "2025-07-30T20:50:31.938187Z",
     "iopub.status.busy": "2025-07-30T20:50:31.937098Z",
     "iopub.status.idle": "2025-07-30T20:50:32.947005Z",
     "shell.execute_reply": "2025-07-30T20:50:32.946061Z"
    },
    "papermill": {
     "duration": 1.04008,
     "end_time": "2025-07-30T20:50:32.948883",
     "exception": false,
     "start_time": "2025-07-30T20:50:31.908803",
     "status": "completed"
    },
    "tags": []
   },
   "outputs": [],
   "source": [
    "from fairness_multiverse.conformal import predict_conformal_sets\n",
    "\n",
    "# Generate prediction sets for each test example\n",
    "pred_sets = predict_conformal_sets(model, X_test, q_hat)"
   ]
  },
  {
   "cell_type": "code",
   "execution_count": 54,
   "id": "d90c9a65-e6db-4f5d-80cd-e68fb7e46829",
   "metadata": {
    "execution": {
     "iopub.execute_input": "2025-07-30T20:50:32.999122Z",
     "iopub.status.busy": "2025-07-30T20:50:32.998630Z",
     "iopub.status.idle": "2025-07-30T20:50:33.004171Z",
     "shell.execute_reply": "2025-07-30T20:50:33.003284Z"
    },
    "papermill": {
     "duration": 0.032266,
     "end_time": "2025-07-30T20:50:33.005934",
     "exception": false,
     "start_time": "2025-07-30T20:50:32.973668",
     "status": "completed"
    },
    "tags": []
   },
   "outputs": [],
   "source": [
    "y_true = y_true.squeeze()"
   ]
  },
  {
   "cell_type": "code",
   "execution_count": 55,
   "id": "3a58a54a-1e68-46b9-927a-df01f18aebc8",
   "metadata": {
    "execution": {
     "iopub.execute_input": "2025-07-30T20:50:33.079406Z",
     "iopub.status.busy": "2025-07-30T20:50:33.078923Z",
     "iopub.status.idle": "2025-07-30T20:50:33.973915Z",
     "shell.execute_reply": "2025-07-30T20:50:33.972938Z"
    },
    "papermill": {
     "duration": 0.931451,
     "end_time": "2025-07-30T20:50:33.975846",
     "exception": false,
     "start_time": "2025-07-30T20:50:33.044395",
     "status": "completed"
    },
    "tags": []
   },
   "outputs": [],
   "source": [
    "from fairness_multiverse.conformal import evaluate_sets\n",
    "\n",
    "# Evaluate coverage and average set size on test data\n",
    "metrics = evaluate_sets(pred_sets, y_true)"
   ]
  },
  {
   "cell_type": "markdown",
   "id": "2b569c12-9aaa-4c88-98c9-bbcd0cf3ebb8",
   "metadata": {
    "papermill": {
     "duration": 0.022718,
     "end_time": "2025-07-30T20:50:34.024888",
     "exception": false,
     "start_time": "2025-07-30T20:50:34.002170",
     "status": "completed"
    },
    "tags": []
   },
   "source": [
    "# CP Metrics"
   ]
  },
  {
   "cell_type": "code",
   "execution_count": 56,
   "id": "5ce0a5cb-201f-45a0-ade5-94c7f0bd6095",
   "metadata": {
    "execution": {
     "iopub.execute_input": "2025-07-30T20:50:34.071503Z",
     "iopub.status.busy": "2025-07-30T20:50:34.070815Z",
     "iopub.status.idle": "2025-07-30T20:50:34.078608Z",
     "shell.execute_reply": "2025-07-30T20:50:34.077660Z"
    },
    "papermill": {
     "duration": 0.033034,
     "end_time": "2025-07-30T20:50:34.080225",
     "exception": false,
     "start_time": "2025-07-30T20:50:34.047191",
     "status": "completed"
    },
    "tags": []
   },
   "outputs": [
    {
     "data": {
      "text/plain": [
       "{'coverage': 0.9104559134990525, 'avg_size': 1.1380002229405863}"
      ]
     },
     "execution_count": 56,
     "metadata": {},
     "output_type": "execute_result"
    }
   ],
   "source": [
    "metrics"
   ]
  },
  {
   "cell_type": "code",
   "execution_count": 57,
   "id": "9b9a838d-31c9-430b-ae14-12baee460d17",
   "metadata": {
    "execution": {
     "iopub.execute_input": "2025-07-30T20:50:34.129734Z",
     "iopub.status.busy": "2025-07-30T20:50:34.128964Z",
     "iopub.status.idle": "2025-07-30T20:50:34.135174Z",
     "shell.execute_reply": "2025-07-30T20:50:34.134329Z"
    },
    "papermill": {
     "duration": 0.032059,
     "end_time": "2025-07-30T20:50:34.137021",
     "exception": false,
     "start_time": "2025-07-30T20:50:34.104962",
     "status": "completed"
    },
    "tags": []
   },
   "outputs": [],
   "source": [
    "example_universe = universe.copy()\n",
    "universe_training_year = example_universe.get(\"training_year\")\n",
    "universe_training_size = example_universe.get(\"training_size\")\n",
    "universe_scale = example_universe.get(\"scale\")\n",
    "universe_model = example_universe.get(\"model\")\n",
    "universe_exclude_features = example_universe.get(\"exclude_features\")\n",
    "universe_exclude_subgroups = example_universe.get(\"exclude_subgroups\")"
   ]
  },
  {
   "cell_type": "code",
   "execution_count": 58,
   "id": "f4b6a8ac-9dc0-4245-8a91-5b3b5999c4f9",
   "metadata": {
    "execution": {
     "iopub.execute_input": "2025-07-30T20:50:34.185808Z",
     "iopub.status.busy": "2025-07-30T20:50:34.185327Z",
     "iopub.status.idle": "2025-07-30T20:50:34.192072Z",
     "shell.execute_reply": "2025-07-30T20:50:34.191121Z"
    },
    "papermill": {
     "duration": 0.032667,
     "end_time": "2025-07-30T20:50:34.193801",
     "exception": false,
     "start_time": "2025-07-30T20:50:34.161134",
     "status": "completed"
    },
    "tags": []
   },
   "outputs": [],
   "source": [
    "cp_metrics_dict = {\n",
    "    \"universe_id\": [universe_id],\n",
    "    \"universe_training_year\": [universe_training_year],\n",
    "    \"universe_training_size\": [universe_training_size],\n",
    "    \"universe_scale\": [universe_scale],\n",
    "    \"universe_model\": [universe_model],\n",
    "    \"universe_exclude_features\": [universe_exclude_features],\n",
    "    \"universe_exclude_subgroups\": [universe_exclude_subgroups],\n",
    "    \"q_hat\": [q_hat],\n",
    "    \"coverage\": [metrics[\"coverage\"]],\n",
    "    \"avg_size\": [metrics[\"avg_size\"]],\n",
    "}"
   ]
  },
  {
   "cell_type": "code",
   "execution_count": 59,
   "id": "908acbb1-0371-4915-85ca-3fa520d2efe2",
   "metadata": {
    "execution": {
     "iopub.execute_input": "2025-07-30T20:50:34.244502Z",
     "iopub.status.busy": "2025-07-30T20:50:34.243628Z",
     "iopub.status.idle": "2025-07-30T20:50:34.251887Z",
     "shell.execute_reply": "2025-07-30T20:50:34.250732Z"
    },
    "papermill": {
     "duration": 0.034958,
     "end_time": "2025-07-30T20:50:34.253491",
     "exception": false,
     "start_time": "2025-07-30T20:50:34.218533",
     "status": "completed"
    },
    "tags": []
   },
   "outputs": [
    {
     "data": {
      "text/plain": [
       "{'universe_id': ['c7d0fcf2d7e87c562abb0e366b0d215e'],\n",
       " 'universe_training_year': ['2014'],\n",
       " 'universe_training_size': ['5k'],\n",
       " 'universe_scale': ['scale'],\n",
       " 'universe_model': ['elasticnet'],\n",
       " 'universe_exclude_features': ['age'],\n",
       " 'universe_exclude_subgroups': ['drop-non-german'],\n",
       " 'q_hat': [0.6996408330810253],\n",
       " 'coverage': [0.9104559134990525],\n",
       " 'avg_size': [1.1380002229405863]}"
      ]
     },
     "execution_count": 59,
     "metadata": {},
     "output_type": "execute_result"
    }
   ],
   "source": [
    "cp_metrics_dict"
   ]
  },
  {
   "cell_type": "code",
   "execution_count": 60,
   "id": "33007efc-14e9-4ec6-97ac-56a455c82265",
   "metadata": {
    "execution": {
     "iopub.execute_input": "2025-07-30T20:50:34.304119Z",
     "iopub.status.busy": "2025-07-30T20:50:34.303689Z",
     "iopub.status.idle": "2025-07-30T20:50:34.310409Z",
     "shell.execute_reply": "2025-07-30T20:50:34.309478Z"
    },
    "papermill": {
     "duration": 0.033127,
     "end_time": "2025-07-30T20:50:34.312455",
     "exception": false,
     "start_time": "2025-07-30T20:50:34.279328",
     "status": "completed"
    },
    "tags": []
   },
   "outputs": [],
   "source": [
    "cp_metrics_df = pd.DataFrame(cp_metrics_dict)"
   ]
  },
  {
   "cell_type": "code",
   "execution_count": 61,
   "id": "db12611b-57b2-4910-b9d0-355adfd6e7bf",
   "metadata": {
    "execution": {
     "iopub.execute_input": "2025-07-30T20:50:34.368506Z",
     "iopub.status.busy": "2025-07-30T20:50:34.367806Z",
     "iopub.status.idle": "2025-07-30T20:50:34.387369Z",
     "shell.execute_reply": "2025-07-30T20:50:34.386495Z"
    },
    "papermill": {
     "duration": 0.049511,
     "end_time": "2025-07-30T20:50:34.389042",
     "exception": false,
     "start_time": "2025-07-30T20:50:34.339531",
     "status": "completed"
    },
    "tags": []
   },
   "outputs": [
    {
     "data": {
      "text/html": [
       "<div>\n",
       "<style scoped>\n",
       "    .dataframe tbody tr th:only-of-type {\n",
       "        vertical-align: middle;\n",
       "    }\n",
       "\n",
       "    .dataframe tbody tr th {\n",
       "        vertical-align: top;\n",
       "    }\n",
       "\n",
       "    .dataframe thead th {\n",
       "        text-align: right;\n",
       "    }\n",
       "</style>\n",
       "<table border=\"1\" class=\"dataframe\">\n",
       "  <thead>\n",
       "    <tr style=\"text-align: right;\">\n",
       "      <th></th>\n",
       "      <th>universe_id</th>\n",
       "      <th>universe_training_year</th>\n",
       "      <th>universe_training_size</th>\n",
       "      <th>universe_scale</th>\n",
       "      <th>universe_model</th>\n",
       "      <th>universe_exclude_features</th>\n",
       "      <th>universe_exclude_subgroups</th>\n",
       "      <th>q_hat</th>\n",
       "      <th>coverage</th>\n",
       "      <th>avg_size</th>\n",
       "    </tr>\n",
       "  </thead>\n",
       "  <tbody>\n",
       "    <tr>\n",
       "      <th>0</th>\n",
       "      <td>c7d0fcf2d7e87c562abb0e366b0d215e</td>\n",
       "      <td>2014</td>\n",
       "      <td>5k</td>\n",
       "      <td>scale</td>\n",
       "      <td>elasticnet</td>\n",
       "      <td>age</td>\n",
       "      <td>drop-non-german</td>\n",
       "      <td>0.699641</td>\n",
       "      <td>0.910456</td>\n",
       "      <td>1.138</td>\n",
       "    </tr>\n",
       "  </tbody>\n",
       "</table>\n",
       "</div>"
      ],
      "text/plain": [
       "                        universe_id universe_training_year  \\\n",
       "0  c7d0fcf2d7e87c562abb0e366b0d215e                   2014   \n",
       "\n",
       "  universe_training_size universe_scale universe_model  \\\n",
       "0                     5k          scale     elasticnet   \n",
       "\n",
       "  universe_exclude_features universe_exclude_subgroups     q_hat  coverage  \\\n",
       "0                       age            drop-non-german  0.699641  0.910456   \n",
       "\n",
       "   avg_size  \n",
       "0     1.138  "
      ]
     },
     "execution_count": 61,
     "metadata": {},
     "output_type": "execute_result"
    }
   ],
   "source": [
    "cp_metrics_df"
   ]
  },
  {
   "cell_type": "code",
   "execution_count": 62,
   "id": "b7fbde55-a0a1-47e4-9af6-fe4a17fa8c61",
   "metadata": {
    "execution": {
     "iopub.execute_input": "2025-07-30T20:50:34.441267Z",
     "iopub.status.busy": "2025-07-30T20:50:34.440816Z",
     "iopub.status.idle": "2025-07-30T20:50:34.445946Z",
     "shell.execute_reply": "2025-07-30T20:50:34.444963Z"
    },
    "papermill": {
     "duration": 0.033822,
     "end_time": "2025-07-30T20:50:34.447611",
     "exception": false,
     "start_time": "2025-07-30T20:50:34.413789",
     "status": "completed"
    },
    "tags": []
   },
   "outputs": [],
   "source": [
    "# Conditional Coverage & looking at subgroups"
   ]
  },
  {
   "cell_type": "code",
   "execution_count": 63,
   "id": "027ae886-68dd-4141-96c7-805a5450e1ef",
   "metadata": {
    "execution": {
     "iopub.execute_input": "2025-07-30T20:50:34.500393Z",
     "iopub.status.busy": "2025-07-30T20:50:34.499785Z",
     "iopub.status.idle": "2025-07-30T20:50:34.724823Z",
     "shell.execute_reply": "2025-07-30T20:50:34.724108Z"
    },
    "papermill": {
     "duration": 0.253874,
     "end_time": "2025-07-30T20:50:34.726542",
     "exception": false,
     "start_time": "2025-07-30T20:50:34.472668",
     "status": "completed"
    },
    "tags": []
   },
   "outputs": [],
   "source": [
    "from fairness_multiverse.conformal import build_cp_groups\n",
    "\n",
    "cp_groups_df = build_cp_groups(pred_sets, y_true, X_test.index, org_test)\n",
    "#needs universe_id and setting"
   ]
  },
  {
   "cell_type": "code",
   "execution_count": 64,
   "id": "01d5802c-663a-4d1f-9d69-e036faaffbf7",
   "metadata": {
    "execution": {
     "iopub.execute_input": "2025-07-30T20:50:34.787219Z",
     "iopub.status.busy": "2025-07-30T20:50:34.786453Z",
     "iopub.status.idle": "2025-07-30T20:50:34.790908Z",
     "shell.execute_reply": "2025-07-30T20:50:34.790216Z"
    },
    "papermill": {
     "duration": 0.026232,
     "end_time": "2025-07-30T20:50:34.792372",
     "exception": false,
     "start_time": "2025-07-30T20:50:34.766140",
     "status": "completed"
    },
    "tags": []
   },
   "outputs": [],
   "source": [
    "#delete\n",
    "#cp_groups_df"
   ]
  },
  {
   "cell_type": "code",
   "execution_count": 65,
   "id": "fa424af1-d1eb-443d-b717-2d279ada8408",
   "metadata": {
    "execution": {
     "iopub.execute_input": "2025-07-30T20:50:34.824113Z",
     "iopub.status.busy": "2025-07-30T20:50:34.823671Z",
     "iopub.status.idle": "2025-07-30T20:50:34.829387Z",
     "shell.execute_reply": "2025-07-30T20:50:34.828487Z"
    },
    "papermill": {
     "duration": 0.024195,
     "end_time": "2025-07-30T20:50:34.831007",
     "exception": false,
     "start_time": "2025-07-30T20:50:34.806812",
     "status": "completed"
    },
    "tags": []
   },
   "outputs": [],
   "source": [
    "#delete\n",
    "#percentage = (cp_groups_df['nongerman_female'] == 1).mean() * 100\n",
    "#print(percentage)\n"
   ]
  },
  {
   "cell_type": "code",
   "execution_count": 66,
   "id": "6cbdab96-b2b2-45af-ad54-d0516db2e28d",
   "metadata": {
    "execution": {
     "iopub.execute_input": "2025-07-30T20:50:34.862097Z",
     "iopub.status.busy": "2025-07-30T20:50:34.861623Z",
     "iopub.status.idle": "2025-07-30T20:50:36.439181Z",
     "shell.execute_reply": "2025-07-30T20:50:36.438160Z"
    },
    "papermill": {
     "duration": 1.5946,
     "end_time": "2025-07-30T20:50:36.441161",
     "exception": false,
     "start_time": "2025-07-30T20:50:34.846561",
     "status": "completed"
    },
    "tags": []
   },
   "outputs": [],
   "source": [
    "# Define covered = 1 if true_label is in the predicted set\n",
    "cp_groups_df['covered'] = cp_groups_df.apply(\n",
    "    lambda r: int(r['true_label'] in r['pred_set']),\n",
    "    axis=1\n",
    ")"
   ]
  },
  {
   "cell_type": "code",
   "execution_count": 67,
   "id": "338ff529-1a6b-4b87-a931-8e4788d52aad",
   "metadata": {
    "execution": {
     "iopub.execute_input": "2025-07-30T20:50:36.501414Z",
     "iopub.status.busy": "2025-07-30T20:50:36.500703Z",
     "iopub.status.idle": "2025-07-30T20:50:36.506311Z",
     "shell.execute_reply": "2025-07-30T20:50:36.505308Z"
    },
    "papermill": {
     "duration": 0.035963,
     "end_time": "2025-07-30T20:50:36.508027",
     "exception": false,
     "start_time": "2025-07-30T20:50:36.472064",
     "status": "completed"
    },
    "tags": []
   },
   "outputs": [],
   "source": [
    "#cp_groups_df"
   ]
  },
  {
   "cell_type": "code",
   "execution_count": 68,
   "id": "90032e27-66df-4540-9169-4e89cfbaa758",
   "metadata": {
    "execution": {
     "iopub.execute_input": "2025-07-30T20:50:36.565288Z",
     "iopub.status.busy": "2025-07-30T20:50:36.564575Z",
     "iopub.status.idle": "2025-07-30T20:50:36.576865Z",
     "shell.execute_reply": "2025-07-30T20:50:36.575813Z"
    },
    "papermill": {
     "duration": 0.04287,
     "end_time": "2025-07-30T20:50:36.578664",
     "exception": false,
     "start_time": "2025-07-30T20:50:36.535794",
     "status": "completed"
    },
    "tags": []
   },
   "outputs": [],
   "source": [
    "subgroups = ['frau1','nongerman','nongerman_male','nongerman_female']\n",
    "\n",
    "# Conditional coverage for subgroup==1\n",
    "cond_coverage = {\n",
    "    g: cp_groups_df.loc[cp_groups_df[g]==1, 'covered'].mean()\n",
    "    for g in subgroups\n",
    "}"
   ]
  },
  {
   "cell_type": "code",
   "execution_count": 69,
   "id": "1e348fb1-b9c3-45bc-ba23-f016827a7e0d",
   "metadata": {
    "execution": {
     "iopub.execute_input": "2025-07-30T20:50:36.634383Z",
     "iopub.status.busy": "2025-07-30T20:50:36.633674Z",
     "iopub.status.idle": "2025-07-30T20:50:36.641356Z",
     "shell.execute_reply": "2025-07-30T20:50:36.640436Z"
    },
    "papermill": {
     "duration": 0.037025,
     "end_time": "2025-07-30T20:50:36.642971",
     "exception": false,
     "start_time": "2025-07-30T20:50:36.605946",
     "status": "completed"
    },
    "tags": []
   },
   "outputs": [
    {
     "data": {
      "text/plain": [
       "{'frau1': 0.9064833535516916,\n",
       " 'nongerman': 0.9047886375119295,\n",
       " 'nongerman_male': 0.9250652976672972,\n",
       " 'nongerman_female': 0.8712369597615499}"
      ]
     },
     "execution_count": 69,
     "metadata": {},
     "output_type": "execute_result"
    }
   ],
   "source": [
    "cond_coverage"
   ]
  },
  {
   "cell_type": "code",
   "execution_count": 70,
   "id": "f5093324-c3dd-4d63-bc4c-8d945e5c8bbb",
   "metadata": {
    "execution": {
     "iopub.execute_input": "2025-07-30T20:50:36.700067Z",
     "iopub.status.busy": "2025-07-30T20:50:36.699340Z",
     "iopub.status.idle": "2025-07-30T20:50:36.707279Z",
     "shell.execute_reply": "2025-07-30T20:50:36.706150Z"
    },
    "papermill": {
     "duration": 0.037718,
     "end_time": "2025-07-30T20:50:36.708945",
     "exception": false,
     "start_time": "2025-07-30T20:50:36.671227",
     "status": "completed"
    },
    "tags": []
   },
   "outputs": [],
   "source": [
    "for subgroup, cov in cond_coverage.items():\n",
    "    cp_metrics_df[f\"cov_{subgroup}\"] = cov"
   ]
  },
  {
   "cell_type": "code",
   "execution_count": 71,
   "id": "6e872e10-dbe5-49e8-b554-5030c98ff75d",
   "metadata": {
    "execution": {
     "iopub.execute_input": "2025-07-30T20:50:36.772641Z",
     "iopub.status.busy": "2025-07-30T20:50:36.771959Z",
     "iopub.status.idle": "2025-07-30T20:50:36.794418Z",
     "shell.execute_reply": "2025-07-30T20:50:36.793390Z"
    },
    "papermill": {
     "duration": 0.058655,
     "end_time": "2025-07-30T20:50:36.796320",
     "exception": false,
     "start_time": "2025-07-30T20:50:36.737665",
     "status": "completed"
    },
    "tags": []
   },
   "outputs": [
    {
     "data": {
      "text/html": [
       "<div>\n",
       "<style scoped>\n",
       "    .dataframe tbody tr th:only-of-type {\n",
       "        vertical-align: middle;\n",
       "    }\n",
       "\n",
       "    .dataframe tbody tr th {\n",
       "        vertical-align: top;\n",
       "    }\n",
       "\n",
       "    .dataframe thead th {\n",
       "        text-align: right;\n",
       "    }\n",
       "</style>\n",
       "<table border=\"1\" class=\"dataframe\">\n",
       "  <thead>\n",
       "    <tr style=\"text-align: right;\">\n",
       "      <th></th>\n",
       "      <th>universe_id</th>\n",
       "      <th>universe_training_year</th>\n",
       "      <th>universe_training_size</th>\n",
       "      <th>universe_scale</th>\n",
       "      <th>universe_model</th>\n",
       "      <th>universe_exclude_features</th>\n",
       "      <th>universe_exclude_subgroups</th>\n",
       "      <th>q_hat</th>\n",
       "      <th>coverage</th>\n",
       "      <th>avg_size</th>\n",
       "      <th>cov_frau1</th>\n",
       "      <th>cov_nongerman</th>\n",
       "      <th>cov_nongerman_male</th>\n",
       "      <th>cov_nongerman_female</th>\n",
       "    </tr>\n",
       "  </thead>\n",
       "  <tbody>\n",
       "    <tr>\n",
       "      <th>0</th>\n",
       "      <td>c7d0fcf2d7e87c562abb0e366b0d215e</td>\n",
       "      <td>2014</td>\n",
       "      <td>5k</td>\n",
       "      <td>scale</td>\n",
       "      <td>elasticnet</td>\n",
       "      <td>age</td>\n",
       "      <td>drop-non-german</td>\n",
       "      <td>0.699641</td>\n",
       "      <td>0.910456</td>\n",
       "      <td>1.138</td>\n",
       "      <td>0.906483</td>\n",
       "      <td>0.904789</td>\n",
       "      <td>0.925065</td>\n",
       "      <td>0.871237</td>\n",
       "    </tr>\n",
       "  </tbody>\n",
       "</table>\n",
       "</div>"
      ],
      "text/plain": [
       "                        universe_id universe_training_year  \\\n",
       "0  c7d0fcf2d7e87c562abb0e366b0d215e                   2014   \n",
       "\n",
       "  universe_training_size universe_scale universe_model  \\\n",
       "0                     5k          scale     elasticnet   \n",
       "\n",
       "  universe_exclude_features universe_exclude_subgroups     q_hat  coverage  \\\n",
       "0                       age            drop-non-german  0.699641  0.910456   \n",
       "\n",
       "   avg_size  cov_frau1  cov_nongerman  cov_nongerman_male  \\\n",
       "0     1.138   0.906483       0.904789            0.925065   \n",
       "\n",
       "   cov_nongerman_female  \n",
       "0              0.871237  "
      ]
     },
     "execution_count": 71,
     "metadata": {},
     "output_type": "execute_result"
    }
   ],
   "source": [
    "cp_metrics_df"
   ]
  },
  {
   "cell_type": "markdown",
   "id": "33774451",
   "metadata": {
    "papermill": {
     "duration": 0.025718,
     "end_time": "2025-07-30T20:50:36.851299",
     "exception": false,
     "start_time": "2025-07-30T20:50:36.825581",
     "status": "completed"
    },
    "tags": []
   },
   "source": [
    "# (Fairness) Metrics"
   ]
  },
  {
   "cell_type": "code",
   "execution_count": 72,
   "id": "debc5d62",
   "metadata": {
    "execution": {
     "iopub.execute_input": "2025-07-30T20:50:36.910096Z",
     "iopub.status.busy": "2025-07-30T20:50:36.909624Z",
     "iopub.status.idle": "2025-07-30T20:50:36.932345Z",
     "shell.execute_reply": "2025-07-30T20:50:36.931269Z"
    },
    "papermill": {
     "duration": 0.053841,
     "end_time": "2025-07-30T20:50:36.934876",
     "exception": false,
     "start_time": "2025-07-30T20:50:36.881035",
     "status": "completed"
    },
    "tags": []
   },
   "outputs": [],
   "source": [
    "# do I need to include maxdeutsch1.missing?\n",
    "\n",
    "import numpy as np\n",
    "\n",
    "colname_to_bin = \"maxdeutsch1\"\n",
    "majority_value = org_train[colname_to_bin].mode()[0]\n",
    "\n",
    "org_test[\"majmin\"] = np.where(org_test[colname_to_bin] == majority_value, \"majority\", \"minority\")"
   ]
  },
  {
   "cell_type": "code",
   "execution_count": 73,
   "id": "06a50de5",
   "metadata": {
    "execution": {
     "iopub.execute_input": "2025-07-30T20:50:36.997311Z",
     "iopub.status.busy": "2025-07-30T20:50:36.996824Z",
     "iopub.status.idle": "2025-07-30T20:50:39.731302Z",
     "shell.execute_reply": "2025-07-30T20:50:39.730322Z"
    },
    "papermill": {
     "duration": 2.766426,
     "end_time": "2025-07-30T20:50:39.733260",
     "exception": false,
     "start_time": "2025-07-30T20:50:36.966834",
     "status": "completed"
    },
    "tags": []
   },
   "outputs": [],
   "source": [
    "example_universe = universe.copy()\n",
    "example_universe[\"cutoff\"] = example_universe[\"cutoff\"][0]\n",
    "example_universe[\"eval_fairness_grouping\"] = example_universe[\"eval_fairness_grouping\"][0]\n",
    "fairness_dict, metric_frame = universe_analysis.compute_metrics(\n",
    "    example_universe,\n",
    "    y_pred_prob=probs_test,\n",
    "    y_test=y_true,\n",
    "    org_test=org_test,\n",
    ")"
   ]
  },
  {
   "cell_type": "markdown",
   "id": "f95d4e02",
   "metadata": {
    "papermill": {
     "duration": 0.013352,
     "end_time": "2025-07-30T20:50:39.769157",
     "exception": false,
     "start_time": "2025-07-30T20:50:39.755805",
     "status": "completed"
    },
    "tags": []
   },
   "source": [
    "# Overall"
   ]
  },
  {
   "cell_type": "markdown",
   "id": "bdee4871",
   "metadata": {
    "papermill": {
     "duration": 0.0132,
     "end_time": "2025-07-30T20:50:39.795732",
     "exception": false,
     "start_time": "2025-07-30T20:50:39.782532",
     "status": "completed"
    },
    "tags": []
   },
   "source": [
    "Fairness\n",
    "Main fairness target: Equalized Odds. Seems to be a better fit than equal opportunity, since we're not only interested in Y = 1. Seems to be a better fit than demographic parity, since we also care about accuracy, not just equal distribution of preds.\n",
    "\n",
    "Pick column for computation of fairness metrics\n",
    "\n",
    "Performance\n",
    "Overall performance measures, most interesting in relation to the measures split by group below"
   ]
  },
  {
   "cell_type": "code",
   "execution_count": 74,
   "id": "c4e067c6",
   "metadata": {
    "execution": {
     "iopub.execute_input": "2025-07-30T20:50:39.823925Z",
     "iopub.status.busy": "2025-07-30T20:50:39.823536Z",
     "iopub.status.idle": "2025-07-30T20:50:39.832199Z",
     "shell.execute_reply": "2025-07-30T20:50:39.831069Z"
    },
    "papermill": {
     "duration": 0.024802,
     "end_time": "2025-07-30T20:50:39.833797",
     "exception": false,
     "start_time": "2025-07-30T20:50:39.808995",
     "status": "completed"
    },
    "tags": []
   },
   "outputs": [
    {
     "data": {
      "text/plain": [
       "accuracy                   0.222729\n",
       "balanced accuracy          0.544947\n",
       "f1                         0.244105\n",
       "precision                  0.139449\n",
       "false positive rate        0.888468\n",
       "false negative rate        0.021637\n",
       "selection rate             0.900000\n",
       "count                  89710.000000\n",
       "dtype: float64"
      ]
     },
     "execution_count": 74,
     "metadata": {},
     "output_type": "execute_result"
    }
   ],
   "source": [
    "metric_frame.overall"
   ]
  },
  {
   "cell_type": "markdown",
   "id": "e968fe9d",
   "metadata": {
    "papermill": {
     "duration": 0.027825,
     "end_time": "2025-07-30T20:50:39.891212",
     "exception": false,
     "start_time": "2025-07-30T20:50:39.863387",
     "status": "completed"
    },
    "tags": []
   },
   "source": [
    "By Group"
   ]
  },
  {
   "cell_type": "code",
   "execution_count": 75,
   "id": "ec325bce",
   "metadata": {
    "execution": {
     "iopub.execute_input": "2025-07-30T20:50:39.945695Z",
     "iopub.status.busy": "2025-07-30T20:50:39.945033Z",
     "iopub.status.idle": "2025-07-30T20:50:39.961742Z",
     "shell.execute_reply": "2025-07-30T20:50:39.960636Z"
    },
    "papermill": {
     "duration": 0.047665,
     "end_time": "2025-07-30T20:50:39.963426",
     "exception": false,
     "start_time": "2025-07-30T20:50:39.915761",
     "status": "completed"
    },
    "tags": []
   },
   "outputs": [
    {
     "data": {
      "text/html": [
       "<div>\n",
       "<style scoped>\n",
       "    .dataframe tbody tr th:only-of-type {\n",
       "        vertical-align: middle;\n",
       "    }\n",
       "\n",
       "    .dataframe tbody tr th {\n",
       "        vertical-align: top;\n",
       "    }\n",
       "\n",
       "    .dataframe thead th {\n",
       "        text-align: right;\n",
       "    }\n",
       "</style>\n",
       "<table border=\"1\" class=\"dataframe\">\n",
       "  <thead>\n",
       "    <tr style=\"text-align: right;\">\n",
       "      <th></th>\n",
       "      <th>accuracy</th>\n",
       "      <th>balanced accuracy</th>\n",
       "      <th>f1</th>\n",
       "      <th>precision</th>\n",
       "      <th>false positive rate</th>\n",
       "      <th>false negative rate</th>\n",
       "      <th>selection rate</th>\n",
       "      <th>count</th>\n",
       "    </tr>\n",
       "    <tr>\n",
       "      <th>majmin</th>\n",
       "      <th></th>\n",
       "      <th></th>\n",
       "      <th></th>\n",
       "      <th></th>\n",
       "      <th></th>\n",
       "      <th></th>\n",
       "      <th></th>\n",
       "      <th></th>\n",
       "    </tr>\n",
       "  </thead>\n",
       "  <tbody>\n",
       "    <tr>\n",
       "      <th>majority</th>\n",
       "      <td>0.233266</td>\n",
       "      <td>0.550518</td>\n",
       "      <td>0.252828</td>\n",
       "      <td>0.145098</td>\n",
       "      <td>0.880693</td>\n",
       "      <td>0.018271</td>\n",
       "      <td>0.894044</td>\n",
       "      <td>69170.0</td>\n",
       "    </tr>\n",
       "    <tr>\n",
       "      <th>minority</th>\n",
       "      <td>0.187244</td>\n",
       "      <td>0.525609</td>\n",
       "      <td>0.214991</td>\n",
       "      <td>0.120965</td>\n",
       "      <td>0.914154</td>\n",
       "      <td>0.034628</td>\n",
       "      <td>0.920058</td>\n",
       "      <td>20540.0</td>\n",
       "    </tr>\n",
       "  </tbody>\n",
       "</table>\n",
       "</div>"
      ],
      "text/plain": [
       "          accuracy  balanced accuracy        f1  precision  \\\n",
       "majmin                                                       \n",
       "majority  0.233266           0.550518  0.252828   0.145098   \n",
       "minority  0.187244           0.525609  0.214991   0.120965   \n",
       "\n",
       "          false positive rate  false negative rate  selection rate    count  \n",
       "majmin                                                                       \n",
       "majority             0.880693             0.018271        0.894044  69170.0  \n",
       "minority             0.914154             0.034628        0.920058  20540.0  "
      ]
     },
     "execution_count": 75,
     "metadata": {},
     "output_type": "execute_result"
    }
   ],
   "source": [
    "metric_frame.by_group"
   ]
  },
  {
   "cell_type": "code",
   "execution_count": 76,
   "id": "a9ddbe63",
   "metadata": {
    "execution": {
     "iopub.execute_input": "2025-07-30T20:50:40.023101Z",
     "iopub.status.busy": "2025-07-30T20:50:40.022456Z",
     "iopub.status.idle": "2025-07-30T20:50:41.807010Z",
     "shell.execute_reply": "2025-07-30T20:50:41.806130Z"
    },
    "papermill": {
     "duration": 1.815284,
     "end_time": "2025-07-30T20:50:41.808571",
     "exception": false,
     "start_time": "2025-07-30T20:50:39.993287",
     "status": "completed"
    },
    "tags": []
   },
   "outputs": [
    {
     "data": {
      "text/plain": [
       "array([[<Axes: title={'center': 'accuracy'}, xlabel='majmin'>,\n",
       "        <Axes: title={'center': 'balanced accuracy'}, xlabel='majmin'>,\n",
       "        <Axes: title={'center': 'f1'}, xlabel='majmin'>],\n",
       "       [<Axes: title={'center': 'precision'}, xlabel='majmin'>,\n",
       "        <Axes: title={'center': 'false positive rate'}, xlabel='majmin'>,\n",
       "        <Axes: title={'center': 'false negative rate'}, xlabel='majmin'>],\n",
       "       [<Axes: title={'center': 'selection rate'}, xlabel='majmin'>,\n",
       "        <Axes: title={'center': 'count'}, xlabel='majmin'>,\n",
       "        <Axes: xlabel='majmin'>]], dtype=object)"
      ]
     },
     "execution_count": 76,
     "metadata": {},
     "output_type": "execute_result"
    },
    {
     "data": {
      "image/png": "[encoded data removed]",
      "text/plain": [
       "<Figure size 1200x800 with 9 Axes>"
      ]
     },
     "metadata": {},
     "output_type": "display_data"
    }
   ],
   "source": [
    "# In a graphic\n",
    "metric_frame.by_group.plot.bar(\n",
    "    subplots=True,\n",
    "    layout=[3, 3],\n",
    "    legend=False,\n",
    "    figsize=[12, 8],\n",
    "    title=\"Show all metrics\",\n",
    ")"
   ]
  },
  {
   "cell_type": "markdown",
   "id": "f57a0bac",
   "metadata": {
    "papermill": {
     "duration": 0.027053,
     "end_time": "2025-07-30T20:50:41.864773",
     "exception": false,
     "start_time": "2025-07-30T20:50:41.837720",
     "status": "completed"
    },
    "tags": []
   },
   "source": [
    "# Final Output"
   ]
  },
  {
   "cell_type": "code",
   "execution_count": 77,
   "id": "96d280a3",
   "metadata": {
    "execution": {
     "iopub.execute_input": "2025-07-30T20:50:41.918381Z",
     "iopub.status.busy": "2025-07-30T20:50:41.917575Z",
     "iopub.status.idle": "2025-07-30T20:50:41.926308Z",
     "shell.execute_reply": "2025-07-30T20:50:41.925359Z"
    },
    "papermill": {
     "duration": 0.037173,
     "end_time": "2025-07-30T20:50:41.927878",
     "exception": false,
     "start_time": "2025-07-30T20:50:41.890705",
     "status": "completed"
    },
    "tags": []
   },
   "outputs": [
    {
     "data": {
      "text/plain": [
       "4"
      ]
     },
     "execution_count": 77,
     "metadata": {},
     "output_type": "execute_result"
    }
   ],
   "source": [
    "sub_universes = universe_analysis.generate_sub_universes()\n",
    "len(sub_universes)"
   ]
  },
  {
   "cell_type": "code",
   "execution_count": 78,
   "id": "92adf7ba",
   "metadata": {
    "execution": {
     "iopub.execute_input": "2025-07-30T20:50:41.990090Z",
     "iopub.status.busy": "2025-07-30T20:50:41.987756Z",
     "iopub.status.idle": "2025-07-30T20:50:41.995752Z",
     "shell.execute_reply": "2025-07-30T20:50:41.994600Z"
    },
    "papermill": {
     "duration": 0.041319,
     "end_time": "2025-07-30T20:50:41.997529",
     "exception": false,
     "start_time": "2025-07-30T20:50:41.956210",
     "status": "completed"
    },
    "tags": []
   },
   "outputs": [],
   "source": [
    "def filter_sub_universe_data(sub_universe, org_test):\n",
    "    # Keep all rows — no filtering\n",
    "    keep_rows_mask = np.ones(org_test.shape[0], dtype=bool)\n",
    "\n",
    "    print(f\"[INFO] Keeping all rows: {keep_rows_mask.sum()} rows retained.\")\n",
    "    return keep_rows_mask"
   ]
  },
  {
   "cell_type": "code",
   "execution_count": 79,
   "id": "4a759155",
   "metadata": {
    "execution": {
     "iopub.execute_input": "2025-07-30T20:50:42.058474Z",
     "iopub.status.busy": "2025-07-30T20:50:42.057530Z",
     "iopub.status.idle": "2025-07-30T20:50:49.940982Z",
     "shell.execute_reply": "2025-07-30T20:50:49.939901Z"
    },
    "papermill": {
     "duration": 7.916575,
     "end_time": "2025-07-30T20:50:49.943143",
     "exception": false,
     "start_time": "2025-07-30T20:50:42.026568",
     "status": "completed"
    },
    "tags": []
   },
   "outputs": [
    {
     "name": "stdout",
     "output_type": "stream",
     "text": [
      "Stopping execution_time clock.\n",
      "[INFO] Keeping all rows: 89710 rows retained.\n"
     ]
    },
    {
     "name": "stdout",
     "output_type": "stream",
     "text": [
      "[INFO] Keeping all rows: 89710 rows retained.\n"
     ]
    },
    {
     "name": "stdout",
     "output_type": "stream",
     "text": [
      "[INFO] Keeping all rows: 89710 rows retained.\n"
     ]
    },
    {
     "name": "stdout",
     "output_type": "stream",
     "text": [
      "[INFO] Keeping all rows: 89710 rows retained.\n"
     ]
    },
    {
     "data": {
      "text/html": [
       "<div>\n",
       "<style scoped>\n",
       "    .dataframe tbody tr th:only-of-type {\n",
       "        vertical-align: middle;\n",
       "    }\n",
       "\n",
       "    .dataframe tbody tr th {\n",
       "        vertical-align: top;\n",
       "    }\n",
       "\n",
       "    .dataframe thead th {\n",
       "        text-align: right;\n",
       "    }\n",
       "</style>\n",
       "<table border=\"1\" class=\"dataframe\">\n",
       "  <thead>\n",
       "    <tr style=\"text-align: right;\">\n",
       "      <th></th>\n",
       "      <th>run_no</th>\n",
       "      <th>universe_id</th>\n",
       "      <th>universe_settings</th>\n",
       "      <th>execution_time</th>\n",
       "      <th>test_size_n</th>\n",
       "      <th>test_size_frac</th>\n",
       "      <th>fair_main_equalized_odds_difference</th>\n",
       "      <th>fair_main_equalized_odds_ratio</th>\n",
       "      <th>fair_main_demographic_parity_difference</th>\n",
       "      <th>fair_main_demographic_parity_ratio</th>\n",
       "      <th>...</th>\n",
       "      <th>perf_grp_precision_0</th>\n",
       "      <th>perf_grp_precision_1</th>\n",
       "      <th>perf_grp_false positive rate_0</th>\n",
       "      <th>perf_grp_false positive rate_1</th>\n",
       "      <th>perf_grp_false negative rate_0</th>\n",
       "      <th>perf_grp_false negative rate_1</th>\n",
       "      <th>perf_grp_selection rate_0</th>\n",
       "      <th>perf_grp_selection rate_1</th>\n",
       "      <th>perf_grp_count_0</th>\n",
       "      <th>perf_grp_count_1</th>\n",
       "    </tr>\n",
       "  </thead>\n",
       "  <tbody>\n",
       "    <tr>\n",
       "      <th>0</th>\n",
       "      <td>14</td>\n",
       "      <td>c7d0fcf2d7e87c562abb0e366b0d215e</td>\n",
       "      <td>{\"cutoff\": \"quantile_0.1\", \"eval_fairness_grou...</td>\n",
       "      <td>32.205169</td>\n",
       "      <td>89710</td>\n",
       "      <td>1.0</td>\n",
       "      <td>0.033461</td>\n",
       "      <td>0.963397</td>\n",
       "      <td>0.026015</td>\n",
       "      <td>0.971725</td>\n",
       "      <td>...</td>\n",
       "      <td>NaN</td>\n",
       "      <td>NaN</td>\n",
       "      <td>NaN</td>\n",
       "      <td>NaN</td>\n",
       "      <td>NaN</td>\n",
       "      <td>NaN</td>\n",
       "      <td>NaN</td>\n",
       "      <td>NaN</td>\n",
       "      <td>NaN</td>\n",
       "      <td>NaN</td>\n",
       "    </tr>\n",
       "    <tr>\n",
       "      <th>0</th>\n",
       "      <td>14</td>\n",
       "      <td>c7d0fcf2d7e87c562abb0e366b0d215e</td>\n",
       "      <td>{\"cutoff\": \"quantile_0.1\", \"eval_fairness_grou...</td>\n",
       "      <td>32.205169</td>\n",
       "      <td>89710</td>\n",
       "      <td>1.0</td>\n",
       "      <td>0.033461</td>\n",
       "      <td>0.963397</td>\n",
       "      <td>0.026015</td>\n",
       "      <td>0.971725</td>\n",
       "      <td>...</td>\n",
       "      <td>0.120965</td>\n",
       "      <td>0.145098</td>\n",
       "      <td>0.914154</td>\n",
       "      <td>0.880693</td>\n",
       "      <td>0.034628</td>\n",
       "      <td>0.018271</td>\n",
       "      <td>0.920058</td>\n",
       "      <td>0.894044</td>\n",
       "      <td>20540.0</td>\n",
       "      <td>69170.0</td>\n",
       "    </tr>\n",
       "    <tr>\n",
       "      <th>0</th>\n",
       "      <td>14</td>\n",
       "      <td>c7d0fcf2d7e87c562abb0e366b0d215e</td>\n",
       "      <td>{\"cutoff\": \"quantile_0.25\", \"eval_fairness_gro...</td>\n",
       "      <td>32.205169</td>\n",
       "      <td>89710</td>\n",
       "      <td>1.0</td>\n",
       "      <td>0.086085</td>\n",
       "      <td>0.891047</td>\n",
       "      <td>0.068896</td>\n",
       "      <td>0.914214</td>\n",
       "      <td>...</td>\n",
       "      <td>NaN</td>\n",
       "      <td>NaN</td>\n",
       "      <td>NaN</td>\n",
       "      <td>NaN</td>\n",
       "      <td>NaN</td>\n",
       "      <td>NaN</td>\n",
       "      <td>NaN</td>\n",
       "      <td>NaN</td>\n",
       "      <td>NaN</td>\n",
       "      <td>NaN</td>\n",
       "    </tr>\n",
       "    <tr>\n",
       "      <th>0</th>\n",
       "      <td>14</td>\n",
       "      <td>c7d0fcf2d7e87c562abb0e366b0d215e</td>\n",
       "      <td>{\"cutoff\": \"quantile_0.25\", \"eval_fairness_gro...</td>\n",
       "      <td>32.205169</td>\n",
       "      <td>89710</td>\n",
       "      <td>1.0</td>\n",
       "      <td>0.086085</td>\n",
       "      <td>0.891047</td>\n",
       "      <td>0.068896</td>\n",
       "      <td>0.914214</td>\n",
       "      <td>...</td>\n",
       "      <td>0.129607</td>\n",
       "      <td>0.167822</td>\n",
       "      <td>0.790117</td>\n",
       "      <td>0.704031</td>\n",
       "      <td>0.097128</td>\n",
       "      <td>0.067505</td>\n",
       "      <td>0.803116</td>\n",
       "      <td>0.734220</td>\n",
       "      <td>20540.0</td>\n",
       "      <td>69170.0</td>\n",
       "    </tr>\n",
       "  </tbody>\n",
       "</table>\n",
       "<p>4 rows × 50 columns</p>\n",
       "</div>"
      ],
      "text/plain": [
       "  run_no                       universe_id  \\\n",
       "0     14  c7d0fcf2d7e87c562abb0e366b0d215e   \n",
       "0     14  c7d0fcf2d7e87c562abb0e366b0d215e   \n",
       "0     14  c7d0fcf2d7e87c562abb0e366b0d215e   \n",
       "0     14  c7d0fcf2d7e87c562abb0e366b0d215e   \n",
       "\n",
       "                                   universe_settings  execution_time  \\\n",
       "0  {\"cutoff\": \"quantile_0.1\", \"eval_fairness_grou...       32.205169   \n",
       "0  {\"cutoff\": \"quantile_0.1\", \"eval_fairness_grou...       32.205169   \n",
       "0  {\"cutoff\": \"quantile_0.25\", \"eval_fairness_gro...       32.205169   \n",
       "0  {\"cutoff\": \"quantile_0.25\", \"eval_fairness_gro...       32.205169   \n",
       "\n",
       "   test_size_n  test_size_frac  fair_main_equalized_odds_difference  \\\n",
       "0        89710             1.0                             0.033461   \n",
       "0        89710             1.0                             0.033461   \n",
       "0        89710             1.0                             0.086085   \n",
       "0        89710             1.0                             0.086085   \n",
       "\n",
       "   fair_main_equalized_odds_ratio  fair_main_demographic_parity_difference  \\\n",
       "0                        0.963397                                 0.026015   \n",
       "0                        0.963397                                 0.026015   \n",
       "0                        0.891047                                 0.068896   \n",
       "0                        0.891047                                 0.068896   \n",
       "\n",
       "   fair_main_demographic_parity_ratio  ...  perf_grp_precision_0  \\\n",
       "0                            0.971725  ...                   NaN   \n",
       "0                            0.971725  ...              0.120965   \n",
       "0                            0.914214  ...                   NaN   \n",
       "0                            0.914214  ...              0.129607   \n",
       "\n",
       "   perf_grp_precision_1  perf_grp_false positive rate_0  \\\n",
       "0                   NaN                             NaN   \n",
       "0              0.145098                        0.914154   \n",
       "0                   NaN                             NaN   \n",
       "0              0.167822                        0.790117   \n",
       "\n",
       "   perf_grp_false positive rate_1  perf_grp_false negative rate_0  \\\n",
       "0                             NaN                             NaN   \n",
       "0                        0.880693                        0.034628   \n",
       "0                             NaN                             NaN   \n",
       "0                        0.704031                        0.097128   \n",
       "\n",
       "   perf_grp_false negative rate_1  perf_grp_selection rate_0  \\\n",
       "0                             NaN                        NaN   \n",
       "0                        0.018271                   0.920058   \n",
       "0                             NaN                        NaN   \n",
       "0                        0.067505                   0.803116   \n",
       "\n",
       "   perf_grp_selection rate_1  perf_grp_count_0  perf_grp_count_1  \n",
       "0                        NaN               NaN               NaN  \n",
       "0                   0.894044           20540.0           69170.0  \n",
       "0                        NaN               NaN               NaN  \n",
       "0                   0.734220           20540.0           69170.0  \n",
       "\n",
       "[4 rows x 50 columns]"
      ]
     },
     "execution_count": 79,
     "metadata": {},
     "output_type": "execute_result"
    }
   ],
   "source": [
    "final_output = universe_analysis.generate_final_output(\n",
    "    y_pred_prob=probs_test,\n",
    "    y_test=y_true,\n",
    "    org_test=org_test,\n",
    "    filter_data=filter_sub_universe_data,\n",
    "    cp_metrics_df=cp_metrics_df,\n",
    "    save=True,\n",
    ")\n",
    "final_output"
   ]
  },
  {
   "cell_type": "code",
   "execution_count": null,
   "id": "721ff514-cb11-46f8-b6fc-50392f74b5cb",
   "metadata": {
    "papermill": {
     "duration": 0.042162,
     "end_time": "2025-07-30T20:50:50.031491",
     "exception": false,
     "start_time": "2025-07-30T20:50:49.989329",
     "status": "completed"
    },
    "tags": []
   },
   "outputs": [],
   "source": []
  }
 ],
 "metadata": {
  "celltoolbar": "Tags",
  "kernelspec": {
   "display_name": "Python (CMA Fairness)",
   "language": "python",
   "name": "cma_fair_env"
  },
  "language_info": {
   "codemirror_mode": {
    "name": "ipython",
    "version": 3
   },
   "file_extension": ".py",
   "mimetype": "text/x-python",
   "name": "python",
   "nbconvert_exporter": "python",
   "pygments_lexer": "ipython3",
   "version": "3.10.12"
  },
  "papermill": {
   "default_parameters": {},
   "duration": 44.114374,
   "end_time": "2025-07-30T20:50:50.694697",
   "environment_variables": {},
   "exception": null,
   "input_path": "universe_analysis.ipynb",
   "output_path": "output/runs/14/notebooks/m_14-c7d0fcf2d7e87c562abb0e366b0d215e.ipynb",
   "parameters": {
    "output_dir": "output",
    "run_no": "14",
    "seed": "2023",
    "universe": "{\"cutoff\": [\"quantile_0.1\", \"quantile_0.25\"], \"eval_fairness_grouping\": [\"majority-minority\", \"nationality-all\"], \"exclude_features\": \"age\", \"exclude_subgroups\": \"drop-non-german\", \"model\": \"elasticnet\", \"scale\": \"scale\", \"training_size\": \"5k\", \"training_year\": \"2014\"}",
    "universe_id": "c7d0fcf2d7e87c562abb0e366b0d215e"
   },
   "start_time": "2025-07-30T20:50:06.580323",
   "version": "2.6.0"
  }
 },
 "nbformat": 4,
 "nbformat_minor": 5
}