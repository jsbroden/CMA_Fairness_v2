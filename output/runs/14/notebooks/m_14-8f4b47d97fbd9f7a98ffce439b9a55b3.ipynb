{
 "cells": [
  {
   "cell_type": "code",
   "execution_count": 1,
   "id": "f159f837-637b-42ba-96b5-ec9a68c44524",
   "metadata": {
    "execution": {
     "iopub.execute_input": "2025-07-30T20:50:57.644862Z",
     "iopub.status.busy": "2025-07-30T20:50:57.644353Z",
     "iopub.status.idle": "2025-07-30T20:50:57.669708Z",
     "shell.execute_reply": "2025-07-30T20:50:57.668704Z"
    },
    "papermill": {
     "duration": 0.048794,
     "end_time": "2025-07-30T20:50:57.671460",
     "exception": false,
     "start_time": "2025-07-30T20:50:57.622666",
     "status": "completed"
    },
    "tags": []
   },
   "outputs": [
    {
     "name": "stdout",
     "output_type": "stream",
     "text": [
      "/dss/dsshome1/0C/ra93lal2/cma/CMA_Fairness_v2\n"
     ]
    },
    {
     "name": "stderr",
     "output_type": "stream",
     "text": [
      "/dss/dsshome1/0C/ra93lal2/.local/share/virtualenvs/CMA_Fairness_v2-3j10GkSs/lib/python3.10/site-packages/IPython/core/magics/osm.py:393: UserWarning: This is now an optional IPython functionality, using bookmarks requires you to install the `pickleshare` library.\n",
      "  bkms = self.shell.db.get('bookmarks', {})\n",
      "/dss/dsshome1/0C/ra93lal2/.local/share/virtualenvs/CMA_Fairness_v2-3j10GkSs/lib/python3.10/site-packages/IPython/core/magics/osm.py:417: UserWarning: This is now an optional IPython functionality, setting dhist requires you to install the `pickleshare` library.\n",
      "  self.shell.db['dhist'] = compress_dhist(dhist)[-100:]\n"
     ]
    }
   ],
   "source": [
    "%cd ~/cma/CMA_Fairness_v2"
   ]
  },
  {
   "cell_type": "markdown",
   "id": "de2603b9",
   "metadata": {
    "papermill": {
     "duration": 0.019506,
     "end_time": "2025-07-30T20:50:57.711583",
     "exception": false,
     "start_time": "2025-07-30T20:50:57.692077",
     "status": "completed"
    },
    "tags": []
   },
   "source": [
    "The following cell holds the definition of our parameters, these values can be overriden by rendering the with e.g. the following command:\n",
    "\n",
    "papermill -p alpha 0.2 -p ratio 0.3 universe_analysis.ipynb output/test_run.ipynb"
   ]
  },
  {
   "cell_type": "code",
   "execution_count": 2,
   "id": "a80968a0-40bb-4fa9-85ef-2d5eefb01975",
   "metadata": {
    "execution": {
     "iopub.execute_input": "2025-07-30T20:50:57.751569Z",
     "iopub.status.busy": "2025-07-30T20:50:57.751069Z",
     "iopub.status.idle": "2025-07-30T20:50:57.756908Z",
     "shell.execute_reply": "2025-07-30T20:50:57.755888Z"
    },
    "papermill": {
     "duration": 0.028372,
     "end_time": "2025-07-30T20:50:57.758670",
     "exception": false,
     "start_time": "2025-07-30T20:50:57.730298",
     "status": "completed"
    },
    "tags": []
   },
   "outputs": [
    {
     "name": "stdout",
     "output_type": "stream",
     "text": [
      "Current working directory: /dss/dsshome1/0C/ra93lal2/cma/CMA_Fairness_v2\n"
     ]
    }
   ],
   "source": [
    "import os\n",
    "print(\"Current working directory:\", os.getcwd())"
   ]
  },
  {
   "cell_type": "code",
   "execution_count": 3,
   "id": "2dce4c03",
   "metadata": {
    "execution": {
     "iopub.execute_input": "2025-07-30T20:50:57.798778Z",
     "iopub.status.busy": "2025-07-30T20:50:57.798058Z",
     "iopub.status.idle": "2025-07-30T20:50:57.804515Z",
     "shell.execute_reply": "2025-07-30T20:50:57.803514Z"
    },
    "papermill": {
     "duration": 0.028194,
     "end_time": "2025-07-30T20:50:57.806145",
     "exception": false,
     "start_time": "2025-07-30T20:50:57.777951",
     "status": "completed"
    },
    "tags": [
     "parameters"
    ]
   },
   "outputs": [],
   "source": [
    "run_no = 0\n",
    "universe_id = \"test\"\n",
    "universe = {\n",
    "    \"training_size\": \"25k\", # \"25k\", \"5k\", \"1k\"\n",
    "    \"training_year\": \"2014\", # \"2014\", \"2012_14\", \"2010_14\"\n",
    "    \"scale\": \"scale\", # \"scale\", \"do-not-scale\",\n",
    "    #\"stratify_split\": \"target\", # \"none\", \"target\", \"protected-attribute\", \"both\",\n",
    "    \"model\": \"elasticnet\", # \"logreg\", \"penalized_logreg\", \"rf\", \"gbm\", \"elasticnet\"\n",
    "    \"cutoff\": [\"quantile_0.15\", \"quantile_0.30\"],\n",
    "    \"exclude_features\": \"age\", # \"none\", \"nationality\", \"sex\", \"nationality-sex\", \"age\"\n",
    "    \"exclude_subgroups\": \"keep-all\", # \"keep-all\", \"drop-non-german\"\n",
    "    \"eval_fairness_grouping\": [\"majority-minority\", \"nationality-all\"]\n",
    "}\n",
    "\n",
    "output_dir=\"./output\"\n",
    "seed=0"
   ]
  },
  {
   "cell_type": "code",
   "execution_count": 4,
   "id": "2de33578",
   "metadata": {
    "execution": {
     "iopub.execute_input": "2025-07-30T20:50:57.847747Z",
     "iopub.status.busy": "2025-07-30T20:50:57.847255Z",
     "iopub.status.idle": "2025-07-30T20:50:57.852704Z",
     "shell.execute_reply": "2025-07-30T20:50:57.851727Z"
    },
    "papermill": {
     "duration": 0.027944,
     "end_time": "2025-07-30T20:50:57.854389",
     "exception": false,
     "start_time": "2025-07-30T20:50:57.826445",
     "status": "completed"
    },
    "tags": [
     "injected-parameters"
    ]
   },
   "outputs": [],
   "source": [
    "# Parameters\n",
    "universe_id = \"8f4b47d97fbd9f7a98ffce439b9a55b3\"\n",
    "run_no = \"14\"\n",
    "universe = \"{\\\"cutoff\\\": [\\\"quantile_0.1\\\", \\\"quantile_0.25\\\"], \\\"eval_fairness_grouping\\\": [\\\"majority-minority\\\", \\\"nationality-all\\\"], \\\"exclude_features\\\": \\\"age\\\", \\\"exclude_subgroups\\\": \\\"drop-non-german\\\", \\\"model\\\": \\\"logreg\\\", \\\"scale\\\": \\\"do-not-scale\\\", \\\"training_size\\\": \\\"5k\\\", \\\"training_year\\\": \\\"2014\\\"}\"\n",
    "output_dir = \"output\"\n",
    "seed = \"2023\"\n"
   ]
  },
  {
   "cell_type": "code",
   "execution_count": 5,
   "id": "1650acaf",
   "metadata": {
    "execution": {
     "iopub.execute_input": "2025-07-30T20:50:57.898477Z",
     "iopub.status.busy": "2025-07-30T20:50:57.897413Z",
     "iopub.status.idle": "2025-07-30T20:50:57.903002Z",
     "shell.execute_reply": "2025-07-30T20:50:57.902103Z"
    },
    "papermill": {
     "duration": 0.029138,
     "end_time": "2025-07-30T20:50:57.904897",
     "exception": false,
     "start_time": "2025-07-30T20:50:57.875759",
     "status": "completed"
    },
    "tags": []
   },
   "outputs": [],
   "source": [
    "import json\n",
    "# Parse universe into dict if it is passed as a string\n",
    "if isinstance(universe, str):\n",
    "    universe = json.loads(universe)"
   ]
  },
  {
   "cell_type": "code",
   "execution_count": 6,
   "id": "16620c48",
   "metadata": {
    "execution": {
     "iopub.execute_input": "2025-07-30T20:50:57.947793Z",
     "iopub.status.busy": "2025-07-30T20:50:57.947296Z",
     "iopub.status.idle": "2025-07-30T20:50:57.995539Z",
     "shell.execute_reply": "2025-07-30T20:50:57.994525Z"
    },
    "papermill": {
     "duration": 0.071896,
     "end_time": "2025-07-30T20:50:57.997538",
     "exception": false,
     "start_time": "2025-07-30T20:50:57.925642",
     "status": "completed"
    },
    "tags": []
   },
   "outputs": [],
   "source": [
    "# Auto-reload the custom package\n",
    "%load_ext autoreload\n",
    "%autoreload 1\n",
    "%aimport fairness_multiverse"
   ]
  },
  {
   "cell_type": "code",
   "execution_count": 7,
   "id": "01c5c9f3",
   "metadata": {
    "execution": {
     "iopub.execute_input": "2025-07-30T20:50:58.040510Z",
     "iopub.status.busy": "2025-07-30T20:50:58.039996Z",
     "iopub.status.idle": "2025-07-30T20:50:59.991051Z",
     "shell.execute_reply": "2025-07-30T20:50:59.990121Z"
    },
    "papermill": {
     "duration": 1.974044,
     "end_time": "2025-07-30T20:50:59.992932",
     "exception": false,
     "start_time": "2025-07-30T20:50:58.018888",
     "status": "completed"
    },
    "tags": []
   },
   "outputs": [],
   "source": [
    "from fairness_multiverse.universe import UniverseAnalysis\n",
    "\n",
    "universe_analysis = UniverseAnalysis(\n",
    "    run_no = run_no,\n",
    "    universe_id = universe_id,\n",
    "    universe = universe,\n",
    "    output_dir=output_dir,\n",
    ")"
   ]
  },
  {
   "cell_type": "code",
   "execution_count": 8,
   "id": "106241f5",
   "metadata": {
    "execution": {
     "iopub.execute_input": "2025-07-30T20:51:00.031960Z",
     "iopub.status.busy": "2025-07-30T20:51:00.031274Z",
     "iopub.status.idle": "2025-07-30T20:51:00.038114Z",
     "shell.execute_reply": "2025-07-30T20:51:00.037155Z"
    },
    "papermill": {
     "duration": 0.027814,
     "end_time": "2025-07-30T20:51:00.039627",
     "exception": false,
     "start_time": "2025-07-30T20:51:00.011813",
     "status": "completed"
    },
    "tags": []
   },
   "outputs": [
    {
     "name": "stdout",
     "output_type": "stream",
     "text": [
      "Using Seed: 2023\n"
     ]
    }
   ],
   "source": [
    "import numpy as np\n",
    "parsed_seed = int(seed)\n",
    "np.random.seed(parsed_seed)\n",
    "print(f\"Using Seed: {parsed_seed}\")"
   ]
  },
  {
   "cell_type": "markdown",
   "id": "e0ebdc57",
   "metadata": {
    "papermill": {
     "duration": 0.018304,
     "end_time": "2025-07-30T20:51:00.076961",
     "exception": false,
     "start_time": "2025-07-30T20:51:00.058657",
     "status": "completed"
    },
    "tags": []
   },
   "source": [
    "# Loading Data"
   ]
  },
  {
   "cell_type": "markdown",
   "id": "681925a3",
   "metadata": {
    "papermill": {
     "duration": 0.018353,
     "end_time": "2025-07-30T20:51:00.113954",
     "exception": false,
     "start_time": "2025-07-30T20:51:00.095601",
     "status": "completed"
    },
    "tags": []
   },
   "source": [
    "Load siab_train, siab_test, siab_calib and/or \n",
    "load siab_train_features, siab_train_labels"
   ]
  },
  {
   "cell_type": "code",
   "execution_count": 9,
   "id": "f0496b8a",
   "metadata": {
    "execution": {
     "iopub.execute_input": "2025-07-30T20:51:00.152975Z",
     "iopub.status.busy": "2025-07-30T20:51:00.152094Z",
     "iopub.status.idle": "2025-07-30T20:51:13.009369Z",
     "shell.execute_reply": "2025-07-30T20:51:13.008231Z"
    },
    "papermill": {
     "duration": 12.878628,
     "end_time": "2025-07-30T20:51:13.011125",
     "exception": false,
     "start_time": "2025-07-30T20:51:00.132497",
     "status": "completed"
    },
    "tags": []
   },
   "outputs": [
    {
     "name": "stdout",
     "output_type": "stream",
     "text": [
      "Loading SIAB data from cache: data/siab_cached.csv.gz\n"
     ]
    },
    {
     "name": "stdout",
     "output_type": "stream",
     "text": [
      "(643690, 164)\n"
     ]
    }
   ],
   "source": [
    "from pathlib import Path\n",
    "import pandas as pd\n",
    "\n",
    "# File paths\n",
    "raw_file = Path(\"data/raw/siab.csv\")\n",
    "cache_file = Path(\"data/siab_cached.csv.gz\")\n",
    "\n",
    "# Ensure cache directory exists\n",
    "cache_file.parent.mkdir(parents=True, exist_ok=True)\n",
    "\n",
    "# Load with simple caching\n",
    "if cache_file.exists():\n",
    "    print(f\"Loading SIAB data from cache: {cache_file}\")\n",
    "    siab = pd.read_csv(cache_file, compression='gzip')\n",
    "else:\n",
    "    print(f\"Cache not found. Reading raw SIAB data: {raw_file}\")\n",
    "    siab = pd.read_csv(raw_file)\n",
    "    siab.to_csv(cache_file, index=False, compression='gzip')\n",
    "    print(f\"Cached SIAB data to: {cache_file}\")\n",
    "\n",
    "# Now use `siab` DataFrame as needed\n",
    "print(siab.shape)"
   ]
  },
  {
   "cell_type": "code",
   "execution_count": 10,
   "id": "db0ca512-5f53-4dba-abdb-a2888bca41ba",
   "metadata": {
    "execution": {
     "iopub.execute_input": "2025-07-30T20:51:13.043243Z",
     "iopub.status.busy": "2025-07-30T20:51:13.042751Z",
     "iopub.status.idle": "2025-07-30T20:51:13.048769Z",
     "shell.execute_reply": "2025-07-30T20:51:13.047679Z"
    },
    "papermill": {
     "duration": 0.024881,
     "end_time": "2025-07-30T20:51:13.050850",
     "exception": false,
     "start_time": "2025-07-30T20:51:13.025969",
     "status": "completed"
    },
    "tags": []
   },
   "outputs": [],
   "source": [
    "#siab"
   ]
  },
  {
   "cell_type": "code",
   "execution_count": 11,
   "id": "a0edb063",
   "metadata": {
    "execution": {
     "iopub.execute_input": "2025-07-30T20:51:13.098510Z",
     "iopub.status.busy": "2025-07-30T20:51:13.097946Z",
     "iopub.status.idle": "2025-07-30T20:51:13.101873Z",
     "shell.execute_reply": "2025-07-30T20:51:13.101104Z"
    },
    "papermill": {
     "duration": 0.029756,
     "end_time": "2025-07-30T20:51:13.103240",
     "exception": false,
     "start_time": "2025-07-30T20:51:13.073484",
     "status": "completed"
    },
    "tags": []
   },
   "outputs": [],
   "source": [
    "#import pandas as pd\n",
    "#\n",
    "#X_train = pd.read_csv(\"./data/X_train.csv\")\n",
    "#y_train = pd.read_csv(\"./data/y_train.csv\")"
   ]
  },
  {
   "cell_type": "code",
   "execution_count": 12,
   "id": "63d08085",
   "metadata": {
    "execution": {
     "iopub.execute_input": "2025-07-30T20:51:13.146934Z",
     "iopub.status.busy": "2025-07-30T20:51:13.146093Z",
     "iopub.status.idle": "2025-07-30T20:51:13.151423Z",
     "shell.execute_reply": "2025-07-30T20:51:13.150273Z"
    },
    "papermill": {
     "duration": 0.029629,
     "end_time": "2025-07-30T20:51:13.153727",
     "exception": false,
     "start_time": "2025-07-30T20:51:13.124098",
     "status": "completed"
    },
    "tags": []
   },
   "outputs": [],
   "source": [
    "#X_test = pd.read_csv(\"./data/X_test.csv\")\n",
    "#y_true = pd.read_csv(\"./data/y_test.csv\")"
   ]
  },
  {
   "cell_type": "code",
   "execution_count": 13,
   "id": "98a8d0fa-1d3d-4ed8-bb2c-281470e24add",
   "metadata": {
    "execution": {
     "iopub.execute_input": "2025-07-30T20:51:13.190813Z",
     "iopub.status.busy": "2025-07-30T20:51:13.190294Z",
     "iopub.status.idle": "2025-07-30T20:51:13.594604Z",
     "shell.execute_reply": "2025-07-30T20:51:13.593637Z"
    },
    "papermill": {
     "duration": 0.429917,
     "end_time": "2025-07-30T20:51:13.596328",
     "exception": false,
     "start_time": "2025-07-30T20:51:13.166411",
     "status": "completed"
    },
    "tags": []
   },
   "outputs": [],
   "source": [
    "# Calibration data for conformal\n",
    "#X_calib = pd.read_csv(\"./data/X_calib.csv\")\n",
    "#y_calib = pd.read_csv(\"./data/y_calib.csv\")"
   ]
  },
  {
   "cell_type": "markdown",
   "id": "997051c5-15bd-4b69-9786-c3001a3ce484",
   "metadata": {
    "papermill": {
     "duration": 0.02,
     "end_time": "2025-07-30T20:51:13.650055",
     "exception": false,
     "start_time": "2025-07-30T20:51:13.630055",
     "status": "completed"
    },
    "tags": []
   },
   "source": [
    "# Splitting Data and Setting Training Data Size"
   ]
  },
  {
   "cell_type": "code",
   "execution_count": 14,
   "id": "e993b61f-042d-41a6-8c81-f55681f86335",
   "metadata": {
    "execution": {
     "iopub.execute_input": "2025-07-30T20:51:13.691168Z",
     "iopub.status.busy": "2025-07-30T20:51:13.690501Z",
     "iopub.status.idle": "2025-07-30T20:51:13.702417Z",
     "shell.execute_reply": "2025-07-30T20:51:13.701700Z"
    },
    "papermill": {
     "duration": 0.035104,
     "end_time": "2025-07-30T20:51:13.704767",
     "exception": false,
     "start_time": "2025-07-30T20:51:13.669663",
     "status": "completed"
    },
    "tags": []
   },
   "outputs": [],
   "source": [
    "def sample_by_year_size(df,\n",
    "                        training_year: str,\n",
    "                        training_size: str,\n",
    "                        random_state: int = 42):\n",
    "    # --- parse training_year into a list of int years ---\n",
    "    if \"_\" in training_year:\n",
    "        start_str, end_str = training_year.split(\"_\", 1)\n",
    "        start = int(start_str)\n",
    "        end   = int(end_str) if len(end_str) == 4 else (int(end_str) + (start // 100)*100)\n",
    "        years = list(range(start, end + 1))\n",
    "    else:\n",
    "        years = [int(training_year)]\n",
    "\n",
    "    df = df[df[\"year\"].isin(years)].reset_index(drop=True)\n",
    "\n",
    "    # --- map training_size to total number of samples ---\n",
    "    total_map = {\"25k\": 25_000, \"5k\": 5_000, \"1k\": 1_000}\n",
    "    if training_size not in total_map:\n",
    "        return df  # e.g. \"all\"\n",
    "\n",
    "    total_samples = total_map[training_size]\n",
    "    n_years       = len(years)\n",
    "    base          = total_samples // n_years\n",
    "    remainder     = total_samples % n_years\n",
    "\n",
    "    # --- build a dict: year -> how many to sample ---\n",
    "    # give +1 to the first `remainder` years in ascending order\n",
    "    quotas = {\n",
    "        year: base + (1 if idx < remainder else 0)\n",
    "        for idx, year in enumerate(sorted(years))\n",
    "    }\n",
    "\n",
    "    # --- sample per‐year according to the quota dict ---\n",
    "    sampled = (\n",
    "        df\n",
    "        .groupby(\"year\", group_keys=False)\n",
    "        .apply(lambda grp: grp.sample(\n",
    "            n=min(len(grp), quotas[grp.name]),\n",
    "            random_state=random_state))\n",
    "        .reset_index(drop=True)\n",
    "    )\n",
    "\n",
    "    return sampled"
   ]
  },
  {
   "cell_type": "code",
   "execution_count": 15,
   "id": "c0ccd338-0e02-41f3-a09d-f56f9266e3fb",
   "metadata": {
    "execution": {
     "iopub.execute_input": "2025-07-30T20:51:13.727762Z",
     "iopub.status.busy": "2025-07-30T20:51:13.727383Z",
     "iopub.status.idle": "2025-07-30T20:51:13.731396Z",
     "shell.execute_reply": "2025-07-30T20:51:13.730396Z"
    },
    "papermill": {
     "duration": 0.017213,
     "end_time": "2025-07-30T20:51:13.733303",
     "exception": false,
     "start_time": "2025-07-30T20:51:13.716090",
     "status": "completed"
    },
    "tags": []
   },
   "outputs": [],
   "source": [
    "#universe[\"training_size\"]"
   ]
  },
  {
   "cell_type": "code",
   "execution_count": 16,
   "id": "ca707fd7-8047-4acd-bfa5-66248fbbf8e6",
   "metadata": {
    "execution": {
     "iopub.execute_input": "2025-07-30T20:51:13.764180Z",
     "iopub.status.busy": "2025-07-30T20:51:13.763851Z",
     "iopub.status.idle": "2025-07-30T20:51:13.768019Z",
     "shell.execute_reply": "2025-07-30T20:51:13.767361Z"
    },
    "papermill": {
     "duration": 0.020808,
     "end_time": "2025-07-30T20:51:13.769316",
     "exception": false,
     "start_time": "2025-07-30T20:51:13.748508",
     "status": "completed"
    },
    "tags": []
   },
   "outputs": [],
   "source": [
    "#universe[\"training_year\"]"
   ]
  },
  {
   "cell_type": "code",
   "execution_count": 17,
   "id": "aea9c6ef-6f46-42c8-85eb-5a62025c1508",
   "metadata": {
    "execution": {
     "iopub.execute_input": "2025-07-30T20:51:13.797676Z",
     "iopub.status.busy": "2025-07-30T20:51:13.797320Z",
     "iopub.status.idle": "2025-07-30T20:51:14.028886Z",
     "shell.execute_reply": "2025-07-30T20:51:14.028114Z"
    },
    "papermill": {
     "duration": 0.249622,
     "end_time": "2025-07-30T20:51:14.030265",
     "exception": false,
     "start_time": "2025-07-30T20:51:13.780643",
     "status": "completed"
    },
    "tags": []
   },
   "outputs": [],
   "source": [
    "siab_train = sample_by_year_size(siab,\n",
    "                               training_year=universe[\"training_year\"],\n",
    "                               training_size=universe[\"training_size\"])"
   ]
  },
  {
   "cell_type": "code",
   "execution_count": 18,
   "id": "8d3afb32-789d-442c-8d5d-9f5aa8dd2eed",
   "metadata": {
    "execution": {
     "iopub.execute_input": "2025-07-30T20:51:14.053879Z",
     "iopub.status.busy": "2025-07-30T20:51:14.053173Z",
     "iopub.status.idle": "2025-07-30T20:51:14.057181Z",
     "shell.execute_reply": "2025-07-30T20:51:14.056525Z"
    },
    "papermill": {
     "duration": 0.016643,
     "end_time": "2025-07-30T20:51:14.058571",
     "exception": false,
     "start_time": "2025-07-30T20:51:14.041928",
     "status": "completed"
    },
    "tags": []
   },
   "outputs": [],
   "source": [
    "#siab_train.shape"
   ]
  },
  {
   "cell_type": "code",
   "execution_count": 19,
   "id": "d582db68-1a4c-47fb-84fc-08518dc1975a",
   "metadata": {
    "execution": {
     "iopub.execute_input": "2025-07-30T20:51:14.084807Z",
     "iopub.status.busy": "2025-07-30T20:51:14.084461Z",
     "iopub.status.idle": "2025-07-30T20:51:14.088773Z",
     "shell.execute_reply": "2025-07-30T20:51:14.087765Z"
    },
    "papermill": {
     "duration": 0.020823,
     "end_time": "2025-07-30T20:51:14.090389",
     "exception": false,
     "start_time": "2025-07-30T20:51:14.069566",
     "status": "completed"
    },
    "tags": []
   },
   "outputs": [],
   "source": [
    "#display(siab_train.groupby(\"year\").size())"
   ]
  },
  {
   "cell_type": "code",
   "execution_count": 20,
   "id": "a561edb4-d032-42cb-8256-22eac1111c64",
   "metadata": {
    "execution": {
     "iopub.execute_input": "2025-07-30T20:51:14.135723Z",
     "iopub.status.busy": "2025-07-30T20:51:14.135055Z",
     "iopub.status.idle": "2025-07-30T20:51:14.358048Z",
     "shell.execute_reply": "2025-07-30T20:51:14.357243Z"
    },
    "papermill": {
     "duration": 0.247687,
     "end_time": "2025-07-30T20:51:14.359405",
     "exception": false,
     "start_time": "2025-07-30T20:51:14.111718",
     "status": "completed"
    },
    "tags": []
   },
   "outputs": [],
   "source": [
    "#siab_train = siab_s[siab_s.year < 2015]\n",
    "siab_calib = siab[siab.year == 2015]\n",
    "siab_test = siab[siab.year == 2016]"
   ]
  },
  {
   "cell_type": "code",
   "execution_count": 21,
   "id": "472de16f-c3db-4916-846b-1f0de9cf1746",
   "metadata": {
    "execution": {
     "iopub.execute_input": "2025-07-30T20:51:14.410853Z",
     "iopub.status.busy": "2025-07-30T20:51:14.410415Z",
     "iopub.status.idle": "2025-07-30T20:51:14.417792Z",
     "shell.execute_reply": "2025-07-30T20:51:14.416871Z"
    },
    "papermill": {
     "duration": 0.046492,
     "end_time": "2025-07-30T20:51:14.419151",
     "exception": false,
     "start_time": "2025-07-30T20:51:14.372659",
     "status": "completed"
    },
    "tags": []
   },
   "outputs": [],
   "source": [
    "X_train = siab_train.iloc[:,4:164]\n",
    "y_train = siab_train.iloc[:, [3]]"
   ]
  },
  {
   "cell_type": "code",
   "execution_count": 22,
   "id": "828c96af-f43a-4ed6-ba47-8ac73a47d56c",
   "metadata": {
    "execution": {
     "iopub.execute_input": "2025-07-30T20:51:14.449576Z",
     "iopub.status.busy": "2025-07-30T20:51:14.448879Z",
     "iopub.status.idle": "2025-07-30T20:51:14.515287Z",
     "shell.execute_reply": "2025-07-30T20:51:14.514400Z"
    },
    "papermill": {
     "duration": 0.085953,
     "end_time": "2025-07-30T20:51:14.516752",
     "exception": false,
     "start_time": "2025-07-30T20:51:14.430799",
     "status": "completed"
    },
    "tags": []
   },
   "outputs": [],
   "source": [
    "X_calib = siab_calib.iloc[:,4:164]\n",
    "y_calib = siab_calib.iloc[:, [3]]"
   ]
  },
  {
   "cell_type": "code",
   "execution_count": 23,
   "id": "c34be9c3-6bd6-476e-acd3-845840e303be",
   "metadata": {
    "execution": {
     "iopub.execute_input": "2025-07-30T20:51:14.560697Z",
     "iopub.status.busy": "2025-07-30T20:51:14.560155Z",
     "iopub.status.idle": "2025-07-30T20:51:14.615595Z",
     "shell.execute_reply": "2025-07-30T20:51:14.614511Z"
    },
    "papermill": {
     "duration": 0.079226,
     "end_time": "2025-07-30T20:51:14.617703",
     "exception": false,
     "start_time": "2025-07-30T20:51:14.538477",
     "status": "completed"
    },
    "tags": []
   },
   "outputs": [],
   "source": [
    "X_test = siab_test.iloc[:,4:164]\n",
    "y_true = siab_test.iloc[:, [3]]"
   ]
  },
  {
   "cell_type": "markdown",
   "id": "9901737e-04df-44f0-9100-f5ad144ed040",
   "metadata": {
    "papermill": {
     "duration": 0.016453,
     "end_time": "2025-07-30T20:51:14.657981",
     "exception": false,
     "start_time": "2025-07-30T20:51:14.641528",
     "status": "completed"
    },
    "tags": []
   },
   "source": [
    "# Splitting Data and Setting Training Data Size OLD VERSION"
   ]
  },
  {
   "cell_type": "code",
   "execution_count": 24,
   "id": "acbc8f7d-8fc8-4e86-8c59-5dcb0f58384b",
   "metadata": {
    "execution": {
     "iopub.execute_input": "2025-07-30T20:51:14.704017Z",
     "iopub.status.busy": "2025-07-30T20:51:14.703213Z",
     "iopub.status.idle": "2025-07-30T20:51:14.709096Z",
     "shell.execute_reply": "2025-07-30T20:51:14.707984Z"
    },
    "papermill": {
     "duration": 0.031315,
     "end_time": "2025-07-30T20:51:14.710938",
     "exception": false,
     "start_time": "2025-07-30T20:51:14.679623",
     "status": "completed"
    },
    "tags": []
   },
   "outputs": [],
   "source": [
    "#def sample_by_year(df, training_size, random_state=42):\n",
    "#    if training_size == \"2014\":\n",
    "#        return df[df[\"year\"] == 2014].reset_index(drop=True)\n",
    "#    \n",
    "#    size_map = {\n",
    "#        \"25k\": 5000,\n",
    "#        \"5k\": 1000,\n",
    "#        \"1k\": 200\n",
    "#    }\n",
    "#\n",
    "#    if training_size not in size_map:\n",
    "#        return df.reset_index(drop=True)  # use all data\n",
    "#\n",
    "#    n_per_year = size_map[training_size]\n",
    "#    grouped = df.groupby(\"year\")\n",
    "#    sampled = grouped.apply(lambda x: x.sample(n=min(n_per_year, len(x)), random_state=random_state))\n",
    "#    return sampled.reset_index(drop=True)"
   ]
  },
  {
   "cell_type": "code",
   "execution_count": 25,
   "id": "6d931f52-beaf-43ff-9e78-9d44a448d54e",
   "metadata": {
    "execution": {
     "iopub.execute_input": "2025-07-30T20:51:14.758804Z",
     "iopub.status.busy": "2025-07-30T20:51:14.758269Z",
     "iopub.status.idle": "2025-07-30T20:51:14.763497Z",
     "shell.execute_reply": "2025-07-30T20:51:14.762587Z"
    },
    "papermill": {
     "duration": 0.030704,
     "end_time": "2025-07-30T20:51:14.764920",
     "exception": false,
     "start_time": "2025-07-30T20:51:14.734216",
     "status": "completed"
    },
    "tags": []
   },
   "outputs": [],
   "source": [
    "#siab_s = sample_by_year(siab, universe[\"training_size\"])"
   ]
  },
  {
   "cell_type": "code",
   "execution_count": 26,
   "id": "5db0a40e-a4e2-4920-be85-b12ae061d70d",
   "metadata": {
    "execution": {
     "iopub.execute_input": "2025-07-30T20:51:14.801249Z",
     "iopub.status.busy": "2025-07-30T20:51:14.800908Z",
     "iopub.status.idle": "2025-07-30T20:51:14.804926Z",
     "shell.execute_reply": "2025-07-30T20:51:14.804263Z"
    },
    "papermill": {
     "duration": 0.022393,
     "end_time": "2025-07-30T20:51:14.806170",
     "exception": false,
     "start_time": "2025-07-30T20:51:14.783777",
     "status": "completed"
    },
    "tags": []
   },
   "outputs": [],
   "source": [
    "#display(siab_s.groupby(\"year\").size())"
   ]
  },
  {
   "cell_type": "code",
   "execution_count": 27,
   "id": "e6c733c5",
   "metadata": {
    "execution": {
     "iopub.execute_input": "2025-07-30T20:51:14.831750Z",
     "iopub.status.busy": "2025-07-30T20:51:14.831229Z",
     "iopub.status.idle": "2025-07-30T20:51:14.948342Z",
     "shell.execute_reply": "2025-07-30T20:51:14.947286Z"
    },
    "papermill": {
     "duration": 0.132367,
     "end_time": "2025-07-30T20:51:14.950451",
     "exception": false,
     "start_time": "2025-07-30T20:51:14.818084",
     "status": "completed"
    },
    "tags": []
   },
   "outputs": [],
   "source": [
    "# Auxiliary data needed downstream in the pipeline\n",
    "\n",
    "org_train = X_train.copy()\n",
    "org_test = X_test.copy()\n",
    "org_calib = X_calib.copy()"
   ]
  },
  {
   "cell_type": "code",
   "execution_count": 28,
   "id": "1466abac-c6da-4492-a62f-4240ae3783af",
   "metadata": {
    "execution": {
     "iopub.execute_input": "2025-07-30T20:51:14.997881Z",
     "iopub.status.busy": "2025-07-30T20:51:14.997442Z",
     "iopub.status.idle": "2025-07-30T20:51:15.002686Z",
     "shell.execute_reply": "2025-07-30T20:51:15.001516Z"
    },
    "papermill": {
     "duration": 0.030306,
     "end_time": "2025-07-30T20:51:15.004523",
     "exception": false,
     "start_time": "2025-07-30T20:51:14.974217",
     "status": "completed"
    },
    "tags": []
   },
   "outputs": [],
   "source": [
    "# put in other script?\n",
    "# Group sizes\n",
    "\n",
    "#def calculate_percentages(df, df_name):\n",
    "#    total_entries = len(df)\n",
    "#\n",
    "#    female_pct = (df['frau1'] == 1).mean() * 100\n",
    "#    non_german_pct = ((df['maxdeutsch1'] == 0) & (df['maxdeutsch.Missing.'] == 0)).mean() * 100\n",
    "#    non_german_male_pct = ((df['frau1'] == 0) & (df['maxdeutsch1'] == 0) & (df['maxdeutsch.Missing.'] == 0)).mean() * 100\n",
    "#    non_german_female_pct = ((df['frau1'] == 1) & (df['maxdeutsch1'] == 0) & (df['maxdeutsch.Missing.'] == 0)).mean() * 100\n",
    "#\n",
    "#    print(f\"--- {df_name} ---\")\n",
    "#    print(f\"Female: {female_pct:.2f}%\")\n",
    "#    print(f\"Non-German: {non_german_pct:.2f}%\")\n",
    "#    print(f\"Non-German Male: {non_german_male_pct:.2f}%\")\n",
    "#    print(f\"Non-German Female: {non_german_female_pct:.2f}%\\n\")\n",
    "#\n",
    "## Calculate for each DataFrame\n",
    "#calculate_percentages(siab_calib, \"siab_calib\")\n",
    "#calculate_percentages(siab_test, \"siab_test\")\n",
    "#calculate_percentages(siab_train, \"siab_train\")"
   ]
  },
  {
   "cell_type": "markdown",
   "id": "0a4a1b33",
   "metadata": {
    "papermill": {
     "duration": 0.010838,
     "end_time": "2025-07-30T20:51:15.031385",
     "exception": false,
     "start_time": "2025-07-30T20:51:15.020547",
     "status": "completed"
    },
    "tags": []
   },
   "source": [
    "# Preprocessing Data"
   ]
  },
  {
   "cell_type": "code",
   "execution_count": 29,
   "id": "ca879031",
   "metadata": {
    "execution": {
     "iopub.execute_input": "2025-07-30T20:51:15.061827Z",
     "iopub.status.busy": "2025-07-30T20:51:15.061388Z",
     "iopub.status.idle": "2025-07-30T20:51:15.067407Z",
     "shell.execute_reply": "2025-07-30T20:51:15.066475Z"
    },
    "papermill": {
     "duration": 0.027891,
     "end_time": "2025-07-30T20:51:15.070329",
     "exception": false,
     "start_time": "2025-07-30T20:51:15.042438",
     "status": "completed"
    },
    "tags": []
   },
   "outputs": [],
   "source": [
    "# EXCLUDE PROTECTED FEATURES\n",
    "# ----------------------\n",
    "# \"exclude_features\": \"none\", # \"nationality\", \"sex\", \"nationality-sex\"\n",
    "\n",
    "excluded_features = universe[\"exclude_features\"].split(\"-\") # split, e.g.: \"nationality-sex\" -> [\"nationality\", \"sex\"]\n",
    "excluded_features_dictionary = {\n",
    "    \"nationality\": [\"maxdeutsch1\", \"maxdeutsch.Missing.\"],\n",
    "    \"sex\": [\"frau1\"],\n",
    "    \"age\": [\"age\"],\n",
    "}\n"
   ]
  },
  {
   "cell_type": "code",
   "execution_count": 30,
   "id": "b745ac60",
   "metadata": {
    "execution": {
     "iopub.execute_input": "2025-07-30T20:51:15.129758Z",
     "iopub.status.busy": "2025-07-30T20:51:15.129267Z",
     "iopub.status.idle": "2025-07-30T20:51:15.135249Z",
     "shell.execute_reply": "2025-07-30T20:51:15.134257Z"
    },
    "papermill": {
     "duration": 0.027975,
     "end_time": "2025-07-30T20:51:15.137208",
     "exception": false,
     "start_time": "2025-07-30T20:51:15.109233",
     "status": "completed"
    },
    "tags": []
   },
   "outputs": [],
   "source": [
    "# Code nice names to column names\n",
    "\n",
    "excluded_features_columns = [\n",
    "    excluded_features_dictionary[f] for f in excluded_features if len(f) > 0 and f != \"none\"\n",
    "]"
   ]
  },
  {
   "cell_type": "code",
   "execution_count": 31,
   "id": "f84f73a2",
   "metadata": {
    "execution": {
     "iopub.execute_input": "2025-07-30T20:51:15.184105Z",
     "iopub.status.busy": "2025-07-30T20:51:15.183712Z",
     "iopub.status.idle": "2025-07-30T20:51:15.189265Z",
     "shell.execute_reply": "2025-07-30T20:51:15.188607Z"
    },
    "papermill": {
     "duration": 0.027456,
     "end_time": "2025-07-30T20:51:15.190624",
     "exception": false,
     "start_time": "2025-07-30T20:51:15.163168",
     "status": "completed"
    },
    "tags": []
   },
   "outputs": [],
   "source": [
    "from utils import flatten_once\n",
    "\n",
    "excluded_features_columns = flatten_once(excluded_features_columns)"
   ]
  },
  {
   "cell_type": "code",
   "execution_count": 32,
   "id": "884dea22",
   "metadata": {
    "execution": {
     "iopub.execute_input": "2025-07-30T20:51:15.215030Z",
     "iopub.status.busy": "2025-07-30T20:51:15.214306Z",
     "iopub.status.idle": "2025-07-30T20:51:15.223828Z",
     "shell.execute_reply": "2025-07-30T20:51:15.223150Z"
    },
    "papermill": {
     "duration": 0.022647,
     "end_time": "2025-07-30T20:51:15.225207",
     "exception": false,
     "start_time": "2025-07-30T20:51:15.202560",
     "status": "completed"
    },
    "tags": []
   },
   "outputs": [
    {
     "name": "stdout",
     "output_type": "stream",
     "text": [
      "Dropping features: ['age']\n"
     ]
    }
   ],
   "source": [
    "if len(excluded_features_columns) > 0:\n",
    "    print(f\"Dropping features: {excluded_features_columns}\")\n",
    "    X_train.drop(excluded_features_columns, axis=1, inplace=True)"
   ]
  },
  {
   "cell_type": "code",
   "execution_count": 33,
   "id": "95ab8b16",
   "metadata": {
    "execution": {
     "iopub.execute_input": "2025-07-30T20:51:15.265218Z",
     "iopub.status.busy": "2025-07-30T20:51:15.264841Z",
     "iopub.status.idle": "2025-07-30T20:51:15.319413Z",
     "shell.execute_reply": "2025-07-30T20:51:15.318529Z"
    },
    "papermill": {
     "duration": 0.079227,
     "end_time": "2025-07-30T20:51:15.320970",
     "exception": false,
     "start_time": "2025-07-30T20:51:15.241743",
     "status": "completed"
    },
    "tags": []
   },
   "outputs": [
    {
     "name": "stdout",
     "output_type": "stream",
     "text": [
      "Dropping features: ['age']\n"
     ]
    }
   ],
   "source": [
    "if len(excluded_features_columns) > 0:\n",
    "    print(f\"Dropping features: {excluded_features_columns}\")\n",
    "    X_test.drop(excluded_features_columns, axis=1, inplace=True)"
   ]
  },
  {
   "cell_type": "code",
   "execution_count": 34,
   "id": "1853aaf5-fb9f-46cb-a2b5-8ea4ae2237e4",
   "metadata": {
    "execution": {
     "iopub.execute_input": "2025-07-30T20:51:15.364832Z",
     "iopub.status.busy": "2025-07-30T20:51:15.364376Z",
     "iopub.status.idle": "2025-07-30T20:51:15.418005Z",
     "shell.execute_reply": "2025-07-30T20:51:15.416636Z"
    },
    "papermill": {
     "duration": 0.07716,
     "end_time": "2025-07-30T20:51:15.419738",
     "exception": false,
     "start_time": "2025-07-30T20:51:15.342578",
     "status": "completed"
    },
    "tags": []
   },
   "outputs": [
    {
     "name": "stdout",
     "output_type": "stream",
     "text": [
      "Dropping features: ['age']\n"
     ]
    }
   ],
   "source": [
    "if len(excluded_features_columns) > 0:\n",
    "    print(f\"Dropping features: {excluded_features_columns}\")\n",
    "    X_calib.drop(excluded_features_columns, axis=1, inplace=True)"
   ]
  },
  {
   "cell_type": "code",
   "execution_count": 35,
   "id": "6727d079-03e5-481e-9d38-292a90b7a0a8",
   "metadata": {
    "execution": {
     "iopub.execute_input": "2025-07-30T20:51:15.468017Z",
     "iopub.status.busy": "2025-07-30T20:51:15.467661Z",
     "iopub.status.idle": "2025-07-30T20:51:15.471951Z",
     "shell.execute_reply": "2025-07-30T20:51:15.471295Z"
    },
    "papermill": {
     "duration": 0.027954,
     "end_time": "2025-07-30T20:51:15.473281",
     "exception": false,
     "start_time": "2025-07-30T20:51:15.445327",
     "status": "completed"
    },
    "tags": []
   },
   "outputs": [],
   "source": [
    "# SPLIT & STRATIFY DATA\n",
    "# ----------------------"
   ]
  },
  {
   "cell_type": "code",
   "execution_count": 36,
   "id": "76c4dc6d",
   "metadata": {
    "execution": {
     "iopub.execute_input": "2025-07-30T20:51:15.512547Z",
     "iopub.status.busy": "2025-07-30T20:51:15.512058Z",
     "iopub.status.idle": "2025-07-30T20:51:15.517572Z",
     "shell.execute_reply": "2025-07-30T20:51:15.516607Z"
    },
    "papermill": {
     "duration": 0.031208,
     "end_time": "2025-07-30T20:51:15.519366",
     "exception": false,
     "start_time": "2025-07-30T20:51:15.488158",
     "status": "completed"
    },
    "tags": []
   },
   "outputs": [],
   "source": [
    "# EXCLUDE CERTAIN SUBGROUPS\n",
    "# ----------------------\n",
    "\n",
    "mode = universe.get(\"exclude_subgroups\", \"keep-all\") \n",
    "# Fetches the exclude_subgroups setting from the universe dict.\n",
    "# Defaults to \"keep-all\" if the key is missing."
   ]
  },
  {
   "cell_type": "code",
   "execution_count": 37,
   "id": "21994072",
   "metadata": {
    "execution": {
     "iopub.execute_input": "2025-07-30T20:51:15.571629Z",
     "iopub.status.busy": "2025-07-30T20:51:15.571163Z",
     "iopub.status.idle": "2025-07-30T20:51:15.578019Z",
     "shell.execute_reply": "2025-07-30T20:51:15.577132Z"
    },
    "papermill": {
     "duration": 0.035,
     "end_time": "2025-07-30T20:51:15.579625",
     "exception": false,
     "start_time": "2025-07-30T20:51:15.544625",
     "status": "completed"
    },
    "tags": []
   },
   "outputs": [],
   "source": [
    "if mode == \"keep-all\":\n",
    "    keep_mask = pd.Series(True, index=org_train.index)\n",
    "\n",
    "# org_train contains the original feature columns from features_org (in Simson)\n",
    "# features_org contains unprocessed features, for me X_train at beginning ???\n",
    "# For keep-all, creates a boolean Series (keep_mask) of all True, so no rows are removed.\n",
    "\n",
    "elif mode == \"drop-non-german\":\n",
    "    keep_mask = org_train[\"maxdeutsch1\"] == 1 # ??? what about missing values?\n",
    "\n",
    "else:\n",
    "    raise ValueError(f\"Unsupported mode for exclude_subgroups: {mode}\")\n"
   ]
  },
  {
   "cell_type": "code",
   "execution_count": 38,
   "id": "71651440",
   "metadata": {
    "execution": {
     "iopub.execute_input": "2025-07-30T20:51:15.632289Z",
     "iopub.status.busy": "2025-07-30T20:51:15.631759Z",
     "iopub.status.idle": "2025-07-30T20:51:15.639155Z",
     "shell.execute_reply": "2025-07-30T20:51:15.638210Z"
    },
    "papermill": {
     "duration": 0.035878,
     "end_time": "2025-07-30T20:51:15.640947",
     "exception": false,
     "start_time": "2025-07-30T20:51:15.605069",
     "status": "completed"
    },
    "tags": []
   },
   "outputs": [
    {
     "name": "stdout",
     "output_type": "stream",
     "text": [
      "Dropping 741 rows (14.82%) where mode='drop-non-german'\n"
     ]
    }
   ],
   "source": [
    "n_drop = (~keep_mask).sum() # Calculates how many rows are set to be dropped\n",
    "if n_drop > 0:\n",
    "    pct = n_drop / len(keep_mask) * 100\n",
    "    print(f\"Dropping {n_drop} rows ({pct:.2f}%) where mode='{mode}'\")"
   ]
  },
  {
   "cell_type": "code",
   "execution_count": 39,
   "id": "5fb8eee5",
   "metadata": {
    "execution": {
     "iopub.execute_input": "2025-07-30T20:51:15.690046Z",
     "iopub.status.busy": "2025-07-30T20:51:15.689550Z",
     "iopub.status.idle": "2025-07-30T20:51:15.696745Z",
     "shell.execute_reply": "2025-07-30T20:51:15.695801Z"
    },
    "papermill": {
     "duration": 0.032886,
     "end_time": "2025-07-30T20:51:15.698270",
     "exception": false,
     "start_time": "2025-07-30T20:51:15.665384",
     "status": "completed"
    },
    "tags": []
   },
   "outputs": [],
   "source": [
    "X_train = X_train[keep_mask]"
   ]
  },
  {
   "cell_type": "code",
   "execution_count": 40,
   "id": "b202bb3a",
   "metadata": {
    "execution": {
     "iopub.execute_input": "2025-07-30T20:51:15.739049Z",
     "iopub.status.busy": "2025-07-30T20:51:15.738326Z",
     "iopub.status.idle": "2025-07-30T20:51:15.743137Z",
     "shell.execute_reply": "2025-07-30T20:51:15.742425Z"
    },
    "papermill": {
     "duration": 0.022759,
     "end_time": "2025-07-30T20:51:15.744479",
     "exception": false,
     "start_time": "2025-07-30T20:51:15.721720",
     "status": "completed"
    },
    "tags": []
   },
   "outputs": [],
   "source": [
    "y_train = y_train[keep_mask]"
   ]
  },
  {
   "cell_type": "markdown",
   "id": "493e2ac3",
   "metadata": {
    "papermill": {
     "duration": 0.021639,
     "end_time": "2025-07-30T20:51:15.786653",
     "exception": false,
     "start_time": "2025-07-30T20:51:15.765014",
     "status": "completed"
    },
    "tags": []
   },
   "source": [
    "# Model Training"
   ]
  },
  {
   "cell_type": "code",
   "execution_count": 41,
   "id": "679e1268",
   "metadata": {
    "execution": {
     "iopub.execute_input": "2025-07-30T20:51:15.833729Z",
     "iopub.status.busy": "2025-07-30T20:51:15.833363Z",
     "iopub.status.idle": "2025-07-30T20:51:15.927536Z",
     "shell.execute_reply": "2025-07-30T20:51:15.926557Z"
    },
    "papermill": {
     "duration": 0.118442,
     "end_time": "2025-07-30T20:51:15.929150",
     "exception": false,
     "start_time": "2025-07-30T20:51:15.810708",
     "status": "completed"
    },
    "tags": []
   },
   "outputs": [],
   "source": [
    "from sklearn.linear_model import LogisticRegression\n",
    "from sklearn.ensemble import GradientBoostingClassifier, RandomForestClassifier\n",
    "\n",
    "if (universe[\"model\"] == \"logreg\"):\n",
    "    model = LogisticRegression() #penalty=\"none\") #, solver=\"newton-cg\", max_iter=1) # include random_state=19 ?\n",
    "elif (universe[\"model\"] == \"penalized_logreg\"):\n",
    "    model = LogisticRegression(penalty=\"l2\", C=1.0) #, solver=\"newton-cg\", max_iter=1)\n",
    "elif (universe[\"model\"] == \"rf\"):\n",
    "    model = RandomForestClassifier(n_estimators=100, n_jobs=-1)\n",
    "elif (universe[\"model\"] == \"gbm\"):\n",
    "    model = GradientBoostingClassifier()\n",
    "elif (universe[\"model\"] == \"elasticnet\"):\n",
    "    model = LogisticRegression(penalty = 'elasticnet', solver = 'saga', l1_ratio = 0.5, max_iter=5000) # which solver to use?\n",
    "else:\n",
    "    raise \"Unsupported universe.model\""
   ]
  },
  {
   "cell_type": "code",
   "execution_count": 42,
   "id": "0cc8f744",
   "metadata": {
    "execution": {
     "iopub.execute_input": "2025-07-30T20:51:15.980483Z",
     "iopub.status.busy": "2025-07-30T20:51:15.979909Z",
     "iopub.status.idle": "2025-07-30T20:51:15.987389Z",
     "shell.execute_reply": "2025-07-30T20:51:15.986443Z"
    },
    "papermill": {
     "duration": 0.038254,
     "end_time": "2025-07-30T20:51:15.988974",
     "exception": false,
     "start_time": "2025-07-30T20:51:15.950720",
     "status": "completed"
    },
    "tags": []
   },
   "outputs": [],
   "source": [
    "import numpy as np\n",
    "from sklearn.pipeline import Pipeline\n",
    "from sklearn.preprocessing import StandardScaler\n",
    "\n",
    "model = Pipeline([\n",
    "    #(\"continuous_processor\", continuous_processor),\n",
    "    #(\"categorical_preprocessor\", categorical_preprocessor),\n",
    "    (\"scale\", StandardScaler() if universe[\"scale\"] == \"scale\" else None), \n",
    "    (\"model\", model),\n",
    "])"
   ]
  },
  {
   "cell_type": "code",
   "execution_count": 43,
   "id": "9442c04d",
   "metadata": {
    "execution": {
     "iopub.execute_input": "2025-07-30T20:51:16.039891Z",
     "iopub.status.busy": "2025-07-30T20:51:16.039137Z",
     "iopub.status.idle": "2025-07-30T20:51:16.182715Z",
     "shell.execute_reply": "2025-07-30T20:51:16.181562Z"
    },
    "papermill": {
     "duration": 0.171013,
     "end_time": "2025-07-30T20:51:16.184932",
     "exception": false,
     "start_time": "2025-07-30T20:51:16.013919",
     "status": "completed"
    },
    "tags": []
   },
   "outputs": [
    {
     "name": "stderr",
     "output_type": "stream",
     "text": [
      "/dss/dsshome1/0C/ra93lal2/.local/share/virtualenvs/CMA_Fairness_v2-3j10GkSs/lib/python3.10/site-packages/sklearn/linear_model/_logistic.py:444: ConvergenceWarning: lbfgs failed to converge (status=1):\n",
      "STOP: TOTAL NO. of ITERATIONS REACHED LIMIT.\n",
      "\n",
      "Increase the number of iterations (max_iter) or scale the data as shown in:\n",
      "    https://scikit-learn.org/stable/modules/preprocessing.html\n",
      "Please also refer to the documentation for alternative solver options:\n",
      "    https://scikit-learn.org/stable/modules/linear_model.html#logistic-regression\n",
      "  n_iter_i = _check_optimize_result(\n"
     ]
    },
    {
     "data": {
      "text/html": [
       "<style>#sk-container-id-1 {color: black;background-color: white;}#sk-container-id-1 pre{padding: 0;}#sk-container-id-1 div.sk-toggleable {background-color: white;}#sk-container-id-1 label.sk-toggleable__label {cursor: pointer;display: block;width: 100%;margin-bottom: 0;padding: 0.3em;box-sizing: border-box;text-align: center;}#sk-container-id-1 label.sk-toggleable__label-arrow:before {content: \"▸\";float: left;margin-right: 0.25em;color: #696969;}#sk-container-id-1 label.sk-toggleable__label-arrow:hover:before {color: black;}#sk-container-id-1 div.sk-estimator:hover label.sk-toggleable__label-arrow:before {color: black;}#sk-container-id-1 div.sk-toggleable__content {max-height: 0;max-width: 0;overflow: hidden;text-align: left;background-color: #f0f8ff;}#sk-container-id-1 div.sk-toggleable__content pre {margin: 0.2em;color: black;border-radius: 0.25em;background-color: #f0f8ff;}#sk-container-id-1 input.sk-toggleable__control:checked~div.sk-toggleable__content {max-height: 200px;max-width: 100%;overflow: auto;}#sk-container-id-1 input.sk-toggleable__control:checked~label.sk-toggleable__label-arrow:before {content: \"▾\";}#sk-container-id-1 div.sk-estimator input.sk-toggleable__control:checked~label.sk-toggleable__label {background-color: #d4ebff;}#sk-container-id-1 div.sk-label input.sk-toggleable__control:checked~label.sk-toggleable__label {background-color: #d4ebff;}#sk-container-id-1 input.sk-hidden--visually {border: 0;clip: rect(1px 1px 1px 1px);clip: rect(1px, 1px, 1px, 1px);height: 1px;margin: -1px;overflow: hidden;padding: 0;position: absolute;width: 1px;}#sk-container-id-1 div.sk-estimator {font-family: monospace;background-color: #f0f8ff;border: 1px dotted black;border-radius: 0.25em;box-sizing: border-box;margin-bottom: 0.5em;}#sk-container-id-1 div.sk-estimator:hover {background-color: #d4ebff;}#sk-container-id-1 div.sk-parallel-item::after {content: \"\";width: 100%;border-bottom: 1px solid gray;flex-grow: 1;}#sk-container-id-1 div.sk-label:hover label.sk-toggleable__label {background-color: #d4ebff;}#sk-container-id-1 div.sk-serial::before {content: \"\";position: absolute;border-left: 1px solid gray;box-sizing: border-box;top: 0;bottom: 0;left: 50%;z-index: 0;}#sk-container-id-1 div.sk-serial {display: flex;flex-direction: column;align-items: center;background-color: white;padding-right: 0.2em;padding-left: 0.2em;position: relative;}#sk-container-id-1 div.sk-item {position: relative;z-index: 1;}#sk-container-id-1 div.sk-parallel {display: flex;align-items: stretch;justify-content: center;background-color: white;position: relative;}#sk-container-id-1 div.sk-item::before, #sk-container-id-1 div.sk-parallel-item::before {content: \"\";position: absolute;border-left: 1px solid gray;box-sizing: border-box;top: 0;bottom: 0;left: 50%;z-index: -1;}#sk-container-id-1 div.sk-parallel-item {display: flex;flex-direction: column;z-index: 1;position: relative;background-color: white;}#sk-container-id-1 div.sk-parallel-item:first-child::after {align-self: flex-end;width: 50%;}#sk-container-id-1 div.sk-parallel-item:last-child::after {align-self: flex-start;width: 50%;}#sk-container-id-1 div.sk-parallel-item:only-child::after {width: 0;}#sk-container-id-1 div.sk-dashed-wrapped {border: 1px dashed gray;margin: 0 0.4em 0.5em 0.4em;box-sizing: border-box;padding-bottom: 0.4em;background-color: white;}#sk-container-id-1 div.sk-label label {font-family: monospace;font-weight: bold;display: inline-block;line-height: 1.2em;}#sk-container-id-1 div.sk-label-container {text-align: center;}#sk-container-id-1 div.sk-container {/* jupyter's `normalize.less` sets `[hidden] { display: none; }` but bootstrap.min.css set `[hidden] { display: none !important; }` so we also need the `!important` here to be able to override the default hidden behavior on the sphinx rendered scikit-learn.org. See: https://github.com/scikit-learn/scikit-learn/issues/21755 */display: inline-block !important;position: relative;}#sk-container-id-1 div.sk-text-repr-fallback {display: none;}</style><div id=\"sk-container-id-1\" class=\"sk-top-container\"><div class=\"sk-text-repr-fallback\"><pre>Pipeline(steps=[(&#x27;scale&#x27;, None), (&#x27;model&#x27;, LogisticRegression())])</pre><b>In a Jupyter environment, please rerun this cell to show the HTML representation or trust the notebook. <br />On GitHub, the HTML representation is unable to render, please try loading this page with nbviewer.org.</b></div><div class=\"sk-container\" hidden><div class=\"sk-item sk-dashed-wrapped\"><div class=\"sk-label-container\"><div class=\"sk-label sk-toggleable\"><input class=\"sk-toggleable__control sk-hidden--visually\" id=\"sk-estimator-id-1\" type=\"checkbox\" ><label for=\"sk-estimator-id-1\" class=\"sk-toggleable__label sk-toggleable__label-arrow\">Pipeline</label><div class=\"sk-toggleable__content\"><pre>Pipeline(steps=[(&#x27;scale&#x27;, None), (&#x27;model&#x27;, LogisticRegression())])</pre></div></div></div><div class=\"sk-serial\"><div class=\"sk-item\"><div class=\"sk-estimator sk-toggleable\"><input class=\"sk-toggleable__control sk-hidden--visually\" id=\"sk-estimator-id-2\" type=\"checkbox\" ><label for=\"sk-estimator-id-2\" class=\"sk-toggleable__label sk-toggleable__label-arrow\">None</label><div class=\"sk-toggleable__content\"><pre>None</pre></div></div></div><div class=\"sk-item\"><div class=\"sk-estimator sk-toggleable\"><input class=\"sk-toggleable__control sk-hidden--visually\" id=\"sk-estimator-id-3\" type=\"checkbox\" ><label for=\"sk-estimator-id-3\" class=\"sk-toggleable__label sk-toggleable__label-arrow\">LogisticRegression</label><div class=\"sk-toggleable__content\"><pre>LogisticRegression()</pre></div></div></div></div></div></div></div>"
      ],
      "text/plain": [
       "Pipeline(steps=[('scale', None), ('model', LogisticRegression())])"
      ]
     },
     "execution_count": 43,
     "metadata": {},
     "output_type": "execute_result"
    }
   ],
   "source": [
    "model.fit(X_train, y_train.values.ravel())"
   ]
  },
  {
   "cell_type": "code",
   "execution_count": 44,
   "id": "af59f8c0",
   "metadata": {
    "execution": {
     "iopub.execute_input": "2025-07-30T20:51:16.266599Z",
     "iopub.status.busy": "2025-07-30T20:51:16.266046Z",
     "iopub.status.idle": "2025-07-30T20:51:16.272110Z",
     "shell.execute_reply": "2025-07-30T20:51:16.271190Z"
    },
    "papermill": {
     "duration": 0.041243,
     "end_time": "2025-07-30T20:51:16.273971",
     "exception": false,
     "start_time": "2025-07-30T20:51:16.232728",
     "status": "completed"
    },
    "tags": []
   },
   "outputs": [],
   "source": [
    "from fairness_multiverse.universe import predict_w_threshold"
   ]
  },
  {
   "cell_type": "code",
   "execution_count": 45,
   "id": "a7cf2e16",
   "metadata": {
    "execution": {
     "iopub.execute_input": "2025-07-30T20:51:16.328043Z",
     "iopub.status.busy": "2025-07-30T20:51:16.327529Z",
     "iopub.status.idle": "2025-07-30T20:51:16.418815Z",
     "shell.execute_reply": "2025-07-30T20:51:16.417940Z"
    },
    "papermill": {
     "duration": 0.119904,
     "end_time": "2025-07-30T20:51:16.420613",
     "exception": false,
     "start_time": "2025-07-30T20:51:16.300709",
     "status": "completed"
    },
    "tags": []
   },
   "outputs": [
    {
     "data": {
      "text/plain": [
       "0.8566157618994538"
      ]
     },
     "execution_count": 45,
     "metadata": {},
     "output_type": "execute_result"
    }
   ],
   "source": [
    "probs_test = model.predict_proba(X_test)\n",
    "\n",
    "'''\n",
    "Below code returns a boolean array (or binary 0/1 array depending on how it’s used) where each element \n",
    "is True if the probability of class 1 is greater than or equal to the threshold, and False otherwise.\n",
    "'''\n",
    "y_pred_default = predict_w_threshold(probs_test, 0.5)\n",
    "\n",
    "from sklearn.metrics import accuracy_score\n",
    "\n",
    "# Naive prediction\n",
    "accuracy_score(y_true = y_true, y_pred = y_pred_default)"
   ]
  },
  {
   "cell_type": "code",
   "execution_count": 46,
   "id": "081964c3",
   "metadata": {
    "execution": {
     "iopub.execute_input": "2025-07-30T20:51:16.474014Z",
     "iopub.status.busy": "2025-07-30T20:51:16.473686Z",
     "iopub.status.idle": "2025-07-30T20:51:16.561365Z",
     "shell.execute_reply": "2025-07-30T20:51:16.560455Z"
    },
    "papermill": {
     "duration": 0.115417,
     "end_time": "2025-07-30T20:51:16.562873",
     "exception": false,
     "start_time": "2025-07-30T20:51:16.447456",
     "status": "completed"
    },
    "tags": []
   },
   "outputs": [
    {
     "data": {
      "text/plain": [
       "array([0, 0, 0, ..., 0, 0, 0])"
      ]
     },
     "execution_count": 46,
     "metadata": {},
     "output_type": "execute_result"
    }
   ],
   "source": [
    "model.predict(X_test)"
   ]
  },
  {
   "cell_type": "markdown",
   "id": "56c9705b",
   "metadata": {
    "papermill": {
     "duration": 0.024274,
     "end_time": "2025-07-30T20:51:16.610116",
     "exception": false,
     "start_time": "2025-07-30T20:51:16.585842",
     "status": "completed"
    },
    "tags": []
   },
   "source": [
    "# Conformal Prediction"
   ]
  },
  {
   "cell_type": "code",
   "execution_count": 47,
   "id": "160ec6ff",
   "metadata": {
    "execution": {
     "iopub.execute_input": "2025-07-30T20:51:16.641621Z",
     "iopub.status.busy": "2025-07-30T20:51:16.641266Z",
     "iopub.status.idle": "2025-07-30T20:51:16.645988Z",
     "shell.execute_reply": "2025-07-30T20:51:16.645100Z"
    },
    "papermill": {
     "duration": 0.019795,
     "end_time": "2025-07-30T20:51:16.647397",
     "exception": false,
     "start_time": "2025-07-30T20:51:16.627602",
     "status": "completed"
    },
    "tags": []
   },
   "outputs": [],
   "source": [
    "# Miscoverage level for conformal prediction (10% allowed error rate => 90% target coverage)\n",
    "alpha = 0.1"
   ]
  },
  {
   "cell_type": "code",
   "execution_count": 48,
   "id": "eadf4555-3dd3-440e-8e35-f82a4ad9f855",
   "metadata": {
    "execution": {
     "iopub.execute_input": "2025-07-30T20:51:16.677228Z",
     "iopub.status.busy": "2025-07-30T20:51:16.676512Z",
     "iopub.status.idle": "2025-07-30T20:51:16.767627Z",
     "shell.execute_reply": "2025-07-30T20:51:16.766642Z"
    },
    "papermill": {
     "duration": 0.108648,
     "end_time": "2025-07-30T20:51:16.769453",
     "exception": false,
     "start_time": "2025-07-30T20:51:16.660805",
     "status": "completed"
    },
    "tags": []
   },
   "outputs": [],
   "source": [
    "probs_calib = model.predict_proba(X_calib)"
   ]
  },
  {
   "cell_type": "code",
   "execution_count": 49,
   "id": "2ed93547-6d5d-4983-9b36-1ecb300da49a",
   "metadata": {
    "execution": {
     "iopub.execute_input": "2025-07-30T20:51:16.846026Z",
     "iopub.status.busy": "2025-07-30T20:51:16.844932Z",
     "iopub.status.idle": "2025-07-30T20:51:16.850384Z",
     "shell.execute_reply": "2025-07-30T20:51:16.849663Z"
    },
    "papermill": {
     "duration": 0.038469,
     "end_time": "2025-07-30T20:51:16.852098",
     "exception": false,
     "start_time": "2025-07-30T20:51:16.813629",
     "status": "completed"
    },
    "tags": []
   },
   "outputs": [],
   "source": [
    "y_calib = y_calib.values.ravel().astype(int)"
   ]
  },
  {
   "cell_type": "code",
   "execution_count": 50,
   "id": "65d1320d-f588-4b38-9072-62af1ae97f7d",
   "metadata": {
    "execution": {
     "iopub.execute_input": "2025-07-30T20:51:16.906155Z",
     "iopub.status.busy": "2025-07-30T20:51:16.905185Z",
     "iopub.status.idle": "2025-07-30T20:51:16.912571Z",
     "shell.execute_reply": "2025-07-30T20:51:16.911545Z"
    },
    "papermill": {
     "duration": 0.036081,
     "end_time": "2025-07-30T20:51:16.914220",
     "exception": false,
     "start_time": "2025-07-30T20:51:16.878139",
     "status": "completed"
    },
    "tags": []
   },
   "outputs": [],
   "source": [
    "from fairness_multiverse.conformal import compute_nc_scores\n",
    "\n",
    "# Compute nonconformity scores on calibration set (1 - probability of true class)\n",
    "nc_scores = compute_nc_scores(probs_calib, y_calib)"
   ]
  },
  {
   "cell_type": "code",
   "execution_count": 51,
   "id": "df3b8ca3-53b7-43d5-9667-7c85da7aeda2",
   "metadata": {
    "execution": {
     "iopub.execute_input": "2025-07-30T20:51:16.954379Z",
     "iopub.status.busy": "2025-07-30T20:51:16.953515Z",
     "iopub.status.idle": "2025-07-30T20:51:16.960628Z",
     "shell.execute_reply": "2025-07-30T20:51:16.959632Z"
    },
    "papermill": {
     "duration": 0.025024,
     "end_time": "2025-07-30T20:51:16.962740",
     "exception": false,
     "start_time": "2025-07-30T20:51:16.937716",
     "status": "completed"
    },
    "tags": []
   },
   "outputs": [],
   "source": [
    "from fairness_multiverse.conformal import find_threshold\n",
    "\n",
    "# Find conformal threshold q_hat for the given alpha (split conformal method)\n",
    "q_hat = find_threshold(nc_scores, alpha)"
   ]
  },
  {
   "cell_type": "code",
   "execution_count": 52,
   "id": "4d29e6c1-0ef6-4aa4-b8fe-4fe79b0d033a",
   "metadata": {
    "execution": {
     "iopub.execute_input": "2025-07-30T20:51:17.017646Z",
     "iopub.status.busy": "2025-07-30T20:51:17.017168Z",
     "iopub.status.idle": "2025-07-30T20:51:17.025402Z",
     "shell.execute_reply": "2025-07-30T20:51:17.024513Z"
    },
    "papermill": {
     "duration": 0.038945,
     "end_time": "2025-07-30T20:51:17.029274",
     "exception": false,
     "start_time": "2025-07-30T20:51:16.990329",
     "status": "completed"
    },
    "tags": []
   },
   "outputs": [
    {
     "data": {
      "text/plain": [
       "0.6409053230684719"
      ]
     },
     "execution_count": 52,
     "metadata": {},
     "output_type": "execute_result"
    }
   ],
   "source": [
    "q_hat"
   ]
  },
  {
   "cell_type": "code",
   "execution_count": 53,
   "id": "92460794-cdac-4be2-ba28-f28c0515a6fb",
   "metadata": {
    "execution": {
     "iopub.execute_input": "2025-07-30T20:51:17.083863Z",
     "iopub.status.busy": "2025-07-30T20:51:17.083341Z",
     "iopub.status.idle": "2025-07-30T20:51:17.702390Z",
     "shell.execute_reply": "2025-07-30T20:51:17.701655Z"
    },
    "papermill": {
     "duration": 0.648721,
     "end_time": "2025-07-30T20:51:17.704292",
     "exception": false,
     "start_time": "2025-07-30T20:51:17.055571",
     "status": "completed"
    },
    "tags": []
   },
   "outputs": [],
   "source": [
    "from fairness_multiverse.conformal import predict_conformal_sets\n",
    "\n",
    "# Generate prediction sets for each test example\n",
    "pred_sets = predict_conformal_sets(model, X_test, q_hat)"
   ]
  },
  {
   "cell_type": "code",
   "execution_count": 54,
   "id": "d90c9a65-e6db-4f5d-80cd-e68fb7e46829",
   "metadata": {
    "execution": {
     "iopub.execute_input": "2025-07-30T20:51:17.795751Z",
     "iopub.status.busy": "2025-07-30T20:51:17.795046Z",
     "iopub.status.idle": "2025-07-30T20:51:17.801889Z",
     "shell.execute_reply": "2025-07-30T20:51:17.801032Z"
    },
    "papermill": {
     "duration": 0.03597,
     "end_time": "2025-07-30T20:51:17.803446",
     "exception": false,
     "start_time": "2025-07-30T20:51:17.767476",
     "status": "completed"
    },
    "tags": []
   },
   "outputs": [],
   "source": [
    "y_true = y_true.squeeze()"
   ]
  },
  {
   "cell_type": "code",
   "execution_count": 55,
   "id": "3a58a54a-1e68-46b9-927a-df01f18aebc8",
   "metadata": {
    "execution": {
     "iopub.execute_input": "2025-07-30T20:51:17.851229Z",
     "iopub.status.busy": "2025-07-30T20:51:17.850481Z",
     "iopub.status.idle": "2025-07-30T20:51:18.800086Z",
     "shell.execute_reply": "2025-07-30T20:51:18.799039Z"
    },
    "papermill": {
     "duration": 0.974994,
     "end_time": "2025-07-30T20:51:18.802116",
     "exception": false,
     "start_time": "2025-07-30T20:51:17.827122",
     "status": "completed"
    },
    "tags": []
   },
   "outputs": [],
   "source": [
    "from fairness_multiverse.conformal import evaluate_sets\n",
    "\n",
    "# Evaluate coverage and average set size on test data\n",
    "metrics = evaluate_sets(pred_sets, y_true)"
   ]
  },
  {
   "cell_type": "markdown",
   "id": "2b569c12-9aaa-4c88-98c9-bbcd0cf3ebb8",
   "metadata": {
    "papermill": {
     "duration": 0.025465,
     "end_time": "2025-07-30T20:51:18.855947",
     "exception": false,
     "start_time": "2025-07-30T20:51:18.830482",
     "status": "completed"
    },
    "tags": []
   },
   "source": [
    "# CP Metrics"
   ]
  },
  {
   "cell_type": "code",
   "execution_count": 56,
   "id": "5ce0a5cb-201f-45a0-ade5-94c7f0bd6095",
   "metadata": {
    "execution": {
     "iopub.execute_input": "2025-07-30T20:51:18.907695Z",
     "iopub.status.busy": "2025-07-30T20:51:18.906963Z",
     "iopub.status.idle": "2025-07-30T20:51:18.913951Z",
     "shell.execute_reply": "2025-07-30T20:51:18.913092Z"
    },
    "papermill": {
     "duration": 0.034261,
     "end_time": "2025-07-30T20:51:18.915368",
     "exception": false,
     "start_time": "2025-07-30T20:51:18.881107",
     "status": "completed"
    },
    "tags": []
   },
   "outputs": [
    {
     "data": {
      "text/plain": [
       "{'coverage': 0.9113365288150708, 'avg_size': 1.2493590458142905}"
      ]
     },
     "execution_count": 56,
     "metadata": {},
     "output_type": "execute_result"
    }
   ],
   "source": [
    "metrics"
   ]
  },
  {
   "cell_type": "code",
   "execution_count": 57,
   "id": "9b9a838d-31c9-430b-ae14-12baee460d17",
   "metadata": {
    "execution": {
     "iopub.execute_input": "2025-07-30T20:51:18.974622Z",
     "iopub.status.busy": "2025-07-30T20:51:18.974153Z",
     "iopub.status.idle": "2025-07-30T20:51:18.980480Z",
     "shell.execute_reply": "2025-07-30T20:51:18.979569Z"
    },
    "papermill": {
     "duration": 0.0358,
     "end_time": "2025-07-30T20:51:18.982252",
     "exception": false,
     "start_time": "2025-07-30T20:51:18.946452",
     "status": "completed"
    },
    "tags": []
   },
   "outputs": [],
   "source": [
    "example_universe = universe.copy()\n",
    "universe_training_year = example_universe.get(\"training_year\")\n",
    "universe_training_size = example_universe.get(\"training_size\")\n",
    "universe_scale = example_universe.get(\"scale\")\n",
    "universe_model = example_universe.get(\"model\")\n",
    "universe_exclude_features = example_universe.get(\"exclude_features\")\n",
    "universe_exclude_subgroups = example_universe.get(\"exclude_subgroups\")"
   ]
  },
  {
   "cell_type": "code",
   "execution_count": 58,
   "id": "f4b6a8ac-9dc0-4245-8a91-5b3b5999c4f9",
   "metadata": {
    "execution": {
     "iopub.execute_input": "2025-07-30T20:51:19.036294Z",
     "iopub.status.busy": "2025-07-30T20:51:19.035073Z",
     "iopub.status.idle": "2025-07-30T20:51:19.042091Z",
     "shell.execute_reply": "2025-07-30T20:51:19.041184Z"
    },
    "papermill": {
     "duration": 0.035965,
     "end_time": "2025-07-30T20:51:19.043878",
     "exception": false,
     "start_time": "2025-07-30T20:51:19.007913",
     "status": "completed"
    },
    "tags": []
   },
   "outputs": [],
   "source": [
    "cp_metrics_dict = {\n",
    "    \"universe_id\": [universe_id],\n",
    "    \"universe_training_year\": [universe_training_year],\n",
    "    \"universe_training_size\": [universe_training_size],\n",
    "    \"universe_scale\": [universe_scale],\n",
    "    \"universe_model\": [universe_model],\n",
    "    \"universe_exclude_features\": [universe_exclude_features],\n",
    "    \"universe_exclude_subgroups\": [universe_exclude_subgroups],\n",
    "    \"q_hat\": [q_hat],\n",
    "    \"coverage\": [metrics[\"coverage\"]],\n",
    "    \"avg_size\": [metrics[\"avg_size\"]],\n",
    "}"
   ]
  },
  {
   "cell_type": "code",
   "execution_count": 59,
   "id": "908acbb1-0371-4915-85ca-3fa520d2efe2",
   "metadata": {
    "execution": {
     "iopub.execute_input": "2025-07-30T20:51:19.098628Z",
     "iopub.status.busy": "2025-07-30T20:51:19.098096Z",
     "iopub.status.idle": "2025-07-30T20:51:19.105861Z",
     "shell.execute_reply": "2025-07-30T20:51:19.104990Z"
    },
    "papermill": {
     "duration": 0.036429,
     "end_time": "2025-07-30T20:51:19.107493",
     "exception": false,
     "start_time": "2025-07-30T20:51:19.071064",
     "status": "completed"
    },
    "tags": []
   },
   "outputs": [
    {
     "data": {
      "text/plain": [
       "{'universe_id': ['8f4b47d97fbd9f7a98ffce439b9a55b3'],\n",
       " 'universe_training_year': ['2014'],\n",
       " 'universe_training_size': ['5k'],\n",
       " 'universe_scale': ['do-not-scale'],\n",
       " 'universe_model': ['logreg'],\n",
       " 'universe_exclude_features': ['age'],\n",
       " 'universe_exclude_subgroups': ['drop-non-german'],\n",
       " 'q_hat': [0.6409053230684719],\n",
       " 'coverage': [0.9113365288150708],\n",
       " 'avg_size': [1.2493590458142905]}"
      ]
     },
     "execution_count": 59,
     "metadata": {},
     "output_type": "execute_result"
    }
   ],
   "source": [
    "cp_metrics_dict"
   ]
  },
  {
   "cell_type": "code",
   "execution_count": 60,
   "id": "33007efc-14e9-4ec6-97ac-56a455c82265",
   "metadata": {
    "execution": {
     "iopub.execute_input": "2025-07-30T20:51:19.160997Z",
     "iopub.status.busy": "2025-07-30T20:51:19.160537Z",
     "iopub.status.idle": "2025-07-30T20:51:19.166916Z",
     "shell.execute_reply": "2025-07-30T20:51:19.166096Z"
    },
    "papermill": {
     "duration": 0.034965,
     "end_time": "2025-07-30T20:51:19.168670",
     "exception": false,
     "start_time": "2025-07-30T20:51:19.133705",
     "status": "completed"
    },
    "tags": []
   },
   "outputs": [],
   "source": [
    "cp_metrics_df = pd.DataFrame(cp_metrics_dict)"
   ]
  },
  {
   "cell_type": "code",
   "execution_count": 61,
   "id": "db12611b-57b2-4910-b9d0-355adfd6e7bf",
   "metadata": {
    "execution": {
     "iopub.execute_input": "2025-07-30T20:51:19.221036Z",
     "iopub.status.busy": "2025-07-30T20:51:19.220581Z",
     "iopub.status.idle": "2025-07-30T20:51:19.237589Z",
     "shell.execute_reply": "2025-07-30T20:51:19.236688Z"
    },
    "papermill": {
     "duration": 0.044714,
     "end_time": "2025-07-30T20:51:19.239228",
     "exception": false,
     "start_time": "2025-07-30T20:51:19.194514",
     "status": "completed"
    },
    "tags": []
   },
   "outputs": [
    {
     "data": {
      "text/html": [
       "<div>\n",
       "<style scoped>\n",
       "    .dataframe tbody tr th:only-of-type {\n",
       "        vertical-align: middle;\n",
       "    }\n",
       "\n",
       "    .dataframe tbody tr th {\n",
       "        vertical-align: top;\n",
       "    }\n",
       "\n",
       "    .dataframe thead th {\n",
       "        text-align: right;\n",
       "    }\n",
       "</style>\n",
       "<table border=\"1\" class=\"dataframe\">\n",
       "  <thead>\n",
       "    <tr style=\"text-align: right;\">\n",
       "      <th></th>\n",
       "      <th>universe_id</th>\n",
       "      <th>universe_training_year</th>\n",
       "      <th>universe_training_size</th>\n",
       "      <th>universe_scale</th>\n",
       "      <th>universe_model</th>\n",
       "      <th>universe_exclude_features</th>\n",
       "      <th>universe_exclude_subgroups</th>\n",
       "      <th>q_hat</th>\n",
       "      <th>coverage</th>\n",
       "      <th>avg_size</th>\n",
       "    </tr>\n",
       "  </thead>\n",
       "  <tbody>\n",
       "    <tr>\n",
       "      <th>0</th>\n",
       "      <td>8f4b47d97fbd9f7a98ffce439b9a55b3</td>\n",
       "      <td>2014</td>\n",
       "      <td>5k</td>\n",
       "      <td>do-not-scale</td>\n",
       "      <td>logreg</td>\n",
       "      <td>age</td>\n",
       "      <td>drop-non-german</td>\n",
       "      <td>0.640905</td>\n",
       "      <td>0.911337</td>\n",
       "      <td>1.249359</td>\n",
       "    </tr>\n",
       "  </tbody>\n",
       "</table>\n",
       "</div>"
      ],
      "text/plain": [
       "                        universe_id universe_training_year  \\\n",
       "0  8f4b47d97fbd9f7a98ffce439b9a55b3                   2014   \n",
       "\n",
       "  universe_training_size universe_scale universe_model  \\\n",
       "0                     5k   do-not-scale         logreg   \n",
       "\n",
       "  universe_exclude_features universe_exclude_subgroups     q_hat  coverage  \\\n",
       "0                       age            drop-non-german  0.640905  0.911337   \n",
       "\n",
       "   avg_size  \n",
       "0  1.249359  "
      ]
     },
     "execution_count": 61,
     "metadata": {},
     "output_type": "execute_result"
    }
   ],
   "source": [
    "cp_metrics_df"
   ]
  },
  {
   "cell_type": "code",
   "execution_count": 62,
   "id": "b7fbde55-a0a1-47e4-9af6-fe4a17fa8c61",
   "metadata": {
    "execution": {
     "iopub.execute_input": "2025-07-30T20:51:19.292631Z",
     "iopub.status.busy": "2025-07-30T20:51:19.292106Z",
     "iopub.status.idle": "2025-07-30T20:51:19.297611Z",
     "shell.execute_reply": "2025-07-30T20:51:19.295871Z"
    },
    "papermill": {
     "duration": 0.033813,
     "end_time": "2025-07-30T20:51:19.299361",
     "exception": false,
     "start_time": "2025-07-30T20:51:19.265548",
     "status": "completed"
    },
    "tags": []
   },
   "outputs": [],
   "source": [
    "# Conditional Coverage & looking at subgroups"
   ]
  },
  {
   "cell_type": "code",
   "execution_count": 63,
   "id": "027ae886-68dd-4141-96c7-805a5450e1ef",
   "metadata": {
    "execution": {
     "iopub.execute_input": "2025-07-30T20:51:19.353147Z",
     "iopub.status.busy": "2025-07-30T20:51:19.352480Z",
     "iopub.status.idle": "2025-07-30T20:51:19.599938Z",
     "shell.execute_reply": "2025-07-30T20:51:19.598943Z"
    },
    "papermill": {
     "duration": 0.276311,
     "end_time": "2025-07-30T20:51:19.601861",
     "exception": false,
     "start_time": "2025-07-30T20:51:19.325550",
     "status": "completed"
    },
    "tags": []
   },
   "outputs": [],
   "source": [
    "from fairness_multiverse.conformal import build_cp_groups\n",
    "\n",
    "cp_groups_df = build_cp_groups(pred_sets, y_true, X_test.index, org_test)\n",
    "#needs universe_id and setting"
   ]
  },
  {
   "cell_type": "code",
   "execution_count": 64,
   "id": "01d5802c-663a-4d1f-9d69-e036faaffbf7",
   "metadata": {
    "execution": {
     "iopub.execute_input": "2025-07-30T20:51:19.653321Z",
     "iopub.status.busy": "2025-07-30T20:51:19.652702Z",
     "iopub.status.idle": "2025-07-30T20:51:19.657389Z",
     "shell.execute_reply": "2025-07-30T20:51:19.656491Z"
    },
    "papermill": {
     "duration": 0.030648,
     "end_time": "2025-07-30T20:51:19.658851",
     "exception": false,
     "start_time": "2025-07-30T20:51:19.628203",
     "status": "completed"
    },
    "tags": []
   },
   "outputs": [],
   "source": [
    "#delete\n",
    "#cp_groups_df"
   ]
  },
  {
   "cell_type": "code",
   "execution_count": 65,
   "id": "fa424af1-d1eb-443d-b717-2d279ada8408",
   "metadata": {
    "execution": {
     "iopub.execute_input": "2025-07-30T20:51:19.708039Z",
     "iopub.status.busy": "2025-07-30T20:51:19.707454Z",
     "iopub.status.idle": "2025-07-30T20:51:19.711889Z",
     "shell.execute_reply": "2025-07-30T20:51:19.710975Z"
    },
    "papermill": {
     "duration": 0.030527,
     "end_time": "2025-07-30T20:51:19.713476",
     "exception": false,
     "start_time": "2025-07-30T20:51:19.682949",
     "status": "completed"
    },
    "tags": []
   },
   "outputs": [],
   "source": [
    "#delete\n",
    "#percentage = (cp_groups_df['nongerman_female'] == 1).mean() * 100\n",
    "#print(percentage)\n"
   ]
  },
  {
   "cell_type": "code",
   "execution_count": 66,
   "id": "6cbdab96-b2b2-45af-ad54-d0516db2e28d",
   "metadata": {
    "execution": {
     "iopub.execute_input": "2025-07-30T20:51:19.763052Z",
     "iopub.status.busy": "2025-07-30T20:51:19.762338Z",
     "iopub.status.idle": "2025-07-30T20:51:20.911209Z",
     "shell.execute_reply": "2025-07-30T20:51:20.910221Z"
    },
    "papermill": {
     "duration": 1.175429,
     "end_time": "2025-07-30T20:51:20.913222",
     "exception": false,
     "start_time": "2025-07-30T20:51:19.737793",
     "status": "completed"
    },
    "tags": []
   },
   "outputs": [],
   "source": [
    "# Define covered = 1 if true_label is in the predicted set\n",
    "cp_groups_df['covered'] = cp_groups_df.apply(\n",
    "    lambda r: int(r['true_label'] in r['pred_set']),\n",
    "    axis=1\n",
    ")"
   ]
  },
  {
   "cell_type": "code",
   "execution_count": 67,
   "id": "338ff529-1a6b-4b87-a931-8e4788d52aad",
   "metadata": {
    "execution": {
     "iopub.execute_input": "2025-07-30T20:51:20.966179Z",
     "iopub.status.busy": "2025-07-30T20:51:20.965537Z",
     "iopub.status.idle": "2025-07-30T20:51:20.970952Z",
     "shell.execute_reply": "2025-07-30T20:51:20.970113Z"
    },
    "papermill": {
     "duration": 0.034653,
     "end_time": "2025-07-30T20:51:20.972787",
     "exception": false,
     "start_time": "2025-07-30T20:51:20.938134",
     "status": "completed"
    },
    "tags": []
   },
   "outputs": [],
   "source": [
    "#cp_groups_df"
   ]
  },
  {
   "cell_type": "code",
   "execution_count": 68,
   "id": "90032e27-66df-4540-9169-4e89cfbaa758",
   "metadata": {
    "execution": {
     "iopub.execute_input": "2025-07-30T20:51:21.031358Z",
     "iopub.status.busy": "2025-07-30T20:51:21.030843Z",
     "iopub.status.idle": "2025-07-30T20:51:21.042250Z",
     "shell.execute_reply": "2025-07-30T20:51:21.041345Z"
    },
    "papermill": {
     "duration": 0.04164,
     "end_time": "2025-07-30T20:51:21.046347",
     "exception": false,
     "start_time": "2025-07-30T20:51:21.004707",
     "status": "completed"
    },
    "tags": []
   },
   "outputs": [],
   "source": [
    "subgroups = ['frau1','nongerman','nongerman_male','nongerman_female']\n",
    "\n",
    "# Conditional coverage for subgroup==1\n",
    "cond_coverage = {\n",
    "    g: cp_groups_df.loc[cp_groups_df[g]==1, 'covered'].mean()\n",
    "    for g in subgroups\n",
    "}"
   ]
  },
  {
   "cell_type": "code",
   "execution_count": 69,
   "id": "1e348fb1-b9c3-45bc-ba23-f016827a7e0d",
   "metadata": {
    "execution": {
     "iopub.execute_input": "2025-07-30T20:51:21.102560Z",
     "iopub.status.busy": "2025-07-30T20:51:21.102094Z",
     "iopub.status.idle": "2025-07-30T20:51:21.112670Z",
     "shell.execute_reply": "2025-07-30T20:51:21.111019Z"
    },
    "papermill": {
     "duration": 0.039783,
     "end_time": "2025-07-30T20:51:21.114093",
     "exception": false,
     "start_time": "2025-07-30T20:51:21.074310",
     "status": "completed"
    },
    "tags": []
   },
   "outputs": [
    {
     "data": {
      "text/plain": [
       "{'frau1': 0.9096913330637553,\n",
       " 'nongerman': 0.9587941391118846,\n",
       " 'nongerman_male': 0.9666756732414663,\n",
       " 'nongerman_female': 0.94575260804769}"
      ]
     },
     "execution_count": 69,
     "metadata": {},
     "output_type": "execute_result"
    }
   ],
   "source": [
    "cond_coverage"
   ]
  },
  {
   "cell_type": "code",
   "execution_count": 70,
   "id": "f5093324-c3dd-4d63-bc4c-8d945e5c8bbb",
   "metadata": {
    "execution": {
     "iopub.execute_input": "2025-07-30T20:51:21.171111Z",
     "iopub.status.busy": "2025-07-30T20:51:21.170474Z",
     "iopub.status.idle": "2025-07-30T20:51:21.180612Z",
     "shell.execute_reply": "2025-07-30T20:51:21.179812Z"
    },
    "papermill": {
     "duration": 0.040352,
     "end_time": "2025-07-30T20:51:21.182390",
     "exception": false,
     "start_time": "2025-07-30T20:51:21.142038",
     "status": "completed"
    },
    "tags": []
   },
   "outputs": [],
   "source": [
    "for subgroup, cov in cond_coverage.items():\n",
    "    cp_metrics_df[f\"cov_{subgroup}\"] = cov"
   ]
  },
  {
   "cell_type": "code",
   "execution_count": 71,
   "id": "6e872e10-dbe5-49e8-b554-5030c98ff75d",
   "metadata": {
    "execution": {
     "iopub.execute_input": "2025-07-30T20:51:21.242849Z",
     "iopub.status.busy": "2025-07-30T20:51:21.242000Z",
     "iopub.status.idle": "2025-07-30T20:51:21.263458Z",
     "shell.execute_reply": "2025-07-30T20:51:21.262286Z"
    },
    "papermill": {
     "duration": 0.052587,
     "end_time": "2025-07-30T20:51:21.265142",
     "exception": false,
     "start_time": "2025-07-30T20:51:21.212555",
     "status": "completed"
    },
    "tags": []
   },
   "outputs": [
    {
     "data": {
      "text/html": [
       "<div>\n",
       "<style scoped>\n",
       "    .dataframe tbody tr th:only-of-type {\n",
       "        vertical-align: middle;\n",
       "    }\n",
       "\n",
       "    .dataframe tbody tr th {\n",
       "        vertical-align: top;\n",
       "    }\n",
       "\n",
       "    .dataframe thead th {\n",
       "        text-align: right;\n",
       "    }\n",
       "</style>\n",
       "<table border=\"1\" class=\"dataframe\">\n",
       "  <thead>\n",
       "    <tr style=\"text-align: right;\">\n",
       "      <th></th>\n",
       "      <th>universe_id</th>\n",
       "      <th>universe_training_year</th>\n",
       "      <th>universe_training_size</th>\n",
       "      <th>universe_scale</th>\n",
       "      <th>universe_model</th>\n",
       "      <th>universe_exclude_features</th>\n",
       "      <th>universe_exclude_subgroups</th>\n",
       "      <th>q_hat</th>\n",
       "      <th>coverage</th>\n",
       "      <th>avg_size</th>\n",
       "      <th>cov_frau1</th>\n",
       "      <th>cov_nongerman</th>\n",
       "      <th>cov_nongerman_male</th>\n",
       "      <th>cov_nongerman_female</th>\n",
       "    </tr>\n",
       "  </thead>\n",
       "  <tbody>\n",
       "    <tr>\n",
       "      <th>0</th>\n",
       "      <td>8f4b47d97fbd9f7a98ffce439b9a55b3</td>\n",
       "      <td>2014</td>\n",
       "      <td>5k</td>\n",
       "      <td>do-not-scale</td>\n",
       "      <td>logreg</td>\n",
       "      <td>age</td>\n",
       "      <td>drop-non-german</td>\n",
       "      <td>0.640905</td>\n",
       "      <td>0.911337</td>\n",
       "      <td>1.249359</td>\n",
       "      <td>0.909691</td>\n",
       "      <td>0.958794</td>\n",
       "      <td>0.966676</td>\n",
       "      <td>0.945753</td>\n",
       "    </tr>\n",
       "  </tbody>\n",
       "</table>\n",
       "</div>"
      ],
      "text/plain": [
       "                        universe_id universe_training_year  \\\n",
       "0  8f4b47d97fbd9f7a98ffce439b9a55b3                   2014   \n",
       "\n",
       "  universe_training_size universe_scale universe_model  \\\n",
       "0                     5k   do-not-scale         logreg   \n",
       "\n",
       "  universe_exclude_features universe_exclude_subgroups     q_hat  coverage  \\\n",
       "0                       age            drop-non-german  0.640905  0.911337   \n",
       "\n",
       "   avg_size  cov_frau1  cov_nongerman  cov_nongerman_male  \\\n",
       "0  1.249359   0.909691       0.958794            0.966676   \n",
       "\n",
       "   cov_nongerman_female  \n",
       "0              0.945753  "
      ]
     },
     "execution_count": 71,
     "metadata": {},
     "output_type": "execute_result"
    }
   ],
   "source": [
    "cp_metrics_df"
   ]
  },
  {
   "cell_type": "markdown",
   "id": "33774451",
   "metadata": {
    "papermill": {
     "duration": 0.028403,
     "end_time": "2025-07-30T20:51:21.323588",
     "exception": false,
     "start_time": "2025-07-30T20:51:21.295185",
     "status": "completed"
    },
    "tags": []
   },
   "source": [
    "# (Fairness) Metrics"
   ]
  },
  {
   "cell_type": "code",
   "execution_count": 72,
   "id": "debc5d62",
   "metadata": {
    "execution": {
     "iopub.execute_input": "2025-07-30T20:51:21.371447Z",
     "iopub.status.busy": "2025-07-30T20:51:21.371056Z",
     "iopub.status.idle": "2025-07-30T20:51:21.392316Z",
     "shell.execute_reply": "2025-07-30T20:51:21.391373Z"
    },
    "papermill": {
     "duration": 0.04234,
     "end_time": "2025-07-30T20:51:21.393887",
     "exception": false,
     "start_time": "2025-07-30T20:51:21.351547",
     "status": "completed"
    },
    "tags": []
   },
   "outputs": [],
   "source": [
    "# do I need to include maxdeutsch1.missing?\n",
    "\n",
    "import numpy as np\n",
    "\n",
    "colname_to_bin = \"maxdeutsch1\"\n",
    "majority_value = org_train[colname_to_bin].mode()[0]\n",
    "\n",
    "org_test[\"majmin\"] = np.where(org_test[colname_to_bin] == majority_value, \"majority\", \"minority\")"
   ]
  },
  {
   "cell_type": "code",
   "execution_count": 73,
   "id": "06a50de5",
   "metadata": {
    "execution": {
     "iopub.execute_input": "2025-07-30T20:51:21.452108Z",
     "iopub.status.busy": "2025-07-30T20:51:21.451560Z",
     "iopub.status.idle": "2025-07-30T20:51:24.248274Z",
     "shell.execute_reply": "2025-07-30T20:51:24.247220Z"
    },
    "papermill": {
     "duration": 2.82868,
     "end_time": "2025-07-30T20:51:24.250400",
     "exception": false,
     "start_time": "2025-07-30T20:51:21.421720",
     "status": "completed"
    },
    "tags": []
   },
   "outputs": [],
   "source": [
    "example_universe = universe.copy()\n",
    "example_universe[\"cutoff\"] = example_universe[\"cutoff\"][0]\n",
    "example_universe[\"eval_fairness_grouping\"] = example_universe[\"eval_fairness_grouping\"][0]\n",
    "fairness_dict, metric_frame = universe_analysis.compute_metrics(\n",
    "    example_universe,\n",
    "    y_pred_prob=probs_test,\n",
    "    y_test=y_true,\n",
    "    org_test=org_test,\n",
    ")"
   ]
  },
  {
   "cell_type": "markdown",
   "id": "f95d4e02",
   "metadata": {
    "papermill": {
     "duration": 0.027238,
     "end_time": "2025-07-30T20:51:24.306698",
     "exception": false,
     "start_time": "2025-07-30T20:51:24.279460",
     "status": "completed"
    },
    "tags": []
   },
   "source": [
    "# Overall"
   ]
  },
  {
   "cell_type": "markdown",
   "id": "bdee4871",
   "metadata": {
    "papermill": {
     "duration": 0.026379,
     "end_time": "2025-07-30T20:51:24.360336",
     "exception": false,
     "start_time": "2025-07-30T20:51:24.333957",
     "status": "completed"
    },
    "tags": []
   },
   "source": [
    "Fairness\n",
    "Main fairness target: Equalized Odds. Seems to be a better fit than equal opportunity, since we're not only interested in Y = 1. Seems to be a better fit than demographic parity, since we also care about accuracy, not just equal distribution of preds.\n",
    "\n",
    "Pick column for computation of fairness metrics\n",
    "\n",
    "Performance\n",
    "Overall performance measures, most interesting in relation to the measures split by group below"
   ]
  },
  {
   "cell_type": "code",
   "execution_count": 74,
   "id": "c4e067c6",
   "metadata": {
    "execution": {
     "iopub.execute_input": "2025-07-30T20:51:24.418561Z",
     "iopub.status.busy": "2025-07-30T20:51:24.418065Z",
     "iopub.status.idle": "2025-07-30T20:51:24.427105Z",
     "shell.execute_reply": "2025-07-30T20:51:24.426194Z"
    },
    "papermill": {
     "duration": 0.04085,
     "end_time": "2025-07-30T20:51:24.428782",
     "exception": false,
     "start_time": "2025-07-30T20:51:24.387932",
     "status": "completed"
    },
    "tags": []
   },
   "outputs": [
    {
     "data": {
      "text/plain": [
       "accuracy                   0.216442\n",
       "balanced accuracy          0.530892\n",
       "f1                         0.237991\n",
       "precision                  0.135957\n",
       "false positive rate        0.892074\n",
       "false negative rate        0.046142\n",
       "selection rate             0.900000\n",
       "count                  89710.000000\n",
       "dtype: float64"
      ]
     },
     "execution_count": 74,
     "metadata": {},
     "output_type": "execute_result"
    }
   ],
   "source": [
    "metric_frame.overall"
   ]
  },
  {
   "cell_type": "markdown",
   "id": "e968fe9d",
   "metadata": {
    "papermill": {
     "duration": 0.028852,
     "end_time": "2025-07-30T20:51:24.486495",
     "exception": false,
     "start_time": "2025-07-30T20:51:24.457643",
     "status": "completed"
    },
    "tags": []
   },
   "source": [
    "By Group"
   ]
  },
  {
   "cell_type": "code",
   "execution_count": 75,
   "id": "ec325bce",
   "metadata": {
    "execution": {
     "iopub.execute_input": "2025-07-30T20:51:24.544261Z",
     "iopub.status.busy": "2025-07-30T20:51:24.543349Z",
     "iopub.status.idle": "2025-07-30T20:51:24.560701Z",
     "shell.execute_reply": "2025-07-30T20:51:24.559680Z"
    },
    "papermill": {
     "duration": 0.04828,
     "end_time": "2025-07-30T20:51:24.562505",
     "exception": false,
     "start_time": "2025-07-30T20:51:24.514225",
     "status": "completed"
    },
    "tags": []
   },
   "outputs": [
    {
     "data": {
      "text/html": [
       "<div>\n",
       "<style scoped>\n",
       "    .dataframe tbody tr th:only-of-type {\n",
       "        vertical-align: middle;\n",
       "    }\n",
       "\n",
       "    .dataframe tbody tr th {\n",
       "        vertical-align: top;\n",
       "    }\n",
       "\n",
       "    .dataframe thead th {\n",
       "        text-align: right;\n",
       "    }\n",
       "</style>\n",
       "<table border=\"1\" class=\"dataframe\">\n",
       "  <thead>\n",
       "    <tr style=\"text-align: right;\">\n",
       "      <th></th>\n",
       "      <th>accuracy</th>\n",
       "      <th>balanced accuracy</th>\n",
       "      <th>f1</th>\n",
       "      <th>precision</th>\n",
       "      <th>false positive rate</th>\n",
       "      <th>false negative rate</th>\n",
       "      <th>selection rate</th>\n",
       "      <th>count</th>\n",
       "    </tr>\n",
       "    <tr>\n",
       "      <th>majmin</th>\n",
       "      <th></th>\n",
       "      <th></th>\n",
       "      <th></th>\n",
       "      <th></th>\n",
       "      <th></th>\n",
       "      <th></th>\n",
       "      <th></th>\n",
       "      <th></th>\n",
       "    </tr>\n",
       "  </thead>\n",
       "  <tbody>\n",
       "    <tr>\n",
       "      <th>majority</th>\n",
       "      <td>0.237979</td>\n",
       "      <td>0.538208</td>\n",
       "      <td>0.247090</td>\n",
       "      <td>0.142097</td>\n",
       "      <td>0.869865</td>\n",
       "      <td>0.053720</td>\n",
       "      <td>0.879962</td>\n",
       "      <td>69170.0</td>\n",
       "    </tr>\n",
       "    <tr>\n",
       "      <th>minority</th>\n",
       "      <td>0.143914</td>\n",
       "      <td>0.508833</td>\n",
       "      <td>0.209353</td>\n",
       "      <td>0.117150</td>\n",
       "      <td>0.965441</td>\n",
       "      <td>0.016892</td>\n",
       "      <td>0.967478</td>\n",
       "      <td>20540.0</td>\n",
       "    </tr>\n",
       "  </tbody>\n",
       "</table>\n",
       "</div>"
      ],
      "text/plain": [
       "          accuracy  balanced accuracy        f1  precision  \\\n",
       "majmin                                                       \n",
       "majority  0.237979           0.538208  0.247090   0.142097   \n",
       "minority  0.143914           0.508833  0.209353   0.117150   \n",
       "\n",
       "          false positive rate  false negative rate  selection rate    count  \n",
       "majmin                                                                       \n",
       "majority             0.869865             0.053720        0.879962  69170.0  \n",
       "minority             0.965441             0.016892        0.967478  20540.0  "
      ]
     },
     "execution_count": 75,
     "metadata": {},
     "output_type": "execute_result"
    }
   ],
   "source": [
    "metric_frame.by_group"
   ]
  },
  {
   "cell_type": "code",
   "execution_count": 76,
   "id": "a9ddbe63",
   "metadata": {
    "execution": {
     "iopub.execute_input": "2025-07-30T20:51:24.622003Z",
     "iopub.status.busy": "2025-07-30T20:51:24.621539Z",
     "iopub.status.idle": "2025-07-30T20:51:27.223541Z",
     "shell.execute_reply": "2025-07-30T20:51:27.222558Z"
    },
    "papermill": {
     "duration": 2.633847,
     "end_time": "2025-07-30T20:51:27.224881",
     "exception": false,
     "start_time": "2025-07-30T20:51:24.591034",
     "status": "completed"
    },
    "tags": []
   },
   "outputs": [
    {
     "data": {
      "text/plain": [
       "array([[<Axes: title={'center': 'accuracy'}, xlabel='majmin'>,\n",
       "        <Axes: title={'center': 'balanced accuracy'}, xlabel='majmin'>,\n",
       "        <Axes: title={'center': 'f1'}, xlabel='majmin'>],\n",
       "       [<Axes: title={'center': 'precision'}, xlabel='majmin'>,\n",
       "        <Axes: title={'center': 'false positive rate'}, xlabel='majmin'>,\n",
       "        <Axes: title={'center': 'false negative rate'}, xlabel='majmin'>],\n",
       "       [<Axes: title={'center': 'selection rate'}, xlabel='majmin'>,\n",
       "        <Axes: title={'center': 'count'}, xlabel='majmin'>,\n",
       "        <Axes: xlabel='majmin'>]], dtype=object)"
      ]
     },
     "execution_count": 76,
     "metadata": {},
     "output_type": "execute_result"
    },
    {
     "data": {
      "image/png": "[encoded data removed]",
      "text/plain": [
       "<Figure size 1200x800 with 9 Axes>"
      ]
     },
     "metadata": {},
     "output_type": "display_data"
    }
   ],
   "source": [
    "# In a graphic\n",
    "metric_frame.by_group.plot.bar(\n",
    "    subplots=True,\n",
    "    layout=[3, 3],\n",
    "    legend=False,\n",
    "    figsize=[12, 8],\n",
    "    title=\"Show all metrics\",\n",
    ")"
   ]
  },
  {
   "cell_type": "markdown",
   "id": "f57a0bac",
   "metadata": {
    "papermill": {
     "duration": 0.0293,
     "end_time": "2025-07-30T20:51:27.281943",
     "exception": false,
     "start_time": "2025-07-30T20:51:27.252643",
     "status": "completed"
    },
    "tags": []
   },
   "source": [
    "# Final Output"
   ]
  },
  {
   "cell_type": "code",
   "execution_count": 77,
   "id": "96d280a3",
   "metadata": {
    "execution": {
     "iopub.execute_input": "2025-07-30T20:51:27.339047Z",
     "iopub.status.busy": "2025-07-30T20:51:27.338066Z",
     "iopub.status.idle": "2025-07-30T20:51:27.345988Z",
     "shell.execute_reply": "2025-07-30T20:51:27.345145Z"
    },
    "papermill": {
     "duration": 0.03579,
     "end_time": "2025-07-30T20:51:27.347544",
     "exception": false,
     "start_time": "2025-07-30T20:51:27.311754",
     "status": "completed"
    },
    "tags": []
   },
   "outputs": [
    {
     "data": {
      "text/plain": [
       "4"
      ]
     },
     "execution_count": 77,
     "metadata": {},
     "output_type": "execute_result"
    }
   ],
   "source": [
    "sub_universes = universe_analysis.generate_sub_universes()\n",
    "len(sub_universes)"
   ]
  },
  {
   "cell_type": "code",
   "execution_count": 78,
   "id": "92adf7ba",
   "metadata": {
    "execution": {
     "iopub.execute_input": "2025-07-30T20:51:27.407079Z",
     "iopub.status.busy": "2025-07-30T20:51:27.406297Z",
     "iopub.status.idle": "2025-07-30T20:51:27.419609Z",
     "shell.execute_reply": "2025-07-30T20:51:27.418640Z"
    },
    "papermill": {
     "duration": 0.042786,
     "end_time": "2025-07-30T20:51:27.421329",
     "exception": false,
     "start_time": "2025-07-30T20:51:27.378543",
     "status": "completed"
    },
    "tags": []
   },
   "outputs": [],
   "source": [
    "def filter_sub_universe_data(sub_universe, org_test):\n",
    "    # Keep all rows — no filtering\n",
    "    keep_rows_mask = np.ones(org_test.shape[0], dtype=bool)\n",
    "\n",
    "    print(f\"[INFO] Keeping all rows: {keep_rows_mask.sum()} rows retained.\")\n",
    "    return keep_rows_mask"
   ]
  },
  {
   "cell_type": "code",
   "execution_count": 79,
   "id": "4a759155",
   "metadata": {
    "execution": {
     "iopub.execute_input": "2025-07-30T20:51:27.467291Z",
     "iopub.status.busy": "2025-07-30T20:51:27.466758Z",
     "iopub.status.idle": "2025-07-30T20:51:34.512789Z",
     "shell.execute_reply": "2025-07-30T20:51:34.511651Z"
    },
    "papermill": {
     "duration": 7.065428,
     "end_time": "2025-07-30T20:51:34.514518",
     "exception": false,
     "start_time": "2025-07-30T20:51:27.449090",
     "status": "completed"
    },
    "tags": []
   },
   "outputs": [
    {
     "name": "stdout",
     "output_type": "stream",
     "text": [
      "Stopping execution_time clock.\n",
      "[INFO] Keeping all rows: 89710 rows retained.\n"
     ]
    },
    {
     "name": "stdout",
     "output_type": "stream",
     "text": [
      "[INFO] Keeping all rows: 89710 rows retained.\n"
     ]
    },
    {
     "name": "stdout",
     "output_type": "stream",
     "text": [
      "[INFO] Keeping all rows: 89710 rows retained.\n"
     ]
    },
    {
     "name": "stdout",
     "output_type": "stream",
     "text": [
      "[INFO] Keeping all rows: 89710 rows retained.\n"
     ]
    },
    {
     "data": {
      "text/html": [
       "<div>\n",
       "<style scoped>\n",
       "    .dataframe tbody tr th:only-of-type {\n",
       "        vertical-align: middle;\n",
       "    }\n",
       "\n",
       "    .dataframe tbody tr th {\n",
       "        vertical-align: top;\n",
       "    }\n",
       "\n",
       "    .dataframe thead th {\n",
       "        text-align: right;\n",
       "    }\n",
       "</style>\n",
       "<table border=\"1\" class=\"dataframe\">\n",
       "  <thead>\n",
       "    <tr style=\"text-align: right;\">\n",
       "      <th></th>\n",
       "      <th>run_no</th>\n",
       "      <th>universe_id</th>\n",
       "      <th>universe_settings</th>\n",
       "      <th>execution_time</th>\n",
       "      <th>test_size_n</th>\n",
       "      <th>test_size_frac</th>\n",
       "      <th>fair_main_equalized_odds_difference</th>\n",
       "      <th>fair_main_equalized_odds_ratio</th>\n",
       "      <th>fair_main_demographic_parity_difference</th>\n",
       "      <th>fair_main_demographic_parity_ratio</th>\n",
       "      <th>...</th>\n",
       "      <th>perf_grp_precision_0</th>\n",
       "      <th>perf_grp_precision_1</th>\n",
       "      <th>perf_grp_false positive rate_0</th>\n",
       "      <th>perf_grp_false positive rate_1</th>\n",
       "      <th>perf_grp_false negative rate_0</th>\n",
       "      <th>perf_grp_false negative rate_1</th>\n",
       "      <th>perf_grp_selection rate_0</th>\n",
       "      <th>perf_grp_selection rate_1</th>\n",
       "      <th>perf_grp_count_0</th>\n",
       "      <th>perf_grp_count_1</th>\n",
       "    </tr>\n",
       "  </thead>\n",
       "  <tbody>\n",
       "    <tr>\n",
       "      <th>0</th>\n",
       "      <td>14</td>\n",
       "      <td>8f4b47d97fbd9f7a98ffce439b9a55b3</td>\n",
       "      <td>{\"cutoff\": \"quantile_0.1\", \"eval_fairness_grou...</td>\n",
       "      <td>27.536351</td>\n",
       "      <td>89710</td>\n",
       "      <td>1.0</td>\n",
       "      <td>0.095576</td>\n",
       "      <td>0.901003</td>\n",
       "      <td>0.087516</td>\n",
       "      <td>0.909542</td>\n",
       "      <td>...</td>\n",
       "      <td>NaN</td>\n",
       "      <td>NaN</td>\n",
       "      <td>NaN</td>\n",
       "      <td>NaN</td>\n",
       "      <td>NaN</td>\n",
       "      <td>NaN</td>\n",
       "      <td>NaN</td>\n",
       "      <td>NaN</td>\n",
       "      <td>NaN</td>\n",
       "      <td>NaN</td>\n",
       "    </tr>\n",
       "    <tr>\n",
       "      <th>0</th>\n",
       "      <td>14</td>\n",
       "      <td>8f4b47d97fbd9f7a98ffce439b9a55b3</td>\n",
       "      <td>{\"cutoff\": \"quantile_0.1\", \"eval_fairness_grou...</td>\n",
       "      <td>27.536351</td>\n",
       "      <td>89710</td>\n",
       "      <td>1.0</td>\n",
       "      <td>0.095576</td>\n",
       "      <td>0.901003</td>\n",
       "      <td>0.087516</td>\n",
       "      <td>0.909542</td>\n",
       "      <td>...</td>\n",
       "      <td>0.117150</td>\n",
       "      <td>0.142097</td>\n",
       "      <td>0.965441</td>\n",
       "      <td>0.869865</td>\n",
       "      <td>0.016892</td>\n",
       "      <td>0.053720</td>\n",
       "      <td>0.967478</td>\n",
       "      <td>0.879962</td>\n",
       "      <td>20540.0</td>\n",
       "      <td>69170.0</td>\n",
       "    </tr>\n",
       "    <tr>\n",
       "      <th>0</th>\n",
       "      <td>14</td>\n",
       "      <td>8f4b47d97fbd9f7a98ffce439b9a55b3</td>\n",
       "      <td>{\"cutoff\": \"quantile_0.25\", \"eval_fairness_gro...</td>\n",
       "      <td>27.536351</td>\n",
       "      <td>89710</td>\n",
       "      <td>1.0</td>\n",
       "      <td>0.228932</td>\n",
       "      <td>0.747977</td>\n",
       "      <td>0.211472</td>\n",
       "      <td>0.768389</td>\n",
       "      <td>...</td>\n",
       "      <td>NaN</td>\n",
       "      <td>NaN</td>\n",
       "      <td>NaN</td>\n",
       "      <td>NaN</td>\n",
       "      <td>NaN</td>\n",
       "      <td>NaN</td>\n",
       "      <td>NaN</td>\n",
       "      <td>NaN</td>\n",
       "      <td>NaN</td>\n",
       "      <td>NaN</td>\n",
       "    </tr>\n",
       "    <tr>\n",
       "      <th>0</th>\n",
       "      <td>14</td>\n",
       "      <td>8f4b47d97fbd9f7a98ffce439b9a55b3</td>\n",
       "      <td>{\"cutoff\": \"quantile_0.25\", \"eval_fairness_gro...</td>\n",
       "      <td>27.536351</td>\n",
       "      <td>89710</td>\n",
       "      <td>1.0</td>\n",
       "      <td>0.228932</td>\n",
       "      <td>0.747977</td>\n",
       "      <td>0.211472</td>\n",
       "      <td>0.768389</td>\n",
       "      <td>...</td>\n",
       "      <td>0.119814</td>\n",
       "      <td>0.159516</td>\n",
       "      <td>0.908376</td>\n",
       "      <td>0.679444</td>\n",
       "      <td>0.051098</td>\n",
       "      <td>0.153063</td>\n",
       "      <td>0.913048</td>\n",
       "      <td>0.701576</td>\n",
       "      <td>20540.0</td>\n",
       "      <td>69170.0</td>\n",
       "    </tr>\n",
       "  </tbody>\n",
       "</table>\n",
       "<p>4 rows × 50 columns</p>\n",
       "</div>"
      ],
      "text/plain": [
       "  run_no                       universe_id  \\\n",
       "0     14  8f4b47d97fbd9f7a98ffce439b9a55b3   \n",
       "0     14  8f4b47d97fbd9f7a98ffce439b9a55b3   \n",
       "0     14  8f4b47d97fbd9f7a98ffce439b9a55b3   \n",
       "0     14  8f4b47d97fbd9f7a98ffce439b9a55b3   \n",
       "\n",
       "                                   universe_settings  execution_time  \\\n",
       "0  {\"cutoff\": \"quantile_0.1\", \"eval_fairness_grou...       27.536351   \n",
       "0  {\"cutoff\": \"quantile_0.1\", \"eval_fairness_grou...       27.536351   \n",
       "0  {\"cutoff\": \"quantile_0.25\", \"eval_fairness_gro...       27.536351   \n",
       "0  {\"cutoff\": \"quantile_0.25\", \"eval_fairness_gro...       27.536351   \n",
       "\n",
       "   test_size_n  test_size_frac  fair_main_equalized_odds_difference  \\\n",
       "0        89710             1.0                             0.095576   \n",
       "0        89710             1.0                             0.095576   \n",
       "0        89710             1.0                             0.228932   \n",
       "0        89710             1.0                             0.228932   \n",
       "\n",
       "   fair_main_equalized_odds_ratio  fair_main_demographic_parity_difference  \\\n",
       "0                        0.901003                                 0.087516   \n",
       "0                        0.901003                                 0.087516   \n",
       "0                        0.747977                                 0.211472   \n",
       "0                        0.747977                                 0.211472   \n",
       "\n",
       "   fair_main_demographic_parity_ratio  ...  perf_grp_precision_0  \\\n",
       "0                            0.909542  ...                   NaN   \n",
       "0                            0.909542  ...              0.117150   \n",
       "0                            0.768389  ...                   NaN   \n",
       "0                            0.768389  ...              0.119814   \n",
       "\n",
       "   perf_grp_precision_1  perf_grp_false positive rate_0  \\\n",
       "0                   NaN                             NaN   \n",
       "0              0.142097                        0.965441   \n",
       "0                   NaN                             NaN   \n",
       "0              0.159516                        0.908376   \n",
       "\n",
       "   perf_grp_false positive rate_1  perf_grp_false negative rate_0  \\\n",
       "0                             NaN                             NaN   \n",
       "0                        0.869865                        0.016892   \n",
       "0                             NaN                             NaN   \n",
       "0                        0.679444                        0.051098   \n",
       "\n",
       "   perf_grp_false negative rate_1  perf_grp_selection rate_0  \\\n",
       "0                             NaN                        NaN   \n",
       "0                        0.053720                   0.967478   \n",
       "0                             NaN                        NaN   \n",
       "0                        0.153063                   0.913048   \n",
       "\n",
       "   perf_grp_selection rate_1  perf_grp_count_0  perf_grp_count_1  \n",
       "0                        NaN               NaN               NaN  \n",
       "0                   0.879962           20540.0           69170.0  \n",
       "0                        NaN               NaN               NaN  \n",
       "0                   0.701576           20540.0           69170.0  \n",
       "\n",
       "[4 rows x 50 columns]"
      ]
     },
     "execution_count": 79,
     "metadata": {},
     "output_type": "execute_result"
    }
   ],
   "source": [
    "final_output = universe_analysis.generate_final_output(\n",
    "    y_pred_prob=probs_test,\n",
    "    y_test=y_true,\n",
    "    org_test=org_test,\n",
    "    filter_data=filter_sub_universe_data,\n",
    "    cp_metrics_df=cp_metrics_df,\n",
    "    save=True,\n",
    ")\n",
    "final_output"
   ]
  },
  {
   "cell_type": "code",
   "execution_count": null,
   "id": "721ff514-cb11-46f8-b6fc-50392f74b5cb",
   "metadata": {
    "papermill": {
     "duration": 0.029991,
     "end_time": "2025-07-30T20:51:34.581194",
     "exception": false,
     "start_time": "2025-07-30T20:51:34.551203",
     "status": "completed"
    },
    "tags": []
   },
   "outputs": [],
   "source": []
  }
 ],
 "metadata": {
  "celltoolbar": "Tags",
  "kernelspec": {
   "display_name": "Python (CMA Fairness)",
   "language": "python",
   "name": "cma_fair_env"
  },
  "language_info": {
   "codemirror_mode": {
    "name": "ipython",
    "version": 3
   },
   "file_extension": ".py",
   "mimetype": "text/x-python",
   "name": "python",
   "nbconvert_exporter": "python",
   "pygments_lexer": "ipython3",
   "version": "3.10.12"
  },
  "papermill": {
   "default_parameters": {},
   "duration": 38.949699,
   "end_time": "2025-07-30T20:51:35.429361",
   "environment_variables": {},
   "exception": null,
   "input_path": "universe_analysis.ipynb",
   "output_path": "output/runs/14/notebooks/m_14-8f4b47d97fbd9f7a98ffce439b9a55b3.ipynb",
   "parameters": {
    "output_dir": "output",
    "run_no": "14",
    "seed": "2023",
    "universe": "{\"cutoff\": [\"quantile_0.1\", \"quantile_0.25\"], \"eval_fairness_grouping\": [\"majority-minority\", \"nationality-all\"], \"exclude_features\": \"age\", \"exclude_subgroups\": \"drop-non-german\", \"model\": \"logreg\", \"scale\": \"do-not-scale\", \"training_size\": \"5k\", \"training_year\": \"2014\"}",
    "universe_id": "8f4b47d97fbd9f7a98ffce439b9a55b3"
   },
   "start_time": "2025-07-30T20:50:56.479662",
   "version": "2.6.0"
  }
 },
 "nbformat": 4,
 "nbformat_minor": 5
}