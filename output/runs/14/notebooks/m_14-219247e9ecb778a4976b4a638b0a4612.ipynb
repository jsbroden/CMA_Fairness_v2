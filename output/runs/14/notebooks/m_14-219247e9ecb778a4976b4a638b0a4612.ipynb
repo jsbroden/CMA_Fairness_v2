{
 "cells": [
  {
   "cell_type": "code",
   "execution_count": 1,
   "id": "f159f837-637b-42ba-96b5-ec9a68c44524",
   "metadata": {
    "execution": {
     "iopub.execute_input": "2025-07-30T21:42:11.247050Z",
     "iopub.status.busy": "2025-07-30T21:42:11.246214Z",
     "iopub.status.idle": "2025-07-30T21:42:11.259097Z",
     "shell.execute_reply": "2025-07-30T21:42:11.258073Z"
    },
    "papermill": {
     "duration": 0.039409,
     "end_time": "2025-07-30T21:42:11.261483",
     "exception": false,
     "start_time": "2025-07-30T21:42:11.222074",
     "status": "completed"
    },
    "tags": []
   },
   "outputs": [
    {
     "name": "stdout",
     "output_type": "stream",
     "text": [
      "/dss/dsshome1/0C/ra93lal2/cma/CMA_Fairness_v2\n"
     ]
    },
    {
     "name": "stderr",
     "output_type": "stream",
     "text": [
      "/dss/dsshome1/0C/ra93lal2/.local/share/virtualenvs/CMA_Fairness_v2-3j10GkSs/lib/python3.10/site-packages/IPython/core/magics/osm.py:393: UserWarning: This is now an optional IPython functionality, using bookmarks requires you to install the `pickleshare` library.\n",
      "  bkms = self.shell.db.get('bookmarks', {})\n",
      "/dss/dsshome1/0C/ra93lal2/.local/share/virtualenvs/CMA_Fairness_v2-3j10GkSs/lib/python3.10/site-packages/IPython/core/magics/osm.py:417: UserWarning: This is now an optional IPython functionality, setting dhist requires you to install the `pickleshare` library.\n",
      "  self.shell.db['dhist'] = compress_dhist(dhist)[-100:]\n"
     ]
    }
   ],
   "source": [
    "%cd ~/cma/CMA_Fairness_v2"
   ]
  },
  {
   "cell_type": "markdown",
   "id": "de2603b9",
   "metadata": {
    "papermill": {
     "duration": 0.021131,
     "end_time": "2025-07-30T21:42:11.306292",
     "exception": false,
     "start_time": "2025-07-30T21:42:11.285161",
     "status": "completed"
    },
    "tags": []
   },
   "source": [
    "The following cell holds the definition of our parameters, these values can be overriden by rendering the with e.g. the following command:\n",
    "\n",
    "papermill -p alpha 0.2 -p ratio 0.3 universe_analysis.ipynb output/test_run.ipynb"
   ]
  },
  {
   "cell_type": "code",
   "execution_count": 2,
   "id": "a80968a0-40bb-4fa9-85ef-2d5eefb01975",
   "metadata": {
    "execution": {
     "iopub.execute_input": "2025-07-30T21:42:11.352958Z",
     "iopub.status.busy": "2025-07-30T21:42:11.351993Z",
     "iopub.status.idle": "2025-07-30T21:42:11.357331Z",
     "shell.execute_reply": "2025-07-30T21:42:11.356391Z"
    },
    "papermill": {
     "duration": 0.030969,
     "end_time": "2025-07-30T21:42:11.359208",
     "exception": false,
     "start_time": "2025-07-30T21:42:11.328239",
     "status": "completed"
    },
    "tags": []
   },
   "outputs": [
    {
     "name": "stdout",
     "output_type": "stream",
     "text": [
      "Current working directory: /dss/dsshome1/0C/ra93lal2/cma/CMA_Fairness_v2\n"
     ]
    }
   ],
   "source": [
    "import os\n",
    "print(\"Current working directory:\", os.getcwd())"
   ]
  },
  {
   "cell_type": "code",
   "execution_count": 3,
   "id": "2dce4c03",
   "metadata": {
    "execution": {
     "iopub.execute_input": "2025-07-30T21:42:11.407046Z",
     "iopub.status.busy": "2025-07-30T21:42:11.406040Z",
     "iopub.status.idle": "2025-07-30T21:42:11.412554Z",
     "shell.execute_reply": "2025-07-30T21:42:11.411574Z"
    },
    "papermill": {
     "duration": 0.031585,
     "end_time": "2025-07-30T21:42:11.414318",
     "exception": false,
     "start_time": "2025-07-30T21:42:11.382733",
     "status": "completed"
    },
    "tags": [
     "parameters"
    ]
   },
   "outputs": [],
   "source": [
    "run_no = 0\n",
    "universe_id = \"test\"\n",
    "universe = {\n",
    "    \"training_size\": \"25k\", # \"25k\", \"5k\", \"1k\"\n",
    "    \"training_year\": \"2014\", # \"2014\", \"2012_14\", \"2010_14\"\n",
    "    \"scale\": \"scale\", # \"scale\", \"do-not-scale\",\n",
    "    #\"stratify_split\": \"target\", # \"none\", \"target\", \"protected-attribute\", \"both\",\n",
    "    \"model\": \"elasticnet\", # \"logreg\", \"penalized_logreg\", \"rf\", \"gbm\", \"elasticnet\"\n",
    "    \"cutoff\": [\"quantile_0.15\", \"quantile_0.30\"],\n",
    "    \"exclude_features\": \"age\", # \"none\", \"nationality\", \"sex\", \"nationality-sex\", \"age\"\n",
    "    \"exclude_subgroups\": \"keep-all\", # \"keep-all\", \"drop-non-german\"\n",
    "    \"eval_fairness_grouping\": [\"majority-minority\", \"nationality-all\"]\n",
    "}\n",
    "\n",
    "output_dir=\"./output\"\n",
    "seed=0"
   ]
  },
  {
   "cell_type": "code",
   "execution_count": 4,
   "id": "715a987f",
   "metadata": {
    "execution": {
     "iopub.execute_input": "2025-07-30T21:42:11.460731Z",
     "iopub.status.busy": "2025-07-30T21:42:11.460099Z",
     "iopub.status.idle": "2025-07-30T21:42:11.466947Z",
     "shell.execute_reply": "2025-07-30T21:42:11.465883Z"
    },
    "papermill": {
     "duration": 0.031772,
     "end_time": "2025-07-30T21:42:11.469011",
     "exception": false,
     "start_time": "2025-07-30T21:42:11.437239",
     "status": "completed"
    },
    "tags": [
     "injected-parameters"
    ]
   },
   "outputs": [],
   "source": [
    "# Parameters\n",
    "universe_id = \"219247e9ecb778a4976b4a638b0a4612\"\n",
    "run_no = \"14\"\n",
    "universe = \"{\\\"cutoff\\\": [\\\"quantile_0.1\\\", \\\"quantile_0.25\\\"], \\\"eval_fairness_grouping\\\": [\\\"majority-minority\\\", \\\"nationality-all\\\"], \\\"exclude_features\\\": \\\"none\\\", \\\"exclude_subgroups\\\": \\\"drop-non-german\\\", \\\"model\\\": \\\"elasticnet\\\", \\\"scale\\\": \\\"do-not-scale\\\", \\\"training_size\\\": \\\"1k\\\", \\\"training_year\\\": \\\"2012_14\\\"}\"\n",
    "output_dir = \"output\"\n",
    "seed = \"2023\"\n"
   ]
  },
  {
   "cell_type": "code",
   "execution_count": 5,
   "id": "1650acaf",
   "metadata": {
    "execution": {
     "iopub.execute_input": "2025-07-30T21:42:11.513588Z",
     "iopub.status.busy": "2025-07-30T21:42:11.513115Z",
     "iopub.status.idle": "2025-07-30T21:42:11.518098Z",
     "shell.execute_reply": "2025-07-30T21:42:11.517217Z"
    },
    "papermill": {
     "duration": 0.027784,
     "end_time": "2025-07-30T21:42:11.520271",
     "exception": false,
     "start_time": "2025-07-30T21:42:11.492487",
     "status": "completed"
    },
    "tags": []
   },
   "outputs": [],
   "source": [
    "import json\n",
    "# Parse universe into dict if it is passed as a string\n",
    "if isinstance(universe, str):\n",
    "    universe = json.loads(universe)"
   ]
  },
  {
   "cell_type": "code",
   "execution_count": 6,
   "id": "16620c48",
   "metadata": {
    "execution": {
     "iopub.execute_input": "2025-07-30T21:42:11.560462Z",
     "iopub.status.busy": "2025-07-30T21:42:11.559818Z",
     "iopub.status.idle": "2025-07-30T21:42:11.608360Z",
     "shell.execute_reply": "2025-07-30T21:42:11.607240Z"
    },
    "papermill": {
     "duration": 0.070623,
     "end_time": "2025-07-30T21:42:11.610033",
     "exception": false,
     "start_time": "2025-07-30T21:42:11.539410",
     "status": "completed"
    },
    "tags": []
   },
   "outputs": [],
   "source": [
    "# Auto-reload the custom package\n",
    "%load_ext autoreload\n",
    "%autoreload 1\n",
    "%aimport fairness_multiverse"
   ]
  },
  {
   "cell_type": "code",
   "execution_count": 7,
   "id": "01c5c9f3",
   "metadata": {
    "execution": {
     "iopub.execute_input": "2025-07-30T21:42:11.661676Z",
     "iopub.status.busy": "2025-07-30T21:42:11.661206Z",
     "iopub.status.idle": "2025-07-30T21:42:13.665884Z",
     "shell.execute_reply": "2025-07-30T21:42:13.664956Z"
    },
    "papermill": {
     "duration": 2.029028,
     "end_time": "2025-07-30T21:42:13.667573",
     "exception": false,
     "start_time": "2025-07-30T21:42:11.638545",
     "status": "completed"
    },
    "tags": []
   },
   "outputs": [],
   "source": [
    "from fairness_multiverse.universe import UniverseAnalysis\n",
    "\n",
    "universe_analysis = UniverseAnalysis(\n",
    "    run_no = run_no,\n",
    "    universe_id = universe_id,\n",
    "    universe = universe,\n",
    "    output_dir=output_dir,\n",
    ")"
   ]
  },
  {
   "cell_type": "code",
   "execution_count": 8,
   "id": "106241f5",
   "metadata": {
    "execution": {
     "iopub.execute_input": "2025-07-30T21:42:13.715328Z",
     "iopub.status.busy": "2025-07-30T21:42:13.714875Z",
     "iopub.status.idle": "2025-07-30T21:42:13.721886Z",
     "shell.execute_reply": "2025-07-30T21:42:13.720911Z"
    },
    "papermill": {
     "duration": 0.031782,
     "end_time": "2025-07-30T21:42:13.723590",
     "exception": false,
     "start_time": "2025-07-30T21:42:13.691808",
     "status": "completed"
    },
    "tags": []
   },
   "outputs": [
    {
     "name": "stdout",
     "output_type": "stream",
     "text": [
      "Using Seed: 2023\n"
     ]
    }
   ],
   "source": [
    "import numpy as np\n",
    "parsed_seed = int(seed)\n",
    "np.random.seed(parsed_seed)\n",
    "print(f\"Using Seed: {parsed_seed}\")"
   ]
  },
  {
   "cell_type": "markdown",
   "id": "e0ebdc57",
   "metadata": {
    "papermill": {
     "duration": 0.012263,
     "end_time": "2025-07-30T21:42:13.756973",
     "exception": false,
     "start_time": "2025-07-30T21:42:13.744710",
     "status": "completed"
    },
    "tags": []
   },
   "source": [
    "# Loading Data"
   ]
  },
  {
   "cell_type": "markdown",
   "id": "681925a3",
   "metadata": {
    "papermill": {
     "duration": 0.010611,
     "end_time": "2025-07-30T21:42:13.777941",
     "exception": false,
     "start_time": "2025-07-30T21:42:13.767330",
     "status": "completed"
    },
    "tags": []
   },
   "source": [
    "Load siab_train, siab_test, siab_calib and/or \n",
    "load siab_train_features, siab_train_labels"
   ]
  },
  {
   "cell_type": "code",
   "execution_count": 9,
   "id": "f0496b8a",
   "metadata": {
    "execution": {
     "iopub.execute_input": "2025-07-30T21:42:13.800825Z",
     "iopub.status.busy": "2025-07-30T21:42:13.800308Z",
     "iopub.status.idle": "2025-07-30T21:42:25.659308Z",
     "shell.execute_reply": "2025-07-30T21:42:25.658321Z"
    },
    "papermill": {
     "duration": 11.872383,
     "end_time": "2025-07-30T21:42:25.660713",
     "exception": false,
     "start_time": "2025-07-30T21:42:13.788330",
     "status": "completed"
    },
    "tags": []
   },
   "outputs": [
    {
     "name": "stdout",
     "output_type": "stream",
     "text": [
      "Loading SIAB data from cache: data/siab_cached.csv.gz\n"
     ]
    },
    {
     "name": "stdout",
     "output_type": "stream",
     "text": [
      "(643690, 164)\n"
     ]
    }
   ],
   "source": [
    "from pathlib import Path\n",
    "import pandas as pd\n",
    "\n",
    "# File paths\n",
    "raw_file = Path(\"data/raw/siab.csv\")\n",
    "cache_file = Path(\"data/siab_cached.csv.gz\")\n",
    "\n",
    "# Ensure cache directory exists\n",
    "cache_file.parent.mkdir(parents=True, exist_ok=True)\n",
    "\n",
    "# Load with simple caching\n",
    "if cache_file.exists():\n",
    "    print(f\"Loading SIAB data from cache: {cache_file}\")\n",
    "    siab = pd.read_csv(cache_file, compression='gzip')\n",
    "else:\n",
    "    print(f\"Cache not found. Reading raw SIAB data: {raw_file}\")\n",
    "    siab = pd.read_csv(raw_file)\n",
    "    siab.to_csv(cache_file, index=False, compression='gzip')\n",
    "    print(f\"Cached SIAB data to: {cache_file}\")\n",
    "\n",
    "# Now use `siab` DataFrame as needed\n",
    "print(siab.shape)"
   ]
  },
  {
   "cell_type": "code",
   "execution_count": 10,
   "id": "db0ca512-5f53-4dba-abdb-a2888bca41ba",
   "metadata": {
    "execution": {
     "iopub.execute_input": "2025-07-30T21:42:25.685818Z",
     "iopub.status.busy": "2025-07-30T21:42:25.685438Z",
     "iopub.status.idle": "2025-07-30T21:42:25.689914Z",
     "shell.execute_reply": "2025-07-30T21:42:25.689129Z"
    },
    "papermill": {
     "duration": 0.017118,
     "end_time": "2025-07-30T21:42:25.691044",
     "exception": false,
     "start_time": "2025-07-30T21:42:25.673926",
     "status": "completed"
    },
    "tags": []
   },
   "outputs": [],
   "source": [
    "#siab"
   ]
  },
  {
   "cell_type": "code",
   "execution_count": 11,
   "id": "a0edb063",
   "metadata": {
    "execution": {
     "iopub.execute_input": "2025-07-30T21:42:25.715043Z",
     "iopub.status.busy": "2025-07-30T21:42:25.714711Z",
     "iopub.status.idle": "2025-07-30T21:42:25.718932Z",
     "shell.execute_reply": "2025-07-30T21:42:25.718218Z"
    },
    "papermill": {
     "duration": 0.016891,
     "end_time": "2025-07-30T21:42:25.720143",
     "exception": false,
     "start_time": "2025-07-30T21:42:25.703252",
     "status": "completed"
    },
    "tags": []
   },
   "outputs": [],
   "source": [
    "#import pandas as pd\n",
    "#\n",
    "#X_train = pd.read_csv(\"./data/X_train.csv\")\n",
    "#y_train = pd.read_csv(\"./data/y_train.csv\")"
   ]
  },
  {
   "cell_type": "code",
   "execution_count": 12,
   "id": "63d08085",
   "metadata": {
    "execution": {
     "iopub.execute_input": "2025-07-30T21:42:25.743195Z",
     "iopub.status.busy": "2025-07-30T21:42:25.742857Z",
     "iopub.status.idle": "2025-07-30T21:42:25.746983Z",
     "shell.execute_reply": "2025-07-30T21:42:25.746255Z"
    },
    "papermill": {
     "duration": 0.01694,
     "end_time": "2025-07-30T21:42:25.748456",
     "exception": false,
     "start_time": "2025-07-30T21:42:25.731516",
     "status": "completed"
    },
    "tags": []
   },
   "outputs": [],
   "source": [
    "#X_test = pd.read_csv(\"./data/X_test.csv\")\n",
    "#y_true = pd.read_csv(\"./data/y_test.csv\")"
   ]
  },
  {
   "cell_type": "code",
   "execution_count": 13,
   "id": "98a8d0fa-1d3d-4ed8-bb2c-281470e24add",
   "metadata": {
    "execution": {
     "iopub.execute_input": "2025-07-30T21:42:25.771745Z",
     "iopub.status.busy": "2025-07-30T21:42:25.771409Z",
     "iopub.status.idle": "2025-07-30T21:42:25.775376Z",
     "shell.execute_reply": "2025-07-30T21:42:25.774545Z"
    },
    "papermill": {
     "duration": 0.016437,
     "end_time": "2025-07-30T21:42:25.776664",
     "exception": false,
     "start_time": "2025-07-30T21:42:25.760227",
     "status": "completed"
    },
    "tags": []
   },
   "outputs": [],
   "source": [
    "# Calibration data for conformal\n",
    "#X_calib = pd.read_csv(\"./data/X_calib.csv\")\n",
    "#y_calib = pd.read_csv(\"./data/y_calib.csv\")"
   ]
  },
  {
   "cell_type": "markdown",
   "id": "997051c5-15bd-4b69-9786-c3001a3ce484",
   "metadata": {
    "papermill": {
     "duration": 0.010272,
     "end_time": "2025-07-30T21:42:25.798042",
     "exception": false,
     "start_time": "2025-07-30T21:42:25.787770",
     "status": "completed"
    },
    "tags": []
   },
   "source": [
    "# Splitting Data and Setting Training Data Size"
   ]
  },
  {
   "cell_type": "code",
   "execution_count": 14,
   "id": "e993b61f-042d-41a6-8c81-f55681f86335",
   "metadata": {
    "execution": {
     "iopub.execute_input": "2025-07-30T21:42:25.820184Z",
     "iopub.status.busy": "2025-07-30T21:42:25.819835Z",
     "iopub.status.idle": "2025-07-30T21:42:25.830560Z",
     "shell.execute_reply": "2025-07-30T21:42:25.829640Z"
    },
    "papermill": {
     "duration": 0.026233,
     "end_time": "2025-07-30T21:42:25.834545",
     "exception": false,
     "start_time": "2025-07-30T21:42:25.808312",
     "status": "completed"
    },
    "tags": []
   },
   "outputs": [],
   "source": [
    "def sample_by_year_size(df,\n",
    "                        training_year: str,\n",
    "                        training_size: str,\n",
    "                        random_state: int = 42):\n",
    "    # --- parse training_year into a list of int years ---\n",
    "    if \"_\" in training_year:\n",
    "        start_str, end_str = training_year.split(\"_\", 1)\n",
    "        start = int(start_str)\n",
    "        end   = int(end_str) if len(end_str) == 4 else (int(end_str) + (start // 100)*100)\n",
    "        years = list(range(start, end + 1))\n",
    "    else:\n",
    "        years = [int(training_year)]\n",
    "\n",
    "    df = df[df[\"year\"].isin(years)].reset_index(drop=True)\n",
    "\n",
    "    # --- map training_size to total number of samples ---\n",
    "    total_map = {\"25k\": 25_000, \"5k\": 5_000, \"1k\": 1_000}\n",
    "    if training_size not in total_map:\n",
    "        return df  # e.g. \"all\"\n",
    "\n",
    "    total_samples = total_map[training_size]\n",
    "    n_years       = len(years)\n",
    "    base          = total_samples // n_years\n",
    "    remainder     = total_samples % n_years\n",
    "\n",
    "    # --- build a dict: year -> how many to sample ---\n",
    "    # give +1 to the first `remainder` years in ascending order\n",
    "    quotas = {\n",
    "        year: base + (1 if idx < remainder else 0)\n",
    "        for idx, year in enumerate(sorted(years))\n",
    "    }\n",
    "\n",
    "    # --- sample per‐year according to the quota dict ---\n",
    "    sampled = (\n",
    "        df\n",
    "        .groupby(\"year\", group_keys=False)\n",
    "        .apply(lambda grp: grp.sample(\n",
    "            n=min(len(grp), quotas[grp.name]),\n",
    "            random_state=random_state))\n",
    "        .reset_index(drop=True)\n",
    "    )\n",
    "\n",
    "    return sampled"
   ]
  },
  {
   "cell_type": "code",
   "execution_count": 15,
   "id": "c0ccd338-0e02-41f3-a09d-f56f9266e3fb",
   "metadata": {
    "execution": {
     "iopub.execute_input": "2025-07-30T21:42:25.881464Z",
     "iopub.status.busy": "2025-07-30T21:42:25.880943Z",
     "iopub.status.idle": "2025-07-30T21:42:25.885915Z",
     "shell.execute_reply": "2025-07-30T21:42:25.884950Z"
    },
    "papermill": {
     "duration": 0.029924,
     "end_time": "2025-07-30T21:42:25.887519",
     "exception": false,
     "start_time": "2025-07-30T21:42:25.857595",
     "status": "completed"
    },
    "tags": []
   },
   "outputs": [],
   "source": [
    "#universe[\"training_size\"]"
   ]
  },
  {
   "cell_type": "code",
   "execution_count": 16,
   "id": "ca707fd7-8047-4acd-bfa5-66248fbbf8e6",
   "metadata": {
    "execution": {
     "iopub.execute_input": "2025-07-30T21:42:25.933557Z",
     "iopub.status.busy": "2025-07-30T21:42:25.932904Z",
     "iopub.status.idle": "2025-07-30T21:42:25.937863Z",
     "shell.execute_reply": "2025-07-30T21:42:25.936915Z"
    },
    "papermill": {
     "duration": 0.029568,
     "end_time": "2025-07-30T21:42:25.939548",
     "exception": false,
     "start_time": "2025-07-30T21:42:25.909980",
     "status": "completed"
    },
    "tags": []
   },
   "outputs": [],
   "source": [
    "#universe[\"training_year\"]"
   ]
  },
  {
   "cell_type": "code",
   "execution_count": 17,
   "id": "aea9c6ef-6f46-42c8-85eb-5a62025c1508",
   "metadata": {
    "execution": {
     "iopub.execute_input": "2025-07-30T21:42:25.985659Z",
     "iopub.status.busy": "2025-07-30T21:42:25.984998Z",
     "iopub.status.idle": "2025-07-30T21:42:26.554068Z",
     "shell.execute_reply": "2025-07-30T21:42:26.553104Z"
    },
    "papermill": {
     "duration": 0.594222,
     "end_time": "2025-07-30T21:42:26.555950",
     "exception": false,
     "start_time": "2025-07-30T21:42:25.961728",
     "status": "completed"
    },
    "tags": []
   },
   "outputs": [],
   "source": [
    "siab_train = sample_by_year_size(siab,\n",
    "                               training_year=universe[\"training_year\"],\n",
    "                               training_size=universe[\"training_size\"])"
   ]
  },
  {
   "cell_type": "code",
   "execution_count": 18,
   "id": "8d3afb32-789d-442c-8d5d-9f5aa8dd2eed",
   "metadata": {
    "execution": {
     "iopub.execute_input": "2025-07-30T21:42:26.600220Z",
     "iopub.status.busy": "2025-07-30T21:42:26.599741Z",
     "iopub.status.idle": "2025-07-30T21:42:26.605021Z",
     "shell.execute_reply": "2025-07-30T21:42:26.603896Z"
    },
    "papermill": {
     "duration": 0.029319,
     "end_time": "2025-07-30T21:42:26.607000",
     "exception": false,
     "start_time": "2025-07-30T21:42:26.577681",
     "status": "completed"
    },
    "tags": []
   },
   "outputs": [],
   "source": [
    "#siab_train.shape"
   ]
  },
  {
   "cell_type": "code",
   "execution_count": 19,
   "id": "d582db68-1a4c-47fb-84fc-08518dc1975a",
   "metadata": {
    "execution": {
     "iopub.execute_input": "2025-07-30T21:42:26.651749Z",
     "iopub.status.busy": "2025-07-30T21:42:26.651336Z",
     "iopub.status.idle": "2025-07-30T21:42:26.655939Z",
     "shell.execute_reply": "2025-07-30T21:42:26.655053Z"
    },
    "papermill": {
     "duration": 0.027804,
     "end_time": "2025-07-30T21:42:26.657876",
     "exception": false,
     "start_time": "2025-07-30T21:42:26.630072",
     "status": "completed"
    },
    "tags": []
   },
   "outputs": [],
   "source": [
    "#display(siab_train.groupby(\"year\").size())"
   ]
  },
  {
   "cell_type": "code",
   "execution_count": 20,
   "id": "a561edb4-d032-42cb-8256-22eac1111c64",
   "metadata": {
    "execution": {
     "iopub.execute_input": "2025-07-30T21:42:26.702959Z",
     "iopub.status.busy": "2025-07-30T21:42:26.702534Z",
     "iopub.status.idle": "2025-07-30T21:42:26.930631Z",
     "shell.execute_reply": "2025-07-30T21:42:26.929739Z"
    },
    "papermill": {
     "duration": 0.251524,
     "end_time": "2025-07-30T21:42:26.932688",
     "exception": false,
     "start_time": "2025-07-30T21:42:26.681164",
     "status": "completed"
    },
    "tags": []
   },
   "outputs": [],
   "source": [
    "#siab_train = siab_s[siab_s.year < 2015]\n",
    "siab_calib = siab[siab.year == 2015]\n",
    "siab_test = siab[siab.year == 2016]"
   ]
  },
  {
   "cell_type": "code",
   "execution_count": 21,
   "id": "472de16f-c3db-4916-846b-1f0de9cf1746",
   "metadata": {
    "execution": {
     "iopub.execute_input": "2025-07-30T21:42:26.974357Z",
     "iopub.status.busy": "2025-07-30T21:42:26.973575Z",
     "iopub.status.idle": "2025-07-30T21:42:26.980876Z",
     "shell.execute_reply": "2025-07-30T21:42:26.979928Z"
    },
    "papermill": {
     "duration": 0.02988,
     "end_time": "2025-07-30T21:42:26.982696",
     "exception": false,
     "start_time": "2025-07-30T21:42:26.952816",
     "status": "completed"
    },
    "tags": []
   },
   "outputs": [],
   "source": [
    "X_train = siab_train.iloc[:,4:164]\n",
    "y_train = siab_train.iloc[:, [3]]"
   ]
  },
  {
   "cell_type": "code",
   "execution_count": 22,
   "id": "828c96af-f43a-4ed6-ba47-8ac73a47d56c",
   "metadata": {
    "execution": {
     "iopub.execute_input": "2025-07-30T21:42:27.045385Z",
     "iopub.status.busy": "2025-07-30T21:42:27.044890Z",
     "iopub.status.idle": "2025-07-30T21:42:27.097325Z",
     "shell.execute_reply": "2025-07-30T21:42:27.096226Z"
    },
    "papermill": {
     "duration": 0.096029,
     "end_time": "2025-07-30T21:42:27.099427",
     "exception": false,
     "start_time": "2025-07-30T21:42:27.003398",
     "status": "completed"
    },
    "tags": []
   },
   "outputs": [],
   "source": [
    "X_calib = siab_calib.iloc[:,4:164]\n",
    "y_calib = siab_calib.iloc[:, [3]]"
   ]
  },
  {
   "cell_type": "code",
   "execution_count": 23,
   "id": "c34be9c3-6bd6-476e-acd3-845840e303be",
   "metadata": {
    "execution": {
     "iopub.execute_input": "2025-07-30T21:42:27.144621Z",
     "iopub.status.busy": "2025-07-30T21:42:27.144102Z",
     "iopub.status.idle": "2025-07-30T21:42:27.198844Z",
     "shell.execute_reply": "2025-07-30T21:42:27.197811Z"
    },
    "papermill": {
     "duration": 0.079499,
     "end_time": "2025-07-30T21:42:27.200883",
     "exception": false,
     "start_time": "2025-07-30T21:42:27.121384",
     "status": "completed"
    },
    "tags": []
   },
   "outputs": [],
   "source": [
    "X_test = siab_test.iloc[:,4:164]\n",
    "y_true = siab_test.iloc[:, [3]]"
   ]
  },
  {
   "cell_type": "markdown",
   "id": "9901737e-04df-44f0-9100-f5ad144ed040",
   "metadata": {
    "papermill": {
     "duration": 0.020329,
     "end_time": "2025-07-30T21:42:27.242589",
     "exception": false,
     "start_time": "2025-07-30T21:42:27.222260",
     "status": "completed"
    },
    "tags": []
   },
   "source": [
    "# Splitting Data and Setting Training Data Size OLD VERSION"
   ]
  },
  {
   "cell_type": "code",
   "execution_count": 24,
   "id": "acbc8f7d-8fc8-4e86-8c59-5dcb0f58384b",
   "metadata": {
    "execution": {
     "iopub.execute_input": "2025-07-30T21:42:27.284586Z",
     "iopub.status.busy": "2025-07-30T21:42:27.283835Z",
     "iopub.status.idle": "2025-07-30T21:42:27.289728Z",
     "shell.execute_reply": "2025-07-30T21:42:27.288564Z"
    },
    "papermill": {
     "duration": 0.028647,
     "end_time": "2025-07-30T21:42:27.291610",
     "exception": false,
     "start_time": "2025-07-30T21:42:27.262963",
     "status": "completed"
    },
    "tags": []
   },
   "outputs": [],
   "source": [
    "#def sample_by_year(df, training_size, random_state=42):\n",
    "#    if training_size == \"2014\":\n",
    "#        return df[df[\"year\"] == 2014].reset_index(drop=True)\n",
    "#    \n",
    "#    size_map = {\n",
    "#        \"25k\": 5000,\n",
    "#        \"5k\": 1000,\n",
    "#        \"1k\": 200\n",
    "#    }\n",
    "#\n",
    "#    if training_size not in size_map:\n",
    "#        return df.reset_index(drop=True)  # use all data\n",
    "#\n",
    "#    n_per_year = size_map[training_size]\n",
    "#    grouped = df.groupby(\"year\")\n",
    "#    sampled = grouped.apply(lambda x: x.sample(n=min(n_per_year, len(x)), random_state=random_state))\n",
    "#    return sampled.reset_index(drop=True)"
   ]
  },
  {
   "cell_type": "code",
   "execution_count": 25,
   "id": "6d931f52-beaf-43ff-9e78-9d44a448d54e",
   "metadata": {
    "execution": {
     "iopub.execute_input": "2025-07-30T21:42:27.335322Z",
     "iopub.status.busy": "2025-07-30T21:42:27.334815Z",
     "iopub.status.idle": "2025-07-30T21:42:27.340547Z",
     "shell.execute_reply": "2025-07-30T21:42:27.339565Z"
    },
    "papermill": {
     "duration": 0.028284,
     "end_time": "2025-07-30T21:42:27.342183",
     "exception": false,
     "start_time": "2025-07-30T21:42:27.313899",
     "status": "completed"
    },
    "tags": []
   },
   "outputs": [],
   "source": [
    "#siab_s = sample_by_year(siab, universe[\"training_size\"])"
   ]
  },
  {
   "cell_type": "code",
   "execution_count": 26,
   "id": "5db0a40e-a4e2-4920-be85-b12ae061d70d",
   "metadata": {
    "execution": {
     "iopub.execute_input": "2025-07-30T21:42:27.386396Z",
     "iopub.status.busy": "2025-07-30T21:42:27.385657Z",
     "iopub.status.idle": "2025-07-30T21:42:27.391513Z",
     "shell.execute_reply": "2025-07-30T21:42:27.390524Z"
    },
    "papermill": {
     "duration": 0.029846,
     "end_time": "2025-07-30T21:42:27.393175",
     "exception": false,
     "start_time": "2025-07-30T21:42:27.363329",
     "status": "completed"
    },
    "tags": []
   },
   "outputs": [],
   "source": [
    "#display(siab_s.groupby(\"year\").size())"
   ]
  },
  {
   "cell_type": "code",
   "execution_count": 27,
   "id": "e6c733c5",
   "metadata": {
    "execution": {
     "iopub.execute_input": "2025-07-30T21:42:27.438224Z",
     "iopub.status.busy": "2025-07-30T21:42:27.437531Z",
     "iopub.status.idle": "2025-07-30T21:42:27.529962Z",
     "shell.execute_reply": "2025-07-30T21:42:27.528961Z"
    },
    "papermill": {
     "duration": 0.117353,
     "end_time": "2025-07-30T21:42:27.532155",
     "exception": false,
     "start_time": "2025-07-30T21:42:27.414802",
     "status": "completed"
    },
    "tags": []
   },
   "outputs": [],
   "source": [
    "# Auxiliary data needed downstream in the pipeline\n",
    "\n",
    "org_train = X_train.copy()\n",
    "org_test = X_test.copy()\n",
    "org_calib = X_calib.copy()"
   ]
  },
  {
   "cell_type": "code",
   "execution_count": 28,
   "id": "1466abac-c6da-4492-a62f-4240ae3783af",
   "metadata": {
    "execution": {
     "iopub.execute_input": "2025-07-30T21:42:27.581572Z",
     "iopub.status.busy": "2025-07-30T21:42:27.581232Z",
     "iopub.status.idle": "2025-07-30T21:42:27.585847Z",
     "shell.execute_reply": "2025-07-30T21:42:27.585034Z"
    },
    "papermill": {
     "duration": 0.033419,
     "end_time": "2025-07-30T21:42:27.587174",
     "exception": false,
     "start_time": "2025-07-30T21:42:27.553755",
     "status": "completed"
    },
    "tags": []
   },
   "outputs": [],
   "source": [
    "# put in other script?\n",
    "# Group sizes\n",
    "\n",
    "#def calculate_percentages(df, df_name):\n",
    "#    total_entries = len(df)\n",
    "#\n",
    "#    female_pct = (df['frau1'] == 1).mean() * 100\n",
    "#    non_german_pct = ((df['maxdeutsch1'] == 0) & (df['maxdeutsch.Missing.'] == 0)).mean() * 100\n",
    "#    non_german_male_pct = ((df['frau1'] == 0) & (df['maxdeutsch1'] == 0) & (df['maxdeutsch.Missing.'] == 0)).mean() * 100\n",
    "#    non_german_female_pct = ((df['frau1'] == 1) & (df['maxdeutsch1'] == 0) & (df['maxdeutsch.Missing.'] == 0)).mean() * 100\n",
    "#\n",
    "#    print(f\"--- {df_name} ---\")\n",
    "#    print(f\"Female: {female_pct:.2f}%\")\n",
    "#    print(f\"Non-German: {non_german_pct:.2f}%\")\n",
    "#    print(f\"Non-German Male: {non_german_male_pct:.2f}%\")\n",
    "#    print(f\"Non-German Female: {non_german_female_pct:.2f}%\\n\")\n",
    "#\n",
    "## Calculate for each DataFrame\n",
    "#calculate_percentages(siab_calib, \"siab_calib\")\n",
    "#calculate_percentages(siab_test, \"siab_test\")\n",
    "#calculate_percentages(siab_train, \"siab_train\")"
   ]
  },
  {
   "cell_type": "markdown",
   "id": "0a4a1b33",
   "metadata": {
    "papermill": {
     "duration": 0.010662,
     "end_time": "2025-07-30T21:42:27.610602",
     "exception": false,
     "start_time": "2025-07-30T21:42:27.599940",
     "status": "completed"
    },
    "tags": []
   },
   "source": [
    "# Preprocessing Data"
   ]
  },
  {
   "cell_type": "code",
   "execution_count": 29,
   "id": "ca879031",
   "metadata": {
    "execution": {
     "iopub.execute_input": "2025-07-30T21:42:27.651157Z",
     "iopub.status.busy": "2025-07-30T21:42:27.650255Z",
     "iopub.status.idle": "2025-07-30T21:42:27.656263Z",
     "shell.execute_reply": "2025-07-30T21:42:27.655257Z"
    },
    "papermill": {
     "duration": 0.032902,
     "end_time": "2025-07-30T21:42:27.658453",
     "exception": false,
     "start_time": "2025-07-30T21:42:27.625551",
     "status": "completed"
    },
    "tags": []
   },
   "outputs": [],
   "source": [
    "# EXCLUDE PROTECTED FEATURES\n",
    "# ----------------------\n",
    "# \"exclude_features\": \"none\", # \"nationality\", \"sex\", \"nationality-sex\"\n",
    "\n",
    "excluded_features = universe[\"exclude_features\"].split(\"-\") # split, e.g.: \"nationality-sex\" -> [\"nationality\", \"sex\"]\n",
    "excluded_features_dictionary = {\n",
    "    \"nationality\": [\"maxdeutsch1\", \"maxdeutsch.Missing.\"],\n",
    "    \"sex\": [\"frau1\"],\n",
    "    \"age\": [\"age\"],\n",
    "}\n"
   ]
  },
  {
   "cell_type": "code",
   "execution_count": 30,
   "id": "b745ac60",
   "metadata": {
    "execution": {
     "iopub.execute_input": "2025-07-30T21:42:27.694761Z",
     "iopub.status.busy": "2025-07-30T21:42:27.694081Z",
     "iopub.status.idle": "2025-07-30T21:42:27.701040Z",
     "shell.execute_reply": "2025-07-30T21:42:27.699904Z"
    },
    "papermill": {
     "duration": 0.025694,
     "end_time": "2025-07-30T21:42:27.705760",
     "exception": false,
     "start_time": "2025-07-30T21:42:27.680066",
     "status": "completed"
    },
    "tags": []
   },
   "outputs": [],
   "source": [
    "# Code nice names to column names\n",
    "\n",
    "excluded_features_columns = [\n",
    "    excluded_features_dictionary[f] for f in excluded_features if len(f) > 0 and f != \"none\"\n",
    "]"
   ]
  },
  {
   "cell_type": "code",
   "execution_count": 31,
   "id": "f84f73a2",
   "metadata": {
    "execution": {
     "iopub.execute_input": "2025-07-30T21:42:27.772130Z",
     "iopub.status.busy": "2025-07-30T21:42:27.771603Z",
     "iopub.status.idle": "2025-07-30T21:42:27.778701Z",
     "shell.execute_reply": "2025-07-30T21:42:27.777309Z"
    },
    "papermill": {
     "duration": 0.044923,
     "end_time": "2025-07-30T21:42:27.781185",
     "exception": false,
     "start_time": "2025-07-30T21:42:27.736262",
     "status": "completed"
    },
    "tags": []
   },
   "outputs": [],
   "source": [
    "from utils import flatten_once\n",
    "\n",
    "excluded_features_columns = flatten_once(excluded_features_columns)"
   ]
  },
  {
   "cell_type": "code",
   "execution_count": 32,
   "id": "884dea22",
   "metadata": {
    "execution": {
     "iopub.execute_input": "2025-07-30T21:42:27.842300Z",
     "iopub.status.busy": "2025-07-30T21:42:27.841375Z",
     "iopub.status.idle": "2025-07-30T21:42:27.847948Z",
     "shell.execute_reply": "2025-07-30T21:42:27.846880Z"
    },
    "papermill": {
     "duration": 0.038519,
     "end_time": "2025-07-30T21:42:27.850205",
     "exception": false,
     "start_time": "2025-07-30T21:42:27.811686",
     "status": "completed"
    },
    "tags": []
   },
   "outputs": [],
   "source": [
    "if len(excluded_features_columns) > 0:\n",
    "    print(f\"Dropping features: {excluded_features_columns}\")\n",
    "    X_train.drop(excluded_features_columns, axis=1, inplace=True)"
   ]
  },
  {
   "cell_type": "code",
   "execution_count": 33,
   "id": "95ab8b16",
   "metadata": {
    "execution": {
     "iopub.execute_input": "2025-07-30T21:42:27.913191Z",
     "iopub.status.busy": "2025-07-30T21:42:27.912290Z",
     "iopub.status.idle": "2025-07-30T21:42:27.919379Z",
     "shell.execute_reply": "2025-07-30T21:42:27.918043Z"
    },
    "papermill": {
     "duration": 0.041213,
     "end_time": "2025-07-30T21:42:27.921687",
     "exception": false,
     "start_time": "2025-07-30T21:42:27.880474",
     "status": "completed"
    },
    "tags": []
   },
   "outputs": [],
   "source": [
    "if len(excluded_features_columns) > 0:\n",
    "    print(f\"Dropping features: {excluded_features_columns}\")\n",
    "    X_test.drop(excluded_features_columns, axis=1, inplace=True)"
   ]
  },
  {
   "cell_type": "code",
   "execution_count": 34,
   "id": "1853aaf5-fb9f-46cb-a2b5-8ea4ae2237e4",
   "metadata": {
    "execution": {
     "iopub.execute_input": "2025-07-30T21:42:27.977144Z",
     "iopub.status.busy": "2025-07-30T21:42:27.976797Z",
     "iopub.status.idle": "2025-07-30T21:42:27.990594Z",
     "shell.execute_reply": "2025-07-30T21:42:27.989777Z"
    },
    "papermill": {
     "duration": 0.040267,
     "end_time": "2025-07-30T21:42:27.991969",
     "exception": false,
     "start_time": "2025-07-30T21:42:27.951702",
     "status": "completed"
    },
    "tags": []
   },
   "outputs": [],
   "source": [
    "if len(excluded_features_columns) > 0:\n",
    "    print(f\"Dropping features: {excluded_features_columns}\")\n",
    "    X_calib.drop(excluded_features_columns, axis=1, inplace=True)"
   ]
  },
  {
   "cell_type": "code",
   "execution_count": 35,
   "id": "6727d079-03e5-481e-9d38-292a90b7a0a8",
   "metadata": {
    "execution": {
     "iopub.execute_input": "2025-07-30T21:42:28.015823Z",
     "iopub.status.busy": "2025-07-30T21:42:28.015304Z",
     "iopub.status.idle": "2025-07-30T21:42:28.022279Z",
     "shell.execute_reply": "2025-07-30T21:42:28.021047Z"
    },
    "papermill": {
     "duration": 0.020203,
     "end_time": "2025-07-30T21:42:28.024005",
     "exception": false,
     "start_time": "2025-07-30T21:42:28.003802",
     "status": "completed"
    },
    "tags": []
   },
   "outputs": [],
   "source": [
    "# SPLIT & STRATIFY DATA\n",
    "# ----------------------"
   ]
  },
  {
   "cell_type": "code",
   "execution_count": 36,
   "id": "76c4dc6d",
   "metadata": {
    "execution": {
     "iopub.execute_input": "2025-07-30T21:42:28.076642Z",
     "iopub.status.busy": "2025-07-30T21:42:28.074795Z",
     "iopub.status.idle": "2025-07-30T21:42:28.081393Z",
     "shell.execute_reply": "2025-07-30T21:42:28.080446Z"
    },
    "papermill": {
     "duration": 0.034412,
     "end_time": "2025-07-30T21:42:28.084122",
     "exception": false,
     "start_time": "2025-07-30T21:42:28.049710",
     "status": "completed"
    },
    "tags": []
   },
   "outputs": [],
   "source": [
    "# EXCLUDE CERTAIN SUBGROUPS\n",
    "# ----------------------\n",
    "\n",
    "mode = universe.get(\"exclude_subgroups\", \"keep-all\") \n",
    "# Fetches the exclude_subgroups setting from the universe dict.\n",
    "# Defaults to \"keep-all\" if the key is missing."
   ]
  },
  {
   "cell_type": "code",
   "execution_count": 37,
   "id": "21994072",
   "metadata": {
    "execution": {
     "iopub.execute_input": "2025-07-30T21:42:28.142938Z",
     "iopub.status.busy": "2025-07-30T21:42:28.142321Z",
     "iopub.status.idle": "2025-07-30T21:42:28.148433Z",
     "shell.execute_reply": "2025-07-30T21:42:28.147686Z"
    },
    "papermill": {
     "duration": 0.030246,
     "end_time": "2025-07-30T21:42:28.149999",
     "exception": false,
     "start_time": "2025-07-30T21:42:28.119753",
     "status": "completed"
    },
    "tags": []
   },
   "outputs": [],
   "source": [
    "if mode == \"keep-all\":\n",
    "    keep_mask = pd.Series(True, index=org_train.index)\n",
    "\n",
    "# org_train contains the original feature columns from features_org (in Simson)\n",
    "# features_org contains unprocessed features, for me X_train at beginning ???\n",
    "# For keep-all, creates a boolean Series (keep_mask) of all True, so no rows are removed.\n",
    "\n",
    "elif mode == \"drop-non-german\":\n",
    "    keep_mask = org_train[\"maxdeutsch1\"] == 1 # ??? what about missing values?\n",
    "\n",
    "else:\n",
    "    raise ValueError(f\"Unsupported mode for exclude_subgroups: {mode}\")\n"
   ]
  },
  {
   "cell_type": "code",
   "execution_count": 38,
   "id": "71651440",
   "metadata": {
    "execution": {
     "iopub.execute_input": "2025-07-30T21:42:28.186748Z",
     "iopub.status.busy": "2025-07-30T21:42:28.186294Z",
     "iopub.status.idle": "2025-07-30T21:42:28.193790Z",
     "shell.execute_reply": "2025-07-30T21:42:28.192882Z"
    },
    "papermill": {
     "duration": 0.031881,
     "end_time": "2025-07-30T21:42:28.195574",
     "exception": false,
     "start_time": "2025-07-30T21:42:28.163693",
     "status": "completed"
    },
    "tags": []
   },
   "outputs": [
    {
     "name": "stdout",
     "output_type": "stream",
     "text": [
      "Dropping 147 rows (14.70%) where mode='drop-non-german'\n"
     ]
    }
   ],
   "source": [
    "n_drop = (~keep_mask).sum() # Calculates how many rows are set to be dropped\n",
    "if n_drop > 0:\n",
    "    pct = n_drop / len(keep_mask) * 100\n",
    "    print(f\"Dropping {n_drop} rows ({pct:.2f}%) where mode='{mode}'\")"
   ]
  },
  {
   "cell_type": "code",
   "execution_count": 39,
   "id": "5fb8eee5",
   "metadata": {
    "execution": {
     "iopub.execute_input": "2025-07-30T21:42:28.244302Z",
     "iopub.status.busy": "2025-07-30T21:42:28.243804Z",
     "iopub.status.idle": "2025-07-30T21:42:28.250563Z",
     "shell.execute_reply": "2025-07-30T21:42:28.249712Z"
    },
    "papermill": {
     "duration": 0.032542,
     "end_time": "2025-07-30T21:42:28.252187",
     "exception": false,
     "start_time": "2025-07-30T21:42:28.219645",
     "status": "completed"
    },
    "tags": []
   },
   "outputs": [],
   "source": [
    "X_train = X_train[keep_mask]"
   ]
  },
  {
   "cell_type": "code",
   "execution_count": 40,
   "id": "b202bb3a",
   "metadata": {
    "execution": {
     "iopub.execute_input": "2025-07-30T21:42:28.298825Z",
     "iopub.status.busy": "2025-07-30T21:42:28.298129Z",
     "iopub.status.idle": "2025-07-30T21:42:28.304684Z",
     "shell.execute_reply": "2025-07-30T21:42:28.303606Z"
    },
    "papermill": {
     "duration": 0.02996,
     "end_time": "2025-07-30T21:42:28.306398",
     "exception": false,
     "start_time": "2025-07-30T21:42:28.276438",
     "status": "completed"
    },
    "tags": []
   },
   "outputs": [],
   "source": [
    "y_train = y_train[keep_mask]"
   ]
  },
  {
   "cell_type": "markdown",
   "id": "493e2ac3",
   "metadata": {
    "papermill": {
     "duration": 0.020687,
     "end_time": "2025-07-30T21:42:28.350817",
     "exception": false,
     "start_time": "2025-07-30T21:42:28.330130",
     "status": "completed"
    },
    "tags": []
   },
   "source": [
    "# Model Training"
   ]
  },
  {
   "cell_type": "code",
   "execution_count": 41,
   "id": "679e1268",
   "metadata": {
    "execution": {
     "iopub.execute_input": "2025-07-30T21:42:28.399897Z",
     "iopub.status.busy": "2025-07-30T21:42:28.399435Z",
     "iopub.status.idle": "2025-07-30T21:42:28.500986Z",
     "shell.execute_reply": "2025-07-30T21:42:28.499762Z"
    },
    "papermill": {
     "duration": 0.129679,
     "end_time": "2025-07-30T21:42:28.503490",
     "exception": false,
     "start_time": "2025-07-30T21:42:28.373811",
     "status": "completed"
    },
    "tags": []
   },
   "outputs": [],
   "source": [
    "from sklearn.linear_model import LogisticRegression\n",
    "from sklearn.ensemble import GradientBoostingClassifier, RandomForestClassifier\n",
    "\n",
    "if (universe[\"model\"] == \"logreg\"):\n",
    "    model = LogisticRegression() #penalty=\"none\") #, solver=\"newton-cg\", max_iter=1) # include random_state=19 ?\n",
    "elif (universe[\"model\"] == \"penalized_logreg\"):\n",
    "    model = LogisticRegression(penalty=\"l2\", C=1.0) #, solver=\"newton-cg\", max_iter=1)\n",
    "elif (universe[\"model\"] == \"rf\"):\n",
    "    model = RandomForestClassifier(n_estimators=100, n_jobs=-1)\n",
    "elif (universe[\"model\"] == \"gbm\"):\n",
    "    model = GradientBoostingClassifier()\n",
    "elif (universe[\"model\"] == \"elasticnet\"):\n",
    "    model = LogisticRegression(penalty = 'elasticnet', solver = 'saga', l1_ratio = 0.5, max_iter=5000) # which solver to use?\n",
    "else:\n",
    "    raise \"Unsupported universe.model\""
   ]
  },
  {
   "cell_type": "code",
   "execution_count": 42,
   "id": "0cc8f744",
   "metadata": {
    "execution": {
     "iopub.execute_input": "2025-07-30T21:42:28.571628Z",
     "iopub.status.busy": "2025-07-30T21:42:28.570862Z",
     "iopub.status.idle": "2025-07-30T21:42:28.577341Z",
     "shell.execute_reply": "2025-07-30T21:42:28.576470Z"
    },
    "papermill": {
     "duration": 0.042831,
     "end_time": "2025-07-30T21:42:28.579289",
     "exception": false,
     "start_time": "2025-07-30T21:42:28.536458",
     "status": "completed"
    },
    "tags": []
   },
   "outputs": [],
   "source": [
    "import numpy as np\n",
    "from sklearn.pipeline import Pipeline\n",
    "from sklearn.preprocessing import StandardScaler\n",
    "\n",
    "model = Pipeline([\n",
    "    #(\"continuous_processor\", continuous_processor),\n",
    "    #(\"categorical_preprocessor\", categorical_preprocessor),\n",
    "    (\"scale\", StandardScaler() if universe[\"scale\"] == \"scale\" else None), \n",
    "    (\"model\", model),\n",
    "])"
   ]
  },
  {
   "cell_type": "code",
   "execution_count": 43,
   "id": "9442c04d",
   "metadata": {
    "execution": {
     "iopub.execute_input": "2025-07-30T21:42:28.630937Z",
     "iopub.status.busy": "2025-07-30T21:42:28.629890Z",
     "iopub.status.idle": "2025-07-30T21:42:45.518461Z",
     "shell.execute_reply": "2025-07-30T21:42:45.517476Z"
    },
    "papermill": {
     "duration": 16.914453,
     "end_time": "2025-07-30T21:42:45.520068",
     "exception": false,
     "start_time": "2025-07-30T21:42:28.605615",
     "status": "completed"
    },
    "tags": []
   },
   "outputs": [
    {
     "name": "stderr",
     "output_type": "stream",
     "text": [
      "/dss/dsshome1/0C/ra93lal2/.local/share/virtualenvs/CMA_Fairness_v2-3j10GkSs/lib/python3.10/site-packages/sklearn/linear_model/_sag.py:350: ConvergenceWarning: The max_iter was reached which means the coef_ did not converge\n",
      "  warnings.warn(\n"
     ]
    },
    {
     "data": {
      "text/html": [
       "<style>#sk-container-id-1 {color: black;background-color: white;}#sk-container-id-1 pre{padding: 0;}#sk-container-id-1 div.sk-toggleable {background-color: white;}#sk-container-id-1 label.sk-toggleable__label {cursor: pointer;display: block;width: 100%;margin-bottom: 0;padding: 0.3em;box-sizing: border-box;text-align: center;}#sk-container-id-1 label.sk-toggleable__label-arrow:before {content: \"▸\";float: left;margin-right: 0.25em;color: #696969;}#sk-container-id-1 label.sk-toggleable__label-arrow:hover:before {color: black;}#sk-container-id-1 div.sk-estimator:hover label.sk-toggleable__label-arrow:before {color: black;}#sk-container-id-1 div.sk-toggleable__content {max-height: 0;max-width: 0;overflow: hidden;text-align: left;background-color: #f0f8ff;}#sk-container-id-1 div.sk-toggleable__content pre {margin: 0.2em;color: black;border-radius: 0.25em;background-color: #f0f8ff;}#sk-container-id-1 input.sk-toggleable__control:checked~div.sk-toggleable__content {max-height: 200px;max-width: 100%;overflow: auto;}#sk-container-id-1 input.sk-toggleable__control:checked~label.sk-toggleable__label-arrow:before {content: \"▾\";}#sk-container-id-1 div.sk-estimator input.sk-toggleable__control:checked~label.sk-toggleable__label {background-color: #d4ebff;}#sk-container-id-1 div.sk-label input.sk-toggleable__control:checked~label.sk-toggleable__label {background-color: #d4ebff;}#sk-container-id-1 input.sk-hidden--visually {border: 0;clip: rect(1px 1px 1px 1px);clip: rect(1px, 1px, 1px, 1px);height: 1px;margin: -1px;overflow: hidden;padding: 0;position: absolute;width: 1px;}#sk-container-id-1 div.sk-estimator {font-family: monospace;background-color: #f0f8ff;border: 1px dotted black;border-radius: 0.25em;box-sizing: border-box;margin-bottom: 0.5em;}#sk-container-id-1 div.sk-estimator:hover {background-color: #d4ebff;}#sk-container-id-1 div.sk-parallel-item::after {content: \"\";width: 100%;border-bottom: 1px solid gray;flex-grow: 1;}#sk-container-id-1 div.sk-label:hover label.sk-toggleable__label {background-color: #d4ebff;}#sk-container-id-1 div.sk-serial::before {content: \"\";position: absolute;border-left: 1px solid gray;box-sizing: border-box;top: 0;bottom: 0;left: 50%;z-index: 0;}#sk-container-id-1 div.sk-serial {display: flex;flex-direction: column;align-items: center;background-color: white;padding-right: 0.2em;padding-left: 0.2em;position: relative;}#sk-container-id-1 div.sk-item {position: relative;z-index: 1;}#sk-container-id-1 div.sk-parallel {display: flex;align-items: stretch;justify-content: center;background-color: white;position: relative;}#sk-container-id-1 div.sk-item::before, #sk-container-id-1 div.sk-parallel-item::before {content: \"\";position: absolute;border-left: 1px solid gray;box-sizing: border-box;top: 0;bottom: 0;left: 50%;z-index: -1;}#sk-container-id-1 div.sk-parallel-item {display: flex;flex-direction: column;z-index: 1;position: relative;background-color: white;}#sk-container-id-1 div.sk-parallel-item:first-child::after {align-self: flex-end;width: 50%;}#sk-container-id-1 div.sk-parallel-item:last-child::after {align-self: flex-start;width: 50%;}#sk-container-id-1 div.sk-parallel-item:only-child::after {width: 0;}#sk-container-id-1 div.sk-dashed-wrapped {border: 1px dashed gray;margin: 0 0.4em 0.5em 0.4em;box-sizing: border-box;padding-bottom: 0.4em;background-color: white;}#sk-container-id-1 div.sk-label label {font-family: monospace;font-weight: bold;display: inline-block;line-height: 1.2em;}#sk-container-id-1 div.sk-label-container {text-align: center;}#sk-container-id-1 div.sk-container {/* jupyter's `normalize.less` sets `[hidden] { display: none; }` but bootstrap.min.css set `[hidden] { display: none !important; }` so we also need the `!important` here to be able to override the default hidden behavior on the sphinx rendered scikit-learn.org. See: https://github.com/scikit-learn/scikit-learn/issues/21755 */display: inline-block !important;position: relative;}#sk-container-id-1 div.sk-text-repr-fallback {display: none;}</style><div id=\"sk-container-id-1\" class=\"sk-top-container\"><div class=\"sk-text-repr-fallback\"><pre>Pipeline(steps=[(&#x27;scale&#x27;, None),\n",
       "                (&#x27;model&#x27;,\n",
       "                 LogisticRegression(l1_ratio=0.5, max_iter=5000,\n",
       "                                    penalty=&#x27;elasticnet&#x27;, solver=&#x27;saga&#x27;))])</pre><b>In a Jupyter environment, please rerun this cell to show the HTML representation or trust the notebook. <br />On GitHub, the HTML representation is unable to render, please try loading this page with nbviewer.org.</b></div><div class=\"sk-container\" hidden><div class=\"sk-item sk-dashed-wrapped\"><div class=\"sk-label-container\"><div class=\"sk-label sk-toggleable\"><input class=\"sk-toggleable__control sk-hidden--visually\" id=\"sk-estimator-id-1\" type=\"checkbox\" ><label for=\"sk-estimator-id-1\" class=\"sk-toggleable__label sk-toggleable__label-arrow\">Pipeline</label><div class=\"sk-toggleable__content\"><pre>Pipeline(steps=[(&#x27;scale&#x27;, None),\n",
       "                (&#x27;model&#x27;,\n",
       "                 LogisticRegression(l1_ratio=0.5, max_iter=5000,\n",
       "                                    penalty=&#x27;elasticnet&#x27;, solver=&#x27;saga&#x27;))])</pre></div></div></div><div class=\"sk-serial\"><div class=\"sk-item\"><div class=\"sk-estimator sk-toggleable\"><input class=\"sk-toggleable__control sk-hidden--visually\" id=\"sk-estimator-id-2\" type=\"checkbox\" ><label for=\"sk-estimator-id-2\" class=\"sk-toggleable__label sk-toggleable__label-arrow\">None</label><div class=\"sk-toggleable__content\"><pre>None</pre></div></div></div><div class=\"sk-item\"><div class=\"sk-estimator sk-toggleable\"><input class=\"sk-toggleable__control sk-hidden--visually\" id=\"sk-estimator-id-3\" type=\"checkbox\" ><label for=\"sk-estimator-id-3\" class=\"sk-toggleable__label sk-toggleable__label-arrow\">LogisticRegression</label><div class=\"sk-toggleable__content\"><pre>LogisticRegression(l1_ratio=0.5, max_iter=5000, penalty=&#x27;elasticnet&#x27;,\n",
       "                   solver=&#x27;saga&#x27;)</pre></div></div></div></div></div></div></div>"
      ],
      "text/plain": [
       "Pipeline(steps=[('scale', None),\n",
       "                ('model',\n",
       "                 LogisticRegression(l1_ratio=0.5, max_iter=5000,\n",
       "                                    penalty='elasticnet', solver='saga'))])"
      ]
     },
     "execution_count": 43,
     "metadata": {},
     "output_type": "execute_result"
    }
   ],
   "source": [
    "model.fit(X_train, y_train.values.ravel())"
   ]
  },
  {
   "cell_type": "code",
   "execution_count": 44,
   "id": "af59f8c0",
   "metadata": {
    "execution": {
     "iopub.execute_input": "2025-07-30T21:42:45.572212Z",
     "iopub.status.busy": "2025-07-30T21:42:45.571785Z",
     "iopub.status.idle": "2025-07-30T21:42:45.576282Z",
     "shell.execute_reply": "2025-07-30T21:42:45.575543Z"
    },
    "papermill": {
     "duration": 0.030014,
     "end_time": "2025-07-30T21:42:45.577795",
     "exception": false,
     "start_time": "2025-07-30T21:42:45.547781",
     "status": "completed"
    },
    "tags": []
   },
   "outputs": [],
   "source": [
    "from fairness_multiverse.universe import predict_w_threshold"
   ]
  },
  {
   "cell_type": "code",
   "execution_count": 45,
   "id": "a7cf2e16",
   "metadata": {
    "execution": {
     "iopub.execute_input": "2025-07-30T21:42:45.629811Z",
     "iopub.status.busy": "2025-07-30T21:42:45.629443Z",
     "iopub.status.idle": "2025-07-30T21:42:45.726693Z",
     "shell.execute_reply": "2025-07-30T21:42:45.725765Z"
    },
    "papermill": {
     "duration": 0.124627,
     "end_time": "2025-07-30T21:42:45.728443",
     "exception": false,
     "start_time": "2025-07-30T21:42:45.603816",
     "status": "completed"
    },
    "tags": []
   },
   "outputs": [
    {
     "data": {
      "text/plain": [
       "0.8639616542191506"
      ]
     },
     "execution_count": 45,
     "metadata": {},
     "output_type": "execute_result"
    }
   ],
   "source": [
    "probs_test = model.predict_proba(X_test)\n",
    "\n",
    "'''\n",
    "Below code returns a boolean array (or binary 0/1 array depending on how it’s used) where each element \n",
    "is True if the probability of class 1 is greater than or equal to the threshold, and False otherwise.\n",
    "'''\n",
    "y_pred_default = predict_w_threshold(probs_test, 0.5)\n",
    "\n",
    "from sklearn.metrics import accuracy_score\n",
    "\n",
    "# Naive prediction\n",
    "accuracy_score(y_true = y_true, y_pred = y_pred_default)"
   ]
  },
  {
   "cell_type": "code",
   "execution_count": 46,
   "id": "081964c3",
   "metadata": {
    "execution": {
     "iopub.execute_input": "2025-07-30T21:42:45.780094Z",
     "iopub.status.busy": "2025-07-30T21:42:45.779197Z",
     "iopub.status.idle": "2025-07-30T21:42:45.873684Z",
     "shell.execute_reply": "2025-07-30T21:42:45.872896Z"
    },
    "papermill": {
     "duration": 0.123356,
     "end_time": "2025-07-30T21:42:45.876144",
     "exception": false,
     "start_time": "2025-07-30T21:42:45.752788",
     "status": "completed"
    },
    "tags": []
   },
   "outputs": [
    {
     "data": {
      "text/plain": [
       "array([0, 0, 0, ..., 0, 0, 0])"
      ]
     },
     "execution_count": 46,
     "metadata": {},
     "output_type": "execute_result"
    }
   ],
   "source": [
    "model.predict(X_test)"
   ]
  },
  {
   "cell_type": "markdown",
   "id": "56c9705b",
   "metadata": {
    "papermill": {
     "duration": 0.033097,
     "end_time": "2025-07-30T21:42:45.942798",
     "exception": false,
     "start_time": "2025-07-30T21:42:45.909701",
     "status": "completed"
    },
    "tags": []
   },
   "source": [
    "# Conformal Prediction"
   ]
  },
  {
   "cell_type": "code",
   "execution_count": 47,
   "id": "160ec6ff",
   "metadata": {
    "execution": {
     "iopub.execute_input": "2025-07-30T21:42:46.009948Z",
     "iopub.status.busy": "2025-07-30T21:42:46.009411Z",
     "iopub.status.idle": "2025-07-30T21:42:46.015416Z",
     "shell.execute_reply": "2025-07-30T21:42:46.014287Z"
    },
    "papermill": {
     "duration": 0.042078,
     "end_time": "2025-07-30T21:42:46.017522",
     "exception": false,
     "start_time": "2025-07-30T21:42:45.975444",
     "status": "completed"
    },
    "tags": []
   },
   "outputs": [],
   "source": [
    "# Miscoverage level for conformal prediction (10% allowed error rate => 90% target coverage)\n",
    "alpha = 0.1"
   ]
  },
  {
   "cell_type": "code",
   "execution_count": 48,
   "id": "eadf4555-3dd3-440e-8e35-f82a4ad9f855",
   "metadata": {
    "execution": {
     "iopub.execute_input": "2025-07-30T21:42:46.095179Z",
     "iopub.status.busy": "2025-07-30T21:42:46.094632Z",
     "iopub.status.idle": "2025-07-30T21:42:46.183195Z",
     "shell.execute_reply": "2025-07-30T21:42:46.182080Z"
    },
    "papermill": {
     "duration": 0.13263,
     "end_time": "2025-07-30T21:42:46.185699",
     "exception": false,
     "start_time": "2025-07-30T21:42:46.053069",
     "status": "completed"
    },
    "tags": []
   },
   "outputs": [],
   "source": [
    "probs_calib = model.predict_proba(X_calib)"
   ]
  },
  {
   "cell_type": "code",
   "execution_count": 49,
   "id": "2ed93547-6d5d-4983-9b36-1ecb300da49a",
   "metadata": {
    "execution": {
     "iopub.execute_input": "2025-07-30T21:42:46.253603Z",
     "iopub.status.busy": "2025-07-30T21:42:46.252571Z",
     "iopub.status.idle": "2025-07-30T21:42:46.258903Z",
     "shell.execute_reply": "2025-07-30T21:42:46.257797Z"
    },
    "papermill": {
     "duration": 0.042783,
     "end_time": "2025-07-30T21:42:46.261259",
     "exception": false,
     "start_time": "2025-07-30T21:42:46.218476",
     "status": "completed"
    },
    "tags": []
   },
   "outputs": [],
   "source": [
    "y_calib = y_calib.values.ravel().astype(int)"
   ]
  },
  {
   "cell_type": "code",
   "execution_count": 50,
   "id": "65d1320d-f588-4b38-9072-62af1ae97f7d",
   "metadata": {
    "execution": {
     "iopub.execute_input": "2025-07-30T21:42:46.330536Z",
     "iopub.status.busy": "2025-07-30T21:42:46.329557Z",
     "iopub.status.idle": "2025-07-30T21:42:46.338516Z",
     "shell.execute_reply": "2025-07-30T21:42:46.337316Z"
    },
    "papermill": {
     "duration": 0.044401,
     "end_time": "2025-07-30T21:42:46.340755",
     "exception": false,
     "start_time": "2025-07-30T21:42:46.296354",
     "status": "completed"
    },
    "tags": []
   },
   "outputs": [],
   "source": [
    "from fairness_multiverse.conformal import compute_nc_scores\n",
    "\n",
    "# Compute nonconformity scores on calibration set (1 - probability of true class)\n",
    "nc_scores = compute_nc_scores(probs_calib, y_calib)"
   ]
  },
  {
   "cell_type": "code",
   "execution_count": 51,
   "id": "df3b8ca3-53b7-43d5-9667-7c85da7aeda2",
   "metadata": {
    "execution": {
     "iopub.execute_input": "2025-07-30T21:42:46.396644Z",
     "iopub.status.busy": "2025-07-30T21:42:46.395676Z",
     "iopub.status.idle": "2025-07-30T21:42:46.403064Z",
     "shell.execute_reply": "2025-07-30T21:42:46.402026Z"
    },
    "papermill": {
     "duration": 0.036707,
     "end_time": "2025-07-30T21:42:46.404986",
     "exception": false,
     "start_time": "2025-07-30T21:42:46.368279",
     "status": "completed"
    },
    "tags": []
   },
   "outputs": [],
   "source": [
    "from fairness_multiverse.conformal import find_threshold\n",
    "\n",
    "# Find conformal threshold q_hat for the given alpha (split conformal method)\n",
    "q_hat = find_threshold(nc_scores, alpha)"
   ]
  },
  {
   "cell_type": "code",
   "execution_count": 52,
   "id": "4d29e6c1-0ef6-4aa4-b8fe-4fe79b0d033a",
   "metadata": {
    "execution": {
     "iopub.execute_input": "2025-07-30T21:42:46.448602Z",
     "iopub.status.busy": "2025-07-30T21:42:46.448201Z",
     "iopub.status.idle": "2025-07-30T21:42:46.454660Z",
     "shell.execute_reply": "2025-07-30T21:42:46.453729Z"
    },
    "papermill": {
     "duration": 0.027132,
     "end_time": "2025-07-30T21:42:46.456449",
     "exception": false,
     "start_time": "2025-07-30T21:42:46.429317",
     "status": "completed"
    },
    "tags": []
   },
   "outputs": [
    {
     "data": {
      "text/plain": [
       "0.686184080412976"
      ]
     },
     "execution_count": 52,
     "metadata": {},
     "output_type": "execute_result"
    }
   ],
   "source": [
    "q_hat"
   ]
  },
  {
   "cell_type": "code",
   "execution_count": 53,
   "id": "92460794-cdac-4be2-ba28-f28c0515a6fb",
   "metadata": {
    "execution": {
     "iopub.execute_input": "2025-07-30T21:42:46.507599Z",
     "iopub.status.busy": "2025-07-30T21:42:46.507132Z",
     "iopub.status.idle": "2025-07-30T21:42:47.283845Z",
     "shell.execute_reply": "2025-07-30T21:42:47.282837Z"
    },
    "papermill": {
     "duration": 0.805881,
     "end_time": "2025-07-30T21:42:47.286192",
     "exception": false,
     "start_time": "2025-07-30T21:42:46.480311",
     "status": "completed"
    },
    "tags": []
   },
   "outputs": [],
   "source": [
    "from fairness_multiverse.conformal import predict_conformal_sets\n",
    "\n",
    "# Generate prediction sets for each test example\n",
    "pred_sets = predict_conformal_sets(model, X_test, q_hat)"
   ]
  },
  {
   "cell_type": "code",
   "execution_count": 54,
   "id": "d90c9a65-e6db-4f5d-80cd-e68fb7e46829",
   "metadata": {
    "execution": {
     "iopub.execute_input": "2025-07-30T21:42:47.343652Z",
     "iopub.status.busy": "2025-07-30T21:42:47.343258Z",
     "iopub.status.idle": "2025-07-30T21:42:47.349113Z",
     "shell.execute_reply": "2025-07-30T21:42:47.348122Z"
    },
    "papermill": {
     "duration": 0.032009,
     "end_time": "2025-07-30T21:42:47.351421",
     "exception": false,
     "start_time": "2025-07-30T21:42:47.319412",
     "status": "completed"
    },
    "tags": []
   },
   "outputs": [],
   "source": [
    "y_true = y_true.squeeze()"
   ]
  },
  {
   "cell_type": "code",
   "execution_count": 55,
   "id": "3a58a54a-1e68-46b9-927a-df01f18aebc8",
   "metadata": {
    "execution": {
     "iopub.execute_input": "2025-07-30T21:42:47.423663Z",
     "iopub.status.busy": "2025-07-30T21:42:47.423204Z",
     "iopub.status.idle": "2025-07-30T21:42:48.227763Z",
     "shell.execute_reply": "2025-07-30T21:42:48.226933Z"
    },
    "papermill": {
     "duration": 0.842021,
     "end_time": "2025-07-30T21:42:48.229244",
     "exception": false,
     "start_time": "2025-07-30T21:42:47.387223",
     "status": "completed"
    },
    "tags": []
   },
   "outputs": [],
   "source": [
    "from fairness_multiverse.conformal import evaluate_sets\n",
    "\n",
    "# Evaluate coverage and average set size on test data\n",
    "metrics = evaluate_sets(pred_sets, y_true)"
   ]
  },
  {
   "cell_type": "markdown",
   "id": "2b569c12-9aaa-4c88-98c9-bbcd0cf3ebb8",
   "metadata": {
    "papermill": {
     "duration": 0.020409,
     "end_time": "2025-07-30T21:42:48.268047",
     "exception": false,
     "start_time": "2025-07-30T21:42:48.247638",
     "status": "completed"
    },
    "tags": []
   },
   "source": [
    "# CP Metrics"
   ]
  },
  {
   "cell_type": "code",
   "execution_count": 56,
   "id": "5ce0a5cb-201f-45a0-ade5-94c7f0bd6095",
   "metadata": {
    "execution": {
     "iopub.execute_input": "2025-07-30T21:42:48.317008Z",
     "iopub.status.busy": "2025-07-30T21:42:48.316548Z",
     "iopub.status.idle": "2025-07-30T21:42:48.323911Z",
     "shell.execute_reply": "2025-07-30T21:42:48.322891Z"
    },
    "papermill": {
     "duration": 0.03335,
     "end_time": "2025-07-30T21:42:48.325553",
     "exception": false,
     "start_time": "2025-07-30T21:42:48.292203",
     "status": "completed"
    },
    "tags": []
   },
   "outputs": [
    {
     "data": {
      "text/plain": [
       "{'coverage': 0.9128748188607736, 'avg_size': 1.2461152602831345}"
      ]
     },
     "execution_count": 56,
     "metadata": {},
     "output_type": "execute_result"
    }
   ],
   "source": [
    "metrics"
   ]
  },
  {
   "cell_type": "code",
   "execution_count": 57,
   "id": "9b9a838d-31c9-430b-ae14-12baee460d17",
   "metadata": {
    "execution": {
     "iopub.execute_input": "2025-07-30T21:42:48.375898Z",
     "iopub.status.busy": "2025-07-30T21:42:48.375377Z",
     "iopub.status.idle": "2025-07-30T21:42:48.382759Z",
     "shell.execute_reply": "2025-07-30T21:42:48.381748Z"
    },
    "papermill": {
     "duration": 0.035923,
     "end_time": "2025-07-30T21:42:48.385533",
     "exception": false,
     "start_time": "2025-07-30T21:42:48.349610",
     "status": "completed"
    },
    "tags": []
   },
   "outputs": [],
   "source": [
    "example_universe = universe.copy()\n",
    "universe_training_year = example_universe.get(\"training_year\")\n",
    "universe_training_size = example_universe.get(\"training_size\")\n",
    "universe_scale = example_universe.get(\"scale\")\n",
    "universe_model = example_universe.get(\"model\")\n",
    "universe_exclude_features = example_universe.get(\"exclude_features\")\n",
    "universe_exclude_subgroups = example_universe.get(\"exclude_subgroups\")"
   ]
  },
  {
   "cell_type": "code",
   "execution_count": 58,
   "id": "f4b6a8ac-9dc0-4245-8a91-5b3b5999c4f9",
   "metadata": {
    "execution": {
     "iopub.execute_input": "2025-07-30T21:42:48.448236Z",
     "iopub.status.busy": "2025-07-30T21:42:48.447674Z",
     "iopub.status.idle": "2025-07-30T21:42:48.454541Z",
     "shell.execute_reply": "2025-07-30T21:42:48.453574Z"
    },
    "papermill": {
     "duration": 0.033399,
     "end_time": "2025-07-30T21:42:48.456264",
     "exception": false,
     "start_time": "2025-07-30T21:42:48.422865",
     "status": "completed"
    },
    "tags": []
   },
   "outputs": [],
   "source": [
    "cp_metrics_dict = {\n",
    "    \"universe_id\": [universe_id],\n",
    "    \"universe_training_year\": [universe_training_year],\n",
    "    \"universe_training_size\": [universe_training_size],\n",
    "    \"universe_scale\": [universe_scale],\n",
    "    \"universe_model\": [universe_model],\n",
    "    \"universe_exclude_features\": [universe_exclude_features],\n",
    "    \"universe_exclude_subgroups\": [universe_exclude_subgroups],\n",
    "    \"q_hat\": [q_hat],\n",
    "    \"coverage\": [metrics[\"coverage\"]],\n",
    "    \"avg_size\": [metrics[\"avg_size\"]],\n",
    "}"
   ]
  },
  {
   "cell_type": "code",
   "execution_count": 59,
   "id": "908acbb1-0371-4915-85ca-3fa520d2efe2",
   "metadata": {
    "execution": {
     "iopub.execute_input": "2025-07-30T21:42:48.504674Z",
     "iopub.status.busy": "2025-07-30T21:42:48.504114Z",
     "iopub.status.idle": "2025-07-30T21:42:48.513456Z",
     "shell.execute_reply": "2025-07-30T21:42:48.512527Z"
    },
    "papermill": {
     "duration": 0.035542,
     "end_time": "2025-07-30T21:42:48.515299",
     "exception": false,
     "start_time": "2025-07-30T21:42:48.479757",
     "status": "completed"
    },
    "tags": []
   },
   "outputs": [
    {
     "data": {
      "text/plain": [
       "{'universe_id': ['219247e9ecb778a4976b4a638b0a4612'],\n",
       " 'universe_training_year': ['2012_14'],\n",
       " 'universe_training_size': ['1k'],\n",
       " 'universe_scale': ['do-not-scale'],\n",
       " 'universe_model': ['elasticnet'],\n",
       " 'universe_exclude_features': ['none'],\n",
       " 'universe_exclude_subgroups': ['drop-non-german'],\n",
       " 'q_hat': [0.686184080412976],\n",
       " 'coverage': [0.9128748188607736],\n",
       " 'avg_size': [1.2461152602831345]}"
      ]
     },
     "execution_count": 59,
     "metadata": {},
     "output_type": "execute_result"
    }
   ],
   "source": [
    "cp_metrics_dict"
   ]
  },
  {
   "cell_type": "code",
   "execution_count": 60,
   "id": "33007efc-14e9-4ec6-97ac-56a455c82265",
   "metadata": {
    "execution": {
     "iopub.execute_input": "2025-07-30T21:42:48.552671Z",
     "iopub.status.busy": "2025-07-30T21:42:48.552175Z",
     "iopub.status.idle": "2025-07-30T21:42:48.562166Z",
     "shell.execute_reply": "2025-07-30T21:42:48.561147Z"
    },
    "papermill": {
     "duration": 0.032986,
     "end_time": "2025-07-30T21:42:48.564021",
     "exception": false,
     "start_time": "2025-07-30T21:42:48.531035",
     "status": "completed"
    },
    "tags": []
   },
   "outputs": [],
   "source": [
    "cp_metrics_df = pd.DataFrame(cp_metrics_dict)"
   ]
  },
  {
   "cell_type": "code",
   "execution_count": 61,
   "id": "db12611b-57b2-4910-b9d0-355adfd6e7bf",
   "metadata": {
    "execution": {
     "iopub.execute_input": "2025-07-30T21:42:48.623010Z",
     "iopub.status.busy": "2025-07-30T21:42:48.622439Z",
     "iopub.status.idle": "2025-07-30T21:42:48.642501Z",
     "shell.execute_reply": "2025-07-30T21:42:48.641500Z"
    },
    "papermill": {
     "duration": 0.049839,
     "end_time": "2025-07-30T21:42:48.644502",
     "exception": false,
     "start_time": "2025-07-30T21:42:48.594663",
     "status": "completed"
    },
    "tags": []
   },
   "outputs": [
    {
     "data": {
      "text/html": [
       "<div>\n",
       "<style scoped>\n",
       "    .dataframe tbody tr th:only-of-type {\n",
       "        vertical-align: middle;\n",
       "    }\n",
       "\n",
       "    .dataframe tbody tr th {\n",
       "        vertical-align: top;\n",
       "    }\n",
       "\n",
       "    .dataframe thead th {\n",
       "        text-align: right;\n",
       "    }\n",
       "</style>\n",
       "<table border=\"1\" class=\"dataframe\">\n",
       "  <thead>\n",
       "    <tr style=\"text-align: right;\">\n",
       "      <th></th>\n",
       "      <th>universe_id</th>\n",
       "      <th>universe_training_year</th>\n",
       "      <th>universe_training_size</th>\n",
       "      <th>universe_scale</th>\n",
       "      <th>universe_model</th>\n",
       "      <th>universe_exclude_features</th>\n",
       "      <th>universe_exclude_subgroups</th>\n",
       "      <th>q_hat</th>\n",
       "      <th>coverage</th>\n",
       "      <th>avg_size</th>\n",
       "    </tr>\n",
       "  </thead>\n",
       "  <tbody>\n",
       "    <tr>\n",
       "      <th>0</th>\n",
       "      <td>219247e9ecb778a4976b4a638b0a4612</td>\n",
       "      <td>2012_14</td>\n",
       "      <td>1k</td>\n",
       "      <td>do-not-scale</td>\n",
       "      <td>elasticnet</td>\n",
       "      <td>none</td>\n",
       "      <td>drop-non-german</td>\n",
       "      <td>0.686184</td>\n",
       "      <td>0.912875</td>\n",
       "      <td>1.246115</td>\n",
       "    </tr>\n",
       "  </tbody>\n",
       "</table>\n",
       "</div>"
      ],
      "text/plain": [
       "                        universe_id universe_training_year  \\\n",
       "0  219247e9ecb778a4976b4a638b0a4612                2012_14   \n",
       "\n",
       "  universe_training_size universe_scale universe_model  \\\n",
       "0                     1k   do-not-scale     elasticnet   \n",
       "\n",
       "  universe_exclude_features universe_exclude_subgroups     q_hat  coverage  \\\n",
       "0                      none            drop-non-german  0.686184  0.912875   \n",
       "\n",
       "   avg_size  \n",
       "0  1.246115  "
      ]
     },
     "execution_count": 61,
     "metadata": {},
     "output_type": "execute_result"
    }
   ],
   "source": [
    "cp_metrics_df"
   ]
  },
  {
   "cell_type": "code",
   "execution_count": 62,
   "id": "b7fbde55-a0a1-47e4-9af6-fe4a17fa8c61",
   "metadata": {
    "execution": {
     "iopub.execute_input": "2025-07-30T21:42:48.698594Z",
     "iopub.status.busy": "2025-07-30T21:42:48.698029Z",
     "iopub.status.idle": "2025-07-30T21:42:48.703410Z",
     "shell.execute_reply": "2025-07-30T21:42:48.702465Z"
    },
    "papermill": {
     "duration": 0.036639,
     "end_time": "2025-07-30T21:42:48.705255",
     "exception": false,
     "start_time": "2025-07-30T21:42:48.668616",
     "status": "completed"
    },
    "tags": []
   },
   "outputs": [],
   "source": [
    "# Conditional Coverage & looking at subgroups"
   ]
  },
  {
   "cell_type": "code",
   "execution_count": 63,
   "id": "027ae886-68dd-4141-96c7-805a5450e1ef",
   "metadata": {
    "execution": {
     "iopub.execute_input": "2025-07-30T21:42:48.762643Z",
     "iopub.status.busy": "2025-07-30T21:42:48.762119Z",
     "iopub.status.idle": "2025-07-30T21:42:49.060189Z",
     "shell.execute_reply": "2025-07-30T21:42:49.059144Z"
    },
    "papermill": {
     "duration": 0.328162,
     "end_time": "2025-07-30T21:42:49.061994",
     "exception": false,
     "start_time": "2025-07-30T21:42:48.733832",
     "status": "completed"
    },
    "tags": []
   },
   "outputs": [],
   "source": [
    "from fairness_multiverse.conformal import build_cp_groups\n",
    "\n",
    "cp_groups_df = build_cp_groups(pred_sets, y_true, X_test.index, org_test)\n",
    "#needs universe_id and setting"
   ]
  },
  {
   "cell_type": "code",
   "execution_count": 64,
   "id": "01d5802c-663a-4d1f-9d69-e036faaffbf7",
   "metadata": {
    "execution": {
     "iopub.execute_input": "2025-07-30T21:42:49.117379Z",
     "iopub.status.busy": "2025-07-30T21:42:49.116840Z",
     "iopub.status.idle": "2025-07-30T21:42:49.122902Z",
     "shell.execute_reply": "2025-07-30T21:42:49.121456Z"
    },
    "papermill": {
     "duration": 0.036299,
     "end_time": "2025-07-30T21:42:49.124771",
     "exception": false,
     "start_time": "2025-07-30T21:42:49.088472",
     "status": "completed"
    },
    "tags": []
   },
   "outputs": [],
   "source": [
    "#delete\n",
    "#cp_groups_df"
   ]
  },
  {
   "cell_type": "code",
   "execution_count": 65,
   "id": "fa424af1-d1eb-443d-b717-2d279ada8408",
   "metadata": {
    "execution": {
     "iopub.execute_input": "2025-07-30T21:42:49.182543Z",
     "iopub.status.busy": "2025-07-30T21:42:49.181992Z",
     "iopub.status.idle": "2025-07-30T21:42:49.187908Z",
     "shell.execute_reply": "2025-07-30T21:42:49.186862Z"
    },
    "papermill": {
     "duration": 0.035116,
     "end_time": "2025-07-30T21:42:49.189869",
     "exception": false,
     "start_time": "2025-07-30T21:42:49.154753",
     "status": "completed"
    },
    "tags": []
   },
   "outputs": [],
   "source": [
    "#delete\n",
    "#percentage = (cp_groups_df['nongerman_female'] == 1).mean() * 100\n",
    "#print(percentage)\n"
   ]
  },
  {
   "cell_type": "code",
   "execution_count": 66,
   "id": "6cbdab96-b2b2-45af-ad54-d0516db2e28d",
   "metadata": {
    "execution": {
     "iopub.execute_input": "2025-07-30T21:42:49.241432Z",
     "iopub.status.busy": "2025-07-30T21:42:49.240969Z",
     "iopub.status.idle": "2025-07-30T21:42:50.556309Z",
     "shell.execute_reply": "2025-07-30T21:42:50.555387Z"
    },
    "papermill": {
     "duration": 1.342823,
     "end_time": "2025-07-30T21:42:50.558224",
     "exception": false,
     "start_time": "2025-07-30T21:42:49.215401",
     "status": "completed"
    },
    "tags": []
   },
   "outputs": [],
   "source": [
    "# Define covered = 1 if true_label is in the predicted set\n",
    "cp_groups_df['covered'] = cp_groups_df.apply(\n",
    "    lambda r: int(r['true_label'] in r['pred_set']),\n",
    "    axis=1\n",
    ")"
   ]
  },
  {
   "cell_type": "code",
   "execution_count": 67,
   "id": "338ff529-1a6b-4b87-a931-8e4788d52aad",
   "metadata": {
    "execution": {
     "iopub.execute_input": "2025-07-30T21:42:50.611463Z",
     "iopub.status.busy": "2025-07-30T21:42:50.610603Z",
     "iopub.status.idle": "2025-07-30T21:42:50.615537Z",
     "shell.execute_reply": "2025-07-30T21:42:50.614571Z"
    },
    "papermill": {
     "duration": 0.033415,
     "end_time": "2025-07-30T21:42:50.617191",
     "exception": false,
     "start_time": "2025-07-30T21:42:50.583776",
     "status": "completed"
    },
    "tags": []
   },
   "outputs": [],
   "source": [
    "#cp_groups_df"
   ]
  },
  {
   "cell_type": "code",
   "execution_count": 68,
   "id": "90032e27-66df-4540-9169-4e89cfbaa758",
   "metadata": {
    "execution": {
     "iopub.execute_input": "2025-07-30T21:42:50.666188Z",
     "iopub.status.busy": "2025-07-30T21:42:50.665552Z",
     "iopub.status.idle": "2025-07-30T21:42:50.677163Z",
     "shell.execute_reply": "2025-07-30T21:42:50.676151Z"
    },
    "papermill": {
     "duration": 0.037212,
     "end_time": "2025-07-30T21:42:50.678717",
     "exception": false,
     "start_time": "2025-07-30T21:42:50.641505",
     "status": "completed"
    },
    "tags": []
   },
   "outputs": [],
   "source": [
    "subgroups = ['frau1','nongerman','nongerman_male','nongerman_female']\n",
    "\n",
    "# Conditional coverage for subgroup==1\n",
    "cond_coverage = {\n",
    "    g: cp_groups_df.loc[cp_groups_df[g]==1, 'covered'].mean()\n",
    "    for g in subgroups\n",
    "}"
   ]
  },
  {
   "cell_type": "code",
   "execution_count": 69,
   "id": "1e348fb1-b9c3-45bc-ba23-f016827a7e0d",
   "metadata": {
    "execution": {
     "iopub.execute_input": "2025-07-30T21:42:50.727492Z",
     "iopub.status.busy": "2025-07-30T21:42:50.727013Z",
     "iopub.status.idle": "2025-07-30T21:42:50.734286Z",
     "shell.execute_reply": "2025-07-30T21:42:50.733315Z"
    },
    "papermill": {
     "duration": 0.033044,
     "end_time": "2025-07-30T21:42:50.735859",
     "exception": false,
     "start_time": "2025-07-30T21:42:50.702815",
     "status": "completed"
    },
    "tags": []
   },
   "outputs": [
    {
     "data": {
      "text/plain": [
       "{'frau1': 0.9120905782450465,\n",
       " 'nongerman': 0.9556503677089766,\n",
       " 'nongerman_male': 0.9629829775736287,\n",
       " 'nongerman_female': 0.9435171385991058}"
      ]
     },
     "execution_count": 69,
     "metadata": {},
     "output_type": "execute_result"
    }
   ],
   "source": [
    "cond_coverage"
   ]
  },
  {
   "cell_type": "code",
   "execution_count": 70,
   "id": "f5093324-c3dd-4d63-bc4c-8d945e5c8bbb",
   "metadata": {
    "execution": {
     "iopub.execute_input": "2025-07-30T21:42:50.785439Z",
     "iopub.status.busy": "2025-07-30T21:42:50.784778Z",
     "iopub.status.idle": "2025-07-30T21:42:50.791817Z",
     "shell.execute_reply": "2025-07-30T21:42:50.790874Z"
    },
    "papermill": {
     "duration": 0.033151,
     "end_time": "2025-07-30T21:42:50.793441",
     "exception": false,
     "start_time": "2025-07-30T21:42:50.760290",
     "status": "completed"
    },
    "tags": []
   },
   "outputs": [],
   "source": [
    "for subgroup, cov in cond_coverage.items():\n",
    "    cp_metrics_df[f\"cov_{subgroup}\"] = cov"
   ]
  },
  {
   "cell_type": "code",
   "execution_count": 71,
   "id": "6e872e10-dbe5-49e8-b554-5030c98ff75d",
   "metadata": {
    "execution": {
     "iopub.execute_input": "2025-07-30T21:42:50.842949Z",
     "iopub.status.busy": "2025-07-30T21:42:50.842307Z",
     "iopub.status.idle": "2025-07-30T21:42:50.861073Z",
     "shell.execute_reply": "2025-07-30T21:42:50.860147Z"
    },
    "papermill": {
     "duration": 0.044738,
     "end_time": "2025-07-30T21:42:50.862747",
     "exception": false,
     "start_time": "2025-07-30T21:42:50.818009",
     "status": "completed"
    },
    "tags": []
   },
   "outputs": [
    {
     "data": {
      "text/html": [
       "<div>\n",
       "<style scoped>\n",
       "    .dataframe tbody tr th:only-of-type {\n",
       "        vertical-align: middle;\n",
       "    }\n",
       "\n",
       "    .dataframe tbody tr th {\n",
       "        vertical-align: top;\n",
       "    }\n",
       "\n",
       "    .dataframe thead th {\n",
       "        text-align: right;\n",
       "    }\n",
       "</style>\n",
       "<table border=\"1\" class=\"dataframe\">\n",
       "  <thead>\n",
       "    <tr style=\"text-align: right;\">\n",
       "      <th></th>\n",
       "      <th>universe_id</th>\n",
       "      <th>universe_training_year</th>\n",
       "      <th>universe_training_size</th>\n",
       "      <th>universe_scale</th>\n",
       "      <th>universe_model</th>\n",
       "      <th>universe_exclude_features</th>\n",
       "      <th>universe_exclude_subgroups</th>\n",
       "      <th>q_hat</th>\n",
       "      <th>coverage</th>\n",
       "      <th>avg_size</th>\n",
       "      <th>cov_frau1</th>\n",
       "      <th>cov_nongerman</th>\n",
       "      <th>cov_nongerman_male</th>\n",
       "      <th>cov_nongerman_female</th>\n",
       "    </tr>\n",
       "  </thead>\n",
       "  <tbody>\n",
       "    <tr>\n",
       "      <th>0</th>\n",
       "      <td>219247e9ecb778a4976b4a638b0a4612</td>\n",
       "      <td>2012_14</td>\n",
       "      <td>1k</td>\n",
       "      <td>do-not-scale</td>\n",
       "      <td>elasticnet</td>\n",
       "      <td>none</td>\n",
       "      <td>drop-non-german</td>\n",
       "      <td>0.686184</td>\n",
       "      <td>0.912875</td>\n",
       "      <td>1.246115</td>\n",
       "      <td>0.912091</td>\n",
       "      <td>0.95565</td>\n",
       "      <td>0.962983</td>\n",
       "      <td>0.943517</td>\n",
       "    </tr>\n",
       "  </tbody>\n",
       "</table>\n",
       "</div>"
      ],
      "text/plain": [
       "                        universe_id universe_training_year  \\\n",
       "0  219247e9ecb778a4976b4a638b0a4612                2012_14   \n",
       "\n",
       "  universe_training_size universe_scale universe_model  \\\n",
       "0                     1k   do-not-scale     elasticnet   \n",
       "\n",
       "  universe_exclude_features universe_exclude_subgroups     q_hat  coverage  \\\n",
       "0                      none            drop-non-german  0.686184  0.912875   \n",
       "\n",
       "   avg_size  cov_frau1  cov_nongerman  cov_nongerman_male  \\\n",
       "0  1.246115   0.912091        0.95565            0.962983   \n",
       "\n",
       "   cov_nongerman_female  \n",
       "0              0.943517  "
      ]
     },
     "execution_count": 71,
     "metadata": {},
     "output_type": "execute_result"
    }
   ],
   "source": [
    "cp_metrics_df"
   ]
  },
  {
   "cell_type": "markdown",
   "id": "33774451",
   "metadata": {
    "papermill": {
     "duration": 0.023637,
     "end_time": "2025-07-30T21:42:50.910851",
     "exception": false,
     "start_time": "2025-07-30T21:42:50.887214",
     "status": "completed"
    },
    "tags": []
   },
   "source": [
    "# (Fairness) Metrics"
   ]
  },
  {
   "cell_type": "code",
   "execution_count": 72,
   "id": "debc5d62",
   "metadata": {
    "execution": {
     "iopub.execute_input": "2025-07-30T21:42:50.959896Z",
     "iopub.status.busy": "2025-07-30T21:42:50.959380Z",
     "iopub.status.idle": "2025-07-30T21:42:50.979956Z",
     "shell.execute_reply": "2025-07-30T21:42:50.979098Z"
    },
    "papermill": {
     "duration": 0.047113,
     "end_time": "2025-07-30T21:42:50.981604",
     "exception": false,
     "start_time": "2025-07-30T21:42:50.934491",
     "status": "completed"
    },
    "tags": []
   },
   "outputs": [],
   "source": [
    "# do I need to include maxdeutsch1.missing?\n",
    "\n",
    "import numpy as np\n",
    "\n",
    "colname_to_bin = \"maxdeutsch1\"\n",
    "majority_value = org_train[colname_to_bin].mode()[0]\n",
    "\n",
    "org_test[\"majmin\"] = np.where(org_test[colname_to_bin] == majority_value, \"majority\", \"minority\")"
   ]
  },
  {
   "cell_type": "code",
   "execution_count": 73,
   "id": "06a50de5",
   "metadata": {
    "execution": {
     "iopub.execute_input": "2025-07-30T21:42:51.031452Z",
     "iopub.status.busy": "2025-07-30T21:42:51.030788Z",
     "iopub.status.idle": "2025-07-30T21:42:53.975010Z",
     "shell.execute_reply": "2025-07-30T21:42:53.973955Z"
    },
    "papermill": {
     "duration": 2.971084,
     "end_time": "2025-07-30T21:42:53.977092",
     "exception": false,
     "start_time": "2025-07-30T21:42:51.006008",
     "status": "completed"
    },
    "tags": []
   },
   "outputs": [],
   "source": [
    "example_universe = universe.copy()\n",
    "example_universe[\"cutoff\"] = example_universe[\"cutoff\"][0]\n",
    "example_universe[\"eval_fairness_grouping\"] = example_universe[\"eval_fairness_grouping\"][0]\n",
    "fairness_dict, metric_frame = universe_analysis.compute_metrics(\n",
    "    example_universe,\n",
    "    y_pred_prob=probs_test,\n",
    "    y_test=y_true,\n",
    "    org_test=org_test,\n",
    ")"
   ]
  },
  {
   "cell_type": "markdown",
   "id": "f95d4e02",
   "metadata": {
    "papermill": {
     "duration": 0.024006,
     "end_time": "2025-07-30T21:42:54.029388",
     "exception": false,
     "start_time": "2025-07-30T21:42:54.005382",
     "status": "completed"
    },
    "tags": []
   },
   "source": [
    "# Overall"
   ]
  },
  {
   "cell_type": "markdown",
   "id": "bdee4871",
   "metadata": {
    "papermill": {
     "duration": 0.024401,
     "end_time": "2025-07-30T21:42:54.079362",
     "exception": false,
     "start_time": "2025-07-30T21:42:54.054961",
     "status": "completed"
    },
    "tags": []
   },
   "source": [
    "Fairness\n",
    "Main fairness target: Equalized Odds. Seems to be a better fit than equal opportunity, since we're not only interested in Y = 1. Seems to be a better fit than demographic parity, since we also care about accuracy, not just equal distribution of preds.\n",
    "\n",
    "Pick column for computation of fairness metrics\n",
    "\n",
    "Performance\n",
    "Overall performance measures, most interesting in relation to the measures split by group below"
   ]
  },
  {
   "cell_type": "code",
   "execution_count": 74,
   "id": "c4e067c6",
   "metadata": {
    "execution": {
     "iopub.execute_input": "2025-07-30T21:42:54.132214Z",
     "iopub.status.busy": "2025-07-30T21:42:54.131537Z",
     "iopub.status.idle": "2025-07-30T21:42:54.140674Z",
     "shell.execute_reply": "2025-07-30T21:42:54.139641Z"
    },
    "papermill": {
     "duration": 0.03742,
     "end_time": "2025-07-30T21:42:54.142326",
     "exception": false,
     "start_time": "2025-07-30T21:42:54.104906",
     "status": "completed"
    },
    "tags": []
   },
   "outputs": [
    {
     "data": {
      "text/plain": [
       "accuracy                   0.212853\n",
       "balanced accuracy          0.522867\n",
       "f1                         0.234501\n",
       "precision                  0.133963\n",
       "false positive rate        0.894133\n",
       "false negative rate        0.060132\n",
       "selection rate             0.900000\n",
       "count                  89710.000000\n",
       "dtype: float64"
      ]
     },
     "execution_count": 74,
     "metadata": {},
     "output_type": "execute_result"
    }
   ],
   "source": [
    "metric_frame.overall"
   ]
  },
  {
   "cell_type": "markdown",
   "id": "e968fe9d",
   "metadata": {
    "papermill": {
     "duration": 0.024282,
     "end_time": "2025-07-30T21:42:54.191673",
     "exception": false,
     "start_time": "2025-07-30T21:42:54.167391",
     "status": "completed"
    },
    "tags": []
   },
   "source": [
    "By Group"
   ]
  },
  {
   "cell_type": "code",
   "execution_count": 75,
   "id": "ec325bce",
   "metadata": {
    "execution": {
     "iopub.execute_input": "2025-07-30T21:42:54.257971Z",
     "iopub.status.busy": "2025-07-30T21:42:54.257526Z",
     "iopub.status.idle": "2025-07-30T21:42:54.272471Z",
     "shell.execute_reply": "2025-07-30T21:42:54.271540Z"
    },
    "papermill": {
     "duration": 0.058213,
     "end_time": "2025-07-30T21:42:54.274282",
     "exception": false,
     "start_time": "2025-07-30T21:42:54.216069",
     "status": "completed"
    },
    "tags": []
   },
   "outputs": [
    {
     "data": {
      "text/html": [
       "<div>\n",
       "<style scoped>\n",
       "    .dataframe tbody tr th:only-of-type {\n",
       "        vertical-align: middle;\n",
       "    }\n",
       "\n",
       "    .dataframe tbody tr th {\n",
       "        vertical-align: top;\n",
       "    }\n",
       "\n",
       "    .dataframe thead th {\n",
       "        text-align: right;\n",
       "    }\n",
       "</style>\n",
       "<table border=\"1\" class=\"dataframe\">\n",
       "  <thead>\n",
       "    <tr style=\"text-align: right;\">\n",
       "      <th></th>\n",
       "      <th>accuracy</th>\n",
       "      <th>balanced accuracy</th>\n",
       "      <th>f1</th>\n",
       "      <th>precision</th>\n",
       "      <th>false positive rate</th>\n",
       "      <th>false negative rate</th>\n",
       "      <th>selection rate</th>\n",
       "      <th>count</th>\n",
       "    </tr>\n",
       "    <tr>\n",
       "      <th>majmin</th>\n",
       "      <th></th>\n",
       "      <th></th>\n",
       "      <th></th>\n",
       "      <th></th>\n",
       "      <th></th>\n",
       "      <th></th>\n",
       "      <th></th>\n",
       "      <th></th>\n",
       "    </tr>\n",
       "  </thead>\n",
       "  <tbody>\n",
       "    <tr>\n",
       "      <th>majority</th>\n",
       "      <td>0.233063</td>\n",
       "      <td>0.52828</td>\n",
       "      <td>0.242601</td>\n",
       "      <td>0.139505</td>\n",
       "      <td>0.872980</td>\n",
       "      <td>0.07046</td>\n",
       "      <td>0.880454</td>\n",
       "      <td>69170.0</td>\n",
       "    </tr>\n",
       "    <tr>\n",
       "      <th>minority</th>\n",
       "      <td>0.144791</td>\n",
       "      <td>0.50786</td>\n",
       "      <td>0.208953</td>\n",
       "      <td>0.116947</td>\n",
       "      <td>0.964011</td>\n",
       "      <td>0.02027</td>\n",
       "      <td>0.965823</td>\n",
       "      <td>20540.0</td>\n",
       "    </tr>\n",
       "  </tbody>\n",
       "</table>\n",
       "</div>"
      ],
      "text/plain": [
       "          accuracy  balanced accuracy        f1  precision  \\\n",
       "majmin                                                       \n",
       "majority  0.233063            0.52828  0.242601   0.139505   \n",
       "minority  0.144791            0.50786  0.208953   0.116947   \n",
       "\n",
       "          false positive rate  false negative rate  selection rate    count  \n",
       "majmin                                                                       \n",
       "majority             0.872980              0.07046        0.880454  69170.0  \n",
       "minority             0.964011              0.02027        0.965823  20540.0  "
      ]
     },
     "execution_count": 75,
     "metadata": {},
     "output_type": "execute_result"
    }
   ],
   "source": [
    "metric_frame.by_group"
   ]
  },
  {
   "cell_type": "code",
   "execution_count": 76,
   "id": "a9ddbe63",
   "metadata": {
    "execution": {
     "iopub.execute_input": "2025-07-30T21:42:54.331480Z",
     "iopub.status.busy": "2025-07-30T21:42:54.331056Z",
     "iopub.status.idle": "2025-07-30T21:42:56.540219Z",
     "shell.execute_reply": "2025-07-30T21:42:56.539245Z"
    },
    "papermill": {
     "duration": 2.23847,
     "end_time": "2025-07-30T21:42:56.542168",
     "exception": false,
     "start_time": "2025-07-30T21:42:54.303698",
     "status": "completed"
    },
    "tags": []
   },
   "outputs": [
    {
     "data": {
      "text/plain": [
       "array([[<Axes: title={'center': 'accuracy'}, xlabel='majmin'>,\n",
       "        <Axes: title={'center': 'balanced accuracy'}, xlabel='majmin'>,\n",
       "        <Axes: title={'center': 'f1'}, xlabel='majmin'>],\n",
       "       [<Axes: title={'center': 'precision'}, xlabel='majmin'>,\n",
       "        <Axes: title={'center': 'false positive rate'}, xlabel='majmin'>,\n",
       "        <Axes: title={'center': 'false negative rate'}, xlabel='majmin'>],\n",
       "       [<Axes: title={'center': 'selection rate'}, xlabel='majmin'>,\n",
       "        <Axes: title={'center': 'count'}, xlabel='majmin'>,\n",
       "        <Axes: xlabel='majmin'>]], dtype=object)"
      ]
     },
     "execution_count": 76,
     "metadata": {},
     "output_type": "execute_result"
    },
    {
     "data": {
      "image/png": "[encoded data removed]",
      "text/plain": [
       "<Figure size 1200x800 with 9 Axes>"
      ]
     },
     "metadata": {},
     "output_type": "display_data"
    }
   ],
   "source": [
    "# In a graphic\n",
    "metric_frame.by_group.plot.bar(\n",
    "    subplots=True,\n",
    "    layout=[3, 3],\n",
    "    legend=False,\n",
    "    figsize=[12, 8],\n",
    "    title=\"Show all metrics\",\n",
    ")"
   ]
  },
  {
   "cell_type": "markdown",
   "id": "f57a0bac",
   "metadata": {
    "papermill": {
     "duration": 0.034826,
     "end_time": "2025-07-30T21:42:56.612946",
     "exception": false,
     "start_time": "2025-07-30T21:42:56.578120",
     "status": "completed"
    },
    "tags": []
   },
   "source": [
    "# Final Output"
   ]
  },
  {
   "cell_type": "code",
   "execution_count": 77,
   "id": "96d280a3",
   "metadata": {
    "execution": {
     "iopub.execute_input": "2025-07-30T21:42:56.685074Z",
     "iopub.status.busy": "2025-07-30T21:42:56.684436Z",
     "iopub.status.idle": "2025-07-30T21:42:56.693225Z",
     "shell.execute_reply": "2025-07-30T21:42:56.692091Z"
    },
    "papermill": {
     "duration": 0.047187,
     "end_time": "2025-07-30T21:42:56.695070",
     "exception": false,
     "start_time": "2025-07-30T21:42:56.647883",
     "status": "completed"
    },
    "tags": []
   },
   "outputs": [
    {
     "data": {
      "text/plain": [
       "4"
      ]
     },
     "execution_count": 77,
     "metadata": {},
     "output_type": "execute_result"
    }
   ],
   "source": [
    "sub_universes = universe_analysis.generate_sub_universes()\n",
    "len(sub_universes)"
   ]
  },
  {
   "cell_type": "code",
   "execution_count": 78,
   "id": "92adf7ba",
   "metadata": {
    "execution": {
     "iopub.execute_input": "2025-07-30T21:42:56.769707Z",
     "iopub.status.busy": "2025-07-30T21:42:56.768956Z",
     "iopub.status.idle": "2025-07-30T21:42:56.776416Z",
     "shell.execute_reply": "2025-07-30T21:42:56.775328Z"
    },
    "papermill": {
     "duration": 0.046218,
     "end_time": "2025-07-30T21:42:56.778123",
     "exception": false,
     "start_time": "2025-07-30T21:42:56.731905",
     "status": "completed"
    },
    "tags": []
   },
   "outputs": [],
   "source": [
    "def filter_sub_universe_data(sub_universe, org_test):\n",
    "    # Keep all rows — no filtering\n",
    "    keep_rows_mask = np.ones(org_test.shape[0], dtype=bool)\n",
    "\n",
    "    print(f\"[INFO] Keeping all rows: {keep_rows_mask.sum()} rows retained.\")\n",
    "    return keep_rows_mask"
   ]
  },
  {
   "cell_type": "code",
   "execution_count": 79,
   "id": "4a759155",
   "metadata": {
    "execution": {
     "iopub.execute_input": "2025-07-30T21:42:56.836146Z",
     "iopub.status.busy": "2025-07-30T21:42:56.835221Z",
     "iopub.status.idle": "2025-07-30T21:43:08.224419Z",
     "shell.execute_reply": "2025-07-30T21:43:08.223250Z"
    },
    "papermill": {
     "duration": 11.419706,
     "end_time": "2025-07-30T21:43:08.226123",
     "exception": false,
     "start_time": "2025-07-30T21:42:56.806417",
     "status": "completed"
    },
    "tags": []
   },
   "outputs": [
    {
     "name": "stdout",
     "output_type": "stream",
     "text": [
      "Stopping execution_time clock.\n",
      "[INFO] Keeping all rows: 89710 rows retained.\n"
     ]
    },
    {
     "name": "stdout",
     "output_type": "stream",
     "text": [
      "[INFO] Keeping all rows: 89710 rows retained.\n"
     ]
    },
    {
     "name": "stdout",
     "output_type": "stream",
     "text": [
      "[INFO] Keeping all rows: 89710 rows retained.\n"
     ]
    },
    {
     "name": "stdout",
     "output_type": "stream",
     "text": [
      "[INFO] Keeping all rows: 89710 rows retained.\n"
     ]
    },
    {
     "data": {
      "text/html": [
       "<div>\n",
       "<style scoped>\n",
       "    .dataframe tbody tr th:only-of-type {\n",
       "        vertical-align: middle;\n",
       "    }\n",
       "\n",
       "    .dataframe tbody tr th {\n",
       "        vertical-align: top;\n",
       "    }\n",
       "\n",
       "    .dataframe thead th {\n",
       "        text-align: right;\n",
       "    }\n",
       "</style>\n",
       "<table border=\"1\" class=\"dataframe\">\n",
       "  <thead>\n",
       "    <tr style=\"text-align: right;\">\n",
       "      <th></th>\n",
       "      <th>run_no</th>\n",
       "      <th>universe_id</th>\n",
       "      <th>universe_settings</th>\n",
       "      <th>execution_time</th>\n",
       "      <th>test_size_n</th>\n",
       "      <th>test_size_frac</th>\n",
       "      <th>fair_main_equalized_odds_difference</th>\n",
       "      <th>fair_main_equalized_odds_ratio</th>\n",
       "      <th>fair_main_demographic_parity_difference</th>\n",
       "      <th>fair_main_demographic_parity_ratio</th>\n",
       "      <th>...</th>\n",
       "      <th>perf_grp_precision_0</th>\n",
       "      <th>perf_grp_precision_1</th>\n",
       "      <th>perf_grp_false positive rate_0</th>\n",
       "      <th>perf_grp_false positive rate_1</th>\n",
       "      <th>perf_grp_false negative rate_0</th>\n",
       "      <th>perf_grp_false negative rate_1</th>\n",
       "      <th>perf_grp_selection rate_0</th>\n",
       "      <th>perf_grp_selection rate_1</th>\n",
       "      <th>perf_grp_count_0</th>\n",
       "      <th>perf_grp_count_1</th>\n",
       "    </tr>\n",
       "  </thead>\n",
       "  <tbody>\n",
       "    <tr>\n",
       "      <th>0</th>\n",
       "      <td>14</td>\n",
       "      <td>219247e9ecb778a4976b4a638b0a4612</td>\n",
       "      <td>{\"cutoff\": \"quantile_0.1\", \"eval_fairness_grou...</td>\n",
       "      <td>43.235929</td>\n",
       "      <td>89710</td>\n",
       "      <td>1.0</td>\n",
       "      <td>0.091030</td>\n",
       "      <td>0.905571</td>\n",
       "      <td>0.085369</td>\n",
       "      <td>0.91161</td>\n",
       "      <td>...</td>\n",
       "      <td>NaN</td>\n",
       "      <td>NaN</td>\n",
       "      <td>NaN</td>\n",
       "      <td>NaN</td>\n",
       "      <td>NaN</td>\n",
       "      <td>NaN</td>\n",
       "      <td>NaN</td>\n",
       "      <td>NaN</td>\n",
       "      <td>NaN</td>\n",
       "      <td>NaN</td>\n",
       "    </tr>\n",
       "    <tr>\n",
       "      <th>0</th>\n",
       "      <td>14</td>\n",
       "      <td>219247e9ecb778a4976b4a638b0a4612</td>\n",
       "      <td>{\"cutoff\": \"quantile_0.1\", \"eval_fairness_grou...</td>\n",
       "      <td>43.235929</td>\n",
       "      <td>89710</td>\n",
       "      <td>1.0</td>\n",
       "      <td>0.091030</td>\n",
       "      <td>0.905571</td>\n",
       "      <td>0.085369</td>\n",
       "      <td>0.91161</td>\n",
       "      <td>...</td>\n",
       "      <td>0.116947</td>\n",
       "      <td>0.139505</td>\n",
       "      <td>0.964011</td>\n",
       "      <td>0.872980</td>\n",
       "      <td>0.020270</td>\n",
       "      <td>0.070460</td>\n",
       "      <td>0.965823</td>\n",
       "      <td>0.880454</td>\n",
       "      <td>20540.0</td>\n",
       "      <td>69170.0</td>\n",
       "    </tr>\n",
       "    <tr>\n",
       "      <th>0</th>\n",
       "      <td>14</td>\n",
       "      <td>219247e9ecb778a4976b4a638b0a4612</td>\n",
       "      <td>{\"cutoff\": \"quantile_0.25\", \"eval_fairness_gro...</td>\n",
       "      <td>43.235929</td>\n",
       "      <td>89710</td>\n",
       "      <td>1.0</td>\n",
       "      <td>0.218611</td>\n",
       "      <td>0.758152</td>\n",
       "      <td>0.204905</td>\n",
       "      <td>0.77433</td>\n",
       "      <td>...</td>\n",
       "      <td>NaN</td>\n",
       "      <td>NaN</td>\n",
       "      <td>NaN</td>\n",
       "      <td>NaN</td>\n",
       "      <td>NaN</td>\n",
       "      <td>NaN</td>\n",
       "      <td>NaN</td>\n",
       "      <td>NaN</td>\n",
       "      <td>NaN</td>\n",
       "      <td>NaN</td>\n",
       "    </tr>\n",
       "    <tr>\n",
       "      <th>0</th>\n",
       "      <td>14</td>\n",
       "      <td>219247e9ecb778a4976b4a638b0a4612</td>\n",
       "      <td>{\"cutoff\": \"quantile_0.25\", \"eval_fairness_gro...</td>\n",
       "      <td>43.235929</td>\n",
       "      <td>89710</td>\n",
       "      <td>1.0</td>\n",
       "      <td>0.218611</td>\n",
       "      <td>0.758152</td>\n",
       "      <td>0.204905</td>\n",
       "      <td>0.77433</td>\n",
       "      <td>...</td>\n",
       "      <td>0.119249</td>\n",
       "      <td>0.154076</td>\n",
       "      <td>0.903918</td>\n",
       "      <td>0.685307</td>\n",
       "      <td>0.060811</td>\n",
       "      <td>0.180197</td>\n",
       "      <td>0.907984</td>\n",
       "      <td>0.703079</td>\n",
       "      <td>20540.0</td>\n",
       "      <td>69170.0</td>\n",
       "    </tr>\n",
       "  </tbody>\n",
       "</table>\n",
       "<p>4 rows × 50 columns</p>\n",
       "</div>"
      ],
      "text/plain": [
       "  run_no                       universe_id  \\\n",
       "0     14  219247e9ecb778a4976b4a638b0a4612   \n",
       "0     14  219247e9ecb778a4976b4a638b0a4612   \n",
       "0     14  219247e9ecb778a4976b4a638b0a4612   \n",
       "0     14  219247e9ecb778a4976b4a638b0a4612   \n",
       "\n",
       "                                   universe_settings  execution_time  \\\n",
       "0  {\"cutoff\": \"quantile_0.1\", \"eval_fairness_grou...       43.235929   \n",
       "0  {\"cutoff\": \"quantile_0.1\", \"eval_fairness_grou...       43.235929   \n",
       "0  {\"cutoff\": \"quantile_0.25\", \"eval_fairness_gro...       43.235929   \n",
       "0  {\"cutoff\": \"quantile_0.25\", \"eval_fairness_gro...       43.235929   \n",
       "\n",
       "   test_size_n  test_size_frac  fair_main_equalized_odds_difference  \\\n",
       "0        89710             1.0                             0.091030   \n",
       "0        89710             1.0                             0.091030   \n",
       "0        89710             1.0                             0.218611   \n",
       "0        89710             1.0                             0.218611   \n",
       "\n",
       "   fair_main_equalized_odds_ratio  fair_main_demographic_parity_difference  \\\n",
       "0                        0.905571                                 0.085369   \n",
       "0                        0.905571                                 0.085369   \n",
       "0                        0.758152                                 0.204905   \n",
       "0                        0.758152                                 0.204905   \n",
       "\n",
       "   fair_main_demographic_parity_ratio  ...  perf_grp_precision_0  \\\n",
       "0                             0.91161  ...                   NaN   \n",
       "0                             0.91161  ...              0.116947   \n",
       "0                             0.77433  ...                   NaN   \n",
       "0                             0.77433  ...              0.119249   \n",
       "\n",
       "   perf_grp_precision_1  perf_grp_false positive rate_0  \\\n",
       "0                   NaN                             NaN   \n",
       "0              0.139505                        0.964011   \n",
       "0                   NaN                             NaN   \n",
       "0              0.154076                        0.903918   \n",
       "\n",
       "   perf_grp_false positive rate_1  perf_grp_false negative rate_0  \\\n",
       "0                             NaN                             NaN   \n",
       "0                        0.872980                        0.020270   \n",
       "0                             NaN                             NaN   \n",
       "0                        0.685307                        0.060811   \n",
       "\n",
       "   perf_grp_false negative rate_1  perf_grp_selection rate_0  \\\n",
       "0                             NaN                        NaN   \n",
       "0                        0.070460                   0.965823   \n",
       "0                             NaN                        NaN   \n",
       "0                        0.180197                   0.907984   \n",
       "\n",
       "   perf_grp_selection rate_1  perf_grp_count_0  perf_grp_count_1  \n",
       "0                        NaN               NaN               NaN  \n",
       "0                   0.880454           20540.0           69170.0  \n",
       "0                        NaN               NaN               NaN  \n",
       "0                   0.703079           20540.0           69170.0  \n",
       "\n",
       "[4 rows x 50 columns]"
      ]
     },
     "execution_count": 79,
     "metadata": {},
     "output_type": "execute_result"
    }
   ],
   "source": [
    "final_output = universe_analysis.generate_final_output(\n",
    "    y_pred_prob=probs_test,\n",
    "    y_test=y_true,\n",
    "    org_test=org_test,\n",
    "    filter_data=filter_sub_universe_data,\n",
    "    cp_metrics_df=cp_metrics_df,\n",
    "    save=True,\n",
    ")\n",
    "final_output"
   ]
  },
  {
   "cell_type": "code",
   "execution_count": null,
   "id": "721ff514-cb11-46f8-b6fc-50392f74b5cb",
   "metadata": {
    "papermill": {
     "duration": 0.030462,
     "end_time": "2025-07-30T21:43:08.291028",
     "exception": false,
     "start_time": "2025-07-30T21:43:08.260566",
     "status": "completed"
    },
    "tags": []
   },
   "outputs": [],
   "source": []
  }
 ],
 "metadata": {
  "celltoolbar": "Tags",
  "kernelspec": {
   "display_name": "Python (CMA Fairness)",
   "language": "python",
   "name": "cma_fair_env"
  },
  "language_info": {
   "codemirror_mode": {
    "name": "ipython",
    "version": 3
   },
   "file_extension": ".py",
   "mimetype": "text/x-python",
   "name": "python",
   "nbconvert_exporter": "python",
   "pygments_lexer": "ipython3",
   "version": "3.10.12"
  },
  "papermill": {
   "default_parameters": {},
   "duration": 58.851158,
   "end_time": "2025-07-30T21:43:09.041125",
   "environment_variables": {},
   "exception": null,
   "input_path": "universe_analysis.ipynb",
   "output_path": "output/runs/14/notebooks/m_14-219247e9ecb778a4976b4a638b0a4612.ipynb",
   "parameters": {
    "output_dir": "output",
    "run_no": "14",
    "seed": "2023",
    "universe": "{\"cutoff\": [\"quantile_0.1\", \"quantile_0.25\"], \"eval_fairness_grouping\": [\"majority-minority\", \"nationality-all\"], \"exclude_features\": \"none\", \"exclude_subgroups\": \"drop-non-german\", \"model\": \"elasticnet\", \"scale\": \"do-not-scale\", \"training_size\": \"1k\", \"training_year\": \"2012_14\"}",
    "universe_id": "219247e9ecb778a4976b4a638b0a4612"
   },
   "start_time": "2025-07-30T21:42:10.189967",
   "version": "2.6.0"
  }
 },
 "nbformat": 4,
 "nbformat_minor": 5
}