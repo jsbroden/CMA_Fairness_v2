{
 "cells": [
  {
   "cell_type": "code",
   "execution_count": 1,
   "id": "f159f837-637b-42ba-96b5-ec9a68c44524",
   "metadata": {
    "execution": {
     "iopub.execute_input": "2025-07-30T21:26:48.319646Z",
     "iopub.status.busy": "2025-07-30T21:26:48.319124Z",
     "iopub.status.idle": "2025-07-30T21:26:48.332167Z",
     "shell.execute_reply": "2025-07-30T21:26:48.331190Z"
    },
    "papermill": {
     "duration": 0.034558,
     "end_time": "2025-07-30T21:26:48.333965",
     "exception": false,
     "start_time": "2025-07-30T21:26:48.299407",
     "status": "completed"
    },
    "tags": []
   },
   "outputs": [
    {
     "name": "stdout",
     "output_type": "stream",
     "text": [
      "/dss/dsshome1/0C/ra93lal2/cma/CMA_Fairness_v2\n"
     ]
    },
    {
     "name": "stderr",
     "output_type": "stream",
     "text": [
      "/dss/dsshome1/0C/ra93lal2/.local/share/virtualenvs/CMA_Fairness_v2-3j10GkSs/lib/python3.10/site-packages/IPython/core/magics/osm.py:393: UserWarning: This is now an optional IPython functionality, using bookmarks requires you to install the `pickleshare` library.\n",
      "  bkms = self.shell.db.get('bookmarks', {})\n",
      "/dss/dsshome1/0C/ra93lal2/.local/share/virtualenvs/CMA_Fairness_v2-3j10GkSs/lib/python3.10/site-packages/IPython/core/magics/osm.py:417: UserWarning: This is now an optional IPython functionality, setting dhist requires you to install the `pickleshare` library.\n",
      "  self.shell.db['dhist'] = compress_dhist(dhist)[-100:]\n"
     ]
    }
   ],
   "source": [
    "%cd ~/cma/CMA_Fairness_v2"
   ]
  },
  {
   "cell_type": "markdown",
   "id": "de2603b9",
   "metadata": {
    "papermill": {
     "duration": 0.01844,
     "end_time": "2025-07-30T21:26:48.372317",
     "exception": false,
     "start_time": "2025-07-30T21:26:48.353877",
     "status": "completed"
    },
    "tags": []
   },
   "source": [
    "The following cell holds the definition of our parameters, these values can be overriden by rendering the with e.g. the following command:\n",
    "\n",
    "papermill -p alpha 0.2 -p ratio 0.3 universe_analysis.ipynb output/test_run.ipynb"
   ]
  },
  {
   "cell_type": "code",
   "execution_count": 2,
   "id": "a80968a0-40bb-4fa9-85ef-2d5eefb01975",
   "metadata": {
    "execution": {
     "iopub.execute_input": "2025-07-30T21:26:48.413639Z",
     "iopub.status.busy": "2025-07-30T21:26:48.412877Z",
     "iopub.status.idle": "2025-07-30T21:26:48.418799Z",
     "shell.execute_reply": "2025-07-30T21:26:48.417955Z"
    },
    "papermill": {
     "duration": 0.028217,
     "end_time": "2025-07-30T21:26:48.420478",
     "exception": false,
     "start_time": "2025-07-30T21:26:48.392261",
     "status": "completed"
    },
    "tags": []
   },
   "outputs": [
    {
     "name": "stdout",
     "output_type": "stream",
     "text": [
      "Current working directory: /dss/dsshome1/0C/ra93lal2/cma/CMA_Fairness_v2\n"
     ]
    }
   ],
   "source": [
    "import os\n",
    "print(\"Current working directory:\", os.getcwd())"
   ]
  },
  {
   "cell_type": "code",
   "execution_count": 3,
   "id": "2dce4c03",
   "metadata": {
    "execution": {
     "iopub.execute_input": "2025-07-30T21:26:48.462686Z",
     "iopub.status.busy": "2025-07-30T21:26:48.461829Z",
     "iopub.status.idle": "2025-07-30T21:26:48.468295Z",
     "shell.execute_reply": "2025-07-30T21:26:48.467377Z"
    },
    "papermill": {
     "duration": 0.029723,
     "end_time": "2025-07-30T21:26:48.470105",
     "exception": false,
     "start_time": "2025-07-30T21:26:48.440382",
     "status": "completed"
    },
    "tags": [
     "parameters"
    ]
   },
   "outputs": [],
   "source": [
    "run_no = 0\n",
    "universe_id = \"test\"\n",
    "universe = {\n",
    "    \"training_size\": \"25k\", # \"25k\", \"5k\", \"1k\"\n",
    "    \"training_year\": \"2014\", # \"2014\", \"2012_14\", \"2010_14\"\n",
    "    \"scale\": \"scale\", # \"scale\", \"do-not-scale\",\n",
    "    #\"stratify_split\": \"target\", # \"none\", \"target\", \"protected-attribute\", \"both\",\n",
    "    \"model\": \"elasticnet\", # \"logreg\", \"penalized_logreg\", \"rf\", \"gbm\", \"elasticnet\"\n",
    "    \"cutoff\": [\"quantile_0.15\", \"quantile_0.30\"],\n",
    "    \"exclude_features\": \"age\", # \"none\", \"nationality\", \"sex\", \"nationality-sex\", \"age\"\n",
    "    \"exclude_subgroups\": \"keep-all\", # \"keep-all\", \"drop-non-german\"\n",
    "    \"eval_fairness_grouping\": [\"majority-minority\", \"nationality-all\"]\n",
    "}\n",
    "\n",
    "output_dir=\"./output\"\n",
    "seed=0"
   ]
  },
  {
   "cell_type": "code",
   "execution_count": 4,
   "id": "612f992a",
   "metadata": {
    "execution": {
     "iopub.execute_input": "2025-07-30T21:26:48.510922Z",
     "iopub.status.busy": "2025-07-30T21:26:48.510274Z",
     "iopub.status.idle": "2025-07-30T21:26:48.516394Z",
     "shell.execute_reply": "2025-07-30T21:26:48.515211Z"
    },
    "papermill": {
     "duration": 0.02814,
     "end_time": "2025-07-30T21:26:48.518312",
     "exception": false,
     "start_time": "2025-07-30T21:26:48.490172",
     "status": "completed"
    },
    "tags": [
     "injected-parameters"
    ]
   },
   "outputs": [],
   "source": [
    "# Parameters\n",
    "universe_id = \"364e2a79811f38b07a79cad8d20a7274\"\n",
    "run_no = \"14\"\n",
    "universe = \"{\\\"cutoff\\\": [\\\"quantile_0.1\\\", \\\"quantile_0.25\\\"], \\\"eval_fairness_grouping\\\": [\\\"majority-minority\\\", \\\"nationality-all\\\"], \\\"exclude_features\\\": \\\"nationality-sex\\\", \\\"exclude_subgroups\\\": \\\"drop-non-german\\\", \\\"model\\\": \\\"elasticnet\\\", \\\"scale\\\": \\\"scale\\\", \\\"training_size\\\": \\\"1k\\\", \\\"training_year\\\": \\\"2014\\\"}\"\n",
    "output_dir = \"output\"\n",
    "seed = \"2023\"\n"
   ]
  },
  {
   "cell_type": "code",
   "execution_count": 5,
   "id": "1650acaf",
   "metadata": {
    "execution": {
     "iopub.execute_input": "2025-07-30T21:26:48.562050Z",
     "iopub.status.busy": "2025-07-30T21:26:48.561521Z",
     "iopub.status.idle": "2025-07-30T21:26:48.567087Z",
     "shell.execute_reply": "2025-07-30T21:26:48.566017Z"
    },
    "papermill": {
     "duration": 0.029141,
     "end_time": "2025-07-30T21:26:48.568802",
     "exception": false,
     "start_time": "2025-07-30T21:26:48.539661",
     "status": "completed"
    },
    "tags": []
   },
   "outputs": [],
   "source": [
    "import json\n",
    "# Parse universe into dict if it is passed as a string\n",
    "if isinstance(universe, str):\n",
    "    universe = json.loads(universe)"
   ]
  },
  {
   "cell_type": "code",
   "execution_count": 6,
   "id": "16620c48",
   "metadata": {
    "execution": {
     "iopub.execute_input": "2025-07-30T21:26:48.609744Z",
     "iopub.status.busy": "2025-07-30T21:26:48.609100Z",
     "iopub.status.idle": "2025-07-30T21:26:48.658155Z",
     "shell.execute_reply": "2025-07-30T21:26:48.657288Z"
    },
    "papermill": {
     "duration": 0.071146,
     "end_time": "2025-07-30T21:26:48.659921",
     "exception": false,
     "start_time": "2025-07-30T21:26:48.588775",
     "status": "completed"
    },
    "tags": []
   },
   "outputs": [],
   "source": [
    "# Auto-reload the custom package\n",
    "%load_ext autoreload\n",
    "%autoreload 1\n",
    "%aimport fairness_multiverse"
   ]
  },
  {
   "cell_type": "code",
   "execution_count": 7,
   "id": "01c5c9f3",
   "metadata": {
    "execution": {
     "iopub.execute_input": "2025-07-30T21:26:48.704975Z",
     "iopub.status.busy": "2025-07-30T21:26:48.704127Z",
     "iopub.status.idle": "2025-07-30T21:26:50.626653Z",
     "shell.execute_reply": "2025-07-30T21:26:50.625553Z"
    },
    "papermill": {
     "duration": 1.945782,
     "end_time": "2025-07-30T21:26:50.628647",
     "exception": false,
     "start_time": "2025-07-30T21:26:48.682865",
     "status": "completed"
    },
    "tags": []
   },
   "outputs": [],
   "source": [
    "from fairness_multiverse.universe import UniverseAnalysis\n",
    "\n",
    "universe_analysis = UniverseAnalysis(\n",
    "    run_no = run_no,\n",
    "    universe_id = universe_id,\n",
    "    universe = universe,\n",
    "    output_dir=output_dir,\n",
    ")"
   ]
  },
  {
   "cell_type": "code",
   "execution_count": 8,
   "id": "106241f5",
   "metadata": {
    "execution": {
     "iopub.execute_input": "2025-07-30T21:26:50.670401Z",
     "iopub.status.busy": "2025-07-30T21:26:50.669948Z",
     "iopub.status.idle": "2025-07-30T21:26:50.676880Z",
     "shell.execute_reply": "2025-07-30T21:26:50.675856Z"
    },
    "papermill": {
     "duration": 0.029016,
     "end_time": "2025-07-30T21:26:50.678631",
     "exception": false,
     "start_time": "2025-07-30T21:26:50.649615",
     "status": "completed"
    },
    "tags": []
   },
   "outputs": [
    {
     "name": "stdout",
     "output_type": "stream",
     "text": [
      "Using Seed: 2023\n"
     ]
    }
   ],
   "source": [
    "import numpy as np\n",
    "parsed_seed = int(seed)\n",
    "np.random.seed(parsed_seed)\n",
    "print(f\"Using Seed: {parsed_seed}\")"
   ]
  },
  {
   "cell_type": "markdown",
   "id": "e0ebdc57",
   "metadata": {
    "papermill": {
     "duration": 0.020059,
     "end_time": "2025-07-30T21:26:50.720428",
     "exception": false,
     "start_time": "2025-07-30T21:26:50.700369",
     "status": "completed"
    },
    "tags": []
   },
   "source": [
    "# Loading Data"
   ]
  },
  {
   "cell_type": "markdown",
   "id": "681925a3",
   "metadata": {
    "papermill": {
     "duration": 0.019448,
     "end_time": "2025-07-30T21:26:50.759288",
     "exception": false,
     "start_time": "2025-07-30T21:26:50.739840",
     "status": "completed"
    },
    "tags": []
   },
   "source": [
    "Load siab_train, siab_test, siab_calib and/or \n",
    "load siab_train_features, siab_train_labels"
   ]
  },
  {
   "cell_type": "code",
   "execution_count": 9,
   "id": "f0496b8a",
   "metadata": {
    "execution": {
     "iopub.execute_input": "2025-07-30T21:26:50.801121Z",
     "iopub.status.busy": "2025-07-30T21:26:50.800460Z",
     "iopub.status.idle": "2025-07-30T21:27:03.578679Z",
     "shell.execute_reply": "2025-07-30T21:27:03.577474Z"
    },
    "papermill": {
     "duration": 12.800389,
     "end_time": "2025-07-30T21:27:03.579966",
     "exception": false,
     "start_time": "2025-07-30T21:26:50.779577",
     "status": "completed"
    },
    "tags": []
   },
   "outputs": [
    {
     "name": "stdout",
     "output_type": "stream",
     "text": [
      "Loading SIAB data from cache: data/siab_cached.csv.gz\n"
     ]
    },
    {
     "name": "stdout",
     "output_type": "stream",
     "text": [
      "(643690, 164)\n"
     ]
    }
   ],
   "source": [
    "from pathlib import Path\n",
    "import pandas as pd\n",
    "\n",
    "# File paths\n",
    "raw_file = Path(\"data/raw/siab.csv\")\n",
    "cache_file = Path(\"data/siab_cached.csv.gz\")\n",
    "\n",
    "# Ensure cache directory exists\n",
    "cache_file.parent.mkdir(parents=True, exist_ok=True)\n",
    "\n",
    "# Load with simple caching\n",
    "if cache_file.exists():\n",
    "    print(f\"Loading SIAB data from cache: {cache_file}\")\n",
    "    siab = pd.read_csv(cache_file, compression='gzip')\n",
    "else:\n",
    "    print(f\"Cache not found. Reading raw SIAB data: {raw_file}\")\n",
    "    siab = pd.read_csv(raw_file)\n",
    "    siab.to_csv(cache_file, index=False, compression='gzip')\n",
    "    print(f\"Cached SIAB data to: {cache_file}\")\n",
    "\n",
    "# Now use `siab` DataFrame as needed\n",
    "print(siab.shape)"
   ]
  },
  {
   "cell_type": "code",
   "execution_count": 10,
   "id": "db0ca512-5f53-4dba-abdb-a2888bca41ba",
   "metadata": {
    "execution": {
     "iopub.execute_input": "2025-07-30T21:27:03.606052Z",
     "iopub.status.busy": "2025-07-30T21:27:03.605677Z",
     "iopub.status.idle": "2025-07-30T21:27:03.610394Z",
     "shell.execute_reply": "2025-07-30T21:27:03.609685Z"
    },
    "papermill": {
     "duration": 0.019093,
     "end_time": "2025-07-30T21:27:03.612577",
     "exception": false,
     "start_time": "2025-07-30T21:27:03.593484",
     "status": "completed"
    },
    "tags": []
   },
   "outputs": [],
   "source": [
    "#siab"
   ]
  },
  {
   "cell_type": "code",
   "execution_count": 11,
   "id": "a0edb063",
   "metadata": {
    "execution": {
     "iopub.execute_input": "2025-07-30T21:27:03.670473Z",
     "iopub.status.busy": "2025-07-30T21:27:03.670130Z",
     "iopub.status.idle": "2025-07-30T21:27:03.674093Z",
     "shell.execute_reply": "2025-07-30T21:27:03.673316Z"
    },
    "papermill": {
     "duration": 0.034853,
     "end_time": "2025-07-30T21:27:03.675959",
     "exception": false,
     "start_time": "2025-07-30T21:27:03.641106",
     "status": "completed"
    },
    "tags": []
   },
   "outputs": [],
   "source": [
    "#import pandas as pd\n",
    "#\n",
    "#X_train = pd.read_csv(\"./data/X_train.csv\")\n",
    "#y_train = pd.read_csv(\"./data/y_train.csv\")"
   ]
  },
  {
   "cell_type": "code",
   "execution_count": 12,
   "id": "63d08085",
   "metadata": {
    "execution": {
     "iopub.execute_input": "2025-07-30T21:27:03.733598Z",
     "iopub.status.busy": "2025-07-30T21:27:03.733229Z",
     "iopub.status.idle": "2025-07-30T21:27:03.739322Z",
     "shell.execute_reply": "2025-07-30T21:27:03.738287Z"
    },
    "papermill": {
     "duration": 0.034779,
     "end_time": "2025-07-30T21:27:03.740945",
     "exception": false,
     "start_time": "2025-07-30T21:27:03.706166",
     "status": "completed"
    },
    "tags": []
   },
   "outputs": [],
   "source": [
    "#X_test = pd.read_csv(\"./data/X_test.csv\")\n",
    "#y_true = pd.read_csv(\"./data/y_test.csv\")"
   ]
  },
  {
   "cell_type": "code",
   "execution_count": 13,
   "id": "98a8d0fa-1d3d-4ed8-bb2c-281470e24add",
   "metadata": {
    "execution": {
     "iopub.execute_input": "2025-07-30T21:27:03.786764Z",
     "iopub.status.busy": "2025-07-30T21:27:03.785896Z",
     "iopub.status.idle": "2025-07-30T21:27:03.791017Z",
     "shell.execute_reply": "2025-07-30T21:27:03.790031Z"
    },
    "papermill": {
     "duration": 0.028847,
     "end_time": "2025-07-30T21:27:03.792989",
     "exception": false,
     "start_time": "2025-07-30T21:27:03.764142",
     "status": "completed"
    },
    "tags": []
   },
   "outputs": [],
   "source": [
    "# Calibration data for conformal\n",
    "#X_calib = pd.read_csv(\"./data/X_calib.csv\")\n",
    "#y_calib = pd.read_csv(\"./data/y_calib.csv\")"
   ]
  },
  {
   "cell_type": "markdown",
   "id": "997051c5-15bd-4b69-9786-c3001a3ce484",
   "metadata": {
    "papermill": {
     "duration": 0.011539,
     "end_time": "2025-07-30T21:27:03.830648",
     "exception": false,
     "start_time": "2025-07-30T21:27:03.819109",
     "status": "completed"
    },
    "tags": []
   },
   "source": [
    "# Splitting Data and Setting Training Data Size"
   ]
  },
  {
   "cell_type": "code",
   "execution_count": 14,
   "id": "e993b61f-042d-41a6-8c81-f55681f86335",
   "metadata": {
    "execution": {
     "iopub.execute_input": "2025-07-30T21:27:03.852497Z",
     "iopub.status.busy": "2025-07-30T21:27:03.852144Z",
     "iopub.status.idle": "2025-07-30T21:27:03.864503Z",
     "shell.execute_reply": "2025-07-30T21:27:03.863406Z"
    },
    "papermill": {
     "duration": 0.025004,
     "end_time": "2025-07-30T21:27:03.865942",
     "exception": false,
     "start_time": "2025-07-30T21:27:03.840938",
     "status": "completed"
    },
    "tags": []
   },
   "outputs": [],
   "source": [
    "def sample_by_year_size(df,\n",
    "                        training_year: str,\n",
    "                        training_size: str,\n",
    "                        random_state: int = 42):\n",
    "    # --- parse training_year into a list of int years ---\n",
    "    if \"_\" in training_year:\n",
    "        start_str, end_str = training_year.split(\"_\", 1)\n",
    "        start = int(start_str)\n",
    "        end   = int(end_str) if len(end_str) == 4 else (int(end_str) + (start // 100)*100)\n",
    "        years = list(range(start, end + 1))\n",
    "    else:\n",
    "        years = [int(training_year)]\n",
    "\n",
    "    df = df[df[\"year\"].isin(years)].reset_index(drop=True)\n",
    "\n",
    "    # --- map training_size to total number of samples ---\n",
    "    total_map = {\"25k\": 25_000, \"5k\": 5_000, \"1k\": 1_000}\n",
    "    if training_size not in total_map:\n",
    "        return df  # e.g. \"all\"\n",
    "\n",
    "    total_samples = total_map[training_size]\n",
    "    n_years       = len(years)\n",
    "    base          = total_samples // n_years\n",
    "    remainder     = total_samples % n_years\n",
    "\n",
    "    # --- build a dict: year -> how many to sample ---\n",
    "    # give +1 to the first `remainder` years in ascending order\n",
    "    quotas = {\n",
    "        year: base + (1 if idx < remainder else 0)\n",
    "        for idx, year in enumerate(sorted(years))\n",
    "    }\n",
    "\n",
    "    # --- sample per‐year according to the quota dict ---\n",
    "    sampled = (\n",
    "        df\n",
    "        .groupby(\"year\", group_keys=False)\n",
    "        .apply(lambda grp: grp.sample(\n",
    "            n=min(len(grp), quotas[grp.name]),\n",
    "            random_state=random_state))\n",
    "        .reset_index(drop=True)\n",
    "    )\n",
    "\n",
    "    return sampled"
   ]
  },
  {
   "cell_type": "code",
   "execution_count": 15,
   "id": "c0ccd338-0e02-41f3-a09d-f56f9266e3fb",
   "metadata": {
    "execution": {
     "iopub.execute_input": "2025-07-30T21:27:03.890685Z",
     "iopub.status.busy": "2025-07-30T21:27:03.890119Z",
     "iopub.status.idle": "2025-07-30T21:27:04.006748Z",
     "shell.execute_reply": "2025-07-30T21:27:04.005630Z"
    },
    "papermill": {
     "duration": 0.132116,
     "end_time": "2025-07-30T21:27:04.009487",
     "exception": false,
     "start_time": "2025-07-30T21:27:03.877371",
     "status": "completed"
    },
    "tags": []
   },
   "outputs": [],
   "source": [
    "#universe[\"training_size\"]"
   ]
  },
  {
   "cell_type": "code",
   "execution_count": 16,
   "id": "ca707fd7-8047-4acd-bfa5-66248fbbf8e6",
   "metadata": {
    "execution": {
     "iopub.execute_input": "2025-07-30T21:27:04.053016Z",
     "iopub.status.busy": "2025-07-30T21:27:04.052560Z",
     "iopub.status.idle": "2025-07-30T21:27:04.056730Z",
     "shell.execute_reply": "2025-07-30T21:27:04.055732Z"
    },
    "papermill": {
     "duration": 0.025962,
     "end_time": "2025-07-30T21:27:04.058061",
     "exception": false,
     "start_time": "2025-07-30T21:27:04.032099",
     "status": "completed"
    },
    "tags": []
   },
   "outputs": [],
   "source": [
    "#universe[\"training_year\"]"
   ]
  },
  {
   "cell_type": "code",
   "execution_count": 17,
   "id": "aea9c6ef-6f46-42c8-85eb-5a62025c1508",
   "metadata": {
    "execution": {
     "iopub.execute_input": "2025-07-30T21:27:04.082991Z",
     "iopub.status.busy": "2025-07-30T21:27:04.082642Z",
     "iopub.status.idle": "2025-07-30T21:27:04.289352Z",
     "shell.execute_reply": "2025-07-30T21:27:04.288354Z"
    },
    "papermill": {
     "duration": 0.220407,
     "end_time": "2025-07-30T21:27:04.290961",
     "exception": false,
     "start_time": "2025-07-30T21:27:04.070554",
     "status": "completed"
    },
    "tags": []
   },
   "outputs": [],
   "source": [
    "siab_train = sample_by_year_size(siab,\n",
    "                               training_year=universe[\"training_year\"],\n",
    "                               training_size=universe[\"training_size\"])"
   ]
  },
  {
   "cell_type": "code",
   "execution_count": 18,
   "id": "8d3afb32-789d-442c-8d5d-9f5aa8dd2eed",
   "metadata": {
    "execution": {
     "iopub.execute_input": "2025-07-30T21:27:04.336520Z",
     "iopub.status.busy": "2025-07-30T21:27:04.335965Z",
     "iopub.status.idle": "2025-07-30T21:27:04.340965Z",
     "shell.execute_reply": "2025-07-30T21:27:04.339996Z"
    },
    "papermill": {
     "duration": 0.029876,
     "end_time": "2025-07-30T21:27:04.342530",
     "exception": false,
     "start_time": "2025-07-30T21:27:04.312654",
     "status": "completed"
    },
    "tags": []
   },
   "outputs": [],
   "source": [
    "#siab_train.shape"
   ]
  },
  {
   "cell_type": "code",
   "execution_count": 19,
   "id": "d582db68-1a4c-47fb-84fc-08518dc1975a",
   "metadata": {
    "execution": {
     "iopub.execute_input": "2025-07-30T21:27:04.386425Z",
     "iopub.status.busy": "2025-07-30T21:27:04.385914Z",
     "iopub.status.idle": "2025-07-30T21:27:04.391379Z",
     "shell.execute_reply": "2025-07-30T21:27:04.390456Z"
    },
    "papermill": {
     "duration": 0.027774,
     "end_time": "2025-07-30T21:27:04.393139",
     "exception": false,
     "start_time": "2025-07-30T21:27:04.365365",
     "status": "completed"
    },
    "tags": []
   },
   "outputs": [],
   "source": [
    "#display(siab_train.groupby(\"year\").size())"
   ]
  },
  {
   "cell_type": "code",
   "execution_count": 20,
   "id": "a561edb4-d032-42cb-8256-22eac1111c64",
   "metadata": {
    "execution": {
     "iopub.execute_input": "2025-07-30T21:27:04.443195Z",
     "iopub.status.busy": "2025-07-30T21:27:04.442210Z",
     "iopub.status.idle": "2025-07-30T21:27:04.654104Z",
     "shell.execute_reply": "2025-07-30T21:27:04.652923Z"
    },
    "papermill": {
     "duration": 0.238457,
     "end_time": "2025-07-30T21:27:04.656300",
     "exception": false,
     "start_time": "2025-07-30T21:27:04.417843",
     "status": "completed"
    },
    "tags": []
   },
   "outputs": [],
   "source": [
    "#siab_train = siab_s[siab_s.year < 2015]\n",
    "siab_calib = siab[siab.year == 2015]\n",
    "siab_test = siab[siab.year == 2016]"
   ]
  },
  {
   "cell_type": "code",
   "execution_count": 21,
   "id": "472de16f-c3db-4916-846b-1f0de9cf1746",
   "metadata": {
    "execution": {
     "iopub.execute_input": "2025-07-30T21:27:04.706365Z",
     "iopub.status.busy": "2025-07-30T21:27:04.705667Z",
     "iopub.status.idle": "2025-07-30T21:27:04.714206Z",
     "shell.execute_reply": "2025-07-30T21:27:04.712958Z"
    },
    "papermill": {
     "duration": 0.036284,
     "end_time": "2025-07-30T21:27:04.716372",
     "exception": false,
     "start_time": "2025-07-30T21:27:04.680088",
     "status": "completed"
    },
    "tags": []
   },
   "outputs": [],
   "source": [
    "X_train = siab_train.iloc[:,4:164]\n",
    "y_train = siab_train.iloc[:, [3]]"
   ]
  },
  {
   "cell_type": "code",
   "execution_count": 22,
   "id": "828c96af-f43a-4ed6-ba47-8ac73a47d56c",
   "metadata": {
    "execution": {
     "iopub.execute_input": "2025-07-30T21:27:04.768548Z",
     "iopub.status.busy": "2025-07-30T21:27:04.767445Z",
     "iopub.status.idle": "2025-07-30T21:27:04.836540Z",
     "shell.execute_reply": "2025-07-30T21:27:04.835489Z"
    },
    "papermill": {
     "duration": 0.097099,
     "end_time": "2025-07-30T21:27:04.838615",
     "exception": false,
     "start_time": "2025-07-30T21:27:04.741516",
     "status": "completed"
    },
    "tags": []
   },
   "outputs": [],
   "source": [
    "X_calib = siab_calib.iloc[:,4:164]\n",
    "y_calib = siab_calib.iloc[:, [3]]"
   ]
  },
  {
   "cell_type": "code",
   "execution_count": 23,
   "id": "c34be9c3-6bd6-476e-acd3-845840e303be",
   "metadata": {
    "execution": {
     "iopub.execute_input": "2025-07-30T21:27:04.874577Z",
     "iopub.status.busy": "2025-07-30T21:27:04.874029Z",
     "iopub.status.idle": "2025-07-30T21:27:04.930036Z",
     "shell.execute_reply": "2025-07-30T21:27:04.928909Z"
    },
    "papermill": {
     "duration": 0.071543,
     "end_time": "2025-07-30T21:27:04.932660",
     "exception": false,
     "start_time": "2025-07-30T21:27:04.861117",
     "status": "completed"
    },
    "tags": []
   },
   "outputs": [],
   "source": [
    "X_test = siab_test.iloc[:,4:164]\n",
    "y_true = siab_test.iloc[:, [3]]"
   ]
  },
  {
   "cell_type": "markdown",
   "id": "9901737e-04df-44f0-9100-f5ad144ed040",
   "metadata": {
    "papermill": {
     "duration": 0.022602,
     "end_time": "2025-07-30T21:27:04.979712",
     "exception": false,
     "start_time": "2025-07-30T21:27:04.957110",
     "status": "completed"
    },
    "tags": []
   },
   "source": [
    "# Splitting Data and Setting Training Data Size OLD VERSION"
   ]
  },
  {
   "cell_type": "code",
   "execution_count": 24,
   "id": "acbc8f7d-8fc8-4e86-8c59-5dcb0f58384b",
   "metadata": {
    "execution": {
     "iopub.execute_input": "2025-07-30T21:27:05.028026Z",
     "iopub.status.busy": "2025-07-30T21:27:05.026937Z",
     "iopub.status.idle": "2025-07-30T21:27:05.033806Z",
     "shell.execute_reply": "2025-07-30T21:27:05.032771Z"
    },
    "papermill": {
     "duration": 0.033478,
     "end_time": "2025-07-30T21:27:05.035673",
     "exception": false,
     "start_time": "2025-07-30T21:27:05.002195",
     "status": "completed"
    },
    "tags": []
   },
   "outputs": [],
   "source": [
    "#def sample_by_year(df, training_size, random_state=42):\n",
    "#    if training_size == \"2014\":\n",
    "#        return df[df[\"year\"] == 2014].reset_index(drop=True)\n",
    "#    \n",
    "#    size_map = {\n",
    "#        \"25k\": 5000,\n",
    "#        \"5k\": 1000,\n",
    "#        \"1k\": 200\n",
    "#    }\n",
    "#\n",
    "#    if training_size not in size_map:\n",
    "#        return df.reset_index(drop=True)  # use all data\n",
    "#\n",
    "#    n_per_year = size_map[training_size]\n",
    "#    grouped = df.groupby(\"year\")\n",
    "#    sampled = grouped.apply(lambda x: x.sample(n=min(n_per_year, len(x)), random_state=random_state))\n",
    "#    return sampled.reset_index(drop=True)"
   ]
  },
  {
   "cell_type": "code",
   "execution_count": 25,
   "id": "6d931f52-beaf-43ff-9e78-9d44a448d54e",
   "metadata": {
    "execution": {
     "iopub.execute_input": "2025-07-30T21:27:05.084549Z",
     "iopub.status.busy": "2025-07-30T21:27:05.084004Z",
     "iopub.status.idle": "2025-07-30T21:27:05.090009Z",
     "shell.execute_reply": "2025-07-30T21:27:05.088910Z"
    },
    "papermill": {
     "duration": 0.034546,
     "end_time": "2025-07-30T21:27:05.093593",
     "exception": false,
     "start_time": "2025-07-30T21:27:05.059047",
     "status": "completed"
    },
    "tags": []
   },
   "outputs": [],
   "source": [
    "#siab_s = sample_by_year(siab, universe[\"training_size\"])"
   ]
  },
  {
   "cell_type": "code",
   "execution_count": 26,
   "id": "5db0a40e-a4e2-4920-be85-b12ae061d70d",
   "metadata": {
    "execution": {
     "iopub.execute_input": "2025-07-30T21:27:05.139123Z",
     "iopub.status.busy": "2025-07-30T21:27:05.138652Z",
     "iopub.status.idle": "2025-07-30T21:27:05.143598Z",
     "shell.execute_reply": "2025-07-30T21:27:05.142626Z"
    },
    "papermill": {
     "duration": 0.028423,
     "end_time": "2025-07-30T21:27:05.145257",
     "exception": false,
     "start_time": "2025-07-30T21:27:05.116834",
     "status": "completed"
    },
    "tags": []
   },
   "outputs": [],
   "source": [
    "#display(siab_s.groupby(\"year\").size())"
   ]
  },
  {
   "cell_type": "code",
   "execution_count": 27,
   "id": "e6c733c5",
   "metadata": {
    "execution": {
     "iopub.execute_input": "2025-07-30T21:27:05.189943Z",
     "iopub.status.busy": "2025-07-30T21:27:05.189223Z",
     "iopub.status.idle": "2025-07-30T21:27:05.288465Z",
     "shell.execute_reply": "2025-07-30T21:27:05.287431Z"
    },
    "papermill": {
     "duration": 0.122758,
     "end_time": "2025-07-30T21:27:05.290292",
     "exception": false,
     "start_time": "2025-07-30T21:27:05.167534",
     "status": "completed"
    },
    "tags": []
   },
   "outputs": [],
   "source": [
    "# Auxiliary data needed downstream in the pipeline\n",
    "\n",
    "org_train = X_train.copy()\n",
    "org_test = X_test.copy()\n",
    "org_calib = X_calib.copy()"
   ]
  },
  {
   "cell_type": "code",
   "execution_count": 28,
   "id": "1466abac-c6da-4492-a62f-4240ae3783af",
   "metadata": {
    "execution": {
     "iopub.execute_input": "2025-07-30T21:27:05.354564Z",
     "iopub.status.busy": "2025-07-30T21:27:05.353853Z",
     "iopub.status.idle": "2025-07-30T21:27:05.360588Z",
     "shell.execute_reply": "2025-07-30T21:27:05.359543Z"
    },
    "papermill": {
     "duration": 0.033751,
     "end_time": "2025-07-30T21:27:05.362561",
     "exception": false,
     "start_time": "2025-07-30T21:27:05.328810",
     "status": "completed"
    },
    "tags": []
   },
   "outputs": [],
   "source": [
    "# put in other script?\n",
    "# Group sizes\n",
    "\n",
    "#def calculate_percentages(df, df_name):\n",
    "#    total_entries = len(df)\n",
    "#\n",
    "#    female_pct = (df['frau1'] == 1).mean() * 100\n",
    "#    non_german_pct = ((df['maxdeutsch1'] == 0) & (df['maxdeutsch.Missing.'] == 0)).mean() * 100\n",
    "#    non_german_male_pct = ((df['frau1'] == 0) & (df['maxdeutsch1'] == 0) & (df['maxdeutsch.Missing.'] == 0)).mean() * 100\n",
    "#    non_german_female_pct = ((df['frau1'] == 1) & (df['maxdeutsch1'] == 0) & (df['maxdeutsch.Missing.'] == 0)).mean() * 100\n",
    "#\n",
    "#    print(f\"--- {df_name} ---\")\n",
    "#    print(f\"Female: {female_pct:.2f}%\")\n",
    "#    print(f\"Non-German: {non_german_pct:.2f}%\")\n",
    "#    print(f\"Non-German Male: {non_german_male_pct:.2f}%\")\n",
    "#    print(f\"Non-German Female: {non_german_female_pct:.2f}%\\n\")\n",
    "#\n",
    "## Calculate for each DataFrame\n",
    "#calculate_percentages(siab_calib, \"siab_calib\")\n",
    "#calculate_percentages(siab_test, \"siab_test\")\n",
    "#calculate_percentages(siab_train, \"siab_train\")"
   ]
  },
  {
   "cell_type": "markdown",
   "id": "0a4a1b33",
   "metadata": {
    "papermill": {
     "duration": 0.024137,
     "end_time": "2025-07-30T21:27:05.411356",
     "exception": false,
     "start_time": "2025-07-30T21:27:05.387219",
     "status": "completed"
    },
    "tags": []
   },
   "source": [
    "# Preprocessing Data"
   ]
  },
  {
   "cell_type": "code",
   "execution_count": 29,
   "id": "ca879031",
   "metadata": {
    "execution": {
     "iopub.execute_input": "2025-07-30T21:27:05.463538Z",
     "iopub.status.busy": "2025-07-30T21:27:05.463103Z",
     "iopub.status.idle": "2025-07-30T21:27:05.468703Z",
     "shell.execute_reply": "2025-07-30T21:27:05.467883Z"
    },
    "papermill": {
     "duration": 0.046044,
     "end_time": "2025-07-30T21:27:05.482400",
     "exception": false,
     "start_time": "2025-07-30T21:27:05.436356",
     "status": "completed"
    },
    "tags": []
   },
   "outputs": [],
   "source": [
    "# EXCLUDE PROTECTED FEATURES\n",
    "# ----------------------\n",
    "# \"exclude_features\": \"none\", # \"nationality\", \"sex\", \"nationality-sex\"\n",
    "\n",
    "excluded_features = universe[\"exclude_features\"].split(\"-\") # split, e.g.: \"nationality-sex\" -> [\"nationality\", \"sex\"]\n",
    "excluded_features_dictionary = {\n",
    "    \"nationality\": [\"maxdeutsch1\", \"maxdeutsch.Missing.\"],\n",
    "    \"sex\": [\"frau1\"],\n",
    "    \"age\": [\"age\"],\n",
    "}\n"
   ]
  },
  {
   "cell_type": "code",
   "execution_count": 30,
   "id": "b745ac60",
   "metadata": {
    "execution": {
     "iopub.execute_input": "2025-07-30T21:27:05.546184Z",
     "iopub.status.busy": "2025-07-30T21:27:05.545399Z",
     "iopub.status.idle": "2025-07-30T21:27:05.551522Z",
     "shell.execute_reply": "2025-07-30T21:27:05.550536Z"
    },
    "papermill": {
     "duration": 0.031874,
     "end_time": "2025-07-30T21:27:05.553242",
     "exception": false,
     "start_time": "2025-07-30T21:27:05.521368",
     "status": "completed"
    },
    "tags": []
   },
   "outputs": [],
   "source": [
    "# Code nice names to column names\n",
    "\n",
    "excluded_features_columns = [\n",
    "    excluded_features_dictionary[f] for f in excluded_features if len(f) > 0 and f != \"none\"\n",
    "]"
   ]
  },
  {
   "cell_type": "code",
   "execution_count": 31,
   "id": "f84f73a2",
   "metadata": {
    "execution": {
     "iopub.execute_input": "2025-07-30T21:27:05.604020Z",
     "iopub.status.busy": "2025-07-30T21:27:05.603024Z",
     "iopub.status.idle": "2025-07-30T21:27:05.609802Z",
     "shell.execute_reply": "2025-07-30T21:27:05.608799Z"
    },
    "papermill": {
     "duration": 0.033111,
     "end_time": "2025-07-30T21:27:05.611443",
     "exception": false,
     "start_time": "2025-07-30T21:27:05.578332",
     "status": "completed"
    },
    "tags": []
   },
   "outputs": [],
   "source": [
    "from utils import flatten_once\n",
    "\n",
    "excluded_features_columns = flatten_once(excluded_features_columns)"
   ]
  },
  {
   "cell_type": "code",
   "execution_count": 32,
   "id": "884dea22",
   "metadata": {
    "execution": {
     "iopub.execute_input": "2025-07-30T21:27:05.662309Z",
     "iopub.status.busy": "2025-07-30T21:27:05.661005Z",
     "iopub.status.idle": "2025-07-30T21:27:05.669876Z",
     "shell.execute_reply": "2025-07-30T21:27:05.669220Z"
    },
    "papermill": {
     "duration": 0.035647,
     "end_time": "2025-07-30T21:27:05.671161",
     "exception": false,
     "start_time": "2025-07-30T21:27:05.635514",
     "status": "completed"
    },
    "tags": []
   },
   "outputs": [
    {
     "name": "stdout",
     "output_type": "stream",
     "text": [
      "Dropping features: ['maxdeutsch1', 'maxdeutsch.Missing.', 'frau1']\n"
     ]
    }
   ],
   "source": [
    "if len(excluded_features_columns) > 0:\n",
    "    print(f\"Dropping features: {excluded_features_columns}\")\n",
    "    X_train.drop(excluded_features_columns, axis=1, inplace=True)"
   ]
  },
  {
   "cell_type": "code",
   "execution_count": 33,
   "id": "95ab8b16",
   "metadata": {
    "execution": {
     "iopub.execute_input": "2025-07-30T21:27:05.697496Z",
     "iopub.status.busy": "2025-07-30T21:27:05.696864Z",
     "iopub.status.idle": "2025-07-30T21:27:05.745509Z",
     "shell.execute_reply": "2025-07-30T21:27:05.744722Z"
    },
    "papermill": {
     "duration": 0.062761,
     "end_time": "2025-07-30T21:27:05.747052",
     "exception": false,
     "start_time": "2025-07-30T21:27:05.684291",
     "status": "completed"
    },
    "tags": []
   },
   "outputs": [
    {
     "name": "stdout",
     "output_type": "stream",
     "text": [
      "Dropping features: ['maxdeutsch1', 'maxdeutsch.Missing.', 'frau1']\n"
     ]
    }
   ],
   "source": [
    "if len(excluded_features_columns) > 0:\n",
    "    print(f\"Dropping features: {excluded_features_columns}\")\n",
    "    X_test.drop(excluded_features_columns, axis=1, inplace=True)"
   ]
  },
  {
   "cell_type": "code",
   "execution_count": 34,
   "id": "1853aaf5-fb9f-46cb-a2b5-8ea4ae2237e4",
   "metadata": {
    "execution": {
     "iopub.execute_input": "2025-07-30T21:27:05.773737Z",
     "iopub.status.busy": "2025-07-30T21:27:05.773039Z",
     "iopub.status.idle": "2025-07-30T21:27:05.827887Z",
     "shell.execute_reply": "2025-07-30T21:27:05.826770Z"
    },
    "papermill": {
     "duration": 0.069649,
     "end_time": "2025-07-30T21:27:05.829896",
     "exception": false,
     "start_time": "2025-07-30T21:27:05.760247",
     "status": "completed"
    },
    "tags": []
   },
   "outputs": [
    {
     "name": "stdout",
     "output_type": "stream",
     "text": [
      "Dropping features: ['maxdeutsch1', 'maxdeutsch.Missing.', 'frau1']\n"
     ]
    }
   ],
   "source": [
    "if len(excluded_features_columns) > 0:\n",
    "    print(f\"Dropping features: {excluded_features_columns}\")\n",
    "    X_calib.drop(excluded_features_columns, axis=1, inplace=True)"
   ]
  },
  {
   "cell_type": "code",
   "execution_count": 35,
   "id": "6727d079-03e5-481e-9d38-292a90b7a0a8",
   "metadata": {
    "execution": {
     "iopub.execute_input": "2025-07-30T21:27:05.881780Z",
     "iopub.status.busy": "2025-07-30T21:27:05.881022Z",
     "iopub.status.idle": "2025-07-30T21:27:05.887019Z",
     "shell.execute_reply": "2025-07-30T21:27:05.885888Z"
    },
    "papermill": {
     "duration": 0.033881,
     "end_time": "2025-07-30T21:27:05.889086",
     "exception": false,
     "start_time": "2025-07-30T21:27:05.855205",
     "status": "completed"
    },
    "tags": []
   },
   "outputs": [],
   "source": [
    "# SPLIT & STRATIFY DATA\n",
    "# ----------------------"
   ]
  },
  {
   "cell_type": "code",
   "execution_count": 36,
   "id": "76c4dc6d",
   "metadata": {
    "execution": {
     "iopub.execute_input": "2025-07-30T21:27:05.939387Z",
     "iopub.status.busy": "2025-07-30T21:27:05.938778Z",
     "iopub.status.idle": "2025-07-30T21:27:05.944900Z",
     "shell.execute_reply": "2025-07-30T21:27:05.943721Z"
    },
    "papermill": {
     "duration": 0.033082,
     "end_time": "2025-07-30T21:27:05.946678",
     "exception": false,
     "start_time": "2025-07-30T21:27:05.913596",
     "status": "completed"
    },
    "tags": []
   },
   "outputs": [],
   "source": [
    "# EXCLUDE CERTAIN SUBGROUPS\n",
    "# ----------------------\n",
    "\n",
    "mode = universe.get(\"exclude_subgroups\", \"keep-all\") \n",
    "# Fetches the exclude_subgroups setting from the universe dict.\n",
    "# Defaults to \"keep-all\" if the key is missing."
   ]
  },
  {
   "cell_type": "code",
   "execution_count": 37,
   "id": "21994072",
   "metadata": {
    "execution": {
     "iopub.execute_input": "2025-07-30T21:27:05.995001Z",
     "iopub.status.busy": "2025-07-30T21:27:05.994517Z",
     "iopub.status.idle": "2025-07-30T21:27:06.001607Z",
     "shell.execute_reply": "2025-07-30T21:27:06.000452Z"
    },
    "papermill": {
     "duration": 0.033236,
     "end_time": "2025-07-30T21:27:06.003414",
     "exception": false,
     "start_time": "2025-07-30T21:27:05.970178",
     "status": "completed"
    },
    "tags": []
   },
   "outputs": [],
   "source": [
    "if mode == \"keep-all\":\n",
    "    keep_mask = pd.Series(True, index=org_train.index)\n",
    "\n",
    "# org_train contains the original feature columns from features_org (in Simson)\n",
    "# features_org contains unprocessed features, for me X_train at beginning ???\n",
    "# For keep-all, creates a boolean Series (keep_mask) of all True, so no rows are removed.\n",
    "\n",
    "elif mode == \"drop-non-german\":\n",
    "    keep_mask = org_train[\"maxdeutsch1\"] == 1 # ??? what about missing values?\n",
    "\n",
    "else:\n",
    "    raise ValueError(f\"Unsupported mode for exclude_subgroups: {mode}\")\n"
   ]
  },
  {
   "cell_type": "code",
   "execution_count": 38,
   "id": "71651440",
   "metadata": {
    "execution": {
     "iopub.execute_input": "2025-07-30T21:27:06.051086Z",
     "iopub.status.busy": "2025-07-30T21:27:06.050227Z",
     "iopub.status.idle": "2025-07-30T21:27:06.057481Z",
     "shell.execute_reply": "2025-07-30T21:27:06.056359Z"
    },
    "papermill": {
     "duration": 0.032985,
     "end_time": "2025-07-30T21:27:06.059668",
     "exception": false,
     "start_time": "2025-07-30T21:27:06.026683",
     "status": "completed"
    },
    "tags": []
   },
   "outputs": [
    {
     "name": "stdout",
     "output_type": "stream",
     "text": [
      "Dropping 147 rows (14.70%) where mode='drop-non-german'\n"
     ]
    }
   ],
   "source": [
    "n_drop = (~keep_mask).sum() # Calculates how many rows are set to be dropped\n",
    "if n_drop > 0:\n",
    "    pct = n_drop / len(keep_mask) * 100\n",
    "    print(f\"Dropping {n_drop} rows ({pct:.2f}%) where mode='{mode}'\")"
   ]
  },
  {
   "cell_type": "code",
   "execution_count": 39,
   "id": "5fb8eee5",
   "metadata": {
    "execution": {
     "iopub.execute_input": "2025-07-30T21:27:06.107358Z",
     "iopub.status.busy": "2025-07-30T21:27:06.106489Z",
     "iopub.status.idle": "2025-07-30T21:27:06.112825Z",
     "shell.execute_reply": "2025-07-30T21:27:06.111846Z"
    },
    "papermill": {
     "duration": 0.031409,
     "end_time": "2025-07-30T21:27:06.114595",
     "exception": false,
     "start_time": "2025-07-30T21:27:06.083186",
     "status": "completed"
    },
    "tags": []
   },
   "outputs": [],
   "source": [
    "X_train = X_train[keep_mask]"
   ]
  },
  {
   "cell_type": "code",
   "execution_count": 40,
   "id": "b202bb3a",
   "metadata": {
    "execution": {
     "iopub.execute_input": "2025-07-30T21:27:06.162355Z",
     "iopub.status.busy": "2025-07-30T21:27:06.161906Z",
     "iopub.status.idle": "2025-07-30T21:27:06.167885Z",
     "shell.execute_reply": "2025-07-30T21:27:06.166957Z"
    },
    "papermill": {
     "duration": 0.032104,
     "end_time": "2025-07-30T21:27:06.170324",
     "exception": false,
     "start_time": "2025-07-30T21:27:06.138220",
     "status": "completed"
    },
    "tags": []
   },
   "outputs": [],
   "source": [
    "y_train = y_train[keep_mask]"
   ]
  },
  {
   "cell_type": "markdown",
   "id": "493e2ac3",
   "metadata": {
    "papermill": {
     "duration": 0.02462,
     "end_time": "2025-07-30T21:27:06.220521",
     "exception": false,
     "start_time": "2025-07-30T21:27:06.195901",
     "status": "completed"
    },
    "tags": []
   },
   "source": [
    "# Model Training"
   ]
  },
  {
   "cell_type": "code",
   "execution_count": 41,
   "id": "679e1268",
   "metadata": {
    "execution": {
     "iopub.execute_input": "2025-07-30T21:27:06.269467Z",
     "iopub.status.busy": "2025-07-30T21:27:06.269010Z",
     "iopub.status.idle": "2025-07-30T21:27:06.374494Z",
     "shell.execute_reply": "2025-07-30T21:27:06.373543Z"
    },
    "papermill": {
     "duration": 0.132411,
     "end_time": "2025-07-30T21:27:06.376588",
     "exception": false,
     "start_time": "2025-07-30T21:27:06.244177",
     "status": "completed"
    },
    "tags": []
   },
   "outputs": [],
   "source": [
    "from sklearn.linear_model import LogisticRegression\n",
    "from sklearn.ensemble import GradientBoostingClassifier, RandomForestClassifier\n",
    "\n",
    "if (universe[\"model\"] == \"logreg\"):\n",
    "    model = LogisticRegression() #penalty=\"none\") #, solver=\"newton-cg\", max_iter=1) # include random_state=19 ?\n",
    "elif (universe[\"model\"] == \"penalized_logreg\"):\n",
    "    model = LogisticRegression(penalty=\"l2\", C=1.0) #, solver=\"newton-cg\", max_iter=1)\n",
    "elif (universe[\"model\"] == \"rf\"):\n",
    "    model = RandomForestClassifier(n_estimators=100, n_jobs=-1)\n",
    "elif (universe[\"model\"] == \"gbm\"):\n",
    "    model = GradientBoostingClassifier()\n",
    "elif (universe[\"model\"] == \"elasticnet\"):\n",
    "    model = LogisticRegression(penalty = 'elasticnet', solver = 'saga', l1_ratio = 0.5, max_iter=5000) # which solver to use?\n",
    "else:\n",
    "    raise \"Unsupported universe.model\""
   ]
  },
  {
   "cell_type": "code",
   "execution_count": 42,
   "id": "0cc8f744",
   "metadata": {
    "execution": {
     "iopub.execute_input": "2025-07-30T21:27:06.427970Z",
     "iopub.status.busy": "2025-07-30T21:27:06.426957Z",
     "iopub.status.idle": "2025-07-30T21:27:06.433985Z",
     "shell.execute_reply": "2025-07-30T21:27:06.432830Z"
    },
    "papermill": {
     "duration": 0.03477,
     "end_time": "2025-07-30T21:27:06.435979",
     "exception": false,
     "start_time": "2025-07-30T21:27:06.401209",
     "status": "completed"
    },
    "tags": []
   },
   "outputs": [],
   "source": [
    "import numpy as np\n",
    "from sklearn.pipeline import Pipeline\n",
    "from sklearn.preprocessing import StandardScaler\n",
    "\n",
    "model = Pipeline([\n",
    "    #(\"continuous_processor\", continuous_processor),\n",
    "    #(\"categorical_preprocessor\", categorical_preprocessor),\n",
    "    (\"scale\", StandardScaler() if universe[\"scale\"] == \"scale\" else None), \n",
    "    (\"model\", model),\n",
    "])"
   ]
  },
  {
   "cell_type": "code",
   "execution_count": 43,
   "id": "9442c04d",
   "metadata": {
    "execution": {
     "iopub.execute_input": "2025-07-30T21:27:06.500459Z",
     "iopub.status.busy": "2025-07-30T21:27:06.499913Z",
     "iopub.status.idle": "2025-07-30T21:27:09.020860Z",
     "shell.execute_reply": "2025-07-30T21:27:09.019683Z"
    },
    "papermill": {
     "duration": 2.546863,
     "end_time": "2025-07-30T21:27:09.022715",
     "exception": false,
     "start_time": "2025-07-30T21:27:06.475852",
     "status": "completed"
    },
    "tags": []
   },
   "outputs": [
    {
     "data": {
      "text/html": [
       "<style>#sk-container-id-1 {color: black;background-color: white;}#sk-container-id-1 pre{padding: 0;}#sk-container-id-1 div.sk-toggleable {background-color: white;}#sk-container-id-1 label.sk-toggleable__label {cursor: pointer;display: block;width: 100%;margin-bottom: 0;padding: 0.3em;box-sizing: border-box;text-align: center;}#sk-container-id-1 label.sk-toggleable__label-arrow:before {content: \"▸\";float: left;margin-right: 0.25em;color: #696969;}#sk-container-id-1 label.sk-toggleable__label-arrow:hover:before {color: black;}#sk-container-id-1 div.sk-estimator:hover label.sk-toggleable__label-arrow:before {color: black;}#sk-container-id-1 div.sk-toggleable__content {max-height: 0;max-width: 0;overflow: hidden;text-align: left;background-color: #f0f8ff;}#sk-container-id-1 div.sk-toggleable__content pre {margin: 0.2em;color: black;border-radius: 0.25em;background-color: #f0f8ff;}#sk-container-id-1 input.sk-toggleable__control:checked~div.sk-toggleable__content {max-height: 200px;max-width: 100%;overflow: auto;}#sk-container-id-1 input.sk-toggleable__control:checked~label.sk-toggleable__label-arrow:before {content: \"▾\";}#sk-container-id-1 div.sk-estimator input.sk-toggleable__control:checked~label.sk-toggleable__label {background-color: #d4ebff;}#sk-container-id-1 div.sk-label input.sk-toggleable__control:checked~label.sk-toggleable__label {background-color: #d4ebff;}#sk-container-id-1 input.sk-hidden--visually {border: 0;clip: rect(1px 1px 1px 1px);clip: rect(1px, 1px, 1px, 1px);height: 1px;margin: -1px;overflow: hidden;padding: 0;position: absolute;width: 1px;}#sk-container-id-1 div.sk-estimator {font-family: monospace;background-color: #f0f8ff;border: 1px dotted black;border-radius: 0.25em;box-sizing: border-box;margin-bottom: 0.5em;}#sk-container-id-1 div.sk-estimator:hover {background-color: #d4ebff;}#sk-container-id-1 div.sk-parallel-item::after {content: \"\";width: 100%;border-bottom: 1px solid gray;flex-grow: 1;}#sk-container-id-1 div.sk-label:hover label.sk-toggleable__label {background-color: #d4ebff;}#sk-container-id-1 div.sk-serial::before {content: \"\";position: absolute;border-left: 1px solid gray;box-sizing: border-box;top: 0;bottom: 0;left: 50%;z-index: 0;}#sk-container-id-1 div.sk-serial {display: flex;flex-direction: column;align-items: center;background-color: white;padding-right: 0.2em;padding-left: 0.2em;position: relative;}#sk-container-id-1 div.sk-item {position: relative;z-index: 1;}#sk-container-id-1 div.sk-parallel {display: flex;align-items: stretch;justify-content: center;background-color: white;position: relative;}#sk-container-id-1 div.sk-item::before, #sk-container-id-1 div.sk-parallel-item::before {content: \"\";position: absolute;border-left: 1px solid gray;box-sizing: border-box;top: 0;bottom: 0;left: 50%;z-index: -1;}#sk-container-id-1 div.sk-parallel-item {display: flex;flex-direction: column;z-index: 1;position: relative;background-color: white;}#sk-container-id-1 div.sk-parallel-item:first-child::after {align-self: flex-end;width: 50%;}#sk-container-id-1 div.sk-parallel-item:last-child::after {align-self: flex-start;width: 50%;}#sk-container-id-1 div.sk-parallel-item:only-child::after {width: 0;}#sk-container-id-1 div.sk-dashed-wrapped {border: 1px dashed gray;margin: 0 0.4em 0.5em 0.4em;box-sizing: border-box;padding-bottom: 0.4em;background-color: white;}#sk-container-id-1 div.sk-label label {font-family: monospace;font-weight: bold;display: inline-block;line-height: 1.2em;}#sk-container-id-1 div.sk-label-container {text-align: center;}#sk-container-id-1 div.sk-container {/* jupyter's `normalize.less` sets `[hidden] { display: none; }` but bootstrap.min.css set `[hidden] { display: none !important; }` so we also need the `!important` here to be able to override the default hidden behavior on the sphinx rendered scikit-learn.org. See: https://github.com/scikit-learn/scikit-learn/issues/21755 */display: inline-block !important;position: relative;}#sk-container-id-1 div.sk-text-repr-fallback {display: none;}</style><div id=\"sk-container-id-1\" class=\"sk-top-container\"><div class=\"sk-text-repr-fallback\"><pre>Pipeline(steps=[(&#x27;scale&#x27;, StandardScaler()),\n",
       "                (&#x27;model&#x27;,\n",
       "                 LogisticRegression(l1_ratio=0.5, max_iter=5000,\n",
       "                                    penalty=&#x27;elasticnet&#x27;, solver=&#x27;saga&#x27;))])</pre><b>In a Jupyter environment, please rerun this cell to show the HTML representation or trust the notebook. <br />On GitHub, the HTML representation is unable to render, please try loading this page with nbviewer.org.</b></div><div class=\"sk-container\" hidden><div class=\"sk-item sk-dashed-wrapped\"><div class=\"sk-label-container\"><div class=\"sk-label sk-toggleable\"><input class=\"sk-toggleable__control sk-hidden--visually\" id=\"sk-estimator-id-1\" type=\"checkbox\" ><label for=\"sk-estimator-id-1\" class=\"sk-toggleable__label sk-toggleable__label-arrow\">Pipeline</label><div class=\"sk-toggleable__content\"><pre>Pipeline(steps=[(&#x27;scale&#x27;, StandardScaler()),\n",
       "                (&#x27;model&#x27;,\n",
       "                 LogisticRegression(l1_ratio=0.5, max_iter=5000,\n",
       "                                    penalty=&#x27;elasticnet&#x27;, solver=&#x27;saga&#x27;))])</pre></div></div></div><div class=\"sk-serial\"><div class=\"sk-item\"><div class=\"sk-estimator sk-toggleable\"><input class=\"sk-toggleable__control sk-hidden--visually\" id=\"sk-estimator-id-2\" type=\"checkbox\" ><label for=\"sk-estimator-id-2\" class=\"sk-toggleable__label sk-toggleable__label-arrow\">StandardScaler</label><div class=\"sk-toggleable__content\"><pre>StandardScaler()</pre></div></div></div><div class=\"sk-item\"><div class=\"sk-estimator sk-toggleable\"><input class=\"sk-toggleable__control sk-hidden--visually\" id=\"sk-estimator-id-3\" type=\"checkbox\" ><label for=\"sk-estimator-id-3\" class=\"sk-toggleable__label sk-toggleable__label-arrow\">LogisticRegression</label><div class=\"sk-toggleable__content\"><pre>LogisticRegression(l1_ratio=0.5, max_iter=5000, penalty=&#x27;elasticnet&#x27;,\n",
       "                   solver=&#x27;saga&#x27;)</pre></div></div></div></div></div></div></div>"
      ],
      "text/plain": [
       "Pipeline(steps=[('scale', StandardScaler()),\n",
       "                ('model',\n",
       "                 LogisticRegression(l1_ratio=0.5, max_iter=5000,\n",
       "                                    penalty='elasticnet', solver='saga'))])"
      ]
     },
     "execution_count": 43,
     "metadata": {},
     "output_type": "execute_result"
    }
   ],
   "source": [
    "model.fit(X_train, y_train.values.ravel())"
   ]
  },
  {
   "cell_type": "code",
   "execution_count": 44,
   "id": "af59f8c0",
   "metadata": {
    "execution": {
     "iopub.execute_input": "2025-07-30T21:27:09.085118Z",
     "iopub.status.busy": "2025-07-30T21:27:09.084270Z",
     "iopub.status.idle": "2025-07-30T21:27:09.091144Z",
     "shell.execute_reply": "2025-07-30T21:27:09.089785Z"
    },
    "papermill": {
     "duration": 0.041203,
     "end_time": "2025-07-30T21:27:09.093360",
     "exception": false,
     "start_time": "2025-07-30T21:27:09.052157",
     "status": "completed"
    },
    "tags": []
   },
   "outputs": [],
   "source": [
    "from fairness_multiverse.universe import predict_w_threshold"
   ]
  },
  {
   "cell_type": "code",
   "execution_count": 45,
   "id": "a7cf2e16",
   "metadata": {
    "execution": {
     "iopub.execute_input": "2025-07-30T21:27:09.157582Z",
     "iopub.status.busy": "2025-07-30T21:27:09.156364Z",
     "iopub.status.idle": "2025-07-30T21:27:09.379794Z",
     "shell.execute_reply": "2025-07-30T21:27:09.378922Z"
    },
    "papermill": {
     "duration": 0.259599,
     "end_time": "2025-07-30T21:27:09.384952",
     "exception": false,
     "start_time": "2025-07-30T21:27:09.125353",
     "status": "completed"
    },
    "tags": []
   },
   "outputs": [
    {
     "data": {
      "text/plain": [
       "0.8135993757663582"
      ]
     },
     "execution_count": 45,
     "metadata": {},
     "output_type": "execute_result"
    }
   ],
   "source": [
    "probs_test = model.predict_proba(X_test)\n",
    "\n",
    "'''\n",
    "Below code returns a boolean array (or binary 0/1 array depending on how it’s used) where each element \n",
    "is True if the probability of class 1 is greater than or equal to the threshold, and False otherwise.\n",
    "'''\n",
    "y_pred_default = predict_w_threshold(probs_test, 0.5)\n",
    "\n",
    "from sklearn.metrics import accuracy_score\n",
    "\n",
    "# Naive prediction\n",
    "accuracy_score(y_true = y_true, y_pred = y_pred_default)"
   ]
  },
  {
   "cell_type": "code",
   "execution_count": 46,
   "id": "081964c3",
   "metadata": {
    "execution": {
     "iopub.execute_input": "2025-07-30T21:27:09.435350Z",
     "iopub.status.busy": "2025-07-30T21:27:09.434640Z",
     "iopub.status.idle": "2025-07-30T21:27:09.618637Z",
     "shell.execute_reply": "2025-07-30T21:27:09.617566Z"
    },
    "papermill": {
     "duration": 0.210673,
     "end_time": "2025-07-30T21:27:09.621108",
     "exception": false,
     "start_time": "2025-07-30T21:27:09.410435",
     "status": "completed"
    },
    "tags": []
   },
   "outputs": [
    {
     "data": {
      "text/plain": [
       "array([0, 0, 0, ..., 0, 0, 0])"
      ]
     },
     "execution_count": 46,
     "metadata": {},
     "output_type": "execute_result"
    }
   ],
   "source": [
    "model.predict(X_test)"
   ]
  },
  {
   "cell_type": "markdown",
   "id": "56c9705b",
   "metadata": {
    "papermill": {
     "duration": 0.034773,
     "end_time": "2025-07-30T21:27:09.693488",
     "exception": false,
     "start_time": "2025-07-30T21:27:09.658715",
     "status": "completed"
    },
    "tags": []
   },
   "source": [
    "# Conformal Prediction"
   ]
  },
  {
   "cell_type": "code",
   "execution_count": 47,
   "id": "160ec6ff",
   "metadata": {
    "execution": {
     "iopub.execute_input": "2025-07-30T21:27:09.766031Z",
     "iopub.status.busy": "2025-07-30T21:27:09.765481Z",
     "iopub.status.idle": "2025-07-30T21:27:09.771398Z",
     "shell.execute_reply": "2025-07-30T21:27:09.770147Z"
    },
    "papermill": {
     "duration": 0.045187,
     "end_time": "2025-07-30T21:27:09.773739",
     "exception": false,
     "start_time": "2025-07-30T21:27:09.728552",
     "status": "completed"
    },
    "tags": []
   },
   "outputs": [],
   "source": [
    "# Miscoverage level for conformal prediction (10% allowed error rate => 90% target coverage)\n",
    "alpha = 0.1"
   ]
  },
  {
   "cell_type": "code",
   "execution_count": 48,
   "id": "eadf4555-3dd3-440e-8e35-f82a4ad9f855",
   "metadata": {
    "execution": {
     "iopub.execute_input": "2025-07-30T21:27:09.847262Z",
     "iopub.status.busy": "2025-07-30T21:27:09.846873Z",
     "iopub.status.idle": "2025-07-30T21:27:10.147572Z",
     "shell.execute_reply": "2025-07-30T21:27:10.146252Z"
    },
    "papermill": {
     "duration": 0.340415,
     "end_time": "2025-07-30T21:27:10.150060",
     "exception": false,
     "start_time": "2025-07-30T21:27:09.809645",
     "status": "completed"
    },
    "tags": []
   },
   "outputs": [],
   "source": [
    "probs_calib = model.predict_proba(X_calib)"
   ]
  },
  {
   "cell_type": "code",
   "execution_count": 49,
   "id": "2ed93547-6d5d-4983-9b36-1ecb300da49a",
   "metadata": {
    "execution": {
     "iopub.execute_input": "2025-07-30T21:27:10.211118Z",
     "iopub.status.busy": "2025-07-30T21:27:10.210148Z",
     "iopub.status.idle": "2025-07-30T21:27:10.217428Z",
     "shell.execute_reply": "2025-07-30T21:27:10.216303Z"
    },
    "papermill": {
     "duration": 0.036551,
     "end_time": "2025-07-30T21:27:10.219327",
     "exception": false,
     "start_time": "2025-07-30T21:27:10.182776",
     "status": "completed"
    },
    "tags": []
   },
   "outputs": [],
   "source": [
    "y_calib = y_calib.values.ravel().astype(int)"
   ]
  },
  {
   "cell_type": "code",
   "execution_count": 50,
   "id": "65d1320d-f588-4b38-9072-62af1ae97f7d",
   "metadata": {
    "execution": {
     "iopub.execute_input": "2025-07-30T21:27:10.253900Z",
     "iopub.status.busy": "2025-07-30T21:27:10.253553Z",
     "iopub.status.idle": "2025-07-30T21:27:10.259468Z",
     "shell.execute_reply": "2025-07-30T21:27:10.258703Z"
    },
    "papermill": {
     "duration": 0.021165,
     "end_time": "2025-07-30T21:27:10.260792",
     "exception": false,
     "start_time": "2025-07-30T21:27:10.239627",
     "status": "completed"
    },
    "tags": []
   },
   "outputs": [],
   "source": [
    "from fairness_multiverse.conformal import compute_nc_scores\n",
    "\n",
    "# Compute nonconformity scores on calibration set (1 - probability of true class)\n",
    "nc_scores = compute_nc_scores(probs_calib, y_calib)"
   ]
  },
  {
   "cell_type": "code",
   "execution_count": 51,
   "id": "df3b8ca3-53b7-43d5-9667-7c85da7aeda2",
   "metadata": {
    "execution": {
     "iopub.execute_input": "2025-07-30T21:27:10.288399Z",
     "iopub.status.busy": "2025-07-30T21:27:10.287895Z",
     "iopub.status.idle": "2025-07-30T21:27:10.293601Z",
     "shell.execute_reply": "2025-07-30T21:27:10.292900Z"
    },
    "papermill": {
     "duration": 0.020476,
     "end_time": "2025-07-30T21:27:10.294919",
     "exception": false,
     "start_time": "2025-07-30T21:27:10.274443",
     "status": "completed"
    },
    "tags": []
   },
   "outputs": [],
   "source": [
    "from fairness_multiverse.conformal import find_threshold\n",
    "\n",
    "# Find conformal threshold q_hat for the given alpha (split conformal method)\n",
    "q_hat = find_threshold(nc_scores, alpha)"
   ]
  },
  {
   "cell_type": "code",
   "execution_count": 52,
   "id": "4d29e6c1-0ef6-4aa4-b8fe-4fe79b0d033a",
   "metadata": {
    "execution": {
     "iopub.execute_input": "2025-07-30T21:27:10.322254Z",
     "iopub.status.busy": "2025-07-30T21:27:10.321759Z",
     "iopub.status.idle": "2025-07-30T21:27:10.328301Z",
     "shell.execute_reply": "2025-07-30T21:27:10.327575Z"
    },
    "papermill": {
     "duration": 0.021054,
     "end_time": "2025-07-30T21:27:10.329565",
     "exception": false,
     "start_time": "2025-07-30T21:27:10.308511",
     "status": "completed"
    },
    "tags": []
   },
   "outputs": [
    {
     "data": {
      "text/plain": [
       "0.8197040319641524"
      ]
     },
     "execution_count": 52,
     "metadata": {},
     "output_type": "execute_result"
    }
   ],
   "source": [
    "q_hat"
   ]
  },
  {
   "cell_type": "code",
   "execution_count": 53,
   "id": "92460794-cdac-4be2-ba28-f28c0515a6fb",
   "metadata": {
    "execution": {
     "iopub.execute_input": "2025-07-30T21:27:10.358141Z",
     "iopub.status.busy": "2025-07-30T21:27:10.357493Z",
     "iopub.status.idle": "2025-07-30T21:27:11.119963Z",
     "shell.execute_reply": "2025-07-30T21:27:11.119210Z"
    },
    "papermill": {
     "duration": 0.777788,
     "end_time": "2025-07-30T21:27:11.121377",
     "exception": false,
     "start_time": "2025-07-30T21:27:10.343589",
     "status": "completed"
    },
    "tags": []
   },
   "outputs": [],
   "source": [
    "from fairness_multiverse.conformal import predict_conformal_sets\n",
    "\n",
    "# Generate prediction sets for each test example\n",
    "pred_sets = predict_conformal_sets(model, X_test, q_hat)"
   ]
  },
  {
   "cell_type": "code",
   "execution_count": 54,
   "id": "d90c9a65-e6db-4f5d-80cd-e68fb7e46829",
   "metadata": {
    "execution": {
     "iopub.execute_input": "2025-07-30T21:27:11.148066Z",
     "iopub.status.busy": "2025-07-30T21:27:11.147757Z",
     "iopub.status.idle": "2025-07-30T21:27:11.152077Z",
     "shell.execute_reply": "2025-07-30T21:27:11.151160Z"
    },
    "papermill": {
     "duration": 0.018706,
     "end_time": "2025-07-30T21:27:11.153242",
     "exception": false,
     "start_time": "2025-07-30T21:27:11.134536",
     "status": "completed"
    },
    "tags": []
   },
   "outputs": [],
   "source": [
    "y_true = y_true.squeeze()"
   ]
  },
  {
   "cell_type": "code",
   "execution_count": 55,
   "id": "3a58a54a-1e68-46b9-927a-df01f18aebc8",
   "metadata": {
    "execution": {
     "iopub.execute_input": "2025-07-30T21:27:11.185754Z",
     "iopub.status.busy": "2025-07-30T21:27:11.184922Z",
     "iopub.status.idle": "2025-07-30T21:27:12.020933Z",
     "shell.execute_reply": "2025-07-30T21:27:12.020004Z"
    },
    "papermill": {
     "duration": 0.852994,
     "end_time": "2025-07-30T21:27:12.022838",
     "exception": false,
     "start_time": "2025-07-30T21:27:11.169844",
     "status": "completed"
    },
    "tags": []
   },
   "outputs": [],
   "source": [
    "from fairness_multiverse.conformal import evaluate_sets\n",
    "\n",
    "# Evaluate coverage and average set size on test data\n",
    "metrics = evaluate_sets(pred_sets, y_true)"
   ]
  },
  {
   "cell_type": "markdown",
   "id": "2b569c12-9aaa-4c88-98c9-bbcd0cf3ebb8",
   "metadata": {
    "papermill": {
     "duration": 0.014655,
     "end_time": "2025-07-30T21:27:12.063711",
     "exception": false,
     "start_time": "2025-07-30T21:27:12.049056",
     "status": "completed"
    },
    "tags": []
   },
   "source": [
    "# CP Metrics"
   ]
  },
  {
   "cell_type": "code",
   "execution_count": 56,
   "id": "5ce0a5cb-201f-45a0-ade5-94c7f0bd6095",
   "metadata": {
    "execution": {
     "iopub.execute_input": "2025-07-30T21:27:12.090015Z",
     "iopub.status.busy": "2025-07-30T21:27:12.089634Z",
     "iopub.status.idle": "2025-07-30T21:27:12.096941Z",
     "shell.execute_reply": "2025-07-30T21:27:12.095914Z"
    },
    "papermill": {
     "duration": 0.022439,
     "end_time": "2025-07-30T21:27:12.098673",
     "exception": false,
     "start_time": "2025-07-30T21:27:12.076234",
     "status": "completed"
    },
    "tags": []
   },
   "outputs": [
    {
     "data": {
      "text/plain": [
       "{'coverage': 0.9080035670493813, 'avg_size': 1.2537732694236985}"
      ]
     },
     "execution_count": 56,
     "metadata": {},
     "output_type": "execute_result"
    }
   ],
   "source": [
    "metrics"
   ]
  },
  {
   "cell_type": "code",
   "execution_count": 57,
   "id": "9b9a838d-31c9-430b-ae14-12baee460d17",
   "metadata": {
    "execution": {
     "iopub.execute_input": "2025-07-30T21:27:12.154411Z",
     "iopub.status.busy": "2025-07-30T21:27:12.153896Z",
     "iopub.status.idle": "2025-07-30T21:27:12.161093Z",
     "shell.execute_reply": "2025-07-30T21:27:12.160059Z"
    },
    "papermill": {
     "duration": 0.036541,
     "end_time": "2025-07-30T21:27:12.162676",
     "exception": false,
     "start_time": "2025-07-30T21:27:12.126135",
     "status": "completed"
    },
    "tags": []
   },
   "outputs": [],
   "source": [
    "example_universe = universe.copy()\n",
    "universe_training_year = example_universe.get(\"training_year\")\n",
    "universe_training_size = example_universe.get(\"training_size\")\n",
    "universe_scale = example_universe.get(\"scale\")\n",
    "universe_model = example_universe.get(\"model\")\n",
    "universe_exclude_features = example_universe.get(\"exclude_features\")\n",
    "universe_exclude_subgroups = example_universe.get(\"exclude_subgroups\")"
   ]
  },
  {
   "cell_type": "code",
   "execution_count": 58,
   "id": "f4b6a8ac-9dc0-4245-8a91-5b3b5999c4f9",
   "metadata": {
    "execution": {
     "iopub.execute_input": "2025-07-30T21:27:12.215509Z",
     "iopub.status.busy": "2025-07-30T21:27:12.214858Z",
     "iopub.status.idle": "2025-07-30T21:27:12.221242Z",
     "shell.execute_reply": "2025-07-30T21:27:12.220254Z"
    },
    "papermill": {
     "duration": 0.03241,
     "end_time": "2025-07-30T21:27:12.222817",
     "exception": false,
     "start_time": "2025-07-30T21:27:12.190407",
     "status": "completed"
    },
    "tags": []
   },
   "outputs": [],
   "source": [
    "cp_metrics_dict = {\n",
    "    \"universe_id\": [universe_id],\n",
    "    \"universe_training_year\": [universe_training_year],\n",
    "    \"universe_training_size\": [universe_training_size],\n",
    "    \"universe_scale\": [universe_scale],\n",
    "    \"universe_model\": [universe_model],\n",
    "    \"universe_exclude_features\": [universe_exclude_features],\n",
    "    \"universe_exclude_subgroups\": [universe_exclude_subgroups],\n",
    "    \"q_hat\": [q_hat],\n",
    "    \"coverage\": [metrics[\"coverage\"]],\n",
    "    \"avg_size\": [metrics[\"avg_size\"]],\n",
    "}"
   ]
  },
  {
   "cell_type": "code",
   "execution_count": 59,
   "id": "908acbb1-0371-4915-85ca-3fa520d2efe2",
   "metadata": {
    "execution": {
     "iopub.execute_input": "2025-07-30T21:27:12.275216Z",
     "iopub.status.busy": "2025-07-30T21:27:12.274107Z",
     "iopub.status.idle": "2025-07-30T21:27:12.283901Z",
     "shell.execute_reply": "2025-07-30T21:27:12.282923Z"
    },
    "papermill": {
     "duration": 0.037293,
     "end_time": "2025-07-30T21:27:12.285537",
     "exception": false,
     "start_time": "2025-07-30T21:27:12.248244",
     "status": "completed"
    },
    "tags": []
   },
   "outputs": [
    {
     "data": {
      "text/plain": [
       "{'universe_id': ['364e2a79811f38b07a79cad8d20a7274'],\n",
       " 'universe_training_year': ['2014'],\n",
       " 'universe_training_size': ['1k'],\n",
       " 'universe_scale': ['scale'],\n",
       " 'universe_model': ['elasticnet'],\n",
       " 'universe_exclude_features': ['nationality-sex'],\n",
       " 'universe_exclude_subgroups': ['drop-non-german'],\n",
       " 'q_hat': [0.8197040319641524],\n",
       " 'coverage': [0.9080035670493813],\n",
       " 'avg_size': [1.2537732694236985]}"
      ]
     },
     "execution_count": 59,
     "metadata": {},
     "output_type": "execute_result"
    }
   ],
   "source": [
    "cp_metrics_dict"
   ]
  },
  {
   "cell_type": "code",
   "execution_count": 60,
   "id": "33007efc-14e9-4ec6-97ac-56a455c82265",
   "metadata": {
    "execution": {
     "iopub.execute_input": "2025-07-30T21:27:12.335126Z",
     "iopub.status.busy": "2025-07-30T21:27:12.334712Z",
     "iopub.status.idle": "2025-07-30T21:27:12.340193Z",
     "shell.execute_reply": "2025-07-30T21:27:12.339408Z"
    },
    "papermill": {
     "duration": 0.030925,
     "end_time": "2025-07-30T21:27:12.341568",
     "exception": false,
     "start_time": "2025-07-30T21:27:12.310643",
     "status": "completed"
    },
    "tags": []
   },
   "outputs": [],
   "source": [
    "cp_metrics_df = pd.DataFrame(cp_metrics_dict)"
   ]
  },
  {
   "cell_type": "code",
   "execution_count": 61,
   "id": "db12611b-57b2-4910-b9d0-355adfd6e7bf",
   "metadata": {
    "execution": {
     "iopub.execute_input": "2025-07-30T21:27:12.388423Z",
     "iopub.status.busy": "2025-07-30T21:27:12.387776Z",
     "iopub.status.idle": "2025-07-30T21:27:12.444511Z",
     "shell.execute_reply": "2025-07-30T21:27:12.443548Z"
    },
    "papermill": {
     "duration": 0.088238,
     "end_time": "2025-07-30T21:27:12.446205",
     "exception": false,
     "start_time": "2025-07-30T21:27:12.357967",
     "status": "completed"
    },
    "tags": []
   },
   "outputs": [
    {
     "data": {
      "text/html": [
       "<div>\n",
       "<style scoped>\n",
       "    .dataframe tbody tr th:only-of-type {\n",
       "        vertical-align: middle;\n",
       "    }\n",
       "\n",
       "    .dataframe tbody tr th {\n",
       "        vertical-align: top;\n",
       "    }\n",
       "\n",
       "    .dataframe thead th {\n",
       "        text-align: right;\n",
       "    }\n",
       "</style>\n",
       "<table border=\"1\" class=\"dataframe\">\n",
       "  <thead>\n",
       "    <tr style=\"text-align: right;\">\n",
       "      <th></th>\n",
       "      <th>universe_id</th>\n",
       "      <th>universe_training_year</th>\n",
       "      <th>universe_training_size</th>\n",
       "      <th>universe_scale</th>\n",
       "      <th>universe_model</th>\n",
       "      <th>universe_exclude_features</th>\n",
       "      <th>universe_exclude_subgroups</th>\n",
       "      <th>q_hat</th>\n",
       "      <th>coverage</th>\n",
       "      <th>avg_size</th>\n",
       "    </tr>\n",
       "  </thead>\n",
       "  <tbody>\n",
       "    <tr>\n",
       "      <th>0</th>\n",
       "      <td>364e2a79811f38b07a79cad8d20a7274</td>\n",
       "      <td>2014</td>\n",
       "      <td>1k</td>\n",
       "      <td>scale</td>\n",
       "      <td>elasticnet</td>\n",
       "      <td>nationality-sex</td>\n",
       "      <td>drop-non-german</td>\n",
       "      <td>0.819704</td>\n",
       "      <td>0.908004</td>\n",
       "      <td>1.253773</td>\n",
       "    </tr>\n",
       "  </tbody>\n",
       "</table>\n",
       "</div>"
      ],
      "text/plain": [
       "                        universe_id universe_training_year  \\\n",
       "0  364e2a79811f38b07a79cad8d20a7274                   2014   \n",
       "\n",
       "  universe_training_size universe_scale universe_model  \\\n",
       "0                     1k          scale     elasticnet   \n",
       "\n",
       "  universe_exclude_features universe_exclude_subgroups     q_hat  coverage  \\\n",
       "0           nationality-sex            drop-non-german  0.819704  0.908004   \n",
       "\n",
       "   avg_size  \n",
       "0  1.253773  "
      ]
     },
     "execution_count": 61,
     "metadata": {},
     "output_type": "execute_result"
    }
   ],
   "source": [
    "cp_metrics_df"
   ]
  },
  {
   "cell_type": "code",
   "execution_count": 62,
   "id": "b7fbde55-a0a1-47e4-9af6-fe4a17fa8c61",
   "metadata": {
    "execution": {
     "iopub.execute_input": "2025-07-30T21:27:12.496945Z",
     "iopub.status.busy": "2025-07-30T21:27:12.496131Z",
     "iopub.status.idle": "2025-07-30T21:27:12.501064Z",
     "shell.execute_reply": "2025-07-30T21:27:12.500156Z"
    },
    "papermill": {
     "duration": 0.030867,
     "end_time": "2025-07-30T21:27:12.502541",
     "exception": false,
     "start_time": "2025-07-30T21:27:12.471674",
     "status": "completed"
    },
    "tags": []
   },
   "outputs": [],
   "source": [
    "# Conditional Coverage & looking at subgroups"
   ]
  },
  {
   "cell_type": "code",
   "execution_count": 63,
   "id": "027ae886-68dd-4141-96c7-805a5450e1ef",
   "metadata": {
    "execution": {
     "iopub.execute_input": "2025-07-30T21:27:12.552993Z",
     "iopub.status.busy": "2025-07-30T21:27:12.552169Z",
     "iopub.status.idle": "2025-07-30T21:27:12.807000Z",
     "shell.execute_reply": "2025-07-30T21:27:12.806167Z"
    },
    "papermill": {
     "duration": 0.282013,
     "end_time": "2025-07-30T21:27:12.808880",
     "exception": false,
     "start_time": "2025-07-30T21:27:12.526867",
     "status": "completed"
    },
    "tags": []
   },
   "outputs": [],
   "source": [
    "from fairness_multiverse.conformal import build_cp_groups\n",
    "\n",
    "cp_groups_df = build_cp_groups(pred_sets, y_true, X_test.index, org_test)\n",
    "#needs universe_id and setting"
   ]
  },
  {
   "cell_type": "code",
   "execution_count": 64,
   "id": "01d5802c-663a-4d1f-9d69-e036faaffbf7",
   "metadata": {
    "execution": {
     "iopub.execute_input": "2025-07-30T21:27:12.860799Z",
     "iopub.status.busy": "2025-07-30T21:27:12.860295Z",
     "iopub.status.idle": "2025-07-30T21:27:12.865146Z",
     "shell.execute_reply": "2025-07-30T21:27:12.864141Z"
    },
    "papermill": {
     "duration": 0.032234,
     "end_time": "2025-07-30T21:27:12.866853",
     "exception": false,
     "start_time": "2025-07-30T21:27:12.834619",
     "status": "completed"
    },
    "tags": []
   },
   "outputs": [],
   "source": [
    "#delete\n",
    "#cp_groups_df"
   ]
  },
  {
   "cell_type": "code",
   "execution_count": 65,
   "id": "fa424af1-d1eb-443d-b717-2d279ada8408",
   "metadata": {
    "execution": {
     "iopub.execute_input": "2025-07-30T21:27:12.920006Z",
     "iopub.status.busy": "2025-07-30T21:27:12.919491Z",
     "iopub.status.idle": "2025-07-30T21:27:12.924448Z",
     "shell.execute_reply": "2025-07-30T21:27:12.923407Z"
    },
    "papermill": {
     "duration": 0.033257,
     "end_time": "2025-07-30T21:27:12.925896",
     "exception": false,
     "start_time": "2025-07-30T21:27:12.892639",
     "status": "completed"
    },
    "tags": []
   },
   "outputs": [],
   "source": [
    "#delete\n",
    "#percentage = (cp_groups_df['nongerman_female'] == 1).mean() * 100\n",
    "#print(percentage)\n"
   ]
  },
  {
   "cell_type": "code",
   "execution_count": 66,
   "id": "6cbdab96-b2b2-45af-ad54-d0516db2e28d",
   "metadata": {
    "execution": {
     "iopub.execute_input": "2025-07-30T21:27:12.976395Z",
     "iopub.status.busy": "2025-07-30T21:27:12.975859Z",
     "iopub.status.idle": "2025-07-30T21:27:14.534207Z",
     "shell.execute_reply": "2025-07-30T21:27:14.533255Z"
    },
    "papermill": {
     "duration": 1.585757,
     "end_time": "2025-07-30T21:27:14.535981",
     "exception": false,
     "start_time": "2025-07-30T21:27:12.950224",
     "status": "completed"
    },
    "tags": []
   },
   "outputs": [],
   "source": [
    "# Define covered = 1 if true_label is in the predicted set\n",
    "cp_groups_df['covered'] = cp_groups_df.apply(\n",
    "    lambda r: int(r['true_label'] in r['pred_set']),\n",
    "    axis=1\n",
    ")"
   ]
  },
  {
   "cell_type": "code",
   "execution_count": 67,
   "id": "338ff529-1a6b-4b87-a931-8e4788d52aad",
   "metadata": {
    "execution": {
     "iopub.execute_input": "2025-07-30T21:27:14.590574Z",
     "iopub.status.busy": "2025-07-30T21:27:14.589865Z",
     "iopub.status.idle": "2025-07-30T21:27:14.594609Z",
     "shell.execute_reply": "2025-07-30T21:27:14.593665Z"
    },
    "papermill": {
     "duration": 0.033048,
     "end_time": "2025-07-30T21:27:14.596334",
     "exception": false,
     "start_time": "2025-07-30T21:27:14.563286",
     "status": "completed"
    },
    "tags": []
   },
   "outputs": [],
   "source": [
    "#cp_groups_df"
   ]
  },
  {
   "cell_type": "code",
   "execution_count": 68,
   "id": "90032e27-66df-4540-9169-4e89cfbaa758",
   "metadata": {
    "execution": {
     "iopub.execute_input": "2025-07-30T21:27:14.646010Z",
     "iopub.status.busy": "2025-07-30T21:27:14.645619Z",
     "iopub.status.idle": "2025-07-30T21:27:14.656751Z",
     "shell.execute_reply": "2025-07-30T21:27:14.655597Z"
    },
    "papermill": {
     "duration": 0.038276,
     "end_time": "2025-07-30T21:27:14.658994",
     "exception": false,
     "start_time": "2025-07-30T21:27:14.620718",
     "status": "completed"
    },
    "tags": []
   },
   "outputs": [],
   "source": [
    "subgroups = ['frau1','nongerman','nongerman_male','nongerman_female']\n",
    "\n",
    "# Conditional coverage for subgroup==1\n",
    "cond_coverage = {\n",
    "    g: cp_groups_df.loc[cp_groups_df[g]==1, 'covered'].mean()\n",
    "    for g in subgroups\n",
    "}"
   ]
  },
  {
   "cell_type": "code",
   "execution_count": 69,
   "id": "1e348fb1-b9c3-45bc-ba23-f016827a7e0d",
   "metadata": {
    "execution": {
     "iopub.execute_input": "2025-07-30T21:27:14.710865Z",
     "iopub.status.busy": "2025-07-30T21:27:14.710280Z",
     "iopub.status.idle": "2025-07-30T21:27:14.717496Z",
     "shell.execute_reply": "2025-07-30T21:27:14.716455Z"
    },
    "papermill": {
     "duration": 0.033502,
     "end_time": "2025-07-30T21:27:14.719154",
     "exception": false,
     "start_time": "2025-07-30T21:27:14.685652",
     "status": "completed"
    },
    "tags": []
   },
   "outputs": [
    {
     "data": {
      "text/plain": [
       "{'frau1': 0.9053241676775846,\n",
       " 'nongerman': 0.9095604333913434,\n",
       " 'nongerman_male': 0.9257858236512654,\n",
       " 'nongerman_female': 0.8827123695976155}"
      ]
     },
     "execution_count": 69,
     "metadata": {},
     "output_type": "execute_result"
    }
   ],
   "source": [
    "cond_coverage"
   ]
  },
  {
   "cell_type": "code",
   "execution_count": 70,
   "id": "f5093324-c3dd-4d63-bc4c-8d945e5c8bbb",
   "metadata": {
    "execution": {
     "iopub.execute_input": "2025-07-30T21:27:14.769112Z",
     "iopub.status.busy": "2025-07-30T21:27:14.768747Z",
     "iopub.status.idle": "2025-07-30T21:27:14.775508Z",
     "shell.execute_reply": "2025-07-30T21:27:14.774689Z"
    },
    "papermill": {
     "duration": 0.028541,
     "end_time": "2025-07-30T21:27:14.776820",
     "exception": false,
     "start_time": "2025-07-30T21:27:14.748279",
     "status": "completed"
    },
    "tags": []
   },
   "outputs": [],
   "source": [
    "for subgroup, cov in cond_coverage.items():\n",
    "    cp_metrics_df[f\"cov_{subgroup}\"] = cov"
   ]
  },
  {
   "cell_type": "code",
   "execution_count": 71,
   "id": "6e872e10-dbe5-49e8-b554-5030c98ff75d",
   "metadata": {
    "execution": {
     "iopub.execute_input": "2025-07-30T21:27:14.805275Z",
     "iopub.status.busy": "2025-07-30T21:27:14.804948Z",
     "iopub.status.idle": "2025-07-30T21:27:14.818454Z",
     "shell.execute_reply": "2025-07-30T21:27:14.817633Z"
    },
    "papermill": {
     "duration": 0.02851,
     "end_time": "2025-07-30T21:27:14.819733",
     "exception": false,
     "start_time": "2025-07-30T21:27:14.791223",
     "status": "completed"
    },
    "tags": []
   },
   "outputs": [
    {
     "data": {
      "text/html": [
       "<div>\n",
       "<style scoped>\n",
       "    .dataframe tbody tr th:only-of-type {\n",
       "        vertical-align: middle;\n",
       "    }\n",
       "\n",
       "    .dataframe tbody tr th {\n",
       "        vertical-align: top;\n",
       "    }\n",
       "\n",
       "    .dataframe thead th {\n",
       "        text-align: right;\n",
       "    }\n",
       "</style>\n",
       "<table border=\"1\" class=\"dataframe\">\n",
       "  <thead>\n",
       "    <tr style=\"text-align: right;\">\n",
       "      <th></th>\n",
       "      <th>universe_id</th>\n",
       "      <th>universe_training_year</th>\n",
       "      <th>universe_training_size</th>\n",
       "      <th>universe_scale</th>\n",
       "      <th>universe_model</th>\n",
       "      <th>universe_exclude_features</th>\n",
       "      <th>universe_exclude_subgroups</th>\n",
       "      <th>q_hat</th>\n",
       "      <th>coverage</th>\n",
       "      <th>avg_size</th>\n",
       "      <th>cov_frau1</th>\n",
       "      <th>cov_nongerman</th>\n",
       "      <th>cov_nongerman_male</th>\n",
       "      <th>cov_nongerman_female</th>\n",
       "    </tr>\n",
       "  </thead>\n",
       "  <tbody>\n",
       "    <tr>\n",
       "      <th>0</th>\n",
       "      <td>364e2a79811f38b07a79cad8d20a7274</td>\n",
       "      <td>2014</td>\n",
       "      <td>1k</td>\n",
       "      <td>scale</td>\n",
       "      <td>elasticnet</td>\n",
       "      <td>nationality-sex</td>\n",
       "      <td>drop-non-german</td>\n",
       "      <td>0.819704</td>\n",
       "      <td>0.908004</td>\n",
       "      <td>1.253773</td>\n",
       "      <td>0.905324</td>\n",
       "      <td>0.90956</td>\n",
       "      <td>0.925786</td>\n",
       "      <td>0.882712</td>\n",
       "    </tr>\n",
       "  </tbody>\n",
       "</table>\n",
       "</div>"
      ],
      "text/plain": [
       "                        universe_id universe_training_year  \\\n",
       "0  364e2a79811f38b07a79cad8d20a7274                   2014   \n",
       "\n",
       "  universe_training_size universe_scale universe_model  \\\n",
       "0                     1k          scale     elasticnet   \n",
       "\n",
       "  universe_exclude_features universe_exclude_subgroups     q_hat  coverage  \\\n",
       "0           nationality-sex            drop-non-german  0.819704  0.908004   \n",
       "\n",
       "   avg_size  cov_frau1  cov_nongerman  cov_nongerman_male  \\\n",
       "0  1.253773   0.905324        0.90956            0.925786   \n",
       "\n",
       "   cov_nongerman_female  \n",
       "0              0.882712  "
      ]
     },
     "execution_count": 71,
     "metadata": {},
     "output_type": "execute_result"
    }
   ],
   "source": [
    "cp_metrics_df"
   ]
  },
  {
   "cell_type": "markdown",
   "id": "33774451",
   "metadata": {
    "papermill": {
     "duration": 0.013053,
     "end_time": "2025-07-30T21:27:14.846810",
     "exception": false,
     "start_time": "2025-07-30T21:27:14.833757",
     "status": "completed"
    },
    "tags": []
   },
   "source": [
    "# (Fairness) Metrics"
   ]
  },
  {
   "cell_type": "code",
   "execution_count": 72,
   "id": "debc5d62",
   "metadata": {
    "execution": {
     "iopub.execute_input": "2025-07-30T21:27:14.874487Z",
     "iopub.status.busy": "2025-07-30T21:27:14.874042Z",
     "iopub.status.idle": "2025-07-30T21:27:14.888384Z",
     "shell.execute_reply": "2025-07-30T21:27:14.887509Z"
    },
    "papermill": {
     "duration": 0.029456,
     "end_time": "2025-07-30T21:27:14.889605",
     "exception": false,
     "start_time": "2025-07-30T21:27:14.860149",
     "status": "completed"
    },
    "tags": []
   },
   "outputs": [],
   "source": [
    "# do I need to include maxdeutsch1.missing?\n",
    "\n",
    "import numpy as np\n",
    "\n",
    "colname_to_bin = \"maxdeutsch1\"\n",
    "majority_value = org_train[colname_to_bin].mode()[0]\n",
    "\n",
    "org_test[\"majmin\"] = np.where(org_test[colname_to_bin] == majority_value, \"majority\", \"minority\")"
   ]
  },
  {
   "cell_type": "code",
   "execution_count": 73,
   "id": "06a50de5",
   "metadata": {
    "execution": {
     "iopub.execute_input": "2025-07-30T21:27:14.921895Z",
     "iopub.status.busy": "2025-07-30T21:27:14.921494Z",
     "iopub.status.idle": "2025-07-30T21:27:17.071639Z",
     "shell.execute_reply": "2025-07-30T21:27:17.070721Z"
    },
    "papermill": {
     "duration": 2.169946,
     "end_time": "2025-07-30T21:27:17.073553",
     "exception": false,
     "start_time": "2025-07-30T21:27:14.903607",
     "status": "completed"
    },
    "tags": []
   },
   "outputs": [],
   "source": [
    "example_universe = universe.copy()\n",
    "example_universe[\"cutoff\"] = example_universe[\"cutoff\"][0]\n",
    "example_universe[\"eval_fairness_grouping\"] = example_universe[\"eval_fairness_grouping\"][0]\n",
    "fairness_dict, metric_frame = universe_analysis.compute_metrics(\n",
    "    example_universe,\n",
    "    y_pred_prob=probs_test,\n",
    "    y_test=y_true,\n",
    "    org_test=org_test,\n",
    ")"
   ]
  },
  {
   "cell_type": "markdown",
   "id": "f95d4e02",
   "metadata": {
    "papermill": {
     "duration": 0.02869,
     "end_time": "2025-07-30T21:27:17.131153",
     "exception": false,
     "start_time": "2025-07-30T21:27:17.102463",
     "status": "completed"
    },
    "tags": []
   },
   "source": [
    "# Overall"
   ]
  },
  {
   "cell_type": "markdown",
   "id": "bdee4871",
   "metadata": {
    "papermill": {
     "duration": 0.028726,
     "end_time": "2025-07-30T21:27:17.188395",
     "exception": false,
     "start_time": "2025-07-30T21:27:17.159669",
     "status": "completed"
    },
    "tags": []
   },
   "source": [
    "Fairness\n",
    "Main fairness target: Equalized Odds. Seems to be a better fit than equal opportunity, since we're not only interested in Y = 1. Seems to be a better fit than demographic parity, since we also care about accuracy, not just equal distribution of preds.\n",
    "\n",
    "Pick column for computation of fairness metrics\n",
    "\n",
    "Performance\n",
    "Overall performance measures, most interesting in relation to the measures split by group below"
   ]
  },
  {
   "cell_type": "code",
   "execution_count": 74,
   "id": "c4e067c6",
   "metadata": {
    "execution": {
     "iopub.execute_input": "2025-07-30T21:27:17.247485Z",
     "iopub.status.busy": "2025-07-30T21:27:17.246830Z",
     "iopub.status.idle": "2025-07-30T21:27:17.255327Z",
     "shell.execute_reply": "2025-07-30T21:27:17.254394Z"
    },
    "papermill": {
     "duration": 0.040008,
     "end_time": "2025-07-30T21:27:17.257073",
     "exception": false,
     "start_time": "2025-07-30T21:27:17.217065",
     "status": "completed"
    },
    "tags": []
   },
   "outputs": [
    {
     "data": {
      "text/plain": [
       "accuracy                   0.218181\n",
       "balanced accuracy          0.534780\n",
       "f1                         0.239683\n",
       "precision                  0.136923\n",
       "false positive rate        0.891077\n",
       "false negative rate        0.039364\n",
       "selection rate             0.900000\n",
       "count                  89710.000000\n",
       "dtype: float64"
      ]
     },
     "execution_count": 74,
     "metadata": {},
     "output_type": "execute_result"
    }
   ],
   "source": [
    "metric_frame.overall"
   ]
  },
  {
   "cell_type": "markdown",
   "id": "e968fe9d",
   "metadata": {
    "papermill": {
     "duration": 0.02849,
     "end_time": "2025-07-30T21:27:17.315230",
     "exception": false,
     "start_time": "2025-07-30T21:27:17.286740",
     "status": "completed"
    },
    "tags": []
   },
   "source": [
    "By Group"
   ]
  },
  {
   "cell_type": "code",
   "execution_count": 75,
   "id": "ec325bce",
   "metadata": {
    "execution": {
     "iopub.execute_input": "2025-07-30T21:27:17.374777Z",
     "iopub.status.busy": "2025-07-30T21:27:17.374099Z",
     "iopub.status.idle": "2025-07-30T21:27:17.389905Z",
     "shell.execute_reply": "2025-07-30T21:27:17.388994Z"
    },
    "papermill": {
     "duration": 0.047893,
     "end_time": "2025-07-30T21:27:17.391632",
     "exception": false,
     "start_time": "2025-07-30T21:27:17.343739",
     "status": "completed"
    },
    "tags": []
   },
   "outputs": [
    {
     "data": {
      "text/html": [
       "<div>\n",
       "<style scoped>\n",
       "    .dataframe tbody tr th:only-of-type {\n",
       "        vertical-align: middle;\n",
       "    }\n",
       "\n",
       "    .dataframe tbody tr th {\n",
       "        vertical-align: top;\n",
       "    }\n",
       "\n",
       "    .dataframe thead th {\n",
       "        text-align: right;\n",
       "    }\n",
       "</style>\n",
       "<table border=\"1\" class=\"dataframe\">\n",
       "  <thead>\n",
       "    <tr style=\"text-align: right;\">\n",
       "      <th></th>\n",
       "      <th>accuracy</th>\n",
       "      <th>balanced accuracy</th>\n",
       "      <th>f1</th>\n",
       "      <th>precision</th>\n",
       "      <th>false positive rate</th>\n",
       "      <th>false negative rate</th>\n",
       "      <th>selection rate</th>\n",
       "      <th>count</th>\n",
       "    </tr>\n",
       "    <tr>\n",
       "      <th>majmin</th>\n",
       "      <th></th>\n",
       "      <th></th>\n",
       "      <th></th>\n",
       "      <th></th>\n",
       "      <th></th>\n",
       "      <th></th>\n",
       "      <th></th>\n",
       "      <th></th>\n",
       "    </tr>\n",
       "  </thead>\n",
       "  <tbody>\n",
       "    <tr>\n",
       "      <th>majority</th>\n",
       "      <td>0.231358</td>\n",
       "      <td>0.539169</td>\n",
       "      <td>0.247683</td>\n",
       "      <td>0.142237</td>\n",
       "      <td>0.879210</td>\n",
       "      <td>0.042451</td>\n",
       "      <td>0.889562</td>\n",
       "      <td>69170.0</td>\n",
       "    </tr>\n",
       "    <tr>\n",
       "      <th>minority</th>\n",
       "      <td>0.173807</td>\n",
       "      <td>0.521137</td>\n",
       "      <td>0.213478</td>\n",
       "      <td>0.119898</td>\n",
       "      <td>0.930277</td>\n",
       "      <td>0.027449</td>\n",
       "      <td>0.935151</td>\n",
       "      <td>20540.0</td>\n",
       "    </tr>\n",
       "  </tbody>\n",
       "</table>\n",
       "</div>"
      ],
      "text/plain": [
       "          accuracy  balanced accuracy        f1  precision  \\\n",
       "majmin                                                       \n",
       "majority  0.231358           0.539169  0.247683   0.142237   \n",
       "minority  0.173807           0.521137  0.213478   0.119898   \n",
       "\n",
       "          false positive rate  false negative rate  selection rate    count  \n",
       "majmin                                                                       \n",
       "majority             0.879210             0.042451        0.889562  69170.0  \n",
       "minority             0.930277             0.027449        0.935151  20540.0  "
      ]
     },
     "execution_count": 75,
     "metadata": {},
     "output_type": "execute_result"
    }
   ],
   "source": [
    "metric_frame.by_group"
   ]
  },
  {
   "cell_type": "code",
   "execution_count": 76,
   "id": "a9ddbe63",
   "metadata": {
    "execution": {
     "iopub.execute_input": "2025-07-30T21:27:17.452825Z",
     "iopub.status.busy": "2025-07-30T21:27:17.452353Z",
     "iopub.status.idle": "2025-07-30T21:27:19.807925Z",
     "shell.execute_reply": "2025-07-30T21:27:19.806809Z"
    },
    "papermill": {
     "duration": 2.387667,
     "end_time": "2025-07-30T21:27:19.809534",
     "exception": false,
     "start_time": "2025-07-30T21:27:17.421867",
     "status": "completed"
    },
    "tags": []
   },
   "outputs": [
    {
     "data": {
      "text/plain": [
       "array([[<Axes: title={'center': 'accuracy'}, xlabel='majmin'>,\n",
       "        <Axes: title={'center': 'balanced accuracy'}, xlabel='majmin'>,\n",
       "        <Axes: title={'center': 'f1'}, xlabel='majmin'>],\n",
       "       [<Axes: title={'center': 'precision'}, xlabel='majmin'>,\n",
       "        <Axes: title={'center': 'false positive rate'}, xlabel='majmin'>,\n",
       "        <Axes: title={'center': 'false negative rate'}, xlabel='majmin'>],\n",
       "       [<Axes: title={'center': 'selection rate'}, xlabel='majmin'>,\n",
       "        <Axes: title={'center': 'count'}, xlabel='majmin'>,\n",
       "        <Axes: xlabel='majmin'>]], dtype=object)"
      ]
     },
     "execution_count": 76,
     "metadata": {},
     "output_type": "execute_result"
    },
    {
     "data": {
      "image/png": "[encoded data removed]",
      "text/plain": [
       "<Figure size 1200x800 with 9 Axes>"
      ]
     },
     "metadata": {},
     "output_type": "display_data"
    }
   ],
   "source": [
    "# In a graphic\n",
    "metric_frame.by_group.plot.bar(\n",
    "    subplots=True,\n",
    "    layout=[3, 3],\n",
    "    legend=False,\n",
    "    figsize=[12, 8],\n",
    "    title=\"Show all metrics\",\n",
    ")"
   ]
  },
  {
   "cell_type": "markdown",
   "id": "f57a0bac",
   "metadata": {
    "papermill": {
     "duration": 0.029641,
     "end_time": "2025-07-30T21:27:19.869662",
     "exception": false,
     "start_time": "2025-07-30T21:27:19.840021",
     "status": "completed"
    },
    "tags": []
   },
   "source": [
    "# Final Output"
   ]
  },
  {
   "cell_type": "code",
   "execution_count": 77,
   "id": "96d280a3",
   "metadata": {
    "execution": {
     "iopub.execute_input": "2025-07-30T21:27:19.913876Z",
     "iopub.status.busy": "2025-07-30T21:27:19.913270Z",
     "iopub.status.idle": "2025-07-30T21:27:19.920853Z",
     "shell.execute_reply": "2025-07-30T21:27:19.920112Z"
    },
    "papermill": {
     "duration": 0.034322,
     "end_time": "2025-07-30T21:27:19.922164",
     "exception": false,
     "start_time": "2025-07-30T21:27:19.887842",
     "status": "completed"
    },
    "tags": []
   },
   "outputs": [
    {
     "data": {
      "text/plain": [
       "4"
      ]
     },
     "execution_count": 77,
     "metadata": {},
     "output_type": "execute_result"
    }
   ],
   "source": [
    "sub_universes = universe_analysis.generate_sub_universes()\n",
    "len(sub_universes)"
   ]
  },
  {
   "cell_type": "code",
   "execution_count": 78,
   "id": "92adf7ba",
   "metadata": {
    "execution": {
     "iopub.execute_input": "2025-07-30T21:27:19.957776Z",
     "iopub.status.busy": "2025-07-30T21:27:19.957418Z",
     "iopub.status.idle": "2025-07-30T21:27:19.966227Z",
     "shell.execute_reply": "2025-07-30T21:27:19.965448Z"
    },
    "papermill": {
     "duration": 0.028437,
     "end_time": "2025-07-30T21:27:19.967628",
     "exception": false,
     "start_time": "2025-07-30T21:27:19.939191",
     "status": "completed"
    },
    "tags": []
   },
   "outputs": [],
   "source": [
    "def filter_sub_universe_data(sub_universe, org_test):\n",
    "    # Keep all rows — no filtering\n",
    "    keep_rows_mask = np.ones(org_test.shape[0], dtype=bool)\n",
    "\n",
    "    print(f\"[INFO] Keeping all rows: {keep_rows_mask.sum()} rows retained.\")\n",
    "    return keep_rows_mask"
   ]
  },
  {
   "cell_type": "code",
   "execution_count": 79,
   "id": "4a759155",
   "metadata": {
    "execution": {
     "iopub.execute_input": "2025-07-30T21:27:19.999954Z",
     "iopub.status.busy": "2025-07-30T21:27:19.999440Z",
     "iopub.status.idle": "2025-07-30T21:27:29.304628Z",
     "shell.execute_reply": "2025-07-30T21:27:29.303622Z"
    },
    "papermill": {
     "duration": 9.322707,
     "end_time": "2025-07-30T21:27:29.306279",
     "exception": false,
     "start_time": "2025-07-30T21:27:19.983572",
     "status": "completed"
    },
    "tags": []
   },
   "outputs": [
    {
     "name": "stdout",
     "output_type": "stream",
     "text": [
      "Stopping execution_time clock.\n",
      "[INFO] Keeping all rows: 89710 rows retained.\n"
     ]
    },
    {
     "name": "stdout",
     "output_type": "stream",
     "text": [
      "[INFO] Keeping all rows: 89710 rows retained.\n"
     ]
    },
    {
     "name": "stdout",
     "output_type": "stream",
     "text": [
      "[INFO] Keeping all rows: 89710 rows retained.\n"
     ]
    },
    {
     "name": "stdout",
     "output_type": "stream",
     "text": [
      "[INFO] Keeping all rows: 89710 rows retained.\n"
     ]
    },
    {
     "data": {
      "text/html": [
       "<div>\n",
       "<style scoped>\n",
       "    .dataframe tbody tr th:only-of-type {\n",
       "        vertical-align: middle;\n",
       "    }\n",
       "\n",
       "    .dataframe tbody tr th {\n",
       "        vertical-align: top;\n",
       "    }\n",
       "\n",
       "    .dataframe thead th {\n",
       "        text-align: right;\n",
       "    }\n",
       "</style>\n",
       "<table border=\"1\" class=\"dataframe\">\n",
       "  <thead>\n",
       "    <tr style=\"text-align: right;\">\n",
       "      <th></th>\n",
       "      <th>run_no</th>\n",
       "      <th>universe_id</th>\n",
       "      <th>universe_settings</th>\n",
       "      <th>execution_time</th>\n",
       "      <th>test_size_n</th>\n",
       "      <th>test_size_frac</th>\n",
       "      <th>fair_main_equalized_odds_difference</th>\n",
       "      <th>fair_main_equalized_odds_ratio</th>\n",
       "      <th>fair_main_demographic_parity_difference</th>\n",
       "      <th>fair_main_demographic_parity_ratio</th>\n",
       "      <th>...</th>\n",
       "      <th>perf_grp_precision_0</th>\n",
       "      <th>perf_grp_precision_1</th>\n",
       "      <th>perf_grp_false positive rate_0</th>\n",
       "      <th>perf_grp_false positive rate_1</th>\n",
       "      <th>perf_grp_false negative rate_0</th>\n",
       "      <th>perf_grp_false negative rate_1</th>\n",
       "      <th>perf_grp_selection rate_0</th>\n",
       "      <th>perf_grp_selection rate_1</th>\n",
       "      <th>perf_grp_count_0</th>\n",
       "      <th>perf_grp_count_1</th>\n",
       "    </tr>\n",
       "  </thead>\n",
       "  <tbody>\n",
       "    <tr>\n",
       "      <th>0</th>\n",
       "      <td>14</td>\n",
       "      <td>364e2a79811f38b07a79cad8d20a7274</td>\n",
       "      <td>{\"cutoff\": \"quantile_0.1\", \"eval_fairness_grou...</td>\n",
       "      <td>29.43066</td>\n",
       "      <td>89710</td>\n",
       "      <td>1.0</td>\n",
       "      <td>0.051067</td>\n",
       "      <td>0.945106</td>\n",
       "      <td>0.045589</td>\n",
       "      <td>0.95125</td>\n",
       "      <td>...</td>\n",
       "      <td>NaN</td>\n",
       "      <td>NaN</td>\n",
       "      <td>NaN</td>\n",
       "      <td>NaN</td>\n",
       "      <td>NaN</td>\n",
       "      <td>NaN</td>\n",
       "      <td>NaN</td>\n",
       "      <td>NaN</td>\n",
       "      <td>NaN</td>\n",
       "      <td>NaN</td>\n",
       "    </tr>\n",
       "    <tr>\n",
       "      <th>0</th>\n",
       "      <td>14</td>\n",
       "      <td>364e2a79811f38b07a79cad8d20a7274</td>\n",
       "      <td>{\"cutoff\": \"quantile_0.1\", \"eval_fairness_grou...</td>\n",
       "      <td>29.43066</td>\n",
       "      <td>89710</td>\n",
       "      <td>1.0</td>\n",
       "      <td>0.051067</td>\n",
       "      <td>0.945106</td>\n",
       "      <td>0.045589</td>\n",
       "      <td>0.95125</td>\n",
       "      <td>...</td>\n",
       "      <td>0.119898</td>\n",
       "      <td>0.142237</td>\n",
       "      <td>0.930277</td>\n",
       "      <td>0.879210</td>\n",
       "      <td>0.027449</td>\n",
       "      <td>0.042451</td>\n",
       "      <td>0.935151</td>\n",
       "      <td>0.889562</td>\n",
       "      <td>20540.0</td>\n",
       "      <td>69170.0</td>\n",
       "    </tr>\n",
       "    <tr>\n",
       "      <th>0</th>\n",
       "      <td>14</td>\n",
       "      <td>364e2a79811f38b07a79cad8d20a7274</td>\n",
       "      <td>{\"cutoff\": \"quantile_0.25\", \"eval_fairness_gro...</td>\n",
       "      <td>29.43066</td>\n",
       "      <td>89710</td>\n",
       "      <td>1.0</td>\n",
       "      <td>0.039954</td>\n",
       "      <td>0.947464</td>\n",
       "      <td>0.032210</td>\n",
       "      <td>0.95843</td>\n",
       "      <td>...</td>\n",
       "      <td>NaN</td>\n",
       "      <td>NaN</td>\n",
       "      <td>NaN</td>\n",
       "      <td>NaN</td>\n",
       "      <td>NaN</td>\n",
       "      <td>NaN</td>\n",
       "      <td>NaN</td>\n",
       "      <td>NaN</td>\n",
       "      <td>NaN</td>\n",
       "      <td>NaN</td>\n",
       "    </tr>\n",
       "    <tr>\n",
       "      <th>0</th>\n",
       "      <td>14</td>\n",
       "      <td>364e2a79811f38b07a79cad8d20a7274</td>\n",
       "      <td>{\"cutoff\": \"quantile_0.25\", \"eval_fairness_gro...</td>\n",
       "      <td>29.43066</td>\n",
       "      <td>89710</td>\n",
       "      <td>1.0</td>\n",
       "      <td>0.039954</td>\n",
       "      <td>0.947464</td>\n",
       "      <td>0.032210</td>\n",
       "      <td>0.95843</td>\n",
       "      <td>...</td>\n",
       "      <td>0.131637</td>\n",
       "      <td>0.157922</td>\n",
       "      <td>0.760511</td>\n",
       "      <td>0.720556</td>\n",
       "      <td>0.115287</td>\n",
       "      <td>0.112473</td>\n",
       "      <td>0.774830</td>\n",
       "      <td>0.742620</td>\n",
       "      <td>20540.0</td>\n",
       "      <td>69170.0</td>\n",
       "    </tr>\n",
       "  </tbody>\n",
       "</table>\n",
       "<p>4 rows × 50 columns</p>\n",
       "</div>"
      ],
      "text/plain": [
       "  run_no                       universe_id  \\\n",
       "0     14  364e2a79811f38b07a79cad8d20a7274   \n",
       "0     14  364e2a79811f38b07a79cad8d20a7274   \n",
       "0     14  364e2a79811f38b07a79cad8d20a7274   \n",
       "0     14  364e2a79811f38b07a79cad8d20a7274   \n",
       "\n",
       "                                   universe_settings  execution_time  \\\n",
       "0  {\"cutoff\": \"quantile_0.1\", \"eval_fairness_grou...        29.43066   \n",
       "0  {\"cutoff\": \"quantile_0.1\", \"eval_fairness_grou...        29.43066   \n",
       "0  {\"cutoff\": \"quantile_0.25\", \"eval_fairness_gro...        29.43066   \n",
       "0  {\"cutoff\": \"quantile_0.25\", \"eval_fairness_gro...        29.43066   \n",
       "\n",
       "   test_size_n  test_size_frac  fair_main_equalized_odds_difference  \\\n",
       "0        89710             1.0                             0.051067   \n",
       "0        89710             1.0                             0.051067   \n",
       "0        89710             1.0                             0.039954   \n",
       "0        89710             1.0                             0.039954   \n",
       "\n",
       "   fair_main_equalized_odds_ratio  fair_main_demographic_parity_difference  \\\n",
       "0                        0.945106                                 0.045589   \n",
       "0                        0.945106                                 0.045589   \n",
       "0                        0.947464                                 0.032210   \n",
       "0                        0.947464                                 0.032210   \n",
       "\n",
       "   fair_main_demographic_parity_ratio  ...  perf_grp_precision_0  \\\n",
       "0                             0.95125  ...                   NaN   \n",
       "0                             0.95125  ...              0.119898   \n",
       "0                             0.95843  ...                   NaN   \n",
       "0                             0.95843  ...              0.131637   \n",
       "\n",
       "   perf_grp_precision_1  perf_grp_false positive rate_0  \\\n",
       "0                   NaN                             NaN   \n",
       "0              0.142237                        0.930277   \n",
       "0                   NaN                             NaN   \n",
       "0              0.157922                        0.760511   \n",
       "\n",
       "   perf_grp_false positive rate_1  perf_grp_false negative rate_0  \\\n",
       "0                             NaN                             NaN   \n",
       "0                        0.879210                        0.027449   \n",
       "0                             NaN                             NaN   \n",
       "0                        0.720556                        0.115287   \n",
       "\n",
       "   perf_grp_false negative rate_1  perf_grp_selection rate_0  \\\n",
       "0                             NaN                        NaN   \n",
       "0                        0.042451                   0.935151   \n",
       "0                             NaN                        NaN   \n",
       "0                        0.112473                   0.774830   \n",
       "\n",
       "   perf_grp_selection rate_1  perf_grp_count_0  perf_grp_count_1  \n",
       "0                        NaN               NaN               NaN  \n",
       "0                   0.889562           20540.0           69170.0  \n",
       "0                        NaN               NaN               NaN  \n",
       "0                   0.742620           20540.0           69170.0  \n",
       "\n",
       "[4 rows x 50 columns]"
      ]
     },
     "execution_count": 79,
     "metadata": {},
     "output_type": "execute_result"
    }
   ],
   "source": [
    "final_output = universe_analysis.generate_final_output(\n",
    "    y_pred_prob=probs_test,\n",
    "    y_test=y_true,\n",
    "    org_test=org_test,\n",
    "    filter_data=filter_sub_universe_data,\n",
    "    cp_metrics_df=cp_metrics_df,\n",
    "    save=True,\n",
    ")\n",
    "final_output"
   ]
  },
  {
   "cell_type": "code",
   "execution_count": null,
   "id": "721ff514-cb11-46f8-b6fc-50392f74b5cb",
   "metadata": {
    "papermill": {
     "duration": 0.027794,
     "end_time": "2025-07-30T21:27:29.366214",
     "exception": false,
     "start_time": "2025-07-30T21:27:29.338420",
     "status": "completed"
    },
    "tags": []
   },
   "outputs": [],
   "source": []
  }
 ],
 "metadata": {
  "celltoolbar": "Tags",
  "kernelspec": {
   "display_name": "Python (CMA Fairness)",
   "language": "python",
   "name": "cma_fair_env"
  },
  "language_info": {
   "codemirror_mode": {
    "name": "ipython",
    "version": 3
   },
   "file_extension": ".py",
   "mimetype": "text/x-python",
   "name": "python",
   "nbconvert_exporter": "python",
   "pygments_lexer": "ipython3",
   "version": "3.10.12"
  },
  "papermill": {
   "default_parameters": {},
   "duration": 42.945872,
   "end_time": "2025-07-30T21:27:30.116708",
   "environment_variables": {},
   "exception": null,
   "input_path": "universe_analysis.ipynb",
   "output_path": "output/runs/14/notebooks/m_14-364e2a79811f38b07a79cad8d20a7274.ipynb",
   "parameters": {
    "output_dir": "output",
    "run_no": "14",
    "seed": "2023",
    "universe": "{\"cutoff\": [\"quantile_0.1\", \"quantile_0.25\"], \"eval_fairness_grouping\": [\"majority-minority\", \"nationality-all\"], \"exclude_features\": \"nationality-sex\", \"exclude_subgroups\": \"drop-non-german\", \"model\": \"elasticnet\", \"scale\": \"scale\", \"training_size\": \"1k\", \"training_year\": \"2014\"}",
    "universe_id": "364e2a79811f38b07a79cad8d20a7274"
   },
   "start_time": "2025-07-30T21:26:47.170836",
   "version": "2.6.0"
  }
 },
 "nbformat": 4,
 "nbformat_minor": 5
}