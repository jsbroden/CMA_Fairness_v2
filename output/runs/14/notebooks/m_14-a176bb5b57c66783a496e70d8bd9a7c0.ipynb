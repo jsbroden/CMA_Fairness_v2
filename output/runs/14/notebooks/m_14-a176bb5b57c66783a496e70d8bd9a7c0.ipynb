{
 "cells": [
  {
   "cell_type": "code",
   "execution_count": 1,
   "id": "f159f837-637b-42ba-96b5-ec9a68c44524",
   "metadata": {
    "execution": {
     "iopub.execute_input": "2025-07-30T20:44:20.454271Z",
     "iopub.status.busy": "2025-07-30T20:44:20.453848Z",
     "iopub.status.idle": "2025-07-30T20:44:20.467893Z",
     "shell.execute_reply": "2025-07-30T20:44:20.467047Z"
    },
    "papermill": {
     "duration": 0.037075,
     "end_time": "2025-07-30T20:44:20.470311",
     "exception": false,
     "start_time": "2025-07-30T20:44:20.433236",
     "status": "completed"
    },
    "tags": []
   },
   "outputs": [
    {
     "name": "stdout",
     "output_type": "stream",
     "text": [
      "/dss/dsshome1/0C/ra93lal2/cma/CMA_Fairness_v2\n"
     ]
    },
    {
     "name": "stderr",
     "output_type": "stream",
     "text": [
      "/dss/dsshome1/0C/ra93lal2/.local/share/virtualenvs/CMA_Fairness_v2-3j10GkSs/lib/python3.10/site-packages/IPython/core/magics/osm.py:393: UserWarning: This is now an optional IPython functionality, using bookmarks requires you to install the `pickleshare` library.\n",
      "  bkms = self.shell.db.get('bookmarks', {})\n",
      "/dss/dsshome1/0C/ra93lal2/.local/share/virtualenvs/CMA_Fairness_v2-3j10GkSs/lib/python3.10/site-packages/IPython/core/magics/osm.py:417: UserWarning: This is now an optional IPython functionality, setting dhist requires you to install the `pickleshare` library.\n",
      "  self.shell.db['dhist'] = compress_dhist(dhist)[-100:]\n"
     ]
    }
   ],
   "source": [
    "%cd ~/cma/CMA_Fairness_v2"
   ]
  },
  {
   "cell_type": "markdown",
   "id": "de2603b9",
   "metadata": {
    "papermill": {
     "duration": 0.02072,
     "end_time": "2025-07-30T20:44:20.509514",
     "exception": false,
     "start_time": "2025-07-30T20:44:20.488794",
     "status": "completed"
    },
    "tags": []
   },
   "source": [
    "The following cell holds the definition of our parameters, these values can be overriden by rendering the with e.g. the following command:\n",
    "\n",
    "papermill -p alpha 0.2 -p ratio 0.3 universe_analysis.ipynb output/test_run.ipynb"
   ]
  },
  {
   "cell_type": "code",
   "execution_count": 2,
   "id": "a80968a0-40bb-4fa9-85ef-2d5eefb01975",
   "metadata": {
    "execution": {
     "iopub.execute_input": "2025-07-30T20:44:20.550200Z",
     "iopub.status.busy": "2025-07-30T20:44:20.549193Z",
     "iopub.status.idle": "2025-07-30T20:44:20.555724Z",
     "shell.execute_reply": "2025-07-30T20:44:20.554518Z"
    },
    "papermill": {
     "duration": 0.028358,
     "end_time": "2025-07-30T20:44:20.557686",
     "exception": false,
     "start_time": "2025-07-30T20:44:20.529328",
     "status": "completed"
    },
    "tags": []
   },
   "outputs": [
    {
     "name": "stdout",
     "output_type": "stream",
     "text": [
      "Current working directory: /dss/dsshome1/0C/ra93lal2/cma/CMA_Fairness_v2\n"
     ]
    }
   ],
   "source": [
    "import os\n",
    "print(\"Current working directory:\", os.getcwd())"
   ]
  },
  {
   "cell_type": "code",
   "execution_count": 3,
   "id": "2dce4c03",
   "metadata": {
    "execution": {
     "iopub.execute_input": "2025-07-30T20:44:20.598965Z",
     "iopub.status.busy": "2025-07-30T20:44:20.597910Z",
     "iopub.status.idle": "2025-07-30T20:44:20.604984Z",
     "shell.execute_reply": "2025-07-30T20:44:20.603904Z"
    },
    "papermill": {
     "duration": 0.02926,
     "end_time": "2025-07-30T20:44:20.606667",
     "exception": false,
     "start_time": "2025-07-30T20:44:20.577407",
     "status": "completed"
    },
    "tags": [
     "parameters"
    ]
   },
   "outputs": [],
   "source": [
    "run_no = 0\n",
    "universe_id = \"test\"\n",
    "universe = {\n",
    "    \"training_size\": \"25k\", # \"25k\", \"5k\", \"1k\"\n",
    "    \"training_year\": \"2014\", # \"2014\", \"2012_14\", \"2010_14\"\n",
    "    \"scale\": \"scale\", # \"scale\", \"do-not-scale\",\n",
    "    #\"stratify_split\": \"target\", # \"none\", \"target\", \"protected-attribute\", \"both\",\n",
    "    \"model\": \"elasticnet\", # \"logreg\", \"penalized_logreg\", \"rf\", \"gbm\", \"elasticnet\"\n",
    "    \"cutoff\": [\"quantile_0.15\", \"quantile_0.30\"],\n",
    "    \"exclude_features\": \"age\", # \"none\", \"nationality\", \"sex\", \"nationality-sex\", \"age\"\n",
    "    \"exclude_subgroups\": \"keep-all\", # \"keep-all\", \"drop-non-german\"\n",
    "    \"eval_fairness_grouping\": [\"majority-minority\", \"nationality-all\"]\n",
    "}\n",
    "\n",
    "output_dir=\"./output\"\n",
    "seed=0"
   ]
  },
  {
   "cell_type": "code",
   "execution_count": 4,
   "id": "5ad37ab5",
   "metadata": {
    "execution": {
     "iopub.execute_input": "2025-07-30T20:44:20.660335Z",
     "iopub.status.busy": "2025-07-30T20:44:20.659717Z",
     "iopub.status.idle": "2025-07-30T20:44:20.665396Z",
     "shell.execute_reply": "2025-07-30T20:44:20.664485Z"
    },
    "papermill": {
     "duration": 0.036188,
     "end_time": "2025-07-30T20:44:20.666942",
     "exception": false,
     "start_time": "2025-07-30T20:44:20.630754",
     "status": "completed"
    },
    "tags": [
     "injected-parameters"
    ]
   },
   "outputs": [],
   "source": [
    "# Parameters\n",
    "universe_id = \"a176bb5b57c66783a496e70d8bd9a7c0\"\n",
    "run_no = \"14\"\n",
    "universe = \"{\\\"cutoff\\\": [\\\"quantile_0.1\\\", \\\"quantile_0.25\\\"], \\\"eval_fairness_grouping\\\": [\\\"majority-minority\\\", \\\"nationality-all\\\"], \\\"exclude_features\\\": \\\"none\\\", \\\"exclude_subgroups\\\": \\\"drop-non-german\\\", \\\"model\\\": \\\"penalized_logreg\\\", \\\"scale\\\": \\\"scale\\\", \\\"training_size\\\": \\\"5k\\\", \\\"training_year\\\": \\\"2014\\\"}\"\n",
    "output_dir = \"output\"\n",
    "seed = \"2023\"\n"
   ]
  },
  {
   "cell_type": "code",
   "execution_count": 5,
   "id": "1650acaf",
   "metadata": {
    "execution": {
     "iopub.execute_input": "2025-07-30T20:44:20.707382Z",
     "iopub.status.busy": "2025-07-30T20:44:20.706887Z",
     "iopub.status.idle": "2025-07-30T20:44:20.712166Z",
     "shell.execute_reply": "2025-07-30T20:44:20.711259Z"
    },
    "papermill": {
     "duration": 0.025861,
     "end_time": "2025-07-30T20:44:20.713711",
     "exception": false,
     "start_time": "2025-07-30T20:44:20.687850",
     "status": "completed"
    },
    "tags": []
   },
   "outputs": [],
   "source": [
    "import json\n",
    "# Parse universe into dict if it is passed as a string\n",
    "if isinstance(universe, str):\n",
    "    universe = json.loads(universe)"
   ]
  },
  {
   "cell_type": "code",
   "execution_count": 6,
   "id": "16620c48",
   "metadata": {
    "execution": {
     "iopub.execute_input": "2025-07-30T20:44:20.754378Z",
     "iopub.status.busy": "2025-07-30T20:44:20.753535Z",
     "iopub.status.idle": "2025-07-30T20:44:20.796479Z",
     "shell.execute_reply": "2025-07-30T20:44:20.795548Z"
    },
    "papermill": {
     "duration": 0.065318,
     "end_time": "2025-07-30T20:44:20.798433",
     "exception": false,
     "start_time": "2025-07-30T20:44:20.733115",
     "status": "completed"
    },
    "tags": []
   },
   "outputs": [],
   "source": [
    "# Auto-reload the custom package\n",
    "%load_ext autoreload\n",
    "%autoreload 1\n",
    "%aimport fairness_multiverse"
   ]
  },
  {
   "cell_type": "code",
   "execution_count": 7,
   "id": "01c5c9f3",
   "metadata": {
    "execution": {
     "iopub.execute_input": "2025-07-30T20:44:20.840639Z",
     "iopub.status.busy": "2025-07-30T20:44:20.839881Z",
     "iopub.status.idle": "2025-07-30T20:44:22.660572Z",
     "shell.execute_reply": "2025-07-30T20:44:22.659786Z"
    },
    "papermill": {
     "duration": 1.842723,
     "end_time": "2025-07-30T20:44:22.661976",
     "exception": false,
     "start_time": "2025-07-30T20:44:20.819253",
     "status": "completed"
    },
    "tags": []
   },
   "outputs": [],
   "source": [
    "from fairness_multiverse.universe import UniverseAnalysis\n",
    "\n",
    "universe_analysis = UniverseAnalysis(\n",
    "    run_no = run_no,\n",
    "    universe_id = universe_id,\n",
    "    universe = universe,\n",
    "    output_dir=output_dir,\n",
    ")"
   ]
  },
  {
   "cell_type": "code",
   "execution_count": 8,
   "id": "106241f5",
   "metadata": {
    "execution": {
     "iopub.execute_input": "2025-07-30T20:44:22.687978Z",
     "iopub.status.busy": "2025-07-30T20:44:22.687128Z",
     "iopub.status.idle": "2025-07-30T20:44:22.693375Z",
     "shell.execute_reply": "2025-07-30T20:44:22.692407Z"
    },
    "papermill": {
     "duration": 0.022686,
     "end_time": "2025-07-30T20:44:22.695289",
     "exception": false,
     "start_time": "2025-07-30T20:44:22.672603",
     "status": "completed"
    },
    "tags": []
   },
   "outputs": [
    {
     "name": "stdout",
     "output_type": "stream",
     "text": [
      "Using Seed: 2023\n"
     ]
    }
   ],
   "source": [
    "import numpy as np\n",
    "parsed_seed = int(seed)\n",
    "np.random.seed(parsed_seed)\n",
    "print(f\"Using Seed: {parsed_seed}\")"
   ]
  },
  {
   "cell_type": "markdown",
   "id": "e0ebdc57",
   "metadata": {
    "papermill": {
     "duration": 0.018117,
     "end_time": "2025-07-30T20:44:22.733106",
     "exception": false,
     "start_time": "2025-07-30T20:44:22.714989",
     "status": "completed"
    },
    "tags": []
   },
   "source": [
    "# Loading Data"
   ]
  },
  {
   "cell_type": "markdown",
   "id": "681925a3",
   "metadata": {
    "papermill": {
     "duration": 0.018259,
     "end_time": "2025-07-30T20:44:22.770231",
     "exception": false,
     "start_time": "2025-07-30T20:44:22.751972",
     "status": "completed"
    },
    "tags": []
   },
   "source": [
    "Load siab_train, siab_test, siab_calib and/or \n",
    "load siab_train_features, siab_train_labels"
   ]
  },
  {
   "cell_type": "code",
   "execution_count": 9,
   "id": "f0496b8a",
   "metadata": {
    "execution": {
     "iopub.execute_input": "2025-07-30T20:44:22.811455Z",
     "iopub.status.busy": "2025-07-30T20:44:22.810530Z",
     "iopub.status.idle": "2025-07-30T20:44:33.146457Z",
     "shell.execute_reply": "2025-07-30T20:44:33.145373Z"
    },
    "papermill": {
     "duration": 10.359468,
     "end_time": "2025-07-30T20:44:33.147791",
     "exception": false,
     "start_time": "2025-07-30T20:44:22.788323",
     "status": "completed"
    },
    "tags": []
   },
   "outputs": [
    {
     "name": "stdout",
     "output_type": "stream",
     "text": [
      "Loading SIAB data from cache: data/siab_cached.csv.gz\n"
     ]
    },
    {
     "name": "stdout",
     "output_type": "stream",
     "text": [
      "(643690, 164)\n"
     ]
    }
   ],
   "source": [
    "from pathlib import Path\n",
    "import pandas as pd\n",
    "\n",
    "# File paths\n",
    "raw_file = Path(\"data/raw/siab.csv\")\n",
    "cache_file = Path(\"data/siab_cached.csv.gz\")\n",
    "\n",
    "# Ensure cache directory exists\n",
    "cache_file.parent.mkdir(parents=True, exist_ok=True)\n",
    "\n",
    "# Load with simple caching\n",
    "if cache_file.exists():\n",
    "    print(f\"Loading SIAB data from cache: {cache_file}\")\n",
    "    siab = pd.read_csv(cache_file, compression='gzip')\n",
    "else:\n",
    "    print(f\"Cache not found. Reading raw SIAB data: {raw_file}\")\n",
    "    siab = pd.read_csv(raw_file)\n",
    "    siab.to_csv(cache_file, index=False, compression='gzip')\n",
    "    print(f\"Cached SIAB data to: {cache_file}\")\n",
    "\n",
    "# Now use `siab` DataFrame as needed\n",
    "print(siab.shape)"
   ]
  },
  {
   "cell_type": "code",
   "execution_count": 10,
   "id": "db0ca512-5f53-4dba-abdb-a2888bca41ba",
   "metadata": {
    "execution": {
     "iopub.execute_input": "2025-07-30T20:44:33.173521Z",
     "iopub.status.busy": "2025-07-30T20:44:33.173154Z",
     "iopub.status.idle": "2025-07-30T20:44:33.177625Z",
     "shell.execute_reply": "2025-07-30T20:44:33.176816Z"
    },
    "papermill": {
     "duration": 0.016961,
     "end_time": "2025-07-30T20:44:33.178846",
     "exception": false,
     "start_time": "2025-07-30T20:44:33.161885",
     "status": "completed"
    },
    "tags": []
   },
   "outputs": [],
   "source": [
    "#siab"
   ]
  },
  {
   "cell_type": "code",
   "execution_count": 11,
   "id": "a0edb063",
   "metadata": {
    "execution": {
     "iopub.execute_input": "2025-07-30T20:44:33.202069Z",
     "iopub.status.busy": "2025-07-30T20:44:33.201560Z",
     "iopub.status.idle": "2025-07-30T20:44:33.205913Z",
     "shell.execute_reply": "2025-07-30T20:44:33.205193Z"
    },
    "papermill": {
     "duration": 0.017287,
     "end_time": "2025-07-30T20:44:33.207217",
     "exception": false,
     "start_time": "2025-07-30T20:44:33.189930",
     "status": "completed"
    },
    "tags": []
   },
   "outputs": [],
   "source": [
    "#import pandas as pd\n",
    "#\n",
    "#X_train = pd.read_csv(\"./data/X_train.csv\")\n",
    "#y_train = pd.read_csv(\"./data/y_train.csv\")"
   ]
  },
  {
   "cell_type": "code",
   "execution_count": 12,
   "id": "63d08085",
   "metadata": {
    "execution": {
     "iopub.execute_input": "2025-07-30T20:44:33.229516Z",
     "iopub.status.busy": "2025-07-30T20:44:33.228866Z",
     "iopub.status.idle": "2025-07-30T20:44:33.232922Z",
     "shell.execute_reply": "2025-07-30T20:44:33.232277Z"
    },
    "papermill": {
     "duration": 0.016301,
     "end_time": "2025-07-30T20:44:33.234272",
     "exception": false,
     "start_time": "2025-07-30T20:44:33.217971",
     "status": "completed"
    },
    "tags": []
   },
   "outputs": [],
   "source": [
    "#X_test = pd.read_csv(\"./data/X_test.csv\")\n",
    "#y_true = pd.read_csv(\"./data/y_test.csv\")"
   ]
  },
  {
   "cell_type": "code",
   "execution_count": 13,
   "id": "98a8d0fa-1d3d-4ed8-bb2c-281470e24add",
   "metadata": {
    "execution": {
     "iopub.execute_input": "2025-07-30T20:44:33.257195Z",
     "iopub.status.busy": "2025-07-30T20:44:33.256554Z",
     "iopub.status.idle": "2025-07-30T20:44:33.260683Z",
     "shell.execute_reply": "2025-07-30T20:44:33.260022Z"
    },
    "papermill": {
     "duration": 0.016538,
     "end_time": "2025-07-30T20:44:33.261953",
     "exception": false,
     "start_time": "2025-07-30T20:44:33.245415",
     "status": "completed"
    },
    "tags": []
   },
   "outputs": [],
   "source": [
    "# Calibration data for conformal\n",
    "#X_calib = pd.read_csv(\"./data/X_calib.csv\")\n",
    "#y_calib = pd.read_csv(\"./data/y_calib.csv\")"
   ]
  },
  {
   "cell_type": "markdown",
   "id": "997051c5-15bd-4b69-9786-c3001a3ce484",
   "metadata": {
    "papermill": {
     "duration": 0.010398,
     "end_time": "2025-07-30T20:44:33.283365",
     "exception": false,
     "start_time": "2025-07-30T20:44:33.272967",
     "status": "completed"
    },
    "tags": []
   },
   "source": [
    "# Splitting Data and Setting Training Data Size"
   ]
  },
  {
   "cell_type": "code",
   "execution_count": 14,
   "id": "e993b61f-042d-41a6-8c81-f55681f86335",
   "metadata": {
    "execution": {
     "iopub.execute_input": "2025-07-30T20:44:33.305443Z",
     "iopub.status.busy": "2025-07-30T20:44:33.304957Z",
     "iopub.status.idle": "2025-07-30T20:44:33.314233Z",
     "shell.execute_reply": "2025-07-30T20:44:33.313553Z"
    },
    "papermill": {
     "duration": 0.022137,
     "end_time": "2025-07-30T20:44:33.315639",
     "exception": false,
     "start_time": "2025-07-30T20:44:33.293502",
     "status": "completed"
    },
    "tags": []
   },
   "outputs": [],
   "source": [
    "def sample_by_year_size(df,\n",
    "                        training_year: str,\n",
    "                        training_size: str,\n",
    "                        random_state: int = 42):\n",
    "    # --- parse training_year into a list of int years ---\n",
    "    if \"_\" in training_year:\n",
    "        start_str, end_str = training_year.split(\"_\", 1)\n",
    "        start = int(start_str)\n",
    "        end   = int(end_str) if len(end_str) == 4 else (int(end_str) + (start // 100)*100)\n",
    "        years = list(range(start, end + 1))\n",
    "    else:\n",
    "        years = [int(training_year)]\n",
    "\n",
    "    df = df[df[\"year\"].isin(years)].reset_index(drop=True)\n",
    "\n",
    "    # --- map training_size to total number of samples ---\n",
    "    total_map = {\"25k\": 25_000, \"5k\": 5_000, \"1k\": 1_000}\n",
    "    if training_size not in total_map:\n",
    "        return df  # e.g. \"all\"\n",
    "\n",
    "    total_samples = total_map[training_size]\n",
    "    n_years       = len(years)\n",
    "    base          = total_samples // n_years\n",
    "    remainder     = total_samples % n_years\n",
    "\n",
    "    # --- build a dict: year -> how many to sample ---\n",
    "    # give +1 to the first `remainder` years in ascending order\n",
    "    quotas = {\n",
    "        year: base + (1 if idx < remainder else 0)\n",
    "        for idx, year in enumerate(sorted(years))\n",
    "    }\n",
    "\n",
    "    # --- sample per‐year according to the quota dict ---\n",
    "    sampled = (\n",
    "        df\n",
    "        .groupby(\"year\", group_keys=False)\n",
    "        .apply(lambda grp: grp.sample(\n",
    "            n=min(len(grp), quotas[grp.name]),\n",
    "            random_state=random_state))\n",
    "        .reset_index(drop=True)\n",
    "    )\n",
    "\n",
    "    return sampled"
   ]
  },
  {
   "cell_type": "code",
   "execution_count": 15,
   "id": "c0ccd338-0e02-41f3-a09d-f56f9266e3fb",
   "metadata": {
    "execution": {
     "iopub.execute_input": "2025-07-30T20:44:33.338443Z",
     "iopub.status.busy": "2025-07-30T20:44:33.338185Z",
     "iopub.status.idle": "2025-07-30T20:44:33.342027Z",
     "shell.execute_reply": "2025-07-30T20:44:33.341373Z"
    },
    "papermill": {
     "duration": 0.016267,
     "end_time": "2025-07-30T20:44:33.343250",
     "exception": false,
     "start_time": "2025-07-30T20:44:33.326983",
     "status": "completed"
    },
    "tags": []
   },
   "outputs": [],
   "source": [
    "#universe[\"training_size\"]"
   ]
  },
  {
   "cell_type": "code",
   "execution_count": 16,
   "id": "ca707fd7-8047-4acd-bfa5-66248fbbf8e6",
   "metadata": {
    "execution": {
     "iopub.execute_input": "2025-07-30T20:44:33.365900Z",
     "iopub.status.busy": "2025-07-30T20:44:33.365261Z",
     "iopub.status.idle": "2025-07-30T20:44:33.369504Z",
     "shell.execute_reply": "2025-07-30T20:44:33.368835Z"
    },
    "papermill": {
     "duration": 0.016565,
     "end_time": "2025-07-30T20:44:33.370753",
     "exception": false,
     "start_time": "2025-07-30T20:44:33.354188",
     "status": "completed"
    },
    "tags": []
   },
   "outputs": [],
   "source": [
    "#universe[\"training_year\"]"
   ]
  },
  {
   "cell_type": "code",
   "execution_count": 17,
   "id": "aea9c6ef-6f46-42c8-85eb-5a62025c1508",
   "metadata": {
    "execution": {
     "iopub.execute_input": "2025-07-30T20:44:33.393977Z",
     "iopub.status.busy": "2025-07-30T20:44:33.393327Z",
     "iopub.status.idle": "2025-07-30T20:44:33.588168Z",
     "shell.execute_reply": "2025-07-30T20:44:33.587391Z"
    },
    "papermill": {
     "duration": 0.207859,
     "end_time": "2025-07-30T20:44:33.589618",
     "exception": false,
     "start_time": "2025-07-30T20:44:33.381759",
     "status": "completed"
    },
    "tags": []
   },
   "outputs": [],
   "source": [
    "siab_train = sample_by_year_size(siab,\n",
    "                               training_year=universe[\"training_year\"],\n",
    "                               training_size=universe[\"training_size\"])"
   ]
  },
  {
   "cell_type": "code",
   "execution_count": 18,
   "id": "8d3afb32-789d-442c-8d5d-9f5aa8dd2eed",
   "metadata": {
    "execution": {
     "iopub.execute_input": "2025-07-30T20:44:33.613131Z",
     "iopub.status.busy": "2025-07-30T20:44:33.612407Z",
     "iopub.status.idle": "2025-07-30T20:44:33.616663Z",
     "shell.execute_reply": "2025-07-30T20:44:33.615954Z"
    },
    "papermill": {
     "duration": 0.017179,
     "end_time": "2025-07-30T20:44:33.618225",
     "exception": false,
     "start_time": "2025-07-30T20:44:33.601046",
     "status": "completed"
    },
    "tags": []
   },
   "outputs": [],
   "source": [
    "#siab_train.shape"
   ]
  },
  {
   "cell_type": "code",
   "execution_count": 19,
   "id": "d582db68-1a4c-47fb-84fc-08518dc1975a",
   "metadata": {
    "execution": {
     "iopub.execute_input": "2025-07-30T20:44:33.641455Z",
     "iopub.status.busy": "2025-07-30T20:44:33.640795Z",
     "iopub.status.idle": "2025-07-30T20:44:33.644988Z",
     "shell.execute_reply": "2025-07-30T20:44:33.644325Z"
    },
    "papermill": {
     "duration": 0.016781,
     "end_time": "2025-07-30T20:44:33.646174",
     "exception": false,
     "start_time": "2025-07-30T20:44:33.629393",
     "status": "completed"
    },
    "tags": []
   },
   "outputs": [],
   "source": [
    "#display(siab_train.groupby(\"year\").size())"
   ]
  },
  {
   "cell_type": "code",
   "execution_count": 20,
   "id": "a561edb4-d032-42cb-8256-22eac1111c64",
   "metadata": {
    "execution": {
     "iopub.execute_input": "2025-07-30T20:44:33.669799Z",
     "iopub.status.busy": "2025-07-30T20:44:33.669101Z",
     "iopub.status.idle": "2025-07-30T20:44:33.870850Z",
     "shell.execute_reply": "2025-07-30T20:44:33.870118Z"
    },
    "papermill": {
     "duration": 0.214789,
     "end_time": "2025-07-30T20:44:33.872304",
     "exception": false,
     "start_time": "2025-07-30T20:44:33.657515",
     "status": "completed"
    },
    "tags": []
   },
   "outputs": [],
   "source": [
    "#siab_train = siab_s[siab_s.year < 2015]\n",
    "siab_calib = siab[siab.year == 2015]\n",
    "siab_test = siab[siab.year == 2016]"
   ]
  },
  {
   "cell_type": "code",
   "execution_count": 21,
   "id": "472de16f-c3db-4916-846b-1f0de9cf1746",
   "metadata": {
    "execution": {
     "iopub.execute_input": "2025-07-30T20:44:33.895099Z",
     "iopub.status.busy": "2025-07-30T20:44:33.894778Z",
     "iopub.status.idle": "2025-07-30T20:44:33.902924Z",
     "shell.execute_reply": "2025-07-30T20:44:33.902234Z"
    },
    "papermill": {
     "duration": 0.020609,
     "end_time": "2025-07-30T20:44:33.904175",
     "exception": false,
     "start_time": "2025-07-30T20:44:33.883566",
     "status": "completed"
    },
    "tags": []
   },
   "outputs": [],
   "source": [
    "X_train = siab_train.iloc[:,4:164]\n",
    "y_train = siab_train.iloc[:, [3]]"
   ]
  },
  {
   "cell_type": "code",
   "execution_count": 22,
   "id": "828c96af-f43a-4ed6-ba47-8ac73a47d56c",
   "metadata": {
    "execution": {
     "iopub.execute_input": "2025-07-30T20:44:33.927684Z",
     "iopub.status.busy": "2025-07-30T20:44:33.926975Z",
     "iopub.status.idle": "2025-07-30T20:44:33.973302Z",
     "shell.execute_reply": "2025-07-30T20:44:33.972500Z"
    },
    "papermill": {
     "duration": 0.058792,
     "end_time": "2025-07-30T20:44:33.974579",
     "exception": false,
     "start_time": "2025-07-30T20:44:33.915787",
     "status": "completed"
    },
    "tags": []
   },
   "outputs": [],
   "source": [
    "X_calib = siab_calib.iloc[:,4:164]\n",
    "y_calib = siab_calib.iloc[:, [3]]"
   ]
  },
  {
   "cell_type": "code",
   "execution_count": 23,
   "id": "c34be9c3-6bd6-476e-acd3-845840e303be",
   "metadata": {
    "execution": {
     "iopub.execute_input": "2025-07-30T20:44:33.998641Z",
     "iopub.status.busy": "2025-07-30T20:44:33.997940Z",
     "iopub.status.idle": "2025-07-30T20:44:34.045234Z",
     "shell.execute_reply": "2025-07-30T20:44:34.044375Z"
    },
    "papermill": {
     "duration": 0.059994,
     "end_time": "2025-07-30T20:44:34.046514",
     "exception": false,
     "start_time": "2025-07-30T20:44:33.986520",
     "status": "completed"
    },
    "tags": []
   },
   "outputs": [],
   "source": [
    "X_test = siab_test.iloc[:,4:164]\n",
    "y_true = siab_test.iloc[:, [3]]"
   ]
  },
  {
   "cell_type": "markdown",
   "id": "9901737e-04df-44f0-9100-f5ad144ed040",
   "metadata": {
    "papermill": {
     "duration": 0.011392,
     "end_time": "2025-07-30T20:44:34.070092",
     "exception": false,
     "start_time": "2025-07-30T20:44:34.058700",
     "status": "completed"
    },
    "tags": []
   },
   "source": [
    "# Splitting Data and Setting Training Data Size OLD VERSION"
   ]
  },
  {
   "cell_type": "code",
   "execution_count": 24,
   "id": "acbc8f7d-8fc8-4e86-8c59-5dcb0f58384b",
   "metadata": {
    "execution": {
     "iopub.execute_input": "2025-07-30T20:44:34.093996Z",
     "iopub.status.busy": "2025-07-30T20:44:34.092959Z",
     "iopub.status.idle": "2025-07-30T20:44:34.097944Z",
     "shell.execute_reply": "2025-07-30T20:44:34.097172Z"
    },
    "papermill": {
     "duration": 0.018225,
     "end_time": "2025-07-30T20:44:34.099288",
     "exception": false,
     "start_time": "2025-07-30T20:44:34.081063",
     "status": "completed"
    },
    "tags": []
   },
   "outputs": [],
   "source": [
    "#def sample_by_year(df, training_size, random_state=42):\n",
    "#    if training_size == \"2014\":\n",
    "#        return df[df[\"year\"] == 2014].reset_index(drop=True)\n",
    "#    \n",
    "#    size_map = {\n",
    "#        \"25k\": 5000,\n",
    "#        \"5k\": 1000,\n",
    "#        \"1k\": 200\n",
    "#    }\n",
    "#\n",
    "#    if training_size not in size_map:\n",
    "#        return df.reset_index(drop=True)  # use all data\n",
    "#\n",
    "#    n_per_year = size_map[training_size]\n",
    "#    grouped = df.groupby(\"year\")\n",
    "#    sampled = grouped.apply(lambda x: x.sample(n=min(n_per_year, len(x)), random_state=random_state))\n",
    "#    return sampled.reset_index(drop=True)"
   ]
  },
  {
   "cell_type": "code",
   "execution_count": 25,
   "id": "6d931f52-beaf-43ff-9e78-9d44a448d54e",
   "metadata": {
    "execution": {
     "iopub.execute_input": "2025-07-30T20:44:34.123021Z",
     "iopub.status.busy": "2025-07-30T20:44:34.122385Z",
     "iopub.status.idle": "2025-07-30T20:44:34.126566Z",
     "shell.execute_reply": "2025-07-30T20:44:34.125927Z"
    },
    "papermill": {
     "duration": 0.017073,
     "end_time": "2025-07-30T20:44:34.127860",
     "exception": false,
     "start_time": "2025-07-30T20:44:34.110787",
     "status": "completed"
    },
    "tags": []
   },
   "outputs": [],
   "source": [
    "#siab_s = sample_by_year(siab, universe[\"training_size\"])"
   ]
  },
  {
   "cell_type": "code",
   "execution_count": 26,
   "id": "5db0a40e-a4e2-4920-be85-b12ae061d70d",
   "metadata": {
    "execution": {
     "iopub.execute_input": "2025-07-30T20:44:34.151578Z",
     "iopub.status.busy": "2025-07-30T20:44:34.150730Z",
     "iopub.status.idle": "2025-07-30T20:44:34.155404Z",
     "shell.execute_reply": "2025-07-30T20:44:34.154665Z"
    },
    "papermill": {
     "duration": 0.017491,
     "end_time": "2025-07-30T20:44:34.156677",
     "exception": false,
     "start_time": "2025-07-30T20:44:34.139186",
     "status": "completed"
    },
    "tags": []
   },
   "outputs": [],
   "source": [
    "#display(siab_s.groupby(\"year\").size())"
   ]
  },
  {
   "cell_type": "code",
   "execution_count": 27,
   "id": "e6c733c5",
   "metadata": {
    "execution": {
     "iopub.execute_input": "2025-07-30T20:44:34.180873Z",
     "iopub.status.busy": "2025-07-30T20:44:34.180100Z",
     "iopub.status.idle": "2025-07-30T20:44:34.272833Z",
     "shell.execute_reply": "2025-07-30T20:44:34.272109Z"
    },
    "papermill": {
     "duration": 0.105985,
     "end_time": "2025-07-30T20:44:34.274289",
     "exception": false,
     "start_time": "2025-07-30T20:44:34.168304",
     "status": "completed"
    },
    "tags": []
   },
   "outputs": [],
   "source": [
    "# Auxiliary data needed downstream in the pipeline\n",
    "\n",
    "org_train = X_train.copy()\n",
    "org_test = X_test.copy()\n",
    "org_calib = X_calib.copy()"
   ]
  },
  {
   "cell_type": "code",
   "execution_count": 28,
   "id": "1466abac-c6da-4492-a62f-4240ae3783af",
   "metadata": {
    "execution": {
     "iopub.execute_input": "2025-07-30T20:44:34.298141Z",
     "iopub.status.busy": "2025-07-30T20:44:34.297438Z",
     "iopub.status.idle": "2025-07-30T20:44:34.302247Z",
     "shell.execute_reply": "2025-07-30T20:44:34.301538Z"
    },
    "papermill": {
     "duration": 0.017653,
     "end_time": "2025-07-30T20:44:34.303634",
     "exception": false,
     "start_time": "2025-07-30T20:44:34.285981",
     "status": "completed"
    },
    "tags": []
   },
   "outputs": [],
   "source": [
    "# put in other script?\n",
    "# Group sizes\n",
    "\n",
    "#def calculate_percentages(df, df_name):\n",
    "#    total_entries = len(df)\n",
    "#\n",
    "#    female_pct = (df['frau1'] == 1).mean() * 100\n",
    "#    non_german_pct = ((df['maxdeutsch1'] == 0) & (df['maxdeutsch.Missing.'] == 0)).mean() * 100\n",
    "#    non_german_male_pct = ((df['frau1'] == 0) & (df['maxdeutsch1'] == 0) & (df['maxdeutsch.Missing.'] == 0)).mean() * 100\n",
    "#    non_german_female_pct = ((df['frau1'] == 1) & (df['maxdeutsch1'] == 0) & (df['maxdeutsch.Missing.'] == 0)).mean() * 100\n",
    "#\n",
    "#    print(f\"--- {df_name} ---\")\n",
    "#    print(f\"Female: {female_pct:.2f}%\")\n",
    "#    print(f\"Non-German: {non_german_pct:.2f}%\")\n",
    "#    print(f\"Non-German Male: {non_german_male_pct:.2f}%\")\n",
    "#    print(f\"Non-German Female: {non_german_female_pct:.2f}%\\n\")\n",
    "#\n",
    "## Calculate for each DataFrame\n",
    "#calculate_percentages(siab_calib, \"siab_calib\")\n",
    "#calculate_percentages(siab_test, \"siab_test\")\n",
    "#calculate_percentages(siab_train, \"siab_train\")"
   ]
  },
  {
   "cell_type": "markdown",
   "id": "0a4a1b33",
   "metadata": {
    "papermill": {
     "duration": 0.010609,
     "end_time": "2025-07-30T20:44:34.325846",
     "exception": false,
     "start_time": "2025-07-30T20:44:34.315237",
     "status": "completed"
    },
    "tags": []
   },
   "source": [
    "# Preprocessing Data"
   ]
  },
  {
   "cell_type": "code",
   "execution_count": 29,
   "id": "ca879031",
   "metadata": {
    "execution": {
     "iopub.execute_input": "2025-07-30T20:44:34.348633Z",
     "iopub.status.busy": "2025-07-30T20:44:34.348134Z",
     "iopub.status.idle": "2025-07-30T20:44:34.352900Z",
     "shell.execute_reply": "2025-07-30T20:44:34.352225Z"
    },
    "papermill": {
     "duration": 0.017715,
     "end_time": "2025-07-30T20:44:34.354197",
     "exception": false,
     "start_time": "2025-07-30T20:44:34.336482",
     "status": "completed"
    },
    "tags": []
   },
   "outputs": [],
   "source": [
    "# EXCLUDE PROTECTED FEATURES\n",
    "# ----------------------\n",
    "# \"exclude_features\": \"none\", # \"nationality\", \"sex\", \"nationality-sex\"\n",
    "\n",
    "excluded_features = universe[\"exclude_features\"].split(\"-\") # split, e.g.: \"nationality-sex\" -> [\"nationality\", \"sex\"]\n",
    "excluded_features_dictionary = {\n",
    "    \"nationality\": [\"maxdeutsch1\", \"maxdeutsch.Missing.\"],\n",
    "    \"sex\": [\"frau1\"],\n",
    "    \"age\": [\"age\"],\n",
    "}\n"
   ]
  },
  {
   "cell_type": "code",
   "execution_count": 30,
   "id": "b745ac60",
   "metadata": {
    "execution": {
     "iopub.execute_input": "2025-07-30T20:44:34.378272Z",
     "iopub.status.busy": "2025-07-30T20:44:34.377630Z",
     "iopub.status.idle": "2025-07-30T20:44:34.382288Z",
     "shell.execute_reply": "2025-07-30T20:44:34.381631Z"
    },
    "papermill": {
     "duration": 0.017617,
     "end_time": "2025-07-30T20:44:34.383588",
     "exception": false,
     "start_time": "2025-07-30T20:44:34.365971",
     "status": "completed"
    },
    "tags": []
   },
   "outputs": [],
   "source": [
    "# Code nice names to column names\n",
    "\n",
    "excluded_features_columns = [\n",
    "    excluded_features_dictionary[f] for f in excluded_features if len(f) > 0 and f != \"none\"\n",
    "]"
   ]
  },
  {
   "cell_type": "code",
   "execution_count": 31,
   "id": "f84f73a2",
   "metadata": {
    "execution": {
     "iopub.execute_input": "2025-07-30T20:44:34.407672Z",
     "iopub.status.busy": "2025-07-30T20:44:34.407023Z",
     "iopub.status.idle": "2025-07-30T20:44:34.412251Z",
     "shell.execute_reply": "2025-07-30T20:44:34.411535Z"
    },
    "papermill": {
     "duration": 0.0183,
     "end_time": "2025-07-30T20:44:34.413725",
     "exception": false,
     "start_time": "2025-07-30T20:44:34.395425",
     "status": "completed"
    },
    "tags": []
   },
   "outputs": [],
   "source": [
    "from utils import flatten_once\n",
    "\n",
    "excluded_features_columns = flatten_once(excluded_features_columns)"
   ]
  },
  {
   "cell_type": "code",
   "execution_count": 32,
   "id": "884dea22",
   "metadata": {
    "execution": {
     "iopub.execute_input": "2025-07-30T20:44:34.437368Z",
     "iopub.status.busy": "2025-07-30T20:44:34.436828Z",
     "iopub.status.idle": "2025-07-30T20:44:34.441554Z",
     "shell.execute_reply": "2025-07-30T20:44:34.440883Z"
    },
    "papermill": {
     "duration": 0.017554,
     "end_time": "2025-07-30T20:44:34.442835",
     "exception": false,
     "start_time": "2025-07-30T20:44:34.425281",
     "status": "completed"
    },
    "tags": []
   },
   "outputs": [],
   "source": [
    "if len(excluded_features_columns) > 0:\n",
    "    print(f\"Dropping features: {excluded_features_columns}\")\n",
    "    X_train.drop(excluded_features_columns, axis=1, inplace=True)"
   ]
  },
  {
   "cell_type": "code",
   "execution_count": 33,
   "id": "95ab8b16",
   "metadata": {
    "execution": {
     "iopub.execute_input": "2025-07-30T20:44:34.467034Z",
     "iopub.status.busy": "2025-07-30T20:44:34.466554Z",
     "iopub.status.idle": "2025-07-30T20:44:34.471174Z",
     "shell.execute_reply": "2025-07-30T20:44:34.470458Z"
    },
    "papermill": {
     "duration": 0.018027,
     "end_time": "2025-07-30T20:44:34.472432",
     "exception": false,
     "start_time": "2025-07-30T20:44:34.454405",
     "status": "completed"
    },
    "tags": []
   },
   "outputs": [],
   "source": [
    "if len(excluded_features_columns) > 0:\n",
    "    print(f\"Dropping features: {excluded_features_columns}\")\n",
    "    X_test.drop(excluded_features_columns, axis=1, inplace=True)"
   ]
  },
  {
   "cell_type": "code",
   "execution_count": 34,
   "id": "1853aaf5-fb9f-46cb-a2b5-8ea4ae2237e4",
   "metadata": {
    "execution": {
     "iopub.execute_input": "2025-07-30T20:44:34.496874Z",
     "iopub.status.busy": "2025-07-30T20:44:34.496202Z",
     "iopub.status.idle": "2025-07-30T20:44:34.501150Z",
     "shell.execute_reply": "2025-07-30T20:44:34.500446Z"
    },
    "papermill": {
     "duration": 0.018284,
     "end_time": "2025-07-30T20:44:34.502458",
     "exception": false,
     "start_time": "2025-07-30T20:44:34.484174",
     "status": "completed"
    },
    "tags": []
   },
   "outputs": [],
   "source": [
    "if len(excluded_features_columns) > 0:\n",
    "    print(f\"Dropping features: {excluded_features_columns}\")\n",
    "    X_calib.drop(excluded_features_columns, axis=1, inplace=True)"
   ]
  },
  {
   "cell_type": "code",
   "execution_count": 35,
   "id": "6727d079-03e5-481e-9d38-292a90b7a0a8",
   "metadata": {
    "execution": {
     "iopub.execute_input": "2025-07-30T20:44:34.526567Z",
     "iopub.status.busy": "2025-07-30T20:44:34.525867Z",
     "iopub.status.idle": "2025-07-30T20:44:34.530319Z",
     "shell.execute_reply": "2025-07-30T20:44:34.529638Z"
    },
    "papermill": {
     "duration": 0.017548,
     "end_time": "2025-07-30T20:44:34.531577",
     "exception": false,
     "start_time": "2025-07-30T20:44:34.514029",
     "status": "completed"
    },
    "tags": []
   },
   "outputs": [],
   "source": [
    "# SPLIT & STRATIFY DATA\n",
    "# ----------------------"
   ]
  },
  {
   "cell_type": "code",
   "execution_count": 36,
   "id": "76c4dc6d",
   "metadata": {
    "execution": {
     "iopub.execute_input": "2025-07-30T20:44:34.555453Z",
     "iopub.status.busy": "2025-07-30T20:44:34.554836Z",
     "iopub.status.idle": "2025-07-30T20:44:34.559333Z",
     "shell.execute_reply": "2025-07-30T20:44:34.558659Z"
    },
    "papermill": {
     "duration": 0.017713,
     "end_time": "2025-07-30T20:44:34.560677",
     "exception": false,
     "start_time": "2025-07-30T20:44:34.542964",
     "status": "completed"
    },
    "tags": []
   },
   "outputs": [],
   "source": [
    "# EXCLUDE CERTAIN SUBGROUPS\n",
    "# ----------------------\n",
    "\n",
    "mode = universe.get(\"exclude_subgroups\", \"keep-all\") \n",
    "# Fetches the exclude_subgroups setting from the universe dict.\n",
    "# Defaults to \"keep-all\" if the key is missing."
   ]
  },
  {
   "cell_type": "code",
   "execution_count": 37,
   "id": "21994072",
   "metadata": {
    "execution": {
     "iopub.execute_input": "2025-07-30T20:44:34.585145Z",
     "iopub.status.busy": "2025-07-30T20:44:34.584524Z",
     "iopub.status.idle": "2025-07-30T20:44:34.590612Z",
     "shell.execute_reply": "2025-07-30T20:44:34.589963Z"
    },
    "papermill": {
     "duration": 0.019224,
     "end_time": "2025-07-30T20:44:34.591882",
     "exception": false,
     "start_time": "2025-07-30T20:44:34.572658",
     "status": "completed"
    },
    "tags": []
   },
   "outputs": [],
   "source": [
    "if mode == \"keep-all\":\n",
    "    keep_mask = pd.Series(True, index=org_train.index)\n",
    "\n",
    "# org_train contains the original feature columns from features_org (in Simson)\n",
    "# features_org contains unprocessed features, for me X_train at beginning ???\n",
    "# For keep-all, creates a boolean Series (keep_mask) of all True, so no rows are removed.\n",
    "\n",
    "elif mode == \"drop-non-german\":\n",
    "    keep_mask = org_train[\"maxdeutsch1\"] == 1 # ??? what about missing values?\n",
    "\n",
    "else:\n",
    "    raise ValueError(f\"Unsupported mode for exclude_subgroups: {mode}\")\n"
   ]
  },
  {
   "cell_type": "code",
   "execution_count": 38,
   "id": "71651440",
   "metadata": {
    "execution": {
     "iopub.execute_input": "2025-07-30T20:44:34.615804Z",
     "iopub.status.busy": "2025-07-30T20:44:34.615470Z",
     "iopub.status.idle": "2025-07-30T20:44:34.621339Z",
     "shell.execute_reply": "2025-07-30T20:44:34.620360Z"
    },
    "papermill": {
     "duration": 0.01918,
     "end_time": "2025-07-30T20:44:34.622757",
     "exception": false,
     "start_time": "2025-07-30T20:44:34.603577",
     "status": "completed"
    },
    "tags": []
   },
   "outputs": [
    {
     "name": "stdout",
     "output_type": "stream",
     "text": [
      "Dropping 741 rows (14.82%) where mode='drop-non-german'\n"
     ]
    }
   ],
   "source": [
    "n_drop = (~keep_mask).sum() # Calculates how many rows are set to be dropped\n",
    "if n_drop > 0:\n",
    "    pct = n_drop / len(keep_mask) * 100\n",
    "    print(f\"Dropping {n_drop} rows ({pct:.2f}%) where mode='{mode}'\")"
   ]
  },
  {
   "cell_type": "code",
   "execution_count": 39,
   "id": "5fb8eee5",
   "metadata": {
    "execution": {
     "iopub.execute_input": "2025-07-30T20:44:34.647086Z",
     "iopub.status.busy": "2025-07-30T20:44:34.646455Z",
     "iopub.status.idle": "2025-07-30T20:44:34.653699Z",
     "shell.execute_reply": "2025-07-30T20:44:34.653053Z"
    },
    "papermill": {
     "duration": 0.020388,
     "end_time": "2025-07-30T20:44:34.655013",
     "exception": false,
     "start_time": "2025-07-30T20:44:34.634625",
     "status": "completed"
    },
    "tags": []
   },
   "outputs": [],
   "source": [
    "X_train = X_train[keep_mask]"
   ]
  },
  {
   "cell_type": "code",
   "execution_count": 40,
   "id": "b202bb3a",
   "metadata": {
    "execution": {
     "iopub.execute_input": "2025-07-30T20:44:34.679748Z",
     "iopub.status.busy": "2025-07-30T20:44:34.679415Z",
     "iopub.status.idle": "2025-07-30T20:44:34.684039Z",
     "shell.execute_reply": "2025-07-30T20:44:34.683361Z"
    },
    "papermill": {
     "duration": 0.018098,
     "end_time": "2025-07-30T20:44:34.685439",
     "exception": false,
     "start_time": "2025-07-30T20:44:34.667341",
     "status": "completed"
    },
    "tags": []
   },
   "outputs": [],
   "source": [
    "y_train = y_train[keep_mask]"
   ]
  },
  {
   "cell_type": "markdown",
   "id": "493e2ac3",
   "metadata": {
    "papermill": {
     "duration": 0.011032,
     "end_time": "2025-07-30T20:44:34.708311",
     "exception": false,
     "start_time": "2025-07-30T20:44:34.697279",
     "status": "completed"
    },
    "tags": []
   },
   "source": [
    "# Model Training"
   ]
  },
  {
   "cell_type": "code",
   "execution_count": 41,
   "id": "679e1268",
   "metadata": {
    "execution": {
     "iopub.execute_input": "2025-07-30T20:44:34.732078Z",
     "iopub.status.busy": "2025-07-30T20:44:34.731700Z",
     "iopub.status.idle": "2025-07-30T20:44:34.804079Z",
     "shell.execute_reply": "2025-07-30T20:44:34.803340Z"
    },
    "papermill": {
     "duration": 0.085949,
     "end_time": "2025-07-30T20:44:34.805464",
     "exception": false,
     "start_time": "2025-07-30T20:44:34.719515",
     "status": "completed"
    },
    "tags": []
   },
   "outputs": [],
   "source": [
    "from sklearn.linear_model import LogisticRegression\n",
    "from sklearn.ensemble import GradientBoostingClassifier, RandomForestClassifier\n",
    "\n",
    "if (universe[\"model\"] == \"logreg\"):\n",
    "    model = LogisticRegression() #penalty=\"none\") #, solver=\"newton-cg\", max_iter=1) # include random_state=19 ?\n",
    "elif (universe[\"model\"] == \"penalized_logreg\"):\n",
    "    model = LogisticRegression(penalty=\"l2\", C=1.0) #, solver=\"newton-cg\", max_iter=1)\n",
    "elif (universe[\"model\"] == \"rf\"):\n",
    "    model = RandomForestClassifier(n_estimators=100, n_jobs=-1)\n",
    "elif (universe[\"model\"] == \"gbm\"):\n",
    "    model = GradientBoostingClassifier()\n",
    "elif (universe[\"model\"] == \"elasticnet\"):\n",
    "    model = LogisticRegression(penalty = 'elasticnet', solver = 'saga', l1_ratio = 0.5, max_iter=5000) # which solver to use?\n",
    "else:\n",
    "    raise \"Unsupported universe.model\""
   ]
  },
  {
   "cell_type": "code",
   "execution_count": 42,
   "id": "0cc8f744",
   "metadata": {
    "execution": {
     "iopub.execute_input": "2025-07-30T20:44:34.830417Z",
     "iopub.status.busy": "2025-07-30T20:44:34.829941Z",
     "iopub.status.idle": "2025-07-30T20:44:34.834963Z",
     "shell.execute_reply": "2025-07-30T20:44:34.834285Z"
    },
    "papermill": {
     "duration": 0.018663,
     "end_time": "2025-07-30T20:44:34.836311",
     "exception": false,
     "start_time": "2025-07-30T20:44:34.817648",
     "status": "completed"
    },
    "tags": []
   },
   "outputs": [],
   "source": [
    "import numpy as np\n",
    "from sklearn.pipeline import Pipeline\n",
    "from sklearn.preprocessing import StandardScaler\n",
    "\n",
    "model = Pipeline([\n",
    "    #(\"continuous_processor\", continuous_processor),\n",
    "    #(\"categorical_preprocessor\", categorical_preprocessor),\n",
    "    (\"scale\", StandardScaler() if universe[\"scale\"] == \"scale\" else None), \n",
    "    (\"model\", model),\n",
    "])"
   ]
  },
  {
   "cell_type": "code",
   "execution_count": 43,
   "id": "9442c04d",
   "metadata": {
    "execution": {
     "iopub.execute_input": "2025-07-30T20:44:34.860950Z",
     "iopub.status.busy": "2025-07-30T20:44:34.860449Z",
     "iopub.status.idle": "2025-07-30T20:44:34.957002Z",
     "shell.execute_reply": "2025-07-30T20:44:34.956331Z"
    },
    "papermill": {
     "duration": 0.10978,
     "end_time": "2025-07-30T20:44:34.958272",
     "exception": false,
     "start_time": "2025-07-30T20:44:34.848492",
     "status": "completed"
    },
    "tags": []
   },
   "outputs": [
    {
     "name": "stderr",
     "output_type": "stream",
     "text": [
      "/dss/dsshome1/0C/ra93lal2/.local/share/virtualenvs/CMA_Fairness_v2-3j10GkSs/lib/python3.10/site-packages/sklearn/linear_model/_logistic.py:444: ConvergenceWarning: lbfgs failed to converge (status=1):\n",
      "STOP: TOTAL NO. of ITERATIONS REACHED LIMIT.\n",
      "\n",
      "Increase the number of iterations (max_iter) or scale the data as shown in:\n",
      "    https://scikit-learn.org/stable/modules/preprocessing.html\n",
      "Please also refer to the documentation for alternative solver options:\n",
      "    https://scikit-learn.org/stable/modules/linear_model.html#logistic-regression\n",
      "  n_iter_i = _check_optimize_result(\n"
     ]
    },
    {
     "data": {
      "text/html": [
       "<style>#sk-container-id-1 {color: black;background-color: white;}#sk-container-id-1 pre{padding: 0;}#sk-container-id-1 div.sk-toggleable {background-color: white;}#sk-container-id-1 label.sk-toggleable__label {cursor: pointer;display: block;width: 100%;margin-bottom: 0;padding: 0.3em;box-sizing: border-box;text-align: center;}#sk-container-id-1 label.sk-toggleable__label-arrow:before {content: \"▸\";float: left;margin-right: 0.25em;color: #696969;}#sk-container-id-1 label.sk-toggleable__label-arrow:hover:before {color: black;}#sk-container-id-1 div.sk-estimator:hover label.sk-toggleable__label-arrow:before {color: black;}#sk-container-id-1 div.sk-toggleable__content {max-height: 0;max-width: 0;overflow: hidden;text-align: left;background-color: #f0f8ff;}#sk-container-id-1 div.sk-toggleable__content pre {margin: 0.2em;color: black;border-radius: 0.25em;background-color: #f0f8ff;}#sk-container-id-1 input.sk-toggleable__control:checked~div.sk-toggleable__content {max-height: 200px;max-width: 100%;overflow: auto;}#sk-container-id-1 input.sk-toggleable__control:checked~label.sk-toggleable__label-arrow:before {content: \"▾\";}#sk-container-id-1 div.sk-estimator input.sk-toggleable__control:checked~label.sk-toggleable__label {background-color: #d4ebff;}#sk-container-id-1 div.sk-label input.sk-toggleable__control:checked~label.sk-toggleable__label {background-color: #d4ebff;}#sk-container-id-1 input.sk-hidden--visually {border: 0;clip: rect(1px 1px 1px 1px);clip: rect(1px, 1px, 1px, 1px);height: 1px;margin: -1px;overflow: hidden;padding: 0;position: absolute;width: 1px;}#sk-container-id-1 div.sk-estimator {font-family: monospace;background-color: #f0f8ff;border: 1px dotted black;border-radius: 0.25em;box-sizing: border-box;margin-bottom: 0.5em;}#sk-container-id-1 div.sk-estimator:hover {background-color: #d4ebff;}#sk-container-id-1 div.sk-parallel-item::after {content: \"\";width: 100%;border-bottom: 1px solid gray;flex-grow: 1;}#sk-container-id-1 div.sk-label:hover label.sk-toggleable__label {background-color: #d4ebff;}#sk-container-id-1 div.sk-serial::before {content: \"\";position: absolute;border-left: 1px solid gray;box-sizing: border-box;top: 0;bottom: 0;left: 50%;z-index: 0;}#sk-container-id-1 div.sk-serial {display: flex;flex-direction: column;align-items: center;background-color: white;padding-right: 0.2em;padding-left: 0.2em;position: relative;}#sk-container-id-1 div.sk-item {position: relative;z-index: 1;}#sk-container-id-1 div.sk-parallel {display: flex;align-items: stretch;justify-content: center;background-color: white;position: relative;}#sk-container-id-1 div.sk-item::before, #sk-container-id-1 div.sk-parallel-item::before {content: \"\";position: absolute;border-left: 1px solid gray;box-sizing: border-box;top: 0;bottom: 0;left: 50%;z-index: -1;}#sk-container-id-1 div.sk-parallel-item {display: flex;flex-direction: column;z-index: 1;position: relative;background-color: white;}#sk-container-id-1 div.sk-parallel-item:first-child::after {align-self: flex-end;width: 50%;}#sk-container-id-1 div.sk-parallel-item:last-child::after {align-self: flex-start;width: 50%;}#sk-container-id-1 div.sk-parallel-item:only-child::after {width: 0;}#sk-container-id-1 div.sk-dashed-wrapped {border: 1px dashed gray;margin: 0 0.4em 0.5em 0.4em;box-sizing: border-box;padding-bottom: 0.4em;background-color: white;}#sk-container-id-1 div.sk-label label {font-family: monospace;font-weight: bold;display: inline-block;line-height: 1.2em;}#sk-container-id-1 div.sk-label-container {text-align: center;}#sk-container-id-1 div.sk-container {/* jupyter's `normalize.less` sets `[hidden] { display: none; }` but bootstrap.min.css set `[hidden] { display: none !important; }` so we also need the `!important` here to be able to override the default hidden behavior on the sphinx rendered scikit-learn.org. See: https://github.com/scikit-learn/scikit-learn/issues/21755 */display: inline-block !important;position: relative;}#sk-container-id-1 div.sk-text-repr-fallback {display: none;}</style><div id=\"sk-container-id-1\" class=\"sk-top-container\"><div class=\"sk-text-repr-fallback\"><pre>Pipeline(steps=[(&#x27;scale&#x27;, StandardScaler()), (&#x27;model&#x27;, LogisticRegression())])</pre><b>In a Jupyter environment, please rerun this cell to show the HTML representation or trust the notebook. <br />On GitHub, the HTML representation is unable to render, please try loading this page with nbviewer.org.</b></div><div class=\"sk-container\" hidden><div class=\"sk-item sk-dashed-wrapped\"><div class=\"sk-label-container\"><div class=\"sk-label sk-toggleable\"><input class=\"sk-toggleable__control sk-hidden--visually\" id=\"sk-estimator-id-1\" type=\"checkbox\" ><label for=\"sk-estimator-id-1\" class=\"sk-toggleable__label sk-toggleable__label-arrow\">Pipeline</label><div class=\"sk-toggleable__content\"><pre>Pipeline(steps=[(&#x27;scale&#x27;, StandardScaler()), (&#x27;model&#x27;, LogisticRegression())])</pre></div></div></div><div class=\"sk-serial\"><div class=\"sk-item\"><div class=\"sk-estimator sk-toggleable\"><input class=\"sk-toggleable__control sk-hidden--visually\" id=\"sk-estimator-id-2\" type=\"checkbox\" ><label for=\"sk-estimator-id-2\" class=\"sk-toggleable__label sk-toggleable__label-arrow\">StandardScaler</label><div class=\"sk-toggleable__content\"><pre>StandardScaler()</pre></div></div></div><div class=\"sk-item\"><div class=\"sk-estimator sk-toggleable\"><input class=\"sk-toggleable__control sk-hidden--visually\" id=\"sk-estimator-id-3\" type=\"checkbox\" ><label for=\"sk-estimator-id-3\" class=\"sk-toggleable__label sk-toggleable__label-arrow\">LogisticRegression</label><div class=\"sk-toggleable__content\"><pre>LogisticRegression()</pre></div></div></div></div></div></div></div>"
      ],
      "text/plain": [
       "Pipeline(steps=[('scale', StandardScaler()), ('model', LogisticRegression())])"
      ]
     },
     "execution_count": 43,
     "metadata": {},
     "output_type": "execute_result"
    }
   ],
   "source": [
    "model.fit(X_train, y_train.values.ravel())"
   ]
  },
  {
   "cell_type": "code",
   "execution_count": 44,
   "id": "af59f8c0",
   "metadata": {
    "execution": {
     "iopub.execute_input": "2025-07-30T20:44:34.983497Z",
     "iopub.status.busy": "2025-07-30T20:44:34.983154Z",
     "iopub.status.idle": "2025-07-30T20:44:34.987243Z",
     "shell.execute_reply": "2025-07-30T20:44:34.986487Z"
    },
    "papermill": {
     "duration": 0.017646,
     "end_time": "2025-07-30T20:44:34.988574",
     "exception": false,
     "start_time": "2025-07-30T20:44:34.970928",
     "status": "completed"
    },
    "tags": []
   },
   "outputs": [],
   "source": [
    "from fairness_multiverse.universe import predict_w_threshold"
   ]
  },
  {
   "cell_type": "code",
   "execution_count": 45,
   "id": "a7cf2e16",
   "metadata": {
    "execution": {
     "iopub.execute_input": "2025-07-30T20:44:35.013746Z",
     "iopub.status.busy": "2025-07-30T20:44:35.013030Z",
     "iopub.status.idle": "2025-07-30T20:44:35.182953Z",
     "shell.execute_reply": "2025-07-30T20:44:35.182090Z"
    },
    "papermill": {
     "duration": 0.183647,
     "end_time": "2025-07-30T20:44:35.184257",
     "exception": false,
     "start_time": "2025-07-30T20:44:35.000610",
     "status": "completed"
    },
    "tags": []
   },
   "outputs": [
    {
     "data": {
      "text/plain": [
       "0.8556905584661688"
      ]
     },
     "execution_count": 45,
     "metadata": {},
     "output_type": "execute_result"
    }
   ],
   "source": [
    "probs_test = model.predict_proba(X_test)\n",
    "\n",
    "'''\n",
    "Below code returns a boolean array (or binary 0/1 array depending on how it’s used) where each element \n",
    "is True if the probability of class 1 is greater than or equal to the threshold, and False otherwise.\n",
    "'''\n",
    "y_pred_default = predict_w_threshold(probs_test, 0.5)\n",
    "\n",
    "from sklearn.metrics import accuracy_score\n",
    "\n",
    "# Naive prediction\n",
    "accuracy_score(y_true = y_true, y_pred = y_pred_default)"
   ]
  },
  {
   "cell_type": "code",
   "execution_count": 46,
   "id": "081964c3",
   "metadata": {
    "execution": {
     "iopub.execute_input": "2025-07-30T20:44:35.210369Z",
     "iopub.status.busy": "2025-07-30T20:44:35.210024Z",
     "iopub.status.idle": "2025-07-30T20:44:35.373923Z",
     "shell.execute_reply": "2025-07-30T20:44:35.373038Z"
    },
    "papermill": {
     "duration": 0.178579,
     "end_time": "2025-07-30T20:44:35.375279",
     "exception": false,
     "start_time": "2025-07-30T20:44:35.196700",
     "status": "completed"
    },
    "tags": []
   },
   "outputs": [
    {
     "data": {
      "text/plain": [
       "array([0, 0, 0, ..., 0, 0, 0])"
      ]
     },
     "execution_count": 46,
     "metadata": {},
     "output_type": "execute_result"
    }
   ],
   "source": [
    "model.predict(X_test)"
   ]
  },
  {
   "cell_type": "markdown",
   "id": "56c9705b",
   "metadata": {
    "papermill": {
     "duration": 0.012336,
     "end_time": "2025-07-30T20:44:35.400713",
     "exception": false,
     "start_time": "2025-07-30T20:44:35.388377",
     "status": "completed"
    },
    "tags": []
   },
   "source": [
    "# Conformal Prediction"
   ]
  },
  {
   "cell_type": "code",
   "execution_count": 47,
   "id": "160ec6ff",
   "metadata": {
    "execution": {
     "iopub.execute_input": "2025-07-30T20:44:35.426429Z",
     "iopub.status.busy": "2025-07-30T20:44:35.425898Z",
     "iopub.status.idle": "2025-07-30T20:44:35.430779Z",
     "shell.execute_reply": "2025-07-30T20:44:35.430052Z"
    },
    "papermill": {
     "duration": 0.019431,
     "end_time": "2025-07-30T20:44:35.432153",
     "exception": false,
     "start_time": "2025-07-30T20:44:35.412722",
     "status": "completed"
    },
    "tags": []
   },
   "outputs": [],
   "source": [
    "# Miscoverage level for conformal prediction (10% allowed error rate => 90% target coverage)\n",
    "alpha = 0.1"
   ]
  },
  {
   "cell_type": "code",
   "execution_count": 48,
   "id": "eadf4555-3dd3-440e-8e35-f82a4ad9f855",
   "metadata": {
    "execution": {
     "iopub.execute_input": "2025-07-30T20:44:35.458845Z",
     "iopub.status.busy": "2025-07-30T20:44:35.458354Z",
     "iopub.status.idle": "2025-07-30T20:44:35.615517Z",
     "shell.execute_reply": "2025-07-30T20:44:35.614766Z"
    },
    "papermill": {
     "duration": 0.171806,
     "end_time": "2025-07-30T20:44:35.617111",
     "exception": false,
     "start_time": "2025-07-30T20:44:35.445305",
     "status": "completed"
    },
    "tags": []
   },
   "outputs": [],
   "source": [
    "probs_calib = model.predict_proba(X_calib)"
   ]
  },
  {
   "cell_type": "code",
   "execution_count": 49,
   "id": "2ed93547-6d5d-4983-9b36-1ecb300da49a",
   "metadata": {
    "execution": {
     "iopub.execute_input": "2025-07-30T20:44:35.643501Z",
     "iopub.status.busy": "2025-07-30T20:44:35.642942Z",
     "iopub.status.idle": "2025-07-30T20:44:35.647722Z",
     "shell.execute_reply": "2025-07-30T20:44:35.647057Z"
    },
    "papermill": {
     "duration": 0.018993,
     "end_time": "2025-07-30T20:44:35.648988",
     "exception": false,
     "start_time": "2025-07-30T20:44:35.629995",
     "status": "completed"
    },
    "tags": []
   },
   "outputs": [],
   "source": [
    "y_calib = y_calib.values.ravel().astype(int)"
   ]
  },
  {
   "cell_type": "code",
   "execution_count": 50,
   "id": "65d1320d-f588-4b38-9072-62af1ae97f7d",
   "metadata": {
    "execution": {
     "iopub.execute_input": "2025-07-30T20:44:35.675683Z",
     "iopub.status.busy": "2025-07-30T20:44:35.675188Z",
     "iopub.status.idle": "2025-07-30T20:44:35.681294Z",
     "shell.execute_reply": "2025-07-30T20:44:35.680519Z"
    },
    "papermill": {
     "duration": 0.020624,
     "end_time": "2025-07-30T20:44:35.682557",
     "exception": false,
     "start_time": "2025-07-30T20:44:35.661933",
     "status": "completed"
    },
    "tags": []
   },
   "outputs": [],
   "source": [
    "from fairness_multiverse.conformal import compute_nc_scores\n",
    "\n",
    "# Compute nonconformity scores on calibration set (1 - probability of true class)\n",
    "nc_scores = compute_nc_scores(probs_calib, y_calib)"
   ]
  },
  {
   "cell_type": "code",
   "execution_count": 51,
   "id": "df3b8ca3-53b7-43d5-9667-7c85da7aeda2",
   "metadata": {
    "execution": {
     "iopub.execute_input": "2025-07-30T20:44:35.709754Z",
     "iopub.status.busy": "2025-07-30T20:44:35.709263Z",
     "iopub.status.idle": "2025-07-30T20:44:35.714757Z",
     "shell.execute_reply": "2025-07-30T20:44:35.714119Z"
    },
    "papermill": {
     "duration": 0.020197,
     "end_time": "2025-07-30T20:44:35.716046",
     "exception": false,
     "start_time": "2025-07-30T20:44:35.695849",
     "status": "completed"
    },
    "tags": []
   },
   "outputs": [],
   "source": [
    "from fairness_multiverse.conformal import find_threshold\n",
    "\n",
    "# Find conformal threshold q_hat for the given alpha (split conformal method)\n",
    "q_hat = find_threshold(nc_scores, alpha)"
   ]
  },
  {
   "cell_type": "code",
   "execution_count": 52,
   "id": "4d29e6c1-0ef6-4aa4-b8fe-4fe79b0d033a",
   "metadata": {
    "execution": {
     "iopub.execute_input": "2025-07-30T20:44:35.743075Z",
     "iopub.status.busy": "2025-07-30T20:44:35.742578Z",
     "iopub.status.idle": "2025-07-30T20:44:35.749091Z",
     "shell.execute_reply": "2025-07-30T20:44:35.748401Z"
    },
    "papermill": {
     "duration": 0.021217,
     "end_time": "2025-07-30T20:44:35.750307",
     "exception": false,
     "start_time": "2025-07-30T20:44:35.729090",
     "status": "completed"
    },
    "tags": []
   },
   "outputs": [
    {
     "data": {
      "text/plain": [
       "0.6920192634141921"
      ]
     },
     "execution_count": 52,
     "metadata": {},
     "output_type": "execute_result"
    }
   ],
   "source": [
    "q_hat"
   ]
  },
  {
   "cell_type": "code",
   "execution_count": 53,
   "id": "92460794-cdac-4be2-ba28-f28c0515a6fb",
   "metadata": {
    "execution": {
     "iopub.execute_input": "2025-07-30T20:44:35.777443Z",
     "iopub.status.busy": "2025-07-30T20:44:35.776946Z",
     "iopub.status.idle": "2025-07-30T20:44:36.392175Z",
     "shell.execute_reply": "2025-07-30T20:44:36.391390Z"
    },
    "papermill": {
     "duration": 0.630056,
     "end_time": "2025-07-30T20:44:36.393680",
     "exception": false,
     "start_time": "2025-07-30T20:44:35.763624",
     "status": "completed"
    },
    "tags": []
   },
   "outputs": [],
   "source": [
    "from fairness_multiverse.conformal import predict_conformal_sets\n",
    "\n",
    "# Generate prediction sets for each test example\n",
    "pred_sets = predict_conformal_sets(model, X_test, q_hat)"
   ]
  },
  {
   "cell_type": "code",
   "execution_count": 54,
   "id": "d90c9a65-e6db-4f5d-80cd-e68fb7e46829",
   "metadata": {
    "execution": {
     "iopub.execute_input": "2025-07-30T20:44:36.420184Z",
     "iopub.status.busy": "2025-07-30T20:44:36.419819Z",
     "iopub.status.idle": "2025-07-30T20:44:36.424618Z",
     "shell.execute_reply": "2025-07-30T20:44:36.423923Z"
    },
    "papermill": {
     "duration": 0.019481,
     "end_time": "2025-07-30T20:44:36.426174",
     "exception": false,
     "start_time": "2025-07-30T20:44:36.406693",
     "status": "completed"
    },
    "tags": []
   },
   "outputs": [],
   "source": [
    "y_true = y_true.squeeze()"
   ]
  },
  {
   "cell_type": "code",
   "execution_count": 55,
   "id": "3a58a54a-1e68-46b9-927a-df01f18aebc8",
   "metadata": {
    "execution": {
     "iopub.execute_input": "2025-07-30T20:44:36.453618Z",
     "iopub.status.busy": "2025-07-30T20:44:36.453109Z",
     "iopub.status.idle": "2025-07-30T20:44:36.971268Z",
     "shell.execute_reply": "2025-07-30T20:44:36.970060Z"
    },
    "papermill": {
     "duration": 0.533855,
     "end_time": "2025-07-30T20:44:36.973393",
     "exception": false,
     "start_time": "2025-07-30T20:44:36.439538",
     "status": "completed"
    },
    "tags": []
   },
   "outputs": [],
   "source": [
    "from fairness_multiverse.conformal import evaluate_sets\n",
    "\n",
    "# Evaluate coverage and average set size on test data\n",
    "metrics = evaluate_sets(pred_sets, y_true)"
   ]
  },
  {
   "cell_type": "markdown",
   "id": "2b569c12-9aaa-4c88-98c9-bbcd0cf3ebb8",
   "metadata": {
    "papermill": {
     "duration": 0.023479,
     "end_time": "2025-07-30T20:44:37.022633",
     "exception": false,
     "start_time": "2025-07-30T20:44:36.999154",
     "status": "completed"
    },
    "tags": []
   },
   "source": [
    "# CP Metrics"
   ]
  },
  {
   "cell_type": "code",
   "execution_count": 56,
   "id": "5ce0a5cb-201f-45a0-ade5-94c7f0bd6095",
   "metadata": {
    "execution": {
     "iopub.execute_input": "2025-07-30T20:44:37.073721Z",
     "iopub.status.busy": "2025-07-30T20:44:37.072894Z",
     "iopub.status.idle": "2025-07-30T20:44:37.080212Z",
     "shell.execute_reply": "2025-07-30T20:44:37.079199Z"
    },
    "papermill": {
     "duration": 0.033831,
     "end_time": "2025-07-30T20:44:37.081747",
     "exception": false,
     "start_time": "2025-07-30T20:44:37.047916",
     "status": "completed"
    },
    "tags": []
   },
   "outputs": [
    {
     "data": {
      "text/plain": [
       "{'coverage': 0.9099877382677516, 'avg_size': 1.137977928881953}"
      ]
     },
     "execution_count": 56,
     "metadata": {},
     "output_type": "execute_result"
    }
   ],
   "source": [
    "metrics"
   ]
  },
  {
   "cell_type": "code",
   "execution_count": 57,
   "id": "9b9a838d-31c9-430b-ae14-12baee460d17",
   "metadata": {
    "execution": {
     "iopub.execute_input": "2025-07-30T20:44:37.132162Z",
     "iopub.status.busy": "2025-07-30T20:44:37.131312Z",
     "iopub.status.idle": "2025-07-30T20:44:37.137953Z",
     "shell.execute_reply": "2025-07-30T20:44:37.136937Z"
    },
    "papermill": {
     "duration": 0.031958,
     "end_time": "2025-07-30T20:44:37.139653",
     "exception": false,
     "start_time": "2025-07-30T20:44:37.107695",
     "status": "completed"
    },
    "tags": []
   },
   "outputs": [],
   "source": [
    "example_universe = universe.copy()\n",
    "universe_training_year = example_universe.get(\"training_year\")\n",
    "universe_training_size = example_universe.get(\"training_size\")\n",
    "universe_scale = example_universe.get(\"scale\")\n",
    "universe_model = example_universe.get(\"model\")\n",
    "universe_exclude_features = example_universe.get(\"exclude_features\")\n",
    "universe_exclude_subgroups = example_universe.get(\"exclude_subgroups\")"
   ]
  },
  {
   "cell_type": "code",
   "execution_count": 58,
   "id": "f4b6a8ac-9dc0-4245-8a91-5b3b5999c4f9",
   "metadata": {
    "execution": {
     "iopub.execute_input": "2025-07-30T20:44:37.193499Z",
     "iopub.status.busy": "2025-07-30T20:44:37.192510Z",
     "iopub.status.idle": "2025-07-30T20:44:37.199557Z",
     "shell.execute_reply": "2025-07-30T20:44:37.198580Z"
    },
    "papermill": {
     "duration": 0.03582,
     "end_time": "2025-07-30T20:44:37.201779",
     "exception": false,
     "start_time": "2025-07-30T20:44:37.165959",
     "status": "completed"
    },
    "tags": []
   },
   "outputs": [],
   "source": [
    "cp_metrics_dict = {\n",
    "    \"universe_id\": [universe_id],\n",
    "    \"universe_training_year\": [universe_training_year],\n",
    "    \"universe_training_size\": [universe_training_size],\n",
    "    \"universe_scale\": [universe_scale],\n",
    "    \"universe_model\": [universe_model],\n",
    "    \"universe_exclude_features\": [universe_exclude_features],\n",
    "    \"universe_exclude_subgroups\": [universe_exclude_subgroups],\n",
    "    \"q_hat\": [q_hat],\n",
    "    \"coverage\": [metrics[\"coverage\"]],\n",
    "    \"avg_size\": [metrics[\"avg_size\"]],\n",
    "}"
   ]
  },
  {
   "cell_type": "code",
   "execution_count": 59,
   "id": "908acbb1-0371-4915-85ca-3fa520d2efe2",
   "metadata": {
    "execution": {
     "iopub.execute_input": "2025-07-30T20:44:37.244934Z",
     "iopub.status.busy": "2025-07-30T20:44:37.244442Z",
     "iopub.status.idle": "2025-07-30T20:44:37.252971Z",
     "shell.execute_reply": "2025-07-30T20:44:37.251944Z"
    },
    "papermill": {
     "duration": 0.036156,
     "end_time": "2025-07-30T20:44:37.254506",
     "exception": false,
     "start_time": "2025-07-30T20:44:37.218350",
     "status": "completed"
    },
    "tags": []
   },
   "outputs": [
    {
     "data": {
      "text/plain": [
       "{'universe_id': ['a176bb5b57c66783a496e70d8bd9a7c0'],\n",
       " 'universe_training_year': ['2014'],\n",
       " 'universe_training_size': ['5k'],\n",
       " 'universe_scale': ['scale'],\n",
       " 'universe_model': ['penalized_logreg'],\n",
       " 'universe_exclude_features': ['none'],\n",
       " 'universe_exclude_subgroups': ['drop-non-german'],\n",
       " 'q_hat': [0.6920192634141921],\n",
       " 'coverage': [0.9099877382677516],\n",
       " 'avg_size': [1.137977928881953]}"
      ]
     },
     "execution_count": 59,
     "metadata": {},
     "output_type": "execute_result"
    }
   ],
   "source": [
    "cp_metrics_dict"
   ]
  },
  {
   "cell_type": "code",
   "execution_count": 60,
   "id": "33007efc-14e9-4ec6-97ac-56a455c82265",
   "metadata": {
    "execution": {
     "iopub.execute_input": "2025-07-30T20:44:37.305733Z",
     "iopub.status.busy": "2025-07-30T20:44:37.305407Z",
     "iopub.status.idle": "2025-07-30T20:44:37.311595Z",
     "shell.execute_reply": "2025-07-30T20:44:37.310791Z"
    },
    "papermill": {
     "duration": 0.034021,
     "end_time": "2025-07-30T20:44:37.313057",
     "exception": false,
     "start_time": "2025-07-30T20:44:37.279036",
     "status": "completed"
    },
    "tags": []
   },
   "outputs": [],
   "source": [
    "cp_metrics_df = pd.DataFrame(cp_metrics_dict)"
   ]
  },
  {
   "cell_type": "code",
   "execution_count": 61,
   "id": "db12611b-57b2-4910-b9d0-355adfd6e7bf",
   "metadata": {
    "execution": {
     "iopub.execute_input": "2025-07-30T20:44:37.341711Z",
     "iopub.status.busy": "2025-07-30T20:44:37.340936Z",
     "iopub.status.idle": "2025-07-30T20:44:37.355027Z",
     "shell.execute_reply": "2025-07-30T20:44:37.354301Z"
    },
    "papermill": {
     "duration": 0.029717,
     "end_time": "2025-07-30T20:44:37.356258",
     "exception": false,
     "start_time": "2025-07-30T20:44:37.326541",
     "status": "completed"
    },
    "tags": []
   },
   "outputs": [
    {
     "data": {
      "text/html": [
       "<div>\n",
       "<style scoped>\n",
       "    .dataframe tbody tr th:only-of-type {\n",
       "        vertical-align: middle;\n",
       "    }\n",
       "\n",
       "    .dataframe tbody tr th {\n",
       "        vertical-align: top;\n",
       "    }\n",
       "\n",
       "    .dataframe thead th {\n",
       "        text-align: right;\n",
       "    }\n",
       "</style>\n",
       "<table border=\"1\" class=\"dataframe\">\n",
       "  <thead>\n",
       "    <tr style=\"text-align: right;\">\n",
       "      <th></th>\n",
       "      <th>universe_id</th>\n",
       "      <th>universe_training_year</th>\n",
       "      <th>universe_training_size</th>\n",
       "      <th>universe_scale</th>\n",
       "      <th>universe_model</th>\n",
       "      <th>universe_exclude_features</th>\n",
       "      <th>universe_exclude_subgroups</th>\n",
       "      <th>q_hat</th>\n",
       "      <th>coverage</th>\n",
       "      <th>avg_size</th>\n",
       "    </tr>\n",
       "  </thead>\n",
       "  <tbody>\n",
       "    <tr>\n",
       "      <th>0</th>\n",
       "      <td>a176bb5b57c66783a496e70d8bd9a7c0</td>\n",
       "      <td>2014</td>\n",
       "      <td>5k</td>\n",
       "      <td>scale</td>\n",
       "      <td>penalized_logreg</td>\n",
       "      <td>none</td>\n",
       "      <td>drop-non-german</td>\n",
       "      <td>0.692019</td>\n",
       "      <td>0.909988</td>\n",
       "      <td>1.137978</td>\n",
       "    </tr>\n",
       "  </tbody>\n",
       "</table>\n",
       "</div>"
      ],
      "text/plain": [
       "                        universe_id universe_training_year  \\\n",
       "0  a176bb5b57c66783a496e70d8bd9a7c0                   2014   \n",
       "\n",
       "  universe_training_size universe_scale    universe_model  \\\n",
       "0                     5k          scale  penalized_logreg   \n",
       "\n",
       "  universe_exclude_features universe_exclude_subgroups     q_hat  coverage  \\\n",
       "0                      none            drop-non-german  0.692019  0.909988   \n",
       "\n",
       "   avg_size  \n",
       "0  1.137978  "
      ]
     },
     "execution_count": 61,
     "metadata": {},
     "output_type": "execute_result"
    }
   ],
   "source": [
    "cp_metrics_df"
   ]
  },
  {
   "cell_type": "code",
   "execution_count": 62,
   "id": "b7fbde55-a0a1-47e4-9af6-fe4a17fa8c61",
   "metadata": {
    "execution": {
     "iopub.execute_input": "2025-07-30T20:44:37.388121Z",
     "iopub.status.busy": "2025-07-30T20:44:37.387558Z",
     "iopub.status.idle": "2025-07-30T20:44:37.392529Z",
     "shell.execute_reply": "2025-07-30T20:44:37.391774Z"
    },
    "papermill": {
     "duration": 0.020976,
     "end_time": "2025-07-30T20:44:37.393877",
     "exception": false,
     "start_time": "2025-07-30T20:44:37.372901",
     "status": "completed"
    },
    "tags": []
   },
   "outputs": [],
   "source": [
    "# Conditional Coverage & looking at subgroups"
   ]
  },
  {
   "cell_type": "code",
   "execution_count": 63,
   "id": "027ae886-68dd-4141-96c7-805a5450e1ef",
   "metadata": {
    "execution": {
     "iopub.execute_input": "2025-07-30T20:44:37.423969Z",
     "iopub.status.busy": "2025-07-30T20:44:37.423470Z",
     "iopub.status.idle": "2025-07-30T20:44:37.659063Z",
     "shell.execute_reply": "2025-07-30T20:44:37.657989Z"
    },
    "papermill": {
     "duration": 0.252355,
     "end_time": "2025-07-30T20:44:37.661014",
     "exception": false,
     "start_time": "2025-07-30T20:44:37.408659",
     "status": "completed"
    },
    "tags": []
   },
   "outputs": [],
   "source": [
    "from fairness_multiverse.conformal import build_cp_groups\n",
    "\n",
    "cp_groups_df = build_cp_groups(pred_sets, y_true, X_test.index, org_test)\n",
    "#needs universe_id and setting"
   ]
  },
  {
   "cell_type": "code",
   "execution_count": 64,
   "id": "01d5802c-663a-4d1f-9d69-e036faaffbf7",
   "metadata": {
    "execution": {
     "iopub.execute_input": "2025-07-30T20:44:37.707748Z",
     "iopub.status.busy": "2025-07-30T20:44:37.707147Z",
     "iopub.status.idle": "2025-07-30T20:44:37.711521Z",
     "shell.execute_reply": "2025-07-30T20:44:37.710609Z"
    },
    "papermill": {
     "duration": 0.024748,
     "end_time": "2025-07-30T20:44:37.712794",
     "exception": false,
     "start_time": "2025-07-30T20:44:37.688046",
     "status": "completed"
    },
    "tags": []
   },
   "outputs": [],
   "source": [
    "#delete\n",
    "#cp_groups_df"
   ]
  },
  {
   "cell_type": "code",
   "execution_count": 65,
   "id": "fa424af1-d1eb-443d-b717-2d279ada8408",
   "metadata": {
    "execution": {
     "iopub.execute_input": "2025-07-30T20:44:37.742837Z",
     "iopub.status.busy": "2025-07-30T20:44:37.742341Z",
     "iopub.status.idle": "2025-07-30T20:44:37.747010Z",
     "shell.execute_reply": "2025-07-30T20:44:37.746267Z"
    },
    "papermill": {
     "duration": 0.020956,
     "end_time": "2025-07-30T20:44:37.748325",
     "exception": false,
     "start_time": "2025-07-30T20:44:37.727369",
     "status": "completed"
    },
    "tags": []
   },
   "outputs": [],
   "source": [
    "#delete\n",
    "#percentage = (cp_groups_df['nongerman_female'] == 1).mean() * 100\n",
    "#print(percentage)\n"
   ]
  },
  {
   "cell_type": "code",
   "execution_count": 66,
   "id": "6cbdab96-b2b2-45af-ad54-d0516db2e28d",
   "metadata": {
    "execution": {
     "iopub.execute_input": "2025-07-30T20:44:37.778484Z",
     "iopub.status.busy": "2025-07-30T20:44:37.777984Z",
     "iopub.status.idle": "2025-07-30T20:44:39.190326Z",
     "shell.execute_reply": "2025-07-30T20:44:39.189416Z"
    },
    "papermill": {
     "duration": 1.429019,
     "end_time": "2025-07-30T20:44:39.192156",
     "exception": false,
     "start_time": "2025-07-30T20:44:37.763137",
     "status": "completed"
    },
    "tags": []
   },
   "outputs": [],
   "source": [
    "# Define covered = 1 if true_label is in the predicted set\n",
    "cp_groups_df['covered'] = cp_groups_df.apply(\n",
    "    lambda r: int(r['true_label'] in r['pred_set']),\n",
    "    axis=1\n",
    ")"
   ]
  },
  {
   "cell_type": "code",
   "execution_count": 67,
   "id": "338ff529-1a6b-4b87-a931-8e4788d52aad",
   "metadata": {
    "execution": {
     "iopub.execute_input": "2025-07-30T20:44:39.242657Z",
     "iopub.status.busy": "2025-07-30T20:44:39.242165Z",
     "iopub.status.idle": "2025-07-30T20:44:39.247057Z",
     "shell.execute_reply": "2025-07-30T20:44:39.246213Z"
    },
    "papermill": {
     "duration": 0.032163,
     "end_time": "2025-07-30T20:44:39.248900",
     "exception": false,
     "start_time": "2025-07-30T20:44:39.216737",
     "status": "completed"
    },
    "tags": []
   },
   "outputs": [],
   "source": [
    "#cp_groups_df"
   ]
  },
  {
   "cell_type": "code",
   "execution_count": 68,
   "id": "90032e27-66df-4540-9169-4e89cfbaa758",
   "metadata": {
    "execution": {
     "iopub.execute_input": "2025-07-30T20:44:39.300377Z",
     "iopub.status.busy": "2025-07-30T20:44:39.299887Z",
     "iopub.status.idle": "2025-07-30T20:44:39.310887Z",
     "shell.execute_reply": "2025-07-30T20:44:39.309993Z"
    },
    "papermill": {
     "duration": 0.039431,
     "end_time": "2025-07-30T20:44:39.312869",
     "exception": false,
     "start_time": "2025-07-30T20:44:39.273438",
     "status": "completed"
    },
    "tags": []
   },
   "outputs": [],
   "source": [
    "subgroups = ['frau1','nongerman','nongerman_male','nongerman_female']\n",
    "\n",
    "# Conditional coverage for subgroup==1\n",
    "cond_coverage = {\n",
    "    g: cp_groups_df.loc[cp_groups_df[g]==1, 'covered'].mean()\n",
    "    for g in subgroups\n",
    "}"
   ]
  },
  {
   "cell_type": "code",
   "execution_count": 69,
   "id": "1e348fb1-b9c3-45bc-ba23-f016827a7e0d",
   "metadata": {
    "execution": {
     "iopub.execute_input": "2025-07-30T20:44:39.368555Z",
     "iopub.status.busy": "2025-07-30T20:44:39.367615Z",
     "iopub.status.idle": "2025-07-30T20:44:39.375183Z",
     "shell.execute_reply": "2025-07-30T20:44:39.374335Z"
    },
    "papermill": {
     "duration": 0.036837,
     "end_time": "2025-07-30T20:44:39.376730",
     "exception": false,
     "start_time": "2025-07-30T20:44:39.339893",
     "status": "completed"
    },
    "tags": []
   },
   "outputs": [
    {
     "data": {
      "text/plain": [
       "{'frau1': 0.9067798894729748,\n",
       " 'nongerman': 0.9075955762645259,\n",
       " 'nongerman_male': 0.9266864811312258,\n",
       " 'nongerman_female': 0.8760059612518629}"
      ]
     },
     "execution_count": 69,
     "metadata": {},
     "output_type": "execute_result"
    }
   ],
   "source": [
    "cond_coverage"
   ]
  },
  {
   "cell_type": "code",
   "execution_count": 70,
   "id": "f5093324-c3dd-4d63-bc4c-8d945e5c8bbb",
   "metadata": {
    "execution": {
     "iopub.execute_input": "2025-07-30T20:44:39.422984Z",
     "iopub.status.busy": "2025-07-30T20:44:39.422098Z",
     "iopub.status.idle": "2025-07-30T20:44:39.429048Z",
     "shell.execute_reply": "2025-07-30T20:44:39.428306Z"
    },
    "papermill": {
     "duration": 0.026289,
     "end_time": "2025-07-30T20:44:39.430350",
     "exception": false,
     "start_time": "2025-07-30T20:44:39.404061",
     "status": "completed"
    },
    "tags": []
   },
   "outputs": [],
   "source": [
    "for subgroup, cov in cond_coverage.items():\n",
    "    cp_metrics_df[f\"cov_{subgroup}\"] = cov"
   ]
  },
  {
   "cell_type": "code",
   "execution_count": 71,
   "id": "6e872e10-dbe5-49e8-b554-5030c98ff75d",
   "metadata": {
    "execution": {
     "iopub.execute_input": "2025-07-30T20:44:39.460933Z",
     "iopub.status.busy": "2025-07-30T20:44:39.460421Z",
     "iopub.status.idle": "2025-07-30T20:44:39.475043Z",
     "shell.execute_reply": "2025-07-30T20:44:39.474257Z"
    },
    "papermill": {
     "duration": 0.031136,
     "end_time": "2025-07-30T20:44:39.476386",
     "exception": false,
     "start_time": "2025-07-30T20:44:39.445250",
     "status": "completed"
    },
    "tags": []
   },
   "outputs": [
    {
     "data": {
      "text/html": [
       "<div>\n",
       "<style scoped>\n",
       "    .dataframe tbody tr th:only-of-type {\n",
       "        vertical-align: middle;\n",
       "    }\n",
       "\n",
       "    .dataframe tbody tr th {\n",
       "        vertical-align: top;\n",
       "    }\n",
       "\n",
       "    .dataframe thead th {\n",
       "        text-align: right;\n",
       "    }\n",
       "</style>\n",
       "<table border=\"1\" class=\"dataframe\">\n",
       "  <thead>\n",
       "    <tr style=\"text-align: right;\">\n",
       "      <th></th>\n",
       "      <th>universe_id</th>\n",
       "      <th>universe_training_year</th>\n",
       "      <th>universe_training_size</th>\n",
       "      <th>universe_scale</th>\n",
       "      <th>universe_model</th>\n",
       "      <th>universe_exclude_features</th>\n",
       "      <th>universe_exclude_subgroups</th>\n",
       "      <th>q_hat</th>\n",
       "      <th>coverage</th>\n",
       "      <th>avg_size</th>\n",
       "      <th>cov_frau1</th>\n",
       "      <th>cov_nongerman</th>\n",
       "      <th>cov_nongerman_male</th>\n",
       "      <th>cov_nongerman_female</th>\n",
       "    </tr>\n",
       "  </thead>\n",
       "  <tbody>\n",
       "    <tr>\n",
       "      <th>0</th>\n",
       "      <td>a176bb5b57c66783a496e70d8bd9a7c0</td>\n",
       "      <td>2014</td>\n",
       "      <td>5k</td>\n",
       "      <td>scale</td>\n",
       "      <td>penalized_logreg</td>\n",
       "      <td>none</td>\n",
       "      <td>drop-non-german</td>\n",
       "      <td>0.692019</td>\n",
       "      <td>0.909988</td>\n",
       "      <td>1.137978</td>\n",
       "      <td>0.90678</td>\n",
       "      <td>0.907596</td>\n",
       "      <td>0.926686</td>\n",
       "      <td>0.876006</td>\n",
       "    </tr>\n",
       "  </tbody>\n",
       "</table>\n",
       "</div>"
      ],
      "text/plain": [
       "                        universe_id universe_training_year  \\\n",
       "0  a176bb5b57c66783a496e70d8bd9a7c0                   2014   \n",
       "\n",
       "  universe_training_size universe_scale    universe_model  \\\n",
       "0                     5k          scale  penalized_logreg   \n",
       "\n",
       "  universe_exclude_features universe_exclude_subgroups     q_hat  coverage  \\\n",
       "0                      none            drop-non-german  0.692019  0.909988   \n",
       "\n",
       "   avg_size  cov_frau1  cov_nongerman  cov_nongerman_male  \\\n",
       "0  1.137978    0.90678       0.907596            0.926686   \n",
       "\n",
       "   cov_nongerman_female  \n",
       "0              0.876006  "
      ]
     },
     "execution_count": 71,
     "metadata": {},
     "output_type": "execute_result"
    }
   ],
   "source": [
    "cp_metrics_df"
   ]
  },
  {
   "cell_type": "markdown",
   "id": "33774451",
   "metadata": {
    "papermill": {
     "duration": 0.014056,
     "end_time": "2025-07-30T20:44:39.505569",
     "exception": false,
     "start_time": "2025-07-30T20:44:39.491513",
     "status": "completed"
    },
    "tags": []
   },
   "source": [
    "# (Fairness) Metrics"
   ]
  },
  {
   "cell_type": "code",
   "execution_count": 72,
   "id": "debc5d62",
   "metadata": {
    "execution": {
     "iopub.execute_input": "2025-07-30T20:44:39.559395Z",
     "iopub.status.busy": "2025-07-30T20:44:39.559040Z",
     "iopub.status.idle": "2025-07-30T20:44:39.572841Z",
     "shell.execute_reply": "2025-07-30T20:44:39.572114Z"
    },
    "papermill": {
     "duration": 0.043035,
     "end_time": "2025-07-30T20:44:39.574136",
     "exception": false,
     "start_time": "2025-07-30T20:44:39.531101",
     "status": "completed"
    },
    "tags": []
   },
   "outputs": [],
   "source": [
    "# do I need to include maxdeutsch1.missing?\n",
    "\n",
    "import numpy as np\n",
    "\n",
    "colname_to_bin = \"maxdeutsch1\"\n",
    "majority_value = org_train[colname_to_bin].mode()[0]\n",
    "\n",
    "org_test[\"majmin\"] = np.where(org_test[colname_to_bin] == majority_value, \"majority\", \"minority\")"
   ]
  },
  {
   "cell_type": "code",
   "execution_count": 73,
   "id": "06a50de5",
   "metadata": {
    "execution": {
     "iopub.execute_input": "2025-07-30T20:44:39.605062Z",
     "iopub.status.busy": "2025-07-30T20:44:39.604569Z",
     "iopub.status.idle": "2025-07-30T20:44:41.514691Z",
     "shell.execute_reply": "2025-07-30T20:44:41.513894Z"
    },
    "papermill": {
     "duration": 1.927381,
     "end_time": "2025-07-30T20:44:41.516588",
     "exception": false,
     "start_time": "2025-07-30T20:44:39.589207",
     "status": "completed"
    },
    "tags": []
   },
   "outputs": [],
   "source": [
    "example_universe = universe.copy()\n",
    "example_universe[\"cutoff\"] = example_universe[\"cutoff\"][0]\n",
    "example_universe[\"eval_fairness_grouping\"] = example_universe[\"eval_fairness_grouping\"][0]\n",
    "fairness_dict, metric_frame = universe_analysis.compute_metrics(\n",
    "    example_universe,\n",
    "    y_pred_prob=probs_test,\n",
    "    y_test=y_true,\n",
    "    org_test=org_test,\n",
    ")"
   ]
  },
  {
   "cell_type": "markdown",
   "id": "f95d4e02",
   "metadata": {
    "papermill": {
     "duration": 0.026155,
     "end_time": "2025-07-30T20:44:41.570932",
     "exception": false,
     "start_time": "2025-07-30T20:44:41.544777",
     "status": "completed"
    },
    "tags": []
   },
   "source": [
    "# Overall"
   ]
  },
  {
   "cell_type": "markdown",
   "id": "bdee4871",
   "metadata": {
    "papermill": {
     "duration": 0.026037,
     "end_time": "2025-07-30T20:44:41.622837",
     "exception": false,
     "start_time": "2025-07-30T20:44:41.596800",
     "status": "completed"
    },
    "tags": []
   },
   "source": [
    "Fairness\n",
    "Main fairness target: Equalized Odds. Seems to be a better fit than equal opportunity, since we're not only interested in Y = 1. Seems to be a better fit than demographic parity, since we also care about accuracy, not just equal distribution of preds.\n",
    "\n",
    "Pick column for computation of fairness metrics\n",
    "\n",
    "Performance\n",
    "Overall performance measures, most interesting in relation to the measures split by group below"
   ]
  },
  {
   "cell_type": "code",
   "execution_count": 74,
   "id": "c4e067c6",
   "metadata": {
    "execution": {
     "iopub.execute_input": "2025-07-30T20:44:41.678215Z",
     "iopub.status.busy": "2025-07-30T20:44:41.677254Z",
     "iopub.status.idle": "2025-07-30T20:44:41.685554Z",
     "shell.execute_reply": "2025-07-30T20:44:41.684680Z"
    },
    "papermill": {
     "duration": 0.039473,
     "end_time": "2025-07-30T20:44:41.687162",
     "exception": false,
     "start_time": "2025-07-30T20:44:41.647689",
     "status": "completed"
    },
    "tags": []
   },
   "outputs": [
    {
     "data": {
      "text/plain": [
       "accuracy                   0.223487\n",
       "balanced accuracy          0.546642\n",
       "f1                         0.244843\n",
       "precision                  0.139870\n",
       "false positive rate        0.888034\n",
       "false negative rate        0.018683\n",
       "selection rate             0.900000\n",
       "count                  89710.000000\n",
       "dtype: float64"
      ]
     },
     "execution_count": 74,
     "metadata": {},
     "output_type": "execute_result"
    }
   ],
   "source": [
    "metric_frame.overall"
   ]
  },
  {
   "cell_type": "markdown",
   "id": "e968fe9d",
   "metadata": {
    "papermill": {
     "duration": 0.014488,
     "end_time": "2025-07-30T20:44:41.719683",
     "exception": false,
     "start_time": "2025-07-30T20:44:41.705195",
     "status": "completed"
    },
    "tags": []
   },
   "source": [
    "By Group"
   ]
  },
  {
   "cell_type": "code",
   "execution_count": 75,
   "id": "ec325bce",
   "metadata": {
    "execution": {
     "iopub.execute_input": "2025-07-30T20:44:41.754550Z",
     "iopub.status.busy": "2025-07-30T20:44:41.754084Z",
     "iopub.status.idle": "2025-07-30T20:44:41.770052Z",
     "shell.execute_reply": "2025-07-30T20:44:41.769122Z"
    },
    "papermill": {
     "duration": 0.03789,
     "end_time": "2025-07-30T20:44:41.771654",
     "exception": false,
     "start_time": "2025-07-30T20:44:41.733764",
     "status": "completed"
    },
    "tags": []
   },
   "outputs": [
    {
     "data": {
      "text/html": [
       "<div>\n",
       "<style scoped>\n",
       "    .dataframe tbody tr th:only-of-type {\n",
       "        vertical-align: middle;\n",
       "    }\n",
       "\n",
       "    .dataframe tbody tr th {\n",
       "        vertical-align: top;\n",
       "    }\n",
       "\n",
       "    .dataframe thead th {\n",
       "        text-align: right;\n",
       "    }\n",
       "</style>\n",
       "<table border=\"1\" class=\"dataframe\">\n",
       "  <thead>\n",
       "    <tr style=\"text-align: right;\">\n",
       "      <th></th>\n",
       "      <th>accuracy</th>\n",
       "      <th>balanced accuracy</th>\n",
       "      <th>f1</th>\n",
       "      <th>precision</th>\n",
       "      <th>false positive rate</th>\n",
       "      <th>false negative rate</th>\n",
       "      <th>selection rate</th>\n",
       "      <th>count</th>\n",
       "    </tr>\n",
       "    <tr>\n",
       "      <th>majmin</th>\n",
       "      <th></th>\n",
       "      <th></th>\n",
       "      <th></th>\n",
       "      <th></th>\n",
       "      <th></th>\n",
       "      <th></th>\n",
       "      <th></th>\n",
       "      <th></th>\n",
       "    </tr>\n",
       "  </thead>\n",
       "  <tbody>\n",
       "    <tr>\n",
       "      <th>majority</th>\n",
       "      <td>0.235290</td>\n",
       "      <td>0.552101</td>\n",
       "      <td>0.253518</td>\n",
       "      <td>0.145531</td>\n",
       "      <td>0.878511</td>\n",
       "      <td>0.017287</td>\n",
       "      <td>0.892280</td>\n",
       "      <td>69170.0</td>\n",
       "    </tr>\n",
       "    <tr>\n",
       "      <th>minority</th>\n",
       "      <td>0.183739</td>\n",
       "      <td>0.528219</td>\n",
       "      <td>0.216102</td>\n",
       "      <td>0.121504</td>\n",
       "      <td>0.919492</td>\n",
       "      <td>0.024071</td>\n",
       "      <td>0.925998</td>\n",
       "      <td>20540.0</td>\n",
       "    </tr>\n",
       "  </tbody>\n",
       "</table>\n",
       "</div>"
      ],
      "text/plain": [
       "          accuracy  balanced accuracy        f1  precision  \\\n",
       "majmin                                                       \n",
       "majority  0.235290           0.552101  0.253518   0.145531   \n",
       "minority  0.183739           0.528219  0.216102   0.121504   \n",
       "\n",
       "          false positive rate  false negative rate  selection rate    count  \n",
       "majmin                                                                       \n",
       "majority             0.878511             0.017287        0.892280  69170.0  \n",
       "minority             0.919492             0.024071        0.925998  20540.0  "
      ]
     },
     "execution_count": 75,
     "metadata": {},
     "output_type": "execute_result"
    }
   ],
   "source": [
    "metric_frame.by_group"
   ]
  },
  {
   "cell_type": "code",
   "execution_count": 76,
   "id": "a9ddbe63",
   "metadata": {
    "execution": {
     "iopub.execute_input": "2025-07-30T20:44:41.810553Z",
     "iopub.status.busy": "2025-07-30T20:44:41.810188Z",
     "iopub.status.idle": "2025-07-30T20:44:44.107763Z",
     "shell.execute_reply": "2025-07-30T20:44:44.106826Z"
    },
    "papermill": {
     "duration": 2.315329,
     "end_time": "2025-07-30T20:44:44.109507",
     "exception": false,
     "start_time": "2025-07-30T20:44:41.794178",
     "status": "completed"
    },
    "tags": []
   },
   "outputs": [
    {
     "data": {
      "text/plain": [
       "array([[<Axes: title={'center': 'accuracy'}, xlabel='majmin'>,\n",
       "        <Axes: title={'center': 'balanced accuracy'}, xlabel='majmin'>,\n",
       "        <Axes: title={'center': 'f1'}, xlabel='majmin'>],\n",
       "       [<Axes: title={'center': 'precision'}, xlabel='majmin'>,\n",
       "        <Axes: title={'center': 'false positive rate'}, xlabel='majmin'>,\n",
       "        <Axes: title={'center': 'false negative rate'}, xlabel='majmin'>],\n",
       "       [<Axes: title={'center': 'selection rate'}, xlabel='majmin'>,\n",
       "        <Axes: title={'center': 'count'}, xlabel='majmin'>,\n",
       "        <Axes: xlabel='majmin'>]], dtype=object)"
      ]
     },
     "execution_count": 76,
     "metadata": {},
     "output_type": "execute_result"
    },
    {
     "data": {
      "image/png": "[encoded data removed]",
      "text/plain": [
       "<Figure size 1200x800 with 9 Axes>"
      ]
     },
     "metadata": {},
     "output_type": "display_data"
    }
   ],
   "source": [
    "# In a graphic\n",
    "metric_frame.by_group.plot.bar(\n",
    "    subplots=True,\n",
    "    layout=[3, 3],\n",
    "    legend=False,\n",
    "    figsize=[12, 8],\n",
    "    title=\"Show all metrics\",\n",
    ")"
   ]
  },
  {
   "cell_type": "markdown",
   "id": "f57a0bac",
   "metadata": {
    "papermill": {
     "duration": 0.034069,
     "end_time": "2025-07-30T20:44:44.182618",
     "exception": false,
     "start_time": "2025-07-30T20:44:44.148549",
     "status": "completed"
    },
    "tags": []
   },
   "source": [
    "# Final Output"
   ]
  },
  {
   "cell_type": "code",
   "execution_count": 77,
   "id": "96d280a3",
   "metadata": {
    "execution": {
     "iopub.execute_input": "2025-07-30T20:44:44.250501Z",
     "iopub.status.busy": "2025-07-30T20:44:44.249541Z",
     "iopub.status.idle": "2025-07-30T20:44:44.257921Z",
     "shell.execute_reply": "2025-07-30T20:44:44.256906Z"
    },
    "papermill": {
     "duration": 0.042772,
     "end_time": "2025-07-30T20:44:44.259561",
     "exception": false,
     "start_time": "2025-07-30T20:44:44.216789",
     "status": "completed"
    },
    "tags": []
   },
   "outputs": [
    {
     "data": {
      "text/plain": [
       "4"
      ]
     },
     "execution_count": 77,
     "metadata": {},
     "output_type": "execute_result"
    }
   ],
   "source": [
    "sub_universes = universe_analysis.generate_sub_universes()\n",
    "len(sub_universes)"
   ]
  },
  {
   "cell_type": "code",
   "execution_count": 78,
   "id": "92adf7ba",
   "metadata": {
    "execution": {
     "iopub.execute_input": "2025-07-30T20:44:44.324303Z",
     "iopub.status.busy": "2025-07-30T20:44:44.323875Z",
     "iopub.status.idle": "2025-07-30T20:44:44.330179Z",
     "shell.execute_reply": "2025-07-30T20:44:44.329247Z"
    },
    "papermill": {
     "duration": 0.040852,
     "end_time": "2025-07-30T20:44:44.331664",
     "exception": false,
     "start_time": "2025-07-30T20:44:44.290812",
     "status": "completed"
    },
    "tags": []
   },
   "outputs": [],
   "source": [
    "def filter_sub_universe_data(sub_universe, org_test):\n",
    "    # Keep all rows — no filtering\n",
    "    keep_rows_mask = np.ones(org_test.shape[0], dtype=bool)\n",
    "\n",
    "    print(f\"[INFO] Keeping all rows: {keep_rows_mask.sum()} rows retained.\")\n",
    "    return keep_rows_mask"
   ]
  },
  {
   "cell_type": "code",
   "execution_count": 79,
   "id": "4a759155",
   "metadata": {
    "execution": {
     "iopub.execute_input": "2025-07-30T20:44:44.386399Z",
     "iopub.status.busy": "2025-07-30T20:44:44.385614Z",
     "iopub.status.idle": "2025-07-30T20:44:55.491244Z",
     "shell.execute_reply": "2025-07-30T20:44:55.490251Z"
    },
    "papermill": {
     "duration": 11.134454,
     "end_time": "2025-07-30T20:44:55.493313",
     "exception": false,
     "start_time": "2025-07-30T20:44:44.358859",
     "status": "completed"
    },
    "tags": []
   },
   "outputs": [
    {
     "name": "stdout",
     "output_type": "stream",
     "text": [
      "Stopping execution_time clock.\n",
      "[INFO] Keeping all rows: 89710 rows retained.\n"
     ]
    },
    {
     "name": "stdout",
     "output_type": "stream",
     "text": [
      "[INFO] Keeping all rows: 89710 rows retained.\n"
     ]
    },
    {
     "name": "stdout",
     "output_type": "stream",
     "text": [
      "[INFO] Keeping all rows: 89710 rows retained.\n"
     ]
    },
    {
     "name": "stdout",
     "output_type": "stream",
     "text": [
      "[INFO] Keeping all rows: 89710 rows retained.\n"
     ]
    },
    {
     "data": {
      "text/html": [
       "<div>\n",
       "<style scoped>\n",
       "    .dataframe tbody tr th:only-of-type {\n",
       "        vertical-align: middle;\n",
       "    }\n",
       "\n",
       "    .dataframe tbody tr th {\n",
       "        vertical-align: top;\n",
       "    }\n",
       "\n",
       "    .dataframe thead th {\n",
       "        text-align: right;\n",
       "    }\n",
       "</style>\n",
       "<table border=\"1\" class=\"dataframe\">\n",
       "  <thead>\n",
       "    <tr style=\"text-align: right;\">\n",
       "      <th></th>\n",
       "      <th>run_no</th>\n",
       "      <th>universe_id</th>\n",
       "      <th>universe_settings</th>\n",
       "      <th>execution_time</th>\n",
       "      <th>test_size_n</th>\n",
       "      <th>test_size_frac</th>\n",
       "      <th>fair_main_equalized_odds_difference</th>\n",
       "      <th>fair_main_equalized_odds_ratio</th>\n",
       "      <th>fair_main_demographic_parity_difference</th>\n",
       "      <th>fair_main_demographic_parity_ratio</th>\n",
       "      <th>...</th>\n",
       "      <th>perf_grp_precision_0</th>\n",
       "      <th>perf_grp_precision_1</th>\n",
       "      <th>perf_grp_false positive rate_0</th>\n",
       "      <th>perf_grp_false positive rate_1</th>\n",
       "      <th>perf_grp_false negative rate_0</th>\n",
       "      <th>perf_grp_false negative rate_1</th>\n",
       "      <th>perf_grp_selection rate_0</th>\n",
       "      <th>perf_grp_selection rate_1</th>\n",
       "      <th>perf_grp_count_0</th>\n",
       "      <th>perf_grp_count_1</th>\n",
       "    </tr>\n",
       "  </thead>\n",
       "  <tbody>\n",
       "    <tr>\n",
       "      <th>0</th>\n",
       "      <td>14</td>\n",
       "      <td>a176bb5b57c66783a496e70d8bd9a7c0</td>\n",
       "      <td>{\"cutoff\": \"quantile_0.1\", \"eval_fairness_grou...</td>\n",
       "      <td>21.768953</td>\n",
       "      <td>89710</td>\n",
       "      <td>1.0</td>\n",
       "      <td>0.040981</td>\n",
       "      <td>0.955431</td>\n",
       "      <td>0.033718</td>\n",
       "      <td>0.963587</td>\n",
       "      <td>...</td>\n",
       "      <td>NaN</td>\n",
       "      <td>NaN</td>\n",
       "      <td>NaN</td>\n",
       "      <td>NaN</td>\n",
       "      <td>NaN</td>\n",
       "      <td>NaN</td>\n",
       "      <td>NaN</td>\n",
       "      <td>NaN</td>\n",
       "      <td>NaN</td>\n",
       "      <td>NaN</td>\n",
       "    </tr>\n",
       "    <tr>\n",
       "      <th>0</th>\n",
       "      <td>14</td>\n",
       "      <td>a176bb5b57c66783a496e70d8bd9a7c0</td>\n",
       "      <td>{\"cutoff\": \"quantile_0.1\", \"eval_fairness_grou...</td>\n",
       "      <td>21.768953</td>\n",
       "      <td>89710</td>\n",
       "      <td>1.0</td>\n",
       "      <td>0.040981</td>\n",
       "      <td>0.955431</td>\n",
       "      <td>0.033718</td>\n",
       "      <td>0.963587</td>\n",
       "      <td>...</td>\n",
       "      <td>0.121504</td>\n",
       "      <td>0.145531</td>\n",
       "      <td>0.919492</td>\n",
       "      <td>0.878511</td>\n",
       "      <td>0.024071</td>\n",
       "      <td>0.017287</td>\n",
       "      <td>0.925998</td>\n",
       "      <td>0.892280</td>\n",
       "      <td>20540.0</td>\n",
       "      <td>69170.0</td>\n",
       "    </tr>\n",
       "    <tr>\n",
       "      <th>0</th>\n",
       "      <td>14</td>\n",
       "      <td>a176bb5b57c66783a496e70d8bd9a7c0</td>\n",
       "      <td>{\"cutoff\": \"quantile_0.25\", \"eval_fairness_gro...</td>\n",
       "      <td>21.768953</td>\n",
       "      <td>89710</td>\n",
       "      <td>1.0</td>\n",
       "      <td>0.106101</td>\n",
       "      <td>0.868212</td>\n",
       "      <td>0.087965</td>\n",
       "      <td>0.892440</td>\n",
       "      <td>...</td>\n",
       "      <td>NaN</td>\n",
       "      <td>NaN</td>\n",
       "      <td>NaN</td>\n",
       "      <td>NaN</td>\n",
       "      <td>NaN</td>\n",
       "      <td>NaN</td>\n",
       "      <td>NaN</td>\n",
       "      <td>NaN</td>\n",
       "      <td>NaN</td>\n",
       "      <td>NaN</td>\n",
       "    </tr>\n",
       "    <tr>\n",
       "      <th>0</th>\n",
       "      <td>14</td>\n",
       "      <td>a176bb5b57c66783a496e70d8bd9a7c0</td>\n",
       "      <td>{\"cutoff\": \"quantile_0.25\", \"eval_fairness_gro...</td>\n",
       "      <td>21.768953</td>\n",
       "      <td>89710</td>\n",
       "      <td>1.0</td>\n",
       "      <td>0.106101</td>\n",
       "      <td>0.868212</td>\n",
       "      <td>0.087965</td>\n",
       "      <td>0.892440</td>\n",
       "      <td>...</td>\n",
       "      <td>0.129063</td>\n",
       "      <td>0.168846</td>\n",
       "      <td>0.805085</td>\n",
       "      <td>0.698984</td>\n",
       "      <td>0.084459</td>\n",
       "      <td>0.067396</td>\n",
       "      <td>0.817819</td>\n",
       "      <td>0.729854</td>\n",
       "      <td>20540.0</td>\n",
       "      <td>69170.0</td>\n",
       "    </tr>\n",
       "  </tbody>\n",
       "</table>\n",
       "<p>4 rows × 50 columns</p>\n",
       "</div>"
      ],
      "text/plain": [
       "  run_no                       universe_id  \\\n",
       "0     14  a176bb5b57c66783a496e70d8bd9a7c0   \n",
       "0     14  a176bb5b57c66783a496e70d8bd9a7c0   \n",
       "0     14  a176bb5b57c66783a496e70d8bd9a7c0   \n",
       "0     14  a176bb5b57c66783a496e70d8bd9a7c0   \n",
       "\n",
       "                                   universe_settings  execution_time  \\\n",
       "0  {\"cutoff\": \"quantile_0.1\", \"eval_fairness_grou...       21.768953   \n",
       "0  {\"cutoff\": \"quantile_0.1\", \"eval_fairness_grou...       21.768953   \n",
       "0  {\"cutoff\": \"quantile_0.25\", \"eval_fairness_gro...       21.768953   \n",
       "0  {\"cutoff\": \"quantile_0.25\", \"eval_fairness_gro...       21.768953   \n",
       "\n",
       "   test_size_n  test_size_frac  fair_main_equalized_odds_difference  \\\n",
       "0        89710             1.0                             0.040981   \n",
       "0        89710             1.0                             0.040981   \n",
       "0        89710             1.0                             0.106101   \n",
       "0        89710             1.0                             0.106101   \n",
       "\n",
       "   fair_main_equalized_odds_ratio  fair_main_demographic_parity_difference  \\\n",
       "0                        0.955431                                 0.033718   \n",
       "0                        0.955431                                 0.033718   \n",
       "0                        0.868212                                 0.087965   \n",
       "0                        0.868212                                 0.087965   \n",
       "\n",
       "   fair_main_demographic_parity_ratio  ...  perf_grp_precision_0  \\\n",
       "0                            0.963587  ...                   NaN   \n",
       "0                            0.963587  ...              0.121504   \n",
       "0                            0.892440  ...                   NaN   \n",
       "0                            0.892440  ...              0.129063   \n",
       "\n",
       "   perf_grp_precision_1  perf_grp_false positive rate_0  \\\n",
       "0                   NaN                             NaN   \n",
       "0              0.145531                        0.919492   \n",
       "0                   NaN                             NaN   \n",
       "0              0.168846                        0.805085   \n",
       "\n",
       "   perf_grp_false positive rate_1  perf_grp_false negative rate_0  \\\n",
       "0                             NaN                             NaN   \n",
       "0                        0.878511                        0.024071   \n",
       "0                             NaN                             NaN   \n",
       "0                        0.698984                        0.084459   \n",
       "\n",
       "   perf_grp_false negative rate_1  perf_grp_selection rate_0  \\\n",
       "0                             NaN                        NaN   \n",
       "0                        0.017287                   0.925998   \n",
       "0                             NaN                        NaN   \n",
       "0                        0.067396                   0.817819   \n",
       "\n",
       "   perf_grp_selection rate_1  perf_grp_count_0  perf_grp_count_1  \n",
       "0                        NaN               NaN               NaN  \n",
       "0                   0.892280           20540.0           69170.0  \n",
       "0                        NaN               NaN               NaN  \n",
       "0                   0.729854           20540.0           69170.0  \n",
       "\n",
       "[4 rows x 50 columns]"
      ]
     },
     "execution_count": 79,
     "metadata": {},
     "output_type": "execute_result"
    }
   ],
   "source": [
    "final_output = universe_analysis.generate_final_output(\n",
    "    y_pred_prob=probs_test,\n",
    "    y_test=y_true,\n",
    "    org_test=org_test,\n",
    "    filter_data=filter_sub_universe_data,\n",
    "    cp_metrics_df=cp_metrics_df,\n",
    "    save=True,\n",
    ")\n",
    "final_output"
   ]
  },
  {
   "cell_type": "code",
   "execution_count": null,
   "id": "721ff514-cb11-46f8-b6fc-50392f74b5cb",
   "metadata": {
    "papermill": {
     "duration": 0.042954,
     "end_time": "2025-07-30T20:44:55.581594",
     "exception": false,
     "start_time": "2025-07-30T20:44:55.538640",
     "status": "completed"
    },
    "tags": []
   },
   "outputs": [],
   "source": []
  }
 ],
 "metadata": {
  "celltoolbar": "Tags",
  "kernelspec": {
   "display_name": "Python (CMA Fairness)",
   "language": "python",
   "name": "cma_fair_env"
  },
  "language_info": {
   "codemirror_mode": {
    "name": "ipython",
    "version": 3
   },
   "file_extension": ".py",
   "mimetype": "text/x-python",
   "name": "python",
   "nbconvert_exporter": "python",
   "pygments_lexer": "ipython3",
   "version": "3.10.12"
  },
  "papermill": {
   "default_parameters": {},
   "duration": 37.173332,
   "end_time": "2025-07-30T20:44:56.544973",
   "environment_variables": {},
   "exception": null,
   "input_path": "universe_analysis.ipynb",
   "output_path": "output/runs/14/notebooks/m_14-a176bb5b57c66783a496e70d8bd9a7c0.ipynb",
   "parameters": {
    "output_dir": "output",
    "run_no": "14",
    "seed": "2023",
    "universe": "{\"cutoff\": [\"quantile_0.1\", \"quantile_0.25\"], \"eval_fairness_grouping\": [\"majority-minority\", \"nationality-all\"], \"exclude_features\": \"none\", \"exclude_subgroups\": \"drop-non-german\", \"model\": \"penalized_logreg\", \"scale\": \"scale\", \"training_size\": \"5k\", \"training_year\": \"2014\"}",
    "universe_id": "a176bb5b57c66783a496e70d8bd9a7c0"
   },
   "start_time": "2025-07-30T20:44:19.371641",
   "version": "2.6.0"
  }
 },
 "nbformat": 4,
 "nbformat_minor": 5
}