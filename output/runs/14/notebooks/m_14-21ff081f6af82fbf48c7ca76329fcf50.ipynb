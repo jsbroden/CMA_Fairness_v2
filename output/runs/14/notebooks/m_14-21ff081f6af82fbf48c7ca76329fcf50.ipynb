{
 "cells": [
  {
   "cell_type": "code",
   "execution_count": 1,
   "id": "f159f837-637b-42ba-96b5-ec9a68c44524",
   "metadata": {
    "execution": {
     "iopub.execute_input": "2025-07-30T21:05:35.656423Z",
     "iopub.status.busy": "2025-07-30T21:05:35.655922Z",
     "iopub.status.idle": "2025-07-30T21:05:35.669729Z",
     "shell.execute_reply": "2025-07-30T21:05:35.668660Z"
    },
    "papermill": {
     "duration": 0.039109,
     "end_time": "2025-07-30T21:05:35.673684",
     "exception": false,
     "start_time": "2025-07-30T21:05:35.634575",
     "status": "completed"
    },
    "tags": []
   },
   "outputs": [
    {
     "name": "stdout",
     "output_type": "stream",
     "text": [
      "/dss/dsshome1/0C/ra93lal2/cma/CMA_Fairness_v2\n"
     ]
    },
    {
     "name": "stderr",
     "output_type": "stream",
     "text": [
      "/dss/dsshome1/0C/ra93lal2/.local/share/virtualenvs/CMA_Fairness_v2-3j10GkSs/lib/python3.10/site-packages/IPython/core/magics/osm.py:393: UserWarning: This is now an optional IPython functionality, using bookmarks requires you to install the `pickleshare` library.\n",
      "  bkms = self.shell.db.get('bookmarks', {})\n",
      "/dss/dsshome1/0C/ra93lal2/.local/share/virtualenvs/CMA_Fairness_v2-3j10GkSs/lib/python3.10/site-packages/IPython/core/magics/osm.py:417: UserWarning: This is now an optional IPython functionality, setting dhist requires you to install the `pickleshare` library.\n",
      "  self.shell.db['dhist'] = compress_dhist(dhist)[-100:]\n"
     ]
    }
   ],
   "source": [
    "%cd ~/cma/CMA_Fairness_v2"
   ]
  },
  {
   "cell_type": "markdown",
   "id": "de2603b9",
   "metadata": {
    "papermill": {
     "duration": 0.025638,
     "end_time": "2025-07-30T21:05:35.725340",
     "exception": false,
     "start_time": "2025-07-30T21:05:35.699702",
     "status": "completed"
    },
    "tags": []
   },
   "source": [
    "The following cell holds the definition of our parameters, these values can be overriden by rendering the with e.g. the following command:\n",
    "\n",
    "papermill -p alpha 0.2 -p ratio 0.3 universe_analysis.ipynb output/test_run.ipynb"
   ]
  },
  {
   "cell_type": "code",
   "execution_count": 2,
   "id": "a80968a0-40bb-4fa9-85ef-2d5eefb01975",
   "metadata": {
    "execution": {
     "iopub.execute_input": "2025-07-30T21:05:35.756549Z",
     "iopub.status.busy": "2025-07-30T21:05:35.756176Z",
     "iopub.status.idle": "2025-07-30T21:05:35.761132Z",
     "shell.execute_reply": "2025-07-30T21:05:35.760382Z"
    },
    "papermill": {
     "duration": 0.017456,
     "end_time": "2025-07-30T21:05:35.762394",
     "exception": false,
     "start_time": "2025-07-30T21:05:35.744938",
     "status": "completed"
    },
    "tags": []
   },
   "outputs": [
    {
     "name": "stdout",
     "output_type": "stream",
     "text": [
      "Current working directory: /dss/dsshome1/0C/ra93lal2/cma/CMA_Fairness_v2\n"
     ]
    }
   ],
   "source": [
    "import os\n",
    "print(\"Current working directory:\", os.getcwd())"
   ]
  },
  {
   "cell_type": "code",
   "execution_count": 3,
   "id": "2dce4c03",
   "metadata": {
    "execution": {
     "iopub.execute_input": "2025-07-30T21:05:35.786138Z",
     "iopub.status.busy": "2025-07-30T21:05:35.785777Z",
     "iopub.status.idle": "2025-07-30T21:05:35.791179Z",
     "shell.execute_reply": "2025-07-30T21:05:35.790409Z"
    },
    "papermill": {
     "duration": 0.01854,
     "end_time": "2025-07-30T21:05:35.792536",
     "exception": false,
     "start_time": "2025-07-30T21:05:35.773996",
     "status": "completed"
    },
    "tags": [
     "parameters"
    ]
   },
   "outputs": [],
   "source": [
    "run_no = 0\n",
    "universe_id = \"test\"\n",
    "universe = {\n",
    "    \"training_size\": \"25k\", # \"25k\", \"5k\", \"1k\"\n",
    "    \"training_year\": \"2014\", # \"2014\", \"2012_14\", \"2010_14\"\n",
    "    \"scale\": \"scale\", # \"scale\", \"do-not-scale\",\n",
    "    #\"stratify_split\": \"target\", # \"none\", \"target\", \"protected-attribute\", \"both\",\n",
    "    \"model\": \"elasticnet\", # \"logreg\", \"penalized_logreg\", \"rf\", \"gbm\", \"elasticnet\"\n",
    "    \"cutoff\": [\"quantile_0.15\", \"quantile_0.30\"],\n",
    "    \"exclude_features\": \"age\", # \"none\", \"nationality\", \"sex\", \"nationality-sex\", \"age\"\n",
    "    \"exclude_subgroups\": \"keep-all\", # \"keep-all\", \"drop-non-german\"\n",
    "    \"eval_fairness_grouping\": [\"majority-minority\", \"nationality-all\"]\n",
    "}\n",
    "\n",
    "output_dir=\"./output\"\n",
    "seed=0"
   ]
  },
  {
   "cell_type": "code",
   "execution_count": 4,
   "id": "25f56ce7",
   "metadata": {
    "execution": {
     "iopub.execute_input": "2025-07-30T21:05:35.816374Z",
     "iopub.status.busy": "2025-07-30T21:05:35.815739Z",
     "iopub.status.idle": "2025-07-30T21:05:35.820179Z",
     "shell.execute_reply": "2025-07-30T21:05:35.819350Z"
    },
    "papermill": {
     "duration": 0.017409,
     "end_time": "2025-07-30T21:05:35.821575",
     "exception": false,
     "start_time": "2025-07-30T21:05:35.804166",
     "status": "completed"
    },
    "tags": [
     "injected-parameters"
    ]
   },
   "outputs": [],
   "source": [
    "# Parameters\n",
    "universe_id = \"21ff081f6af82fbf48c7ca76329fcf50\"\n",
    "run_no = \"14\"\n",
    "universe = \"{\\\"cutoff\\\": [\\\"quantile_0.1\\\", \\\"quantile_0.25\\\"], \\\"eval_fairness_grouping\\\": [\\\"majority-minority\\\", \\\"nationality-all\\\"], \\\"exclude_features\\\": \\\"age\\\", \\\"exclude_subgroups\\\": \\\"drop-non-german\\\", \\\"model\\\": \\\"rf\\\", \\\"scale\\\": \\\"do-not-scale\\\", \\\"training_size\\\": \\\"5k\\\", \\\"training_year\\\": \\\"2012_14\\\"}\"\n",
    "output_dir = \"output\"\n",
    "seed = \"2023\"\n"
   ]
  },
  {
   "cell_type": "code",
   "execution_count": 5,
   "id": "1650acaf",
   "metadata": {
    "execution": {
     "iopub.execute_input": "2025-07-30T21:05:35.845671Z",
     "iopub.status.busy": "2025-07-30T21:05:35.845297Z",
     "iopub.status.idle": "2025-07-30T21:05:35.849291Z",
     "shell.execute_reply": "2025-07-30T21:05:35.848558Z"
    },
    "papermill": {
     "duration": 0.017037,
     "end_time": "2025-07-30T21:05:35.850608",
     "exception": false,
     "start_time": "2025-07-30T21:05:35.833571",
     "status": "completed"
    },
    "tags": []
   },
   "outputs": [],
   "source": [
    "import json\n",
    "# Parse universe into dict if it is passed as a string\n",
    "if isinstance(universe, str):\n",
    "    universe = json.loads(universe)"
   ]
  },
  {
   "cell_type": "code",
   "execution_count": 6,
   "id": "16620c48",
   "metadata": {
    "execution": {
     "iopub.execute_input": "2025-07-30T21:05:35.874837Z",
     "iopub.status.busy": "2025-07-30T21:05:35.874511Z",
     "iopub.status.idle": "2025-07-30T21:05:35.916248Z",
     "shell.execute_reply": "2025-07-30T21:05:35.915318Z"
    },
    "papermill": {
     "duration": 0.055688,
     "end_time": "2025-07-30T21:05:35.917929",
     "exception": false,
     "start_time": "2025-07-30T21:05:35.862241",
     "status": "completed"
    },
    "tags": []
   },
   "outputs": [],
   "source": [
    "# Auto-reload the custom package\n",
    "%load_ext autoreload\n",
    "%autoreload 1\n",
    "%aimport fairness_multiverse"
   ]
  },
  {
   "cell_type": "code",
   "execution_count": 7,
   "id": "01c5c9f3",
   "metadata": {
    "execution": {
     "iopub.execute_input": "2025-07-30T21:05:35.944219Z",
     "iopub.status.busy": "2025-07-30T21:05:35.943833Z",
     "iopub.status.idle": "2025-07-30T21:05:37.735045Z",
     "shell.execute_reply": "2025-07-30T21:05:37.733964Z"
    },
    "papermill": {
     "duration": 1.804243,
     "end_time": "2025-07-30T21:05:37.737078",
     "exception": false,
     "start_time": "2025-07-30T21:05:35.932835",
     "status": "completed"
    },
    "tags": []
   },
   "outputs": [],
   "source": [
    "from fairness_multiverse.universe import UniverseAnalysis\n",
    "\n",
    "universe_analysis = UniverseAnalysis(\n",
    "    run_no = run_no,\n",
    "    universe_id = universe_id,\n",
    "    universe = universe,\n",
    "    output_dir=output_dir,\n",
    ")"
   ]
  },
  {
   "cell_type": "code",
   "execution_count": 8,
   "id": "106241f5",
   "metadata": {
    "execution": {
     "iopub.execute_input": "2025-07-30T21:05:37.778027Z",
     "iopub.status.busy": "2025-07-30T21:05:37.777628Z",
     "iopub.status.idle": "2025-07-30T21:05:37.784733Z",
     "shell.execute_reply": "2025-07-30T21:05:37.783499Z"
    },
    "papermill": {
     "duration": 0.031344,
     "end_time": "2025-07-30T21:05:37.788657",
     "exception": false,
     "start_time": "2025-07-30T21:05:37.757313",
     "status": "completed"
    },
    "tags": []
   },
   "outputs": [
    {
     "name": "stdout",
     "output_type": "stream",
     "text": [
      "Using Seed: 2023\n"
     ]
    }
   ],
   "source": [
    "import numpy as np\n",
    "parsed_seed = int(seed)\n",
    "np.random.seed(parsed_seed)\n",
    "print(f\"Using Seed: {parsed_seed}\")"
   ]
  },
  {
   "cell_type": "markdown",
   "id": "e0ebdc57",
   "metadata": {
    "papermill": {
     "duration": 0.020331,
     "end_time": "2025-07-30T21:05:37.829671",
     "exception": false,
     "start_time": "2025-07-30T21:05:37.809340",
     "status": "completed"
    },
    "tags": []
   },
   "source": [
    "# Loading Data"
   ]
  },
  {
   "cell_type": "markdown",
   "id": "681925a3",
   "metadata": {
    "papermill": {
     "duration": 0.016191,
     "end_time": "2025-07-30T21:05:37.867007",
     "exception": false,
     "start_time": "2025-07-30T21:05:37.850816",
     "status": "completed"
    },
    "tags": []
   },
   "source": [
    "Load siab_train, siab_test, siab_calib and/or \n",
    "load siab_train_features, siab_train_labels"
   ]
  },
  {
   "cell_type": "code",
   "execution_count": 9,
   "id": "f0496b8a",
   "metadata": {
    "execution": {
     "iopub.execute_input": "2025-07-30T21:05:37.906374Z",
     "iopub.status.busy": "2025-07-30T21:05:37.905942Z",
     "iopub.status.idle": "2025-07-30T21:05:50.852945Z",
     "shell.execute_reply": "2025-07-30T21:05:50.851234Z"
    },
    "papermill": {
     "duration": 12.969793,
     "end_time": "2025-07-30T21:05:50.854477",
     "exception": false,
     "start_time": "2025-07-30T21:05:37.884684",
     "status": "completed"
    },
    "tags": []
   },
   "outputs": [
    {
     "name": "stdout",
     "output_type": "stream",
     "text": [
      "Loading SIAB data from cache: data/siab_cached.csv.gz\n"
     ]
    },
    {
     "name": "stdout",
     "output_type": "stream",
     "text": [
      "(643690, 164)\n"
     ]
    }
   ],
   "source": [
    "from pathlib import Path\n",
    "import pandas as pd\n",
    "\n",
    "# File paths\n",
    "raw_file = Path(\"data/raw/siab.csv\")\n",
    "cache_file = Path(\"data/siab_cached.csv.gz\")\n",
    "\n",
    "# Ensure cache directory exists\n",
    "cache_file.parent.mkdir(parents=True, exist_ok=True)\n",
    "\n",
    "# Load with simple caching\n",
    "if cache_file.exists():\n",
    "    print(f\"Loading SIAB data from cache: {cache_file}\")\n",
    "    siab = pd.read_csv(cache_file, compression='gzip')\n",
    "else:\n",
    "    print(f\"Cache not found. Reading raw SIAB data: {raw_file}\")\n",
    "    siab = pd.read_csv(raw_file)\n",
    "    siab.to_csv(cache_file, index=False, compression='gzip')\n",
    "    print(f\"Cached SIAB data to: {cache_file}\")\n",
    "\n",
    "# Now use `siab` DataFrame as needed\n",
    "print(siab.shape)"
   ]
  },
  {
   "cell_type": "code",
   "execution_count": 10,
   "id": "db0ca512-5f53-4dba-abdb-a2888bca41ba",
   "metadata": {
    "execution": {
     "iopub.execute_input": "2025-07-30T21:05:50.902654Z",
     "iopub.status.busy": "2025-07-30T21:05:50.900563Z",
     "iopub.status.idle": "2025-07-30T21:05:50.908436Z",
     "shell.execute_reply": "2025-07-30T21:05:50.907228Z"
    },
    "papermill": {
     "duration": 0.033142,
     "end_time": "2025-07-30T21:05:50.910028",
     "exception": false,
     "start_time": "2025-07-30T21:05:50.876886",
     "status": "completed"
    },
    "tags": []
   },
   "outputs": [],
   "source": [
    "#siab"
   ]
  },
  {
   "cell_type": "code",
   "execution_count": 11,
   "id": "a0edb063",
   "metadata": {
    "execution": {
     "iopub.execute_input": "2025-07-30T21:05:50.956376Z",
     "iopub.status.busy": "2025-07-30T21:05:50.954538Z",
     "iopub.status.idle": "2025-07-30T21:05:50.960145Z",
     "shell.execute_reply": "2025-07-30T21:05:50.959010Z"
    },
    "papermill": {
     "duration": 0.03486,
     "end_time": "2025-07-30T21:05:50.966557",
     "exception": false,
     "start_time": "2025-07-30T21:05:50.931697",
     "status": "completed"
    },
    "tags": []
   },
   "outputs": [],
   "source": [
    "#import pandas as pd\n",
    "#\n",
    "#X_train = pd.read_csv(\"./data/X_train.csv\")\n",
    "#y_train = pd.read_csv(\"./data/y_train.csv\")"
   ]
  },
  {
   "cell_type": "code",
   "execution_count": 12,
   "id": "63d08085",
   "metadata": {
    "execution": {
     "iopub.execute_input": "2025-07-30T21:05:51.009156Z",
     "iopub.status.busy": "2025-07-30T21:05:51.008623Z",
     "iopub.status.idle": "2025-07-30T21:05:51.014031Z",
     "shell.execute_reply": "2025-07-30T21:05:51.012876Z"
    },
    "papermill": {
     "duration": 0.031153,
     "end_time": "2025-07-30T21:05:51.015724",
     "exception": false,
     "start_time": "2025-07-30T21:05:50.984571",
     "status": "completed"
    },
    "tags": []
   },
   "outputs": [],
   "source": [
    "#X_test = pd.read_csv(\"./data/X_test.csv\")\n",
    "#y_true = pd.read_csv(\"./data/y_test.csv\")"
   ]
  },
  {
   "cell_type": "code",
   "execution_count": 13,
   "id": "98a8d0fa-1d3d-4ed8-bb2c-281470e24add",
   "metadata": {
    "execution": {
     "iopub.execute_input": "2025-07-30T21:05:51.055240Z",
     "iopub.status.busy": "2025-07-30T21:05:51.054849Z",
     "iopub.status.idle": "2025-07-30T21:05:51.060685Z",
     "shell.execute_reply": "2025-07-30T21:05:51.058714Z"
    },
    "papermill": {
     "duration": 0.021481,
     "end_time": "2025-07-30T21:05:51.062046",
     "exception": false,
     "start_time": "2025-07-30T21:05:51.040565",
     "status": "completed"
    },
    "tags": []
   },
   "outputs": [],
   "source": [
    "# Calibration data for conformal\n",
    "#X_calib = pd.read_csv(\"./data/X_calib.csv\")\n",
    "#y_calib = pd.read_csv(\"./data/y_calib.csv\")"
   ]
  },
  {
   "cell_type": "markdown",
   "id": "997051c5-15bd-4b69-9786-c3001a3ce484",
   "metadata": {
    "papermill": {
     "duration": 0.010512,
     "end_time": "2025-07-30T21:05:51.083311",
     "exception": false,
     "start_time": "2025-07-30T21:05:51.072799",
     "status": "completed"
    },
    "tags": []
   },
   "source": [
    "# Splitting Data and Setting Training Data Size"
   ]
  },
  {
   "cell_type": "code",
   "execution_count": 14,
   "id": "e993b61f-042d-41a6-8c81-f55681f86335",
   "metadata": {
    "execution": {
     "iopub.execute_input": "2025-07-30T21:05:51.105752Z",
     "iopub.status.busy": "2025-07-30T21:05:51.105260Z",
     "iopub.status.idle": "2025-07-30T21:05:51.119976Z",
     "shell.execute_reply": "2025-07-30T21:05:51.118941Z"
    },
    "papermill": {
     "duration": 0.027994,
     "end_time": "2025-07-30T21:05:51.121614",
     "exception": false,
     "start_time": "2025-07-30T21:05:51.093620",
     "status": "completed"
    },
    "tags": []
   },
   "outputs": [],
   "source": [
    "def sample_by_year_size(df,\n",
    "                        training_year: str,\n",
    "                        training_size: str,\n",
    "                        random_state: int = 42):\n",
    "    # --- parse training_year into a list of int years ---\n",
    "    if \"_\" in training_year:\n",
    "        start_str, end_str = training_year.split(\"_\", 1)\n",
    "        start = int(start_str)\n",
    "        end   = int(end_str) if len(end_str) == 4 else (int(end_str) + (start // 100)*100)\n",
    "        years = list(range(start, end + 1))\n",
    "    else:\n",
    "        years = [int(training_year)]\n",
    "\n",
    "    df = df[df[\"year\"].isin(years)].reset_index(drop=True)\n",
    "\n",
    "    # --- map training_size to total number of samples ---\n",
    "    total_map = {\"25k\": 25_000, \"5k\": 5_000, \"1k\": 1_000}\n",
    "    if training_size not in total_map:\n",
    "        return df  # e.g. \"all\"\n",
    "\n",
    "    total_samples = total_map[training_size]\n",
    "    n_years       = len(years)\n",
    "    base          = total_samples // n_years\n",
    "    remainder     = total_samples % n_years\n",
    "\n",
    "    # --- build a dict: year -> how many to sample ---\n",
    "    # give +1 to the first `remainder` years in ascending order\n",
    "    quotas = {\n",
    "        year: base + (1 if idx < remainder else 0)\n",
    "        for idx, year in enumerate(sorted(years))\n",
    "    }\n",
    "\n",
    "    # --- sample per‐year according to the quota dict ---\n",
    "    sampled = (\n",
    "        df\n",
    "        .groupby(\"year\", group_keys=False)\n",
    "        .apply(lambda grp: grp.sample(\n",
    "            n=min(len(grp), quotas[grp.name]),\n",
    "            random_state=random_state))\n",
    "        .reset_index(drop=True)\n",
    "    )\n",
    "\n",
    "    return sampled"
   ]
  },
  {
   "cell_type": "code",
   "execution_count": 15,
   "id": "c0ccd338-0e02-41f3-a09d-f56f9266e3fb",
   "metadata": {
    "execution": {
     "iopub.execute_input": "2025-07-30T21:05:51.163356Z",
     "iopub.status.busy": "2025-07-30T21:05:51.162873Z",
     "iopub.status.idle": "2025-07-30T21:05:51.168116Z",
     "shell.execute_reply": "2025-07-30T21:05:51.167065Z"
    },
    "papermill": {
     "duration": 0.027684,
     "end_time": "2025-07-30T21:05:51.169722",
     "exception": false,
     "start_time": "2025-07-30T21:05:51.142038",
     "status": "completed"
    },
    "tags": []
   },
   "outputs": [],
   "source": [
    "#universe[\"training_size\"]"
   ]
  },
  {
   "cell_type": "code",
   "execution_count": 16,
   "id": "ca707fd7-8047-4acd-bfa5-66248fbbf8e6",
   "metadata": {
    "execution": {
     "iopub.execute_input": "2025-07-30T21:05:51.213416Z",
     "iopub.status.busy": "2025-07-30T21:05:51.212720Z",
     "iopub.status.idle": "2025-07-30T21:05:51.218512Z",
     "shell.execute_reply": "2025-07-30T21:05:51.217500Z"
    },
    "papermill": {
     "duration": 0.029483,
     "end_time": "2025-07-30T21:05:51.220254",
     "exception": false,
     "start_time": "2025-07-30T21:05:51.190771",
     "status": "completed"
    },
    "tags": []
   },
   "outputs": [],
   "source": [
    "#universe[\"training_year\"]"
   ]
  },
  {
   "cell_type": "code",
   "execution_count": 17,
   "id": "aea9c6ef-6f46-42c8-85eb-5a62025c1508",
   "metadata": {
    "execution": {
     "iopub.execute_input": "2025-07-30T21:05:51.271068Z",
     "iopub.status.busy": "2025-07-30T21:05:51.270287Z",
     "iopub.status.idle": "2025-07-30T21:05:51.885121Z",
     "shell.execute_reply": "2025-07-30T21:05:51.884089Z"
    },
    "papermill": {
     "duration": 0.643048,
     "end_time": "2025-07-30T21:05:51.887054",
     "exception": false,
     "start_time": "2025-07-30T21:05:51.244006",
     "status": "completed"
    },
    "tags": []
   },
   "outputs": [],
   "source": [
    "siab_train = sample_by_year_size(siab,\n",
    "                               training_year=universe[\"training_year\"],\n",
    "                               training_size=universe[\"training_size\"])"
   ]
  },
  {
   "cell_type": "code",
   "execution_count": 18,
   "id": "8d3afb32-789d-442c-8d5d-9f5aa8dd2eed",
   "metadata": {
    "execution": {
     "iopub.execute_input": "2025-07-30T21:05:51.940267Z",
     "iopub.status.busy": "2025-07-30T21:05:51.939417Z",
     "iopub.status.idle": "2025-07-30T21:05:51.944562Z",
     "shell.execute_reply": "2025-07-30T21:05:51.943514Z"
    },
    "papermill": {
     "duration": 0.028333,
     "end_time": "2025-07-30T21:05:51.946189",
     "exception": false,
     "start_time": "2025-07-30T21:05:51.917856",
     "status": "completed"
    },
    "tags": []
   },
   "outputs": [],
   "source": [
    "#siab_train.shape"
   ]
  },
  {
   "cell_type": "code",
   "execution_count": 19,
   "id": "d582db68-1a4c-47fb-84fc-08518dc1975a",
   "metadata": {
    "execution": {
     "iopub.execute_input": "2025-07-30T21:05:51.994985Z",
     "iopub.status.busy": "2025-07-30T21:05:51.994263Z",
     "iopub.status.idle": "2025-07-30T21:05:51.999663Z",
     "shell.execute_reply": "2025-07-30T21:05:51.998680Z"
    },
    "papermill": {
     "duration": 0.031902,
     "end_time": "2025-07-30T21:05:52.001503",
     "exception": false,
     "start_time": "2025-07-30T21:05:51.969601",
     "status": "completed"
    },
    "tags": []
   },
   "outputs": [],
   "source": [
    "#display(siab_train.groupby(\"year\").size())"
   ]
  },
  {
   "cell_type": "code",
   "execution_count": 20,
   "id": "a561edb4-d032-42cb-8256-22eac1111c64",
   "metadata": {
    "execution": {
     "iopub.execute_input": "2025-07-30T21:05:52.052431Z",
     "iopub.status.busy": "2025-07-30T21:05:52.051460Z",
     "iopub.status.idle": "2025-07-30T21:05:52.317288Z",
     "shell.execute_reply": "2025-07-30T21:05:52.316211Z"
    },
    "papermill": {
     "duration": 0.293184,
     "end_time": "2025-07-30T21:05:52.319309",
     "exception": false,
     "start_time": "2025-07-30T21:05:52.026125",
     "status": "completed"
    },
    "tags": []
   },
   "outputs": [],
   "source": [
    "#siab_train = siab_s[siab_s.year < 2015]\n",
    "siab_calib = siab[siab.year == 2015]\n",
    "siab_test = siab[siab.year == 2016]"
   ]
  },
  {
   "cell_type": "code",
   "execution_count": 21,
   "id": "472de16f-c3db-4916-846b-1f0de9cf1746",
   "metadata": {
    "execution": {
     "iopub.execute_input": "2025-07-30T21:05:52.369982Z",
     "iopub.status.busy": "2025-07-30T21:05:52.369020Z",
     "iopub.status.idle": "2025-07-30T21:05:52.377839Z",
     "shell.execute_reply": "2025-07-30T21:05:52.376824Z"
    },
    "papermill": {
     "duration": 0.03593,
     "end_time": "2025-07-30T21:05:52.379596",
     "exception": false,
     "start_time": "2025-07-30T21:05:52.343666",
     "status": "completed"
    },
    "tags": []
   },
   "outputs": [],
   "source": [
    "X_train = siab_train.iloc[:,4:164]\n",
    "y_train = siab_train.iloc[:, [3]]"
   ]
  },
  {
   "cell_type": "code",
   "execution_count": 22,
   "id": "828c96af-f43a-4ed6-ba47-8ac73a47d56c",
   "metadata": {
    "execution": {
     "iopub.execute_input": "2025-07-30T21:05:52.424304Z",
     "iopub.status.busy": "2025-07-30T21:05:52.423419Z",
     "iopub.status.idle": "2025-07-30T21:05:52.474146Z",
     "shell.execute_reply": "2025-07-30T21:05:52.472957Z"
    },
    "papermill": {
     "duration": 0.074593,
     "end_time": "2025-07-30T21:05:52.476193",
     "exception": false,
     "start_time": "2025-07-30T21:05:52.401600",
     "status": "completed"
    },
    "tags": []
   },
   "outputs": [],
   "source": [
    "X_calib = siab_calib.iloc[:,4:164]\n",
    "y_calib = siab_calib.iloc[:, [3]]"
   ]
  },
  {
   "cell_type": "code",
   "execution_count": 23,
   "id": "c34be9c3-6bd6-476e-acd3-845840e303be",
   "metadata": {
    "execution": {
     "iopub.execute_input": "2025-07-30T21:05:52.521910Z",
     "iopub.status.busy": "2025-07-30T21:05:52.521027Z",
     "iopub.status.idle": "2025-07-30T21:05:52.575331Z",
     "shell.execute_reply": "2025-07-30T21:05:52.574039Z"
    },
    "papermill": {
     "duration": 0.078536,
     "end_time": "2025-07-30T21:05:52.577267",
     "exception": false,
     "start_time": "2025-07-30T21:05:52.498731",
     "status": "completed"
    },
    "tags": []
   },
   "outputs": [],
   "source": [
    "X_test = siab_test.iloc[:,4:164]\n",
    "y_true = siab_test.iloc[:, [3]]"
   ]
  },
  {
   "cell_type": "markdown",
   "id": "9901737e-04df-44f0-9100-f5ad144ed040",
   "metadata": {
    "papermill": {
     "duration": 0.023367,
     "end_time": "2025-07-30T21:05:52.625177",
     "exception": false,
     "start_time": "2025-07-30T21:05:52.601810",
     "status": "completed"
    },
    "tags": []
   },
   "source": [
    "# Splitting Data and Setting Training Data Size OLD VERSION"
   ]
  },
  {
   "cell_type": "code",
   "execution_count": 24,
   "id": "acbc8f7d-8fc8-4e86-8c59-5dcb0f58384b",
   "metadata": {
    "execution": {
     "iopub.execute_input": "2025-07-30T21:05:52.674259Z",
     "iopub.status.busy": "2025-07-30T21:05:52.673547Z",
     "iopub.status.idle": "2025-07-30T21:05:52.679482Z",
     "shell.execute_reply": "2025-07-30T21:05:52.678303Z"
    },
    "papermill": {
     "duration": 0.032524,
     "end_time": "2025-07-30T21:05:52.681188",
     "exception": false,
     "start_time": "2025-07-30T21:05:52.648664",
     "status": "completed"
    },
    "tags": []
   },
   "outputs": [],
   "source": [
    "#def sample_by_year(df, training_size, random_state=42):\n",
    "#    if training_size == \"2014\":\n",
    "#        return df[df[\"year\"] == 2014].reset_index(drop=True)\n",
    "#    \n",
    "#    size_map = {\n",
    "#        \"25k\": 5000,\n",
    "#        \"5k\": 1000,\n",
    "#        \"1k\": 200\n",
    "#    }\n",
    "#\n",
    "#    if training_size not in size_map:\n",
    "#        return df.reset_index(drop=True)  # use all data\n",
    "#\n",
    "#    n_per_year = size_map[training_size]\n",
    "#    grouped = df.groupby(\"year\")\n",
    "#    sampled = grouped.apply(lambda x: x.sample(n=min(n_per_year, len(x)), random_state=random_state))\n",
    "#    return sampled.reset_index(drop=True)"
   ]
  },
  {
   "cell_type": "code",
   "execution_count": 25,
   "id": "6d931f52-beaf-43ff-9e78-9d44a448d54e",
   "metadata": {
    "execution": {
     "iopub.execute_input": "2025-07-30T21:05:52.730866Z",
     "iopub.status.busy": "2025-07-30T21:05:52.729917Z",
     "iopub.status.idle": "2025-07-30T21:05:52.735606Z",
     "shell.execute_reply": "2025-07-30T21:05:52.734587Z"
    },
    "papermill": {
     "duration": 0.032501,
     "end_time": "2025-07-30T21:05:52.737527",
     "exception": false,
     "start_time": "2025-07-30T21:05:52.705026",
     "status": "completed"
    },
    "tags": []
   },
   "outputs": [],
   "source": [
    "#siab_s = sample_by_year(siab, universe[\"training_size\"])"
   ]
  },
  {
   "cell_type": "code",
   "execution_count": 26,
   "id": "5db0a40e-a4e2-4920-be85-b12ae061d70d",
   "metadata": {
    "execution": {
     "iopub.execute_input": "2025-07-30T21:05:52.787788Z",
     "iopub.status.busy": "2025-07-30T21:05:52.786832Z",
     "iopub.status.idle": "2025-07-30T21:05:52.792562Z",
     "shell.execute_reply": "2025-07-30T21:05:52.791512Z"
    },
    "papermill": {
     "duration": 0.032624,
     "end_time": "2025-07-30T21:05:52.794315",
     "exception": false,
     "start_time": "2025-07-30T21:05:52.761691",
     "status": "completed"
    },
    "tags": []
   },
   "outputs": [],
   "source": [
    "#display(siab_s.groupby(\"year\").size())"
   ]
  },
  {
   "cell_type": "code",
   "execution_count": 27,
   "id": "e6c733c5",
   "metadata": {
    "execution": {
     "iopub.execute_input": "2025-07-30T21:05:52.844353Z",
     "iopub.status.busy": "2025-07-30T21:05:52.843310Z",
     "iopub.status.idle": "2025-07-30T21:05:52.942646Z",
     "shell.execute_reply": "2025-07-30T21:05:52.941590Z"
    },
    "papermill": {
     "duration": 0.126065,
     "end_time": "2025-07-30T21:05:52.944800",
     "exception": false,
     "start_time": "2025-07-30T21:05:52.818735",
     "status": "completed"
    },
    "tags": []
   },
   "outputs": [],
   "source": [
    "# Auxiliary data needed downstream in the pipeline\n",
    "\n",
    "org_train = X_train.copy()\n",
    "org_test = X_test.copy()\n",
    "org_calib = X_calib.copy()"
   ]
  },
  {
   "cell_type": "code",
   "execution_count": 28,
   "id": "1466abac-c6da-4492-a62f-4240ae3783af",
   "metadata": {
    "execution": {
     "iopub.execute_input": "2025-07-30T21:05:52.997547Z",
     "iopub.status.busy": "2025-07-30T21:05:52.996606Z",
     "iopub.status.idle": "2025-07-30T21:05:53.002971Z",
     "shell.execute_reply": "2025-07-30T21:05:53.002008Z"
    },
    "papermill": {
     "duration": 0.035193,
     "end_time": "2025-07-30T21:05:53.004908",
     "exception": false,
     "start_time": "2025-07-30T21:05:52.969715",
     "status": "completed"
    },
    "tags": []
   },
   "outputs": [],
   "source": [
    "# put in other script?\n",
    "# Group sizes\n",
    "\n",
    "#def calculate_percentages(df, df_name):\n",
    "#    total_entries = len(df)\n",
    "#\n",
    "#    female_pct = (df['frau1'] == 1).mean() * 100\n",
    "#    non_german_pct = ((df['maxdeutsch1'] == 0) & (df['maxdeutsch.Missing.'] == 0)).mean() * 100\n",
    "#    non_german_male_pct = ((df['frau1'] == 0) & (df['maxdeutsch1'] == 0) & (df['maxdeutsch.Missing.'] == 0)).mean() * 100\n",
    "#    non_german_female_pct = ((df['frau1'] == 1) & (df['maxdeutsch1'] == 0) & (df['maxdeutsch.Missing.'] == 0)).mean() * 100\n",
    "#\n",
    "#    print(f\"--- {df_name} ---\")\n",
    "#    print(f\"Female: {female_pct:.2f}%\")\n",
    "#    print(f\"Non-German: {non_german_pct:.2f}%\")\n",
    "#    print(f\"Non-German Male: {non_german_male_pct:.2f}%\")\n",
    "#    print(f\"Non-German Female: {non_german_female_pct:.2f}%\\n\")\n",
    "#\n",
    "## Calculate for each DataFrame\n",
    "#calculate_percentages(siab_calib, \"siab_calib\")\n",
    "#calculate_percentages(siab_test, \"siab_test\")\n",
    "#calculate_percentages(siab_train, \"siab_train\")"
   ]
  },
  {
   "cell_type": "markdown",
   "id": "0a4a1b33",
   "metadata": {
    "papermill": {
     "duration": 0.025201,
     "end_time": "2025-07-30T21:05:53.055398",
     "exception": false,
     "start_time": "2025-07-30T21:05:53.030197",
     "status": "completed"
    },
    "tags": []
   },
   "source": [
    "# Preprocessing Data"
   ]
  },
  {
   "cell_type": "code",
   "execution_count": 29,
   "id": "ca879031",
   "metadata": {
    "execution": {
     "iopub.execute_input": "2025-07-30T21:05:53.106650Z",
     "iopub.status.busy": "2025-07-30T21:05:53.106233Z",
     "iopub.status.idle": "2025-07-30T21:05:53.112587Z",
     "shell.execute_reply": "2025-07-30T21:05:53.111510Z"
    },
    "papermill": {
     "duration": 0.033865,
     "end_time": "2025-07-30T21:05:53.114249",
     "exception": false,
     "start_time": "2025-07-30T21:05:53.080384",
     "status": "completed"
    },
    "tags": []
   },
   "outputs": [],
   "source": [
    "# EXCLUDE PROTECTED FEATURES\n",
    "# ----------------------\n",
    "# \"exclude_features\": \"none\", # \"nationality\", \"sex\", \"nationality-sex\"\n",
    "\n",
    "excluded_features = universe[\"exclude_features\"].split(\"-\") # split, e.g.: \"nationality-sex\" -> [\"nationality\", \"sex\"]\n",
    "excluded_features_dictionary = {\n",
    "    \"nationality\": [\"maxdeutsch1\", \"maxdeutsch.Missing.\"],\n",
    "    \"sex\": [\"frau1\"],\n",
    "    \"age\": [\"age\"],\n",
    "}\n"
   ]
  },
  {
   "cell_type": "code",
   "execution_count": 30,
   "id": "b745ac60",
   "metadata": {
    "execution": {
     "iopub.execute_input": "2025-07-30T21:05:53.164994Z",
     "iopub.status.busy": "2025-07-30T21:05:53.164111Z",
     "iopub.status.idle": "2025-07-30T21:05:53.169918Z",
     "shell.execute_reply": "2025-07-30T21:05:53.169044Z"
    },
    "papermill": {
     "duration": 0.032544,
     "end_time": "2025-07-30T21:05:53.171788",
     "exception": false,
     "start_time": "2025-07-30T21:05:53.139244",
     "status": "completed"
    },
    "tags": []
   },
   "outputs": [],
   "source": [
    "# Code nice names to column names\n",
    "\n",
    "excluded_features_columns = [\n",
    "    excluded_features_dictionary[f] for f in excluded_features if len(f) > 0 and f != \"none\"\n",
    "]"
   ]
  },
  {
   "cell_type": "code",
   "execution_count": 31,
   "id": "f84f73a2",
   "metadata": {
    "execution": {
     "iopub.execute_input": "2025-07-30T21:05:53.213804Z",
     "iopub.status.busy": "2025-07-30T21:05:53.212941Z",
     "iopub.status.idle": "2025-07-30T21:05:53.220229Z",
     "shell.execute_reply": "2025-07-30T21:05:53.219183Z"
    },
    "papermill": {
     "duration": 0.029598,
     "end_time": "2025-07-30T21:05:53.222000",
     "exception": false,
     "start_time": "2025-07-30T21:05:53.192402",
     "status": "completed"
    },
    "tags": []
   },
   "outputs": [],
   "source": [
    "from utils import flatten_once\n",
    "\n",
    "excluded_features_columns = flatten_once(excluded_features_columns)"
   ]
  },
  {
   "cell_type": "code",
   "execution_count": 32,
   "id": "884dea22",
   "metadata": {
    "execution": {
     "iopub.execute_input": "2025-07-30T21:05:53.248640Z",
     "iopub.status.busy": "2025-07-30T21:05:53.248306Z",
     "iopub.status.idle": "2025-07-30T21:05:53.255729Z",
     "shell.execute_reply": "2025-07-30T21:05:53.254713Z"
    },
    "papermill": {
     "duration": 0.020237,
     "end_time": "2025-07-30T21:05:53.256936",
     "exception": false,
     "start_time": "2025-07-30T21:05:53.236699",
     "status": "completed"
    },
    "tags": []
   },
   "outputs": [
    {
     "name": "stdout",
     "output_type": "stream",
     "text": [
      "Dropping features: ['age']\n"
     ]
    }
   ],
   "source": [
    "if len(excluded_features_columns) > 0:\n",
    "    print(f\"Dropping features: {excluded_features_columns}\")\n",
    "    X_train.drop(excluded_features_columns, axis=1, inplace=True)"
   ]
  },
  {
   "cell_type": "code",
   "execution_count": 33,
   "id": "95ab8b16",
   "metadata": {
    "execution": {
     "iopub.execute_input": "2025-07-30T21:05:53.281898Z",
     "iopub.status.busy": "2025-07-30T21:05:53.281186Z",
     "iopub.status.idle": "2025-07-30T21:05:53.329804Z",
     "shell.execute_reply": "2025-07-30T21:05:53.329084Z"
    },
    "papermill": {
     "duration": 0.062287,
     "end_time": "2025-07-30T21:05:53.331278",
     "exception": false,
     "start_time": "2025-07-30T21:05:53.268991",
     "status": "completed"
    },
    "tags": []
   },
   "outputs": [
    {
     "name": "stdout",
     "output_type": "stream",
     "text": [
      "Dropping features: ['age']\n"
     ]
    }
   ],
   "source": [
    "if len(excluded_features_columns) > 0:\n",
    "    print(f\"Dropping features: {excluded_features_columns}\")\n",
    "    X_test.drop(excluded_features_columns, axis=1, inplace=True)"
   ]
  },
  {
   "cell_type": "code",
   "execution_count": 34,
   "id": "1853aaf5-fb9f-46cb-a2b5-8ea4ae2237e4",
   "metadata": {
    "execution": {
     "iopub.execute_input": "2025-07-30T21:05:53.359974Z",
     "iopub.status.busy": "2025-07-30T21:05:53.359092Z",
     "iopub.status.idle": "2025-07-30T21:05:53.414038Z",
     "shell.execute_reply": "2025-07-30T21:05:53.413070Z"
    },
    "papermill": {
     "duration": 0.072142,
     "end_time": "2025-07-30T21:05:53.415699",
     "exception": false,
     "start_time": "2025-07-30T21:05:53.343557",
     "status": "completed"
    },
    "tags": []
   },
   "outputs": [
    {
     "name": "stdout",
     "output_type": "stream",
     "text": [
      "Dropping features: ['age']\n"
     ]
    }
   ],
   "source": [
    "if len(excluded_features_columns) > 0:\n",
    "    print(f\"Dropping features: {excluded_features_columns}\")\n",
    "    X_calib.drop(excluded_features_columns, axis=1, inplace=True)"
   ]
  },
  {
   "cell_type": "code",
   "execution_count": 35,
   "id": "6727d079-03e5-481e-9d38-292a90b7a0a8",
   "metadata": {
    "execution": {
     "iopub.execute_input": "2025-07-30T21:05:53.465159Z",
     "iopub.status.busy": "2025-07-30T21:05:53.464456Z",
     "iopub.status.idle": "2025-07-30T21:05:53.470161Z",
     "shell.execute_reply": "2025-07-30T21:05:53.468518Z"
    },
    "papermill": {
     "duration": 0.031628,
     "end_time": "2025-07-30T21:05:53.471713",
     "exception": false,
     "start_time": "2025-07-30T21:05:53.440085",
     "status": "completed"
    },
    "tags": []
   },
   "outputs": [],
   "source": [
    "# SPLIT & STRATIFY DATA\n",
    "# ----------------------"
   ]
  },
  {
   "cell_type": "code",
   "execution_count": 36,
   "id": "76c4dc6d",
   "metadata": {
    "execution": {
     "iopub.execute_input": "2025-07-30T21:05:53.522609Z",
     "iopub.status.busy": "2025-07-30T21:05:53.522018Z",
     "iopub.status.idle": "2025-07-30T21:05:53.528441Z",
     "shell.execute_reply": "2025-07-30T21:05:53.527355Z"
    },
    "papermill": {
     "duration": 0.033419,
     "end_time": "2025-07-30T21:05:53.529910",
     "exception": false,
     "start_time": "2025-07-30T21:05:53.496491",
     "status": "completed"
    },
    "tags": []
   },
   "outputs": [],
   "source": [
    "# EXCLUDE CERTAIN SUBGROUPS\n",
    "# ----------------------\n",
    "\n",
    "mode = universe.get(\"exclude_subgroups\", \"keep-all\") \n",
    "# Fetches the exclude_subgroups setting from the universe dict.\n",
    "# Defaults to \"keep-all\" if the key is missing."
   ]
  },
  {
   "cell_type": "code",
   "execution_count": 37,
   "id": "21994072",
   "metadata": {
    "execution": {
     "iopub.execute_input": "2025-07-30T21:05:53.577119Z",
     "iopub.status.busy": "2025-07-30T21:05:53.576404Z",
     "iopub.status.idle": "2025-07-30T21:05:53.583541Z",
     "shell.execute_reply": "2025-07-30T21:05:53.582654Z"
    },
    "papermill": {
     "duration": 0.032141,
     "end_time": "2025-07-30T21:05:53.585182",
     "exception": false,
     "start_time": "2025-07-30T21:05:53.553041",
     "status": "completed"
    },
    "tags": []
   },
   "outputs": [],
   "source": [
    "if mode == \"keep-all\":\n",
    "    keep_mask = pd.Series(True, index=org_train.index)\n",
    "\n",
    "# org_train contains the original feature columns from features_org (in Simson)\n",
    "# features_org contains unprocessed features, for me X_train at beginning ???\n",
    "# For keep-all, creates a boolean Series (keep_mask) of all True, so no rows are removed.\n",
    "\n",
    "elif mode == \"drop-non-german\":\n",
    "    keep_mask = org_train[\"maxdeutsch1\"] == 1 # ??? what about missing values?\n",
    "\n",
    "else:\n",
    "    raise ValueError(f\"Unsupported mode for exclude_subgroups: {mode}\")\n"
   ]
  },
  {
   "cell_type": "code",
   "execution_count": 38,
   "id": "71651440",
   "metadata": {
    "execution": {
     "iopub.execute_input": "2025-07-30T21:05:53.631091Z",
     "iopub.status.busy": "2025-07-30T21:05:53.630599Z",
     "iopub.status.idle": "2025-07-30T21:05:53.639370Z",
     "shell.execute_reply": "2025-07-30T21:05:53.638406Z"
    },
    "papermill": {
     "duration": 0.033244,
     "end_time": "2025-07-30T21:05:53.641023",
     "exception": false,
     "start_time": "2025-07-30T21:05:53.607779",
     "status": "completed"
    },
    "tags": []
   },
   "outputs": [
    {
     "name": "stdout",
     "output_type": "stream",
     "text": [
      "Dropping 665 rows (13.30%) where mode='drop-non-german'\n"
     ]
    }
   ],
   "source": [
    "n_drop = (~keep_mask).sum() # Calculates how many rows are set to be dropped\n",
    "if n_drop > 0:\n",
    "    pct = n_drop / len(keep_mask) * 100\n",
    "    print(f\"Dropping {n_drop} rows ({pct:.2f}%) where mode='{mode}'\")"
   ]
  },
  {
   "cell_type": "code",
   "execution_count": 39,
   "id": "5fb8eee5",
   "metadata": {
    "execution": {
     "iopub.execute_input": "2025-07-30T21:05:53.687898Z",
     "iopub.status.busy": "2025-07-30T21:05:53.686975Z",
     "iopub.status.idle": "2025-07-30T21:05:53.695121Z",
     "shell.execute_reply": "2025-07-30T21:05:53.694190Z"
    },
    "papermill": {
     "duration": 0.032585,
     "end_time": "2025-07-30T21:05:53.696679",
     "exception": false,
     "start_time": "2025-07-30T21:05:53.664094",
     "status": "completed"
    },
    "tags": []
   },
   "outputs": [],
   "source": [
    "X_train = X_train[keep_mask]"
   ]
  },
  {
   "cell_type": "code",
   "execution_count": 40,
   "id": "b202bb3a",
   "metadata": {
    "execution": {
     "iopub.execute_input": "2025-07-30T21:05:53.743817Z",
     "iopub.status.busy": "2025-07-30T21:05:53.743235Z",
     "iopub.status.idle": "2025-07-30T21:05:53.749564Z",
     "shell.execute_reply": "2025-07-30T21:05:53.748589Z"
    },
    "papermill": {
     "duration": 0.031747,
     "end_time": "2025-07-30T21:05:53.751144",
     "exception": false,
     "start_time": "2025-07-30T21:05:53.719397",
     "status": "completed"
    },
    "tags": []
   },
   "outputs": [],
   "source": [
    "y_train = y_train[keep_mask]"
   ]
  },
  {
   "cell_type": "markdown",
   "id": "493e2ac3",
   "metadata": {
    "papermill": {
     "duration": 0.024414,
     "end_time": "2025-07-30T21:05:53.797550",
     "exception": false,
     "start_time": "2025-07-30T21:05:53.773136",
     "status": "completed"
    },
    "tags": []
   },
   "source": [
    "# Model Training"
   ]
  },
  {
   "cell_type": "code",
   "execution_count": 41,
   "id": "679e1268",
   "metadata": {
    "execution": {
     "iopub.execute_input": "2025-07-30T21:05:53.844693Z",
     "iopub.status.busy": "2025-07-30T21:05:53.844195Z",
     "iopub.status.idle": "2025-07-30T21:05:53.949271Z",
     "shell.execute_reply": "2025-07-30T21:05:53.948277Z"
    },
    "papermill": {
     "duration": 0.130664,
     "end_time": "2025-07-30T21:05:53.951273",
     "exception": false,
     "start_time": "2025-07-30T21:05:53.820609",
     "status": "completed"
    },
    "tags": []
   },
   "outputs": [],
   "source": [
    "from sklearn.linear_model import LogisticRegression\n",
    "from sklearn.ensemble import GradientBoostingClassifier, RandomForestClassifier\n",
    "\n",
    "if (universe[\"model\"] == \"logreg\"):\n",
    "    model = LogisticRegression() #penalty=\"none\") #, solver=\"newton-cg\", max_iter=1) # include random_state=19 ?\n",
    "elif (universe[\"model\"] == \"penalized_logreg\"):\n",
    "    model = LogisticRegression(penalty=\"l2\", C=1.0) #, solver=\"newton-cg\", max_iter=1)\n",
    "elif (universe[\"model\"] == \"rf\"):\n",
    "    model = RandomForestClassifier(n_estimators=100, n_jobs=-1)\n",
    "elif (universe[\"model\"] == \"gbm\"):\n",
    "    model = GradientBoostingClassifier()\n",
    "elif (universe[\"model\"] == \"elasticnet\"):\n",
    "    model = LogisticRegression(penalty = 'elasticnet', solver = 'saga', l1_ratio = 0.5, max_iter=5000) # which solver to use?\n",
    "else:\n",
    "    raise \"Unsupported universe.model\""
   ]
  },
  {
   "cell_type": "code",
   "execution_count": 42,
   "id": "0cc8f744",
   "metadata": {
    "execution": {
     "iopub.execute_input": "2025-07-30T21:05:54.001175Z",
     "iopub.status.busy": "2025-07-30T21:05:54.000694Z",
     "iopub.status.idle": "2025-07-30T21:05:54.007100Z",
     "shell.execute_reply": "2025-07-30T21:05:54.006100Z"
    },
    "papermill": {
     "duration": 0.033063,
     "end_time": "2025-07-30T21:05:54.008903",
     "exception": false,
     "start_time": "2025-07-30T21:05:53.975840",
     "status": "completed"
    },
    "tags": []
   },
   "outputs": [],
   "source": [
    "import numpy as np\n",
    "from sklearn.pipeline import Pipeline\n",
    "from sklearn.preprocessing import StandardScaler\n",
    "\n",
    "model = Pipeline([\n",
    "    #(\"continuous_processor\", continuous_processor),\n",
    "    #(\"categorical_preprocessor\", categorical_preprocessor),\n",
    "    (\"scale\", StandardScaler() if universe[\"scale\"] == \"scale\" else None), \n",
    "    (\"model\", model),\n",
    "])"
   ]
  },
  {
   "cell_type": "code",
   "execution_count": 43,
   "id": "9442c04d",
   "metadata": {
    "execution": {
     "iopub.execute_input": "2025-07-30T21:05:54.057963Z",
     "iopub.status.busy": "2025-07-30T21:05:54.057305Z",
     "iopub.status.idle": "2025-07-30T21:05:54.893665Z",
     "shell.execute_reply": "2025-07-30T21:05:54.892764Z"
    },
    "papermill": {
     "duration": 0.862045,
     "end_time": "2025-07-30T21:05:54.895093",
     "exception": false,
     "start_time": "2025-07-30T21:05:54.033048",
     "status": "completed"
    },
    "tags": []
   },
   "outputs": [
    {
     "data": {
      "text/html": [
       "<style>#sk-container-id-1 {color: black;background-color: white;}#sk-container-id-1 pre{padding: 0;}#sk-container-id-1 div.sk-toggleable {background-color: white;}#sk-container-id-1 label.sk-toggleable__label {cursor: pointer;display: block;width: 100%;margin-bottom: 0;padding: 0.3em;box-sizing: border-box;text-align: center;}#sk-container-id-1 label.sk-toggleable__label-arrow:before {content: \"▸\";float: left;margin-right: 0.25em;color: #696969;}#sk-container-id-1 label.sk-toggleable__label-arrow:hover:before {color: black;}#sk-container-id-1 div.sk-estimator:hover label.sk-toggleable__label-arrow:before {color: black;}#sk-container-id-1 div.sk-toggleable__content {max-height: 0;max-width: 0;overflow: hidden;text-align: left;background-color: #f0f8ff;}#sk-container-id-1 div.sk-toggleable__content pre {margin: 0.2em;color: black;border-radius: 0.25em;background-color: #f0f8ff;}#sk-container-id-1 input.sk-toggleable__control:checked~div.sk-toggleable__content {max-height: 200px;max-width: 100%;overflow: auto;}#sk-container-id-1 input.sk-toggleable__control:checked~label.sk-toggleable__label-arrow:before {content: \"▾\";}#sk-container-id-1 div.sk-estimator input.sk-toggleable__control:checked~label.sk-toggleable__label {background-color: #d4ebff;}#sk-container-id-1 div.sk-label input.sk-toggleable__control:checked~label.sk-toggleable__label {background-color: #d4ebff;}#sk-container-id-1 input.sk-hidden--visually {border: 0;clip: rect(1px 1px 1px 1px);clip: rect(1px, 1px, 1px, 1px);height: 1px;margin: -1px;overflow: hidden;padding: 0;position: absolute;width: 1px;}#sk-container-id-1 div.sk-estimator {font-family: monospace;background-color: #f0f8ff;border: 1px dotted black;border-radius: 0.25em;box-sizing: border-box;margin-bottom: 0.5em;}#sk-container-id-1 div.sk-estimator:hover {background-color: #d4ebff;}#sk-container-id-1 div.sk-parallel-item::after {content: \"\";width: 100%;border-bottom: 1px solid gray;flex-grow: 1;}#sk-container-id-1 div.sk-label:hover label.sk-toggleable__label {background-color: #d4ebff;}#sk-container-id-1 div.sk-serial::before {content: \"\";position: absolute;border-left: 1px solid gray;box-sizing: border-box;top: 0;bottom: 0;left: 50%;z-index: 0;}#sk-container-id-1 div.sk-serial {display: flex;flex-direction: column;align-items: center;background-color: white;padding-right: 0.2em;padding-left: 0.2em;position: relative;}#sk-container-id-1 div.sk-item {position: relative;z-index: 1;}#sk-container-id-1 div.sk-parallel {display: flex;align-items: stretch;justify-content: center;background-color: white;position: relative;}#sk-container-id-1 div.sk-item::before, #sk-container-id-1 div.sk-parallel-item::before {content: \"\";position: absolute;border-left: 1px solid gray;box-sizing: border-box;top: 0;bottom: 0;left: 50%;z-index: -1;}#sk-container-id-1 div.sk-parallel-item {display: flex;flex-direction: column;z-index: 1;position: relative;background-color: white;}#sk-container-id-1 div.sk-parallel-item:first-child::after {align-self: flex-end;width: 50%;}#sk-container-id-1 div.sk-parallel-item:last-child::after {align-self: flex-start;width: 50%;}#sk-container-id-1 div.sk-parallel-item:only-child::after {width: 0;}#sk-container-id-1 div.sk-dashed-wrapped {border: 1px dashed gray;margin: 0 0.4em 0.5em 0.4em;box-sizing: border-box;padding-bottom: 0.4em;background-color: white;}#sk-container-id-1 div.sk-label label {font-family: monospace;font-weight: bold;display: inline-block;line-height: 1.2em;}#sk-container-id-1 div.sk-label-container {text-align: center;}#sk-container-id-1 div.sk-container {/* jupyter's `normalize.less` sets `[hidden] { display: none; }` but bootstrap.min.css set `[hidden] { display: none !important; }` so we also need the `!important` here to be able to override the default hidden behavior on the sphinx rendered scikit-learn.org. See: https://github.com/scikit-learn/scikit-learn/issues/21755 */display: inline-block !important;position: relative;}#sk-container-id-1 div.sk-text-repr-fallback {display: none;}</style><div id=\"sk-container-id-1\" class=\"sk-top-container\"><div class=\"sk-text-repr-fallback\"><pre>Pipeline(steps=[(&#x27;scale&#x27;, None), (&#x27;model&#x27;, RandomForestClassifier(n_jobs=-1))])</pre><b>In a Jupyter environment, please rerun this cell to show the HTML representation or trust the notebook. <br />On GitHub, the HTML representation is unable to render, please try loading this page with nbviewer.org.</b></div><div class=\"sk-container\" hidden><div class=\"sk-item sk-dashed-wrapped\"><div class=\"sk-label-container\"><div class=\"sk-label sk-toggleable\"><input class=\"sk-toggleable__control sk-hidden--visually\" id=\"sk-estimator-id-1\" type=\"checkbox\" ><label for=\"sk-estimator-id-1\" class=\"sk-toggleable__label sk-toggleable__label-arrow\">Pipeline</label><div class=\"sk-toggleable__content\"><pre>Pipeline(steps=[(&#x27;scale&#x27;, None), (&#x27;model&#x27;, RandomForestClassifier(n_jobs=-1))])</pre></div></div></div><div class=\"sk-serial\"><div class=\"sk-item\"><div class=\"sk-estimator sk-toggleable\"><input class=\"sk-toggleable__control sk-hidden--visually\" id=\"sk-estimator-id-2\" type=\"checkbox\" ><label for=\"sk-estimator-id-2\" class=\"sk-toggleable__label sk-toggleable__label-arrow\">None</label><div class=\"sk-toggleable__content\"><pre>None</pre></div></div></div><div class=\"sk-item\"><div class=\"sk-estimator sk-toggleable\"><input class=\"sk-toggleable__control sk-hidden--visually\" id=\"sk-estimator-id-3\" type=\"checkbox\" ><label for=\"sk-estimator-id-3\" class=\"sk-toggleable__label sk-toggleable__label-arrow\">RandomForestClassifier</label><div class=\"sk-toggleable__content\"><pre>RandomForestClassifier(n_jobs=-1)</pre></div></div></div></div></div></div></div>"
      ],
      "text/plain": [
       "Pipeline(steps=[('scale', None), ('model', RandomForestClassifier(n_jobs=-1))])"
      ]
     },
     "execution_count": 43,
     "metadata": {},
     "output_type": "execute_result"
    }
   ],
   "source": [
    "model.fit(X_train, y_train.values.ravel())"
   ]
  },
  {
   "cell_type": "code",
   "execution_count": 44,
   "id": "af59f8c0",
   "metadata": {
    "execution": {
     "iopub.execute_input": "2025-07-30T21:05:54.921564Z",
     "iopub.status.busy": "2025-07-30T21:05:54.921052Z",
     "iopub.status.idle": "2025-07-30T21:05:54.925732Z",
     "shell.execute_reply": "2025-07-30T21:05:54.924938Z"
    },
    "papermill": {
     "duration": 0.0194,
     "end_time": "2025-07-30T21:05:54.927059",
     "exception": false,
     "start_time": "2025-07-30T21:05:54.907659",
     "status": "completed"
    },
    "tags": []
   },
   "outputs": [],
   "source": [
    "from fairness_multiverse.universe import predict_w_threshold"
   ]
  },
  {
   "cell_type": "code",
   "execution_count": 45,
   "id": "a7cf2e16",
   "metadata": {
    "execution": {
     "iopub.execute_input": "2025-07-30T21:05:54.955191Z",
     "iopub.status.busy": "2025-07-30T21:05:54.954680Z",
     "iopub.status.idle": "2025-07-30T21:05:55.894790Z",
     "shell.execute_reply": "2025-07-30T21:05:55.893799Z"
    },
    "papermill": {
     "duration": 0.955443,
     "end_time": "2025-07-30T21:05:55.896485",
     "exception": false,
     "start_time": "2025-07-30T21:05:54.941042",
     "status": "completed"
    },
    "tags": []
   },
   "outputs": [
    {
     "data": {
      "text/plain": [
       "0.864407535391818"
      ]
     },
     "execution_count": 45,
     "metadata": {},
     "output_type": "execute_result"
    }
   ],
   "source": [
    "probs_test = model.predict_proba(X_test)\n",
    "\n",
    "'''\n",
    "Below code returns a boolean array (or binary 0/1 array depending on how it’s used) where each element \n",
    "is True if the probability of class 1 is greater than or equal to the threshold, and False otherwise.\n",
    "'''\n",
    "y_pred_default = predict_w_threshold(probs_test, 0.5)\n",
    "\n",
    "from sklearn.metrics import accuracy_score\n",
    "\n",
    "# Naive prediction\n",
    "accuracy_score(y_true = y_true, y_pred = y_pred_default)"
   ]
  },
  {
   "cell_type": "code",
   "execution_count": 46,
   "id": "081964c3",
   "metadata": {
    "execution": {
     "iopub.execute_input": "2025-07-30T21:05:55.945437Z",
     "iopub.status.busy": "2025-07-30T21:05:55.944613Z",
     "iopub.status.idle": "2025-07-30T21:05:56.817119Z",
     "shell.execute_reply": "2025-07-30T21:05:56.816239Z"
    },
    "papermill": {
     "duration": 0.898356,
     "end_time": "2025-07-30T21:05:56.818617",
     "exception": false,
     "start_time": "2025-07-30T21:05:55.920261",
     "status": "completed"
    },
    "tags": []
   },
   "outputs": [
    {
     "data": {
      "text/plain": [
       "array([0, 0, 0, ..., 0, 0, 0])"
      ]
     },
     "execution_count": 46,
     "metadata": {},
     "output_type": "execute_result"
    }
   ],
   "source": [
    "model.predict(X_test)"
   ]
  },
  {
   "cell_type": "markdown",
   "id": "56c9705b",
   "metadata": {
    "papermill": {
     "duration": 0.024467,
     "end_time": "2025-07-30T21:05:56.867193",
     "exception": false,
     "start_time": "2025-07-30T21:05:56.842726",
     "status": "completed"
    },
    "tags": []
   },
   "source": [
    "# Conformal Prediction"
   ]
  },
  {
   "cell_type": "code",
   "execution_count": 47,
   "id": "160ec6ff",
   "metadata": {
    "execution": {
     "iopub.execute_input": "2025-07-30T21:05:56.915881Z",
     "iopub.status.busy": "2025-07-30T21:05:56.915415Z",
     "iopub.status.idle": "2025-07-30T21:05:56.921194Z",
     "shell.execute_reply": "2025-07-30T21:05:56.919996Z"
    },
    "papermill": {
     "duration": 0.032602,
     "end_time": "2025-07-30T21:05:56.923295",
     "exception": false,
     "start_time": "2025-07-30T21:05:56.890693",
     "status": "completed"
    },
    "tags": []
   },
   "outputs": [],
   "source": [
    "# Miscoverage level for conformal prediction (10% allowed error rate => 90% target coverage)\n",
    "alpha = 0.1"
   ]
  },
  {
   "cell_type": "code",
   "execution_count": 48,
   "id": "eadf4555-3dd3-440e-8e35-f82a4ad9f855",
   "metadata": {
    "execution": {
     "iopub.execute_input": "2025-07-30T21:05:56.974332Z",
     "iopub.status.busy": "2025-07-30T21:05:56.973280Z",
     "iopub.status.idle": "2025-07-30T21:05:57.784209Z",
     "shell.execute_reply": "2025-07-30T21:05:57.783005Z"
    },
    "papermill": {
     "duration": 0.837476,
     "end_time": "2025-07-30T21:05:57.786391",
     "exception": false,
     "start_time": "2025-07-30T21:05:56.948915",
     "status": "completed"
    },
    "tags": []
   },
   "outputs": [],
   "source": [
    "probs_calib = model.predict_proba(X_calib)"
   ]
  },
  {
   "cell_type": "code",
   "execution_count": 49,
   "id": "2ed93547-6d5d-4983-9b36-1ecb300da49a",
   "metadata": {
    "execution": {
     "iopub.execute_input": "2025-07-30T21:05:57.836627Z",
     "iopub.status.busy": "2025-07-30T21:05:57.835975Z",
     "iopub.status.idle": "2025-07-30T21:05:57.841899Z",
     "shell.execute_reply": "2025-07-30T21:05:57.840832Z"
    },
    "papermill": {
     "duration": 0.032787,
     "end_time": "2025-07-30T21:05:57.843984",
     "exception": false,
     "start_time": "2025-07-30T21:05:57.811197",
     "status": "completed"
    },
    "tags": []
   },
   "outputs": [],
   "source": [
    "y_calib = y_calib.values.ravel().astype(int)"
   ]
  },
  {
   "cell_type": "code",
   "execution_count": 50,
   "id": "65d1320d-f588-4b38-9072-62af1ae97f7d",
   "metadata": {
    "execution": {
     "iopub.execute_input": "2025-07-30T21:05:57.895151Z",
     "iopub.status.busy": "2025-07-30T21:05:57.894665Z",
     "iopub.status.idle": "2025-07-30T21:05:57.902094Z",
     "shell.execute_reply": "2025-07-30T21:05:57.901076Z"
    },
    "papermill": {
     "duration": 0.034501,
     "end_time": "2025-07-30T21:05:57.903685",
     "exception": false,
     "start_time": "2025-07-30T21:05:57.869184",
     "status": "completed"
    },
    "tags": []
   },
   "outputs": [],
   "source": [
    "from fairness_multiverse.conformal import compute_nc_scores\n",
    "\n",
    "# Compute nonconformity scores on calibration set (1 - probability of true class)\n",
    "nc_scores = compute_nc_scores(probs_calib, y_calib)"
   ]
  },
  {
   "cell_type": "code",
   "execution_count": 51,
   "id": "df3b8ca3-53b7-43d5-9667-7c85da7aeda2",
   "metadata": {
    "execution": {
     "iopub.execute_input": "2025-07-30T21:05:57.953790Z",
     "iopub.status.busy": "2025-07-30T21:05:57.953137Z",
     "iopub.status.idle": "2025-07-30T21:05:57.960325Z",
     "shell.execute_reply": "2025-07-30T21:05:57.959313Z"
    },
    "papermill": {
     "duration": 0.034423,
     "end_time": "2025-07-30T21:05:57.962218",
     "exception": false,
     "start_time": "2025-07-30T21:05:57.927795",
     "status": "completed"
    },
    "tags": []
   },
   "outputs": [],
   "source": [
    "from fairness_multiverse.conformal import find_threshold\n",
    "\n",
    "# Find conformal threshold q_hat for the given alpha (split conformal method)\n",
    "q_hat = find_threshold(nc_scores, alpha)"
   ]
  },
  {
   "cell_type": "code",
   "execution_count": 52,
   "id": "4d29e6c1-0ef6-4aa4-b8fe-4fe79b0d033a",
   "metadata": {
    "execution": {
     "iopub.execute_input": "2025-07-30T21:05:58.012668Z",
     "iopub.status.busy": "2025-07-30T21:05:58.011815Z",
     "iopub.status.idle": "2025-07-30T21:05:58.020091Z",
     "shell.execute_reply": "2025-07-30T21:05:58.018935Z"
    },
    "papermill": {
     "duration": 0.035407,
     "end_time": "2025-07-30T21:05:58.022120",
     "exception": false,
     "start_time": "2025-07-30T21:05:57.986713",
     "status": "completed"
    },
    "tags": []
   },
   "outputs": [
    {
     "data": {
      "text/plain": [
       "0.6799999999999999"
      ]
     },
     "execution_count": 52,
     "metadata": {},
     "output_type": "execute_result"
    }
   ],
   "source": [
    "q_hat"
   ]
  },
  {
   "cell_type": "code",
   "execution_count": 53,
   "id": "92460794-cdac-4be2-ba28-f28c0515a6fb",
   "metadata": {
    "execution": {
     "iopub.execute_input": "2025-07-30T21:05:58.073123Z",
     "iopub.status.busy": "2025-07-30T21:05:58.072620Z",
     "iopub.status.idle": "2025-07-30T21:05:59.416894Z",
     "shell.execute_reply": "2025-07-30T21:05:59.416122Z"
    },
    "papermill": {
     "duration": 1.370818,
     "end_time": "2025-07-30T21:05:59.418337",
     "exception": false,
     "start_time": "2025-07-30T21:05:58.047519",
     "status": "completed"
    },
    "tags": []
   },
   "outputs": [],
   "source": [
    "from fairness_multiverse.conformal import predict_conformal_sets\n",
    "\n",
    "# Generate prediction sets for each test example\n",
    "pred_sets = predict_conformal_sets(model, X_test, q_hat)"
   ]
  },
  {
   "cell_type": "code",
   "execution_count": 54,
   "id": "d90c9a65-e6db-4f5d-80cd-e68fb7e46829",
   "metadata": {
    "execution": {
     "iopub.execute_input": "2025-07-30T21:05:59.445150Z",
     "iopub.status.busy": "2025-07-30T21:05:59.444622Z",
     "iopub.status.idle": "2025-07-30T21:05:59.449239Z",
     "shell.execute_reply": "2025-07-30T21:05:59.448560Z"
    },
    "papermill": {
     "duration": 0.019237,
     "end_time": "2025-07-30T21:05:59.450472",
     "exception": false,
     "start_time": "2025-07-30T21:05:59.431235",
     "status": "completed"
    },
    "tags": []
   },
   "outputs": [],
   "source": [
    "y_true = y_true.squeeze()"
   ]
  },
  {
   "cell_type": "code",
   "execution_count": 55,
   "id": "3a58a54a-1e68-46b9-927a-df01f18aebc8",
   "metadata": {
    "execution": {
     "iopub.execute_input": "2025-07-30T21:05:59.478820Z",
     "iopub.status.busy": "2025-07-30T21:05:59.478318Z",
     "iopub.status.idle": "2025-07-30T21:05:59.955205Z",
     "shell.execute_reply": "2025-07-30T21:05:59.954442Z"
    },
    "papermill": {
     "duration": 0.491965,
     "end_time": "2025-07-30T21:05:59.957102",
     "exception": false,
     "start_time": "2025-07-30T21:05:59.465137",
     "status": "completed"
    },
    "tags": []
   },
   "outputs": [],
   "source": [
    "from fairness_multiverse.conformal import evaluate_sets\n",
    "\n",
    "# Evaluate coverage and average set size on test data\n",
    "metrics = evaluate_sets(pred_sets, y_true)"
   ]
  },
  {
   "cell_type": "markdown",
   "id": "2b569c12-9aaa-4c88-98c9-bbcd0cf3ebb8",
   "metadata": {
    "papermill": {
     "duration": 0.023201,
     "end_time": "2025-07-30T21:06:00.008252",
     "exception": false,
     "start_time": "2025-07-30T21:05:59.985051",
     "status": "completed"
    },
    "tags": []
   },
   "source": [
    "# CP Metrics"
   ]
  },
  {
   "cell_type": "code",
   "execution_count": 56,
   "id": "5ce0a5cb-201f-45a0-ade5-94c7f0bd6095",
   "metadata": {
    "execution": {
     "iopub.execute_input": "2025-07-30T21:06:00.061798Z",
     "iopub.status.busy": "2025-07-30T21:06:00.060890Z",
     "iopub.status.idle": "2025-07-30T21:06:00.069123Z",
     "shell.execute_reply": "2025-07-30T21:06:00.068118Z"
    },
    "papermill": {
     "duration": 0.037948,
     "end_time": "2025-07-30T21:06:00.071032",
     "exception": false,
     "start_time": "2025-07-30T21:06:00.033084",
     "status": "completed"
    },
    "tags": []
   },
   "outputs": [
    {
     "data": {
      "text/plain": [
       "{'coverage': 0.91453572622896, 'avg_size': 1.148701371084606}"
      ]
     },
     "execution_count": 56,
     "metadata": {},
     "output_type": "execute_result"
    }
   ],
   "source": [
    "metrics"
   ]
  },
  {
   "cell_type": "code",
   "execution_count": 57,
   "id": "9b9a838d-31c9-430b-ae14-12baee460d17",
   "metadata": {
    "execution": {
     "iopub.execute_input": "2025-07-30T21:06:00.123981Z",
     "iopub.status.busy": "2025-07-30T21:06:00.123462Z",
     "iopub.status.idle": "2025-07-30T21:06:00.130783Z",
     "shell.execute_reply": "2025-07-30T21:06:00.129877Z"
    },
    "papermill": {
     "duration": 0.034691,
     "end_time": "2025-07-30T21:06:00.132536",
     "exception": false,
     "start_time": "2025-07-30T21:06:00.097845",
     "status": "completed"
    },
    "tags": []
   },
   "outputs": [],
   "source": [
    "example_universe = universe.copy()\n",
    "universe_training_year = example_universe.get(\"training_year\")\n",
    "universe_training_size = example_universe.get(\"training_size\")\n",
    "universe_scale = example_universe.get(\"scale\")\n",
    "universe_model = example_universe.get(\"model\")\n",
    "universe_exclude_features = example_universe.get(\"exclude_features\")\n",
    "universe_exclude_subgroups = example_universe.get(\"exclude_subgroups\")"
   ]
  },
  {
   "cell_type": "code",
   "execution_count": 58,
   "id": "f4b6a8ac-9dc0-4245-8a91-5b3b5999c4f9",
   "metadata": {
    "execution": {
     "iopub.execute_input": "2025-07-30T21:06:00.186324Z",
     "iopub.status.busy": "2025-07-30T21:06:00.185600Z",
     "iopub.status.idle": "2025-07-30T21:06:00.192231Z",
     "shell.execute_reply": "2025-07-30T21:06:00.191067Z"
    },
    "papermill": {
     "duration": 0.03477,
     "end_time": "2025-07-30T21:06:00.194079",
     "exception": false,
     "start_time": "2025-07-30T21:06:00.159309",
     "status": "completed"
    },
    "tags": []
   },
   "outputs": [],
   "source": [
    "cp_metrics_dict = {\n",
    "    \"universe_id\": [universe_id],\n",
    "    \"universe_training_year\": [universe_training_year],\n",
    "    \"universe_training_size\": [universe_training_size],\n",
    "    \"universe_scale\": [universe_scale],\n",
    "    \"universe_model\": [universe_model],\n",
    "    \"universe_exclude_features\": [universe_exclude_features],\n",
    "    \"universe_exclude_subgroups\": [universe_exclude_subgroups],\n",
    "    \"q_hat\": [q_hat],\n",
    "    \"coverage\": [metrics[\"coverage\"]],\n",
    "    \"avg_size\": [metrics[\"avg_size\"]],\n",
    "}"
   ]
  },
  {
   "cell_type": "code",
   "execution_count": 59,
   "id": "908acbb1-0371-4915-85ca-3fa520d2efe2",
   "metadata": {
    "execution": {
     "iopub.execute_input": "2025-07-30T21:06:00.249346Z",
     "iopub.status.busy": "2025-07-30T21:06:00.248454Z",
     "iopub.status.idle": "2025-07-30T21:06:00.256198Z",
     "shell.execute_reply": "2025-07-30T21:06:00.255173Z"
    },
    "papermill": {
     "duration": 0.036198,
     "end_time": "2025-07-30T21:06:00.257970",
     "exception": false,
     "start_time": "2025-07-30T21:06:00.221772",
     "status": "completed"
    },
    "tags": []
   },
   "outputs": [
    {
     "data": {
      "text/plain": [
       "{'universe_id': ['21ff081f6af82fbf48c7ca76329fcf50'],\n",
       " 'universe_training_year': ['2012_14'],\n",
       " 'universe_training_size': ['5k'],\n",
       " 'universe_scale': ['do-not-scale'],\n",
       " 'universe_model': ['rf'],\n",
       " 'universe_exclude_features': ['age'],\n",
       " 'universe_exclude_subgroups': ['drop-non-german'],\n",
       " 'q_hat': [0.6799999999999999],\n",
       " 'coverage': [0.91453572622896],\n",
       " 'avg_size': [1.148701371084606]}"
      ]
     },
     "execution_count": 59,
     "metadata": {},
     "output_type": "execute_result"
    }
   ],
   "source": [
    "cp_metrics_dict"
   ]
  },
  {
   "cell_type": "code",
   "execution_count": 60,
   "id": "33007efc-14e9-4ec6-97ac-56a455c82265",
   "metadata": {
    "execution": {
     "iopub.execute_input": "2025-07-30T21:06:00.312276Z",
     "iopub.status.busy": "2025-07-30T21:06:00.310609Z",
     "iopub.status.idle": "2025-07-30T21:06:00.318491Z",
     "shell.execute_reply": "2025-07-30T21:06:00.317409Z"
    },
    "papermill": {
     "duration": 0.036523,
     "end_time": "2025-07-30T21:06:00.320337",
     "exception": false,
     "start_time": "2025-07-30T21:06:00.283814",
     "status": "completed"
    },
    "tags": []
   },
   "outputs": [],
   "source": [
    "cp_metrics_df = pd.DataFrame(cp_metrics_dict)"
   ]
  },
  {
   "cell_type": "code",
   "execution_count": 61,
   "id": "db12611b-57b2-4910-b9d0-355adfd6e7bf",
   "metadata": {
    "execution": {
     "iopub.execute_input": "2025-07-30T21:06:00.374105Z",
     "iopub.status.busy": "2025-07-30T21:06:00.373205Z",
     "iopub.status.idle": "2025-07-30T21:06:00.392180Z",
     "shell.execute_reply": "2025-07-30T21:06:00.391055Z"
    },
    "papermill": {
     "duration": 0.046997,
     "end_time": "2025-07-30T21:06:00.393807",
     "exception": false,
     "start_time": "2025-07-30T21:06:00.346810",
     "status": "completed"
    },
    "tags": []
   },
   "outputs": [
    {
     "data": {
      "text/html": [
       "<div>\n",
       "<style scoped>\n",
       "    .dataframe tbody tr th:only-of-type {\n",
       "        vertical-align: middle;\n",
       "    }\n",
       "\n",
       "    .dataframe tbody tr th {\n",
       "        vertical-align: top;\n",
       "    }\n",
       "\n",
       "    .dataframe thead th {\n",
       "        text-align: right;\n",
       "    }\n",
       "</style>\n",
       "<table border=\"1\" class=\"dataframe\">\n",
       "  <thead>\n",
       "    <tr style=\"text-align: right;\">\n",
       "      <th></th>\n",
       "      <th>universe_id</th>\n",
       "      <th>universe_training_year</th>\n",
       "      <th>universe_training_size</th>\n",
       "      <th>universe_scale</th>\n",
       "      <th>universe_model</th>\n",
       "      <th>universe_exclude_features</th>\n",
       "      <th>universe_exclude_subgroups</th>\n",
       "      <th>q_hat</th>\n",
       "      <th>coverage</th>\n",
       "      <th>avg_size</th>\n",
       "    </tr>\n",
       "  </thead>\n",
       "  <tbody>\n",
       "    <tr>\n",
       "      <th>0</th>\n",
       "      <td>21ff081f6af82fbf48c7ca76329fcf50</td>\n",
       "      <td>2012_14</td>\n",
       "      <td>5k</td>\n",
       "      <td>do-not-scale</td>\n",
       "      <td>rf</td>\n",
       "      <td>age</td>\n",
       "      <td>drop-non-german</td>\n",
       "      <td>0.68</td>\n",
       "      <td>0.914536</td>\n",
       "      <td>1.148701</td>\n",
       "    </tr>\n",
       "  </tbody>\n",
       "</table>\n",
       "</div>"
      ],
      "text/plain": [
       "                        universe_id universe_training_year  \\\n",
       "0  21ff081f6af82fbf48c7ca76329fcf50                2012_14   \n",
       "\n",
       "  universe_training_size universe_scale universe_model  \\\n",
       "0                     5k   do-not-scale             rf   \n",
       "\n",
       "  universe_exclude_features universe_exclude_subgroups  q_hat  coverage  \\\n",
       "0                       age            drop-non-german   0.68  0.914536   \n",
       "\n",
       "   avg_size  \n",
       "0  1.148701  "
      ]
     },
     "execution_count": 61,
     "metadata": {},
     "output_type": "execute_result"
    }
   ],
   "source": [
    "cp_metrics_df"
   ]
  },
  {
   "cell_type": "code",
   "execution_count": 62,
   "id": "b7fbde55-a0a1-47e4-9af6-fe4a17fa8c61",
   "metadata": {
    "execution": {
     "iopub.execute_input": "2025-07-30T21:06:00.447064Z",
     "iopub.status.busy": "2025-07-30T21:06:00.446357Z",
     "iopub.status.idle": "2025-07-30T21:06:00.452293Z",
     "shell.execute_reply": "2025-07-30T21:06:00.451324Z"
    },
    "papermill": {
     "duration": 0.033736,
     "end_time": "2025-07-30T21:06:00.453942",
     "exception": false,
     "start_time": "2025-07-30T21:06:00.420206",
     "status": "completed"
    },
    "tags": []
   },
   "outputs": [],
   "source": [
    "# Conditional Coverage & looking at subgroups"
   ]
  },
  {
   "cell_type": "code",
   "execution_count": 63,
   "id": "027ae886-68dd-4141-96c7-805a5450e1ef",
   "metadata": {
    "execution": {
     "iopub.execute_input": "2025-07-30T21:06:00.508747Z",
     "iopub.status.busy": "2025-07-30T21:06:00.507746Z",
     "iopub.status.idle": "2025-07-30T21:06:00.774960Z",
     "shell.execute_reply": "2025-07-30T21:06:00.773933Z"
    },
    "papermill": {
     "duration": 0.295874,
     "end_time": "2025-07-30T21:06:00.776983",
     "exception": false,
     "start_time": "2025-07-30T21:06:00.481109",
     "status": "completed"
    },
    "tags": []
   },
   "outputs": [],
   "source": [
    "from fairness_multiverse.conformal import build_cp_groups\n",
    "\n",
    "cp_groups_df = build_cp_groups(pred_sets, y_true, X_test.index, org_test)\n",
    "#needs universe_id and setting"
   ]
  },
  {
   "cell_type": "code",
   "execution_count": 64,
   "id": "01d5802c-663a-4d1f-9d69-e036faaffbf7",
   "metadata": {
    "execution": {
     "iopub.execute_input": "2025-07-30T21:06:00.829626Z",
     "iopub.status.busy": "2025-07-30T21:06:00.828982Z",
     "iopub.status.idle": "2025-07-30T21:06:00.833694Z",
     "shell.execute_reply": "2025-07-30T21:06:00.832834Z"
    },
    "papermill": {
     "duration": 0.033277,
     "end_time": "2025-07-30T21:06:00.835430",
     "exception": false,
     "start_time": "2025-07-30T21:06:00.802153",
     "status": "completed"
    },
    "tags": []
   },
   "outputs": [],
   "source": [
    "#delete\n",
    "#cp_groups_df"
   ]
  },
  {
   "cell_type": "code",
   "execution_count": 65,
   "id": "fa424af1-d1eb-443d-b717-2d279ada8408",
   "metadata": {
    "execution": {
     "iopub.execute_input": "2025-07-30T21:06:00.888959Z",
     "iopub.status.busy": "2025-07-30T21:06:00.888452Z",
     "iopub.status.idle": "2025-07-30T21:06:00.893550Z",
     "shell.execute_reply": "2025-07-30T21:06:00.892592Z"
    },
    "papermill": {
     "duration": 0.034068,
     "end_time": "2025-07-30T21:06:00.895337",
     "exception": false,
     "start_time": "2025-07-30T21:06:00.861269",
     "status": "completed"
    },
    "tags": []
   },
   "outputs": [],
   "source": [
    "#delete\n",
    "#percentage = (cp_groups_df['nongerman_female'] == 1).mean() * 100\n",
    "#print(percentage)\n"
   ]
  },
  {
   "cell_type": "code",
   "execution_count": 66,
   "id": "6cbdab96-b2b2-45af-ad54-d0516db2e28d",
   "metadata": {
    "execution": {
     "iopub.execute_input": "2025-07-30T21:06:00.948745Z",
     "iopub.status.busy": "2025-07-30T21:06:00.947932Z",
     "iopub.status.idle": "2025-07-30T21:06:02.638752Z",
     "shell.execute_reply": "2025-07-30T21:06:02.637612Z"
    },
    "papermill": {
     "duration": 1.71986,
     "end_time": "2025-07-30T21:06:02.641405",
     "exception": false,
     "start_time": "2025-07-30T21:06:00.921545",
     "status": "completed"
    },
    "tags": []
   },
   "outputs": [],
   "source": [
    "# Define covered = 1 if true_label is in the predicted set\n",
    "cp_groups_df['covered'] = cp_groups_df.apply(\n",
    "    lambda r: int(r['true_label'] in r['pred_set']),\n",
    "    axis=1\n",
    ")"
   ]
  },
  {
   "cell_type": "code",
   "execution_count": 67,
   "id": "338ff529-1a6b-4b87-a931-8e4788d52aad",
   "metadata": {
    "execution": {
     "iopub.execute_input": "2025-07-30T21:06:02.721673Z",
     "iopub.status.busy": "2025-07-30T21:06:02.720524Z",
     "iopub.status.idle": "2025-07-30T21:06:02.727490Z",
     "shell.execute_reply": "2025-07-30T21:06:02.726215Z"
    },
    "papermill": {
     "duration": 0.048387,
     "end_time": "2025-07-30T21:06:02.729582",
     "exception": false,
     "start_time": "2025-07-30T21:06:02.681195",
     "status": "completed"
    },
    "tags": []
   },
   "outputs": [],
   "source": [
    "#cp_groups_df"
   ]
  },
  {
   "cell_type": "code",
   "execution_count": 68,
   "id": "90032e27-66df-4540-9169-4e89cfbaa758",
   "metadata": {
    "execution": {
     "iopub.execute_input": "2025-07-30T21:06:02.785399Z",
     "iopub.status.busy": "2025-07-30T21:06:02.784886Z",
     "iopub.status.idle": "2025-07-30T21:06:02.796186Z",
     "shell.execute_reply": "2025-07-30T21:06:02.795046Z"
    },
    "papermill": {
     "duration": 0.040612,
     "end_time": "2025-07-30T21:06:02.798130",
     "exception": false,
     "start_time": "2025-07-30T21:06:02.757518",
     "status": "completed"
    },
    "tags": []
   },
   "outputs": [],
   "source": [
    "subgroups = ['frau1','nongerman','nongerman_male','nongerman_female']\n",
    "\n",
    "# Conditional coverage for subgroup==1\n",
    "cond_coverage = {\n",
    "    g: cp_groups_df.loc[cp_groups_df[g]==1, 'covered'].mean()\n",
    "    for g in subgroups\n",
    "}"
   ]
  },
  {
   "cell_type": "code",
   "execution_count": 69,
   "id": "1e348fb1-b9c3-45bc-ba23-f016827a7e0d",
   "metadata": {
    "execution": {
     "iopub.execute_input": "2025-07-30T21:06:02.843984Z",
     "iopub.status.busy": "2025-07-30T21:06:02.843483Z",
     "iopub.status.idle": "2025-07-30T21:06:02.850117Z",
     "shell.execute_reply": "2025-07-30T21:06:02.849355Z"
    },
    "papermill": {
     "duration": 0.02406,
     "end_time": "2025-07-30T21:06:02.851469",
     "exception": false,
     "start_time": "2025-07-30T21:06:02.827409",
     "status": "completed"
    },
    "tags": []
   },
   "outputs": [
    {
     "data": {
      "text/plain": [
       "{'frau1': 0.9088286831109313,\n",
       " 'nongerman': 0.906697355863695,\n",
       " 'nongerman_male': 0.9249752319193011,\n",
       " 'nongerman_female': 0.8764530551415798}"
      ]
     },
     "execution_count": 69,
     "metadata": {},
     "output_type": "execute_result"
    }
   ],
   "source": [
    "cond_coverage"
   ]
  },
  {
   "cell_type": "code",
   "execution_count": 70,
   "id": "f5093324-c3dd-4d63-bc4c-8d945e5c8bbb",
   "metadata": {
    "execution": {
     "iopub.execute_input": "2025-07-30T21:06:02.885050Z",
     "iopub.status.busy": "2025-07-30T21:06:02.884312Z",
     "iopub.status.idle": "2025-07-30T21:06:02.891038Z",
     "shell.execute_reply": "2025-07-30T21:06:02.890240Z"
    },
    "papermill": {
     "duration": 0.026235,
     "end_time": "2025-07-30T21:06:02.892648",
     "exception": false,
     "start_time": "2025-07-30T21:06:02.866413",
     "status": "completed"
    },
    "tags": []
   },
   "outputs": [],
   "source": [
    "for subgroup, cov in cond_coverage.items():\n",
    "    cp_metrics_df[f\"cov_{subgroup}\"] = cov"
   ]
  },
  {
   "cell_type": "code",
   "execution_count": 71,
   "id": "6e872e10-dbe5-49e8-b554-5030c98ff75d",
   "metadata": {
    "execution": {
     "iopub.execute_input": "2025-07-30T21:06:02.922239Z",
     "iopub.status.busy": "2025-07-30T21:06:02.921729Z",
     "iopub.status.idle": "2025-07-30T21:06:02.941365Z",
     "shell.execute_reply": "2025-07-30T21:06:02.940427Z"
    },
    "papermill": {
     "duration": 0.035727,
     "end_time": "2025-07-30T21:06:02.943351",
     "exception": false,
     "start_time": "2025-07-30T21:06:02.907624",
     "status": "completed"
    },
    "tags": []
   },
   "outputs": [
    {
     "data": {
      "text/html": [
       "<div>\n",
       "<style scoped>\n",
       "    .dataframe tbody tr th:only-of-type {\n",
       "        vertical-align: middle;\n",
       "    }\n",
       "\n",
       "    .dataframe tbody tr th {\n",
       "        vertical-align: top;\n",
       "    }\n",
       "\n",
       "    .dataframe thead th {\n",
       "        text-align: right;\n",
       "    }\n",
       "</style>\n",
       "<table border=\"1\" class=\"dataframe\">\n",
       "  <thead>\n",
       "    <tr style=\"text-align: right;\">\n",
       "      <th></th>\n",
       "      <th>universe_id</th>\n",
       "      <th>universe_training_year</th>\n",
       "      <th>universe_training_size</th>\n",
       "      <th>universe_scale</th>\n",
       "      <th>universe_model</th>\n",
       "      <th>universe_exclude_features</th>\n",
       "      <th>universe_exclude_subgroups</th>\n",
       "      <th>q_hat</th>\n",
       "      <th>coverage</th>\n",
       "      <th>avg_size</th>\n",
       "      <th>cov_frau1</th>\n",
       "      <th>cov_nongerman</th>\n",
       "      <th>cov_nongerman_male</th>\n",
       "      <th>cov_nongerman_female</th>\n",
       "    </tr>\n",
       "  </thead>\n",
       "  <tbody>\n",
       "    <tr>\n",
       "      <th>0</th>\n",
       "      <td>21ff081f6af82fbf48c7ca76329fcf50</td>\n",
       "      <td>2012_14</td>\n",
       "      <td>5k</td>\n",
       "      <td>do-not-scale</td>\n",
       "      <td>rf</td>\n",
       "      <td>age</td>\n",
       "      <td>drop-non-german</td>\n",
       "      <td>0.68</td>\n",
       "      <td>0.914536</td>\n",
       "      <td>1.148701</td>\n",
       "      <td>0.908829</td>\n",
       "      <td>0.906697</td>\n",
       "      <td>0.924975</td>\n",
       "      <td>0.876453</td>\n",
       "    </tr>\n",
       "  </tbody>\n",
       "</table>\n",
       "</div>"
      ],
      "text/plain": [
       "                        universe_id universe_training_year  \\\n",
       "0  21ff081f6af82fbf48c7ca76329fcf50                2012_14   \n",
       "\n",
       "  universe_training_size universe_scale universe_model  \\\n",
       "0                     5k   do-not-scale             rf   \n",
       "\n",
       "  universe_exclude_features universe_exclude_subgroups  q_hat  coverage  \\\n",
       "0                       age            drop-non-german   0.68  0.914536   \n",
       "\n",
       "   avg_size  cov_frau1  cov_nongerman  cov_nongerman_male  \\\n",
       "0  1.148701   0.908829       0.906697            0.924975   \n",
       "\n",
       "   cov_nongerman_female  \n",
       "0              0.876453  "
      ]
     },
     "execution_count": 71,
     "metadata": {},
     "output_type": "execute_result"
    }
   ],
   "source": [
    "cp_metrics_df"
   ]
  },
  {
   "cell_type": "markdown",
   "id": "33774451",
   "metadata": {
    "papermill": {
     "duration": 0.027489,
     "end_time": "2025-07-30T21:06:02.999379",
     "exception": false,
     "start_time": "2025-07-30T21:06:02.971890",
     "status": "completed"
    },
    "tags": []
   },
   "source": [
    "# (Fairness) Metrics"
   ]
  },
  {
   "cell_type": "code",
   "execution_count": 72,
   "id": "debc5d62",
   "metadata": {
    "execution": {
     "iopub.execute_input": "2025-07-30T21:06:03.057215Z",
     "iopub.status.busy": "2025-07-30T21:06:03.056186Z",
     "iopub.status.idle": "2025-07-30T21:06:03.080185Z",
     "shell.execute_reply": "2025-07-30T21:06:03.079179Z"
    },
    "papermill": {
     "duration": 0.055562,
     "end_time": "2025-07-30T21:06:03.082395",
     "exception": false,
     "start_time": "2025-07-30T21:06:03.026833",
     "status": "completed"
    },
    "tags": []
   },
   "outputs": [],
   "source": [
    "# do I need to include maxdeutsch1.missing?\n",
    "\n",
    "import numpy as np\n",
    "\n",
    "colname_to_bin = \"maxdeutsch1\"\n",
    "majority_value = org_train[colname_to_bin].mode()[0]\n",
    "\n",
    "org_test[\"majmin\"] = np.where(org_test[colname_to_bin] == majority_value, \"majority\", \"minority\")"
   ]
  },
  {
   "cell_type": "code",
   "execution_count": 73,
   "id": "06a50de5",
   "metadata": {
    "execution": {
     "iopub.execute_input": "2025-07-30T21:06:03.141293Z",
     "iopub.status.busy": "2025-07-30T21:06:03.140655Z",
     "iopub.status.idle": "2025-07-30T21:06:05.570793Z",
     "shell.execute_reply": "2025-07-30T21:06:05.569818Z"
    },
    "papermill": {
     "duration": 2.461037,
     "end_time": "2025-07-30T21:06:05.572702",
     "exception": false,
     "start_time": "2025-07-30T21:06:03.111665",
     "status": "completed"
    },
    "tags": []
   },
   "outputs": [],
   "source": [
    "example_universe = universe.copy()\n",
    "example_universe[\"cutoff\"] = example_universe[\"cutoff\"][0]\n",
    "example_universe[\"eval_fairness_grouping\"] = example_universe[\"eval_fairness_grouping\"][0]\n",
    "fairness_dict, metric_frame = universe_analysis.compute_metrics(\n",
    "    example_universe,\n",
    "    y_pred_prob=probs_test,\n",
    "    y_test=y_true,\n",
    "    org_test=org_test,\n",
    ")"
   ]
  },
  {
   "cell_type": "markdown",
   "id": "f95d4e02",
   "metadata": {
    "papermill": {
     "duration": 0.028887,
     "end_time": "2025-07-30T21:06:05.629033",
     "exception": false,
     "start_time": "2025-07-30T21:06:05.600146",
     "status": "completed"
    },
    "tags": []
   },
   "source": [
    "# Overall"
   ]
  },
  {
   "cell_type": "markdown",
   "id": "bdee4871",
   "metadata": {
    "papermill": {
     "duration": 0.029819,
     "end_time": "2025-07-30T21:06:05.686783",
     "exception": false,
     "start_time": "2025-07-30T21:06:05.656964",
     "status": "completed"
    },
    "tags": []
   },
   "source": [
    "Fairness\n",
    "Main fairness target: Equalized Odds. Seems to be a better fit than equal opportunity, since we're not only interested in Y = 1. Seems to be a better fit than demographic parity, since we also care about accuracy, not just equal distribution of preds.\n",
    "\n",
    "Pick column for computation of fairness metrics\n",
    "\n",
    "Performance\n",
    "Overall performance measures, most interesting in relation to the measures split by group below"
   ]
  },
  {
   "cell_type": "code",
   "execution_count": 74,
   "id": "c4e067c6",
   "metadata": {
    "execution": {
     "iopub.execute_input": "2025-07-30T21:06:05.724016Z",
     "iopub.status.busy": "2025-07-30T21:06:05.723484Z",
     "iopub.status.idle": "2025-07-30T21:06:05.733707Z",
     "shell.execute_reply": "2025-07-30T21:06:05.732495Z"
    },
    "papermill": {
     "duration": 0.029182,
     "end_time": "2025-07-30T21:06:05.735345",
     "exception": false,
     "start_time": "2025-07-30T21:06:05.706163",
     "status": "completed"
    },
    "tags": []
   },
   "outputs": [
    {
     "data": {
      "text/plain": [
       "accuracy                   0.211281\n",
       "balanced accuracy          0.537603\n",
       "f1                         0.241076\n",
       "precision                  0.137512\n",
       "false positive rate        0.901332\n",
       "false negative rate        0.023462\n",
       "selection rate             0.910980\n",
       "count                  89710.000000\n",
       "dtype: float64"
      ]
     },
     "execution_count": 74,
     "metadata": {},
     "output_type": "execute_result"
    }
   ],
   "source": [
    "metric_frame.overall"
   ]
  },
  {
   "cell_type": "markdown",
   "id": "e968fe9d",
   "metadata": {
    "papermill": {
     "duration": 0.015847,
     "end_time": "2025-07-30T21:06:05.766847",
     "exception": false,
     "start_time": "2025-07-30T21:06:05.751000",
     "status": "completed"
    },
    "tags": []
   },
   "source": [
    "By Group"
   ]
  },
  {
   "cell_type": "code",
   "execution_count": 75,
   "id": "ec325bce",
   "metadata": {
    "execution": {
     "iopub.execute_input": "2025-07-30T21:06:05.840431Z",
     "iopub.status.busy": "2025-07-30T21:06:05.839907Z",
     "iopub.status.idle": "2025-07-30T21:06:05.858089Z",
     "shell.execute_reply": "2025-07-30T21:06:05.857007Z"
    },
    "papermill": {
     "duration": 0.05214,
     "end_time": "2025-07-30T21:06:05.860077",
     "exception": false,
     "start_time": "2025-07-30T21:06:05.807937",
     "status": "completed"
    },
    "tags": []
   },
   "outputs": [
    {
     "data": {
      "text/html": [
       "<div>\n",
       "<style scoped>\n",
       "    .dataframe tbody tr th:only-of-type {\n",
       "        vertical-align: middle;\n",
       "    }\n",
       "\n",
       "    .dataframe tbody tr th {\n",
       "        vertical-align: top;\n",
       "    }\n",
       "\n",
       "    .dataframe thead th {\n",
       "        text-align: right;\n",
       "    }\n",
       "</style>\n",
       "<table border=\"1\" class=\"dataframe\">\n",
       "  <thead>\n",
       "    <tr style=\"text-align: right;\">\n",
       "      <th></th>\n",
       "      <th>accuracy</th>\n",
       "      <th>balanced accuracy</th>\n",
       "      <th>f1</th>\n",
       "      <th>precision</th>\n",
       "      <th>false positive rate</th>\n",
       "      <th>false negative rate</th>\n",
       "      <th>selection rate</th>\n",
       "      <th>count</th>\n",
       "    </tr>\n",
       "    <tr>\n",
       "      <th>majmin</th>\n",
       "      <th></th>\n",
       "      <th></th>\n",
       "      <th></th>\n",
       "      <th></th>\n",
       "      <th></th>\n",
       "      <th></th>\n",
       "      <th></th>\n",
       "      <th></th>\n",
       "    </tr>\n",
       "  </thead>\n",
       "  <tbody>\n",
       "    <tr>\n",
       "      <th>majority</th>\n",
       "      <td>0.207503</td>\n",
       "      <td>0.538040</td>\n",
       "      <td>0.247691</td>\n",
       "      <td>0.141608</td>\n",
       "      <td>0.911228</td>\n",
       "      <td>0.012691</td>\n",
       "      <td>0.921281</td>\n",
       "      <td>69170.0</td>\n",
       "    </tr>\n",
       "    <tr>\n",
       "      <th>minority</th>\n",
       "      <td>0.224002</td>\n",
       "      <td>0.533161</td>\n",
       "      <td>0.217411</td>\n",
       "      <td>0.123007</td>\n",
       "      <td>0.868644</td>\n",
       "      <td>0.065034</td>\n",
       "      <td>0.876290</td>\n",
       "      <td>20540.0</td>\n",
       "    </tr>\n",
       "  </tbody>\n",
       "</table>\n",
       "</div>"
      ],
      "text/plain": [
       "          accuracy  balanced accuracy        f1  precision  \\\n",
       "majmin                                                       \n",
       "majority  0.207503           0.538040  0.247691   0.141608   \n",
       "minority  0.224002           0.533161  0.217411   0.123007   \n",
       "\n",
       "          false positive rate  false negative rate  selection rate    count  \n",
       "majmin                                                                       \n",
       "majority             0.911228             0.012691        0.921281  69170.0  \n",
       "minority             0.868644             0.065034        0.876290  20540.0  "
      ]
     },
     "execution_count": 75,
     "metadata": {},
     "output_type": "execute_result"
    }
   ],
   "source": [
    "metric_frame.by_group"
   ]
  },
  {
   "cell_type": "code",
   "execution_count": 76,
   "id": "a9ddbe63",
   "metadata": {
    "execution": {
     "iopub.execute_input": "2025-07-30T21:06:05.919597Z",
     "iopub.status.busy": "2025-07-30T21:06:05.918954Z",
     "iopub.status.idle": "2025-07-30T21:06:08.194842Z",
     "shell.execute_reply": "2025-07-30T21:06:08.193844Z"
    },
    "papermill": {
     "duration": 2.30638,
     "end_time": "2025-07-30T21:06:08.196799",
     "exception": false,
     "start_time": "2025-07-30T21:06:05.890419",
     "status": "completed"
    },
    "tags": []
   },
   "outputs": [
    {
     "data": {
      "text/plain": [
       "array([[<Axes: title={'center': 'accuracy'}, xlabel='majmin'>,\n",
       "        <Axes: title={'center': 'balanced accuracy'}, xlabel='majmin'>,\n",
       "        <Axes: title={'center': 'f1'}, xlabel='majmin'>],\n",
       "       [<Axes: title={'center': 'precision'}, xlabel='majmin'>,\n",
       "        <Axes: title={'center': 'false positive rate'}, xlabel='majmin'>,\n",
       "        <Axes: title={'center': 'false negative rate'}, xlabel='majmin'>],\n",
       "       [<Axes: title={'center': 'selection rate'}, xlabel='majmin'>,\n",
       "        <Axes: title={'center': 'count'}, xlabel='majmin'>,\n",
       "        <Axes: xlabel='majmin'>]], dtype=object)"
      ]
     },
     "execution_count": 76,
     "metadata": {},
     "output_type": "execute_result"
    },
    {
     "data": {
      "image/png": "[encoded data removed]",
      "text/plain": [
       "<Figure size 1200x800 with 9 Axes>"
      ]
     },
     "metadata": {},
     "output_type": "display_data"
    }
   ],
   "source": [
    "# In a graphic\n",
    "metric_frame.by_group.plot.bar(\n",
    "    subplots=True,\n",
    "    layout=[3, 3],\n",
    "    legend=False,\n",
    "    figsize=[12, 8],\n",
    "    title=\"Show all metrics\",\n",
    ")"
   ]
  },
  {
   "cell_type": "markdown",
   "id": "f57a0bac",
   "metadata": {
    "papermill": {
     "duration": 0.029609,
     "end_time": "2025-07-30T21:06:08.260479",
     "exception": false,
     "start_time": "2025-07-30T21:06:08.230870",
     "status": "completed"
    },
    "tags": []
   },
   "source": [
    "# Final Output"
   ]
  },
  {
   "cell_type": "code",
   "execution_count": 77,
   "id": "96d280a3",
   "metadata": {
    "execution": {
     "iopub.execute_input": "2025-07-30T21:06:08.321906Z",
     "iopub.status.busy": "2025-07-30T21:06:08.321218Z",
     "iopub.status.idle": "2025-07-30T21:06:08.329602Z",
     "shell.execute_reply": "2025-07-30T21:06:08.328511Z"
    },
    "papermill": {
     "duration": 0.04054,
     "end_time": "2025-07-30T21:06:08.331080",
     "exception": false,
     "start_time": "2025-07-30T21:06:08.290540",
     "status": "completed"
    },
    "tags": []
   },
   "outputs": [
    {
     "data": {
      "text/plain": [
       "4"
      ]
     },
     "execution_count": 77,
     "metadata": {},
     "output_type": "execute_result"
    }
   ],
   "source": [
    "sub_universes = universe_analysis.generate_sub_universes()\n",
    "len(sub_universes)"
   ]
  },
  {
   "cell_type": "code",
   "execution_count": 78,
   "id": "92adf7ba",
   "metadata": {
    "execution": {
     "iopub.execute_input": "2025-07-30T21:06:08.393720Z",
     "iopub.status.busy": "2025-07-30T21:06:08.393053Z",
     "iopub.status.idle": "2025-07-30T21:06:08.426878Z",
     "shell.execute_reply": "2025-07-30T21:06:08.425847Z"
    },
    "papermill": {
     "duration": 0.067103,
     "end_time": "2025-07-30T21:06:08.428696",
     "exception": false,
     "start_time": "2025-07-30T21:06:08.361593",
     "status": "completed"
    },
    "tags": []
   },
   "outputs": [],
   "source": [
    "def filter_sub_universe_data(sub_universe, org_test):\n",
    "    # Keep all rows — no filtering\n",
    "    keep_rows_mask = np.ones(org_test.shape[0], dtype=bool)\n",
    "\n",
    "    print(f\"[INFO] Keeping all rows: {keep_rows_mask.sum()} rows retained.\")\n",
    "    return keep_rows_mask"
   ]
  },
  {
   "cell_type": "code",
   "execution_count": 79,
   "id": "4a759155",
   "metadata": {
    "execution": {
     "iopub.execute_input": "2025-07-30T21:06:08.488000Z",
     "iopub.status.busy": "2025-07-30T21:06:08.487151Z",
     "iopub.status.idle": "2025-07-30T21:06:19.117713Z",
     "shell.execute_reply": "2025-07-30T21:06:19.117003Z"
    },
    "papermill": {
     "duration": 10.6608,
     "end_time": "2025-07-30T21:06:19.118898",
     "exception": false,
     "start_time": "2025-07-30T21:06:08.458098",
     "status": "completed"
    },
    "tags": []
   },
   "outputs": [
    {
     "name": "stdout",
     "output_type": "stream",
     "text": [
      "Stopping execution_time clock.\n",
      "[INFO] Keeping all rows: 89710 rows retained.\n"
     ]
    },
    {
     "name": "stdout",
     "output_type": "stream",
     "text": [
      "[INFO] Keeping all rows: 89710 rows retained.\n"
     ]
    },
    {
     "name": "stdout",
     "output_type": "stream",
     "text": [
      "[INFO] Keeping all rows: 89710 rows retained.\n"
     ]
    },
    {
     "name": "stdout",
     "output_type": "stream",
     "text": [
      "[INFO] Keeping all rows: 89710 rows retained.\n"
     ]
    },
    {
     "data": {
      "text/html": [
       "<div>\n",
       "<style scoped>\n",
       "    .dataframe tbody tr th:only-of-type {\n",
       "        vertical-align: middle;\n",
       "    }\n",
       "\n",
       "    .dataframe tbody tr th {\n",
       "        vertical-align: top;\n",
       "    }\n",
       "\n",
       "    .dataframe thead th {\n",
       "        text-align: right;\n",
       "    }\n",
       "</style>\n",
       "<table border=\"1\" class=\"dataframe\">\n",
       "  <thead>\n",
       "    <tr style=\"text-align: right;\">\n",
       "      <th></th>\n",
       "      <th>run_no</th>\n",
       "      <th>universe_id</th>\n",
       "      <th>universe_settings</th>\n",
       "      <th>execution_time</th>\n",
       "      <th>test_size_n</th>\n",
       "      <th>test_size_frac</th>\n",
       "      <th>fair_main_equalized_odds_difference</th>\n",
       "      <th>fair_main_equalized_odds_ratio</th>\n",
       "      <th>fair_main_demographic_parity_difference</th>\n",
       "      <th>fair_main_demographic_parity_ratio</th>\n",
       "      <th>...</th>\n",
       "      <th>perf_grp_precision_0</th>\n",
       "      <th>perf_grp_precision_1</th>\n",
       "      <th>perf_grp_false positive rate_0</th>\n",
       "      <th>perf_grp_false positive rate_1</th>\n",
       "      <th>perf_grp_false negative rate_0</th>\n",
       "      <th>perf_grp_false negative rate_1</th>\n",
       "      <th>perf_grp_selection rate_0</th>\n",
       "      <th>perf_grp_selection rate_1</th>\n",
       "      <th>perf_grp_count_0</th>\n",
       "      <th>perf_grp_count_1</th>\n",
       "    </tr>\n",
       "  </thead>\n",
       "  <tbody>\n",
       "    <tr>\n",
       "      <th>0</th>\n",
       "      <td>14</td>\n",
       "      <td>21ff081f6af82fbf48c7ca76329fcf50</td>\n",
       "      <td>{\"cutoff\": \"quantile_0.1\", \"eval_fairness_grou...</td>\n",
       "      <td>30.815297</td>\n",
       "      <td>89710</td>\n",
       "      <td>1.0</td>\n",
       "      <td>0.052342</td>\n",
       "      <td>0.946985</td>\n",
       "      <td>0.044991</td>\n",
       "      <td>0.951165</td>\n",
       "      <td>...</td>\n",
       "      <td>NaN</td>\n",
       "      <td>NaN</td>\n",
       "      <td>NaN</td>\n",
       "      <td>NaN</td>\n",
       "      <td>NaN</td>\n",
       "      <td>NaN</td>\n",
       "      <td>NaN</td>\n",
       "      <td>NaN</td>\n",
       "      <td>NaN</td>\n",
       "      <td>NaN</td>\n",
       "    </tr>\n",
       "    <tr>\n",
       "      <th>0</th>\n",
       "      <td>14</td>\n",
       "      <td>21ff081f6af82fbf48c7ca76329fcf50</td>\n",
       "      <td>{\"cutoff\": \"quantile_0.1\", \"eval_fairness_grou...</td>\n",
       "      <td>30.815297</td>\n",
       "      <td>89710</td>\n",
       "      <td>1.0</td>\n",
       "      <td>0.052342</td>\n",
       "      <td>0.946985</td>\n",
       "      <td>0.044991</td>\n",
       "      <td>0.951165</td>\n",
       "      <td>...</td>\n",
       "      <td>0.123007</td>\n",
       "      <td>0.141608</td>\n",
       "      <td>0.868644</td>\n",
       "      <td>0.911228</td>\n",
       "      <td>0.065034</td>\n",
       "      <td>0.012691</td>\n",
       "      <td>0.876290</td>\n",
       "      <td>0.921281</td>\n",
       "      <td>20540.0</td>\n",
       "      <td>69170.0</td>\n",
       "    </tr>\n",
       "    <tr>\n",
       "      <th>0</th>\n",
       "      <td>14</td>\n",
       "      <td>21ff081f6af82fbf48c7ca76329fcf50</td>\n",
       "      <td>{\"cutoff\": \"quantile_0.25\", \"eval_fairness_gro...</td>\n",
       "      <td>30.815297</td>\n",
       "      <td>89710</td>\n",
       "      <td>1.0</td>\n",
       "      <td>0.104918</td>\n",
       "      <td>0.890042</td>\n",
       "      <td>0.057911</td>\n",
       "      <td>0.927318</td>\n",
       "      <td>...</td>\n",
       "      <td>NaN</td>\n",
       "      <td>NaN</td>\n",
       "      <td>NaN</td>\n",
       "      <td>NaN</td>\n",
       "      <td>NaN</td>\n",
       "      <td>NaN</td>\n",
       "      <td>NaN</td>\n",
       "      <td>NaN</td>\n",
       "      <td>NaN</td>\n",
       "      <td>NaN</td>\n",
       "    </tr>\n",
       "    <tr>\n",
       "      <th>0</th>\n",
       "      <td>14</td>\n",
       "      <td>21ff081f6af82fbf48c7ca76329fcf50</td>\n",
       "      <td>{\"cutoff\": \"quantile_0.25\", \"eval_fairness_gro...</td>\n",
       "      <td>30.815297</td>\n",
       "      <td>89710</td>\n",
       "      <td>1.0</td>\n",
       "      <td>0.104918</td>\n",
       "      <td>0.890042</td>\n",
       "      <td>0.057911</td>\n",
       "      <td>0.927318</td>\n",
       "      <td>...</td>\n",
       "      <td>0.132512</td>\n",
       "      <td>0.158241</td>\n",
       "      <td>0.724466</td>\n",
       "      <td>0.772797</td>\n",
       "      <td>0.150760</td>\n",
       "      <td>0.045842</td>\n",
       "      <td>0.738851</td>\n",
       "      <td>0.796762</td>\n",
       "      <td>20540.0</td>\n",
       "      <td>69170.0</td>\n",
       "    </tr>\n",
       "  </tbody>\n",
       "</table>\n",
       "<p>4 rows × 50 columns</p>\n",
       "</div>"
      ],
      "text/plain": [
       "  run_no                       universe_id  \\\n",
       "0     14  21ff081f6af82fbf48c7ca76329fcf50   \n",
       "0     14  21ff081f6af82fbf48c7ca76329fcf50   \n",
       "0     14  21ff081f6af82fbf48c7ca76329fcf50   \n",
       "0     14  21ff081f6af82fbf48c7ca76329fcf50   \n",
       "\n",
       "                                   universe_settings  execution_time  \\\n",
       "0  {\"cutoff\": \"quantile_0.1\", \"eval_fairness_grou...       30.815297   \n",
       "0  {\"cutoff\": \"quantile_0.1\", \"eval_fairness_grou...       30.815297   \n",
       "0  {\"cutoff\": \"quantile_0.25\", \"eval_fairness_gro...       30.815297   \n",
       "0  {\"cutoff\": \"quantile_0.25\", \"eval_fairness_gro...       30.815297   \n",
       "\n",
       "   test_size_n  test_size_frac  fair_main_equalized_odds_difference  \\\n",
       "0        89710             1.0                             0.052342   \n",
       "0        89710             1.0                             0.052342   \n",
       "0        89710             1.0                             0.104918   \n",
       "0        89710             1.0                             0.104918   \n",
       "\n",
       "   fair_main_equalized_odds_ratio  fair_main_demographic_parity_difference  \\\n",
       "0                        0.946985                                 0.044991   \n",
       "0                        0.946985                                 0.044991   \n",
       "0                        0.890042                                 0.057911   \n",
       "0                        0.890042                                 0.057911   \n",
       "\n",
       "   fair_main_demographic_parity_ratio  ...  perf_grp_precision_0  \\\n",
       "0                            0.951165  ...                   NaN   \n",
       "0                            0.951165  ...              0.123007   \n",
       "0                            0.927318  ...                   NaN   \n",
       "0                            0.927318  ...              0.132512   \n",
       "\n",
       "   perf_grp_precision_1  perf_grp_false positive rate_0  \\\n",
       "0                   NaN                             NaN   \n",
       "0              0.141608                        0.868644   \n",
       "0                   NaN                             NaN   \n",
       "0              0.158241                        0.724466   \n",
       "\n",
       "   perf_grp_false positive rate_1  perf_grp_false negative rate_0  \\\n",
       "0                             NaN                             NaN   \n",
       "0                        0.911228                        0.065034   \n",
       "0                             NaN                             NaN   \n",
       "0                        0.772797                        0.150760   \n",
       "\n",
       "   perf_grp_false negative rate_1  perf_grp_selection rate_0  \\\n",
       "0                             NaN                        NaN   \n",
       "0                        0.012691                   0.876290   \n",
       "0                             NaN                        NaN   \n",
       "0                        0.045842                   0.738851   \n",
       "\n",
       "   perf_grp_selection rate_1  perf_grp_count_0  perf_grp_count_1  \n",
       "0                        NaN               NaN               NaN  \n",
       "0                   0.921281           20540.0           69170.0  \n",
       "0                        NaN               NaN               NaN  \n",
       "0                   0.796762           20540.0           69170.0  \n",
       "\n",
       "[4 rows x 50 columns]"
      ]
     },
     "execution_count": 79,
     "metadata": {},
     "output_type": "execute_result"
    }
   ],
   "source": [
    "final_output = universe_analysis.generate_final_output(\n",
    "    y_pred_prob=probs_test,\n",
    "    y_test=y_true,\n",
    "    org_test=org_test,\n",
    "    filter_data=filter_sub_universe_data,\n",
    "    cp_metrics_df=cp_metrics_df,\n",
    "    save=True,\n",
    ")\n",
    "final_output"
   ]
  },
  {
   "cell_type": "code",
   "execution_count": null,
   "id": "721ff514-cb11-46f8-b6fc-50392f74b5cb",
   "metadata": {
    "papermill": {
     "duration": 0.020092,
     "end_time": "2025-07-30T21:06:19.157506",
     "exception": false,
     "start_time": "2025-07-30T21:06:19.137414",
     "status": "completed"
    },
    "tags": []
   },
   "outputs": [],
   "source": []
  }
 ],
 "metadata": {
  "celltoolbar": "Tags",
  "kernelspec": {
   "display_name": "Python (CMA Fairness)",
   "language": "python",
   "name": "cma_fair_env"
  },
  "language_info": {
   "codemirror_mode": {
    "name": "ipython",
    "version": 3
   },
   "file_extension": ".py",
   "mimetype": "text/x-python",
   "name": "python",
   "nbconvert_exporter": "python",
   "pygments_lexer": "ipython3",
   "version": "3.10.12"
  },
  "papermill": {
   "default_parameters": {},
   "duration": 45.45976,
   "end_time": "2025-07-30T21:06:20.093498",
   "environment_variables": {},
   "exception": null,
   "input_path": "universe_analysis.ipynb",
   "output_path": "output/runs/14/notebooks/m_14-21ff081f6af82fbf48c7ca76329fcf50.ipynb",
   "parameters": {
    "output_dir": "output",
    "run_no": "14",
    "seed": "2023",
    "universe": "{\"cutoff\": [\"quantile_0.1\", \"quantile_0.25\"], \"eval_fairness_grouping\": [\"majority-minority\", \"nationality-all\"], \"exclude_features\": \"age\", \"exclude_subgroups\": \"drop-non-german\", \"model\": \"rf\", \"scale\": \"do-not-scale\", \"training_size\": \"5k\", \"training_year\": \"2012_14\"}",
    "universe_id": "21ff081f6af82fbf48c7ca76329fcf50"
   },
   "start_time": "2025-07-30T21:05:34.633738",
   "version": "2.6.0"
  }
 },
 "nbformat": 4,
 "nbformat_minor": 5
}