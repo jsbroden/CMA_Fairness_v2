{
 "cells": [
  {
   "cell_type": "code",
   "execution_count": 1,
   "id": "f159f837-637b-42ba-96b5-ec9a68c44524",
   "metadata": {
    "execution": {
     "iopub.execute_input": "2025-07-30T20:46:50.082809Z",
     "iopub.status.busy": "2025-07-30T20:46:50.082385Z",
     "iopub.status.idle": "2025-07-30T20:46:50.099297Z",
     "shell.execute_reply": "2025-07-30T20:46:50.098034Z"
    },
    "papermill": {
     "duration": 0.06608,
     "end_time": "2025-07-30T20:46:50.101070",
     "exception": false,
     "start_time": "2025-07-30T20:46:50.034990",
     "status": "completed"
    },
    "tags": []
   },
   "outputs": [
    {
     "name": "stdout",
     "output_type": "stream",
     "text": [
      "/dss/dsshome1/0C/ra93lal2/cma/CMA_Fairness_v2\n"
     ]
    },
    {
     "name": "stderr",
     "output_type": "stream",
     "text": [
      "/dss/dsshome1/0C/ra93lal2/.local/share/virtualenvs/CMA_Fairness_v2-3j10GkSs/lib/python3.10/site-packages/IPython/core/magics/osm.py:393: UserWarning: This is now an optional IPython functionality, using bookmarks requires you to install the `pickleshare` library.\n",
      "  bkms = self.shell.db.get('bookmarks', {})\n",
      "/dss/dsshome1/0C/ra93lal2/.local/share/virtualenvs/CMA_Fairness_v2-3j10GkSs/lib/python3.10/site-packages/IPython/core/magics/osm.py:417: UserWarning: This is now an optional IPython functionality, setting dhist requires you to install the `pickleshare` library.\n",
      "  self.shell.db['dhist'] = compress_dhist(dhist)[-100:]\n"
     ]
    }
   ],
   "source": [
    "%cd ~/cma/CMA_Fairness_v2"
   ]
  },
  {
   "cell_type": "markdown",
   "id": "de2603b9",
   "metadata": {
    "papermill": {
     "duration": 0.034341,
     "end_time": "2025-07-30T20:46:50.182918",
     "exception": false,
     "start_time": "2025-07-30T20:46:50.148577",
     "status": "completed"
    },
    "tags": []
   },
   "source": [
    "The following cell holds the definition of our parameters, these values can be overriden by rendering the with e.g. the following command:\n",
    "\n",
    "papermill -p alpha 0.2 -p ratio 0.3 universe_analysis.ipynb output/test_run.ipynb"
   ]
  },
  {
   "cell_type": "code",
   "execution_count": 2,
   "id": "a80968a0-40bb-4fa9-85ef-2d5eefb01975",
   "metadata": {
    "execution": {
     "iopub.execute_input": "2025-07-30T20:46:50.260891Z",
     "iopub.status.busy": "2025-07-30T20:46:50.260360Z",
     "iopub.status.idle": "2025-07-30T20:46:50.266989Z",
     "shell.execute_reply": "2025-07-30T20:46:50.265549Z"
    },
    "papermill": {
     "duration": 0.069423,
     "end_time": "2025-07-30T20:46:50.271006",
     "exception": false,
     "start_time": "2025-07-30T20:46:50.201583",
     "status": "completed"
    },
    "tags": []
   },
   "outputs": [
    {
     "name": "stdout",
     "output_type": "stream",
     "text": [
      "Current working directory: /dss/dsshome1/0C/ra93lal2/cma/CMA_Fairness_v2\n"
     ]
    }
   ],
   "source": [
    "import os\n",
    "print(\"Current working directory:\", os.getcwd())"
   ]
  },
  {
   "cell_type": "code",
   "execution_count": 3,
   "id": "2dce4c03",
   "metadata": {
    "execution": {
     "iopub.execute_input": "2025-07-30T20:46:50.321192Z",
     "iopub.status.busy": "2025-07-30T20:46:50.320616Z",
     "iopub.status.idle": "2025-07-30T20:46:50.327364Z",
     "shell.execute_reply": "2025-07-30T20:46:50.326376Z"
    },
    "papermill": {
     "duration": 0.031007,
     "end_time": "2025-07-30T20:46:50.329797",
     "exception": false,
     "start_time": "2025-07-30T20:46:50.298790",
     "status": "completed"
    },
    "tags": [
     "parameters"
    ]
   },
   "outputs": [],
   "source": [
    "run_no = 0\n",
    "universe_id = \"test\"\n",
    "universe = {\n",
    "    \"training_size\": \"25k\", # \"25k\", \"5k\", \"1k\"\n",
    "    \"training_year\": \"2014\", # \"2014\", \"2012_14\", \"2010_14\"\n",
    "    \"scale\": \"scale\", # \"scale\", \"do-not-scale\",\n",
    "    #\"stratify_split\": \"target\", # \"none\", \"target\", \"protected-attribute\", \"both\",\n",
    "    \"model\": \"elasticnet\", # \"logreg\", \"penalized_logreg\", \"rf\", \"gbm\", \"elasticnet\"\n",
    "    \"cutoff\": [\"quantile_0.15\", \"quantile_0.30\"],\n",
    "    \"exclude_features\": \"age\", # \"none\", \"nationality\", \"sex\", \"nationality-sex\", \"age\"\n",
    "    \"exclude_subgroups\": \"keep-all\", # \"keep-all\", \"drop-non-german\"\n",
    "    \"eval_fairness_grouping\": [\"majority-minority\", \"nationality-all\"]\n",
    "}\n",
    "\n",
    "output_dir=\"./output\"\n",
    "seed=0"
   ]
  },
  {
   "cell_type": "code",
   "execution_count": 4,
   "id": "71dd2499",
   "metadata": {
    "execution": {
     "iopub.execute_input": "2025-07-30T20:46:50.374470Z",
     "iopub.status.busy": "2025-07-30T20:46:50.373979Z",
     "iopub.status.idle": "2025-07-30T20:46:50.380168Z",
     "shell.execute_reply": "2025-07-30T20:46:50.379006Z"
    },
    "papermill": {
     "duration": 0.030413,
     "end_time": "2025-07-30T20:46:50.382780",
     "exception": false,
     "start_time": "2025-07-30T20:46:50.352367",
     "status": "completed"
    },
    "tags": [
     "injected-parameters"
    ]
   },
   "outputs": [],
   "source": [
    "# Parameters\n",
    "universe_id = \"dac7cbfc7f92adc178e95657fee9f2f9\"\n",
    "run_no = \"14\"\n",
    "universe = \"{\\\"cutoff\\\": [\\\"quantile_0.1\\\", \\\"quantile_0.25\\\"], \\\"eval_fairness_grouping\\\": [\\\"majority-minority\\\", \\\"nationality-all\\\"], \\\"exclude_features\\\": \\\"age\\\", \\\"exclude_subgroups\\\": \\\"keep-all\\\", \\\"model\\\": \\\"rf\\\", \\\"scale\\\": \\\"scale\\\", \\\"training_size\\\": \\\"5k\\\", \\\"training_year\\\": \\\"2014\\\"}\"\n",
    "output_dir = \"output\"\n",
    "seed = \"2023\"\n"
   ]
  },
  {
   "cell_type": "code",
   "execution_count": 5,
   "id": "1650acaf",
   "metadata": {
    "execution": {
     "iopub.execute_input": "2025-07-30T20:46:50.421343Z",
     "iopub.status.busy": "2025-07-30T20:46:50.420880Z",
     "iopub.status.idle": "2025-07-30T20:46:50.425879Z",
     "shell.execute_reply": "2025-07-30T20:46:50.425067Z"
    },
    "papermill": {
     "duration": 0.024738,
     "end_time": "2025-07-30T20:46:50.427292",
     "exception": false,
     "start_time": "2025-07-30T20:46:50.402554",
     "status": "completed"
    },
    "tags": []
   },
   "outputs": [],
   "source": [
    "import json\n",
    "# Parse universe into dict if it is passed as a string\n",
    "if isinstance(universe, str):\n",
    "    universe = json.loads(universe)"
   ]
  },
  {
   "cell_type": "code",
   "execution_count": 6,
   "id": "16620c48",
   "metadata": {
    "execution": {
     "iopub.execute_input": "2025-07-30T20:46:50.467163Z",
     "iopub.status.busy": "2025-07-30T20:46:50.466534Z",
     "iopub.status.idle": "2025-07-30T20:46:50.509859Z",
     "shell.execute_reply": "2025-07-30T20:46:50.508791Z"
    },
    "papermill": {
     "duration": 0.065577,
     "end_time": "2025-07-30T20:46:50.512175",
     "exception": false,
     "start_time": "2025-07-30T20:46:50.446598",
     "status": "completed"
    },
    "tags": []
   },
   "outputs": [],
   "source": [
    "# Auto-reload the custom package\n",
    "%load_ext autoreload\n",
    "%autoreload 1\n",
    "%aimport fairness_multiverse"
   ]
  },
  {
   "cell_type": "code",
   "execution_count": 7,
   "id": "01c5c9f3",
   "metadata": {
    "execution": {
     "iopub.execute_input": "2025-07-30T20:46:50.574201Z",
     "iopub.status.busy": "2025-07-30T20:46:50.573542Z",
     "iopub.status.idle": "2025-07-30T20:46:52.922275Z",
     "shell.execute_reply": "2025-07-30T20:46:52.921273Z"
    },
    "papermill": {
     "duration": 2.375834,
     "end_time": "2025-07-30T20:46:52.923919",
     "exception": false,
     "start_time": "2025-07-30T20:46:50.548085",
     "status": "completed"
    },
    "tags": []
   },
   "outputs": [],
   "source": [
    "from fairness_multiverse.universe import UniverseAnalysis\n",
    "\n",
    "universe_analysis = UniverseAnalysis(\n",
    "    run_no = run_no,\n",
    "    universe_id = universe_id,\n",
    "    universe = universe,\n",
    "    output_dir=output_dir,\n",
    ")"
   ]
  },
  {
   "cell_type": "code",
   "execution_count": 8,
   "id": "106241f5",
   "metadata": {
    "execution": {
     "iopub.execute_input": "2025-07-30T20:46:52.984193Z",
     "iopub.status.busy": "2025-07-30T20:46:52.983796Z",
     "iopub.status.idle": "2025-07-30T20:46:52.989985Z",
     "shell.execute_reply": "2025-07-30T20:46:52.989082Z"
    },
    "papermill": {
     "duration": 0.033355,
     "end_time": "2025-07-30T20:46:52.993109",
     "exception": false,
     "start_time": "2025-07-30T20:46:52.959754",
     "status": "completed"
    },
    "tags": []
   },
   "outputs": [
    {
     "name": "stdout",
     "output_type": "stream",
     "text": [
      "Using Seed: 2023\n"
     ]
    }
   ],
   "source": [
    "import numpy as np\n",
    "parsed_seed = int(seed)\n",
    "np.random.seed(parsed_seed)\n",
    "print(f\"Using Seed: {parsed_seed}\")"
   ]
  },
  {
   "cell_type": "markdown",
   "id": "e0ebdc57",
   "metadata": {
    "papermill": {
     "duration": 0.018841,
     "end_time": "2025-07-30T20:46:53.036741",
     "exception": false,
     "start_time": "2025-07-30T20:46:53.017900",
     "status": "completed"
    },
    "tags": []
   },
   "source": [
    "# Loading Data"
   ]
  },
  {
   "cell_type": "markdown",
   "id": "681925a3",
   "metadata": {
    "papermill": {
     "duration": 0.020698,
     "end_time": "2025-07-30T20:46:53.080124",
     "exception": false,
     "start_time": "2025-07-30T20:46:53.059426",
     "status": "completed"
    },
    "tags": []
   },
   "source": [
    "Load siab_train, siab_test, siab_calib and/or \n",
    "load siab_train_features, siab_train_labels"
   ]
  },
  {
   "cell_type": "code",
   "execution_count": 9,
   "id": "f0496b8a",
   "metadata": {
    "execution": {
     "iopub.execute_input": "2025-07-30T20:46:53.121166Z",
     "iopub.status.busy": "2025-07-30T20:46:53.120765Z",
     "iopub.status.idle": "2025-07-30T20:47:04.279683Z",
     "shell.execute_reply": "2025-07-30T20:47:04.278834Z"
    },
    "papermill": {
     "duration": 11.180679,
     "end_time": "2025-07-30T20:47:04.281090",
     "exception": false,
     "start_time": "2025-07-30T20:46:53.100411",
     "status": "completed"
    },
    "tags": []
   },
   "outputs": [
    {
     "name": "stdout",
     "output_type": "stream",
     "text": [
      "Loading SIAB data from cache: data/siab_cached.csv.gz\n"
     ]
    },
    {
     "name": "stdout",
     "output_type": "stream",
     "text": [
      "(643690, 164)\n"
     ]
    }
   ],
   "source": [
    "from pathlib import Path\n",
    "import pandas as pd\n",
    "\n",
    "# File paths\n",
    "raw_file = Path(\"data/raw/siab.csv\")\n",
    "cache_file = Path(\"data/siab_cached.csv.gz\")\n",
    "\n",
    "# Ensure cache directory exists\n",
    "cache_file.parent.mkdir(parents=True, exist_ok=True)\n",
    "\n",
    "# Load with simple caching\n",
    "if cache_file.exists():\n",
    "    print(f\"Loading SIAB data from cache: {cache_file}\")\n",
    "    siab = pd.read_csv(cache_file, compression='gzip')\n",
    "else:\n",
    "    print(f\"Cache not found. Reading raw SIAB data: {raw_file}\")\n",
    "    siab = pd.read_csv(raw_file)\n",
    "    siab.to_csv(cache_file, index=False, compression='gzip')\n",
    "    print(f\"Cached SIAB data to: {cache_file}\")\n",
    "\n",
    "# Now use `siab` DataFrame as needed\n",
    "print(siab.shape)"
   ]
  },
  {
   "cell_type": "code",
   "execution_count": 10,
   "id": "db0ca512-5f53-4dba-abdb-a2888bca41ba",
   "metadata": {
    "execution": {
     "iopub.execute_input": "2025-07-30T20:47:04.305263Z",
     "iopub.status.busy": "2025-07-30T20:47:04.304916Z",
     "iopub.status.idle": "2025-07-30T20:47:04.309372Z",
     "shell.execute_reply": "2025-07-30T20:47:04.308577Z"
    },
    "papermill": {
     "duration": 0.016587,
     "end_time": "2025-07-30T20:47:04.310533",
     "exception": false,
     "start_time": "2025-07-30T20:47:04.293946",
     "status": "completed"
    },
    "tags": []
   },
   "outputs": [],
   "source": [
    "#siab"
   ]
  },
  {
   "cell_type": "code",
   "execution_count": 11,
   "id": "a0edb063",
   "metadata": {
    "execution": {
     "iopub.execute_input": "2025-07-30T20:47:04.332754Z",
     "iopub.status.busy": "2025-07-30T20:47:04.332263Z",
     "iopub.status.idle": "2025-07-30T20:47:04.336364Z",
     "shell.execute_reply": "2025-07-30T20:47:04.335631Z"
    },
    "papermill": {
     "duration": 0.016249,
     "end_time": "2025-07-30T20:47:04.337561",
     "exception": false,
     "start_time": "2025-07-30T20:47:04.321312",
     "status": "completed"
    },
    "tags": []
   },
   "outputs": [],
   "source": [
    "#import pandas as pd\n",
    "#\n",
    "#X_train = pd.read_csv(\"./data/X_train.csv\")\n",
    "#y_train = pd.read_csv(\"./data/y_train.csv\")"
   ]
  },
  {
   "cell_type": "code",
   "execution_count": 12,
   "id": "63d08085",
   "metadata": {
    "execution": {
     "iopub.execute_input": "2025-07-30T20:47:04.368398Z",
     "iopub.status.busy": "2025-07-30T20:47:04.367764Z",
     "iopub.status.idle": "2025-07-30T20:47:04.371733Z",
     "shell.execute_reply": "2025-07-30T20:47:04.371082Z"
    },
    "papermill": {
     "duration": 0.021209,
     "end_time": "2025-07-30T20:47:04.372905",
     "exception": false,
     "start_time": "2025-07-30T20:47:04.351696",
     "status": "completed"
    },
    "tags": []
   },
   "outputs": [],
   "source": [
    "#X_test = pd.read_csv(\"./data/X_test.csv\")\n",
    "#y_true = pd.read_csv(\"./data/y_test.csv\")"
   ]
  },
  {
   "cell_type": "code",
   "execution_count": 13,
   "id": "98a8d0fa-1d3d-4ed8-bb2c-281470e24add",
   "metadata": {
    "execution": {
     "iopub.execute_input": "2025-07-30T20:47:04.398324Z",
     "iopub.status.busy": "2025-07-30T20:47:04.397865Z",
     "iopub.status.idle": "2025-07-30T20:47:04.415354Z",
     "shell.execute_reply": "2025-07-30T20:47:04.414655Z"
    },
    "papermill": {
     "duration": 0.033602,
     "end_time": "2025-07-30T20:47:04.416719",
     "exception": false,
     "start_time": "2025-07-30T20:47:04.383117",
     "status": "completed"
    },
    "tags": []
   },
   "outputs": [],
   "source": [
    "# Calibration data for conformal\n",
    "#X_calib = pd.read_csv(\"./data/X_calib.csv\")\n",
    "#y_calib = pd.read_csv(\"./data/y_calib.csv\")"
   ]
  },
  {
   "cell_type": "markdown",
   "id": "997051c5-15bd-4b69-9786-c3001a3ce484",
   "metadata": {
    "papermill": {
     "duration": 0.013671,
     "end_time": "2025-07-30T20:47:04.444815",
     "exception": false,
     "start_time": "2025-07-30T20:47:04.431144",
     "status": "completed"
    },
    "tags": []
   },
   "source": [
    "# Splitting Data and Setting Training Data Size"
   ]
  },
  {
   "cell_type": "code",
   "execution_count": 14,
   "id": "e993b61f-042d-41a6-8c81-f55681f86335",
   "metadata": {
    "execution": {
     "iopub.execute_input": "2025-07-30T20:47:04.468400Z",
     "iopub.status.busy": "2025-07-30T20:47:04.467700Z",
     "iopub.status.idle": "2025-07-30T20:47:04.478052Z",
     "shell.execute_reply": "2025-07-30T20:47:04.477007Z"
    },
    "papermill": {
     "duration": 0.023995,
     "end_time": "2025-07-30T20:47:04.479646",
     "exception": false,
     "start_time": "2025-07-30T20:47:04.455651",
     "status": "completed"
    },
    "tags": []
   },
   "outputs": [],
   "source": [
    "def sample_by_year_size(df,\n",
    "                        training_year: str,\n",
    "                        training_size: str,\n",
    "                        random_state: int = 42):\n",
    "    # --- parse training_year into a list of int years ---\n",
    "    if \"_\" in training_year:\n",
    "        start_str, end_str = training_year.split(\"_\", 1)\n",
    "        start = int(start_str)\n",
    "        end   = int(end_str) if len(end_str) == 4 else (int(end_str) + (start // 100)*100)\n",
    "        years = list(range(start, end + 1))\n",
    "    else:\n",
    "        years = [int(training_year)]\n",
    "\n",
    "    df = df[df[\"year\"].isin(years)].reset_index(drop=True)\n",
    "\n",
    "    # --- map training_size to total number of samples ---\n",
    "    total_map = {\"25k\": 25_000, \"5k\": 5_000, \"1k\": 1_000}\n",
    "    if training_size not in total_map:\n",
    "        return df  # e.g. \"all\"\n",
    "\n",
    "    total_samples = total_map[training_size]\n",
    "    n_years       = len(years)\n",
    "    base          = total_samples // n_years\n",
    "    remainder     = total_samples % n_years\n",
    "\n",
    "    # --- build a dict: year -> how many to sample ---\n",
    "    # give +1 to the first `remainder` years in ascending order\n",
    "    quotas = {\n",
    "        year: base + (1 if idx < remainder else 0)\n",
    "        for idx, year in enumerate(sorted(years))\n",
    "    }\n",
    "\n",
    "    # --- sample per‐year according to the quota dict ---\n",
    "    sampled = (\n",
    "        df\n",
    "        .groupby(\"year\", group_keys=False)\n",
    "        .apply(lambda grp: grp.sample(\n",
    "            n=min(len(grp), quotas[grp.name]),\n",
    "            random_state=random_state))\n",
    "        .reset_index(drop=True)\n",
    "    )\n",
    "\n",
    "    return sampled"
   ]
  },
  {
   "cell_type": "code",
   "execution_count": 15,
   "id": "c0ccd338-0e02-41f3-a09d-f56f9266e3fb",
   "metadata": {
    "execution": {
     "iopub.execute_input": "2025-07-30T20:47:04.524770Z",
     "iopub.status.busy": "2025-07-30T20:47:04.524284Z",
     "iopub.status.idle": "2025-07-30T20:47:04.529659Z",
     "shell.execute_reply": "2025-07-30T20:47:04.528637Z"
    },
    "papermill": {
     "duration": 0.035543,
     "end_time": "2025-07-30T20:47:04.531310",
     "exception": false,
     "start_time": "2025-07-30T20:47:04.495767",
     "status": "completed"
    },
    "tags": []
   },
   "outputs": [],
   "source": [
    "#universe[\"training_size\"]"
   ]
  },
  {
   "cell_type": "code",
   "execution_count": 16,
   "id": "ca707fd7-8047-4acd-bfa5-66248fbbf8e6",
   "metadata": {
    "execution": {
     "iopub.execute_input": "2025-07-30T20:47:04.575963Z",
     "iopub.status.busy": "2025-07-30T20:47:04.575511Z",
     "iopub.status.idle": "2025-07-30T20:47:04.594316Z",
     "shell.execute_reply": "2025-07-30T20:47:04.593379Z"
    },
    "papermill": {
     "duration": 0.044853,
     "end_time": "2025-07-30T20:47:04.596093",
     "exception": false,
     "start_time": "2025-07-30T20:47:04.551240",
     "status": "completed"
    },
    "tags": []
   },
   "outputs": [],
   "source": [
    "#universe[\"training_year\"]"
   ]
  },
  {
   "cell_type": "code",
   "execution_count": 17,
   "id": "aea9c6ef-6f46-42c8-85eb-5a62025c1508",
   "metadata": {
    "execution": {
     "iopub.execute_input": "2025-07-30T20:47:04.637383Z",
     "iopub.status.busy": "2025-07-30T20:47:04.636930Z",
     "iopub.status.idle": "2025-07-30T20:47:04.852353Z",
     "shell.execute_reply": "2025-07-30T20:47:04.851456Z"
    },
    "papermill": {
     "duration": 0.237567,
     "end_time": "2025-07-30T20:47:04.854128",
     "exception": false,
     "start_time": "2025-07-30T20:47:04.616561",
     "status": "completed"
    },
    "tags": []
   },
   "outputs": [],
   "source": [
    "siab_train = sample_by_year_size(siab,\n",
    "                               training_year=universe[\"training_year\"],\n",
    "                               training_size=universe[\"training_size\"])"
   ]
  },
  {
   "cell_type": "code",
   "execution_count": 18,
   "id": "8d3afb32-789d-442c-8d5d-9f5aa8dd2eed",
   "metadata": {
    "execution": {
     "iopub.execute_input": "2025-07-30T20:47:04.895356Z",
     "iopub.status.busy": "2025-07-30T20:47:04.894693Z",
     "iopub.status.idle": "2025-07-30T20:47:04.899975Z",
     "shell.execute_reply": "2025-07-30T20:47:04.899116Z"
    },
    "papermill": {
     "duration": 0.027006,
     "end_time": "2025-07-30T20:47:04.901563",
     "exception": false,
     "start_time": "2025-07-30T20:47:04.874557",
     "status": "completed"
    },
    "tags": []
   },
   "outputs": [],
   "source": [
    "#siab_train.shape"
   ]
  },
  {
   "cell_type": "code",
   "execution_count": 19,
   "id": "d582db68-1a4c-47fb-84fc-08518dc1975a",
   "metadata": {
    "execution": {
     "iopub.execute_input": "2025-07-30T20:47:04.943867Z",
     "iopub.status.busy": "2025-07-30T20:47:04.943414Z",
     "iopub.status.idle": "2025-07-30T20:47:04.948578Z",
     "shell.execute_reply": "2025-07-30T20:47:04.947662Z"
    },
    "papermill": {
     "duration": 0.028396,
     "end_time": "2025-07-30T20:47:04.950237",
     "exception": false,
     "start_time": "2025-07-30T20:47:04.921841",
     "status": "completed"
    },
    "tags": []
   },
   "outputs": [],
   "source": [
    "#display(siab_train.groupby(\"year\").size())"
   ]
  },
  {
   "cell_type": "code",
   "execution_count": 20,
   "id": "a561edb4-d032-42cb-8256-22eac1111c64",
   "metadata": {
    "execution": {
     "iopub.execute_input": "2025-07-30T20:47:04.999313Z",
     "iopub.status.busy": "2025-07-30T20:47:04.998499Z",
     "iopub.status.idle": "2025-07-30T20:47:05.229418Z",
     "shell.execute_reply": "2025-07-30T20:47:05.228470Z"
    },
    "papermill": {
     "duration": 0.257665,
     "end_time": "2025-07-30T20:47:05.231191",
     "exception": false,
     "start_time": "2025-07-30T20:47:04.973526",
     "status": "completed"
    },
    "tags": []
   },
   "outputs": [],
   "source": [
    "#siab_train = siab_s[siab_s.year < 2015]\n",
    "siab_calib = siab[siab.year == 2015]\n",
    "siab_test = siab[siab.year == 2016]"
   ]
  },
  {
   "cell_type": "code",
   "execution_count": 21,
   "id": "472de16f-c3db-4916-846b-1f0de9cf1746",
   "metadata": {
    "execution": {
     "iopub.execute_input": "2025-07-30T20:47:05.271468Z",
     "iopub.status.busy": "2025-07-30T20:47:05.270985Z",
     "iopub.status.idle": "2025-07-30T20:47:05.278781Z",
     "shell.execute_reply": "2025-07-30T20:47:05.277920Z"
    },
    "papermill": {
     "duration": 0.029314,
     "end_time": "2025-07-30T20:47:05.280447",
     "exception": false,
     "start_time": "2025-07-30T20:47:05.251133",
     "status": "completed"
    },
    "tags": []
   },
   "outputs": [],
   "source": [
    "X_train = siab_train.iloc[:,4:164]\n",
    "y_train = siab_train.iloc[:, [3]]"
   ]
  },
  {
   "cell_type": "code",
   "execution_count": 22,
   "id": "828c96af-f43a-4ed6-ba47-8ac73a47d56c",
   "metadata": {
    "execution": {
     "iopub.execute_input": "2025-07-30T20:47:05.320769Z",
     "iopub.status.busy": "2025-07-30T20:47:05.319967Z",
     "iopub.status.idle": "2025-07-30T20:47:05.368162Z",
     "shell.execute_reply": "2025-07-30T20:47:05.367156Z"
    },
    "papermill": {
     "duration": 0.069467,
     "end_time": "2025-07-30T20:47:05.369670",
     "exception": false,
     "start_time": "2025-07-30T20:47:05.300203",
     "status": "completed"
    },
    "tags": []
   },
   "outputs": [],
   "source": [
    "X_calib = siab_calib.iloc[:,4:164]\n",
    "y_calib = siab_calib.iloc[:, [3]]"
   ]
  },
  {
   "cell_type": "code",
   "execution_count": 23,
   "id": "c34be9c3-6bd6-476e-acd3-845840e303be",
   "metadata": {
    "execution": {
     "iopub.execute_input": "2025-07-30T20:47:05.413341Z",
     "iopub.status.busy": "2025-07-30T20:47:05.412698Z",
     "iopub.status.idle": "2025-07-30T20:47:05.464202Z",
     "shell.execute_reply": "2025-07-30T20:47:05.463189Z"
    },
    "papermill": {
     "duration": 0.075206,
     "end_time": "2025-07-30T20:47:05.465712",
     "exception": false,
     "start_time": "2025-07-30T20:47:05.390506",
     "status": "completed"
    },
    "tags": []
   },
   "outputs": [],
   "source": [
    "X_test = siab_test.iloc[:,4:164]\n",
    "y_true = siab_test.iloc[:, [3]]"
   ]
  },
  {
   "cell_type": "markdown",
   "id": "9901737e-04df-44f0-9100-f5ad144ed040",
   "metadata": {
    "papermill": {
     "duration": 0.01916,
     "end_time": "2025-07-30T20:47:05.505929",
     "exception": false,
     "start_time": "2025-07-30T20:47:05.486769",
     "status": "completed"
    },
    "tags": []
   },
   "source": [
    "# Splitting Data and Setting Training Data Size OLD VERSION"
   ]
  },
  {
   "cell_type": "code",
   "execution_count": 24,
   "id": "acbc8f7d-8fc8-4e86-8c59-5dcb0f58384b",
   "metadata": {
    "execution": {
     "iopub.execute_input": "2025-07-30T20:47:05.547760Z",
     "iopub.status.busy": "2025-07-30T20:47:05.547112Z",
     "iopub.status.idle": "2025-07-30T20:47:05.553325Z",
     "shell.execute_reply": "2025-07-30T20:47:05.552327Z"
    },
    "papermill": {
     "duration": 0.029865,
     "end_time": "2025-07-30T20:47:05.554905",
     "exception": false,
     "start_time": "2025-07-30T20:47:05.525040",
     "status": "completed"
    },
    "tags": []
   },
   "outputs": [],
   "source": [
    "#def sample_by_year(df, training_size, random_state=42):\n",
    "#    if training_size == \"2014\":\n",
    "#        return df[df[\"year\"] == 2014].reset_index(drop=True)\n",
    "#    \n",
    "#    size_map = {\n",
    "#        \"25k\": 5000,\n",
    "#        \"5k\": 1000,\n",
    "#        \"1k\": 200\n",
    "#    }\n",
    "#\n",
    "#    if training_size not in size_map:\n",
    "#        return df.reset_index(drop=True)  # use all data\n",
    "#\n",
    "#    n_per_year = size_map[training_size]\n",
    "#    grouped = df.groupby(\"year\")\n",
    "#    sampled = grouped.apply(lambda x: x.sample(n=min(n_per_year, len(x)), random_state=random_state))\n",
    "#    return sampled.reset_index(drop=True)"
   ]
  },
  {
   "cell_type": "code",
   "execution_count": 25,
   "id": "6d931f52-beaf-43ff-9e78-9d44a448d54e",
   "metadata": {
    "execution": {
     "iopub.execute_input": "2025-07-30T20:47:05.596672Z",
     "iopub.status.busy": "2025-07-30T20:47:05.596226Z",
     "iopub.status.idle": "2025-07-30T20:47:05.601003Z",
     "shell.execute_reply": "2025-07-30T20:47:05.600125Z"
    },
    "papermill": {
     "duration": 0.027326,
     "end_time": "2025-07-30T20:47:05.602572",
     "exception": false,
     "start_time": "2025-07-30T20:47:05.575246",
     "status": "completed"
    },
    "tags": []
   },
   "outputs": [],
   "source": [
    "#siab_s = sample_by_year(siab, universe[\"training_size\"])"
   ]
  },
  {
   "cell_type": "code",
   "execution_count": 26,
   "id": "5db0a40e-a4e2-4920-be85-b12ae061d70d",
   "metadata": {
    "execution": {
     "iopub.execute_input": "2025-07-30T20:47:05.650365Z",
     "iopub.status.busy": "2025-07-30T20:47:05.649707Z",
     "iopub.status.idle": "2025-07-30T20:47:05.655296Z",
     "shell.execute_reply": "2025-07-30T20:47:05.654413Z"
    },
    "papermill": {
     "duration": 0.034537,
     "end_time": "2025-07-30T20:47:05.656973",
     "exception": false,
     "start_time": "2025-07-30T20:47:05.622436",
     "status": "completed"
    },
    "tags": []
   },
   "outputs": [],
   "source": [
    "#display(siab_s.groupby(\"year\").size())"
   ]
  },
  {
   "cell_type": "code",
   "execution_count": 27,
   "id": "e6c733c5",
   "metadata": {
    "execution": {
     "iopub.execute_input": "2025-07-30T20:47:05.700132Z",
     "iopub.status.busy": "2025-07-30T20:47:05.699483Z",
     "iopub.status.idle": "2025-07-30T20:47:05.792367Z",
     "shell.execute_reply": "2025-07-30T20:47:05.791404Z"
    },
    "papermill": {
     "duration": 0.116709,
     "end_time": "2025-07-30T20:47:05.794231",
     "exception": false,
     "start_time": "2025-07-30T20:47:05.677522",
     "status": "completed"
    },
    "tags": []
   },
   "outputs": [],
   "source": [
    "# Auxiliary data needed downstream in the pipeline\n",
    "\n",
    "org_train = X_train.copy()\n",
    "org_test = X_test.copy()\n",
    "org_calib = X_calib.copy()"
   ]
  },
  {
   "cell_type": "code",
   "execution_count": 28,
   "id": "1466abac-c6da-4492-a62f-4240ae3783af",
   "metadata": {
    "execution": {
     "iopub.execute_input": "2025-07-30T20:47:05.837448Z",
     "iopub.status.busy": "2025-07-30T20:47:05.836795Z",
     "iopub.status.idle": "2025-07-30T20:47:05.842582Z",
     "shell.execute_reply": "2025-07-30T20:47:05.841678Z"
    },
    "papermill": {
     "duration": 0.029512,
     "end_time": "2025-07-30T20:47:05.844162",
     "exception": false,
     "start_time": "2025-07-30T20:47:05.814650",
     "status": "completed"
    },
    "tags": []
   },
   "outputs": [],
   "source": [
    "# put in other script?\n",
    "# Group sizes\n",
    "\n",
    "#def calculate_percentages(df, df_name):\n",
    "#    total_entries = len(df)\n",
    "#\n",
    "#    female_pct = (df['frau1'] == 1).mean() * 100\n",
    "#    non_german_pct = ((df['maxdeutsch1'] == 0) & (df['maxdeutsch.Missing.'] == 0)).mean() * 100\n",
    "#    non_german_male_pct = ((df['frau1'] == 0) & (df['maxdeutsch1'] == 0) & (df['maxdeutsch.Missing.'] == 0)).mean() * 100\n",
    "#    non_german_female_pct = ((df['frau1'] == 1) & (df['maxdeutsch1'] == 0) & (df['maxdeutsch.Missing.'] == 0)).mean() * 100\n",
    "#\n",
    "#    print(f\"--- {df_name} ---\")\n",
    "#    print(f\"Female: {female_pct:.2f}%\")\n",
    "#    print(f\"Non-German: {non_german_pct:.2f}%\")\n",
    "#    print(f\"Non-German Male: {non_german_male_pct:.2f}%\")\n",
    "#    print(f\"Non-German Female: {non_german_female_pct:.2f}%\\n\")\n",
    "#\n",
    "## Calculate for each DataFrame\n",
    "#calculate_percentages(siab_calib, \"siab_calib\")\n",
    "#calculate_percentages(siab_test, \"siab_test\")\n",
    "#calculate_percentages(siab_train, \"siab_train\")"
   ]
  },
  {
   "cell_type": "markdown",
   "id": "0a4a1b33",
   "metadata": {
    "papermill": {
     "duration": 0.019926,
     "end_time": "2025-07-30T20:47:05.885227",
     "exception": false,
     "start_time": "2025-07-30T20:47:05.865301",
     "status": "completed"
    },
    "tags": []
   },
   "source": [
    "# Preprocessing Data"
   ]
  },
  {
   "cell_type": "code",
   "execution_count": 29,
   "id": "ca879031",
   "metadata": {
    "execution": {
     "iopub.execute_input": "2025-07-30T20:47:05.926500Z",
     "iopub.status.busy": "2025-07-30T20:47:05.925861Z",
     "iopub.status.idle": "2025-07-30T20:47:05.935861Z",
     "shell.execute_reply": "2025-07-30T20:47:05.934683Z"
    },
    "papermill": {
     "duration": 0.032655,
     "end_time": "2025-07-30T20:47:05.937492",
     "exception": false,
     "start_time": "2025-07-30T20:47:05.904837",
     "status": "completed"
    },
    "tags": []
   },
   "outputs": [],
   "source": [
    "# EXCLUDE PROTECTED FEATURES\n",
    "# ----------------------\n",
    "# \"exclude_features\": \"none\", # \"nationality\", \"sex\", \"nationality-sex\"\n",
    "\n",
    "excluded_features = universe[\"exclude_features\"].split(\"-\") # split, e.g.: \"nationality-sex\" -> [\"nationality\", \"sex\"]\n",
    "excluded_features_dictionary = {\n",
    "    \"nationality\": [\"maxdeutsch1\", \"maxdeutsch.Missing.\"],\n",
    "    \"sex\": [\"frau1\"],\n",
    "    \"age\": [\"age\"],\n",
    "}\n"
   ]
  },
  {
   "cell_type": "code",
   "execution_count": 30,
   "id": "b745ac60",
   "metadata": {
    "execution": {
     "iopub.execute_input": "2025-07-30T20:47:05.979919Z",
     "iopub.status.busy": "2025-07-30T20:47:05.979296Z",
     "iopub.status.idle": "2025-07-30T20:47:05.984827Z",
     "shell.execute_reply": "2025-07-30T20:47:05.983850Z"
    },
    "papermill": {
     "duration": 0.027951,
     "end_time": "2025-07-30T20:47:05.986534",
     "exception": false,
     "start_time": "2025-07-30T20:47:05.958583",
     "status": "completed"
    },
    "tags": []
   },
   "outputs": [],
   "source": [
    "# Code nice names to column names\n",
    "\n",
    "excluded_features_columns = [\n",
    "    excluded_features_dictionary[f] for f in excluded_features if len(f) > 0 and f != \"none\"\n",
    "]"
   ]
  },
  {
   "cell_type": "code",
   "execution_count": 31,
   "id": "f84f73a2",
   "metadata": {
    "execution": {
     "iopub.execute_input": "2025-07-30T20:47:06.029698Z",
     "iopub.status.busy": "2025-07-30T20:47:06.029077Z",
     "iopub.status.idle": "2025-07-30T20:47:06.035268Z",
     "shell.execute_reply": "2025-07-30T20:47:06.034487Z"
    },
    "papermill": {
     "duration": 0.029356,
     "end_time": "2025-07-30T20:47:06.036921",
     "exception": false,
     "start_time": "2025-07-30T20:47:06.007565",
     "status": "completed"
    },
    "tags": []
   },
   "outputs": [],
   "source": [
    "from utils import flatten_once\n",
    "\n",
    "excluded_features_columns = flatten_once(excluded_features_columns)"
   ]
  },
  {
   "cell_type": "code",
   "execution_count": 32,
   "id": "884dea22",
   "metadata": {
    "execution": {
     "iopub.execute_input": "2025-07-30T20:47:06.079293Z",
     "iopub.status.busy": "2025-07-30T20:47:06.078683Z",
     "iopub.status.idle": "2025-07-30T20:47:06.087701Z",
     "shell.execute_reply": "2025-07-30T20:47:06.086799Z"
    },
    "papermill": {
     "duration": 0.032197,
     "end_time": "2025-07-30T20:47:06.089330",
     "exception": false,
     "start_time": "2025-07-30T20:47:06.057133",
     "status": "completed"
    },
    "tags": []
   },
   "outputs": [
    {
     "name": "stdout",
     "output_type": "stream",
     "text": [
      "Dropping features: ['age']\n"
     ]
    }
   ],
   "source": [
    "if len(excluded_features_columns) > 0:\n",
    "    print(f\"Dropping features: {excluded_features_columns}\")\n",
    "    X_train.drop(excluded_features_columns, axis=1, inplace=True)"
   ]
  },
  {
   "cell_type": "code",
   "execution_count": 33,
   "id": "95ab8b16",
   "metadata": {
    "execution": {
     "iopub.execute_input": "2025-07-30T20:47:06.133040Z",
     "iopub.status.busy": "2025-07-30T20:47:06.132425Z",
     "iopub.status.idle": "2025-07-30T20:47:06.182662Z",
     "shell.execute_reply": "2025-07-30T20:47:06.181671Z"
    },
    "papermill": {
     "duration": 0.074108,
     "end_time": "2025-07-30T20:47:06.184250",
     "exception": false,
     "start_time": "2025-07-30T20:47:06.110142",
     "status": "completed"
    },
    "tags": []
   },
   "outputs": [
    {
     "name": "stdout",
     "output_type": "stream",
     "text": [
      "Dropping features: ['age']\n"
     ]
    }
   ],
   "source": [
    "if len(excluded_features_columns) > 0:\n",
    "    print(f\"Dropping features: {excluded_features_columns}\")\n",
    "    X_test.drop(excluded_features_columns, axis=1, inplace=True)"
   ]
  },
  {
   "cell_type": "code",
   "execution_count": 34,
   "id": "1853aaf5-fb9f-46cb-a2b5-8ea4ae2237e4",
   "metadata": {
    "execution": {
     "iopub.execute_input": "2025-07-30T20:47:06.226910Z",
     "iopub.status.busy": "2025-07-30T20:47:06.226255Z",
     "iopub.status.idle": "2025-07-30T20:47:06.275834Z",
     "shell.execute_reply": "2025-07-30T20:47:06.274880Z"
    },
    "papermill": {
     "duration": 0.072801,
     "end_time": "2025-07-30T20:47:06.278222",
     "exception": false,
     "start_time": "2025-07-30T20:47:06.205421",
     "status": "completed"
    },
    "tags": []
   },
   "outputs": [
    {
     "name": "stdout",
     "output_type": "stream",
     "text": [
      "Dropping features: ['age']\n"
     ]
    }
   ],
   "source": [
    "if len(excluded_features_columns) > 0:\n",
    "    print(f\"Dropping features: {excluded_features_columns}\")\n",
    "    X_calib.drop(excluded_features_columns, axis=1, inplace=True)"
   ]
  },
  {
   "cell_type": "code",
   "execution_count": 35,
   "id": "6727d079-03e5-481e-9d38-292a90b7a0a8",
   "metadata": {
    "execution": {
     "iopub.execute_input": "2025-07-30T20:47:06.320978Z",
     "iopub.status.busy": "2025-07-30T20:47:06.320158Z",
     "iopub.status.idle": "2025-07-30T20:47:06.324776Z",
     "shell.execute_reply": "2025-07-30T20:47:06.323911Z"
    },
    "papermill": {
     "duration": 0.026895,
     "end_time": "2025-07-30T20:47:06.326355",
     "exception": false,
     "start_time": "2025-07-30T20:47:06.299460",
     "status": "completed"
    },
    "tags": []
   },
   "outputs": [],
   "source": [
    "# SPLIT & STRATIFY DATA\n",
    "# ----------------------"
   ]
  },
  {
   "cell_type": "code",
   "execution_count": 36,
   "id": "76c4dc6d",
   "metadata": {
    "execution": {
     "iopub.execute_input": "2025-07-30T20:47:06.368461Z",
     "iopub.status.busy": "2025-07-30T20:47:06.367683Z",
     "iopub.status.idle": "2025-07-30T20:47:06.373117Z",
     "shell.execute_reply": "2025-07-30T20:47:06.372265Z"
    },
    "papermill": {
     "duration": 0.028057,
     "end_time": "2025-07-30T20:47:06.374678",
     "exception": false,
     "start_time": "2025-07-30T20:47:06.346621",
     "status": "completed"
    },
    "tags": []
   },
   "outputs": [],
   "source": [
    "# EXCLUDE CERTAIN SUBGROUPS\n",
    "# ----------------------\n",
    "\n",
    "mode = universe.get(\"exclude_subgroups\", \"keep-all\") \n",
    "# Fetches the exclude_subgroups setting from the universe dict.\n",
    "# Defaults to \"keep-all\" if the key is missing."
   ]
  },
  {
   "cell_type": "code",
   "execution_count": 37,
   "id": "21994072",
   "metadata": {
    "execution": {
     "iopub.execute_input": "2025-07-30T20:47:06.417184Z",
     "iopub.status.busy": "2025-07-30T20:47:06.416398Z",
     "iopub.status.idle": "2025-07-30T20:47:06.422795Z",
     "shell.execute_reply": "2025-07-30T20:47:06.421979Z"
    },
    "papermill": {
     "duration": 0.029269,
     "end_time": "2025-07-30T20:47:06.424424",
     "exception": false,
     "start_time": "2025-07-30T20:47:06.395155",
     "status": "completed"
    },
    "tags": []
   },
   "outputs": [],
   "source": [
    "if mode == \"keep-all\":\n",
    "    keep_mask = pd.Series(True, index=org_train.index)\n",
    "\n",
    "# org_train contains the original feature columns from features_org (in Simson)\n",
    "# features_org contains unprocessed features, for me X_train at beginning ???\n",
    "# For keep-all, creates a boolean Series (keep_mask) of all True, so no rows are removed.\n",
    "\n",
    "elif mode == \"drop-non-german\":\n",
    "    keep_mask = org_train[\"maxdeutsch1\"] == 1 # ??? what about missing values?\n",
    "\n",
    "else:\n",
    "    raise ValueError(f\"Unsupported mode for exclude_subgroups: {mode}\")\n"
   ]
  },
  {
   "cell_type": "code",
   "execution_count": 38,
   "id": "71651440",
   "metadata": {
    "execution": {
     "iopub.execute_input": "2025-07-30T20:47:06.466538Z",
     "iopub.status.busy": "2025-07-30T20:47:06.465790Z",
     "iopub.status.idle": "2025-07-30T20:47:06.471991Z",
     "shell.execute_reply": "2025-07-30T20:47:06.471133Z"
    },
    "papermill": {
     "duration": 0.028616,
     "end_time": "2025-07-30T20:47:06.473515",
     "exception": false,
     "start_time": "2025-07-30T20:47:06.444899",
     "status": "completed"
    },
    "tags": []
   },
   "outputs": [],
   "source": [
    "n_drop = (~keep_mask).sum() # Calculates how many rows are set to be dropped\n",
    "if n_drop > 0:\n",
    "    pct = n_drop / len(keep_mask) * 100\n",
    "    print(f\"Dropping {n_drop} rows ({pct:.2f}%) where mode='{mode}'\")"
   ]
  },
  {
   "cell_type": "code",
   "execution_count": 39,
   "id": "5fb8eee5",
   "metadata": {
    "execution": {
     "iopub.execute_input": "2025-07-30T20:47:06.515409Z",
     "iopub.status.busy": "2025-07-30T20:47:06.514974Z",
     "iopub.status.idle": "2025-07-30T20:47:06.522327Z",
     "shell.execute_reply": "2025-07-30T20:47:06.521427Z"
    },
    "papermill": {
     "duration": 0.029687,
     "end_time": "2025-07-30T20:47:06.523760",
     "exception": false,
     "start_time": "2025-07-30T20:47:06.494073",
     "status": "completed"
    },
    "tags": []
   },
   "outputs": [],
   "source": [
    "X_train = X_train[keep_mask]"
   ]
  },
  {
   "cell_type": "code",
   "execution_count": 40,
   "id": "b202bb3a",
   "metadata": {
    "execution": {
     "iopub.execute_input": "2025-07-30T20:47:06.567356Z",
     "iopub.status.busy": "2025-07-30T20:47:06.566726Z",
     "iopub.status.idle": "2025-07-30T20:47:06.573227Z",
     "shell.execute_reply": "2025-07-30T20:47:06.572347Z"
    },
    "papermill": {
     "duration": 0.029812,
     "end_time": "2025-07-30T20:47:06.574742",
     "exception": false,
     "start_time": "2025-07-30T20:47:06.544930",
     "status": "completed"
    },
    "tags": []
   },
   "outputs": [],
   "source": [
    "y_train = y_train[keep_mask]"
   ]
  },
  {
   "cell_type": "markdown",
   "id": "493e2ac3",
   "metadata": {
    "papermill": {
     "duration": 0.020161,
     "end_time": "2025-07-30T20:47:06.615955",
     "exception": false,
     "start_time": "2025-07-30T20:47:06.595794",
     "status": "completed"
    },
    "tags": []
   },
   "source": [
    "# Model Training"
   ]
  },
  {
   "cell_type": "code",
   "execution_count": 41,
   "id": "679e1268",
   "metadata": {
    "execution": {
     "iopub.execute_input": "2025-07-30T20:47:06.658622Z",
     "iopub.status.busy": "2025-07-30T20:47:06.657980Z",
     "iopub.status.idle": "2025-07-30T20:47:06.770824Z",
     "shell.execute_reply": "2025-07-30T20:47:06.769701Z"
    },
    "papermill": {
     "duration": 0.136295,
     "end_time": "2025-07-30T20:47:06.772764",
     "exception": false,
     "start_time": "2025-07-30T20:47:06.636469",
     "status": "completed"
    },
    "tags": []
   },
   "outputs": [],
   "source": [
    "from sklearn.linear_model import LogisticRegression\n",
    "from sklearn.ensemble import GradientBoostingClassifier, RandomForestClassifier\n",
    "\n",
    "if (universe[\"model\"] == \"logreg\"):\n",
    "    model = LogisticRegression() #penalty=\"none\") #, solver=\"newton-cg\", max_iter=1) # include random_state=19 ?\n",
    "elif (universe[\"model\"] == \"penalized_logreg\"):\n",
    "    model = LogisticRegression(penalty=\"l2\", C=1.0) #, solver=\"newton-cg\", max_iter=1)\n",
    "elif (universe[\"model\"] == \"rf\"):\n",
    "    model = RandomForestClassifier(n_estimators=100, n_jobs=-1)\n",
    "elif (universe[\"model\"] == \"gbm\"):\n",
    "    model = GradientBoostingClassifier()\n",
    "elif (universe[\"model\"] == \"elasticnet\"):\n",
    "    model = LogisticRegression(penalty = 'elasticnet', solver = 'saga', l1_ratio = 0.5, max_iter=5000) # which solver to use?\n",
    "else:\n",
    "    raise \"Unsupported universe.model\""
   ]
  },
  {
   "cell_type": "code",
   "execution_count": 42,
   "id": "0cc8f744",
   "metadata": {
    "execution": {
     "iopub.execute_input": "2025-07-30T20:47:06.817167Z",
     "iopub.status.busy": "2025-07-30T20:47:06.816650Z",
     "iopub.status.idle": "2025-07-30T20:47:06.823010Z",
     "shell.execute_reply": "2025-07-30T20:47:06.821944Z"
    },
    "papermill": {
     "duration": 0.030469,
     "end_time": "2025-07-30T20:47:06.824528",
     "exception": false,
     "start_time": "2025-07-30T20:47:06.794059",
     "status": "completed"
    },
    "tags": []
   },
   "outputs": [],
   "source": [
    "import numpy as np\n",
    "from sklearn.pipeline import Pipeline\n",
    "from sklearn.preprocessing import StandardScaler\n",
    "\n",
    "model = Pipeline([\n",
    "    #(\"continuous_processor\", continuous_processor),\n",
    "    #(\"categorical_preprocessor\", categorical_preprocessor),\n",
    "    (\"scale\", StandardScaler() if universe[\"scale\"] == \"scale\" else None), \n",
    "    (\"model\", model),\n",
    "])"
   ]
  },
  {
   "cell_type": "code",
   "execution_count": 43,
   "id": "9442c04d",
   "metadata": {
    "execution": {
     "iopub.execute_input": "2025-07-30T20:47:06.869156Z",
     "iopub.status.busy": "2025-07-30T20:47:06.868627Z",
     "iopub.status.idle": "2025-07-30T20:47:07.779837Z",
     "shell.execute_reply": "2025-07-30T20:47:07.779028Z"
    },
    "papermill": {
     "duration": 0.934899,
     "end_time": "2025-07-30T20:47:07.781340",
     "exception": false,
     "start_time": "2025-07-30T20:47:06.846441",
     "status": "completed"
    },
    "tags": []
   },
   "outputs": [
    {
     "data": {
      "text/html": [
       "<style>#sk-container-id-1 {color: black;background-color: white;}#sk-container-id-1 pre{padding: 0;}#sk-container-id-1 div.sk-toggleable {background-color: white;}#sk-container-id-1 label.sk-toggleable__label {cursor: pointer;display: block;width: 100%;margin-bottom: 0;padding: 0.3em;box-sizing: border-box;text-align: center;}#sk-container-id-1 label.sk-toggleable__label-arrow:before {content: \"▸\";float: left;margin-right: 0.25em;color: #696969;}#sk-container-id-1 label.sk-toggleable__label-arrow:hover:before {color: black;}#sk-container-id-1 div.sk-estimator:hover label.sk-toggleable__label-arrow:before {color: black;}#sk-container-id-1 div.sk-toggleable__content {max-height: 0;max-width: 0;overflow: hidden;text-align: left;background-color: #f0f8ff;}#sk-container-id-1 div.sk-toggleable__content pre {margin: 0.2em;color: black;border-radius: 0.25em;background-color: #f0f8ff;}#sk-container-id-1 input.sk-toggleable__control:checked~div.sk-toggleable__content {max-height: 200px;max-width: 100%;overflow: auto;}#sk-container-id-1 input.sk-toggleable__control:checked~label.sk-toggleable__label-arrow:before {content: \"▾\";}#sk-container-id-1 div.sk-estimator input.sk-toggleable__control:checked~label.sk-toggleable__label {background-color: #d4ebff;}#sk-container-id-1 div.sk-label input.sk-toggleable__control:checked~label.sk-toggleable__label {background-color: #d4ebff;}#sk-container-id-1 input.sk-hidden--visually {border: 0;clip: rect(1px 1px 1px 1px);clip: rect(1px, 1px, 1px, 1px);height: 1px;margin: -1px;overflow: hidden;padding: 0;position: absolute;width: 1px;}#sk-container-id-1 div.sk-estimator {font-family: monospace;background-color: #f0f8ff;border: 1px dotted black;border-radius: 0.25em;box-sizing: border-box;margin-bottom: 0.5em;}#sk-container-id-1 div.sk-estimator:hover {background-color: #d4ebff;}#sk-container-id-1 div.sk-parallel-item::after {content: \"\";width: 100%;border-bottom: 1px solid gray;flex-grow: 1;}#sk-container-id-1 div.sk-label:hover label.sk-toggleable__label {background-color: #d4ebff;}#sk-container-id-1 div.sk-serial::before {content: \"\";position: absolute;border-left: 1px solid gray;box-sizing: border-box;top: 0;bottom: 0;left: 50%;z-index: 0;}#sk-container-id-1 div.sk-serial {display: flex;flex-direction: column;align-items: center;background-color: white;padding-right: 0.2em;padding-left: 0.2em;position: relative;}#sk-container-id-1 div.sk-item {position: relative;z-index: 1;}#sk-container-id-1 div.sk-parallel {display: flex;align-items: stretch;justify-content: center;background-color: white;position: relative;}#sk-container-id-1 div.sk-item::before, #sk-container-id-1 div.sk-parallel-item::before {content: \"\";position: absolute;border-left: 1px solid gray;box-sizing: border-box;top: 0;bottom: 0;left: 50%;z-index: -1;}#sk-container-id-1 div.sk-parallel-item {display: flex;flex-direction: column;z-index: 1;position: relative;background-color: white;}#sk-container-id-1 div.sk-parallel-item:first-child::after {align-self: flex-end;width: 50%;}#sk-container-id-1 div.sk-parallel-item:last-child::after {align-self: flex-start;width: 50%;}#sk-container-id-1 div.sk-parallel-item:only-child::after {width: 0;}#sk-container-id-1 div.sk-dashed-wrapped {border: 1px dashed gray;margin: 0 0.4em 0.5em 0.4em;box-sizing: border-box;padding-bottom: 0.4em;background-color: white;}#sk-container-id-1 div.sk-label label {font-family: monospace;font-weight: bold;display: inline-block;line-height: 1.2em;}#sk-container-id-1 div.sk-label-container {text-align: center;}#sk-container-id-1 div.sk-container {/* jupyter's `normalize.less` sets `[hidden] { display: none; }` but bootstrap.min.css set `[hidden] { display: none !important; }` so we also need the `!important` here to be able to override the default hidden behavior on the sphinx rendered scikit-learn.org. See: https://github.com/scikit-learn/scikit-learn/issues/21755 */display: inline-block !important;position: relative;}#sk-container-id-1 div.sk-text-repr-fallback {display: none;}</style><div id=\"sk-container-id-1\" class=\"sk-top-container\"><div class=\"sk-text-repr-fallback\"><pre>Pipeline(steps=[(&#x27;scale&#x27;, StandardScaler()),\n",
       "                (&#x27;model&#x27;, RandomForestClassifier(n_jobs=-1))])</pre><b>In a Jupyter environment, please rerun this cell to show the HTML representation or trust the notebook. <br />On GitHub, the HTML representation is unable to render, please try loading this page with nbviewer.org.</b></div><div class=\"sk-container\" hidden><div class=\"sk-item sk-dashed-wrapped\"><div class=\"sk-label-container\"><div class=\"sk-label sk-toggleable\"><input class=\"sk-toggleable__control sk-hidden--visually\" id=\"sk-estimator-id-1\" type=\"checkbox\" ><label for=\"sk-estimator-id-1\" class=\"sk-toggleable__label sk-toggleable__label-arrow\">Pipeline</label><div class=\"sk-toggleable__content\"><pre>Pipeline(steps=[(&#x27;scale&#x27;, StandardScaler()),\n",
       "                (&#x27;model&#x27;, RandomForestClassifier(n_jobs=-1))])</pre></div></div></div><div class=\"sk-serial\"><div class=\"sk-item\"><div class=\"sk-estimator sk-toggleable\"><input class=\"sk-toggleable__control sk-hidden--visually\" id=\"sk-estimator-id-2\" type=\"checkbox\" ><label for=\"sk-estimator-id-2\" class=\"sk-toggleable__label sk-toggleable__label-arrow\">StandardScaler</label><div class=\"sk-toggleable__content\"><pre>StandardScaler()</pre></div></div></div><div class=\"sk-item\"><div class=\"sk-estimator sk-toggleable\"><input class=\"sk-toggleable__control sk-hidden--visually\" id=\"sk-estimator-id-3\" type=\"checkbox\" ><label for=\"sk-estimator-id-3\" class=\"sk-toggleable__label sk-toggleable__label-arrow\">RandomForestClassifier</label><div class=\"sk-toggleable__content\"><pre>RandomForestClassifier(n_jobs=-1)</pre></div></div></div></div></div></div></div>"
      ],
      "text/plain": [
       "Pipeline(steps=[('scale', StandardScaler()),\n",
       "                ('model', RandomForestClassifier(n_jobs=-1))])"
      ]
     },
     "execution_count": 43,
     "metadata": {},
     "output_type": "execute_result"
    }
   ],
   "source": [
    "model.fit(X_train, y_train.values.ravel())"
   ]
  },
  {
   "cell_type": "code",
   "execution_count": 44,
   "id": "af59f8c0",
   "metadata": {
    "execution": {
     "iopub.execute_input": "2025-07-30T20:47:07.826404Z",
     "iopub.status.busy": "2025-07-30T20:47:07.825945Z",
     "iopub.status.idle": "2025-07-30T20:47:07.831057Z",
     "shell.execute_reply": "2025-07-30T20:47:07.830186Z"
    },
    "papermill": {
     "duration": 0.029304,
     "end_time": "2025-07-30T20:47:07.832574",
     "exception": false,
     "start_time": "2025-07-30T20:47:07.803270",
     "status": "completed"
    },
    "tags": []
   },
   "outputs": [],
   "source": [
    "from fairness_multiverse.universe import predict_w_threshold"
   ]
  },
  {
   "cell_type": "code",
   "execution_count": 45,
   "id": "a7cf2e16",
   "metadata": {
    "execution": {
     "iopub.execute_input": "2025-07-30T20:47:07.881146Z",
     "iopub.status.busy": "2025-07-30T20:47:07.880686Z",
     "iopub.status.idle": "2025-07-30T20:47:08.804542Z",
     "shell.execute_reply": "2025-07-30T20:47:08.803672Z"
    },
    "papermill": {
     "duration": 0.950963,
     "end_time": "2025-07-30T20:47:08.805729",
     "exception": false,
     "start_time": "2025-07-30T20:47:07.854766",
     "status": "completed"
    },
    "tags": []
   },
   "outputs": [
    {
     "data": {
      "text/plain": [
       "0.8670605283691896"
      ]
     },
     "execution_count": 45,
     "metadata": {},
     "output_type": "execute_result"
    }
   ],
   "source": [
    "probs_test = model.predict_proba(X_test)\n",
    "\n",
    "'''\n",
    "Below code returns a boolean array (or binary 0/1 array depending on how it’s used) where each element \n",
    "is True if the probability of class 1 is greater than or equal to the threshold, and False otherwise.\n",
    "'''\n",
    "y_pred_default = predict_w_threshold(probs_test, 0.5)\n",
    "\n",
    "from sklearn.metrics import accuracy_score\n",
    "\n",
    "# Naive prediction\n",
    "accuracy_score(y_true = y_true, y_pred = y_pred_default)"
   ]
  },
  {
   "cell_type": "code",
   "execution_count": 46,
   "id": "081964c3",
   "metadata": {
    "execution": {
     "iopub.execute_input": "2025-07-30T20:47:08.832671Z",
     "iopub.status.busy": "2025-07-30T20:47:08.831945Z",
     "iopub.status.idle": "2025-07-30T20:47:09.720254Z",
     "shell.execute_reply": "2025-07-30T20:47:09.719551Z"
    },
    "papermill": {
     "duration": 0.903281,
     "end_time": "2025-07-30T20:47:09.721677",
     "exception": false,
     "start_time": "2025-07-30T20:47:08.818396",
     "status": "completed"
    },
    "tags": []
   },
   "outputs": [
    {
     "data": {
      "text/plain": [
       "array([0, 0, 0, ..., 0, 0, 0])"
      ]
     },
     "execution_count": 46,
     "metadata": {},
     "output_type": "execute_result"
    }
   ],
   "source": [
    "model.predict(X_test)"
   ]
  },
  {
   "cell_type": "markdown",
   "id": "56c9705b",
   "metadata": {
    "papermill": {
     "duration": 0.022276,
     "end_time": "2025-07-30T20:47:09.768861",
     "exception": false,
     "start_time": "2025-07-30T20:47:09.746585",
     "status": "completed"
    },
    "tags": []
   },
   "source": [
    "# Conformal Prediction"
   ]
  },
  {
   "cell_type": "code",
   "execution_count": 47,
   "id": "160ec6ff",
   "metadata": {
    "execution": {
     "iopub.execute_input": "2025-07-30T20:47:09.814984Z",
     "iopub.status.busy": "2025-07-30T20:47:09.814609Z",
     "iopub.status.idle": "2025-07-30T20:47:09.819048Z",
     "shell.execute_reply": "2025-07-30T20:47:09.818383Z"
    },
    "papermill": {
     "duration": 0.029504,
     "end_time": "2025-07-30T20:47:09.820689",
     "exception": false,
     "start_time": "2025-07-30T20:47:09.791185",
     "status": "completed"
    },
    "tags": []
   },
   "outputs": [],
   "source": [
    "# Miscoverage level for conformal prediction (10% allowed error rate => 90% target coverage)\n",
    "alpha = 0.1"
   ]
  },
  {
   "cell_type": "code",
   "execution_count": 48,
   "id": "eadf4555-3dd3-440e-8e35-f82a4ad9f855",
   "metadata": {
    "execution": {
     "iopub.execute_input": "2025-07-30T20:47:09.866943Z",
     "iopub.status.busy": "2025-07-30T20:47:09.866610Z",
     "iopub.status.idle": "2025-07-30T20:47:10.789671Z",
     "shell.execute_reply": "2025-07-30T20:47:10.788676Z"
    },
    "papermill": {
     "duration": 0.948019,
     "end_time": "2025-07-30T20:47:10.791646",
     "exception": false,
     "start_time": "2025-07-30T20:47:09.843627",
     "status": "completed"
    },
    "tags": []
   },
   "outputs": [],
   "source": [
    "probs_calib = model.predict_proba(X_calib)"
   ]
  },
  {
   "cell_type": "code",
   "execution_count": 49,
   "id": "2ed93547-6d5d-4983-9b36-1ecb300da49a",
   "metadata": {
    "execution": {
     "iopub.execute_input": "2025-07-30T20:47:10.839244Z",
     "iopub.status.busy": "2025-07-30T20:47:10.838577Z",
     "iopub.status.idle": "2025-07-30T20:47:10.844356Z",
     "shell.execute_reply": "2025-07-30T20:47:10.843579Z"
    },
    "papermill": {
     "duration": 0.030731,
     "end_time": "2025-07-30T20:47:10.845804",
     "exception": false,
     "start_time": "2025-07-30T20:47:10.815073",
     "status": "completed"
    },
    "tags": []
   },
   "outputs": [],
   "source": [
    "y_calib = y_calib.values.ravel().astype(int)"
   ]
  },
  {
   "cell_type": "code",
   "execution_count": 50,
   "id": "65d1320d-f588-4b38-9072-62af1ae97f7d",
   "metadata": {
    "execution": {
     "iopub.execute_input": "2025-07-30T20:47:10.892626Z",
     "iopub.status.busy": "2025-07-30T20:47:10.891749Z",
     "iopub.status.idle": "2025-07-30T20:47:10.898434Z",
     "shell.execute_reply": "2025-07-30T20:47:10.897639Z"
    },
    "papermill": {
     "duration": 0.031397,
     "end_time": "2025-07-30T20:47:10.899845",
     "exception": false,
     "start_time": "2025-07-30T20:47:10.868448",
     "status": "completed"
    },
    "tags": []
   },
   "outputs": [],
   "source": [
    "from fairness_multiverse.conformal import compute_nc_scores\n",
    "\n",
    "# Compute nonconformity scores on calibration set (1 - probability of true class)\n",
    "nc_scores = compute_nc_scores(probs_calib, y_calib)"
   ]
  },
  {
   "cell_type": "code",
   "execution_count": 51,
   "id": "df3b8ca3-53b7-43d5-9667-7c85da7aeda2",
   "metadata": {
    "execution": {
     "iopub.execute_input": "2025-07-30T20:47:10.946241Z",
     "iopub.status.busy": "2025-07-30T20:47:10.945608Z",
     "iopub.status.idle": "2025-07-30T20:47:10.952214Z",
     "shell.execute_reply": "2025-07-30T20:47:10.951285Z"
    },
    "papermill": {
     "duration": 0.031728,
     "end_time": "2025-07-30T20:47:10.954026",
     "exception": false,
     "start_time": "2025-07-30T20:47:10.922298",
     "status": "completed"
    },
    "tags": []
   },
   "outputs": [],
   "source": [
    "from fairness_multiverse.conformal import find_threshold\n",
    "\n",
    "# Find conformal threshold q_hat for the given alpha (split conformal method)\n",
    "q_hat = find_threshold(nc_scores, alpha)"
   ]
  },
  {
   "cell_type": "code",
   "execution_count": 52,
   "id": "4d29e6c1-0ef6-4aa4-b8fe-4fe79b0d033a",
   "metadata": {
    "execution": {
     "iopub.execute_input": "2025-07-30T20:47:11.003613Z",
     "iopub.status.busy": "2025-07-30T20:47:11.002947Z",
     "iopub.status.idle": "2025-07-30T20:47:11.010281Z",
     "shell.execute_reply": "2025-07-30T20:47:11.009373Z"
    },
    "papermill": {
     "duration": 0.033226,
     "end_time": "2025-07-30T20:47:11.011831",
     "exception": false,
     "start_time": "2025-07-30T20:47:10.978605",
     "status": "completed"
    },
    "tags": []
   },
   "outputs": [
    {
     "data": {
      "text/plain": [
       "0.6699999999999999"
      ]
     },
     "execution_count": 52,
     "metadata": {},
     "output_type": "execute_result"
    }
   ],
   "source": [
    "q_hat"
   ]
  },
  {
   "cell_type": "code",
   "execution_count": 53,
   "id": "92460794-cdac-4be2-ba28-f28c0515a6fb",
   "metadata": {
    "execution": {
     "iopub.execute_input": "2025-07-30T20:47:11.061772Z",
     "iopub.status.busy": "2025-07-30T20:47:11.061265Z",
     "iopub.status.idle": "2025-07-30T20:47:12.412830Z",
     "shell.execute_reply": "2025-07-30T20:47:12.412067Z"
    },
    "papermill": {
     "duration": 1.378152,
     "end_time": "2025-07-30T20:47:12.414536",
     "exception": false,
     "start_time": "2025-07-30T20:47:11.036384",
     "status": "completed"
    },
    "tags": []
   },
   "outputs": [],
   "source": [
    "from fairness_multiverse.conformal import predict_conformal_sets\n",
    "\n",
    "# Generate prediction sets for each test example\n",
    "pred_sets = predict_conformal_sets(model, X_test, q_hat)"
   ]
  },
  {
   "cell_type": "code",
   "execution_count": 54,
   "id": "d90c9a65-e6db-4f5d-80cd-e68fb7e46829",
   "metadata": {
    "execution": {
     "iopub.execute_input": "2025-07-30T20:47:12.467030Z",
     "iopub.status.busy": "2025-07-30T20:47:12.466535Z",
     "iopub.status.idle": "2025-07-30T20:47:12.471426Z",
     "shell.execute_reply": "2025-07-30T20:47:12.470724Z"
    },
    "papermill": {
     "duration": 0.019636,
     "end_time": "2025-07-30T20:47:12.472734",
     "exception": false,
     "start_time": "2025-07-30T20:47:12.453098",
     "status": "completed"
    },
    "tags": []
   },
   "outputs": [],
   "source": [
    "y_true = y_true.squeeze()"
   ]
  },
  {
   "cell_type": "code",
   "execution_count": 55,
   "id": "3a58a54a-1e68-46b9-927a-df01f18aebc8",
   "metadata": {
    "execution": {
     "iopub.execute_input": "2025-07-30T20:47:12.499451Z",
     "iopub.status.busy": "2025-07-30T20:47:12.498999Z",
     "iopub.status.idle": "2025-07-30T20:47:13.420315Z",
     "shell.execute_reply": "2025-07-30T20:47:13.419283Z"
    },
    "papermill": {
     "duration": 0.936312,
     "end_time": "2025-07-30T20:47:13.422302",
     "exception": false,
     "start_time": "2025-07-30T20:47:12.485990",
     "status": "completed"
    },
    "tags": []
   },
   "outputs": [],
   "source": [
    "from fairness_multiverse.conformal import evaluate_sets\n",
    "\n",
    "# Evaluate coverage and average set size on test data\n",
    "metrics = evaluate_sets(pred_sets, y_true)"
   ]
  },
  {
   "cell_type": "markdown",
   "id": "2b569c12-9aaa-4c88-98c9-bbcd0cf3ebb8",
   "metadata": {
    "papermill": {
     "duration": 0.023556,
     "end_time": "2025-07-30T20:47:13.471363",
     "exception": false,
     "start_time": "2025-07-30T20:47:13.447807",
     "status": "completed"
    },
    "tags": []
   },
   "source": [
    "# CP Metrics"
   ]
  },
  {
   "cell_type": "code",
   "execution_count": 56,
   "id": "5ce0a5cb-201f-45a0-ade5-94c7f0bd6095",
   "metadata": {
    "execution": {
     "iopub.execute_input": "2025-07-30T20:47:13.521385Z",
     "iopub.status.busy": "2025-07-30T20:47:13.520804Z",
     "iopub.status.idle": "2025-07-30T20:47:13.528902Z",
     "shell.execute_reply": "2025-07-30T20:47:13.527591Z"
    },
    "papermill": {
     "duration": 0.035035,
     "end_time": "2025-07-30T20:47:13.530417",
     "exception": false,
     "start_time": "2025-07-30T20:47:13.495382",
     "status": "completed"
    },
    "tags": []
   },
   "outputs": [
    {
     "data": {
      "text/plain": [
       "{'coverage': 0.91450228514101, 'avg_size': 1.1451566157618995}"
      ]
     },
     "execution_count": 56,
     "metadata": {},
     "output_type": "execute_result"
    }
   ],
   "source": [
    "metrics"
   ]
  },
  {
   "cell_type": "code",
   "execution_count": 57,
   "id": "9b9a838d-31c9-430b-ae14-12baee460d17",
   "metadata": {
    "execution": {
     "iopub.execute_input": "2025-07-30T20:47:13.582310Z",
     "iopub.status.busy": "2025-07-30T20:47:13.581606Z",
     "iopub.status.idle": "2025-07-30T20:47:13.588410Z",
     "shell.execute_reply": "2025-07-30T20:47:13.587467Z"
    },
    "papermill": {
     "duration": 0.034905,
     "end_time": "2025-07-30T20:47:13.590117",
     "exception": false,
     "start_time": "2025-07-30T20:47:13.555212",
     "status": "completed"
    },
    "tags": []
   },
   "outputs": [],
   "source": [
    "example_universe = universe.copy()\n",
    "universe_training_year = example_universe.get(\"training_year\")\n",
    "universe_training_size = example_universe.get(\"training_size\")\n",
    "universe_scale = example_universe.get(\"scale\")\n",
    "universe_model = example_universe.get(\"model\")\n",
    "universe_exclude_features = example_universe.get(\"exclude_features\")\n",
    "universe_exclude_subgroups = example_universe.get(\"exclude_subgroups\")"
   ]
  },
  {
   "cell_type": "code",
   "execution_count": 58,
   "id": "f4b6a8ac-9dc0-4245-8a91-5b3b5999c4f9",
   "metadata": {
    "execution": {
     "iopub.execute_input": "2025-07-30T20:47:13.641574Z",
     "iopub.status.busy": "2025-07-30T20:47:13.640919Z",
     "iopub.status.idle": "2025-07-30T20:47:13.647583Z",
     "shell.execute_reply": "2025-07-30T20:47:13.646608Z"
    },
    "papermill": {
     "duration": 0.034725,
     "end_time": "2025-07-30T20:47:13.649352",
     "exception": false,
     "start_time": "2025-07-30T20:47:13.614627",
     "status": "completed"
    },
    "tags": []
   },
   "outputs": [],
   "source": [
    "cp_metrics_dict = {\n",
    "    \"universe_id\": [universe_id],\n",
    "    \"universe_training_year\": [universe_training_year],\n",
    "    \"universe_training_size\": [universe_training_size],\n",
    "    \"universe_scale\": [universe_scale],\n",
    "    \"universe_model\": [universe_model],\n",
    "    \"universe_exclude_features\": [universe_exclude_features],\n",
    "    \"universe_exclude_subgroups\": [universe_exclude_subgroups],\n",
    "    \"q_hat\": [q_hat],\n",
    "    \"coverage\": [metrics[\"coverage\"]],\n",
    "    \"avg_size\": [metrics[\"avg_size\"]],\n",
    "}"
   ]
  },
  {
   "cell_type": "code",
   "execution_count": 59,
   "id": "908acbb1-0371-4915-85ca-3fa520d2efe2",
   "metadata": {
    "execution": {
     "iopub.execute_input": "2025-07-30T20:47:13.700536Z",
     "iopub.status.busy": "2025-07-30T20:47:13.699620Z",
     "iopub.status.idle": "2025-07-30T20:47:13.707266Z",
     "shell.execute_reply": "2025-07-30T20:47:13.706249Z"
    },
    "papermill": {
     "duration": 0.034776,
     "end_time": "2025-07-30T20:47:13.708904",
     "exception": false,
     "start_time": "2025-07-30T20:47:13.674128",
     "status": "completed"
    },
    "tags": []
   },
   "outputs": [
    {
     "data": {
      "text/plain": [
       "{'universe_id': ['dac7cbfc7f92adc178e95657fee9f2f9'],\n",
       " 'universe_training_year': ['2014'],\n",
       " 'universe_training_size': ['5k'],\n",
       " 'universe_scale': ['scale'],\n",
       " 'universe_model': ['rf'],\n",
       " 'universe_exclude_features': ['age'],\n",
       " 'universe_exclude_subgroups': ['keep-all'],\n",
       " 'q_hat': [0.6699999999999999],\n",
       " 'coverage': [0.91450228514101],\n",
       " 'avg_size': [1.1451566157618995]}"
      ]
     },
     "execution_count": 59,
     "metadata": {},
     "output_type": "execute_result"
    }
   ],
   "source": [
    "cp_metrics_dict"
   ]
  },
  {
   "cell_type": "code",
   "execution_count": 60,
   "id": "33007efc-14e9-4ec6-97ac-56a455c82265",
   "metadata": {
    "execution": {
     "iopub.execute_input": "2025-07-30T20:47:13.759977Z",
     "iopub.status.busy": "2025-07-30T20:47:13.759389Z",
     "iopub.status.idle": "2025-07-30T20:47:13.766075Z",
     "shell.execute_reply": "2025-07-30T20:47:13.765084Z"
    },
    "papermill": {
     "duration": 0.033657,
     "end_time": "2025-07-30T20:47:13.767743",
     "exception": false,
     "start_time": "2025-07-30T20:47:13.734086",
     "status": "completed"
    },
    "tags": []
   },
   "outputs": [],
   "source": [
    "cp_metrics_df = pd.DataFrame(cp_metrics_dict)"
   ]
  },
  {
   "cell_type": "code",
   "execution_count": 61,
   "id": "db12611b-57b2-4910-b9d0-355adfd6e7bf",
   "metadata": {
    "execution": {
     "iopub.execute_input": "2025-07-30T20:47:13.819735Z",
     "iopub.status.busy": "2025-07-30T20:47:13.819045Z",
     "iopub.status.idle": "2025-07-30T20:47:13.841974Z",
     "shell.execute_reply": "2025-07-30T20:47:13.840909Z"
    },
    "papermill": {
     "duration": 0.049734,
     "end_time": "2025-07-30T20:47:13.843613",
     "exception": false,
     "start_time": "2025-07-30T20:47:13.793879",
     "status": "completed"
    },
    "tags": []
   },
   "outputs": [
    {
     "data": {
      "text/html": [
       "<div>\n",
       "<style scoped>\n",
       "    .dataframe tbody tr th:only-of-type {\n",
       "        vertical-align: middle;\n",
       "    }\n",
       "\n",
       "    .dataframe tbody tr th {\n",
       "        vertical-align: top;\n",
       "    }\n",
       "\n",
       "    .dataframe thead th {\n",
       "        text-align: right;\n",
       "    }\n",
       "</style>\n",
       "<table border=\"1\" class=\"dataframe\">\n",
       "  <thead>\n",
       "    <tr style=\"text-align: right;\">\n",
       "      <th></th>\n",
       "      <th>universe_id</th>\n",
       "      <th>universe_training_year</th>\n",
       "      <th>universe_training_size</th>\n",
       "      <th>universe_scale</th>\n",
       "      <th>universe_model</th>\n",
       "      <th>universe_exclude_features</th>\n",
       "      <th>universe_exclude_subgroups</th>\n",
       "      <th>q_hat</th>\n",
       "      <th>coverage</th>\n",
       "      <th>avg_size</th>\n",
       "    </tr>\n",
       "  </thead>\n",
       "  <tbody>\n",
       "    <tr>\n",
       "      <th>0</th>\n",
       "      <td>dac7cbfc7f92adc178e95657fee9f2f9</td>\n",
       "      <td>2014</td>\n",
       "      <td>5k</td>\n",
       "      <td>scale</td>\n",
       "      <td>rf</td>\n",
       "      <td>age</td>\n",
       "      <td>keep-all</td>\n",
       "      <td>0.67</td>\n",
       "      <td>0.914502</td>\n",
       "      <td>1.145157</td>\n",
       "    </tr>\n",
       "  </tbody>\n",
       "</table>\n",
       "</div>"
      ],
      "text/plain": [
       "                        universe_id universe_training_year  \\\n",
       "0  dac7cbfc7f92adc178e95657fee9f2f9                   2014   \n",
       "\n",
       "  universe_training_size universe_scale universe_model  \\\n",
       "0                     5k          scale             rf   \n",
       "\n",
       "  universe_exclude_features universe_exclude_subgroups  q_hat  coverage  \\\n",
       "0                       age                   keep-all   0.67  0.914502   \n",
       "\n",
       "   avg_size  \n",
       "0  1.145157  "
      ]
     },
     "execution_count": 61,
     "metadata": {},
     "output_type": "execute_result"
    }
   ],
   "source": [
    "cp_metrics_df"
   ]
  },
  {
   "cell_type": "code",
   "execution_count": 62,
   "id": "b7fbde55-a0a1-47e4-9af6-fe4a17fa8c61",
   "metadata": {
    "execution": {
     "iopub.execute_input": "2025-07-30T20:47:13.895584Z",
     "iopub.status.busy": "2025-07-30T20:47:13.895007Z",
     "iopub.status.idle": "2025-07-30T20:47:13.900481Z",
     "shell.execute_reply": "2025-07-30T20:47:13.899467Z"
    },
    "papermill": {
     "duration": 0.033568,
     "end_time": "2025-07-30T20:47:13.902253",
     "exception": false,
     "start_time": "2025-07-30T20:47:13.868685",
     "status": "completed"
    },
    "tags": []
   },
   "outputs": [],
   "source": [
    "# Conditional Coverage & looking at subgroups"
   ]
  },
  {
   "cell_type": "code",
   "execution_count": 63,
   "id": "027ae886-68dd-4141-96c7-805a5450e1ef",
   "metadata": {
    "execution": {
     "iopub.execute_input": "2025-07-30T20:47:13.954801Z",
     "iopub.status.busy": "2025-07-30T20:47:13.953900Z",
     "iopub.status.idle": "2025-07-30T20:47:14.235445Z",
     "shell.execute_reply": "2025-07-30T20:47:14.234465Z"
    },
    "papermill": {
     "duration": 0.309726,
     "end_time": "2025-07-30T20:47:14.237638",
     "exception": false,
     "start_time": "2025-07-30T20:47:13.927912",
     "status": "completed"
    },
    "tags": []
   },
   "outputs": [],
   "source": [
    "from fairness_multiverse.conformal import build_cp_groups\n",
    "\n",
    "cp_groups_df = build_cp_groups(pred_sets, y_true, X_test.index, org_test)\n",
    "#needs universe_id and setting"
   ]
  },
  {
   "cell_type": "code",
   "execution_count": 64,
   "id": "01d5802c-663a-4d1f-9d69-e036faaffbf7",
   "metadata": {
    "execution": {
     "iopub.execute_input": "2025-07-30T20:47:14.291823Z",
     "iopub.status.busy": "2025-07-30T20:47:14.290866Z",
     "iopub.status.idle": "2025-07-30T20:47:14.296122Z",
     "shell.execute_reply": "2025-07-30T20:47:14.295172Z"
    },
    "papermill": {
     "duration": 0.03353,
     "end_time": "2025-07-30T20:47:14.297829",
     "exception": false,
     "start_time": "2025-07-30T20:47:14.264299",
     "status": "completed"
    },
    "tags": []
   },
   "outputs": [],
   "source": [
    "#delete\n",
    "#cp_groups_df"
   ]
  },
  {
   "cell_type": "code",
   "execution_count": 65,
   "id": "fa424af1-d1eb-443d-b717-2d279ada8408",
   "metadata": {
    "execution": {
     "iopub.execute_input": "2025-07-30T20:47:14.353451Z",
     "iopub.status.busy": "2025-07-30T20:47:14.352575Z",
     "iopub.status.idle": "2025-07-30T20:47:14.357859Z",
     "shell.execute_reply": "2025-07-30T20:47:14.356954Z"
    },
    "papermill": {
     "duration": 0.03485,
     "end_time": "2025-07-30T20:47:14.359452",
     "exception": false,
     "start_time": "2025-07-30T20:47:14.324602",
     "status": "completed"
    },
    "tags": []
   },
   "outputs": [],
   "source": [
    "#delete\n",
    "#percentage = (cp_groups_df['nongerman_female'] == 1).mean() * 100\n",
    "#print(percentage)\n"
   ]
  },
  {
   "cell_type": "code",
   "execution_count": 66,
   "id": "6cbdab96-b2b2-45af-ad54-d0516db2e28d",
   "metadata": {
    "execution": {
     "iopub.execute_input": "2025-07-30T20:47:14.414007Z",
     "iopub.status.busy": "2025-07-30T20:47:14.413543Z",
     "iopub.status.idle": "2025-07-30T20:47:16.099178Z",
     "shell.execute_reply": "2025-07-30T20:47:16.098229Z"
    },
    "papermill": {
     "duration": 1.714711,
     "end_time": "2025-07-30T20:47:16.101064",
     "exception": false,
     "start_time": "2025-07-30T20:47:14.386353",
     "status": "completed"
    },
    "tags": []
   },
   "outputs": [],
   "source": [
    "# Define covered = 1 if true_label is in the predicted set\n",
    "cp_groups_df['covered'] = cp_groups_df.apply(\n",
    "    lambda r: int(r['true_label'] in r['pred_set']),\n",
    "    axis=1\n",
    ")"
   ]
  },
  {
   "cell_type": "code",
   "execution_count": 67,
   "id": "338ff529-1a6b-4b87-a931-8e4788d52aad",
   "metadata": {
    "execution": {
     "iopub.execute_input": "2025-07-30T20:47:16.158842Z",
     "iopub.status.busy": "2025-07-30T20:47:16.158039Z",
     "iopub.status.idle": "2025-07-30T20:47:16.163437Z",
     "shell.execute_reply": "2025-07-30T20:47:16.162444Z"
    },
    "papermill": {
     "duration": 0.035404,
     "end_time": "2025-07-30T20:47:16.165020",
     "exception": false,
     "start_time": "2025-07-30T20:47:16.129616",
     "status": "completed"
    },
    "tags": []
   },
   "outputs": [],
   "source": [
    "#cp_groups_df"
   ]
  },
  {
   "cell_type": "code",
   "execution_count": 68,
   "id": "90032e27-66df-4540-9169-4e89cfbaa758",
   "metadata": {
    "execution": {
     "iopub.execute_input": "2025-07-30T20:47:16.218432Z",
     "iopub.status.busy": "2025-07-30T20:47:16.217980Z",
     "iopub.status.idle": "2025-07-30T20:47:16.229656Z",
     "shell.execute_reply": "2025-07-30T20:47:16.228736Z"
    },
    "papermill": {
     "duration": 0.039966,
     "end_time": "2025-07-30T20:47:16.231332",
     "exception": false,
     "start_time": "2025-07-30T20:47:16.191366",
     "status": "completed"
    },
    "tags": []
   },
   "outputs": [],
   "source": [
    "subgroups = ['frau1','nongerman','nongerman_male','nongerman_female']\n",
    "\n",
    "# Conditional coverage for subgroup==1\n",
    "cond_coverage = {\n",
    "    g: cp_groups_df.loc[cp_groups_df[g]==1, 'covered'].mean()\n",
    "    for g in subgroups\n",
    "}"
   ]
  },
  {
   "cell_type": "code",
   "execution_count": 69,
   "id": "1e348fb1-b9c3-45bc-ba23-f016827a7e0d",
   "metadata": {
    "execution": {
     "iopub.execute_input": "2025-07-30T20:47:16.285363Z",
     "iopub.status.busy": "2025-07-30T20:47:16.284128Z",
     "iopub.status.idle": "2025-07-30T20:47:16.292280Z",
     "shell.execute_reply": "2025-07-30T20:47:16.291193Z"
    },
    "papermill": {
     "duration": 0.03682,
     "end_time": "2025-07-30T20:47:16.293986",
     "exception": false,
     "start_time": "2025-07-30T20:47:16.257166",
     "status": "completed"
    },
    "tags": []
   },
   "outputs": [
    {
     "data": {
      "text/plain": [
       "{'frau1': 0.912252325111201,\n",
       " 'nongerman': 0.9092236007410318,\n",
       " 'nongerman_male': 0.9257858236512654,\n",
       " 'nongerman_female': 0.8818181818181818}"
      ]
     },
     "execution_count": 69,
     "metadata": {},
     "output_type": "execute_result"
    }
   ],
   "source": [
    "cond_coverage"
   ]
  },
  {
   "cell_type": "code",
   "execution_count": 70,
   "id": "f5093324-c3dd-4d63-bc4c-8d945e5c8bbb",
   "metadata": {
    "execution": {
     "iopub.execute_input": "2025-07-30T20:47:16.349621Z",
     "iopub.status.busy": "2025-07-30T20:47:16.348602Z",
     "iopub.status.idle": "2025-07-30T20:47:16.356022Z",
     "shell.execute_reply": "2025-07-30T20:47:16.355053Z"
    },
    "papermill": {
     "duration": 0.036984,
     "end_time": "2025-07-30T20:47:16.357669",
     "exception": false,
     "start_time": "2025-07-30T20:47:16.320685",
     "status": "completed"
    },
    "tags": []
   },
   "outputs": [],
   "source": [
    "for subgroup, cov in cond_coverage.items():\n",
    "    cp_metrics_df[f\"cov_{subgroup}\"] = cov"
   ]
  },
  {
   "cell_type": "code",
   "execution_count": 71,
   "id": "6e872e10-dbe5-49e8-b554-5030c98ff75d",
   "metadata": {
    "execution": {
     "iopub.execute_input": "2025-07-30T20:47:16.413693Z",
     "iopub.status.busy": "2025-07-30T20:47:16.412680Z",
     "iopub.status.idle": "2025-07-30T20:47:16.432178Z",
     "shell.execute_reply": "2025-07-30T20:47:16.431109Z"
    },
    "papermill": {
     "duration": 0.049987,
     "end_time": "2025-07-30T20:47:16.434951",
     "exception": false,
     "start_time": "2025-07-30T20:47:16.384964",
     "status": "completed"
    },
    "tags": []
   },
   "outputs": [
    {
     "data": {
      "text/html": [
       "<div>\n",
       "<style scoped>\n",
       "    .dataframe tbody tr th:only-of-type {\n",
       "        vertical-align: middle;\n",
       "    }\n",
       "\n",
       "    .dataframe tbody tr th {\n",
       "        vertical-align: top;\n",
       "    }\n",
       "\n",
       "    .dataframe thead th {\n",
       "        text-align: right;\n",
       "    }\n",
       "</style>\n",
       "<table border=\"1\" class=\"dataframe\">\n",
       "  <thead>\n",
       "    <tr style=\"text-align: right;\">\n",
       "      <th></th>\n",
       "      <th>universe_id</th>\n",
       "      <th>universe_training_year</th>\n",
       "      <th>universe_training_size</th>\n",
       "      <th>universe_scale</th>\n",
       "      <th>universe_model</th>\n",
       "      <th>universe_exclude_features</th>\n",
       "      <th>universe_exclude_subgroups</th>\n",
       "      <th>q_hat</th>\n",
       "      <th>coverage</th>\n",
       "      <th>avg_size</th>\n",
       "      <th>cov_frau1</th>\n",
       "      <th>cov_nongerman</th>\n",
       "      <th>cov_nongerman_male</th>\n",
       "      <th>cov_nongerman_female</th>\n",
       "    </tr>\n",
       "  </thead>\n",
       "  <tbody>\n",
       "    <tr>\n",
       "      <th>0</th>\n",
       "      <td>dac7cbfc7f92adc178e95657fee9f2f9</td>\n",
       "      <td>2014</td>\n",
       "      <td>5k</td>\n",
       "      <td>scale</td>\n",
       "      <td>rf</td>\n",
       "      <td>age</td>\n",
       "      <td>keep-all</td>\n",
       "      <td>0.67</td>\n",
       "      <td>0.914502</td>\n",
       "      <td>1.145157</td>\n",
       "      <td>0.912252</td>\n",
       "      <td>0.909224</td>\n",
       "      <td>0.925786</td>\n",
       "      <td>0.881818</td>\n",
       "    </tr>\n",
       "  </tbody>\n",
       "</table>\n",
       "</div>"
      ],
      "text/plain": [
       "                        universe_id universe_training_year  \\\n",
       "0  dac7cbfc7f92adc178e95657fee9f2f9                   2014   \n",
       "\n",
       "  universe_training_size universe_scale universe_model  \\\n",
       "0                     5k          scale             rf   \n",
       "\n",
       "  universe_exclude_features universe_exclude_subgroups  q_hat  coverage  \\\n",
       "0                       age                   keep-all   0.67  0.914502   \n",
       "\n",
       "   avg_size  cov_frau1  cov_nongerman  cov_nongerman_male  \\\n",
       "0  1.145157   0.912252       0.909224            0.925786   \n",
       "\n",
       "   cov_nongerman_female  \n",
       "0              0.881818  "
      ]
     },
     "execution_count": 71,
     "metadata": {},
     "output_type": "execute_result"
    }
   ],
   "source": [
    "cp_metrics_df"
   ]
  },
  {
   "cell_type": "markdown",
   "id": "33774451",
   "metadata": {
    "papermill": {
     "duration": 0.026742,
     "end_time": "2025-07-30T20:47:16.489361",
     "exception": false,
     "start_time": "2025-07-30T20:47:16.462619",
     "status": "completed"
    },
    "tags": []
   },
   "source": [
    "# (Fairness) Metrics"
   ]
  },
  {
   "cell_type": "code",
   "execution_count": 72,
   "id": "debc5d62",
   "metadata": {
    "execution": {
     "iopub.execute_input": "2025-07-30T20:47:16.543957Z",
     "iopub.status.busy": "2025-07-30T20:47:16.543453Z",
     "iopub.status.idle": "2025-07-30T20:47:16.563378Z",
     "shell.execute_reply": "2025-07-30T20:47:16.562307Z"
    },
    "papermill": {
     "duration": 0.048569,
     "end_time": "2025-07-30T20:47:16.565276",
     "exception": false,
     "start_time": "2025-07-30T20:47:16.516707",
     "status": "completed"
    },
    "tags": []
   },
   "outputs": [],
   "source": [
    "# do I need to include maxdeutsch1.missing?\n",
    "\n",
    "import numpy as np\n",
    "\n",
    "colname_to_bin = \"maxdeutsch1\"\n",
    "majority_value = org_train[colname_to_bin].mode()[0]\n",
    "\n",
    "org_test[\"majmin\"] = np.where(org_test[colname_to_bin] == majority_value, \"majority\", \"minority\")"
   ]
  },
  {
   "cell_type": "code",
   "execution_count": 73,
   "id": "06a50de5",
   "metadata": {
    "execution": {
     "iopub.execute_input": "2025-07-30T20:47:16.623344Z",
     "iopub.status.busy": "2025-07-30T20:47:16.622881Z",
     "iopub.status.idle": "2025-07-30T20:47:19.506201Z",
     "shell.execute_reply": "2025-07-30T20:47:19.505236Z"
    },
    "papermill": {
     "duration": 2.913727,
     "end_time": "2025-07-30T20:47:19.508050",
     "exception": false,
     "start_time": "2025-07-30T20:47:16.594323",
     "status": "completed"
    },
    "tags": []
   },
   "outputs": [],
   "source": [
    "example_universe = universe.copy()\n",
    "example_universe[\"cutoff\"] = example_universe[\"cutoff\"][0]\n",
    "example_universe[\"eval_fairness_grouping\"] = example_universe[\"eval_fairness_grouping\"][0]\n",
    "fairness_dict, metric_frame = universe_analysis.compute_metrics(\n",
    "    example_universe,\n",
    "    y_pred_prob=probs_test,\n",
    "    y_test=y_true,\n",
    "    org_test=org_test,\n",
    ")"
   ]
  },
  {
   "cell_type": "markdown",
   "id": "f95d4e02",
   "metadata": {
    "papermill": {
     "duration": 0.027759,
     "end_time": "2025-07-30T20:47:19.564674",
     "exception": false,
     "start_time": "2025-07-30T20:47:19.536915",
     "status": "completed"
    },
    "tags": []
   },
   "source": [
    "# Overall"
   ]
  },
  {
   "cell_type": "markdown",
   "id": "bdee4871",
   "metadata": {
    "papermill": {
     "duration": 0.025961,
     "end_time": "2025-07-30T20:47:19.617338",
     "exception": false,
     "start_time": "2025-07-30T20:47:19.591377",
     "status": "completed"
    },
    "tags": []
   },
   "source": [
    "Fairness\n",
    "Main fairness target: Equalized Odds. Seems to be a better fit than equal opportunity, since we're not only interested in Y = 1. Seems to be a better fit than demographic parity, since we also care about accuracy, not just equal distribution of preds.\n",
    "\n",
    "Pick column for computation of fairness metrics\n",
    "\n",
    "Performance\n",
    "Overall performance measures, most interesting in relation to the measures split by group below"
   ]
  },
  {
   "cell_type": "code",
   "execution_count": 74,
   "id": "c4e067c6",
   "metadata": {
    "execution": {
     "iopub.execute_input": "2025-07-30T20:47:19.673529Z",
     "iopub.status.busy": "2025-07-30T20:47:19.672989Z",
     "iopub.status.idle": "2025-07-30T20:47:19.681980Z",
     "shell.execute_reply": "2025-07-30T20:47:19.681016Z"
    },
    "papermill": {
     "duration": 0.038569,
     "end_time": "2025-07-30T20:47:19.683532",
     "exception": false,
     "start_time": "2025-07-30T20:47:19.644963",
     "status": "completed"
    },
    "tags": []
   },
   "outputs": [
    {
     "data": {
      "text/plain": [
       "accuracy                   0.201304\n",
       "balanced accuracy          0.534660\n",
       "f1                         0.239995\n",
       "precision                  0.136682\n",
       "false positive rate        0.913736\n",
       "false negative rate        0.016945\n",
       "selection rate             0.922628\n",
       "count                  89710.000000\n",
       "dtype: float64"
      ]
     },
     "execution_count": 74,
     "metadata": {},
     "output_type": "execute_result"
    }
   ],
   "source": [
    "metric_frame.overall"
   ]
  },
  {
   "cell_type": "markdown",
   "id": "e968fe9d",
   "metadata": {
    "papermill": {
     "duration": 0.025614,
     "end_time": "2025-07-30T20:47:19.736268",
     "exception": false,
     "start_time": "2025-07-30T20:47:19.710654",
     "status": "completed"
    },
    "tags": []
   },
   "source": [
    "By Group"
   ]
  },
  {
   "cell_type": "code",
   "execution_count": 75,
   "id": "ec325bce",
   "metadata": {
    "execution": {
     "iopub.execute_input": "2025-07-30T20:47:19.790900Z",
     "iopub.status.busy": "2025-07-30T20:47:19.790449Z",
     "iopub.status.idle": "2025-07-30T20:47:19.806484Z",
     "shell.execute_reply": "2025-07-30T20:47:19.805388Z"
    },
    "papermill": {
     "duration": 0.045488,
     "end_time": "2025-07-30T20:47:19.808393",
     "exception": false,
     "start_time": "2025-07-30T20:47:19.762905",
     "status": "completed"
    },
    "tags": []
   },
   "outputs": [
    {
     "data": {
      "text/html": [
       "<div>\n",
       "<style scoped>\n",
       "    .dataframe tbody tr th:only-of-type {\n",
       "        vertical-align: middle;\n",
       "    }\n",
       "\n",
       "    .dataframe tbody tr th {\n",
       "        vertical-align: top;\n",
       "    }\n",
       "\n",
       "    .dataframe thead th {\n",
       "        text-align: right;\n",
       "    }\n",
       "</style>\n",
       "<table border=\"1\" class=\"dataframe\">\n",
       "  <thead>\n",
       "    <tr style=\"text-align: right;\">\n",
       "      <th></th>\n",
       "      <th>accuracy</th>\n",
       "      <th>balanced accuracy</th>\n",
       "      <th>f1</th>\n",
       "      <th>precision</th>\n",
       "      <th>false positive rate</th>\n",
       "      <th>false negative rate</th>\n",
       "      <th>selection rate</th>\n",
       "      <th>count</th>\n",
       "    </tr>\n",
       "    <tr>\n",
       "      <th>majmin</th>\n",
       "      <th></th>\n",
       "      <th></th>\n",
       "      <th></th>\n",
       "      <th></th>\n",
       "      <th></th>\n",
       "      <th></th>\n",
       "      <th></th>\n",
       "      <th></th>\n",
       "    </tr>\n",
       "  </thead>\n",
       "  <tbody>\n",
       "    <tr>\n",
       "      <th>majority</th>\n",
       "      <td>0.195012</td>\n",
       "      <td>0.532560</td>\n",
       "      <td>0.245546</td>\n",
       "      <td>0.140127</td>\n",
       "      <td>0.926237</td>\n",
       "      <td>0.008643</td>\n",
       "      <td>0.934842</td>\n",
       "      <td>69170.0</td>\n",
       "    </tr>\n",
       "    <tr>\n",
       "      <th>minority</th>\n",
       "      <td>0.222493</td>\n",
       "      <td>0.539286</td>\n",
       "      <td>0.219986</td>\n",
       "      <td>0.124379</td>\n",
       "      <td>0.872441</td>\n",
       "      <td>0.048986</td>\n",
       "      <td>0.881500</td>\n",
       "      <td>20540.0</td>\n",
       "    </tr>\n",
       "  </tbody>\n",
       "</table>\n",
       "</div>"
      ],
      "text/plain": [
       "          accuracy  balanced accuracy        f1  precision  \\\n",
       "majmin                                                       \n",
       "majority  0.195012           0.532560  0.245546   0.140127   \n",
       "minority  0.222493           0.539286  0.219986   0.124379   \n",
       "\n",
       "          false positive rate  false negative rate  selection rate    count  \n",
       "majmin                                                                       \n",
       "majority             0.926237             0.008643        0.934842  69170.0  \n",
       "minority             0.872441             0.048986        0.881500  20540.0  "
      ]
     },
     "execution_count": 75,
     "metadata": {},
     "output_type": "execute_result"
    }
   ],
   "source": [
    "metric_frame.by_group"
   ]
  },
  {
   "cell_type": "code",
   "execution_count": 76,
   "id": "a9ddbe63",
   "metadata": {
    "execution": {
     "iopub.execute_input": "2025-07-30T20:47:19.865512Z",
     "iopub.status.busy": "2025-07-30T20:47:19.865005Z",
     "iopub.status.idle": "2025-07-30T20:47:22.258253Z",
     "shell.execute_reply": "2025-07-30T20:47:22.257093Z"
    },
    "papermill": {
     "duration": 2.423146,
     "end_time": "2025-07-30T20:47:22.260185",
     "exception": false,
     "start_time": "2025-07-30T20:47:19.837039",
     "status": "completed"
    },
    "tags": []
   },
   "outputs": [
    {
     "data": {
      "text/plain": [
       "array([[<Axes: title={'center': 'accuracy'}, xlabel='majmin'>,\n",
       "        <Axes: title={'center': 'balanced accuracy'}, xlabel='majmin'>,\n",
       "        <Axes: title={'center': 'f1'}, xlabel='majmin'>],\n",
       "       [<Axes: title={'center': 'precision'}, xlabel='majmin'>,\n",
       "        <Axes: title={'center': 'false positive rate'}, xlabel='majmin'>,\n",
       "        <Axes: title={'center': 'false negative rate'}, xlabel='majmin'>],\n",
       "       [<Axes: title={'center': 'selection rate'}, xlabel='majmin'>,\n",
       "        <Axes: title={'center': 'count'}, xlabel='majmin'>,\n",
       "        <Axes: xlabel='majmin'>]], dtype=object)"
      ]
     },
     "execution_count": 76,
     "metadata": {},
     "output_type": "execute_result"
    },
    {
     "data": {
      "image/png": "[encoded data removed]",
      "text/plain": [
       "<Figure size 1200x800 with 9 Axes>"
      ]
     },
     "metadata": {},
     "output_type": "display_data"
    }
   ],
   "source": [
    "# In a graphic\n",
    "metric_frame.by_group.plot.bar(\n",
    "    subplots=True,\n",
    "    layout=[3, 3],\n",
    "    legend=False,\n",
    "    figsize=[12, 8],\n",
    "    title=\"Show all metrics\",\n",
    ")"
   ]
  },
  {
   "cell_type": "markdown",
   "id": "f57a0bac",
   "metadata": {
    "papermill": {
     "duration": 0.028798,
     "end_time": "2025-07-30T20:47:22.320634",
     "exception": false,
     "start_time": "2025-07-30T20:47:22.291836",
     "status": "completed"
    },
    "tags": []
   },
   "source": [
    "# Final Output"
   ]
  },
  {
   "cell_type": "code",
   "execution_count": 77,
   "id": "96d280a3",
   "metadata": {
    "execution": {
     "iopub.execute_input": "2025-07-30T20:47:22.383940Z",
     "iopub.status.busy": "2025-07-30T20:47:22.383166Z",
     "iopub.status.idle": "2025-07-30T20:47:22.392776Z",
     "shell.execute_reply": "2025-07-30T20:47:22.391773Z"
    },
    "papermill": {
     "duration": 0.045728,
     "end_time": "2025-07-30T20:47:22.395919",
     "exception": false,
     "start_time": "2025-07-30T20:47:22.350191",
     "status": "completed"
    },
    "tags": []
   },
   "outputs": [
    {
     "data": {
      "text/plain": [
       "4"
      ]
     },
     "execution_count": 77,
     "metadata": {},
     "output_type": "execute_result"
    }
   ],
   "source": [
    "sub_universes = universe_analysis.generate_sub_universes()\n",
    "len(sub_universes)"
   ]
  },
  {
   "cell_type": "code",
   "execution_count": 78,
   "id": "92adf7ba",
   "metadata": {
    "execution": {
     "iopub.execute_input": "2025-07-30T20:47:22.530638Z",
     "iopub.status.busy": "2025-07-30T20:47:22.530219Z",
     "iopub.status.idle": "2025-07-30T20:47:22.536582Z",
     "shell.execute_reply": "2025-07-30T20:47:22.535549Z"
    },
    "papermill": {
     "duration": 0.069354,
     "end_time": "2025-07-30T20:47:22.538103",
     "exception": false,
     "start_time": "2025-07-30T20:47:22.468749",
     "status": "completed"
    },
    "tags": []
   },
   "outputs": [],
   "source": [
    "def filter_sub_universe_data(sub_universe, org_test):\n",
    "    # Keep all rows — no filtering\n",
    "    keep_rows_mask = np.ones(org_test.shape[0], dtype=bool)\n",
    "\n",
    "    print(f\"[INFO] Keeping all rows: {keep_rows_mask.sum()} rows retained.\")\n",
    "    return keep_rows_mask"
   ]
  },
  {
   "cell_type": "code",
   "execution_count": 79,
   "id": "4a759155",
   "metadata": {
    "execution": {
     "iopub.execute_input": "2025-07-30T20:47:22.627582Z",
     "iopub.status.busy": "2025-07-30T20:47:22.627140Z",
     "iopub.status.idle": "2025-07-30T20:47:30.908884Z",
     "shell.execute_reply": "2025-07-30T20:47:30.908098Z"
    },
    "papermill": {
     "duration": 8.344627,
     "end_time": "2025-07-30T20:47:30.910105",
     "exception": false,
     "start_time": "2025-07-30T20:47:22.565478",
     "status": "completed"
    },
    "tags": []
   },
   "outputs": [
    {
     "name": "stdout",
     "output_type": "stream",
     "text": [
      "Stopping execution_time clock.\n",
      "[INFO] Keeping all rows: 89710 rows retained.\n"
     ]
    },
    {
     "name": "stdout",
     "output_type": "stream",
     "text": [
      "[INFO] Keeping all rows: 89710 rows retained.\n"
     ]
    },
    {
     "name": "stdout",
     "output_type": "stream",
     "text": [
      "[INFO] Keeping all rows: 89710 rows retained.\n"
     ]
    },
    {
     "name": "stdout",
     "output_type": "stream",
     "text": [
      "[INFO] Keeping all rows: 89710 rows retained.\n"
     ]
    },
    {
     "data": {
      "text/html": [
       "<div>\n",
       "<style scoped>\n",
       "    .dataframe tbody tr th:only-of-type {\n",
       "        vertical-align: middle;\n",
       "    }\n",
       "\n",
       "    .dataframe tbody tr th {\n",
       "        vertical-align: top;\n",
       "    }\n",
       "\n",
       "    .dataframe thead th {\n",
       "        text-align: right;\n",
       "    }\n",
       "</style>\n",
       "<table border=\"1\" class=\"dataframe\">\n",
       "  <thead>\n",
       "    <tr style=\"text-align: right;\">\n",
       "      <th></th>\n",
       "      <th>run_no</th>\n",
       "      <th>universe_id</th>\n",
       "      <th>universe_settings</th>\n",
       "      <th>execution_time</th>\n",
       "      <th>test_size_n</th>\n",
       "      <th>test_size_frac</th>\n",
       "      <th>fair_main_equalized_odds_difference</th>\n",
       "      <th>fair_main_equalized_odds_ratio</th>\n",
       "      <th>fair_main_demographic_parity_difference</th>\n",
       "      <th>fair_main_demographic_parity_ratio</th>\n",
       "      <th>...</th>\n",
       "      <th>perf_grp_precision_0</th>\n",
       "      <th>perf_grp_precision_1</th>\n",
       "      <th>perf_grp_false positive rate_0</th>\n",
       "      <th>perf_grp_false positive rate_1</th>\n",
       "      <th>perf_grp_false negative rate_0</th>\n",
       "      <th>perf_grp_false negative rate_1</th>\n",
       "      <th>perf_grp_selection rate_0</th>\n",
       "      <th>perf_grp_selection rate_1</th>\n",
       "      <th>perf_grp_count_0</th>\n",
       "      <th>perf_grp_count_1</th>\n",
       "    </tr>\n",
       "  </thead>\n",
       "  <tbody>\n",
       "    <tr>\n",
       "      <th>0</th>\n",
       "      <td>14</td>\n",
       "      <td>dac7cbfc7f92adc178e95657fee9f2f9</td>\n",
       "      <td>{\"cutoff\": \"quantile_0.1\", \"eval_fairness_grou...</td>\n",
       "      <td>29.759058</td>\n",
       "      <td>89710</td>\n",
       "      <td>1.0</td>\n",
       "      <td>0.053796</td>\n",
       "      <td>0.941920</td>\n",
       "      <td>0.053342</td>\n",
       "      <td>0.942940</td>\n",
       "      <td>...</td>\n",
       "      <td>NaN</td>\n",
       "      <td>NaN</td>\n",
       "      <td>NaN</td>\n",
       "      <td>NaN</td>\n",
       "      <td>NaN</td>\n",
       "      <td>NaN</td>\n",
       "      <td>NaN</td>\n",
       "      <td>NaN</td>\n",
       "      <td>NaN</td>\n",
       "      <td>NaN</td>\n",
       "    </tr>\n",
       "    <tr>\n",
       "      <th>0</th>\n",
       "      <td>14</td>\n",
       "      <td>dac7cbfc7f92adc178e95657fee9f2f9</td>\n",
       "      <td>{\"cutoff\": \"quantile_0.1\", \"eval_fairness_grou...</td>\n",
       "      <td>29.759058</td>\n",
       "      <td>89710</td>\n",
       "      <td>1.0</td>\n",
       "      <td>0.053796</td>\n",
       "      <td>0.941920</td>\n",
       "      <td>0.053342</td>\n",
       "      <td>0.942940</td>\n",
       "      <td>...</td>\n",
       "      <td>0.124379</td>\n",
       "      <td>0.140127</td>\n",
       "      <td>0.872441</td>\n",
       "      <td>0.926237</td>\n",
       "      <td>0.048986</td>\n",
       "      <td>0.008643</td>\n",
       "      <td>0.881500</td>\n",
       "      <td>0.934842</td>\n",
       "      <td>20540.0</td>\n",
       "      <td>69170.0</td>\n",
       "    </tr>\n",
       "    <tr>\n",
       "      <th>0</th>\n",
       "      <td>14</td>\n",
       "      <td>dac7cbfc7f92adc178e95657fee9f2f9</td>\n",
       "      <td>{\"cutoff\": \"quantile_0.25\", \"eval_fairness_gro...</td>\n",
       "      <td>29.759058</td>\n",
       "      <td>89710</td>\n",
       "      <td>1.0</td>\n",
       "      <td>0.095522</td>\n",
       "      <td>0.899253</td>\n",
       "      <td>0.069313</td>\n",
       "      <td>0.910834</td>\n",
       "      <td>...</td>\n",
       "      <td>NaN</td>\n",
       "      <td>NaN</td>\n",
       "      <td>NaN</td>\n",
       "      <td>NaN</td>\n",
       "      <td>NaN</td>\n",
       "      <td>NaN</td>\n",
       "      <td>NaN</td>\n",
       "      <td>NaN</td>\n",
       "      <td>NaN</td>\n",
       "      <td>NaN</td>\n",
       "    </tr>\n",
       "    <tr>\n",
       "      <th>0</th>\n",
       "      <td>14</td>\n",
       "      <td>dac7cbfc7f92adc178e95657fee9f2f9</td>\n",
       "      <td>{\"cutoff\": \"quantile_0.25\", \"eval_fairness_gro...</td>\n",
       "      <td>29.759058</td>\n",
       "      <td>89710</td>\n",
       "      <td>1.0</td>\n",
       "      <td>0.095522</td>\n",
       "      <td>0.899253</td>\n",
       "      <td>0.069313</td>\n",
       "      <td>0.910834</td>\n",
       "      <td>...</td>\n",
       "      <td>0.138830</td>\n",
       "      <td>0.161171</td>\n",
       "      <td>0.689192</td>\n",
       "      <td>0.751341</td>\n",
       "      <td>0.147382</td>\n",
       "      <td>0.051860</td>\n",
       "      <td>0.708033</td>\n",
       "      <td>0.777346</td>\n",
       "      <td>20540.0</td>\n",
       "      <td>69170.0</td>\n",
       "    </tr>\n",
       "  </tbody>\n",
       "</table>\n",
       "<p>4 rows × 50 columns</p>\n",
       "</div>"
      ],
      "text/plain": [
       "  run_no                       universe_id  \\\n",
       "0     14  dac7cbfc7f92adc178e95657fee9f2f9   \n",
       "0     14  dac7cbfc7f92adc178e95657fee9f2f9   \n",
       "0     14  dac7cbfc7f92adc178e95657fee9f2f9   \n",
       "0     14  dac7cbfc7f92adc178e95657fee9f2f9   \n",
       "\n",
       "                                   universe_settings  execution_time  \\\n",
       "0  {\"cutoff\": \"quantile_0.1\", \"eval_fairness_grou...       29.759058   \n",
       "0  {\"cutoff\": \"quantile_0.1\", \"eval_fairness_grou...       29.759058   \n",
       "0  {\"cutoff\": \"quantile_0.25\", \"eval_fairness_gro...       29.759058   \n",
       "0  {\"cutoff\": \"quantile_0.25\", \"eval_fairness_gro...       29.759058   \n",
       "\n",
       "   test_size_n  test_size_frac  fair_main_equalized_odds_difference  \\\n",
       "0        89710             1.0                             0.053796   \n",
       "0        89710             1.0                             0.053796   \n",
       "0        89710             1.0                             0.095522   \n",
       "0        89710             1.0                             0.095522   \n",
       "\n",
       "   fair_main_equalized_odds_ratio  fair_main_demographic_parity_difference  \\\n",
       "0                        0.941920                                 0.053342   \n",
       "0                        0.941920                                 0.053342   \n",
       "0                        0.899253                                 0.069313   \n",
       "0                        0.899253                                 0.069313   \n",
       "\n",
       "   fair_main_demographic_parity_ratio  ...  perf_grp_precision_0  \\\n",
       "0                            0.942940  ...                   NaN   \n",
       "0                            0.942940  ...              0.124379   \n",
       "0                            0.910834  ...                   NaN   \n",
       "0                            0.910834  ...              0.138830   \n",
       "\n",
       "   perf_grp_precision_1  perf_grp_false positive rate_0  \\\n",
       "0                   NaN                             NaN   \n",
       "0              0.140127                        0.872441   \n",
       "0                   NaN                             NaN   \n",
       "0              0.161171                        0.689192   \n",
       "\n",
       "   perf_grp_false positive rate_1  perf_grp_false negative rate_0  \\\n",
       "0                             NaN                             NaN   \n",
       "0                        0.926237                        0.048986   \n",
       "0                             NaN                             NaN   \n",
       "0                        0.751341                        0.147382   \n",
       "\n",
       "   perf_grp_false negative rate_1  perf_grp_selection rate_0  \\\n",
       "0                             NaN                        NaN   \n",
       "0                        0.008643                   0.881500   \n",
       "0                             NaN                        NaN   \n",
       "0                        0.051860                   0.708033   \n",
       "\n",
       "   perf_grp_selection rate_1  perf_grp_count_0  perf_grp_count_1  \n",
       "0                        NaN               NaN               NaN  \n",
       "0                   0.934842           20540.0           69170.0  \n",
       "0                        NaN               NaN               NaN  \n",
       "0                   0.777346           20540.0           69170.0  \n",
       "\n",
       "[4 rows x 50 columns]"
      ]
     },
     "execution_count": 79,
     "metadata": {},
     "output_type": "execute_result"
    }
   ],
   "source": [
    "final_output = universe_analysis.generate_final_output(\n",
    "    y_pred_prob=probs_test,\n",
    "    y_test=y_true,\n",
    "    org_test=org_test,\n",
    "    filter_data=filter_sub_universe_data,\n",
    "    cp_metrics_df=cp_metrics_df,\n",
    "    save=True,\n",
    ")\n",
    "final_output"
   ]
  },
  {
   "cell_type": "code",
   "execution_count": null,
   "id": "721ff514-cb11-46f8-b6fc-50392f74b5cb",
   "metadata": {
    "papermill": {
     "duration": 0.015191,
     "end_time": "2025-07-30T20:47:30.946202",
     "exception": false,
     "start_time": "2025-07-30T20:47:30.931011",
     "status": "completed"
    },
    "tags": []
   },
   "outputs": [],
   "source": []
  }
 ],
 "metadata": {
  "celltoolbar": "Tags",
  "kernelspec": {
   "display_name": "Python (CMA Fairness)",
   "language": "python",
   "name": "cma_fair_env"
  },
  "language_info": {
   "codemirror_mode": {
    "name": "ipython",
    "version": 3
   },
   "file_extension": ".py",
   "mimetype": "text/x-python",
   "name": "python",
   "nbconvert_exporter": "python",
   "pygments_lexer": "ipython3",
   "version": "3.10.12"
  },
  "papermill": {
   "default_parameters": {},
   "duration": 42.880537,
   "end_time": "2025-07-30T20:47:31.678850",
   "environment_variables": {},
   "exception": null,
   "input_path": "universe_analysis.ipynb",
   "output_path": "output/runs/14/notebooks/m_14-dac7cbfc7f92adc178e95657fee9f2f9.ipynb",
   "parameters": {
    "output_dir": "output",
    "run_no": "14",
    "seed": "2023",
    "universe": "{\"cutoff\": [\"quantile_0.1\", \"quantile_0.25\"], \"eval_fairness_grouping\": [\"majority-minority\", \"nationality-all\"], \"exclude_features\": \"age\", \"exclude_subgroups\": \"keep-all\", \"model\": \"rf\", \"scale\": \"scale\", \"training_size\": \"5k\", \"training_year\": \"2014\"}",
    "universe_id": "dac7cbfc7f92adc178e95657fee9f2f9"
   },
   "start_time": "2025-07-30T20:46:48.798313",
   "version": "2.6.0"
  }
 },
 "nbformat": 4,
 "nbformat_minor": 5
}