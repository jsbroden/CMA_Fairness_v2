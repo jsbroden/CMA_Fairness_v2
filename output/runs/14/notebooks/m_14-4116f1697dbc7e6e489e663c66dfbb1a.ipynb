{
 "cells": [
  {
   "cell_type": "code",
   "execution_count": 1,
   "id": "f159f837-637b-42ba-96b5-ec9a68c44524",
   "metadata": {
    "execution": {
     "iopub.execute_input": "2025-07-30T21:28:58.816870Z",
     "iopub.status.busy": "2025-07-30T21:28:58.816482Z",
     "iopub.status.idle": "2025-07-30T21:28:58.831381Z",
     "shell.execute_reply": "2025-07-30T21:28:58.830275Z"
    },
    "papermill": {
     "duration": 0.039499,
     "end_time": "2025-07-30T21:28:58.833507",
     "exception": false,
     "start_time": "2025-07-30T21:28:58.794008",
     "status": "completed"
    },
    "tags": []
   },
   "outputs": [
    {
     "name": "stdout",
     "output_type": "stream",
     "text": [
      "/dss/dsshome1/0C/ra93lal2/cma/CMA_Fairness_v2\n"
     ]
    },
    {
     "name": "stderr",
     "output_type": "stream",
     "text": [
      "/dss/dsshome1/0C/ra93lal2/.local/share/virtualenvs/CMA_Fairness_v2-3j10GkSs/lib/python3.10/site-packages/IPython/core/magics/osm.py:393: UserWarning: This is now an optional IPython functionality, using bookmarks requires you to install the `pickleshare` library.\n",
      "  bkms = self.shell.db.get('bookmarks', {})\n",
      "/dss/dsshome1/0C/ra93lal2/.local/share/virtualenvs/CMA_Fairness_v2-3j10GkSs/lib/python3.10/site-packages/IPython/core/magics/osm.py:417: UserWarning: This is now an optional IPython functionality, setting dhist requires you to install the `pickleshare` library.\n",
      "  self.shell.db['dhist'] = compress_dhist(dhist)[-100:]\n"
     ]
    }
   ],
   "source": [
    "%cd ~/cma/CMA_Fairness_v2"
   ]
  },
  {
   "cell_type": "markdown",
   "id": "de2603b9",
   "metadata": {
    "papermill": {
     "duration": 0.020153,
     "end_time": "2025-07-30T21:28:58.874966",
     "exception": false,
     "start_time": "2025-07-30T21:28:58.854813",
     "status": "completed"
    },
    "tags": []
   },
   "source": [
    "The following cell holds the definition of our parameters, these values can be overriden by rendering the with e.g. the following command:\n",
    "\n",
    "papermill -p alpha 0.2 -p ratio 0.3 universe_analysis.ipynb output/test_run.ipynb"
   ]
  },
  {
   "cell_type": "code",
   "execution_count": 2,
   "id": "a80968a0-40bb-4fa9-85ef-2d5eefb01975",
   "metadata": {
    "execution": {
     "iopub.execute_input": "2025-07-30T21:28:58.917471Z",
     "iopub.status.busy": "2025-07-30T21:28:58.916497Z",
     "iopub.status.idle": "2025-07-30T21:28:58.922270Z",
     "shell.execute_reply": "2025-07-30T21:28:58.921369Z"
    },
    "papermill": {
     "duration": 0.028658,
     "end_time": "2025-07-30T21:28:58.923953",
     "exception": false,
     "start_time": "2025-07-30T21:28:58.895295",
     "status": "completed"
    },
    "tags": []
   },
   "outputs": [
    {
     "name": "stdout",
     "output_type": "stream",
     "text": [
      "Current working directory: /dss/dsshome1/0C/ra93lal2/cma/CMA_Fairness_v2\n"
     ]
    }
   ],
   "source": [
    "import os\n",
    "print(\"Current working directory:\", os.getcwd())"
   ]
  },
  {
   "cell_type": "code",
   "execution_count": 3,
   "id": "2dce4c03",
   "metadata": {
    "execution": {
     "iopub.execute_input": "2025-07-30T21:28:58.966787Z",
     "iopub.status.busy": "2025-07-30T21:28:58.966120Z",
     "iopub.status.idle": "2025-07-30T21:28:58.971355Z",
     "shell.execute_reply": "2025-07-30T21:28:58.970566Z"
    },
    "papermill": {
     "duration": 0.027927,
     "end_time": "2025-07-30T21:28:58.972987",
     "exception": false,
     "start_time": "2025-07-30T21:28:58.945060",
     "status": "completed"
    },
    "tags": [
     "parameters"
    ]
   },
   "outputs": [],
   "source": [
    "run_no = 0\n",
    "universe_id = \"test\"\n",
    "universe = {\n",
    "    \"training_size\": \"25k\", # \"25k\", \"5k\", \"1k\"\n",
    "    \"training_year\": \"2014\", # \"2014\", \"2012_14\", \"2010_14\"\n",
    "    \"scale\": \"scale\", # \"scale\", \"do-not-scale\",\n",
    "    #\"stratify_split\": \"target\", # \"none\", \"target\", \"protected-attribute\", \"both\",\n",
    "    \"model\": \"elasticnet\", # \"logreg\", \"penalized_logreg\", \"rf\", \"gbm\", \"elasticnet\"\n",
    "    \"cutoff\": [\"quantile_0.15\", \"quantile_0.30\"],\n",
    "    \"exclude_features\": \"age\", # \"none\", \"nationality\", \"sex\", \"nationality-sex\", \"age\"\n",
    "    \"exclude_subgroups\": \"keep-all\", # \"keep-all\", \"drop-non-german\"\n",
    "    \"eval_fairness_grouping\": [\"majority-minority\", \"nationality-all\"]\n",
    "}\n",
    "\n",
    "output_dir=\"./output\"\n",
    "seed=0"
   ]
  },
  {
   "cell_type": "code",
   "execution_count": 4,
   "id": "772161a6",
   "metadata": {
    "execution": {
     "iopub.execute_input": "2025-07-30T21:28:59.016480Z",
     "iopub.status.busy": "2025-07-30T21:28:59.015519Z",
     "iopub.status.idle": "2025-07-30T21:28:59.021449Z",
     "shell.execute_reply": "2025-07-30T21:28:59.020452Z"
    },
    "papermill": {
     "duration": 0.028792,
     "end_time": "2025-07-30T21:28:59.023127",
     "exception": false,
     "start_time": "2025-07-30T21:28:58.994335",
     "status": "completed"
    },
    "tags": [
     "injected-parameters"
    ]
   },
   "outputs": [],
   "source": [
    "# Parameters\n",
    "universe_id = \"4116f1697dbc7e6e489e663c66dfbb1a\"\n",
    "run_no = \"14\"\n",
    "universe = \"{\\\"cutoff\\\": [\\\"quantile_0.1\\\", \\\"quantile_0.25\\\"], \\\"eval_fairness_grouping\\\": [\\\"majority-minority\\\", \\\"nationality-all\\\"], \\\"exclude_features\\\": \\\"age\\\", \\\"exclude_subgroups\\\": \\\"drop-non-german\\\", \\\"model\\\": \\\"penalized_logreg\\\", \\\"scale\\\": \\\"do-not-scale\\\", \\\"training_size\\\": \\\"1k\\\", \\\"training_year\\\": \\\"2014\\\"}\"\n",
    "output_dir = \"output\"\n",
    "seed = \"2023\"\n"
   ]
  },
  {
   "cell_type": "code",
   "execution_count": 5,
   "id": "1650acaf",
   "metadata": {
    "execution": {
     "iopub.execute_input": "2025-07-30T21:28:59.065806Z",
     "iopub.status.busy": "2025-07-30T21:28:59.065301Z",
     "iopub.status.idle": "2025-07-30T21:28:59.070781Z",
     "shell.execute_reply": "2025-07-30T21:28:59.069783Z"
    },
    "papermill": {
     "duration": 0.028751,
     "end_time": "2025-07-30T21:28:59.072680",
     "exception": false,
     "start_time": "2025-07-30T21:28:59.043929",
     "status": "completed"
    },
    "tags": []
   },
   "outputs": [],
   "source": [
    "import json\n",
    "# Parse universe into dict if it is passed as a string\n",
    "if isinstance(universe, str):\n",
    "    universe = json.loads(universe)"
   ]
  },
  {
   "cell_type": "code",
   "execution_count": 6,
   "id": "16620c48",
   "metadata": {
    "execution": {
     "iopub.execute_input": "2025-07-30T21:28:59.116212Z",
     "iopub.status.busy": "2025-07-30T21:28:59.115685Z",
     "iopub.status.idle": "2025-07-30T21:28:59.161308Z",
     "shell.execute_reply": "2025-07-30T21:28:59.160377Z"
    },
    "papermill": {
     "duration": 0.067987,
     "end_time": "2025-07-30T21:28:59.163205",
     "exception": false,
     "start_time": "2025-07-30T21:28:59.095218",
     "status": "completed"
    },
    "tags": []
   },
   "outputs": [],
   "source": [
    "# Auto-reload the custom package\n",
    "%load_ext autoreload\n",
    "%autoreload 1\n",
    "%aimport fairness_multiverse"
   ]
  },
  {
   "cell_type": "code",
   "execution_count": 7,
   "id": "01c5c9f3",
   "metadata": {
    "execution": {
     "iopub.execute_input": "2025-07-30T21:28:59.197001Z",
     "iopub.status.busy": "2025-07-30T21:28:59.196449Z",
     "iopub.status.idle": "2025-07-30T21:29:00.967219Z",
     "shell.execute_reply": "2025-07-30T21:29:00.966078Z"
    },
    "papermill": {
     "duration": 1.793434,
     "end_time": "2025-07-30T21:29:00.969427",
     "exception": false,
     "start_time": "2025-07-30T21:28:59.175993",
     "status": "completed"
    },
    "tags": []
   },
   "outputs": [],
   "source": [
    "from fairness_multiverse.universe import UniverseAnalysis\n",
    "\n",
    "universe_analysis = UniverseAnalysis(\n",
    "    run_no = run_no,\n",
    "    universe_id = universe_id,\n",
    "    universe = universe,\n",
    "    output_dir=output_dir,\n",
    ")"
   ]
  },
  {
   "cell_type": "code",
   "execution_count": 8,
   "id": "106241f5",
   "metadata": {
    "execution": {
     "iopub.execute_input": "2025-07-30T21:29:01.012347Z",
     "iopub.status.busy": "2025-07-30T21:29:01.011781Z",
     "iopub.status.idle": "2025-07-30T21:29:01.018625Z",
     "shell.execute_reply": "2025-07-30T21:29:01.017611Z"
    },
    "papermill": {
     "duration": 0.030045,
     "end_time": "2025-07-30T21:29:01.020497",
     "exception": false,
     "start_time": "2025-07-30T21:29:00.990452",
     "status": "completed"
    },
    "tags": []
   },
   "outputs": [
    {
     "name": "stdout",
     "output_type": "stream",
     "text": [
      "Using Seed: 2023\n"
     ]
    }
   ],
   "source": [
    "import numpy as np\n",
    "parsed_seed = int(seed)\n",
    "np.random.seed(parsed_seed)\n",
    "print(f\"Using Seed: {parsed_seed}\")"
   ]
  },
  {
   "cell_type": "markdown",
   "id": "e0ebdc57",
   "metadata": {
    "papermill": {
     "duration": 0.020442,
     "end_time": "2025-07-30T21:29:01.062005",
     "exception": false,
     "start_time": "2025-07-30T21:29:01.041563",
     "status": "completed"
    },
    "tags": []
   },
   "source": [
    "# Loading Data"
   ]
  },
  {
   "cell_type": "markdown",
   "id": "681925a3",
   "metadata": {
    "papermill": {
     "duration": 0.020415,
     "end_time": "2025-07-30T21:29:01.103142",
     "exception": false,
     "start_time": "2025-07-30T21:29:01.082727",
     "status": "completed"
    },
    "tags": []
   },
   "source": [
    "Load siab_train, siab_test, siab_calib and/or \n",
    "load siab_train_features, siab_train_labels"
   ]
  },
  {
   "cell_type": "code",
   "execution_count": 9,
   "id": "f0496b8a",
   "metadata": {
    "execution": {
     "iopub.execute_input": "2025-07-30T21:29:01.146700Z",
     "iopub.status.busy": "2025-07-30T21:29:01.145867Z",
     "iopub.status.idle": "2025-07-30T21:29:12.253433Z",
     "shell.execute_reply": "2025-07-30T21:29:12.252526Z"
    },
    "papermill": {
     "duration": 11.131186,
     "end_time": "2025-07-30T21:29:12.254991",
     "exception": false,
     "start_time": "2025-07-30T21:29:01.123805",
     "status": "completed"
    },
    "tags": []
   },
   "outputs": [
    {
     "name": "stdout",
     "output_type": "stream",
     "text": [
      "Loading SIAB data from cache: data/siab_cached.csv.gz\n"
     ]
    },
    {
     "name": "stdout",
     "output_type": "stream",
     "text": [
      "(643690, 164)\n"
     ]
    }
   ],
   "source": [
    "from pathlib import Path\n",
    "import pandas as pd\n",
    "\n",
    "# File paths\n",
    "raw_file = Path(\"data/raw/siab.csv\")\n",
    "cache_file = Path(\"data/siab_cached.csv.gz\")\n",
    "\n",
    "# Ensure cache directory exists\n",
    "cache_file.parent.mkdir(parents=True, exist_ok=True)\n",
    "\n",
    "# Load with simple caching\n",
    "if cache_file.exists():\n",
    "    print(f\"Loading SIAB data from cache: {cache_file}\")\n",
    "    siab = pd.read_csv(cache_file, compression='gzip')\n",
    "else:\n",
    "    print(f\"Cache not found. Reading raw SIAB data: {raw_file}\")\n",
    "    siab = pd.read_csv(raw_file)\n",
    "    siab.to_csv(cache_file, index=False, compression='gzip')\n",
    "    print(f\"Cached SIAB data to: {cache_file}\")\n",
    "\n",
    "# Now use `siab` DataFrame as needed\n",
    "print(siab.shape)"
   ]
  },
  {
   "cell_type": "code",
   "execution_count": 10,
   "id": "db0ca512-5f53-4dba-abdb-a2888bca41ba",
   "metadata": {
    "execution": {
     "iopub.execute_input": "2025-07-30T21:29:12.280391Z",
     "iopub.status.busy": "2025-07-30T21:29:12.279756Z",
     "iopub.status.idle": "2025-07-30T21:29:12.284802Z",
     "shell.execute_reply": "2025-07-30T21:29:12.284013Z"
    },
    "papermill": {
     "duration": 0.017532,
     "end_time": "2025-07-30T21:29:12.286044",
     "exception": false,
     "start_time": "2025-07-30T21:29:12.268512",
     "status": "completed"
    },
    "tags": []
   },
   "outputs": [],
   "source": [
    "#siab"
   ]
  },
  {
   "cell_type": "code",
   "execution_count": 11,
   "id": "a0edb063",
   "metadata": {
    "execution": {
     "iopub.execute_input": "2025-07-30T21:29:12.309085Z",
     "iopub.status.busy": "2025-07-30T21:29:12.308463Z",
     "iopub.status.idle": "2025-07-30T21:29:12.312973Z",
     "shell.execute_reply": "2025-07-30T21:29:12.312188Z"
    },
    "papermill": {
     "duration": 0.01689,
     "end_time": "2025-07-30T21:29:12.314437",
     "exception": false,
     "start_time": "2025-07-30T21:29:12.297547",
     "status": "completed"
    },
    "tags": []
   },
   "outputs": [],
   "source": [
    "#import pandas as pd\n",
    "#\n",
    "#X_train = pd.read_csv(\"./data/X_train.csv\")\n",
    "#y_train = pd.read_csv(\"./data/y_train.csv\")"
   ]
  },
  {
   "cell_type": "code",
   "execution_count": 12,
   "id": "63d08085",
   "metadata": {
    "execution": {
     "iopub.execute_input": "2025-07-30T21:29:12.337691Z",
     "iopub.status.busy": "2025-07-30T21:29:12.336982Z",
     "iopub.status.idle": "2025-07-30T21:29:12.341206Z",
     "shell.execute_reply": "2025-07-30T21:29:12.340480Z"
    },
    "papermill": {
     "duration": 0.016609,
     "end_time": "2025-07-30T21:29:12.342463",
     "exception": false,
     "start_time": "2025-07-30T21:29:12.325854",
     "status": "completed"
    },
    "tags": []
   },
   "outputs": [],
   "source": [
    "#X_test = pd.read_csv(\"./data/X_test.csv\")\n",
    "#y_true = pd.read_csv(\"./data/y_test.csv\")"
   ]
  },
  {
   "cell_type": "code",
   "execution_count": 13,
   "id": "98a8d0fa-1d3d-4ed8-bb2c-281470e24add",
   "metadata": {
    "execution": {
     "iopub.execute_input": "2025-07-30T21:29:12.365573Z",
     "iopub.status.busy": "2025-07-30T21:29:12.365172Z",
     "iopub.status.idle": "2025-07-30T21:29:12.370318Z",
     "shell.execute_reply": "2025-07-30T21:29:12.369362Z"
    },
    "papermill": {
     "duration": 0.018393,
     "end_time": "2025-07-30T21:29:12.372245",
     "exception": false,
     "start_time": "2025-07-30T21:29:12.353852",
     "status": "completed"
    },
    "tags": []
   },
   "outputs": [],
   "source": [
    "# Calibration data for conformal\n",
    "#X_calib = pd.read_csv(\"./data/X_calib.csv\")\n",
    "#y_calib = pd.read_csv(\"./data/y_calib.csv\")"
   ]
  },
  {
   "cell_type": "markdown",
   "id": "997051c5-15bd-4b69-9786-c3001a3ce484",
   "metadata": {
    "papermill": {
     "duration": 0.021061,
     "end_time": "2025-07-30T21:29:12.415860",
     "exception": false,
     "start_time": "2025-07-30T21:29:12.394799",
     "status": "completed"
    },
    "tags": []
   },
   "source": [
    "# Splitting Data and Setting Training Data Size"
   ]
  },
  {
   "cell_type": "code",
   "execution_count": 14,
   "id": "e993b61f-042d-41a6-8c81-f55681f86335",
   "metadata": {
    "execution": {
     "iopub.execute_input": "2025-07-30T21:29:12.457108Z",
     "iopub.status.busy": "2025-07-30T21:29:12.456608Z",
     "iopub.status.idle": "2025-07-30T21:29:12.472308Z",
     "shell.execute_reply": "2025-07-30T21:29:12.471152Z"
    },
    "papermill": {
     "duration": 0.039491,
     "end_time": "2025-07-30T21:29:12.474187",
     "exception": false,
     "start_time": "2025-07-30T21:29:12.434696",
     "status": "completed"
    },
    "tags": []
   },
   "outputs": [],
   "source": [
    "def sample_by_year_size(df,\n",
    "                        training_year: str,\n",
    "                        training_size: str,\n",
    "                        random_state: int = 42):\n",
    "    # --- parse training_year into a list of int years ---\n",
    "    if \"_\" in training_year:\n",
    "        start_str, end_str = training_year.split(\"_\", 1)\n",
    "        start = int(start_str)\n",
    "        end   = int(end_str) if len(end_str) == 4 else (int(end_str) + (start // 100)*100)\n",
    "        years = list(range(start, end + 1))\n",
    "    else:\n",
    "        years = [int(training_year)]\n",
    "\n",
    "    df = df[df[\"year\"].isin(years)].reset_index(drop=True)\n",
    "\n",
    "    # --- map training_size to total number of samples ---\n",
    "    total_map = {\"25k\": 25_000, \"5k\": 5_000, \"1k\": 1_000}\n",
    "    if training_size not in total_map:\n",
    "        return df  # e.g. \"all\"\n",
    "\n",
    "    total_samples = total_map[training_size]\n",
    "    n_years       = len(years)\n",
    "    base          = total_samples // n_years\n",
    "    remainder     = total_samples % n_years\n",
    "\n",
    "    # --- build a dict: year -> how many to sample ---\n",
    "    # give +1 to the first `remainder` years in ascending order\n",
    "    quotas = {\n",
    "        year: base + (1 if idx < remainder else 0)\n",
    "        for idx, year in enumerate(sorted(years))\n",
    "    }\n",
    "\n",
    "    # --- sample per‐year according to the quota dict ---\n",
    "    sampled = (\n",
    "        df\n",
    "        .groupby(\"year\", group_keys=False)\n",
    "        .apply(lambda grp: grp.sample(\n",
    "            n=min(len(grp), quotas[grp.name]),\n",
    "            random_state=random_state))\n",
    "        .reset_index(drop=True)\n",
    "    )\n",
    "\n",
    "    return sampled"
   ]
  },
  {
   "cell_type": "code",
   "execution_count": 15,
   "id": "c0ccd338-0e02-41f3-a09d-f56f9266e3fb",
   "metadata": {
    "execution": {
     "iopub.execute_input": "2025-07-30T21:29:12.521944Z",
     "iopub.status.busy": "2025-07-30T21:29:12.521304Z",
     "iopub.status.idle": "2025-07-30T21:29:12.526892Z",
     "shell.execute_reply": "2025-07-30T21:29:12.525923Z"
    },
    "papermill": {
     "duration": 0.030996,
     "end_time": "2025-07-30T21:29:12.528741",
     "exception": false,
     "start_time": "2025-07-30T21:29:12.497745",
     "status": "completed"
    },
    "tags": []
   },
   "outputs": [],
   "source": [
    "#universe[\"training_size\"]"
   ]
  },
  {
   "cell_type": "code",
   "execution_count": 16,
   "id": "ca707fd7-8047-4acd-bfa5-66248fbbf8e6",
   "metadata": {
    "execution": {
     "iopub.execute_input": "2025-07-30T21:29:12.575594Z",
     "iopub.status.busy": "2025-07-30T21:29:12.574957Z",
     "iopub.status.idle": "2025-07-30T21:29:12.580086Z",
     "shell.execute_reply": "2025-07-30T21:29:12.578917Z"
    },
    "papermill": {
     "duration": 0.029808,
     "end_time": "2025-07-30T21:29:12.581769",
     "exception": false,
     "start_time": "2025-07-30T21:29:12.551961",
     "status": "completed"
    },
    "tags": []
   },
   "outputs": [],
   "source": [
    "#universe[\"training_year\"]"
   ]
  },
  {
   "cell_type": "code",
   "execution_count": 17,
   "id": "aea9c6ef-6f46-42c8-85eb-5a62025c1508",
   "metadata": {
    "execution": {
     "iopub.execute_input": "2025-07-30T21:29:12.626348Z",
     "iopub.status.busy": "2025-07-30T21:29:12.625939Z",
     "iopub.status.idle": "2025-07-30T21:29:12.880836Z",
     "shell.execute_reply": "2025-07-30T21:29:12.879881Z"
    },
    "papermill": {
     "duration": 0.279055,
     "end_time": "2025-07-30T21:29:12.882798",
     "exception": false,
     "start_time": "2025-07-30T21:29:12.603743",
     "status": "completed"
    },
    "tags": []
   },
   "outputs": [],
   "source": [
    "siab_train = sample_by_year_size(siab,\n",
    "                               training_year=universe[\"training_year\"],\n",
    "                               training_size=universe[\"training_size\"])"
   ]
  },
  {
   "cell_type": "code",
   "execution_count": 18,
   "id": "8d3afb32-789d-442c-8d5d-9f5aa8dd2eed",
   "metadata": {
    "execution": {
     "iopub.execute_input": "2025-07-30T21:29:12.925372Z",
     "iopub.status.busy": "2025-07-30T21:29:12.924702Z",
     "iopub.status.idle": "2025-07-30T21:29:12.929854Z",
     "shell.execute_reply": "2025-07-30T21:29:12.928825Z"
    },
    "papermill": {
     "duration": 0.027575,
     "end_time": "2025-07-30T21:29:12.931503",
     "exception": false,
     "start_time": "2025-07-30T21:29:12.903928",
     "status": "completed"
    },
    "tags": []
   },
   "outputs": [],
   "source": [
    "#siab_train.shape"
   ]
  },
  {
   "cell_type": "code",
   "execution_count": 19,
   "id": "d582db68-1a4c-47fb-84fc-08518dc1975a",
   "metadata": {
    "execution": {
     "iopub.execute_input": "2025-07-30T21:29:12.979107Z",
     "iopub.status.busy": "2025-07-30T21:29:12.978426Z",
     "iopub.status.idle": "2025-07-30T21:29:12.983611Z",
     "shell.execute_reply": "2025-07-30T21:29:12.982490Z"
    },
    "papermill": {
     "duration": 0.03048,
     "end_time": "2025-07-30T21:29:12.985500",
     "exception": false,
     "start_time": "2025-07-30T21:29:12.955020",
     "status": "completed"
    },
    "tags": []
   },
   "outputs": [],
   "source": [
    "#display(siab_train.groupby(\"year\").size())"
   ]
  },
  {
   "cell_type": "code",
   "execution_count": 20,
   "id": "a561edb4-d032-42cb-8256-22eac1111c64",
   "metadata": {
    "execution": {
     "iopub.execute_input": "2025-07-30T21:29:13.029629Z",
     "iopub.status.busy": "2025-07-30T21:29:13.028918Z",
     "iopub.status.idle": "2025-07-30T21:29:13.293532Z",
     "shell.execute_reply": "2025-07-30T21:29:13.292524Z"
    },
    "papermill": {
     "duration": 0.288286,
     "end_time": "2025-07-30T21:29:13.295545",
     "exception": false,
     "start_time": "2025-07-30T21:29:13.007259",
     "status": "completed"
    },
    "tags": []
   },
   "outputs": [],
   "source": [
    "#siab_train = siab_s[siab_s.year < 2015]\n",
    "siab_calib = siab[siab.year == 2015]\n",
    "siab_test = siab[siab.year == 2016]"
   ]
  },
  {
   "cell_type": "code",
   "execution_count": 21,
   "id": "472de16f-c3db-4916-846b-1f0de9cf1746",
   "metadata": {
    "execution": {
     "iopub.execute_input": "2025-07-30T21:29:13.340120Z",
     "iopub.status.busy": "2025-07-30T21:29:13.339391Z",
     "iopub.status.idle": "2025-07-30T21:29:13.346979Z",
     "shell.execute_reply": "2025-07-30T21:29:13.345989Z"
    },
    "papermill": {
     "duration": 0.0312,
     "end_time": "2025-07-30T21:29:13.348702",
     "exception": false,
     "start_time": "2025-07-30T21:29:13.317502",
     "status": "completed"
    },
    "tags": []
   },
   "outputs": [],
   "source": [
    "X_train = siab_train.iloc[:,4:164]\n",
    "y_train = siab_train.iloc[:, [3]]"
   ]
  },
  {
   "cell_type": "code",
   "execution_count": 22,
   "id": "828c96af-f43a-4ed6-ba47-8ac73a47d56c",
   "metadata": {
    "execution": {
     "iopub.execute_input": "2025-07-30T21:29:13.416196Z",
     "iopub.status.busy": "2025-07-30T21:29:13.415678Z",
     "iopub.status.idle": "2025-07-30T21:29:13.461183Z",
     "shell.execute_reply": "2025-07-30T21:29:13.460310Z"
    },
    "papermill": {
     "duration": 0.091547,
     "end_time": "2025-07-30T21:29:13.462468",
     "exception": false,
     "start_time": "2025-07-30T21:29:13.370921",
     "status": "completed"
    },
    "tags": []
   },
   "outputs": [],
   "source": [
    "X_calib = siab_calib.iloc[:,4:164]\n",
    "y_calib = siab_calib.iloc[:, [3]]"
   ]
  },
  {
   "cell_type": "code",
   "execution_count": 23,
   "id": "c34be9c3-6bd6-476e-acd3-845840e303be",
   "metadata": {
    "execution": {
     "iopub.execute_input": "2025-07-30T21:29:13.486823Z",
     "iopub.status.busy": "2025-07-30T21:29:13.486349Z",
     "iopub.status.idle": "2025-07-30T21:29:13.535906Z",
     "shell.execute_reply": "2025-07-30T21:29:13.535079Z"
    },
    "papermill": {
     "duration": 0.062577,
     "end_time": "2025-07-30T21:29:13.537370",
     "exception": false,
     "start_time": "2025-07-30T21:29:13.474793",
     "status": "completed"
    },
    "tags": []
   },
   "outputs": [],
   "source": [
    "X_test = siab_test.iloc[:,4:164]\n",
    "y_true = siab_test.iloc[:, [3]]"
   ]
  },
  {
   "cell_type": "markdown",
   "id": "9901737e-04df-44f0-9100-f5ad144ed040",
   "metadata": {
    "papermill": {
     "duration": 0.014741,
     "end_time": "2025-07-30T21:29:13.564925",
     "exception": false,
     "start_time": "2025-07-30T21:29:13.550184",
     "status": "completed"
    },
    "tags": []
   },
   "source": [
    "# Splitting Data and Setting Training Data Size OLD VERSION"
   ]
  },
  {
   "cell_type": "code",
   "execution_count": 24,
   "id": "acbc8f7d-8fc8-4e86-8c59-5dcb0f58384b",
   "metadata": {
    "execution": {
     "iopub.execute_input": "2025-07-30T21:29:13.587920Z",
     "iopub.status.busy": "2025-07-30T21:29:13.587432Z",
     "iopub.status.idle": "2025-07-30T21:29:13.592374Z",
     "shell.execute_reply": "2025-07-30T21:29:13.591553Z"
    },
    "papermill": {
     "duration": 0.017746,
     "end_time": "2025-07-30T21:29:13.593678",
     "exception": false,
     "start_time": "2025-07-30T21:29:13.575932",
     "status": "completed"
    },
    "tags": []
   },
   "outputs": [],
   "source": [
    "#def sample_by_year(df, training_size, random_state=42):\n",
    "#    if training_size == \"2014\":\n",
    "#        return df[df[\"year\"] == 2014].reset_index(drop=True)\n",
    "#    \n",
    "#    size_map = {\n",
    "#        \"25k\": 5000,\n",
    "#        \"5k\": 1000,\n",
    "#        \"1k\": 200\n",
    "#    }\n",
    "#\n",
    "#    if training_size not in size_map:\n",
    "#        return df.reset_index(drop=True)  # use all data\n",
    "#\n",
    "#    n_per_year = size_map[training_size]\n",
    "#    grouped = df.groupby(\"year\")\n",
    "#    sampled = grouped.apply(lambda x: x.sample(n=min(n_per_year, len(x)), random_state=random_state))\n",
    "#    return sampled.reset_index(drop=True)"
   ]
  },
  {
   "cell_type": "code",
   "execution_count": 25,
   "id": "6d931f52-beaf-43ff-9e78-9d44a448d54e",
   "metadata": {
    "execution": {
     "iopub.execute_input": "2025-07-30T21:29:13.619384Z",
     "iopub.status.busy": "2025-07-30T21:29:13.618775Z",
     "iopub.status.idle": "2025-07-30T21:29:13.623817Z",
     "shell.execute_reply": "2025-07-30T21:29:13.622719Z"
    },
    "papermill": {
     "duration": 0.01924,
     "end_time": "2025-07-30T21:29:13.625090",
     "exception": false,
     "start_time": "2025-07-30T21:29:13.605850",
     "status": "completed"
    },
    "tags": []
   },
   "outputs": [],
   "source": [
    "#siab_s = sample_by_year(siab, universe[\"training_size\"])"
   ]
  },
  {
   "cell_type": "code",
   "execution_count": 26,
   "id": "5db0a40e-a4e2-4920-be85-b12ae061d70d",
   "metadata": {
    "execution": {
     "iopub.execute_input": "2025-07-30T21:29:13.650108Z",
     "iopub.status.busy": "2025-07-30T21:29:13.649295Z",
     "iopub.status.idle": "2025-07-30T21:29:13.654250Z",
     "shell.execute_reply": "2025-07-30T21:29:13.653473Z"
    },
    "papermill": {
     "duration": 0.01921,
     "end_time": "2025-07-30T21:29:13.655646",
     "exception": false,
     "start_time": "2025-07-30T21:29:13.636436",
     "status": "completed"
    },
    "tags": []
   },
   "outputs": [],
   "source": [
    "#display(siab_s.groupby(\"year\").size())"
   ]
  },
  {
   "cell_type": "code",
   "execution_count": 27,
   "id": "e6c733c5",
   "metadata": {
    "execution": {
     "iopub.execute_input": "2025-07-30T21:29:13.681790Z",
     "iopub.status.busy": "2025-07-30T21:29:13.680706Z",
     "iopub.status.idle": "2025-07-30T21:29:13.772500Z",
     "shell.execute_reply": "2025-07-30T21:29:13.771509Z"
    },
    "papermill": {
     "duration": 0.106852,
     "end_time": "2025-07-30T21:29:13.774119",
     "exception": false,
     "start_time": "2025-07-30T21:29:13.667267",
     "status": "completed"
    },
    "tags": []
   },
   "outputs": [],
   "source": [
    "# Auxiliary data needed downstream in the pipeline\n",
    "\n",
    "org_train = X_train.copy()\n",
    "org_test = X_test.copy()\n",
    "org_calib = X_calib.copy()"
   ]
  },
  {
   "cell_type": "code",
   "execution_count": 28,
   "id": "1466abac-c6da-4492-a62f-4240ae3783af",
   "metadata": {
    "execution": {
     "iopub.execute_input": "2025-07-30T21:29:13.817476Z",
     "iopub.status.busy": "2025-07-30T21:29:13.816939Z",
     "iopub.status.idle": "2025-07-30T21:29:13.821454Z",
     "shell.execute_reply": "2025-07-30T21:29:13.820811Z"
    },
    "papermill": {
     "duration": 0.0279,
     "end_time": "2025-07-30T21:29:13.822694",
     "exception": false,
     "start_time": "2025-07-30T21:29:13.794794",
     "status": "completed"
    },
    "tags": []
   },
   "outputs": [],
   "source": [
    "# put in other script?\n",
    "# Group sizes\n",
    "\n",
    "#def calculate_percentages(df, df_name):\n",
    "#    total_entries = len(df)\n",
    "#\n",
    "#    female_pct = (df['frau1'] == 1).mean() * 100\n",
    "#    non_german_pct = ((df['maxdeutsch1'] == 0) & (df['maxdeutsch.Missing.'] == 0)).mean() * 100\n",
    "#    non_german_male_pct = ((df['frau1'] == 0) & (df['maxdeutsch1'] == 0) & (df['maxdeutsch.Missing.'] == 0)).mean() * 100\n",
    "#    non_german_female_pct = ((df['frau1'] == 1) & (df['maxdeutsch1'] == 0) & (df['maxdeutsch.Missing.'] == 0)).mean() * 100\n",
    "#\n",
    "#    print(f\"--- {df_name} ---\")\n",
    "#    print(f\"Female: {female_pct:.2f}%\")\n",
    "#    print(f\"Non-German: {non_german_pct:.2f}%\")\n",
    "#    print(f\"Non-German Male: {non_german_male_pct:.2f}%\")\n",
    "#    print(f\"Non-German Female: {non_german_female_pct:.2f}%\\n\")\n",
    "#\n",
    "## Calculate for each DataFrame\n",
    "#calculate_percentages(siab_calib, \"siab_calib\")\n",
    "#calculate_percentages(siab_test, \"siab_test\")\n",
    "#calculate_percentages(siab_train, \"siab_train\")"
   ]
  },
  {
   "cell_type": "markdown",
   "id": "0a4a1b33",
   "metadata": {
    "papermill": {
     "duration": 0.024188,
     "end_time": "2025-07-30T21:29:13.862697",
     "exception": false,
     "start_time": "2025-07-30T21:29:13.838509",
     "status": "completed"
    },
    "tags": []
   },
   "source": [
    "# Preprocessing Data"
   ]
  },
  {
   "cell_type": "code",
   "execution_count": 29,
   "id": "ca879031",
   "metadata": {
    "execution": {
     "iopub.execute_input": "2025-07-30T21:29:13.904486Z",
     "iopub.status.busy": "2025-07-30T21:29:13.904079Z",
     "iopub.status.idle": "2025-07-30T21:29:13.909048Z",
     "shell.execute_reply": "2025-07-30T21:29:13.908260Z"
    },
    "papermill": {
     "duration": 0.024692,
     "end_time": "2025-07-30T21:29:13.910403",
     "exception": false,
     "start_time": "2025-07-30T21:29:13.885711",
     "status": "completed"
    },
    "tags": []
   },
   "outputs": [],
   "source": [
    "# EXCLUDE PROTECTED FEATURES\n",
    "# ----------------------\n",
    "# \"exclude_features\": \"none\", # \"nationality\", \"sex\", \"nationality-sex\"\n",
    "\n",
    "excluded_features = universe[\"exclude_features\"].split(\"-\") # split, e.g.: \"nationality-sex\" -> [\"nationality\", \"sex\"]\n",
    "excluded_features_dictionary = {\n",
    "    \"nationality\": [\"maxdeutsch1\", \"maxdeutsch.Missing.\"],\n",
    "    \"sex\": [\"frau1\"],\n",
    "    \"age\": [\"age\"],\n",
    "}\n"
   ]
  },
  {
   "cell_type": "code",
   "execution_count": 30,
   "id": "b745ac60",
   "metadata": {
    "execution": {
     "iopub.execute_input": "2025-07-30T21:29:13.934903Z",
     "iopub.status.busy": "2025-07-30T21:29:13.934558Z",
     "iopub.status.idle": "2025-07-30T21:29:13.939264Z",
     "shell.execute_reply": "2025-07-30T21:29:13.938485Z"
    },
    "papermill": {
     "duration": 0.018015,
     "end_time": "2025-07-30T21:29:13.940634",
     "exception": false,
     "start_time": "2025-07-30T21:29:13.922619",
     "status": "completed"
    },
    "tags": []
   },
   "outputs": [],
   "source": [
    "# Code nice names to column names\n",
    "\n",
    "excluded_features_columns = [\n",
    "    excluded_features_dictionary[f] for f in excluded_features if len(f) > 0 and f != \"none\"\n",
    "]"
   ]
  },
  {
   "cell_type": "code",
   "execution_count": 31,
   "id": "f84f73a2",
   "metadata": {
    "execution": {
     "iopub.execute_input": "2025-07-30T21:29:13.966554Z",
     "iopub.status.busy": "2025-07-30T21:29:13.965697Z",
     "iopub.status.idle": "2025-07-30T21:29:13.972007Z",
     "shell.execute_reply": "2025-07-30T21:29:13.971298Z"
    },
    "papermill": {
     "duration": 0.020153,
     "end_time": "2025-07-30T21:29:13.973435",
     "exception": false,
     "start_time": "2025-07-30T21:29:13.953282",
     "status": "completed"
    },
    "tags": []
   },
   "outputs": [],
   "source": [
    "from utils import flatten_once\n",
    "\n",
    "excluded_features_columns = flatten_once(excluded_features_columns)"
   ]
  },
  {
   "cell_type": "code",
   "execution_count": 32,
   "id": "884dea22",
   "metadata": {
    "execution": {
     "iopub.execute_input": "2025-07-30T21:29:14.000438Z",
     "iopub.status.busy": "2025-07-30T21:29:14.000093Z",
     "iopub.status.idle": "2025-07-30T21:29:14.006699Z",
     "shell.execute_reply": "2025-07-30T21:29:14.005839Z"
    },
    "papermill": {
     "duration": 0.020877,
     "end_time": "2025-07-30T21:29:14.007986",
     "exception": false,
     "start_time": "2025-07-30T21:29:13.987109",
     "status": "completed"
    },
    "tags": []
   },
   "outputs": [
    {
     "name": "stdout",
     "output_type": "stream",
     "text": [
      "Dropping features: ['age']\n"
     ]
    }
   ],
   "source": [
    "if len(excluded_features_columns) > 0:\n",
    "    print(f\"Dropping features: {excluded_features_columns}\")\n",
    "    X_train.drop(excluded_features_columns, axis=1, inplace=True)"
   ]
  },
  {
   "cell_type": "code",
   "execution_count": 33,
   "id": "95ab8b16",
   "metadata": {
    "execution": {
     "iopub.execute_input": "2025-07-30T21:29:14.034678Z",
     "iopub.status.busy": "2025-07-30T21:29:14.034184Z",
     "iopub.status.idle": "2025-07-30T21:29:14.083673Z",
     "shell.execute_reply": "2025-07-30T21:29:14.082896Z"
    },
    "papermill": {
     "duration": 0.063768,
     "end_time": "2025-07-30T21:29:14.085230",
     "exception": false,
     "start_time": "2025-07-30T21:29:14.021462",
     "status": "completed"
    },
    "tags": []
   },
   "outputs": [
    {
     "name": "stdout",
     "output_type": "stream",
     "text": [
      "Dropping features: ['age']\n"
     ]
    }
   ],
   "source": [
    "if len(excluded_features_columns) > 0:\n",
    "    print(f\"Dropping features: {excluded_features_columns}\")\n",
    "    X_test.drop(excluded_features_columns, axis=1, inplace=True)"
   ]
  },
  {
   "cell_type": "code",
   "execution_count": 34,
   "id": "1853aaf5-fb9f-46cb-a2b5-8ea4ae2237e4",
   "metadata": {
    "execution": {
     "iopub.execute_input": "2025-07-30T21:29:14.111687Z",
     "iopub.status.busy": "2025-07-30T21:29:14.111191Z",
     "iopub.status.idle": "2025-07-30T21:29:14.159302Z",
     "shell.execute_reply": "2025-07-30T21:29:14.158357Z"
    },
    "papermill": {
     "duration": 0.06266,
     "end_time": "2025-07-30T21:29:14.160828",
     "exception": false,
     "start_time": "2025-07-30T21:29:14.098168",
     "status": "completed"
    },
    "tags": []
   },
   "outputs": [
    {
     "name": "stdout",
     "output_type": "stream",
     "text": [
      "Dropping features: ['age']\n"
     ]
    }
   ],
   "source": [
    "if len(excluded_features_columns) > 0:\n",
    "    print(f\"Dropping features: {excluded_features_columns}\")\n",
    "    X_calib.drop(excluded_features_columns, axis=1, inplace=True)"
   ]
  },
  {
   "cell_type": "code",
   "execution_count": 35,
   "id": "6727d079-03e5-481e-9d38-292a90b7a0a8",
   "metadata": {
    "execution": {
     "iopub.execute_input": "2025-07-30T21:29:14.187088Z",
     "iopub.status.busy": "2025-07-30T21:29:14.186578Z",
     "iopub.status.idle": "2025-07-30T21:29:14.191303Z",
     "shell.execute_reply": "2025-07-30T21:29:14.190533Z"
    },
    "papermill": {
     "duration": 0.018805,
     "end_time": "2025-07-30T21:29:14.192659",
     "exception": false,
     "start_time": "2025-07-30T21:29:14.173854",
     "status": "completed"
    },
    "tags": []
   },
   "outputs": [],
   "source": [
    "# SPLIT & STRATIFY DATA\n",
    "# ----------------------"
   ]
  },
  {
   "cell_type": "code",
   "execution_count": 36,
   "id": "76c4dc6d",
   "metadata": {
    "execution": {
     "iopub.execute_input": "2025-07-30T21:29:14.219081Z",
     "iopub.status.busy": "2025-07-30T21:29:14.218590Z",
     "iopub.status.idle": "2025-07-30T21:29:14.223379Z",
     "shell.execute_reply": "2025-07-30T21:29:14.222709Z"
    },
    "papermill": {
     "duration": 0.018978,
     "end_time": "2025-07-30T21:29:14.224773",
     "exception": false,
     "start_time": "2025-07-30T21:29:14.205795",
     "status": "completed"
    },
    "tags": []
   },
   "outputs": [],
   "source": [
    "# EXCLUDE CERTAIN SUBGROUPS\n",
    "# ----------------------\n",
    "\n",
    "mode = universe.get(\"exclude_subgroups\", \"keep-all\") \n",
    "# Fetches the exclude_subgroups setting from the universe dict.\n",
    "# Defaults to \"keep-all\" if the key is missing."
   ]
  },
  {
   "cell_type": "code",
   "execution_count": 37,
   "id": "21994072",
   "metadata": {
    "execution": {
     "iopub.execute_input": "2025-07-30T21:29:14.251388Z",
     "iopub.status.busy": "2025-07-30T21:29:14.250851Z",
     "iopub.status.idle": "2025-07-30T21:29:14.257009Z",
     "shell.execute_reply": "2025-07-30T21:29:14.256179Z"
    },
    "papermill": {
     "duration": 0.020505,
     "end_time": "2025-07-30T21:29:14.258389",
     "exception": false,
     "start_time": "2025-07-30T21:29:14.237884",
     "status": "completed"
    },
    "tags": []
   },
   "outputs": [],
   "source": [
    "if mode == \"keep-all\":\n",
    "    keep_mask = pd.Series(True, index=org_train.index)\n",
    "\n",
    "# org_train contains the original feature columns from features_org (in Simson)\n",
    "# features_org contains unprocessed features, for me X_train at beginning ???\n",
    "# For keep-all, creates a boolean Series (keep_mask) of all True, so no rows are removed.\n",
    "\n",
    "elif mode == \"drop-non-german\":\n",
    "    keep_mask = org_train[\"maxdeutsch1\"] == 1 # ??? what about missing values?\n",
    "\n",
    "else:\n",
    "    raise ValueError(f\"Unsupported mode for exclude_subgroups: {mode}\")\n"
   ]
  },
  {
   "cell_type": "code",
   "execution_count": 38,
   "id": "71651440",
   "metadata": {
    "execution": {
     "iopub.execute_input": "2025-07-30T21:29:14.298760Z",
     "iopub.status.busy": "2025-07-30T21:29:14.298179Z",
     "iopub.status.idle": "2025-07-30T21:29:14.306426Z",
     "shell.execute_reply": "2025-07-30T21:29:14.305312Z"
    },
    "papermill": {
     "duration": 0.039326,
     "end_time": "2025-07-30T21:29:14.311560",
     "exception": false,
     "start_time": "2025-07-30T21:29:14.272234",
     "status": "completed"
    },
    "tags": []
   },
   "outputs": [
    {
     "name": "stdout",
     "output_type": "stream",
     "text": [
      "Dropping 147 rows (14.70%) where mode='drop-non-german'\n"
     ]
    }
   ],
   "source": [
    "n_drop = (~keep_mask).sum() # Calculates how many rows are set to be dropped\n",
    "if n_drop > 0:\n",
    "    pct = n_drop / len(keep_mask) * 100\n",
    "    print(f\"Dropping {n_drop} rows ({pct:.2f}%) where mode='{mode}'\")"
   ]
  },
  {
   "cell_type": "code",
   "execution_count": 39,
   "id": "5fb8eee5",
   "metadata": {
    "execution": {
     "iopub.execute_input": "2025-07-30T21:29:14.362078Z",
     "iopub.status.busy": "2025-07-30T21:29:14.361468Z",
     "iopub.status.idle": "2025-07-30T21:29:14.368905Z",
     "shell.execute_reply": "2025-07-30T21:29:14.367756Z"
    },
    "papermill": {
     "duration": 0.034323,
     "end_time": "2025-07-30T21:29:14.370788",
     "exception": false,
     "start_time": "2025-07-30T21:29:14.336465",
     "status": "completed"
    },
    "tags": []
   },
   "outputs": [],
   "source": [
    "X_train = X_train[keep_mask]"
   ]
  },
  {
   "cell_type": "code",
   "execution_count": 40,
   "id": "b202bb3a",
   "metadata": {
    "execution": {
     "iopub.execute_input": "2025-07-30T21:29:14.417517Z",
     "iopub.status.busy": "2025-07-30T21:29:14.416972Z",
     "iopub.status.idle": "2025-07-30T21:29:14.423822Z",
     "shell.execute_reply": "2025-07-30T21:29:14.422685Z"
    },
    "papermill": {
     "duration": 0.034266,
     "end_time": "2025-07-30T21:29:14.425714",
     "exception": false,
     "start_time": "2025-07-30T21:29:14.391448",
     "status": "completed"
    },
    "tags": []
   },
   "outputs": [],
   "source": [
    "y_train = y_train[keep_mask]"
   ]
  },
  {
   "cell_type": "markdown",
   "id": "493e2ac3",
   "metadata": {
    "papermill": {
     "duration": 0.023014,
     "end_time": "2025-07-30T21:29:14.470318",
     "exception": false,
     "start_time": "2025-07-30T21:29:14.447304",
     "status": "completed"
    },
    "tags": []
   },
   "source": [
    "# Model Training"
   ]
  },
  {
   "cell_type": "code",
   "execution_count": 41,
   "id": "679e1268",
   "metadata": {
    "execution": {
     "iopub.execute_input": "2025-07-30T21:29:14.518556Z",
     "iopub.status.busy": "2025-07-30T21:29:14.517270Z",
     "iopub.status.idle": "2025-07-30T21:29:14.650095Z",
     "shell.execute_reply": "2025-07-30T21:29:14.648782Z"
    },
    "papermill": {
     "duration": 0.162121,
     "end_time": "2025-07-30T21:29:14.656819",
     "exception": false,
     "start_time": "2025-07-30T21:29:14.494698",
     "status": "completed"
    },
    "tags": []
   },
   "outputs": [],
   "source": [
    "from sklearn.linear_model import LogisticRegression\n",
    "from sklearn.ensemble import GradientBoostingClassifier, RandomForestClassifier\n",
    "\n",
    "if (universe[\"model\"] == \"logreg\"):\n",
    "    model = LogisticRegression() #penalty=\"none\") #, solver=\"newton-cg\", max_iter=1) # include random_state=19 ?\n",
    "elif (universe[\"model\"] == \"penalized_logreg\"):\n",
    "    model = LogisticRegression(penalty=\"l2\", C=1.0) #, solver=\"newton-cg\", max_iter=1)\n",
    "elif (universe[\"model\"] == \"rf\"):\n",
    "    model = RandomForestClassifier(n_estimators=100, n_jobs=-1)\n",
    "elif (universe[\"model\"] == \"gbm\"):\n",
    "    model = GradientBoostingClassifier()\n",
    "elif (universe[\"model\"] == \"elasticnet\"):\n",
    "    model = LogisticRegression(penalty = 'elasticnet', solver = 'saga', l1_ratio = 0.5, max_iter=5000) # which solver to use?\n",
    "else:\n",
    "    raise \"Unsupported universe.model\""
   ]
  },
  {
   "cell_type": "code",
   "execution_count": 42,
   "id": "0cc8f744",
   "metadata": {
    "execution": {
     "iopub.execute_input": "2025-07-30T21:29:14.711528Z",
     "iopub.status.busy": "2025-07-30T21:29:14.710649Z",
     "iopub.status.idle": "2025-07-30T21:29:14.719459Z",
     "shell.execute_reply": "2025-07-30T21:29:14.718334Z"
    },
    "papermill": {
     "duration": 0.038262,
     "end_time": "2025-07-30T21:29:14.721633",
     "exception": false,
     "start_time": "2025-07-30T21:29:14.683371",
     "status": "completed"
    },
    "tags": []
   },
   "outputs": [],
   "source": [
    "import numpy as np\n",
    "from sklearn.pipeline import Pipeline\n",
    "from sklearn.preprocessing import StandardScaler\n",
    "\n",
    "model = Pipeline([\n",
    "    #(\"continuous_processor\", continuous_processor),\n",
    "    #(\"categorical_preprocessor\", categorical_preprocessor),\n",
    "    (\"scale\", StandardScaler() if universe[\"scale\"] == \"scale\" else None), \n",
    "    (\"model\", model),\n",
    "])"
   ]
  },
  {
   "cell_type": "code",
   "execution_count": 43,
   "id": "9442c04d",
   "metadata": {
    "execution": {
     "iopub.execute_input": "2025-07-30T21:29:14.777188Z",
     "iopub.status.busy": "2025-07-30T21:29:14.776549Z",
     "iopub.status.idle": "2025-07-30T21:29:14.883795Z",
     "shell.execute_reply": "2025-07-30T21:29:14.882601Z"
    },
    "papermill": {
     "duration": 0.137761,
     "end_time": "2025-07-30T21:29:14.886651",
     "exception": false,
     "start_time": "2025-07-30T21:29:14.748890",
     "status": "completed"
    },
    "tags": []
   },
   "outputs": [
    {
     "name": "stderr",
     "output_type": "stream",
     "text": [
      "/dss/dsshome1/0C/ra93lal2/.local/share/virtualenvs/CMA_Fairness_v2-3j10GkSs/lib/python3.10/site-packages/sklearn/linear_model/_logistic.py:444: ConvergenceWarning: lbfgs failed to converge (status=1):\n",
      "STOP: TOTAL NO. of ITERATIONS REACHED LIMIT.\n",
      "\n",
      "Increase the number of iterations (max_iter) or scale the data as shown in:\n",
      "    https://scikit-learn.org/stable/modules/preprocessing.html\n",
      "Please also refer to the documentation for alternative solver options:\n",
      "    https://scikit-learn.org/stable/modules/linear_model.html#logistic-regression\n",
      "  n_iter_i = _check_optimize_result(\n"
     ]
    },
    {
     "data": {
      "text/html": [
       "<style>#sk-container-id-1 {color: black;background-color: white;}#sk-container-id-1 pre{padding: 0;}#sk-container-id-1 div.sk-toggleable {background-color: white;}#sk-container-id-1 label.sk-toggleable__label {cursor: pointer;display: block;width: 100%;margin-bottom: 0;padding: 0.3em;box-sizing: border-box;text-align: center;}#sk-container-id-1 label.sk-toggleable__label-arrow:before {content: \"▸\";float: left;margin-right: 0.25em;color: #696969;}#sk-container-id-1 label.sk-toggleable__label-arrow:hover:before {color: black;}#sk-container-id-1 div.sk-estimator:hover label.sk-toggleable__label-arrow:before {color: black;}#sk-container-id-1 div.sk-toggleable__content {max-height: 0;max-width: 0;overflow: hidden;text-align: left;background-color: #f0f8ff;}#sk-container-id-1 div.sk-toggleable__content pre {margin: 0.2em;color: black;border-radius: 0.25em;background-color: #f0f8ff;}#sk-container-id-1 input.sk-toggleable__control:checked~div.sk-toggleable__content {max-height: 200px;max-width: 100%;overflow: auto;}#sk-container-id-1 input.sk-toggleable__control:checked~label.sk-toggleable__label-arrow:before {content: \"▾\";}#sk-container-id-1 div.sk-estimator input.sk-toggleable__control:checked~label.sk-toggleable__label {background-color: #d4ebff;}#sk-container-id-1 div.sk-label input.sk-toggleable__control:checked~label.sk-toggleable__label {background-color: #d4ebff;}#sk-container-id-1 input.sk-hidden--visually {border: 0;clip: rect(1px 1px 1px 1px);clip: rect(1px, 1px, 1px, 1px);height: 1px;margin: -1px;overflow: hidden;padding: 0;position: absolute;width: 1px;}#sk-container-id-1 div.sk-estimator {font-family: monospace;background-color: #f0f8ff;border: 1px dotted black;border-radius: 0.25em;box-sizing: border-box;margin-bottom: 0.5em;}#sk-container-id-1 div.sk-estimator:hover {background-color: #d4ebff;}#sk-container-id-1 div.sk-parallel-item::after {content: \"\";width: 100%;border-bottom: 1px solid gray;flex-grow: 1;}#sk-container-id-1 div.sk-label:hover label.sk-toggleable__label {background-color: #d4ebff;}#sk-container-id-1 div.sk-serial::before {content: \"\";position: absolute;border-left: 1px solid gray;box-sizing: border-box;top: 0;bottom: 0;left: 50%;z-index: 0;}#sk-container-id-1 div.sk-serial {display: flex;flex-direction: column;align-items: center;background-color: white;padding-right: 0.2em;padding-left: 0.2em;position: relative;}#sk-container-id-1 div.sk-item {position: relative;z-index: 1;}#sk-container-id-1 div.sk-parallel {display: flex;align-items: stretch;justify-content: center;background-color: white;position: relative;}#sk-container-id-1 div.sk-item::before, #sk-container-id-1 div.sk-parallel-item::before {content: \"\";position: absolute;border-left: 1px solid gray;box-sizing: border-box;top: 0;bottom: 0;left: 50%;z-index: -1;}#sk-container-id-1 div.sk-parallel-item {display: flex;flex-direction: column;z-index: 1;position: relative;background-color: white;}#sk-container-id-1 div.sk-parallel-item:first-child::after {align-self: flex-end;width: 50%;}#sk-container-id-1 div.sk-parallel-item:last-child::after {align-self: flex-start;width: 50%;}#sk-container-id-1 div.sk-parallel-item:only-child::after {width: 0;}#sk-container-id-1 div.sk-dashed-wrapped {border: 1px dashed gray;margin: 0 0.4em 0.5em 0.4em;box-sizing: border-box;padding-bottom: 0.4em;background-color: white;}#sk-container-id-1 div.sk-label label {font-family: monospace;font-weight: bold;display: inline-block;line-height: 1.2em;}#sk-container-id-1 div.sk-label-container {text-align: center;}#sk-container-id-1 div.sk-container {/* jupyter's `normalize.less` sets `[hidden] { display: none; }` but bootstrap.min.css set `[hidden] { display: none !important; }` so we also need the `!important` here to be able to override the default hidden behavior on the sphinx rendered scikit-learn.org. See: https://github.com/scikit-learn/scikit-learn/issues/21755 */display: inline-block !important;position: relative;}#sk-container-id-1 div.sk-text-repr-fallback {display: none;}</style><div id=\"sk-container-id-1\" class=\"sk-top-container\"><div class=\"sk-text-repr-fallback\"><pre>Pipeline(steps=[(&#x27;scale&#x27;, None), (&#x27;model&#x27;, LogisticRegression())])</pre><b>In a Jupyter environment, please rerun this cell to show the HTML representation or trust the notebook. <br />On GitHub, the HTML representation is unable to render, please try loading this page with nbviewer.org.</b></div><div class=\"sk-container\" hidden><div class=\"sk-item sk-dashed-wrapped\"><div class=\"sk-label-container\"><div class=\"sk-label sk-toggleable\"><input class=\"sk-toggleable__control sk-hidden--visually\" id=\"sk-estimator-id-1\" type=\"checkbox\" ><label for=\"sk-estimator-id-1\" class=\"sk-toggleable__label sk-toggleable__label-arrow\">Pipeline</label><div class=\"sk-toggleable__content\"><pre>Pipeline(steps=[(&#x27;scale&#x27;, None), (&#x27;model&#x27;, LogisticRegression())])</pre></div></div></div><div class=\"sk-serial\"><div class=\"sk-item\"><div class=\"sk-estimator sk-toggleable\"><input class=\"sk-toggleable__control sk-hidden--visually\" id=\"sk-estimator-id-2\" type=\"checkbox\" ><label for=\"sk-estimator-id-2\" class=\"sk-toggleable__label sk-toggleable__label-arrow\">None</label><div class=\"sk-toggleable__content\"><pre>None</pre></div></div></div><div class=\"sk-item\"><div class=\"sk-estimator sk-toggleable\"><input class=\"sk-toggleable__control sk-hidden--visually\" id=\"sk-estimator-id-3\" type=\"checkbox\" ><label for=\"sk-estimator-id-3\" class=\"sk-toggleable__label sk-toggleable__label-arrow\">LogisticRegression</label><div class=\"sk-toggleable__content\"><pre>LogisticRegression()</pre></div></div></div></div></div></div></div>"
      ],
      "text/plain": [
       "Pipeline(steps=[('scale', None), ('model', LogisticRegression())])"
      ]
     },
     "execution_count": 43,
     "metadata": {},
     "output_type": "execute_result"
    }
   ],
   "source": [
    "model.fit(X_train, y_train.values.ravel())"
   ]
  },
  {
   "cell_type": "code",
   "execution_count": 44,
   "id": "af59f8c0",
   "metadata": {
    "execution": {
     "iopub.execute_input": "2025-07-30T21:29:14.941991Z",
     "iopub.status.busy": "2025-07-30T21:29:14.941186Z",
     "iopub.status.idle": "2025-07-30T21:29:14.948401Z",
     "shell.execute_reply": "2025-07-30T21:29:14.947451Z"
    },
    "papermill": {
     "duration": 0.036824,
     "end_time": "2025-07-30T21:29:14.950101",
     "exception": false,
     "start_time": "2025-07-30T21:29:14.913277",
     "status": "completed"
    },
    "tags": []
   },
   "outputs": [],
   "source": [
    "from fairness_multiverse.universe import predict_w_threshold"
   ]
  },
  {
   "cell_type": "code",
   "execution_count": 45,
   "id": "a7cf2e16",
   "metadata": {
    "execution": {
     "iopub.execute_input": "2025-07-30T21:29:15.011239Z",
     "iopub.status.busy": "2025-07-30T21:29:15.010853Z",
     "iopub.status.idle": "2025-07-30T21:29:15.181276Z",
     "shell.execute_reply": "2025-07-30T21:29:15.180120Z"
    },
    "papermill": {
     "duration": 0.209961,
     "end_time": "2025-07-30T21:29:15.183076",
     "exception": false,
     "start_time": "2025-07-30T21:29:14.973115",
     "status": "completed"
    },
    "tags": []
   },
   "outputs": [
    {
     "data": {
      "text/plain": [
       "0.8301973024189053"
      ]
     },
     "execution_count": 45,
     "metadata": {},
     "output_type": "execute_result"
    }
   ],
   "source": [
    "probs_test = model.predict_proba(X_test)\n",
    "\n",
    "'''\n",
    "Below code returns a boolean array (or binary 0/1 array depending on how it’s used) where each element \n",
    "is True if the probability of class 1 is greater than or equal to the threshold, and False otherwise.\n",
    "'''\n",
    "y_pred_default = predict_w_threshold(probs_test, 0.5)\n",
    "\n",
    "from sklearn.metrics import accuracy_score\n",
    "\n",
    "# Naive prediction\n",
    "accuracy_score(y_true = y_true, y_pred = y_pred_default)"
   ]
  },
  {
   "cell_type": "code",
   "execution_count": 46,
   "id": "081964c3",
   "metadata": {
    "execution": {
     "iopub.execute_input": "2025-07-30T21:29:15.237559Z",
     "iopub.status.busy": "2025-07-30T21:29:15.237030Z",
     "iopub.status.idle": "2025-07-30T21:29:15.387246Z",
     "shell.execute_reply": "2025-07-30T21:29:15.386108Z"
    },
    "papermill": {
     "duration": 0.177773,
     "end_time": "2025-07-30T21:29:15.389068",
     "exception": false,
     "start_time": "2025-07-30T21:29:15.211295",
     "status": "completed"
    },
    "tags": []
   },
   "outputs": [
    {
     "data": {
      "text/plain": [
       "array([0, 0, 0, ..., 0, 0, 0])"
      ]
     },
     "execution_count": 46,
     "metadata": {},
     "output_type": "execute_result"
    }
   ],
   "source": [
    "model.predict(X_test)"
   ]
  },
  {
   "cell_type": "markdown",
   "id": "56c9705b",
   "metadata": {
    "papermill": {
     "duration": 0.027204,
     "end_time": "2025-07-30T21:29:15.442747",
     "exception": false,
     "start_time": "2025-07-30T21:29:15.415543",
     "status": "completed"
    },
    "tags": []
   },
   "source": [
    "# Conformal Prediction"
   ]
  },
  {
   "cell_type": "code",
   "execution_count": 47,
   "id": "160ec6ff",
   "metadata": {
    "execution": {
     "iopub.execute_input": "2025-07-30T21:29:15.497413Z",
     "iopub.status.busy": "2025-07-30T21:29:15.496470Z",
     "iopub.status.idle": "2025-07-30T21:29:15.503149Z",
     "shell.execute_reply": "2025-07-30T21:29:15.501893Z"
    },
    "papermill": {
     "duration": 0.03634,
     "end_time": "2025-07-30T21:29:15.505207",
     "exception": false,
     "start_time": "2025-07-30T21:29:15.468867",
     "status": "completed"
    },
    "tags": []
   },
   "outputs": [],
   "source": [
    "# Miscoverage level for conformal prediction (10% allowed error rate => 90% target coverage)\n",
    "alpha = 0.1"
   ]
  },
  {
   "cell_type": "code",
   "execution_count": 48,
   "id": "eadf4555-3dd3-440e-8e35-f82a4ad9f855",
   "metadata": {
    "execution": {
     "iopub.execute_input": "2025-07-30T21:29:15.561171Z",
     "iopub.status.busy": "2025-07-30T21:29:15.560233Z",
     "iopub.status.idle": "2025-07-30T21:29:15.649525Z",
     "shell.execute_reply": "2025-07-30T21:29:15.648742Z"
    },
    "papermill": {
     "duration": 0.119966,
     "end_time": "2025-07-30T21:29:15.651809",
     "exception": false,
     "start_time": "2025-07-30T21:29:15.531843",
     "status": "completed"
    },
    "tags": []
   },
   "outputs": [],
   "source": [
    "probs_calib = model.predict_proba(X_calib)"
   ]
  },
  {
   "cell_type": "code",
   "execution_count": 49,
   "id": "2ed93547-6d5d-4983-9b36-1ecb300da49a",
   "metadata": {
    "execution": {
     "iopub.execute_input": "2025-07-30T21:29:15.722300Z",
     "iopub.status.busy": "2025-07-30T21:29:15.721793Z",
     "iopub.status.idle": "2025-07-30T21:29:15.728821Z",
     "shell.execute_reply": "2025-07-30T21:29:15.726880Z"
    },
    "papermill": {
     "duration": 0.041792,
     "end_time": "2025-07-30T21:29:15.730568",
     "exception": false,
     "start_time": "2025-07-30T21:29:15.688776",
     "status": "completed"
    },
    "tags": []
   },
   "outputs": [],
   "source": [
    "y_calib = y_calib.values.ravel().astype(int)"
   ]
  },
  {
   "cell_type": "code",
   "execution_count": 50,
   "id": "65d1320d-f588-4b38-9072-62af1ae97f7d",
   "metadata": {
    "execution": {
     "iopub.execute_input": "2025-07-30T21:29:15.787184Z",
     "iopub.status.busy": "2025-07-30T21:29:15.786685Z",
     "iopub.status.idle": "2025-07-30T21:29:15.794255Z",
     "shell.execute_reply": "2025-07-30T21:29:15.793242Z"
    },
    "papermill": {
     "duration": 0.038047,
     "end_time": "2025-07-30T21:29:15.795974",
     "exception": false,
     "start_time": "2025-07-30T21:29:15.757927",
     "status": "completed"
    },
    "tags": []
   },
   "outputs": [],
   "source": [
    "from fairness_multiverse.conformal import compute_nc_scores\n",
    "\n",
    "# Compute nonconformity scores on calibration set (1 - probability of true class)\n",
    "nc_scores = compute_nc_scores(probs_calib, y_calib)"
   ]
  },
  {
   "cell_type": "code",
   "execution_count": 51,
   "id": "df3b8ca3-53b7-43d5-9667-7c85da7aeda2",
   "metadata": {
    "execution": {
     "iopub.execute_input": "2025-07-30T21:29:15.849548Z",
     "iopub.status.busy": "2025-07-30T21:29:15.848847Z",
     "iopub.status.idle": "2025-07-30T21:29:15.855321Z",
     "shell.execute_reply": "2025-07-30T21:29:15.854260Z"
    },
    "papermill": {
     "duration": 0.034986,
     "end_time": "2025-07-30T21:29:15.857183",
     "exception": false,
     "start_time": "2025-07-30T21:29:15.822197",
     "status": "completed"
    },
    "tags": []
   },
   "outputs": [],
   "source": [
    "from fairness_multiverse.conformal import find_threshold\n",
    "\n",
    "# Find conformal threshold q_hat for the given alpha (split conformal method)\n",
    "q_hat = find_threshold(nc_scores, alpha)"
   ]
  },
  {
   "cell_type": "code",
   "execution_count": 52,
   "id": "4d29e6c1-0ef6-4aa4-b8fe-4fe79b0d033a",
   "metadata": {
    "execution": {
     "iopub.execute_input": "2025-07-30T21:29:15.912362Z",
     "iopub.status.busy": "2025-07-30T21:29:15.911717Z",
     "iopub.status.idle": "2025-07-30T21:29:15.919129Z",
     "shell.execute_reply": "2025-07-30T21:29:15.918098Z"
    },
    "papermill": {
     "duration": 0.035846,
     "end_time": "2025-07-30T21:29:15.920685",
     "exception": false,
     "start_time": "2025-07-30T21:29:15.884839",
     "status": "completed"
    },
    "tags": []
   },
   "outputs": [
    {
     "data": {
      "text/plain": [
       "0.6777010487368205"
      ]
     },
     "execution_count": 52,
     "metadata": {},
     "output_type": "execute_result"
    }
   ],
   "source": [
    "q_hat"
   ]
  },
  {
   "cell_type": "code",
   "execution_count": 53,
   "id": "92460794-cdac-4be2-ba28-f28c0515a6fb",
   "metadata": {
    "execution": {
     "iopub.execute_input": "2025-07-30T21:29:15.975618Z",
     "iopub.status.busy": "2025-07-30T21:29:15.974904Z",
     "iopub.status.idle": "2025-07-30T21:29:16.922807Z",
     "shell.execute_reply": "2025-07-30T21:29:16.921830Z"
    },
    "papermill": {
     "duration": 0.978023,
     "end_time": "2025-07-30T21:29:16.924803",
     "exception": false,
     "start_time": "2025-07-30T21:29:15.946780",
     "status": "completed"
    },
    "tags": []
   },
   "outputs": [],
   "source": [
    "from fairness_multiverse.conformal import predict_conformal_sets\n",
    "\n",
    "# Generate prediction sets for each test example\n",
    "pred_sets = predict_conformal_sets(model, X_test, q_hat)"
   ]
  },
  {
   "cell_type": "code",
   "execution_count": 54,
   "id": "d90c9a65-e6db-4f5d-80cd-e68fb7e46829",
   "metadata": {
    "execution": {
     "iopub.execute_input": "2025-07-30T21:29:16.996624Z",
     "iopub.status.busy": "2025-07-30T21:29:16.996096Z",
     "iopub.status.idle": "2025-07-30T21:29:17.002348Z",
     "shell.execute_reply": "2025-07-30T21:29:17.001329Z"
    },
    "papermill": {
     "duration": 0.05084,
     "end_time": "2025-07-30T21:29:17.003862",
     "exception": false,
     "start_time": "2025-07-30T21:29:16.953022",
     "status": "completed"
    },
    "tags": []
   },
   "outputs": [],
   "source": [
    "y_true = y_true.squeeze()"
   ]
  },
  {
   "cell_type": "code",
   "execution_count": 55,
   "id": "3a58a54a-1e68-46b9-927a-df01f18aebc8",
   "metadata": {
    "execution": {
     "iopub.execute_input": "2025-07-30T21:29:17.061078Z",
     "iopub.status.busy": "2025-07-30T21:29:17.060228Z",
     "iopub.status.idle": "2025-07-30T21:29:17.985363Z",
     "shell.execute_reply": "2025-07-30T21:29:17.984377Z"
    },
    "papermill": {
     "duration": 0.957318,
     "end_time": "2025-07-30T21:29:17.987226",
     "exception": false,
     "start_time": "2025-07-30T21:29:17.029908",
     "status": "completed"
    },
    "tags": []
   },
   "outputs": [],
   "source": [
    "from fairness_multiverse.conformal import evaluate_sets\n",
    "\n",
    "# Evaluate coverage and average set size on test data\n",
    "metrics = evaluate_sets(pred_sets, y_true)"
   ]
  },
  {
   "cell_type": "markdown",
   "id": "2b569c12-9aaa-4c88-98c9-bbcd0cf3ebb8",
   "metadata": {
    "papermill": {
     "duration": 0.023612,
     "end_time": "2025-07-30T21:29:18.037491",
     "exception": false,
     "start_time": "2025-07-30T21:29:18.013879",
     "status": "completed"
    },
    "tags": []
   },
   "source": [
    "# CP Metrics"
   ]
  },
  {
   "cell_type": "code",
   "execution_count": 56,
   "id": "5ce0a5cb-201f-45a0-ade5-94c7f0bd6095",
   "metadata": {
    "execution": {
     "iopub.execute_input": "2025-07-30T21:29:18.088072Z",
     "iopub.status.busy": "2025-07-30T21:29:18.087576Z",
     "iopub.status.idle": "2025-07-30T21:29:18.094270Z",
     "shell.execute_reply": "2025-07-30T21:29:18.093510Z"
    },
    "papermill": {
     "duration": 0.034124,
     "end_time": "2025-07-30T21:29:18.095799",
     "exception": false,
     "start_time": "2025-07-30T21:29:18.061675",
     "status": "completed"
    },
    "tags": []
   },
   "outputs": [
    {
     "data": {
      "text/plain": [
       "{'coverage': 0.9103778842938357, 'avg_size': 1.285074127744956}"
      ]
     },
     "execution_count": 56,
     "metadata": {},
     "output_type": "execute_result"
    }
   ],
   "source": [
    "metrics"
   ]
  },
  {
   "cell_type": "code",
   "execution_count": 57,
   "id": "9b9a838d-31c9-430b-ae14-12baee460d17",
   "metadata": {
    "execution": {
     "iopub.execute_input": "2025-07-30T21:29:18.145185Z",
     "iopub.status.busy": "2025-07-30T21:29:18.144693Z",
     "iopub.status.idle": "2025-07-30T21:29:18.182970Z",
     "shell.execute_reply": "2025-07-30T21:29:18.182147Z"
    },
    "papermill": {
     "duration": 0.068094,
     "end_time": "2025-07-30T21:29:18.184736",
     "exception": false,
     "start_time": "2025-07-30T21:29:18.116642",
     "status": "completed"
    },
    "tags": []
   },
   "outputs": [],
   "source": [
    "example_universe = universe.copy()\n",
    "universe_training_year = example_universe.get(\"training_year\")\n",
    "universe_training_size = example_universe.get(\"training_size\")\n",
    "universe_scale = example_universe.get(\"scale\")\n",
    "universe_model = example_universe.get(\"model\")\n",
    "universe_exclude_features = example_universe.get(\"exclude_features\")\n",
    "universe_exclude_subgroups = example_universe.get(\"exclude_subgroups\")"
   ]
  },
  {
   "cell_type": "code",
   "execution_count": 58,
   "id": "f4b6a8ac-9dc0-4245-8a91-5b3b5999c4f9",
   "metadata": {
    "execution": {
     "iopub.execute_input": "2025-07-30T21:29:18.234189Z",
     "iopub.status.busy": "2025-07-30T21:29:18.233594Z",
     "iopub.status.idle": "2025-07-30T21:29:18.240248Z",
     "shell.execute_reply": "2025-07-30T21:29:18.239316Z"
    },
    "papermill": {
     "duration": 0.03218,
     "end_time": "2025-07-30T21:29:18.242107",
     "exception": false,
     "start_time": "2025-07-30T21:29:18.209927",
     "status": "completed"
    },
    "tags": []
   },
   "outputs": [],
   "source": [
    "cp_metrics_dict = {\n",
    "    \"universe_id\": [universe_id],\n",
    "    \"universe_training_year\": [universe_training_year],\n",
    "    \"universe_training_size\": [universe_training_size],\n",
    "    \"universe_scale\": [universe_scale],\n",
    "    \"universe_model\": [universe_model],\n",
    "    \"universe_exclude_features\": [universe_exclude_features],\n",
    "    \"universe_exclude_subgroups\": [universe_exclude_subgroups],\n",
    "    \"q_hat\": [q_hat],\n",
    "    \"coverage\": [metrics[\"coverage\"]],\n",
    "    \"avg_size\": [metrics[\"avg_size\"]],\n",
    "}"
   ]
  },
  {
   "cell_type": "code",
   "execution_count": 59,
   "id": "908acbb1-0371-4915-85ca-3fa520d2efe2",
   "metadata": {
    "execution": {
     "iopub.execute_input": "2025-07-30T21:29:18.285908Z",
     "iopub.status.busy": "2025-07-30T21:29:18.285519Z",
     "iopub.status.idle": "2025-07-30T21:29:18.292244Z",
     "shell.execute_reply": "2025-07-30T21:29:18.291569Z"
    },
    "papermill": {
     "duration": 0.02688,
     "end_time": "2025-07-30T21:29:18.293418",
     "exception": false,
     "start_time": "2025-07-30T21:29:18.266538",
     "status": "completed"
    },
    "tags": []
   },
   "outputs": [
    {
     "data": {
      "text/plain": [
       "{'universe_id': ['4116f1697dbc7e6e489e663c66dfbb1a'],\n",
       " 'universe_training_year': ['2014'],\n",
       " 'universe_training_size': ['1k'],\n",
       " 'universe_scale': ['do-not-scale'],\n",
       " 'universe_model': ['penalized_logreg'],\n",
       " 'universe_exclude_features': ['age'],\n",
       " 'universe_exclude_subgroups': ['drop-non-german'],\n",
       " 'q_hat': [0.6777010487368205],\n",
       " 'coverage': [0.9103778842938357],\n",
       " 'avg_size': [1.285074127744956]}"
      ]
     },
     "execution_count": 59,
     "metadata": {},
     "output_type": "execute_result"
    }
   ],
   "source": [
    "cp_metrics_dict"
   ]
  },
  {
   "cell_type": "code",
   "execution_count": 60,
   "id": "33007efc-14e9-4ec6-97ac-56a455c82265",
   "metadata": {
    "execution": {
     "iopub.execute_input": "2025-07-30T21:29:18.320147Z",
     "iopub.status.busy": "2025-07-30T21:29:18.319789Z",
     "iopub.status.idle": "2025-07-30T21:29:18.325177Z",
     "shell.execute_reply": "2025-07-30T21:29:18.324273Z"
    },
    "papermill": {
     "duration": 0.020465,
     "end_time": "2025-07-30T21:29:18.326761",
     "exception": false,
     "start_time": "2025-07-30T21:29:18.306296",
     "status": "completed"
    },
    "tags": []
   },
   "outputs": [],
   "source": [
    "cp_metrics_df = pd.DataFrame(cp_metrics_dict)"
   ]
  },
  {
   "cell_type": "code",
   "execution_count": 61,
   "id": "db12611b-57b2-4910-b9d0-355adfd6e7bf",
   "metadata": {
    "execution": {
     "iopub.execute_input": "2025-07-30T21:29:18.380780Z",
     "iopub.status.busy": "2025-07-30T21:29:18.380392Z",
     "iopub.status.idle": "2025-07-30T21:29:18.397432Z",
     "shell.execute_reply": "2025-07-30T21:29:18.396572Z"
    },
    "papermill": {
     "duration": 0.045963,
     "end_time": "2025-07-30T21:29:18.399134",
     "exception": false,
     "start_time": "2025-07-30T21:29:18.353171",
     "status": "completed"
    },
    "tags": []
   },
   "outputs": [
    {
     "data": {
      "text/html": [
       "<div>\n",
       "<style scoped>\n",
       "    .dataframe tbody tr th:only-of-type {\n",
       "        vertical-align: middle;\n",
       "    }\n",
       "\n",
       "    .dataframe tbody tr th {\n",
       "        vertical-align: top;\n",
       "    }\n",
       "\n",
       "    .dataframe thead th {\n",
       "        text-align: right;\n",
       "    }\n",
       "</style>\n",
       "<table border=\"1\" class=\"dataframe\">\n",
       "  <thead>\n",
       "    <tr style=\"text-align: right;\">\n",
       "      <th></th>\n",
       "      <th>universe_id</th>\n",
       "      <th>universe_training_year</th>\n",
       "      <th>universe_training_size</th>\n",
       "      <th>universe_scale</th>\n",
       "      <th>universe_model</th>\n",
       "      <th>universe_exclude_features</th>\n",
       "      <th>universe_exclude_subgroups</th>\n",
       "      <th>q_hat</th>\n",
       "      <th>coverage</th>\n",
       "      <th>avg_size</th>\n",
       "    </tr>\n",
       "  </thead>\n",
       "  <tbody>\n",
       "    <tr>\n",
       "      <th>0</th>\n",
       "      <td>4116f1697dbc7e6e489e663c66dfbb1a</td>\n",
       "      <td>2014</td>\n",
       "      <td>1k</td>\n",
       "      <td>do-not-scale</td>\n",
       "      <td>penalized_logreg</td>\n",
       "      <td>age</td>\n",
       "      <td>drop-non-german</td>\n",
       "      <td>0.677701</td>\n",
       "      <td>0.910378</td>\n",
       "      <td>1.285074</td>\n",
       "    </tr>\n",
       "  </tbody>\n",
       "</table>\n",
       "</div>"
      ],
      "text/plain": [
       "                        universe_id universe_training_year  \\\n",
       "0  4116f1697dbc7e6e489e663c66dfbb1a                   2014   \n",
       "\n",
       "  universe_training_size universe_scale    universe_model  \\\n",
       "0                     1k   do-not-scale  penalized_logreg   \n",
       "\n",
       "  universe_exclude_features universe_exclude_subgroups     q_hat  coverage  \\\n",
       "0                       age            drop-non-german  0.677701  0.910378   \n",
       "\n",
       "   avg_size  \n",
       "0  1.285074  "
      ]
     },
     "execution_count": 61,
     "metadata": {},
     "output_type": "execute_result"
    }
   ],
   "source": [
    "cp_metrics_df"
   ]
  },
  {
   "cell_type": "code",
   "execution_count": 62,
   "id": "b7fbde55-a0a1-47e4-9af6-fe4a17fa8c61",
   "metadata": {
    "execution": {
     "iopub.execute_input": "2025-07-30T21:29:18.449843Z",
     "iopub.status.busy": "2025-07-30T21:29:18.449410Z",
     "iopub.status.idle": "2025-07-30T21:29:18.454402Z",
     "shell.execute_reply": "2025-07-30T21:29:18.453376Z"
    },
    "papermill": {
     "duration": 0.028382,
     "end_time": "2025-07-30T21:29:18.455910",
     "exception": false,
     "start_time": "2025-07-30T21:29:18.427528",
     "status": "completed"
    },
    "tags": []
   },
   "outputs": [],
   "source": [
    "# Conditional Coverage & looking at subgroups"
   ]
  },
  {
   "cell_type": "code",
   "execution_count": 63,
   "id": "027ae886-68dd-4141-96c7-805a5450e1ef",
   "metadata": {
    "execution": {
     "iopub.execute_input": "2025-07-30T21:29:18.509082Z",
     "iopub.status.busy": "2025-07-30T21:29:18.507798Z",
     "iopub.status.idle": "2025-07-30T21:29:18.762057Z",
     "shell.execute_reply": "2025-07-30T21:29:18.761196Z"
    },
    "papermill": {
     "duration": 0.283036,
     "end_time": "2025-07-30T21:29:18.763712",
     "exception": false,
     "start_time": "2025-07-30T21:29:18.480676",
     "status": "completed"
    },
    "tags": []
   },
   "outputs": [],
   "source": [
    "from fairness_multiverse.conformal import build_cp_groups\n",
    "\n",
    "cp_groups_df = build_cp_groups(pred_sets, y_true, X_test.index, org_test)\n",
    "#needs universe_id and setting"
   ]
  },
  {
   "cell_type": "code",
   "execution_count": 64,
   "id": "01d5802c-663a-4d1f-9d69-e036faaffbf7",
   "metadata": {
    "execution": {
     "iopub.execute_input": "2025-07-30T21:29:18.815787Z",
     "iopub.status.busy": "2025-07-30T21:29:18.814775Z",
     "iopub.status.idle": "2025-07-30T21:29:18.819798Z",
     "shell.execute_reply": "2025-07-30T21:29:18.818805Z"
    },
    "papermill": {
     "duration": 0.032114,
     "end_time": "2025-07-30T21:29:18.821286",
     "exception": false,
     "start_time": "2025-07-30T21:29:18.789172",
     "status": "completed"
    },
    "tags": []
   },
   "outputs": [],
   "source": [
    "#delete\n",
    "#cp_groups_df"
   ]
  },
  {
   "cell_type": "code",
   "execution_count": 65,
   "id": "fa424af1-d1eb-443d-b717-2d279ada8408",
   "metadata": {
    "execution": {
     "iopub.execute_input": "2025-07-30T21:29:18.876189Z",
     "iopub.status.busy": "2025-07-30T21:29:18.875738Z",
     "iopub.status.idle": "2025-07-30T21:29:18.881187Z",
     "shell.execute_reply": "2025-07-30T21:29:18.880118Z"
    },
    "papermill": {
     "duration": 0.037476,
     "end_time": "2025-07-30T21:29:18.883353",
     "exception": false,
     "start_time": "2025-07-30T21:29:18.845877",
     "status": "completed"
    },
    "tags": []
   },
   "outputs": [],
   "source": [
    "#delete\n",
    "#percentage = (cp_groups_df['nongerman_female'] == 1).mean() * 100\n",
    "#print(percentage)\n"
   ]
  },
  {
   "cell_type": "code",
   "execution_count": 66,
   "id": "6cbdab96-b2b2-45af-ad54-d0516db2e28d",
   "metadata": {
    "execution": {
     "iopub.execute_input": "2025-07-30T21:29:18.934474Z",
     "iopub.status.busy": "2025-07-30T21:29:18.934000Z",
     "iopub.status.idle": "2025-07-30T21:29:20.696267Z",
     "shell.execute_reply": "2025-07-30T21:29:20.695313Z"
    },
    "papermill": {
     "duration": 1.789965,
     "end_time": "2025-07-30T21:29:20.698066",
     "exception": false,
     "start_time": "2025-07-30T21:29:18.908101",
     "status": "completed"
    },
    "tags": []
   },
   "outputs": [],
   "source": [
    "# Define covered = 1 if true_label is in the predicted set\n",
    "cp_groups_df['covered'] = cp_groups_df.apply(\n",
    "    lambda r: int(r['true_label'] in r['pred_set']),\n",
    "    axis=1\n",
    ")"
   ]
  },
  {
   "cell_type": "code",
   "execution_count": 67,
   "id": "338ff529-1a6b-4b87-a931-8e4788d52aad",
   "metadata": {
    "execution": {
     "iopub.execute_input": "2025-07-30T21:29:20.781139Z",
     "iopub.status.busy": "2025-07-30T21:29:20.780714Z",
     "iopub.status.idle": "2025-07-30T21:29:20.785800Z",
     "shell.execute_reply": "2025-07-30T21:29:20.784789Z"
    },
    "papermill": {
     "duration": 0.063856,
     "end_time": "2025-07-30T21:29:20.788517",
     "exception": false,
     "start_time": "2025-07-30T21:29:20.724661",
     "status": "completed"
    },
    "tags": []
   },
   "outputs": [],
   "source": [
    "#cp_groups_df"
   ]
  },
  {
   "cell_type": "code",
   "execution_count": 68,
   "id": "90032e27-66df-4540-9169-4e89cfbaa758",
   "metadata": {
    "execution": {
     "iopub.execute_input": "2025-07-30T21:29:20.877030Z",
     "iopub.status.busy": "2025-07-30T21:29:20.875952Z",
     "iopub.status.idle": "2025-07-30T21:29:20.908529Z",
     "shell.execute_reply": "2025-07-30T21:29:20.896106Z"
    },
    "papermill": {
     "duration": 0.097316,
     "end_time": "2025-07-30T21:29:20.910474",
     "exception": false,
     "start_time": "2025-07-30T21:29:20.813158",
     "status": "completed"
    },
    "tags": []
   },
   "outputs": [],
   "source": [
    "subgroups = ['frau1','nongerman','nongerman_male','nongerman_female']\n",
    "\n",
    "# Conditional coverage for subgroup==1\n",
    "cond_coverage = {\n",
    "    g: cp_groups_df.loc[cp_groups_df[g]==1, 'covered'].mean()\n",
    "    for g in subgroups\n",
    "}"
   ]
  },
  {
   "cell_type": "code",
   "execution_count": 69,
   "id": "1e348fb1-b9c3-45bc-ba23-f016827a7e0d",
   "metadata": {
    "execution": {
     "iopub.execute_input": "2025-07-30T21:29:20.963326Z",
     "iopub.status.busy": "2025-07-30T21:29:20.962936Z",
     "iopub.status.idle": "2025-07-30T21:29:20.970795Z",
     "shell.execute_reply": "2025-07-30T21:29:20.969627Z"
    },
    "papermill": {
     "duration": 0.037199,
     "end_time": "2025-07-30T21:29:20.972868",
     "exception": false,
     "start_time": "2025-07-30T21:29:20.935669",
     "status": "completed"
    },
    "tags": []
   },
   "outputs": [
    {
     "data": {
      "text/plain": [
       "{'frau1': 0.9102304892842701,\n",
       " 'nongerman': 0.9571099758603268,\n",
       " 'nongerman_male': 0.9652346212735297,\n",
       " 'nongerman_female': 0.9436661698956781}"
      ]
     },
     "execution_count": 69,
     "metadata": {},
     "output_type": "execute_result"
    }
   ],
   "source": [
    "cond_coverage"
   ]
  },
  {
   "cell_type": "code",
   "execution_count": 70,
   "id": "f5093324-c3dd-4d63-bc4c-8d945e5c8bbb",
   "metadata": {
    "execution": {
     "iopub.execute_input": "2025-07-30T21:29:21.027602Z",
     "iopub.status.busy": "2025-07-30T21:29:21.026667Z",
     "iopub.status.idle": "2025-07-30T21:29:21.034493Z",
     "shell.execute_reply": "2025-07-30T21:29:21.033401Z"
    },
    "papermill": {
     "duration": 0.042315,
     "end_time": "2025-07-30T21:29:21.040160",
     "exception": false,
     "start_time": "2025-07-30T21:29:20.997845",
     "status": "completed"
    },
    "tags": []
   },
   "outputs": [],
   "source": [
    "for subgroup, cov in cond_coverage.items():\n",
    "    cp_metrics_df[f\"cov_{subgroup}\"] = cov"
   ]
  },
  {
   "cell_type": "code",
   "execution_count": 71,
   "id": "6e872e10-dbe5-49e8-b554-5030c98ff75d",
   "metadata": {
    "execution": {
     "iopub.execute_input": "2025-07-30T21:29:21.102328Z",
     "iopub.status.busy": "2025-07-30T21:29:21.101869Z",
     "iopub.status.idle": "2025-07-30T21:29:21.127076Z",
     "shell.execute_reply": "2025-07-30T21:29:21.126039Z"
    },
    "papermill": {
     "duration": 0.058873,
     "end_time": "2025-07-30T21:29:21.129195",
     "exception": false,
     "start_time": "2025-07-30T21:29:21.070322",
     "status": "completed"
    },
    "tags": []
   },
   "outputs": [
    {
     "data": {
      "text/html": [
       "<div>\n",
       "<style scoped>\n",
       "    .dataframe tbody tr th:only-of-type {\n",
       "        vertical-align: middle;\n",
       "    }\n",
       "\n",
       "    .dataframe tbody tr th {\n",
       "        vertical-align: top;\n",
       "    }\n",
       "\n",
       "    .dataframe thead th {\n",
       "        text-align: right;\n",
       "    }\n",
       "</style>\n",
       "<table border=\"1\" class=\"dataframe\">\n",
       "  <thead>\n",
       "    <tr style=\"text-align: right;\">\n",
       "      <th></th>\n",
       "      <th>universe_id</th>\n",
       "      <th>universe_training_year</th>\n",
       "      <th>universe_training_size</th>\n",
       "      <th>universe_scale</th>\n",
       "      <th>universe_model</th>\n",
       "      <th>universe_exclude_features</th>\n",
       "      <th>universe_exclude_subgroups</th>\n",
       "      <th>q_hat</th>\n",
       "      <th>coverage</th>\n",
       "      <th>avg_size</th>\n",
       "      <th>cov_frau1</th>\n",
       "      <th>cov_nongerman</th>\n",
       "      <th>cov_nongerman_male</th>\n",
       "      <th>cov_nongerman_female</th>\n",
       "    </tr>\n",
       "  </thead>\n",
       "  <tbody>\n",
       "    <tr>\n",
       "      <th>0</th>\n",
       "      <td>4116f1697dbc7e6e489e663c66dfbb1a</td>\n",
       "      <td>2014</td>\n",
       "      <td>1k</td>\n",
       "      <td>do-not-scale</td>\n",
       "      <td>penalized_logreg</td>\n",
       "      <td>age</td>\n",
       "      <td>drop-non-german</td>\n",
       "      <td>0.677701</td>\n",
       "      <td>0.910378</td>\n",
       "      <td>1.285074</td>\n",
       "      <td>0.91023</td>\n",
       "      <td>0.95711</td>\n",
       "      <td>0.965235</td>\n",
       "      <td>0.943666</td>\n",
       "    </tr>\n",
       "  </tbody>\n",
       "</table>\n",
       "</div>"
      ],
      "text/plain": [
       "                        universe_id universe_training_year  \\\n",
       "0  4116f1697dbc7e6e489e663c66dfbb1a                   2014   \n",
       "\n",
       "  universe_training_size universe_scale    universe_model  \\\n",
       "0                     1k   do-not-scale  penalized_logreg   \n",
       "\n",
       "  universe_exclude_features universe_exclude_subgroups     q_hat  coverage  \\\n",
       "0                       age            drop-non-german  0.677701  0.910378   \n",
       "\n",
       "   avg_size  cov_frau1  cov_nongerman  cov_nongerman_male  \\\n",
       "0  1.285074    0.91023        0.95711            0.965235   \n",
       "\n",
       "   cov_nongerman_female  \n",
       "0              0.943666  "
      ]
     },
     "execution_count": 71,
     "metadata": {},
     "output_type": "execute_result"
    }
   ],
   "source": [
    "cp_metrics_df"
   ]
  },
  {
   "cell_type": "markdown",
   "id": "33774451",
   "metadata": {
    "papermill": {
     "duration": 0.028447,
     "end_time": "2025-07-30T21:29:21.189537",
     "exception": false,
     "start_time": "2025-07-30T21:29:21.161090",
     "status": "completed"
    },
    "tags": []
   },
   "source": [
    "# (Fairness) Metrics"
   ]
  },
  {
   "cell_type": "code",
   "execution_count": 72,
   "id": "debc5d62",
   "metadata": {
    "execution": {
     "iopub.execute_input": "2025-07-30T21:29:21.266390Z",
     "iopub.status.busy": "2025-07-30T21:29:21.265938Z",
     "iopub.status.idle": "2025-07-30T21:29:21.337912Z",
     "shell.execute_reply": "2025-07-30T21:29:21.334938Z"
    },
    "papermill": {
     "duration": 0.105534,
     "end_time": "2025-07-30T21:29:21.339728",
     "exception": false,
     "start_time": "2025-07-30T21:29:21.234194",
     "status": "completed"
    },
    "tags": []
   },
   "outputs": [],
   "source": [
    "# do I need to include maxdeutsch1.missing?\n",
    "\n",
    "import numpy as np\n",
    "\n",
    "colname_to_bin = \"maxdeutsch1\"\n",
    "majority_value = org_train[colname_to_bin].mode()[0]\n",
    "\n",
    "org_test[\"majmin\"] = np.where(org_test[colname_to_bin] == majority_value, \"majority\", \"minority\")"
   ]
  },
  {
   "cell_type": "code",
   "execution_count": 73,
   "id": "06a50de5",
   "metadata": {
    "execution": {
     "iopub.execute_input": "2025-07-30T21:29:21.391752Z",
     "iopub.status.busy": "2025-07-30T21:29:21.391376Z",
     "iopub.status.idle": "2025-07-30T21:29:24.210879Z",
     "shell.execute_reply": "2025-07-30T21:29:24.210161Z"
    },
    "papermill": {
     "duration": 2.848108,
     "end_time": "2025-07-30T21:29:24.212312",
     "exception": false,
     "start_time": "2025-07-30T21:29:21.364204",
     "status": "completed"
    },
    "tags": []
   },
   "outputs": [],
   "source": [
    "example_universe = universe.copy()\n",
    "example_universe[\"cutoff\"] = example_universe[\"cutoff\"][0]\n",
    "example_universe[\"eval_fairness_grouping\"] = example_universe[\"eval_fairness_grouping\"][0]\n",
    "fairness_dict, metric_frame = universe_analysis.compute_metrics(\n",
    "    example_universe,\n",
    "    y_pred_prob=probs_test,\n",
    "    y_test=y_true,\n",
    "    org_test=org_test,\n",
    ")"
   ]
  },
  {
   "cell_type": "markdown",
   "id": "f95d4e02",
   "metadata": {
    "papermill": {
     "duration": 0.015606,
     "end_time": "2025-07-30T21:29:24.244312",
     "exception": false,
     "start_time": "2025-07-30T21:29:24.228706",
     "status": "completed"
    },
    "tags": []
   },
   "source": [
    "# Overall"
   ]
  },
  {
   "cell_type": "markdown",
   "id": "bdee4871",
   "metadata": {
    "papermill": {
     "duration": 0.013827,
     "end_time": "2025-07-30T21:29:24.271537",
     "exception": false,
     "start_time": "2025-07-30T21:29:24.257710",
     "status": "completed"
    },
    "tags": []
   },
   "source": [
    "Fairness\n",
    "Main fairness target: Equalized Odds. Seems to be a better fit than equal opportunity, since we're not only interested in Y = 1. Seems to be a better fit than demographic parity, since we also care about accuracy, not just equal distribution of preds.\n",
    "\n",
    "Pick column for computation of fairness metrics\n",
    "\n",
    "Performance\n",
    "Overall performance measures, most interesting in relation to the measures split by group below"
   ]
  },
  {
   "cell_type": "code",
   "execution_count": 74,
   "id": "c4e067c6",
   "metadata": {
    "execution": {
     "iopub.execute_input": "2025-07-30T21:29:24.316797Z",
     "iopub.status.busy": "2025-07-30T21:29:24.316286Z",
     "iopub.status.idle": "2025-07-30T21:29:24.325257Z",
     "shell.execute_reply": "2025-07-30T21:29:24.324059Z"
    },
    "papermill": {
     "duration": 0.038527,
     "end_time": "2025-07-30T21:29:24.326679",
     "exception": false,
     "start_time": "2025-07-30T21:29:24.288152",
     "status": "completed"
    },
    "tags": []
   },
   "outputs": [
    {
     "data": {
      "text/plain": [
       "accuracy                   0.214993\n",
       "balanced accuracy          0.527652\n",
       "f1                         0.236582\n",
       "precision                  0.135152\n",
       "false positive rate        0.892906\n",
       "false negative rate        0.051790\n",
       "selection rate             0.900000\n",
       "count                  89710.000000\n",
       "dtype: float64"
      ]
     },
     "execution_count": 74,
     "metadata": {},
     "output_type": "execute_result"
    }
   ],
   "source": [
    "metric_frame.overall"
   ]
  },
  {
   "cell_type": "markdown",
   "id": "e968fe9d",
   "metadata": {
    "papermill": {
     "duration": 0.027264,
     "end_time": "2025-07-30T21:29:24.378252",
     "exception": false,
     "start_time": "2025-07-30T21:29:24.350988",
     "status": "completed"
    },
    "tags": []
   },
   "source": [
    "By Group"
   ]
  },
  {
   "cell_type": "code",
   "execution_count": 75,
   "id": "ec325bce",
   "metadata": {
    "execution": {
     "iopub.execute_input": "2025-07-30T21:29:24.430453Z",
     "iopub.status.busy": "2025-07-30T21:29:24.429999Z",
     "iopub.status.idle": "2025-07-30T21:29:24.446141Z",
     "shell.execute_reply": "2025-07-30T21:29:24.445200Z"
    },
    "papermill": {
     "duration": 0.046115,
     "end_time": "2025-07-30T21:29:24.447876",
     "exception": false,
     "start_time": "2025-07-30T21:29:24.401761",
     "status": "completed"
    },
    "tags": []
   },
   "outputs": [
    {
     "data": {
      "text/html": [
       "<div>\n",
       "<style scoped>\n",
       "    .dataframe tbody tr th:only-of-type {\n",
       "        vertical-align: middle;\n",
       "    }\n",
       "\n",
       "    .dataframe tbody tr th {\n",
       "        vertical-align: top;\n",
       "    }\n",
       "\n",
       "    .dataframe thead th {\n",
       "        text-align: right;\n",
       "    }\n",
       "</style>\n",
       "<table border=\"1\" class=\"dataframe\">\n",
       "  <thead>\n",
       "    <tr style=\"text-align: right;\">\n",
       "      <th></th>\n",
       "      <th>accuracy</th>\n",
       "      <th>balanced accuracy</th>\n",
       "      <th>f1</th>\n",
       "      <th>precision</th>\n",
       "      <th>false positive rate</th>\n",
       "      <th>false negative rate</th>\n",
       "      <th>selection rate</th>\n",
       "      <th>count</th>\n",
       "    </tr>\n",
       "    <tr>\n",
       "      <th>majmin</th>\n",
       "      <th></th>\n",
       "      <th></th>\n",
       "      <th></th>\n",
       "      <th></th>\n",
       "      <th></th>\n",
       "      <th></th>\n",
       "      <th></th>\n",
       "      <th></th>\n",
       "    </tr>\n",
       "  </thead>\n",
       "  <tbody>\n",
       "    <tr>\n",
       "      <th>majority</th>\n",
       "      <td>0.235666</td>\n",
       "      <td>0.534510</td>\n",
       "      <td>0.245429</td>\n",
       "      <td>0.141124</td>\n",
       "      <td>0.871681</td>\n",
       "      <td>0.059300</td>\n",
       "      <td>0.880801</td>\n",
       "      <td>69170.0</td>\n",
       "    </tr>\n",
       "    <tr>\n",
       "      <th>minority</th>\n",
       "      <td>0.145375</td>\n",
       "      <td>0.507088</td>\n",
       "      <td>0.208638</td>\n",
       "      <td>0.116786</td>\n",
       "      <td>0.963020</td>\n",
       "      <td>0.022804</td>\n",
       "      <td>0.964654</td>\n",
       "      <td>20540.0</td>\n",
       "    </tr>\n",
       "  </tbody>\n",
       "</table>\n",
       "</div>"
      ],
      "text/plain": [
       "          accuracy  balanced accuracy        f1  precision  \\\n",
       "majmin                                                       \n",
       "majority  0.235666           0.534510  0.245429   0.141124   \n",
       "minority  0.145375           0.507088  0.208638   0.116786   \n",
       "\n",
       "          false positive rate  false negative rate  selection rate    count  \n",
       "majmin                                                                       \n",
       "majority             0.871681             0.059300        0.880801  69170.0  \n",
       "minority             0.963020             0.022804        0.964654  20540.0  "
      ]
     },
     "execution_count": 75,
     "metadata": {},
     "output_type": "execute_result"
    }
   ],
   "source": [
    "metric_frame.by_group"
   ]
  },
  {
   "cell_type": "code",
   "execution_count": 76,
   "id": "a9ddbe63",
   "metadata": {
    "execution": {
     "iopub.execute_input": "2025-07-30T21:29:24.504767Z",
     "iopub.status.busy": "2025-07-30T21:29:24.503933Z",
     "iopub.status.idle": "2025-07-30T21:29:26.754402Z",
     "shell.execute_reply": "2025-07-30T21:29:26.753462Z"
    },
    "papermill": {
     "duration": 2.2802,
     "end_time": "2025-07-30T21:29:26.756136",
     "exception": false,
     "start_time": "2025-07-30T21:29:24.475936",
     "status": "completed"
    },
    "tags": []
   },
   "outputs": [
    {
     "data": {
      "text/plain": [
       "array([[<Axes: title={'center': 'accuracy'}, xlabel='majmin'>,\n",
       "        <Axes: title={'center': 'balanced accuracy'}, xlabel='majmin'>,\n",
       "        <Axes: title={'center': 'f1'}, xlabel='majmin'>],\n",
       "       [<Axes: title={'center': 'precision'}, xlabel='majmin'>,\n",
       "        <Axes: title={'center': 'false positive rate'}, xlabel='majmin'>,\n",
       "        <Axes: title={'center': 'false negative rate'}, xlabel='majmin'>],\n",
       "       [<Axes: title={'center': 'selection rate'}, xlabel='majmin'>,\n",
       "        <Axes: title={'center': 'count'}, xlabel='majmin'>,\n",
       "        <Axes: xlabel='majmin'>]], dtype=object)"
      ]
     },
     "execution_count": 76,
     "metadata": {},
     "output_type": "execute_result"
    },
    {
     "data": {
      "image/png": "[encoded data removed]",
      "text/plain": [
       "<Figure size 1200x800 with 9 Axes>"
      ]
     },
     "metadata": {},
     "output_type": "display_data"
    }
   ],
   "source": [
    "# In a graphic\n",
    "metric_frame.by_group.plot.bar(\n",
    "    subplots=True,\n",
    "    layout=[3, 3],\n",
    "    legend=False,\n",
    "    figsize=[12, 8],\n",
    "    title=\"Show all metrics\",\n",
    ")"
   ]
  },
  {
   "cell_type": "markdown",
   "id": "f57a0bac",
   "metadata": {
    "papermill": {
     "duration": 0.02613,
     "end_time": "2025-07-30T21:29:26.810404",
     "exception": false,
     "start_time": "2025-07-30T21:29:26.784274",
     "status": "completed"
    },
    "tags": []
   },
   "source": [
    "# Final Output"
   ]
  },
  {
   "cell_type": "code",
   "execution_count": 77,
   "id": "96d280a3",
   "metadata": {
    "execution": {
     "iopub.execute_input": "2025-07-30T21:29:26.865379Z",
     "iopub.status.busy": "2025-07-30T21:29:26.864741Z",
     "iopub.status.idle": "2025-07-30T21:29:26.872956Z",
     "shell.execute_reply": "2025-07-30T21:29:26.872084Z"
    },
    "papermill": {
     "duration": 0.036817,
     "end_time": "2025-07-30T21:29:26.874396",
     "exception": false,
     "start_time": "2025-07-30T21:29:26.837579",
     "status": "completed"
    },
    "tags": []
   },
   "outputs": [
    {
     "data": {
      "text/plain": [
       "4"
      ]
     },
     "execution_count": 77,
     "metadata": {},
     "output_type": "execute_result"
    }
   ],
   "source": [
    "sub_universes = universe_analysis.generate_sub_universes()\n",
    "len(sub_universes)"
   ]
  },
  {
   "cell_type": "code",
   "execution_count": 78,
   "id": "92adf7ba",
   "metadata": {
    "execution": {
     "iopub.execute_input": "2025-07-30T21:29:26.930164Z",
     "iopub.status.busy": "2025-07-30T21:29:26.929447Z",
     "iopub.status.idle": "2025-07-30T21:29:26.935696Z",
     "shell.execute_reply": "2025-07-30T21:29:26.934796Z"
    },
    "papermill": {
     "duration": 0.035926,
     "end_time": "2025-07-30T21:29:26.937341",
     "exception": false,
     "start_time": "2025-07-30T21:29:26.901415",
     "status": "completed"
    },
    "tags": []
   },
   "outputs": [],
   "source": [
    "def filter_sub_universe_data(sub_universe, org_test):\n",
    "    # Keep all rows — no filtering\n",
    "    keep_rows_mask = np.ones(org_test.shape[0], dtype=bool)\n",
    "\n",
    "    print(f\"[INFO] Keeping all rows: {keep_rows_mask.sum()} rows retained.\")\n",
    "    return keep_rows_mask"
   ]
  },
  {
   "cell_type": "code",
   "execution_count": 79,
   "id": "4a759155",
   "metadata": {
    "execution": {
     "iopub.execute_input": "2025-07-30T21:29:26.993681Z",
     "iopub.status.busy": "2025-07-30T21:29:26.993216Z",
     "iopub.status.idle": "2025-07-30T21:29:35.586266Z",
     "shell.execute_reply": "2025-07-30T21:29:35.585571Z"
    },
    "papermill": {
     "duration": 8.623482,
     "end_time": "2025-07-30T21:29:35.587630",
     "exception": false,
     "start_time": "2025-07-30T21:29:26.964148",
     "status": "completed"
    },
    "tags": []
   },
   "outputs": [
    {
     "name": "stdout",
     "output_type": "stream",
     "text": [
      "Stopping execution_time clock.\n",
      "[INFO] Keeping all rows: 89710 rows retained.\n"
     ]
    },
    {
     "name": "stdout",
     "output_type": "stream",
     "text": [
      "[INFO] Keeping all rows: 89710 rows retained.\n"
     ]
    },
    {
     "name": "stdout",
     "output_type": "stream",
     "text": [
      "[INFO] Keeping all rows: 89710 rows retained.\n"
     ]
    },
    {
     "name": "stdout",
     "output_type": "stream",
     "text": [
      "[INFO] Keeping all rows: 89710 rows retained.\n"
     ]
    },
    {
     "data": {
      "text/html": [
       "<div>\n",
       "<style scoped>\n",
       "    .dataframe tbody tr th:only-of-type {\n",
       "        vertical-align: middle;\n",
       "    }\n",
       "\n",
       "    .dataframe tbody tr th {\n",
       "        vertical-align: top;\n",
       "    }\n",
       "\n",
       "    .dataframe thead th {\n",
       "        text-align: right;\n",
       "    }\n",
       "</style>\n",
       "<table border=\"1\" class=\"dataframe\">\n",
       "  <thead>\n",
       "    <tr style=\"text-align: right;\">\n",
       "      <th></th>\n",
       "      <th>run_no</th>\n",
       "      <th>universe_id</th>\n",
       "      <th>universe_settings</th>\n",
       "      <th>execution_time</th>\n",
       "      <th>test_size_n</th>\n",
       "      <th>test_size_frac</th>\n",
       "      <th>fair_main_equalized_odds_difference</th>\n",
       "      <th>fair_main_equalized_odds_ratio</th>\n",
       "      <th>fair_main_demographic_parity_difference</th>\n",
       "      <th>fair_main_demographic_parity_ratio</th>\n",
       "      <th>...</th>\n",
       "      <th>perf_grp_precision_0</th>\n",
       "      <th>perf_grp_precision_1</th>\n",
       "      <th>perf_grp_false positive rate_0</th>\n",
       "      <th>perf_grp_false positive rate_1</th>\n",
       "      <th>perf_grp_false negative rate_0</th>\n",
       "      <th>perf_grp_false negative rate_1</th>\n",
       "      <th>perf_grp_selection rate_0</th>\n",
       "      <th>perf_grp_selection rate_1</th>\n",
       "      <th>perf_grp_count_0</th>\n",
       "      <th>perf_grp_count_1</th>\n",
       "    </tr>\n",
       "  </thead>\n",
       "  <tbody>\n",
       "    <tr>\n",
       "      <th>0</th>\n",
       "      <td>14</td>\n",
       "      <td>4116f1697dbc7e6e489e663c66dfbb1a</td>\n",
       "      <td>{\"cutoff\": \"quantile_0.1\", \"eval_fairness_grou...</td>\n",
       "      <td>26.091704</td>\n",
       "      <td>89710</td>\n",
       "      <td>1.0</td>\n",
       "      <td>0.091339</td>\n",
       "      <td>0.905153</td>\n",
       "      <td>0.083853</td>\n",
       "      <td>0.913074</td>\n",
       "      <td>...</td>\n",
       "      <td>NaN</td>\n",
       "      <td>NaN</td>\n",
       "      <td>NaN</td>\n",
       "      <td>NaN</td>\n",
       "      <td>NaN</td>\n",
       "      <td>NaN</td>\n",
       "      <td>NaN</td>\n",
       "      <td>NaN</td>\n",
       "      <td>NaN</td>\n",
       "      <td>NaN</td>\n",
       "    </tr>\n",
       "    <tr>\n",
       "      <th>0</th>\n",
       "      <td>14</td>\n",
       "      <td>4116f1697dbc7e6e489e663c66dfbb1a</td>\n",
       "      <td>{\"cutoff\": \"quantile_0.1\", \"eval_fairness_grou...</td>\n",
       "      <td>26.091704</td>\n",
       "      <td>89710</td>\n",
       "      <td>1.0</td>\n",
       "      <td>0.091339</td>\n",
       "      <td>0.905153</td>\n",
       "      <td>0.083853</td>\n",
       "      <td>0.913074</td>\n",
       "      <td>...</td>\n",
       "      <td>0.116786</td>\n",
       "      <td>0.141124</td>\n",
       "      <td>0.963020</td>\n",
       "      <td>0.871681</td>\n",
       "      <td>0.022804</td>\n",
       "      <td>0.059300</td>\n",
       "      <td>0.964654</td>\n",
       "      <td>0.880801</td>\n",
       "      <td>20540.0</td>\n",
       "      <td>69170.0</td>\n",
       "    </tr>\n",
       "    <tr>\n",
       "      <th>0</th>\n",
       "      <td>14</td>\n",
       "      <td>4116f1697dbc7e6e489e663c66dfbb1a</td>\n",
       "      <td>{\"cutoff\": \"quantile_0.25\", \"eval_fairness_gro...</td>\n",
       "      <td>26.091704</td>\n",
       "      <td>89710</td>\n",
       "      <td>1.0</td>\n",
       "      <td>0.219820</td>\n",
       "      <td>0.756844</td>\n",
       "      <td>0.203516</td>\n",
       "      <td>0.775595</td>\n",
       "      <td>...</td>\n",
       "      <td>NaN</td>\n",
       "      <td>NaN</td>\n",
       "      <td>NaN</td>\n",
       "      <td>NaN</td>\n",
       "      <td>NaN</td>\n",
       "      <td>NaN</td>\n",
       "      <td>NaN</td>\n",
       "      <td>NaN</td>\n",
       "      <td>NaN</td>\n",
       "      <td>NaN</td>\n",
       "    </tr>\n",
       "    <tr>\n",
       "      <th>0</th>\n",
       "      <td>14</td>\n",
       "      <td>4116f1697dbc7e6e489e663c66dfbb1a</td>\n",
       "      <td>{\"cutoff\": \"quantile_0.25\", \"eval_fairness_gro...</td>\n",
       "      <td>26.091704</td>\n",
       "      <td>89710</td>\n",
       "      <td>1.0</td>\n",
       "      <td>0.219820</td>\n",
       "      <td>0.756844</td>\n",
       "      <td>0.203516</td>\n",
       "      <td>0.775595</td>\n",
       "      <td>...</td>\n",
       "      <td>0.118102</td>\n",
       "      <td>0.155815</td>\n",
       "      <td>0.904028</td>\n",
       "      <td>0.684208</td>\n",
       "      <td>0.070946</td>\n",
       "      <td>0.170569</td>\n",
       "      <td>0.906913</td>\n",
       "      <td>0.703397</td>\n",
       "      <td>20540.0</td>\n",
       "      <td>69170.0</td>\n",
       "    </tr>\n",
       "  </tbody>\n",
       "</table>\n",
       "<p>4 rows × 50 columns</p>\n",
       "</div>"
      ],
      "text/plain": [
       "  run_no                       universe_id  \\\n",
       "0     14  4116f1697dbc7e6e489e663c66dfbb1a   \n",
       "0     14  4116f1697dbc7e6e489e663c66dfbb1a   \n",
       "0     14  4116f1697dbc7e6e489e663c66dfbb1a   \n",
       "0     14  4116f1697dbc7e6e489e663c66dfbb1a   \n",
       "\n",
       "                                   universe_settings  execution_time  \\\n",
       "0  {\"cutoff\": \"quantile_0.1\", \"eval_fairness_grou...       26.091704   \n",
       "0  {\"cutoff\": \"quantile_0.1\", \"eval_fairness_grou...       26.091704   \n",
       "0  {\"cutoff\": \"quantile_0.25\", \"eval_fairness_gro...       26.091704   \n",
       "0  {\"cutoff\": \"quantile_0.25\", \"eval_fairness_gro...       26.091704   \n",
       "\n",
       "   test_size_n  test_size_frac  fair_main_equalized_odds_difference  \\\n",
       "0        89710             1.0                             0.091339   \n",
       "0        89710             1.0                             0.091339   \n",
       "0        89710             1.0                             0.219820   \n",
       "0        89710             1.0                             0.219820   \n",
       "\n",
       "   fair_main_equalized_odds_ratio  fair_main_demographic_parity_difference  \\\n",
       "0                        0.905153                                 0.083853   \n",
       "0                        0.905153                                 0.083853   \n",
       "0                        0.756844                                 0.203516   \n",
       "0                        0.756844                                 0.203516   \n",
       "\n",
       "   fair_main_demographic_parity_ratio  ...  perf_grp_precision_0  \\\n",
       "0                            0.913074  ...                   NaN   \n",
       "0                            0.913074  ...              0.116786   \n",
       "0                            0.775595  ...                   NaN   \n",
       "0                            0.775595  ...              0.118102   \n",
       "\n",
       "   perf_grp_precision_1  perf_grp_false positive rate_0  \\\n",
       "0                   NaN                             NaN   \n",
       "0              0.141124                        0.963020   \n",
       "0                   NaN                             NaN   \n",
       "0              0.155815                        0.904028   \n",
       "\n",
       "   perf_grp_false positive rate_1  perf_grp_false negative rate_0  \\\n",
       "0                             NaN                             NaN   \n",
       "0                        0.871681                        0.022804   \n",
       "0                             NaN                             NaN   \n",
       "0                        0.684208                        0.070946   \n",
       "\n",
       "   perf_grp_false negative rate_1  perf_grp_selection rate_0  \\\n",
       "0                             NaN                        NaN   \n",
       "0                        0.059300                   0.964654   \n",
       "0                             NaN                        NaN   \n",
       "0                        0.170569                   0.906913   \n",
       "\n",
       "   perf_grp_selection rate_1  perf_grp_count_0  perf_grp_count_1  \n",
       "0                        NaN               NaN               NaN  \n",
       "0                   0.880801           20540.0           69170.0  \n",
       "0                        NaN               NaN               NaN  \n",
       "0                   0.703397           20540.0           69170.0  \n",
       "\n",
       "[4 rows x 50 columns]"
      ]
     },
     "execution_count": 79,
     "metadata": {},
     "output_type": "execute_result"
    }
   ],
   "source": [
    "final_output = universe_analysis.generate_final_output(\n",
    "    y_pred_prob=probs_test,\n",
    "    y_test=y_true,\n",
    "    org_test=org_test,\n",
    "    filter_data=filter_sub_universe_data,\n",
    "    cp_metrics_df=cp_metrics_df,\n",
    "    save=True,\n",
    ")\n",
    "final_output"
   ]
  },
  {
   "cell_type": "code",
   "execution_count": null,
   "id": "721ff514-cb11-46f8-b6fc-50392f74b5cb",
   "metadata": {
    "papermill": {
     "duration": 0.025556,
     "end_time": "2025-07-30T21:29:35.632673",
     "exception": false,
     "start_time": "2025-07-30T21:29:35.607117",
     "status": "completed"
    },
    "tags": []
   },
   "outputs": [],
   "source": []
  }
 ],
 "metadata": {
  "celltoolbar": "Tags",
  "kernelspec": {
   "display_name": "Python (CMA Fairness)",
   "language": "python",
   "name": "cma_fair_env"
  },
  "language_info": {
   "codemirror_mode": {
    "name": "ipython",
    "version": 3
   },
   "file_extension": ".py",
   "mimetype": "text/x-python",
   "name": "python",
   "nbconvert_exporter": "python",
   "pygments_lexer": "ipython3",
   "version": "3.10.12"
  },
  "papermill": {
   "default_parameters": {},
   "duration": 38.716687,
   "end_time": "2025-07-30T21:29:36.382338",
   "environment_variables": {},
   "exception": null,
   "input_path": "universe_analysis.ipynb",
   "output_path": "output/runs/14/notebooks/m_14-4116f1697dbc7e6e489e663c66dfbb1a.ipynb",
   "parameters": {
    "output_dir": "output",
    "run_no": "14",
    "seed": "2023",
    "universe": "{\"cutoff\": [\"quantile_0.1\", \"quantile_0.25\"], \"eval_fairness_grouping\": [\"majority-minority\", \"nationality-all\"], \"exclude_features\": \"age\", \"exclude_subgroups\": \"drop-non-german\", \"model\": \"penalized_logreg\", \"scale\": \"do-not-scale\", \"training_size\": \"1k\", \"training_year\": \"2014\"}",
    "universe_id": "4116f1697dbc7e6e489e663c66dfbb1a"
   },
   "start_time": "2025-07-30T21:28:57.665651",
   "version": "2.6.0"
  }
 },
 "nbformat": 4,
 "nbformat_minor": 5
}