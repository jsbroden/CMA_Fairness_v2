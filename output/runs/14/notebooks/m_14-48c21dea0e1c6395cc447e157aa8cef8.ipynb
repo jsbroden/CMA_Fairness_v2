{
 "cells": [
  {
   "cell_type": "code",
   "execution_count": 1,
   "id": "f159f837-637b-42ba-96b5-ec9a68c44524",
   "metadata": {
    "execution": {
     "iopub.execute_input": "2025-07-30T21:40:21.354898Z",
     "iopub.status.busy": "2025-07-30T21:40:21.354445Z",
     "iopub.status.idle": "2025-07-30T21:40:21.367304Z",
     "shell.execute_reply": "2025-07-30T21:40:21.366476Z"
    },
    "papermill": {
     "duration": 0.034813,
     "end_time": "2025-07-30T21:40:21.368597",
     "exception": false,
     "start_time": "2025-07-30T21:40:21.333784",
     "status": "completed"
    },
    "tags": []
   },
   "outputs": [
    {
     "name": "stdout",
     "output_type": "stream",
     "text": [
      "/dss/dsshome1/0C/ra93lal2/cma/CMA_Fairness_v2\n"
     ]
    },
    {
     "name": "stderr",
     "output_type": "stream",
     "text": [
      "/dss/dsshome1/0C/ra93lal2/.local/share/virtualenvs/CMA_Fairness_v2-3j10GkSs/lib/python3.10/site-packages/IPython/core/magics/osm.py:393: UserWarning: This is now an optional IPython functionality, using bookmarks requires you to install the `pickleshare` library.\n",
      "  bkms = self.shell.db.get('bookmarks', {})\n",
      "/dss/dsshome1/0C/ra93lal2/.local/share/virtualenvs/CMA_Fairness_v2-3j10GkSs/lib/python3.10/site-packages/IPython/core/magics/osm.py:417: UserWarning: This is now an optional IPython functionality, setting dhist requires you to install the `pickleshare` library.\n",
      "  self.shell.db['dhist'] = compress_dhist(dhist)[-100:]\n"
     ]
    }
   ],
   "source": [
    "%cd ~/cma/CMA_Fairness_v2"
   ]
  },
  {
   "cell_type": "markdown",
   "id": "de2603b9",
   "metadata": {
    "papermill": {
     "duration": 0.011538,
     "end_time": "2025-07-30T21:40:21.390203",
     "exception": false,
     "start_time": "2025-07-30T21:40:21.378665",
     "status": "completed"
    },
    "tags": []
   },
   "source": [
    "The following cell holds the definition of our parameters, these values can be overriden by rendering the with e.g. the following command:\n",
    "\n",
    "papermill -p alpha 0.2 -p ratio 0.3 universe_analysis.ipynb output/test_run.ipynb"
   ]
  },
  {
   "cell_type": "code",
   "execution_count": 2,
   "id": "a80968a0-40bb-4fa9-85ef-2d5eefb01975",
   "metadata": {
    "execution": {
     "iopub.execute_input": "2025-07-30T21:40:21.413470Z",
     "iopub.status.busy": "2025-07-30T21:40:21.412748Z",
     "iopub.status.idle": "2025-07-30T21:40:21.417797Z",
     "shell.execute_reply": "2025-07-30T21:40:21.417166Z"
    },
    "papermill": {
     "duration": 0.016666,
     "end_time": "2025-07-30T21:40:21.419009",
     "exception": false,
     "start_time": "2025-07-30T21:40:21.402343",
     "status": "completed"
    },
    "tags": []
   },
   "outputs": [
    {
     "name": "stdout",
     "output_type": "stream",
     "text": [
      "Current working directory: /dss/dsshome1/0C/ra93lal2/cma/CMA_Fairness_v2\n"
     ]
    }
   ],
   "source": [
    "import os\n",
    "print(\"Current working directory:\", os.getcwd())"
   ]
  },
  {
   "cell_type": "code",
   "execution_count": 3,
   "id": "2dce4c03",
   "metadata": {
    "execution": {
     "iopub.execute_input": "2025-07-30T21:40:21.439919Z",
     "iopub.status.busy": "2025-07-30T21:40:21.439416Z",
     "iopub.status.idle": "2025-07-30T21:40:21.443931Z",
     "shell.execute_reply": "2025-07-30T21:40:21.443265Z"
    },
    "papermill": {
     "duration": 0.016314,
     "end_time": "2025-07-30T21:40:21.445391",
     "exception": false,
     "start_time": "2025-07-30T21:40:21.429077",
     "status": "completed"
    },
    "tags": [
     "parameters"
    ]
   },
   "outputs": [],
   "source": [
    "run_no = 0\n",
    "universe_id = \"test\"\n",
    "universe = {\n",
    "    \"training_size\": \"25k\", # \"25k\", \"5k\", \"1k\"\n",
    "    \"training_year\": \"2014\", # \"2014\", \"2012_14\", \"2010_14\"\n",
    "    \"scale\": \"scale\", # \"scale\", \"do-not-scale\",\n",
    "    #\"stratify_split\": \"target\", # \"none\", \"target\", \"protected-attribute\", \"both\",\n",
    "    \"model\": \"elasticnet\", # \"logreg\", \"penalized_logreg\", \"rf\", \"gbm\", \"elasticnet\"\n",
    "    \"cutoff\": [\"quantile_0.15\", \"quantile_0.30\"],\n",
    "    \"exclude_features\": \"age\", # \"none\", \"nationality\", \"sex\", \"nationality-sex\", \"age\"\n",
    "    \"exclude_subgroups\": \"keep-all\", # \"keep-all\", \"drop-non-german\"\n",
    "    \"eval_fairness_grouping\": [\"majority-minority\", \"nationality-all\"]\n",
    "}\n",
    "\n",
    "output_dir=\"./output\"\n",
    "seed=0"
   ]
  },
  {
   "cell_type": "code",
   "execution_count": 4,
   "id": "d26ab5cf",
   "metadata": {
    "execution": {
     "iopub.execute_input": "2025-07-30T21:40:21.470673Z",
     "iopub.status.busy": "2025-07-30T21:40:21.469932Z",
     "iopub.status.idle": "2025-07-30T21:40:21.474307Z",
     "shell.execute_reply": "2025-07-30T21:40:21.473643Z"
    },
    "papermill": {
     "duration": 0.016433,
     "end_time": "2025-07-30T21:40:21.475513",
     "exception": false,
     "start_time": "2025-07-30T21:40:21.459080",
     "status": "completed"
    },
    "tags": [
     "injected-parameters"
    ]
   },
   "outputs": [],
   "source": [
    "# Parameters\n",
    "universe_id = \"48c21dea0e1c6395cc447e157aa8cef8\"\n",
    "run_no = \"14\"\n",
    "universe = \"{\\\"cutoff\\\": [\\\"quantile_0.1\\\", \\\"quantile_0.25\\\"], \\\"eval_fairness_grouping\\\": [\\\"majority-minority\\\", \\\"nationality-all\\\"], \\\"exclude_features\\\": \\\"nationality-sex\\\", \\\"exclude_subgroups\\\": \\\"keep-all\\\", \\\"model\\\": \\\"rf\\\", \\\"scale\\\": \\\"do-not-scale\\\", \\\"training_size\\\": \\\"1k\\\", \\\"training_year\\\": \\\"2012_14\\\"}\"\n",
    "output_dir = \"output\"\n",
    "seed = \"2023\"\n"
   ]
  },
  {
   "cell_type": "code",
   "execution_count": 5,
   "id": "1650acaf",
   "metadata": {
    "execution": {
     "iopub.execute_input": "2025-07-30T21:40:21.496838Z",
     "iopub.status.busy": "2025-07-30T21:40:21.496104Z",
     "iopub.status.idle": "2025-07-30T21:40:21.500257Z",
     "shell.execute_reply": "2025-07-30T21:40:21.499588Z"
    },
    "papermill": {
     "duration": 0.015788,
     "end_time": "2025-07-30T21:40:21.501490",
     "exception": false,
     "start_time": "2025-07-30T21:40:21.485702",
     "status": "completed"
    },
    "tags": []
   },
   "outputs": [],
   "source": [
    "import json\n",
    "# Parse universe into dict if it is passed as a string\n",
    "if isinstance(universe, str):\n",
    "    universe = json.loads(universe)"
   ]
  },
  {
   "cell_type": "code",
   "execution_count": 6,
   "id": "16620c48",
   "metadata": {
    "execution": {
     "iopub.execute_input": "2025-07-30T21:40:21.530374Z",
     "iopub.status.busy": "2025-07-30T21:40:21.529740Z",
     "iopub.status.idle": "2025-07-30T21:40:21.556764Z",
     "shell.execute_reply": "2025-07-30T21:40:21.556103Z"
    },
    "papermill": {
     "duration": 0.041447,
     "end_time": "2025-07-30T21:40:21.558084",
     "exception": false,
     "start_time": "2025-07-30T21:40:21.516637",
     "status": "completed"
    },
    "tags": []
   },
   "outputs": [],
   "source": [
    "# Auto-reload the custom package\n",
    "%load_ext autoreload\n",
    "%autoreload 1\n",
    "%aimport fairness_multiverse"
   ]
  },
  {
   "cell_type": "code",
   "execution_count": 7,
   "id": "01c5c9f3",
   "metadata": {
    "execution": {
     "iopub.execute_input": "2025-07-30T21:40:21.583552Z",
     "iopub.status.busy": "2025-07-30T21:40:21.583019Z",
     "iopub.status.idle": "2025-07-30T21:40:23.142297Z",
     "shell.execute_reply": "2025-07-30T21:40:23.141435Z"
    },
    "papermill": {
     "duration": 1.574488,
     "end_time": "2025-07-30T21:40:23.143817",
     "exception": false,
     "start_time": "2025-07-30T21:40:21.569329",
     "status": "completed"
    },
    "tags": []
   },
   "outputs": [],
   "source": [
    "from fairness_multiverse.universe import UniverseAnalysis\n",
    "\n",
    "universe_analysis = UniverseAnalysis(\n",
    "    run_no = run_no,\n",
    "    universe_id = universe_id,\n",
    "    universe = universe,\n",
    "    output_dir=output_dir,\n",
    ")"
   ]
  },
  {
   "cell_type": "code",
   "execution_count": 8,
   "id": "106241f5",
   "metadata": {
    "execution": {
     "iopub.execute_input": "2025-07-30T21:40:23.166408Z",
     "iopub.status.busy": "2025-07-30T21:40:23.165650Z",
     "iopub.status.idle": "2025-07-30T21:40:23.171395Z",
     "shell.execute_reply": "2025-07-30T21:40:23.170565Z"
    },
    "papermill": {
     "duration": 0.018176,
     "end_time": "2025-07-30T21:40:23.172864",
     "exception": false,
     "start_time": "2025-07-30T21:40:23.154688",
     "status": "completed"
    },
    "tags": []
   },
   "outputs": [
    {
     "name": "stdout",
     "output_type": "stream",
     "text": [
      "Using Seed: 2023\n"
     ]
    }
   ],
   "source": [
    "import numpy as np\n",
    "parsed_seed = int(seed)\n",
    "np.random.seed(parsed_seed)\n",
    "print(f\"Using Seed: {parsed_seed}\")"
   ]
  },
  {
   "cell_type": "markdown",
   "id": "e0ebdc57",
   "metadata": {
    "papermill": {
     "duration": 0.010432,
     "end_time": "2025-07-30T21:40:23.194138",
     "exception": false,
     "start_time": "2025-07-30T21:40:23.183706",
     "status": "completed"
    },
    "tags": []
   },
   "source": [
    "# Loading Data"
   ]
  },
  {
   "cell_type": "markdown",
   "id": "681925a3",
   "metadata": {
    "papermill": {
     "duration": 0.010234,
     "end_time": "2025-07-30T21:40:23.214729",
     "exception": false,
     "start_time": "2025-07-30T21:40:23.204495",
     "status": "completed"
    },
    "tags": []
   },
   "source": [
    "Load siab_train, siab_test, siab_calib and/or \n",
    "load siab_train_features, siab_train_labels"
   ]
  },
  {
   "cell_type": "code",
   "execution_count": 9,
   "id": "f0496b8a",
   "metadata": {
    "execution": {
     "iopub.execute_input": "2025-07-30T21:40:23.237129Z",
     "iopub.status.busy": "2025-07-30T21:40:23.236567Z",
     "iopub.status.idle": "2025-07-30T21:40:34.248430Z",
     "shell.execute_reply": "2025-07-30T21:40:34.247499Z"
    },
    "papermill": {
     "duration": 11.025542,
     "end_time": "2025-07-30T21:40:34.250707",
     "exception": false,
     "start_time": "2025-07-30T21:40:23.225165",
     "status": "completed"
    },
    "tags": []
   },
   "outputs": [
    {
     "name": "stdout",
     "output_type": "stream",
     "text": [
      "Loading SIAB data from cache: data/siab_cached.csv.gz\n"
     ]
    },
    {
     "name": "stdout",
     "output_type": "stream",
     "text": [
      "(643690, 164)\n"
     ]
    }
   ],
   "source": [
    "from pathlib import Path\n",
    "import pandas as pd\n",
    "\n",
    "# File paths\n",
    "raw_file = Path(\"data/raw/siab.csv\")\n",
    "cache_file = Path(\"data/siab_cached.csv.gz\")\n",
    "\n",
    "# Ensure cache directory exists\n",
    "cache_file.parent.mkdir(parents=True, exist_ok=True)\n",
    "\n",
    "# Load with simple caching\n",
    "if cache_file.exists():\n",
    "    print(f\"Loading SIAB data from cache: {cache_file}\")\n",
    "    siab = pd.read_csv(cache_file, compression='gzip')\n",
    "else:\n",
    "    print(f\"Cache not found. Reading raw SIAB data: {raw_file}\")\n",
    "    siab = pd.read_csv(raw_file)\n",
    "    siab.to_csv(cache_file, index=False, compression='gzip')\n",
    "    print(f\"Cached SIAB data to: {cache_file}\")\n",
    "\n",
    "# Now use `siab` DataFrame as needed\n",
    "print(siab.shape)"
   ]
  },
  {
   "cell_type": "code",
   "execution_count": 10,
   "id": "db0ca512-5f53-4dba-abdb-a2888bca41ba",
   "metadata": {
    "execution": {
     "iopub.execute_input": "2025-07-30T21:40:34.323968Z",
     "iopub.status.busy": "2025-07-30T21:40:34.323570Z",
     "iopub.status.idle": "2025-07-30T21:40:34.329599Z",
     "shell.execute_reply": "2025-07-30T21:40:34.328287Z"
    },
    "papermill": {
     "duration": 0.058719,
     "end_time": "2025-07-30T21:40:34.338869",
     "exception": false,
     "start_time": "2025-07-30T21:40:34.280150",
     "status": "completed"
    },
    "tags": []
   },
   "outputs": [],
   "source": [
    "#siab"
   ]
  },
  {
   "cell_type": "code",
   "execution_count": 11,
   "id": "a0edb063",
   "metadata": {
    "execution": {
     "iopub.execute_input": "2025-07-30T21:40:34.462623Z",
     "iopub.status.busy": "2025-07-30T21:40:34.462220Z",
     "iopub.status.idle": "2025-07-30T21:40:34.467759Z",
     "shell.execute_reply": "2025-07-30T21:40:34.466604Z"
    },
    "papermill": {
     "duration": 0.081763,
     "end_time": "2025-07-30T21:40:34.470590",
     "exception": false,
     "start_time": "2025-07-30T21:40:34.388827",
     "status": "completed"
    },
    "tags": []
   },
   "outputs": [],
   "source": [
    "#import pandas as pd\n",
    "#\n",
    "#X_train = pd.read_csv(\"./data/X_train.csv\")\n",
    "#y_train = pd.read_csv(\"./data/y_train.csv\")"
   ]
  },
  {
   "cell_type": "code",
   "execution_count": 12,
   "id": "63d08085",
   "metadata": {
    "execution": {
     "iopub.execute_input": "2025-07-30T21:40:34.572795Z",
     "iopub.status.busy": "2025-07-30T21:40:34.572309Z",
     "iopub.status.idle": "2025-07-30T21:40:34.578402Z",
     "shell.execute_reply": "2025-07-30T21:40:34.577574Z"
    },
    "papermill": {
     "duration": 0.061622,
     "end_time": "2025-07-30T21:40:34.580312",
     "exception": false,
     "start_time": "2025-07-30T21:40:34.518690",
     "status": "completed"
    },
    "tags": []
   },
   "outputs": [],
   "source": [
    "#X_test = pd.read_csv(\"./data/X_test.csv\")\n",
    "#y_true = pd.read_csv(\"./data/y_test.csv\")"
   ]
  },
  {
   "cell_type": "code",
   "execution_count": 13,
   "id": "98a8d0fa-1d3d-4ed8-bb2c-281470e24add",
   "metadata": {
    "execution": {
     "iopub.execute_input": "2025-07-30T21:40:34.660314Z",
     "iopub.status.busy": "2025-07-30T21:40:34.659926Z",
     "iopub.status.idle": "2025-07-30T21:40:34.665071Z",
     "shell.execute_reply": "2025-07-30T21:40:34.664073Z"
    },
    "papermill": {
     "duration": 0.038583,
     "end_time": "2025-07-30T21:40:34.667919",
     "exception": false,
     "start_time": "2025-07-30T21:40:34.629336",
     "status": "completed"
    },
    "tags": []
   },
   "outputs": [],
   "source": [
    "# Calibration data for conformal\n",
    "#X_calib = pd.read_csv(\"./data/X_calib.csv\")\n",
    "#y_calib = pd.read_csv(\"./data/y_calib.csv\")"
   ]
  },
  {
   "cell_type": "markdown",
   "id": "997051c5-15bd-4b69-9786-c3001a3ce484",
   "metadata": {
    "papermill": {
     "duration": 0.021403,
     "end_time": "2025-07-30T21:40:34.744067",
     "exception": false,
     "start_time": "2025-07-30T21:40:34.722664",
     "status": "completed"
    },
    "tags": []
   },
   "source": [
    "# Splitting Data and Setting Training Data Size"
   ]
  },
  {
   "cell_type": "code",
   "execution_count": 14,
   "id": "e993b61f-042d-41a6-8c81-f55681f86335",
   "metadata": {
    "execution": {
     "iopub.execute_input": "2025-07-30T21:40:34.784782Z",
     "iopub.status.busy": "2025-07-30T21:40:34.784305Z",
     "iopub.status.idle": "2025-07-30T21:40:34.799726Z",
     "shell.execute_reply": "2025-07-30T21:40:34.798735Z"
    },
    "papermill": {
     "duration": 0.039842,
     "end_time": "2025-07-30T21:40:34.802774",
     "exception": false,
     "start_time": "2025-07-30T21:40:34.762932",
     "status": "completed"
    },
    "tags": []
   },
   "outputs": [],
   "source": [
    "def sample_by_year_size(df,\n",
    "                        training_year: str,\n",
    "                        training_size: str,\n",
    "                        random_state: int = 42):\n",
    "    # --- parse training_year into a list of int years ---\n",
    "    if \"_\" in training_year:\n",
    "        start_str, end_str = training_year.split(\"_\", 1)\n",
    "        start = int(start_str)\n",
    "        end   = int(end_str) if len(end_str) == 4 else (int(end_str) + (start // 100)*100)\n",
    "        years = list(range(start, end + 1))\n",
    "    else:\n",
    "        years = [int(training_year)]\n",
    "\n",
    "    df = df[df[\"year\"].isin(years)].reset_index(drop=True)\n",
    "\n",
    "    # --- map training_size to total number of samples ---\n",
    "    total_map = {\"25k\": 25_000, \"5k\": 5_000, \"1k\": 1_000}\n",
    "    if training_size not in total_map:\n",
    "        return df  # e.g. \"all\"\n",
    "\n",
    "    total_samples = total_map[training_size]\n",
    "    n_years       = len(years)\n",
    "    base          = total_samples // n_years\n",
    "    remainder     = total_samples % n_years\n",
    "\n",
    "    # --- build a dict: year -> how many to sample ---\n",
    "    # give +1 to the first `remainder` years in ascending order\n",
    "    quotas = {\n",
    "        year: base + (1 if idx < remainder else 0)\n",
    "        for idx, year in enumerate(sorted(years))\n",
    "    }\n",
    "\n",
    "    # --- sample per‐year according to the quota dict ---\n",
    "    sampled = (\n",
    "        df\n",
    "        .groupby(\"year\", group_keys=False)\n",
    "        .apply(lambda grp: grp.sample(\n",
    "            n=min(len(grp), quotas[grp.name]),\n",
    "            random_state=random_state))\n",
    "        .reset_index(drop=True)\n",
    "    )\n",
    "\n",
    "    return sampled"
   ]
  },
  {
   "cell_type": "code",
   "execution_count": 15,
   "id": "c0ccd338-0e02-41f3-a09d-f56f9266e3fb",
   "metadata": {
    "execution": {
     "iopub.execute_input": "2025-07-30T21:40:34.866872Z",
     "iopub.status.busy": "2025-07-30T21:40:34.866489Z",
     "iopub.status.idle": "2025-07-30T21:40:34.871729Z",
     "shell.execute_reply": "2025-07-30T21:40:34.870714Z"
    },
    "papermill": {
     "duration": 0.027017,
     "end_time": "2025-07-30T21:40:34.874246",
     "exception": false,
     "start_time": "2025-07-30T21:40:34.847229",
     "status": "completed"
    },
    "tags": []
   },
   "outputs": [],
   "source": [
    "#universe[\"training_size\"]"
   ]
  },
  {
   "cell_type": "code",
   "execution_count": 16,
   "id": "ca707fd7-8047-4acd-bfa5-66248fbbf8e6",
   "metadata": {
    "execution": {
     "iopub.execute_input": "2025-07-30T21:40:34.917143Z",
     "iopub.status.busy": "2025-07-30T21:40:34.916781Z",
     "iopub.status.idle": "2025-07-30T21:40:34.921070Z",
     "shell.execute_reply": "2025-07-30T21:40:34.920138Z"
    },
    "papermill": {
     "duration": 0.025274,
     "end_time": "2025-07-30T21:40:34.922352",
     "exception": false,
     "start_time": "2025-07-30T21:40:34.897078",
     "status": "completed"
    },
    "tags": []
   },
   "outputs": [],
   "source": [
    "#universe[\"training_year\"]"
   ]
  },
  {
   "cell_type": "code",
   "execution_count": 17,
   "id": "aea9c6ef-6f46-42c8-85eb-5a62025c1508",
   "metadata": {
    "execution": {
     "iopub.execute_input": "2025-07-30T21:40:34.969142Z",
     "iopub.status.busy": "2025-07-30T21:40:34.968748Z",
     "iopub.status.idle": "2025-07-30T21:40:35.736634Z",
     "shell.execute_reply": "2025-07-30T21:40:35.735702Z"
    },
    "papermill": {
     "duration": 0.804482,
     "end_time": "2025-07-30T21:40:35.749597",
     "exception": false,
     "start_time": "2025-07-30T21:40:34.945115",
     "status": "completed"
    },
    "tags": []
   },
   "outputs": [],
   "source": [
    "siab_train = sample_by_year_size(siab,\n",
    "                               training_year=universe[\"training_year\"],\n",
    "                               training_size=universe[\"training_size\"])"
   ]
  },
  {
   "cell_type": "code",
   "execution_count": 18,
   "id": "8d3afb32-789d-442c-8d5d-9f5aa8dd2eed",
   "metadata": {
    "execution": {
     "iopub.execute_input": "2025-07-30T21:40:35.830572Z",
     "iopub.status.busy": "2025-07-30T21:40:35.830148Z",
     "iopub.status.idle": "2025-07-30T21:40:35.835382Z",
     "shell.execute_reply": "2025-07-30T21:40:35.834424Z"
    },
    "papermill": {
     "duration": 0.070668,
     "end_time": "2025-07-30T21:40:35.842545",
     "exception": false,
     "start_time": "2025-07-30T21:40:35.771877",
     "status": "completed"
    },
    "tags": []
   },
   "outputs": [],
   "source": [
    "#siab_train.shape"
   ]
  },
  {
   "cell_type": "code",
   "execution_count": 19,
   "id": "d582db68-1a4c-47fb-84fc-08518dc1975a",
   "metadata": {
    "execution": {
     "iopub.execute_input": "2025-07-30T21:40:35.909548Z",
     "iopub.status.busy": "2025-07-30T21:40:35.907851Z",
     "iopub.status.idle": "2025-07-30T21:40:35.914795Z",
     "shell.execute_reply": "2025-07-30T21:40:35.913178Z"
    },
    "papermill": {
     "duration": 0.034766,
     "end_time": "2025-07-30T21:40:35.918305",
     "exception": false,
     "start_time": "2025-07-30T21:40:35.883539",
     "status": "completed"
    },
    "tags": []
   },
   "outputs": [],
   "source": [
    "#display(siab_train.groupby(\"year\").size())"
   ]
  },
  {
   "cell_type": "code",
   "execution_count": 20,
   "id": "a561edb4-d032-42cb-8256-22eac1111c64",
   "metadata": {
    "execution": {
     "iopub.execute_input": "2025-07-30T21:40:36.002061Z",
     "iopub.status.busy": "2025-07-30T21:40:36.001683Z",
     "iopub.status.idle": "2025-07-30T21:40:36.343743Z",
     "shell.execute_reply": "2025-07-30T21:40:36.342687Z"
    },
    "papermill": {
     "duration": 0.364864,
     "end_time": "2025-07-30T21:40:36.345871",
     "exception": false,
     "start_time": "2025-07-30T21:40:35.981007",
     "status": "completed"
    },
    "tags": []
   },
   "outputs": [],
   "source": [
    "#siab_train = siab_s[siab_s.year < 2015]\n",
    "siab_calib = siab[siab.year == 2015]\n",
    "siab_test = siab[siab.year == 2016]"
   ]
  },
  {
   "cell_type": "code",
   "execution_count": 21,
   "id": "472de16f-c3db-4916-846b-1f0de9cf1746",
   "metadata": {
    "execution": {
     "iopub.execute_input": "2025-07-30T21:40:36.395079Z",
     "iopub.status.busy": "2025-07-30T21:40:36.394674Z",
     "iopub.status.idle": "2025-07-30T21:40:36.402694Z",
     "shell.execute_reply": "2025-07-30T21:40:36.401677Z"
    },
    "papermill": {
     "duration": 0.033743,
     "end_time": "2025-07-30T21:40:36.404328",
     "exception": false,
     "start_time": "2025-07-30T21:40:36.370585",
     "status": "completed"
    },
    "tags": []
   },
   "outputs": [],
   "source": [
    "X_train = siab_train.iloc[:,4:164]\n",
    "y_train = siab_train.iloc[:, [3]]"
   ]
  },
  {
   "cell_type": "code",
   "execution_count": 22,
   "id": "828c96af-f43a-4ed6-ba47-8ac73a47d56c",
   "metadata": {
    "execution": {
     "iopub.execute_input": "2025-07-30T21:40:36.464320Z",
     "iopub.status.busy": "2025-07-30T21:40:36.463736Z",
     "iopub.status.idle": "2025-07-30T21:40:36.529429Z",
     "shell.execute_reply": "2025-07-30T21:40:36.528195Z"
    },
    "papermill": {
     "duration": 0.090048,
     "end_time": "2025-07-30T21:40:36.531380",
     "exception": false,
     "start_time": "2025-07-30T21:40:36.441332",
     "status": "completed"
    },
    "tags": []
   },
   "outputs": [],
   "source": [
    "X_calib = siab_calib.iloc[:,4:164]\n",
    "y_calib = siab_calib.iloc[:, [3]]"
   ]
  },
  {
   "cell_type": "code",
   "execution_count": 23,
   "id": "c34be9c3-6bd6-476e-acd3-845840e303be",
   "metadata": {
    "execution": {
     "iopub.execute_input": "2025-07-30T21:40:36.597742Z",
     "iopub.status.busy": "2025-07-30T21:40:36.597290Z",
     "iopub.status.idle": "2025-07-30T21:40:36.670887Z",
     "shell.execute_reply": "2025-07-30T21:40:36.669750Z"
    },
    "papermill": {
     "duration": 0.099431,
     "end_time": "2025-07-30T21:40:36.673046",
     "exception": false,
     "start_time": "2025-07-30T21:40:36.573615",
     "status": "completed"
    },
    "tags": []
   },
   "outputs": [],
   "source": [
    "X_test = siab_test.iloc[:,4:164]\n",
    "y_true = siab_test.iloc[:, [3]]"
   ]
  },
  {
   "cell_type": "markdown",
   "id": "9901737e-04df-44f0-9100-f5ad144ed040",
   "metadata": {
    "papermill": {
     "duration": 0.019242,
     "end_time": "2025-07-30T21:40:36.729971",
     "exception": false,
     "start_time": "2025-07-30T21:40:36.710729",
     "status": "completed"
    },
    "tags": []
   },
   "source": [
    "# Splitting Data and Setting Training Data Size OLD VERSION"
   ]
  },
  {
   "cell_type": "code",
   "execution_count": 24,
   "id": "acbc8f7d-8fc8-4e86-8c59-5dcb0f58384b",
   "metadata": {
    "execution": {
     "iopub.execute_input": "2025-07-30T21:40:36.779120Z",
     "iopub.status.busy": "2025-07-30T21:40:36.778744Z",
     "iopub.status.idle": "2025-07-30T21:40:36.785446Z",
     "shell.execute_reply": "2025-07-30T21:40:36.784411Z"
    },
    "papermill": {
     "duration": 0.03047,
     "end_time": "2025-07-30T21:40:36.787752",
     "exception": false,
     "start_time": "2025-07-30T21:40:36.757282",
     "status": "completed"
    },
    "tags": []
   },
   "outputs": [],
   "source": [
    "#def sample_by_year(df, training_size, random_state=42):\n",
    "#    if training_size == \"2014\":\n",
    "#        return df[df[\"year\"] == 2014].reset_index(drop=True)\n",
    "#    \n",
    "#    size_map = {\n",
    "#        \"25k\": 5000,\n",
    "#        \"5k\": 1000,\n",
    "#        \"1k\": 200\n",
    "#    }\n",
    "#\n",
    "#    if training_size not in size_map:\n",
    "#        return df.reset_index(drop=True)  # use all data\n",
    "#\n",
    "#    n_per_year = size_map[training_size]\n",
    "#    grouped = df.groupby(\"year\")\n",
    "#    sampled = grouped.apply(lambda x: x.sample(n=min(n_per_year, len(x)), random_state=random_state))\n",
    "#    return sampled.reset_index(drop=True)"
   ]
  },
  {
   "cell_type": "code",
   "execution_count": 25,
   "id": "6d931f52-beaf-43ff-9e78-9d44a448d54e",
   "metadata": {
    "execution": {
     "iopub.execute_input": "2025-07-30T21:40:36.835490Z",
     "iopub.status.busy": "2025-07-30T21:40:36.835117Z",
     "iopub.status.idle": "2025-07-30T21:40:36.840950Z",
     "shell.execute_reply": "2025-07-30T21:40:36.840136Z"
    },
    "papermill": {
     "duration": 0.032348,
     "end_time": "2025-07-30T21:40:36.846639",
     "exception": false,
     "start_time": "2025-07-30T21:40:36.814291",
     "status": "completed"
    },
    "tags": []
   },
   "outputs": [],
   "source": [
    "#siab_s = sample_by_year(siab, universe[\"training_size\"])"
   ]
  },
  {
   "cell_type": "code",
   "execution_count": 26,
   "id": "5db0a40e-a4e2-4920-be85-b12ae061d70d",
   "metadata": {
    "execution": {
     "iopub.execute_input": "2025-07-30T21:40:36.925015Z",
     "iopub.status.busy": "2025-07-30T21:40:36.924627Z",
     "iopub.status.idle": "2025-07-30T21:40:36.929846Z",
     "shell.execute_reply": "2025-07-30T21:40:36.928898Z"
    },
    "papermill": {
     "duration": 0.048412,
     "end_time": "2025-07-30T21:40:36.949298",
     "exception": false,
     "start_time": "2025-07-30T21:40:36.900886",
     "status": "completed"
    },
    "tags": []
   },
   "outputs": [],
   "source": [
    "#display(siab_s.groupby(\"year\").size())"
   ]
  },
  {
   "cell_type": "code",
   "execution_count": 27,
   "id": "e6c733c5",
   "metadata": {
    "execution": {
     "iopub.execute_input": "2025-07-30T21:40:37.083682Z",
     "iopub.status.busy": "2025-07-30T21:40:37.083306Z",
     "iopub.status.idle": "2025-07-30T21:40:37.247243Z",
     "shell.execute_reply": "2025-07-30T21:40:37.244107Z"
    },
    "papermill": {
     "duration": 0.22277,
     "end_time": "2025-07-30T21:40:37.250877",
     "exception": false,
     "start_time": "2025-07-30T21:40:37.028107",
     "status": "completed"
    },
    "tags": []
   },
   "outputs": [],
   "source": [
    "# Auxiliary data needed downstream in the pipeline\n",
    "\n",
    "org_train = X_train.copy()\n",
    "org_test = X_test.copy()\n",
    "org_calib = X_calib.copy()"
   ]
  },
  {
   "cell_type": "code",
   "execution_count": 28,
   "id": "1466abac-c6da-4492-a62f-4240ae3783af",
   "metadata": {
    "execution": {
     "iopub.execute_input": "2025-07-30T21:40:37.337332Z",
     "iopub.status.busy": "2025-07-30T21:40:37.336831Z",
     "iopub.status.idle": "2025-07-30T21:40:37.352758Z",
     "shell.execute_reply": "2025-07-30T21:40:37.351331Z"
    },
    "papermill": {
     "duration": 0.058602,
     "end_time": "2025-07-30T21:40:37.354925",
     "exception": false,
     "start_time": "2025-07-30T21:40:37.296323",
     "status": "completed"
    },
    "tags": []
   },
   "outputs": [],
   "source": [
    "# put in other script?\n",
    "# Group sizes\n",
    "\n",
    "#def calculate_percentages(df, df_name):\n",
    "#    total_entries = len(df)\n",
    "#\n",
    "#    female_pct = (df['frau1'] == 1).mean() * 100\n",
    "#    non_german_pct = ((df['maxdeutsch1'] == 0) & (df['maxdeutsch.Missing.'] == 0)).mean() * 100\n",
    "#    non_german_male_pct = ((df['frau1'] == 0) & (df['maxdeutsch1'] == 0) & (df['maxdeutsch.Missing.'] == 0)).mean() * 100\n",
    "#    non_german_female_pct = ((df['frau1'] == 1) & (df['maxdeutsch1'] == 0) & (df['maxdeutsch.Missing.'] == 0)).mean() * 100\n",
    "#\n",
    "#    print(f\"--- {df_name} ---\")\n",
    "#    print(f\"Female: {female_pct:.2f}%\")\n",
    "#    print(f\"Non-German: {non_german_pct:.2f}%\")\n",
    "#    print(f\"Non-German Male: {non_german_male_pct:.2f}%\")\n",
    "#    print(f\"Non-German Female: {non_german_female_pct:.2f}%\\n\")\n",
    "#\n",
    "## Calculate for each DataFrame\n",
    "#calculate_percentages(siab_calib, \"siab_calib\")\n",
    "#calculate_percentages(siab_test, \"siab_test\")\n",
    "#calculate_percentages(siab_train, \"siab_train\")"
   ]
  },
  {
   "cell_type": "markdown",
   "id": "0a4a1b33",
   "metadata": {
    "papermill": {
     "duration": 0.055793,
     "end_time": "2025-07-30T21:40:37.467564",
     "exception": false,
     "start_time": "2025-07-30T21:40:37.411771",
     "status": "completed"
    },
    "tags": []
   },
   "source": [
    "# Preprocessing Data"
   ]
  },
  {
   "cell_type": "code",
   "execution_count": 29,
   "id": "ca879031",
   "metadata": {
    "execution": {
     "iopub.execute_input": "2025-07-30T21:40:37.579891Z",
     "iopub.status.busy": "2025-07-30T21:40:37.579428Z",
     "iopub.status.idle": "2025-07-30T21:40:37.586494Z",
     "shell.execute_reply": "2025-07-30T21:40:37.585234Z"
    },
    "papermill": {
     "duration": 0.052736,
     "end_time": "2025-07-30T21:40:37.588328",
     "exception": false,
     "start_time": "2025-07-30T21:40:37.535592",
     "status": "completed"
    },
    "tags": []
   },
   "outputs": [],
   "source": [
    "# EXCLUDE PROTECTED FEATURES\n",
    "# ----------------------\n",
    "# \"exclude_features\": \"none\", # \"nationality\", \"sex\", \"nationality-sex\"\n",
    "\n",
    "excluded_features = universe[\"exclude_features\"].split(\"-\") # split, e.g.: \"nationality-sex\" -> [\"nationality\", \"sex\"]\n",
    "excluded_features_dictionary = {\n",
    "    \"nationality\": [\"maxdeutsch1\", \"maxdeutsch.Missing.\"],\n",
    "    \"sex\": [\"frau1\"],\n",
    "    \"age\": [\"age\"],\n",
    "}\n"
   ]
  },
  {
   "cell_type": "code",
   "execution_count": 30,
   "id": "b745ac60",
   "metadata": {
    "execution": {
     "iopub.execute_input": "2025-07-30T21:40:37.655406Z",
     "iopub.status.busy": "2025-07-30T21:40:37.655023Z",
     "iopub.status.idle": "2025-07-30T21:40:37.661665Z",
     "shell.execute_reply": "2025-07-30T21:40:37.660497Z"
    },
    "papermill": {
     "duration": 0.027041,
     "end_time": "2025-07-30T21:40:37.663666",
     "exception": false,
     "start_time": "2025-07-30T21:40:37.636625",
     "status": "completed"
    },
    "tags": []
   },
   "outputs": [],
   "source": [
    "# Code nice names to column names\n",
    "\n",
    "excluded_features_columns = [\n",
    "    excluded_features_dictionary[f] for f in excluded_features if len(f) > 0 and f != \"none\"\n",
    "]"
   ]
  },
  {
   "cell_type": "code",
   "execution_count": 31,
   "id": "f84f73a2",
   "metadata": {
    "execution": {
     "iopub.execute_input": "2025-07-30T21:40:37.711405Z",
     "iopub.status.busy": "2025-07-30T21:40:37.710979Z",
     "iopub.status.idle": "2025-07-30T21:40:37.717642Z",
     "shell.execute_reply": "2025-07-30T21:40:37.716449Z"
    },
    "papermill": {
     "duration": 0.034086,
     "end_time": "2025-07-30T21:40:37.721219",
     "exception": false,
     "start_time": "2025-07-30T21:40:37.687133",
     "status": "completed"
    },
    "tags": []
   },
   "outputs": [],
   "source": [
    "from utils import flatten_once\n",
    "\n",
    "excluded_features_columns = flatten_once(excluded_features_columns)"
   ]
  },
  {
   "cell_type": "code",
   "execution_count": 32,
   "id": "884dea22",
   "metadata": {
    "execution": {
     "iopub.execute_input": "2025-07-30T21:40:37.771590Z",
     "iopub.status.busy": "2025-07-30T21:40:37.771172Z",
     "iopub.status.idle": "2025-07-30T21:40:37.779573Z",
     "shell.execute_reply": "2025-07-30T21:40:37.778449Z"
    },
    "papermill": {
     "duration": 0.035928,
     "end_time": "2025-07-30T21:40:37.782381",
     "exception": false,
     "start_time": "2025-07-30T21:40:37.746453",
     "status": "completed"
    },
    "tags": []
   },
   "outputs": [
    {
     "name": "stdout",
     "output_type": "stream",
     "text": [
      "Dropping features: ['maxdeutsch1', 'maxdeutsch.Missing.', 'frau1']\n"
     ]
    }
   ],
   "source": [
    "if len(excluded_features_columns) > 0:\n",
    "    print(f\"Dropping features: {excluded_features_columns}\")\n",
    "    X_train.drop(excluded_features_columns, axis=1, inplace=True)"
   ]
  },
  {
   "cell_type": "code",
   "execution_count": 33,
   "id": "95ab8b16",
   "metadata": {
    "execution": {
     "iopub.execute_input": "2025-07-30T21:40:37.832511Z",
     "iopub.status.busy": "2025-07-30T21:40:37.832085Z",
     "iopub.status.idle": "2025-07-30T21:40:37.905431Z",
     "shell.execute_reply": "2025-07-30T21:40:37.904087Z"
    },
    "papermill": {
     "duration": 0.109854,
     "end_time": "2025-07-30T21:40:37.916723",
     "exception": false,
     "start_time": "2025-07-30T21:40:37.806869",
     "status": "completed"
    },
    "tags": []
   },
   "outputs": [
    {
     "name": "stdout",
     "output_type": "stream",
     "text": [
      "Dropping features: ['maxdeutsch1', 'maxdeutsch.Missing.', 'frau1']\n"
     ]
    }
   ],
   "source": [
    "if len(excluded_features_columns) > 0:\n",
    "    print(f\"Dropping features: {excluded_features_columns}\")\n",
    "    X_test.drop(excluded_features_columns, axis=1, inplace=True)"
   ]
  },
  {
   "cell_type": "code",
   "execution_count": 34,
   "id": "1853aaf5-fb9f-46cb-a2b5-8ea4ae2237e4",
   "metadata": {
    "execution": {
     "iopub.execute_input": "2025-07-30T21:40:37.967909Z",
     "iopub.status.busy": "2025-07-30T21:40:37.967349Z",
     "iopub.status.idle": "2025-07-30T21:40:38.004360Z",
     "shell.execute_reply": "2025-07-30T21:40:38.003441Z"
    },
    "papermill": {
     "duration": 0.064499,
     "end_time": "2025-07-30T21:40:38.006265",
     "exception": false,
     "start_time": "2025-07-30T21:40:37.941766",
     "status": "completed"
    },
    "tags": []
   },
   "outputs": [
    {
     "name": "stdout",
     "output_type": "stream",
     "text": [
      "Dropping features: ['maxdeutsch1', 'maxdeutsch.Missing.', 'frau1']\n"
     ]
    }
   ],
   "source": [
    "if len(excluded_features_columns) > 0:\n",
    "    print(f\"Dropping features: {excluded_features_columns}\")\n",
    "    X_calib.drop(excluded_features_columns, axis=1, inplace=True)"
   ]
  },
  {
   "cell_type": "code",
   "execution_count": 35,
   "id": "6727d079-03e5-481e-9d38-292a90b7a0a8",
   "metadata": {
    "execution": {
     "iopub.execute_input": "2025-07-30T21:40:38.065789Z",
     "iopub.status.busy": "2025-07-30T21:40:38.065394Z",
     "iopub.status.idle": "2025-07-30T21:40:38.070699Z",
     "shell.execute_reply": "2025-07-30T21:40:38.069586Z"
    },
    "papermill": {
     "duration": 0.023137,
     "end_time": "2025-07-30T21:40:38.072996",
     "exception": false,
     "start_time": "2025-07-30T21:40:38.049859",
     "status": "completed"
    },
    "tags": []
   },
   "outputs": [],
   "source": [
    "# SPLIT & STRATIFY DATA\n",
    "# ----------------------"
   ]
  },
  {
   "cell_type": "code",
   "execution_count": 36,
   "id": "76c4dc6d",
   "metadata": {
    "execution": {
     "iopub.execute_input": "2025-07-30T21:40:38.128621Z",
     "iopub.status.busy": "2025-07-30T21:40:38.128238Z",
     "iopub.status.idle": "2025-07-30T21:40:38.133709Z",
     "shell.execute_reply": "2025-07-30T21:40:38.132729Z"
    },
    "papermill": {
     "duration": 0.034419,
     "end_time": "2025-07-30T21:40:38.142210",
     "exception": false,
     "start_time": "2025-07-30T21:40:38.107791",
     "status": "completed"
    },
    "tags": []
   },
   "outputs": [],
   "source": [
    "# EXCLUDE CERTAIN SUBGROUPS\n",
    "# ----------------------\n",
    "\n",
    "mode = universe.get(\"exclude_subgroups\", \"keep-all\") \n",
    "# Fetches the exclude_subgroups setting from the universe dict.\n",
    "# Defaults to \"keep-all\" if the key is missing."
   ]
  },
  {
   "cell_type": "code",
   "execution_count": 37,
   "id": "21994072",
   "metadata": {
    "execution": {
     "iopub.execute_input": "2025-07-30T21:40:38.211584Z",
     "iopub.status.busy": "2025-07-30T21:40:38.211200Z",
     "iopub.status.idle": "2025-07-30T21:40:38.217723Z",
     "shell.execute_reply": "2025-07-30T21:40:38.216061Z"
    },
    "papermill": {
     "duration": 0.044985,
     "end_time": "2025-07-30T21:40:38.220486",
     "exception": false,
     "start_time": "2025-07-30T21:40:38.175501",
     "status": "completed"
    },
    "tags": []
   },
   "outputs": [],
   "source": [
    "if mode == \"keep-all\":\n",
    "    keep_mask = pd.Series(True, index=org_train.index)\n",
    "\n",
    "# org_train contains the original feature columns from features_org (in Simson)\n",
    "# features_org contains unprocessed features, for me X_train at beginning ???\n",
    "# For keep-all, creates a boolean Series (keep_mask) of all True, so no rows are removed.\n",
    "\n",
    "elif mode == \"drop-non-german\":\n",
    "    keep_mask = org_train[\"maxdeutsch1\"] == 1 # ??? what about missing values?\n",
    "\n",
    "else:\n",
    "    raise ValueError(f\"Unsupported mode for exclude_subgroups: {mode}\")\n"
   ]
  },
  {
   "cell_type": "code",
   "execution_count": 38,
   "id": "71651440",
   "metadata": {
    "execution": {
     "iopub.execute_input": "2025-07-30T21:40:38.265533Z",
     "iopub.status.busy": "2025-07-30T21:40:38.265185Z",
     "iopub.status.idle": "2025-07-30T21:40:38.270096Z",
     "shell.execute_reply": "2025-07-30T21:40:38.269191Z"
    },
    "papermill": {
     "duration": 0.029077,
     "end_time": "2025-07-30T21:40:38.271778",
     "exception": false,
     "start_time": "2025-07-30T21:40:38.242701",
     "status": "completed"
    },
    "tags": []
   },
   "outputs": [],
   "source": [
    "n_drop = (~keep_mask).sum() # Calculates how many rows are set to be dropped\n",
    "if n_drop > 0:\n",
    "    pct = n_drop / len(keep_mask) * 100\n",
    "    print(f\"Dropping {n_drop} rows ({pct:.2f}%) where mode='{mode}'\")"
   ]
  },
  {
   "cell_type": "code",
   "execution_count": 39,
   "id": "5fb8eee5",
   "metadata": {
    "execution": {
     "iopub.execute_input": "2025-07-30T21:40:38.378366Z",
     "iopub.status.busy": "2025-07-30T21:40:38.377915Z",
     "iopub.status.idle": "2025-07-30T21:40:38.384194Z",
     "shell.execute_reply": "2025-07-30T21:40:38.383163Z"
    },
    "papermill": {
     "duration": 0.078196,
     "end_time": "2025-07-30T21:40:38.386367",
     "exception": false,
     "start_time": "2025-07-30T21:40:38.308171",
     "status": "completed"
    },
    "tags": []
   },
   "outputs": [],
   "source": [
    "X_train = X_train[keep_mask]"
   ]
  },
  {
   "cell_type": "code",
   "execution_count": 40,
   "id": "b202bb3a",
   "metadata": {
    "execution": {
     "iopub.execute_input": "2025-07-30T21:40:38.436442Z",
     "iopub.status.busy": "2025-07-30T21:40:38.435926Z",
     "iopub.status.idle": "2025-07-30T21:40:38.442337Z",
     "shell.execute_reply": "2025-07-30T21:40:38.441355Z"
    },
    "papermill": {
     "duration": 0.036759,
     "end_time": "2025-07-30T21:40:38.446141",
     "exception": false,
     "start_time": "2025-07-30T21:40:38.409382",
     "status": "completed"
    },
    "tags": []
   },
   "outputs": [],
   "source": [
    "y_train = y_train[keep_mask]"
   ]
  },
  {
   "cell_type": "markdown",
   "id": "493e2ac3",
   "metadata": {
    "papermill": {
     "duration": 0.023111,
     "end_time": "2025-07-30T21:40:38.504749",
     "exception": false,
     "start_time": "2025-07-30T21:40:38.481638",
     "status": "completed"
    },
    "tags": []
   },
   "source": [
    "# Model Training"
   ]
  },
  {
   "cell_type": "code",
   "execution_count": 41,
   "id": "679e1268",
   "metadata": {
    "execution": {
     "iopub.execute_input": "2025-07-30T21:40:38.605635Z",
     "iopub.status.busy": "2025-07-30T21:40:38.604980Z",
     "iopub.status.idle": "2025-07-30T21:40:38.839560Z",
     "shell.execute_reply": "2025-07-30T21:40:38.828179Z"
    },
    "papermill": {
     "duration": 0.270328,
     "end_time": "2025-07-30T21:40:38.841825",
     "exception": false,
     "start_time": "2025-07-30T21:40:38.571497",
     "status": "completed"
    },
    "tags": []
   },
   "outputs": [],
   "source": [
    "from sklearn.linear_model import LogisticRegression\n",
    "from sklearn.ensemble import GradientBoostingClassifier, RandomForestClassifier\n",
    "\n",
    "if (universe[\"model\"] == \"logreg\"):\n",
    "    model = LogisticRegression() #penalty=\"none\") #, solver=\"newton-cg\", max_iter=1) # include random_state=19 ?\n",
    "elif (universe[\"model\"] == \"penalized_logreg\"):\n",
    "    model = LogisticRegression(penalty=\"l2\", C=1.0) #, solver=\"newton-cg\", max_iter=1)\n",
    "elif (universe[\"model\"] == \"rf\"):\n",
    "    model = RandomForestClassifier(n_estimators=100, n_jobs=-1)\n",
    "elif (universe[\"model\"] == \"gbm\"):\n",
    "    model = GradientBoostingClassifier()\n",
    "elif (universe[\"model\"] == \"elasticnet\"):\n",
    "    model = LogisticRegression(penalty = 'elasticnet', solver = 'saga', l1_ratio = 0.5, max_iter=5000) # which solver to use?\n",
    "else:\n",
    "    raise \"Unsupported universe.model\""
   ]
  },
  {
   "cell_type": "code",
   "execution_count": 42,
   "id": "0cc8f744",
   "metadata": {
    "execution": {
     "iopub.execute_input": "2025-07-30T21:40:38.920321Z",
     "iopub.status.busy": "2025-07-30T21:40:38.919922Z",
     "iopub.status.idle": "2025-07-30T21:40:38.927344Z",
     "shell.execute_reply": "2025-07-30T21:40:38.925781Z"
    },
    "papermill": {
     "duration": 0.047503,
     "end_time": "2025-07-30T21:40:38.941432",
     "exception": false,
     "start_time": "2025-07-30T21:40:38.893929",
     "status": "completed"
    },
    "tags": []
   },
   "outputs": [],
   "source": [
    "import numpy as np\n",
    "from sklearn.pipeline import Pipeline\n",
    "from sklearn.preprocessing import StandardScaler\n",
    "\n",
    "model = Pipeline([\n",
    "    #(\"continuous_processor\", continuous_processor),\n",
    "    #(\"categorical_preprocessor\", categorical_preprocessor),\n",
    "    (\"scale\", StandardScaler() if universe[\"scale\"] == \"scale\" else None), \n",
    "    (\"model\", model),\n",
    "])"
   ]
  },
  {
   "cell_type": "code",
   "execution_count": 43,
   "id": "9442c04d",
   "metadata": {
    "execution": {
     "iopub.execute_input": "2025-07-30T21:40:39.002919Z",
     "iopub.status.busy": "2025-07-30T21:40:39.002476Z",
     "iopub.status.idle": "2025-07-30T21:40:39.507230Z",
     "shell.execute_reply": "2025-07-30T21:40:39.506359Z"
    },
    "papermill": {
     "duration": 0.544513,
     "end_time": "2025-07-30T21:40:39.508850",
     "exception": false,
     "start_time": "2025-07-30T21:40:38.964337",
     "status": "completed"
    },
    "tags": []
   },
   "outputs": [
    {
     "data": {
      "text/html": [
       "<style>#sk-container-id-1 {color: black;background-color: white;}#sk-container-id-1 pre{padding: 0;}#sk-container-id-1 div.sk-toggleable {background-color: white;}#sk-container-id-1 label.sk-toggleable__label {cursor: pointer;display: block;width: 100%;margin-bottom: 0;padding: 0.3em;box-sizing: border-box;text-align: center;}#sk-container-id-1 label.sk-toggleable__label-arrow:before {content: \"▸\";float: left;margin-right: 0.25em;color: #696969;}#sk-container-id-1 label.sk-toggleable__label-arrow:hover:before {color: black;}#sk-container-id-1 div.sk-estimator:hover label.sk-toggleable__label-arrow:before {color: black;}#sk-container-id-1 div.sk-toggleable__content {max-height: 0;max-width: 0;overflow: hidden;text-align: left;background-color: #f0f8ff;}#sk-container-id-1 div.sk-toggleable__content pre {margin: 0.2em;color: black;border-radius: 0.25em;background-color: #f0f8ff;}#sk-container-id-1 input.sk-toggleable__control:checked~div.sk-toggleable__content {max-height: 200px;max-width: 100%;overflow: auto;}#sk-container-id-1 input.sk-toggleable__control:checked~label.sk-toggleable__label-arrow:before {content: \"▾\";}#sk-container-id-1 div.sk-estimator input.sk-toggleable__control:checked~label.sk-toggleable__label {background-color: #d4ebff;}#sk-container-id-1 div.sk-label input.sk-toggleable__control:checked~label.sk-toggleable__label {background-color: #d4ebff;}#sk-container-id-1 input.sk-hidden--visually {border: 0;clip: rect(1px 1px 1px 1px);clip: rect(1px, 1px, 1px, 1px);height: 1px;margin: -1px;overflow: hidden;padding: 0;position: absolute;width: 1px;}#sk-container-id-1 div.sk-estimator {font-family: monospace;background-color: #f0f8ff;border: 1px dotted black;border-radius: 0.25em;box-sizing: border-box;margin-bottom: 0.5em;}#sk-container-id-1 div.sk-estimator:hover {background-color: #d4ebff;}#sk-container-id-1 div.sk-parallel-item::after {content: \"\";width: 100%;border-bottom: 1px solid gray;flex-grow: 1;}#sk-container-id-1 div.sk-label:hover label.sk-toggleable__label {background-color: #d4ebff;}#sk-container-id-1 div.sk-serial::before {content: \"\";position: absolute;border-left: 1px solid gray;box-sizing: border-box;top: 0;bottom: 0;left: 50%;z-index: 0;}#sk-container-id-1 div.sk-serial {display: flex;flex-direction: column;align-items: center;background-color: white;padding-right: 0.2em;padding-left: 0.2em;position: relative;}#sk-container-id-1 div.sk-item {position: relative;z-index: 1;}#sk-container-id-1 div.sk-parallel {display: flex;align-items: stretch;justify-content: center;background-color: white;position: relative;}#sk-container-id-1 div.sk-item::before, #sk-container-id-1 div.sk-parallel-item::before {content: \"\";position: absolute;border-left: 1px solid gray;box-sizing: border-box;top: 0;bottom: 0;left: 50%;z-index: -1;}#sk-container-id-1 div.sk-parallel-item {display: flex;flex-direction: column;z-index: 1;position: relative;background-color: white;}#sk-container-id-1 div.sk-parallel-item:first-child::after {align-self: flex-end;width: 50%;}#sk-container-id-1 div.sk-parallel-item:last-child::after {align-self: flex-start;width: 50%;}#sk-container-id-1 div.sk-parallel-item:only-child::after {width: 0;}#sk-container-id-1 div.sk-dashed-wrapped {border: 1px dashed gray;margin: 0 0.4em 0.5em 0.4em;box-sizing: border-box;padding-bottom: 0.4em;background-color: white;}#sk-container-id-1 div.sk-label label {font-family: monospace;font-weight: bold;display: inline-block;line-height: 1.2em;}#sk-container-id-1 div.sk-label-container {text-align: center;}#sk-container-id-1 div.sk-container {/* jupyter's `normalize.less` sets `[hidden] { display: none; }` but bootstrap.min.css set `[hidden] { display: none !important; }` so we also need the `!important` here to be able to override the default hidden behavior on the sphinx rendered scikit-learn.org. See: https://github.com/scikit-learn/scikit-learn/issues/21755 */display: inline-block !important;position: relative;}#sk-container-id-1 div.sk-text-repr-fallback {display: none;}</style><div id=\"sk-container-id-1\" class=\"sk-top-container\"><div class=\"sk-text-repr-fallback\"><pre>Pipeline(steps=[(&#x27;scale&#x27;, None), (&#x27;model&#x27;, RandomForestClassifier(n_jobs=-1))])</pre><b>In a Jupyter environment, please rerun this cell to show the HTML representation or trust the notebook. <br />On GitHub, the HTML representation is unable to render, please try loading this page with nbviewer.org.</b></div><div class=\"sk-container\" hidden><div class=\"sk-item sk-dashed-wrapped\"><div class=\"sk-label-container\"><div class=\"sk-label sk-toggleable\"><input class=\"sk-toggleable__control sk-hidden--visually\" id=\"sk-estimator-id-1\" type=\"checkbox\" ><label for=\"sk-estimator-id-1\" class=\"sk-toggleable__label sk-toggleable__label-arrow\">Pipeline</label><div class=\"sk-toggleable__content\"><pre>Pipeline(steps=[(&#x27;scale&#x27;, None), (&#x27;model&#x27;, RandomForestClassifier(n_jobs=-1))])</pre></div></div></div><div class=\"sk-serial\"><div class=\"sk-item\"><div class=\"sk-estimator sk-toggleable\"><input class=\"sk-toggleable__control sk-hidden--visually\" id=\"sk-estimator-id-2\" type=\"checkbox\" ><label for=\"sk-estimator-id-2\" class=\"sk-toggleable__label sk-toggleable__label-arrow\">None</label><div class=\"sk-toggleable__content\"><pre>None</pre></div></div></div><div class=\"sk-item\"><div class=\"sk-estimator sk-toggleable\"><input class=\"sk-toggleable__control sk-hidden--visually\" id=\"sk-estimator-id-3\" type=\"checkbox\" ><label for=\"sk-estimator-id-3\" class=\"sk-toggleable__label sk-toggleable__label-arrow\">RandomForestClassifier</label><div class=\"sk-toggleable__content\"><pre>RandomForestClassifier(n_jobs=-1)</pre></div></div></div></div></div></div></div>"
      ],
      "text/plain": [
       "Pipeline(steps=[('scale', None), ('model', RandomForestClassifier(n_jobs=-1))])"
      ]
     },
     "execution_count": 43,
     "metadata": {},
     "output_type": "execute_result"
    }
   ],
   "source": [
    "model.fit(X_train, y_train.values.ravel())"
   ]
  },
  {
   "cell_type": "code",
   "execution_count": 44,
   "id": "af59f8c0",
   "metadata": {
    "execution": {
     "iopub.execute_input": "2025-07-30T21:40:39.557000Z",
     "iopub.status.busy": "2025-07-30T21:40:39.556329Z",
     "iopub.status.idle": "2025-07-30T21:40:39.563576Z",
     "shell.execute_reply": "2025-07-30T21:40:39.562607Z"
    },
    "papermill": {
     "duration": 0.032832,
     "end_time": "2025-07-30T21:40:39.565353",
     "exception": false,
     "start_time": "2025-07-30T21:40:39.532521",
     "status": "completed"
    },
    "tags": []
   },
   "outputs": [],
   "source": [
    "from fairness_multiverse.universe import predict_w_threshold"
   ]
  },
  {
   "cell_type": "code",
   "execution_count": 45,
   "id": "a7cf2e16",
   "metadata": {
    "execution": {
     "iopub.execute_input": "2025-07-30T21:40:39.613373Z",
     "iopub.status.busy": "2025-07-30T21:40:39.612354Z",
     "iopub.status.idle": "2025-07-30T21:40:40.497373Z",
     "shell.execute_reply": "2025-07-30T21:40:40.496122Z"
    },
    "papermill": {
     "duration": 0.909927,
     "end_time": "2025-07-30T21:40:40.499222",
     "exception": false,
     "start_time": "2025-07-30T21:40:39.589295",
     "status": "completed"
    },
    "tags": []
   },
   "outputs": [
    {
     "data": {
      "text/plain": [
       "0.8622227176457474"
      ]
     },
     "execution_count": 45,
     "metadata": {},
     "output_type": "execute_result"
    }
   ],
   "source": [
    "probs_test = model.predict_proba(X_test)\n",
    "\n",
    "'''\n",
    "Below code returns a boolean array (or binary 0/1 array depending on how it’s used) where each element \n",
    "is True if the probability of class 1 is greater than or equal to the threshold, and False otherwise.\n",
    "'''\n",
    "y_pred_default = predict_w_threshold(probs_test, 0.5)\n",
    "\n",
    "from sklearn.metrics import accuracy_score\n",
    "\n",
    "# Naive prediction\n",
    "accuracy_score(y_true = y_true, y_pred = y_pred_default)"
   ]
  },
  {
   "cell_type": "code",
   "execution_count": 46,
   "id": "081964c3",
   "metadata": {
    "execution": {
     "iopub.execute_input": "2025-07-30T21:40:40.555834Z",
     "iopub.status.busy": "2025-07-30T21:40:40.555341Z",
     "iopub.status.idle": "2025-07-30T21:40:41.214739Z",
     "shell.execute_reply": "2025-07-30T21:40:41.213765Z"
    },
    "papermill": {
     "duration": 0.686199,
     "end_time": "2025-07-30T21:40:41.216406",
     "exception": false,
     "start_time": "2025-07-30T21:40:40.530207",
     "status": "completed"
    },
    "tags": []
   },
   "outputs": [
    {
     "data": {
      "text/plain": [
       "array([0, 0, 0, ..., 0, 0, 0])"
      ]
     },
     "execution_count": 46,
     "metadata": {},
     "output_type": "execute_result"
    }
   ],
   "source": [
    "model.predict(X_test)"
   ]
  },
  {
   "cell_type": "markdown",
   "id": "56c9705b",
   "metadata": {
    "papermill": {
     "duration": 0.025459,
     "end_time": "2025-07-30T21:40:41.269173",
     "exception": false,
     "start_time": "2025-07-30T21:40:41.243714",
     "status": "completed"
    },
    "tags": []
   },
   "source": [
    "# Conformal Prediction"
   ]
  },
  {
   "cell_type": "code",
   "execution_count": 47,
   "id": "160ec6ff",
   "metadata": {
    "execution": {
     "iopub.execute_input": "2025-07-30T21:40:41.321384Z",
     "iopub.status.busy": "2025-07-30T21:40:41.320949Z",
     "iopub.status.idle": "2025-07-30T21:40:41.326005Z",
     "shell.execute_reply": "2025-07-30T21:40:41.325001Z"
    },
    "papermill": {
     "duration": 0.033765,
     "end_time": "2025-07-30T21:40:41.327856",
     "exception": false,
     "start_time": "2025-07-30T21:40:41.294091",
     "status": "completed"
    },
    "tags": []
   },
   "outputs": [],
   "source": [
    "# Miscoverage level for conformal prediction (10% allowed error rate => 90% target coverage)\n",
    "alpha = 0.1"
   ]
  },
  {
   "cell_type": "code",
   "execution_count": 48,
   "id": "eadf4555-3dd3-440e-8e35-f82a4ad9f855",
   "metadata": {
    "execution": {
     "iopub.execute_input": "2025-07-30T21:40:41.381287Z",
     "iopub.status.busy": "2025-07-30T21:40:41.380500Z",
     "iopub.status.idle": "2025-07-30T21:40:42.113093Z",
     "shell.execute_reply": "2025-07-30T21:40:42.111354Z"
    },
    "papermill": {
     "duration": 0.760331,
     "end_time": "2025-07-30T21:40:42.114530",
     "exception": false,
     "start_time": "2025-07-30T21:40:41.354199",
     "status": "completed"
    },
    "tags": []
   },
   "outputs": [],
   "source": [
    "probs_calib = model.predict_proba(X_calib)"
   ]
  },
  {
   "cell_type": "code",
   "execution_count": 49,
   "id": "2ed93547-6d5d-4983-9b36-1ecb300da49a",
   "metadata": {
    "execution": {
     "iopub.execute_input": "2025-07-30T21:40:42.140489Z",
     "iopub.status.busy": "2025-07-30T21:40:42.140094Z",
     "iopub.status.idle": "2025-07-30T21:40:42.144683Z",
     "shell.execute_reply": "2025-07-30T21:40:42.144005Z"
    },
    "papermill": {
     "duration": 0.01851,
     "end_time": "2025-07-30T21:40:42.146099",
     "exception": false,
     "start_time": "2025-07-30T21:40:42.127589",
     "status": "completed"
    },
    "tags": []
   },
   "outputs": [],
   "source": [
    "y_calib = y_calib.values.ravel().astype(int)"
   ]
  },
  {
   "cell_type": "code",
   "execution_count": 50,
   "id": "65d1320d-f588-4b38-9072-62af1ae97f7d",
   "metadata": {
    "execution": {
     "iopub.execute_input": "2025-07-30T21:40:42.171976Z",
     "iopub.status.busy": "2025-07-30T21:40:42.171502Z",
     "iopub.status.idle": "2025-07-30T21:40:42.177030Z",
     "shell.execute_reply": "2025-07-30T21:40:42.176225Z"
    },
    "papermill": {
     "duration": 0.019168,
     "end_time": "2025-07-30T21:40:42.178342",
     "exception": false,
     "start_time": "2025-07-30T21:40:42.159174",
     "status": "completed"
    },
    "tags": []
   },
   "outputs": [],
   "source": [
    "from fairness_multiverse.conformal import compute_nc_scores\n",
    "\n",
    "# Compute nonconformity scores on calibration set (1 - probability of true class)\n",
    "nc_scores = compute_nc_scores(probs_calib, y_calib)"
   ]
  },
  {
   "cell_type": "code",
   "execution_count": 51,
   "id": "df3b8ca3-53b7-43d5-9667-7c85da7aeda2",
   "metadata": {
    "execution": {
     "iopub.execute_input": "2025-07-30T21:40:42.204156Z",
     "iopub.status.busy": "2025-07-30T21:40:42.203653Z",
     "iopub.status.idle": "2025-07-30T21:40:42.209317Z",
     "shell.execute_reply": "2025-07-30T21:40:42.208317Z"
    },
    "papermill": {
     "duration": 0.019859,
     "end_time": "2025-07-30T21:40:42.210857",
     "exception": false,
     "start_time": "2025-07-30T21:40:42.190998",
     "status": "completed"
    },
    "tags": []
   },
   "outputs": [],
   "source": [
    "from fairness_multiverse.conformal import find_threshold\n",
    "\n",
    "# Find conformal threshold q_hat for the given alpha (split conformal method)\n",
    "q_hat = find_threshold(nc_scores, alpha)"
   ]
  },
  {
   "cell_type": "code",
   "execution_count": 52,
   "id": "4d29e6c1-0ef6-4aa4-b8fe-4fe79b0d033a",
   "metadata": {
    "execution": {
     "iopub.execute_input": "2025-07-30T21:40:42.264135Z",
     "iopub.status.busy": "2025-07-30T21:40:42.263673Z",
     "iopub.status.idle": "2025-07-30T21:40:42.270922Z",
     "shell.execute_reply": "2025-07-30T21:40:42.269923Z"
    },
    "papermill": {
     "duration": 0.035824,
     "end_time": "2025-07-30T21:40:42.272734",
     "exception": false,
     "start_time": "2025-07-30T21:40:42.236910",
     "status": "completed"
    },
    "tags": []
   },
   "outputs": [
    {
     "data": {
      "text/plain": [
       "0.6699999999999999"
      ]
     },
     "execution_count": 52,
     "metadata": {},
     "output_type": "execute_result"
    }
   ],
   "source": [
    "q_hat"
   ]
  },
  {
   "cell_type": "code",
   "execution_count": 53,
   "id": "92460794-cdac-4be2-ba28-f28c0515a6fb",
   "metadata": {
    "execution": {
     "iopub.execute_input": "2025-07-30T21:40:42.327599Z",
     "iopub.status.busy": "2025-07-30T21:40:42.326935Z",
     "iopub.status.idle": "2025-07-30T21:40:43.697276Z",
     "shell.execute_reply": "2025-07-30T21:40:43.696300Z"
    },
    "papermill": {
     "duration": 1.39913,
     "end_time": "2025-07-30T21:40:43.699020",
     "exception": false,
     "start_time": "2025-07-30T21:40:42.299890",
     "status": "completed"
    },
    "tags": []
   },
   "outputs": [],
   "source": [
    "from fairness_multiverse.conformal import predict_conformal_sets\n",
    "\n",
    "# Generate prediction sets for each test example\n",
    "pred_sets = predict_conformal_sets(model, X_test, q_hat)"
   ]
  },
  {
   "cell_type": "code",
   "execution_count": 54,
   "id": "d90c9a65-e6db-4f5d-80cd-e68fb7e46829",
   "metadata": {
    "execution": {
     "iopub.execute_input": "2025-07-30T21:40:43.734793Z",
     "iopub.status.busy": "2025-07-30T21:40:43.734349Z",
     "iopub.status.idle": "2025-07-30T21:40:43.739585Z",
     "shell.execute_reply": "2025-07-30T21:40:43.738696Z"
    },
    "papermill": {
     "duration": 0.019533,
     "end_time": "2025-07-30T21:40:43.740793",
     "exception": false,
     "start_time": "2025-07-30T21:40:43.721260",
     "status": "completed"
    },
    "tags": []
   },
   "outputs": [],
   "source": [
    "y_true = y_true.squeeze()"
   ]
  },
  {
   "cell_type": "code",
   "execution_count": 55,
   "id": "3a58a54a-1e68-46b9-927a-df01f18aebc8",
   "metadata": {
    "execution": {
     "iopub.execute_input": "2025-07-30T21:40:43.770119Z",
     "iopub.status.busy": "2025-07-30T21:40:43.769559Z",
     "iopub.status.idle": "2025-07-30T21:40:44.539558Z",
     "shell.execute_reply": "2025-07-30T21:40:44.538458Z"
    },
    "papermill": {
     "duration": 0.787499,
     "end_time": "2025-07-30T21:40:44.541546",
     "exception": false,
     "start_time": "2025-07-30T21:40:43.754047",
     "status": "completed"
    },
    "tags": []
   },
   "outputs": [],
   "source": [
    "from fairness_multiverse.conformal import evaluate_sets\n",
    "\n",
    "# Evaluate coverage and average set size on test data\n",
    "metrics = evaluate_sets(pred_sets, y_true)"
   ]
  },
  {
   "cell_type": "markdown",
   "id": "2b569c12-9aaa-4c88-98c9-bbcd0cf3ebb8",
   "metadata": {
    "papermill": {
     "duration": 0.024677,
     "end_time": "2025-07-30T21:40:44.583299",
     "exception": false,
     "start_time": "2025-07-30T21:40:44.558622",
     "status": "completed"
    },
    "tags": []
   },
   "source": [
    "# CP Metrics"
   ]
  },
  {
   "cell_type": "code",
   "execution_count": 56,
   "id": "5ce0a5cb-201f-45a0-ade5-94c7f0bd6095",
   "metadata": {
    "execution": {
     "iopub.execute_input": "2025-07-30T21:40:44.632111Z",
     "iopub.status.busy": "2025-07-30T21:40:44.631294Z",
     "iopub.status.idle": "2025-07-30T21:40:44.638278Z",
     "shell.execute_reply": "2025-07-30T21:40:44.637456Z"
    },
    "papermill": {
     "duration": 0.034005,
     "end_time": "2025-07-30T21:40:44.640001",
     "exception": false,
     "start_time": "2025-07-30T21:40:44.605996",
     "status": "completed"
    },
    "tags": []
   },
   "outputs": [
    {
     "data": {
      "text/plain": [
       "{'coverage': 0.9149593133429941, 'avg_size': 1.1507412774495598}"
      ]
     },
     "execution_count": 56,
     "metadata": {},
     "output_type": "execute_result"
    }
   ],
   "source": [
    "metrics"
   ]
  },
  {
   "cell_type": "code",
   "execution_count": 57,
   "id": "9b9a838d-31c9-430b-ae14-12baee460d17",
   "metadata": {
    "execution": {
     "iopub.execute_input": "2025-07-30T21:40:44.692113Z",
     "iopub.status.busy": "2025-07-30T21:40:44.691449Z",
     "iopub.status.idle": "2025-07-30T21:40:44.698259Z",
     "shell.execute_reply": "2025-07-30T21:40:44.697257Z"
    },
    "papermill": {
     "duration": 0.034837,
     "end_time": "2025-07-30T21:40:44.700332",
     "exception": false,
     "start_time": "2025-07-30T21:40:44.665495",
     "status": "completed"
    },
    "tags": []
   },
   "outputs": [],
   "source": [
    "example_universe = universe.copy()\n",
    "universe_training_year = example_universe.get(\"training_year\")\n",
    "universe_training_size = example_universe.get(\"training_size\")\n",
    "universe_scale = example_universe.get(\"scale\")\n",
    "universe_model = example_universe.get(\"model\")\n",
    "universe_exclude_features = example_universe.get(\"exclude_features\")\n",
    "universe_exclude_subgroups = example_universe.get(\"exclude_subgroups\")"
   ]
  },
  {
   "cell_type": "code",
   "execution_count": 58,
   "id": "f4b6a8ac-9dc0-4245-8a91-5b3b5999c4f9",
   "metadata": {
    "execution": {
     "iopub.execute_input": "2025-07-30T21:40:44.748298Z",
     "iopub.status.busy": "2025-07-30T21:40:44.747604Z",
     "iopub.status.idle": "2025-07-30T21:40:44.753853Z",
     "shell.execute_reply": "2025-07-30T21:40:44.752911Z"
    },
    "papermill": {
     "duration": 0.03104,
     "end_time": "2025-07-30T21:40:44.755438",
     "exception": false,
     "start_time": "2025-07-30T21:40:44.724398",
     "status": "completed"
    },
    "tags": []
   },
   "outputs": [],
   "source": [
    "cp_metrics_dict = {\n",
    "    \"universe_id\": [universe_id],\n",
    "    \"universe_training_year\": [universe_training_year],\n",
    "    \"universe_training_size\": [universe_training_size],\n",
    "    \"universe_scale\": [universe_scale],\n",
    "    \"universe_model\": [universe_model],\n",
    "    \"universe_exclude_features\": [universe_exclude_features],\n",
    "    \"universe_exclude_subgroups\": [universe_exclude_subgroups],\n",
    "    \"q_hat\": [q_hat],\n",
    "    \"coverage\": [metrics[\"coverage\"]],\n",
    "    \"avg_size\": [metrics[\"avg_size\"]],\n",
    "}"
   ]
  },
  {
   "cell_type": "code",
   "execution_count": 59,
   "id": "908acbb1-0371-4915-85ca-3fa520d2efe2",
   "metadata": {
    "execution": {
     "iopub.execute_input": "2025-07-30T21:40:44.802422Z",
     "iopub.status.busy": "2025-07-30T21:40:44.802031Z",
     "iopub.status.idle": "2025-07-30T21:40:44.809287Z",
     "shell.execute_reply": "2025-07-30T21:40:44.808360Z"
    },
    "papermill": {
     "duration": 0.03209,
     "end_time": "2025-07-30T21:40:44.810918",
     "exception": false,
     "start_time": "2025-07-30T21:40:44.778828",
     "status": "completed"
    },
    "tags": []
   },
   "outputs": [
    {
     "data": {
      "text/plain": [
       "{'universe_id': ['48c21dea0e1c6395cc447e157aa8cef8'],\n",
       " 'universe_training_year': ['2012_14'],\n",
       " 'universe_training_size': ['1k'],\n",
       " 'universe_scale': ['do-not-scale'],\n",
       " 'universe_model': ['rf'],\n",
       " 'universe_exclude_features': ['nationality-sex'],\n",
       " 'universe_exclude_subgroups': ['keep-all'],\n",
       " 'q_hat': [0.6699999999999999],\n",
       " 'coverage': [0.9149593133429941],\n",
       " 'avg_size': [1.1507412774495598]}"
      ]
     },
     "execution_count": 59,
     "metadata": {},
     "output_type": "execute_result"
    }
   ],
   "source": [
    "cp_metrics_dict"
   ]
  },
  {
   "cell_type": "code",
   "execution_count": 60,
   "id": "33007efc-14e9-4ec6-97ac-56a455c82265",
   "metadata": {
    "execution": {
     "iopub.execute_input": "2025-07-30T21:40:44.860434Z",
     "iopub.status.busy": "2025-07-30T21:40:44.859719Z",
     "iopub.status.idle": "2025-07-30T21:40:44.871482Z",
     "shell.execute_reply": "2025-07-30T21:40:44.864986Z"
    },
    "papermill": {
     "duration": 0.038109,
     "end_time": "2025-07-30T21:40:44.873436",
     "exception": false,
     "start_time": "2025-07-30T21:40:44.835327",
     "status": "completed"
    },
    "tags": []
   },
   "outputs": [],
   "source": [
    "cp_metrics_df = pd.DataFrame(cp_metrics_dict)"
   ]
  },
  {
   "cell_type": "code",
   "execution_count": 61,
   "id": "db12611b-57b2-4910-b9d0-355adfd6e7bf",
   "metadata": {
    "execution": {
     "iopub.execute_input": "2025-07-30T21:40:44.924448Z",
     "iopub.status.busy": "2025-07-30T21:40:44.923646Z",
     "iopub.status.idle": "2025-07-30T21:40:44.943999Z",
     "shell.execute_reply": "2025-07-30T21:40:44.943112Z"
    },
    "papermill": {
     "duration": 0.047176,
     "end_time": "2025-07-30T21:40:44.945661",
     "exception": false,
     "start_time": "2025-07-30T21:40:44.898485",
     "status": "completed"
    },
    "tags": []
   },
   "outputs": [
    {
     "data": {
      "text/html": [
       "<div>\n",
       "<style scoped>\n",
       "    .dataframe tbody tr th:only-of-type {\n",
       "        vertical-align: middle;\n",
       "    }\n",
       "\n",
       "    .dataframe tbody tr th {\n",
       "        vertical-align: top;\n",
       "    }\n",
       "\n",
       "    .dataframe thead th {\n",
       "        text-align: right;\n",
       "    }\n",
       "</style>\n",
       "<table border=\"1\" class=\"dataframe\">\n",
       "  <thead>\n",
       "    <tr style=\"text-align: right;\">\n",
       "      <th></th>\n",
       "      <th>universe_id</th>\n",
       "      <th>universe_training_year</th>\n",
       "      <th>universe_training_size</th>\n",
       "      <th>universe_scale</th>\n",
       "      <th>universe_model</th>\n",
       "      <th>universe_exclude_features</th>\n",
       "      <th>universe_exclude_subgroups</th>\n",
       "      <th>q_hat</th>\n",
       "      <th>coverage</th>\n",
       "      <th>avg_size</th>\n",
       "    </tr>\n",
       "  </thead>\n",
       "  <tbody>\n",
       "    <tr>\n",
       "      <th>0</th>\n",
       "      <td>48c21dea0e1c6395cc447e157aa8cef8</td>\n",
       "      <td>2012_14</td>\n",
       "      <td>1k</td>\n",
       "      <td>do-not-scale</td>\n",
       "      <td>rf</td>\n",
       "      <td>nationality-sex</td>\n",
       "      <td>keep-all</td>\n",
       "      <td>0.67</td>\n",
       "      <td>0.914959</td>\n",
       "      <td>1.150741</td>\n",
       "    </tr>\n",
       "  </tbody>\n",
       "</table>\n",
       "</div>"
      ],
      "text/plain": [
       "                        universe_id universe_training_year  \\\n",
       "0  48c21dea0e1c6395cc447e157aa8cef8                2012_14   \n",
       "\n",
       "  universe_training_size universe_scale universe_model  \\\n",
       "0                     1k   do-not-scale             rf   \n",
       "\n",
       "  universe_exclude_features universe_exclude_subgroups  q_hat  coverage  \\\n",
       "0           nationality-sex                   keep-all   0.67  0.914959   \n",
       "\n",
       "   avg_size  \n",
       "0  1.150741  "
      ]
     },
     "execution_count": 61,
     "metadata": {},
     "output_type": "execute_result"
    }
   ],
   "source": [
    "cp_metrics_df"
   ]
  },
  {
   "cell_type": "code",
   "execution_count": 62,
   "id": "b7fbde55-a0a1-47e4-9af6-fe4a17fa8c61",
   "metadata": {
    "execution": {
     "iopub.execute_input": "2025-07-30T21:40:45.001434Z",
     "iopub.status.busy": "2025-07-30T21:40:45.000143Z",
     "iopub.status.idle": "2025-07-30T21:40:45.005742Z",
     "shell.execute_reply": "2025-07-30T21:40:45.004837Z"
    },
    "papermill": {
     "duration": 0.033979,
     "end_time": "2025-07-30T21:40:45.007557",
     "exception": false,
     "start_time": "2025-07-30T21:40:44.973578",
     "status": "completed"
    },
    "tags": []
   },
   "outputs": [],
   "source": [
    "# Conditional Coverage & looking at subgroups"
   ]
  },
  {
   "cell_type": "code",
   "execution_count": 63,
   "id": "027ae886-68dd-4141-96c7-805a5450e1ef",
   "metadata": {
    "execution": {
     "iopub.execute_input": "2025-07-30T21:40:45.062702Z",
     "iopub.status.busy": "2025-07-30T21:40:45.062128Z",
     "iopub.status.idle": "2025-07-30T21:40:45.317022Z",
     "shell.execute_reply": "2025-07-30T21:40:45.316277Z"
    },
    "papermill": {
     "duration": 0.283479,
     "end_time": "2025-07-30T21:40:45.318330",
     "exception": false,
     "start_time": "2025-07-30T21:40:45.034851",
     "status": "completed"
    },
    "tags": []
   },
   "outputs": [],
   "source": [
    "from fairness_multiverse.conformal import build_cp_groups\n",
    "\n",
    "cp_groups_df = build_cp_groups(pred_sets, y_true, X_test.index, org_test)\n",
    "#needs universe_id and setting"
   ]
  },
  {
   "cell_type": "code",
   "execution_count": 64,
   "id": "01d5802c-663a-4d1f-9d69-e036faaffbf7",
   "metadata": {
    "execution": {
     "iopub.execute_input": "2025-07-30T21:40:45.373418Z",
     "iopub.status.busy": "2025-07-30T21:40:45.372995Z",
     "iopub.status.idle": "2025-07-30T21:40:45.377808Z",
     "shell.execute_reply": "2025-07-30T21:40:45.376750Z"
    },
    "papermill": {
     "duration": 0.034262,
     "end_time": "2025-07-30T21:40:45.379747",
     "exception": false,
     "start_time": "2025-07-30T21:40:45.345485",
     "status": "completed"
    },
    "tags": []
   },
   "outputs": [],
   "source": [
    "#delete\n",
    "#cp_groups_df"
   ]
  },
  {
   "cell_type": "code",
   "execution_count": 65,
   "id": "fa424af1-d1eb-443d-b717-2d279ada8408",
   "metadata": {
    "execution": {
     "iopub.execute_input": "2025-07-30T21:40:45.430664Z",
     "iopub.status.busy": "2025-07-30T21:40:45.429909Z",
     "iopub.status.idle": "2025-07-30T21:40:45.434980Z",
     "shell.execute_reply": "2025-07-30T21:40:45.433823Z"
    },
    "papermill": {
     "duration": 0.031787,
     "end_time": "2025-07-30T21:40:45.436753",
     "exception": false,
     "start_time": "2025-07-30T21:40:45.404966",
     "status": "completed"
    },
    "tags": []
   },
   "outputs": [],
   "source": [
    "#delete\n",
    "#percentage = (cp_groups_df['nongerman_female'] == 1).mean() * 100\n",
    "#print(percentage)\n"
   ]
  },
  {
   "cell_type": "code",
   "execution_count": 66,
   "id": "6cbdab96-b2b2-45af-ad54-d0516db2e28d",
   "metadata": {
    "execution": {
     "iopub.execute_input": "2025-07-30T21:40:45.493948Z",
     "iopub.status.busy": "2025-07-30T21:40:45.493446Z",
     "iopub.status.idle": "2025-07-30T21:40:47.154345Z",
     "shell.execute_reply": "2025-07-30T21:40:47.153082Z"
    },
    "papermill": {
     "duration": 1.690041,
     "end_time": "2025-07-30T21:40:47.155867",
     "exception": false,
     "start_time": "2025-07-30T21:40:45.465826",
     "status": "completed"
    },
    "tags": []
   },
   "outputs": [],
   "source": [
    "# Define covered = 1 if true_label is in the predicted set\n",
    "cp_groups_df['covered'] = cp_groups_df.apply(\n",
    "    lambda r: int(r['true_label'] in r['pred_set']),\n",
    "    axis=1\n",
    ")"
   ]
  },
  {
   "cell_type": "code",
   "execution_count": 67,
   "id": "338ff529-1a6b-4b87-a931-8e4788d52aad",
   "metadata": {
    "execution": {
     "iopub.execute_input": "2025-07-30T21:40:47.212680Z",
     "iopub.status.busy": "2025-07-30T21:40:47.211681Z",
     "iopub.status.idle": "2025-07-30T21:40:47.217449Z",
     "shell.execute_reply": "2025-07-30T21:40:47.216465Z"
    },
    "papermill": {
     "duration": 0.034291,
     "end_time": "2025-07-30T21:40:47.219147",
     "exception": false,
     "start_time": "2025-07-30T21:40:47.184856",
     "status": "completed"
    },
    "tags": []
   },
   "outputs": [],
   "source": [
    "#cp_groups_df"
   ]
  },
  {
   "cell_type": "code",
   "execution_count": 68,
   "id": "90032e27-66df-4540-9169-4e89cfbaa758",
   "metadata": {
    "execution": {
     "iopub.execute_input": "2025-07-30T21:40:47.273428Z",
     "iopub.status.busy": "2025-07-30T21:40:47.272851Z",
     "iopub.status.idle": "2025-07-30T21:40:47.285755Z",
     "shell.execute_reply": "2025-07-30T21:40:47.284437Z"
    },
    "papermill": {
     "duration": 0.04159,
     "end_time": "2025-07-30T21:40:47.287692",
     "exception": false,
     "start_time": "2025-07-30T21:40:47.246102",
     "status": "completed"
    },
    "tags": []
   },
   "outputs": [],
   "source": [
    "subgroups = ['frau1','nongerman','nongerman_male','nongerman_female']\n",
    "\n",
    "# Conditional coverage for subgroup==1\n",
    "cond_coverage = {\n",
    "    g: cp_groups_df.loc[cp_groups_df[g]==1, 'covered'].mean()\n",
    "    for g in subgroups\n",
    "}"
   ]
  },
  {
   "cell_type": "code",
   "execution_count": 69,
   "id": "1e348fb1-b9c3-45bc-ba23-f016827a7e0d",
   "metadata": {
    "execution": {
     "iopub.execute_input": "2025-07-30T21:40:47.341777Z",
     "iopub.status.busy": "2025-07-30T21:40:47.341286Z",
     "iopub.status.idle": "2025-07-30T21:40:47.348592Z",
     "shell.execute_reply": "2025-07-30T21:40:47.347558Z"
    },
    "papermill": {
     "duration": 0.036155,
     "end_time": "2025-07-30T21:40:47.350414",
     "exception": false,
     "start_time": "2025-07-30T21:40:47.314259",
     "status": "completed"
    },
    "tags": []
   },
   "outputs": [
    {
     "data": {
      "text/plain": [
       "{'frau1': 0.9133306375522308,\n",
       " 'nongerman': 0.9083253803402009,\n",
       " 'nongerman_male': 0.9258758893992615,\n",
       " 'nongerman_female': 0.879284649776453}"
      ]
     },
     "execution_count": 69,
     "metadata": {},
     "output_type": "execute_result"
    }
   ],
   "source": [
    "cond_coverage"
   ]
  },
  {
   "cell_type": "code",
   "execution_count": 70,
   "id": "f5093324-c3dd-4d63-bc4c-8d945e5c8bbb",
   "metadata": {
    "execution": {
     "iopub.execute_input": "2025-07-30T21:40:47.404602Z",
     "iopub.status.busy": "2025-07-30T21:40:47.404131Z",
     "iopub.status.idle": "2025-07-30T21:40:47.412179Z",
     "shell.execute_reply": "2025-07-30T21:40:47.411129Z"
    },
    "papermill": {
     "duration": 0.035927,
     "end_time": "2025-07-30T21:40:47.413962",
     "exception": false,
     "start_time": "2025-07-30T21:40:47.378035",
     "status": "completed"
    },
    "tags": []
   },
   "outputs": [],
   "source": [
    "for subgroup, cov in cond_coverage.items():\n",
    "    cp_metrics_df[f\"cov_{subgroup}\"] = cov"
   ]
  },
  {
   "cell_type": "code",
   "execution_count": 71,
   "id": "6e872e10-dbe5-49e8-b554-5030c98ff75d",
   "metadata": {
    "execution": {
     "iopub.execute_input": "2025-07-30T21:40:47.468254Z",
     "iopub.status.busy": "2025-07-30T21:40:47.467408Z",
     "iopub.status.idle": "2025-07-30T21:40:47.488004Z",
     "shell.execute_reply": "2025-07-30T21:40:47.487016Z"
    },
    "papermill": {
     "duration": 0.048361,
     "end_time": "2025-07-30T21:40:47.489684",
     "exception": false,
     "start_time": "2025-07-30T21:40:47.441323",
     "status": "completed"
    },
    "tags": []
   },
   "outputs": [
    {
     "data": {
      "text/html": [
       "<div>\n",
       "<style scoped>\n",
       "    .dataframe tbody tr th:only-of-type {\n",
       "        vertical-align: middle;\n",
       "    }\n",
       "\n",
       "    .dataframe tbody tr th {\n",
       "        vertical-align: top;\n",
       "    }\n",
       "\n",
       "    .dataframe thead th {\n",
       "        text-align: right;\n",
       "    }\n",
       "</style>\n",
       "<table border=\"1\" class=\"dataframe\">\n",
       "  <thead>\n",
       "    <tr style=\"text-align: right;\">\n",
       "      <th></th>\n",
       "      <th>universe_id</th>\n",
       "      <th>universe_training_year</th>\n",
       "      <th>universe_training_size</th>\n",
       "      <th>universe_scale</th>\n",
       "      <th>universe_model</th>\n",
       "      <th>universe_exclude_features</th>\n",
       "      <th>universe_exclude_subgroups</th>\n",
       "      <th>q_hat</th>\n",
       "      <th>coverage</th>\n",
       "      <th>avg_size</th>\n",
       "      <th>cov_frau1</th>\n",
       "      <th>cov_nongerman</th>\n",
       "      <th>cov_nongerman_male</th>\n",
       "      <th>cov_nongerman_female</th>\n",
       "    </tr>\n",
       "  </thead>\n",
       "  <tbody>\n",
       "    <tr>\n",
       "      <th>0</th>\n",
       "      <td>48c21dea0e1c6395cc447e157aa8cef8</td>\n",
       "      <td>2012_14</td>\n",
       "      <td>1k</td>\n",
       "      <td>do-not-scale</td>\n",
       "      <td>rf</td>\n",
       "      <td>nationality-sex</td>\n",
       "      <td>keep-all</td>\n",
       "      <td>0.67</td>\n",
       "      <td>0.914959</td>\n",
       "      <td>1.150741</td>\n",
       "      <td>0.913331</td>\n",
       "      <td>0.908325</td>\n",
       "      <td>0.925876</td>\n",
       "      <td>0.879285</td>\n",
       "    </tr>\n",
       "  </tbody>\n",
       "</table>\n",
       "</div>"
      ],
      "text/plain": [
       "                        universe_id universe_training_year  \\\n",
       "0  48c21dea0e1c6395cc447e157aa8cef8                2012_14   \n",
       "\n",
       "  universe_training_size universe_scale universe_model  \\\n",
       "0                     1k   do-not-scale             rf   \n",
       "\n",
       "  universe_exclude_features universe_exclude_subgroups  q_hat  coverage  \\\n",
       "0           nationality-sex                   keep-all   0.67  0.914959   \n",
       "\n",
       "   avg_size  cov_frau1  cov_nongerman  cov_nongerman_male  \\\n",
       "0  1.150741   0.913331       0.908325            0.925876   \n",
       "\n",
       "   cov_nongerman_female  \n",
       "0              0.879285  "
      ]
     },
     "execution_count": 71,
     "metadata": {},
     "output_type": "execute_result"
    }
   ],
   "source": [
    "cp_metrics_df"
   ]
  },
  {
   "cell_type": "markdown",
   "id": "33774451",
   "metadata": {
    "papermill": {
     "duration": 0.026542,
     "end_time": "2025-07-30T21:40:47.543661",
     "exception": false,
     "start_time": "2025-07-30T21:40:47.517119",
     "status": "completed"
    },
    "tags": []
   },
   "source": [
    "# (Fairness) Metrics"
   ]
  },
  {
   "cell_type": "code",
   "execution_count": 72,
   "id": "debc5d62",
   "metadata": {
    "execution": {
     "iopub.execute_input": "2025-07-30T21:40:47.597558Z",
     "iopub.status.busy": "2025-07-30T21:40:47.597065Z",
     "iopub.status.idle": "2025-07-30T21:40:47.620145Z",
     "shell.execute_reply": "2025-07-30T21:40:47.619070Z"
    },
    "papermill": {
     "duration": 0.052348,
     "end_time": "2025-07-30T21:40:47.622197",
     "exception": false,
     "start_time": "2025-07-30T21:40:47.569849",
     "status": "completed"
    },
    "tags": []
   },
   "outputs": [],
   "source": [
    "# do I need to include maxdeutsch1.missing?\n",
    "\n",
    "import numpy as np\n",
    "\n",
    "colname_to_bin = \"maxdeutsch1\"\n",
    "majority_value = org_train[colname_to_bin].mode()[0]\n",
    "\n",
    "org_test[\"majmin\"] = np.where(org_test[colname_to_bin] == majority_value, \"majority\", \"minority\")"
   ]
  },
  {
   "cell_type": "code",
   "execution_count": 73,
   "id": "06a50de5",
   "metadata": {
    "execution": {
     "iopub.execute_input": "2025-07-30T21:40:47.677351Z",
     "iopub.status.busy": "2025-07-30T21:40:47.676434Z",
     "iopub.status.idle": "2025-07-30T21:40:50.338323Z",
     "shell.execute_reply": "2025-07-30T21:40:50.337304Z"
    },
    "papermill": {
     "duration": 2.691209,
     "end_time": "2025-07-30T21:40:50.340263",
     "exception": false,
     "start_time": "2025-07-30T21:40:47.649054",
     "status": "completed"
    },
    "tags": []
   },
   "outputs": [],
   "source": [
    "example_universe = universe.copy()\n",
    "example_universe[\"cutoff\"] = example_universe[\"cutoff\"][0]\n",
    "example_universe[\"eval_fairness_grouping\"] = example_universe[\"eval_fairness_grouping\"][0]\n",
    "fairness_dict, metric_frame = universe_analysis.compute_metrics(\n",
    "    example_universe,\n",
    "    y_pred_prob=probs_test,\n",
    "    y_test=y_true,\n",
    "    org_test=org_test,\n",
    ")"
   ]
  },
  {
   "cell_type": "markdown",
   "id": "f95d4e02",
   "metadata": {
    "papermill": {
     "duration": 0.024053,
     "end_time": "2025-07-30T21:40:50.394686",
     "exception": false,
     "start_time": "2025-07-30T21:40:50.370633",
     "status": "completed"
    },
    "tags": []
   },
   "source": [
    "# Overall"
   ]
  },
  {
   "cell_type": "markdown",
   "id": "bdee4871",
   "metadata": {
    "papermill": {
     "duration": 0.024164,
     "end_time": "2025-07-30T21:40:50.442824",
     "exception": false,
     "start_time": "2025-07-30T21:40:50.418660",
     "status": "completed"
    },
    "tags": []
   },
   "source": [
    "Fairness\n",
    "Main fairness target: Equalized Odds. Seems to be a better fit than equal opportunity, since we're not only interested in Y = 1. Seems to be a better fit than demographic parity, since we also care about accuracy, not just equal distribution of preds.\n",
    "\n",
    "Pick column for computation of fairness metrics\n",
    "\n",
    "Performance\n",
    "Overall performance measures, most interesting in relation to the measures split by group below"
   ]
  },
  {
   "cell_type": "code",
   "execution_count": 74,
   "id": "c4e067c6",
   "metadata": {
    "execution": {
     "iopub.execute_input": "2025-07-30T21:40:50.494305Z",
     "iopub.status.busy": "2025-07-30T21:40:50.493500Z",
     "iopub.status.idle": "2025-07-30T21:40:50.502989Z",
     "shell.execute_reply": "2025-07-30T21:40:50.502019Z"
    },
    "papermill": {
     "duration": 0.037354,
     "end_time": "2025-07-30T21:40:50.504663",
     "exception": false,
     "start_time": "2025-07-30T21:40:50.467309",
     "status": "completed"
    },
    "tags": []
   },
   "outputs": [
    {
     "data": {
      "text/plain": [
       "accuracy                   0.201326\n",
       "balanced accuracy          0.532004\n",
       "f1                         0.238837\n",
       "precision                  0.136052\n",
       "false positive rate        0.912790\n",
       "false negative rate        0.023201\n",
       "selection rate             0.921001\n",
       "count                  89710.000000\n",
       "dtype: float64"
      ]
     },
     "execution_count": 74,
     "metadata": {},
     "output_type": "execute_result"
    }
   ],
   "source": [
    "metric_frame.overall"
   ]
  },
  {
   "cell_type": "markdown",
   "id": "e968fe9d",
   "metadata": {
    "papermill": {
     "duration": 0.024435,
     "end_time": "2025-07-30T21:40:50.555103",
     "exception": false,
     "start_time": "2025-07-30T21:40:50.530668",
     "status": "completed"
    },
    "tags": []
   },
   "source": [
    "By Group"
   ]
  },
  {
   "cell_type": "code",
   "execution_count": 75,
   "id": "ec325bce",
   "metadata": {
    "execution": {
     "iopub.execute_input": "2025-07-30T21:40:50.606619Z",
     "iopub.status.busy": "2025-07-30T21:40:50.605927Z",
     "iopub.status.idle": "2025-07-30T21:40:50.621668Z",
     "shell.execute_reply": "2025-07-30T21:40:50.620681Z"
    },
    "papermill": {
     "duration": 0.042763,
     "end_time": "2025-07-30T21:40:50.623251",
     "exception": false,
     "start_time": "2025-07-30T21:40:50.580488",
     "status": "completed"
    },
    "tags": []
   },
   "outputs": [
    {
     "data": {
      "text/html": [
       "<div>\n",
       "<style scoped>\n",
       "    .dataframe tbody tr th:only-of-type {\n",
       "        vertical-align: middle;\n",
       "    }\n",
       "\n",
       "    .dataframe tbody tr th {\n",
       "        vertical-align: top;\n",
       "    }\n",
       "\n",
       "    .dataframe thead th {\n",
       "        text-align: right;\n",
       "    }\n",
       "</style>\n",
       "<table border=\"1\" class=\"dataframe\">\n",
       "  <thead>\n",
       "    <tr style=\"text-align: right;\">\n",
       "      <th></th>\n",
       "      <th>accuracy</th>\n",
       "      <th>balanced accuracy</th>\n",
       "      <th>f1</th>\n",
       "      <th>precision</th>\n",
       "      <th>false positive rate</th>\n",
       "      <th>false negative rate</th>\n",
       "      <th>selection rate</th>\n",
       "      <th>count</th>\n",
       "    </tr>\n",
       "    <tr>\n",
       "      <th>majmin</th>\n",
       "      <th></th>\n",
       "      <th></th>\n",
       "      <th></th>\n",
       "      <th></th>\n",
       "      <th></th>\n",
       "      <th></th>\n",
       "      <th></th>\n",
       "      <th></th>\n",
       "    </tr>\n",
       "  </thead>\n",
       "  <tbody>\n",
       "    <tr>\n",
       "      <th>majority</th>\n",
       "      <td>0.202169</td>\n",
       "      <td>0.535013</td>\n",
       "      <td>0.246463</td>\n",
       "      <td>0.140804</td>\n",
       "      <td>0.917391</td>\n",
       "      <td>0.012582</td>\n",
       "      <td>0.926644</td>\n",
       "      <td>69170.0</td>\n",
       "    </tr>\n",
       "    <tr>\n",
       "      <th>minority</th>\n",
       "      <td>0.198491</td>\n",
       "      <td>0.519111</td>\n",
       "      <td>0.212108</td>\n",
       "      <td>0.119609</td>\n",
       "      <td>0.897590</td>\n",
       "      <td>0.064189</td>\n",
       "      <td>0.901996</td>\n",
       "      <td>20540.0</td>\n",
       "    </tr>\n",
       "  </tbody>\n",
       "</table>\n",
       "</div>"
      ],
      "text/plain": [
       "          accuracy  balanced accuracy        f1  precision  \\\n",
       "majmin                                                       \n",
       "majority  0.202169           0.535013  0.246463   0.140804   \n",
       "minority  0.198491           0.519111  0.212108   0.119609   \n",
       "\n",
       "          false positive rate  false negative rate  selection rate    count  \n",
       "majmin                                                                       \n",
       "majority             0.917391             0.012582        0.926644  69170.0  \n",
       "minority             0.897590             0.064189        0.901996  20540.0  "
      ]
     },
     "execution_count": 75,
     "metadata": {},
     "output_type": "execute_result"
    }
   ],
   "source": [
    "metric_frame.by_group"
   ]
  },
  {
   "cell_type": "code",
   "execution_count": 76,
   "id": "a9ddbe63",
   "metadata": {
    "execution": {
     "iopub.execute_input": "2025-07-30T21:40:50.678068Z",
     "iopub.status.busy": "2025-07-30T21:40:50.677609Z",
     "iopub.status.idle": "2025-07-30T21:40:53.082110Z",
     "shell.execute_reply": "2025-07-30T21:40:53.081098Z"
    },
    "papermill": {
     "duration": 2.434105,
     "end_time": "2025-07-30T21:40:53.083851",
     "exception": false,
     "start_time": "2025-07-30T21:40:50.649746",
     "status": "completed"
    },
    "tags": []
   },
   "outputs": [
    {
     "data": {
      "text/plain": [
       "array([[<Axes: title={'center': 'accuracy'}, xlabel='majmin'>,\n",
       "        <Axes: title={'center': 'balanced accuracy'}, xlabel='majmin'>,\n",
       "        <Axes: title={'center': 'f1'}, xlabel='majmin'>],\n",
       "       [<Axes: title={'center': 'precision'}, xlabel='majmin'>,\n",
       "        <Axes: title={'center': 'false positive rate'}, xlabel='majmin'>,\n",
       "        <Axes: title={'center': 'false negative rate'}, xlabel='majmin'>],\n",
       "       [<Axes: title={'center': 'selection rate'}, xlabel='majmin'>,\n",
       "        <Axes: title={'center': 'count'}, xlabel='majmin'>,\n",
       "        <Axes: xlabel='majmin'>]], dtype=object)"
      ]
     },
     "execution_count": 76,
     "metadata": {},
     "output_type": "execute_result"
    },
    {
     "data": {
      "image/png": "[encoded data removed]",
      "text/plain": [
       "<Figure size 1200x800 with 9 Axes>"
      ]
     },
     "metadata": {},
     "output_type": "display_data"
    }
   ],
   "source": [
    "# In a graphic\n",
    "metric_frame.by_group.plot.bar(\n",
    "    subplots=True,\n",
    "    layout=[3, 3],\n",
    "    legend=False,\n",
    "    figsize=[12, 8],\n",
    "    title=\"Show all metrics\",\n",
    ")"
   ]
  },
  {
   "cell_type": "markdown",
   "id": "f57a0bac",
   "metadata": {
    "papermill": {
     "duration": 0.029004,
     "end_time": "2025-07-30T21:40:53.144302",
     "exception": false,
     "start_time": "2025-07-30T21:40:53.115298",
     "status": "completed"
    },
    "tags": []
   },
   "source": [
    "# Final Output"
   ]
  },
  {
   "cell_type": "code",
   "execution_count": 77,
   "id": "96d280a3",
   "metadata": {
    "execution": {
     "iopub.execute_input": "2025-07-30T21:40:53.203267Z",
     "iopub.status.busy": "2025-07-30T21:40:53.202644Z",
     "iopub.status.idle": "2025-07-30T21:40:53.210457Z",
     "shell.execute_reply": "2025-07-30T21:40:53.209558Z"
    },
    "papermill": {
     "duration": 0.038957,
     "end_time": "2025-07-30T21:40:53.212124",
     "exception": false,
     "start_time": "2025-07-30T21:40:53.173167",
     "status": "completed"
    },
    "tags": []
   },
   "outputs": [
    {
     "data": {
      "text/plain": [
       "4"
      ]
     },
     "execution_count": 77,
     "metadata": {},
     "output_type": "execute_result"
    }
   ],
   "source": [
    "sub_universes = universe_analysis.generate_sub_universes()\n",
    "len(sub_universes)"
   ]
  },
  {
   "cell_type": "code",
   "execution_count": 78,
   "id": "92adf7ba",
   "metadata": {
    "execution": {
     "iopub.execute_input": "2025-07-30T21:40:53.272112Z",
     "iopub.status.busy": "2025-07-30T21:40:53.271425Z",
     "iopub.status.idle": "2025-07-30T21:40:53.277393Z",
     "shell.execute_reply": "2025-07-30T21:40:53.276505Z"
    },
    "papermill": {
     "duration": 0.037039,
     "end_time": "2025-07-30T21:40:53.279009",
     "exception": false,
     "start_time": "2025-07-30T21:40:53.241970",
     "status": "completed"
    },
    "tags": []
   },
   "outputs": [],
   "source": [
    "def filter_sub_universe_data(sub_universe, org_test):\n",
    "    # Keep all rows — no filtering\n",
    "    keep_rows_mask = np.ones(org_test.shape[0], dtype=bool)\n",
    "\n",
    "    print(f\"[INFO] Keeping all rows: {keep_rows_mask.sum()} rows retained.\")\n",
    "    return keep_rows_mask"
   ]
  },
  {
   "cell_type": "code",
   "execution_count": 79,
   "id": "4a759155",
   "metadata": {
    "execution": {
     "iopub.execute_input": "2025-07-30T21:40:53.338926Z",
     "iopub.status.busy": "2025-07-30T21:40:53.338094Z",
     "iopub.status.idle": "2025-07-30T21:41:03.787058Z",
     "shell.execute_reply": "2025-07-30T21:41:03.786310Z"
    },
    "papermill": {
     "duration": 10.479864,
     "end_time": "2025-07-30T21:41:03.788783",
     "exception": false,
     "start_time": "2025-07-30T21:40:53.308919",
     "status": "completed"
    },
    "tags": []
   },
   "outputs": [
    {
     "name": "stdout",
     "output_type": "stream",
     "text": [
      "Stopping execution_time clock.\n",
      "[INFO] Keeping all rows: 89710 rows retained.\n"
     ]
    },
    {
     "name": "stdout",
     "output_type": "stream",
     "text": [
      "[INFO] Keeping all rows: 89710 rows retained.\n"
     ]
    },
    {
     "name": "stdout",
     "output_type": "stream",
     "text": [
      "[INFO] Keeping all rows: 89710 rows retained.\n"
     ]
    },
    {
     "name": "stdout",
     "output_type": "stream",
     "text": [
      "[INFO] Keeping all rows: 89710 rows retained.\n"
     ]
    },
    {
     "data": {
      "text/html": [
       "<div>\n",
       "<style scoped>\n",
       "    .dataframe tbody tr th:only-of-type {\n",
       "        vertical-align: middle;\n",
       "    }\n",
       "\n",
       "    .dataframe tbody tr th {\n",
       "        vertical-align: top;\n",
       "    }\n",
       "\n",
       "    .dataframe thead th {\n",
       "        text-align: right;\n",
       "    }\n",
       "</style>\n",
       "<table border=\"1\" class=\"dataframe\">\n",
       "  <thead>\n",
       "    <tr style=\"text-align: right;\">\n",
       "      <th></th>\n",
       "      <th>run_no</th>\n",
       "      <th>universe_id</th>\n",
       "      <th>universe_settings</th>\n",
       "      <th>execution_time</th>\n",
       "      <th>test_size_n</th>\n",
       "      <th>test_size_frac</th>\n",
       "      <th>fair_main_equalized_odds_difference</th>\n",
       "      <th>fair_main_equalized_odds_ratio</th>\n",
       "      <th>fair_main_demographic_parity_difference</th>\n",
       "      <th>fair_main_demographic_parity_ratio</th>\n",
       "      <th>...</th>\n",
       "      <th>perf_grp_precision_0</th>\n",
       "      <th>perf_grp_precision_1</th>\n",
       "      <th>perf_grp_false positive rate_0</th>\n",
       "      <th>perf_grp_false positive rate_1</th>\n",
       "      <th>perf_grp_false negative rate_0</th>\n",
       "      <th>perf_grp_false negative rate_1</th>\n",
       "      <th>perf_grp_selection rate_0</th>\n",
       "      <th>perf_grp_selection rate_1</th>\n",
       "      <th>perf_grp_count_0</th>\n",
       "      <th>perf_grp_count_1</th>\n",
       "    </tr>\n",
       "  </thead>\n",
       "  <tbody>\n",
       "    <tr>\n",
       "      <th>0</th>\n",
       "      <td>14</td>\n",
       "      <td>48c21dea0e1c6395cc447e157aa8cef8</td>\n",
       "      <td>{\"cutoff\": \"quantile_0.1\", \"eval_fairness_grou...</td>\n",
       "      <td>30.236035</td>\n",
       "      <td>89710</td>\n",
       "      <td>1.0</td>\n",
       "      <td>0.051607</td>\n",
       "      <td>0.947735</td>\n",
       "      <td>0.024648</td>\n",
       "      <td>0.97340</td>\n",
       "      <td>...</td>\n",
       "      <td>NaN</td>\n",
       "      <td>NaN</td>\n",
       "      <td>NaN</td>\n",
       "      <td>NaN</td>\n",
       "      <td>NaN</td>\n",
       "      <td>NaN</td>\n",
       "      <td>NaN</td>\n",
       "      <td>NaN</td>\n",
       "      <td>NaN</td>\n",
       "      <td>NaN</td>\n",
       "    </tr>\n",
       "    <tr>\n",
       "      <th>0</th>\n",
       "      <td>14</td>\n",
       "      <td>48c21dea0e1c6395cc447e157aa8cef8</td>\n",
       "      <td>{\"cutoff\": \"quantile_0.1\", \"eval_fairness_grou...</td>\n",
       "      <td>30.236035</td>\n",
       "      <td>89710</td>\n",
       "      <td>1.0</td>\n",
       "      <td>0.051607</td>\n",
       "      <td>0.947735</td>\n",
       "      <td>0.024648</td>\n",
       "      <td>0.97340</td>\n",
       "      <td>...</td>\n",
       "      <td>0.119609</td>\n",
       "      <td>0.140804</td>\n",
       "      <td>0.897590</td>\n",
       "      <td>0.917391</td>\n",
       "      <td>0.064189</td>\n",
       "      <td>0.012582</td>\n",
       "      <td>0.901996</td>\n",
       "      <td>0.926644</td>\n",
       "      <td>20540.0</td>\n",
       "      <td>69170.0</td>\n",
       "    </tr>\n",
       "    <tr>\n",
       "      <th>0</th>\n",
       "      <td>14</td>\n",
       "      <td>48c21dea0e1c6395cc447e157aa8cef8</td>\n",
       "      <td>{\"cutoff\": \"quantile_0.25\", \"eval_fairness_gro...</td>\n",
       "      <td>30.236035</td>\n",
       "      <td>89710</td>\n",
       "      <td>1.0</td>\n",
       "      <td>0.129859</td>\n",
       "      <td>0.861827</td>\n",
       "      <td>0.055686</td>\n",
       "      <td>0.92752</td>\n",
       "      <td>...</td>\n",
       "      <td>NaN</td>\n",
       "      <td>NaN</td>\n",
       "      <td>NaN</td>\n",
       "      <td>NaN</td>\n",
       "      <td>NaN</td>\n",
       "      <td>NaN</td>\n",
       "      <td>NaN</td>\n",
       "      <td>NaN</td>\n",
       "      <td>NaN</td>\n",
       "      <td>NaN</td>\n",
       "    </tr>\n",
       "    <tr>\n",
       "      <th>0</th>\n",
       "      <td>14</td>\n",
       "      <td>48c21dea0e1c6395cc447e157aa8cef8</td>\n",
       "      <td>{\"cutoff\": \"quantile_0.25\", \"eval_fairness_gro...</td>\n",
       "      <td>30.236035</td>\n",
       "      <td>89710</td>\n",
       "      <td>1.0</td>\n",
       "      <td>0.129859</td>\n",
       "      <td>0.861827</td>\n",
       "      <td>0.055686</td>\n",
       "      <td>0.92752</td>\n",
       "      <td>...</td>\n",
       "      <td>0.131038</td>\n",
       "      <td>0.161639</td>\n",
       "      <td>0.699923</td>\n",
       "      <td>0.742179</td>\n",
       "      <td>0.190034</td>\n",
       "      <td>0.060175</td>\n",
       "      <td>0.712610</td>\n",
       "      <td>0.768296</td>\n",
       "      <td>20540.0</td>\n",
       "      <td>69170.0</td>\n",
       "    </tr>\n",
       "  </tbody>\n",
       "</table>\n",
       "<p>4 rows × 50 columns</p>\n",
       "</div>"
      ],
      "text/plain": [
       "  run_no                       universe_id  \\\n",
       "0     14  48c21dea0e1c6395cc447e157aa8cef8   \n",
       "0     14  48c21dea0e1c6395cc447e157aa8cef8   \n",
       "0     14  48c21dea0e1c6395cc447e157aa8cef8   \n",
       "0     14  48c21dea0e1c6395cc447e157aa8cef8   \n",
       "\n",
       "                                   universe_settings  execution_time  \\\n",
       "0  {\"cutoff\": \"quantile_0.1\", \"eval_fairness_grou...       30.236035   \n",
       "0  {\"cutoff\": \"quantile_0.1\", \"eval_fairness_grou...       30.236035   \n",
       "0  {\"cutoff\": \"quantile_0.25\", \"eval_fairness_gro...       30.236035   \n",
       "0  {\"cutoff\": \"quantile_0.25\", \"eval_fairness_gro...       30.236035   \n",
       "\n",
       "   test_size_n  test_size_frac  fair_main_equalized_odds_difference  \\\n",
       "0        89710             1.0                             0.051607   \n",
       "0        89710             1.0                             0.051607   \n",
       "0        89710             1.0                             0.129859   \n",
       "0        89710             1.0                             0.129859   \n",
       "\n",
       "   fair_main_equalized_odds_ratio  fair_main_demographic_parity_difference  \\\n",
       "0                        0.947735                                 0.024648   \n",
       "0                        0.947735                                 0.024648   \n",
       "0                        0.861827                                 0.055686   \n",
       "0                        0.861827                                 0.055686   \n",
       "\n",
       "   fair_main_demographic_parity_ratio  ...  perf_grp_precision_0  \\\n",
       "0                             0.97340  ...                   NaN   \n",
       "0                             0.97340  ...              0.119609   \n",
       "0                             0.92752  ...                   NaN   \n",
       "0                             0.92752  ...              0.131038   \n",
       "\n",
       "   perf_grp_precision_1  perf_grp_false positive rate_0  \\\n",
       "0                   NaN                             NaN   \n",
       "0              0.140804                        0.897590   \n",
       "0                   NaN                             NaN   \n",
       "0              0.161639                        0.699923   \n",
       "\n",
       "   perf_grp_false positive rate_1  perf_grp_false negative rate_0  \\\n",
       "0                             NaN                             NaN   \n",
       "0                        0.917391                        0.064189   \n",
       "0                             NaN                             NaN   \n",
       "0                        0.742179                        0.190034   \n",
       "\n",
       "   perf_grp_false negative rate_1  perf_grp_selection rate_0  \\\n",
       "0                             NaN                        NaN   \n",
       "0                        0.012582                   0.901996   \n",
       "0                             NaN                        NaN   \n",
       "0                        0.060175                   0.712610   \n",
       "\n",
       "   perf_grp_selection rate_1  perf_grp_count_0  perf_grp_count_1  \n",
       "0                        NaN               NaN               NaN  \n",
       "0                   0.926644           20540.0           69170.0  \n",
       "0                        NaN               NaN               NaN  \n",
       "0                   0.768296           20540.0           69170.0  \n",
       "\n",
       "[4 rows x 50 columns]"
      ]
     },
     "execution_count": 79,
     "metadata": {},
     "output_type": "execute_result"
    }
   ],
   "source": [
    "final_output = universe_analysis.generate_final_output(\n",
    "    y_pred_prob=probs_test,\n",
    "    y_test=y_true,\n",
    "    org_test=org_test,\n",
    "    filter_data=filter_sub_universe_data,\n",
    "    cp_metrics_df=cp_metrics_df,\n",
    "    save=True,\n",
    ")\n",
    "final_output"
   ]
  },
  {
   "cell_type": "code",
   "execution_count": null,
   "id": "721ff514-cb11-46f8-b6fc-50392f74b5cb",
   "metadata": {
    "papermill": {
     "duration": 0.033514,
     "end_time": "2025-07-30T21:41:03.843605",
     "exception": false,
     "start_time": "2025-07-30T21:41:03.810091",
     "status": "completed"
    },
    "tags": []
   },
   "outputs": [],
   "source": []
  }
 ],
 "metadata": {
  "celltoolbar": "Tags",
  "kernelspec": {
   "display_name": "Python (CMA Fairness)",
   "language": "python",
   "name": "cma_fair_env"
  },
  "language_info": {
   "codemirror_mode": {
    "name": "ipython",
    "version": 3
   },
   "file_extension": ".py",
   "mimetype": "text/x-python",
   "name": "python",
   "nbconvert_exporter": "python",
   "pygments_lexer": "ipython3",
   "version": "3.10.12"
  },
  "papermill": {
   "default_parameters": {},
   "duration": 44.751153,
   "end_time": "2025-07-30T21:41:04.706627",
   "environment_variables": {},
   "exception": null,
   "input_path": "universe_analysis.ipynb",
   "output_path": "output/runs/14/notebooks/m_14-48c21dea0e1c6395cc447e157aa8cef8.ipynb",
   "parameters": {
    "output_dir": "output",
    "run_no": "14",
    "seed": "2023",
    "universe": "{\"cutoff\": [\"quantile_0.1\", \"quantile_0.25\"], \"eval_fairness_grouping\": [\"majority-minority\", \"nationality-all\"], \"exclude_features\": \"nationality-sex\", \"exclude_subgroups\": \"keep-all\", \"model\": \"rf\", \"scale\": \"do-not-scale\", \"training_size\": \"1k\", \"training_year\": \"2012_14\"}",
    "universe_id": "48c21dea0e1c6395cc447e157aa8cef8"
   },
   "start_time": "2025-07-30T21:40:19.955474",
   "version": "2.6.0"
  }
 },
 "nbformat": 4,
 "nbformat_minor": 5
}