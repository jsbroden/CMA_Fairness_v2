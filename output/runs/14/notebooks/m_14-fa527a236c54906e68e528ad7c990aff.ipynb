{
 "cells": [
  {
   "cell_type": "code",
   "execution_count": 1,
   "id": "f159f837-637b-42ba-96b5-ec9a68c44524",
   "metadata": {
    "execution": {
     "iopub.execute_input": "2025-07-30T21:35:25.834206Z",
     "iopub.status.busy": "2025-07-30T21:35:25.833158Z",
     "iopub.status.idle": "2025-07-30T21:35:25.848454Z",
     "shell.execute_reply": "2025-07-30T21:35:25.847307Z"
    },
    "papermill": {
     "duration": 0.043119,
     "end_time": "2025-07-30T21:35:25.850544",
     "exception": false,
     "start_time": "2025-07-30T21:35:25.807425",
     "status": "completed"
    },
    "tags": []
   },
   "outputs": [
    {
     "name": "stdout",
     "output_type": "stream",
     "text": [
      "/dss/dsshome1/0C/ra93lal2/cma/CMA_Fairness_v2\n"
     ]
    },
    {
     "name": "stderr",
     "output_type": "stream",
     "text": [
      "/dss/dsshome1/0C/ra93lal2/.local/share/virtualenvs/CMA_Fairness_v2-3j10GkSs/lib/python3.10/site-packages/IPython/core/magics/osm.py:393: UserWarning: This is now an optional IPython functionality, using bookmarks requires you to install the `pickleshare` library.\n",
      "  bkms = self.shell.db.get('bookmarks', {})\n",
      "/dss/dsshome1/0C/ra93lal2/.local/share/virtualenvs/CMA_Fairness_v2-3j10GkSs/lib/python3.10/site-packages/IPython/core/magics/osm.py:417: UserWarning: This is now an optional IPython functionality, setting dhist requires you to install the `pickleshare` library.\n",
      "  self.shell.db['dhist'] = compress_dhist(dhist)[-100:]\n"
     ]
    }
   ],
   "source": [
    "%cd ~/cma/CMA_Fairness_v2"
   ]
  },
  {
   "cell_type": "markdown",
   "id": "de2603b9",
   "metadata": {
    "papermill": {
     "duration": 0.010377,
     "end_time": "2025-07-30T21:35:25.873472",
     "exception": false,
     "start_time": "2025-07-30T21:35:25.863095",
     "status": "completed"
    },
    "tags": []
   },
   "source": [
    "The following cell holds the definition of our parameters, these values can be overriden by rendering the with e.g. the following command:\n",
    "\n",
    "papermill -p alpha 0.2 -p ratio 0.3 universe_analysis.ipynb output/test_run.ipynb"
   ]
  },
  {
   "cell_type": "code",
   "execution_count": 2,
   "id": "a80968a0-40bb-4fa9-85ef-2d5eefb01975",
   "metadata": {
    "execution": {
     "iopub.execute_input": "2025-07-30T21:35:25.895664Z",
     "iopub.status.busy": "2025-07-30T21:35:25.895317Z",
     "iopub.status.idle": "2025-07-30T21:35:25.900310Z",
     "shell.execute_reply": "2025-07-30T21:35:25.899539Z"
    },
    "papermill": {
     "duration": 0.017842,
     "end_time": "2025-07-30T21:35:25.901649",
     "exception": false,
     "start_time": "2025-07-30T21:35:25.883807",
     "status": "completed"
    },
    "tags": []
   },
   "outputs": [
    {
     "name": "stdout",
     "output_type": "stream",
     "text": [
      "Current working directory: /dss/dsshome1/0C/ra93lal2/cma/CMA_Fairness_v2\n"
     ]
    }
   ],
   "source": [
    "import os\n",
    "print(\"Current working directory:\", os.getcwd())"
   ]
  },
  {
   "cell_type": "code",
   "execution_count": 3,
   "id": "2dce4c03",
   "metadata": {
    "execution": {
     "iopub.execute_input": "2025-07-30T21:35:25.927365Z",
     "iopub.status.busy": "2025-07-30T21:35:25.927030Z",
     "iopub.status.idle": "2025-07-30T21:35:25.932386Z",
     "shell.execute_reply": "2025-07-30T21:35:25.931493Z"
    },
    "papermill": {
     "duration": 0.018021,
     "end_time": "2025-07-30T21:35:25.933738",
     "exception": false,
     "start_time": "2025-07-30T21:35:25.915717",
     "status": "completed"
    },
    "tags": [
     "parameters"
    ]
   },
   "outputs": [],
   "source": [
    "run_no = 0\n",
    "universe_id = \"test\"\n",
    "universe = {\n",
    "    \"training_size\": \"25k\", # \"25k\", \"5k\", \"1k\"\n",
    "    \"training_year\": \"2014\", # \"2014\", \"2012_14\", \"2010_14\"\n",
    "    \"scale\": \"scale\", # \"scale\", \"do-not-scale\",\n",
    "    #\"stratify_split\": \"target\", # \"none\", \"target\", \"protected-attribute\", \"both\",\n",
    "    \"model\": \"elasticnet\", # \"logreg\", \"penalized_logreg\", \"rf\", \"gbm\", \"elasticnet\"\n",
    "    \"cutoff\": [\"quantile_0.15\", \"quantile_0.30\"],\n",
    "    \"exclude_features\": \"age\", # \"none\", \"nationality\", \"sex\", \"nationality-sex\", \"age\"\n",
    "    \"exclude_subgroups\": \"keep-all\", # \"keep-all\", \"drop-non-german\"\n",
    "    \"eval_fairness_grouping\": [\"majority-minority\", \"nationality-all\"]\n",
    "}\n",
    "\n",
    "output_dir=\"./output\"\n",
    "seed=0"
   ]
  },
  {
   "cell_type": "code",
   "execution_count": 4,
   "id": "eb2e63ca",
   "metadata": {
    "execution": {
     "iopub.execute_input": "2025-07-30T21:35:25.957229Z",
     "iopub.status.busy": "2025-07-30T21:35:25.956735Z",
     "iopub.status.idle": "2025-07-30T21:35:25.961334Z",
     "shell.execute_reply": "2025-07-30T21:35:25.960495Z"
    },
    "papermill": {
     "duration": 0.017652,
     "end_time": "2025-07-30T21:35:25.962847",
     "exception": false,
     "start_time": "2025-07-30T21:35:25.945195",
     "status": "completed"
    },
    "tags": [
     "injected-parameters"
    ]
   },
   "outputs": [],
   "source": [
    "# Parameters\n",
    "universe_id = \"fa527a236c54906e68e528ad7c990aff\"\n",
    "run_no = \"14\"\n",
    "universe = \"{\\\"cutoff\\\": [\\\"quantile_0.1\\\", \\\"quantile_0.25\\\"], \\\"eval_fairness_grouping\\\": [\\\"majority-minority\\\", \\\"nationality-all\\\"], \\\"exclude_features\\\": \\\"nationality-sex\\\", \\\"exclude_subgroups\\\": \\\"drop-non-german\\\", \\\"model\\\": \\\"rf\\\", \\\"scale\\\": \\\"scale\\\", \\\"training_size\\\": \\\"1k\\\", \\\"training_year\\\": \\\"2012_14\\\"}\"\n",
    "output_dir = \"output\"\n",
    "seed = \"2023\"\n"
   ]
  },
  {
   "cell_type": "code",
   "execution_count": 5,
   "id": "1650acaf",
   "metadata": {
    "execution": {
     "iopub.execute_input": "2025-07-30T21:35:25.985699Z",
     "iopub.status.busy": "2025-07-30T21:35:25.985209Z",
     "iopub.status.idle": "2025-07-30T21:35:25.989311Z",
     "shell.execute_reply": "2025-07-30T21:35:25.988580Z"
    },
    "papermill": {
     "duration": 0.016556,
     "end_time": "2025-07-30T21:35:25.990582",
     "exception": false,
     "start_time": "2025-07-30T21:35:25.974026",
     "status": "completed"
    },
    "tags": []
   },
   "outputs": [],
   "source": [
    "import json\n",
    "# Parse universe into dict if it is passed as a string\n",
    "if isinstance(universe, str):\n",
    "    universe = json.loads(universe)"
   ]
  },
  {
   "cell_type": "code",
   "execution_count": 6,
   "id": "16620c48",
   "metadata": {
    "execution": {
     "iopub.execute_input": "2025-07-30T21:35:26.013784Z",
     "iopub.status.busy": "2025-07-30T21:35:26.013296Z",
     "iopub.status.idle": "2025-07-30T21:35:26.041974Z",
     "shell.execute_reply": "2025-07-30T21:35:26.041256Z"
    },
    "papermill": {
     "duration": 0.041732,
     "end_time": "2025-07-30T21:35:26.043399",
     "exception": false,
     "start_time": "2025-07-30T21:35:26.001667",
     "status": "completed"
    },
    "tags": []
   },
   "outputs": [],
   "source": [
    "# Auto-reload the custom package\n",
    "%load_ext autoreload\n",
    "%autoreload 1\n",
    "%aimport fairness_multiverse"
   ]
  },
  {
   "cell_type": "code",
   "execution_count": 7,
   "id": "01c5c9f3",
   "metadata": {
    "execution": {
     "iopub.execute_input": "2025-07-30T21:35:26.070708Z",
     "iopub.status.busy": "2025-07-30T21:35:26.069413Z",
     "iopub.status.idle": "2025-07-30T21:35:27.718996Z",
     "shell.execute_reply": "2025-07-30T21:35:27.717779Z"
    },
    "papermill": {
     "duration": 1.666898,
     "end_time": "2025-07-30T21:35:27.720981",
     "exception": false,
     "start_time": "2025-07-30T21:35:26.054083",
     "status": "completed"
    },
    "tags": []
   },
   "outputs": [],
   "source": [
    "from fairness_multiverse.universe import UniverseAnalysis\n",
    "\n",
    "universe_analysis = UniverseAnalysis(\n",
    "    run_no = run_no,\n",
    "    universe_id = universe_id,\n",
    "    universe = universe,\n",
    "    output_dir=output_dir,\n",
    ")"
   ]
  },
  {
   "cell_type": "code",
   "execution_count": 8,
   "id": "106241f5",
   "metadata": {
    "execution": {
     "iopub.execute_input": "2025-07-30T21:35:27.758380Z",
     "iopub.status.busy": "2025-07-30T21:35:27.757872Z",
     "iopub.status.idle": "2025-07-30T21:35:27.764612Z",
     "shell.execute_reply": "2025-07-30T21:35:27.763731Z"
    },
    "papermill": {
     "duration": 0.028685,
     "end_time": "2025-07-30T21:35:27.766662",
     "exception": false,
     "start_time": "2025-07-30T21:35:27.737977",
     "status": "completed"
    },
    "tags": []
   },
   "outputs": [
    {
     "name": "stdout",
     "output_type": "stream",
     "text": [
      "Using Seed: 2023\n"
     ]
    }
   ],
   "source": [
    "import numpy as np\n",
    "parsed_seed = int(seed)\n",
    "np.random.seed(parsed_seed)\n",
    "print(f\"Using Seed: {parsed_seed}\")"
   ]
  },
  {
   "cell_type": "markdown",
   "id": "e0ebdc57",
   "metadata": {
    "papermill": {
     "duration": 0.018857,
     "end_time": "2025-07-30T21:35:27.806197",
     "exception": false,
     "start_time": "2025-07-30T21:35:27.787340",
     "status": "completed"
    },
    "tags": []
   },
   "source": [
    "# Loading Data"
   ]
  },
  {
   "cell_type": "markdown",
   "id": "681925a3",
   "metadata": {
    "papermill": {
     "duration": 0.01836,
     "end_time": "2025-07-30T21:35:27.842227",
     "exception": false,
     "start_time": "2025-07-30T21:35:27.823867",
     "status": "completed"
    },
    "tags": []
   },
   "source": [
    "Load siab_train, siab_test, siab_calib and/or \n",
    "load siab_train_features, siab_train_labels"
   ]
  },
  {
   "cell_type": "code",
   "execution_count": 9,
   "id": "f0496b8a",
   "metadata": {
    "execution": {
     "iopub.execute_input": "2025-07-30T21:35:27.884781Z",
     "iopub.status.busy": "2025-07-30T21:35:27.884348Z",
     "iopub.status.idle": "2025-07-30T21:35:41.059665Z",
     "shell.execute_reply": "2025-07-30T21:35:41.058467Z"
    },
    "papermill": {
     "duration": 13.20035,
     "end_time": "2025-07-30T21:35:41.061382",
     "exception": false,
     "start_time": "2025-07-30T21:35:27.861032",
     "status": "completed"
    },
    "tags": []
   },
   "outputs": [
    {
     "name": "stdout",
     "output_type": "stream",
     "text": [
      "Loading SIAB data from cache: data/siab_cached.csv.gz\n"
     ]
    },
    {
     "name": "stdout",
     "output_type": "stream",
     "text": [
      "(643690, 164)\n"
     ]
    }
   ],
   "source": [
    "from pathlib import Path\n",
    "import pandas as pd\n",
    "\n",
    "# File paths\n",
    "raw_file = Path(\"data/raw/siab.csv\")\n",
    "cache_file = Path(\"data/siab_cached.csv.gz\")\n",
    "\n",
    "# Ensure cache directory exists\n",
    "cache_file.parent.mkdir(parents=True, exist_ok=True)\n",
    "\n",
    "# Load with simple caching\n",
    "if cache_file.exists():\n",
    "    print(f\"Loading SIAB data from cache: {cache_file}\")\n",
    "    siab = pd.read_csv(cache_file, compression='gzip')\n",
    "else:\n",
    "    print(f\"Cache not found. Reading raw SIAB data: {raw_file}\")\n",
    "    siab = pd.read_csv(raw_file)\n",
    "    siab.to_csv(cache_file, index=False, compression='gzip')\n",
    "    print(f\"Cached SIAB data to: {cache_file}\")\n",
    "\n",
    "# Now use `siab` DataFrame as needed\n",
    "print(siab.shape)"
   ]
  },
  {
   "cell_type": "code",
   "execution_count": 10,
   "id": "db0ca512-5f53-4dba-abdb-a2888bca41ba",
   "metadata": {
    "execution": {
     "iopub.execute_input": "2025-07-30T21:35:41.109363Z",
     "iopub.status.busy": "2025-07-30T21:35:41.108908Z",
     "iopub.status.idle": "2025-07-30T21:35:41.114318Z",
     "shell.execute_reply": "2025-07-30T21:35:41.113388Z"
    },
    "papermill": {
     "duration": 0.030046,
     "end_time": "2025-07-30T21:35:41.116195",
     "exception": false,
     "start_time": "2025-07-30T21:35:41.086149",
     "status": "completed"
    },
    "tags": []
   },
   "outputs": [],
   "source": [
    "#siab"
   ]
  },
  {
   "cell_type": "code",
   "execution_count": 11,
   "id": "a0edb063",
   "metadata": {
    "execution": {
     "iopub.execute_input": "2025-07-30T21:35:41.161086Z",
     "iopub.status.busy": "2025-07-30T21:35:41.160476Z",
     "iopub.status.idle": "2025-07-30T21:35:41.165424Z",
     "shell.execute_reply": "2025-07-30T21:35:41.164418Z"
    },
    "papermill": {
     "duration": 0.029659,
     "end_time": "2025-07-30T21:35:41.167681",
     "exception": false,
     "start_time": "2025-07-30T21:35:41.138022",
     "status": "completed"
    },
    "tags": []
   },
   "outputs": [],
   "source": [
    "#import pandas as pd\n",
    "#\n",
    "#X_train = pd.read_csv(\"./data/X_train.csv\")\n",
    "#y_train = pd.read_csv(\"./data/y_train.csv\")"
   ]
  },
  {
   "cell_type": "code",
   "execution_count": 12,
   "id": "63d08085",
   "metadata": {
    "execution": {
     "iopub.execute_input": "2025-07-30T21:35:41.213240Z",
     "iopub.status.busy": "2025-07-30T21:35:41.212587Z",
     "iopub.status.idle": "2025-07-30T21:35:41.217621Z",
     "shell.execute_reply": "2025-07-30T21:35:41.216211Z"
    },
    "papermill": {
     "duration": 0.029138,
     "end_time": "2025-07-30T21:35:41.219293",
     "exception": false,
     "start_time": "2025-07-30T21:35:41.190155",
     "status": "completed"
    },
    "tags": []
   },
   "outputs": [],
   "source": [
    "#X_test = pd.read_csv(\"./data/X_test.csv\")\n",
    "#y_true = pd.read_csv(\"./data/y_test.csv\")"
   ]
  },
  {
   "cell_type": "code",
   "execution_count": 13,
   "id": "98a8d0fa-1d3d-4ed8-bb2c-281470e24add",
   "metadata": {
    "execution": {
     "iopub.execute_input": "2025-07-30T21:35:41.265388Z",
     "iopub.status.busy": "2025-07-30T21:35:41.265004Z",
     "iopub.status.idle": "2025-07-30T21:35:41.269400Z",
     "shell.execute_reply": "2025-07-30T21:35:41.268501Z"
    },
    "papermill": {
     "duration": 0.02898,
     "end_time": "2025-07-30T21:35:41.271158",
     "exception": false,
     "start_time": "2025-07-30T21:35:41.242178",
     "status": "completed"
    },
    "tags": []
   },
   "outputs": [],
   "source": [
    "# Calibration data for conformal\n",
    "#X_calib = pd.read_csv(\"./data/X_calib.csv\")\n",
    "#y_calib = pd.read_csv(\"./data/y_calib.csv\")"
   ]
  },
  {
   "cell_type": "markdown",
   "id": "997051c5-15bd-4b69-9786-c3001a3ce484",
   "metadata": {
    "papermill": {
     "duration": 0.02248,
     "end_time": "2025-07-30T21:35:41.316498",
     "exception": false,
     "start_time": "2025-07-30T21:35:41.294018",
     "status": "completed"
    },
    "tags": []
   },
   "source": [
    "# Splitting Data and Setting Training Data Size"
   ]
  },
  {
   "cell_type": "code",
   "execution_count": 14,
   "id": "e993b61f-042d-41a6-8c81-f55681f86335",
   "metadata": {
    "execution": {
     "iopub.execute_input": "2025-07-30T21:35:41.362107Z",
     "iopub.status.busy": "2025-07-30T21:35:41.361632Z",
     "iopub.status.idle": "2025-07-30T21:35:41.379152Z",
     "shell.execute_reply": "2025-07-30T21:35:41.378289Z"
    },
    "papermill": {
     "duration": 0.04244,
     "end_time": "2025-07-30T21:35:41.380884",
     "exception": false,
     "start_time": "2025-07-30T21:35:41.338444",
     "status": "completed"
    },
    "tags": []
   },
   "outputs": [],
   "source": [
    "def sample_by_year_size(df,\n",
    "                        training_year: str,\n",
    "                        training_size: str,\n",
    "                        random_state: int = 42):\n",
    "    # --- parse training_year into a list of int years ---\n",
    "    if \"_\" in training_year:\n",
    "        start_str, end_str = training_year.split(\"_\", 1)\n",
    "        start = int(start_str)\n",
    "        end   = int(end_str) if len(end_str) == 4 else (int(end_str) + (start // 100)*100)\n",
    "        years = list(range(start, end + 1))\n",
    "    else:\n",
    "        years = [int(training_year)]\n",
    "\n",
    "    df = df[df[\"year\"].isin(years)].reset_index(drop=True)\n",
    "\n",
    "    # --- map training_size to total number of samples ---\n",
    "    total_map = {\"25k\": 25_000, \"5k\": 5_000, \"1k\": 1_000}\n",
    "    if training_size not in total_map:\n",
    "        return df  # e.g. \"all\"\n",
    "\n",
    "    total_samples = total_map[training_size]\n",
    "    n_years       = len(years)\n",
    "    base          = total_samples // n_years\n",
    "    remainder     = total_samples % n_years\n",
    "\n",
    "    # --- build a dict: year -> how many to sample ---\n",
    "    # give +1 to the first `remainder` years in ascending order\n",
    "    quotas = {\n",
    "        year: base + (1 if idx < remainder else 0)\n",
    "        for idx, year in enumerate(sorted(years))\n",
    "    }\n",
    "\n",
    "    # --- sample per‐year according to the quota dict ---\n",
    "    sampled = (\n",
    "        df\n",
    "        .groupby(\"year\", group_keys=False)\n",
    "        .apply(lambda grp: grp.sample(\n",
    "            n=min(len(grp), quotas[grp.name]),\n",
    "            random_state=random_state))\n",
    "        .reset_index(drop=True)\n",
    "    )\n",
    "\n",
    "    return sampled"
   ]
  },
  {
   "cell_type": "code",
   "execution_count": 15,
   "id": "c0ccd338-0e02-41f3-a09d-f56f9266e3fb",
   "metadata": {
    "execution": {
     "iopub.execute_input": "2025-07-30T21:35:41.423255Z",
     "iopub.status.busy": "2025-07-30T21:35:41.422537Z",
     "iopub.status.idle": "2025-07-30T21:35:41.427480Z",
     "shell.execute_reply": "2025-07-30T21:35:41.426472Z"
    },
    "papermill": {
     "duration": 0.024722,
     "end_time": "2025-07-30T21:35:41.429336",
     "exception": false,
     "start_time": "2025-07-30T21:35:41.404614",
     "status": "completed"
    },
    "tags": []
   },
   "outputs": [],
   "source": [
    "#universe[\"training_size\"]"
   ]
  },
  {
   "cell_type": "code",
   "execution_count": 16,
   "id": "ca707fd7-8047-4acd-bfa5-66248fbbf8e6",
   "metadata": {
    "execution": {
     "iopub.execute_input": "2025-07-30T21:35:41.475798Z",
     "iopub.status.busy": "2025-07-30T21:35:41.475134Z",
     "iopub.status.idle": "2025-07-30T21:35:41.479902Z",
     "shell.execute_reply": "2025-07-30T21:35:41.478936Z"
    },
    "papermill": {
     "duration": 0.029147,
     "end_time": "2025-07-30T21:35:41.481592",
     "exception": false,
     "start_time": "2025-07-30T21:35:41.452445",
     "status": "completed"
    },
    "tags": []
   },
   "outputs": [],
   "source": [
    "#universe[\"training_year\"]"
   ]
  },
  {
   "cell_type": "code",
   "execution_count": 17,
   "id": "aea9c6ef-6f46-42c8-85eb-5a62025c1508",
   "metadata": {
    "execution": {
     "iopub.execute_input": "2025-07-30T21:35:41.505485Z",
     "iopub.status.busy": "2025-07-30T21:35:41.505203Z",
     "iopub.status.idle": "2025-07-30T21:35:42.086035Z",
     "shell.execute_reply": "2025-07-30T21:35:42.084998Z"
    },
    "papermill": {
     "duration": 0.594666,
     "end_time": "2025-07-30T21:35:42.087859",
     "exception": false,
     "start_time": "2025-07-30T21:35:41.493193",
     "status": "completed"
    },
    "tags": []
   },
   "outputs": [],
   "source": [
    "siab_train = sample_by_year_size(siab,\n",
    "                               training_year=universe[\"training_year\"],\n",
    "                               training_size=universe[\"training_size\"])"
   ]
  },
  {
   "cell_type": "code",
   "execution_count": 18,
   "id": "8d3afb32-789d-442c-8d5d-9f5aa8dd2eed",
   "metadata": {
    "execution": {
     "iopub.execute_input": "2025-07-30T21:35:42.140777Z",
     "iopub.status.busy": "2025-07-30T21:35:42.140248Z",
     "iopub.status.idle": "2025-07-30T21:35:42.145866Z",
     "shell.execute_reply": "2025-07-30T21:35:42.144812Z"
    },
    "papermill": {
     "duration": 0.036977,
     "end_time": "2025-07-30T21:35:42.147771",
     "exception": false,
     "start_time": "2025-07-30T21:35:42.110794",
     "status": "completed"
    },
    "tags": []
   },
   "outputs": [],
   "source": [
    "#siab_train.shape"
   ]
  },
  {
   "cell_type": "code",
   "execution_count": 19,
   "id": "d582db68-1a4c-47fb-84fc-08518dc1975a",
   "metadata": {
    "execution": {
     "iopub.execute_input": "2025-07-30T21:35:42.194003Z",
     "iopub.status.busy": "2025-07-30T21:35:42.193340Z",
     "iopub.status.idle": "2025-07-30T21:35:42.198836Z",
     "shell.execute_reply": "2025-07-30T21:35:42.197686Z"
    },
    "papermill": {
     "duration": 0.030413,
     "end_time": "2025-07-30T21:35:42.200811",
     "exception": false,
     "start_time": "2025-07-30T21:35:42.170398",
     "status": "completed"
    },
    "tags": []
   },
   "outputs": [],
   "source": [
    "#display(siab_train.groupby(\"year\").size())"
   ]
  },
  {
   "cell_type": "code",
   "execution_count": 20,
   "id": "a561edb4-d032-42cb-8256-22eac1111c64",
   "metadata": {
    "execution": {
     "iopub.execute_input": "2025-07-30T21:35:42.245637Z",
     "iopub.status.busy": "2025-07-30T21:35:42.245232Z",
     "iopub.status.idle": "2025-07-30T21:35:42.471380Z",
     "shell.execute_reply": "2025-07-30T21:35:42.470605Z"
    },
    "papermill": {
     "duration": 0.250028,
     "end_time": "2025-07-30T21:35:42.472900",
     "exception": false,
     "start_time": "2025-07-30T21:35:42.222872",
     "status": "completed"
    },
    "tags": []
   },
   "outputs": [],
   "source": [
    "#siab_train = siab_s[siab_s.year < 2015]\n",
    "siab_calib = siab[siab.year == 2015]\n",
    "siab_test = siab[siab.year == 2016]"
   ]
  },
  {
   "cell_type": "code",
   "execution_count": 21,
   "id": "472de16f-c3db-4916-846b-1f0de9cf1746",
   "metadata": {
    "execution": {
     "iopub.execute_input": "2025-07-30T21:35:42.496518Z",
     "iopub.status.busy": "2025-07-30T21:35:42.495722Z",
     "iopub.status.idle": "2025-07-30T21:35:42.502090Z",
     "shell.execute_reply": "2025-07-30T21:35:42.501151Z"
    },
    "papermill": {
     "duration": 0.019258,
     "end_time": "2025-07-30T21:35:42.503384",
     "exception": false,
     "start_time": "2025-07-30T21:35:42.484126",
     "status": "completed"
    },
    "tags": []
   },
   "outputs": [],
   "source": [
    "X_train = siab_train.iloc[:,4:164]\n",
    "y_train = siab_train.iloc[:, [3]]"
   ]
  },
  {
   "cell_type": "code",
   "execution_count": 22,
   "id": "828c96af-f43a-4ed6-ba47-8ac73a47d56c",
   "metadata": {
    "execution": {
     "iopub.execute_input": "2025-07-30T21:35:42.527126Z",
     "iopub.status.busy": "2025-07-30T21:35:42.526515Z",
     "iopub.status.idle": "2025-07-30T21:35:42.573023Z",
     "shell.execute_reply": "2025-07-30T21:35:42.572118Z"
    },
    "papermill": {
     "duration": 0.059384,
     "end_time": "2025-07-30T21:35:42.574596",
     "exception": false,
     "start_time": "2025-07-30T21:35:42.515212",
     "status": "completed"
    },
    "tags": []
   },
   "outputs": [],
   "source": [
    "X_calib = siab_calib.iloc[:,4:164]\n",
    "y_calib = siab_calib.iloc[:, [3]]"
   ]
  },
  {
   "cell_type": "code",
   "execution_count": 23,
   "id": "c34be9c3-6bd6-476e-acd3-845840e303be",
   "metadata": {
    "execution": {
     "iopub.execute_input": "2025-07-30T21:35:42.599134Z",
     "iopub.status.busy": "2025-07-30T21:35:42.598398Z",
     "iopub.status.idle": "2025-07-30T21:35:42.645768Z",
     "shell.execute_reply": "2025-07-30T21:35:42.644851Z"
    },
    "papermill": {
     "duration": 0.060487,
     "end_time": "2025-07-30T21:35:42.647446",
     "exception": false,
     "start_time": "2025-07-30T21:35:42.586959",
     "status": "completed"
    },
    "tags": []
   },
   "outputs": [],
   "source": [
    "X_test = siab_test.iloc[:,4:164]\n",
    "y_true = siab_test.iloc[:, [3]]"
   ]
  },
  {
   "cell_type": "markdown",
   "id": "9901737e-04df-44f0-9100-f5ad144ed040",
   "metadata": {
    "papermill": {
     "duration": 0.010462,
     "end_time": "2025-07-30T21:35:42.670635",
     "exception": false,
     "start_time": "2025-07-30T21:35:42.660173",
     "status": "completed"
    },
    "tags": []
   },
   "source": [
    "# Splitting Data and Setting Training Data Size OLD VERSION"
   ]
  },
  {
   "cell_type": "code",
   "execution_count": 24,
   "id": "acbc8f7d-8fc8-4e86-8c59-5dcb0f58384b",
   "metadata": {
    "execution": {
     "iopub.execute_input": "2025-07-30T21:35:42.693390Z",
     "iopub.status.busy": "2025-07-30T21:35:42.692680Z",
     "iopub.status.idle": "2025-07-30T21:35:42.697513Z",
     "shell.execute_reply": "2025-07-30T21:35:42.696742Z"
    },
    "papermill": {
     "duration": 0.017672,
     "end_time": "2025-07-30T21:35:42.698737",
     "exception": false,
     "start_time": "2025-07-30T21:35:42.681065",
     "status": "completed"
    },
    "tags": []
   },
   "outputs": [],
   "source": [
    "#def sample_by_year(df, training_size, random_state=42):\n",
    "#    if training_size == \"2014\":\n",
    "#        return df[df[\"year\"] == 2014].reset_index(drop=True)\n",
    "#    \n",
    "#    size_map = {\n",
    "#        \"25k\": 5000,\n",
    "#        \"5k\": 1000,\n",
    "#        \"1k\": 200\n",
    "#    }\n",
    "#\n",
    "#    if training_size not in size_map:\n",
    "#        return df.reset_index(drop=True)  # use all data\n",
    "#\n",
    "#    n_per_year = size_map[training_size]\n",
    "#    grouped = df.groupby(\"year\")\n",
    "#    sampled = grouped.apply(lambda x: x.sample(n=min(n_per_year, len(x)), random_state=random_state))\n",
    "#    return sampled.reset_index(drop=True)"
   ]
  },
  {
   "cell_type": "code",
   "execution_count": 25,
   "id": "6d931f52-beaf-43ff-9e78-9d44a448d54e",
   "metadata": {
    "execution": {
     "iopub.execute_input": "2025-07-30T21:35:42.725891Z",
     "iopub.status.busy": "2025-07-30T21:35:42.725381Z",
     "iopub.status.idle": "2025-07-30T21:35:42.729830Z",
     "shell.execute_reply": "2025-07-30T21:35:42.729064Z"
    },
    "papermill": {
     "duration": 0.017483,
     "end_time": "2025-07-30T21:35:42.731184",
     "exception": false,
     "start_time": "2025-07-30T21:35:42.713701",
     "status": "completed"
    },
    "tags": []
   },
   "outputs": [],
   "source": [
    "#siab_s = sample_by_year(siab, universe[\"training_size\"])"
   ]
  },
  {
   "cell_type": "code",
   "execution_count": 26,
   "id": "5db0a40e-a4e2-4920-be85-b12ae061d70d",
   "metadata": {
    "execution": {
     "iopub.execute_input": "2025-07-30T21:35:42.755183Z",
     "iopub.status.busy": "2025-07-30T21:35:42.754718Z",
     "iopub.status.idle": "2025-07-30T21:35:42.758828Z",
     "shell.execute_reply": "2025-07-30T21:35:42.758085Z"
    },
    "papermill": {
     "duration": 0.016743,
     "end_time": "2025-07-30T21:35:42.760108",
     "exception": false,
     "start_time": "2025-07-30T21:35:42.743365",
     "status": "completed"
    },
    "tags": []
   },
   "outputs": [],
   "source": [
    "#display(siab_s.groupby(\"year\").size())"
   ]
  },
  {
   "cell_type": "code",
   "execution_count": 27,
   "id": "e6c733c5",
   "metadata": {
    "execution": {
     "iopub.execute_input": "2025-07-30T21:35:42.784162Z",
     "iopub.status.busy": "2025-07-30T21:35:42.783374Z",
     "iopub.status.idle": "2025-07-30T21:35:42.870436Z",
     "shell.execute_reply": "2025-07-30T21:35:42.869701Z"
    },
    "papermill": {
     "duration": 0.099972,
     "end_time": "2025-07-30T21:35:42.871890",
     "exception": false,
     "start_time": "2025-07-30T21:35:42.771918",
     "status": "completed"
    },
    "tags": []
   },
   "outputs": [],
   "source": [
    "# Auxiliary data needed downstream in the pipeline\n",
    "\n",
    "org_train = X_train.copy()\n",
    "org_test = X_test.copy()\n",
    "org_calib = X_calib.copy()"
   ]
  },
  {
   "cell_type": "code",
   "execution_count": 28,
   "id": "1466abac-c6da-4492-a62f-4240ae3783af",
   "metadata": {
    "execution": {
     "iopub.execute_input": "2025-07-30T21:35:42.897950Z",
     "iopub.status.busy": "2025-07-30T21:35:42.897644Z",
     "iopub.status.idle": "2025-07-30T21:35:42.901905Z",
     "shell.execute_reply": "2025-07-30T21:35:42.901243Z"
    },
    "papermill": {
     "duration": 0.017893,
     "end_time": "2025-07-30T21:35:42.903070",
     "exception": false,
     "start_time": "2025-07-30T21:35:42.885177",
     "status": "completed"
    },
    "tags": []
   },
   "outputs": [],
   "source": [
    "# put in other script?\n",
    "# Group sizes\n",
    "\n",
    "#def calculate_percentages(df, df_name):\n",
    "#    total_entries = len(df)\n",
    "#\n",
    "#    female_pct = (df['frau1'] == 1).mean() * 100\n",
    "#    non_german_pct = ((df['maxdeutsch1'] == 0) & (df['maxdeutsch.Missing.'] == 0)).mean() * 100\n",
    "#    non_german_male_pct = ((df['frau1'] == 0) & (df['maxdeutsch1'] == 0) & (df['maxdeutsch.Missing.'] == 0)).mean() * 100\n",
    "#    non_german_female_pct = ((df['frau1'] == 1) & (df['maxdeutsch1'] == 0) & (df['maxdeutsch.Missing.'] == 0)).mean() * 100\n",
    "#\n",
    "#    print(f\"--- {df_name} ---\")\n",
    "#    print(f\"Female: {female_pct:.2f}%\")\n",
    "#    print(f\"Non-German: {non_german_pct:.2f}%\")\n",
    "#    print(f\"Non-German Male: {non_german_male_pct:.2f}%\")\n",
    "#    print(f\"Non-German Female: {non_german_female_pct:.2f}%\\n\")\n",
    "#\n",
    "## Calculate for each DataFrame\n",
    "#calculate_percentages(siab_calib, \"siab_calib\")\n",
    "#calculate_percentages(siab_test, \"siab_test\")\n",
    "#calculate_percentages(siab_train, \"siab_train\")"
   ]
  },
  {
   "cell_type": "markdown",
   "id": "0a4a1b33",
   "metadata": {
    "papermill": {
     "duration": 0.010834,
     "end_time": "2025-07-30T21:35:42.924646",
     "exception": false,
     "start_time": "2025-07-30T21:35:42.913812",
     "status": "completed"
    },
    "tags": []
   },
   "source": [
    "# Preprocessing Data"
   ]
  },
  {
   "cell_type": "code",
   "execution_count": 29,
   "id": "ca879031",
   "metadata": {
    "execution": {
     "iopub.execute_input": "2025-07-30T21:35:42.952500Z",
     "iopub.status.busy": "2025-07-30T21:35:42.951856Z",
     "iopub.status.idle": "2025-07-30T21:35:42.958756Z",
     "shell.execute_reply": "2025-07-30T21:35:42.957728Z"
    },
    "papermill": {
     "duration": 0.024475,
     "end_time": "2025-07-30T21:35:42.960494",
     "exception": false,
     "start_time": "2025-07-30T21:35:42.936019",
     "status": "completed"
    },
    "tags": []
   },
   "outputs": [],
   "source": [
    "# EXCLUDE PROTECTED FEATURES\n",
    "# ----------------------\n",
    "# \"exclude_features\": \"none\", # \"nationality\", \"sex\", \"nationality-sex\"\n",
    "\n",
    "excluded_features = universe[\"exclude_features\"].split(\"-\") # split, e.g.: \"nationality-sex\" -> [\"nationality\", \"sex\"]\n",
    "excluded_features_dictionary = {\n",
    "    \"nationality\": [\"maxdeutsch1\", \"maxdeutsch.Missing.\"],\n",
    "    \"sex\": [\"frau1\"],\n",
    "    \"age\": [\"age\"],\n",
    "}\n"
   ]
  },
  {
   "cell_type": "code",
   "execution_count": 30,
   "id": "b745ac60",
   "metadata": {
    "execution": {
     "iopub.execute_input": "2025-07-30T21:35:43.006107Z",
     "iopub.status.busy": "2025-07-30T21:35:43.005377Z",
     "iopub.status.idle": "2025-07-30T21:35:43.012442Z",
     "shell.execute_reply": "2025-07-30T21:35:43.011615Z"
    },
    "papermill": {
     "duration": 0.030268,
     "end_time": "2025-07-30T21:35:43.013769",
     "exception": false,
     "start_time": "2025-07-30T21:35:42.983501",
     "status": "completed"
    },
    "tags": []
   },
   "outputs": [],
   "source": [
    "# Code nice names to column names\n",
    "\n",
    "excluded_features_columns = [\n",
    "    excluded_features_dictionary[f] for f in excluded_features if len(f) > 0 and f != \"none\"\n",
    "]"
   ]
  },
  {
   "cell_type": "code",
   "execution_count": 31,
   "id": "f84f73a2",
   "metadata": {
    "execution": {
     "iopub.execute_input": "2025-07-30T21:35:43.070867Z",
     "iopub.status.busy": "2025-07-30T21:35:43.070373Z",
     "iopub.status.idle": "2025-07-30T21:35:43.076483Z",
     "shell.execute_reply": "2025-07-30T21:35:43.075447Z"
    },
    "papermill": {
     "duration": 0.037765,
     "end_time": "2025-07-30T21:35:43.078332",
     "exception": false,
     "start_time": "2025-07-30T21:35:43.040567",
     "status": "completed"
    },
    "tags": []
   },
   "outputs": [],
   "source": [
    "from utils import flatten_once\n",
    "\n",
    "excluded_features_columns = flatten_once(excluded_features_columns)"
   ]
  },
  {
   "cell_type": "code",
   "execution_count": 32,
   "id": "884dea22",
   "metadata": {
    "execution": {
     "iopub.execute_input": "2025-07-30T21:35:43.123209Z",
     "iopub.status.busy": "2025-07-30T21:35:43.122356Z",
     "iopub.status.idle": "2025-07-30T21:35:43.130326Z",
     "shell.execute_reply": "2025-07-30T21:35:43.129334Z"
    },
    "papermill": {
     "duration": 0.030823,
     "end_time": "2025-07-30T21:35:43.131884",
     "exception": false,
     "start_time": "2025-07-30T21:35:43.101061",
     "status": "completed"
    },
    "tags": []
   },
   "outputs": [
    {
     "name": "stdout",
     "output_type": "stream",
     "text": [
      "Dropping features: ['maxdeutsch1', 'maxdeutsch.Missing.', 'frau1']\n"
     ]
    }
   ],
   "source": [
    "if len(excluded_features_columns) > 0:\n",
    "    print(f\"Dropping features: {excluded_features_columns}\")\n",
    "    X_train.drop(excluded_features_columns, axis=1, inplace=True)"
   ]
  },
  {
   "cell_type": "code",
   "execution_count": 33,
   "id": "95ab8b16",
   "metadata": {
    "execution": {
     "iopub.execute_input": "2025-07-30T21:35:43.175610Z",
     "iopub.status.busy": "2025-07-30T21:35:43.174762Z",
     "iopub.status.idle": "2025-07-30T21:35:43.230041Z",
     "shell.execute_reply": "2025-07-30T21:35:43.229063Z"
    },
    "papermill": {
     "duration": 0.078562,
     "end_time": "2025-07-30T21:35:43.232082",
     "exception": false,
     "start_time": "2025-07-30T21:35:43.153520",
     "status": "completed"
    },
    "tags": []
   },
   "outputs": [
    {
     "name": "stdout",
     "output_type": "stream",
     "text": [
      "Dropping features: ['maxdeutsch1', 'maxdeutsch.Missing.', 'frau1']\n"
     ]
    }
   ],
   "source": [
    "if len(excluded_features_columns) > 0:\n",
    "    print(f\"Dropping features: {excluded_features_columns}\")\n",
    "    X_test.drop(excluded_features_columns, axis=1, inplace=True)"
   ]
  },
  {
   "cell_type": "code",
   "execution_count": 34,
   "id": "1853aaf5-fb9f-46cb-a2b5-8ea4ae2237e4",
   "metadata": {
    "execution": {
     "iopub.execute_input": "2025-07-30T21:35:43.276851Z",
     "iopub.status.busy": "2025-07-30T21:35:43.276403Z",
     "iopub.status.idle": "2025-07-30T21:35:43.325486Z",
     "shell.execute_reply": "2025-07-30T21:35:43.324430Z"
    },
    "papermill": {
     "duration": 0.073504,
     "end_time": "2025-07-30T21:35:43.327452",
     "exception": false,
     "start_time": "2025-07-30T21:35:43.253948",
     "status": "completed"
    },
    "tags": []
   },
   "outputs": [
    {
     "name": "stdout",
     "output_type": "stream",
     "text": [
      "Dropping features: ['maxdeutsch1', 'maxdeutsch.Missing.', 'frau1']\n"
     ]
    }
   ],
   "source": [
    "if len(excluded_features_columns) > 0:\n",
    "    print(f\"Dropping features: {excluded_features_columns}\")\n",
    "    X_calib.drop(excluded_features_columns, axis=1, inplace=True)"
   ]
  },
  {
   "cell_type": "code",
   "execution_count": 35,
   "id": "6727d079-03e5-481e-9d38-292a90b7a0a8",
   "metadata": {
    "execution": {
     "iopub.execute_input": "2025-07-30T21:35:43.373588Z",
     "iopub.status.busy": "2025-07-30T21:35:43.372757Z",
     "iopub.status.idle": "2025-07-30T21:35:43.377871Z",
     "shell.execute_reply": "2025-07-30T21:35:43.376943Z"
    },
    "papermill": {
     "duration": 0.027989,
     "end_time": "2025-07-30T21:35:43.379474",
     "exception": false,
     "start_time": "2025-07-30T21:35:43.351485",
     "status": "completed"
    },
    "tags": []
   },
   "outputs": [],
   "source": [
    "# SPLIT & STRATIFY DATA\n",
    "# ----------------------"
   ]
  },
  {
   "cell_type": "code",
   "execution_count": 36,
   "id": "76c4dc6d",
   "metadata": {
    "execution": {
     "iopub.execute_input": "2025-07-30T21:35:43.424977Z",
     "iopub.status.busy": "2025-07-30T21:35:43.424335Z",
     "iopub.status.idle": "2025-07-30T21:35:43.429731Z",
     "shell.execute_reply": "2025-07-30T21:35:43.428803Z"
    },
    "papermill": {
     "duration": 0.029679,
     "end_time": "2025-07-30T21:35:43.431437",
     "exception": false,
     "start_time": "2025-07-30T21:35:43.401758",
     "status": "completed"
    },
    "tags": []
   },
   "outputs": [],
   "source": [
    "# EXCLUDE CERTAIN SUBGROUPS\n",
    "# ----------------------\n",
    "\n",
    "mode = universe.get(\"exclude_subgroups\", \"keep-all\") \n",
    "# Fetches the exclude_subgroups setting from the universe dict.\n",
    "# Defaults to \"keep-all\" if the key is missing."
   ]
  },
  {
   "cell_type": "code",
   "execution_count": 37,
   "id": "21994072",
   "metadata": {
    "execution": {
     "iopub.execute_input": "2025-07-30T21:35:43.476858Z",
     "iopub.status.busy": "2025-07-30T21:35:43.475948Z",
     "iopub.status.idle": "2025-07-30T21:35:43.483187Z",
     "shell.execute_reply": "2025-07-30T21:35:43.482228Z"
    },
    "papermill": {
     "duration": 0.031169,
     "end_time": "2025-07-30T21:35:43.484775",
     "exception": false,
     "start_time": "2025-07-30T21:35:43.453606",
     "status": "completed"
    },
    "tags": []
   },
   "outputs": [],
   "source": [
    "if mode == \"keep-all\":\n",
    "    keep_mask = pd.Series(True, index=org_train.index)\n",
    "\n",
    "# org_train contains the original feature columns from features_org (in Simson)\n",
    "# features_org contains unprocessed features, for me X_train at beginning ???\n",
    "# For keep-all, creates a boolean Series (keep_mask) of all True, so no rows are removed.\n",
    "\n",
    "elif mode == \"drop-non-german\":\n",
    "    keep_mask = org_train[\"maxdeutsch1\"] == 1 # ??? what about missing values?\n",
    "\n",
    "else:\n",
    "    raise ValueError(f\"Unsupported mode for exclude_subgroups: {mode}\")\n"
   ]
  },
  {
   "cell_type": "code",
   "execution_count": 38,
   "id": "71651440",
   "metadata": {
    "execution": {
     "iopub.execute_input": "2025-07-30T21:35:43.530970Z",
     "iopub.status.busy": "2025-07-30T21:35:43.530046Z",
     "iopub.status.idle": "2025-07-30T21:35:43.538221Z",
     "shell.execute_reply": "2025-07-30T21:35:43.537093Z"
    },
    "papermill": {
     "duration": 0.033749,
     "end_time": "2025-07-30T21:35:43.540158",
     "exception": false,
     "start_time": "2025-07-30T21:35:43.506409",
     "status": "completed"
    },
    "tags": []
   },
   "outputs": [
    {
     "name": "stdout",
     "output_type": "stream",
     "text": [
      "Dropping 147 rows (14.70%) where mode='drop-non-german'\n"
     ]
    }
   ],
   "source": [
    "n_drop = (~keep_mask).sum() # Calculates how many rows are set to be dropped\n",
    "if n_drop > 0:\n",
    "    pct = n_drop / len(keep_mask) * 100\n",
    "    print(f\"Dropping {n_drop} rows ({pct:.2f}%) where mode='{mode}'\")"
   ]
  },
  {
   "cell_type": "code",
   "execution_count": 39,
   "id": "5fb8eee5",
   "metadata": {
    "execution": {
     "iopub.execute_input": "2025-07-30T21:35:43.588779Z",
     "iopub.status.busy": "2025-07-30T21:35:43.587907Z",
     "iopub.status.idle": "2025-07-30T21:35:43.594650Z",
     "shell.execute_reply": "2025-07-30T21:35:43.593760Z"
    },
    "papermill": {
     "duration": 0.033197,
     "end_time": "2025-07-30T21:35:43.596457",
     "exception": false,
     "start_time": "2025-07-30T21:35:43.563260",
     "status": "completed"
    },
    "tags": []
   },
   "outputs": [],
   "source": [
    "X_train = X_train[keep_mask]"
   ]
  },
  {
   "cell_type": "code",
   "execution_count": 40,
   "id": "b202bb3a",
   "metadata": {
    "execution": {
     "iopub.execute_input": "2025-07-30T21:35:43.640775Z",
     "iopub.status.busy": "2025-07-30T21:35:43.640014Z",
     "iopub.status.idle": "2025-07-30T21:35:43.646293Z",
     "shell.execute_reply": "2025-07-30T21:35:43.645263Z"
    },
    "papermill": {
     "duration": 0.029716,
     "end_time": "2025-07-30T21:35:43.648014",
     "exception": false,
     "start_time": "2025-07-30T21:35:43.618298",
     "status": "completed"
    },
    "tags": []
   },
   "outputs": [],
   "source": [
    "y_train = y_train[keep_mask]"
   ]
  },
  {
   "cell_type": "markdown",
   "id": "493e2ac3",
   "metadata": {
    "papermill": {
     "duration": 0.02079,
     "end_time": "2025-07-30T21:35:43.691265",
     "exception": false,
     "start_time": "2025-07-30T21:35:43.670475",
     "status": "completed"
    },
    "tags": []
   },
   "source": [
    "# Model Training"
   ]
  },
  {
   "cell_type": "code",
   "execution_count": 41,
   "id": "679e1268",
   "metadata": {
    "execution": {
     "iopub.execute_input": "2025-07-30T21:35:43.735212Z",
     "iopub.status.busy": "2025-07-30T21:35:43.734551Z",
     "iopub.status.idle": "2025-07-30T21:35:43.838141Z",
     "shell.execute_reply": "2025-07-30T21:35:43.837198Z"
    },
    "papermill": {
     "duration": 0.126947,
     "end_time": "2025-07-30T21:35:43.840070",
     "exception": false,
     "start_time": "2025-07-30T21:35:43.713123",
     "status": "completed"
    },
    "tags": []
   },
   "outputs": [],
   "source": [
    "from sklearn.linear_model import LogisticRegression\n",
    "from sklearn.ensemble import GradientBoostingClassifier, RandomForestClassifier\n",
    "\n",
    "if (universe[\"model\"] == \"logreg\"):\n",
    "    model = LogisticRegression() #penalty=\"none\") #, solver=\"newton-cg\", max_iter=1) # include random_state=19 ?\n",
    "elif (universe[\"model\"] == \"penalized_logreg\"):\n",
    "    model = LogisticRegression(penalty=\"l2\", C=1.0) #, solver=\"newton-cg\", max_iter=1)\n",
    "elif (universe[\"model\"] == \"rf\"):\n",
    "    model = RandomForestClassifier(n_estimators=100, n_jobs=-1)\n",
    "elif (universe[\"model\"] == \"gbm\"):\n",
    "    model = GradientBoostingClassifier()\n",
    "elif (universe[\"model\"] == \"elasticnet\"):\n",
    "    model = LogisticRegression(penalty = 'elasticnet', solver = 'saga', l1_ratio = 0.5, max_iter=5000) # which solver to use?\n",
    "else:\n",
    "    raise \"Unsupported universe.model\""
   ]
  },
  {
   "cell_type": "code",
   "execution_count": 42,
   "id": "0cc8f744",
   "metadata": {
    "execution": {
     "iopub.execute_input": "2025-07-30T21:35:43.888945Z",
     "iopub.status.busy": "2025-07-30T21:35:43.888218Z",
     "iopub.status.idle": "2025-07-30T21:35:43.894867Z",
     "shell.execute_reply": "2025-07-30T21:35:43.893861Z"
    },
    "papermill": {
     "duration": 0.032252,
     "end_time": "2025-07-30T21:35:43.896731",
     "exception": false,
     "start_time": "2025-07-30T21:35:43.864479",
     "status": "completed"
    },
    "tags": []
   },
   "outputs": [],
   "source": [
    "import numpy as np\n",
    "from sklearn.pipeline import Pipeline\n",
    "from sklearn.preprocessing import StandardScaler\n",
    "\n",
    "model = Pipeline([\n",
    "    #(\"continuous_processor\", continuous_processor),\n",
    "    #(\"categorical_preprocessor\", categorical_preprocessor),\n",
    "    (\"scale\", StandardScaler() if universe[\"scale\"] == \"scale\" else None), \n",
    "    (\"model\", model),\n",
    "])"
   ]
  },
  {
   "cell_type": "code",
   "execution_count": 43,
   "id": "9442c04d",
   "metadata": {
    "execution": {
     "iopub.execute_input": "2025-07-30T21:35:43.942496Z",
     "iopub.status.busy": "2025-07-30T21:35:43.941833Z",
     "iopub.status.idle": "2025-07-30T21:35:44.318754Z",
     "shell.execute_reply": "2025-07-30T21:35:44.317896Z"
    },
    "papermill": {
     "duration": 0.401026,
     "end_time": "2025-07-30T21:35:44.320241",
     "exception": false,
     "start_time": "2025-07-30T21:35:43.919215",
     "status": "completed"
    },
    "tags": []
   },
   "outputs": [
    {
     "data": {
      "text/html": [
       "<style>#sk-container-id-1 {color: black;background-color: white;}#sk-container-id-1 pre{padding: 0;}#sk-container-id-1 div.sk-toggleable {background-color: white;}#sk-container-id-1 label.sk-toggleable__label {cursor: pointer;display: block;width: 100%;margin-bottom: 0;padding: 0.3em;box-sizing: border-box;text-align: center;}#sk-container-id-1 label.sk-toggleable__label-arrow:before {content: \"▸\";float: left;margin-right: 0.25em;color: #696969;}#sk-container-id-1 label.sk-toggleable__label-arrow:hover:before {color: black;}#sk-container-id-1 div.sk-estimator:hover label.sk-toggleable__label-arrow:before {color: black;}#sk-container-id-1 div.sk-toggleable__content {max-height: 0;max-width: 0;overflow: hidden;text-align: left;background-color: #f0f8ff;}#sk-container-id-1 div.sk-toggleable__content pre {margin: 0.2em;color: black;border-radius: 0.25em;background-color: #f0f8ff;}#sk-container-id-1 input.sk-toggleable__control:checked~div.sk-toggleable__content {max-height: 200px;max-width: 100%;overflow: auto;}#sk-container-id-1 input.sk-toggleable__control:checked~label.sk-toggleable__label-arrow:before {content: \"▾\";}#sk-container-id-1 div.sk-estimator input.sk-toggleable__control:checked~label.sk-toggleable__label {background-color: #d4ebff;}#sk-container-id-1 div.sk-label input.sk-toggleable__control:checked~label.sk-toggleable__label {background-color: #d4ebff;}#sk-container-id-1 input.sk-hidden--visually {border: 0;clip: rect(1px 1px 1px 1px);clip: rect(1px, 1px, 1px, 1px);height: 1px;margin: -1px;overflow: hidden;padding: 0;position: absolute;width: 1px;}#sk-container-id-1 div.sk-estimator {font-family: monospace;background-color: #f0f8ff;border: 1px dotted black;border-radius: 0.25em;box-sizing: border-box;margin-bottom: 0.5em;}#sk-container-id-1 div.sk-estimator:hover {background-color: #d4ebff;}#sk-container-id-1 div.sk-parallel-item::after {content: \"\";width: 100%;border-bottom: 1px solid gray;flex-grow: 1;}#sk-container-id-1 div.sk-label:hover label.sk-toggleable__label {background-color: #d4ebff;}#sk-container-id-1 div.sk-serial::before {content: \"\";position: absolute;border-left: 1px solid gray;box-sizing: border-box;top: 0;bottom: 0;left: 50%;z-index: 0;}#sk-container-id-1 div.sk-serial {display: flex;flex-direction: column;align-items: center;background-color: white;padding-right: 0.2em;padding-left: 0.2em;position: relative;}#sk-container-id-1 div.sk-item {position: relative;z-index: 1;}#sk-container-id-1 div.sk-parallel {display: flex;align-items: stretch;justify-content: center;background-color: white;position: relative;}#sk-container-id-1 div.sk-item::before, #sk-container-id-1 div.sk-parallel-item::before {content: \"\";position: absolute;border-left: 1px solid gray;box-sizing: border-box;top: 0;bottom: 0;left: 50%;z-index: -1;}#sk-container-id-1 div.sk-parallel-item {display: flex;flex-direction: column;z-index: 1;position: relative;background-color: white;}#sk-container-id-1 div.sk-parallel-item:first-child::after {align-self: flex-end;width: 50%;}#sk-container-id-1 div.sk-parallel-item:last-child::after {align-self: flex-start;width: 50%;}#sk-container-id-1 div.sk-parallel-item:only-child::after {width: 0;}#sk-container-id-1 div.sk-dashed-wrapped {border: 1px dashed gray;margin: 0 0.4em 0.5em 0.4em;box-sizing: border-box;padding-bottom: 0.4em;background-color: white;}#sk-container-id-1 div.sk-label label {font-family: monospace;font-weight: bold;display: inline-block;line-height: 1.2em;}#sk-container-id-1 div.sk-label-container {text-align: center;}#sk-container-id-1 div.sk-container {/* jupyter's `normalize.less` sets `[hidden] { display: none; }` but bootstrap.min.css set `[hidden] { display: none !important; }` so we also need the `!important` here to be able to override the default hidden behavior on the sphinx rendered scikit-learn.org. See: https://github.com/scikit-learn/scikit-learn/issues/21755 */display: inline-block !important;position: relative;}#sk-container-id-1 div.sk-text-repr-fallback {display: none;}</style><div id=\"sk-container-id-1\" class=\"sk-top-container\"><div class=\"sk-text-repr-fallback\"><pre>Pipeline(steps=[(&#x27;scale&#x27;, StandardScaler()),\n",
       "                (&#x27;model&#x27;, RandomForestClassifier(n_jobs=-1))])</pre><b>In a Jupyter environment, please rerun this cell to show the HTML representation or trust the notebook. <br />On GitHub, the HTML representation is unable to render, please try loading this page with nbviewer.org.</b></div><div class=\"sk-container\" hidden><div class=\"sk-item sk-dashed-wrapped\"><div class=\"sk-label-container\"><div class=\"sk-label sk-toggleable\"><input class=\"sk-toggleable__control sk-hidden--visually\" id=\"sk-estimator-id-1\" type=\"checkbox\" ><label for=\"sk-estimator-id-1\" class=\"sk-toggleable__label sk-toggleable__label-arrow\">Pipeline</label><div class=\"sk-toggleable__content\"><pre>Pipeline(steps=[(&#x27;scale&#x27;, StandardScaler()),\n",
       "                (&#x27;model&#x27;, RandomForestClassifier(n_jobs=-1))])</pre></div></div></div><div class=\"sk-serial\"><div class=\"sk-item\"><div class=\"sk-estimator sk-toggleable\"><input class=\"sk-toggleable__control sk-hidden--visually\" id=\"sk-estimator-id-2\" type=\"checkbox\" ><label for=\"sk-estimator-id-2\" class=\"sk-toggleable__label sk-toggleable__label-arrow\">StandardScaler</label><div class=\"sk-toggleable__content\"><pre>StandardScaler()</pre></div></div></div><div class=\"sk-item\"><div class=\"sk-estimator sk-toggleable\"><input class=\"sk-toggleable__control sk-hidden--visually\" id=\"sk-estimator-id-3\" type=\"checkbox\" ><label for=\"sk-estimator-id-3\" class=\"sk-toggleable__label sk-toggleable__label-arrow\">RandomForestClassifier</label><div class=\"sk-toggleable__content\"><pre>RandomForestClassifier(n_jobs=-1)</pre></div></div></div></div></div></div></div>"
      ],
      "text/plain": [
       "Pipeline(steps=[('scale', StandardScaler()),\n",
       "                ('model', RandomForestClassifier(n_jobs=-1))])"
      ]
     },
     "execution_count": 43,
     "metadata": {},
     "output_type": "execute_result"
    }
   ],
   "source": [
    "model.fit(X_train, y_train.values.ravel())"
   ]
  },
  {
   "cell_type": "code",
   "execution_count": 44,
   "id": "af59f8c0",
   "metadata": {
    "execution": {
     "iopub.execute_input": "2025-07-30T21:35:44.364787Z",
     "iopub.status.busy": "2025-07-30T21:35:44.364321Z",
     "iopub.status.idle": "2025-07-30T21:35:44.370040Z",
     "shell.execute_reply": "2025-07-30T21:35:44.369039Z"
    },
    "papermill": {
     "duration": 0.029852,
     "end_time": "2025-07-30T21:35:44.371772",
     "exception": false,
     "start_time": "2025-07-30T21:35:44.341920",
     "status": "completed"
    },
    "tags": []
   },
   "outputs": [],
   "source": [
    "from fairness_multiverse.universe import predict_w_threshold"
   ]
  },
  {
   "cell_type": "code",
   "execution_count": 45,
   "id": "a7cf2e16",
   "metadata": {
    "execution": {
     "iopub.execute_input": "2025-07-30T21:35:44.417000Z",
     "iopub.status.busy": "2025-07-30T21:35:44.416481Z",
     "iopub.status.idle": "2025-07-30T21:35:45.158817Z",
     "shell.execute_reply": "2025-07-30T21:35:45.158105Z"
    },
    "papermill": {
     "duration": 0.76625,
     "end_time": "2025-07-30T21:35:45.160074",
     "exception": false,
     "start_time": "2025-07-30T21:35:44.393824",
     "status": "completed"
    },
    "tags": []
   },
   "outputs": [
    {
     "data": {
      "text/plain": [
       "0.8596811949615427"
      ]
     },
     "execution_count": 45,
     "metadata": {},
     "output_type": "execute_result"
    }
   ],
   "source": [
    "probs_test = model.predict_proba(X_test)\n",
    "\n",
    "'''\n",
    "Below code returns a boolean array (or binary 0/1 array depending on how it’s used) where each element \n",
    "is True if the probability of class 1 is greater than or equal to the threshold, and False otherwise.\n",
    "'''\n",
    "y_pred_default = predict_w_threshold(probs_test, 0.5)\n",
    "\n",
    "from sklearn.metrics import accuracy_score\n",
    "\n",
    "# Naive prediction\n",
    "accuracy_score(y_true = y_true, y_pred = y_pred_default)"
   ]
  },
  {
   "cell_type": "code",
   "execution_count": 46,
   "id": "081964c3",
   "metadata": {
    "execution": {
     "iopub.execute_input": "2025-07-30T21:35:45.185671Z",
     "iopub.status.busy": "2025-07-30T21:35:45.184923Z",
     "iopub.status.idle": "2025-07-30T21:35:45.996356Z",
     "shell.execute_reply": "2025-07-30T21:35:45.995432Z"
    },
    "papermill": {
     "duration": 0.82553,
     "end_time": "2025-07-30T21:35:45.998186",
     "exception": false,
     "start_time": "2025-07-30T21:35:45.172656",
     "status": "completed"
    },
    "tags": []
   },
   "outputs": [
    {
     "data": {
      "text/plain": [
       "array([0, 0, 0, ..., 0, 0, 0])"
      ]
     },
     "execution_count": 46,
     "metadata": {},
     "output_type": "execute_result"
    }
   ],
   "source": [
    "model.predict(X_test)"
   ]
  },
  {
   "cell_type": "markdown",
   "id": "56c9705b",
   "metadata": {
    "papermill": {
     "duration": 0.021635,
     "end_time": "2025-07-30T21:35:46.041576",
     "exception": false,
     "start_time": "2025-07-30T21:35:46.019941",
     "status": "completed"
    },
    "tags": []
   },
   "source": [
    "# Conformal Prediction"
   ]
  },
  {
   "cell_type": "code",
   "execution_count": 47,
   "id": "160ec6ff",
   "metadata": {
    "execution": {
     "iopub.execute_input": "2025-07-30T21:35:46.087551Z",
     "iopub.status.busy": "2025-07-30T21:35:46.086730Z",
     "iopub.status.idle": "2025-07-30T21:35:46.092228Z",
     "shell.execute_reply": "2025-07-30T21:35:46.091083Z"
    },
    "papermill": {
     "duration": 0.030777,
     "end_time": "2025-07-30T21:35:46.093837",
     "exception": false,
     "start_time": "2025-07-30T21:35:46.063060",
     "status": "completed"
    },
    "tags": []
   },
   "outputs": [],
   "source": [
    "# Miscoverage level for conformal prediction (10% allowed error rate => 90% target coverage)\n",
    "alpha = 0.1"
   ]
  },
  {
   "cell_type": "code",
   "execution_count": 48,
   "id": "eadf4555-3dd3-440e-8e35-f82a4ad9f855",
   "metadata": {
    "execution": {
     "iopub.execute_input": "2025-07-30T21:35:46.144858Z",
     "iopub.status.busy": "2025-07-30T21:35:46.144206Z",
     "iopub.status.idle": "2025-07-30T21:35:46.938238Z",
     "shell.execute_reply": "2025-07-30T21:35:46.937499Z"
    },
    "papermill": {
     "duration": 0.820921,
     "end_time": "2025-07-30T21:35:46.939974",
     "exception": false,
     "start_time": "2025-07-30T21:35:46.119053",
     "status": "completed"
    },
    "tags": []
   },
   "outputs": [],
   "source": [
    "probs_calib = model.predict_proba(X_calib)"
   ]
  },
  {
   "cell_type": "code",
   "execution_count": 49,
   "id": "2ed93547-6d5d-4983-9b36-1ecb300da49a",
   "metadata": {
    "execution": {
     "iopub.execute_input": "2025-07-30T21:35:46.992174Z",
     "iopub.status.busy": "2025-07-30T21:35:46.991753Z",
     "iopub.status.idle": "2025-07-30T21:35:46.997005Z",
     "shell.execute_reply": "2025-07-30T21:35:46.996175Z"
    },
    "papermill": {
     "duration": 0.019613,
     "end_time": "2025-07-30T21:35:46.998245",
     "exception": false,
     "start_time": "2025-07-30T21:35:46.978632",
     "status": "completed"
    },
    "tags": []
   },
   "outputs": [],
   "source": [
    "y_calib = y_calib.values.ravel().astype(int)"
   ]
  },
  {
   "cell_type": "code",
   "execution_count": 50,
   "id": "65d1320d-f588-4b38-9072-62af1ae97f7d",
   "metadata": {
    "execution": {
     "iopub.execute_input": "2025-07-30T21:35:47.024661Z",
     "iopub.status.busy": "2025-07-30T21:35:47.024007Z",
     "iopub.status.idle": "2025-07-30T21:35:47.029833Z",
     "shell.execute_reply": "2025-07-30T21:35:47.029020Z"
    },
    "papermill": {
     "duration": 0.019793,
     "end_time": "2025-07-30T21:35:47.031173",
     "exception": false,
     "start_time": "2025-07-30T21:35:47.011380",
     "status": "completed"
    },
    "tags": []
   },
   "outputs": [],
   "source": [
    "from fairness_multiverse.conformal import compute_nc_scores\n",
    "\n",
    "# Compute nonconformity scores on calibration set (1 - probability of true class)\n",
    "nc_scores = compute_nc_scores(probs_calib, y_calib)"
   ]
  },
  {
   "cell_type": "code",
   "execution_count": 51,
   "id": "df3b8ca3-53b7-43d5-9667-7c85da7aeda2",
   "metadata": {
    "execution": {
     "iopub.execute_input": "2025-07-30T21:35:47.057801Z",
     "iopub.status.busy": "2025-07-30T21:35:47.057287Z",
     "iopub.status.idle": "2025-07-30T21:35:47.062838Z",
     "shell.execute_reply": "2025-07-30T21:35:47.062179Z"
    },
    "papermill": {
     "duration": 0.019461,
     "end_time": "2025-07-30T21:35:47.064167",
     "exception": false,
     "start_time": "2025-07-30T21:35:47.044706",
     "status": "completed"
    },
    "tags": []
   },
   "outputs": [],
   "source": [
    "from fairness_multiverse.conformal import find_threshold\n",
    "\n",
    "# Find conformal threshold q_hat for the given alpha (split conformal method)\n",
    "q_hat = find_threshold(nc_scores, alpha)"
   ]
  },
  {
   "cell_type": "code",
   "execution_count": 52,
   "id": "4d29e6c1-0ef6-4aa4-b8fe-4fe79b0d033a",
   "metadata": {
    "execution": {
     "iopub.execute_input": "2025-07-30T21:35:47.090145Z",
     "iopub.status.busy": "2025-07-30T21:35:47.089637Z",
     "iopub.status.idle": "2025-07-30T21:35:47.095668Z",
     "shell.execute_reply": "2025-07-30T21:35:47.094847Z"
    },
    "papermill": {
     "duration": 0.020162,
     "end_time": "2025-07-30T21:35:47.097161",
     "exception": false,
     "start_time": "2025-07-30T21:35:47.076999",
     "status": "completed"
    },
    "tags": []
   },
   "outputs": [
    {
     "data": {
      "text/plain": [
       "0.6699999999999999"
      ]
     },
     "execution_count": 52,
     "metadata": {},
     "output_type": "execute_result"
    }
   ],
   "source": [
    "q_hat"
   ]
  },
  {
   "cell_type": "code",
   "execution_count": 53,
   "id": "92460794-cdac-4be2-ba28-f28c0515a6fb",
   "metadata": {
    "execution": {
     "iopub.execute_input": "2025-07-30T21:35:47.123515Z",
     "iopub.status.busy": "2025-07-30T21:35:47.122864Z",
     "iopub.status.idle": "2025-07-30T21:35:48.522111Z",
     "shell.execute_reply": "2025-07-30T21:35:48.521147Z"
    },
    "papermill": {
     "duration": 1.413669,
     "end_time": "2025-07-30T21:35:48.523898",
     "exception": false,
     "start_time": "2025-07-30T21:35:47.110229",
     "status": "completed"
    },
    "tags": []
   },
   "outputs": [],
   "source": [
    "from fairness_multiverse.conformal import predict_conformal_sets\n",
    "\n",
    "# Generate prediction sets for each test example\n",
    "pred_sets = predict_conformal_sets(model, X_test, q_hat)"
   ]
  },
  {
   "cell_type": "code",
   "execution_count": 54,
   "id": "d90c9a65-e6db-4f5d-80cd-e68fb7e46829",
   "metadata": {
    "execution": {
     "iopub.execute_input": "2025-07-30T21:35:48.576749Z",
     "iopub.status.busy": "2025-07-30T21:35:48.575610Z",
     "iopub.status.idle": "2025-07-30T21:35:48.581961Z",
     "shell.execute_reply": "2025-07-30T21:35:48.580896Z"
    },
    "papermill": {
     "duration": 0.034625,
     "end_time": "2025-07-30T21:35:48.583662",
     "exception": false,
     "start_time": "2025-07-30T21:35:48.549037",
     "status": "completed"
    },
    "tags": []
   },
   "outputs": [],
   "source": [
    "y_true = y_true.squeeze()"
   ]
  },
  {
   "cell_type": "code",
   "execution_count": 55,
   "id": "3a58a54a-1e68-46b9-927a-df01f18aebc8",
   "metadata": {
    "execution": {
     "iopub.execute_input": "2025-07-30T21:35:48.632230Z",
     "iopub.status.busy": "2025-07-30T21:35:48.631546Z",
     "iopub.status.idle": "2025-07-30T21:35:49.465639Z",
     "shell.execute_reply": "2025-07-30T21:35:49.464880Z"
    },
    "papermill": {
     "duration": 0.859817,
     "end_time": "2025-07-30T21:35:49.467274",
     "exception": false,
     "start_time": "2025-07-30T21:35:48.607457",
     "status": "completed"
    },
    "tags": []
   },
   "outputs": [],
   "source": [
    "from fairness_multiverse.conformal import evaluate_sets\n",
    "\n",
    "# Evaluate coverage and average set size on test data\n",
    "metrics = evaluate_sets(pred_sets, y_true)"
   ]
  },
  {
   "cell_type": "markdown",
   "id": "2b569c12-9aaa-4c88-98c9-bbcd0cf3ebb8",
   "metadata": {
    "papermill": {
     "duration": 0.02251,
     "end_time": "2025-07-30T21:35:49.512895",
     "exception": false,
     "start_time": "2025-07-30T21:35:49.490385",
     "status": "completed"
    },
    "tags": []
   },
   "source": [
    "# CP Metrics"
   ]
  },
  {
   "cell_type": "code",
   "execution_count": 56,
   "id": "5ce0a5cb-201f-45a0-ade5-94c7f0bd6095",
   "metadata": {
    "execution": {
     "iopub.execute_input": "2025-07-30T21:35:49.557930Z",
     "iopub.status.busy": "2025-07-30T21:35:49.557575Z",
     "iopub.status.idle": "2025-07-30T21:35:49.579023Z",
     "shell.execute_reply": "2025-07-30T21:35:49.578200Z"
    },
    "papermill": {
     "duration": 0.045431,
     "end_time": "2025-07-30T21:35:49.580556",
     "exception": false,
     "start_time": "2025-07-30T21:35:49.535125",
     "status": "completed"
    },
    "tags": []
   },
   "outputs": [
    {
     "data": {
      "text/plain": [
       "{'coverage': 0.9164084271541634, 'avg_size': 1.1812061085720655}"
      ]
     },
     "execution_count": 56,
     "metadata": {},
     "output_type": "execute_result"
    }
   ],
   "source": [
    "metrics"
   ]
  },
  {
   "cell_type": "code",
   "execution_count": 57,
   "id": "9b9a838d-31c9-430b-ae14-12baee460d17",
   "metadata": {
    "execution": {
     "iopub.execute_input": "2025-07-30T21:35:49.616913Z",
     "iopub.status.busy": "2025-07-30T21:35:49.616318Z",
     "iopub.status.idle": "2025-07-30T21:35:49.621707Z",
     "shell.execute_reply": "2025-07-30T21:35:49.620932Z"
    },
    "papermill": {
     "duration": 0.02018,
     "end_time": "2025-07-30T21:35:49.622944",
     "exception": false,
     "start_time": "2025-07-30T21:35:49.602764",
     "status": "completed"
    },
    "tags": []
   },
   "outputs": [],
   "source": [
    "example_universe = universe.copy()\n",
    "universe_training_year = example_universe.get(\"training_year\")\n",
    "universe_training_size = example_universe.get(\"training_size\")\n",
    "universe_scale = example_universe.get(\"scale\")\n",
    "universe_model = example_universe.get(\"model\")\n",
    "universe_exclude_features = example_universe.get(\"exclude_features\")\n",
    "universe_exclude_subgroups = example_universe.get(\"exclude_subgroups\")"
   ]
  },
  {
   "cell_type": "code",
   "execution_count": 58,
   "id": "f4b6a8ac-9dc0-4245-8a91-5b3b5999c4f9",
   "metadata": {
    "execution": {
     "iopub.execute_input": "2025-07-30T21:35:49.650312Z",
     "iopub.status.busy": "2025-07-30T21:35:49.649894Z",
     "iopub.status.idle": "2025-07-30T21:35:49.654905Z",
     "shell.execute_reply": "2025-07-30T21:35:49.654096Z"
    },
    "papermill": {
     "duration": 0.019327,
     "end_time": "2025-07-30T21:35:49.656096",
     "exception": false,
     "start_time": "2025-07-30T21:35:49.636769",
     "status": "completed"
    },
    "tags": []
   },
   "outputs": [],
   "source": [
    "cp_metrics_dict = {\n",
    "    \"universe_id\": [universe_id],\n",
    "    \"universe_training_year\": [universe_training_year],\n",
    "    \"universe_training_size\": [universe_training_size],\n",
    "    \"universe_scale\": [universe_scale],\n",
    "    \"universe_model\": [universe_model],\n",
    "    \"universe_exclude_features\": [universe_exclude_features],\n",
    "    \"universe_exclude_subgroups\": [universe_exclude_subgroups],\n",
    "    \"q_hat\": [q_hat],\n",
    "    \"coverage\": [metrics[\"coverage\"]],\n",
    "    \"avg_size\": [metrics[\"avg_size\"]],\n",
    "}"
   ]
  },
  {
   "cell_type": "code",
   "execution_count": 59,
   "id": "908acbb1-0371-4915-85ca-3fa520d2efe2",
   "metadata": {
    "execution": {
     "iopub.execute_input": "2025-07-30T21:35:49.687805Z",
     "iopub.status.busy": "2025-07-30T21:35:49.687318Z",
     "iopub.status.idle": "2025-07-30T21:35:49.693429Z",
     "shell.execute_reply": "2025-07-30T21:35:49.692749Z"
    },
    "papermill": {
     "duration": 0.02494,
     "end_time": "2025-07-30T21:35:49.694859",
     "exception": false,
     "start_time": "2025-07-30T21:35:49.669919",
     "status": "completed"
    },
    "tags": []
   },
   "outputs": [
    {
     "data": {
      "text/plain": [
       "{'universe_id': ['fa527a236c54906e68e528ad7c990aff'],\n",
       " 'universe_training_year': ['2012_14'],\n",
       " 'universe_training_size': ['1k'],\n",
       " 'universe_scale': ['scale'],\n",
       " 'universe_model': ['rf'],\n",
       " 'universe_exclude_features': ['nationality-sex'],\n",
       " 'universe_exclude_subgroups': ['drop-non-german'],\n",
       " 'q_hat': [0.6699999999999999],\n",
       " 'coverage': [0.9164084271541634],\n",
       " 'avg_size': [1.1812061085720655]}"
      ]
     },
     "execution_count": 59,
     "metadata": {},
     "output_type": "execute_result"
    }
   ],
   "source": [
    "cp_metrics_dict"
   ]
  },
  {
   "cell_type": "code",
   "execution_count": 60,
   "id": "33007efc-14e9-4ec6-97ac-56a455c82265",
   "metadata": {
    "execution": {
     "iopub.execute_input": "2025-07-30T21:35:49.722968Z",
     "iopub.status.busy": "2025-07-30T21:35:49.722637Z",
     "iopub.status.idle": "2025-07-30T21:35:49.727927Z",
     "shell.execute_reply": "2025-07-30T21:35:49.726898Z"
    },
    "papermill": {
     "duration": 0.020643,
     "end_time": "2025-07-30T21:35:49.729899",
     "exception": false,
     "start_time": "2025-07-30T21:35:49.709256",
     "status": "completed"
    },
    "tags": []
   },
   "outputs": [],
   "source": [
    "cp_metrics_df = pd.DataFrame(cp_metrics_dict)"
   ]
  },
  {
   "cell_type": "code",
   "execution_count": 61,
   "id": "db12611b-57b2-4910-b9d0-355adfd6e7bf",
   "metadata": {
    "execution": {
     "iopub.execute_input": "2025-07-30T21:35:49.760007Z",
     "iopub.status.busy": "2025-07-30T21:35:49.759695Z",
     "iopub.status.idle": "2025-07-30T21:35:49.773569Z",
     "shell.execute_reply": "2025-07-30T21:35:49.772637Z"
    },
    "papermill": {
     "duration": 0.029417,
     "end_time": "2025-07-30T21:35:49.774971",
     "exception": false,
     "start_time": "2025-07-30T21:35:49.745554",
     "status": "completed"
    },
    "tags": []
   },
   "outputs": [
    {
     "data": {
      "text/html": [
       "<div>\n",
       "<style scoped>\n",
       "    .dataframe tbody tr th:only-of-type {\n",
       "        vertical-align: middle;\n",
       "    }\n",
       "\n",
       "    .dataframe tbody tr th {\n",
       "        vertical-align: top;\n",
       "    }\n",
       "\n",
       "    .dataframe thead th {\n",
       "        text-align: right;\n",
       "    }\n",
       "</style>\n",
       "<table border=\"1\" class=\"dataframe\">\n",
       "  <thead>\n",
       "    <tr style=\"text-align: right;\">\n",
       "      <th></th>\n",
       "      <th>universe_id</th>\n",
       "      <th>universe_training_year</th>\n",
       "      <th>universe_training_size</th>\n",
       "      <th>universe_scale</th>\n",
       "      <th>universe_model</th>\n",
       "      <th>universe_exclude_features</th>\n",
       "      <th>universe_exclude_subgroups</th>\n",
       "      <th>q_hat</th>\n",
       "      <th>coverage</th>\n",
       "      <th>avg_size</th>\n",
       "    </tr>\n",
       "  </thead>\n",
       "  <tbody>\n",
       "    <tr>\n",
       "      <th>0</th>\n",
       "      <td>fa527a236c54906e68e528ad7c990aff</td>\n",
       "      <td>2012_14</td>\n",
       "      <td>1k</td>\n",
       "      <td>scale</td>\n",
       "      <td>rf</td>\n",
       "      <td>nationality-sex</td>\n",
       "      <td>drop-non-german</td>\n",
       "      <td>0.67</td>\n",
       "      <td>0.916408</td>\n",
       "      <td>1.181206</td>\n",
       "    </tr>\n",
       "  </tbody>\n",
       "</table>\n",
       "</div>"
      ],
      "text/plain": [
       "                        universe_id universe_training_year  \\\n",
       "0  fa527a236c54906e68e528ad7c990aff                2012_14   \n",
       "\n",
       "  universe_training_size universe_scale universe_model  \\\n",
       "0                     1k          scale             rf   \n",
       "\n",
       "  universe_exclude_features universe_exclude_subgroups  q_hat  coverage  \\\n",
       "0           nationality-sex            drop-non-german   0.67  0.916408   \n",
       "\n",
       "   avg_size  \n",
       "0  1.181206  "
      ]
     },
     "execution_count": 61,
     "metadata": {},
     "output_type": "execute_result"
    }
   ],
   "source": [
    "cp_metrics_df"
   ]
  },
  {
   "cell_type": "code",
   "execution_count": 62,
   "id": "b7fbde55-a0a1-47e4-9af6-fe4a17fa8c61",
   "metadata": {
    "execution": {
     "iopub.execute_input": "2025-07-30T21:35:49.827421Z",
     "iopub.status.busy": "2025-07-30T21:35:49.827023Z",
     "iopub.status.idle": "2025-07-30T21:35:49.832326Z",
     "shell.execute_reply": "2025-07-30T21:35:49.831412Z"
    },
    "papermill": {
     "duration": 0.032492,
     "end_time": "2025-07-30T21:35:49.834252",
     "exception": false,
     "start_time": "2025-07-30T21:35:49.801760",
     "status": "completed"
    },
    "tags": []
   },
   "outputs": [],
   "source": [
    "# Conditional Coverage & looking at subgroups"
   ]
  },
  {
   "cell_type": "code",
   "execution_count": 63,
   "id": "027ae886-68dd-4141-96c7-805a5450e1ef",
   "metadata": {
    "execution": {
     "iopub.execute_input": "2025-07-30T21:35:49.884867Z",
     "iopub.status.busy": "2025-07-30T21:35:49.884476Z",
     "iopub.status.idle": "2025-07-30T21:35:50.124263Z",
     "shell.execute_reply": "2025-07-30T21:35:50.123358Z"
    },
    "papermill": {
     "duration": 0.264604,
     "end_time": "2025-07-30T21:35:50.126264",
     "exception": false,
     "start_time": "2025-07-30T21:35:49.861660",
     "status": "completed"
    },
    "tags": []
   },
   "outputs": [],
   "source": [
    "from fairness_multiverse.conformal import build_cp_groups\n",
    "\n",
    "cp_groups_df = build_cp_groups(pred_sets, y_true, X_test.index, org_test)\n",
    "#needs universe_id and setting"
   ]
  },
  {
   "cell_type": "code",
   "execution_count": 64,
   "id": "01d5802c-663a-4d1f-9d69-e036faaffbf7",
   "metadata": {
    "execution": {
     "iopub.execute_input": "2025-07-30T21:35:50.181693Z",
     "iopub.status.busy": "2025-07-30T21:35:50.180829Z",
     "iopub.status.idle": "2025-07-30T21:35:50.185791Z",
     "shell.execute_reply": "2025-07-30T21:35:50.184845Z"
    },
    "papermill": {
     "duration": 0.033721,
     "end_time": "2025-07-30T21:35:50.187330",
     "exception": false,
     "start_time": "2025-07-30T21:35:50.153609",
     "status": "completed"
    },
    "tags": []
   },
   "outputs": [],
   "source": [
    "#delete\n",
    "#cp_groups_df"
   ]
  },
  {
   "cell_type": "code",
   "execution_count": 65,
   "id": "fa424af1-d1eb-443d-b717-2d279ada8408",
   "metadata": {
    "execution": {
     "iopub.execute_input": "2025-07-30T21:35:50.243034Z",
     "iopub.status.busy": "2025-07-30T21:35:50.242674Z",
     "iopub.status.idle": "2025-07-30T21:35:50.247135Z",
     "shell.execute_reply": "2025-07-30T21:35:50.246270Z"
    },
    "papermill": {
     "duration": 0.034586,
     "end_time": "2025-07-30T21:35:50.248755",
     "exception": false,
     "start_time": "2025-07-30T21:35:50.214169",
     "status": "completed"
    },
    "tags": []
   },
   "outputs": [],
   "source": [
    "#delete\n",
    "#percentage = (cp_groups_df['nongerman_female'] == 1).mean() * 100\n",
    "#print(percentage)\n"
   ]
  },
  {
   "cell_type": "code",
   "execution_count": 66,
   "id": "6cbdab96-b2b2-45af-ad54-d0516db2e28d",
   "metadata": {
    "execution": {
     "iopub.execute_input": "2025-07-30T21:35:50.303692Z",
     "iopub.status.busy": "2025-07-30T21:35:50.303197Z",
     "iopub.status.idle": "2025-07-30T21:35:51.851370Z",
     "shell.execute_reply": "2025-07-30T21:35:51.850472Z"
    },
    "papermill": {
     "duration": 1.577854,
     "end_time": "2025-07-30T21:35:51.853203",
     "exception": false,
     "start_time": "2025-07-30T21:35:50.275349",
     "status": "completed"
    },
    "tags": []
   },
   "outputs": [],
   "source": [
    "# Define covered = 1 if true_label is in the predicted set\n",
    "cp_groups_df['covered'] = cp_groups_df.apply(\n",
    "    lambda r: int(r['true_label'] in r['pred_set']),\n",
    "    axis=1\n",
    ")"
   ]
  },
  {
   "cell_type": "code",
   "execution_count": 67,
   "id": "338ff529-1a6b-4b87-a931-8e4788d52aad",
   "metadata": {
    "execution": {
     "iopub.execute_input": "2025-07-30T21:35:51.903513Z",
     "iopub.status.busy": "2025-07-30T21:35:51.902863Z",
     "iopub.status.idle": "2025-07-30T21:35:51.908185Z",
     "shell.execute_reply": "2025-07-30T21:35:51.907231Z"
    },
    "papermill": {
     "duration": 0.032715,
     "end_time": "2025-07-30T21:35:51.910091",
     "exception": false,
     "start_time": "2025-07-30T21:35:51.877376",
     "status": "completed"
    },
    "tags": []
   },
   "outputs": [],
   "source": [
    "#cp_groups_df"
   ]
  },
  {
   "cell_type": "code",
   "execution_count": 68,
   "id": "90032e27-66df-4540-9169-4e89cfbaa758",
   "metadata": {
    "execution": {
     "iopub.execute_input": "2025-07-30T21:35:51.960219Z",
     "iopub.status.busy": "2025-07-30T21:35:51.959740Z",
     "iopub.status.idle": "2025-07-30T21:35:51.970603Z",
     "shell.execute_reply": "2025-07-30T21:35:51.969645Z"
    },
    "papermill": {
     "duration": 0.037338,
     "end_time": "2025-07-30T21:35:51.972566",
     "exception": false,
     "start_time": "2025-07-30T21:35:51.935228",
     "status": "completed"
    },
    "tags": []
   },
   "outputs": [],
   "source": [
    "subgroups = ['frau1','nongerman','nongerman_male','nongerman_female']\n",
    "\n",
    "# Conditional coverage for subgroup==1\n",
    "cond_coverage = {\n",
    "    g: cp_groups_df.loc[cp_groups_df[g]==1, 'covered'].mean()\n",
    "    for g in subgroups\n",
    "}"
   ]
  },
  {
   "cell_type": "code",
   "execution_count": 69,
   "id": "1e348fb1-b9c3-45bc-ba23-f016827a7e0d",
   "metadata": {
    "execution": {
     "iopub.execute_input": "2025-07-30T21:35:52.024402Z",
     "iopub.status.busy": "2025-07-30T21:35:52.023794Z",
     "iopub.status.idle": "2025-07-30T21:35:52.031433Z",
     "shell.execute_reply": "2025-07-30T21:35:52.030497Z"
    },
    "papermill": {
     "duration": 0.035021,
     "end_time": "2025-07-30T21:35:52.033045",
     "exception": false,
     "start_time": "2025-07-30T21:35:51.998024",
     "status": "completed"
    },
    "tags": []
   },
   "outputs": [
    {
     "data": {
      "text/plain": [
       "{'frau1': 0.9150828952689042,\n",
       " 'nongerman': 0.9102902374670184,\n",
       " 'nongerman_male': 0.9233540484553724,\n",
       " 'nongerman_female': 0.8886736214605067}"
      ]
     },
     "execution_count": 69,
     "metadata": {},
     "output_type": "execute_result"
    }
   ],
   "source": [
    "cond_coverage"
   ]
  },
  {
   "cell_type": "code",
   "execution_count": 70,
   "id": "f5093324-c3dd-4d63-bc4c-8d945e5c8bbb",
   "metadata": {
    "execution": {
     "iopub.execute_input": "2025-07-30T21:35:52.084170Z",
     "iopub.status.busy": "2025-07-30T21:35:52.083510Z",
     "iopub.status.idle": "2025-07-30T21:35:52.090515Z",
     "shell.execute_reply": "2025-07-30T21:35:52.089603Z"
    },
    "papermill": {
     "duration": 0.033751,
     "end_time": "2025-07-30T21:35:52.091960",
     "exception": false,
     "start_time": "2025-07-30T21:35:52.058209",
     "status": "completed"
    },
    "tags": []
   },
   "outputs": [],
   "source": [
    "for subgroup, cov in cond_coverage.items():\n",
    "    cp_metrics_df[f\"cov_{subgroup}\"] = cov"
   ]
  },
  {
   "cell_type": "code",
   "execution_count": 71,
   "id": "6e872e10-dbe5-49e8-b554-5030c98ff75d",
   "metadata": {
    "execution": {
     "iopub.execute_input": "2025-07-30T21:35:52.142674Z",
     "iopub.status.busy": "2025-07-30T21:35:52.142038Z",
     "iopub.status.idle": "2025-07-30T21:35:52.160895Z",
     "shell.execute_reply": "2025-07-30T21:35:52.159948Z"
    },
    "papermill": {
     "duration": 0.045394,
     "end_time": "2025-07-30T21:35:52.162539",
     "exception": false,
     "start_time": "2025-07-30T21:35:52.117145",
     "status": "completed"
    },
    "tags": []
   },
   "outputs": [
    {
     "data": {
      "text/html": [
       "<div>\n",
       "<style scoped>\n",
       "    .dataframe tbody tr th:only-of-type {\n",
       "        vertical-align: middle;\n",
       "    }\n",
       "\n",
       "    .dataframe tbody tr th {\n",
       "        vertical-align: top;\n",
       "    }\n",
       "\n",
       "    .dataframe thead th {\n",
       "        text-align: right;\n",
       "    }\n",
       "</style>\n",
       "<table border=\"1\" class=\"dataframe\">\n",
       "  <thead>\n",
       "    <tr style=\"text-align: right;\">\n",
       "      <th></th>\n",
       "      <th>universe_id</th>\n",
       "      <th>universe_training_year</th>\n",
       "      <th>universe_training_size</th>\n",
       "      <th>universe_scale</th>\n",
       "      <th>universe_model</th>\n",
       "      <th>universe_exclude_features</th>\n",
       "      <th>universe_exclude_subgroups</th>\n",
       "      <th>q_hat</th>\n",
       "      <th>coverage</th>\n",
       "      <th>avg_size</th>\n",
       "      <th>cov_frau1</th>\n",
       "      <th>cov_nongerman</th>\n",
       "      <th>cov_nongerman_male</th>\n",
       "      <th>cov_nongerman_female</th>\n",
       "    </tr>\n",
       "  </thead>\n",
       "  <tbody>\n",
       "    <tr>\n",
       "      <th>0</th>\n",
       "      <td>fa527a236c54906e68e528ad7c990aff</td>\n",
       "      <td>2012_14</td>\n",
       "      <td>1k</td>\n",
       "      <td>scale</td>\n",
       "      <td>rf</td>\n",
       "      <td>nationality-sex</td>\n",
       "      <td>drop-non-german</td>\n",
       "      <td>0.67</td>\n",
       "      <td>0.916408</td>\n",
       "      <td>1.181206</td>\n",
       "      <td>0.915083</td>\n",
       "      <td>0.91029</td>\n",
       "      <td>0.923354</td>\n",
       "      <td>0.888674</td>\n",
       "    </tr>\n",
       "  </tbody>\n",
       "</table>\n",
       "</div>"
      ],
      "text/plain": [
       "                        universe_id universe_training_year  \\\n",
       "0  fa527a236c54906e68e528ad7c990aff                2012_14   \n",
       "\n",
       "  universe_training_size universe_scale universe_model  \\\n",
       "0                     1k          scale             rf   \n",
       "\n",
       "  universe_exclude_features universe_exclude_subgroups  q_hat  coverage  \\\n",
       "0           nationality-sex            drop-non-german   0.67  0.916408   \n",
       "\n",
       "   avg_size  cov_frau1  cov_nongerman  cov_nongerman_male  \\\n",
       "0  1.181206   0.915083        0.91029            0.923354   \n",
       "\n",
       "   cov_nongerman_female  \n",
       "0              0.888674  "
      ]
     },
     "execution_count": 71,
     "metadata": {},
     "output_type": "execute_result"
    }
   ],
   "source": [
    "cp_metrics_df"
   ]
  },
  {
   "cell_type": "markdown",
   "id": "33774451",
   "metadata": {
    "papermill": {
     "duration": 0.025416,
     "end_time": "2025-07-30T21:35:52.213463",
     "exception": false,
     "start_time": "2025-07-30T21:35:52.188047",
     "status": "completed"
    },
    "tags": []
   },
   "source": [
    "# (Fairness) Metrics"
   ]
  },
  {
   "cell_type": "code",
   "execution_count": 72,
   "id": "debc5d62",
   "metadata": {
    "execution": {
     "iopub.execute_input": "2025-07-30T21:35:52.265299Z",
     "iopub.status.busy": "2025-07-30T21:35:52.264605Z",
     "iopub.status.idle": "2025-07-30T21:35:52.286021Z",
     "shell.execute_reply": "2025-07-30T21:35:52.285146Z"
    },
    "papermill": {
     "duration": 0.049839,
     "end_time": "2025-07-30T21:35:52.287954",
     "exception": false,
     "start_time": "2025-07-30T21:35:52.238115",
     "status": "completed"
    },
    "tags": []
   },
   "outputs": [],
   "source": [
    "# do I need to include maxdeutsch1.missing?\n",
    "\n",
    "import numpy as np\n",
    "\n",
    "colname_to_bin = \"maxdeutsch1\"\n",
    "majority_value = org_train[colname_to_bin].mode()[0]\n",
    "\n",
    "org_test[\"majmin\"] = np.where(org_test[colname_to_bin] == majority_value, \"majority\", \"minority\")"
   ]
  },
  {
   "cell_type": "code",
   "execution_count": 73,
   "id": "06a50de5",
   "metadata": {
    "execution": {
     "iopub.execute_input": "2025-07-30T21:35:52.340482Z",
     "iopub.status.busy": "2025-07-30T21:35:52.339584Z",
     "iopub.status.idle": "2025-07-30T21:35:55.208120Z",
     "shell.execute_reply": "2025-07-30T21:35:55.206748Z"
    },
    "papermill": {
     "duration": 2.896517,
     "end_time": "2025-07-30T21:35:55.209691",
     "exception": false,
     "start_time": "2025-07-30T21:35:52.313174",
     "status": "completed"
    },
    "tags": []
   },
   "outputs": [],
   "source": [
    "example_universe = universe.copy()\n",
    "example_universe[\"cutoff\"] = example_universe[\"cutoff\"][0]\n",
    "example_universe[\"eval_fairness_grouping\"] = example_universe[\"eval_fairness_grouping\"][0]\n",
    "fairness_dict, metric_frame = universe_analysis.compute_metrics(\n",
    "    example_universe,\n",
    "    y_pred_prob=probs_test,\n",
    "    y_test=y_true,\n",
    "    org_test=org_test,\n",
    ")"
   ]
  },
  {
   "cell_type": "markdown",
   "id": "f95d4e02",
   "metadata": {
    "papermill": {
     "duration": 0.035132,
     "end_time": "2025-07-30T21:35:55.278282",
     "exception": false,
     "start_time": "2025-07-30T21:35:55.243150",
     "status": "completed"
    },
    "tags": []
   },
   "source": [
    "# Overall"
   ]
  },
  {
   "cell_type": "markdown",
   "id": "bdee4871",
   "metadata": {
    "papermill": {
     "duration": 0.035328,
     "end_time": "2025-07-30T21:35:55.348892",
     "exception": false,
     "start_time": "2025-07-30T21:35:55.313564",
     "status": "completed"
    },
    "tags": []
   },
   "source": [
    "Fairness\n",
    "Main fairness target: Equalized Odds. Seems to be a better fit than equal opportunity, since we're not only interested in Y = 1. Seems to be a better fit than demographic parity, since we also care about accuracy, not just equal distribution of preds.\n",
    "\n",
    "Pick column for computation of fairness metrics\n",
    "\n",
    "Performance\n",
    "Overall performance measures, most interesting in relation to the measures split by group below"
   ]
  },
  {
   "cell_type": "code",
   "execution_count": 74,
   "id": "c4e067c6",
   "metadata": {
    "execution": {
     "iopub.execute_input": "2025-07-30T21:35:55.421425Z",
     "iopub.status.busy": "2025-07-30T21:35:55.420801Z",
     "iopub.status.idle": "2025-07-30T21:35:55.430933Z",
     "shell.execute_reply": "2025-07-30T21:35:55.429889Z"
    },
    "papermill": {
     "duration": 0.048073,
     "end_time": "2025-07-30T21:35:55.432611",
     "exception": false,
     "start_time": "2025-07-30T21:35:55.384538",
     "status": "completed"
    },
    "tags": []
   },
   "outputs": [
    {
     "data": {
      "text/plain": [
       "accuracy                   0.220065\n",
       "balanced accuracy          0.544605\n",
       "f1                         0.243998\n",
       "precision                  0.139323\n",
       "false positive rate        0.891934\n",
       "false negative rate        0.018856\n",
       "selection rate             0.903378\n",
       "count                  89710.000000\n",
       "dtype: float64"
      ]
     },
     "execution_count": 74,
     "metadata": {},
     "output_type": "execute_result"
    }
   ],
   "source": [
    "metric_frame.overall"
   ]
  },
  {
   "cell_type": "markdown",
   "id": "e968fe9d",
   "metadata": {
    "papermill": {
     "duration": 0.027077,
     "end_time": "2025-07-30T21:35:55.485525",
     "exception": false,
     "start_time": "2025-07-30T21:35:55.458448",
     "status": "completed"
    },
    "tags": []
   },
   "source": [
    "By Group"
   ]
  },
  {
   "cell_type": "code",
   "execution_count": 75,
   "id": "ec325bce",
   "metadata": {
    "execution": {
     "iopub.execute_input": "2025-07-30T21:35:55.539261Z",
     "iopub.status.busy": "2025-07-30T21:35:55.538595Z",
     "iopub.status.idle": "2025-07-30T21:35:55.555080Z",
     "shell.execute_reply": "2025-07-30T21:35:55.554033Z"
    },
    "papermill": {
     "duration": 0.047352,
     "end_time": "2025-07-30T21:35:55.558327",
     "exception": false,
     "start_time": "2025-07-30T21:35:55.510975",
     "status": "completed"
    },
    "tags": []
   },
   "outputs": [
    {
     "data": {
      "text/html": [
       "<div>\n",
       "<style scoped>\n",
       "    .dataframe tbody tr th:only-of-type {\n",
       "        vertical-align: middle;\n",
       "    }\n",
       "\n",
       "    .dataframe tbody tr th {\n",
       "        vertical-align: top;\n",
       "    }\n",
       "\n",
       "    .dataframe thead th {\n",
       "        text-align: right;\n",
       "    }\n",
       "</style>\n",
       "<table border=\"1\" class=\"dataframe\">\n",
       "  <thead>\n",
       "    <tr style=\"text-align: right;\">\n",
       "      <th></th>\n",
       "      <th>accuracy</th>\n",
       "      <th>balanced accuracy</th>\n",
       "      <th>f1</th>\n",
       "      <th>precision</th>\n",
       "      <th>false positive rate</th>\n",
       "      <th>false negative rate</th>\n",
       "      <th>selection rate</th>\n",
       "      <th>count</th>\n",
       "    </tr>\n",
       "    <tr>\n",
       "      <th>majmin</th>\n",
       "      <th></th>\n",
       "      <th></th>\n",
       "      <th></th>\n",
       "      <th></th>\n",
       "      <th></th>\n",
       "      <th></th>\n",
       "      <th></th>\n",
       "      <th></th>\n",
       "    </tr>\n",
       "  </thead>\n",
       "  <tbody>\n",
       "    <tr>\n",
       "      <th>majority</th>\n",
       "      <td>0.232543</td>\n",
       "      <td>0.549962</td>\n",
       "      <td>0.252587</td>\n",
       "      <td>0.144946</td>\n",
       "      <td>0.881476</td>\n",
       "      <td>0.018600</td>\n",
       "      <td>0.894680</td>\n",
       "      <td>69170.0</td>\n",
       "    </tr>\n",
       "    <tr>\n",
       "      <th>minority</th>\n",
       "      <td>0.178043</td>\n",
       "      <td>0.526836</td>\n",
       "      <td>0.215656</td>\n",
       "      <td>0.121157</td>\n",
       "      <td>0.926480</td>\n",
       "      <td>0.019848</td>\n",
       "      <td>0.932668</td>\n",
       "      <td>20540.0</td>\n",
       "    </tr>\n",
       "  </tbody>\n",
       "</table>\n",
       "</div>"
      ],
      "text/plain": [
       "          accuracy  balanced accuracy        f1  precision  \\\n",
       "majmin                                                       \n",
       "majority  0.232543           0.549962  0.252587   0.144946   \n",
       "minority  0.178043           0.526836  0.215656   0.121157   \n",
       "\n",
       "          false positive rate  false negative rate  selection rate    count  \n",
       "majmin                                                                       \n",
       "majority             0.881476             0.018600        0.894680  69170.0  \n",
       "minority             0.926480             0.019848        0.932668  20540.0  "
      ]
     },
     "execution_count": 75,
     "metadata": {},
     "output_type": "execute_result"
    }
   ],
   "source": [
    "metric_frame.by_group"
   ]
  },
  {
   "cell_type": "code",
   "execution_count": 76,
   "id": "a9ddbe63",
   "metadata": {
    "execution": {
     "iopub.execute_input": "2025-07-30T21:35:55.614776Z",
     "iopub.status.busy": "2025-07-30T21:35:55.614022Z",
     "iopub.status.idle": "2025-07-30T21:35:58.367525Z",
     "shell.execute_reply": "2025-07-30T21:35:58.366493Z"
    },
    "papermill": {
     "duration": 2.783098,
     "end_time": "2025-07-30T21:35:58.369448",
     "exception": false,
     "start_time": "2025-07-30T21:35:55.586350",
     "status": "completed"
    },
    "tags": []
   },
   "outputs": [
    {
     "data": {
      "text/plain": [
       "array([[<Axes: title={'center': 'accuracy'}, xlabel='majmin'>,\n",
       "        <Axes: title={'center': 'balanced accuracy'}, xlabel='majmin'>,\n",
       "        <Axes: title={'center': 'f1'}, xlabel='majmin'>],\n",
       "       [<Axes: title={'center': 'precision'}, xlabel='majmin'>,\n",
       "        <Axes: title={'center': 'false positive rate'}, xlabel='majmin'>,\n",
       "        <Axes: title={'center': 'false negative rate'}, xlabel='majmin'>],\n",
       "       [<Axes: title={'center': 'selection rate'}, xlabel='majmin'>,\n",
       "        <Axes: title={'center': 'count'}, xlabel='majmin'>,\n",
       "        <Axes: xlabel='majmin'>]], dtype=object)"
      ]
     },
     "execution_count": 76,
     "metadata": {},
     "output_type": "execute_result"
    },
    {
     "data": {
      "image/png": "[encoded data removed]",
      "text/plain": [
       "<Figure size 1200x800 with 9 Axes>"
      ]
     },
     "metadata": {},
     "output_type": "display_data"
    }
   ],
   "source": [
    "# In a graphic\n",
    "metric_frame.by_group.plot.bar(\n",
    "    subplots=True,\n",
    "    layout=[3, 3],\n",
    "    legend=False,\n",
    "    figsize=[12, 8],\n",
    "    title=\"Show all metrics\",\n",
    ")"
   ]
  },
  {
   "cell_type": "markdown",
   "id": "f57a0bac",
   "metadata": {
    "papermill": {
     "duration": 0.057434,
     "end_time": "2025-07-30T21:35:58.481581",
     "exception": false,
     "start_time": "2025-07-30T21:35:58.424147",
     "status": "completed"
    },
    "tags": []
   },
   "source": [
    "# Final Output"
   ]
  },
  {
   "cell_type": "code",
   "execution_count": 77,
   "id": "96d280a3",
   "metadata": {
    "execution": {
     "iopub.execute_input": "2025-07-30T21:35:58.572740Z",
     "iopub.status.busy": "2025-07-30T21:35:58.572156Z",
     "iopub.status.idle": "2025-07-30T21:35:58.580616Z",
     "shell.execute_reply": "2025-07-30T21:35:58.579718Z"
    },
    "papermill": {
     "duration": 0.041624,
     "end_time": "2025-07-30T21:35:58.582432",
     "exception": false,
     "start_time": "2025-07-30T21:35:58.540808",
     "status": "completed"
    },
    "tags": []
   },
   "outputs": [
    {
     "data": {
      "text/plain": [
       "4"
      ]
     },
     "execution_count": 77,
     "metadata": {},
     "output_type": "execute_result"
    }
   ],
   "source": [
    "sub_universes = universe_analysis.generate_sub_universes()\n",
    "len(sub_universes)"
   ]
  },
  {
   "cell_type": "code",
   "execution_count": 78,
   "id": "92adf7ba",
   "metadata": {
    "execution": {
     "iopub.execute_input": "2025-07-30T21:35:58.654352Z",
     "iopub.status.busy": "2025-07-30T21:35:58.653839Z",
     "iopub.status.idle": "2025-07-30T21:35:58.661330Z",
     "shell.execute_reply": "2025-07-30T21:35:58.660228Z"
    },
    "papermill": {
     "duration": 0.040614,
     "end_time": "2025-07-30T21:35:58.662904",
     "exception": false,
     "start_time": "2025-07-30T21:35:58.622290",
     "status": "completed"
    },
    "tags": []
   },
   "outputs": [],
   "source": [
    "def filter_sub_universe_data(sub_universe, org_test):\n",
    "    # Keep all rows — no filtering\n",
    "    keep_rows_mask = np.ones(org_test.shape[0], dtype=bool)\n",
    "\n",
    "    print(f\"[INFO] Keeping all rows: {keep_rows_mask.sum()} rows retained.\")\n",
    "    return keep_rows_mask"
   ]
  },
  {
   "cell_type": "code",
   "execution_count": 79,
   "id": "4a759155",
   "metadata": {
    "execution": {
     "iopub.execute_input": "2025-07-30T21:35:58.701205Z",
     "iopub.status.busy": "2025-07-30T21:35:58.700864Z",
     "iopub.status.idle": "2025-07-30T21:36:09.498164Z",
     "shell.execute_reply": "2025-07-30T21:36:09.497003Z"
    },
    "papermill": {
     "duration": 10.818428,
     "end_time": "2025-07-30T21:36:09.499554",
     "exception": false,
     "start_time": "2025-07-30T21:35:58.681126",
     "status": "completed"
    },
    "tags": []
   },
   "outputs": [
    {
     "name": "stdout",
     "output_type": "stream",
     "text": [
      "Stopping execution_time clock.\n",
      "[INFO] Keeping all rows: 89710 rows retained.\n"
     ]
    },
    {
     "name": "stdout",
     "output_type": "stream",
     "text": [
      "[INFO] Keeping all rows: 89710 rows retained.\n"
     ]
    },
    {
     "name": "stdout",
     "output_type": "stream",
     "text": [
      "[INFO] Keeping all rows: 89710 rows retained.\n"
     ]
    },
    {
     "name": "stdout",
     "output_type": "stream",
     "text": [
      "[INFO] Keeping all rows: 89710 rows retained.\n"
     ]
    },
    {
     "data": {
      "text/html": [
       "<div>\n",
       "<style scoped>\n",
       "    .dataframe tbody tr th:only-of-type {\n",
       "        vertical-align: middle;\n",
       "    }\n",
       "\n",
       "    .dataframe tbody tr th {\n",
       "        vertical-align: top;\n",
       "    }\n",
       "\n",
       "    .dataframe thead th {\n",
       "        text-align: right;\n",
       "    }\n",
       "</style>\n",
       "<table border=\"1\" class=\"dataframe\">\n",
       "  <thead>\n",
       "    <tr style=\"text-align: right;\">\n",
       "      <th></th>\n",
       "      <th>run_no</th>\n",
       "      <th>universe_id</th>\n",
       "      <th>universe_settings</th>\n",
       "      <th>execution_time</th>\n",
       "      <th>test_size_n</th>\n",
       "      <th>test_size_frac</th>\n",
       "      <th>fair_main_equalized_odds_difference</th>\n",
       "      <th>fair_main_equalized_odds_ratio</th>\n",
       "      <th>fair_main_demographic_parity_difference</th>\n",
       "      <th>fair_main_demographic_parity_ratio</th>\n",
       "      <th>...</th>\n",
       "      <th>perf_grp_precision_0</th>\n",
       "      <th>perf_grp_precision_1</th>\n",
       "      <th>perf_grp_false positive rate_0</th>\n",
       "      <th>perf_grp_false positive rate_1</th>\n",
       "      <th>perf_grp_false negative rate_0</th>\n",
       "      <th>perf_grp_false negative rate_1</th>\n",
       "      <th>perf_grp_selection rate_0</th>\n",
       "      <th>perf_grp_selection rate_1</th>\n",
       "      <th>perf_grp_count_0</th>\n",
       "      <th>perf_grp_count_1</th>\n",
       "    </tr>\n",
       "  </thead>\n",
       "  <tbody>\n",
       "    <tr>\n",
       "      <th>0</th>\n",
       "      <td>14</td>\n",
       "      <td>fa527a236c54906e68e528ad7c990aff</td>\n",
       "      <td>{\"cutoff\": \"quantile_0.1\", \"eval_fairness_grou...</td>\n",
       "      <td>31.043262</td>\n",
       "      <td>89710</td>\n",
       "      <td>1.0</td>\n",
       "      <td>0.045004</td>\n",
       "      <td>0.951424</td>\n",
       "      <td>0.037988</td>\n",
       "      <td>0.959269</td>\n",
       "      <td>...</td>\n",
       "      <td>NaN</td>\n",
       "      <td>NaN</td>\n",
       "      <td>NaN</td>\n",
       "      <td>NaN</td>\n",
       "      <td>NaN</td>\n",
       "      <td>NaN</td>\n",
       "      <td>NaN</td>\n",
       "      <td>NaN</td>\n",
       "      <td>NaN</td>\n",
       "      <td>NaN</td>\n",
       "    </tr>\n",
       "    <tr>\n",
       "      <th>0</th>\n",
       "      <td>14</td>\n",
       "      <td>fa527a236c54906e68e528ad7c990aff</td>\n",
       "      <td>{\"cutoff\": \"quantile_0.1\", \"eval_fairness_grou...</td>\n",
       "      <td>31.043262</td>\n",
       "      <td>89710</td>\n",
       "      <td>1.0</td>\n",
       "      <td>0.045004</td>\n",
       "      <td>0.951424</td>\n",
       "      <td>0.037988</td>\n",
       "      <td>0.959269</td>\n",
       "      <td>...</td>\n",
       "      <td>0.121157</td>\n",
       "      <td>0.144946</td>\n",
       "      <td>0.92648</td>\n",
       "      <td>0.881476</td>\n",
       "      <td>0.019848</td>\n",
       "      <td>0.018600</td>\n",
       "      <td>0.932668</td>\n",
       "      <td>0.89468</td>\n",
       "      <td>20540.0</td>\n",
       "      <td>69170.0</td>\n",
       "    </tr>\n",
       "    <tr>\n",
       "      <th>0</th>\n",
       "      <td>14</td>\n",
       "      <td>fa527a236c54906e68e528ad7c990aff</td>\n",
       "      <td>{\"cutoff\": \"quantile_0.25\", \"eval_fairness_gro...</td>\n",
       "      <td>31.043262</td>\n",
       "      <td>89710</td>\n",
       "      <td>1.0</td>\n",
       "      <td>0.090831</td>\n",
       "      <td>0.887263</td>\n",
       "      <td>0.075022</td>\n",
       "      <td>0.908381</td>\n",
       "      <td>...</td>\n",
       "      <td>NaN</td>\n",
       "      <td>NaN</td>\n",
       "      <td>NaN</td>\n",
       "      <td>NaN</td>\n",
       "      <td>NaN</td>\n",
       "      <td>NaN</td>\n",
       "      <td>NaN</td>\n",
       "      <td>NaN</td>\n",
       "      <td>NaN</td>\n",
       "      <td>NaN</td>\n",
       "    </tr>\n",
       "    <tr>\n",
       "      <th>0</th>\n",
       "      <td>14</td>\n",
       "      <td>fa527a236c54906e68e528ad7c990aff</td>\n",
       "      <td>{\"cutoff\": \"quantile_0.25\", \"eval_fairness_gro...</td>\n",
       "      <td>31.043262</td>\n",
       "      <td>89710</td>\n",
       "      <td>1.0</td>\n",
       "      <td>0.090831</td>\n",
       "      <td>0.887263</td>\n",
       "      <td>0.075022</td>\n",
       "      <td>0.908381</td>\n",
       "      <td>...</td>\n",
       "      <td>0.129496</td>\n",
       "      <td>0.165928</td>\n",
       "      <td>0.80569</td>\n",
       "      <td>0.714859</td>\n",
       "      <td>0.080236</td>\n",
       "      <td>0.065974</td>\n",
       "      <td>0.818841</td>\n",
       "      <td>0.74382</td>\n",
       "      <td>20540.0</td>\n",
       "      <td>69170.0</td>\n",
       "    </tr>\n",
       "  </tbody>\n",
       "</table>\n",
       "<p>4 rows × 50 columns</p>\n",
       "</div>"
      ],
      "text/plain": [
       "  run_no                       universe_id  \\\n",
       "0     14  fa527a236c54906e68e528ad7c990aff   \n",
       "0     14  fa527a236c54906e68e528ad7c990aff   \n",
       "0     14  fa527a236c54906e68e528ad7c990aff   \n",
       "0     14  fa527a236c54906e68e528ad7c990aff   \n",
       "\n",
       "                                   universe_settings  execution_time  \\\n",
       "0  {\"cutoff\": \"quantile_0.1\", \"eval_fairness_grou...       31.043262   \n",
       "0  {\"cutoff\": \"quantile_0.1\", \"eval_fairness_grou...       31.043262   \n",
       "0  {\"cutoff\": \"quantile_0.25\", \"eval_fairness_gro...       31.043262   \n",
       "0  {\"cutoff\": \"quantile_0.25\", \"eval_fairness_gro...       31.043262   \n",
       "\n",
       "   test_size_n  test_size_frac  fair_main_equalized_odds_difference  \\\n",
       "0        89710             1.0                             0.045004   \n",
       "0        89710             1.0                             0.045004   \n",
       "0        89710             1.0                             0.090831   \n",
       "0        89710             1.0                             0.090831   \n",
       "\n",
       "   fair_main_equalized_odds_ratio  fair_main_demographic_parity_difference  \\\n",
       "0                        0.951424                                 0.037988   \n",
       "0                        0.951424                                 0.037988   \n",
       "0                        0.887263                                 0.075022   \n",
       "0                        0.887263                                 0.075022   \n",
       "\n",
       "   fair_main_demographic_parity_ratio  ...  perf_grp_precision_0  \\\n",
       "0                            0.959269  ...                   NaN   \n",
       "0                            0.959269  ...              0.121157   \n",
       "0                            0.908381  ...                   NaN   \n",
       "0                            0.908381  ...              0.129496   \n",
       "\n",
       "   perf_grp_precision_1  perf_grp_false positive rate_0  \\\n",
       "0                   NaN                             NaN   \n",
       "0              0.144946                         0.92648   \n",
       "0                   NaN                             NaN   \n",
       "0              0.165928                         0.80569   \n",
       "\n",
       "   perf_grp_false positive rate_1  perf_grp_false negative rate_0  \\\n",
       "0                             NaN                             NaN   \n",
       "0                        0.881476                        0.019848   \n",
       "0                             NaN                             NaN   \n",
       "0                        0.714859                        0.080236   \n",
       "\n",
       "   perf_grp_false negative rate_1  perf_grp_selection rate_0  \\\n",
       "0                             NaN                        NaN   \n",
       "0                        0.018600                   0.932668   \n",
       "0                             NaN                        NaN   \n",
       "0                        0.065974                   0.818841   \n",
       "\n",
       "   perf_grp_selection rate_1  perf_grp_count_0  perf_grp_count_1  \n",
       "0                        NaN               NaN               NaN  \n",
       "0                    0.89468           20540.0           69170.0  \n",
       "0                        NaN               NaN               NaN  \n",
       "0                    0.74382           20540.0           69170.0  \n",
       "\n",
       "[4 rows x 50 columns]"
      ]
     },
     "execution_count": 79,
     "metadata": {},
     "output_type": "execute_result"
    }
   ],
   "source": [
    "final_output = universe_analysis.generate_final_output(\n",
    "    y_pred_prob=probs_test,\n",
    "    y_test=y_true,\n",
    "    org_test=org_test,\n",
    "    filter_data=filter_sub_universe_data,\n",
    "    cp_metrics_df=cp_metrics_df,\n",
    "    save=True,\n",
    ")\n",
    "final_output"
   ]
  },
  {
   "cell_type": "code",
   "execution_count": null,
   "id": "721ff514-cb11-46f8-b6fc-50392f74b5cb",
   "metadata": {
    "papermill": {
     "duration": 0.016402,
     "end_time": "2025-07-30T21:36:09.535012",
     "exception": false,
     "start_time": "2025-07-30T21:36:09.518610",
     "status": "completed"
    },
    "tags": []
   },
   "outputs": [],
   "source": []
  }
 ],
 "metadata": {
  "celltoolbar": "Tags",
  "kernelspec": {
   "display_name": "Python (CMA Fairness)",
   "language": "python",
   "name": "cma_fair_env"
  },
  "language_info": {
   "codemirror_mode": {
    "name": "ipython",
    "version": 3
   },
   "file_extension": ".py",
   "mimetype": "text/x-python",
   "name": "python",
   "nbconvert_exporter": "python",
   "pygments_lexer": "ipython3",
   "version": "3.10.12"
  },
  "papermill": {
   "default_parameters": {},
   "duration": 46.137596,
   "end_time": "2025-07-30T21:36:10.372883",
   "environment_variables": {},
   "exception": null,
   "input_path": "universe_analysis.ipynb",
   "output_path": "output/runs/14/notebooks/m_14-fa527a236c54906e68e528ad7c990aff.ipynb",
   "parameters": {
    "output_dir": "output",
    "run_no": "14",
    "seed": "2023",
    "universe": "{\"cutoff\": [\"quantile_0.1\", \"quantile_0.25\"], \"eval_fairness_grouping\": [\"majority-minority\", \"nationality-all\"], \"exclude_features\": \"nationality-sex\", \"exclude_subgroups\": \"drop-non-german\", \"model\": \"rf\", \"scale\": \"scale\", \"training_size\": \"1k\", \"training_year\": \"2012_14\"}",
    "universe_id": "fa527a236c54906e68e528ad7c990aff"
   },
   "start_time": "2025-07-30T21:35:24.235287",
   "version": "2.6.0"
  }
 },
 "nbformat": 4,
 "nbformat_minor": 5
}