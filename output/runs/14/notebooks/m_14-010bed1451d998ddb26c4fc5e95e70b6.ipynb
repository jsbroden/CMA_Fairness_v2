{
 "cells": [
  {
   "cell_type": "code",
   "execution_count": 1,
   "id": "f159f837-637b-42ba-96b5-ec9a68c44524",
   "metadata": {
    "execution": {
     "iopub.execute_input": "2025-07-30T21:48:40.212952Z",
     "iopub.status.busy": "2025-07-30T21:48:40.212447Z",
     "iopub.status.idle": "2025-07-30T21:48:40.228406Z",
     "shell.execute_reply": "2025-07-30T21:48:40.227312Z"
    },
    "papermill": {
     "duration": 0.042687,
     "end_time": "2025-07-30T21:48:40.230539",
     "exception": false,
     "start_time": "2025-07-30T21:48:40.187852",
     "status": "completed"
    },
    "tags": []
   },
   "outputs": [
    {
     "name": "stdout",
     "output_type": "stream",
     "text": [
      "/dss/dsshome1/0C/ra93lal2/cma/CMA_Fairness_v2\n"
     ]
    },
    {
     "name": "stderr",
     "output_type": "stream",
     "text": [
      "/dss/dsshome1/0C/ra93lal2/.local/share/virtualenvs/CMA_Fairness_v2-3j10GkSs/lib/python3.10/site-packages/IPython/core/magics/osm.py:393: UserWarning: This is now an optional IPython functionality, using bookmarks requires you to install the `pickleshare` library.\n",
      "  bkms = self.shell.db.get('bookmarks', {})\n",
      "/dss/dsshome1/0C/ra93lal2/.local/share/virtualenvs/CMA_Fairness_v2-3j10GkSs/lib/python3.10/site-packages/IPython/core/magics/osm.py:417: UserWarning: This is now an optional IPython functionality, setting dhist requires you to install the `pickleshare` library.\n",
      "  self.shell.db['dhist'] = compress_dhist(dhist)[-100:]\n"
     ]
    }
   ],
   "source": [
    "%cd ~/cma/CMA_Fairness_v2"
   ]
  },
  {
   "cell_type": "markdown",
   "id": "de2603b9",
   "metadata": {
    "papermill": {
     "duration": 0.020143,
     "end_time": "2025-07-30T21:48:40.272617",
     "exception": false,
     "start_time": "2025-07-30T21:48:40.252474",
     "status": "completed"
    },
    "tags": []
   },
   "source": [
    "The following cell holds the definition of our parameters, these values can be overriden by rendering the with e.g. the following command:\n",
    "\n",
    "papermill -p alpha 0.2 -p ratio 0.3 universe_analysis.ipynb output/test_run.ipynb"
   ]
  },
  {
   "cell_type": "code",
   "execution_count": 2,
   "id": "a80968a0-40bb-4fa9-85ef-2d5eefb01975",
   "metadata": {
    "execution": {
     "iopub.execute_input": "2025-07-30T21:48:40.313136Z",
     "iopub.status.busy": "2025-07-30T21:48:40.312663Z",
     "iopub.status.idle": "2025-07-30T21:48:40.318384Z",
     "shell.execute_reply": "2025-07-30T21:48:40.317425Z"
    },
    "papermill": {
     "duration": 0.028816,
     "end_time": "2025-07-30T21:48:40.319996",
     "exception": false,
     "start_time": "2025-07-30T21:48:40.291180",
     "status": "completed"
    },
    "tags": []
   },
   "outputs": [
    {
     "name": "stdout",
     "output_type": "stream",
     "text": [
      "Current working directory: /dss/dsshome1/0C/ra93lal2/cma/CMA_Fairness_v2\n"
     ]
    }
   ],
   "source": [
    "import os\n",
    "print(\"Current working directory:\", os.getcwd())"
   ]
  },
  {
   "cell_type": "code",
   "execution_count": 3,
   "id": "2dce4c03",
   "metadata": {
    "execution": {
     "iopub.execute_input": "2025-07-30T21:48:40.359763Z",
     "iopub.status.busy": "2025-07-30T21:48:40.359317Z",
     "iopub.status.idle": "2025-07-30T21:48:40.365441Z",
     "shell.execute_reply": "2025-07-30T21:48:40.364509Z"
    },
    "papermill": {
     "duration": 0.027532,
     "end_time": "2025-07-30T21:48:40.366971",
     "exception": false,
     "start_time": "2025-07-30T21:48:40.339439",
     "status": "completed"
    },
    "tags": [
     "parameters"
    ]
   },
   "outputs": [],
   "source": [
    "run_no = 0\n",
    "universe_id = \"test\"\n",
    "universe = {\n",
    "    \"training_size\": \"25k\", # \"25k\", \"5k\", \"1k\"\n",
    "    \"training_year\": \"2014\", # \"2014\", \"2012_14\", \"2010_14\"\n",
    "    \"scale\": \"scale\", # \"scale\", \"do-not-scale\",\n",
    "    #\"stratify_split\": \"target\", # \"none\", \"target\", \"protected-attribute\", \"both\",\n",
    "    \"model\": \"elasticnet\", # \"logreg\", \"penalized_logreg\", \"rf\", \"gbm\", \"elasticnet\"\n",
    "    \"cutoff\": [\"quantile_0.15\", \"quantile_0.30\"],\n",
    "    \"exclude_features\": \"age\", # \"none\", \"nationality\", \"sex\", \"nationality-sex\", \"age\"\n",
    "    \"exclude_subgroups\": \"keep-all\", # \"keep-all\", \"drop-non-german\"\n",
    "    \"eval_fairness_grouping\": [\"majority-minority\", \"nationality-all\"]\n",
    "}\n",
    "\n",
    "output_dir=\"./output\"\n",
    "seed=0"
   ]
  },
  {
   "cell_type": "code",
   "execution_count": 4,
   "id": "207d9246",
   "metadata": {
    "execution": {
     "iopub.execute_input": "2025-07-30T21:48:40.405760Z",
     "iopub.status.busy": "2025-07-30T21:48:40.405060Z",
     "iopub.status.idle": "2025-07-30T21:48:40.410066Z",
     "shell.execute_reply": "2025-07-30T21:48:40.409175Z"
    },
    "papermill": {
     "duration": 0.025908,
     "end_time": "2025-07-30T21:48:40.411775",
     "exception": false,
     "start_time": "2025-07-30T21:48:40.385867",
     "status": "completed"
    },
    "tags": [
     "injected-parameters"
    ]
   },
   "outputs": [],
   "source": [
    "# Parameters\n",
    "universe_id = \"010bed1451d998ddb26c4fc5e95e70b6\"\n",
    "run_no = \"14\"\n",
    "universe = \"{\\\"cutoff\\\": [\\\"quantile_0.1\\\", \\\"quantile_0.25\\\"], \\\"eval_fairness_grouping\\\": [\\\"majority-minority\\\", \\\"nationality-all\\\"], \\\"exclude_features\\\": \\\"nationality-sex\\\", \\\"exclude_subgroups\\\": \\\"drop-non-german\\\", \\\"model\\\": \\\"elasticnet\\\", \\\"scale\\\": \\\"scale\\\", \\\"training_size\\\": \\\"1k\\\", \\\"training_year\\\": \\\"2010_14\\\"}\"\n",
    "output_dir = \"output\"\n",
    "seed = \"2023\"\n"
   ]
  },
  {
   "cell_type": "code",
   "execution_count": 5,
   "id": "1650acaf",
   "metadata": {
    "execution": {
     "iopub.execute_input": "2025-07-30T21:48:40.441024Z",
     "iopub.status.busy": "2025-07-30T21:48:40.440654Z",
     "iopub.status.idle": "2025-07-30T21:48:40.445138Z",
     "shell.execute_reply": "2025-07-30T21:48:40.444233Z"
    },
    "papermill": {
     "duration": 0.018456,
     "end_time": "2025-07-30T21:48:40.446732",
     "exception": false,
     "start_time": "2025-07-30T21:48:40.428276",
     "status": "completed"
    },
    "tags": []
   },
   "outputs": [],
   "source": [
    "import json\n",
    "# Parse universe into dict if it is passed as a string\n",
    "if isinstance(universe, str):\n",
    "    universe = json.loads(universe)"
   ]
  },
  {
   "cell_type": "code",
   "execution_count": 6,
   "id": "16620c48",
   "metadata": {
    "execution": {
     "iopub.execute_input": "2025-07-30T21:48:40.487920Z",
     "iopub.status.busy": "2025-07-30T21:48:40.487467Z",
     "iopub.status.idle": "2025-07-30T21:48:40.534541Z",
     "shell.execute_reply": "2025-07-30T21:48:40.533761Z"
    },
    "papermill": {
     "duration": 0.06828,
     "end_time": "2025-07-30T21:48:40.536362",
     "exception": false,
     "start_time": "2025-07-30T21:48:40.468082",
     "status": "completed"
    },
    "tags": []
   },
   "outputs": [],
   "source": [
    "# Auto-reload the custom package\n",
    "%load_ext autoreload\n",
    "%autoreload 1\n",
    "%aimport fairness_multiverse"
   ]
  },
  {
   "cell_type": "code",
   "execution_count": 7,
   "id": "01c5c9f3",
   "metadata": {
    "execution": {
     "iopub.execute_input": "2025-07-30T21:48:40.575980Z",
     "iopub.status.busy": "2025-07-30T21:48:40.575637Z",
     "iopub.status.idle": "2025-07-30T21:48:42.554478Z",
     "shell.execute_reply": "2025-07-30T21:48:42.553355Z"
    },
    "papermill": {
     "duration": 2.000997,
     "end_time": "2025-07-30T21:48:42.556727",
     "exception": false,
     "start_time": "2025-07-30T21:48:40.555730",
     "status": "completed"
    },
    "tags": []
   },
   "outputs": [],
   "source": [
    "from fairness_multiverse.universe import UniverseAnalysis\n",
    "\n",
    "universe_analysis = UniverseAnalysis(\n",
    "    run_no = run_no,\n",
    "    universe_id = universe_id,\n",
    "    universe = universe,\n",
    "    output_dir=output_dir,\n",
    ")"
   ]
  },
  {
   "cell_type": "code",
   "execution_count": 8,
   "id": "106241f5",
   "metadata": {
    "execution": {
     "iopub.execute_input": "2025-07-30T21:48:42.601752Z",
     "iopub.status.busy": "2025-07-30T21:48:42.601306Z",
     "iopub.status.idle": "2025-07-30T21:48:42.607982Z",
     "shell.execute_reply": "2025-07-30T21:48:42.607011Z"
    },
    "papermill": {
     "duration": 0.02966,
     "end_time": "2025-07-30T21:48:42.609481",
     "exception": false,
     "start_time": "2025-07-30T21:48:42.579821",
     "status": "completed"
    },
    "tags": []
   },
   "outputs": [
    {
     "name": "stdout",
     "output_type": "stream",
     "text": [
      "Using Seed: 2023\n"
     ]
    }
   ],
   "source": [
    "import numpy as np\n",
    "parsed_seed = int(seed)\n",
    "np.random.seed(parsed_seed)\n",
    "print(f\"Using Seed: {parsed_seed}\")"
   ]
  },
  {
   "cell_type": "markdown",
   "id": "e0ebdc57",
   "metadata": {
    "papermill": {
     "duration": 0.010448,
     "end_time": "2025-07-30T21:48:42.630704",
     "exception": false,
     "start_time": "2025-07-30T21:48:42.620256",
     "status": "completed"
    },
    "tags": []
   },
   "source": [
    "# Loading Data"
   ]
  },
  {
   "cell_type": "markdown",
   "id": "681925a3",
   "metadata": {
    "papermill": {
     "duration": 0.010083,
     "end_time": "2025-07-30T21:48:42.650754",
     "exception": false,
     "start_time": "2025-07-30T21:48:42.640671",
     "status": "completed"
    },
    "tags": []
   },
   "source": [
    "Load siab_train, siab_test, siab_calib and/or \n",
    "load siab_train_features, siab_train_labels"
   ]
  },
  {
   "cell_type": "code",
   "execution_count": 9,
   "id": "f0496b8a",
   "metadata": {
    "execution": {
     "iopub.execute_input": "2025-07-30T21:48:42.672474Z",
     "iopub.status.busy": "2025-07-30T21:48:42.672147Z",
     "iopub.status.idle": "2025-07-30T21:48:55.575395Z",
     "shell.execute_reply": "2025-07-30T21:48:55.574225Z"
    },
    "papermill": {
     "duration": 12.916262,
     "end_time": "2025-07-30T21:48:55.577184",
     "exception": false,
     "start_time": "2025-07-30T21:48:42.660922",
     "status": "completed"
    },
    "tags": []
   },
   "outputs": [
    {
     "name": "stdout",
     "output_type": "stream",
     "text": [
      "Loading SIAB data from cache: data/siab_cached.csv.gz\n"
     ]
    },
    {
     "name": "stdout",
     "output_type": "stream",
     "text": [
      "(643690, 164)\n"
     ]
    }
   ],
   "source": [
    "from pathlib import Path\n",
    "import pandas as pd\n",
    "\n",
    "# File paths\n",
    "raw_file = Path(\"data/raw/siab.csv\")\n",
    "cache_file = Path(\"data/siab_cached.csv.gz\")\n",
    "\n",
    "# Ensure cache directory exists\n",
    "cache_file.parent.mkdir(parents=True, exist_ok=True)\n",
    "\n",
    "# Load with simple caching\n",
    "if cache_file.exists():\n",
    "    print(f\"Loading SIAB data from cache: {cache_file}\")\n",
    "    siab = pd.read_csv(cache_file, compression='gzip')\n",
    "else:\n",
    "    print(f\"Cache not found. Reading raw SIAB data: {raw_file}\")\n",
    "    siab = pd.read_csv(raw_file)\n",
    "    siab.to_csv(cache_file, index=False, compression='gzip')\n",
    "    print(f\"Cached SIAB data to: {cache_file}\")\n",
    "\n",
    "# Now use `siab` DataFrame as needed\n",
    "print(siab.shape)"
   ]
  },
  {
   "cell_type": "code",
   "execution_count": 10,
   "id": "db0ca512-5f53-4dba-abdb-a2888bca41ba",
   "metadata": {
    "execution": {
     "iopub.execute_input": "2025-07-30T21:48:55.624332Z",
     "iopub.status.busy": "2025-07-30T21:48:55.623386Z",
     "iopub.status.idle": "2025-07-30T21:48:55.630595Z",
     "shell.execute_reply": "2025-07-30T21:48:55.629632Z"
    },
    "papermill": {
     "duration": 0.033029,
     "end_time": "2025-07-30T21:48:55.634018",
     "exception": false,
     "start_time": "2025-07-30T21:48:55.600989",
     "status": "completed"
    },
    "tags": []
   },
   "outputs": [],
   "source": [
    "#siab"
   ]
  },
  {
   "cell_type": "code",
   "execution_count": 11,
   "id": "a0edb063",
   "metadata": {
    "execution": {
     "iopub.execute_input": "2025-07-30T21:48:55.678231Z",
     "iopub.status.busy": "2025-07-30T21:48:55.677720Z",
     "iopub.status.idle": "2025-07-30T21:48:55.684187Z",
     "shell.execute_reply": "2025-07-30T21:48:55.682283Z"
    },
    "papermill": {
     "duration": 0.030597,
     "end_time": "2025-07-30T21:48:55.686390",
     "exception": false,
     "start_time": "2025-07-30T21:48:55.655793",
     "status": "completed"
    },
    "tags": []
   },
   "outputs": [],
   "source": [
    "#import pandas as pd\n",
    "#\n",
    "#X_train = pd.read_csv(\"./data/X_train.csv\")\n",
    "#y_train = pd.read_csv(\"./data/y_train.csv\")"
   ]
  },
  {
   "cell_type": "code",
   "execution_count": 12,
   "id": "63d08085",
   "metadata": {
    "execution": {
     "iopub.execute_input": "2025-07-30T21:48:55.731516Z",
     "iopub.status.busy": "2025-07-30T21:48:55.730636Z",
     "iopub.status.idle": "2025-07-30T21:48:55.735959Z",
     "shell.execute_reply": "2025-07-30T21:48:55.734797Z"
    },
    "papermill": {
     "duration": 0.029882,
     "end_time": "2025-07-30T21:48:55.738238",
     "exception": false,
     "start_time": "2025-07-30T21:48:55.708356",
     "status": "completed"
    },
    "tags": []
   },
   "outputs": [],
   "source": [
    "#X_test = pd.read_csv(\"./data/X_test.csv\")\n",
    "#y_true = pd.read_csv(\"./data/y_test.csv\")"
   ]
  },
  {
   "cell_type": "code",
   "execution_count": 13,
   "id": "98a8d0fa-1d3d-4ed8-bb2c-281470e24add",
   "metadata": {
    "execution": {
     "iopub.execute_input": "2025-07-30T21:48:55.795371Z",
     "iopub.status.busy": "2025-07-30T21:48:55.794859Z",
     "iopub.status.idle": "2025-07-30T21:48:55.800650Z",
     "shell.execute_reply": "2025-07-30T21:48:55.799478Z"
    },
    "papermill": {
     "duration": 0.03394,
     "end_time": "2025-07-30T21:48:55.802545",
     "exception": false,
     "start_time": "2025-07-30T21:48:55.768605",
     "status": "completed"
    },
    "tags": []
   },
   "outputs": [],
   "source": [
    "# Calibration data for conformal\n",
    "#X_calib = pd.read_csv(\"./data/X_calib.csv\")\n",
    "#y_calib = pd.read_csv(\"./data/y_calib.csv\")"
   ]
  },
  {
   "cell_type": "markdown",
   "id": "997051c5-15bd-4b69-9786-c3001a3ce484",
   "metadata": {
    "papermill": {
     "duration": 0.029593,
     "end_time": "2025-07-30T21:48:55.862381",
     "exception": false,
     "start_time": "2025-07-30T21:48:55.832788",
     "status": "completed"
    },
    "tags": []
   },
   "source": [
    "# Splitting Data and Setting Training Data Size"
   ]
  },
  {
   "cell_type": "code",
   "execution_count": 14,
   "id": "e993b61f-042d-41a6-8c81-f55681f86335",
   "metadata": {
    "execution": {
     "iopub.execute_input": "2025-07-30T21:48:55.908566Z",
     "iopub.status.busy": "2025-07-30T21:48:55.907629Z",
     "iopub.status.idle": "2025-07-30T21:48:55.922183Z",
     "shell.execute_reply": "2025-07-30T21:48:55.920947Z"
    },
    "papermill": {
     "duration": 0.040209,
     "end_time": "2025-07-30T21:48:55.924286",
     "exception": false,
     "start_time": "2025-07-30T21:48:55.884077",
     "status": "completed"
    },
    "tags": []
   },
   "outputs": [],
   "source": [
    "def sample_by_year_size(df,\n",
    "                        training_year: str,\n",
    "                        training_size: str,\n",
    "                        random_state: int = 42):\n",
    "    # --- parse training_year into a list of int years ---\n",
    "    if \"_\" in training_year:\n",
    "        start_str, end_str = training_year.split(\"_\", 1)\n",
    "        start = int(start_str)\n",
    "        end   = int(end_str) if len(end_str) == 4 else (int(end_str) + (start // 100)*100)\n",
    "        years = list(range(start, end + 1))\n",
    "    else:\n",
    "        years = [int(training_year)]\n",
    "\n",
    "    df = df[df[\"year\"].isin(years)].reset_index(drop=True)\n",
    "\n",
    "    # --- map training_size to total number of samples ---\n",
    "    total_map = {\"25k\": 25_000, \"5k\": 5_000, \"1k\": 1_000}\n",
    "    if training_size not in total_map:\n",
    "        return df  # e.g. \"all\"\n",
    "\n",
    "    total_samples = total_map[training_size]\n",
    "    n_years       = len(years)\n",
    "    base          = total_samples // n_years\n",
    "    remainder     = total_samples % n_years\n",
    "\n",
    "    # --- build a dict: year -> how many to sample ---\n",
    "    # give +1 to the first `remainder` years in ascending order\n",
    "    quotas = {\n",
    "        year: base + (1 if idx < remainder else 0)\n",
    "        for idx, year in enumerate(sorted(years))\n",
    "    }\n",
    "\n",
    "    # --- sample per‐year according to the quota dict ---\n",
    "    sampled = (\n",
    "        df\n",
    "        .groupby(\"year\", group_keys=False)\n",
    "        .apply(lambda grp: grp.sample(\n",
    "            n=min(len(grp), quotas[grp.name]),\n",
    "            random_state=random_state))\n",
    "        .reset_index(drop=True)\n",
    "    )\n",
    "\n",
    "    return sampled"
   ]
  },
  {
   "cell_type": "code",
   "execution_count": 15,
   "id": "c0ccd338-0e02-41f3-a09d-f56f9266e3fb",
   "metadata": {
    "execution": {
     "iopub.execute_input": "2025-07-30T21:48:55.971346Z",
     "iopub.status.busy": "2025-07-30T21:48:55.970662Z",
     "iopub.status.idle": "2025-07-30T21:48:55.986697Z",
     "shell.execute_reply": "2025-07-30T21:48:55.985539Z"
    },
    "papermill": {
     "duration": 0.043329,
     "end_time": "2025-07-30T21:48:55.988813",
     "exception": false,
     "start_time": "2025-07-30T21:48:55.945484",
     "status": "completed"
    },
    "tags": []
   },
   "outputs": [],
   "source": [
    "#universe[\"training_size\"]"
   ]
  },
  {
   "cell_type": "code",
   "execution_count": 16,
   "id": "ca707fd7-8047-4acd-bfa5-66248fbbf8e6",
   "metadata": {
    "execution": {
     "iopub.execute_input": "2025-07-30T21:48:56.050833Z",
     "iopub.status.busy": "2025-07-30T21:48:56.050255Z",
     "iopub.status.idle": "2025-07-30T21:48:56.056526Z",
     "shell.execute_reply": "2025-07-30T21:48:56.055392Z"
    },
    "papermill": {
     "duration": 0.031973,
     "end_time": "2025-07-30T21:48:56.058583",
     "exception": false,
     "start_time": "2025-07-30T21:48:56.026610",
     "status": "completed"
    },
    "tags": []
   },
   "outputs": [],
   "source": [
    "#universe[\"training_year\"]"
   ]
  },
  {
   "cell_type": "code",
   "execution_count": 17,
   "id": "aea9c6ef-6f46-42c8-85eb-5a62025c1508",
   "metadata": {
    "execution": {
     "iopub.execute_input": "2025-07-30T21:48:56.113610Z",
     "iopub.status.busy": "2025-07-30T21:48:56.113080Z",
     "iopub.status.idle": "2025-07-30T21:48:57.148761Z",
     "shell.execute_reply": "2025-07-30T21:48:57.147811Z"
    },
    "papermill": {
     "duration": 1.065622,
     "end_time": "2025-07-30T21:48:57.150524",
     "exception": false,
     "start_time": "2025-07-30T21:48:56.084902",
     "status": "completed"
    },
    "tags": []
   },
   "outputs": [],
   "source": [
    "siab_train = sample_by_year_size(siab,\n",
    "                               training_year=universe[\"training_year\"],\n",
    "                               training_size=universe[\"training_size\"])"
   ]
  },
  {
   "cell_type": "code",
   "execution_count": 18,
   "id": "8d3afb32-789d-442c-8d5d-9f5aa8dd2eed",
   "metadata": {
    "execution": {
     "iopub.execute_input": "2025-07-30T21:48:57.202173Z",
     "iopub.status.busy": "2025-07-30T21:48:57.201222Z",
     "iopub.status.idle": "2025-07-30T21:48:57.209345Z",
     "shell.execute_reply": "2025-07-30T21:48:57.207956Z"
    },
    "papermill": {
     "duration": 0.038689,
     "end_time": "2025-07-30T21:48:57.211366",
     "exception": false,
     "start_time": "2025-07-30T21:48:57.172677",
     "status": "completed"
    },
    "tags": []
   },
   "outputs": [],
   "source": [
    "#siab_train.shape"
   ]
  },
  {
   "cell_type": "code",
   "execution_count": 19,
   "id": "d582db68-1a4c-47fb-84fc-08518dc1975a",
   "metadata": {
    "execution": {
     "iopub.execute_input": "2025-07-30T21:48:57.258582Z",
     "iopub.status.busy": "2025-07-30T21:48:57.257616Z",
     "iopub.status.idle": "2025-07-30T21:48:57.264677Z",
     "shell.execute_reply": "2025-07-30T21:48:57.263209Z"
    },
    "papermill": {
     "duration": 0.032814,
     "end_time": "2025-07-30T21:48:57.266486",
     "exception": false,
     "start_time": "2025-07-30T21:48:57.233672",
     "status": "completed"
    },
    "tags": []
   },
   "outputs": [],
   "source": [
    "#display(siab_train.groupby(\"year\").size())"
   ]
  },
  {
   "cell_type": "code",
   "execution_count": 20,
   "id": "a561edb4-d032-42cb-8256-22eac1111c64",
   "metadata": {
    "execution": {
     "iopub.execute_input": "2025-07-30T21:48:57.313242Z",
     "iopub.status.busy": "2025-07-30T21:48:57.312682Z",
     "iopub.status.idle": "2025-07-30T21:48:57.594423Z",
     "shell.execute_reply": "2025-07-30T21:48:57.593237Z"
    },
    "papermill": {
     "duration": 0.307912,
     "end_time": "2025-07-30T21:48:57.596982",
     "exception": false,
     "start_time": "2025-07-30T21:48:57.289070",
     "status": "completed"
    },
    "tags": []
   },
   "outputs": [],
   "source": [
    "#siab_train = siab_s[siab_s.year < 2015]\n",
    "siab_calib = siab[siab.year == 2015]\n",
    "siab_test = siab[siab.year == 2016]"
   ]
  },
  {
   "cell_type": "code",
   "execution_count": 21,
   "id": "472de16f-c3db-4916-846b-1f0de9cf1746",
   "metadata": {
    "execution": {
     "iopub.execute_input": "2025-07-30T21:48:57.642574Z",
     "iopub.status.busy": "2025-07-30T21:48:57.641935Z",
     "iopub.status.idle": "2025-07-30T21:48:57.648800Z",
     "shell.execute_reply": "2025-07-30T21:48:57.647887Z"
    },
    "papermill": {
     "duration": 0.031585,
     "end_time": "2025-07-30T21:48:57.651181",
     "exception": false,
     "start_time": "2025-07-30T21:48:57.619596",
     "status": "completed"
    },
    "tags": []
   },
   "outputs": [],
   "source": [
    "X_train = siab_train.iloc[:,4:164]\n",
    "y_train = siab_train.iloc[:, [3]]"
   ]
  },
  {
   "cell_type": "code",
   "execution_count": 22,
   "id": "828c96af-f43a-4ed6-ba47-8ac73a47d56c",
   "metadata": {
    "execution": {
     "iopub.execute_input": "2025-07-30T21:48:57.696509Z",
     "iopub.status.busy": "2025-07-30T21:48:57.695942Z",
     "iopub.status.idle": "2025-07-30T21:48:57.750202Z",
     "shell.execute_reply": "2025-07-30T21:48:57.749062Z"
    },
    "papermill": {
     "duration": 0.07925,
     "end_time": "2025-07-30T21:48:57.751852",
     "exception": false,
     "start_time": "2025-07-30T21:48:57.672602",
     "status": "completed"
    },
    "tags": []
   },
   "outputs": [],
   "source": [
    "X_calib = siab_calib.iloc[:,4:164]\n",
    "y_calib = siab_calib.iloc[:, [3]]"
   ]
  },
  {
   "cell_type": "code",
   "execution_count": 23,
   "id": "c34be9c3-6bd6-476e-acd3-845840e303be",
   "metadata": {
    "execution": {
     "iopub.execute_input": "2025-07-30T21:48:57.798230Z",
     "iopub.status.busy": "2025-07-30T21:48:57.797270Z",
     "iopub.status.idle": "2025-07-30T21:48:57.851226Z",
     "shell.execute_reply": "2025-07-30T21:48:57.849998Z"
    },
    "papermill": {
     "duration": 0.079563,
     "end_time": "2025-07-30T21:48:57.853727",
     "exception": false,
     "start_time": "2025-07-30T21:48:57.774164",
     "status": "completed"
    },
    "tags": []
   },
   "outputs": [],
   "source": [
    "X_test = siab_test.iloc[:,4:164]\n",
    "y_true = siab_test.iloc[:, [3]]"
   ]
  },
  {
   "cell_type": "markdown",
   "id": "9901737e-04df-44f0-9100-f5ad144ed040",
   "metadata": {
    "papermill": {
     "duration": 0.027273,
     "end_time": "2025-07-30T21:48:57.909675",
     "exception": false,
     "start_time": "2025-07-30T21:48:57.882402",
     "status": "completed"
    },
    "tags": []
   },
   "source": [
    "# Splitting Data and Setting Training Data Size OLD VERSION"
   ]
  },
  {
   "cell_type": "code",
   "execution_count": 24,
   "id": "acbc8f7d-8fc8-4e86-8c59-5dcb0f58384b",
   "metadata": {
    "execution": {
     "iopub.execute_input": "2025-07-30T21:48:57.965404Z",
     "iopub.status.busy": "2025-07-30T21:48:57.964887Z",
     "iopub.status.idle": "2025-07-30T21:48:57.978969Z",
     "shell.execute_reply": "2025-07-30T21:48:57.977740Z"
    },
    "papermill": {
     "duration": 0.044849,
     "end_time": "2025-07-30T21:48:57.981226",
     "exception": false,
     "start_time": "2025-07-30T21:48:57.936377",
     "status": "completed"
    },
    "tags": []
   },
   "outputs": [],
   "source": [
    "#def sample_by_year(df, training_size, random_state=42):\n",
    "#    if training_size == \"2014\":\n",
    "#        return df[df[\"year\"] == 2014].reset_index(drop=True)\n",
    "#    \n",
    "#    size_map = {\n",
    "#        \"25k\": 5000,\n",
    "#        \"5k\": 1000,\n",
    "#        \"1k\": 200\n",
    "#    }\n",
    "#\n",
    "#    if training_size not in size_map:\n",
    "#        return df.reset_index(drop=True)  # use all data\n",
    "#\n",
    "#    n_per_year = size_map[training_size]\n",
    "#    grouped = df.groupby(\"year\")\n",
    "#    sampled = grouped.apply(lambda x: x.sample(n=min(n_per_year, len(x)), random_state=random_state))\n",
    "#    return sampled.reset_index(drop=True)"
   ]
  },
  {
   "cell_type": "code",
   "execution_count": 25,
   "id": "6d931f52-beaf-43ff-9e78-9d44a448d54e",
   "metadata": {
    "execution": {
     "iopub.execute_input": "2025-07-30T21:48:58.047055Z",
     "iopub.status.busy": "2025-07-30T21:48:58.046412Z",
     "iopub.status.idle": "2025-07-30T21:48:58.051363Z",
     "shell.execute_reply": "2025-07-30T21:48:58.050527Z"
    },
    "papermill": {
     "duration": 0.043349,
     "end_time": "2025-07-30T21:48:58.052876",
     "exception": false,
     "start_time": "2025-07-30T21:48:58.009527",
     "status": "completed"
    },
    "tags": []
   },
   "outputs": [],
   "source": [
    "#siab_s = sample_by_year(siab, universe[\"training_size\"])"
   ]
  },
  {
   "cell_type": "code",
   "execution_count": 26,
   "id": "5db0a40e-a4e2-4920-be85-b12ae061d70d",
   "metadata": {
    "execution": {
     "iopub.execute_input": "2025-07-30T21:48:58.095657Z",
     "iopub.status.busy": "2025-07-30T21:48:58.095101Z",
     "iopub.status.idle": "2025-07-30T21:48:58.100707Z",
     "shell.execute_reply": "2025-07-30T21:48:58.099451Z"
    },
    "papermill": {
     "duration": 0.028533,
     "end_time": "2025-07-30T21:48:58.102443",
     "exception": false,
     "start_time": "2025-07-30T21:48:58.073910",
     "status": "completed"
    },
    "tags": []
   },
   "outputs": [],
   "source": [
    "#display(siab_s.groupby(\"year\").size())"
   ]
  },
  {
   "cell_type": "code",
   "execution_count": 27,
   "id": "e6c733c5",
   "metadata": {
    "execution": {
     "iopub.execute_input": "2025-07-30T21:48:58.145989Z",
     "iopub.status.busy": "2025-07-30T21:48:58.145485Z",
     "iopub.status.idle": "2025-07-30T21:48:58.239794Z",
     "shell.execute_reply": "2025-07-30T21:48:58.238823Z"
    },
    "papermill": {
     "duration": 0.118901,
     "end_time": "2025-07-30T21:48:58.241776",
     "exception": false,
     "start_time": "2025-07-30T21:48:58.122875",
     "status": "completed"
    },
    "tags": []
   },
   "outputs": [],
   "source": [
    "# Auxiliary data needed downstream in the pipeline\n",
    "\n",
    "org_train = X_train.copy()\n",
    "org_test = X_test.copy()\n",
    "org_calib = X_calib.copy()"
   ]
  },
  {
   "cell_type": "code",
   "execution_count": 28,
   "id": "1466abac-c6da-4492-a62f-4240ae3783af",
   "metadata": {
    "execution": {
     "iopub.execute_input": "2025-07-30T21:48:58.288877Z",
     "iopub.status.busy": "2025-07-30T21:48:58.288360Z",
     "iopub.status.idle": "2025-07-30T21:48:58.294368Z",
     "shell.execute_reply": "2025-07-30T21:48:58.293466Z"
    },
    "papermill": {
     "duration": 0.03283,
     "end_time": "2025-07-30T21:48:58.296285",
     "exception": false,
     "start_time": "2025-07-30T21:48:58.263455",
     "status": "completed"
    },
    "tags": []
   },
   "outputs": [],
   "source": [
    "# put in other script?\n",
    "# Group sizes\n",
    "\n",
    "#def calculate_percentages(df, df_name):\n",
    "#    total_entries = len(df)\n",
    "#\n",
    "#    female_pct = (df['frau1'] == 1).mean() * 100\n",
    "#    non_german_pct = ((df['maxdeutsch1'] == 0) & (df['maxdeutsch.Missing.'] == 0)).mean() * 100\n",
    "#    non_german_male_pct = ((df['frau1'] == 0) & (df['maxdeutsch1'] == 0) & (df['maxdeutsch.Missing.'] == 0)).mean() * 100\n",
    "#    non_german_female_pct = ((df['frau1'] == 1) & (df['maxdeutsch1'] == 0) & (df['maxdeutsch.Missing.'] == 0)).mean() * 100\n",
    "#\n",
    "#    print(f\"--- {df_name} ---\")\n",
    "#    print(f\"Female: {female_pct:.2f}%\")\n",
    "#    print(f\"Non-German: {non_german_pct:.2f}%\")\n",
    "#    print(f\"Non-German Male: {non_german_male_pct:.2f}%\")\n",
    "#    print(f\"Non-German Female: {non_german_female_pct:.2f}%\\n\")\n",
    "#\n",
    "## Calculate for each DataFrame\n",
    "#calculate_percentages(siab_calib, \"siab_calib\")\n",
    "#calculate_percentages(siab_test, \"siab_test\")\n",
    "#calculate_percentages(siab_train, \"siab_train\")"
   ]
  },
  {
   "cell_type": "markdown",
   "id": "0a4a1b33",
   "metadata": {
    "papermill": {
     "duration": 0.02776,
     "end_time": "2025-07-30T21:48:58.351717",
     "exception": false,
     "start_time": "2025-07-30T21:48:58.323957",
     "status": "completed"
    },
    "tags": []
   },
   "source": [
    "# Preprocessing Data"
   ]
  },
  {
   "cell_type": "code",
   "execution_count": 29,
   "id": "ca879031",
   "metadata": {
    "execution": {
     "iopub.execute_input": "2025-07-30T21:48:58.415607Z",
     "iopub.status.busy": "2025-07-30T21:48:58.415227Z",
     "iopub.status.idle": "2025-07-30T21:48:58.422233Z",
     "shell.execute_reply": "2025-07-30T21:48:58.421087Z"
    },
    "papermill": {
     "duration": 0.043142,
     "end_time": "2025-07-30T21:48:58.424349",
     "exception": false,
     "start_time": "2025-07-30T21:48:58.381207",
     "status": "completed"
    },
    "tags": []
   },
   "outputs": [],
   "source": [
    "# EXCLUDE PROTECTED FEATURES\n",
    "# ----------------------\n",
    "# \"exclude_features\": \"none\", # \"nationality\", \"sex\", \"nationality-sex\"\n",
    "\n",
    "excluded_features = universe[\"exclude_features\"].split(\"-\") # split, e.g.: \"nationality-sex\" -> [\"nationality\", \"sex\"]\n",
    "excluded_features_dictionary = {\n",
    "    \"nationality\": [\"maxdeutsch1\", \"maxdeutsch.Missing.\"],\n",
    "    \"sex\": [\"frau1\"],\n",
    "    \"age\": [\"age\"],\n",
    "}\n"
   ]
  },
  {
   "cell_type": "code",
   "execution_count": 30,
   "id": "b745ac60",
   "metadata": {
    "execution": {
     "iopub.execute_input": "2025-07-30T21:48:58.493651Z",
     "iopub.status.busy": "2025-07-30T21:48:58.493103Z",
     "iopub.status.idle": "2025-07-30T21:48:58.499860Z",
     "shell.execute_reply": "2025-07-30T21:48:58.498715Z"
    },
    "papermill": {
     "duration": 0.043921,
     "end_time": "2025-07-30T21:48:58.502046",
     "exception": false,
     "start_time": "2025-07-30T21:48:58.458125",
     "status": "completed"
    },
    "tags": []
   },
   "outputs": [],
   "source": [
    "# Code nice names to column names\n",
    "\n",
    "excluded_features_columns = [\n",
    "    excluded_features_dictionary[f] for f in excluded_features if len(f) > 0 and f != \"none\"\n",
    "]"
   ]
  },
  {
   "cell_type": "code",
   "execution_count": 31,
   "id": "f84f73a2",
   "metadata": {
    "execution": {
     "iopub.execute_input": "2025-07-30T21:48:58.569921Z",
     "iopub.status.busy": "2025-07-30T21:48:58.569394Z",
     "iopub.status.idle": "2025-07-30T21:48:58.576848Z",
     "shell.execute_reply": "2025-07-30T21:48:58.575685Z"
    },
    "papermill": {
     "duration": 0.043433,
     "end_time": "2025-07-30T21:48:58.579148",
     "exception": false,
     "start_time": "2025-07-30T21:48:58.535715",
     "status": "completed"
    },
    "tags": []
   },
   "outputs": [],
   "source": [
    "from utils import flatten_once\n",
    "\n",
    "excluded_features_columns = flatten_once(excluded_features_columns)"
   ]
  },
  {
   "cell_type": "code",
   "execution_count": 32,
   "id": "884dea22",
   "metadata": {
    "execution": {
     "iopub.execute_input": "2025-07-30T21:48:58.646370Z",
     "iopub.status.busy": "2025-07-30T21:48:58.645654Z",
     "iopub.status.idle": "2025-07-30T21:48:58.656876Z",
     "shell.execute_reply": "2025-07-30T21:48:58.655664Z"
    },
    "papermill": {
     "duration": 0.047495,
     "end_time": "2025-07-30T21:48:58.659450",
     "exception": false,
     "start_time": "2025-07-30T21:48:58.611955",
     "status": "completed"
    },
    "tags": []
   },
   "outputs": [
    {
     "name": "stdout",
     "output_type": "stream",
     "text": [
      "Dropping features: ['maxdeutsch1', 'maxdeutsch.Missing.', 'frau1']\n"
     ]
    }
   ],
   "source": [
    "if len(excluded_features_columns) > 0:\n",
    "    print(f\"Dropping features: {excluded_features_columns}\")\n",
    "    X_train.drop(excluded_features_columns, axis=1, inplace=True)"
   ]
  },
  {
   "cell_type": "code",
   "execution_count": 33,
   "id": "95ab8b16",
   "metadata": {
    "execution": {
     "iopub.execute_input": "2025-07-30T21:48:58.726392Z",
     "iopub.status.busy": "2025-07-30T21:48:58.725421Z",
     "iopub.status.idle": "2025-07-30T21:48:58.804810Z",
     "shell.execute_reply": "2025-07-30T21:48:58.803667Z"
    },
    "papermill": {
     "duration": 0.115775,
     "end_time": "2025-07-30T21:48:58.807471",
     "exception": false,
     "start_time": "2025-07-30T21:48:58.691696",
     "status": "completed"
    },
    "tags": []
   },
   "outputs": [
    {
     "name": "stdout",
     "output_type": "stream",
     "text": [
      "Dropping features: ['maxdeutsch1', 'maxdeutsch.Missing.', 'frau1']\n"
     ]
    }
   ],
   "source": [
    "if len(excluded_features_columns) > 0:\n",
    "    print(f\"Dropping features: {excluded_features_columns}\")\n",
    "    X_test.drop(excluded_features_columns, axis=1, inplace=True)"
   ]
  },
  {
   "cell_type": "code",
   "execution_count": 34,
   "id": "1853aaf5-fb9f-46cb-a2b5-8ea4ae2237e4",
   "metadata": {
    "execution": {
     "iopub.execute_input": "2025-07-30T21:48:58.876139Z",
     "iopub.status.busy": "2025-07-30T21:48:58.875292Z",
     "iopub.status.idle": "2025-07-30T21:48:58.932329Z",
     "shell.execute_reply": "2025-07-30T21:48:58.930561Z"
    },
    "papermill": {
     "duration": 0.093987,
     "end_time": "2025-07-30T21:48:58.934908",
     "exception": false,
     "start_time": "2025-07-30T21:48:58.840921",
     "status": "completed"
    },
    "tags": []
   },
   "outputs": [
    {
     "name": "stdout",
     "output_type": "stream",
     "text": [
      "Dropping features: ['maxdeutsch1', 'maxdeutsch.Missing.', 'frau1']\n"
     ]
    }
   ],
   "source": [
    "if len(excluded_features_columns) > 0:\n",
    "    print(f\"Dropping features: {excluded_features_columns}\")\n",
    "    X_calib.drop(excluded_features_columns, axis=1, inplace=True)"
   ]
  },
  {
   "cell_type": "code",
   "execution_count": 35,
   "id": "6727d079-03e5-481e-9d38-292a90b7a0a8",
   "metadata": {
    "execution": {
     "iopub.execute_input": "2025-07-30T21:48:59.003291Z",
     "iopub.status.busy": "2025-07-30T21:48:59.002382Z",
     "iopub.status.idle": "2025-07-30T21:48:59.008668Z",
     "shell.execute_reply": "2025-07-30T21:48:59.007271Z"
    },
    "papermill": {
     "duration": 0.043311,
     "end_time": "2025-07-30T21:48:59.010912",
     "exception": false,
     "start_time": "2025-07-30T21:48:58.967601",
     "status": "completed"
    },
    "tags": []
   },
   "outputs": [],
   "source": [
    "# SPLIT & STRATIFY DATA\n",
    "# ----------------------"
   ]
  },
  {
   "cell_type": "code",
   "execution_count": 36,
   "id": "76c4dc6d",
   "metadata": {
    "execution": {
     "iopub.execute_input": "2025-07-30T21:48:59.081282Z",
     "iopub.status.busy": "2025-07-30T21:48:59.080119Z",
     "iopub.status.idle": "2025-07-30T21:48:59.087409Z",
     "shell.execute_reply": "2025-07-30T21:48:59.086138Z"
    },
    "papermill": {
     "duration": 0.046074,
     "end_time": "2025-07-30T21:48:59.089849",
     "exception": false,
     "start_time": "2025-07-30T21:48:59.043775",
     "status": "completed"
    },
    "tags": []
   },
   "outputs": [],
   "source": [
    "# EXCLUDE CERTAIN SUBGROUPS\n",
    "# ----------------------\n",
    "\n",
    "mode = universe.get(\"exclude_subgroups\", \"keep-all\") \n",
    "# Fetches the exclude_subgroups setting from the universe dict.\n",
    "# Defaults to \"keep-all\" if the key is missing."
   ]
  },
  {
   "cell_type": "code",
   "execution_count": 37,
   "id": "21994072",
   "metadata": {
    "execution": {
     "iopub.execute_input": "2025-07-30T21:48:59.156833Z",
     "iopub.status.busy": "2025-07-30T21:48:59.155893Z",
     "iopub.status.idle": "2025-07-30T21:48:59.164949Z",
     "shell.execute_reply": "2025-07-30T21:48:59.163559Z"
    },
    "papermill": {
     "duration": 0.045316,
     "end_time": "2025-07-30T21:48:59.167384",
     "exception": false,
     "start_time": "2025-07-30T21:48:59.122068",
     "status": "completed"
    },
    "tags": []
   },
   "outputs": [],
   "source": [
    "if mode == \"keep-all\":\n",
    "    keep_mask = pd.Series(True, index=org_train.index)\n",
    "\n",
    "# org_train contains the original feature columns from features_org (in Simson)\n",
    "# features_org contains unprocessed features, for me X_train at beginning ???\n",
    "# For keep-all, creates a boolean Series (keep_mask) of all True, so no rows are removed.\n",
    "\n",
    "elif mode == \"drop-non-german\":\n",
    "    keep_mask = org_train[\"maxdeutsch1\"] == 1 # ??? what about missing values?\n",
    "\n",
    "else:\n",
    "    raise ValueError(f\"Unsupported mode for exclude_subgroups: {mode}\")\n"
   ]
  },
  {
   "cell_type": "code",
   "execution_count": 38,
   "id": "71651440",
   "metadata": {
    "execution": {
     "iopub.execute_input": "2025-07-30T21:48:59.232128Z",
     "iopub.status.busy": "2025-07-30T21:48:59.231557Z",
     "iopub.status.idle": "2025-07-30T21:48:59.243263Z",
     "shell.execute_reply": "2025-07-30T21:48:59.241643Z"
    },
    "papermill": {
     "duration": 0.046912,
     "end_time": "2025-07-30T21:48:59.245399",
     "exception": false,
     "start_time": "2025-07-30T21:48:59.198487",
     "status": "completed"
    },
    "tags": []
   },
   "outputs": [
    {
     "name": "stdout",
     "output_type": "stream",
     "text": [
      "Dropping 131 rows (13.10%) where mode='drop-non-german'\n"
     ]
    }
   ],
   "source": [
    "n_drop = (~keep_mask).sum() # Calculates how many rows are set to be dropped\n",
    "if n_drop > 0:\n",
    "    pct = n_drop / len(keep_mask) * 100\n",
    "    print(f\"Dropping {n_drop} rows ({pct:.2f}%) where mode='{mode}'\")"
   ]
  },
  {
   "cell_type": "code",
   "execution_count": 39,
   "id": "5fb8eee5",
   "metadata": {
    "execution": {
     "iopub.execute_input": "2025-07-30T21:48:59.322270Z",
     "iopub.status.busy": "2025-07-30T21:48:59.321511Z",
     "iopub.status.idle": "2025-07-30T21:48:59.328619Z",
     "shell.execute_reply": "2025-07-30T21:48:59.327530Z"
    },
    "papermill": {
     "duration": 0.052183,
     "end_time": "2025-07-30T21:48:59.330239",
     "exception": false,
     "start_time": "2025-07-30T21:48:59.278056",
     "status": "completed"
    },
    "tags": []
   },
   "outputs": [],
   "source": [
    "X_train = X_train[keep_mask]"
   ]
  },
  {
   "cell_type": "code",
   "execution_count": 40,
   "id": "b202bb3a",
   "metadata": {
    "execution": {
     "iopub.execute_input": "2025-07-30T21:48:59.377219Z",
     "iopub.status.busy": "2025-07-30T21:48:59.376852Z",
     "iopub.status.idle": "2025-07-30T21:48:59.381698Z",
     "shell.execute_reply": "2025-07-30T21:48:59.381018Z"
    },
    "papermill": {
     "duration": 0.029613,
     "end_time": "2025-07-30T21:48:59.383334",
     "exception": false,
     "start_time": "2025-07-30T21:48:59.353721",
     "status": "completed"
    },
    "tags": []
   },
   "outputs": [],
   "source": [
    "y_train = y_train[keep_mask]"
   ]
  },
  {
   "cell_type": "markdown",
   "id": "493e2ac3",
   "metadata": {
    "papermill": {
     "duration": 0.021959,
     "end_time": "2025-07-30T21:48:59.428838",
     "exception": false,
     "start_time": "2025-07-30T21:48:59.406879",
     "status": "completed"
    },
    "tags": []
   },
   "source": [
    "# Model Training"
   ]
  },
  {
   "cell_type": "code",
   "execution_count": 41,
   "id": "679e1268",
   "metadata": {
    "execution": {
     "iopub.execute_input": "2025-07-30T21:48:59.473848Z",
     "iopub.status.busy": "2025-07-30T21:48:59.473338Z",
     "iopub.status.idle": "2025-07-30T21:48:59.593831Z",
     "shell.execute_reply": "2025-07-30T21:48:59.593101Z"
    },
    "papermill": {
     "duration": 0.144178,
     "end_time": "2025-07-30T21:48:59.595245",
     "exception": false,
     "start_time": "2025-07-30T21:48:59.451067",
     "status": "completed"
    },
    "tags": []
   },
   "outputs": [],
   "source": [
    "from sklearn.linear_model import LogisticRegression\n",
    "from sklearn.ensemble import GradientBoostingClassifier, RandomForestClassifier\n",
    "\n",
    "if (universe[\"model\"] == \"logreg\"):\n",
    "    model = LogisticRegression() #penalty=\"none\") #, solver=\"newton-cg\", max_iter=1) # include random_state=19 ?\n",
    "elif (universe[\"model\"] == \"penalized_logreg\"):\n",
    "    model = LogisticRegression(penalty=\"l2\", C=1.0) #, solver=\"newton-cg\", max_iter=1)\n",
    "elif (universe[\"model\"] == \"rf\"):\n",
    "    model = RandomForestClassifier(n_estimators=100, n_jobs=-1)\n",
    "elif (universe[\"model\"] == \"gbm\"):\n",
    "    model = GradientBoostingClassifier()\n",
    "elif (universe[\"model\"] == \"elasticnet\"):\n",
    "    model = LogisticRegression(penalty = 'elasticnet', solver = 'saga', l1_ratio = 0.5, max_iter=5000) # which solver to use?\n",
    "else:\n",
    "    raise \"Unsupported universe.model\""
   ]
  },
  {
   "cell_type": "code",
   "execution_count": 42,
   "id": "0cc8f744",
   "metadata": {
    "execution": {
     "iopub.execute_input": "2025-07-30T21:48:59.625655Z",
     "iopub.status.busy": "2025-07-30T21:48:59.625303Z",
     "iopub.status.idle": "2025-07-30T21:48:59.630916Z",
     "shell.execute_reply": "2025-07-30T21:48:59.630160Z"
    },
    "papermill": {
     "duration": 0.020897,
     "end_time": "2025-07-30T21:48:59.632151",
     "exception": false,
     "start_time": "2025-07-30T21:48:59.611254",
     "status": "completed"
    },
    "tags": []
   },
   "outputs": [],
   "source": [
    "import numpy as np\n",
    "from sklearn.pipeline import Pipeline\n",
    "from sklearn.preprocessing import StandardScaler\n",
    "\n",
    "model = Pipeline([\n",
    "    #(\"continuous_processor\", continuous_processor),\n",
    "    #(\"categorical_preprocessor\", categorical_preprocessor),\n",
    "    (\"scale\", StandardScaler() if universe[\"scale\"] == \"scale\" else None), \n",
    "    (\"model\", model),\n",
    "])"
   ]
  },
  {
   "cell_type": "code",
   "execution_count": 43,
   "id": "9442c04d",
   "metadata": {
    "execution": {
     "iopub.execute_input": "2025-07-30T21:48:59.663578Z",
     "iopub.status.busy": "2025-07-30T21:48:59.663075Z",
     "iopub.status.idle": "2025-07-30T21:49:03.235446Z",
     "shell.execute_reply": "2025-07-30T21:49:03.234759Z"
    },
    "papermill": {
     "duration": 3.591497,
     "end_time": "2025-07-30T21:49:03.236740",
     "exception": false,
     "start_time": "2025-07-30T21:48:59.645243",
     "status": "completed"
    },
    "tags": []
   },
   "outputs": [
    {
     "data": {
      "text/html": [
       "<style>#sk-container-id-1 {color: black;background-color: white;}#sk-container-id-1 pre{padding: 0;}#sk-container-id-1 div.sk-toggleable {background-color: white;}#sk-container-id-1 label.sk-toggleable__label {cursor: pointer;display: block;width: 100%;margin-bottom: 0;padding: 0.3em;box-sizing: border-box;text-align: center;}#sk-container-id-1 label.sk-toggleable__label-arrow:before {content: \"▸\";float: left;margin-right: 0.25em;color: #696969;}#sk-container-id-1 label.sk-toggleable__label-arrow:hover:before {color: black;}#sk-container-id-1 div.sk-estimator:hover label.sk-toggleable__label-arrow:before {color: black;}#sk-container-id-1 div.sk-toggleable__content {max-height: 0;max-width: 0;overflow: hidden;text-align: left;background-color: #f0f8ff;}#sk-container-id-1 div.sk-toggleable__content pre {margin: 0.2em;color: black;border-radius: 0.25em;background-color: #f0f8ff;}#sk-container-id-1 input.sk-toggleable__control:checked~div.sk-toggleable__content {max-height: 200px;max-width: 100%;overflow: auto;}#sk-container-id-1 input.sk-toggleable__control:checked~label.sk-toggleable__label-arrow:before {content: \"▾\";}#sk-container-id-1 div.sk-estimator input.sk-toggleable__control:checked~label.sk-toggleable__label {background-color: #d4ebff;}#sk-container-id-1 div.sk-label input.sk-toggleable__control:checked~label.sk-toggleable__label {background-color: #d4ebff;}#sk-container-id-1 input.sk-hidden--visually {border: 0;clip: rect(1px 1px 1px 1px);clip: rect(1px, 1px, 1px, 1px);height: 1px;margin: -1px;overflow: hidden;padding: 0;position: absolute;width: 1px;}#sk-container-id-1 div.sk-estimator {font-family: monospace;background-color: #f0f8ff;border: 1px dotted black;border-radius: 0.25em;box-sizing: border-box;margin-bottom: 0.5em;}#sk-container-id-1 div.sk-estimator:hover {background-color: #d4ebff;}#sk-container-id-1 div.sk-parallel-item::after {content: \"\";width: 100%;border-bottom: 1px solid gray;flex-grow: 1;}#sk-container-id-1 div.sk-label:hover label.sk-toggleable__label {background-color: #d4ebff;}#sk-container-id-1 div.sk-serial::before {content: \"\";position: absolute;border-left: 1px solid gray;box-sizing: border-box;top: 0;bottom: 0;left: 50%;z-index: 0;}#sk-container-id-1 div.sk-serial {display: flex;flex-direction: column;align-items: center;background-color: white;padding-right: 0.2em;padding-left: 0.2em;position: relative;}#sk-container-id-1 div.sk-item {position: relative;z-index: 1;}#sk-container-id-1 div.sk-parallel {display: flex;align-items: stretch;justify-content: center;background-color: white;position: relative;}#sk-container-id-1 div.sk-item::before, #sk-container-id-1 div.sk-parallel-item::before {content: \"\";position: absolute;border-left: 1px solid gray;box-sizing: border-box;top: 0;bottom: 0;left: 50%;z-index: -1;}#sk-container-id-1 div.sk-parallel-item {display: flex;flex-direction: column;z-index: 1;position: relative;background-color: white;}#sk-container-id-1 div.sk-parallel-item:first-child::after {align-self: flex-end;width: 50%;}#sk-container-id-1 div.sk-parallel-item:last-child::after {align-self: flex-start;width: 50%;}#sk-container-id-1 div.sk-parallel-item:only-child::after {width: 0;}#sk-container-id-1 div.sk-dashed-wrapped {border: 1px dashed gray;margin: 0 0.4em 0.5em 0.4em;box-sizing: border-box;padding-bottom: 0.4em;background-color: white;}#sk-container-id-1 div.sk-label label {font-family: monospace;font-weight: bold;display: inline-block;line-height: 1.2em;}#sk-container-id-1 div.sk-label-container {text-align: center;}#sk-container-id-1 div.sk-container {/* jupyter's `normalize.less` sets `[hidden] { display: none; }` but bootstrap.min.css set `[hidden] { display: none !important; }` so we also need the `!important` here to be able to override the default hidden behavior on the sphinx rendered scikit-learn.org. See: https://github.com/scikit-learn/scikit-learn/issues/21755 */display: inline-block !important;position: relative;}#sk-container-id-1 div.sk-text-repr-fallback {display: none;}</style><div id=\"sk-container-id-1\" class=\"sk-top-container\"><div class=\"sk-text-repr-fallback\"><pre>Pipeline(steps=[(&#x27;scale&#x27;, StandardScaler()),\n",
       "                (&#x27;model&#x27;,\n",
       "                 LogisticRegression(l1_ratio=0.5, max_iter=5000,\n",
       "                                    penalty=&#x27;elasticnet&#x27;, solver=&#x27;saga&#x27;))])</pre><b>In a Jupyter environment, please rerun this cell to show the HTML representation or trust the notebook. <br />On GitHub, the HTML representation is unable to render, please try loading this page with nbviewer.org.</b></div><div class=\"sk-container\" hidden><div class=\"sk-item sk-dashed-wrapped\"><div class=\"sk-label-container\"><div class=\"sk-label sk-toggleable\"><input class=\"sk-toggleable__control sk-hidden--visually\" id=\"sk-estimator-id-1\" type=\"checkbox\" ><label for=\"sk-estimator-id-1\" class=\"sk-toggleable__label sk-toggleable__label-arrow\">Pipeline</label><div class=\"sk-toggleable__content\"><pre>Pipeline(steps=[(&#x27;scale&#x27;, StandardScaler()),\n",
       "                (&#x27;model&#x27;,\n",
       "                 LogisticRegression(l1_ratio=0.5, max_iter=5000,\n",
       "                                    penalty=&#x27;elasticnet&#x27;, solver=&#x27;saga&#x27;))])</pre></div></div></div><div class=\"sk-serial\"><div class=\"sk-item\"><div class=\"sk-estimator sk-toggleable\"><input class=\"sk-toggleable__control sk-hidden--visually\" id=\"sk-estimator-id-2\" type=\"checkbox\" ><label for=\"sk-estimator-id-2\" class=\"sk-toggleable__label sk-toggleable__label-arrow\">StandardScaler</label><div class=\"sk-toggleable__content\"><pre>StandardScaler()</pre></div></div></div><div class=\"sk-item\"><div class=\"sk-estimator sk-toggleable\"><input class=\"sk-toggleable__control sk-hidden--visually\" id=\"sk-estimator-id-3\" type=\"checkbox\" ><label for=\"sk-estimator-id-3\" class=\"sk-toggleable__label sk-toggleable__label-arrow\">LogisticRegression</label><div class=\"sk-toggleable__content\"><pre>LogisticRegression(l1_ratio=0.5, max_iter=5000, penalty=&#x27;elasticnet&#x27;,\n",
       "                   solver=&#x27;saga&#x27;)</pre></div></div></div></div></div></div></div>"
      ],
      "text/plain": [
       "Pipeline(steps=[('scale', StandardScaler()),\n",
       "                ('model',\n",
       "                 LogisticRegression(l1_ratio=0.5, max_iter=5000,\n",
       "                                    penalty='elasticnet', solver='saga'))])"
      ]
     },
     "execution_count": 43,
     "metadata": {},
     "output_type": "execute_result"
    }
   ],
   "source": [
    "model.fit(X_train, y_train.values.ravel())"
   ]
  },
  {
   "cell_type": "code",
   "execution_count": 44,
   "id": "af59f8c0",
   "metadata": {
    "execution": {
     "iopub.execute_input": "2025-07-30T21:49:03.277827Z",
     "iopub.status.busy": "2025-07-30T21:49:03.277423Z",
     "iopub.status.idle": "2025-07-30T21:49:03.282827Z",
     "shell.execute_reply": "2025-07-30T21:49:03.281745Z"
    },
    "papermill": {
     "duration": 0.033038,
     "end_time": "2025-07-30T21:49:03.284608",
     "exception": false,
     "start_time": "2025-07-30T21:49:03.251570",
     "status": "completed"
    },
    "tags": []
   },
   "outputs": [],
   "source": [
    "from fairness_multiverse.universe import predict_w_threshold"
   ]
  },
  {
   "cell_type": "code",
   "execution_count": 45,
   "id": "a7cf2e16",
   "metadata": {
    "execution": {
     "iopub.execute_input": "2025-07-30T21:49:03.342145Z",
     "iopub.status.busy": "2025-07-30T21:49:03.341428Z",
     "iopub.status.idle": "2025-07-30T21:49:03.547817Z",
     "shell.execute_reply": "2025-07-30T21:49:03.547132Z"
    },
    "papermill": {
     "duration": 0.237175,
     "end_time": "2025-07-30T21:49:03.549112",
     "exception": false,
     "start_time": "2025-07-30T21:49:03.311937",
     "status": "completed"
    },
    "tags": []
   },
   "outputs": [
    {
     "data": {
      "text/plain": [
       "0.8282911604057519"
      ]
     },
     "execution_count": 45,
     "metadata": {},
     "output_type": "execute_result"
    }
   ],
   "source": [
    "probs_test = model.predict_proba(X_test)\n",
    "\n",
    "'''\n",
    "Below code returns a boolean array (or binary 0/1 array depending on how it’s used) where each element \n",
    "is True if the probability of class 1 is greater than or equal to the threshold, and False otherwise.\n",
    "'''\n",
    "y_pred_default = predict_w_threshold(probs_test, 0.5)\n",
    "\n",
    "from sklearn.metrics import accuracy_score\n",
    "\n",
    "# Naive prediction\n",
    "accuracy_score(y_true = y_true, y_pred = y_pred_default)"
   ]
  },
  {
   "cell_type": "code",
   "execution_count": 46,
   "id": "081964c3",
   "metadata": {
    "execution": {
     "iopub.execute_input": "2025-07-30T21:49:03.575960Z",
     "iopub.status.busy": "2025-07-30T21:49:03.575458Z",
     "iopub.status.idle": "2025-07-30T21:49:03.748095Z",
     "shell.execute_reply": "2025-07-30T21:49:03.746915Z"
    },
    "papermill": {
     "duration": 0.18805,
     "end_time": "2025-07-30T21:49:03.749882",
     "exception": false,
     "start_time": "2025-07-30T21:49:03.561832",
     "status": "completed"
    },
    "tags": []
   },
   "outputs": [
    {
     "data": {
      "text/plain": [
       "array([0, 0, 0, ..., 0, 0, 0])"
      ]
     },
     "execution_count": 46,
     "metadata": {},
     "output_type": "execute_result"
    }
   ],
   "source": [
    "model.predict(X_test)"
   ]
  },
  {
   "cell_type": "markdown",
   "id": "56c9705b",
   "metadata": {
    "papermill": {
     "duration": 0.016525,
     "end_time": "2025-07-30T21:49:03.808701",
     "exception": false,
     "start_time": "2025-07-30T21:49:03.792176",
     "status": "completed"
    },
    "tags": []
   },
   "source": [
    "# Conformal Prediction"
   ]
  },
  {
   "cell_type": "code",
   "execution_count": 47,
   "id": "160ec6ff",
   "metadata": {
    "execution": {
     "iopub.execute_input": "2025-07-30T21:49:03.837350Z",
     "iopub.status.busy": "2025-07-30T21:49:03.836992Z",
     "iopub.status.idle": "2025-07-30T21:49:03.841405Z",
     "shell.execute_reply": "2025-07-30T21:49:03.840765Z"
    },
    "papermill": {
     "duration": 0.022342,
     "end_time": "2025-07-30T21:49:03.842744",
     "exception": false,
     "start_time": "2025-07-30T21:49:03.820402",
     "status": "completed"
    },
    "tags": []
   },
   "outputs": [],
   "source": [
    "# Miscoverage level for conformal prediction (10% allowed error rate => 90% target coverage)\n",
    "alpha = 0.1"
   ]
  },
  {
   "cell_type": "code",
   "execution_count": 48,
   "id": "eadf4555-3dd3-440e-8e35-f82a4ad9f855",
   "metadata": {
    "execution": {
     "iopub.execute_input": "2025-07-30T21:49:03.873875Z",
     "iopub.status.busy": "2025-07-30T21:49:03.872995Z",
     "iopub.status.idle": "2025-07-30T21:49:04.062146Z",
     "shell.execute_reply": "2025-07-30T21:49:04.061182Z"
    },
    "papermill": {
     "duration": 0.208323,
     "end_time": "2025-07-30T21:49:04.063699",
     "exception": false,
     "start_time": "2025-07-30T21:49:03.855376",
     "status": "completed"
    },
    "tags": []
   },
   "outputs": [],
   "source": [
    "probs_calib = model.predict_proba(X_calib)"
   ]
  },
  {
   "cell_type": "code",
   "execution_count": 49,
   "id": "2ed93547-6d5d-4983-9b36-1ecb300da49a",
   "metadata": {
    "execution": {
     "iopub.execute_input": "2025-07-30T21:49:04.095674Z",
     "iopub.status.busy": "2025-07-30T21:49:04.095177Z",
     "iopub.status.idle": "2025-07-30T21:49:04.100636Z",
     "shell.execute_reply": "2025-07-30T21:49:04.099564Z"
    },
    "papermill": {
     "duration": 0.021149,
     "end_time": "2025-07-30T21:49:04.102672",
     "exception": false,
     "start_time": "2025-07-30T21:49:04.081523",
     "status": "completed"
    },
    "tags": []
   },
   "outputs": [],
   "source": [
    "y_calib = y_calib.values.ravel().astype(int)"
   ]
  },
  {
   "cell_type": "code",
   "execution_count": 50,
   "id": "65d1320d-f588-4b38-9072-62af1ae97f7d",
   "metadata": {
    "execution": {
     "iopub.execute_input": "2025-07-30T21:49:04.130779Z",
     "iopub.status.busy": "2025-07-30T21:49:04.130397Z",
     "iopub.status.idle": "2025-07-30T21:49:04.136290Z",
     "shell.execute_reply": "2025-07-30T21:49:04.135280Z"
    },
    "papermill": {
     "duration": 0.021427,
     "end_time": "2025-07-30T21:49:04.138728",
     "exception": false,
     "start_time": "2025-07-30T21:49:04.117301",
     "status": "completed"
    },
    "tags": []
   },
   "outputs": [],
   "source": [
    "from fairness_multiverse.conformal import compute_nc_scores\n",
    "\n",
    "# Compute nonconformity scores on calibration set (1 - probability of true class)\n",
    "nc_scores = compute_nc_scores(probs_calib, y_calib)"
   ]
  },
  {
   "cell_type": "code",
   "execution_count": 51,
   "id": "df3b8ca3-53b7-43d5-9667-7c85da7aeda2",
   "metadata": {
    "execution": {
     "iopub.execute_input": "2025-07-30T21:49:04.179128Z",
     "iopub.status.busy": "2025-07-30T21:49:04.178668Z",
     "iopub.status.idle": "2025-07-30T21:49:04.185598Z",
     "shell.execute_reply": "2025-07-30T21:49:04.184504Z"
    },
    "papermill": {
     "duration": 0.033483,
     "end_time": "2025-07-30T21:49:04.187490",
     "exception": false,
     "start_time": "2025-07-30T21:49:04.154007",
     "status": "completed"
    },
    "tags": []
   },
   "outputs": [],
   "source": [
    "from fairness_multiverse.conformal import find_threshold\n",
    "\n",
    "# Find conformal threshold q_hat for the given alpha (split conformal method)\n",
    "q_hat = find_threshold(nc_scores, alpha)"
   ]
  },
  {
   "cell_type": "code",
   "execution_count": 52,
   "id": "4d29e6c1-0ef6-4aa4-b8fe-4fe79b0d033a",
   "metadata": {
    "execution": {
     "iopub.execute_input": "2025-07-30T21:49:04.253244Z",
     "iopub.status.busy": "2025-07-30T21:49:04.252521Z",
     "iopub.status.idle": "2025-07-30T21:49:04.261158Z",
     "shell.execute_reply": "2025-07-30T21:49:04.260105Z"
    },
    "papermill": {
     "duration": 0.043652,
     "end_time": "2025-07-30T21:49:04.262942",
     "exception": false,
     "start_time": "2025-07-30T21:49:04.219290",
     "status": "completed"
    },
    "tags": []
   },
   "outputs": [
    {
     "data": {
      "text/plain": [
       "0.766690117232604"
      ]
     },
     "execution_count": 52,
     "metadata": {},
     "output_type": "execute_result"
    }
   ],
   "source": [
    "q_hat"
   ]
  },
  {
   "cell_type": "code",
   "execution_count": 53,
   "id": "92460794-cdac-4be2-ba28-f28c0515a6fb",
   "metadata": {
    "execution": {
     "iopub.execute_input": "2025-07-30T21:49:04.318994Z",
     "iopub.status.busy": "2025-07-30T21:49:04.318079Z",
     "iopub.status.idle": "2025-07-30T21:49:05.510339Z",
     "shell.execute_reply": "2025-07-30T21:49:05.509328Z"
    },
    "papermill": {
     "duration": 1.222292,
     "end_time": "2025-07-30T21:49:05.512324",
     "exception": false,
     "start_time": "2025-07-30T21:49:04.290032",
     "status": "completed"
    },
    "tags": []
   },
   "outputs": [],
   "source": [
    "from fairness_multiverse.conformal import predict_conformal_sets\n",
    "\n",
    "# Generate prediction sets for each test example\n",
    "pred_sets = predict_conformal_sets(model, X_test, q_hat)"
   ]
  },
  {
   "cell_type": "code",
   "execution_count": 54,
   "id": "d90c9a65-e6db-4f5d-80cd-e68fb7e46829",
   "metadata": {
    "execution": {
     "iopub.execute_input": "2025-07-30T21:49:05.566709Z",
     "iopub.status.busy": "2025-07-30T21:49:05.565808Z",
     "iopub.status.idle": "2025-07-30T21:49:05.571469Z",
     "shell.execute_reply": "2025-07-30T21:49:05.570395Z"
    },
    "papermill": {
     "duration": 0.03493,
     "end_time": "2025-07-30T21:49:05.573272",
     "exception": false,
     "start_time": "2025-07-30T21:49:05.538342",
     "status": "completed"
    },
    "tags": []
   },
   "outputs": [],
   "source": [
    "y_true = y_true.squeeze()"
   ]
  },
  {
   "cell_type": "code",
   "execution_count": 55,
   "id": "3a58a54a-1e68-46b9-927a-df01f18aebc8",
   "metadata": {
    "execution": {
     "iopub.execute_input": "2025-07-30T21:49:05.625911Z",
     "iopub.status.busy": "2025-07-30T21:49:05.625407Z",
     "iopub.status.idle": "2025-07-30T21:49:06.509813Z",
     "shell.execute_reply": "2025-07-30T21:49:06.508833Z"
    },
    "papermill": {
     "duration": 0.911891,
     "end_time": "2025-07-30T21:49:06.511264",
     "exception": false,
     "start_time": "2025-07-30T21:49:05.599373",
     "status": "completed"
    },
    "tags": []
   },
   "outputs": [],
   "source": [
    "from fairness_multiverse.conformal import evaluate_sets\n",
    "\n",
    "# Evaluate coverage and average set size on test data\n",
    "metrics = evaluate_sets(pred_sets, y_true)"
   ]
  },
  {
   "cell_type": "markdown",
   "id": "2b569c12-9aaa-4c88-98c9-bbcd0cf3ebb8",
   "metadata": {
    "papermill": {
     "duration": 0.026162,
     "end_time": "2025-07-30T21:49:06.564734",
     "exception": false,
     "start_time": "2025-07-30T21:49:06.538572",
     "status": "completed"
    },
    "tags": []
   },
   "source": [
    "# CP Metrics"
   ]
  },
  {
   "cell_type": "code",
   "execution_count": 56,
   "id": "5ce0a5cb-201f-45a0-ade5-94c7f0bd6095",
   "metadata": {
    "execution": {
     "iopub.execute_input": "2025-07-30T21:49:06.623023Z",
     "iopub.status.busy": "2025-07-30T21:49:06.622464Z",
     "iopub.status.idle": "2025-07-30T21:49:06.629707Z",
     "shell.execute_reply": "2025-07-30T21:49:06.628739Z"
    },
    "papermill": {
     "duration": 0.04033,
     "end_time": "2025-07-30T21:49:06.631463",
     "exception": false,
     "start_time": "2025-07-30T21:49:06.591133",
     "status": "completed"
    },
    "tags": []
   },
   "outputs": [
    {
     "data": {
      "text/plain": [
       "{'coverage': 0.9095195630364508, 'avg_size': 1.2170438078252146}"
      ]
     },
     "execution_count": 56,
     "metadata": {},
     "output_type": "execute_result"
    }
   ],
   "source": [
    "metrics"
   ]
  },
  {
   "cell_type": "code",
   "execution_count": 57,
   "id": "9b9a838d-31c9-430b-ae14-12baee460d17",
   "metadata": {
    "execution": {
     "iopub.execute_input": "2025-07-30T21:49:06.681967Z",
     "iopub.status.busy": "2025-07-30T21:49:06.681443Z",
     "iopub.status.idle": "2025-07-30T21:49:06.688446Z",
     "shell.execute_reply": "2025-07-30T21:49:06.687267Z"
    },
    "papermill": {
     "duration": 0.035125,
     "end_time": "2025-07-30T21:49:06.690027",
     "exception": false,
     "start_time": "2025-07-30T21:49:06.654902",
     "status": "completed"
    },
    "tags": []
   },
   "outputs": [],
   "source": [
    "example_universe = universe.copy()\n",
    "universe_training_year = example_universe.get(\"training_year\")\n",
    "universe_training_size = example_universe.get(\"training_size\")\n",
    "universe_scale = example_universe.get(\"scale\")\n",
    "universe_model = example_universe.get(\"model\")\n",
    "universe_exclude_features = example_universe.get(\"exclude_features\")\n",
    "universe_exclude_subgroups = example_universe.get(\"exclude_subgroups\")"
   ]
  },
  {
   "cell_type": "code",
   "execution_count": 58,
   "id": "f4b6a8ac-9dc0-4245-8a91-5b3b5999c4f9",
   "metadata": {
    "execution": {
     "iopub.execute_input": "2025-07-30T21:49:06.738260Z",
     "iopub.status.busy": "2025-07-30T21:49:06.737825Z",
     "iopub.status.idle": "2025-07-30T21:49:06.744596Z",
     "shell.execute_reply": "2025-07-30T21:49:06.743654Z"
    },
    "papermill": {
     "duration": 0.032591,
     "end_time": "2025-07-30T21:49:06.746298",
     "exception": false,
     "start_time": "2025-07-30T21:49:06.713707",
     "status": "completed"
    },
    "tags": []
   },
   "outputs": [],
   "source": [
    "cp_metrics_dict = {\n",
    "    \"universe_id\": [universe_id],\n",
    "    \"universe_training_year\": [universe_training_year],\n",
    "    \"universe_training_size\": [universe_training_size],\n",
    "    \"universe_scale\": [universe_scale],\n",
    "    \"universe_model\": [universe_model],\n",
    "    \"universe_exclude_features\": [universe_exclude_features],\n",
    "    \"universe_exclude_subgroups\": [universe_exclude_subgroups],\n",
    "    \"q_hat\": [q_hat],\n",
    "    \"coverage\": [metrics[\"coverage\"]],\n",
    "    \"avg_size\": [metrics[\"avg_size\"]],\n",
    "}"
   ]
  },
  {
   "cell_type": "code",
   "execution_count": 59,
   "id": "908acbb1-0371-4915-85ca-3fa520d2efe2",
   "metadata": {
    "execution": {
     "iopub.execute_input": "2025-07-30T21:49:06.796168Z",
     "iopub.status.busy": "2025-07-30T21:49:06.795657Z",
     "iopub.status.idle": "2025-07-30T21:49:06.802888Z",
     "shell.execute_reply": "2025-07-30T21:49:06.802007Z"
    },
    "papermill": {
     "duration": 0.035109,
     "end_time": "2025-07-30T21:49:06.804496",
     "exception": false,
     "start_time": "2025-07-30T21:49:06.769387",
     "status": "completed"
    },
    "tags": []
   },
   "outputs": [
    {
     "data": {
      "text/plain": [
       "{'universe_id': ['010bed1451d998ddb26c4fc5e95e70b6'],\n",
       " 'universe_training_year': ['2010_14'],\n",
       " 'universe_training_size': ['1k'],\n",
       " 'universe_scale': ['scale'],\n",
       " 'universe_model': ['elasticnet'],\n",
       " 'universe_exclude_features': ['nationality-sex'],\n",
       " 'universe_exclude_subgroups': ['drop-non-german'],\n",
       " 'q_hat': [0.766690117232604],\n",
       " 'coverage': [0.9095195630364508],\n",
       " 'avg_size': [1.2170438078252146]}"
      ]
     },
     "execution_count": 59,
     "metadata": {},
     "output_type": "execute_result"
    }
   ],
   "source": [
    "cp_metrics_dict"
   ]
  },
  {
   "cell_type": "code",
   "execution_count": 60,
   "id": "33007efc-14e9-4ec6-97ac-56a455c82265",
   "metadata": {
    "execution": {
     "iopub.execute_input": "2025-07-30T21:49:06.854121Z",
     "iopub.status.busy": "2025-07-30T21:49:06.853632Z",
     "iopub.status.idle": "2025-07-30T21:49:06.860084Z",
     "shell.execute_reply": "2025-07-30T21:49:06.859211Z"
    },
    "papermill": {
     "duration": 0.032227,
     "end_time": "2025-07-30T21:49:06.861598",
     "exception": false,
     "start_time": "2025-07-30T21:49:06.829371",
     "status": "completed"
    },
    "tags": []
   },
   "outputs": [],
   "source": [
    "cp_metrics_df = pd.DataFrame(cp_metrics_dict)"
   ]
  },
  {
   "cell_type": "code",
   "execution_count": 61,
   "id": "db12611b-57b2-4910-b9d0-355adfd6e7bf",
   "metadata": {
    "execution": {
     "iopub.execute_input": "2025-07-30T21:49:06.910652Z",
     "iopub.status.busy": "2025-07-30T21:49:06.909929Z",
     "iopub.status.idle": "2025-07-30T21:49:06.927821Z",
     "shell.execute_reply": "2025-07-30T21:49:06.926930Z"
    },
    "papermill": {
     "duration": 0.044707,
     "end_time": "2025-07-30T21:49:06.929364",
     "exception": false,
     "start_time": "2025-07-30T21:49:06.884657",
     "status": "completed"
    },
    "tags": []
   },
   "outputs": [
    {
     "data": {
      "text/html": [
       "<div>\n",
       "<style scoped>\n",
       "    .dataframe tbody tr th:only-of-type {\n",
       "        vertical-align: middle;\n",
       "    }\n",
       "\n",
       "    .dataframe tbody tr th {\n",
       "        vertical-align: top;\n",
       "    }\n",
       "\n",
       "    .dataframe thead th {\n",
       "        text-align: right;\n",
       "    }\n",
       "</style>\n",
       "<table border=\"1\" class=\"dataframe\">\n",
       "  <thead>\n",
       "    <tr style=\"text-align: right;\">\n",
       "      <th></th>\n",
       "      <th>universe_id</th>\n",
       "      <th>universe_training_year</th>\n",
       "      <th>universe_training_size</th>\n",
       "      <th>universe_scale</th>\n",
       "      <th>universe_model</th>\n",
       "      <th>universe_exclude_features</th>\n",
       "      <th>universe_exclude_subgroups</th>\n",
       "      <th>q_hat</th>\n",
       "      <th>coverage</th>\n",
       "      <th>avg_size</th>\n",
       "    </tr>\n",
       "  </thead>\n",
       "  <tbody>\n",
       "    <tr>\n",
       "      <th>0</th>\n",
       "      <td>010bed1451d998ddb26c4fc5e95e70b6</td>\n",
       "      <td>2010_14</td>\n",
       "      <td>1k</td>\n",
       "      <td>scale</td>\n",
       "      <td>elasticnet</td>\n",
       "      <td>nationality-sex</td>\n",
       "      <td>drop-non-german</td>\n",
       "      <td>0.76669</td>\n",
       "      <td>0.90952</td>\n",
       "      <td>1.217044</td>\n",
       "    </tr>\n",
       "  </tbody>\n",
       "</table>\n",
       "</div>"
      ],
      "text/plain": [
       "                        universe_id universe_training_year  \\\n",
       "0  010bed1451d998ddb26c4fc5e95e70b6                2010_14   \n",
       "\n",
       "  universe_training_size universe_scale universe_model  \\\n",
       "0                     1k          scale     elasticnet   \n",
       "\n",
       "  universe_exclude_features universe_exclude_subgroups    q_hat  coverage  \\\n",
       "0           nationality-sex            drop-non-german  0.76669   0.90952   \n",
       "\n",
       "   avg_size  \n",
       "0  1.217044  "
      ]
     },
     "execution_count": 61,
     "metadata": {},
     "output_type": "execute_result"
    }
   ],
   "source": [
    "cp_metrics_df"
   ]
  },
  {
   "cell_type": "code",
   "execution_count": 62,
   "id": "b7fbde55-a0a1-47e4-9af6-fe4a17fa8c61",
   "metadata": {
    "execution": {
     "iopub.execute_input": "2025-07-30T21:49:06.978112Z",
     "iopub.status.busy": "2025-07-30T21:49:06.977624Z",
     "iopub.status.idle": "2025-07-30T21:49:06.982370Z",
     "shell.execute_reply": "2025-07-30T21:49:06.981351Z"
    },
    "papermill": {
     "duration": 0.029961,
     "end_time": "2025-07-30T21:49:06.983988",
     "exception": false,
     "start_time": "2025-07-30T21:49:06.954027",
     "status": "completed"
    },
    "tags": []
   },
   "outputs": [],
   "source": [
    "# Conditional Coverage & looking at subgroups"
   ]
  },
  {
   "cell_type": "code",
   "execution_count": 63,
   "id": "027ae886-68dd-4141-96c7-805a5450e1ef",
   "metadata": {
    "execution": {
     "iopub.execute_input": "2025-07-30T21:49:07.033225Z",
     "iopub.status.busy": "2025-07-30T21:49:07.032770Z",
     "iopub.status.idle": "2025-07-30T21:49:07.283872Z",
     "shell.execute_reply": "2025-07-30T21:49:07.282952Z"
    },
    "papermill": {
     "duration": 0.277312,
     "end_time": "2025-07-30T21:49:07.285965",
     "exception": false,
     "start_time": "2025-07-30T21:49:07.008653",
     "status": "completed"
    },
    "tags": []
   },
   "outputs": [],
   "source": [
    "from fairness_multiverse.conformal import build_cp_groups\n",
    "\n",
    "cp_groups_df = build_cp_groups(pred_sets, y_true, X_test.index, org_test)\n",
    "#needs universe_id and setting"
   ]
  },
  {
   "cell_type": "code",
   "execution_count": 64,
   "id": "01d5802c-663a-4d1f-9d69-e036faaffbf7",
   "metadata": {
    "execution": {
     "iopub.execute_input": "2025-07-30T21:49:07.339029Z",
     "iopub.status.busy": "2025-07-30T21:49:07.338485Z",
     "iopub.status.idle": "2025-07-30T21:49:07.343374Z",
     "shell.execute_reply": "2025-07-30T21:49:07.342471Z"
    },
    "papermill": {
     "duration": 0.032112,
     "end_time": "2025-07-30T21:49:07.345125",
     "exception": false,
     "start_time": "2025-07-30T21:49:07.313013",
     "status": "completed"
    },
    "tags": []
   },
   "outputs": [],
   "source": [
    "#delete\n",
    "#cp_groups_df"
   ]
  },
  {
   "cell_type": "code",
   "execution_count": 65,
   "id": "fa424af1-d1eb-443d-b717-2d279ada8408",
   "metadata": {
    "execution": {
     "iopub.execute_input": "2025-07-30T21:49:07.399128Z",
     "iopub.status.busy": "2025-07-30T21:49:07.398418Z",
     "iopub.status.idle": "2025-07-30T21:49:07.403105Z",
     "shell.execute_reply": "2025-07-30T21:49:07.402221Z"
    },
    "papermill": {
     "duration": 0.034124,
     "end_time": "2025-07-30T21:49:07.404756",
     "exception": false,
     "start_time": "2025-07-30T21:49:07.370632",
     "status": "completed"
    },
    "tags": []
   },
   "outputs": [],
   "source": [
    "#delete\n",
    "#percentage = (cp_groups_df['nongerman_female'] == 1).mean() * 100\n",
    "#print(percentage)\n"
   ]
  },
  {
   "cell_type": "code",
   "execution_count": 66,
   "id": "6cbdab96-b2b2-45af-ad54-d0516db2e28d",
   "metadata": {
    "execution": {
     "iopub.execute_input": "2025-07-30T21:49:07.457315Z",
     "iopub.status.busy": "2025-07-30T21:49:07.456834Z",
     "iopub.status.idle": "2025-07-30T21:49:09.121119Z",
     "shell.execute_reply": "2025-07-30T21:49:09.120086Z"
    },
    "papermill": {
     "duration": 1.693428,
     "end_time": "2025-07-30T21:49:09.123243",
     "exception": false,
     "start_time": "2025-07-30T21:49:07.429815",
     "status": "completed"
    },
    "tags": []
   },
   "outputs": [],
   "source": [
    "# Define covered = 1 if true_label is in the predicted set\n",
    "cp_groups_df['covered'] = cp_groups_df.apply(\n",
    "    lambda r: int(r['true_label'] in r['pred_set']),\n",
    "    axis=1\n",
    ")"
   ]
  },
  {
   "cell_type": "code",
   "execution_count": 67,
   "id": "338ff529-1a6b-4b87-a931-8e4788d52aad",
   "metadata": {
    "execution": {
     "iopub.execute_input": "2025-07-30T21:49:09.184780Z",
     "iopub.status.busy": "2025-07-30T21:49:09.184025Z",
     "iopub.status.idle": "2025-07-30T21:49:09.189307Z",
     "shell.execute_reply": "2025-07-30T21:49:09.188306Z"
    },
    "papermill": {
     "duration": 0.037019,
     "end_time": "2025-07-30T21:49:09.190880",
     "exception": false,
     "start_time": "2025-07-30T21:49:09.153861",
     "status": "completed"
    },
    "tags": []
   },
   "outputs": [],
   "source": [
    "#cp_groups_df"
   ]
  },
  {
   "cell_type": "code",
   "execution_count": 68,
   "id": "90032e27-66df-4540-9169-4e89cfbaa758",
   "metadata": {
    "execution": {
     "iopub.execute_input": "2025-07-30T21:49:09.243835Z",
     "iopub.status.busy": "2025-07-30T21:49:09.243154Z",
     "iopub.status.idle": "2025-07-30T21:49:09.256224Z",
     "shell.execute_reply": "2025-07-30T21:49:09.255234Z"
    },
    "papermill": {
     "duration": 0.042147,
     "end_time": "2025-07-30T21:49:09.257988",
     "exception": false,
     "start_time": "2025-07-30T21:49:09.215841",
     "status": "completed"
    },
    "tags": []
   },
   "outputs": [],
   "source": [
    "subgroups = ['frau1','nongerman','nongerman_male','nongerman_female']\n",
    "\n",
    "# Conditional coverage for subgroup==1\n",
    "cond_coverage = {\n",
    "    g: cp_groups_df.loc[cp_groups_df[g]==1, 'covered'].mean()\n",
    "    for g in subgroups\n",
    "}"
   ]
  },
  {
   "cell_type": "code",
   "execution_count": 69,
   "id": "1e348fb1-b9c3-45bc-ba23-f016827a7e0d",
   "metadata": {
    "execution": {
     "iopub.execute_input": "2025-07-30T21:49:09.310528Z",
     "iopub.status.busy": "2025-07-30T21:49:09.309708Z",
     "iopub.status.idle": "2025-07-30T21:49:09.317196Z",
     "shell.execute_reply": "2025-07-30T21:49:09.316247Z"
    },
    "papermill": {
     "duration": 0.035283,
     "end_time": "2025-07-30T21:49:09.318847",
     "exception": false,
     "start_time": "2025-07-30T21:49:09.283564",
     "status": "completed"
    },
    "tags": []
   },
   "outputs": [
    {
     "data": {
      "text/plain": [
       "{'frau1': 0.9078042862919531,\n",
       " 'nongerman': 0.9120305394936282,\n",
       " 'nongerman_male': 0.9277672701071782,\n",
       " 'nongerman_female': 0.8859910581222057}"
      ]
     },
     "execution_count": 69,
     "metadata": {},
     "output_type": "execute_result"
    }
   ],
   "source": [
    "cond_coverage"
   ]
  },
  {
   "cell_type": "code",
   "execution_count": 70,
   "id": "f5093324-c3dd-4d63-bc4c-8d945e5c8bbb",
   "metadata": {
    "execution": {
     "iopub.execute_input": "2025-07-30T21:49:09.371265Z",
     "iopub.status.busy": "2025-07-30T21:49:09.370472Z",
     "iopub.status.idle": "2025-07-30T21:49:09.377475Z",
     "shell.execute_reply": "2025-07-30T21:49:09.376623Z"
    },
    "papermill": {
     "duration": 0.034064,
     "end_time": "2025-07-30T21:49:09.379004",
     "exception": false,
     "start_time": "2025-07-30T21:49:09.344940",
     "status": "completed"
    },
    "tags": []
   },
   "outputs": [],
   "source": [
    "for subgroup, cov in cond_coverage.items():\n",
    "    cp_metrics_df[f\"cov_{subgroup}\"] = cov"
   ]
  },
  {
   "cell_type": "code",
   "execution_count": 71,
   "id": "6e872e10-dbe5-49e8-b554-5030c98ff75d",
   "metadata": {
    "execution": {
     "iopub.execute_input": "2025-07-30T21:49:09.431199Z",
     "iopub.status.busy": "2025-07-30T21:49:09.430480Z",
     "iopub.status.idle": "2025-07-30T21:49:09.449144Z",
     "shell.execute_reply": "2025-07-30T21:49:09.448256Z"
    },
    "papermill": {
     "duration": 0.045663,
     "end_time": "2025-07-30T21:49:09.450597",
     "exception": false,
     "start_time": "2025-07-30T21:49:09.404934",
     "status": "completed"
    },
    "tags": []
   },
   "outputs": [
    {
     "data": {
      "text/html": [
       "<div>\n",
       "<style scoped>\n",
       "    .dataframe tbody tr th:only-of-type {\n",
       "        vertical-align: middle;\n",
       "    }\n",
       "\n",
       "    .dataframe tbody tr th {\n",
       "        vertical-align: top;\n",
       "    }\n",
       "\n",
       "    .dataframe thead th {\n",
       "        text-align: right;\n",
       "    }\n",
       "</style>\n",
       "<table border=\"1\" class=\"dataframe\">\n",
       "  <thead>\n",
       "    <tr style=\"text-align: right;\">\n",
       "      <th></th>\n",
       "      <th>universe_id</th>\n",
       "      <th>universe_training_year</th>\n",
       "      <th>universe_training_size</th>\n",
       "      <th>universe_scale</th>\n",
       "      <th>universe_model</th>\n",
       "      <th>universe_exclude_features</th>\n",
       "      <th>universe_exclude_subgroups</th>\n",
       "      <th>q_hat</th>\n",
       "      <th>coverage</th>\n",
       "      <th>avg_size</th>\n",
       "      <th>cov_frau1</th>\n",
       "      <th>cov_nongerman</th>\n",
       "      <th>cov_nongerman_male</th>\n",
       "      <th>cov_nongerman_female</th>\n",
       "    </tr>\n",
       "  </thead>\n",
       "  <tbody>\n",
       "    <tr>\n",
       "      <th>0</th>\n",
       "      <td>010bed1451d998ddb26c4fc5e95e70b6</td>\n",
       "      <td>2010_14</td>\n",
       "      <td>1k</td>\n",
       "      <td>scale</td>\n",
       "      <td>elasticnet</td>\n",
       "      <td>nationality-sex</td>\n",
       "      <td>drop-non-german</td>\n",
       "      <td>0.76669</td>\n",
       "      <td>0.90952</td>\n",
       "      <td>1.217044</td>\n",
       "      <td>0.907804</td>\n",
       "      <td>0.912031</td>\n",
       "      <td>0.927767</td>\n",
       "      <td>0.885991</td>\n",
       "    </tr>\n",
       "  </tbody>\n",
       "</table>\n",
       "</div>"
      ],
      "text/plain": [
       "                        universe_id universe_training_year  \\\n",
       "0  010bed1451d998ddb26c4fc5e95e70b6                2010_14   \n",
       "\n",
       "  universe_training_size universe_scale universe_model  \\\n",
       "0                     1k          scale     elasticnet   \n",
       "\n",
       "  universe_exclude_features universe_exclude_subgroups    q_hat  coverage  \\\n",
       "0           nationality-sex            drop-non-german  0.76669   0.90952   \n",
       "\n",
       "   avg_size  cov_frau1  cov_nongerman  cov_nongerman_male  \\\n",
       "0  1.217044   0.907804       0.912031            0.927767   \n",
       "\n",
       "   cov_nongerman_female  \n",
       "0              0.885991  "
      ]
     },
     "execution_count": 71,
     "metadata": {},
     "output_type": "execute_result"
    }
   ],
   "source": [
    "cp_metrics_df"
   ]
  },
  {
   "cell_type": "markdown",
   "id": "33774451",
   "metadata": {
    "papermill": {
     "duration": 0.02608,
     "end_time": "2025-07-30T21:49:09.502670",
     "exception": false,
     "start_time": "2025-07-30T21:49:09.476590",
     "status": "completed"
    },
    "tags": []
   },
   "source": [
    "# (Fairness) Metrics"
   ]
  },
  {
   "cell_type": "code",
   "execution_count": 72,
   "id": "debc5d62",
   "metadata": {
    "execution": {
     "iopub.execute_input": "2025-07-30T21:49:09.554715Z",
     "iopub.status.busy": "2025-07-30T21:49:09.554052Z",
     "iopub.status.idle": "2025-07-30T21:49:09.577030Z",
     "shell.execute_reply": "2025-07-30T21:49:09.576090Z"
    },
    "papermill": {
     "duration": 0.050898,
     "end_time": "2025-07-30T21:49:09.578577",
     "exception": false,
     "start_time": "2025-07-30T21:49:09.527679",
     "status": "completed"
    },
    "tags": []
   },
   "outputs": [],
   "source": [
    "# do I need to include maxdeutsch1.missing?\n",
    "\n",
    "import numpy as np\n",
    "\n",
    "colname_to_bin = \"maxdeutsch1\"\n",
    "majority_value = org_train[colname_to_bin].mode()[0]\n",
    "\n",
    "org_test[\"majmin\"] = np.where(org_test[colname_to_bin] == majority_value, \"majority\", \"minority\")"
   ]
  },
  {
   "cell_type": "code",
   "execution_count": 73,
   "id": "06a50de5",
   "metadata": {
    "execution": {
     "iopub.execute_input": "2025-07-30T21:49:09.632301Z",
     "iopub.status.busy": "2025-07-30T21:49:09.631499Z",
     "iopub.status.idle": "2025-07-30T21:49:11.854152Z",
     "shell.execute_reply": "2025-07-30T21:49:11.853392Z"
    },
    "papermill": {
     "duration": 2.250864,
     "end_time": "2025-07-30T21:49:11.855545",
     "exception": false,
     "start_time": "2025-07-30T21:49:09.604681",
     "status": "completed"
    },
    "tags": []
   },
   "outputs": [],
   "source": [
    "example_universe = universe.copy()\n",
    "example_universe[\"cutoff\"] = example_universe[\"cutoff\"][0]\n",
    "example_universe[\"eval_fairness_grouping\"] = example_universe[\"eval_fairness_grouping\"][0]\n",
    "fairness_dict, metric_frame = universe_analysis.compute_metrics(\n",
    "    example_universe,\n",
    "    y_pred_prob=probs_test,\n",
    "    y_test=y_true,\n",
    "    org_test=org_test,\n",
    ")"
   ]
  },
  {
   "cell_type": "markdown",
   "id": "f95d4e02",
   "metadata": {
    "papermill": {
     "duration": 0.013242,
     "end_time": "2025-07-30T21:49:11.884957",
     "exception": false,
     "start_time": "2025-07-30T21:49:11.871715",
     "status": "completed"
    },
    "tags": []
   },
   "source": [
    "# Overall"
   ]
  },
  {
   "cell_type": "markdown",
   "id": "bdee4871",
   "metadata": {
    "papermill": {
     "duration": 0.013331,
     "end_time": "2025-07-30T21:49:11.911414",
     "exception": false,
     "start_time": "2025-07-30T21:49:11.898083",
     "status": "completed"
    },
    "tags": []
   },
   "source": [
    "Fairness\n",
    "Main fairness target: Equalized Odds. Seems to be a better fit than equal opportunity, since we're not only interested in Y = 1. Seems to be a better fit than demographic parity, since we also care about accuracy, not just equal distribution of preds.\n",
    "\n",
    "Pick column for computation of fairness metrics\n",
    "\n",
    "Performance\n",
    "Overall performance measures, most interesting in relation to the measures split by group below"
   ]
  },
  {
   "cell_type": "code",
   "execution_count": 74,
   "id": "c4e067c6",
   "metadata": {
    "execution": {
     "iopub.execute_input": "2025-07-30T21:49:11.938757Z",
     "iopub.status.busy": "2025-07-30T21:49:11.938277Z",
     "iopub.status.idle": "2025-07-30T21:49:11.945053Z",
     "shell.execute_reply": "2025-07-30T21:49:11.944295Z"
    },
    "papermill": {
     "duration": 0.021957,
     "end_time": "2025-07-30T21:49:11.946286",
     "exception": false,
     "start_time": "2025-07-30T21:49:11.924329",
     "status": "completed"
    },
    "tags": []
   },
   "outputs": [
    {
     "data": {
      "text/plain": [
       "accuracy                   0.218604\n",
       "balanced accuracy          0.535727\n",
       "f1                         0.240095\n",
       "precision                  0.137158\n",
       "false positive rate        0.890834\n",
       "false negative rate        0.037713\n",
       "selection rate             0.900000\n",
       "count                  89710.000000\n",
       "dtype: float64"
      ]
     },
     "execution_count": 74,
     "metadata": {},
     "output_type": "execute_result"
    }
   ],
   "source": [
    "metric_frame.overall"
   ]
  },
  {
   "cell_type": "markdown",
   "id": "e968fe9d",
   "metadata": {
    "papermill": {
     "duration": 0.013293,
     "end_time": "2025-07-30T21:49:11.973364",
     "exception": false,
     "start_time": "2025-07-30T21:49:11.960071",
     "status": "completed"
    },
    "tags": []
   },
   "source": [
    "By Group"
   ]
  },
  {
   "cell_type": "code",
   "execution_count": 75,
   "id": "ec325bce",
   "metadata": {
    "execution": {
     "iopub.execute_input": "2025-07-30T21:49:12.001208Z",
     "iopub.status.busy": "2025-07-30T21:49:12.000694Z",
     "iopub.status.idle": "2025-07-30T21:49:12.012859Z",
     "shell.execute_reply": "2025-07-30T21:49:12.011939Z"
    },
    "papermill": {
     "duration": 0.028262,
     "end_time": "2025-07-30T21:49:12.014974",
     "exception": false,
     "start_time": "2025-07-30T21:49:11.986712",
     "status": "completed"
    },
    "tags": []
   },
   "outputs": [
    {
     "data": {
      "text/html": [
       "<div>\n",
       "<style scoped>\n",
       "    .dataframe tbody tr th:only-of-type {\n",
       "        vertical-align: middle;\n",
       "    }\n",
       "\n",
       "    .dataframe tbody tr th {\n",
       "        vertical-align: top;\n",
       "    }\n",
       "\n",
       "    .dataframe thead th {\n",
       "        text-align: right;\n",
       "    }\n",
       "</style>\n",
       "<table border=\"1\" class=\"dataframe\">\n",
       "  <thead>\n",
       "    <tr style=\"text-align: right;\">\n",
       "      <th></th>\n",
       "      <th>accuracy</th>\n",
       "      <th>balanced accuracy</th>\n",
       "      <th>f1</th>\n",
       "      <th>precision</th>\n",
       "      <th>false positive rate</th>\n",
       "      <th>false negative rate</th>\n",
       "      <th>selection rate</th>\n",
       "      <th>count</th>\n",
       "    </tr>\n",
       "    <tr>\n",
       "      <th>majmin</th>\n",
       "      <th></th>\n",
       "      <th></th>\n",
       "      <th></th>\n",
       "      <th></th>\n",
       "      <th></th>\n",
       "      <th></th>\n",
       "      <th></th>\n",
       "      <th></th>\n",
       "    </tr>\n",
       "  </thead>\n",
       "  <tbody>\n",
       "    <tr>\n",
       "      <th>majority</th>\n",
       "      <td>0.232774</td>\n",
       "      <td>0.540449</td>\n",
       "      <td>0.24824</td>\n",
       "      <td>0.142581</td>\n",
       "      <td>0.877744</td>\n",
       "      <td>0.041357</td>\n",
       "      <td>0.888434</td>\n",
       "      <td>69170.0</td>\n",
       "    </tr>\n",
       "    <tr>\n",
       "      <th>minority</th>\n",
       "      <td>0.170886</td>\n",
       "      <td>0.521138</td>\n",
       "      <td>0.21354</td>\n",
       "      <td>0.119880</td>\n",
       "      <td>0.934074</td>\n",
       "      <td>0.023649</td>\n",
       "      <td>0.938948</td>\n",
       "      <td>20540.0</td>\n",
       "    </tr>\n",
       "  </tbody>\n",
       "</table>\n",
       "</div>"
      ],
      "text/plain": [
       "          accuracy  balanced accuracy       f1  precision  \\\n",
       "majmin                                                      \n",
       "majority  0.232774           0.540449  0.24824   0.142581   \n",
       "minority  0.170886           0.521138  0.21354   0.119880   \n",
       "\n",
       "          false positive rate  false negative rate  selection rate    count  \n",
       "majmin                                                                       \n",
       "majority             0.877744             0.041357        0.888434  69170.0  \n",
       "minority             0.934074             0.023649        0.938948  20540.0  "
      ]
     },
     "execution_count": 75,
     "metadata": {},
     "output_type": "execute_result"
    }
   ],
   "source": [
    "metric_frame.by_group"
   ]
  },
  {
   "cell_type": "code",
   "execution_count": 76,
   "id": "a9ddbe63",
   "metadata": {
    "execution": {
     "iopub.execute_input": "2025-07-30T21:49:12.046690Z",
     "iopub.status.busy": "2025-07-30T21:49:12.046305Z",
     "iopub.status.idle": "2025-07-30T21:49:14.204504Z",
     "shell.execute_reply": "2025-07-30T21:49:14.203669Z"
    },
    "papermill": {
     "duration": 2.175746,
     "end_time": "2025-07-30T21:49:14.206162",
     "exception": false,
     "start_time": "2025-07-30T21:49:12.030416",
     "status": "completed"
    },
    "tags": []
   },
   "outputs": [
    {
     "data": {
      "text/plain": [
       "array([[<Axes: title={'center': 'accuracy'}, xlabel='majmin'>,\n",
       "        <Axes: title={'center': 'balanced accuracy'}, xlabel='majmin'>,\n",
       "        <Axes: title={'center': 'f1'}, xlabel='majmin'>],\n",
       "       [<Axes: title={'center': 'precision'}, xlabel='majmin'>,\n",
       "        <Axes: title={'center': 'false positive rate'}, xlabel='majmin'>,\n",
       "        <Axes: title={'center': 'false negative rate'}, xlabel='majmin'>],\n",
       "       [<Axes: title={'center': 'selection rate'}, xlabel='majmin'>,\n",
       "        <Axes: title={'center': 'count'}, xlabel='majmin'>,\n",
       "        <Axes: xlabel='majmin'>]], dtype=object)"
      ]
     },
     "execution_count": 76,
     "metadata": {},
     "output_type": "execute_result"
    },
    {
     "data": {
      "image/png": "[encoded data removed]",
      "text/plain": [
       "<Figure size 1200x800 with 9 Axes>"
      ]
     },
     "metadata": {},
     "output_type": "display_data"
    }
   ],
   "source": [
    "# In a graphic\n",
    "metric_frame.by_group.plot.bar(\n",
    "    subplots=True,\n",
    "    layout=[3, 3],\n",
    "    legend=False,\n",
    "    figsize=[12, 8],\n",
    "    title=\"Show all metrics\",\n",
    ")"
   ]
  },
  {
   "cell_type": "markdown",
   "id": "f57a0bac",
   "metadata": {
    "papermill": {
     "duration": 0.026766,
     "end_time": "2025-07-30T21:49:14.261246",
     "exception": false,
     "start_time": "2025-07-30T21:49:14.234480",
     "status": "completed"
    },
    "tags": []
   },
   "source": [
    "# Final Output"
   ]
  },
  {
   "cell_type": "code",
   "execution_count": 77,
   "id": "96d280a3",
   "metadata": {
    "execution": {
     "iopub.execute_input": "2025-07-30T21:49:14.322228Z",
     "iopub.status.busy": "2025-07-30T21:49:14.321518Z",
     "iopub.status.idle": "2025-07-30T21:49:14.329630Z",
     "shell.execute_reply": "2025-07-30T21:49:14.328762Z"
    },
    "papermill": {
     "duration": 0.041417,
     "end_time": "2025-07-30T21:49:14.331118",
     "exception": false,
     "start_time": "2025-07-30T21:49:14.289701",
     "status": "completed"
    },
    "tags": []
   },
   "outputs": [
    {
     "data": {
      "text/plain": [
       "4"
      ]
     },
     "execution_count": 77,
     "metadata": {},
     "output_type": "execute_result"
    }
   ],
   "source": [
    "sub_universes = universe_analysis.generate_sub_universes()\n",
    "len(sub_universes)"
   ]
  },
  {
   "cell_type": "code",
   "execution_count": 78,
   "id": "92adf7ba",
   "metadata": {
    "execution": {
     "iopub.execute_input": "2025-07-30T21:49:14.389350Z",
     "iopub.status.busy": "2025-07-30T21:49:14.388560Z",
     "iopub.status.idle": "2025-07-30T21:49:14.395199Z",
     "shell.execute_reply": "2025-07-30T21:49:14.394263Z"
    },
    "papermill": {
     "duration": 0.037342,
     "end_time": "2025-07-30T21:49:14.396825",
     "exception": false,
     "start_time": "2025-07-30T21:49:14.359483",
     "status": "completed"
    },
    "tags": []
   },
   "outputs": [],
   "source": [
    "def filter_sub_universe_data(sub_universe, org_test):\n",
    "    # Keep all rows — no filtering\n",
    "    keep_rows_mask = np.ones(org_test.shape[0], dtype=bool)\n",
    "\n",
    "    print(f\"[INFO] Keeping all rows: {keep_rows_mask.sum()} rows retained.\")\n",
    "    return keep_rows_mask"
   ]
  },
  {
   "cell_type": "code",
   "execution_count": 79,
   "id": "4a759155",
   "metadata": {
    "execution": {
     "iopub.execute_input": "2025-07-30T21:49:14.459093Z",
     "iopub.status.busy": "2025-07-30T21:49:14.458447Z",
     "iopub.status.idle": "2025-07-30T21:49:25.450753Z",
     "shell.execute_reply": "2025-07-30T21:49:25.449630Z"
    },
    "papermill": {
     "duration": 11.030259,
     "end_time": "2025-07-30T21:49:25.458812",
     "exception": false,
     "start_time": "2025-07-30T21:49:14.428553",
     "status": "completed"
    },
    "tags": []
   },
   "outputs": [
    {
     "name": "stdout",
     "output_type": "stream",
     "text": [
      "Stopping execution_time clock.\n",
      "[INFO] Keeping all rows: 89710 rows retained.\n"
     ]
    },
    {
     "name": "stdout",
     "output_type": "stream",
     "text": [
      "[INFO] Keeping all rows: 89710 rows retained.\n"
     ]
    },
    {
     "name": "stdout",
     "output_type": "stream",
     "text": [
      "[INFO] Keeping all rows: 89710 rows retained.\n"
     ]
    },
    {
     "name": "stdout",
     "output_type": "stream",
     "text": [
      "[INFO] Keeping all rows: 89710 rows retained.\n"
     ]
    },
    {
     "data": {
      "text/html": [
       "<div>\n",
       "<style scoped>\n",
       "    .dataframe tbody tr th:only-of-type {\n",
       "        vertical-align: middle;\n",
       "    }\n",
       "\n",
       "    .dataframe tbody tr th {\n",
       "        vertical-align: top;\n",
       "    }\n",
       "\n",
       "    .dataframe thead th {\n",
       "        text-align: right;\n",
       "    }\n",
       "</style>\n",
       "<table border=\"1\" class=\"dataframe\">\n",
       "  <thead>\n",
       "    <tr style=\"text-align: right;\">\n",
       "      <th></th>\n",
       "      <th>run_no</th>\n",
       "      <th>universe_id</th>\n",
       "      <th>universe_settings</th>\n",
       "      <th>execution_time</th>\n",
       "      <th>test_size_n</th>\n",
       "      <th>test_size_frac</th>\n",
       "      <th>fair_main_equalized_odds_difference</th>\n",
       "      <th>fair_main_equalized_odds_ratio</th>\n",
       "      <th>fair_main_demographic_parity_difference</th>\n",
       "      <th>fair_main_demographic_parity_ratio</th>\n",
       "      <th>...</th>\n",
       "      <th>perf_grp_precision_0</th>\n",
       "      <th>perf_grp_precision_1</th>\n",
       "      <th>perf_grp_false positive rate_0</th>\n",
       "      <th>perf_grp_false positive rate_1</th>\n",
       "      <th>perf_grp_false negative rate_0</th>\n",
       "      <th>perf_grp_false negative rate_1</th>\n",
       "      <th>perf_grp_selection rate_0</th>\n",
       "      <th>perf_grp_selection rate_1</th>\n",
       "      <th>perf_grp_count_0</th>\n",
       "      <th>perf_grp_count_1</th>\n",
       "    </tr>\n",
       "  </thead>\n",
       "  <tbody>\n",
       "    <tr>\n",
       "      <th>0</th>\n",
       "      <td>14</td>\n",
       "      <td>010bed1451d998ddb26c4fc5e95e70b6</td>\n",
       "      <td>{\"cutoff\": \"quantile_0.1\", \"eval_fairness_grou...</td>\n",
       "      <td>31.966425</td>\n",
       "      <td>89710</td>\n",
       "      <td>1.0</td>\n",
       "      <td>0.056330</td>\n",
       "      <td>0.939694</td>\n",
       "      <td>0.050514</td>\n",
       "      <td>0.946201</td>\n",
       "      <td>...</td>\n",
       "      <td>NaN</td>\n",
       "      <td>NaN</td>\n",
       "      <td>NaN</td>\n",
       "      <td>NaN</td>\n",
       "      <td>NaN</td>\n",
       "      <td>NaN</td>\n",
       "      <td>NaN</td>\n",
       "      <td>NaN</td>\n",
       "      <td>NaN</td>\n",
       "      <td>NaN</td>\n",
       "    </tr>\n",
       "    <tr>\n",
       "      <th>0</th>\n",
       "      <td>14</td>\n",
       "      <td>010bed1451d998ddb26c4fc5e95e70b6</td>\n",
       "      <td>{\"cutoff\": \"quantile_0.1\", \"eval_fairness_grou...</td>\n",
       "      <td>31.966425</td>\n",
       "      <td>89710</td>\n",
       "      <td>1.0</td>\n",
       "      <td>0.056330</td>\n",
       "      <td>0.939694</td>\n",
       "      <td>0.050514</td>\n",
       "      <td>0.946201</td>\n",
       "      <td>...</td>\n",
       "      <td>0.11988</td>\n",
       "      <td>0.142581</td>\n",
       "      <td>0.934074</td>\n",
       "      <td>0.877744</td>\n",
       "      <td>0.023649</td>\n",
       "      <td>0.041357</td>\n",
       "      <td>0.938948</td>\n",
       "      <td>0.888434</td>\n",
       "      <td>20540.0</td>\n",
       "      <td>69170.0</td>\n",
       "    </tr>\n",
       "    <tr>\n",
       "      <th>0</th>\n",
       "      <td>14</td>\n",
       "      <td>010bed1451d998ddb26c4fc5e95e70b6</td>\n",
       "      <td>{\"cutoff\": \"quantile_0.25\", \"eval_fairness_gro...</td>\n",
       "      <td>31.966425</td>\n",
       "      <td>89710</td>\n",
       "      <td>1.0</td>\n",
       "      <td>0.147064</td>\n",
       "      <td>0.825433</td>\n",
       "      <td>0.132417</td>\n",
       "      <td>0.844598</td>\n",
       "      <td>...</td>\n",
       "      <td>NaN</td>\n",
       "      <td>NaN</td>\n",
       "      <td>NaN</td>\n",
       "      <td>NaN</td>\n",
       "      <td>NaN</td>\n",
       "      <td>NaN</td>\n",
       "      <td>NaN</td>\n",
       "      <td>NaN</td>\n",
       "      <td>NaN</td>\n",
       "      <td>NaN</td>\n",
       "    </tr>\n",
       "    <tr>\n",
       "      <th>0</th>\n",
       "      <td>14</td>\n",
       "      <td>010bed1451d998ddb26c4fc5e95e70b6</td>\n",
       "      <td>{\"cutoff\": \"quantile_0.25\", \"eval_fairness_gro...</td>\n",
       "      <td>31.966425</td>\n",
       "      <td>89710</td>\n",
       "      <td>1.0</td>\n",
       "      <td>0.147064</td>\n",
       "      <td>0.825433</td>\n",
       "      <td>0.132417</td>\n",
       "      <td>0.844598</td>\n",
       "      <td>...</td>\n",
       "      <td>0.12530</td>\n",
       "      <td>0.161430</td>\n",
       "      <td>0.842450</td>\n",
       "      <td>0.695386</td>\n",
       "      <td>0.073902</td>\n",
       "      <td>0.120788</td>\n",
       "      <td>0.852093</td>\n",
       "      <td>0.719676</td>\n",
       "      <td>20540.0</td>\n",
       "      <td>69170.0</td>\n",
       "    </tr>\n",
       "  </tbody>\n",
       "</table>\n",
       "<p>4 rows × 50 columns</p>\n",
       "</div>"
      ],
      "text/plain": [
       "  run_no                       universe_id  \\\n",
       "0     14  010bed1451d998ddb26c4fc5e95e70b6   \n",
       "0     14  010bed1451d998ddb26c4fc5e95e70b6   \n",
       "0     14  010bed1451d998ddb26c4fc5e95e70b6   \n",
       "0     14  010bed1451d998ddb26c4fc5e95e70b6   \n",
       "\n",
       "                                   universe_settings  execution_time  \\\n",
       "0  {\"cutoff\": \"quantile_0.1\", \"eval_fairness_grou...       31.966425   \n",
       "0  {\"cutoff\": \"quantile_0.1\", \"eval_fairness_grou...       31.966425   \n",
       "0  {\"cutoff\": \"quantile_0.25\", \"eval_fairness_gro...       31.966425   \n",
       "0  {\"cutoff\": \"quantile_0.25\", \"eval_fairness_gro...       31.966425   \n",
       "\n",
       "   test_size_n  test_size_frac  fair_main_equalized_odds_difference  \\\n",
       "0        89710             1.0                             0.056330   \n",
       "0        89710             1.0                             0.056330   \n",
       "0        89710             1.0                             0.147064   \n",
       "0        89710             1.0                             0.147064   \n",
       "\n",
       "   fair_main_equalized_odds_ratio  fair_main_demographic_parity_difference  \\\n",
       "0                        0.939694                                 0.050514   \n",
       "0                        0.939694                                 0.050514   \n",
       "0                        0.825433                                 0.132417   \n",
       "0                        0.825433                                 0.132417   \n",
       "\n",
       "   fair_main_demographic_parity_ratio  ...  perf_grp_precision_0  \\\n",
       "0                            0.946201  ...                   NaN   \n",
       "0                            0.946201  ...               0.11988   \n",
       "0                            0.844598  ...                   NaN   \n",
       "0                            0.844598  ...               0.12530   \n",
       "\n",
       "   perf_grp_precision_1  perf_grp_false positive rate_0  \\\n",
       "0                   NaN                             NaN   \n",
       "0              0.142581                        0.934074   \n",
       "0                   NaN                             NaN   \n",
       "0              0.161430                        0.842450   \n",
       "\n",
       "   perf_grp_false positive rate_1  perf_grp_false negative rate_0  \\\n",
       "0                             NaN                             NaN   \n",
       "0                        0.877744                        0.023649   \n",
       "0                             NaN                             NaN   \n",
       "0                        0.695386                        0.073902   \n",
       "\n",
       "   perf_grp_false negative rate_1  perf_grp_selection rate_0  \\\n",
       "0                             NaN                        NaN   \n",
       "0                        0.041357                   0.938948   \n",
       "0                             NaN                        NaN   \n",
       "0                        0.120788                   0.852093   \n",
       "\n",
       "   perf_grp_selection rate_1  perf_grp_count_0  perf_grp_count_1  \n",
       "0                        NaN               NaN               NaN  \n",
       "0                   0.888434           20540.0           69170.0  \n",
       "0                        NaN               NaN               NaN  \n",
       "0                   0.719676           20540.0           69170.0  \n",
       "\n",
       "[4 rows x 50 columns]"
      ]
     },
     "execution_count": 79,
     "metadata": {},
     "output_type": "execute_result"
    }
   ],
   "source": [
    "final_output = universe_analysis.generate_final_output(\n",
    "    y_pred_prob=probs_test,\n",
    "    y_test=y_true,\n",
    "    org_test=org_test,\n",
    "    filter_data=filter_sub_universe_data,\n",
    "    cp_metrics_df=cp_metrics_df,\n",
    "    save=True,\n",
    ")\n",
    "final_output"
   ]
  },
  {
   "cell_type": "code",
   "execution_count": null,
   "id": "721ff514-cb11-46f8-b6fc-50392f74b5cb",
   "metadata": {
    "papermill": {
     "duration": 0.02656,
     "end_time": "2025-07-30T21:49:25.521991",
     "exception": false,
     "start_time": "2025-07-30T21:49:25.495431",
     "status": "completed"
    },
    "tags": []
   },
   "outputs": [],
   "source": []
  }
 ],
 "metadata": {
  "celltoolbar": "Tags",
  "kernelspec": {
   "display_name": "Python (CMA Fairness)",
   "language": "python",
   "name": "cma_fair_env"
  },
  "language_info": {
   "codemirror_mode": {
    "name": "ipython",
    "version": 3
   },
   "file_extension": ".py",
   "mimetype": "text/x-python",
   "name": "python",
   "nbconvert_exporter": "python",
   "pygments_lexer": "ipython3",
   "version": "3.10.12"
  },
  "papermill": {
   "default_parameters": {},
   "duration": 47.174201,
   "end_time": "2025-07-30T21:49:26.357418",
   "environment_variables": {},
   "exception": null,
   "input_path": "universe_analysis.ipynb",
   "output_path": "output/runs/14/notebooks/m_14-010bed1451d998ddb26c4fc5e95e70b6.ipynb",
   "parameters": {
    "output_dir": "output",
    "run_no": "14",
    "seed": "2023",
    "universe": "{\"cutoff\": [\"quantile_0.1\", \"quantile_0.25\"], \"eval_fairness_grouping\": [\"majority-minority\", \"nationality-all\"], \"exclude_features\": \"nationality-sex\", \"exclude_subgroups\": \"drop-non-german\", \"model\": \"elasticnet\", \"scale\": \"scale\", \"training_size\": \"1k\", \"training_year\": \"2010_14\"}",
    "universe_id": "010bed1451d998ddb26c4fc5e95e70b6"
   },
   "start_time": "2025-07-30T21:48:39.183217",
   "version": "2.6.0"
  }
 },
 "nbformat": 4,
 "nbformat_minor": 5
}