{
 "cells": [
  {
   "cell_type": "code",
   "execution_count": 1,
   "id": "f159f837-637b-42ba-96b5-ec9a68c44524",
   "metadata": {
    "execution": {
     "iopub.execute_input": "2025-07-30T21:23:20.508787Z",
     "iopub.status.busy": "2025-07-30T21:23:20.508256Z",
     "iopub.status.idle": "2025-07-30T21:23:20.523985Z",
     "shell.execute_reply": "2025-07-30T21:23:20.523002Z"
    },
    "papermill": {
     "duration": 0.031906,
     "end_time": "2025-07-30T21:23:20.525700",
     "exception": false,
     "start_time": "2025-07-30T21:23:20.493794",
     "status": "completed"
    },
    "tags": []
   },
   "outputs": [
    {
     "name": "stdout",
     "output_type": "stream",
     "text": [
      "/dss/dsshome1/0C/ra93lal2/cma/CMA_Fairness_v2\n"
     ]
    },
    {
     "name": "stderr",
     "output_type": "stream",
     "text": [
      "/dss/dsshome1/0C/ra93lal2/.local/share/virtualenvs/CMA_Fairness_v2-3j10GkSs/lib/python3.10/site-packages/IPython/core/magics/osm.py:393: UserWarning: This is now an optional IPython functionality, using bookmarks requires you to install the `pickleshare` library.\n",
      "  bkms = self.shell.db.get('bookmarks', {})\n",
      "/dss/dsshome1/0C/ra93lal2/.local/share/virtualenvs/CMA_Fairness_v2-3j10GkSs/lib/python3.10/site-packages/IPython/core/magics/osm.py:417: UserWarning: This is now an optional IPython functionality, setting dhist requires you to install the `pickleshare` library.\n",
      "  self.shell.db['dhist'] = compress_dhist(dhist)[-100:]\n"
     ]
    }
   ],
   "source": [
    "%cd ~/cma/CMA_Fairness_v2"
   ]
  },
  {
   "cell_type": "markdown",
   "id": "de2603b9",
   "metadata": {
    "papermill": {
     "duration": 0.021672,
     "end_time": "2025-07-30T21:23:20.571375",
     "exception": false,
     "start_time": "2025-07-30T21:23:20.549703",
     "status": "completed"
    },
    "tags": []
   },
   "source": [
    "The following cell holds the definition of our parameters, these values can be overriden by rendering the with e.g. the following command:\n",
    "\n",
    "papermill -p alpha 0.2 -p ratio 0.3 universe_analysis.ipynb output/test_run.ipynb"
   ]
  },
  {
   "cell_type": "code",
   "execution_count": 2,
   "id": "a80968a0-40bb-4fa9-85ef-2d5eefb01975",
   "metadata": {
    "execution": {
     "iopub.execute_input": "2025-07-30T21:23:20.596855Z",
     "iopub.status.busy": "2025-07-30T21:23:20.596365Z",
     "iopub.status.idle": "2025-07-30T21:23:20.602478Z",
     "shell.execute_reply": "2025-07-30T21:23:20.601544Z"
    },
    "papermill": {
     "duration": 0.019284,
     "end_time": "2025-07-30T21:23:20.604438",
     "exception": false,
     "start_time": "2025-07-30T21:23:20.585154",
     "status": "completed"
    },
    "tags": []
   },
   "outputs": [
    {
     "name": "stdout",
     "output_type": "stream",
     "text": [
      "Current working directory: /dss/dsshome1/0C/ra93lal2/cma/CMA_Fairness_v2\n"
     ]
    }
   ],
   "source": [
    "import os\n",
    "print(\"Current working directory:\", os.getcwd())"
   ]
  },
  {
   "cell_type": "code",
   "execution_count": 3,
   "id": "2dce4c03",
   "metadata": {
    "execution": {
     "iopub.execute_input": "2025-07-30T21:23:20.647073Z",
     "iopub.status.busy": "2025-07-30T21:23:20.646336Z",
     "iopub.status.idle": "2025-07-30T21:23:20.653533Z",
     "shell.execute_reply": "2025-07-30T21:23:20.652169Z"
    },
    "papermill": {
     "duration": 0.029185,
     "end_time": "2025-07-30T21:23:20.654987",
     "exception": false,
     "start_time": "2025-07-30T21:23:20.625802",
     "status": "completed"
    },
    "tags": [
     "parameters"
    ]
   },
   "outputs": [],
   "source": [
    "run_no = 0\n",
    "universe_id = \"test\"\n",
    "universe = {\n",
    "    \"training_size\": \"25k\", # \"25k\", \"5k\", \"1k\"\n",
    "    \"training_year\": \"2014\", # \"2014\", \"2012_14\", \"2010_14\"\n",
    "    \"scale\": \"scale\", # \"scale\", \"do-not-scale\",\n",
    "    #\"stratify_split\": \"target\", # \"none\", \"target\", \"protected-attribute\", \"both\",\n",
    "    \"model\": \"elasticnet\", # \"logreg\", \"penalized_logreg\", \"rf\", \"gbm\", \"elasticnet\"\n",
    "    \"cutoff\": [\"quantile_0.15\", \"quantile_0.30\"],\n",
    "    \"exclude_features\": \"age\", # \"none\", \"nationality\", \"sex\", \"nationality-sex\", \"age\"\n",
    "    \"exclude_subgroups\": \"keep-all\", # \"keep-all\", \"drop-non-german\"\n",
    "    \"eval_fairness_grouping\": [\"majority-minority\", \"nationality-all\"]\n",
    "}\n",
    "\n",
    "output_dir=\"./output\"\n",
    "seed=0"
   ]
  },
  {
   "cell_type": "code",
   "execution_count": 4,
   "id": "2b093859",
   "metadata": {
    "execution": {
     "iopub.execute_input": "2025-07-30T21:23:20.699127Z",
     "iopub.status.busy": "2025-07-30T21:23:20.698294Z",
     "iopub.status.idle": "2025-07-30T21:23:20.703872Z",
     "shell.execute_reply": "2025-07-30T21:23:20.702973Z"
    },
    "papermill": {
     "duration": 0.030055,
     "end_time": "2025-07-30T21:23:20.705586",
     "exception": false,
     "start_time": "2025-07-30T21:23:20.675531",
     "status": "completed"
    },
    "tags": [
     "injected-parameters"
    ]
   },
   "outputs": [],
   "source": [
    "# Parameters\n",
    "universe_id = \"8c5fdf9f41b6dd6ba3022017484fd930\"\n",
    "run_no = \"14\"\n",
    "universe = \"{\\\"cutoff\\\": [\\\"quantile_0.1\\\", \\\"quantile_0.25\\\"], \\\"eval_fairness_grouping\\\": [\\\"majority-minority\\\", \\\"nationality-all\\\"], \\\"exclude_features\\\": \\\"nationality\\\", \\\"exclude_subgroups\\\": \\\"drop-non-german\\\", \\\"model\\\": \\\"penalized_logreg\\\", \\\"scale\\\": \\\"scale\\\", \\\"training_size\\\": \\\"1k\\\", \\\"training_year\\\": \\\"2014\\\"}\"\n",
    "output_dir = \"output\"\n",
    "seed = \"2023\"\n"
   ]
  },
  {
   "cell_type": "code",
   "execution_count": 5,
   "id": "1650acaf",
   "metadata": {
    "execution": {
     "iopub.execute_input": "2025-07-30T21:23:20.740881Z",
     "iopub.status.busy": "2025-07-30T21:23:20.740586Z",
     "iopub.status.idle": "2025-07-30T21:23:20.745386Z",
     "shell.execute_reply": "2025-07-30T21:23:20.744439Z"
    },
    "papermill": {
     "duration": 0.027438,
     "end_time": "2025-07-30T21:23:20.753208",
     "exception": false,
     "start_time": "2025-07-30T21:23:20.725770",
     "status": "completed"
    },
    "tags": []
   },
   "outputs": [],
   "source": [
    "import json\n",
    "# Parse universe into dict if it is passed as a string\n",
    "if isinstance(universe, str):\n",
    "    universe = json.loads(universe)"
   ]
  },
  {
   "cell_type": "code",
   "execution_count": 6,
   "id": "16620c48",
   "metadata": {
    "execution": {
     "iopub.execute_input": "2025-07-30T21:23:20.795592Z",
     "iopub.status.busy": "2025-07-30T21:23:20.795137Z",
     "iopub.status.idle": "2025-07-30T21:23:20.837408Z",
     "shell.execute_reply": "2025-07-30T21:23:20.836609Z"
    },
    "papermill": {
     "duration": 0.06431,
     "end_time": "2025-07-30T21:23:20.838705",
     "exception": false,
     "start_time": "2025-07-30T21:23:20.774395",
     "status": "completed"
    },
    "tags": []
   },
   "outputs": [],
   "source": [
    "# Auto-reload the custom package\n",
    "%load_ext autoreload\n",
    "%autoreload 1\n",
    "%aimport fairness_multiverse"
   ]
  },
  {
   "cell_type": "code",
   "execution_count": 7,
   "id": "01c5c9f3",
   "metadata": {
    "execution": {
     "iopub.execute_input": "2025-07-30T21:23:20.862820Z",
     "iopub.status.busy": "2025-07-30T21:23:20.862566Z",
     "iopub.status.idle": "2025-07-30T21:23:22.743050Z",
     "shell.execute_reply": "2025-07-30T21:23:22.742285Z"
    },
    "papermill": {
     "duration": 1.893718,
     "end_time": "2025-07-30T21:23:22.744610",
     "exception": false,
     "start_time": "2025-07-30T21:23:20.850892",
     "status": "completed"
    },
    "tags": []
   },
   "outputs": [],
   "source": [
    "from fairness_multiverse.universe import UniverseAnalysis\n",
    "\n",
    "universe_analysis = UniverseAnalysis(\n",
    "    run_no = run_no,\n",
    "    universe_id = universe_id,\n",
    "    universe = universe,\n",
    "    output_dir=output_dir,\n",
    ")"
   ]
  },
  {
   "cell_type": "code",
   "execution_count": 8,
   "id": "106241f5",
   "metadata": {
    "execution": {
     "iopub.execute_input": "2025-07-30T21:23:22.772916Z",
     "iopub.status.busy": "2025-07-30T21:23:22.771834Z",
     "iopub.status.idle": "2025-07-30T21:23:22.779572Z",
     "shell.execute_reply": "2025-07-30T21:23:22.778540Z"
    },
    "papermill": {
     "duration": 0.021031,
     "end_time": "2025-07-30T21:23:22.781240",
     "exception": false,
     "start_time": "2025-07-30T21:23:22.760209",
     "status": "completed"
    },
    "tags": []
   },
   "outputs": [
    {
     "name": "stdout",
     "output_type": "stream",
     "text": [
      "Using Seed: 2023\n"
     ]
    }
   ],
   "source": [
    "import numpy as np\n",
    "parsed_seed = int(seed)\n",
    "np.random.seed(parsed_seed)\n",
    "print(f\"Using Seed: {parsed_seed}\")"
   ]
  },
  {
   "cell_type": "markdown",
   "id": "e0ebdc57",
   "metadata": {
    "papermill": {
     "duration": 0.022333,
     "end_time": "2025-07-30T21:23:22.825903",
     "exception": false,
     "start_time": "2025-07-30T21:23:22.803570",
     "status": "completed"
    },
    "tags": []
   },
   "source": [
    "# Loading Data"
   ]
  },
  {
   "cell_type": "markdown",
   "id": "681925a3",
   "metadata": {
    "papermill": {
     "duration": 0.022318,
     "end_time": "2025-07-30T21:23:22.869551",
     "exception": false,
     "start_time": "2025-07-30T21:23:22.847233",
     "status": "completed"
    },
    "tags": []
   },
   "source": [
    "Load siab_train, siab_test, siab_calib and/or \n",
    "load siab_train_features, siab_train_labels"
   ]
  },
  {
   "cell_type": "code",
   "execution_count": 9,
   "id": "f0496b8a",
   "metadata": {
    "execution": {
     "iopub.execute_input": "2025-07-30T21:23:22.910127Z",
     "iopub.status.busy": "2025-07-30T21:23:22.909352Z",
     "iopub.status.idle": "2025-07-30T21:23:35.427172Z",
     "shell.execute_reply": "2025-07-30T21:23:35.426203Z"
    },
    "papermill": {
     "duration": 12.537399,
     "end_time": "2025-07-30T21:23:35.428526",
     "exception": false,
     "start_time": "2025-07-30T21:23:22.891127",
     "status": "completed"
    },
    "tags": []
   },
   "outputs": [
    {
     "name": "stdout",
     "output_type": "stream",
     "text": [
      "Loading SIAB data from cache: data/siab_cached.csv.gz\n"
     ]
    },
    {
     "name": "stdout",
     "output_type": "stream",
     "text": [
      "(643690, 164)\n"
     ]
    }
   ],
   "source": [
    "from pathlib import Path\n",
    "import pandas as pd\n",
    "\n",
    "# File paths\n",
    "raw_file = Path(\"data/raw/siab.csv\")\n",
    "cache_file = Path(\"data/siab_cached.csv.gz\")\n",
    "\n",
    "# Ensure cache directory exists\n",
    "cache_file.parent.mkdir(parents=True, exist_ok=True)\n",
    "\n",
    "# Load with simple caching\n",
    "if cache_file.exists():\n",
    "    print(f\"Loading SIAB data from cache: {cache_file}\")\n",
    "    siab = pd.read_csv(cache_file, compression='gzip')\n",
    "else:\n",
    "    print(f\"Cache not found. Reading raw SIAB data: {raw_file}\")\n",
    "    siab = pd.read_csv(raw_file)\n",
    "    siab.to_csv(cache_file, index=False, compression='gzip')\n",
    "    print(f\"Cached SIAB data to: {cache_file}\")\n",
    "\n",
    "# Now use `siab` DataFrame as needed\n",
    "print(siab.shape)"
   ]
  },
  {
   "cell_type": "code",
   "execution_count": 10,
   "id": "db0ca512-5f53-4dba-abdb-a2888bca41ba",
   "metadata": {
    "execution": {
     "iopub.execute_input": "2025-07-30T21:23:35.453781Z",
     "iopub.status.busy": "2025-07-30T21:23:35.453236Z",
     "iopub.status.idle": "2025-07-30T21:23:35.458075Z",
     "shell.execute_reply": "2025-07-30T21:23:35.457348Z"
    },
    "papermill": {
     "duration": 0.016928,
     "end_time": "2025-07-30T21:23:35.459119",
     "exception": false,
     "start_time": "2025-07-30T21:23:35.442191",
     "status": "completed"
    },
    "tags": []
   },
   "outputs": [],
   "source": [
    "#siab"
   ]
  },
  {
   "cell_type": "code",
   "execution_count": 11,
   "id": "a0edb063",
   "metadata": {
    "execution": {
     "iopub.execute_input": "2025-07-30T21:23:35.487234Z",
     "iopub.status.busy": "2025-07-30T21:23:35.486722Z",
     "iopub.status.idle": "2025-07-30T21:23:35.491640Z",
     "shell.execute_reply": "2025-07-30T21:23:35.490647Z"
    },
    "papermill": {
     "duration": 0.023143,
     "end_time": "2025-07-30T21:23:35.493440",
     "exception": false,
     "start_time": "2025-07-30T21:23:35.470297",
     "status": "completed"
    },
    "tags": []
   },
   "outputs": [],
   "source": [
    "#import pandas as pd\n",
    "#\n",
    "#X_train = pd.read_csv(\"./data/X_train.csv\")\n",
    "#y_train = pd.read_csv(\"./data/y_train.csv\")"
   ]
  },
  {
   "cell_type": "code",
   "execution_count": 12,
   "id": "63d08085",
   "metadata": {
    "execution": {
     "iopub.execute_input": "2025-07-30T21:23:35.540770Z",
     "iopub.status.busy": "2025-07-30T21:23:35.540085Z",
     "iopub.status.idle": "2025-07-30T21:23:35.544848Z",
     "shell.execute_reply": "2025-07-30T21:23:35.544087Z"
    },
    "papermill": {
     "duration": 0.030587,
     "end_time": "2025-07-30T21:23:35.546080",
     "exception": false,
     "start_time": "2025-07-30T21:23:35.515493",
     "status": "completed"
    },
    "tags": []
   },
   "outputs": [],
   "source": [
    "#X_test = pd.read_csv(\"./data/X_test.csv\")\n",
    "#y_true = pd.read_csv(\"./data/y_test.csv\")"
   ]
  },
  {
   "cell_type": "code",
   "execution_count": 13,
   "id": "98a8d0fa-1d3d-4ed8-bb2c-281470e24add",
   "metadata": {
    "execution": {
     "iopub.execute_input": "2025-07-30T21:23:35.571237Z",
     "iopub.status.busy": "2025-07-30T21:23:35.570831Z",
     "iopub.status.idle": "2025-07-30T21:23:35.576181Z",
     "shell.execute_reply": "2025-07-30T21:23:35.575068Z"
    },
    "papermill": {
     "duration": 0.019687,
     "end_time": "2025-07-30T21:23:35.577903",
     "exception": false,
     "start_time": "2025-07-30T21:23:35.558216",
     "status": "completed"
    },
    "tags": []
   },
   "outputs": [],
   "source": [
    "# Calibration data for conformal\n",
    "#X_calib = pd.read_csv(\"./data/X_calib.csv\")\n",
    "#y_calib = pd.read_csv(\"./data/y_calib.csv\")"
   ]
  },
  {
   "cell_type": "markdown",
   "id": "997051c5-15bd-4b69-9786-c3001a3ce484",
   "metadata": {
    "papermill": {
     "duration": 0.021139,
     "end_time": "2025-07-30T21:23:35.621763",
     "exception": false,
     "start_time": "2025-07-30T21:23:35.600624",
     "status": "completed"
    },
    "tags": []
   },
   "source": [
    "# Splitting Data and Setting Training Data Size"
   ]
  },
  {
   "cell_type": "code",
   "execution_count": 14,
   "id": "e993b61f-042d-41a6-8c81-f55681f86335",
   "metadata": {
    "execution": {
     "iopub.execute_input": "2025-07-30T21:23:35.669836Z",
     "iopub.status.busy": "2025-07-30T21:23:35.669352Z",
     "iopub.status.idle": "2025-07-30T21:23:35.683558Z",
     "shell.execute_reply": "2025-07-30T21:23:35.682396Z"
    },
    "papermill": {
     "duration": 0.042135,
     "end_time": "2025-07-30T21:23:35.685409",
     "exception": false,
     "start_time": "2025-07-30T21:23:35.643274",
     "status": "completed"
    },
    "tags": []
   },
   "outputs": [],
   "source": [
    "def sample_by_year_size(df,\n",
    "                        training_year: str,\n",
    "                        training_size: str,\n",
    "                        random_state: int = 42):\n",
    "    # --- parse training_year into a list of int years ---\n",
    "    if \"_\" in training_year:\n",
    "        start_str, end_str = training_year.split(\"_\", 1)\n",
    "        start = int(start_str)\n",
    "        end   = int(end_str) if len(end_str) == 4 else (int(end_str) + (start // 100)*100)\n",
    "        years = list(range(start, end + 1))\n",
    "    else:\n",
    "        years = [int(training_year)]\n",
    "\n",
    "    df = df[df[\"year\"].isin(years)].reset_index(drop=True)\n",
    "\n",
    "    # --- map training_size to total number of samples ---\n",
    "    total_map = {\"25k\": 25_000, \"5k\": 5_000, \"1k\": 1_000}\n",
    "    if training_size not in total_map:\n",
    "        return df  # e.g. \"all\"\n",
    "\n",
    "    total_samples = total_map[training_size]\n",
    "    n_years       = len(years)\n",
    "    base          = total_samples // n_years\n",
    "    remainder     = total_samples % n_years\n",
    "\n",
    "    # --- build a dict: year -> how many to sample ---\n",
    "    # give +1 to the first `remainder` years in ascending order\n",
    "    quotas = {\n",
    "        year: base + (1 if idx < remainder else 0)\n",
    "        for idx, year in enumerate(sorted(years))\n",
    "    }\n",
    "\n",
    "    # --- sample per‐year according to the quota dict ---\n",
    "    sampled = (\n",
    "        df\n",
    "        .groupby(\"year\", group_keys=False)\n",
    "        .apply(lambda grp: grp.sample(\n",
    "            n=min(len(grp), quotas[grp.name]),\n",
    "            random_state=random_state))\n",
    "        .reset_index(drop=True)\n",
    "    )\n",
    "\n",
    "    return sampled"
   ]
  },
  {
   "cell_type": "code",
   "execution_count": 15,
   "id": "c0ccd338-0e02-41f3-a09d-f56f9266e3fb",
   "metadata": {
    "execution": {
     "iopub.execute_input": "2025-07-30T21:23:35.741541Z",
     "iopub.status.busy": "2025-07-30T21:23:35.740853Z",
     "iopub.status.idle": "2025-07-30T21:23:35.746763Z",
     "shell.execute_reply": "2025-07-30T21:23:35.745661Z"
    },
    "papermill": {
     "duration": 0.036157,
     "end_time": "2025-07-30T21:23:35.748770",
     "exception": false,
     "start_time": "2025-07-30T21:23:35.712613",
     "status": "completed"
    },
    "tags": []
   },
   "outputs": [],
   "source": [
    "#universe[\"training_size\"]"
   ]
  },
  {
   "cell_type": "code",
   "execution_count": 16,
   "id": "ca707fd7-8047-4acd-bfa5-66248fbbf8e6",
   "metadata": {
    "execution": {
     "iopub.execute_input": "2025-07-30T21:23:35.810587Z",
     "iopub.status.busy": "2025-07-30T21:23:35.809883Z",
     "iopub.status.idle": "2025-07-30T21:23:35.815428Z",
     "shell.execute_reply": "2025-07-30T21:23:35.814435Z"
    },
    "papermill": {
     "duration": 0.037372,
     "end_time": "2025-07-30T21:23:35.817664",
     "exception": false,
     "start_time": "2025-07-30T21:23:35.780292",
     "status": "completed"
    },
    "tags": []
   },
   "outputs": [],
   "source": [
    "#universe[\"training_year\"]"
   ]
  },
  {
   "cell_type": "code",
   "execution_count": 17,
   "id": "aea9c6ef-6f46-42c8-85eb-5a62025c1508",
   "metadata": {
    "execution": {
     "iopub.execute_input": "2025-07-30T21:23:35.857449Z",
     "iopub.status.busy": "2025-07-30T21:23:35.856941Z",
     "iopub.status.idle": "2025-07-30T21:23:36.053602Z",
     "shell.execute_reply": "2025-07-30T21:23:36.052591Z"
    },
    "papermill": {
     "duration": 0.211191,
     "end_time": "2025-07-30T21:23:36.055662",
     "exception": false,
     "start_time": "2025-07-30T21:23:35.844471",
     "status": "completed"
    },
    "tags": []
   },
   "outputs": [],
   "source": [
    "siab_train = sample_by_year_size(siab,\n",
    "                               training_year=universe[\"training_year\"],\n",
    "                               training_size=universe[\"training_size\"])"
   ]
  },
  {
   "cell_type": "code",
   "execution_count": 18,
   "id": "8d3afb32-789d-442c-8d5d-9f5aa8dd2eed",
   "metadata": {
    "execution": {
     "iopub.execute_input": "2025-07-30T21:23:36.101013Z",
     "iopub.status.busy": "2025-07-30T21:23:36.099929Z",
     "iopub.status.idle": "2025-07-30T21:23:36.105768Z",
     "shell.execute_reply": "2025-07-30T21:23:36.104709Z"
    },
    "papermill": {
     "duration": 0.029151,
     "end_time": "2025-07-30T21:23:36.107975",
     "exception": false,
     "start_time": "2025-07-30T21:23:36.078824",
     "status": "completed"
    },
    "tags": []
   },
   "outputs": [],
   "source": [
    "#siab_train.shape"
   ]
  },
  {
   "cell_type": "code",
   "execution_count": 19,
   "id": "d582db68-1a4c-47fb-84fc-08518dc1975a",
   "metadata": {
    "execution": {
     "iopub.execute_input": "2025-07-30T21:23:36.153979Z",
     "iopub.status.busy": "2025-07-30T21:23:36.153029Z",
     "iopub.status.idle": "2025-07-30T21:23:36.158547Z",
     "shell.execute_reply": "2025-07-30T21:23:36.157464Z"
    },
    "papermill": {
     "duration": 0.030415,
     "end_time": "2025-07-30T21:23:36.160484",
     "exception": false,
     "start_time": "2025-07-30T21:23:36.130069",
     "status": "completed"
    },
    "tags": []
   },
   "outputs": [],
   "source": [
    "#display(siab_train.groupby(\"year\").size())"
   ]
  },
  {
   "cell_type": "code",
   "execution_count": 20,
   "id": "a561edb4-d032-42cb-8256-22eac1111c64",
   "metadata": {
    "execution": {
     "iopub.execute_input": "2025-07-30T21:23:36.199963Z",
     "iopub.status.busy": "2025-07-30T21:23:36.199458Z",
     "iopub.status.idle": "2025-07-30T21:23:36.483154Z",
     "shell.execute_reply": "2025-07-30T21:23:36.482018Z"
    },
    "papermill": {
     "duration": 0.302035,
     "end_time": "2025-07-30T21:23:36.484927",
     "exception": false,
     "start_time": "2025-07-30T21:23:36.182892",
     "status": "completed"
    },
    "tags": []
   },
   "outputs": [],
   "source": [
    "#siab_train = siab_s[siab_s.year < 2015]\n",
    "siab_calib = siab[siab.year == 2015]\n",
    "siab_test = siab[siab.year == 2016]"
   ]
  },
  {
   "cell_type": "code",
   "execution_count": 21,
   "id": "472de16f-c3db-4916-846b-1f0de9cf1746",
   "metadata": {
    "execution": {
     "iopub.execute_input": "2025-07-30T21:23:36.528223Z",
     "iopub.status.busy": "2025-07-30T21:23:36.527657Z",
     "iopub.status.idle": "2025-07-30T21:23:36.533469Z",
     "shell.execute_reply": "2025-07-30T21:23:36.532814Z"
    },
    "papermill": {
     "duration": 0.023792,
     "end_time": "2025-07-30T21:23:36.534743",
     "exception": false,
     "start_time": "2025-07-30T21:23:36.510951",
     "status": "completed"
    },
    "tags": []
   },
   "outputs": [],
   "source": [
    "X_train = siab_train.iloc[:,4:164]\n",
    "y_train = siab_train.iloc[:, [3]]"
   ]
  },
  {
   "cell_type": "code",
   "execution_count": 22,
   "id": "828c96af-f43a-4ed6-ba47-8ac73a47d56c",
   "metadata": {
    "execution": {
     "iopub.execute_input": "2025-07-30T21:23:36.558760Z",
     "iopub.status.busy": "2025-07-30T21:23:36.558019Z",
     "iopub.status.idle": "2025-07-30T21:23:36.604406Z",
     "shell.execute_reply": "2025-07-30T21:23:36.603552Z"
    },
    "papermill": {
     "duration": 0.059427,
     "end_time": "2025-07-30T21:23:36.605946",
     "exception": false,
     "start_time": "2025-07-30T21:23:36.546519",
     "status": "completed"
    },
    "tags": []
   },
   "outputs": [],
   "source": [
    "X_calib = siab_calib.iloc[:,4:164]\n",
    "y_calib = siab_calib.iloc[:, [3]]"
   ]
  },
  {
   "cell_type": "code",
   "execution_count": 23,
   "id": "c34be9c3-6bd6-476e-acd3-845840e303be",
   "metadata": {
    "execution": {
     "iopub.execute_input": "2025-07-30T21:23:36.633877Z",
     "iopub.status.busy": "2025-07-30T21:23:36.633229Z",
     "iopub.status.idle": "2025-07-30T21:23:36.681841Z",
     "shell.execute_reply": "2025-07-30T21:23:36.681039Z"
    },
    "papermill": {
     "duration": 0.062328,
     "end_time": "2025-07-30T21:23:36.683430",
     "exception": false,
     "start_time": "2025-07-30T21:23:36.621102",
     "status": "completed"
    },
    "tags": []
   },
   "outputs": [],
   "source": [
    "X_test = siab_test.iloc[:,4:164]\n",
    "y_true = siab_test.iloc[:, [3]]"
   ]
  },
  {
   "cell_type": "markdown",
   "id": "9901737e-04df-44f0-9100-f5ad144ed040",
   "metadata": {
    "papermill": {
     "duration": 0.011335,
     "end_time": "2025-07-30T21:23:36.707673",
     "exception": false,
     "start_time": "2025-07-30T21:23:36.696338",
     "status": "completed"
    },
    "tags": []
   },
   "source": [
    "# Splitting Data and Setting Training Data Size OLD VERSION"
   ]
  },
  {
   "cell_type": "code",
   "execution_count": 24,
   "id": "acbc8f7d-8fc8-4e86-8c59-5dcb0f58384b",
   "metadata": {
    "execution": {
     "iopub.execute_input": "2025-07-30T21:23:36.731052Z",
     "iopub.status.busy": "2025-07-30T21:23:36.730550Z",
     "iopub.status.idle": "2025-07-30T21:23:36.735670Z",
     "shell.execute_reply": "2025-07-30T21:23:36.734766Z"
    },
    "papermill": {
     "duration": 0.020515,
     "end_time": "2025-07-30T21:23:36.739127",
     "exception": false,
     "start_time": "2025-07-30T21:23:36.718612",
     "status": "completed"
    },
    "tags": []
   },
   "outputs": [],
   "source": [
    "#def sample_by_year(df, training_size, random_state=42):\n",
    "#    if training_size == \"2014\":\n",
    "#        return df[df[\"year\"] == 2014].reset_index(drop=True)\n",
    "#    \n",
    "#    size_map = {\n",
    "#        \"25k\": 5000,\n",
    "#        \"5k\": 1000,\n",
    "#        \"1k\": 200\n",
    "#    }\n",
    "#\n",
    "#    if training_size not in size_map:\n",
    "#        return df.reset_index(drop=True)  # use all data\n",
    "#\n",
    "#    n_per_year = size_map[training_size]\n",
    "#    grouped = df.groupby(\"year\")\n",
    "#    sampled = grouped.apply(lambda x: x.sample(n=min(n_per_year, len(x)), random_state=random_state))\n",
    "#    return sampled.reset_index(drop=True)"
   ]
  },
  {
   "cell_type": "code",
   "execution_count": 25,
   "id": "6d931f52-beaf-43ff-9e78-9d44a448d54e",
   "metadata": {
    "execution": {
     "iopub.execute_input": "2025-07-30T21:23:36.786346Z",
     "iopub.status.busy": "2025-07-30T21:23:36.785896Z",
     "iopub.status.idle": "2025-07-30T21:23:36.792850Z",
     "shell.execute_reply": "2025-07-30T21:23:36.791531Z"
    },
    "papermill": {
     "duration": 0.034618,
     "end_time": "2025-07-30T21:23:36.797701",
     "exception": false,
     "start_time": "2025-07-30T21:23:36.763083",
     "status": "completed"
    },
    "tags": []
   },
   "outputs": [],
   "source": [
    "#siab_s = sample_by_year(siab, universe[\"training_size\"])"
   ]
  },
  {
   "cell_type": "code",
   "execution_count": 26,
   "id": "5db0a40e-a4e2-4920-be85-b12ae061d70d",
   "metadata": {
    "execution": {
     "iopub.execute_input": "2025-07-30T21:23:36.863609Z",
     "iopub.status.busy": "2025-07-30T21:23:36.863226Z",
     "iopub.status.idle": "2025-07-30T21:23:36.869125Z",
     "shell.execute_reply": "2025-07-30T21:23:36.867808Z"
    },
    "papermill": {
     "duration": 0.041218,
     "end_time": "2025-07-30T21:23:36.871614",
     "exception": false,
     "start_time": "2025-07-30T21:23:36.830396",
     "status": "completed"
    },
    "tags": []
   },
   "outputs": [],
   "source": [
    "#display(siab_s.groupby(\"year\").size())"
   ]
  },
  {
   "cell_type": "code",
   "execution_count": 27,
   "id": "e6c733c5",
   "metadata": {
    "execution": {
     "iopub.execute_input": "2025-07-30T21:23:36.903465Z",
     "iopub.status.busy": "2025-07-30T21:23:36.903070Z",
     "iopub.status.idle": "2025-07-30T21:23:37.000178Z",
     "shell.execute_reply": "2025-07-30T21:23:36.999161Z"
    },
    "papermill": {
     "duration": 0.110453,
     "end_time": "2025-07-30T21:23:37.001704",
     "exception": false,
     "start_time": "2025-07-30T21:23:36.891251",
     "status": "completed"
    },
    "tags": []
   },
   "outputs": [],
   "source": [
    "# Auxiliary data needed downstream in the pipeline\n",
    "\n",
    "org_train = X_train.copy()\n",
    "org_test = X_test.copy()\n",
    "org_calib = X_calib.copy()"
   ]
  },
  {
   "cell_type": "code",
   "execution_count": 28,
   "id": "1466abac-c6da-4492-a62f-4240ae3783af",
   "metadata": {
    "execution": {
     "iopub.execute_input": "2025-07-30T21:23:37.025044Z",
     "iopub.status.busy": "2025-07-30T21:23:37.024661Z",
     "iopub.status.idle": "2025-07-30T21:23:37.029578Z",
     "shell.execute_reply": "2025-07-30T21:23:37.028854Z"
    },
    "papermill": {
     "duration": 0.017773,
     "end_time": "2025-07-30T21:23:37.030788",
     "exception": false,
     "start_time": "2025-07-30T21:23:37.013015",
     "status": "completed"
    },
    "tags": []
   },
   "outputs": [],
   "source": [
    "# put in other script?\n",
    "# Group sizes\n",
    "\n",
    "#def calculate_percentages(df, df_name):\n",
    "#    total_entries = len(df)\n",
    "#\n",
    "#    female_pct = (df['frau1'] == 1).mean() * 100\n",
    "#    non_german_pct = ((df['maxdeutsch1'] == 0) & (df['maxdeutsch.Missing.'] == 0)).mean() * 100\n",
    "#    non_german_male_pct = ((df['frau1'] == 0) & (df['maxdeutsch1'] == 0) & (df['maxdeutsch.Missing.'] == 0)).mean() * 100\n",
    "#    non_german_female_pct = ((df['frau1'] == 1) & (df['maxdeutsch1'] == 0) & (df['maxdeutsch.Missing.'] == 0)).mean() * 100\n",
    "#\n",
    "#    print(f\"--- {df_name} ---\")\n",
    "#    print(f\"Female: {female_pct:.2f}%\")\n",
    "#    print(f\"Non-German: {non_german_pct:.2f}%\")\n",
    "#    print(f\"Non-German Male: {non_german_male_pct:.2f}%\")\n",
    "#    print(f\"Non-German Female: {non_german_female_pct:.2f}%\\n\")\n",
    "#\n",
    "## Calculate for each DataFrame\n",
    "#calculate_percentages(siab_calib, \"siab_calib\")\n",
    "#calculate_percentages(siab_test, \"siab_test\")\n",
    "#calculate_percentages(siab_train, \"siab_train\")"
   ]
  },
  {
   "cell_type": "markdown",
   "id": "0a4a1b33",
   "metadata": {
    "papermill": {
     "duration": 0.015586,
     "end_time": "2025-07-30T21:23:37.058058",
     "exception": false,
     "start_time": "2025-07-30T21:23:37.042472",
     "status": "completed"
    },
    "tags": []
   },
   "source": [
    "# Preprocessing Data"
   ]
  },
  {
   "cell_type": "code",
   "execution_count": 29,
   "id": "ca879031",
   "metadata": {
    "execution": {
     "iopub.execute_input": "2025-07-30T21:23:37.084449Z",
     "iopub.status.busy": "2025-07-30T21:23:37.083742Z",
     "iopub.status.idle": "2025-07-30T21:23:37.088567Z",
     "shell.execute_reply": "2025-07-30T21:23:37.087900Z"
    },
    "papermill": {
     "duration": 0.017713,
     "end_time": "2025-07-30T21:23:37.089737",
     "exception": false,
     "start_time": "2025-07-30T21:23:37.072024",
     "status": "completed"
    },
    "tags": []
   },
   "outputs": [],
   "source": [
    "# EXCLUDE PROTECTED FEATURES\n",
    "# ----------------------\n",
    "# \"exclude_features\": \"none\", # \"nationality\", \"sex\", \"nationality-sex\"\n",
    "\n",
    "excluded_features = universe[\"exclude_features\"].split(\"-\") # split, e.g.: \"nationality-sex\" -> [\"nationality\", \"sex\"]\n",
    "excluded_features_dictionary = {\n",
    "    \"nationality\": [\"maxdeutsch1\", \"maxdeutsch.Missing.\"],\n",
    "    \"sex\": [\"frau1\"],\n",
    "    \"age\": [\"age\"],\n",
    "}\n"
   ]
  },
  {
   "cell_type": "code",
   "execution_count": 30,
   "id": "b745ac60",
   "metadata": {
    "execution": {
     "iopub.execute_input": "2025-07-30T21:23:37.116390Z",
     "iopub.status.busy": "2025-07-30T21:23:37.115871Z",
     "iopub.status.idle": "2025-07-30T21:23:37.133851Z",
     "shell.execute_reply": "2025-07-30T21:23:37.132811Z"
    },
    "papermill": {
     "duration": 0.032665,
     "end_time": "2025-07-30T21:23:37.135587",
     "exception": false,
     "start_time": "2025-07-30T21:23:37.102922",
     "status": "completed"
    },
    "tags": []
   },
   "outputs": [],
   "source": [
    "# Code nice names to column names\n",
    "\n",
    "excluded_features_columns = [\n",
    "    excluded_features_dictionary[f] for f in excluded_features if len(f) > 0 and f != \"none\"\n",
    "]"
   ]
  },
  {
   "cell_type": "code",
   "execution_count": 31,
   "id": "f84f73a2",
   "metadata": {
    "execution": {
     "iopub.execute_input": "2025-07-30T21:23:37.183750Z",
     "iopub.status.busy": "2025-07-30T21:23:37.183236Z",
     "iopub.status.idle": "2025-07-30T21:23:37.189621Z",
     "shell.execute_reply": "2025-07-30T21:23:37.188737Z"
    },
    "papermill": {
     "duration": 0.031674,
     "end_time": "2025-07-30T21:23:37.191262",
     "exception": false,
     "start_time": "2025-07-30T21:23:37.159588",
     "status": "completed"
    },
    "tags": []
   },
   "outputs": [],
   "source": [
    "from utils import flatten_once\n",
    "\n",
    "excluded_features_columns = flatten_once(excluded_features_columns)"
   ]
  },
  {
   "cell_type": "code",
   "execution_count": 32,
   "id": "884dea22",
   "metadata": {
    "execution": {
     "iopub.execute_input": "2025-07-30T21:23:37.239367Z",
     "iopub.status.busy": "2025-07-30T21:23:37.238660Z",
     "iopub.status.idle": "2025-07-30T21:23:37.331332Z",
     "shell.execute_reply": "2025-07-30T21:23:37.330621Z"
    },
    "papermill": {
     "duration": 0.117321,
     "end_time": "2025-07-30T21:23:37.332829",
     "exception": false,
     "start_time": "2025-07-30T21:23:37.215508",
     "status": "completed"
    },
    "tags": []
   },
   "outputs": [
    {
     "name": "stdout",
     "output_type": "stream",
     "text": [
      "Dropping features: ['maxdeutsch1', 'maxdeutsch.Missing.']\n"
     ]
    }
   ],
   "source": [
    "if len(excluded_features_columns) > 0:\n",
    "    print(f\"Dropping features: {excluded_features_columns}\")\n",
    "    X_train.drop(excluded_features_columns, axis=1, inplace=True)"
   ]
  },
  {
   "cell_type": "code",
   "execution_count": 33,
   "id": "95ab8b16",
   "metadata": {
    "execution": {
     "iopub.execute_input": "2025-07-30T21:23:37.363751Z",
     "iopub.status.busy": "2025-07-30T21:23:37.363393Z",
     "iopub.status.idle": "2025-07-30T21:23:37.414593Z",
     "shell.execute_reply": "2025-07-30T21:23:37.413488Z"
    },
    "papermill": {
     "duration": 0.066159,
     "end_time": "2025-07-30T21:23:37.416973",
     "exception": false,
     "start_time": "2025-07-30T21:23:37.350814",
     "status": "completed"
    },
    "tags": []
   },
   "outputs": [
    {
     "name": "stdout",
     "output_type": "stream",
     "text": [
      "Dropping features: ['maxdeutsch1', 'maxdeutsch.Missing.']\n"
     ]
    }
   ],
   "source": [
    "if len(excluded_features_columns) > 0:\n",
    "    print(f\"Dropping features: {excluded_features_columns}\")\n",
    "    X_test.drop(excluded_features_columns, axis=1, inplace=True)"
   ]
  },
  {
   "cell_type": "code",
   "execution_count": 34,
   "id": "1853aaf5-fb9f-46cb-a2b5-8ea4ae2237e4",
   "metadata": {
    "execution": {
     "iopub.execute_input": "2025-07-30T21:23:37.465998Z",
     "iopub.status.busy": "2025-07-30T21:23:37.465599Z",
     "iopub.status.idle": "2025-07-30T21:23:37.518202Z",
     "shell.execute_reply": "2025-07-30T21:23:37.517160Z"
    },
    "papermill": {
     "duration": 0.070681,
     "end_time": "2025-07-30T21:23:37.520081",
     "exception": false,
     "start_time": "2025-07-30T21:23:37.449400",
     "status": "completed"
    },
    "tags": []
   },
   "outputs": [
    {
     "name": "stdout",
     "output_type": "stream",
     "text": [
      "Dropping features: ['maxdeutsch1', 'maxdeutsch.Missing.']\n"
     ]
    }
   ],
   "source": [
    "if len(excluded_features_columns) > 0:\n",
    "    print(f\"Dropping features: {excluded_features_columns}\")\n",
    "    X_calib.drop(excluded_features_columns, axis=1, inplace=True)"
   ]
  },
  {
   "cell_type": "code",
   "execution_count": 35,
   "id": "6727d079-03e5-481e-9d38-292a90b7a0a8",
   "metadata": {
    "execution": {
     "iopub.execute_input": "2025-07-30T21:23:37.569162Z",
     "iopub.status.busy": "2025-07-30T21:23:37.568640Z",
     "iopub.status.idle": "2025-07-30T21:23:37.573523Z",
     "shell.execute_reply": "2025-07-30T21:23:37.572602Z"
    },
    "papermill": {
     "duration": 0.030446,
     "end_time": "2025-07-30T21:23:37.575254",
     "exception": false,
     "start_time": "2025-07-30T21:23:37.544808",
     "status": "completed"
    },
    "tags": []
   },
   "outputs": [],
   "source": [
    "# SPLIT & STRATIFY DATA\n",
    "# ----------------------"
   ]
  },
  {
   "cell_type": "code",
   "execution_count": 36,
   "id": "76c4dc6d",
   "metadata": {
    "execution": {
     "iopub.execute_input": "2025-07-30T21:23:37.624955Z",
     "iopub.status.busy": "2025-07-30T21:23:37.623642Z",
     "iopub.status.idle": "2025-07-30T21:23:37.632463Z",
     "shell.execute_reply": "2025-07-30T21:23:37.628583Z"
    },
    "papermill": {
     "duration": 0.034658,
     "end_time": "2025-07-30T21:23:37.633888",
     "exception": false,
     "start_time": "2025-07-30T21:23:37.599230",
     "status": "completed"
    },
    "tags": []
   },
   "outputs": [],
   "source": [
    "# EXCLUDE CERTAIN SUBGROUPS\n",
    "# ----------------------\n",
    "\n",
    "mode = universe.get(\"exclude_subgroups\", \"keep-all\") \n",
    "# Fetches the exclude_subgroups setting from the universe dict.\n",
    "# Defaults to \"keep-all\" if the key is missing."
   ]
  },
  {
   "cell_type": "code",
   "execution_count": 37,
   "id": "21994072",
   "metadata": {
    "execution": {
     "iopub.execute_input": "2025-07-30T21:23:37.660135Z",
     "iopub.status.busy": "2025-07-30T21:23:37.659302Z",
     "iopub.status.idle": "2025-07-30T21:23:37.664861Z",
     "shell.execute_reply": "2025-07-30T21:23:37.664100Z"
    },
    "papermill": {
     "duration": 0.019118,
     "end_time": "2025-07-30T21:23:37.666050",
     "exception": false,
     "start_time": "2025-07-30T21:23:37.646932",
     "status": "completed"
    },
    "tags": []
   },
   "outputs": [],
   "source": [
    "if mode == \"keep-all\":\n",
    "    keep_mask = pd.Series(True, index=org_train.index)\n",
    "\n",
    "# org_train contains the original feature columns from features_org (in Simson)\n",
    "# features_org contains unprocessed features, for me X_train at beginning ???\n",
    "# For keep-all, creates a boolean Series (keep_mask) of all True, so no rows are removed.\n",
    "\n",
    "elif mode == \"drop-non-german\":\n",
    "    keep_mask = org_train[\"maxdeutsch1\"] == 1 # ??? what about missing values?\n",
    "\n",
    "else:\n",
    "    raise ValueError(f\"Unsupported mode for exclude_subgroups: {mode}\")\n"
   ]
  },
  {
   "cell_type": "code",
   "execution_count": 38,
   "id": "71651440",
   "metadata": {
    "execution": {
     "iopub.execute_input": "2025-07-30T21:23:37.695043Z",
     "iopub.status.busy": "2025-07-30T21:23:37.694531Z",
     "iopub.status.idle": "2025-07-30T21:23:37.700561Z",
     "shell.execute_reply": "2025-07-30T21:23:37.699722Z"
    },
    "papermill": {
     "duration": 0.023268,
     "end_time": "2025-07-30T21:23:37.701864",
     "exception": false,
     "start_time": "2025-07-30T21:23:37.678596",
     "status": "completed"
    },
    "tags": []
   },
   "outputs": [
    {
     "name": "stdout",
     "output_type": "stream",
     "text": [
      "Dropping 147 rows (14.70%) where mode='drop-non-german'\n"
     ]
    }
   ],
   "source": [
    "n_drop = (~keep_mask).sum() # Calculates how many rows are set to be dropped\n",
    "if n_drop > 0:\n",
    "    pct = n_drop / len(keep_mask) * 100\n",
    "    print(f\"Dropping {n_drop} rows ({pct:.2f}%) where mode='{mode}'\")"
   ]
  },
  {
   "cell_type": "code",
   "execution_count": 39,
   "id": "5fb8eee5",
   "metadata": {
    "execution": {
     "iopub.execute_input": "2025-07-30T21:23:37.726310Z",
     "iopub.status.busy": "2025-07-30T21:23:37.725806Z",
     "iopub.status.idle": "2025-07-30T21:23:37.731084Z",
     "shell.execute_reply": "2025-07-30T21:23:37.730329Z"
    },
    "papermill": {
     "duration": 0.018545,
     "end_time": "2025-07-30T21:23:37.732436",
     "exception": false,
     "start_time": "2025-07-30T21:23:37.713891",
     "status": "completed"
    },
    "tags": []
   },
   "outputs": [],
   "source": [
    "X_train = X_train[keep_mask]"
   ]
  },
  {
   "cell_type": "code",
   "execution_count": 40,
   "id": "b202bb3a",
   "metadata": {
    "execution": {
     "iopub.execute_input": "2025-07-30T21:23:37.757014Z",
     "iopub.status.busy": "2025-07-30T21:23:37.756510Z",
     "iopub.status.idle": "2025-07-30T21:23:37.761376Z",
     "shell.execute_reply": "2025-07-30T21:23:37.760708Z"
    },
    "papermill": {
     "duration": 0.018435,
     "end_time": "2025-07-30T21:23:37.762802",
     "exception": false,
     "start_time": "2025-07-30T21:23:37.744367",
     "status": "completed"
    },
    "tags": []
   },
   "outputs": [],
   "source": [
    "y_train = y_train[keep_mask]"
   ]
  },
  {
   "cell_type": "markdown",
   "id": "493e2ac3",
   "metadata": {
    "papermill": {
     "duration": 0.021433,
     "end_time": "2025-07-30T21:23:37.796167",
     "exception": false,
     "start_time": "2025-07-30T21:23:37.774734",
     "status": "completed"
    },
    "tags": []
   },
   "source": [
    "# Model Training"
   ]
  },
  {
   "cell_type": "code",
   "execution_count": 41,
   "id": "679e1268",
   "metadata": {
    "execution": {
     "iopub.execute_input": "2025-07-30T21:23:37.843169Z",
     "iopub.status.busy": "2025-07-30T21:23:37.842383Z",
     "iopub.status.idle": "2025-07-30T21:23:37.949016Z",
     "shell.execute_reply": "2025-07-30T21:23:37.948005Z"
    },
    "papermill": {
     "duration": 0.132063,
     "end_time": "2025-07-30T21:23:37.950902",
     "exception": false,
     "start_time": "2025-07-30T21:23:37.818839",
     "status": "completed"
    },
    "tags": []
   },
   "outputs": [],
   "source": [
    "from sklearn.linear_model import LogisticRegression\n",
    "from sklearn.ensemble import GradientBoostingClassifier, RandomForestClassifier\n",
    "\n",
    "if (universe[\"model\"] == \"logreg\"):\n",
    "    model = LogisticRegression() #penalty=\"none\") #, solver=\"newton-cg\", max_iter=1) # include random_state=19 ?\n",
    "elif (universe[\"model\"] == \"penalized_logreg\"):\n",
    "    model = LogisticRegression(penalty=\"l2\", C=1.0) #, solver=\"newton-cg\", max_iter=1)\n",
    "elif (universe[\"model\"] == \"rf\"):\n",
    "    model = RandomForestClassifier(n_estimators=100, n_jobs=-1)\n",
    "elif (universe[\"model\"] == \"gbm\"):\n",
    "    model = GradientBoostingClassifier()\n",
    "elif (universe[\"model\"] == \"elasticnet\"):\n",
    "    model = LogisticRegression(penalty = 'elasticnet', solver = 'saga', l1_ratio = 0.5, max_iter=5000) # which solver to use?\n",
    "else:\n",
    "    raise \"Unsupported universe.model\""
   ]
  },
  {
   "cell_type": "code",
   "execution_count": 42,
   "id": "0cc8f744",
   "metadata": {
    "execution": {
     "iopub.execute_input": "2025-07-30T21:23:37.991804Z",
     "iopub.status.busy": "2025-07-30T21:23:37.991416Z",
     "iopub.status.idle": "2025-07-30T21:23:37.996978Z",
     "shell.execute_reply": "2025-07-30T21:23:37.995879Z"
    },
    "papermill": {
     "duration": 0.023277,
     "end_time": "2025-07-30T21:23:37.998266",
     "exception": false,
     "start_time": "2025-07-30T21:23:37.974989",
     "status": "completed"
    },
    "tags": []
   },
   "outputs": [],
   "source": [
    "import numpy as np\n",
    "from sklearn.pipeline import Pipeline\n",
    "from sklearn.preprocessing import StandardScaler\n",
    "\n",
    "model = Pipeline([\n",
    "    #(\"continuous_processor\", continuous_processor),\n",
    "    #(\"categorical_preprocessor\", categorical_preprocessor),\n",
    "    (\"scale\", StandardScaler() if universe[\"scale\"] == \"scale\" else None), \n",
    "    (\"model\", model),\n",
    "])"
   ]
  },
  {
   "cell_type": "code",
   "execution_count": 43,
   "id": "9442c04d",
   "metadata": {
    "execution": {
     "iopub.execute_input": "2025-07-30T21:23:38.023279Z",
     "iopub.status.busy": "2025-07-30T21:23:38.022769Z",
     "iopub.status.idle": "2025-07-30T21:23:38.082947Z",
     "shell.execute_reply": "2025-07-30T21:23:38.082027Z"
    },
    "papermill": {
     "duration": 0.073642,
     "end_time": "2025-07-30T21:23:38.084327",
     "exception": false,
     "start_time": "2025-07-30T21:23:38.010685",
     "status": "completed"
    },
    "tags": []
   },
   "outputs": [
    {
     "name": "stderr",
     "output_type": "stream",
     "text": [
      "/dss/dsshome1/0C/ra93lal2/.local/share/virtualenvs/CMA_Fairness_v2-3j10GkSs/lib/python3.10/site-packages/sklearn/linear_model/_logistic.py:444: ConvergenceWarning: lbfgs failed to converge (status=1):\n",
      "STOP: TOTAL NO. of ITERATIONS REACHED LIMIT.\n",
      "\n",
      "Increase the number of iterations (max_iter) or scale the data as shown in:\n",
      "    https://scikit-learn.org/stable/modules/preprocessing.html\n",
      "Please also refer to the documentation for alternative solver options:\n",
      "    https://scikit-learn.org/stable/modules/linear_model.html#logistic-regression\n",
      "  n_iter_i = _check_optimize_result(\n"
     ]
    },
    {
     "data": {
      "text/html": [
       "<style>#sk-container-id-1 {color: black;background-color: white;}#sk-container-id-1 pre{padding: 0;}#sk-container-id-1 div.sk-toggleable {background-color: white;}#sk-container-id-1 label.sk-toggleable__label {cursor: pointer;display: block;width: 100%;margin-bottom: 0;padding: 0.3em;box-sizing: border-box;text-align: center;}#sk-container-id-1 label.sk-toggleable__label-arrow:before {content: \"▸\";float: left;margin-right: 0.25em;color: #696969;}#sk-container-id-1 label.sk-toggleable__label-arrow:hover:before {color: black;}#sk-container-id-1 div.sk-estimator:hover label.sk-toggleable__label-arrow:before {color: black;}#sk-container-id-1 div.sk-toggleable__content {max-height: 0;max-width: 0;overflow: hidden;text-align: left;background-color: #f0f8ff;}#sk-container-id-1 div.sk-toggleable__content pre {margin: 0.2em;color: black;border-radius: 0.25em;background-color: #f0f8ff;}#sk-container-id-1 input.sk-toggleable__control:checked~div.sk-toggleable__content {max-height: 200px;max-width: 100%;overflow: auto;}#sk-container-id-1 input.sk-toggleable__control:checked~label.sk-toggleable__label-arrow:before {content: \"▾\";}#sk-container-id-1 div.sk-estimator input.sk-toggleable__control:checked~label.sk-toggleable__label {background-color: #d4ebff;}#sk-container-id-1 div.sk-label input.sk-toggleable__control:checked~label.sk-toggleable__label {background-color: #d4ebff;}#sk-container-id-1 input.sk-hidden--visually {border: 0;clip: rect(1px 1px 1px 1px);clip: rect(1px, 1px, 1px, 1px);height: 1px;margin: -1px;overflow: hidden;padding: 0;position: absolute;width: 1px;}#sk-container-id-1 div.sk-estimator {font-family: monospace;background-color: #f0f8ff;border: 1px dotted black;border-radius: 0.25em;box-sizing: border-box;margin-bottom: 0.5em;}#sk-container-id-1 div.sk-estimator:hover {background-color: #d4ebff;}#sk-container-id-1 div.sk-parallel-item::after {content: \"\";width: 100%;border-bottom: 1px solid gray;flex-grow: 1;}#sk-container-id-1 div.sk-label:hover label.sk-toggleable__label {background-color: #d4ebff;}#sk-container-id-1 div.sk-serial::before {content: \"\";position: absolute;border-left: 1px solid gray;box-sizing: border-box;top: 0;bottom: 0;left: 50%;z-index: 0;}#sk-container-id-1 div.sk-serial {display: flex;flex-direction: column;align-items: center;background-color: white;padding-right: 0.2em;padding-left: 0.2em;position: relative;}#sk-container-id-1 div.sk-item {position: relative;z-index: 1;}#sk-container-id-1 div.sk-parallel {display: flex;align-items: stretch;justify-content: center;background-color: white;position: relative;}#sk-container-id-1 div.sk-item::before, #sk-container-id-1 div.sk-parallel-item::before {content: \"\";position: absolute;border-left: 1px solid gray;box-sizing: border-box;top: 0;bottom: 0;left: 50%;z-index: -1;}#sk-container-id-1 div.sk-parallel-item {display: flex;flex-direction: column;z-index: 1;position: relative;background-color: white;}#sk-container-id-1 div.sk-parallel-item:first-child::after {align-self: flex-end;width: 50%;}#sk-container-id-1 div.sk-parallel-item:last-child::after {align-self: flex-start;width: 50%;}#sk-container-id-1 div.sk-parallel-item:only-child::after {width: 0;}#sk-container-id-1 div.sk-dashed-wrapped {border: 1px dashed gray;margin: 0 0.4em 0.5em 0.4em;box-sizing: border-box;padding-bottom: 0.4em;background-color: white;}#sk-container-id-1 div.sk-label label {font-family: monospace;font-weight: bold;display: inline-block;line-height: 1.2em;}#sk-container-id-1 div.sk-label-container {text-align: center;}#sk-container-id-1 div.sk-container {/* jupyter's `normalize.less` sets `[hidden] { display: none; }` but bootstrap.min.css set `[hidden] { display: none !important; }` so we also need the `!important` here to be able to override the default hidden behavior on the sphinx rendered scikit-learn.org. See: https://github.com/scikit-learn/scikit-learn/issues/21755 */display: inline-block !important;position: relative;}#sk-container-id-1 div.sk-text-repr-fallback {display: none;}</style><div id=\"sk-container-id-1\" class=\"sk-top-container\"><div class=\"sk-text-repr-fallback\"><pre>Pipeline(steps=[(&#x27;scale&#x27;, StandardScaler()), (&#x27;model&#x27;, LogisticRegression())])</pre><b>In a Jupyter environment, please rerun this cell to show the HTML representation or trust the notebook. <br />On GitHub, the HTML representation is unable to render, please try loading this page with nbviewer.org.</b></div><div class=\"sk-container\" hidden><div class=\"sk-item sk-dashed-wrapped\"><div class=\"sk-label-container\"><div class=\"sk-label sk-toggleable\"><input class=\"sk-toggleable__control sk-hidden--visually\" id=\"sk-estimator-id-1\" type=\"checkbox\" ><label for=\"sk-estimator-id-1\" class=\"sk-toggleable__label sk-toggleable__label-arrow\">Pipeline</label><div class=\"sk-toggleable__content\"><pre>Pipeline(steps=[(&#x27;scale&#x27;, StandardScaler()), (&#x27;model&#x27;, LogisticRegression())])</pre></div></div></div><div class=\"sk-serial\"><div class=\"sk-item\"><div class=\"sk-estimator sk-toggleable\"><input class=\"sk-toggleable__control sk-hidden--visually\" id=\"sk-estimator-id-2\" type=\"checkbox\" ><label for=\"sk-estimator-id-2\" class=\"sk-toggleable__label sk-toggleable__label-arrow\">StandardScaler</label><div class=\"sk-toggleable__content\"><pre>StandardScaler()</pre></div></div></div><div class=\"sk-item\"><div class=\"sk-estimator sk-toggleable\"><input class=\"sk-toggleable__control sk-hidden--visually\" id=\"sk-estimator-id-3\" type=\"checkbox\" ><label for=\"sk-estimator-id-3\" class=\"sk-toggleable__label sk-toggleable__label-arrow\">LogisticRegression</label><div class=\"sk-toggleable__content\"><pre>LogisticRegression()</pre></div></div></div></div></div></div></div>"
      ],
      "text/plain": [
       "Pipeline(steps=[('scale', StandardScaler()), ('model', LogisticRegression())])"
      ]
     },
     "execution_count": 43,
     "metadata": {},
     "output_type": "execute_result"
    }
   ],
   "source": [
    "model.fit(X_train, y_train.values.ravel())"
   ]
  },
  {
   "cell_type": "code",
   "execution_count": 44,
   "id": "af59f8c0",
   "metadata": {
    "execution": {
     "iopub.execute_input": "2025-07-30T21:23:38.111170Z",
     "iopub.status.busy": "2025-07-30T21:23:38.110730Z",
     "iopub.status.idle": "2025-07-30T21:23:38.115567Z",
     "shell.execute_reply": "2025-07-30T21:23:38.114577Z"
    },
    "papermill": {
     "duration": 0.020778,
     "end_time": "2025-07-30T21:23:38.117353",
     "exception": false,
     "start_time": "2025-07-30T21:23:38.096575",
     "status": "completed"
    },
    "tags": []
   },
   "outputs": [],
   "source": [
    "from fairness_multiverse.universe import predict_w_threshold"
   ]
  },
  {
   "cell_type": "code",
   "execution_count": 45,
   "id": "a7cf2e16",
   "metadata": {
    "execution": {
     "iopub.execute_input": "2025-07-30T21:23:38.170591Z",
     "iopub.status.busy": "2025-07-30T21:23:38.169622Z",
     "iopub.status.idle": "2025-07-30T21:23:38.365574Z",
     "shell.execute_reply": "2025-07-30T21:23:38.364072Z"
    },
    "papermill": {
     "duration": 0.22569,
     "end_time": "2025-07-30T21:23:38.368259",
     "exception": false,
     "start_time": "2025-07-30T21:23:38.142569",
     "status": "completed"
    },
    "tags": []
   },
   "outputs": [
    {
     "data": {
      "text/plain": [
       "0.8111916174339538"
      ]
     },
     "execution_count": 45,
     "metadata": {},
     "output_type": "execute_result"
    }
   ],
   "source": [
    "probs_test = model.predict_proba(X_test)\n",
    "\n",
    "'''\n",
    "Below code returns a boolean array (or binary 0/1 array depending on how it’s used) where each element \n",
    "is True if the probability of class 1 is greater than or equal to the threshold, and False otherwise.\n",
    "'''\n",
    "y_pred_default = predict_w_threshold(probs_test, 0.5)\n",
    "\n",
    "from sklearn.metrics import accuracy_score\n",
    "\n",
    "# Naive prediction\n",
    "accuracy_score(y_true = y_true, y_pred = y_pred_default)"
   ]
  },
  {
   "cell_type": "code",
   "execution_count": 46,
   "id": "081964c3",
   "metadata": {
    "execution": {
     "iopub.execute_input": "2025-07-30T21:23:38.435474Z",
     "iopub.status.busy": "2025-07-30T21:23:38.434789Z",
     "iopub.status.idle": "2025-07-30T21:23:38.650355Z",
     "shell.execute_reply": "2025-07-30T21:23:38.649669Z"
    },
    "papermill": {
     "duration": 0.250409,
     "end_time": "2025-07-30T21:23:38.651599",
     "exception": false,
     "start_time": "2025-07-30T21:23:38.401190",
     "status": "completed"
    },
    "tags": []
   },
   "outputs": [
    {
     "data": {
      "text/plain": [
       "array([0, 0, 0, ..., 0, 0, 0])"
      ]
     },
     "execution_count": 46,
     "metadata": {},
     "output_type": "execute_result"
    }
   ],
   "source": [
    "model.predict(X_test)"
   ]
  },
  {
   "cell_type": "markdown",
   "id": "56c9705b",
   "metadata": {
    "papermill": {
     "duration": 0.01392,
     "end_time": "2025-07-30T21:23:38.678052",
     "exception": false,
     "start_time": "2025-07-30T21:23:38.664132",
     "status": "completed"
    },
    "tags": []
   },
   "source": [
    "# Conformal Prediction"
   ]
  },
  {
   "cell_type": "code",
   "execution_count": 47,
   "id": "160ec6ff",
   "metadata": {
    "execution": {
     "iopub.execute_input": "2025-07-30T21:23:38.705274Z",
     "iopub.status.busy": "2025-07-30T21:23:38.704939Z",
     "iopub.status.idle": "2025-07-30T21:23:38.709097Z",
     "shell.execute_reply": "2025-07-30T21:23:38.708409Z"
    },
    "papermill": {
     "duration": 0.018299,
     "end_time": "2025-07-30T21:23:38.710415",
     "exception": false,
     "start_time": "2025-07-30T21:23:38.692116",
     "status": "completed"
    },
    "tags": []
   },
   "outputs": [],
   "source": [
    "# Miscoverage level for conformal prediction (10% allowed error rate => 90% target coverage)\n",
    "alpha = 0.1"
   ]
  },
  {
   "cell_type": "code",
   "execution_count": 48,
   "id": "eadf4555-3dd3-440e-8e35-f82a4ad9f855",
   "metadata": {
    "execution": {
     "iopub.execute_input": "2025-07-30T21:23:38.742648Z",
     "iopub.status.busy": "2025-07-30T21:23:38.741648Z",
     "iopub.status.idle": "2025-07-30T21:23:38.999459Z",
     "shell.execute_reply": "2025-07-30T21:23:38.998731Z"
    },
    "papermill": {
     "duration": 0.281987,
     "end_time": "2025-07-30T21:23:39.004941",
     "exception": false,
     "start_time": "2025-07-30T21:23:38.722954",
     "status": "completed"
    },
    "tags": []
   },
   "outputs": [],
   "source": [
    "probs_calib = model.predict_proba(X_calib)"
   ]
  },
  {
   "cell_type": "code",
   "execution_count": 49,
   "id": "2ed93547-6d5d-4983-9b36-1ecb300da49a",
   "metadata": {
    "execution": {
     "iopub.execute_input": "2025-07-30T21:23:39.031178Z",
     "iopub.status.busy": "2025-07-30T21:23:39.030869Z",
     "iopub.status.idle": "2025-07-30T21:23:39.035587Z",
     "shell.execute_reply": "2025-07-30T21:23:39.034931Z"
    },
    "papermill": {
     "duration": 0.019103,
     "end_time": "2025-07-30T21:23:39.036952",
     "exception": false,
     "start_time": "2025-07-30T21:23:39.017849",
     "status": "completed"
    },
    "tags": []
   },
   "outputs": [],
   "source": [
    "y_calib = y_calib.values.ravel().astype(int)"
   ]
  },
  {
   "cell_type": "code",
   "execution_count": 50,
   "id": "65d1320d-f588-4b38-9072-62af1ae97f7d",
   "metadata": {
    "execution": {
     "iopub.execute_input": "2025-07-30T21:23:39.068681Z",
     "iopub.status.busy": "2025-07-30T21:23:39.068319Z",
     "iopub.status.idle": "2025-07-30T21:23:39.074393Z",
     "shell.execute_reply": "2025-07-30T21:23:39.073567Z"
    },
    "papermill": {
     "duration": 0.021836,
     "end_time": "2025-07-30T21:23:39.075723",
     "exception": false,
     "start_time": "2025-07-30T21:23:39.053887",
     "status": "completed"
    },
    "tags": []
   },
   "outputs": [],
   "source": [
    "from fairness_multiverse.conformal import compute_nc_scores\n",
    "\n",
    "# Compute nonconformity scores on calibration set (1 - probability of true class)\n",
    "nc_scores = compute_nc_scores(probs_calib, y_calib)"
   ]
  },
  {
   "cell_type": "code",
   "execution_count": 51,
   "id": "df3b8ca3-53b7-43d5-9667-7c85da7aeda2",
   "metadata": {
    "execution": {
     "iopub.execute_input": "2025-07-30T21:23:39.103574Z",
     "iopub.status.busy": "2025-07-30T21:23:39.102861Z",
     "iopub.status.idle": "2025-07-30T21:23:39.109866Z",
     "shell.execute_reply": "2025-07-30T21:23:39.108795Z"
    },
    "papermill": {
     "duration": 0.021838,
     "end_time": "2025-07-30T21:23:39.111121",
     "exception": false,
     "start_time": "2025-07-30T21:23:39.089283",
     "status": "completed"
    },
    "tags": []
   },
   "outputs": [],
   "source": [
    "from fairness_multiverse.conformal import find_threshold\n",
    "\n",
    "# Find conformal threshold q_hat for the given alpha (split conformal method)\n",
    "q_hat = find_threshold(nc_scores, alpha)"
   ]
  },
  {
   "cell_type": "code",
   "execution_count": 52,
   "id": "4d29e6c1-0ef6-4aa4-b8fe-4fe79b0d033a",
   "metadata": {
    "execution": {
     "iopub.execute_input": "2025-07-30T21:23:39.161544Z",
     "iopub.status.busy": "2025-07-30T21:23:39.161089Z",
     "iopub.status.idle": "2025-07-30T21:23:39.168285Z",
     "shell.execute_reply": "2025-07-30T21:23:39.167235Z"
    },
    "papermill": {
     "duration": 0.03498,
     "end_time": "2025-07-30T21:23:39.169824",
     "exception": false,
     "start_time": "2025-07-30T21:23:39.134844",
     "status": "completed"
    },
    "tags": []
   },
   "outputs": [
    {
     "data": {
      "text/plain": [
       "0.8446131952603879"
      ]
     },
     "execution_count": 52,
     "metadata": {},
     "output_type": "execute_result"
    }
   ],
   "source": [
    "q_hat"
   ]
  },
  {
   "cell_type": "code",
   "execution_count": 53,
   "id": "92460794-cdac-4be2-ba28-f28c0515a6fb",
   "metadata": {
    "execution": {
     "iopub.execute_input": "2025-07-30T21:23:39.221321Z",
     "iopub.status.busy": "2025-07-30T21:23:39.220865Z",
     "iopub.status.idle": "2025-07-30T21:23:40.273369Z",
     "shell.execute_reply": "2025-07-30T21:23:40.272420Z"
    },
    "papermill": {
     "duration": 1.081066,
     "end_time": "2025-07-30T21:23:40.275427",
     "exception": false,
     "start_time": "2025-07-30T21:23:39.194361",
     "status": "completed"
    },
    "tags": []
   },
   "outputs": [],
   "source": [
    "from fairness_multiverse.conformal import predict_conformal_sets\n",
    "\n",
    "# Generate prediction sets for each test example\n",
    "pred_sets = predict_conformal_sets(model, X_test, q_hat)"
   ]
  },
  {
   "cell_type": "code",
   "execution_count": 54,
   "id": "d90c9a65-e6db-4f5d-80cd-e68fb7e46829",
   "metadata": {
    "execution": {
     "iopub.execute_input": "2025-07-30T21:23:40.329694Z",
     "iopub.status.busy": "2025-07-30T21:23:40.329067Z",
     "iopub.status.idle": "2025-07-30T21:23:40.334425Z",
     "shell.execute_reply": "2025-07-30T21:23:40.333405Z"
    },
    "papermill": {
     "duration": 0.032179,
     "end_time": "2025-07-30T21:23:40.336919",
     "exception": false,
     "start_time": "2025-07-30T21:23:40.304740",
     "status": "completed"
    },
    "tags": []
   },
   "outputs": [],
   "source": [
    "y_true = y_true.squeeze()"
   ]
  },
  {
   "cell_type": "code",
   "execution_count": 55,
   "id": "3a58a54a-1e68-46b9-927a-df01f18aebc8",
   "metadata": {
    "execution": {
     "iopub.execute_input": "2025-07-30T21:23:40.386447Z",
     "iopub.status.busy": "2025-07-30T21:23:40.386010Z",
     "iopub.status.idle": "2025-07-30T21:23:41.381245Z",
     "shell.execute_reply": "2025-07-30T21:23:41.380332Z"
    },
    "papermill": {
     "duration": 1.020672,
     "end_time": "2025-07-30T21:23:41.383174",
     "exception": false,
     "start_time": "2025-07-30T21:23:40.362502",
     "status": "completed"
    },
    "tags": []
   },
   "outputs": [],
   "source": [
    "from fairness_multiverse.conformal import evaluate_sets\n",
    "\n",
    "# Evaluate coverage and average set size on test data\n",
    "metrics = evaluate_sets(pred_sets, y_true)"
   ]
  },
  {
   "cell_type": "markdown",
   "id": "2b569c12-9aaa-4c88-98c9-bbcd0cf3ebb8",
   "metadata": {
    "papermill": {
     "duration": 0.022482,
     "end_time": "2025-07-30T21:23:41.429162",
     "exception": false,
     "start_time": "2025-07-30T21:23:41.406680",
     "status": "completed"
    },
    "tags": []
   },
   "source": [
    "# CP Metrics"
   ]
  },
  {
   "cell_type": "code",
   "execution_count": 56,
   "id": "5ce0a5cb-201f-45a0-ade5-94c7f0bd6095",
   "metadata": {
    "execution": {
     "iopub.execute_input": "2025-07-30T21:23:41.477354Z",
     "iopub.status.busy": "2025-07-30T21:23:41.476828Z",
     "iopub.status.idle": "2025-07-30T21:23:41.484807Z",
     "shell.execute_reply": "2025-07-30T21:23:41.483797Z"
    },
    "papermill": {
     "duration": 0.033525,
     "end_time": "2025-07-30T21:23:41.486293",
     "exception": false,
     "start_time": "2025-07-30T21:23:41.452768",
     "status": "completed"
    },
    "tags": []
   },
   "outputs": [
    {
     "data": {
      "text/plain": [
       "{'coverage': 0.9080704492252815, 'avg_size': 1.2678965555679411}"
      ]
     },
     "execution_count": 56,
     "metadata": {},
     "output_type": "execute_result"
    }
   ],
   "source": [
    "metrics"
   ]
  },
  {
   "cell_type": "code",
   "execution_count": 57,
   "id": "9b9a838d-31c9-430b-ae14-12baee460d17",
   "metadata": {
    "execution": {
     "iopub.execute_input": "2025-07-30T21:23:41.535729Z",
     "iopub.status.busy": "2025-07-30T21:23:41.535175Z",
     "iopub.status.idle": "2025-07-30T21:23:41.543709Z",
     "shell.execute_reply": "2025-07-30T21:23:41.542615Z"
    },
    "papermill": {
     "duration": 0.034716,
     "end_time": "2025-07-30T21:23:41.545357",
     "exception": false,
     "start_time": "2025-07-30T21:23:41.510641",
     "status": "completed"
    },
    "tags": []
   },
   "outputs": [],
   "source": [
    "example_universe = universe.copy()\n",
    "universe_training_year = example_universe.get(\"training_year\")\n",
    "universe_training_size = example_universe.get(\"training_size\")\n",
    "universe_scale = example_universe.get(\"scale\")\n",
    "universe_model = example_universe.get(\"model\")\n",
    "universe_exclude_features = example_universe.get(\"exclude_features\")\n",
    "universe_exclude_subgroups = example_universe.get(\"exclude_subgroups\")"
   ]
  },
  {
   "cell_type": "code",
   "execution_count": 58,
   "id": "f4b6a8ac-9dc0-4245-8a91-5b3b5999c4f9",
   "metadata": {
    "execution": {
     "iopub.execute_input": "2025-07-30T21:23:41.595651Z",
     "iopub.status.busy": "2025-07-30T21:23:41.594882Z",
     "iopub.status.idle": "2025-07-30T21:23:41.601788Z",
     "shell.execute_reply": "2025-07-30T21:23:41.600841Z"
    },
    "papermill": {
     "duration": 0.033635,
     "end_time": "2025-07-30T21:23:41.603377",
     "exception": false,
     "start_time": "2025-07-30T21:23:41.569742",
     "status": "completed"
    },
    "tags": []
   },
   "outputs": [],
   "source": [
    "cp_metrics_dict = {\n",
    "    \"universe_id\": [universe_id],\n",
    "    \"universe_training_year\": [universe_training_year],\n",
    "    \"universe_training_size\": [universe_training_size],\n",
    "    \"universe_scale\": [universe_scale],\n",
    "    \"universe_model\": [universe_model],\n",
    "    \"universe_exclude_features\": [universe_exclude_features],\n",
    "    \"universe_exclude_subgroups\": [universe_exclude_subgroups],\n",
    "    \"q_hat\": [q_hat],\n",
    "    \"coverage\": [metrics[\"coverage\"]],\n",
    "    \"avg_size\": [metrics[\"avg_size\"]],\n",
    "}"
   ]
  },
  {
   "cell_type": "code",
   "execution_count": 59,
   "id": "908acbb1-0371-4915-85ca-3fa520d2efe2",
   "metadata": {
    "execution": {
     "iopub.execute_input": "2025-07-30T21:23:41.652745Z",
     "iopub.status.busy": "2025-07-30T21:23:41.652259Z",
     "iopub.status.idle": "2025-07-30T21:23:41.659830Z",
     "shell.execute_reply": "2025-07-30T21:23:41.658979Z"
    },
    "papermill": {
     "duration": 0.032964,
     "end_time": "2025-07-30T21:23:41.661345",
     "exception": false,
     "start_time": "2025-07-30T21:23:41.628381",
     "status": "completed"
    },
    "tags": []
   },
   "outputs": [
    {
     "data": {
      "text/plain": [
       "{'universe_id': ['8c5fdf9f41b6dd6ba3022017484fd930'],\n",
       " 'universe_training_year': ['2014'],\n",
       " 'universe_training_size': ['1k'],\n",
       " 'universe_scale': ['scale'],\n",
       " 'universe_model': ['penalized_logreg'],\n",
       " 'universe_exclude_features': ['nationality'],\n",
       " 'universe_exclude_subgroups': ['drop-non-german'],\n",
       " 'q_hat': [0.8446131952603879],\n",
       " 'coverage': [0.9080704492252815],\n",
       " 'avg_size': [1.2678965555679411]}"
      ]
     },
     "execution_count": 59,
     "metadata": {},
     "output_type": "execute_result"
    }
   ],
   "source": [
    "cp_metrics_dict"
   ]
  },
  {
   "cell_type": "code",
   "execution_count": 60,
   "id": "33007efc-14e9-4ec6-97ac-56a455c82265",
   "metadata": {
    "execution": {
     "iopub.execute_input": "2025-07-30T21:23:41.714653Z",
     "iopub.status.busy": "2025-07-30T21:23:41.714011Z",
     "iopub.status.idle": "2025-07-30T21:23:41.720682Z",
     "shell.execute_reply": "2025-07-30T21:23:41.719567Z"
    },
    "papermill": {
     "duration": 0.036663,
     "end_time": "2025-07-30T21:23:41.722959",
     "exception": false,
     "start_time": "2025-07-30T21:23:41.686296",
     "status": "completed"
    },
    "tags": []
   },
   "outputs": [],
   "source": [
    "cp_metrics_df = pd.DataFrame(cp_metrics_dict)"
   ]
  },
  {
   "cell_type": "code",
   "execution_count": 61,
   "id": "db12611b-57b2-4910-b9d0-355adfd6e7bf",
   "metadata": {
    "execution": {
     "iopub.execute_input": "2025-07-30T21:23:41.775415Z",
     "iopub.status.busy": "2025-07-30T21:23:41.774557Z",
     "iopub.status.idle": "2025-07-30T21:23:41.794544Z",
     "shell.execute_reply": "2025-07-30T21:23:41.793448Z"
    },
    "papermill": {
     "duration": 0.047658,
     "end_time": "2025-07-30T21:23:41.796266",
     "exception": false,
     "start_time": "2025-07-30T21:23:41.748608",
     "status": "completed"
    },
    "tags": []
   },
   "outputs": [
    {
     "data": {
      "text/html": [
       "<div>\n",
       "<style scoped>\n",
       "    .dataframe tbody tr th:only-of-type {\n",
       "        vertical-align: middle;\n",
       "    }\n",
       "\n",
       "    .dataframe tbody tr th {\n",
       "        vertical-align: top;\n",
       "    }\n",
       "\n",
       "    .dataframe thead th {\n",
       "        text-align: right;\n",
       "    }\n",
       "</style>\n",
       "<table border=\"1\" class=\"dataframe\">\n",
       "  <thead>\n",
       "    <tr style=\"text-align: right;\">\n",
       "      <th></th>\n",
       "      <th>universe_id</th>\n",
       "      <th>universe_training_year</th>\n",
       "      <th>universe_training_size</th>\n",
       "      <th>universe_scale</th>\n",
       "      <th>universe_model</th>\n",
       "      <th>universe_exclude_features</th>\n",
       "      <th>universe_exclude_subgroups</th>\n",
       "      <th>q_hat</th>\n",
       "      <th>coverage</th>\n",
       "      <th>avg_size</th>\n",
       "    </tr>\n",
       "  </thead>\n",
       "  <tbody>\n",
       "    <tr>\n",
       "      <th>0</th>\n",
       "      <td>8c5fdf9f41b6dd6ba3022017484fd930</td>\n",
       "      <td>2014</td>\n",
       "      <td>1k</td>\n",
       "      <td>scale</td>\n",
       "      <td>penalized_logreg</td>\n",
       "      <td>nationality</td>\n",
       "      <td>drop-non-german</td>\n",
       "      <td>0.844613</td>\n",
       "      <td>0.90807</td>\n",
       "      <td>1.267897</td>\n",
       "    </tr>\n",
       "  </tbody>\n",
       "</table>\n",
       "</div>"
      ],
      "text/plain": [
       "                        universe_id universe_training_year  \\\n",
       "0  8c5fdf9f41b6dd6ba3022017484fd930                   2014   \n",
       "\n",
       "  universe_training_size universe_scale    universe_model  \\\n",
       "0                     1k          scale  penalized_logreg   \n",
       "\n",
       "  universe_exclude_features universe_exclude_subgroups     q_hat  coverage  \\\n",
       "0               nationality            drop-non-german  0.844613   0.90807   \n",
       "\n",
       "   avg_size  \n",
       "0  1.267897  "
      ]
     },
     "execution_count": 61,
     "metadata": {},
     "output_type": "execute_result"
    }
   ],
   "source": [
    "cp_metrics_df"
   ]
  },
  {
   "cell_type": "code",
   "execution_count": 62,
   "id": "b7fbde55-a0a1-47e4-9af6-fe4a17fa8c61",
   "metadata": {
    "execution": {
     "iopub.execute_input": "2025-07-30T21:23:41.849623Z",
     "iopub.status.busy": "2025-07-30T21:23:41.848935Z",
     "iopub.status.idle": "2025-07-30T21:23:41.854938Z",
     "shell.execute_reply": "2025-07-30T21:23:41.854066Z"
    },
    "papermill": {
     "duration": 0.032475,
     "end_time": "2025-07-30T21:23:41.856548",
     "exception": false,
     "start_time": "2025-07-30T21:23:41.824073",
     "status": "completed"
    },
    "tags": []
   },
   "outputs": [],
   "source": [
    "# Conditional Coverage & looking at subgroups"
   ]
  },
  {
   "cell_type": "code",
   "execution_count": 63,
   "id": "027ae886-68dd-4141-96c7-805a5450e1ef",
   "metadata": {
    "execution": {
     "iopub.execute_input": "2025-07-30T21:23:41.906986Z",
     "iopub.status.busy": "2025-07-30T21:23:41.906327Z",
     "iopub.status.idle": "2025-07-30T21:23:42.173799Z",
     "shell.execute_reply": "2025-07-30T21:23:42.173031Z"
    },
    "papermill": {
     "duration": 0.294123,
     "end_time": "2025-07-30T21:23:42.175531",
     "exception": false,
     "start_time": "2025-07-30T21:23:41.881408",
     "status": "completed"
    },
    "tags": []
   },
   "outputs": [],
   "source": [
    "from fairness_multiverse.conformal import build_cp_groups\n",
    "\n",
    "cp_groups_df = build_cp_groups(pred_sets, y_true, X_test.index, org_test)\n",
    "#needs universe_id and setting"
   ]
  },
  {
   "cell_type": "code",
   "execution_count": 64,
   "id": "01d5802c-663a-4d1f-9d69-e036faaffbf7",
   "metadata": {
    "execution": {
     "iopub.execute_input": "2025-07-30T21:23:42.230700Z",
     "iopub.status.busy": "2025-07-30T21:23:42.229963Z",
     "iopub.status.idle": "2025-07-30T21:23:42.234399Z",
     "shell.execute_reply": "2025-07-30T21:23:42.233650Z"
    },
    "papermill": {
     "duration": 0.019625,
     "end_time": "2025-07-30T21:23:42.235745",
     "exception": false,
     "start_time": "2025-07-30T21:23:42.216120",
     "status": "completed"
    },
    "tags": []
   },
   "outputs": [],
   "source": [
    "#delete\n",
    "#cp_groups_df"
   ]
  },
  {
   "cell_type": "code",
   "execution_count": 65,
   "id": "fa424af1-d1eb-443d-b717-2d279ada8408",
   "metadata": {
    "execution": {
     "iopub.execute_input": "2025-07-30T21:23:42.263284Z",
     "iopub.status.busy": "2025-07-30T21:23:42.262922Z",
     "iopub.status.idle": "2025-07-30T21:23:42.267065Z",
     "shell.execute_reply": "2025-07-30T21:23:42.266312Z"
    },
    "papermill": {
     "duration": 0.018927,
     "end_time": "2025-07-30T21:23:42.268271",
     "exception": false,
     "start_time": "2025-07-30T21:23:42.249344",
     "status": "completed"
    },
    "tags": []
   },
   "outputs": [],
   "source": [
    "#delete\n",
    "#percentage = (cp_groups_df['nongerman_female'] == 1).mean() * 100\n",
    "#print(percentage)\n"
   ]
  },
  {
   "cell_type": "code",
   "execution_count": 66,
   "id": "6cbdab96-b2b2-45af-ad54-d0516db2e28d",
   "metadata": {
    "execution": {
     "iopub.execute_input": "2025-07-30T21:23:42.295371Z",
     "iopub.status.busy": "2025-07-30T21:23:42.295068Z",
     "iopub.status.idle": "2025-07-30T21:23:43.176219Z",
     "shell.execute_reply": "2025-07-30T21:23:43.175411Z"
    },
    "papermill": {
     "duration": 0.896301,
     "end_time": "2025-07-30T21:23:43.177813",
     "exception": false,
     "start_time": "2025-07-30T21:23:42.281512",
     "status": "completed"
    },
    "tags": []
   },
   "outputs": [],
   "source": [
    "# Define covered = 1 if true_label is in the predicted set\n",
    "cp_groups_df['covered'] = cp_groups_df.apply(\n",
    "    lambda r: int(r['true_label'] in r['pred_set']),\n",
    "    axis=1\n",
    ")"
   ]
  },
  {
   "cell_type": "code",
   "execution_count": 67,
   "id": "338ff529-1a6b-4b87-a931-8e4788d52aad",
   "metadata": {
    "execution": {
     "iopub.execute_input": "2025-07-30T21:23:43.205851Z",
     "iopub.status.busy": "2025-07-30T21:23:43.205329Z",
     "iopub.status.idle": "2025-07-30T21:23:43.209928Z",
     "shell.execute_reply": "2025-07-30T21:23:43.209258Z"
    },
    "papermill": {
     "duration": 0.019578,
     "end_time": "2025-07-30T21:23:43.211140",
     "exception": false,
     "start_time": "2025-07-30T21:23:43.191562",
     "status": "completed"
    },
    "tags": []
   },
   "outputs": [],
   "source": [
    "#cp_groups_df"
   ]
  },
  {
   "cell_type": "code",
   "execution_count": 68,
   "id": "90032e27-66df-4540-9169-4e89cfbaa758",
   "metadata": {
    "execution": {
     "iopub.execute_input": "2025-07-30T21:23:43.238760Z",
     "iopub.status.busy": "2025-07-30T21:23:43.238263Z",
     "iopub.status.idle": "2025-07-30T21:23:43.246975Z",
     "shell.execute_reply": "2025-07-30T21:23:43.246259Z"
    },
    "papermill": {
     "duration": 0.023732,
     "end_time": "2025-07-30T21:23:43.248280",
     "exception": false,
     "start_time": "2025-07-30T21:23:43.224548",
     "status": "completed"
    },
    "tags": []
   },
   "outputs": [],
   "source": [
    "subgroups = ['frau1','nongerman','nongerman_male','nongerman_female']\n",
    "\n",
    "# Conditional coverage for subgroup==1\n",
    "cond_coverage = {\n",
    "    g: cp_groups_df.loc[cp_groups_df[g]==1, 'covered'].mean()\n",
    "    for g in subgroups\n",
    "}"
   ]
  },
  {
   "cell_type": "code",
   "execution_count": 69,
   "id": "1e348fb1-b9c3-45bc-ba23-f016827a7e0d",
   "metadata": {
    "execution": {
     "iopub.execute_input": "2025-07-30T21:23:43.275711Z",
     "iopub.status.busy": "2025-07-30T21:23:43.275210Z",
     "iopub.status.idle": "2025-07-30T21:23:43.281589Z",
     "shell.execute_reply": "2025-07-30T21:23:43.280902Z"
    },
    "papermill": {
     "duration": 0.021063,
     "end_time": "2025-07-30T21:23:43.282813",
     "exception": false,
     "start_time": "2025-07-30T21:23:43.261750",
     "status": "completed"
    },
    "tags": []
   },
   "outputs": [
    {
     "data": {
      "text/plain": [
       "{'frau1': 0.9052432942445073,\n",
       " 'nongerman': 0.9109639027676416,\n",
       " 'nongerman_male': 0.9287579933351346,\n",
       " 'nongerman_female': 0.8815201192250373}"
      ]
     },
     "execution_count": 69,
     "metadata": {},
     "output_type": "execute_result"
    }
   ],
   "source": [
    "cond_coverage"
   ]
  },
  {
   "cell_type": "code",
   "execution_count": 70,
   "id": "f5093324-c3dd-4d63-bc4c-8d945e5c8bbb",
   "metadata": {
    "execution": {
     "iopub.execute_input": "2025-07-30T21:23:43.310352Z",
     "iopub.status.busy": "2025-07-30T21:23:43.309860Z",
     "iopub.status.idle": "2025-07-30T21:23:43.315769Z",
     "shell.execute_reply": "2025-07-30T21:23:43.315077Z"
    },
    "papermill": {
     "duration": 0.02089,
     "end_time": "2025-07-30T21:23:43.317155",
     "exception": false,
     "start_time": "2025-07-30T21:23:43.296265",
     "status": "completed"
    },
    "tags": []
   },
   "outputs": [],
   "source": [
    "for subgroup, cov in cond_coverage.items():\n",
    "    cp_metrics_df[f\"cov_{subgroup}\"] = cov"
   ]
  },
  {
   "cell_type": "code",
   "execution_count": 71,
   "id": "6e872e10-dbe5-49e8-b554-5030c98ff75d",
   "metadata": {
    "execution": {
     "iopub.execute_input": "2025-07-30T21:23:43.345737Z",
     "iopub.status.busy": "2025-07-30T21:23:43.345237Z",
     "iopub.status.idle": "2025-07-30T21:23:43.358866Z",
     "shell.execute_reply": "2025-07-30T21:23:43.358154Z"
    },
    "papermill": {
     "duration": 0.029216,
     "end_time": "2025-07-30T21:23:43.360161",
     "exception": false,
     "start_time": "2025-07-30T21:23:43.330945",
     "status": "completed"
    },
    "tags": []
   },
   "outputs": [
    {
     "data": {
      "text/html": [
       "<div>\n",
       "<style scoped>\n",
       "    .dataframe tbody tr th:only-of-type {\n",
       "        vertical-align: middle;\n",
       "    }\n",
       "\n",
       "    .dataframe tbody tr th {\n",
       "        vertical-align: top;\n",
       "    }\n",
       "\n",
       "    .dataframe thead th {\n",
       "        text-align: right;\n",
       "    }\n",
       "</style>\n",
       "<table border=\"1\" class=\"dataframe\">\n",
       "  <thead>\n",
       "    <tr style=\"text-align: right;\">\n",
       "      <th></th>\n",
       "      <th>universe_id</th>\n",
       "      <th>universe_training_year</th>\n",
       "      <th>universe_training_size</th>\n",
       "      <th>universe_scale</th>\n",
       "      <th>universe_model</th>\n",
       "      <th>universe_exclude_features</th>\n",
       "      <th>universe_exclude_subgroups</th>\n",
       "      <th>q_hat</th>\n",
       "      <th>coverage</th>\n",
       "      <th>avg_size</th>\n",
       "      <th>cov_frau1</th>\n",
       "      <th>cov_nongerman</th>\n",
       "      <th>cov_nongerman_male</th>\n",
       "      <th>cov_nongerman_female</th>\n",
       "    </tr>\n",
       "  </thead>\n",
       "  <tbody>\n",
       "    <tr>\n",
       "      <th>0</th>\n",
       "      <td>8c5fdf9f41b6dd6ba3022017484fd930</td>\n",
       "      <td>2014</td>\n",
       "      <td>1k</td>\n",
       "      <td>scale</td>\n",
       "      <td>penalized_logreg</td>\n",
       "      <td>nationality</td>\n",
       "      <td>drop-non-german</td>\n",
       "      <td>0.844613</td>\n",
       "      <td>0.90807</td>\n",
       "      <td>1.267897</td>\n",
       "      <td>0.905243</td>\n",
       "      <td>0.910964</td>\n",
       "      <td>0.928758</td>\n",
       "      <td>0.88152</td>\n",
       "    </tr>\n",
       "  </tbody>\n",
       "</table>\n",
       "</div>"
      ],
      "text/plain": [
       "                        universe_id universe_training_year  \\\n",
       "0  8c5fdf9f41b6dd6ba3022017484fd930                   2014   \n",
       "\n",
       "  universe_training_size universe_scale    universe_model  \\\n",
       "0                     1k          scale  penalized_logreg   \n",
       "\n",
       "  universe_exclude_features universe_exclude_subgroups     q_hat  coverage  \\\n",
       "0               nationality            drop-non-german  0.844613   0.90807   \n",
       "\n",
       "   avg_size  cov_frau1  cov_nongerman  cov_nongerman_male  \\\n",
       "0  1.267897   0.905243       0.910964            0.928758   \n",
       "\n",
       "   cov_nongerman_female  \n",
       "0               0.88152  "
      ]
     },
     "execution_count": 71,
     "metadata": {},
     "output_type": "execute_result"
    }
   ],
   "source": [
    "cp_metrics_df"
   ]
  },
  {
   "cell_type": "markdown",
   "id": "33774451",
   "metadata": {
    "papermill": {
     "duration": 0.025745,
     "end_time": "2025-07-30T21:23:43.440957",
     "exception": false,
     "start_time": "2025-07-30T21:23:43.415212",
     "status": "completed"
    },
    "tags": []
   },
   "source": [
    "# (Fairness) Metrics"
   ]
  },
  {
   "cell_type": "code",
   "execution_count": 72,
   "id": "debc5d62",
   "metadata": {
    "execution": {
     "iopub.execute_input": "2025-07-30T21:23:43.491693Z",
     "iopub.status.busy": "2025-07-30T21:23:43.491238Z",
     "iopub.status.idle": "2025-07-30T21:23:43.504672Z",
     "shell.execute_reply": "2025-07-30T21:23:43.503998Z"
    },
    "papermill": {
     "duration": 0.037551,
     "end_time": "2025-07-30T21:23:43.506101",
     "exception": false,
     "start_time": "2025-07-30T21:23:43.468550",
     "status": "completed"
    },
    "tags": []
   },
   "outputs": [],
   "source": [
    "# do I need to include maxdeutsch1.missing?\n",
    "\n",
    "import numpy as np\n",
    "\n",
    "colname_to_bin = \"maxdeutsch1\"\n",
    "majority_value = org_train[colname_to_bin].mode()[0]\n",
    "\n",
    "org_test[\"majmin\"] = np.where(org_test[colname_to_bin] == majority_value, \"majority\", \"minority\")"
   ]
  },
  {
   "cell_type": "code",
   "execution_count": 73,
   "id": "06a50de5",
   "metadata": {
    "execution": {
     "iopub.execute_input": "2025-07-30T21:23:43.537149Z",
     "iopub.status.busy": "2025-07-30T21:23:43.536795Z",
     "iopub.status.idle": "2025-07-30T21:23:45.567903Z",
     "shell.execute_reply": "2025-07-30T21:23:45.566811Z"
    },
    "papermill": {
     "duration": 2.049211,
     "end_time": "2025-07-30T21:23:45.569735",
     "exception": false,
     "start_time": "2025-07-30T21:23:43.520524",
     "status": "completed"
    },
    "tags": []
   },
   "outputs": [],
   "source": [
    "example_universe = universe.copy()\n",
    "example_universe[\"cutoff\"] = example_universe[\"cutoff\"][0]\n",
    "example_universe[\"eval_fairness_grouping\"] = example_universe[\"eval_fairness_grouping\"][0]\n",
    "fairness_dict, metric_frame = universe_analysis.compute_metrics(\n",
    "    example_universe,\n",
    "    y_pred_prob=probs_test,\n",
    "    y_test=y_true,\n",
    "    org_test=org_test,\n",
    ")"
   ]
  },
  {
   "cell_type": "markdown",
   "id": "f95d4e02",
   "metadata": {
    "papermill": {
     "duration": 0.027552,
     "end_time": "2025-07-30T21:23:45.627410",
     "exception": false,
     "start_time": "2025-07-30T21:23:45.599858",
     "status": "completed"
    },
    "tags": []
   },
   "source": [
    "# Overall"
   ]
  },
  {
   "cell_type": "markdown",
   "id": "bdee4871",
   "metadata": {
    "papermill": {
     "duration": 0.028062,
     "end_time": "2025-07-30T21:23:45.681661",
     "exception": false,
     "start_time": "2025-07-30T21:23:45.653599",
     "status": "completed"
    },
    "tags": []
   },
   "source": [
    "Fairness\n",
    "Main fairness target: Equalized Odds. Seems to be a better fit than equal opportunity, since we're not only interested in Y = 1. Seems to be a better fit than demographic parity, since we also care about accuracy, not just equal distribution of preds.\n",
    "\n",
    "Pick column for computation of fairness metrics\n",
    "\n",
    "Performance\n",
    "Overall performance measures, most interesting in relation to the measures split by group below"
   ]
  },
  {
   "cell_type": "code",
   "execution_count": 74,
   "id": "c4e067c6",
   "metadata": {
    "execution": {
     "iopub.execute_input": "2025-07-30T21:23:45.737079Z",
     "iopub.status.busy": "2025-07-30T21:23:45.736581Z",
     "iopub.status.idle": "2025-07-30T21:23:45.745009Z",
     "shell.execute_reply": "2025-07-30T21:23:45.744138Z"
    },
    "papermill": {
     "duration": 0.038062,
     "end_time": "2025-07-30T21:23:45.746626",
     "exception": false,
     "start_time": "2025-07-30T21:23:45.708564",
     "status": "completed"
    },
    "tags": []
   },
   "outputs": [
    {
     "data": {
      "text/plain": [
       "accuracy                   0.217022\n",
       "balanced accuracy          0.532188\n",
       "f1                         0.238555\n",
       "precision                  0.136279\n",
       "false positive rate        0.891742\n",
       "false negative rate        0.043883\n",
       "selection rate             0.900000\n",
       "count                  89710.000000\n",
       "dtype: float64"
      ]
     },
     "execution_count": 74,
     "metadata": {},
     "output_type": "execute_result"
    }
   ],
   "source": [
    "metric_frame.overall"
   ]
  },
  {
   "cell_type": "markdown",
   "id": "e968fe9d",
   "metadata": {
    "papermill": {
     "duration": 0.026248,
     "end_time": "2025-07-30T21:23:45.800572",
     "exception": false,
     "start_time": "2025-07-30T21:23:45.774324",
     "status": "completed"
    },
    "tags": []
   },
   "source": [
    "By Group"
   ]
  },
  {
   "cell_type": "code",
   "execution_count": 75,
   "id": "ec325bce",
   "metadata": {
    "execution": {
     "iopub.execute_input": "2025-07-30T21:23:45.860354Z",
     "iopub.status.busy": "2025-07-30T21:23:45.859755Z",
     "iopub.status.idle": "2025-07-30T21:23:45.883467Z",
     "shell.execute_reply": "2025-07-30T21:23:45.882048Z"
    },
    "papermill": {
     "duration": 0.057935,
     "end_time": "2025-07-30T21:23:45.885948",
     "exception": false,
     "start_time": "2025-07-30T21:23:45.828013",
     "status": "completed"
    },
    "tags": []
   },
   "outputs": [
    {
     "data": {
      "text/html": [
       "<div>\n",
       "<style scoped>\n",
       "    .dataframe tbody tr th:only-of-type {\n",
       "        vertical-align: middle;\n",
       "    }\n",
       "\n",
       "    .dataframe tbody tr th {\n",
       "        vertical-align: top;\n",
       "    }\n",
       "\n",
       "    .dataframe thead th {\n",
       "        text-align: right;\n",
       "    }\n",
       "</style>\n",
       "<table border=\"1\" class=\"dataframe\">\n",
       "  <thead>\n",
       "    <tr style=\"text-align: right;\">\n",
       "      <th></th>\n",
       "      <th>accuracy</th>\n",
       "      <th>balanced accuracy</th>\n",
       "      <th>f1</th>\n",
       "      <th>precision</th>\n",
       "      <th>false positive rate</th>\n",
       "      <th>false negative rate</th>\n",
       "      <th>selection rate</th>\n",
       "      <th>count</th>\n",
       "    </tr>\n",
       "    <tr>\n",
       "      <th>majmin</th>\n",
       "      <th></th>\n",
       "      <th></th>\n",
       "      <th></th>\n",
       "      <th></th>\n",
       "      <th></th>\n",
       "      <th></th>\n",
       "      <th></th>\n",
       "      <th></th>\n",
       "    </tr>\n",
       "  </thead>\n",
       "  <tbody>\n",
       "    <tr>\n",
       "      <th>majority</th>\n",
       "      <td>0.23010</td>\n",
       "      <td>0.536358</td>\n",
       "      <td>0.246420</td>\n",
       "      <td>0.141513</td>\n",
       "      <td>0.879910</td>\n",
       "      <td>0.047374</td>\n",
       "      <td>0.889519</td>\n",
       "      <td>69170.0</td>\n",
       "    </tr>\n",
       "    <tr>\n",
       "      <th>minority</th>\n",
       "      <td>0.17298</td>\n",
       "      <td>0.519383</td>\n",
       "      <td>0.212799</td>\n",
       "      <td>0.119515</td>\n",
       "      <td>0.930828</td>\n",
       "      <td>0.030405</td>\n",
       "      <td>0.935297</td>\n",
       "      <td>20540.0</td>\n",
       "    </tr>\n",
       "  </tbody>\n",
       "</table>\n",
       "</div>"
      ],
      "text/plain": [
       "          accuracy  balanced accuracy        f1  precision  \\\n",
       "majmin                                                       \n",
       "majority   0.23010           0.536358  0.246420   0.141513   \n",
       "minority   0.17298           0.519383  0.212799   0.119515   \n",
       "\n",
       "          false positive rate  false negative rate  selection rate    count  \n",
       "majmin                                                                       \n",
       "majority             0.879910             0.047374        0.889519  69170.0  \n",
       "minority             0.930828             0.030405        0.935297  20540.0  "
      ]
     },
     "execution_count": 75,
     "metadata": {},
     "output_type": "execute_result"
    }
   ],
   "source": [
    "metric_frame.by_group"
   ]
  },
  {
   "cell_type": "code",
   "execution_count": 76,
   "id": "a9ddbe63",
   "metadata": {
    "execution": {
     "iopub.execute_input": "2025-07-30T21:23:45.958503Z",
     "iopub.status.busy": "2025-07-30T21:23:45.957971Z",
     "iopub.status.idle": "2025-07-30T21:23:48.346555Z",
     "shell.execute_reply": "2025-07-30T21:23:48.345470Z"
    },
    "papermill": {
     "duration": 2.426259,
     "end_time": "2025-07-30T21:23:48.348144",
     "exception": false,
     "start_time": "2025-07-30T21:23:45.921885",
     "status": "completed"
    },
    "tags": []
   },
   "outputs": [
    {
     "data": {
      "text/plain": [
       "array([[<Axes: title={'center': 'accuracy'}, xlabel='majmin'>,\n",
       "        <Axes: title={'center': 'balanced accuracy'}, xlabel='majmin'>,\n",
       "        <Axes: title={'center': 'f1'}, xlabel='majmin'>],\n",
       "       [<Axes: title={'center': 'precision'}, xlabel='majmin'>,\n",
       "        <Axes: title={'center': 'false positive rate'}, xlabel='majmin'>,\n",
       "        <Axes: title={'center': 'false negative rate'}, xlabel='majmin'>],\n",
       "       [<Axes: title={'center': 'selection rate'}, xlabel='majmin'>,\n",
       "        <Axes: title={'center': 'count'}, xlabel='majmin'>,\n",
       "        <Axes: xlabel='majmin'>]], dtype=object)"
      ]
     },
     "execution_count": 76,
     "metadata": {},
     "output_type": "execute_result"
    },
    {
     "data": {
      "image/png": "[encoded data removed]",
      "text/plain": [
       "<Figure size 1200x800 with 9 Axes>"
      ]
     },
     "metadata": {},
     "output_type": "display_data"
    }
   ],
   "source": [
    "# In a graphic\n",
    "metric_frame.by_group.plot.bar(\n",
    "    subplots=True,\n",
    "    layout=[3, 3],\n",
    "    legend=False,\n",
    "    figsize=[12, 8],\n",
    "    title=\"Show all metrics\",\n",
    ")"
   ]
  },
  {
   "cell_type": "markdown",
   "id": "f57a0bac",
   "metadata": {
    "papermill": {
     "duration": 0.027906,
     "end_time": "2025-07-30T21:23:48.404853",
     "exception": false,
     "start_time": "2025-07-30T21:23:48.376947",
     "status": "completed"
    },
    "tags": []
   },
   "source": [
    "# Final Output"
   ]
  },
  {
   "cell_type": "code",
   "execution_count": 77,
   "id": "96d280a3",
   "metadata": {
    "execution": {
     "iopub.execute_input": "2025-07-30T21:23:48.466194Z",
     "iopub.status.busy": "2025-07-30T21:23:48.465127Z",
     "iopub.status.idle": "2025-07-30T21:23:48.474181Z",
     "shell.execute_reply": "2025-07-30T21:23:48.473235Z"
    },
    "papermill": {
     "duration": 0.040235,
     "end_time": "2025-07-30T21:23:48.475687",
     "exception": false,
     "start_time": "2025-07-30T21:23:48.435452",
     "status": "completed"
    },
    "tags": []
   },
   "outputs": [
    {
     "data": {
      "text/plain": [
       "4"
      ]
     },
     "execution_count": 77,
     "metadata": {},
     "output_type": "execute_result"
    }
   ],
   "source": [
    "sub_universes = universe_analysis.generate_sub_universes()\n",
    "len(sub_universes)"
   ]
  },
  {
   "cell_type": "code",
   "execution_count": 78,
   "id": "92adf7ba",
   "metadata": {
    "execution": {
     "iopub.execute_input": "2025-07-30T21:23:48.523397Z",
     "iopub.status.busy": "2025-07-30T21:23:48.522965Z",
     "iopub.status.idle": "2025-07-30T21:23:48.529295Z",
     "shell.execute_reply": "2025-07-30T21:23:48.528305Z"
    },
    "papermill": {
     "duration": 0.028015,
     "end_time": "2025-07-30T21:23:48.531147",
     "exception": false,
     "start_time": "2025-07-30T21:23:48.503132",
     "status": "completed"
    },
    "tags": []
   },
   "outputs": [],
   "source": [
    "def filter_sub_universe_data(sub_universe, org_test):\n",
    "    # Keep all rows — no filtering\n",
    "    keep_rows_mask = np.ones(org_test.shape[0], dtype=bool)\n",
    "\n",
    "    print(f\"[INFO] Keeping all rows: {keep_rows_mask.sum()} rows retained.\")\n",
    "    return keep_rows_mask"
   ]
  },
  {
   "cell_type": "code",
   "execution_count": 79,
   "id": "4a759155",
   "metadata": {
    "execution": {
     "iopub.execute_input": "2025-07-30T21:23:48.586861Z",
     "iopub.status.busy": "2025-07-30T21:23:48.586467Z",
     "iopub.status.idle": "2025-07-30T21:23:59.287761Z",
     "shell.execute_reply": "2025-07-30T21:23:59.286847Z"
    },
    "papermill": {
     "duration": 10.725216,
     "end_time": "2025-07-30T21:23:59.289530",
     "exception": false,
     "start_time": "2025-07-30T21:23:48.564314",
     "status": "completed"
    },
    "tags": []
   },
   "outputs": [
    {
     "name": "stdout",
     "output_type": "stream",
     "text": [
      "Stopping execution_time clock.\n",
      "[INFO] Keeping all rows: 89710 rows retained.\n"
     ]
    },
    {
     "name": "stdout",
     "output_type": "stream",
     "text": [
      "[INFO] Keeping all rows: 89710 rows retained.\n"
     ]
    },
    {
     "name": "stdout",
     "output_type": "stream",
     "text": [
      "[INFO] Keeping all rows: 89710 rows retained.\n"
     ]
    },
    {
     "name": "stdout",
     "output_type": "stream",
     "text": [
      "[INFO] Keeping all rows: 89710 rows retained.\n"
     ]
    },
    {
     "data": {
      "text/html": [
       "<div>\n",
       "<style scoped>\n",
       "    .dataframe tbody tr th:only-of-type {\n",
       "        vertical-align: middle;\n",
       "    }\n",
       "\n",
       "    .dataframe tbody tr th {\n",
       "        vertical-align: top;\n",
       "    }\n",
       "\n",
       "    .dataframe thead th {\n",
       "        text-align: right;\n",
       "    }\n",
       "</style>\n",
       "<table border=\"1\" class=\"dataframe\">\n",
       "  <thead>\n",
       "    <tr style=\"text-align: right;\">\n",
       "      <th></th>\n",
       "      <th>run_no</th>\n",
       "      <th>universe_id</th>\n",
       "      <th>universe_settings</th>\n",
       "      <th>execution_time</th>\n",
       "      <th>test_size_n</th>\n",
       "      <th>test_size_frac</th>\n",
       "      <th>fair_main_equalized_odds_difference</th>\n",
       "      <th>fair_main_equalized_odds_ratio</th>\n",
       "      <th>fair_main_demographic_parity_difference</th>\n",
       "      <th>fair_main_demographic_parity_ratio</th>\n",
       "      <th>...</th>\n",
       "      <th>perf_grp_precision_0</th>\n",
       "      <th>perf_grp_precision_1</th>\n",
       "      <th>perf_grp_false positive rate_0</th>\n",
       "      <th>perf_grp_false positive rate_1</th>\n",
       "      <th>perf_grp_false negative rate_0</th>\n",
       "      <th>perf_grp_false negative rate_1</th>\n",
       "      <th>perf_grp_selection rate_0</th>\n",
       "      <th>perf_grp_selection rate_1</th>\n",
       "      <th>perf_grp_count_0</th>\n",
       "      <th>perf_grp_count_1</th>\n",
       "    </tr>\n",
       "  </thead>\n",
       "  <tbody>\n",
       "    <tr>\n",
       "      <th>0</th>\n",
       "      <td>14</td>\n",
       "      <td>8c5fdf9f41b6dd6ba3022017484fd930</td>\n",
       "      <td>{\"cutoff\": \"quantile_0.1\", \"eval_fairness_grou...</td>\n",
       "      <td>25.963687</td>\n",
       "      <td>89710</td>\n",
       "      <td>1.0</td>\n",
       "      <td>0.050918</td>\n",
       "      <td>0.945299</td>\n",
       "      <td>0.045778</td>\n",
       "      <td>0.951055</td>\n",
       "      <td>...</td>\n",
       "      <td>NaN</td>\n",
       "      <td>NaN</td>\n",
       "      <td>NaN</td>\n",
       "      <td>NaN</td>\n",
       "      <td>NaN</td>\n",
       "      <td>NaN</td>\n",
       "      <td>NaN</td>\n",
       "      <td>NaN</td>\n",
       "      <td>NaN</td>\n",
       "      <td>NaN</td>\n",
       "    </tr>\n",
       "    <tr>\n",
       "      <th>0</th>\n",
       "      <td>14</td>\n",
       "      <td>8c5fdf9f41b6dd6ba3022017484fd930</td>\n",
       "      <td>{\"cutoff\": \"quantile_0.1\", \"eval_fairness_grou...</td>\n",
       "      <td>25.963687</td>\n",
       "      <td>89710</td>\n",
       "      <td>1.0</td>\n",
       "      <td>0.050918</td>\n",
       "      <td>0.945299</td>\n",
       "      <td>0.045778</td>\n",
       "      <td>0.951055</td>\n",
       "      <td>...</td>\n",
       "      <td>0.119515</td>\n",
       "      <td>0.141513</td>\n",
       "      <td>0.930828</td>\n",
       "      <td>0.879910</td>\n",
       "      <td>0.030405</td>\n",
       "      <td>0.047374</td>\n",
       "      <td>0.935297</td>\n",
       "      <td>0.889519</td>\n",
       "      <td>20540.0</td>\n",
       "      <td>69170.0</td>\n",
       "    </tr>\n",
       "    <tr>\n",
       "      <th>0</th>\n",
       "      <td>14</td>\n",
       "      <td>8c5fdf9f41b6dd6ba3022017484fd930</td>\n",
       "      <td>{\"cutoff\": \"quantile_0.25\", \"eval_fairness_gro...</td>\n",
       "      <td>25.963687</td>\n",
       "      <td>89710</td>\n",
       "      <td>1.0</td>\n",
       "      <td>0.051054</td>\n",
       "      <td>0.933727</td>\n",
       "      <td>0.041681</td>\n",
       "      <td>0.946708</td>\n",
       "      <td>...</td>\n",
       "      <td>NaN</td>\n",
       "      <td>NaN</td>\n",
       "      <td>NaN</td>\n",
       "      <td>NaN</td>\n",
       "      <td>NaN</td>\n",
       "      <td>NaN</td>\n",
       "      <td>NaN</td>\n",
       "      <td>NaN</td>\n",
       "      <td>NaN</td>\n",
       "      <td>NaN</td>\n",
       "    </tr>\n",
       "    <tr>\n",
       "      <th>0</th>\n",
       "      <td>14</td>\n",
       "      <td>8c5fdf9f41b6dd6ba3022017484fd930</td>\n",
       "      <td>{\"cutoff\": \"quantile_0.25\", \"eval_fairness_gro...</td>\n",
       "      <td>25.963687</td>\n",
       "      <td>89710</td>\n",
       "      <td>1.0</td>\n",
       "      <td>0.051054</td>\n",
       "      <td>0.933727</td>\n",
       "      <td>0.041681</td>\n",
       "      <td>0.946708</td>\n",
       "      <td>...</td>\n",
       "      <td>0.128603</td>\n",
       "      <td>0.156921</td>\n",
       "      <td>0.770361</td>\n",
       "      <td>0.719307</td>\n",
       "      <td>0.127534</td>\n",
       "      <td>0.120678</td>\n",
       "      <td>0.782132</td>\n",
       "      <td>0.740451</td>\n",
       "      <td>20540.0</td>\n",
       "      <td>69170.0</td>\n",
       "    </tr>\n",
       "  </tbody>\n",
       "</table>\n",
       "<p>4 rows × 50 columns</p>\n",
       "</div>"
      ],
      "text/plain": [
       "  run_no                       universe_id  \\\n",
       "0     14  8c5fdf9f41b6dd6ba3022017484fd930   \n",
       "0     14  8c5fdf9f41b6dd6ba3022017484fd930   \n",
       "0     14  8c5fdf9f41b6dd6ba3022017484fd930   \n",
       "0     14  8c5fdf9f41b6dd6ba3022017484fd930   \n",
       "\n",
       "                                   universe_settings  execution_time  \\\n",
       "0  {\"cutoff\": \"quantile_0.1\", \"eval_fairness_grou...       25.963687   \n",
       "0  {\"cutoff\": \"quantile_0.1\", \"eval_fairness_grou...       25.963687   \n",
       "0  {\"cutoff\": \"quantile_0.25\", \"eval_fairness_gro...       25.963687   \n",
       "0  {\"cutoff\": \"quantile_0.25\", \"eval_fairness_gro...       25.963687   \n",
       "\n",
       "   test_size_n  test_size_frac  fair_main_equalized_odds_difference  \\\n",
       "0        89710             1.0                             0.050918   \n",
       "0        89710             1.0                             0.050918   \n",
       "0        89710             1.0                             0.051054   \n",
       "0        89710             1.0                             0.051054   \n",
       "\n",
       "   fair_main_equalized_odds_ratio  fair_main_demographic_parity_difference  \\\n",
       "0                        0.945299                                 0.045778   \n",
       "0                        0.945299                                 0.045778   \n",
       "0                        0.933727                                 0.041681   \n",
       "0                        0.933727                                 0.041681   \n",
       "\n",
       "   fair_main_demographic_parity_ratio  ...  perf_grp_precision_0  \\\n",
       "0                            0.951055  ...                   NaN   \n",
       "0                            0.951055  ...              0.119515   \n",
       "0                            0.946708  ...                   NaN   \n",
       "0                            0.946708  ...              0.128603   \n",
       "\n",
       "   perf_grp_precision_1  perf_grp_false positive rate_0  \\\n",
       "0                   NaN                             NaN   \n",
       "0              0.141513                        0.930828   \n",
       "0                   NaN                             NaN   \n",
       "0              0.156921                        0.770361   \n",
       "\n",
       "   perf_grp_false positive rate_1  perf_grp_false negative rate_0  \\\n",
       "0                             NaN                             NaN   \n",
       "0                        0.879910                        0.030405   \n",
       "0                             NaN                             NaN   \n",
       "0                        0.719307                        0.127534   \n",
       "\n",
       "   perf_grp_false negative rate_1  perf_grp_selection rate_0  \\\n",
       "0                             NaN                        NaN   \n",
       "0                        0.047374                   0.935297   \n",
       "0                             NaN                        NaN   \n",
       "0                        0.120678                   0.782132   \n",
       "\n",
       "   perf_grp_selection rate_1  perf_grp_count_0  perf_grp_count_1  \n",
       "0                        NaN               NaN               NaN  \n",
       "0                   0.889519           20540.0           69170.0  \n",
       "0                        NaN               NaN               NaN  \n",
       "0                   0.740451           20540.0           69170.0  \n",
       "\n",
       "[4 rows x 50 columns]"
      ]
     },
     "execution_count": 79,
     "metadata": {},
     "output_type": "execute_result"
    }
   ],
   "source": [
    "final_output = universe_analysis.generate_final_output(\n",
    "    y_pred_prob=probs_test,\n",
    "    y_test=y_true,\n",
    "    org_test=org_test,\n",
    "    filter_data=filter_sub_universe_data,\n",
    "    cp_metrics_df=cp_metrics_df,\n",
    "    save=True,\n",
    ")\n",
    "final_output"
   ]
  },
  {
   "cell_type": "code",
   "execution_count": null,
   "id": "721ff514-cb11-46f8-b6fc-50392f74b5cb",
   "metadata": {
    "papermill": {
     "duration": 0.036244,
     "end_time": "2025-07-30T21:23:59.359496",
     "exception": false,
     "start_time": "2025-07-30T21:23:59.323252",
     "status": "completed"
    },
    "tags": []
   },
   "outputs": [],
   "source": []
  }
 ],
 "metadata": {
  "celltoolbar": "Tags",
  "kernelspec": {
   "display_name": "Python (CMA Fairness)",
   "language": "python",
   "name": "cma_fair_env"
  },
  "language_info": {
   "codemirror_mode": {
    "name": "ipython",
    "version": 3
   },
   "file_extension": ".py",
   "mimetype": "text/x-python",
   "name": "python",
   "nbconvert_exporter": "python",
   "pygments_lexer": "ipython3",
   "version": "3.10.12"
  },
  "papermill": {
   "default_parameters": {},
   "duration": 41.027012,
   "end_time": "2025-07-30T21:24:00.310837",
   "environment_variables": {},
   "exception": null,
   "input_path": "universe_analysis.ipynb",
   "output_path": "output/runs/14/notebooks/m_14-8c5fdf9f41b6dd6ba3022017484fd930.ipynb",
   "parameters": {
    "output_dir": "output",
    "run_no": "14",
    "seed": "2023",
    "universe": "{\"cutoff\": [\"quantile_0.1\", \"quantile_0.25\"], \"eval_fairness_grouping\": [\"majority-minority\", \"nationality-all\"], \"exclude_features\": \"nationality\", \"exclude_subgroups\": \"drop-non-german\", \"model\": \"penalized_logreg\", \"scale\": \"scale\", \"training_size\": \"1k\", \"training_year\": \"2014\"}",
    "universe_id": "8c5fdf9f41b6dd6ba3022017484fd930"
   },
   "start_time": "2025-07-30T21:23:19.283825",
   "version": "2.6.0"
  }
 },
 "nbformat": 4,
 "nbformat_minor": 5
}