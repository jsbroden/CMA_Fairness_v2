{
 "cells": [
  {
   "cell_type": "code",
   "execution_count": 1,
   "id": "f159f837-637b-42ba-96b5-ec9a68c44524",
   "metadata": {
    "execution": {
     "iopub.execute_input": "2025-07-30T21:17:43.244234Z",
     "iopub.status.busy": "2025-07-30T21:17:43.243670Z",
     "iopub.status.idle": "2025-07-30T21:17:43.258208Z",
     "shell.execute_reply": "2025-07-30T21:17:43.256819Z"
    },
    "papermill": {
     "duration": 0.038708,
     "end_time": "2025-07-30T21:17:43.260065",
     "exception": false,
     "start_time": "2025-07-30T21:17:43.221357",
     "status": "completed"
    },
    "tags": []
   },
   "outputs": [
    {
     "name": "stdout",
     "output_type": "stream",
     "text": [
      "/dss/dsshome1/0C/ra93lal2/cma/CMA_Fairness_v2\n"
     ]
    },
    {
     "name": "stderr",
     "output_type": "stream",
     "text": [
      "/dss/dsshome1/0C/ra93lal2/.local/share/virtualenvs/CMA_Fairness_v2-3j10GkSs/lib/python3.10/site-packages/IPython/core/magics/osm.py:393: UserWarning: This is now an optional IPython functionality, using bookmarks requires you to install the `pickleshare` library.\n",
      "  bkms = self.shell.db.get('bookmarks', {})\n",
      "/dss/dsshome1/0C/ra93lal2/.local/share/virtualenvs/CMA_Fairness_v2-3j10GkSs/lib/python3.10/site-packages/IPython/core/magics/osm.py:417: UserWarning: This is now an optional IPython functionality, setting dhist requires you to install the `pickleshare` library.\n",
      "  self.shell.db['dhist'] = compress_dhist(dhist)[-100:]\n"
     ]
    }
   ],
   "source": [
    "%cd ~/cma/CMA_Fairness_v2"
   ]
  },
  {
   "cell_type": "markdown",
   "id": "de2603b9",
   "metadata": {
    "papermill": {
     "duration": 0.021185,
     "end_time": "2025-07-30T21:17:43.300983",
     "exception": false,
     "start_time": "2025-07-30T21:17:43.279798",
     "status": "completed"
    },
    "tags": []
   },
   "source": [
    "The following cell holds the definition of our parameters, these values can be overriden by rendering the with e.g. the following command:\n",
    "\n",
    "papermill -p alpha 0.2 -p ratio 0.3 universe_analysis.ipynb output/test_run.ipynb"
   ]
  },
  {
   "cell_type": "code",
   "execution_count": 2,
   "id": "a80968a0-40bb-4fa9-85ef-2d5eefb01975",
   "metadata": {
    "execution": {
     "iopub.execute_input": "2025-07-30T21:17:43.344714Z",
     "iopub.status.busy": "2025-07-30T21:17:43.344236Z",
     "iopub.status.idle": "2025-07-30T21:17:43.350113Z",
     "shell.execute_reply": "2025-07-30T21:17:43.349187Z"
    },
    "papermill": {
     "duration": 0.029246,
     "end_time": "2025-07-30T21:17:43.351693",
     "exception": false,
     "start_time": "2025-07-30T21:17:43.322447",
     "status": "completed"
    },
    "tags": []
   },
   "outputs": [
    {
     "name": "stdout",
     "output_type": "stream",
     "text": [
      "Current working directory: /dss/dsshome1/0C/ra93lal2/cma/CMA_Fairness_v2\n"
     ]
    }
   ],
   "source": [
    "import os\n",
    "print(\"Current working directory:\", os.getcwd())"
   ]
  },
  {
   "cell_type": "code",
   "execution_count": 3,
   "id": "2dce4c03",
   "metadata": {
    "execution": {
     "iopub.execute_input": "2025-07-30T21:17:43.396821Z",
     "iopub.status.busy": "2025-07-30T21:17:43.396302Z",
     "iopub.status.idle": "2025-07-30T21:17:43.404487Z",
     "shell.execute_reply": "2025-07-30T21:17:43.403441Z"
    },
    "papermill": {
     "duration": 0.033694,
     "end_time": "2025-07-30T21:17:43.407202",
     "exception": false,
     "start_time": "2025-07-30T21:17:43.373508",
     "status": "completed"
    },
    "tags": [
     "parameters"
    ]
   },
   "outputs": [],
   "source": [
    "run_no = 0\n",
    "universe_id = \"test\"\n",
    "universe = {\n",
    "    \"training_size\": \"25k\", # \"25k\", \"5k\", \"1k\"\n",
    "    \"training_year\": \"2014\", # \"2014\", \"2012_14\", \"2010_14\"\n",
    "    \"scale\": \"scale\", # \"scale\", \"do-not-scale\",\n",
    "    #\"stratify_split\": \"target\", # \"none\", \"target\", \"protected-attribute\", \"both\",\n",
    "    \"model\": \"elasticnet\", # \"logreg\", \"penalized_logreg\", \"rf\", \"gbm\", \"elasticnet\"\n",
    "    \"cutoff\": [\"quantile_0.15\", \"quantile_0.30\"],\n",
    "    \"exclude_features\": \"age\", # \"none\", \"nationality\", \"sex\", \"nationality-sex\", \"age\"\n",
    "    \"exclude_subgroups\": \"keep-all\", # \"keep-all\", \"drop-non-german\"\n",
    "    \"eval_fairness_grouping\": [\"majority-minority\", \"nationality-all\"]\n",
    "}\n",
    "\n",
    "output_dir=\"./output\"\n",
    "seed=0"
   ]
  },
  {
   "cell_type": "code",
   "execution_count": 4,
   "id": "027e0545",
   "metadata": {
    "execution": {
     "iopub.execute_input": "2025-07-30T21:17:43.516972Z",
     "iopub.status.busy": "2025-07-30T21:17:43.516440Z",
     "iopub.status.idle": "2025-07-30T21:17:43.522804Z",
     "shell.execute_reply": "2025-07-30T21:17:43.521954Z"
    },
    "papermill": {
     "duration": 0.075812,
     "end_time": "2025-07-30T21:17:43.524214",
     "exception": false,
     "start_time": "2025-07-30T21:17:43.448402",
     "status": "completed"
    },
    "tags": [
     "injected-parameters"
    ]
   },
   "outputs": [],
   "source": [
    "# Parameters\n",
    "universe_id = \"3690b925a524f06c1662f4d55f45b058\"\n",
    "run_no = \"14\"\n",
    "universe = \"{\\\"cutoff\\\": [\\\"quantile_0.1\\\", \\\"quantile_0.25\\\"], \\\"eval_fairness_grouping\\\": [\\\"majority-minority\\\", \\\"nationality-all\\\"], \\\"exclude_features\\\": \\\"nationality-sex\\\", \\\"exclude_subgroups\\\": \\\"drop-non-german\\\", \\\"model\\\": \\\"rf\\\", \\\"scale\\\": \\\"do-not-scale\\\", \\\"training_size\\\": \\\"5k\\\", \\\"training_year\\\": \\\"2010_14\\\"}\"\n",
    "output_dir = \"output\"\n",
    "seed = \"2023\"\n"
   ]
  },
  {
   "cell_type": "code",
   "execution_count": 5,
   "id": "1650acaf",
   "metadata": {
    "execution": {
     "iopub.execute_input": "2025-07-30T21:17:43.601965Z",
     "iopub.status.busy": "2025-07-30T21:17:43.601589Z",
     "iopub.status.idle": "2025-07-30T21:17:43.607026Z",
     "shell.execute_reply": "2025-07-30T21:17:43.606042Z"
    },
    "papermill": {
     "duration": 0.065364,
     "end_time": "2025-07-30T21:17:43.625187",
     "exception": false,
     "start_time": "2025-07-30T21:17:43.559823",
     "status": "completed"
    },
    "tags": []
   },
   "outputs": [],
   "source": [
    "import json\n",
    "# Parse universe into dict if it is passed as a string\n",
    "if isinstance(universe, str):\n",
    "    universe = json.loads(universe)"
   ]
  },
  {
   "cell_type": "code",
   "execution_count": 6,
   "id": "16620c48",
   "metadata": {
    "execution": {
     "iopub.execute_input": "2025-07-30T21:17:43.663466Z",
     "iopub.status.busy": "2025-07-30T21:17:43.663016Z",
     "iopub.status.idle": "2025-07-30T21:17:43.742497Z",
     "shell.execute_reply": "2025-07-30T21:17:43.735861Z"
    },
    "papermill": {
     "duration": 0.102168,
     "end_time": "2025-07-30T21:17:43.744288",
     "exception": false,
     "start_time": "2025-07-30T21:17:43.642120",
     "status": "completed"
    },
    "tags": []
   },
   "outputs": [],
   "source": [
    "# Auto-reload the custom package\n",
    "%load_ext autoreload\n",
    "%autoreload 1\n",
    "%aimport fairness_multiverse"
   ]
  },
  {
   "cell_type": "code",
   "execution_count": 7,
   "id": "01c5c9f3",
   "metadata": {
    "execution": {
     "iopub.execute_input": "2025-07-30T21:17:43.868789Z",
     "iopub.status.busy": "2025-07-30T21:17:43.867806Z",
     "iopub.status.idle": "2025-07-30T21:17:46.348062Z",
     "shell.execute_reply": "2025-07-30T21:17:46.345890Z"
    },
    "papermill": {
     "duration": 2.543406,
     "end_time": "2025-07-30T21:17:46.351520",
     "exception": false,
     "start_time": "2025-07-30T21:17:43.808114",
     "status": "completed"
    },
    "tags": []
   },
   "outputs": [],
   "source": [
    "from fairness_multiverse.universe import UniverseAnalysis\n",
    "\n",
    "universe_analysis = UniverseAnalysis(\n",
    "    run_no = run_no,\n",
    "    universe_id = universe_id,\n",
    "    universe = universe,\n",
    "    output_dir=output_dir,\n",
    ")"
   ]
  },
  {
   "cell_type": "code",
   "execution_count": 8,
   "id": "106241f5",
   "metadata": {
    "execution": {
     "iopub.execute_input": "2025-07-30T21:17:46.400716Z",
     "iopub.status.busy": "2025-07-30T21:17:46.399716Z",
     "iopub.status.idle": "2025-07-30T21:17:46.406625Z",
     "shell.execute_reply": "2025-07-30T21:17:46.405560Z"
    },
    "papermill": {
     "duration": 0.03295,
     "end_time": "2025-07-30T21:17:46.408383",
     "exception": false,
     "start_time": "2025-07-30T21:17:46.375433",
     "status": "completed"
    },
    "tags": []
   },
   "outputs": [
    {
     "name": "stdout",
     "output_type": "stream",
     "text": [
      "Using Seed: 2023\n"
     ]
    }
   ],
   "source": [
    "import numpy as np\n",
    "parsed_seed = int(seed)\n",
    "np.random.seed(parsed_seed)\n",
    "print(f\"Using Seed: {parsed_seed}\")"
   ]
  },
  {
   "cell_type": "markdown",
   "id": "e0ebdc57",
   "metadata": {
    "papermill": {
     "duration": 0.024038,
     "end_time": "2025-07-30T21:17:46.456786",
     "exception": false,
     "start_time": "2025-07-30T21:17:46.432748",
     "status": "completed"
    },
    "tags": []
   },
   "source": [
    "# Loading Data"
   ]
  },
  {
   "cell_type": "markdown",
   "id": "681925a3",
   "metadata": {
    "papermill": {
     "duration": 0.024055,
     "end_time": "2025-07-30T21:17:46.503885",
     "exception": false,
     "start_time": "2025-07-30T21:17:46.479830",
     "status": "completed"
    },
    "tags": []
   },
   "source": [
    "Load siab_train, siab_test, siab_calib and/or \n",
    "load siab_train_features, siab_train_labels"
   ]
  },
  {
   "cell_type": "code",
   "execution_count": 9,
   "id": "f0496b8a",
   "metadata": {
    "execution": {
     "iopub.execute_input": "2025-07-30T21:17:46.552743Z",
     "iopub.status.busy": "2025-07-30T21:17:46.551862Z",
     "iopub.status.idle": "2025-07-30T21:18:00.474019Z",
     "shell.execute_reply": "2025-07-30T21:18:00.472712Z"
    },
    "papermill": {
     "duration": 13.949185,
     "end_time": "2025-07-30T21:18:00.476105",
     "exception": false,
     "start_time": "2025-07-30T21:17:46.526920",
     "status": "completed"
    },
    "tags": []
   },
   "outputs": [
    {
     "name": "stdout",
     "output_type": "stream",
     "text": [
      "Loading SIAB data from cache: data/siab_cached.csv.gz\n"
     ]
    },
    {
     "name": "stdout",
     "output_type": "stream",
     "text": [
      "(643690, 164)\n"
     ]
    }
   ],
   "source": [
    "from pathlib import Path\n",
    "import pandas as pd\n",
    "\n",
    "# File paths\n",
    "raw_file = Path(\"data/raw/siab.csv\")\n",
    "cache_file = Path(\"data/siab_cached.csv.gz\")\n",
    "\n",
    "# Ensure cache directory exists\n",
    "cache_file.parent.mkdir(parents=True, exist_ok=True)\n",
    "\n",
    "# Load with simple caching\n",
    "if cache_file.exists():\n",
    "    print(f\"Loading SIAB data from cache: {cache_file}\")\n",
    "    siab = pd.read_csv(cache_file, compression='gzip')\n",
    "else:\n",
    "    print(f\"Cache not found. Reading raw SIAB data: {raw_file}\")\n",
    "    siab = pd.read_csv(raw_file)\n",
    "    siab.to_csv(cache_file, index=False, compression='gzip')\n",
    "    print(f\"Cached SIAB data to: {cache_file}\")\n",
    "\n",
    "# Now use `siab` DataFrame as needed\n",
    "print(siab.shape)"
   ]
  },
  {
   "cell_type": "code",
   "execution_count": 10,
   "id": "db0ca512-5f53-4dba-abdb-a2888bca41ba",
   "metadata": {
    "execution": {
     "iopub.execute_input": "2025-07-30T21:18:00.530591Z",
     "iopub.status.busy": "2025-07-30T21:18:00.530047Z",
     "iopub.status.idle": "2025-07-30T21:18:00.536922Z",
     "shell.execute_reply": "2025-07-30T21:18:00.535890Z"
    },
    "papermill": {
     "duration": 0.057533,
     "end_time": "2025-07-30T21:18:00.560021",
     "exception": false,
     "start_time": "2025-07-30T21:18:00.502488",
     "status": "completed"
    },
    "tags": []
   },
   "outputs": [],
   "source": [
    "#siab"
   ]
  },
  {
   "cell_type": "code",
   "execution_count": 11,
   "id": "a0edb063",
   "metadata": {
    "execution": {
     "iopub.execute_input": "2025-07-30T21:18:00.613432Z",
     "iopub.status.busy": "2025-07-30T21:18:00.613037Z",
     "iopub.status.idle": "2025-07-30T21:18:00.618156Z",
     "shell.execute_reply": "2025-07-30T21:18:00.617295Z"
    },
    "papermill": {
     "duration": 0.03401,
     "end_time": "2025-07-30T21:18:00.621202",
     "exception": false,
     "start_time": "2025-07-30T21:18:00.587192",
     "status": "completed"
    },
    "tags": []
   },
   "outputs": [],
   "source": [
    "#import pandas as pd\n",
    "#\n",
    "#X_train = pd.read_csv(\"./data/X_train.csv\")\n",
    "#y_train = pd.read_csv(\"./data/y_train.csv\")"
   ]
  },
  {
   "cell_type": "code",
   "execution_count": 12,
   "id": "63d08085",
   "metadata": {
    "execution": {
     "iopub.execute_input": "2025-07-30T21:18:00.666910Z",
     "iopub.status.busy": "2025-07-30T21:18:00.666311Z",
     "iopub.status.idle": "2025-07-30T21:18:00.673272Z",
     "shell.execute_reply": "2025-07-30T21:18:00.672146Z"
    },
    "papermill": {
     "duration": 0.026797,
     "end_time": "2025-07-30T21:18:00.676264",
     "exception": false,
     "start_time": "2025-07-30T21:18:00.649467",
     "status": "completed"
    },
    "tags": []
   },
   "outputs": [],
   "source": [
    "#X_test = pd.read_csv(\"./data/X_test.csv\")\n",
    "#y_true = pd.read_csv(\"./data/y_test.csv\")"
   ]
  },
  {
   "cell_type": "code",
   "execution_count": 13,
   "id": "98a8d0fa-1d3d-4ed8-bb2c-281470e24add",
   "metadata": {
    "execution": {
     "iopub.execute_input": "2025-07-30T21:18:00.727557Z",
     "iopub.status.busy": "2025-07-30T21:18:00.726818Z",
     "iopub.status.idle": "2025-07-30T21:18:00.733130Z",
     "shell.execute_reply": "2025-07-30T21:18:00.732059Z"
    },
    "papermill": {
     "duration": 0.032528,
     "end_time": "2025-07-30T21:18:00.735142",
     "exception": false,
     "start_time": "2025-07-30T21:18:00.702614",
     "status": "completed"
    },
    "tags": []
   },
   "outputs": [],
   "source": [
    "# Calibration data for conformal\n",
    "#X_calib = pd.read_csv(\"./data/X_calib.csv\")\n",
    "#y_calib = pd.read_csv(\"./data/y_calib.csv\")"
   ]
  },
  {
   "cell_type": "markdown",
   "id": "997051c5-15bd-4b69-9786-c3001a3ce484",
   "metadata": {
    "papermill": {
     "duration": 0.021156,
     "end_time": "2025-07-30T21:18:00.779751",
     "exception": false,
     "start_time": "2025-07-30T21:18:00.758595",
     "status": "completed"
    },
    "tags": []
   },
   "source": [
    "# Splitting Data and Setting Training Data Size"
   ]
  },
  {
   "cell_type": "code",
   "execution_count": 14,
   "id": "e993b61f-042d-41a6-8c81-f55681f86335",
   "metadata": {
    "execution": {
     "iopub.execute_input": "2025-07-30T21:18:00.848140Z",
     "iopub.status.busy": "2025-07-30T21:18:00.847339Z",
     "iopub.status.idle": "2025-07-30T21:18:00.863567Z",
     "shell.execute_reply": "2025-07-30T21:18:00.862553Z"
    },
    "papermill": {
     "duration": 0.065773,
     "end_time": "2025-07-30T21:18:00.869518",
     "exception": false,
     "start_time": "2025-07-30T21:18:00.803745",
     "status": "completed"
    },
    "tags": []
   },
   "outputs": [],
   "source": [
    "def sample_by_year_size(df,\n",
    "                        training_year: str,\n",
    "                        training_size: str,\n",
    "                        random_state: int = 42):\n",
    "    # --- parse training_year into a list of int years ---\n",
    "    if \"_\" in training_year:\n",
    "        start_str, end_str = training_year.split(\"_\", 1)\n",
    "        start = int(start_str)\n",
    "        end   = int(end_str) if len(end_str) == 4 else (int(end_str) + (start // 100)*100)\n",
    "        years = list(range(start, end + 1))\n",
    "    else:\n",
    "        years = [int(training_year)]\n",
    "\n",
    "    df = df[df[\"year\"].isin(years)].reset_index(drop=True)\n",
    "\n",
    "    # --- map training_size to total number of samples ---\n",
    "    total_map = {\"25k\": 25_000, \"5k\": 5_000, \"1k\": 1_000}\n",
    "    if training_size not in total_map:\n",
    "        return df  # e.g. \"all\"\n",
    "\n",
    "    total_samples = total_map[training_size]\n",
    "    n_years       = len(years)\n",
    "    base          = total_samples // n_years\n",
    "    remainder     = total_samples % n_years\n",
    "\n",
    "    # --- build a dict: year -> how many to sample ---\n",
    "    # give +1 to the first `remainder` years in ascending order\n",
    "    quotas = {\n",
    "        year: base + (1 if idx < remainder else 0)\n",
    "        for idx, year in enumerate(sorted(years))\n",
    "    }\n",
    "\n",
    "    # --- sample per‐year according to the quota dict ---\n",
    "    sampled = (\n",
    "        df\n",
    "        .groupby(\"year\", group_keys=False)\n",
    "        .apply(lambda grp: grp.sample(\n",
    "            n=min(len(grp), quotas[grp.name]),\n",
    "            random_state=random_state))\n",
    "        .reset_index(drop=True)\n",
    "    )\n",
    "\n",
    "    return sampled"
   ]
  },
  {
   "cell_type": "code",
   "execution_count": 15,
   "id": "c0ccd338-0e02-41f3-a09d-f56f9266e3fb",
   "metadata": {
    "execution": {
     "iopub.execute_input": "2025-07-30T21:18:00.913031Z",
     "iopub.status.busy": "2025-07-30T21:18:00.912601Z",
     "iopub.status.idle": "2025-07-30T21:18:00.917698Z",
     "shell.execute_reply": "2025-07-30T21:18:00.916867Z"
    },
    "papermill": {
     "duration": 0.029202,
     "end_time": "2025-07-30T21:18:00.920645",
     "exception": false,
     "start_time": "2025-07-30T21:18:00.891443",
     "status": "completed"
    },
    "tags": []
   },
   "outputs": [],
   "source": [
    "#universe[\"training_size\"]"
   ]
  },
  {
   "cell_type": "code",
   "execution_count": 16,
   "id": "ca707fd7-8047-4acd-bfa5-66248fbbf8e6",
   "metadata": {
    "execution": {
     "iopub.execute_input": "2025-07-30T21:18:00.993604Z",
     "iopub.status.busy": "2025-07-30T21:18:00.993215Z",
     "iopub.status.idle": "2025-07-30T21:18:00.998295Z",
     "shell.execute_reply": "2025-07-30T21:18:00.997452Z"
    },
    "papermill": {
     "duration": 0.051514,
     "end_time": "2025-07-30T21:18:01.001438",
     "exception": false,
     "start_time": "2025-07-30T21:18:00.949924",
     "status": "completed"
    },
    "tags": []
   },
   "outputs": [],
   "source": [
    "#universe[\"training_year\"]"
   ]
  },
  {
   "cell_type": "code",
   "execution_count": 17,
   "id": "aea9c6ef-6f46-42c8-85eb-5a62025c1508",
   "metadata": {
    "execution": {
     "iopub.execute_input": "2025-07-30T21:18:01.047067Z",
     "iopub.status.busy": "2025-07-30T21:18:01.046675Z",
     "iopub.status.idle": "2025-07-30T21:18:02.130485Z",
     "shell.execute_reply": "2025-07-30T21:18:02.129430Z"
    },
    "papermill": {
     "duration": 1.10656,
     "end_time": "2025-07-30T21:18:02.132588",
     "exception": false,
     "start_time": "2025-07-30T21:18:01.026028",
     "status": "completed"
    },
    "tags": []
   },
   "outputs": [],
   "source": [
    "siab_train = sample_by_year_size(siab,\n",
    "                               training_year=universe[\"training_year\"],\n",
    "                               training_size=universe[\"training_size\"])"
   ]
  },
  {
   "cell_type": "code",
   "execution_count": 18,
   "id": "8d3afb32-789d-442c-8d5d-9f5aa8dd2eed",
   "metadata": {
    "execution": {
     "iopub.execute_input": "2025-07-30T21:18:02.225469Z",
     "iopub.status.busy": "2025-07-30T21:18:02.224934Z",
     "iopub.status.idle": "2025-07-30T21:18:02.230393Z",
     "shell.execute_reply": "2025-07-30T21:18:02.229435Z"
    },
    "papermill": {
     "duration": 0.058988,
     "end_time": "2025-07-30T21:18:02.242376",
     "exception": false,
     "start_time": "2025-07-30T21:18:02.183388",
     "status": "completed"
    },
    "tags": []
   },
   "outputs": [],
   "source": [
    "#siab_train.shape"
   ]
  },
  {
   "cell_type": "code",
   "execution_count": 19,
   "id": "d582db68-1a4c-47fb-84fc-08518dc1975a",
   "metadata": {
    "execution": {
     "iopub.execute_input": "2025-07-30T21:18:02.290557Z",
     "iopub.status.busy": "2025-07-30T21:18:02.290046Z",
     "iopub.status.idle": "2025-07-30T21:18:02.295225Z",
     "shell.execute_reply": "2025-07-30T21:18:02.294257Z"
    },
    "papermill": {
     "duration": 0.031726,
     "end_time": "2025-07-30T21:18:02.297081",
     "exception": false,
     "start_time": "2025-07-30T21:18:02.265355",
     "status": "completed"
    },
    "tags": []
   },
   "outputs": [],
   "source": [
    "#display(siab_train.groupby(\"year\").size())"
   ]
  },
  {
   "cell_type": "code",
   "execution_count": 20,
   "id": "a561edb4-d032-42cb-8256-22eac1111c64",
   "metadata": {
    "execution": {
     "iopub.execute_input": "2025-07-30T21:18:02.346401Z",
     "iopub.status.busy": "2025-07-30T21:18:02.345930Z",
     "iopub.status.idle": "2025-07-30T21:18:02.593986Z",
     "shell.execute_reply": "2025-07-30T21:18:02.593000Z"
    },
    "papermill": {
     "duration": 0.274759,
     "end_time": "2025-07-30T21:18:02.596078",
     "exception": false,
     "start_time": "2025-07-30T21:18:02.321319",
     "status": "completed"
    },
    "tags": []
   },
   "outputs": [],
   "source": [
    "#siab_train = siab_s[siab_s.year < 2015]\n",
    "siab_calib = siab[siab.year == 2015]\n",
    "siab_test = siab[siab.year == 2016]"
   ]
  },
  {
   "cell_type": "code",
   "execution_count": 21,
   "id": "472de16f-c3db-4916-846b-1f0de9cf1746",
   "metadata": {
    "execution": {
     "iopub.execute_input": "2025-07-30T21:18:02.663411Z",
     "iopub.status.busy": "2025-07-30T21:18:02.662874Z",
     "iopub.status.idle": "2025-07-30T21:18:02.672112Z",
     "shell.execute_reply": "2025-07-30T21:18:02.670970Z"
    },
    "papermill": {
     "duration": 0.036123,
     "end_time": "2025-07-30T21:18:02.673885",
     "exception": false,
     "start_time": "2025-07-30T21:18:02.637762",
     "status": "completed"
    },
    "tags": []
   },
   "outputs": [],
   "source": [
    "X_train = siab_train.iloc[:,4:164]\n",
    "y_train = siab_train.iloc[:, [3]]"
   ]
  },
  {
   "cell_type": "code",
   "execution_count": 22,
   "id": "828c96af-f43a-4ed6-ba47-8ac73a47d56c",
   "metadata": {
    "execution": {
     "iopub.execute_input": "2025-07-30T21:18:02.724537Z",
     "iopub.status.busy": "2025-07-30T21:18:02.724103Z",
     "iopub.status.idle": "2025-07-30T21:18:02.782572Z",
     "shell.execute_reply": "2025-07-30T21:18:02.780605Z"
    },
    "papermill": {
     "duration": 0.086383,
     "end_time": "2025-07-30T21:18:02.785013",
     "exception": false,
     "start_time": "2025-07-30T21:18:02.698630",
     "status": "completed"
    },
    "tags": []
   },
   "outputs": [],
   "source": [
    "X_calib = siab_calib.iloc[:,4:164]\n",
    "y_calib = siab_calib.iloc[:, [3]]"
   ]
  },
  {
   "cell_type": "code",
   "execution_count": 23,
   "id": "c34be9c3-6bd6-476e-acd3-845840e303be",
   "metadata": {
    "execution": {
     "iopub.execute_input": "2025-07-30T21:18:02.936076Z",
     "iopub.status.busy": "2025-07-30T21:18:02.935564Z",
     "iopub.status.idle": "2025-07-30T21:18:02.990032Z",
     "shell.execute_reply": "2025-07-30T21:18:02.988981Z"
    },
    "papermill": {
     "duration": 0.098921,
     "end_time": "2025-07-30T21:18:02.992266",
     "exception": false,
     "start_time": "2025-07-30T21:18:02.893345",
     "status": "completed"
    },
    "tags": []
   },
   "outputs": [],
   "source": [
    "X_test = siab_test.iloc[:,4:164]\n",
    "y_true = siab_test.iloc[:, [3]]"
   ]
  },
  {
   "cell_type": "markdown",
   "id": "9901737e-04df-44f0-9100-f5ad144ed040",
   "metadata": {
    "papermill": {
     "duration": 0.041902,
     "end_time": "2025-07-30T21:18:03.079817",
     "exception": false,
     "start_time": "2025-07-30T21:18:03.037915",
     "status": "completed"
    },
    "tags": []
   },
   "source": [
    "# Splitting Data and Setting Training Data Size OLD VERSION"
   ]
  },
  {
   "cell_type": "code",
   "execution_count": 24,
   "id": "acbc8f7d-8fc8-4e86-8c59-5dcb0f58384b",
   "metadata": {
    "execution": {
     "iopub.execute_input": "2025-07-30T21:18:03.233011Z",
     "iopub.status.busy": "2025-07-30T21:18:03.232614Z",
     "iopub.status.idle": "2025-07-30T21:18:03.239125Z",
     "shell.execute_reply": "2025-07-30T21:18:03.238270Z"
    },
    "papermill": {
     "duration": 0.072848,
     "end_time": "2025-07-30T21:18:03.241024",
     "exception": false,
     "start_time": "2025-07-30T21:18:03.168176",
     "status": "completed"
    },
    "tags": []
   },
   "outputs": [],
   "source": [
    "#def sample_by_year(df, training_size, random_state=42):\n",
    "#    if training_size == \"2014\":\n",
    "#        return df[df[\"year\"] == 2014].reset_index(drop=True)\n",
    "#    \n",
    "#    size_map = {\n",
    "#        \"25k\": 5000,\n",
    "#        \"5k\": 1000,\n",
    "#        \"1k\": 200\n",
    "#    }\n",
    "#\n",
    "#    if training_size not in size_map:\n",
    "#        return df.reset_index(drop=True)  # use all data\n",
    "#\n",
    "#    n_per_year = size_map[training_size]\n",
    "#    grouped = df.groupby(\"year\")\n",
    "#    sampled = grouped.apply(lambda x: x.sample(n=min(n_per_year, len(x)), random_state=random_state))\n",
    "#    return sampled.reset_index(drop=True)"
   ]
  },
  {
   "cell_type": "code",
   "execution_count": 25,
   "id": "6d931f52-beaf-43ff-9e78-9d44a448d54e",
   "metadata": {
    "execution": {
     "iopub.execute_input": "2025-07-30T21:18:03.323484Z",
     "iopub.status.busy": "2025-07-30T21:18:03.323068Z",
     "iopub.status.idle": "2025-07-30T21:18:03.329606Z",
     "shell.execute_reply": "2025-07-30T21:18:03.328560Z"
    },
    "papermill": {
     "duration": 0.044758,
     "end_time": "2025-07-30T21:18:03.331763",
     "exception": false,
     "start_time": "2025-07-30T21:18:03.287005",
     "status": "completed"
    },
    "tags": []
   },
   "outputs": [],
   "source": [
    "#siab_s = sample_by_year(siab, universe[\"training_size\"])"
   ]
  },
  {
   "cell_type": "code",
   "execution_count": 26,
   "id": "5db0a40e-a4e2-4920-be85-b12ae061d70d",
   "metadata": {
    "execution": {
     "iopub.execute_input": "2025-07-30T21:18:03.405791Z",
     "iopub.status.busy": "2025-07-30T21:18:03.405326Z",
     "iopub.status.idle": "2025-07-30T21:18:03.409177Z",
     "shell.execute_reply": "2025-07-30T21:18:03.408538Z"
    },
    "papermill": {
     "duration": 0.027053,
     "end_time": "2025-07-30T21:18:03.410720",
     "exception": false,
     "start_time": "2025-07-30T21:18:03.383667",
     "status": "completed"
    },
    "tags": []
   },
   "outputs": [],
   "source": [
    "#display(siab_s.groupby(\"year\").size())"
   ]
  },
  {
   "cell_type": "code",
   "execution_count": 27,
   "id": "e6c733c5",
   "metadata": {
    "execution": {
     "iopub.execute_input": "2025-07-30T21:18:03.460920Z",
     "iopub.status.busy": "2025-07-30T21:18:03.460379Z",
     "iopub.status.idle": "2025-07-30T21:18:03.556432Z",
     "shell.execute_reply": "2025-07-30T21:18:03.555396Z"
    },
    "papermill": {
     "duration": 0.123074,
     "end_time": "2025-07-30T21:18:03.558426",
     "exception": false,
     "start_time": "2025-07-30T21:18:03.435352",
     "status": "completed"
    },
    "tags": []
   },
   "outputs": [],
   "source": [
    "# Auxiliary data needed downstream in the pipeline\n",
    "\n",
    "org_train = X_train.copy()\n",
    "org_test = X_test.copy()\n",
    "org_calib = X_calib.copy()"
   ]
  },
  {
   "cell_type": "code",
   "execution_count": 28,
   "id": "1466abac-c6da-4492-a62f-4240ae3783af",
   "metadata": {
    "execution": {
     "iopub.execute_input": "2025-07-30T21:18:03.610851Z",
     "iopub.status.busy": "2025-07-30T21:18:03.609819Z",
     "iopub.status.idle": "2025-07-30T21:18:03.616408Z",
     "shell.execute_reply": "2025-07-30T21:18:03.615226Z"
    },
    "papermill": {
     "duration": 0.035241,
     "end_time": "2025-07-30T21:18:03.618213",
     "exception": false,
     "start_time": "2025-07-30T21:18:03.582972",
     "status": "completed"
    },
    "tags": []
   },
   "outputs": [],
   "source": [
    "# put in other script?\n",
    "# Group sizes\n",
    "\n",
    "#def calculate_percentages(df, df_name):\n",
    "#    total_entries = len(df)\n",
    "#\n",
    "#    female_pct = (df['frau1'] == 1).mean() * 100\n",
    "#    non_german_pct = ((df['maxdeutsch1'] == 0) & (df['maxdeutsch.Missing.'] == 0)).mean() * 100\n",
    "#    non_german_male_pct = ((df['frau1'] == 0) & (df['maxdeutsch1'] == 0) & (df['maxdeutsch.Missing.'] == 0)).mean() * 100\n",
    "#    non_german_female_pct = ((df['frau1'] == 1) & (df['maxdeutsch1'] == 0) & (df['maxdeutsch.Missing.'] == 0)).mean() * 100\n",
    "#\n",
    "#    print(f\"--- {df_name} ---\")\n",
    "#    print(f\"Female: {female_pct:.2f}%\")\n",
    "#    print(f\"Non-German: {non_german_pct:.2f}%\")\n",
    "#    print(f\"Non-German Male: {non_german_male_pct:.2f}%\")\n",
    "#    print(f\"Non-German Female: {non_german_female_pct:.2f}%\\n\")\n",
    "#\n",
    "## Calculate for each DataFrame\n",
    "#calculate_percentages(siab_calib, \"siab_calib\")\n",
    "#calculate_percentages(siab_test, \"siab_test\")\n",
    "#calculate_percentages(siab_train, \"siab_train\")"
   ]
  },
  {
   "cell_type": "markdown",
   "id": "0a4a1b33",
   "metadata": {
    "papermill": {
     "duration": 0.02466,
     "end_time": "2025-07-30T21:18:03.667585",
     "exception": false,
     "start_time": "2025-07-30T21:18:03.642925",
     "status": "completed"
    },
    "tags": []
   },
   "source": [
    "# Preprocessing Data"
   ]
  },
  {
   "cell_type": "code",
   "execution_count": 29,
   "id": "ca879031",
   "metadata": {
    "execution": {
     "iopub.execute_input": "2025-07-30T21:18:03.718482Z",
     "iopub.status.busy": "2025-07-30T21:18:03.717665Z",
     "iopub.status.idle": "2025-07-30T21:18:03.724966Z",
     "shell.execute_reply": "2025-07-30T21:18:03.723859Z"
    },
    "papermill": {
     "duration": 0.033902,
     "end_time": "2025-07-30T21:18:03.726573",
     "exception": false,
     "start_time": "2025-07-30T21:18:03.692671",
     "status": "completed"
    },
    "tags": []
   },
   "outputs": [],
   "source": [
    "# EXCLUDE PROTECTED FEATURES\n",
    "# ----------------------\n",
    "# \"exclude_features\": \"none\", # \"nationality\", \"sex\", \"nationality-sex\"\n",
    "\n",
    "excluded_features = universe[\"exclude_features\"].split(\"-\") # split, e.g.: \"nationality-sex\" -> [\"nationality\", \"sex\"]\n",
    "excluded_features_dictionary = {\n",
    "    \"nationality\": [\"maxdeutsch1\", \"maxdeutsch.Missing.\"],\n",
    "    \"sex\": [\"frau1\"],\n",
    "    \"age\": [\"age\"],\n",
    "}\n"
   ]
  },
  {
   "cell_type": "code",
   "execution_count": 30,
   "id": "b745ac60",
   "metadata": {
    "execution": {
     "iopub.execute_input": "2025-07-30T21:18:03.781763Z",
     "iopub.status.busy": "2025-07-30T21:18:03.781054Z",
     "iopub.status.idle": "2025-07-30T21:18:03.787258Z",
     "shell.execute_reply": "2025-07-30T21:18:03.786284Z"
    },
    "papermill": {
     "duration": 0.033436,
     "end_time": "2025-07-30T21:18:03.788817",
     "exception": false,
     "start_time": "2025-07-30T21:18:03.755381",
     "status": "completed"
    },
    "tags": []
   },
   "outputs": [],
   "source": [
    "# Code nice names to column names\n",
    "\n",
    "excluded_features_columns = [\n",
    "    excluded_features_dictionary[f] for f in excluded_features if len(f) > 0 and f != \"none\"\n",
    "]"
   ]
  },
  {
   "cell_type": "code",
   "execution_count": 31,
   "id": "f84f73a2",
   "metadata": {
    "execution": {
     "iopub.execute_input": "2025-07-30T21:18:03.839599Z",
     "iopub.status.busy": "2025-07-30T21:18:03.839074Z",
     "iopub.status.idle": "2025-07-30T21:18:03.845836Z",
     "shell.execute_reply": "2025-07-30T21:18:03.844856Z"
    },
    "papermill": {
     "duration": 0.033906,
     "end_time": "2025-07-30T21:18:03.847434",
     "exception": false,
     "start_time": "2025-07-30T21:18:03.813528",
     "status": "completed"
    },
    "tags": []
   },
   "outputs": [],
   "source": [
    "from utils import flatten_once\n",
    "\n",
    "excluded_features_columns = flatten_once(excluded_features_columns)"
   ]
  },
  {
   "cell_type": "code",
   "execution_count": 32,
   "id": "884dea22",
   "metadata": {
    "execution": {
     "iopub.execute_input": "2025-07-30T21:18:03.909351Z",
     "iopub.status.busy": "2025-07-30T21:18:03.908895Z",
     "iopub.status.idle": "2025-07-30T21:18:03.916615Z",
     "shell.execute_reply": "2025-07-30T21:18:03.915792Z"
    },
    "papermill": {
     "duration": 0.045949,
     "end_time": "2025-07-30T21:18:03.917855",
     "exception": false,
     "start_time": "2025-07-30T21:18:03.871906",
     "status": "completed"
    },
    "tags": []
   },
   "outputs": [
    {
     "name": "stdout",
     "output_type": "stream",
     "text": [
      "Dropping features: ['maxdeutsch1', 'maxdeutsch.Missing.', 'frau1']\n"
     ]
    }
   ],
   "source": [
    "if len(excluded_features_columns) > 0:\n",
    "    print(f\"Dropping features: {excluded_features_columns}\")\n",
    "    X_train.drop(excluded_features_columns, axis=1, inplace=True)"
   ]
  },
  {
   "cell_type": "code",
   "execution_count": 33,
   "id": "95ab8b16",
   "metadata": {
    "execution": {
     "iopub.execute_input": "2025-07-30T21:18:03.958729Z",
     "iopub.status.busy": "2025-07-30T21:18:03.958261Z",
     "iopub.status.idle": "2025-07-30T21:18:04.007446Z",
     "shell.execute_reply": "2025-07-30T21:18:04.006413Z"
    },
    "papermill": {
     "duration": 0.075598,
     "end_time": "2025-07-30T21:18:04.008695",
     "exception": false,
     "start_time": "2025-07-30T21:18:03.933097",
     "status": "completed"
    },
    "tags": []
   },
   "outputs": [
    {
     "name": "stdout",
     "output_type": "stream",
     "text": [
      "Dropping features: ['maxdeutsch1', 'maxdeutsch.Missing.', 'frau1']\n"
     ]
    }
   ],
   "source": [
    "if len(excluded_features_columns) > 0:\n",
    "    print(f\"Dropping features: {excluded_features_columns}\")\n",
    "    X_test.drop(excluded_features_columns, axis=1, inplace=True)"
   ]
  },
  {
   "cell_type": "code",
   "execution_count": 34,
   "id": "1853aaf5-fb9f-46cb-a2b5-8ea4ae2237e4",
   "metadata": {
    "execution": {
     "iopub.execute_input": "2025-07-30T21:18:04.034721Z",
     "iopub.status.busy": "2025-07-30T21:18:04.034145Z",
     "iopub.status.idle": "2025-07-30T21:18:04.084679Z",
     "shell.execute_reply": "2025-07-30T21:18:04.083539Z"
    },
    "papermill": {
     "duration": 0.065212,
     "end_time": "2025-07-30T21:18:04.086334",
     "exception": false,
     "start_time": "2025-07-30T21:18:04.021122",
     "status": "completed"
    },
    "tags": []
   },
   "outputs": [
    {
     "name": "stdout",
     "output_type": "stream",
     "text": [
      "Dropping features: ['maxdeutsch1', 'maxdeutsch.Missing.', 'frau1']\n"
     ]
    }
   ],
   "source": [
    "if len(excluded_features_columns) > 0:\n",
    "    print(f\"Dropping features: {excluded_features_columns}\")\n",
    "    X_calib.drop(excluded_features_columns, axis=1, inplace=True)"
   ]
  },
  {
   "cell_type": "code",
   "execution_count": 35,
   "id": "6727d079-03e5-481e-9d38-292a90b7a0a8",
   "metadata": {
    "execution": {
     "iopub.execute_input": "2025-07-30T21:18:04.133700Z",
     "iopub.status.busy": "2025-07-30T21:18:04.133341Z",
     "iopub.status.idle": "2025-07-30T21:18:04.137154Z",
     "shell.execute_reply": "2025-07-30T21:18:04.136496Z"
    },
    "papermill": {
     "duration": 0.028319,
     "end_time": "2025-07-30T21:18:04.138661",
     "exception": false,
     "start_time": "2025-07-30T21:18:04.110342",
     "status": "completed"
    },
    "tags": []
   },
   "outputs": [],
   "source": [
    "# SPLIT & STRATIFY DATA\n",
    "# ----------------------"
   ]
  },
  {
   "cell_type": "code",
   "execution_count": 36,
   "id": "76c4dc6d",
   "metadata": {
    "execution": {
     "iopub.execute_input": "2025-07-30T21:18:04.184919Z",
     "iopub.status.busy": "2025-07-30T21:18:04.184448Z",
     "iopub.status.idle": "2025-07-30T21:18:04.188523Z",
     "shell.execute_reply": "2025-07-30T21:18:04.187858Z"
    },
    "papermill": {
     "duration": 0.028397,
     "end_time": "2025-07-30T21:18:04.189557",
     "exception": false,
     "start_time": "2025-07-30T21:18:04.161160",
     "status": "completed"
    },
    "tags": []
   },
   "outputs": [],
   "source": [
    "# EXCLUDE CERTAIN SUBGROUPS\n",
    "# ----------------------\n",
    "\n",
    "mode = universe.get(\"exclude_subgroups\", \"keep-all\") \n",
    "# Fetches the exclude_subgroups setting from the universe dict.\n",
    "# Defaults to \"keep-all\" if the key is missing."
   ]
  },
  {
   "cell_type": "code",
   "execution_count": 37,
   "id": "21994072",
   "metadata": {
    "execution": {
     "iopub.execute_input": "2025-07-30T21:18:04.236280Z",
     "iopub.status.busy": "2025-07-30T21:18:04.235271Z",
     "iopub.status.idle": "2025-07-30T21:18:04.279055Z",
     "shell.execute_reply": "2025-07-30T21:18:04.278248Z"
    },
    "papermill": {
     "duration": 0.071336,
     "end_time": "2025-07-30T21:18:04.280503",
     "exception": false,
     "start_time": "2025-07-30T21:18:04.209167",
     "status": "completed"
    },
    "tags": []
   },
   "outputs": [],
   "source": [
    "if mode == \"keep-all\":\n",
    "    keep_mask = pd.Series(True, index=org_train.index)\n",
    "\n",
    "# org_train contains the original feature columns from features_org (in Simson)\n",
    "# features_org contains unprocessed features, for me X_train at beginning ???\n",
    "# For keep-all, creates a boolean Series (keep_mask) of all True, so no rows are removed.\n",
    "\n",
    "elif mode == \"drop-non-german\":\n",
    "    keep_mask = org_train[\"maxdeutsch1\"] == 1 # ??? what about missing values?\n",
    "\n",
    "else:\n",
    "    raise ValueError(f\"Unsupported mode for exclude_subgroups: {mode}\")\n"
   ]
  },
  {
   "cell_type": "code",
   "execution_count": 38,
   "id": "71651440",
   "metadata": {
    "execution": {
     "iopub.execute_input": "2025-07-30T21:18:04.307431Z",
     "iopub.status.busy": "2025-07-30T21:18:04.306934Z",
     "iopub.status.idle": "2025-07-30T21:18:04.397044Z",
     "shell.execute_reply": "2025-07-30T21:18:04.395901Z"
    },
    "papermill": {
     "duration": 0.104946,
     "end_time": "2025-07-30T21:18:04.398777",
     "exception": false,
     "start_time": "2025-07-30T21:18:04.293831",
     "status": "completed"
    },
    "tags": []
   },
   "outputs": [
    {
     "name": "stdout",
     "output_type": "stream",
     "text": [
      "Dropping 657 rows (13.14%) where mode='drop-non-german'\n"
     ]
    }
   ],
   "source": [
    "n_drop = (~keep_mask).sum() # Calculates how many rows are set to be dropped\n",
    "if n_drop > 0:\n",
    "    pct = n_drop / len(keep_mask) * 100\n",
    "    print(f\"Dropping {n_drop} rows ({pct:.2f}%) where mode='{mode}'\")"
   ]
  },
  {
   "cell_type": "code",
   "execution_count": 39,
   "id": "5fb8eee5",
   "metadata": {
    "execution": {
     "iopub.execute_input": "2025-07-30T21:18:04.452219Z",
     "iopub.status.busy": "2025-07-30T21:18:04.451684Z",
     "iopub.status.idle": "2025-07-30T21:18:04.459346Z",
     "shell.execute_reply": "2025-07-30T21:18:04.458335Z"
    },
    "papermill": {
     "duration": 0.03539,
     "end_time": "2025-07-30T21:18:04.461052",
     "exception": false,
     "start_time": "2025-07-30T21:18:04.425662",
     "status": "completed"
    },
    "tags": []
   },
   "outputs": [],
   "source": [
    "X_train = X_train[keep_mask]"
   ]
  },
  {
   "cell_type": "code",
   "execution_count": 40,
   "id": "b202bb3a",
   "metadata": {
    "execution": {
     "iopub.execute_input": "2025-07-30T21:18:04.513980Z",
     "iopub.status.busy": "2025-07-30T21:18:04.513457Z",
     "iopub.status.idle": "2025-07-30T21:18:04.519937Z",
     "shell.execute_reply": "2025-07-30T21:18:04.519012Z"
    },
    "papermill": {
     "duration": 0.035012,
     "end_time": "2025-07-30T21:18:04.521722",
     "exception": false,
     "start_time": "2025-07-30T21:18:04.486710",
     "status": "completed"
    },
    "tags": []
   },
   "outputs": [],
   "source": [
    "y_train = y_train[keep_mask]"
   ]
  },
  {
   "cell_type": "markdown",
   "id": "493e2ac3",
   "metadata": {
    "papermill": {
     "duration": 0.026063,
     "end_time": "2025-07-30T21:18:04.574990",
     "exception": false,
     "start_time": "2025-07-30T21:18:04.548927",
     "status": "completed"
    },
    "tags": []
   },
   "source": [
    "# Model Training"
   ]
  },
  {
   "cell_type": "code",
   "execution_count": 41,
   "id": "679e1268",
   "metadata": {
    "execution": {
     "iopub.execute_input": "2025-07-30T21:18:04.627088Z",
     "iopub.status.busy": "2025-07-30T21:18:04.626623Z",
     "iopub.status.idle": "2025-07-30T21:18:04.739746Z",
     "shell.execute_reply": "2025-07-30T21:18:04.738774Z"
    },
    "papermill": {
     "duration": 0.141358,
     "end_time": "2025-07-30T21:18:04.741916",
     "exception": false,
     "start_time": "2025-07-30T21:18:04.600558",
     "status": "completed"
    },
    "tags": []
   },
   "outputs": [],
   "source": [
    "from sklearn.linear_model import LogisticRegression\n",
    "from sklearn.ensemble import GradientBoostingClassifier, RandomForestClassifier\n",
    "\n",
    "if (universe[\"model\"] == \"logreg\"):\n",
    "    model = LogisticRegression() #penalty=\"none\") #, solver=\"newton-cg\", max_iter=1) # include random_state=19 ?\n",
    "elif (universe[\"model\"] == \"penalized_logreg\"):\n",
    "    model = LogisticRegression(penalty=\"l2\", C=1.0) #, solver=\"newton-cg\", max_iter=1)\n",
    "elif (universe[\"model\"] == \"rf\"):\n",
    "    model = RandomForestClassifier(n_estimators=100, n_jobs=-1)\n",
    "elif (universe[\"model\"] == \"gbm\"):\n",
    "    model = GradientBoostingClassifier()\n",
    "elif (universe[\"model\"] == \"elasticnet\"):\n",
    "    model = LogisticRegression(penalty = 'elasticnet', solver = 'saga', l1_ratio = 0.5, max_iter=5000) # which solver to use?\n",
    "else:\n",
    "    raise \"Unsupported universe.model\""
   ]
  },
  {
   "cell_type": "code",
   "execution_count": 42,
   "id": "0cc8f744",
   "metadata": {
    "execution": {
     "iopub.execute_input": "2025-07-30T21:18:04.797000Z",
     "iopub.status.busy": "2025-07-30T21:18:04.796302Z",
     "iopub.status.idle": "2025-07-30T21:18:04.803293Z",
     "shell.execute_reply": "2025-07-30T21:18:04.802214Z"
    },
    "papermill": {
     "duration": 0.035662,
     "end_time": "2025-07-30T21:18:04.805103",
     "exception": false,
     "start_time": "2025-07-30T21:18:04.769441",
     "status": "completed"
    },
    "tags": []
   },
   "outputs": [],
   "source": [
    "import numpy as np\n",
    "from sklearn.pipeline import Pipeline\n",
    "from sklearn.preprocessing import StandardScaler\n",
    "\n",
    "model = Pipeline([\n",
    "    #(\"continuous_processor\", continuous_processor),\n",
    "    #(\"categorical_preprocessor\", categorical_preprocessor),\n",
    "    (\"scale\", StandardScaler() if universe[\"scale\"] == \"scale\" else None), \n",
    "    (\"model\", model),\n",
    "])"
   ]
  },
  {
   "cell_type": "code",
   "execution_count": 43,
   "id": "9442c04d",
   "metadata": {
    "execution": {
     "iopub.execute_input": "2025-07-30T21:18:04.861198Z",
     "iopub.status.busy": "2025-07-30T21:18:04.860393Z",
     "iopub.status.idle": "2025-07-30T21:18:05.780505Z",
     "shell.execute_reply": "2025-07-30T21:18:05.779396Z"
    },
    "papermill": {
     "duration": 0.949435,
     "end_time": "2025-07-30T21:18:05.782254",
     "exception": false,
     "start_time": "2025-07-30T21:18:04.832819",
     "status": "completed"
    },
    "tags": []
   },
   "outputs": [
    {
     "data": {
      "text/html": [
       "<style>#sk-container-id-1 {color: black;background-color: white;}#sk-container-id-1 pre{padding: 0;}#sk-container-id-1 div.sk-toggleable {background-color: white;}#sk-container-id-1 label.sk-toggleable__label {cursor: pointer;display: block;width: 100%;margin-bottom: 0;padding: 0.3em;box-sizing: border-box;text-align: center;}#sk-container-id-1 label.sk-toggleable__label-arrow:before {content: \"▸\";float: left;margin-right: 0.25em;color: #696969;}#sk-container-id-1 label.sk-toggleable__label-arrow:hover:before {color: black;}#sk-container-id-1 div.sk-estimator:hover label.sk-toggleable__label-arrow:before {color: black;}#sk-container-id-1 div.sk-toggleable__content {max-height: 0;max-width: 0;overflow: hidden;text-align: left;background-color: #f0f8ff;}#sk-container-id-1 div.sk-toggleable__content pre {margin: 0.2em;color: black;border-radius: 0.25em;background-color: #f0f8ff;}#sk-container-id-1 input.sk-toggleable__control:checked~div.sk-toggleable__content {max-height: 200px;max-width: 100%;overflow: auto;}#sk-container-id-1 input.sk-toggleable__control:checked~label.sk-toggleable__label-arrow:before {content: \"▾\";}#sk-container-id-1 div.sk-estimator input.sk-toggleable__control:checked~label.sk-toggleable__label {background-color: #d4ebff;}#sk-container-id-1 div.sk-label input.sk-toggleable__control:checked~label.sk-toggleable__label {background-color: #d4ebff;}#sk-container-id-1 input.sk-hidden--visually {border: 0;clip: rect(1px 1px 1px 1px);clip: rect(1px, 1px, 1px, 1px);height: 1px;margin: -1px;overflow: hidden;padding: 0;position: absolute;width: 1px;}#sk-container-id-1 div.sk-estimator {font-family: monospace;background-color: #f0f8ff;border: 1px dotted black;border-radius: 0.25em;box-sizing: border-box;margin-bottom: 0.5em;}#sk-container-id-1 div.sk-estimator:hover {background-color: #d4ebff;}#sk-container-id-1 div.sk-parallel-item::after {content: \"\";width: 100%;border-bottom: 1px solid gray;flex-grow: 1;}#sk-container-id-1 div.sk-label:hover label.sk-toggleable__label {background-color: #d4ebff;}#sk-container-id-1 div.sk-serial::before {content: \"\";position: absolute;border-left: 1px solid gray;box-sizing: border-box;top: 0;bottom: 0;left: 50%;z-index: 0;}#sk-container-id-1 div.sk-serial {display: flex;flex-direction: column;align-items: center;background-color: white;padding-right: 0.2em;padding-left: 0.2em;position: relative;}#sk-container-id-1 div.sk-item {position: relative;z-index: 1;}#sk-container-id-1 div.sk-parallel {display: flex;align-items: stretch;justify-content: center;background-color: white;position: relative;}#sk-container-id-1 div.sk-item::before, #sk-container-id-1 div.sk-parallel-item::before {content: \"\";position: absolute;border-left: 1px solid gray;box-sizing: border-box;top: 0;bottom: 0;left: 50%;z-index: -1;}#sk-container-id-1 div.sk-parallel-item {display: flex;flex-direction: column;z-index: 1;position: relative;background-color: white;}#sk-container-id-1 div.sk-parallel-item:first-child::after {align-self: flex-end;width: 50%;}#sk-container-id-1 div.sk-parallel-item:last-child::after {align-self: flex-start;width: 50%;}#sk-container-id-1 div.sk-parallel-item:only-child::after {width: 0;}#sk-container-id-1 div.sk-dashed-wrapped {border: 1px dashed gray;margin: 0 0.4em 0.5em 0.4em;box-sizing: border-box;padding-bottom: 0.4em;background-color: white;}#sk-container-id-1 div.sk-label label {font-family: monospace;font-weight: bold;display: inline-block;line-height: 1.2em;}#sk-container-id-1 div.sk-label-container {text-align: center;}#sk-container-id-1 div.sk-container {/* jupyter's `normalize.less` sets `[hidden] { display: none; }` but bootstrap.min.css set `[hidden] { display: none !important; }` so we also need the `!important` here to be able to override the default hidden behavior on the sphinx rendered scikit-learn.org. See: https://github.com/scikit-learn/scikit-learn/issues/21755 */display: inline-block !important;position: relative;}#sk-container-id-1 div.sk-text-repr-fallback {display: none;}</style><div id=\"sk-container-id-1\" class=\"sk-top-container\"><div class=\"sk-text-repr-fallback\"><pre>Pipeline(steps=[(&#x27;scale&#x27;, None), (&#x27;model&#x27;, RandomForestClassifier(n_jobs=-1))])</pre><b>In a Jupyter environment, please rerun this cell to show the HTML representation or trust the notebook. <br />On GitHub, the HTML representation is unable to render, please try loading this page with nbviewer.org.</b></div><div class=\"sk-container\" hidden><div class=\"sk-item sk-dashed-wrapped\"><div class=\"sk-label-container\"><div class=\"sk-label sk-toggleable\"><input class=\"sk-toggleable__control sk-hidden--visually\" id=\"sk-estimator-id-1\" type=\"checkbox\" ><label for=\"sk-estimator-id-1\" class=\"sk-toggleable__label sk-toggleable__label-arrow\">Pipeline</label><div class=\"sk-toggleable__content\"><pre>Pipeline(steps=[(&#x27;scale&#x27;, None), (&#x27;model&#x27;, RandomForestClassifier(n_jobs=-1))])</pre></div></div></div><div class=\"sk-serial\"><div class=\"sk-item\"><div class=\"sk-estimator sk-toggleable\"><input class=\"sk-toggleable__control sk-hidden--visually\" id=\"sk-estimator-id-2\" type=\"checkbox\" ><label for=\"sk-estimator-id-2\" class=\"sk-toggleable__label sk-toggleable__label-arrow\">None</label><div class=\"sk-toggleable__content\"><pre>None</pre></div></div></div><div class=\"sk-item\"><div class=\"sk-estimator sk-toggleable\"><input class=\"sk-toggleable__control sk-hidden--visually\" id=\"sk-estimator-id-3\" type=\"checkbox\" ><label for=\"sk-estimator-id-3\" class=\"sk-toggleable__label sk-toggleable__label-arrow\">RandomForestClassifier</label><div class=\"sk-toggleable__content\"><pre>RandomForestClassifier(n_jobs=-1)</pre></div></div></div></div></div></div></div>"
      ],
      "text/plain": [
       "Pipeline(steps=[('scale', None), ('model', RandomForestClassifier(n_jobs=-1))])"
      ]
     },
     "execution_count": 43,
     "metadata": {},
     "output_type": "execute_result"
    }
   ],
   "source": [
    "model.fit(X_train, y_train.values.ravel())"
   ]
  },
  {
   "cell_type": "code",
   "execution_count": 44,
   "id": "af59f8c0",
   "metadata": {
    "execution": {
     "iopub.execute_input": "2025-07-30T21:18:05.832643Z",
     "iopub.status.busy": "2025-07-30T21:18:05.831917Z",
     "iopub.status.idle": "2025-07-30T21:18:05.837349Z",
     "shell.execute_reply": "2025-07-30T21:18:05.836399Z"
    },
    "papermill": {
     "duration": 0.032513,
     "end_time": "2025-07-30T21:18:05.838924",
     "exception": false,
     "start_time": "2025-07-30T21:18:05.806411",
     "status": "completed"
    },
    "tags": []
   },
   "outputs": [],
   "source": [
    "from fairness_multiverse.universe import predict_w_threshold"
   ]
  },
  {
   "cell_type": "code",
   "execution_count": 45,
   "id": "a7cf2e16",
   "metadata": {
    "execution": {
     "iopub.execute_input": "2025-07-30T21:18:05.889190Z",
     "iopub.status.busy": "2025-07-30T21:18:05.888520Z",
     "iopub.status.idle": "2025-07-30T21:18:06.737160Z",
     "shell.execute_reply": "2025-07-30T21:18:06.736120Z"
    },
    "papermill": {
     "duration": 0.87507,
     "end_time": "2025-07-30T21:18:06.738640",
     "exception": false,
     "start_time": "2025-07-30T21:18:05.863570",
     "status": "completed"
    },
    "tags": []
   },
   "outputs": [
    {
     "data": {
      "text/plain": [
       "0.8627243339649984"
      ]
     },
     "execution_count": 45,
     "metadata": {},
     "output_type": "execute_result"
    }
   ],
   "source": [
    "probs_test = model.predict_proba(X_test)\n",
    "\n",
    "'''\n",
    "Below code returns a boolean array (or binary 0/1 array depending on how it’s used) where each element \n",
    "is True if the probability of class 1 is greater than or equal to the threshold, and False otherwise.\n",
    "'''\n",
    "y_pred_default = predict_w_threshold(probs_test, 0.5)\n",
    "\n",
    "from sklearn.metrics import accuracy_score\n",
    "\n",
    "# Naive prediction\n",
    "accuracy_score(y_true = y_true, y_pred = y_pred_default)"
   ]
  },
  {
   "cell_type": "code",
   "execution_count": 46,
   "id": "081964c3",
   "metadata": {
    "execution": {
     "iopub.execute_input": "2025-07-30T21:18:06.807176Z",
     "iopub.status.busy": "2025-07-30T21:18:06.806663Z",
     "iopub.status.idle": "2025-07-30T21:18:07.636939Z",
     "shell.execute_reply": "2025-07-30T21:18:07.635930Z"
    },
    "papermill": {
     "duration": 0.876789,
     "end_time": "2025-07-30T21:18:07.638635",
     "exception": false,
     "start_time": "2025-07-30T21:18:06.761846",
     "status": "completed"
    },
    "tags": []
   },
   "outputs": [
    {
     "data": {
      "text/plain": [
       "array([0, 0, 0, ..., 0, 0, 0])"
      ]
     },
     "execution_count": 46,
     "metadata": {},
     "output_type": "execute_result"
    }
   ],
   "source": [
    "model.predict(X_test)"
   ]
  },
  {
   "cell_type": "markdown",
   "id": "56c9705b",
   "metadata": {
    "papermill": {
     "duration": 0.026676,
     "end_time": "2025-07-30T21:18:07.691942",
     "exception": false,
     "start_time": "2025-07-30T21:18:07.665266",
     "status": "completed"
    },
    "tags": []
   },
   "source": [
    "# Conformal Prediction"
   ]
  },
  {
   "cell_type": "code",
   "execution_count": 47,
   "id": "160ec6ff",
   "metadata": {
    "execution": {
     "iopub.execute_input": "2025-07-30T21:18:07.747388Z",
     "iopub.status.busy": "2025-07-30T21:18:07.746898Z",
     "iopub.status.idle": "2025-07-30T21:18:07.752567Z",
     "shell.execute_reply": "2025-07-30T21:18:07.751519Z"
    },
    "papermill": {
     "duration": 0.034959,
     "end_time": "2025-07-30T21:18:07.754183",
     "exception": false,
     "start_time": "2025-07-30T21:18:07.719224",
     "status": "completed"
    },
    "tags": []
   },
   "outputs": [],
   "source": [
    "# Miscoverage level for conformal prediction (10% allowed error rate => 90% target coverage)\n",
    "alpha = 0.1"
   ]
  },
  {
   "cell_type": "code",
   "execution_count": 48,
   "id": "eadf4555-3dd3-440e-8e35-f82a4ad9f855",
   "metadata": {
    "execution": {
     "iopub.execute_input": "2025-07-30T21:18:07.808046Z",
     "iopub.status.busy": "2025-07-30T21:18:07.807598Z",
     "iopub.status.idle": "2025-07-30T21:18:08.541787Z",
     "shell.execute_reply": "2025-07-30T21:18:08.540883Z"
    },
    "papermill": {
     "duration": 0.76388,
     "end_time": "2025-07-30T21:18:08.543774",
     "exception": false,
     "start_time": "2025-07-30T21:18:07.779894",
     "status": "completed"
    },
    "tags": []
   },
   "outputs": [],
   "source": [
    "probs_calib = model.predict_proba(X_calib)"
   ]
  },
  {
   "cell_type": "code",
   "execution_count": 49,
   "id": "2ed93547-6d5d-4983-9b36-1ecb300da49a",
   "metadata": {
    "execution": {
     "iopub.execute_input": "2025-07-30T21:18:08.599051Z",
     "iopub.status.busy": "2025-07-30T21:18:08.598619Z",
     "iopub.status.idle": "2025-07-30T21:18:08.605749Z",
     "shell.execute_reply": "2025-07-30T21:18:08.604709Z"
    },
    "papermill": {
     "duration": 0.034784,
     "end_time": "2025-07-30T21:18:08.607373",
     "exception": false,
     "start_time": "2025-07-30T21:18:08.572589",
     "status": "completed"
    },
    "tags": []
   },
   "outputs": [],
   "source": [
    "y_calib = y_calib.values.ravel().astype(int)"
   ]
  },
  {
   "cell_type": "code",
   "execution_count": 50,
   "id": "65d1320d-f588-4b38-9072-62af1ae97f7d",
   "metadata": {
    "execution": {
     "iopub.execute_input": "2025-07-30T21:18:08.659151Z",
     "iopub.status.busy": "2025-07-30T21:18:08.658234Z",
     "iopub.status.idle": "2025-07-30T21:18:08.665905Z",
     "shell.execute_reply": "2025-07-30T21:18:08.665022Z"
    },
    "papermill": {
     "duration": 0.034505,
     "end_time": "2025-07-30T21:18:08.667442",
     "exception": false,
     "start_time": "2025-07-30T21:18:08.632937",
     "status": "completed"
    },
    "tags": []
   },
   "outputs": [],
   "source": [
    "from fairness_multiverse.conformal import compute_nc_scores\n",
    "\n",
    "# Compute nonconformity scores on calibration set (1 - probability of true class)\n",
    "nc_scores = compute_nc_scores(probs_calib, y_calib)"
   ]
  },
  {
   "cell_type": "code",
   "execution_count": 51,
   "id": "df3b8ca3-53b7-43d5-9667-7c85da7aeda2",
   "metadata": {
    "execution": {
     "iopub.execute_input": "2025-07-30T21:18:08.717284Z",
     "iopub.status.busy": "2025-07-30T21:18:08.716823Z",
     "iopub.status.idle": "2025-07-30T21:18:08.723609Z",
     "shell.execute_reply": "2025-07-30T21:18:08.722707Z"
    },
    "papermill": {
     "duration": 0.032271,
     "end_time": "2025-07-30T21:18:08.725221",
     "exception": false,
     "start_time": "2025-07-30T21:18:08.692950",
     "status": "completed"
    },
    "tags": []
   },
   "outputs": [],
   "source": [
    "from fairness_multiverse.conformal import find_threshold\n",
    "\n",
    "# Find conformal threshold q_hat for the given alpha (split conformal method)\n",
    "q_hat = find_threshold(nc_scores, alpha)"
   ]
  },
  {
   "cell_type": "code",
   "execution_count": 52,
   "id": "4d29e6c1-0ef6-4aa4-b8fe-4fe79b0d033a",
   "metadata": {
    "execution": {
     "iopub.execute_input": "2025-07-30T21:18:08.775963Z",
     "iopub.status.busy": "2025-07-30T21:18:08.775307Z",
     "iopub.status.idle": "2025-07-30T21:18:08.783195Z",
     "shell.execute_reply": "2025-07-30T21:18:08.782142Z"
    },
    "papermill": {
     "duration": 0.03513,
     "end_time": "2025-07-30T21:18:08.784885",
     "exception": false,
     "start_time": "2025-07-30T21:18:08.749755",
     "status": "completed"
    },
    "tags": []
   },
   "outputs": [
    {
     "data": {
      "text/plain": [
       "0.6699999999999999"
      ]
     },
     "execution_count": 52,
     "metadata": {},
     "output_type": "execute_result"
    }
   ],
   "source": [
    "q_hat"
   ]
  },
  {
   "cell_type": "code",
   "execution_count": 53,
   "id": "92460794-cdac-4be2-ba28-f28c0515a6fb",
   "metadata": {
    "execution": {
     "iopub.execute_input": "2025-07-30T21:18:08.835799Z",
     "iopub.status.busy": "2025-07-30T21:18:08.834984Z",
     "iopub.status.idle": "2025-07-30T21:18:10.268170Z",
     "shell.execute_reply": "2025-07-30T21:18:10.266984Z"
    },
    "papermill": {
     "duration": 1.460148,
     "end_time": "2025-07-30T21:18:10.270518",
     "exception": false,
     "start_time": "2025-07-30T21:18:08.810370",
     "status": "completed"
    },
    "tags": []
   },
   "outputs": [],
   "source": [
    "from fairness_multiverse.conformal import predict_conformal_sets\n",
    "\n",
    "# Generate prediction sets for each test example\n",
    "pred_sets = predict_conformal_sets(model, X_test, q_hat)"
   ]
  },
  {
   "cell_type": "code",
   "execution_count": 54,
   "id": "d90c9a65-e6db-4f5d-80cd-e68fb7e46829",
   "metadata": {
    "execution": {
     "iopub.execute_input": "2025-07-30T21:18:10.362435Z",
     "iopub.status.busy": "2025-07-30T21:18:10.361638Z",
     "iopub.status.idle": "2025-07-30T21:18:10.369330Z",
     "shell.execute_reply": "2025-07-30T21:18:10.368155Z"
    },
    "papermill": {
     "duration": 0.072143,
     "end_time": "2025-07-30T21:18:10.371493",
     "exception": false,
     "start_time": "2025-07-30T21:18:10.299350",
     "status": "completed"
    },
    "tags": []
   },
   "outputs": [],
   "source": [
    "y_true = y_true.squeeze()"
   ]
  },
  {
   "cell_type": "code",
   "execution_count": 55,
   "id": "3a58a54a-1e68-46b9-927a-df01f18aebc8",
   "metadata": {
    "execution": {
     "iopub.execute_input": "2025-07-30T21:18:10.422201Z",
     "iopub.status.busy": "2025-07-30T21:18:10.421761Z",
     "iopub.status.idle": "2025-07-30T21:18:11.413269Z",
     "shell.execute_reply": "2025-07-30T21:18:11.412100Z"
    },
    "papermill": {
     "duration": 1.017383,
     "end_time": "2025-07-30T21:18:11.414811",
     "exception": false,
     "start_time": "2025-07-30T21:18:10.397428",
     "status": "completed"
    },
    "tags": []
   },
   "outputs": [],
   "source": [
    "from fairness_multiverse.conformal import evaluate_sets\n",
    "\n",
    "# Evaluate coverage and average set size on test data\n",
    "metrics = evaluate_sets(pred_sets, y_true)"
   ]
  },
  {
   "cell_type": "markdown",
   "id": "2b569c12-9aaa-4c88-98c9-bbcd0cf3ebb8",
   "metadata": {
    "papermill": {
     "duration": 0.024827,
     "end_time": "2025-07-30T21:18:11.469874",
     "exception": false,
     "start_time": "2025-07-30T21:18:11.445047",
     "status": "completed"
    },
    "tags": []
   },
   "source": [
    "# CP Metrics"
   ]
  },
  {
   "cell_type": "code",
   "execution_count": 56,
   "id": "5ce0a5cb-201f-45a0-ade5-94c7f0bd6095",
   "metadata": {
    "execution": {
     "iopub.execute_input": "2025-07-30T21:18:11.553979Z",
     "iopub.status.busy": "2025-07-30T21:18:11.553406Z",
     "iopub.status.idle": "2025-07-30T21:18:11.561025Z",
     "shell.execute_reply": "2025-07-30T21:18:11.559893Z"
    },
    "papermill": {
     "duration": 0.03807,
     "end_time": "2025-07-30T21:18:11.563457",
     "exception": false,
     "start_time": "2025-07-30T21:18:11.525387",
     "status": "completed"
    },
    "tags": []
   },
   "outputs": [
    {
     "data": {
      "text/plain": [
       "{'coverage': 0.914858990079144, 'avg_size': 1.1535391818080483}"
      ]
     },
     "execution_count": 56,
     "metadata": {},
     "output_type": "execute_result"
    }
   ],
   "source": [
    "metrics"
   ]
  },
  {
   "cell_type": "code",
   "execution_count": 57,
   "id": "9b9a838d-31c9-430b-ae14-12baee460d17",
   "metadata": {
    "execution": {
     "iopub.execute_input": "2025-07-30T21:18:11.643386Z",
     "iopub.status.busy": "2025-07-30T21:18:11.642983Z",
     "iopub.status.idle": "2025-07-30T21:18:11.649761Z",
     "shell.execute_reply": "2025-07-30T21:18:11.648876Z"
    },
    "papermill": {
     "duration": 0.032298,
     "end_time": "2025-07-30T21:18:11.652324",
     "exception": false,
     "start_time": "2025-07-30T21:18:11.620026",
     "status": "completed"
    },
    "tags": []
   },
   "outputs": [],
   "source": [
    "example_universe = universe.copy()\n",
    "universe_training_year = example_universe.get(\"training_year\")\n",
    "universe_training_size = example_universe.get(\"training_size\")\n",
    "universe_scale = example_universe.get(\"scale\")\n",
    "universe_model = example_universe.get(\"model\")\n",
    "universe_exclude_features = example_universe.get(\"exclude_features\")\n",
    "universe_exclude_subgroups = example_universe.get(\"exclude_subgroups\")"
   ]
  },
  {
   "cell_type": "code",
   "execution_count": 58,
   "id": "f4b6a8ac-9dc0-4245-8a91-5b3b5999c4f9",
   "metadata": {
    "execution": {
     "iopub.execute_input": "2025-07-30T21:18:11.760189Z",
     "iopub.status.busy": "2025-07-30T21:18:11.759728Z",
     "iopub.status.idle": "2025-07-30T21:18:11.767027Z",
     "shell.execute_reply": "2025-07-30T21:18:11.765907Z"
    },
    "papermill": {
     "duration": 0.059454,
     "end_time": "2025-07-30T21:18:11.768693",
     "exception": false,
     "start_time": "2025-07-30T21:18:11.709239",
     "status": "completed"
    },
    "tags": []
   },
   "outputs": [],
   "source": [
    "cp_metrics_dict = {\n",
    "    \"universe_id\": [universe_id],\n",
    "    \"universe_training_year\": [universe_training_year],\n",
    "    \"universe_training_size\": [universe_training_size],\n",
    "    \"universe_scale\": [universe_scale],\n",
    "    \"universe_model\": [universe_model],\n",
    "    \"universe_exclude_features\": [universe_exclude_features],\n",
    "    \"universe_exclude_subgroups\": [universe_exclude_subgroups],\n",
    "    \"q_hat\": [q_hat],\n",
    "    \"coverage\": [metrics[\"coverage\"]],\n",
    "    \"avg_size\": [metrics[\"avg_size\"]],\n",
    "}"
   ]
  },
  {
   "cell_type": "code",
   "execution_count": 59,
   "id": "908acbb1-0371-4915-85ca-3fa520d2efe2",
   "metadata": {
    "execution": {
     "iopub.execute_input": "2025-07-30T21:18:11.820952Z",
     "iopub.status.busy": "2025-07-30T21:18:11.820572Z",
     "iopub.status.idle": "2025-07-30T21:18:11.828084Z",
     "shell.execute_reply": "2025-07-30T21:18:11.826901Z"
    },
    "papermill": {
     "duration": 0.033933,
     "end_time": "2025-07-30T21:18:11.829723",
     "exception": false,
     "start_time": "2025-07-30T21:18:11.795790",
     "status": "completed"
    },
    "tags": []
   },
   "outputs": [
    {
     "data": {
      "text/plain": [
       "{'universe_id': ['3690b925a524f06c1662f4d55f45b058'],\n",
       " 'universe_training_year': ['2010_14'],\n",
       " 'universe_training_size': ['5k'],\n",
       " 'universe_scale': ['do-not-scale'],\n",
       " 'universe_model': ['rf'],\n",
       " 'universe_exclude_features': ['nationality-sex'],\n",
       " 'universe_exclude_subgroups': ['drop-non-german'],\n",
       " 'q_hat': [0.6699999999999999],\n",
       " 'coverage': [0.914858990079144],\n",
       " 'avg_size': [1.1535391818080483]}"
      ]
     },
     "execution_count": 59,
     "metadata": {},
     "output_type": "execute_result"
    }
   ],
   "source": [
    "cp_metrics_dict"
   ]
  },
  {
   "cell_type": "code",
   "execution_count": 60,
   "id": "33007efc-14e9-4ec6-97ac-56a455c82265",
   "metadata": {
    "execution": {
     "iopub.execute_input": "2025-07-30T21:18:11.879142Z",
     "iopub.status.busy": "2025-07-30T21:18:11.878634Z",
     "iopub.status.idle": "2025-07-30T21:18:11.885043Z",
     "shell.execute_reply": "2025-07-30T21:18:11.884070Z"
    },
    "papermill": {
     "duration": 0.032195,
     "end_time": "2025-07-30T21:18:11.886865",
     "exception": false,
     "start_time": "2025-07-30T21:18:11.854670",
     "status": "completed"
    },
    "tags": []
   },
   "outputs": [],
   "source": [
    "cp_metrics_df = pd.DataFrame(cp_metrics_dict)"
   ]
  },
  {
   "cell_type": "code",
   "execution_count": 61,
   "id": "db12611b-57b2-4910-b9d0-355adfd6e7bf",
   "metadata": {
    "execution": {
     "iopub.execute_input": "2025-07-30T21:18:11.940161Z",
     "iopub.status.busy": "2025-07-30T21:18:11.939132Z",
     "iopub.status.idle": "2025-07-30T21:18:11.958920Z",
     "shell.execute_reply": "2025-07-30T21:18:11.957097Z"
    },
    "papermill": {
     "duration": 0.046218,
     "end_time": "2025-07-30T21:18:11.960602",
     "exception": false,
     "start_time": "2025-07-30T21:18:11.914384",
     "status": "completed"
    },
    "tags": []
   },
   "outputs": [
    {
     "data": {
      "text/html": [
       "<div>\n",
       "<style scoped>\n",
       "    .dataframe tbody tr th:only-of-type {\n",
       "        vertical-align: middle;\n",
       "    }\n",
       "\n",
       "    .dataframe tbody tr th {\n",
       "        vertical-align: top;\n",
       "    }\n",
       "\n",
       "    .dataframe thead th {\n",
       "        text-align: right;\n",
       "    }\n",
       "</style>\n",
       "<table border=\"1\" class=\"dataframe\">\n",
       "  <thead>\n",
       "    <tr style=\"text-align: right;\">\n",
       "      <th></th>\n",
       "      <th>universe_id</th>\n",
       "      <th>universe_training_year</th>\n",
       "      <th>universe_training_size</th>\n",
       "      <th>universe_scale</th>\n",
       "      <th>universe_model</th>\n",
       "      <th>universe_exclude_features</th>\n",
       "      <th>universe_exclude_subgroups</th>\n",
       "      <th>q_hat</th>\n",
       "      <th>coverage</th>\n",
       "      <th>avg_size</th>\n",
       "    </tr>\n",
       "  </thead>\n",
       "  <tbody>\n",
       "    <tr>\n",
       "      <th>0</th>\n",
       "      <td>3690b925a524f06c1662f4d55f45b058</td>\n",
       "      <td>2010_14</td>\n",
       "      <td>5k</td>\n",
       "      <td>do-not-scale</td>\n",
       "      <td>rf</td>\n",
       "      <td>nationality-sex</td>\n",
       "      <td>drop-non-german</td>\n",
       "      <td>0.67</td>\n",
       "      <td>0.914859</td>\n",
       "      <td>1.153539</td>\n",
       "    </tr>\n",
       "  </tbody>\n",
       "</table>\n",
       "</div>"
      ],
      "text/plain": [
       "                        universe_id universe_training_year  \\\n",
       "0  3690b925a524f06c1662f4d55f45b058                2010_14   \n",
       "\n",
       "  universe_training_size universe_scale universe_model  \\\n",
       "0                     5k   do-not-scale             rf   \n",
       "\n",
       "  universe_exclude_features universe_exclude_subgroups  q_hat  coverage  \\\n",
       "0           nationality-sex            drop-non-german   0.67  0.914859   \n",
       "\n",
       "   avg_size  \n",
       "0  1.153539  "
      ]
     },
     "execution_count": 61,
     "metadata": {},
     "output_type": "execute_result"
    }
   ],
   "source": [
    "cp_metrics_df"
   ]
  },
  {
   "cell_type": "code",
   "execution_count": 62,
   "id": "b7fbde55-a0a1-47e4-9af6-fe4a17fa8c61",
   "metadata": {
    "execution": {
     "iopub.execute_input": "2025-07-30T21:18:11.991229Z",
     "iopub.status.busy": "2025-07-30T21:18:11.990800Z",
     "iopub.status.idle": "2025-07-30T21:18:11.998022Z",
     "shell.execute_reply": "2025-07-30T21:18:11.997070Z"
    },
    "papermill": {
     "duration": 0.023124,
     "end_time": "2025-07-30T21:18:11.999745",
     "exception": false,
     "start_time": "2025-07-30T21:18:11.976621",
     "status": "completed"
    },
    "tags": []
   },
   "outputs": [],
   "source": [
    "# Conditional Coverage & looking at subgroups"
   ]
  },
  {
   "cell_type": "code",
   "execution_count": 63,
   "id": "027ae886-68dd-4141-96c7-805a5450e1ef",
   "metadata": {
    "execution": {
     "iopub.execute_input": "2025-07-30T21:18:12.058039Z",
     "iopub.status.busy": "2025-07-30T21:18:12.057577Z",
     "iopub.status.idle": "2025-07-30T21:18:12.337039Z",
     "shell.execute_reply": "2025-07-30T21:18:12.336083Z"
    },
    "papermill": {
     "duration": 0.308256,
     "end_time": "2025-07-30T21:18:12.338849",
     "exception": false,
     "start_time": "2025-07-30T21:18:12.030593",
     "status": "completed"
    },
    "tags": []
   },
   "outputs": [],
   "source": [
    "from fairness_multiverse.conformal import build_cp_groups\n",
    "\n",
    "cp_groups_df = build_cp_groups(pred_sets, y_true, X_test.index, org_test)\n",
    "#needs universe_id and setting"
   ]
  },
  {
   "cell_type": "code",
   "execution_count": 64,
   "id": "01d5802c-663a-4d1f-9d69-e036faaffbf7",
   "metadata": {
    "execution": {
     "iopub.execute_input": "2025-07-30T21:18:12.412832Z",
     "iopub.status.busy": "2025-07-30T21:18:12.412443Z",
     "iopub.status.idle": "2025-07-30T21:18:12.417569Z",
     "shell.execute_reply": "2025-07-30T21:18:12.416576Z"
    },
    "papermill": {
     "duration": 0.033225,
     "end_time": "2025-07-30T21:18:12.419160",
     "exception": false,
     "start_time": "2025-07-30T21:18:12.385935",
     "status": "completed"
    },
    "tags": []
   },
   "outputs": [],
   "source": [
    "#delete\n",
    "#cp_groups_df"
   ]
  },
  {
   "cell_type": "code",
   "execution_count": 65,
   "id": "fa424af1-d1eb-443d-b717-2d279ada8408",
   "metadata": {
    "execution": {
     "iopub.execute_input": "2025-07-30T21:18:12.490016Z",
     "iopub.status.busy": "2025-07-30T21:18:12.489537Z",
     "iopub.status.idle": "2025-07-30T21:18:12.495332Z",
     "shell.execute_reply": "2025-07-30T21:18:12.494273Z"
    },
    "papermill": {
     "duration": 0.046389,
     "end_time": "2025-07-30T21:18:12.496991",
     "exception": false,
     "start_time": "2025-07-30T21:18:12.450602",
     "status": "completed"
    },
    "tags": []
   },
   "outputs": [],
   "source": [
    "#delete\n",
    "#percentage = (cp_groups_df['nongerman_female'] == 1).mean() * 100\n",
    "#print(percentage)\n"
   ]
  },
  {
   "cell_type": "code",
   "execution_count": 66,
   "id": "6cbdab96-b2b2-45af-ad54-d0516db2e28d",
   "metadata": {
    "execution": {
     "iopub.execute_input": "2025-07-30T21:18:12.569893Z",
     "iopub.status.busy": "2025-07-30T21:18:12.568966Z",
     "iopub.status.idle": "2025-07-30T21:18:14.219230Z",
     "shell.execute_reply": "2025-07-30T21:18:14.218269Z"
    },
    "papermill": {
     "duration": 1.683678,
     "end_time": "2025-07-30T21:18:14.221181",
     "exception": false,
     "start_time": "2025-07-30T21:18:12.537503",
     "status": "completed"
    },
    "tags": []
   },
   "outputs": [],
   "source": [
    "# Define covered = 1 if true_label is in the predicted set\n",
    "cp_groups_df['covered'] = cp_groups_df.apply(\n",
    "    lambda r: int(r['true_label'] in r['pred_set']),\n",
    "    axis=1\n",
    ")"
   ]
  },
  {
   "cell_type": "code",
   "execution_count": 67,
   "id": "338ff529-1a6b-4b87-a931-8e4788d52aad",
   "metadata": {
    "execution": {
     "iopub.execute_input": "2025-07-30T21:18:14.276470Z",
     "iopub.status.busy": "2025-07-30T21:18:14.275722Z",
     "iopub.status.idle": "2025-07-30T21:18:14.281250Z",
     "shell.execute_reply": "2025-07-30T21:18:14.280574Z"
    },
    "papermill": {
     "duration": 0.034538,
     "end_time": "2025-07-30T21:18:14.282560",
     "exception": false,
     "start_time": "2025-07-30T21:18:14.248022",
     "status": "completed"
    },
    "tags": []
   },
   "outputs": [],
   "source": [
    "#cp_groups_df"
   ]
  },
  {
   "cell_type": "code",
   "execution_count": 68,
   "id": "90032e27-66df-4540-9169-4e89cfbaa758",
   "metadata": {
    "execution": {
     "iopub.execute_input": "2025-07-30T21:18:14.311784Z",
     "iopub.status.busy": "2025-07-30T21:18:14.311112Z",
     "iopub.status.idle": "2025-07-30T21:18:14.320006Z",
     "shell.execute_reply": "2025-07-30T21:18:14.319278Z"
    },
    "papermill": {
     "duration": 0.023995,
     "end_time": "2025-07-30T21:18:14.321340",
     "exception": false,
     "start_time": "2025-07-30T21:18:14.297345",
     "status": "completed"
    },
    "tags": []
   },
   "outputs": [],
   "source": [
    "subgroups = ['frau1','nongerman','nongerman_male','nongerman_female']\n",
    "\n",
    "# Conditional coverage for subgroup==1\n",
    "cond_coverage = {\n",
    "    g: cp_groups_df.loc[cp_groups_df[g]==1, 'covered'].mean()\n",
    "    for g in subgroups\n",
    "}"
   ]
  },
  {
   "cell_type": "code",
   "execution_count": 69,
   "id": "1e348fb1-b9c3-45bc-ba23-f016827a7e0d",
   "metadata": {
    "execution": {
     "iopub.execute_input": "2025-07-30T21:18:14.349019Z",
     "iopub.status.busy": "2025-07-30T21:18:14.348346Z",
     "iopub.status.idle": "2025-07-30T21:18:14.354685Z",
     "shell.execute_reply": "2025-07-30T21:18:14.353756Z"
    },
    "papermill": {
     "duration": 0.021425,
     "end_time": "2025-07-30T21:18:14.356154",
     "exception": false,
     "start_time": "2025-07-30T21:18:14.334729",
     "status": "completed"
    },
    "tags": []
   },
   "outputs": [
    {
     "data": {
      "text/plain": [
       "{'frau1': 0.912144493867098,\n",
       " 'nongerman': 0.9065289395385393,\n",
       " 'nongerman_male': 0.9216427992434477,\n",
       " 'nongerman_female': 0.8815201192250373}"
      ]
     },
     "execution_count": 69,
     "metadata": {},
     "output_type": "execute_result"
    }
   ],
   "source": [
    "cond_coverage"
   ]
  },
  {
   "cell_type": "code",
   "execution_count": 70,
   "id": "f5093324-c3dd-4d63-bc4c-8d945e5c8bbb",
   "metadata": {
    "execution": {
     "iopub.execute_input": "2025-07-30T21:18:14.410034Z",
     "iopub.status.busy": "2025-07-30T21:18:14.409486Z",
     "iopub.status.idle": "2025-07-30T21:18:14.415938Z",
     "shell.execute_reply": "2025-07-30T21:18:14.415055Z"
    },
    "papermill": {
     "duration": 0.035187,
     "end_time": "2025-07-30T21:18:14.417664",
     "exception": false,
     "start_time": "2025-07-30T21:18:14.382477",
     "status": "completed"
    },
    "tags": []
   },
   "outputs": [],
   "source": [
    "for subgroup, cov in cond_coverage.items():\n",
    "    cp_metrics_df[f\"cov_{subgroup}\"] = cov"
   ]
  },
  {
   "cell_type": "code",
   "execution_count": 71,
   "id": "6e872e10-dbe5-49e8-b554-5030c98ff75d",
   "metadata": {
    "execution": {
     "iopub.execute_input": "2025-07-30T21:18:14.472693Z",
     "iopub.status.busy": "2025-07-30T21:18:14.472227Z",
     "iopub.status.idle": "2025-07-30T21:18:14.489927Z",
     "shell.execute_reply": "2025-07-30T21:18:14.489019Z"
    },
    "papermill": {
     "duration": 0.047181,
     "end_time": "2025-07-30T21:18:14.491674",
     "exception": false,
     "start_time": "2025-07-30T21:18:14.444493",
     "status": "completed"
    },
    "tags": []
   },
   "outputs": [
    {
     "data": {
      "text/html": [
       "<div>\n",
       "<style scoped>\n",
       "    .dataframe tbody tr th:only-of-type {\n",
       "        vertical-align: middle;\n",
       "    }\n",
       "\n",
       "    .dataframe tbody tr th {\n",
       "        vertical-align: top;\n",
       "    }\n",
       "\n",
       "    .dataframe thead th {\n",
       "        text-align: right;\n",
       "    }\n",
       "</style>\n",
       "<table border=\"1\" class=\"dataframe\">\n",
       "  <thead>\n",
       "    <tr style=\"text-align: right;\">\n",
       "      <th></th>\n",
       "      <th>universe_id</th>\n",
       "      <th>universe_training_year</th>\n",
       "      <th>universe_training_size</th>\n",
       "      <th>universe_scale</th>\n",
       "      <th>universe_model</th>\n",
       "      <th>universe_exclude_features</th>\n",
       "      <th>universe_exclude_subgroups</th>\n",
       "      <th>q_hat</th>\n",
       "      <th>coverage</th>\n",
       "      <th>avg_size</th>\n",
       "      <th>cov_frau1</th>\n",
       "      <th>cov_nongerman</th>\n",
       "      <th>cov_nongerman_male</th>\n",
       "      <th>cov_nongerman_female</th>\n",
       "    </tr>\n",
       "  </thead>\n",
       "  <tbody>\n",
       "    <tr>\n",
       "      <th>0</th>\n",
       "      <td>3690b925a524f06c1662f4d55f45b058</td>\n",
       "      <td>2010_14</td>\n",
       "      <td>5k</td>\n",
       "      <td>do-not-scale</td>\n",
       "      <td>rf</td>\n",
       "      <td>nationality-sex</td>\n",
       "      <td>drop-non-german</td>\n",
       "      <td>0.67</td>\n",
       "      <td>0.914859</td>\n",
       "      <td>1.153539</td>\n",
       "      <td>0.912144</td>\n",
       "      <td>0.906529</td>\n",
       "      <td>0.921643</td>\n",
       "      <td>0.88152</td>\n",
       "    </tr>\n",
       "  </tbody>\n",
       "</table>\n",
       "</div>"
      ],
      "text/plain": [
       "                        universe_id universe_training_year  \\\n",
       "0  3690b925a524f06c1662f4d55f45b058                2010_14   \n",
       "\n",
       "  universe_training_size universe_scale universe_model  \\\n",
       "0                     5k   do-not-scale             rf   \n",
       "\n",
       "  universe_exclude_features universe_exclude_subgroups  q_hat  coverage  \\\n",
       "0           nationality-sex            drop-non-german   0.67  0.914859   \n",
       "\n",
       "   avg_size  cov_frau1  cov_nongerman  cov_nongerman_male  \\\n",
       "0  1.153539   0.912144       0.906529            0.921643   \n",
       "\n",
       "   cov_nongerman_female  \n",
       "0               0.88152  "
      ]
     },
     "execution_count": 71,
     "metadata": {},
     "output_type": "execute_result"
    }
   ],
   "source": [
    "cp_metrics_df"
   ]
  },
  {
   "cell_type": "markdown",
   "id": "33774451",
   "metadata": {
    "papermill": {
     "duration": 0.027537,
     "end_time": "2025-07-30T21:18:14.547048",
     "exception": false,
     "start_time": "2025-07-30T21:18:14.519511",
     "status": "completed"
    },
    "tags": []
   },
   "source": [
    "# (Fairness) Metrics"
   ]
  },
  {
   "cell_type": "code",
   "execution_count": 72,
   "id": "debc5d62",
   "metadata": {
    "execution": {
     "iopub.execute_input": "2025-07-30T21:18:14.603496Z",
     "iopub.status.busy": "2025-07-30T21:18:14.602837Z",
     "iopub.status.idle": "2025-07-30T21:18:14.624555Z",
     "shell.execute_reply": "2025-07-30T21:18:14.623605Z"
    },
    "papermill": {
     "duration": 0.052834,
     "end_time": "2025-07-30T21:18:14.626431",
     "exception": false,
     "start_time": "2025-07-30T21:18:14.573597",
     "status": "completed"
    },
    "tags": []
   },
   "outputs": [],
   "source": [
    "# do I need to include maxdeutsch1.missing?\n",
    "\n",
    "import numpy as np\n",
    "\n",
    "colname_to_bin = \"maxdeutsch1\"\n",
    "majority_value = org_train[colname_to_bin].mode()[0]\n",
    "\n",
    "org_test[\"majmin\"] = np.where(org_test[colname_to_bin] == majority_value, \"majority\", \"minority\")"
   ]
  },
  {
   "cell_type": "code",
   "execution_count": 73,
   "id": "06a50de5",
   "metadata": {
    "execution": {
     "iopub.execute_input": "2025-07-30T21:18:14.669188Z",
     "iopub.status.busy": "2025-07-30T21:18:14.668799Z",
     "iopub.status.idle": "2025-07-30T21:18:17.197674Z",
     "shell.execute_reply": "2025-07-30T21:18:17.196938Z"
    },
    "papermill": {
     "duration": 2.546887,
     "end_time": "2025-07-30T21:18:17.199070",
     "exception": false,
     "start_time": "2025-07-30T21:18:14.652183",
     "status": "completed"
    },
    "tags": []
   },
   "outputs": [],
   "source": [
    "example_universe = universe.copy()\n",
    "example_universe[\"cutoff\"] = example_universe[\"cutoff\"][0]\n",
    "example_universe[\"eval_fairness_grouping\"] = example_universe[\"eval_fairness_grouping\"][0]\n",
    "fairness_dict, metric_frame = universe_analysis.compute_metrics(\n",
    "    example_universe,\n",
    "    y_pred_prob=probs_test,\n",
    "    y_test=y_true,\n",
    "    org_test=org_test,\n",
    ")"
   ]
  },
  {
   "cell_type": "markdown",
   "id": "f95d4e02",
   "metadata": {
    "papermill": {
     "duration": 0.014576,
     "end_time": "2025-07-30T21:18:17.228376",
     "exception": false,
     "start_time": "2025-07-30T21:18:17.213800",
     "status": "completed"
    },
    "tags": []
   },
   "source": [
    "# Overall"
   ]
  },
  {
   "cell_type": "markdown",
   "id": "bdee4871",
   "metadata": {
    "papermill": {
     "duration": 0.013237,
     "end_time": "2025-07-30T21:18:17.255140",
     "exception": false,
     "start_time": "2025-07-30T21:18:17.241903",
     "status": "completed"
    },
    "tags": []
   },
   "source": [
    "Fairness\n",
    "Main fairness target: Equalized Odds. Seems to be a better fit than equal opportunity, since we're not only interested in Y = 1. Seems to be a better fit than demographic parity, since we also care about accuracy, not just equal distribution of preds.\n",
    "\n",
    "Pick column for computation of fairness metrics\n",
    "\n",
    "Performance\n",
    "Overall performance measures, most interesting in relation to the measures split by group below"
   ]
  },
  {
   "cell_type": "code",
   "execution_count": 74,
   "id": "c4e067c6",
   "metadata": {
    "execution": {
     "iopub.execute_input": "2025-07-30T21:18:17.283214Z",
     "iopub.status.busy": "2025-07-30T21:18:17.282823Z",
     "iopub.status.idle": "2025-07-30T21:18:17.290000Z",
     "shell.execute_reply": "2025-07-30T21:18:17.289332Z"
    },
    "papermill": {
     "duration": 0.022914,
     "end_time": "2025-07-30T21:18:17.291435",
     "exception": false,
     "start_time": "2025-07-30T21:18:17.268521",
     "status": "completed"
    },
    "tags": []
   },
   "outputs": [
    {
     "data": {
      "text/plain": [
       "accuracy                   0.196544\n",
       "balanced accuracy          0.533745\n",
       "f1                         0.239700\n",
       "precision                  0.136408\n",
       "false positive rate        0.919823\n",
       "false negative rate        0.012687\n",
       "selection rate             0.928481\n",
       "count                  89710.000000\n",
       "dtype: float64"
      ]
     },
     "execution_count": 74,
     "metadata": {},
     "output_type": "execute_result"
    }
   ],
   "source": [
    "metric_frame.overall"
   ]
  },
  {
   "cell_type": "markdown",
   "id": "e968fe9d",
   "metadata": {
    "papermill": {
     "duration": 0.024185,
     "end_time": "2025-07-30T21:18:17.340103",
     "exception": false,
     "start_time": "2025-07-30T21:18:17.315918",
     "status": "completed"
    },
    "tags": []
   },
   "source": [
    "By Group"
   ]
  },
  {
   "cell_type": "code",
   "execution_count": 75,
   "id": "ec325bce",
   "metadata": {
    "execution": {
     "iopub.execute_input": "2025-07-30T21:18:17.391663Z",
     "iopub.status.busy": "2025-07-30T21:18:17.390874Z",
     "iopub.status.idle": "2025-07-30T21:18:17.405915Z",
     "shell.execute_reply": "2025-07-30T21:18:17.405168Z"
    },
    "papermill": {
     "duration": 0.04308,
     "end_time": "2025-07-30T21:18:17.407355",
     "exception": false,
     "start_time": "2025-07-30T21:18:17.364275",
     "status": "completed"
    },
    "tags": []
   },
   "outputs": [
    {
     "data": {
      "text/html": [
       "<div>\n",
       "<style scoped>\n",
       "    .dataframe tbody tr th:only-of-type {\n",
       "        vertical-align: middle;\n",
       "    }\n",
       "\n",
       "    .dataframe tbody tr th {\n",
       "        vertical-align: top;\n",
       "    }\n",
       "\n",
       "    .dataframe thead th {\n",
       "        text-align: right;\n",
       "    }\n",
       "</style>\n",
       "<table border=\"1\" class=\"dataframe\">\n",
       "  <thead>\n",
       "    <tr style=\"text-align: right;\">\n",
       "      <th></th>\n",
       "      <th>accuracy</th>\n",
       "      <th>balanced accuracy</th>\n",
       "      <th>f1</th>\n",
       "      <th>precision</th>\n",
       "      <th>false positive rate</th>\n",
       "      <th>false negative rate</th>\n",
       "      <th>selection rate</th>\n",
       "      <th>count</th>\n",
       "    </tr>\n",
       "    <tr>\n",
       "      <th>majmin</th>\n",
       "      <th></th>\n",
       "      <th></th>\n",
       "      <th></th>\n",
       "      <th></th>\n",
       "      <th></th>\n",
       "      <th></th>\n",
       "      <th></th>\n",
       "      <th></th>\n",
       "    </tr>\n",
       "  </thead>\n",
       "  <tbody>\n",
       "    <tr>\n",
       "      <th>majority</th>\n",
       "      <td>0.198337</td>\n",
       "      <td>0.534754</td>\n",
       "      <td>0.246436</td>\n",
       "      <td>0.140694</td>\n",
       "      <td>0.922505</td>\n",
       "      <td>0.007987</td>\n",
       "      <td>0.931690</td>\n",
       "      <td>69170.0</td>\n",
       "    </tr>\n",
       "    <tr>\n",
       "      <th>minority</th>\n",
       "      <td>0.190506</td>\n",
       "      <td>0.529105</td>\n",
       "      <td>0.216336</td>\n",
       "      <td>0.121757</td>\n",
       "      <td>0.910962</td>\n",
       "      <td>0.030828</td>\n",
       "      <td>0.917673</td>\n",
       "      <td>20540.0</td>\n",
       "    </tr>\n",
       "  </tbody>\n",
       "</table>\n",
       "</div>"
      ],
      "text/plain": [
       "          accuracy  balanced accuracy        f1  precision  \\\n",
       "majmin                                                       \n",
       "majority  0.198337           0.534754  0.246436   0.140694   \n",
       "minority  0.190506           0.529105  0.216336   0.121757   \n",
       "\n",
       "          false positive rate  false negative rate  selection rate    count  \n",
       "majmin                                                                       \n",
       "majority             0.922505             0.007987        0.931690  69170.0  \n",
       "minority             0.910962             0.030828        0.917673  20540.0  "
      ]
     },
     "execution_count": 75,
     "metadata": {},
     "output_type": "execute_result"
    }
   ],
   "source": [
    "metric_frame.by_group"
   ]
  },
  {
   "cell_type": "code",
   "execution_count": 76,
   "id": "a9ddbe63",
   "metadata": {
    "execution": {
     "iopub.execute_input": "2025-07-30T21:18:17.467144Z",
     "iopub.status.busy": "2025-07-30T21:18:17.466677Z",
     "iopub.status.idle": "2025-07-30T21:18:19.874111Z",
     "shell.execute_reply": "2025-07-30T21:18:19.873171Z"
    },
    "papermill": {
     "duration": 2.438683,
     "end_time": "2025-07-30T21:18:19.875738",
     "exception": false,
     "start_time": "2025-07-30T21:18:17.437055",
     "status": "completed"
    },
    "tags": []
   },
   "outputs": [
    {
     "data": {
      "text/plain": [
       "array([[<Axes: title={'center': 'accuracy'}, xlabel='majmin'>,\n",
       "        <Axes: title={'center': 'balanced accuracy'}, xlabel='majmin'>,\n",
       "        <Axes: title={'center': 'f1'}, xlabel='majmin'>],\n",
       "       [<Axes: title={'center': 'precision'}, xlabel='majmin'>,\n",
       "        <Axes: title={'center': 'false positive rate'}, xlabel='majmin'>,\n",
       "        <Axes: title={'center': 'false negative rate'}, xlabel='majmin'>],\n",
       "       [<Axes: title={'center': 'selection rate'}, xlabel='majmin'>,\n",
       "        <Axes: title={'center': 'count'}, xlabel='majmin'>,\n",
       "        <Axes: xlabel='majmin'>]], dtype=object)"
      ]
     },
     "execution_count": 76,
     "metadata": {},
     "output_type": "execute_result"
    },
    {
     "data": {
      "image/png": "[encoded data removed]",
      "text/plain": [
       "<Figure size 1200x800 with 9 Axes>"
      ]
     },
     "metadata": {},
     "output_type": "display_data"
    }
   ],
   "source": [
    "# In a graphic\n",
    "metric_frame.by_group.plot.bar(\n",
    "    subplots=True,\n",
    "    layout=[3, 3],\n",
    "    legend=False,\n",
    "    figsize=[12, 8],\n",
    "    title=\"Show all metrics\",\n",
    ")"
   ]
  },
  {
   "cell_type": "markdown",
   "id": "f57a0bac",
   "metadata": {
    "papermill": {
     "duration": 0.027713,
     "end_time": "2025-07-30T21:18:19.933321",
     "exception": false,
     "start_time": "2025-07-30T21:18:19.905608",
     "status": "completed"
    },
    "tags": []
   },
   "source": [
    "# Final Output"
   ]
  },
  {
   "cell_type": "code",
   "execution_count": 77,
   "id": "96d280a3",
   "metadata": {
    "execution": {
     "iopub.execute_input": "2025-07-30T21:18:19.991061Z",
     "iopub.status.busy": "2025-07-30T21:18:19.990029Z",
     "iopub.status.idle": "2025-07-30T21:18:19.997909Z",
     "shell.execute_reply": "2025-07-30T21:18:19.997071Z"
    },
    "papermill": {
     "duration": 0.038384,
     "end_time": "2025-07-30T21:18:19.999287",
     "exception": false,
     "start_time": "2025-07-30T21:18:19.960903",
     "status": "completed"
    },
    "tags": []
   },
   "outputs": [
    {
     "data": {
      "text/plain": [
       "4"
      ]
     },
     "execution_count": 77,
     "metadata": {},
     "output_type": "execute_result"
    }
   ],
   "source": [
    "sub_universes = universe_analysis.generate_sub_universes()\n",
    "len(sub_universes)"
   ]
  },
  {
   "cell_type": "code",
   "execution_count": 78,
   "id": "92adf7ba",
   "metadata": {
    "execution": {
     "iopub.execute_input": "2025-07-30T21:18:20.056442Z",
     "iopub.status.busy": "2025-07-30T21:18:20.055746Z",
     "iopub.status.idle": "2025-07-30T21:18:20.061680Z",
     "shell.execute_reply": "2025-07-30T21:18:20.060822Z"
    },
    "papermill": {
     "duration": 0.036069,
     "end_time": "2025-07-30T21:18:20.063201",
     "exception": false,
     "start_time": "2025-07-30T21:18:20.027132",
     "status": "completed"
    },
    "tags": []
   },
   "outputs": [],
   "source": [
    "def filter_sub_universe_data(sub_universe, org_test):\n",
    "    # Keep all rows — no filtering\n",
    "    keep_rows_mask = np.ones(org_test.shape[0], dtype=bool)\n",
    "\n",
    "    print(f\"[INFO] Keeping all rows: {keep_rows_mask.sum()} rows retained.\")\n",
    "    return keep_rows_mask"
   ]
  },
  {
   "cell_type": "code",
   "execution_count": 79,
   "id": "4a759155",
   "metadata": {
    "execution": {
     "iopub.execute_input": "2025-07-30T21:18:20.120339Z",
     "iopub.status.busy": "2025-07-30T21:18:20.119281Z",
     "iopub.status.idle": "2025-07-30T21:18:28.383673Z",
     "shell.execute_reply": "2025-07-30T21:18:28.382845Z"
    },
    "papermill": {
     "duration": 8.294238,
     "end_time": "2025-07-30T21:18:28.384995",
     "exception": false,
     "start_time": "2025-07-30T21:18:20.090757",
     "status": "completed"
    },
    "tags": []
   },
   "outputs": [
    {
     "name": "stdout",
     "output_type": "stream",
     "text": [
      "Stopping execution_time clock.\n",
      "[INFO] Keeping all rows: 89710 rows retained.\n"
     ]
    },
    {
     "name": "stdout",
     "output_type": "stream",
     "text": [
      "[INFO] Keeping all rows: 89710 rows retained.\n"
     ]
    },
    {
     "name": "stdout",
     "output_type": "stream",
     "text": [
      "[INFO] Keeping all rows: 89710 rows retained.\n"
     ]
    },
    {
     "name": "stdout",
     "output_type": "stream",
     "text": [
      "[INFO] Keeping all rows: 89710 rows retained.\n"
     ]
    },
    {
     "data": {
      "text/html": [
       "<div>\n",
       "<style scoped>\n",
       "    .dataframe tbody tr th:only-of-type {\n",
       "        vertical-align: middle;\n",
       "    }\n",
       "\n",
       "    .dataframe tbody tr th {\n",
       "        vertical-align: top;\n",
       "    }\n",
       "\n",
       "    .dataframe thead th {\n",
       "        text-align: right;\n",
       "    }\n",
       "</style>\n",
       "<table border=\"1\" class=\"dataframe\">\n",
       "  <thead>\n",
       "    <tr style=\"text-align: right;\">\n",
       "      <th></th>\n",
       "      <th>run_no</th>\n",
       "      <th>universe_id</th>\n",
       "      <th>universe_settings</th>\n",
       "      <th>execution_time</th>\n",
       "      <th>test_size_n</th>\n",
       "      <th>test_size_frac</th>\n",
       "      <th>fair_main_equalized_odds_difference</th>\n",
       "      <th>fair_main_equalized_odds_ratio</th>\n",
       "      <th>fair_main_demographic_parity_difference</th>\n",
       "      <th>fair_main_demographic_parity_ratio</th>\n",
       "      <th>...</th>\n",
       "      <th>perf_grp_precision_0</th>\n",
       "      <th>perf_grp_precision_1</th>\n",
       "      <th>perf_grp_false positive rate_0</th>\n",
       "      <th>perf_grp_false positive rate_1</th>\n",
       "      <th>perf_grp_false negative rate_0</th>\n",
       "      <th>perf_grp_false negative rate_1</th>\n",
       "      <th>perf_grp_selection rate_0</th>\n",
       "      <th>perf_grp_selection rate_1</th>\n",
       "      <th>perf_grp_count_0</th>\n",
       "      <th>perf_grp_count_1</th>\n",
       "    </tr>\n",
       "  </thead>\n",
       "  <tbody>\n",
       "    <tr>\n",
       "      <th>0</th>\n",
       "      <td>14</td>\n",
       "      <td>3690b925a524f06c1662f4d55f45b058</td>\n",
       "      <td>{\"cutoff\": \"quantile_0.1\", \"eval_fairness_grou...</td>\n",
       "      <td>33.847592</td>\n",
       "      <td>89710</td>\n",
       "      <td>1.0</td>\n",
       "      <td>0.022841</td>\n",
       "      <td>0.976975</td>\n",
       "      <td>0.014017</td>\n",
       "      <td>0.984955</td>\n",
       "      <td>...</td>\n",
       "      <td>NaN</td>\n",
       "      <td>NaN</td>\n",
       "      <td>NaN</td>\n",
       "      <td>NaN</td>\n",
       "      <td>NaN</td>\n",
       "      <td>NaN</td>\n",
       "      <td>NaN</td>\n",
       "      <td>NaN</td>\n",
       "      <td>NaN</td>\n",
       "      <td>NaN</td>\n",
       "    </tr>\n",
       "    <tr>\n",
       "      <th>0</th>\n",
       "      <td>14</td>\n",
       "      <td>3690b925a524f06c1662f4d55f45b058</td>\n",
       "      <td>{\"cutoff\": \"quantile_0.1\", \"eval_fairness_grou...</td>\n",
       "      <td>33.847592</td>\n",
       "      <td>89710</td>\n",
       "      <td>1.0</td>\n",
       "      <td>0.022841</td>\n",
       "      <td>0.976975</td>\n",
       "      <td>0.014017</td>\n",
       "      <td>0.984955</td>\n",
       "      <td>...</td>\n",
       "      <td>0.121757</td>\n",
       "      <td>0.140694</td>\n",
       "      <td>0.910962</td>\n",
       "      <td>0.922505</td>\n",
       "      <td>0.030828</td>\n",
       "      <td>0.007987</td>\n",
       "      <td>0.917673</td>\n",
       "      <td>0.93169</td>\n",
       "      <td>20540.0</td>\n",
       "      <td>69170.0</td>\n",
       "    </tr>\n",
       "    <tr>\n",
       "      <th>0</th>\n",
       "      <td>14</td>\n",
       "      <td>3690b925a524f06c1662f4d55f45b058</td>\n",
       "      <td>{\"cutoff\": \"quantile_0.25\", \"eval_fairness_gro...</td>\n",
       "      <td>33.847592</td>\n",
       "      <td>89710</td>\n",
       "      <td>1.0</td>\n",
       "      <td>0.109640</td>\n",
       "      <td>0.885356</td>\n",
       "      <td>0.041150</td>\n",
       "      <td>0.947594</td>\n",
       "      <td>...</td>\n",
       "      <td>NaN</td>\n",
       "      <td>NaN</td>\n",
       "      <td>NaN</td>\n",
       "      <td>NaN</td>\n",
       "      <td>NaN</td>\n",
       "      <td>NaN</td>\n",
       "      <td>NaN</td>\n",
       "      <td>NaN</td>\n",
       "      <td>NaN</td>\n",
       "      <td>NaN</td>\n",
       "    </tr>\n",
       "    <tr>\n",
       "      <th>0</th>\n",
       "      <td>14</td>\n",
       "      <td>3690b925a524f06c1662f4d55f45b058</td>\n",
       "      <td>{\"cutoff\": \"quantile_0.25\", \"eval_fairness_gro...</td>\n",
       "      <td>33.847592</td>\n",
       "      <td>89710</td>\n",
       "      <td>1.0</td>\n",
       "      <td>0.109640</td>\n",
       "      <td>0.885356</td>\n",
       "      <td>0.041150</td>\n",
       "      <td>0.947594</td>\n",
       "      <td>...</td>\n",
       "      <td>0.131192</td>\n",
       "      <td>0.160938</td>\n",
       "      <td>0.730685</td>\n",
       "      <td>0.759154</td>\n",
       "      <td>0.153294</td>\n",
       "      <td>0.043654</td>\n",
       "      <td>0.744060</td>\n",
       "      <td>0.78521</td>\n",
       "      <td>20540.0</td>\n",
       "      <td>69170.0</td>\n",
       "    </tr>\n",
       "  </tbody>\n",
       "</table>\n",
       "<p>4 rows × 50 columns</p>\n",
       "</div>"
      ],
      "text/plain": [
       "  run_no                       universe_id  \\\n",
       "0     14  3690b925a524f06c1662f4d55f45b058   \n",
       "0     14  3690b925a524f06c1662f4d55f45b058   \n",
       "0     14  3690b925a524f06c1662f4d55f45b058   \n",
       "0     14  3690b925a524f06c1662f4d55f45b058   \n",
       "\n",
       "                                   universe_settings  execution_time  \\\n",
       "0  {\"cutoff\": \"quantile_0.1\", \"eval_fairness_grou...       33.847592   \n",
       "0  {\"cutoff\": \"quantile_0.1\", \"eval_fairness_grou...       33.847592   \n",
       "0  {\"cutoff\": \"quantile_0.25\", \"eval_fairness_gro...       33.847592   \n",
       "0  {\"cutoff\": \"quantile_0.25\", \"eval_fairness_gro...       33.847592   \n",
       "\n",
       "   test_size_n  test_size_frac  fair_main_equalized_odds_difference  \\\n",
       "0        89710             1.0                             0.022841   \n",
       "0        89710             1.0                             0.022841   \n",
       "0        89710             1.0                             0.109640   \n",
       "0        89710             1.0                             0.109640   \n",
       "\n",
       "   fair_main_equalized_odds_ratio  fair_main_demographic_parity_difference  \\\n",
       "0                        0.976975                                 0.014017   \n",
       "0                        0.976975                                 0.014017   \n",
       "0                        0.885356                                 0.041150   \n",
       "0                        0.885356                                 0.041150   \n",
       "\n",
       "   fair_main_demographic_parity_ratio  ...  perf_grp_precision_0  \\\n",
       "0                            0.984955  ...                   NaN   \n",
       "0                            0.984955  ...              0.121757   \n",
       "0                            0.947594  ...                   NaN   \n",
       "0                            0.947594  ...              0.131192   \n",
       "\n",
       "   perf_grp_precision_1  perf_grp_false positive rate_0  \\\n",
       "0                   NaN                             NaN   \n",
       "0              0.140694                        0.910962   \n",
       "0                   NaN                             NaN   \n",
       "0              0.160938                        0.730685   \n",
       "\n",
       "   perf_grp_false positive rate_1  perf_grp_false negative rate_0  \\\n",
       "0                             NaN                             NaN   \n",
       "0                        0.922505                        0.030828   \n",
       "0                             NaN                             NaN   \n",
       "0                        0.759154                        0.153294   \n",
       "\n",
       "   perf_grp_false negative rate_1  perf_grp_selection rate_0  \\\n",
       "0                             NaN                        NaN   \n",
       "0                        0.007987                   0.917673   \n",
       "0                             NaN                        NaN   \n",
       "0                        0.043654                   0.744060   \n",
       "\n",
       "   perf_grp_selection rate_1  perf_grp_count_0  perf_grp_count_1  \n",
       "0                        NaN               NaN               NaN  \n",
       "0                    0.93169           20540.0           69170.0  \n",
       "0                        NaN               NaN               NaN  \n",
       "0                    0.78521           20540.0           69170.0  \n",
       "\n",
       "[4 rows x 50 columns]"
      ]
     },
     "execution_count": 79,
     "metadata": {},
     "output_type": "execute_result"
    }
   ],
   "source": [
    "final_output = universe_analysis.generate_final_output(\n",
    "    y_pred_prob=probs_test,\n",
    "    y_test=y_true,\n",
    "    org_test=org_test,\n",
    "    filter_data=filter_sub_universe_data,\n",
    "    cp_metrics_df=cp_metrics_df,\n",
    "    save=True,\n",
    ")\n",
    "final_output"
   ]
  },
  {
   "cell_type": "code",
   "execution_count": null,
   "id": "721ff514-cb11-46f8-b6fc-50392f74b5cb",
   "metadata": {
    "papermill": {
     "duration": 0.016653,
     "end_time": "2025-07-30T21:18:28.421040",
     "exception": false,
     "start_time": "2025-07-30T21:18:28.404387",
     "status": "completed"
    },
    "tags": []
   },
   "outputs": [],
   "source": []
  }
 ],
 "metadata": {
  "celltoolbar": "Tags",
  "kernelspec": {
   "display_name": "Python (CMA Fairness)",
   "language": "python",
   "name": "cma_fair_env"
  },
  "language_info": {
   "codemirror_mode": {
    "name": "ipython",
    "version": 3
   },
   "file_extension": ".py",
   "mimetype": "text/x-python",
   "name": "python",
   "nbconvert_exporter": "python",
   "pygments_lexer": "ipython3",
   "version": "3.10.12"
  },
  "papermill": {
   "default_parameters": {},
   "duration": 47.293629,
   "end_time": "2025-07-30T21:18:29.154992",
   "environment_variables": {},
   "exception": null,
   "input_path": "universe_analysis.ipynb",
   "output_path": "output/runs/14/notebooks/m_14-3690b925a524f06c1662f4d55f45b058.ipynb",
   "parameters": {
    "output_dir": "output",
    "run_no": "14",
    "seed": "2023",
    "universe": "{\"cutoff\": [\"quantile_0.1\", \"quantile_0.25\"], \"eval_fairness_grouping\": [\"majority-minority\", \"nationality-all\"], \"exclude_features\": \"nationality-sex\", \"exclude_subgroups\": \"drop-non-german\", \"model\": \"rf\", \"scale\": \"do-not-scale\", \"training_size\": \"5k\", \"training_year\": \"2010_14\"}",
    "universe_id": "3690b925a524f06c1662f4d55f45b058"
   },
   "start_time": "2025-07-30T21:17:41.861363",
   "version": "2.6.0"
  }
 },
 "nbformat": 4,
 "nbformat_minor": 5
}