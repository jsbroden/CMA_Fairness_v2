{
 "cells": [
  {
   "cell_type": "code",
   "execution_count": 1,
   "id": "f159f837-637b-42ba-96b5-ec9a68c44524",
   "metadata": {
    "execution": {
     "iopub.execute_input": "2025-07-30T21:00:14.970576Z",
     "iopub.status.busy": "2025-07-30T21:00:14.970176Z",
     "iopub.status.idle": "2025-07-30T21:00:14.992398Z",
     "shell.execute_reply": "2025-07-30T21:00:14.990448Z"
    },
    "papermill": {
     "duration": 0.077736,
     "end_time": "2025-07-30T21:00:14.994159",
     "exception": false,
     "start_time": "2025-07-30T21:00:14.916423",
     "status": "completed"
    },
    "tags": []
   },
   "outputs": [
    {
     "name": "stdout",
     "output_type": "stream",
     "text": [
      "/dss/dsshome1/0C/ra93lal2/cma/CMA_Fairness_v2\n"
     ]
    },
    {
     "name": "stderr",
     "output_type": "stream",
     "text": [
      "/dss/dsshome1/0C/ra93lal2/.local/share/virtualenvs/CMA_Fairness_v2-3j10GkSs/lib/python3.10/site-packages/IPython/core/magics/osm.py:393: UserWarning: This is now an optional IPython functionality, using bookmarks requires you to install the `pickleshare` library.\n",
      "  bkms = self.shell.db.get('bookmarks', {})\n",
      "/dss/dsshome1/0C/ra93lal2/.local/share/virtualenvs/CMA_Fairness_v2-3j10GkSs/lib/python3.10/site-packages/IPython/core/magics/osm.py:417: UserWarning: This is now an optional IPython functionality, setting dhist requires you to install the `pickleshare` library.\n",
      "  self.shell.db['dhist'] = compress_dhist(dhist)[-100:]\n"
     ]
    }
   ],
   "source": [
    "%cd ~/cma/CMA_Fairness_v2"
   ]
  },
  {
   "cell_type": "markdown",
   "id": "de2603b9",
   "metadata": {
    "papermill": {
     "duration": 0.040975,
     "end_time": "2025-07-30T21:00:15.085872",
     "exception": false,
     "start_time": "2025-07-30T21:00:15.044897",
     "status": "completed"
    },
    "tags": []
   },
   "source": [
    "The following cell holds the definition of our parameters, these values can be overriden by rendering the with e.g. the following command:\n",
    "\n",
    "papermill -p alpha 0.2 -p ratio 0.3 universe_analysis.ipynb output/test_run.ipynb"
   ]
  },
  {
   "cell_type": "code",
   "execution_count": 2,
   "id": "a80968a0-40bb-4fa9-85ef-2d5eefb01975",
   "metadata": {
    "execution": {
     "iopub.execute_input": "2025-07-30T21:00:15.174955Z",
     "iopub.status.busy": "2025-07-30T21:00:15.174491Z",
     "iopub.status.idle": "2025-07-30T21:00:15.180451Z",
     "shell.execute_reply": "2025-07-30T21:00:15.179308Z"
    },
    "papermill": {
     "duration": 0.059212,
     "end_time": "2025-07-30T21:00:15.182220",
     "exception": false,
     "start_time": "2025-07-30T21:00:15.123008",
     "status": "completed"
    },
    "tags": []
   },
   "outputs": [
    {
     "name": "stdout",
     "output_type": "stream",
     "text": [
      "Current working directory: /dss/dsshome1/0C/ra93lal2/cma/CMA_Fairness_v2\n"
     ]
    }
   ],
   "source": [
    "import os\n",
    "print(\"Current working directory:\", os.getcwd())"
   ]
  },
  {
   "cell_type": "code",
   "execution_count": 3,
   "id": "2dce4c03",
   "metadata": {
    "execution": {
     "iopub.execute_input": "2025-07-30T21:00:15.235040Z",
     "iopub.status.busy": "2025-07-30T21:00:15.234550Z",
     "iopub.status.idle": "2025-07-30T21:00:15.241189Z",
     "shell.execute_reply": "2025-07-30T21:00:15.240120Z"
    },
    "papermill": {
     "duration": 0.030418,
     "end_time": "2025-07-30T21:00:15.242905",
     "exception": false,
     "start_time": "2025-07-30T21:00:15.212487",
     "status": "completed"
    },
    "tags": [
     "parameters"
    ]
   },
   "outputs": [],
   "source": [
    "run_no = 0\n",
    "universe_id = \"test\"\n",
    "universe = {\n",
    "    \"training_size\": \"25k\", # \"25k\", \"5k\", \"1k\"\n",
    "    \"training_year\": \"2014\", # \"2014\", \"2012_14\", \"2010_14\"\n",
    "    \"scale\": \"scale\", # \"scale\", \"do-not-scale\",\n",
    "    #\"stratify_split\": \"target\", # \"none\", \"target\", \"protected-attribute\", \"both\",\n",
    "    \"model\": \"elasticnet\", # \"logreg\", \"penalized_logreg\", \"rf\", \"gbm\", \"elasticnet\"\n",
    "    \"cutoff\": [\"quantile_0.15\", \"quantile_0.30\"],\n",
    "    \"exclude_features\": \"age\", # \"none\", \"nationality\", \"sex\", \"nationality-sex\", \"age\"\n",
    "    \"exclude_subgroups\": \"keep-all\", # \"keep-all\", \"drop-non-german\"\n",
    "    \"eval_fairness_grouping\": [\"majority-minority\", \"nationality-all\"]\n",
    "}\n",
    "\n",
    "output_dir=\"./output\"\n",
    "seed=0"
   ]
  },
  {
   "cell_type": "code",
   "execution_count": 4,
   "id": "6d01013e",
   "metadata": {
    "execution": {
     "iopub.execute_input": "2025-07-30T21:00:15.286379Z",
     "iopub.status.busy": "2025-07-30T21:00:15.285900Z",
     "iopub.status.idle": "2025-07-30T21:00:15.291915Z",
     "shell.execute_reply": "2025-07-30T21:00:15.290423Z"
    },
    "papermill": {
     "duration": 0.03026,
     "end_time": "2025-07-30T21:00:15.293600",
     "exception": false,
     "start_time": "2025-07-30T21:00:15.263340",
     "status": "completed"
    },
    "tags": [
     "injected-parameters"
    ]
   },
   "outputs": [],
   "source": [
    "# Parameters\n",
    "universe_id = \"879e5dc5a85f4f20f592797c92185d54\"\n",
    "run_no = \"14\"\n",
    "universe = \"{\\\"cutoff\\\": [\\\"quantile_0.1\\\", \\\"quantile_0.25\\\"], \\\"eval_fairness_grouping\\\": [\\\"majority-minority\\\", \\\"nationality-all\\\"], \\\"exclude_features\\\": \\\"none\\\", \\\"exclude_subgroups\\\": \\\"drop-non-german\\\", \\\"model\\\": \\\"gbm\\\", \\\"scale\\\": \\\"scale\\\", \\\"training_size\\\": \\\"5k\\\", \\\"training_year\\\": \\\"2012_14\\\"}\"\n",
    "output_dir = \"output\"\n",
    "seed = \"2023\"\n"
   ]
  },
  {
   "cell_type": "code",
   "execution_count": 5,
   "id": "1650acaf",
   "metadata": {
    "execution": {
     "iopub.execute_input": "2025-07-30T21:00:15.317676Z",
     "iopub.status.busy": "2025-07-30T21:00:15.317326Z",
     "iopub.status.idle": "2025-07-30T21:00:15.335574Z",
     "shell.execute_reply": "2025-07-30T21:00:15.334826Z"
    },
    "papermill": {
     "duration": 0.031141,
     "end_time": "2025-07-30T21:00:15.336894",
     "exception": false,
     "start_time": "2025-07-30T21:00:15.305753",
     "status": "completed"
    },
    "tags": []
   },
   "outputs": [],
   "source": [
    "import json\n",
    "# Parse universe into dict if it is passed as a string\n",
    "if isinstance(universe, str):\n",
    "    universe = json.loads(universe)"
   ]
  },
  {
   "cell_type": "code",
   "execution_count": 6,
   "id": "16620c48",
   "metadata": {
    "execution": {
     "iopub.execute_input": "2025-07-30T21:00:15.376113Z",
     "iopub.status.busy": "2025-07-30T21:00:15.375676Z",
     "iopub.status.idle": "2025-07-30T21:00:15.419047Z",
     "shell.execute_reply": "2025-07-30T21:00:15.418009Z"
    },
    "papermill": {
     "duration": 0.072619,
     "end_time": "2025-07-30T21:00:15.421431",
     "exception": false,
     "start_time": "2025-07-30T21:00:15.348812",
     "status": "completed"
    },
    "tags": []
   },
   "outputs": [],
   "source": [
    "# Auto-reload the custom package\n",
    "%load_ext autoreload\n",
    "%autoreload 1\n",
    "%aimport fairness_multiverse"
   ]
  },
  {
   "cell_type": "code",
   "execution_count": 7,
   "id": "01c5c9f3",
   "metadata": {
    "execution": {
     "iopub.execute_input": "2025-07-30T21:00:15.472098Z",
     "iopub.status.busy": "2025-07-30T21:00:15.471726Z",
     "iopub.status.idle": "2025-07-30T21:00:17.938837Z",
     "shell.execute_reply": "2025-07-30T21:00:17.937530Z"
    },
    "papermill": {
     "duration": 2.493596,
     "end_time": "2025-07-30T21:00:17.940976",
     "exception": false,
     "start_time": "2025-07-30T21:00:15.447380",
     "status": "completed"
    },
    "tags": []
   },
   "outputs": [],
   "source": [
    "from fairness_multiverse.universe import UniverseAnalysis\n",
    "\n",
    "universe_analysis = UniverseAnalysis(\n",
    "    run_no = run_no,\n",
    "    universe_id = universe_id,\n",
    "    universe = universe,\n",
    "    output_dir=output_dir,\n",
    ")"
   ]
  },
  {
   "cell_type": "code",
   "execution_count": 8,
   "id": "106241f5",
   "metadata": {
    "execution": {
     "iopub.execute_input": "2025-07-30T21:00:17.984891Z",
     "iopub.status.busy": "2025-07-30T21:00:17.984216Z",
     "iopub.status.idle": "2025-07-30T21:00:17.991192Z",
     "shell.execute_reply": "2025-07-30T21:00:17.990211Z"
    },
    "papermill": {
     "duration": 0.02994,
     "end_time": "2025-07-30T21:00:17.992957",
     "exception": false,
     "start_time": "2025-07-30T21:00:17.963017",
     "status": "completed"
    },
    "tags": []
   },
   "outputs": [
    {
     "name": "stdout",
     "output_type": "stream",
     "text": [
      "Using Seed: 2023\n"
     ]
    }
   ],
   "source": [
    "import numpy as np\n",
    "parsed_seed = int(seed)\n",
    "np.random.seed(parsed_seed)\n",
    "print(f\"Using Seed: {parsed_seed}\")"
   ]
  },
  {
   "cell_type": "markdown",
   "id": "e0ebdc57",
   "metadata": {
    "papermill": {
     "duration": 0.020219,
     "end_time": "2025-07-30T21:00:18.031151",
     "exception": false,
     "start_time": "2025-07-30T21:00:18.010932",
     "status": "completed"
    },
    "tags": []
   },
   "source": [
    "# Loading Data"
   ]
  },
  {
   "cell_type": "markdown",
   "id": "681925a3",
   "metadata": {
    "papermill": {
     "duration": 0.018499,
     "end_time": "2025-07-30T21:00:18.067923",
     "exception": false,
     "start_time": "2025-07-30T21:00:18.049424",
     "status": "completed"
    },
    "tags": []
   },
   "source": [
    "Load siab_train, siab_test, siab_calib and/or \n",
    "load siab_train_features, siab_train_labels"
   ]
  },
  {
   "cell_type": "code",
   "execution_count": 9,
   "id": "f0496b8a",
   "metadata": {
    "execution": {
     "iopub.execute_input": "2025-07-30T21:00:18.107017Z",
     "iopub.status.busy": "2025-07-30T21:00:18.106571Z",
     "iopub.status.idle": "2025-07-30T21:00:30.205362Z",
     "shell.execute_reply": "2025-07-30T21:00:30.204299Z"
    },
    "papermill": {
     "duration": 12.120393,
     "end_time": "2025-07-30T21:00:30.206751",
     "exception": false,
     "start_time": "2025-07-30T21:00:18.086358",
     "status": "completed"
    },
    "tags": []
   },
   "outputs": [
    {
     "name": "stdout",
     "output_type": "stream",
     "text": [
      "Loading SIAB data from cache: data/siab_cached.csv.gz\n"
     ]
    },
    {
     "name": "stdout",
     "output_type": "stream",
     "text": [
      "(643690, 164)\n"
     ]
    }
   ],
   "source": [
    "from pathlib import Path\n",
    "import pandas as pd\n",
    "\n",
    "# File paths\n",
    "raw_file = Path(\"data/raw/siab.csv\")\n",
    "cache_file = Path(\"data/siab_cached.csv.gz\")\n",
    "\n",
    "# Ensure cache directory exists\n",
    "cache_file.parent.mkdir(parents=True, exist_ok=True)\n",
    "\n",
    "# Load with simple caching\n",
    "if cache_file.exists():\n",
    "    print(f\"Loading SIAB data from cache: {cache_file}\")\n",
    "    siab = pd.read_csv(cache_file, compression='gzip')\n",
    "else:\n",
    "    print(f\"Cache not found. Reading raw SIAB data: {raw_file}\")\n",
    "    siab = pd.read_csv(raw_file)\n",
    "    siab.to_csv(cache_file, index=False, compression='gzip')\n",
    "    print(f\"Cached SIAB data to: {cache_file}\")\n",
    "\n",
    "# Now use `siab` DataFrame as needed\n",
    "print(siab.shape)"
   ]
  },
  {
   "cell_type": "code",
   "execution_count": 10,
   "id": "db0ca512-5f53-4dba-abdb-a2888bca41ba",
   "metadata": {
    "execution": {
     "iopub.execute_input": "2025-07-30T21:00:30.268015Z",
     "iopub.status.busy": "2025-07-30T21:00:30.267443Z",
     "iopub.status.idle": "2025-07-30T21:00:30.273081Z",
     "shell.execute_reply": "2025-07-30T21:00:30.272233Z"
    },
    "papermill": {
     "duration": 0.02947,
     "end_time": "2025-07-30T21:00:30.275367",
     "exception": false,
     "start_time": "2025-07-30T21:00:30.245897",
     "status": "completed"
    },
    "tags": []
   },
   "outputs": [],
   "source": [
    "#siab"
   ]
  },
  {
   "cell_type": "code",
   "execution_count": 11,
   "id": "a0edb063",
   "metadata": {
    "execution": {
     "iopub.execute_input": "2025-07-30T21:00:30.316396Z",
     "iopub.status.busy": "2025-07-30T21:00:30.315870Z",
     "iopub.status.idle": "2025-07-30T21:00:30.321326Z",
     "shell.execute_reply": "2025-07-30T21:00:30.320343Z"
    },
    "papermill": {
     "duration": 0.029176,
     "end_time": "2025-07-30T21:00:30.324564",
     "exception": false,
     "start_time": "2025-07-30T21:00:30.295388",
     "status": "completed"
    },
    "tags": []
   },
   "outputs": [],
   "source": [
    "#import pandas as pd\n",
    "#\n",
    "#X_train = pd.read_csv(\"./data/X_train.csv\")\n",
    "#y_train = pd.read_csv(\"./data/y_train.csv\")"
   ]
  },
  {
   "cell_type": "code",
   "execution_count": 12,
   "id": "63d08085",
   "metadata": {
    "execution": {
     "iopub.execute_input": "2025-07-30T21:00:30.385426Z",
     "iopub.status.busy": "2025-07-30T21:00:30.385040Z",
     "iopub.status.idle": "2025-07-30T21:00:30.390049Z",
     "shell.execute_reply": "2025-07-30T21:00:30.389011Z"
    },
    "papermill": {
     "duration": 0.045796,
     "end_time": "2025-07-30T21:00:30.393406",
     "exception": false,
     "start_time": "2025-07-30T21:00:30.347610",
     "status": "completed"
    },
    "tags": []
   },
   "outputs": [],
   "source": [
    "#X_test = pd.read_csv(\"./data/X_test.csv\")\n",
    "#y_true = pd.read_csv(\"./data/y_test.csv\")"
   ]
  },
  {
   "cell_type": "code",
   "execution_count": 13,
   "id": "98a8d0fa-1d3d-4ed8-bb2c-281470e24add",
   "metadata": {
    "execution": {
     "iopub.execute_input": "2025-07-30T21:00:30.446240Z",
     "iopub.status.busy": "2025-07-30T21:00:30.445849Z",
     "iopub.status.idle": "2025-07-30T21:00:30.450941Z",
     "shell.execute_reply": "2025-07-30T21:00:30.449925Z"
    },
    "papermill": {
     "duration": 0.042688,
     "end_time": "2025-07-30T21:00:30.458591",
     "exception": false,
     "start_time": "2025-07-30T21:00:30.415903",
     "status": "completed"
    },
    "tags": []
   },
   "outputs": [],
   "source": [
    "# Calibration data for conformal\n",
    "#X_calib = pd.read_csv(\"./data/X_calib.csv\")\n",
    "#y_calib = pd.read_csv(\"./data/y_calib.csv\")"
   ]
  },
  {
   "cell_type": "markdown",
   "id": "997051c5-15bd-4b69-9786-c3001a3ce484",
   "metadata": {
    "papermill": {
     "duration": 0.021571,
     "end_time": "2025-07-30T21:00:30.500841",
     "exception": false,
     "start_time": "2025-07-30T21:00:30.479270",
     "status": "completed"
    },
    "tags": []
   },
   "source": [
    "# Splitting Data and Setting Training Data Size"
   ]
  },
  {
   "cell_type": "code",
   "execution_count": 14,
   "id": "e993b61f-042d-41a6-8c81-f55681f86335",
   "metadata": {
    "execution": {
     "iopub.execute_input": "2025-07-30T21:00:30.541547Z",
     "iopub.status.busy": "2025-07-30T21:00:30.541153Z",
     "iopub.status.idle": "2025-07-30T21:00:30.554930Z",
     "shell.execute_reply": "2025-07-30T21:00:30.553777Z"
    },
    "papermill": {
     "duration": 0.035235,
     "end_time": "2025-07-30T21:00:30.556855",
     "exception": false,
     "start_time": "2025-07-30T21:00:30.521620",
     "status": "completed"
    },
    "tags": []
   },
   "outputs": [],
   "source": [
    "def sample_by_year_size(df,\n",
    "                        training_year: str,\n",
    "                        training_size: str,\n",
    "                        random_state: int = 42):\n",
    "    # --- parse training_year into a list of int years ---\n",
    "    if \"_\" in training_year:\n",
    "        start_str, end_str = training_year.split(\"_\", 1)\n",
    "        start = int(start_str)\n",
    "        end   = int(end_str) if len(end_str) == 4 else (int(end_str) + (start // 100)*100)\n",
    "        years = list(range(start, end + 1))\n",
    "    else:\n",
    "        years = [int(training_year)]\n",
    "\n",
    "    df = df[df[\"year\"].isin(years)].reset_index(drop=True)\n",
    "\n",
    "    # --- map training_size to total number of samples ---\n",
    "    total_map = {\"25k\": 25_000, \"5k\": 5_000, \"1k\": 1_000}\n",
    "    if training_size not in total_map:\n",
    "        return df  # e.g. \"all\"\n",
    "\n",
    "    total_samples = total_map[training_size]\n",
    "    n_years       = len(years)\n",
    "    base          = total_samples // n_years\n",
    "    remainder     = total_samples % n_years\n",
    "\n",
    "    # --- build a dict: year -> how many to sample ---\n",
    "    # give +1 to the first `remainder` years in ascending order\n",
    "    quotas = {\n",
    "        year: base + (1 if idx < remainder else 0)\n",
    "        for idx, year in enumerate(sorted(years))\n",
    "    }\n",
    "\n",
    "    # --- sample per‐year according to the quota dict ---\n",
    "    sampled = (\n",
    "        df\n",
    "        .groupby(\"year\", group_keys=False)\n",
    "        .apply(lambda grp: grp.sample(\n",
    "            n=min(len(grp), quotas[grp.name]),\n",
    "            random_state=random_state))\n",
    "        .reset_index(drop=True)\n",
    "    )\n",
    "\n",
    "    return sampled"
   ]
  },
  {
   "cell_type": "code",
   "execution_count": 15,
   "id": "c0ccd338-0e02-41f3-a09d-f56f9266e3fb",
   "metadata": {
    "execution": {
     "iopub.execute_input": "2025-07-30T21:00:30.602960Z",
     "iopub.status.busy": "2025-07-30T21:00:30.602532Z",
     "iopub.status.idle": "2025-07-30T21:00:30.608235Z",
     "shell.execute_reply": "2025-07-30T21:00:30.607048Z"
    },
    "papermill": {
     "duration": 0.031023,
     "end_time": "2025-07-30T21:00:30.611376",
     "exception": false,
     "start_time": "2025-07-30T21:00:30.580353",
     "status": "completed"
    },
    "tags": []
   },
   "outputs": [],
   "source": [
    "#universe[\"training_size\"]"
   ]
  },
  {
   "cell_type": "code",
   "execution_count": 16,
   "id": "ca707fd7-8047-4acd-bfa5-66248fbbf8e6",
   "metadata": {
    "execution": {
     "iopub.execute_input": "2025-07-30T21:00:30.654199Z",
     "iopub.status.busy": "2025-07-30T21:00:30.653804Z",
     "iopub.status.idle": "2025-07-30T21:00:30.658985Z",
     "shell.execute_reply": "2025-07-30T21:00:30.657898Z"
    },
    "papermill": {
     "duration": 0.028853,
     "end_time": "2025-07-30T21:00:30.661865",
     "exception": false,
     "start_time": "2025-07-30T21:00:30.633012",
     "status": "completed"
    },
    "tags": []
   },
   "outputs": [],
   "source": [
    "#universe[\"training_year\"]"
   ]
  },
  {
   "cell_type": "code",
   "execution_count": 17,
   "id": "aea9c6ef-6f46-42c8-85eb-5a62025c1508",
   "metadata": {
    "execution": {
     "iopub.execute_input": "2025-07-30T21:00:30.709597Z",
     "iopub.status.busy": "2025-07-30T21:00:30.709173Z",
     "iopub.status.idle": "2025-07-30T21:00:31.275202Z",
     "shell.execute_reply": "2025-07-30T21:00:31.274412Z"
    },
    "papermill": {
     "duration": 0.586098,
     "end_time": "2025-07-30T21:00:31.276696",
     "exception": false,
     "start_time": "2025-07-30T21:00:30.690598",
     "status": "completed"
    },
    "tags": []
   },
   "outputs": [],
   "source": [
    "siab_train = sample_by_year_size(siab,\n",
    "                               training_year=universe[\"training_year\"],\n",
    "                               training_size=universe[\"training_size\"])"
   ]
  },
  {
   "cell_type": "code",
   "execution_count": 18,
   "id": "8d3afb32-789d-442c-8d5d-9f5aa8dd2eed",
   "metadata": {
    "execution": {
     "iopub.execute_input": "2025-07-30T21:00:31.299703Z",
     "iopub.status.busy": "2025-07-30T21:00:31.299339Z",
     "iopub.status.idle": "2025-07-30T21:00:31.303723Z",
     "shell.execute_reply": "2025-07-30T21:00:31.302915Z"
    },
    "papermill": {
     "duration": 0.017082,
     "end_time": "2025-07-30T21:00:31.305009",
     "exception": false,
     "start_time": "2025-07-30T21:00:31.287927",
     "status": "completed"
    },
    "tags": []
   },
   "outputs": [],
   "source": [
    "#siab_train.shape"
   ]
  },
  {
   "cell_type": "code",
   "execution_count": 19,
   "id": "d582db68-1a4c-47fb-84fc-08518dc1975a",
   "metadata": {
    "execution": {
     "iopub.execute_input": "2025-07-30T21:00:31.328007Z",
     "iopub.status.busy": "2025-07-30T21:00:31.327658Z",
     "iopub.status.idle": "2025-07-30T21:00:31.331879Z",
     "shell.execute_reply": "2025-07-30T21:00:31.331238Z"
    },
    "papermill": {
     "duration": 0.016503,
     "end_time": "2025-07-30T21:00:31.333068",
     "exception": false,
     "start_time": "2025-07-30T21:00:31.316565",
     "status": "completed"
    },
    "tags": []
   },
   "outputs": [],
   "source": [
    "#display(siab_train.groupby(\"year\").size())"
   ]
  },
  {
   "cell_type": "code",
   "execution_count": 20,
   "id": "a561edb4-d032-42cb-8256-22eac1111c64",
   "metadata": {
    "execution": {
     "iopub.execute_input": "2025-07-30T21:00:31.356722Z",
     "iopub.status.busy": "2025-07-30T21:00:31.356003Z",
     "iopub.status.idle": "2025-07-30T21:00:31.591326Z",
     "shell.execute_reply": "2025-07-30T21:00:31.590347Z"
    },
    "papermill": {
     "duration": 0.249117,
     "end_time": "2025-07-30T21:00:31.593374",
     "exception": false,
     "start_time": "2025-07-30T21:00:31.344257",
     "status": "completed"
    },
    "tags": []
   },
   "outputs": [],
   "source": [
    "#siab_train = siab_s[siab_s.year < 2015]\n",
    "siab_calib = siab[siab.year == 2015]\n",
    "siab_test = siab[siab.year == 2016]"
   ]
  },
  {
   "cell_type": "code",
   "execution_count": 21,
   "id": "472de16f-c3db-4916-846b-1f0de9cf1746",
   "metadata": {
    "execution": {
     "iopub.execute_input": "2025-07-30T21:00:31.639962Z",
     "iopub.status.busy": "2025-07-30T21:00:31.639593Z",
     "iopub.status.idle": "2025-07-30T21:00:31.647787Z",
     "shell.execute_reply": "2025-07-30T21:00:31.646848Z"
    },
    "papermill": {
     "duration": 0.032548,
     "end_time": "2025-07-30T21:00:31.649545",
     "exception": false,
     "start_time": "2025-07-30T21:00:31.616997",
     "status": "completed"
    },
    "tags": []
   },
   "outputs": [],
   "source": [
    "X_train = siab_train.iloc[:,4:164]\n",
    "y_train = siab_train.iloc[:, [3]]"
   ]
  },
  {
   "cell_type": "code",
   "execution_count": 22,
   "id": "828c96af-f43a-4ed6-ba47-8ac73a47d56c",
   "metadata": {
    "execution": {
     "iopub.execute_input": "2025-07-30T21:00:31.693954Z",
     "iopub.status.busy": "2025-07-30T21:00:31.693316Z",
     "iopub.status.idle": "2025-07-30T21:00:31.745022Z",
     "shell.execute_reply": "2025-07-30T21:00:31.744024Z"
    },
    "papermill": {
     "duration": 0.073917,
     "end_time": "2025-07-30T21:00:31.746548",
     "exception": false,
     "start_time": "2025-07-30T21:00:31.672631",
     "status": "completed"
    },
    "tags": []
   },
   "outputs": [],
   "source": [
    "X_calib = siab_calib.iloc[:,4:164]\n",
    "y_calib = siab_calib.iloc[:, [3]]"
   ]
  },
  {
   "cell_type": "code",
   "execution_count": 23,
   "id": "c34be9c3-6bd6-476e-acd3-845840e303be",
   "metadata": {
    "execution": {
     "iopub.execute_input": "2025-07-30T21:00:31.787302Z",
     "iopub.status.busy": "2025-07-30T21:00:31.786889Z",
     "iopub.status.idle": "2025-07-30T21:00:31.841993Z",
     "shell.execute_reply": "2025-07-30T21:00:31.841039Z"
    },
    "papermill": {
     "duration": 0.079359,
     "end_time": "2025-07-30T21:00:31.843847",
     "exception": false,
     "start_time": "2025-07-30T21:00:31.764488",
     "status": "completed"
    },
    "tags": []
   },
   "outputs": [],
   "source": [
    "X_test = siab_test.iloc[:,4:164]\n",
    "y_true = siab_test.iloc[:, [3]]"
   ]
  },
  {
   "cell_type": "markdown",
   "id": "9901737e-04df-44f0-9100-f5ad144ed040",
   "metadata": {
    "papermill": {
     "duration": 0.022469,
     "end_time": "2025-07-30T21:00:31.890159",
     "exception": false,
     "start_time": "2025-07-30T21:00:31.867690",
     "status": "completed"
    },
    "tags": []
   },
   "source": [
    "# Splitting Data and Setting Training Data Size OLD VERSION"
   ]
  },
  {
   "cell_type": "code",
   "execution_count": 24,
   "id": "acbc8f7d-8fc8-4e86-8c59-5dcb0f58384b",
   "metadata": {
    "execution": {
     "iopub.execute_input": "2025-07-30T21:00:31.936873Z",
     "iopub.status.busy": "2025-07-30T21:00:31.935860Z",
     "iopub.status.idle": "2025-07-30T21:00:31.942168Z",
     "shell.execute_reply": "2025-07-30T21:00:31.941049Z"
    },
    "papermill": {
     "duration": 0.031852,
     "end_time": "2025-07-30T21:00:31.944496",
     "exception": false,
     "start_time": "2025-07-30T21:00:31.912644",
     "status": "completed"
    },
    "tags": []
   },
   "outputs": [],
   "source": [
    "#def sample_by_year(df, training_size, random_state=42):\n",
    "#    if training_size == \"2014\":\n",
    "#        return df[df[\"year\"] == 2014].reset_index(drop=True)\n",
    "#    \n",
    "#    size_map = {\n",
    "#        \"25k\": 5000,\n",
    "#        \"5k\": 1000,\n",
    "#        \"1k\": 200\n",
    "#    }\n",
    "#\n",
    "#    if training_size not in size_map:\n",
    "#        return df.reset_index(drop=True)  # use all data\n",
    "#\n",
    "#    n_per_year = size_map[training_size]\n",
    "#    grouped = df.groupby(\"year\")\n",
    "#    sampled = grouped.apply(lambda x: x.sample(n=min(n_per_year, len(x)), random_state=random_state))\n",
    "#    return sampled.reset_index(drop=True)"
   ]
  },
  {
   "cell_type": "code",
   "execution_count": 25,
   "id": "6d931f52-beaf-43ff-9e78-9d44a448d54e",
   "metadata": {
    "execution": {
     "iopub.execute_input": "2025-07-30T21:00:31.993629Z",
     "iopub.status.busy": "2025-07-30T21:00:31.992754Z",
     "iopub.status.idle": "2025-07-30T21:00:31.997865Z",
     "shell.execute_reply": "2025-07-30T21:00:31.996850Z"
    },
    "papermill": {
     "duration": 0.030199,
     "end_time": "2025-07-30T21:00:31.999637",
     "exception": false,
     "start_time": "2025-07-30T21:00:31.969438",
     "status": "completed"
    },
    "tags": []
   },
   "outputs": [],
   "source": [
    "#siab_s = sample_by_year(siab, universe[\"training_size\"])"
   ]
  },
  {
   "cell_type": "code",
   "execution_count": 26,
   "id": "5db0a40e-a4e2-4920-be85-b12ae061d70d",
   "metadata": {
    "execution": {
     "iopub.execute_input": "2025-07-30T21:00:32.045481Z",
     "iopub.status.busy": "2025-07-30T21:00:32.044893Z",
     "iopub.status.idle": "2025-07-30T21:00:32.049290Z",
     "shell.execute_reply": "2025-07-30T21:00:32.048388Z"
    },
    "papermill": {
     "duration": 0.028515,
     "end_time": "2025-07-30T21:00:32.050900",
     "exception": false,
     "start_time": "2025-07-30T21:00:32.022385",
     "status": "completed"
    },
    "tags": []
   },
   "outputs": [],
   "source": [
    "#display(siab_s.groupby(\"year\").size())"
   ]
  },
  {
   "cell_type": "code",
   "execution_count": 27,
   "id": "e6c733c5",
   "metadata": {
    "execution": {
     "iopub.execute_input": "2025-07-30T21:00:32.096825Z",
     "iopub.status.busy": "2025-07-30T21:00:32.096413Z",
     "iopub.status.idle": "2025-07-30T21:00:32.189351Z",
     "shell.execute_reply": "2025-07-30T21:00:32.188404Z"
    },
    "papermill": {
     "duration": 0.117557,
     "end_time": "2025-07-30T21:00:32.191420",
     "exception": false,
     "start_time": "2025-07-30T21:00:32.073863",
     "status": "completed"
    },
    "tags": []
   },
   "outputs": [],
   "source": [
    "# Auxiliary data needed downstream in the pipeline\n",
    "\n",
    "org_train = X_train.copy()\n",
    "org_test = X_test.copy()\n",
    "org_calib = X_calib.copy()"
   ]
  },
  {
   "cell_type": "code",
   "execution_count": 28,
   "id": "1466abac-c6da-4492-a62f-4240ae3783af",
   "metadata": {
    "execution": {
     "iopub.execute_input": "2025-07-30T21:00:32.240271Z",
     "iopub.status.busy": "2025-07-30T21:00:32.239558Z",
     "iopub.status.idle": "2025-07-30T21:00:32.245299Z",
     "shell.execute_reply": "2025-07-30T21:00:32.244493Z"
    },
    "papermill": {
     "duration": 0.031676,
     "end_time": "2025-07-30T21:00:32.246555",
     "exception": false,
     "start_time": "2025-07-30T21:00:32.214879",
     "status": "completed"
    },
    "tags": []
   },
   "outputs": [],
   "source": [
    "# put in other script?\n",
    "# Group sizes\n",
    "\n",
    "#def calculate_percentages(df, df_name):\n",
    "#    total_entries = len(df)\n",
    "#\n",
    "#    female_pct = (df['frau1'] == 1).mean() * 100\n",
    "#    non_german_pct = ((df['maxdeutsch1'] == 0) & (df['maxdeutsch.Missing.'] == 0)).mean() * 100\n",
    "#    non_german_male_pct = ((df['frau1'] == 0) & (df['maxdeutsch1'] == 0) & (df['maxdeutsch.Missing.'] == 0)).mean() * 100\n",
    "#    non_german_female_pct = ((df['frau1'] == 1) & (df['maxdeutsch1'] == 0) & (df['maxdeutsch.Missing.'] == 0)).mean() * 100\n",
    "#\n",
    "#    print(f\"--- {df_name} ---\")\n",
    "#    print(f\"Female: {female_pct:.2f}%\")\n",
    "#    print(f\"Non-German: {non_german_pct:.2f}%\")\n",
    "#    print(f\"Non-German Male: {non_german_male_pct:.2f}%\")\n",
    "#    print(f\"Non-German Female: {non_german_female_pct:.2f}%\\n\")\n",
    "#\n",
    "## Calculate for each DataFrame\n",
    "#calculate_percentages(siab_calib, \"siab_calib\")\n",
    "#calculate_percentages(siab_test, \"siab_test\")\n",
    "#calculate_percentages(siab_train, \"siab_train\")"
   ]
  },
  {
   "cell_type": "markdown",
   "id": "0a4a1b33",
   "metadata": {
    "papermill": {
     "duration": 0.011557,
     "end_time": "2025-07-30T21:00:32.273323",
     "exception": false,
     "start_time": "2025-07-30T21:00:32.261766",
     "status": "completed"
    },
    "tags": []
   },
   "source": [
    "# Preprocessing Data"
   ]
  },
  {
   "cell_type": "code",
   "execution_count": 29,
   "id": "ca879031",
   "metadata": {
    "execution": {
     "iopub.execute_input": "2025-07-30T21:00:32.297552Z",
     "iopub.status.busy": "2025-07-30T21:00:32.297038Z",
     "iopub.status.idle": "2025-07-30T21:00:32.302487Z",
     "shell.execute_reply": "2025-07-30T21:00:32.301702Z"
    },
    "papermill": {
     "duration": 0.018969,
     "end_time": "2025-07-30T21:00:32.303798",
     "exception": false,
     "start_time": "2025-07-30T21:00:32.284829",
     "status": "completed"
    },
    "tags": []
   },
   "outputs": [],
   "source": [
    "# EXCLUDE PROTECTED FEATURES\n",
    "# ----------------------\n",
    "# \"exclude_features\": \"none\", # \"nationality\", \"sex\", \"nationality-sex\"\n",
    "\n",
    "excluded_features = universe[\"exclude_features\"].split(\"-\") # split, e.g.: \"nationality-sex\" -> [\"nationality\", \"sex\"]\n",
    "excluded_features_dictionary = {\n",
    "    \"nationality\": [\"maxdeutsch1\", \"maxdeutsch.Missing.\"],\n",
    "    \"sex\": [\"frau1\"],\n",
    "    \"age\": [\"age\"],\n",
    "}\n"
   ]
  },
  {
   "cell_type": "code",
   "execution_count": 30,
   "id": "b745ac60",
   "metadata": {
    "execution": {
     "iopub.execute_input": "2025-07-30T21:00:32.329742Z",
     "iopub.status.busy": "2025-07-30T21:00:32.329113Z",
     "iopub.status.idle": "2025-07-30T21:00:32.333580Z",
     "shell.execute_reply": "2025-07-30T21:00:32.332921Z"
    },
    "papermill": {
     "duration": 0.018078,
     "end_time": "2025-07-30T21:00:32.334712",
     "exception": false,
     "start_time": "2025-07-30T21:00:32.316634",
     "status": "completed"
    },
    "tags": []
   },
   "outputs": [],
   "source": [
    "# Code nice names to column names\n",
    "\n",
    "excluded_features_columns = [\n",
    "    excluded_features_dictionary[f] for f in excluded_features if len(f) > 0 and f != \"none\"\n",
    "]"
   ]
  },
  {
   "cell_type": "code",
   "execution_count": 31,
   "id": "f84f73a2",
   "metadata": {
    "execution": {
     "iopub.execute_input": "2025-07-30T21:00:32.379338Z",
     "iopub.status.busy": "2025-07-30T21:00:32.378844Z",
     "iopub.status.idle": "2025-07-30T21:00:32.385233Z",
     "shell.execute_reply": "2025-07-30T21:00:32.384305Z"
    },
    "papermill": {
     "duration": 0.032296,
     "end_time": "2025-07-30T21:00:32.386989",
     "exception": false,
     "start_time": "2025-07-30T21:00:32.354693",
     "status": "completed"
    },
    "tags": []
   },
   "outputs": [],
   "source": [
    "from utils import flatten_once\n",
    "\n",
    "excluded_features_columns = flatten_once(excluded_features_columns)"
   ]
  },
  {
   "cell_type": "code",
   "execution_count": 32,
   "id": "884dea22",
   "metadata": {
    "execution": {
     "iopub.execute_input": "2025-07-30T21:00:32.435052Z",
     "iopub.status.busy": "2025-07-30T21:00:32.434425Z",
     "iopub.status.idle": "2025-07-30T21:00:32.441280Z",
     "shell.execute_reply": "2025-07-30T21:00:32.440214Z"
    },
    "papermill": {
     "duration": 0.034693,
     "end_time": "2025-07-30T21:00:32.443206",
     "exception": false,
     "start_time": "2025-07-30T21:00:32.408513",
     "status": "completed"
    },
    "tags": []
   },
   "outputs": [],
   "source": [
    "if len(excluded_features_columns) > 0:\n",
    "    print(f\"Dropping features: {excluded_features_columns}\")\n",
    "    X_train.drop(excluded_features_columns, axis=1, inplace=True)"
   ]
  },
  {
   "cell_type": "code",
   "execution_count": 33,
   "id": "95ab8b16",
   "metadata": {
    "execution": {
     "iopub.execute_input": "2025-07-30T21:00:32.490679Z",
     "iopub.status.busy": "2025-07-30T21:00:32.490011Z",
     "iopub.status.idle": "2025-07-30T21:00:32.496941Z",
     "shell.execute_reply": "2025-07-30T21:00:32.495986Z"
    },
    "papermill": {
     "duration": 0.03171,
     "end_time": "2025-07-30T21:00:32.498735",
     "exception": false,
     "start_time": "2025-07-30T21:00:32.467025",
     "status": "completed"
    },
    "tags": []
   },
   "outputs": [],
   "source": [
    "if len(excluded_features_columns) > 0:\n",
    "    print(f\"Dropping features: {excluded_features_columns}\")\n",
    "    X_test.drop(excluded_features_columns, axis=1, inplace=True)"
   ]
  },
  {
   "cell_type": "code",
   "execution_count": 34,
   "id": "1853aaf5-fb9f-46cb-a2b5-8ea4ae2237e4",
   "metadata": {
    "execution": {
     "iopub.execute_input": "2025-07-30T21:00:32.545536Z",
     "iopub.status.busy": "2025-07-30T21:00:32.544851Z",
     "iopub.status.idle": "2025-07-30T21:00:32.550973Z",
     "shell.execute_reply": "2025-07-30T21:00:32.550116Z"
    },
    "papermill": {
     "duration": 0.03079,
     "end_time": "2025-07-30T21:00:32.552933",
     "exception": false,
     "start_time": "2025-07-30T21:00:32.522143",
     "status": "completed"
    },
    "tags": []
   },
   "outputs": [],
   "source": [
    "if len(excluded_features_columns) > 0:\n",
    "    print(f\"Dropping features: {excluded_features_columns}\")\n",
    "    X_calib.drop(excluded_features_columns, axis=1, inplace=True)"
   ]
  },
  {
   "cell_type": "code",
   "execution_count": 35,
   "id": "6727d079-03e5-481e-9d38-292a90b7a0a8",
   "metadata": {
    "execution": {
     "iopub.execute_input": "2025-07-30T21:00:32.602789Z",
     "iopub.status.busy": "2025-07-30T21:00:32.601839Z",
     "iopub.status.idle": "2025-07-30T21:00:32.607313Z",
     "shell.execute_reply": "2025-07-30T21:00:32.606300Z"
    },
    "papermill": {
     "duration": 0.031158,
     "end_time": "2025-07-30T21:00:32.609063",
     "exception": false,
     "start_time": "2025-07-30T21:00:32.577905",
     "status": "completed"
    },
    "tags": []
   },
   "outputs": [],
   "source": [
    "# SPLIT & STRATIFY DATA\n",
    "# ----------------------"
   ]
  },
  {
   "cell_type": "code",
   "execution_count": 36,
   "id": "76c4dc6d",
   "metadata": {
    "execution": {
     "iopub.execute_input": "2025-07-30T21:00:32.658797Z",
     "iopub.status.busy": "2025-07-30T21:00:32.658112Z",
     "iopub.status.idle": "2025-07-30T21:00:32.664116Z",
     "shell.execute_reply": "2025-07-30T21:00:32.663026Z"
    },
    "papermill": {
     "duration": 0.030943,
     "end_time": "2025-07-30T21:00:32.665778",
     "exception": false,
     "start_time": "2025-07-30T21:00:32.634835",
     "status": "completed"
    },
    "tags": []
   },
   "outputs": [],
   "source": [
    "# EXCLUDE CERTAIN SUBGROUPS\n",
    "# ----------------------\n",
    "\n",
    "mode = universe.get(\"exclude_subgroups\", \"keep-all\") \n",
    "# Fetches the exclude_subgroups setting from the universe dict.\n",
    "# Defaults to \"keep-all\" if the key is missing."
   ]
  },
  {
   "cell_type": "code",
   "execution_count": 37,
   "id": "21994072",
   "metadata": {
    "execution": {
     "iopub.execute_input": "2025-07-30T21:00:32.716199Z",
     "iopub.status.busy": "2025-07-30T21:00:32.715694Z",
     "iopub.status.idle": "2025-07-30T21:00:32.722394Z",
     "shell.execute_reply": "2025-07-30T21:00:32.721397Z"
    },
    "papermill": {
     "duration": 0.033314,
     "end_time": "2025-07-30T21:00:32.723980",
     "exception": false,
     "start_time": "2025-07-30T21:00:32.690666",
     "status": "completed"
    },
    "tags": []
   },
   "outputs": [],
   "source": [
    "if mode == \"keep-all\":\n",
    "    keep_mask = pd.Series(True, index=org_train.index)\n",
    "\n",
    "# org_train contains the original feature columns from features_org (in Simson)\n",
    "# features_org contains unprocessed features, for me X_train at beginning ???\n",
    "# For keep-all, creates a boolean Series (keep_mask) of all True, so no rows are removed.\n",
    "\n",
    "elif mode == \"drop-non-german\":\n",
    "    keep_mask = org_train[\"maxdeutsch1\"] == 1 # ??? what about missing values?\n",
    "\n",
    "else:\n",
    "    raise ValueError(f\"Unsupported mode for exclude_subgroups: {mode}\")\n"
   ]
  },
  {
   "cell_type": "code",
   "execution_count": 38,
   "id": "71651440",
   "metadata": {
    "execution": {
     "iopub.execute_input": "2025-07-30T21:00:32.772279Z",
     "iopub.status.busy": "2025-07-30T21:00:32.771395Z",
     "iopub.status.idle": "2025-07-30T21:00:32.778708Z",
     "shell.execute_reply": "2025-07-30T21:00:32.777712Z"
    },
    "papermill": {
     "duration": 0.033059,
     "end_time": "2025-07-30T21:00:32.779976",
     "exception": false,
     "start_time": "2025-07-30T21:00:32.746917",
     "status": "completed"
    },
    "tags": []
   },
   "outputs": [
    {
     "name": "stdout",
     "output_type": "stream",
     "text": [
      "Dropping 665 rows (13.30%) where mode='drop-non-german'\n"
     ]
    }
   ],
   "source": [
    "n_drop = (~keep_mask).sum() # Calculates how many rows are set to be dropped\n",
    "if n_drop > 0:\n",
    "    pct = n_drop / len(keep_mask) * 100\n",
    "    print(f\"Dropping {n_drop} rows ({pct:.2f}%) where mode='{mode}'\")"
   ]
  },
  {
   "cell_type": "code",
   "execution_count": 39,
   "id": "5fb8eee5",
   "metadata": {
    "execution": {
     "iopub.execute_input": "2025-07-30T21:00:32.820958Z",
     "iopub.status.busy": "2025-07-30T21:00:32.820425Z",
     "iopub.status.idle": "2025-07-30T21:00:32.827548Z",
     "shell.execute_reply": "2025-07-30T21:00:32.826633Z"
    },
    "papermill": {
     "duration": 0.033902,
     "end_time": "2025-07-30T21:00:32.829428",
     "exception": false,
     "start_time": "2025-07-30T21:00:32.795526",
     "status": "completed"
    },
    "tags": []
   },
   "outputs": [],
   "source": [
    "X_train = X_train[keep_mask]"
   ]
  },
  {
   "cell_type": "code",
   "execution_count": 40,
   "id": "b202bb3a",
   "metadata": {
    "execution": {
     "iopub.execute_input": "2025-07-30T21:00:32.878235Z",
     "iopub.status.busy": "2025-07-30T21:00:32.877808Z",
     "iopub.status.idle": "2025-07-30T21:00:32.883894Z",
     "shell.execute_reply": "2025-07-30T21:00:32.882938Z"
    },
    "papermill": {
     "duration": 0.032877,
     "end_time": "2025-07-30T21:00:32.885633",
     "exception": false,
     "start_time": "2025-07-30T21:00:32.852756",
     "status": "completed"
    },
    "tags": []
   },
   "outputs": [],
   "source": [
    "y_train = y_train[keep_mask]"
   ]
  },
  {
   "cell_type": "markdown",
   "id": "493e2ac3",
   "metadata": {
    "papermill": {
     "duration": 0.021166,
     "end_time": "2025-07-30T21:00:32.921466",
     "exception": false,
     "start_time": "2025-07-30T21:00:32.900300",
     "status": "completed"
    },
    "tags": []
   },
   "source": [
    "# Model Training"
   ]
  },
  {
   "cell_type": "code",
   "execution_count": 41,
   "id": "679e1268",
   "metadata": {
    "execution": {
     "iopub.execute_input": "2025-07-30T21:00:32.972502Z",
     "iopub.status.busy": "2025-07-30T21:00:32.971918Z",
     "iopub.status.idle": "2025-07-30T21:00:33.085557Z",
     "shell.execute_reply": "2025-07-30T21:00:33.084495Z"
    },
    "papermill": {
     "duration": 0.141802,
     "end_time": "2025-07-30T21:00:33.087716",
     "exception": false,
     "start_time": "2025-07-30T21:00:32.945914",
     "status": "completed"
    },
    "tags": []
   },
   "outputs": [],
   "source": [
    "from sklearn.linear_model import LogisticRegression\n",
    "from sklearn.ensemble import GradientBoostingClassifier, RandomForestClassifier\n",
    "\n",
    "if (universe[\"model\"] == \"logreg\"):\n",
    "    model = LogisticRegression() #penalty=\"none\") #, solver=\"newton-cg\", max_iter=1) # include random_state=19 ?\n",
    "elif (universe[\"model\"] == \"penalized_logreg\"):\n",
    "    model = LogisticRegression(penalty=\"l2\", C=1.0) #, solver=\"newton-cg\", max_iter=1)\n",
    "elif (universe[\"model\"] == \"rf\"):\n",
    "    model = RandomForestClassifier(n_estimators=100, n_jobs=-1)\n",
    "elif (universe[\"model\"] == \"gbm\"):\n",
    "    model = GradientBoostingClassifier()\n",
    "elif (universe[\"model\"] == \"elasticnet\"):\n",
    "    model = LogisticRegression(penalty = 'elasticnet', solver = 'saga', l1_ratio = 0.5, max_iter=5000) # which solver to use?\n",
    "else:\n",
    "    raise \"Unsupported universe.model\""
   ]
  },
  {
   "cell_type": "code",
   "execution_count": 42,
   "id": "0cc8f744",
   "metadata": {
    "execution": {
     "iopub.execute_input": "2025-07-30T21:00:33.143516Z",
     "iopub.status.busy": "2025-07-30T21:00:33.142991Z",
     "iopub.status.idle": "2025-07-30T21:00:33.150909Z",
     "shell.execute_reply": "2025-07-30T21:00:33.149861Z"
    },
    "papermill": {
     "duration": 0.038993,
     "end_time": "2025-07-30T21:00:33.154014",
     "exception": false,
     "start_time": "2025-07-30T21:00:33.115021",
     "status": "completed"
    },
    "tags": []
   },
   "outputs": [],
   "source": [
    "import numpy as np\n",
    "from sklearn.pipeline import Pipeline\n",
    "from sklearn.preprocessing import StandardScaler\n",
    "\n",
    "model = Pipeline([\n",
    "    #(\"continuous_processor\", continuous_processor),\n",
    "    #(\"categorical_preprocessor\", categorical_preprocessor),\n",
    "    (\"scale\", StandardScaler() if universe[\"scale\"] == \"scale\" else None), \n",
    "    (\"model\", model),\n",
    "])"
   ]
  },
  {
   "cell_type": "code",
   "execution_count": 43,
   "id": "9442c04d",
   "metadata": {
    "execution": {
     "iopub.execute_input": "2025-07-30T21:00:33.203495Z",
     "iopub.status.busy": "2025-07-30T21:00:33.202997Z",
     "iopub.status.idle": "2025-07-30T21:00:37.537240Z",
     "shell.execute_reply": "2025-07-30T21:00:37.536258Z"
    },
    "papermill": {
     "duration": 4.360599,
     "end_time": "2025-07-30T21:00:37.538971",
     "exception": false,
     "start_time": "2025-07-30T21:00:33.178372",
     "status": "completed"
    },
    "tags": []
   },
   "outputs": [
    {
     "data": {
      "text/html": [
       "<style>#sk-container-id-1 {color: black;background-color: white;}#sk-container-id-1 pre{padding: 0;}#sk-container-id-1 div.sk-toggleable {background-color: white;}#sk-container-id-1 label.sk-toggleable__label {cursor: pointer;display: block;width: 100%;margin-bottom: 0;padding: 0.3em;box-sizing: border-box;text-align: center;}#sk-container-id-1 label.sk-toggleable__label-arrow:before {content: \"▸\";float: left;margin-right: 0.25em;color: #696969;}#sk-container-id-1 label.sk-toggleable__label-arrow:hover:before {color: black;}#sk-container-id-1 div.sk-estimator:hover label.sk-toggleable__label-arrow:before {color: black;}#sk-container-id-1 div.sk-toggleable__content {max-height: 0;max-width: 0;overflow: hidden;text-align: left;background-color: #f0f8ff;}#sk-container-id-1 div.sk-toggleable__content pre {margin: 0.2em;color: black;border-radius: 0.25em;background-color: #f0f8ff;}#sk-container-id-1 input.sk-toggleable__control:checked~div.sk-toggleable__content {max-height: 200px;max-width: 100%;overflow: auto;}#sk-container-id-1 input.sk-toggleable__control:checked~label.sk-toggleable__label-arrow:before {content: \"▾\";}#sk-container-id-1 div.sk-estimator input.sk-toggleable__control:checked~label.sk-toggleable__label {background-color: #d4ebff;}#sk-container-id-1 div.sk-label input.sk-toggleable__control:checked~label.sk-toggleable__label {background-color: #d4ebff;}#sk-container-id-1 input.sk-hidden--visually {border: 0;clip: rect(1px 1px 1px 1px);clip: rect(1px, 1px, 1px, 1px);height: 1px;margin: -1px;overflow: hidden;padding: 0;position: absolute;width: 1px;}#sk-container-id-1 div.sk-estimator {font-family: monospace;background-color: #f0f8ff;border: 1px dotted black;border-radius: 0.25em;box-sizing: border-box;margin-bottom: 0.5em;}#sk-container-id-1 div.sk-estimator:hover {background-color: #d4ebff;}#sk-container-id-1 div.sk-parallel-item::after {content: \"\";width: 100%;border-bottom: 1px solid gray;flex-grow: 1;}#sk-container-id-1 div.sk-label:hover label.sk-toggleable__label {background-color: #d4ebff;}#sk-container-id-1 div.sk-serial::before {content: \"\";position: absolute;border-left: 1px solid gray;box-sizing: border-box;top: 0;bottom: 0;left: 50%;z-index: 0;}#sk-container-id-1 div.sk-serial {display: flex;flex-direction: column;align-items: center;background-color: white;padding-right: 0.2em;padding-left: 0.2em;position: relative;}#sk-container-id-1 div.sk-item {position: relative;z-index: 1;}#sk-container-id-1 div.sk-parallel {display: flex;align-items: stretch;justify-content: center;background-color: white;position: relative;}#sk-container-id-1 div.sk-item::before, #sk-container-id-1 div.sk-parallel-item::before {content: \"\";position: absolute;border-left: 1px solid gray;box-sizing: border-box;top: 0;bottom: 0;left: 50%;z-index: -1;}#sk-container-id-1 div.sk-parallel-item {display: flex;flex-direction: column;z-index: 1;position: relative;background-color: white;}#sk-container-id-1 div.sk-parallel-item:first-child::after {align-self: flex-end;width: 50%;}#sk-container-id-1 div.sk-parallel-item:last-child::after {align-self: flex-start;width: 50%;}#sk-container-id-1 div.sk-parallel-item:only-child::after {width: 0;}#sk-container-id-1 div.sk-dashed-wrapped {border: 1px dashed gray;margin: 0 0.4em 0.5em 0.4em;box-sizing: border-box;padding-bottom: 0.4em;background-color: white;}#sk-container-id-1 div.sk-label label {font-family: monospace;font-weight: bold;display: inline-block;line-height: 1.2em;}#sk-container-id-1 div.sk-label-container {text-align: center;}#sk-container-id-1 div.sk-container {/* jupyter's `normalize.less` sets `[hidden] { display: none; }` but bootstrap.min.css set `[hidden] { display: none !important; }` so we also need the `!important` here to be able to override the default hidden behavior on the sphinx rendered scikit-learn.org. See: https://github.com/scikit-learn/scikit-learn/issues/21755 */display: inline-block !important;position: relative;}#sk-container-id-1 div.sk-text-repr-fallback {display: none;}</style><div id=\"sk-container-id-1\" class=\"sk-top-container\"><div class=\"sk-text-repr-fallback\"><pre>Pipeline(steps=[(&#x27;scale&#x27;, StandardScaler()),\n",
       "                (&#x27;model&#x27;, GradientBoostingClassifier())])</pre><b>In a Jupyter environment, please rerun this cell to show the HTML representation or trust the notebook. <br />On GitHub, the HTML representation is unable to render, please try loading this page with nbviewer.org.</b></div><div class=\"sk-container\" hidden><div class=\"sk-item sk-dashed-wrapped\"><div class=\"sk-label-container\"><div class=\"sk-label sk-toggleable\"><input class=\"sk-toggleable__control sk-hidden--visually\" id=\"sk-estimator-id-1\" type=\"checkbox\" ><label for=\"sk-estimator-id-1\" class=\"sk-toggleable__label sk-toggleable__label-arrow\">Pipeline</label><div class=\"sk-toggleable__content\"><pre>Pipeline(steps=[(&#x27;scale&#x27;, StandardScaler()),\n",
       "                (&#x27;model&#x27;, GradientBoostingClassifier())])</pre></div></div></div><div class=\"sk-serial\"><div class=\"sk-item\"><div class=\"sk-estimator sk-toggleable\"><input class=\"sk-toggleable__control sk-hidden--visually\" id=\"sk-estimator-id-2\" type=\"checkbox\" ><label for=\"sk-estimator-id-2\" class=\"sk-toggleable__label sk-toggleable__label-arrow\">StandardScaler</label><div class=\"sk-toggleable__content\"><pre>StandardScaler()</pre></div></div></div><div class=\"sk-item\"><div class=\"sk-estimator sk-toggleable\"><input class=\"sk-toggleable__control sk-hidden--visually\" id=\"sk-estimator-id-3\" type=\"checkbox\" ><label for=\"sk-estimator-id-3\" class=\"sk-toggleable__label sk-toggleable__label-arrow\">GradientBoostingClassifier</label><div class=\"sk-toggleable__content\"><pre>GradientBoostingClassifier()</pre></div></div></div></div></div></div></div>"
      ],
      "text/plain": [
       "Pipeline(steps=[('scale', StandardScaler()),\n",
       "                ('model', GradientBoostingClassifier())])"
      ]
     },
     "execution_count": 43,
     "metadata": {},
     "output_type": "execute_result"
    }
   ],
   "source": [
    "model.fit(X_train, y_train.values.ravel())"
   ]
  },
  {
   "cell_type": "code",
   "execution_count": 44,
   "id": "af59f8c0",
   "metadata": {
    "execution": {
     "iopub.execute_input": "2025-07-30T21:00:37.592603Z",
     "iopub.status.busy": "2025-07-30T21:00:37.592127Z",
     "iopub.status.idle": "2025-07-30T21:00:37.597375Z",
     "shell.execute_reply": "2025-07-30T21:00:37.596422Z"
    },
    "papermill": {
     "duration": 0.031782,
     "end_time": "2025-07-30T21:00:37.599166",
     "exception": false,
     "start_time": "2025-07-30T21:00:37.567384",
     "status": "completed"
    },
    "tags": []
   },
   "outputs": [],
   "source": [
    "from fairness_multiverse.universe import predict_w_threshold"
   ]
  },
  {
   "cell_type": "code",
   "execution_count": 45,
   "id": "a7cf2e16",
   "metadata": {
    "execution": {
     "iopub.execute_input": "2025-07-30T21:00:37.647442Z",
     "iopub.status.busy": "2025-07-30T21:00:37.646745Z",
     "iopub.status.idle": "2025-07-30T21:00:38.378972Z",
     "shell.execute_reply": "2025-07-30T21:00:38.378092Z"
    },
    "papermill": {
     "duration": 0.757958,
     "end_time": "2025-07-30T21:00:38.380736",
     "exception": false,
     "start_time": "2025-07-30T21:00:37.622778",
     "status": "completed"
    },
    "tags": []
   },
   "outputs": [
    {
     "data": {
      "text/plain": [
       "0.8624456582320812"
      ]
     },
     "execution_count": 45,
     "metadata": {},
     "output_type": "execute_result"
    }
   ],
   "source": [
    "probs_test = model.predict_proba(X_test)\n",
    "\n",
    "'''\n",
    "Below code returns a boolean array (or binary 0/1 array depending on how it’s used) where each element \n",
    "is True if the probability of class 1 is greater than or equal to the threshold, and False otherwise.\n",
    "'''\n",
    "y_pred_default = predict_w_threshold(probs_test, 0.5)\n",
    "\n",
    "from sklearn.metrics import accuracy_score\n",
    "\n",
    "# Naive prediction\n",
    "accuracy_score(y_true = y_true, y_pred = y_pred_default)"
   ]
  },
  {
   "cell_type": "code",
   "execution_count": 46,
   "id": "081964c3",
   "metadata": {
    "execution": {
     "iopub.execute_input": "2025-07-30T21:00:38.431215Z",
     "iopub.status.busy": "2025-07-30T21:00:38.430747Z",
     "iopub.status.idle": "2025-07-30T21:00:39.039611Z",
     "shell.execute_reply": "2025-07-30T21:00:39.038640Z"
    },
    "papermill": {
     "duration": 0.636265,
     "end_time": "2025-07-30T21:00:39.041360",
     "exception": false,
     "start_time": "2025-07-30T21:00:38.405095",
     "status": "completed"
    },
    "tags": []
   },
   "outputs": [
    {
     "data": {
      "text/plain": [
       "array([0, 0, 0, ..., 0, 0, 0])"
      ]
     },
     "execution_count": 46,
     "metadata": {},
     "output_type": "execute_result"
    }
   ],
   "source": [
    "model.predict(X_test)"
   ]
  },
  {
   "cell_type": "markdown",
   "id": "56c9705b",
   "metadata": {
    "papermill": {
     "duration": 0.023503,
     "end_time": "2025-07-30T21:00:39.089242",
     "exception": false,
     "start_time": "2025-07-30T21:00:39.065739",
     "status": "completed"
    },
    "tags": []
   },
   "source": [
    "# Conformal Prediction"
   ]
  },
  {
   "cell_type": "code",
   "execution_count": 47,
   "id": "160ec6ff",
   "metadata": {
    "execution": {
     "iopub.execute_input": "2025-07-30T21:00:39.139757Z",
     "iopub.status.busy": "2025-07-30T21:00:39.139158Z",
     "iopub.status.idle": "2025-07-30T21:00:39.144533Z",
     "shell.execute_reply": "2025-07-30T21:00:39.143608Z"
    },
    "papermill": {
     "duration": 0.032193,
     "end_time": "2025-07-30T21:00:39.146245",
     "exception": false,
     "start_time": "2025-07-30T21:00:39.114052",
     "status": "completed"
    },
    "tags": []
   },
   "outputs": [],
   "source": [
    "# Miscoverage level for conformal prediction (10% allowed error rate => 90% target coverage)\n",
    "alpha = 0.1"
   ]
  },
  {
   "cell_type": "code",
   "execution_count": 48,
   "id": "eadf4555-3dd3-440e-8e35-f82a4ad9f855",
   "metadata": {
    "execution": {
     "iopub.execute_input": "2025-07-30T21:00:39.196660Z",
     "iopub.status.busy": "2025-07-30T21:00:39.195648Z",
     "iopub.status.idle": "2025-07-30T21:00:39.853147Z",
     "shell.execute_reply": "2025-07-30T21:00:39.852083Z"
    },
    "papermill": {
     "duration": 0.684546,
     "end_time": "2025-07-30T21:00:39.855152",
     "exception": false,
     "start_time": "2025-07-30T21:00:39.170606",
     "status": "completed"
    },
    "tags": []
   },
   "outputs": [],
   "source": [
    "probs_calib = model.predict_proba(X_calib)"
   ]
  },
  {
   "cell_type": "code",
   "execution_count": 49,
   "id": "2ed93547-6d5d-4983-9b36-1ecb300da49a",
   "metadata": {
    "execution": {
     "iopub.execute_input": "2025-07-30T21:00:39.950709Z",
     "iopub.status.busy": "2025-07-30T21:00:39.950133Z",
     "iopub.status.idle": "2025-07-30T21:00:39.956247Z",
     "shell.execute_reply": "2025-07-30T21:00:39.955217Z"
    },
    "papermill": {
     "duration": 0.033794,
     "end_time": "2025-07-30T21:00:39.957891",
     "exception": false,
     "start_time": "2025-07-30T21:00:39.924097",
     "status": "completed"
    },
    "tags": []
   },
   "outputs": [],
   "source": [
    "y_calib = y_calib.values.ravel().astype(int)"
   ]
  },
  {
   "cell_type": "code",
   "execution_count": 50,
   "id": "65d1320d-f588-4b38-9072-62af1ae97f7d",
   "metadata": {
    "execution": {
     "iopub.execute_input": "2025-07-30T21:00:40.009365Z",
     "iopub.status.busy": "2025-07-30T21:00:40.008859Z",
     "iopub.status.idle": "2025-07-30T21:00:40.016378Z",
     "shell.execute_reply": "2025-07-30T21:00:40.015305Z"
    },
    "papermill": {
     "duration": 0.03538,
     "end_time": "2025-07-30T21:00:40.018062",
     "exception": false,
     "start_time": "2025-07-30T21:00:39.982682",
     "status": "completed"
    },
    "tags": []
   },
   "outputs": [],
   "source": [
    "from fairness_multiverse.conformal import compute_nc_scores\n",
    "\n",
    "# Compute nonconformity scores on calibration set (1 - probability of true class)\n",
    "nc_scores = compute_nc_scores(probs_calib, y_calib)"
   ]
  },
  {
   "cell_type": "code",
   "execution_count": 51,
   "id": "df3b8ca3-53b7-43d5-9667-7c85da7aeda2",
   "metadata": {
    "execution": {
     "iopub.execute_input": "2025-07-30T21:00:40.069566Z",
     "iopub.status.busy": "2025-07-30T21:00:40.068673Z",
     "iopub.status.idle": "2025-07-30T21:00:40.075973Z",
     "shell.execute_reply": "2025-07-30T21:00:40.075028Z"
    },
    "papermill": {
     "duration": 0.034585,
     "end_time": "2025-07-30T21:00:40.077682",
     "exception": false,
     "start_time": "2025-07-30T21:00:40.043097",
     "status": "completed"
    },
    "tags": []
   },
   "outputs": [],
   "source": [
    "from fairness_multiverse.conformal import find_threshold\n",
    "\n",
    "# Find conformal threshold q_hat for the given alpha (split conformal method)\n",
    "q_hat = find_threshold(nc_scores, alpha)"
   ]
  },
  {
   "cell_type": "code",
   "execution_count": 52,
   "id": "4d29e6c1-0ef6-4aa4-b8fe-4fe79b0d033a",
   "metadata": {
    "execution": {
     "iopub.execute_input": "2025-07-30T21:00:40.129667Z",
     "iopub.status.busy": "2025-07-30T21:00:40.128747Z",
     "iopub.status.idle": "2025-07-30T21:00:40.136323Z",
     "shell.execute_reply": "2025-07-30T21:00:40.135341Z"
    },
    "papermill": {
     "duration": 0.035091,
     "end_time": "2025-07-30T21:00:40.137930",
     "exception": false,
     "start_time": "2025-07-30T21:00:40.102839",
     "status": "completed"
    },
    "tags": []
   },
   "outputs": [
    {
     "data": {
      "text/plain": [
       "0.7005045422834799"
      ]
     },
     "execution_count": 52,
     "metadata": {},
     "output_type": "execute_result"
    }
   ],
   "source": [
    "q_hat"
   ]
  },
  {
   "cell_type": "code",
   "execution_count": 53,
   "id": "92460794-cdac-4be2-ba28-f28c0515a6fb",
   "metadata": {
    "execution": {
     "iopub.execute_input": "2025-07-30T21:00:40.191274Z",
     "iopub.status.busy": "2025-07-30T21:00:40.190640Z",
     "iopub.status.idle": "2025-07-30T21:00:41.627183Z",
     "shell.execute_reply": "2025-07-30T21:00:41.626215Z"
    },
    "papermill": {
     "duration": 1.464832,
     "end_time": "2025-07-30T21:00:41.629092",
     "exception": false,
     "start_time": "2025-07-30T21:00:40.164260",
     "status": "completed"
    },
    "tags": []
   },
   "outputs": [],
   "source": [
    "from fairness_multiverse.conformal import predict_conformal_sets\n",
    "\n",
    "# Generate prediction sets for each test example\n",
    "pred_sets = predict_conformal_sets(model, X_test, q_hat)"
   ]
  },
  {
   "cell_type": "code",
   "execution_count": 54,
   "id": "d90c9a65-e6db-4f5d-80cd-e68fb7e46829",
   "metadata": {
    "execution": {
     "iopub.execute_input": "2025-07-30T21:00:41.679668Z",
     "iopub.status.busy": "2025-07-30T21:00:41.678932Z",
     "iopub.status.idle": "2025-07-30T21:00:41.684853Z",
     "shell.execute_reply": "2025-07-30T21:00:41.683880Z"
    },
    "papermill": {
     "duration": 0.032579,
     "end_time": "2025-07-30T21:00:41.686408",
     "exception": false,
     "start_time": "2025-07-30T21:00:41.653829",
     "status": "completed"
    },
    "tags": []
   },
   "outputs": [],
   "source": [
    "y_true = y_true.squeeze()"
   ]
  },
  {
   "cell_type": "code",
   "execution_count": 55,
   "id": "3a58a54a-1e68-46b9-927a-df01f18aebc8",
   "metadata": {
    "execution": {
     "iopub.execute_input": "2025-07-30T21:00:41.735540Z",
     "iopub.status.busy": "2025-07-30T21:00:41.735014Z",
     "iopub.status.idle": "2025-07-30T21:00:42.668591Z",
     "shell.execute_reply": "2025-07-30T21:00:42.667669Z"
    },
    "papermill": {
     "duration": 0.959794,
     "end_time": "2025-07-30T21:00:42.670514",
     "exception": false,
     "start_time": "2025-07-30T21:00:41.710720",
     "status": "completed"
    },
    "tags": []
   },
   "outputs": [],
   "source": [
    "from fairness_multiverse.conformal import evaluate_sets\n",
    "\n",
    "# Evaluate coverage and average set size on test data\n",
    "metrics = evaluate_sets(pred_sets, y_true)"
   ]
  },
  {
   "cell_type": "markdown",
   "id": "2b569c12-9aaa-4c88-98c9-bbcd0cf3ebb8",
   "metadata": {
    "papermill": {
     "duration": 0.024776,
     "end_time": "2025-07-30T21:00:42.719877",
     "exception": false,
     "start_time": "2025-07-30T21:00:42.695101",
     "status": "completed"
    },
    "tags": []
   },
   "source": [
    "# CP Metrics"
   ]
  },
  {
   "cell_type": "code",
   "execution_count": 56,
   "id": "5ce0a5cb-201f-45a0-ade5-94c7f0bd6095",
   "metadata": {
    "execution": {
     "iopub.execute_input": "2025-07-30T21:00:42.767205Z",
     "iopub.status.busy": "2025-07-30T21:00:42.766442Z",
     "iopub.status.idle": "2025-07-30T21:00:42.774599Z",
     "shell.execute_reply": "2025-07-30T21:00:42.773741Z"
    },
    "papermill": {
     "duration": 0.034112,
     "end_time": "2025-07-30T21:00:42.776141",
     "exception": false,
     "start_time": "2025-07-30T21:00:42.742029",
     "status": "completed"
    },
    "tags": []
   },
   "outputs": [
    {
     "data": {
      "text/plain": [
       "{'coverage': 0.9106677070560696, 'avg_size': 1.1301527143016386}"
      ]
     },
     "execution_count": 56,
     "metadata": {},
     "output_type": "execute_result"
    }
   ],
   "source": [
    "metrics"
   ]
  },
  {
   "cell_type": "code",
   "execution_count": 57,
   "id": "9b9a838d-31c9-430b-ae14-12baee460d17",
   "metadata": {
    "execution": {
     "iopub.execute_input": "2025-07-30T21:00:42.826056Z",
     "iopub.status.busy": "2025-07-30T21:00:42.825469Z",
     "iopub.status.idle": "2025-07-30T21:00:42.832448Z",
     "shell.execute_reply": "2025-07-30T21:00:42.831505Z"
    },
    "papermill": {
     "duration": 0.034966,
     "end_time": "2025-07-30T21:00:42.834168",
     "exception": false,
     "start_time": "2025-07-30T21:00:42.799202",
     "status": "completed"
    },
    "tags": []
   },
   "outputs": [],
   "source": [
    "example_universe = universe.copy()\n",
    "universe_training_year = example_universe.get(\"training_year\")\n",
    "universe_training_size = example_universe.get(\"training_size\")\n",
    "universe_scale = example_universe.get(\"scale\")\n",
    "universe_model = example_universe.get(\"model\")\n",
    "universe_exclude_features = example_universe.get(\"exclude_features\")\n",
    "universe_exclude_subgroups = example_universe.get(\"exclude_subgroups\")"
   ]
  },
  {
   "cell_type": "code",
   "execution_count": 58,
   "id": "f4b6a8ac-9dc0-4245-8a91-5b3b5999c4f9",
   "metadata": {
    "execution": {
     "iopub.execute_input": "2025-07-30T21:00:42.884114Z",
     "iopub.status.busy": "2025-07-30T21:00:42.883408Z",
     "iopub.status.idle": "2025-07-30T21:00:42.890887Z",
     "shell.execute_reply": "2025-07-30T21:00:42.889957Z"
    },
    "papermill": {
     "duration": 0.033904,
     "end_time": "2025-07-30T21:00:42.892531",
     "exception": false,
     "start_time": "2025-07-30T21:00:42.858627",
     "status": "completed"
    },
    "tags": []
   },
   "outputs": [],
   "source": [
    "cp_metrics_dict = {\n",
    "    \"universe_id\": [universe_id],\n",
    "    \"universe_training_year\": [universe_training_year],\n",
    "    \"universe_training_size\": [universe_training_size],\n",
    "    \"universe_scale\": [universe_scale],\n",
    "    \"universe_model\": [universe_model],\n",
    "    \"universe_exclude_features\": [universe_exclude_features],\n",
    "    \"universe_exclude_subgroups\": [universe_exclude_subgroups],\n",
    "    \"q_hat\": [q_hat],\n",
    "    \"coverage\": [metrics[\"coverage\"]],\n",
    "    \"avg_size\": [metrics[\"avg_size\"]],\n",
    "}"
   ]
  },
  {
   "cell_type": "code",
   "execution_count": 59,
   "id": "908acbb1-0371-4915-85ca-3fa520d2efe2",
   "metadata": {
    "execution": {
     "iopub.execute_input": "2025-07-30T21:00:42.942865Z",
     "iopub.status.busy": "2025-07-30T21:00:42.942290Z",
     "iopub.status.idle": "2025-07-30T21:00:42.950298Z",
     "shell.execute_reply": "2025-07-30T21:00:42.949406Z"
    },
    "papermill": {
     "duration": 0.034753,
     "end_time": "2025-07-30T21:00:42.951872",
     "exception": false,
     "start_time": "2025-07-30T21:00:42.917119",
     "status": "completed"
    },
    "tags": []
   },
   "outputs": [
    {
     "data": {
      "text/plain": [
       "{'universe_id': ['879e5dc5a85f4f20f592797c92185d54'],\n",
       " 'universe_training_year': ['2012_14'],\n",
       " 'universe_training_size': ['5k'],\n",
       " 'universe_scale': ['scale'],\n",
       " 'universe_model': ['gbm'],\n",
       " 'universe_exclude_features': ['none'],\n",
       " 'universe_exclude_subgroups': ['drop-non-german'],\n",
       " 'q_hat': [0.7005045422834799],\n",
       " 'coverage': [0.9106677070560696],\n",
       " 'avg_size': [1.1301527143016386]}"
      ]
     },
     "execution_count": 59,
     "metadata": {},
     "output_type": "execute_result"
    }
   ],
   "source": [
    "cp_metrics_dict"
   ]
  },
  {
   "cell_type": "code",
   "execution_count": 60,
   "id": "33007efc-14e9-4ec6-97ac-56a455c82265",
   "metadata": {
    "execution": {
     "iopub.execute_input": "2025-07-30T21:00:43.000462Z",
     "iopub.status.busy": "2025-07-30T21:00:42.999638Z",
     "iopub.status.idle": "2025-07-30T21:00:43.006390Z",
     "shell.execute_reply": "2025-07-30T21:00:43.005426Z"
    },
    "papermill": {
     "duration": 0.032505,
     "end_time": "2025-07-30T21:00:43.008193",
     "exception": false,
     "start_time": "2025-07-30T21:00:42.975688",
     "status": "completed"
    },
    "tags": []
   },
   "outputs": [],
   "source": [
    "cp_metrics_df = pd.DataFrame(cp_metrics_dict)"
   ]
  },
  {
   "cell_type": "code",
   "execution_count": 61,
   "id": "db12611b-57b2-4910-b9d0-355adfd6e7bf",
   "metadata": {
    "execution": {
     "iopub.execute_input": "2025-07-30T21:00:43.060736Z",
     "iopub.status.busy": "2025-07-30T21:00:43.060222Z",
     "iopub.status.idle": "2025-07-30T21:00:43.077353Z",
     "shell.execute_reply": "2025-07-30T21:00:43.076478Z"
    },
    "papermill": {
     "duration": 0.045485,
     "end_time": "2025-07-30T21:00:43.079045",
     "exception": false,
     "start_time": "2025-07-30T21:00:43.033560",
     "status": "completed"
    },
    "tags": []
   },
   "outputs": [
    {
     "data": {
      "text/html": [
       "<div>\n",
       "<style scoped>\n",
       "    .dataframe tbody tr th:only-of-type {\n",
       "        vertical-align: middle;\n",
       "    }\n",
       "\n",
       "    .dataframe tbody tr th {\n",
       "        vertical-align: top;\n",
       "    }\n",
       "\n",
       "    .dataframe thead th {\n",
       "        text-align: right;\n",
       "    }\n",
       "</style>\n",
       "<table border=\"1\" class=\"dataframe\">\n",
       "  <thead>\n",
       "    <tr style=\"text-align: right;\">\n",
       "      <th></th>\n",
       "      <th>universe_id</th>\n",
       "      <th>universe_training_year</th>\n",
       "      <th>universe_training_size</th>\n",
       "      <th>universe_scale</th>\n",
       "      <th>universe_model</th>\n",
       "      <th>universe_exclude_features</th>\n",
       "      <th>universe_exclude_subgroups</th>\n",
       "      <th>q_hat</th>\n",
       "      <th>coverage</th>\n",
       "      <th>avg_size</th>\n",
       "    </tr>\n",
       "  </thead>\n",
       "  <tbody>\n",
       "    <tr>\n",
       "      <th>0</th>\n",
       "      <td>879e5dc5a85f4f20f592797c92185d54</td>\n",
       "      <td>2012_14</td>\n",
       "      <td>5k</td>\n",
       "      <td>scale</td>\n",
       "      <td>gbm</td>\n",
       "      <td>none</td>\n",
       "      <td>drop-non-german</td>\n",
       "      <td>0.700505</td>\n",
       "      <td>0.910668</td>\n",
       "      <td>1.130153</td>\n",
       "    </tr>\n",
       "  </tbody>\n",
       "</table>\n",
       "</div>"
      ],
      "text/plain": [
       "                        universe_id universe_training_year  \\\n",
       "0  879e5dc5a85f4f20f592797c92185d54                2012_14   \n",
       "\n",
       "  universe_training_size universe_scale universe_model  \\\n",
       "0                     5k          scale            gbm   \n",
       "\n",
       "  universe_exclude_features universe_exclude_subgroups     q_hat  coverage  \\\n",
       "0                      none            drop-non-german  0.700505  0.910668   \n",
       "\n",
       "   avg_size  \n",
       "0  1.130153  "
      ]
     },
     "execution_count": 61,
     "metadata": {},
     "output_type": "execute_result"
    }
   ],
   "source": [
    "cp_metrics_df"
   ]
  },
  {
   "cell_type": "code",
   "execution_count": 62,
   "id": "b7fbde55-a0a1-47e4-9af6-fe4a17fa8c61",
   "metadata": {
    "execution": {
     "iopub.execute_input": "2025-07-30T21:00:43.131887Z",
     "iopub.status.busy": "2025-07-30T21:00:43.131236Z",
     "iopub.status.idle": "2025-07-30T21:00:43.136394Z",
     "shell.execute_reply": "2025-07-30T21:00:43.135467Z"
    },
    "papermill": {
     "duration": 0.033339,
     "end_time": "2025-07-30T21:00:43.138029",
     "exception": false,
     "start_time": "2025-07-30T21:00:43.104690",
     "status": "completed"
    },
    "tags": []
   },
   "outputs": [],
   "source": [
    "# Conditional Coverage & looking at subgroups"
   ]
  },
  {
   "cell_type": "code",
   "execution_count": 63,
   "id": "027ae886-68dd-4141-96c7-805a5450e1ef",
   "metadata": {
    "execution": {
     "iopub.execute_input": "2025-07-30T21:00:43.197732Z",
     "iopub.status.busy": "2025-07-30T21:00:43.197253Z",
     "iopub.status.idle": "2025-07-30T21:00:43.476388Z",
     "shell.execute_reply": "2025-07-30T21:00:43.475358Z"
    },
    "papermill": {
     "duration": 0.314272,
     "end_time": "2025-07-30T21:00:43.478153",
     "exception": false,
     "start_time": "2025-07-30T21:00:43.163881",
     "status": "completed"
    },
    "tags": []
   },
   "outputs": [],
   "source": [
    "from fairness_multiverse.conformal import build_cp_groups\n",
    "\n",
    "cp_groups_df = build_cp_groups(pred_sets, y_true, X_test.index, org_test)\n",
    "#needs universe_id and setting"
   ]
  },
  {
   "cell_type": "code",
   "execution_count": 64,
   "id": "01d5802c-663a-4d1f-9d69-e036faaffbf7",
   "metadata": {
    "execution": {
     "iopub.execute_input": "2025-07-30T21:00:43.531467Z",
     "iopub.status.busy": "2025-07-30T21:00:43.530790Z",
     "iopub.status.idle": "2025-07-30T21:00:43.536957Z",
     "shell.execute_reply": "2025-07-30T21:00:43.534723Z"
    },
    "papermill": {
     "duration": 0.035014,
     "end_time": "2025-07-30T21:00:43.538419",
     "exception": false,
     "start_time": "2025-07-30T21:00:43.503405",
     "status": "completed"
    },
    "tags": []
   },
   "outputs": [],
   "source": [
    "#delete\n",
    "#cp_groups_df"
   ]
  },
  {
   "cell_type": "code",
   "execution_count": 65,
   "id": "fa424af1-d1eb-443d-b717-2d279ada8408",
   "metadata": {
    "execution": {
     "iopub.execute_input": "2025-07-30T21:00:43.594259Z",
     "iopub.status.busy": "2025-07-30T21:00:43.593595Z",
     "iopub.status.idle": "2025-07-30T21:00:43.599346Z",
     "shell.execute_reply": "2025-07-30T21:00:43.598366Z"
    },
    "papermill": {
     "duration": 0.034945,
     "end_time": "2025-07-30T21:00:43.601156",
     "exception": false,
     "start_time": "2025-07-30T21:00:43.566211",
     "status": "completed"
    },
    "tags": []
   },
   "outputs": [],
   "source": [
    "#delete\n",
    "#percentage = (cp_groups_df['nongerman_female'] == 1).mean() * 100\n",
    "#print(percentage)\n"
   ]
  },
  {
   "cell_type": "code",
   "execution_count": 66,
   "id": "6cbdab96-b2b2-45af-ad54-d0516db2e28d",
   "metadata": {
    "execution": {
     "iopub.execute_input": "2025-07-30T21:00:43.656640Z",
     "iopub.status.busy": "2025-07-30T21:00:43.655858Z",
     "iopub.status.idle": "2025-07-30T21:00:45.386121Z",
     "shell.execute_reply": "2025-07-30T21:00:45.385001Z"
    },
    "papermill": {
     "duration": 1.761048,
     "end_time": "2025-07-30T21:00:45.388686",
     "exception": false,
     "start_time": "2025-07-30T21:00:43.627638",
     "status": "completed"
    },
    "tags": []
   },
   "outputs": [],
   "source": [
    "# Define covered = 1 if true_label is in the predicted set\n",
    "cp_groups_df['covered'] = cp_groups_df.apply(\n",
    "    lambda r: int(r['true_label'] in r['pred_set']),\n",
    "    axis=1\n",
    ")"
   ]
  },
  {
   "cell_type": "code",
   "execution_count": 67,
   "id": "338ff529-1a6b-4b87-a931-8e4788d52aad",
   "metadata": {
    "execution": {
     "iopub.execute_input": "2025-07-30T21:00:45.468844Z",
     "iopub.status.busy": "2025-07-30T21:00:45.467667Z",
     "iopub.status.idle": "2025-07-30T21:00:45.474023Z",
     "shell.execute_reply": "2025-07-30T21:00:45.472946Z"
    },
    "papermill": {
     "duration": 0.048133,
     "end_time": "2025-07-30T21:00:45.475987",
     "exception": false,
     "start_time": "2025-07-30T21:00:45.427854",
     "status": "completed"
    },
    "tags": []
   },
   "outputs": [],
   "source": [
    "#cp_groups_df"
   ]
  },
  {
   "cell_type": "code",
   "execution_count": 68,
   "id": "90032e27-66df-4540-9169-4e89cfbaa758",
   "metadata": {
    "execution": {
     "iopub.execute_input": "2025-07-30T21:00:45.545461Z",
     "iopub.status.busy": "2025-07-30T21:00:45.544790Z",
     "iopub.status.idle": "2025-07-30T21:00:45.558980Z",
     "shell.execute_reply": "2025-07-30T21:00:45.557635Z"
    },
    "papermill": {
     "duration": 0.052618,
     "end_time": "2025-07-30T21:00:45.560968",
     "exception": false,
     "start_time": "2025-07-30T21:00:45.508350",
     "status": "completed"
    },
    "tags": []
   },
   "outputs": [],
   "source": [
    "subgroups = ['frau1','nongerman','nongerman_male','nongerman_female']\n",
    "\n",
    "# Conditional coverage for subgroup==1\n",
    "cond_coverage = {\n",
    "    g: cp_groups_df.loc[cp_groups_df[g]==1, 'covered'].mean()\n",
    "    for g in subgroups\n",
    "}"
   ]
  },
  {
   "cell_type": "code",
   "execution_count": 69,
   "id": "1e348fb1-b9c3-45bc-ba23-f016827a7e0d",
   "metadata": {
    "execution": {
     "iopub.execute_input": "2025-07-30T21:00:45.617514Z",
     "iopub.status.busy": "2025-07-30T21:00:45.616548Z",
     "iopub.status.idle": "2025-07-30T21:00:45.624449Z",
     "shell.execute_reply": "2025-07-30T21:00:45.623336Z"
    },
    "papermill": {
     "duration": 0.037948,
     "end_time": "2025-07-30T21:00:45.626409",
     "exception": false,
     "start_time": "2025-07-30T21:00:45.588461",
     "status": "completed"
    },
    "tags": []
   },
   "outputs": [
    {
     "data": {
      "text/plain": [
       "{'frau1': 0.9050276317563014,\n",
       " 'nongerman': 0.9052938864873968,\n",
       " 'nongerman_male': 0.9228136539673962,\n",
       " 'nongerman_female': 0.8763040238450075}"
      ]
     },
     "execution_count": 69,
     "metadata": {},
     "output_type": "execute_result"
    }
   ],
   "source": [
    "cond_coverage"
   ]
  },
  {
   "cell_type": "code",
   "execution_count": 70,
   "id": "f5093324-c3dd-4d63-bc4c-8d945e5c8bbb",
   "metadata": {
    "execution": {
     "iopub.execute_input": "2025-07-30T21:00:45.692044Z",
     "iopub.status.busy": "2025-07-30T21:00:45.691337Z",
     "iopub.status.idle": "2025-07-30T21:00:45.699785Z",
     "shell.execute_reply": "2025-07-30T21:00:45.698511Z"
    },
    "papermill": {
     "duration": 0.039861,
     "end_time": "2025-07-30T21:00:45.701993",
     "exception": false,
     "start_time": "2025-07-30T21:00:45.662132",
     "status": "completed"
    },
    "tags": []
   },
   "outputs": [],
   "source": [
    "for subgroup, cov in cond_coverage.items():\n",
    "    cp_metrics_df[f\"cov_{subgroup}\"] = cov"
   ]
  },
  {
   "cell_type": "code",
   "execution_count": 71,
   "id": "6e872e10-dbe5-49e8-b554-5030c98ff75d",
   "metadata": {
    "execution": {
     "iopub.execute_input": "2025-07-30T21:00:45.758541Z",
     "iopub.status.busy": "2025-07-30T21:00:45.757367Z",
     "iopub.status.idle": "2025-07-30T21:00:45.777638Z",
     "shell.execute_reply": "2025-07-30T21:00:45.776673Z"
    },
    "papermill": {
     "duration": 0.049086,
     "end_time": "2025-07-30T21:00:45.779230",
     "exception": false,
     "start_time": "2025-07-30T21:00:45.730144",
     "status": "completed"
    },
    "tags": []
   },
   "outputs": [
    {
     "data": {
      "text/html": [
       "<div>\n",
       "<style scoped>\n",
       "    .dataframe tbody tr th:only-of-type {\n",
       "        vertical-align: middle;\n",
       "    }\n",
       "\n",
       "    .dataframe tbody tr th {\n",
       "        vertical-align: top;\n",
       "    }\n",
       "\n",
       "    .dataframe thead th {\n",
       "        text-align: right;\n",
       "    }\n",
       "</style>\n",
       "<table border=\"1\" class=\"dataframe\">\n",
       "  <thead>\n",
       "    <tr style=\"text-align: right;\">\n",
       "      <th></th>\n",
       "      <th>universe_id</th>\n",
       "      <th>universe_training_year</th>\n",
       "      <th>universe_training_size</th>\n",
       "      <th>universe_scale</th>\n",
       "      <th>universe_model</th>\n",
       "      <th>universe_exclude_features</th>\n",
       "      <th>universe_exclude_subgroups</th>\n",
       "      <th>q_hat</th>\n",
       "      <th>coverage</th>\n",
       "      <th>avg_size</th>\n",
       "      <th>cov_frau1</th>\n",
       "      <th>cov_nongerman</th>\n",
       "      <th>cov_nongerman_male</th>\n",
       "      <th>cov_nongerman_female</th>\n",
       "    </tr>\n",
       "  </thead>\n",
       "  <tbody>\n",
       "    <tr>\n",
       "      <th>0</th>\n",
       "      <td>879e5dc5a85f4f20f592797c92185d54</td>\n",
       "      <td>2012_14</td>\n",
       "      <td>5k</td>\n",
       "      <td>scale</td>\n",
       "      <td>gbm</td>\n",
       "      <td>none</td>\n",
       "      <td>drop-non-german</td>\n",
       "      <td>0.700505</td>\n",
       "      <td>0.910668</td>\n",
       "      <td>1.130153</td>\n",
       "      <td>0.905028</td>\n",
       "      <td>0.905294</td>\n",
       "      <td>0.922814</td>\n",
       "      <td>0.876304</td>\n",
       "    </tr>\n",
       "  </tbody>\n",
       "</table>\n",
       "</div>"
      ],
      "text/plain": [
       "                        universe_id universe_training_year  \\\n",
       "0  879e5dc5a85f4f20f592797c92185d54                2012_14   \n",
       "\n",
       "  universe_training_size universe_scale universe_model  \\\n",
       "0                     5k          scale            gbm   \n",
       "\n",
       "  universe_exclude_features universe_exclude_subgroups     q_hat  coverage  \\\n",
       "0                      none            drop-non-german  0.700505  0.910668   \n",
       "\n",
       "   avg_size  cov_frau1  cov_nongerman  cov_nongerman_male  \\\n",
       "0  1.130153   0.905028       0.905294            0.922814   \n",
       "\n",
       "   cov_nongerman_female  \n",
       "0              0.876304  "
      ]
     },
     "execution_count": 71,
     "metadata": {},
     "output_type": "execute_result"
    }
   ],
   "source": [
    "cp_metrics_df"
   ]
  },
  {
   "cell_type": "markdown",
   "id": "33774451",
   "metadata": {
    "papermill": {
     "duration": 0.027283,
     "end_time": "2025-07-30T21:00:45.832457",
     "exception": false,
     "start_time": "2025-07-30T21:00:45.805174",
     "status": "completed"
    },
    "tags": []
   },
   "source": [
    "# (Fairness) Metrics"
   ]
  },
  {
   "cell_type": "code",
   "execution_count": 72,
   "id": "debc5d62",
   "metadata": {
    "execution": {
     "iopub.execute_input": "2025-07-30T21:00:45.870617Z",
     "iopub.status.busy": "2025-07-30T21:00:45.870174Z",
     "iopub.status.idle": "2025-07-30T21:00:45.892831Z",
     "shell.execute_reply": "2025-07-30T21:00:45.891665Z"
    },
    "papermill": {
     "duration": 0.041673,
     "end_time": "2025-07-30T21:00:45.894967",
     "exception": false,
     "start_time": "2025-07-30T21:00:45.853294",
     "status": "completed"
    },
    "tags": []
   },
   "outputs": [],
   "source": [
    "# do I need to include maxdeutsch1.missing?\n",
    "\n",
    "import numpy as np\n",
    "\n",
    "colname_to_bin = \"maxdeutsch1\"\n",
    "majority_value = org_train[colname_to_bin].mode()[0]\n",
    "\n",
    "org_test[\"majmin\"] = np.where(org_test[colname_to_bin] == majority_value, \"majority\", \"minority\")"
   ]
  },
  {
   "cell_type": "code",
   "execution_count": 73,
   "id": "06a50de5",
   "metadata": {
    "execution": {
     "iopub.execute_input": "2025-07-30T21:00:45.965800Z",
     "iopub.status.busy": "2025-07-30T21:00:45.965114Z",
     "iopub.status.idle": "2025-07-30T21:00:48.126451Z",
     "shell.execute_reply": "2025-07-30T21:00:48.125441Z"
    },
    "papermill": {
     "duration": 2.198871,
     "end_time": "2025-07-30T21:00:48.128481",
     "exception": false,
     "start_time": "2025-07-30T21:00:45.929610",
     "status": "completed"
    },
    "tags": []
   },
   "outputs": [],
   "source": [
    "example_universe = universe.copy()\n",
    "example_universe[\"cutoff\"] = example_universe[\"cutoff\"][0]\n",
    "example_universe[\"eval_fairness_grouping\"] = example_universe[\"eval_fairness_grouping\"][0]\n",
    "fairness_dict, metric_frame = universe_analysis.compute_metrics(\n",
    "    example_universe,\n",
    "    y_pred_prob=probs_test,\n",
    "    y_test=y_true,\n",
    "    org_test=org_test,\n",
    ")"
   ]
  },
  {
   "cell_type": "markdown",
   "id": "f95d4e02",
   "metadata": {
    "papermill": {
     "duration": 0.027523,
     "end_time": "2025-07-30T21:00:48.184589",
     "exception": false,
     "start_time": "2025-07-30T21:00:48.157066",
     "status": "completed"
    },
    "tags": []
   },
   "source": [
    "# Overall"
   ]
  },
  {
   "cell_type": "markdown",
   "id": "bdee4871",
   "metadata": {
    "papermill": {
     "duration": 0.027394,
     "end_time": "2025-07-30T21:00:48.238438",
     "exception": false,
     "start_time": "2025-07-30T21:00:48.211044",
     "status": "completed"
    },
    "tags": []
   },
   "source": [
    "Fairness\n",
    "Main fairness target: Equalized Odds. Seems to be a better fit than equal opportunity, since we're not only interested in Y = 1. Seems to be a better fit than demographic parity, since we also care about accuracy, not just equal distribution of preds.\n",
    "\n",
    "Pick column for computation of fairness metrics\n",
    "\n",
    "Performance\n",
    "Overall performance measures, most interesting in relation to the measures split by group below"
   ]
  },
  {
   "cell_type": "code",
   "execution_count": 74,
   "id": "c4e067c6",
   "metadata": {
    "execution": {
     "iopub.execute_input": "2025-07-30T21:00:48.294118Z",
     "iopub.status.busy": "2025-07-30T21:00:48.293149Z",
     "iopub.status.idle": "2025-07-30T21:00:48.303209Z",
     "shell.execute_reply": "2025-07-30T21:00:48.302219Z"
    },
    "papermill": {
     "duration": 0.039424,
     "end_time": "2025-07-30T21:00:48.304943",
     "exception": false,
     "start_time": "2025-07-30T21:00:48.265519",
     "status": "completed"
    },
    "tags": []
   },
   "outputs": [
    {
     "data": {
      "text/plain": [
       "accuracy                   0.224869\n",
       "balanced accuracy          0.549732\n",
       "f1                         0.246187\n",
       "precision                  0.140638\n",
       "false positive rate        0.887241\n",
       "false negative rate        0.013295\n",
       "selection rate             0.900000\n",
       "count                  89710.000000\n",
       "dtype: float64"
      ]
     },
     "execution_count": 74,
     "metadata": {},
     "output_type": "execute_result"
    }
   ],
   "source": [
    "metric_frame.overall"
   ]
  },
  {
   "cell_type": "markdown",
   "id": "e968fe9d",
   "metadata": {
    "papermill": {
     "duration": 0.026301,
     "end_time": "2025-07-30T21:00:48.359196",
     "exception": false,
     "start_time": "2025-07-30T21:00:48.332895",
     "status": "completed"
    },
    "tags": []
   },
   "source": [
    "By Group"
   ]
  },
  {
   "cell_type": "code",
   "execution_count": 75,
   "id": "ec325bce",
   "metadata": {
    "execution": {
     "iopub.execute_input": "2025-07-30T21:00:48.417818Z",
     "iopub.status.busy": "2025-07-30T21:00:48.416766Z",
     "iopub.status.idle": "2025-07-30T21:00:48.434653Z",
     "shell.execute_reply": "2025-07-30T21:00:48.433501Z"
    },
    "papermill": {
     "duration": 0.049584,
     "end_time": "2025-07-30T21:00:48.436776",
     "exception": false,
     "start_time": "2025-07-30T21:00:48.387192",
     "status": "completed"
    },
    "tags": []
   },
   "outputs": [
    {
     "data": {
      "text/html": [
       "<div>\n",
       "<style scoped>\n",
       "    .dataframe tbody tr th:only-of-type {\n",
       "        vertical-align: middle;\n",
       "    }\n",
       "\n",
       "    .dataframe tbody tr th {\n",
       "        vertical-align: top;\n",
       "    }\n",
       "\n",
       "    .dataframe thead th {\n",
       "        text-align: right;\n",
       "    }\n",
       "</style>\n",
       "<table border=\"1\" class=\"dataframe\">\n",
       "  <thead>\n",
       "    <tr style=\"text-align: right;\">\n",
       "      <th></th>\n",
       "      <th>accuracy</th>\n",
       "      <th>balanced accuracy</th>\n",
       "      <th>f1</th>\n",
       "      <th>precision</th>\n",
       "      <th>false positive rate</th>\n",
       "      <th>false negative rate</th>\n",
       "      <th>selection rate</th>\n",
       "      <th>count</th>\n",
       "    </tr>\n",
       "    <tr>\n",
       "      <th>majmin</th>\n",
       "      <th></th>\n",
       "      <th></th>\n",
       "      <th></th>\n",
       "      <th></th>\n",
       "      <th></th>\n",
       "      <th></th>\n",
       "      <th></th>\n",
       "      <th></th>\n",
       "    </tr>\n",
       "  </thead>\n",
       "  <tbody>\n",
       "    <tr>\n",
       "      <th>majority</th>\n",
       "      <td>0.247969</td>\n",
       "      <td>0.560055</td>\n",
       "      <td>0.256992</td>\n",
       "      <td>0.147790</td>\n",
       "      <td>0.864135</td>\n",
       "      <td>0.015755</td>\n",
       "      <td>0.880006</td>\n",
       "      <td>69170.0</td>\n",
       "    </tr>\n",
       "    <tr>\n",
       "      <th>minority</th>\n",
       "      <td>0.147079</td>\n",
       "      <td>0.516314</td>\n",
       "      <td>0.212169</td>\n",
       "      <td>0.118728</td>\n",
       "      <td>0.963570</td>\n",
       "      <td>0.003801</td>\n",
       "      <td>0.967332</td>\n",
       "      <td>20540.0</td>\n",
       "    </tr>\n",
       "  </tbody>\n",
       "</table>\n",
       "</div>"
      ],
      "text/plain": [
       "          accuracy  balanced accuracy        f1  precision  \\\n",
       "majmin                                                       \n",
       "majority  0.247969           0.560055  0.256992   0.147790   \n",
       "minority  0.147079           0.516314  0.212169   0.118728   \n",
       "\n",
       "          false positive rate  false negative rate  selection rate    count  \n",
       "majmin                                                                       \n",
       "majority             0.864135             0.015755        0.880006  69170.0  \n",
       "minority             0.963570             0.003801        0.967332  20540.0  "
      ]
     },
     "execution_count": 75,
     "metadata": {},
     "output_type": "execute_result"
    }
   ],
   "source": [
    "metric_frame.by_group"
   ]
  },
  {
   "cell_type": "code",
   "execution_count": 76,
   "id": "a9ddbe63",
   "metadata": {
    "execution": {
     "iopub.execute_input": "2025-07-30T21:00:48.508631Z",
     "iopub.status.busy": "2025-07-30T21:00:48.507899Z",
     "iopub.status.idle": "2025-07-30T21:00:50.805887Z",
     "shell.execute_reply": "2025-07-30T21:00:50.805053Z"
    },
    "papermill": {
     "duration": 2.335021,
     "end_time": "2025-07-30T21:00:50.807230",
     "exception": false,
     "start_time": "2025-07-30T21:00:48.472209",
     "status": "completed"
    },
    "tags": []
   },
   "outputs": [
    {
     "data": {
      "text/plain": [
       "array([[<Axes: title={'center': 'accuracy'}, xlabel='majmin'>,\n",
       "        <Axes: title={'center': 'balanced accuracy'}, xlabel='majmin'>,\n",
       "        <Axes: title={'center': 'f1'}, xlabel='majmin'>],\n",
       "       [<Axes: title={'center': 'precision'}, xlabel='majmin'>,\n",
       "        <Axes: title={'center': 'false positive rate'}, xlabel='majmin'>,\n",
       "        <Axes: title={'center': 'false negative rate'}, xlabel='majmin'>],\n",
       "       [<Axes: title={'center': 'selection rate'}, xlabel='majmin'>,\n",
       "        <Axes: title={'center': 'count'}, xlabel='majmin'>,\n",
       "        <Axes: xlabel='majmin'>]], dtype=object)"
      ]
     },
     "execution_count": 76,
     "metadata": {},
     "output_type": "execute_result"
    },
    {
     "data": {
      "image/png": "[encoded data removed]",
      "text/plain": [
       "<Figure size 1200x800 with 9 Axes>"
      ]
     },
     "metadata": {},
     "output_type": "display_data"
    }
   ],
   "source": [
    "# In a graphic\n",
    "metric_frame.by_group.plot.bar(\n",
    "    subplots=True,\n",
    "    layout=[3, 3],\n",
    "    legend=False,\n",
    "    figsize=[12, 8],\n",
    "    title=\"Show all metrics\",\n",
    ")"
   ]
  },
  {
   "cell_type": "markdown",
   "id": "f57a0bac",
   "metadata": {
    "papermill": {
     "duration": 0.016412,
     "end_time": "2025-07-30T21:00:50.842653",
     "exception": false,
     "start_time": "2025-07-30T21:00:50.826241",
     "status": "completed"
    },
    "tags": []
   },
   "source": [
    "# Final Output"
   ]
  },
  {
   "cell_type": "code",
   "execution_count": 77,
   "id": "96d280a3",
   "metadata": {
    "execution": {
     "iopub.execute_input": "2025-07-30T21:00:50.875111Z",
     "iopub.status.busy": "2025-07-30T21:00:50.874554Z",
     "iopub.status.idle": "2025-07-30T21:00:50.882773Z",
     "shell.execute_reply": "2025-07-30T21:00:50.882065Z"
    },
    "papermill": {
     "duration": 0.02619,
     "end_time": "2025-07-30T21:00:50.884108",
     "exception": false,
     "start_time": "2025-07-30T21:00:50.857918",
     "status": "completed"
    },
    "tags": []
   },
   "outputs": [
    {
     "data": {
      "text/plain": [
       "4"
      ]
     },
     "execution_count": 77,
     "metadata": {},
     "output_type": "execute_result"
    }
   ],
   "source": [
    "sub_universes = universe_analysis.generate_sub_universes()\n",
    "len(sub_universes)"
   ]
  },
  {
   "cell_type": "code",
   "execution_count": 78,
   "id": "92adf7ba",
   "metadata": {
    "execution": {
     "iopub.execute_input": "2025-07-30T21:00:50.916633Z",
     "iopub.status.busy": "2025-07-30T21:00:50.916072Z",
     "iopub.status.idle": "2025-07-30T21:00:50.921375Z",
     "shell.execute_reply": "2025-07-30T21:00:50.920642Z"
    },
    "papermill": {
     "duration": 0.022672,
     "end_time": "2025-07-30T21:00:50.922554",
     "exception": false,
     "start_time": "2025-07-30T21:00:50.899882",
     "status": "completed"
    },
    "tags": []
   },
   "outputs": [],
   "source": [
    "def filter_sub_universe_data(sub_universe, org_test):\n",
    "    # Keep all rows — no filtering\n",
    "    keep_rows_mask = np.ones(org_test.shape[0], dtype=bool)\n",
    "\n",
    "    print(f\"[INFO] Keeping all rows: {keep_rows_mask.sum()} rows retained.\")\n",
    "    return keep_rows_mask"
   ]
  },
  {
   "cell_type": "code",
   "execution_count": 79,
   "id": "4a759155",
   "metadata": {
    "execution": {
     "iopub.execute_input": "2025-07-30T21:00:50.958551Z",
     "iopub.status.busy": "2025-07-30T21:00:50.958191Z",
     "iopub.status.idle": "2025-07-30T21:00:59.432678Z",
     "shell.execute_reply": "2025-07-30T21:00:59.431679Z"
    },
    "papermill": {
     "duration": 8.495405,
     "end_time": "2025-07-30T21:00:59.434334",
     "exception": false,
     "start_time": "2025-07-30T21:00:50.938929",
     "status": "completed"
    },
    "tags": []
   },
   "outputs": [
    {
     "name": "stdout",
     "output_type": "stream",
     "text": [
      "Stopping execution_time clock.\n",
      "[INFO] Keeping all rows: 89710 rows retained.\n"
     ]
    },
    {
     "name": "stdout",
     "output_type": "stream",
     "text": [
      "[INFO] Keeping all rows: 89710 rows retained.\n"
     ]
    },
    {
     "name": "stdout",
     "output_type": "stream",
     "text": [
      "[INFO] Keeping all rows: 89710 rows retained.\n"
     ]
    },
    {
     "name": "stdout",
     "output_type": "stream",
     "text": [
      "[INFO] Keeping all rows: 89710 rows retained.\n"
     ]
    },
    {
     "data": {
      "text/html": [
       "<div>\n",
       "<style scoped>\n",
       "    .dataframe tbody tr th:only-of-type {\n",
       "        vertical-align: middle;\n",
       "    }\n",
       "\n",
       "    .dataframe tbody tr th {\n",
       "        vertical-align: top;\n",
       "    }\n",
       "\n",
       "    .dataframe thead th {\n",
       "        text-align: right;\n",
       "    }\n",
       "</style>\n",
       "<table border=\"1\" class=\"dataframe\">\n",
       "  <thead>\n",
       "    <tr style=\"text-align: right;\">\n",
       "      <th></th>\n",
       "      <th>run_no</th>\n",
       "      <th>universe_id</th>\n",
       "      <th>universe_settings</th>\n",
       "      <th>execution_time</th>\n",
       "      <th>test_size_n</th>\n",
       "      <th>test_size_frac</th>\n",
       "      <th>fair_main_equalized_odds_difference</th>\n",
       "      <th>fair_main_equalized_odds_ratio</th>\n",
       "      <th>fair_main_demographic_parity_difference</th>\n",
       "      <th>fair_main_demographic_parity_ratio</th>\n",
       "      <th>...</th>\n",
       "      <th>perf_grp_precision_0</th>\n",
       "      <th>perf_grp_precision_1</th>\n",
       "      <th>perf_grp_false positive rate_0</th>\n",
       "      <th>perf_grp_false positive rate_1</th>\n",
       "      <th>perf_grp_false negative rate_0</th>\n",
       "      <th>perf_grp_false negative rate_1</th>\n",
       "      <th>perf_grp_selection rate_0</th>\n",
       "      <th>perf_grp_selection rate_1</th>\n",
       "      <th>perf_grp_count_0</th>\n",
       "      <th>perf_grp_count_1</th>\n",
       "    </tr>\n",
       "  </thead>\n",
       "  <tbody>\n",
       "    <tr>\n",
       "      <th>0</th>\n",
       "      <td>14</td>\n",
       "      <td>879e5dc5a85f4f20f592797c92185d54</td>\n",
       "      <td>{\"cutoff\": \"quantile_0.1\", \"eval_fairness_grou...</td>\n",
       "      <td>33.078636</td>\n",
       "      <td>89710</td>\n",
       "      <td>1.0</td>\n",
       "      <td>0.099436</td>\n",
       "      <td>0.896805</td>\n",
       "      <td>0.087326</td>\n",
       "      <td>0.909725</td>\n",
       "      <td>...</td>\n",
       "      <td>NaN</td>\n",
       "      <td>NaN</td>\n",
       "      <td>NaN</td>\n",
       "      <td>NaN</td>\n",
       "      <td>NaN</td>\n",
       "      <td>NaN</td>\n",
       "      <td>NaN</td>\n",
       "      <td>NaN</td>\n",
       "      <td>NaN</td>\n",
       "      <td>NaN</td>\n",
       "    </tr>\n",
       "    <tr>\n",
       "      <th>0</th>\n",
       "      <td>14</td>\n",
       "      <td>879e5dc5a85f4f20f592797c92185d54</td>\n",
       "      <td>{\"cutoff\": \"quantile_0.1\", \"eval_fairness_grou...</td>\n",
       "      <td>33.078636</td>\n",
       "      <td>89710</td>\n",
       "      <td>1.0</td>\n",
       "      <td>0.099436</td>\n",
       "      <td>0.896805</td>\n",
       "      <td>0.087326</td>\n",
       "      <td>0.909725</td>\n",
       "      <td>...</td>\n",
       "      <td>0.118728</td>\n",
       "      <td>0.147790</td>\n",
       "      <td>0.963570</td>\n",
       "      <td>0.864135</td>\n",
       "      <td>0.003801</td>\n",
       "      <td>0.015755</td>\n",
       "      <td>0.967332</td>\n",
       "      <td>0.880006</td>\n",
       "      <td>20540.0</td>\n",
       "      <td>69170.0</td>\n",
       "    </tr>\n",
       "    <tr>\n",
       "      <th>0</th>\n",
       "      <td>14</td>\n",
       "      <td>879e5dc5a85f4f20f592797c92185d54</td>\n",
       "      <td>{\"cutoff\": \"quantile_0.25\", \"eval_fairness_gro...</td>\n",
       "      <td>33.078636</td>\n",
       "      <td>89710</td>\n",
       "      <td>1.0</td>\n",
       "      <td>0.102053</td>\n",
       "      <td>0.872464</td>\n",
       "      <td>0.084891</td>\n",
       "      <td>0.895901</td>\n",
       "      <td>...</td>\n",
       "      <td>NaN</td>\n",
       "      <td>NaN</td>\n",
       "      <td>NaN</td>\n",
       "      <td>NaN</td>\n",
       "      <td>NaN</td>\n",
       "      <td>NaN</td>\n",
       "      <td>NaN</td>\n",
       "      <td>NaN</td>\n",
       "      <td>NaN</td>\n",
       "      <td>NaN</td>\n",
       "    </tr>\n",
       "    <tr>\n",
       "      <th>0</th>\n",
       "      <td>14</td>\n",
       "      <td>879e5dc5a85f4f20f592797c92185d54</td>\n",
       "      <td>{\"cutoff\": \"quantile_0.25\", \"eval_fairness_gro...</td>\n",
       "      <td>33.078636</td>\n",
       "      <td>89710</td>\n",
       "      <td>1.0</td>\n",
       "      <td>0.102053</td>\n",
       "      <td>0.872464</td>\n",
       "      <td>0.084891</td>\n",
       "      <td>0.895901</td>\n",
       "      <td>...</td>\n",
       "      <td>0.131881</td>\n",
       "      <td>0.170694</td>\n",
       "      <td>0.800187</td>\n",
       "      <td>0.698134</td>\n",
       "      <td>0.067145</td>\n",
       "      <td>0.056236</td>\n",
       "      <td>0.815482</td>\n",
       "      <td>0.730591</td>\n",
       "      <td>20540.0</td>\n",
       "      <td>69170.0</td>\n",
       "    </tr>\n",
       "  </tbody>\n",
       "</table>\n",
       "<p>4 rows × 50 columns</p>\n",
       "</div>"
      ],
      "text/plain": [
       "  run_no                       universe_id  \\\n",
       "0     14  879e5dc5a85f4f20f592797c92185d54   \n",
       "0     14  879e5dc5a85f4f20f592797c92185d54   \n",
       "0     14  879e5dc5a85f4f20f592797c92185d54   \n",
       "0     14  879e5dc5a85f4f20f592797c92185d54   \n",
       "\n",
       "                                   universe_settings  execution_time  \\\n",
       "0  {\"cutoff\": \"quantile_0.1\", \"eval_fairness_grou...       33.078636   \n",
       "0  {\"cutoff\": \"quantile_0.1\", \"eval_fairness_grou...       33.078636   \n",
       "0  {\"cutoff\": \"quantile_0.25\", \"eval_fairness_gro...       33.078636   \n",
       "0  {\"cutoff\": \"quantile_0.25\", \"eval_fairness_gro...       33.078636   \n",
       "\n",
       "   test_size_n  test_size_frac  fair_main_equalized_odds_difference  \\\n",
       "0        89710             1.0                             0.099436   \n",
       "0        89710             1.0                             0.099436   \n",
       "0        89710             1.0                             0.102053   \n",
       "0        89710             1.0                             0.102053   \n",
       "\n",
       "   fair_main_equalized_odds_ratio  fair_main_demographic_parity_difference  \\\n",
       "0                        0.896805                                 0.087326   \n",
       "0                        0.896805                                 0.087326   \n",
       "0                        0.872464                                 0.084891   \n",
       "0                        0.872464                                 0.084891   \n",
       "\n",
       "   fair_main_demographic_parity_ratio  ...  perf_grp_precision_0  \\\n",
       "0                            0.909725  ...                   NaN   \n",
       "0                            0.909725  ...              0.118728   \n",
       "0                            0.895901  ...                   NaN   \n",
       "0                            0.895901  ...              0.131881   \n",
       "\n",
       "   perf_grp_precision_1  perf_grp_false positive rate_0  \\\n",
       "0                   NaN                             NaN   \n",
       "0              0.147790                        0.963570   \n",
       "0                   NaN                             NaN   \n",
       "0              0.170694                        0.800187   \n",
       "\n",
       "   perf_grp_false positive rate_1  perf_grp_false negative rate_0  \\\n",
       "0                             NaN                             NaN   \n",
       "0                        0.864135                        0.003801   \n",
       "0                             NaN                             NaN   \n",
       "0                        0.698134                        0.067145   \n",
       "\n",
       "   perf_grp_false negative rate_1  perf_grp_selection rate_0  \\\n",
       "0                             NaN                        NaN   \n",
       "0                        0.015755                   0.967332   \n",
       "0                             NaN                        NaN   \n",
       "0                        0.056236                   0.815482   \n",
       "\n",
       "   perf_grp_selection rate_1  perf_grp_count_0  perf_grp_count_1  \n",
       "0                        NaN               NaN               NaN  \n",
       "0                   0.880006           20540.0           69170.0  \n",
       "0                        NaN               NaN               NaN  \n",
       "0                   0.730591           20540.0           69170.0  \n",
       "\n",
       "[4 rows x 50 columns]"
      ]
     },
     "execution_count": 79,
     "metadata": {},
     "output_type": "execute_result"
    }
   ],
   "source": [
    "final_output = universe_analysis.generate_final_output(\n",
    "    y_pred_prob=probs_test,\n",
    "    y_test=y_true,\n",
    "    org_test=org_test,\n",
    "    filter_data=filter_sub_universe_data,\n",
    "    cp_metrics_df=cp_metrics_df,\n",
    "    save=True,\n",
    ")\n",
    "final_output"
   ]
  },
  {
   "cell_type": "code",
   "execution_count": null,
   "id": "721ff514-cb11-46f8-b6fc-50392f74b5cb",
   "metadata": {
    "papermill": {
     "duration": 0.031979,
     "end_time": "2025-07-30T21:00:59.498697",
     "exception": false,
     "start_time": "2025-07-30T21:00:59.466718",
     "status": "completed"
    },
    "tags": []
   },
   "outputs": [],
   "source": []
  }
 ],
 "metadata": {
  "celltoolbar": "Tags",
  "kernelspec": {
   "display_name": "Python (CMA Fairness)",
   "language": "python",
   "name": "cma_fair_env"
  },
  "language_info": {
   "codemirror_mode": {
    "name": "ipython",
    "version": 3
   },
   "file_extension": ".py",
   "mimetype": "text/x-python",
   "name": "python",
   "nbconvert_exporter": "python",
   "pygments_lexer": "ipython3",
   "version": "3.10.12"
  },
  "papermill": {
   "default_parameters": {},
   "duration": 47.068582,
   "end_time": "2025-07-30T21:01:00.349168",
   "environment_variables": {},
   "exception": null,
   "input_path": "universe_analysis.ipynb",
   "output_path": "output/runs/14/notebooks/m_14-879e5dc5a85f4f20f592797c92185d54.ipynb",
   "parameters": {
    "output_dir": "output",
    "run_no": "14",
    "seed": "2023",
    "universe": "{\"cutoff\": [\"quantile_0.1\", \"quantile_0.25\"], \"eval_fairness_grouping\": [\"majority-minority\", \"nationality-all\"], \"exclude_features\": \"none\", \"exclude_subgroups\": \"drop-non-german\", \"model\": \"gbm\", \"scale\": \"scale\", \"training_size\": \"5k\", \"training_year\": \"2012_14\"}",
    "universe_id": "879e5dc5a85f4f20f592797c92185d54"
   },
   "start_time": "2025-07-30T21:00:13.280586",
   "version": "2.6.0"
  }
 },
 "nbformat": 4,
 "nbformat_minor": 5
}