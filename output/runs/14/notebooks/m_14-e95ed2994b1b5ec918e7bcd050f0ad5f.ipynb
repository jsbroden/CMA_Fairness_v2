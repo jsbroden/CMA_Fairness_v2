{
 "cells": [
  {
   "cell_type": "code",
   "execution_count": 1,
   "id": "f159f837-637b-42ba-96b5-ec9a68c44524",
   "metadata": {
    "execution": {
     "iopub.execute_input": "2025-07-30T21:24:01.871542Z",
     "iopub.status.busy": "2025-07-30T21:24:01.871009Z",
     "iopub.status.idle": "2025-07-30T21:24:01.887524Z",
     "shell.execute_reply": "2025-07-30T21:24:01.886377Z"
    },
    "papermill": {
     "duration": 0.05236,
     "end_time": "2025-07-30T21:24:01.889173",
     "exception": false,
     "start_time": "2025-07-30T21:24:01.836813",
     "status": "completed"
    },
    "tags": []
   },
   "outputs": [
    {
     "name": "stdout",
     "output_type": "stream",
     "text": [
      "/dss/dsshome1/0C/ra93lal2/cma/CMA_Fairness_v2\n"
     ]
    },
    {
     "name": "stderr",
     "output_type": "stream",
     "text": [
      "/dss/dsshome1/0C/ra93lal2/.local/share/virtualenvs/CMA_Fairness_v2-3j10GkSs/lib/python3.10/site-packages/IPython/core/magics/osm.py:393: UserWarning: This is now an optional IPython functionality, using bookmarks requires you to install the `pickleshare` library.\n",
      "  bkms = self.shell.db.get('bookmarks', {})\n",
      "/dss/dsshome1/0C/ra93lal2/.local/share/virtualenvs/CMA_Fairness_v2-3j10GkSs/lib/python3.10/site-packages/IPython/core/magics/osm.py:417: UserWarning: This is now an optional IPython functionality, setting dhist requires you to install the `pickleshare` library.\n",
      "  self.shell.db['dhist'] = compress_dhist(dhist)[-100:]\n"
     ]
    }
   ],
   "source": [
    "%cd ~/cma/CMA_Fairness_v2"
   ]
  },
  {
   "cell_type": "markdown",
   "id": "de2603b9",
   "metadata": {
    "papermill": {
     "duration": 0.011026,
     "end_time": "2025-07-30T21:24:01.913339",
     "exception": false,
     "start_time": "2025-07-30T21:24:01.902313",
     "status": "completed"
    },
    "tags": []
   },
   "source": [
    "The following cell holds the definition of our parameters, these values can be overriden by rendering the with e.g. the following command:\n",
    "\n",
    "papermill -p alpha 0.2 -p ratio 0.3 universe_analysis.ipynb output/test_run.ipynb"
   ]
  },
  {
   "cell_type": "code",
   "execution_count": 2,
   "id": "a80968a0-40bb-4fa9-85ef-2d5eefb01975",
   "metadata": {
    "execution": {
     "iopub.execute_input": "2025-07-30T21:24:01.954326Z",
     "iopub.status.busy": "2025-07-30T21:24:01.953380Z",
     "iopub.status.idle": "2025-07-30T21:24:01.960277Z",
     "shell.execute_reply": "2025-07-30T21:24:01.959212Z"
    },
    "papermill": {
     "duration": 0.03116,
     "end_time": "2025-07-30T21:24:01.961894",
     "exception": false,
     "start_time": "2025-07-30T21:24:01.930734",
     "status": "completed"
    },
    "tags": []
   },
   "outputs": [
    {
     "name": "stdout",
     "output_type": "stream",
     "text": [
      "Current working directory: /dss/dsshome1/0C/ra93lal2/cma/CMA_Fairness_v2\n"
     ]
    }
   ],
   "source": [
    "import os\n",
    "print(\"Current working directory:\", os.getcwd())"
   ]
  },
  {
   "cell_type": "code",
   "execution_count": 3,
   "id": "2dce4c03",
   "metadata": {
    "execution": {
     "iopub.execute_input": "2025-07-30T21:24:02.007196Z",
     "iopub.status.busy": "2025-07-30T21:24:02.006230Z",
     "iopub.status.idle": "2025-07-30T21:24:02.013057Z",
     "shell.execute_reply": "2025-07-30T21:24:02.011997Z"
    },
    "papermill": {
     "duration": 0.031718,
     "end_time": "2025-07-30T21:24:02.014610",
     "exception": false,
     "start_time": "2025-07-30T21:24:01.982892",
     "status": "completed"
    },
    "tags": [
     "parameters"
    ]
   },
   "outputs": [],
   "source": [
    "run_no = 0\n",
    "universe_id = \"test\"\n",
    "universe = {\n",
    "    \"training_size\": \"25k\", # \"25k\", \"5k\", \"1k\"\n",
    "    \"training_year\": \"2014\", # \"2014\", \"2012_14\", \"2010_14\"\n",
    "    \"scale\": \"scale\", # \"scale\", \"do-not-scale\",\n",
    "    #\"stratify_split\": \"target\", # \"none\", \"target\", \"protected-attribute\", \"both\",\n",
    "    \"model\": \"elasticnet\", # \"logreg\", \"penalized_logreg\", \"rf\", \"gbm\", \"elasticnet\"\n",
    "    \"cutoff\": [\"quantile_0.15\", \"quantile_0.30\"],\n",
    "    \"exclude_features\": \"age\", # \"none\", \"nationality\", \"sex\", \"nationality-sex\", \"age\"\n",
    "    \"exclude_subgroups\": \"keep-all\", # \"keep-all\", \"drop-non-german\"\n",
    "    \"eval_fairness_grouping\": [\"majority-minority\", \"nationality-all\"]\n",
    "}\n",
    "\n",
    "output_dir=\"./output\"\n",
    "seed=0"
   ]
  },
  {
   "cell_type": "code",
   "execution_count": 4,
   "id": "20bbfe60",
   "metadata": {
    "execution": {
     "iopub.execute_input": "2025-07-30T21:24:02.048877Z",
     "iopub.status.busy": "2025-07-30T21:24:02.048389Z",
     "iopub.status.idle": "2025-07-30T21:24:02.055083Z",
     "shell.execute_reply": "2025-07-30T21:24:02.054135Z"
    },
    "papermill": {
     "duration": 0.028342,
     "end_time": "2025-07-30T21:24:02.058209",
     "exception": false,
     "start_time": "2025-07-30T21:24:02.029867",
     "status": "completed"
    },
    "tags": [
     "injected-parameters"
    ]
   },
   "outputs": [],
   "source": [
    "# Parameters\n",
    "universe_id = \"e95ed2994b1b5ec918e7bcd050f0ad5f\"\n",
    "run_no = \"14\"\n",
    "universe = \"{\\\"cutoff\\\": [\\\"quantile_0.1\\\", \\\"quantile_0.25\\\"], \\\"eval_fairness_grouping\\\": [\\\"majority-minority\\\", \\\"nationality-all\\\"], \\\"exclude_features\\\": \\\"none\\\", \\\"exclude_subgroups\\\": \\\"keep-all\\\", \\\"model\\\": \\\"rf\\\", \\\"scale\\\": \\\"scale\\\", \\\"training_size\\\": \\\"1k\\\", \\\"training_year\\\": \\\"2014\\\"}\"\n",
    "output_dir = \"output\"\n",
    "seed = \"2023\"\n"
   ]
  },
  {
   "cell_type": "code",
   "execution_count": 5,
   "id": "1650acaf",
   "metadata": {
    "execution": {
     "iopub.execute_input": "2025-07-30T21:24:02.102445Z",
     "iopub.status.busy": "2025-07-30T21:24:02.101994Z",
     "iopub.status.idle": "2025-07-30T21:24:02.106741Z",
     "shell.execute_reply": "2025-07-30T21:24:02.105982Z"
    },
    "papermill": {
     "duration": 0.02848,
     "end_time": "2025-07-30T21:24:02.108597",
     "exception": false,
     "start_time": "2025-07-30T21:24:02.080117",
     "status": "completed"
    },
    "tags": []
   },
   "outputs": [],
   "source": [
    "import json\n",
    "# Parse universe into dict if it is passed as a string\n",
    "if isinstance(universe, str):\n",
    "    universe = json.loads(universe)"
   ]
  },
  {
   "cell_type": "code",
   "execution_count": 6,
   "id": "16620c48",
   "metadata": {
    "execution": {
     "iopub.execute_input": "2025-07-30T21:24:02.153335Z",
     "iopub.status.busy": "2025-07-30T21:24:02.152852Z",
     "iopub.status.idle": "2025-07-30T21:24:02.204103Z",
     "shell.execute_reply": "2025-07-30T21:24:02.203059Z"
    },
    "papermill": {
     "duration": 0.076257,
     "end_time": "2025-07-30T21:24:02.206057",
     "exception": false,
     "start_time": "2025-07-30T21:24:02.129800",
     "status": "completed"
    },
    "tags": []
   },
   "outputs": [],
   "source": [
    "# Auto-reload the custom package\n",
    "%load_ext autoreload\n",
    "%autoreload 1\n",
    "%aimport fairness_multiverse"
   ]
  },
  {
   "cell_type": "code",
   "execution_count": 7,
   "id": "01c5c9f3",
   "metadata": {
    "execution": {
     "iopub.execute_input": "2025-07-30T21:24:02.253761Z",
     "iopub.status.busy": "2025-07-30T21:24:02.252869Z",
     "iopub.status.idle": "2025-07-30T21:24:04.281015Z",
     "shell.execute_reply": "2025-07-30T21:24:04.279853Z"
    },
    "papermill": {
     "duration": 2.055421,
     "end_time": "2025-07-30T21:24:04.283102",
     "exception": false,
     "start_time": "2025-07-30T21:24:02.227681",
     "status": "completed"
    },
    "tags": []
   },
   "outputs": [],
   "source": [
    "from fairness_multiverse.universe import UniverseAnalysis\n",
    "\n",
    "universe_analysis = UniverseAnalysis(\n",
    "    run_no = run_no,\n",
    "    universe_id = universe_id,\n",
    "    universe = universe,\n",
    "    output_dir=output_dir,\n",
    ")"
   ]
  },
  {
   "cell_type": "code",
   "execution_count": 8,
   "id": "106241f5",
   "metadata": {
    "execution": {
     "iopub.execute_input": "2025-07-30T21:24:04.331078Z",
     "iopub.status.busy": "2025-07-30T21:24:04.330617Z",
     "iopub.status.idle": "2025-07-30T21:24:04.338095Z",
     "shell.execute_reply": "2025-07-30T21:24:04.336844Z"
    },
    "papermill": {
     "duration": 0.031102,
     "end_time": "2025-07-30T21:24:04.339523",
     "exception": false,
     "start_time": "2025-07-30T21:24:04.308421",
     "status": "completed"
    },
    "tags": []
   },
   "outputs": [
    {
     "name": "stdout",
     "output_type": "stream",
     "text": [
      "Using Seed: 2023\n"
     ]
    }
   ],
   "source": [
    "import numpy as np\n",
    "parsed_seed = int(seed)\n",
    "np.random.seed(parsed_seed)\n",
    "print(f\"Using Seed: {parsed_seed}\")"
   ]
  },
  {
   "cell_type": "markdown",
   "id": "e0ebdc57",
   "metadata": {
    "papermill": {
     "duration": 0.022811,
     "end_time": "2025-07-30T21:24:04.385095",
     "exception": false,
     "start_time": "2025-07-30T21:24:04.362284",
     "status": "completed"
    },
    "tags": []
   },
   "source": [
    "# Loading Data"
   ]
  },
  {
   "cell_type": "markdown",
   "id": "681925a3",
   "metadata": {
    "papermill": {
     "duration": 0.019419,
     "end_time": "2025-07-30T21:24:04.425940",
     "exception": false,
     "start_time": "2025-07-30T21:24:04.406521",
     "status": "completed"
    },
    "tags": []
   },
   "source": [
    "Load siab_train, siab_test, siab_calib and/or \n",
    "load siab_train_features, siab_train_labels"
   ]
  },
  {
   "cell_type": "code",
   "execution_count": 9,
   "id": "f0496b8a",
   "metadata": {
    "execution": {
     "iopub.execute_input": "2025-07-30T21:24:04.471845Z",
     "iopub.status.busy": "2025-07-30T21:24:04.471272Z",
     "iopub.status.idle": "2025-07-30T21:24:16.257936Z",
     "shell.execute_reply": "2025-07-30T21:24:16.256807Z"
    },
    "papermill": {
     "duration": 11.812319,
     "end_time": "2025-07-30T21:24:16.259205",
     "exception": false,
     "start_time": "2025-07-30T21:24:04.446886",
     "status": "completed"
    },
    "tags": []
   },
   "outputs": [
    {
     "name": "stdout",
     "output_type": "stream",
     "text": [
      "Loading SIAB data from cache: data/siab_cached.csv.gz\n"
     ]
    },
    {
     "name": "stdout",
     "output_type": "stream",
     "text": [
      "(643690, 164)\n"
     ]
    }
   ],
   "source": [
    "from pathlib import Path\n",
    "import pandas as pd\n",
    "\n",
    "# File paths\n",
    "raw_file = Path(\"data/raw/siab.csv\")\n",
    "cache_file = Path(\"data/siab_cached.csv.gz\")\n",
    "\n",
    "# Ensure cache directory exists\n",
    "cache_file.parent.mkdir(parents=True, exist_ok=True)\n",
    "\n",
    "# Load with simple caching\n",
    "if cache_file.exists():\n",
    "    print(f\"Loading SIAB data from cache: {cache_file}\")\n",
    "    siab = pd.read_csv(cache_file, compression='gzip')\n",
    "else:\n",
    "    print(f\"Cache not found. Reading raw SIAB data: {raw_file}\")\n",
    "    siab = pd.read_csv(raw_file)\n",
    "    siab.to_csv(cache_file, index=False, compression='gzip')\n",
    "    print(f\"Cached SIAB data to: {cache_file}\")\n",
    "\n",
    "# Now use `siab` DataFrame as needed\n",
    "print(siab.shape)"
   ]
  },
  {
   "cell_type": "code",
   "execution_count": 10,
   "id": "db0ca512-5f53-4dba-abdb-a2888bca41ba",
   "metadata": {
    "execution": {
     "iopub.execute_input": "2025-07-30T21:24:16.297850Z",
     "iopub.status.busy": "2025-07-30T21:24:16.297399Z",
     "iopub.status.idle": "2025-07-30T21:24:16.302694Z",
     "shell.execute_reply": "2025-07-30T21:24:16.301798Z"
    },
    "papermill": {
     "duration": 0.029788,
     "end_time": "2025-07-30T21:24:16.304155",
     "exception": false,
     "start_time": "2025-07-30T21:24:16.274367",
     "status": "completed"
    },
    "tags": []
   },
   "outputs": [],
   "source": [
    "#siab"
   ]
  },
  {
   "cell_type": "code",
   "execution_count": 11,
   "id": "a0edb063",
   "metadata": {
    "execution": {
     "iopub.execute_input": "2025-07-30T21:24:16.359584Z",
     "iopub.status.busy": "2025-07-30T21:24:16.358952Z",
     "iopub.status.idle": "2025-07-30T21:24:16.365197Z",
     "shell.execute_reply": "2025-07-30T21:24:16.364546Z"
    },
    "papermill": {
     "duration": 0.041956,
     "end_time": "2025-07-30T21:24:16.366437",
     "exception": false,
     "start_time": "2025-07-30T21:24:16.324481",
     "status": "completed"
    },
    "tags": []
   },
   "outputs": [],
   "source": [
    "#import pandas as pd\n",
    "#\n",
    "#X_train = pd.read_csv(\"./data/X_train.csv\")\n",
    "#y_train = pd.read_csv(\"./data/y_train.csv\")"
   ]
  },
  {
   "cell_type": "code",
   "execution_count": 12,
   "id": "63d08085",
   "metadata": {
    "execution": {
     "iopub.execute_input": "2025-07-30T21:24:16.389003Z",
     "iopub.status.busy": "2025-07-30T21:24:16.388517Z",
     "iopub.status.idle": "2025-07-30T21:24:16.392070Z",
     "shell.execute_reply": "2025-07-30T21:24:16.391375Z"
    },
    "papermill": {
     "duration": 0.01579,
     "end_time": "2025-07-30T21:24:16.393338",
     "exception": false,
     "start_time": "2025-07-30T21:24:16.377548",
     "status": "completed"
    },
    "tags": []
   },
   "outputs": [],
   "source": [
    "#X_test = pd.read_csv(\"./data/X_test.csv\")\n",
    "#y_true = pd.read_csv(\"./data/y_test.csv\")"
   ]
  },
  {
   "cell_type": "code",
   "execution_count": 13,
   "id": "98a8d0fa-1d3d-4ed8-bb2c-281470e24add",
   "metadata": {
    "execution": {
     "iopub.execute_input": "2025-07-30T21:24:16.433163Z",
     "iopub.status.busy": "2025-07-30T21:24:16.432707Z",
     "iopub.status.idle": "2025-07-30T21:24:16.438009Z",
     "shell.execute_reply": "2025-07-30T21:24:16.436996Z"
    },
    "papermill": {
     "duration": 0.034017,
     "end_time": "2025-07-30T21:24:16.439863",
     "exception": false,
     "start_time": "2025-07-30T21:24:16.405846",
     "status": "completed"
    },
    "tags": []
   },
   "outputs": [],
   "source": [
    "# Calibration data for conformal\n",
    "#X_calib = pd.read_csv(\"./data/X_calib.csv\")\n",
    "#y_calib = pd.read_csv(\"./data/y_calib.csv\")"
   ]
  },
  {
   "cell_type": "markdown",
   "id": "997051c5-15bd-4b69-9786-c3001a3ce484",
   "metadata": {
    "papermill": {
     "duration": 0.021221,
     "end_time": "2025-07-30T21:24:16.489151",
     "exception": false,
     "start_time": "2025-07-30T21:24:16.467930",
     "status": "completed"
    },
    "tags": []
   },
   "source": [
    "# Splitting Data and Setting Training Data Size"
   ]
  },
  {
   "cell_type": "code",
   "execution_count": 14,
   "id": "e993b61f-042d-41a6-8c81-f55681f86335",
   "metadata": {
    "execution": {
     "iopub.execute_input": "2025-07-30T21:24:16.528757Z",
     "iopub.status.busy": "2025-07-30T21:24:16.527863Z",
     "iopub.status.idle": "2025-07-30T21:24:16.540700Z",
     "shell.execute_reply": "2025-07-30T21:24:16.539757Z"
    },
    "papermill": {
     "duration": 0.033903,
     "end_time": "2025-07-30T21:24:16.542181",
     "exception": false,
     "start_time": "2025-07-30T21:24:16.508278",
     "status": "completed"
    },
    "tags": []
   },
   "outputs": [],
   "source": [
    "def sample_by_year_size(df,\n",
    "                        training_year: str,\n",
    "                        training_size: str,\n",
    "                        random_state: int = 42):\n",
    "    # --- parse training_year into a list of int years ---\n",
    "    if \"_\" in training_year:\n",
    "        start_str, end_str = training_year.split(\"_\", 1)\n",
    "        start = int(start_str)\n",
    "        end   = int(end_str) if len(end_str) == 4 else (int(end_str) + (start // 100)*100)\n",
    "        years = list(range(start, end + 1))\n",
    "    else:\n",
    "        years = [int(training_year)]\n",
    "\n",
    "    df = df[df[\"year\"].isin(years)].reset_index(drop=True)\n",
    "\n",
    "    # --- map training_size to total number of samples ---\n",
    "    total_map = {\"25k\": 25_000, \"5k\": 5_000, \"1k\": 1_000}\n",
    "    if training_size not in total_map:\n",
    "        return df  # e.g. \"all\"\n",
    "\n",
    "    total_samples = total_map[training_size]\n",
    "    n_years       = len(years)\n",
    "    base          = total_samples // n_years\n",
    "    remainder     = total_samples % n_years\n",
    "\n",
    "    # --- build a dict: year -> how many to sample ---\n",
    "    # give +1 to the first `remainder` years in ascending order\n",
    "    quotas = {\n",
    "        year: base + (1 if idx < remainder else 0)\n",
    "        for idx, year in enumerate(sorted(years))\n",
    "    }\n",
    "\n",
    "    # --- sample per‐year according to the quota dict ---\n",
    "    sampled = (\n",
    "        df\n",
    "        .groupby(\"year\", group_keys=False)\n",
    "        .apply(lambda grp: grp.sample(\n",
    "            n=min(len(grp), quotas[grp.name]),\n",
    "            random_state=random_state))\n",
    "        .reset_index(drop=True)\n",
    "    )\n",
    "\n",
    "    return sampled"
   ]
  },
  {
   "cell_type": "code",
   "execution_count": 15,
   "id": "c0ccd338-0e02-41f3-a09d-f56f9266e3fb",
   "metadata": {
    "execution": {
     "iopub.execute_input": "2025-07-30T21:24:16.583819Z",
     "iopub.status.busy": "2025-07-30T21:24:16.583150Z",
     "iopub.status.idle": "2025-07-30T21:24:16.588172Z",
     "shell.execute_reply": "2025-07-30T21:24:16.587160Z"
    },
    "papermill": {
     "duration": 0.027733,
     "end_time": "2025-07-30T21:24:16.589668",
     "exception": false,
     "start_time": "2025-07-30T21:24:16.561935",
     "status": "completed"
    },
    "tags": []
   },
   "outputs": [],
   "source": [
    "#universe[\"training_size\"]"
   ]
  },
  {
   "cell_type": "code",
   "execution_count": 16,
   "id": "ca707fd7-8047-4acd-bfa5-66248fbbf8e6",
   "metadata": {
    "execution": {
     "iopub.execute_input": "2025-07-30T21:24:16.629984Z",
     "iopub.status.busy": "2025-07-30T21:24:16.629175Z",
     "iopub.status.idle": "2025-07-30T21:24:16.634134Z",
     "shell.execute_reply": "2025-07-30T21:24:16.633216Z"
    },
    "papermill": {
     "duration": 0.026357,
     "end_time": "2025-07-30T21:24:16.635693",
     "exception": false,
     "start_time": "2025-07-30T21:24:16.609336",
     "status": "completed"
    },
    "tags": []
   },
   "outputs": [],
   "source": [
    "#universe[\"training_year\"]"
   ]
  },
  {
   "cell_type": "code",
   "execution_count": 17,
   "id": "aea9c6ef-6f46-42c8-85eb-5a62025c1508",
   "metadata": {
    "execution": {
     "iopub.execute_input": "2025-07-30T21:24:16.676008Z",
     "iopub.status.busy": "2025-07-30T21:24:16.675585Z",
     "iopub.status.idle": "2025-07-30T21:24:16.889185Z",
     "shell.execute_reply": "2025-07-30T21:24:16.888100Z"
    },
    "papermill": {
     "duration": 0.23807,
     "end_time": "2025-07-30T21:24:16.893310",
     "exception": false,
     "start_time": "2025-07-30T21:24:16.655240",
     "status": "completed"
    },
    "tags": []
   },
   "outputs": [],
   "source": [
    "siab_train = sample_by_year_size(siab,\n",
    "                               training_year=universe[\"training_year\"],\n",
    "                               training_size=universe[\"training_size\"])"
   ]
  },
  {
   "cell_type": "code",
   "execution_count": 18,
   "id": "8d3afb32-789d-442c-8d5d-9f5aa8dd2eed",
   "metadata": {
    "execution": {
     "iopub.execute_input": "2025-07-30T21:24:16.939113Z",
     "iopub.status.busy": "2025-07-30T21:24:16.938222Z",
     "iopub.status.idle": "2025-07-30T21:24:16.943824Z",
     "shell.execute_reply": "2025-07-30T21:24:16.942789Z"
    },
    "papermill": {
     "duration": 0.029801,
     "end_time": "2025-07-30T21:24:16.945589",
     "exception": false,
     "start_time": "2025-07-30T21:24:16.915788",
     "status": "completed"
    },
    "tags": []
   },
   "outputs": [],
   "source": [
    "#siab_train.shape"
   ]
  },
  {
   "cell_type": "code",
   "execution_count": 19,
   "id": "d582db68-1a4c-47fb-84fc-08518dc1975a",
   "metadata": {
    "execution": {
     "iopub.execute_input": "2025-07-30T21:24:16.992580Z",
     "iopub.status.busy": "2025-07-30T21:24:16.992054Z",
     "iopub.status.idle": "2025-07-30T21:24:16.997515Z",
     "shell.execute_reply": "2025-07-30T21:24:16.996577Z"
    },
    "papermill": {
     "duration": 0.031027,
     "end_time": "2025-07-30T21:24:16.999319",
     "exception": false,
     "start_time": "2025-07-30T21:24:16.968292",
     "status": "completed"
    },
    "tags": []
   },
   "outputs": [],
   "source": [
    "#display(siab_train.groupby(\"year\").size())"
   ]
  },
  {
   "cell_type": "code",
   "execution_count": 20,
   "id": "a561edb4-d032-42cb-8256-22eac1111c64",
   "metadata": {
    "execution": {
     "iopub.execute_input": "2025-07-30T21:24:17.044015Z",
     "iopub.status.busy": "2025-07-30T21:24:17.043608Z",
     "iopub.status.idle": "2025-07-30T21:24:17.257021Z",
     "shell.execute_reply": "2025-07-30T21:24:17.256296Z"
    },
    "papermill": {
     "duration": 0.237862,
     "end_time": "2025-07-30T21:24:17.258462",
     "exception": false,
     "start_time": "2025-07-30T21:24:17.020600",
     "status": "completed"
    },
    "tags": []
   },
   "outputs": [],
   "source": [
    "#siab_train = siab_s[siab_s.year < 2015]\n",
    "siab_calib = siab[siab.year == 2015]\n",
    "siab_test = siab[siab.year == 2016]"
   ]
  },
  {
   "cell_type": "code",
   "execution_count": 21,
   "id": "472de16f-c3db-4916-846b-1f0de9cf1746",
   "metadata": {
    "execution": {
     "iopub.execute_input": "2025-07-30T21:24:17.281988Z",
     "iopub.status.busy": "2025-07-30T21:24:17.281525Z",
     "iopub.status.idle": "2025-07-30T21:24:17.287185Z",
     "shell.execute_reply": "2025-07-30T21:24:17.286409Z"
    },
    "papermill": {
     "duration": 0.018466,
     "end_time": "2025-07-30T21:24:17.288484",
     "exception": false,
     "start_time": "2025-07-30T21:24:17.270018",
     "status": "completed"
    },
    "tags": []
   },
   "outputs": [],
   "source": [
    "X_train = siab_train.iloc[:,4:164]\n",
    "y_train = siab_train.iloc[:, [3]]"
   ]
  },
  {
   "cell_type": "code",
   "execution_count": 22,
   "id": "828c96af-f43a-4ed6-ba47-8ac73a47d56c",
   "metadata": {
    "execution": {
     "iopub.execute_input": "2025-07-30T21:24:17.311965Z",
     "iopub.status.busy": "2025-07-30T21:24:17.311497Z",
     "iopub.status.idle": "2025-07-30T21:24:17.358416Z",
     "shell.execute_reply": "2025-07-30T21:24:17.357692Z"
    },
    "papermill": {
     "duration": 0.059622,
     "end_time": "2025-07-30T21:24:17.359724",
     "exception": false,
     "start_time": "2025-07-30T21:24:17.300102",
     "status": "completed"
    },
    "tags": []
   },
   "outputs": [],
   "source": [
    "X_calib = siab_calib.iloc[:,4:164]\n",
    "y_calib = siab_calib.iloc[:, [3]]"
   ]
  },
  {
   "cell_type": "code",
   "execution_count": 23,
   "id": "c34be9c3-6bd6-476e-acd3-845840e303be",
   "metadata": {
    "execution": {
     "iopub.execute_input": "2025-07-30T21:24:17.383908Z",
     "iopub.status.busy": "2025-07-30T21:24:17.383234Z",
     "iopub.status.idle": "2025-07-30T21:24:17.434194Z",
     "shell.execute_reply": "2025-07-30T21:24:17.433405Z"
    },
    "papermill": {
     "duration": 0.06359,
     "end_time": "2025-07-30T21:24:17.435485",
     "exception": false,
     "start_time": "2025-07-30T21:24:17.371895",
     "status": "completed"
    },
    "tags": []
   },
   "outputs": [],
   "source": [
    "X_test = siab_test.iloc[:,4:164]\n",
    "y_true = siab_test.iloc[:, [3]]"
   ]
  },
  {
   "cell_type": "markdown",
   "id": "9901737e-04df-44f0-9100-f5ad144ed040",
   "metadata": {
    "papermill": {
     "duration": 0.011054,
     "end_time": "2025-07-30T21:24:17.458422",
     "exception": false,
     "start_time": "2025-07-30T21:24:17.447368",
     "status": "completed"
    },
    "tags": []
   },
   "source": [
    "# Splitting Data and Setting Training Data Size OLD VERSION"
   ]
  },
  {
   "cell_type": "code",
   "execution_count": 24,
   "id": "acbc8f7d-8fc8-4e86-8c59-5dcb0f58384b",
   "metadata": {
    "execution": {
     "iopub.execute_input": "2025-07-30T21:24:17.494089Z",
     "iopub.status.busy": "2025-07-30T21:24:17.493253Z",
     "iopub.status.idle": "2025-07-30T21:24:17.499108Z",
     "shell.execute_reply": "2025-07-30T21:24:17.498191Z"
    },
    "papermill": {
     "duration": 0.030076,
     "end_time": "2025-07-30T21:24:17.500896",
     "exception": false,
     "start_time": "2025-07-30T21:24:17.470820",
     "status": "completed"
    },
    "tags": []
   },
   "outputs": [],
   "source": [
    "#def sample_by_year(df, training_size, random_state=42):\n",
    "#    if training_size == \"2014\":\n",
    "#        return df[df[\"year\"] == 2014].reset_index(drop=True)\n",
    "#    \n",
    "#    size_map = {\n",
    "#        \"25k\": 5000,\n",
    "#        \"5k\": 1000,\n",
    "#        \"1k\": 200\n",
    "#    }\n",
    "#\n",
    "#    if training_size not in size_map:\n",
    "#        return df.reset_index(drop=True)  # use all data\n",
    "#\n",
    "#    n_per_year = size_map[training_size]\n",
    "#    grouped = df.groupby(\"year\")\n",
    "#    sampled = grouped.apply(lambda x: x.sample(n=min(n_per_year, len(x)), random_state=random_state))\n",
    "#    return sampled.reset_index(drop=True)"
   ]
  },
  {
   "cell_type": "code",
   "execution_count": 25,
   "id": "6d931f52-beaf-43ff-9e78-9d44a448d54e",
   "metadata": {
    "execution": {
     "iopub.execute_input": "2025-07-30T21:24:17.545808Z",
     "iopub.status.busy": "2025-07-30T21:24:17.545101Z",
     "iopub.status.idle": "2025-07-30T21:24:17.550319Z",
     "shell.execute_reply": "2025-07-30T21:24:17.549292Z"
    },
    "papermill": {
     "duration": 0.029484,
     "end_time": "2025-07-30T21:24:17.552180",
     "exception": false,
     "start_time": "2025-07-30T21:24:17.522696",
     "status": "completed"
    },
    "tags": []
   },
   "outputs": [],
   "source": [
    "#siab_s = sample_by_year(siab, universe[\"training_size\"])"
   ]
  },
  {
   "cell_type": "code",
   "execution_count": 26,
   "id": "5db0a40e-a4e2-4920-be85-b12ae061d70d",
   "metadata": {
    "execution": {
     "iopub.execute_input": "2025-07-30T21:24:17.596502Z",
     "iopub.status.busy": "2025-07-30T21:24:17.595854Z",
     "iopub.status.idle": "2025-07-30T21:24:17.601523Z",
     "shell.execute_reply": "2025-07-30T21:24:17.600584Z"
    },
    "papermill": {
     "duration": 0.028956,
     "end_time": "2025-07-30T21:24:17.603447",
     "exception": false,
     "start_time": "2025-07-30T21:24:17.574491",
     "status": "completed"
    },
    "tags": []
   },
   "outputs": [],
   "source": [
    "#display(siab_s.groupby(\"year\").size())"
   ]
  },
  {
   "cell_type": "code",
   "execution_count": 27,
   "id": "e6c733c5",
   "metadata": {
    "execution": {
     "iopub.execute_input": "2025-07-30T21:24:17.646963Z",
     "iopub.status.busy": "2025-07-30T21:24:17.646468Z",
     "iopub.status.idle": "2025-07-30T21:24:17.739758Z",
     "shell.execute_reply": "2025-07-30T21:24:17.738827Z"
    },
    "papermill": {
     "duration": 0.116723,
     "end_time": "2025-07-30T21:24:17.741613",
     "exception": false,
     "start_time": "2025-07-30T21:24:17.624890",
     "status": "completed"
    },
    "tags": []
   },
   "outputs": [],
   "source": [
    "# Auxiliary data needed downstream in the pipeline\n",
    "\n",
    "org_train = X_train.copy()\n",
    "org_test = X_test.copy()\n",
    "org_calib = X_calib.copy()"
   ]
  },
  {
   "cell_type": "code",
   "execution_count": 28,
   "id": "1466abac-c6da-4492-a62f-4240ae3783af",
   "metadata": {
    "execution": {
     "iopub.execute_input": "2025-07-30T21:24:17.785191Z",
     "iopub.status.busy": "2025-07-30T21:24:17.784259Z",
     "iopub.status.idle": "2025-07-30T21:24:17.790084Z",
     "shell.execute_reply": "2025-07-30T21:24:17.789159Z"
    },
    "papermill": {
     "duration": 0.029418,
     "end_time": "2025-07-30T21:24:17.791801",
     "exception": false,
     "start_time": "2025-07-30T21:24:17.762383",
     "status": "completed"
    },
    "tags": []
   },
   "outputs": [],
   "source": [
    "# put in other script?\n",
    "# Group sizes\n",
    "\n",
    "#def calculate_percentages(df, df_name):\n",
    "#    total_entries = len(df)\n",
    "#\n",
    "#    female_pct = (df['frau1'] == 1).mean() * 100\n",
    "#    non_german_pct = ((df['maxdeutsch1'] == 0) & (df['maxdeutsch.Missing.'] == 0)).mean() * 100\n",
    "#    non_german_male_pct = ((df['frau1'] == 0) & (df['maxdeutsch1'] == 0) & (df['maxdeutsch.Missing.'] == 0)).mean() * 100\n",
    "#    non_german_female_pct = ((df['frau1'] == 1) & (df['maxdeutsch1'] == 0) & (df['maxdeutsch.Missing.'] == 0)).mean() * 100\n",
    "#\n",
    "#    print(f\"--- {df_name} ---\")\n",
    "#    print(f\"Female: {female_pct:.2f}%\")\n",
    "#    print(f\"Non-German: {non_german_pct:.2f}%\")\n",
    "#    print(f\"Non-German Male: {non_german_male_pct:.2f}%\")\n",
    "#    print(f\"Non-German Female: {non_german_female_pct:.2f}%\\n\")\n",
    "#\n",
    "## Calculate for each DataFrame\n",
    "#calculate_percentages(siab_calib, \"siab_calib\")\n",
    "#calculate_percentages(siab_test, \"siab_test\")\n",
    "#calculate_percentages(siab_train, \"siab_train\")"
   ]
  },
  {
   "cell_type": "markdown",
   "id": "0a4a1b33",
   "metadata": {
    "papermill": {
     "duration": 0.020553,
     "end_time": "2025-07-30T21:24:17.833218",
     "exception": false,
     "start_time": "2025-07-30T21:24:17.812665",
     "status": "completed"
    },
    "tags": []
   },
   "source": [
    "# Preprocessing Data"
   ]
  },
  {
   "cell_type": "code",
   "execution_count": 29,
   "id": "ca879031",
   "metadata": {
    "execution": {
     "iopub.execute_input": "2025-07-30T21:24:17.877139Z",
     "iopub.status.busy": "2025-07-30T21:24:17.876260Z",
     "iopub.status.idle": "2025-07-30T21:24:17.882505Z",
     "shell.execute_reply": "2025-07-30T21:24:17.881664Z"
    },
    "papermill": {
     "duration": 0.029598,
     "end_time": "2025-07-30T21:24:17.884332",
     "exception": false,
     "start_time": "2025-07-30T21:24:17.854734",
     "status": "completed"
    },
    "tags": []
   },
   "outputs": [],
   "source": [
    "# EXCLUDE PROTECTED FEATURES\n",
    "# ----------------------\n",
    "# \"exclude_features\": \"none\", # \"nationality\", \"sex\", \"nationality-sex\"\n",
    "\n",
    "excluded_features = universe[\"exclude_features\"].split(\"-\") # split, e.g.: \"nationality-sex\" -> [\"nationality\", \"sex\"]\n",
    "excluded_features_dictionary = {\n",
    "    \"nationality\": [\"maxdeutsch1\", \"maxdeutsch.Missing.\"],\n",
    "    \"sex\": [\"frau1\"],\n",
    "    \"age\": [\"age\"],\n",
    "}\n"
   ]
  },
  {
   "cell_type": "code",
   "execution_count": 30,
   "id": "b745ac60",
   "metadata": {
    "execution": {
     "iopub.execute_input": "2025-07-30T21:24:17.928895Z",
     "iopub.status.busy": "2025-07-30T21:24:17.928066Z",
     "iopub.status.idle": "2025-07-30T21:24:17.933698Z",
     "shell.execute_reply": "2025-07-30T21:24:17.932833Z"
    },
    "papermill": {
     "duration": 0.028867,
     "end_time": "2025-07-30T21:24:17.935246",
     "exception": false,
     "start_time": "2025-07-30T21:24:17.906379",
     "status": "completed"
    },
    "tags": []
   },
   "outputs": [],
   "source": [
    "# Code nice names to column names\n",
    "\n",
    "excluded_features_columns = [\n",
    "    excluded_features_dictionary[f] for f in excluded_features if len(f) > 0 and f != \"none\"\n",
    "]"
   ]
  },
  {
   "cell_type": "code",
   "execution_count": 31,
   "id": "f84f73a2",
   "metadata": {
    "execution": {
     "iopub.execute_input": "2025-07-30T21:24:17.981242Z",
     "iopub.status.busy": "2025-07-30T21:24:17.980588Z",
     "iopub.status.idle": "2025-07-30T21:24:17.987610Z",
     "shell.execute_reply": "2025-07-30T21:24:17.986795Z"
    },
    "papermill": {
     "duration": 0.032142,
     "end_time": "2025-07-30T21:24:17.989390",
     "exception": false,
     "start_time": "2025-07-30T21:24:17.957248",
     "status": "completed"
    },
    "tags": []
   },
   "outputs": [],
   "source": [
    "from utils import flatten_once\n",
    "\n",
    "excluded_features_columns = flatten_once(excluded_features_columns)"
   ]
  },
  {
   "cell_type": "code",
   "execution_count": 32,
   "id": "884dea22",
   "metadata": {
    "execution": {
     "iopub.execute_input": "2025-07-30T21:24:18.035207Z",
     "iopub.status.busy": "2025-07-30T21:24:18.034516Z",
     "iopub.status.idle": "2025-07-30T21:24:18.040254Z",
     "shell.execute_reply": "2025-07-30T21:24:18.039339Z"
    },
    "papermill": {
     "duration": 0.030005,
     "end_time": "2025-07-30T21:24:18.041915",
     "exception": false,
     "start_time": "2025-07-30T21:24:18.011910",
     "status": "completed"
    },
    "tags": []
   },
   "outputs": [],
   "source": [
    "if len(excluded_features_columns) > 0:\n",
    "    print(f\"Dropping features: {excluded_features_columns}\")\n",
    "    X_train.drop(excluded_features_columns, axis=1, inplace=True)"
   ]
  },
  {
   "cell_type": "code",
   "execution_count": 33,
   "id": "95ab8b16",
   "metadata": {
    "execution": {
     "iopub.execute_input": "2025-07-30T21:24:18.088329Z",
     "iopub.status.busy": "2025-07-30T21:24:18.087644Z",
     "iopub.status.idle": "2025-07-30T21:24:18.093380Z",
     "shell.execute_reply": "2025-07-30T21:24:18.092388Z"
    },
    "papermill": {
     "duration": 0.030049,
     "end_time": "2025-07-30T21:24:18.095051",
     "exception": false,
     "start_time": "2025-07-30T21:24:18.065002",
     "status": "completed"
    },
    "tags": []
   },
   "outputs": [],
   "source": [
    "if len(excluded_features_columns) > 0:\n",
    "    print(f\"Dropping features: {excluded_features_columns}\")\n",
    "    X_test.drop(excluded_features_columns, axis=1, inplace=True)"
   ]
  },
  {
   "cell_type": "code",
   "execution_count": 34,
   "id": "1853aaf5-fb9f-46cb-a2b5-8ea4ae2237e4",
   "metadata": {
    "execution": {
     "iopub.execute_input": "2025-07-30T21:24:18.141950Z",
     "iopub.status.busy": "2025-07-30T21:24:18.141303Z",
     "iopub.status.idle": "2025-07-30T21:24:18.146841Z",
     "shell.execute_reply": "2025-07-30T21:24:18.145954Z"
    },
    "papermill": {
     "duration": 0.030429,
     "end_time": "2025-07-30T21:24:18.148496",
     "exception": false,
     "start_time": "2025-07-30T21:24:18.118067",
     "status": "completed"
    },
    "tags": []
   },
   "outputs": [],
   "source": [
    "if len(excluded_features_columns) > 0:\n",
    "    print(f\"Dropping features: {excluded_features_columns}\")\n",
    "    X_calib.drop(excluded_features_columns, axis=1, inplace=True)"
   ]
  },
  {
   "cell_type": "code",
   "execution_count": 35,
   "id": "6727d079-03e5-481e-9d38-292a90b7a0a8",
   "metadata": {
    "execution": {
     "iopub.execute_input": "2025-07-30T21:24:18.194049Z",
     "iopub.status.busy": "2025-07-30T21:24:18.193362Z",
     "iopub.status.idle": "2025-07-30T21:24:18.198616Z",
     "shell.execute_reply": "2025-07-30T21:24:18.197794Z"
    },
    "papermill": {
     "duration": 0.028996,
     "end_time": "2025-07-30T21:24:18.200249",
     "exception": false,
     "start_time": "2025-07-30T21:24:18.171253",
     "status": "completed"
    },
    "tags": []
   },
   "outputs": [],
   "source": [
    "# SPLIT & STRATIFY DATA\n",
    "# ----------------------"
   ]
  },
  {
   "cell_type": "code",
   "execution_count": 36,
   "id": "76c4dc6d",
   "metadata": {
    "execution": {
     "iopub.execute_input": "2025-07-30T21:24:18.246217Z",
     "iopub.status.busy": "2025-07-30T21:24:18.245587Z",
     "iopub.status.idle": "2025-07-30T21:24:18.250998Z",
     "shell.execute_reply": "2025-07-30T21:24:18.250124Z"
    },
    "papermill": {
     "duration": 0.02909,
     "end_time": "2025-07-30T21:24:18.252611",
     "exception": false,
     "start_time": "2025-07-30T21:24:18.223521",
     "status": "completed"
    },
    "tags": []
   },
   "outputs": [],
   "source": [
    "# EXCLUDE CERTAIN SUBGROUPS\n",
    "# ----------------------\n",
    "\n",
    "mode = universe.get(\"exclude_subgroups\", \"keep-all\") \n",
    "# Fetches the exclude_subgroups setting from the universe dict.\n",
    "# Defaults to \"keep-all\" if the key is missing."
   ]
  },
  {
   "cell_type": "code",
   "execution_count": 37,
   "id": "21994072",
   "metadata": {
    "execution": {
     "iopub.execute_input": "2025-07-30T21:24:18.300558Z",
     "iopub.status.busy": "2025-07-30T21:24:18.299617Z",
     "iopub.status.idle": "2025-07-30T21:24:18.306475Z",
     "shell.execute_reply": "2025-07-30T21:24:18.305558Z"
    },
    "papermill": {
     "duration": 0.031184,
     "end_time": "2025-07-30T21:24:18.308155",
     "exception": false,
     "start_time": "2025-07-30T21:24:18.276971",
     "status": "completed"
    },
    "tags": []
   },
   "outputs": [],
   "source": [
    "if mode == \"keep-all\":\n",
    "    keep_mask = pd.Series(True, index=org_train.index)\n",
    "\n",
    "# org_train contains the original feature columns from features_org (in Simson)\n",
    "# features_org contains unprocessed features, for me X_train at beginning ???\n",
    "# For keep-all, creates a boolean Series (keep_mask) of all True, so no rows are removed.\n",
    "\n",
    "elif mode == \"drop-non-german\":\n",
    "    keep_mask = org_train[\"maxdeutsch1\"] == 1 # ??? what about missing values?\n",
    "\n",
    "else:\n",
    "    raise ValueError(f\"Unsupported mode for exclude_subgroups: {mode}\")\n"
   ]
  },
  {
   "cell_type": "code",
   "execution_count": 38,
   "id": "71651440",
   "metadata": {
    "execution": {
     "iopub.execute_input": "2025-07-30T21:24:18.352243Z",
     "iopub.status.busy": "2025-07-30T21:24:18.351659Z",
     "iopub.status.idle": "2025-07-30T21:24:18.358170Z",
     "shell.execute_reply": "2025-07-30T21:24:18.357317Z"
    },
    "papermill": {
     "duration": 0.030483,
     "end_time": "2025-07-30T21:24:18.359825",
     "exception": false,
     "start_time": "2025-07-30T21:24:18.329342",
     "status": "completed"
    },
    "tags": []
   },
   "outputs": [],
   "source": [
    "n_drop = (~keep_mask).sum() # Calculates how many rows are set to be dropped\n",
    "if n_drop > 0:\n",
    "    pct = n_drop / len(keep_mask) * 100\n",
    "    print(f\"Dropping {n_drop} rows ({pct:.2f}%) where mode='{mode}'\")"
   ]
  },
  {
   "cell_type": "code",
   "execution_count": 39,
   "id": "5fb8eee5",
   "metadata": {
    "execution": {
     "iopub.execute_input": "2025-07-30T21:24:18.406416Z",
     "iopub.status.busy": "2025-07-30T21:24:18.405424Z",
     "iopub.status.idle": "2025-07-30T21:24:18.411862Z",
     "shell.execute_reply": "2025-07-30T21:24:18.410959Z"
    },
    "papermill": {
     "duration": 0.031877,
     "end_time": "2025-07-30T21:24:18.413483",
     "exception": false,
     "start_time": "2025-07-30T21:24:18.381606",
     "status": "completed"
    },
    "tags": []
   },
   "outputs": [],
   "source": [
    "X_train = X_train[keep_mask]"
   ]
  },
  {
   "cell_type": "code",
   "execution_count": 40,
   "id": "b202bb3a",
   "metadata": {
    "execution": {
     "iopub.execute_input": "2025-07-30T21:24:18.458051Z",
     "iopub.status.busy": "2025-07-30T21:24:18.457355Z",
     "iopub.status.idle": "2025-07-30T21:24:18.463724Z",
     "shell.execute_reply": "2025-07-30T21:24:18.462826Z"
    },
    "papermill": {
     "duration": 0.030194,
     "end_time": "2025-07-30T21:24:18.465300",
     "exception": false,
     "start_time": "2025-07-30T21:24:18.435106",
     "status": "completed"
    },
    "tags": []
   },
   "outputs": [],
   "source": [
    "y_train = y_train[keep_mask]"
   ]
  },
  {
   "cell_type": "markdown",
   "id": "493e2ac3",
   "metadata": {
    "papermill": {
     "duration": 0.022728,
     "end_time": "2025-07-30T21:24:18.510591",
     "exception": false,
     "start_time": "2025-07-30T21:24:18.487863",
     "status": "completed"
    },
    "tags": []
   },
   "source": [
    "# Model Training"
   ]
  },
  {
   "cell_type": "code",
   "execution_count": 41,
   "id": "679e1268",
   "metadata": {
    "execution": {
     "iopub.execute_input": "2025-07-30T21:24:18.558723Z",
     "iopub.status.busy": "2025-07-30T21:24:18.558041Z",
     "iopub.status.idle": "2025-07-30T21:24:18.662095Z",
     "shell.execute_reply": "2025-07-30T21:24:18.661166Z"
    },
    "papermill": {
     "duration": 0.130234,
     "end_time": "2025-07-30T21:24:18.664130",
     "exception": false,
     "start_time": "2025-07-30T21:24:18.533896",
     "status": "completed"
    },
    "tags": []
   },
   "outputs": [],
   "source": [
    "from sklearn.linear_model import LogisticRegression\n",
    "from sklearn.ensemble import GradientBoostingClassifier, RandomForestClassifier\n",
    "\n",
    "if (universe[\"model\"] == \"logreg\"):\n",
    "    model = LogisticRegression() #penalty=\"none\") #, solver=\"newton-cg\", max_iter=1) # include random_state=19 ?\n",
    "elif (universe[\"model\"] == \"penalized_logreg\"):\n",
    "    model = LogisticRegression(penalty=\"l2\", C=1.0) #, solver=\"newton-cg\", max_iter=1)\n",
    "elif (universe[\"model\"] == \"rf\"):\n",
    "    model = RandomForestClassifier(n_estimators=100, n_jobs=-1)\n",
    "elif (universe[\"model\"] == \"gbm\"):\n",
    "    model = GradientBoostingClassifier()\n",
    "elif (universe[\"model\"] == \"elasticnet\"):\n",
    "    model = LogisticRegression(penalty = 'elasticnet', solver = 'saga', l1_ratio = 0.5, max_iter=5000) # which solver to use?\n",
    "else:\n",
    "    raise \"Unsupported universe.model\""
   ]
  },
  {
   "cell_type": "code",
   "execution_count": 42,
   "id": "0cc8f744",
   "metadata": {
    "execution": {
     "iopub.execute_input": "2025-07-30T21:24:18.712073Z",
     "iopub.status.busy": "2025-07-30T21:24:18.711163Z",
     "iopub.status.idle": "2025-07-30T21:24:18.717626Z",
     "shell.execute_reply": "2025-07-30T21:24:18.716770Z"
    },
    "papermill": {
     "duration": 0.031639,
     "end_time": "2025-07-30T21:24:18.719099",
     "exception": false,
     "start_time": "2025-07-30T21:24:18.687460",
     "status": "completed"
    },
    "tags": []
   },
   "outputs": [],
   "source": [
    "import numpy as np\n",
    "from sklearn.pipeline import Pipeline\n",
    "from sklearn.preprocessing import StandardScaler\n",
    "\n",
    "model = Pipeline([\n",
    "    #(\"continuous_processor\", continuous_processor),\n",
    "    #(\"categorical_preprocessor\", categorical_preprocessor),\n",
    "    (\"scale\", StandardScaler() if universe[\"scale\"] == \"scale\" else None), \n",
    "    (\"model\", model),\n",
    "])"
   ]
  },
  {
   "cell_type": "code",
   "execution_count": 43,
   "id": "9442c04d",
   "metadata": {
    "execution": {
     "iopub.execute_input": "2025-07-30T21:24:18.764658Z",
     "iopub.status.busy": "2025-07-30T21:24:18.763833Z",
     "iopub.status.idle": "2025-07-30T21:24:19.125918Z",
     "shell.execute_reply": "2025-07-30T21:24:19.125081Z"
    },
    "papermill": {
     "duration": 0.38651,
     "end_time": "2025-07-30T21:24:19.127483",
     "exception": false,
     "start_time": "2025-07-30T21:24:18.740973",
     "status": "completed"
    },
    "tags": []
   },
   "outputs": [
    {
     "data": {
      "text/html": [
       "<style>#sk-container-id-1 {color: black;background-color: white;}#sk-container-id-1 pre{padding: 0;}#sk-container-id-1 div.sk-toggleable {background-color: white;}#sk-container-id-1 label.sk-toggleable__label {cursor: pointer;display: block;width: 100%;margin-bottom: 0;padding: 0.3em;box-sizing: border-box;text-align: center;}#sk-container-id-1 label.sk-toggleable__label-arrow:before {content: \"▸\";float: left;margin-right: 0.25em;color: #696969;}#sk-container-id-1 label.sk-toggleable__label-arrow:hover:before {color: black;}#sk-container-id-1 div.sk-estimator:hover label.sk-toggleable__label-arrow:before {color: black;}#sk-container-id-1 div.sk-toggleable__content {max-height: 0;max-width: 0;overflow: hidden;text-align: left;background-color: #f0f8ff;}#sk-container-id-1 div.sk-toggleable__content pre {margin: 0.2em;color: black;border-radius: 0.25em;background-color: #f0f8ff;}#sk-container-id-1 input.sk-toggleable__control:checked~div.sk-toggleable__content {max-height: 200px;max-width: 100%;overflow: auto;}#sk-container-id-1 input.sk-toggleable__control:checked~label.sk-toggleable__label-arrow:before {content: \"▾\";}#sk-container-id-1 div.sk-estimator input.sk-toggleable__control:checked~label.sk-toggleable__label {background-color: #d4ebff;}#sk-container-id-1 div.sk-label input.sk-toggleable__control:checked~label.sk-toggleable__label {background-color: #d4ebff;}#sk-container-id-1 input.sk-hidden--visually {border: 0;clip: rect(1px 1px 1px 1px);clip: rect(1px, 1px, 1px, 1px);height: 1px;margin: -1px;overflow: hidden;padding: 0;position: absolute;width: 1px;}#sk-container-id-1 div.sk-estimator {font-family: monospace;background-color: #f0f8ff;border: 1px dotted black;border-radius: 0.25em;box-sizing: border-box;margin-bottom: 0.5em;}#sk-container-id-1 div.sk-estimator:hover {background-color: #d4ebff;}#sk-container-id-1 div.sk-parallel-item::after {content: \"\";width: 100%;border-bottom: 1px solid gray;flex-grow: 1;}#sk-container-id-1 div.sk-label:hover label.sk-toggleable__label {background-color: #d4ebff;}#sk-container-id-1 div.sk-serial::before {content: \"\";position: absolute;border-left: 1px solid gray;box-sizing: border-box;top: 0;bottom: 0;left: 50%;z-index: 0;}#sk-container-id-1 div.sk-serial {display: flex;flex-direction: column;align-items: center;background-color: white;padding-right: 0.2em;padding-left: 0.2em;position: relative;}#sk-container-id-1 div.sk-item {position: relative;z-index: 1;}#sk-container-id-1 div.sk-parallel {display: flex;align-items: stretch;justify-content: center;background-color: white;position: relative;}#sk-container-id-1 div.sk-item::before, #sk-container-id-1 div.sk-parallel-item::before {content: \"\";position: absolute;border-left: 1px solid gray;box-sizing: border-box;top: 0;bottom: 0;left: 50%;z-index: -1;}#sk-container-id-1 div.sk-parallel-item {display: flex;flex-direction: column;z-index: 1;position: relative;background-color: white;}#sk-container-id-1 div.sk-parallel-item:first-child::after {align-self: flex-end;width: 50%;}#sk-container-id-1 div.sk-parallel-item:last-child::after {align-self: flex-start;width: 50%;}#sk-container-id-1 div.sk-parallel-item:only-child::after {width: 0;}#sk-container-id-1 div.sk-dashed-wrapped {border: 1px dashed gray;margin: 0 0.4em 0.5em 0.4em;box-sizing: border-box;padding-bottom: 0.4em;background-color: white;}#sk-container-id-1 div.sk-label label {font-family: monospace;font-weight: bold;display: inline-block;line-height: 1.2em;}#sk-container-id-1 div.sk-label-container {text-align: center;}#sk-container-id-1 div.sk-container {/* jupyter's `normalize.less` sets `[hidden] { display: none; }` but bootstrap.min.css set `[hidden] { display: none !important; }` so we also need the `!important` here to be able to override the default hidden behavior on the sphinx rendered scikit-learn.org. See: https://github.com/scikit-learn/scikit-learn/issues/21755 */display: inline-block !important;position: relative;}#sk-container-id-1 div.sk-text-repr-fallback {display: none;}</style><div id=\"sk-container-id-1\" class=\"sk-top-container\"><div class=\"sk-text-repr-fallback\"><pre>Pipeline(steps=[(&#x27;scale&#x27;, StandardScaler()),\n",
       "                (&#x27;model&#x27;, RandomForestClassifier(n_jobs=-1))])</pre><b>In a Jupyter environment, please rerun this cell to show the HTML representation or trust the notebook. <br />On GitHub, the HTML representation is unable to render, please try loading this page with nbviewer.org.</b></div><div class=\"sk-container\" hidden><div class=\"sk-item sk-dashed-wrapped\"><div class=\"sk-label-container\"><div class=\"sk-label sk-toggleable\"><input class=\"sk-toggleable__control sk-hidden--visually\" id=\"sk-estimator-id-1\" type=\"checkbox\" ><label for=\"sk-estimator-id-1\" class=\"sk-toggleable__label sk-toggleable__label-arrow\">Pipeline</label><div class=\"sk-toggleable__content\"><pre>Pipeline(steps=[(&#x27;scale&#x27;, StandardScaler()),\n",
       "                (&#x27;model&#x27;, RandomForestClassifier(n_jobs=-1))])</pre></div></div></div><div class=\"sk-serial\"><div class=\"sk-item\"><div class=\"sk-estimator sk-toggleable\"><input class=\"sk-toggleable__control sk-hidden--visually\" id=\"sk-estimator-id-2\" type=\"checkbox\" ><label for=\"sk-estimator-id-2\" class=\"sk-toggleable__label sk-toggleable__label-arrow\">StandardScaler</label><div class=\"sk-toggleable__content\"><pre>StandardScaler()</pre></div></div></div><div class=\"sk-item\"><div class=\"sk-estimator sk-toggleable\"><input class=\"sk-toggleable__control sk-hidden--visually\" id=\"sk-estimator-id-3\" type=\"checkbox\" ><label for=\"sk-estimator-id-3\" class=\"sk-toggleable__label sk-toggleable__label-arrow\">RandomForestClassifier</label><div class=\"sk-toggleable__content\"><pre>RandomForestClassifier(n_jobs=-1)</pre></div></div></div></div></div></div></div>"
      ],
      "text/plain": [
       "Pipeline(steps=[('scale', StandardScaler()),\n",
       "                ('model', RandomForestClassifier(n_jobs=-1))])"
      ]
     },
     "execution_count": 43,
     "metadata": {},
     "output_type": "execute_result"
    }
   ],
   "source": [
    "model.fit(X_train, y_train.values.ravel())"
   ]
  },
  {
   "cell_type": "code",
   "execution_count": 44,
   "id": "af59f8c0",
   "metadata": {
    "execution": {
     "iopub.execute_input": "2025-07-30T21:24:19.174185Z",
     "iopub.status.busy": "2025-07-30T21:24:19.173169Z",
     "iopub.status.idle": "2025-07-30T21:24:19.179453Z",
     "shell.execute_reply": "2025-07-30T21:24:19.178584Z"
    },
    "papermill": {
     "duration": 0.032036,
     "end_time": "2025-07-30T21:24:19.181305",
     "exception": false,
     "start_time": "2025-07-30T21:24:19.149269",
     "status": "completed"
    },
    "tags": []
   },
   "outputs": [],
   "source": [
    "from fairness_multiverse.universe import predict_w_threshold"
   ]
  },
  {
   "cell_type": "code",
   "execution_count": 45,
   "id": "a7cf2e16",
   "metadata": {
    "execution": {
     "iopub.execute_input": "2025-07-30T21:24:19.229116Z",
     "iopub.status.busy": "2025-07-30T21:24:19.228173Z",
     "iopub.status.idle": "2025-07-30T21:24:20.121563Z",
     "shell.execute_reply": "2025-07-30T21:24:20.120774Z"
    },
    "papermill": {
     "duration": 0.922274,
     "end_time": "2025-07-30T21:24:20.125651",
     "exception": false,
     "start_time": "2025-07-30T21:24:19.203377",
     "status": "completed"
    },
    "tags": []
   },
   "outputs": [
    {
     "data": {
      "text/plain": [
       "0.8638613309553004"
      ]
     },
     "execution_count": 45,
     "metadata": {},
     "output_type": "execute_result"
    }
   ],
   "source": [
    "probs_test = model.predict_proba(X_test)\n",
    "\n",
    "'''\n",
    "Below code returns a boolean array (or binary 0/1 array depending on how it’s used) where each element \n",
    "is True if the probability of class 1 is greater than or equal to the threshold, and False otherwise.\n",
    "'''\n",
    "y_pred_default = predict_w_threshold(probs_test, 0.5)\n",
    "\n",
    "from sklearn.metrics import accuracy_score\n",
    "\n",
    "# Naive prediction\n",
    "accuracy_score(y_true = y_true, y_pred = y_pred_default)"
   ]
  },
  {
   "cell_type": "code",
   "execution_count": 46,
   "id": "081964c3",
   "metadata": {
    "execution": {
     "iopub.execute_input": "2025-07-30T21:24:20.152866Z",
     "iopub.status.busy": "2025-07-30T21:24:20.152558Z",
     "iopub.status.idle": "2025-07-30T21:24:21.106804Z",
     "shell.execute_reply": "2025-07-30T21:24:21.106077Z"
    },
    "papermill": {
     "duration": 0.968028,
     "end_time": "2025-07-30T21:24:21.108163",
     "exception": false,
     "start_time": "2025-07-30T21:24:20.140135",
     "status": "completed"
    },
    "tags": []
   },
   "outputs": [
    {
     "data": {
      "text/plain": [
       "array([0, 0, 0, ..., 0, 0, 0])"
      ]
     },
     "execution_count": 46,
     "metadata": {},
     "output_type": "execute_result"
    }
   ],
   "source": [
    "model.predict(X_test)"
   ]
  },
  {
   "cell_type": "markdown",
   "id": "56c9705b",
   "metadata": {
    "papermill": {
     "duration": 0.012005,
     "end_time": "2025-07-30T21:24:21.136976",
     "exception": false,
     "start_time": "2025-07-30T21:24:21.124971",
     "status": "completed"
    },
    "tags": []
   },
   "source": [
    "# Conformal Prediction"
   ]
  },
  {
   "cell_type": "code",
   "execution_count": 47,
   "id": "160ec6ff",
   "metadata": {
    "execution": {
     "iopub.execute_input": "2025-07-30T21:24:21.163066Z",
     "iopub.status.busy": "2025-07-30T21:24:21.162327Z",
     "iopub.status.idle": "2025-07-30T21:24:21.166706Z",
     "shell.execute_reply": "2025-07-30T21:24:21.166054Z"
    },
    "papermill": {
     "duration": 0.018619,
     "end_time": "2025-07-30T21:24:21.167933",
     "exception": false,
     "start_time": "2025-07-30T21:24:21.149314",
     "status": "completed"
    },
    "tags": []
   },
   "outputs": [],
   "source": [
    "# Miscoverage level for conformal prediction (10% allowed error rate => 90% target coverage)\n",
    "alpha = 0.1"
   ]
  },
  {
   "cell_type": "code",
   "execution_count": 48,
   "id": "eadf4555-3dd3-440e-8e35-f82a4ad9f855",
   "metadata": {
    "execution": {
     "iopub.execute_input": "2025-07-30T21:24:21.215454Z",
     "iopub.status.busy": "2025-07-30T21:24:21.214904Z",
     "iopub.status.idle": "2025-07-30T21:24:22.209110Z",
     "shell.execute_reply": "2025-07-30T21:24:22.208400Z"
    },
    "papermill": {
     "duration": 1.023501,
     "end_time": "2025-07-30T21:24:22.211437",
     "exception": false,
     "start_time": "2025-07-30T21:24:21.187936",
     "status": "completed"
    },
    "tags": []
   },
   "outputs": [],
   "source": [
    "probs_calib = model.predict_proba(X_calib)"
   ]
  },
  {
   "cell_type": "code",
   "execution_count": 49,
   "id": "2ed93547-6d5d-4983-9b36-1ecb300da49a",
   "metadata": {
    "execution": {
     "iopub.execute_input": "2025-07-30T21:24:22.298520Z",
     "iopub.status.busy": "2025-07-30T21:24:22.297994Z",
     "iopub.status.idle": "2025-07-30T21:24:22.304858Z",
     "shell.execute_reply": "2025-07-30T21:24:22.303570Z"
    },
    "papermill": {
     "duration": 0.043724,
     "end_time": "2025-07-30T21:24:22.307355",
     "exception": false,
     "start_time": "2025-07-30T21:24:22.263631",
     "status": "completed"
    },
    "tags": []
   },
   "outputs": [],
   "source": [
    "y_calib = y_calib.values.ravel().astype(int)"
   ]
  },
  {
   "cell_type": "code",
   "execution_count": 50,
   "id": "65d1320d-f588-4b38-9072-62af1ae97f7d",
   "metadata": {
    "execution": {
     "iopub.execute_input": "2025-07-30T21:24:22.381519Z",
     "iopub.status.busy": "2025-07-30T21:24:22.381104Z",
     "iopub.status.idle": "2025-07-30T21:24:22.389143Z",
     "shell.execute_reply": "2025-07-30T21:24:22.388163Z"
    },
    "papermill": {
     "duration": 0.047017,
     "end_time": "2025-07-30T21:24:22.391268",
     "exception": false,
     "start_time": "2025-07-30T21:24:22.344251",
     "status": "completed"
    },
    "tags": []
   },
   "outputs": [],
   "source": [
    "from fairness_multiverse.conformal import compute_nc_scores\n",
    "\n",
    "# Compute nonconformity scores on calibration set (1 - probability of true class)\n",
    "nc_scores = compute_nc_scores(probs_calib, y_calib)"
   ]
  },
  {
   "cell_type": "code",
   "execution_count": 51,
   "id": "df3b8ca3-53b7-43d5-9667-7c85da7aeda2",
   "metadata": {
    "execution": {
     "iopub.execute_input": "2025-07-30T21:24:22.462966Z",
     "iopub.status.busy": "2025-07-30T21:24:22.462551Z",
     "iopub.status.idle": "2025-07-30T21:24:22.469632Z",
     "shell.execute_reply": "2025-07-30T21:24:22.468542Z"
    },
    "papermill": {
     "duration": 0.04489,
     "end_time": "2025-07-30T21:24:22.471715",
     "exception": false,
     "start_time": "2025-07-30T21:24:22.426825",
     "status": "completed"
    },
    "tags": []
   },
   "outputs": [],
   "source": [
    "from fairness_multiverse.conformal import find_threshold\n",
    "\n",
    "# Find conformal threshold q_hat for the given alpha (split conformal method)\n",
    "q_hat = find_threshold(nc_scores, alpha)"
   ]
  },
  {
   "cell_type": "code",
   "execution_count": 52,
   "id": "4d29e6c1-0ef6-4aa4-b8fe-4fe79b0d033a",
   "metadata": {
    "execution": {
     "iopub.execute_input": "2025-07-30T21:24:22.524174Z",
     "iopub.status.busy": "2025-07-30T21:24:22.523473Z",
     "iopub.status.idle": "2025-07-30T21:24:22.531054Z",
     "shell.execute_reply": "2025-07-30T21:24:22.529908Z"
    },
    "papermill": {
     "duration": 0.04061,
     "end_time": "2025-07-30T21:24:22.539167",
     "exception": false,
     "start_time": "2025-07-30T21:24:22.498557",
     "status": "completed"
    },
    "tags": []
   },
   "outputs": [
    {
     "data": {
      "text/plain": [
       "0.6699999999999999"
      ]
     },
     "execution_count": 52,
     "metadata": {},
     "output_type": "execute_result"
    }
   ],
   "source": [
    "q_hat"
   ]
  },
  {
   "cell_type": "code",
   "execution_count": 53,
   "id": "92460794-cdac-4be2-ba28-f28c0515a6fb",
   "metadata": {
    "execution": {
     "iopub.execute_input": "2025-07-30T21:24:22.584895Z",
     "iopub.status.busy": "2025-07-30T21:24:22.584389Z",
     "iopub.status.idle": "2025-07-30T21:24:24.237490Z",
     "shell.execute_reply": "2025-07-30T21:24:24.236569Z"
    },
    "papermill": {
     "duration": 1.678947,
     "end_time": "2025-07-30T21:24:24.239391",
     "exception": false,
     "start_time": "2025-07-30T21:24:22.560444",
     "status": "completed"
    },
    "tags": []
   },
   "outputs": [],
   "source": [
    "from fairness_multiverse.conformal import predict_conformal_sets\n",
    "\n",
    "# Generate prediction sets for each test example\n",
    "pred_sets = predict_conformal_sets(model, X_test, q_hat)"
   ]
  },
  {
   "cell_type": "code",
   "execution_count": 54,
   "id": "d90c9a65-e6db-4f5d-80cd-e68fb7e46829",
   "metadata": {
    "execution": {
     "iopub.execute_input": "2025-07-30T21:24:24.289283Z",
     "iopub.status.busy": "2025-07-30T21:24:24.288909Z",
     "iopub.status.idle": "2025-07-30T21:24:24.294958Z",
     "shell.execute_reply": "2025-07-30T21:24:24.293875Z"
    },
    "papermill": {
     "duration": 0.031915,
     "end_time": "2025-07-30T21:24:24.296848",
     "exception": false,
     "start_time": "2025-07-30T21:24:24.264933",
     "status": "completed"
    },
    "tags": []
   },
   "outputs": [],
   "source": [
    "y_true = y_true.squeeze()"
   ]
  },
  {
   "cell_type": "code",
   "execution_count": 55,
   "id": "3a58a54a-1e68-46b9-927a-df01f18aebc8",
   "metadata": {
    "execution": {
     "iopub.execute_input": "2025-07-30T21:24:24.404609Z",
     "iopub.status.busy": "2025-07-30T21:24:24.404151Z",
     "iopub.status.idle": "2025-07-30T21:24:25.348120Z",
     "shell.execute_reply": "2025-07-30T21:24:25.347162Z"
    },
    "papermill": {
     "duration": 1.001845,
     "end_time": "2025-07-30T21:24:25.350152",
     "exception": false,
     "start_time": "2025-07-30T21:24:24.348307",
     "status": "completed"
    },
    "tags": []
   },
   "outputs": [],
   "source": [
    "from fairness_multiverse.conformal import evaluate_sets\n",
    "\n",
    "# Evaluate coverage and average set size on test data\n",
    "metrics = evaluate_sets(pred_sets, y_true)"
   ]
  },
  {
   "cell_type": "markdown",
   "id": "2b569c12-9aaa-4c88-98c9-bbcd0cf3ebb8",
   "metadata": {
    "papermill": {
     "duration": 0.024311,
     "end_time": "2025-07-30T21:24:25.398361",
     "exception": false,
     "start_time": "2025-07-30T21:24:25.374050",
     "status": "completed"
    },
    "tags": []
   },
   "source": [
    "# CP Metrics"
   ]
  },
  {
   "cell_type": "code",
   "execution_count": 56,
   "id": "5ce0a5cb-201f-45a0-ade5-94c7f0bd6095",
   "metadata": {
    "execution": {
     "iopub.execute_input": "2025-07-30T21:24:25.444816Z",
     "iopub.status.busy": "2025-07-30T21:24:25.444379Z",
     "iopub.status.idle": "2025-07-30T21:24:25.451440Z",
     "shell.execute_reply": "2025-07-30T21:24:25.450618Z"
    },
    "papermill": {
     "duration": 0.038407,
     "end_time": "2025-07-30T21:24:25.459692",
     "exception": false,
     "start_time": "2025-07-30T21:24:25.421285",
     "status": "completed"
    },
    "tags": []
   },
   "outputs": [
    {
     "data": {
      "text/plain": [
       "{'coverage': 0.912540407981273, 'avg_size': 1.1422472411102442}"
      ]
     },
     "execution_count": 56,
     "metadata": {},
     "output_type": "execute_result"
    }
   ],
   "source": [
    "metrics"
   ]
  },
  {
   "cell_type": "code",
   "execution_count": 57,
   "id": "9b9a838d-31c9-430b-ae14-12baee460d17",
   "metadata": {
    "execution": {
     "iopub.execute_input": "2025-07-30T21:24:25.535505Z",
     "iopub.status.busy": "2025-07-30T21:24:25.535131Z",
     "iopub.status.idle": "2025-07-30T21:24:25.542033Z",
     "shell.execute_reply": "2025-07-30T21:24:25.540985Z"
    },
    "papermill": {
     "duration": 0.045883,
     "end_time": "2025-07-30T21:24:25.543745",
     "exception": false,
     "start_time": "2025-07-30T21:24:25.497862",
     "status": "completed"
    },
    "tags": []
   },
   "outputs": [],
   "source": [
    "example_universe = universe.copy()\n",
    "universe_training_year = example_universe.get(\"training_year\")\n",
    "universe_training_size = example_universe.get(\"training_size\")\n",
    "universe_scale = example_universe.get(\"scale\")\n",
    "universe_model = example_universe.get(\"model\")\n",
    "universe_exclude_features = example_universe.get(\"exclude_features\")\n",
    "universe_exclude_subgroups = example_universe.get(\"exclude_subgroups\")"
   ]
  },
  {
   "cell_type": "code",
   "execution_count": 58,
   "id": "f4b6a8ac-9dc0-4245-8a91-5b3b5999c4f9",
   "metadata": {
    "execution": {
     "iopub.execute_input": "2025-07-30T21:24:25.614923Z",
     "iopub.status.busy": "2025-07-30T21:24:25.614544Z",
     "iopub.status.idle": "2025-07-30T21:24:25.621733Z",
     "shell.execute_reply": "2025-07-30T21:24:25.620673Z"
    },
    "papermill": {
     "duration": 0.046676,
     "end_time": "2025-07-30T21:24:25.623555",
     "exception": false,
     "start_time": "2025-07-30T21:24:25.576879",
     "status": "completed"
    },
    "tags": []
   },
   "outputs": [],
   "source": [
    "cp_metrics_dict = {\n",
    "    \"universe_id\": [universe_id],\n",
    "    \"universe_training_year\": [universe_training_year],\n",
    "    \"universe_training_size\": [universe_training_size],\n",
    "    \"universe_scale\": [universe_scale],\n",
    "    \"universe_model\": [universe_model],\n",
    "    \"universe_exclude_features\": [universe_exclude_features],\n",
    "    \"universe_exclude_subgroups\": [universe_exclude_subgroups],\n",
    "    \"q_hat\": [q_hat],\n",
    "    \"coverage\": [metrics[\"coverage\"]],\n",
    "    \"avg_size\": [metrics[\"avg_size\"]],\n",
    "}"
   ]
  },
  {
   "cell_type": "code",
   "execution_count": 59,
   "id": "908acbb1-0371-4915-85ca-3fa520d2efe2",
   "metadata": {
    "execution": {
     "iopub.execute_input": "2025-07-30T21:24:25.684220Z",
     "iopub.status.busy": "2025-07-30T21:24:25.683628Z",
     "iopub.status.idle": "2025-07-30T21:24:25.691575Z",
     "shell.execute_reply": "2025-07-30T21:24:25.690326Z"
    },
    "papermill": {
     "duration": 0.042419,
     "end_time": "2025-07-30T21:24:25.694336",
     "exception": false,
     "start_time": "2025-07-30T21:24:25.651917",
     "status": "completed"
    },
    "tags": []
   },
   "outputs": [
    {
     "data": {
      "text/plain": [
       "{'universe_id': ['e95ed2994b1b5ec918e7bcd050f0ad5f'],\n",
       " 'universe_training_year': ['2014'],\n",
       " 'universe_training_size': ['1k'],\n",
       " 'universe_scale': ['scale'],\n",
       " 'universe_model': ['rf'],\n",
       " 'universe_exclude_features': ['none'],\n",
       " 'universe_exclude_subgroups': ['keep-all'],\n",
       " 'q_hat': [0.6699999999999999],\n",
       " 'coverage': [0.912540407981273],\n",
       " 'avg_size': [1.1422472411102442]}"
      ]
     },
     "execution_count": 59,
     "metadata": {},
     "output_type": "execute_result"
    }
   ],
   "source": [
    "cp_metrics_dict"
   ]
  },
  {
   "cell_type": "code",
   "execution_count": 60,
   "id": "33007efc-14e9-4ec6-97ac-56a455c82265",
   "metadata": {
    "execution": {
     "iopub.execute_input": "2025-07-30T21:24:25.751251Z",
     "iopub.status.busy": "2025-07-30T21:24:25.750844Z",
     "iopub.status.idle": "2025-07-30T21:24:25.756242Z",
     "shell.execute_reply": "2025-07-30T21:24:25.755284Z"
    },
    "papermill": {
     "duration": 0.030964,
     "end_time": "2025-07-30T21:24:25.757665",
     "exception": false,
     "start_time": "2025-07-30T21:24:25.726701",
     "status": "completed"
    },
    "tags": []
   },
   "outputs": [],
   "source": [
    "cp_metrics_df = pd.DataFrame(cp_metrics_dict)"
   ]
  },
  {
   "cell_type": "code",
   "execution_count": 61,
   "id": "db12611b-57b2-4910-b9d0-355adfd6e7bf",
   "metadata": {
    "execution": {
     "iopub.execute_input": "2025-07-30T21:24:25.805755Z",
     "iopub.status.busy": "2025-07-30T21:24:25.805031Z",
     "iopub.status.idle": "2025-07-30T21:24:25.824592Z",
     "shell.execute_reply": "2025-07-30T21:24:25.823618Z"
    },
    "papermill": {
     "duration": 0.045406,
     "end_time": "2025-07-30T21:24:25.826121",
     "exception": false,
     "start_time": "2025-07-30T21:24:25.780715",
     "status": "completed"
    },
    "tags": []
   },
   "outputs": [
    {
     "data": {
      "text/html": [
       "<div>\n",
       "<style scoped>\n",
       "    .dataframe tbody tr th:only-of-type {\n",
       "        vertical-align: middle;\n",
       "    }\n",
       "\n",
       "    .dataframe tbody tr th {\n",
       "        vertical-align: top;\n",
       "    }\n",
       "\n",
       "    .dataframe thead th {\n",
       "        text-align: right;\n",
       "    }\n",
       "</style>\n",
       "<table border=\"1\" class=\"dataframe\">\n",
       "  <thead>\n",
       "    <tr style=\"text-align: right;\">\n",
       "      <th></th>\n",
       "      <th>universe_id</th>\n",
       "      <th>universe_training_year</th>\n",
       "      <th>universe_training_size</th>\n",
       "      <th>universe_scale</th>\n",
       "      <th>universe_model</th>\n",
       "      <th>universe_exclude_features</th>\n",
       "      <th>universe_exclude_subgroups</th>\n",
       "      <th>q_hat</th>\n",
       "      <th>coverage</th>\n",
       "      <th>avg_size</th>\n",
       "    </tr>\n",
       "  </thead>\n",
       "  <tbody>\n",
       "    <tr>\n",
       "      <th>0</th>\n",
       "      <td>e95ed2994b1b5ec918e7bcd050f0ad5f</td>\n",
       "      <td>2014</td>\n",
       "      <td>1k</td>\n",
       "      <td>scale</td>\n",
       "      <td>rf</td>\n",
       "      <td>none</td>\n",
       "      <td>keep-all</td>\n",
       "      <td>0.67</td>\n",
       "      <td>0.91254</td>\n",
       "      <td>1.142247</td>\n",
       "    </tr>\n",
       "  </tbody>\n",
       "</table>\n",
       "</div>"
      ],
      "text/plain": [
       "                        universe_id universe_training_year  \\\n",
       "0  e95ed2994b1b5ec918e7bcd050f0ad5f                   2014   \n",
       "\n",
       "  universe_training_size universe_scale universe_model  \\\n",
       "0                     1k          scale             rf   \n",
       "\n",
       "  universe_exclude_features universe_exclude_subgroups  q_hat  coverage  \\\n",
       "0                      none                   keep-all   0.67   0.91254   \n",
       "\n",
       "   avg_size  \n",
       "0  1.142247  "
      ]
     },
     "execution_count": 61,
     "metadata": {},
     "output_type": "execute_result"
    }
   ],
   "source": [
    "cp_metrics_df"
   ]
  },
  {
   "cell_type": "code",
   "execution_count": 62,
   "id": "b7fbde55-a0a1-47e4-9af6-fe4a17fa8c61",
   "metadata": {
    "execution": {
     "iopub.execute_input": "2025-07-30T21:24:25.879156Z",
     "iopub.status.busy": "2025-07-30T21:24:25.878793Z",
     "iopub.status.idle": "2025-07-30T21:24:25.883892Z",
     "shell.execute_reply": "2025-07-30T21:24:25.882902Z"
    },
    "papermill": {
     "duration": 0.03418,
     "end_time": "2025-07-30T21:24:25.885554",
     "exception": false,
     "start_time": "2025-07-30T21:24:25.851374",
     "status": "completed"
    },
    "tags": []
   },
   "outputs": [],
   "source": [
    "# Conditional Coverage & looking at subgroups"
   ]
  },
  {
   "cell_type": "code",
   "execution_count": 63,
   "id": "027ae886-68dd-4141-96c7-805a5450e1ef",
   "metadata": {
    "execution": {
     "iopub.execute_input": "2025-07-30T21:24:25.935728Z",
     "iopub.status.busy": "2025-07-30T21:24:25.935219Z",
     "iopub.status.idle": "2025-07-30T21:24:26.200236Z",
     "shell.execute_reply": "2025-07-30T21:24:26.198792Z"
    },
    "papermill": {
     "duration": 0.292628,
     "end_time": "2025-07-30T21:24:26.202122",
     "exception": false,
     "start_time": "2025-07-30T21:24:25.909494",
     "status": "completed"
    },
    "tags": []
   },
   "outputs": [],
   "source": [
    "from fairness_multiverse.conformal import build_cp_groups\n",
    "\n",
    "cp_groups_df = build_cp_groups(pred_sets, y_true, X_test.index, org_test)\n",
    "#needs universe_id and setting"
   ]
  },
  {
   "cell_type": "code",
   "execution_count": 64,
   "id": "01d5802c-663a-4d1f-9d69-e036faaffbf7",
   "metadata": {
    "execution": {
     "iopub.execute_input": "2025-07-30T21:24:26.264013Z",
     "iopub.status.busy": "2025-07-30T21:24:26.263676Z",
     "iopub.status.idle": "2025-07-30T21:24:26.268868Z",
     "shell.execute_reply": "2025-07-30T21:24:26.267991Z"
    },
    "papermill": {
     "duration": 0.042269,
     "end_time": "2025-07-30T21:24:26.274354",
     "exception": false,
     "start_time": "2025-07-30T21:24:26.232085",
     "status": "completed"
    },
    "tags": []
   },
   "outputs": [],
   "source": [
    "#delete\n",
    "#cp_groups_df"
   ]
  },
  {
   "cell_type": "code",
   "execution_count": 65,
   "id": "fa424af1-d1eb-443d-b717-2d279ada8408",
   "metadata": {
    "execution": {
     "iopub.execute_input": "2025-07-30T21:24:26.325049Z",
     "iopub.status.busy": "2025-07-30T21:24:26.324663Z",
     "iopub.status.idle": "2025-07-30T21:24:26.329676Z",
     "shell.execute_reply": "2025-07-30T21:24:26.328739Z"
    },
    "papermill": {
     "duration": 0.03251,
     "end_time": "2025-07-30T21:24:26.332415",
     "exception": false,
     "start_time": "2025-07-30T21:24:26.299905",
     "status": "completed"
    },
    "tags": []
   },
   "outputs": [],
   "source": [
    "#delete\n",
    "#percentage = (cp_groups_df['nongerman_female'] == 1).mean() * 100\n",
    "#print(percentage)\n"
   ]
  },
  {
   "cell_type": "code",
   "execution_count": 66,
   "id": "6cbdab96-b2b2-45af-ad54-d0516db2e28d",
   "metadata": {
    "execution": {
     "iopub.execute_input": "2025-07-30T21:24:26.385074Z",
     "iopub.status.busy": "2025-07-30T21:24:26.384640Z",
     "iopub.status.idle": "2025-07-30T21:24:27.889469Z",
     "shell.execute_reply": "2025-07-30T21:24:27.888366Z"
    },
    "papermill": {
     "duration": 1.532655,
     "end_time": "2025-07-30T21:24:27.891394",
     "exception": false,
     "start_time": "2025-07-30T21:24:26.358739",
     "status": "completed"
    },
    "tags": []
   },
   "outputs": [],
   "source": [
    "# Define covered = 1 if true_label is in the predicted set\n",
    "cp_groups_df['covered'] = cp_groups_df.apply(\n",
    "    lambda r: int(r['true_label'] in r['pred_set']),\n",
    "    axis=1\n",
    ")"
   ]
  },
  {
   "cell_type": "code",
   "execution_count": 67,
   "id": "338ff529-1a6b-4b87-a931-8e4788d52aad",
   "metadata": {
    "execution": {
     "iopub.execute_input": "2025-07-30T21:24:27.961343Z",
     "iopub.status.busy": "2025-07-30T21:24:27.960856Z",
     "iopub.status.idle": "2025-07-30T21:24:27.966092Z",
     "shell.execute_reply": "2025-07-30T21:24:27.965177Z"
    },
    "papermill": {
     "duration": 0.031427,
     "end_time": "2025-07-30T21:24:27.968057",
     "exception": false,
     "start_time": "2025-07-30T21:24:27.936630",
     "status": "completed"
    },
    "tags": []
   },
   "outputs": [],
   "source": [
    "#cp_groups_df"
   ]
  },
  {
   "cell_type": "code",
   "execution_count": 68,
   "id": "90032e27-66df-4540-9169-4e89cfbaa758",
   "metadata": {
    "execution": {
     "iopub.execute_input": "2025-07-30T21:24:28.025953Z",
     "iopub.status.busy": "2025-07-30T21:24:28.025034Z",
     "iopub.status.idle": "2025-07-30T21:24:28.037334Z",
     "shell.execute_reply": "2025-07-30T21:24:28.036244Z"
    },
    "papermill": {
     "duration": 0.045734,
     "end_time": "2025-07-30T21:24:28.042573",
     "exception": false,
     "start_time": "2025-07-30T21:24:27.996839",
     "status": "completed"
    },
    "tags": []
   },
   "outputs": [],
   "source": [
    "subgroups = ['frau1','nongerman','nongerman_male','nongerman_female']\n",
    "\n",
    "# Conditional coverage for subgroup==1\n",
    "cond_coverage = {\n",
    "    g: cp_groups_df.loc[cp_groups_df[g]==1, 'covered'].mean()\n",
    "    for g in subgroups\n",
    "}"
   ]
  },
  {
   "cell_type": "code",
   "execution_count": 69,
   "id": "1e348fb1-b9c3-45bc-ba23-f016827a7e0d",
   "metadata": {
    "execution": {
     "iopub.execute_input": "2025-07-30T21:24:28.103227Z",
     "iopub.status.busy": "2025-07-30T21:24:28.102615Z",
     "iopub.status.idle": "2025-07-30T21:24:28.111866Z",
     "shell.execute_reply": "2025-07-30T21:24:28.110817Z"
    },
    "papermill": {
     "duration": 0.042258,
     "end_time": "2025-07-30T21:24:28.113938",
     "exception": false,
     "start_time": "2025-07-30T21:24:28.071680",
     "status": "completed"
    },
    "tags": []
   },
   "outputs": [
    {
     "data": {
      "text/plain": [
       "{'frau1': 0.9075886238037472,\n",
       " 'nongerman': 0.9084937966653568,\n",
       " 'nongerman_male': 0.9256957579032694,\n",
       " 'nongerman_female': 0.8800298062593145}"
      ]
     },
     "execution_count": 69,
     "metadata": {},
     "output_type": "execute_result"
    }
   ],
   "source": [
    "cond_coverage"
   ]
  },
  {
   "cell_type": "code",
   "execution_count": 70,
   "id": "f5093324-c3dd-4d63-bc4c-8d945e5c8bbb",
   "metadata": {
    "execution": {
     "iopub.execute_input": "2025-07-30T21:24:28.174162Z",
     "iopub.status.busy": "2025-07-30T21:24:28.173321Z",
     "iopub.status.idle": "2025-07-30T21:24:28.183052Z",
     "shell.execute_reply": "2025-07-30T21:24:28.181659Z"
    },
    "papermill": {
     "duration": 0.041641,
     "end_time": "2025-07-30T21:24:28.184862",
     "exception": false,
     "start_time": "2025-07-30T21:24:28.143221",
     "status": "completed"
    },
    "tags": []
   },
   "outputs": [],
   "source": [
    "for subgroup, cov in cond_coverage.items():\n",
    "    cp_metrics_df[f\"cov_{subgroup}\"] = cov"
   ]
  },
  {
   "cell_type": "code",
   "execution_count": 71,
   "id": "6e872e10-dbe5-49e8-b554-5030c98ff75d",
   "metadata": {
    "execution": {
     "iopub.execute_input": "2025-07-30T21:24:28.221483Z",
     "iopub.status.busy": "2025-07-30T21:24:28.221141Z",
     "iopub.status.idle": "2025-07-30T21:24:28.244837Z",
     "shell.execute_reply": "2025-07-30T21:24:28.243687Z"
    },
    "papermill": {
     "duration": 0.04087,
     "end_time": "2025-07-30T21:24:28.246418",
     "exception": false,
     "start_time": "2025-07-30T21:24:28.205548",
     "status": "completed"
    },
    "tags": []
   },
   "outputs": [
    {
     "data": {
      "text/html": [
       "<div>\n",
       "<style scoped>\n",
       "    .dataframe tbody tr th:only-of-type {\n",
       "        vertical-align: middle;\n",
       "    }\n",
       "\n",
       "    .dataframe tbody tr th {\n",
       "        vertical-align: top;\n",
       "    }\n",
       "\n",
       "    .dataframe thead th {\n",
       "        text-align: right;\n",
       "    }\n",
       "</style>\n",
       "<table border=\"1\" class=\"dataframe\">\n",
       "  <thead>\n",
       "    <tr style=\"text-align: right;\">\n",
       "      <th></th>\n",
       "      <th>universe_id</th>\n",
       "      <th>universe_training_year</th>\n",
       "      <th>universe_training_size</th>\n",
       "      <th>universe_scale</th>\n",
       "      <th>universe_model</th>\n",
       "      <th>universe_exclude_features</th>\n",
       "      <th>universe_exclude_subgroups</th>\n",
       "      <th>q_hat</th>\n",
       "      <th>coverage</th>\n",
       "      <th>avg_size</th>\n",
       "      <th>cov_frau1</th>\n",
       "      <th>cov_nongerman</th>\n",
       "      <th>cov_nongerman_male</th>\n",
       "      <th>cov_nongerman_female</th>\n",
       "    </tr>\n",
       "  </thead>\n",
       "  <tbody>\n",
       "    <tr>\n",
       "      <th>0</th>\n",
       "      <td>e95ed2994b1b5ec918e7bcd050f0ad5f</td>\n",
       "      <td>2014</td>\n",
       "      <td>1k</td>\n",
       "      <td>scale</td>\n",
       "      <td>rf</td>\n",
       "      <td>none</td>\n",
       "      <td>keep-all</td>\n",
       "      <td>0.67</td>\n",
       "      <td>0.91254</td>\n",
       "      <td>1.142247</td>\n",
       "      <td>0.907589</td>\n",
       "      <td>0.908494</td>\n",
       "      <td>0.925696</td>\n",
       "      <td>0.88003</td>\n",
       "    </tr>\n",
       "  </tbody>\n",
       "</table>\n",
       "</div>"
      ],
      "text/plain": [
       "                        universe_id universe_training_year  \\\n",
       "0  e95ed2994b1b5ec918e7bcd050f0ad5f                   2014   \n",
       "\n",
       "  universe_training_size universe_scale universe_model  \\\n",
       "0                     1k          scale             rf   \n",
       "\n",
       "  universe_exclude_features universe_exclude_subgroups  q_hat  coverage  \\\n",
       "0                      none                   keep-all   0.67   0.91254   \n",
       "\n",
       "   avg_size  cov_frau1  cov_nongerman  cov_nongerman_male  \\\n",
       "0  1.142247   0.907589       0.908494            0.925696   \n",
       "\n",
       "   cov_nongerman_female  \n",
       "0               0.88003  "
      ]
     },
     "execution_count": 71,
     "metadata": {},
     "output_type": "execute_result"
    }
   ],
   "source": [
    "cp_metrics_df"
   ]
  },
  {
   "cell_type": "markdown",
   "id": "33774451",
   "metadata": {
    "papermill": {
     "duration": 0.024345,
     "end_time": "2025-07-30T21:24:28.289029",
     "exception": false,
     "start_time": "2025-07-30T21:24:28.264684",
     "status": "completed"
    },
    "tags": []
   },
   "source": [
    "# (Fairness) Metrics"
   ]
  },
  {
   "cell_type": "code",
   "execution_count": 72,
   "id": "debc5d62",
   "metadata": {
    "execution": {
     "iopub.execute_input": "2025-07-30T21:24:28.375269Z",
     "iopub.status.busy": "2025-07-30T21:24:28.374834Z",
     "iopub.status.idle": "2025-07-30T21:24:28.414422Z",
     "shell.execute_reply": "2025-07-30T21:24:28.413174Z"
    },
    "papermill": {
     "duration": 0.084121,
     "end_time": "2025-07-30T21:24:28.416781",
     "exception": false,
     "start_time": "2025-07-30T21:24:28.332660",
     "status": "completed"
    },
    "tags": []
   },
   "outputs": [],
   "source": [
    "# do I need to include maxdeutsch1.missing?\n",
    "\n",
    "import numpy as np\n",
    "\n",
    "colname_to_bin = \"maxdeutsch1\"\n",
    "majority_value = org_train[colname_to_bin].mode()[0]\n",
    "\n",
    "org_test[\"majmin\"] = np.where(org_test[colname_to_bin] == majority_value, \"majority\", \"minority\")"
   ]
  },
  {
   "cell_type": "code",
   "execution_count": 73,
   "id": "06a50de5",
   "metadata": {
    "execution": {
     "iopub.execute_input": "2025-07-30T21:24:28.515188Z",
     "iopub.status.busy": "2025-07-30T21:24:28.514284Z",
     "iopub.status.idle": "2025-07-30T21:24:30.951975Z",
     "shell.execute_reply": "2025-07-30T21:24:30.950823Z"
    },
    "papermill": {
     "duration": 2.467378,
     "end_time": "2025-07-30T21:24:30.953996",
     "exception": false,
     "start_time": "2025-07-30T21:24:28.486618",
     "status": "completed"
    },
    "tags": []
   },
   "outputs": [],
   "source": [
    "example_universe = universe.copy()\n",
    "example_universe[\"cutoff\"] = example_universe[\"cutoff\"][0]\n",
    "example_universe[\"eval_fairness_grouping\"] = example_universe[\"eval_fairness_grouping\"][0]\n",
    "fairness_dict, metric_frame = universe_analysis.compute_metrics(\n",
    "    example_universe,\n",
    "    y_pred_prob=probs_test,\n",
    "    y_test=y_true,\n",
    "    org_test=org_test,\n",
    ")"
   ]
  },
  {
   "cell_type": "markdown",
   "id": "f95d4e02",
   "metadata": {
    "papermill": {
     "duration": 0.015573,
     "end_time": "2025-07-30T21:24:31.001561",
     "exception": false,
     "start_time": "2025-07-30T21:24:30.985988",
     "status": "completed"
    },
    "tags": []
   },
   "source": [
    "# Overall"
   ]
  },
  {
   "cell_type": "markdown",
   "id": "bdee4871",
   "metadata": {
    "papermill": {
     "duration": 0.013056,
     "end_time": "2025-07-30T21:24:31.027982",
     "exception": false,
     "start_time": "2025-07-30T21:24:31.014926",
     "status": "completed"
    },
    "tags": []
   },
   "source": [
    "Fairness\n",
    "Main fairness target: Equalized Odds. Seems to be a better fit than equal opportunity, since we're not only interested in Y = 1. Seems to be a better fit than demographic parity, since we also care about accuracy, not just equal distribution of preds.\n",
    "\n",
    "Pick column for computation of fairness metrics\n",
    "\n",
    "Performance\n",
    "Overall performance measures, most interesting in relation to the measures split by group below"
   ]
  },
  {
   "cell_type": "code",
   "execution_count": 74,
   "id": "c4e067c6",
   "metadata": {
    "execution": {
     "iopub.execute_input": "2025-07-30T21:24:31.080802Z",
     "iopub.status.busy": "2025-07-30T21:24:31.080334Z",
     "iopub.status.idle": "2025-07-30T21:24:31.088510Z",
     "shell.execute_reply": "2025-07-30T21:24:31.087579Z"
    },
    "papermill": {
     "duration": 0.038394,
     "end_time": "2025-07-30T21:24:31.090459",
     "exception": false,
     "start_time": "2025-07-30T21:24:31.052065",
     "status": "completed"
    },
    "tags": []
   },
   "outputs": [
    {
     "data": {
      "text/plain": [
       "accuracy                   0.205261\n",
       "balanced accuracy          0.530964\n",
       "f1                         0.238291\n",
       "precision                  0.135848\n",
       "false positive rate        0.907138\n",
       "false negative rate        0.030935\n",
       "selection rate             0.915082\n",
       "count                  89710.000000\n",
       "dtype: float64"
      ]
     },
     "execution_count": 74,
     "metadata": {},
     "output_type": "execute_result"
    }
   ],
   "source": [
    "metric_frame.overall"
   ]
  },
  {
   "cell_type": "markdown",
   "id": "e968fe9d",
   "metadata": {
    "papermill": {
     "duration": 0.0257,
     "end_time": "2025-07-30T21:24:31.144537",
     "exception": false,
     "start_time": "2025-07-30T21:24:31.118837",
     "status": "completed"
    },
    "tags": []
   },
   "source": [
    "By Group"
   ]
  },
  {
   "cell_type": "code",
   "execution_count": 75,
   "id": "ec325bce",
   "metadata": {
    "execution": {
     "iopub.execute_input": "2025-07-30T21:24:31.203230Z",
     "iopub.status.busy": "2025-07-30T21:24:31.202830Z",
     "iopub.status.idle": "2025-07-30T21:24:31.220585Z",
     "shell.execute_reply": "2025-07-30T21:24:31.219361Z"
    },
    "papermill": {
     "duration": 0.049559,
     "end_time": "2025-07-30T21:24:31.222509",
     "exception": false,
     "start_time": "2025-07-30T21:24:31.172950",
     "status": "completed"
    },
    "tags": []
   },
   "outputs": [
    {
     "data": {
      "text/html": [
       "<div>\n",
       "<style scoped>\n",
       "    .dataframe tbody tr th:only-of-type {\n",
       "        vertical-align: middle;\n",
       "    }\n",
       "\n",
       "    .dataframe tbody tr th {\n",
       "        vertical-align: top;\n",
       "    }\n",
       "\n",
       "    .dataframe thead th {\n",
       "        text-align: right;\n",
       "    }\n",
       "</style>\n",
       "<table border=\"1\" class=\"dataframe\">\n",
       "  <thead>\n",
       "    <tr style=\"text-align: right;\">\n",
       "      <th></th>\n",
       "      <th>accuracy</th>\n",
       "      <th>balanced accuracy</th>\n",
       "      <th>f1</th>\n",
       "      <th>precision</th>\n",
       "      <th>false positive rate</th>\n",
       "      <th>false negative rate</th>\n",
       "      <th>selection rate</th>\n",
       "      <th>count</th>\n",
       "    </tr>\n",
       "    <tr>\n",
       "      <th>majmin</th>\n",
       "      <th></th>\n",
       "      <th></th>\n",
       "      <th></th>\n",
       "      <th></th>\n",
       "      <th></th>\n",
       "      <th></th>\n",
       "      <th></th>\n",
       "      <th></th>\n",
       "    </tr>\n",
       "  </thead>\n",
       "  <tbody>\n",
       "    <tr>\n",
       "      <th>majority</th>\n",
       "      <td>0.198930</td>\n",
       "      <td>0.533426</td>\n",
       "      <td>0.245835</td>\n",
       "      <td>0.140381</td>\n",
       "      <td>0.921223</td>\n",
       "      <td>0.011926</td>\n",
       "      <td>0.930056</td>\n",
       "      <td>69170.0</td>\n",
       "    </tr>\n",
       "    <tr>\n",
       "      <th>minority</th>\n",
       "      <td>0.226582</td>\n",
       "      <td>0.517541</td>\n",
       "      <td>0.210751</td>\n",
       "      <td>0.119426</td>\n",
       "      <td>0.860610</td>\n",
       "      <td>0.104307</td>\n",
       "      <td>0.864654</td>\n",
       "      <td>20540.0</td>\n",
       "    </tr>\n",
       "  </tbody>\n",
       "</table>\n",
       "</div>"
      ],
      "text/plain": [
       "          accuracy  balanced accuracy        f1  precision  \\\n",
       "majmin                                                       \n",
       "majority  0.198930           0.533426  0.245835   0.140381   \n",
       "minority  0.226582           0.517541  0.210751   0.119426   \n",
       "\n",
       "          false positive rate  false negative rate  selection rate    count  \n",
       "majmin                                                                       \n",
       "majority             0.921223             0.011926        0.930056  69170.0  \n",
       "minority             0.860610             0.104307        0.864654  20540.0  "
      ]
     },
     "execution_count": 75,
     "metadata": {},
     "output_type": "execute_result"
    }
   ],
   "source": [
    "metric_frame.by_group"
   ]
  },
  {
   "cell_type": "code",
   "execution_count": 76,
   "id": "a9ddbe63",
   "metadata": {
    "execution": {
     "iopub.execute_input": "2025-07-30T21:24:31.286147Z",
     "iopub.status.busy": "2025-07-30T21:24:31.285429Z",
     "iopub.status.idle": "2025-07-30T21:24:33.728045Z",
     "shell.execute_reply": "2025-07-30T21:24:33.727100Z"
    },
    "papermill": {
     "duration": 2.475761,
     "end_time": "2025-07-30T21:24:33.729721",
     "exception": false,
     "start_time": "2025-07-30T21:24:31.253960",
     "status": "completed"
    },
    "tags": []
   },
   "outputs": [
    {
     "data": {
      "text/plain": [
       "array([[<Axes: title={'center': 'accuracy'}, xlabel='majmin'>,\n",
       "        <Axes: title={'center': 'balanced accuracy'}, xlabel='majmin'>,\n",
       "        <Axes: title={'center': 'f1'}, xlabel='majmin'>],\n",
       "       [<Axes: title={'center': 'precision'}, xlabel='majmin'>,\n",
       "        <Axes: title={'center': 'false positive rate'}, xlabel='majmin'>,\n",
       "        <Axes: title={'center': 'false negative rate'}, xlabel='majmin'>],\n",
       "       [<Axes: title={'center': 'selection rate'}, xlabel='majmin'>,\n",
       "        <Axes: title={'center': 'count'}, xlabel='majmin'>,\n",
       "        <Axes: xlabel='majmin'>]], dtype=object)"
      ]
     },
     "execution_count": 76,
     "metadata": {},
     "output_type": "execute_result"
    },
    {
     "data": {
      "image/png": "[encoded data removed]",
      "text/plain": [
       "<Figure size 1200x800 with 9 Axes>"
      ]
     },
     "metadata": {},
     "output_type": "display_data"
    }
   ],
   "source": [
    "# In a graphic\n",
    "metric_frame.by_group.plot.bar(\n",
    "    subplots=True,\n",
    "    layout=[3, 3],\n",
    "    legend=False,\n",
    "    figsize=[12, 8],\n",
    "    title=\"Show all metrics\",\n",
    ")"
   ]
  },
  {
   "cell_type": "markdown",
   "id": "f57a0bac",
   "metadata": {
    "papermill": {
     "duration": 0.029238,
     "end_time": "2025-07-30T21:24:33.788593",
     "exception": false,
     "start_time": "2025-07-30T21:24:33.759355",
     "status": "completed"
    },
    "tags": []
   },
   "source": [
    "# Final Output"
   ]
  },
  {
   "cell_type": "code",
   "execution_count": 77,
   "id": "96d280a3",
   "metadata": {
    "execution": {
     "iopub.execute_input": "2025-07-30T21:24:33.849802Z",
     "iopub.status.busy": "2025-07-30T21:24:33.849196Z",
     "iopub.status.idle": "2025-07-30T21:24:33.857266Z",
     "shell.execute_reply": "2025-07-30T21:24:33.856394Z"
    },
    "papermill": {
     "duration": 0.040622,
     "end_time": "2025-07-30T21:24:33.858885",
     "exception": false,
     "start_time": "2025-07-30T21:24:33.818263",
     "status": "completed"
    },
    "tags": []
   },
   "outputs": [
    {
     "data": {
      "text/plain": [
       "4"
      ]
     },
     "execution_count": 77,
     "metadata": {},
     "output_type": "execute_result"
    }
   ],
   "source": [
    "sub_universes = universe_analysis.generate_sub_universes()\n",
    "len(sub_universes)"
   ]
  },
  {
   "cell_type": "code",
   "execution_count": 78,
   "id": "92adf7ba",
   "metadata": {
    "execution": {
     "iopub.execute_input": "2025-07-30T21:24:33.917021Z",
     "iopub.status.busy": "2025-07-30T21:24:33.916319Z",
     "iopub.status.idle": "2025-07-30T21:24:33.922941Z",
     "shell.execute_reply": "2025-07-30T21:24:33.922005Z"
    },
    "papermill": {
     "duration": 0.037657,
     "end_time": "2025-07-30T21:24:33.924686",
     "exception": false,
     "start_time": "2025-07-30T21:24:33.887029",
     "status": "completed"
    },
    "tags": []
   },
   "outputs": [],
   "source": [
    "def filter_sub_universe_data(sub_universe, org_test):\n",
    "    # Keep all rows — no filtering\n",
    "    keep_rows_mask = np.ones(org_test.shape[0], dtype=bool)\n",
    "\n",
    "    print(f\"[INFO] Keeping all rows: {keep_rows_mask.sum()} rows retained.\")\n",
    "    return keep_rows_mask"
   ]
  },
  {
   "cell_type": "code",
   "execution_count": 79,
   "id": "4a759155",
   "metadata": {
    "execution": {
     "iopub.execute_input": "2025-07-30T21:24:33.986694Z",
     "iopub.status.busy": "2025-07-30T21:24:33.985787Z",
     "iopub.status.idle": "2025-07-30T21:24:44.536641Z",
     "shell.execute_reply": "2025-07-30T21:24:44.535636Z"
    },
    "papermill": {
     "duration": 10.583895,
     "end_time": "2025-07-30T21:24:44.538574",
     "exception": false,
     "start_time": "2025-07-30T21:24:33.954679",
     "status": "completed"
    },
    "tags": []
   },
   "outputs": [
    {
     "name": "stdout",
     "output_type": "stream",
     "text": [
      "Stopping execution_time clock.\n",
      "[INFO] Keeping all rows: 89710 rows retained.\n"
     ]
    },
    {
     "name": "stdout",
     "output_type": "stream",
     "text": [
      "[INFO] Keeping all rows: 89710 rows retained.\n"
     ]
    },
    {
     "name": "stdout",
     "output_type": "stream",
     "text": [
      "[INFO] Keeping all rows: 89710 rows retained.\n"
     ]
    },
    {
     "name": "stdout",
     "output_type": "stream",
     "text": [
      "[INFO] Keeping all rows: 89710 rows retained.\n"
     ]
    },
    {
     "data": {
      "text/html": [
       "<div>\n",
       "<style scoped>\n",
       "    .dataframe tbody tr th:only-of-type {\n",
       "        vertical-align: middle;\n",
       "    }\n",
       "\n",
       "    .dataframe tbody tr th {\n",
       "        vertical-align: top;\n",
       "    }\n",
       "\n",
       "    .dataframe thead th {\n",
       "        text-align: right;\n",
       "    }\n",
       "</style>\n",
       "<table border=\"1\" class=\"dataframe\">\n",
       "  <thead>\n",
       "    <tr style=\"text-align: right;\">\n",
       "      <th></th>\n",
       "      <th>run_no</th>\n",
       "      <th>universe_id</th>\n",
       "      <th>universe_settings</th>\n",
       "      <th>execution_time</th>\n",
       "      <th>test_size_n</th>\n",
       "      <th>test_size_frac</th>\n",
       "      <th>fair_main_equalized_odds_difference</th>\n",
       "      <th>fair_main_equalized_odds_ratio</th>\n",
       "      <th>fair_main_demographic_parity_difference</th>\n",
       "      <th>fair_main_demographic_parity_ratio</th>\n",
       "      <th>...</th>\n",
       "      <th>perf_grp_precision_0</th>\n",
       "      <th>perf_grp_precision_1</th>\n",
       "      <th>perf_grp_false positive rate_0</th>\n",
       "      <th>perf_grp_false positive rate_1</th>\n",
       "      <th>perf_grp_false negative rate_0</th>\n",
       "      <th>perf_grp_false negative rate_1</th>\n",
       "      <th>perf_grp_selection rate_0</th>\n",
       "      <th>perf_grp_selection rate_1</th>\n",
       "      <th>perf_grp_count_0</th>\n",
       "      <th>perf_grp_count_1</th>\n",
       "    </tr>\n",
       "  </thead>\n",
       "  <tbody>\n",
       "    <tr>\n",
       "      <th>0</th>\n",
       "      <td>14</td>\n",
       "      <td>e95ed2994b1b5ec918e7bcd050f0ad5f</td>\n",
       "      <td>{\"cutoff\": \"quantile_0.1\", \"eval_fairness_grou...</td>\n",
       "      <td>29.77195</td>\n",
       "      <td>89710</td>\n",
       "      <td>1.0</td>\n",
       "      <td>0.092382</td>\n",
       "      <td>0.906503</td>\n",
       "      <td>0.065402</td>\n",
       "      <td>0.929679</td>\n",
       "      <td>...</td>\n",
       "      <td>NaN</td>\n",
       "      <td>NaN</td>\n",
       "      <td>NaN</td>\n",
       "      <td>NaN</td>\n",
       "      <td>NaN</td>\n",
       "      <td>NaN</td>\n",
       "      <td>NaN</td>\n",
       "      <td>NaN</td>\n",
       "      <td>NaN</td>\n",
       "      <td>NaN</td>\n",
       "    </tr>\n",
       "    <tr>\n",
       "      <th>0</th>\n",
       "      <td>14</td>\n",
       "      <td>e95ed2994b1b5ec918e7bcd050f0ad5f</td>\n",
       "      <td>{\"cutoff\": \"quantile_0.1\", \"eval_fairness_grou...</td>\n",
       "      <td>29.77195</td>\n",
       "      <td>89710</td>\n",
       "      <td>1.0</td>\n",
       "      <td>0.092382</td>\n",
       "      <td>0.906503</td>\n",
       "      <td>0.065402</td>\n",
       "      <td>0.929679</td>\n",
       "      <td>...</td>\n",
       "      <td>0.119426</td>\n",
       "      <td>0.140381</td>\n",
       "      <td>0.860610</td>\n",
       "      <td>0.921223</td>\n",
       "      <td>0.104307</td>\n",
       "      <td>0.011926</td>\n",
       "      <td>0.864654</td>\n",
       "      <td>0.930056</td>\n",
       "      <td>20540.0</td>\n",
       "      <td>69170.0</td>\n",
       "    </tr>\n",
       "    <tr>\n",
       "      <th>0</th>\n",
       "      <td>14</td>\n",
       "      <td>e95ed2994b1b5ec918e7bcd050f0ad5f</td>\n",
       "      <td>{\"cutoff\": \"quantile_0.25\", \"eval_fairness_gro...</td>\n",
       "      <td>29.77195</td>\n",
       "      <td>89710</td>\n",
       "      <td>1.0</td>\n",
       "      <td>0.116890</td>\n",
       "      <td>0.876087</td>\n",
       "      <td>0.053950</td>\n",
       "      <td>0.930104</td>\n",
       "      <td>...</td>\n",
       "      <td>NaN</td>\n",
       "      <td>NaN</td>\n",
       "      <td>NaN</td>\n",
       "      <td>NaN</td>\n",
       "      <td>NaN</td>\n",
       "      <td>NaN</td>\n",
       "      <td>NaN</td>\n",
       "      <td>NaN</td>\n",
       "      <td>NaN</td>\n",
       "      <td>NaN</td>\n",
       "    </tr>\n",
       "    <tr>\n",
       "      <th>0</th>\n",
       "      <td>14</td>\n",
       "      <td>e95ed2994b1b5ec918e7bcd050f0ad5f</td>\n",
       "      <td>{\"cutoff\": \"quantile_0.25\", \"eval_fairness_gro...</td>\n",
       "      <td>29.77195</td>\n",
       "      <td>89710</td>\n",
       "      <td>1.0</td>\n",
       "      <td>0.116890</td>\n",
       "      <td>0.876087</td>\n",
       "      <td>0.053950</td>\n",
       "      <td>0.930104</td>\n",
       "      <td>...</td>\n",
       "      <td>0.132714</td>\n",
       "      <td>0.161491</td>\n",
       "      <td>0.703775</td>\n",
       "      <td>0.745760</td>\n",
       "      <td>0.173564</td>\n",
       "      <td>0.056674</td>\n",
       "      <td>0.717916</td>\n",
       "      <td>0.771866</td>\n",
       "      <td>20540.0</td>\n",
       "      <td>69170.0</td>\n",
       "    </tr>\n",
       "  </tbody>\n",
       "</table>\n",
       "<p>4 rows × 50 columns</p>\n",
       "</div>"
      ],
      "text/plain": [
       "  run_no                       universe_id  \\\n",
       "0     14  e95ed2994b1b5ec918e7bcd050f0ad5f   \n",
       "0     14  e95ed2994b1b5ec918e7bcd050f0ad5f   \n",
       "0     14  e95ed2994b1b5ec918e7bcd050f0ad5f   \n",
       "0     14  e95ed2994b1b5ec918e7bcd050f0ad5f   \n",
       "\n",
       "                                   universe_settings  execution_time  \\\n",
       "0  {\"cutoff\": \"quantile_0.1\", \"eval_fairness_grou...        29.77195   \n",
       "0  {\"cutoff\": \"quantile_0.1\", \"eval_fairness_grou...        29.77195   \n",
       "0  {\"cutoff\": \"quantile_0.25\", \"eval_fairness_gro...        29.77195   \n",
       "0  {\"cutoff\": \"quantile_0.25\", \"eval_fairness_gro...        29.77195   \n",
       "\n",
       "   test_size_n  test_size_frac  fair_main_equalized_odds_difference  \\\n",
       "0        89710             1.0                             0.092382   \n",
       "0        89710             1.0                             0.092382   \n",
       "0        89710             1.0                             0.116890   \n",
       "0        89710             1.0                             0.116890   \n",
       "\n",
       "   fair_main_equalized_odds_ratio  fair_main_demographic_parity_difference  \\\n",
       "0                        0.906503                                 0.065402   \n",
       "0                        0.906503                                 0.065402   \n",
       "0                        0.876087                                 0.053950   \n",
       "0                        0.876087                                 0.053950   \n",
       "\n",
       "   fair_main_demographic_parity_ratio  ...  perf_grp_precision_0  \\\n",
       "0                            0.929679  ...                   NaN   \n",
       "0                            0.929679  ...              0.119426   \n",
       "0                            0.930104  ...                   NaN   \n",
       "0                            0.930104  ...              0.132714   \n",
       "\n",
       "   perf_grp_precision_1  perf_grp_false positive rate_0  \\\n",
       "0                   NaN                             NaN   \n",
       "0              0.140381                        0.860610   \n",
       "0                   NaN                             NaN   \n",
       "0              0.161491                        0.703775   \n",
       "\n",
       "   perf_grp_false positive rate_1  perf_grp_false negative rate_0  \\\n",
       "0                             NaN                             NaN   \n",
       "0                        0.921223                        0.104307   \n",
       "0                             NaN                             NaN   \n",
       "0                        0.745760                        0.173564   \n",
       "\n",
       "   perf_grp_false negative rate_1  perf_grp_selection rate_0  \\\n",
       "0                             NaN                        NaN   \n",
       "0                        0.011926                   0.864654   \n",
       "0                             NaN                        NaN   \n",
       "0                        0.056674                   0.717916   \n",
       "\n",
       "   perf_grp_selection rate_1  perf_grp_count_0  perf_grp_count_1  \n",
       "0                        NaN               NaN               NaN  \n",
       "0                   0.930056           20540.0           69170.0  \n",
       "0                        NaN               NaN               NaN  \n",
       "0                   0.771866           20540.0           69170.0  \n",
       "\n",
       "[4 rows x 50 columns]"
      ]
     },
     "execution_count": 79,
     "metadata": {},
     "output_type": "execute_result"
    }
   ],
   "source": [
    "final_output = universe_analysis.generate_final_output(\n",
    "    y_pred_prob=probs_test,\n",
    "    y_test=y_true,\n",
    "    org_test=org_test,\n",
    "    filter_data=filter_sub_universe_data,\n",
    "    cp_metrics_df=cp_metrics_df,\n",
    "    save=True,\n",
    ")\n",
    "final_output"
   ]
  },
  {
   "cell_type": "code",
   "execution_count": null,
   "id": "721ff514-cb11-46f8-b6fc-50392f74b5cb",
   "metadata": {
    "papermill": {
     "duration": 0.029636,
     "end_time": "2025-07-30T21:24:44.601371",
     "exception": false,
     "start_time": "2025-07-30T21:24:44.571735",
     "status": "completed"
    },
    "tags": []
   },
   "outputs": [],
   "source": []
  }
 ],
 "metadata": {
  "celltoolbar": "Tags",
  "kernelspec": {
   "display_name": "Python (CMA Fairness)",
   "language": "python",
   "name": "cma_fair_env"
  },
  "language_info": {
   "codemirror_mode": {
    "name": "ipython",
    "version": 3
   },
   "file_extension": ".py",
   "mimetype": "text/x-python",
   "name": "python",
   "nbconvert_exporter": "python",
   "pygments_lexer": "ipython3",
   "version": "3.10.12"
  },
  "papermill": {
   "default_parameters": {},
   "duration": 45.143663,
   "end_time": "2025-07-30T21:24:45.551852",
   "environment_variables": {},
   "exception": null,
   "input_path": "universe_analysis.ipynb",
   "output_path": "output/runs/14/notebooks/m_14-e95ed2994b1b5ec918e7bcd050f0ad5f.ipynb",
   "parameters": {
    "output_dir": "output",
    "run_no": "14",
    "seed": "2023",
    "universe": "{\"cutoff\": [\"quantile_0.1\", \"quantile_0.25\"], \"eval_fairness_grouping\": [\"majority-minority\", \"nationality-all\"], \"exclude_features\": \"none\", \"exclude_subgroups\": \"keep-all\", \"model\": \"rf\", \"scale\": \"scale\", \"training_size\": \"1k\", \"training_year\": \"2014\"}",
    "universe_id": "e95ed2994b1b5ec918e7bcd050f0ad5f"
   },
   "start_time": "2025-07-30T21:24:00.408189",
   "version": "2.6.0"
  }
 },
 "nbformat": 4,
 "nbformat_minor": 5
}