{
 "cells": [
  {
   "cell_type": "code",
   "execution_count": 1,
   "id": "f159f837-637b-42ba-96b5-ec9a68c44524",
   "metadata": {
    "execution": {
     "iopub.execute_input": "2025-07-30T21:03:11.336266Z",
     "iopub.status.busy": "2025-07-30T21:03:11.335241Z",
     "iopub.status.idle": "2025-07-30T21:03:11.353037Z",
     "shell.execute_reply": "2025-07-30T21:03:11.351610Z"
    },
    "papermill": {
     "duration": 0.047134,
     "end_time": "2025-07-30T21:03:11.354709",
     "exception": false,
     "start_time": "2025-07-30T21:03:11.307575",
     "status": "completed"
    },
    "tags": []
   },
   "outputs": [
    {
     "name": "stdout",
     "output_type": "stream",
     "text": [
      "/dss/dsshome1/0C/ra93lal2/cma/CMA_Fairness_v2\n"
     ]
    },
    {
     "name": "stderr",
     "output_type": "stream",
     "text": [
      "/dss/dsshome1/0C/ra93lal2/.local/share/virtualenvs/CMA_Fairness_v2-3j10GkSs/lib/python3.10/site-packages/IPython/core/magics/osm.py:393: UserWarning: This is now an optional IPython functionality, using bookmarks requires you to install the `pickleshare` library.\n",
      "  bkms = self.shell.db.get('bookmarks', {})\n",
      "/dss/dsshome1/0C/ra93lal2/.local/share/virtualenvs/CMA_Fairness_v2-3j10GkSs/lib/python3.10/site-packages/IPython/core/magics/osm.py:417: UserWarning: This is now an optional IPython functionality, setting dhist requires you to install the `pickleshare` library.\n",
      "  self.shell.db['dhist'] = compress_dhist(dhist)[-100:]\n"
     ]
    }
   ],
   "source": [
    "%cd ~/cma/CMA_Fairness_v2"
   ]
  },
  {
   "cell_type": "markdown",
   "id": "de2603b9",
   "metadata": {
    "papermill": {
     "duration": 0.021238,
     "end_time": "2025-07-30T21:03:11.397934",
     "exception": false,
     "start_time": "2025-07-30T21:03:11.376696",
     "status": "completed"
    },
    "tags": []
   },
   "source": [
    "The following cell holds the definition of our parameters, these values can be overriden by rendering the with e.g. the following command:\n",
    "\n",
    "papermill -p alpha 0.2 -p ratio 0.3 universe_analysis.ipynb output/test_run.ipynb"
   ]
  },
  {
   "cell_type": "code",
   "execution_count": 2,
   "id": "a80968a0-40bb-4fa9-85ef-2d5eefb01975",
   "metadata": {
    "execution": {
     "iopub.execute_input": "2025-07-30T21:03:11.442800Z",
     "iopub.status.busy": "2025-07-30T21:03:11.442320Z",
     "iopub.status.idle": "2025-07-30T21:03:11.449115Z",
     "shell.execute_reply": "2025-07-30T21:03:11.447916Z"
    },
    "papermill": {
     "duration": 0.032238,
     "end_time": "2025-07-30T21:03:11.451923",
     "exception": false,
     "start_time": "2025-07-30T21:03:11.419685",
     "status": "completed"
    },
    "tags": []
   },
   "outputs": [
    {
     "name": "stdout",
     "output_type": "stream",
     "text": [
      "Current working directory: /dss/dsshome1/0C/ra93lal2/cma/CMA_Fairness_v2\n"
     ]
    }
   ],
   "source": [
    "import os\n",
    "print(\"Current working directory:\", os.getcwd())"
   ]
  },
  {
   "cell_type": "code",
   "execution_count": 3,
   "id": "2dce4c03",
   "metadata": {
    "execution": {
     "iopub.execute_input": "2025-07-30T21:03:11.499836Z",
     "iopub.status.busy": "2025-07-30T21:03:11.499324Z",
     "iopub.status.idle": "2025-07-30T21:03:11.506079Z",
     "shell.execute_reply": "2025-07-30T21:03:11.505023Z"
    },
    "papermill": {
     "duration": 0.031561,
     "end_time": "2025-07-30T21:03:11.507856",
     "exception": false,
     "start_time": "2025-07-30T21:03:11.476295",
     "status": "completed"
    },
    "tags": [
     "parameters"
    ]
   },
   "outputs": [],
   "source": [
    "run_no = 0\n",
    "universe_id = \"test\"\n",
    "universe = {\n",
    "    \"training_size\": \"25k\", # \"25k\", \"5k\", \"1k\"\n",
    "    \"training_year\": \"2014\", # \"2014\", \"2012_14\", \"2010_14\"\n",
    "    \"scale\": \"scale\", # \"scale\", \"do-not-scale\",\n",
    "    #\"stratify_split\": \"target\", # \"none\", \"target\", \"protected-attribute\", \"both\",\n",
    "    \"model\": \"elasticnet\", # \"logreg\", \"penalized_logreg\", \"rf\", \"gbm\", \"elasticnet\"\n",
    "    \"cutoff\": [\"quantile_0.15\", \"quantile_0.30\"],\n",
    "    \"exclude_features\": \"age\", # \"none\", \"nationality\", \"sex\", \"nationality-sex\", \"age\"\n",
    "    \"exclude_subgroups\": \"keep-all\", # \"keep-all\", \"drop-non-german\"\n",
    "    \"eval_fairness_grouping\": [\"majority-minority\", \"nationality-all\"]\n",
    "}\n",
    "\n",
    "output_dir=\"./output\"\n",
    "seed=0"
   ]
  },
  {
   "cell_type": "code",
   "execution_count": 4,
   "id": "7051dfca",
   "metadata": {
    "execution": {
     "iopub.execute_input": "2025-07-30T21:03:11.553234Z",
     "iopub.status.busy": "2025-07-30T21:03:11.552690Z",
     "iopub.status.idle": "2025-07-30T21:03:11.558168Z",
     "shell.execute_reply": "2025-07-30T21:03:11.557284Z"
    },
    "papermill": {
     "duration": 0.029961,
     "end_time": "2025-07-30T21:03:11.559798",
     "exception": false,
     "start_time": "2025-07-30T21:03:11.529837",
     "status": "completed"
    },
    "tags": [
     "injected-parameters"
    ]
   },
   "outputs": [],
   "source": [
    "# Parameters\n",
    "universe_id = \"95d22fc05c82b1614dd6c274860b050d\"\n",
    "run_no = \"14\"\n",
    "universe = \"{\\\"cutoff\\\": [\\\"quantile_0.1\\\", \\\"quantile_0.25\\\"], \\\"eval_fairness_grouping\\\": [\\\"majority-minority\\\", \\\"nationality-all\\\"], \\\"exclude_features\\\": \\\"nationality-sex\\\", \\\"exclude_subgroups\\\": \\\"drop-non-german\\\", \\\"model\\\": \\\"logreg\\\", \\\"scale\\\": \\\"do-not-scale\\\", \\\"training_size\\\": \\\"5k\\\", \\\"training_year\\\": \\\"2012_14\\\"}\"\n",
    "output_dir = \"output\"\n",
    "seed = \"2023\"\n"
   ]
  },
  {
   "cell_type": "code",
   "execution_count": 5,
   "id": "1650acaf",
   "metadata": {
    "execution": {
     "iopub.execute_input": "2025-07-30T21:03:11.607273Z",
     "iopub.status.busy": "2025-07-30T21:03:11.606717Z",
     "iopub.status.idle": "2025-07-30T21:03:11.612990Z",
     "shell.execute_reply": "2025-07-30T21:03:11.611790Z"
    },
    "papermill": {
     "duration": 0.032428,
     "end_time": "2025-07-30T21:03:11.615069",
     "exception": false,
     "start_time": "2025-07-30T21:03:11.582641",
     "status": "completed"
    },
    "tags": []
   },
   "outputs": [],
   "source": [
    "import json\n",
    "# Parse universe into dict if it is passed as a string\n",
    "if isinstance(universe, str):\n",
    "    universe = json.loads(universe)"
   ]
  },
  {
   "cell_type": "code",
   "execution_count": 6,
   "id": "16620c48",
   "metadata": {
    "execution": {
     "iopub.execute_input": "2025-07-30T21:03:11.662479Z",
     "iopub.status.busy": "2025-07-30T21:03:11.661468Z",
     "iopub.status.idle": "2025-07-30T21:03:11.710448Z",
     "shell.execute_reply": "2025-07-30T21:03:11.709330Z"
    },
    "papermill": {
     "duration": 0.075177,
     "end_time": "2025-07-30T21:03:11.712901",
     "exception": false,
     "start_time": "2025-07-30T21:03:11.637724",
     "status": "completed"
    },
    "tags": []
   },
   "outputs": [],
   "source": [
    "# Auto-reload the custom package\n",
    "%load_ext autoreload\n",
    "%autoreload 1\n",
    "%aimport fairness_multiverse"
   ]
  },
  {
   "cell_type": "code",
   "execution_count": 7,
   "id": "01c5c9f3",
   "metadata": {
    "execution": {
     "iopub.execute_input": "2025-07-30T21:03:11.769203Z",
     "iopub.status.busy": "2025-07-30T21:03:11.768609Z",
     "iopub.status.idle": "2025-07-30T21:03:13.927445Z",
     "shell.execute_reply": "2025-07-30T21:03:13.926502Z"
    },
    "papermill": {
     "duration": 2.188282,
     "end_time": "2025-07-30T21:03:13.929473",
     "exception": false,
     "start_time": "2025-07-30T21:03:11.741191",
     "status": "completed"
    },
    "tags": []
   },
   "outputs": [],
   "source": [
    "from fairness_multiverse.universe import UniverseAnalysis\n",
    "\n",
    "universe_analysis = UniverseAnalysis(\n",
    "    run_no = run_no,\n",
    "    universe_id = universe_id,\n",
    "    universe = universe,\n",
    "    output_dir=output_dir,\n",
    ")"
   ]
  },
  {
   "cell_type": "code",
   "execution_count": 8,
   "id": "106241f5",
   "metadata": {
    "execution": {
     "iopub.execute_input": "2025-07-30T21:03:13.969542Z",
     "iopub.status.busy": "2025-07-30T21:03:13.968989Z",
     "iopub.status.idle": "2025-07-30T21:03:13.976243Z",
     "shell.execute_reply": "2025-07-30T21:03:13.975263Z"
    },
    "papermill": {
     "duration": 0.025869,
     "end_time": "2025-07-30T21:03:13.978162",
     "exception": false,
     "start_time": "2025-07-30T21:03:13.952293",
     "status": "completed"
    },
    "tags": []
   },
   "outputs": [
    {
     "name": "stdout",
     "output_type": "stream",
     "text": [
      "Using Seed: 2023\n"
     ]
    }
   ],
   "source": [
    "import numpy as np\n",
    "parsed_seed = int(seed)\n",
    "np.random.seed(parsed_seed)\n",
    "print(f\"Using Seed: {parsed_seed}\")"
   ]
  },
  {
   "cell_type": "markdown",
   "id": "e0ebdc57",
   "metadata": {
    "papermill": {
     "duration": 0.027518,
     "end_time": "2025-07-30T21:03:14.034448",
     "exception": false,
     "start_time": "2025-07-30T21:03:14.006930",
     "status": "completed"
    },
    "tags": []
   },
   "source": [
    "# Loading Data"
   ]
  },
  {
   "cell_type": "markdown",
   "id": "681925a3",
   "metadata": {
    "papermill": {
     "duration": 0.027301,
     "end_time": "2025-07-30T21:03:14.089573",
     "exception": false,
     "start_time": "2025-07-30T21:03:14.062272",
     "status": "completed"
    },
    "tags": []
   },
   "source": [
    "Load siab_train, siab_test, siab_calib and/or \n",
    "load siab_train_features, siab_train_labels"
   ]
  },
  {
   "cell_type": "code",
   "execution_count": 9,
   "id": "f0496b8a",
   "metadata": {
    "execution": {
     "iopub.execute_input": "2025-07-30T21:03:14.145968Z",
     "iopub.status.busy": "2025-07-30T21:03:14.145547Z",
     "iopub.status.idle": "2025-07-30T21:03:25.938274Z",
     "shell.execute_reply": "2025-07-30T21:03:25.937049Z"
    },
    "papermill": {
     "duration": 11.82296,
     "end_time": "2025-07-30T21:03:25.940040",
     "exception": false,
     "start_time": "2025-07-30T21:03:14.117080",
     "status": "completed"
    },
    "tags": []
   },
   "outputs": [
    {
     "name": "stdout",
     "output_type": "stream",
     "text": [
      "Loading SIAB data from cache: data/siab_cached.csv.gz\n"
     ]
    },
    {
     "name": "stdout",
     "output_type": "stream",
     "text": [
      "(643690, 164)\n"
     ]
    }
   ],
   "source": [
    "from pathlib import Path\n",
    "import pandas as pd\n",
    "\n",
    "# File paths\n",
    "raw_file = Path(\"data/raw/siab.csv\")\n",
    "cache_file = Path(\"data/siab_cached.csv.gz\")\n",
    "\n",
    "# Ensure cache directory exists\n",
    "cache_file.parent.mkdir(parents=True, exist_ok=True)\n",
    "\n",
    "# Load with simple caching\n",
    "if cache_file.exists():\n",
    "    print(f\"Loading SIAB data from cache: {cache_file}\")\n",
    "    siab = pd.read_csv(cache_file, compression='gzip')\n",
    "else:\n",
    "    print(f\"Cache not found. Reading raw SIAB data: {raw_file}\")\n",
    "    siab = pd.read_csv(raw_file)\n",
    "    siab.to_csv(cache_file, index=False, compression='gzip')\n",
    "    print(f\"Cached SIAB data to: {cache_file}\")\n",
    "\n",
    "# Now use `siab` DataFrame as needed\n",
    "print(siab.shape)"
   ]
  },
  {
   "cell_type": "code",
   "execution_count": 10,
   "id": "db0ca512-5f53-4dba-abdb-a2888bca41ba",
   "metadata": {
    "execution": {
     "iopub.execute_input": "2025-07-30T21:03:25.988818Z",
     "iopub.status.busy": "2025-07-30T21:03:25.988232Z",
     "iopub.status.idle": "2025-07-30T21:03:25.994496Z",
     "shell.execute_reply": "2025-07-30T21:03:25.993400Z"
    },
    "papermill": {
     "duration": 0.029095,
     "end_time": "2025-07-30T21:03:25.996496",
     "exception": false,
     "start_time": "2025-07-30T21:03:25.967401",
     "status": "completed"
    },
    "tags": []
   },
   "outputs": [],
   "source": [
    "#siab"
   ]
  },
  {
   "cell_type": "code",
   "execution_count": 11,
   "id": "a0edb063",
   "metadata": {
    "execution": {
     "iopub.execute_input": "2025-07-30T21:03:26.032728Z",
     "iopub.status.busy": "2025-07-30T21:03:26.032113Z",
     "iopub.status.idle": "2025-07-30T21:03:26.037259Z",
     "shell.execute_reply": "2025-07-30T21:03:26.036159Z"
    },
    "papermill": {
     "duration": 0.02629,
     "end_time": "2025-07-30T21:03:26.041534",
     "exception": false,
     "start_time": "2025-07-30T21:03:26.015244",
     "status": "completed"
    },
    "tags": []
   },
   "outputs": [],
   "source": [
    "#import pandas as pd\n",
    "#\n",
    "#X_train = pd.read_csv(\"./data/X_train.csv\")\n",
    "#y_train = pd.read_csv(\"./data/y_train.csv\")"
   ]
  },
  {
   "cell_type": "code",
   "execution_count": 12,
   "id": "63d08085",
   "metadata": {
    "execution": {
     "iopub.execute_input": "2025-07-30T21:03:26.088539Z",
     "iopub.status.busy": "2025-07-30T21:03:26.087828Z",
     "iopub.status.idle": "2025-07-30T21:03:26.093212Z",
     "shell.execute_reply": "2025-07-30T21:03:26.092446Z"
    },
    "papermill": {
     "duration": 0.029052,
     "end_time": "2025-07-30T21:03:26.094771",
     "exception": false,
     "start_time": "2025-07-30T21:03:26.065719",
     "status": "completed"
    },
    "tags": []
   },
   "outputs": [],
   "source": [
    "#X_test = pd.read_csv(\"./data/X_test.csv\")\n",
    "#y_true = pd.read_csv(\"./data/y_test.csv\")"
   ]
  },
  {
   "cell_type": "code",
   "execution_count": 13,
   "id": "98a8d0fa-1d3d-4ed8-bb2c-281470e24add",
   "metadata": {
    "execution": {
     "iopub.execute_input": "2025-07-30T21:03:26.139696Z",
     "iopub.status.busy": "2025-07-30T21:03:26.139168Z",
     "iopub.status.idle": "2025-07-30T21:03:26.143439Z",
     "shell.execute_reply": "2025-07-30T21:03:26.142671Z"
    },
    "papermill": {
     "duration": 0.027925,
     "end_time": "2025-07-30T21:03:26.145084",
     "exception": false,
     "start_time": "2025-07-30T21:03:26.117159",
     "status": "completed"
    },
    "tags": []
   },
   "outputs": [],
   "source": [
    "# Calibration data for conformal\n",
    "#X_calib = pd.read_csv(\"./data/X_calib.csv\")\n",
    "#y_calib = pd.read_csv(\"./data/y_calib.csv\")"
   ]
  },
  {
   "cell_type": "markdown",
   "id": "997051c5-15bd-4b69-9786-c3001a3ce484",
   "metadata": {
    "papermill": {
     "duration": 0.021582,
     "end_time": "2025-07-30T21:03:26.187368",
     "exception": false,
     "start_time": "2025-07-30T21:03:26.165786",
     "status": "completed"
    },
    "tags": []
   },
   "source": [
    "# Splitting Data and Setting Training Data Size"
   ]
  },
  {
   "cell_type": "code",
   "execution_count": 14,
   "id": "e993b61f-042d-41a6-8c81-f55681f86335",
   "metadata": {
    "execution": {
     "iopub.execute_input": "2025-07-30T21:03:26.234602Z",
     "iopub.status.busy": "2025-07-30T21:03:26.234045Z",
     "iopub.status.idle": "2025-07-30T21:03:26.249254Z",
     "shell.execute_reply": "2025-07-30T21:03:26.248025Z"
    },
    "papermill": {
     "duration": 0.039542,
     "end_time": "2025-07-30T21:03:26.250604",
     "exception": false,
     "start_time": "2025-07-30T21:03:26.211062",
     "status": "completed"
    },
    "tags": []
   },
   "outputs": [],
   "source": [
    "def sample_by_year_size(df,\n",
    "                        training_year: str,\n",
    "                        training_size: str,\n",
    "                        random_state: int = 42):\n",
    "    # --- parse training_year into a list of int years ---\n",
    "    if \"_\" in training_year:\n",
    "        start_str, end_str = training_year.split(\"_\", 1)\n",
    "        start = int(start_str)\n",
    "        end   = int(end_str) if len(end_str) == 4 else (int(end_str) + (start // 100)*100)\n",
    "        years = list(range(start, end + 1))\n",
    "    else:\n",
    "        years = [int(training_year)]\n",
    "\n",
    "    df = df[df[\"year\"].isin(years)].reset_index(drop=True)\n",
    "\n",
    "    # --- map training_size to total number of samples ---\n",
    "    total_map = {\"25k\": 25_000, \"5k\": 5_000, \"1k\": 1_000}\n",
    "    if training_size not in total_map:\n",
    "        return df  # e.g. \"all\"\n",
    "\n",
    "    total_samples = total_map[training_size]\n",
    "    n_years       = len(years)\n",
    "    base          = total_samples // n_years\n",
    "    remainder     = total_samples % n_years\n",
    "\n",
    "    # --- build a dict: year -> how many to sample ---\n",
    "    # give +1 to the first `remainder` years in ascending order\n",
    "    quotas = {\n",
    "        year: base + (1 if idx < remainder else 0)\n",
    "        for idx, year in enumerate(sorted(years))\n",
    "    }\n",
    "\n",
    "    # --- sample per‐year according to the quota dict ---\n",
    "    sampled = (\n",
    "        df\n",
    "        .groupby(\"year\", group_keys=False)\n",
    "        .apply(lambda grp: grp.sample(\n",
    "            n=min(len(grp), quotas[grp.name]),\n",
    "            random_state=random_state))\n",
    "        .reset_index(drop=True)\n",
    "    )\n",
    "\n",
    "    return sampled"
   ]
  },
  {
   "cell_type": "code",
   "execution_count": 15,
   "id": "c0ccd338-0e02-41f3-a09d-f56f9266e3fb",
   "metadata": {
    "execution": {
     "iopub.execute_input": "2025-07-30T21:03:26.300095Z",
     "iopub.status.busy": "2025-07-30T21:03:26.299419Z",
     "iopub.status.idle": "2025-07-30T21:03:26.305102Z",
     "shell.execute_reply": "2025-07-30T21:03:26.303914Z"
    },
    "papermill": {
     "duration": 0.033353,
     "end_time": "2025-07-30T21:03:26.307088",
     "exception": false,
     "start_time": "2025-07-30T21:03:26.273735",
     "status": "completed"
    },
    "tags": []
   },
   "outputs": [],
   "source": [
    "#universe[\"training_size\"]"
   ]
  },
  {
   "cell_type": "code",
   "execution_count": 16,
   "id": "ca707fd7-8047-4acd-bfa5-66248fbbf8e6",
   "metadata": {
    "execution": {
     "iopub.execute_input": "2025-07-30T21:03:26.358311Z",
     "iopub.status.busy": "2025-07-30T21:03:26.357916Z",
     "iopub.status.idle": "2025-07-30T21:03:26.362579Z",
     "shell.execute_reply": "2025-07-30T21:03:26.361706Z"
    },
    "papermill": {
     "duration": 0.03315,
     "end_time": "2025-07-30T21:03:26.364469",
     "exception": false,
     "start_time": "2025-07-30T21:03:26.331319",
     "status": "completed"
    },
    "tags": []
   },
   "outputs": [],
   "source": [
    "#universe[\"training_year\"]"
   ]
  },
  {
   "cell_type": "code",
   "execution_count": 17,
   "id": "aea9c6ef-6f46-42c8-85eb-5a62025c1508",
   "metadata": {
    "execution": {
     "iopub.execute_input": "2025-07-30T21:03:26.393392Z",
     "iopub.status.busy": "2025-07-30T21:03:26.392952Z",
     "iopub.status.idle": "2025-07-30T21:03:27.038794Z",
     "shell.execute_reply": "2025-07-30T21:03:27.038009Z"
    },
    "papermill": {
     "duration": 0.663764,
     "end_time": "2025-07-30T21:03:27.040401",
     "exception": false,
     "start_time": "2025-07-30T21:03:26.376637",
     "status": "completed"
    },
    "tags": []
   },
   "outputs": [],
   "source": [
    "siab_train = sample_by_year_size(siab,\n",
    "                               training_year=universe[\"training_year\"],\n",
    "                               training_size=universe[\"training_size\"])"
   ]
  },
  {
   "cell_type": "code",
   "execution_count": 18,
   "id": "8d3afb32-789d-442c-8d5d-9f5aa8dd2eed",
   "metadata": {
    "execution": {
     "iopub.execute_input": "2025-07-30T21:03:27.070349Z",
     "iopub.status.busy": "2025-07-30T21:03:27.069702Z",
     "iopub.status.idle": "2025-07-30T21:03:27.075810Z",
     "shell.execute_reply": "2025-07-30T21:03:27.074438Z"
    },
    "papermill": {
     "duration": 0.025492,
     "end_time": "2025-07-30T21:03:27.078003",
     "exception": false,
     "start_time": "2025-07-30T21:03:27.052511",
     "status": "completed"
    },
    "tags": []
   },
   "outputs": [],
   "source": [
    "#siab_train.shape"
   ]
  },
  {
   "cell_type": "code",
   "execution_count": 19,
   "id": "d582db68-1a4c-47fb-84fc-08518dc1975a",
   "metadata": {
    "execution": {
     "iopub.execute_input": "2025-07-30T21:03:27.134473Z",
     "iopub.status.busy": "2025-07-30T21:03:27.133639Z",
     "iopub.status.idle": "2025-07-30T21:03:27.139063Z",
     "shell.execute_reply": "2025-07-30T21:03:27.138235Z"
    },
    "papermill": {
     "duration": 0.035879,
     "end_time": "2025-07-30T21:03:27.140617",
     "exception": false,
     "start_time": "2025-07-30T21:03:27.104738",
     "status": "completed"
    },
    "tags": []
   },
   "outputs": [],
   "source": [
    "#display(siab_train.groupby(\"year\").size())"
   ]
  },
  {
   "cell_type": "code",
   "execution_count": 20,
   "id": "a561edb4-d032-42cb-8256-22eac1111c64",
   "metadata": {
    "execution": {
     "iopub.execute_input": "2025-07-30T21:03:27.180018Z",
     "iopub.status.busy": "2025-07-30T21:03:27.179594Z",
     "iopub.status.idle": "2025-07-30T21:03:27.454929Z",
     "shell.execute_reply": "2025-07-30T21:03:27.453900Z"
    },
    "papermill": {
     "duration": 0.303166,
     "end_time": "2025-07-30T21:03:27.457077",
     "exception": false,
     "start_time": "2025-07-30T21:03:27.153911",
     "status": "completed"
    },
    "tags": []
   },
   "outputs": [],
   "source": [
    "#siab_train = siab_s[siab_s.year < 2015]\n",
    "siab_calib = siab[siab.year == 2015]\n",
    "siab_test = siab[siab.year == 2016]"
   ]
  },
  {
   "cell_type": "code",
   "execution_count": 21,
   "id": "472de16f-c3db-4916-846b-1f0de9cf1746",
   "metadata": {
    "execution": {
     "iopub.execute_input": "2025-07-30T21:03:27.525581Z",
     "iopub.status.busy": "2025-07-30T21:03:27.525060Z",
     "iopub.status.idle": "2025-07-30T21:03:27.533736Z",
     "shell.execute_reply": "2025-07-30T21:03:27.532729Z"
    },
    "papermill": {
     "duration": 0.035189,
     "end_time": "2025-07-30T21:03:27.535741",
     "exception": false,
     "start_time": "2025-07-30T21:03:27.500552",
     "status": "completed"
    },
    "tags": []
   },
   "outputs": [],
   "source": [
    "X_train = siab_train.iloc[:,4:164]\n",
    "y_train = siab_train.iloc[:, [3]]"
   ]
  },
  {
   "cell_type": "code",
   "execution_count": 22,
   "id": "828c96af-f43a-4ed6-ba47-8ac73a47d56c",
   "metadata": {
    "execution": {
     "iopub.execute_input": "2025-07-30T21:03:27.587255Z",
     "iopub.status.busy": "2025-07-30T21:03:27.586175Z",
     "iopub.status.idle": "2025-07-30T21:03:27.649473Z",
     "shell.execute_reply": "2025-07-30T21:03:27.648369Z"
    },
    "papermill": {
     "duration": 0.091249,
     "end_time": "2025-07-30T21:03:27.651625",
     "exception": false,
     "start_time": "2025-07-30T21:03:27.560376",
     "status": "completed"
    },
    "tags": []
   },
   "outputs": [],
   "source": [
    "X_calib = siab_calib.iloc[:,4:164]\n",
    "y_calib = siab_calib.iloc[:, [3]]"
   ]
  },
  {
   "cell_type": "code",
   "execution_count": 23,
   "id": "c34be9c3-6bd6-476e-acd3-845840e303be",
   "metadata": {
    "execution": {
     "iopub.execute_input": "2025-07-30T21:03:27.701252Z",
     "iopub.status.busy": "2025-07-30T21:03:27.700856Z",
     "iopub.status.idle": "2025-07-30T21:03:27.759418Z",
     "shell.execute_reply": "2025-07-30T21:03:27.758248Z"
    },
    "papermill": {
     "duration": 0.086288,
     "end_time": "2025-07-30T21:03:27.761442",
     "exception": false,
     "start_time": "2025-07-30T21:03:27.675154",
     "status": "completed"
    },
    "tags": []
   },
   "outputs": [],
   "source": [
    "X_test = siab_test.iloc[:,4:164]\n",
    "y_true = siab_test.iloc[:, [3]]"
   ]
  },
  {
   "cell_type": "markdown",
   "id": "9901737e-04df-44f0-9100-f5ad144ed040",
   "metadata": {
    "papermill": {
     "duration": 0.023407,
     "end_time": "2025-07-30T21:03:27.807192",
     "exception": false,
     "start_time": "2025-07-30T21:03:27.783785",
     "status": "completed"
    },
    "tags": []
   },
   "source": [
    "# Splitting Data and Setting Training Data Size OLD VERSION"
   ]
  },
  {
   "cell_type": "code",
   "execution_count": 24,
   "id": "acbc8f7d-8fc8-4e86-8c59-5dcb0f58384b",
   "metadata": {
    "execution": {
     "iopub.execute_input": "2025-07-30T21:03:27.855789Z",
     "iopub.status.busy": "2025-07-30T21:03:27.854746Z",
     "iopub.status.idle": "2025-07-30T21:03:27.861075Z",
     "shell.execute_reply": "2025-07-30T21:03:27.859884Z"
    },
    "papermill": {
     "duration": 0.032649,
     "end_time": "2025-07-30T21:03:27.863180",
     "exception": false,
     "start_time": "2025-07-30T21:03:27.830531",
     "status": "completed"
    },
    "tags": []
   },
   "outputs": [],
   "source": [
    "#def sample_by_year(df, training_size, random_state=42):\n",
    "#    if training_size == \"2014\":\n",
    "#        return df[df[\"year\"] == 2014].reset_index(drop=True)\n",
    "#    \n",
    "#    size_map = {\n",
    "#        \"25k\": 5000,\n",
    "#        \"5k\": 1000,\n",
    "#        \"1k\": 200\n",
    "#    }\n",
    "#\n",
    "#    if training_size not in size_map:\n",
    "#        return df.reset_index(drop=True)  # use all data\n",
    "#\n",
    "#    n_per_year = size_map[training_size]\n",
    "#    grouped = df.groupby(\"year\")\n",
    "#    sampled = grouped.apply(lambda x: x.sample(n=min(n_per_year, len(x)), random_state=random_state))\n",
    "#    return sampled.reset_index(drop=True)"
   ]
  },
  {
   "cell_type": "code",
   "execution_count": 25,
   "id": "6d931f52-beaf-43ff-9e78-9d44a448d54e",
   "metadata": {
    "execution": {
     "iopub.execute_input": "2025-07-30T21:03:27.891180Z",
     "iopub.status.busy": "2025-07-30T21:03:27.890787Z",
     "iopub.status.idle": "2025-07-30T21:03:27.895486Z",
     "shell.execute_reply": "2025-07-30T21:03:27.894744Z"
    },
    "papermill": {
     "duration": 0.018749,
     "end_time": "2025-07-30T21:03:27.897007",
     "exception": false,
     "start_time": "2025-07-30T21:03:27.878258",
     "status": "completed"
    },
    "tags": []
   },
   "outputs": [],
   "source": [
    "#siab_s = sample_by_year(siab, universe[\"training_size\"])"
   ]
  },
  {
   "cell_type": "code",
   "execution_count": 26,
   "id": "5db0a40e-a4e2-4920-be85-b12ae061d70d",
   "metadata": {
    "execution": {
     "iopub.execute_input": "2025-07-30T21:03:27.922680Z",
     "iopub.status.busy": "2025-07-30T21:03:27.922299Z",
     "iopub.status.idle": "2025-07-30T21:03:27.927403Z",
     "shell.execute_reply": "2025-07-30T21:03:27.926295Z"
    },
    "papermill": {
     "duration": 0.019676,
     "end_time": "2025-07-30T21:03:27.929501",
     "exception": false,
     "start_time": "2025-07-30T21:03:27.909825",
     "status": "completed"
    },
    "tags": []
   },
   "outputs": [],
   "source": [
    "#display(siab_s.groupby(\"year\").size())"
   ]
  },
  {
   "cell_type": "code",
   "execution_count": 27,
   "id": "e6c733c5",
   "metadata": {
    "execution": {
     "iopub.execute_input": "2025-07-30T21:03:27.976751Z",
     "iopub.status.busy": "2025-07-30T21:03:27.976244Z",
     "iopub.status.idle": "2025-07-30T21:03:28.074220Z",
     "shell.execute_reply": "2025-07-30T21:03:28.072728Z"
    },
    "papermill": {
     "duration": 0.121848,
     "end_time": "2025-07-30T21:03:28.075810",
     "exception": false,
     "start_time": "2025-07-30T21:03:27.953962",
     "status": "completed"
    },
    "tags": []
   },
   "outputs": [],
   "source": [
    "# Auxiliary data needed downstream in the pipeline\n",
    "\n",
    "org_train = X_train.copy()\n",
    "org_test = X_test.copy()\n",
    "org_calib = X_calib.copy()"
   ]
  },
  {
   "cell_type": "code",
   "execution_count": 28,
   "id": "1466abac-c6da-4492-a62f-4240ae3783af",
   "metadata": {
    "execution": {
     "iopub.execute_input": "2025-07-30T21:03:28.114789Z",
     "iopub.status.busy": "2025-07-30T21:03:28.114266Z",
     "iopub.status.idle": "2025-07-30T21:03:28.120730Z",
     "shell.execute_reply": "2025-07-30T21:03:28.119749Z"
    },
    "papermill": {
     "duration": 0.028129,
     "end_time": "2025-07-30T21:03:28.122266",
     "exception": false,
     "start_time": "2025-07-30T21:03:28.094137",
     "status": "completed"
    },
    "tags": []
   },
   "outputs": [],
   "source": [
    "# put in other script?\n",
    "# Group sizes\n",
    "\n",
    "#def calculate_percentages(df, df_name):\n",
    "#    total_entries = len(df)\n",
    "#\n",
    "#    female_pct = (df['frau1'] == 1).mean() * 100\n",
    "#    non_german_pct = ((df['maxdeutsch1'] == 0) & (df['maxdeutsch.Missing.'] == 0)).mean() * 100\n",
    "#    non_german_male_pct = ((df['frau1'] == 0) & (df['maxdeutsch1'] == 0) & (df['maxdeutsch.Missing.'] == 0)).mean() * 100\n",
    "#    non_german_female_pct = ((df['frau1'] == 1) & (df['maxdeutsch1'] == 0) & (df['maxdeutsch.Missing.'] == 0)).mean() * 100\n",
    "#\n",
    "#    print(f\"--- {df_name} ---\")\n",
    "#    print(f\"Female: {female_pct:.2f}%\")\n",
    "#    print(f\"Non-German: {non_german_pct:.2f}%\")\n",
    "#    print(f\"Non-German Male: {non_german_male_pct:.2f}%\")\n",
    "#    print(f\"Non-German Female: {non_german_female_pct:.2f}%\\n\")\n",
    "#\n",
    "## Calculate for each DataFrame\n",
    "#calculate_percentages(siab_calib, \"siab_calib\")\n",
    "#calculate_percentages(siab_test, \"siab_test\")\n",
    "#calculate_percentages(siab_train, \"siab_train\")"
   ]
  },
  {
   "cell_type": "markdown",
   "id": "0a4a1b33",
   "metadata": {
    "papermill": {
     "duration": 0.02413,
     "end_time": "2025-07-30T21:03:28.167796",
     "exception": false,
     "start_time": "2025-07-30T21:03:28.143666",
     "status": "completed"
    },
    "tags": []
   },
   "source": [
    "# Preprocessing Data"
   ]
  },
  {
   "cell_type": "code",
   "execution_count": 29,
   "id": "ca879031",
   "metadata": {
    "execution": {
     "iopub.execute_input": "2025-07-30T21:03:28.217146Z",
     "iopub.status.busy": "2025-07-30T21:03:28.216421Z",
     "iopub.status.idle": "2025-07-30T21:03:28.222963Z",
     "shell.execute_reply": "2025-07-30T21:03:28.221905Z"
    },
    "papermill": {
     "duration": 0.033116,
     "end_time": "2025-07-30T21:03:28.224920",
     "exception": false,
     "start_time": "2025-07-30T21:03:28.191804",
     "status": "completed"
    },
    "tags": []
   },
   "outputs": [],
   "source": [
    "# EXCLUDE PROTECTED FEATURES\n",
    "# ----------------------\n",
    "# \"exclude_features\": \"none\", # \"nationality\", \"sex\", \"nationality-sex\"\n",
    "\n",
    "excluded_features = universe[\"exclude_features\"].split(\"-\") # split, e.g.: \"nationality-sex\" -> [\"nationality\", \"sex\"]\n",
    "excluded_features_dictionary = {\n",
    "    \"nationality\": [\"maxdeutsch1\", \"maxdeutsch.Missing.\"],\n",
    "    \"sex\": [\"frau1\"],\n",
    "    \"age\": [\"age\"],\n",
    "}\n"
   ]
  },
  {
   "cell_type": "code",
   "execution_count": 30,
   "id": "b745ac60",
   "metadata": {
    "execution": {
     "iopub.execute_input": "2025-07-30T21:03:28.275900Z",
     "iopub.status.busy": "2025-07-30T21:03:28.274899Z",
     "iopub.status.idle": "2025-07-30T21:03:28.282686Z",
     "shell.execute_reply": "2025-07-30T21:03:28.281441Z"
    },
    "papermill": {
     "duration": 0.035389,
     "end_time": "2025-07-30T21:03:28.284788",
     "exception": false,
     "start_time": "2025-07-30T21:03:28.249399",
     "status": "completed"
    },
    "tags": []
   },
   "outputs": [],
   "source": [
    "# Code nice names to column names\n",
    "\n",
    "excluded_features_columns = [\n",
    "    excluded_features_dictionary[f] for f in excluded_features if len(f) > 0 and f != \"none\"\n",
    "]"
   ]
  },
  {
   "cell_type": "code",
   "execution_count": 31,
   "id": "f84f73a2",
   "metadata": {
    "execution": {
     "iopub.execute_input": "2025-07-30T21:03:28.337430Z",
     "iopub.status.busy": "2025-07-30T21:03:28.336936Z",
     "iopub.status.idle": "2025-07-30T21:03:28.343499Z",
     "shell.execute_reply": "2025-07-30T21:03:28.342638Z"
    },
    "papermill": {
     "duration": 0.03525,
     "end_time": "2025-07-30T21:03:28.345245",
     "exception": false,
     "start_time": "2025-07-30T21:03:28.309995",
     "status": "completed"
    },
    "tags": []
   },
   "outputs": [],
   "source": [
    "from utils import flatten_once\n",
    "\n",
    "excluded_features_columns = flatten_once(excluded_features_columns)"
   ]
  },
  {
   "cell_type": "code",
   "execution_count": 32,
   "id": "884dea22",
   "metadata": {
    "execution": {
     "iopub.execute_input": "2025-07-30T21:03:28.393961Z",
     "iopub.status.busy": "2025-07-30T21:03:28.393316Z",
     "iopub.status.idle": "2025-07-30T21:03:28.402741Z",
     "shell.execute_reply": "2025-07-30T21:03:28.401711Z"
    },
    "papermill": {
     "duration": 0.034069,
     "end_time": "2025-07-30T21:03:28.404410",
     "exception": false,
     "start_time": "2025-07-30T21:03:28.370341",
     "status": "completed"
    },
    "tags": []
   },
   "outputs": [
    {
     "name": "stdout",
     "output_type": "stream",
     "text": [
      "Dropping features: ['maxdeutsch1', 'maxdeutsch.Missing.', 'frau1']\n"
     ]
    }
   ],
   "source": [
    "if len(excluded_features_columns) > 0:\n",
    "    print(f\"Dropping features: {excluded_features_columns}\")\n",
    "    X_train.drop(excluded_features_columns, axis=1, inplace=True)"
   ]
  },
  {
   "cell_type": "code",
   "execution_count": 33,
   "id": "95ab8b16",
   "metadata": {
    "execution": {
     "iopub.execute_input": "2025-07-30T21:03:28.452677Z",
     "iopub.status.busy": "2025-07-30T21:03:28.451859Z",
     "iopub.status.idle": "2025-07-30T21:03:28.502586Z",
     "shell.execute_reply": "2025-07-30T21:03:28.501565Z"
    },
    "papermill": {
     "duration": 0.07684,
     "end_time": "2025-07-30T21:03:28.504826",
     "exception": false,
     "start_time": "2025-07-30T21:03:28.427986",
     "status": "completed"
    },
    "tags": []
   },
   "outputs": [
    {
     "name": "stdout",
     "output_type": "stream",
     "text": [
      "Dropping features: ['maxdeutsch1', 'maxdeutsch.Missing.', 'frau1']\n"
     ]
    }
   ],
   "source": [
    "if len(excluded_features_columns) > 0:\n",
    "    print(f\"Dropping features: {excluded_features_columns}\")\n",
    "    X_test.drop(excluded_features_columns, axis=1, inplace=True)"
   ]
  },
  {
   "cell_type": "code",
   "execution_count": 34,
   "id": "1853aaf5-fb9f-46cb-a2b5-8ea4ae2237e4",
   "metadata": {
    "execution": {
     "iopub.execute_input": "2025-07-30T21:03:28.552447Z",
     "iopub.status.busy": "2025-07-30T21:03:28.551720Z",
     "iopub.status.idle": "2025-07-30T21:03:28.604364Z",
     "shell.execute_reply": "2025-07-30T21:03:28.603291Z"
    },
    "papermill": {
     "duration": 0.078126,
     "end_time": "2025-07-30T21:03:28.606142",
     "exception": false,
     "start_time": "2025-07-30T21:03:28.528016",
     "status": "completed"
    },
    "tags": []
   },
   "outputs": [
    {
     "name": "stdout",
     "output_type": "stream",
     "text": [
      "Dropping features: ['maxdeutsch1', 'maxdeutsch.Missing.', 'frau1']\n"
     ]
    }
   ],
   "source": [
    "if len(excluded_features_columns) > 0:\n",
    "    print(f\"Dropping features: {excluded_features_columns}\")\n",
    "    X_calib.drop(excluded_features_columns, axis=1, inplace=True)"
   ]
  },
  {
   "cell_type": "code",
   "execution_count": 35,
   "id": "6727d079-03e5-481e-9d38-292a90b7a0a8",
   "metadata": {
    "execution": {
     "iopub.execute_input": "2025-07-30T21:03:28.655226Z",
     "iopub.status.busy": "2025-07-30T21:03:28.654379Z",
     "iopub.status.idle": "2025-07-30T21:03:28.659305Z",
     "shell.execute_reply": "2025-07-30T21:03:28.658363Z"
    },
    "papermill": {
     "duration": 0.030121,
     "end_time": "2025-07-30T21:03:28.661063",
     "exception": false,
     "start_time": "2025-07-30T21:03:28.630942",
     "status": "completed"
    },
    "tags": []
   },
   "outputs": [],
   "source": [
    "# SPLIT & STRATIFY DATA\n",
    "# ----------------------"
   ]
  },
  {
   "cell_type": "code",
   "execution_count": 36,
   "id": "76c4dc6d",
   "metadata": {
    "execution": {
     "iopub.execute_input": "2025-07-30T21:03:28.708900Z",
     "iopub.status.busy": "2025-07-30T21:03:28.708394Z",
     "iopub.status.idle": "2025-07-30T21:03:28.713745Z",
     "shell.execute_reply": "2025-07-30T21:03:28.712772Z"
    },
    "papermill": {
     "duration": 0.031266,
     "end_time": "2025-07-30T21:03:28.715783",
     "exception": false,
     "start_time": "2025-07-30T21:03:28.684517",
     "status": "completed"
    },
    "tags": []
   },
   "outputs": [],
   "source": [
    "# EXCLUDE CERTAIN SUBGROUPS\n",
    "# ----------------------\n",
    "\n",
    "mode = universe.get(\"exclude_subgroups\", \"keep-all\") \n",
    "# Fetches the exclude_subgroups setting from the universe dict.\n",
    "# Defaults to \"keep-all\" if the key is missing."
   ]
  },
  {
   "cell_type": "code",
   "execution_count": 37,
   "id": "21994072",
   "metadata": {
    "execution": {
     "iopub.execute_input": "2025-07-30T21:03:28.764191Z",
     "iopub.status.busy": "2025-07-30T21:03:28.763707Z",
     "iopub.status.idle": "2025-07-30T21:03:28.770313Z",
     "shell.execute_reply": "2025-07-30T21:03:28.769388Z"
    },
    "papermill": {
     "duration": 0.031801,
     "end_time": "2025-07-30T21:03:28.772105",
     "exception": false,
     "start_time": "2025-07-30T21:03:28.740304",
     "status": "completed"
    },
    "tags": []
   },
   "outputs": [],
   "source": [
    "if mode == \"keep-all\":\n",
    "    keep_mask = pd.Series(True, index=org_train.index)\n",
    "\n",
    "# org_train contains the original feature columns from features_org (in Simson)\n",
    "# features_org contains unprocessed features, for me X_train at beginning ???\n",
    "# For keep-all, creates a boolean Series (keep_mask) of all True, so no rows are removed.\n",
    "\n",
    "elif mode == \"drop-non-german\":\n",
    "    keep_mask = org_train[\"maxdeutsch1\"] == 1 # ??? what about missing values?\n",
    "\n",
    "else:\n",
    "    raise ValueError(f\"Unsupported mode for exclude_subgroups: {mode}\")\n"
   ]
  },
  {
   "cell_type": "code",
   "execution_count": 38,
   "id": "71651440",
   "metadata": {
    "execution": {
     "iopub.execute_input": "2025-07-30T21:03:28.822212Z",
     "iopub.status.busy": "2025-07-30T21:03:28.821702Z",
     "iopub.status.idle": "2025-07-30T21:03:28.829573Z",
     "shell.execute_reply": "2025-07-30T21:03:28.828645Z"
    },
    "papermill": {
     "duration": 0.034776,
     "end_time": "2025-07-30T21:03:28.831040",
     "exception": false,
     "start_time": "2025-07-30T21:03:28.796264",
     "status": "completed"
    },
    "tags": []
   },
   "outputs": [
    {
     "name": "stdout",
     "output_type": "stream",
     "text": [
      "Dropping 665 rows (13.30%) where mode='drop-non-german'\n"
     ]
    }
   ],
   "source": [
    "n_drop = (~keep_mask).sum() # Calculates how many rows are set to be dropped\n",
    "if n_drop > 0:\n",
    "    pct = n_drop / len(keep_mask) * 100\n",
    "    print(f\"Dropping {n_drop} rows ({pct:.2f}%) where mode='{mode}'\")"
   ]
  },
  {
   "cell_type": "code",
   "execution_count": 39,
   "id": "5fb8eee5",
   "metadata": {
    "execution": {
     "iopub.execute_input": "2025-07-30T21:03:28.880630Z",
     "iopub.status.busy": "2025-07-30T21:03:28.880179Z",
     "iopub.status.idle": "2025-07-30T21:03:28.887735Z",
     "shell.execute_reply": "2025-07-30T21:03:28.886807Z"
    },
    "papermill": {
     "duration": 0.034401,
     "end_time": "2025-07-30T21:03:28.889542",
     "exception": false,
     "start_time": "2025-07-30T21:03:28.855141",
     "status": "completed"
    },
    "tags": []
   },
   "outputs": [],
   "source": [
    "X_train = X_train[keep_mask]"
   ]
  },
  {
   "cell_type": "code",
   "execution_count": 40,
   "id": "b202bb3a",
   "metadata": {
    "execution": {
     "iopub.execute_input": "2025-07-30T21:03:28.949986Z",
     "iopub.status.busy": "2025-07-30T21:03:28.949284Z",
     "iopub.status.idle": "2025-07-30T21:03:28.955632Z",
     "shell.execute_reply": "2025-07-30T21:03:28.954598Z"
    },
    "papermill": {
     "duration": 0.037513,
     "end_time": "2025-07-30T21:03:28.957332",
     "exception": false,
     "start_time": "2025-07-30T21:03:28.919819",
     "status": "completed"
    },
    "tags": []
   },
   "outputs": [],
   "source": [
    "y_train = y_train[keep_mask]"
   ]
  },
  {
   "cell_type": "markdown",
   "id": "493e2ac3",
   "metadata": {
    "papermill": {
     "duration": 0.022402,
     "end_time": "2025-07-30T21:03:29.004691",
     "exception": false,
     "start_time": "2025-07-30T21:03:28.982289",
     "status": "completed"
    },
    "tags": []
   },
   "source": [
    "# Model Training"
   ]
  },
  {
   "cell_type": "code",
   "execution_count": 41,
   "id": "679e1268",
   "metadata": {
    "execution": {
     "iopub.execute_input": "2025-07-30T21:03:29.055917Z",
     "iopub.status.busy": "2025-07-30T21:03:29.055421Z",
     "iopub.status.idle": "2025-07-30T21:03:29.157591Z",
     "shell.execute_reply": "2025-07-30T21:03:29.156867Z"
    },
    "papermill": {
     "duration": 0.129884,
     "end_time": "2025-07-30T21:03:29.158973",
     "exception": false,
     "start_time": "2025-07-30T21:03:29.029089",
     "status": "completed"
    },
    "tags": []
   },
   "outputs": [],
   "source": [
    "from sklearn.linear_model import LogisticRegression\n",
    "from sklearn.ensemble import GradientBoostingClassifier, RandomForestClassifier\n",
    "\n",
    "if (universe[\"model\"] == \"logreg\"):\n",
    "    model = LogisticRegression() #penalty=\"none\") #, solver=\"newton-cg\", max_iter=1) # include random_state=19 ?\n",
    "elif (universe[\"model\"] == \"penalized_logreg\"):\n",
    "    model = LogisticRegression(penalty=\"l2\", C=1.0) #, solver=\"newton-cg\", max_iter=1)\n",
    "elif (universe[\"model\"] == \"rf\"):\n",
    "    model = RandomForestClassifier(n_estimators=100, n_jobs=-1)\n",
    "elif (universe[\"model\"] == \"gbm\"):\n",
    "    model = GradientBoostingClassifier()\n",
    "elif (universe[\"model\"] == \"elasticnet\"):\n",
    "    model = LogisticRegression(penalty = 'elasticnet', solver = 'saga', l1_ratio = 0.5, max_iter=5000) # which solver to use?\n",
    "else:\n",
    "    raise \"Unsupported universe.model\""
   ]
  },
  {
   "cell_type": "code",
   "execution_count": 42,
   "id": "0cc8f744",
   "metadata": {
    "execution": {
     "iopub.execute_input": "2025-07-30T21:03:29.188615Z",
     "iopub.status.busy": "2025-07-30T21:03:29.188261Z",
     "iopub.status.idle": "2025-07-30T21:03:29.193653Z",
     "shell.execute_reply": "2025-07-30T21:03:29.192708Z"
    },
    "papermill": {
     "duration": 0.021779,
     "end_time": "2025-07-30T21:03:29.196103",
     "exception": false,
     "start_time": "2025-07-30T21:03:29.174324",
     "status": "completed"
    },
    "tags": []
   },
   "outputs": [],
   "source": [
    "import numpy as np\n",
    "from sklearn.pipeline import Pipeline\n",
    "from sklearn.preprocessing import StandardScaler\n",
    "\n",
    "model = Pipeline([\n",
    "    #(\"continuous_processor\", continuous_processor),\n",
    "    #(\"categorical_preprocessor\", categorical_preprocessor),\n",
    "    (\"scale\", StandardScaler() if universe[\"scale\"] == \"scale\" else None), \n",
    "    (\"model\", model),\n",
    "])"
   ]
  },
  {
   "cell_type": "code",
   "execution_count": 43,
   "id": "9442c04d",
   "metadata": {
    "execution": {
     "iopub.execute_input": "2025-07-30T21:03:29.242931Z",
     "iopub.status.busy": "2025-07-30T21:03:29.242511Z",
     "iopub.status.idle": "2025-07-30T21:03:29.369253Z",
     "shell.execute_reply": "2025-07-30T21:03:29.368389Z"
    },
    "papermill": {
     "duration": 0.150517,
     "end_time": "2025-07-30T21:03:29.371008",
     "exception": false,
     "start_time": "2025-07-30T21:03:29.220491",
     "status": "completed"
    },
    "tags": []
   },
   "outputs": [
    {
     "name": "stderr",
     "output_type": "stream",
     "text": [
      "/dss/dsshome1/0C/ra93lal2/.local/share/virtualenvs/CMA_Fairness_v2-3j10GkSs/lib/python3.10/site-packages/sklearn/linear_model/_logistic.py:444: ConvergenceWarning: lbfgs failed to converge (status=1):\n",
      "STOP: TOTAL NO. of ITERATIONS REACHED LIMIT.\n",
      "\n",
      "Increase the number of iterations (max_iter) or scale the data as shown in:\n",
      "    https://scikit-learn.org/stable/modules/preprocessing.html\n",
      "Please also refer to the documentation for alternative solver options:\n",
      "    https://scikit-learn.org/stable/modules/linear_model.html#logistic-regression\n",
      "  n_iter_i = _check_optimize_result(\n"
     ]
    },
    {
     "data": {
      "text/html": [
       "<style>#sk-container-id-1 {color: black;background-color: white;}#sk-container-id-1 pre{padding: 0;}#sk-container-id-1 div.sk-toggleable {background-color: white;}#sk-container-id-1 label.sk-toggleable__label {cursor: pointer;display: block;width: 100%;margin-bottom: 0;padding: 0.3em;box-sizing: border-box;text-align: center;}#sk-container-id-1 label.sk-toggleable__label-arrow:before {content: \"▸\";float: left;margin-right: 0.25em;color: #696969;}#sk-container-id-1 label.sk-toggleable__label-arrow:hover:before {color: black;}#sk-container-id-1 div.sk-estimator:hover label.sk-toggleable__label-arrow:before {color: black;}#sk-container-id-1 div.sk-toggleable__content {max-height: 0;max-width: 0;overflow: hidden;text-align: left;background-color: #f0f8ff;}#sk-container-id-1 div.sk-toggleable__content pre {margin: 0.2em;color: black;border-radius: 0.25em;background-color: #f0f8ff;}#sk-container-id-1 input.sk-toggleable__control:checked~div.sk-toggleable__content {max-height: 200px;max-width: 100%;overflow: auto;}#sk-container-id-1 input.sk-toggleable__control:checked~label.sk-toggleable__label-arrow:before {content: \"▾\";}#sk-container-id-1 div.sk-estimator input.sk-toggleable__control:checked~label.sk-toggleable__label {background-color: #d4ebff;}#sk-container-id-1 div.sk-label input.sk-toggleable__control:checked~label.sk-toggleable__label {background-color: #d4ebff;}#sk-container-id-1 input.sk-hidden--visually {border: 0;clip: rect(1px 1px 1px 1px);clip: rect(1px, 1px, 1px, 1px);height: 1px;margin: -1px;overflow: hidden;padding: 0;position: absolute;width: 1px;}#sk-container-id-1 div.sk-estimator {font-family: monospace;background-color: #f0f8ff;border: 1px dotted black;border-radius: 0.25em;box-sizing: border-box;margin-bottom: 0.5em;}#sk-container-id-1 div.sk-estimator:hover {background-color: #d4ebff;}#sk-container-id-1 div.sk-parallel-item::after {content: \"\";width: 100%;border-bottom: 1px solid gray;flex-grow: 1;}#sk-container-id-1 div.sk-label:hover label.sk-toggleable__label {background-color: #d4ebff;}#sk-container-id-1 div.sk-serial::before {content: \"\";position: absolute;border-left: 1px solid gray;box-sizing: border-box;top: 0;bottom: 0;left: 50%;z-index: 0;}#sk-container-id-1 div.sk-serial {display: flex;flex-direction: column;align-items: center;background-color: white;padding-right: 0.2em;padding-left: 0.2em;position: relative;}#sk-container-id-1 div.sk-item {position: relative;z-index: 1;}#sk-container-id-1 div.sk-parallel {display: flex;align-items: stretch;justify-content: center;background-color: white;position: relative;}#sk-container-id-1 div.sk-item::before, #sk-container-id-1 div.sk-parallel-item::before {content: \"\";position: absolute;border-left: 1px solid gray;box-sizing: border-box;top: 0;bottom: 0;left: 50%;z-index: -1;}#sk-container-id-1 div.sk-parallel-item {display: flex;flex-direction: column;z-index: 1;position: relative;background-color: white;}#sk-container-id-1 div.sk-parallel-item:first-child::after {align-self: flex-end;width: 50%;}#sk-container-id-1 div.sk-parallel-item:last-child::after {align-self: flex-start;width: 50%;}#sk-container-id-1 div.sk-parallel-item:only-child::after {width: 0;}#sk-container-id-1 div.sk-dashed-wrapped {border: 1px dashed gray;margin: 0 0.4em 0.5em 0.4em;box-sizing: border-box;padding-bottom: 0.4em;background-color: white;}#sk-container-id-1 div.sk-label label {font-family: monospace;font-weight: bold;display: inline-block;line-height: 1.2em;}#sk-container-id-1 div.sk-label-container {text-align: center;}#sk-container-id-1 div.sk-container {/* jupyter's `normalize.less` sets `[hidden] { display: none; }` but bootstrap.min.css set `[hidden] { display: none !important; }` so we also need the `!important` here to be able to override the default hidden behavior on the sphinx rendered scikit-learn.org. See: https://github.com/scikit-learn/scikit-learn/issues/21755 */display: inline-block !important;position: relative;}#sk-container-id-1 div.sk-text-repr-fallback {display: none;}</style><div id=\"sk-container-id-1\" class=\"sk-top-container\"><div class=\"sk-text-repr-fallback\"><pre>Pipeline(steps=[(&#x27;scale&#x27;, None), (&#x27;model&#x27;, LogisticRegression())])</pre><b>In a Jupyter environment, please rerun this cell to show the HTML representation or trust the notebook. <br />On GitHub, the HTML representation is unable to render, please try loading this page with nbviewer.org.</b></div><div class=\"sk-container\" hidden><div class=\"sk-item sk-dashed-wrapped\"><div class=\"sk-label-container\"><div class=\"sk-label sk-toggleable\"><input class=\"sk-toggleable__control sk-hidden--visually\" id=\"sk-estimator-id-1\" type=\"checkbox\" ><label for=\"sk-estimator-id-1\" class=\"sk-toggleable__label sk-toggleable__label-arrow\">Pipeline</label><div class=\"sk-toggleable__content\"><pre>Pipeline(steps=[(&#x27;scale&#x27;, None), (&#x27;model&#x27;, LogisticRegression())])</pre></div></div></div><div class=\"sk-serial\"><div class=\"sk-item\"><div class=\"sk-estimator sk-toggleable\"><input class=\"sk-toggleable__control sk-hidden--visually\" id=\"sk-estimator-id-2\" type=\"checkbox\" ><label for=\"sk-estimator-id-2\" class=\"sk-toggleable__label sk-toggleable__label-arrow\">None</label><div class=\"sk-toggleable__content\"><pre>None</pre></div></div></div><div class=\"sk-item\"><div class=\"sk-estimator sk-toggleable\"><input class=\"sk-toggleable__control sk-hidden--visually\" id=\"sk-estimator-id-3\" type=\"checkbox\" ><label for=\"sk-estimator-id-3\" class=\"sk-toggleable__label sk-toggleable__label-arrow\">LogisticRegression</label><div class=\"sk-toggleable__content\"><pre>LogisticRegression()</pre></div></div></div></div></div></div></div>"
      ],
      "text/plain": [
       "Pipeline(steps=[('scale', None), ('model', LogisticRegression())])"
      ]
     },
     "execution_count": 43,
     "metadata": {},
     "output_type": "execute_result"
    }
   ],
   "source": [
    "model.fit(X_train, y_train.values.ravel())"
   ]
  },
  {
   "cell_type": "code",
   "execution_count": 44,
   "id": "af59f8c0",
   "metadata": {
    "execution": {
     "iopub.execute_input": "2025-07-30T21:03:29.421012Z",
     "iopub.status.busy": "2025-07-30T21:03:29.420534Z",
     "iopub.status.idle": "2025-07-30T21:03:29.425577Z",
     "shell.execute_reply": "2025-07-30T21:03:29.424654Z"
    },
    "papermill": {
     "duration": 0.031998,
     "end_time": "2025-07-30T21:03:29.427633",
     "exception": false,
     "start_time": "2025-07-30T21:03:29.395635",
     "status": "completed"
    },
    "tags": []
   },
   "outputs": [],
   "source": [
    "from fairness_multiverse.universe import predict_w_threshold"
   ]
  },
  {
   "cell_type": "code",
   "execution_count": 45,
   "id": "a7cf2e16",
   "metadata": {
    "execution": {
     "iopub.execute_input": "2025-07-30T21:03:29.478555Z",
     "iopub.status.busy": "2025-07-30T21:03:29.478066Z",
     "iopub.status.idle": "2025-07-30T21:03:29.573824Z",
     "shell.execute_reply": "2025-07-30T21:03:29.572935Z"
    },
    "papermill": {
     "duration": 0.123173,
     "end_time": "2025-07-30T21:03:29.575561",
     "exception": false,
     "start_time": "2025-07-30T21:03:29.452388",
     "status": "completed"
    },
    "tags": []
   },
   "outputs": [
    {
     "data": {
      "text/plain": [
       "0.8608181919518448"
      ]
     },
     "execution_count": 45,
     "metadata": {},
     "output_type": "execute_result"
    }
   ],
   "source": [
    "probs_test = model.predict_proba(X_test)\n",
    "\n",
    "'''\n",
    "Below code returns a boolean array (or binary 0/1 array depending on how it’s used) where each element \n",
    "is True if the probability of class 1 is greater than or equal to the threshold, and False otherwise.\n",
    "'''\n",
    "y_pred_default = predict_w_threshold(probs_test, 0.5)\n",
    "\n",
    "from sklearn.metrics import accuracy_score\n",
    "\n",
    "# Naive prediction\n",
    "accuracy_score(y_true = y_true, y_pred = y_pred_default)"
   ]
  },
  {
   "cell_type": "code",
   "execution_count": 46,
   "id": "081964c3",
   "metadata": {
    "execution": {
     "iopub.execute_input": "2025-07-30T21:03:29.623246Z",
     "iopub.status.busy": "2025-07-30T21:03:29.622648Z",
     "iopub.status.idle": "2025-07-30T21:03:29.722208Z",
     "shell.execute_reply": "2025-07-30T21:03:29.721255Z"
    },
    "papermill": {
     "duration": 0.124896,
     "end_time": "2025-07-30T21:03:29.723916",
     "exception": false,
     "start_time": "2025-07-30T21:03:29.599020",
     "status": "completed"
    },
    "tags": []
   },
   "outputs": [
    {
     "data": {
      "text/plain": [
       "array([0, 0, 0, ..., 0, 0, 0])"
      ]
     },
     "execution_count": 46,
     "metadata": {},
     "output_type": "execute_result"
    }
   ],
   "source": [
    "model.predict(X_test)"
   ]
  },
  {
   "cell_type": "markdown",
   "id": "56c9705b",
   "metadata": {
    "papermill": {
     "duration": 0.023999,
     "end_time": "2025-07-30T21:03:29.772140",
     "exception": false,
     "start_time": "2025-07-30T21:03:29.748141",
     "status": "completed"
    },
    "tags": []
   },
   "source": [
    "# Conformal Prediction"
   ]
  },
  {
   "cell_type": "code",
   "execution_count": 47,
   "id": "160ec6ff",
   "metadata": {
    "execution": {
     "iopub.execute_input": "2025-07-30T21:03:29.821145Z",
     "iopub.status.busy": "2025-07-30T21:03:29.820641Z",
     "iopub.status.idle": "2025-07-30T21:03:29.826294Z",
     "shell.execute_reply": "2025-07-30T21:03:29.825328Z"
    },
    "papermill": {
     "duration": 0.032552,
     "end_time": "2025-07-30T21:03:29.827928",
     "exception": false,
     "start_time": "2025-07-30T21:03:29.795376",
     "status": "completed"
    },
    "tags": []
   },
   "outputs": [],
   "source": [
    "# Miscoverage level for conformal prediction (10% allowed error rate => 90% target coverage)\n",
    "alpha = 0.1"
   ]
  },
  {
   "cell_type": "code",
   "execution_count": 48,
   "id": "eadf4555-3dd3-440e-8e35-f82a4ad9f855",
   "metadata": {
    "execution": {
     "iopub.execute_input": "2025-07-30T21:03:29.876105Z",
     "iopub.status.busy": "2025-07-30T21:03:29.875595Z",
     "iopub.status.idle": "2025-07-30T21:03:29.957795Z",
     "shell.execute_reply": "2025-07-30T21:03:29.956847Z"
    },
    "papermill": {
     "duration": 0.108461,
     "end_time": "2025-07-30T21:03:29.959696",
     "exception": false,
     "start_time": "2025-07-30T21:03:29.851235",
     "status": "completed"
    },
    "tags": []
   },
   "outputs": [],
   "source": [
    "probs_calib = model.predict_proba(X_calib)"
   ]
  },
  {
   "cell_type": "code",
   "execution_count": 49,
   "id": "2ed93547-6d5d-4983-9b36-1ecb300da49a",
   "metadata": {
    "execution": {
     "iopub.execute_input": "2025-07-30T21:03:30.007901Z",
     "iopub.status.busy": "2025-07-30T21:03:30.007253Z",
     "iopub.status.idle": "2025-07-30T21:03:30.013163Z",
     "shell.execute_reply": "2025-07-30T21:03:30.012161Z"
    },
    "papermill": {
     "duration": 0.030873,
     "end_time": "2025-07-30T21:03:30.015139",
     "exception": false,
     "start_time": "2025-07-30T21:03:29.984266",
     "status": "completed"
    },
    "tags": []
   },
   "outputs": [],
   "source": [
    "y_calib = y_calib.values.ravel().astype(int)"
   ]
  },
  {
   "cell_type": "code",
   "execution_count": 50,
   "id": "65d1320d-f588-4b38-9072-62af1ae97f7d",
   "metadata": {
    "execution": {
     "iopub.execute_input": "2025-07-30T21:03:30.067824Z",
     "iopub.status.busy": "2025-07-30T21:03:30.067168Z",
     "iopub.status.idle": "2025-07-30T21:03:30.076482Z",
     "shell.execute_reply": "2025-07-30T21:03:30.075454Z"
    },
    "papermill": {
     "duration": 0.036929,
     "end_time": "2025-07-30T21:03:30.078059",
     "exception": false,
     "start_time": "2025-07-30T21:03:30.041130",
     "status": "completed"
    },
    "tags": []
   },
   "outputs": [],
   "source": [
    "from fairness_multiverse.conformal import compute_nc_scores\n",
    "\n",
    "# Compute nonconformity scores on calibration set (1 - probability of true class)\n",
    "nc_scores = compute_nc_scores(probs_calib, y_calib)"
   ]
  },
  {
   "cell_type": "code",
   "execution_count": 51,
   "id": "df3b8ca3-53b7-43d5-9667-7c85da7aeda2",
   "metadata": {
    "execution": {
     "iopub.execute_input": "2025-07-30T21:03:30.130337Z",
     "iopub.status.busy": "2025-07-30T21:03:30.129798Z",
     "iopub.status.idle": "2025-07-30T21:03:30.136819Z",
     "shell.execute_reply": "2025-07-30T21:03:30.135799Z"
    },
    "papermill": {
     "duration": 0.034719,
     "end_time": "2025-07-30T21:03:30.138503",
     "exception": false,
     "start_time": "2025-07-30T21:03:30.103784",
     "status": "completed"
    },
    "tags": []
   },
   "outputs": [],
   "source": [
    "from fairness_multiverse.conformal import find_threshold\n",
    "\n",
    "# Find conformal threshold q_hat for the given alpha (split conformal method)\n",
    "q_hat = find_threshold(nc_scores, alpha)"
   ]
  },
  {
   "cell_type": "code",
   "execution_count": 52,
   "id": "4d29e6c1-0ef6-4aa4-b8fe-4fe79b0d033a",
   "metadata": {
    "execution": {
     "iopub.execute_input": "2025-07-30T21:03:30.191726Z",
     "iopub.status.busy": "2025-07-30T21:03:30.191055Z",
     "iopub.status.idle": "2025-07-30T21:03:30.198414Z",
     "shell.execute_reply": "2025-07-30T21:03:30.197373Z"
    },
    "papermill": {
     "duration": 0.036027,
     "end_time": "2025-07-30T21:03:30.199938",
     "exception": false,
     "start_time": "2025-07-30T21:03:30.163911",
     "status": "completed"
    },
    "tags": []
   },
   "outputs": [
    {
     "data": {
      "text/plain": [
       "0.6726696207427266"
      ]
     },
     "execution_count": 52,
     "metadata": {},
     "output_type": "execute_result"
    }
   ],
   "source": [
    "q_hat"
   ]
  },
  {
   "cell_type": "code",
   "execution_count": 53,
   "id": "92460794-cdac-4be2-ba28-f28c0515a6fb",
   "metadata": {
    "execution": {
     "iopub.execute_input": "2025-07-30T21:03:30.253156Z",
     "iopub.status.busy": "2025-07-30T21:03:30.252399Z",
     "iopub.status.idle": "2025-07-30T21:03:31.003940Z",
     "shell.execute_reply": "2025-07-30T21:03:31.003028Z"
    },
    "papermill": {
     "duration": 0.780359,
     "end_time": "2025-07-30T21:03:31.005773",
     "exception": false,
     "start_time": "2025-07-30T21:03:30.225414",
     "status": "completed"
    },
    "tags": []
   },
   "outputs": [],
   "source": [
    "from fairness_multiverse.conformal import predict_conformal_sets\n",
    "\n",
    "# Generate prediction sets for each test example\n",
    "pred_sets = predict_conformal_sets(model, X_test, q_hat)"
   ]
  },
  {
   "cell_type": "code",
   "execution_count": 54,
   "id": "d90c9a65-e6db-4f5d-80cd-e68fb7e46829",
   "metadata": {
    "execution": {
     "iopub.execute_input": "2025-07-30T21:03:31.060229Z",
     "iopub.status.busy": "2025-07-30T21:03:31.059554Z",
     "iopub.status.idle": "2025-07-30T21:03:31.065103Z",
     "shell.execute_reply": "2025-07-30T21:03:31.064069Z"
    },
    "papermill": {
     "duration": 0.034121,
     "end_time": "2025-07-30T21:03:31.066778",
     "exception": false,
     "start_time": "2025-07-30T21:03:31.032657",
     "status": "completed"
    },
    "tags": []
   },
   "outputs": [],
   "source": [
    "y_true = y_true.squeeze()"
   ]
  },
  {
   "cell_type": "code",
   "execution_count": 55,
   "id": "3a58a54a-1e68-46b9-927a-df01f18aebc8",
   "metadata": {
    "execution": {
     "iopub.execute_input": "2025-07-30T21:03:31.119501Z",
     "iopub.status.busy": "2025-07-30T21:03:31.118845Z",
     "iopub.status.idle": "2025-07-30T21:03:32.018094Z",
     "shell.execute_reply": "2025-07-30T21:03:32.017075Z"
    },
    "papermill": {
     "duration": 0.927648,
     "end_time": "2025-07-30T21:03:32.020285",
     "exception": false,
     "start_time": "2025-07-30T21:03:31.092637",
     "status": "completed"
    },
    "tags": []
   },
   "outputs": [],
   "source": [
    "from fairness_multiverse.conformal import evaluate_sets\n",
    "\n",
    "# Evaluate coverage and average set size on test data\n",
    "metrics = evaluate_sets(pred_sets, y_true)"
   ]
  },
  {
   "cell_type": "markdown",
   "id": "2b569c12-9aaa-4c88-98c9-bbcd0cf3ebb8",
   "metadata": {
    "papermill": {
     "duration": 0.024257,
     "end_time": "2025-07-30T21:03:32.087294",
     "exception": false,
     "start_time": "2025-07-30T21:03:32.063037",
     "status": "completed"
    },
    "tags": []
   },
   "source": [
    "# CP Metrics"
   ]
  },
  {
   "cell_type": "code",
   "execution_count": 56,
   "id": "5ce0a5cb-201f-45a0-ade5-94c7f0bd6095",
   "metadata": {
    "execution": {
     "iopub.execute_input": "2025-07-30T21:03:32.139033Z",
     "iopub.status.busy": "2025-07-30T21:03:32.138584Z",
     "iopub.status.idle": "2025-07-30T21:03:32.145568Z",
     "shell.execute_reply": "2025-07-30T21:03:32.144523Z"
    },
    "papermill": {
     "duration": 0.033866,
     "end_time": "2025-07-30T21:03:32.147310",
     "exception": false,
     "start_time": "2025-07-30T21:03:32.113444",
     "status": "completed"
    },
    "tags": []
   },
   "outputs": [
    {
     "data": {
      "text/plain": [
       "{'coverage': 0.9120945268086055, 'avg_size': 1.2180358934343998}"
      ]
     },
     "execution_count": 56,
     "metadata": {},
     "output_type": "execute_result"
    }
   ],
   "source": [
    "metrics"
   ]
  },
  {
   "cell_type": "code",
   "execution_count": 57,
   "id": "9b9a838d-31c9-430b-ae14-12baee460d17",
   "metadata": {
    "execution": {
     "iopub.execute_input": "2025-07-30T21:03:32.201823Z",
     "iopub.status.busy": "2025-07-30T21:03:32.201330Z",
     "iopub.status.idle": "2025-07-30T21:03:32.208066Z",
     "shell.execute_reply": "2025-07-30T21:03:32.206948Z"
    },
    "papermill": {
     "duration": 0.035336,
     "end_time": "2025-07-30T21:03:32.209772",
     "exception": false,
     "start_time": "2025-07-30T21:03:32.174436",
     "status": "completed"
    },
    "tags": []
   },
   "outputs": [],
   "source": [
    "example_universe = universe.copy()\n",
    "universe_training_year = example_universe.get(\"training_year\")\n",
    "universe_training_size = example_universe.get(\"training_size\")\n",
    "universe_scale = example_universe.get(\"scale\")\n",
    "universe_model = example_universe.get(\"model\")\n",
    "universe_exclude_features = example_universe.get(\"exclude_features\")\n",
    "universe_exclude_subgroups = example_universe.get(\"exclude_subgroups\")"
   ]
  },
  {
   "cell_type": "code",
   "execution_count": 58,
   "id": "f4b6a8ac-9dc0-4245-8a91-5b3b5999c4f9",
   "metadata": {
    "execution": {
     "iopub.execute_input": "2025-07-30T21:03:32.269524Z",
     "iopub.status.busy": "2025-07-30T21:03:32.269020Z",
     "iopub.status.idle": "2025-07-30T21:03:32.276504Z",
     "shell.execute_reply": "2025-07-30T21:03:32.275520Z"
    },
    "papermill": {
     "duration": 0.042028,
     "end_time": "2025-07-30T21:03:32.278018",
     "exception": false,
     "start_time": "2025-07-30T21:03:32.235990",
     "status": "completed"
    },
    "tags": []
   },
   "outputs": [],
   "source": [
    "cp_metrics_dict = {\n",
    "    \"universe_id\": [universe_id],\n",
    "    \"universe_training_year\": [universe_training_year],\n",
    "    \"universe_training_size\": [universe_training_size],\n",
    "    \"universe_scale\": [universe_scale],\n",
    "    \"universe_model\": [universe_model],\n",
    "    \"universe_exclude_features\": [universe_exclude_features],\n",
    "    \"universe_exclude_subgroups\": [universe_exclude_subgroups],\n",
    "    \"q_hat\": [q_hat],\n",
    "    \"coverage\": [metrics[\"coverage\"]],\n",
    "    \"avg_size\": [metrics[\"avg_size\"]],\n",
    "}"
   ]
  },
  {
   "cell_type": "code",
   "execution_count": 59,
   "id": "908acbb1-0371-4915-85ca-3fa520d2efe2",
   "metadata": {
    "execution": {
     "iopub.execute_input": "2025-07-30T21:03:32.332283Z",
     "iopub.status.busy": "2025-07-30T21:03:32.331701Z",
     "iopub.status.idle": "2025-07-30T21:03:32.339585Z",
     "shell.execute_reply": "2025-07-30T21:03:32.338580Z"
    },
    "papermill": {
     "duration": 0.037142,
     "end_time": "2025-07-30T21:03:32.341128",
     "exception": false,
     "start_time": "2025-07-30T21:03:32.303986",
     "status": "completed"
    },
    "tags": []
   },
   "outputs": [
    {
     "data": {
      "text/plain": [
       "{'universe_id': ['95d22fc05c82b1614dd6c274860b050d'],\n",
       " 'universe_training_year': ['2012_14'],\n",
       " 'universe_training_size': ['5k'],\n",
       " 'universe_scale': ['do-not-scale'],\n",
       " 'universe_model': ['logreg'],\n",
       " 'universe_exclude_features': ['nationality-sex'],\n",
       " 'universe_exclude_subgroups': ['drop-non-german'],\n",
       " 'q_hat': [0.6726696207427266],\n",
       " 'coverage': [0.9120945268086055],\n",
       " 'avg_size': [1.2180358934343998]}"
      ]
     },
     "execution_count": 59,
     "metadata": {},
     "output_type": "execute_result"
    }
   ],
   "source": [
    "cp_metrics_dict"
   ]
  },
  {
   "cell_type": "code",
   "execution_count": 60,
   "id": "33007efc-14e9-4ec6-97ac-56a455c82265",
   "metadata": {
    "execution": {
     "iopub.execute_input": "2025-07-30T21:03:32.397287Z",
     "iopub.status.busy": "2025-07-30T21:03:32.396339Z",
     "iopub.status.idle": "2025-07-30T21:03:32.403217Z",
     "shell.execute_reply": "2025-07-30T21:03:32.402173Z"
    },
    "papermill": {
     "duration": 0.036537,
     "end_time": "2025-07-30T21:03:32.404889",
     "exception": false,
     "start_time": "2025-07-30T21:03:32.368352",
     "status": "completed"
    },
    "tags": []
   },
   "outputs": [],
   "source": [
    "cp_metrics_df = pd.DataFrame(cp_metrics_dict)"
   ]
  },
  {
   "cell_type": "code",
   "execution_count": 61,
   "id": "db12611b-57b2-4910-b9d0-355adfd6e7bf",
   "metadata": {
    "execution": {
     "iopub.execute_input": "2025-07-30T21:03:32.459390Z",
     "iopub.status.busy": "2025-07-30T21:03:32.458511Z",
     "iopub.status.idle": "2025-07-30T21:03:32.477351Z",
     "shell.execute_reply": "2025-07-30T21:03:32.476272Z"
    },
    "papermill": {
     "duration": 0.048005,
     "end_time": "2025-07-30T21:03:32.479031",
     "exception": false,
     "start_time": "2025-07-30T21:03:32.431026",
     "status": "completed"
    },
    "tags": []
   },
   "outputs": [
    {
     "data": {
      "text/html": [
       "<div>\n",
       "<style scoped>\n",
       "    .dataframe tbody tr th:only-of-type {\n",
       "        vertical-align: middle;\n",
       "    }\n",
       "\n",
       "    .dataframe tbody tr th {\n",
       "        vertical-align: top;\n",
       "    }\n",
       "\n",
       "    .dataframe thead th {\n",
       "        text-align: right;\n",
       "    }\n",
       "</style>\n",
       "<table border=\"1\" class=\"dataframe\">\n",
       "  <thead>\n",
       "    <tr style=\"text-align: right;\">\n",
       "      <th></th>\n",
       "      <th>universe_id</th>\n",
       "      <th>universe_training_year</th>\n",
       "      <th>universe_training_size</th>\n",
       "      <th>universe_scale</th>\n",
       "      <th>universe_model</th>\n",
       "      <th>universe_exclude_features</th>\n",
       "      <th>universe_exclude_subgroups</th>\n",
       "      <th>q_hat</th>\n",
       "      <th>coverage</th>\n",
       "      <th>avg_size</th>\n",
       "    </tr>\n",
       "  </thead>\n",
       "  <tbody>\n",
       "    <tr>\n",
       "      <th>0</th>\n",
       "      <td>95d22fc05c82b1614dd6c274860b050d</td>\n",
       "      <td>2012_14</td>\n",
       "      <td>5k</td>\n",
       "      <td>do-not-scale</td>\n",
       "      <td>logreg</td>\n",
       "      <td>nationality-sex</td>\n",
       "      <td>drop-non-german</td>\n",
       "      <td>0.67267</td>\n",
       "      <td>0.912095</td>\n",
       "      <td>1.218036</td>\n",
       "    </tr>\n",
       "  </tbody>\n",
       "</table>\n",
       "</div>"
      ],
      "text/plain": [
       "                        universe_id universe_training_year  \\\n",
       "0  95d22fc05c82b1614dd6c274860b050d                2012_14   \n",
       "\n",
       "  universe_training_size universe_scale universe_model  \\\n",
       "0                     5k   do-not-scale         logreg   \n",
       "\n",
       "  universe_exclude_features universe_exclude_subgroups    q_hat  coverage  \\\n",
       "0           nationality-sex            drop-non-german  0.67267  0.912095   \n",
       "\n",
       "   avg_size  \n",
       "0  1.218036  "
      ]
     },
     "execution_count": 61,
     "metadata": {},
     "output_type": "execute_result"
    }
   ],
   "source": [
    "cp_metrics_df"
   ]
  },
  {
   "cell_type": "code",
   "execution_count": 62,
   "id": "b7fbde55-a0a1-47e4-9af6-fe4a17fa8c61",
   "metadata": {
    "execution": {
     "iopub.execute_input": "2025-07-30T21:03:32.538685Z",
     "iopub.status.busy": "2025-07-30T21:03:32.537938Z",
     "iopub.status.idle": "2025-07-30T21:03:32.543496Z",
     "shell.execute_reply": "2025-07-30T21:03:32.542487Z"
    },
    "papermill": {
     "duration": 0.037061,
     "end_time": "2025-07-30T21:03:32.545296",
     "exception": false,
     "start_time": "2025-07-30T21:03:32.508235",
     "status": "completed"
    },
    "tags": []
   },
   "outputs": [],
   "source": [
    "# Conditional Coverage & looking at subgroups"
   ]
  },
  {
   "cell_type": "code",
   "execution_count": 63,
   "id": "027ae886-68dd-4141-96c7-805a5450e1ef",
   "metadata": {
    "execution": {
     "iopub.execute_input": "2025-07-30T21:03:32.599987Z",
     "iopub.status.busy": "2025-07-30T21:03:32.599089Z",
     "iopub.status.idle": "2025-07-30T21:03:32.899361Z",
     "shell.execute_reply": "2025-07-30T21:03:32.898362Z"
    },
    "papermill": {
     "duration": 0.328518,
     "end_time": "2025-07-30T21:03:32.901273",
     "exception": false,
     "start_time": "2025-07-30T21:03:32.572755",
     "status": "completed"
    },
    "tags": []
   },
   "outputs": [],
   "source": [
    "from fairness_multiverse.conformal import build_cp_groups\n",
    "\n",
    "cp_groups_df = build_cp_groups(pred_sets, y_true, X_test.index, org_test)\n",
    "#needs universe_id and setting"
   ]
  },
  {
   "cell_type": "code",
   "execution_count": 64,
   "id": "01d5802c-663a-4d1f-9d69-e036faaffbf7",
   "metadata": {
    "execution": {
     "iopub.execute_input": "2025-07-30T21:03:32.954876Z",
     "iopub.status.busy": "2025-07-30T21:03:32.953993Z",
     "iopub.status.idle": "2025-07-30T21:03:32.959851Z",
     "shell.execute_reply": "2025-07-30T21:03:32.958764Z"
    },
    "papermill": {
     "duration": 0.03441,
     "end_time": "2025-07-30T21:03:32.961847",
     "exception": false,
     "start_time": "2025-07-30T21:03:32.927437",
     "status": "completed"
    },
    "tags": []
   },
   "outputs": [],
   "source": [
    "#delete\n",
    "#cp_groups_df"
   ]
  },
  {
   "cell_type": "code",
   "execution_count": 65,
   "id": "fa424af1-d1eb-443d-b717-2d279ada8408",
   "metadata": {
    "execution": {
     "iopub.execute_input": "2025-07-30T21:03:33.023914Z",
     "iopub.status.busy": "2025-07-30T21:03:33.023256Z",
     "iopub.status.idle": "2025-07-30T21:03:33.028642Z",
     "shell.execute_reply": "2025-07-30T21:03:33.027675Z"
    },
    "papermill": {
     "duration": 0.038548,
     "end_time": "2025-07-30T21:03:33.030604",
     "exception": false,
     "start_time": "2025-07-30T21:03:32.992056",
     "status": "completed"
    },
    "tags": []
   },
   "outputs": [],
   "source": [
    "#delete\n",
    "#percentage = (cp_groups_df['nongerman_female'] == 1).mean() * 100\n",
    "#print(percentage)\n"
   ]
  },
  {
   "cell_type": "code",
   "execution_count": 66,
   "id": "6cbdab96-b2b2-45af-ad54-d0516db2e28d",
   "metadata": {
    "execution": {
     "iopub.execute_input": "2025-07-30T21:03:33.090793Z",
     "iopub.status.busy": "2025-07-30T21:03:33.090311Z",
     "iopub.status.idle": "2025-07-30T21:03:34.752395Z",
     "shell.execute_reply": "2025-07-30T21:03:34.751379Z"
    },
    "papermill": {
     "duration": 1.694113,
     "end_time": "2025-07-30T21:03:34.754307",
     "exception": false,
     "start_time": "2025-07-30T21:03:33.060194",
     "status": "completed"
    },
    "tags": []
   },
   "outputs": [],
   "source": [
    "# Define covered = 1 if true_label is in the predicted set\n",
    "cp_groups_df['covered'] = cp_groups_df.apply(\n",
    "    lambda r: int(r['true_label'] in r['pred_set']),\n",
    "    axis=1\n",
    ")"
   ]
  },
  {
   "cell_type": "code",
   "execution_count": 67,
   "id": "338ff529-1a6b-4b87-a931-8e4788d52aad",
   "metadata": {
    "execution": {
     "iopub.execute_input": "2025-07-30T21:03:34.807814Z",
     "iopub.status.busy": "2025-07-30T21:03:34.807347Z",
     "iopub.status.idle": "2025-07-30T21:03:34.812263Z",
     "shell.execute_reply": "2025-07-30T21:03:34.811154Z"
    },
    "papermill": {
     "duration": 0.033291,
     "end_time": "2025-07-30T21:03:34.814048",
     "exception": false,
     "start_time": "2025-07-30T21:03:34.780757",
     "status": "completed"
    },
    "tags": []
   },
   "outputs": [],
   "source": [
    "#cp_groups_df"
   ]
  },
  {
   "cell_type": "code",
   "execution_count": 68,
   "id": "90032e27-66df-4540-9169-4e89cfbaa758",
   "metadata": {
    "execution": {
     "iopub.execute_input": "2025-07-30T21:03:34.866610Z",
     "iopub.status.busy": "2025-07-30T21:03:34.866111Z",
     "iopub.status.idle": "2025-07-30T21:03:34.876996Z",
     "shell.execute_reply": "2025-07-30T21:03:34.876082Z"
    },
    "papermill": {
     "duration": 0.039783,
     "end_time": "2025-07-30T21:03:34.878695",
     "exception": false,
     "start_time": "2025-07-30T21:03:34.838912",
     "status": "completed"
    },
    "tags": []
   },
   "outputs": [],
   "source": [
    "subgroups = ['frau1','nongerman','nongerman_male','nongerman_female']\n",
    "\n",
    "# Conditional coverage for subgroup==1\n",
    "cond_coverage = {\n",
    "    g: cp_groups_df.loc[cp_groups_df[g]==1, 'covered'].mean()\n",
    "    for g in subgroups\n",
    "}"
   ]
  },
  {
   "cell_type": "code",
   "execution_count": 69,
   "id": "1e348fb1-b9c3-45bc-ba23-f016827a7e0d",
   "metadata": {
    "execution": {
     "iopub.execute_input": "2025-07-30T21:03:34.930861Z",
     "iopub.status.busy": "2025-07-30T21:03:34.930181Z",
     "iopub.status.idle": "2025-07-30T21:03:34.937768Z",
     "shell.execute_reply": "2025-07-30T21:03:34.936867Z"
    },
    "papermill": {
     "duration": 0.03419,
     "end_time": "2025-07-30T21:03:34.939216",
     "exception": false,
     "start_time": "2025-07-30T21:03:34.905026",
     "status": "completed"
    },
    "tags": []
   },
   "outputs": [
    {
     "data": {
      "text/plain": [
       "{'frau1': 0.9093408815204206,\n",
       " 'nongerman': 0.9384719025430865,\n",
       " 'nongerman_male': 0.9500135098621995,\n",
       " 'nongerman_female': 0.9193740685543964}"
      ]
     },
     "execution_count": 69,
     "metadata": {},
     "output_type": "execute_result"
    }
   ],
   "source": [
    "cond_coverage"
   ]
  },
  {
   "cell_type": "code",
   "execution_count": 70,
   "id": "f5093324-c3dd-4d63-bc4c-8d945e5c8bbb",
   "metadata": {
    "execution": {
     "iopub.execute_input": "2025-07-30T21:03:34.991874Z",
     "iopub.status.busy": "2025-07-30T21:03:34.991205Z",
     "iopub.status.idle": "2025-07-30T21:03:34.998942Z",
     "shell.execute_reply": "2025-07-30T21:03:34.997942Z"
    },
    "papermill": {
     "duration": 0.035899,
     "end_time": "2025-07-30T21:03:35.000645",
     "exception": false,
     "start_time": "2025-07-30T21:03:34.964746",
     "status": "completed"
    },
    "tags": []
   },
   "outputs": [],
   "source": [
    "for subgroup, cov in cond_coverage.items():\n",
    "    cp_metrics_df[f\"cov_{subgroup}\"] = cov"
   ]
  },
  {
   "cell_type": "code",
   "execution_count": 71,
   "id": "6e872e10-dbe5-49e8-b554-5030c98ff75d",
   "metadata": {
    "execution": {
     "iopub.execute_input": "2025-07-30T21:03:35.054169Z",
     "iopub.status.busy": "2025-07-30T21:03:35.053316Z",
     "iopub.status.idle": "2025-07-30T21:03:35.072891Z",
     "shell.execute_reply": "2025-07-30T21:03:35.071912Z"
    },
    "papermill": {
     "duration": 0.047489,
     "end_time": "2025-07-30T21:03:35.074485",
     "exception": false,
     "start_time": "2025-07-30T21:03:35.026996",
     "status": "completed"
    },
    "tags": []
   },
   "outputs": [
    {
     "data": {
      "text/html": [
       "<div>\n",
       "<style scoped>\n",
       "    .dataframe tbody tr th:only-of-type {\n",
       "        vertical-align: middle;\n",
       "    }\n",
       "\n",
       "    .dataframe tbody tr th {\n",
       "        vertical-align: top;\n",
       "    }\n",
       "\n",
       "    .dataframe thead th {\n",
       "        text-align: right;\n",
       "    }\n",
       "</style>\n",
       "<table border=\"1\" class=\"dataframe\">\n",
       "  <thead>\n",
       "    <tr style=\"text-align: right;\">\n",
       "      <th></th>\n",
       "      <th>universe_id</th>\n",
       "      <th>universe_training_year</th>\n",
       "      <th>universe_training_size</th>\n",
       "      <th>universe_scale</th>\n",
       "      <th>universe_model</th>\n",
       "      <th>universe_exclude_features</th>\n",
       "      <th>universe_exclude_subgroups</th>\n",
       "      <th>q_hat</th>\n",
       "      <th>coverage</th>\n",
       "      <th>avg_size</th>\n",
       "      <th>cov_frau1</th>\n",
       "      <th>cov_nongerman</th>\n",
       "      <th>cov_nongerman_male</th>\n",
       "      <th>cov_nongerman_female</th>\n",
       "    </tr>\n",
       "  </thead>\n",
       "  <tbody>\n",
       "    <tr>\n",
       "      <th>0</th>\n",
       "      <td>95d22fc05c82b1614dd6c274860b050d</td>\n",
       "      <td>2012_14</td>\n",
       "      <td>5k</td>\n",
       "      <td>do-not-scale</td>\n",
       "      <td>logreg</td>\n",
       "      <td>nationality-sex</td>\n",
       "      <td>drop-non-german</td>\n",
       "      <td>0.67267</td>\n",
       "      <td>0.912095</td>\n",
       "      <td>1.218036</td>\n",
       "      <td>0.909341</td>\n",
       "      <td>0.938472</td>\n",
       "      <td>0.950014</td>\n",
       "      <td>0.919374</td>\n",
       "    </tr>\n",
       "  </tbody>\n",
       "</table>\n",
       "</div>"
      ],
      "text/plain": [
       "                        universe_id universe_training_year  \\\n",
       "0  95d22fc05c82b1614dd6c274860b050d                2012_14   \n",
       "\n",
       "  universe_training_size universe_scale universe_model  \\\n",
       "0                     5k   do-not-scale         logreg   \n",
       "\n",
       "  universe_exclude_features universe_exclude_subgroups    q_hat  coverage  \\\n",
       "0           nationality-sex            drop-non-german  0.67267  0.912095   \n",
       "\n",
       "   avg_size  cov_frau1  cov_nongerman  cov_nongerman_male  \\\n",
       "0  1.218036   0.909341       0.938472            0.950014   \n",
       "\n",
       "   cov_nongerman_female  \n",
       "0              0.919374  "
      ]
     },
     "execution_count": 71,
     "metadata": {},
     "output_type": "execute_result"
    }
   ],
   "source": [
    "cp_metrics_df"
   ]
  },
  {
   "cell_type": "markdown",
   "id": "33774451",
   "metadata": {
    "papermill": {
     "duration": 0.02585,
     "end_time": "2025-07-30T21:03:35.126044",
     "exception": false,
     "start_time": "2025-07-30T21:03:35.100194",
     "status": "completed"
    },
    "tags": []
   },
   "source": [
    "# (Fairness) Metrics"
   ]
  },
  {
   "cell_type": "code",
   "execution_count": 72,
   "id": "debc5d62",
   "metadata": {
    "execution": {
     "iopub.execute_input": "2025-07-30T21:03:35.177376Z",
     "iopub.status.busy": "2025-07-30T21:03:35.176749Z",
     "iopub.status.idle": "2025-07-30T21:03:35.197346Z",
     "shell.execute_reply": "2025-07-30T21:03:35.196452Z"
    },
    "papermill": {
     "duration": 0.047716,
     "end_time": "2025-07-30T21:03:35.199013",
     "exception": false,
     "start_time": "2025-07-30T21:03:35.151297",
     "status": "completed"
    },
    "tags": []
   },
   "outputs": [],
   "source": [
    "# do I need to include maxdeutsch1.missing?\n",
    "\n",
    "import numpy as np\n",
    "\n",
    "colname_to_bin = \"maxdeutsch1\"\n",
    "majority_value = org_train[colname_to_bin].mode()[0]\n",
    "\n",
    "org_test[\"majmin\"] = np.where(org_test[colname_to_bin] == majority_value, \"majority\", \"minority\")"
   ]
  },
  {
   "cell_type": "code",
   "execution_count": 73,
   "id": "06a50de5",
   "metadata": {
    "execution": {
     "iopub.execute_input": "2025-07-30T21:03:35.252863Z",
     "iopub.status.busy": "2025-07-30T21:03:35.252177Z",
     "iopub.status.idle": "2025-07-30T21:03:38.057247Z",
     "shell.execute_reply": "2025-07-30T21:03:38.056522Z"
    },
    "papermill": {
     "duration": 2.83331,
     "end_time": "2025-07-30T21:03:38.058662",
     "exception": false,
     "start_time": "2025-07-30T21:03:35.225352",
     "status": "completed"
    },
    "tags": []
   },
   "outputs": [],
   "source": [
    "example_universe = universe.copy()\n",
    "example_universe[\"cutoff\"] = example_universe[\"cutoff\"][0]\n",
    "example_universe[\"eval_fairness_grouping\"] = example_universe[\"eval_fairness_grouping\"][0]\n",
    "fairness_dict, metric_frame = universe_analysis.compute_metrics(\n",
    "    example_universe,\n",
    "    y_pred_prob=probs_test,\n",
    "    y_test=y_true,\n",
    "    org_test=org_test,\n",
    ")"
   ]
  },
  {
   "cell_type": "markdown",
   "id": "f95d4e02",
   "metadata": {
    "papermill": {
     "duration": 0.014812,
     "end_time": "2025-07-30T21:03:38.090928",
     "exception": false,
     "start_time": "2025-07-30T21:03:38.076116",
     "status": "completed"
    },
    "tags": []
   },
   "source": [
    "# Overall"
   ]
  },
  {
   "cell_type": "markdown",
   "id": "bdee4871",
   "metadata": {
    "papermill": {
     "duration": 0.014211,
     "end_time": "2025-07-30T21:03:38.119783",
     "exception": false,
     "start_time": "2025-07-30T21:03:38.105572",
     "status": "completed"
    },
    "tags": []
   },
   "source": [
    "Fairness\n",
    "Main fairness target: Equalized Odds. Seems to be a better fit than equal opportunity, since we're not only interested in Y = 1. Seems to be a better fit than demographic parity, since we also care about accuracy, not just equal distribution of preds.\n",
    "\n",
    "Pick column for computation of fairness metrics\n",
    "\n",
    "Performance\n",
    "Overall performance measures, most interesting in relation to the measures split by group below"
   ]
  },
  {
   "cell_type": "code",
   "execution_count": 74,
   "id": "c4e067c6",
   "metadata": {
    "execution": {
     "iopub.execute_input": "2025-07-30T21:03:38.150678Z",
     "iopub.status.busy": "2025-07-30T21:03:38.150392Z",
     "iopub.status.idle": "2025-07-30T21:03:38.157672Z",
     "shell.execute_reply": "2025-07-30T21:03:38.156888Z"
    },
    "papermill": {
     "duration": 0.02479,
     "end_time": "2025-07-30T21:03:38.159026",
     "exception": false,
     "start_time": "2025-07-30T21:03:38.134236",
     "status": "completed"
    },
    "tags": []
   },
   "outputs": [
    {
     "data": {
      "text/plain": [
       "accuracy                   0.218582\n",
       "balanced accuracy          0.535677\n",
       "f1                         0.240073\n",
       "precision                  0.137146\n",
       "false positive rate        0.890847\n",
       "false negative rate        0.037800\n",
       "selection rate             0.900000\n",
       "count                  89710.000000\n",
       "dtype: float64"
      ]
     },
     "execution_count": 74,
     "metadata": {},
     "output_type": "execute_result"
    }
   ],
   "source": [
    "metric_frame.overall"
   ]
  },
  {
   "cell_type": "markdown",
   "id": "e968fe9d",
   "metadata": {
    "papermill": {
     "duration": 0.015135,
     "end_time": "2025-07-30T21:03:38.189825",
     "exception": false,
     "start_time": "2025-07-30T21:03:38.174690",
     "status": "completed"
    },
    "tags": []
   },
   "source": [
    "By Group"
   ]
  },
  {
   "cell_type": "code",
   "execution_count": 75,
   "id": "ec325bce",
   "metadata": {
    "execution": {
     "iopub.execute_input": "2025-07-30T21:03:38.222413Z",
     "iopub.status.busy": "2025-07-30T21:03:38.221904Z",
     "iopub.status.idle": "2025-07-30T21:03:38.234925Z",
     "shell.execute_reply": "2025-07-30T21:03:38.234137Z"
    },
    "papermill": {
     "duration": 0.030866,
     "end_time": "2025-07-30T21:03:38.236367",
     "exception": false,
     "start_time": "2025-07-30T21:03:38.205501",
     "status": "completed"
    },
    "tags": []
   },
   "outputs": [
    {
     "data": {
      "text/html": [
       "<div>\n",
       "<style scoped>\n",
       "    .dataframe tbody tr th:only-of-type {\n",
       "        vertical-align: middle;\n",
       "    }\n",
       "\n",
       "    .dataframe tbody tr th {\n",
       "        vertical-align: top;\n",
       "    }\n",
       "\n",
       "    .dataframe thead th {\n",
       "        text-align: right;\n",
       "    }\n",
       "</style>\n",
       "<table border=\"1\" class=\"dataframe\">\n",
       "  <thead>\n",
       "    <tr style=\"text-align: right;\">\n",
       "      <th></th>\n",
       "      <th>accuracy</th>\n",
       "      <th>balanced accuracy</th>\n",
       "      <th>f1</th>\n",
       "      <th>precision</th>\n",
       "      <th>false positive rate</th>\n",
       "      <th>false negative rate</th>\n",
       "      <th>selection rate</th>\n",
       "      <th>count</th>\n",
       "    </tr>\n",
       "    <tr>\n",
       "      <th>majmin</th>\n",
       "      <th></th>\n",
       "      <th></th>\n",
       "      <th></th>\n",
       "      <th></th>\n",
       "      <th></th>\n",
       "      <th></th>\n",
       "      <th></th>\n",
       "      <th></th>\n",
       "    </tr>\n",
       "  </thead>\n",
       "  <tbody>\n",
       "    <tr>\n",
       "      <th>majority</th>\n",
       "      <td>0.240740</td>\n",
       "      <td>0.544065</td>\n",
       "      <td>0.249743</td>\n",
       "      <td>0.143625</td>\n",
       "      <td>0.868216</td>\n",
       "      <td>0.043654</td>\n",
       "      <td>0.879861</td>\n",
       "      <td>69170.0</td>\n",
       "    </tr>\n",
       "    <tr>\n",
       "      <th>minority</th>\n",
       "      <td>0.143963</td>\n",
       "      <td>0.509595</td>\n",
       "      <td>0.209646</td>\n",
       "      <td>0.117310</td>\n",
       "      <td>0.965606</td>\n",
       "      <td>0.015203</td>\n",
       "      <td>0.967819</td>\n",
       "      <td>20540.0</td>\n",
       "    </tr>\n",
       "  </tbody>\n",
       "</table>\n",
       "</div>"
      ],
      "text/plain": [
       "          accuracy  balanced accuracy        f1  precision  \\\n",
       "majmin                                                       \n",
       "majority  0.240740           0.544065  0.249743   0.143625   \n",
       "minority  0.143963           0.509595  0.209646   0.117310   \n",
       "\n",
       "          false positive rate  false negative rate  selection rate    count  \n",
       "majmin                                                                       \n",
       "majority             0.868216             0.043654        0.879861  69170.0  \n",
       "minority             0.965606             0.015203        0.967819  20540.0  "
      ]
     },
     "execution_count": 75,
     "metadata": {},
     "output_type": "execute_result"
    }
   ],
   "source": [
    "metric_frame.by_group"
   ]
  },
  {
   "cell_type": "code",
   "execution_count": 76,
   "id": "a9ddbe63",
   "metadata": {
    "execution": {
     "iopub.execute_input": "2025-07-30T21:03:38.269417Z",
     "iopub.status.busy": "2025-07-30T21:03:38.268910Z",
     "iopub.status.idle": "2025-07-30T21:03:41.156155Z",
     "shell.execute_reply": "2025-07-30T21:03:41.155346Z"
    },
    "papermill": {
     "duration": 2.905823,
     "end_time": "2025-07-30T21:03:41.158147",
     "exception": false,
     "start_time": "2025-07-30T21:03:38.252324",
     "status": "completed"
    },
    "tags": []
   },
   "outputs": [
    {
     "data": {
      "text/plain": [
       "array([[<Axes: title={'center': 'accuracy'}, xlabel='majmin'>,\n",
       "        <Axes: title={'center': 'balanced accuracy'}, xlabel='majmin'>,\n",
       "        <Axes: title={'center': 'f1'}, xlabel='majmin'>],\n",
       "       [<Axes: title={'center': 'precision'}, xlabel='majmin'>,\n",
       "        <Axes: title={'center': 'false positive rate'}, xlabel='majmin'>,\n",
       "        <Axes: title={'center': 'false negative rate'}, xlabel='majmin'>],\n",
       "       [<Axes: title={'center': 'selection rate'}, xlabel='majmin'>,\n",
       "        <Axes: title={'center': 'count'}, xlabel='majmin'>,\n",
       "        <Axes: xlabel='majmin'>]], dtype=object)"
      ]
     },
     "execution_count": 76,
     "metadata": {},
     "output_type": "execute_result"
    },
    {
     "data": {
      "image/png": "[encoded data removed]",
      "text/plain": [
       "<Figure size 1200x800 with 9 Axes>"
      ]
     },
     "metadata": {},
     "output_type": "display_data"
    }
   ],
   "source": [
    "# In a graphic\n",
    "metric_frame.by_group.plot.bar(\n",
    "    subplots=True,\n",
    "    layout=[3, 3],\n",
    "    legend=False,\n",
    "    figsize=[12, 8],\n",
    "    title=\"Show all metrics\",\n",
    ")"
   ]
  },
  {
   "cell_type": "markdown",
   "id": "f57a0bac",
   "metadata": {
    "papermill": {
     "duration": 0.038494,
     "end_time": "2025-07-30T21:03:41.235668",
     "exception": false,
     "start_time": "2025-07-30T21:03:41.197174",
     "status": "completed"
    },
    "tags": []
   },
   "source": [
    "# Final Output"
   ]
  },
  {
   "cell_type": "code",
   "execution_count": 77,
   "id": "96d280a3",
   "metadata": {
    "execution": {
     "iopub.execute_input": "2025-07-30T21:03:41.318539Z",
     "iopub.status.busy": "2025-07-30T21:03:41.317844Z",
     "iopub.status.idle": "2025-07-30T21:03:41.330771Z",
     "shell.execute_reply": "2025-07-30T21:03:41.329662Z"
    },
    "papermill": {
     "duration": 0.056012,
     "end_time": "2025-07-30T21:03:41.332659",
     "exception": false,
     "start_time": "2025-07-30T21:03:41.276647",
     "status": "completed"
    },
    "tags": []
   },
   "outputs": [
    {
     "data": {
      "text/plain": [
       "4"
      ]
     },
     "execution_count": 77,
     "metadata": {},
     "output_type": "execute_result"
    }
   ],
   "source": [
    "sub_universes = universe_analysis.generate_sub_universes()\n",
    "len(sub_universes)"
   ]
  },
  {
   "cell_type": "code",
   "execution_count": 78,
   "id": "92adf7ba",
   "metadata": {
    "execution": {
     "iopub.execute_input": "2025-07-30T21:03:41.405722Z",
     "iopub.status.busy": "2025-07-30T21:03:41.405211Z",
     "iopub.status.idle": "2025-07-30T21:03:41.411576Z",
     "shell.execute_reply": "2025-07-30T21:03:41.410610Z"
    },
    "papermill": {
     "duration": 0.045852,
     "end_time": "2025-07-30T21:03:41.413579",
     "exception": false,
     "start_time": "2025-07-30T21:03:41.367727",
     "status": "completed"
    },
    "tags": []
   },
   "outputs": [],
   "source": [
    "def filter_sub_universe_data(sub_universe, org_test):\n",
    "    # Keep all rows — no filtering\n",
    "    keep_rows_mask = np.ones(org_test.shape[0], dtype=bool)\n",
    "\n",
    "    print(f\"[INFO] Keeping all rows: {keep_rows_mask.sum()} rows retained.\")\n",
    "    return keep_rows_mask"
   ]
  },
  {
   "cell_type": "code",
   "execution_count": 79,
   "id": "4a759155",
   "metadata": {
    "execution": {
     "iopub.execute_input": "2025-07-30T21:03:41.491593Z",
     "iopub.status.busy": "2025-07-30T21:03:41.491023Z",
     "iopub.status.idle": "2025-07-30T21:03:51.478465Z",
     "shell.execute_reply": "2025-07-30T21:03:51.477669Z"
    },
    "papermill": {
     "duration": 10.01874,
     "end_time": "2025-07-30T21:03:51.479774",
     "exception": false,
     "start_time": "2025-07-30T21:03:41.461034",
     "status": "completed"
    },
    "tags": []
   },
   "outputs": [
    {
     "name": "stdout",
     "output_type": "stream",
     "text": [
      "Stopping execution_time clock.\n",
      "[INFO] Keeping all rows: 89710 rows retained.\n"
     ]
    },
    {
     "name": "stdout",
     "output_type": "stream",
     "text": [
      "[INFO] Keeping all rows: 89710 rows retained.\n"
     ]
    },
    {
     "name": "stdout",
     "output_type": "stream",
     "text": [
      "[INFO] Keeping all rows: 89710 rows retained.\n"
     ]
    },
    {
     "name": "stdout",
     "output_type": "stream",
     "text": [
      "[INFO] Keeping all rows: 89710 rows retained.\n"
     ]
    },
    {
     "data": {
      "text/html": [
       "<div>\n",
       "<style scoped>\n",
       "    .dataframe tbody tr th:only-of-type {\n",
       "        vertical-align: middle;\n",
       "    }\n",
       "\n",
       "    .dataframe tbody tr th {\n",
       "        vertical-align: top;\n",
       "    }\n",
       "\n",
       "    .dataframe thead th {\n",
       "        text-align: right;\n",
       "    }\n",
       "</style>\n",
       "<table border=\"1\" class=\"dataframe\">\n",
       "  <thead>\n",
       "    <tr style=\"text-align: right;\">\n",
       "      <th></th>\n",
       "      <th>run_no</th>\n",
       "      <th>universe_id</th>\n",
       "      <th>universe_settings</th>\n",
       "      <th>execution_time</th>\n",
       "      <th>test_size_n</th>\n",
       "      <th>test_size_frac</th>\n",
       "      <th>fair_main_equalized_odds_difference</th>\n",
       "      <th>fair_main_equalized_odds_ratio</th>\n",
       "      <th>fair_main_demographic_parity_difference</th>\n",
       "      <th>fair_main_demographic_parity_ratio</th>\n",
       "      <th>...</th>\n",
       "      <th>perf_grp_precision_0</th>\n",
       "      <th>perf_grp_precision_1</th>\n",
       "      <th>perf_grp_false positive rate_0</th>\n",
       "      <th>perf_grp_false positive rate_1</th>\n",
       "      <th>perf_grp_false negative rate_0</th>\n",
       "      <th>perf_grp_false negative rate_1</th>\n",
       "      <th>perf_grp_selection rate_0</th>\n",
       "      <th>perf_grp_selection rate_1</th>\n",
       "      <th>perf_grp_count_0</th>\n",
       "      <th>perf_grp_count_1</th>\n",
       "    </tr>\n",
       "  </thead>\n",
       "  <tbody>\n",
       "    <tr>\n",
       "      <th>0</th>\n",
       "      <td>14</td>\n",
       "      <td>95d22fc05c82b1614dd6c274860b050d</td>\n",
       "      <td>{\"cutoff\": \"quantile_0.1\", \"eval_fairness_grou...</td>\n",
       "      <td>27.613987</td>\n",
       "      <td>89710</td>\n",
       "      <td>1.0</td>\n",
       "      <td>0.097391</td>\n",
       "      <td>0.899141</td>\n",
       "      <td>0.087958</td>\n",
       "      <td>0.909118</td>\n",
       "      <td>...</td>\n",
       "      <td>NaN</td>\n",
       "      <td>NaN</td>\n",
       "      <td>NaN</td>\n",
       "      <td>NaN</td>\n",
       "      <td>NaN</td>\n",
       "      <td>NaN</td>\n",
       "      <td>NaN</td>\n",
       "      <td>NaN</td>\n",
       "      <td>NaN</td>\n",
       "      <td>NaN</td>\n",
       "    </tr>\n",
       "    <tr>\n",
       "      <th>0</th>\n",
       "      <td>14</td>\n",
       "      <td>95d22fc05c82b1614dd6c274860b050d</td>\n",
       "      <td>{\"cutoff\": \"quantile_0.1\", \"eval_fairness_grou...</td>\n",
       "      <td>27.613987</td>\n",
       "      <td>89710</td>\n",
       "      <td>1.0</td>\n",
       "      <td>0.097391</td>\n",
       "      <td>0.899141</td>\n",
       "      <td>0.087958</td>\n",
       "      <td>0.909118</td>\n",
       "      <td>...</td>\n",
       "      <td>0.117310</td>\n",
       "      <td>0.143625</td>\n",
       "      <td>0.965606</td>\n",
       "      <td>0.868216</td>\n",
       "      <td>0.015203</td>\n",
       "      <td>0.043654</td>\n",
       "      <td>0.967819</td>\n",
       "      <td>0.879861</td>\n",
       "      <td>20540.0</td>\n",
       "      <td>69170.0</td>\n",
       "    </tr>\n",
       "    <tr>\n",
       "      <th>0</th>\n",
       "      <td>14</td>\n",
       "      <td>95d22fc05c82b1614dd6c274860b050d</td>\n",
       "      <td>{\"cutoff\": \"quantile_0.25\", \"eval_fairness_gro...</td>\n",
       "      <td>27.613987</td>\n",
       "      <td>89710</td>\n",
       "      <td>1.0</td>\n",
       "      <td>0.222603</td>\n",
       "      <td>0.753224</td>\n",
       "      <td>0.203642</td>\n",
       "      <td>0.775480</td>\n",
       "      <td>...</td>\n",
       "      <td>NaN</td>\n",
       "      <td>NaN</td>\n",
       "      <td>NaN</td>\n",
       "      <td>NaN</td>\n",
       "      <td>NaN</td>\n",
       "      <td>NaN</td>\n",
       "      <td>NaN</td>\n",
       "      <td>NaN</td>\n",
       "      <td>NaN</td>\n",
       "      <td>NaN</td>\n",
       "    </tr>\n",
       "    <tr>\n",
       "      <th>0</th>\n",
       "      <td>14</td>\n",
       "      <td>95d22fc05c82b1614dd6c274860b050d</td>\n",
       "      <td>{\"cutoff\": \"quantile_0.25\", \"eval_fairness_gro...</td>\n",
       "      <td>27.613987</td>\n",
       "      <td>89710</td>\n",
       "      <td>1.0</td>\n",
       "      <td>0.222603</td>\n",
       "      <td>0.753224</td>\n",
       "      <td>0.203642</td>\n",
       "      <td>0.775480</td>\n",
       "      <td>...</td>\n",
       "      <td>0.120129</td>\n",
       "      <td>0.161658</td>\n",
       "      <td>0.902047</td>\n",
       "      <td>0.679444</td>\n",
       "      <td>0.054899</td>\n",
       "      <td>0.139497</td>\n",
       "      <td>0.907011</td>\n",
       "      <td>0.703369</td>\n",
       "      <td>20540.0</td>\n",
       "      <td>69170.0</td>\n",
       "    </tr>\n",
       "  </tbody>\n",
       "</table>\n",
       "<p>4 rows × 50 columns</p>\n",
       "</div>"
      ],
      "text/plain": [
       "  run_no                       universe_id  \\\n",
       "0     14  95d22fc05c82b1614dd6c274860b050d   \n",
       "0     14  95d22fc05c82b1614dd6c274860b050d   \n",
       "0     14  95d22fc05c82b1614dd6c274860b050d   \n",
       "0     14  95d22fc05c82b1614dd6c274860b050d   \n",
       "\n",
       "                                   universe_settings  execution_time  \\\n",
       "0  {\"cutoff\": \"quantile_0.1\", \"eval_fairness_grou...       27.613987   \n",
       "0  {\"cutoff\": \"quantile_0.1\", \"eval_fairness_grou...       27.613987   \n",
       "0  {\"cutoff\": \"quantile_0.25\", \"eval_fairness_gro...       27.613987   \n",
       "0  {\"cutoff\": \"quantile_0.25\", \"eval_fairness_gro...       27.613987   \n",
       "\n",
       "   test_size_n  test_size_frac  fair_main_equalized_odds_difference  \\\n",
       "0        89710             1.0                             0.097391   \n",
       "0        89710             1.0                             0.097391   \n",
       "0        89710             1.0                             0.222603   \n",
       "0        89710             1.0                             0.222603   \n",
       "\n",
       "   fair_main_equalized_odds_ratio  fair_main_demographic_parity_difference  \\\n",
       "0                        0.899141                                 0.087958   \n",
       "0                        0.899141                                 0.087958   \n",
       "0                        0.753224                                 0.203642   \n",
       "0                        0.753224                                 0.203642   \n",
       "\n",
       "   fair_main_demographic_parity_ratio  ...  perf_grp_precision_0  \\\n",
       "0                            0.909118  ...                   NaN   \n",
       "0                            0.909118  ...              0.117310   \n",
       "0                            0.775480  ...                   NaN   \n",
       "0                            0.775480  ...              0.120129   \n",
       "\n",
       "   perf_grp_precision_1  perf_grp_false positive rate_0  \\\n",
       "0                   NaN                             NaN   \n",
       "0              0.143625                        0.965606   \n",
       "0                   NaN                             NaN   \n",
       "0              0.161658                        0.902047   \n",
       "\n",
       "   perf_grp_false positive rate_1  perf_grp_false negative rate_0  \\\n",
       "0                             NaN                             NaN   \n",
       "0                        0.868216                        0.015203   \n",
       "0                             NaN                             NaN   \n",
       "0                        0.679444                        0.054899   \n",
       "\n",
       "   perf_grp_false negative rate_1  perf_grp_selection rate_0  \\\n",
       "0                             NaN                        NaN   \n",
       "0                        0.043654                   0.967819   \n",
       "0                             NaN                        NaN   \n",
       "0                        0.139497                   0.907011   \n",
       "\n",
       "   perf_grp_selection rate_1  perf_grp_count_0  perf_grp_count_1  \n",
       "0                        NaN               NaN               NaN  \n",
       "0                   0.879861           20540.0           69170.0  \n",
       "0                        NaN               NaN               NaN  \n",
       "0                   0.703369           20540.0           69170.0  \n",
       "\n",
       "[4 rows x 50 columns]"
      ]
     },
     "execution_count": 79,
     "metadata": {},
     "output_type": "execute_result"
    }
   ],
   "source": [
    "final_output = universe_analysis.generate_final_output(\n",
    "    y_pred_prob=probs_test,\n",
    "    y_test=y_true,\n",
    "    org_test=org_test,\n",
    "    filter_data=filter_sub_universe_data,\n",
    "    cp_metrics_df=cp_metrics_df,\n",
    "    save=True,\n",
    ")\n",
    "final_output"
   ]
  },
  {
   "cell_type": "code",
   "execution_count": null,
   "id": "721ff514-cb11-46f8-b6fc-50392f74b5cb",
   "metadata": {
    "papermill": {
     "duration": 0.015919,
     "end_time": "2025-07-30T21:03:51.514500",
     "exception": false,
     "start_time": "2025-07-30T21:03:51.498581",
     "status": "completed"
    },
    "tags": []
   },
   "outputs": [],
   "source": []
  }
 ],
 "metadata": {
  "celltoolbar": "Tags",
  "kernelspec": {
   "display_name": "Python (CMA Fairness)",
   "language": "python",
   "name": "cma_fair_env"
  },
  "language_info": {
   "codemirror_mode": {
    "name": "ipython",
    "version": 3
   },
   "file_extension": ".py",
   "mimetype": "text/x-python",
   "name": "python",
   "nbconvert_exporter": "python",
   "pygments_lexer": "ipython3",
   "version": "3.10.12"
  },
  "papermill": {
   "default_parameters": {},
   "duration": 41.936074,
   "end_time": "2025-07-30T21:03:52.248530",
   "environment_variables": {},
   "exception": null,
   "input_path": "universe_analysis.ipynb",
   "output_path": "output/runs/14/notebooks/m_14-95d22fc05c82b1614dd6c274860b050d.ipynb",
   "parameters": {
    "output_dir": "output",
    "run_no": "14",
    "seed": "2023",
    "universe": "{\"cutoff\": [\"quantile_0.1\", \"quantile_0.25\"], \"eval_fairness_grouping\": [\"majority-minority\", \"nationality-all\"], \"exclude_features\": \"nationality-sex\", \"exclude_subgroups\": \"drop-non-german\", \"model\": \"logreg\", \"scale\": \"do-not-scale\", \"training_size\": \"5k\", \"training_year\": \"2012_14\"}",
    "universe_id": "95d22fc05c82b1614dd6c274860b050d"
   },
   "start_time": "2025-07-30T21:03:10.312456",
   "version": "2.6.0"
  }
 },
 "nbformat": 4,
 "nbformat_minor": 5
}