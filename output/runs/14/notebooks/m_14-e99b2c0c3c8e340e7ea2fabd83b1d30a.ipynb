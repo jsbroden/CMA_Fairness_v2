{
 "cells": [
  {
   "cell_type": "code",
   "execution_count": 1,
   "id": "f159f837-637b-42ba-96b5-ec9a68c44524",
   "metadata": {
    "execution": {
     "iopub.execute_input": "2025-07-30T21:03:10.481347Z",
     "iopub.status.busy": "2025-07-30T21:03:10.480468Z",
     "iopub.status.idle": "2025-07-30T21:03:10.494190Z",
     "shell.execute_reply": "2025-07-30T21:03:10.493106Z"
    },
    "papermill": {
     "duration": 0.038451,
     "end_time": "2025-07-30T21:03:10.495862",
     "exception": false,
     "start_time": "2025-07-30T21:03:10.457411",
     "status": "completed"
    },
    "tags": []
   },
   "outputs": [
    {
     "name": "stdout",
     "output_type": "stream",
     "text": [
      "/dss/dsshome1/0C/ra93lal2/cma/CMA_Fairness_v2\n"
     ]
    },
    {
     "name": "stderr",
     "output_type": "stream",
     "text": [
      "/dss/dsshome1/0C/ra93lal2/.local/share/virtualenvs/CMA_Fairness_v2-3j10GkSs/lib/python3.10/site-packages/IPython/core/magics/osm.py:393: UserWarning: This is now an optional IPython functionality, using bookmarks requires you to install the `pickleshare` library.\n",
      "  bkms = self.shell.db.get('bookmarks', {})\n",
      "/dss/dsshome1/0C/ra93lal2/.local/share/virtualenvs/CMA_Fairness_v2-3j10GkSs/lib/python3.10/site-packages/IPython/core/magics/osm.py:417: UserWarning: This is now an optional IPython functionality, setting dhist requires you to install the `pickleshare` library.\n",
      "  self.shell.db['dhist'] = compress_dhist(dhist)[-100:]\n"
     ]
    }
   ],
   "source": [
    "%cd ~/cma/CMA_Fairness_v2"
   ]
  },
  {
   "cell_type": "markdown",
   "id": "de2603b9",
   "metadata": {
    "papermill": {
     "duration": 0.020733,
     "end_time": "2025-07-30T21:03:10.538721",
     "exception": false,
     "start_time": "2025-07-30T21:03:10.517988",
     "status": "completed"
    },
    "tags": []
   },
   "source": [
    "The following cell holds the definition of our parameters, these values can be overriden by rendering the with e.g. the following command:\n",
    "\n",
    "papermill -p alpha 0.2 -p ratio 0.3 universe_analysis.ipynb output/test_run.ipynb"
   ]
  },
  {
   "cell_type": "code",
   "execution_count": 2,
   "id": "a80968a0-40bb-4fa9-85ef-2d5eefb01975",
   "metadata": {
    "execution": {
     "iopub.execute_input": "2025-07-30T21:03:10.582624Z",
     "iopub.status.busy": "2025-07-30T21:03:10.581838Z",
     "iopub.status.idle": "2025-07-30T21:03:10.587552Z",
     "shell.execute_reply": "2025-07-30T21:03:10.586590Z"
    },
    "papermill": {
     "duration": 0.029519,
     "end_time": "2025-07-30T21:03:10.589384",
     "exception": false,
     "start_time": "2025-07-30T21:03:10.559865",
     "status": "completed"
    },
    "tags": []
   },
   "outputs": [
    {
     "name": "stdout",
     "output_type": "stream",
     "text": [
      "Current working directory: /dss/dsshome1/0C/ra93lal2/cma/CMA_Fairness_v2\n"
     ]
    }
   ],
   "source": [
    "import os\n",
    "print(\"Current working directory:\", os.getcwd())"
   ]
  },
  {
   "cell_type": "code",
   "execution_count": 3,
   "id": "2dce4c03",
   "metadata": {
    "execution": {
     "iopub.execute_input": "2025-07-30T21:03:10.634676Z",
     "iopub.status.busy": "2025-07-30T21:03:10.634037Z",
     "iopub.status.idle": "2025-07-30T21:03:10.641422Z",
     "shell.execute_reply": "2025-07-30T21:03:10.640175Z"
    },
    "papermill": {
     "duration": 0.031803,
     "end_time": "2025-07-30T21:03:10.643333",
     "exception": false,
     "start_time": "2025-07-30T21:03:10.611530",
     "status": "completed"
    },
    "tags": [
     "parameters"
    ]
   },
   "outputs": [],
   "source": [
    "run_no = 0\n",
    "universe_id = \"test\"\n",
    "universe = {\n",
    "    \"training_size\": \"25k\", # \"25k\", \"5k\", \"1k\"\n",
    "    \"training_year\": \"2014\", # \"2014\", \"2012_14\", \"2010_14\"\n",
    "    \"scale\": \"scale\", # \"scale\", \"do-not-scale\",\n",
    "    #\"stratify_split\": \"target\", # \"none\", \"target\", \"protected-attribute\", \"both\",\n",
    "    \"model\": \"elasticnet\", # \"logreg\", \"penalized_logreg\", \"rf\", \"gbm\", \"elasticnet\"\n",
    "    \"cutoff\": [\"quantile_0.15\", \"quantile_0.30\"],\n",
    "    \"exclude_features\": \"age\", # \"none\", \"nationality\", \"sex\", \"nationality-sex\", \"age\"\n",
    "    \"exclude_subgroups\": \"keep-all\", # \"keep-all\", \"drop-non-german\"\n",
    "    \"eval_fairness_grouping\": [\"majority-minority\", \"nationality-all\"]\n",
    "}\n",
    "\n",
    "output_dir=\"./output\"\n",
    "seed=0"
   ]
  },
  {
   "cell_type": "code",
   "execution_count": 4,
   "id": "b9ce470b",
   "metadata": {
    "execution": {
     "iopub.execute_input": "2025-07-30T21:03:10.688314Z",
     "iopub.status.busy": "2025-07-30T21:03:10.687450Z",
     "iopub.status.idle": "2025-07-30T21:03:10.693327Z",
     "shell.execute_reply": "2025-07-30T21:03:10.692255Z"
    },
    "papermill": {
     "duration": 0.029413,
     "end_time": "2025-07-30T21:03:10.695061",
     "exception": false,
     "start_time": "2025-07-30T21:03:10.665648",
     "status": "completed"
    },
    "tags": [
     "injected-parameters"
    ]
   },
   "outputs": [],
   "source": [
    "# Parameters\n",
    "universe_id = \"e99b2c0c3c8e340e7ea2fabd83b1d30a\"\n",
    "run_no = \"14\"\n",
    "universe = \"{\\\"cutoff\\\": [\\\"quantile_0.1\\\", \\\"quantile_0.25\\\"], \\\"eval_fairness_grouping\\\": [\\\"majority-minority\\\", \\\"nationality-all\\\"], \\\"exclude_features\\\": \\\"nationality-sex\\\", \\\"exclude_subgroups\\\": \\\"keep-all\\\", \\\"model\\\": \\\"logreg\\\", \\\"scale\\\": \\\"do-not-scale\\\", \\\"training_size\\\": \\\"5k\\\", \\\"training_year\\\": \\\"2012_14\\\"}\"\n",
    "output_dir = \"output\"\n",
    "seed = \"2023\"\n"
   ]
  },
  {
   "cell_type": "code",
   "execution_count": 5,
   "id": "1650acaf",
   "metadata": {
    "execution": {
     "iopub.execute_input": "2025-07-30T21:03:10.741464Z",
     "iopub.status.busy": "2025-07-30T21:03:10.740583Z",
     "iopub.status.idle": "2025-07-30T21:03:10.745841Z",
     "shell.execute_reply": "2025-07-30T21:03:10.744764Z"
    },
    "papermill": {
     "duration": 0.029729,
     "end_time": "2025-07-30T21:03:10.747688",
     "exception": false,
     "start_time": "2025-07-30T21:03:10.717959",
     "status": "completed"
    },
    "tags": []
   },
   "outputs": [],
   "source": [
    "import json\n",
    "# Parse universe into dict if it is passed as a string\n",
    "if isinstance(universe, str):\n",
    "    universe = json.loads(universe)"
   ]
  },
  {
   "cell_type": "code",
   "execution_count": 6,
   "id": "16620c48",
   "metadata": {
    "execution": {
     "iopub.execute_input": "2025-07-30T21:03:10.793808Z",
     "iopub.status.busy": "2025-07-30T21:03:10.793116Z",
     "iopub.status.idle": "2025-07-30T21:03:10.843485Z",
     "shell.execute_reply": "2025-07-30T21:03:10.842484Z"
    },
    "papermill": {
     "duration": 0.075341,
     "end_time": "2025-07-30T21:03:10.845514",
     "exception": false,
     "start_time": "2025-07-30T21:03:10.770173",
     "status": "completed"
    },
    "tags": []
   },
   "outputs": [],
   "source": [
    "# Auto-reload the custom package\n",
    "%load_ext autoreload\n",
    "%autoreload 1\n",
    "%aimport fairness_multiverse"
   ]
  },
  {
   "cell_type": "code",
   "execution_count": 7,
   "id": "01c5c9f3",
   "metadata": {
    "execution": {
     "iopub.execute_input": "2025-07-30T21:03:10.891743Z",
     "iopub.status.busy": "2025-07-30T21:03:10.890698Z",
     "iopub.status.idle": "2025-07-30T21:03:12.799245Z",
     "shell.execute_reply": "2025-07-30T21:03:12.798195Z"
    },
    "papermill": {
     "duration": 1.933546,
     "end_time": "2025-07-30T21:03:12.801356",
     "exception": false,
     "start_time": "2025-07-30T21:03:10.867810",
     "status": "completed"
    },
    "tags": []
   },
   "outputs": [],
   "source": [
    "from fairness_multiverse.universe import UniverseAnalysis\n",
    "\n",
    "universe_analysis = UniverseAnalysis(\n",
    "    run_no = run_no,\n",
    "    universe_id = universe_id,\n",
    "    universe = universe,\n",
    "    output_dir=output_dir,\n",
    ")"
   ]
  },
  {
   "cell_type": "code",
   "execution_count": 8,
   "id": "106241f5",
   "metadata": {
    "execution": {
     "iopub.execute_input": "2025-07-30T21:03:12.846032Z",
     "iopub.status.busy": "2025-07-30T21:03:12.845236Z",
     "iopub.status.idle": "2025-07-30T21:03:12.852797Z",
     "shell.execute_reply": "2025-07-30T21:03:12.851800Z"
    },
    "papermill": {
     "duration": 0.032179,
     "end_time": "2025-07-30T21:03:12.854599",
     "exception": false,
     "start_time": "2025-07-30T21:03:12.822420",
     "status": "completed"
    },
    "tags": []
   },
   "outputs": [
    {
     "name": "stdout",
     "output_type": "stream",
     "text": [
      "Using Seed: 2023\n"
     ]
    }
   ],
   "source": [
    "import numpy as np\n",
    "parsed_seed = int(seed)\n",
    "np.random.seed(parsed_seed)\n",
    "print(f\"Using Seed: {parsed_seed}\")"
   ]
  },
  {
   "cell_type": "markdown",
   "id": "e0ebdc57",
   "metadata": {
    "papermill": {
     "duration": 0.021787,
     "end_time": "2025-07-30T21:03:12.897545",
     "exception": false,
     "start_time": "2025-07-30T21:03:12.875758",
     "status": "completed"
    },
    "tags": []
   },
   "source": [
    "# Loading Data"
   ]
  },
  {
   "cell_type": "markdown",
   "id": "681925a3",
   "metadata": {
    "papermill": {
     "duration": 0.019179,
     "end_time": "2025-07-30T21:03:12.938078",
     "exception": false,
     "start_time": "2025-07-30T21:03:12.918899",
     "status": "completed"
    },
    "tags": []
   },
   "source": [
    "Load siab_train, siab_test, siab_calib and/or \n",
    "load siab_train_features, siab_train_labels"
   ]
  },
  {
   "cell_type": "code",
   "execution_count": 9,
   "id": "f0496b8a",
   "metadata": {
    "execution": {
     "iopub.execute_input": "2025-07-30T21:03:12.994238Z",
     "iopub.status.busy": "2025-07-30T21:03:12.993168Z",
     "iopub.status.idle": "2025-07-30T21:03:25.972562Z",
     "shell.execute_reply": "2025-07-30T21:03:25.971063Z"
    },
    "papermill": {
     "duration": 13.0112,
     "end_time": "2025-07-30T21:03:25.974726",
     "exception": false,
     "start_time": "2025-07-30T21:03:12.963526",
     "status": "completed"
    },
    "tags": []
   },
   "outputs": [
    {
     "name": "stdout",
     "output_type": "stream",
     "text": [
      "Loading SIAB data from cache: data/siab_cached.csv.gz\n"
     ]
    },
    {
     "name": "stdout",
     "output_type": "stream",
     "text": [
      "(643690, 164)\n"
     ]
    }
   ],
   "source": [
    "from pathlib import Path\n",
    "import pandas as pd\n",
    "\n",
    "# File paths\n",
    "raw_file = Path(\"data/raw/siab.csv\")\n",
    "cache_file = Path(\"data/siab_cached.csv.gz\")\n",
    "\n",
    "# Ensure cache directory exists\n",
    "cache_file.parent.mkdir(parents=True, exist_ok=True)\n",
    "\n",
    "# Load with simple caching\n",
    "if cache_file.exists():\n",
    "    print(f\"Loading SIAB data from cache: {cache_file}\")\n",
    "    siab = pd.read_csv(cache_file, compression='gzip')\n",
    "else:\n",
    "    print(f\"Cache not found. Reading raw SIAB data: {raw_file}\")\n",
    "    siab = pd.read_csv(raw_file)\n",
    "    siab.to_csv(cache_file, index=False, compression='gzip')\n",
    "    print(f\"Cached SIAB data to: {cache_file}\")\n",
    "\n",
    "# Now use `siab` DataFrame as needed\n",
    "print(siab.shape)"
   ]
  },
  {
   "cell_type": "code",
   "execution_count": 10,
   "id": "db0ca512-5f53-4dba-abdb-a2888bca41ba",
   "metadata": {
    "execution": {
     "iopub.execute_input": "2025-07-30T21:03:26.026708Z",
     "iopub.status.busy": "2025-07-30T21:03:26.026055Z",
     "iopub.status.idle": "2025-07-30T21:03:26.032295Z",
     "shell.execute_reply": "2025-07-30T21:03:26.031409Z"
    },
    "papermill": {
     "duration": 0.033514,
     "end_time": "2025-07-30T21:03:26.034511",
     "exception": false,
     "start_time": "2025-07-30T21:03:26.000997",
     "status": "completed"
    },
    "tags": []
   },
   "outputs": [],
   "source": [
    "#siab"
   ]
  },
  {
   "cell_type": "code",
   "execution_count": 11,
   "id": "a0edb063",
   "metadata": {
    "execution": {
     "iopub.execute_input": "2025-07-30T21:03:26.086327Z",
     "iopub.status.busy": "2025-07-30T21:03:26.085848Z",
     "iopub.status.idle": "2025-07-30T21:03:26.091747Z",
     "shell.execute_reply": "2025-07-30T21:03:26.090519Z"
    },
    "papermill": {
     "duration": 0.035328,
     "end_time": "2025-07-30T21:03:26.093674",
     "exception": false,
     "start_time": "2025-07-30T21:03:26.058346",
     "status": "completed"
    },
    "tags": []
   },
   "outputs": [],
   "source": [
    "#import pandas as pd\n",
    "#\n",
    "#X_train = pd.read_csv(\"./data/X_train.csv\")\n",
    "#y_train = pd.read_csv(\"./data/y_train.csv\")"
   ]
  },
  {
   "cell_type": "code",
   "execution_count": 12,
   "id": "63d08085",
   "metadata": {
    "execution": {
     "iopub.execute_input": "2025-07-30T21:03:26.145743Z",
     "iopub.status.busy": "2025-07-30T21:03:26.145258Z",
     "iopub.status.idle": "2025-07-30T21:03:26.150260Z",
     "shell.execute_reply": "2025-07-30T21:03:26.149291Z"
    },
    "papermill": {
     "duration": 0.033027,
     "end_time": "2025-07-30T21:03:26.152140",
     "exception": false,
     "start_time": "2025-07-30T21:03:26.119113",
     "status": "completed"
    },
    "tags": []
   },
   "outputs": [],
   "source": [
    "#X_test = pd.read_csv(\"./data/X_test.csv\")\n",
    "#y_true = pd.read_csv(\"./data/y_test.csv\")"
   ]
  },
  {
   "cell_type": "code",
   "execution_count": 13,
   "id": "98a8d0fa-1d3d-4ed8-bb2c-281470e24add",
   "metadata": {
    "execution": {
     "iopub.execute_input": "2025-07-30T21:03:26.193528Z",
     "iopub.status.busy": "2025-07-30T21:03:26.193124Z",
     "iopub.status.idle": "2025-07-30T21:03:26.196931Z",
     "shell.execute_reply": "2025-07-30T21:03:26.196136Z"
    },
    "papermill": {
     "duration": 0.018001,
     "end_time": "2025-07-30T21:03:26.198277",
     "exception": false,
     "start_time": "2025-07-30T21:03:26.180276",
     "status": "completed"
    },
    "tags": []
   },
   "outputs": [],
   "source": [
    "# Calibration data for conformal\n",
    "#X_calib = pd.read_csv(\"./data/X_calib.csv\")\n",
    "#y_calib = pd.read_csv(\"./data/y_calib.csv\")"
   ]
  },
  {
   "cell_type": "markdown",
   "id": "997051c5-15bd-4b69-9786-c3001a3ce484",
   "metadata": {
    "papermill": {
     "duration": 0.011669,
     "end_time": "2025-07-30T21:03:26.221857",
     "exception": false,
     "start_time": "2025-07-30T21:03:26.210188",
     "status": "completed"
    },
    "tags": []
   },
   "source": [
    "# Splitting Data and Setting Training Data Size"
   ]
  },
  {
   "cell_type": "code",
   "execution_count": 14,
   "id": "e993b61f-042d-41a6-8c81-f55681f86335",
   "metadata": {
    "execution": {
     "iopub.execute_input": "2025-07-30T21:03:26.271518Z",
     "iopub.status.busy": "2025-07-30T21:03:26.270548Z",
     "iopub.status.idle": "2025-07-30T21:03:26.285713Z",
     "shell.execute_reply": "2025-07-30T21:03:26.284542Z"
    },
    "papermill": {
     "duration": 0.045274,
     "end_time": "2025-07-30T21:03:26.287817",
     "exception": false,
     "start_time": "2025-07-30T21:03:26.242543",
     "status": "completed"
    },
    "tags": []
   },
   "outputs": [],
   "source": [
    "def sample_by_year_size(df,\n",
    "                        training_year: str,\n",
    "                        training_size: str,\n",
    "                        random_state: int = 42):\n",
    "    # --- parse training_year into a list of int years ---\n",
    "    if \"_\" in training_year:\n",
    "        start_str, end_str = training_year.split(\"_\", 1)\n",
    "        start = int(start_str)\n",
    "        end   = int(end_str) if len(end_str) == 4 else (int(end_str) + (start // 100)*100)\n",
    "        years = list(range(start, end + 1))\n",
    "    else:\n",
    "        years = [int(training_year)]\n",
    "\n",
    "    df = df[df[\"year\"].isin(years)].reset_index(drop=True)\n",
    "\n",
    "    # --- map training_size to total number of samples ---\n",
    "    total_map = {\"25k\": 25_000, \"5k\": 5_000, \"1k\": 1_000}\n",
    "    if training_size not in total_map:\n",
    "        return df  # e.g. \"all\"\n",
    "\n",
    "    total_samples = total_map[training_size]\n",
    "    n_years       = len(years)\n",
    "    base          = total_samples // n_years\n",
    "    remainder     = total_samples % n_years\n",
    "\n",
    "    # --- build a dict: year -> how many to sample ---\n",
    "    # give +1 to the first `remainder` years in ascending order\n",
    "    quotas = {\n",
    "        year: base + (1 if idx < remainder else 0)\n",
    "        for idx, year in enumerate(sorted(years))\n",
    "    }\n",
    "\n",
    "    # --- sample per‐year according to the quota dict ---\n",
    "    sampled = (\n",
    "        df\n",
    "        .groupby(\"year\", group_keys=False)\n",
    "        .apply(lambda grp: grp.sample(\n",
    "            n=min(len(grp), quotas[grp.name]),\n",
    "            random_state=random_state))\n",
    "        .reset_index(drop=True)\n",
    "    )\n",
    "\n",
    "    return sampled"
   ]
  },
  {
   "cell_type": "code",
   "execution_count": 15,
   "id": "c0ccd338-0e02-41f3-a09d-f56f9266e3fb",
   "metadata": {
    "execution": {
     "iopub.execute_input": "2025-07-30T21:03:26.343252Z",
     "iopub.status.busy": "2025-07-30T21:03:26.342415Z",
     "iopub.status.idle": "2025-07-30T21:03:26.347927Z",
     "shell.execute_reply": "2025-07-30T21:03:26.346883Z"
    },
    "papermill": {
     "duration": 0.03474,
     "end_time": "2025-07-30T21:03:26.350033",
     "exception": false,
     "start_time": "2025-07-30T21:03:26.315293",
     "status": "completed"
    },
    "tags": []
   },
   "outputs": [],
   "source": [
    "#universe[\"training_size\"]"
   ]
  },
  {
   "cell_type": "code",
   "execution_count": 16,
   "id": "ca707fd7-8047-4acd-bfa5-66248fbbf8e6",
   "metadata": {
    "execution": {
     "iopub.execute_input": "2025-07-30T21:03:26.403568Z",
     "iopub.status.busy": "2025-07-30T21:03:26.402867Z",
     "iopub.status.idle": "2025-07-30T21:03:26.408547Z",
     "shell.execute_reply": "2025-07-30T21:03:26.407489Z"
    },
    "papermill": {
     "duration": 0.033866,
     "end_time": "2025-07-30T21:03:26.410846",
     "exception": false,
     "start_time": "2025-07-30T21:03:26.376980",
     "status": "completed"
    },
    "tags": []
   },
   "outputs": [],
   "source": [
    "#universe[\"training_year\"]"
   ]
  },
  {
   "cell_type": "code",
   "execution_count": 17,
   "id": "aea9c6ef-6f46-42c8-85eb-5a62025c1508",
   "metadata": {
    "execution": {
     "iopub.execute_input": "2025-07-30T21:03:26.472428Z",
     "iopub.status.busy": "2025-07-30T21:03:26.471679Z",
     "iopub.status.idle": "2025-07-30T21:03:27.154506Z",
     "shell.execute_reply": "2025-07-30T21:03:27.153359Z"
    },
    "papermill": {
     "duration": 0.715587,
     "end_time": "2025-07-30T21:03:27.156092",
     "exception": false,
     "start_time": "2025-07-30T21:03:26.440505",
     "status": "completed"
    },
    "tags": []
   },
   "outputs": [],
   "source": [
    "siab_train = sample_by_year_size(siab,\n",
    "                               training_year=universe[\"training_year\"],\n",
    "                               training_size=universe[\"training_size\"])"
   ]
  },
  {
   "cell_type": "code",
   "execution_count": 18,
   "id": "8d3afb32-789d-442c-8d5d-9f5aa8dd2eed",
   "metadata": {
    "execution": {
     "iopub.execute_input": "2025-07-30T21:03:27.209896Z",
     "iopub.status.busy": "2025-07-30T21:03:27.208727Z",
     "iopub.status.idle": "2025-07-30T21:03:27.214676Z",
     "shell.execute_reply": "2025-07-30T21:03:27.213470Z"
    },
    "papermill": {
     "duration": 0.036964,
     "end_time": "2025-07-30T21:03:27.216972",
     "exception": false,
     "start_time": "2025-07-30T21:03:27.180008",
     "status": "completed"
    },
    "tags": []
   },
   "outputs": [],
   "source": [
    "#siab_train.shape"
   ]
  },
  {
   "cell_type": "code",
   "execution_count": 19,
   "id": "d582db68-1a4c-47fb-84fc-08518dc1975a",
   "metadata": {
    "execution": {
     "iopub.execute_input": "2025-07-30T21:03:27.275219Z",
     "iopub.status.busy": "2025-07-30T21:03:27.274769Z",
     "iopub.status.idle": "2025-07-30T21:03:27.280794Z",
     "shell.execute_reply": "2025-07-30T21:03:27.279661Z"
    },
    "papermill": {
     "duration": 0.037661,
     "end_time": "2025-07-30T21:03:27.282660",
     "exception": false,
     "start_time": "2025-07-30T21:03:27.244999",
     "status": "completed"
    },
    "tags": []
   },
   "outputs": [],
   "source": [
    "#display(siab_train.groupby(\"year\").size())"
   ]
  },
  {
   "cell_type": "code",
   "execution_count": 20,
   "id": "a561edb4-d032-42cb-8256-22eac1111c64",
   "metadata": {
    "execution": {
     "iopub.execute_input": "2025-07-30T21:03:27.334664Z",
     "iopub.status.busy": "2025-07-30T21:03:27.334152Z",
     "iopub.status.idle": "2025-07-30T21:03:27.654286Z",
     "shell.execute_reply": "2025-07-30T21:03:27.653203Z"
    },
    "papermill": {
     "duration": 0.348427,
     "end_time": "2025-07-30T21:03:27.656430",
     "exception": false,
     "start_time": "2025-07-30T21:03:27.308003",
     "status": "completed"
    },
    "tags": []
   },
   "outputs": [],
   "source": [
    "#siab_train = siab_s[siab_s.year < 2015]\n",
    "siab_calib = siab[siab.year == 2015]\n",
    "siab_test = siab[siab.year == 2016]"
   ]
  },
  {
   "cell_type": "code",
   "execution_count": 21,
   "id": "472de16f-c3db-4916-846b-1f0de9cf1746",
   "metadata": {
    "execution": {
     "iopub.execute_input": "2025-07-30T21:03:27.703244Z",
     "iopub.status.busy": "2025-07-30T21:03:27.702868Z",
     "iopub.status.idle": "2025-07-30T21:03:27.711680Z",
     "shell.execute_reply": "2025-07-30T21:03:27.710453Z"
    },
    "papermill": {
     "duration": 0.034136,
     "end_time": "2025-07-30T21:03:27.714100",
     "exception": false,
     "start_time": "2025-07-30T21:03:27.679964",
     "status": "completed"
    },
    "tags": []
   },
   "outputs": [],
   "source": [
    "X_train = siab_train.iloc[:,4:164]\n",
    "y_train = siab_train.iloc[:, [3]]"
   ]
  },
  {
   "cell_type": "code",
   "execution_count": 22,
   "id": "828c96af-f43a-4ed6-ba47-8ac73a47d56c",
   "metadata": {
    "execution": {
     "iopub.execute_input": "2025-07-30T21:03:27.767932Z",
     "iopub.status.busy": "2025-07-30T21:03:27.767072Z",
     "iopub.status.idle": "2025-07-30T21:03:27.821867Z",
     "shell.execute_reply": "2025-07-30T21:03:27.820754Z"
    },
    "papermill": {
     "duration": 0.074323,
     "end_time": "2025-07-30T21:03:27.823718",
     "exception": false,
     "start_time": "2025-07-30T21:03:27.749395",
     "status": "completed"
    },
    "tags": []
   },
   "outputs": [],
   "source": [
    "X_calib = siab_calib.iloc[:,4:164]\n",
    "y_calib = siab_calib.iloc[:, [3]]"
   ]
  },
  {
   "cell_type": "code",
   "execution_count": 23,
   "id": "c34be9c3-6bd6-476e-acd3-845840e303be",
   "metadata": {
    "execution": {
     "iopub.execute_input": "2025-07-30T21:03:27.869796Z",
     "iopub.status.busy": "2025-07-30T21:03:27.868705Z",
     "iopub.status.idle": "2025-07-30T21:03:27.936750Z",
     "shell.execute_reply": "2025-07-30T21:03:27.935358Z"
    },
    "papermill": {
     "duration": 0.090666,
     "end_time": "2025-07-30T21:03:27.938120",
     "exception": false,
     "start_time": "2025-07-30T21:03:27.847454",
     "status": "completed"
    },
    "tags": []
   },
   "outputs": [],
   "source": [
    "X_test = siab_test.iloc[:,4:164]\n",
    "y_true = siab_test.iloc[:, [3]]"
   ]
  },
  {
   "cell_type": "markdown",
   "id": "9901737e-04df-44f0-9100-f5ad144ed040",
   "metadata": {
    "papermill": {
     "duration": 0.011627,
     "end_time": "2025-07-30T21:03:27.963927",
     "exception": false,
     "start_time": "2025-07-30T21:03:27.952300",
     "status": "completed"
    },
    "tags": []
   },
   "source": [
    "# Splitting Data and Setting Training Data Size OLD VERSION"
   ]
  },
  {
   "cell_type": "code",
   "execution_count": 24,
   "id": "acbc8f7d-8fc8-4e86-8c59-5dcb0f58384b",
   "metadata": {
    "execution": {
     "iopub.execute_input": "2025-07-30T21:03:28.008219Z",
     "iopub.status.busy": "2025-07-30T21:03:28.007579Z",
     "iopub.status.idle": "2025-07-30T21:03:28.014326Z",
     "shell.execute_reply": "2025-07-30T21:03:28.013098Z"
    },
    "papermill": {
     "duration": 0.040916,
     "end_time": "2025-07-30T21:03:28.016313",
     "exception": false,
     "start_time": "2025-07-30T21:03:27.975397",
     "status": "completed"
    },
    "tags": []
   },
   "outputs": [],
   "source": [
    "#def sample_by_year(df, training_size, random_state=42):\n",
    "#    if training_size == \"2014\":\n",
    "#        return df[df[\"year\"] == 2014].reset_index(drop=True)\n",
    "#    \n",
    "#    size_map = {\n",
    "#        \"25k\": 5000,\n",
    "#        \"5k\": 1000,\n",
    "#        \"1k\": 200\n",
    "#    }\n",
    "#\n",
    "#    if training_size not in size_map:\n",
    "#        return df.reset_index(drop=True)  # use all data\n",
    "#\n",
    "#    n_per_year = size_map[training_size]\n",
    "#    grouped = df.groupby(\"year\")\n",
    "#    sampled = grouped.apply(lambda x: x.sample(n=min(n_per_year, len(x)), random_state=random_state))\n",
    "#    return sampled.reset_index(drop=True)"
   ]
  },
  {
   "cell_type": "code",
   "execution_count": 25,
   "id": "6d931f52-beaf-43ff-9e78-9d44a448d54e",
   "metadata": {
    "execution": {
     "iopub.execute_input": "2025-07-30T21:03:28.070010Z",
     "iopub.status.busy": "2025-07-30T21:03:28.069412Z",
     "iopub.status.idle": "2025-07-30T21:03:28.074872Z",
     "shell.execute_reply": "2025-07-30T21:03:28.073815Z"
    },
    "papermill": {
     "duration": 0.033559,
     "end_time": "2025-07-30T21:03:28.076636",
     "exception": false,
     "start_time": "2025-07-30T21:03:28.043077",
     "status": "completed"
    },
    "tags": []
   },
   "outputs": [],
   "source": [
    "#siab_s = sample_by_year(siab, universe[\"training_size\"])"
   ]
  },
  {
   "cell_type": "code",
   "execution_count": 26,
   "id": "5db0a40e-a4e2-4920-be85-b12ae061d70d",
   "metadata": {
    "execution": {
     "iopub.execute_input": "2025-07-30T21:03:28.122751Z",
     "iopub.status.busy": "2025-07-30T21:03:28.122199Z",
     "iopub.status.idle": "2025-07-30T21:03:28.127545Z",
     "shell.execute_reply": "2025-07-30T21:03:28.126552Z"
    },
    "papermill": {
     "duration": 0.027492,
     "end_time": "2025-07-30T21:03:28.129246",
     "exception": false,
     "start_time": "2025-07-30T21:03:28.101754",
     "status": "completed"
    },
    "tags": []
   },
   "outputs": [],
   "source": [
    "#display(siab_s.groupby(\"year\").size())"
   ]
  },
  {
   "cell_type": "code",
   "execution_count": 27,
   "id": "e6c733c5",
   "metadata": {
    "execution": {
     "iopub.execute_input": "2025-07-30T21:03:28.175335Z",
     "iopub.status.busy": "2025-07-30T21:03:28.174516Z",
     "iopub.status.idle": "2025-07-30T21:03:28.273376Z",
     "shell.execute_reply": "2025-07-30T21:03:28.272298Z"
    },
    "papermill": {
     "duration": 0.12434,
     "end_time": "2025-07-30T21:03:28.275438",
     "exception": false,
     "start_time": "2025-07-30T21:03:28.151098",
     "status": "completed"
    },
    "tags": []
   },
   "outputs": [],
   "source": [
    "# Auxiliary data needed downstream in the pipeline\n",
    "\n",
    "org_train = X_train.copy()\n",
    "org_test = X_test.copy()\n",
    "org_calib = X_calib.copy()"
   ]
  },
  {
   "cell_type": "code",
   "execution_count": 28,
   "id": "1466abac-c6da-4492-a62f-4240ae3783af",
   "metadata": {
    "execution": {
     "iopub.execute_input": "2025-07-30T21:03:28.329961Z",
     "iopub.status.busy": "2025-07-30T21:03:28.329051Z",
     "iopub.status.idle": "2025-07-30T21:03:28.335353Z",
     "shell.execute_reply": "2025-07-30T21:03:28.334186Z"
    },
    "papermill": {
     "duration": 0.034909,
     "end_time": "2025-07-30T21:03:28.337444",
     "exception": false,
     "start_time": "2025-07-30T21:03:28.302535",
     "status": "completed"
    },
    "tags": []
   },
   "outputs": [],
   "source": [
    "# put in other script?\n",
    "# Group sizes\n",
    "\n",
    "#def calculate_percentages(df, df_name):\n",
    "#    total_entries = len(df)\n",
    "#\n",
    "#    female_pct = (df['frau1'] == 1).mean() * 100\n",
    "#    non_german_pct = ((df['maxdeutsch1'] == 0) & (df['maxdeutsch.Missing.'] == 0)).mean() * 100\n",
    "#    non_german_male_pct = ((df['frau1'] == 0) & (df['maxdeutsch1'] == 0) & (df['maxdeutsch.Missing.'] == 0)).mean() * 100\n",
    "#    non_german_female_pct = ((df['frau1'] == 1) & (df['maxdeutsch1'] == 0) & (df['maxdeutsch.Missing.'] == 0)).mean() * 100\n",
    "#\n",
    "#    print(f\"--- {df_name} ---\")\n",
    "#    print(f\"Female: {female_pct:.2f}%\")\n",
    "#    print(f\"Non-German: {non_german_pct:.2f}%\")\n",
    "#    print(f\"Non-German Male: {non_german_male_pct:.2f}%\")\n",
    "#    print(f\"Non-German Female: {non_german_female_pct:.2f}%\\n\")\n",
    "#\n",
    "## Calculate for each DataFrame\n",
    "#calculate_percentages(siab_calib, \"siab_calib\")\n",
    "#calculate_percentages(siab_test, \"siab_test\")\n",
    "#calculate_percentages(siab_train, \"siab_train\")"
   ]
  },
  {
   "cell_type": "markdown",
   "id": "0a4a1b33",
   "metadata": {
    "papermill": {
     "duration": 0.023769,
     "end_time": "2025-07-30T21:03:28.388550",
     "exception": false,
     "start_time": "2025-07-30T21:03:28.364781",
     "status": "completed"
    },
    "tags": []
   },
   "source": [
    "# Preprocessing Data"
   ]
  },
  {
   "cell_type": "code",
   "execution_count": 29,
   "id": "ca879031",
   "metadata": {
    "execution": {
     "iopub.execute_input": "2025-07-30T21:03:28.438804Z",
     "iopub.status.busy": "2025-07-30T21:03:28.438350Z",
     "iopub.status.idle": "2025-07-30T21:03:28.444398Z",
     "shell.execute_reply": "2025-07-30T21:03:28.443398Z"
    },
    "papermill": {
     "duration": 0.032202,
     "end_time": "2025-07-30T21:03:28.446065",
     "exception": false,
     "start_time": "2025-07-30T21:03:28.413863",
     "status": "completed"
    },
    "tags": []
   },
   "outputs": [],
   "source": [
    "# EXCLUDE PROTECTED FEATURES\n",
    "# ----------------------\n",
    "# \"exclude_features\": \"none\", # \"nationality\", \"sex\", \"nationality-sex\"\n",
    "\n",
    "excluded_features = universe[\"exclude_features\"].split(\"-\") # split, e.g.: \"nationality-sex\" -> [\"nationality\", \"sex\"]\n",
    "excluded_features_dictionary = {\n",
    "    \"nationality\": [\"maxdeutsch1\", \"maxdeutsch.Missing.\"],\n",
    "    \"sex\": [\"frau1\"],\n",
    "    \"age\": [\"age\"],\n",
    "}\n"
   ]
  },
  {
   "cell_type": "code",
   "execution_count": 30,
   "id": "b745ac60",
   "metadata": {
    "execution": {
     "iopub.execute_input": "2025-07-30T21:03:28.497756Z",
     "iopub.status.busy": "2025-07-30T21:03:28.497268Z",
     "iopub.status.idle": "2025-07-30T21:03:28.503027Z",
     "shell.execute_reply": "2025-07-30T21:03:28.502122Z"
    },
    "papermill": {
     "duration": 0.03317,
     "end_time": "2025-07-30T21:03:28.504831",
     "exception": false,
     "start_time": "2025-07-30T21:03:28.471661",
     "status": "completed"
    },
    "tags": []
   },
   "outputs": [],
   "source": [
    "# Code nice names to column names\n",
    "\n",
    "excluded_features_columns = [\n",
    "    excluded_features_dictionary[f] for f in excluded_features if len(f) > 0 and f != \"none\"\n",
    "]"
   ]
  },
  {
   "cell_type": "code",
   "execution_count": 31,
   "id": "f84f73a2",
   "metadata": {
    "execution": {
     "iopub.execute_input": "2025-07-30T21:03:28.555070Z",
     "iopub.status.busy": "2025-07-30T21:03:28.554567Z",
     "iopub.status.idle": "2025-07-30T21:03:28.561333Z",
     "shell.execute_reply": "2025-07-30T21:03:28.560308Z"
    },
    "papermill": {
     "duration": 0.033208,
     "end_time": "2025-07-30T21:03:28.563158",
     "exception": false,
     "start_time": "2025-07-30T21:03:28.529950",
     "status": "completed"
    },
    "tags": []
   },
   "outputs": [],
   "source": [
    "from utils import flatten_once\n",
    "\n",
    "excluded_features_columns = flatten_once(excluded_features_columns)"
   ]
  },
  {
   "cell_type": "code",
   "execution_count": 32,
   "id": "884dea22",
   "metadata": {
    "execution": {
     "iopub.execute_input": "2025-07-30T21:03:28.615214Z",
     "iopub.status.busy": "2025-07-30T21:03:28.614750Z",
     "iopub.status.idle": "2025-07-30T21:03:28.623621Z",
     "shell.execute_reply": "2025-07-30T21:03:28.622709Z"
    },
    "papermill": {
     "duration": 0.037141,
     "end_time": "2025-07-30T21:03:28.625595",
     "exception": false,
     "start_time": "2025-07-30T21:03:28.588454",
     "status": "completed"
    },
    "tags": []
   },
   "outputs": [
    {
     "name": "stdout",
     "output_type": "stream",
     "text": [
      "Dropping features: ['maxdeutsch1', 'maxdeutsch.Missing.', 'frau1']\n"
     ]
    }
   ],
   "source": [
    "if len(excluded_features_columns) > 0:\n",
    "    print(f\"Dropping features: {excluded_features_columns}\")\n",
    "    X_train.drop(excluded_features_columns, axis=1, inplace=True)"
   ]
  },
  {
   "cell_type": "code",
   "execution_count": 33,
   "id": "95ab8b16",
   "metadata": {
    "execution": {
     "iopub.execute_input": "2025-07-30T21:03:28.675879Z",
     "iopub.status.busy": "2025-07-30T21:03:28.675248Z",
     "iopub.status.idle": "2025-07-30T21:03:28.733554Z",
     "shell.execute_reply": "2025-07-30T21:03:28.732572Z"
    },
    "papermill": {
     "duration": 0.090885,
     "end_time": "2025-07-30T21:03:28.741758",
     "exception": false,
     "start_time": "2025-07-30T21:03:28.650873",
     "status": "completed"
    },
    "tags": []
   },
   "outputs": [
    {
     "name": "stdout",
     "output_type": "stream",
     "text": [
      "Dropping features: ['maxdeutsch1', 'maxdeutsch.Missing.', 'frau1']\n"
     ]
    }
   ],
   "source": [
    "if len(excluded_features_columns) > 0:\n",
    "    print(f\"Dropping features: {excluded_features_columns}\")\n",
    "    X_test.drop(excluded_features_columns, axis=1, inplace=True)"
   ]
  },
  {
   "cell_type": "code",
   "execution_count": 34,
   "id": "1853aaf5-fb9f-46cb-a2b5-8ea4ae2237e4",
   "metadata": {
    "execution": {
     "iopub.execute_input": "2025-07-30T21:03:28.790368Z",
     "iopub.status.busy": "2025-07-30T21:03:28.789970Z",
     "iopub.status.idle": "2025-07-30T21:03:28.841110Z",
     "shell.execute_reply": "2025-07-30T21:03:28.839973Z"
    },
    "papermill": {
     "duration": 0.079364,
     "end_time": "2025-07-30T21:03:28.842998",
     "exception": false,
     "start_time": "2025-07-30T21:03:28.763634",
     "status": "completed"
    },
    "tags": []
   },
   "outputs": [
    {
     "name": "stdout",
     "output_type": "stream",
     "text": [
      "Dropping features: ['maxdeutsch1', 'maxdeutsch.Missing.', 'frau1']\n"
     ]
    }
   ],
   "source": [
    "if len(excluded_features_columns) > 0:\n",
    "    print(f\"Dropping features: {excluded_features_columns}\")\n",
    "    X_calib.drop(excluded_features_columns, axis=1, inplace=True)"
   ]
  },
  {
   "cell_type": "code",
   "execution_count": 35,
   "id": "6727d079-03e5-481e-9d38-292a90b7a0a8",
   "metadata": {
    "execution": {
     "iopub.execute_input": "2025-07-30T21:03:28.894552Z",
     "iopub.status.busy": "2025-07-30T21:03:28.894068Z",
     "iopub.status.idle": "2025-07-30T21:03:28.900106Z",
     "shell.execute_reply": "2025-07-30T21:03:28.898785Z"
    },
    "papermill": {
     "duration": 0.033392,
     "end_time": "2025-07-30T21:03:28.901646",
     "exception": false,
     "start_time": "2025-07-30T21:03:28.868254",
     "status": "completed"
    },
    "tags": []
   },
   "outputs": [],
   "source": [
    "# SPLIT & STRATIFY DATA\n",
    "# ----------------------"
   ]
  },
  {
   "cell_type": "code",
   "execution_count": 36,
   "id": "76c4dc6d",
   "metadata": {
    "execution": {
     "iopub.execute_input": "2025-07-30T21:03:28.958154Z",
     "iopub.status.busy": "2025-07-30T21:03:28.957360Z",
     "iopub.status.idle": "2025-07-30T21:03:28.963136Z",
     "shell.execute_reply": "2025-07-30T21:03:28.962147Z"
    },
    "papermill": {
     "duration": 0.032509,
     "end_time": "2025-07-30T21:03:28.964761",
     "exception": false,
     "start_time": "2025-07-30T21:03:28.932252",
     "status": "completed"
    },
    "tags": []
   },
   "outputs": [],
   "source": [
    "# EXCLUDE CERTAIN SUBGROUPS\n",
    "# ----------------------\n",
    "\n",
    "mode = universe.get(\"exclude_subgroups\", \"keep-all\") \n",
    "# Fetches the exclude_subgroups setting from the universe dict.\n",
    "# Defaults to \"keep-all\" if the key is missing."
   ]
  },
  {
   "cell_type": "code",
   "execution_count": 37,
   "id": "21994072",
   "metadata": {
    "execution": {
     "iopub.execute_input": "2025-07-30T21:03:29.011590Z",
     "iopub.status.busy": "2025-07-30T21:03:29.010955Z",
     "iopub.status.idle": "2025-07-30T21:03:29.017829Z",
     "shell.execute_reply": "2025-07-30T21:03:29.016885Z"
    },
    "papermill": {
     "duration": 0.032785,
     "end_time": "2025-07-30T21:03:29.019631",
     "exception": false,
     "start_time": "2025-07-30T21:03:28.986846",
     "status": "completed"
    },
    "tags": []
   },
   "outputs": [],
   "source": [
    "if mode == \"keep-all\":\n",
    "    keep_mask = pd.Series(True, index=org_train.index)\n",
    "\n",
    "# org_train contains the original feature columns from features_org (in Simson)\n",
    "# features_org contains unprocessed features, for me X_train at beginning ???\n",
    "# For keep-all, creates a boolean Series (keep_mask) of all True, so no rows are removed.\n",
    "\n",
    "elif mode == \"drop-non-german\":\n",
    "    keep_mask = org_train[\"maxdeutsch1\"] == 1 # ??? what about missing values?\n",
    "\n",
    "else:\n",
    "    raise ValueError(f\"Unsupported mode for exclude_subgroups: {mode}\")\n"
   ]
  },
  {
   "cell_type": "code",
   "execution_count": 38,
   "id": "71651440",
   "metadata": {
    "execution": {
     "iopub.execute_input": "2025-07-30T21:03:29.054169Z",
     "iopub.status.busy": "2025-07-30T21:03:29.053668Z",
     "iopub.status.idle": "2025-07-30T21:03:29.060774Z",
     "shell.execute_reply": "2025-07-30T21:03:29.059802Z"
    },
    "papermill": {
     "duration": 0.025511,
     "end_time": "2025-07-30T21:03:29.062368",
     "exception": false,
     "start_time": "2025-07-30T21:03:29.036857",
     "status": "completed"
    },
    "tags": []
   },
   "outputs": [],
   "source": [
    "n_drop = (~keep_mask).sum() # Calculates how many rows are set to be dropped\n",
    "if n_drop > 0:\n",
    "    pct = n_drop / len(keep_mask) * 100\n",
    "    print(f\"Dropping {n_drop} rows ({pct:.2f}%) where mode='{mode}'\")"
   ]
  },
  {
   "cell_type": "code",
   "execution_count": 39,
   "id": "5fb8eee5",
   "metadata": {
    "execution": {
     "iopub.execute_input": "2025-07-30T21:03:29.109896Z",
     "iopub.status.busy": "2025-07-30T21:03:29.109039Z",
     "iopub.status.idle": "2025-07-30T21:03:29.117246Z",
     "shell.execute_reply": "2025-07-30T21:03:29.116171Z"
    },
    "papermill": {
     "duration": 0.033066,
     "end_time": "2025-07-30T21:03:29.118855",
     "exception": false,
     "start_time": "2025-07-30T21:03:29.085789",
     "status": "completed"
    },
    "tags": []
   },
   "outputs": [],
   "source": [
    "X_train = X_train[keep_mask]"
   ]
  },
  {
   "cell_type": "code",
   "execution_count": 40,
   "id": "b202bb3a",
   "metadata": {
    "execution": {
     "iopub.execute_input": "2025-07-30T21:03:29.168703Z",
     "iopub.status.busy": "2025-07-30T21:03:29.168200Z",
     "iopub.status.idle": "2025-07-30T21:03:29.174558Z",
     "shell.execute_reply": "2025-07-30T21:03:29.173594Z"
    },
    "papermill": {
     "duration": 0.03278,
     "end_time": "2025-07-30T21:03:29.176414",
     "exception": false,
     "start_time": "2025-07-30T21:03:29.143634",
     "status": "completed"
    },
    "tags": []
   },
   "outputs": [],
   "source": [
    "y_train = y_train[keep_mask]"
   ]
  },
  {
   "cell_type": "markdown",
   "id": "493e2ac3",
   "metadata": {
    "papermill": {
     "duration": 0.023288,
     "end_time": "2025-07-30T21:03:29.223174",
     "exception": false,
     "start_time": "2025-07-30T21:03:29.199886",
     "status": "completed"
    },
    "tags": []
   },
   "source": [
    "# Model Training"
   ]
  },
  {
   "cell_type": "code",
   "execution_count": 41,
   "id": "679e1268",
   "metadata": {
    "execution": {
     "iopub.execute_input": "2025-07-30T21:03:29.270780Z",
     "iopub.status.busy": "2025-07-30T21:03:29.270322Z",
     "iopub.status.idle": "2025-07-30T21:03:29.371973Z",
     "shell.execute_reply": "2025-07-30T21:03:29.371106Z"
    },
    "papermill": {
     "duration": 0.139718,
     "end_time": "2025-07-30T21:03:29.385308",
     "exception": false,
     "start_time": "2025-07-30T21:03:29.245590",
     "status": "completed"
    },
    "tags": []
   },
   "outputs": [],
   "source": [
    "from sklearn.linear_model import LogisticRegression\n",
    "from sklearn.ensemble import GradientBoostingClassifier, RandomForestClassifier\n",
    "\n",
    "if (universe[\"model\"] == \"logreg\"):\n",
    "    model = LogisticRegression() #penalty=\"none\") #, solver=\"newton-cg\", max_iter=1) # include random_state=19 ?\n",
    "elif (universe[\"model\"] == \"penalized_logreg\"):\n",
    "    model = LogisticRegression(penalty=\"l2\", C=1.0) #, solver=\"newton-cg\", max_iter=1)\n",
    "elif (universe[\"model\"] == \"rf\"):\n",
    "    model = RandomForestClassifier(n_estimators=100, n_jobs=-1)\n",
    "elif (universe[\"model\"] == \"gbm\"):\n",
    "    model = GradientBoostingClassifier()\n",
    "elif (universe[\"model\"] == \"elasticnet\"):\n",
    "    model = LogisticRegression(penalty = 'elasticnet', solver = 'saga', l1_ratio = 0.5, max_iter=5000) # which solver to use?\n",
    "else:\n",
    "    raise \"Unsupported universe.model\""
   ]
  },
  {
   "cell_type": "code",
   "execution_count": 42,
   "id": "0cc8f744",
   "metadata": {
    "execution": {
     "iopub.execute_input": "2025-07-30T21:03:29.433301Z",
     "iopub.status.busy": "2025-07-30T21:03:29.432349Z",
     "iopub.status.idle": "2025-07-30T21:03:29.438779Z",
     "shell.execute_reply": "2025-07-30T21:03:29.437938Z"
    },
    "papermill": {
     "duration": 0.033347,
     "end_time": "2025-07-30T21:03:29.440368",
     "exception": false,
     "start_time": "2025-07-30T21:03:29.407021",
     "status": "completed"
    },
    "tags": []
   },
   "outputs": [],
   "source": [
    "import numpy as np\n",
    "from sklearn.pipeline import Pipeline\n",
    "from sklearn.preprocessing import StandardScaler\n",
    "\n",
    "model = Pipeline([\n",
    "    #(\"continuous_processor\", continuous_processor),\n",
    "    #(\"categorical_preprocessor\", categorical_preprocessor),\n",
    "    (\"scale\", StandardScaler() if universe[\"scale\"] == \"scale\" else None), \n",
    "    (\"model\", model),\n",
    "])"
   ]
  },
  {
   "cell_type": "code",
   "execution_count": 43,
   "id": "9442c04d",
   "metadata": {
    "execution": {
     "iopub.execute_input": "2025-07-30T21:03:29.486593Z",
     "iopub.status.busy": "2025-07-30T21:03:29.485885Z",
     "iopub.status.idle": "2025-07-30T21:03:29.626266Z",
     "shell.execute_reply": "2025-07-30T21:03:29.625429Z"
    },
    "papermill": {
     "duration": 0.16589,
     "end_time": "2025-07-30T21:03:29.628200",
     "exception": false,
     "start_time": "2025-07-30T21:03:29.462310",
     "status": "completed"
    },
    "tags": []
   },
   "outputs": [
    {
     "name": "stderr",
     "output_type": "stream",
     "text": [
      "/dss/dsshome1/0C/ra93lal2/.local/share/virtualenvs/CMA_Fairness_v2-3j10GkSs/lib/python3.10/site-packages/sklearn/linear_model/_logistic.py:444: ConvergenceWarning: lbfgs failed to converge (status=1):\n",
      "STOP: TOTAL NO. of ITERATIONS REACHED LIMIT.\n",
      "\n",
      "Increase the number of iterations (max_iter) or scale the data as shown in:\n",
      "    https://scikit-learn.org/stable/modules/preprocessing.html\n",
      "Please also refer to the documentation for alternative solver options:\n",
      "    https://scikit-learn.org/stable/modules/linear_model.html#logistic-regression\n",
      "  n_iter_i = _check_optimize_result(\n"
     ]
    },
    {
     "data": {
      "text/html": [
       "<style>#sk-container-id-1 {color: black;background-color: white;}#sk-container-id-1 pre{padding: 0;}#sk-container-id-1 div.sk-toggleable {background-color: white;}#sk-container-id-1 label.sk-toggleable__label {cursor: pointer;display: block;width: 100%;margin-bottom: 0;padding: 0.3em;box-sizing: border-box;text-align: center;}#sk-container-id-1 label.sk-toggleable__label-arrow:before {content: \"▸\";float: left;margin-right: 0.25em;color: #696969;}#sk-container-id-1 label.sk-toggleable__label-arrow:hover:before {color: black;}#sk-container-id-1 div.sk-estimator:hover label.sk-toggleable__label-arrow:before {color: black;}#sk-container-id-1 div.sk-toggleable__content {max-height: 0;max-width: 0;overflow: hidden;text-align: left;background-color: #f0f8ff;}#sk-container-id-1 div.sk-toggleable__content pre {margin: 0.2em;color: black;border-radius: 0.25em;background-color: #f0f8ff;}#sk-container-id-1 input.sk-toggleable__control:checked~div.sk-toggleable__content {max-height: 200px;max-width: 100%;overflow: auto;}#sk-container-id-1 input.sk-toggleable__control:checked~label.sk-toggleable__label-arrow:before {content: \"▾\";}#sk-container-id-1 div.sk-estimator input.sk-toggleable__control:checked~label.sk-toggleable__label {background-color: #d4ebff;}#sk-container-id-1 div.sk-label input.sk-toggleable__control:checked~label.sk-toggleable__label {background-color: #d4ebff;}#sk-container-id-1 input.sk-hidden--visually {border: 0;clip: rect(1px 1px 1px 1px);clip: rect(1px, 1px, 1px, 1px);height: 1px;margin: -1px;overflow: hidden;padding: 0;position: absolute;width: 1px;}#sk-container-id-1 div.sk-estimator {font-family: monospace;background-color: #f0f8ff;border: 1px dotted black;border-radius: 0.25em;box-sizing: border-box;margin-bottom: 0.5em;}#sk-container-id-1 div.sk-estimator:hover {background-color: #d4ebff;}#sk-container-id-1 div.sk-parallel-item::after {content: \"\";width: 100%;border-bottom: 1px solid gray;flex-grow: 1;}#sk-container-id-1 div.sk-label:hover label.sk-toggleable__label {background-color: #d4ebff;}#sk-container-id-1 div.sk-serial::before {content: \"\";position: absolute;border-left: 1px solid gray;box-sizing: border-box;top: 0;bottom: 0;left: 50%;z-index: 0;}#sk-container-id-1 div.sk-serial {display: flex;flex-direction: column;align-items: center;background-color: white;padding-right: 0.2em;padding-left: 0.2em;position: relative;}#sk-container-id-1 div.sk-item {position: relative;z-index: 1;}#sk-container-id-1 div.sk-parallel {display: flex;align-items: stretch;justify-content: center;background-color: white;position: relative;}#sk-container-id-1 div.sk-item::before, #sk-container-id-1 div.sk-parallel-item::before {content: \"\";position: absolute;border-left: 1px solid gray;box-sizing: border-box;top: 0;bottom: 0;left: 50%;z-index: -1;}#sk-container-id-1 div.sk-parallel-item {display: flex;flex-direction: column;z-index: 1;position: relative;background-color: white;}#sk-container-id-1 div.sk-parallel-item:first-child::after {align-self: flex-end;width: 50%;}#sk-container-id-1 div.sk-parallel-item:last-child::after {align-self: flex-start;width: 50%;}#sk-container-id-1 div.sk-parallel-item:only-child::after {width: 0;}#sk-container-id-1 div.sk-dashed-wrapped {border: 1px dashed gray;margin: 0 0.4em 0.5em 0.4em;box-sizing: border-box;padding-bottom: 0.4em;background-color: white;}#sk-container-id-1 div.sk-label label {font-family: monospace;font-weight: bold;display: inline-block;line-height: 1.2em;}#sk-container-id-1 div.sk-label-container {text-align: center;}#sk-container-id-1 div.sk-container {/* jupyter's `normalize.less` sets `[hidden] { display: none; }` but bootstrap.min.css set `[hidden] { display: none !important; }` so we also need the `!important` here to be able to override the default hidden behavior on the sphinx rendered scikit-learn.org. See: https://github.com/scikit-learn/scikit-learn/issues/21755 */display: inline-block !important;position: relative;}#sk-container-id-1 div.sk-text-repr-fallback {display: none;}</style><div id=\"sk-container-id-1\" class=\"sk-top-container\"><div class=\"sk-text-repr-fallback\"><pre>Pipeline(steps=[(&#x27;scale&#x27;, None), (&#x27;model&#x27;, LogisticRegression())])</pre><b>In a Jupyter environment, please rerun this cell to show the HTML representation or trust the notebook. <br />On GitHub, the HTML representation is unable to render, please try loading this page with nbviewer.org.</b></div><div class=\"sk-container\" hidden><div class=\"sk-item sk-dashed-wrapped\"><div class=\"sk-label-container\"><div class=\"sk-label sk-toggleable\"><input class=\"sk-toggleable__control sk-hidden--visually\" id=\"sk-estimator-id-1\" type=\"checkbox\" ><label for=\"sk-estimator-id-1\" class=\"sk-toggleable__label sk-toggleable__label-arrow\">Pipeline</label><div class=\"sk-toggleable__content\"><pre>Pipeline(steps=[(&#x27;scale&#x27;, None), (&#x27;model&#x27;, LogisticRegression())])</pre></div></div></div><div class=\"sk-serial\"><div class=\"sk-item\"><div class=\"sk-estimator sk-toggleable\"><input class=\"sk-toggleable__control sk-hidden--visually\" id=\"sk-estimator-id-2\" type=\"checkbox\" ><label for=\"sk-estimator-id-2\" class=\"sk-toggleable__label sk-toggleable__label-arrow\">None</label><div class=\"sk-toggleable__content\"><pre>None</pre></div></div></div><div class=\"sk-item\"><div class=\"sk-estimator sk-toggleable\"><input class=\"sk-toggleable__control sk-hidden--visually\" id=\"sk-estimator-id-3\" type=\"checkbox\" ><label for=\"sk-estimator-id-3\" class=\"sk-toggleable__label sk-toggleable__label-arrow\">LogisticRegression</label><div class=\"sk-toggleable__content\"><pre>LogisticRegression()</pre></div></div></div></div></div></div></div>"
      ],
      "text/plain": [
       "Pipeline(steps=[('scale', None), ('model', LogisticRegression())])"
      ]
     },
     "execution_count": 43,
     "metadata": {},
     "output_type": "execute_result"
    }
   ],
   "source": [
    "model.fit(X_train, y_train.values.ravel())"
   ]
  },
  {
   "cell_type": "code",
   "execution_count": 44,
   "id": "af59f8c0",
   "metadata": {
    "execution": {
     "iopub.execute_input": "2025-07-30T21:03:29.685060Z",
     "iopub.status.busy": "2025-07-30T21:03:29.684223Z",
     "iopub.status.idle": "2025-07-30T21:03:29.689167Z",
     "shell.execute_reply": "2025-07-30T21:03:29.688330Z"
    },
    "papermill": {
     "duration": 0.030527,
     "end_time": "2025-07-30T21:03:29.691081",
     "exception": false,
     "start_time": "2025-07-30T21:03:29.660554",
     "status": "completed"
    },
    "tags": []
   },
   "outputs": [],
   "source": [
    "from fairness_multiverse.universe import predict_w_threshold"
   ]
  },
  {
   "cell_type": "code",
   "execution_count": 45,
   "id": "a7cf2e16",
   "metadata": {
    "execution": {
     "iopub.execute_input": "2025-07-30T21:03:29.737375Z",
     "iopub.status.busy": "2025-07-30T21:03:29.736895Z",
     "iopub.status.idle": "2025-07-30T21:03:29.834354Z",
     "shell.execute_reply": "2025-07-30T21:03:29.833483Z"
    },
    "papermill": {
     "duration": 0.12192,
     "end_time": "2025-07-30T21:03:29.836068",
     "exception": false,
     "start_time": "2025-07-30T21:03:29.714148",
     "status": "completed"
    },
    "tags": []
   },
   "outputs": [
    {
     "data": {
      "text/plain": [
       "0.8621001003232639"
      ]
     },
     "execution_count": 45,
     "metadata": {},
     "output_type": "execute_result"
    }
   ],
   "source": [
    "probs_test = model.predict_proba(X_test)\n",
    "\n",
    "'''\n",
    "Below code returns a boolean array (or binary 0/1 array depending on how it’s used) where each element \n",
    "is True if the probability of class 1 is greater than or equal to the threshold, and False otherwise.\n",
    "'''\n",
    "y_pred_default = predict_w_threshold(probs_test, 0.5)\n",
    "\n",
    "from sklearn.metrics import accuracy_score\n",
    "\n",
    "# Naive prediction\n",
    "accuracy_score(y_true = y_true, y_pred = y_pred_default)"
   ]
  },
  {
   "cell_type": "code",
   "execution_count": 46,
   "id": "081964c3",
   "metadata": {
    "execution": {
     "iopub.execute_input": "2025-07-30T21:03:29.885516Z",
     "iopub.status.busy": "2025-07-30T21:03:29.884837Z",
     "iopub.status.idle": "2025-07-30T21:03:29.974667Z",
     "shell.execute_reply": "2025-07-30T21:03:29.973784Z"
    },
    "papermill": {
     "duration": 0.117919,
     "end_time": "2025-07-30T21:03:29.976144",
     "exception": false,
     "start_time": "2025-07-30T21:03:29.858225",
     "status": "completed"
    },
    "tags": []
   },
   "outputs": [
    {
     "data": {
      "text/plain": [
       "array([0, 0, 0, ..., 0, 0, 0])"
      ]
     },
     "execution_count": 46,
     "metadata": {},
     "output_type": "execute_result"
    }
   ],
   "source": [
    "model.predict(X_test)"
   ]
  },
  {
   "cell_type": "markdown",
   "id": "56c9705b",
   "metadata": {
    "papermill": {
     "duration": 0.022803,
     "end_time": "2025-07-30T21:03:30.021186",
     "exception": false,
     "start_time": "2025-07-30T21:03:29.998383",
     "status": "completed"
    },
    "tags": []
   },
   "source": [
    "# Conformal Prediction"
   ]
  },
  {
   "cell_type": "code",
   "execution_count": 47,
   "id": "160ec6ff",
   "metadata": {
    "execution": {
     "iopub.execute_input": "2025-07-30T21:03:30.067016Z",
     "iopub.status.busy": "2025-07-30T21:03:30.066545Z",
     "iopub.status.idle": "2025-07-30T21:03:30.071918Z",
     "shell.execute_reply": "2025-07-30T21:03:30.070988Z"
    },
    "papermill": {
     "duration": 0.030561,
     "end_time": "2025-07-30T21:03:30.073823",
     "exception": false,
     "start_time": "2025-07-30T21:03:30.043262",
     "status": "completed"
    },
    "tags": []
   },
   "outputs": [],
   "source": [
    "# Miscoverage level for conformal prediction (10% allowed error rate => 90% target coverage)\n",
    "alpha = 0.1"
   ]
  },
  {
   "cell_type": "code",
   "execution_count": 48,
   "id": "eadf4555-3dd3-440e-8e35-f82a4ad9f855",
   "metadata": {
    "execution": {
     "iopub.execute_input": "2025-07-30T21:03:30.122103Z",
     "iopub.status.busy": "2025-07-30T21:03:30.121252Z",
     "iopub.status.idle": "2025-07-30T21:03:30.213528Z",
     "shell.execute_reply": "2025-07-30T21:03:30.212520Z"
    },
    "papermill": {
     "duration": 0.118012,
     "end_time": "2025-07-30T21:03:30.215603",
     "exception": false,
     "start_time": "2025-07-30T21:03:30.097591",
     "status": "completed"
    },
    "tags": []
   },
   "outputs": [],
   "source": [
    "probs_calib = model.predict_proba(X_calib)"
   ]
  },
  {
   "cell_type": "code",
   "execution_count": 49,
   "id": "2ed93547-6d5d-4983-9b36-1ecb300da49a",
   "metadata": {
    "execution": {
     "iopub.execute_input": "2025-07-30T21:03:30.273312Z",
     "iopub.status.busy": "2025-07-30T21:03:30.272827Z",
     "iopub.status.idle": "2025-07-30T21:03:30.278540Z",
     "shell.execute_reply": "2025-07-30T21:03:30.277543Z"
    },
    "papermill": {
     "duration": 0.041844,
     "end_time": "2025-07-30T21:03:30.280351",
     "exception": false,
     "start_time": "2025-07-30T21:03:30.238507",
     "status": "completed"
    },
    "tags": []
   },
   "outputs": [],
   "source": [
    "y_calib = y_calib.values.ravel().astype(int)"
   ]
  },
  {
   "cell_type": "code",
   "execution_count": 50,
   "id": "65d1320d-f588-4b38-9072-62af1ae97f7d",
   "metadata": {
    "execution": {
     "iopub.execute_input": "2025-07-30T21:03:30.333787Z",
     "iopub.status.busy": "2025-07-30T21:03:30.332853Z",
     "iopub.status.idle": "2025-07-30T21:03:30.339805Z",
     "shell.execute_reply": "2025-07-30T21:03:30.338761Z"
    },
    "papermill": {
     "duration": 0.035521,
     "end_time": "2025-07-30T21:03:30.341459",
     "exception": false,
     "start_time": "2025-07-30T21:03:30.305938",
     "status": "completed"
    },
    "tags": []
   },
   "outputs": [],
   "source": [
    "from fairness_multiverse.conformal import compute_nc_scores\n",
    "\n",
    "# Compute nonconformity scores on calibration set (1 - probability of true class)\n",
    "nc_scores = compute_nc_scores(probs_calib, y_calib)"
   ]
  },
  {
   "cell_type": "code",
   "execution_count": 51,
   "id": "df3b8ca3-53b7-43d5-9667-7c85da7aeda2",
   "metadata": {
    "execution": {
     "iopub.execute_input": "2025-07-30T21:03:30.391858Z",
     "iopub.status.busy": "2025-07-30T21:03:30.391202Z",
     "iopub.status.idle": "2025-07-30T21:03:30.398220Z",
     "shell.execute_reply": "2025-07-30T21:03:30.397205Z"
    },
    "papermill": {
     "duration": 0.033844,
     "end_time": "2025-07-30T21:03:30.399739",
     "exception": false,
     "start_time": "2025-07-30T21:03:30.365895",
     "status": "completed"
    },
    "tags": []
   },
   "outputs": [],
   "source": [
    "from fairness_multiverse.conformal import find_threshold\n",
    "\n",
    "# Find conformal threshold q_hat for the given alpha (split conformal method)\n",
    "q_hat = find_threshold(nc_scores, alpha)"
   ]
  },
  {
   "cell_type": "code",
   "execution_count": 52,
   "id": "4d29e6c1-0ef6-4aa4-b8fe-4fe79b0d033a",
   "metadata": {
    "execution": {
     "iopub.execute_input": "2025-07-30T21:03:30.449701Z",
     "iopub.status.busy": "2025-07-30T21:03:30.449053Z",
     "iopub.status.idle": "2025-07-30T21:03:30.456183Z",
     "shell.execute_reply": "2025-07-30T21:03:30.455196Z"
    },
    "papermill": {
     "duration": 0.033853,
     "end_time": "2025-07-30T21:03:30.457830",
     "exception": false,
     "start_time": "2025-07-30T21:03:30.423977",
     "status": "completed"
    },
    "tags": []
   },
   "outputs": [
    {
     "data": {
      "text/plain": [
       "0.6843869526861445"
      ]
     },
     "execution_count": 52,
     "metadata": {},
     "output_type": "execute_result"
    }
   ],
   "source": [
    "q_hat"
   ]
  },
  {
   "cell_type": "code",
   "execution_count": 53,
   "id": "92460794-cdac-4be2-ba28-f28c0515a6fb",
   "metadata": {
    "execution": {
     "iopub.execute_input": "2025-07-30T21:03:30.508178Z",
     "iopub.status.busy": "2025-07-30T21:03:30.507514Z",
     "iopub.status.idle": "2025-07-30T21:03:31.272768Z",
     "shell.execute_reply": "2025-07-30T21:03:31.271770Z"
    },
    "papermill": {
     "duration": 0.791535,
     "end_time": "2025-07-30T21:03:31.274516",
     "exception": false,
     "start_time": "2025-07-30T21:03:30.482981",
     "status": "completed"
    },
    "tags": []
   },
   "outputs": [],
   "source": [
    "from fairness_multiverse.conformal import predict_conformal_sets\n",
    "\n",
    "# Generate prediction sets for each test example\n",
    "pred_sets = predict_conformal_sets(model, X_test, q_hat)"
   ]
  },
  {
   "cell_type": "code",
   "execution_count": 54,
   "id": "d90c9a65-e6db-4f5d-80cd-e68fb7e46829",
   "metadata": {
    "execution": {
     "iopub.execute_input": "2025-07-30T21:03:31.329612Z",
     "iopub.status.busy": "2025-07-30T21:03:31.328952Z",
     "iopub.status.idle": "2025-07-30T21:03:31.334465Z",
     "shell.execute_reply": "2025-07-30T21:03:31.333466Z"
    },
    "papermill": {
     "duration": 0.0332,
     "end_time": "2025-07-30T21:03:31.336645",
     "exception": false,
     "start_time": "2025-07-30T21:03:31.303445",
     "status": "completed"
    },
    "tags": []
   },
   "outputs": [],
   "source": [
    "y_true = y_true.squeeze()"
   ]
  },
  {
   "cell_type": "code",
   "execution_count": 55,
   "id": "3a58a54a-1e68-46b9-927a-df01f18aebc8",
   "metadata": {
    "execution": {
     "iopub.execute_input": "2025-07-30T21:03:31.389243Z",
     "iopub.status.busy": "2025-07-30T21:03:31.388208Z",
     "iopub.status.idle": "2025-07-30T21:03:31.880445Z",
     "shell.execute_reply": "2025-07-30T21:03:31.879671Z"
    },
    "papermill": {
     "duration": 0.521438,
     "end_time": "2025-07-30T21:03:31.881883",
     "exception": false,
     "start_time": "2025-07-30T21:03:31.360445",
     "status": "completed"
    },
    "tags": []
   },
   "outputs": [],
   "source": [
    "from fairness_multiverse.conformal import evaluate_sets\n",
    "\n",
    "# Evaluate coverage and average set size on test data\n",
    "metrics = evaluate_sets(pred_sets, y_true)"
   ]
  },
  {
   "cell_type": "markdown",
   "id": "2b569c12-9aaa-4c88-98c9-bbcd0cf3ebb8",
   "metadata": {
    "papermill": {
     "duration": 0.012643,
     "end_time": "2025-07-30T21:03:31.908415",
     "exception": false,
     "start_time": "2025-07-30T21:03:31.895772",
     "status": "completed"
    },
    "tags": []
   },
   "source": [
    "# CP Metrics"
   ]
  },
  {
   "cell_type": "code",
   "execution_count": 56,
   "id": "5ce0a5cb-201f-45a0-ade5-94c7f0bd6095",
   "metadata": {
    "execution": {
     "iopub.execute_input": "2025-07-30T21:03:31.934206Z",
     "iopub.status.busy": "2025-07-30T21:03:31.933723Z",
     "iopub.status.idle": "2025-07-30T21:03:31.940077Z",
     "shell.execute_reply": "2025-07-30T21:03:31.939325Z"
    },
    "papermill": {
     "duration": 0.020885,
     "end_time": "2025-07-30T21:03:31.941493",
     "exception": false,
     "start_time": "2025-07-30T21:03:31.920608",
     "status": "completed"
    },
    "tags": []
   },
   "outputs": [
    {
     "data": {
      "text/plain": [
       "{'coverage': 0.9115371753427711, 'avg_size': 1.208939917511983}"
      ]
     },
     "execution_count": 56,
     "metadata": {},
     "output_type": "execute_result"
    }
   ],
   "source": [
    "metrics"
   ]
  },
  {
   "cell_type": "code",
   "execution_count": 57,
   "id": "9b9a838d-31c9-430b-ae14-12baee460d17",
   "metadata": {
    "execution": {
     "iopub.execute_input": "2025-07-30T21:03:31.970018Z",
     "iopub.status.busy": "2025-07-30T21:03:31.969254Z",
     "iopub.status.idle": "2025-07-30T21:03:31.974655Z",
     "shell.execute_reply": "2025-07-30T21:03:31.973986Z"
    },
    "papermill": {
     "duration": 0.020821,
     "end_time": "2025-07-30T21:03:31.976001",
     "exception": false,
     "start_time": "2025-07-30T21:03:31.955180",
     "status": "completed"
    },
    "tags": []
   },
   "outputs": [],
   "source": [
    "example_universe = universe.copy()\n",
    "universe_training_year = example_universe.get(\"training_year\")\n",
    "universe_training_size = example_universe.get(\"training_size\")\n",
    "universe_scale = example_universe.get(\"scale\")\n",
    "universe_model = example_universe.get(\"model\")\n",
    "universe_exclude_features = example_universe.get(\"exclude_features\")\n",
    "universe_exclude_subgroups = example_universe.get(\"exclude_subgroups\")"
   ]
  },
  {
   "cell_type": "code",
   "execution_count": 58,
   "id": "f4b6a8ac-9dc0-4245-8a91-5b3b5999c4f9",
   "metadata": {
    "execution": {
     "iopub.execute_input": "2025-07-30T21:03:32.005430Z",
     "iopub.status.busy": "2025-07-30T21:03:32.004932Z",
     "iopub.status.idle": "2025-07-30T21:03:32.010374Z",
     "shell.execute_reply": "2025-07-30T21:03:32.009652Z"
    },
    "papermill": {
     "duration": 0.021195,
     "end_time": "2025-07-30T21:03:32.011706",
     "exception": false,
     "start_time": "2025-07-30T21:03:31.990511",
     "status": "completed"
    },
    "tags": []
   },
   "outputs": [],
   "source": [
    "cp_metrics_dict = {\n",
    "    \"universe_id\": [universe_id],\n",
    "    \"universe_training_year\": [universe_training_year],\n",
    "    \"universe_training_size\": [universe_training_size],\n",
    "    \"universe_scale\": [universe_scale],\n",
    "    \"universe_model\": [universe_model],\n",
    "    \"universe_exclude_features\": [universe_exclude_features],\n",
    "    \"universe_exclude_subgroups\": [universe_exclude_subgroups],\n",
    "    \"q_hat\": [q_hat],\n",
    "    \"coverage\": [metrics[\"coverage\"]],\n",
    "    \"avg_size\": [metrics[\"avg_size\"]],\n",
    "}"
   ]
  },
  {
   "cell_type": "code",
   "execution_count": 59,
   "id": "908acbb1-0371-4915-85ca-3fa520d2efe2",
   "metadata": {
    "execution": {
     "iopub.execute_input": "2025-07-30T21:03:32.041083Z",
     "iopub.status.busy": "2025-07-30T21:03:32.040427Z",
     "iopub.status.idle": "2025-07-30T21:03:32.046872Z",
     "shell.execute_reply": "2025-07-30T21:03:32.046115Z"
    },
    "papermill": {
     "duration": 0.021788,
     "end_time": "2025-07-30T21:03:32.048708",
     "exception": false,
     "start_time": "2025-07-30T21:03:32.026920",
     "status": "completed"
    },
    "tags": []
   },
   "outputs": [
    {
     "data": {
      "text/plain": [
       "{'universe_id': ['e99b2c0c3c8e340e7ea2fabd83b1d30a'],\n",
       " 'universe_training_year': ['2012_14'],\n",
       " 'universe_training_size': ['5k'],\n",
       " 'universe_scale': ['do-not-scale'],\n",
       " 'universe_model': ['logreg'],\n",
       " 'universe_exclude_features': ['nationality-sex'],\n",
       " 'universe_exclude_subgroups': ['keep-all'],\n",
       " 'q_hat': [0.6843869526861445],\n",
       " 'coverage': [0.9115371753427711],\n",
       " 'avg_size': [1.208939917511983]}"
      ]
     },
     "execution_count": 59,
     "metadata": {},
     "output_type": "execute_result"
    }
   ],
   "source": [
    "cp_metrics_dict"
   ]
  },
  {
   "cell_type": "code",
   "execution_count": 60,
   "id": "33007efc-14e9-4ec6-97ac-56a455c82265",
   "metadata": {
    "execution": {
     "iopub.execute_input": "2025-07-30T21:03:32.098495Z",
     "iopub.status.busy": "2025-07-30T21:03:32.097605Z",
     "iopub.status.idle": "2025-07-30T21:03:32.104182Z",
     "shell.execute_reply": "2025-07-30T21:03:32.103224Z"
    },
    "papermill": {
     "duration": 0.032704,
     "end_time": "2025-07-30T21:03:32.105906",
     "exception": false,
     "start_time": "2025-07-30T21:03:32.073202",
     "status": "completed"
    },
    "tags": []
   },
   "outputs": [],
   "source": [
    "cp_metrics_df = pd.DataFrame(cp_metrics_dict)"
   ]
  },
  {
   "cell_type": "code",
   "execution_count": 61,
   "id": "db12611b-57b2-4910-b9d0-355adfd6e7bf",
   "metadata": {
    "execution": {
     "iopub.execute_input": "2025-07-30T21:03:32.162741Z",
     "iopub.status.busy": "2025-07-30T21:03:32.162069Z",
     "iopub.status.idle": "2025-07-30T21:03:32.182027Z",
     "shell.execute_reply": "2025-07-30T21:03:32.181132Z"
    },
    "papermill": {
     "duration": 0.050065,
     "end_time": "2025-07-30T21:03:32.183490",
     "exception": false,
     "start_time": "2025-07-30T21:03:32.133425",
     "status": "completed"
    },
    "tags": []
   },
   "outputs": [
    {
     "data": {
      "text/html": [
       "<div>\n",
       "<style scoped>\n",
       "    .dataframe tbody tr th:only-of-type {\n",
       "        vertical-align: middle;\n",
       "    }\n",
       "\n",
       "    .dataframe tbody tr th {\n",
       "        vertical-align: top;\n",
       "    }\n",
       "\n",
       "    .dataframe thead th {\n",
       "        text-align: right;\n",
       "    }\n",
       "</style>\n",
       "<table border=\"1\" class=\"dataframe\">\n",
       "  <thead>\n",
       "    <tr style=\"text-align: right;\">\n",
       "      <th></th>\n",
       "      <th>universe_id</th>\n",
       "      <th>universe_training_year</th>\n",
       "      <th>universe_training_size</th>\n",
       "      <th>universe_scale</th>\n",
       "      <th>universe_model</th>\n",
       "      <th>universe_exclude_features</th>\n",
       "      <th>universe_exclude_subgroups</th>\n",
       "      <th>q_hat</th>\n",
       "      <th>coverage</th>\n",
       "      <th>avg_size</th>\n",
       "    </tr>\n",
       "  </thead>\n",
       "  <tbody>\n",
       "    <tr>\n",
       "      <th>0</th>\n",
       "      <td>e99b2c0c3c8e340e7ea2fabd83b1d30a</td>\n",
       "      <td>2012_14</td>\n",
       "      <td>5k</td>\n",
       "      <td>do-not-scale</td>\n",
       "      <td>logreg</td>\n",
       "      <td>nationality-sex</td>\n",
       "      <td>keep-all</td>\n",
       "      <td>0.684387</td>\n",
       "      <td>0.911537</td>\n",
       "      <td>1.20894</td>\n",
       "    </tr>\n",
       "  </tbody>\n",
       "</table>\n",
       "</div>"
      ],
      "text/plain": [
       "                        universe_id universe_training_year  \\\n",
       "0  e99b2c0c3c8e340e7ea2fabd83b1d30a                2012_14   \n",
       "\n",
       "  universe_training_size universe_scale universe_model  \\\n",
       "0                     5k   do-not-scale         logreg   \n",
       "\n",
       "  universe_exclude_features universe_exclude_subgroups     q_hat  coverage  \\\n",
       "0           nationality-sex                   keep-all  0.684387  0.911537   \n",
       "\n",
       "   avg_size  \n",
       "0   1.20894  "
      ]
     },
     "execution_count": 61,
     "metadata": {},
     "output_type": "execute_result"
    }
   ],
   "source": [
    "cp_metrics_df"
   ]
  },
  {
   "cell_type": "code",
   "execution_count": 62,
   "id": "b7fbde55-a0a1-47e4-9af6-fe4a17fa8c61",
   "metadata": {
    "execution": {
     "iopub.execute_input": "2025-07-30T21:03:32.234701Z",
     "iopub.status.busy": "2025-07-30T21:03:32.233960Z",
     "iopub.status.idle": "2025-07-30T21:03:32.239399Z",
     "shell.execute_reply": "2025-07-30T21:03:32.238247Z"
    },
    "papermill": {
     "duration": 0.032936,
     "end_time": "2025-07-30T21:03:32.241123",
     "exception": false,
     "start_time": "2025-07-30T21:03:32.208187",
     "status": "completed"
    },
    "tags": []
   },
   "outputs": [],
   "source": [
    "# Conditional Coverage & looking at subgroups"
   ]
  },
  {
   "cell_type": "code",
   "execution_count": 63,
   "id": "027ae886-68dd-4141-96c7-805a5450e1ef",
   "metadata": {
    "execution": {
     "iopub.execute_input": "2025-07-30T21:03:32.295900Z",
     "iopub.status.busy": "2025-07-30T21:03:32.295140Z",
     "iopub.status.idle": "2025-07-30T21:03:32.552282Z",
     "shell.execute_reply": "2025-07-30T21:03:32.551069Z"
    },
    "papermill": {
     "duration": 0.285357,
     "end_time": "2025-07-30T21:03:32.554524",
     "exception": false,
     "start_time": "2025-07-30T21:03:32.269167",
     "status": "completed"
    },
    "tags": []
   },
   "outputs": [],
   "source": [
    "from fairness_multiverse.conformal import build_cp_groups\n",
    "\n",
    "cp_groups_df = build_cp_groups(pred_sets, y_true, X_test.index, org_test)\n",
    "#needs universe_id and setting"
   ]
  },
  {
   "cell_type": "code",
   "execution_count": 64,
   "id": "01d5802c-663a-4d1f-9d69-e036faaffbf7",
   "metadata": {
    "execution": {
     "iopub.execute_input": "2025-07-30T21:03:32.618469Z",
     "iopub.status.busy": "2025-07-30T21:03:32.617925Z",
     "iopub.status.idle": "2025-07-30T21:03:32.623059Z",
     "shell.execute_reply": "2025-07-30T21:03:32.622012Z"
    },
    "papermill": {
     "duration": 0.041863,
     "end_time": "2025-07-30T21:03:32.625125",
     "exception": false,
     "start_time": "2025-07-30T21:03:32.583262",
     "status": "completed"
    },
    "tags": []
   },
   "outputs": [],
   "source": [
    "#delete\n",
    "#cp_groups_df"
   ]
  },
  {
   "cell_type": "code",
   "execution_count": 65,
   "id": "fa424af1-d1eb-443d-b717-2d279ada8408",
   "metadata": {
    "execution": {
     "iopub.execute_input": "2025-07-30T21:03:32.683864Z",
     "iopub.status.busy": "2025-07-30T21:03:32.683226Z",
     "iopub.status.idle": "2025-07-30T21:03:32.688170Z",
     "shell.execute_reply": "2025-07-30T21:03:32.687292Z"
    },
    "papermill": {
     "duration": 0.033185,
     "end_time": "2025-07-30T21:03:32.689889",
     "exception": false,
     "start_time": "2025-07-30T21:03:32.656704",
     "status": "completed"
    },
    "tags": []
   },
   "outputs": [],
   "source": [
    "#delete\n",
    "#percentage = (cp_groups_df['nongerman_female'] == 1).mean() * 100\n",
    "#print(percentage)\n"
   ]
  },
  {
   "cell_type": "code",
   "execution_count": 66,
   "id": "6cbdab96-b2b2-45af-ad54-d0516db2e28d",
   "metadata": {
    "execution": {
     "iopub.execute_input": "2025-07-30T21:03:32.741800Z",
     "iopub.status.busy": "2025-07-30T21:03:32.741164Z",
     "iopub.status.idle": "2025-07-30T21:03:34.279449Z",
     "shell.execute_reply": "2025-07-30T21:03:34.278571Z"
    },
    "papermill": {
     "duration": 1.565547,
     "end_time": "2025-07-30T21:03:34.281371",
     "exception": false,
     "start_time": "2025-07-30T21:03:32.715824",
     "status": "completed"
    },
    "tags": []
   },
   "outputs": [],
   "source": [
    "# Define covered = 1 if true_label is in the predicted set\n",
    "cp_groups_df['covered'] = cp_groups_df.apply(\n",
    "    lambda r: int(r['true_label'] in r['pred_set']),\n",
    "    axis=1\n",
    ")"
   ]
  },
  {
   "cell_type": "code",
   "execution_count": 67,
   "id": "338ff529-1a6b-4b87-a931-8e4788d52aad",
   "metadata": {
    "execution": {
     "iopub.execute_input": "2025-07-30T21:03:34.335099Z",
     "iopub.status.busy": "2025-07-30T21:03:34.334441Z",
     "iopub.status.idle": "2025-07-30T21:03:34.339532Z",
     "shell.execute_reply": "2025-07-30T21:03:34.338627Z"
    },
    "papermill": {
     "duration": 0.033602,
     "end_time": "2025-07-30T21:03:34.341226",
     "exception": false,
     "start_time": "2025-07-30T21:03:34.307624",
     "status": "completed"
    },
    "tags": []
   },
   "outputs": [],
   "source": [
    "#cp_groups_df"
   ]
  },
  {
   "cell_type": "code",
   "execution_count": 68,
   "id": "90032e27-66df-4540-9169-4e89cfbaa758",
   "metadata": {
    "execution": {
     "iopub.execute_input": "2025-07-30T21:03:34.391919Z",
     "iopub.status.busy": "2025-07-30T21:03:34.391358Z",
     "iopub.status.idle": "2025-07-30T21:03:34.403213Z",
     "shell.execute_reply": "2025-07-30T21:03:34.402348Z"
    },
    "papermill": {
     "duration": 0.038655,
     "end_time": "2025-07-30T21:03:34.404835",
     "exception": false,
     "start_time": "2025-07-30T21:03:34.366180",
     "status": "completed"
    },
    "tags": []
   },
   "outputs": [],
   "source": [
    "subgroups = ['frau1','nongerman','nongerman_male','nongerman_female']\n",
    "\n",
    "# Conditional coverage for subgroup==1\n",
    "cond_coverage = {\n",
    "    g: cp_groups_df.loc[cp_groups_df[g]==1, 'covered'].mean()\n",
    "    for g in subgroups\n",
    "}"
   ]
  },
  {
   "cell_type": "code",
   "execution_count": 69,
   "id": "1e348fb1-b9c3-45bc-ba23-f016827a7e0d",
   "metadata": {
    "execution": {
     "iopub.execute_input": "2025-07-30T21:03:34.456051Z",
     "iopub.status.busy": "2025-07-30T21:03:34.455201Z",
     "iopub.status.idle": "2025-07-30T21:03:34.462217Z",
     "shell.execute_reply": "2025-07-30T21:03:34.461286Z"
    },
    "papermill": {
     "duration": 0.033876,
     "end_time": "2025-07-30T21:03:34.463847",
     "exception": false,
     "start_time": "2025-07-30T21:03:34.429971",
     "status": "completed"
    },
    "tags": []
   },
   "outputs": [
    {
     "data": {
      "text/plain": [
       "{'frau1': 0.9076425394257986,\n",
       " 'nongerman': 0.933419412788413,\n",
       " 'nongerman_male': 0.9466810771863461,\n",
       " 'nongerman_female': 0.9114754098360656}"
      ]
     },
     "execution_count": 69,
     "metadata": {},
     "output_type": "execute_result"
    }
   ],
   "source": [
    "cond_coverage"
   ]
  },
  {
   "cell_type": "code",
   "execution_count": 70,
   "id": "f5093324-c3dd-4d63-bc4c-8d945e5c8bbb",
   "metadata": {
    "execution": {
     "iopub.execute_input": "2025-07-30T21:03:34.517389Z",
     "iopub.status.busy": "2025-07-30T21:03:34.516854Z",
     "iopub.status.idle": "2025-07-30T21:03:34.523761Z",
     "shell.execute_reply": "2025-07-30T21:03:34.522739Z"
    },
    "papermill": {
     "duration": 0.035131,
     "end_time": "2025-07-30T21:03:34.525436",
     "exception": false,
     "start_time": "2025-07-30T21:03:34.490305",
     "status": "completed"
    },
    "tags": []
   },
   "outputs": [],
   "source": [
    "for subgroup, cov in cond_coverage.items():\n",
    "    cp_metrics_df[f\"cov_{subgroup}\"] = cov"
   ]
  },
  {
   "cell_type": "code",
   "execution_count": 71,
   "id": "6e872e10-dbe5-49e8-b554-5030c98ff75d",
   "metadata": {
    "execution": {
     "iopub.execute_input": "2025-07-30T21:03:34.579858Z",
     "iopub.status.busy": "2025-07-30T21:03:34.579187Z",
     "iopub.status.idle": "2025-07-30T21:03:34.598294Z",
     "shell.execute_reply": "2025-07-30T21:03:34.597181Z"
    },
    "papermill": {
     "duration": 0.047373,
     "end_time": "2025-07-30T21:03:34.599877",
     "exception": false,
     "start_time": "2025-07-30T21:03:34.552504",
     "status": "completed"
    },
    "tags": []
   },
   "outputs": [
    {
     "data": {
      "text/html": [
       "<div>\n",
       "<style scoped>\n",
       "    .dataframe tbody tr th:only-of-type {\n",
       "        vertical-align: middle;\n",
       "    }\n",
       "\n",
       "    .dataframe tbody tr th {\n",
       "        vertical-align: top;\n",
       "    }\n",
       "\n",
       "    .dataframe thead th {\n",
       "        text-align: right;\n",
       "    }\n",
       "</style>\n",
       "<table border=\"1\" class=\"dataframe\">\n",
       "  <thead>\n",
       "    <tr style=\"text-align: right;\">\n",
       "      <th></th>\n",
       "      <th>universe_id</th>\n",
       "      <th>universe_training_year</th>\n",
       "      <th>universe_training_size</th>\n",
       "      <th>universe_scale</th>\n",
       "      <th>universe_model</th>\n",
       "      <th>universe_exclude_features</th>\n",
       "      <th>universe_exclude_subgroups</th>\n",
       "      <th>q_hat</th>\n",
       "      <th>coverage</th>\n",
       "      <th>avg_size</th>\n",
       "      <th>cov_frau1</th>\n",
       "      <th>cov_nongerman</th>\n",
       "      <th>cov_nongerman_male</th>\n",
       "      <th>cov_nongerman_female</th>\n",
       "    </tr>\n",
       "  </thead>\n",
       "  <tbody>\n",
       "    <tr>\n",
       "      <th>0</th>\n",
       "      <td>e99b2c0c3c8e340e7ea2fabd83b1d30a</td>\n",
       "      <td>2012_14</td>\n",
       "      <td>5k</td>\n",
       "      <td>do-not-scale</td>\n",
       "      <td>logreg</td>\n",
       "      <td>nationality-sex</td>\n",
       "      <td>keep-all</td>\n",
       "      <td>0.684387</td>\n",
       "      <td>0.911537</td>\n",
       "      <td>1.20894</td>\n",
       "      <td>0.907643</td>\n",
       "      <td>0.933419</td>\n",
       "      <td>0.946681</td>\n",
       "      <td>0.911475</td>\n",
       "    </tr>\n",
       "  </tbody>\n",
       "</table>\n",
       "</div>"
      ],
      "text/plain": [
       "                        universe_id universe_training_year  \\\n",
       "0  e99b2c0c3c8e340e7ea2fabd83b1d30a                2012_14   \n",
       "\n",
       "  universe_training_size universe_scale universe_model  \\\n",
       "0                     5k   do-not-scale         logreg   \n",
       "\n",
       "  universe_exclude_features universe_exclude_subgroups     q_hat  coverage  \\\n",
       "0           nationality-sex                   keep-all  0.684387  0.911537   \n",
       "\n",
       "   avg_size  cov_frau1  cov_nongerman  cov_nongerman_male  \\\n",
       "0   1.20894   0.907643       0.933419            0.946681   \n",
       "\n",
       "   cov_nongerman_female  \n",
       "0              0.911475  "
      ]
     },
     "execution_count": 71,
     "metadata": {},
     "output_type": "execute_result"
    }
   ],
   "source": [
    "cp_metrics_df"
   ]
  },
  {
   "cell_type": "markdown",
   "id": "33774451",
   "metadata": {
    "papermill": {
     "duration": 0.024123,
     "end_time": "2025-07-30T21:03:34.650130",
     "exception": false,
     "start_time": "2025-07-30T21:03:34.626007",
     "status": "completed"
    },
    "tags": []
   },
   "source": [
    "# (Fairness) Metrics"
   ]
  },
  {
   "cell_type": "code",
   "execution_count": 72,
   "id": "debc5d62",
   "metadata": {
    "execution": {
     "iopub.execute_input": "2025-07-30T21:03:34.702395Z",
     "iopub.status.busy": "2025-07-30T21:03:34.701810Z",
     "iopub.status.idle": "2025-07-30T21:03:34.722635Z",
     "shell.execute_reply": "2025-07-30T21:03:34.721624Z"
    },
    "papermill": {
     "duration": 0.049746,
     "end_time": "2025-07-30T21:03:34.724563",
     "exception": false,
     "start_time": "2025-07-30T21:03:34.674817",
     "status": "completed"
    },
    "tags": []
   },
   "outputs": [],
   "source": [
    "# do I need to include maxdeutsch1.missing?\n",
    "\n",
    "import numpy as np\n",
    "\n",
    "colname_to_bin = \"maxdeutsch1\"\n",
    "majority_value = org_train[colname_to_bin].mode()[0]\n",
    "\n",
    "org_test[\"majmin\"] = np.where(org_test[colname_to_bin] == majority_value, \"majority\", \"minority\")"
   ]
  },
  {
   "cell_type": "code",
   "execution_count": 73,
   "id": "06a50de5",
   "metadata": {
    "execution": {
     "iopub.execute_input": "2025-07-30T21:03:34.779123Z",
     "iopub.status.busy": "2025-07-30T21:03:34.778611Z",
     "iopub.status.idle": "2025-07-30T21:03:37.519206Z",
     "shell.execute_reply": "2025-07-30T21:03:37.518100Z"
    },
    "papermill": {
     "duration": 2.770091,
     "end_time": "2025-07-30T21:03:37.521778",
     "exception": false,
     "start_time": "2025-07-30T21:03:34.751687",
     "status": "completed"
    },
    "tags": []
   },
   "outputs": [],
   "source": [
    "example_universe = universe.copy()\n",
    "example_universe[\"cutoff\"] = example_universe[\"cutoff\"][0]\n",
    "example_universe[\"eval_fairness_grouping\"] = example_universe[\"eval_fairness_grouping\"][0]\n",
    "fairness_dict, metric_frame = universe_analysis.compute_metrics(\n",
    "    example_universe,\n",
    "    y_pred_prob=probs_test,\n",
    "    y_test=y_true,\n",
    "    org_test=org_test,\n",
    ")"
   ]
  },
  {
   "cell_type": "markdown",
   "id": "f95d4e02",
   "metadata": {
    "papermill": {
     "duration": 0.038473,
     "end_time": "2025-07-30T21:03:37.601400",
     "exception": false,
     "start_time": "2025-07-30T21:03:37.562927",
     "status": "completed"
    },
    "tags": []
   },
   "source": [
    "# Overall"
   ]
  },
  {
   "cell_type": "markdown",
   "id": "bdee4871",
   "metadata": {
    "papermill": {
     "duration": 0.038789,
     "end_time": "2025-07-30T21:03:37.678443",
     "exception": false,
     "start_time": "2025-07-30T21:03:37.639654",
     "status": "completed"
    },
    "tags": []
   },
   "source": [
    "Fairness\n",
    "Main fairness target: Equalized Odds. Seems to be a better fit than equal opportunity, since we're not only interested in Y = 1. Seems to be a better fit than demographic parity, since we also care about accuracy, not just equal distribution of preds.\n",
    "\n",
    "Pick column for computation of fairness metrics\n",
    "\n",
    "Performance\n",
    "Overall performance measures, most interesting in relation to the measures split by group below"
   ]
  },
  {
   "cell_type": "code",
   "execution_count": 74,
   "id": "c4e067c6",
   "metadata": {
    "execution": {
     "iopub.execute_input": "2025-07-30T21:03:37.757039Z",
     "iopub.status.busy": "2025-07-30T21:03:37.755906Z",
     "iopub.status.idle": "2025-07-30T21:03:37.766197Z",
     "shell.execute_reply": "2025-07-30T21:03:37.764975Z"
    },
    "papermill": {
     "duration": 0.052099,
     "end_time": "2025-07-30T21:03:37.768537",
     "exception": false,
     "start_time": "2025-07-30T21:03:37.716438",
     "status": "completed"
    },
    "tags": []
   },
   "outputs": [
    {
     "data": {
      "text/plain": [
       "accuracy                   0.218493\n",
       "balanced accuracy          0.535477\n",
       "f1                         0.239986\n",
       "precision                  0.137096\n",
       "false positive rate        0.890898\n",
       "false negative rate        0.038147\n",
       "selection rate             0.900000\n",
       "count                  89710.000000\n",
       "dtype: float64"
      ]
     },
     "execution_count": 74,
     "metadata": {},
     "output_type": "execute_result"
    }
   ],
   "source": [
    "metric_frame.overall"
   ]
  },
  {
   "cell_type": "markdown",
   "id": "e968fe9d",
   "metadata": {
    "papermill": {
     "duration": 0.039107,
     "end_time": "2025-07-30T21:03:37.846959",
     "exception": false,
     "start_time": "2025-07-30T21:03:37.807852",
     "status": "completed"
    },
    "tags": []
   },
   "source": [
    "By Group"
   ]
  },
  {
   "cell_type": "code",
   "execution_count": 75,
   "id": "ec325bce",
   "metadata": {
    "execution": {
     "iopub.execute_input": "2025-07-30T21:03:37.926844Z",
     "iopub.status.busy": "2025-07-30T21:03:37.926340Z",
     "iopub.status.idle": "2025-07-30T21:03:37.943312Z",
     "shell.execute_reply": "2025-07-30T21:03:37.942135Z"
    },
    "papermill": {
     "duration": 0.058926,
     "end_time": "2025-07-30T21:03:37.945174",
     "exception": false,
     "start_time": "2025-07-30T21:03:37.886248",
     "status": "completed"
    },
    "tags": []
   },
   "outputs": [
    {
     "data": {
      "text/html": [
       "<div>\n",
       "<style scoped>\n",
       "    .dataframe tbody tr th:only-of-type {\n",
       "        vertical-align: middle;\n",
       "    }\n",
       "\n",
       "    .dataframe tbody tr th {\n",
       "        vertical-align: top;\n",
       "    }\n",
       "\n",
       "    .dataframe thead th {\n",
       "        text-align: right;\n",
       "    }\n",
       "</style>\n",
       "<table border=\"1\" class=\"dataframe\">\n",
       "  <thead>\n",
       "    <tr style=\"text-align: right;\">\n",
       "      <th></th>\n",
       "      <th>accuracy</th>\n",
       "      <th>balanced accuracy</th>\n",
       "      <th>f1</th>\n",
       "      <th>precision</th>\n",
       "      <th>false positive rate</th>\n",
       "      <th>false negative rate</th>\n",
       "      <th>selection rate</th>\n",
       "      <th>count</th>\n",
       "    </tr>\n",
       "    <tr>\n",
       "      <th>majmin</th>\n",
       "      <th></th>\n",
       "      <th></th>\n",
       "      <th></th>\n",
       "      <th></th>\n",
       "      <th></th>\n",
       "      <th></th>\n",
       "      <th></th>\n",
       "      <th></th>\n",
       "    </tr>\n",
       "  </thead>\n",
       "  <tbody>\n",
       "    <tr>\n",
       "      <th>majority</th>\n",
       "      <td>0.240292</td>\n",
       "      <td>0.543528</td>\n",
       "      <td>0.249504</td>\n",
       "      <td>0.143481</td>\n",
       "      <td>0.868632</td>\n",
       "      <td>0.044311</td>\n",
       "      <td>0.880136</td>\n",
       "      <td>69170.0</td>\n",
       "    </tr>\n",
       "    <tr>\n",
       "      <th>minority</th>\n",
       "      <td>0.145083</td>\n",
       "      <td>0.510596</td>\n",
       "      <td>0.210005</td>\n",
       "      <td>0.117523</td>\n",
       "      <td>0.964451</td>\n",
       "      <td>0.014358</td>\n",
       "      <td>0.966894</td>\n",
       "      <td>20540.0</td>\n",
       "    </tr>\n",
       "  </tbody>\n",
       "</table>\n",
       "</div>"
      ],
      "text/plain": [
       "          accuracy  balanced accuracy        f1  precision  \\\n",
       "majmin                                                       \n",
       "majority  0.240292           0.543528  0.249504   0.143481   \n",
       "minority  0.145083           0.510596  0.210005   0.117523   \n",
       "\n",
       "          false positive rate  false negative rate  selection rate    count  \n",
       "majmin                                                                       \n",
       "majority             0.868632             0.044311        0.880136  69170.0  \n",
       "minority             0.964451             0.014358        0.966894  20540.0  "
      ]
     },
     "execution_count": 75,
     "metadata": {},
     "output_type": "execute_result"
    }
   ],
   "source": [
    "metric_frame.by_group"
   ]
  },
  {
   "cell_type": "code",
   "execution_count": 76,
   "id": "a9ddbe63",
   "metadata": {
    "execution": {
     "iopub.execute_input": "2025-07-30T21:03:38.000287Z",
     "iopub.status.busy": "2025-07-30T21:03:37.999573Z",
     "iopub.status.idle": "2025-07-30T21:03:40.093759Z",
     "shell.execute_reply": "2025-07-30T21:03:40.092717Z"
    },
    "papermill": {
     "duration": 2.123625,
     "end_time": "2025-07-30T21:03:40.095419",
     "exception": false,
     "start_time": "2025-07-30T21:03:37.971794",
     "status": "completed"
    },
    "tags": []
   },
   "outputs": [
    {
     "data": {
      "text/plain": [
       "array([[<Axes: title={'center': 'accuracy'}, xlabel='majmin'>,\n",
       "        <Axes: title={'center': 'balanced accuracy'}, xlabel='majmin'>,\n",
       "        <Axes: title={'center': 'f1'}, xlabel='majmin'>],\n",
       "       [<Axes: title={'center': 'precision'}, xlabel='majmin'>,\n",
       "        <Axes: title={'center': 'false positive rate'}, xlabel='majmin'>,\n",
       "        <Axes: title={'center': 'false negative rate'}, xlabel='majmin'>],\n",
       "       [<Axes: title={'center': 'selection rate'}, xlabel='majmin'>,\n",
       "        <Axes: title={'center': 'count'}, xlabel='majmin'>,\n",
       "        <Axes: xlabel='majmin'>]], dtype=object)"
      ]
     },
     "execution_count": 76,
     "metadata": {},
     "output_type": "execute_result"
    },
    {
     "data": {
      "image/png": "[encoded data removed]",
      "text/plain": [
       "<Figure size 1200x800 with 9 Axes>"
      ]
     },
     "metadata": {},
     "output_type": "display_data"
    }
   ],
   "source": [
    "# In a graphic\n",
    "metric_frame.by_group.plot.bar(\n",
    "    subplots=True,\n",
    "    layout=[3, 3],\n",
    "    legend=False,\n",
    "    figsize=[12, 8],\n",
    "    title=\"Show all metrics\",\n",
    ")"
   ]
  },
  {
   "cell_type": "markdown",
   "id": "f57a0bac",
   "metadata": {
    "papermill": {
     "duration": 0.015018,
     "end_time": "2025-07-30T21:03:40.126769",
     "exception": false,
     "start_time": "2025-07-30T21:03:40.111751",
     "status": "completed"
    },
    "tags": []
   },
   "source": [
    "# Final Output"
   ]
  },
  {
   "cell_type": "code",
   "execution_count": 77,
   "id": "96d280a3",
   "metadata": {
    "execution": {
     "iopub.execute_input": "2025-07-30T21:03:40.160876Z",
     "iopub.status.busy": "2025-07-30T21:03:40.160403Z",
     "iopub.status.idle": "2025-07-30T21:03:40.167037Z",
     "shell.execute_reply": "2025-07-30T21:03:40.166217Z"
    },
    "papermill": {
     "duration": 0.025939,
     "end_time": "2025-07-30T21:03:40.168379",
     "exception": false,
     "start_time": "2025-07-30T21:03:40.142440",
     "status": "completed"
    },
    "tags": []
   },
   "outputs": [
    {
     "data": {
      "text/plain": [
       "4"
      ]
     },
     "execution_count": 77,
     "metadata": {},
     "output_type": "execute_result"
    }
   ],
   "source": [
    "sub_universes = universe_analysis.generate_sub_universes()\n",
    "len(sub_universes)"
   ]
  },
  {
   "cell_type": "code",
   "execution_count": 78,
   "id": "92adf7ba",
   "metadata": {
    "execution": {
     "iopub.execute_input": "2025-07-30T21:03:40.206448Z",
     "iopub.status.busy": "2025-07-30T21:03:40.206075Z",
     "iopub.status.idle": "2025-07-30T21:03:40.213425Z",
     "shell.execute_reply": "2025-07-30T21:03:40.212080Z"
    },
    "papermill": {
     "duration": 0.029823,
     "end_time": "2025-07-30T21:03:40.215032",
     "exception": false,
     "start_time": "2025-07-30T21:03:40.185209",
     "status": "completed"
    },
    "tags": []
   },
   "outputs": [],
   "source": [
    "def filter_sub_universe_data(sub_universe, org_test):\n",
    "    # Keep all rows — no filtering\n",
    "    keep_rows_mask = np.ones(org_test.shape[0], dtype=bool)\n",
    "\n",
    "    print(f\"[INFO] Keeping all rows: {keep_rows_mask.sum()} rows retained.\")\n",
    "    return keep_rows_mask"
   ]
  },
  {
   "cell_type": "code",
   "execution_count": 79,
   "id": "4a759155",
   "metadata": {
    "execution": {
     "iopub.execute_input": "2025-07-30T21:03:40.272789Z",
     "iopub.status.busy": "2025-07-30T21:03:40.272493Z",
     "iopub.status.idle": "2025-07-30T21:03:50.760680Z",
     "shell.execute_reply": "2025-07-30T21:03:50.759558Z"
    },
    "papermill": {
     "duration": 10.51884,
     "end_time": "2025-07-30T21:03:50.762330",
     "exception": false,
     "start_time": "2025-07-30T21:03:40.243490",
     "status": "completed"
    },
    "tags": []
   },
   "outputs": [
    {
     "name": "stdout",
     "output_type": "stream",
     "text": [
      "Stopping execution_time clock.\n",
      "[INFO] Keeping all rows: 89710 rows retained.\n"
     ]
    },
    {
     "name": "stdout",
     "output_type": "stream",
     "text": [
      "[INFO] Keeping all rows: 89710 rows retained.\n"
     ]
    },
    {
     "name": "stdout",
     "output_type": "stream",
     "text": [
      "[INFO] Keeping all rows: 89710 rows retained.\n"
     ]
    },
    {
     "name": "stdout",
     "output_type": "stream",
     "text": [
      "[INFO] Keeping all rows: 89710 rows retained.\n"
     ]
    },
    {
     "data": {
      "text/html": [
       "<div>\n",
       "<style scoped>\n",
       "    .dataframe tbody tr th:only-of-type {\n",
       "        vertical-align: middle;\n",
       "    }\n",
       "\n",
       "    .dataframe tbody tr th {\n",
       "        vertical-align: top;\n",
       "    }\n",
       "\n",
       "    .dataframe thead th {\n",
       "        text-align: right;\n",
       "    }\n",
       "</style>\n",
       "<table border=\"1\" class=\"dataframe\">\n",
       "  <thead>\n",
       "    <tr style=\"text-align: right;\">\n",
       "      <th></th>\n",
       "      <th>run_no</th>\n",
       "      <th>universe_id</th>\n",
       "      <th>universe_settings</th>\n",
       "      <th>execution_time</th>\n",
       "      <th>test_size_n</th>\n",
       "      <th>test_size_frac</th>\n",
       "      <th>fair_main_equalized_odds_difference</th>\n",
       "      <th>fair_main_equalized_odds_ratio</th>\n",
       "      <th>fair_main_demographic_parity_difference</th>\n",
       "      <th>fair_main_demographic_parity_ratio</th>\n",
       "      <th>...</th>\n",
       "      <th>perf_grp_precision_0</th>\n",
       "      <th>perf_grp_precision_1</th>\n",
       "      <th>perf_grp_false positive rate_0</th>\n",
       "      <th>perf_grp_false positive rate_1</th>\n",
       "      <th>perf_grp_false negative rate_0</th>\n",
       "      <th>perf_grp_false negative rate_1</th>\n",
       "      <th>perf_grp_selection rate_0</th>\n",
       "      <th>perf_grp_selection rate_1</th>\n",
       "      <th>perf_grp_count_0</th>\n",
       "      <th>perf_grp_count_1</th>\n",
       "    </tr>\n",
       "  </thead>\n",
       "  <tbody>\n",
       "    <tr>\n",
       "      <th>0</th>\n",
       "      <td>14</td>\n",
       "      <td>e99b2c0c3c8e340e7ea2fabd83b1d30a</td>\n",
       "      <td>{\"cutoff\": \"quantile_0.1\", \"eval_fairness_grou...</td>\n",
       "      <td>27.54108</td>\n",
       "      <td>89710</td>\n",
       "      <td>1.0</td>\n",
       "      <td>0.095818</td>\n",
       "      <td>0.900650</td>\n",
       "      <td>0.086758</td>\n",
       "      <td>0.910271</td>\n",
       "      <td>...</td>\n",
       "      <td>NaN</td>\n",
       "      <td>NaN</td>\n",
       "      <td>NaN</td>\n",
       "      <td>NaN</td>\n",
       "      <td>NaN</td>\n",
       "      <td>NaN</td>\n",
       "      <td>NaN</td>\n",
       "      <td>NaN</td>\n",
       "      <td>NaN</td>\n",
       "      <td>NaN</td>\n",
       "    </tr>\n",
       "    <tr>\n",
       "      <th>0</th>\n",
       "      <td>14</td>\n",
       "      <td>e99b2c0c3c8e340e7ea2fabd83b1d30a</td>\n",
       "      <td>{\"cutoff\": \"quantile_0.1\", \"eval_fairness_grou...</td>\n",
       "      <td>27.54108</td>\n",
       "      <td>89710</td>\n",
       "      <td>1.0</td>\n",
       "      <td>0.095818</td>\n",
       "      <td>0.900650</td>\n",
       "      <td>0.086758</td>\n",
       "      <td>0.910271</td>\n",
       "      <td>...</td>\n",
       "      <td>0.117523</td>\n",
       "      <td>0.143481</td>\n",
       "      <td>0.964451</td>\n",
       "      <td>0.868632</td>\n",
       "      <td>0.014358</td>\n",
       "      <td>0.044311</td>\n",
       "      <td>0.966894</td>\n",
       "      <td>0.880136</td>\n",
       "      <td>20540.0</td>\n",
       "      <td>69170.0</td>\n",
       "    </tr>\n",
       "    <tr>\n",
       "      <th>0</th>\n",
       "      <td>14</td>\n",
       "      <td>e99b2c0c3c8e340e7ea2fabd83b1d30a</td>\n",
       "      <td>{\"cutoff\": \"quantile_0.25\", \"eval_fairness_gro...</td>\n",
       "      <td>27.54108</td>\n",
       "      <td>89710</td>\n",
       "      <td>1.0</td>\n",
       "      <td>0.218661</td>\n",
       "      <td>0.756779</td>\n",
       "      <td>0.200359</td>\n",
       "      <td>0.778482</td>\n",
       "      <td>...</td>\n",
       "      <td>NaN</td>\n",
       "      <td>NaN</td>\n",
       "      <td>NaN</td>\n",
       "      <td>NaN</td>\n",
       "      <td>NaN</td>\n",
       "      <td>NaN</td>\n",
       "      <td>NaN</td>\n",
       "      <td>NaN</td>\n",
       "      <td>NaN</td>\n",
       "      <td>NaN</td>\n",
       "    </tr>\n",
       "    <tr>\n",
       "      <th>0</th>\n",
       "      <td>14</td>\n",
       "      <td>e99b2c0c3c8e340e7ea2fabd83b1d30a</td>\n",
       "      <td>{\"cutoff\": \"quantile_0.25\", \"eval_fairness_gro...</td>\n",
       "      <td>27.54108</td>\n",
       "      <td>89710</td>\n",
       "      <td>1.0</td>\n",
       "      <td>0.218661</td>\n",
       "      <td>0.756779</td>\n",
       "      <td>0.200359</td>\n",
       "      <td>0.778482</td>\n",
       "      <td>...</td>\n",
       "      <td>0.120627</td>\n",
       "      <td>0.161424</td>\n",
       "      <td>0.899020</td>\n",
       "      <td>0.680360</td>\n",
       "      <td>0.053632</td>\n",
       "      <td>0.139825</td>\n",
       "      <td>0.904479</td>\n",
       "      <td>0.704120</td>\n",
       "      <td>20540.0</td>\n",
       "      <td>69170.0</td>\n",
       "    </tr>\n",
       "  </tbody>\n",
       "</table>\n",
       "<p>4 rows × 50 columns</p>\n",
       "</div>"
      ],
      "text/plain": [
       "  run_no                       universe_id  \\\n",
       "0     14  e99b2c0c3c8e340e7ea2fabd83b1d30a   \n",
       "0     14  e99b2c0c3c8e340e7ea2fabd83b1d30a   \n",
       "0     14  e99b2c0c3c8e340e7ea2fabd83b1d30a   \n",
       "0     14  e99b2c0c3c8e340e7ea2fabd83b1d30a   \n",
       "\n",
       "                                   universe_settings  execution_time  \\\n",
       "0  {\"cutoff\": \"quantile_0.1\", \"eval_fairness_grou...        27.54108   \n",
       "0  {\"cutoff\": \"quantile_0.1\", \"eval_fairness_grou...        27.54108   \n",
       "0  {\"cutoff\": \"quantile_0.25\", \"eval_fairness_gro...        27.54108   \n",
       "0  {\"cutoff\": \"quantile_0.25\", \"eval_fairness_gro...        27.54108   \n",
       "\n",
       "   test_size_n  test_size_frac  fair_main_equalized_odds_difference  \\\n",
       "0        89710             1.0                             0.095818   \n",
       "0        89710             1.0                             0.095818   \n",
       "0        89710             1.0                             0.218661   \n",
       "0        89710             1.0                             0.218661   \n",
       "\n",
       "   fair_main_equalized_odds_ratio  fair_main_demographic_parity_difference  \\\n",
       "0                        0.900650                                 0.086758   \n",
       "0                        0.900650                                 0.086758   \n",
       "0                        0.756779                                 0.200359   \n",
       "0                        0.756779                                 0.200359   \n",
       "\n",
       "   fair_main_demographic_parity_ratio  ...  perf_grp_precision_0  \\\n",
       "0                            0.910271  ...                   NaN   \n",
       "0                            0.910271  ...              0.117523   \n",
       "0                            0.778482  ...                   NaN   \n",
       "0                            0.778482  ...              0.120627   \n",
       "\n",
       "   perf_grp_precision_1  perf_grp_false positive rate_0  \\\n",
       "0                   NaN                             NaN   \n",
       "0              0.143481                        0.964451   \n",
       "0                   NaN                             NaN   \n",
       "0              0.161424                        0.899020   \n",
       "\n",
       "   perf_grp_false positive rate_1  perf_grp_false negative rate_0  \\\n",
       "0                             NaN                             NaN   \n",
       "0                        0.868632                        0.014358   \n",
       "0                             NaN                             NaN   \n",
       "0                        0.680360                        0.053632   \n",
       "\n",
       "   perf_grp_false negative rate_1  perf_grp_selection rate_0  \\\n",
       "0                             NaN                        NaN   \n",
       "0                        0.044311                   0.966894   \n",
       "0                             NaN                        NaN   \n",
       "0                        0.139825                   0.904479   \n",
       "\n",
       "   perf_grp_selection rate_1  perf_grp_count_0  perf_grp_count_1  \n",
       "0                        NaN               NaN               NaN  \n",
       "0                   0.880136           20540.0           69170.0  \n",
       "0                        NaN               NaN               NaN  \n",
       "0                   0.704120           20540.0           69170.0  \n",
       "\n",
       "[4 rows x 50 columns]"
      ]
     },
     "execution_count": 79,
     "metadata": {},
     "output_type": "execute_result"
    }
   ],
   "source": [
    "final_output = universe_analysis.generate_final_output(\n",
    "    y_pred_prob=probs_test,\n",
    "    y_test=y_true,\n",
    "    org_test=org_test,\n",
    "    filter_data=filter_sub_universe_data,\n",
    "    cp_metrics_df=cp_metrics_df,\n",
    "    save=True,\n",
    ")\n",
    "final_output"
   ]
  },
  {
   "cell_type": "code",
   "execution_count": null,
   "id": "721ff514-cb11-46f8-b6fc-50392f74b5cb",
   "metadata": {
    "papermill": {
     "duration": 0.03023,
     "end_time": "2025-07-30T21:03:50.825793",
     "exception": false,
     "start_time": "2025-07-30T21:03:50.795563",
     "status": "completed"
    },
    "tags": []
   },
   "outputs": [],
   "source": []
  }
 ],
 "metadata": {
  "celltoolbar": "Tags",
  "kernelspec": {
   "display_name": "Python (CMA Fairness)",
   "language": "python",
   "name": "cma_fair_env"
  },
  "language_info": {
   "codemirror_mode": {
    "name": "ipython",
    "version": 3
   },
   "file_extension": ".py",
   "mimetype": "text/x-python",
   "name": "python",
   "nbconvert_exporter": "python",
   "pygments_lexer": "ipython3",
   "version": "3.10.12"
  },
  "papermill": {
   "default_parameters": {},
   "duration": 41.982711,
   "end_time": "2025-07-30T21:03:51.574829",
   "environment_variables": {},
   "exception": null,
   "input_path": "universe_analysis.ipynb",
   "output_path": "output/runs/14/notebooks/m_14-e99b2c0c3c8e340e7ea2fabd83b1d30a.ipynb",
   "parameters": {
    "output_dir": "output",
    "run_no": "14",
    "seed": "2023",
    "universe": "{\"cutoff\": [\"quantile_0.1\", \"quantile_0.25\"], \"eval_fairness_grouping\": [\"majority-minority\", \"nationality-all\"], \"exclude_features\": \"nationality-sex\", \"exclude_subgroups\": \"keep-all\", \"model\": \"logreg\", \"scale\": \"do-not-scale\", \"training_size\": \"5k\", \"training_year\": \"2012_14\"}",
    "universe_id": "e99b2c0c3c8e340e7ea2fabd83b1d30a"
   },
   "start_time": "2025-07-30T21:03:09.592118",
   "version": "2.6.0"
  }
 },
 "nbformat": 4,
 "nbformat_minor": 5
}