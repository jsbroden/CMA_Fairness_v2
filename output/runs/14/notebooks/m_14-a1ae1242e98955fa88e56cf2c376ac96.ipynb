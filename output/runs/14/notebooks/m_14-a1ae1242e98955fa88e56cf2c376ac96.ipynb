{
 "cells": [
  {
   "cell_type": "code",
   "execution_count": 1,
   "id": "f159f837-637b-42ba-96b5-ec9a68c44524",
   "metadata": {
    "execution": {
     "iopub.execute_input": "2025-07-30T21:29:30.659253Z",
     "iopub.status.busy": "2025-07-30T21:29:30.658859Z",
     "iopub.status.idle": "2025-07-30T21:29:30.671860Z",
     "shell.execute_reply": "2025-07-30T21:29:30.670776Z"
    },
    "papermill": {
     "duration": 0.050627,
     "end_time": "2025-07-30T21:29:30.673434",
     "exception": false,
     "start_time": "2025-07-30T21:29:30.622807",
     "status": "completed"
    },
    "tags": []
   },
   "outputs": [
    {
     "name": "stdout",
     "output_type": "stream",
     "text": [
      "/dss/dsshome1/0C/ra93lal2/cma/CMA_Fairness_v2\n"
     ]
    },
    {
     "name": "stderr",
     "output_type": "stream",
     "text": [
      "/dss/dsshome1/0C/ra93lal2/.local/share/virtualenvs/CMA_Fairness_v2-3j10GkSs/lib/python3.10/site-packages/IPython/core/magics/osm.py:393: UserWarning: This is now an optional IPython functionality, using bookmarks requires you to install the `pickleshare` library.\n",
      "  bkms = self.shell.db.get('bookmarks', {})\n",
      "/dss/dsshome1/0C/ra93lal2/.local/share/virtualenvs/CMA_Fairness_v2-3j10GkSs/lib/python3.10/site-packages/IPython/core/magics/osm.py:417: UserWarning: This is now an optional IPython functionality, setting dhist requires you to install the `pickleshare` library.\n",
      "  self.shell.db['dhist'] = compress_dhist(dhist)[-100:]\n"
     ]
    }
   ],
   "source": [
    "%cd ~/cma/CMA_Fairness_v2"
   ]
  },
  {
   "cell_type": "markdown",
   "id": "de2603b9",
   "metadata": {
    "papermill": {
     "duration": 0.020896,
     "end_time": "2025-07-30T21:29:30.716124",
     "exception": false,
     "start_time": "2025-07-30T21:29:30.695228",
     "status": "completed"
    },
    "tags": []
   },
   "source": [
    "The following cell holds the definition of our parameters, these values can be overriden by rendering the with e.g. the following command:\n",
    "\n",
    "papermill -p alpha 0.2 -p ratio 0.3 universe_analysis.ipynb output/test_run.ipynb"
   ]
  },
  {
   "cell_type": "code",
   "execution_count": 2,
   "id": "a80968a0-40bb-4fa9-85ef-2d5eefb01975",
   "metadata": {
    "execution": {
     "iopub.execute_input": "2025-07-30T21:29:30.742605Z",
     "iopub.status.busy": "2025-07-30T21:29:30.742252Z",
     "iopub.status.idle": "2025-07-30T21:29:30.747115Z",
     "shell.execute_reply": "2025-07-30T21:29:30.746312Z"
    },
    "papermill": {
     "duration": 0.01745,
     "end_time": "2025-07-30T21:29:30.748679",
     "exception": false,
     "start_time": "2025-07-30T21:29:30.731229",
     "status": "completed"
    },
    "tags": []
   },
   "outputs": [
    {
     "name": "stdout",
     "output_type": "stream",
     "text": [
      "Current working directory: /dss/dsshome1/0C/ra93lal2/cma/CMA_Fairness_v2\n"
     ]
    }
   ],
   "source": [
    "import os\n",
    "print(\"Current working directory:\", os.getcwd())"
   ]
  },
  {
   "cell_type": "code",
   "execution_count": 3,
   "id": "2dce4c03",
   "metadata": {
    "execution": {
     "iopub.execute_input": "2025-07-30T21:29:30.772127Z",
     "iopub.status.busy": "2025-07-30T21:29:30.771765Z",
     "iopub.status.idle": "2025-07-30T21:29:30.776786Z",
     "shell.execute_reply": "2025-07-30T21:29:30.775651Z"
    },
    "papermill": {
     "duration": 0.018175,
     "end_time": "2025-07-30T21:29:30.778610",
     "exception": false,
     "start_time": "2025-07-30T21:29:30.760435",
     "status": "completed"
    },
    "tags": [
     "parameters"
    ]
   },
   "outputs": [],
   "source": [
    "run_no = 0\n",
    "universe_id = \"test\"\n",
    "universe = {\n",
    "    \"training_size\": \"25k\", # \"25k\", \"5k\", \"1k\"\n",
    "    \"training_year\": \"2014\", # \"2014\", \"2012_14\", \"2010_14\"\n",
    "    \"scale\": \"scale\", # \"scale\", \"do-not-scale\",\n",
    "    #\"stratify_split\": \"target\", # \"none\", \"target\", \"protected-attribute\", \"both\",\n",
    "    \"model\": \"elasticnet\", # \"logreg\", \"penalized_logreg\", \"rf\", \"gbm\", \"elasticnet\"\n",
    "    \"cutoff\": [\"quantile_0.15\", \"quantile_0.30\"],\n",
    "    \"exclude_features\": \"age\", # \"none\", \"nationality\", \"sex\", \"nationality-sex\", \"age\"\n",
    "    \"exclude_subgroups\": \"keep-all\", # \"keep-all\", \"drop-non-german\"\n",
    "    \"eval_fairness_grouping\": [\"majority-minority\", \"nationality-all\"]\n",
    "}\n",
    "\n",
    "output_dir=\"./output\"\n",
    "seed=0"
   ]
  },
  {
   "cell_type": "code",
   "execution_count": 4,
   "id": "6c9950ed",
   "metadata": {
    "execution": {
     "iopub.execute_input": "2025-07-30T21:29:30.803296Z",
     "iopub.status.busy": "2025-07-30T21:29:30.802919Z",
     "iopub.status.idle": "2025-07-30T21:29:30.808162Z",
     "shell.execute_reply": "2025-07-30T21:29:30.807188Z"
    },
    "papermill": {
     "duration": 0.018323,
     "end_time": "2025-07-30T21:29:30.809868",
     "exception": false,
     "start_time": "2025-07-30T21:29:30.791545",
     "status": "completed"
    },
    "tags": [
     "injected-parameters"
    ]
   },
   "outputs": [],
   "source": [
    "# Parameters\n",
    "universe_id = \"a1ae1242e98955fa88e56cf2c376ac96\"\n",
    "run_no = \"14\"\n",
    "universe = \"{\\\"cutoff\\\": [\\\"quantile_0.1\\\", \\\"quantile_0.25\\\"], \\\"eval_fairness_grouping\\\": [\\\"majority-minority\\\", \\\"nationality-all\\\"], \\\"exclude_features\\\": \\\"sex\\\", \\\"exclude_subgroups\\\": \\\"keep-all\\\", \\\"model\\\": \\\"rf\\\", \\\"scale\\\": \\\"do-not-scale\\\", \\\"training_size\\\": \\\"1k\\\", \\\"training_year\\\": \\\"2014\\\"}\"\n",
    "output_dir = \"output\"\n",
    "seed = \"2023\"\n"
   ]
  },
  {
   "cell_type": "code",
   "execution_count": 5,
   "id": "1650acaf",
   "metadata": {
    "execution": {
     "iopub.execute_input": "2025-07-30T21:29:30.838746Z",
     "iopub.status.busy": "2025-07-30T21:29:30.838318Z",
     "iopub.status.idle": "2025-07-30T21:29:30.842443Z",
     "shell.execute_reply": "2025-07-30T21:29:30.841485Z"
    },
    "papermill": {
     "duration": 0.017078,
     "end_time": "2025-07-30T21:29:30.844364",
     "exception": false,
     "start_time": "2025-07-30T21:29:30.827286",
     "status": "completed"
    },
    "tags": []
   },
   "outputs": [],
   "source": [
    "import json\n",
    "# Parse universe into dict if it is passed as a string\n",
    "if isinstance(universe, str):\n",
    "    universe = json.loads(universe)"
   ]
  },
  {
   "cell_type": "code",
   "execution_count": 6,
   "id": "16620c48",
   "metadata": {
    "execution": {
     "iopub.execute_input": "2025-07-30T21:29:30.886220Z",
     "iopub.status.busy": "2025-07-30T21:29:30.885839Z",
     "iopub.status.idle": "2025-07-30T21:29:30.931503Z",
     "shell.execute_reply": "2025-07-30T21:29:30.930552Z"
    },
    "papermill": {
     "duration": 0.068453,
     "end_time": "2025-07-30T21:29:30.933578",
     "exception": false,
     "start_time": "2025-07-30T21:29:30.865125",
     "status": "completed"
    },
    "tags": []
   },
   "outputs": [],
   "source": [
    "# Auto-reload the custom package\n",
    "%load_ext autoreload\n",
    "%autoreload 1\n",
    "%aimport fairness_multiverse"
   ]
  },
  {
   "cell_type": "code",
   "execution_count": 7,
   "id": "01c5c9f3",
   "metadata": {
    "execution": {
     "iopub.execute_input": "2025-07-30T21:29:30.978750Z",
     "iopub.status.busy": "2025-07-30T21:29:30.978099Z",
     "iopub.status.idle": "2025-07-30T21:29:32.837591Z",
     "shell.execute_reply": "2025-07-30T21:29:32.836135Z"
    },
    "papermill": {
     "duration": 1.884147,
     "end_time": "2025-07-30T21:29:32.839418",
     "exception": false,
     "start_time": "2025-07-30T21:29:30.955271",
     "status": "completed"
    },
    "tags": []
   },
   "outputs": [],
   "source": [
    "from fairness_multiverse.universe import UniverseAnalysis\n",
    "\n",
    "universe_analysis = UniverseAnalysis(\n",
    "    run_no = run_no,\n",
    "    universe_id = universe_id,\n",
    "    universe = universe,\n",
    "    output_dir=output_dir,\n",
    ")"
   ]
  },
  {
   "cell_type": "code",
   "execution_count": 8,
   "id": "106241f5",
   "metadata": {
    "execution": {
     "iopub.execute_input": "2025-07-30T21:29:32.881940Z",
     "iopub.status.busy": "2025-07-30T21:29:32.881483Z",
     "iopub.status.idle": "2025-07-30T21:29:32.888013Z",
     "shell.execute_reply": "2025-07-30T21:29:32.887130Z"
    },
    "papermill": {
     "duration": 0.029003,
     "end_time": "2025-07-30T21:29:32.889753",
     "exception": false,
     "start_time": "2025-07-30T21:29:32.860750",
     "status": "completed"
    },
    "tags": []
   },
   "outputs": [
    {
     "name": "stdout",
     "output_type": "stream",
     "text": [
      "Using Seed: 2023\n"
     ]
    }
   ],
   "source": [
    "import numpy as np\n",
    "parsed_seed = int(seed)\n",
    "np.random.seed(parsed_seed)\n",
    "print(f\"Using Seed: {parsed_seed}\")"
   ]
  },
  {
   "cell_type": "markdown",
   "id": "e0ebdc57",
   "metadata": {
    "papermill": {
     "duration": 0.0184,
     "end_time": "2025-07-30T21:29:32.928133",
     "exception": false,
     "start_time": "2025-07-30T21:29:32.909733",
     "status": "completed"
    },
    "tags": []
   },
   "source": [
    "# Loading Data"
   ]
  },
  {
   "cell_type": "markdown",
   "id": "681925a3",
   "metadata": {
    "papermill": {
     "duration": 0.019158,
     "end_time": "2025-07-30T21:29:32.966571",
     "exception": false,
     "start_time": "2025-07-30T21:29:32.947413",
     "status": "completed"
    },
    "tags": []
   },
   "source": [
    "Load siab_train, siab_test, siab_calib and/or \n",
    "load siab_train_features, siab_train_labels"
   ]
  },
  {
   "cell_type": "code",
   "execution_count": 9,
   "id": "f0496b8a",
   "metadata": {
    "execution": {
     "iopub.execute_input": "2025-07-30T21:29:33.005780Z",
     "iopub.status.busy": "2025-07-30T21:29:33.005137Z",
     "iopub.status.idle": "2025-07-30T21:29:45.333499Z",
     "shell.execute_reply": "2025-07-30T21:29:45.332635Z"
    },
    "papermill": {
     "duration": 12.349956,
     "end_time": "2025-07-30T21:29:45.334970",
     "exception": false,
     "start_time": "2025-07-30T21:29:32.985014",
     "status": "completed"
    },
    "tags": []
   },
   "outputs": [
    {
     "name": "stdout",
     "output_type": "stream",
     "text": [
      "Loading SIAB data from cache: data/siab_cached.csv.gz\n"
     ]
    },
    {
     "name": "stdout",
     "output_type": "stream",
     "text": [
      "(643690, 164)\n"
     ]
    }
   ],
   "source": [
    "from pathlib import Path\n",
    "import pandas as pd\n",
    "\n",
    "# File paths\n",
    "raw_file = Path(\"data/raw/siab.csv\")\n",
    "cache_file = Path(\"data/siab_cached.csv.gz\")\n",
    "\n",
    "# Ensure cache directory exists\n",
    "cache_file.parent.mkdir(parents=True, exist_ok=True)\n",
    "\n",
    "# Load with simple caching\n",
    "if cache_file.exists():\n",
    "    print(f\"Loading SIAB data from cache: {cache_file}\")\n",
    "    siab = pd.read_csv(cache_file, compression='gzip')\n",
    "else:\n",
    "    print(f\"Cache not found. Reading raw SIAB data: {raw_file}\")\n",
    "    siab = pd.read_csv(raw_file)\n",
    "    siab.to_csv(cache_file, index=False, compression='gzip')\n",
    "    print(f\"Cached SIAB data to: {cache_file}\")\n",
    "\n",
    "# Now use `siab` DataFrame as needed\n",
    "print(siab.shape)"
   ]
  },
  {
   "cell_type": "code",
   "execution_count": 10,
   "id": "db0ca512-5f53-4dba-abdb-a2888bca41ba",
   "metadata": {
    "execution": {
     "iopub.execute_input": "2025-07-30T21:29:45.372169Z",
     "iopub.status.busy": "2025-07-30T21:29:45.371566Z",
     "iopub.status.idle": "2025-07-30T21:29:45.378037Z",
     "shell.execute_reply": "2025-07-30T21:29:45.375815Z"
    },
    "papermill": {
     "duration": 0.020487,
     "end_time": "2025-07-30T21:29:45.379942",
     "exception": false,
     "start_time": "2025-07-30T21:29:45.359455",
     "status": "completed"
    },
    "tags": []
   },
   "outputs": [],
   "source": [
    "#siab"
   ]
  },
  {
   "cell_type": "code",
   "execution_count": 11,
   "id": "a0edb063",
   "metadata": {
    "execution": {
     "iopub.execute_input": "2025-07-30T21:29:45.425098Z",
     "iopub.status.busy": "2025-07-30T21:29:45.424632Z",
     "iopub.status.idle": "2025-07-30T21:29:45.429981Z",
     "shell.execute_reply": "2025-07-30T21:29:45.428998Z"
    },
    "papermill": {
     "duration": 0.029394,
     "end_time": "2025-07-30T21:29:45.431660",
     "exception": false,
     "start_time": "2025-07-30T21:29:45.402266",
     "status": "completed"
    },
    "tags": []
   },
   "outputs": [],
   "source": [
    "#import pandas as pd\n",
    "#\n",
    "#X_train = pd.read_csv(\"./data/X_train.csv\")\n",
    "#y_train = pd.read_csv(\"./data/y_train.csv\")"
   ]
  },
  {
   "cell_type": "code",
   "execution_count": 12,
   "id": "63d08085",
   "metadata": {
    "execution": {
     "iopub.execute_input": "2025-07-30T21:29:45.477719Z",
     "iopub.status.busy": "2025-07-30T21:29:45.477288Z",
     "iopub.status.idle": "2025-07-30T21:29:45.482701Z",
     "shell.execute_reply": "2025-07-30T21:29:45.481590Z"
    },
    "papermill": {
     "duration": 0.030614,
     "end_time": "2025-07-30T21:29:45.484761",
     "exception": false,
     "start_time": "2025-07-30T21:29:45.454147",
     "status": "completed"
    },
    "tags": []
   },
   "outputs": [],
   "source": [
    "#X_test = pd.read_csv(\"./data/X_test.csv\")\n",
    "#y_true = pd.read_csv(\"./data/y_test.csv\")"
   ]
  },
  {
   "cell_type": "code",
   "execution_count": 13,
   "id": "98a8d0fa-1d3d-4ed8-bb2c-281470e24add",
   "metadata": {
    "execution": {
     "iopub.execute_input": "2025-07-30T21:29:45.544198Z",
     "iopub.status.busy": "2025-07-30T21:29:45.543576Z",
     "iopub.status.idle": "2025-07-30T21:29:45.551486Z",
     "shell.execute_reply": "2025-07-30T21:29:45.547638Z"
    },
    "papermill": {
     "duration": 0.041175,
     "end_time": "2025-07-30T21:29:45.554189",
     "exception": false,
     "start_time": "2025-07-30T21:29:45.513014",
     "status": "completed"
    },
    "tags": []
   },
   "outputs": [],
   "source": [
    "# Calibration data for conformal\n",
    "#X_calib = pd.read_csv(\"./data/X_calib.csv\")\n",
    "#y_calib = pd.read_csv(\"./data/y_calib.csv\")"
   ]
  },
  {
   "cell_type": "markdown",
   "id": "997051c5-15bd-4b69-9786-c3001a3ce484",
   "metadata": {
    "papermill": {
     "duration": 0.028632,
     "end_time": "2025-07-30T21:29:45.611713",
     "exception": false,
     "start_time": "2025-07-30T21:29:45.583081",
     "status": "completed"
    },
    "tags": []
   },
   "source": [
    "# Splitting Data and Setting Training Data Size"
   ]
  },
  {
   "cell_type": "code",
   "execution_count": 14,
   "id": "e993b61f-042d-41a6-8c81-f55681f86335",
   "metadata": {
    "execution": {
     "iopub.execute_input": "2025-07-30T21:29:45.659338Z",
     "iopub.status.busy": "2025-07-30T21:29:45.658911Z",
     "iopub.status.idle": "2025-07-30T21:29:45.672680Z",
     "shell.execute_reply": "2025-07-30T21:29:45.671483Z"
    },
    "papermill": {
     "duration": 0.040532,
     "end_time": "2025-07-30T21:29:45.674688",
     "exception": false,
     "start_time": "2025-07-30T21:29:45.634156",
     "status": "completed"
    },
    "tags": []
   },
   "outputs": [],
   "source": [
    "def sample_by_year_size(df,\n",
    "                        training_year: str,\n",
    "                        training_size: str,\n",
    "                        random_state: int = 42):\n",
    "    # --- parse training_year into a list of int years ---\n",
    "    if \"_\" in training_year:\n",
    "        start_str, end_str = training_year.split(\"_\", 1)\n",
    "        start = int(start_str)\n",
    "        end   = int(end_str) if len(end_str) == 4 else (int(end_str) + (start // 100)*100)\n",
    "        years = list(range(start, end + 1))\n",
    "    else:\n",
    "        years = [int(training_year)]\n",
    "\n",
    "    df = df[df[\"year\"].isin(years)].reset_index(drop=True)\n",
    "\n",
    "    # --- map training_size to total number of samples ---\n",
    "    total_map = {\"25k\": 25_000, \"5k\": 5_000, \"1k\": 1_000}\n",
    "    if training_size not in total_map:\n",
    "        return df  # e.g. \"all\"\n",
    "\n",
    "    total_samples = total_map[training_size]\n",
    "    n_years       = len(years)\n",
    "    base          = total_samples // n_years\n",
    "    remainder     = total_samples % n_years\n",
    "\n",
    "    # --- build a dict: year -> how many to sample ---\n",
    "    # give +1 to the first `remainder` years in ascending order\n",
    "    quotas = {\n",
    "        year: base + (1 if idx < remainder else 0)\n",
    "        for idx, year in enumerate(sorted(years))\n",
    "    }\n",
    "\n",
    "    # --- sample per‐year according to the quota dict ---\n",
    "    sampled = (\n",
    "        df\n",
    "        .groupby(\"year\", group_keys=False)\n",
    "        .apply(lambda grp: grp.sample(\n",
    "            n=min(len(grp), quotas[grp.name]),\n",
    "            random_state=random_state))\n",
    "        .reset_index(drop=True)\n",
    "    )\n",
    "\n",
    "    return sampled"
   ]
  },
  {
   "cell_type": "code",
   "execution_count": 15,
   "id": "c0ccd338-0e02-41f3-a09d-f56f9266e3fb",
   "metadata": {
    "execution": {
     "iopub.execute_input": "2025-07-30T21:29:45.715414Z",
     "iopub.status.busy": "2025-07-30T21:29:45.714933Z",
     "iopub.status.idle": "2025-07-30T21:29:45.720239Z",
     "shell.execute_reply": "2025-07-30T21:29:45.719266Z"
    },
    "papermill": {
     "duration": 0.028106,
     "end_time": "2025-07-30T21:29:45.723987",
     "exception": false,
     "start_time": "2025-07-30T21:29:45.695881",
     "status": "completed"
    },
    "tags": []
   },
   "outputs": [],
   "source": [
    "#universe[\"training_size\"]"
   ]
  },
  {
   "cell_type": "code",
   "execution_count": 16,
   "id": "ca707fd7-8047-4acd-bfa5-66248fbbf8e6",
   "metadata": {
    "execution": {
     "iopub.execute_input": "2025-07-30T21:29:45.769473Z",
     "iopub.status.busy": "2025-07-30T21:29:45.769073Z",
     "iopub.status.idle": "2025-07-30T21:29:45.773682Z",
     "shell.execute_reply": "2025-07-30T21:29:45.772675Z"
    },
    "papermill": {
     "duration": 0.028175,
     "end_time": "2025-07-30T21:29:45.775684",
     "exception": false,
     "start_time": "2025-07-30T21:29:45.747509",
     "status": "completed"
    },
    "tags": []
   },
   "outputs": [],
   "source": [
    "#universe[\"training_year\"]"
   ]
  },
  {
   "cell_type": "code",
   "execution_count": 17,
   "id": "aea9c6ef-6f46-42c8-85eb-5a62025c1508",
   "metadata": {
    "execution": {
     "iopub.execute_input": "2025-07-30T21:29:45.817568Z",
     "iopub.status.busy": "2025-07-30T21:29:45.817062Z",
     "iopub.status.idle": "2025-07-30T21:29:46.110496Z",
     "shell.execute_reply": "2025-07-30T21:29:46.109476Z"
    },
    "papermill": {
     "duration": 0.314694,
     "end_time": "2025-07-30T21:29:46.112226",
     "exception": false,
     "start_time": "2025-07-30T21:29:45.797532",
     "status": "completed"
    },
    "tags": []
   },
   "outputs": [],
   "source": [
    "siab_train = sample_by_year_size(siab,\n",
    "                               training_year=universe[\"training_year\"],\n",
    "                               training_size=universe[\"training_size\"])"
   ]
  },
  {
   "cell_type": "code",
   "execution_count": 18,
   "id": "8d3afb32-789d-442c-8d5d-9f5aa8dd2eed",
   "metadata": {
    "execution": {
     "iopub.execute_input": "2025-07-30T21:29:46.216509Z",
     "iopub.status.busy": "2025-07-30T21:29:46.215953Z",
     "iopub.status.idle": "2025-07-30T21:29:46.222246Z",
     "shell.execute_reply": "2025-07-30T21:29:46.221055Z"
    },
    "papermill": {
     "duration": 0.050487,
     "end_time": "2025-07-30T21:29:46.224577",
     "exception": false,
     "start_time": "2025-07-30T21:29:46.174090",
     "status": "completed"
    },
    "tags": []
   },
   "outputs": [],
   "source": [
    "#siab_train.shape"
   ]
  },
  {
   "cell_type": "code",
   "execution_count": 19,
   "id": "d582db68-1a4c-47fb-84fc-08518dc1975a",
   "metadata": {
    "execution": {
     "iopub.execute_input": "2025-07-30T21:29:46.299873Z",
     "iopub.status.busy": "2025-07-30T21:29:46.299245Z",
     "iopub.status.idle": "2025-07-30T21:29:46.305153Z",
     "shell.execute_reply": "2025-07-30T21:29:46.304314Z"
    },
    "papermill": {
     "duration": 0.055059,
     "end_time": "2025-07-30T21:29:46.316882",
     "exception": false,
     "start_time": "2025-07-30T21:29:46.261823",
     "status": "completed"
    },
    "tags": []
   },
   "outputs": [],
   "source": [
    "#display(siab_train.groupby(\"year\").size())"
   ]
  },
  {
   "cell_type": "code",
   "execution_count": 20,
   "id": "a561edb4-d032-42cb-8256-22eac1111c64",
   "metadata": {
    "execution": {
     "iopub.execute_input": "2025-07-30T21:29:46.371492Z",
     "iopub.status.busy": "2025-07-30T21:29:46.371114Z",
     "iopub.status.idle": "2025-07-30T21:29:46.668065Z",
     "shell.execute_reply": "2025-07-30T21:29:46.666699Z"
    },
    "papermill": {
     "duration": 0.330993,
     "end_time": "2025-07-30T21:29:46.670090",
     "exception": false,
     "start_time": "2025-07-30T21:29:46.339097",
     "status": "completed"
    },
    "tags": []
   },
   "outputs": [],
   "source": [
    "#siab_train = siab_s[siab_s.year < 2015]\n",
    "siab_calib = siab[siab.year == 2015]\n",
    "siab_test = siab[siab.year == 2016]"
   ]
  },
  {
   "cell_type": "code",
   "execution_count": 21,
   "id": "472de16f-c3db-4916-846b-1f0de9cf1746",
   "metadata": {
    "execution": {
     "iopub.execute_input": "2025-07-30T21:29:46.701126Z",
     "iopub.status.busy": "2025-07-30T21:29:46.700346Z",
     "iopub.status.idle": "2025-07-30T21:29:46.709034Z",
     "shell.execute_reply": "2025-07-30T21:29:46.707703Z"
    },
    "papermill": {
     "duration": 0.028385,
     "end_time": "2025-07-30T21:29:46.711479",
     "exception": false,
     "start_time": "2025-07-30T21:29:46.683094",
     "status": "completed"
    },
    "tags": []
   },
   "outputs": [],
   "source": [
    "X_train = siab_train.iloc[:,4:164]\n",
    "y_train = siab_train.iloc[:, [3]]"
   ]
  },
  {
   "cell_type": "code",
   "execution_count": 22,
   "id": "828c96af-f43a-4ed6-ba47-8ac73a47d56c",
   "metadata": {
    "execution": {
     "iopub.execute_input": "2025-07-30T21:29:46.765548Z",
     "iopub.status.busy": "2025-07-30T21:29:46.765093Z",
     "iopub.status.idle": "2025-07-30T21:29:46.815719Z",
     "shell.execute_reply": "2025-07-30T21:29:46.814742Z"
    },
    "papermill": {
     "duration": 0.07618,
     "end_time": "2025-07-30T21:29:46.817124",
     "exception": false,
     "start_time": "2025-07-30T21:29:46.740944",
     "status": "completed"
    },
    "tags": []
   },
   "outputs": [],
   "source": [
    "X_calib = siab_calib.iloc[:,4:164]\n",
    "y_calib = siab_calib.iloc[:, [3]]"
   ]
  },
  {
   "cell_type": "code",
   "execution_count": 23,
   "id": "c34be9c3-6bd6-476e-acd3-845840e303be",
   "metadata": {
    "execution": {
     "iopub.execute_input": "2025-07-30T21:29:46.848917Z",
     "iopub.status.busy": "2025-07-30T21:29:46.848541Z",
     "iopub.status.idle": "2025-07-30T21:29:46.940590Z",
     "shell.execute_reply": "2025-07-30T21:29:46.939231Z"
    },
    "papermill": {
     "duration": 0.112926,
     "end_time": "2025-07-30T21:29:46.942559",
     "exception": false,
     "start_time": "2025-07-30T21:29:46.829633",
     "status": "completed"
    },
    "tags": []
   },
   "outputs": [],
   "source": [
    "X_test = siab_test.iloc[:,4:164]\n",
    "y_true = siab_test.iloc[:, [3]]"
   ]
  },
  {
   "cell_type": "markdown",
   "id": "9901737e-04df-44f0-9100-f5ad144ed040",
   "metadata": {
    "papermill": {
     "duration": 0.020183,
     "end_time": "2025-07-30T21:29:46.983920",
     "exception": false,
     "start_time": "2025-07-30T21:29:46.963737",
     "status": "completed"
    },
    "tags": []
   },
   "source": [
    "# Splitting Data and Setting Training Data Size OLD VERSION"
   ]
  },
  {
   "cell_type": "code",
   "execution_count": 24,
   "id": "acbc8f7d-8fc8-4e86-8c59-5dcb0f58384b",
   "metadata": {
    "execution": {
     "iopub.execute_input": "2025-07-30T21:29:47.024528Z",
     "iopub.status.busy": "2025-07-30T21:29:47.024077Z",
     "iopub.status.idle": "2025-07-30T21:29:47.029631Z",
     "shell.execute_reply": "2025-07-30T21:29:47.028650Z"
    },
    "papermill": {
     "duration": 0.028743,
     "end_time": "2025-07-30T21:29:47.031410",
     "exception": false,
     "start_time": "2025-07-30T21:29:47.002667",
     "status": "completed"
    },
    "tags": []
   },
   "outputs": [],
   "source": [
    "#def sample_by_year(df, training_size, random_state=42):\n",
    "#    if training_size == \"2014\":\n",
    "#        return df[df[\"year\"] == 2014].reset_index(drop=True)\n",
    "#    \n",
    "#    size_map = {\n",
    "#        \"25k\": 5000,\n",
    "#        \"5k\": 1000,\n",
    "#        \"1k\": 200\n",
    "#    }\n",
    "#\n",
    "#    if training_size not in size_map:\n",
    "#        return df.reset_index(drop=True)  # use all data\n",
    "#\n",
    "#    n_per_year = size_map[training_size]\n",
    "#    grouped = df.groupby(\"year\")\n",
    "#    sampled = grouped.apply(lambda x: x.sample(n=min(n_per_year, len(x)), random_state=random_state))\n",
    "#    return sampled.reset_index(drop=True)"
   ]
  },
  {
   "cell_type": "code",
   "execution_count": 25,
   "id": "6d931f52-beaf-43ff-9e78-9d44a448d54e",
   "metadata": {
    "execution": {
     "iopub.execute_input": "2025-07-30T21:29:47.076303Z",
     "iopub.status.busy": "2025-07-30T21:29:47.075861Z",
     "iopub.status.idle": "2025-07-30T21:29:47.082627Z",
     "shell.execute_reply": "2025-07-30T21:29:47.081537Z"
    },
    "papermill": {
     "duration": 0.033159,
     "end_time": "2025-07-30T21:29:47.086195",
     "exception": false,
     "start_time": "2025-07-30T21:29:47.053036",
     "status": "completed"
    },
    "tags": []
   },
   "outputs": [],
   "source": [
    "#siab_s = sample_by_year(siab, universe[\"training_size\"])"
   ]
  },
  {
   "cell_type": "code",
   "execution_count": 26,
   "id": "5db0a40e-a4e2-4920-be85-b12ae061d70d",
   "metadata": {
    "execution": {
     "iopub.execute_input": "2025-07-30T21:29:47.132000Z",
     "iopub.status.busy": "2025-07-30T21:29:47.131694Z",
     "iopub.status.idle": "2025-07-30T21:29:47.136354Z",
     "shell.execute_reply": "2025-07-30T21:29:47.135345Z"
    },
    "papermill": {
     "duration": 0.029326,
     "end_time": "2025-07-30T21:29:47.137935",
     "exception": false,
     "start_time": "2025-07-30T21:29:47.108609",
     "status": "completed"
    },
    "tags": []
   },
   "outputs": [],
   "source": [
    "#display(siab_s.groupby(\"year\").size())"
   ]
  },
  {
   "cell_type": "code",
   "execution_count": 27,
   "id": "e6c733c5",
   "metadata": {
    "execution": {
     "iopub.execute_input": "2025-07-30T21:29:47.196117Z",
     "iopub.status.busy": "2025-07-30T21:29:47.195712Z",
     "iopub.status.idle": "2025-07-30T21:29:47.303510Z",
     "shell.execute_reply": "2025-07-30T21:29:47.302456Z"
    },
    "papermill": {
     "duration": 0.131824,
     "end_time": "2025-07-30T21:29:47.305541",
     "exception": false,
     "start_time": "2025-07-30T21:29:47.173717",
     "status": "completed"
    },
    "tags": []
   },
   "outputs": [],
   "source": [
    "# Auxiliary data needed downstream in the pipeline\n",
    "\n",
    "org_train = X_train.copy()\n",
    "org_test = X_test.copy()\n",
    "org_calib = X_calib.copy()"
   ]
  },
  {
   "cell_type": "code",
   "execution_count": 28,
   "id": "1466abac-c6da-4492-a62f-4240ae3783af",
   "metadata": {
    "execution": {
     "iopub.execute_input": "2025-07-30T21:29:47.358086Z",
     "iopub.status.busy": "2025-07-30T21:29:47.357583Z",
     "iopub.status.idle": "2025-07-30T21:29:47.363672Z",
     "shell.execute_reply": "2025-07-30T21:29:47.362599Z"
    },
    "papermill": {
     "duration": 0.03941,
     "end_time": "2025-07-30T21:29:47.366305",
     "exception": false,
     "start_time": "2025-07-30T21:29:47.326895",
     "status": "completed"
    },
    "tags": []
   },
   "outputs": [],
   "source": [
    "# put in other script?\n",
    "# Group sizes\n",
    "\n",
    "#def calculate_percentages(df, df_name):\n",
    "#    total_entries = len(df)\n",
    "#\n",
    "#    female_pct = (df['frau1'] == 1).mean() * 100\n",
    "#    non_german_pct = ((df['maxdeutsch1'] == 0) & (df['maxdeutsch.Missing.'] == 0)).mean() * 100\n",
    "#    non_german_male_pct = ((df['frau1'] == 0) & (df['maxdeutsch1'] == 0) & (df['maxdeutsch.Missing.'] == 0)).mean() * 100\n",
    "#    non_german_female_pct = ((df['frau1'] == 1) & (df['maxdeutsch1'] == 0) & (df['maxdeutsch.Missing.'] == 0)).mean() * 100\n",
    "#\n",
    "#    print(f\"--- {df_name} ---\")\n",
    "#    print(f\"Female: {female_pct:.2f}%\")\n",
    "#    print(f\"Non-German: {non_german_pct:.2f}%\")\n",
    "#    print(f\"Non-German Male: {non_german_male_pct:.2f}%\")\n",
    "#    print(f\"Non-German Female: {non_german_female_pct:.2f}%\\n\")\n",
    "#\n",
    "## Calculate for each DataFrame\n",
    "#calculate_percentages(siab_calib, \"siab_calib\")\n",
    "#calculate_percentages(siab_test, \"siab_test\")\n",
    "#calculate_percentages(siab_train, \"siab_train\")"
   ]
  },
  {
   "cell_type": "markdown",
   "id": "0a4a1b33",
   "metadata": {
    "papermill": {
     "duration": 0.022019,
     "end_time": "2025-07-30T21:29:47.426540",
     "exception": false,
     "start_time": "2025-07-30T21:29:47.404521",
     "status": "completed"
    },
    "tags": []
   },
   "source": [
    "# Preprocessing Data"
   ]
  },
  {
   "cell_type": "code",
   "execution_count": 29,
   "id": "ca879031",
   "metadata": {
    "execution": {
     "iopub.execute_input": "2025-07-30T21:29:47.472933Z",
     "iopub.status.busy": "2025-07-30T21:29:47.472432Z",
     "iopub.status.idle": "2025-07-30T21:29:47.479197Z",
     "shell.execute_reply": "2025-07-30T21:29:47.478205Z"
    },
    "papermill": {
     "duration": 0.032006,
     "end_time": "2025-07-30T21:29:47.480999",
     "exception": false,
     "start_time": "2025-07-30T21:29:47.448993",
     "status": "completed"
    },
    "tags": []
   },
   "outputs": [],
   "source": [
    "# EXCLUDE PROTECTED FEATURES\n",
    "# ----------------------\n",
    "# \"exclude_features\": \"none\", # \"nationality\", \"sex\", \"nationality-sex\"\n",
    "\n",
    "excluded_features = universe[\"exclude_features\"].split(\"-\") # split, e.g.: \"nationality-sex\" -> [\"nationality\", \"sex\"]\n",
    "excluded_features_dictionary = {\n",
    "    \"nationality\": [\"maxdeutsch1\", \"maxdeutsch.Missing.\"],\n",
    "    \"sex\": [\"frau1\"],\n",
    "    \"age\": [\"age\"],\n",
    "}\n"
   ]
  },
  {
   "cell_type": "code",
   "execution_count": 30,
   "id": "b745ac60",
   "metadata": {
    "execution": {
     "iopub.execute_input": "2025-07-30T21:29:47.528985Z",
     "iopub.status.busy": "2025-07-30T21:29:47.528070Z",
     "iopub.status.idle": "2025-07-30T21:29:47.534059Z",
     "shell.execute_reply": "2025-07-30T21:29:47.533081Z"
    },
    "papermill": {
     "duration": 0.031167,
     "end_time": "2025-07-30T21:29:47.535822",
     "exception": false,
     "start_time": "2025-07-30T21:29:47.504655",
     "status": "completed"
    },
    "tags": []
   },
   "outputs": [],
   "source": [
    "# Code nice names to column names\n",
    "\n",
    "excluded_features_columns = [\n",
    "    excluded_features_dictionary[f] for f in excluded_features if len(f) > 0 and f != \"none\"\n",
    "]"
   ]
  },
  {
   "cell_type": "code",
   "execution_count": 31,
   "id": "f84f73a2",
   "metadata": {
    "execution": {
     "iopub.execute_input": "2025-07-30T21:29:47.577239Z",
     "iopub.status.busy": "2025-07-30T21:29:47.576757Z",
     "iopub.status.idle": "2025-07-30T21:29:47.582694Z",
     "shell.execute_reply": "2025-07-30T21:29:47.581877Z"
    },
    "papermill": {
     "duration": 0.032042,
     "end_time": "2025-07-30T21:29:47.584140",
     "exception": false,
     "start_time": "2025-07-30T21:29:47.552098",
     "status": "completed"
    },
    "tags": []
   },
   "outputs": [],
   "source": [
    "from utils import flatten_once\n",
    "\n",
    "excluded_features_columns = flatten_once(excluded_features_columns)"
   ]
  },
  {
   "cell_type": "code",
   "execution_count": 32,
   "id": "884dea22",
   "metadata": {
    "execution": {
     "iopub.execute_input": "2025-07-30T21:29:47.633053Z",
     "iopub.status.busy": "2025-07-30T21:29:47.632578Z",
     "iopub.status.idle": "2025-07-30T21:29:47.640814Z",
     "shell.execute_reply": "2025-07-30T21:29:47.639907Z"
    },
    "papermill": {
     "duration": 0.040731,
     "end_time": "2025-07-30T21:29:47.647721",
     "exception": false,
     "start_time": "2025-07-30T21:29:47.606990",
     "status": "completed"
    },
    "tags": []
   },
   "outputs": [
    {
     "name": "stdout",
     "output_type": "stream",
     "text": [
      "Dropping features: ['frau1']\n"
     ]
    }
   ],
   "source": [
    "if len(excluded_features_columns) > 0:\n",
    "    print(f\"Dropping features: {excluded_features_columns}\")\n",
    "    X_train.drop(excluded_features_columns, axis=1, inplace=True)"
   ]
  },
  {
   "cell_type": "code",
   "execution_count": 33,
   "id": "95ab8b16",
   "metadata": {
    "execution": {
     "iopub.execute_input": "2025-07-30T21:29:47.709525Z",
     "iopub.status.busy": "2025-07-30T21:29:47.709011Z",
     "iopub.status.idle": "2025-07-30T21:29:47.777964Z",
     "shell.execute_reply": "2025-07-30T21:29:47.776779Z"
    },
    "papermill": {
     "duration": 0.102182,
     "end_time": "2025-07-30T21:29:47.780242",
     "exception": false,
     "start_time": "2025-07-30T21:29:47.678060",
     "status": "completed"
    },
    "tags": []
   },
   "outputs": [
    {
     "name": "stdout",
     "output_type": "stream",
     "text": [
      "Dropping features: ['frau1']\n"
     ]
    }
   ],
   "source": [
    "if len(excluded_features_columns) > 0:\n",
    "    print(f\"Dropping features: {excluded_features_columns}\")\n",
    "    X_test.drop(excluded_features_columns, axis=1, inplace=True)"
   ]
  },
  {
   "cell_type": "code",
   "execution_count": 34,
   "id": "1853aaf5-fb9f-46cb-a2b5-8ea4ae2237e4",
   "metadata": {
    "execution": {
     "iopub.execute_input": "2025-07-30T21:29:47.829780Z",
     "iopub.status.busy": "2025-07-30T21:29:47.829402Z",
     "iopub.status.idle": "2025-07-30T21:29:47.897295Z",
     "shell.execute_reply": "2025-07-30T21:29:47.893900Z"
    },
    "papermill": {
     "duration": 0.091996,
     "end_time": "2025-07-30T21:29:47.899380",
     "exception": false,
     "start_time": "2025-07-30T21:29:47.807384",
     "status": "completed"
    },
    "tags": []
   },
   "outputs": [
    {
     "name": "stdout",
     "output_type": "stream",
     "text": [
      "Dropping features: ['frau1']\n"
     ]
    }
   ],
   "source": [
    "if len(excluded_features_columns) > 0:\n",
    "    print(f\"Dropping features: {excluded_features_columns}\")\n",
    "    X_calib.drop(excluded_features_columns, axis=1, inplace=True)"
   ]
  },
  {
   "cell_type": "code",
   "execution_count": 35,
   "id": "6727d079-03e5-481e-9d38-292a90b7a0a8",
   "metadata": {
    "execution": {
     "iopub.execute_input": "2025-07-30T21:29:47.973279Z",
     "iopub.status.busy": "2025-07-30T21:29:47.972940Z",
     "iopub.status.idle": "2025-07-30T21:29:47.976898Z",
     "shell.execute_reply": "2025-07-30T21:29:47.976048Z"
    },
    "papermill": {
     "duration": 0.05302,
     "end_time": "2025-07-30T21:29:47.978249",
     "exception": false,
     "start_time": "2025-07-30T21:29:47.925229",
     "status": "completed"
    },
    "tags": []
   },
   "outputs": [],
   "source": [
    "# SPLIT & STRATIFY DATA\n",
    "# ----------------------"
   ]
  },
  {
   "cell_type": "code",
   "execution_count": 36,
   "id": "76c4dc6d",
   "metadata": {
    "execution": {
     "iopub.execute_input": "2025-07-30T21:29:48.046337Z",
     "iopub.status.busy": "2025-07-30T21:29:48.045969Z",
     "iopub.status.idle": "2025-07-30T21:29:48.050770Z",
     "shell.execute_reply": "2025-07-30T21:29:48.049914Z"
    },
    "papermill": {
     "duration": 0.059486,
     "end_time": "2025-07-30T21:29:48.053142",
     "exception": false,
     "start_time": "2025-07-30T21:29:47.993656",
     "status": "completed"
    },
    "tags": []
   },
   "outputs": [],
   "source": [
    "# EXCLUDE CERTAIN SUBGROUPS\n",
    "# ----------------------\n",
    "\n",
    "mode = universe.get(\"exclude_subgroups\", \"keep-all\") \n",
    "# Fetches the exclude_subgroups setting from the universe dict.\n",
    "# Defaults to \"keep-all\" if the key is missing."
   ]
  },
  {
   "cell_type": "code",
   "execution_count": 37,
   "id": "21994072",
   "metadata": {
    "execution": {
     "iopub.execute_input": "2025-07-30T21:29:48.100679Z",
     "iopub.status.busy": "2025-07-30T21:29:48.100239Z",
     "iopub.status.idle": "2025-07-30T21:29:48.146093Z",
     "shell.execute_reply": "2025-07-30T21:29:48.144625Z"
    },
    "papermill": {
     "duration": 0.072749,
     "end_time": "2025-07-30T21:29:48.148251",
     "exception": false,
     "start_time": "2025-07-30T21:29:48.075502",
     "status": "completed"
    },
    "tags": []
   },
   "outputs": [],
   "source": [
    "if mode == \"keep-all\":\n",
    "    keep_mask = pd.Series(True, index=org_train.index)\n",
    "\n",
    "# org_train contains the original feature columns from features_org (in Simson)\n",
    "# features_org contains unprocessed features, for me X_train at beginning ???\n",
    "# For keep-all, creates a boolean Series (keep_mask) of all True, so no rows are removed.\n",
    "\n",
    "elif mode == \"drop-non-german\":\n",
    "    keep_mask = org_train[\"maxdeutsch1\"] == 1 # ??? what about missing values?\n",
    "\n",
    "else:\n",
    "    raise ValueError(f\"Unsupported mode for exclude_subgroups: {mode}\")\n"
   ]
  },
  {
   "cell_type": "code",
   "execution_count": 38,
   "id": "71651440",
   "metadata": {
    "execution": {
     "iopub.execute_input": "2025-07-30T21:29:48.203966Z",
     "iopub.status.busy": "2025-07-30T21:29:48.203528Z",
     "iopub.status.idle": "2025-07-30T21:29:48.210276Z",
     "shell.execute_reply": "2025-07-30T21:29:48.209528Z"
    },
    "papermill": {
     "duration": 0.033491,
     "end_time": "2025-07-30T21:29:48.211727",
     "exception": false,
     "start_time": "2025-07-30T21:29:48.178236",
     "status": "completed"
    },
    "tags": []
   },
   "outputs": [],
   "source": [
    "n_drop = (~keep_mask).sum() # Calculates how many rows are set to be dropped\n",
    "if n_drop > 0:\n",
    "    pct = n_drop / len(keep_mask) * 100\n",
    "    print(f\"Dropping {n_drop} rows ({pct:.2f}%) where mode='{mode}'\")"
   ]
  },
  {
   "cell_type": "code",
   "execution_count": 39,
   "id": "5fb8eee5",
   "metadata": {
    "execution": {
     "iopub.execute_input": "2025-07-30T21:29:48.293085Z",
     "iopub.status.busy": "2025-07-30T21:29:48.292299Z",
     "iopub.status.idle": "2025-07-30T21:29:48.299105Z",
     "shell.execute_reply": "2025-07-30T21:29:48.298110Z"
    },
    "papermill": {
     "duration": 0.033555,
     "end_time": "2025-07-30T21:29:48.302311",
     "exception": false,
     "start_time": "2025-07-30T21:29:48.268756",
     "status": "completed"
    },
    "tags": []
   },
   "outputs": [],
   "source": [
    "X_train = X_train[keep_mask]"
   ]
  },
  {
   "cell_type": "code",
   "execution_count": 40,
   "id": "b202bb3a",
   "metadata": {
    "execution": {
     "iopub.execute_input": "2025-07-30T21:29:48.351357Z",
     "iopub.status.busy": "2025-07-30T21:29:48.350911Z",
     "iopub.status.idle": "2025-07-30T21:29:48.356340Z",
     "shell.execute_reply": "2025-07-30T21:29:48.355393Z"
    },
    "papermill": {
     "duration": 0.033314,
     "end_time": "2025-07-30T21:29:48.357923",
     "exception": false,
     "start_time": "2025-07-30T21:29:48.324609",
     "status": "completed"
    },
    "tags": []
   },
   "outputs": [],
   "source": [
    "y_train = y_train[keep_mask]"
   ]
  },
  {
   "cell_type": "markdown",
   "id": "493e2ac3",
   "metadata": {
    "papermill": {
     "duration": 0.023358,
     "end_time": "2025-07-30T21:29:48.403588",
     "exception": false,
     "start_time": "2025-07-30T21:29:48.380230",
     "status": "completed"
    },
    "tags": []
   },
   "source": [
    "# Model Training"
   ]
  },
  {
   "cell_type": "code",
   "execution_count": 41,
   "id": "679e1268",
   "metadata": {
    "execution": {
     "iopub.execute_input": "2025-07-30T21:29:48.452471Z",
     "iopub.status.busy": "2025-07-30T21:29:48.451475Z",
     "iopub.status.idle": "2025-07-30T21:29:48.558208Z",
     "shell.execute_reply": "2025-07-30T21:29:48.557307Z"
    },
    "papermill": {
     "duration": 0.133016,
     "end_time": "2025-07-30T21:29:48.560014",
     "exception": false,
     "start_time": "2025-07-30T21:29:48.426998",
     "status": "completed"
    },
    "tags": []
   },
   "outputs": [],
   "source": [
    "from sklearn.linear_model import LogisticRegression\n",
    "from sklearn.ensemble import GradientBoostingClassifier, RandomForestClassifier\n",
    "\n",
    "if (universe[\"model\"] == \"logreg\"):\n",
    "    model = LogisticRegression() #penalty=\"none\") #, solver=\"newton-cg\", max_iter=1) # include random_state=19 ?\n",
    "elif (universe[\"model\"] == \"penalized_logreg\"):\n",
    "    model = LogisticRegression(penalty=\"l2\", C=1.0) #, solver=\"newton-cg\", max_iter=1)\n",
    "elif (universe[\"model\"] == \"rf\"):\n",
    "    model = RandomForestClassifier(n_estimators=100, n_jobs=-1)\n",
    "elif (universe[\"model\"] == \"gbm\"):\n",
    "    model = GradientBoostingClassifier()\n",
    "elif (universe[\"model\"] == \"elasticnet\"):\n",
    "    model = LogisticRegression(penalty = 'elasticnet', solver = 'saga', l1_ratio = 0.5, max_iter=5000) # which solver to use?\n",
    "else:\n",
    "    raise \"Unsupported universe.model\""
   ]
  },
  {
   "cell_type": "code",
   "execution_count": 42,
   "id": "0cc8f744",
   "metadata": {
    "execution": {
     "iopub.execute_input": "2025-07-30T21:29:48.609714Z",
     "iopub.status.busy": "2025-07-30T21:29:48.609231Z",
     "iopub.status.idle": "2025-07-30T21:29:48.615649Z",
     "shell.execute_reply": "2025-07-30T21:29:48.614564Z"
    },
    "papermill": {
     "duration": 0.033185,
     "end_time": "2025-07-30T21:29:48.617241",
     "exception": false,
     "start_time": "2025-07-30T21:29:48.584056",
     "status": "completed"
    },
    "tags": []
   },
   "outputs": [],
   "source": [
    "import numpy as np\n",
    "from sklearn.pipeline import Pipeline\n",
    "from sklearn.preprocessing import StandardScaler\n",
    "\n",
    "model = Pipeline([\n",
    "    #(\"continuous_processor\", continuous_processor),\n",
    "    #(\"categorical_preprocessor\", categorical_preprocessor),\n",
    "    (\"scale\", StandardScaler() if universe[\"scale\"] == \"scale\" else None), \n",
    "    (\"model\", model),\n",
    "])"
   ]
  },
  {
   "cell_type": "code",
   "execution_count": 43,
   "id": "9442c04d",
   "metadata": {
    "execution": {
     "iopub.execute_input": "2025-07-30T21:29:48.666159Z",
     "iopub.status.busy": "2025-07-30T21:29:48.665800Z",
     "iopub.status.idle": "2025-07-30T21:29:49.204121Z",
     "shell.execute_reply": "2025-07-30T21:29:49.203054Z"
    },
    "papermill": {
     "duration": 0.56516,
     "end_time": "2025-07-30T21:29:49.206017",
     "exception": false,
     "start_time": "2025-07-30T21:29:48.640857",
     "status": "completed"
    },
    "tags": []
   },
   "outputs": [
    {
     "data": {
      "text/html": [
       "<style>#sk-container-id-1 {color: black;background-color: white;}#sk-container-id-1 pre{padding: 0;}#sk-container-id-1 div.sk-toggleable {background-color: white;}#sk-container-id-1 label.sk-toggleable__label {cursor: pointer;display: block;width: 100%;margin-bottom: 0;padding: 0.3em;box-sizing: border-box;text-align: center;}#sk-container-id-1 label.sk-toggleable__label-arrow:before {content: \"▸\";float: left;margin-right: 0.25em;color: #696969;}#sk-container-id-1 label.sk-toggleable__label-arrow:hover:before {color: black;}#sk-container-id-1 div.sk-estimator:hover label.sk-toggleable__label-arrow:before {color: black;}#sk-container-id-1 div.sk-toggleable__content {max-height: 0;max-width: 0;overflow: hidden;text-align: left;background-color: #f0f8ff;}#sk-container-id-1 div.sk-toggleable__content pre {margin: 0.2em;color: black;border-radius: 0.25em;background-color: #f0f8ff;}#sk-container-id-1 input.sk-toggleable__control:checked~div.sk-toggleable__content {max-height: 200px;max-width: 100%;overflow: auto;}#sk-container-id-1 input.sk-toggleable__control:checked~label.sk-toggleable__label-arrow:before {content: \"▾\";}#sk-container-id-1 div.sk-estimator input.sk-toggleable__control:checked~label.sk-toggleable__label {background-color: #d4ebff;}#sk-container-id-1 div.sk-label input.sk-toggleable__control:checked~label.sk-toggleable__label {background-color: #d4ebff;}#sk-container-id-1 input.sk-hidden--visually {border: 0;clip: rect(1px 1px 1px 1px);clip: rect(1px, 1px, 1px, 1px);height: 1px;margin: -1px;overflow: hidden;padding: 0;position: absolute;width: 1px;}#sk-container-id-1 div.sk-estimator {font-family: monospace;background-color: #f0f8ff;border: 1px dotted black;border-radius: 0.25em;box-sizing: border-box;margin-bottom: 0.5em;}#sk-container-id-1 div.sk-estimator:hover {background-color: #d4ebff;}#sk-container-id-1 div.sk-parallel-item::after {content: \"\";width: 100%;border-bottom: 1px solid gray;flex-grow: 1;}#sk-container-id-1 div.sk-label:hover label.sk-toggleable__label {background-color: #d4ebff;}#sk-container-id-1 div.sk-serial::before {content: \"\";position: absolute;border-left: 1px solid gray;box-sizing: border-box;top: 0;bottom: 0;left: 50%;z-index: 0;}#sk-container-id-1 div.sk-serial {display: flex;flex-direction: column;align-items: center;background-color: white;padding-right: 0.2em;padding-left: 0.2em;position: relative;}#sk-container-id-1 div.sk-item {position: relative;z-index: 1;}#sk-container-id-1 div.sk-parallel {display: flex;align-items: stretch;justify-content: center;background-color: white;position: relative;}#sk-container-id-1 div.sk-item::before, #sk-container-id-1 div.sk-parallel-item::before {content: \"\";position: absolute;border-left: 1px solid gray;box-sizing: border-box;top: 0;bottom: 0;left: 50%;z-index: -1;}#sk-container-id-1 div.sk-parallel-item {display: flex;flex-direction: column;z-index: 1;position: relative;background-color: white;}#sk-container-id-1 div.sk-parallel-item:first-child::after {align-self: flex-end;width: 50%;}#sk-container-id-1 div.sk-parallel-item:last-child::after {align-self: flex-start;width: 50%;}#sk-container-id-1 div.sk-parallel-item:only-child::after {width: 0;}#sk-container-id-1 div.sk-dashed-wrapped {border: 1px dashed gray;margin: 0 0.4em 0.5em 0.4em;box-sizing: border-box;padding-bottom: 0.4em;background-color: white;}#sk-container-id-1 div.sk-label label {font-family: monospace;font-weight: bold;display: inline-block;line-height: 1.2em;}#sk-container-id-1 div.sk-label-container {text-align: center;}#sk-container-id-1 div.sk-container {/* jupyter's `normalize.less` sets `[hidden] { display: none; }` but bootstrap.min.css set `[hidden] { display: none !important; }` so we also need the `!important` here to be able to override the default hidden behavior on the sphinx rendered scikit-learn.org. See: https://github.com/scikit-learn/scikit-learn/issues/21755 */display: inline-block !important;position: relative;}#sk-container-id-1 div.sk-text-repr-fallback {display: none;}</style><div id=\"sk-container-id-1\" class=\"sk-top-container\"><div class=\"sk-text-repr-fallback\"><pre>Pipeline(steps=[(&#x27;scale&#x27;, None), (&#x27;model&#x27;, RandomForestClassifier(n_jobs=-1))])</pre><b>In a Jupyter environment, please rerun this cell to show the HTML representation or trust the notebook. <br />On GitHub, the HTML representation is unable to render, please try loading this page with nbviewer.org.</b></div><div class=\"sk-container\" hidden><div class=\"sk-item sk-dashed-wrapped\"><div class=\"sk-label-container\"><div class=\"sk-label sk-toggleable\"><input class=\"sk-toggleable__control sk-hidden--visually\" id=\"sk-estimator-id-1\" type=\"checkbox\" ><label for=\"sk-estimator-id-1\" class=\"sk-toggleable__label sk-toggleable__label-arrow\">Pipeline</label><div class=\"sk-toggleable__content\"><pre>Pipeline(steps=[(&#x27;scale&#x27;, None), (&#x27;model&#x27;, RandomForestClassifier(n_jobs=-1))])</pre></div></div></div><div class=\"sk-serial\"><div class=\"sk-item\"><div class=\"sk-estimator sk-toggleable\"><input class=\"sk-toggleable__control sk-hidden--visually\" id=\"sk-estimator-id-2\" type=\"checkbox\" ><label for=\"sk-estimator-id-2\" class=\"sk-toggleable__label sk-toggleable__label-arrow\">None</label><div class=\"sk-toggleable__content\"><pre>None</pre></div></div></div><div class=\"sk-item\"><div class=\"sk-estimator sk-toggleable\"><input class=\"sk-toggleable__control sk-hidden--visually\" id=\"sk-estimator-id-3\" type=\"checkbox\" ><label for=\"sk-estimator-id-3\" class=\"sk-toggleable__label sk-toggleable__label-arrow\">RandomForestClassifier</label><div class=\"sk-toggleable__content\"><pre>RandomForestClassifier(n_jobs=-1)</pre></div></div></div></div></div></div></div>"
      ],
      "text/plain": [
       "Pipeline(steps=[('scale', None), ('model', RandomForestClassifier(n_jobs=-1))])"
      ]
     },
     "execution_count": 43,
     "metadata": {},
     "output_type": "execute_result"
    }
   ],
   "source": [
    "model.fit(X_train, y_train.values.ravel())"
   ]
  },
  {
   "cell_type": "code",
   "execution_count": 44,
   "id": "af59f8c0",
   "metadata": {
    "execution": {
     "iopub.execute_input": "2025-07-30T21:29:49.289796Z",
     "iopub.status.busy": "2025-07-30T21:29:49.289364Z",
     "iopub.status.idle": "2025-07-30T21:29:49.295393Z",
     "shell.execute_reply": "2025-07-30T21:29:49.294260Z"
    },
    "papermill": {
     "duration": 0.064476,
     "end_time": "2025-07-30T21:29:49.313376",
     "exception": false,
     "start_time": "2025-07-30T21:29:49.248900",
     "status": "completed"
    },
    "tags": []
   },
   "outputs": [],
   "source": [
    "from fairness_multiverse.universe import predict_w_threshold"
   ]
  },
  {
   "cell_type": "code",
   "execution_count": 45,
   "id": "a7cf2e16",
   "metadata": {
    "execution": {
     "iopub.execute_input": "2025-07-30T21:29:49.391255Z",
     "iopub.status.busy": "2025-07-30T21:29:49.390767Z",
     "iopub.status.idle": "2025-07-30T21:29:50.189819Z",
     "shell.execute_reply": "2025-07-30T21:29:50.188795Z"
    },
    "papermill": {
     "duration": 0.840561,
     "end_time": "2025-07-30T21:29:50.191707",
     "exception": false,
     "start_time": "2025-07-30T21:29:49.351146",
     "status": "completed"
    },
    "tags": []
   },
   "outputs": [
    {
     "data": {
      "text/plain": [
       "0.861487013710846"
      ]
     },
     "execution_count": 45,
     "metadata": {},
     "output_type": "execute_result"
    }
   ],
   "source": [
    "probs_test = model.predict_proba(X_test)\n",
    "\n",
    "'''\n",
    "Below code returns a boolean array (or binary 0/1 array depending on how it’s used) where each element \n",
    "is True if the probability of class 1 is greater than or equal to the threshold, and False otherwise.\n",
    "'''\n",
    "y_pred_default = predict_w_threshold(probs_test, 0.5)\n",
    "\n",
    "from sklearn.metrics import accuracy_score\n",
    "\n",
    "# Naive prediction\n",
    "accuracy_score(y_true = y_true, y_pred = y_pred_default)"
   ]
  },
  {
   "cell_type": "code",
   "execution_count": 46,
   "id": "081964c3",
   "metadata": {
    "execution": {
     "iopub.execute_input": "2025-07-30T21:29:50.261087Z",
     "iopub.status.busy": "2025-07-30T21:29:50.260610Z",
     "iopub.status.idle": "2025-07-30T21:29:50.991909Z",
     "shell.execute_reply": "2025-07-30T21:29:50.990941Z"
    },
    "papermill": {
     "duration": 0.769089,
     "end_time": "2025-07-30T21:29:50.993421",
     "exception": false,
     "start_time": "2025-07-30T21:29:50.224332",
     "status": "completed"
    },
    "tags": []
   },
   "outputs": [
    {
     "data": {
      "text/plain": [
       "array([0, 0, 0, ..., 0, 0, 0])"
      ]
     },
     "execution_count": 46,
     "metadata": {},
     "output_type": "execute_result"
    }
   ],
   "source": [
    "model.predict(X_test)"
   ]
  },
  {
   "cell_type": "markdown",
   "id": "56c9705b",
   "metadata": {
    "papermill": {
     "duration": 0.052406,
     "end_time": "2025-07-30T21:29:51.071170",
     "exception": false,
     "start_time": "2025-07-30T21:29:51.018764",
     "status": "completed"
    },
    "tags": []
   },
   "source": [
    "# Conformal Prediction"
   ]
  },
  {
   "cell_type": "code",
   "execution_count": 47,
   "id": "160ec6ff",
   "metadata": {
    "execution": {
     "iopub.execute_input": "2025-07-30T21:29:51.150947Z",
     "iopub.status.busy": "2025-07-30T21:29:51.150528Z",
     "iopub.status.idle": "2025-07-30T21:29:51.156080Z",
     "shell.execute_reply": "2025-07-30T21:29:51.154870Z"
    },
    "papermill": {
     "duration": 0.037129,
     "end_time": "2025-07-30T21:29:51.157793",
     "exception": false,
     "start_time": "2025-07-30T21:29:51.120664",
     "status": "completed"
    },
    "tags": []
   },
   "outputs": [],
   "source": [
    "# Miscoverage level for conformal prediction (10% allowed error rate => 90% target coverage)\n",
    "alpha = 0.1"
   ]
  },
  {
   "cell_type": "code",
   "execution_count": 48,
   "id": "eadf4555-3dd3-440e-8e35-f82a4ad9f855",
   "metadata": {
    "execution": {
     "iopub.execute_input": "2025-07-30T21:29:51.209409Z",
     "iopub.status.busy": "2025-07-30T21:29:51.209022Z",
     "iopub.status.idle": "2025-07-30T21:29:51.917313Z",
     "shell.execute_reply": "2025-07-30T21:29:51.916137Z"
    },
    "papermill": {
     "duration": 0.735984,
     "end_time": "2025-07-30T21:29:51.919197",
     "exception": false,
     "start_time": "2025-07-30T21:29:51.183213",
     "status": "completed"
    },
    "tags": []
   },
   "outputs": [],
   "source": [
    "probs_calib = model.predict_proba(X_calib)"
   ]
  },
  {
   "cell_type": "code",
   "execution_count": 49,
   "id": "2ed93547-6d5d-4983-9b36-1ecb300da49a",
   "metadata": {
    "execution": {
     "iopub.execute_input": "2025-07-30T21:29:51.998948Z",
     "iopub.status.busy": "2025-07-30T21:29:51.998491Z",
     "iopub.status.idle": "2025-07-30T21:29:52.004110Z",
     "shell.execute_reply": "2025-07-30T21:29:52.003092Z"
    },
    "papermill": {
     "duration": 0.033061,
     "end_time": "2025-07-30T21:29:52.005698",
     "exception": false,
     "start_time": "2025-07-30T21:29:51.972637",
     "status": "completed"
    },
    "tags": []
   },
   "outputs": [],
   "source": [
    "y_calib = y_calib.values.ravel().astype(int)"
   ]
  },
  {
   "cell_type": "code",
   "execution_count": 50,
   "id": "65d1320d-f588-4b38-9072-62af1ae97f7d",
   "metadata": {
    "execution": {
     "iopub.execute_input": "2025-07-30T21:29:52.075751Z",
     "iopub.status.busy": "2025-07-30T21:29:52.075366Z",
     "iopub.status.idle": "2025-07-30T21:29:52.083579Z",
     "shell.execute_reply": "2025-07-30T21:29:52.082563Z"
    },
    "papermill": {
     "duration": 0.055006,
     "end_time": "2025-07-30T21:29:52.102460",
     "exception": false,
     "start_time": "2025-07-30T21:29:52.047454",
     "status": "completed"
    },
    "tags": []
   },
   "outputs": [],
   "source": [
    "from fairness_multiverse.conformal import compute_nc_scores\n",
    "\n",
    "# Compute nonconformity scores on calibration set (1 - probability of true class)\n",
    "nc_scores = compute_nc_scores(probs_calib, y_calib)"
   ]
  },
  {
   "cell_type": "code",
   "execution_count": 51,
   "id": "df3b8ca3-53b7-43d5-9667-7c85da7aeda2",
   "metadata": {
    "execution": {
     "iopub.execute_input": "2025-07-30T21:29:52.185105Z",
     "iopub.status.busy": "2025-07-30T21:29:52.184681Z",
     "iopub.status.idle": "2025-07-30T21:29:52.191279Z",
     "shell.execute_reply": "2025-07-30T21:29:52.190257Z"
    },
    "papermill": {
     "duration": 0.070039,
     "end_time": "2025-07-30T21:29:52.198005",
     "exception": false,
     "start_time": "2025-07-30T21:29:52.127966",
     "status": "completed"
    },
    "tags": []
   },
   "outputs": [],
   "source": [
    "from fairness_multiverse.conformal import find_threshold\n",
    "\n",
    "# Find conformal threshold q_hat for the given alpha (split conformal method)\n",
    "q_hat = find_threshold(nc_scores, alpha)"
   ]
  },
  {
   "cell_type": "code",
   "execution_count": 52,
   "id": "4d29e6c1-0ef6-4aa4-b8fe-4fe79b0d033a",
   "metadata": {
    "execution": {
     "iopub.execute_input": "2025-07-30T21:29:52.265947Z",
     "iopub.status.busy": "2025-07-30T21:29:52.265567Z",
     "iopub.status.idle": "2025-07-30T21:29:52.274899Z",
     "shell.execute_reply": "2025-07-30T21:29:52.272821Z"
    },
    "papermill": {
     "duration": 0.048176,
     "end_time": "2025-07-30T21:29:52.286433",
     "exception": false,
     "start_time": "2025-07-30T21:29:52.238257",
     "status": "completed"
    },
    "tags": []
   },
   "outputs": [
    {
     "data": {
      "text/plain": [
       "0.6699999999999999"
      ]
     },
     "execution_count": 52,
     "metadata": {},
     "output_type": "execute_result"
    }
   ],
   "source": [
    "q_hat"
   ]
  },
  {
   "cell_type": "code",
   "execution_count": 53,
   "id": "92460794-cdac-4be2-ba28-f28c0515a6fb",
   "metadata": {
    "execution": {
     "iopub.execute_input": "2025-07-30T21:29:52.382051Z",
     "iopub.status.busy": "2025-07-30T21:29:52.381476Z",
     "iopub.status.idle": "2025-07-30T21:29:54.067184Z",
     "shell.execute_reply": "2025-07-30T21:29:54.066121Z"
    },
    "papermill": {
     "duration": 1.7176,
     "end_time": "2025-07-30T21:29:54.068970",
     "exception": false,
     "start_time": "2025-07-30T21:29:52.351370",
     "status": "completed"
    },
    "tags": []
   },
   "outputs": [],
   "source": [
    "from fairness_multiverse.conformal import predict_conformal_sets\n",
    "\n",
    "# Generate prediction sets for each test example\n",
    "pred_sets = predict_conformal_sets(model, X_test, q_hat)"
   ]
  },
  {
   "cell_type": "code",
   "execution_count": 54,
   "id": "d90c9a65-e6db-4f5d-80cd-e68fb7e46829",
   "metadata": {
    "execution": {
     "iopub.execute_input": "2025-07-30T21:29:54.183835Z",
     "iopub.status.busy": "2025-07-30T21:29:54.183118Z",
     "iopub.status.idle": "2025-07-30T21:29:54.189567Z",
     "shell.execute_reply": "2025-07-30T21:29:54.188580Z"
    },
    "papermill": {
     "duration": 0.070554,
     "end_time": "2025-07-30T21:29:54.191725",
     "exception": false,
     "start_time": "2025-07-30T21:29:54.121171",
     "status": "completed"
    },
    "tags": []
   },
   "outputs": [],
   "source": [
    "y_true = y_true.squeeze()"
   ]
  },
  {
   "cell_type": "code",
   "execution_count": 55,
   "id": "3a58a54a-1e68-46b9-927a-df01f18aebc8",
   "metadata": {
    "execution": {
     "iopub.execute_input": "2025-07-30T21:29:54.251520Z",
     "iopub.status.busy": "2025-07-30T21:29:54.250886Z",
     "iopub.status.idle": "2025-07-30T21:29:55.193645Z",
     "shell.execute_reply": "2025-07-30T21:29:55.192867Z"
    },
    "papermill": {
     "duration": 0.974587,
     "end_time": "2025-07-30T21:29:55.195562",
     "exception": false,
     "start_time": "2025-07-30T21:29:54.220975",
     "status": "completed"
    },
    "tags": []
   },
   "outputs": [],
   "source": [
    "from fairness_multiverse.conformal import evaluate_sets\n",
    "\n",
    "# Evaluate coverage and average set size on test data\n",
    "metrics = evaluate_sets(pred_sets, y_true)"
   ]
  },
  {
   "cell_type": "markdown",
   "id": "2b569c12-9aaa-4c88-98c9-bbcd0cf3ebb8",
   "metadata": {
    "papermill": {
     "duration": 0.02954,
     "end_time": "2025-07-30T21:29:55.257843",
     "exception": false,
     "start_time": "2025-07-30T21:29:55.228303",
     "status": "completed"
    },
    "tags": []
   },
   "source": [
    "# CP Metrics"
   ]
  },
  {
   "cell_type": "code",
   "execution_count": 56,
   "id": "5ce0a5cb-201f-45a0-ade5-94c7f0bd6095",
   "metadata": {
    "execution": {
     "iopub.execute_input": "2025-07-30T21:29:55.317599Z",
     "iopub.status.busy": "2025-07-30T21:29:55.317058Z",
     "iopub.status.idle": "2025-07-30T21:29:55.338800Z",
     "shell.execute_reply": "2025-07-30T21:29:55.337587Z"
    },
    "papermill": {
     "duration": 0.053878,
     "end_time": "2025-07-30T21:29:55.341003",
     "exception": false,
     "start_time": "2025-07-30T21:29:55.287125",
     "status": "completed"
    },
    "tags": []
   },
   "outputs": [
    {
     "data": {
      "text/plain": [
       "{'coverage': 0.9134767584438747, 'avg_size': 1.1459369078140675}"
      ]
     },
     "execution_count": 56,
     "metadata": {},
     "output_type": "execute_result"
    }
   ],
   "source": [
    "metrics"
   ]
  },
  {
   "cell_type": "code",
   "execution_count": 57,
   "id": "9b9a838d-31c9-430b-ae14-12baee460d17",
   "metadata": {
    "execution": {
     "iopub.execute_input": "2025-07-30T21:29:55.405448Z",
     "iopub.status.busy": "2025-07-30T21:29:55.404930Z",
     "iopub.status.idle": "2025-07-30T21:29:55.412697Z",
     "shell.execute_reply": "2025-07-30T21:29:55.411426Z"
    },
    "papermill": {
     "duration": 0.040942,
     "end_time": "2025-07-30T21:29:55.414438",
     "exception": false,
     "start_time": "2025-07-30T21:29:55.373496",
     "status": "completed"
    },
    "tags": []
   },
   "outputs": [],
   "source": [
    "example_universe = universe.copy()\n",
    "universe_training_year = example_universe.get(\"training_year\")\n",
    "universe_training_size = example_universe.get(\"training_size\")\n",
    "universe_scale = example_universe.get(\"scale\")\n",
    "universe_model = example_universe.get(\"model\")\n",
    "universe_exclude_features = example_universe.get(\"exclude_features\")\n",
    "universe_exclude_subgroups = example_universe.get(\"exclude_subgroups\")"
   ]
  },
  {
   "cell_type": "code",
   "execution_count": 58,
   "id": "f4b6a8ac-9dc0-4245-8a91-5b3b5999c4f9",
   "metadata": {
    "execution": {
     "iopub.execute_input": "2025-07-30T21:29:55.479148Z",
     "iopub.status.busy": "2025-07-30T21:29:55.478577Z",
     "iopub.status.idle": "2025-07-30T21:29:55.486172Z",
     "shell.execute_reply": "2025-07-30T21:29:55.485045Z"
    },
    "papermill": {
     "duration": 0.042638,
     "end_time": "2025-07-30T21:29:55.487993",
     "exception": false,
     "start_time": "2025-07-30T21:29:55.445355",
     "status": "completed"
    },
    "tags": []
   },
   "outputs": [],
   "source": [
    "cp_metrics_dict = {\n",
    "    \"universe_id\": [universe_id],\n",
    "    \"universe_training_year\": [universe_training_year],\n",
    "    \"universe_training_size\": [universe_training_size],\n",
    "    \"universe_scale\": [universe_scale],\n",
    "    \"universe_model\": [universe_model],\n",
    "    \"universe_exclude_features\": [universe_exclude_features],\n",
    "    \"universe_exclude_subgroups\": [universe_exclude_subgroups],\n",
    "    \"q_hat\": [q_hat],\n",
    "    \"coverage\": [metrics[\"coverage\"]],\n",
    "    \"avg_size\": [metrics[\"avg_size\"]],\n",
    "}"
   ]
  },
  {
   "cell_type": "code",
   "execution_count": 59,
   "id": "908acbb1-0371-4915-85ca-3fa520d2efe2",
   "metadata": {
    "execution": {
     "iopub.execute_input": "2025-07-30T21:29:55.547956Z",
     "iopub.status.busy": "2025-07-30T21:29:55.547577Z",
     "iopub.status.idle": "2025-07-30T21:29:55.554682Z",
     "shell.execute_reply": "2025-07-30T21:29:55.553804Z"
    },
    "papermill": {
     "duration": 0.038616,
     "end_time": "2025-07-30T21:29:55.556159",
     "exception": false,
     "start_time": "2025-07-30T21:29:55.517543",
     "status": "completed"
    },
    "tags": []
   },
   "outputs": [
    {
     "data": {
      "text/plain": [
       "{'universe_id': ['a1ae1242e98955fa88e56cf2c376ac96'],\n",
       " 'universe_training_year': ['2014'],\n",
       " 'universe_training_size': ['1k'],\n",
       " 'universe_scale': ['do-not-scale'],\n",
       " 'universe_model': ['rf'],\n",
       " 'universe_exclude_features': ['sex'],\n",
       " 'universe_exclude_subgroups': ['keep-all'],\n",
       " 'q_hat': [0.6699999999999999],\n",
       " 'coverage': [0.9134767584438747],\n",
       " 'avg_size': [1.1459369078140675]}"
      ]
     },
     "execution_count": 59,
     "metadata": {},
     "output_type": "execute_result"
    }
   ],
   "source": [
    "cp_metrics_dict"
   ]
  },
  {
   "cell_type": "code",
   "execution_count": 60,
   "id": "33007efc-14e9-4ec6-97ac-56a455c82265",
   "metadata": {
    "execution": {
     "iopub.execute_input": "2025-07-30T21:29:55.590461Z",
     "iopub.status.busy": "2025-07-30T21:29:55.589695Z",
     "iopub.status.idle": "2025-07-30T21:29:55.596100Z",
     "shell.execute_reply": "2025-07-30T21:29:55.594977Z"
    },
    "papermill": {
     "duration": 0.02499,
     "end_time": "2025-07-30T21:29:55.597701",
     "exception": false,
     "start_time": "2025-07-30T21:29:55.572711",
     "status": "completed"
    },
    "tags": []
   },
   "outputs": [],
   "source": [
    "cp_metrics_df = pd.DataFrame(cp_metrics_dict)"
   ]
  },
  {
   "cell_type": "code",
   "execution_count": 61,
   "id": "db12611b-57b2-4910-b9d0-355adfd6e7bf",
   "metadata": {
    "execution": {
     "iopub.execute_input": "2025-07-30T21:29:55.663353Z",
     "iopub.status.busy": "2025-07-30T21:29:55.662846Z",
     "iopub.status.idle": "2025-07-30T21:29:55.682216Z",
     "shell.execute_reply": "2025-07-30T21:29:55.681417Z"
    },
    "papermill": {
     "duration": 0.054863,
     "end_time": "2025-07-30T21:29:55.683770",
     "exception": false,
     "start_time": "2025-07-30T21:29:55.628907",
     "status": "completed"
    },
    "tags": []
   },
   "outputs": [
    {
     "data": {
      "text/html": [
       "<div>\n",
       "<style scoped>\n",
       "    .dataframe tbody tr th:only-of-type {\n",
       "        vertical-align: middle;\n",
       "    }\n",
       "\n",
       "    .dataframe tbody tr th {\n",
       "        vertical-align: top;\n",
       "    }\n",
       "\n",
       "    .dataframe thead th {\n",
       "        text-align: right;\n",
       "    }\n",
       "</style>\n",
       "<table border=\"1\" class=\"dataframe\">\n",
       "  <thead>\n",
       "    <tr style=\"text-align: right;\">\n",
       "      <th></th>\n",
       "      <th>universe_id</th>\n",
       "      <th>universe_training_year</th>\n",
       "      <th>universe_training_size</th>\n",
       "      <th>universe_scale</th>\n",
       "      <th>universe_model</th>\n",
       "      <th>universe_exclude_features</th>\n",
       "      <th>universe_exclude_subgroups</th>\n",
       "      <th>q_hat</th>\n",
       "      <th>coverage</th>\n",
       "      <th>avg_size</th>\n",
       "    </tr>\n",
       "  </thead>\n",
       "  <tbody>\n",
       "    <tr>\n",
       "      <th>0</th>\n",
       "      <td>a1ae1242e98955fa88e56cf2c376ac96</td>\n",
       "      <td>2014</td>\n",
       "      <td>1k</td>\n",
       "      <td>do-not-scale</td>\n",
       "      <td>rf</td>\n",
       "      <td>sex</td>\n",
       "      <td>keep-all</td>\n",
       "      <td>0.67</td>\n",
       "      <td>0.913477</td>\n",
       "      <td>1.145937</td>\n",
       "    </tr>\n",
       "  </tbody>\n",
       "</table>\n",
       "</div>"
      ],
      "text/plain": [
       "                        universe_id universe_training_year  \\\n",
       "0  a1ae1242e98955fa88e56cf2c376ac96                   2014   \n",
       "\n",
       "  universe_training_size universe_scale universe_model  \\\n",
       "0                     1k   do-not-scale             rf   \n",
       "\n",
       "  universe_exclude_features universe_exclude_subgroups  q_hat  coverage  \\\n",
       "0                       sex                   keep-all   0.67  0.913477   \n",
       "\n",
       "   avg_size  \n",
       "0  1.145937  "
      ]
     },
     "execution_count": 61,
     "metadata": {},
     "output_type": "execute_result"
    }
   ],
   "source": [
    "cp_metrics_df"
   ]
  },
  {
   "cell_type": "code",
   "execution_count": 62,
   "id": "b7fbde55-a0a1-47e4-9af6-fe4a17fa8c61",
   "metadata": {
    "execution": {
     "iopub.execute_input": "2025-07-30T21:29:55.719181Z",
     "iopub.status.busy": "2025-07-30T21:29:55.718604Z",
     "iopub.status.idle": "2025-07-30T21:29:55.723434Z",
     "shell.execute_reply": "2025-07-30T21:29:55.722696Z"
    },
    "papermill": {
     "duration": 0.023433,
     "end_time": "2025-07-30T21:29:55.725102",
     "exception": false,
     "start_time": "2025-07-30T21:29:55.701669",
     "status": "completed"
    },
    "tags": []
   },
   "outputs": [],
   "source": [
    "# Conditional Coverage & looking at subgroups"
   ]
  },
  {
   "cell_type": "code",
   "execution_count": 63,
   "id": "027ae886-68dd-4141-96c7-805a5450e1ef",
   "metadata": {
    "execution": {
     "iopub.execute_input": "2025-07-30T21:29:55.784143Z",
     "iopub.status.busy": "2025-07-30T21:29:55.783643Z",
     "iopub.status.idle": "2025-07-30T21:29:56.104968Z",
     "shell.execute_reply": "2025-07-30T21:29:56.103789Z"
    },
    "papermill": {
     "duration": 0.359565,
     "end_time": "2025-07-30T21:29:56.107409",
     "exception": false,
     "start_time": "2025-07-30T21:29:55.747844",
     "status": "completed"
    },
    "tags": []
   },
   "outputs": [],
   "source": [
    "from fairness_multiverse.conformal import build_cp_groups\n",
    "\n",
    "cp_groups_df = build_cp_groups(pred_sets, y_true, X_test.index, org_test)\n",
    "#needs universe_id and setting"
   ]
  },
  {
   "cell_type": "code",
   "execution_count": 64,
   "id": "01d5802c-663a-4d1f-9d69-e036faaffbf7",
   "metadata": {
    "execution": {
     "iopub.execute_input": "2025-07-30T21:29:56.171422Z",
     "iopub.status.busy": "2025-07-30T21:29:56.170327Z",
     "iopub.status.idle": "2025-07-30T21:29:56.176752Z",
     "shell.execute_reply": "2025-07-30T21:29:56.175458Z"
    },
    "papermill": {
     "duration": 0.038961,
     "end_time": "2025-07-30T21:29:56.178504",
     "exception": false,
     "start_time": "2025-07-30T21:29:56.139543",
     "status": "completed"
    },
    "tags": []
   },
   "outputs": [],
   "source": [
    "#delete\n",
    "#cp_groups_df"
   ]
  },
  {
   "cell_type": "code",
   "execution_count": 65,
   "id": "fa424af1-d1eb-443d-b717-2d279ada8408",
   "metadata": {
    "execution": {
     "iopub.execute_input": "2025-07-30T21:29:56.226060Z",
     "iopub.status.busy": "2025-07-30T21:29:56.225554Z",
     "iopub.status.idle": "2025-07-30T21:29:56.230752Z",
     "shell.execute_reply": "2025-07-30T21:29:56.230073Z"
    },
    "papermill": {
     "duration": 0.023427,
     "end_time": "2025-07-30T21:29:56.232098",
     "exception": false,
     "start_time": "2025-07-30T21:29:56.208671",
     "status": "completed"
    },
    "tags": []
   },
   "outputs": [],
   "source": [
    "#delete\n",
    "#percentage = (cp_groups_df['nongerman_female'] == 1).mean() * 100\n",
    "#print(percentage)\n"
   ]
  },
  {
   "cell_type": "code",
   "execution_count": 66,
   "id": "6cbdab96-b2b2-45af-ad54-d0516db2e28d",
   "metadata": {
    "execution": {
     "iopub.execute_input": "2025-07-30T21:29:56.267396Z",
     "iopub.status.busy": "2025-07-30T21:29:56.266825Z",
     "iopub.status.idle": "2025-07-30T21:29:57.962315Z",
     "shell.execute_reply": "2025-07-30T21:29:57.961376Z"
    },
    "papermill": {
     "duration": 1.714654,
     "end_time": "2025-07-30T21:29:57.964099",
     "exception": false,
     "start_time": "2025-07-30T21:29:56.249445",
     "status": "completed"
    },
    "tags": []
   },
   "outputs": [],
   "source": [
    "# Define covered = 1 if true_label is in the predicted set\n",
    "cp_groups_df['covered'] = cp_groups_df.apply(\n",
    "    lambda r: int(r['true_label'] in r['pred_set']),\n",
    "    axis=1\n",
    ")"
   ]
  },
  {
   "cell_type": "code",
   "execution_count": 67,
   "id": "338ff529-1a6b-4b87-a931-8e4788d52aad",
   "metadata": {
    "execution": {
     "iopub.execute_input": "2025-07-30T21:29:58.026731Z",
     "iopub.status.busy": "2025-07-30T21:29:58.026270Z",
     "iopub.status.idle": "2025-07-30T21:29:58.031923Z",
     "shell.execute_reply": "2025-07-30T21:29:58.030930Z"
    },
    "papermill": {
     "duration": 0.040258,
     "end_time": "2025-07-30T21:29:58.034711",
     "exception": false,
     "start_time": "2025-07-30T21:29:57.994453",
     "status": "completed"
    },
    "tags": []
   },
   "outputs": [],
   "source": [
    "#cp_groups_df"
   ]
  },
  {
   "cell_type": "code",
   "execution_count": 68,
   "id": "90032e27-66df-4540-9169-4e89cfbaa758",
   "metadata": {
    "execution": {
     "iopub.execute_input": "2025-07-30T21:29:58.093736Z",
     "iopub.status.busy": "2025-07-30T21:29:58.093267Z",
     "iopub.status.idle": "2025-07-30T21:29:58.105510Z",
     "shell.execute_reply": "2025-07-30T21:29:58.104519Z"
    },
    "papermill": {
     "duration": 0.04464,
     "end_time": "2025-07-30T21:29:58.107222",
     "exception": false,
     "start_time": "2025-07-30T21:29:58.062582",
     "status": "completed"
    },
    "tags": []
   },
   "outputs": [],
   "source": [
    "subgroups = ['frau1','nongerman','nongerman_male','nongerman_female']\n",
    "\n",
    "# Conditional coverage for subgroup==1\n",
    "cond_coverage = {\n",
    "    g: cp_groups_df.loc[cp_groups_df[g]==1, 'covered'].mean()\n",
    "    for g in subgroups\n",
    "}"
   ]
  },
  {
   "cell_type": "code",
   "execution_count": 69,
   "id": "1e348fb1-b9c3-45bc-ba23-f016827a7e0d",
   "metadata": {
    "execution": {
     "iopub.execute_input": "2025-07-30T21:29:58.161931Z",
     "iopub.status.busy": "2025-07-30T21:29:58.161407Z",
     "iopub.status.idle": "2025-07-30T21:29:58.170403Z",
     "shell.execute_reply": "2025-07-30T21:29:58.169227Z"
    },
    "papermill": {
     "duration": 0.036963,
     "end_time": "2025-07-30T21:29:58.172582",
     "exception": false,
     "start_time": "2025-07-30T21:29:58.135619",
     "status": "completed"
    },
    "tags": []
   },
   "outputs": [
    {
     "data": {
      "text/plain": [
       "{'frau1': 0.9091252190322145,\n",
       " 'nongerman': 0.9095604333913434,\n",
       " 'nongerman_male': 0.9254255606592813,\n",
       " 'nongerman_female': 0.8833084947839046}"
      ]
     },
     "execution_count": 69,
     "metadata": {},
     "output_type": "execute_result"
    }
   ],
   "source": [
    "cond_coverage"
   ]
  },
  {
   "cell_type": "code",
   "execution_count": 70,
   "id": "f5093324-c3dd-4d63-bc4c-8d945e5c8bbb",
   "metadata": {
    "execution": {
     "iopub.execute_input": "2025-07-30T21:29:58.204965Z",
     "iopub.status.busy": "2025-07-30T21:29:58.204652Z",
     "iopub.status.idle": "2025-07-30T21:29:58.210191Z",
     "shell.execute_reply": "2025-07-30T21:29:58.209520Z"
    },
    "papermill": {
     "duration": 0.021592,
     "end_time": "2025-07-30T21:29:58.211585",
     "exception": false,
     "start_time": "2025-07-30T21:29:58.189993",
     "status": "completed"
    },
    "tags": []
   },
   "outputs": [],
   "source": [
    "for subgroup, cov in cond_coverage.items():\n",
    "    cp_metrics_df[f\"cov_{subgroup}\"] = cov"
   ]
  },
  {
   "cell_type": "code",
   "execution_count": 71,
   "id": "6e872e10-dbe5-49e8-b554-5030c98ff75d",
   "metadata": {
    "execution": {
     "iopub.execute_input": "2025-07-30T21:29:58.244866Z",
     "iopub.status.busy": "2025-07-30T21:29:58.244518Z",
     "iopub.status.idle": "2025-07-30T21:29:58.259519Z",
     "shell.execute_reply": "2025-07-30T21:29:58.258496Z"
    },
    "papermill": {
     "duration": 0.033893,
     "end_time": "2025-07-30T21:29:58.261068",
     "exception": false,
     "start_time": "2025-07-30T21:29:58.227175",
     "status": "completed"
    },
    "tags": []
   },
   "outputs": [
    {
     "data": {
      "text/html": [
       "<div>\n",
       "<style scoped>\n",
       "    .dataframe tbody tr th:only-of-type {\n",
       "        vertical-align: middle;\n",
       "    }\n",
       "\n",
       "    .dataframe tbody tr th {\n",
       "        vertical-align: top;\n",
       "    }\n",
       "\n",
       "    .dataframe thead th {\n",
       "        text-align: right;\n",
       "    }\n",
       "</style>\n",
       "<table border=\"1\" class=\"dataframe\">\n",
       "  <thead>\n",
       "    <tr style=\"text-align: right;\">\n",
       "      <th></th>\n",
       "      <th>universe_id</th>\n",
       "      <th>universe_training_year</th>\n",
       "      <th>universe_training_size</th>\n",
       "      <th>universe_scale</th>\n",
       "      <th>universe_model</th>\n",
       "      <th>universe_exclude_features</th>\n",
       "      <th>universe_exclude_subgroups</th>\n",
       "      <th>q_hat</th>\n",
       "      <th>coverage</th>\n",
       "      <th>avg_size</th>\n",
       "      <th>cov_frau1</th>\n",
       "      <th>cov_nongerman</th>\n",
       "      <th>cov_nongerman_male</th>\n",
       "      <th>cov_nongerman_female</th>\n",
       "    </tr>\n",
       "  </thead>\n",
       "  <tbody>\n",
       "    <tr>\n",
       "      <th>0</th>\n",
       "      <td>a1ae1242e98955fa88e56cf2c376ac96</td>\n",
       "      <td>2014</td>\n",
       "      <td>1k</td>\n",
       "      <td>do-not-scale</td>\n",
       "      <td>rf</td>\n",
       "      <td>sex</td>\n",
       "      <td>keep-all</td>\n",
       "      <td>0.67</td>\n",
       "      <td>0.913477</td>\n",
       "      <td>1.145937</td>\n",
       "      <td>0.909125</td>\n",
       "      <td>0.90956</td>\n",
       "      <td>0.925426</td>\n",
       "      <td>0.883308</td>\n",
       "    </tr>\n",
       "  </tbody>\n",
       "</table>\n",
       "</div>"
      ],
      "text/plain": [
       "                        universe_id universe_training_year  \\\n",
       "0  a1ae1242e98955fa88e56cf2c376ac96                   2014   \n",
       "\n",
       "  universe_training_size universe_scale universe_model  \\\n",
       "0                     1k   do-not-scale             rf   \n",
       "\n",
       "  universe_exclude_features universe_exclude_subgroups  q_hat  coverage  \\\n",
       "0                       sex                   keep-all   0.67  0.913477   \n",
       "\n",
       "   avg_size  cov_frau1  cov_nongerman  cov_nongerman_male  \\\n",
       "0  1.145937   0.909125        0.90956            0.925426   \n",
       "\n",
       "   cov_nongerman_female  \n",
       "0              0.883308  "
      ]
     },
     "execution_count": 71,
     "metadata": {},
     "output_type": "execute_result"
    }
   ],
   "source": [
    "cp_metrics_df"
   ]
  },
  {
   "cell_type": "markdown",
   "id": "33774451",
   "metadata": {
    "papermill": {
     "duration": 0.01486,
     "end_time": "2025-07-30T21:29:58.291401",
     "exception": false,
     "start_time": "2025-07-30T21:29:58.276541",
     "status": "completed"
    },
    "tags": []
   },
   "source": [
    "# (Fairness) Metrics"
   ]
  },
  {
   "cell_type": "code",
   "execution_count": 72,
   "id": "debc5d62",
   "metadata": {
    "execution": {
     "iopub.execute_input": "2025-07-30T21:29:58.328732Z",
     "iopub.status.busy": "2025-07-30T21:29:58.328328Z",
     "iopub.status.idle": "2025-07-30T21:29:58.351165Z",
     "shell.execute_reply": "2025-07-30T21:29:58.350238Z"
    },
    "papermill": {
     "duration": 0.047315,
     "end_time": "2025-07-30T21:29:58.353233",
     "exception": false,
     "start_time": "2025-07-30T21:29:58.305918",
     "status": "completed"
    },
    "tags": []
   },
   "outputs": [],
   "source": [
    "# do I need to include maxdeutsch1.missing?\n",
    "\n",
    "import numpy as np\n",
    "\n",
    "colname_to_bin = \"maxdeutsch1\"\n",
    "majority_value = org_train[colname_to_bin].mode()[0]\n",
    "\n",
    "org_test[\"majmin\"] = np.where(org_test[colname_to_bin] == majority_value, \"majority\", \"minority\")"
   ]
  },
  {
   "cell_type": "code",
   "execution_count": 73,
   "id": "06a50de5",
   "metadata": {
    "execution": {
     "iopub.execute_input": "2025-07-30T21:29:58.408916Z",
     "iopub.status.busy": "2025-07-30T21:29:58.408515Z",
     "iopub.status.idle": "2025-07-30T21:30:01.249488Z",
     "shell.execute_reply": "2025-07-30T21:30:01.248132Z"
    },
    "papermill": {
     "duration": 2.872097,
     "end_time": "2025-07-30T21:30:01.251526",
     "exception": false,
     "start_time": "2025-07-30T21:29:58.379429",
     "status": "completed"
    },
    "tags": []
   },
   "outputs": [],
   "source": [
    "example_universe = universe.copy()\n",
    "example_universe[\"cutoff\"] = example_universe[\"cutoff\"][0]\n",
    "example_universe[\"eval_fairness_grouping\"] = example_universe[\"eval_fairness_grouping\"][0]\n",
    "fairness_dict, metric_frame = universe_analysis.compute_metrics(\n",
    "    example_universe,\n",
    "    y_pred_prob=probs_test,\n",
    "    y_test=y_true,\n",
    "    org_test=org_test,\n",
    ")"
   ]
  },
  {
   "cell_type": "markdown",
   "id": "f95d4e02",
   "metadata": {
    "papermill": {
     "duration": 0.073788,
     "end_time": "2025-07-30T21:30:01.366236",
     "exception": false,
     "start_time": "2025-07-30T21:30:01.292448",
     "status": "completed"
    },
    "tags": []
   },
   "source": [
    "# Overall"
   ]
  },
  {
   "cell_type": "markdown",
   "id": "bdee4871",
   "metadata": {
    "papermill": {
     "duration": 0.044457,
     "end_time": "2025-07-30T21:30:01.478846",
     "exception": false,
     "start_time": "2025-07-30T21:30:01.434389",
     "status": "completed"
    },
    "tags": []
   },
   "source": [
    "Fairness\n",
    "Main fairness target: Equalized Odds. Seems to be a better fit than equal opportunity, since we're not only interested in Y = 1. Seems to be a better fit than demographic parity, since we also care about accuracy, not just equal distribution of preds.\n",
    "\n",
    "Pick column for computation of fairness metrics\n",
    "\n",
    "Performance\n",
    "Overall performance measures, most interesting in relation to the measures split by group below"
   ]
  },
  {
   "cell_type": "code",
   "execution_count": 74,
   "id": "c4e067c6",
   "metadata": {
    "execution": {
     "iopub.execute_input": "2025-07-30T21:30:01.538958Z",
     "iopub.status.busy": "2025-07-30T21:30:01.538452Z",
     "iopub.status.idle": "2025-07-30T21:30:01.547975Z",
     "shell.execute_reply": "2025-07-30T21:30:01.546815Z"
    },
    "papermill": {
     "duration": 0.041304,
     "end_time": "2025-07-30T21:30:01.549850",
     "exception": false,
     "start_time": "2025-07-30T21:30:01.508546",
     "status": "completed"
    },
    "tags": []
   },
   "outputs": [
    {
     "data": {
      "text/plain": [
       "accuracy                   0.213911\n",
       "balanced accuracy          0.534999\n",
       "f1                         0.239873\n",
       "precision                  0.136921\n",
       "false positive rate        0.896895\n",
       "false negative rate        0.033107\n",
       "selection rate             0.905874\n",
       "count                  89710.000000\n",
       "dtype: float64"
      ]
     },
     "execution_count": 74,
     "metadata": {},
     "output_type": "execute_result"
    }
   ],
   "source": [
    "metric_frame.overall"
   ]
  },
  {
   "cell_type": "markdown",
   "id": "e968fe9d",
   "metadata": {
    "papermill": {
     "duration": 0.028751,
     "end_time": "2025-07-30T21:30:01.608160",
     "exception": false,
     "start_time": "2025-07-30T21:30:01.579409",
     "status": "completed"
    },
    "tags": []
   },
   "source": [
    "By Group"
   ]
  },
  {
   "cell_type": "code",
   "execution_count": 75,
   "id": "ec325bce",
   "metadata": {
    "execution": {
     "iopub.execute_input": "2025-07-30T21:30:01.666397Z",
     "iopub.status.busy": "2025-07-30T21:30:01.665883Z",
     "iopub.status.idle": "2025-07-30T21:30:01.682669Z",
     "shell.execute_reply": "2025-07-30T21:30:01.681708Z"
    },
    "papermill": {
     "duration": 0.045895,
     "end_time": "2025-07-30T21:30:01.684260",
     "exception": false,
     "start_time": "2025-07-30T21:30:01.638365",
     "status": "completed"
    },
    "tags": []
   },
   "outputs": [
    {
     "data": {
      "text/html": [
       "<div>\n",
       "<style scoped>\n",
       "    .dataframe tbody tr th:only-of-type {\n",
       "        vertical-align: middle;\n",
       "    }\n",
       "\n",
       "    .dataframe tbody tr th {\n",
       "        vertical-align: top;\n",
       "    }\n",
       "\n",
       "    .dataframe thead th {\n",
       "        text-align: right;\n",
       "    }\n",
       "</style>\n",
       "<table border=\"1\" class=\"dataframe\">\n",
       "  <thead>\n",
       "    <tr style=\"text-align: right;\">\n",
       "      <th></th>\n",
       "      <th>accuracy</th>\n",
       "      <th>balanced accuracy</th>\n",
       "      <th>f1</th>\n",
       "      <th>precision</th>\n",
       "      <th>false positive rate</th>\n",
       "      <th>false negative rate</th>\n",
       "      <th>selection rate</th>\n",
       "      <th>count</th>\n",
       "    </tr>\n",
       "    <tr>\n",
       "      <th>majmin</th>\n",
       "      <th></th>\n",
       "      <th></th>\n",
       "      <th></th>\n",
       "      <th></th>\n",
       "      <th></th>\n",
       "      <th></th>\n",
       "      <th></th>\n",
       "      <th></th>\n",
       "    </tr>\n",
       "  </thead>\n",
       "  <tbody>\n",
       "    <tr>\n",
       "      <th>majority</th>\n",
       "      <td>0.205580</td>\n",
       "      <td>0.536933</td>\n",
       "      <td>0.247240</td>\n",
       "      <td>0.141314</td>\n",
       "      <td>0.913443</td>\n",
       "      <td>0.012691</td>\n",
       "      <td>0.923204</td>\n",
       "      <td>69170.0</td>\n",
       "    </tr>\n",
       "    <tr>\n",
       "      <th>minority</th>\n",
       "      <td>0.241967</td>\n",
       "      <td>0.522931</td>\n",
       "      <td>0.212682</td>\n",
       "      <td>0.120807</td>\n",
       "      <td>0.842230</td>\n",
       "      <td>0.111909</td>\n",
       "      <td>0.847517</td>\n",
       "      <td>20540.0</td>\n",
       "    </tr>\n",
       "  </tbody>\n",
       "</table>\n",
       "</div>"
      ],
      "text/plain": [
       "          accuracy  balanced accuracy        f1  precision  \\\n",
       "majmin                                                       \n",
       "majority  0.205580           0.536933  0.247240   0.141314   \n",
       "minority  0.241967           0.522931  0.212682   0.120807   \n",
       "\n",
       "          false positive rate  false negative rate  selection rate    count  \n",
       "majmin                                                                       \n",
       "majority             0.913443             0.012691        0.923204  69170.0  \n",
       "minority             0.842230             0.111909        0.847517  20540.0  "
      ]
     },
     "execution_count": 75,
     "metadata": {},
     "output_type": "execute_result"
    }
   ],
   "source": [
    "metric_frame.by_group"
   ]
  },
  {
   "cell_type": "code",
   "execution_count": 76,
   "id": "a9ddbe63",
   "metadata": {
    "execution": {
     "iopub.execute_input": "2025-07-30T21:30:01.747010Z",
     "iopub.status.busy": "2025-07-30T21:30:01.746428Z",
     "iopub.status.idle": "2025-07-30T21:30:04.579578Z",
     "shell.execute_reply": "2025-07-30T21:30:04.578436Z"
    },
    "papermill": {
     "duration": 2.867686,
     "end_time": "2025-07-30T21:30:04.581393",
     "exception": false,
     "start_time": "2025-07-30T21:30:01.713707",
     "status": "completed"
    },
    "tags": []
   },
   "outputs": [
    {
     "data": {
      "text/plain": [
       "array([[<Axes: title={'center': 'accuracy'}, xlabel='majmin'>,\n",
       "        <Axes: title={'center': 'balanced accuracy'}, xlabel='majmin'>,\n",
       "        <Axes: title={'center': 'f1'}, xlabel='majmin'>],\n",
       "       [<Axes: title={'center': 'precision'}, xlabel='majmin'>,\n",
       "        <Axes: title={'center': 'false positive rate'}, xlabel='majmin'>,\n",
       "        <Axes: title={'center': 'false negative rate'}, xlabel='majmin'>],\n",
       "       [<Axes: title={'center': 'selection rate'}, xlabel='majmin'>,\n",
       "        <Axes: title={'center': 'count'}, xlabel='majmin'>,\n",
       "        <Axes: xlabel='majmin'>]], dtype=object)"
      ]
     },
     "execution_count": 76,
     "metadata": {},
     "output_type": "execute_result"
    },
    {
     "data": {
      "image/png": "[encoded data removed]",
      "text/plain": [
       "<Figure size 1200x800 with 9 Axes>"
      ]
     },
     "metadata": {},
     "output_type": "display_data"
    }
   ],
   "source": [
    "# In a graphic\n",
    "metric_frame.by_group.plot.bar(\n",
    "    subplots=True,\n",
    "    layout=[3, 3],\n",
    "    legend=False,\n",
    "    figsize=[12, 8],\n",
    "    title=\"Show all metrics\",\n",
    ")"
   ]
  },
  {
   "cell_type": "markdown",
   "id": "f57a0bac",
   "metadata": {
    "papermill": {
     "duration": 0.034018,
     "end_time": "2025-07-30T21:30:04.649495",
     "exception": false,
     "start_time": "2025-07-30T21:30:04.615477",
     "status": "completed"
    },
    "tags": []
   },
   "source": [
    "# Final Output"
   ]
  },
  {
   "cell_type": "code",
   "execution_count": 77,
   "id": "96d280a3",
   "metadata": {
    "execution": {
     "iopub.execute_input": "2025-07-30T21:30:04.715549Z",
     "iopub.status.busy": "2025-07-30T21:30:04.714956Z",
     "iopub.status.idle": "2025-07-30T21:30:04.723960Z",
     "shell.execute_reply": "2025-07-30T21:30:04.722836Z"
    },
    "papermill": {
     "duration": 0.045719,
     "end_time": "2025-07-30T21:30:04.727457",
     "exception": false,
     "start_time": "2025-07-30T21:30:04.681738",
     "status": "completed"
    },
    "tags": []
   },
   "outputs": [
    {
     "data": {
      "text/plain": [
       "4"
      ]
     },
     "execution_count": 77,
     "metadata": {},
     "output_type": "execute_result"
    }
   ],
   "source": [
    "sub_universes = universe_analysis.generate_sub_universes()\n",
    "len(sub_universes)"
   ]
  },
  {
   "cell_type": "code",
   "execution_count": 78,
   "id": "92adf7ba",
   "metadata": {
    "execution": {
     "iopub.execute_input": "2025-07-30T21:30:04.812422Z",
     "iopub.status.busy": "2025-07-30T21:30:04.811889Z",
     "iopub.status.idle": "2025-07-30T21:30:04.818786Z",
     "shell.execute_reply": "2025-07-30T21:30:04.817861Z"
    },
    "papermill": {
     "duration": 0.04553,
     "end_time": "2025-07-30T21:30:04.822467",
     "exception": false,
     "start_time": "2025-07-30T21:30:04.776937",
     "status": "completed"
    },
    "tags": []
   },
   "outputs": [],
   "source": [
    "def filter_sub_universe_data(sub_universe, org_test):\n",
    "    # Keep all rows — no filtering\n",
    "    keep_rows_mask = np.ones(org_test.shape[0], dtype=bool)\n",
    "\n",
    "    print(f\"[INFO] Keeping all rows: {keep_rows_mask.sum()} rows retained.\")\n",
    "    return keep_rows_mask"
   ]
  },
  {
   "cell_type": "code",
   "execution_count": 79,
   "id": "4a759155",
   "metadata": {
    "execution": {
     "iopub.execute_input": "2025-07-30T21:30:04.892572Z",
     "iopub.status.busy": "2025-07-30T21:30:04.892076Z",
     "iopub.status.idle": "2025-07-30T21:30:14.712887Z",
     "shell.execute_reply": "2025-07-30T21:30:14.712147Z"
    },
    "papermill": {
     "duration": 9.856517,
     "end_time": "2025-07-30T21:30:14.714373",
     "exception": false,
     "start_time": "2025-07-30T21:30:04.857856",
     "status": "completed"
    },
    "tags": []
   },
   "outputs": [
    {
     "name": "stdout",
     "output_type": "stream",
     "text": [
      "Stopping execution_time clock.\n",
      "[INFO] Keeping all rows: 89710 rows retained.\n"
     ]
    },
    {
     "name": "stdout",
     "output_type": "stream",
     "text": [
      "[INFO] Keeping all rows: 89710 rows retained.\n"
     ]
    },
    {
     "name": "stdout",
     "output_type": "stream",
     "text": [
      "[INFO] Keeping all rows: 89710 rows retained.\n"
     ]
    },
    {
     "name": "stdout",
     "output_type": "stream",
     "text": [
      "[INFO] Keeping all rows: 89710 rows retained.\n"
     ]
    },
    {
     "data": {
      "text/html": [
       "<div>\n",
       "<style scoped>\n",
       "    .dataframe tbody tr th:only-of-type {\n",
       "        vertical-align: middle;\n",
       "    }\n",
       "\n",
       "    .dataframe tbody tr th {\n",
       "        vertical-align: top;\n",
       "    }\n",
       "\n",
       "    .dataframe thead th {\n",
       "        text-align: right;\n",
       "    }\n",
       "</style>\n",
       "<table border=\"1\" class=\"dataframe\">\n",
       "  <thead>\n",
       "    <tr style=\"text-align: right;\">\n",
       "      <th></th>\n",
       "      <th>run_no</th>\n",
       "      <th>universe_id</th>\n",
       "      <th>universe_settings</th>\n",
       "      <th>execution_time</th>\n",
       "      <th>test_size_n</th>\n",
       "      <th>test_size_frac</th>\n",
       "      <th>fair_main_equalized_odds_difference</th>\n",
       "      <th>fair_main_equalized_odds_ratio</th>\n",
       "      <th>fair_main_demographic_parity_difference</th>\n",
       "      <th>fair_main_demographic_parity_ratio</th>\n",
       "      <th>...</th>\n",
       "      <th>perf_grp_precision_0</th>\n",
       "      <th>perf_grp_precision_1</th>\n",
       "      <th>perf_grp_false positive rate_0</th>\n",
       "      <th>perf_grp_false positive rate_1</th>\n",
       "      <th>perf_grp_false negative rate_0</th>\n",
       "      <th>perf_grp_false negative rate_1</th>\n",
       "      <th>perf_grp_selection rate_0</th>\n",
       "      <th>perf_grp_selection rate_1</th>\n",
       "      <th>perf_grp_count_0</th>\n",
       "      <th>perf_grp_count_1</th>\n",
       "    </tr>\n",
       "  </thead>\n",
       "  <tbody>\n",
       "    <tr>\n",
       "      <th>0</th>\n",
       "      <td>14</td>\n",
       "      <td>a1ae1242e98955fa88e56cf2c376ac96</td>\n",
       "      <td>{\"cutoff\": \"quantile_0.1\", \"eval_fairness_grou...</td>\n",
       "      <td>32.119322</td>\n",
       "      <td>89710</td>\n",
       "      <td>1.0</td>\n",
       "      <td>0.099217</td>\n",
       "      <td>0.899507</td>\n",
       "      <td>0.075687</td>\n",
       "      <td>0.918017</td>\n",
       "      <td>...</td>\n",
       "      <td>NaN</td>\n",
       "      <td>NaN</td>\n",
       "      <td>NaN</td>\n",
       "      <td>NaN</td>\n",
       "      <td>NaN</td>\n",
       "      <td>NaN</td>\n",
       "      <td>NaN</td>\n",
       "      <td>NaN</td>\n",
       "      <td>NaN</td>\n",
       "      <td>NaN</td>\n",
       "    </tr>\n",
       "    <tr>\n",
       "      <th>0</th>\n",
       "      <td>14</td>\n",
       "      <td>a1ae1242e98955fa88e56cf2c376ac96</td>\n",
       "      <td>{\"cutoff\": \"quantile_0.1\", \"eval_fairness_grou...</td>\n",
       "      <td>32.119322</td>\n",
       "      <td>89710</td>\n",
       "      <td>1.0</td>\n",
       "      <td>0.099217</td>\n",
       "      <td>0.899507</td>\n",
       "      <td>0.075687</td>\n",
       "      <td>0.918017</td>\n",
       "      <td>...</td>\n",
       "      <td>0.120807</td>\n",
       "      <td>0.141314</td>\n",
       "      <td>0.842230</td>\n",
       "      <td>0.913443</td>\n",
       "      <td>0.111909</td>\n",
       "      <td>0.012691</td>\n",
       "      <td>0.847517</td>\n",
       "      <td>0.923204</td>\n",
       "      <td>20540.0</td>\n",
       "      <td>69170.0</td>\n",
       "    </tr>\n",
       "    <tr>\n",
       "      <th>0</th>\n",
       "      <td>14</td>\n",
       "      <td>a1ae1242e98955fa88e56cf2c376ac96</td>\n",
       "      <td>{\"cutoff\": \"quantile_0.25\", \"eval_fairness_gro...</td>\n",
       "      <td>32.119322</td>\n",
       "      <td>89710</td>\n",
       "      <td>1.0</td>\n",
       "      <td>0.123177</td>\n",
       "      <td>0.869650</td>\n",
       "      <td>0.076511</td>\n",
       "      <td>0.901246</td>\n",
       "      <td>...</td>\n",
       "      <td>NaN</td>\n",
       "      <td>NaN</td>\n",
       "      <td>NaN</td>\n",
       "      <td>NaN</td>\n",
       "      <td>NaN</td>\n",
       "      <td>NaN</td>\n",
       "      <td>NaN</td>\n",
       "      <td>NaN</td>\n",
       "      <td>NaN</td>\n",
       "      <td>NaN</td>\n",
       "    </tr>\n",
       "    <tr>\n",
       "      <th>0</th>\n",
       "      <td>14</td>\n",
       "      <td>a1ae1242e98955fa88e56cf2c376ac96</td>\n",
       "      <td>{\"cutoff\": \"quantile_0.25\", \"eval_fairness_gro...</td>\n",
       "      <td>32.119322</td>\n",
       "      <td>89710</td>\n",
       "      <td>1.0</td>\n",
       "      <td>0.123177</td>\n",
       "      <td>0.869650</td>\n",
       "      <td>0.076511</td>\n",
       "      <td>0.901246</td>\n",
       "      <td>...</td>\n",
       "      <td>0.135685</td>\n",
       "      <td>0.161168</td>\n",
       "      <td>0.682148</td>\n",
       "      <td>0.748842</td>\n",
       "      <td>0.178209</td>\n",
       "      <td>0.055033</td>\n",
       "      <td>0.698247</td>\n",
       "      <td>0.774758</td>\n",
       "      <td>20540.0</td>\n",
       "      <td>69170.0</td>\n",
       "    </tr>\n",
       "  </tbody>\n",
       "</table>\n",
       "<p>4 rows × 50 columns</p>\n",
       "</div>"
      ],
      "text/plain": [
       "  run_no                       universe_id  \\\n",
       "0     14  a1ae1242e98955fa88e56cf2c376ac96   \n",
       "0     14  a1ae1242e98955fa88e56cf2c376ac96   \n",
       "0     14  a1ae1242e98955fa88e56cf2c376ac96   \n",
       "0     14  a1ae1242e98955fa88e56cf2c376ac96   \n",
       "\n",
       "                                   universe_settings  execution_time  \\\n",
       "0  {\"cutoff\": \"quantile_0.1\", \"eval_fairness_grou...       32.119322   \n",
       "0  {\"cutoff\": \"quantile_0.1\", \"eval_fairness_grou...       32.119322   \n",
       "0  {\"cutoff\": \"quantile_0.25\", \"eval_fairness_gro...       32.119322   \n",
       "0  {\"cutoff\": \"quantile_0.25\", \"eval_fairness_gro...       32.119322   \n",
       "\n",
       "   test_size_n  test_size_frac  fair_main_equalized_odds_difference  \\\n",
       "0        89710             1.0                             0.099217   \n",
       "0        89710             1.0                             0.099217   \n",
       "0        89710             1.0                             0.123177   \n",
       "0        89710             1.0                             0.123177   \n",
       "\n",
       "   fair_main_equalized_odds_ratio  fair_main_demographic_parity_difference  \\\n",
       "0                        0.899507                                 0.075687   \n",
       "0                        0.899507                                 0.075687   \n",
       "0                        0.869650                                 0.076511   \n",
       "0                        0.869650                                 0.076511   \n",
       "\n",
       "   fair_main_demographic_parity_ratio  ...  perf_grp_precision_0  \\\n",
       "0                            0.918017  ...                   NaN   \n",
       "0                            0.918017  ...              0.120807   \n",
       "0                            0.901246  ...                   NaN   \n",
       "0                            0.901246  ...              0.135685   \n",
       "\n",
       "   perf_grp_precision_1  perf_grp_false positive rate_0  \\\n",
       "0                   NaN                             NaN   \n",
       "0              0.141314                        0.842230   \n",
       "0                   NaN                             NaN   \n",
       "0              0.161168                        0.682148   \n",
       "\n",
       "   perf_grp_false positive rate_1  perf_grp_false negative rate_0  \\\n",
       "0                             NaN                             NaN   \n",
       "0                        0.913443                        0.111909   \n",
       "0                             NaN                             NaN   \n",
       "0                        0.748842                        0.178209   \n",
       "\n",
       "   perf_grp_false negative rate_1  perf_grp_selection rate_0  \\\n",
       "0                             NaN                        NaN   \n",
       "0                        0.012691                   0.847517   \n",
       "0                             NaN                        NaN   \n",
       "0                        0.055033                   0.698247   \n",
       "\n",
       "   perf_grp_selection rate_1  perf_grp_count_0  perf_grp_count_1  \n",
       "0                        NaN               NaN               NaN  \n",
       "0                   0.923204           20540.0           69170.0  \n",
       "0                        NaN               NaN               NaN  \n",
       "0                   0.774758           20540.0           69170.0  \n",
       "\n",
       "[4 rows x 50 columns]"
      ]
     },
     "execution_count": 79,
     "metadata": {},
     "output_type": "execute_result"
    }
   ],
   "source": [
    "final_output = universe_analysis.generate_final_output(\n",
    "    y_pred_prob=probs_test,\n",
    "    y_test=y_true,\n",
    "    org_test=org_test,\n",
    "    filter_data=filter_sub_universe_data,\n",
    "    cp_metrics_df=cp_metrics_df,\n",
    "    save=True,\n",
    ")\n",
    "final_output"
   ]
  },
  {
   "cell_type": "code",
   "execution_count": null,
   "id": "721ff514-cb11-46f8-b6fc-50392f74b5cb",
   "metadata": {
    "papermill": {
     "duration": 0.030511,
     "end_time": "2025-07-30T21:30:14.778838",
     "exception": false,
     "start_time": "2025-07-30T21:30:14.748327",
     "status": "completed"
    },
    "tags": []
   },
   "outputs": [],
   "source": []
  }
 ],
 "metadata": {
  "celltoolbar": "Tags",
  "kernelspec": {
   "display_name": "Python (CMA Fairness)",
   "language": "python",
   "name": "cma_fair_env"
  },
  "language_info": {
   "codemirror_mode": {
    "name": "ipython",
    "version": 3
   },
   "file_extension": ".py",
   "mimetype": "text/x-python",
   "name": "python",
   "nbconvert_exporter": "python",
   "pygments_lexer": "ipython3",
   "version": "3.10.12"
  },
  "papermill": {
   "default_parameters": {},
   "duration": 45.652744,
   "end_time": "2025-07-30T21:30:15.314672",
   "environment_variables": {},
   "exception": null,
   "input_path": "universe_analysis.ipynb",
   "output_path": "output/runs/14/notebooks/m_14-a1ae1242e98955fa88e56cf2c376ac96.ipynb",
   "parameters": {
    "output_dir": "output",
    "run_no": "14",
    "seed": "2023",
    "universe": "{\"cutoff\": [\"quantile_0.1\", \"quantile_0.25\"], \"eval_fairness_grouping\": [\"majority-minority\", \"nationality-all\"], \"exclude_features\": \"sex\", \"exclude_subgroups\": \"keep-all\", \"model\": \"rf\", \"scale\": \"do-not-scale\", \"training_size\": \"1k\", \"training_year\": \"2014\"}",
    "universe_id": "a1ae1242e98955fa88e56cf2c376ac96"
   },
   "start_time": "2025-07-30T21:29:29.661928",
   "version": "2.6.0"
  }
 },
 "nbformat": 4,
 "nbformat_minor": 5
}