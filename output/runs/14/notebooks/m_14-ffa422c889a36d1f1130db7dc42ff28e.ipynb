{
 "cells": [
  {
   "cell_type": "code",
   "execution_count": 1,
   "id": "f159f837-637b-42ba-96b5-ec9a68c44524",
   "metadata": {
    "execution": {
     "iopub.execute_input": "2025-07-30T21:47:04.437482Z",
     "iopub.status.busy": "2025-07-30T21:47:04.437042Z",
     "iopub.status.idle": "2025-07-30T21:47:04.449942Z",
     "shell.execute_reply": "2025-07-30T21:47:04.449185Z"
    },
    "papermill": {
     "duration": 0.047811,
     "end_time": "2025-07-30T21:47:04.463583",
     "exception": false,
     "start_time": "2025-07-30T21:47:04.415772",
     "status": "completed"
    },
    "tags": []
   },
   "outputs": [
    {
     "name": "stdout",
     "output_type": "stream",
     "text": [
      "/dss/dsshome1/0C/ra93lal2/cma/CMA_Fairness_v2\n"
     ]
    },
    {
     "name": "stderr",
     "output_type": "stream",
     "text": [
      "/dss/dsshome1/0C/ra93lal2/.local/share/virtualenvs/CMA_Fairness_v2-3j10GkSs/lib/python3.10/site-packages/IPython/core/magics/osm.py:393: UserWarning: This is now an optional IPython functionality, using bookmarks requires you to install the `pickleshare` library.\n",
      "  bkms = self.shell.db.get('bookmarks', {})\n",
      "/dss/dsshome1/0C/ra93lal2/.local/share/virtualenvs/CMA_Fairness_v2-3j10GkSs/lib/python3.10/site-packages/IPython/core/magics/osm.py:417: UserWarning: This is now an optional IPython functionality, setting dhist requires you to install the `pickleshare` library.\n",
      "  self.shell.db['dhist'] = compress_dhist(dhist)[-100:]\n"
     ]
    }
   ],
   "source": [
    "%cd ~/cma/CMA_Fairness_v2"
   ]
  },
  {
   "cell_type": "markdown",
   "id": "de2603b9",
   "metadata": {
    "papermill": {
     "duration": 0.019325,
     "end_time": "2025-07-30T21:47:04.520872",
     "exception": false,
     "start_time": "2025-07-30T21:47:04.501547",
     "status": "completed"
    },
    "tags": []
   },
   "source": [
    "The following cell holds the definition of our parameters, these values can be overriden by rendering the with e.g. the following command:\n",
    "\n",
    "papermill -p alpha 0.2 -p ratio 0.3 universe_analysis.ipynb output/test_run.ipynb"
   ]
  },
  {
   "cell_type": "code",
   "execution_count": 2,
   "id": "a80968a0-40bb-4fa9-85ef-2d5eefb01975",
   "metadata": {
    "execution": {
     "iopub.execute_input": "2025-07-30T21:47:04.561076Z",
     "iopub.status.busy": "2025-07-30T21:47:04.560094Z",
     "iopub.status.idle": "2025-07-30T21:47:04.566505Z",
     "shell.execute_reply": "2025-07-30T21:47:04.565612Z"
    },
    "papermill": {
     "duration": 0.028145,
     "end_time": "2025-07-30T21:47:04.568424",
     "exception": false,
     "start_time": "2025-07-30T21:47:04.540279",
     "status": "completed"
    },
    "tags": []
   },
   "outputs": [
    {
     "name": "stdout",
     "output_type": "stream",
     "text": [
      "Current working directory: /dss/dsshome1/0C/ra93lal2/cma/CMA_Fairness_v2\n"
     ]
    }
   ],
   "source": [
    "import os\n",
    "print(\"Current working directory:\", os.getcwd())"
   ]
  },
  {
   "cell_type": "code",
   "execution_count": 3,
   "id": "2dce4c03",
   "metadata": {
    "execution": {
     "iopub.execute_input": "2025-07-30T21:47:04.623342Z",
     "iopub.status.busy": "2025-07-30T21:47:04.622622Z",
     "iopub.status.idle": "2025-07-30T21:47:04.629310Z",
     "shell.execute_reply": "2025-07-30T21:47:04.628467Z"
    },
    "papermill": {
     "duration": 0.036098,
     "end_time": "2025-07-30T21:47:04.630890",
     "exception": false,
     "start_time": "2025-07-30T21:47:04.594792",
     "status": "completed"
    },
    "tags": [
     "parameters"
    ]
   },
   "outputs": [],
   "source": [
    "run_no = 0\n",
    "universe_id = \"test\"\n",
    "universe = {\n",
    "    \"training_size\": \"25k\", # \"25k\", \"5k\", \"1k\"\n",
    "    \"training_year\": \"2014\", # \"2014\", \"2012_14\", \"2010_14\"\n",
    "    \"scale\": \"scale\", # \"scale\", \"do-not-scale\",\n",
    "    #\"stratify_split\": \"target\", # \"none\", \"target\", \"protected-attribute\", \"both\",\n",
    "    \"model\": \"elasticnet\", # \"logreg\", \"penalized_logreg\", \"rf\", \"gbm\", \"elasticnet\"\n",
    "    \"cutoff\": [\"quantile_0.15\", \"quantile_0.30\"],\n",
    "    \"exclude_features\": \"age\", # \"none\", \"nationality\", \"sex\", \"nationality-sex\", \"age\"\n",
    "    \"exclude_subgroups\": \"keep-all\", # \"keep-all\", \"drop-non-german\"\n",
    "    \"eval_fairness_grouping\": [\"majority-minority\", \"nationality-all\"]\n",
    "}\n",
    "\n",
    "output_dir=\"./output\"\n",
    "seed=0"
   ]
  },
  {
   "cell_type": "code",
   "execution_count": 4,
   "id": "3be89dc9",
   "metadata": {
    "execution": {
     "iopub.execute_input": "2025-07-30T21:47:04.670752Z",
     "iopub.status.busy": "2025-07-30T21:47:04.669955Z",
     "iopub.status.idle": "2025-07-30T21:47:04.675695Z",
     "shell.execute_reply": "2025-07-30T21:47:04.674729Z"
    },
    "papermill": {
     "duration": 0.027007,
     "end_time": "2025-07-30T21:47:04.677189",
     "exception": false,
     "start_time": "2025-07-30T21:47:04.650182",
     "status": "completed"
    },
    "tags": [
     "injected-parameters"
    ]
   },
   "outputs": [],
   "source": [
    "# Parameters\n",
    "universe_id = \"ffa422c889a36d1f1130db7dc42ff28e\"\n",
    "run_no = \"14\"\n",
    "universe = \"{\\\"cutoff\\\": [\\\"quantile_0.1\\\", \\\"quantile_0.25\\\"], \\\"eval_fairness_grouping\\\": [\\\"majority-minority\\\", \\\"nationality-all\\\"], \\\"exclude_features\\\": \\\"sex\\\", \\\"exclude_subgroups\\\": \\\"keep-all\\\", \\\"model\\\": \\\"gbm\\\", \\\"scale\\\": \\\"scale\\\", \\\"training_size\\\": \\\"1k\\\", \\\"training_year\\\": \\\"2010_14\\\"}\"\n",
    "output_dir = \"output\"\n",
    "seed = \"2023\"\n"
   ]
  },
  {
   "cell_type": "code",
   "execution_count": 5,
   "id": "1650acaf",
   "metadata": {
    "execution": {
     "iopub.execute_input": "2025-07-30T21:47:04.719434Z",
     "iopub.status.busy": "2025-07-30T21:47:04.718565Z",
     "iopub.status.idle": "2025-07-30T21:47:04.724331Z",
     "shell.execute_reply": "2025-07-30T21:47:04.723098Z"
    },
    "papermill": {
     "duration": 0.029338,
     "end_time": "2025-07-30T21:47:04.726054",
     "exception": false,
     "start_time": "2025-07-30T21:47:04.696716",
     "status": "completed"
    },
    "tags": []
   },
   "outputs": [],
   "source": [
    "import json\n",
    "# Parse universe into dict if it is passed as a string\n",
    "if isinstance(universe, str):\n",
    "    universe = json.loads(universe)"
   ]
  },
  {
   "cell_type": "code",
   "execution_count": 6,
   "id": "16620c48",
   "metadata": {
    "execution": {
     "iopub.execute_input": "2025-07-30T21:47:04.767245Z",
     "iopub.status.busy": "2025-07-30T21:47:04.766524Z",
     "iopub.status.idle": "2025-07-30T21:47:04.812298Z",
     "shell.execute_reply": "2025-07-30T21:47:04.811380Z"
    },
    "papermill": {
     "duration": 0.067664,
     "end_time": "2025-07-30T21:47:04.814112",
     "exception": false,
     "start_time": "2025-07-30T21:47:04.746448",
     "status": "completed"
    },
    "tags": []
   },
   "outputs": [],
   "source": [
    "# Auto-reload the custom package\n",
    "%load_ext autoreload\n",
    "%autoreload 1\n",
    "%aimport fairness_multiverse"
   ]
  },
  {
   "cell_type": "code",
   "execution_count": 7,
   "id": "01c5c9f3",
   "metadata": {
    "execution": {
     "iopub.execute_input": "2025-07-30T21:47:04.853374Z",
     "iopub.status.busy": "2025-07-30T21:47:04.852749Z",
     "iopub.status.idle": "2025-07-30T21:47:06.856361Z",
     "shell.execute_reply": "2025-07-30T21:47:06.855155Z"
    },
    "papermill": {
     "duration": 2.024996,
     "end_time": "2025-07-30T21:47:06.858207",
     "exception": false,
     "start_time": "2025-07-30T21:47:04.833211",
     "status": "completed"
    },
    "tags": []
   },
   "outputs": [],
   "source": [
    "from fairness_multiverse.universe import UniverseAnalysis\n",
    "\n",
    "universe_analysis = UniverseAnalysis(\n",
    "    run_no = run_no,\n",
    "    universe_id = universe_id,\n",
    "    universe = universe,\n",
    "    output_dir=output_dir,\n",
    ")"
   ]
  },
  {
   "cell_type": "code",
   "execution_count": 8,
   "id": "106241f5",
   "metadata": {
    "execution": {
     "iopub.execute_input": "2025-07-30T21:47:06.897425Z",
     "iopub.status.busy": "2025-07-30T21:47:06.896950Z",
     "iopub.status.idle": "2025-07-30T21:47:06.905703Z",
     "shell.execute_reply": "2025-07-30T21:47:06.904290Z"
    },
    "papermill": {
     "duration": 0.030905,
     "end_time": "2025-07-30T21:47:06.907445",
     "exception": false,
     "start_time": "2025-07-30T21:47:06.876540",
     "status": "completed"
    },
    "tags": []
   },
   "outputs": [
    {
     "name": "stdout",
     "output_type": "stream",
     "text": [
      "Using Seed: 2023\n"
     ]
    }
   ],
   "source": [
    "import numpy as np\n",
    "parsed_seed = int(seed)\n",
    "np.random.seed(parsed_seed)\n",
    "print(f\"Using Seed: {parsed_seed}\")"
   ]
  },
  {
   "cell_type": "markdown",
   "id": "e0ebdc57",
   "metadata": {
    "papermill": {
     "duration": 0.019347,
     "end_time": "2025-07-30T21:47:06.946182",
     "exception": false,
     "start_time": "2025-07-30T21:47:06.926835",
     "status": "completed"
    },
    "tags": []
   },
   "source": [
    "# Loading Data"
   ]
  },
  {
   "cell_type": "markdown",
   "id": "681925a3",
   "metadata": {
    "papermill": {
     "duration": 0.019449,
     "end_time": "2025-07-30T21:47:06.984886",
     "exception": false,
     "start_time": "2025-07-30T21:47:06.965437",
     "status": "completed"
    },
    "tags": []
   },
   "source": [
    "Load siab_train, siab_test, siab_calib and/or \n",
    "load siab_train_features, siab_train_labels"
   ]
  },
  {
   "cell_type": "code",
   "execution_count": 9,
   "id": "f0496b8a",
   "metadata": {
    "execution": {
     "iopub.execute_input": "2025-07-30T21:47:07.026724Z",
     "iopub.status.busy": "2025-07-30T21:47:07.025902Z",
     "iopub.status.idle": "2025-07-30T21:47:20.553400Z",
     "shell.execute_reply": "2025-07-30T21:47:20.551911Z"
    },
    "papermill": {
     "duration": 13.55051,
     "end_time": "2025-07-30T21:47:20.555463",
     "exception": false,
     "start_time": "2025-07-30T21:47:07.004953",
     "status": "completed"
    },
    "tags": []
   },
   "outputs": [
    {
     "name": "stdout",
     "output_type": "stream",
     "text": [
      "Loading SIAB data from cache: data/siab_cached.csv.gz\n"
     ]
    },
    {
     "name": "stdout",
     "output_type": "stream",
     "text": [
      "(643690, 164)\n"
     ]
    }
   ],
   "source": [
    "from pathlib import Path\n",
    "import pandas as pd\n",
    "\n",
    "# File paths\n",
    "raw_file = Path(\"data/raw/siab.csv\")\n",
    "cache_file = Path(\"data/siab_cached.csv.gz\")\n",
    "\n",
    "# Ensure cache directory exists\n",
    "cache_file.parent.mkdir(parents=True, exist_ok=True)\n",
    "\n",
    "# Load with simple caching\n",
    "if cache_file.exists():\n",
    "    print(f\"Loading SIAB data from cache: {cache_file}\")\n",
    "    siab = pd.read_csv(cache_file, compression='gzip')\n",
    "else:\n",
    "    print(f\"Cache not found. Reading raw SIAB data: {raw_file}\")\n",
    "    siab = pd.read_csv(raw_file)\n",
    "    siab.to_csv(cache_file, index=False, compression='gzip')\n",
    "    print(f\"Cached SIAB data to: {cache_file}\")\n",
    "\n",
    "# Now use `siab` DataFrame as needed\n",
    "print(siab.shape)"
   ]
  },
  {
   "cell_type": "code",
   "execution_count": 10,
   "id": "db0ca512-5f53-4dba-abdb-a2888bca41ba",
   "metadata": {
    "execution": {
     "iopub.execute_input": "2025-07-30T21:47:20.605234Z",
     "iopub.status.busy": "2025-07-30T21:47:20.604249Z",
     "iopub.status.idle": "2025-07-30T21:47:20.611203Z",
     "shell.execute_reply": "2025-07-30T21:47:20.610105Z"
    },
    "papermill": {
     "duration": 0.031159,
     "end_time": "2025-07-30T21:47:20.612905",
     "exception": false,
     "start_time": "2025-07-30T21:47:20.581746",
     "status": "completed"
    },
    "tags": []
   },
   "outputs": [],
   "source": [
    "#siab"
   ]
  },
  {
   "cell_type": "code",
   "execution_count": 11,
   "id": "a0edb063",
   "metadata": {
    "execution": {
     "iopub.execute_input": "2025-07-30T21:47:20.657101Z",
     "iopub.status.busy": "2025-07-30T21:47:20.656448Z",
     "iopub.status.idle": "2025-07-30T21:47:20.661494Z",
     "shell.execute_reply": "2025-07-30T21:47:20.660486Z"
    },
    "papermill": {
     "duration": 0.02863,
     "end_time": "2025-07-30T21:47:20.662993",
     "exception": false,
     "start_time": "2025-07-30T21:47:20.634363",
     "status": "completed"
    },
    "tags": []
   },
   "outputs": [],
   "source": [
    "#import pandas as pd\n",
    "#\n",
    "#X_train = pd.read_csv(\"./data/X_train.csv\")\n",
    "#y_train = pd.read_csv(\"./data/y_train.csv\")"
   ]
  },
  {
   "cell_type": "code",
   "execution_count": 12,
   "id": "63d08085",
   "metadata": {
    "execution": {
     "iopub.execute_input": "2025-07-30T21:47:20.708678Z",
     "iopub.status.busy": "2025-07-30T21:47:20.707913Z",
     "iopub.status.idle": "2025-07-30T21:47:20.713275Z",
     "shell.execute_reply": "2025-07-30T21:47:20.712256Z"
    },
    "papermill": {
     "duration": 0.029697,
     "end_time": "2025-07-30T21:47:20.714752",
     "exception": false,
     "start_time": "2025-07-30T21:47:20.685055",
     "status": "completed"
    },
    "tags": []
   },
   "outputs": [],
   "source": [
    "#X_test = pd.read_csv(\"./data/X_test.csv\")\n",
    "#y_true = pd.read_csv(\"./data/y_test.csv\")"
   ]
  },
  {
   "cell_type": "code",
   "execution_count": 13,
   "id": "98a8d0fa-1d3d-4ed8-bb2c-281470e24add",
   "metadata": {
    "execution": {
     "iopub.execute_input": "2025-07-30T21:47:20.758249Z",
     "iopub.status.busy": "2025-07-30T21:47:20.757338Z",
     "iopub.status.idle": "2025-07-30T21:47:20.762702Z",
     "shell.execute_reply": "2025-07-30T21:47:20.761722Z"
    },
    "papermill": {
     "duration": 0.02924,
     "end_time": "2025-07-30T21:47:20.764398",
     "exception": false,
     "start_time": "2025-07-30T21:47:20.735158",
     "status": "completed"
    },
    "tags": []
   },
   "outputs": [],
   "source": [
    "# Calibration data for conformal\n",
    "#X_calib = pd.read_csv(\"./data/X_calib.csv\")\n",
    "#y_calib = pd.read_csv(\"./data/y_calib.csv\")"
   ]
  },
  {
   "cell_type": "markdown",
   "id": "997051c5-15bd-4b69-9786-c3001a3ce484",
   "metadata": {
    "papermill": {
     "duration": 0.019736,
     "end_time": "2025-07-30T21:47:20.804756",
     "exception": false,
     "start_time": "2025-07-30T21:47:20.785020",
     "status": "completed"
    },
    "tags": []
   },
   "source": [
    "# Splitting Data and Setting Training Data Size"
   ]
  },
  {
   "cell_type": "code",
   "execution_count": 14,
   "id": "e993b61f-042d-41a6-8c81-f55681f86335",
   "metadata": {
    "execution": {
     "iopub.execute_input": "2025-07-30T21:47:20.851799Z",
     "iopub.status.busy": "2025-07-30T21:47:20.850777Z",
     "iopub.status.idle": "2025-07-30T21:47:20.864422Z",
     "shell.execute_reply": "2025-07-30T21:47:20.863419Z"
    },
    "papermill": {
     "duration": 0.037913,
     "end_time": "2025-07-30T21:47:20.866043",
     "exception": false,
     "start_time": "2025-07-30T21:47:20.828130",
     "status": "completed"
    },
    "tags": []
   },
   "outputs": [],
   "source": [
    "def sample_by_year_size(df,\n",
    "                        training_year: str,\n",
    "                        training_size: str,\n",
    "                        random_state: int = 42):\n",
    "    # --- parse training_year into a list of int years ---\n",
    "    if \"_\" in training_year:\n",
    "        start_str, end_str = training_year.split(\"_\", 1)\n",
    "        start = int(start_str)\n",
    "        end   = int(end_str) if len(end_str) == 4 else (int(end_str) + (start // 100)*100)\n",
    "        years = list(range(start, end + 1))\n",
    "    else:\n",
    "        years = [int(training_year)]\n",
    "\n",
    "    df = df[df[\"year\"].isin(years)].reset_index(drop=True)\n",
    "\n",
    "    # --- map training_size to total number of samples ---\n",
    "    total_map = {\"25k\": 25_000, \"5k\": 5_000, \"1k\": 1_000}\n",
    "    if training_size not in total_map:\n",
    "        return df  # e.g. \"all\"\n",
    "\n",
    "    total_samples = total_map[training_size]\n",
    "    n_years       = len(years)\n",
    "    base          = total_samples // n_years\n",
    "    remainder     = total_samples % n_years\n",
    "\n",
    "    # --- build a dict: year -> how many to sample ---\n",
    "    # give +1 to the first `remainder` years in ascending order\n",
    "    quotas = {\n",
    "        year: base + (1 if idx < remainder else 0)\n",
    "        for idx, year in enumerate(sorted(years))\n",
    "    }\n",
    "\n",
    "    # --- sample per‐year according to the quota dict ---\n",
    "    sampled = (\n",
    "        df\n",
    "        .groupby(\"year\", group_keys=False)\n",
    "        .apply(lambda grp: grp.sample(\n",
    "            n=min(len(grp), quotas[grp.name]),\n",
    "            random_state=random_state))\n",
    "        .reset_index(drop=True)\n",
    "    )\n",
    "\n",
    "    return sampled"
   ]
  },
  {
   "cell_type": "code",
   "execution_count": 15,
   "id": "c0ccd338-0e02-41f3-a09d-f56f9266e3fb",
   "metadata": {
    "execution": {
     "iopub.execute_input": "2025-07-30T21:47:20.915221Z",
     "iopub.status.busy": "2025-07-30T21:47:20.914471Z",
     "iopub.status.idle": "2025-07-30T21:47:20.920739Z",
     "shell.execute_reply": "2025-07-30T21:47:20.919450Z"
    },
    "papermill": {
     "duration": 0.033735,
     "end_time": "2025-07-30T21:47:20.922410",
     "exception": false,
     "start_time": "2025-07-30T21:47:20.888675",
     "status": "completed"
    },
    "tags": []
   },
   "outputs": [],
   "source": [
    "#universe[\"training_size\"]"
   ]
  },
  {
   "cell_type": "code",
   "execution_count": 16,
   "id": "ca707fd7-8047-4acd-bfa5-66248fbbf8e6",
   "metadata": {
    "execution": {
     "iopub.execute_input": "2025-07-30T21:47:20.967562Z",
     "iopub.status.busy": "2025-07-30T21:47:20.966900Z",
     "iopub.status.idle": "2025-07-30T21:47:20.971859Z",
     "shell.execute_reply": "2025-07-30T21:47:20.970972Z"
    },
    "papermill": {
     "duration": 0.02979,
     "end_time": "2025-07-30T21:47:20.973593",
     "exception": false,
     "start_time": "2025-07-30T21:47:20.943803",
     "status": "completed"
    },
    "tags": []
   },
   "outputs": [],
   "source": [
    "#universe[\"training_year\"]"
   ]
  },
  {
   "cell_type": "code",
   "execution_count": 17,
   "id": "aea9c6ef-6f46-42c8-85eb-5a62025c1508",
   "metadata": {
    "execution": {
     "iopub.execute_input": "2025-07-30T21:47:21.018294Z",
     "iopub.status.busy": "2025-07-30T21:47:21.017630Z",
     "iopub.status.idle": "2025-07-30T21:47:22.067065Z",
     "shell.execute_reply": "2025-07-30T21:47:22.065998Z"
    },
    "papermill": {
     "duration": 1.074073,
     "end_time": "2025-07-30T21:47:22.069470",
     "exception": false,
     "start_time": "2025-07-30T21:47:20.995397",
     "status": "completed"
    },
    "tags": []
   },
   "outputs": [],
   "source": [
    "siab_train = sample_by_year_size(siab,\n",
    "                               training_year=universe[\"training_year\"],\n",
    "                               training_size=universe[\"training_size\"])"
   ]
  },
  {
   "cell_type": "code",
   "execution_count": 18,
   "id": "8d3afb32-789d-442c-8d5d-9f5aa8dd2eed",
   "metadata": {
    "execution": {
     "iopub.execute_input": "2025-07-30T21:47:22.155219Z",
     "iopub.status.busy": "2025-07-30T21:47:22.154472Z",
     "iopub.status.idle": "2025-07-30T21:47:22.160142Z",
     "shell.execute_reply": "2025-07-30T21:47:22.158800Z"
    },
    "papermill": {
     "duration": 0.065428,
     "end_time": "2025-07-30T21:47:22.162284",
     "exception": false,
     "start_time": "2025-07-30T21:47:22.096856",
     "status": "completed"
    },
    "tags": []
   },
   "outputs": [],
   "source": [
    "#siab_train.shape"
   ]
  },
  {
   "cell_type": "code",
   "execution_count": 19,
   "id": "d582db68-1a4c-47fb-84fc-08518dc1975a",
   "metadata": {
    "execution": {
     "iopub.execute_input": "2025-07-30T21:47:22.218932Z",
     "iopub.status.busy": "2025-07-30T21:47:22.218056Z",
     "iopub.status.idle": "2025-07-30T21:47:22.224638Z",
     "shell.execute_reply": "2025-07-30T21:47:22.223098Z"
    },
    "papermill": {
     "duration": 0.037639,
     "end_time": "2025-07-30T21:47:22.226789",
     "exception": false,
     "start_time": "2025-07-30T21:47:22.189150",
     "status": "completed"
    },
    "tags": []
   },
   "outputs": [],
   "source": [
    "#display(siab_train.groupby(\"year\").size())"
   ]
  },
  {
   "cell_type": "code",
   "execution_count": 20,
   "id": "a561edb4-d032-42cb-8256-22eac1111c64",
   "metadata": {
    "execution": {
     "iopub.execute_input": "2025-07-30T21:47:22.284394Z",
     "iopub.status.busy": "2025-07-30T21:47:22.283489Z",
     "iopub.status.idle": "2025-07-30T21:47:22.615803Z",
     "shell.execute_reply": "2025-07-30T21:47:22.614507Z"
    },
    "papermill": {
     "duration": 0.364437,
     "end_time": "2025-07-30T21:47:22.618682",
     "exception": false,
     "start_time": "2025-07-30T21:47:22.254245",
     "status": "completed"
    },
    "tags": []
   },
   "outputs": [],
   "source": [
    "#siab_train = siab_s[siab_s.year < 2015]\n",
    "siab_calib = siab[siab.year == 2015]\n",
    "siab_test = siab[siab.year == 2016]"
   ]
  },
  {
   "cell_type": "code",
   "execution_count": 21,
   "id": "472de16f-c3db-4916-846b-1f0de9cf1746",
   "metadata": {
    "execution": {
     "iopub.execute_input": "2025-07-30T21:47:22.682351Z",
     "iopub.status.busy": "2025-07-30T21:47:22.681486Z",
     "iopub.status.idle": "2025-07-30T21:47:22.690768Z",
     "shell.execute_reply": "2025-07-30T21:47:22.689342Z"
    },
    "papermill": {
     "duration": 0.043014,
     "end_time": "2025-07-30T21:47:22.693259",
     "exception": false,
     "start_time": "2025-07-30T21:47:22.650245",
     "status": "completed"
    },
    "tags": []
   },
   "outputs": [],
   "source": [
    "X_train = siab_train.iloc[:,4:164]\n",
    "y_train = siab_train.iloc[:, [3]]"
   ]
  },
  {
   "cell_type": "code",
   "execution_count": 22,
   "id": "828c96af-f43a-4ed6-ba47-8ac73a47d56c",
   "metadata": {
    "execution": {
     "iopub.execute_input": "2025-07-30T21:47:22.759003Z",
     "iopub.status.busy": "2025-07-30T21:47:22.758152Z",
     "iopub.status.idle": "2025-07-30T21:47:22.825347Z",
     "shell.execute_reply": "2025-07-30T21:47:22.824084Z"
    },
    "papermill": {
     "duration": 0.102855,
     "end_time": "2025-07-30T21:47:22.828009",
     "exception": false,
     "start_time": "2025-07-30T21:47:22.725154",
     "status": "completed"
    },
    "tags": []
   },
   "outputs": [],
   "source": [
    "X_calib = siab_calib.iloc[:,4:164]\n",
    "y_calib = siab_calib.iloc[:, [3]]"
   ]
  },
  {
   "cell_type": "code",
   "execution_count": 23,
   "id": "c34be9c3-6bd6-476e-acd3-845840e303be",
   "metadata": {
    "execution": {
     "iopub.execute_input": "2025-07-30T21:47:22.894345Z",
     "iopub.status.busy": "2025-07-30T21:47:22.893434Z",
     "iopub.status.idle": "2025-07-30T21:47:22.970234Z",
     "shell.execute_reply": "2025-07-30T21:47:22.968619Z"
    },
    "papermill": {
     "duration": 0.113553,
     "end_time": "2025-07-30T21:47:22.973108",
     "exception": false,
     "start_time": "2025-07-30T21:47:22.859555",
     "status": "completed"
    },
    "tags": []
   },
   "outputs": [],
   "source": [
    "X_test = siab_test.iloc[:,4:164]\n",
    "y_true = siab_test.iloc[:, [3]]"
   ]
  },
  {
   "cell_type": "markdown",
   "id": "9901737e-04df-44f0-9100-f5ad144ed040",
   "metadata": {
    "papermill": {
     "duration": 0.032927,
     "end_time": "2025-07-30T21:47:23.042756",
     "exception": false,
     "start_time": "2025-07-30T21:47:23.009829",
     "status": "completed"
    },
    "tags": []
   },
   "source": [
    "# Splitting Data and Setting Training Data Size OLD VERSION"
   ]
  },
  {
   "cell_type": "code",
   "execution_count": 24,
   "id": "acbc8f7d-8fc8-4e86-8c59-5dcb0f58384b",
   "metadata": {
    "execution": {
     "iopub.execute_input": "2025-07-30T21:47:23.110190Z",
     "iopub.status.busy": "2025-07-30T21:47:23.108675Z",
     "iopub.status.idle": "2025-07-30T21:47:23.117187Z",
     "shell.execute_reply": "2025-07-30T21:47:23.115626Z"
    },
    "papermill": {
     "duration": 0.04417,
     "end_time": "2025-07-30T21:47:23.119732",
     "exception": false,
     "start_time": "2025-07-30T21:47:23.075562",
     "status": "completed"
    },
    "tags": []
   },
   "outputs": [],
   "source": [
    "#def sample_by_year(df, training_size, random_state=42):\n",
    "#    if training_size == \"2014\":\n",
    "#        return df[df[\"year\"] == 2014].reset_index(drop=True)\n",
    "#    \n",
    "#    size_map = {\n",
    "#        \"25k\": 5000,\n",
    "#        \"5k\": 1000,\n",
    "#        \"1k\": 200\n",
    "#    }\n",
    "#\n",
    "#    if training_size not in size_map:\n",
    "#        return df.reset_index(drop=True)  # use all data\n",
    "#\n",
    "#    n_per_year = size_map[training_size]\n",
    "#    grouped = df.groupby(\"year\")\n",
    "#    sampled = grouped.apply(lambda x: x.sample(n=min(n_per_year, len(x)), random_state=random_state))\n",
    "#    return sampled.reset_index(drop=True)"
   ]
  },
  {
   "cell_type": "code",
   "execution_count": 25,
   "id": "6d931f52-beaf-43ff-9e78-9d44a448d54e",
   "metadata": {
    "execution": {
     "iopub.execute_input": "2025-07-30T21:47:23.187784Z",
     "iopub.status.busy": "2025-07-30T21:47:23.187021Z",
     "iopub.status.idle": "2025-07-30T21:47:23.193965Z",
     "shell.execute_reply": "2025-07-30T21:47:23.192490Z"
    },
    "papermill": {
     "duration": 0.045015,
     "end_time": "2025-07-30T21:47:23.196774",
     "exception": false,
     "start_time": "2025-07-30T21:47:23.151759",
     "status": "completed"
    },
    "tags": []
   },
   "outputs": [],
   "source": [
    "#siab_s = sample_by_year(siab, universe[\"training_size\"])"
   ]
  },
  {
   "cell_type": "code",
   "execution_count": 26,
   "id": "5db0a40e-a4e2-4920-be85-b12ae061d70d",
   "metadata": {
    "execution": {
     "iopub.execute_input": "2025-07-30T21:47:23.264159Z",
     "iopub.status.busy": "2025-07-30T21:47:23.263116Z",
     "iopub.status.idle": "2025-07-30T21:47:23.269892Z",
     "shell.execute_reply": "2025-07-30T21:47:23.268889Z"
    },
    "papermill": {
     "duration": 0.042245,
     "end_time": "2025-07-30T21:47:23.272228",
     "exception": false,
     "start_time": "2025-07-30T21:47:23.229983",
     "status": "completed"
    },
    "tags": []
   },
   "outputs": [],
   "source": [
    "#display(siab_s.groupby(\"year\").size())"
   ]
  },
  {
   "cell_type": "code",
   "execution_count": 27,
   "id": "e6c733c5",
   "metadata": {
    "execution": {
     "iopub.execute_input": "2025-07-30T21:47:23.341985Z",
     "iopub.status.busy": "2025-07-30T21:47:23.341220Z",
     "iopub.status.idle": "2025-07-30T21:47:23.499899Z",
     "shell.execute_reply": "2025-07-30T21:47:23.498758Z"
    },
    "papermill": {
     "duration": 0.195386,
     "end_time": "2025-07-30T21:47:23.502145",
     "exception": false,
     "start_time": "2025-07-30T21:47:23.306759",
     "status": "completed"
    },
    "tags": []
   },
   "outputs": [],
   "source": [
    "# Auxiliary data needed downstream in the pipeline\n",
    "\n",
    "org_train = X_train.copy()\n",
    "org_test = X_test.copy()\n",
    "org_calib = X_calib.copy()"
   ]
  },
  {
   "cell_type": "code",
   "execution_count": 28,
   "id": "1466abac-c6da-4492-a62f-4240ae3783af",
   "metadata": {
    "execution": {
     "iopub.execute_input": "2025-07-30T21:47:23.549835Z",
     "iopub.status.busy": "2025-07-30T21:47:23.549267Z",
     "iopub.status.idle": "2025-07-30T21:47:23.555648Z",
     "shell.execute_reply": "2025-07-30T21:47:23.554535Z"
    },
    "papermill": {
     "duration": 0.033429,
     "end_time": "2025-07-30T21:47:23.557670",
     "exception": false,
     "start_time": "2025-07-30T21:47:23.524241",
     "status": "completed"
    },
    "tags": []
   },
   "outputs": [],
   "source": [
    "# put in other script?\n",
    "# Group sizes\n",
    "\n",
    "#def calculate_percentages(df, df_name):\n",
    "#    total_entries = len(df)\n",
    "#\n",
    "#    female_pct = (df['frau1'] == 1).mean() * 100\n",
    "#    non_german_pct = ((df['maxdeutsch1'] == 0) & (df['maxdeutsch.Missing.'] == 0)).mean() * 100\n",
    "#    non_german_male_pct = ((df['frau1'] == 0) & (df['maxdeutsch1'] == 0) & (df['maxdeutsch.Missing.'] == 0)).mean() * 100\n",
    "#    non_german_female_pct = ((df['frau1'] == 1) & (df['maxdeutsch1'] == 0) & (df['maxdeutsch.Missing.'] == 0)).mean() * 100\n",
    "#\n",
    "#    print(f\"--- {df_name} ---\")\n",
    "#    print(f\"Female: {female_pct:.2f}%\")\n",
    "#    print(f\"Non-German: {non_german_pct:.2f}%\")\n",
    "#    print(f\"Non-German Male: {non_german_male_pct:.2f}%\")\n",
    "#    print(f\"Non-German Female: {non_german_female_pct:.2f}%\\n\")\n",
    "#\n",
    "## Calculate for each DataFrame\n",
    "#calculate_percentages(siab_calib, \"siab_calib\")\n",
    "#calculate_percentages(siab_test, \"siab_test\")\n",
    "#calculate_percentages(siab_train, \"siab_train\")"
   ]
  },
  {
   "cell_type": "markdown",
   "id": "0a4a1b33",
   "metadata": {
    "papermill": {
     "duration": 0.023402,
     "end_time": "2025-07-30T21:47:23.604027",
     "exception": false,
     "start_time": "2025-07-30T21:47:23.580625",
     "status": "completed"
    },
    "tags": []
   },
   "source": [
    "# Preprocessing Data"
   ]
  },
  {
   "cell_type": "code",
   "execution_count": 29,
   "id": "ca879031",
   "metadata": {
    "execution": {
     "iopub.execute_input": "2025-07-30T21:47:23.651775Z",
     "iopub.status.busy": "2025-07-30T21:47:23.651240Z",
     "iopub.status.idle": "2025-07-30T21:47:23.657952Z",
     "shell.execute_reply": "2025-07-30T21:47:23.656738Z"
    },
    "papermill": {
     "duration": 0.033244,
     "end_time": "2025-07-30T21:47:23.660285",
     "exception": false,
     "start_time": "2025-07-30T21:47:23.627041",
     "status": "completed"
    },
    "tags": []
   },
   "outputs": [],
   "source": [
    "# EXCLUDE PROTECTED FEATURES\n",
    "# ----------------------\n",
    "# \"exclude_features\": \"none\", # \"nationality\", \"sex\", \"nationality-sex\"\n",
    "\n",
    "excluded_features = universe[\"exclude_features\"].split(\"-\") # split, e.g.: \"nationality-sex\" -> [\"nationality\", \"sex\"]\n",
    "excluded_features_dictionary = {\n",
    "    \"nationality\": [\"maxdeutsch1\", \"maxdeutsch.Missing.\"],\n",
    "    \"sex\": [\"frau1\"],\n",
    "    \"age\": [\"age\"],\n",
    "}\n"
   ]
  },
  {
   "cell_type": "code",
   "execution_count": 30,
   "id": "b745ac60",
   "metadata": {
    "execution": {
     "iopub.execute_input": "2025-07-30T21:47:23.707678Z",
     "iopub.status.busy": "2025-07-30T21:47:23.707107Z",
     "iopub.status.idle": "2025-07-30T21:47:23.714422Z",
     "shell.execute_reply": "2025-07-30T21:47:23.713507Z"
    },
    "papermill": {
     "duration": 0.031995,
     "end_time": "2025-07-30T21:47:23.716259",
     "exception": false,
     "start_time": "2025-07-30T21:47:23.684264",
     "status": "completed"
    },
    "tags": []
   },
   "outputs": [],
   "source": [
    "# Code nice names to column names\n",
    "\n",
    "excluded_features_columns = [\n",
    "    excluded_features_dictionary[f] for f in excluded_features if len(f) > 0 and f != \"none\"\n",
    "]"
   ]
  },
  {
   "cell_type": "code",
   "execution_count": 31,
   "id": "f84f73a2",
   "metadata": {
    "execution": {
     "iopub.execute_input": "2025-07-30T21:47:23.762668Z",
     "iopub.status.busy": "2025-07-30T21:47:23.762102Z",
     "iopub.status.idle": "2025-07-30T21:47:23.769485Z",
     "shell.execute_reply": "2025-07-30T21:47:23.768436Z"
    },
    "papermill": {
     "duration": 0.03375,
     "end_time": "2025-07-30T21:47:23.772216",
     "exception": false,
     "start_time": "2025-07-30T21:47:23.738466",
     "status": "completed"
    },
    "tags": []
   },
   "outputs": [],
   "source": [
    "from utils import flatten_once\n",
    "\n",
    "excluded_features_columns = flatten_once(excluded_features_columns)"
   ]
  },
  {
   "cell_type": "code",
   "execution_count": 32,
   "id": "884dea22",
   "metadata": {
    "execution": {
     "iopub.execute_input": "2025-07-30T21:47:23.842901Z",
     "iopub.status.busy": "2025-07-30T21:47:23.842189Z",
     "iopub.status.idle": "2025-07-30T21:47:23.852776Z",
     "shell.execute_reply": "2025-07-30T21:47:23.851463Z"
    },
    "papermill": {
     "duration": 0.048334,
     "end_time": "2025-07-30T21:47:23.854686",
     "exception": false,
     "start_time": "2025-07-30T21:47:23.806352",
     "status": "completed"
    },
    "tags": []
   },
   "outputs": [
    {
     "name": "stdout",
     "output_type": "stream",
     "text": [
      "Dropping features: ['frau1']\n"
     ]
    }
   ],
   "source": [
    "if len(excluded_features_columns) > 0:\n",
    "    print(f\"Dropping features: {excluded_features_columns}\")\n",
    "    X_train.drop(excluded_features_columns, axis=1, inplace=True)"
   ]
  },
  {
   "cell_type": "code",
   "execution_count": 33,
   "id": "95ab8b16",
   "metadata": {
    "execution": {
     "iopub.execute_input": "2025-07-30T21:47:23.902174Z",
     "iopub.status.busy": "2025-07-30T21:47:23.901185Z",
     "iopub.status.idle": "2025-07-30T21:47:23.985473Z",
     "shell.execute_reply": "2025-07-30T21:47:23.984476Z"
    },
    "papermill": {
     "duration": 0.110925,
     "end_time": "2025-07-30T21:47:23.988470",
     "exception": false,
     "start_time": "2025-07-30T21:47:23.877545",
     "status": "completed"
    },
    "tags": []
   },
   "outputs": [
    {
     "name": "stdout",
     "output_type": "stream",
     "text": [
      "Dropping features: ['frau1']\n"
     ]
    }
   ],
   "source": [
    "if len(excluded_features_columns) > 0:\n",
    "    print(f\"Dropping features: {excluded_features_columns}\")\n",
    "    X_test.drop(excluded_features_columns, axis=1, inplace=True)"
   ]
  },
  {
   "cell_type": "code",
   "execution_count": 34,
   "id": "1853aaf5-fb9f-46cb-a2b5-8ea4ae2237e4",
   "metadata": {
    "execution": {
     "iopub.execute_input": "2025-07-30T21:47:24.055417Z",
     "iopub.status.busy": "2025-07-30T21:47:24.054915Z",
     "iopub.status.idle": "2025-07-30T21:47:24.121089Z",
     "shell.execute_reply": "2025-07-30T21:47:24.119722Z"
    },
    "papermill": {
     "duration": 0.102201,
     "end_time": "2025-07-30T21:47:24.123334",
     "exception": false,
     "start_time": "2025-07-30T21:47:24.021133",
     "status": "completed"
    },
    "tags": []
   },
   "outputs": [
    {
     "name": "stdout",
     "output_type": "stream",
     "text": [
      "Dropping features: ['frau1']\n"
     ]
    }
   ],
   "source": [
    "if len(excluded_features_columns) > 0:\n",
    "    print(f\"Dropping features: {excluded_features_columns}\")\n",
    "    X_calib.drop(excluded_features_columns, axis=1, inplace=True)"
   ]
  },
  {
   "cell_type": "code",
   "execution_count": 35,
   "id": "6727d079-03e5-481e-9d38-292a90b7a0a8",
   "metadata": {
    "execution": {
     "iopub.execute_input": "2025-07-30T21:47:24.199589Z",
     "iopub.status.busy": "2025-07-30T21:47:24.198501Z",
     "iopub.status.idle": "2025-07-30T21:47:24.204989Z",
     "shell.execute_reply": "2025-07-30T21:47:24.203805Z"
    },
    "papermill": {
     "duration": 0.043096,
     "end_time": "2025-07-30T21:47:24.208706",
     "exception": false,
     "start_time": "2025-07-30T21:47:24.165610",
     "status": "completed"
    },
    "tags": []
   },
   "outputs": [],
   "source": [
    "# SPLIT & STRATIFY DATA\n",
    "# ----------------------"
   ]
  },
  {
   "cell_type": "code",
   "execution_count": 36,
   "id": "76c4dc6d",
   "metadata": {
    "execution": {
     "iopub.execute_input": "2025-07-30T21:47:24.275743Z",
     "iopub.status.busy": "2025-07-30T21:47:24.274729Z",
     "iopub.status.idle": "2025-07-30T21:47:24.283349Z",
     "shell.execute_reply": "2025-07-30T21:47:24.281784Z"
    },
    "papermill": {
     "duration": 0.044811,
     "end_time": "2025-07-30T21:47:24.286055",
     "exception": false,
     "start_time": "2025-07-30T21:47:24.241244",
     "status": "completed"
    },
    "tags": []
   },
   "outputs": [],
   "source": [
    "# EXCLUDE CERTAIN SUBGROUPS\n",
    "# ----------------------\n",
    "\n",
    "mode = universe.get(\"exclude_subgroups\", \"keep-all\") \n",
    "# Fetches the exclude_subgroups setting from the universe dict.\n",
    "# Defaults to \"keep-all\" if the key is missing."
   ]
  },
  {
   "cell_type": "code",
   "execution_count": 37,
   "id": "21994072",
   "metadata": {
    "execution": {
     "iopub.execute_input": "2025-07-30T21:47:24.351202Z",
     "iopub.status.busy": "2025-07-30T21:47:24.350533Z",
     "iopub.status.idle": "2025-07-30T21:47:24.358168Z",
     "shell.execute_reply": "2025-07-30T21:47:24.356847Z"
    },
    "papermill": {
     "duration": 0.04208,
     "end_time": "2025-07-30T21:47:24.360254",
     "exception": false,
     "start_time": "2025-07-30T21:47:24.318174",
     "status": "completed"
    },
    "tags": []
   },
   "outputs": [],
   "source": [
    "if mode == \"keep-all\":\n",
    "    keep_mask = pd.Series(True, index=org_train.index)\n",
    "\n",
    "# org_train contains the original feature columns from features_org (in Simson)\n",
    "# features_org contains unprocessed features, for me X_train at beginning ???\n",
    "# For keep-all, creates a boolean Series (keep_mask) of all True, so no rows are removed.\n",
    "\n",
    "elif mode == \"drop-non-german\":\n",
    "    keep_mask = org_train[\"maxdeutsch1\"] == 1 # ??? what about missing values?\n",
    "\n",
    "else:\n",
    "    raise ValueError(f\"Unsupported mode for exclude_subgroups: {mode}\")\n"
   ]
  },
  {
   "cell_type": "code",
   "execution_count": 38,
   "id": "71651440",
   "metadata": {
    "execution": {
     "iopub.execute_input": "2025-07-30T21:47:24.426800Z",
     "iopub.status.busy": "2025-07-30T21:47:24.426075Z",
     "iopub.status.idle": "2025-07-30T21:47:24.434398Z",
     "shell.execute_reply": "2025-07-30T21:47:24.432957Z"
    },
    "papermill": {
     "duration": 0.045402,
     "end_time": "2025-07-30T21:47:24.437547",
     "exception": false,
     "start_time": "2025-07-30T21:47:24.392145",
     "status": "completed"
    },
    "tags": []
   },
   "outputs": [],
   "source": [
    "n_drop = (~keep_mask).sum() # Calculates how many rows are set to be dropped\n",
    "if n_drop > 0:\n",
    "    pct = n_drop / len(keep_mask) * 100\n",
    "    print(f\"Dropping {n_drop} rows ({pct:.2f}%) where mode='{mode}'\")"
   ]
  },
  {
   "cell_type": "code",
   "execution_count": 39,
   "id": "5fb8eee5",
   "metadata": {
    "execution": {
     "iopub.execute_input": "2025-07-30T21:47:24.510469Z",
     "iopub.status.busy": "2025-07-30T21:47:24.509877Z",
     "iopub.status.idle": "2025-07-30T21:47:24.517969Z",
     "shell.execute_reply": "2025-07-30T21:47:24.516876Z"
    },
    "papermill": {
     "duration": 0.047766,
     "end_time": "2025-07-30T21:47:24.520552",
     "exception": false,
     "start_time": "2025-07-30T21:47:24.472786",
     "status": "completed"
    },
    "tags": []
   },
   "outputs": [],
   "source": [
    "X_train = X_train[keep_mask]"
   ]
  },
  {
   "cell_type": "code",
   "execution_count": 40,
   "id": "b202bb3a",
   "metadata": {
    "execution": {
     "iopub.execute_input": "2025-07-30T21:47:24.594565Z",
     "iopub.status.busy": "2025-07-30T21:47:24.593124Z",
     "iopub.status.idle": "2025-07-30T21:47:24.601593Z",
     "shell.execute_reply": "2025-07-30T21:47:24.600423Z"
    },
    "papermill": {
     "duration": 0.047829,
     "end_time": "2025-07-30T21:47:24.604002",
     "exception": false,
     "start_time": "2025-07-30T21:47:24.556173",
     "status": "completed"
    },
    "tags": []
   },
   "outputs": [],
   "source": [
    "y_train = y_train[keep_mask]"
   ]
  },
  {
   "cell_type": "markdown",
   "id": "493e2ac3",
   "metadata": {
    "papermill": {
     "duration": 0.033814,
     "end_time": "2025-07-30T21:47:24.673242",
     "exception": false,
     "start_time": "2025-07-30T21:47:24.639428",
     "status": "completed"
    },
    "tags": []
   },
   "source": [
    "# Model Training"
   ]
  },
  {
   "cell_type": "code",
   "execution_count": 41,
   "id": "679e1268",
   "metadata": {
    "execution": {
     "iopub.execute_input": "2025-07-30T21:47:24.738493Z",
     "iopub.status.busy": "2025-07-30T21:47:24.737752Z",
     "iopub.status.idle": "2025-07-30T21:47:24.855933Z",
     "shell.execute_reply": "2025-07-30T21:47:24.854836Z"
    },
    "papermill": {
     "duration": 0.154893,
     "end_time": "2025-07-30T21:47:24.858401",
     "exception": false,
     "start_time": "2025-07-30T21:47:24.703508",
     "status": "completed"
    },
    "tags": []
   },
   "outputs": [],
   "source": [
    "from sklearn.linear_model import LogisticRegression\n",
    "from sklearn.ensemble import GradientBoostingClassifier, RandomForestClassifier\n",
    "\n",
    "if (universe[\"model\"] == \"logreg\"):\n",
    "    model = LogisticRegression() #penalty=\"none\") #, solver=\"newton-cg\", max_iter=1) # include random_state=19 ?\n",
    "elif (universe[\"model\"] == \"penalized_logreg\"):\n",
    "    model = LogisticRegression(penalty=\"l2\", C=1.0) #, solver=\"newton-cg\", max_iter=1)\n",
    "elif (universe[\"model\"] == \"rf\"):\n",
    "    model = RandomForestClassifier(n_estimators=100, n_jobs=-1)\n",
    "elif (universe[\"model\"] == \"gbm\"):\n",
    "    model = GradientBoostingClassifier()\n",
    "elif (universe[\"model\"] == \"elasticnet\"):\n",
    "    model = LogisticRegression(penalty = 'elasticnet', solver = 'saga', l1_ratio = 0.5, max_iter=5000) # which solver to use?\n",
    "else:\n",
    "    raise \"Unsupported universe.model\""
   ]
  },
  {
   "cell_type": "code",
   "execution_count": 42,
   "id": "0cc8f744",
   "metadata": {
    "execution": {
     "iopub.execute_input": "2025-07-30T21:47:24.924688Z",
     "iopub.status.busy": "2025-07-30T21:47:24.923927Z",
     "iopub.status.idle": "2025-07-30T21:47:24.932815Z",
     "shell.execute_reply": "2025-07-30T21:47:24.931553Z"
    },
    "papermill": {
     "duration": 0.044676,
     "end_time": "2025-07-30T21:47:24.935163",
     "exception": false,
     "start_time": "2025-07-30T21:47:24.890487",
     "status": "completed"
    },
    "tags": []
   },
   "outputs": [],
   "source": [
    "import numpy as np\n",
    "from sklearn.pipeline import Pipeline\n",
    "from sklearn.preprocessing import StandardScaler\n",
    "\n",
    "model = Pipeline([\n",
    "    #(\"continuous_processor\", continuous_processor),\n",
    "    #(\"categorical_preprocessor\", categorical_preprocessor),\n",
    "    (\"scale\", StandardScaler() if universe[\"scale\"] == \"scale\" else None), \n",
    "    (\"model\", model),\n",
    "])"
   ]
  },
  {
   "cell_type": "code",
   "execution_count": 43,
   "id": "9442c04d",
   "metadata": {
    "execution": {
     "iopub.execute_input": "2025-07-30T21:47:25.002962Z",
     "iopub.status.busy": "2025-07-30T21:47:25.002179Z",
     "iopub.status.idle": "2025-07-30T21:47:26.141039Z",
     "shell.execute_reply": "2025-07-30T21:47:26.139865Z"
    },
    "papermill": {
     "duration": 1.174447,
     "end_time": "2025-07-30T21:47:26.142771",
     "exception": false,
     "start_time": "2025-07-30T21:47:24.968324",
     "status": "completed"
    },
    "tags": []
   },
   "outputs": [
    {
     "data": {
      "text/html": [
       "<style>#sk-container-id-1 {color: black;background-color: white;}#sk-container-id-1 pre{padding: 0;}#sk-container-id-1 div.sk-toggleable {background-color: white;}#sk-container-id-1 label.sk-toggleable__label {cursor: pointer;display: block;width: 100%;margin-bottom: 0;padding: 0.3em;box-sizing: border-box;text-align: center;}#sk-container-id-1 label.sk-toggleable__label-arrow:before {content: \"▸\";float: left;margin-right: 0.25em;color: #696969;}#sk-container-id-1 label.sk-toggleable__label-arrow:hover:before {color: black;}#sk-container-id-1 div.sk-estimator:hover label.sk-toggleable__label-arrow:before {color: black;}#sk-container-id-1 div.sk-toggleable__content {max-height: 0;max-width: 0;overflow: hidden;text-align: left;background-color: #f0f8ff;}#sk-container-id-1 div.sk-toggleable__content pre {margin: 0.2em;color: black;border-radius: 0.25em;background-color: #f0f8ff;}#sk-container-id-1 input.sk-toggleable__control:checked~div.sk-toggleable__content {max-height: 200px;max-width: 100%;overflow: auto;}#sk-container-id-1 input.sk-toggleable__control:checked~label.sk-toggleable__label-arrow:before {content: \"▾\";}#sk-container-id-1 div.sk-estimator input.sk-toggleable__control:checked~label.sk-toggleable__label {background-color: #d4ebff;}#sk-container-id-1 div.sk-label input.sk-toggleable__control:checked~label.sk-toggleable__label {background-color: #d4ebff;}#sk-container-id-1 input.sk-hidden--visually {border: 0;clip: rect(1px 1px 1px 1px);clip: rect(1px, 1px, 1px, 1px);height: 1px;margin: -1px;overflow: hidden;padding: 0;position: absolute;width: 1px;}#sk-container-id-1 div.sk-estimator {font-family: monospace;background-color: #f0f8ff;border: 1px dotted black;border-radius: 0.25em;box-sizing: border-box;margin-bottom: 0.5em;}#sk-container-id-1 div.sk-estimator:hover {background-color: #d4ebff;}#sk-container-id-1 div.sk-parallel-item::after {content: \"\";width: 100%;border-bottom: 1px solid gray;flex-grow: 1;}#sk-container-id-1 div.sk-label:hover label.sk-toggleable__label {background-color: #d4ebff;}#sk-container-id-1 div.sk-serial::before {content: \"\";position: absolute;border-left: 1px solid gray;box-sizing: border-box;top: 0;bottom: 0;left: 50%;z-index: 0;}#sk-container-id-1 div.sk-serial {display: flex;flex-direction: column;align-items: center;background-color: white;padding-right: 0.2em;padding-left: 0.2em;position: relative;}#sk-container-id-1 div.sk-item {position: relative;z-index: 1;}#sk-container-id-1 div.sk-parallel {display: flex;align-items: stretch;justify-content: center;background-color: white;position: relative;}#sk-container-id-1 div.sk-item::before, #sk-container-id-1 div.sk-parallel-item::before {content: \"\";position: absolute;border-left: 1px solid gray;box-sizing: border-box;top: 0;bottom: 0;left: 50%;z-index: -1;}#sk-container-id-1 div.sk-parallel-item {display: flex;flex-direction: column;z-index: 1;position: relative;background-color: white;}#sk-container-id-1 div.sk-parallel-item:first-child::after {align-self: flex-end;width: 50%;}#sk-container-id-1 div.sk-parallel-item:last-child::after {align-self: flex-start;width: 50%;}#sk-container-id-1 div.sk-parallel-item:only-child::after {width: 0;}#sk-container-id-1 div.sk-dashed-wrapped {border: 1px dashed gray;margin: 0 0.4em 0.5em 0.4em;box-sizing: border-box;padding-bottom: 0.4em;background-color: white;}#sk-container-id-1 div.sk-label label {font-family: monospace;font-weight: bold;display: inline-block;line-height: 1.2em;}#sk-container-id-1 div.sk-label-container {text-align: center;}#sk-container-id-1 div.sk-container {/* jupyter's `normalize.less` sets `[hidden] { display: none; }` but bootstrap.min.css set `[hidden] { display: none !important; }` so we also need the `!important` here to be able to override the default hidden behavior on the sphinx rendered scikit-learn.org. See: https://github.com/scikit-learn/scikit-learn/issues/21755 */display: inline-block !important;position: relative;}#sk-container-id-1 div.sk-text-repr-fallback {display: none;}</style><div id=\"sk-container-id-1\" class=\"sk-top-container\"><div class=\"sk-text-repr-fallback\"><pre>Pipeline(steps=[(&#x27;scale&#x27;, StandardScaler()),\n",
       "                (&#x27;model&#x27;, GradientBoostingClassifier())])</pre><b>In a Jupyter environment, please rerun this cell to show the HTML representation or trust the notebook. <br />On GitHub, the HTML representation is unable to render, please try loading this page with nbviewer.org.</b></div><div class=\"sk-container\" hidden><div class=\"sk-item sk-dashed-wrapped\"><div class=\"sk-label-container\"><div class=\"sk-label sk-toggleable\"><input class=\"sk-toggleable__control sk-hidden--visually\" id=\"sk-estimator-id-1\" type=\"checkbox\" ><label for=\"sk-estimator-id-1\" class=\"sk-toggleable__label sk-toggleable__label-arrow\">Pipeline</label><div class=\"sk-toggleable__content\"><pre>Pipeline(steps=[(&#x27;scale&#x27;, StandardScaler()),\n",
       "                (&#x27;model&#x27;, GradientBoostingClassifier())])</pre></div></div></div><div class=\"sk-serial\"><div class=\"sk-item\"><div class=\"sk-estimator sk-toggleable\"><input class=\"sk-toggleable__control sk-hidden--visually\" id=\"sk-estimator-id-2\" type=\"checkbox\" ><label for=\"sk-estimator-id-2\" class=\"sk-toggleable__label sk-toggleable__label-arrow\">StandardScaler</label><div class=\"sk-toggleable__content\"><pre>StandardScaler()</pre></div></div></div><div class=\"sk-item\"><div class=\"sk-estimator sk-toggleable\"><input class=\"sk-toggleable__control sk-hidden--visually\" id=\"sk-estimator-id-3\" type=\"checkbox\" ><label for=\"sk-estimator-id-3\" class=\"sk-toggleable__label sk-toggleable__label-arrow\">GradientBoostingClassifier</label><div class=\"sk-toggleable__content\"><pre>GradientBoostingClassifier()</pre></div></div></div></div></div></div></div>"
      ],
      "text/plain": [
       "Pipeline(steps=[('scale', StandardScaler()),\n",
       "                ('model', GradientBoostingClassifier())])"
      ]
     },
     "execution_count": 43,
     "metadata": {},
     "output_type": "execute_result"
    }
   ],
   "source": [
    "model.fit(X_train, y_train.values.ravel())"
   ]
  },
  {
   "cell_type": "code",
   "execution_count": 44,
   "id": "af59f8c0",
   "metadata": {
    "execution": {
     "iopub.execute_input": "2025-07-30T21:47:26.197461Z",
     "iopub.status.busy": "2025-07-30T21:47:26.196739Z",
     "iopub.status.idle": "2025-07-30T21:47:26.204673Z",
     "shell.execute_reply": "2025-07-30T21:47:26.203355Z"
    },
    "papermill": {
     "duration": 0.037388,
     "end_time": "2025-07-30T21:47:26.207470",
     "exception": false,
     "start_time": "2025-07-30T21:47:26.170082",
     "status": "completed"
    },
    "tags": []
   },
   "outputs": [],
   "source": [
    "from fairness_multiverse.universe import predict_w_threshold"
   ]
  },
  {
   "cell_type": "code",
   "execution_count": 45,
   "id": "a7cf2e16",
   "metadata": {
    "execution": {
     "iopub.execute_input": "2025-07-30T21:47:26.266284Z",
     "iopub.status.busy": "2025-07-30T21:47:26.265701Z",
     "iopub.status.idle": "2025-07-30T21:47:26.890405Z",
     "shell.execute_reply": "2025-07-30T21:47:26.889452Z"
    },
    "papermill": {
     "duration": 0.65651,
     "end_time": "2025-07-30T21:47:26.892101",
     "exception": false,
     "start_time": "2025-07-30T21:47:26.235591",
     "status": "completed"
    },
    "tags": []
   },
   "outputs": [
    {
     "data": {
      "text/plain": [
       "0.8407535391818081"
      ]
     },
     "execution_count": 45,
     "metadata": {},
     "output_type": "execute_result"
    }
   ],
   "source": [
    "probs_test = model.predict_proba(X_test)\n",
    "\n",
    "'''\n",
    "Below code returns a boolean array (or binary 0/1 array depending on how it’s used) where each element \n",
    "is True if the probability of class 1 is greater than or equal to the threshold, and False otherwise.\n",
    "'''\n",
    "y_pred_default = predict_w_threshold(probs_test, 0.5)\n",
    "\n",
    "from sklearn.metrics import accuracy_score\n",
    "\n",
    "# Naive prediction\n",
    "accuracy_score(y_true = y_true, y_pred = y_pred_default)"
   ]
  },
  {
   "cell_type": "code",
   "execution_count": 46,
   "id": "081964c3",
   "metadata": {
    "execution": {
     "iopub.execute_input": "2025-07-30T21:47:26.935983Z",
     "iopub.status.busy": "2025-07-30T21:47:26.935253Z",
     "iopub.status.idle": "2025-07-30T21:47:27.690408Z",
     "shell.execute_reply": "2025-07-30T21:47:27.689081Z"
    },
    "papermill": {
     "duration": 0.773218,
     "end_time": "2025-07-30T21:47:27.692507",
     "exception": false,
     "start_time": "2025-07-30T21:47:26.919289",
     "status": "completed"
    },
    "tags": []
   },
   "outputs": [
    {
     "data": {
      "text/plain": [
       "array([0, 0, 0, ..., 1, 0, 0])"
      ]
     },
     "execution_count": 46,
     "metadata": {},
     "output_type": "execute_result"
    }
   ],
   "source": [
    "model.predict(X_test)"
   ]
  },
  {
   "cell_type": "markdown",
   "id": "56c9705b",
   "metadata": {
    "papermill": {
     "duration": 0.026175,
     "end_time": "2025-07-30T21:47:27.745159",
     "exception": false,
     "start_time": "2025-07-30T21:47:27.718984",
     "status": "completed"
    },
    "tags": []
   },
   "source": [
    "# Conformal Prediction"
   ]
  },
  {
   "cell_type": "code",
   "execution_count": 47,
   "id": "160ec6ff",
   "metadata": {
    "execution": {
     "iopub.execute_input": "2025-07-30T21:47:27.796611Z",
     "iopub.status.busy": "2025-07-30T21:47:27.796073Z",
     "iopub.status.idle": "2025-07-30T21:47:27.801690Z",
     "shell.execute_reply": "2025-07-30T21:47:27.800718Z"
    },
    "papermill": {
     "duration": 0.033661,
     "end_time": "2025-07-30T21:47:27.803681",
     "exception": false,
     "start_time": "2025-07-30T21:47:27.770020",
     "status": "completed"
    },
    "tags": []
   },
   "outputs": [],
   "source": [
    "# Miscoverage level for conformal prediction (10% allowed error rate => 90% target coverage)\n",
    "alpha = 0.1"
   ]
  },
  {
   "cell_type": "code",
   "execution_count": 48,
   "id": "eadf4555-3dd3-440e-8e35-f82a4ad9f855",
   "metadata": {
    "execution": {
     "iopub.execute_input": "2025-07-30T21:47:27.858323Z",
     "iopub.status.busy": "2025-07-30T21:47:27.857349Z",
     "iopub.status.idle": "2025-07-30T21:47:28.634811Z",
     "shell.execute_reply": "2025-07-30T21:47:28.633857Z"
    },
    "papermill": {
     "duration": 0.806679,
     "end_time": "2025-07-30T21:47:28.636899",
     "exception": false,
     "start_time": "2025-07-30T21:47:27.830220",
     "status": "completed"
    },
    "tags": []
   },
   "outputs": [],
   "source": [
    "probs_calib = model.predict_proba(X_calib)"
   ]
  },
  {
   "cell_type": "code",
   "execution_count": 49,
   "id": "2ed93547-6d5d-4983-9b36-1ecb300da49a",
   "metadata": {
    "execution": {
     "iopub.execute_input": "2025-07-30T21:47:28.688232Z",
     "iopub.status.busy": "2025-07-30T21:47:28.687548Z",
     "iopub.status.idle": "2025-07-30T21:47:28.693894Z",
     "shell.execute_reply": "2025-07-30T21:47:28.692787Z"
    },
    "papermill": {
     "duration": 0.034183,
     "end_time": "2025-07-30T21:47:28.695830",
     "exception": false,
     "start_time": "2025-07-30T21:47:28.661647",
     "status": "completed"
    },
    "tags": []
   },
   "outputs": [],
   "source": [
    "y_calib = y_calib.values.ravel().astype(int)"
   ]
  },
  {
   "cell_type": "code",
   "execution_count": 50,
   "id": "65d1320d-f588-4b38-9072-62af1ae97f7d",
   "metadata": {
    "execution": {
     "iopub.execute_input": "2025-07-30T21:47:28.749292Z",
     "iopub.status.busy": "2025-07-30T21:47:28.748601Z",
     "iopub.status.idle": "2025-07-30T21:47:28.756863Z",
     "shell.execute_reply": "2025-07-30T21:47:28.755748Z"
    },
    "papermill": {
     "duration": 0.037488,
     "end_time": "2025-07-30T21:47:28.759078",
     "exception": false,
     "start_time": "2025-07-30T21:47:28.721590",
     "status": "completed"
    },
    "tags": []
   },
   "outputs": [],
   "source": [
    "from fairness_multiverse.conformal import compute_nc_scores\n",
    "\n",
    "# Compute nonconformity scores on calibration set (1 - probability of true class)\n",
    "nc_scores = compute_nc_scores(probs_calib, y_calib)"
   ]
  },
  {
   "cell_type": "code",
   "execution_count": 51,
   "id": "df3b8ca3-53b7-43d5-9667-7c85da7aeda2",
   "metadata": {
    "execution": {
     "iopub.execute_input": "2025-07-30T21:47:28.800652Z",
     "iopub.status.busy": "2025-07-30T21:47:28.800107Z",
     "iopub.status.idle": "2025-07-30T21:47:28.805789Z",
     "shell.execute_reply": "2025-07-30T21:47:28.805055Z"
    },
    "papermill": {
     "duration": 0.02185,
     "end_time": "2025-07-30T21:47:28.807300",
     "exception": false,
     "start_time": "2025-07-30T21:47:28.785450",
     "status": "completed"
    },
    "tags": []
   },
   "outputs": [],
   "source": [
    "from fairness_multiverse.conformal import find_threshold\n",
    "\n",
    "# Find conformal threshold q_hat for the given alpha (split conformal method)\n",
    "q_hat = find_threshold(nc_scores, alpha)"
   ]
  },
  {
   "cell_type": "code",
   "execution_count": 52,
   "id": "4d29e6c1-0ef6-4aa4-b8fe-4fe79b0d033a",
   "metadata": {
    "execution": {
     "iopub.execute_input": "2025-07-30T21:47:28.839766Z",
     "iopub.status.busy": "2025-07-30T21:47:28.838587Z",
     "iopub.status.idle": "2025-07-30T21:47:28.845284Z",
     "shell.execute_reply": "2025-07-30T21:47:28.844449Z"
    },
    "papermill": {
     "duration": 0.025141,
     "end_time": "2025-07-30T21:47:28.846598",
     "exception": false,
     "start_time": "2025-07-30T21:47:28.821457",
     "status": "completed"
    },
    "tags": []
   },
   "outputs": [
    {
     "data": {
      "text/plain": [
       "0.7473966071679066"
      ]
     },
     "execution_count": 52,
     "metadata": {},
     "output_type": "execute_result"
    }
   ],
   "source": [
    "q_hat"
   ]
  },
  {
   "cell_type": "code",
   "execution_count": 53,
   "id": "92460794-cdac-4be2-ba28-f28c0515a6fb",
   "metadata": {
    "execution": {
     "iopub.execute_input": "2025-07-30T21:47:28.877852Z",
     "iopub.status.busy": "2025-07-30T21:47:28.877423Z",
     "iopub.status.idle": "2025-07-30T21:47:30.634838Z",
     "shell.execute_reply": "2025-07-30T21:47:30.633314Z"
    },
    "papermill": {
     "duration": 1.775833,
     "end_time": "2025-07-30T21:47:30.638116",
     "exception": false,
     "start_time": "2025-07-30T21:47:28.862283",
     "status": "completed"
    },
    "tags": []
   },
   "outputs": [],
   "source": [
    "from fairness_multiverse.conformal import predict_conformal_sets\n",
    "\n",
    "# Generate prediction sets for each test example\n",
    "pred_sets = predict_conformal_sets(model, X_test, q_hat)"
   ]
  },
  {
   "cell_type": "code",
   "execution_count": 54,
   "id": "d90c9a65-e6db-4f5d-80cd-e68fb7e46829",
   "metadata": {
    "execution": {
     "iopub.execute_input": "2025-07-30T21:47:30.701365Z",
     "iopub.status.busy": "2025-07-30T21:47:30.700800Z",
     "iopub.status.idle": "2025-07-30T21:47:30.706629Z",
     "shell.execute_reply": "2025-07-30T21:47:30.705523Z"
    },
    "papermill": {
     "duration": 0.033444,
     "end_time": "2025-07-30T21:47:30.708271",
     "exception": false,
     "start_time": "2025-07-30T21:47:30.674827",
     "status": "completed"
    },
    "tags": []
   },
   "outputs": [],
   "source": [
    "y_true = y_true.squeeze()"
   ]
  },
  {
   "cell_type": "code",
   "execution_count": 55,
   "id": "3a58a54a-1e68-46b9-927a-df01f18aebc8",
   "metadata": {
    "execution": {
     "iopub.execute_input": "2025-07-30T21:47:30.756943Z",
     "iopub.status.busy": "2025-07-30T21:47:30.756421Z",
     "iopub.status.idle": "2025-07-30T21:47:31.683018Z",
     "shell.execute_reply": "2025-07-30T21:47:31.680115Z"
    },
    "papermill": {
     "duration": 0.953818,
     "end_time": "2025-07-30T21:47:31.685558",
     "exception": false,
     "start_time": "2025-07-30T21:47:30.731740",
     "status": "completed"
    },
    "tags": []
   },
   "outputs": [],
   "source": [
    "from fairness_multiverse.conformal import evaluate_sets\n",
    "\n",
    "# Evaluate coverage and average set size on test data\n",
    "metrics = evaluate_sets(pred_sets, y_true)"
   ]
  },
  {
   "cell_type": "markdown",
   "id": "2b569c12-9aaa-4c88-98c9-bbcd0cf3ebb8",
   "metadata": {
    "papermill": {
     "duration": 0.035851,
     "end_time": "2025-07-30T21:47:31.758867",
     "exception": false,
     "start_time": "2025-07-30T21:47:31.723016",
     "status": "completed"
    },
    "tags": []
   },
   "source": [
    "# CP Metrics"
   ]
  },
  {
   "cell_type": "code",
   "execution_count": 56,
   "id": "5ce0a5cb-201f-45a0-ade5-94c7f0bd6095",
   "metadata": {
    "execution": {
     "iopub.execute_input": "2025-07-30T21:47:31.831252Z",
     "iopub.status.busy": "2025-07-30T21:47:31.830604Z",
     "iopub.status.idle": "2025-07-30T21:47:31.840286Z",
     "shell.execute_reply": "2025-07-30T21:47:31.838806Z"
    },
    "papermill": {
     "duration": 0.048601,
     "end_time": "2025-07-30T21:47:31.842223",
     "exception": false,
     "start_time": "2025-07-30T21:47:31.793622",
     "status": "completed"
    },
    "tags": []
   },
   "outputs": [
    {
     "data": {
      "text/plain": [
       "{'coverage': 0.9118381451343217, 'avg_size': 1.178374763125627}"
      ]
     },
     "execution_count": 56,
     "metadata": {},
     "output_type": "execute_result"
    }
   ],
   "source": [
    "metrics"
   ]
  },
  {
   "cell_type": "code",
   "execution_count": 57,
   "id": "9b9a838d-31c9-430b-ae14-12baee460d17",
   "metadata": {
    "execution": {
     "iopub.execute_input": "2025-07-30T21:47:31.905437Z",
     "iopub.status.busy": "2025-07-30T21:47:31.904864Z",
     "iopub.status.idle": "2025-07-30T21:47:31.912715Z",
     "shell.execute_reply": "2025-07-30T21:47:31.911587Z"
    },
    "papermill": {
     "duration": 0.041445,
     "end_time": "2025-07-30T21:47:31.914572",
     "exception": false,
     "start_time": "2025-07-30T21:47:31.873127",
     "status": "completed"
    },
    "tags": []
   },
   "outputs": [],
   "source": [
    "example_universe = universe.copy()\n",
    "universe_training_year = example_universe.get(\"training_year\")\n",
    "universe_training_size = example_universe.get(\"training_size\")\n",
    "universe_scale = example_universe.get(\"scale\")\n",
    "universe_model = example_universe.get(\"model\")\n",
    "universe_exclude_features = example_universe.get(\"exclude_features\")\n",
    "universe_exclude_subgroups = example_universe.get(\"exclude_subgroups\")"
   ]
  },
  {
   "cell_type": "code",
   "execution_count": 58,
   "id": "f4b6a8ac-9dc0-4245-8a91-5b3b5999c4f9",
   "metadata": {
    "execution": {
     "iopub.execute_input": "2025-07-30T21:47:32.041080Z",
     "iopub.status.busy": "2025-07-30T21:47:32.040530Z",
     "iopub.status.idle": "2025-07-30T21:47:32.046704Z",
     "shell.execute_reply": "2025-07-30T21:47:32.045632Z"
    },
    "papermill": {
     "duration": 0.026125,
     "end_time": "2025-07-30T21:47:32.048270",
     "exception": false,
     "start_time": "2025-07-30T21:47:32.022145",
     "status": "completed"
    },
    "tags": []
   },
   "outputs": [],
   "source": [
    "cp_metrics_dict = {\n",
    "    \"universe_id\": [universe_id],\n",
    "    \"universe_training_year\": [universe_training_year],\n",
    "    \"universe_training_size\": [universe_training_size],\n",
    "    \"universe_scale\": [universe_scale],\n",
    "    \"universe_model\": [universe_model],\n",
    "    \"universe_exclude_features\": [universe_exclude_features],\n",
    "    \"universe_exclude_subgroups\": [universe_exclude_subgroups],\n",
    "    \"q_hat\": [q_hat],\n",
    "    \"coverage\": [metrics[\"coverage\"]],\n",
    "    \"avg_size\": [metrics[\"avg_size\"]],\n",
    "}"
   ]
  },
  {
   "cell_type": "code",
   "execution_count": 59,
   "id": "908acbb1-0371-4915-85ca-3fa520d2efe2",
   "metadata": {
    "execution": {
     "iopub.execute_input": "2025-07-30T21:47:32.079156Z",
     "iopub.status.busy": "2025-07-30T21:47:32.078798Z",
     "iopub.status.idle": "2025-07-30T21:47:32.085678Z",
     "shell.execute_reply": "2025-07-30T21:47:32.084795Z"
    },
    "papermill": {
     "duration": 0.023167,
     "end_time": "2025-07-30T21:47:32.086972",
     "exception": false,
     "start_time": "2025-07-30T21:47:32.063805",
     "status": "completed"
    },
    "tags": []
   },
   "outputs": [
    {
     "data": {
      "text/plain": [
       "{'universe_id': ['ffa422c889a36d1f1130db7dc42ff28e'],\n",
       " 'universe_training_year': ['2010_14'],\n",
       " 'universe_training_size': ['1k'],\n",
       " 'universe_scale': ['scale'],\n",
       " 'universe_model': ['gbm'],\n",
       " 'universe_exclude_features': ['sex'],\n",
       " 'universe_exclude_subgroups': ['keep-all'],\n",
       " 'q_hat': [0.7473966071679066],\n",
       " 'coverage': [0.9118381451343217],\n",
       " 'avg_size': [1.178374763125627]}"
      ]
     },
     "execution_count": 59,
     "metadata": {},
     "output_type": "execute_result"
    }
   ],
   "source": [
    "cp_metrics_dict"
   ]
  },
  {
   "cell_type": "code",
   "execution_count": 60,
   "id": "33007efc-14e9-4ec6-97ac-56a455c82265",
   "metadata": {
    "execution": {
     "iopub.execute_input": "2025-07-30T21:47:32.118556Z",
     "iopub.status.busy": "2025-07-30T21:47:32.118198Z",
     "iopub.status.idle": "2025-07-30T21:47:32.123570Z",
     "shell.execute_reply": "2025-07-30T21:47:32.122807Z"
    },
    "papermill": {
     "duration": 0.023272,
     "end_time": "2025-07-30T21:47:32.125048",
     "exception": false,
     "start_time": "2025-07-30T21:47:32.101776",
     "status": "completed"
    },
    "tags": []
   },
   "outputs": [],
   "source": [
    "cp_metrics_df = pd.DataFrame(cp_metrics_dict)"
   ]
  },
  {
   "cell_type": "code",
   "execution_count": 61,
   "id": "db12611b-57b2-4910-b9d0-355adfd6e7bf",
   "metadata": {
    "execution": {
     "iopub.execute_input": "2025-07-30T21:47:32.156866Z",
     "iopub.status.busy": "2025-07-30T21:47:32.156206Z",
     "iopub.status.idle": "2025-07-30T21:47:32.180832Z",
     "shell.execute_reply": "2025-07-30T21:47:32.171836Z"
    },
    "papermill": {
     "duration": 0.04295,
     "end_time": "2025-07-30T21:47:32.182968",
     "exception": false,
     "start_time": "2025-07-30T21:47:32.140018",
     "status": "completed"
    },
    "tags": []
   },
   "outputs": [
    {
     "data": {
      "text/html": [
       "<div>\n",
       "<style scoped>\n",
       "    .dataframe tbody tr th:only-of-type {\n",
       "        vertical-align: middle;\n",
       "    }\n",
       "\n",
       "    .dataframe tbody tr th {\n",
       "        vertical-align: top;\n",
       "    }\n",
       "\n",
       "    .dataframe thead th {\n",
       "        text-align: right;\n",
       "    }\n",
       "</style>\n",
       "<table border=\"1\" class=\"dataframe\">\n",
       "  <thead>\n",
       "    <tr style=\"text-align: right;\">\n",
       "      <th></th>\n",
       "      <th>universe_id</th>\n",
       "      <th>universe_training_year</th>\n",
       "      <th>universe_training_size</th>\n",
       "      <th>universe_scale</th>\n",
       "      <th>universe_model</th>\n",
       "      <th>universe_exclude_features</th>\n",
       "      <th>universe_exclude_subgroups</th>\n",
       "      <th>q_hat</th>\n",
       "      <th>coverage</th>\n",
       "      <th>avg_size</th>\n",
       "    </tr>\n",
       "  </thead>\n",
       "  <tbody>\n",
       "    <tr>\n",
       "      <th>0</th>\n",
       "      <td>ffa422c889a36d1f1130db7dc42ff28e</td>\n",
       "      <td>2010_14</td>\n",
       "      <td>1k</td>\n",
       "      <td>scale</td>\n",
       "      <td>gbm</td>\n",
       "      <td>sex</td>\n",
       "      <td>keep-all</td>\n",
       "      <td>0.747397</td>\n",
       "      <td>0.911838</td>\n",
       "      <td>1.178375</td>\n",
       "    </tr>\n",
       "  </tbody>\n",
       "</table>\n",
       "</div>"
      ],
      "text/plain": [
       "                        universe_id universe_training_year  \\\n",
       "0  ffa422c889a36d1f1130db7dc42ff28e                2010_14   \n",
       "\n",
       "  universe_training_size universe_scale universe_model  \\\n",
       "0                     1k          scale            gbm   \n",
       "\n",
       "  universe_exclude_features universe_exclude_subgroups     q_hat  coverage  \\\n",
       "0                       sex                   keep-all  0.747397  0.911838   \n",
       "\n",
       "   avg_size  \n",
       "0  1.178375  "
      ]
     },
     "execution_count": 61,
     "metadata": {},
     "output_type": "execute_result"
    }
   ],
   "source": [
    "cp_metrics_df"
   ]
  },
  {
   "cell_type": "code",
   "execution_count": 62,
   "id": "b7fbde55-a0a1-47e4-9af6-fe4a17fa8c61",
   "metadata": {
    "execution": {
     "iopub.execute_input": "2025-07-30T21:47:32.234504Z",
     "iopub.status.busy": "2025-07-30T21:47:32.233779Z",
     "iopub.status.idle": "2025-07-30T21:47:32.239381Z",
     "shell.execute_reply": "2025-07-30T21:47:32.238434Z"
    },
    "papermill": {
     "duration": 0.029466,
     "end_time": "2025-07-30T21:47:32.240930",
     "exception": false,
     "start_time": "2025-07-30T21:47:32.211464",
     "status": "completed"
    },
    "tags": []
   },
   "outputs": [],
   "source": [
    "# Conditional Coverage & looking at subgroups"
   ]
  },
  {
   "cell_type": "code",
   "execution_count": 63,
   "id": "027ae886-68dd-4141-96c7-805a5450e1ef",
   "metadata": {
    "execution": {
     "iopub.execute_input": "2025-07-30T21:47:32.274106Z",
     "iopub.status.busy": "2025-07-30T21:47:32.273602Z",
     "iopub.status.idle": "2025-07-30T21:47:32.487420Z",
     "shell.execute_reply": "2025-07-30T21:47:32.486646Z"
    },
    "papermill": {
     "duration": 0.232852,
     "end_time": "2025-07-30T21:47:32.488995",
     "exception": false,
     "start_time": "2025-07-30T21:47:32.256143",
     "status": "completed"
    },
    "tags": []
   },
   "outputs": [],
   "source": [
    "from fairness_multiverse.conformal import build_cp_groups\n",
    "\n",
    "cp_groups_df = build_cp_groups(pred_sets, y_true, X_test.index, org_test)\n",
    "#needs universe_id and setting"
   ]
  },
  {
   "cell_type": "code",
   "execution_count": 64,
   "id": "01d5802c-663a-4d1f-9d69-e036faaffbf7",
   "metadata": {
    "execution": {
     "iopub.execute_input": "2025-07-30T21:47:32.531126Z",
     "iopub.status.busy": "2025-07-30T21:47:32.530560Z",
     "iopub.status.idle": "2025-07-30T21:47:32.536974Z",
     "shell.execute_reply": "2025-07-30T21:47:32.535692Z"
    },
    "papermill": {
     "duration": 0.035685,
     "end_time": "2025-07-30T21:47:32.539006",
     "exception": false,
     "start_time": "2025-07-30T21:47:32.503321",
     "status": "completed"
    },
    "tags": []
   },
   "outputs": [],
   "source": [
    "#delete\n",
    "#cp_groups_df"
   ]
  },
  {
   "cell_type": "code",
   "execution_count": 65,
   "id": "fa424af1-d1eb-443d-b717-2d279ada8408",
   "metadata": {
    "execution": {
     "iopub.execute_input": "2025-07-30T21:47:32.606771Z",
     "iopub.status.busy": "2025-07-30T21:47:32.606183Z",
     "iopub.status.idle": "2025-07-30T21:47:32.613133Z",
     "shell.execute_reply": "2025-07-30T21:47:32.611785Z"
    },
    "papermill": {
     "duration": 0.047959,
     "end_time": "2025-07-30T21:47:32.615441",
     "exception": false,
     "start_time": "2025-07-30T21:47:32.567482",
     "status": "completed"
    },
    "tags": []
   },
   "outputs": [],
   "source": [
    "#delete\n",
    "#percentage = (cp_groups_df['nongerman_female'] == 1).mean() * 100\n",
    "#print(percentage)\n"
   ]
  },
  {
   "cell_type": "code",
   "execution_count": 66,
   "id": "6cbdab96-b2b2-45af-ad54-d0516db2e28d",
   "metadata": {
    "execution": {
     "iopub.execute_input": "2025-07-30T21:47:32.692145Z",
     "iopub.status.busy": "2025-07-30T21:47:32.691567Z",
     "iopub.status.idle": "2025-07-30T21:47:34.496003Z",
     "shell.execute_reply": "2025-07-30T21:47:34.495209Z"
    },
    "papermill": {
     "duration": 1.835291,
     "end_time": "2025-07-30T21:47:34.497668",
     "exception": false,
     "start_time": "2025-07-30T21:47:32.662377",
     "status": "completed"
    },
    "tags": []
   },
   "outputs": [],
   "source": [
    "# Define covered = 1 if true_label is in the predicted set\n",
    "cp_groups_df['covered'] = cp_groups_df.apply(\n",
    "    lambda r: int(r['true_label'] in r['pred_set']),\n",
    "    axis=1\n",
    ")"
   ]
  },
  {
   "cell_type": "code",
   "execution_count": 67,
   "id": "338ff529-1a6b-4b87-a931-8e4788d52aad",
   "metadata": {
    "execution": {
     "iopub.execute_input": "2025-07-30T21:47:34.543715Z",
     "iopub.status.busy": "2025-07-30T21:47:34.542978Z",
     "iopub.status.idle": "2025-07-30T21:47:34.548440Z",
     "shell.execute_reply": "2025-07-30T21:47:34.547418Z"
    },
    "papermill": {
     "duration": 0.036566,
     "end_time": "2025-07-30T21:47:34.550113",
     "exception": false,
     "start_time": "2025-07-30T21:47:34.513547",
     "status": "completed"
    },
    "tags": []
   },
   "outputs": [],
   "source": [
    "#cp_groups_df"
   ]
  },
  {
   "cell_type": "code",
   "execution_count": 68,
   "id": "90032e27-66df-4540-9169-4e89cfbaa758",
   "metadata": {
    "execution": {
     "iopub.execute_input": "2025-07-30T21:47:34.613561Z",
     "iopub.status.busy": "2025-07-30T21:47:34.612941Z",
     "iopub.status.idle": "2025-07-30T21:47:34.627038Z",
     "shell.execute_reply": "2025-07-30T21:47:34.626036Z"
    },
    "papermill": {
     "duration": 0.046216,
     "end_time": "2025-07-30T21:47:34.628817",
     "exception": false,
     "start_time": "2025-07-30T21:47:34.582601",
     "status": "completed"
    },
    "tags": []
   },
   "outputs": [],
   "source": [
    "subgroups = ['frau1','nongerman','nongerman_male','nongerman_female']\n",
    "\n",
    "# Conditional coverage for subgroup==1\n",
    "cond_coverage = {\n",
    "    g: cp_groups_df.loc[cp_groups_df[g]==1, 'covered'].mean()\n",
    "    for g in subgroups\n",
    "}"
   ]
  },
  {
   "cell_type": "code",
   "execution_count": 69,
   "id": "1e348fb1-b9c3-45bc-ba23-f016827a7e0d",
   "metadata": {
    "execution": {
     "iopub.execute_input": "2025-07-30T21:47:34.689337Z",
     "iopub.status.busy": "2025-07-30T21:47:34.688560Z",
     "iopub.status.idle": "2025-07-30T21:47:34.699201Z",
     "shell.execute_reply": "2025-07-30T21:47:34.698139Z"
    },
    "papermill": {
     "duration": 0.046426,
     "end_time": "2025-07-30T21:47:34.701336",
     "exception": false,
     "start_time": "2025-07-30T21:47:34.654910",
     "status": "completed"
    },
    "tags": []
   },
   "outputs": [
    {
     "data": {
      "text/plain": [
       "{'frau1': 0.9111740126701712,\n",
       " 'nongerman': 0.9086622129905125,\n",
       " 'nongerman_male': 0.9253354949112852,\n",
       " 'nongerman_female': 0.8810730253353204}"
      ]
     },
     "execution_count": 69,
     "metadata": {},
     "output_type": "execute_result"
    }
   ],
   "source": [
    "cond_coverage"
   ]
  },
  {
   "cell_type": "code",
   "execution_count": 70,
   "id": "f5093324-c3dd-4d63-bc4c-8d945e5c8bbb",
   "metadata": {
    "execution": {
     "iopub.execute_input": "2025-07-30T21:47:34.765153Z",
     "iopub.status.busy": "2025-07-30T21:47:34.764711Z",
     "iopub.status.idle": "2025-07-30T21:47:34.772585Z",
     "shell.execute_reply": "2025-07-30T21:47:34.771325Z"
    },
    "papermill": {
     "duration": 0.040037,
     "end_time": "2025-07-30T21:47:34.774038",
     "exception": false,
     "start_time": "2025-07-30T21:47:34.734001",
     "status": "completed"
    },
    "tags": []
   },
   "outputs": [],
   "source": [
    "for subgroup, cov in cond_coverage.items():\n",
    "    cp_metrics_df[f\"cov_{subgroup}\"] = cov"
   ]
  },
  {
   "cell_type": "code",
   "execution_count": 71,
   "id": "6e872e10-dbe5-49e8-b554-5030c98ff75d",
   "metadata": {
    "execution": {
     "iopub.execute_input": "2025-07-30T21:47:34.810037Z",
     "iopub.status.busy": "2025-07-30T21:47:34.809491Z",
     "iopub.status.idle": "2025-07-30T21:47:34.831851Z",
     "shell.execute_reply": "2025-07-30T21:47:34.830451Z"
    },
    "papermill": {
     "duration": 0.041271,
     "end_time": "2025-07-30T21:47:34.833736",
     "exception": false,
     "start_time": "2025-07-30T21:47:34.792465",
     "status": "completed"
    },
    "tags": []
   },
   "outputs": [
    {
     "data": {
      "text/html": [
       "<div>\n",
       "<style scoped>\n",
       "    .dataframe tbody tr th:only-of-type {\n",
       "        vertical-align: middle;\n",
       "    }\n",
       "\n",
       "    .dataframe tbody tr th {\n",
       "        vertical-align: top;\n",
       "    }\n",
       "\n",
       "    .dataframe thead th {\n",
       "        text-align: right;\n",
       "    }\n",
       "</style>\n",
       "<table border=\"1\" class=\"dataframe\">\n",
       "  <thead>\n",
       "    <tr style=\"text-align: right;\">\n",
       "      <th></th>\n",
       "      <th>universe_id</th>\n",
       "      <th>universe_training_year</th>\n",
       "      <th>universe_training_size</th>\n",
       "      <th>universe_scale</th>\n",
       "      <th>universe_model</th>\n",
       "      <th>universe_exclude_features</th>\n",
       "      <th>universe_exclude_subgroups</th>\n",
       "      <th>q_hat</th>\n",
       "      <th>coverage</th>\n",
       "      <th>avg_size</th>\n",
       "      <th>cov_frau1</th>\n",
       "      <th>cov_nongerman</th>\n",
       "      <th>cov_nongerman_male</th>\n",
       "      <th>cov_nongerman_female</th>\n",
       "    </tr>\n",
       "  </thead>\n",
       "  <tbody>\n",
       "    <tr>\n",
       "      <th>0</th>\n",
       "      <td>ffa422c889a36d1f1130db7dc42ff28e</td>\n",
       "      <td>2010_14</td>\n",
       "      <td>1k</td>\n",
       "      <td>scale</td>\n",
       "      <td>gbm</td>\n",
       "      <td>sex</td>\n",
       "      <td>keep-all</td>\n",
       "      <td>0.747397</td>\n",
       "      <td>0.911838</td>\n",
       "      <td>1.178375</td>\n",
       "      <td>0.911174</td>\n",
       "      <td>0.908662</td>\n",
       "      <td>0.925335</td>\n",
       "      <td>0.881073</td>\n",
       "    </tr>\n",
       "  </tbody>\n",
       "</table>\n",
       "</div>"
      ],
      "text/plain": [
       "                        universe_id universe_training_year  \\\n",
       "0  ffa422c889a36d1f1130db7dc42ff28e                2010_14   \n",
       "\n",
       "  universe_training_size universe_scale universe_model  \\\n",
       "0                     1k          scale            gbm   \n",
       "\n",
       "  universe_exclude_features universe_exclude_subgroups     q_hat  coverage  \\\n",
       "0                       sex                   keep-all  0.747397  0.911838   \n",
       "\n",
       "   avg_size  cov_frau1  cov_nongerman  cov_nongerman_male  \\\n",
       "0  1.178375   0.911174       0.908662            0.925335   \n",
       "\n",
       "   cov_nongerman_female  \n",
       "0              0.881073  "
      ]
     },
     "execution_count": 71,
     "metadata": {},
     "output_type": "execute_result"
    }
   ],
   "source": [
    "cp_metrics_df"
   ]
  },
  {
   "cell_type": "markdown",
   "id": "33774451",
   "metadata": {
    "papermill": {
     "duration": 0.031016,
     "end_time": "2025-07-30T21:47:34.895996",
     "exception": false,
     "start_time": "2025-07-30T21:47:34.864980",
     "status": "completed"
    },
    "tags": []
   },
   "source": [
    "# (Fairness) Metrics"
   ]
  },
  {
   "cell_type": "code",
   "execution_count": 72,
   "id": "debc5d62",
   "metadata": {
    "execution": {
     "iopub.execute_input": "2025-07-30T21:47:34.958271Z",
     "iopub.status.busy": "2025-07-30T21:47:34.957666Z",
     "iopub.status.idle": "2025-07-30T21:47:34.978368Z",
     "shell.execute_reply": "2025-07-30T21:47:34.977239Z"
    },
    "papermill": {
     "duration": 0.053564,
     "end_time": "2025-07-30T21:47:34.980483",
     "exception": false,
     "start_time": "2025-07-30T21:47:34.926919",
     "status": "completed"
    },
    "tags": []
   },
   "outputs": [],
   "source": [
    "# do I need to include maxdeutsch1.missing?\n",
    "\n",
    "import numpy as np\n",
    "\n",
    "colname_to_bin = \"maxdeutsch1\"\n",
    "majority_value = org_train[colname_to_bin].mode()[0]\n",
    "\n",
    "org_test[\"majmin\"] = np.where(org_test[colname_to_bin] == majority_value, \"majority\", \"minority\")"
   ]
  },
  {
   "cell_type": "code",
   "execution_count": 73,
   "id": "06a50de5",
   "metadata": {
    "execution": {
     "iopub.execute_input": "2025-07-30T21:47:35.039608Z",
     "iopub.status.busy": "2025-07-30T21:47:35.038898Z",
     "iopub.status.idle": "2025-07-30T21:47:37.831116Z",
     "shell.execute_reply": "2025-07-30T21:47:37.830152Z"
    },
    "papermill": {
     "duration": 2.826904,
     "end_time": "2025-07-30T21:47:37.833030",
     "exception": false,
     "start_time": "2025-07-30T21:47:35.006126",
     "status": "completed"
    },
    "tags": []
   },
   "outputs": [],
   "source": [
    "example_universe = universe.copy()\n",
    "example_universe[\"cutoff\"] = example_universe[\"cutoff\"][0]\n",
    "example_universe[\"eval_fairness_grouping\"] = example_universe[\"eval_fairness_grouping\"][0]\n",
    "fairness_dict, metric_frame = universe_analysis.compute_metrics(\n",
    "    example_universe,\n",
    "    y_pred_prob=probs_test,\n",
    "    y_test=y_true,\n",
    "    org_test=org_test,\n",
    ")"
   ]
  },
  {
   "cell_type": "markdown",
   "id": "f95d4e02",
   "metadata": {
    "papermill": {
     "duration": 0.025229,
     "end_time": "2025-07-30T21:47:37.890200",
     "exception": false,
     "start_time": "2025-07-30T21:47:37.864971",
     "status": "completed"
    },
    "tags": []
   },
   "source": [
    "# Overall"
   ]
  },
  {
   "cell_type": "markdown",
   "id": "bdee4871",
   "metadata": {
    "papermill": {
     "duration": 0.027226,
     "end_time": "2025-07-30T21:47:37.946255",
     "exception": false,
     "start_time": "2025-07-30T21:47:37.919029",
     "status": "completed"
    },
    "tags": []
   },
   "source": [
    "Fairness\n",
    "Main fairness target: Equalized Odds. Seems to be a better fit than equal opportunity, since we're not only interested in Y = 1. Seems to be a better fit than demographic parity, since we also care about accuracy, not just equal distribution of preds.\n",
    "\n",
    "Pick column for computation of fairness metrics\n",
    "\n",
    "Performance\n",
    "Overall performance measures, most interesting in relation to the measures split by group below"
   ]
  },
  {
   "cell_type": "code",
   "execution_count": 74,
   "id": "c4e067c6",
   "metadata": {
    "execution": {
     "iopub.execute_input": "2025-07-30T21:47:38.004388Z",
     "iopub.status.busy": "2025-07-30T21:47:38.003780Z",
     "iopub.status.idle": "2025-07-30T21:47:38.014419Z",
     "shell.execute_reply": "2025-07-30T21:47:38.013243Z"
    },
    "papermill": {
     "duration": 0.04052,
     "end_time": "2025-07-30T21:47:38.016404",
     "exception": false,
     "start_time": "2025-07-30T21:47:37.975884",
     "status": "completed"
    },
    "tags": []
   },
   "outputs": [
    {
     "data": {
      "text/plain": [
       "accuracy                   0.222439\n",
       "balanced accuracy          0.544299\n",
       "f1                         0.243824\n",
       "precision                  0.139288\n",
       "false positive rate        0.888635\n",
       "false negative rate        0.022767\n",
       "selection rate             0.900000\n",
       "count                  89710.000000\n",
       "dtype: float64"
      ]
     },
     "execution_count": 74,
     "metadata": {},
     "output_type": "execute_result"
    }
   ],
   "source": [
    "metric_frame.overall"
   ]
  },
  {
   "cell_type": "markdown",
   "id": "e968fe9d",
   "metadata": {
    "papermill": {
     "duration": 0.028123,
     "end_time": "2025-07-30T21:47:38.071318",
     "exception": false,
     "start_time": "2025-07-30T21:47:38.043195",
     "status": "completed"
    },
    "tags": []
   },
   "source": [
    "By Group"
   ]
  },
  {
   "cell_type": "code",
   "execution_count": 75,
   "id": "ec325bce",
   "metadata": {
    "execution": {
     "iopub.execute_input": "2025-07-30T21:47:38.131356Z",
     "iopub.status.busy": "2025-07-30T21:47:38.130613Z",
     "iopub.status.idle": "2025-07-30T21:47:38.147122Z",
     "shell.execute_reply": "2025-07-30T21:47:38.146082Z"
    },
    "papermill": {
     "duration": 0.048895,
     "end_time": "2025-07-30T21:47:38.149247",
     "exception": false,
     "start_time": "2025-07-30T21:47:38.100352",
     "status": "completed"
    },
    "tags": []
   },
   "outputs": [
    {
     "data": {
      "text/html": [
       "<div>\n",
       "<style scoped>\n",
       "    .dataframe tbody tr th:only-of-type {\n",
       "        vertical-align: middle;\n",
       "    }\n",
       "\n",
       "    .dataframe tbody tr th {\n",
       "        vertical-align: top;\n",
       "    }\n",
       "\n",
       "    .dataframe thead th {\n",
       "        text-align: right;\n",
       "    }\n",
       "</style>\n",
       "<table border=\"1\" class=\"dataframe\">\n",
       "  <thead>\n",
       "    <tr style=\"text-align: right;\">\n",
       "      <th></th>\n",
       "      <th>accuracy</th>\n",
       "      <th>balanced accuracy</th>\n",
       "      <th>f1</th>\n",
       "      <th>precision</th>\n",
       "      <th>false positive rate</th>\n",
       "      <th>false negative rate</th>\n",
       "      <th>selection rate</th>\n",
       "      <th>count</th>\n",
       "    </tr>\n",
       "    <tr>\n",
       "      <th>majmin</th>\n",
       "      <th></th>\n",
       "      <th></th>\n",
       "      <th></th>\n",
       "      <th></th>\n",
       "      <th></th>\n",
       "      <th></th>\n",
       "      <th></th>\n",
       "      <th></th>\n",
       "    </tr>\n",
       "  </thead>\n",
       "  <tbody>\n",
       "    <tr>\n",
       "      <th>majority</th>\n",
       "      <td>0.237083</td>\n",
       "      <td>0.550537</td>\n",
       "      <td>0.252779</td>\n",
       "      <td>0.145178</td>\n",
       "      <td>0.875512</td>\n",
       "      <td>0.023414</td>\n",
       "      <td>0.888868</td>\n",
       "      <td>69170.0</td>\n",
       "    </tr>\n",
       "    <tr>\n",
       "      <th>minority</th>\n",
       "      <td>0.173126</td>\n",
       "      <td>0.523873</td>\n",
       "      <td>0.214576</td>\n",
       "      <td>0.120482</td>\n",
       "      <td>0.931983</td>\n",
       "      <td>0.020270</td>\n",
       "      <td>0.937488</td>\n",
       "      <td>20540.0</td>\n",
       "    </tr>\n",
       "  </tbody>\n",
       "</table>\n",
       "</div>"
      ],
      "text/plain": [
       "          accuracy  balanced accuracy        f1  precision  \\\n",
       "majmin                                                       \n",
       "majority  0.237083           0.550537  0.252779   0.145178   \n",
       "minority  0.173126           0.523873  0.214576   0.120482   \n",
       "\n",
       "          false positive rate  false negative rate  selection rate    count  \n",
       "majmin                                                                       \n",
       "majority             0.875512             0.023414        0.888868  69170.0  \n",
       "minority             0.931983             0.020270        0.937488  20540.0  "
      ]
     },
     "execution_count": 75,
     "metadata": {},
     "output_type": "execute_result"
    }
   ],
   "source": [
    "metric_frame.by_group"
   ]
  },
  {
   "cell_type": "code",
   "execution_count": 76,
   "id": "a9ddbe63",
   "metadata": {
    "execution": {
     "iopub.execute_input": "2025-07-30T21:47:38.208061Z",
     "iopub.status.busy": "2025-07-30T21:47:38.207140Z",
     "iopub.status.idle": "2025-07-30T21:47:40.412435Z",
     "shell.execute_reply": "2025-07-30T21:47:40.408491Z"
    },
    "papermill": {
     "duration": 2.237442,
     "end_time": "2025-07-30T21:47:40.414147",
     "exception": false,
     "start_time": "2025-07-30T21:47:38.176705",
     "status": "completed"
    },
    "tags": []
   },
   "outputs": [
    {
     "data": {
      "text/plain": [
       "array([[<Axes: title={'center': 'accuracy'}, xlabel='majmin'>,\n",
       "        <Axes: title={'center': 'balanced accuracy'}, xlabel='majmin'>,\n",
       "        <Axes: title={'center': 'f1'}, xlabel='majmin'>],\n",
       "       [<Axes: title={'center': 'precision'}, xlabel='majmin'>,\n",
       "        <Axes: title={'center': 'false positive rate'}, xlabel='majmin'>,\n",
       "        <Axes: title={'center': 'false negative rate'}, xlabel='majmin'>],\n",
       "       [<Axes: title={'center': 'selection rate'}, xlabel='majmin'>,\n",
       "        <Axes: title={'center': 'count'}, xlabel='majmin'>,\n",
       "        <Axes: xlabel='majmin'>]], dtype=object)"
      ]
     },
     "execution_count": 76,
     "metadata": {},
     "output_type": "execute_result"
    },
    {
     "data": {
      "image/png": "[encoded data removed]",
      "text/plain": [
       "<Figure size 1200x800 with 9 Axes>"
      ]
     },
     "metadata": {},
     "output_type": "display_data"
    }
   ],
   "source": [
    "# In a graphic\n",
    "metric_frame.by_group.plot.bar(\n",
    "    subplots=True,\n",
    "    layout=[3, 3],\n",
    "    legend=False,\n",
    "    figsize=[12, 8],\n",
    "    title=\"Show all metrics\",\n",
    ")"
   ]
  },
  {
   "cell_type": "markdown",
   "id": "f57a0bac",
   "metadata": {
    "papermill": {
     "duration": 0.029761,
     "end_time": "2025-07-30T21:47:40.473041",
     "exception": false,
     "start_time": "2025-07-30T21:47:40.443280",
     "status": "completed"
    },
    "tags": []
   },
   "source": [
    "# Final Output"
   ]
  },
  {
   "cell_type": "code",
   "execution_count": 77,
   "id": "96d280a3",
   "metadata": {
    "execution": {
     "iopub.execute_input": "2025-07-30T21:47:40.536026Z",
     "iopub.status.busy": "2025-07-30T21:47:40.535335Z",
     "iopub.status.idle": "2025-07-30T21:47:40.544503Z",
     "shell.execute_reply": "2025-07-30T21:47:40.543266Z"
    },
    "papermill": {
     "duration": 0.041977,
     "end_time": "2025-07-30T21:47:40.546308",
     "exception": false,
     "start_time": "2025-07-30T21:47:40.504331",
     "status": "completed"
    },
    "tags": []
   },
   "outputs": [
    {
     "data": {
      "text/plain": [
       "4"
      ]
     },
     "execution_count": 77,
     "metadata": {},
     "output_type": "execute_result"
    }
   ],
   "source": [
    "sub_universes = universe_analysis.generate_sub_universes()\n",
    "len(sub_universes)"
   ]
  },
  {
   "cell_type": "code",
   "execution_count": 78,
   "id": "92adf7ba",
   "metadata": {
    "execution": {
     "iopub.execute_input": "2025-07-30T21:47:40.612283Z",
     "iopub.status.busy": "2025-07-30T21:47:40.611712Z",
     "iopub.status.idle": "2025-07-30T21:47:40.618324Z",
     "shell.execute_reply": "2025-07-30T21:47:40.617329Z"
    },
    "papermill": {
     "duration": 0.042061,
     "end_time": "2025-07-30T21:47:40.620021",
     "exception": false,
     "start_time": "2025-07-30T21:47:40.577960",
     "status": "completed"
    },
    "tags": []
   },
   "outputs": [],
   "source": [
    "def filter_sub_universe_data(sub_universe, org_test):\n",
    "    # Keep all rows — no filtering\n",
    "    keep_rows_mask = np.ones(org_test.shape[0], dtype=bool)\n",
    "\n",
    "    print(f\"[INFO] Keeping all rows: {keep_rows_mask.sum()} rows retained.\")\n",
    "    return keep_rows_mask"
   ]
  },
  {
   "cell_type": "code",
   "execution_count": 79,
   "id": "4a759155",
   "metadata": {
    "execution": {
     "iopub.execute_input": "2025-07-30T21:47:40.684299Z",
     "iopub.status.busy": "2025-07-30T21:47:40.683468Z",
     "iopub.status.idle": "2025-07-30T21:47:50.536385Z",
     "shell.execute_reply": "2025-07-30T21:47:50.535317Z"
    },
    "papermill": {
     "duration": 9.885697,
     "end_time": "2025-07-30T21:47:50.537863",
     "exception": false,
     "start_time": "2025-07-30T21:47:40.652166",
     "status": "completed"
    },
    "tags": []
   },
   "outputs": [
    {
     "name": "stdout",
     "output_type": "stream",
     "text": [
      "Stopping execution_time clock.\n",
      "[INFO] Keeping all rows: 89710 rows retained.\n"
     ]
    },
    {
     "name": "stdout",
     "output_type": "stream",
     "text": [
      "[INFO] Keeping all rows: 89710 rows retained.\n"
     ]
    },
    {
     "name": "stdout",
     "output_type": "stream",
     "text": [
      "[INFO] Keeping all rows: 89710 rows retained.\n"
     ]
    },
    {
     "name": "stdout",
     "output_type": "stream",
     "text": [
      "[INFO] Keeping all rows: 89710 rows retained.\n"
     ]
    },
    {
     "data": {
      "text/html": [
       "<div>\n",
       "<style scoped>\n",
       "    .dataframe tbody tr th:only-of-type {\n",
       "        vertical-align: middle;\n",
       "    }\n",
       "\n",
       "    .dataframe tbody tr th {\n",
       "        vertical-align: top;\n",
       "    }\n",
       "\n",
       "    .dataframe thead th {\n",
       "        text-align: right;\n",
       "    }\n",
       "</style>\n",
       "<table border=\"1\" class=\"dataframe\">\n",
       "  <thead>\n",
       "    <tr style=\"text-align: right;\">\n",
       "      <th></th>\n",
       "      <th>run_no</th>\n",
       "      <th>universe_id</th>\n",
       "      <th>universe_settings</th>\n",
       "      <th>execution_time</th>\n",
       "      <th>test_size_n</th>\n",
       "      <th>test_size_frac</th>\n",
       "      <th>fair_main_equalized_odds_difference</th>\n",
       "      <th>fair_main_equalized_odds_ratio</th>\n",
       "      <th>fair_main_demographic_parity_difference</th>\n",
       "      <th>fair_main_demographic_parity_ratio</th>\n",
       "      <th>...</th>\n",
       "      <th>perf_grp_precision_0</th>\n",
       "      <th>perf_grp_precision_1</th>\n",
       "      <th>perf_grp_false positive rate_0</th>\n",
       "      <th>perf_grp_false positive rate_1</th>\n",
       "      <th>perf_grp_false negative rate_0</th>\n",
       "      <th>perf_grp_false negative rate_1</th>\n",
       "      <th>perf_grp_selection rate_0</th>\n",
       "      <th>perf_grp_selection rate_1</th>\n",
       "      <th>perf_grp_count_0</th>\n",
       "      <th>perf_grp_count_1</th>\n",
       "    </tr>\n",
       "  </thead>\n",
       "  <tbody>\n",
       "    <tr>\n",
       "      <th>0</th>\n",
       "      <td>14</td>\n",
       "      <td>ffa422c889a36d1f1130db7dc42ff28e</td>\n",
       "      <td>{\"cutoff\": \"quantile_0.1\", \"eval_fairness_grou...</td>\n",
       "      <td>33.897051</td>\n",
       "      <td>89710</td>\n",
       "      <td>1.0</td>\n",
       "      <td>0.056471</td>\n",
       "      <td>0.939408</td>\n",
       "      <td>0.048620</td>\n",
       "      <td>0.948138</td>\n",
       "      <td>...</td>\n",
       "      <td>NaN</td>\n",
       "      <td>NaN</td>\n",
       "      <td>NaN</td>\n",
       "      <td>NaN</td>\n",
       "      <td>NaN</td>\n",
       "      <td>NaN</td>\n",
       "      <td>NaN</td>\n",
       "      <td>NaN</td>\n",
       "      <td>NaN</td>\n",
       "      <td>NaN</td>\n",
       "    </tr>\n",
       "    <tr>\n",
       "      <th>0</th>\n",
       "      <td>14</td>\n",
       "      <td>ffa422c889a36d1f1130db7dc42ff28e</td>\n",
       "      <td>{\"cutoff\": \"quantile_0.1\", \"eval_fairness_grou...</td>\n",
       "      <td>33.897051</td>\n",
       "      <td>89710</td>\n",
       "      <td>1.0</td>\n",
       "      <td>0.056471</td>\n",
       "      <td>0.939408</td>\n",
       "      <td>0.048620</td>\n",
       "      <td>0.948138</td>\n",
       "      <td>...</td>\n",
       "      <td>0.120482</td>\n",
       "      <td>0.145178</td>\n",
       "      <td>0.931983</td>\n",
       "      <td>0.875512</td>\n",
       "      <td>0.020270</td>\n",
       "      <td>0.023414</td>\n",
       "      <td>0.937488</td>\n",
       "      <td>0.888868</td>\n",
       "      <td>20540.0</td>\n",
       "      <td>69170.0</td>\n",
       "    </tr>\n",
       "    <tr>\n",
       "      <th>0</th>\n",
       "      <td>14</td>\n",
       "      <td>ffa422c889a36d1f1130db7dc42ff28e</td>\n",
       "      <td>{\"cutoff\": \"quantile_0.25\", \"eval_fairness_gro...</td>\n",
       "      <td>33.897051</td>\n",
       "      <td>89710</td>\n",
       "      <td>1.0</td>\n",
       "      <td>0.137457</td>\n",
       "      <td>0.834314</td>\n",
       "      <td>0.119599</td>\n",
       "      <td>0.857993</td>\n",
       "      <td>...</td>\n",
       "      <td>NaN</td>\n",
       "      <td>NaN</td>\n",
       "      <td>NaN</td>\n",
       "      <td>NaN</td>\n",
       "      <td>NaN</td>\n",
       "      <td>NaN</td>\n",
       "      <td>NaN</td>\n",
       "      <td>NaN</td>\n",
       "      <td>NaN</td>\n",
       "      <td>NaN</td>\n",
       "    </tr>\n",
       "    <tr>\n",
       "      <th>0</th>\n",
       "      <td>14</td>\n",
       "      <td>ffa422c889a36d1f1130db7dc42ff28e</td>\n",
       "      <td>{\"cutoff\": \"quantile_0.25\", \"eval_fairness_gro...</td>\n",
       "      <td>33.897051</td>\n",
       "      <td>89710</td>\n",
       "      <td>1.0</td>\n",
       "      <td>0.137457</td>\n",
       "      <td>0.834314</td>\n",
       "      <td>0.119599</td>\n",
       "      <td>0.857993</td>\n",
       "      <td>...</td>\n",
       "      <td>0.128505</td>\n",
       "      <td>0.168697</td>\n",
       "      <td>0.829628</td>\n",
       "      <td>0.692171</td>\n",
       "      <td>0.061233</td>\n",
       "      <td>0.077462</td>\n",
       "      <td>0.842210</td>\n",
       "      <td>0.722611</td>\n",
       "      <td>20540.0</td>\n",
       "      <td>69170.0</td>\n",
       "    </tr>\n",
       "  </tbody>\n",
       "</table>\n",
       "<p>4 rows × 50 columns</p>\n",
       "</div>"
      ],
      "text/plain": [
       "  run_no                       universe_id  \\\n",
       "0     14  ffa422c889a36d1f1130db7dc42ff28e   \n",
       "0     14  ffa422c889a36d1f1130db7dc42ff28e   \n",
       "0     14  ffa422c889a36d1f1130db7dc42ff28e   \n",
       "0     14  ffa422c889a36d1f1130db7dc42ff28e   \n",
       "\n",
       "                                   universe_settings  execution_time  \\\n",
       "0  {\"cutoff\": \"quantile_0.1\", \"eval_fairness_grou...       33.897051   \n",
       "0  {\"cutoff\": \"quantile_0.1\", \"eval_fairness_grou...       33.897051   \n",
       "0  {\"cutoff\": \"quantile_0.25\", \"eval_fairness_gro...       33.897051   \n",
       "0  {\"cutoff\": \"quantile_0.25\", \"eval_fairness_gro...       33.897051   \n",
       "\n",
       "   test_size_n  test_size_frac  fair_main_equalized_odds_difference  \\\n",
       "0        89710             1.0                             0.056471   \n",
       "0        89710             1.0                             0.056471   \n",
       "0        89710             1.0                             0.137457   \n",
       "0        89710             1.0                             0.137457   \n",
       "\n",
       "   fair_main_equalized_odds_ratio  fair_main_demographic_parity_difference  \\\n",
       "0                        0.939408                                 0.048620   \n",
       "0                        0.939408                                 0.048620   \n",
       "0                        0.834314                                 0.119599   \n",
       "0                        0.834314                                 0.119599   \n",
       "\n",
       "   fair_main_demographic_parity_ratio  ...  perf_grp_precision_0  \\\n",
       "0                            0.948138  ...                   NaN   \n",
       "0                            0.948138  ...              0.120482   \n",
       "0                            0.857993  ...                   NaN   \n",
       "0                            0.857993  ...              0.128505   \n",
       "\n",
       "   perf_grp_precision_1  perf_grp_false positive rate_0  \\\n",
       "0                   NaN                             NaN   \n",
       "0              0.145178                        0.931983   \n",
       "0                   NaN                             NaN   \n",
       "0              0.168697                        0.829628   \n",
       "\n",
       "   perf_grp_false positive rate_1  perf_grp_false negative rate_0  \\\n",
       "0                             NaN                             NaN   \n",
       "0                        0.875512                        0.020270   \n",
       "0                             NaN                             NaN   \n",
       "0                        0.692171                        0.061233   \n",
       "\n",
       "   perf_grp_false negative rate_1  perf_grp_selection rate_0  \\\n",
       "0                             NaN                        NaN   \n",
       "0                        0.023414                   0.937488   \n",
       "0                             NaN                        NaN   \n",
       "0                        0.077462                   0.842210   \n",
       "\n",
       "   perf_grp_selection rate_1  perf_grp_count_0  perf_grp_count_1  \n",
       "0                        NaN               NaN               NaN  \n",
       "0                   0.888868           20540.0           69170.0  \n",
       "0                        NaN               NaN               NaN  \n",
       "0                   0.722611           20540.0           69170.0  \n",
       "\n",
       "[4 rows x 50 columns]"
      ]
     },
     "execution_count": 79,
     "metadata": {},
     "output_type": "execute_result"
    }
   ],
   "source": [
    "final_output = universe_analysis.generate_final_output(\n",
    "    y_pred_prob=probs_test,\n",
    "    y_test=y_true,\n",
    "    org_test=org_test,\n",
    "    filter_data=filter_sub_universe_data,\n",
    "    cp_metrics_df=cp_metrics_df,\n",
    "    save=True,\n",
    ")\n",
    "final_output"
   ]
  },
  {
   "cell_type": "code",
   "execution_count": null,
   "id": "721ff514-cb11-46f8-b6fc-50392f74b5cb",
   "metadata": {
    "papermill": {
     "duration": 0.028686,
     "end_time": "2025-07-30T21:47:50.597653",
     "exception": false,
     "start_time": "2025-07-30T21:47:50.568967",
     "status": "completed"
    },
    "tags": []
   },
   "outputs": [],
   "source": []
  }
 ],
 "metadata": {
  "celltoolbar": "Tags",
  "kernelspec": {
   "display_name": "Python (CMA Fairness)",
   "language": "python",
   "name": "cma_fair_env"
  },
  "language_info": {
   "codemirror_mode": {
    "name": "ipython",
    "version": 3
   },
   "file_extension": ".py",
   "mimetype": "text/x-python",
   "name": "python",
   "nbconvert_exporter": "python",
   "pygments_lexer": "ipython3",
   "version": "3.10.12"
  },
  "papermill": {
   "default_parameters": {},
   "duration": 48.161152,
   "end_time": "2025-07-30T21:47:51.445820",
   "environment_variables": {},
   "exception": null,
   "input_path": "universe_analysis.ipynb",
   "output_path": "output/runs/14/notebooks/m_14-ffa422c889a36d1f1130db7dc42ff28e.ipynb",
   "parameters": {
    "output_dir": "output",
    "run_no": "14",
    "seed": "2023",
    "universe": "{\"cutoff\": [\"quantile_0.1\", \"quantile_0.25\"], \"eval_fairness_grouping\": [\"majority-minority\", \"nationality-all\"], \"exclude_features\": \"sex\", \"exclude_subgroups\": \"keep-all\", \"model\": \"gbm\", \"scale\": \"scale\", \"training_size\": \"1k\", \"training_year\": \"2010_14\"}",
    "universe_id": "ffa422c889a36d1f1130db7dc42ff28e"
   },
   "start_time": "2025-07-30T21:47:03.284668",
   "version": "2.6.0"
  }
 },
 "nbformat": 4,
 "nbformat_minor": 5
}