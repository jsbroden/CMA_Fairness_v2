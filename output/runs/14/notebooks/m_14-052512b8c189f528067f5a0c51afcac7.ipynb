{
 "cells": [
  {
   "cell_type": "code",
   "execution_count": 1,
   "id": "f159f837-637b-42ba-96b5-ec9a68c44524",
   "metadata": {
    "execution": {
     "iopub.execute_input": "2025-07-30T21:34:31.913664Z",
     "iopub.status.busy": "2025-07-30T21:34:31.912692Z",
     "iopub.status.idle": "2025-07-30T21:34:31.926535Z",
     "shell.execute_reply": "2025-07-30T21:34:31.925417Z"
    },
    "papermill": {
     "duration": 0.039342,
     "end_time": "2025-07-30T21:34:31.928509",
     "exception": false,
     "start_time": "2025-07-30T21:34:31.889167",
     "status": "completed"
    },
    "tags": []
   },
   "outputs": [
    {
     "name": "stdout",
     "output_type": "stream",
     "text": [
      "/dss/dsshome1/0C/ra93lal2/cma/CMA_Fairness_v2\n"
     ]
    },
    {
     "name": "stderr",
     "output_type": "stream",
     "text": [
      "/dss/dsshome1/0C/ra93lal2/.local/share/virtualenvs/CMA_Fairness_v2-3j10GkSs/lib/python3.10/site-packages/IPython/core/magics/osm.py:393: UserWarning: This is now an optional IPython functionality, using bookmarks requires you to install the `pickleshare` library.\n",
      "  bkms = self.shell.db.get('bookmarks', {})\n",
      "/dss/dsshome1/0C/ra93lal2/.local/share/virtualenvs/CMA_Fairness_v2-3j10GkSs/lib/python3.10/site-packages/IPython/core/magics/osm.py:417: UserWarning: This is now an optional IPython functionality, setting dhist requires you to install the `pickleshare` library.\n",
      "  self.shell.db['dhist'] = compress_dhist(dhist)[-100:]\n"
     ]
    }
   ],
   "source": [
    "%cd ~/cma/CMA_Fairness_v2"
   ]
  },
  {
   "cell_type": "markdown",
   "id": "de2603b9",
   "metadata": {
    "papermill": {
     "duration": 0.022629,
     "end_time": "2025-07-30T21:34:31.973273",
     "exception": false,
     "start_time": "2025-07-30T21:34:31.950644",
     "status": "completed"
    },
    "tags": []
   },
   "source": [
    "The following cell holds the definition of our parameters, these values can be overriden by rendering the with e.g. the following command:\n",
    "\n",
    "papermill -p alpha 0.2 -p ratio 0.3 universe_analysis.ipynb output/test_run.ipynb"
   ]
  },
  {
   "cell_type": "code",
   "execution_count": 2,
   "id": "a80968a0-40bb-4fa9-85ef-2d5eefb01975",
   "metadata": {
    "execution": {
     "iopub.execute_input": "2025-07-30T21:34:32.019211Z",
     "iopub.status.busy": "2025-07-30T21:34:32.018507Z",
     "iopub.status.idle": "2025-07-30T21:34:32.024378Z",
     "shell.execute_reply": "2025-07-30T21:34:32.023429Z"
    },
    "papermill": {
     "duration": 0.029555,
     "end_time": "2025-07-30T21:34:32.026083",
     "exception": false,
     "start_time": "2025-07-30T21:34:31.996528",
     "status": "completed"
    },
    "tags": []
   },
   "outputs": [
    {
     "name": "stdout",
     "output_type": "stream",
     "text": [
      "Current working directory: /dss/dsshome1/0C/ra93lal2/cma/CMA_Fairness_v2\n"
     ]
    }
   ],
   "source": [
    "import os\n",
    "print(\"Current working directory:\", os.getcwd())"
   ]
  },
  {
   "cell_type": "code",
   "execution_count": 3,
   "id": "2dce4c03",
   "metadata": {
    "execution": {
     "iopub.execute_input": "2025-07-30T21:34:32.071795Z",
     "iopub.status.busy": "2025-07-30T21:34:32.071320Z",
     "iopub.status.idle": "2025-07-30T21:34:32.077825Z",
     "shell.execute_reply": "2025-07-30T21:34:32.076799Z"
    },
    "papermill": {
     "duration": 0.030963,
     "end_time": "2025-07-30T21:34:32.079653",
     "exception": false,
     "start_time": "2025-07-30T21:34:32.048690",
     "status": "completed"
    },
    "tags": [
     "parameters"
    ]
   },
   "outputs": [],
   "source": [
    "run_no = 0\n",
    "universe_id = \"test\"\n",
    "universe = {\n",
    "    \"training_size\": \"25k\", # \"25k\", \"5k\", \"1k\"\n",
    "    \"training_year\": \"2014\", # \"2014\", \"2012_14\", \"2010_14\"\n",
    "    \"scale\": \"scale\", # \"scale\", \"do-not-scale\",\n",
    "    #\"stratify_split\": \"target\", # \"none\", \"target\", \"protected-attribute\", \"both\",\n",
    "    \"model\": \"elasticnet\", # \"logreg\", \"penalized_logreg\", \"rf\", \"gbm\", \"elasticnet\"\n",
    "    \"cutoff\": [\"quantile_0.15\", \"quantile_0.30\"],\n",
    "    \"exclude_features\": \"age\", # \"none\", \"nationality\", \"sex\", \"nationality-sex\", \"age\"\n",
    "    \"exclude_subgroups\": \"keep-all\", # \"keep-all\", \"drop-non-german\"\n",
    "    \"eval_fairness_grouping\": [\"majority-minority\", \"nationality-all\"]\n",
    "}\n",
    "\n",
    "output_dir=\"./output\"\n",
    "seed=0"
   ]
  },
  {
   "cell_type": "code",
   "execution_count": 4,
   "id": "ea61bb0c",
   "metadata": {
    "execution": {
     "iopub.execute_input": "2025-07-30T21:34:32.124242Z",
     "iopub.status.busy": "2025-07-30T21:34:32.123605Z",
     "iopub.status.idle": "2025-07-30T21:34:32.129647Z",
     "shell.execute_reply": "2025-07-30T21:34:32.128587Z"
    },
    "papermill": {
     "duration": 0.029652,
     "end_time": "2025-07-30T21:34:32.131369",
     "exception": false,
     "start_time": "2025-07-30T21:34:32.101717",
     "status": "completed"
    },
    "tags": [
     "injected-parameters"
    ]
   },
   "outputs": [],
   "source": [
    "# Parameters\n",
    "universe_id = \"052512b8c189f528067f5a0c51afcac7\"\n",
    "run_no = \"14\"\n",
    "universe = \"{\\\"cutoff\\\": [\\\"quantile_0.1\\\", \\\"quantile_0.25\\\"], \\\"eval_fairness_grouping\\\": [\\\"majority-minority\\\", \\\"nationality-all\\\"], \\\"exclude_features\\\": \\\"age\\\", \\\"exclude_subgroups\\\": \\\"keep-all\\\", \\\"model\\\": \\\"penalized_logreg\\\", \\\"scale\\\": \\\"scale\\\", \\\"training_size\\\": \\\"1k\\\", \\\"training_year\\\": \\\"2012_14\\\"}\"\n",
    "output_dir = \"output\"\n",
    "seed = \"2023\"\n"
   ]
  },
  {
   "cell_type": "code",
   "execution_count": 5,
   "id": "1650acaf",
   "metadata": {
    "execution": {
     "iopub.execute_input": "2025-07-30T21:34:32.176149Z",
     "iopub.status.busy": "2025-07-30T21:34:32.175583Z",
     "iopub.status.idle": "2025-07-30T21:34:32.181304Z",
     "shell.execute_reply": "2025-07-30T21:34:32.180262Z"
    },
    "papermill": {
     "duration": 0.029555,
     "end_time": "2025-07-30T21:34:32.183194",
     "exception": false,
     "start_time": "2025-07-30T21:34:32.153639",
     "status": "completed"
    },
    "tags": []
   },
   "outputs": [],
   "source": [
    "import json\n",
    "# Parse universe into dict if it is passed as a string\n",
    "if isinstance(universe, str):\n",
    "    universe = json.loads(universe)"
   ]
  },
  {
   "cell_type": "code",
   "execution_count": 6,
   "id": "16620c48",
   "metadata": {
    "execution": {
     "iopub.execute_input": "2025-07-30T21:34:32.230348Z",
     "iopub.status.busy": "2025-07-30T21:34:32.229360Z",
     "iopub.status.idle": "2025-07-30T21:34:32.276737Z",
     "shell.execute_reply": "2025-07-30T21:34:32.275761Z"
    },
    "papermill": {
     "duration": 0.072562,
     "end_time": "2025-07-30T21:34:32.278711",
     "exception": false,
     "start_time": "2025-07-30T21:34:32.206149",
     "status": "completed"
    },
    "tags": []
   },
   "outputs": [],
   "source": [
    "# Auto-reload the custom package\n",
    "%load_ext autoreload\n",
    "%autoreload 1\n",
    "%aimport fairness_multiverse"
   ]
  },
  {
   "cell_type": "code",
   "execution_count": 7,
   "id": "01c5c9f3",
   "metadata": {
    "execution": {
     "iopub.execute_input": "2025-07-30T21:34:32.324430Z",
     "iopub.status.busy": "2025-07-30T21:34:32.323487Z",
     "iopub.status.idle": "2025-07-30T21:34:34.140793Z",
     "shell.execute_reply": "2025-07-30T21:34:34.139676Z"
    },
    "papermill": {
     "duration": 1.841793,
     "end_time": "2025-07-30T21:34:34.142609",
     "exception": false,
     "start_time": "2025-07-30T21:34:32.300816",
     "status": "completed"
    },
    "tags": []
   },
   "outputs": [],
   "source": [
    "from fairness_multiverse.universe import UniverseAnalysis\n",
    "\n",
    "universe_analysis = UniverseAnalysis(\n",
    "    run_no = run_no,\n",
    "    universe_id = universe_id,\n",
    "    universe = universe,\n",
    "    output_dir=output_dir,\n",
    ")"
   ]
  },
  {
   "cell_type": "code",
   "execution_count": 8,
   "id": "106241f5",
   "metadata": {
    "execution": {
     "iopub.execute_input": "2025-07-30T21:34:34.184660Z",
     "iopub.status.busy": "2025-07-30T21:34:34.183727Z",
     "iopub.status.idle": "2025-07-30T21:34:34.190388Z",
     "shell.execute_reply": "2025-07-30T21:34:34.189490Z"
    },
    "papermill": {
     "duration": 0.029024,
     "end_time": "2025-07-30T21:34:34.191882",
     "exception": false,
     "start_time": "2025-07-30T21:34:34.162858",
     "status": "completed"
    },
    "tags": []
   },
   "outputs": [
    {
     "name": "stdout",
     "output_type": "stream",
     "text": [
      "Using Seed: 2023\n"
     ]
    }
   ],
   "source": [
    "import numpy as np\n",
    "parsed_seed = int(seed)\n",
    "np.random.seed(parsed_seed)\n",
    "print(f\"Using Seed: {parsed_seed}\")"
   ]
  },
  {
   "cell_type": "markdown",
   "id": "e0ebdc57",
   "metadata": {
    "papermill": {
     "duration": 0.019023,
     "end_time": "2025-07-30T21:34:34.229746",
     "exception": false,
     "start_time": "2025-07-30T21:34:34.210723",
     "status": "completed"
    },
    "tags": []
   },
   "source": [
    "# Loading Data"
   ]
  },
  {
   "cell_type": "markdown",
   "id": "681925a3",
   "metadata": {
    "papermill": {
     "duration": 0.018588,
     "end_time": "2025-07-30T21:34:34.266719",
     "exception": false,
     "start_time": "2025-07-30T21:34:34.248131",
     "status": "completed"
    },
    "tags": []
   },
   "source": [
    "Load siab_train, siab_test, siab_calib and/or \n",
    "load siab_train_features, siab_train_labels"
   ]
  },
  {
   "cell_type": "code",
   "execution_count": 9,
   "id": "f0496b8a",
   "metadata": {
    "execution": {
     "iopub.execute_input": "2025-07-30T21:34:34.305997Z",
     "iopub.status.busy": "2025-07-30T21:34:34.305273Z",
     "iopub.status.idle": "2025-07-30T21:34:47.178305Z",
     "shell.execute_reply": "2025-07-30T21:34:47.177032Z"
    },
    "papermill": {
     "duration": 12.894187,
     "end_time": "2025-07-30T21:34:47.179978",
     "exception": false,
     "start_time": "2025-07-30T21:34:34.285791",
     "status": "completed"
    },
    "tags": []
   },
   "outputs": [
    {
     "name": "stdout",
     "output_type": "stream",
     "text": [
      "Loading SIAB data from cache: data/siab_cached.csv.gz\n"
     ]
    },
    {
     "name": "stdout",
     "output_type": "stream",
     "text": [
      "(643690, 164)\n"
     ]
    }
   ],
   "source": [
    "from pathlib import Path\n",
    "import pandas as pd\n",
    "\n",
    "# File paths\n",
    "raw_file = Path(\"data/raw/siab.csv\")\n",
    "cache_file = Path(\"data/siab_cached.csv.gz\")\n",
    "\n",
    "# Ensure cache directory exists\n",
    "cache_file.parent.mkdir(parents=True, exist_ok=True)\n",
    "\n",
    "# Load with simple caching\n",
    "if cache_file.exists():\n",
    "    print(f\"Loading SIAB data from cache: {cache_file}\")\n",
    "    siab = pd.read_csv(cache_file, compression='gzip')\n",
    "else:\n",
    "    print(f\"Cache not found. Reading raw SIAB data: {raw_file}\")\n",
    "    siab = pd.read_csv(raw_file)\n",
    "    siab.to_csv(cache_file, index=False, compression='gzip')\n",
    "    print(f\"Cached SIAB data to: {cache_file}\")\n",
    "\n",
    "# Now use `siab` DataFrame as needed\n",
    "print(siab.shape)"
   ]
  },
  {
   "cell_type": "code",
   "execution_count": 10,
   "id": "db0ca512-5f53-4dba-abdb-a2888bca41ba",
   "metadata": {
    "execution": {
     "iopub.execute_input": "2025-07-30T21:34:47.225287Z",
     "iopub.status.busy": "2025-07-30T21:34:47.224893Z",
     "iopub.status.idle": "2025-07-30T21:34:47.230005Z",
     "shell.execute_reply": "2025-07-30T21:34:47.229077Z"
    },
    "papermill": {
     "duration": 0.027552,
     "end_time": "2025-07-30T21:34:47.231658",
     "exception": false,
     "start_time": "2025-07-30T21:34:47.204106",
     "status": "completed"
    },
    "tags": []
   },
   "outputs": [],
   "source": [
    "#siab"
   ]
  },
  {
   "cell_type": "code",
   "execution_count": 11,
   "id": "a0edb063",
   "metadata": {
    "execution": {
     "iopub.execute_input": "2025-07-30T21:34:47.273466Z",
     "iopub.status.busy": "2025-07-30T21:34:47.272762Z",
     "iopub.status.idle": "2025-07-30T21:34:47.277983Z",
     "shell.execute_reply": "2025-07-30T21:34:47.277052Z"
    },
    "papermill": {
     "duration": 0.028382,
     "end_time": "2025-07-30T21:34:47.279717",
     "exception": false,
     "start_time": "2025-07-30T21:34:47.251335",
     "status": "completed"
    },
    "tags": []
   },
   "outputs": [],
   "source": [
    "#import pandas as pd\n",
    "#\n",
    "#X_train = pd.read_csv(\"./data/X_train.csv\")\n",
    "#y_train = pd.read_csv(\"./data/y_train.csv\")"
   ]
  },
  {
   "cell_type": "code",
   "execution_count": 12,
   "id": "63d08085",
   "metadata": {
    "execution": {
     "iopub.execute_input": "2025-07-30T21:34:47.321984Z",
     "iopub.status.busy": "2025-07-30T21:34:47.321469Z",
     "iopub.status.idle": "2025-07-30T21:34:47.326856Z",
     "shell.execute_reply": "2025-07-30T21:34:47.325925Z"
    },
    "papermill": {
     "duration": 0.028032,
     "end_time": "2025-07-30T21:34:47.328699",
     "exception": false,
     "start_time": "2025-07-30T21:34:47.300667",
     "status": "completed"
    },
    "tags": []
   },
   "outputs": [],
   "source": [
    "#X_test = pd.read_csv(\"./data/X_test.csv\")\n",
    "#y_true = pd.read_csv(\"./data/y_test.csv\")"
   ]
  },
  {
   "cell_type": "code",
   "execution_count": 13,
   "id": "98a8d0fa-1d3d-4ed8-bb2c-281470e24add",
   "metadata": {
    "execution": {
     "iopub.execute_input": "2025-07-30T21:34:47.371880Z",
     "iopub.status.busy": "2025-07-30T21:34:47.371385Z",
     "iopub.status.idle": "2025-07-30T21:34:47.376900Z",
     "shell.execute_reply": "2025-07-30T21:34:47.375892Z"
    },
    "papermill": {
     "duration": 0.028159,
     "end_time": "2025-07-30T21:34:47.378622",
     "exception": false,
     "start_time": "2025-07-30T21:34:47.350463",
     "status": "completed"
    },
    "tags": []
   },
   "outputs": [],
   "source": [
    "# Calibration data for conformal\n",
    "#X_calib = pd.read_csv(\"./data/X_calib.csv\")\n",
    "#y_calib = pd.read_csv(\"./data/y_calib.csv\")"
   ]
  },
  {
   "cell_type": "markdown",
   "id": "997051c5-15bd-4b69-9786-c3001a3ce484",
   "metadata": {
    "papermill": {
     "duration": 0.01933,
     "end_time": "2025-07-30T21:34:47.417110",
     "exception": false,
     "start_time": "2025-07-30T21:34:47.397780",
     "status": "completed"
    },
    "tags": []
   },
   "source": [
    "# Splitting Data and Setting Training Data Size"
   ]
  },
  {
   "cell_type": "code",
   "execution_count": 14,
   "id": "e993b61f-042d-41a6-8c81-f55681f86335",
   "metadata": {
    "execution": {
     "iopub.execute_input": "2025-07-30T21:34:47.457344Z",
     "iopub.status.busy": "2025-07-30T21:34:47.456844Z",
     "iopub.status.idle": "2025-07-30T21:34:47.470365Z",
     "shell.execute_reply": "2025-07-30T21:34:47.469451Z"
    },
    "papermill": {
     "duration": 0.035898,
     "end_time": "2025-07-30T21:34:47.471876",
     "exception": false,
     "start_time": "2025-07-30T21:34:47.435978",
     "status": "completed"
    },
    "tags": []
   },
   "outputs": [],
   "source": [
    "def sample_by_year_size(df,\n",
    "                        training_year: str,\n",
    "                        training_size: str,\n",
    "                        random_state: int = 42):\n",
    "    # --- parse training_year into a list of int years ---\n",
    "    if \"_\" in training_year:\n",
    "        start_str, end_str = training_year.split(\"_\", 1)\n",
    "        start = int(start_str)\n",
    "        end   = int(end_str) if len(end_str) == 4 else (int(end_str) + (start // 100)*100)\n",
    "        years = list(range(start, end + 1))\n",
    "    else:\n",
    "        years = [int(training_year)]\n",
    "\n",
    "    df = df[df[\"year\"].isin(years)].reset_index(drop=True)\n",
    "\n",
    "    # --- map training_size to total number of samples ---\n",
    "    total_map = {\"25k\": 25_000, \"5k\": 5_000, \"1k\": 1_000}\n",
    "    if training_size not in total_map:\n",
    "        return df  # e.g. \"all\"\n",
    "\n",
    "    total_samples = total_map[training_size]\n",
    "    n_years       = len(years)\n",
    "    base          = total_samples // n_years\n",
    "    remainder     = total_samples % n_years\n",
    "\n",
    "    # --- build a dict: year -> how many to sample ---\n",
    "    # give +1 to the first `remainder` years in ascending order\n",
    "    quotas = {\n",
    "        year: base + (1 if idx < remainder else 0)\n",
    "        for idx, year in enumerate(sorted(years))\n",
    "    }\n",
    "\n",
    "    # --- sample per‐year according to the quota dict ---\n",
    "    sampled = (\n",
    "        df\n",
    "        .groupby(\"year\", group_keys=False)\n",
    "        .apply(lambda grp: grp.sample(\n",
    "            n=min(len(grp), quotas[grp.name]),\n",
    "            random_state=random_state))\n",
    "        .reset_index(drop=True)\n",
    "    )\n",
    "\n",
    "    return sampled"
   ]
  },
  {
   "cell_type": "code",
   "execution_count": 15,
   "id": "c0ccd338-0e02-41f3-a09d-f56f9266e3fb",
   "metadata": {
    "execution": {
     "iopub.execute_input": "2025-07-30T21:34:47.511824Z",
     "iopub.status.busy": "2025-07-30T21:34:47.511219Z",
     "iopub.status.idle": "2025-07-30T21:34:47.516496Z",
     "shell.execute_reply": "2025-07-30T21:34:47.515530Z"
    },
    "papermill": {
     "duration": 0.026814,
     "end_time": "2025-07-30T21:34:47.518160",
     "exception": false,
     "start_time": "2025-07-30T21:34:47.491346",
     "status": "completed"
    },
    "tags": []
   },
   "outputs": [],
   "source": [
    "#universe[\"training_size\"]"
   ]
  },
  {
   "cell_type": "code",
   "execution_count": 16,
   "id": "ca707fd7-8047-4acd-bfa5-66248fbbf8e6",
   "metadata": {
    "execution": {
     "iopub.execute_input": "2025-07-30T21:34:47.560528Z",
     "iopub.status.busy": "2025-07-30T21:34:47.559618Z",
     "iopub.status.idle": "2025-07-30T21:34:47.565618Z",
     "shell.execute_reply": "2025-07-30T21:34:47.564781Z"
    },
    "papermill": {
     "duration": 0.029119,
     "end_time": "2025-07-30T21:34:47.567087",
     "exception": false,
     "start_time": "2025-07-30T21:34:47.537968",
     "status": "completed"
    },
    "tags": []
   },
   "outputs": [],
   "source": [
    "#universe[\"training_year\"]"
   ]
  },
  {
   "cell_type": "code",
   "execution_count": 17,
   "id": "aea9c6ef-6f46-42c8-85eb-5a62025c1508",
   "metadata": {
    "execution": {
     "iopub.execute_input": "2025-07-30T21:34:47.607685Z",
     "iopub.status.busy": "2025-07-30T21:34:47.606773Z",
     "iopub.status.idle": "2025-07-30T21:34:48.167735Z",
     "shell.execute_reply": "2025-07-30T21:34:48.167009Z"
    },
    "papermill": {
     "duration": 0.582994,
     "end_time": "2025-07-30T21:34:48.169426",
     "exception": false,
     "start_time": "2025-07-30T21:34:47.586432",
     "status": "completed"
    },
    "tags": []
   },
   "outputs": [],
   "source": [
    "siab_train = sample_by_year_size(siab,\n",
    "                               training_year=universe[\"training_year\"],\n",
    "                               training_size=universe[\"training_size\"])"
   ]
  },
  {
   "cell_type": "code",
   "execution_count": 18,
   "id": "8d3afb32-789d-442c-8d5d-9f5aa8dd2eed",
   "metadata": {
    "execution": {
     "iopub.execute_input": "2025-07-30T21:34:48.224878Z",
     "iopub.status.busy": "2025-07-30T21:34:48.224232Z",
     "iopub.status.idle": "2025-07-30T21:34:48.229010Z",
     "shell.execute_reply": "2025-07-30T21:34:48.228159Z"
    },
    "papermill": {
     "duration": 0.027051,
     "end_time": "2025-07-30T21:34:48.230640",
     "exception": false,
     "start_time": "2025-07-30T21:34:48.203589",
     "status": "completed"
    },
    "tags": []
   },
   "outputs": [],
   "source": [
    "#siab_train.shape"
   ]
  },
  {
   "cell_type": "code",
   "execution_count": 19,
   "id": "d582db68-1a4c-47fb-84fc-08518dc1975a",
   "metadata": {
    "execution": {
     "iopub.execute_input": "2025-07-30T21:34:48.271560Z",
     "iopub.status.busy": "2025-07-30T21:34:48.270740Z",
     "iopub.status.idle": "2025-07-30T21:34:48.276056Z",
     "shell.execute_reply": "2025-07-30T21:34:48.275097Z"
    },
    "papermill": {
     "duration": 0.027473,
     "end_time": "2025-07-30T21:34:48.277769",
     "exception": false,
     "start_time": "2025-07-30T21:34:48.250296",
     "status": "completed"
    },
    "tags": []
   },
   "outputs": [],
   "source": [
    "#display(siab_train.groupby(\"year\").size())"
   ]
  },
  {
   "cell_type": "code",
   "execution_count": 20,
   "id": "a561edb4-d032-42cb-8256-22eac1111c64",
   "metadata": {
    "execution": {
     "iopub.execute_input": "2025-07-30T21:34:48.320209Z",
     "iopub.status.busy": "2025-07-30T21:34:48.319722Z",
     "iopub.status.idle": "2025-07-30T21:34:48.534087Z",
     "shell.execute_reply": "2025-07-30T21:34:48.533334Z"
    },
    "papermill": {
     "duration": 0.237384,
     "end_time": "2025-07-30T21:34:48.535476",
     "exception": false,
     "start_time": "2025-07-30T21:34:48.298092",
     "status": "completed"
    },
    "tags": []
   },
   "outputs": [],
   "source": [
    "#siab_train = siab_s[siab_s.year < 2015]\n",
    "siab_calib = siab[siab.year == 2015]\n",
    "siab_test = siab[siab.year == 2016]"
   ]
  },
  {
   "cell_type": "code",
   "execution_count": 21,
   "id": "472de16f-c3db-4916-846b-1f0de9cf1746",
   "metadata": {
    "execution": {
     "iopub.execute_input": "2025-07-30T21:34:48.562953Z",
     "iopub.status.busy": "2025-07-30T21:34:48.562344Z",
     "iopub.status.idle": "2025-07-30T21:34:48.567924Z",
     "shell.execute_reply": "2025-07-30T21:34:48.567198Z"
    },
    "papermill": {
     "duration": 0.018559,
     "end_time": "2025-07-30T21:34:48.569154",
     "exception": false,
     "start_time": "2025-07-30T21:34:48.550595",
     "status": "completed"
    },
    "tags": []
   },
   "outputs": [],
   "source": [
    "X_train = siab_train.iloc[:,4:164]\n",
    "y_train = siab_train.iloc[:, [3]]"
   ]
  },
  {
   "cell_type": "code",
   "execution_count": 22,
   "id": "828c96af-f43a-4ed6-ba47-8ac73a47d56c",
   "metadata": {
    "execution": {
     "iopub.execute_input": "2025-07-30T21:34:48.593586Z",
     "iopub.status.busy": "2025-07-30T21:34:48.593082Z",
     "iopub.status.idle": "2025-07-30T21:34:48.640197Z",
     "shell.execute_reply": "2025-07-30T21:34:48.639367Z"
    },
    "papermill": {
     "duration": 0.061067,
     "end_time": "2025-07-30T21:34:48.641747",
     "exception": false,
     "start_time": "2025-07-30T21:34:48.580680",
     "status": "completed"
    },
    "tags": []
   },
   "outputs": [],
   "source": [
    "X_calib = siab_calib.iloc[:,4:164]\n",
    "y_calib = siab_calib.iloc[:, [3]]"
   ]
  },
  {
   "cell_type": "code",
   "execution_count": 23,
   "id": "c34be9c3-6bd6-476e-acd3-845840e303be",
   "metadata": {
    "execution": {
     "iopub.execute_input": "2025-07-30T21:34:48.666614Z",
     "iopub.status.busy": "2025-07-30T21:34:48.666115Z",
     "iopub.status.idle": "2025-07-30T21:34:48.713964Z",
     "shell.execute_reply": "2025-07-30T21:34:48.713081Z"
    },
    "papermill": {
     "duration": 0.061298,
     "end_time": "2025-07-30T21:34:48.715270",
     "exception": false,
     "start_time": "2025-07-30T21:34:48.653972",
     "status": "completed"
    },
    "tags": []
   },
   "outputs": [],
   "source": [
    "X_test = siab_test.iloc[:,4:164]\n",
    "y_true = siab_test.iloc[:, [3]]"
   ]
  },
  {
   "cell_type": "markdown",
   "id": "9901737e-04df-44f0-9100-f5ad144ed040",
   "metadata": {
    "papermill": {
     "duration": 0.010774,
     "end_time": "2025-07-30T21:34:48.737814",
     "exception": false,
     "start_time": "2025-07-30T21:34:48.727040",
     "status": "completed"
    },
    "tags": []
   },
   "source": [
    "# Splitting Data and Setting Training Data Size OLD VERSION"
   ]
  },
  {
   "cell_type": "code",
   "execution_count": 24,
   "id": "acbc8f7d-8fc8-4e86-8c59-5dcb0f58384b",
   "metadata": {
    "execution": {
     "iopub.execute_input": "2025-07-30T21:34:48.761137Z",
     "iopub.status.busy": "2025-07-30T21:34:48.760636Z",
     "iopub.status.idle": "2025-07-30T21:34:48.765208Z",
     "shell.execute_reply": "2025-07-30T21:34:48.764414Z"
    },
    "papermill": {
     "duration": 0.017858,
     "end_time": "2025-07-30T21:34:48.766416",
     "exception": false,
     "start_time": "2025-07-30T21:34:48.748558",
     "status": "completed"
    },
    "tags": []
   },
   "outputs": [],
   "source": [
    "#def sample_by_year(df, training_size, random_state=42):\n",
    "#    if training_size == \"2014\":\n",
    "#        return df[df[\"year\"] == 2014].reset_index(drop=True)\n",
    "#    \n",
    "#    size_map = {\n",
    "#        \"25k\": 5000,\n",
    "#        \"5k\": 1000,\n",
    "#        \"1k\": 200\n",
    "#    }\n",
    "#\n",
    "#    if training_size not in size_map:\n",
    "#        return df.reset_index(drop=True)  # use all data\n",
    "#\n",
    "#    n_per_year = size_map[training_size]\n",
    "#    grouped = df.groupby(\"year\")\n",
    "#    sampled = grouped.apply(lambda x: x.sample(n=min(n_per_year, len(x)), random_state=random_state))\n",
    "#    return sampled.reset_index(drop=True)"
   ]
  },
  {
   "cell_type": "code",
   "execution_count": 25,
   "id": "6d931f52-beaf-43ff-9e78-9d44a448d54e",
   "metadata": {
    "execution": {
     "iopub.execute_input": "2025-07-30T21:34:48.790611Z",
     "iopub.status.busy": "2025-07-30T21:34:48.790098Z",
     "iopub.status.idle": "2025-07-30T21:34:48.794569Z",
     "shell.execute_reply": "2025-07-30T21:34:48.793894Z"
    },
    "papermill": {
     "duration": 0.017916,
     "end_time": "2025-07-30T21:34:48.795888",
     "exception": false,
     "start_time": "2025-07-30T21:34:48.777972",
     "status": "completed"
    },
    "tags": []
   },
   "outputs": [],
   "source": [
    "#siab_s = sample_by_year(siab, universe[\"training_size\"])"
   ]
  },
  {
   "cell_type": "code",
   "execution_count": 26,
   "id": "5db0a40e-a4e2-4920-be85-b12ae061d70d",
   "metadata": {
    "execution": {
     "iopub.execute_input": "2025-07-30T21:34:48.838668Z",
     "iopub.status.busy": "2025-07-30T21:34:48.838131Z",
     "iopub.status.idle": "2025-07-30T21:34:48.843800Z",
     "shell.execute_reply": "2025-07-30T21:34:48.842754Z"
    },
    "papermill": {
     "duration": 0.035434,
     "end_time": "2025-07-30T21:34:48.846000",
     "exception": false,
     "start_time": "2025-07-30T21:34:48.810566",
     "status": "completed"
    },
    "tags": []
   },
   "outputs": [],
   "source": [
    "#display(siab_s.groupby(\"year\").size())"
   ]
  },
  {
   "cell_type": "code",
   "execution_count": 27,
   "id": "e6c733c5",
   "metadata": {
    "execution": {
     "iopub.execute_input": "2025-07-30T21:34:48.902545Z",
     "iopub.status.busy": "2025-07-30T21:34:48.902176Z",
     "iopub.status.idle": "2025-07-30T21:34:48.992435Z",
     "shell.execute_reply": "2025-07-30T21:34:48.991363Z"
    },
    "papermill": {
     "duration": 0.124794,
     "end_time": "2025-07-30T21:34:48.997664",
     "exception": false,
     "start_time": "2025-07-30T21:34:48.872870",
     "status": "completed"
    },
    "tags": []
   },
   "outputs": [],
   "source": [
    "# Auxiliary data needed downstream in the pipeline\n",
    "\n",
    "org_train = X_train.copy()\n",
    "org_test = X_test.copy()\n",
    "org_calib = X_calib.copy()"
   ]
  },
  {
   "cell_type": "code",
   "execution_count": 28,
   "id": "1466abac-c6da-4492-a62f-4240ae3783af",
   "metadata": {
    "execution": {
     "iopub.execute_input": "2025-07-30T21:34:49.048510Z",
     "iopub.status.busy": "2025-07-30T21:34:49.047536Z",
     "iopub.status.idle": "2025-07-30T21:34:49.053253Z",
     "shell.execute_reply": "2025-07-30T21:34:49.052397Z"
    },
    "papermill": {
     "duration": 0.032787,
     "end_time": "2025-07-30T21:34:49.055140",
     "exception": false,
     "start_time": "2025-07-30T21:34:49.022353",
     "status": "completed"
    },
    "tags": []
   },
   "outputs": [],
   "source": [
    "# put in other script?\n",
    "# Group sizes\n",
    "\n",
    "#def calculate_percentages(df, df_name):\n",
    "#    total_entries = len(df)\n",
    "#\n",
    "#    female_pct = (df['frau1'] == 1).mean() * 100\n",
    "#    non_german_pct = ((df['maxdeutsch1'] == 0) & (df['maxdeutsch.Missing.'] == 0)).mean() * 100\n",
    "#    non_german_male_pct = ((df['frau1'] == 0) & (df['maxdeutsch1'] == 0) & (df['maxdeutsch.Missing.'] == 0)).mean() * 100\n",
    "#    non_german_female_pct = ((df['frau1'] == 1) & (df['maxdeutsch1'] == 0) & (df['maxdeutsch.Missing.'] == 0)).mean() * 100\n",
    "#\n",
    "#    print(f\"--- {df_name} ---\")\n",
    "#    print(f\"Female: {female_pct:.2f}%\")\n",
    "#    print(f\"Non-German: {non_german_pct:.2f}%\")\n",
    "#    print(f\"Non-German Male: {non_german_male_pct:.2f}%\")\n",
    "#    print(f\"Non-German Female: {non_german_female_pct:.2f}%\\n\")\n",
    "#\n",
    "## Calculate for each DataFrame\n",
    "#calculate_percentages(siab_calib, \"siab_calib\")\n",
    "#calculate_percentages(siab_test, \"siab_test\")\n",
    "#calculate_percentages(siab_train, \"siab_train\")"
   ]
  },
  {
   "cell_type": "markdown",
   "id": "0a4a1b33",
   "metadata": {
    "papermill": {
     "duration": 0.023632,
     "end_time": "2025-07-30T21:34:49.103430",
     "exception": false,
     "start_time": "2025-07-30T21:34:49.079798",
     "status": "completed"
    },
    "tags": []
   },
   "source": [
    "# Preprocessing Data"
   ]
  },
  {
   "cell_type": "code",
   "execution_count": 29,
   "id": "ca879031",
   "metadata": {
    "execution": {
     "iopub.execute_input": "2025-07-30T21:34:49.155732Z",
     "iopub.status.busy": "2025-07-30T21:34:49.154593Z",
     "iopub.status.idle": "2025-07-30T21:34:49.162045Z",
     "shell.execute_reply": "2025-07-30T21:34:49.160877Z"
    },
    "papermill": {
     "duration": 0.036118,
     "end_time": "2025-07-30T21:34:49.163765",
     "exception": false,
     "start_time": "2025-07-30T21:34:49.127647",
     "status": "completed"
    },
    "tags": []
   },
   "outputs": [],
   "source": [
    "# EXCLUDE PROTECTED FEATURES\n",
    "# ----------------------\n",
    "# \"exclude_features\": \"none\", # \"nationality\", \"sex\", \"nationality-sex\"\n",
    "\n",
    "excluded_features = universe[\"exclude_features\"].split(\"-\") # split, e.g.: \"nationality-sex\" -> [\"nationality\", \"sex\"]\n",
    "excluded_features_dictionary = {\n",
    "    \"nationality\": [\"maxdeutsch1\", \"maxdeutsch.Missing.\"],\n",
    "    \"sex\": [\"frau1\"],\n",
    "    \"age\": [\"age\"],\n",
    "}\n"
   ]
  },
  {
   "cell_type": "code",
   "execution_count": 30,
   "id": "b745ac60",
   "metadata": {
    "execution": {
     "iopub.execute_input": "2025-07-30T21:34:49.214291Z",
     "iopub.status.busy": "2025-07-30T21:34:49.213625Z",
     "iopub.status.idle": "2025-07-30T21:34:49.220639Z",
     "shell.execute_reply": "2025-07-30T21:34:49.219476Z"
    },
    "papermill": {
     "duration": 0.034584,
     "end_time": "2025-07-30T21:34:49.222688",
     "exception": false,
     "start_time": "2025-07-30T21:34:49.188104",
     "status": "completed"
    },
    "tags": []
   },
   "outputs": [],
   "source": [
    "# Code nice names to column names\n",
    "\n",
    "excluded_features_columns = [\n",
    "    excluded_features_dictionary[f] for f in excluded_features if len(f) > 0 and f != \"none\"\n",
    "]"
   ]
  },
  {
   "cell_type": "code",
   "execution_count": 31,
   "id": "f84f73a2",
   "metadata": {
    "execution": {
     "iopub.execute_input": "2025-07-30T21:34:49.275641Z",
     "iopub.status.busy": "2025-07-30T21:34:49.275104Z",
     "iopub.status.idle": "2025-07-30T21:34:49.282102Z",
     "shell.execute_reply": "2025-07-30T21:34:49.280982Z"
    },
    "papermill": {
     "duration": 0.035772,
     "end_time": "2025-07-30T21:34:49.284101",
     "exception": false,
     "start_time": "2025-07-30T21:34:49.248329",
     "status": "completed"
    },
    "tags": []
   },
   "outputs": [],
   "source": [
    "from utils import flatten_once\n",
    "\n",
    "excluded_features_columns = flatten_once(excluded_features_columns)"
   ]
  },
  {
   "cell_type": "code",
   "execution_count": 32,
   "id": "884dea22",
   "metadata": {
    "execution": {
     "iopub.execute_input": "2025-07-30T21:34:49.336050Z",
     "iopub.status.busy": "2025-07-30T21:34:49.334935Z",
     "iopub.status.idle": "2025-07-30T21:34:49.345419Z",
     "shell.execute_reply": "2025-07-30T21:34:49.344323Z"
    },
    "papermill": {
     "duration": 0.038257,
     "end_time": "2025-07-30T21:34:49.347353",
     "exception": false,
     "start_time": "2025-07-30T21:34:49.309096",
     "status": "completed"
    },
    "tags": []
   },
   "outputs": [
    {
     "name": "stdout",
     "output_type": "stream",
     "text": [
      "Dropping features: ['age']\n"
     ]
    }
   ],
   "source": [
    "if len(excluded_features_columns) > 0:\n",
    "    print(f\"Dropping features: {excluded_features_columns}\")\n",
    "    X_train.drop(excluded_features_columns, axis=1, inplace=True)"
   ]
  },
  {
   "cell_type": "code",
   "execution_count": 33,
   "id": "95ab8b16",
   "metadata": {
    "execution": {
     "iopub.execute_input": "2025-07-30T21:34:49.401305Z",
     "iopub.status.busy": "2025-07-30T21:34:49.400226Z",
     "iopub.status.idle": "2025-07-30T21:34:49.480313Z",
     "shell.execute_reply": "2025-07-30T21:34:49.479108Z"
    },
    "papermill": {
     "duration": 0.108672,
     "end_time": "2025-07-30T21:34:49.482417",
     "exception": false,
     "start_time": "2025-07-30T21:34:49.373745",
     "status": "completed"
    },
    "tags": []
   },
   "outputs": [
    {
     "name": "stdout",
     "output_type": "stream",
     "text": [
      "Dropping features: ['age']\n"
     ]
    }
   ],
   "source": [
    "if len(excluded_features_columns) > 0:\n",
    "    print(f\"Dropping features: {excluded_features_columns}\")\n",
    "    X_test.drop(excluded_features_columns, axis=1, inplace=True)"
   ]
  },
  {
   "cell_type": "code",
   "execution_count": 34,
   "id": "1853aaf5-fb9f-46cb-a2b5-8ea4ae2237e4",
   "metadata": {
    "execution": {
     "iopub.execute_input": "2025-07-30T21:34:49.535149Z",
     "iopub.status.busy": "2025-07-30T21:34:49.534180Z",
     "iopub.status.idle": "2025-07-30T21:34:49.587722Z",
     "shell.execute_reply": "2025-07-30T21:34:49.586673Z"
    },
    "papermill": {
     "duration": 0.082382,
     "end_time": "2025-07-30T21:34:49.590024",
     "exception": false,
     "start_time": "2025-07-30T21:34:49.507642",
     "status": "completed"
    },
    "tags": []
   },
   "outputs": [
    {
     "name": "stdout",
     "output_type": "stream",
     "text": [
      "Dropping features: ['age']\n"
     ]
    }
   ],
   "source": [
    "if len(excluded_features_columns) > 0:\n",
    "    print(f\"Dropping features: {excluded_features_columns}\")\n",
    "    X_calib.drop(excluded_features_columns, axis=1, inplace=True)"
   ]
  },
  {
   "cell_type": "code",
   "execution_count": 35,
   "id": "6727d079-03e5-481e-9d38-292a90b7a0a8",
   "metadata": {
    "execution": {
     "iopub.execute_input": "2025-07-30T21:34:49.657431Z",
     "iopub.status.busy": "2025-07-30T21:34:49.656245Z",
     "iopub.status.idle": "2025-07-30T21:34:49.662642Z",
     "shell.execute_reply": "2025-07-30T21:34:49.661583Z"
    },
    "papermill": {
     "duration": 0.041747,
     "end_time": "2025-07-30T21:34:49.664434",
     "exception": false,
     "start_time": "2025-07-30T21:34:49.622687",
     "status": "completed"
    },
    "tags": []
   },
   "outputs": [],
   "source": [
    "# SPLIT & STRATIFY DATA\n",
    "# ----------------------"
   ]
  },
  {
   "cell_type": "code",
   "execution_count": 36,
   "id": "76c4dc6d",
   "metadata": {
    "execution": {
     "iopub.execute_input": "2025-07-30T21:34:49.718726Z",
     "iopub.status.busy": "2025-07-30T21:34:49.717725Z",
     "iopub.status.idle": "2025-07-30T21:34:49.723970Z",
     "shell.execute_reply": "2025-07-30T21:34:49.722974Z"
    },
    "papermill": {
     "duration": 0.035319,
     "end_time": "2025-07-30T21:34:49.725860",
     "exception": false,
     "start_time": "2025-07-30T21:34:49.690541",
     "status": "completed"
    },
    "tags": []
   },
   "outputs": [],
   "source": [
    "# EXCLUDE CERTAIN SUBGROUPS\n",
    "# ----------------------\n",
    "\n",
    "mode = universe.get(\"exclude_subgroups\", \"keep-all\") \n",
    "# Fetches the exclude_subgroups setting from the universe dict.\n",
    "# Defaults to \"keep-all\" if the key is missing."
   ]
  },
  {
   "cell_type": "code",
   "execution_count": 37,
   "id": "21994072",
   "metadata": {
    "execution": {
     "iopub.execute_input": "2025-07-30T21:34:49.778343Z",
     "iopub.status.busy": "2025-07-30T21:34:49.777693Z",
     "iopub.status.idle": "2025-07-30T21:34:49.784843Z",
     "shell.execute_reply": "2025-07-30T21:34:49.783879Z"
    },
    "papermill": {
     "duration": 0.034847,
     "end_time": "2025-07-30T21:34:49.786584",
     "exception": false,
     "start_time": "2025-07-30T21:34:49.751737",
     "status": "completed"
    },
    "tags": []
   },
   "outputs": [],
   "source": [
    "if mode == \"keep-all\":\n",
    "    keep_mask = pd.Series(True, index=org_train.index)\n",
    "\n",
    "# org_train contains the original feature columns from features_org (in Simson)\n",
    "# features_org contains unprocessed features, for me X_train at beginning ???\n",
    "# For keep-all, creates a boolean Series (keep_mask) of all True, so no rows are removed.\n",
    "\n",
    "elif mode == \"drop-non-german\":\n",
    "    keep_mask = org_train[\"maxdeutsch1\"] == 1 # ??? what about missing values?\n",
    "\n",
    "else:\n",
    "    raise ValueError(f\"Unsupported mode for exclude_subgroups: {mode}\")\n"
   ]
  },
  {
   "cell_type": "code",
   "execution_count": 38,
   "id": "71651440",
   "metadata": {
    "execution": {
     "iopub.execute_input": "2025-07-30T21:34:49.839640Z",
     "iopub.status.busy": "2025-07-30T21:34:49.838637Z",
     "iopub.status.idle": "2025-07-30T21:34:49.845871Z",
     "shell.execute_reply": "2025-07-30T21:34:49.844898Z"
    },
    "papermill": {
     "duration": 0.035462,
     "end_time": "2025-07-30T21:34:49.847538",
     "exception": false,
     "start_time": "2025-07-30T21:34:49.812076",
     "status": "completed"
    },
    "tags": []
   },
   "outputs": [],
   "source": [
    "n_drop = (~keep_mask).sum() # Calculates how many rows are set to be dropped\n",
    "if n_drop > 0:\n",
    "    pct = n_drop / len(keep_mask) * 100\n",
    "    print(f\"Dropping {n_drop} rows ({pct:.2f}%) where mode='{mode}'\")"
   ]
  },
  {
   "cell_type": "code",
   "execution_count": 39,
   "id": "5fb8eee5",
   "metadata": {
    "execution": {
     "iopub.execute_input": "2025-07-30T21:34:49.899851Z",
     "iopub.status.busy": "2025-07-30T21:34:49.899189Z",
     "iopub.status.idle": "2025-07-30T21:34:49.905757Z",
     "shell.execute_reply": "2025-07-30T21:34:49.904725Z"
    },
    "papermill": {
     "duration": 0.034543,
     "end_time": "2025-07-30T21:34:49.907544",
     "exception": false,
     "start_time": "2025-07-30T21:34:49.873001",
     "status": "completed"
    },
    "tags": []
   },
   "outputs": [],
   "source": [
    "X_train = X_train[keep_mask]"
   ]
  },
  {
   "cell_type": "code",
   "execution_count": 40,
   "id": "b202bb3a",
   "metadata": {
    "execution": {
     "iopub.execute_input": "2025-07-30T21:34:49.959958Z",
     "iopub.status.busy": "2025-07-30T21:34:49.959260Z",
     "iopub.status.idle": "2025-07-30T21:34:49.965566Z",
     "shell.execute_reply": "2025-07-30T21:34:49.964687Z"
    },
    "papermill": {
     "duration": 0.034121,
     "end_time": "2025-07-30T21:34:49.967349",
     "exception": false,
     "start_time": "2025-07-30T21:34:49.933228",
     "status": "completed"
    },
    "tags": []
   },
   "outputs": [],
   "source": [
    "y_train = y_train[keep_mask]"
   ]
  },
  {
   "cell_type": "markdown",
   "id": "493e2ac3",
   "metadata": {
    "papermill": {
     "duration": 0.024978,
     "end_time": "2025-07-30T21:34:50.017829",
     "exception": false,
     "start_time": "2025-07-30T21:34:49.992851",
     "status": "completed"
    },
    "tags": []
   },
   "source": [
    "# Model Training"
   ]
  },
  {
   "cell_type": "code",
   "execution_count": 41,
   "id": "679e1268",
   "metadata": {
    "execution": {
     "iopub.execute_input": "2025-07-30T21:34:50.070241Z",
     "iopub.status.busy": "2025-07-30T21:34:50.069560Z",
     "iopub.status.idle": "2025-07-30T21:34:50.172472Z",
     "shell.execute_reply": "2025-07-30T21:34:50.171474Z"
    },
    "papermill": {
     "duration": 0.131582,
     "end_time": "2025-07-30T21:34:50.174695",
     "exception": false,
     "start_time": "2025-07-30T21:34:50.043113",
     "status": "completed"
    },
    "tags": []
   },
   "outputs": [],
   "source": [
    "from sklearn.linear_model import LogisticRegression\n",
    "from sklearn.ensemble import GradientBoostingClassifier, RandomForestClassifier\n",
    "\n",
    "if (universe[\"model\"] == \"logreg\"):\n",
    "    model = LogisticRegression() #penalty=\"none\") #, solver=\"newton-cg\", max_iter=1) # include random_state=19 ?\n",
    "elif (universe[\"model\"] == \"penalized_logreg\"):\n",
    "    model = LogisticRegression(penalty=\"l2\", C=1.0) #, solver=\"newton-cg\", max_iter=1)\n",
    "elif (universe[\"model\"] == \"rf\"):\n",
    "    model = RandomForestClassifier(n_estimators=100, n_jobs=-1)\n",
    "elif (universe[\"model\"] == \"gbm\"):\n",
    "    model = GradientBoostingClassifier()\n",
    "elif (universe[\"model\"] == \"elasticnet\"):\n",
    "    model = LogisticRegression(penalty = 'elasticnet', solver = 'saga', l1_ratio = 0.5, max_iter=5000) # which solver to use?\n",
    "else:\n",
    "    raise \"Unsupported universe.model\""
   ]
  },
  {
   "cell_type": "code",
   "execution_count": 42,
   "id": "0cc8f744",
   "metadata": {
    "execution": {
     "iopub.execute_input": "2025-07-30T21:34:50.228055Z",
     "iopub.status.busy": "2025-07-30T21:34:50.227383Z",
     "iopub.status.idle": "2025-07-30T21:34:50.233577Z",
     "shell.execute_reply": "2025-07-30T21:34:50.232642Z"
    },
    "papermill": {
     "duration": 0.034721,
     "end_time": "2025-07-30T21:34:50.235218",
     "exception": false,
     "start_time": "2025-07-30T21:34:50.200497",
     "status": "completed"
    },
    "tags": []
   },
   "outputs": [],
   "source": [
    "import numpy as np\n",
    "from sklearn.pipeline import Pipeline\n",
    "from sklearn.preprocessing import StandardScaler\n",
    "\n",
    "model = Pipeline([\n",
    "    #(\"continuous_processor\", continuous_processor),\n",
    "    #(\"categorical_preprocessor\", categorical_preprocessor),\n",
    "    (\"scale\", StandardScaler() if universe[\"scale\"] == \"scale\" else None), \n",
    "    (\"model\", model),\n",
    "])"
   ]
  },
  {
   "cell_type": "code",
   "execution_count": 43,
   "id": "9442c04d",
   "metadata": {
    "execution": {
     "iopub.execute_input": "2025-07-30T21:34:50.287249Z",
     "iopub.status.busy": "2025-07-30T21:34:50.286588Z",
     "iopub.status.idle": "2025-07-30T21:34:50.365353Z",
     "shell.execute_reply": "2025-07-30T21:34:50.364476Z"
    },
    "papermill": {
     "duration": 0.106476,
     "end_time": "2025-07-30T21:34:50.367170",
     "exception": false,
     "start_time": "2025-07-30T21:34:50.260694",
     "status": "completed"
    },
    "tags": []
   },
   "outputs": [
    {
     "name": "stderr",
     "output_type": "stream",
     "text": [
      "/dss/dsshome1/0C/ra93lal2/.local/share/virtualenvs/CMA_Fairness_v2-3j10GkSs/lib/python3.10/site-packages/sklearn/linear_model/_logistic.py:444: ConvergenceWarning: lbfgs failed to converge (status=1):\n",
      "STOP: TOTAL NO. of ITERATIONS REACHED LIMIT.\n",
      "\n",
      "Increase the number of iterations (max_iter) or scale the data as shown in:\n",
      "    https://scikit-learn.org/stable/modules/preprocessing.html\n",
      "Please also refer to the documentation for alternative solver options:\n",
      "    https://scikit-learn.org/stable/modules/linear_model.html#logistic-regression\n",
      "  n_iter_i = _check_optimize_result(\n"
     ]
    },
    {
     "data": {
      "text/html": [
       "<style>#sk-container-id-1 {color: black;background-color: white;}#sk-container-id-1 pre{padding: 0;}#sk-container-id-1 div.sk-toggleable {background-color: white;}#sk-container-id-1 label.sk-toggleable__label {cursor: pointer;display: block;width: 100%;margin-bottom: 0;padding: 0.3em;box-sizing: border-box;text-align: center;}#sk-container-id-1 label.sk-toggleable__label-arrow:before {content: \"▸\";float: left;margin-right: 0.25em;color: #696969;}#sk-container-id-1 label.sk-toggleable__label-arrow:hover:before {color: black;}#sk-container-id-1 div.sk-estimator:hover label.sk-toggleable__label-arrow:before {color: black;}#sk-container-id-1 div.sk-toggleable__content {max-height: 0;max-width: 0;overflow: hidden;text-align: left;background-color: #f0f8ff;}#sk-container-id-1 div.sk-toggleable__content pre {margin: 0.2em;color: black;border-radius: 0.25em;background-color: #f0f8ff;}#sk-container-id-1 input.sk-toggleable__control:checked~div.sk-toggleable__content {max-height: 200px;max-width: 100%;overflow: auto;}#sk-container-id-1 input.sk-toggleable__control:checked~label.sk-toggleable__label-arrow:before {content: \"▾\";}#sk-container-id-1 div.sk-estimator input.sk-toggleable__control:checked~label.sk-toggleable__label {background-color: #d4ebff;}#sk-container-id-1 div.sk-label input.sk-toggleable__control:checked~label.sk-toggleable__label {background-color: #d4ebff;}#sk-container-id-1 input.sk-hidden--visually {border: 0;clip: rect(1px 1px 1px 1px);clip: rect(1px, 1px, 1px, 1px);height: 1px;margin: -1px;overflow: hidden;padding: 0;position: absolute;width: 1px;}#sk-container-id-1 div.sk-estimator {font-family: monospace;background-color: #f0f8ff;border: 1px dotted black;border-radius: 0.25em;box-sizing: border-box;margin-bottom: 0.5em;}#sk-container-id-1 div.sk-estimator:hover {background-color: #d4ebff;}#sk-container-id-1 div.sk-parallel-item::after {content: \"\";width: 100%;border-bottom: 1px solid gray;flex-grow: 1;}#sk-container-id-1 div.sk-label:hover label.sk-toggleable__label {background-color: #d4ebff;}#sk-container-id-1 div.sk-serial::before {content: \"\";position: absolute;border-left: 1px solid gray;box-sizing: border-box;top: 0;bottom: 0;left: 50%;z-index: 0;}#sk-container-id-1 div.sk-serial {display: flex;flex-direction: column;align-items: center;background-color: white;padding-right: 0.2em;padding-left: 0.2em;position: relative;}#sk-container-id-1 div.sk-item {position: relative;z-index: 1;}#sk-container-id-1 div.sk-parallel {display: flex;align-items: stretch;justify-content: center;background-color: white;position: relative;}#sk-container-id-1 div.sk-item::before, #sk-container-id-1 div.sk-parallel-item::before {content: \"\";position: absolute;border-left: 1px solid gray;box-sizing: border-box;top: 0;bottom: 0;left: 50%;z-index: -1;}#sk-container-id-1 div.sk-parallel-item {display: flex;flex-direction: column;z-index: 1;position: relative;background-color: white;}#sk-container-id-1 div.sk-parallel-item:first-child::after {align-self: flex-end;width: 50%;}#sk-container-id-1 div.sk-parallel-item:last-child::after {align-self: flex-start;width: 50%;}#sk-container-id-1 div.sk-parallel-item:only-child::after {width: 0;}#sk-container-id-1 div.sk-dashed-wrapped {border: 1px dashed gray;margin: 0 0.4em 0.5em 0.4em;box-sizing: border-box;padding-bottom: 0.4em;background-color: white;}#sk-container-id-1 div.sk-label label {font-family: monospace;font-weight: bold;display: inline-block;line-height: 1.2em;}#sk-container-id-1 div.sk-label-container {text-align: center;}#sk-container-id-1 div.sk-container {/* jupyter's `normalize.less` sets `[hidden] { display: none; }` but bootstrap.min.css set `[hidden] { display: none !important; }` so we also need the `!important` here to be able to override the default hidden behavior on the sphinx rendered scikit-learn.org. See: https://github.com/scikit-learn/scikit-learn/issues/21755 */display: inline-block !important;position: relative;}#sk-container-id-1 div.sk-text-repr-fallback {display: none;}</style><div id=\"sk-container-id-1\" class=\"sk-top-container\"><div class=\"sk-text-repr-fallback\"><pre>Pipeline(steps=[(&#x27;scale&#x27;, StandardScaler()), (&#x27;model&#x27;, LogisticRegression())])</pre><b>In a Jupyter environment, please rerun this cell to show the HTML representation or trust the notebook. <br />On GitHub, the HTML representation is unable to render, please try loading this page with nbviewer.org.</b></div><div class=\"sk-container\" hidden><div class=\"sk-item sk-dashed-wrapped\"><div class=\"sk-label-container\"><div class=\"sk-label sk-toggleable\"><input class=\"sk-toggleable__control sk-hidden--visually\" id=\"sk-estimator-id-1\" type=\"checkbox\" ><label for=\"sk-estimator-id-1\" class=\"sk-toggleable__label sk-toggleable__label-arrow\">Pipeline</label><div class=\"sk-toggleable__content\"><pre>Pipeline(steps=[(&#x27;scale&#x27;, StandardScaler()), (&#x27;model&#x27;, LogisticRegression())])</pre></div></div></div><div class=\"sk-serial\"><div class=\"sk-item\"><div class=\"sk-estimator sk-toggleable\"><input class=\"sk-toggleable__control sk-hidden--visually\" id=\"sk-estimator-id-2\" type=\"checkbox\" ><label for=\"sk-estimator-id-2\" class=\"sk-toggleable__label sk-toggleable__label-arrow\">StandardScaler</label><div class=\"sk-toggleable__content\"><pre>StandardScaler()</pre></div></div></div><div class=\"sk-item\"><div class=\"sk-estimator sk-toggleable\"><input class=\"sk-toggleable__control sk-hidden--visually\" id=\"sk-estimator-id-3\" type=\"checkbox\" ><label for=\"sk-estimator-id-3\" class=\"sk-toggleable__label sk-toggleable__label-arrow\">LogisticRegression</label><div class=\"sk-toggleable__content\"><pre>LogisticRegression()</pre></div></div></div></div></div></div></div>"
      ],
      "text/plain": [
       "Pipeline(steps=[('scale', StandardScaler()), ('model', LogisticRegression())])"
      ]
     },
     "execution_count": 43,
     "metadata": {},
     "output_type": "execute_result"
    }
   ],
   "source": [
    "model.fit(X_train, y_train.values.ravel())"
   ]
  },
  {
   "cell_type": "code",
   "execution_count": 44,
   "id": "af59f8c0",
   "metadata": {
    "execution": {
     "iopub.execute_input": "2025-07-30T21:34:50.414773Z",
     "iopub.status.busy": "2025-07-30T21:34:50.414114Z",
     "iopub.status.idle": "2025-07-30T21:34:50.419687Z",
     "shell.execute_reply": "2025-07-30T21:34:50.418806Z"
    },
    "papermill": {
     "duration": 0.03057,
     "end_time": "2025-07-30T21:34:50.421326",
     "exception": false,
     "start_time": "2025-07-30T21:34:50.390756",
     "status": "completed"
    },
    "tags": []
   },
   "outputs": [],
   "source": [
    "from fairness_multiverse.universe import predict_w_threshold"
   ]
  },
  {
   "cell_type": "code",
   "execution_count": 45,
   "id": "a7cf2e16",
   "metadata": {
    "execution": {
     "iopub.execute_input": "2025-07-30T21:34:50.477300Z",
     "iopub.status.busy": "2025-07-30T21:34:50.476662Z",
     "iopub.status.idle": "2025-07-30T21:34:50.659096Z",
     "shell.execute_reply": "2025-07-30T21:34:50.658395Z"
    },
    "papermill": {
     "duration": 0.216865,
     "end_time": "2025-07-30T21:34:50.660321",
     "exception": false,
     "start_time": "2025-07-30T21:34:50.443456",
     "status": "completed"
    },
    "tags": []
   },
   "outputs": [
    {
     "data": {
      "text/plain": [
       "0.8173670716753985"
      ]
     },
     "execution_count": 45,
     "metadata": {},
     "output_type": "execute_result"
    }
   ],
   "source": [
    "probs_test = model.predict_proba(X_test)\n",
    "\n",
    "'''\n",
    "Below code returns a boolean array (or binary 0/1 array depending on how it’s used) where each element \n",
    "is True if the probability of class 1 is greater than or equal to the threshold, and False otherwise.\n",
    "'''\n",
    "y_pred_default = predict_w_threshold(probs_test, 0.5)\n",
    "\n",
    "from sklearn.metrics import accuracy_score\n",
    "\n",
    "# Naive prediction\n",
    "accuracy_score(y_true = y_true, y_pred = y_pred_default)"
   ]
  },
  {
   "cell_type": "code",
   "execution_count": 46,
   "id": "081964c3",
   "metadata": {
    "execution": {
     "iopub.execute_input": "2025-07-30T21:34:50.693788Z",
     "iopub.status.busy": "2025-07-30T21:34:50.693479Z",
     "iopub.status.idle": "2025-07-30T21:34:50.872067Z",
     "shell.execute_reply": "2025-07-30T21:34:50.871350Z"
    },
    "papermill": {
     "duration": 0.193946,
     "end_time": "2025-07-30T21:34:50.873294",
     "exception": false,
     "start_time": "2025-07-30T21:34:50.679348",
     "status": "completed"
    },
    "tags": []
   },
   "outputs": [
    {
     "data": {
      "text/plain": [
       "array([0, 0, 0, ..., 0, 0, 0])"
      ]
     },
     "execution_count": 46,
     "metadata": {},
     "output_type": "execute_result"
    }
   ],
   "source": [
    "model.predict(X_test)"
   ]
  },
  {
   "cell_type": "markdown",
   "id": "56c9705b",
   "metadata": {
    "papermill": {
     "duration": 0.011943,
     "end_time": "2025-07-30T21:34:50.898043",
     "exception": false,
     "start_time": "2025-07-30T21:34:50.886100",
     "status": "completed"
    },
    "tags": []
   },
   "source": [
    "# Conformal Prediction"
   ]
  },
  {
   "cell_type": "code",
   "execution_count": 47,
   "id": "160ec6ff",
   "metadata": {
    "execution": {
     "iopub.execute_input": "2025-07-30T21:34:50.927114Z",
     "iopub.status.busy": "2025-07-30T21:34:50.926458Z",
     "iopub.status.idle": "2025-07-30T21:34:50.930988Z",
     "shell.execute_reply": "2025-07-30T21:34:50.930275Z"
    },
    "papermill": {
     "duration": 0.018723,
     "end_time": "2025-07-30T21:34:50.932273",
     "exception": false,
     "start_time": "2025-07-30T21:34:50.913550",
     "status": "completed"
    },
    "tags": []
   },
   "outputs": [],
   "source": [
    "# Miscoverage level for conformal prediction (10% allowed error rate => 90% target coverage)\n",
    "alpha = 0.1"
   ]
  },
  {
   "cell_type": "code",
   "execution_count": 48,
   "id": "eadf4555-3dd3-440e-8e35-f82a4ad9f855",
   "metadata": {
    "execution": {
     "iopub.execute_input": "2025-07-30T21:34:50.969179Z",
     "iopub.status.busy": "2025-07-30T21:34:50.968640Z",
     "iopub.status.idle": "2025-07-30T21:34:51.136089Z",
     "shell.execute_reply": "2025-07-30T21:34:51.135300Z"
    },
    "papermill": {
     "duration": 0.191905,
     "end_time": "2025-07-30T21:34:51.137545",
     "exception": false,
     "start_time": "2025-07-30T21:34:50.945640",
     "status": "completed"
    },
    "tags": []
   },
   "outputs": [],
   "source": [
    "probs_calib = model.predict_proba(X_calib)"
   ]
  },
  {
   "cell_type": "code",
   "execution_count": 49,
   "id": "2ed93547-6d5d-4983-9b36-1ecb300da49a",
   "metadata": {
    "execution": {
     "iopub.execute_input": "2025-07-30T21:34:51.167285Z",
     "iopub.status.busy": "2025-07-30T21:34:51.166573Z",
     "iopub.status.idle": "2025-07-30T21:34:51.171528Z",
     "shell.execute_reply": "2025-07-30T21:34:51.170875Z"
    },
    "papermill": {
     "duration": 0.022352,
     "end_time": "2025-07-30T21:34:51.172813",
     "exception": false,
     "start_time": "2025-07-30T21:34:51.150461",
     "status": "completed"
    },
    "tags": []
   },
   "outputs": [],
   "source": [
    "y_calib = y_calib.values.ravel().astype(int)"
   ]
  },
  {
   "cell_type": "code",
   "execution_count": 50,
   "id": "65d1320d-f588-4b38-9072-62af1ae97f7d",
   "metadata": {
    "execution": {
     "iopub.execute_input": "2025-07-30T21:34:51.200262Z",
     "iopub.status.busy": "2025-07-30T21:34:51.199874Z",
     "iopub.status.idle": "2025-07-30T21:34:51.220718Z",
     "shell.execute_reply": "2025-07-30T21:34:51.219516Z"
    },
    "papermill": {
     "duration": 0.039812,
     "end_time": "2025-07-30T21:34:51.225481",
     "exception": false,
     "start_time": "2025-07-30T21:34:51.185669",
     "status": "completed"
    },
    "tags": []
   },
   "outputs": [],
   "source": [
    "from fairness_multiverse.conformal import compute_nc_scores\n",
    "\n",
    "# Compute nonconformity scores on calibration set (1 - probability of true class)\n",
    "nc_scores = compute_nc_scores(probs_calib, y_calib)"
   ]
  },
  {
   "cell_type": "code",
   "execution_count": 51,
   "id": "df3b8ca3-53b7-43d5-9667-7c85da7aeda2",
   "metadata": {
    "execution": {
     "iopub.execute_input": "2025-07-30T21:34:51.280504Z",
     "iopub.status.busy": "2025-07-30T21:34:51.279827Z",
     "iopub.status.idle": "2025-07-30T21:34:51.288456Z",
     "shell.execute_reply": "2025-07-30T21:34:51.287039Z"
    },
    "papermill": {
     "duration": 0.03733,
     "end_time": "2025-07-30T21:34:51.290262",
     "exception": false,
     "start_time": "2025-07-30T21:34:51.252932",
     "status": "completed"
    },
    "tags": []
   },
   "outputs": [],
   "source": [
    "from fairness_multiverse.conformal import find_threshold\n",
    "\n",
    "# Find conformal threshold q_hat for the given alpha (split conformal method)\n",
    "q_hat = find_threshold(nc_scores, alpha)"
   ]
  },
  {
   "cell_type": "code",
   "execution_count": 52,
   "id": "4d29e6c1-0ef6-4aa4-b8fe-4fe79b0d033a",
   "metadata": {
    "execution": {
     "iopub.execute_input": "2025-07-30T21:34:51.342097Z",
     "iopub.status.busy": "2025-07-30T21:34:51.341121Z",
     "iopub.status.idle": "2025-07-30T21:34:51.349808Z",
     "shell.execute_reply": "2025-07-30T21:34:51.348661Z"
    },
    "papermill": {
     "duration": 0.037769,
     "end_time": "2025-07-30T21:34:51.351654",
     "exception": false,
     "start_time": "2025-07-30T21:34:51.313885",
     "status": "completed"
    },
    "tags": []
   },
   "outputs": [
    {
     "data": {
      "text/plain": [
       "0.8133501619566184"
      ]
     },
     "execution_count": 52,
     "metadata": {},
     "output_type": "execute_result"
    }
   ],
   "source": [
    "q_hat"
   ]
  },
  {
   "cell_type": "code",
   "execution_count": 53,
   "id": "92460794-cdac-4be2-ba28-f28c0515a6fb",
   "metadata": {
    "execution": {
     "iopub.execute_input": "2025-07-30T21:34:51.410366Z",
     "iopub.status.busy": "2025-07-30T21:34:51.409003Z",
     "iopub.status.idle": "2025-07-30T21:34:52.308342Z",
     "shell.execute_reply": "2025-07-30T21:34:52.307330Z"
    },
    "papermill": {
     "duration": 0.928062,
     "end_time": "2025-07-30T21:34:52.310133",
     "exception": false,
     "start_time": "2025-07-30T21:34:51.382071",
     "status": "completed"
    },
    "tags": []
   },
   "outputs": [],
   "source": [
    "from fairness_multiverse.conformal import predict_conformal_sets\n",
    "\n",
    "# Generate prediction sets for each test example\n",
    "pred_sets = predict_conformal_sets(model, X_test, q_hat)"
   ]
  },
  {
   "cell_type": "code",
   "execution_count": 54,
   "id": "d90c9a65-e6db-4f5d-80cd-e68fb7e46829",
   "metadata": {
    "execution": {
     "iopub.execute_input": "2025-07-30T21:34:52.361241Z",
     "iopub.status.busy": "2025-07-30T21:34:52.360603Z",
     "iopub.status.idle": "2025-07-30T21:34:52.368076Z",
     "shell.execute_reply": "2025-07-30T21:34:52.367055Z"
    },
    "papermill": {
     "duration": 0.035139,
     "end_time": "2025-07-30T21:34:52.369406",
     "exception": false,
     "start_time": "2025-07-30T21:34:52.334267",
     "status": "completed"
    },
    "tags": []
   },
   "outputs": [],
   "source": [
    "y_true = y_true.squeeze()"
   ]
  },
  {
   "cell_type": "code",
   "execution_count": 55,
   "id": "3a58a54a-1e68-46b9-927a-df01f18aebc8",
   "metadata": {
    "execution": {
     "iopub.execute_input": "2025-07-30T21:34:52.397690Z",
     "iopub.status.busy": "2025-07-30T21:34:52.397319Z",
     "iopub.status.idle": "2025-07-30T21:34:53.147144Z",
     "shell.execute_reply": "2025-07-30T21:34:53.146215Z"
    },
    "papermill": {
     "duration": 0.765851,
     "end_time": "2025-07-30T21:34:53.149057",
     "exception": false,
     "start_time": "2025-07-30T21:34:52.383206",
     "status": "completed"
    },
    "tags": []
   },
   "outputs": [],
   "source": [
    "from fairness_multiverse.conformal import evaluate_sets\n",
    "\n",
    "# Evaluate coverage and average set size on test data\n",
    "metrics = evaluate_sets(pred_sets, y_true)"
   ]
  },
  {
   "cell_type": "markdown",
   "id": "2b569c12-9aaa-4c88-98c9-bbcd0cf3ebb8",
   "metadata": {
    "papermill": {
     "duration": 0.02693,
     "end_time": "2025-07-30T21:34:53.200563",
     "exception": false,
     "start_time": "2025-07-30T21:34:53.173633",
     "status": "completed"
    },
    "tags": []
   },
   "source": [
    "# CP Metrics"
   ]
  },
  {
   "cell_type": "code",
   "execution_count": 56,
   "id": "5ce0a5cb-201f-45a0-ade5-94c7f0bd6095",
   "metadata": {
    "execution": {
     "iopub.execute_input": "2025-07-30T21:34:53.249919Z",
     "iopub.status.busy": "2025-07-30T21:34:53.249109Z",
     "iopub.status.idle": "2025-07-30T21:34:53.256538Z",
     "shell.execute_reply": "2025-07-30T21:34:53.255652Z"
    },
    "papermill": {
     "duration": 0.03386,
     "end_time": "2025-07-30T21:34:53.258209",
     "exception": false,
     "start_time": "2025-07-30T21:34:53.224349",
     "status": "completed"
    },
    "tags": []
   },
   "outputs": [
    {
     "data": {
      "text/plain": [
       "{'coverage': 0.9084160071340988, 'avg_size': 1.2619663359714637}"
      ]
     },
     "execution_count": 56,
     "metadata": {},
     "output_type": "execute_result"
    }
   ],
   "source": [
    "metrics"
   ]
  },
  {
   "cell_type": "code",
   "execution_count": 57,
   "id": "9b9a838d-31c9-430b-ae14-12baee460d17",
   "metadata": {
    "execution": {
     "iopub.execute_input": "2025-07-30T21:34:53.309040Z",
     "iopub.status.busy": "2025-07-30T21:34:53.308571Z",
     "iopub.status.idle": "2025-07-30T21:34:53.315295Z",
     "shell.execute_reply": "2025-07-30T21:34:53.314371Z"
    },
    "papermill": {
     "duration": 0.032683,
     "end_time": "2025-07-30T21:34:53.316944",
     "exception": false,
     "start_time": "2025-07-30T21:34:53.284261",
     "status": "completed"
    },
    "tags": []
   },
   "outputs": [],
   "source": [
    "example_universe = universe.copy()\n",
    "universe_training_year = example_universe.get(\"training_year\")\n",
    "universe_training_size = example_universe.get(\"training_size\")\n",
    "universe_scale = example_universe.get(\"scale\")\n",
    "universe_model = example_universe.get(\"model\")\n",
    "universe_exclude_features = example_universe.get(\"exclude_features\")\n",
    "universe_exclude_subgroups = example_universe.get(\"exclude_subgroups\")"
   ]
  },
  {
   "cell_type": "code",
   "execution_count": 58,
   "id": "f4b6a8ac-9dc0-4245-8a91-5b3b5999c4f9",
   "metadata": {
    "execution": {
     "iopub.execute_input": "2025-07-30T21:34:53.367367Z",
     "iopub.status.busy": "2025-07-30T21:34:53.366495Z",
     "iopub.status.idle": "2025-07-30T21:34:53.373841Z",
     "shell.execute_reply": "2025-07-30T21:34:53.372864Z"
    },
    "papermill": {
     "duration": 0.036887,
     "end_time": "2025-07-30T21:34:53.377714",
     "exception": false,
     "start_time": "2025-07-30T21:34:53.340827",
     "status": "completed"
    },
    "tags": []
   },
   "outputs": [],
   "source": [
    "cp_metrics_dict = {\n",
    "    \"universe_id\": [universe_id],\n",
    "    \"universe_training_year\": [universe_training_year],\n",
    "    \"universe_training_size\": [universe_training_size],\n",
    "    \"universe_scale\": [universe_scale],\n",
    "    \"universe_model\": [universe_model],\n",
    "    \"universe_exclude_features\": [universe_exclude_features],\n",
    "    \"universe_exclude_subgroups\": [universe_exclude_subgroups],\n",
    "    \"q_hat\": [q_hat],\n",
    "    \"coverage\": [metrics[\"coverage\"]],\n",
    "    \"avg_size\": [metrics[\"avg_size\"]],\n",
    "}"
   ]
  },
  {
   "cell_type": "code",
   "execution_count": 59,
   "id": "908acbb1-0371-4915-85ca-3fa520d2efe2",
   "metadata": {
    "execution": {
     "iopub.execute_input": "2025-07-30T21:34:53.430473Z",
     "iopub.status.busy": "2025-07-30T21:34:53.429614Z",
     "iopub.status.idle": "2025-07-30T21:34:53.437551Z",
     "shell.execute_reply": "2025-07-30T21:34:53.436564Z"
    },
    "papermill": {
     "duration": 0.037067,
     "end_time": "2025-07-30T21:34:53.439223",
     "exception": false,
     "start_time": "2025-07-30T21:34:53.402156",
     "status": "completed"
    },
    "tags": []
   },
   "outputs": [
    {
     "data": {
      "text/plain": [
       "{'universe_id': ['052512b8c189f528067f5a0c51afcac7'],\n",
       " 'universe_training_year': ['2012_14'],\n",
       " 'universe_training_size': ['1k'],\n",
       " 'universe_scale': ['scale'],\n",
       " 'universe_model': ['penalized_logreg'],\n",
       " 'universe_exclude_features': ['age'],\n",
       " 'universe_exclude_subgroups': ['keep-all'],\n",
       " 'q_hat': [0.8133501619566184],\n",
       " 'coverage': [0.9084160071340988],\n",
       " 'avg_size': [1.2619663359714637]}"
      ]
     },
     "execution_count": 59,
     "metadata": {},
     "output_type": "execute_result"
    }
   ],
   "source": [
    "cp_metrics_dict"
   ]
  },
  {
   "cell_type": "code",
   "execution_count": 60,
   "id": "33007efc-14e9-4ec6-97ac-56a455c82265",
   "metadata": {
    "execution": {
     "iopub.execute_input": "2025-07-30T21:34:53.492527Z",
     "iopub.status.busy": "2025-07-30T21:34:53.492005Z",
     "iopub.status.idle": "2025-07-30T21:34:53.498772Z",
     "shell.execute_reply": "2025-07-30T21:34:53.497786Z"
    },
    "papermill": {
     "duration": 0.03592,
     "end_time": "2025-07-30T21:34:53.500235",
     "exception": false,
     "start_time": "2025-07-30T21:34:53.464315",
     "status": "completed"
    },
    "tags": []
   },
   "outputs": [],
   "source": [
    "cp_metrics_df = pd.DataFrame(cp_metrics_dict)"
   ]
  },
  {
   "cell_type": "code",
   "execution_count": 61,
   "id": "db12611b-57b2-4910-b9d0-355adfd6e7bf",
   "metadata": {
    "execution": {
     "iopub.execute_input": "2025-07-30T21:34:53.528312Z",
     "iopub.status.busy": "2025-07-30T21:34:53.527925Z",
     "iopub.status.idle": "2025-07-30T21:34:53.541254Z",
     "shell.execute_reply": "2025-07-30T21:34:53.540482Z"
    },
    "papermill": {
     "duration": 0.028779,
     "end_time": "2025-07-30T21:34:53.542636",
     "exception": false,
     "start_time": "2025-07-30T21:34:53.513857",
     "status": "completed"
    },
    "tags": []
   },
   "outputs": [
    {
     "data": {
      "text/html": [
       "<div>\n",
       "<style scoped>\n",
       "    .dataframe tbody tr th:only-of-type {\n",
       "        vertical-align: middle;\n",
       "    }\n",
       "\n",
       "    .dataframe tbody tr th {\n",
       "        vertical-align: top;\n",
       "    }\n",
       "\n",
       "    .dataframe thead th {\n",
       "        text-align: right;\n",
       "    }\n",
       "</style>\n",
       "<table border=\"1\" class=\"dataframe\">\n",
       "  <thead>\n",
       "    <tr style=\"text-align: right;\">\n",
       "      <th></th>\n",
       "      <th>universe_id</th>\n",
       "      <th>universe_training_year</th>\n",
       "      <th>universe_training_size</th>\n",
       "      <th>universe_scale</th>\n",
       "      <th>universe_model</th>\n",
       "      <th>universe_exclude_features</th>\n",
       "      <th>universe_exclude_subgroups</th>\n",
       "      <th>q_hat</th>\n",
       "      <th>coverage</th>\n",
       "      <th>avg_size</th>\n",
       "    </tr>\n",
       "  </thead>\n",
       "  <tbody>\n",
       "    <tr>\n",
       "      <th>0</th>\n",
       "      <td>052512b8c189f528067f5a0c51afcac7</td>\n",
       "      <td>2012_14</td>\n",
       "      <td>1k</td>\n",
       "      <td>scale</td>\n",
       "      <td>penalized_logreg</td>\n",
       "      <td>age</td>\n",
       "      <td>keep-all</td>\n",
       "      <td>0.81335</td>\n",
       "      <td>0.908416</td>\n",
       "      <td>1.261966</td>\n",
       "    </tr>\n",
       "  </tbody>\n",
       "</table>\n",
       "</div>"
      ],
      "text/plain": [
       "                        universe_id universe_training_year  \\\n",
       "0  052512b8c189f528067f5a0c51afcac7                2012_14   \n",
       "\n",
       "  universe_training_size universe_scale    universe_model  \\\n",
       "0                     1k          scale  penalized_logreg   \n",
       "\n",
       "  universe_exclude_features universe_exclude_subgroups    q_hat  coverage  \\\n",
       "0                       age                   keep-all  0.81335  0.908416   \n",
       "\n",
       "   avg_size  \n",
       "0  1.261966  "
      ]
     },
     "execution_count": 61,
     "metadata": {},
     "output_type": "execute_result"
    }
   ],
   "source": [
    "cp_metrics_df"
   ]
  },
  {
   "cell_type": "code",
   "execution_count": 62,
   "id": "b7fbde55-a0a1-47e4-9af6-fe4a17fa8c61",
   "metadata": {
    "execution": {
     "iopub.execute_input": "2025-07-30T21:34:53.572125Z",
     "iopub.status.busy": "2025-07-30T21:34:53.571756Z",
     "iopub.status.idle": "2025-07-30T21:34:53.576182Z",
     "shell.execute_reply": "2025-07-30T21:34:53.575479Z"
    },
    "papermill": {
     "duration": 0.021143,
     "end_time": "2025-07-30T21:34:53.577458",
     "exception": false,
     "start_time": "2025-07-30T21:34:53.556315",
     "status": "completed"
    },
    "tags": []
   },
   "outputs": [],
   "source": [
    "# Conditional Coverage & looking at subgroups"
   ]
  },
  {
   "cell_type": "code",
   "execution_count": 63,
   "id": "027ae886-68dd-4141-96c7-805a5450e1ef",
   "metadata": {
    "execution": {
     "iopub.execute_input": "2025-07-30T21:34:53.610317Z",
     "iopub.status.busy": "2025-07-30T21:34:53.609958Z",
     "iopub.status.idle": "2025-07-30T21:34:53.846765Z",
     "shell.execute_reply": "2025-07-30T21:34:53.845903Z"
    },
    "papermill": {
     "duration": 0.253573,
     "end_time": "2025-07-30T21:34:53.848653",
     "exception": false,
     "start_time": "2025-07-30T21:34:53.595080",
     "status": "completed"
    },
    "tags": []
   },
   "outputs": [],
   "source": [
    "from fairness_multiverse.conformal import build_cp_groups\n",
    "\n",
    "cp_groups_df = build_cp_groups(pred_sets, y_true, X_test.index, org_test)\n",
    "#needs universe_id and setting"
   ]
  },
  {
   "cell_type": "code",
   "execution_count": 64,
   "id": "01d5802c-663a-4d1f-9d69-e036faaffbf7",
   "metadata": {
    "execution": {
     "iopub.execute_input": "2025-07-30T21:34:53.906237Z",
     "iopub.status.busy": "2025-07-30T21:34:53.905634Z",
     "iopub.status.idle": "2025-07-30T21:34:53.912387Z",
     "shell.execute_reply": "2025-07-30T21:34:53.911228Z"
    },
    "papermill": {
     "duration": 0.037482,
     "end_time": "2025-07-30T21:34:53.914097",
     "exception": false,
     "start_time": "2025-07-30T21:34:53.876615",
     "status": "completed"
    },
    "tags": []
   },
   "outputs": [],
   "source": [
    "#delete\n",
    "#cp_groups_df"
   ]
  },
  {
   "cell_type": "code",
   "execution_count": 65,
   "id": "fa424af1-d1eb-443d-b717-2d279ada8408",
   "metadata": {
    "execution": {
     "iopub.execute_input": "2025-07-30T21:34:53.944766Z",
     "iopub.status.busy": "2025-07-30T21:34:53.944010Z",
     "iopub.status.idle": "2025-07-30T21:34:53.948832Z",
     "shell.execute_reply": "2025-07-30T21:34:53.948071Z"
    },
    "papermill": {
     "duration": 0.02157,
     "end_time": "2025-07-30T21:34:53.950310",
     "exception": false,
     "start_time": "2025-07-30T21:34:53.928740",
     "status": "completed"
    },
    "tags": []
   },
   "outputs": [],
   "source": [
    "#delete\n",
    "#percentage = (cp_groups_df['nongerman_female'] == 1).mean() * 100\n",
    "#print(percentage)\n"
   ]
  },
  {
   "cell_type": "code",
   "execution_count": 66,
   "id": "6cbdab96-b2b2-45af-ad54-d0516db2e28d",
   "metadata": {
    "execution": {
     "iopub.execute_input": "2025-07-30T21:34:53.981893Z",
     "iopub.status.busy": "2025-07-30T21:34:53.981370Z",
     "iopub.status.idle": "2025-07-30T21:34:55.545151Z",
     "shell.execute_reply": "2025-07-30T21:34:55.544393Z"
    },
    "papermill": {
     "duration": 1.581081,
     "end_time": "2025-07-30T21:34:55.546680",
     "exception": false,
     "start_time": "2025-07-30T21:34:53.965599",
     "status": "completed"
    },
    "tags": []
   },
   "outputs": [],
   "source": [
    "# Define covered = 1 if true_label is in the predicted set\n",
    "cp_groups_df['covered'] = cp_groups_df.apply(\n",
    "    lambda r: int(r['true_label'] in r['pred_set']),\n",
    "    axis=1\n",
    ")"
   ]
  },
  {
   "cell_type": "code",
   "execution_count": 67,
   "id": "338ff529-1a6b-4b87-a931-8e4788d52aad",
   "metadata": {
    "execution": {
     "iopub.execute_input": "2025-07-30T21:34:55.583179Z",
     "iopub.status.busy": "2025-07-30T21:34:55.582760Z",
     "iopub.status.idle": "2025-07-30T21:34:55.588087Z",
     "shell.execute_reply": "2025-07-30T21:34:55.587052Z"
    },
    "papermill": {
     "duration": 0.025186,
     "end_time": "2025-07-30T21:34:55.590038",
     "exception": false,
     "start_time": "2025-07-30T21:34:55.564852",
     "status": "completed"
    },
    "tags": []
   },
   "outputs": [],
   "source": [
    "#cp_groups_df"
   ]
  },
  {
   "cell_type": "code",
   "execution_count": 68,
   "id": "90032e27-66df-4540-9169-4e89cfbaa758",
   "metadata": {
    "execution": {
     "iopub.execute_input": "2025-07-30T21:34:55.641593Z",
     "iopub.status.busy": "2025-07-30T21:34:55.641237Z",
     "iopub.status.idle": "2025-07-30T21:34:55.651184Z",
     "shell.execute_reply": "2025-07-30T21:34:55.650318Z"
    },
    "papermill": {
     "duration": 0.032367,
     "end_time": "2025-07-30T21:34:55.652872",
     "exception": false,
     "start_time": "2025-07-30T21:34:55.620505",
     "status": "completed"
    },
    "tags": []
   },
   "outputs": [],
   "source": [
    "subgroups = ['frau1','nongerman','nongerman_male','nongerman_female']\n",
    "\n",
    "# Conditional coverage for subgroup==1\n",
    "cond_coverage = {\n",
    "    g: cp_groups_df.loc[cp_groups_df[g]==1, 'covered'].mean()\n",
    "    for g in subgroups\n",
    "}"
   ]
  },
  {
   "cell_type": "code",
   "execution_count": 69,
   "id": "1e348fb1-b9c3-45bc-ba23-f016827a7e0d",
   "metadata": {
    "execution": {
     "iopub.execute_input": "2025-07-30T21:34:55.701002Z",
     "iopub.status.busy": "2025-07-30T21:34:55.700563Z",
     "iopub.status.idle": "2025-07-30T21:34:55.707476Z",
     "shell.execute_reply": "2025-07-30T21:34:55.706548Z"
    },
    "papermill": {
     "duration": 0.039298,
     "end_time": "2025-07-30T21:34:55.709857",
     "exception": false,
     "start_time": "2025-07-30T21:34:55.670559",
     "status": "completed"
    },
    "tags": []
   },
   "outputs": [
    {
     "data": {
      "text/plain": [
       "{'frau1': 0.9020353147324437,\n",
       " 'nongerman': 0.9139953966204457,\n",
       " 'nongerman_male': 0.9314599657750158,\n",
       " 'nongerman_female': 0.885096870342772}"
      ]
     },
     "execution_count": 69,
     "metadata": {},
     "output_type": "execute_result"
    }
   ],
   "source": [
    "cond_coverage"
   ]
  },
  {
   "cell_type": "code",
   "execution_count": 70,
   "id": "f5093324-c3dd-4d63-bc4c-8d945e5c8bbb",
   "metadata": {
    "execution": {
     "iopub.execute_input": "2025-07-30T21:34:55.766299Z",
     "iopub.status.busy": "2025-07-30T21:34:55.765703Z",
     "iopub.status.idle": "2025-07-30T21:34:55.773091Z",
     "shell.execute_reply": "2025-07-30T21:34:55.772221Z"
    },
    "papermill": {
     "duration": 0.039937,
     "end_time": "2025-07-30T21:34:55.774983",
     "exception": false,
     "start_time": "2025-07-30T21:34:55.735046",
     "status": "completed"
    },
    "tags": []
   },
   "outputs": [],
   "source": [
    "for subgroup, cov in cond_coverage.items():\n",
    "    cp_metrics_df[f\"cov_{subgroup}\"] = cov"
   ]
  },
  {
   "cell_type": "code",
   "execution_count": 71,
   "id": "6e872e10-dbe5-49e8-b554-5030c98ff75d",
   "metadata": {
    "execution": {
     "iopub.execute_input": "2025-07-30T21:34:55.833715Z",
     "iopub.status.busy": "2025-07-30T21:34:55.833108Z",
     "iopub.status.idle": "2025-07-30T21:34:55.852717Z",
     "shell.execute_reply": "2025-07-30T21:34:55.851772Z"
    },
    "papermill": {
     "duration": 0.051747,
     "end_time": "2025-07-30T21:34:55.854437",
     "exception": false,
     "start_time": "2025-07-30T21:34:55.802690",
     "status": "completed"
    },
    "tags": []
   },
   "outputs": [
    {
     "data": {
      "text/html": [
       "<div>\n",
       "<style scoped>\n",
       "    .dataframe tbody tr th:only-of-type {\n",
       "        vertical-align: middle;\n",
       "    }\n",
       "\n",
       "    .dataframe tbody tr th {\n",
       "        vertical-align: top;\n",
       "    }\n",
       "\n",
       "    .dataframe thead th {\n",
       "        text-align: right;\n",
       "    }\n",
       "</style>\n",
       "<table border=\"1\" class=\"dataframe\">\n",
       "  <thead>\n",
       "    <tr style=\"text-align: right;\">\n",
       "      <th></th>\n",
       "      <th>universe_id</th>\n",
       "      <th>universe_training_year</th>\n",
       "      <th>universe_training_size</th>\n",
       "      <th>universe_scale</th>\n",
       "      <th>universe_model</th>\n",
       "      <th>universe_exclude_features</th>\n",
       "      <th>universe_exclude_subgroups</th>\n",
       "      <th>q_hat</th>\n",
       "      <th>coverage</th>\n",
       "      <th>avg_size</th>\n",
       "      <th>cov_frau1</th>\n",
       "      <th>cov_nongerman</th>\n",
       "      <th>cov_nongerman_male</th>\n",
       "      <th>cov_nongerman_female</th>\n",
       "    </tr>\n",
       "  </thead>\n",
       "  <tbody>\n",
       "    <tr>\n",
       "      <th>0</th>\n",
       "      <td>052512b8c189f528067f5a0c51afcac7</td>\n",
       "      <td>2012_14</td>\n",
       "      <td>1k</td>\n",
       "      <td>scale</td>\n",
       "      <td>penalized_logreg</td>\n",
       "      <td>age</td>\n",
       "      <td>keep-all</td>\n",
       "      <td>0.81335</td>\n",
       "      <td>0.908416</td>\n",
       "      <td>1.261966</td>\n",
       "      <td>0.902035</td>\n",
       "      <td>0.913995</td>\n",
       "      <td>0.93146</td>\n",
       "      <td>0.885097</td>\n",
       "    </tr>\n",
       "  </tbody>\n",
       "</table>\n",
       "</div>"
      ],
      "text/plain": [
       "                        universe_id universe_training_year  \\\n",
       "0  052512b8c189f528067f5a0c51afcac7                2012_14   \n",
       "\n",
       "  universe_training_size universe_scale    universe_model  \\\n",
       "0                     1k          scale  penalized_logreg   \n",
       "\n",
       "  universe_exclude_features universe_exclude_subgroups    q_hat  coverage  \\\n",
       "0                       age                   keep-all  0.81335  0.908416   \n",
       "\n",
       "   avg_size  cov_frau1  cov_nongerman  cov_nongerman_male  \\\n",
       "0  1.261966   0.902035       0.913995             0.93146   \n",
       "\n",
       "   cov_nongerman_female  \n",
       "0              0.885097  "
      ]
     },
     "execution_count": 71,
     "metadata": {},
     "output_type": "execute_result"
    }
   ],
   "source": [
    "cp_metrics_df"
   ]
  },
  {
   "cell_type": "markdown",
   "id": "33774451",
   "metadata": {
    "papermill": {
     "duration": 0.029677,
     "end_time": "2025-07-30T21:34:55.910258",
     "exception": false,
     "start_time": "2025-07-30T21:34:55.880581",
     "status": "completed"
    },
    "tags": []
   },
   "source": [
    "# (Fairness) Metrics"
   ]
  },
  {
   "cell_type": "code",
   "execution_count": 72,
   "id": "debc5d62",
   "metadata": {
    "execution": {
     "iopub.execute_input": "2025-07-30T21:34:55.970984Z",
     "iopub.status.busy": "2025-07-30T21:34:55.970516Z",
     "iopub.status.idle": "2025-07-30T21:34:55.991951Z",
     "shell.execute_reply": "2025-07-30T21:34:55.991101Z"
    },
    "papermill": {
     "duration": 0.052953,
     "end_time": "2025-07-30T21:34:55.993890",
     "exception": false,
     "start_time": "2025-07-30T21:34:55.940937",
     "status": "completed"
    },
    "tags": []
   },
   "outputs": [],
   "source": [
    "# do I need to include maxdeutsch1.missing?\n",
    "\n",
    "import numpy as np\n",
    "\n",
    "colname_to_bin = \"maxdeutsch1\"\n",
    "majority_value = org_train[colname_to_bin].mode()[0]\n",
    "\n",
    "org_test[\"majmin\"] = np.where(org_test[colname_to_bin] == majority_value, \"majority\", \"minority\")"
   ]
  },
  {
   "cell_type": "code",
   "execution_count": 73,
   "id": "06a50de5",
   "metadata": {
    "execution": {
     "iopub.execute_input": "2025-07-30T21:34:56.053847Z",
     "iopub.status.busy": "2025-07-30T21:34:56.053208Z",
     "iopub.status.idle": "2025-07-30T21:34:58.676134Z",
     "shell.execute_reply": "2025-07-30T21:34:58.675374Z"
    },
    "papermill": {
     "duration": 2.654714,
     "end_time": "2025-07-30T21:34:58.677569",
     "exception": false,
     "start_time": "2025-07-30T21:34:56.022855",
     "status": "completed"
    },
    "tags": []
   },
   "outputs": [],
   "source": [
    "example_universe = universe.copy()\n",
    "example_universe[\"cutoff\"] = example_universe[\"cutoff\"][0]\n",
    "example_universe[\"eval_fairness_grouping\"] = example_universe[\"eval_fairness_grouping\"][0]\n",
    "fairness_dict, metric_frame = universe_analysis.compute_metrics(\n",
    "    example_universe,\n",
    "    y_pred_prob=probs_test,\n",
    "    y_test=y_true,\n",
    "    org_test=org_test,\n",
    ")"
   ]
  },
  {
   "cell_type": "markdown",
   "id": "f95d4e02",
   "metadata": {
    "papermill": {
     "duration": 0.013926,
     "end_time": "2025-07-30T21:34:58.708265",
     "exception": false,
     "start_time": "2025-07-30T21:34:58.694339",
     "status": "completed"
    },
    "tags": []
   },
   "source": [
    "# Overall"
   ]
  },
  {
   "cell_type": "markdown",
   "id": "bdee4871",
   "metadata": {
    "papermill": {
     "duration": 0.038255,
     "end_time": "2025-07-30T21:34:58.772922",
     "exception": false,
     "start_time": "2025-07-30T21:34:58.734667",
     "status": "completed"
    },
    "tags": []
   },
   "source": [
    "Fairness\n",
    "Main fairness target: Equalized Odds. Seems to be a better fit than equal opportunity, since we're not only interested in Y = 1. Seems to be a better fit than demographic parity, since we also care about accuracy, not just equal distribution of preds.\n",
    "\n",
    "Pick column for computation of fairness metrics\n",
    "\n",
    "Performance\n",
    "Overall performance measures, most interesting in relation to the measures split by group below"
   ]
  },
  {
   "cell_type": "code",
   "execution_count": 74,
   "id": "c4e067c6",
   "metadata": {
    "execution": {
     "iopub.execute_input": "2025-07-30T21:34:58.852007Z",
     "iopub.status.busy": "2025-07-30T21:34:58.851179Z",
     "iopub.status.idle": "2025-07-30T21:34:58.860188Z",
     "shell.execute_reply": "2025-07-30T21:34:58.859166Z"
    },
    "papermill": {
     "duration": 0.051989,
     "end_time": "2025-07-30T21:34:58.861894",
     "exception": false,
     "start_time": "2025-07-30T21:34:58.809905",
     "status": "completed"
    },
    "tags": []
   },
   "outputs": [
    {
     "data": {
      "text/plain": [
       "accuracy                   0.217155\n",
       "balanced accuracy          0.532487\n",
       "f1                         0.238685\n",
       "precision                  0.136353\n",
       "false positive rate        0.891665\n",
       "false negative rate        0.043361\n",
       "selection rate             0.900000\n",
       "count                  89710.000000\n",
       "dtype: float64"
      ]
     },
     "execution_count": 74,
     "metadata": {},
     "output_type": "execute_result"
    }
   ],
   "source": [
    "metric_frame.overall"
   ]
  },
  {
   "cell_type": "markdown",
   "id": "e968fe9d",
   "metadata": {
    "papermill": {
     "duration": 0.027694,
     "end_time": "2025-07-30T21:34:58.916464",
     "exception": false,
     "start_time": "2025-07-30T21:34:58.888770",
     "status": "completed"
    },
    "tags": []
   },
   "source": [
    "By Group"
   ]
  },
  {
   "cell_type": "code",
   "execution_count": 75,
   "id": "ec325bce",
   "metadata": {
    "execution": {
     "iopub.execute_input": "2025-07-30T21:34:58.970897Z",
     "iopub.status.busy": "2025-07-30T21:34:58.970507Z",
     "iopub.status.idle": "2025-07-30T21:34:58.990490Z",
     "shell.execute_reply": "2025-07-30T21:34:58.989193Z"
    },
    "papermill": {
     "duration": 0.050301,
     "end_time": "2025-07-30T21:34:58.992646",
     "exception": false,
     "start_time": "2025-07-30T21:34:58.942345",
     "status": "completed"
    },
    "tags": []
   },
   "outputs": [
    {
     "data": {
      "text/html": [
       "<div>\n",
       "<style scoped>\n",
       "    .dataframe tbody tr th:only-of-type {\n",
       "        vertical-align: middle;\n",
       "    }\n",
       "\n",
       "    .dataframe tbody tr th {\n",
       "        vertical-align: top;\n",
       "    }\n",
       "\n",
       "    .dataframe thead th {\n",
       "        text-align: right;\n",
       "    }\n",
       "</style>\n",
       "<table border=\"1\" class=\"dataframe\">\n",
       "  <thead>\n",
       "    <tr style=\"text-align: right;\">\n",
       "      <th></th>\n",
       "      <th>accuracy</th>\n",
       "      <th>balanced accuracy</th>\n",
       "      <th>f1</th>\n",
       "      <th>precision</th>\n",
       "      <th>false positive rate</th>\n",
       "      <th>false negative rate</th>\n",
       "      <th>selection rate</th>\n",
       "      <th>count</th>\n",
       "    </tr>\n",
       "    <tr>\n",
       "      <th>majmin</th>\n",
       "      <th></th>\n",
       "      <th></th>\n",
       "      <th></th>\n",
       "      <th></th>\n",
       "      <th></th>\n",
       "      <th></th>\n",
       "      <th></th>\n",
       "      <th></th>\n",
       "    </tr>\n",
       "  </thead>\n",
       "  <tbody>\n",
       "    <tr>\n",
       "      <th>majority</th>\n",
       "      <td>0.235001</td>\n",
       "      <td>0.537883</td>\n",
       "      <td>0.247008</td>\n",
       "      <td>0.141969</td>\n",
       "      <td>0.873796</td>\n",
       "      <td>0.050438</td>\n",
       "      <td>0.883808</td>\n",
       "      <td>69170.0</td>\n",
       "    </tr>\n",
       "    <tr>\n",
       "      <th>minority</th>\n",
       "      <td>0.157059</td>\n",
       "      <td>0.516630</td>\n",
       "      <td>0.212069</td>\n",
       "      <td>0.118841</td>\n",
       "      <td>0.950693</td>\n",
       "      <td>0.016047</td>\n",
       "      <td>0.954528</td>\n",
       "      <td>20540.0</td>\n",
       "    </tr>\n",
       "  </tbody>\n",
       "</table>\n",
       "</div>"
      ],
      "text/plain": [
       "          accuracy  balanced accuracy        f1  precision  \\\n",
       "majmin                                                       \n",
       "majority  0.235001           0.537883  0.247008   0.141969   \n",
       "minority  0.157059           0.516630  0.212069   0.118841   \n",
       "\n",
       "          false positive rate  false negative rate  selection rate    count  \n",
       "majmin                                                                       \n",
       "majority             0.873796             0.050438        0.883808  69170.0  \n",
       "minority             0.950693             0.016047        0.954528  20540.0  "
      ]
     },
     "execution_count": 75,
     "metadata": {},
     "output_type": "execute_result"
    }
   ],
   "source": [
    "metric_frame.by_group"
   ]
  },
  {
   "cell_type": "code",
   "execution_count": 76,
   "id": "a9ddbe63",
   "metadata": {
    "execution": {
     "iopub.execute_input": "2025-07-30T21:34:59.048091Z",
     "iopub.status.busy": "2025-07-30T21:34:59.047672Z",
     "iopub.status.idle": "2025-07-30T21:35:01.487464Z",
     "shell.execute_reply": "2025-07-30T21:35:01.486421Z"
    },
    "papermill": {
     "duration": 2.468802,
     "end_time": "2025-07-30T21:35:01.488898",
     "exception": false,
     "start_time": "2025-07-30T21:34:59.020096",
     "status": "completed"
    },
    "tags": []
   },
   "outputs": [
    {
     "data": {
      "text/plain": [
       "array([[<Axes: title={'center': 'accuracy'}, xlabel='majmin'>,\n",
       "        <Axes: title={'center': 'balanced accuracy'}, xlabel='majmin'>,\n",
       "        <Axes: title={'center': 'f1'}, xlabel='majmin'>],\n",
       "       [<Axes: title={'center': 'precision'}, xlabel='majmin'>,\n",
       "        <Axes: title={'center': 'false positive rate'}, xlabel='majmin'>,\n",
       "        <Axes: title={'center': 'false negative rate'}, xlabel='majmin'>],\n",
       "       [<Axes: title={'center': 'selection rate'}, xlabel='majmin'>,\n",
       "        <Axes: title={'center': 'count'}, xlabel='majmin'>,\n",
       "        <Axes: xlabel='majmin'>]], dtype=object)"
      ]
     },
     "execution_count": 76,
     "metadata": {},
     "output_type": "execute_result"
    },
    {
     "data": {
      "image/png": "[encoded data removed]",
      "text/plain": [
       "<Figure size 1200x800 with 9 Axes>"
      ]
     },
     "metadata": {},
     "output_type": "display_data"
    }
   ],
   "source": [
    "# In a graphic\n",
    "metric_frame.by_group.plot.bar(\n",
    "    subplots=True,\n",
    "    layout=[3, 3],\n",
    "    legend=False,\n",
    "    figsize=[12, 8],\n",
    "    title=\"Show all metrics\",\n",
    ")"
   ]
  },
  {
   "cell_type": "markdown",
   "id": "f57a0bac",
   "metadata": {
    "papermill": {
     "duration": 0.043701,
     "end_time": "2025-07-30T21:35:01.565994",
     "exception": false,
     "start_time": "2025-07-30T21:35:01.522293",
     "status": "completed"
    },
    "tags": []
   },
   "source": [
    "# Final Output"
   ]
  },
  {
   "cell_type": "code",
   "execution_count": 77,
   "id": "96d280a3",
   "metadata": {
    "execution": {
     "iopub.execute_input": "2025-07-30T21:35:01.627686Z",
     "iopub.status.busy": "2025-07-30T21:35:01.626549Z",
     "iopub.status.idle": "2025-07-30T21:35:01.635203Z",
     "shell.execute_reply": "2025-07-30T21:35:01.634349Z"
    },
    "papermill": {
     "duration": 0.040861,
     "end_time": "2025-07-30T21:35:01.639011",
     "exception": false,
     "start_time": "2025-07-30T21:35:01.598150",
     "status": "completed"
    },
    "tags": []
   },
   "outputs": [
    {
     "data": {
      "text/plain": [
       "4"
      ]
     },
     "execution_count": 77,
     "metadata": {},
     "output_type": "execute_result"
    }
   ],
   "source": [
    "sub_universes = universe_analysis.generate_sub_universes()\n",
    "len(sub_universes)"
   ]
  },
  {
   "cell_type": "code",
   "execution_count": 78,
   "id": "92adf7ba",
   "metadata": {
    "execution": {
     "iopub.execute_input": "2025-07-30T21:35:01.701282Z",
     "iopub.status.busy": "2025-07-30T21:35:01.700825Z",
     "iopub.status.idle": "2025-07-30T21:35:01.710681Z",
     "shell.execute_reply": "2025-07-30T21:35:01.709759Z"
    },
    "papermill": {
     "duration": 0.047816,
     "end_time": "2025-07-30T21:35:01.714705",
     "exception": false,
     "start_time": "2025-07-30T21:35:01.666889",
     "status": "completed"
    },
    "tags": []
   },
   "outputs": [],
   "source": [
    "def filter_sub_universe_data(sub_universe, org_test):\n",
    "    # Keep all rows — no filtering\n",
    "    keep_rows_mask = np.ones(org_test.shape[0], dtype=bool)\n",
    "\n",
    "    print(f\"[INFO] Keeping all rows: {keep_rows_mask.sum()} rows retained.\")\n",
    "    return keep_rows_mask"
   ]
  },
  {
   "cell_type": "code",
   "execution_count": 79,
   "id": "4a759155",
   "metadata": {
    "execution": {
     "iopub.execute_input": "2025-07-30T21:35:01.777821Z",
     "iopub.status.busy": "2025-07-30T21:35:01.777356Z",
     "iopub.status.idle": "2025-07-30T21:35:11.267006Z",
     "shell.execute_reply": "2025-07-30T21:35:11.265847Z"
    },
    "papermill": {
     "duration": 9.523058,
     "end_time": "2025-07-30T21:35:11.269247",
     "exception": false,
     "start_time": "2025-07-30T21:35:01.746189",
     "status": "completed"
    },
    "tags": []
   },
   "outputs": [
    {
     "name": "stdout",
     "output_type": "stream",
     "text": [
      "Stopping execution_time clock.\n",
      "[INFO] Keeping all rows: 89710 rows retained.\n"
     ]
    },
    {
     "name": "stdout",
     "output_type": "stream",
     "text": [
      "[INFO] Keeping all rows: 89710 rows retained.\n"
     ]
    },
    {
     "name": "stdout",
     "output_type": "stream",
     "text": [
      "[INFO] Keeping all rows: 89710 rows retained.\n"
     ]
    },
    {
     "name": "stdout",
     "output_type": "stream",
     "text": [
      "[INFO] Keeping all rows: 89710 rows retained.\n"
     ]
    },
    {
     "data": {
      "text/html": [
       "<div>\n",
       "<style scoped>\n",
       "    .dataframe tbody tr th:only-of-type {\n",
       "        vertical-align: middle;\n",
       "    }\n",
       "\n",
       "    .dataframe tbody tr th {\n",
       "        vertical-align: top;\n",
       "    }\n",
       "\n",
       "    .dataframe thead th {\n",
       "        text-align: right;\n",
       "    }\n",
       "</style>\n",
       "<table border=\"1\" class=\"dataframe\">\n",
       "  <thead>\n",
       "    <tr style=\"text-align: right;\">\n",
       "      <th></th>\n",
       "      <th>run_no</th>\n",
       "      <th>universe_id</th>\n",
       "      <th>universe_settings</th>\n",
       "      <th>execution_time</th>\n",
       "      <th>test_size_n</th>\n",
       "      <th>test_size_frac</th>\n",
       "      <th>fair_main_equalized_odds_difference</th>\n",
       "      <th>fair_main_equalized_odds_ratio</th>\n",
       "      <th>fair_main_demographic_parity_difference</th>\n",
       "      <th>fair_main_demographic_parity_ratio</th>\n",
       "      <th>...</th>\n",
       "      <th>perf_grp_precision_0</th>\n",
       "      <th>perf_grp_precision_1</th>\n",
       "      <th>perf_grp_false positive rate_0</th>\n",
       "      <th>perf_grp_false positive rate_1</th>\n",
       "      <th>perf_grp_false negative rate_0</th>\n",
       "      <th>perf_grp_false negative rate_1</th>\n",
       "      <th>perf_grp_selection rate_0</th>\n",
       "      <th>perf_grp_selection rate_1</th>\n",
       "      <th>perf_grp_count_0</th>\n",
       "      <th>perf_grp_count_1</th>\n",
       "    </tr>\n",
       "  </thead>\n",
       "  <tbody>\n",
       "    <tr>\n",
       "      <th>0</th>\n",
       "      <td>14</td>\n",
       "      <td>052512b8c189f528067f5a0c51afcac7</td>\n",
       "      <td>{\"cutoff\": \"quantile_0.1\", \"eval_fairness_grou...</td>\n",
       "      <td>27.696542</td>\n",
       "      <td>89710</td>\n",
       "      <td>1.0</td>\n",
       "      <td>0.076897</td>\n",
       "      <td>0.919115</td>\n",
       "      <td>0.070720</td>\n",
       "      <td>0.925911</td>\n",
       "      <td>...</td>\n",
       "      <td>NaN</td>\n",
       "      <td>NaN</td>\n",
       "      <td>NaN</td>\n",
       "      <td>NaN</td>\n",
       "      <td>NaN</td>\n",
       "      <td>NaN</td>\n",
       "      <td>NaN</td>\n",
       "      <td>NaN</td>\n",
       "      <td>NaN</td>\n",
       "      <td>NaN</td>\n",
       "    </tr>\n",
       "    <tr>\n",
       "      <th>0</th>\n",
       "      <td>14</td>\n",
       "      <td>052512b8c189f528067f5a0c51afcac7</td>\n",
       "      <td>{\"cutoff\": \"quantile_0.1\", \"eval_fairness_grou...</td>\n",
       "      <td>27.696542</td>\n",
       "      <td>89710</td>\n",
       "      <td>1.0</td>\n",
       "      <td>0.076897</td>\n",
       "      <td>0.919115</td>\n",
       "      <td>0.070720</td>\n",
       "      <td>0.925911</td>\n",
       "      <td>...</td>\n",
       "      <td>0.118841</td>\n",
       "      <td>0.141969</td>\n",
       "      <td>0.950693</td>\n",
       "      <td>0.873796</td>\n",
       "      <td>0.016047</td>\n",
       "      <td>0.050438</td>\n",
       "      <td>0.954528</td>\n",
       "      <td>0.883808</td>\n",
       "      <td>20540.0</td>\n",
       "      <td>69170.0</td>\n",
       "    </tr>\n",
       "    <tr>\n",
       "      <th>0</th>\n",
       "      <td>14</td>\n",
       "      <td>052512b8c189f528067f5a0c51afcac7</td>\n",
       "      <td>{\"cutoff\": \"quantile_0.25\", \"eval_fairness_gro...</td>\n",
       "      <td>27.696542</td>\n",
       "      <td>89710</td>\n",
       "      <td>1.0</td>\n",
       "      <td>0.165562</td>\n",
       "      <td>0.807105</td>\n",
       "      <td>0.151865</td>\n",
       "      <td>0.824856</td>\n",
       "      <td>...</td>\n",
       "      <td>NaN</td>\n",
       "      <td>NaN</td>\n",
       "      <td>NaN</td>\n",
       "      <td>NaN</td>\n",
       "      <td>NaN</td>\n",
       "      <td>NaN</td>\n",
       "      <td>NaN</td>\n",
       "      <td>NaN</td>\n",
       "      <td>NaN</td>\n",
       "      <td>NaN</td>\n",
       "    </tr>\n",
       "    <tr>\n",
       "      <th>0</th>\n",
       "      <td>14</td>\n",
       "      <td>052512b8c189f528067f5a0c51afcac7</td>\n",
       "      <td>{\"cutoff\": \"quantile_0.25\", \"eval_fairness_gro...</td>\n",
       "      <td>27.696542</td>\n",
       "      <td>89710</td>\n",
       "      <td>1.0</td>\n",
       "      <td>0.165562</td>\n",
       "      <td>0.807105</td>\n",
       "      <td>0.151865</td>\n",
       "      <td>0.824856</td>\n",
       "      <td>...</td>\n",
       "      <td>0.124256</td>\n",
       "      <td>0.159424</td>\n",
       "      <td>0.858298</td>\n",
       "      <td>0.692737</td>\n",
       "      <td>0.065456</td>\n",
       "      <td>0.137090</td>\n",
       "      <td>0.867089</td>\n",
       "      <td>0.715223</td>\n",
       "      <td>20540.0</td>\n",
       "      <td>69170.0</td>\n",
       "    </tr>\n",
       "  </tbody>\n",
       "</table>\n",
       "<p>4 rows × 50 columns</p>\n",
       "</div>"
      ],
      "text/plain": [
       "  run_no                       universe_id  \\\n",
       "0     14  052512b8c189f528067f5a0c51afcac7   \n",
       "0     14  052512b8c189f528067f5a0c51afcac7   \n",
       "0     14  052512b8c189f528067f5a0c51afcac7   \n",
       "0     14  052512b8c189f528067f5a0c51afcac7   \n",
       "\n",
       "                                   universe_settings  execution_time  \\\n",
       "0  {\"cutoff\": \"quantile_0.1\", \"eval_fairness_grou...       27.696542   \n",
       "0  {\"cutoff\": \"quantile_0.1\", \"eval_fairness_grou...       27.696542   \n",
       "0  {\"cutoff\": \"quantile_0.25\", \"eval_fairness_gro...       27.696542   \n",
       "0  {\"cutoff\": \"quantile_0.25\", \"eval_fairness_gro...       27.696542   \n",
       "\n",
       "   test_size_n  test_size_frac  fair_main_equalized_odds_difference  \\\n",
       "0        89710             1.0                             0.076897   \n",
       "0        89710             1.0                             0.076897   \n",
       "0        89710             1.0                             0.165562   \n",
       "0        89710             1.0                             0.165562   \n",
       "\n",
       "   fair_main_equalized_odds_ratio  fair_main_demographic_parity_difference  \\\n",
       "0                        0.919115                                 0.070720   \n",
       "0                        0.919115                                 0.070720   \n",
       "0                        0.807105                                 0.151865   \n",
       "0                        0.807105                                 0.151865   \n",
       "\n",
       "   fair_main_demographic_parity_ratio  ...  perf_grp_precision_0  \\\n",
       "0                            0.925911  ...                   NaN   \n",
       "0                            0.925911  ...              0.118841   \n",
       "0                            0.824856  ...                   NaN   \n",
       "0                            0.824856  ...              0.124256   \n",
       "\n",
       "   perf_grp_precision_1  perf_grp_false positive rate_0  \\\n",
       "0                   NaN                             NaN   \n",
       "0              0.141969                        0.950693   \n",
       "0                   NaN                             NaN   \n",
       "0              0.159424                        0.858298   \n",
       "\n",
       "   perf_grp_false positive rate_1  perf_grp_false negative rate_0  \\\n",
       "0                             NaN                             NaN   \n",
       "0                        0.873796                        0.016047   \n",
       "0                             NaN                             NaN   \n",
       "0                        0.692737                        0.065456   \n",
       "\n",
       "   perf_grp_false negative rate_1  perf_grp_selection rate_0  \\\n",
       "0                             NaN                        NaN   \n",
       "0                        0.050438                   0.954528   \n",
       "0                             NaN                        NaN   \n",
       "0                        0.137090                   0.867089   \n",
       "\n",
       "   perf_grp_selection rate_1  perf_grp_count_0  perf_grp_count_1  \n",
       "0                        NaN               NaN               NaN  \n",
       "0                   0.883808           20540.0           69170.0  \n",
       "0                        NaN               NaN               NaN  \n",
       "0                   0.715223           20540.0           69170.0  \n",
       "\n",
       "[4 rows x 50 columns]"
      ]
     },
     "execution_count": 79,
     "metadata": {},
     "output_type": "execute_result"
    }
   ],
   "source": [
    "final_output = universe_analysis.generate_final_output(\n",
    "    y_pred_prob=probs_test,\n",
    "    y_test=y_true,\n",
    "    org_test=org_test,\n",
    "    filter_data=filter_sub_universe_data,\n",
    "    cp_metrics_df=cp_metrics_df,\n",
    "    save=True,\n",
    ")\n",
    "final_output"
   ]
  },
  {
   "cell_type": "code",
   "execution_count": null,
   "id": "721ff514-cb11-46f8-b6fc-50392f74b5cb",
   "metadata": {
    "papermill": {
     "duration": 0.038611,
     "end_time": "2025-07-30T21:35:11.348740",
     "exception": false,
     "start_time": "2025-07-30T21:35:11.310129",
     "status": "completed"
    },
    "tags": []
   },
   "outputs": [],
   "source": []
  }
 ],
 "metadata": {
  "celltoolbar": "Tags",
  "kernelspec": {
   "display_name": "Python (CMA Fairness)",
   "language": "python",
   "name": "cma_fair_env"
  },
  "language_info": {
   "codemirror_mode": {
    "name": "ipython",
    "version": 3
   },
   "file_extension": ".py",
   "mimetype": "text/x-python",
   "name": "python",
   "nbconvert_exporter": "python",
   "pygments_lexer": "ipython3",
   "version": "3.10.12"
  },
  "papermill": {
   "default_parameters": {},
   "duration": 41.58724,
   "end_time": "2025-07-30T21:35:12.209916",
   "environment_variables": {},
   "exception": null,
   "input_path": "universe_analysis.ipynb",
   "output_path": "output/runs/14/notebooks/m_14-052512b8c189f528067f5a0c51afcac7.ipynb",
   "parameters": {
    "output_dir": "output",
    "run_no": "14",
    "seed": "2023",
    "universe": "{\"cutoff\": [\"quantile_0.1\", \"quantile_0.25\"], \"eval_fairness_grouping\": [\"majority-minority\", \"nationality-all\"], \"exclude_features\": \"age\", \"exclude_subgroups\": \"keep-all\", \"model\": \"penalized_logreg\", \"scale\": \"scale\", \"training_size\": \"1k\", \"training_year\": \"2012_14\"}",
    "universe_id": "052512b8c189f528067f5a0c51afcac7"
   },
   "start_time": "2025-07-30T21:34:30.622676",
   "version": "2.6.0"
  }
 },
 "nbformat": 4,
 "nbformat_minor": 5
}