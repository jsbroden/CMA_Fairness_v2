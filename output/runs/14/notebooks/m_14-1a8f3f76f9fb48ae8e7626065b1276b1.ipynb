{
 "cells": [
  {
   "cell_type": "code",
   "execution_count": 1,
   "id": "f159f837-637b-42ba-96b5-ec9a68c44524",
   "metadata": {
    "execution": {
     "iopub.execute_input": "2025-07-30T21:46:26.365269Z",
     "iopub.status.busy": "2025-07-30T21:46:26.364766Z",
     "iopub.status.idle": "2025-07-30T21:46:26.375784Z",
     "shell.execute_reply": "2025-07-30T21:46:26.374777Z"
    },
    "papermill": {
     "duration": 0.024933,
     "end_time": "2025-07-30T21:46:26.377815",
     "exception": false,
     "start_time": "2025-07-30T21:46:26.352882",
     "status": "completed"
    },
    "tags": []
   },
   "outputs": [
    {
     "name": "stdout",
     "output_type": "stream",
     "text": [
      "/dss/dsshome1/0C/ra93lal2/cma/CMA_Fairness_v2\n"
     ]
    },
    {
     "name": "stderr",
     "output_type": "stream",
     "text": [
      "/dss/dsshome1/0C/ra93lal2/.local/share/virtualenvs/CMA_Fairness_v2-3j10GkSs/lib/python3.10/site-packages/IPython/core/magics/osm.py:393: UserWarning: This is now an optional IPython functionality, using bookmarks requires you to install the `pickleshare` library.\n",
      "  bkms = self.shell.db.get('bookmarks', {})\n",
      "/dss/dsshome1/0C/ra93lal2/.local/share/virtualenvs/CMA_Fairness_v2-3j10GkSs/lib/python3.10/site-packages/IPython/core/magics/osm.py:417: UserWarning: This is now an optional IPython functionality, setting dhist requires you to install the `pickleshare` library.\n",
      "  self.shell.db['dhist'] = compress_dhist(dhist)[-100:]\n"
     ]
    }
   ],
   "source": [
    "%cd ~/cma/CMA_Fairness_v2"
   ]
  },
  {
   "cell_type": "markdown",
   "id": "de2603b9",
   "metadata": {
    "papermill": {
     "duration": 0.012114,
     "end_time": "2025-07-30T21:46:26.405562",
     "exception": false,
     "start_time": "2025-07-30T21:46:26.393448",
     "status": "completed"
    },
    "tags": []
   },
   "source": [
    "The following cell holds the definition of our parameters, these values can be overriden by rendering the with e.g. the following command:\n",
    "\n",
    "papermill -p alpha 0.2 -p ratio 0.3 universe_analysis.ipynb output/test_run.ipynb"
   ]
  },
  {
   "cell_type": "code",
   "execution_count": 2,
   "id": "a80968a0-40bb-4fa9-85ef-2d5eefb01975",
   "metadata": {
    "execution": {
     "iopub.execute_input": "2025-07-30T21:46:26.427969Z",
     "iopub.status.busy": "2025-07-30T21:46:26.427562Z",
     "iopub.status.idle": "2025-07-30T21:46:26.433472Z",
     "shell.execute_reply": "2025-07-30T21:46:26.432409Z"
    },
    "papermill": {
     "duration": 0.019424,
     "end_time": "2025-07-30T21:46:26.435619",
     "exception": false,
     "start_time": "2025-07-30T21:46:26.416195",
     "status": "completed"
    },
    "tags": []
   },
   "outputs": [
    {
     "name": "stdout",
     "output_type": "stream",
     "text": [
      "Current working directory: /dss/dsshome1/0C/ra93lal2/cma/CMA_Fairness_v2\n"
     ]
    }
   ],
   "source": [
    "import os\n",
    "print(\"Current working directory:\", os.getcwd())"
   ]
  },
  {
   "cell_type": "code",
   "execution_count": 3,
   "id": "2dce4c03",
   "metadata": {
    "execution": {
     "iopub.execute_input": "2025-07-30T21:46:26.481251Z",
     "iopub.status.busy": "2025-07-30T21:46:26.480583Z",
     "iopub.status.idle": "2025-07-30T21:46:26.487039Z",
     "shell.execute_reply": "2025-07-30T21:46:26.486077Z"
    },
    "papermill": {
     "duration": 0.030616,
     "end_time": "2025-07-30T21:46:26.488744",
     "exception": false,
     "start_time": "2025-07-30T21:46:26.458128",
     "status": "completed"
    },
    "tags": [
     "parameters"
    ]
   },
   "outputs": [],
   "source": [
    "run_no = 0\n",
    "universe_id = \"test\"\n",
    "universe = {\n",
    "    \"training_size\": \"25k\", # \"25k\", \"5k\", \"1k\"\n",
    "    \"training_year\": \"2014\", # \"2014\", \"2012_14\", \"2010_14\"\n",
    "    \"scale\": \"scale\", # \"scale\", \"do-not-scale\",\n",
    "    #\"stratify_split\": \"target\", # \"none\", \"target\", \"protected-attribute\", \"both\",\n",
    "    \"model\": \"elasticnet\", # \"logreg\", \"penalized_logreg\", \"rf\", \"gbm\", \"elasticnet\"\n",
    "    \"cutoff\": [\"quantile_0.15\", \"quantile_0.30\"],\n",
    "    \"exclude_features\": \"age\", # \"none\", \"nationality\", \"sex\", \"nationality-sex\", \"age\"\n",
    "    \"exclude_subgroups\": \"keep-all\", # \"keep-all\", \"drop-non-german\"\n",
    "    \"eval_fairness_grouping\": [\"majority-minority\", \"nationality-all\"]\n",
    "}\n",
    "\n",
    "output_dir=\"./output\"\n",
    "seed=0"
   ]
  },
  {
   "cell_type": "code",
   "execution_count": 4,
   "id": "df2f1a5c",
   "metadata": {
    "execution": {
     "iopub.execute_input": "2025-07-30T21:46:26.535193Z",
     "iopub.status.busy": "2025-07-30T21:46:26.534558Z",
     "iopub.status.idle": "2025-07-30T21:46:26.540142Z",
     "shell.execute_reply": "2025-07-30T21:46:26.538917Z"
    },
    "papermill": {
     "duration": 0.030285,
     "end_time": "2025-07-30T21:46:26.542015",
     "exception": false,
     "start_time": "2025-07-30T21:46:26.511730",
     "status": "completed"
    },
    "tags": [
     "injected-parameters"
    ]
   },
   "outputs": [],
   "source": [
    "# Parameters\n",
    "universe_id = \"1a8f3f76f9fb48ae8e7626065b1276b1\"\n",
    "run_no = \"14\"\n",
    "universe = \"{\\\"cutoff\\\": [\\\"quantile_0.1\\\", \\\"quantile_0.25\\\"], \\\"eval_fairness_grouping\\\": [\\\"majority-minority\\\", \\\"nationality-all\\\"], \\\"exclude_features\\\": \\\"none\\\", \\\"exclude_subgroups\\\": \\\"keep-all\\\", \\\"model\\\": \\\"gbm\\\", \\\"scale\\\": \\\"scale\\\", \\\"training_size\\\": \\\"1k\\\", \\\"training_year\\\": \\\"2010_14\\\"}\"\n",
    "output_dir = \"output\"\n",
    "seed = \"2023\"\n"
   ]
  },
  {
   "cell_type": "code",
   "execution_count": 5,
   "id": "1650acaf",
   "metadata": {
    "execution": {
     "iopub.execute_input": "2025-07-30T21:46:26.588852Z",
     "iopub.status.busy": "2025-07-30T21:46:26.588111Z",
     "iopub.status.idle": "2025-07-30T21:46:26.593266Z",
     "shell.execute_reply": "2025-07-30T21:46:26.592213Z"
    },
    "papermill": {
     "duration": 0.029808,
     "end_time": "2025-07-30T21:46:26.595059",
     "exception": false,
     "start_time": "2025-07-30T21:46:26.565251",
     "status": "completed"
    },
    "tags": []
   },
   "outputs": [],
   "source": [
    "import json\n",
    "# Parse universe into dict if it is passed as a string\n",
    "if isinstance(universe, str):\n",
    "    universe = json.loads(universe)"
   ]
  },
  {
   "cell_type": "code",
   "execution_count": 6,
   "id": "16620c48",
   "metadata": {
    "execution": {
     "iopub.execute_input": "2025-07-30T21:46:26.642278Z",
     "iopub.status.busy": "2025-07-30T21:46:26.641613Z",
     "iopub.status.idle": "2025-07-30T21:46:26.691783Z",
     "shell.execute_reply": "2025-07-30T21:46:26.690798Z"
    },
    "papermill": {
     "duration": 0.075048,
     "end_time": "2025-07-30T21:46:26.693385",
     "exception": false,
     "start_time": "2025-07-30T21:46:26.618337",
     "status": "completed"
    },
    "tags": []
   },
   "outputs": [],
   "source": [
    "# Auto-reload the custom package\n",
    "%load_ext autoreload\n",
    "%autoreload 1\n",
    "%aimport fairness_multiverse"
   ]
  },
  {
   "cell_type": "code",
   "execution_count": 7,
   "id": "01c5c9f3",
   "metadata": {
    "execution": {
     "iopub.execute_input": "2025-07-30T21:46:26.737422Z",
     "iopub.status.busy": "2025-07-30T21:46:26.736747Z",
     "iopub.status.idle": "2025-07-30T21:46:28.376544Z",
     "shell.execute_reply": "2025-07-30T21:46:28.375651Z"
    },
    "papermill": {
     "duration": 1.665073,
     "end_time": "2025-07-30T21:46:28.378081",
     "exception": false,
     "start_time": "2025-07-30T21:46:26.713008",
     "status": "completed"
    },
    "tags": []
   },
   "outputs": [],
   "source": [
    "from fairness_multiverse.universe import UniverseAnalysis\n",
    "\n",
    "universe_analysis = UniverseAnalysis(\n",
    "    run_no = run_no,\n",
    "    universe_id = universe_id,\n",
    "    universe = universe,\n",
    "    output_dir=output_dir,\n",
    ")"
   ]
  },
  {
   "cell_type": "code",
   "execution_count": 8,
   "id": "106241f5",
   "metadata": {
    "execution": {
     "iopub.execute_input": "2025-07-30T21:46:28.401800Z",
     "iopub.status.busy": "2025-07-30T21:46:28.401096Z",
     "iopub.status.idle": "2025-07-30T21:46:28.408136Z",
     "shell.execute_reply": "2025-07-30T21:46:28.406961Z"
    },
    "papermill": {
     "duration": 0.02031,
     "end_time": "2025-07-30T21:46:28.409887",
     "exception": false,
     "start_time": "2025-07-30T21:46:28.389577",
     "status": "completed"
    },
    "tags": []
   },
   "outputs": [
    {
     "name": "stdout",
     "output_type": "stream",
     "text": [
      "Using Seed: 2023\n"
     ]
    }
   ],
   "source": [
    "import numpy as np\n",
    "parsed_seed = int(seed)\n",
    "np.random.seed(parsed_seed)\n",
    "print(f\"Using Seed: {parsed_seed}\")"
   ]
  },
  {
   "cell_type": "markdown",
   "id": "e0ebdc57",
   "metadata": {
    "papermill": {
     "duration": 0.019332,
     "end_time": "2025-07-30T21:46:28.450159",
     "exception": false,
     "start_time": "2025-07-30T21:46:28.430827",
     "status": "completed"
    },
    "tags": []
   },
   "source": [
    "# Loading Data"
   ]
  },
  {
   "cell_type": "markdown",
   "id": "681925a3",
   "metadata": {
    "papermill": {
     "duration": 0.019733,
     "end_time": "2025-07-30T21:46:28.490264",
     "exception": false,
     "start_time": "2025-07-30T21:46:28.470531",
     "status": "completed"
    },
    "tags": []
   },
   "source": [
    "Load siab_train, siab_test, siab_calib and/or \n",
    "load siab_train_features, siab_train_labels"
   ]
  },
  {
   "cell_type": "code",
   "execution_count": 9,
   "id": "f0496b8a",
   "metadata": {
    "execution": {
     "iopub.execute_input": "2025-07-30T21:46:28.531769Z",
     "iopub.status.busy": "2025-07-30T21:46:28.531109Z",
     "iopub.status.idle": "2025-07-30T21:46:42.190376Z",
     "shell.execute_reply": "2025-07-30T21:46:42.189004Z"
    },
    "papermill": {
     "duration": 13.682874,
     "end_time": "2025-07-30T21:46:42.192569",
     "exception": false,
     "start_time": "2025-07-30T21:46:28.509695",
     "status": "completed"
    },
    "tags": []
   },
   "outputs": [
    {
     "name": "stdout",
     "output_type": "stream",
     "text": [
      "Loading SIAB data from cache: data/siab_cached.csv.gz\n"
     ]
    },
    {
     "name": "stdout",
     "output_type": "stream",
     "text": [
      "(643690, 164)\n"
     ]
    }
   ],
   "source": [
    "from pathlib import Path\n",
    "import pandas as pd\n",
    "\n",
    "# File paths\n",
    "raw_file = Path(\"data/raw/siab.csv\")\n",
    "cache_file = Path(\"data/siab_cached.csv.gz\")\n",
    "\n",
    "# Ensure cache directory exists\n",
    "cache_file.parent.mkdir(parents=True, exist_ok=True)\n",
    "\n",
    "# Load with simple caching\n",
    "if cache_file.exists():\n",
    "    print(f\"Loading SIAB data from cache: {cache_file}\")\n",
    "    siab = pd.read_csv(cache_file, compression='gzip')\n",
    "else:\n",
    "    print(f\"Cache not found. Reading raw SIAB data: {raw_file}\")\n",
    "    siab = pd.read_csv(raw_file)\n",
    "    siab.to_csv(cache_file, index=False, compression='gzip')\n",
    "    print(f\"Cached SIAB data to: {cache_file}\")\n",
    "\n",
    "# Now use `siab` DataFrame as needed\n",
    "print(siab.shape)"
   ]
  },
  {
   "cell_type": "code",
   "execution_count": 10,
   "id": "db0ca512-5f53-4dba-abdb-a2888bca41ba",
   "metadata": {
    "execution": {
     "iopub.execute_input": "2025-07-30T21:46:42.288597Z",
     "iopub.status.busy": "2025-07-30T21:46:42.288072Z",
     "iopub.status.idle": "2025-07-30T21:46:42.294350Z",
     "shell.execute_reply": "2025-07-30T21:46:42.293240Z"
    },
    "papermill": {
     "duration": 0.051108,
     "end_time": "2025-07-30T21:46:42.296948",
     "exception": false,
     "start_time": "2025-07-30T21:46:42.245840",
     "status": "completed"
    },
    "tags": []
   },
   "outputs": [],
   "source": [
    "#siab"
   ]
  },
  {
   "cell_type": "code",
   "execution_count": 11,
   "id": "a0edb063",
   "metadata": {
    "execution": {
     "iopub.execute_input": "2025-07-30T21:46:42.349873Z",
     "iopub.status.busy": "2025-07-30T21:46:42.349517Z",
     "iopub.status.idle": "2025-07-30T21:46:42.354186Z",
     "shell.execute_reply": "2025-07-30T21:46:42.353184Z"
    },
    "papermill": {
     "duration": 0.036186,
     "end_time": "2025-07-30T21:46:42.356494",
     "exception": false,
     "start_time": "2025-07-30T21:46:42.320308",
     "status": "completed"
    },
    "tags": []
   },
   "outputs": [],
   "source": [
    "#import pandas as pd\n",
    "#\n",
    "#X_train = pd.read_csv(\"./data/X_train.csv\")\n",
    "#y_train = pd.read_csv(\"./data/y_train.csv\")"
   ]
  },
  {
   "cell_type": "code",
   "execution_count": 12,
   "id": "63d08085",
   "metadata": {
    "execution": {
     "iopub.execute_input": "2025-07-30T21:46:42.400819Z",
     "iopub.status.busy": "2025-07-30T21:46:42.400377Z",
     "iopub.status.idle": "2025-07-30T21:46:42.411036Z",
     "shell.execute_reply": "2025-07-30T21:46:42.409867Z"
    },
    "papermill": {
     "duration": 0.036579,
     "end_time": "2025-07-30T21:46:42.413280",
     "exception": false,
     "start_time": "2025-07-30T21:46:42.376701",
     "status": "completed"
    },
    "tags": []
   },
   "outputs": [],
   "source": [
    "#X_test = pd.read_csv(\"./data/X_test.csv\")\n",
    "#y_true = pd.read_csv(\"./data/y_test.csv\")"
   ]
  },
  {
   "cell_type": "code",
   "execution_count": 13,
   "id": "98a8d0fa-1d3d-4ed8-bb2c-281470e24add",
   "metadata": {
    "execution": {
     "iopub.execute_input": "2025-07-30T21:46:42.461616Z",
     "iopub.status.busy": "2025-07-30T21:46:42.461186Z",
     "iopub.status.idle": "2025-07-30T21:46:42.466678Z",
     "shell.execute_reply": "2025-07-30T21:46:42.465557Z"
    },
    "papermill": {
     "duration": 0.033174,
     "end_time": "2025-07-30T21:46:42.470040",
     "exception": false,
     "start_time": "2025-07-30T21:46:42.436866",
     "status": "completed"
    },
    "tags": []
   },
   "outputs": [],
   "source": [
    "# Calibration data for conformal\n",
    "#X_calib = pd.read_csv(\"./data/X_calib.csv\")\n",
    "#y_calib = pd.read_csv(\"./data/y_calib.csv\")"
   ]
  },
  {
   "cell_type": "markdown",
   "id": "997051c5-15bd-4b69-9786-c3001a3ce484",
   "metadata": {
    "papermill": {
     "duration": 0.034487,
     "end_time": "2025-07-30T21:46:42.529900",
     "exception": false,
     "start_time": "2025-07-30T21:46:42.495413",
     "status": "completed"
    },
    "tags": []
   },
   "source": [
    "# Splitting Data and Setting Training Data Size"
   ]
  },
  {
   "cell_type": "code",
   "execution_count": 14,
   "id": "e993b61f-042d-41a6-8c81-f55681f86335",
   "metadata": {
    "execution": {
     "iopub.execute_input": "2025-07-30T21:46:42.568793Z",
     "iopub.status.busy": "2025-07-30T21:46:42.568415Z",
     "iopub.status.idle": "2025-07-30T21:46:42.589326Z",
     "shell.execute_reply": "2025-07-30T21:46:42.583706Z"
    },
    "papermill": {
     "duration": 0.045885,
     "end_time": "2025-07-30T21:46:42.591916",
     "exception": false,
     "start_time": "2025-07-30T21:46:42.546031",
     "status": "completed"
    },
    "tags": []
   },
   "outputs": [],
   "source": [
    "def sample_by_year_size(df,\n",
    "                        training_year: str,\n",
    "                        training_size: str,\n",
    "                        random_state: int = 42):\n",
    "    # --- parse training_year into a list of int years ---\n",
    "    if \"_\" in training_year:\n",
    "        start_str, end_str = training_year.split(\"_\", 1)\n",
    "        start = int(start_str)\n",
    "        end   = int(end_str) if len(end_str) == 4 else (int(end_str) + (start // 100)*100)\n",
    "        years = list(range(start, end + 1))\n",
    "    else:\n",
    "        years = [int(training_year)]\n",
    "\n",
    "    df = df[df[\"year\"].isin(years)].reset_index(drop=True)\n",
    "\n",
    "    # --- map training_size to total number of samples ---\n",
    "    total_map = {\"25k\": 25_000, \"5k\": 5_000, \"1k\": 1_000}\n",
    "    if training_size not in total_map:\n",
    "        return df  # e.g. \"all\"\n",
    "\n",
    "    total_samples = total_map[training_size]\n",
    "    n_years       = len(years)\n",
    "    base          = total_samples // n_years\n",
    "    remainder     = total_samples % n_years\n",
    "\n",
    "    # --- build a dict: year -> how many to sample ---\n",
    "    # give +1 to the first `remainder` years in ascending order\n",
    "    quotas = {\n",
    "        year: base + (1 if idx < remainder else 0)\n",
    "        for idx, year in enumerate(sorted(years))\n",
    "    }\n",
    "\n",
    "    # --- sample per‐year according to the quota dict ---\n",
    "    sampled = (\n",
    "        df\n",
    "        .groupby(\"year\", group_keys=False)\n",
    "        .apply(lambda grp: grp.sample(\n",
    "            n=min(len(grp), quotas[grp.name]),\n",
    "            random_state=random_state))\n",
    "        .reset_index(drop=True)\n",
    "    )\n",
    "\n",
    "    return sampled"
   ]
  },
  {
   "cell_type": "code",
   "execution_count": 15,
   "id": "c0ccd338-0e02-41f3-a09d-f56f9266e3fb",
   "metadata": {
    "execution": {
     "iopub.execute_input": "2025-07-30T21:46:42.643811Z",
     "iopub.status.busy": "2025-07-30T21:46:42.643373Z",
     "iopub.status.idle": "2025-07-30T21:46:42.648798Z",
     "shell.execute_reply": "2025-07-30T21:46:42.647708Z"
    },
    "papermill": {
     "duration": 0.0287,
     "end_time": "2025-07-30T21:46:42.651685",
     "exception": false,
     "start_time": "2025-07-30T21:46:42.622985",
     "status": "completed"
    },
    "tags": []
   },
   "outputs": [],
   "source": [
    "#universe[\"training_size\"]"
   ]
  },
  {
   "cell_type": "code",
   "execution_count": 16,
   "id": "ca707fd7-8047-4acd-bfa5-66248fbbf8e6",
   "metadata": {
    "execution": {
     "iopub.execute_input": "2025-07-30T21:46:42.693520Z",
     "iopub.status.busy": "2025-07-30T21:46:42.693120Z",
     "iopub.status.idle": "2025-07-30T21:46:42.698565Z",
     "shell.execute_reply": "2025-07-30T21:46:42.697492Z"
    },
    "papermill": {
     "duration": 0.037207,
     "end_time": "2025-07-30T21:46:42.709492",
     "exception": false,
     "start_time": "2025-07-30T21:46:42.672285",
     "status": "completed"
    },
    "tags": []
   },
   "outputs": [],
   "source": [
    "#universe[\"training_year\"]"
   ]
  },
  {
   "cell_type": "code",
   "execution_count": 17,
   "id": "aea9c6ef-6f46-42c8-85eb-5a62025c1508",
   "metadata": {
    "execution": {
     "iopub.execute_input": "2025-07-30T21:46:42.748522Z",
     "iopub.status.busy": "2025-07-30T21:46:42.748017Z",
     "iopub.status.idle": "2025-07-30T21:46:43.779812Z",
     "shell.execute_reply": "2025-07-30T21:46:43.778675Z"
    },
    "papermill": {
     "duration": 1.051452,
     "end_time": "2025-07-30T21:46:43.781840",
     "exception": false,
     "start_time": "2025-07-30T21:46:42.730388",
     "status": "completed"
    },
    "tags": []
   },
   "outputs": [],
   "source": [
    "siab_train = sample_by_year_size(siab,\n",
    "                               training_year=universe[\"training_year\"],\n",
    "                               training_size=universe[\"training_size\"])"
   ]
  },
  {
   "cell_type": "code",
   "execution_count": 18,
   "id": "8d3afb32-789d-442c-8d5d-9f5aa8dd2eed",
   "metadata": {
    "execution": {
     "iopub.execute_input": "2025-07-30T21:46:43.825754Z",
     "iopub.status.busy": "2025-07-30T21:46:43.825242Z",
     "iopub.status.idle": "2025-07-30T21:46:43.831241Z",
     "shell.execute_reply": "2025-07-30T21:46:43.830057Z"
    },
    "papermill": {
     "duration": 0.034651,
     "end_time": "2025-07-30T21:46:43.835975",
     "exception": false,
     "start_time": "2025-07-30T21:46:43.801324",
     "status": "completed"
    },
    "tags": []
   },
   "outputs": [],
   "source": [
    "#siab_train.shape"
   ]
  },
  {
   "cell_type": "code",
   "execution_count": 19,
   "id": "d582db68-1a4c-47fb-84fc-08518dc1975a",
   "metadata": {
    "execution": {
     "iopub.execute_input": "2025-07-30T21:46:43.879966Z",
     "iopub.status.busy": "2025-07-30T21:46:43.879508Z",
     "iopub.status.idle": "2025-07-30T21:46:43.884971Z",
     "shell.execute_reply": "2025-07-30T21:46:43.883861Z"
    },
    "papermill": {
     "duration": 0.028913,
     "end_time": "2025-07-30T21:46:43.886751",
     "exception": false,
     "start_time": "2025-07-30T21:46:43.857838",
     "status": "completed"
    },
    "tags": []
   },
   "outputs": [],
   "source": [
    "#display(siab_train.groupby(\"year\").size())"
   ]
  },
  {
   "cell_type": "code",
   "execution_count": 20,
   "id": "a561edb4-d032-42cb-8256-22eac1111c64",
   "metadata": {
    "execution": {
     "iopub.execute_input": "2025-07-30T21:46:43.937275Z",
     "iopub.status.busy": "2025-07-30T21:46:43.936486Z",
     "iopub.status.idle": "2025-07-30T21:46:44.301345Z",
     "shell.execute_reply": "2025-07-30T21:46:44.300366Z"
    },
    "papermill": {
     "duration": 0.392552,
     "end_time": "2025-07-30T21:46:44.303211",
     "exception": false,
     "start_time": "2025-07-30T21:46:43.910659",
     "status": "completed"
    },
    "tags": []
   },
   "outputs": [],
   "source": [
    "#siab_train = siab_s[siab_s.year < 2015]\n",
    "siab_calib = siab[siab.year == 2015]\n",
    "siab_test = siab[siab.year == 2016]"
   ]
  },
  {
   "cell_type": "code",
   "execution_count": 21,
   "id": "472de16f-c3db-4916-846b-1f0de9cf1746",
   "metadata": {
    "execution": {
     "iopub.execute_input": "2025-07-30T21:46:44.346293Z",
     "iopub.status.busy": "2025-07-30T21:46:44.345337Z",
     "iopub.status.idle": "2025-07-30T21:46:44.354245Z",
     "shell.execute_reply": "2025-07-30T21:46:44.351845Z"
    },
    "papermill": {
     "duration": 0.031617,
     "end_time": "2025-07-30T21:46:44.356262",
     "exception": false,
     "start_time": "2025-07-30T21:46:44.324645",
     "status": "completed"
    },
    "tags": []
   },
   "outputs": [],
   "source": [
    "X_train = siab_train.iloc[:,4:164]\n",
    "y_train = siab_train.iloc[:, [3]]"
   ]
  },
  {
   "cell_type": "code",
   "execution_count": 22,
   "id": "828c96af-f43a-4ed6-ba47-8ac73a47d56c",
   "metadata": {
    "execution": {
     "iopub.execute_input": "2025-07-30T21:46:44.401367Z",
     "iopub.status.busy": "2025-07-30T21:46:44.400950Z",
     "iopub.status.idle": "2025-07-30T21:46:44.473771Z",
     "shell.execute_reply": "2025-07-30T21:46:44.472766Z"
    },
    "papermill": {
     "duration": 0.097174,
     "end_time": "2025-07-30T21:46:44.475507",
     "exception": false,
     "start_time": "2025-07-30T21:46:44.378333",
     "status": "completed"
    },
    "tags": []
   },
   "outputs": [],
   "source": [
    "X_calib = siab_calib.iloc[:,4:164]\n",
    "y_calib = siab_calib.iloc[:, [3]]"
   ]
  },
  {
   "cell_type": "code",
   "execution_count": 23,
   "id": "c34be9c3-6bd6-476e-acd3-845840e303be",
   "metadata": {
    "execution": {
     "iopub.execute_input": "2025-07-30T21:46:44.546161Z",
     "iopub.status.busy": "2025-07-30T21:46:44.545574Z",
     "iopub.status.idle": "2025-07-30T21:46:44.628816Z",
     "shell.execute_reply": "2025-07-30T21:46:44.613030Z"
    },
    "papermill": {
     "duration": 0.116578,
     "end_time": "2025-07-30T21:46:44.630876",
     "exception": false,
     "start_time": "2025-07-30T21:46:44.514298",
     "status": "completed"
    },
    "tags": []
   },
   "outputs": [],
   "source": [
    "X_test = siab_test.iloc[:,4:164]\n",
    "y_true = siab_test.iloc[:, [3]]"
   ]
  },
  {
   "cell_type": "markdown",
   "id": "9901737e-04df-44f0-9100-f5ad144ed040",
   "metadata": {
    "papermill": {
     "duration": 0.019626,
     "end_time": "2025-07-30T21:46:44.671052",
     "exception": false,
     "start_time": "2025-07-30T21:46:44.651426",
     "status": "completed"
    },
    "tags": []
   },
   "source": [
    "# Splitting Data and Setting Training Data Size OLD VERSION"
   ]
  },
  {
   "cell_type": "code",
   "execution_count": 24,
   "id": "acbc8f7d-8fc8-4e86-8c59-5dcb0f58384b",
   "metadata": {
    "execution": {
     "iopub.execute_input": "2025-07-30T21:46:44.710590Z",
     "iopub.status.busy": "2025-07-30T21:46:44.710085Z",
     "iopub.status.idle": "2025-07-30T21:46:45.150760Z",
     "shell.execute_reply": "2025-07-30T21:46:45.149686Z"
    },
    "papermill": {
     "duration": 0.46221,
     "end_time": "2025-07-30T21:46:45.153423",
     "exception": false,
     "start_time": "2025-07-30T21:46:44.691213",
     "status": "completed"
    },
    "tags": []
   },
   "outputs": [],
   "source": [
    "#def sample_by_year(df, training_size, random_state=42):\n",
    "#    if training_size == \"2014\":\n",
    "#        return df[df[\"year\"] == 2014].reset_index(drop=True)\n",
    "#    \n",
    "#    size_map = {\n",
    "#        \"25k\": 5000,\n",
    "#        \"5k\": 1000,\n",
    "#        \"1k\": 200\n",
    "#    }\n",
    "#\n",
    "#    if training_size not in size_map:\n",
    "#        return df.reset_index(drop=True)  # use all data\n",
    "#\n",
    "#    n_per_year = size_map[training_size]\n",
    "#    grouped = df.groupby(\"year\")\n",
    "#    sampled = grouped.apply(lambda x: x.sample(n=min(n_per_year, len(x)), random_state=random_state))\n",
    "#    return sampled.reset_index(drop=True)"
   ]
  },
  {
   "cell_type": "code",
   "execution_count": 25,
   "id": "6d931f52-beaf-43ff-9e78-9d44a448d54e",
   "metadata": {
    "execution": {
     "iopub.execute_input": "2025-07-30T21:46:45.210229Z",
     "iopub.status.busy": "2025-07-30T21:46:45.209529Z",
     "iopub.status.idle": "2025-07-30T21:46:45.215273Z",
     "shell.execute_reply": "2025-07-30T21:46:45.214175Z"
    },
    "papermill": {
     "duration": 0.033309,
     "end_time": "2025-07-30T21:46:45.218231",
     "exception": false,
     "start_time": "2025-07-30T21:46:45.184922",
     "status": "completed"
    },
    "tags": []
   },
   "outputs": [],
   "source": [
    "#siab_s = sample_by_year(siab, universe[\"training_size\"])"
   ]
  },
  {
   "cell_type": "code",
   "execution_count": 26,
   "id": "5db0a40e-a4e2-4920-be85-b12ae061d70d",
   "metadata": {
    "execution": {
     "iopub.execute_input": "2025-07-30T21:46:45.304279Z",
     "iopub.status.busy": "2025-07-30T21:46:45.303238Z",
     "iopub.status.idle": "2025-07-30T21:46:45.309670Z",
     "shell.execute_reply": "2025-07-30T21:46:45.308393Z"
    },
    "papermill": {
     "duration": 0.048561,
     "end_time": "2025-07-30T21:46:45.313011",
     "exception": false,
     "start_time": "2025-07-30T21:46:45.264450",
     "status": "completed"
    },
    "tags": []
   },
   "outputs": [],
   "source": [
    "#display(siab_s.groupby(\"year\").size())"
   ]
  },
  {
   "cell_type": "code",
   "execution_count": 27,
   "id": "e6c733c5",
   "metadata": {
    "execution": {
     "iopub.execute_input": "2025-07-30T21:46:45.380872Z",
     "iopub.status.busy": "2025-07-30T21:46:45.380178Z",
     "iopub.status.idle": "2025-07-30T21:46:45.537573Z",
     "shell.execute_reply": "2025-07-30T21:46:45.536125Z"
    },
    "papermill": {
     "duration": 0.195805,
     "end_time": "2025-07-30T21:46:45.540583",
     "exception": false,
     "start_time": "2025-07-30T21:46:45.344778",
     "status": "completed"
    },
    "tags": []
   },
   "outputs": [],
   "source": [
    "# Auxiliary data needed downstream in the pipeline\n",
    "\n",
    "org_train = X_train.copy()\n",
    "org_test = X_test.copy()\n",
    "org_calib = X_calib.copy()"
   ]
  },
  {
   "cell_type": "code",
   "execution_count": 28,
   "id": "1466abac-c6da-4492-a62f-4240ae3783af",
   "metadata": {
    "execution": {
     "iopub.execute_input": "2025-07-30T21:46:45.625576Z",
     "iopub.status.busy": "2025-07-30T21:46:45.624465Z",
     "iopub.status.idle": "2025-07-30T21:46:45.631634Z",
     "shell.execute_reply": "2025-07-30T21:46:45.630022Z"
    },
    "papermill": {
     "duration": 0.059512,
     "end_time": "2025-07-30T21:46:45.633573",
     "exception": false,
     "start_time": "2025-07-30T21:46:45.574061",
     "status": "completed"
    },
    "tags": []
   },
   "outputs": [],
   "source": [
    "# put in other script?\n",
    "# Group sizes\n",
    "\n",
    "#def calculate_percentages(df, df_name):\n",
    "#    total_entries = len(df)\n",
    "#\n",
    "#    female_pct = (df['frau1'] == 1).mean() * 100\n",
    "#    non_german_pct = ((df['maxdeutsch1'] == 0) & (df['maxdeutsch.Missing.'] == 0)).mean() * 100\n",
    "#    non_german_male_pct = ((df['frau1'] == 0) & (df['maxdeutsch1'] == 0) & (df['maxdeutsch.Missing.'] == 0)).mean() * 100\n",
    "#    non_german_female_pct = ((df['frau1'] == 1) & (df['maxdeutsch1'] == 0) & (df['maxdeutsch.Missing.'] == 0)).mean() * 100\n",
    "#\n",
    "#    print(f\"--- {df_name} ---\")\n",
    "#    print(f\"Female: {female_pct:.2f}%\")\n",
    "#    print(f\"Non-German: {non_german_pct:.2f}%\")\n",
    "#    print(f\"Non-German Male: {non_german_male_pct:.2f}%\")\n",
    "#    print(f\"Non-German Female: {non_german_female_pct:.2f}%\\n\")\n",
    "#\n",
    "## Calculate for each DataFrame\n",
    "#calculate_percentages(siab_calib, \"siab_calib\")\n",
    "#calculate_percentages(siab_test, \"siab_test\")\n",
    "#calculate_percentages(siab_train, \"siab_train\")"
   ]
  },
  {
   "cell_type": "markdown",
   "id": "0a4a1b33",
   "metadata": {
    "papermill": {
     "duration": 0.02095,
     "end_time": "2025-07-30T21:46:45.679741",
     "exception": false,
     "start_time": "2025-07-30T21:46:45.658791",
     "status": "completed"
    },
    "tags": []
   },
   "source": [
    "# Preprocessing Data"
   ]
  },
  {
   "cell_type": "code",
   "execution_count": 29,
   "id": "ca879031",
   "metadata": {
    "execution": {
     "iopub.execute_input": "2025-07-30T21:46:45.723833Z",
     "iopub.status.busy": "2025-07-30T21:46:45.723255Z",
     "iopub.status.idle": "2025-07-30T21:46:45.730271Z",
     "shell.execute_reply": "2025-07-30T21:46:45.728973Z"
    },
    "papermill": {
     "duration": 0.031625,
     "end_time": "2025-07-30T21:46:45.732156",
     "exception": false,
     "start_time": "2025-07-30T21:46:45.700531",
     "status": "completed"
    },
    "tags": []
   },
   "outputs": [],
   "source": [
    "# EXCLUDE PROTECTED FEATURES\n",
    "# ----------------------\n",
    "# \"exclude_features\": \"none\", # \"nationality\", \"sex\", \"nationality-sex\"\n",
    "\n",
    "excluded_features = universe[\"exclude_features\"].split(\"-\") # split, e.g.: \"nationality-sex\" -> [\"nationality\", \"sex\"]\n",
    "excluded_features_dictionary = {\n",
    "    \"nationality\": [\"maxdeutsch1\", \"maxdeutsch.Missing.\"],\n",
    "    \"sex\": [\"frau1\"],\n",
    "    \"age\": [\"age\"],\n",
    "}\n"
   ]
  },
  {
   "cell_type": "code",
   "execution_count": 30,
   "id": "b745ac60",
   "metadata": {
    "execution": {
     "iopub.execute_input": "2025-07-30T21:46:45.778624Z",
     "iopub.status.busy": "2025-07-30T21:46:45.777583Z",
     "iopub.status.idle": "2025-07-30T21:46:45.784143Z",
     "shell.execute_reply": "2025-07-30T21:46:45.782994Z"
    },
    "papermill": {
     "duration": 0.031437,
     "end_time": "2025-07-30T21:46:45.785996",
     "exception": false,
     "start_time": "2025-07-30T21:46:45.754559",
     "status": "completed"
    },
    "tags": []
   },
   "outputs": [],
   "source": [
    "# Code nice names to column names\n",
    "\n",
    "excluded_features_columns = [\n",
    "    excluded_features_dictionary[f] for f in excluded_features if len(f) > 0 and f != \"none\"\n",
    "]"
   ]
  },
  {
   "cell_type": "code",
   "execution_count": 31,
   "id": "f84f73a2",
   "metadata": {
    "execution": {
     "iopub.execute_input": "2025-07-30T21:46:45.832842Z",
     "iopub.status.busy": "2025-07-30T21:46:45.831976Z",
     "iopub.status.idle": "2025-07-30T21:46:45.840145Z",
     "shell.execute_reply": "2025-07-30T21:46:45.838946Z"
    },
    "papermill": {
     "duration": 0.032782,
     "end_time": "2025-07-30T21:46:45.842009",
     "exception": false,
     "start_time": "2025-07-30T21:46:45.809227",
     "status": "completed"
    },
    "tags": []
   },
   "outputs": [],
   "source": [
    "from utils import flatten_once\n",
    "\n",
    "excluded_features_columns = flatten_once(excluded_features_columns)"
   ]
  },
  {
   "cell_type": "code",
   "execution_count": 32,
   "id": "884dea22",
   "metadata": {
    "execution": {
     "iopub.execute_input": "2025-07-30T21:46:45.889786Z",
     "iopub.status.busy": "2025-07-30T21:46:45.888833Z",
     "iopub.status.idle": "2025-07-30T21:46:45.896146Z",
     "shell.execute_reply": "2025-07-30T21:46:45.894968Z"
    },
    "papermill": {
     "duration": 0.033838,
     "end_time": "2025-07-30T21:46:45.898250",
     "exception": false,
     "start_time": "2025-07-30T21:46:45.864412",
     "status": "completed"
    },
    "tags": []
   },
   "outputs": [],
   "source": [
    "if len(excluded_features_columns) > 0:\n",
    "    print(f\"Dropping features: {excluded_features_columns}\")\n",
    "    X_train.drop(excluded_features_columns, axis=1, inplace=True)"
   ]
  },
  {
   "cell_type": "code",
   "execution_count": 33,
   "id": "95ab8b16",
   "metadata": {
    "execution": {
     "iopub.execute_input": "2025-07-30T21:46:45.945611Z",
     "iopub.status.busy": "2025-07-30T21:46:45.944920Z",
     "iopub.status.idle": "2025-07-30T21:46:45.951526Z",
     "shell.execute_reply": "2025-07-30T21:46:45.950446Z"
    },
    "papermill": {
     "duration": 0.032122,
     "end_time": "2025-07-30T21:46:45.953179",
     "exception": false,
     "start_time": "2025-07-30T21:46:45.921057",
     "status": "completed"
    },
    "tags": []
   },
   "outputs": [],
   "source": [
    "if len(excluded_features_columns) > 0:\n",
    "    print(f\"Dropping features: {excluded_features_columns}\")\n",
    "    X_test.drop(excluded_features_columns, axis=1, inplace=True)"
   ]
  },
  {
   "cell_type": "code",
   "execution_count": 34,
   "id": "1853aaf5-fb9f-46cb-a2b5-8ea4ae2237e4",
   "metadata": {
    "execution": {
     "iopub.execute_input": "2025-07-30T21:46:46.001609Z",
     "iopub.status.busy": "2025-07-30T21:46:46.001072Z",
     "iopub.status.idle": "2025-07-30T21:46:46.007325Z",
     "shell.execute_reply": "2025-07-30T21:46:46.006293Z"
    },
    "papermill": {
     "duration": 0.034294,
     "end_time": "2025-07-30T21:46:46.009267",
     "exception": false,
     "start_time": "2025-07-30T21:46:45.974973",
     "status": "completed"
    },
    "tags": []
   },
   "outputs": [],
   "source": [
    "if len(excluded_features_columns) > 0:\n",
    "    print(f\"Dropping features: {excluded_features_columns}\")\n",
    "    X_calib.drop(excluded_features_columns, axis=1, inplace=True)"
   ]
  },
  {
   "cell_type": "code",
   "execution_count": 35,
   "id": "6727d079-03e5-481e-9d38-292a90b7a0a8",
   "metadata": {
    "execution": {
     "iopub.execute_input": "2025-07-30T21:46:46.057879Z",
     "iopub.status.busy": "2025-07-30T21:46:46.057083Z",
     "iopub.status.idle": "2025-07-30T21:46:46.062980Z",
     "shell.execute_reply": "2025-07-30T21:46:46.061856Z"
    },
    "papermill": {
     "duration": 0.032899,
     "end_time": "2025-07-30T21:46:46.065234",
     "exception": false,
     "start_time": "2025-07-30T21:46:46.032335",
     "status": "completed"
    },
    "tags": []
   },
   "outputs": [],
   "source": [
    "# SPLIT & STRATIFY DATA\n",
    "# ----------------------"
   ]
  },
  {
   "cell_type": "code",
   "execution_count": 36,
   "id": "76c4dc6d",
   "metadata": {
    "execution": {
     "iopub.execute_input": "2025-07-30T21:46:46.113581Z",
     "iopub.status.busy": "2025-07-30T21:46:46.112521Z",
     "iopub.status.idle": "2025-07-30T21:46:46.119633Z",
     "shell.execute_reply": "2025-07-30T21:46:46.118222Z"
    },
    "papermill": {
     "duration": 0.033375,
     "end_time": "2025-07-30T21:46:46.121698",
     "exception": false,
     "start_time": "2025-07-30T21:46:46.088323",
     "status": "completed"
    },
    "tags": []
   },
   "outputs": [],
   "source": [
    "# EXCLUDE CERTAIN SUBGROUPS\n",
    "# ----------------------\n",
    "\n",
    "mode = universe.get(\"exclude_subgroups\", \"keep-all\") \n",
    "# Fetches the exclude_subgroups setting from the universe dict.\n",
    "# Defaults to \"keep-all\" if the key is missing."
   ]
  },
  {
   "cell_type": "code",
   "execution_count": 37,
   "id": "21994072",
   "metadata": {
    "execution": {
     "iopub.execute_input": "2025-07-30T21:46:46.172776Z",
     "iopub.status.busy": "2025-07-30T21:46:46.171600Z",
     "iopub.status.idle": "2025-07-30T21:46:46.180602Z",
     "shell.execute_reply": "2025-07-30T21:46:46.179284Z"
    },
    "papermill": {
     "duration": 0.034989,
     "end_time": "2025-07-30T21:46:46.182886",
     "exception": false,
     "start_time": "2025-07-30T21:46:46.147897",
     "status": "completed"
    },
    "tags": []
   },
   "outputs": [],
   "source": [
    "if mode == \"keep-all\":\n",
    "    keep_mask = pd.Series(True, index=org_train.index)\n",
    "\n",
    "# org_train contains the original feature columns from features_org (in Simson)\n",
    "# features_org contains unprocessed features, for me X_train at beginning ???\n",
    "# For keep-all, creates a boolean Series (keep_mask) of all True, so no rows are removed.\n",
    "\n",
    "elif mode == \"drop-non-german\":\n",
    "    keep_mask = org_train[\"maxdeutsch1\"] == 1 # ??? what about missing values?\n",
    "\n",
    "else:\n",
    "    raise ValueError(f\"Unsupported mode for exclude_subgroups: {mode}\")\n"
   ]
  },
  {
   "cell_type": "code",
   "execution_count": 38,
   "id": "71651440",
   "metadata": {
    "execution": {
     "iopub.execute_input": "2025-07-30T21:46:46.239549Z",
     "iopub.status.busy": "2025-07-30T21:46:46.239112Z",
     "iopub.status.idle": "2025-07-30T21:46:46.246376Z",
     "shell.execute_reply": "2025-07-30T21:46:46.245197Z"
    },
    "papermill": {
     "duration": 0.039685,
     "end_time": "2025-07-30T21:46:46.249324",
     "exception": false,
     "start_time": "2025-07-30T21:46:46.209639",
     "status": "completed"
    },
    "tags": []
   },
   "outputs": [],
   "source": [
    "n_drop = (~keep_mask).sum() # Calculates how many rows are set to be dropped\n",
    "if n_drop > 0:\n",
    "    pct = n_drop / len(keep_mask) * 100\n",
    "    print(f\"Dropping {n_drop} rows ({pct:.2f}%) where mode='{mode}'\")"
   ]
  },
  {
   "cell_type": "code",
   "execution_count": 39,
   "id": "5fb8eee5",
   "metadata": {
    "execution": {
     "iopub.execute_input": "2025-07-30T21:46:46.303509Z",
     "iopub.status.busy": "2025-07-30T21:46:46.303078Z",
     "iopub.status.idle": "2025-07-30T21:46:46.309817Z",
     "shell.execute_reply": "2025-07-30T21:46:46.308733Z"
    },
    "papermill": {
     "duration": 0.035218,
     "end_time": "2025-07-30T21:46:46.311477",
     "exception": false,
     "start_time": "2025-07-30T21:46:46.276259",
     "status": "completed"
    },
    "tags": []
   },
   "outputs": [],
   "source": [
    "X_train = X_train[keep_mask]"
   ]
  },
  {
   "cell_type": "code",
   "execution_count": 40,
   "id": "b202bb3a",
   "metadata": {
    "execution": {
     "iopub.execute_input": "2025-07-30T21:46:46.358344Z",
     "iopub.status.busy": "2025-07-30T21:46:46.357918Z",
     "iopub.status.idle": "2025-07-30T21:46:46.364308Z",
     "shell.execute_reply": "2025-07-30T21:46:46.363205Z"
    },
    "papermill": {
     "duration": 0.036696,
     "end_time": "2025-07-30T21:46:46.370494",
     "exception": false,
     "start_time": "2025-07-30T21:46:46.333798",
     "status": "completed"
    },
    "tags": []
   },
   "outputs": [],
   "source": [
    "y_train = y_train[keep_mask]"
   ]
  },
  {
   "cell_type": "markdown",
   "id": "493e2ac3",
   "metadata": {
    "papermill": {
     "duration": 0.035081,
     "end_time": "2025-07-30T21:46:46.449596",
     "exception": false,
     "start_time": "2025-07-30T21:46:46.414515",
     "status": "completed"
    },
    "tags": []
   },
   "source": [
    "# Model Training"
   ]
  },
  {
   "cell_type": "code",
   "execution_count": 41,
   "id": "679e1268",
   "metadata": {
    "execution": {
     "iopub.execute_input": "2025-07-30T21:46:46.525356Z",
     "iopub.status.busy": "2025-07-30T21:46:46.524936Z",
     "iopub.status.idle": "2025-07-30T21:46:46.706067Z",
     "shell.execute_reply": "2025-07-30T21:46:46.704930Z"
    },
    "papermill": {
     "duration": 0.21549,
     "end_time": "2025-07-30T21:46:46.708011",
     "exception": false,
     "start_time": "2025-07-30T21:46:46.492521",
     "status": "completed"
    },
    "tags": []
   },
   "outputs": [],
   "source": [
    "from sklearn.linear_model import LogisticRegression\n",
    "from sklearn.ensemble import GradientBoostingClassifier, RandomForestClassifier\n",
    "\n",
    "if (universe[\"model\"] == \"logreg\"):\n",
    "    model = LogisticRegression() #penalty=\"none\") #, solver=\"newton-cg\", max_iter=1) # include random_state=19 ?\n",
    "elif (universe[\"model\"] == \"penalized_logreg\"):\n",
    "    model = LogisticRegression(penalty=\"l2\", C=1.0) #, solver=\"newton-cg\", max_iter=1)\n",
    "elif (universe[\"model\"] == \"rf\"):\n",
    "    model = RandomForestClassifier(n_estimators=100, n_jobs=-1)\n",
    "elif (universe[\"model\"] == \"gbm\"):\n",
    "    model = GradientBoostingClassifier()\n",
    "elif (universe[\"model\"] == \"elasticnet\"):\n",
    "    model = LogisticRegression(penalty = 'elasticnet', solver = 'saga', l1_ratio = 0.5, max_iter=5000) # which solver to use?\n",
    "else:\n",
    "    raise \"Unsupported universe.model\""
   ]
  },
  {
   "cell_type": "code",
   "execution_count": 42,
   "id": "0cc8f744",
   "metadata": {
    "execution": {
     "iopub.execute_input": "2025-07-30T21:46:46.790308Z",
     "iopub.status.busy": "2025-07-30T21:46:46.789794Z",
     "iopub.status.idle": "2025-07-30T21:46:46.797379Z",
     "shell.execute_reply": "2025-07-30T21:46:46.796240Z"
    },
    "papermill": {
     "duration": 0.060626,
     "end_time": "2025-07-30T21:46:46.801525",
     "exception": false,
     "start_time": "2025-07-30T21:46:46.740899",
     "status": "completed"
    },
    "tags": []
   },
   "outputs": [],
   "source": [
    "import numpy as np\n",
    "from sklearn.pipeline import Pipeline\n",
    "from sklearn.preprocessing import StandardScaler\n",
    "\n",
    "model = Pipeline([\n",
    "    #(\"continuous_processor\", continuous_processor),\n",
    "    #(\"categorical_preprocessor\", categorical_preprocessor),\n",
    "    (\"scale\", StandardScaler() if universe[\"scale\"] == \"scale\" else None), \n",
    "    (\"model\", model),\n",
    "])"
   ]
  },
  {
   "cell_type": "code",
   "execution_count": 43,
   "id": "9442c04d",
   "metadata": {
    "execution": {
     "iopub.execute_input": "2025-07-30T21:46:46.856513Z",
     "iopub.status.busy": "2025-07-30T21:46:46.855992Z",
     "iopub.status.idle": "2025-07-30T21:46:47.899287Z",
     "shell.execute_reply": "2025-07-30T21:46:47.898295Z"
    },
    "papermill": {
     "duration": 1.072364,
     "end_time": "2025-07-30T21:46:47.901026",
     "exception": false,
     "start_time": "2025-07-30T21:46:46.828662",
     "status": "completed"
    },
    "tags": []
   },
   "outputs": [
    {
     "data": {
      "text/html": [
       "<style>#sk-container-id-1 {color: black;background-color: white;}#sk-container-id-1 pre{padding: 0;}#sk-container-id-1 div.sk-toggleable {background-color: white;}#sk-container-id-1 label.sk-toggleable__label {cursor: pointer;display: block;width: 100%;margin-bottom: 0;padding: 0.3em;box-sizing: border-box;text-align: center;}#sk-container-id-1 label.sk-toggleable__label-arrow:before {content: \"▸\";float: left;margin-right: 0.25em;color: #696969;}#sk-container-id-1 label.sk-toggleable__label-arrow:hover:before {color: black;}#sk-container-id-1 div.sk-estimator:hover label.sk-toggleable__label-arrow:before {color: black;}#sk-container-id-1 div.sk-toggleable__content {max-height: 0;max-width: 0;overflow: hidden;text-align: left;background-color: #f0f8ff;}#sk-container-id-1 div.sk-toggleable__content pre {margin: 0.2em;color: black;border-radius: 0.25em;background-color: #f0f8ff;}#sk-container-id-1 input.sk-toggleable__control:checked~div.sk-toggleable__content {max-height: 200px;max-width: 100%;overflow: auto;}#sk-container-id-1 input.sk-toggleable__control:checked~label.sk-toggleable__label-arrow:before {content: \"▾\";}#sk-container-id-1 div.sk-estimator input.sk-toggleable__control:checked~label.sk-toggleable__label {background-color: #d4ebff;}#sk-container-id-1 div.sk-label input.sk-toggleable__control:checked~label.sk-toggleable__label {background-color: #d4ebff;}#sk-container-id-1 input.sk-hidden--visually {border: 0;clip: rect(1px 1px 1px 1px);clip: rect(1px, 1px, 1px, 1px);height: 1px;margin: -1px;overflow: hidden;padding: 0;position: absolute;width: 1px;}#sk-container-id-1 div.sk-estimator {font-family: monospace;background-color: #f0f8ff;border: 1px dotted black;border-radius: 0.25em;box-sizing: border-box;margin-bottom: 0.5em;}#sk-container-id-1 div.sk-estimator:hover {background-color: #d4ebff;}#sk-container-id-1 div.sk-parallel-item::after {content: \"\";width: 100%;border-bottom: 1px solid gray;flex-grow: 1;}#sk-container-id-1 div.sk-label:hover label.sk-toggleable__label {background-color: #d4ebff;}#sk-container-id-1 div.sk-serial::before {content: \"\";position: absolute;border-left: 1px solid gray;box-sizing: border-box;top: 0;bottom: 0;left: 50%;z-index: 0;}#sk-container-id-1 div.sk-serial {display: flex;flex-direction: column;align-items: center;background-color: white;padding-right: 0.2em;padding-left: 0.2em;position: relative;}#sk-container-id-1 div.sk-item {position: relative;z-index: 1;}#sk-container-id-1 div.sk-parallel {display: flex;align-items: stretch;justify-content: center;background-color: white;position: relative;}#sk-container-id-1 div.sk-item::before, #sk-container-id-1 div.sk-parallel-item::before {content: \"\";position: absolute;border-left: 1px solid gray;box-sizing: border-box;top: 0;bottom: 0;left: 50%;z-index: -1;}#sk-container-id-1 div.sk-parallel-item {display: flex;flex-direction: column;z-index: 1;position: relative;background-color: white;}#sk-container-id-1 div.sk-parallel-item:first-child::after {align-self: flex-end;width: 50%;}#sk-container-id-1 div.sk-parallel-item:last-child::after {align-self: flex-start;width: 50%;}#sk-container-id-1 div.sk-parallel-item:only-child::after {width: 0;}#sk-container-id-1 div.sk-dashed-wrapped {border: 1px dashed gray;margin: 0 0.4em 0.5em 0.4em;box-sizing: border-box;padding-bottom: 0.4em;background-color: white;}#sk-container-id-1 div.sk-label label {font-family: monospace;font-weight: bold;display: inline-block;line-height: 1.2em;}#sk-container-id-1 div.sk-label-container {text-align: center;}#sk-container-id-1 div.sk-container {/* jupyter's `normalize.less` sets `[hidden] { display: none; }` but bootstrap.min.css set `[hidden] { display: none !important; }` so we also need the `!important` here to be able to override the default hidden behavior on the sphinx rendered scikit-learn.org. See: https://github.com/scikit-learn/scikit-learn/issues/21755 */display: inline-block !important;position: relative;}#sk-container-id-1 div.sk-text-repr-fallback {display: none;}</style><div id=\"sk-container-id-1\" class=\"sk-top-container\"><div class=\"sk-text-repr-fallback\"><pre>Pipeline(steps=[(&#x27;scale&#x27;, StandardScaler()),\n",
       "                (&#x27;model&#x27;, GradientBoostingClassifier())])</pre><b>In a Jupyter environment, please rerun this cell to show the HTML representation or trust the notebook. <br />On GitHub, the HTML representation is unable to render, please try loading this page with nbviewer.org.</b></div><div class=\"sk-container\" hidden><div class=\"sk-item sk-dashed-wrapped\"><div class=\"sk-label-container\"><div class=\"sk-label sk-toggleable\"><input class=\"sk-toggleable__control sk-hidden--visually\" id=\"sk-estimator-id-1\" type=\"checkbox\" ><label for=\"sk-estimator-id-1\" class=\"sk-toggleable__label sk-toggleable__label-arrow\">Pipeline</label><div class=\"sk-toggleable__content\"><pre>Pipeline(steps=[(&#x27;scale&#x27;, StandardScaler()),\n",
       "                (&#x27;model&#x27;, GradientBoostingClassifier())])</pre></div></div></div><div class=\"sk-serial\"><div class=\"sk-item\"><div class=\"sk-estimator sk-toggleable\"><input class=\"sk-toggleable__control sk-hidden--visually\" id=\"sk-estimator-id-2\" type=\"checkbox\" ><label for=\"sk-estimator-id-2\" class=\"sk-toggleable__label sk-toggleable__label-arrow\">StandardScaler</label><div class=\"sk-toggleable__content\"><pre>StandardScaler()</pre></div></div></div><div class=\"sk-item\"><div class=\"sk-estimator sk-toggleable\"><input class=\"sk-toggleable__control sk-hidden--visually\" id=\"sk-estimator-id-3\" type=\"checkbox\" ><label for=\"sk-estimator-id-3\" class=\"sk-toggleable__label sk-toggleable__label-arrow\">GradientBoostingClassifier</label><div class=\"sk-toggleable__content\"><pre>GradientBoostingClassifier()</pre></div></div></div></div></div></div></div>"
      ],
      "text/plain": [
       "Pipeline(steps=[('scale', StandardScaler()),\n",
       "                ('model', GradientBoostingClassifier())])"
      ]
     },
     "execution_count": 43,
     "metadata": {},
     "output_type": "execute_result"
    }
   ],
   "source": [
    "model.fit(X_train, y_train.values.ravel())"
   ]
  },
  {
   "cell_type": "code",
   "execution_count": 44,
   "id": "af59f8c0",
   "metadata": {
    "execution": {
     "iopub.execute_input": "2025-07-30T21:46:47.951877Z",
     "iopub.status.busy": "2025-07-30T21:46:47.950971Z",
     "iopub.status.idle": "2025-07-30T21:46:47.956726Z",
     "shell.execute_reply": "2025-07-30T21:46:47.955640Z"
    },
    "papermill": {
     "duration": 0.031296,
     "end_time": "2025-07-30T21:46:47.957979",
     "exception": false,
     "start_time": "2025-07-30T21:46:47.926683",
     "status": "completed"
    },
    "tags": []
   },
   "outputs": [],
   "source": [
    "from fairness_multiverse.universe import predict_w_threshold"
   ]
  },
  {
   "cell_type": "code",
   "execution_count": 45,
   "id": "a7cf2e16",
   "metadata": {
    "execution": {
     "iopub.execute_input": "2025-07-30T21:46:47.991552Z",
     "iopub.status.busy": "2025-07-30T21:46:47.990935Z",
     "iopub.status.idle": "2025-07-30T21:46:48.752715Z",
     "shell.execute_reply": "2025-07-30T21:46:48.751962Z"
    },
    "papermill": {
     "duration": 0.783293,
     "end_time": "2025-07-30T21:46:48.754015",
     "exception": false,
     "start_time": "2025-07-30T21:46:47.970722",
     "status": "completed"
    },
    "tags": []
   },
   "outputs": [
    {
     "data": {
      "text/plain": [
       "0.8440307658009141"
      ]
     },
     "execution_count": 45,
     "metadata": {},
     "output_type": "execute_result"
    }
   ],
   "source": [
    "probs_test = model.predict_proba(X_test)\n",
    "\n",
    "'''\n",
    "Below code returns a boolean array (or binary 0/1 array depending on how it’s used) where each element \n",
    "is True if the probability of class 1 is greater than or equal to the threshold, and False otherwise.\n",
    "'''\n",
    "y_pred_default = predict_w_threshold(probs_test, 0.5)\n",
    "\n",
    "from sklearn.metrics import accuracy_score\n",
    "\n",
    "# Naive prediction\n",
    "accuracy_score(y_true = y_true, y_pred = y_pred_default)"
   ]
  },
  {
   "cell_type": "code",
   "execution_count": 46,
   "id": "081964c3",
   "metadata": {
    "execution": {
     "iopub.execute_input": "2025-07-30T21:46:48.782964Z",
     "iopub.status.busy": "2025-07-30T21:46:48.781842Z",
     "iopub.status.idle": "2025-07-30T21:46:49.453356Z",
     "shell.execute_reply": "2025-07-30T21:46:49.452622Z"
    },
    "papermill": {
     "duration": 0.687966,
     "end_time": "2025-07-30T21:46:49.454946",
     "exception": false,
     "start_time": "2025-07-30T21:46:48.766980",
     "status": "completed"
    },
    "tags": []
   },
   "outputs": [
    {
     "data": {
      "text/plain": [
       "array([0, 0, 0, ..., 1, 0, 0])"
      ]
     },
     "execution_count": 46,
     "metadata": {},
     "output_type": "execute_result"
    }
   ],
   "source": [
    "model.predict(X_test)"
   ]
  },
  {
   "cell_type": "markdown",
   "id": "56c9705b",
   "metadata": {
    "papermill": {
     "duration": 0.024253,
     "end_time": "2025-07-30T21:46:49.502103",
     "exception": false,
     "start_time": "2025-07-30T21:46:49.477850",
     "status": "completed"
    },
    "tags": []
   },
   "source": [
    "# Conformal Prediction"
   ]
  },
  {
   "cell_type": "code",
   "execution_count": 47,
   "id": "160ec6ff",
   "metadata": {
    "execution": {
     "iopub.execute_input": "2025-07-30T21:46:49.549441Z",
     "iopub.status.busy": "2025-07-30T21:46:49.548957Z",
     "iopub.status.idle": "2025-07-30T21:46:49.555055Z",
     "shell.execute_reply": "2025-07-30T21:46:49.553653Z"
    },
    "papermill": {
     "duration": 0.031368,
     "end_time": "2025-07-30T21:46:49.557086",
     "exception": false,
     "start_time": "2025-07-30T21:46:49.525718",
     "status": "completed"
    },
    "tags": []
   },
   "outputs": [],
   "source": [
    "# Miscoverage level for conformal prediction (10% allowed error rate => 90% target coverage)\n",
    "alpha = 0.1"
   ]
  },
  {
   "cell_type": "code",
   "execution_count": 48,
   "id": "eadf4555-3dd3-440e-8e35-f82a4ad9f855",
   "metadata": {
    "execution": {
     "iopub.execute_input": "2025-07-30T21:46:49.624436Z",
     "iopub.status.busy": "2025-07-30T21:46:49.623865Z",
     "iopub.status.idle": "2025-07-30T21:46:50.344314Z",
     "shell.execute_reply": "2025-07-30T21:46:50.343322Z"
    },
    "papermill": {
     "duration": 0.755503,
     "end_time": "2025-07-30T21:46:50.345877",
     "exception": false,
     "start_time": "2025-07-30T21:46:49.590374",
     "status": "completed"
    },
    "tags": []
   },
   "outputs": [],
   "source": [
    "probs_calib = model.predict_proba(X_calib)"
   ]
  },
  {
   "cell_type": "code",
   "execution_count": 49,
   "id": "2ed93547-6d5d-4983-9b36-1ecb300da49a",
   "metadata": {
    "execution": {
     "iopub.execute_input": "2025-07-30T21:46:50.393373Z",
     "iopub.status.busy": "2025-07-30T21:46:50.392877Z",
     "iopub.status.idle": "2025-07-30T21:46:50.398075Z",
     "shell.execute_reply": "2025-07-30T21:46:50.397342Z"
    },
    "papermill": {
     "duration": 0.034355,
     "end_time": "2025-07-30T21:46:50.399748",
     "exception": false,
     "start_time": "2025-07-30T21:46:50.365393",
     "status": "completed"
    },
    "tags": []
   },
   "outputs": [],
   "source": [
    "y_calib = y_calib.values.ravel().astype(int)"
   ]
  },
  {
   "cell_type": "code",
   "execution_count": 50,
   "id": "65d1320d-f588-4b38-9072-62af1ae97f7d",
   "metadata": {
    "execution": {
     "iopub.execute_input": "2025-07-30T21:46:50.451648Z",
     "iopub.status.busy": "2025-07-30T21:46:50.451143Z",
     "iopub.status.idle": "2025-07-30T21:46:50.459016Z",
     "shell.execute_reply": "2025-07-30T21:46:50.457927Z"
    },
    "papermill": {
     "duration": 0.035657,
     "end_time": "2025-07-30T21:46:50.460955",
     "exception": false,
     "start_time": "2025-07-30T21:46:50.425298",
     "status": "completed"
    },
    "tags": []
   },
   "outputs": [],
   "source": [
    "from fairness_multiverse.conformal import compute_nc_scores\n",
    "\n",
    "# Compute nonconformity scores on calibration set (1 - probability of true class)\n",
    "nc_scores = compute_nc_scores(probs_calib, y_calib)"
   ]
  },
  {
   "cell_type": "code",
   "execution_count": 51,
   "id": "df3b8ca3-53b7-43d5-9667-7c85da7aeda2",
   "metadata": {
    "execution": {
     "iopub.execute_input": "2025-07-30T21:46:50.509031Z",
     "iopub.status.busy": "2025-07-30T21:46:50.508104Z",
     "iopub.status.idle": "2025-07-30T21:46:50.514148Z",
     "shell.execute_reply": "2025-07-30T21:46:50.513342Z"
    },
    "papermill": {
     "duration": 0.030901,
     "end_time": "2025-07-30T21:46:50.515636",
     "exception": false,
     "start_time": "2025-07-30T21:46:50.484735",
     "status": "completed"
    },
    "tags": []
   },
   "outputs": [],
   "source": [
    "from fairness_multiverse.conformal import find_threshold\n",
    "\n",
    "# Find conformal threshold q_hat for the given alpha (split conformal method)\n",
    "q_hat = find_threshold(nc_scores, alpha)"
   ]
  },
  {
   "cell_type": "code",
   "execution_count": 52,
   "id": "4d29e6c1-0ef6-4aa4-b8fe-4fe79b0d033a",
   "metadata": {
    "execution": {
     "iopub.execute_input": "2025-07-30T21:46:50.567979Z",
     "iopub.status.busy": "2025-07-30T21:46:50.567133Z",
     "iopub.status.idle": "2025-07-30T21:46:50.584562Z",
     "shell.execute_reply": "2025-07-30T21:46:50.583384Z"
    },
    "papermill": {
     "duration": 0.04757,
     "end_time": "2025-07-30T21:46:50.586663",
     "exception": false,
     "start_time": "2025-07-30T21:46:50.539093",
     "status": "completed"
    },
    "tags": []
   },
   "outputs": [
    {
     "data": {
      "text/plain": [
       "0.7460890100709038"
      ]
     },
     "execution_count": 52,
     "metadata": {},
     "output_type": "execute_result"
    }
   ],
   "source": [
    "q_hat"
   ]
  },
  {
   "cell_type": "code",
   "execution_count": 53,
   "id": "92460794-cdac-4be2-ba28-f28c0515a6fb",
   "metadata": {
    "execution": {
     "iopub.execute_input": "2025-07-30T21:46:50.639670Z",
     "iopub.status.busy": "2025-07-30T21:46:50.639160Z",
     "iopub.status.idle": "2025-07-30T21:46:52.223268Z",
     "shell.execute_reply": "2025-07-30T21:46:52.222211Z"
    },
    "papermill": {
     "duration": 1.611833,
     "end_time": "2025-07-30T21:46:52.225359",
     "exception": false,
     "start_time": "2025-07-30T21:46:50.613526",
     "status": "completed"
    },
    "tags": []
   },
   "outputs": [],
   "source": [
    "from fairness_multiverse.conformal import predict_conformal_sets\n",
    "\n",
    "# Generate prediction sets for each test example\n",
    "pred_sets = predict_conformal_sets(model, X_test, q_hat)"
   ]
  },
  {
   "cell_type": "code",
   "execution_count": 54,
   "id": "d90c9a65-e6db-4f5d-80cd-e68fb7e46829",
   "metadata": {
    "execution": {
     "iopub.execute_input": "2025-07-30T21:46:52.284686Z",
     "iopub.status.busy": "2025-07-30T21:46:52.283889Z",
     "iopub.status.idle": "2025-07-30T21:46:52.290319Z",
     "shell.execute_reply": "2025-07-30T21:46:52.289225Z"
    },
    "papermill": {
     "duration": 0.038091,
     "end_time": "2025-07-30T21:46:52.292310",
     "exception": false,
     "start_time": "2025-07-30T21:46:52.254219",
     "status": "completed"
    },
    "tags": []
   },
   "outputs": [],
   "source": [
    "y_true = y_true.squeeze()"
   ]
  },
  {
   "cell_type": "code",
   "execution_count": 55,
   "id": "3a58a54a-1e68-46b9-927a-df01f18aebc8",
   "metadata": {
    "execution": {
     "iopub.execute_input": "2025-07-30T21:46:52.353502Z",
     "iopub.status.busy": "2025-07-30T21:46:52.352797Z",
     "iopub.status.idle": "2025-07-30T21:46:53.275544Z",
     "shell.execute_reply": "2025-07-30T21:46:53.274800Z"
    },
    "papermill": {
     "duration": 0.955288,
     "end_time": "2025-07-30T21:46:53.277296",
     "exception": false,
     "start_time": "2025-07-30T21:46:52.322008",
     "status": "completed"
    },
    "tags": []
   },
   "outputs": [],
   "source": [
    "from fairness_multiverse.conformal import evaluate_sets\n",
    "\n",
    "# Evaluate coverage and average set size on test data\n",
    "metrics = evaluate_sets(pred_sets, y_true)"
   ]
  },
  {
   "cell_type": "markdown",
   "id": "2b569c12-9aaa-4c88-98c9-bbcd0cf3ebb8",
   "metadata": {
    "papermill": {
     "duration": 0.023543,
     "end_time": "2025-07-30T21:46:53.332864",
     "exception": false,
     "start_time": "2025-07-30T21:46:53.309321",
     "status": "completed"
    },
    "tags": []
   },
   "source": [
    "# CP Metrics"
   ]
  },
  {
   "cell_type": "code",
   "execution_count": 56,
   "id": "5ce0a5cb-201f-45a0-ade5-94c7f0bd6095",
   "metadata": {
    "execution": {
     "iopub.execute_input": "2025-07-30T21:46:53.385797Z",
     "iopub.status.busy": "2025-07-30T21:46:53.385203Z",
     "iopub.status.idle": "2025-07-30T21:46:53.392707Z",
     "shell.execute_reply": "2025-07-30T21:46:53.391703Z"
    },
    "papermill": {
     "duration": 0.035542,
     "end_time": "2025-07-30T21:46:53.394432",
     "exception": false,
     "start_time": "2025-07-30T21:46:53.358890",
     "status": "completed"
    },
    "tags": []
   },
   "outputs": [
    {
     "data": {
      "text/plain": [
       "{'coverage': 0.9126964663917067, 'avg_size': 1.1761787983502396}"
      ]
     },
     "execution_count": 56,
     "metadata": {},
     "output_type": "execute_result"
    }
   ],
   "source": [
    "metrics"
   ]
  },
  {
   "cell_type": "code",
   "execution_count": 57,
   "id": "9b9a838d-31c9-430b-ae14-12baee460d17",
   "metadata": {
    "execution": {
     "iopub.execute_input": "2025-07-30T21:46:53.443990Z",
     "iopub.status.busy": "2025-07-30T21:46:53.443144Z",
     "iopub.status.idle": "2025-07-30T21:46:53.450149Z",
     "shell.execute_reply": "2025-07-30T21:46:53.449255Z"
    },
    "papermill": {
     "duration": 0.032648,
     "end_time": "2025-07-30T21:46:53.451677",
     "exception": false,
     "start_time": "2025-07-30T21:46:53.419029",
     "status": "completed"
    },
    "tags": []
   },
   "outputs": [],
   "source": [
    "example_universe = universe.copy()\n",
    "universe_training_year = example_universe.get(\"training_year\")\n",
    "universe_training_size = example_universe.get(\"training_size\")\n",
    "universe_scale = example_universe.get(\"scale\")\n",
    "universe_model = example_universe.get(\"model\")\n",
    "universe_exclude_features = example_universe.get(\"exclude_features\")\n",
    "universe_exclude_subgroups = example_universe.get(\"exclude_subgroups\")"
   ]
  },
  {
   "cell_type": "code",
   "execution_count": 58,
   "id": "f4b6a8ac-9dc0-4245-8a91-5b3b5999c4f9",
   "metadata": {
    "execution": {
     "iopub.execute_input": "2025-07-30T21:46:53.501542Z",
     "iopub.status.busy": "2025-07-30T21:46:53.501069Z",
     "iopub.status.idle": "2025-07-30T21:46:53.507742Z",
     "shell.execute_reply": "2025-07-30T21:46:53.506825Z"
    },
    "papermill": {
     "duration": 0.033531,
     "end_time": "2025-07-30T21:46:53.509409",
     "exception": false,
     "start_time": "2025-07-30T21:46:53.475878",
     "status": "completed"
    },
    "tags": []
   },
   "outputs": [],
   "source": [
    "cp_metrics_dict = {\n",
    "    \"universe_id\": [universe_id],\n",
    "    \"universe_training_year\": [universe_training_year],\n",
    "    \"universe_training_size\": [universe_training_size],\n",
    "    \"universe_scale\": [universe_scale],\n",
    "    \"universe_model\": [universe_model],\n",
    "    \"universe_exclude_features\": [universe_exclude_features],\n",
    "    \"universe_exclude_subgroups\": [universe_exclude_subgroups],\n",
    "    \"q_hat\": [q_hat],\n",
    "    \"coverage\": [metrics[\"coverage\"]],\n",
    "    \"avg_size\": [metrics[\"avg_size\"]],\n",
    "}"
   ]
  },
  {
   "cell_type": "code",
   "execution_count": 59,
   "id": "908acbb1-0371-4915-85ca-3fa520d2efe2",
   "metadata": {
    "execution": {
     "iopub.execute_input": "2025-07-30T21:46:53.568109Z",
     "iopub.status.busy": "2025-07-30T21:46:53.567201Z",
     "iopub.status.idle": "2025-07-30T21:46:53.575546Z",
     "shell.execute_reply": "2025-07-30T21:46:53.574604Z"
    },
    "papermill": {
     "duration": 0.038775,
     "end_time": "2025-07-30T21:46:53.577248",
     "exception": false,
     "start_time": "2025-07-30T21:46:53.538473",
     "status": "completed"
    },
    "tags": []
   },
   "outputs": [
    {
     "data": {
      "text/plain": [
       "{'universe_id': ['1a8f3f76f9fb48ae8e7626065b1276b1'],\n",
       " 'universe_training_year': ['2010_14'],\n",
       " 'universe_training_size': ['1k'],\n",
       " 'universe_scale': ['scale'],\n",
       " 'universe_model': ['gbm'],\n",
       " 'universe_exclude_features': ['none'],\n",
       " 'universe_exclude_subgroups': ['keep-all'],\n",
       " 'q_hat': [0.7460890100709038],\n",
       " 'coverage': [0.9126964663917067],\n",
       " 'avg_size': [1.1761787983502396]}"
      ]
     },
     "execution_count": 59,
     "metadata": {},
     "output_type": "execute_result"
    }
   ],
   "source": [
    "cp_metrics_dict"
   ]
  },
  {
   "cell_type": "code",
   "execution_count": 60,
   "id": "33007efc-14e9-4ec6-97ac-56a455c82265",
   "metadata": {
    "execution": {
     "iopub.execute_input": "2025-07-30T21:46:53.628020Z",
     "iopub.status.busy": "2025-07-30T21:46:53.627318Z",
     "iopub.status.idle": "2025-07-30T21:46:53.634700Z",
     "shell.execute_reply": "2025-07-30T21:46:53.633739Z"
    },
    "papermill": {
     "duration": 0.034519,
     "end_time": "2025-07-30T21:46:53.636546",
     "exception": false,
     "start_time": "2025-07-30T21:46:53.602027",
     "status": "completed"
    },
    "tags": []
   },
   "outputs": [],
   "source": [
    "cp_metrics_df = pd.DataFrame(cp_metrics_dict)"
   ]
  },
  {
   "cell_type": "code",
   "execution_count": 61,
   "id": "db12611b-57b2-4910-b9d0-355adfd6e7bf",
   "metadata": {
    "execution": {
     "iopub.execute_input": "2025-07-30T21:46:53.687227Z",
     "iopub.status.busy": "2025-07-30T21:46:53.686534Z",
     "iopub.status.idle": "2025-07-30T21:46:53.706135Z",
     "shell.execute_reply": "2025-07-30T21:46:53.705040Z"
    },
    "papermill": {
     "duration": 0.046592,
     "end_time": "2025-07-30T21:46:53.707666",
     "exception": false,
     "start_time": "2025-07-30T21:46:53.661074",
     "status": "completed"
    },
    "tags": []
   },
   "outputs": [
    {
     "data": {
      "text/html": [
       "<div>\n",
       "<style scoped>\n",
       "    .dataframe tbody tr th:only-of-type {\n",
       "        vertical-align: middle;\n",
       "    }\n",
       "\n",
       "    .dataframe tbody tr th {\n",
       "        vertical-align: top;\n",
       "    }\n",
       "\n",
       "    .dataframe thead th {\n",
       "        text-align: right;\n",
       "    }\n",
       "</style>\n",
       "<table border=\"1\" class=\"dataframe\">\n",
       "  <thead>\n",
       "    <tr style=\"text-align: right;\">\n",
       "      <th></th>\n",
       "      <th>universe_id</th>\n",
       "      <th>universe_training_year</th>\n",
       "      <th>universe_training_size</th>\n",
       "      <th>universe_scale</th>\n",
       "      <th>universe_model</th>\n",
       "      <th>universe_exclude_features</th>\n",
       "      <th>universe_exclude_subgroups</th>\n",
       "      <th>q_hat</th>\n",
       "      <th>coverage</th>\n",
       "      <th>avg_size</th>\n",
       "    </tr>\n",
       "  </thead>\n",
       "  <tbody>\n",
       "    <tr>\n",
       "      <th>0</th>\n",
       "      <td>1a8f3f76f9fb48ae8e7626065b1276b1</td>\n",
       "      <td>2010_14</td>\n",
       "      <td>1k</td>\n",
       "      <td>scale</td>\n",
       "      <td>gbm</td>\n",
       "      <td>none</td>\n",
       "      <td>keep-all</td>\n",
       "      <td>0.746089</td>\n",
       "      <td>0.912696</td>\n",
       "      <td>1.176179</td>\n",
       "    </tr>\n",
       "  </tbody>\n",
       "</table>\n",
       "</div>"
      ],
      "text/plain": [
       "                        universe_id universe_training_year  \\\n",
       "0  1a8f3f76f9fb48ae8e7626065b1276b1                2010_14   \n",
       "\n",
       "  universe_training_size universe_scale universe_model  \\\n",
       "0                     1k          scale            gbm   \n",
       "\n",
       "  universe_exclude_features universe_exclude_subgroups     q_hat  coverage  \\\n",
       "0                      none                   keep-all  0.746089  0.912696   \n",
       "\n",
       "   avg_size  \n",
       "0  1.176179  "
      ]
     },
     "execution_count": 61,
     "metadata": {},
     "output_type": "execute_result"
    }
   ],
   "source": [
    "cp_metrics_df"
   ]
  },
  {
   "cell_type": "code",
   "execution_count": 62,
   "id": "b7fbde55-a0a1-47e4-9af6-fe4a17fa8c61",
   "metadata": {
    "execution": {
     "iopub.execute_input": "2025-07-30T21:46:53.757086Z",
     "iopub.status.busy": "2025-07-30T21:46:53.756381Z",
     "iopub.status.idle": "2025-07-30T21:46:53.761669Z",
     "shell.execute_reply": "2025-07-30T21:46:53.760651Z"
    },
    "papermill": {
     "duration": 0.031568,
     "end_time": "2025-07-30T21:46:53.763337",
     "exception": false,
     "start_time": "2025-07-30T21:46:53.731769",
     "status": "completed"
    },
    "tags": []
   },
   "outputs": [],
   "source": [
    "# Conditional Coverage & looking at subgroups"
   ]
  },
  {
   "cell_type": "code",
   "execution_count": 63,
   "id": "027ae886-68dd-4141-96c7-805a5450e1ef",
   "metadata": {
    "execution": {
     "iopub.execute_input": "2025-07-30T21:46:53.816270Z",
     "iopub.status.busy": "2025-07-30T21:46:53.815540Z",
     "iopub.status.idle": "2025-07-30T21:46:54.087274Z",
     "shell.execute_reply": "2025-07-30T21:46:54.086301Z"
    },
    "papermill": {
     "duration": 0.299794,
     "end_time": "2025-07-30T21:46:54.089206",
     "exception": false,
     "start_time": "2025-07-30T21:46:53.789412",
     "status": "completed"
    },
    "tags": []
   },
   "outputs": [],
   "source": [
    "from fairness_multiverse.conformal import build_cp_groups\n",
    "\n",
    "cp_groups_df = build_cp_groups(pred_sets, y_true, X_test.index, org_test)\n",
    "#needs universe_id and setting"
   ]
  },
  {
   "cell_type": "code",
   "execution_count": 64,
   "id": "01d5802c-663a-4d1f-9d69-e036faaffbf7",
   "metadata": {
    "execution": {
     "iopub.execute_input": "2025-07-30T21:46:54.143873Z",
     "iopub.status.busy": "2025-07-30T21:46:54.143359Z",
     "iopub.status.idle": "2025-07-30T21:46:54.148731Z",
     "shell.execute_reply": "2025-07-30T21:46:54.147664Z"
    },
    "papermill": {
     "duration": 0.034542,
     "end_time": "2025-07-30T21:46:54.150625",
     "exception": false,
     "start_time": "2025-07-30T21:46:54.116083",
     "status": "completed"
    },
    "tags": []
   },
   "outputs": [],
   "source": [
    "#delete\n",
    "#cp_groups_df"
   ]
  },
  {
   "cell_type": "code",
   "execution_count": 65,
   "id": "fa424af1-d1eb-443d-b717-2d279ada8408",
   "metadata": {
    "execution": {
     "iopub.execute_input": "2025-07-30T21:46:54.197682Z",
     "iopub.status.busy": "2025-07-30T21:46:54.197311Z",
     "iopub.status.idle": "2025-07-30T21:46:54.201543Z",
     "shell.execute_reply": "2025-07-30T21:46:54.200809Z"
    },
    "papermill": {
     "duration": 0.024864,
     "end_time": "2025-07-30T21:46:54.202849",
     "exception": false,
     "start_time": "2025-07-30T21:46:54.177985",
     "status": "completed"
    },
    "tags": []
   },
   "outputs": [],
   "source": [
    "#delete\n",
    "#percentage = (cp_groups_df['nongerman_female'] == 1).mean() * 100\n",
    "#print(percentage)\n"
   ]
  },
  {
   "cell_type": "code",
   "execution_count": 66,
   "id": "6cbdab96-b2b2-45af-ad54-d0516db2e28d",
   "metadata": {
    "execution": {
     "iopub.execute_input": "2025-07-30T21:46:54.230602Z",
     "iopub.status.busy": "2025-07-30T21:46:54.230210Z",
     "iopub.status.idle": "2025-07-30T21:46:55.755160Z",
     "shell.execute_reply": "2025-07-30T21:46:55.754234Z"
    },
    "papermill": {
     "duration": 1.540356,
     "end_time": "2025-07-30T21:46:55.757104",
     "exception": false,
     "start_time": "2025-07-30T21:46:54.216748",
     "status": "completed"
    },
    "tags": []
   },
   "outputs": [],
   "source": [
    "# Define covered = 1 if true_label is in the predicted set\n",
    "cp_groups_df['covered'] = cp_groups_df.apply(\n",
    "    lambda r: int(r['true_label'] in r['pred_set']),\n",
    "    axis=1\n",
    ")"
   ]
  },
  {
   "cell_type": "code",
   "execution_count": 67,
   "id": "338ff529-1a6b-4b87-a931-8e4788d52aad",
   "metadata": {
    "execution": {
     "iopub.execute_input": "2025-07-30T21:46:55.806579Z",
     "iopub.status.busy": "2025-07-30T21:46:55.806000Z",
     "iopub.status.idle": "2025-07-30T21:46:55.811018Z",
     "shell.execute_reply": "2025-07-30T21:46:55.810008Z"
    },
    "papermill": {
     "duration": 0.031556,
     "end_time": "2025-07-30T21:46:55.812592",
     "exception": false,
     "start_time": "2025-07-30T21:46:55.781036",
     "status": "completed"
    },
    "tags": []
   },
   "outputs": [],
   "source": [
    "#cp_groups_df"
   ]
  },
  {
   "cell_type": "code",
   "execution_count": 68,
   "id": "90032e27-66df-4540-9169-4e89cfbaa758",
   "metadata": {
    "execution": {
     "iopub.execute_input": "2025-07-30T21:46:55.863710Z",
     "iopub.status.busy": "2025-07-30T21:46:55.863044Z",
     "iopub.status.idle": "2025-07-30T21:46:55.874153Z",
     "shell.execute_reply": "2025-07-30T21:46:55.873282Z"
    },
    "papermill": {
     "duration": 0.039137,
     "end_time": "2025-07-30T21:46:55.875704",
     "exception": false,
     "start_time": "2025-07-30T21:46:55.836567",
     "status": "completed"
    },
    "tags": []
   },
   "outputs": [],
   "source": [
    "subgroups = ['frau1','nongerman','nongerman_male','nongerman_female']\n",
    "\n",
    "# Conditional coverage for subgroup==1\n",
    "cond_coverage = {\n",
    "    g: cp_groups_df.loc[cp_groups_df[g]==1, 'covered'].mean()\n",
    "    for g in subgroups\n",
    "}"
   ]
  },
  {
   "cell_type": "code",
   "execution_count": 69,
   "id": "1e348fb1-b9c3-45bc-ba23-f016827a7e0d",
   "metadata": {
    "execution": {
     "iopub.execute_input": "2025-07-30T21:46:55.953367Z",
     "iopub.status.busy": "2025-07-30T21:46:55.952762Z",
     "iopub.status.idle": "2025-07-30T21:46:55.959871Z",
     "shell.execute_reply": "2025-07-30T21:46:55.958908Z"
    },
    "papermill": {
     "duration": 0.035858,
     "end_time": "2025-07-30T21:46:55.961742",
     "exception": false,
     "start_time": "2025-07-30T21:46:55.925884",
     "status": "completed"
    },
    "tags": []
   },
   "outputs": [
    {
     "data": {
      "text/plain": [
       "{'frau1': 0.9115783798355573,\n",
       " 'nongerman': 0.9078762701397856,\n",
       " 'nongerman_male': 0.9249752319193011,\n",
       " 'nongerman_female': 0.8795827123695976}"
      ]
     },
     "execution_count": 69,
     "metadata": {},
     "output_type": "execute_result"
    }
   ],
   "source": [
    "cond_coverage"
   ]
  },
  {
   "cell_type": "code",
   "execution_count": 70,
   "id": "f5093324-c3dd-4d63-bc4c-8d945e5c8bbb",
   "metadata": {
    "execution": {
     "iopub.execute_input": "2025-07-30T21:46:56.015160Z",
     "iopub.status.busy": "2025-07-30T21:46:56.014228Z",
     "iopub.status.idle": "2025-07-30T21:46:56.021228Z",
     "shell.execute_reply": "2025-07-30T21:46:56.020272Z"
    },
    "papermill": {
     "duration": 0.036352,
     "end_time": "2025-07-30T21:46:56.022872",
     "exception": false,
     "start_time": "2025-07-30T21:46:55.986520",
     "status": "completed"
    },
    "tags": []
   },
   "outputs": [],
   "source": [
    "for subgroup, cov in cond_coverage.items():\n",
    "    cp_metrics_df[f\"cov_{subgroup}\"] = cov"
   ]
  },
  {
   "cell_type": "code",
   "execution_count": 71,
   "id": "6e872e10-dbe5-49e8-b554-5030c98ff75d",
   "metadata": {
    "execution": {
     "iopub.execute_input": "2025-07-30T21:46:56.077214Z",
     "iopub.status.busy": "2025-07-30T21:46:56.076398Z",
     "iopub.status.idle": "2025-07-30T21:46:56.095656Z",
     "shell.execute_reply": "2025-07-30T21:46:56.094625Z"
    },
    "papermill": {
     "duration": 0.049125,
     "end_time": "2025-07-30T21:46:56.097199",
     "exception": false,
     "start_time": "2025-07-30T21:46:56.048074",
     "status": "completed"
    },
    "tags": []
   },
   "outputs": [
    {
     "data": {
      "text/html": [
       "<div>\n",
       "<style scoped>\n",
       "    .dataframe tbody tr th:only-of-type {\n",
       "        vertical-align: middle;\n",
       "    }\n",
       "\n",
       "    .dataframe tbody tr th {\n",
       "        vertical-align: top;\n",
       "    }\n",
       "\n",
       "    .dataframe thead th {\n",
       "        text-align: right;\n",
       "    }\n",
       "</style>\n",
       "<table border=\"1\" class=\"dataframe\">\n",
       "  <thead>\n",
       "    <tr style=\"text-align: right;\">\n",
       "      <th></th>\n",
       "      <th>universe_id</th>\n",
       "      <th>universe_training_year</th>\n",
       "      <th>universe_training_size</th>\n",
       "      <th>universe_scale</th>\n",
       "      <th>universe_model</th>\n",
       "      <th>universe_exclude_features</th>\n",
       "      <th>universe_exclude_subgroups</th>\n",
       "      <th>q_hat</th>\n",
       "      <th>coverage</th>\n",
       "      <th>avg_size</th>\n",
       "      <th>cov_frau1</th>\n",
       "      <th>cov_nongerman</th>\n",
       "      <th>cov_nongerman_male</th>\n",
       "      <th>cov_nongerman_female</th>\n",
       "    </tr>\n",
       "  </thead>\n",
       "  <tbody>\n",
       "    <tr>\n",
       "      <th>0</th>\n",
       "      <td>1a8f3f76f9fb48ae8e7626065b1276b1</td>\n",
       "      <td>2010_14</td>\n",
       "      <td>1k</td>\n",
       "      <td>scale</td>\n",
       "      <td>gbm</td>\n",
       "      <td>none</td>\n",
       "      <td>keep-all</td>\n",
       "      <td>0.746089</td>\n",
       "      <td>0.912696</td>\n",
       "      <td>1.176179</td>\n",
       "      <td>0.911578</td>\n",
       "      <td>0.907876</td>\n",
       "      <td>0.924975</td>\n",
       "      <td>0.879583</td>\n",
       "    </tr>\n",
       "  </tbody>\n",
       "</table>\n",
       "</div>"
      ],
      "text/plain": [
       "                        universe_id universe_training_year  \\\n",
       "0  1a8f3f76f9fb48ae8e7626065b1276b1                2010_14   \n",
       "\n",
       "  universe_training_size universe_scale universe_model  \\\n",
       "0                     1k          scale            gbm   \n",
       "\n",
       "  universe_exclude_features universe_exclude_subgroups     q_hat  coverage  \\\n",
       "0                      none                   keep-all  0.746089  0.912696   \n",
       "\n",
       "   avg_size  cov_frau1  cov_nongerman  cov_nongerman_male  \\\n",
       "0  1.176179   0.911578       0.907876            0.924975   \n",
       "\n",
       "   cov_nongerman_female  \n",
       "0              0.879583  "
      ]
     },
     "execution_count": 71,
     "metadata": {},
     "output_type": "execute_result"
    }
   ],
   "source": [
    "cp_metrics_df"
   ]
  },
  {
   "cell_type": "markdown",
   "id": "33774451",
   "metadata": {
    "papermill": {
     "duration": 0.024047,
     "end_time": "2025-07-30T21:46:56.146823",
     "exception": false,
     "start_time": "2025-07-30T21:46:56.122776",
     "status": "completed"
    },
    "tags": []
   },
   "source": [
    "# (Fairness) Metrics"
   ]
  },
  {
   "cell_type": "code",
   "execution_count": 72,
   "id": "debc5d62",
   "metadata": {
    "execution": {
     "iopub.execute_input": "2025-07-30T21:46:56.197176Z",
     "iopub.status.busy": "2025-07-30T21:46:56.196529Z",
     "iopub.status.idle": "2025-07-30T21:46:56.217840Z",
     "shell.execute_reply": "2025-07-30T21:46:56.217025Z"
    },
    "papermill": {
     "duration": 0.048328,
     "end_time": "2025-07-30T21:46:56.219473",
     "exception": false,
     "start_time": "2025-07-30T21:46:56.171145",
     "status": "completed"
    },
    "tags": []
   },
   "outputs": [],
   "source": [
    "# do I need to include maxdeutsch1.missing?\n",
    "\n",
    "import numpy as np\n",
    "\n",
    "colname_to_bin = \"maxdeutsch1\"\n",
    "majority_value = org_train[colname_to_bin].mode()[0]\n",
    "\n",
    "org_test[\"majmin\"] = np.where(org_test[colname_to_bin] == majority_value, \"majority\", \"minority\")"
   ]
  },
  {
   "cell_type": "code",
   "execution_count": 73,
   "id": "06a50de5",
   "metadata": {
    "execution": {
     "iopub.execute_input": "2025-07-30T21:46:56.271672Z",
     "iopub.status.busy": "2025-07-30T21:46:56.270810Z",
     "iopub.status.idle": "2025-07-30T21:46:59.167384Z",
     "shell.execute_reply": "2025-07-30T21:46:59.166306Z"
    },
    "papermill": {
     "duration": 2.924379,
     "end_time": "2025-07-30T21:46:59.169487",
     "exception": false,
     "start_time": "2025-07-30T21:46:56.245108",
     "status": "completed"
    },
    "tags": []
   },
   "outputs": [],
   "source": [
    "example_universe = universe.copy()\n",
    "example_universe[\"cutoff\"] = example_universe[\"cutoff\"][0]\n",
    "example_universe[\"eval_fairness_grouping\"] = example_universe[\"eval_fairness_grouping\"][0]\n",
    "fairness_dict, metric_frame = universe_analysis.compute_metrics(\n",
    "    example_universe,\n",
    "    y_pred_prob=probs_test,\n",
    "    y_test=y_true,\n",
    "    org_test=org_test,\n",
    ")"
   ]
  },
  {
   "cell_type": "markdown",
   "id": "f95d4e02",
   "metadata": {
    "papermill": {
     "duration": 0.028861,
     "end_time": "2025-07-30T21:46:59.228848",
     "exception": false,
     "start_time": "2025-07-30T21:46:59.199987",
     "status": "completed"
    },
    "tags": []
   },
   "source": [
    "# Overall"
   ]
  },
  {
   "cell_type": "markdown",
   "id": "bdee4871",
   "metadata": {
    "papermill": {
     "duration": 0.026575,
     "end_time": "2025-07-30T21:46:59.282956",
     "exception": false,
     "start_time": "2025-07-30T21:46:59.256381",
     "status": "completed"
    },
    "tags": []
   },
   "source": [
    "Fairness\n",
    "Main fairness target: Equalized Odds. Seems to be a better fit than equal opportunity, since we're not only interested in Y = 1. Seems to be a better fit than demographic parity, since we also care about accuracy, not just equal distribution of preds.\n",
    "\n",
    "Pick column for computation of fairness metrics\n",
    "\n",
    "Performance\n",
    "Overall performance measures, most interesting in relation to the measures split by group below"
   ]
  },
  {
   "cell_type": "code",
   "execution_count": 74,
   "id": "c4e067c6",
   "metadata": {
    "execution": {
     "iopub.execute_input": "2025-07-30T21:46:59.340917Z",
     "iopub.status.busy": "2025-07-30T21:46:59.340323Z",
     "iopub.status.idle": "2025-07-30T21:46:59.349157Z",
     "shell.execute_reply": "2025-07-30T21:46:59.348022Z"
    },
    "papermill": {
     "duration": 0.040474,
     "end_time": "2025-07-30T21:46:59.350834",
     "exception": false,
     "start_time": "2025-07-30T21:46:59.310360",
     "status": "completed"
    },
    "tags": []
   },
   "outputs": [
    {
     "data": {
      "text/plain": [
       "accuracy                   0.222394\n",
       "balanced accuracy          0.544200\n",
       "f1                         0.243780\n",
       "precision                  0.139264\n",
       "false positive rate        0.888660\n",
       "false negative rate        0.022941\n",
       "selection rate             0.900000\n",
       "count                  89710.000000\n",
       "dtype: float64"
      ]
     },
     "execution_count": 74,
     "metadata": {},
     "output_type": "execute_result"
    }
   ],
   "source": [
    "metric_frame.overall"
   ]
  },
  {
   "cell_type": "markdown",
   "id": "e968fe9d",
   "metadata": {
    "papermill": {
     "duration": 0.02738,
     "end_time": "2025-07-30T21:46:59.405827",
     "exception": false,
     "start_time": "2025-07-30T21:46:59.378447",
     "status": "completed"
    },
    "tags": []
   },
   "source": [
    "By Group"
   ]
  },
  {
   "cell_type": "code",
   "execution_count": 75,
   "id": "ec325bce",
   "metadata": {
    "execution": {
     "iopub.execute_input": "2025-07-30T21:46:59.467924Z",
     "iopub.status.busy": "2025-07-30T21:46:59.467275Z",
     "iopub.status.idle": "2025-07-30T21:46:59.482554Z",
     "shell.execute_reply": "2025-07-30T21:46:59.481591Z"
    },
    "papermill": {
     "duration": 0.047756,
     "end_time": "2025-07-30T21:46:59.484210",
     "exception": false,
     "start_time": "2025-07-30T21:46:59.436454",
     "status": "completed"
    },
    "tags": []
   },
   "outputs": [
    {
     "data": {
      "text/html": [
       "<div>\n",
       "<style scoped>\n",
       "    .dataframe tbody tr th:only-of-type {\n",
       "        vertical-align: middle;\n",
       "    }\n",
       "\n",
       "    .dataframe tbody tr th {\n",
       "        vertical-align: top;\n",
       "    }\n",
       "\n",
       "    .dataframe thead th {\n",
       "        text-align: right;\n",
       "    }\n",
       "</style>\n",
       "<table border=\"1\" class=\"dataframe\">\n",
       "  <thead>\n",
       "    <tr style=\"text-align: right;\">\n",
       "      <th></th>\n",
       "      <th>accuracy</th>\n",
       "      <th>balanced accuracy</th>\n",
       "      <th>f1</th>\n",
       "      <th>precision</th>\n",
       "      <th>false positive rate</th>\n",
       "      <th>false negative rate</th>\n",
       "      <th>selection rate</th>\n",
       "      <th>count</th>\n",
       "    </tr>\n",
       "    <tr>\n",
       "      <th>majmin</th>\n",
       "      <th></th>\n",
       "      <th></th>\n",
       "      <th></th>\n",
       "      <th></th>\n",
       "      <th></th>\n",
       "      <th></th>\n",
       "      <th></th>\n",
       "      <th></th>\n",
       "    </tr>\n",
       "  </thead>\n",
       "  <tbody>\n",
       "    <tr>\n",
       "      <th>majority</th>\n",
       "      <td>0.237010</td>\n",
       "      <td>0.550356</td>\n",
       "      <td>0.252697</td>\n",
       "      <td>0.145132</td>\n",
       "      <td>0.875546</td>\n",
       "      <td>0.023742</td>\n",
       "      <td>0.888854</td>\n",
       "      <td>69170.0</td>\n",
       "    </tr>\n",
       "    <tr>\n",
       "      <th>minority</th>\n",
       "      <td>0.173174</td>\n",
       "      <td>0.524084</td>\n",
       "      <td>0.214659</td>\n",
       "      <td>0.120528</td>\n",
       "      <td>0.931983</td>\n",
       "      <td>0.019848</td>\n",
       "      <td>0.937537</td>\n",
       "      <td>20540.0</td>\n",
       "    </tr>\n",
       "  </tbody>\n",
       "</table>\n",
       "</div>"
      ],
      "text/plain": [
       "          accuracy  balanced accuracy        f1  precision  \\\n",
       "majmin                                                       \n",
       "majority  0.237010           0.550356  0.252697   0.145132   \n",
       "minority  0.173174           0.524084  0.214659   0.120528   \n",
       "\n",
       "          false positive rate  false negative rate  selection rate    count  \n",
       "majmin                                                                       \n",
       "majority             0.875546             0.023742        0.888854  69170.0  \n",
       "minority             0.931983             0.019848        0.937537  20540.0  "
      ]
     },
     "execution_count": 75,
     "metadata": {},
     "output_type": "execute_result"
    }
   ],
   "source": [
    "metric_frame.by_group"
   ]
  },
  {
   "cell_type": "code",
   "execution_count": 76,
   "id": "a9ddbe63",
   "metadata": {
    "execution": {
     "iopub.execute_input": "2025-07-30T21:46:59.543812Z",
     "iopub.status.busy": "2025-07-30T21:46:59.543120Z",
     "iopub.status.idle": "2025-07-30T21:47:01.274903Z",
     "shell.execute_reply": "2025-07-30T21:47:01.274214Z"
    },
    "papermill": {
     "duration": 1.762781,
     "end_time": "2025-07-30T21:47:01.276255",
     "exception": false,
     "start_time": "2025-07-30T21:46:59.513474",
     "status": "completed"
    },
    "tags": []
   },
   "outputs": [
    {
     "data": {
      "text/plain": [
       "array([[<Axes: title={'center': 'accuracy'}, xlabel='majmin'>,\n",
       "        <Axes: title={'center': 'balanced accuracy'}, xlabel='majmin'>,\n",
       "        <Axes: title={'center': 'f1'}, xlabel='majmin'>],\n",
       "       [<Axes: title={'center': 'precision'}, xlabel='majmin'>,\n",
       "        <Axes: title={'center': 'false positive rate'}, xlabel='majmin'>,\n",
       "        <Axes: title={'center': 'false negative rate'}, xlabel='majmin'>],\n",
       "       [<Axes: title={'center': 'selection rate'}, xlabel='majmin'>,\n",
       "        <Axes: title={'center': 'count'}, xlabel='majmin'>,\n",
       "        <Axes: xlabel='majmin'>]], dtype=object)"
      ]
     },
     "execution_count": 76,
     "metadata": {},
     "output_type": "execute_result"
    },
    {
     "data": {
      "image/png": "[encoded data removed]",
      "text/plain": [
       "<Figure size 1200x800 with 9 Axes>"
      ]
     },
     "metadata": {},
     "output_type": "display_data"
    }
   ],
   "source": [
    "# In a graphic\n",
    "metric_frame.by_group.plot.bar(\n",
    "    subplots=True,\n",
    "    layout=[3, 3],\n",
    "    legend=False,\n",
    "    figsize=[12, 8],\n",
    "    title=\"Show all metrics\",\n",
    ")"
   ]
  },
  {
   "cell_type": "markdown",
   "id": "f57a0bac",
   "metadata": {
    "papermill": {
     "duration": 0.014455,
     "end_time": "2025-07-30T21:47:01.306040",
     "exception": false,
     "start_time": "2025-07-30T21:47:01.291585",
     "status": "completed"
    },
    "tags": []
   },
   "source": [
    "# Final Output"
   ]
  },
  {
   "cell_type": "code",
   "execution_count": 77,
   "id": "96d280a3",
   "metadata": {
    "execution": {
     "iopub.execute_input": "2025-07-30T21:47:01.336637Z",
     "iopub.status.busy": "2025-07-30T21:47:01.336151Z",
     "iopub.status.idle": "2025-07-30T21:47:01.342863Z",
     "shell.execute_reply": "2025-07-30T21:47:01.342176Z"
    },
    "papermill": {
     "duration": 0.023701,
     "end_time": "2025-07-30T21:47:01.344429",
     "exception": false,
     "start_time": "2025-07-30T21:47:01.320728",
     "status": "completed"
    },
    "tags": []
   },
   "outputs": [
    {
     "data": {
      "text/plain": [
       "4"
      ]
     },
     "execution_count": 77,
     "metadata": {},
     "output_type": "execute_result"
    }
   ],
   "source": [
    "sub_universes = universe_analysis.generate_sub_universes()\n",
    "len(sub_universes)"
   ]
  },
  {
   "cell_type": "code",
   "execution_count": 78,
   "id": "92adf7ba",
   "metadata": {
    "execution": {
     "iopub.execute_input": "2025-07-30T21:47:01.375348Z",
     "iopub.status.busy": "2025-07-30T21:47:01.375026Z",
     "iopub.status.idle": "2025-07-30T21:47:01.390848Z",
     "shell.execute_reply": "2025-07-30T21:47:01.390113Z"
    },
    "papermill": {
     "duration": 0.032682,
     "end_time": "2025-07-30T21:47:01.392270",
     "exception": false,
     "start_time": "2025-07-30T21:47:01.359588",
     "status": "completed"
    },
    "tags": []
   },
   "outputs": [],
   "source": [
    "def filter_sub_universe_data(sub_universe, org_test):\n",
    "    # Keep all rows — no filtering\n",
    "    keep_rows_mask = np.ones(org_test.shape[0], dtype=bool)\n",
    "\n",
    "    print(f\"[INFO] Keeping all rows: {keep_rows_mask.sum()} rows retained.\")\n",
    "    return keep_rows_mask"
   ]
  },
  {
   "cell_type": "code",
   "execution_count": 79,
   "id": "4a759155",
   "metadata": {
    "execution": {
     "iopub.execute_input": "2025-07-30T21:47:01.425043Z",
     "iopub.status.busy": "2025-07-30T21:47:01.424673Z",
     "iopub.status.idle": "2025-07-30T21:47:12.032544Z",
     "shell.execute_reply": "2025-07-30T21:47:12.031595Z"
    },
    "papermill": {
     "duration": 10.624892,
     "end_time": "2025-07-30T21:47:12.033863",
     "exception": false,
     "start_time": "2025-07-30T21:47:01.408971",
     "status": "completed"
    },
    "tags": []
   },
   "outputs": [
    {
     "name": "stdout",
     "output_type": "stream",
     "text": [
      "Stopping execution_time clock.\n",
      "[INFO] Keeping all rows: 89710 rows retained.\n"
     ]
    },
    {
     "name": "stdout",
     "output_type": "stream",
     "text": [
      "[INFO] Keeping all rows: 89710 rows retained.\n"
     ]
    },
    {
     "name": "stdout",
     "output_type": "stream",
     "text": [
      "[INFO] Keeping all rows: 89710 rows retained.\n"
     ]
    },
    {
     "name": "stdout",
     "output_type": "stream",
     "text": [
      "[INFO] Keeping all rows: 89710 rows retained.\n"
     ]
    },
    {
     "data": {
      "text/html": [
       "<div>\n",
       "<style scoped>\n",
       "    .dataframe tbody tr th:only-of-type {\n",
       "        vertical-align: middle;\n",
       "    }\n",
       "\n",
       "    .dataframe tbody tr th {\n",
       "        vertical-align: top;\n",
       "    }\n",
       "\n",
       "    .dataframe thead th {\n",
       "        text-align: right;\n",
       "    }\n",
       "</style>\n",
       "<table border=\"1\" class=\"dataframe\">\n",
       "  <thead>\n",
       "    <tr style=\"text-align: right;\">\n",
       "      <th></th>\n",
       "      <th>run_no</th>\n",
       "      <th>universe_id</th>\n",
       "      <th>universe_settings</th>\n",
       "      <th>execution_time</th>\n",
       "      <th>test_size_n</th>\n",
       "      <th>test_size_frac</th>\n",
       "      <th>fair_main_equalized_odds_difference</th>\n",
       "      <th>fair_main_equalized_odds_ratio</th>\n",
       "      <th>fair_main_demographic_parity_difference</th>\n",
       "      <th>fair_main_demographic_parity_ratio</th>\n",
       "      <th>...</th>\n",
       "      <th>perf_grp_precision_0</th>\n",
       "      <th>perf_grp_precision_1</th>\n",
       "      <th>perf_grp_false positive rate_0</th>\n",
       "      <th>perf_grp_false positive rate_1</th>\n",
       "      <th>perf_grp_false negative rate_0</th>\n",
       "      <th>perf_grp_false negative rate_1</th>\n",
       "      <th>perf_grp_selection rate_0</th>\n",
       "      <th>perf_grp_selection rate_1</th>\n",
       "      <th>perf_grp_count_0</th>\n",
       "      <th>perf_grp_count_1</th>\n",
       "    </tr>\n",
       "  </thead>\n",
       "  <tbody>\n",
       "    <tr>\n",
       "      <th>0</th>\n",
       "      <td>14</td>\n",
       "      <td>1a8f3f76f9fb48ae8e7626065b1276b1</td>\n",
       "      <td>{\"cutoff\": \"quantile_0.1\", \"eval_fairness_grou...</td>\n",
       "      <td>33.089493</td>\n",
       "      <td>89710</td>\n",
       "      <td>1.0</td>\n",
       "      <td>0.056438</td>\n",
       "      <td>0.939443</td>\n",
       "      <td>0.048683</td>\n",
       "      <td>0.948074</td>\n",
       "      <td>...</td>\n",
       "      <td>NaN</td>\n",
       "      <td>NaN</td>\n",
       "      <td>NaN</td>\n",
       "      <td>NaN</td>\n",
       "      <td>NaN</td>\n",
       "      <td>NaN</td>\n",
       "      <td>NaN</td>\n",
       "      <td>NaN</td>\n",
       "      <td>NaN</td>\n",
       "      <td>NaN</td>\n",
       "    </tr>\n",
       "    <tr>\n",
       "      <th>0</th>\n",
       "      <td>14</td>\n",
       "      <td>1a8f3f76f9fb48ae8e7626065b1276b1</td>\n",
       "      <td>{\"cutoff\": \"quantile_0.1\", \"eval_fairness_grou...</td>\n",
       "      <td>33.089493</td>\n",
       "      <td>89710</td>\n",
       "      <td>1.0</td>\n",
       "      <td>0.056438</td>\n",
       "      <td>0.939443</td>\n",
       "      <td>0.048683</td>\n",
       "      <td>0.948074</td>\n",
       "      <td>...</td>\n",
       "      <td>0.120528</td>\n",
       "      <td>0.145132</td>\n",
       "      <td>0.931983</td>\n",
       "      <td>0.875546</td>\n",
       "      <td>0.019848</td>\n",
       "      <td>0.023742</td>\n",
       "      <td>0.937537</td>\n",
       "      <td>0.888854</td>\n",
       "      <td>20540.0</td>\n",
       "      <td>69170.0</td>\n",
       "    </tr>\n",
       "    <tr>\n",
       "      <th>0</th>\n",
       "      <td>14</td>\n",
       "      <td>1a8f3f76f9fb48ae8e7626065b1276b1</td>\n",
       "      <td>{\"cutoff\": \"quantile_0.25\", \"eval_fairness_gro...</td>\n",
       "      <td>33.089493</td>\n",
       "      <td>89710</td>\n",
       "      <td>1.0</td>\n",
       "      <td>0.136586</td>\n",
       "      <td>0.835245</td>\n",
       "      <td>0.119031</td>\n",
       "      <td>0.858595</td>\n",
       "      <td>...</td>\n",
       "      <td>NaN</td>\n",
       "      <td>NaN</td>\n",
       "      <td>NaN</td>\n",
       "      <td>NaN</td>\n",
       "      <td>NaN</td>\n",
       "      <td>NaN</td>\n",
       "      <td>NaN</td>\n",
       "      <td>NaN</td>\n",
       "      <td>NaN</td>\n",
       "      <td>NaN</td>\n",
       "    </tr>\n",
       "    <tr>\n",
       "      <th>0</th>\n",
       "      <td>14</td>\n",
       "      <td>1a8f3f76f9fb48ae8e7626065b1276b1</td>\n",
       "      <td>{\"cutoff\": \"quantile_0.25\", \"eval_fairness_gro...</td>\n",
       "      <td>33.089493</td>\n",
       "      <td>89710</td>\n",
       "      <td>1.0</td>\n",
       "      <td>0.136586</td>\n",
       "      <td>0.835245</td>\n",
       "      <td>0.119031</td>\n",
       "      <td>0.858595</td>\n",
       "      <td>...</td>\n",
       "      <td>0.128687</td>\n",
       "      <td>0.168527</td>\n",
       "      <td>0.829023</td>\n",
       "      <td>0.692437</td>\n",
       "      <td>0.060389</td>\n",
       "      <td>0.078228</td>\n",
       "      <td>0.841772</td>\n",
       "      <td>0.722741</td>\n",
       "      <td>20540.0</td>\n",
       "      <td>69170.0</td>\n",
       "    </tr>\n",
       "  </tbody>\n",
       "</table>\n",
       "<p>4 rows × 50 columns</p>\n",
       "</div>"
      ],
      "text/plain": [
       "  run_no                       universe_id  \\\n",
       "0     14  1a8f3f76f9fb48ae8e7626065b1276b1   \n",
       "0     14  1a8f3f76f9fb48ae8e7626065b1276b1   \n",
       "0     14  1a8f3f76f9fb48ae8e7626065b1276b1   \n",
       "0     14  1a8f3f76f9fb48ae8e7626065b1276b1   \n",
       "\n",
       "                                   universe_settings  execution_time  \\\n",
       "0  {\"cutoff\": \"quantile_0.1\", \"eval_fairness_grou...       33.089493   \n",
       "0  {\"cutoff\": \"quantile_0.1\", \"eval_fairness_grou...       33.089493   \n",
       "0  {\"cutoff\": \"quantile_0.25\", \"eval_fairness_gro...       33.089493   \n",
       "0  {\"cutoff\": \"quantile_0.25\", \"eval_fairness_gro...       33.089493   \n",
       "\n",
       "   test_size_n  test_size_frac  fair_main_equalized_odds_difference  \\\n",
       "0        89710             1.0                             0.056438   \n",
       "0        89710             1.0                             0.056438   \n",
       "0        89710             1.0                             0.136586   \n",
       "0        89710             1.0                             0.136586   \n",
       "\n",
       "   fair_main_equalized_odds_ratio  fair_main_demographic_parity_difference  \\\n",
       "0                        0.939443                                 0.048683   \n",
       "0                        0.939443                                 0.048683   \n",
       "0                        0.835245                                 0.119031   \n",
       "0                        0.835245                                 0.119031   \n",
       "\n",
       "   fair_main_demographic_parity_ratio  ...  perf_grp_precision_0  \\\n",
       "0                            0.948074  ...                   NaN   \n",
       "0                            0.948074  ...              0.120528   \n",
       "0                            0.858595  ...                   NaN   \n",
       "0                            0.858595  ...              0.128687   \n",
       "\n",
       "   perf_grp_precision_1  perf_grp_false positive rate_0  \\\n",
       "0                   NaN                             NaN   \n",
       "0              0.145132                        0.931983   \n",
       "0                   NaN                             NaN   \n",
       "0              0.168527                        0.829023   \n",
       "\n",
       "   perf_grp_false positive rate_1  perf_grp_false negative rate_0  \\\n",
       "0                             NaN                             NaN   \n",
       "0                        0.875546                        0.019848   \n",
       "0                             NaN                             NaN   \n",
       "0                        0.692437                        0.060389   \n",
       "\n",
       "   perf_grp_false negative rate_1  perf_grp_selection rate_0  \\\n",
       "0                             NaN                        NaN   \n",
       "0                        0.023742                   0.937537   \n",
       "0                             NaN                        NaN   \n",
       "0                        0.078228                   0.841772   \n",
       "\n",
       "   perf_grp_selection rate_1  perf_grp_count_0  perf_grp_count_1  \n",
       "0                        NaN               NaN               NaN  \n",
       "0                   0.888854           20540.0           69170.0  \n",
       "0                        NaN               NaN               NaN  \n",
       "0                   0.722741           20540.0           69170.0  \n",
       "\n",
       "[4 rows x 50 columns]"
      ]
     },
     "execution_count": 79,
     "metadata": {},
     "output_type": "execute_result"
    }
   ],
   "source": [
    "final_output = universe_analysis.generate_final_output(\n",
    "    y_pred_prob=probs_test,\n",
    "    y_test=y_true,\n",
    "    org_test=org_test,\n",
    "    filter_data=filter_sub_universe_data,\n",
    "    cp_metrics_df=cp_metrics_df,\n",
    "    save=True,\n",
    ")\n",
    "final_output"
   ]
  },
  {
   "cell_type": "code",
   "execution_count": null,
   "id": "721ff514-cb11-46f8-b6fc-50392f74b5cb",
   "metadata": {
    "papermill": {
     "duration": 0.016201,
     "end_time": "2025-07-30T21:47:12.069168",
     "exception": false,
     "start_time": "2025-07-30T21:47:12.052967",
     "status": "completed"
    },
    "tags": []
   },
   "outputs": [],
   "source": []
  }
 ],
 "metadata": {
  "celltoolbar": "Tags",
  "kernelspec": {
   "display_name": "Python (CMA Fairness)",
   "language": "python",
   "name": "cma_fair_env"
  },
  "language_info": {
   "codemirror_mode": {
    "name": "ipython",
    "version": 3
   },
   "file_extension": ".py",
   "mimetype": "text/x-python",
   "name": "python",
   "nbconvert_exporter": "python",
   "pygments_lexer": "ipython3",
   "version": "3.10.12"
  },
  "papermill": {
   "default_parameters": {},
   "duration": 47.556527,
   "end_time": "2025-07-30T21:47:12.803228",
   "environment_variables": {},
   "exception": null,
   "input_path": "universe_analysis.ipynb",
   "output_path": "output/runs/14/notebooks/m_14-1a8f3f76f9fb48ae8e7626065b1276b1.ipynb",
   "parameters": {
    "output_dir": "output",
    "run_no": "14",
    "seed": "2023",
    "universe": "{\"cutoff\": [\"quantile_0.1\", \"quantile_0.25\"], \"eval_fairness_grouping\": [\"majority-minority\", \"nationality-all\"], \"exclude_features\": \"none\", \"exclude_subgroups\": \"keep-all\", \"model\": \"gbm\", \"scale\": \"scale\", \"training_size\": \"1k\", \"training_year\": \"2010_14\"}",
    "universe_id": "1a8f3f76f9fb48ae8e7626065b1276b1"
   },
   "start_time": "2025-07-30T21:46:25.246701",
   "version": "2.6.0"
  }
 },
 "nbformat": 4,
 "nbformat_minor": 5
}