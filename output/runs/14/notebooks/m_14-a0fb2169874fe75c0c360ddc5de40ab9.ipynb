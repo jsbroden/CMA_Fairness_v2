{
 "cells": [
  {
   "cell_type": "code",
   "execution_count": 1,
   "id": "f159f837-637b-42ba-96b5-ec9a68c44524",
   "metadata": {
    "execution": {
     "iopub.execute_input": "2025-07-30T21:38:09.159823Z",
     "iopub.status.busy": "2025-07-30T21:38:09.159395Z",
     "iopub.status.idle": "2025-07-30T21:38:09.175596Z",
     "shell.execute_reply": "2025-07-30T21:38:09.174726Z"
    },
    "papermill": {
     "duration": 0.029507,
     "end_time": "2025-07-30T21:38:09.177227",
     "exception": false,
     "start_time": "2025-07-30T21:38:09.147720",
     "status": "completed"
    },
    "tags": []
   },
   "outputs": [
    {
     "name": "stdout",
     "output_type": "stream",
     "text": [
      "/dss/dsshome1/0C/ra93lal2/cma/CMA_Fairness_v2\n"
     ]
    },
    {
     "name": "stderr",
     "output_type": "stream",
     "text": [
      "/dss/dsshome1/0C/ra93lal2/.local/share/virtualenvs/CMA_Fairness_v2-3j10GkSs/lib/python3.10/site-packages/IPython/core/magics/osm.py:393: UserWarning: This is now an optional IPython functionality, using bookmarks requires you to install the `pickleshare` library.\n",
      "  bkms = self.shell.db.get('bookmarks', {})\n",
      "/dss/dsshome1/0C/ra93lal2/.local/share/virtualenvs/CMA_Fairness_v2-3j10GkSs/lib/python3.10/site-packages/IPython/core/magics/osm.py:417: UserWarning: This is now an optional IPython functionality, setting dhist requires you to install the `pickleshare` library.\n",
      "  self.shell.db['dhist'] = compress_dhist(dhist)[-100:]\n"
     ]
    }
   ],
   "source": [
    "%cd ~/cma/CMA_Fairness_v2"
   ]
  },
  {
   "cell_type": "markdown",
   "id": "de2603b9",
   "metadata": {
    "papermill": {
     "duration": 0.019464,
     "end_time": "2025-07-30T21:38:09.216683",
     "exception": false,
     "start_time": "2025-07-30T21:38:09.197219",
     "status": "completed"
    },
    "tags": []
   },
   "source": [
    "The following cell holds the definition of our parameters, these values can be overriden by rendering the with e.g. the following command:\n",
    "\n",
    "papermill -p alpha 0.2 -p ratio 0.3 universe_analysis.ipynb output/test_run.ipynb"
   ]
  },
  {
   "cell_type": "code",
   "execution_count": 2,
   "id": "a80968a0-40bb-4fa9-85ef-2d5eefb01975",
   "metadata": {
    "execution": {
     "iopub.execute_input": "2025-07-30T21:38:09.259142Z",
     "iopub.status.busy": "2025-07-30T21:38:09.258648Z",
     "iopub.status.idle": "2025-07-30T21:38:09.264543Z",
     "shell.execute_reply": "2025-07-30T21:38:09.263599Z"
    },
    "papermill": {
     "duration": 0.029308,
     "end_time": "2025-07-30T21:38:09.266405",
     "exception": false,
     "start_time": "2025-07-30T21:38:09.237097",
     "status": "completed"
    },
    "tags": []
   },
   "outputs": [
    {
     "name": "stdout",
     "output_type": "stream",
     "text": [
      "Current working directory: /dss/dsshome1/0C/ra93lal2/cma/CMA_Fairness_v2\n"
     ]
    }
   ],
   "source": [
    "import os\n",
    "print(\"Current working directory:\", os.getcwd())"
   ]
  },
  {
   "cell_type": "code",
   "execution_count": 3,
   "id": "2dce4c03",
   "metadata": {
    "execution": {
     "iopub.execute_input": "2025-07-30T21:38:09.308273Z",
     "iopub.status.busy": "2025-07-30T21:38:09.307871Z",
     "iopub.status.idle": "2025-07-30T21:38:09.313939Z",
     "shell.execute_reply": "2025-07-30T21:38:09.312889Z"
    },
    "papermill": {
     "duration": 0.028608,
     "end_time": "2025-07-30T21:38:09.315597",
     "exception": false,
     "start_time": "2025-07-30T21:38:09.286989",
     "status": "completed"
    },
    "tags": [
     "parameters"
    ]
   },
   "outputs": [],
   "source": [
    "run_no = 0\n",
    "universe_id = \"test\"\n",
    "universe = {\n",
    "    \"training_size\": \"25k\", # \"25k\", \"5k\", \"1k\"\n",
    "    \"training_year\": \"2014\", # \"2014\", \"2012_14\", \"2010_14\"\n",
    "    \"scale\": \"scale\", # \"scale\", \"do-not-scale\",\n",
    "    #\"stratify_split\": \"target\", # \"none\", \"target\", \"protected-attribute\", \"both\",\n",
    "    \"model\": \"elasticnet\", # \"logreg\", \"penalized_logreg\", \"rf\", \"gbm\", \"elasticnet\"\n",
    "    \"cutoff\": [\"quantile_0.15\", \"quantile_0.30\"],\n",
    "    \"exclude_features\": \"age\", # \"none\", \"nationality\", \"sex\", \"nationality-sex\", \"age\"\n",
    "    \"exclude_subgroups\": \"keep-all\", # \"keep-all\", \"drop-non-german\"\n",
    "    \"eval_fairness_grouping\": [\"majority-minority\", \"nationality-all\"]\n",
    "}\n",
    "\n",
    "output_dir=\"./output\"\n",
    "seed=0"
   ]
  },
  {
   "cell_type": "code",
   "execution_count": 4,
   "id": "617bf5e0",
   "metadata": {
    "execution": {
     "iopub.execute_input": "2025-07-30T21:38:09.357009Z",
     "iopub.status.busy": "2025-07-30T21:38:09.356283Z",
     "iopub.status.idle": "2025-07-30T21:38:09.362261Z",
     "shell.execute_reply": "2025-07-30T21:38:09.361268Z"
    },
    "papermill": {
     "duration": 0.028022,
     "end_time": "2025-07-30T21:38:09.363909",
     "exception": false,
     "start_time": "2025-07-30T21:38:09.335887",
     "status": "completed"
    },
    "tags": [
     "injected-parameters"
    ]
   },
   "outputs": [],
   "source": [
    "# Parameters\n",
    "universe_id = \"a0fb2169874fe75c0c360ddc5de40ab9\"\n",
    "run_no = \"14\"\n",
    "universe = \"{\\\"cutoff\\\": [\\\"quantile_0.1\\\", \\\"quantile_0.25\\\"], \\\"eval_fairness_grouping\\\": [\\\"majority-minority\\\", \\\"nationality-all\\\"], \\\"exclude_features\\\": \\\"nationality\\\", \\\"exclude_subgroups\\\": \\\"keep-all\\\", \\\"model\\\": \\\"logreg\\\", \\\"scale\\\": \\\"do-not-scale\\\", \\\"training_size\\\": \\\"1k\\\", \\\"training_year\\\": \\\"2012_14\\\"}\"\n",
    "output_dir = \"output\"\n",
    "seed = \"2023\"\n"
   ]
  },
  {
   "cell_type": "code",
   "execution_count": 5,
   "id": "1650acaf",
   "metadata": {
    "execution": {
     "iopub.execute_input": "2025-07-30T21:38:09.404609Z",
     "iopub.status.busy": "2025-07-30T21:38:09.403783Z",
     "iopub.status.idle": "2025-07-30T21:38:09.409548Z",
     "shell.execute_reply": "2025-07-30T21:38:09.408599Z"
    },
    "papermill": {
     "duration": 0.027918,
     "end_time": "2025-07-30T21:38:09.411249",
     "exception": false,
     "start_time": "2025-07-30T21:38:09.383331",
     "status": "completed"
    },
    "tags": []
   },
   "outputs": [],
   "source": [
    "import json\n",
    "# Parse universe into dict if it is passed as a string\n",
    "if isinstance(universe, str):\n",
    "    universe = json.loads(universe)"
   ]
  },
  {
   "cell_type": "code",
   "execution_count": 6,
   "id": "16620c48",
   "metadata": {
    "execution": {
     "iopub.execute_input": "2025-07-30T21:38:09.452127Z",
     "iopub.status.busy": "2025-07-30T21:38:09.451326Z",
     "iopub.status.idle": "2025-07-30T21:38:09.504720Z",
     "shell.execute_reply": "2025-07-30T21:38:09.503657Z"
    },
    "papermill": {
     "duration": 0.076007,
     "end_time": "2025-07-30T21:38:09.506638",
     "exception": false,
     "start_time": "2025-07-30T21:38:09.430631",
     "status": "completed"
    },
    "tags": []
   },
   "outputs": [],
   "source": [
    "# Auto-reload the custom package\n",
    "%load_ext autoreload\n",
    "%autoreload 1\n",
    "%aimport fairness_multiverse"
   ]
  },
  {
   "cell_type": "code",
   "execution_count": 7,
   "id": "01c5c9f3",
   "metadata": {
    "execution": {
     "iopub.execute_input": "2025-07-30T21:38:09.548177Z",
     "iopub.status.busy": "2025-07-30T21:38:09.547365Z",
     "iopub.status.idle": "2025-07-30T21:38:11.403471Z",
     "shell.execute_reply": "2025-07-30T21:38:11.402434Z"
    },
    "papermill": {
     "duration": 1.879357,
     "end_time": "2025-07-30T21:38:11.405922",
     "exception": false,
     "start_time": "2025-07-30T21:38:09.526565",
     "status": "completed"
    },
    "tags": []
   },
   "outputs": [],
   "source": [
    "from fairness_multiverse.universe import UniverseAnalysis\n",
    "\n",
    "universe_analysis = UniverseAnalysis(\n",
    "    run_no = run_no,\n",
    "    universe_id = universe_id,\n",
    "    universe = universe,\n",
    "    output_dir=output_dir,\n",
    ")"
   ]
  },
  {
   "cell_type": "code",
   "execution_count": 8,
   "id": "106241f5",
   "metadata": {
    "execution": {
     "iopub.execute_input": "2025-07-30T21:38:11.461948Z",
     "iopub.status.busy": "2025-07-30T21:38:11.461245Z",
     "iopub.status.idle": "2025-07-30T21:38:11.469185Z",
     "shell.execute_reply": "2025-07-30T21:38:11.468123Z"
    },
    "papermill": {
     "duration": 0.037958,
     "end_time": "2025-07-30T21:38:11.471036",
     "exception": false,
     "start_time": "2025-07-30T21:38:11.433078",
     "status": "completed"
    },
    "tags": []
   },
   "outputs": [
    {
     "name": "stdout",
     "output_type": "stream",
     "text": [
      "Using Seed: 2023\n"
     ]
    }
   ],
   "source": [
    "import numpy as np\n",
    "parsed_seed = int(seed)\n",
    "np.random.seed(parsed_seed)\n",
    "print(f\"Using Seed: {parsed_seed}\")"
   ]
  },
  {
   "cell_type": "markdown",
   "id": "e0ebdc57",
   "metadata": {
    "papermill": {
     "duration": 0.029588,
     "end_time": "2025-07-30T21:38:11.528306",
     "exception": false,
     "start_time": "2025-07-30T21:38:11.498718",
     "status": "completed"
    },
    "tags": []
   },
   "source": [
    "# Loading Data"
   ]
  },
  {
   "cell_type": "markdown",
   "id": "681925a3",
   "metadata": {
    "papermill": {
     "duration": 0.029342,
     "end_time": "2025-07-30T21:38:11.587180",
     "exception": false,
     "start_time": "2025-07-30T21:38:11.557838",
     "status": "completed"
    },
    "tags": []
   },
   "source": [
    "Load siab_train, siab_test, siab_calib and/or \n",
    "load siab_train_features, siab_train_labels"
   ]
  },
  {
   "cell_type": "code",
   "execution_count": 9,
   "id": "f0496b8a",
   "metadata": {
    "execution": {
     "iopub.execute_input": "2025-07-30T21:38:11.643669Z",
     "iopub.status.busy": "2025-07-30T21:38:11.642971Z",
     "iopub.status.idle": "2025-07-30T21:38:23.368941Z",
     "shell.execute_reply": "2025-07-30T21:38:23.367712Z"
    },
    "papermill": {
     "duration": 11.75365,
     "end_time": "2025-07-30T21:38:23.370546",
     "exception": false,
     "start_time": "2025-07-30T21:38:11.616896",
     "status": "completed"
    },
    "tags": []
   },
   "outputs": [
    {
     "name": "stdout",
     "output_type": "stream",
     "text": [
      "Loading SIAB data from cache: data/siab_cached.csv.gz\n"
     ]
    },
    {
     "name": "stdout",
     "output_type": "stream",
     "text": [
      "(643690, 164)\n"
     ]
    }
   ],
   "source": [
    "from pathlib import Path\n",
    "import pandas as pd\n",
    "\n",
    "# File paths\n",
    "raw_file = Path(\"data/raw/siab.csv\")\n",
    "cache_file = Path(\"data/siab_cached.csv.gz\")\n",
    "\n",
    "# Ensure cache directory exists\n",
    "cache_file.parent.mkdir(parents=True, exist_ok=True)\n",
    "\n",
    "# Load with simple caching\n",
    "if cache_file.exists():\n",
    "    print(f\"Loading SIAB data from cache: {cache_file}\")\n",
    "    siab = pd.read_csv(cache_file, compression='gzip')\n",
    "else:\n",
    "    print(f\"Cache not found. Reading raw SIAB data: {raw_file}\")\n",
    "    siab = pd.read_csv(raw_file)\n",
    "    siab.to_csv(cache_file, index=False, compression='gzip')\n",
    "    print(f\"Cached SIAB data to: {cache_file}\")\n",
    "\n",
    "# Now use `siab` DataFrame as needed\n",
    "print(siab.shape)"
   ]
  },
  {
   "cell_type": "code",
   "execution_count": 10,
   "id": "db0ca512-5f53-4dba-abdb-a2888bca41ba",
   "metadata": {
    "execution": {
     "iopub.execute_input": "2025-07-30T21:38:23.418975Z",
     "iopub.status.busy": "2025-07-30T21:38:23.418424Z",
     "iopub.status.idle": "2025-07-30T21:38:23.424431Z",
     "shell.execute_reply": "2025-07-30T21:38:23.423312Z"
    },
    "papermill": {
     "duration": 0.032284,
     "end_time": "2025-07-30T21:38:23.426299",
     "exception": false,
     "start_time": "2025-07-30T21:38:23.394015",
     "status": "completed"
    },
    "tags": []
   },
   "outputs": [],
   "source": [
    "#siab"
   ]
  },
  {
   "cell_type": "code",
   "execution_count": 11,
   "id": "a0edb063",
   "metadata": {
    "execution": {
     "iopub.execute_input": "2025-07-30T21:38:23.471046Z",
     "iopub.status.busy": "2025-07-30T21:38:23.470379Z",
     "iopub.status.idle": "2025-07-30T21:38:23.475890Z",
     "shell.execute_reply": "2025-07-30T21:38:23.474836Z"
    },
    "papermill": {
     "duration": 0.029906,
     "end_time": "2025-07-30T21:38:23.477725",
     "exception": false,
     "start_time": "2025-07-30T21:38:23.447819",
     "status": "completed"
    },
    "tags": []
   },
   "outputs": [],
   "source": [
    "#import pandas as pd\n",
    "#\n",
    "#X_train = pd.read_csv(\"./data/X_train.csv\")\n",
    "#y_train = pd.read_csv(\"./data/y_train.csv\")"
   ]
  },
  {
   "cell_type": "code",
   "execution_count": 12,
   "id": "63d08085",
   "metadata": {
    "execution": {
     "iopub.execute_input": "2025-07-30T21:38:23.520914Z",
     "iopub.status.busy": "2025-07-30T21:38:23.520144Z",
     "iopub.status.idle": "2025-07-30T21:38:23.525025Z",
     "shell.execute_reply": "2025-07-30T21:38:23.524234Z"
    },
    "papermill": {
     "duration": 0.02739,
     "end_time": "2025-07-30T21:38:23.526722",
     "exception": false,
     "start_time": "2025-07-30T21:38:23.499332",
     "status": "completed"
    },
    "tags": []
   },
   "outputs": [],
   "source": [
    "#X_test = pd.read_csv(\"./data/X_test.csv\")\n",
    "#y_true = pd.read_csv(\"./data/y_test.csv\")"
   ]
  },
  {
   "cell_type": "code",
   "execution_count": 13,
   "id": "98a8d0fa-1d3d-4ed8-bb2c-281470e24add",
   "metadata": {
    "execution": {
     "iopub.execute_input": "2025-07-30T21:38:23.571771Z",
     "iopub.status.busy": "2025-07-30T21:38:23.571120Z",
     "iopub.status.idle": "2025-07-30T21:38:23.576234Z",
     "shell.execute_reply": "2025-07-30T21:38:23.575277Z"
    },
    "papermill": {
     "duration": 0.029693,
     "end_time": "2025-07-30T21:38:23.577886",
     "exception": false,
     "start_time": "2025-07-30T21:38:23.548193",
     "status": "completed"
    },
    "tags": []
   },
   "outputs": [],
   "source": [
    "# Calibration data for conformal\n",
    "#X_calib = pd.read_csv(\"./data/X_calib.csv\")\n",
    "#y_calib = pd.read_csv(\"./data/y_calib.csv\")"
   ]
  },
  {
   "cell_type": "markdown",
   "id": "997051c5-15bd-4b69-9786-c3001a3ce484",
   "metadata": {
    "papermill": {
     "duration": 0.020854,
     "end_time": "2025-07-30T21:38:23.618943",
     "exception": false,
     "start_time": "2025-07-30T21:38:23.598089",
     "status": "completed"
    },
    "tags": []
   },
   "source": [
    "# Splitting Data and Setting Training Data Size"
   ]
  },
  {
   "cell_type": "code",
   "execution_count": 14,
   "id": "e993b61f-042d-41a6-8c81-f55681f86335",
   "metadata": {
    "execution": {
     "iopub.execute_input": "2025-07-30T21:38:23.661912Z",
     "iopub.status.busy": "2025-07-30T21:38:23.661386Z",
     "iopub.status.idle": "2025-07-30T21:38:23.676843Z",
     "shell.execute_reply": "2025-07-30T21:38:23.675745Z"
    },
    "papermill": {
     "duration": 0.03821,
     "end_time": "2025-07-30T21:38:23.678429",
     "exception": false,
     "start_time": "2025-07-30T21:38:23.640219",
     "status": "completed"
    },
    "tags": []
   },
   "outputs": [],
   "source": [
    "def sample_by_year_size(df,\n",
    "                        training_year: str,\n",
    "                        training_size: str,\n",
    "                        random_state: int = 42):\n",
    "    # --- parse training_year into a list of int years ---\n",
    "    if \"_\" in training_year:\n",
    "        start_str, end_str = training_year.split(\"_\", 1)\n",
    "        start = int(start_str)\n",
    "        end   = int(end_str) if len(end_str) == 4 else (int(end_str) + (start // 100)*100)\n",
    "        years = list(range(start, end + 1))\n",
    "    else:\n",
    "        years = [int(training_year)]\n",
    "\n",
    "    df = df[df[\"year\"].isin(years)].reset_index(drop=True)\n",
    "\n",
    "    # --- map training_size to total number of samples ---\n",
    "    total_map = {\"25k\": 25_000, \"5k\": 5_000, \"1k\": 1_000}\n",
    "    if training_size not in total_map:\n",
    "        return df  # e.g. \"all\"\n",
    "\n",
    "    total_samples = total_map[training_size]\n",
    "    n_years       = len(years)\n",
    "    base          = total_samples // n_years\n",
    "    remainder     = total_samples % n_years\n",
    "\n",
    "    # --- build a dict: year -> how many to sample ---\n",
    "    # give +1 to the first `remainder` years in ascending order\n",
    "    quotas = {\n",
    "        year: base + (1 if idx < remainder else 0)\n",
    "        for idx, year in enumerate(sorted(years))\n",
    "    }\n",
    "\n",
    "    # --- sample per‐year according to the quota dict ---\n",
    "    sampled = (\n",
    "        df\n",
    "        .groupby(\"year\", group_keys=False)\n",
    "        .apply(lambda grp: grp.sample(\n",
    "            n=min(len(grp), quotas[grp.name]),\n",
    "            random_state=random_state))\n",
    "        .reset_index(drop=True)\n",
    "    )\n",
    "\n",
    "    return sampled"
   ]
  },
  {
   "cell_type": "code",
   "execution_count": 15,
   "id": "c0ccd338-0e02-41f3-a09d-f56f9266e3fb",
   "metadata": {
    "execution": {
     "iopub.execute_input": "2025-07-30T21:38:23.723910Z",
     "iopub.status.busy": "2025-07-30T21:38:23.723431Z",
     "iopub.status.idle": "2025-07-30T21:38:23.728447Z",
     "shell.execute_reply": "2025-07-30T21:38:23.727525Z"
    },
    "papermill": {
     "duration": 0.029241,
     "end_time": "2025-07-30T21:38:23.730311",
     "exception": false,
     "start_time": "2025-07-30T21:38:23.701070",
     "status": "completed"
    },
    "tags": []
   },
   "outputs": [],
   "source": [
    "#universe[\"training_size\"]"
   ]
  },
  {
   "cell_type": "code",
   "execution_count": 16,
   "id": "ca707fd7-8047-4acd-bfa5-66248fbbf8e6",
   "metadata": {
    "execution": {
     "iopub.execute_input": "2025-07-30T21:38:23.773675Z",
     "iopub.status.busy": "2025-07-30T21:38:23.772894Z",
     "iopub.status.idle": "2025-07-30T21:38:23.778015Z",
     "shell.execute_reply": "2025-07-30T21:38:23.777110Z"
    },
    "papermill": {
     "duration": 0.029221,
     "end_time": "2025-07-30T21:38:23.779919",
     "exception": false,
     "start_time": "2025-07-30T21:38:23.750698",
     "status": "completed"
    },
    "tags": []
   },
   "outputs": [],
   "source": [
    "#universe[\"training_year\"]"
   ]
  },
  {
   "cell_type": "code",
   "execution_count": 17,
   "id": "aea9c6ef-6f46-42c8-85eb-5a62025c1508",
   "metadata": {
    "execution": {
     "iopub.execute_input": "2025-07-30T21:38:23.825256Z",
     "iopub.status.busy": "2025-07-30T21:38:23.824744Z",
     "iopub.status.idle": "2025-07-30T21:38:24.414943Z",
     "shell.execute_reply": "2025-07-30T21:38:24.414207Z"
    },
    "papermill": {
     "duration": 0.61506,
     "end_time": "2025-07-30T21:38:24.416662",
     "exception": false,
     "start_time": "2025-07-30T21:38:23.801602",
     "status": "completed"
    },
    "tags": []
   },
   "outputs": [],
   "source": [
    "siab_train = sample_by_year_size(siab,\n",
    "                               training_year=universe[\"training_year\"],\n",
    "                               training_size=universe[\"training_size\"])"
   ]
  },
  {
   "cell_type": "code",
   "execution_count": 18,
   "id": "8d3afb32-789d-442c-8d5d-9f5aa8dd2eed",
   "metadata": {
    "execution": {
     "iopub.execute_input": "2025-07-30T21:38:24.461691Z",
     "iopub.status.busy": "2025-07-30T21:38:24.461199Z",
     "iopub.status.idle": "2025-07-30T21:38:24.466057Z",
     "shell.execute_reply": "2025-07-30T21:38:24.465165Z"
    },
    "papermill": {
     "duration": 0.029311,
     "end_time": "2025-07-30T21:38:24.467541",
     "exception": false,
     "start_time": "2025-07-30T21:38:24.438230",
     "status": "completed"
    },
    "tags": []
   },
   "outputs": [],
   "source": [
    "#siab_train.shape"
   ]
  },
  {
   "cell_type": "code",
   "execution_count": 19,
   "id": "d582db68-1a4c-47fb-84fc-08518dc1975a",
   "metadata": {
    "execution": {
     "iopub.execute_input": "2025-07-30T21:38:24.511226Z",
     "iopub.status.busy": "2025-07-30T21:38:24.510623Z",
     "iopub.status.idle": "2025-07-30T21:38:24.516018Z",
     "shell.execute_reply": "2025-07-30T21:38:24.515028Z"
    },
    "papermill": {
     "duration": 0.029201,
     "end_time": "2025-07-30T21:38:24.517739",
     "exception": false,
     "start_time": "2025-07-30T21:38:24.488538",
     "status": "completed"
    },
    "tags": []
   },
   "outputs": [],
   "source": [
    "#display(siab_train.groupby(\"year\").size())"
   ]
  },
  {
   "cell_type": "code",
   "execution_count": 20,
   "id": "a561edb4-d032-42cb-8256-22eac1111c64",
   "metadata": {
    "execution": {
     "iopub.execute_input": "2025-07-30T21:38:24.562974Z",
     "iopub.status.busy": "2025-07-30T21:38:24.562313Z",
     "iopub.status.idle": "2025-07-30T21:38:24.771516Z",
     "shell.execute_reply": "2025-07-30T21:38:24.770566Z"
    },
    "papermill": {
     "duration": 0.233245,
     "end_time": "2025-07-30T21:38:24.773391",
     "exception": false,
     "start_time": "2025-07-30T21:38:24.540146",
     "status": "completed"
    },
    "tags": []
   },
   "outputs": [],
   "source": [
    "#siab_train = siab_s[siab_s.year < 2015]\n",
    "siab_calib = siab[siab.year == 2015]\n",
    "siab_test = siab[siab.year == 2016]"
   ]
  },
  {
   "cell_type": "code",
   "execution_count": 21,
   "id": "472de16f-c3db-4916-846b-1f0de9cf1746",
   "metadata": {
    "execution": {
     "iopub.execute_input": "2025-07-30T21:38:24.818356Z",
     "iopub.status.busy": "2025-07-30T21:38:24.817692Z",
     "iopub.status.idle": "2025-07-30T21:38:24.824422Z",
     "shell.execute_reply": "2025-07-30T21:38:24.823499Z"
    },
    "papermill": {
     "duration": 0.031118,
     "end_time": "2025-07-30T21:38:24.825962",
     "exception": false,
     "start_time": "2025-07-30T21:38:24.794844",
     "status": "completed"
    },
    "tags": []
   },
   "outputs": [],
   "source": [
    "X_train = siab_train.iloc[:,4:164]\n",
    "y_train = siab_train.iloc[:, [3]]"
   ]
  },
  {
   "cell_type": "code",
   "execution_count": 22,
   "id": "828c96af-f43a-4ed6-ba47-8ac73a47d56c",
   "metadata": {
    "execution": {
     "iopub.execute_input": "2025-07-30T21:38:24.868750Z",
     "iopub.status.busy": "2025-07-30T21:38:24.868086Z",
     "iopub.status.idle": "2025-07-30T21:38:24.919655Z",
     "shell.execute_reply": "2025-07-30T21:38:24.918591Z"
    },
    "papermill": {
     "duration": 0.074938,
     "end_time": "2025-07-30T21:38:24.921409",
     "exception": false,
     "start_time": "2025-07-30T21:38:24.846471",
     "status": "completed"
    },
    "tags": []
   },
   "outputs": [],
   "source": [
    "X_calib = siab_calib.iloc[:,4:164]\n",
    "y_calib = siab_calib.iloc[:, [3]]"
   ]
  },
  {
   "cell_type": "code",
   "execution_count": 23,
   "id": "c34be9c3-6bd6-476e-acd3-845840e303be",
   "metadata": {
    "execution": {
     "iopub.execute_input": "2025-07-30T21:38:24.966628Z",
     "iopub.status.busy": "2025-07-30T21:38:24.965954Z",
     "iopub.status.idle": "2025-07-30T21:38:25.020254Z",
     "shell.execute_reply": "2025-07-30T21:38:25.019299Z"
    },
    "papermill": {
     "duration": 0.078794,
     "end_time": "2025-07-30T21:38:25.021913",
     "exception": false,
     "start_time": "2025-07-30T21:38:24.943119",
     "status": "completed"
    },
    "tags": []
   },
   "outputs": [],
   "source": [
    "X_test = siab_test.iloc[:,4:164]\n",
    "y_true = siab_test.iloc[:, [3]]"
   ]
  },
  {
   "cell_type": "markdown",
   "id": "9901737e-04df-44f0-9100-f5ad144ed040",
   "metadata": {
    "papermill": {
     "duration": 0.019905,
     "end_time": "2025-07-30T21:38:25.063280",
     "exception": false,
     "start_time": "2025-07-30T21:38:25.043375",
     "status": "completed"
    },
    "tags": []
   },
   "source": [
    "# Splitting Data and Setting Training Data Size OLD VERSION"
   ]
  },
  {
   "cell_type": "code",
   "execution_count": 24,
   "id": "acbc8f7d-8fc8-4e86-8c59-5dcb0f58384b",
   "metadata": {
    "execution": {
     "iopub.execute_input": "2025-07-30T21:38:25.104525Z",
     "iopub.status.busy": "2025-07-30T21:38:25.103578Z",
     "iopub.status.idle": "2025-07-30T21:38:25.109197Z",
     "shell.execute_reply": "2025-07-30T21:38:25.108362Z"
    },
    "papermill": {
     "duration": 0.027924,
     "end_time": "2025-07-30T21:38:25.110661",
     "exception": false,
     "start_time": "2025-07-30T21:38:25.082737",
     "status": "completed"
    },
    "tags": []
   },
   "outputs": [],
   "source": [
    "#def sample_by_year(df, training_size, random_state=42):\n",
    "#    if training_size == \"2014\":\n",
    "#        return df[df[\"year\"] == 2014].reset_index(drop=True)\n",
    "#    \n",
    "#    size_map = {\n",
    "#        \"25k\": 5000,\n",
    "#        \"5k\": 1000,\n",
    "#        \"1k\": 200\n",
    "#    }\n",
    "#\n",
    "#    if training_size not in size_map:\n",
    "#        return df.reset_index(drop=True)  # use all data\n",
    "#\n",
    "#    n_per_year = size_map[training_size]\n",
    "#    grouped = df.groupby(\"year\")\n",
    "#    sampled = grouped.apply(lambda x: x.sample(n=min(n_per_year, len(x)), random_state=random_state))\n",
    "#    return sampled.reset_index(drop=True)"
   ]
  },
  {
   "cell_type": "code",
   "execution_count": 25,
   "id": "6d931f52-beaf-43ff-9e78-9d44a448d54e",
   "metadata": {
    "execution": {
     "iopub.execute_input": "2025-07-30T21:38:25.155297Z",
     "iopub.status.busy": "2025-07-30T21:38:25.154419Z",
     "iopub.status.idle": "2025-07-30T21:38:25.159888Z",
     "shell.execute_reply": "2025-07-30T21:38:25.158953Z"
    },
    "papermill": {
     "duration": 0.02961,
     "end_time": "2025-07-30T21:38:25.161533",
     "exception": false,
     "start_time": "2025-07-30T21:38:25.131923",
     "status": "completed"
    },
    "tags": []
   },
   "outputs": [],
   "source": [
    "#siab_s = sample_by_year(siab, universe[\"training_size\"])"
   ]
  },
  {
   "cell_type": "code",
   "execution_count": 26,
   "id": "5db0a40e-a4e2-4920-be85-b12ae061d70d",
   "metadata": {
    "execution": {
     "iopub.execute_input": "2025-07-30T21:38:25.205427Z",
     "iopub.status.busy": "2025-07-30T21:38:25.204541Z",
     "iopub.status.idle": "2025-07-30T21:38:25.209902Z",
     "shell.execute_reply": "2025-07-30T21:38:25.208962Z"
    },
    "papermill": {
     "duration": 0.029665,
     "end_time": "2025-07-30T21:38:25.211523",
     "exception": false,
     "start_time": "2025-07-30T21:38:25.181858",
     "status": "completed"
    },
    "tags": []
   },
   "outputs": [],
   "source": [
    "#display(siab_s.groupby(\"year\").size())"
   ]
  },
  {
   "cell_type": "code",
   "execution_count": 27,
   "id": "e6c733c5",
   "metadata": {
    "execution": {
     "iopub.execute_input": "2025-07-30T21:38:25.258233Z",
     "iopub.status.busy": "2025-07-30T21:38:25.257372Z",
     "iopub.status.idle": "2025-07-30T21:38:25.361214Z",
     "shell.execute_reply": "2025-07-30T21:38:25.360278Z"
    },
    "papermill": {
     "duration": 0.130507,
     "end_time": "2025-07-30T21:38:25.363175",
     "exception": false,
     "start_time": "2025-07-30T21:38:25.232668",
     "status": "completed"
    },
    "tags": []
   },
   "outputs": [],
   "source": [
    "# Auxiliary data needed downstream in the pipeline\n",
    "\n",
    "org_train = X_train.copy()\n",
    "org_test = X_test.copy()\n",
    "org_calib = X_calib.copy()"
   ]
  },
  {
   "cell_type": "code",
   "execution_count": 28,
   "id": "1466abac-c6da-4492-a62f-4240ae3783af",
   "metadata": {
    "execution": {
     "iopub.execute_input": "2025-07-30T21:38:25.411658Z",
     "iopub.status.busy": "2025-07-30T21:38:25.411087Z",
     "iopub.status.idle": "2025-07-30T21:38:25.416898Z",
     "shell.execute_reply": "2025-07-30T21:38:25.415948Z"
    },
    "papermill": {
     "duration": 0.031938,
     "end_time": "2025-07-30T21:38:25.418494",
     "exception": false,
     "start_time": "2025-07-30T21:38:25.386556",
     "status": "completed"
    },
    "tags": []
   },
   "outputs": [],
   "source": [
    "# put in other script?\n",
    "# Group sizes\n",
    "\n",
    "#def calculate_percentages(df, df_name):\n",
    "#    total_entries = len(df)\n",
    "#\n",
    "#    female_pct = (df['frau1'] == 1).mean() * 100\n",
    "#    non_german_pct = ((df['maxdeutsch1'] == 0) & (df['maxdeutsch.Missing.'] == 0)).mean() * 100\n",
    "#    non_german_male_pct = ((df['frau1'] == 0) & (df['maxdeutsch1'] == 0) & (df['maxdeutsch.Missing.'] == 0)).mean() * 100\n",
    "#    non_german_female_pct = ((df['frau1'] == 1) & (df['maxdeutsch1'] == 0) & (df['maxdeutsch.Missing.'] == 0)).mean() * 100\n",
    "#\n",
    "#    print(f\"--- {df_name} ---\")\n",
    "#    print(f\"Female: {female_pct:.2f}%\")\n",
    "#    print(f\"Non-German: {non_german_pct:.2f}%\")\n",
    "#    print(f\"Non-German Male: {non_german_male_pct:.2f}%\")\n",
    "#    print(f\"Non-German Female: {non_german_female_pct:.2f}%\\n\")\n",
    "#\n",
    "## Calculate for each DataFrame\n",
    "#calculate_percentages(siab_calib, \"siab_calib\")\n",
    "#calculate_percentages(siab_test, \"siab_test\")\n",
    "#calculate_percentages(siab_train, \"siab_train\")"
   ]
  },
  {
   "cell_type": "markdown",
   "id": "0a4a1b33",
   "metadata": {
    "papermill": {
     "duration": 0.021885,
     "end_time": "2025-07-30T21:38:25.462157",
     "exception": false,
     "start_time": "2025-07-30T21:38:25.440272",
     "status": "completed"
    },
    "tags": []
   },
   "source": [
    "# Preprocessing Data"
   ]
  },
  {
   "cell_type": "code",
   "execution_count": 29,
   "id": "ca879031",
   "metadata": {
    "execution": {
     "iopub.execute_input": "2025-07-30T21:38:25.507514Z",
     "iopub.status.busy": "2025-07-30T21:38:25.507022Z",
     "iopub.status.idle": "2025-07-30T21:38:25.512667Z",
     "shell.execute_reply": "2025-07-30T21:38:25.511805Z"
    },
    "papermill": {
     "duration": 0.029459,
     "end_time": "2025-07-30T21:38:25.514059",
     "exception": false,
     "start_time": "2025-07-30T21:38:25.484600",
     "status": "completed"
    },
    "tags": []
   },
   "outputs": [],
   "source": [
    "# EXCLUDE PROTECTED FEATURES\n",
    "# ----------------------\n",
    "# \"exclude_features\": \"none\", # \"nationality\", \"sex\", \"nationality-sex\"\n",
    "\n",
    "excluded_features = universe[\"exclude_features\"].split(\"-\") # split, e.g.: \"nationality-sex\" -> [\"nationality\", \"sex\"]\n",
    "excluded_features_dictionary = {\n",
    "    \"nationality\": [\"maxdeutsch1\", \"maxdeutsch.Missing.\"],\n",
    "    \"sex\": [\"frau1\"],\n",
    "    \"age\": [\"age\"],\n",
    "}\n"
   ]
  },
  {
   "cell_type": "code",
   "execution_count": 30,
   "id": "b745ac60",
   "metadata": {
    "execution": {
     "iopub.execute_input": "2025-07-30T21:38:25.559564Z",
     "iopub.status.busy": "2025-07-30T21:38:25.559099Z",
     "iopub.status.idle": "2025-07-30T21:38:25.629429Z",
     "shell.execute_reply": "2025-07-30T21:38:25.628400Z"
    },
    "papermill": {
     "duration": 0.095365,
     "end_time": "2025-07-30T21:38:25.631511",
     "exception": false,
     "start_time": "2025-07-30T21:38:25.536146",
     "status": "completed"
    },
    "tags": []
   },
   "outputs": [],
   "source": [
    "# Code nice names to column names\n",
    "\n",
    "excluded_features_columns = [\n",
    "    excluded_features_dictionary[f] for f in excluded_features if len(f) > 0 and f != \"none\"\n",
    "]"
   ]
  },
  {
   "cell_type": "code",
   "execution_count": 31,
   "id": "f84f73a2",
   "metadata": {
    "execution": {
     "iopub.execute_input": "2025-07-30T21:38:25.679694Z",
     "iopub.status.busy": "2025-07-30T21:38:25.679213Z",
     "iopub.status.idle": "2025-07-30T21:38:25.685593Z",
     "shell.execute_reply": "2025-07-30T21:38:25.684436Z"
    },
    "papermill": {
     "duration": 0.032029,
     "end_time": "2025-07-30T21:38:25.687809",
     "exception": false,
     "start_time": "2025-07-30T21:38:25.655780",
     "status": "completed"
    },
    "tags": []
   },
   "outputs": [],
   "source": [
    "from utils import flatten_once\n",
    "\n",
    "excluded_features_columns = flatten_once(excluded_features_columns)"
   ]
  },
  {
   "cell_type": "code",
   "execution_count": 32,
   "id": "884dea22",
   "metadata": {
    "execution": {
     "iopub.execute_input": "2025-07-30T21:38:25.736444Z",
     "iopub.status.busy": "2025-07-30T21:38:25.735802Z",
     "iopub.status.idle": "2025-07-30T21:38:25.743801Z",
     "shell.execute_reply": "2025-07-30T21:38:25.742690Z"
    },
    "papermill": {
     "duration": 0.033133,
     "end_time": "2025-07-30T21:38:25.745431",
     "exception": false,
     "start_time": "2025-07-30T21:38:25.712298",
     "status": "completed"
    },
    "tags": []
   },
   "outputs": [
    {
     "name": "stdout",
     "output_type": "stream",
     "text": [
      "Dropping features: ['maxdeutsch1', 'maxdeutsch.Missing.']\n"
     ]
    }
   ],
   "source": [
    "if len(excluded_features_columns) > 0:\n",
    "    print(f\"Dropping features: {excluded_features_columns}\")\n",
    "    X_train.drop(excluded_features_columns, axis=1, inplace=True)"
   ]
  },
  {
   "cell_type": "code",
   "execution_count": 33,
   "id": "95ab8b16",
   "metadata": {
    "execution": {
     "iopub.execute_input": "2025-07-30T21:38:25.792508Z",
     "iopub.status.busy": "2025-07-30T21:38:25.791519Z",
     "iopub.status.idle": "2025-07-30T21:38:25.844763Z",
     "shell.execute_reply": "2025-07-30T21:38:25.843668Z"
    },
    "papermill": {
     "duration": 0.078231,
     "end_time": "2025-07-30T21:38:25.846778",
     "exception": false,
     "start_time": "2025-07-30T21:38:25.768547",
     "status": "completed"
    },
    "tags": []
   },
   "outputs": [
    {
     "name": "stdout",
     "output_type": "stream",
     "text": [
      "Dropping features: ['maxdeutsch1', 'maxdeutsch.Missing.']\n"
     ]
    }
   ],
   "source": [
    "if len(excluded_features_columns) > 0:\n",
    "    print(f\"Dropping features: {excluded_features_columns}\")\n",
    "    X_test.drop(excluded_features_columns, axis=1, inplace=True)"
   ]
  },
  {
   "cell_type": "code",
   "execution_count": 34,
   "id": "1853aaf5-fb9f-46cb-a2b5-8ea4ae2237e4",
   "metadata": {
    "execution": {
     "iopub.execute_input": "2025-07-30T21:38:25.894043Z",
     "iopub.status.busy": "2025-07-30T21:38:25.893118Z",
     "iopub.status.idle": "2025-07-30T21:38:25.946041Z",
     "shell.execute_reply": "2025-07-30T21:38:25.945082Z"
    },
    "papermill": {
     "duration": 0.078335,
     "end_time": "2025-07-30T21:38:25.947884",
     "exception": false,
     "start_time": "2025-07-30T21:38:25.869549",
     "status": "completed"
    },
    "tags": []
   },
   "outputs": [
    {
     "name": "stdout",
     "output_type": "stream",
     "text": [
      "Dropping features: ['maxdeutsch1', 'maxdeutsch.Missing.']\n"
     ]
    }
   ],
   "source": [
    "if len(excluded_features_columns) > 0:\n",
    "    print(f\"Dropping features: {excluded_features_columns}\")\n",
    "    X_calib.drop(excluded_features_columns, axis=1, inplace=True)"
   ]
  },
  {
   "cell_type": "code",
   "execution_count": 35,
   "id": "6727d079-03e5-481e-9d38-292a90b7a0a8",
   "metadata": {
    "execution": {
     "iopub.execute_input": "2025-07-30T21:38:25.993553Z",
     "iopub.status.busy": "2025-07-30T21:38:25.992687Z",
     "iopub.status.idle": "2025-07-30T21:38:25.997606Z",
     "shell.execute_reply": "2025-07-30T21:38:25.996776Z"
    },
    "papermill": {
     "duration": 0.028077,
     "end_time": "2025-07-30T21:38:25.999202",
     "exception": false,
     "start_time": "2025-07-30T21:38:25.971125",
     "status": "completed"
    },
    "tags": []
   },
   "outputs": [],
   "source": [
    "# SPLIT & STRATIFY DATA\n",
    "# ----------------------"
   ]
  },
  {
   "cell_type": "code",
   "execution_count": 36,
   "id": "76c4dc6d",
   "metadata": {
    "execution": {
     "iopub.execute_input": "2025-07-30T21:38:26.043549Z",
     "iopub.status.busy": "2025-07-30T21:38:26.043006Z",
     "iopub.status.idle": "2025-07-30T21:38:26.048623Z",
     "shell.execute_reply": "2025-07-30T21:38:26.047627Z"
    },
    "papermill": {
     "duration": 0.029044,
     "end_time": "2025-07-30T21:38:26.050216",
     "exception": false,
     "start_time": "2025-07-30T21:38:26.021172",
     "status": "completed"
    },
    "tags": []
   },
   "outputs": [],
   "source": [
    "# EXCLUDE CERTAIN SUBGROUPS\n",
    "# ----------------------\n",
    "\n",
    "mode = universe.get(\"exclude_subgroups\", \"keep-all\") \n",
    "# Fetches the exclude_subgroups setting from the universe dict.\n",
    "# Defaults to \"keep-all\" if the key is missing."
   ]
  },
  {
   "cell_type": "code",
   "execution_count": 37,
   "id": "21994072",
   "metadata": {
    "execution": {
     "iopub.execute_input": "2025-07-30T21:38:26.095581Z",
     "iopub.status.busy": "2025-07-30T21:38:26.094928Z",
     "iopub.status.idle": "2025-07-30T21:38:26.101642Z",
     "shell.execute_reply": "2025-07-30T21:38:26.100640Z"
    },
    "papermill": {
     "duration": 0.030955,
     "end_time": "2025-07-30T21:38:26.103337",
     "exception": false,
     "start_time": "2025-07-30T21:38:26.072382",
     "status": "completed"
    },
    "tags": []
   },
   "outputs": [],
   "source": [
    "if mode == \"keep-all\":\n",
    "    keep_mask = pd.Series(True, index=org_train.index)\n",
    "\n",
    "# org_train contains the original feature columns from features_org (in Simson)\n",
    "# features_org contains unprocessed features, for me X_train at beginning ???\n",
    "# For keep-all, creates a boolean Series (keep_mask) of all True, so no rows are removed.\n",
    "\n",
    "elif mode == \"drop-non-german\":\n",
    "    keep_mask = org_train[\"maxdeutsch1\"] == 1 # ??? what about missing values?\n",
    "\n",
    "else:\n",
    "    raise ValueError(f\"Unsupported mode for exclude_subgroups: {mode}\")\n"
   ]
  },
  {
   "cell_type": "code",
   "execution_count": 38,
   "id": "71651440",
   "metadata": {
    "execution": {
     "iopub.execute_input": "2025-07-30T21:38:26.157932Z",
     "iopub.status.busy": "2025-07-30T21:38:26.156988Z",
     "iopub.status.idle": "2025-07-30T21:38:26.164085Z",
     "shell.execute_reply": "2025-07-30T21:38:26.163073Z"
    },
    "papermill": {
     "duration": 0.035717,
     "end_time": "2025-07-30T21:38:26.165793",
     "exception": false,
     "start_time": "2025-07-30T21:38:26.130076",
     "status": "completed"
    },
    "tags": []
   },
   "outputs": [],
   "source": [
    "n_drop = (~keep_mask).sum() # Calculates how many rows are set to be dropped\n",
    "if n_drop > 0:\n",
    "    pct = n_drop / len(keep_mask) * 100\n",
    "    print(f\"Dropping {n_drop} rows ({pct:.2f}%) where mode='{mode}'\")"
   ]
  },
  {
   "cell_type": "code",
   "execution_count": 39,
   "id": "5fb8eee5",
   "metadata": {
    "execution": {
     "iopub.execute_input": "2025-07-30T21:38:26.225945Z",
     "iopub.status.busy": "2025-07-30T21:38:26.225260Z",
     "iopub.status.idle": "2025-07-30T21:38:26.233171Z",
     "shell.execute_reply": "2025-07-30T21:38:26.232139Z"
    },
    "papermill": {
     "duration": 0.042984,
     "end_time": "2025-07-30T21:38:26.234973",
     "exception": false,
     "start_time": "2025-07-30T21:38:26.191989",
     "status": "completed"
    },
    "tags": []
   },
   "outputs": [],
   "source": [
    "X_train = X_train[keep_mask]"
   ]
  },
  {
   "cell_type": "code",
   "execution_count": 40,
   "id": "b202bb3a",
   "metadata": {
    "execution": {
     "iopub.execute_input": "2025-07-30T21:38:26.283215Z",
     "iopub.status.busy": "2025-07-30T21:38:26.282546Z",
     "iopub.status.idle": "2025-07-30T21:38:26.288706Z",
     "shell.execute_reply": "2025-07-30T21:38:26.287819Z"
    },
    "papermill": {
     "duration": 0.031936,
     "end_time": "2025-07-30T21:38:26.290268",
     "exception": false,
     "start_time": "2025-07-30T21:38:26.258332",
     "status": "completed"
    },
    "tags": []
   },
   "outputs": [],
   "source": [
    "y_train = y_train[keep_mask]"
   ]
  },
  {
   "cell_type": "markdown",
   "id": "493e2ac3",
   "metadata": {
    "papermill": {
     "duration": 0.022359,
     "end_time": "2025-07-30T21:38:26.335190",
     "exception": false,
     "start_time": "2025-07-30T21:38:26.312831",
     "status": "completed"
    },
    "tags": []
   },
   "source": [
    "# Model Training"
   ]
  },
  {
   "cell_type": "code",
   "execution_count": 41,
   "id": "679e1268",
   "metadata": {
    "execution": {
     "iopub.execute_input": "2025-07-30T21:38:26.384290Z",
     "iopub.status.busy": "2025-07-30T21:38:26.382287Z",
     "iopub.status.idle": "2025-07-30T21:38:26.486370Z",
     "shell.execute_reply": "2025-07-30T21:38:26.485364Z"
    },
    "papermill": {
     "duration": 0.129984,
     "end_time": "2025-07-30T21:38:26.488326",
     "exception": false,
     "start_time": "2025-07-30T21:38:26.358342",
     "status": "completed"
    },
    "tags": []
   },
   "outputs": [],
   "source": [
    "from sklearn.linear_model import LogisticRegression\n",
    "from sklearn.ensemble import GradientBoostingClassifier, RandomForestClassifier\n",
    "\n",
    "if (universe[\"model\"] == \"logreg\"):\n",
    "    model = LogisticRegression() #penalty=\"none\") #, solver=\"newton-cg\", max_iter=1) # include random_state=19 ?\n",
    "elif (universe[\"model\"] == \"penalized_logreg\"):\n",
    "    model = LogisticRegression(penalty=\"l2\", C=1.0) #, solver=\"newton-cg\", max_iter=1)\n",
    "elif (universe[\"model\"] == \"rf\"):\n",
    "    model = RandomForestClassifier(n_estimators=100, n_jobs=-1)\n",
    "elif (universe[\"model\"] == \"gbm\"):\n",
    "    model = GradientBoostingClassifier()\n",
    "elif (universe[\"model\"] == \"elasticnet\"):\n",
    "    model = LogisticRegression(penalty = 'elasticnet', solver = 'saga', l1_ratio = 0.5, max_iter=5000) # which solver to use?\n",
    "else:\n",
    "    raise \"Unsupported universe.model\""
   ]
  },
  {
   "cell_type": "code",
   "execution_count": 42,
   "id": "0cc8f744",
   "metadata": {
    "execution": {
     "iopub.execute_input": "2025-07-30T21:38:26.535938Z",
     "iopub.status.busy": "2025-07-30T21:38:26.535189Z",
     "iopub.status.idle": "2025-07-30T21:38:26.542196Z",
     "shell.execute_reply": "2025-07-30T21:38:26.541214Z"
    },
    "papermill": {
     "duration": 0.032274,
     "end_time": "2025-07-30T21:38:26.543941",
     "exception": false,
     "start_time": "2025-07-30T21:38:26.511667",
     "status": "completed"
    },
    "tags": []
   },
   "outputs": [],
   "source": [
    "import numpy as np\n",
    "from sklearn.pipeline import Pipeline\n",
    "from sklearn.preprocessing import StandardScaler\n",
    "\n",
    "model = Pipeline([\n",
    "    #(\"continuous_processor\", continuous_processor),\n",
    "    #(\"categorical_preprocessor\", categorical_preprocessor),\n",
    "    (\"scale\", StandardScaler() if universe[\"scale\"] == \"scale\" else None), \n",
    "    (\"model\", model),\n",
    "])"
   ]
  },
  {
   "cell_type": "code",
   "execution_count": 43,
   "id": "9442c04d",
   "metadata": {
    "execution": {
     "iopub.execute_input": "2025-07-30T21:38:26.592611Z",
     "iopub.status.busy": "2025-07-30T21:38:26.592178Z",
     "iopub.status.idle": "2025-07-30T21:38:26.663889Z",
     "shell.execute_reply": "2025-07-30T21:38:26.662913Z"
    },
    "papermill": {
     "duration": 0.098756,
     "end_time": "2025-07-30T21:38:26.666713",
     "exception": false,
     "start_time": "2025-07-30T21:38:26.567957",
     "status": "completed"
    },
    "tags": []
   },
   "outputs": [
    {
     "name": "stderr",
     "output_type": "stream",
     "text": [
      "/dss/dsshome1/0C/ra93lal2/.local/share/virtualenvs/CMA_Fairness_v2-3j10GkSs/lib/python3.10/site-packages/sklearn/linear_model/_logistic.py:444: ConvergenceWarning: lbfgs failed to converge (status=1):\n",
      "STOP: TOTAL NO. of ITERATIONS REACHED LIMIT.\n",
      "\n",
      "Increase the number of iterations (max_iter) or scale the data as shown in:\n",
      "    https://scikit-learn.org/stable/modules/preprocessing.html\n",
      "Please also refer to the documentation for alternative solver options:\n",
      "    https://scikit-learn.org/stable/modules/linear_model.html#logistic-regression\n",
      "  n_iter_i = _check_optimize_result(\n"
     ]
    },
    {
     "data": {
      "text/html": [
       "<style>#sk-container-id-1 {color: black;background-color: white;}#sk-container-id-1 pre{padding: 0;}#sk-container-id-1 div.sk-toggleable {background-color: white;}#sk-container-id-1 label.sk-toggleable__label {cursor: pointer;display: block;width: 100%;margin-bottom: 0;padding: 0.3em;box-sizing: border-box;text-align: center;}#sk-container-id-1 label.sk-toggleable__label-arrow:before {content: \"▸\";float: left;margin-right: 0.25em;color: #696969;}#sk-container-id-1 label.sk-toggleable__label-arrow:hover:before {color: black;}#sk-container-id-1 div.sk-estimator:hover label.sk-toggleable__label-arrow:before {color: black;}#sk-container-id-1 div.sk-toggleable__content {max-height: 0;max-width: 0;overflow: hidden;text-align: left;background-color: #f0f8ff;}#sk-container-id-1 div.sk-toggleable__content pre {margin: 0.2em;color: black;border-radius: 0.25em;background-color: #f0f8ff;}#sk-container-id-1 input.sk-toggleable__control:checked~div.sk-toggleable__content {max-height: 200px;max-width: 100%;overflow: auto;}#sk-container-id-1 input.sk-toggleable__control:checked~label.sk-toggleable__label-arrow:before {content: \"▾\";}#sk-container-id-1 div.sk-estimator input.sk-toggleable__control:checked~label.sk-toggleable__label {background-color: #d4ebff;}#sk-container-id-1 div.sk-label input.sk-toggleable__control:checked~label.sk-toggleable__label {background-color: #d4ebff;}#sk-container-id-1 input.sk-hidden--visually {border: 0;clip: rect(1px 1px 1px 1px);clip: rect(1px, 1px, 1px, 1px);height: 1px;margin: -1px;overflow: hidden;padding: 0;position: absolute;width: 1px;}#sk-container-id-1 div.sk-estimator {font-family: monospace;background-color: #f0f8ff;border: 1px dotted black;border-radius: 0.25em;box-sizing: border-box;margin-bottom: 0.5em;}#sk-container-id-1 div.sk-estimator:hover {background-color: #d4ebff;}#sk-container-id-1 div.sk-parallel-item::after {content: \"\";width: 100%;border-bottom: 1px solid gray;flex-grow: 1;}#sk-container-id-1 div.sk-label:hover label.sk-toggleable__label {background-color: #d4ebff;}#sk-container-id-1 div.sk-serial::before {content: \"\";position: absolute;border-left: 1px solid gray;box-sizing: border-box;top: 0;bottom: 0;left: 50%;z-index: 0;}#sk-container-id-1 div.sk-serial {display: flex;flex-direction: column;align-items: center;background-color: white;padding-right: 0.2em;padding-left: 0.2em;position: relative;}#sk-container-id-1 div.sk-item {position: relative;z-index: 1;}#sk-container-id-1 div.sk-parallel {display: flex;align-items: stretch;justify-content: center;background-color: white;position: relative;}#sk-container-id-1 div.sk-item::before, #sk-container-id-1 div.sk-parallel-item::before {content: \"\";position: absolute;border-left: 1px solid gray;box-sizing: border-box;top: 0;bottom: 0;left: 50%;z-index: -1;}#sk-container-id-1 div.sk-parallel-item {display: flex;flex-direction: column;z-index: 1;position: relative;background-color: white;}#sk-container-id-1 div.sk-parallel-item:first-child::after {align-self: flex-end;width: 50%;}#sk-container-id-1 div.sk-parallel-item:last-child::after {align-self: flex-start;width: 50%;}#sk-container-id-1 div.sk-parallel-item:only-child::after {width: 0;}#sk-container-id-1 div.sk-dashed-wrapped {border: 1px dashed gray;margin: 0 0.4em 0.5em 0.4em;box-sizing: border-box;padding-bottom: 0.4em;background-color: white;}#sk-container-id-1 div.sk-label label {font-family: monospace;font-weight: bold;display: inline-block;line-height: 1.2em;}#sk-container-id-1 div.sk-label-container {text-align: center;}#sk-container-id-1 div.sk-container {/* jupyter's `normalize.less` sets `[hidden] { display: none; }` but bootstrap.min.css set `[hidden] { display: none !important; }` so we also need the `!important` here to be able to override the default hidden behavior on the sphinx rendered scikit-learn.org. See: https://github.com/scikit-learn/scikit-learn/issues/21755 */display: inline-block !important;position: relative;}#sk-container-id-1 div.sk-text-repr-fallback {display: none;}</style><div id=\"sk-container-id-1\" class=\"sk-top-container\"><div class=\"sk-text-repr-fallback\"><pre>Pipeline(steps=[(&#x27;scale&#x27;, None), (&#x27;model&#x27;, LogisticRegression())])</pre><b>In a Jupyter environment, please rerun this cell to show the HTML representation or trust the notebook. <br />On GitHub, the HTML representation is unable to render, please try loading this page with nbviewer.org.</b></div><div class=\"sk-container\" hidden><div class=\"sk-item sk-dashed-wrapped\"><div class=\"sk-label-container\"><div class=\"sk-label sk-toggleable\"><input class=\"sk-toggleable__control sk-hidden--visually\" id=\"sk-estimator-id-1\" type=\"checkbox\" ><label for=\"sk-estimator-id-1\" class=\"sk-toggleable__label sk-toggleable__label-arrow\">Pipeline</label><div class=\"sk-toggleable__content\"><pre>Pipeline(steps=[(&#x27;scale&#x27;, None), (&#x27;model&#x27;, LogisticRegression())])</pre></div></div></div><div class=\"sk-serial\"><div class=\"sk-item\"><div class=\"sk-estimator sk-toggleable\"><input class=\"sk-toggleable__control sk-hidden--visually\" id=\"sk-estimator-id-2\" type=\"checkbox\" ><label for=\"sk-estimator-id-2\" class=\"sk-toggleable__label sk-toggleable__label-arrow\">None</label><div class=\"sk-toggleable__content\"><pre>None</pre></div></div></div><div class=\"sk-item\"><div class=\"sk-estimator sk-toggleable\"><input class=\"sk-toggleable__control sk-hidden--visually\" id=\"sk-estimator-id-3\" type=\"checkbox\" ><label for=\"sk-estimator-id-3\" class=\"sk-toggleable__label sk-toggleable__label-arrow\">LogisticRegression</label><div class=\"sk-toggleable__content\"><pre>LogisticRegression()</pre></div></div></div></div></div></div></div>"
      ],
      "text/plain": [
       "Pipeline(steps=[('scale', None), ('model', LogisticRegression())])"
      ]
     },
     "execution_count": 43,
     "metadata": {},
     "output_type": "execute_result"
    }
   ],
   "source": [
    "model.fit(X_train, y_train.values.ravel())"
   ]
  },
  {
   "cell_type": "code",
   "execution_count": 44,
   "id": "af59f8c0",
   "metadata": {
    "execution": {
     "iopub.execute_input": "2025-07-30T21:38:26.717870Z",
     "iopub.status.busy": "2025-07-30T21:38:26.717102Z",
     "iopub.status.idle": "2025-07-30T21:38:26.722684Z",
     "shell.execute_reply": "2025-07-30T21:38:26.721742Z"
    },
    "papermill": {
     "duration": 0.032066,
     "end_time": "2025-07-30T21:38:26.724283",
     "exception": false,
     "start_time": "2025-07-30T21:38:26.692217",
     "status": "completed"
    },
    "tags": []
   },
   "outputs": [],
   "source": [
    "from fairness_multiverse.universe import predict_w_threshold"
   ]
  },
  {
   "cell_type": "code",
   "execution_count": 45,
   "id": "a7cf2e16",
   "metadata": {
    "execution": {
     "iopub.execute_input": "2025-07-30T21:38:26.777372Z",
     "iopub.status.busy": "2025-07-30T21:38:26.776787Z",
     "iopub.status.idle": "2025-07-30T21:38:26.874615Z",
     "shell.execute_reply": "2025-07-30T21:38:26.873730Z"
    },
    "papermill": {
     "duration": 0.128892,
     "end_time": "2025-07-30T21:38:26.876418",
     "exception": false,
     "start_time": "2025-07-30T21:38:26.747526",
     "status": "completed"
    },
    "tags": []
   },
   "outputs": [
    {
     "data": {
      "text/plain": [
       "0.8601270761342102"
      ]
     },
     "execution_count": 45,
     "metadata": {},
     "output_type": "execute_result"
    }
   ],
   "source": [
    "probs_test = model.predict_proba(X_test)\n",
    "\n",
    "'''\n",
    "Below code returns a boolean array (or binary 0/1 array depending on how it’s used) where each element \n",
    "is True if the probability of class 1 is greater than or equal to the threshold, and False otherwise.\n",
    "'''\n",
    "y_pred_default = predict_w_threshold(probs_test, 0.5)\n",
    "\n",
    "from sklearn.metrics import accuracy_score\n",
    "\n",
    "# Naive prediction\n",
    "accuracy_score(y_true = y_true, y_pred = y_pred_default)"
   ]
  },
  {
   "cell_type": "code",
   "execution_count": 46,
   "id": "081964c3",
   "metadata": {
    "execution": {
     "iopub.execute_input": "2025-07-30T21:38:26.927571Z",
     "iopub.status.busy": "2025-07-30T21:38:26.927046Z",
     "iopub.status.idle": "2025-07-30T21:38:27.008102Z",
     "shell.execute_reply": "2025-07-30T21:38:27.007085Z"
    },
    "papermill": {
     "duration": 0.108538,
     "end_time": "2025-07-30T21:38:27.009721",
     "exception": false,
     "start_time": "2025-07-30T21:38:26.901183",
     "status": "completed"
    },
    "tags": []
   },
   "outputs": [
    {
     "data": {
      "text/plain": [
       "array([0, 0, 0, ..., 0, 0, 0])"
      ]
     },
     "execution_count": 46,
     "metadata": {},
     "output_type": "execute_result"
    }
   ],
   "source": [
    "model.predict(X_test)"
   ]
  },
  {
   "cell_type": "markdown",
   "id": "56c9705b",
   "metadata": {
    "papermill": {
     "duration": 0.022661,
     "end_time": "2025-07-30T21:38:27.055315",
     "exception": false,
     "start_time": "2025-07-30T21:38:27.032654",
     "status": "completed"
    },
    "tags": []
   },
   "source": [
    "# Conformal Prediction"
   ]
  },
  {
   "cell_type": "code",
   "execution_count": 47,
   "id": "160ec6ff",
   "metadata": {
    "execution": {
     "iopub.execute_input": "2025-07-30T21:38:27.102717Z",
     "iopub.status.busy": "2025-07-30T21:38:27.101996Z",
     "iopub.status.idle": "2025-07-30T21:38:27.107449Z",
     "shell.execute_reply": "2025-07-30T21:38:27.106489Z"
    },
    "papermill": {
     "duration": 0.030349,
     "end_time": "2025-07-30T21:38:27.108990",
     "exception": false,
     "start_time": "2025-07-30T21:38:27.078641",
     "status": "completed"
    },
    "tags": []
   },
   "outputs": [],
   "source": [
    "# Miscoverage level for conformal prediction (10% allowed error rate => 90% target coverage)\n",
    "alpha = 0.1"
   ]
  },
  {
   "cell_type": "code",
   "execution_count": 48,
   "id": "eadf4555-3dd3-440e-8e35-f82a4ad9f855",
   "metadata": {
    "execution": {
     "iopub.execute_input": "2025-07-30T21:38:27.159875Z",
     "iopub.status.busy": "2025-07-30T21:38:27.159182Z",
     "iopub.status.idle": "2025-07-30T21:38:27.238302Z",
     "shell.execute_reply": "2025-07-30T21:38:27.237356Z"
    },
    "papermill": {
     "duration": 0.105264,
     "end_time": "2025-07-30T21:38:27.240210",
     "exception": false,
     "start_time": "2025-07-30T21:38:27.134946",
     "status": "completed"
    },
    "tags": []
   },
   "outputs": [],
   "source": [
    "probs_calib = model.predict_proba(X_calib)"
   ]
  },
  {
   "cell_type": "code",
   "execution_count": 49,
   "id": "2ed93547-6d5d-4983-9b36-1ecb300da49a",
   "metadata": {
    "execution": {
     "iopub.execute_input": "2025-07-30T21:38:27.291249Z",
     "iopub.status.busy": "2025-07-30T21:38:27.290710Z",
     "iopub.status.idle": "2025-07-30T21:38:27.296876Z",
     "shell.execute_reply": "2025-07-30T21:38:27.295825Z"
    },
    "papermill": {
     "duration": 0.033856,
     "end_time": "2025-07-30T21:38:27.298669",
     "exception": false,
     "start_time": "2025-07-30T21:38:27.264813",
     "status": "completed"
    },
    "tags": []
   },
   "outputs": [],
   "source": [
    "y_calib = y_calib.values.ravel().astype(int)"
   ]
  },
  {
   "cell_type": "code",
   "execution_count": 50,
   "id": "65d1320d-f588-4b38-9072-62af1ae97f7d",
   "metadata": {
    "execution": {
     "iopub.execute_input": "2025-07-30T21:38:27.355938Z",
     "iopub.status.busy": "2025-07-30T21:38:27.355292Z",
     "iopub.status.idle": "2025-07-30T21:38:27.362453Z",
     "shell.execute_reply": "2025-07-30T21:38:27.361612Z"
    },
    "papermill": {
     "duration": 0.040335,
     "end_time": "2025-07-30T21:38:27.364053",
     "exception": false,
     "start_time": "2025-07-30T21:38:27.323718",
     "status": "completed"
    },
    "tags": []
   },
   "outputs": [],
   "source": [
    "from fairness_multiverse.conformal import compute_nc_scores\n",
    "\n",
    "# Compute nonconformity scores on calibration set (1 - probability of true class)\n",
    "nc_scores = compute_nc_scores(probs_calib, y_calib)"
   ]
  },
  {
   "cell_type": "code",
   "execution_count": 51,
   "id": "df3b8ca3-53b7-43d5-9667-7c85da7aeda2",
   "metadata": {
    "execution": {
     "iopub.execute_input": "2025-07-30T21:38:27.413663Z",
     "iopub.status.busy": "2025-07-30T21:38:27.412985Z",
     "iopub.status.idle": "2025-07-30T21:38:27.419914Z",
     "shell.execute_reply": "2025-07-30T21:38:27.418927Z"
    },
    "papermill": {
     "duration": 0.032609,
     "end_time": "2025-07-30T21:38:27.421608",
     "exception": false,
     "start_time": "2025-07-30T21:38:27.388999",
     "status": "completed"
    },
    "tags": []
   },
   "outputs": [],
   "source": [
    "from fairness_multiverse.conformal import find_threshold\n",
    "\n",
    "# Find conformal threshold q_hat for the given alpha (split conformal method)\n",
    "q_hat = find_threshold(nc_scores, alpha)"
   ]
  },
  {
   "cell_type": "code",
   "execution_count": 52,
   "id": "4d29e6c1-0ef6-4aa4-b8fe-4fe79b0d033a",
   "metadata": {
    "execution": {
     "iopub.execute_input": "2025-07-30T21:38:27.472573Z",
     "iopub.status.busy": "2025-07-30T21:38:27.471907Z",
     "iopub.status.idle": "2025-07-30T21:38:27.478965Z",
     "shell.execute_reply": "2025-07-30T21:38:27.478050Z"
    },
    "papermill": {
     "duration": 0.033488,
     "end_time": "2025-07-30T21:38:27.480383",
     "exception": false,
     "start_time": "2025-07-30T21:38:27.446895",
     "status": "completed"
    },
    "tags": []
   },
   "outputs": [
    {
     "data": {
      "text/plain": [
       "0.698990996445199"
      ]
     },
     "execution_count": 52,
     "metadata": {},
     "output_type": "execute_result"
    }
   ],
   "source": [
    "q_hat"
   ]
  },
  {
   "cell_type": "code",
   "execution_count": 53,
   "id": "92460794-cdac-4be2-ba28-f28c0515a6fb",
   "metadata": {
    "execution": {
     "iopub.execute_input": "2025-07-30T21:38:27.532277Z",
     "iopub.status.busy": "2025-07-30T21:38:27.531586Z",
     "iopub.status.idle": "2025-07-30T21:38:28.326455Z",
     "shell.execute_reply": "2025-07-30T21:38:28.325276Z"
    },
    "papermill": {
     "duration": 0.823369,
     "end_time": "2025-07-30T21:38:28.328938",
     "exception": false,
     "start_time": "2025-07-30T21:38:27.505569",
     "status": "completed"
    },
    "tags": []
   },
   "outputs": [],
   "source": [
    "from fairness_multiverse.conformal import predict_conformal_sets\n",
    "\n",
    "# Generate prediction sets for each test example\n",
    "pred_sets = predict_conformal_sets(model, X_test, q_hat)"
   ]
  },
  {
   "cell_type": "code",
   "execution_count": 54,
   "id": "d90c9a65-e6db-4f5d-80cd-e68fb7e46829",
   "metadata": {
    "execution": {
     "iopub.execute_input": "2025-07-30T21:38:28.396650Z",
     "iopub.status.busy": "2025-07-30T21:38:28.395931Z",
     "iopub.status.idle": "2025-07-30T21:38:28.402175Z",
     "shell.execute_reply": "2025-07-30T21:38:28.401131Z"
    },
    "papermill": {
     "duration": 0.04078,
     "end_time": "2025-07-30T21:38:28.403811",
     "exception": false,
     "start_time": "2025-07-30T21:38:28.363031",
     "status": "completed"
    },
    "tags": []
   },
   "outputs": [],
   "source": [
    "y_true = y_true.squeeze()"
   ]
  },
  {
   "cell_type": "code",
   "execution_count": 55,
   "id": "3a58a54a-1e68-46b9-927a-df01f18aebc8",
   "metadata": {
    "execution": {
     "iopub.execute_input": "2025-07-30T21:38:28.454159Z",
     "iopub.status.busy": "2025-07-30T21:38:28.453341Z",
     "iopub.status.idle": "2025-07-30T21:38:29.837968Z",
     "shell.execute_reply": "2025-07-30T21:38:29.836837Z"
    },
    "papermill": {
     "duration": 1.412581,
     "end_time": "2025-07-30T21:38:29.840403",
     "exception": false,
     "start_time": "2025-07-30T21:38:28.427822",
     "status": "completed"
    },
    "tags": []
   },
   "outputs": [],
   "source": [
    "from fairness_multiverse.conformal import evaluate_sets\n",
    "\n",
    "# Evaluate coverage and average set size on test data\n",
    "metrics = evaluate_sets(pred_sets, y_true)"
   ]
  },
  {
   "cell_type": "markdown",
   "id": "2b569c12-9aaa-4c88-98c9-bbcd0cf3ebb8",
   "metadata": {
    "papermill": {
     "duration": 0.035488,
     "end_time": "2025-07-30T21:38:29.911664",
     "exception": false,
     "start_time": "2025-07-30T21:38:29.876176",
     "status": "completed"
    },
    "tags": []
   },
   "source": [
    "# CP Metrics"
   ]
  },
  {
   "cell_type": "code",
   "execution_count": 56,
   "id": "5ce0a5cb-201f-45a0-ade5-94c7f0bd6095",
   "metadata": {
    "execution": {
     "iopub.execute_input": "2025-07-30T21:38:29.985963Z",
     "iopub.status.busy": "2025-07-30T21:38:29.984943Z",
     "iopub.status.idle": "2025-07-30T21:38:29.992644Z",
     "shell.execute_reply": "2025-07-30T21:38:29.991456Z"
    },
    "papermill": {
     "duration": 0.046948,
     "end_time": "2025-07-30T21:38:29.994667",
     "exception": false,
     "start_time": "2025-07-30T21:38:29.947719",
     "status": "completed"
    },
    "tags": []
   },
   "outputs": [
    {
     "data": {
      "text/plain": [
       "{'coverage': 0.9117378218704715, 'avg_size': 1.2008025861108014}"
      ]
     },
     "execution_count": 56,
     "metadata": {},
     "output_type": "execute_result"
    }
   ],
   "source": [
    "metrics"
   ]
  },
  {
   "cell_type": "code",
   "execution_count": 57,
   "id": "9b9a838d-31c9-430b-ae14-12baee460d17",
   "metadata": {
    "execution": {
     "iopub.execute_input": "2025-07-30T21:38:30.057337Z",
     "iopub.status.busy": "2025-07-30T21:38:30.056905Z",
     "iopub.status.idle": "2025-07-30T21:38:30.063158Z",
     "shell.execute_reply": "2025-07-30T21:38:30.062464Z"
    },
    "papermill": {
     "duration": 0.041866,
     "end_time": "2025-07-30T21:38:30.064635",
     "exception": false,
     "start_time": "2025-07-30T21:38:30.022769",
     "status": "completed"
    },
    "tags": []
   },
   "outputs": [],
   "source": [
    "example_universe = universe.copy()\n",
    "universe_training_year = example_universe.get(\"training_year\")\n",
    "universe_training_size = example_universe.get(\"training_size\")\n",
    "universe_scale = example_universe.get(\"scale\")\n",
    "universe_model = example_universe.get(\"model\")\n",
    "universe_exclude_features = example_universe.get(\"exclude_features\")\n",
    "universe_exclude_subgroups = example_universe.get(\"exclude_subgroups\")"
   ]
  },
  {
   "cell_type": "code",
   "execution_count": 58,
   "id": "f4b6a8ac-9dc0-4245-8a91-5b3b5999c4f9",
   "metadata": {
    "execution": {
     "iopub.execute_input": "2025-07-30T21:38:30.097061Z",
     "iopub.status.busy": "2025-07-30T21:38:30.096592Z",
     "iopub.status.idle": "2025-07-30T21:38:30.103484Z",
     "shell.execute_reply": "2025-07-30T21:38:30.102509Z"
    },
    "papermill": {
     "duration": 0.026578,
     "end_time": "2025-07-30T21:38:30.105223",
     "exception": false,
     "start_time": "2025-07-30T21:38:30.078645",
     "status": "completed"
    },
    "tags": []
   },
   "outputs": [],
   "source": [
    "cp_metrics_dict = {\n",
    "    \"universe_id\": [universe_id],\n",
    "    \"universe_training_year\": [universe_training_year],\n",
    "    \"universe_training_size\": [universe_training_size],\n",
    "    \"universe_scale\": [universe_scale],\n",
    "    \"universe_model\": [universe_model],\n",
    "    \"universe_exclude_features\": [universe_exclude_features],\n",
    "    \"universe_exclude_subgroups\": [universe_exclude_subgroups],\n",
    "    \"q_hat\": [q_hat],\n",
    "    \"coverage\": [metrics[\"coverage\"]],\n",
    "    \"avg_size\": [metrics[\"avg_size\"]],\n",
    "}"
   ]
  },
  {
   "cell_type": "code",
   "execution_count": 59,
   "id": "908acbb1-0371-4915-85ca-3fa520d2efe2",
   "metadata": {
    "execution": {
     "iopub.execute_input": "2025-07-30T21:38:30.157885Z",
     "iopub.status.busy": "2025-07-30T21:38:30.156950Z",
     "iopub.status.idle": "2025-07-30T21:38:30.164905Z",
     "shell.execute_reply": "2025-07-30T21:38:30.163933Z"
    },
    "papermill": {
     "duration": 0.034072,
     "end_time": "2025-07-30T21:38:30.166559",
     "exception": false,
     "start_time": "2025-07-30T21:38:30.132487",
     "status": "completed"
    },
    "tags": []
   },
   "outputs": [
    {
     "data": {
      "text/plain": [
       "{'universe_id': ['a0fb2169874fe75c0c360ddc5de40ab9'],\n",
       " 'universe_training_year': ['2012_14'],\n",
       " 'universe_training_size': ['1k'],\n",
       " 'universe_scale': ['do-not-scale'],\n",
       " 'universe_model': ['logreg'],\n",
       " 'universe_exclude_features': ['nationality'],\n",
       " 'universe_exclude_subgroups': ['keep-all'],\n",
       " 'q_hat': [0.698990996445199],\n",
       " 'coverage': [0.9117378218704715],\n",
       " 'avg_size': [1.2008025861108014]}"
      ]
     },
     "execution_count": 59,
     "metadata": {},
     "output_type": "execute_result"
    }
   ],
   "source": [
    "cp_metrics_dict"
   ]
  },
  {
   "cell_type": "code",
   "execution_count": 60,
   "id": "33007efc-14e9-4ec6-97ac-56a455c82265",
   "metadata": {
    "execution": {
     "iopub.execute_input": "2025-07-30T21:38:30.220833Z",
     "iopub.status.busy": "2025-07-30T21:38:30.220168Z",
     "iopub.status.idle": "2025-07-30T21:38:30.226803Z",
     "shell.execute_reply": "2025-07-30T21:38:30.225766Z"
    },
    "papermill": {
     "duration": 0.034631,
     "end_time": "2025-07-30T21:38:30.228687",
     "exception": false,
     "start_time": "2025-07-30T21:38:30.194056",
     "status": "completed"
    },
    "tags": []
   },
   "outputs": [],
   "source": [
    "cp_metrics_df = pd.DataFrame(cp_metrics_dict)"
   ]
  },
  {
   "cell_type": "code",
   "execution_count": 61,
   "id": "db12611b-57b2-4910-b9d0-355adfd6e7bf",
   "metadata": {
    "execution": {
     "iopub.execute_input": "2025-07-30T21:38:30.282911Z",
     "iopub.status.busy": "2025-07-30T21:38:30.282194Z",
     "iopub.status.idle": "2025-07-30T21:38:30.301984Z",
     "shell.execute_reply": "2025-07-30T21:38:30.300493Z"
    },
    "papermill": {
     "duration": 0.050439,
     "end_time": "2025-07-30T21:38:30.303748",
     "exception": false,
     "start_time": "2025-07-30T21:38:30.253309",
     "status": "completed"
    },
    "tags": []
   },
   "outputs": [
    {
     "data": {
      "text/html": [
       "<div>\n",
       "<style scoped>\n",
       "    .dataframe tbody tr th:only-of-type {\n",
       "        vertical-align: middle;\n",
       "    }\n",
       "\n",
       "    .dataframe tbody tr th {\n",
       "        vertical-align: top;\n",
       "    }\n",
       "\n",
       "    .dataframe thead th {\n",
       "        text-align: right;\n",
       "    }\n",
       "</style>\n",
       "<table border=\"1\" class=\"dataframe\">\n",
       "  <thead>\n",
       "    <tr style=\"text-align: right;\">\n",
       "      <th></th>\n",
       "      <th>universe_id</th>\n",
       "      <th>universe_training_year</th>\n",
       "      <th>universe_training_size</th>\n",
       "      <th>universe_scale</th>\n",
       "      <th>universe_model</th>\n",
       "      <th>universe_exclude_features</th>\n",
       "      <th>universe_exclude_subgroups</th>\n",
       "      <th>q_hat</th>\n",
       "      <th>coverage</th>\n",
       "      <th>avg_size</th>\n",
       "    </tr>\n",
       "  </thead>\n",
       "  <tbody>\n",
       "    <tr>\n",
       "      <th>0</th>\n",
       "      <td>a0fb2169874fe75c0c360ddc5de40ab9</td>\n",
       "      <td>2012_14</td>\n",
       "      <td>1k</td>\n",
       "      <td>do-not-scale</td>\n",
       "      <td>logreg</td>\n",
       "      <td>nationality</td>\n",
       "      <td>keep-all</td>\n",
       "      <td>0.698991</td>\n",
       "      <td>0.911738</td>\n",
       "      <td>1.200803</td>\n",
       "    </tr>\n",
       "  </tbody>\n",
       "</table>\n",
       "</div>"
      ],
      "text/plain": [
       "                        universe_id universe_training_year  \\\n",
       "0  a0fb2169874fe75c0c360ddc5de40ab9                2012_14   \n",
       "\n",
       "  universe_training_size universe_scale universe_model  \\\n",
       "0                     1k   do-not-scale         logreg   \n",
       "\n",
       "  universe_exclude_features universe_exclude_subgroups     q_hat  coverage  \\\n",
       "0               nationality                   keep-all  0.698991  0.911738   \n",
       "\n",
       "   avg_size  \n",
       "0  1.200803  "
      ]
     },
     "execution_count": 61,
     "metadata": {},
     "output_type": "execute_result"
    }
   ],
   "source": [
    "cp_metrics_df"
   ]
  },
  {
   "cell_type": "code",
   "execution_count": 62,
   "id": "b7fbde55-a0a1-47e4-9af6-fe4a17fa8c61",
   "metadata": {
    "execution": {
     "iopub.execute_input": "2025-07-30T21:38:30.348790Z",
     "iopub.status.busy": "2025-07-30T21:38:30.348014Z",
     "iopub.status.idle": "2025-07-30T21:38:30.353115Z",
     "shell.execute_reply": "2025-07-30T21:38:30.352219Z"
    },
    "papermill": {
     "duration": 0.023505,
     "end_time": "2025-07-30T21:38:30.354669",
     "exception": false,
     "start_time": "2025-07-30T21:38:30.331164",
     "status": "completed"
    },
    "tags": []
   },
   "outputs": [],
   "source": [
    "# Conditional Coverage & looking at subgroups"
   ]
  },
  {
   "cell_type": "code",
   "execution_count": 63,
   "id": "027ae886-68dd-4141-96c7-805a5450e1ef",
   "metadata": {
    "execution": {
     "iopub.execute_input": "2025-07-30T21:38:30.410239Z",
     "iopub.status.busy": "2025-07-30T21:38:30.409462Z",
     "iopub.status.idle": "2025-07-30T21:38:30.629209Z",
     "shell.execute_reply": "2025-07-30T21:38:30.628444Z"
    },
    "papermill": {
     "duration": 0.249318,
     "end_time": "2025-07-30T21:38:30.631181",
     "exception": false,
     "start_time": "2025-07-30T21:38:30.381863",
     "status": "completed"
    },
    "tags": []
   },
   "outputs": [],
   "source": [
    "from fairness_multiverse.conformal import build_cp_groups\n",
    "\n",
    "cp_groups_df = build_cp_groups(pred_sets, y_true, X_test.index, org_test)\n",
    "#needs universe_id and setting"
   ]
  },
  {
   "cell_type": "code",
   "execution_count": 64,
   "id": "01d5802c-663a-4d1f-9d69-e036faaffbf7",
   "metadata": {
    "execution": {
     "iopub.execute_input": "2025-07-30T21:38:30.717288Z",
     "iopub.status.busy": "2025-07-30T21:38:30.716807Z",
     "iopub.status.idle": "2025-07-30T21:38:30.721976Z",
     "shell.execute_reply": "2025-07-30T21:38:30.720948Z"
    },
    "papermill": {
     "duration": 0.046446,
     "end_time": "2025-07-30T21:38:30.723838",
     "exception": false,
     "start_time": "2025-07-30T21:38:30.677392",
     "status": "completed"
    },
    "tags": []
   },
   "outputs": [],
   "source": [
    "#delete\n",
    "#cp_groups_df"
   ]
  },
  {
   "cell_type": "code",
   "execution_count": 65,
   "id": "fa424af1-d1eb-443d-b717-2d279ada8408",
   "metadata": {
    "execution": {
     "iopub.execute_input": "2025-07-30T21:38:30.780653Z",
     "iopub.status.busy": "2025-07-30T21:38:30.779671Z",
     "iopub.status.idle": "2025-07-30T21:38:30.810968Z",
     "shell.execute_reply": "2025-07-30T21:38:30.809991Z"
    },
    "papermill": {
     "duration": 0.061803,
     "end_time": "2025-07-30T21:38:30.812761",
     "exception": false,
     "start_time": "2025-07-30T21:38:30.750958",
     "status": "completed"
    },
    "tags": []
   },
   "outputs": [],
   "source": [
    "#delete\n",
    "#percentage = (cp_groups_df['nongerman_female'] == 1).mean() * 100\n",
    "#print(percentage)\n"
   ]
  },
  {
   "cell_type": "code",
   "execution_count": 66,
   "id": "6cbdab96-b2b2-45af-ad54-d0516db2e28d",
   "metadata": {
    "execution": {
     "iopub.execute_input": "2025-07-30T21:38:30.846034Z",
     "iopub.status.busy": "2025-07-30T21:38:30.845678Z",
     "iopub.status.idle": "2025-07-30T21:38:32.335208Z",
     "shell.execute_reply": "2025-07-30T21:38:32.334282Z"
    },
    "papermill": {
     "duration": 1.50685,
     "end_time": "2025-07-30T21:38:32.337028",
     "exception": false,
     "start_time": "2025-07-30T21:38:30.830178",
     "status": "completed"
    },
    "tags": []
   },
   "outputs": [],
   "source": [
    "# Define covered = 1 if true_label is in the predicted set\n",
    "cp_groups_df['covered'] = cp_groups_df.apply(\n",
    "    lambda r: int(r['true_label'] in r['pred_set']),\n",
    "    axis=1\n",
    ")"
   ]
  },
  {
   "cell_type": "code",
   "execution_count": 67,
   "id": "338ff529-1a6b-4b87-a931-8e4788d52aad",
   "metadata": {
    "execution": {
     "iopub.execute_input": "2025-07-30T21:38:32.391992Z",
     "iopub.status.busy": "2025-07-30T21:38:32.391025Z",
     "iopub.status.idle": "2025-07-30T21:38:32.396477Z",
     "shell.execute_reply": "2025-07-30T21:38:32.395449Z"
    },
    "papermill": {
     "duration": 0.037976,
     "end_time": "2025-07-30T21:38:32.398087",
     "exception": false,
     "start_time": "2025-07-30T21:38:32.360111",
     "status": "completed"
    },
    "tags": []
   },
   "outputs": [],
   "source": [
    "#cp_groups_df"
   ]
  },
  {
   "cell_type": "code",
   "execution_count": 68,
   "id": "90032e27-66df-4540-9169-4e89cfbaa758",
   "metadata": {
    "execution": {
     "iopub.execute_input": "2025-07-30T21:38:32.452844Z",
     "iopub.status.busy": "2025-07-30T21:38:32.451602Z",
     "iopub.status.idle": "2025-07-30T21:38:32.462661Z",
     "shell.execute_reply": "2025-07-30T21:38:32.461977Z"
    },
    "papermill": {
     "duration": 0.040555,
     "end_time": "2025-07-30T21:38:32.464018",
     "exception": false,
     "start_time": "2025-07-30T21:38:32.423463",
     "status": "completed"
    },
    "tags": []
   },
   "outputs": [],
   "source": [
    "subgroups = ['frau1','nongerman','nongerman_male','nongerman_female']\n",
    "\n",
    "# Conditional coverage for subgroup==1\n",
    "cond_coverage = {\n",
    "    g: cp_groups_df.loc[cp_groups_df[g]==1, 'covered'].mean()\n",
    "    for g in subgroups\n",
    "}"
   ]
  },
  {
   "cell_type": "code",
   "execution_count": 69,
   "id": "1e348fb1-b9c3-45bc-ba23-f016827a7e0d",
   "metadata": {
    "execution": {
     "iopub.execute_input": "2025-07-30T21:38:32.517378Z",
     "iopub.status.busy": "2025-07-30T21:38:32.516142Z",
     "iopub.status.idle": "2025-07-30T21:38:32.526079Z",
     "shell.execute_reply": "2025-07-30T21:38:32.524870Z"
    },
    "papermill": {
     "duration": 0.038933,
     "end_time": "2025-07-30T21:38:32.527839",
     "exception": false,
     "start_time": "2025-07-30T21:38:32.488906",
     "status": "completed"
    },
    "tags": []
   },
   "outputs": [
    {
     "data": {
      "text/plain": [
       "{'frau1': 0.9081008222132363,\n",
       " 'nongerman': 0.92634592713187,\n",
       " 'nongerman_male': 0.9411870665585877,\n",
       " 'nongerman_female': 0.9017883755588674}"
      ]
     },
     "execution_count": 69,
     "metadata": {},
     "output_type": "execute_result"
    }
   ],
   "source": [
    "cond_coverage"
   ]
  },
  {
   "cell_type": "code",
   "execution_count": 70,
   "id": "f5093324-c3dd-4d63-bc4c-8d945e5c8bbb",
   "metadata": {
    "execution": {
     "iopub.execute_input": "2025-07-30T21:38:32.581813Z",
     "iopub.status.busy": "2025-07-30T21:38:32.581394Z",
     "iopub.status.idle": "2025-07-30T21:38:32.588675Z",
     "shell.execute_reply": "2025-07-30T21:38:32.587690Z"
    },
    "papermill": {
     "duration": 0.037319,
     "end_time": "2025-07-30T21:38:32.590560",
     "exception": false,
     "start_time": "2025-07-30T21:38:32.553241",
     "status": "completed"
    },
    "tags": []
   },
   "outputs": [],
   "source": [
    "for subgroup, cov in cond_coverage.items():\n",
    "    cp_metrics_df[f\"cov_{subgroup}\"] = cov"
   ]
  },
  {
   "cell_type": "code",
   "execution_count": 71,
   "id": "6e872e10-dbe5-49e8-b554-5030c98ff75d",
   "metadata": {
    "execution": {
     "iopub.execute_input": "2025-07-30T21:38:32.646153Z",
     "iopub.status.busy": "2025-07-30T21:38:32.645701Z",
     "iopub.status.idle": "2025-07-30T21:38:32.665128Z",
     "shell.execute_reply": "2025-07-30T21:38:32.664159Z"
    },
    "papermill": {
     "duration": 0.049669,
     "end_time": "2025-07-30T21:38:32.666706",
     "exception": false,
     "start_time": "2025-07-30T21:38:32.617037",
     "status": "completed"
    },
    "tags": []
   },
   "outputs": [
    {
     "data": {
      "text/html": [
       "<div>\n",
       "<style scoped>\n",
       "    .dataframe tbody tr th:only-of-type {\n",
       "        vertical-align: middle;\n",
       "    }\n",
       "\n",
       "    .dataframe tbody tr th {\n",
       "        vertical-align: top;\n",
       "    }\n",
       "\n",
       "    .dataframe thead th {\n",
       "        text-align: right;\n",
       "    }\n",
       "</style>\n",
       "<table border=\"1\" class=\"dataframe\">\n",
       "  <thead>\n",
       "    <tr style=\"text-align: right;\">\n",
       "      <th></th>\n",
       "      <th>universe_id</th>\n",
       "      <th>universe_training_year</th>\n",
       "      <th>universe_training_size</th>\n",
       "      <th>universe_scale</th>\n",
       "      <th>universe_model</th>\n",
       "      <th>universe_exclude_features</th>\n",
       "      <th>universe_exclude_subgroups</th>\n",
       "      <th>q_hat</th>\n",
       "      <th>coverage</th>\n",
       "      <th>avg_size</th>\n",
       "      <th>cov_frau1</th>\n",
       "      <th>cov_nongerman</th>\n",
       "      <th>cov_nongerman_male</th>\n",
       "      <th>cov_nongerman_female</th>\n",
       "    </tr>\n",
       "  </thead>\n",
       "  <tbody>\n",
       "    <tr>\n",
       "      <th>0</th>\n",
       "      <td>a0fb2169874fe75c0c360ddc5de40ab9</td>\n",
       "      <td>2012_14</td>\n",
       "      <td>1k</td>\n",
       "      <td>do-not-scale</td>\n",
       "      <td>logreg</td>\n",
       "      <td>nationality</td>\n",
       "      <td>keep-all</td>\n",
       "      <td>0.698991</td>\n",
       "      <td>0.911738</td>\n",
       "      <td>1.200803</td>\n",
       "      <td>0.908101</td>\n",
       "      <td>0.926346</td>\n",
       "      <td>0.941187</td>\n",
       "      <td>0.901788</td>\n",
       "    </tr>\n",
       "  </tbody>\n",
       "</table>\n",
       "</div>"
      ],
      "text/plain": [
       "                        universe_id universe_training_year  \\\n",
       "0  a0fb2169874fe75c0c360ddc5de40ab9                2012_14   \n",
       "\n",
       "  universe_training_size universe_scale universe_model  \\\n",
       "0                     1k   do-not-scale         logreg   \n",
       "\n",
       "  universe_exclude_features universe_exclude_subgroups     q_hat  coverage  \\\n",
       "0               nationality                   keep-all  0.698991  0.911738   \n",
       "\n",
       "   avg_size  cov_frau1  cov_nongerman  cov_nongerman_male  \\\n",
       "0  1.200803   0.908101       0.926346            0.941187   \n",
       "\n",
       "   cov_nongerman_female  \n",
       "0              0.901788  "
      ]
     },
     "execution_count": 71,
     "metadata": {},
     "output_type": "execute_result"
    }
   ],
   "source": [
    "cp_metrics_df"
   ]
  },
  {
   "cell_type": "markdown",
   "id": "33774451",
   "metadata": {
    "papermill": {
     "duration": 0.030636,
     "end_time": "2025-07-30T21:38:32.723736",
     "exception": false,
     "start_time": "2025-07-30T21:38:32.693100",
     "status": "completed"
    },
    "tags": []
   },
   "source": [
    "# (Fairness) Metrics"
   ]
  },
  {
   "cell_type": "code",
   "execution_count": 72,
   "id": "debc5d62",
   "metadata": {
    "execution": {
     "iopub.execute_input": "2025-07-30T21:38:32.785165Z",
     "iopub.status.busy": "2025-07-30T21:38:32.784251Z",
     "iopub.status.idle": "2025-07-30T21:38:32.805163Z",
     "shell.execute_reply": "2025-07-30T21:38:32.804322Z"
    },
    "papermill": {
     "duration": 0.053768,
     "end_time": "2025-07-30T21:38:32.806785",
     "exception": false,
     "start_time": "2025-07-30T21:38:32.753017",
     "status": "completed"
    },
    "tags": []
   },
   "outputs": [],
   "source": [
    "# do I need to include maxdeutsch1.missing?\n",
    "\n",
    "import numpy as np\n",
    "\n",
    "colname_to_bin = \"maxdeutsch1\"\n",
    "majority_value = org_train[colname_to_bin].mode()[0]\n",
    "\n",
    "org_test[\"majmin\"] = np.where(org_test[colname_to_bin] == majority_value, \"majority\", \"minority\")"
   ]
  },
  {
   "cell_type": "code",
   "execution_count": 73,
   "id": "06a50de5",
   "metadata": {
    "execution": {
     "iopub.execute_input": "2025-07-30T21:38:32.868505Z",
     "iopub.status.busy": "2025-07-30T21:38:32.868099Z",
     "iopub.status.idle": "2025-07-30T21:38:35.437203Z",
     "shell.execute_reply": "2025-07-30T21:38:35.436359Z"
    },
    "papermill": {
     "duration": 2.602598,
     "end_time": "2025-07-30T21:38:35.438708",
     "exception": false,
     "start_time": "2025-07-30T21:38:32.836110",
     "status": "completed"
    },
    "tags": []
   },
   "outputs": [],
   "source": [
    "example_universe = universe.copy()\n",
    "example_universe[\"cutoff\"] = example_universe[\"cutoff\"][0]\n",
    "example_universe[\"eval_fairness_grouping\"] = example_universe[\"eval_fairness_grouping\"][0]\n",
    "fairness_dict, metric_frame = universe_analysis.compute_metrics(\n",
    "    example_universe,\n",
    "    y_pred_prob=probs_test,\n",
    "    y_test=y_true,\n",
    "    org_test=org_test,\n",
    ")"
   ]
  },
  {
   "cell_type": "markdown",
   "id": "f95d4e02",
   "metadata": {
    "papermill": {
     "duration": 0.028419,
     "end_time": "2025-07-30T21:38:35.482690",
     "exception": false,
     "start_time": "2025-07-30T21:38:35.454271",
     "status": "completed"
    },
    "tags": []
   },
   "source": [
    "# Overall"
   ]
  },
  {
   "cell_type": "markdown",
   "id": "bdee4871",
   "metadata": {
    "papermill": {
     "duration": 0.014438,
     "end_time": "2025-07-30T21:38:35.520707",
     "exception": false,
     "start_time": "2025-07-30T21:38:35.506269",
     "status": "completed"
    },
    "tags": []
   },
   "source": [
    "Fairness\n",
    "Main fairness target: Equalized Odds. Seems to be a better fit than equal opportunity, since we're not only interested in Y = 1. Seems to be a better fit than demographic parity, since we also care about accuracy, not just equal distribution of preds.\n",
    "\n",
    "Pick column for computation of fairness metrics\n",
    "\n",
    "Performance\n",
    "Overall performance measures, most interesting in relation to the measures split by group below"
   ]
  },
  {
   "cell_type": "code",
   "execution_count": 74,
   "id": "c4e067c6",
   "metadata": {
    "execution": {
     "iopub.execute_input": "2025-07-30T21:38:35.549687Z",
     "iopub.status.busy": "2025-07-30T21:38:35.549279Z",
     "iopub.status.idle": "2025-07-30T21:38:35.558946Z",
     "shell.execute_reply": "2025-07-30T21:38:35.558087Z"
    },
    "papermill": {
     "duration": 0.025688,
     "end_time": "2025-07-30T21:38:35.560202",
     "exception": false,
     "start_time": "2025-07-30T21:38:35.534514",
     "status": "completed"
    },
    "tags": []
   },
   "outputs": [
    {
     "data": {
      "text/plain": [
       "accuracy                   0.214970\n",
       "balanced accuracy          0.527602\n",
       "f1                         0.236561\n",
       "precision                  0.135139\n",
       "false positive rate        0.892918\n",
       "false negative rate        0.051877\n",
       "selection rate             0.900000\n",
       "count                  89710.000000\n",
       "dtype: float64"
      ]
     },
     "execution_count": 74,
     "metadata": {},
     "output_type": "execute_result"
    }
   ],
   "source": [
    "metric_frame.overall"
   ]
  },
  {
   "cell_type": "markdown",
   "id": "e968fe9d",
   "metadata": {
    "papermill": {
     "duration": 0.02401,
     "end_time": "2025-07-30T21:38:35.599152",
     "exception": false,
     "start_time": "2025-07-30T21:38:35.575142",
     "status": "completed"
    },
    "tags": []
   },
   "source": [
    "By Group"
   ]
  },
  {
   "cell_type": "code",
   "execution_count": 75,
   "id": "ec325bce",
   "metadata": {
    "execution": {
     "iopub.execute_input": "2025-07-30T21:38:35.638984Z",
     "iopub.status.busy": "2025-07-30T21:38:35.638532Z",
     "iopub.status.idle": "2025-07-30T21:38:35.654544Z",
     "shell.execute_reply": "2025-07-30T21:38:35.653570Z"
    },
    "papermill": {
     "duration": 0.038998,
     "end_time": "2025-07-30T21:38:35.656257",
     "exception": false,
     "start_time": "2025-07-30T21:38:35.617259",
     "status": "completed"
    },
    "tags": []
   },
   "outputs": [
    {
     "data": {
      "text/html": [
       "<div>\n",
       "<style scoped>\n",
       "    .dataframe tbody tr th:only-of-type {\n",
       "        vertical-align: middle;\n",
       "    }\n",
       "\n",
       "    .dataframe tbody tr th {\n",
       "        vertical-align: top;\n",
       "    }\n",
       "\n",
       "    .dataframe thead th {\n",
       "        text-align: right;\n",
       "    }\n",
       "</style>\n",
       "<table border=\"1\" class=\"dataframe\">\n",
       "  <thead>\n",
       "    <tr style=\"text-align: right;\">\n",
       "      <th></th>\n",
       "      <th>accuracy</th>\n",
       "      <th>balanced accuracy</th>\n",
       "      <th>f1</th>\n",
       "      <th>precision</th>\n",
       "      <th>false positive rate</th>\n",
       "      <th>false negative rate</th>\n",
       "      <th>selection rate</th>\n",
       "      <th>count</th>\n",
       "    </tr>\n",
       "    <tr>\n",
       "      <th>majmin</th>\n",
       "      <th></th>\n",
       "      <th></th>\n",
       "      <th></th>\n",
       "      <th></th>\n",
       "      <th></th>\n",
       "      <th></th>\n",
       "      <th></th>\n",
       "      <th></th>\n",
       "    </tr>\n",
       "  </thead>\n",
       "  <tbody>\n",
       "    <tr>\n",
       "      <th>majority</th>\n",
       "      <td>0.236172</td>\n",
       "      <td>0.533966</td>\n",
       "      <td>0.245164</td>\n",
       "      <td>0.140993</td>\n",
       "      <td>0.870798</td>\n",
       "      <td>0.061269</td>\n",
       "      <td>0.879774</td>\n",
       "      <td>69170.0</td>\n",
       "    </tr>\n",
       "    <tr>\n",
       "      <th>minority</th>\n",
       "      <td>0.143574</td>\n",
       "      <td>0.509192</td>\n",
       "      <td>0.209500</td>\n",
       "      <td>0.117224</td>\n",
       "      <td>0.965992</td>\n",
       "      <td>0.015625</td>\n",
       "      <td>0.968111</td>\n",
       "      <td>20540.0</td>\n",
       "    </tr>\n",
       "  </tbody>\n",
       "</table>\n",
       "</div>"
      ],
      "text/plain": [
       "          accuracy  balanced accuracy        f1  precision  \\\n",
       "majmin                                                       \n",
       "majority  0.236172           0.533966  0.245164   0.140993   \n",
       "minority  0.143574           0.509192  0.209500   0.117224   \n",
       "\n",
       "          false positive rate  false negative rate  selection rate    count  \n",
       "majmin                                                                       \n",
       "majority             0.870798             0.061269        0.879774  69170.0  \n",
       "minority             0.965992             0.015625        0.968111  20540.0  "
      ]
     },
     "execution_count": 75,
     "metadata": {},
     "output_type": "execute_result"
    }
   ],
   "source": [
    "metric_frame.by_group"
   ]
  },
  {
   "cell_type": "code",
   "execution_count": 76,
   "id": "a9ddbe63",
   "metadata": {
    "execution": {
     "iopub.execute_input": "2025-07-30T21:38:35.714668Z",
     "iopub.status.busy": "2025-07-30T21:38:35.713946Z",
     "iopub.status.idle": "2025-07-30T21:38:38.079214Z",
     "shell.execute_reply": "2025-07-30T21:38:38.078216Z"
    },
    "papermill": {
     "duration": 2.397655,
     "end_time": "2025-07-30T21:38:38.080804",
     "exception": false,
     "start_time": "2025-07-30T21:38:35.683149",
     "status": "completed"
    },
    "tags": []
   },
   "outputs": [
    {
     "data": {
      "text/plain": [
       "array([[<Axes: title={'center': 'accuracy'}, xlabel='majmin'>,\n",
       "        <Axes: title={'center': 'balanced accuracy'}, xlabel='majmin'>,\n",
       "        <Axes: title={'center': 'f1'}, xlabel='majmin'>],\n",
       "       [<Axes: title={'center': 'precision'}, xlabel='majmin'>,\n",
       "        <Axes: title={'center': 'false positive rate'}, xlabel='majmin'>,\n",
       "        <Axes: title={'center': 'false negative rate'}, xlabel='majmin'>],\n",
       "       [<Axes: title={'center': 'selection rate'}, xlabel='majmin'>,\n",
       "        <Axes: title={'center': 'count'}, xlabel='majmin'>,\n",
       "        <Axes: xlabel='majmin'>]], dtype=object)"
      ]
     },
     "execution_count": 76,
     "metadata": {},
     "output_type": "execute_result"
    },
    {
     "data": {
      "image/png": "[encoded data removed]",
      "text/plain": [
       "<Figure size 1200x800 with 9 Axes>"
      ]
     },
     "metadata": {},
     "output_type": "display_data"
    }
   ],
   "source": [
    "# In a graphic\n",
    "metric_frame.by_group.plot.bar(\n",
    "    subplots=True,\n",
    "    layout=[3, 3],\n",
    "    legend=False,\n",
    "    figsize=[12, 8],\n",
    "    title=\"Show all metrics\",\n",
    ")"
   ]
  },
  {
   "cell_type": "markdown",
   "id": "f57a0bac",
   "metadata": {
    "papermill": {
     "duration": 0.027051,
     "end_time": "2025-07-30T21:38:38.135455",
     "exception": false,
     "start_time": "2025-07-30T21:38:38.108404",
     "status": "completed"
    },
    "tags": []
   },
   "source": [
    "# Final Output"
   ]
  },
  {
   "cell_type": "code",
   "execution_count": 77,
   "id": "96d280a3",
   "metadata": {
    "execution": {
     "iopub.execute_input": "2025-07-30T21:38:38.192523Z",
     "iopub.status.busy": "2025-07-30T21:38:38.191815Z",
     "iopub.status.idle": "2025-07-30T21:38:38.200205Z",
     "shell.execute_reply": "2025-07-30T21:38:38.199157Z"
    },
    "papermill": {
     "duration": 0.039441,
     "end_time": "2025-07-30T21:38:38.202127",
     "exception": false,
     "start_time": "2025-07-30T21:38:38.162686",
     "status": "completed"
    },
    "tags": []
   },
   "outputs": [
    {
     "data": {
      "text/plain": [
       "4"
      ]
     },
     "execution_count": 77,
     "metadata": {},
     "output_type": "execute_result"
    }
   ],
   "source": [
    "sub_universes = universe_analysis.generate_sub_universes()\n",
    "len(sub_universes)"
   ]
  },
  {
   "cell_type": "code",
   "execution_count": 78,
   "id": "92adf7ba",
   "metadata": {
    "execution": {
     "iopub.execute_input": "2025-07-30T21:38:38.258387Z",
     "iopub.status.busy": "2025-07-30T21:38:38.257733Z",
     "iopub.status.idle": "2025-07-30T21:38:38.263797Z",
     "shell.execute_reply": "2025-07-30T21:38:38.262780Z"
    },
    "papermill": {
     "duration": 0.035457,
     "end_time": "2025-07-30T21:38:38.265481",
     "exception": false,
     "start_time": "2025-07-30T21:38:38.230024",
     "status": "completed"
    },
    "tags": []
   },
   "outputs": [],
   "source": [
    "def filter_sub_universe_data(sub_universe, org_test):\n",
    "    # Keep all rows — no filtering\n",
    "    keep_rows_mask = np.ones(org_test.shape[0], dtype=bool)\n",
    "\n",
    "    print(f\"[INFO] Keeping all rows: {keep_rows_mask.sum()} rows retained.\")\n",
    "    return keep_rows_mask"
   ]
  },
  {
   "cell_type": "code",
   "execution_count": 79,
   "id": "4a759155",
   "metadata": {
    "execution": {
     "iopub.execute_input": "2025-07-30T21:38:38.321793Z",
     "iopub.status.busy": "2025-07-30T21:38:38.321316Z",
     "iopub.status.idle": "2025-07-30T21:38:48.111136Z",
     "shell.execute_reply": "2025-07-30T21:38:48.110164Z"
    },
    "papermill": {
     "duration": 9.820488,
     "end_time": "2025-07-30T21:38:48.112892",
     "exception": false,
     "start_time": "2025-07-30T21:38:38.292404",
     "status": "completed"
    },
    "tags": []
   },
   "outputs": [
    {
     "name": "stdout",
     "output_type": "stream",
     "text": [
      "Stopping execution_time clock.\n",
      "[INFO] Keeping all rows: 89710 rows retained.\n"
     ]
    },
    {
     "name": "stdout",
     "output_type": "stream",
     "text": [
      "[INFO] Keeping all rows: 89710 rows retained.\n"
     ]
    },
    {
     "name": "stdout",
     "output_type": "stream",
     "text": [
      "[INFO] Keeping all rows: 89710 rows retained.\n"
     ]
    },
    {
     "name": "stdout",
     "output_type": "stream",
     "text": [
      "[INFO] Keeping all rows: 89710 rows retained.\n"
     ]
    },
    {
     "data": {
      "text/html": [
       "<div>\n",
       "<style scoped>\n",
       "    .dataframe tbody tr th:only-of-type {\n",
       "        vertical-align: middle;\n",
       "    }\n",
       "\n",
       "    .dataframe tbody tr th {\n",
       "        vertical-align: top;\n",
       "    }\n",
       "\n",
       "    .dataframe thead th {\n",
       "        text-align: right;\n",
       "    }\n",
       "</style>\n",
       "<table border=\"1\" class=\"dataframe\">\n",
       "  <thead>\n",
       "    <tr style=\"text-align: right;\">\n",
       "      <th></th>\n",
       "      <th>run_no</th>\n",
       "      <th>universe_id</th>\n",
       "      <th>universe_settings</th>\n",
       "      <th>execution_time</th>\n",
       "      <th>test_size_n</th>\n",
       "      <th>test_size_frac</th>\n",
       "      <th>fair_main_equalized_odds_difference</th>\n",
       "      <th>fair_main_equalized_odds_ratio</th>\n",
       "      <th>fair_main_demographic_parity_difference</th>\n",
       "      <th>fair_main_demographic_parity_ratio</th>\n",
       "      <th>...</th>\n",
       "      <th>perf_grp_precision_0</th>\n",
       "      <th>perf_grp_precision_1</th>\n",
       "      <th>perf_grp_false positive rate_0</th>\n",
       "      <th>perf_grp_false positive rate_1</th>\n",
       "      <th>perf_grp_false negative rate_0</th>\n",
       "      <th>perf_grp_false negative rate_1</th>\n",
       "      <th>perf_grp_selection rate_0</th>\n",
       "      <th>perf_grp_selection rate_1</th>\n",
       "      <th>perf_grp_count_0</th>\n",
       "      <th>perf_grp_count_1</th>\n",
       "    </tr>\n",
       "  </thead>\n",
       "  <tbody>\n",
       "    <tr>\n",
       "      <th>0</th>\n",
       "      <td>14</td>\n",
       "      <td>a0fb2169874fe75c0c360ddc5de40ab9</td>\n",
       "      <td>{\"cutoff\": \"quantile_0.1\", \"eval_fairness_grou...</td>\n",
       "      <td>26.976985</td>\n",
       "      <td>89710</td>\n",
       "      <td>1.0</td>\n",
       "      <td>0.095194</td>\n",
       "      <td>0.901455</td>\n",
       "      <td>0.088337</td>\n",
       "      <td>0.908754</td>\n",
       "      <td>...</td>\n",
       "      <td>NaN</td>\n",
       "      <td>NaN</td>\n",
       "      <td>NaN</td>\n",
       "      <td>NaN</td>\n",
       "      <td>NaN</td>\n",
       "      <td>NaN</td>\n",
       "      <td>NaN</td>\n",
       "      <td>NaN</td>\n",
       "      <td>NaN</td>\n",
       "      <td>NaN</td>\n",
       "    </tr>\n",
       "    <tr>\n",
       "      <th>0</th>\n",
       "      <td>14</td>\n",
       "      <td>a0fb2169874fe75c0c360ddc5de40ab9</td>\n",
       "      <td>{\"cutoff\": \"quantile_0.1\", \"eval_fairness_grou...</td>\n",
       "      <td>26.976985</td>\n",
       "      <td>89710</td>\n",
       "      <td>1.0</td>\n",
       "      <td>0.095194</td>\n",
       "      <td>0.901455</td>\n",
       "      <td>0.088337</td>\n",
       "      <td>0.908754</td>\n",
       "      <td>...</td>\n",
       "      <td>0.117224</td>\n",
       "      <td>0.140993</td>\n",
       "      <td>0.965992</td>\n",
       "      <td>0.870798</td>\n",
       "      <td>0.015625</td>\n",
       "      <td>0.061269</td>\n",
       "      <td>0.968111</td>\n",
       "      <td>0.879774</td>\n",
       "      <td>20540.0</td>\n",
       "      <td>69170.0</td>\n",
       "    </tr>\n",
       "    <tr>\n",
       "      <th>0</th>\n",
       "      <td>14</td>\n",
       "      <td>a0fb2169874fe75c0c360ddc5de40ab9</td>\n",
       "      <td>{\"cutoff\": \"quantile_0.25\", \"eval_fairness_gro...</td>\n",
       "      <td>26.976985</td>\n",
       "      <td>89710</td>\n",
       "      <td>1.0</td>\n",
       "      <td>0.214407</td>\n",
       "      <td>0.761013</td>\n",
       "      <td>0.198338</td>\n",
       "      <td>0.780337</td>\n",
       "      <td>...</td>\n",
       "      <td>NaN</td>\n",
       "      <td>NaN</td>\n",
       "      <td>NaN</td>\n",
       "      <td>NaN</td>\n",
       "      <td>NaN</td>\n",
       "      <td>NaN</td>\n",
       "      <td>NaN</td>\n",
       "      <td>NaN</td>\n",
       "      <td>NaN</td>\n",
       "      <td>NaN</td>\n",
       "    </tr>\n",
       "    <tr>\n",
       "      <th>0</th>\n",
       "      <td>14</td>\n",
       "      <td>a0fb2169874fe75c0c360ddc5de40ab9</td>\n",
       "      <td>{\"cutoff\": \"quantile_0.25\", \"eval_fairness_gro...</td>\n",
       "      <td>26.976985</td>\n",
       "      <td>89710</td>\n",
       "      <td>1.0</td>\n",
       "      <td>0.214407</td>\n",
       "      <td>0.761013</td>\n",
       "      <td>0.198338</td>\n",
       "      <td>0.780337</td>\n",
       "      <td>...</td>\n",
       "      <td>0.120943</td>\n",
       "      <td>0.159041</td>\n",
       "      <td>0.897149</td>\n",
       "      <td>0.682742</td>\n",
       "      <td>0.052787</td>\n",
       "      <td>0.151969</td>\n",
       "      <td>0.902921</td>\n",
       "      <td>0.704583</td>\n",
       "      <td>20540.0</td>\n",
       "      <td>69170.0</td>\n",
       "    </tr>\n",
       "  </tbody>\n",
       "</table>\n",
       "<p>4 rows × 50 columns</p>\n",
       "</div>"
      ],
      "text/plain": [
       "  run_no                       universe_id  \\\n",
       "0     14  a0fb2169874fe75c0c360ddc5de40ab9   \n",
       "0     14  a0fb2169874fe75c0c360ddc5de40ab9   \n",
       "0     14  a0fb2169874fe75c0c360ddc5de40ab9   \n",
       "0     14  a0fb2169874fe75c0c360ddc5de40ab9   \n",
       "\n",
       "                                   universe_settings  execution_time  \\\n",
       "0  {\"cutoff\": \"quantile_0.1\", \"eval_fairness_grou...       26.976985   \n",
       "0  {\"cutoff\": \"quantile_0.1\", \"eval_fairness_grou...       26.976985   \n",
       "0  {\"cutoff\": \"quantile_0.25\", \"eval_fairness_gro...       26.976985   \n",
       "0  {\"cutoff\": \"quantile_0.25\", \"eval_fairness_gro...       26.976985   \n",
       "\n",
       "   test_size_n  test_size_frac  fair_main_equalized_odds_difference  \\\n",
       "0        89710             1.0                             0.095194   \n",
       "0        89710             1.0                             0.095194   \n",
       "0        89710             1.0                             0.214407   \n",
       "0        89710             1.0                             0.214407   \n",
       "\n",
       "   fair_main_equalized_odds_ratio  fair_main_demographic_parity_difference  \\\n",
       "0                        0.901455                                 0.088337   \n",
       "0                        0.901455                                 0.088337   \n",
       "0                        0.761013                                 0.198338   \n",
       "0                        0.761013                                 0.198338   \n",
       "\n",
       "   fair_main_demographic_parity_ratio  ...  perf_grp_precision_0  \\\n",
       "0                            0.908754  ...                   NaN   \n",
       "0                            0.908754  ...              0.117224   \n",
       "0                            0.780337  ...                   NaN   \n",
       "0                            0.780337  ...              0.120943   \n",
       "\n",
       "   perf_grp_precision_1  perf_grp_false positive rate_0  \\\n",
       "0                   NaN                             NaN   \n",
       "0              0.140993                        0.965992   \n",
       "0                   NaN                             NaN   \n",
       "0              0.159041                        0.897149   \n",
       "\n",
       "   perf_grp_false positive rate_1  perf_grp_false negative rate_0  \\\n",
       "0                             NaN                             NaN   \n",
       "0                        0.870798                        0.015625   \n",
       "0                             NaN                             NaN   \n",
       "0                        0.682742                        0.052787   \n",
       "\n",
       "   perf_grp_false negative rate_1  perf_grp_selection rate_0  \\\n",
       "0                             NaN                        NaN   \n",
       "0                        0.061269                   0.968111   \n",
       "0                             NaN                        NaN   \n",
       "0                        0.151969                   0.902921   \n",
       "\n",
       "   perf_grp_selection rate_1  perf_grp_count_0  perf_grp_count_1  \n",
       "0                        NaN               NaN               NaN  \n",
       "0                   0.879774           20540.0           69170.0  \n",
       "0                        NaN               NaN               NaN  \n",
       "0                   0.704583           20540.0           69170.0  \n",
       "\n",
       "[4 rows x 50 columns]"
      ]
     },
     "execution_count": 79,
     "metadata": {},
     "output_type": "execute_result"
    }
   ],
   "source": [
    "final_output = universe_analysis.generate_final_output(\n",
    "    y_pred_prob=probs_test,\n",
    "    y_test=y_true,\n",
    "    org_test=org_test,\n",
    "    filter_data=filter_sub_universe_data,\n",
    "    cp_metrics_df=cp_metrics_df,\n",
    "    save=True,\n",
    ")\n",
    "final_output"
   ]
  },
  {
   "cell_type": "code",
   "execution_count": null,
   "id": "721ff514-cb11-46f8-b6fc-50392f74b5cb",
   "metadata": {
    "papermill": {
     "duration": 0.030935,
     "end_time": "2025-07-30T21:38:48.176837",
     "exception": false,
     "start_time": "2025-07-30T21:38:48.145902",
     "status": "completed"
    },
    "tags": []
   },
   "outputs": [],
   "source": []
  }
 ],
 "metadata": {
  "celltoolbar": "Tags",
  "kernelspec": {
   "display_name": "Python (CMA Fairness)",
   "language": "python",
   "name": "cma_fair_env"
  },
  "language_info": {
   "codemirror_mode": {
    "name": "ipython",
    "version": 3
   },
   "file_extension": ".py",
   "mimetype": "text/x-python",
   "name": "python",
   "nbconvert_exporter": "python",
   "pygments_lexer": "ipython3",
   "version": "3.10.12"
  },
  "papermill": {
   "default_parameters": {},
   "duration": 41.053396,
   "end_time": "2025-07-30T21:38:49.026440",
   "environment_variables": {},
   "exception": null,
   "input_path": "universe_analysis.ipynb",
   "output_path": "output/runs/14/notebooks/m_14-a0fb2169874fe75c0c360ddc5de40ab9.ipynb",
   "parameters": {
    "output_dir": "output",
    "run_no": "14",
    "seed": "2023",
    "universe": "{\"cutoff\": [\"quantile_0.1\", \"quantile_0.25\"], \"eval_fairness_grouping\": [\"majority-minority\", \"nationality-all\"], \"exclude_features\": \"nationality\", \"exclude_subgroups\": \"keep-all\", \"model\": \"logreg\", \"scale\": \"do-not-scale\", \"training_size\": \"1k\", \"training_year\": \"2012_14\"}",
    "universe_id": "a0fb2169874fe75c0c360ddc5de40ab9"
   },
   "start_time": "2025-07-30T21:38:07.973044",
   "version": "2.6.0"
  }
 },
 "nbformat": 4,
 "nbformat_minor": 5
}