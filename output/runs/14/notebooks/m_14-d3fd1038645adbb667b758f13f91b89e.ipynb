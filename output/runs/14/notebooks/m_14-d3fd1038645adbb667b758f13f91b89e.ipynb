{
 "cells": [
  {
   "cell_type": "code",
   "execution_count": 1,
   "id": "f159f837-637b-42ba-96b5-ec9a68c44524",
   "metadata": {
    "execution": {
     "iopub.execute_input": "2025-07-30T21:01:51.322903Z",
     "iopub.status.busy": "2025-07-30T21:01:51.322413Z",
     "iopub.status.idle": "2025-07-30T21:01:51.336588Z",
     "shell.execute_reply": "2025-07-30T21:01:51.335531Z"
    },
    "papermill": {
     "duration": 0.038678,
     "end_time": "2025-07-30T21:01:51.339144",
     "exception": false,
     "start_time": "2025-07-30T21:01:51.300466",
     "status": "completed"
    },
    "tags": []
   },
   "outputs": [
    {
     "name": "stdout",
     "output_type": "stream",
     "text": [
      "/dss/dsshome1/0C/ra93lal2/cma/CMA_Fairness_v2\n"
     ]
    },
    {
     "name": "stderr",
     "output_type": "stream",
     "text": [
      "/dss/dsshome1/0C/ra93lal2/.local/share/virtualenvs/CMA_Fairness_v2-3j10GkSs/lib/python3.10/site-packages/IPython/core/magics/osm.py:393: UserWarning: This is now an optional IPython functionality, using bookmarks requires you to install the `pickleshare` library.\n",
      "  bkms = self.shell.db.get('bookmarks', {})\n",
      "/dss/dsshome1/0C/ra93lal2/.local/share/virtualenvs/CMA_Fairness_v2-3j10GkSs/lib/python3.10/site-packages/IPython/core/magics/osm.py:417: UserWarning: This is now an optional IPython functionality, setting dhist requires you to install the `pickleshare` library.\n",
      "  self.shell.db['dhist'] = compress_dhist(dhist)[-100:]\n"
     ]
    }
   ],
   "source": [
    "%cd ~/cma/CMA_Fairness_v2"
   ]
  },
  {
   "cell_type": "markdown",
   "id": "de2603b9",
   "metadata": {
    "papermill": {
     "duration": 0.020359,
     "end_time": "2025-07-30T21:01:51.380775",
     "exception": false,
     "start_time": "2025-07-30T21:01:51.360416",
     "status": "completed"
    },
    "tags": []
   },
   "source": [
    "The following cell holds the definition of our parameters, these values can be overriden by rendering the with e.g. the following command:\n",
    "\n",
    "papermill -p alpha 0.2 -p ratio 0.3 universe_analysis.ipynb output/test_run.ipynb"
   ]
  },
  {
   "cell_type": "code",
   "execution_count": 2,
   "id": "a80968a0-40bb-4fa9-85ef-2d5eefb01975",
   "metadata": {
    "execution": {
     "iopub.execute_input": "2025-07-30T21:01:51.421329Z",
     "iopub.status.busy": "2025-07-30T21:01:51.420185Z",
     "iopub.status.idle": "2025-07-30T21:01:51.426498Z",
     "shell.execute_reply": "2025-07-30T21:01:51.425412Z"
    },
    "papermill": {
     "duration": 0.028459,
     "end_time": "2025-07-30T21:01:51.428268",
     "exception": false,
     "start_time": "2025-07-30T21:01:51.399809",
     "status": "completed"
    },
    "tags": []
   },
   "outputs": [
    {
     "name": "stdout",
     "output_type": "stream",
     "text": [
      "Current working directory: /dss/dsshome1/0C/ra93lal2/cma/CMA_Fairness_v2\n"
     ]
    }
   ],
   "source": [
    "import os\n",
    "print(\"Current working directory:\", os.getcwd())"
   ]
  },
  {
   "cell_type": "code",
   "execution_count": 3,
   "id": "2dce4c03",
   "metadata": {
    "execution": {
     "iopub.execute_input": "2025-07-30T21:01:51.472158Z",
     "iopub.status.busy": "2025-07-30T21:01:51.471622Z",
     "iopub.status.idle": "2025-07-30T21:01:51.478044Z",
     "shell.execute_reply": "2025-07-30T21:01:51.477071Z"
    },
    "papermill": {
     "duration": 0.030008,
     "end_time": "2025-07-30T21:01:51.479839",
     "exception": false,
     "start_time": "2025-07-30T21:01:51.449831",
     "status": "completed"
    },
    "tags": [
     "parameters"
    ]
   },
   "outputs": [],
   "source": [
    "run_no = 0\n",
    "universe_id = \"test\"\n",
    "universe = {\n",
    "    \"training_size\": \"25k\", # \"25k\", \"5k\", \"1k\"\n",
    "    \"training_year\": \"2014\", # \"2014\", \"2012_14\", \"2010_14\"\n",
    "    \"scale\": \"scale\", # \"scale\", \"do-not-scale\",\n",
    "    #\"stratify_split\": \"target\", # \"none\", \"target\", \"protected-attribute\", \"both\",\n",
    "    \"model\": \"elasticnet\", # \"logreg\", \"penalized_logreg\", \"rf\", \"gbm\", \"elasticnet\"\n",
    "    \"cutoff\": [\"quantile_0.15\", \"quantile_0.30\"],\n",
    "    \"exclude_features\": \"age\", # \"none\", \"nationality\", \"sex\", \"nationality-sex\", \"age\"\n",
    "    \"exclude_subgroups\": \"keep-all\", # \"keep-all\", \"drop-non-german\"\n",
    "    \"eval_fairness_grouping\": [\"majority-minority\", \"nationality-all\"]\n",
    "}\n",
    "\n",
    "output_dir=\"./output\"\n",
    "seed=0"
   ]
  },
  {
   "cell_type": "code",
   "execution_count": 4,
   "id": "36db45e8",
   "metadata": {
    "execution": {
     "iopub.execute_input": "2025-07-30T21:01:51.526264Z",
     "iopub.status.busy": "2025-07-30T21:01:51.525168Z",
     "iopub.status.idle": "2025-07-30T21:01:51.531781Z",
     "shell.execute_reply": "2025-07-30T21:01:51.530431Z"
    },
    "papermill": {
     "duration": 0.031881,
     "end_time": "2025-07-30T21:01:51.533622",
     "exception": false,
     "start_time": "2025-07-30T21:01:51.501741",
     "status": "completed"
    },
    "tags": [
     "injected-parameters"
    ]
   },
   "outputs": [],
   "source": [
    "# Parameters\n",
    "universe_id = \"d3fd1038645adbb667b758f13f91b89e\"\n",
    "run_no = \"14\"\n",
    "universe = \"{\\\"cutoff\\\": [\\\"quantile_0.1\\\", \\\"quantile_0.25\\\"], \\\"eval_fairness_grouping\\\": [\\\"majority-minority\\\", \\\"nationality-all\\\"], \\\"exclude_features\\\": \\\"sex\\\", \\\"exclude_subgroups\\\": \\\"drop-non-german\\\", \\\"model\\\": \\\"elasticnet\\\", \\\"scale\\\": \\\"scale\\\", \\\"training_size\\\": \\\"5k\\\", \\\"training_year\\\": \\\"2012_14\\\"}\"\n",
    "output_dir = \"output\"\n",
    "seed = \"2023\"\n"
   ]
  },
  {
   "cell_type": "code",
   "execution_count": 5,
   "id": "1650acaf",
   "metadata": {
    "execution": {
     "iopub.execute_input": "2025-07-30T21:01:51.580123Z",
     "iopub.status.busy": "2025-07-30T21:01:51.579005Z",
     "iopub.status.idle": "2025-07-30T21:01:51.642361Z",
     "shell.execute_reply": "2025-07-30T21:01:51.641353Z"
    },
    "papermill": {
     "duration": 0.088703,
     "end_time": "2025-07-30T21:01:51.644390",
     "exception": false,
     "start_time": "2025-07-30T21:01:51.555687",
     "status": "completed"
    },
    "tags": []
   },
   "outputs": [],
   "source": [
    "import json\n",
    "# Parse universe into dict if it is passed as a string\n",
    "if isinstance(universe, str):\n",
    "    universe = json.loads(universe)"
   ]
  },
  {
   "cell_type": "code",
   "execution_count": 6,
   "id": "16620c48",
   "metadata": {
    "execution": {
     "iopub.execute_input": "2025-07-30T21:01:51.687671Z",
     "iopub.status.busy": "2025-07-30T21:01:51.686574Z",
     "iopub.status.idle": "2025-07-30T21:01:51.732244Z",
     "shell.execute_reply": "2025-07-30T21:01:51.731387Z"
    },
    "papermill": {
     "duration": 0.068811,
     "end_time": "2025-07-30T21:01:51.734040",
     "exception": false,
     "start_time": "2025-07-30T21:01:51.665229",
     "status": "completed"
    },
    "tags": []
   },
   "outputs": [],
   "source": [
    "# Auto-reload the custom package\n",
    "%load_ext autoreload\n",
    "%autoreload 1\n",
    "%aimport fairness_multiverse"
   ]
  },
  {
   "cell_type": "code",
   "execution_count": 7,
   "id": "01c5c9f3",
   "metadata": {
    "execution": {
     "iopub.execute_input": "2025-07-30T21:01:51.763693Z",
     "iopub.status.busy": "2025-07-30T21:01:51.763168Z",
     "iopub.status.idle": "2025-07-30T21:01:53.586830Z",
     "shell.execute_reply": "2025-07-30T21:01:53.585888Z"
    },
    "papermill": {
     "duration": 1.838257,
     "end_time": "2025-07-30T21:01:53.588736",
     "exception": false,
     "start_time": "2025-07-30T21:01:51.750479",
     "status": "completed"
    },
    "tags": []
   },
   "outputs": [],
   "source": [
    "from fairness_multiverse.universe import UniverseAnalysis\n",
    "\n",
    "universe_analysis = UniverseAnalysis(\n",
    "    run_no = run_no,\n",
    "    universe_id = universe_id,\n",
    "    universe = universe,\n",
    "    output_dir=output_dir,\n",
    ")"
   ]
  },
  {
   "cell_type": "code",
   "execution_count": 8,
   "id": "106241f5",
   "metadata": {
    "execution": {
     "iopub.execute_input": "2025-07-30T21:01:53.625495Z",
     "iopub.status.busy": "2025-07-30T21:01:53.624756Z",
     "iopub.status.idle": "2025-07-30T21:01:53.633614Z",
     "shell.execute_reply": "2025-07-30T21:01:53.632691Z"
    },
    "papermill": {
     "duration": 0.032123,
     "end_time": "2025-07-30T21:01:53.635112",
     "exception": false,
     "start_time": "2025-07-30T21:01:53.602989",
     "status": "completed"
    },
    "tags": []
   },
   "outputs": [
    {
     "name": "stdout",
     "output_type": "stream",
     "text": [
      "Using Seed: 2023\n"
     ]
    }
   ],
   "source": [
    "import numpy as np\n",
    "parsed_seed = int(seed)\n",
    "np.random.seed(parsed_seed)\n",
    "print(f\"Using Seed: {parsed_seed}\")"
   ]
  },
  {
   "cell_type": "markdown",
   "id": "e0ebdc57",
   "metadata": {
    "papermill": {
     "duration": 0.019303,
     "end_time": "2025-07-30T21:01:53.673600",
     "exception": false,
     "start_time": "2025-07-30T21:01:53.654297",
     "status": "completed"
    },
    "tags": []
   },
   "source": [
    "# Loading Data"
   ]
  },
  {
   "cell_type": "markdown",
   "id": "681925a3",
   "metadata": {
    "papermill": {
     "duration": 0.018996,
     "end_time": "2025-07-30T21:01:53.711659",
     "exception": false,
     "start_time": "2025-07-30T21:01:53.692663",
     "status": "completed"
    },
    "tags": []
   },
   "source": [
    "Load siab_train, siab_test, siab_calib and/or \n",
    "load siab_train_features, siab_train_labels"
   ]
  },
  {
   "cell_type": "code",
   "execution_count": 9,
   "id": "f0496b8a",
   "metadata": {
    "execution": {
     "iopub.execute_input": "2025-07-30T21:01:53.751553Z",
     "iopub.status.busy": "2025-07-30T21:01:53.751035Z",
     "iopub.status.idle": "2025-07-30T21:02:07.251255Z",
     "shell.execute_reply": "2025-07-30T21:02:07.250262Z"
    },
    "papermill": {
     "duration": 13.522021,
     "end_time": "2025-07-30T21:02:07.252603",
     "exception": false,
     "start_time": "2025-07-30T21:01:53.730582",
     "status": "completed"
    },
    "tags": []
   },
   "outputs": [
    {
     "name": "stdout",
     "output_type": "stream",
     "text": [
      "Loading SIAB data from cache: data/siab_cached.csv.gz\n"
     ]
    },
    {
     "name": "stdout",
     "output_type": "stream",
     "text": [
      "(643690, 164)\n"
     ]
    }
   ],
   "source": [
    "from pathlib import Path\n",
    "import pandas as pd\n",
    "\n",
    "# File paths\n",
    "raw_file = Path(\"data/raw/siab.csv\")\n",
    "cache_file = Path(\"data/siab_cached.csv.gz\")\n",
    "\n",
    "# Ensure cache directory exists\n",
    "cache_file.parent.mkdir(parents=True, exist_ok=True)\n",
    "\n",
    "# Load with simple caching\n",
    "if cache_file.exists():\n",
    "    print(f\"Loading SIAB data from cache: {cache_file}\")\n",
    "    siab = pd.read_csv(cache_file, compression='gzip')\n",
    "else:\n",
    "    print(f\"Cache not found. Reading raw SIAB data: {raw_file}\")\n",
    "    siab = pd.read_csv(raw_file)\n",
    "    siab.to_csv(cache_file, index=False, compression='gzip')\n",
    "    print(f\"Cached SIAB data to: {cache_file}\")\n",
    "\n",
    "# Now use `siab` DataFrame as needed\n",
    "print(siab.shape)"
   ]
  },
  {
   "cell_type": "code",
   "execution_count": 10,
   "id": "db0ca512-5f53-4dba-abdb-a2888bca41ba",
   "metadata": {
    "execution": {
     "iopub.execute_input": "2025-07-30T21:02:07.278565Z",
     "iopub.status.busy": "2025-07-30T21:02:07.277993Z",
     "iopub.status.idle": "2025-07-30T21:02:07.282838Z",
     "shell.execute_reply": "2025-07-30T21:02:07.282014Z"
    },
    "papermill": {
     "duration": 0.017136,
     "end_time": "2025-07-30T21:02:07.283986",
     "exception": false,
     "start_time": "2025-07-30T21:02:07.266850",
     "status": "completed"
    },
    "tags": []
   },
   "outputs": [],
   "source": [
    "#siab"
   ]
  },
  {
   "cell_type": "code",
   "execution_count": 11,
   "id": "a0edb063",
   "metadata": {
    "execution": {
     "iopub.execute_input": "2025-07-30T21:02:07.320536Z",
     "iopub.status.busy": "2025-07-30T21:02:07.319610Z",
     "iopub.status.idle": "2025-07-30T21:02:07.324397Z",
     "shell.execute_reply": "2025-07-30T21:02:07.323392Z"
    },
    "papermill": {
     "duration": 0.03014,
     "end_time": "2025-07-30T21:02:07.326012",
     "exception": false,
     "start_time": "2025-07-30T21:02:07.295872",
     "status": "completed"
    },
    "tags": []
   },
   "outputs": [],
   "source": [
    "#import pandas as pd\n",
    "#\n",
    "#X_train = pd.read_csv(\"./data/X_train.csv\")\n",
    "#y_train = pd.read_csv(\"./data/y_train.csv\")"
   ]
  },
  {
   "cell_type": "code",
   "execution_count": 12,
   "id": "63d08085",
   "metadata": {
    "execution": {
     "iopub.execute_input": "2025-07-30T21:02:07.376431Z",
     "iopub.status.busy": "2025-07-30T21:02:07.376020Z",
     "iopub.status.idle": "2025-07-30T21:02:07.381840Z",
     "shell.execute_reply": "2025-07-30T21:02:07.380668Z"
    },
    "papermill": {
     "duration": 0.03647,
     "end_time": "2025-07-30T21:02:07.383975",
     "exception": false,
     "start_time": "2025-07-30T21:02:07.347505",
     "status": "completed"
    },
    "tags": []
   },
   "outputs": [],
   "source": [
    "#X_test = pd.read_csv(\"./data/X_test.csv\")\n",
    "#y_true = pd.read_csv(\"./data/y_test.csv\")"
   ]
  },
  {
   "cell_type": "code",
   "execution_count": 13,
   "id": "98a8d0fa-1d3d-4ed8-bb2c-281470e24add",
   "metadata": {
    "execution": {
     "iopub.execute_input": "2025-07-30T21:02:07.415745Z",
     "iopub.status.busy": "2025-07-30T21:02:07.415348Z",
     "iopub.status.idle": "2025-07-30T21:02:07.420144Z",
     "shell.execute_reply": "2025-07-30T21:02:07.419385Z"
    },
    "papermill": {
     "duration": 0.018201,
     "end_time": "2025-07-30T21:02:07.421405",
     "exception": false,
     "start_time": "2025-07-30T21:02:07.403204",
     "status": "completed"
    },
    "tags": []
   },
   "outputs": [],
   "source": [
    "# Calibration data for conformal\n",
    "#X_calib = pd.read_csv(\"./data/X_calib.csv\")\n",
    "#y_calib = pd.read_csv(\"./data/y_calib.csv\")"
   ]
  },
  {
   "cell_type": "markdown",
   "id": "997051c5-15bd-4b69-9786-c3001a3ce484",
   "metadata": {
    "papermill": {
     "duration": 0.01049,
     "end_time": "2025-07-30T21:02:07.442930",
     "exception": false,
     "start_time": "2025-07-30T21:02:07.432440",
     "status": "completed"
    },
    "tags": []
   },
   "source": [
    "# Splitting Data and Setting Training Data Size"
   ]
  },
  {
   "cell_type": "code",
   "execution_count": 14,
   "id": "e993b61f-042d-41a6-8c81-f55681f86335",
   "metadata": {
    "execution": {
     "iopub.execute_input": "2025-07-30T21:02:07.495160Z",
     "iopub.status.busy": "2025-07-30T21:02:07.494813Z",
     "iopub.status.idle": "2025-07-30T21:02:07.504996Z",
     "shell.execute_reply": "2025-07-30T21:02:07.504105Z"
    },
    "papermill": {
     "duration": 0.041204,
     "end_time": "2025-07-30T21:02:07.506380",
     "exception": false,
     "start_time": "2025-07-30T21:02:07.465176",
     "status": "completed"
    },
    "tags": []
   },
   "outputs": [],
   "source": [
    "def sample_by_year_size(df,\n",
    "                        training_year: str,\n",
    "                        training_size: str,\n",
    "                        random_state: int = 42):\n",
    "    # --- parse training_year into a list of int years ---\n",
    "    if \"_\" in training_year:\n",
    "        start_str, end_str = training_year.split(\"_\", 1)\n",
    "        start = int(start_str)\n",
    "        end   = int(end_str) if len(end_str) == 4 else (int(end_str) + (start // 100)*100)\n",
    "        years = list(range(start, end + 1))\n",
    "    else:\n",
    "        years = [int(training_year)]\n",
    "\n",
    "    df = df[df[\"year\"].isin(years)].reset_index(drop=True)\n",
    "\n",
    "    # --- map training_size to total number of samples ---\n",
    "    total_map = {\"25k\": 25_000, \"5k\": 5_000, \"1k\": 1_000}\n",
    "    if training_size not in total_map:\n",
    "        return df  # e.g. \"all\"\n",
    "\n",
    "    total_samples = total_map[training_size]\n",
    "    n_years       = len(years)\n",
    "    base          = total_samples // n_years\n",
    "    remainder     = total_samples % n_years\n",
    "\n",
    "    # --- build a dict: year -> how many to sample ---\n",
    "    # give +1 to the first `remainder` years in ascending order\n",
    "    quotas = {\n",
    "        year: base + (1 if idx < remainder else 0)\n",
    "        for idx, year in enumerate(sorted(years))\n",
    "    }\n",
    "\n",
    "    # --- sample per‐year according to the quota dict ---\n",
    "    sampled = (\n",
    "        df\n",
    "        .groupby(\"year\", group_keys=False)\n",
    "        .apply(lambda grp: grp.sample(\n",
    "            n=min(len(grp), quotas[grp.name]),\n",
    "            random_state=random_state))\n",
    "        .reset_index(drop=True)\n",
    "    )\n",
    "\n",
    "    return sampled"
   ]
  },
  {
   "cell_type": "code",
   "execution_count": 15,
   "id": "c0ccd338-0e02-41f3-a09d-f56f9266e3fb",
   "metadata": {
    "execution": {
     "iopub.execute_input": "2025-07-30T21:02:07.530630Z",
     "iopub.status.busy": "2025-07-30T21:02:07.529823Z",
     "iopub.status.idle": "2025-07-30T21:02:07.549660Z",
     "shell.execute_reply": "2025-07-30T21:02:07.548999Z"
    },
    "papermill": {
     "duration": 0.032581,
     "end_time": "2025-07-30T21:02:07.550882",
     "exception": false,
     "start_time": "2025-07-30T21:02:07.518301",
     "status": "completed"
    },
    "tags": []
   },
   "outputs": [],
   "source": [
    "#universe[\"training_size\"]"
   ]
  },
  {
   "cell_type": "code",
   "execution_count": 16,
   "id": "ca707fd7-8047-4acd-bfa5-66248fbbf8e6",
   "metadata": {
    "execution": {
     "iopub.execute_input": "2025-07-30T21:02:07.573447Z",
     "iopub.status.busy": "2025-07-30T21:02:07.573048Z",
     "iopub.status.idle": "2025-07-30T21:02:07.577120Z",
     "shell.execute_reply": "2025-07-30T21:02:07.576475Z"
    },
    "papermill": {
     "duration": 0.016646,
     "end_time": "2025-07-30T21:02:07.578373",
     "exception": false,
     "start_time": "2025-07-30T21:02:07.561727",
     "status": "completed"
    },
    "tags": []
   },
   "outputs": [],
   "source": [
    "#universe[\"training_year\"]"
   ]
  },
  {
   "cell_type": "code",
   "execution_count": 17,
   "id": "aea9c6ef-6f46-42c8-85eb-5a62025c1508",
   "metadata": {
    "execution": {
     "iopub.execute_input": "2025-07-30T21:02:07.614769Z",
     "iopub.status.busy": "2025-07-30T21:02:07.614251Z",
     "iopub.status.idle": "2025-07-30T21:02:08.213493Z",
     "shell.execute_reply": "2025-07-30T21:02:08.212543Z"
    },
    "papermill": {
     "duration": 0.624964,
     "end_time": "2025-07-30T21:02:08.215678",
     "exception": false,
     "start_time": "2025-07-30T21:02:07.590714",
     "status": "completed"
    },
    "tags": []
   },
   "outputs": [],
   "source": [
    "siab_train = sample_by_year_size(siab,\n",
    "                               training_year=universe[\"training_year\"],\n",
    "                               training_size=universe[\"training_size\"])"
   ]
  },
  {
   "cell_type": "code",
   "execution_count": 18,
   "id": "8d3afb32-789d-442c-8d5d-9f5aa8dd2eed",
   "metadata": {
    "execution": {
     "iopub.execute_input": "2025-07-30T21:02:08.265845Z",
     "iopub.status.busy": "2025-07-30T21:02:08.265522Z",
     "iopub.status.idle": "2025-07-30T21:02:08.271127Z",
     "shell.execute_reply": "2025-07-30T21:02:08.270069Z"
    },
    "papermill": {
     "duration": 0.032429,
     "end_time": "2025-07-30T21:02:08.273370",
     "exception": false,
     "start_time": "2025-07-30T21:02:08.240941",
     "status": "completed"
    },
    "tags": []
   },
   "outputs": [],
   "source": [
    "#siab_train.shape"
   ]
  },
  {
   "cell_type": "code",
   "execution_count": 19,
   "id": "d582db68-1a4c-47fb-84fc-08518dc1975a",
   "metadata": {
    "execution": {
     "iopub.execute_input": "2025-07-30T21:02:08.329685Z",
     "iopub.status.busy": "2025-07-30T21:02:08.329085Z",
     "iopub.status.idle": "2025-07-30T21:02:08.336284Z",
     "shell.execute_reply": "2025-07-30T21:02:08.335250Z"
    },
    "papermill": {
     "duration": 0.041454,
     "end_time": "2025-07-30T21:02:08.338194",
     "exception": false,
     "start_time": "2025-07-30T21:02:08.296740",
     "status": "completed"
    },
    "tags": []
   },
   "outputs": [],
   "source": [
    "#display(siab_train.groupby(\"year\").size())"
   ]
  },
  {
   "cell_type": "code",
   "execution_count": 20,
   "id": "a561edb4-d032-42cb-8256-22eac1111c64",
   "metadata": {
    "execution": {
     "iopub.execute_input": "2025-07-30T21:02:08.388651Z",
     "iopub.status.busy": "2025-07-30T21:02:08.387727Z",
     "iopub.status.idle": "2025-07-30T21:02:08.659672Z",
     "shell.execute_reply": "2025-07-30T21:02:08.658575Z"
    },
    "papermill": {
     "duration": 0.299089,
     "end_time": "2025-07-30T21:02:08.662312",
     "exception": false,
     "start_time": "2025-07-30T21:02:08.363223",
     "status": "completed"
    },
    "tags": []
   },
   "outputs": [],
   "source": [
    "#siab_train = siab_s[siab_s.year < 2015]\n",
    "siab_calib = siab[siab.year == 2015]\n",
    "siab_test = siab[siab.year == 2016]"
   ]
  },
  {
   "cell_type": "code",
   "execution_count": 21,
   "id": "472de16f-c3db-4916-846b-1f0de9cf1746",
   "metadata": {
    "execution": {
     "iopub.execute_input": "2025-07-30T21:02:08.729037Z",
     "iopub.status.busy": "2025-07-30T21:02:08.728217Z",
     "iopub.status.idle": "2025-07-30T21:02:08.736715Z",
     "shell.execute_reply": "2025-07-30T21:02:08.735605Z"
    },
    "papermill": {
     "duration": 0.043105,
     "end_time": "2025-07-30T21:02:08.739362",
     "exception": false,
     "start_time": "2025-07-30T21:02:08.696257",
     "status": "completed"
    },
    "tags": []
   },
   "outputs": [],
   "source": [
    "X_train = siab_train.iloc[:,4:164]\n",
    "y_train = siab_train.iloc[:, [3]]"
   ]
  },
  {
   "cell_type": "code",
   "execution_count": 22,
   "id": "828c96af-f43a-4ed6-ba47-8ac73a47d56c",
   "metadata": {
    "execution": {
     "iopub.execute_input": "2025-07-30T21:02:08.799636Z",
     "iopub.status.busy": "2025-07-30T21:02:08.798779Z",
     "iopub.status.idle": "2025-07-30T21:02:08.853386Z",
     "shell.execute_reply": "2025-07-30T21:02:08.852195Z"
    },
    "papermill": {
     "duration": 0.08712,
     "end_time": "2025-07-30T21:02:08.855330",
     "exception": false,
     "start_time": "2025-07-30T21:02:08.768210",
     "status": "completed"
    },
    "tags": []
   },
   "outputs": [],
   "source": [
    "X_calib = siab_calib.iloc[:,4:164]\n",
    "y_calib = siab_calib.iloc[:, [3]]"
   ]
  },
  {
   "cell_type": "code",
   "execution_count": 23,
   "id": "c34be9c3-6bd6-476e-acd3-845840e303be",
   "metadata": {
    "execution": {
     "iopub.execute_input": "2025-07-30T21:02:08.882460Z",
     "iopub.status.busy": "2025-07-30T21:02:08.882094Z",
     "iopub.status.idle": "2025-07-30T21:02:08.931763Z",
     "shell.execute_reply": "2025-07-30T21:02:08.930837Z"
    },
    "papermill": {
     "duration": 0.064483,
     "end_time": "2025-07-30T21:02:08.933218",
     "exception": false,
     "start_time": "2025-07-30T21:02:08.868735",
     "status": "completed"
    },
    "tags": []
   },
   "outputs": [],
   "source": [
    "X_test = siab_test.iloc[:,4:164]\n",
    "y_true = siab_test.iloc[:, [3]]"
   ]
  },
  {
   "cell_type": "markdown",
   "id": "9901737e-04df-44f0-9100-f5ad144ed040",
   "metadata": {
    "papermill": {
     "duration": 0.013782,
     "end_time": "2025-07-30T21:02:08.959501",
     "exception": false,
     "start_time": "2025-07-30T21:02:08.945719",
     "status": "completed"
    },
    "tags": []
   },
   "source": [
    "# Splitting Data and Setting Training Data Size OLD VERSION"
   ]
  },
  {
   "cell_type": "code",
   "execution_count": 24,
   "id": "acbc8f7d-8fc8-4e86-8c59-5dcb0f58384b",
   "metadata": {
    "execution": {
     "iopub.execute_input": "2025-07-30T21:02:09.003402Z",
     "iopub.status.busy": "2025-07-30T21:02:09.002971Z",
     "iopub.status.idle": "2025-07-30T21:02:09.008234Z",
     "shell.execute_reply": "2025-07-30T21:02:09.007133Z"
    },
    "papermill": {
     "duration": 0.030101,
     "end_time": "2025-07-30T21:02:09.010531",
     "exception": false,
     "start_time": "2025-07-30T21:02:08.980430",
     "status": "completed"
    },
    "tags": []
   },
   "outputs": [],
   "source": [
    "#def sample_by_year(df, training_size, random_state=42):\n",
    "#    if training_size == \"2014\":\n",
    "#        return df[df[\"year\"] == 2014].reset_index(drop=True)\n",
    "#    \n",
    "#    size_map = {\n",
    "#        \"25k\": 5000,\n",
    "#        \"5k\": 1000,\n",
    "#        \"1k\": 200\n",
    "#    }\n",
    "#\n",
    "#    if training_size not in size_map:\n",
    "#        return df.reset_index(drop=True)  # use all data\n",
    "#\n",
    "#    n_per_year = size_map[training_size]\n",
    "#    grouped = df.groupby(\"year\")\n",
    "#    sampled = grouped.apply(lambda x: x.sample(n=min(n_per_year, len(x)), random_state=random_state))\n",
    "#    return sampled.reset_index(drop=True)"
   ]
  },
  {
   "cell_type": "code",
   "execution_count": 25,
   "id": "6d931f52-beaf-43ff-9e78-9d44a448d54e",
   "metadata": {
    "execution": {
     "iopub.execute_input": "2025-07-30T21:02:09.058164Z",
     "iopub.status.busy": "2025-07-30T21:02:09.057659Z",
     "iopub.status.idle": "2025-07-30T21:02:09.062646Z",
     "shell.execute_reply": "2025-07-30T21:02:09.061785Z"
    },
    "papermill": {
     "duration": 0.029806,
     "end_time": "2025-07-30T21:02:09.064134",
     "exception": false,
     "start_time": "2025-07-30T21:02:09.034328",
     "status": "completed"
    },
    "tags": []
   },
   "outputs": [],
   "source": [
    "#siab_s = sample_by_year(siab, universe[\"training_size\"])"
   ]
  },
  {
   "cell_type": "code",
   "execution_count": 26,
   "id": "5db0a40e-a4e2-4920-be85-b12ae061d70d",
   "metadata": {
    "execution": {
     "iopub.execute_input": "2025-07-30T21:02:09.112131Z",
     "iopub.status.busy": "2025-07-30T21:02:09.111653Z",
     "iopub.status.idle": "2025-07-30T21:02:09.116801Z",
     "shell.execute_reply": "2025-07-30T21:02:09.115750Z"
    },
    "papermill": {
     "duration": 0.031805,
     "end_time": "2025-07-30T21:02:09.118565",
     "exception": false,
     "start_time": "2025-07-30T21:02:09.086760",
     "status": "completed"
    },
    "tags": []
   },
   "outputs": [],
   "source": [
    "#display(siab_s.groupby(\"year\").size())"
   ]
  },
  {
   "cell_type": "code",
   "execution_count": 27,
   "id": "e6c733c5",
   "metadata": {
    "execution": {
     "iopub.execute_input": "2025-07-30T21:02:09.166507Z",
     "iopub.status.busy": "2025-07-30T21:02:09.165945Z",
     "iopub.status.idle": "2025-07-30T21:02:09.259065Z",
     "shell.execute_reply": "2025-07-30T21:02:09.258335Z"
    },
    "papermill": {
     "duration": 0.118719,
     "end_time": "2025-07-30T21:02:09.261006",
     "exception": false,
     "start_time": "2025-07-30T21:02:09.142287",
     "status": "completed"
    },
    "tags": []
   },
   "outputs": [],
   "source": [
    "# Auxiliary data needed downstream in the pipeline\n",
    "\n",
    "org_train = X_train.copy()\n",
    "org_test = X_test.copy()\n",
    "org_calib = X_calib.copy()"
   ]
  },
  {
   "cell_type": "code",
   "execution_count": 28,
   "id": "1466abac-c6da-4492-a62f-4240ae3783af",
   "metadata": {
    "execution": {
     "iopub.execute_input": "2025-07-30T21:02:09.308924Z",
     "iopub.status.busy": "2025-07-30T21:02:09.308424Z",
     "iopub.status.idle": "2025-07-30T21:02:09.314485Z",
     "shell.execute_reply": "2025-07-30T21:02:09.313360Z"
    },
    "papermill": {
     "duration": 0.03163,
     "end_time": "2025-07-30T21:02:09.316305",
     "exception": false,
     "start_time": "2025-07-30T21:02:09.284675",
     "status": "completed"
    },
    "tags": []
   },
   "outputs": [],
   "source": [
    "# put in other script?\n",
    "# Group sizes\n",
    "\n",
    "#def calculate_percentages(df, df_name):\n",
    "#    total_entries = len(df)\n",
    "#\n",
    "#    female_pct = (df['frau1'] == 1).mean() * 100\n",
    "#    non_german_pct = ((df['maxdeutsch1'] == 0) & (df['maxdeutsch.Missing.'] == 0)).mean() * 100\n",
    "#    non_german_male_pct = ((df['frau1'] == 0) & (df['maxdeutsch1'] == 0) & (df['maxdeutsch.Missing.'] == 0)).mean() * 100\n",
    "#    non_german_female_pct = ((df['frau1'] == 1) & (df['maxdeutsch1'] == 0) & (df['maxdeutsch.Missing.'] == 0)).mean() * 100\n",
    "#\n",
    "#    print(f\"--- {df_name} ---\")\n",
    "#    print(f\"Female: {female_pct:.2f}%\")\n",
    "#    print(f\"Non-German: {non_german_pct:.2f}%\")\n",
    "#    print(f\"Non-German Male: {non_german_male_pct:.2f}%\")\n",
    "#    print(f\"Non-German Female: {non_german_female_pct:.2f}%\\n\")\n",
    "#\n",
    "## Calculate for each DataFrame\n",
    "#calculate_percentages(siab_calib, \"siab_calib\")\n",
    "#calculate_percentages(siab_test, \"siab_test\")\n",
    "#calculate_percentages(siab_train, \"siab_train\")"
   ]
  },
  {
   "cell_type": "markdown",
   "id": "0a4a1b33",
   "metadata": {
    "papermill": {
     "duration": 0.023529,
     "end_time": "2025-07-30T21:02:09.364313",
     "exception": false,
     "start_time": "2025-07-30T21:02:09.340784",
     "status": "completed"
    },
    "tags": []
   },
   "source": [
    "# Preprocessing Data"
   ]
  },
  {
   "cell_type": "code",
   "execution_count": 29,
   "id": "ca879031",
   "metadata": {
    "execution": {
     "iopub.execute_input": "2025-07-30T21:02:09.413779Z",
     "iopub.status.busy": "2025-07-30T21:02:09.413259Z",
     "iopub.status.idle": "2025-07-30T21:02:09.419646Z",
     "shell.execute_reply": "2025-07-30T21:02:09.418505Z"
    },
    "papermill": {
     "duration": 0.033588,
     "end_time": "2025-07-30T21:02:09.421697",
     "exception": false,
     "start_time": "2025-07-30T21:02:09.388109",
     "status": "completed"
    },
    "tags": []
   },
   "outputs": [],
   "source": [
    "# EXCLUDE PROTECTED FEATURES\n",
    "# ----------------------\n",
    "# \"exclude_features\": \"none\", # \"nationality\", \"sex\", \"nationality-sex\"\n",
    "\n",
    "excluded_features = universe[\"exclude_features\"].split(\"-\") # split, e.g.: \"nationality-sex\" -> [\"nationality\", \"sex\"]\n",
    "excluded_features_dictionary = {\n",
    "    \"nationality\": [\"maxdeutsch1\", \"maxdeutsch.Missing.\"],\n",
    "    \"sex\": [\"frau1\"],\n",
    "    \"age\": [\"age\"],\n",
    "}\n"
   ]
  },
  {
   "cell_type": "code",
   "execution_count": 30,
   "id": "b745ac60",
   "metadata": {
    "execution": {
     "iopub.execute_input": "2025-07-30T21:02:09.472522Z",
     "iopub.status.busy": "2025-07-30T21:02:09.471977Z",
     "iopub.status.idle": "2025-07-30T21:02:09.478071Z",
     "shell.execute_reply": "2025-07-30T21:02:09.477099Z"
    },
    "papermill": {
     "duration": 0.033649,
     "end_time": "2025-07-30T21:02:09.479809",
     "exception": false,
     "start_time": "2025-07-30T21:02:09.446160",
     "status": "completed"
    },
    "tags": []
   },
   "outputs": [],
   "source": [
    "# Code nice names to column names\n",
    "\n",
    "excluded_features_columns = [\n",
    "    excluded_features_dictionary[f] for f in excluded_features if len(f) > 0 and f != \"none\"\n",
    "]"
   ]
  },
  {
   "cell_type": "code",
   "execution_count": 31,
   "id": "f84f73a2",
   "metadata": {
    "execution": {
     "iopub.execute_input": "2025-07-30T21:02:09.530381Z",
     "iopub.status.busy": "2025-07-30T21:02:09.529680Z",
     "iopub.status.idle": "2025-07-30T21:02:09.536559Z",
     "shell.execute_reply": "2025-07-30T21:02:09.535663Z"
    },
    "papermill": {
     "duration": 0.033357,
     "end_time": "2025-07-30T21:02:09.537997",
     "exception": false,
     "start_time": "2025-07-30T21:02:09.504640",
     "status": "completed"
    },
    "tags": []
   },
   "outputs": [],
   "source": [
    "from utils import flatten_once\n",
    "\n",
    "excluded_features_columns = flatten_once(excluded_features_columns)"
   ]
  },
  {
   "cell_type": "code",
   "execution_count": 32,
   "id": "884dea22",
   "metadata": {
    "execution": {
     "iopub.execute_input": "2025-07-30T21:02:09.584460Z",
     "iopub.status.busy": "2025-07-30T21:02:09.583969Z",
     "iopub.status.idle": "2025-07-30T21:02:09.597096Z",
     "shell.execute_reply": "2025-07-30T21:02:09.596066Z"
    },
    "papermill": {
     "duration": 0.038478,
     "end_time": "2025-07-30T21:02:09.598518",
     "exception": false,
     "start_time": "2025-07-30T21:02:09.560040",
     "status": "completed"
    },
    "tags": []
   },
   "outputs": [
    {
     "name": "stdout",
     "output_type": "stream",
     "text": [
      "Dropping features: ['frau1']\n"
     ]
    }
   ],
   "source": [
    "if len(excluded_features_columns) > 0:\n",
    "    print(f\"Dropping features: {excluded_features_columns}\")\n",
    "    X_train.drop(excluded_features_columns, axis=1, inplace=True)"
   ]
  },
  {
   "cell_type": "code",
   "execution_count": 33,
   "id": "95ab8b16",
   "metadata": {
    "execution": {
     "iopub.execute_input": "2025-07-30T21:02:09.624301Z",
     "iopub.status.busy": "2025-07-30T21:02:09.623930Z",
     "iopub.status.idle": "2025-07-30T21:02:09.675518Z",
     "shell.execute_reply": "2025-07-30T21:02:09.674432Z"
    },
    "papermill": {
     "duration": 0.066189,
     "end_time": "2025-07-30T21:02:09.676967",
     "exception": false,
     "start_time": "2025-07-30T21:02:09.610778",
     "status": "completed"
    },
    "tags": []
   },
   "outputs": [
    {
     "name": "stdout",
     "output_type": "stream",
     "text": [
      "Dropping features: ['frau1']\n"
     ]
    }
   ],
   "source": [
    "if len(excluded_features_columns) > 0:\n",
    "    print(f\"Dropping features: {excluded_features_columns}\")\n",
    "    X_test.drop(excluded_features_columns, axis=1, inplace=True)"
   ]
  },
  {
   "cell_type": "code",
   "execution_count": 34,
   "id": "1853aaf5-fb9f-46cb-a2b5-8ea4ae2237e4",
   "metadata": {
    "execution": {
     "iopub.execute_input": "2025-07-30T21:02:09.724131Z",
     "iopub.status.busy": "2025-07-30T21:02:09.723678Z",
     "iopub.status.idle": "2025-07-30T21:02:09.782461Z",
     "shell.execute_reply": "2025-07-30T21:02:09.781546Z"
    },
    "papermill": {
     "duration": 0.085608,
     "end_time": "2025-07-30T21:02:09.783945",
     "exception": false,
     "start_time": "2025-07-30T21:02:09.698337",
     "status": "completed"
    },
    "tags": []
   },
   "outputs": [
    {
     "name": "stdout",
     "output_type": "stream",
     "text": [
      "Dropping features: ['frau1']\n"
     ]
    }
   ],
   "source": [
    "if len(excluded_features_columns) > 0:\n",
    "    print(f\"Dropping features: {excluded_features_columns}\")\n",
    "    X_calib.drop(excluded_features_columns, axis=1, inplace=True)"
   ]
  },
  {
   "cell_type": "code",
   "execution_count": 35,
   "id": "6727d079-03e5-481e-9d38-292a90b7a0a8",
   "metadata": {
    "execution": {
     "iopub.execute_input": "2025-07-30T21:02:09.826413Z",
     "iopub.status.busy": "2025-07-30T21:02:09.825933Z",
     "iopub.status.idle": "2025-07-30T21:02:09.831096Z",
     "shell.execute_reply": "2025-07-30T21:02:09.830231Z"
    },
    "papermill": {
     "duration": 0.028023,
     "end_time": "2025-07-30T21:02:09.832892",
     "exception": false,
     "start_time": "2025-07-30T21:02:09.804869",
     "status": "completed"
    },
    "tags": []
   },
   "outputs": [],
   "source": [
    "# SPLIT & STRATIFY DATA\n",
    "# ----------------------"
   ]
  },
  {
   "cell_type": "code",
   "execution_count": 36,
   "id": "76c4dc6d",
   "metadata": {
    "execution": {
     "iopub.execute_input": "2025-07-30T21:02:09.881233Z",
     "iopub.status.busy": "2025-07-30T21:02:09.880522Z",
     "iopub.status.idle": "2025-07-30T21:02:09.885605Z",
     "shell.execute_reply": "2025-07-30T21:02:09.884831Z"
    },
    "papermill": {
     "duration": 0.030146,
     "end_time": "2025-07-30T21:02:09.886789",
     "exception": false,
     "start_time": "2025-07-30T21:02:09.856643",
     "status": "completed"
    },
    "tags": []
   },
   "outputs": [],
   "source": [
    "# EXCLUDE CERTAIN SUBGROUPS\n",
    "# ----------------------\n",
    "\n",
    "mode = universe.get(\"exclude_subgroups\", \"keep-all\") \n",
    "# Fetches the exclude_subgroups setting from the universe dict.\n",
    "# Defaults to \"keep-all\" if the key is missing."
   ]
  },
  {
   "cell_type": "code",
   "execution_count": 37,
   "id": "21994072",
   "metadata": {
    "execution": {
     "iopub.execute_input": "2025-07-30T21:02:09.918772Z",
     "iopub.status.busy": "2025-07-30T21:02:09.918010Z",
     "iopub.status.idle": "2025-07-30T21:02:09.924569Z",
     "shell.execute_reply": "2025-07-30T21:02:09.923623Z"
    },
    "papermill": {
     "duration": 0.027226,
     "end_time": "2025-07-30T21:02:09.926178",
     "exception": false,
     "start_time": "2025-07-30T21:02:09.898952",
     "status": "completed"
    },
    "tags": []
   },
   "outputs": [],
   "source": [
    "if mode == \"keep-all\":\n",
    "    keep_mask = pd.Series(True, index=org_train.index)\n",
    "\n",
    "# org_train contains the original feature columns from features_org (in Simson)\n",
    "# features_org contains unprocessed features, for me X_train at beginning ???\n",
    "# For keep-all, creates a boolean Series (keep_mask) of all True, so no rows are removed.\n",
    "\n",
    "elif mode == \"drop-non-german\":\n",
    "    keep_mask = org_train[\"maxdeutsch1\"] == 1 # ??? what about missing values?\n",
    "\n",
    "else:\n",
    "    raise ValueError(f\"Unsupported mode for exclude_subgroups: {mode}\")\n"
   ]
  },
  {
   "cell_type": "code",
   "execution_count": 38,
   "id": "71651440",
   "metadata": {
    "execution": {
     "iopub.execute_input": "2025-07-30T21:02:09.972944Z",
     "iopub.status.busy": "2025-07-30T21:02:09.972296Z",
     "iopub.status.idle": "2025-07-30T21:02:09.980574Z",
     "shell.execute_reply": "2025-07-30T21:02:09.979619Z"
    },
    "papermill": {
     "duration": 0.033172,
     "end_time": "2025-07-30T21:02:09.982216",
     "exception": false,
     "start_time": "2025-07-30T21:02:09.949044",
     "status": "completed"
    },
    "tags": []
   },
   "outputs": [
    {
     "name": "stdout",
     "output_type": "stream",
     "text": [
      "Dropping 665 rows (13.30%) where mode='drop-non-german'\n"
     ]
    }
   ],
   "source": [
    "n_drop = (~keep_mask).sum() # Calculates how many rows are set to be dropped\n",
    "if n_drop > 0:\n",
    "    pct = n_drop / len(keep_mask) * 100\n",
    "    print(f\"Dropping {n_drop} rows ({pct:.2f}%) where mode='{mode}'\")"
   ]
  },
  {
   "cell_type": "code",
   "execution_count": 39,
   "id": "5fb8eee5",
   "metadata": {
    "execution": {
     "iopub.execute_input": "2025-07-30T21:02:10.017923Z",
     "iopub.status.busy": "2025-07-30T21:02:10.017523Z",
     "iopub.status.idle": "2025-07-30T21:02:10.024610Z",
     "shell.execute_reply": "2025-07-30T21:02:10.023562Z"
    },
    "papermill": {
     "duration": 0.02217,
     "end_time": "2025-07-30T21:02:10.026439",
     "exception": false,
     "start_time": "2025-07-30T21:02:10.004269",
     "status": "completed"
    },
    "tags": []
   },
   "outputs": [],
   "source": [
    "X_train = X_train[keep_mask]"
   ]
  },
  {
   "cell_type": "code",
   "execution_count": 40,
   "id": "b202bb3a",
   "metadata": {
    "execution": {
     "iopub.execute_input": "2025-07-30T21:02:10.076386Z",
     "iopub.status.busy": "2025-07-30T21:02:10.075873Z",
     "iopub.status.idle": "2025-07-30T21:02:10.081928Z",
     "shell.execute_reply": "2025-07-30T21:02:10.081018Z"
    },
    "papermill": {
     "duration": 0.032651,
     "end_time": "2025-07-30T21:02:10.083748",
     "exception": false,
     "start_time": "2025-07-30T21:02:10.051097",
     "status": "completed"
    },
    "tags": []
   },
   "outputs": [],
   "source": [
    "y_train = y_train[keep_mask]"
   ]
  },
  {
   "cell_type": "markdown",
   "id": "493e2ac3",
   "metadata": {
    "papermill": {
     "duration": 0.024138,
     "end_time": "2025-07-30T21:02:10.131773",
     "exception": false,
     "start_time": "2025-07-30T21:02:10.107635",
     "status": "completed"
    },
    "tags": []
   },
   "source": [
    "# Model Training"
   ]
  },
  {
   "cell_type": "code",
   "execution_count": 41,
   "id": "679e1268",
   "metadata": {
    "execution": {
     "iopub.execute_input": "2025-07-30T21:02:10.181053Z",
     "iopub.status.busy": "2025-07-30T21:02:10.180402Z",
     "iopub.status.idle": "2025-07-30T21:02:10.288145Z",
     "shell.execute_reply": "2025-07-30T21:02:10.287184Z"
    },
    "papermill": {
     "duration": 0.134105,
     "end_time": "2025-07-30T21:02:10.289679",
     "exception": false,
     "start_time": "2025-07-30T21:02:10.155574",
     "status": "completed"
    },
    "tags": []
   },
   "outputs": [],
   "source": [
    "from sklearn.linear_model import LogisticRegression\n",
    "from sklearn.ensemble import GradientBoostingClassifier, RandomForestClassifier\n",
    "\n",
    "if (universe[\"model\"] == \"logreg\"):\n",
    "    model = LogisticRegression() #penalty=\"none\") #, solver=\"newton-cg\", max_iter=1) # include random_state=19 ?\n",
    "elif (universe[\"model\"] == \"penalized_logreg\"):\n",
    "    model = LogisticRegression(penalty=\"l2\", C=1.0) #, solver=\"newton-cg\", max_iter=1)\n",
    "elif (universe[\"model\"] == \"rf\"):\n",
    "    model = RandomForestClassifier(n_estimators=100, n_jobs=-1)\n",
    "elif (universe[\"model\"] == \"gbm\"):\n",
    "    model = GradientBoostingClassifier()\n",
    "elif (universe[\"model\"] == \"elasticnet\"):\n",
    "    model = LogisticRegression(penalty = 'elasticnet', solver = 'saga', l1_ratio = 0.5, max_iter=5000) # which solver to use?\n",
    "else:\n",
    "    raise \"Unsupported universe.model\""
   ]
  },
  {
   "cell_type": "code",
   "execution_count": 42,
   "id": "0cc8f744",
   "metadata": {
    "execution": {
     "iopub.execute_input": "2025-07-30T21:02:10.334919Z",
     "iopub.status.busy": "2025-07-30T21:02:10.334434Z",
     "iopub.status.idle": "2025-07-30T21:02:10.340983Z",
     "shell.execute_reply": "2025-07-30T21:02:10.339926Z"
    },
    "papermill": {
     "duration": 0.031918,
     "end_time": "2025-07-30T21:02:10.342672",
     "exception": false,
     "start_time": "2025-07-30T21:02:10.310754",
     "status": "completed"
    },
    "tags": []
   },
   "outputs": [],
   "source": [
    "import numpy as np\n",
    "from sklearn.pipeline import Pipeline\n",
    "from sklearn.preprocessing import StandardScaler\n",
    "\n",
    "model = Pipeline([\n",
    "    #(\"continuous_processor\", continuous_processor),\n",
    "    #(\"categorical_preprocessor\", categorical_preprocessor),\n",
    "    (\"scale\", StandardScaler() if universe[\"scale\"] == \"scale\" else None), \n",
    "    (\"model\", model),\n",
    "])"
   ]
  },
  {
   "cell_type": "code",
   "execution_count": 43,
   "id": "9442c04d",
   "metadata": {
    "execution": {
     "iopub.execute_input": "2025-07-30T21:02:10.391576Z",
     "iopub.status.busy": "2025-07-30T21:02:10.390797Z",
     "iopub.status.idle": "2025-07-30T21:02:20.745572Z",
     "shell.execute_reply": "2025-07-30T21:02:20.744828Z"
    },
    "papermill": {
     "duration": 10.380119,
     "end_time": "2025-07-30T21:02:20.747213",
     "exception": false,
     "start_time": "2025-07-30T21:02:10.367094",
     "status": "completed"
    },
    "tags": []
   },
   "outputs": [
    {
     "data": {
      "text/html": [
       "<style>#sk-container-id-1 {color: black;background-color: white;}#sk-container-id-1 pre{padding: 0;}#sk-container-id-1 div.sk-toggleable {background-color: white;}#sk-container-id-1 label.sk-toggleable__label {cursor: pointer;display: block;width: 100%;margin-bottom: 0;padding: 0.3em;box-sizing: border-box;text-align: center;}#sk-container-id-1 label.sk-toggleable__label-arrow:before {content: \"▸\";float: left;margin-right: 0.25em;color: #696969;}#sk-container-id-1 label.sk-toggleable__label-arrow:hover:before {color: black;}#sk-container-id-1 div.sk-estimator:hover label.sk-toggleable__label-arrow:before {color: black;}#sk-container-id-1 div.sk-toggleable__content {max-height: 0;max-width: 0;overflow: hidden;text-align: left;background-color: #f0f8ff;}#sk-container-id-1 div.sk-toggleable__content pre {margin: 0.2em;color: black;border-radius: 0.25em;background-color: #f0f8ff;}#sk-container-id-1 input.sk-toggleable__control:checked~div.sk-toggleable__content {max-height: 200px;max-width: 100%;overflow: auto;}#sk-container-id-1 input.sk-toggleable__control:checked~label.sk-toggleable__label-arrow:before {content: \"▾\";}#sk-container-id-1 div.sk-estimator input.sk-toggleable__control:checked~label.sk-toggleable__label {background-color: #d4ebff;}#sk-container-id-1 div.sk-label input.sk-toggleable__control:checked~label.sk-toggleable__label {background-color: #d4ebff;}#sk-container-id-1 input.sk-hidden--visually {border: 0;clip: rect(1px 1px 1px 1px);clip: rect(1px, 1px, 1px, 1px);height: 1px;margin: -1px;overflow: hidden;padding: 0;position: absolute;width: 1px;}#sk-container-id-1 div.sk-estimator {font-family: monospace;background-color: #f0f8ff;border: 1px dotted black;border-radius: 0.25em;box-sizing: border-box;margin-bottom: 0.5em;}#sk-container-id-1 div.sk-estimator:hover {background-color: #d4ebff;}#sk-container-id-1 div.sk-parallel-item::after {content: \"\";width: 100%;border-bottom: 1px solid gray;flex-grow: 1;}#sk-container-id-1 div.sk-label:hover label.sk-toggleable__label {background-color: #d4ebff;}#sk-container-id-1 div.sk-serial::before {content: \"\";position: absolute;border-left: 1px solid gray;box-sizing: border-box;top: 0;bottom: 0;left: 50%;z-index: 0;}#sk-container-id-1 div.sk-serial {display: flex;flex-direction: column;align-items: center;background-color: white;padding-right: 0.2em;padding-left: 0.2em;position: relative;}#sk-container-id-1 div.sk-item {position: relative;z-index: 1;}#sk-container-id-1 div.sk-parallel {display: flex;align-items: stretch;justify-content: center;background-color: white;position: relative;}#sk-container-id-1 div.sk-item::before, #sk-container-id-1 div.sk-parallel-item::before {content: \"\";position: absolute;border-left: 1px solid gray;box-sizing: border-box;top: 0;bottom: 0;left: 50%;z-index: -1;}#sk-container-id-1 div.sk-parallel-item {display: flex;flex-direction: column;z-index: 1;position: relative;background-color: white;}#sk-container-id-1 div.sk-parallel-item:first-child::after {align-self: flex-end;width: 50%;}#sk-container-id-1 div.sk-parallel-item:last-child::after {align-self: flex-start;width: 50%;}#sk-container-id-1 div.sk-parallel-item:only-child::after {width: 0;}#sk-container-id-1 div.sk-dashed-wrapped {border: 1px dashed gray;margin: 0 0.4em 0.5em 0.4em;box-sizing: border-box;padding-bottom: 0.4em;background-color: white;}#sk-container-id-1 div.sk-label label {font-family: monospace;font-weight: bold;display: inline-block;line-height: 1.2em;}#sk-container-id-1 div.sk-label-container {text-align: center;}#sk-container-id-1 div.sk-container {/* jupyter's `normalize.less` sets `[hidden] { display: none; }` but bootstrap.min.css set `[hidden] { display: none !important; }` so we also need the `!important` here to be able to override the default hidden behavior on the sphinx rendered scikit-learn.org. See: https://github.com/scikit-learn/scikit-learn/issues/21755 */display: inline-block !important;position: relative;}#sk-container-id-1 div.sk-text-repr-fallback {display: none;}</style><div id=\"sk-container-id-1\" class=\"sk-top-container\"><div class=\"sk-text-repr-fallback\"><pre>Pipeline(steps=[(&#x27;scale&#x27;, StandardScaler()),\n",
       "                (&#x27;model&#x27;,\n",
       "                 LogisticRegression(l1_ratio=0.5, max_iter=5000,\n",
       "                                    penalty=&#x27;elasticnet&#x27;, solver=&#x27;saga&#x27;))])</pre><b>In a Jupyter environment, please rerun this cell to show the HTML representation or trust the notebook. <br />On GitHub, the HTML representation is unable to render, please try loading this page with nbviewer.org.</b></div><div class=\"sk-container\" hidden><div class=\"sk-item sk-dashed-wrapped\"><div class=\"sk-label-container\"><div class=\"sk-label sk-toggleable\"><input class=\"sk-toggleable__control sk-hidden--visually\" id=\"sk-estimator-id-1\" type=\"checkbox\" ><label for=\"sk-estimator-id-1\" class=\"sk-toggleable__label sk-toggleable__label-arrow\">Pipeline</label><div class=\"sk-toggleable__content\"><pre>Pipeline(steps=[(&#x27;scale&#x27;, StandardScaler()),\n",
       "                (&#x27;model&#x27;,\n",
       "                 LogisticRegression(l1_ratio=0.5, max_iter=5000,\n",
       "                                    penalty=&#x27;elasticnet&#x27;, solver=&#x27;saga&#x27;))])</pre></div></div></div><div class=\"sk-serial\"><div class=\"sk-item\"><div class=\"sk-estimator sk-toggleable\"><input class=\"sk-toggleable__control sk-hidden--visually\" id=\"sk-estimator-id-2\" type=\"checkbox\" ><label for=\"sk-estimator-id-2\" class=\"sk-toggleable__label sk-toggleable__label-arrow\">StandardScaler</label><div class=\"sk-toggleable__content\"><pre>StandardScaler()</pre></div></div></div><div class=\"sk-item\"><div class=\"sk-estimator sk-toggleable\"><input class=\"sk-toggleable__control sk-hidden--visually\" id=\"sk-estimator-id-3\" type=\"checkbox\" ><label for=\"sk-estimator-id-3\" class=\"sk-toggleable__label sk-toggleable__label-arrow\">LogisticRegression</label><div class=\"sk-toggleable__content\"><pre>LogisticRegression(l1_ratio=0.5, max_iter=5000, penalty=&#x27;elasticnet&#x27;,\n",
       "                   solver=&#x27;saga&#x27;)</pre></div></div></div></div></div></div></div>"
      ],
      "text/plain": [
       "Pipeline(steps=[('scale', StandardScaler()),\n",
       "                ('model',\n",
       "                 LogisticRegression(l1_ratio=0.5, max_iter=5000,\n",
       "                                    penalty='elasticnet', solver='saga'))])"
      ]
     },
     "execution_count": 43,
     "metadata": {},
     "output_type": "execute_result"
    }
   ],
   "source": [
    "model.fit(X_train, y_train.values.ravel())"
   ]
  },
  {
   "cell_type": "code",
   "execution_count": 44,
   "id": "af59f8c0",
   "metadata": {
    "execution": {
     "iopub.execute_input": "2025-07-30T21:02:20.797825Z",
     "iopub.status.busy": "2025-07-30T21:02:20.797316Z",
     "iopub.status.idle": "2025-07-30T21:02:20.803525Z",
     "shell.execute_reply": "2025-07-30T21:02:20.802511Z"
    },
    "papermill": {
     "duration": 0.0324,
     "end_time": "2025-07-30T21:02:20.805657",
     "exception": false,
     "start_time": "2025-07-30T21:02:20.773257",
     "status": "completed"
    },
    "tags": []
   },
   "outputs": [],
   "source": [
    "from fairness_multiverse.universe import predict_w_threshold"
   ]
  },
  {
   "cell_type": "code",
   "execution_count": 45,
   "id": "a7cf2e16",
   "metadata": {
    "execution": {
     "iopub.execute_input": "2025-07-30T21:02:20.855820Z",
     "iopub.status.busy": "2025-07-30T21:02:20.855332Z",
     "iopub.status.idle": "2025-07-30T21:02:21.059900Z",
     "shell.execute_reply": "2025-07-30T21:02:21.058970Z"
    },
    "papermill": {
     "duration": 0.231393,
     "end_time": "2025-07-30T21:02:21.061672",
     "exception": false,
     "start_time": "2025-07-30T21:02:20.830279",
     "status": "completed"
    },
    "tags": []
   },
   "outputs": [
    {
     "data": {
      "text/plain": [
       "0.8578976702708728"
      ]
     },
     "execution_count": 45,
     "metadata": {},
     "output_type": "execute_result"
    }
   ],
   "source": [
    "probs_test = model.predict_proba(X_test)\n",
    "\n",
    "'''\n",
    "Below code returns a boolean array (or binary 0/1 array depending on how it’s used) where each element \n",
    "is True if the probability of class 1 is greater than or equal to the threshold, and False otherwise.\n",
    "'''\n",
    "y_pred_default = predict_w_threshold(probs_test, 0.5)\n",
    "\n",
    "from sklearn.metrics import accuracy_score\n",
    "\n",
    "# Naive prediction\n",
    "accuracy_score(y_true = y_true, y_pred = y_pred_default)"
   ]
  },
  {
   "cell_type": "code",
   "execution_count": 46,
   "id": "081964c3",
   "metadata": {
    "execution": {
     "iopub.execute_input": "2025-07-30T21:02:21.114423Z",
     "iopub.status.busy": "2025-07-30T21:02:21.113555Z",
     "iopub.status.idle": "2025-07-30T21:02:21.301044Z",
     "shell.execute_reply": "2025-07-30T21:02:21.299914Z"
    },
    "papermill": {
     "duration": 0.216258,
     "end_time": "2025-07-30T21:02:21.302639",
     "exception": false,
     "start_time": "2025-07-30T21:02:21.086381",
     "status": "completed"
    },
    "tags": []
   },
   "outputs": [
    {
     "data": {
      "text/plain": [
       "array([0, 0, 0, ..., 0, 0, 0])"
      ]
     },
     "execution_count": 46,
     "metadata": {},
     "output_type": "execute_result"
    }
   ],
   "source": [
    "model.predict(X_test)"
   ]
  },
  {
   "cell_type": "markdown",
   "id": "56c9705b",
   "metadata": {
    "papermill": {
     "duration": 0.026365,
     "end_time": "2025-07-30T21:02:21.354276",
     "exception": false,
     "start_time": "2025-07-30T21:02:21.327911",
     "status": "completed"
    },
    "tags": []
   },
   "source": [
    "# Conformal Prediction"
   ]
  },
  {
   "cell_type": "code",
   "execution_count": 47,
   "id": "160ec6ff",
   "metadata": {
    "execution": {
     "iopub.execute_input": "2025-07-30T21:02:21.406603Z",
     "iopub.status.busy": "2025-07-30T21:02:21.406110Z",
     "iopub.status.idle": "2025-07-30T21:02:21.411536Z",
     "shell.execute_reply": "2025-07-30T21:02:21.410667Z"
    },
    "papermill": {
     "duration": 0.034873,
     "end_time": "2025-07-30T21:02:21.413442",
     "exception": false,
     "start_time": "2025-07-30T21:02:21.378569",
     "status": "completed"
    },
    "tags": []
   },
   "outputs": [],
   "source": [
    "# Miscoverage level for conformal prediction (10% allowed error rate => 90% target coverage)\n",
    "alpha = 0.1"
   ]
  },
  {
   "cell_type": "code",
   "execution_count": 48,
   "id": "eadf4555-3dd3-440e-8e35-f82a4ad9f855",
   "metadata": {
    "execution": {
     "iopub.execute_input": "2025-07-30T21:02:21.464887Z",
     "iopub.status.busy": "2025-07-30T21:02:21.464422Z",
     "iopub.status.idle": "2025-07-30T21:02:21.640581Z",
     "shell.execute_reply": "2025-07-30T21:02:21.639463Z"
    },
    "papermill": {
     "duration": 0.204445,
     "end_time": "2025-07-30T21:02:21.642854",
     "exception": false,
     "start_time": "2025-07-30T21:02:21.438409",
     "status": "completed"
    },
    "tags": []
   },
   "outputs": [],
   "source": [
    "probs_calib = model.predict_proba(X_calib)"
   ]
  },
  {
   "cell_type": "code",
   "execution_count": 49,
   "id": "2ed93547-6d5d-4983-9b36-1ecb300da49a",
   "metadata": {
    "execution": {
     "iopub.execute_input": "2025-07-30T21:02:21.706558Z",
     "iopub.status.busy": "2025-07-30T21:02:21.705589Z",
     "iopub.status.idle": "2025-07-30T21:02:21.712138Z",
     "shell.execute_reply": "2025-07-30T21:02:21.710988Z"
    },
    "papermill": {
     "duration": 0.034821,
     "end_time": "2025-07-30T21:02:21.713985",
     "exception": false,
     "start_time": "2025-07-30T21:02:21.679164",
     "status": "completed"
    },
    "tags": []
   },
   "outputs": [],
   "source": [
    "y_calib = y_calib.values.ravel().astype(int)"
   ]
  },
  {
   "cell_type": "code",
   "execution_count": 50,
   "id": "65d1320d-f588-4b38-9072-62af1ae97f7d",
   "metadata": {
    "execution": {
     "iopub.execute_input": "2025-07-30T21:02:21.767047Z",
     "iopub.status.busy": "2025-07-30T21:02:21.766273Z",
     "iopub.status.idle": "2025-07-30T21:02:21.773880Z",
     "shell.execute_reply": "2025-07-30T21:02:21.772949Z"
    },
    "papermill": {
     "duration": 0.034845,
     "end_time": "2025-07-30T21:02:21.775538",
     "exception": false,
     "start_time": "2025-07-30T21:02:21.740693",
     "status": "completed"
    },
    "tags": []
   },
   "outputs": [],
   "source": [
    "from fairness_multiverse.conformal import compute_nc_scores\n",
    "\n",
    "# Compute nonconformity scores on calibration set (1 - probability of true class)\n",
    "nc_scores = compute_nc_scores(probs_calib, y_calib)"
   ]
  },
  {
   "cell_type": "code",
   "execution_count": 51,
   "id": "df3b8ca3-53b7-43d5-9667-7c85da7aeda2",
   "metadata": {
    "execution": {
     "iopub.execute_input": "2025-07-30T21:02:21.823794Z",
     "iopub.status.busy": "2025-07-30T21:02:21.823013Z",
     "iopub.status.idle": "2025-07-30T21:02:21.833783Z",
     "shell.execute_reply": "2025-07-30T21:02:21.832511Z"
    },
    "papermill": {
     "duration": 0.039203,
     "end_time": "2025-07-30T21:02:21.835746",
     "exception": false,
     "start_time": "2025-07-30T21:02:21.796543",
     "status": "completed"
    },
    "tags": []
   },
   "outputs": [],
   "source": [
    "from fairness_multiverse.conformal import find_threshold\n",
    "\n",
    "# Find conformal threshold q_hat for the given alpha (split conformal method)\n",
    "q_hat = find_threshold(nc_scores, alpha)"
   ]
  },
  {
   "cell_type": "code",
   "execution_count": 52,
   "id": "4d29e6c1-0ef6-4aa4-b8fe-4fe79b0d033a",
   "metadata": {
    "execution": {
     "iopub.execute_input": "2025-07-30T21:02:21.889600Z",
     "iopub.status.busy": "2025-07-30T21:02:21.889014Z",
     "iopub.status.idle": "2025-07-30T21:02:21.894759Z",
     "shell.execute_reply": "2025-07-30T21:02:21.894062Z"
    },
    "papermill": {
     "duration": 0.033928,
     "end_time": "2025-07-30T21:02:21.895889",
     "exception": false,
     "start_time": "2025-07-30T21:02:21.861961",
     "status": "completed"
    },
    "tags": []
   },
   "outputs": [
    {
     "data": {
      "text/plain": [
       "0.690902555960301"
      ]
     },
     "execution_count": 52,
     "metadata": {},
     "output_type": "execute_result"
    }
   ],
   "source": [
    "q_hat"
   ]
  },
  {
   "cell_type": "code",
   "execution_count": 53,
   "id": "92460794-cdac-4be2-ba28-f28c0515a6fb",
   "metadata": {
    "execution": {
     "iopub.execute_input": "2025-07-30T21:02:21.934864Z",
     "iopub.status.busy": "2025-07-30T21:02:21.934447Z",
     "iopub.status.idle": "2025-07-30T21:02:22.779712Z",
     "shell.execute_reply": "2025-07-30T21:02:22.778844Z"
    },
    "papermill": {
     "duration": 0.872762,
     "end_time": "2025-07-30T21:02:22.781453",
     "exception": false,
     "start_time": "2025-07-30T21:02:21.908691",
     "status": "completed"
    },
    "tags": []
   },
   "outputs": [],
   "source": [
    "from fairness_multiverse.conformal import predict_conformal_sets\n",
    "\n",
    "# Generate prediction sets for each test example\n",
    "pred_sets = predict_conformal_sets(model, X_test, q_hat)"
   ]
  },
  {
   "cell_type": "code",
   "execution_count": 54,
   "id": "d90c9a65-e6db-4f5d-80cd-e68fb7e46829",
   "metadata": {
    "execution": {
     "iopub.execute_input": "2025-07-30T21:02:22.834159Z",
     "iopub.status.busy": "2025-07-30T21:02:22.833558Z",
     "iopub.status.idle": "2025-07-30T21:02:22.838895Z",
     "shell.execute_reply": "2025-07-30T21:02:22.837968Z"
    },
    "papermill": {
     "duration": 0.035978,
     "end_time": "2025-07-30T21:02:22.840556",
     "exception": false,
     "start_time": "2025-07-30T21:02:22.804578",
     "status": "completed"
    },
    "tags": []
   },
   "outputs": [],
   "source": [
    "y_true = y_true.squeeze()"
   ]
  },
  {
   "cell_type": "code",
   "execution_count": 55,
   "id": "3a58a54a-1e68-46b9-927a-df01f18aebc8",
   "metadata": {
    "execution": {
     "iopub.execute_input": "2025-07-30T21:02:22.888442Z",
     "iopub.status.busy": "2025-07-30T21:02:22.887860Z",
     "iopub.status.idle": "2025-07-30T21:02:23.774963Z",
     "shell.execute_reply": "2025-07-30T21:02:23.773778Z"
    },
    "papermill": {
     "duration": 0.913131,
     "end_time": "2025-07-30T21:02:23.777090",
     "exception": false,
     "start_time": "2025-07-30T21:02:22.863959",
     "status": "completed"
    },
    "tags": []
   },
   "outputs": [],
   "source": [
    "from fairness_multiverse.conformal import evaluate_sets\n",
    "\n",
    "# Evaluate coverage and average set size on test data\n",
    "metrics = evaluate_sets(pred_sets, y_true)"
   ]
  },
  {
   "cell_type": "markdown",
   "id": "2b569c12-9aaa-4c88-98c9-bbcd0cf3ebb8",
   "metadata": {
    "papermill": {
     "duration": 0.023739,
     "end_time": "2025-07-30T21:02:23.829391",
     "exception": false,
     "start_time": "2025-07-30T21:02:23.805652",
     "status": "completed"
    },
    "tags": []
   },
   "source": [
    "# CP Metrics"
   ]
  },
  {
   "cell_type": "code",
   "execution_count": 56,
   "id": "5ce0a5cb-201f-45a0-ade5-94c7f0bd6095",
   "metadata": {
    "execution": {
     "iopub.execute_input": "2025-07-30T21:02:23.877843Z",
     "iopub.status.busy": "2025-07-30T21:02:23.877386Z",
     "iopub.status.idle": "2025-07-30T21:02:23.885029Z",
     "shell.execute_reply": "2025-07-30T21:02:23.884060Z"
    },
    "papermill": {
     "duration": 0.033889,
     "end_time": "2025-07-30T21:02:23.886507",
     "exception": false,
     "start_time": "2025-07-30T21:02:23.852618",
     "status": "completed"
    },
    "tags": []
   },
   "outputs": [
    {
     "data": {
      "text/plain": [
       "{'coverage': 0.9106565600267529, 'avg_size': 1.13455579088173}"
      ]
     },
     "execution_count": 56,
     "metadata": {},
     "output_type": "execute_result"
    }
   ],
   "source": [
    "metrics"
   ]
  },
  {
   "cell_type": "code",
   "execution_count": 57,
   "id": "9b9a838d-31c9-430b-ae14-12baee460d17",
   "metadata": {
    "execution": {
     "iopub.execute_input": "2025-07-30T21:02:23.942687Z",
     "iopub.status.busy": "2025-07-30T21:02:23.941551Z",
     "iopub.status.idle": "2025-07-30T21:02:23.948763Z",
     "shell.execute_reply": "2025-07-30T21:02:23.947526Z"
    },
    "papermill": {
     "duration": 0.038173,
     "end_time": "2025-07-30T21:02:23.950852",
     "exception": false,
     "start_time": "2025-07-30T21:02:23.912679",
     "status": "completed"
    },
    "tags": []
   },
   "outputs": [],
   "source": [
    "example_universe = universe.copy()\n",
    "universe_training_year = example_universe.get(\"training_year\")\n",
    "universe_training_size = example_universe.get(\"training_size\")\n",
    "universe_scale = example_universe.get(\"scale\")\n",
    "universe_model = example_universe.get(\"model\")\n",
    "universe_exclude_features = example_universe.get(\"exclude_features\")\n",
    "universe_exclude_subgroups = example_universe.get(\"exclude_subgroups\")"
   ]
  },
  {
   "cell_type": "code",
   "execution_count": 58,
   "id": "f4b6a8ac-9dc0-4245-8a91-5b3b5999c4f9",
   "metadata": {
    "execution": {
     "iopub.execute_input": "2025-07-30T21:02:24.015640Z",
     "iopub.status.busy": "2025-07-30T21:02:24.014956Z",
     "iopub.status.idle": "2025-07-30T21:02:24.021494Z",
     "shell.execute_reply": "2025-07-30T21:02:24.020605Z"
    },
    "papermill": {
     "duration": 0.03908,
     "end_time": "2025-07-30T21:02:24.023119",
     "exception": false,
     "start_time": "2025-07-30T21:02:23.984039",
     "status": "completed"
    },
    "tags": []
   },
   "outputs": [],
   "source": [
    "cp_metrics_dict = {\n",
    "    \"universe_id\": [universe_id],\n",
    "    \"universe_training_year\": [universe_training_year],\n",
    "    \"universe_training_size\": [universe_training_size],\n",
    "    \"universe_scale\": [universe_scale],\n",
    "    \"universe_model\": [universe_model],\n",
    "    \"universe_exclude_features\": [universe_exclude_features],\n",
    "    \"universe_exclude_subgroups\": [universe_exclude_subgroups],\n",
    "    \"q_hat\": [q_hat],\n",
    "    \"coverage\": [metrics[\"coverage\"]],\n",
    "    \"avg_size\": [metrics[\"avg_size\"]],\n",
    "}"
   ]
  },
  {
   "cell_type": "code",
   "execution_count": 59,
   "id": "908acbb1-0371-4915-85ca-3fa520d2efe2",
   "metadata": {
    "execution": {
     "iopub.execute_input": "2025-07-30T21:02:24.071903Z",
     "iopub.status.busy": "2025-07-30T21:02:24.071420Z",
     "iopub.status.idle": "2025-07-30T21:02:24.079114Z",
     "shell.execute_reply": "2025-07-30T21:02:24.078128Z"
    },
    "papermill": {
     "duration": 0.034141,
     "end_time": "2025-07-30T21:02:24.081117",
     "exception": false,
     "start_time": "2025-07-30T21:02:24.046976",
     "status": "completed"
    },
    "tags": []
   },
   "outputs": [
    {
     "data": {
      "text/plain": [
       "{'universe_id': ['d3fd1038645adbb667b758f13f91b89e'],\n",
       " 'universe_training_year': ['2012_14'],\n",
       " 'universe_training_size': ['5k'],\n",
       " 'universe_scale': ['scale'],\n",
       " 'universe_model': ['elasticnet'],\n",
       " 'universe_exclude_features': ['sex'],\n",
       " 'universe_exclude_subgroups': ['drop-non-german'],\n",
       " 'q_hat': [0.690902555960301],\n",
       " 'coverage': [0.9106565600267529],\n",
       " 'avg_size': [1.13455579088173]}"
      ]
     },
     "execution_count": 59,
     "metadata": {},
     "output_type": "execute_result"
    }
   ],
   "source": [
    "cp_metrics_dict"
   ]
  },
  {
   "cell_type": "code",
   "execution_count": 60,
   "id": "33007efc-14e9-4ec6-97ac-56a455c82265",
   "metadata": {
    "execution": {
     "iopub.execute_input": "2025-07-30T21:02:24.132080Z",
     "iopub.status.busy": "2025-07-30T21:02:24.131486Z",
     "iopub.status.idle": "2025-07-30T21:02:24.138082Z",
     "shell.execute_reply": "2025-07-30T21:02:24.137128Z"
    },
    "papermill": {
     "duration": 0.034129,
     "end_time": "2025-07-30T21:02:24.139752",
     "exception": false,
     "start_time": "2025-07-30T21:02:24.105623",
     "status": "completed"
    },
    "tags": []
   },
   "outputs": [],
   "source": [
    "cp_metrics_df = pd.DataFrame(cp_metrics_dict)"
   ]
  },
  {
   "cell_type": "code",
   "execution_count": 61,
   "id": "db12611b-57b2-4910-b9d0-355adfd6e7bf",
   "metadata": {
    "execution": {
     "iopub.execute_input": "2025-07-30T21:02:24.197373Z",
     "iopub.status.busy": "2025-07-30T21:02:24.196827Z",
     "iopub.status.idle": "2025-07-30T21:02:24.216021Z",
     "shell.execute_reply": "2025-07-30T21:02:24.214941Z"
    },
    "papermill": {
     "duration": 0.053596,
     "end_time": "2025-07-30T21:02:24.217693",
     "exception": false,
     "start_time": "2025-07-30T21:02:24.164097",
     "status": "completed"
    },
    "tags": []
   },
   "outputs": [
    {
     "data": {
      "text/html": [
       "<div>\n",
       "<style scoped>\n",
       "    .dataframe tbody tr th:only-of-type {\n",
       "        vertical-align: middle;\n",
       "    }\n",
       "\n",
       "    .dataframe tbody tr th {\n",
       "        vertical-align: top;\n",
       "    }\n",
       "\n",
       "    .dataframe thead th {\n",
       "        text-align: right;\n",
       "    }\n",
       "</style>\n",
       "<table border=\"1\" class=\"dataframe\">\n",
       "  <thead>\n",
       "    <tr style=\"text-align: right;\">\n",
       "      <th></th>\n",
       "      <th>universe_id</th>\n",
       "      <th>universe_training_year</th>\n",
       "      <th>universe_training_size</th>\n",
       "      <th>universe_scale</th>\n",
       "      <th>universe_model</th>\n",
       "      <th>universe_exclude_features</th>\n",
       "      <th>universe_exclude_subgroups</th>\n",
       "      <th>q_hat</th>\n",
       "      <th>coverage</th>\n",
       "      <th>avg_size</th>\n",
       "    </tr>\n",
       "  </thead>\n",
       "  <tbody>\n",
       "    <tr>\n",
       "      <th>0</th>\n",
       "      <td>d3fd1038645adbb667b758f13f91b89e</td>\n",
       "      <td>2012_14</td>\n",
       "      <td>5k</td>\n",
       "      <td>scale</td>\n",
       "      <td>elasticnet</td>\n",
       "      <td>sex</td>\n",
       "      <td>drop-non-german</td>\n",
       "      <td>0.690903</td>\n",
       "      <td>0.910657</td>\n",
       "      <td>1.134556</td>\n",
       "    </tr>\n",
       "  </tbody>\n",
       "</table>\n",
       "</div>"
      ],
      "text/plain": [
       "                        universe_id universe_training_year  \\\n",
       "0  d3fd1038645adbb667b758f13f91b89e                2012_14   \n",
       "\n",
       "  universe_training_size universe_scale universe_model  \\\n",
       "0                     5k          scale     elasticnet   \n",
       "\n",
       "  universe_exclude_features universe_exclude_subgroups     q_hat  coverage  \\\n",
       "0                       sex            drop-non-german  0.690903  0.910657   \n",
       "\n",
       "   avg_size  \n",
       "0  1.134556  "
      ]
     },
     "execution_count": 61,
     "metadata": {},
     "output_type": "execute_result"
    }
   ],
   "source": [
    "cp_metrics_df"
   ]
  },
  {
   "cell_type": "code",
   "execution_count": 62,
   "id": "b7fbde55-a0a1-47e4-9af6-fe4a17fa8c61",
   "metadata": {
    "execution": {
     "iopub.execute_input": "2025-07-30T21:02:24.268245Z",
     "iopub.status.busy": "2025-07-30T21:02:24.267303Z",
     "iopub.status.idle": "2025-07-30T21:02:24.272623Z",
     "shell.execute_reply": "2025-07-30T21:02:24.271639Z"
    },
    "papermill": {
     "duration": 0.031585,
     "end_time": "2025-07-30T21:02:24.274140",
     "exception": false,
     "start_time": "2025-07-30T21:02:24.242555",
     "status": "completed"
    },
    "tags": []
   },
   "outputs": [],
   "source": [
    "# Conditional Coverage & looking at subgroups"
   ]
  },
  {
   "cell_type": "code",
   "execution_count": 63,
   "id": "027ae886-68dd-4141-96c7-805a5450e1ef",
   "metadata": {
    "execution": {
     "iopub.execute_input": "2025-07-30T21:02:24.323808Z",
     "iopub.status.busy": "2025-07-30T21:02:24.322952Z",
     "iopub.status.idle": "2025-07-30T21:02:24.604940Z",
     "shell.execute_reply": "2025-07-30T21:02:24.604026Z"
    },
    "papermill": {
     "duration": 0.307929,
     "end_time": "2025-07-30T21:02:24.606730",
     "exception": false,
     "start_time": "2025-07-30T21:02:24.298801",
     "status": "completed"
    },
    "tags": []
   },
   "outputs": [],
   "source": [
    "from fairness_multiverse.conformal import build_cp_groups\n",
    "\n",
    "cp_groups_df = build_cp_groups(pred_sets, y_true, X_test.index, org_test)\n",
    "#needs universe_id and setting"
   ]
  },
  {
   "cell_type": "code",
   "execution_count": 64,
   "id": "01d5802c-663a-4d1f-9d69-e036faaffbf7",
   "metadata": {
    "execution": {
     "iopub.execute_input": "2025-07-30T21:02:24.660793Z",
     "iopub.status.busy": "2025-07-30T21:02:24.660236Z",
     "iopub.status.idle": "2025-07-30T21:02:24.665709Z",
     "shell.execute_reply": "2025-07-30T21:02:24.664542Z"
    },
    "papermill": {
     "duration": 0.03516,
     "end_time": "2025-07-30T21:02:24.667655",
     "exception": false,
     "start_time": "2025-07-30T21:02:24.632495",
     "status": "completed"
    },
    "tags": []
   },
   "outputs": [],
   "source": [
    "#delete\n",
    "#cp_groups_df"
   ]
  },
  {
   "cell_type": "code",
   "execution_count": 65,
   "id": "fa424af1-d1eb-443d-b717-2d279ada8408",
   "metadata": {
    "execution": {
     "iopub.execute_input": "2025-07-30T21:02:24.726950Z",
     "iopub.status.busy": "2025-07-30T21:02:24.726499Z",
     "iopub.status.idle": "2025-07-30T21:02:24.731405Z",
     "shell.execute_reply": "2025-07-30T21:02:24.730533Z"
    },
    "papermill": {
     "duration": 0.035828,
     "end_time": "2025-07-30T21:02:24.733139",
     "exception": false,
     "start_time": "2025-07-30T21:02:24.697311",
     "status": "completed"
    },
    "tags": []
   },
   "outputs": [],
   "source": [
    "#delete\n",
    "#percentage = (cp_groups_df['nongerman_female'] == 1).mean() * 100\n",
    "#print(percentage)\n"
   ]
  },
  {
   "cell_type": "code",
   "execution_count": 66,
   "id": "6cbdab96-b2b2-45af-ad54-d0516db2e28d",
   "metadata": {
    "execution": {
     "iopub.execute_input": "2025-07-30T21:02:24.788281Z",
     "iopub.status.busy": "2025-07-30T21:02:24.787675Z",
     "iopub.status.idle": "2025-07-30T21:02:26.431128Z",
     "shell.execute_reply": "2025-07-30T21:02:26.430019Z"
    },
    "papermill": {
     "duration": 1.671898,
     "end_time": "2025-07-30T21:02:26.433574",
     "exception": false,
     "start_time": "2025-07-30T21:02:24.761676",
     "status": "completed"
    },
    "tags": []
   },
   "outputs": [],
   "source": [
    "# Define covered = 1 if true_label is in the predicted set\n",
    "cp_groups_df['covered'] = cp_groups_df.apply(\n",
    "    lambda r: int(r['true_label'] in r['pred_set']),\n",
    "    axis=1\n",
    ")"
   ]
  },
  {
   "cell_type": "code",
   "execution_count": 67,
   "id": "338ff529-1a6b-4b87-a931-8e4788d52aad",
   "metadata": {
    "execution": {
     "iopub.execute_input": "2025-07-30T21:02:26.483865Z",
     "iopub.status.busy": "2025-07-30T21:02:26.483383Z",
     "iopub.status.idle": "2025-07-30T21:02:26.488338Z",
     "shell.execute_reply": "2025-07-30T21:02:26.487385Z"
    },
    "papermill": {
     "duration": 0.031245,
     "end_time": "2025-07-30T21:02:26.489856",
     "exception": false,
     "start_time": "2025-07-30T21:02:26.458611",
     "status": "completed"
    },
    "tags": []
   },
   "outputs": [],
   "source": [
    "#cp_groups_df"
   ]
  },
  {
   "cell_type": "code",
   "execution_count": 68,
   "id": "90032e27-66df-4540-9169-4e89cfbaa758",
   "metadata": {
    "execution": {
     "iopub.execute_input": "2025-07-30T21:02:26.556309Z",
     "iopub.status.busy": "2025-07-30T21:02:26.540495Z",
     "iopub.status.idle": "2025-07-30T21:02:26.566985Z",
     "shell.execute_reply": "2025-07-30T21:02:26.565843Z"
    },
    "papermill": {
     "duration": 0.054646,
     "end_time": "2025-07-30T21:02:26.568874",
     "exception": false,
     "start_time": "2025-07-30T21:02:26.514228",
     "status": "completed"
    },
    "tags": []
   },
   "outputs": [],
   "source": [
    "subgroups = ['frau1','nongerman','nongerman_male','nongerman_female']\n",
    "\n",
    "# Conditional coverage for subgroup==1\n",
    "cond_coverage = {\n",
    "    g: cp_groups_df.loc[cp_groups_df[g]==1, 'covered'].mean()\n",
    "    for g in subgroups\n",
    "}"
   ]
  },
  {
   "cell_type": "code",
   "execution_count": 69,
   "id": "1e348fb1-b9c3-45bc-ba23-f016827a7e0d",
   "metadata": {
    "execution": {
     "iopub.execute_input": "2025-07-30T21:02:26.622539Z",
     "iopub.status.busy": "2025-07-30T21:02:26.622001Z",
     "iopub.status.idle": "2025-07-30T21:02:26.629024Z",
     "shell.execute_reply": "2025-07-30T21:02:26.628158Z"
    },
    "papermill": {
     "duration": 0.035764,
     "end_time": "2025-07-30T21:02:26.630692",
     "exception": false,
     "start_time": "2025-07-30T21:02:26.594928",
     "status": "completed"
    },
    "tags": []
   },
   "outputs": [
    {
     "data": {
      "text/plain": [
       "{'frau1': 0.9068877207170778,\n",
       " 'nongerman': 0.9069780497389547,\n",
       " 'nongerman_male': 0.924885166171305,\n",
       " 'nongerman_female': 0.8773472429210134}"
      ]
     },
     "execution_count": 69,
     "metadata": {},
     "output_type": "execute_result"
    }
   ],
   "source": [
    "cond_coverage"
   ]
  },
  {
   "cell_type": "code",
   "execution_count": 70,
   "id": "f5093324-c3dd-4d63-bc4c-8d945e5c8bbb",
   "metadata": {
    "execution": {
     "iopub.execute_input": "2025-07-30T21:02:26.683442Z",
     "iopub.status.busy": "2025-07-30T21:02:26.682946Z",
     "iopub.status.idle": "2025-07-30T21:02:26.690777Z",
     "shell.execute_reply": "2025-07-30T21:02:26.689735Z"
    },
    "papermill": {
     "duration": 0.035226,
     "end_time": "2025-07-30T21:02:26.692610",
     "exception": false,
     "start_time": "2025-07-30T21:02:26.657384",
     "status": "completed"
    },
    "tags": []
   },
   "outputs": [],
   "source": [
    "for subgroup, cov in cond_coverage.items():\n",
    "    cp_metrics_df[f\"cov_{subgroup}\"] = cov"
   ]
  },
  {
   "cell_type": "code",
   "execution_count": 71,
   "id": "6e872e10-dbe5-49e8-b554-5030c98ff75d",
   "metadata": {
    "execution": {
     "iopub.execute_input": "2025-07-30T21:02:26.746987Z",
     "iopub.status.busy": "2025-07-30T21:02:26.746559Z",
     "iopub.status.idle": "2025-07-30T21:02:26.767200Z",
     "shell.execute_reply": "2025-07-30T21:02:26.766237Z"
    },
    "papermill": {
     "duration": 0.048883,
     "end_time": "2025-07-30T21:02:26.768989",
     "exception": false,
     "start_time": "2025-07-30T21:02:26.720106",
     "status": "completed"
    },
    "tags": []
   },
   "outputs": [
    {
     "data": {
      "text/html": [
       "<div>\n",
       "<style scoped>\n",
       "    .dataframe tbody tr th:only-of-type {\n",
       "        vertical-align: middle;\n",
       "    }\n",
       "\n",
       "    .dataframe tbody tr th {\n",
       "        vertical-align: top;\n",
       "    }\n",
       "\n",
       "    .dataframe thead th {\n",
       "        text-align: right;\n",
       "    }\n",
       "</style>\n",
       "<table border=\"1\" class=\"dataframe\">\n",
       "  <thead>\n",
       "    <tr style=\"text-align: right;\">\n",
       "      <th></th>\n",
       "      <th>universe_id</th>\n",
       "      <th>universe_training_year</th>\n",
       "      <th>universe_training_size</th>\n",
       "      <th>universe_scale</th>\n",
       "      <th>universe_model</th>\n",
       "      <th>universe_exclude_features</th>\n",
       "      <th>universe_exclude_subgroups</th>\n",
       "      <th>q_hat</th>\n",
       "      <th>coverage</th>\n",
       "      <th>avg_size</th>\n",
       "      <th>cov_frau1</th>\n",
       "      <th>cov_nongerman</th>\n",
       "      <th>cov_nongerman_male</th>\n",
       "      <th>cov_nongerman_female</th>\n",
       "    </tr>\n",
       "  </thead>\n",
       "  <tbody>\n",
       "    <tr>\n",
       "      <th>0</th>\n",
       "      <td>d3fd1038645adbb667b758f13f91b89e</td>\n",
       "      <td>2012_14</td>\n",
       "      <td>5k</td>\n",
       "      <td>scale</td>\n",
       "      <td>elasticnet</td>\n",
       "      <td>sex</td>\n",
       "      <td>drop-non-german</td>\n",
       "      <td>0.690903</td>\n",
       "      <td>0.910657</td>\n",
       "      <td>1.134556</td>\n",
       "      <td>0.906888</td>\n",
       "      <td>0.906978</td>\n",
       "      <td>0.924885</td>\n",
       "      <td>0.877347</td>\n",
       "    </tr>\n",
       "  </tbody>\n",
       "</table>\n",
       "</div>"
      ],
      "text/plain": [
       "                        universe_id universe_training_year  \\\n",
       "0  d3fd1038645adbb667b758f13f91b89e                2012_14   \n",
       "\n",
       "  universe_training_size universe_scale universe_model  \\\n",
       "0                     5k          scale     elasticnet   \n",
       "\n",
       "  universe_exclude_features universe_exclude_subgroups     q_hat  coverage  \\\n",
       "0                       sex            drop-non-german  0.690903  0.910657   \n",
       "\n",
       "   avg_size  cov_frau1  cov_nongerman  cov_nongerman_male  \\\n",
       "0  1.134556   0.906888       0.906978            0.924885   \n",
       "\n",
       "   cov_nongerman_female  \n",
       "0              0.877347  "
      ]
     },
     "execution_count": 71,
     "metadata": {},
     "output_type": "execute_result"
    }
   ],
   "source": [
    "cp_metrics_df"
   ]
  },
  {
   "cell_type": "markdown",
   "id": "33774451",
   "metadata": {
    "papermill": {
     "duration": 0.030262,
     "end_time": "2025-07-30T21:02:26.828487",
     "exception": false,
     "start_time": "2025-07-30T21:02:26.798225",
     "status": "completed"
    },
    "tags": []
   },
   "source": [
    "# (Fairness) Metrics"
   ]
  },
  {
   "cell_type": "code",
   "execution_count": 72,
   "id": "debc5d62",
   "metadata": {
    "execution": {
     "iopub.execute_input": "2025-07-30T21:02:26.888073Z",
     "iopub.status.busy": "2025-07-30T21:02:26.887298Z",
     "iopub.status.idle": "2025-07-30T21:02:26.908106Z",
     "shell.execute_reply": "2025-07-30T21:02:26.907234Z"
    },
    "papermill": {
     "duration": 0.052954,
     "end_time": "2025-07-30T21:02:26.909705",
     "exception": false,
     "start_time": "2025-07-30T21:02:26.856751",
     "status": "completed"
    },
    "tags": []
   },
   "outputs": [],
   "source": [
    "# do I need to include maxdeutsch1.missing?\n",
    "\n",
    "import numpy as np\n",
    "\n",
    "colname_to_bin = \"maxdeutsch1\"\n",
    "majority_value = org_train[colname_to_bin].mode()[0]\n",
    "\n",
    "org_test[\"majmin\"] = np.where(org_test[colname_to_bin] == majority_value, \"majority\", \"minority\")"
   ]
  },
  {
   "cell_type": "code",
   "execution_count": 73,
   "id": "06a50de5",
   "metadata": {
    "execution": {
     "iopub.execute_input": "2025-07-30T21:02:26.970122Z",
     "iopub.status.busy": "2025-07-30T21:02:26.969078Z",
     "iopub.status.idle": "2025-07-30T21:02:28.816495Z",
     "shell.execute_reply": "2025-07-30T21:02:28.815205Z"
    },
    "papermill": {
     "duration": 1.879024,
     "end_time": "2025-07-30T21:02:28.818275",
     "exception": false,
     "start_time": "2025-07-30T21:02:26.939251",
     "status": "completed"
    },
    "tags": []
   },
   "outputs": [],
   "source": [
    "example_universe = universe.copy()\n",
    "example_universe[\"cutoff\"] = example_universe[\"cutoff\"][0]\n",
    "example_universe[\"eval_fairness_grouping\"] = example_universe[\"eval_fairness_grouping\"][0]\n",
    "fairness_dict, metric_frame = universe_analysis.compute_metrics(\n",
    "    example_universe,\n",
    "    y_pred_prob=probs_test,\n",
    "    y_test=y_true,\n",
    "    org_test=org_test,\n",
    ")"
   ]
  },
  {
   "cell_type": "markdown",
   "id": "f95d4e02",
   "metadata": {
    "papermill": {
     "duration": 0.025345,
     "end_time": "2025-07-30T21:02:28.871446",
     "exception": false,
     "start_time": "2025-07-30T21:02:28.846101",
     "status": "completed"
    },
    "tags": []
   },
   "source": [
    "# Overall"
   ]
  },
  {
   "cell_type": "markdown",
   "id": "bdee4871",
   "metadata": {
    "papermill": {
     "duration": 0.025203,
     "end_time": "2025-07-30T21:02:28.922861",
     "exception": false,
     "start_time": "2025-07-30T21:02:28.897658",
     "status": "completed"
    },
    "tags": []
   },
   "source": [
    "Fairness\n",
    "Main fairness target: Equalized Odds. Seems to be a better fit than equal opportunity, since we're not only interested in Y = 1. Seems to be a better fit than demographic parity, since we also care about accuracy, not just equal distribution of preds.\n",
    "\n",
    "Pick column for computation of fairness metrics\n",
    "\n",
    "Performance\n",
    "Overall performance measures, most interesting in relation to the measures split by group below"
   ]
  },
  {
   "cell_type": "code",
   "execution_count": 74,
   "id": "c4e067c6",
   "metadata": {
    "execution": {
     "iopub.execute_input": "2025-07-30T21:02:28.974659Z",
     "iopub.status.busy": "2025-07-30T21:02:28.974130Z",
     "iopub.status.idle": "2025-07-30T21:02:28.983621Z",
     "shell.execute_reply": "2025-07-30T21:02:28.982665Z"
    },
    "papermill": {
     "duration": 0.037646,
     "end_time": "2025-07-30T21:02:28.985124",
     "exception": false,
     "start_time": "2025-07-30T21:02:28.947478",
     "status": "completed"
    },
    "tags": []
   },
   "outputs": [
    {
     "data": {
      "text/plain": [
       "accuracy                   0.223799\n",
       "balanced accuracy          0.547340\n",
       "f1                         0.245146\n",
       "precision                  0.140044\n",
       "false positive rate        0.887855\n",
       "false negative rate        0.017466\n",
       "selection rate             0.900000\n",
       "count                  89710.000000\n",
       "dtype: float64"
      ]
     },
     "execution_count": 74,
     "metadata": {},
     "output_type": "execute_result"
    }
   ],
   "source": [
    "metric_frame.overall"
   ]
  },
  {
   "cell_type": "markdown",
   "id": "e968fe9d",
   "metadata": {
    "papermill": {
     "duration": 0.024991,
     "end_time": "2025-07-30T21:02:29.035316",
     "exception": false,
     "start_time": "2025-07-30T21:02:29.010325",
     "status": "completed"
    },
    "tags": []
   },
   "source": [
    "By Group"
   ]
  },
  {
   "cell_type": "code",
   "execution_count": 75,
   "id": "ec325bce",
   "metadata": {
    "execution": {
     "iopub.execute_input": "2025-07-30T21:02:29.087179Z",
     "iopub.status.busy": "2025-07-30T21:02:29.086723Z",
     "iopub.status.idle": "2025-07-30T21:02:29.102420Z",
     "shell.execute_reply": "2025-07-30T21:02:29.101399Z"
    },
    "papermill": {
     "duration": 0.043506,
     "end_time": "2025-07-30T21:02:29.104189",
     "exception": false,
     "start_time": "2025-07-30T21:02:29.060683",
     "status": "completed"
    },
    "tags": []
   },
   "outputs": [
    {
     "data": {
      "text/html": [
       "<div>\n",
       "<style scoped>\n",
       "    .dataframe tbody tr th:only-of-type {\n",
       "        vertical-align: middle;\n",
       "    }\n",
       "\n",
       "    .dataframe tbody tr th {\n",
       "        vertical-align: top;\n",
       "    }\n",
       "\n",
       "    .dataframe thead th {\n",
       "        text-align: right;\n",
       "    }\n",
       "</style>\n",
       "<table border=\"1\" class=\"dataframe\">\n",
       "  <thead>\n",
       "    <tr style=\"text-align: right;\">\n",
       "      <th></th>\n",
       "      <th>accuracy</th>\n",
       "      <th>balanced accuracy</th>\n",
       "      <th>f1</th>\n",
       "      <th>precision</th>\n",
       "      <th>false positive rate</th>\n",
       "      <th>false negative rate</th>\n",
       "      <th>selection rate</th>\n",
       "      <th>count</th>\n",
       "    </tr>\n",
       "    <tr>\n",
       "      <th>majmin</th>\n",
       "      <th></th>\n",
       "      <th></th>\n",
       "      <th></th>\n",
       "      <th></th>\n",
       "      <th></th>\n",
       "      <th></th>\n",
       "      <th></th>\n",
       "      <th></th>\n",
       "    </tr>\n",
       "  </thead>\n",
       "  <tbody>\n",
       "    <tr>\n",
       "      <th>majority</th>\n",
       "      <td>0.240176</td>\n",
       "      <td>0.554685</td>\n",
       "      <td>0.254627</td>\n",
       "      <td>0.146274</td>\n",
       "      <td>0.872797</td>\n",
       "      <td>0.017834</td>\n",
       "      <td>0.887249</td>\n",
       "      <td>69170.0</td>\n",
       "    </tr>\n",
       "    <tr>\n",
       "      <th>minority</th>\n",
       "      <td>0.168647</td>\n",
       "      <td>0.523178</td>\n",
       "      <td>0.214391</td>\n",
       "      <td>0.120302</td>\n",
       "      <td>0.937596</td>\n",
       "      <td>0.016047</td>\n",
       "      <td>0.942941</td>\n",
       "      <td>20540.0</td>\n",
       "    </tr>\n",
       "  </tbody>\n",
       "</table>\n",
       "</div>"
      ],
      "text/plain": [
       "          accuracy  balanced accuracy        f1  precision  \\\n",
       "majmin                                                       \n",
       "majority  0.240176           0.554685  0.254627   0.146274   \n",
       "minority  0.168647           0.523178  0.214391   0.120302   \n",
       "\n",
       "          false positive rate  false negative rate  selection rate    count  \n",
       "majmin                                                                       \n",
       "majority             0.872797             0.017834        0.887249  69170.0  \n",
       "minority             0.937596             0.016047        0.942941  20540.0  "
      ]
     },
     "execution_count": 75,
     "metadata": {},
     "output_type": "execute_result"
    }
   ],
   "source": [
    "metric_frame.by_group"
   ]
  },
  {
   "cell_type": "code",
   "execution_count": 76,
   "id": "a9ddbe63",
   "metadata": {
    "execution": {
     "iopub.execute_input": "2025-07-30T21:02:29.159395Z",
     "iopub.status.busy": "2025-07-30T21:02:29.158586Z",
     "iopub.status.idle": "2025-07-30T21:02:31.487316Z",
     "shell.execute_reply": "2025-07-30T21:02:31.486447Z"
    },
    "papermill": {
     "duration": 2.358465,
     "end_time": "2025-07-30T21:02:31.489021",
     "exception": false,
     "start_time": "2025-07-30T21:02:29.130556",
     "status": "completed"
    },
    "tags": []
   },
   "outputs": [
    {
     "data": {
      "text/plain": [
       "array([[<Axes: title={'center': 'accuracy'}, xlabel='majmin'>,\n",
       "        <Axes: title={'center': 'balanced accuracy'}, xlabel='majmin'>,\n",
       "        <Axes: title={'center': 'f1'}, xlabel='majmin'>],\n",
       "       [<Axes: title={'center': 'precision'}, xlabel='majmin'>,\n",
       "        <Axes: title={'center': 'false positive rate'}, xlabel='majmin'>,\n",
       "        <Axes: title={'center': 'false negative rate'}, xlabel='majmin'>],\n",
       "       [<Axes: title={'center': 'selection rate'}, xlabel='majmin'>,\n",
       "        <Axes: title={'center': 'count'}, xlabel='majmin'>,\n",
       "        <Axes: xlabel='majmin'>]], dtype=object)"
      ]
     },
     "execution_count": 76,
     "metadata": {},
     "output_type": "execute_result"
    },
    {
     "data": {
      "image/png": "[encoded data removed]",
      "text/plain": [
       "<Figure size 1200x800 with 9 Axes>"
      ]
     },
     "metadata": {},
     "output_type": "display_data"
    }
   ],
   "source": [
    "# In a graphic\n",
    "metric_frame.by_group.plot.bar(\n",
    "    subplots=True,\n",
    "    layout=[3, 3],\n",
    "    legend=False,\n",
    "    figsize=[12, 8],\n",
    "    title=\"Show all metrics\",\n",
    ")"
   ]
  },
  {
   "cell_type": "markdown",
   "id": "f57a0bac",
   "metadata": {
    "papermill": {
     "duration": 0.026394,
     "end_time": "2025-07-30T21:02:31.542153",
     "exception": false,
     "start_time": "2025-07-30T21:02:31.515759",
     "status": "completed"
    },
    "tags": []
   },
   "source": [
    "# Final Output"
   ]
  },
  {
   "cell_type": "code",
   "execution_count": 77,
   "id": "96d280a3",
   "metadata": {
    "execution": {
     "iopub.execute_input": "2025-07-30T21:02:31.597270Z",
     "iopub.status.busy": "2025-07-30T21:02:31.596200Z",
     "iopub.status.idle": "2025-07-30T21:02:31.604469Z",
     "shell.execute_reply": "2025-07-30T21:02:31.603630Z"
    },
    "papermill": {
     "duration": 0.038006,
     "end_time": "2025-07-30T21:02:31.606071",
     "exception": false,
     "start_time": "2025-07-30T21:02:31.568065",
     "status": "completed"
    },
    "tags": []
   },
   "outputs": [
    {
     "data": {
      "text/plain": [
       "4"
      ]
     },
     "execution_count": 77,
     "metadata": {},
     "output_type": "execute_result"
    }
   ],
   "source": [
    "sub_universes = universe_analysis.generate_sub_universes()\n",
    "len(sub_universes)"
   ]
  },
  {
   "cell_type": "code",
   "execution_count": 78,
   "id": "92adf7ba",
   "metadata": {
    "execution": {
     "iopub.execute_input": "2025-07-30T21:02:31.667915Z",
     "iopub.status.busy": "2025-07-30T21:02:31.667438Z",
     "iopub.status.idle": "2025-07-30T21:02:31.673772Z",
     "shell.execute_reply": "2025-07-30T21:02:31.672836Z"
    },
    "papermill": {
     "duration": 0.038331,
     "end_time": "2025-07-30T21:02:31.675253",
     "exception": false,
     "start_time": "2025-07-30T21:02:31.636922",
     "status": "completed"
    },
    "tags": []
   },
   "outputs": [],
   "source": [
    "def filter_sub_universe_data(sub_universe, org_test):\n",
    "    # Keep all rows — no filtering\n",
    "    keep_rows_mask = np.ones(org_test.shape[0], dtype=bool)\n",
    "\n",
    "    print(f\"[INFO] Keeping all rows: {keep_rows_mask.sum()} rows retained.\")\n",
    "    return keep_rows_mask"
   ]
  },
  {
   "cell_type": "code",
   "execution_count": 79,
   "id": "4a759155",
   "metadata": {
    "execution": {
     "iopub.execute_input": "2025-07-30T21:02:31.733149Z",
     "iopub.status.busy": "2025-07-30T21:02:31.732774Z",
     "iopub.status.idle": "2025-07-30T21:02:42.496895Z",
     "shell.execute_reply": "2025-07-30T21:02:42.496075Z"
    },
    "papermill": {
     "duration": 10.792495,
     "end_time": "2025-07-30T21:02:42.498633",
     "exception": false,
     "start_time": "2025-07-30T21:02:31.706138",
     "status": "completed"
    },
    "tags": []
   },
   "outputs": [
    {
     "name": "stdout",
     "output_type": "stream",
     "text": [
      "Stopping execution_time clock.\n",
      "[INFO] Keeping all rows: 89710 rows retained.\n"
     ]
    },
    {
     "name": "stdout",
     "output_type": "stream",
     "text": [
      "[INFO] Keeping all rows: 89710 rows retained.\n"
     ]
    },
    {
     "name": "stdout",
     "output_type": "stream",
     "text": [
      "[INFO] Keeping all rows: 89710 rows retained.\n"
     ]
    },
    {
     "name": "stdout",
     "output_type": "stream",
     "text": [
      "[INFO] Keeping all rows: 89710 rows retained.\n"
     ]
    },
    {
     "data": {
      "text/html": [
       "<div>\n",
       "<style scoped>\n",
       "    .dataframe tbody tr th:only-of-type {\n",
       "        vertical-align: middle;\n",
       "    }\n",
       "\n",
       "    .dataframe tbody tr th {\n",
       "        vertical-align: top;\n",
       "    }\n",
       "\n",
       "    .dataframe thead th {\n",
       "        text-align: right;\n",
       "    }\n",
       "</style>\n",
       "<table border=\"1\" class=\"dataframe\">\n",
       "  <thead>\n",
       "    <tr style=\"text-align: right;\">\n",
       "      <th></th>\n",
       "      <th>run_no</th>\n",
       "      <th>universe_id</th>\n",
       "      <th>universe_settings</th>\n",
       "      <th>execution_time</th>\n",
       "      <th>test_size_n</th>\n",
       "      <th>test_size_frac</th>\n",
       "      <th>fair_main_equalized_odds_difference</th>\n",
       "      <th>fair_main_equalized_odds_ratio</th>\n",
       "      <th>fair_main_demographic_parity_difference</th>\n",
       "      <th>fair_main_demographic_parity_ratio</th>\n",
       "      <th>...</th>\n",
       "      <th>perf_grp_precision_0</th>\n",
       "      <th>perf_grp_precision_1</th>\n",
       "      <th>perf_grp_false positive rate_0</th>\n",
       "      <th>perf_grp_false positive rate_1</th>\n",
       "      <th>perf_grp_false negative rate_0</th>\n",
       "      <th>perf_grp_false negative rate_1</th>\n",
       "      <th>perf_grp_selection rate_0</th>\n",
       "      <th>perf_grp_selection rate_1</th>\n",
       "      <th>perf_grp_count_0</th>\n",
       "      <th>perf_grp_count_1</th>\n",
       "    </tr>\n",
       "  </thead>\n",
       "  <tbody>\n",
       "    <tr>\n",
       "      <th>0</th>\n",
       "      <td>14</td>\n",
       "      <td>d3fd1038645adbb667b758f13f91b89e</td>\n",
       "      <td>{\"cutoff\": \"quantile_0.1\", \"eval_fairness_grou...</td>\n",
       "      <td>38.205906</td>\n",
       "      <td>89710</td>\n",
       "      <td>1.0</td>\n",
       "      <td>0.064799</td>\n",
       "      <td>0.930888</td>\n",
       "      <td>0.055692</td>\n",
       "      <td>0.940938</td>\n",
       "      <td>...</td>\n",
       "      <td>NaN</td>\n",
       "      <td>NaN</td>\n",
       "      <td>NaN</td>\n",
       "      <td>NaN</td>\n",
       "      <td>NaN</td>\n",
       "      <td>NaN</td>\n",
       "      <td>NaN</td>\n",
       "      <td>NaN</td>\n",
       "      <td>NaN</td>\n",
       "      <td>NaN</td>\n",
       "    </tr>\n",
       "    <tr>\n",
       "      <th>0</th>\n",
       "      <td>14</td>\n",
       "      <td>d3fd1038645adbb667b758f13f91b89e</td>\n",
       "      <td>{\"cutoff\": \"quantile_0.1\", \"eval_fairness_grou...</td>\n",
       "      <td>38.205906</td>\n",
       "      <td>89710</td>\n",
       "      <td>1.0</td>\n",
       "      <td>0.064799</td>\n",
       "      <td>0.930888</td>\n",
       "      <td>0.055692</td>\n",
       "      <td>0.940938</td>\n",
       "      <td>...</td>\n",
       "      <td>0.120302</td>\n",
       "      <td>0.146274</td>\n",
       "      <td>0.937596</td>\n",
       "      <td>0.872797</td>\n",
       "      <td>0.016047</td>\n",
       "      <td>0.017834</td>\n",
       "      <td>0.942941</td>\n",
       "      <td>0.887249</td>\n",
       "      <td>20540.0</td>\n",
       "      <td>69170.0</td>\n",
       "    </tr>\n",
       "    <tr>\n",
       "      <th>0</th>\n",
       "      <td>14</td>\n",
       "      <td>d3fd1038645adbb667b758f13f91b89e</td>\n",
       "      <td>{\"cutoff\": \"quantile_0.25\", \"eval_fairness_gro...</td>\n",
       "      <td>38.205906</td>\n",
       "      <td>89710</td>\n",
       "      <td>1.0</td>\n",
       "      <td>0.119562</td>\n",
       "      <td>0.853148</td>\n",
       "      <td>0.101793</td>\n",
       "      <td>0.877133</td>\n",
       "      <td>...</td>\n",
       "      <td>NaN</td>\n",
       "      <td>NaN</td>\n",
       "      <td>NaN</td>\n",
       "      <td>NaN</td>\n",
       "      <td>NaN</td>\n",
       "      <td>NaN</td>\n",
       "      <td>NaN</td>\n",
       "      <td>NaN</td>\n",
       "      <td>NaN</td>\n",
       "      <td>NaN</td>\n",
       "    </tr>\n",
       "    <tr>\n",
       "      <th>0</th>\n",
       "      <td>14</td>\n",
       "      <td>d3fd1038645adbb667b758f13f91b89e</td>\n",
       "      <td>{\"cutoff\": \"quantile_0.25\", \"eval_fairness_gro...</td>\n",
       "      <td>38.205906</td>\n",
       "      <td>89710</td>\n",
       "      <td>1.0</td>\n",
       "      <td>0.119562</td>\n",
       "      <td>0.853148</td>\n",
       "      <td>0.101793</td>\n",
       "      <td>0.877133</td>\n",
       "      <td>...</td>\n",
       "      <td>0.130575</td>\n",
       "      <td>0.170457</td>\n",
       "      <td>0.814165</td>\n",
       "      <td>0.694603</td>\n",
       "      <td>0.061655</td>\n",
       "      <td>0.062582</td>\n",
       "      <td>0.828481</td>\n",
       "      <td>0.726688</td>\n",
       "      <td>20540.0</td>\n",
       "      <td>69170.0</td>\n",
       "    </tr>\n",
       "  </tbody>\n",
       "</table>\n",
       "<p>4 rows × 50 columns</p>\n",
       "</div>"
      ],
      "text/plain": [
       "  run_no                       universe_id  \\\n",
       "0     14  d3fd1038645adbb667b758f13f91b89e   \n",
       "0     14  d3fd1038645adbb667b758f13f91b89e   \n",
       "0     14  d3fd1038645adbb667b758f13f91b89e   \n",
       "0     14  d3fd1038645adbb667b758f13f91b89e   \n",
       "\n",
       "                                   universe_settings  execution_time  \\\n",
       "0  {\"cutoff\": \"quantile_0.1\", \"eval_fairness_grou...       38.205906   \n",
       "0  {\"cutoff\": \"quantile_0.1\", \"eval_fairness_grou...       38.205906   \n",
       "0  {\"cutoff\": \"quantile_0.25\", \"eval_fairness_gro...       38.205906   \n",
       "0  {\"cutoff\": \"quantile_0.25\", \"eval_fairness_gro...       38.205906   \n",
       "\n",
       "   test_size_n  test_size_frac  fair_main_equalized_odds_difference  \\\n",
       "0        89710             1.0                             0.064799   \n",
       "0        89710             1.0                             0.064799   \n",
       "0        89710             1.0                             0.119562   \n",
       "0        89710             1.0                             0.119562   \n",
       "\n",
       "   fair_main_equalized_odds_ratio  fair_main_demographic_parity_difference  \\\n",
       "0                        0.930888                                 0.055692   \n",
       "0                        0.930888                                 0.055692   \n",
       "0                        0.853148                                 0.101793   \n",
       "0                        0.853148                                 0.101793   \n",
       "\n",
       "   fair_main_demographic_parity_ratio  ...  perf_grp_precision_0  \\\n",
       "0                            0.940938  ...                   NaN   \n",
       "0                            0.940938  ...              0.120302   \n",
       "0                            0.877133  ...                   NaN   \n",
       "0                            0.877133  ...              0.130575   \n",
       "\n",
       "   perf_grp_precision_1  perf_grp_false positive rate_0  \\\n",
       "0                   NaN                             NaN   \n",
       "0              0.146274                        0.937596   \n",
       "0                   NaN                             NaN   \n",
       "0              0.170457                        0.814165   \n",
       "\n",
       "   perf_grp_false positive rate_1  perf_grp_false negative rate_0  \\\n",
       "0                             NaN                             NaN   \n",
       "0                        0.872797                        0.016047   \n",
       "0                             NaN                             NaN   \n",
       "0                        0.694603                        0.061655   \n",
       "\n",
       "   perf_grp_false negative rate_1  perf_grp_selection rate_0  \\\n",
       "0                             NaN                        NaN   \n",
       "0                        0.017834                   0.942941   \n",
       "0                             NaN                        NaN   \n",
       "0                        0.062582                   0.828481   \n",
       "\n",
       "   perf_grp_selection rate_1  perf_grp_count_0  perf_grp_count_1  \n",
       "0                        NaN               NaN               NaN  \n",
       "0                   0.887249           20540.0           69170.0  \n",
       "0                        NaN               NaN               NaN  \n",
       "0                   0.726688           20540.0           69170.0  \n",
       "\n",
       "[4 rows x 50 columns]"
      ]
     },
     "execution_count": 79,
     "metadata": {},
     "output_type": "execute_result"
    }
   ],
   "source": [
    "final_output = universe_analysis.generate_final_output(\n",
    "    y_pred_prob=probs_test,\n",
    "    y_test=y_true,\n",
    "    org_test=org_test,\n",
    "    filter_data=filter_sub_universe_data,\n",
    "    cp_metrics_df=cp_metrics_df,\n",
    "    save=True,\n",
    ")\n",
    "final_output"
   ]
  },
  {
   "cell_type": "code",
   "execution_count": null,
   "id": "721ff514-cb11-46f8-b6fc-50392f74b5cb",
   "metadata": {
    "papermill": {
     "duration": 0.027988,
     "end_time": "2025-07-30T21:02:42.559851",
     "exception": false,
     "start_time": "2025-07-30T21:02:42.531863",
     "status": "completed"
    },
    "tags": []
   },
   "outputs": [],
   "source": []
  }
 ],
 "metadata": {
  "celltoolbar": "Tags",
  "kernelspec": {
   "display_name": "Python (CMA Fairness)",
   "language": "python",
   "name": "cma_fair_env"
  },
  "language_info": {
   "codemirror_mode": {
    "name": "ipython",
    "version": 3
   },
   "file_extension": ".py",
   "mimetype": "text/x-python",
   "name": "python",
   "nbconvert_exporter": "python",
   "pygments_lexer": "ipython3",
   "version": "3.10.12"
  },
  "papermill": {
   "default_parameters": {},
   "duration": 53.128327,
   "end_time": "2025-07-30T21:02:43.306039",
   "environment_variables": {},
   "exception": null,
   "input_path": "universe_analysis.ipynb",
   "output_path": "output/runs/14/notebooks/m_14-d3fd1038645adbb667b758f13f91b89e.ipynb",
   "parameters": {
    "output_dir": "output",
    "run_no": "14",
    "seed": "2023",
    "universe": "{\"cutoff\": [\"quantile_0.1\", \"quantile_0.25\"], \"eval_fairness_grouping\": [\"majority-minority\", \"nationality-all\"], \"exclude_features\": \"sex\", \"exclude_subgroups\": \"drop-non-german\", \"model\": \"elasticnet\", \"scale\": \"scale\", \"training_size\": \"5k\", \"training_year\": \"2012_14\"}",
    "universe_id": "d3fd1038645adbb667b758f13f91b89e"
   },
   "start_time": "2025-07-30T21:01:50.177712",
   "version": "2.6.0"
  }
 },
 "nbformat": 4,
 "nbformat_minor": 5
}