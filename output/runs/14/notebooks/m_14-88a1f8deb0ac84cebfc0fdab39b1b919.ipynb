{
 "cells": [
  {
   "cell_type": "code",
   "execution_count": 1,
   "id": "f159f837-637b-42ba-96b5-ec9a68c44524",
   "metadata": {
    "execution": {
     "iopub.execute_input": "2025-07-30T21:45:33.152769Z",
     "iopub.status.busy": "2025-07-30T21:45:33.152144Z",
     "iopub.status.idle": "2025-07-30T21:45:33.164898Z",
     "shell.execute_reply": "2025-07-30T21:45:33.163952Z"
    },
    "papermill": {
     "duration": 0.035221,
     "end_time": "2025-07-30T21:45:33.166465",
     "exception": false,
     "start_time": "2025-07-30T21:45:33.131244",
     "status": "completed"
    },
    "tags": []
   },
   "outputs": [
    {
     "name": "stdout",
     "output_type": "stream",
     "text": [
      "/dss/dsshome1/0C/ra93lal2/cma/CMA_Fairness_v2\n"
     ]
    },
    {
     "name": "stderr",
     "output_type": "stream",
     "text": [
      "/dss/dsshome1/0C/ra93lal2/.local/share/virtualenvs/CMA_Fairness_v2-3j10GkSs/lib/python3.10/site-packages/IPython/core/magics/osm.py:393: UserWarning: This is now an optional IPython functionality, using bookmarks requires you to install the `pickleshare` library.\n",
      "  bkms = self.shell.db.get('bookmarks', {})\n",
      "/dss/dsshome1/0C/ra93lal2/.local/share/virtualenvs/CMA_Fairness_v2-3j10GkSs/lib/python3.10/site-packages/IPython/core/magics/osm.py:417: UserWarning: This is now an optional IPython functionality, setting dhist requires you to install the `pickleshare` library.\n",
      "  self.shell.db['dhist'] = compress_dhist(dhist)[-100:]\n"
     ]
    }
   ],
   "source": [
    "%cd ~/cma/CMA_Fairness_v2"
   ]
  },
  {
   "cell_type": "markdown",
   "id": "de2603b9",
   "metadata": {
    "papermill": {
     "duration": 0.018099,
     "end_time": "2025-07-30T21:45:33.202725",
     "exception": false,
     "start_time": "2025-07-30T21:45:33.184626",
     "status": "completed"
    },
    "tags": []
   },
   "source": [
    "The following cell holds the definition of our parameters, these values can be overriden by rendering the with e.g. the following command:\n",
    "\n",
    "papermill -p alpha 0.2 -p ratio 0.3 universe_analysis.ipynb output/test_run.ipynb"
   ]
  },
  {
   "cell_type": "code",
   "execution_count": 2,
   "id": "a80968a0-40bb-4fa9-85ef-2d5eefb01975",
   "metadata": {
    "execution": {
     "iopub.execute_input": "2025-07-30T21:45:33.241380Z",
     "iopub.status.busy": "2025-07-30T21:45:33.240715Z",
     "iopub.status.idle": "2025-07-30T21:45:33.246662Z",
     "shell.execute_reply": "2025-07-30T21:45:33.245696Z"
    },
    "papermill": {
     "duration": 0.027439,
     "end_time": "2025-07-30T21:45:33.248448",
     "exception": false,
     "start_time": "2025-07-30T21:45:33.221009",
     "status": "completed"
    },
    "tags": []
   },
   "outputs": [
    {
     "name": "stdout",
     "output_type": "stream",
     "text": [
      "Current working directory: /dss/dsshome1/0C/ra93lal2/cma/CMA_Fairness_v2\n"
     ]
    }
   ],
   "source": [
    "import os\n",
    "print(\"Current working directory:\", os.getcwd())"
   ]
  },
  {
   "cell_type": "code",
   "execution_count": 3,
   "id": "2dce4c03",
   "metadata": {
    "execution": {
     "iopub.execute_input": "2025-07-30T21:45:33.287652Z",
     "iopub.status.busy": "2025-07-30T21:45:33.287063Z",
     "iopub.status.idle": "2025-07-30T21:45:33.293384Z",
     "shell.execute_reply": "2025-07-30T21:45:33.292440Z"
    },
    "papermill": {
     "duration": 0.027395,
     "end_time": "2025-07-30T21:45:33.294940",
     "exception": false,
     "start_time": "2025-07-30T21:45:33.267545",
     "status": "completed"
    },
    "tags": [
     "parameters"
    ]
   },
   "outputs": [],
   "source": [
    "run_no = 0\n",
    "universe_id = \"test\"\n",
    "universe = {\n",
    "    \"training_size\": \"25k\", # \"25k\", \"5k\", \"1k\"\n",
    "    \"training_year\": \"2014\", # \"2014\", \"2012_14\", \"2010_14\"\n",
    "    \"scale\": \"scale\", # \"scale\", \"do-not-scale\",\n",
    "    #\"stratify_split\": \"target\", # \"none\", \"target\", \"protected-attribute\", \"both\",\n",
    "    \"model\": \"elasticnet\", # \"logreg\", \"penalized_logreg\", \"rf\", \"gbm\", \"elasticnet\"\n",
    "    \"cutoff\": [\"quantile_0.15\", \"quantile_0.30\"],\n",
    "    \"exclude_features\": \"age\", # \"none\", \"nationality\", \"sex\", \"nationality-sex\", \"age\"\n",
    "    \"exclude_subgroups\": \"keep-all\", # \"keep-all\", \"drop-non-german\"\n",
    "    \"eval_fairness_grouping\": [\"majority-minority\", \"nationality-all\"]\n",
    "}\n",
    "\n",
    "output_dir=\"./output\"\n",
    "seed=0"
   ]
  },
  {
   "cell_type": "code",
   "execution_count": 4,
   "id": "35a73d25",
   "metadata": {
    "execution": {
     "iopub.execute_input": "2025-07-30T21:45:33.335477Z",
     "iopub.status.busy": "2025-07-30T21:45:33.334887Z",
     "iopub.status.idle": "2025-07-30T21:45:33.339734Z",
     "shell.execute_reply": "2025-07-30T21:45:33.338850Z"
    },
    "papermill": {
     "duration": 0.026516,
     "end_time": "2025-07-30T21:45:33.341252",
     "exception": false,
     "start_time": "2025-07-30T21:45:33.314736",
     "status": "completed"
    },
    "tags": [
     "injected-parameters"
    ]
   },
   "outputs": [],
   "source": [
    "# Parameters\n",
    "universe_id = \"88a1f8deb0ac84cebfc0fdab39b1b919\"\n",
    "run_no = \"14\"\n",
    "universe = \"{\\\"cutoff\\\": [\\\"quantile_0.1\\\", \\\"quantile_0.25\\\"], \\\"eval_fairness_grouping\\\": [\\\"majority-minority\\\", \\\"nationality-all\\\"], \\\"exclude_features\\\": \\\"nationality\\\", \\\"exclude_subgroups\\\": \\\"keep-all\\\", \\\"model\\\": \\\"rf\\\", \\\"scale\\\": \\\"scale\\\", \\\"training_size\\\": \\\"1k\\\", \\\"training_year\\\": \\\"2010_14\\\"}\"\n",
    "output_dir = \"output\"\n",
    "seed = \"2023\"\n"
   ]
  },
  {
   "cell_type": "code",
   "execution_count": 5,
   "id": "1650acaf",
   "metadata": {
    "execution": {
     "iopub.execute_input": "2025-07-30T21:45:33.383197Z",
     "iopub.status.busy": "2025-07-30T21:45:33.382416Z",
     "iopub.status.idle": "2025-07-30T21:45:33.387547Z",
     "shell.execute_reply": "2025-07-30T21:45:33.386591Z"
    },
    "papermill": {
     "duration": 0.026476,
     "end_time": "2025-07-30T21:45:33.389189",
     "exception": false,
     "start_time": "2025-07-30T21:45:33.362713",
     "status": "completed"
    },
    "tags": []
   },
   "outputs": [],
   "source": [
    "import json\n",
    "# Parse universe into dict if it is passed as a string\n",
    "if isinstance(universe, str):\n",
    "    universe = json.loads(universe)"
   ]
  },
  {
   "cell_type": "code",
   "execution_count": 6,
   "id": "16620c48",
   "metadata": {
    "execution": {
     "iopub.execute_input": "2025-07-30T21:45:33.428479Z",
     "iopub.status.busy": "2025-07-30T21:45:33.427799Z",
     "iopub.status.idle": "2025-07-30T21:45:33.472411Z",
     "shell.execute_reply": "2025-07-30T21:45:33.471493Z"
    },
    "papermill": {
     "duration": 0.065885,
     "end_time": "2025-07-30T21:45:33.474176",
     "exception": false,
     "start_time": "2025-07-30T21:45:33.408291",
     "status": "completed"
    },
    "tags": []
   },
   "outputs": [],
   "source": [
    "# Auto-reload the custom package\n",
    "%load_ext autoreload\n",
    "%autoreload 1\n",
    "%aimport fairness_multiverse"
   ]
  },
  {
   "cell_type": "code",
   "execution_count": 7,
   "id": "01c5c9f3",
   "metadata": {
    "execution": {
     "iopub.execute_input": "2025-07-30T21:45:33.514409Z",
     "iopub.status.busy": "2025-07-30T21:45:33.513741Z",
     "iopub.status.idle": "2025-07-30T21:45:35.478404Z",
     "shell.execute_reply": "2025-07-30T21:45:35.477419Z"
    },
    "papermill": {
     "duration": 1.986585,
     "end_time": "2025-07-30T21:45:35.480378",
     "exception": false,
     "start_time": "2025-07-30T21:45:33.493793",
     "status": "completed"
    },
    "tags": []
   },
   "outputs": [],
   "source": [
    "from fairness_multiverse.universe import UniverseAnalysis\n",
    "\n",
    "universe_analysis = UniverseAnalysis(\n",
    "    run_no = run_no,\n",
    "    universe_id = universe_id,\n",
    "    universe = universe,\n",
    "    output_dir=output_dir,\n",
    ")"
   ]
  },
  {
   "cell_type": "code",
   "execution_count": 8,
   "id": "106241f5",
   "metadata": {
    "execution": {
     "iopub.execute_input": "2025-07-30T21:45:35.521106Z",
     "iopub.status.busy": "2025-07-30T21:45:35.520612Z",
     "iopub.status.idle": "2025-07-30T21:45:35.527641Z",
     "shell.execute_reply": "2025-07-30T21:45:35.526726Z"
    },
    "papermill": {
     "duration": 0.028933,
     "end_time": "2025-07-30T21:45:35.529302",
     "exception": false,
     "start_time": "2025-07-30T21:45:35.500369",
     "status": "completed"
    },
    "tags": []
   },
   "outputs": [
    {
     "name": "stdout",
     "output_type": "stream",
     "text": [
      "Using Seed: 2023\n"
     ]
    }
   ],
   "source": [
    "import numpy as np\n",
    "parsed_seed = int(seed)\n",
    "np.random.seed(parsed_seed)\n",
    "print(f\"Using Seed: {parsed_seed}\")"
   ]
  },
  {
   "cell_type": "markdown",
   "id": "e0ebdc57",
   "metadata": {
    "papermill": {
     "duration": 0.019067,
     "end_time": "2025-07-30T21:45:35.568695",
     "exception": false,
     "start_time": "2025-07-30T21:45:35.549628",
     "status": "completed"
    },
    "tags": []
   },
   "source": [
    "# Loading Data"
   ]
  },
  {
   "cell_type": "markdown",
   "id": "681925a3",
   "metadata": {
    "papermill": {
     "duration": 0.019138,
     "end_time": "2025-07-30T21:45:35.607013",
     "exception": false,
     "start_time": "2025-07-30T21:45:35.587875",
     "status": "completed"
    },
    "tags": []
   },
   "source": [
    "Load siab_train, siab_test, siab_calib and/or \n",
    "load siab_train_features, siab_train_labels"
   ]
  },
  {
   "cell_type": "code",
   "execution_count": 9,
   "id": "f0496b8a",
   "metadata": {
    "execution": {
     "iopub.execute_input": "2025-07-30T21:45:35.647043Z",
     "iopub.status.busy": "2025-07-30T21:45:35.646332Z",
     "iopub.status.idle": "2025-07-30T21:45:48.891358Z",
     "shell.execute_reply": "2025-07-30T21:45:48.889912Z"
    },
    "papermill": {
     "duration": 13.268099,
     "end_time": "2025-07-30T21:45:48.893862",
     "exception": false,
     "start_time": "2025-07-30T21:45:35.625763",
     "status": "completed"
    },
    "tags": []
   },
   "outputs": [
    {
     "name": "stdout",
     "output_type": "stream",
     "text": [
      "Loading SIAB data from cache: data/siab_cached.csv.gz\n"
     ]
    },
    {
     "name": "stdout",
     "output_type": "stream",
     "text": [
      "(643690, 164)\n"
     ]
    }
   ],
   "source": [
    "from pathlib import Path\n",
    "import pandas as pd\n",
    "\n",
    "# File paths\n",
    "raw_file = Path(\"data/raw/siab.csv\")\n",
    "cache_file = Path(\"data/siab_cached.csv.gz\")\n",
    "\n",
    "# Ensure cache directory exists\n",
    "cache_file.parent.mkdir(parents=True, exist_ok=True)\n",
    "\n",
    "# Load with simple caching\n",
    "if cache_file.exists():\n",
    "    print(f\"Loading SIAB data from cache: {cache_file}\")\n",
    "    siab = pd.read_csv(cache_file, compression='gzip')\n",
    "else:\n",
    "    print(f\"Cache not found. Reading raw SIAB data: {raw_file}\")\n",
    "    siab = pd.read_csv(raw_file)\n",
    "    siab.to_csv(cache_file, index=False, compression='gzip')\n",
    "    print(f\"Cached SIAB data to: {cache_file}\")\n",
    "\n",
    "# Now use `siab` DataFrame as needed\n",
    "print(siab.shape)"
   ]
  },
  {
   "cell_type": "code",
   "execution_count": 10,
   "id": "db0ca512-5f53-4dba-abdb-a2888bca41ba",
   "metadata": {
    "execution": {
     "iopub.execute_input": "2025-07-30T21:45:48.946535Z",
     "iopub.status.busy": "2025-07-30T21:45:48.945706Z",
     "iopub.status.idle": "2025-07-30T21:45:48.952238Z",
     "shell.execute_reply": "2025-07-30T21:45:48.951339Z"
    },
    "papermill": {
     "duration": 0.030482,
     "end_time": "2025-07-30T21:45:48.954832",
     "exception": false,
     "start_time": "2025-07-30T21:45:48.924350",
     "status": "completed"
    },
    "tags": []
   },
   "outputs": [],
   "source": [
    "#siab"
   ]
  },
  {
   "cell_type": "code",
   "execution_count": 11,
   "id": "a0edb063",
   "metadata": {
    "execution": {
     "iopub.execute_input": "2025-07-30T21:45:48.998944Z",
     "iopub.status.busy": "2025-07-30T21:45:48.998526Z",
     "iopub.status.idle": "2025-07-30T21:45:49.003957Z",
     "shell.execute_reply": "2025-07-30T21:45:49.002923Z"
    },
    "papermill": {
     "duration": 0.028822,
     "end_time": "2025-07-30T21:45:49.006818",
     "exception": false,
     "start_time": "2025-07-30T21:45:48.977996",
     "status": "completed"
    },
    "tags": []
   },
   "outputs": [],
   "source": [
    "#import pandas as pd\n",
    "#\n",
    "#X_train = pd.read_csv(\"./data/X_train.csv\")\n",
    "#y_train = pd.read_csv(\"./data/y_train.csv\")"
   ]
  },
  {
   "cell_type": "code",
   "execution_count": 12,
   "id": "63d08085",
   "metadata": {
    "execution": {
     "iopub.execute_input": "2025-07-30T21:45:49.052499Z",
     "iopub.status.busy": "2025-07-30T21:45:49.052075Z",
     "iopub.status.idle": "2025-07-30T21:45:49.057228Z",
     "shell.execute_reply": "2025-07-30T21:45:49.056232Z"
    },
    "papermill": {
     "duration": 0.030302,
     "end_time": "2025-07-30T21:45:49.058860",
     "exception": false,
     "start_time": "2025-07-30T21:45:49.028558",
     "status": "completed"
    },
    "tags": []
   },
   "outputs": [],
   "source": [
    "#X_test = pd.read_csv(\"./data/X_test.csv\")\n",
    "#y_true = pd.read_csv(\"./data/y_test.csv\")"
   ]
  },
  {
   "cell_type": "code",
   "execution_count": 13,
   "id": "98a8d0fa-1d3d-4ed8-bb2c-281470e24add",
   "metadata": {
    "execution": {
     "iopub.execute_input": "2025-07-30T21:45:49.095189Z",
     "iopub.status.busy": "2025-07-30T21:45:49.094682Z",
     "iopub.status.idle": "2025-07-30T21:45:49.100330Z",
     "shell.execute_reply": "2025-07-30T21:45:49.099148Z"
    },
    "papermill": {
     "duration": 0.031375,
     "end_time": "2025-07-30T21:45:49.102667",
     "exception": false,
     "start_time": "2025-07-30T21:45:49.071292",
     "status": "completed"
    },
    "tags": []
   },
   "outputs": [],
   "source": [
    "# Calibration data for conformal\n",
    "#X_calib = pd.read_csv(\"./data/X_calib.csv\")\n",
    "#y_calib = pd.read_csv(\"./data/y_calib.csv\")"
   ]
  },
  {
   "cell_type": "markdown",
   "id": "997051c5-15bd-4b69-9786-c3001a3ce484",
   "metadata": {
    "papermill": {
     "duration": 0.027757,
     "end_time": "2025-07-30T21:45:49.159324",
     "exception": false,
     "start_time": "2025-07-30T21:45:49.131567",
     "status": "completed"
    },
    "tags": []
   },
   "source": [
    "# Splitting Data and Setting Training Data Size"
   ]
  },
  {
   "cell_type": "code",
   "execution_count": 14,
   "id": "e993b61f-042d-41a6-8c81-f55681f86335",
   "metadata": {
    "execution": {
     "iopub.execute_input": "2025-07-30T21:45:49.205553Z",
     "iopub.status.busy": "2025-07-30T21:45:49.204922Z",
     "iopub.status.idle": "2025-07-30T21:45:49.223930Z",
     "shell.execute_reply": "2025-07-30T21:45:49.219896Z"
    },
    "papermill": {
     "duration": 0.045214,
     "end_time": "2025-07-30T21:45:49.226528",
     "exception": false,
     "start_time": "2025-07-30T21:45:49.181314",
     "status": "completed"
    },
    "tags": []
   },
   "outputs": [],
   "source": [
    "def sample_by_year_size(df,\n",
    "                        training_year: str,\n",
    "                        training_size: str,\n",
    "                        random_state: int = 42):\n",
    "    # --- parse training_year into a list of int years ---\n",
    "    if \"_\" in training_year:\n",
    "        start_str, end_str = training_year.split(\"_\", 1)\n",
    "        start = int(start_str)\n",
    "        end   = int(end_str) if len(end_str) == 4 else (int(end_str) + (start // 100)*100)\n",
    "        years = list(range(start, end + 1))\n",
    "    else:\n",
    "        years = [int(training_year)]\n",
    "\n",
    "    df = df[df[\"year\"].isin(years)].reset_index(drop=True)\n",
    "\n",
    "    # --- map training_size to total number of samples ---\n",
    "    total_map = {\"25k\": 25_000, \"5k\": 5_000, \"1k\": 1_000}\n",
    "    if training_size not in total_map:\n",
    "        return df  # e.g. \"all\"\n",
    "\n",
    "    total_samples = total_map[training_size]\n",
    "    n_years       = len(years)\n",
    "    base          = total_samples // n_years\n",
    "    remainder     = total_samples % n_years\n",
    "\n",
    "    # --- build a dict: year -> how many to sample ---\n",
    "    # give +1 to the first `remainder` years in ascending order\n",
    "    quotas = {\n",
    "        year: base + (1 if idx < remainder else 0)\n",
    "        for idx, year in enumerate(sorted(years))\n",
    "    }\n",
    "\n",
    "    # --- sample per‐year according to the quota dict ---\n",
    "    sampled = (\n",
    "        df\n",
    "        .groupby(\"year\", group_keys=False)\n",
    "        .apply(lambda grp: grp.sample(\n",
    "            n=min(len(grp), quotas[grp.name]),\n",
    "            random_state=random_state))\n",
    "        .reset_index(drop=True)\n",
    "    )\n",
    "\n",
    "    return sampled"
   ]
  },
  {
   "cell_type": "code",
   "execution_count": 15,
   "id": "c0ccd338-0e02-41f3-a09d-f56f9266e3fb",
   "metadata": {
    "execution": {
     "iopub.execute_input": "2025-07-30T21:45:49.279125Z",
     "iopub.status.busy": "2025-07-30T21:45:49.278696Z",
     "iopub.status.idle": "2025-07-30T21:45:49.284540Z",
     "shell.execute_reply": "2025-07-30T21:45:49.283251Z"
    },
    "papermill": {
     "duration": 0.031502,
     "end_time": "2025-07-30T21:45:49.286619",
     "exception": false,
     "start_time": "2025-07-30T21:45:49.255117",
     "status": "completed"
    },
    "tags": []
   },
   "outputs": [],
   "source": [
    "#universe[\"training_size\"]"
   ]
  },
  {
   "cell_type": "code",
   "execution_count": 16,
   "id": "ca707fd7-8047-4acd-bfa5-66248fbbf8e6",
   "metadata": {
    "execution": {
     "iopub.execute_input": "2025-07-30T21:45:49.332428Z",
     "iopub.status.busy": "2025-07-30T21:45:49.331928Z",
     "iopub.status.idle": "2025-07-30T21:45:49.336088Z",
     "shell.execute_reply": "2025-07-30T21:45:49.335282Z"
    },
    "papermill": {
     "duration": 0.023052,
     "end_time": "2025-07-30T21:45:49.337381",
     "exception": false,
     "start_time": "2025-07-30T21:45:49.314329",
     "status": "completed"
    },
    "tags": []
   },
   "outputs": [],
   "source": [
    "#universe[\"training_year\"]"
   ]
  },
  {
   "cell_type": "code",
   "execution_count": 17,
   "id": "aea9c6ef-6f46-42c8-85eb-5a62025c1508",
   "metadata": {
    "execution": {
     "iopub.execute_input": "2025-07-30T21:45:49.363928Z",
     "iopub.status.busy": "2025-07-30T21:45:49.363506Z",
     "iopub.status.idle": "2025-07-30T21:45:50.582176Z",
     "shell.execute_reply": "2025-07-30T21:45:50.580986Z"
    },
    "papermill": {
     "duration": 1.233452,
     "end_time": "2025-07-30T21:45:50.584299",
     "exception": false,
     "start_time": "2025-07-30T21:45:49.350847",
     "status": "completed"
    },
    "tags": []
   },
   "outputs": [],
   "source": [
    "siab_train = sample_by_year_size(siab,\n",
    "                               training_year=universe[\"training_year\"],\n",
    "                               training_size=universe[\"training_size\"])"
   ]
  },
  {
   "cell_type": "code",
   "execution_count": 18,
   "id": "8d3afb32-789d-442c-8d5d-9f5aa8dd2eed",
   "metadata": {
    "execution": {
     "iopub.execute_input": "2025-07-30T21:45:50.634885Z",
     "iopub.status.busy": "2025-07-30T21:45:50.634155Z",
     "iopub.status.idle": "2025-07-30T21:45:50.639402Z",
     "shell.execute_reply": "2025-07-30T21:45:50.638398Z"
    },
    "papermill": {
     "duration": 0.03252,
     "end_time": "2025-07-30T21:45:50.641264",
     "exception": false,
     "start_time": "2025-07-30T21:45:50.608744",
     "status": "completed"
    },
    "tags": []
   },
   "outputs": [],
   "source": [
    "#siab_train.shape"
   ]
  },
  {
   "cell_type": "code",
   "execution_count": 19,
   "id": "d582db68-1a4c-47fb-84fc-08518dc1975a",
   "metadata": {
    "execution": {
     "iopub.execute_input": "2025-07-30T21:45:50.692285Z",
     "iopub.status.busy": "2025-07-30T21:45:50.691435Z",
     "iopub.status.idle": "2025-07-30T21:45:50.698115Z",
     "shell.execute_reply": "2025-07-30T21:45:50.697018Z"
    },
    "papermill": {
     "duration": 0.047502,
     "end_time": "2025-07-30T21:45:50.713978",
     "exception": false,
     "start_time": "2025-07-30T21:45:50.666476",
     "status": "completed"
    },
    "tags": []
   },
   "outputs": [],
   "source": [
    "#display(siab_train.groupby(\"year\").size())"
   ]
  },
  {
   "cell_type": "code",
   "execution_count": 20,
   "id": "a561edb4-d032-42cb-8256-22eac1111c64",
   "metadata": {
    "execution": {
     "iopub.execute_input": "2025-07-30T21:45:50.825324Z",
     "iopub.status.busy": "2025-07-30T21:45:50.824793Z",
     "iopub.status.idle": "2025-07-30T21:45:51.132655Z",
     "shell.execute_reply": "2025-07-30T21:45:51.131533Z"
    },
    "papermill": {
     "duration": 0.37358,
     "end_time": "2025-07-30T21:45:51.134621",
     "exception": false,
     "start_time": "2025-07-30T21:45:50.761041",
     "status": "completed"
    },
    "tags": []
   },
   "outputs": [],
   "source": [
    "#siab_train = siab_s[siab_s.year < 2015]\n",
    "siab_calib = siab[siab.year == 2015]\n",
    "siab_test = siab[siab.year == 2016]"
   ]
  },
  {
   "cell_type": "code",
   "execution_count": 21,
   "id": "472de16f-c3db-4916-846b-1f0de9cf1746",
   "metadata": {
    "execution": {
     "iopub.execute_input": "2025-07-30T21:45:51.244771Z",
     "iopub.status.busy": "2025-07-30T21:45:51.244338Z",
     "iopub.status.idle": "2025-07-30T21:45:51.252011Z",
     "shell.execute_reply": "2025-07-30T21:45:51.250818Z"
    },
    "papermill": {
     "duration": 0.062189,
     "end_time": "2025-07-30T21:45:51.253765",
     "exception": false,
     "start_time": "2025-07-30T21:45:51.191576",
     "status": "completed"
    },
    "tags": []
   },
   "outputs": [],
   "source": [
    "X_train = siab_train.iloc[:,4:164]\n",
    "y_train = siab_train.iloc[:, [3]]"
   ]
  },
  {
   "cell_type": "code",
   "execution_count": 22,
   "id": "828c96af-f43a-4ed6-ba47-8ac73a47d56c",
   "metadata": {
    "execution": {
     "iopub.execute_input": "2025-07-30T21:45:51.299939Z",
     "iopub.status.busy": "2025-07-30T21:45:51.299582Z",
     "iopub.status.idle": "2025-07-30T21:45:51.354612Z",
     "shell.execute_reply": "2025-07-30T21:45:51.353771Z"
    },
    "papermill": {
     "duration": 0.070935,
     "end_time": "2025-07-30T21:45:51.355775",
     "exception": false,
     "start_time": "2025-07-30T21:45:51.284840",
     "status": "completed"
    },
    "tags": []
   },
   "outputs": [],
   "source": [
    "X_calib = siab_calib.iloc[:,4:164]\n",
    "y_calib = siab_calib.iloc[:, [3]]"
   ]
  },
  {
   "cell_type": "code",
   "execution_count": 23,
   "id": "c34be9c3-6bd6-476e-acd3-845840e303be",
   "metadata": {
    "execution": {
     "iopub.execute_input": "2025-07-30T21:45:51.381099Z",
     "iopub.status.busy": "2025-07-30T21:45:51.380755Z",
     "iopub.status.idle": "2025-07-30T21:45:51.438348Z",
     "shell.execute_reply": "2025-07-30T21:45:51.437299Z"
    },
    "papermill": {
     "duration": 0.072444,
     "end_time": "2025-07-30T21:45:51.440184",
     "exception": false,
     "start_time": "2025-07-30T21:45:51.367740",
     "status": "completed"
    },
    "tags": []
   },
   "outputs": [],
   "source": [
    "X_test = siab_test.iloc[:,4:164]\n",
    "y_true = siab_test.iloc[:, [3]]"
   ]
  },
  {
   "cell_type": "markdown",
   "id": "9901737e-04df-44f0-9100-f5ad144ed040",
   "metadata": {
    "papermill": {
     "duration": 0.014074,
     "end_time": "2025-07-30T21:45:51.471485",
     "exception": false,
     "start_time": "2025-07-30T21:45:51.457411",
     "status": "completed"
    },
    "tags": []
   },
   "source": [
    "# Splitting Data and Setting Training Data Size OLD VERSION"
   ]
  },
  {
   "cell_type": "code",
   "execution_count": 24,
   "id": "acbc8f7d-8fc8-4e86-8c59-5dcb0f58384b",
   "metadata": {
    "execution": {
     "iopub.execute_input": "2025-07-30T21:45:51.501491Z",
     "iopub.status.busy": "2025-07-30T21:45:51.501108Z",
     "iopub.status.idle": "2025-07-30T21:45:51.506520Z",
     "shell.execute_reply": "2025-07-30T21:45:51.505416Z"
    },
    "papermill": {
     "duration": 0.025014,
     "end_time": "2025-07-30T21:45:51.508088",
     "exception": false,
     "start_time": "2025-07-30T21:45:51.483074",
     "status": "completed"
    },
    "tags": []
   },
   "outputs": [],
   "source": [
    "#def sample_by_year(df, training_size, random_state=42):\n",
    "#    if training_size == \"2014\":\n",
    "#        return df[df[\"year\"] == 2014].reset_index(drop=True)\n",
    "#    \n",
    "#    size_map = {\n",
    "#        \"25k\": 5000,\n",
    "#        \"5k\": 1000,\n",
    "#        \"1k\": 200\n",
    "#    }\n",
    "#\n",
    "#    if training_size not in size_map:\n",
    "#        return df.reset_index(drop=True)  # use all data\n",
    "#\n",
    "#    n_per_year = size_map[training_size]\n",
    "#    grouped = df.groupby(\"year\")\n",
    "#    sampled = grouped.apply(lambda x: x.sample(n=min(n_per_year, len(x)), random_state=random_state))\n",
    "#    return sampled.reset_index(drop=True)"
   ]
  },
  {
   "cell_type": "code",
   "execution_count": 25,
   "id": "6d931f52-beaf-43ff-9e78-9d44a448d54e",
   "metadata": {
    "execution": {
     "iopub.execute_input": "2025-07-30T21:45:51.541235Z",
     "iopub.status.busy": "2025-07-30T21:45:51.540730Z",
     "iopub.status.idle": "2025-07-30T21:45:51.546893Z",
     "shell.execute_reply": "2025-07-30T21:45:51.545823Z"
    },
    "papermill": {
     "duration": 0.026644,
     "end_time": "2025-07-30T21:45:51.548577",
     "exception": false,
     "start_time": "2025-07-30T21:45:51.521933",
     "status": "completed"
    },
    "tags": []
   },
   "outputs": [],
   "source": [
    "#siab_s = sample_by_year(siab, universe[\"training_size\"])"
   ]
  },
  {
   "cell_type": "code",
   "execution_count": 26,
   "id": "5db0a40e-a4e2-4920-be85-b12ae061d70d",
   "metadata": {
    "execution": {
     "iopub.execute_input": "2025-07-30T21:45:51.588115Z",
     "iopub.status.busy": "2025-07-30T21:45:51.587044Z",
     "iopub.status.idle": "2025-07-30T21:45:51.592898Z",
     "shell.execute_reply": "2025-07-30T21:45:51.591917Z"
    },
    "papermill": {
     "duration": 0.026677,
     "end_time": "2025-07-30T21:45:51.596244",
     "exception": false,
     "start_time": "2025-07-30T21:45:51.569567",
     "status": "completed"
    },
    "tags": []
   },
   "outputs": [],
   "source": [
    "#display(siab_s.groupby(\"year\").size())"
   ]
  },
  {
   "cell_type": "code",
   "execution_count": 27,
   "id": "e6c733c5",
   "metadata": {
    "execution": {
     "iopub.execute_input": "2025-07-30T21:45:51.643243Z",
     "iopub.status.busy": "2025-07-30T21:45:51.642952Z",
     "iopub.status.idle": "2025-07-30T21:45:51.809985Z",
     "shell.execute_reply": "2025-07-30T21:45:51.808988Z"
    },
    "papermill": {
     "duration": 0.186533,
     "end_time": "2025-07-30T21:45:51.811493",
     "exception": false,
     "start_time": "2025-07-30T21:45:51.624960",
     "status": "completed"
    },
    "tags": []
   },
   "outputs": [],
   "source": [
    "# Auxiliary data needed downstream in the pipeline\n",
    "\n",
    "org_train = X_train.copy()\n",
    "org_test = X_test.copy()\n",
    "org_calib = X_calib.copy()"
   ]
  },
  {
   "cell_type": "code",
   "execution_count": 28,
   "id": "1466abac-c6da-4492-a62f-4240ae3783af",
   "metadata": {
    "execution": {
     "iopub.execute_input": "2025-07-30T21:45:51.890025Z",
     "iopub.status.busy": "2025-07-30T21:45:51.889600Z",
     "iopub.status.idle": "2025-07-30T21:45:51.895653Z",
     "shell.execute_reply": "2025-07-30T21:45:51.894672Z"
    },
    "papermill": {
     "duration": 0.071034,
     "end_time": "2025-07-30T21:45:51.897644",
     "exception": false,
     "start_time": "2025-07-30T21:45:51.826610",
     "status": "completed"
    },
    "tags": []
   },
   "outputs": [],
   "source": [
    "# put in other script?\n",
    "# Group sizes\n",
    "\n",
    "#def calculate_percentages(df, df_name):\n",
    "#    total_entries = len(df)\n",
    "#\n",
    "#    female_pct = (df['frau1'] == 1).mean() * 100\n",
    "#    non_german_pct = ((df['maxdeutsch1'] == 0) & (df['maxdeutsch.Missing.'] == 0)).mean() * 100\n",
    "#    non_german_male_pct = ((df['frau1'] == 0) & (df['maxdeutsch1'] == 0) & (df['maxdeutsch.Missing.'] == 0)).mean() * 100\n",
    "#    non_german_female_pct = ((df['frau1'] == 1) & (df['maxdeutsch1'] == 0) & (df['maxdeutsch.Missing.'] == 0)).mean() * 100\n",
    "#\n",
    "#    print(f\"--- {df_name} ---\")\n",
    "#    print(f\"Female: {female_pct:.2f}%\")\n",
    "#    print(f\"Non-German: {non_german_pct:.2f}%\")\n",
    "#    print(f\"Non-German Male: {non_german_male_pct:.2f}%\")\n",
    "#    print(f\"Non-German Female: {non_german_female_pct:.2f}%\\n\")\n",
    "#\n",
    "## Calculate for each DataFrame\n",
    "#calculate_percentages(siab_calib, \"siab_calib\")\n",
    "#calculate_percentages(siab_test, \"siab_test\")\n",
    "#calculate_percentages(siab_train, \"siab_train\")"
   ]
  },
  {
   "cell_type": "markdown",
   "id": "0a4a1b33",
   "metadata": {
    "papermill": {
     "duration": 0.018756,
     "end_time": "2025-07-30T21:45:51.937365",
     "exception": false,
     "start_time": "2025-07-30T21:45:51.918609",
     "status": "completed"
    },
    "tags": []
   },
   "source": [
    "# Preprocessing Data"
   ]
  },
  {
   "cell_type": "code",
   "execution_count": 29,
   "id": "ca879031",
   "metadata": {
    "execution": {
     "iopub.execute_input": "2025-07-30T21:45:51.978890Z",
     "iopub.status.busy": "2025-07-30T21:45:51.978509Z",
     "iopub.status.idle": "2025-07-30T21:45:51.985123Z",
     "shell.execute_reply": "2025-07-30T21:45:51.983909Z"
    },
    "papermill": {
     "duration": 0.031885,
     "end_time": "2025-07-30T21:45:51.987200",
     "exception": false,
     "start_time": "2025-07-30T21:45:51.955315",
     "status": "completed"
    },
    "tags": []
   },
   "outputs": [],
   "source": [
    "# EXCLUDE PROTECTED FEATURES\n",
    "# ----------------------\n",
    "# \"exclude_features\": \"none\", # \"nationality\", \"sex\", \"nationality-sex\"\n",
    "\n",
    "excluded_features = universe[\"exclude_features\"].split(\"-\") # split, e.g.: \"nationality-sex\" -> [\"nationality\", \"sex\"]\n",
    "excluded_features_dictionary = {\n",
    "    \"nationality\": [\"maxdeutsch1\", \"maxdeutsch.Missing.\"],\n",
    "    \"sex\": [\"frau1\"],\n",
    "    \"age\": [\"age\"],\n",
    "}\n"
   ]
  },
  {
   "cell_type": "code",
   "execution_count": 30,
   "id": "b745ac60",
   "metadata": {
    "execution": {
     "iopub.execute_input": "2025-07-30T21:45:52.034593Z",
     "iopub.status.busy": "2025-07-30T21:45:52.033992Z",
     "iopub.status.idle": "2025-07-30T21:45:52.043731Z",
     "shell.execute_reply": "2025-07-30T21:45:52.042863Z"
    },
    "papermill": {
     "duration": 0.03543,
     "end_time": "2025-07-30T21:45:52.046561",
     "exception": false,
     "start_time": "2025-07-30T21:45:52.011131",
     "status": "completed"
    },
    "tags": []
   },
   "outputs": [],
   "source": [
    "# Code nice names to column names\n",
    "\n",
    "excluded_features_columns = [\n",
    "    excluded_features_dictionary[f] for f in excluded_features if len(f) > 0 and f != \"none\"\n",
    "]"
   ]
  },
  {
   "cell_type": "code",
   "execution_count": 31,
   "id": "f84f73a2",
   "metadata": {
    "execution": {
     "iopub.execute_input": "2025-07-30T21:45:52.100437Z",
     "iopub.status.busy": "2025-07-30T21:45:52.099926Z",
     "iopub.status.idle": "2025-07-30T21:45:52.106518Z",
     "shell.execute_reply": "2025-07-30T21:45:52.104659Z"
    },
    "papermill": {
     "duration": 0.026207,
     "end_time": "2025-07-30T21:45:52.108581",
     "exception": false,
     "start_time": "2025-07-30T21:45:52.082374",
     "status": "completed"
    },
    "tags": []
   },
   "outputs": [],
   "source": [
    "from utils import flatten_once\n",
    "\n",
    "excluded_features_columns = flatten_once(excluded_features_columns)"
   ]
  },
  {
   "cell_type": "code",
   "execution_count": 32,
   "id": "884dea22",
   "metadata": {
    "execution": {
     "iopub.execute_input": "2025-07-30T21:45:52.156087Z",
     "iopub.status.busy": "2025-07-30T21:45:52.155664Z",
     "iopub.status.idle": "2025-07-30T21:45:52.163751Z",
     "shell.execute_reply": "2025-07-30T21:45:52.162823Z"
    },
    "papermill": {
     "duration": 0.035911,
     "end_time": "2025-07-30T21:45:52.167798",
     "exception": false,
     "start_time": "2025-07-30T21:45:52.131887",
     "status": "completed"
    },
    "tags": []
   },
   "outputs": [
    {
     "name": "stdout",
     "output_type": "stream",
     "text": [
      "Dropping features: ['maxdeutsch1', 'maxdeutsch.Missing.']\n"
     ]
    }
   ],
   "source": [
    "if len(excluded_features_columns) > 0:\n",
    "    print(f\"Dropping features: {excluded_features_columns}\")\n",
    "    X_train.drop(excluded_features_columns, axis=1, inplace=True)"
   ]
  },
  {
   "cell_type": "code",
   "execution_count": 33,
   "id": "95ab8b16",
   "metadata": {
    "execution": {
     "iopub.execute_input": "2025-07-30T21:45:52.215962Z",
     "iopub.status.busy": "2025-07-30T21:45:52.215590Z",
     "iopub.status.idle": "2025-07-30T21:45:52.273982Z",
     "shell.execute_reply": "2025-07-30T21:45:52.272745Z"
    },
    "papermill": {
     "duration": 0.085522,
     "end_time": "2025-07-30T21:45:52.276492",
     "exception": false,
     "start_time": "2025-07-30T21:45:52.190970",
     "status": "completed"
    },
    "tags": []
   },
   "outputs": [
    {
     "name": "stdout",
     "output_type": "stream",
     "text": [
      "Dropping features: ['maxdeutsch1', 'maxdeutsch.Missing.']\n"
     ]
    }
   ],
   "source": [
    "if len(excluded_features_columns) > 0:\n",
    "    print(f\"Dropping features: {excluded_features_columns}\")\n",
    "    X_test.drop(excluded_features_columns, axis=1, inplace=True)"
   ]
  },
  {
   "cell_type": "code",
   "execution_count": 34,
   "id": "1853aaf5-fb9f-46cb-a2b5-8ea4ae2237e4",
   "metadata": {
    "execution": {
     "iopub.execute_input": "2025-07-30T21:45:52.363594Z",
     "iopub.status.busy": "2025-07-30T21:45:52.363223Z",
     "iopub.status.idle": "2025-07-30T21:45:52.469607Z",
     "shell.execute_reply": "2025-07-30T21:45:52.468631Z"
    },
    "papermill": {
     "duration": 0.132246,
     "end_time": "2025-07-30T21:45:52.471593",
     "exception": false,
     "start_time": "2025-07-30T21:45:52.339347",
     "status": "completed"
    },
    "tags": []
   },
   "outputs": [
    {
     "name": "stdout",
     "output_type": "stream",
     "text": [
      "Dropping features: ['maxdeutsch1', 'maxdeutsch.Missing.']\n"
     ]
    }
   ],
   "source": [
    "if len(excluded_features_columns) > 0:\n",
    "    print(f\"Dropping features: {excluded_features_columns}\")\n",
    "    X_calib.drop(excluded_features_columns, axis=1, inplace=True)"
   ]
  },
  {
   "cell_type": "code",
   "execution_count": 35,
   "id": "6727d079-03e5-481e-9d38-292a90b7a0a8",
   "metadata": {
    "execution": {
     "iopub.execute_input": "2025-07-30T21:45:52.521796Z",
     "iopub.status.busy": "2025-07-30T21:45:52.521360Z",
     "iopub.status.idle": "2025-07-30T21:45:52.526714Z",
     "shell.execute_reply": "2025-07-30T21:45:52.525591Z"
    },
    "papermill": {
     "duration": 0.031876,
     "end_time": "2025-07-30T21:45:52.529665",
     "exception": false,
     "start_time": "2025-07-30T21:45:52.497789",
     "status": "completed"
    },
    "tags": []
   },
   "outputs": [],
   "source": [
    "# SPLIT & STRATIFY DATA\n",
    "# ----------------------"
   ]
  },
  {
   "cell_type": "code",
   "execution_count": 36,
   "id": "76c4dc6d",
   "metadata": {
    "execution": {
     "iopub.execute_input": "2025-07-30T21:45:52.598337Z",
     "iopub.status.busy": "2025-07-30T21:45:52.597889Z",
     "iopub.status.idle": "2025-07-30T21:45:52.607001Z",
     "shell.execute_reply": "2025-07-30T21:45:52.605852Z"
    },
    "papermill": {
     "duration": 0.055414,
     "end_time": "2025-07-30T21:45:52.609929",
     "exception": false,
     "start_time": "2025-07-30T21:45:52.554515",
     "status": "completed"
    },
    "tags": []
   },
   "outputs": [],
   "source": [
    "# EXCLUDE CERTAIN SUBGROUPS\n",
    "# ----------------------\n",
    "\n",
    "mode = universe.get(\"exclude_subgroups\", \"keep-all\") \n",
    "# Fetches the exclude_subgroups setting from the universe dict.\n",
    "# Defaults to \"keep-all\" if the key is missing."
   ]
  },
  {
   "cell_type": "code",
   "execution_count": 37,
   "id": "21994072",
   "metadata": {
    "execution": {
     "iopub.execute_input": "2025-07-30T21:45:52.668237Z",
     "iopub.status.busy": "2025-07-30T21:45:52.667745Z",
     "iopub.status.idle": "2025-07-30T21:45:52.676497Z",
     "shell.execute_reply": "2025-07-30T21:45:52.675001Z"
    },
    "papermill": {
     "duration": 0.044701,
     "end_time": "2025-07-30T21:45:52.678581",
     "exception": false,
     "start_time": "2025-07-30T21:45:52.633880",
     "status": "completed"
    },
    "tags": []
   },
   "outputs": [],
   "source": [
    "if mode == \"keep-all\":\n",
    "    keep_mask = pd.Series(True, index=org_train.index)\n",
    "\n",
    "# org_train contains the original feature columns from features_org (in Simson)\n",
    "# features_org contains unprocessed features, for me X_train at beginning ???\n",
    "# For keep-all, creates a boolean Series (keep_mask) of all True, so no rows are removed.\n",
    "\n",
    "elif mode == \"drop-non-german\":\n",
    "    keep_mask = org_train[\"maxdeutsch1\"] == 1 # ??? what about missing values?\n",
    "\n",
    "else:\n",
    "    raise ValueError(f\"Unsupported mode for exclude_subgroups: {mode}\")\n"
   ]
  },
  {
   "cell_type": "code",
   "execution_count": 38,
   "id": "71651440",
   "metadata": {
    "execution": {
     "iopub.execute_input": "2025-07-30T21:45:52.736026Z",
     "iopub.status.busy": "2025-07-30T21:45:52.735632Z",
     "iopub.status.idle": "2025-07-30T21:45:52.741761Z",
     "shell.execute_reply": "2025-07-30T21:45:52.740762Z"
    },
    "papermill": {
     "duration": 0.031797,
     "end_time": "2025-07-30T21:45:52.744879",
     "exception": false,
     "start_time": "2025-07-30T21:45:52.713082",
     "status": "completed"
    },
    "tags": []
   },
   "outputs": [],
   "source": [
    "n_drop = (~keep_mask).sum() # Calculates how many rows are set to be dropped\n",
    "if n_drop > 0:\n",
    "    pct = n_drop / len(keep_mask) * 100\n",
    "    print(f\"Dropping {n_drop} rows ({pct:.2f}%) where mode='{mode}'\")"
   ]
  },
  {
   "cell_type": "code",
   "execution_count": 39,
   "id": "5fb8eee5",
   "metadata": {
    "execution": {
     "iopub.execute_input": "2025-07-30T21:45:52.814445Z",
     "iopub.status.busy": "2025-07-30T21:45:52.814071Z",
     "iopub.status.idle": "2025-07-30T21:45:52.821206Z",
     "shell.execute_reply": "2025-07-30T21:45:52.820223Z"
    },
    "papermill": {
     "duration": 0.053888,
     "end_time": "2025-07-30T21:45:52.823111",
     "exception": false,
     "start_time": "2025-07-30T21:45:52.769223",
     "status": "completed"
    },
    "tags": []
   },
   "outputs": [],
   "source": [
    "X_train = X_train[keep_mask]"
   ]
  },
  {
   "cell_type": "code",
   "execution_count": 40,
   "id": "b202bb3a",
   "metadata": {
    "execution": {
     "iopub.execute_input": "2025-07-30T21:45:52.882971Z",
     "iopub.status.busy": "2025-07-30T21:45:52.882546Z",
     "iopub.status.idle": "2025-07-30T21:45:52.889343Z",
     "shell.execute_reply": "2025-07-30T21:45:52.888512Z"
    },
    "papermill": {
     "duration": 0.046111,
     "end_time": "2025-07-30T21:45:52.891427",
     "exception": false,
     "start_time": "2025-07-30T21:45:52.845316",
     "status": "completed"
    },
    "tags": []
   },
   "outputs": [],
   "source": [
    "y_train = y_train[keep_mask]"
   ]
  },
  {
   "cell_type": "markdown",
   "id": "493e2ac3",
   "metadata": {
    "papermill": {
     "duration": 0.02025,
     "end_time": "2025-07-30T21:45:52.948150",
     "exception": false,
     "start_time": "2025-07-30T21:45:52.927900",
     "status": "completed"
    },
    "tags": []
   },
   "source": [
    "# Model Training"
   ]
  },
  {
   "cell_type": "code",
   "execution_count": 41,
   "id": "679e1268",
   "metadata": {
    "execution": {
     "iopub.execute_input": "2025-07-30T21:45:53.003064Z",
     "iopub.status.busy": "2025-07-30T21:45:53.002610Z",
     "iopub.status.idle": "2025-07-30T21:45:53.218389Z",
     "shell.execute_reply": "2025-07-30T21:45:53.217253Z"
    },
    "papermill": {
     "duration": 0.250921,
     "end_time": "2025-07-30T21:45:53.220431",
     "exception": false,
     "start_time": "2025-07-30T21:45:52.969510",
     "status": "completed"
    },
    "tags": []
   },
   "outputs": [],
   "source": [
    "from sklearn.linear_model import LogisticRegression\n",
    "from sklearn.ensemble import GradientBoostingClassifier, RandomForestClassifier\n",
    "\n",
    "if (universe[\"model\"] == \"logreg\"):\n",
    "    model = LogisticRegression() #penalty=\"none\") #, solver=\"newton-cg\", max_iter=1) # include random_state=19 ?\n",
    "elif (universe[\"model\"] == \"penalized_logreg\"):\n",
    "    model = LogisticRegression(penalty=\"l2\", C=1.0) #, solver=\"newton-cg\", max_iter=1)\n",
    "elif (universe[\"model\"] == \"rf\"):\n",
    "    model = RandomForestClassifier(n_estimators=100, n_jobs=-1)\n",
    "elif (universe[\"model\"] == \"gbm\"):\n",
    "    model = GradientBoostingClassifier()\n",
    "elif (universe[\"model\"] == \"elasticnet\"):\n",
    "    model = LogisticRegression(penalty = 'elasticnet', solver = 'saga', l1_ratio = 0.5, max_iter=5000) # which solver to use?\n",
    "else:\n",
    "    raise \"Unsupported universe.model\""
   ]
  },
  {
   "cell_type": "code",
   "execution_count": 42,
   "id": "0cc8f744",
   "metadata": {
    "execution": {
     "iopub.execute_input": "2025-07-30T21:45:53.291413Z",
     "iopub.status.busy": "2025-07-30T21:45:53.290914Z",
     "iopub.status.idle": "2025-07-30T21:45:53.298665Z",
     "shell.execute_reply": "2025-07-30T21:45:53.297779Z"
    },
    "papermill": {
     "duration": 0.040135,
     "end_time": "2025-07-30T21:45:53.300340",
     "exception": false,
     "start_time": "2025-07-30T21:45:53.260205",
     "status": "completed"
    },
    "tags": []
   },
   "outputs": [],
   "source": [
    "import numpy as np\n",
    "from sklearn.pipeline import Pipeline\n",
    "from sklearn.preprocessing import StandardScaler\n",
    "\n",
    "model = Pipeline([\n",
    "    #(\"continuous_processor\", continuous_processor),\n",
    "    #(\"categorical_preprocessor\", categorical_preprocessor),\n",
    "    (\"scale\", StandardScaler() if universe[\"scale\"] == \"scale\" else None), \n",
    "    (\"model\", model),\n",
    "])"
   ]
  },
  {
   "cell_type": "code",
   "execution_count": 43,
   "id": "9442c04d",
   "metadata": {
    "execution": {
     "iopub.execute_input": "2025-07-30T21:45:53.366922Z",
     "iopub.status.busy": "2025-07-30T21:45:53.366543Z",
     "iopub.status.idle": "2025-07-30T21:45:53.968554Z",
     "shell.execute_reply": "2025-07-30T21:45:53.967443Z"
    },
    "papermill": {
     "duration": 0.630404,
     "end_time": "2025-07-30T21:45:53.970733",
     "exception": false,
     "start_time": "2025-07-30T21:45:53.340329",
     "status": "completed"
    },
    "tags": []
   },
   "outputs": [
    {
     "data": {
      "text/html": [
       "<style>#sk-container-id-1 {color: black;background-color: white;}#sk-container-id-1 pre{padding: 0;}#sk-container-id-1 div.sk-toggleable {background-color: white;}#sk-container-id-1 label.sk-toggleable__label {cursor: pointer;display: block;width: 100%;margin-bottom: 0;padding: 0.3em;box-sizing: border-box;text-align: center;}#sk-container-id-1 label.sk-toggleable__label-arrow:before {content: \"▸\";float: left;margin-right: 0.25em;color: #696969;}#sk-container-id-1 label.sk-toggleable__label-arrow:hover:before {color: black;}#sk-container-id-1 div.sk-estimator:hover label.sk-toggleable__label-arrow:before {color: black;}#sk-container-id-1 div.sk-toggleable__content {max-height: 0;max-width: 0;overflow: hidden;text-align: left;background-color: #f0f8ff;}#sk-container-id-1 div.sk-toggleable__content pre {margin: 0.2em;color: black;border-radius: 0.25em;background-color: #f0f8ff;}#sk-container-id-1 input.sk-toggleable__control:checked~div.sk-toggleable__content {max-height: 200px;max-width: 100%;overflow: auto;}#sk-container-id-1 input.sk-toggleable__control:checked~label.sk-toggleable__label-arrow:before {content: \"▾\";}#sk-container-id-1 div.sk-estimator input.sk-toggleable__control:checked~label.sk-toggleable__label {background-color: #d4ebff;}#sk-container-id-1 div.sk-label input.sk-toggleable__control:checked~label.sk-toggleable__label {background-color: #d4ebff;}#sk-container-id-1 input.sk-hidden--visually {border: 0;clip: rect(1px 1px 1px 1px);clip: rect(1px, 1px, 1px, 1px);height: 1px;margin: -1px;overflow: hidden;padding: 0;position: absolute;width: 1px;}#sk-container-id-1 div.sk-estimator {font-family: monospace;background-color: #f0f8ff;border: 1px dotted black;border-radius: 0.25em;box-sizing: border-box;margin-bottom: 0.5em;}#sk-container-id-1 div.sk-estimator:hover {background-color: #d4ebff;}#sk-container-id-1 div.sk-parallel-item::after {content: \"\";width: 100%;border-bottom: 1px solid gray;flex-grow: 1;}#sk-container-id-1 div.sk-label:hover label.sk-toggleable__label {background-color: #d4ebff;}#sk-container-id-1 div.sk-serial::before {content: \"\";position: absolute;border-left: 1px solid gray;box-sizing: border-box;top: 0;bottom: 0;left: 50%;z-index: 0;}#sk-container-id-1 div.sk-serial {display: flex;flex-direction: column;align-items: center;background-color: white;padding-right: 0.2em;padding-left: 0.2em;position: relative;}#sk-container-id-1 div.sk-item {position: relative;z-index: 1;}#sk-container-id-1 div.sk-parallel {display: flex;align-items: stretch;justify-content: center;background-color: white;position: relative;}#sk-container-id-1 div.sk-item::before, #sk-container-id-1 div.sk-parallel-item::before {content: \"\";position: absolute;border-left: 1px solid gray;box-sizing: border-box;top: 0;bottom: 0;left: 50%;z-index: -1;}#sk-container-id-1 div.sk-parallel-item {display: flex;flex-direction: column;z-index: 1;position: relative;background-color: white;}#sk-container-id-1 div.sk-parallel-item:first-child::after {align-self: flex-end;width: 50%;}#sk-container-id-1 div.sk-parallel-item:last-child::after {align-self: flex-start;width: 50%;}#sk-container-id-1 div.sk-parallel-item:only-child::after {width: 0;}#sk-container-id-1 div.sk-dashed-wrapped {border: 1px dashed gray;margin: 0 0.4em 0.5em 0.4em;box-sizing: border-box;padding-bottom: 0.4em;background-color: white;}#sk-container-id-1 div.sk-label label {font-family: monospace;font-weight: bold;display: inline-block;line-height: 1.2em;}#sk-container-id-1 div.sk-label-container {text-align: center;}#sk-container-id-1 div.sk-container {/* jupyter's `normalize.less` sets `[hidden] { display: none; }` but bootstrap.min.css set `[hidden] { display: none !important; }` so we also need the `!important` here to be able to override the default hidden behavior on the sphinx rendered scikit-learn.org. See: https://github.com/scikit-learn/scikit-learn/issues/21755 */display: inline-block !important;position: relative;}#sk-container-id-1 div.sk-text-repr-fallback {display: none;}</style><div id=\"sk-container-id-1\" class=\"sk-top-container\"><div class=\"sk-text-repr-fallback\"><pre>Pipeline(steps=[(&#x27;scale&#x27;, StandardScaler()),\n",
       "                (&#x27;model&#x27;, RandomForestClassifier(n_jobs=-1))])</pre><b>In a Jupyter environment, please rerun this cell to show the HTML representation or trust the notebook. <br />On GitHub, the HTML representation is unable to render, please try loading this page with nbviewer.org.</b></div><div class=\"sk-container\" hidden><div class=\"sk-item sk-dashed-wrapped\"><div class=\"sk-label-container\"><div class=\"sk-label sk-toggleable\"><input class=\"sk-toggleable__control sk-hidden--visually\" id=\"sk-estimator-id-1\" type=\"checkbox\" ><label for=\"sk-estimator-id-1\" class=\"sk-toggleable__label sk-toggleable__label-arrow\">Pipeline</label><div class=\"sk-toggleable__content\"><pre>Pipeline(steps=[(&#x27;scale&#x27;, StandardScaler()),\n",
       "                (&#x27;model&#x27;, RandomForestClassifier(n_jobs=-1))])</pre></div></div></div><div class=\"sk-serial\"><div class=\"sk-item\"><div class=\"sk-estimator sk-toggleable\"><input class=\"sk-toggleable__control sk-hidden--visually\" id=\"sk-estimator-id-2\" type=\"checkbox\" ><label for=\"sk-estimator-id-2\" class=\"sk-toggleable__label sk-toggleable__label-arrow\">StandardScaler</label><div class=\"sk-toggleable__content\"><pre>StandardScaler()</pre></div></div></div><div class=\"sk-item\"><div class=\"sk-estimator sk-toggleable\"><input class=\"sk-toggleable__control sk-hidden--visually\" id=\"sk-estimator-id-3\" type=\"checkbox\" ><label for=\"sk-estimator-id-3\" class=\"sk-toggleable__label sk-toggleable__label-arrow\">RandomForestClassifier</label><div class=\"sk-toggleable__content\"><pre>RandomForestClassifier(n_jobs=-1)</pre></div></div></div></div></div></div></div>"
      ],
      "text/plain": [
       "Pipeline(steps=[('scale', StandardScaler()),\n",
       "                ('model', RandomForestClassifier(n_jobs=-1))])"
      ]
     },
     "execution_count": 43,
     "metadata": {},
     "output_type": "execute_result"
    }
   ],
   "source": [
    "model.fit(X_train, y_train.values.ravel())"
   ]
  },
  {
   "cell_type": "code",
   "execution_count": 44,
   "id": "af59f8c0",
   "metadata": {
    "execution": {
     "iopub.execute_input": "2025-07-30T21:45:54.024629Z",
     "iopub.status.busy": "2025-07-30T21:45:54.024146Z",
     "iopub.status.idle": "2025-07-30T21:45:54.029915Z",
     "shell.execute_reply": "2025-07-30T21:45:54.028937Z"
    },
    "papermill": {
     "duration": 0.030866,
     "end_time": "2025-07-30T21:45:54.031671",
     "exception": false,
     "start_time": "2025-07-30T21:45:54.000805",
     "status": "completed"
    },
    "tags": []
   },
   "outputs": [],
   "source": [
    "from fairness_multiverse.universe import predict_w_threshold"
   ]
  },
  {
   "cell_type": "code",
   "execution_count": 45,
   "id": "a7cf2e16",
   "metadata": {
    "execution": {
     "iopub.execute_input": "2025-07-30T21:45:54.087757Z",
     "iopub.status.busy": "2025-07-30T21:45:54.087259Z",
     "iopub.status.idle": "2025-07-30T21:45:55.025960Z",
     "shell.execute_reply": "2025-07-30T21:45:55.024681Z"
    },
    "papermill": {
     "duration": 0.968534,
     "end_time": "2025-07-30T21:45:55.027619",
     "exception": false,
     "start_time": "2025-07-30T21:45:54.059085",
     "status": "completed"
    },
    "tags": []
   },
   "outputs": [
    {
     "data": {
      "text/plain": [
       "0.8621781295284806"
      ]
     },
     "execution_count": 45,
     "metadata": {},
     "output_type": "execute_result"
    }
   ],
   "source": [
    "probs_test = model.predict_proba(X_test)\n",
    "\n",
    "'''\n",
    "Below code returns a boolean array (or binary 0/1 array depending on how it’s used) where each element \n",
    "is True if the probability of class 1 is greater than or equal to the threshold, and False otherwise.\n",
    "'''\n",
    "y_pred_default = predict_w_threshold(probs_test, 0.5)\n",
    "\n",
    "from sklearn.metrics import accuracy_score\n",
    "\n",
    "# Naive prediction\n",
    "accuracy_score(y_true = y_true, y_pred = y_pred_default)"
   ]
  },
  {
   "cell_type": "code",
   "execution_count": 46,
   "id": "081964c3",
   "metadata": {
    "execution": {
     "iopub.execute_input": "2025-07-30T21:45:55.112195Z",
     "iopub.status.busy": "2025-07-30T21:45:55.111663Z",
     "iopub.status.idle": "2025-07-30T21:45:56.010017Z",
     "shell.execute_reply": "2025-07-30T21:45:56.008997Z"
    },
    "papermill": {
     "duration": 0.92844,
     "end_time": "2025-07-30T21:45:56.011950",
     "exception": false,
     "start_time": "2025-07-30T21:45:55.083510",
     "status": "completed"
    },
    "tags": []
   },
   "outputs": [
    {
     "data": {
      "text/plain": [
       "array([0, 0, 0, ..., 0, 0, 0])"
      ]
     },
     "execution_count": 46,
     "metadata": {},
     "output_type": "execute_result"
    }
   ],
   "source": [
    "model.predict(X_test)"
   ]
  },
  {
   "cell_type": "markdown",
   "id": "56c9705b",
   "metadata": {
    "papermill": {
     "duration": 0.037255,
     "end_time": "2025-07-30T21:45:56.081853",
     "exception": false,
     "start_time": "2025-07-30T21:45:56.044598",
     "status": "completed"
    },
    "tags": []
   },
   "source": [
    "# Conformal Prediction"
   ]
  },
  {
   "cell_type": "code",
   "execution_count": 47,
   "id": "160ec6ff",
   "metadata": {
    "execution": {
     "iopub.execute_input": "2025-07-30T21:45:56.138915Z",
     "iopub.status.busy": "2025-07-30T21:45:56.138220Z",
     "iopub.status.idle": "2025-07-30T21:45:56.144162Z",
     "shell.execute_reply": "2025-07-30T21:45:56.142720Z"
    },
    "papermill": {
     "duration": 0.035645,
     "end_time": "2025-07-30T21:45:56.148382",
     "exception": false,
     "start_time": "2025-07-30T21:45:56.112737",
     "status": "completed"
    },
    "tags": []
   },
   "outputs": [],
   "source": [
    "# Miscoverage level for conformal prediction (10% allowed error rate => 90% target coverage)\n",
    "alpha = 0.1"
   ]
  },
  {
   "cell_type": "code",
   "execution_count": 48,
   "id": "eadf4555-3dd3-440e-8e35-f82a4ad9f855",
   "metadata": {
    "execution": {
     "iopub.execute_input": "2025-07-30T21:45:56.258498Z",
     "iopub.status.busy": "2025-07-30T21:45:56.258149Z",
     "iopub.status.idle": "2025-07-30T21:45:57.180120Z",
     "shell.execute_reply": "2025-07-30T21:45:57.179329Z"
    },
    "papermill": {
     "duration": 0.97458,
     "end_time": "2025-07-30T21:45:57.181577",
     "exception": false,
     "start_time": "2025-07-30T21:45:56.206997",
     "status": "completed"
    },
    "tags": []
   },
   "outputs": [],
   "source": [
    "probs_calib = model.predict_proba(X_calib)"
   ]
  },
  {
   "cell_type": "code",
   "execution_count": 49,
   "id": "2ed93547-6d5d-4983-9b36-1ecb300da49a",
   "metadata": {
    "execution": {
     "iopub.execute_input": "2025-07-30T21:45:57.228758Z",
     "iopub.status.busy": "2025-07-30T21:45:57.227967Z",
     "iopub.status.idle": "2025-07-30T21:45:57.234247Z",
     "shell.execute_reply": "2025-07-30T21:45:57.233436Z"
    },
    "papermill": {
     "duration": 0.032353,
     "end_time": "2025-07-30T21:45:57.235805",
     "exception": false,
     "start_time": "2025-07-30T21:45:57.203452",
     "status": "completed"
    },
    "tags": []
   },
   "outputs": [],
   "source": [
    "y_calib = y_calib.values.ravel().astype(int)"
   ]
  },
  {
   "cell_type": "code",
   "execution_count": 50,
   "id": "65d1320d-f588-4b38-9072-62af1ae97f7d",
   "metadata": {
    "execution": {
     "iopub.execute_input": "2025-07-30T21:45:57.287786Z",
     "iopub.status.busy": "2025-07-30T21:45:57.287337Z",
     "iopub.status.idle": "2025-07-30T21:45:57.293801Z",
     "shell.execute_reply": "2025-07-30T21:45:57.293004Z"
    },
    "papermill": {
     "duration": 0.03362,
     "end_time": "2025-07-30T21:45:57.295277",
     "exception": false,
     "start_time": "2025-07-30T21:45:57.261657",
     "status": "completed"
    },
    "tags": []
   },
   "outputs": [],
   "source": [
    "from fairness_multiverse.conformal import compute_nc_scores\n",
    "\n",
    "# Compute nonconformity scores on calibration set (1 - probability of true class)\n",
    "nc_scores = compute_nc_scores(probs_calib, y_calib)"
   ]
  },
  {
   "cell_type": "code",
   "execution_count": 51,
   "id": "df3b8ca3-53b7-43d5-9667-7c85da7aeda2",
   "metadata": {
    "execution": {
     "iopub.execute_input": "2025-07-30T21:45:57.348550Z",
     "iopub.status.busy": "2025-07-30T21:45:57.347807Z",
     "iopub.status.idle": "2025-07-30T21:45:57.355774Z",
     "shell.execute_reply": "2025-07-30T21:45:57.354599Z"
    },
    "papermill": {
     "duration": 0.037832,
     "end_time": "2025-07-30T21:45:57.357586",
     "exception": false,
     "start_time": "2025-07-30T21:45:57.319754",
     "status": "completed"
    },
    "tags": []
   },
   "outputs": [],
   "source": [
    "from fairness_multiverse.conformal import find_threshold\n",
    "\n",
    "# Find conformal threshold q_hat for the given alpha (split conformal method)\n",
    "q_hat = find_threshold(nc_scores, alpha)"
   ]
  },
  {
   "cell_type": "code",
   "execution_count": 52,
   "id": "4d29e6c1-0ef6-4aa4-b8fe-4fe79b0d033a",
   "metadata": {
    "execution": {
     "iopub.execute_input": "2025-07-30T21:45:57.408723Z",
     "iopub.status.busy": "2025-07-30T21:45:57.408192Z",
     "iopub.status.idle": "2025-07-30T21:45:57.416231Z",
     "shell.execute_reply": "2025-07-30T21:45:57.415198Z"
    },
    "papermill": {
     "duration": 0.034938,
     "end_time": "2025-07-30T21:45:57.418009",
     "exception": false,
     "start_time": "2025-07-30T21:45:57.383071",
     "status": "completed"
    },
    "tags": []
   },
   "outputs": [
    {
     "data": {
      "text/plain": [
       "0.65"
      ]
     },
     "execution_count": 52,
     "metadata": {},
     "output_type": "execute_result"
    }
   ],
   "source": [
    "q_hat"
   ]
  },
  {
   "cell_type": "code",
   "execution_count": 53,
   "id": "92460794-cdac-4be2-ba28-f28c0515a6fb",
   "metadata": {
    "execution": {
     "iopub.execute_input": "2025-07-30T21:45:57.472681Z",
     "iopub.status.busy": "2025-07-30T21:45:57.471706Z",
     "iopub.status.idle": "2025-07-30T21:45:58.965431Z",
     "shell.execute_reply": "2025-07-30T21:45:58.964218Z"
    },
    "papermill": {
     "duration": 1.522376,
     "end_time": "2025-07-30T21:45:58.967681",
     "exception": false,
     "start_time": "2025-07-30T21:45:57.445305",
     "status": "completed"
    },
    "tags": []
   },
   "outputs": [],
   "source": [
    "from fairness_multiverse.conformal import predict_conformal_sets\n",
    "\n",
    "# Generate prediction sets for each test example\n",
    "pred_sets = predict_conformal_sets(model, X_test, q_hat)"
   ]
  },
  {
   "cell_type": "code",
   "execution_count": 54,
   "id": "d90c9a65-e6db-4f5d-80cd-e68fb7e46829",
   "metadata": {
    "execution": {
     "iopub.execute_input": "2025-07-30T21:45:59.020554Z",
     "iopub.status.busy": "2025-07-30T21:45:59.019808Z",
     "iopub.status.idle": "2025-07-30T21:45:59.027050Z",
     "shell.execute_reply": "2025-07-30T21:45:59.025846Z"
    },
    "papermill": {
     "duration": 0.03534,
     "end_time": "2025-07-30T21:45:59.029382",
     "exception": false,
     "start_time": "2025-07-30T21:45:58.994042",
     "status": "completed"
    },
    "tags": []
   },
   "outputs": [],
   "source": [
    "y_true = y_true.squeeze()"
   ]
  },
  {
   "cell_type": "code",
   "execution_count": 55,
   "id": "3a58a54a-1e68-46b9-927a-df01f18aebc8",
   "metadata": {
    "execution": {
     "iopub.execute_input": "2025-07-30T21:45:59.103965Z",
     "iopub.status.busy": "2025-07-30T21:45:59.103548Z",
     "iopub.status.idle": "2025-07-30T21:45:59.999008Z",
     "shell.execute_reply": "2025-07-30T21:45:59.998109Z"
    },
    "papermill": {
     "duration": 0.936134,
     "end_time": "2025-07-30T21:46:00.000778",
     "exception": false,
     "start_time": "2025-07-30T21:45:59.064644",
     "status": "completed"
    },
    "tags": []
   },
   "outputs": [],
   "source": [
    "from fairness_multiverse.conformal import evaluate_sets\n",
    "\n",
    "# Evaluate coverage and average set size on test data\n",
    "metrics = evaluate_sets(pred_sets, y_true)"
   ]
  },
  {
   "cell_type": "markdown",
   "id": "2b569c12-9aaa-4c88-98c9-bbcd0cf3ebb8",
   "metadata": {
    "papermill": {
     "duration": 0.057034,
     "end_time": "2025-07-30T21:46:00.097782",
     "exception": false,
     "start_time": "2025-07-30T21:46:00.040748",
     "status": "completed"
    },
    "tags": []
   },
   "source": [
    "# CP Metrics"
   ]
  },
  {
   "cell_type": "code",
   "execution_count": 56,
   "id": "5ce0a5cb-201f-45a0-ade5-94c7f0bd6095",
   "metadata": {
    "execution": {
     "iopub.execute_input": "2025-07-30T21:46:00.176354Z",
     "iopub.status.busy": "2025-07-30T21:46:00.175928Z",
     "iopub.status.idle": "2025-07-30T21:46:00.182920Z",
     "shell.execute_reply": "2025-07-30T21:46:00.181775Z"
    },
    "papermill": {
     "duration": 0.046566,
     "end_time": "2025-07-30T21:46:00.185021",
     "exception": false,
     "start_time": "2025-07-30T21:46:00.138455",
     "status": "completed"
    },
    "tags": []
   },
   "outputs": [
    {
     "data": {
      "text/plain": [
       "{'coverage': 0.9129194069780403, 'avg_size': 1.1497268977817412}"
      ]
     },
     "execution_count": 56,
     "metadata": {},
     "output_type": "execute_result"
    }
   ],
   "source": [
    "metrics"
   ]
  },
  {
   "cell_type": "code",
   "execution_count": 57,
   "id": "9b9a838d-31c9-430b-ae14-12baee460d17",
   "metadata": {
    "execution": {
     "iopub.execute_input": "2025-07-30T21:46:00.261476Z",
     "iopub.status.busy": "2025-07-30T21:46:00.260971Z",
     "iopub.status.idle": "2025-07-30T21:46:00.268397Z",
     "shell.execute_reply": "2025-07-30T21:46:00.267185Z"
    },
    "papermill": {
     "duration": 0.038042,
     "end_time": "2025-07-30T21:46:00.270520",
     "exception": false,
     "start_time": "2025-07-30T21:46:00.232478",
     "status": "completed"
    },
    "tags": []
   },
   "outputs": [],
   "source": [
    "example_universe = universe.copy()\n",
    "universe_training_year = example_universe.get(\"training_year\")\n",
    "universe_training_size = example_universe.get(\"training_size\")\n",
    "universe_scale = example_universe.get(\"scale\")\n",
    "universe_model = example_universe.get(\"model\")\n",
    "universe_exclude_features = example_universe.get(\"exclude_features\")\n",
    "universe_exclude_subgroups = example_universe.get(\"exclude_subgroups\")"
   ]
  },
  {
   "cell_type": "code",
   "execution_count": 58,
   "id": "f4b6a8ac-9dc0-4245-8a91-5b3b5999c4f9",
   "metadata": {
    "execution": {
     "iopub.execute_input": "2025-07-30T21:46:00.328845Z",
     "iopub.status.busy": "2025-07-30T21:46:00.328364Z",
     "iopub.status.idle": "2025-07-30T21:46:00.335937Z",
     "shell.execute_reply": "2025-07-30T21:46:00.334830Z"
    },
    "papermill": {
     "duration": 0.047057,
     "end_time": "2025-07-30T21:46:00.346170",
     "exception": false,
     "start_time": "2025-07-30T21:46:00.299113",
     "status": "completed"
    },
    "tags": []
   },
   "outputs": [],
   "source": [
    "cp_metrics_dict = {\n",
    "    \"universe_id\": [universe_id],\n",
    "    \"universe_training_year\": [universe_training_year],\n",
    "    \"universe_training_size\": [universe_training_size],\n",
    "    \"universe_scale\": [universe_scale],\n",
    "    \"universe_model\": [universe_model],\n",
    "    \"universe_exclude_features\": [universe_exclude_features],\n",
    "    \"universe_exclude_subgroups\": [universe_exclude_subgroups],\n",
    "    \"q_hat\": [q_hat],\n",
    "    \"coverage\": [metrics[\"coverage\"]],\n",
    "    \"avg_size\": [metrics[\"avg_size\"]],\n",
    "}"
   ]
  },
  {
   "cell_type": "code",
   "execution_count": 59,
   "id": "908acbb1-0371-4915-85ca-3fa520d2efe2",
   "metadata": {
    "execution": {
     "iopub.execute_input": "2025-07-30T21:46:00.423571Z",
     "iopub.status.busy": "2025-07-30T21:46:00.423223Z",
     "iopub.status.idle": "2025-07-30T21:46:00.429664Z",
     "shell.execute_reply": "2025-07-30T21:46:00.428856Z"
    },
    "papermill": {
     "duration": 0.047697,
     "end_time": "2025-07-30T21:46:00.433246",
     "exception": false,
     "start_time": "2025-07-30T21:46:00.385549",
     "status": "completed"
    },
    "tags": []
   },
   "outputs": [
    {
     "data": {
      "text/plain": [
       "{'universe_id': ['88a1f8deb0ac84cebfc0fdab39b1b919'],\n",
       " 'universe_training_year': ['2010_14'],\n",
       " 'universe_training_size': ['1k'],\n",
       " 'universe_scale': ['scale'],\n",
       " 'universe_model': ['rf'],\n",
       " 'universe_exclude_features': ['nationality'],\n",
       " 'universe_exclude_subgroups': ['keep-all'],\n",
       " 'q_hat': [0.65],\n",
       " 'coverage': [0.9129194069780403],\n",
       " 'avg_size': [1.1497268977817412]}"
      ]
     },
     "execution_count": 59,
     "metadata": {},
     "output_type": "execute_result"
    }
   ],
   "source": [
    "cp_metrics_dict"
   ]
  },
  {
   "cell_type": "code",
   "execution_count": 60,
   "id": "33007efc-14e9-4ec6-97ac-56a455c82265",
   "metadata": {
    "execution": {
     "iopub.execute_input": "2025-07-30T21:46:00.486696Z",
     "iopub.status.busy": "2025-07-30T21:46:00.486345Z",
     "iopub.status.idle": "2025-07-30T21:46:00.491893Z",
     "shell.execute_reply": "2025-07-30T21:46:00.491135Z"
    },
    "papermill": {
     "duration": 0.032081,
     "end_time": "2025-07-30T21:46:00.493349",
     "exception": false,
     "start_time": "2025-07-30T21:46:00.461268",
     "status": "completed"
    },
    "tags": []
   },
   "outputs": [],
   "source": [
    "cp_metrics_df = pd.DataFrame(cp_metrics_dict)"
   ]
  },
  {
   "cell_type": "code",
   "execution_count": 61,
   "id": "db12611b-57b2-4910-b9d0-355adfd6e7bf",
   "metadata": {
    "execution": {
     "iopub.execute_input": "2025-07-30T21:46:00.524229Z",
     "iopub.status.busy": "2025-07-30T21:46:00.523848Z",
     "iopub.status.idle": "2025-07-30T21:46:00.539279Z",
     "shell.execute_reply": "2025-07-30T21:46:00.538455Z"
    },
    "papermill": {
     "duration": 0.032324,
     "end_time": "2025-07-30T21:46:00.540755",
     "exception": false,
     "start_time": "2025-07-30T21:46:00.508431",
     "status": "completed"
    },
    "tags": []
   },
   "outputs": [
    {
     "data": {
      "text/html": [
       "<div>\n",
       "<style scoped>\n",
       "    .dataframe tbody tr th:only-of-type {\n",
       "        vertical-align: middle;\n",
       "    }\n",
       "\n",
       "    .dataframe tbody tr th {\n",
       "        vertical-align: top;\n",
       "    }\n",
       "\n",
       "    .dataframe thead th {\n",
       "        text-align: right;\n",
       "    }\n",
       "</style>\n",
       "<table border=\"1\" class=\"dataframe\">\n",
       "  <thead>\n",
       "    <tr style=\"text-align: right;\">\n",
       "      <th></th>\n",
       "      <th>universe_id</th>\n",
       "      <th>universe_training_year</th>\n",
       "      <th>universe_training_size</th>\n",
       "      <th>universe_scale</th>\n",
       "      <th>universe_model</th>\n",
       "      <th>universe_exclude_features</th>\n",
       "      <th>universe_exclude_subgroups</th>\n",
       "      <th>q_hat</th>\n",
       "      <th>coverage</th>\n",
       "      <th>avg_size</th>\n",
       "    </tr>\n",
       "  </thead>\n",
       "  <tbody>\n",
       "    <tr>\n",
       "      <th>0</th>\n",
       "      <td>88a1f8deb0ac84cebfc0fdab39b1b919</td>\n",
       "      <td>2010_14</td>\n",
       "      <td>1k</td>\n",
       "      <td>scale</td>\n",
       "      <td>rf</td>\n",
       "      <td>nationality</td>\n",
       "      <td>keep-all</td>\n",
       "      <td>0.65</td>\n",
       "      <td>0.912919</td>\n",
       "      <td>1.149727</td>\n",
       "    </tr>\n",
       "  </tbody>\n",
       "</table>\n",
       "</div>"
      ],
      "text/plain": [
       "                        universe_id universe_training_year  \\\n",
       "0  88a1f8deb0ac84cebfc0fdab39b1b919                2010_14   \n",
       "\n",
       "  universe_training_size universe_scale universe_model  \\\n",
       "0                     1k          scale             rf   \n",
       "\n",
       "  universe_exclude_features universe_exclude_subgroups  q_hat  coverage  \\\n",
       "0               nationality                   keep-all   0.65  0.912919   \n",
       "\n",
       "   avg_size  \n",
       "0  1.149727  "
      ]
     },
     "execution_count": 61,
     "metadata": {},
     "output_type": "execute_result"
    }
   ],
   "source": [
    "cp_metrics_df"
   ]
  },
  {
   "cell_type": "code",
   "execution_count": 62,
   "id": "b7fbde55-a0a1-47e4-9af6-fe4a17fa8c61",
   "metadata": {
    "execution": {
     "iopub.execute_input": "2025-07-30T21:46:00.573211Z",
     "iopub.status.busy": "2025-07-30T21:46:00.572709Z",
     "iopub.status.idle": "2025-07-30T21:46:00.577689Z",
     "shell.execute_reply": "2025-07-30T21:46:00.576857Z"
    },
    "papermill": {
     "duration": 0.021995,
     "end_time": "2025-07-30T21:46:00.579145",
     "exception": false,
     "start_time": "2025-07-30T21:46:00.557150",
     "status": "completed"
    },
    "tags": []
   },
   "outputs": [],
   "source": [
    "# Conditional Coverage & looking at subgroups"
   ]
  },
  {
   "cell_type": "code",
   "execution_count": 63,
   "id": "027ae886-68dd-4141-96c7-805a5450e1ef",
   "metadata": {
    "execution": {
     "iopub.execute_input": "2025-07-30T21:46:00.610275Z",
     "iopub.status.busy": "2025-07-30T21:46:00.609917Z",
     "iopub.status.idle": "2025-07-30T21:46:00.995274Z",
     "shell.execute_reply": "2025-07-30T21:46:00.994051Z"
    },
    "papermill": {
     "duration": 0.402582,
     "end_time": "2025-07-30T21:46:00.997258",
     "exception": false,
     "start_time": "2025-07-30T21:46:00.594676",
     "status": "completed"
    },
    "tags": []
   },
   "outputs": [],
   "source": [
    "from fairness_multiverse.conformal import build_cp_groups\n",
    "\n",
    "cp_groups_df = build_cp_groups(pred_sets, y_true, X_test.index, org_test)\n",
    "#needs universe_id and setting"
   ]
  },
  {
   "cell_type": "code",
   "execution_count": 64,
   "id": "01d5802c-663a-4d1f-9d69-e036faaffbf7",
   "metadata": {
    "execution": {
     "iopub.execute_input": "2025-07-30T21:46:01.139101Z",
     "iopub.status.busy": "2025-07-30T21:46:01.138173Z",
     "iopub.status.idle": "2025-07-30T21:46:01.143662Z",
     "shell.execute_reply": "2025-07-30T21:46:01.142647Z"
    },
    "papermill": {
     "duration": 0.124089,
     "end_time": "2025-07-30T21:46:01.145578",
     "exception": false,
     "start_time": "2025-07-30T21:46:01.021489",
     "status": "completed"
    },
    "tags": []
   },
   "outputs": [],
   "source": [
    "#delete\n",
    "#cp_groups_df"
   ]
  },
  {
   "cell_type": "code",
   "execution_count": 65,
   "id": "fa424af1-d1eb-443d-b717-2d279ada8408",
   "metadata": {
    "execution": {
     "iopub.execute_input": "2025-07-30T21:46:01.273420Z",
     "iopub.status.busy": "2025-07-30T21:46:01.273049Z",
     "iopub.status.idle": "2025-07-30T21:46:01.278664Z",
     "shell.execute_reply": "2025-07-30T21:46:01.277661Z"
    },
    "papermill": {
     "duration": 0.058279,
     "end_time": "2025-07-30T21:46:01.281180",
     "exception": false,
     "start_time": "2025-07-30T21:46:01.222901",
     "status": "completed"
    },
    "tags": []
   },
   "outputs": [],
   "source": [
    "#delete\n",
    "#percentage = (cp_groups_df['nongerman_female'] == 1).mean() * 100\n",
    "#print(percentage)\n"
   ]
  },
  {
   "cell_type": "code",
   "execution_count": 66,
   "id": "6cbdab96-b2b2-45af-ad54-d0516db2e28d",
   "metadata": {
    "execution": {
     "iopub.execute_input": "2025-07-30T21:46:01.333314Z",
     "iopub.status.busy": "2025-07-30T21:46:01.332923Z",
     "iopub.status.idle": "2025-07-30T21:46:03.129608Z",
     "shell.execute_reply": "2025-07-30T21:46:03.128533Z"
    },
    "papermill": {
     "duration": 1.825204,
     "end_time": "2025-07-30T21:46:03.131580",
     "exception": false,
     "start_time": "2025-07-30T21:46:01.306376",
     "status": "completed"
    },
    "tags": []
   },
   "outputs": [],
   "source": [
    "# Define covered = 1 if true_label is in the predicted set\n",
    "cp_groups_df['covered'] = cp_groups_df.apply(\n",
    "    lambda r: int(r['true_label'] in r['pred_set']),\n",
    "    axis=1\n",
    ")"
   ]
  },
  {
   "cell_type": "code",
   "execution_count": 67,
   "id": "338ff529-1a6b-4b87-a931-8e4788d52aad",
   "metadata": {
    "execution": {
     "iopub.execute_input": "2025-07-30T21:46:03.225438Z",
     "iopub.status.busy": "2025-07-30T21:46:03.224546Z",
     "iopub.status.idle": "2025-07-30T21:46:03.230171Z",
     "shell.execute_reply": "2025-07-30T21:46:03.229268Z"
    },
    "papermill": {
     "duration": 0.042401,
     "end_time": "2025-07-30T21:46:03.233424",
     "exception": false,
     "start_time": "2025-07-30T21:46:03.191023",
     "status": "completed"
    },
    "tags": []
   },
   "outputs": [],
   "source": [
    "#cp_groups_df"
   ]
  },
  {
   "cell_type": "code",
   "execution_count": 68,
   "id": "90032e27-66df-4540-9169-4e89cfbaa758",
   "metadata": {
    "execution": {
     "iopub.execute_input": "2025-07-30T21:46:03.300634Z",
     "iopub.status.busy": "2025-07-30T21:46:03.300203Z",
     "iopub.status.idle": "2025-07-30T21:46:03.312755Z",
     "shell.execute_reply": "2025-07-30T21:46:03.311482Z"
    },
    "papermill": {
     "duration": 0.04925,
     "end_time": "2025-07-30T21:46:03.314906",
     "exception": false,
     "start_time": "2025-07-30T21:46:03.265656",
     "status": "completed"
    },
    "tags": []
   },
   "outputs": [],
   "source": [
    "subgroups = ['frau1','nongerman','nongerman_male','nongerman_female']\n",
    "\n",
    "# Conditional coverage for subgroup==1\n",
    "cond_coverage = {\n",
    "    g: cp_groups_df.loc[cp_groups_df[g]==1, 'covered'].mean()\n",
    "    for g in subgroups\n",
    "}"
   ]
  },
  {
   "cell_type": "code",
   "execution_count": 69,
   "id": "1e348fb1-b9c3-45bc-ba23-f016827a7e0d",
   "metadata": {
    "execution": {
     "iopub.execute_input": "2025-07-30T21:46:03.367793Z",
     "iopub.status.busy": "2025-07-30T21:46:03.367306Z",
     "iopub.status.idle": "2025-07-30T21:46:03.381918Z",
     "shell.execute_reply": "2025-07-30T21:46:03.381032Z"
    },
    "papermill": {
     "duration": 0.054316,
     "end_time": "2025-07-30T21:46:03.391601",
     "exception": false,
     "start_time": "2025-07-30T21:46:03.337285",
     "status": "completed"
    },
    "tags": []
   },
   "outputs": [
    {
     "data": {
      "text/plain": [
       "{'frau1': 0.9122792829222267,\n",
       " 'nongerman': 0.9064166619884354,\n",
       " 'nongerman_male': 0.9231739169593803,\n",
       " 'nongerman_female': 0.8786885245901639}"
      ]
     },
     "execution_count": 69,
     "metadata": {},
     "output_type": "execute_result"
    }
   ],
   "source": [
    "cond_coverage"
   ]
  },
  {
   "cell_type": "code",
   "execution_count": 70,
   "id": "f5093324-c3dd-4d63-bc4c-8d945e5c8bbb",
   "metadata": {
    "execution": {
     "iopub.execute_input": "2025-07-30T21:46:03.461295Z",
     "iopub.status.busy": "2025-07-30T21:46:03.460885Z",
     "iopub.status.idle": "2025-07-30T21:46:03.469162Z",
     "shell.execute_reply": "2025-07-30T21:46:03.468232Z"
    },
    "papermill": {
     "duration": 0.038475,
     "end_time": "2025-07-30T21:46:03.472223",
     "exception": false,
     "start_time": "2025-07-30T21:46:03.433748",
     "status": "completed"
    },
    "tags": []
   },
   "outputs": [],
   "source": [
    "for subgroup, cov in cond_coverage.items():\n",
    "    cp_metrics_df[f\"cov_{subgroup}\"] = cov"
   ]
  },
  {
   "cell_type": "code",
   "execution_count": 71,
   "id": "6e872e10-dbe5-49e8-b554-5030c98ff75d",
   "metadata": {
    "execution": {
     "iopub.execute_input": "2025-07-30T21:46:03.525755Z",
     "iopub.status.busy": "2025-07-30T21:46:03.525366Z",
     "iopub.status.idle": "2025-07-30T21:46:03.552773Z",
     "shell.execute_reply": "2025-07-30T21:46:03.550819Z"
    },
    "papermill": {
     "duration": 0.056754,
     "end_time": "2025-07-30T21:46:03.554683",
     "exception": false,
     "start_time": "2025-07-30T21:46:03.497929",
     "status": "completed"
    },
    "tags": []
   },
   "outputs": [
    {
     "data": {
      "text/html": [
       "<div>\n",
       "<style scoped>\n",
       "    .dataframe tbody tr th:only-of-type {\n",
       "        vertical-align: middle;\n",
       "    }\n",
       "\n",
       "    .dataframe tbody tr th {\n",
       "        vertical-align: top;\n",
       "    }\n",
       "\n",
       "    .dataframe thead th {\n",
       "        text-align: right;\n",
       "    }\n",
       "</style>\n",
       "<table border=\"1\" class=\"dataframe\">\n",
       "  <thead>\n",
       "    <tr style=\"text-align: right;\">\n",
       "      <th></th>\n",
       "      <th>universe_id</th>\n",
       "      <th>universe_training_year</th>\n",
       "      <th>universe_training_size</th>\n",
       "      <th>universe_scale</th>\n",
       "      <th>universe_model</th>\n",
       "      <th>universe_exclude_features</th>\n",
       "      <th>universe_exclude_subgroups</th>\n",
       "      <th>q_hat</th>\n",
       "      <th>coverage</th>\n",
       "      <th>avg_size</th>\n",
       "      <th>cov_frau1</th>\n",
       "      <th>cov_nongerman</th>\n",
       "      <th>cov_nongerman_male</th>\n",
       "      <th>cov_nongerman_female</th>\n",
       "    </tr>\n",
       "  </thead>\n",
       "  <tbody>\n",
       "    <tr>\n",
       "      <th>0</th>\n",
       "      <td>88a1f8deb0ac84cebfc0fdab39b1b919</td>\n",
       "      <td>2010_14</td>\n",
       "      <td>1k</td>\n",
       "      <td>scale</td>\n",
       "      <td>rf</td>\n",
       "      <td>nationality</td>\n",
       "      <td>keep-all</td>\n",
       "      <td>0.65</td>\n",
       "      <td>0.912919</td>\n",
       "      <td>1.149727</td>\n",
       "      <td>0.912279</td>\n",
       "      <td>0.906417</td>\n",
       "      <td>0.923174</td>\n",
       "      <td>0.878689</td>\n",
       "    </tr>\n",
       "  </tbody>\n",
       "</table>\n",
       "</div>"
      ],
      "text/plain": [
       "                        universe_id universe_training_year  \\\n",
       "0  88a1f8deb0ac84cebfc0fdab39b1b919                2010_14   \n",
       "\n",
       "  universe_training_size universe_scale universe_model  \\\n",
       "0                     1k          scale             rf   \n",
       "\n",
       "  universe_exclude_features universe_exclude_subgroups  q_hat  coverage  \\\n",
       "0               nationality                   keep-all   0.65  0.912919   \n",
       "\n",
       "   avg_size  cov_frau1  cov_nongerman  cov_nongerman_male  \\\n",
       "0  1.149727   0.912279       0.906417            0.923174   \n",
       "\n",
       "   cov_nongerman_female  \n",
       "0              0.878689  "
      ]
     },
     "execution_count": 71,
     "metadata": {},
     "output_type": "execute_result"
    }
   ],
   "source": [
    "cp_metrics_df"
   ]
  },
  {
   "cell_type": "markdown",
   "id": "33774451",
   "metadata": {
    "papermill": {
     "duration": 0.019593,
     "end_time": "2025-07-30T21:46:03.628292",
     "exception": false,
     "start_time": "2025-07-30T21:46:03.608699",
     "status": "completed"
    },
    "tags": []
   },
   "source": [
    "# (Fairness) Metrics"
   ]
  },
  {
   "cell_type": "code",
   "execution_count": 72,
   "id": "debc5d62",
   "metadata": {
    "execution": {
     "iopub.execute_input": "2025-07-30T21:46:03.679291Z",
     "iopub.status.busy": "2025-07-30T21:46:03.678864Z",
     "iopub.status.idle": "2025-07-30T21:46:03.703600Z",
     "shell.execute_reply": "2025-07-30T21:46:03.702439Z"
    },
    "papermill": {
     "duration": 0.05229,
     "end_time": "2025-07-30T21:46:03.705926",
     "exception": false,
     "start_time": "2025-07-30T21:46:03.653636",
     "status": "completed"
    },
    "tags": []
   },
   "outputs": [],
   "source": [
    "# do I need to include maxdeutsch1.missing?\n",
    "\n",
    "import numpy as np\n",
    "\n",
    "colname_to_bin = \"maxdeutsch1\"\n",
    "majority_value = org_train[colname_to_bin].mode()[0]\n",
    "\n",
    "org_test[\"majmin\"] = np.where(org_test[colname_to_bin] == majority_value, \"majority\", \"minority\")"
   ]
  },
  {
   "cell_type": "code",
   "execution_count": 73,
   "id": "06a50de5",
   "metadata": {
    "execution": {
     "iopub.execute_input": "2025-07-30T21:46:03.775223Z",
     "iopub.status.busy": "2025-07-30T21:46:03.774830Z",
     "iopub.status.idle": "2025-07-30T21:46:06.721795Z",
     "shell.execute_reply": "2025-07-30T21:46:06.720698Z"
    },
    "papermill": {
     "duration": 2.992058,
     "end_time": "2025-07-30T21:46:06.723750",
     "exception": false,
     "start_time": "2025-07-30T21:46:03.731692",
     "status": "completed"
    },
    "tags": []
   },
   "outputs": [],
   "source": [
    "example_universe = universe.copy()\n",
    "example_universe[\"cutoff\"] = example_universe[\"cutoff\"][0]\n",
    "example_universe[\"eval_fairness_grouping\"] = example_universe[\"eval_fairness_grouping\"][0]\n",
    "fairness_dict, metric_frame = universe_analysis.compute_metrics(\n",
    "    example_universe,\n",
    "    y_pred_prob=probs_test,\n",
    "    y_test=y_true,\n",
    "    org_test=org_test,\n",
    ")"
   ]
  },
  {
   "cell_type": "markdown",
   "id": "f95d4e02",
   "metadata": {
    "papermill": {
     "duration": 0.025077,
     "end_time": "2025-07-30T21:46:06.778025",
     "exception": false,
     "start_time": "2025-07-30T21:46:06.752948",
     "status": "completed"
    },
    "tags": []
   },
   "source": [
    "# Overall"
   ]
  },
  {
   "cell_type": "markdown",
   "id": "bdee4871",
   "metadata": {
    "papermill": {
     "duration": 0.026081,
     "end_time": "2025-07-30T21:46:06.833060",
     "exception": false,
     "start_time": "2025-07-30T21:46:06.806979",
     "status": "completed"
    },
    "tags": []
   },
   "source": [
    "Fairness\n",
    "Main fairness target: Equalized Odds. Seems to be a better fit than equal opportunity, since we're not only interested in Y = 1. Seems to be a better fit than demographic parity, since we also care about accuracy, not just equal distribution of preds.\n",
    "\n",
    "Pick column for computation of fairness metrics\n",
    "\n",
    "Performance\n",
    "Overall performance measures, most interesting in relation to the measures split by group below"
   ]
  },
  {
   "cell_type": "code",
   "execution_count": 74,
   "id": "c4e067c6",
   "metadata": {
    "execution": {
     "iopub.execute_input": "2025-07-30T21:46:06.887613Z",
     "iopub.status.busy": "2025-07-30T21:46:06.887164Z",
     "iopub.status.idle": "2025-07-30T21:46:06.896160Z",
     "shell.execute_reply": "2025-07-30T21:46:06.895149Z"
    },
    "papermill": {
     "duration": 0.038919,
     "end_time": "2025-07-30T21:46:06.897791",
     "exception": false,
     "start_time": "2025-07-30T21:46:06.858872",
     "status": "completed"
    },
    "tags": []
   },
   "outputs": [
    {
     "data": {
      "text/plain": [
       "accuracy                   0.209475\n",
       "balanced accuracy          0.534492\n",
       "f1                         0.239746\n",
       "precision                  0.136743\n",
       "false positive rate        0.902688\n",
       "false negative rate        0.028328\n",
       "selection rate             0.911537\n",
       "count                  89710.000000\n",
       "dtype: float64"
      ]
     },
     "execution_count": 74,
     "metadata": {},
     "output_type": "execute_result"
    }
   ],
   "source": [
    "metric_frame.overall"
   ]
  },
  {
   "cell_type": "markdown",
   "id": "e968fe9d",
   "metadata": {
    "papermill": {
     "duration": 0.029158,
     "end_time": "2025-07-30T21:46:06.955995",
     "exception": false,
     "start_time": "2025-07-30T21:46:06.926837",
     "status": "completed"
    },
    "tags": []
   },
   "source": [
    "By Group"
   ]
  },
  {
   "cell_type": "code",
   "execution_count": 75,
   "id": "ec325bce",
   "metadata": {
    "execution": {
     "iopub.execute_input": "2025-07-30T21:46:07.020308Z",
     "iopub.status.busy": "2025-07-30T21:46:07.019891Z",
     "iopub.status.idle": "2025-07-30T21:46:07.038720Z",
     "shell.execute_reply": "2025-07-30T21:46:07.037722Z"
    },
    "papermill": {
     "duration": 0.049708,
     "end_time": "2025-07-30T21:46:07.040736",
     "exception": false,
     "start_time": "2025-07-30T21:46:06.991028",
     "status": "completed"
    },
    "tags": []
   },
   "outputs": [
    {
     "data": {
      "text/html": [
       "<div>\n",
       "<style scoped>\n",
       "    .dataframe tbody tr th:only-of-type {\n",
       "        vertical-align: middle;\n",
       "    }\n",
       "\n",
       "    .dataframe tbody tr th {\n",
       "        vertical-align: top;\n",
       "    }\n",
       "\n",
       "    .dataframe thead th {\n",
       "        text-align: right;\n",
       "    }\n",
       "</style>\n",
       "<table border=\"1\" class=\"dataframe\">\n",
       "  <thead>\n",
       "    <tr style=\"text-align: right;\">\n",
       "      <th></th>\n",
       "      <th>accuracy</th>\n",
       "      <th>balanced accuracy</th>\n",
       "      <th>f1</th>\n",
       "      <th>precision</th>\n",
       "      <th>false positive rate</th>\n",
       "      <th>false negative rate</th>\n",
       "      <th>selection rate</th>\n",
       "      <th>count</th>\n",
       "    </tr>\n",
       "    <tr>\n",
       "      <th>majmin</th>\n",
       "      <th></th>\n",
       "      <th></th>\n",
       "      <th></th>\n",
       "      <th></th>\n",
       "      <th></th>\n",
       "      <th></th>\n",
       "      <th></th>\n",
       "      <th></th>\n",
       "    </tr>\n",
       "  </thead>\n",
       "  <tbody>\n",
       "    <tr>\n",
       "      <th>majority</th>\n",
       "      <td>0.199595</td>\n",
       "      <td>0.533531</td>\n",
       "      <td>0.245866</td>\n",
       "      <td>0.140414</td>\n",
       "      <td>0.920356</td>\n",
       "      <td>0.012582</td>\n",
       "      <td>0.929218</td>\n",
       "      <td>69170.0</td>\n",
       "    </tr>\n",
       "    <tr>\n",
       "      <th>minority</th>\n",
       "      <td>0.242746</td>\n",
       "      <td>0.533287</td>\n",
       "      <td>0.217133</td>\n",
       "      <td>0.123257</td>\n",
       "      <td>0.844321</td>\n",
       "      <td>0.089105</td>\n",
       "      <td>0.851996</td>\n",
       "      <td>20540.0</td>\n",
       "    </tr>\n",
       "  </tbody>\n",
       "</table>\n",
       "</div>"
      ],
      "text/plain": [
       "          accuracy  balanced accuracy        f1  precision  \\\n",
       "majmin                                                       \n",
       "majority  0.199595           0.533531  0.245866   0.140414   \n",
       "minority  0.242746           0.533287  0.217133   0.123257   \n",
       "\n",
       "          false positive rate  false negative rate  selection rate    count  \n",
       "majmin                                                                       \n",
       "majority             0.920356             0.012582        0.929218  69170.0  \n",
       "minority             0.844321             0.089105        0.851996  20540.0  "
      ]
     },
     "execution_count": 75,
     "metadata": {},
     "output_type": "execute_result"
    }
   ],
   "source": [
    "metric_frame.by_group"
   ]
  },
  {
   "cell_type": "code",
   "execution_count": 76,
   "id": "a9ddbe63",
   "metadata": {
    "execution": {
     "iopub.execute_input": "2025-07-30T21:46:07.100942Z",
     "iopub.status.busy": "2025-07-30T21:46:07.100456Z",
     "iopub.status.idle": "2025-07-30T21:46:09.639459Z",
     "shell.execute_reply": "2025-07-30T21:46:09.638781Z"
    },
    "papermill": {
     "duration": 2.571728,
     "end_time": "2025-07-30T21:46:09.641073",
     "exception": false,
     "start_time": "2025-07-30T21:46:07.069345",
     "status": "completed"
    },
    "tags": []
   },
   "outputs": [
    {
     "data": {
      "text/plain": [
       "array([[<Axes: title={'center': 'accuracy'}, xlabel='majmin'>,\n",
       "        <Axes: title={'center': 'balanced accuracy'}, xlabel='majmin'>,\n",
       "        <Axes: title={'center': 'f1'}, xlabel='majmin'>],\n",
       "       [<Axes: title={'center': 'precision'}, xlabel='majmin'>,\n",
       "        <Axes: title={'center': 'false positive rate'}, xlabel='majmin'>,\n",
       "        <Axes: title={'center': 'false negative rate'}, xlabel='majmin'>],\n",
       "       [<Axes: title={'center': 'selection rate'}, xlabel='majmin'>,\n",
       "        <Axes: title={'center': 'count'}, xlabel='majmin'>,\n",
       "        <Axes: xlabel='majmin'>]], dtype=object)"
      ]
     },
     "execution_count": 76,
     "metadata": {},
     "output_type": "execute_result"
    },
    {
     "data": {
      "image/png": "[encoded data removed]",
      "text/plain": [
       "<Figure size 1200x800 with 9 Axes>"
      ]
     },
     "metadata": {},
     "output_type": "display_data"
    }
   ],
   "source": [
    "# In a graphic\n",
    "metric_frame.by_group.plot.bar(\n",
    "    subplots=True,\n",
    "    layout=[3, 3],\n",
    "    legend=False,\n",
    "    figsize=[12, 8],\n",
    "    title=\"Show all metrics\",\n",
    ")"
   ]
  },
  {
   "cell_type": "markdown",
   "id": "f57a0bac",
   "metadata": {
    "papermill": {
     "duration": 0.031114,
     "end_time": "2025-07-30T21:46:09.705169",
     "exception": false,
     "start_time": "2025-07-30T21:46:09.674055",
     "status": "completed"
    },
    "tags": []
   },
   "source": [
    "# Final Output"
   ]
  },
  {
   "cell_type": "code",
   "execution_count": 77,
   "id": "96d280a3",
   "metadata": {
    "execution": {
     "iopub.execute_input": "2025-07-30T21:46:09.767743Z",
     "iopub.status.busy": "2025-07-30T21:46:09.767128Z",
     "iopub.status.idle": "2025-07-30T21:46:09.774914Z",
     "shell.execute_reply": "2025-07-30T21:46:09.774010Z"
    },
    "papermill": {
     "duration": 0.040962,
     "end_time": "2025-07-30T21:46:09.776629",
     "exception": false,
     "start_time": "2025-07-30T21:46:09.735667",
     "status": "completed"
    },
    "tags": []
   },
   "outputs": [
    {
     "data": {
      "text/plain": [
       "4"
      ]
     },
     "execution_count": 77,
     "metadata": {},
     "output_type": "execute_result"
    }
   ],
   "source": [
    "sub_universes = universe_analysis.generate_sub_universes()\n",
    "len(sub_universes)"
   ]
  },
  {
   "cell_type": "code",
   "execution_count": 78,
   "id": "92adf7ba",
   "metadata": {
    "execution": {
     "iopub.execute_input": "2025-07-30T21:46:09.840822Z",
     "iopub.status.busy": "2025-07-30T21:46:09.840173Z",
     "iopub.status.idle": "2025-07-30T21:46:09.846662Z",
     "shell.execute_reply": "2025-07-30T21:46:09.845726Z"
    },
    "papermill": {
     "duration": 0.040217,
     "end_time": "2025-07-30T21:46:09.848345",
     "exception": false,
     "start_time": "2025-07-30T21:46:09.808128",
     "status": "completed"
    },
    "tags": []
   },
   "outputs": [],
   "source": [
    "def filter_sub_universe_data(sub_universe, org_test):\n",
    "    # Keep all rows — no filtering\n",
    "    keep_rows_mask = np.ones(org_test.shape[0], dtype=bool)\n",
    "\n",
    "    print(f\"[INFO] Keeping all rows: {keep_rows_mask.sum()} rows retained.\")\n",
    "    return keep_rows_mask"
   ]
  },
  {
   "cell_type": "code",
   "execution_count": 79,
   "id": "4a759155",
   "metadata": {
    "execution": {
     "iopub.execute_input": "2025-07-30T21:46:09.906838Z",
     "iopub.status.busy": "2025-07-30T21:46:09.906139Z",
     "iopub.status.idle": "2025-07-30T21:46:20.493961Z",
     "shell.execute_reply": "2025-07-30T21:46:20.492918Z"
    },
    "papermill": {
     "duration": 10.619533,
     "end_time": "2025-07-30T21:46:20.495755",
     "exception": false,
     "start_time": "2025-07-30T21:46:09.876222",
     "status": "completed"
    },
    "tags": []
   },
   "outputs": [
    {
     "name": "stdout",
     "output_type": "stream",
     "text": [
      "Stopping execution_time clock.\n",
      "[INFO] Keeping all rows: 89710 rows retained.\n"
     ]
    },
    {
     "name": "stdout",
     "output_type": "stream",
     "text": [
      "[INFO] Keeping all rows: 89710 rows retained.\n"
     ]
    },
    {
     "name": "stdout",
     "output_type": "stream",
     "text": [
      "[INFO] Keeping all rows: 89710 rows retained.\n"
     ]
    },
    {
     "name": "stdout",
     "output_type": "stream",
     "text": [
      "[INFO] Keeping all rows: 89710 rows retained.\n"
     ]
    },
    {
     "data": {
      "text/html": [
       "<div>\n",
       "<style scoped>\n",
       "    .dataframe tbody tr th:only-of-type {\n",
       "        vertical-align: middle;\n",
       "    }\n",
       "\n",
       "    .dataframe tbody tr th {\n",
       "        vertical-align: top;\n",
       "    }\n",
       "\n",
       "    .dataframe thead th {\n",
       "        text-align: right;\n",
       "    }\n",
       "</style>\n",
       "<table border=\"1\" class=\"dataframe\">\n",
       "  <thead>\n",
       "    <tr style=\"text-align: right;\">\n",
       "      <th></th>\n",
       "      <th>run_no</th>\n",
       "      <th>universe_id</th>\n",
       "      <th>universe_settings</th>\n",
       "      <th>execution_time</th>\n",
       "      <th>test_size_n</th>\n",
       "      <th>test_size_frac</th>\n",
       "      <th>fair_main_equalized_odds_difference</th>\n",
       "      <th>fair_main_equalized_odds_ratio</th>\n",
       "      <th>fair_main_demographic_parity_difference</th>\n",
       "      <th>fair_main_demographic_parity_ratio</th>\n",
       "      <th>...</th>\n",
       "      <th>perf_grp_precision_0</th>\n",
       "      <th>perf_grp_precision_1</th>\n",
       "      <th>perf_grp_false positive rate_0</th>\n",
       "      <th>perf_grp_false positive rate_1</th>\n",
       "      <th>perf_grp_false negative rate_0</th>\n",
       "      <th>perf_grp_false negative rate_1</th>\n",
       "      <th>perf_grp_selection rate_0</th>\n",
       "      <th>perf_grp_selection rate_1</th>\n",
       "      <th>perf_grp_count_0</th>\n",
       "      <th>perf_grp_count_1</th>\n",
       "    </tr>\n",
       "  </thead>\n",
       "  <tbody>\n",
       "    <tr>\n",
       "      <th>0</th>\n",
       "      <td>14</td>\n",
       "      <td>88a1f8deb0ac84cebfc0fdab39b1b919</td>\n",
       "      <td>{\"cutoff\": \"quantile_0.1\", \"eval_fairness_grou...</td>\n",
       "      <td>34.491775</td>\n",
       "      <td>89710</td>\n",
       "      <td>1.0</td>\n",
       "      <td>0.076523</td>\n",
       "      <td>0.917385</td>\n",
       "      <td>0.077222</td>\n",
       "      <td>0.916896</td>\n",
       "      <td>...</td>\n",
       "      <td>NaN</td>\n",
       "      <td>NaN</td>\n",
       "      <td>NaN</td>\n",
       "      <td>NaN</td>\n",
       "      <td>NaN</td>\n",
       "      <td>NaN</td>\n",
       "      <td>NaN</td>\n",
       "      <td>NaN</td>\n",
       "      <td>NaN</td>\n",
       "      <td>NaN</td>\n",
       "    </tr>\n",
       "    <tr>\n",
       "      <th>0</th>\n",
       "      <td>14</td>\n",
       "      <td>88a1f8deb0ac84cebfc0fdab39b1b919</td>\n",
       "      <td>{\"cutoff\": \"quantile_0.1\", \"eval_fairness_grou...</td>\n",
       "      <td>34.491775</td>\n",
       "      <td>89710</td>\n",
       "      <td>1.0</td>\n",
       "      <td>0.076523</td>\n",
       "      <td>0.917385</td>\n",
       "      <td>0.077222</td>\n",
       "      <td>0.916896</td>\n",
       "      <td>...</td>\n",
       "      <td>0.123257</td>\n",
       "      <td>0.140414</td>\n",
       "      <td>0.844321</td>\n",
       "      <td>0.920356</td>\n",
       "      <td>0.089105</td>\n",
       "      <td>0.012582</td>\n",
       "      <td>0.851996</td>\n",
       "      <td>0.929218</td>\n",
       "      <td>20540.0</td>\n",
       "      <td>69170.0</td>\n",
       "    </tr>\n",
       "    <tr>\n",
       "      <th>0</th>\n",
       "      <td>14</td>\n",
       "      <td>88a1f8deb0ac84cebfc0fdab39b1b919</td>\n",
       "      <td>{\"cutoff\": \"quantile_0.25\", \"eval_fairness_gro...</td>\n",
       "      <td>34.491775</td>\n",
       "      <td>89710</td>\n",
       "      <td>1.0</td>\n",
       "      <td>0.156407</td>\n",
       "      <td>0.835928</td>\n",
       "      <td>0.109641</td>\n",
       "      <td>0.863737</td>\n",
       "      <td>...</td>\n",
       "      <td>NaN</td>\n",
       "      <td>NaN</td>\n",
       "      <td>NaN</td>\n",
       "      <td>NaN</td>\n",
       "      <td>NaN</td>\n",
       "      <td>NaN</td>\n",
       "      <td>NaN</td>\n",
       "      <td>NaN</td>\n",
       "      <td>NaN</td>\n",
       "      <td>NaN</td>\n",
       "    </tr>\n",
       "    <tr>\n",
       "      <th>0</th>\n",
       "      <td>14</td>\n",
       "      <td>88a1f8deb0ac84cebfc0fdab39b1b919</td>\n",
       "      <td>{\"cutoff\": \"quantile_0.25\", \"eval_fairness_gro...</td>\n",
       "      <td>34.491775</td>\n",
       "      <td>89710</td>\n",
       "      <td>1.0</td>\n",
       "      <td>0.156407</td>\n",
       "      <td>0.835928</td>\n",
       "      <td>0.109641</td>\n",
       "      <td>0.863737</td>\n",
       "      <td>...</td>\n",
       "      <td>0.132189</td>\n",
       "      <td>0.156551</td>\n",
       "      <td>0.681708</td>\n",
       "      <td>0.781992</td>\n",
       "      <td>0.203125</td>\n",
       "      <td>0.046718</td>\n",
       "      <td>0.694985</td>\n",
       "      <td>0.804626</td>\n",
       "      <td>20540.0</td>\n",
       "      <td>69170.0</td>\n",
       "    </tr>\n",
       "  </tbody>\n",
       "</table>\n",
       "<p>4 rows × 50 columns</p>\n",
       "</div>"
      ],
      "text/plain": [
       "  run_no                       universe_id  \\\n",
       "0     14  88a1f8deb0ac84cebfc0fdab39b1b919   \n",
       "0     14  88a1f8deb0ac84cebfc0fdab39b1b919   \n",
       "0     14  88a1f8deb0ac84cebfc0fdab39b1b919   \n",
       "0     14  88a1f8deb0ac84cebfc0fdab39b1b919   \n",
       "\n",
       "                                   universe_settings  execution_time  \\\n",
       "0  {\"cutoff\": \"quantile_0.1\", \"eval_fairness_grou...       34.491775   \n",
       "0  {\"cutoff\": \"quantile_0.1\", \"eval_fairness_grou...       34.491775   \n",
       "0  {\"cutoff\": \"quantile_0.25\", \"eval_fairness_gro...       34.491775   \n",
       "0  {\"cutoff\": \"quantile_0.25\", \"eval_fairness_gro...       34.491775   \n",
       "\n",
       "   test_size_n  test_size_frac  fair_main_equalized_odds_difference  \\\n",
       "0        89710             1.0                             0.076523   \n",
       "0        89710             1.0                             0.076523   \n",
       "0        89710             1.0                             0.156407   \n",
       "0        89710             1.0                             0.156407   \n",
       "\n",
       "   fair_main_equalized_odds_ratio  fair_main_demographic_parity_difference  \\\n",
       "0                        0.917385                                 0.077222   \n",
       "0                        0.917385                                 0.077222   \n",
       "0                        0.835928                                 0.109641   \n",
       "0                        0.835928                                 0.109641   \n",
       "\n",
       "   fair_main_demographic_parity_ratio  ...  perf_grp_precision_0  \\\n",
       "0                            0.916896  ...                   NaN   \n",
       "0                            0.916896  ...              0.123257   \n",
       "0                            0.863737  ...                   NaN   \n",
       "0                            0.863737  ...              0.132189   \n",
       "\n",
       "   perf_grp_precision_1  perf_grp_false positive rate_0  \\\n",
       "0                   NaN                             NaN   \n",
       "0              0.140414                        0.844321   \n",
       "0                   NaN                             NaN   \n",
       "0              0.156551                        0.681708   \n",
       "\n",
       "   perf_grp_false positive rate_1  perf_grp_false negative rate_0  \\\n",
       "0                             NaN                             NaN   \n",
       "0                        0.920356                        0.089105   \n",
       "0                             NaN                             NaN   \n",
       "0                        0.781992                        0.203125   \n",
       "\n",
       "   perf_grp_false negative rate_1  perf_grp_selection rate_0  \\\n",
       "0                             NaN                        NaN   \n",
       "0                        0.012582                   0.851996   \n",
       "0                             NaN                        NaN   \n",
       "0                        0.046718                   0.694985   \n",
       "\n",
       "   perf_grp_selection rate_1  perf_grp_count_0  perf_grp_count_1  \n",
       "0                        NaN               NaN               NaN  \n",
       "0                   0.929218           20540.0           69170.0  \n",
       "0                        NaN               NaN               NaN  \n",
       "0                   0.804626           20540.0           69170.0  \n",
       "\n",
       "[4 rows x 50 columns]"
      ]
     },
     "execution_count": 79,
     "metadata": {},
     "output_type": "execute_result"
    }
   ],
   "source": [
    "final_output = universe_analysis.generate_final_output(\n",
    "    y_pred_prob=probs_test,\n",
    "    y_test=y_true,\n",
    "    org_test=org_test,\n",
    "    filter_data=filter_sub_universe_data,\n",
    "    cp_metrics_df=cp_metrics_df,\n",
    "    save=True,\n",
    ")\n",
    "final_output"
   ]
  },
  {
   "cell_type": "code",
   "execution_count": null,
   "id": "721ff514-cb11-46f8-b6fc-50392f74b5cb",
   "metadata": {
    "papermill": {
     "duration": 0.032526,
     "end_time": "2025-07-30T21:46:20.562488",
     "exception": false,
     "start_time": "2025-07-30T21:46:20.529962",
     "status": "completed"
    },
    "tags": []
   },
   "outputs": [],
   "source": []
  }
 ],
 "metadata": {
  "celltoolbar": "Tags",
  "kernelspec": {
   "display_name": "Python (CMA Fairness)",
   "language": "python",
   "name": "cma_fair_env"
  },
  "language_info": {
   "codemirror_mode": {
    "name": "ipython",
    "version": 3
   },
   "file_extension": ".py",
   "mimetype": "text/x-python",
   "name": "python",
   "nbconvert_exporter": "python",
   "pygments_lexer": "ipython3",
   "version": "3.10.12"
  },
  "papermill": {
   "default_parameters": {},
   "duration": 49.450039,
   "end_time": "2025-07-30T21:46:21.414485",
   "environment_variables": {},
   "exception": null,
   "input_path": "universe_analysis.ipynb",
   "output_path": "output/runs/14/notebooks/m_14-88a1f8deb0ac84cebfc0fdab39b1b919.ipynb",
   "parameters": {
    "output_dir": "output",
    "run_no": "14",
    "seed": "2023",
    "universe": "{\"cutoff\": [\"quantile_0.1\", \"quantile_0.25\"], \"eval_fairness_grouping\": [\"majority-minority\", \"nationality-all\"], \"exclude_features\": \"nationality\", \"exclude_subgroups\": \"keep-all\", \"model\": \"rf\", \"scale\": \"scale\", \"training_size\": \"1k\", \"training_year\": \"2010_14\"}",
    "universe_id": "88a1f8deb0ac84cebfc0fdab39b1b919"
   },
   "start_time": "2025-07-30T21:45:31.964446",
   "version": "2.6.0"
  }
 },
 "nbformat": 4,
 "nbformat_minor": 5
}