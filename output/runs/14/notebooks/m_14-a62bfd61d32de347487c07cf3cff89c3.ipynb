{
 "cells": [
  {
   "cell_type": "code",
   "execution_count": 1,
   "id": "f159f837-637b-42ba-96b5-ec9a68c44524",
   "metadata": {
    "execution": {
     "iopub.execute_input": "2025-07-30T20:16:31.332227Z",
     "iopub.status.busy": "2025-07-30T20:16:31.331728Z",
     "iopub.status.idle": "2025-07-30T20:16:31.346995Z",
     "shell.execute_reply": "2025-07-30T20:16:31.346088Z"
    },
    "papermill": {
     "duration": 0.037636,
     "end_time": "2025-07-30T20:16:31.349039",
     "exception": false,
     "start_time": "2025-07-30T20:16:31.311403",
     "status": "completed"
    },
    "tags": []
   },
   "outputs": [
    {
     "name": "stdout",
     "output_type": "stream",
     "text": [
      "/dss/dsshome1/0C/ra93lal2/cma/CMA_Fairness_v2\n"
     ]
    },
    {
     "name": "stderr",
     "output_type": "stream",
     "text": [
      "/dss/dsshome1/0C/ra93lal2/.local/share/virtualenvs/CMA_Fairness_v2-3j10GkSs/lib/python3.10/site-packages/IPython/core/magics/osm.py:393: UserWarning: This is now an optional IPython functionality, using bookmarks requires you to install the `pickleshare` library.\n",
      "  bkms = self.shell.db.get('bookmarks', {})\n",
      "/dss/dsshome1/0C/ra93lal2/.local/share/virtualenvs/CMA_Fairness_v2-3j10GkSs/lib/python3.10/site-packages/IPython/core/magics/osm.py:417: UserWarning: This is now an optional IPython functionality, setting dhist requires you to install the `pickleshare` library.\n",
      "  self.shell.db['dhist'] = compress_dhist(dhist)[-100:]\n"
     ]
    }
   ],
   "source": [
    "%cd ~/cma/CMA_Fairness_v2"
   ]
  },
  {
   "cell_type": "markdown",
   "id": "de2603b9",
   "metadata": {
    "papermill": {
     "duration": 0.017642,
     "end_time": "2025-07-30T20:16:31.386863",
     "exception": false,
     "start_time": "2025-07-30T20:16:31.369221",
     "status": "completed"
    },
    "tags": []
   },
   "source": [
    "The following cell holds the definition of our parameters, these values can be overriden by rendering the with e.g. the following command:\n",
    "\n",
    "papermill -p alpha 0.2 -p ratio 0.3 universe_analysis.ipynb output/test_run.ipynb"
   ]
  },
  {
   "cell_type": "code",
   "execution_count": 2,
   "id": "a80968a0-40bb-4fa9-85ef-2d5eefb01975",
   "metadata": {
    "execution": {
     "iopub.execute_input": "2025-07-30T20:16:31.425073Z",
     "iopub.status.busy": "2025-07-30T20:16:31.424632Z",
     "iopub.status.idle": "2025-07-30T20:16:31.429753Z",
     "shell.execute_reply": "2025-07-30T20:16:31.428796Z"
    },
    "papermill": {
     "duration": 0.026174,
     "end_time": "2025-07-30T20:16:31.431274",
     "exception": false,
     "start_time": "2025-07-30T20:16:31.405100",
     "status": "completed"
    },
    "tags": []
   },
   "outputs": [
    {
     "name": "stdout",
     "output_type": "stream",
     "text": [
      "Current working directory: /dss/dsshome1/0C/ra93lal2/cma/CMA_Fairness_v2\n"
     ]
    }
   ],
   "source": [
    "import os\n",
    "print(\"Current working directory:\", os.getcwd())"
   ]
  },
  {
   "cell_type": "code",
   "execution_count": 3,
   "id": "2dce4c03",
   "metadata": {
    "execution": {
     "iopub.execute_input": "2025-07-30T20:16:31.471553Z",
     "iopub.status.busy": "2025-07-30T20:16:31.471123Z",
     "iopub.status.idle": "2025-07-30T20:16:31.477438Z",
     "shell.execute_reply": "2025-07-30T20:16:31.476589Z"
    },
    "papermill": {
     "duration": 0.028707,
     "end_time": "2025-07-30T20:16:31.479211",
     "exception": false,
     "start_time": "2025-07-30T20:16:31.450504",
     "status": "completed"
    },
    "tags": [
     "parameters"
    ]
   },
   "outputs": [],
   "source": [
    "run_no = 0\n",
    "universe_id = \"test\"\n",
    "universe = {\n",
    "    \"training_size\": \"25k\", # \"25k\", \"5k\", \"1k\"\n",
    "    \"training_year\": \"2014\", # \"2014\", \"2012_14\", \"2010_14\"\n",
    "    \"scale\": \"scale\", # \"scale\", \"do-not-scale\",\n",
    "    #\"stratify_split\": \"target\", # \"none\", \"target\", \"protected-attribute\", \"both\",\n",
    "    \"model\": \"elasticnet\", # \"logreg\", \"penalized_logreg\", \"rf\", \"gbm\", \"elasticnet\"\n",
    "    \"cutoff\": [\"quantile_0.15\", \"quantile_0.30\"],\n",
    "    \"exclude_features\": \"age\", # \"none\", \"nationality\", \"sex\", \"nationality-sex\", \"age\"\n",
    "    \"exclude_subgroups\": \"keep-all\", # \"keep-all\", \"drop-non-german\"\n",
    "    \"eval_fairness_grouping\": [\"majority-minority\", \"nationality-all\"]\n",
    "}\n",
    "\n",
    "output_dir=\"./output\"\n",
    "seed=0"
   ]
  },
  {
   "cell_type": "code",
   "execution_count": 4,
   "id": "2f6bd62e",
   "metadata": {
    "execution": {
     "iopub.execute_input": "2025-07-30T20:16:31.519272Z",
     "iopub.status.busy": "2025-07-30T20:16:31.518817Z",
     "iopub.status.idle": "2025-07-30T20:16:31.524019Z",
     "shell.execute_reply": "2025-07-30T20:16:31.523194Z"
    },
    "papermill": {
     "duration": 0.027175,
     "end_time": "2025-07-30T20:16:31.525474",
     "exception": false,
     "start_time": "2025-07-30T20:16:31.498299",
     "status": "completed"
    },
    "tags": [
     "injected-parameters"
    ]
   },
   "outputs": [],
   "source": [
    "# Parameters\n",
    "universe_id = \"a62bfd61d32de347487c07cf3cff89c3\"\n",
    "run_no = \"14\"\n",
    "universe = \"{\\\"cutoff\\\": [\\\"quantile_0.1\\\", \\\"quantile_0.25\\\"], \\\"eval_fairness_grouping\\\": [\\\"majority-minority\\\", \\\"nationality-all\\\"], \\\"exclude_features\\\": \\\"nationality\\\", \\\"exclude_subgroups\\\": \\\"drop-non-german\\\", \\\"model\\\": \\\"penalized_logreg\\\", \\\"scale\\\": \\\"do-not-scale\\\", \\\"training_size\\\": \\\"25k\\\", \\\"training_year\\\": \\\"2012_14\\\"}\"\n",
    "output_dir = \"output\"\n",
    "seed = \"2023\"\n"
   ]
  },
  {
   "cell_type": "code",
   "execution_count": 5,
   "id": "1650acaf",
   "metadata": {
    "execution": {
     "iopub.execute_input": "2025-07-30T20:16:31.564958Z",
     "iopub.status.busy": "2025-07-30T20:16:31.564492Z",
     "iopub.status.idle": "2025-07-30T20:16:31.569610Z",
     "shell.execute_reply": "2025-07-30T20:16:31.568489Z"
    },
    "papermill": {
     "duration": 0.026143,
     "end_time": "2025-07-30T20:16:31.571266",
     "exception": false,
     "start_time": "2025-07-30T20:16:31.545123",
     "status": "completed"
    },
    "tags": []
   },
   "outputs": [],
   "source": [
    "import json\n",
    "# Parse universe into dict if it is passed as a string\n",
    "if isinstance(universe, str):\n",
    "    universe = json.loads(universe)"
   ]
  },
  {
   "cell_type": "code",
   "execution_count": 6,
   "id": "16620c48",
   "metadata": {
    "execution": {
     "iopub.execute_input": "2025-07-30T20:16:31.611983Z",
     "iopub.status.busy": "2025-07-30T20:16:31.611499Z",
     "iopub.status.idle": "2025-07-30T20:16:31.656365Z",
     "shell.execute_reply": "2025-07-30T20:16:31.655398Z"
    },
    "papermill": {
     "duration": 0.066387,
     "end_time": "2025-07-30T20:16:31.658197",
     "exception": false,
     "start_time": "2025-07-30T20:16:31.591810",
     "status": "completed"
    },
    "tags": []
   },
   "outputs": [],
   "source": [
    "# Auto-reload the custom package\n",
    "%load_ext autoreload\n",
    "%autoreload 1\n",
    "%aimport fairness_multiverse"
   ]
  },
  {
   "cell_type": "code",
   "execution_count": 7,
   "id": "01c5c9f3",
   "metadata": {
    "execution": {
     "iopub.execute_input": "2025-07-30T20:16:31.697314Z",
     "iopub.status.busy": "2025-07-30T20:16:31.696678Z",
     "iopub.status.idle": "2025-07-30T20:16:33.685485Z",
     "shell.execute_reply": "2025-07-30T20:16:33.684540Z"
    },
    "papermill": {
     "duration": 2.010109,
     "end_time": "2025-07-30T20:16:33.687336",
     "exception": false,
     "start_time": "2025-07-30T20:16:31.677227",
     "status": "completed"
    },
    "tags": []
   },
   "outputs": [],
   "source": [
    "from fairness_multiverse.universe import UniverseAnalysis\n",
    "\n",
    "universe_analysis = UniverseAnalysis(\n",
    "    run_no = run_no,\n",
    "    universe_id = universe_id,\n",
    "    universe = universe,\n",
    "    output_dir=output_dir,\n",
    ")"
   ]
  },
  {
   "cell_type": "code",
   "execution_count": 8,
   "id": "106241f5",
   "metadata": {
    "execution": {
     "iopub.execute_input": "2025-07-30T20:16:33.729431Z",
     "iopub.status.busy": "2025-07-30T20:16:33.728944Z",
     "iopub.status.idle": "2025-07-30T20:16:33.736015Z",
     "shell.execute_reply": "2025-07-30T20:16:33.735006Z"
    },
    "papermill": {
     "duration": 0.030355,
     "end_time": "2025-07-30T20:16:33.737908",
     "exception": false,
     "start_time": "2025-07-30T20:16:33.707553",
     "status": "completed"
    },
    "tags": []
   },
   "outputs": [
    {
     "name": "stdout",
     "output_type": "stream",
     "text": [
      "Using Seed: 2023\n"
     ]
    }
   ],
   "source": [
    "import numpy as np\n",
    "parsed_seed = int(seed)\n",
    "np.random.seed(parsed_seed)\n",
    "print(f\"Using Seed: {parsed_seed}\")"
   ]
  },
  {
   "cell_type": "markdown",
   "id": "e0ebdc57",
   "metadata": {
    "papermill": {
     "duration": 0.020009,
     "end_time": "2025-07-30T20:16:33.778669",
     "exception": false,
     "start_time": "2025-07-30T20:16:33.758660",
     "status": "completed"
    },
    "tags": []
   },
   "source": [
    "# Loading Data"
   ]
  },
  {
   "cell_type": "markdown",
   "id": "681925a3",
   "metadata": {
    "papermill": {
     "duration": 0.020748,
     "end_time": "2025-07-30T20:16:33.820063",
     "exception": false,
     "start_time": "2025-07-30T20:16:33.799315",
     "status": "completed"
    },
    "tags": []
   },
   "source": [
    "Load siab_train, siab_test, siab_calib and/or \n",
    "load siab_train_features, siab_train_labels"
   ]
  },
  {
   "cell_type": "code",
   "execution_count": 9,
   "id": "f0496b8a",
   "metadata": {
    "execution": {
     "iopub.execute_input": "2025-07-30T20:16:33.861773Z",
     "iopub.status.busy": "2025-07-30T20:16:33.861104Z",
     "iopub.status.idle": "2025-07-30T20:16:45.814352Z",
     "shell.execute_reply": "2025-07-30T20:16:45.813153Z"
    },
    "papermill": {
     "duration": 11.97617,
     "end_time": "2025-07-30T20:16:45.816143",
     "exception": false,
     "start_time": "2025-07-30T20:16:33.839973",
     "status": "completed"
    },
    "tags": []
   },
   "outputs": [
    {
     "name": "stdout",
     "output_type": "stream",
     "text": [
      "Loading SIAB data from cache: data/siab_cached.csv.gz\n"
     ]
    },
    {
     "name": "stdout",
     "output_type": "stream",
     "text": [
      "(643690, 164)\n"
     ]
    }
   ],
   "source": [
    "from pathlib import Path\n",
    "import pandas as pd\n",
    "\n",
    "# File paths\n",
    "raw_file = Path(\"data/raw/siab.csv\")\n",
    "cache_file = Path(\"data/siab_cached.csv.gz\")\n",
    "\n",
    "# Ensure cache directory exists\n",
    "cache_file.parent.mkdir(parents=True, exist_ok=True)\n",
    "\n",
    "# Load with simple caching\n",
    "if cache_file.exists():\n",
    "    print(f\"Loading SIAB data from cache: {cache_file}\")\n",
    "    siab = pd.read_csv(cache_file, compression='gzip')\n",
    "else:\n",
    "    print(f\"Cache not found. Reading raw SIAB data: {raw_file}\")\n",
    "    siab = pd.read_csv(raw_file)\n",
    "    siab.to_csv(cache_file, index=False, compression='gzip')\n",
    "    print(f\"Cached SIAB data to: {cache_file}\")\n",
    "\n",
    "# Now use `siab` DataFrame as needed\n",
    "print(siab.shape)"
   ]
  },
  {
   "cell_type": "code",
   "execution_count": 10,
   "id": "db0ca512-5f53-4dba-abdb-a2888bca41ba",
   "metadata": {
    "execution": {
     "iopub.execute_input": "2025-07-30T20:16:45.864684Z",
     "iopub.status.busy": "2025-07-30T20:16:45.863673Z",
     "iopub.status.idle": "2025-07-30T20:16:45.869493Z",
     "shell.execute_reply": "2025-07-30T20:16:45.868541Z"
    },
    "papermill": {
     "duration": 0.031059,
     "end_time": "2025-07-30T20:16:45.871403",
     "exception": false,
     "start_time": "2025-07-30T20:16:45.840344",
     "status": "completed"
    },
    "tags": []
   },
   "outputs": [],
   "source": [
    "#siab"
   ]
  },
  {
   "cell_type": "code",
   "execution_count": 11,
   "id": "a0edb063",
   "metadata": {
    "execution": {
     "iopub.execute_input": "2025-07-30T20:16:45.919560Z",
     "iopub.status.busy": "2025-07-30T20:16:45.919099Z",
     "iopub.status.idle": "2025-07-30T20:16:45.925083Z",
     "shell.execute_reply": "2025-07-30T20:16:45.923879Z"
    },
    "papermill": {
     "duration": 0.031814,
     "end_time": "2025-07-30T20:16:45.926983",
     "exception": false,
     "start_time": "2025-07-30T20:16:45.895169",
     "status": "completed"
    },
    "tags": []
   },
   "outputs": [],
   "source": [
    "#import pandas as pd\n",
    "#\n",
    "#X_train = pd.read_csv(\"./data/X_train.csv\")\n",
    "#y_train = pd.read_csv(\"./data/y_train.csv\")"
   ]
  },
  {
   "cell_type": "code",
   "execution_count": 12,
   "id": "63d08085",
   "metadata": {
    "execution": {
     "iopub.execute_input": "2025-07-30T20:16:45.976413Z",
     "iopub.status.busy": "2025-07-30T20:16:45.975937Z",
     "iopub.status.idle": "2025-07-30T20:16:45.981000Z",
     "shell.execute_reply": "2025-07-30T20:16:45.979984Z"
    },
    "papermill": {
     "duration": 0.031236,
     "end_time": "2025-07-30T20:16:45.982522",
     "exception": false,
     "start_time": "2025-07-30T20:16:45.951286",
     "status": "completed"
    },
    "tags": []
   },
   "outputs": [],
   "source": [
    "#X_test = pd.read_csv(\"./data/X_test.csv\")\n",
    "#y_true = pd.read_csv(\"./data/y_test.csv\")"
   ]
  },
  {
   "cell_type": "code",
   "execution_count": 13,
   "id": "98a8d0fa-1d3d-4ed8-bb2c-281470e24add",
   "metadata": {
    "execution": {
     "iopub.execute_input": "2025-07-30T20:16:46.029803Z",
     "iopub.status.busy": "2025-07-30T20:16:46.029288Z",
     "iopub.status.idle": "2025-07-30T20:16:46.034492Z",
     "shell.execute_reply": "2025-07-30T20:16:46.033503Z"
    },
    "papermill": {
     "duration": 0.030012,
     "end_time": "2025-07-30T20:16:46.036242",
     "exception": false,
     "start_time": "2025-07-30T20:16:46.006230",
     "status": "completed"
    },
    "tags": []
   },
   "outputs": [],
   "source": [
    "# Calibration data for conformal\n",
    "#X_calib = pd.read_csv(\"./data/X_calib.csv\")\n",
    "#y_calib = pd.read_csv(\"./data/y_calib.csv\")"
   ]
  },
  {
   "cell_type": "markdown",
   "id": "997051c5-15bd-4b69-9786-c3001a3ce484",
   "metadata": {
    "papermill": {
     "duration": 0.021157,
     "end_time": "2025-07-30T20:16:46.079217",
     "exception": false,
     "start_time": "2025-07-30T20:16:46.058060",
     "status": "completed"
    },
    "tags": []
   },
   "source": [
    "# Splitting Data and Setting Training Data Size"
   ]
  },
  {
   "cell_type": "code",
   "execution_count": 14,
   "id": "e993b61f-042d-41a6-8c81-f55681f86335",
   "metadata": {
    "execution": {
     "iopub.execute_input": "2025-07-30T20:16:46.120504Z",
     "iopub.status.busy": "2025-07-30T20:16:46.119998Z",
     "iopub.status.idle": "2025-07-30T20:16:46.134227Z",
     "shell.execute_reply": "2025-07-30T20:16:46.133256Z"
    },
    "papermill": {
     "duration": 0.036628,
     "end_time": "2025-07-30T20:16:46.135915",
     "exception": false,
     "start_time": "2025-07-30T20:16:46.099287",
     "status": "completed"
    },
    "tags": []
   },
   "outputs": [],
   "source": [
    "def sample_by_year_size(df,\n",
    "                        training_year: str,\n",
    "                        training_size: str,\n",
    "                        random_state: int = 42):\n",
    "    # --- parse training_year into a list of int years ---\n",
    "    if \"_\" in training_year:\n",
    "        start_str, end_str = training_year.split(\"_\", 1)\n",
    "        start = int(start_str)\n",
    "        end   = int(end_str) if len(end_str) == 4 else (int(end_str) + (start // 100)*100)\n",
    "        years = list(range(start, end + 1))\n",
    "    else:\n",
    "        years = [int(training_year)]\n",
    "\n",
    "    df = df[df[\"year\"].isin(years)].reset_index(drop=True)\n",
    "\n",
    "    # --- map training_size to total number of samples ---\n",
    "    total_map = {\"25k\": 25_000, \"5k\": 5_000, \"1k\": 1_000}\n",
    "    if training_size not in total_map:\n",
    "        return df  # e.g. \"all\"\n",
    "\n",
    "    total_samples = total_map[training_size]\n",
    "    n_years       = len(years)\n",
    "    base          = total_samples // n_years\n",
    "    remainder     = total_samples % n_years\n",
    "\n",
    "    # --- build a dict: year -> how many to sample ---\n",
    "    # give +1 to the first `remainder` years in ascending order\n",
    "    quotas = {\n",
    "        year: base + (1 if idx < remainder else 0)\n",
    "        for idx, year in enumerate(sorted(years))\n",
    "    }\n",
    "\n",
    "    # --- sample per‐year according to the quota dict ---\n",
    "    sampled = (\n",
    "        df\n",
    "        .groupby(\"year\", group_keys=False)\n",
    "        .apply(lambda grp: grp.sample(\n",
    "            n=min(len(grp), quotas[grp.name]),\n",
    "            random_state=random_state))\n",
    "        .reset_index(drop=True)\n",
    "    )\n",
    "\n",
    "    return sampled"
   ]
  },
  {
   "cell_type": "code",
   "execution_count": 15,
   "id": "c0ccd338-0e02-41f3-a09d-f56f9266e3fb",
   "metadata": {
    "execution": {
     "iopub.execute_input": "2025-07-30T20:16:46.183276Z",
     "iopub.status.busy": "2025-07-30T20:16:46.182194Z",
     "iopub.status.idle": "2025-07-30T20:16:46.188503Z",
     "shell.execute_reply": "2025-07-30T20:16:46.187437Z"
    },
    "papermill": {
     "duration": 0.031285,
     "end_time": "2025-07-30T20:16:46.190226",
     "exception": false,
     "start_time": "2025-07-30T20:16:46.158941",
     "status": "completed"
    },
    "tags": []
   },
   "outputs": [],
   "source": [
    "#universe[\"training_size\"]"
   ]
  },
  {
   "cell_type": "code",
   "execution_count": 16,
   "id": "ca707fd7-8047-4acd-bfa5-66248fbbf8e6",
   "metadata": {
    "execution": {
     "iopub.execute_input": "2025-07-30T20:16:46.235256Z",
     "iopub.status.busy": "2025-07-30T20:16:46.234403Z",
     "iopub.status.idle": "2025-07-30T20:16:46.239881Z",
     "shell.execute_reply": "2025-07-30T20:16:46.238922Z"
    },
    "papermill": {
     "duration": 0.029813,
     "end_time": "2025-07-30T20:16:46.241603",
     "exception": false,
     "start_time": "2025-07-30T20:16:46.211790",
     "status": "completed"
    },
    "tags": []
   },
   "outputs": [],
   "source": [
    "#universe[\"training_year\"]"
   ]
  },
  {
   "cell_type": "code",
   "execution_count": 17,
   "id": "aea9c6ef-6f46-42c8-85eb-5a62025c1508",
   "metadata": {
    "execution": {
     "iopub.execute_input": "2025-07-30T20:16:46.289096Z",
     "iopub.status.busy": "2025-07-30T20:16:46.288184Z",
     "iopub.status.idle": "2025-07-30T20:16:46.962328Z",
     "shell.execute_reply": "2025-07-30T20:16:46.961324Z"
    },
    "papermill": {
     "duration": 0.699525,
     "end_time": "2025-07-30T20:16:46.964395",
     "exception": false,
     "start_time": "2025-07-30T20:16:46.264870",
     "status": "completed"
    },
    "tags": []
   },
   "outputs": [],
   "source": [
    "siab_train = sample_by_year_size(siab,\n",
    "                               training_year=universe[\"training_year\"],\n",
    "                               training_size=universe[\"training_size\"])"
   ]
  },
  {
   "cell_type": "code",
   "execution_count": 18,
   "id": "8d3afb32-789d-442c-8d5d-9f5aa8dd2eed",
   "metadata": {
    "execution": {
     "iopub.execute_input": "2025-07-30T20:16:47.011056Z",
     "iopub.status.busy": "2025-07-30T20:16:47.010572Z",
     "iopub.status.idle": "2025-07-30T20:16:47.015948Z",
     "shell.execute_reply": "2025-07-30T20:16:47.014884Z"
    },
    "papermill": {
     "duration": 0.030574,
     "end_time": "2025-07-30T20:16:47.017979",
     "exception": false,
     "start_time": "2025-07-30T20:16:46.987405",
     "status": "completed"
    },
    "tags": []
   },
   "outputs": [],
   "source": [
    "#siab_train.shape"
   ]
  },
  {
   "cell_type": "code",
   "execution_count": 19,
   "id": "d582db68-1a4c-47fb-84fc-08518dc1975a",
   "metadata": {
    "execution": {
     "iopub.execute_input": "2025-07-30T20:16:47.065725Z",
     "iopub.status.busy": "2025-07-30T20:16:47.065207Z",
     "iopub.status.idle": "2025-07-30T20:16:47.070594Z",
     "shell.execute_reply": "2025-07-30T20:16:47.069469Z"
    },
    "papermill": {
     "duration": 0.030826,
     "end_time": "2025-07-30T20:16:47.072313",
     "exception": false,
     "start_time": "2025-07-30T20:16:47.041487",
     "status": "completed"
    },
    "tags": []
   },
   "outputs": [],
   "source": [
    "#display(siab_train.groupby(\"year\").size())"
   ]
  },
  {
   "cell_type": "code",
   "execution_count": 20,
   "id": "a561edb4-d032-42cb-8256-22eac1111c64",
   "metadata": {
    "execution": {
     "iopub.execute_input": "2025-07-30T20:16:47.116158Z",
     "iopub.status.busy": "2025-07-30T20:16:47.115408Z",
     "iopub.status.idle": "2025-07-30T20:16:47.350748Z",
     "shell.execute_reply": "2025-07-30T20:16:47.349768Z"
    },
    "papermill": {
     "duration": 0.258891,
     "end_time": "2025-07-30T20:16:47.352840",
     "exception": false,
     "start_time": "2025-07-30T20:16:47.093949",
     "status": "completed"
    },
    "tags": []
   },
   "outputs": [],
   "source": [
    "#siab_train = siab_s[siab_s.year < 2015]\n",
    "siab_calib = siab[siab.year == 2015]\n",
    "siab_test = siab[siab.year == 2016]"
   ]
  },
  {
   "cell_type": "code",
   "execution_count": 21,
   "id": "472de16f-c3db-4916-846b-1f0de9cf1746",
   "metadata": {
    "execution": {
     "iopub.execute_input": "2025-07-30T20:16:47.403904Z",
     "iopub.status.busy": "2025-07-30T20:16:47.402995Z",
     "iopub.status.idle": "2025-07-30T20:16:47.429730Z",
     "shell.execute_reply": "2025-07-30T20:16:47.428866Z"
    },
    "papermill": {
     "duration": 0.052696,
     "end_time": "2025-07-30T20:16:47.431699",
     "exception": false,
     "start_time": "2025-07-30T20:16:47.379003",
     "status": "completed"
    },
    "tags": []
   },
   "outputs": [],
   "source": [
    "X_train = siab_train.iloc[:,4:164]\n",
    "y_train = siab_train.iloc[:, [3]]"
   ]
  },
  {
   "cell_type": "code",
   "execution_count": 22,
   "id": "828c96af-f43a-4ed6-ba47-8ac73a47d56c",
   "metadata": {
    "execution": {
     "iopub.execute_input": "2025-07-30T20:16:47.456986Z",
     "iopub.status.busy": "2025-07-30T20:16:47.456284Z",
     "iopub.status.idle": "2025-07-30T20:16:47.509412Z",
     "shell.execute_reply": "2025-07-30T20:16:47.508287Z"
    },
    "papermill": {
     "duration": 0.067508,
     "end_time": "2025-07-30T20:16:47.511166",
     "exception": false,
     "start_time": "2025-07-30T20:16:47.443658",
     "status": "completed"
    },
    "tags": []
   },
   "outputs": [],
   "source": [
    "X_calib = siab_calib.iloc[:,4:164]\n",
    "y_calib = siab_calib.iloc[:, [3]]"
   ]
  },
  {
   "cell_type": "code",
   "execution_count": 23,
   "id": "c34be9c3-6bd6-476e-acd3-845840e303be",
   "metadata": {
    "execution": {
     "iopub.execute_input": "2025-07-30T20:16:47.538523Z",
     "iopub.status.busy": "2025-07-30T20:16:47.538214Z",
     "iopub.status.idle": "2025-07-30T20:16:47.623084Z",
     "shell.execute_reply": "2025-07-30T20:16:47.621931Z"
    },
    "papermill": {
     "duration": 0.098652,
     "end_time": "2025-07-30T20:16:47.625375",
     "exception": false,
     "start_time": "2025-07-30T20:16:47.526723",
     "status": "completed"
    },
    "tags": []
   },
   "outputs": [],
   "source": [
    "X_test = siab_test.iloc[:,4:164]\n",
    "y_true = siab_test.iloc[:, [3]]"
   ]
  },
  {
   "cell_type": "markdown",
   "id": "9901737e-04df-44f0-9100-f5ad144ed040",
   "metadata": {
    "papermill": {
     "duration": 0.023068,
     "end_time": "2025-07-30T20:16:47.672689",
     "exception": false,
     "start_time": "2025-07-30T20:16:47.649621",
     "status": "completed"
    },
    "tags": []
   },
   "source": [
    "# Splitting Data and Setting Training Data Size OLD VERSION"
   ]
  },
  {
   "cell_type": "code",
   "execution_count": 24,
   "id": "acbc8f7d-8fc8-4e86-8c59-5dcb0f58384b",
   "metadata": {
    "execution": {
     "iopub.execute_input": "2025-07-30T20:16:47.719091Z",
     "iopub.status.busy": "2025-07-30T20:16:47.718635Z",
     "iopub.status.idle": "2025-07-30T20:16:47.724301Z",
     "shell.execute_reply": "2025-07-30T20:16:47.723277Z"
    },
    "papermill": {
     "duration": 0.031001,
     "end_time": "2025-07-30T20:16:47.725944",
     "exception": false,
     "start_time": "2025-07-30T20:16:47.694943",
     "status": "completed"
    },
    "tags": []
   },
   "outputs": [],
   "source": [
    "#def sample_by_year(df, training_size, random_state=42):\n",
    "#    if training_size == \"2014\":\n",
    "#        return df[df[\"year\"] == 2014].reset_index(drop=True)\n",
    "#    \n",
    "#    size_map = {\n",
    "#        \"25k\": 5000,\n",
    "#        \"5k\": 1000,\n",
    "#        \"1k\": 200\n",
    "#    }\n",
    "#\n",
    "#    if training_size not in size_map:\n",
    "#        return df.reset_index(drop=True)  # use all data\n",
    "#\n",
    "#    n_per_year = size_map[training_size]\n",
    "#    grouped = df.groupby(\"year\")\n",
    "#    sampled = grouped.apply(lambda x: x.sample(n=min(n_per_year, len(x)), random_state=random_state))\n",
    "#    return sampled.reset_index(drop=True)"
   ]
  },
  {
   "cell_type": "code",
   "execution_count": 25,
   "id": "6d931f52-beaf-43ff-9e78-9d44a448d54e",
   "metadata": {
    "execution": {
     "iopub.execute_input": "2025-07-30T20:16:47.774896Z",
     "iopub.status.busy": "2025-07-30T20:16:47.774061Z",
     "iopub.status.idle": "2025-07-30T20:16:47.779513Z",
     "shell.execute_reply": "2025-07-30T20:16:47.778449Z"
    },
    "papermill": {
     "duration": 0.031104,
     "end_time": "2025-07-30T20:16:47.781432",
     "exception": false,
     "start_time": "2025-07-30T20:16:47.750328",
     "status": "completed"
    },
    "tags": []
   },
   "outputs": [],
   "source": [
    "#siab_s = sample_by_year(siab, universe[\"training_size\"])"
   ]
  },
  {
   "cell_type": "code",
   "execution_count": 26,
   "id": "5db0a40e-a4e2-4920-be85-b12ae061d70d",
   "metadata": {
    "execution": {
     "iopub.execute_input": "2025-07-30T20:16:47.829402Z",
     "iopub.status.busy": "2025-07-30T20:16:47.828853Z",
     "iopub.status.idle": "2025-07-30T20:16:47.834191Z",
     "shell.execute_reply": "2025-07-30T20:16:47.833240Z"
    },
    "papermill": {
     "duration": 0.030917,
     "end_time": "2025-07-30T20:16:47.835926",
     "exception": false,
     "start_time": "2025-07-30T20:16:47.805009",
     "status": "completed"
    },
    "tags": []
   },
   "outputs": [],
   "source": [
    "#display(siab_s.groupby(\"year\").size())"
   ]
  },
  {
   "cell_type": "code",
   "execution_count": 27,
   "id": "e6c733c5",
   "metadata": {
    "execution": {
     "iopub.execute_input": "2025-07-30T20:16:47.883903Z",
     "iopub.status.busy": "2025-07-30T20:16:47.883275Z",
     "iopub.status.idle": "2025-07-30T20:16:47.983134Z",
     "shell.execute_reply": "2025-07-30T20:16:47.982056Z"
    },
    "papermill": {
     "duration": 0.125653,
     "end_time": "2025-07-30T20:16:47.985229",
     "exception": false,
     "start_time": "2025-07-30T20:16:47.859576",
     "status": "completed"
    },
    "tags": []
   },
   "outputs": [],
   "source": [
    "# Auxiliary data needed downstream in the pipeline\n",
    "\n",
    "org_train = X_train.copy()\n",
    "org_test = X_test.copy()\n",
    "org_calib = X_calib.copy()"
   ]
  },
  {
   "cell_type": "code",
   "execution_count": 28,
   "id": "1466abac-c6da-4492-a62f-4240ae3783af",
   "metadata": {
    "execution": {
     "iopub.execute_input": "2025-07-30T20:16:48.033125Z",
     "iopub.status.busy": "2025-07-30T20:16:48.032477Z",
     "iopub.status.idle": "2025-07-30T20:16:48.038255Z",
     "shell.execute_reply": "2025-07-30T20:16:48.037233Z"
    },
    "papermill": {
     "duration": 0.031402,
     "end_time": "2025-07-30T20:16:48.039981",
     "exception": false,
     "start_time": "2025-07-30T20:16:48.008579",
     "status": "completed"
    },
    "tags": []
   },
   "outputs": [],
   "source": [
    "# put in other script?\n",
    "# Group sizes\n",
    "\n",
    "#def calculate_percentages(df, df_name):\n",
    "#    total_entries = len(df)\n",
    "#\n",
    "#    female_pct = (df['frau1'] == 1).mean() * 100\n",
    "#    non_german_pct = ((df['maxdeutsch1'] == 0) & (df['maxdeutsch.Missing.'] == 0)).mean() * 100\n",
    "#    non_german_male_pct = ((df['frau1'] == 0) & (df['maxdeutsch1'] == 0) & (df['maxdeutsch.Missing.'] == 0)).mean() * 100\n",
    "#    non_german_female_pct = ((df['frau1'] == 1) & (df['maxdeutsch1'] == 0) & (df['maxdeutsch.Missing.'] == 0)).mean() * 100\n",
    "#\n",
    "#    print(f\"--- {df_name} ---\")\n",
    "#    print(f\"Female: {female_pct:.2f}%\")\n",
    "#    print(f\"Non-German: {non_german_pct:.2f}%\")\n",
    "#    print(f\"Non-German Male: {non_german_male_pct:.2f}%\")\n",
    "#    print(f\"Non-German Female: {non_german_female_pct:.2f}%\\n\")\n",
    "#\n",
    "## Calculate for each DataFrame\n",
    "#calculate_percentages(siab_calib, \"siab_calib\")\n",
    "#calculate_percentages(siab_test, \"siab_test\")\n",
    "#calculate_percentages(siab_train, \"siab_train\")"
   ]
  },
  {
   "cell_type": "markdown",
   "id": "0a4a1b33",
   "metadata": {
    "papermill": {
     "duration": 0.022839,
     "end_time": "2025-07-30T20:16:48.087121",
     "exception": false,
     "start_time": "2025-07-30T20:16:48.064282",
     "status": "completed"
    },
    "tags": []
   },
   "source": [
    "# Preprocessing Data"
   ]
  },
  {
   "cell_type": "code",
   "execution_count": 29,
   "id": "ca879031",
   "metadata": {
    "execution": {
     "iopub.execute_input": "2025-07-30T20:16:48.135126Z",
     "iopub.status.busy": "2025-07-30T20:16:48.134629Z",
     "iopub.status.idle": "2025-07-30T20:16:48.141200Z",
     "shell.execute_reply": "2025-07-30T20:16:48.140152Z"
    },
    "papermill": {
     "duration": 0.032622,
     "end_time": "2025-07-30T20:16:48.142954",
     "exception": false,
     "start_time": "2025-07-30T20:16:48.110332",
     "status": "completed"
    },
    "tags": []
   },
   "outputs": [],
   "source": [
    "# EXCLUDE PROTECTED FEATURES\n",
    "# ----------------------\n",
    "# \"exclude_features\": \"none\", # \"nationality\", \"sex\", \"nationality-sex\"\n",
    "\n",
    "excluded_features = universe[\"exclude_features\"].split(\"-\") # split, e.g.: \"nationality-sex\" -> [\"nationality\", \"sex\"]\n",
    "excluded_features_dictionary = {\n",
    "    \"nationality\": [\"maxdeutsch1\", \"maxdeutsch.Missing.\"],\n",
    "    \"sex\": [\"frau1\"],\n",
    "    \"age\": [\"age\"],\n",
    "}\n"
   ]
  },
  {
   "cell_type": "code",
   "execution_count": 30,
   "id": "b745ac60",
   "metadata": {
    "execution": {
     "iopub.execute_input": "2025-07-30T20:16:48.192529Z",
     "iopub.status.busy": "2025-07-30T20:16:48.191642Z",
     "iopub.status.idle": "2025-07-30T20:16:48.197807Z",
     "shell.execute_reply": "2025-07-30T20:16:48.196775Z"
    },
    "papermill": {
     "duration": 0.032297,
     "end_time": "2025-07-30T20:16:48.199588",
     "exception": false,
     "start_time": "2025-07-30T20:16:48.167291",
     "status": "completed"
    },
    "tags": []
   },
   "outputs": [],
   "source": [
    "# Code nice names to column names\n",
    "\n",
    "excluded_features_columns = [\n",
    "    excluded_features_dictionary[f] for f in excluded_features if len(f) > 0 and f != \"none\"\n",
    "]"
   ]
  },
  {
   "cell_type": "code",
   "execution_count": 31,
   "id": "f84f73a2",
   "metadata": {
    "execution": {
     "iopub.execute_input": "2025-07-30T20:16:48.249167Z",
     "iopub.status.busy": "2025-07-30T20:16:48.248679Z",
     "iopub.status.idle": "2025-07-30T20:16:48.255316Z",
     "shell.execute_reply": "2025-07-30T20:16:48.254299Z"
    },
    "papermill": {
     "duration": 0.033351,
     "end_time": "2025-07-30T20:16:48.257136",
     "exception": false,
     "start_time": "2025-07-30T20:16:48.223785",
     "status": "completed"
    },
    "tags": []
   },
   "outputs": [],
   "source": [
    "from utils import flatten_once\n",
    "\n",
    "excluded_features_columns = flatten_once(excluded_features_columns)"
   ]
  },
  {
   "cell_type": "code",
   "execution_count": 32,
   "id": "884dea22",
   "metadata": {
    "execution": {
     "iopub.execute_input": "2025-07-30T20:16:48.306085Z",
     "iopub.status.busy": "2025-07-30T20:16:48.305594Z",
     "iopub.status.idle": "2025-07-30T20:16:48.322556Z",
     "shell.execute_reply": "2025-07-30T20:16:48.321462Z"
    },
    "papermill": {
     "duration": 0.042496,
     "end_time": "2025-07-30T20:16:48.324306",
     "exception": false,
     "start_time": "2025-07-30T20:16:48.281810",
     "status": "completed"
    },
    "tags": []
   },
   "outputs": [
    {
     "name": "stdout",
     "output_type": "stream",
     "text": [
      "Dropping features: ['maxdeutsch1', 'maxdeutsch.Missing.']\n"
     ]
    }
   ],
   "source": [
    "if len(excluded_features_columns) > 0:\n",
    "    print(f\"Dropping features: {excluded_features_columns}\")\n",
    "    X_train.drop(excluded_features_columns, axis=1, inplace=True)"
   ]
  },
  {
   "cell_type": "code",
   "execution_count": 33,
   "id": "95ab8b16",
   "metadata": {
    "execution": {
     "iopub.execute_input": "2025-07-30T20:16:48.370282Z",
     "iopub.status.busy": "2025-07-30T20:16:48.369757Z",
     "iopub.status.idle": "2025-07-30T20:16:48.445469Z",
     "shell.execute_reply": "2025-07-30T20:16:48.444134Z"
    },
    "papermill": {
     "duration": 0.101146,
     "end_time": "2025-07-30T20:16:48.447647",
     "exception": false,
     "start_time": "2025-07-30T20:16:48.346501",
     "status": "completed"
    },
    "tags": []
   },
   "outputs": [
    {
     "name": "stdout",
     "output_type": "stream",
     "text": [
      "Dropping features: ['maxdeutsch1', 'maxdeutsch.Missing.']\n"
     ]
    }
   ],
   "source": [
    "if len(excluded_features_columns) > 0:\n",
    "    print(f\"Dropping features: {excluded_features_columns}\")\n",
    "    X_test.drop(excluded_features_columns, axis=1, inplace=True)"
   ]
  },
  {
   "cell_type": "code",
   "execution_count": 34,
   "id": "1853aaf5-fb9f-46cb-a2b5-8ea4ae2237e4",
   "metadata": {
    "execution": {
     "iopub.execute_input": "2025-07-30T20:16:48.492993Z",
     "iopub.status.busy": "2025-07-30T20:16:48.492161Z",
     "iopub.status.idle": "2025-07-30T20:16:48.543534Z",
     "shell.execute_reply": "2025-07-30T20:16:48.542397Z"
    },
    "papermill": {
     "duration": 0.0832,
     "end_time": "2025-07-30T20:16:48.553502",
     "exception": false,
     "start_time": "2025-07-30T20:16:48.470302",
     "status": "completed"
    },
    "tags": []
   },
   "outputs": [
    {
     "name": "stdout",
     "output_type": "stream",
     "text": [
      "Dropping features: ['maxdeutsch1', 'maxdeutsch.Missing.']\n"
     ]
    }
   ],
   "source": [
    "if len(excluded_features_columns) > 0:\n",
    "    print(f\"Dropping features: {excluded_features_columns}\")\n",
    "    X_calib.drop(excluded_features_columns, axis=1, inplace=True)"
   ]
  },
  {
   "cell_type": "code",
   "execution_count": 35,
   "id": "6727d079-03e5-481e-9d38-292a90b7a0a8",
   "metadata": {
    "execution": {
     "iopub.execute_input": "2025-07-30T20:16:48.601421Z",
     "iopub.status.busy": "2025-07-30T20:16:48.600874Z",
     "iopub.status.idle": "2025-07-30T20:16:48.610538Z",
     "shell.execute_reply": "2025-07-30T20:16:48.609828Z"
    },
    "papermill": {
     "duration": 0.035117,
     "end_time": "2025-07-30T20:16:48.611779",
     "exception": false,
     "start_time": "2025-07-30T20:16:48.576662",
     "status": "completed"
    },
    "tags": []
   },
   "outputs": [],
   "source": [
    "# SPLIT & STRATIFY DATA\n",
    "# ----------------------"
   ]
  },
  {
   "cell_type": "code",
   "execution_count": 36,
   "id": "76c4dc6d",
   "metadata": {
    "execution": {
     "iopub.execute_input": "2025-07-30T20:16:48.638665Z",
     "iopub.status.busy": "2025-07-30T20:16:48.638342Z",
     "iopub.status.idle": "2025-07-30T20:16:48.642763Z",
     "shell.execute_reply": "2025-07-30T20:16:48.641929Z"
    },
    "papermill": {
     "duration": 0.01965,
     "end_time": "2025-07-30T20:16:48.644162",
     "exception": false,
     "start_time": "2025-07-30T20:16:48.624512",
     "status": "completed"
    },
    "tags": []
   },
   "outputs": [],
   "source": [
    "# EXCLUDE CERTAIN SUBGROUPS\n",
    "# ----------------------\n",
    "\n",
    "mode = universe.get(\"exclude_subgroups\", \"keep-all\") \n",
    "# Fetches the exclude_subgroups setting from the universe dict.\n",
    "# Defaults to \"keep-all\" if the key is missing."
   ]
  },
  {
   "cell_type": "code",
   "execution_count": 37,
   "id": "21994072",
   "metadata": {
    "execution": {
     "iopub.execute_input": "2025-07-30T20:16:48.674647Z",
     "iopub.status.busy": "2025-07-30T20:16:48.674213Z",
     "iopub.status.idle": "2025-07-30T20:16:48.680556Z",
     "shell.execute_reply": "2025-07-30T20:16:48.679397Z"
    },
    "papermill": {
     "duration": 0.022116,
     "end_time": "2025-07-30T20:16:48.681903",
     "exception": false,
     "start_time": "2025-07-30T20:16:48.659787",
     "status": "completed"
    },
    "tags": []
   },
   "outputs": [],
   "source": [
    "if mode == \"keep-all\":\n",
    "    keep_mask = pd.Series(True, index=org_train.index)\n",
    "\n",
    "# org_train contains the original feature columns from features_org (in Simson)\n",
    "# features_org contains unprocessed features, for me X_train at beginning ???\n",
    "# For keep-all, creates a boolean Series (keep_mask) of all True, so no rows are removed.\n",
    "\n",
    "elif mode == \"drop-non-german\":\n",
    "    keep_mask = org_train[\"maxdeutsch1\"] == 1 # ??? what about missing values?\n",
    "\n",
    "else:\n",
    "    raise ValueError(f\"Unsupported mode for exclude_subgroups: {mode}\")\n"
   ]
  },
  {
   "cell_type": "code",
   "execution_count": 38,
   "id": "71651440",
   "metadata": {
    "execution": {
     "iopub.execute_input": "2025-07-30T20:16:48.706799Z",
     "iopub.status.busy": "2025-07-30T20:16:48.706207Z",
     "iopub.status.idle": "2025-07-30T20:16:48.712244Z",
     "shell.execute_reply": "2025-07-30T20:16:48.711447Z"
    },
    "papermill": {
     "duration": 0.019157,
     "end_time": "2025-07-30T20:16:48.713566",
     "exception": false,
     "start_time": "2025-07-30T20:16:48.694409",
     "status": "completed"
    },
    "tags": []
   },
   "outputs": [
    {
     "name": "stdout",
     "output_type": "stream",
     "text": [
      "Dropping 3481 rows (13.92%) where mode='drop-non-german'\n"
     ]
    }
   ],
   "source": [
    "n_drop = (~keep_mask).sum() # Calculates how many rows are set to be dropped\n",
    "if n_drop > 0:\n",
    "    pct = n_drop / len(keep_mask) * 100\n",
    "    print(f\"Dropping {n_drop} rows ({pct:.2f}%) where mode='{mode}'\")"
   ]
  },
  {
   "cell_type": "code",
   "execution_count": 39,
   "id": "5fb8eee5",
   "metadata": {
    "execution": {
     "iopub.execute_input": "2025-07-30T20:16:48.743613Z",
     "iopub.status.busy": "2025-07-30T20:16:48.742936Z",
     "iopub.status.idle": "2025-07-30T20:16:48.756859Z",
     "shell.execute_reply": "2025-07-30T20:16:48.756037Z"
    },
    "papermill": {
     "duration": 0.027811,
     "end_time": "2025-07-30T20:16:48.758521",
     "exception": false,
     "start_time": "2025-07-30T20:16:48.730710",
     "status": "completed"
    },
    "tags": []
   },
   "outputs": [],
   "source": [
    "X_train = X_train[keep_mask]"
   ]
  },
  {
   "cell_type": "code",
   "execution_count": 40,
   "id": "b202bb3a",
   "metadata": {
    "execution": {
     "iopub.execute_input": "2025-07-30T20:16:48.789152Z",
     "iopub.status.busy": "2025-07-30T20:16:48.788821Z",
     "iopub.status.idle": "2025-07-30T20:16:48.793728Z",
     "shell.execute_reply": "2025-07-30T20:16:48.793048Z"
    },
    "papermill": {
     "duration": 0.023608,
     "end_time": "2025-07-30T20:16:48.795096",
     "exception": false,
     "start_time": "2025-07-30T20:16:48.771488",
     "status": "completed"
    },
    "tags": []
   },
   "outputs": [],
   "source": [
    "y_train = y_train[keep_mask]"
   ]
  },
  {
   "cell_type": "markdown",
   "id": "493e2ac3",
   "metadata": {
    "papermill": {
     "duration": 0.01346,
     "end_time": "2025-07-30T20:16:48.821598",
     "exception": false,
     "start_time": "2025-07-30T20:16:48.808138",
     "status": "completed"
    },
    "tags": []
   },
   "source": [
    "# Model Training"
   ]
  },
  {
   "cell_type": "code",
   "execution_count": 41,
   "id": "679e1268",
   "metadata": {
    "execution": {
     "iopub.execute_input": "2025-07-30T20:16:48.845804Z",
     "iopub.status.busy": "2025-07-30T20:16:48.845455Z",
     "iopub.status.idle": "2025-07-30T20:16:48.923232Z",
     "shell.execute_reply": "2025-07-30T20:16:48.921994Z"
    },
    "papermill": {
     "duration": 0.092496,
     "end_time": "2025-07-30T20:16:48.925551",
     "exception": false,
     "start_time": "2025-07-30T20:16:48.833055",
     "status": "completed"
    },
    "tags": []
   },
   "outputs": [],
   "source": [
    "from sklearn.linear_model import LogisticRegression\n",
    "from sklearn.ensemble import GradientBoostingClassifier, RandomForestClassifier\n",
    "\n",
    "if (universe[\"model\"] == \"logreg\"):\n",
    "    model = LogisticRegression() #penalty=\"none\") #, solver=\"newton-cg\", max_iter=1) # include random_state=19 ?\n",
    "elif (universe[\"model\"] == \"penalized_logreg\"):\n",
    "    model = LogisticRegression(penalty=\"l2\", C=1.0) #, solver=\"newton-cg\", max_iter=1)\n",
    "elif (universe[\"model\"] == \"rf\"):\n",
    "    model = RandomForestClassifier(n_estimators=100, n_jobs=-1)\n",
    "elif (universe[\"model\"] == \"gbm\"):\n",
    "    model = GradientBoostingClassifier()\n",
    "elif (universe[\"model\"] == \"elasticnet\"):\n",
    "    model = LogisticRegression(penalty = 'elasticnet', solver = 'saga', l1_ratio = 0.5, max_iter=5000) # which solver to use?\n",
    "else:\n",
    "    raise \"Unsupported universe.model\""
   ]
  },
  {
   "cell_type": "code",
   "execution_count": 42,
   "id": "0cc8f744",
   "metadata": {
    "execution": {
     "iopub.execute_input": "2025-07-30T20:16:48.974595Z",
     "iopub.status.busy": "2025-07-30T20:16:48.973869Z",
     "iopub.status.idle": "2025-07-30T20:16:48.981093Z",
     "shell.execute_reply": "2025-07-30T20:16:48.979956Z"
    },
    "papermill": {
     "duration": 0.033979,
     "end_time": "2025-07-30T20:16:48.982883",
     "exception": false,
     "start_time": "2025-07-30T20:16:48.948904",
     "status": "completed"
    },
    "tags": []
   },
   "outputs": [],
   "source": [
    "import numpy as np\n",
    "from sklearn.pipeline import Pipeline\n",
    "from sklearn.preprocessing import StandardScaler\n",
    "\n",
    "model = Pipeline([\n",
    "    #(\"continuous_processor\", continuous_processor),\n",
    "    #(\"categorical_preprocessor\", categorical_preprocessor),\n",
    "    (\"scale\", StandardScaler() if universe[\"scale\"] == \"scale\" else None), \n",
    "    (\"model\", model),\n",
    "])"
   ]
  },
  {
   "cell_type": "code",
   "execution_count": 43,
   "id": "9442c04d",
   "metadata": {
    "execution": {
     "iopub.execute_input": "2025-07-30T20:16:49.032544Z",
     "iopub.status.busy": "2025-07-30T20:16:49.031771Z",
     "iopub.status.idle": "2025-07-30T20:16:49.502424Z",
     "shell.execute_reply": "2025-07-30T20:16:49.501745Z"
    },
    "papermill": {
     "duration": 0.496892,
     "end_time": "2025-07-30T20:16:49.503634",
     "exception": false,
     "start_time": "2025-07-30T20:16:49.006742",
     "status": "completed"
    },
    "tags": []
   },
   "outputs": [
    {
     "name": "stderr",
     "output_type": "stream",
     "text": [
      "/dss/dsshome1/0C/ra93lal2/.local/share/virtualenvs/CMA_Fairness_v2-3j10GkSs/lib/python3.10/site-packages/sklearn/linear_model/_logistic.py:444: ConvergenceWarning: lbfgs failed to converge (status=1):\n",
      "STOP: TOTAL NO. of ITERATIONS REACHED LIMIT.\n",
      "\n",
      "Increase the number of iterations (max_iter) or scale the data as shown in:\n",
      "    https://scikit-learn.org/stable/modules/preprocessing.html\n",
      "Please also refer to the documentation for alternative solver options:\n",
      "    https://scikit-learn.org/stable/modules/linear_model.html#logistic-regression\n",
      "  n_iter_i = _check_optimize_result(\n"
     ]
    },
    {
     "data": {
      "text/html": [
       "<style>#sk-container-id-1 {color: black;background-color: white;}#sk-container-id-1 pre{padding: 0;}#sk-container-id-1 div.sk-toggleable {background-color: white;}#sk-container-id-1 label.sk-toggleable__label {cursor: pointer;display: block;width: 100%;margin-bottom: 0;padding: 0.3em;box-sizing: border-box;text-align: center;}#sk-container-id-1 label.sk-toggleable__label-arrow:before {content: \"▸\";float: left;margin-right: 0.25em;color: #696969;}#sk-container-id-1 label.sk-toggleable__label-arrow:hover:before {color: black;}#sk-container-id-1 div.sk-estimator:hover label.sk-toggleable__label-arrow:before {color: black;}#sk-container-id-1 div.sk-toggleable__content {max-height: 0;max-width: 0;overflow: hidden;text-align: left;background-color: #f0f8ff;}#sk-container-id-1 div.sk-toggleable__content pre {margin: 0.2em;color: black;border-radius: 0.25em;background-color: #f0f8ff;}#sk-container-id-1 input.sk-toggleable__control:checked~div.sk-toggleable__content {max-height: 200px;max-width: 100%;overflow: auto;}#sk-container-id-1 input.sk-toggleable__control:checked~label.sk-toggleable__label-arrow:before {content: \"▾\";}#sk-container-id-1 div.sk-estimator input.sk-toggleable__control:checked~label.sk-toggleable__label {background-color: #d4ebff;}#sk-container-id-1 div.sk-label input.sk-toggleable__control:checked~label.sk-toggleable__label {background-color: #d4ebff;}#sk-container-id-1 input.sk-hidden--visually {border: 0;clip: rect(1px 1px 1px 1px);clip: rect(1px, 1px, 1px, 1px);height: 1px;margin: -1px;overflow: hidden;padding: 0;position: absolute;width: 1px;}#sk-container-id-1 div.sk-estimator {font-family: monospace;background-color: #f0f8ff;border: 1px dotted black;border-radius: 0.25em;box-sizing: border-box;margin-bottom: 0.5em;}#sk-container-id-1 div.sk-estimator:hover {background-color: #d4ebff;}#sk-container-id-1 div.sk-parallel-item::after {content: \"\";width: 100%;border-bottom: 1px solid gray;flex-grow: 1;}#sk-container-id-1 div.sk-label:hover label.sk-toggleable__label {background-color: #d4ebff;}#sk-container-id-1 div.sk-serial::before {content: \"\";position: absolute;border-left: 1px solid gray;box-sizing: border-box;top: 0;bottom: 0;left: 50%;z-index: 0;}#sk-container-id-1 div.sk-serial {display: flex;flex-direction: column;align-items: center;background-color: white;padding-right: 0.2em;padding-left: 0.2em;position: relative;}#sk-container-id-1 div.sk-item {position: relative;z-index: 1;}#sk-container-id-1 div.sk-parallel {display: flex;align-items: stretch;justify-content: center;background-color: white;position: relative;}#sk-container-id-1 div.sk-item::before, #sk-container-id-1 div.sk-parallel-item::before {content: \"\";position: absolute;border-left: 1px solid gray;box-sizing: border-box;top: 0;bottom: 0;left: 50%;z-index: -1;}#sk-container-id-1 div.sk-parallel-item {display: flex;flex-direction: column;z-index: 1;position: relative;background-color: white;}#sk-container-id-1 div.sk-parallel-item:first-child::after {align-self: flex-end;width: 50%;}#sk-container-id-1 div.sk-parallel-item:last-child::after {align-self: flex-start;width: 50%;}#sk-container-id-1 div.sk-parallel-item:only-child::after {width: 0;}#sk-container-id-1 div.sk-dashed-wrapped {border: 1px dashed gray;margin: 0 0.4em 0.5em 0.4em;box-sizing: border-box;padding-bottom: 0.4em;background-color: white;}#sk-container-id-1 div.sk-label label {font-family: monospace;font-weight: bold;display: inline-block;line-height: 1.2em;}#sk-container-id-1 div.sk-label-container {text-align: center;}#sk-container-id-1 div.sk-container {/* jupyter's `normalize.less` sets `[hidden] { display: none; }` but bootstrap.min.css set `[hidden] { display: none !important; }` so we also need the `!important` here to be able to override the default hidden behavior on the sphinx rendered scikit-learn.org. See: https://github.com/scikit-learn/scikit-learn/issues/21755 */display: inline-block !important;position: relative;}#sk-container-id-1 div.sk-text-repr-fallback {display: none;}</style><div id=\"sk-container-id-1\" class=\"sk-top-container\"><div class=\"sk-text-repr-fallback\"><pre>Pipeline(steps=[(&#x27;scale&#x27;, None), (&#x27;model&#x27;, LogisticRegression())])</pre><b>In a Jupyter environment, please rerun this cell to show the HTML representation or trust the notebook. <br />On GitHub, the HTML representation is unable to render, please try loading this page with nbviewer.org.</b></div><div class=\"sk-container\" hidden><div class=\"sk-item sk-dashed-wrapped\"><div class=\"sk-label-container\"><div class=\"sk-label sk-toggleable\"><input class=\"sk-toggleable__control sk-hidden--visually\" id=\"sk-estimator-id-1\" type=\"checkbox\" ><label for=\"sk-estimator-id-1\" class=\"sk-toggleable__label sk-toggleable__label-arrow\">Pipeline</label><div class=\"sk-toggleable__content\"><pre>Pipeline(steps=[(&#x27;scale&#x27;, None), (&#x27;model&#x27;, LogisticRegression())])</pre></div></div></div><div class=\"sk-serial\"><div class=\"sk-item\"><div class=\"sk-estimator sk-toggleable\"><input class=\"sk-toggleable__control sk-hidden--visually\" id=\"sk-estimator-id-2\" type=\"checkbox\" ><label for=\"sk-estimator-id-2\" class=\"sk-toggleable__label sk-toggleable__label-arrow\">None</label><div class=\"sk-toggleable__content\"><pre>None</pre></div></div></div><div class=\"sk-item\"><div class=\"sk-estimator sk-toggleable\"><input class=\"sk-toggleable__control sk-hidden--visually\" id=\"sk-estimator-id-3\" type=\"checkbox\" ><label for=\"sk-estimator-id-3\" class=\"sk-toggleable__label sk-toggleable__label-arrow\">LogisticRegression</label><div class=\"sk-toggleable__content\"><pre>LogisticRegression()</pre></div></div></div></div></div></div></div>"
      ],
      "text/plain": [
       "Pipeline(steps=[('scale', None), ('model', LogisticRegression())])"
      ]
     },
     "execution_count": 43,
     "metadata": {},
     "output_type": "execute_result"
    }
   ],
   "source": [
    "model.fit(X_train, y_train.values.ravel())"
   ]
  },
  {
   "cell_type": "code",
   "execution_count": 44,
   "id": "af59f8c0",
   "metadata": {
    "execution": {
     "iopub.execute_input": "2025-07-30T20:16:49.529561Z",
     "iopub.status.busy": "2025-07-30T20:16:49.529186Z",
     "iopub.status.idle": "2025-07-30T20:16:49.533467Z",
     "shell.execute_reply": "2025-07-30T20:16:49.532601Z"
    },
    "papermill": {
     "duration": 0.018299,
     "end_time": "2025-07-30T20:16:49.534778",
     "exception": false,
     "start_time": "2025-07-30T20:16:49.516479",
     "status": "completed"
    },
    "tags": []
   },
   "outputs": [],
   "source": [
    "from fairness_multiverse.universe import predict_w_threshold"
   ]
  },
  {
   "cell_type": "code",
   "execution_count": 45,
   "id": "a7cf2e16",
   "metadata": {
    "execution": {
     "iopub.execute_input": "2025-07-30T20:16:49.561967Z",
     "iopub.status.busy": "2025-07-30T20:16:49.561286Z",
     "iopub.status.idle": "2025-07-30T20:16:49.643344Z",
     "shell.execute_reply": "2025-07-30T20:16:49.642496Z"
    },
    "papermill": {
     "duration": 0.096006,
     "end_time": "2025-07-30T20:16:49.644683",
     "exception": false,
     "start_time": "2025-07-30T20:16:49.548677",
     "status": "completed"
    },
    "tags": []
   },
   "outputs": [
    {
     "data": {
      "text/plain": [
       "0.8606844276000446"
      ]
     },
     "execution_count": 45,
     "metadata": {},
     "output_type": "execute_result"
    }
   ],
   "source": [
    "probs_test = model.predict_proba(X_test)\n",
    "\n",
    "'''\n",
    "Below code returns a boolean array (or binary 0/1 array depending on how it’s used) where each element \n",
    "is True if the probability of class 1 is greater than or equal to the threshold, and False otherwise.\n",
    "'''\n",
    "y_pred_default = predict_w_threshold(probs_test, 0.5)\n",
    "\n",
    "from sklearn.metrics import accuracy_score\n",
    "\n",
    "# Naive prediction\n",
    "accuracy_score(y_true = y_true, y_pred = y_pred_default)"
   ]
  },
  {
   "cell_type": "code",
   "execution_count": 46,
   "id": "081964c3",
   "metadata": {
    "execution": {
     "iopub.execute_input": "2025-07-30T20:16:49.670633Z",
     "iopub.status.busy": "2025-07-30T20:16:49.670163Z",
     "iopub.status.idle": "2025-07-30T20:16:49.744571Z",
     "shell.execute_reply": "2025-07-30T20:16:49.743711Z"
    },
    "papermill": {
     "duration": 0.088402,
     "end_time": "2025-07-30T20:16:49.745897",
     "exception": false,
     "start_time": "2025-07-30T20:16:49.657495",
     "status": "completed"
    },
    "tags": []
   },
   "outputs": [
    {
     "data": {
      "text/plain": [
       "array([0, 0, 0, ..., 0, 0, 0])"
      ]
     },
     "execution_count": 46,
     "metadata": {},
     "output_type": "execute_result"
    }
   ],
   "source": [
    "model.predict(X_test)"
   ]
  },
  {
   "cell_type": "markdown",
   "id": "56c9705b",
   "metadata": {
    "papermill": {
     "duration": 0.011918,
     "end_time": "2025-07-30T20:16:49.770495",
     "exception": false,
     "start_time": "2025-07-30T20:16:49.758577",
     "status": "completed"
    },
    "tags": []
   },
   "source": [
    "# Conformal Prediction"
   ]
  },
  {
   "cell_type": "code",
   "execution_count": 47,
   "id": "160ec6ff",
   "metadata": {
    "execution": {
     "iopub.execute_input": "2025-07-30T20:16:49.796144Z",
     "iopub.status.busy": "2025-07-30T20:16:49.795619Z",
     "iopub.status.idle": "2025-07-30T20:16:49.800174Z",
     "shell.execute_reply": "2025-07-30T20:16:49.799325Z"
    },
    "papermill": {
     "duration": 0.018952,
     "end_time": "2025-07-30T20:16:49.801519",
     "exception": false,
     "start_time": "2025-07-30T20:16:49.782567",
     "status": "completed"
    },
    "tags": []
   },
   "outputs": [],
   "source": [
    "# Miscoverage level for conformal prediction (10% allowed error rate => 90% target coverage)\n",
    "alpha = 0.1"
   ]
  },
  {
   "cell_type": "code",
   "execution_count": 48,
   "id": "eadf4555-3dd3-440e-8e35-f82a4ad9f855",
   "metadata": {
    "execution": {
     "iopub.execute_input": "2025-07-30T20:16:49.827999Z",
     "iopub.status.busy": "2025-07-30T20:16:49.827398Z",
     "iopub.status.idle": "2025-07-30T20:16:49.899068Z",
     "shell.execute_reply": "2025-07-30T20:16:49.898328Z"
    },
    "papermill": {
     "duration": 0.085822,
     "end_time": "2025-07-30T20:16:49.900554",
     "exception": false,
     "start_time": "2025-07-30T20:16:49.814732",
     "status": "completed"
    },
    "tags": []
   },
   "outputs": [],
   "source": [
    "probs_calib = model.predict_proba(X_calib)"
   ]
  },
  {
   "cell_type": "code",
   "execution_count": 49,
   "id": "2ed93547-6d5d-4983-9b36-1ecb300da49a",
   "metadata": {
    "execution": {
     "iopub.execute_input": "2025-07-30T20:16:49.926943Z",
     "iopub.status.busy": "2025-07-30T20:16:49.926420Z",
     "iopub.status.idle": "2025-07-30T20:16:49.931736Z",
     "shell.execute_reply": "2025-07-30T20:16:49.930985Z"
    },
    "papermill": {
     "duration": 0.019639,
     "end_time": "2025-07-30T20:16:49.933151",
     "exception": false,
     "start_time": "2025-07-30T20:16:49.913512",
     "status": "completed"
    },
    "tags": []
   },
   "outputs": [],
   "source": [
    "y_calib = y_calib.values.ravel().astype(int)"
   ]
  },
  {
   "cell_type": "code",
   "execution_count": 50,
   "id": "65d1320d-f588-4b38-9072-62af1ae97f7d",
   "metadata": {
    "execution": {
     "iopub.execute_input": "2025-07-30T20:16:49.959935Z",
     "iopub.status.busy": "2025-07-30T20:16:49.959325Z",
     "iopub.status.idle": "2025-07-30T20:16:49.965052Z",
     "shell.execute_reply": "2025-07-30T20:16:49.964383Z"
    },
    "papermill": {
     "duration": 0.019849,
     "end_time": "2025-07-30T20:16:49.966360",
     "exception": false,
     "start_time": "2025-07-30T20:16:49.946511",
     "status": "completed"
    },
    "tags": []
   },
   "outputs": [],
   "source": [
    "from fairness_multiverse.conformal import compute_nc_scores\n",
    "\n",
    "# Compute nonconformity scores on calibration set (1 - probability of true class)\n",
    "nc_scores = compute_nc_scores(probs_calib, y_calib)"
   ]
  },
  {
   "cell_type": "code",
   "execution_count": 51,
   "id": "df3b8ca3-53b7-43d5-9667-7c85da7aeda2",
   "metadata": {
    "execution": {
     "iopub.execute_input": "2025-07-30T20:16:49.993909Z",
     "iopub.status.busy": "2025-07-30T20:16:49.993420Z",
     "iopub.status.idle": "2025-07-30T20:16:49.999368Z",
     "shell.execute_reply": "2025-07-30T20:16:49.998619Z"
    },
    "papermill": {
     "duration": 0.020664,
     "end_time": "2025-07-30T20:16:50.000710",
     "exception": false,
     "start_time": "2025-07-30T20:16:49.980046",
     "status": "completed"
    },
    "tags": []
   },
   "outputs": [],
   "source": [
    "from fairness_multiverse.conformal import find_threshold\n",
    "\n",
    "# Find conformal threshold q_hat for the given alpha (split conformal method)\n",
    "q_hat = find_threshold(nc_scores, alpha)"
   ]
  },
  {
   "cell_type": "code",
   "execution_count": 52,
   "id": "4d29e6c1-0ef6-4aa4-b8fe-4fe79b0d033a",
   "metadata": {
    "execution": {
     "iopub.execute_input": "2025-07-30T20:16:50.027263Z",
     "iopub.status.busy": "2025-07-30T20:16:50.026647Z",
     "iopub.status.idle": "2025-07-30T20:16:50.032606Z",
     "shell.execute_reply": "2025-07-30T20:16:50.031856Z"
    },
    "papermill": {
     "duration": 0.019975,
     "end_time": "2025-07-30T20:16:50.033960",
     "exception": false,
     "start_time": "2025-07-30T20:16:50.013985",
     "status": "completed"
    },
    "tags": []
   },
   "outputs": [
    {
     "data": {
      "text/plain": [
       "0.6643006505604478"
      ]
     },
     "execution_count": 52,
     "metadata": {},
     "output_type": "execute_result"
    }
   ],
   "source": [
    "q_hat"
   ]
  },
  {
   "cell_type": "code",
   "execution_count": 53,
   "id": "92460794-cdac-4be2-ba28-f28c0515a6fb",
   "metadata": {
    "execution": {
     "iopub.execute_input": "2025-07-30T20:16:50.060869Z",
     "iopub.status.busy": "2025-07-30T20:16:50.060418Z",
     "iopub.status.idle": "2025-07-30T20:16:50.686885Z",
     "shell.execute_reply": "2025-07-30T20:16:50.686140Z"
    },
    "papermill": {
     "duration": 0.64099,
     "end_time": "2025-07-30T20:16:50.688408",
     "exception": false,
     "start_time": "2025-07-30T20:16:50.047418",
     "status": "completed"
    },
    "tags": []
   },
   "outputs": [],
   "source": [
    "from fairness_multiverse.conformal import predict_conformal_sets\n",
    "\n",
    "# Generate prediction sets for each test example\n",
    "pred_sets = predict_conformal_sets(model, X_test, q_hat)"
   ]
  },
  {
   "cell_type": "code",
   "execution_count": 54,
   "id": "d90c9a65-e6db-4f5d-80cd-e68fb7e46829",
   "metadata": {
    "execution": {
     "iopub.execute_input": "2025-07-30T20:16:50.715829Z",
     "iopub.status.busy": "2025-07-30T20:16:50.715469Z",
     "iopub.status.idle": "2025-07-30T20:16:50.720399Z",
     "shell.execute_reply": "2025-07-30T20:16:50.719644Z"
    },
    "papermill": {
     "duration": 0.020041,
     "end_time": "2025-07-30T20:16:50.721863",
     "exception": false,
     "start_time": "2025-07-30T20:16:50.701822",
     "status": "completed"
    },
    "tags": []
   },
   "outputs": [],
   "source": [
    "y_true = y_true.squeeze()"
   ]
  },
  {
   "cell_type": "code",
   "execution_count": 55,
   "id": "3a58a54a-1e68-46b9-927a-df01f18aebc8",
   "metadata": {
    "execution": {
     "iopub.execute_input": "2025-07-30T20:16:50.749634Z",
     "iopub.status.busy": "2025-07-30T20:16:50.749013Z",
     "iopub.status.idle": "2025-07-30T20:16:51.523087Z",
     "shell.execute_reply": "2025-07-30T20:16:51.522044Z"
    },
    "papermill": {
     "duration": 0.789317,
     "end_time": "2025-07-30T20:16:51.525083",
     "exception": false,
     "start_time": "2025-07-30T20:16:50.735766",
     "status": "completed"
    },
    "tags": []
   },
   "outputs": [],
   "source": [
    "from fairness_multiverse.conformal import evaluate_sets\n",
    "\n",
    "# Evaluate coverage and average set size on test data\n",
    "metrics = evaluate_sets(pred_sets, y_true)"
   ]
  },
  {
   "cell_type": "markdown",
   "id": "2b569c12-9aaa-4c88-98c9-bbcd0cf3ebb8",
   "metadata": {
    "papermill": {
     "duration": 0.023605,
     "end_time": "2025-07-30T20:16:51.577897",
     "exception": false,
     "start_time": "2025-07-30T20:16:51.554292",
     "status": "completed"
    },
    "tags": []
   },
   "source": [
    "# CP Metrics"
   ]
  },
  {
   "cell_type": "code",
   "execution_count": 56,
   "id": "5ce0a5cb-201f-45a0-ade5-94c7f0bd6095",
   "metadata": {
    "execution": {
     "iopub.execute_input": "2025-07-30T20:16:51.627300Z",
     "iopub.status.busy": "2025-07-30T20:16:51.626365Z",
     "iopub.status.idle": "2025-07-30T20:16:51.634354Z",
     "shell.execute_reply": "2025-07-30T20:16:51.633399Z"
    },
    "papermill": {
     "duration": 0.034794,
     "end_time": "2025-07-30T20:16:51.635985",
     "exception": false,
     "start_time": "2025-07-30T20:16:51.601191",
     "status": "completed"
    },
    "tags": []
   },
   "outputs": [
    {
     "data": {
      "text/plain": [
       "{'coverage': 0.9114479991082377, 'avg_size': 1.217812952848066}"
      ]
     },
     "execution_count": 56,
     "metadata": {},
     "output_type": "execute_result"
    }
   ],
   "source": [
    "metrics"
   ]
  },
  {
   "cell_type": "code",
   "execution_count": 57,
   "id": "9b9a838d-31c9-430b-ae14-12baee460d17",
   "metadata": {
    "execution": {
     "iopub.execute_input": "2025-07-30T20:16:51.687404Z",
     "iopub.status.busy": "2025-07-30T20:16:51.686560Z",
     "iopub.status.idle": "2025-07-30T20:16:51.693434Z",
     "shell.execute_reply": "2025-07-30T20:16:51.692349Z"
    },
    "papermill": {
     "duration": 0.033824,
     "end_time": "2025-07-30T20:16:51.695336",
     "exception": false,
     "start_time": "2025-07-30T20:16:51.661512",
     "status": "completed"
    },
    "tags": []
   },
   "outputs": [],
   "source": [
    "example_universe = universe.copy()\n",
    "universe_training_year = example_universe.get(\"training_year\")\n",
    "universe_training_size = example_universe.get(\"training_size\")\n",
    "universe_scale = example_universe.get(\"scale\")\n",
    "universe_model = example_universe.get(\"model\")\n",
    "universe_exclude_features = example_universe.get(\"exclude_features\")\n",
    "universe_exclude_subgroups = example_universe.get(\"exclude_subgroups\")"
   ]
  },
  {
   "cell_type": "code",
   "execution_count": 58,
   "id": "f4b6a8ac-9dc0-4245-8a91-5b3b5999c4f9",
   "metadata": {
    "execution": {
     "iopub.execute_input": "2025-07-30T20:16:51.756227Z",
     "iopub.status.busy": "2025-07-30T20:16:51.755547Z",
     "iopub.status.idle": "2025-07-30T20:16:51.762874Z",
     "shell.execute_reply": "2025-07-30T20:16:51.761748Z"
    },
    "papermill": {
     "duration": 0.03958,
     "end_time": "2025-07-30T20:16:51.764825",
     "exception": false,
     "start_time": "2025-07-30T20:16:51.725245",
     "status": "completed"
    },
    "tags": []
   },
   "outputs": [],
   "source": [
    "cp_metrics_dict = {\n",
    "    \"universe_id\": [universe_id],\n",
    "    \"universe_training_year\": [universe_training_year],\n",
    "    \"universe_training_size\": [universe_training_size],\n",
    "    \"universe_scale\": [universe_scale],\n",
    "    \"universe_model\": [universe_model],\n",
    "    \"universe_exclude_features\": [universe_exclude_features],\n",
    "    \"universe_exclude_subgroups\": [universe_exclude_subgroups],\n",
    "    \"q_hat\": [q_hat],\n",
    "    \"coverage\": [metrics[\"coverage\"]],\n",
    "    \"avg_size\": [metrics[\"avg_size\"]],\n",
    "}"
   ]
  },
  {
   "cell_type": "code",
   "execution_count": 59,
   "id": "908acbb1-0371-4915-85ca-3fa520d2efe2",
   "metadata": {
    "execution": {
     "iopub.execute_input": "2025-07-30T20:16:51.825778Z",
     "iopub.status.busy": "2025-07-30T20:16:51.825100Z",
     "iopub.status.idle": "2025-07-30T20:16:51.833472Z",
     "shell.execute_reply": "2025-07-30T20:16:51.832417Z"
    },
    "papermill": {
     "duration": 0.040342,
     "end_time": "2025-07-30T20:16:51.835110",
     "exception": false,
     "start_time": "2025-07-30T20:16:51.794768",
     "status": "completed"
    },
    "tags": []
   },
   "outputs": [
    {
     "data": {
      "text/plain": [
       "{'universe_id': ['a62bfd61d32de347487c07cf3cff89c3'],\n",
       " 'universe_training_year': ['2012_14'],\n",
       " 'universe_training_size': ['25k'],\n",
       " 'universe_scale': ['do-not-scale'],\n",
       " 'universe_model': ['penalized_logreg'],\n",
       " 'universe_exclude_features': ['nationality'],\n",
       " 'universe_exclude_subgroups': ['drop-non-german'],\n",
       " 'q_hat': [0.6643006505604478],\n",
       " 'coverage': [0.9114479991082377],\n",
       " 'avg_size': [1.217812952848066]}"
      ]
     },
     "execution_count": 59,
     "metadata": {},
     "output_type": "execute_result"
    }
   ],
   "source": [
    "cp_metrics_dict"
   ]
  },
  {
   "cell_type": "code",
   "execution_count": 60,
   "id": "33007efc-14e9-4ec6-97ac-56a455c82265",
   "metadata": {
    "execution": {
     "iopub.execute_input": "2025-07-30T20:16:51.887880Z",
     "iopub.status.busy": "2025-07-30T20:16:51.887024Z",
     "iopub.status.idle": "2025-07-30T20:16:51.894468Z",
     "shell.execute_reply": "2025-07-30T20:16:51.893316Z"
    },
    "papermill": {
     "duration": 0.036065,
     "end_time": "2025-07-30T20:16:51.896467",
     "exception": false,
     "start_time": "2025-07-30T20:16:51.860402",
     "status": "completed"
    },
    "tags": []
   },
   "outputs": [],
   "source": [
    "cp_metrics_df = pd.DataFrame(cp_metrics_dict)"
   ]
  },
  {
   "cell_type": "code",
   "execution_count": 61,
   "id": "db12611b-57b2-4910-b9d0-355adfd6e7bf",
   "metadata": {
    "execution": {
     "iopub.execute_input": "2025-07-30T20:16:51.956899Z",
     "iopub.status.busy": "2025-07-30T20:16:51.956411Z",
     "iopub.status.idle": "2025-07-30T20:16:51.975292Z",
     "shell.execute_reply": "2025-07-30T20:16:51.974282Z"
    },
    "papermill": {
     "duration": 0.050887,
     "end_time": "2025-07-30T20:16:51.977232",
     "exception": false,
     "start_time": "2025-07-30T20:16:51.926345",
     "status": "completed"
    },
    "tags": []
   },
   "outputs": [
    {
     "data": {
      "text/html": [
       "<div>\n",
       "<style scoped>\n",
       "    .dataframe tbody tr th:only-of-type {\n",
       "        vertical-align: middle;\n",
       "    }\n",
       "\n",
       "    .dataframe tbody tr th {\n",
       "        vertical-align: top;\n",
       "    }\n",
       "\n",
       "    .dataframe thead th {\n",
       "        text-align: right;\n",
       "    }\n",
       "</style>\n",
       "<table border=\"1\" class=\"dataframe\">\n",
       "  <thead>\n",
       "    <tr style=\"text-align: right;\">\n",
       "      <th></th>\n",
       "      <th>universe_id</th>\n",
       "      <th>universe_training_year</th>\n",
       "      <th>universe_training_size</th>\n",
       "      <th>universe_scale</th>\n",
       "      <th>universe_model</th>\n",
       "      <th>universe_exclude_features</th>\n",
       "      <th>universe_exclude_subgroups</th>\n",
       "      <th>q_hat</th>\n",
       "      <th>coverage</th>\n",
       "      <th>avg_size</th>\n",
       "    </tr>\n",
       "  </thead>\n",
       "  <tbody>\n",
       "    <tr>\n",
       "      <th>0</th>\n",
       "      <td>a62bfd61d32de347487c07cf3cff89c3</td>\n",
       "      <td>2012_14</td>\n",
       "      <td>25k</td>\n",
       "      <td>do-not-scale</td>\n",
       "      <td>penalized_logreg</td>\n",
       "      <td>nationality</td>\n",
       "      <td>drop-non-german</td>\n",
       "      <td>0.664301</td>\n",
       "      <td>0.911448</td>\n",
       "      <td>1.217813</td>\n",
       "    </tr>\n",
       "  </tbody>\n",
       "</table>\n",
       "</div>"
      ],
      "text/plain": [
       "                        universe_id universe_training_year  \\\n",
       "0  a62bfd61d32de347487c07cf3cff89c3                2012_14   \n",
       "\n",
       "  universe_training_size universe_scale    universe_model  \\\n",
       "0                    25k   do-not-scale  penalized_logreg   \n",
       "\n",
       "  universe_exclude_features universe_exclude_subgroups     q_hat  coverage  \\\n",
       "0               nationality            drop-non-german  0.664301  0.911448   \n",
       "\n",
       "   avg_size  \n",
       "0  1.217813  "
      ]
     },
     "execution_count": 61,
     "metadata": {},
     "output_type": "execute_result"
    }
   ],
   "source": [
    "cp_metrics_df"
   ]
  },
  {
   "cell_type": "code",
   "execution_count": 62,
   "id": "b7fbde55-a0a1-47e4-9af6-fe4a17fa8c61",
   "metadata": {
    "execution": {
     "iopub.execute_input": "2025-07-30T20:16:52.028514Z",
     "iopub.status.busy": "2025-07-30T20:16:52.027574Z",
     "iopub.status.idle": "2025-07-30T20:16:52.033317Z",
     "shell.execute_reply": "2025-07-30T20:16:52.032294Z"
    },
    "papermill": {
     "duration": 0.03294,
     "end_time": "2025-07-30T20:16:52.035029",
     "exception": false,
     "start_time": "2025-07-30T20:16:52.002089",
     "status": "completed"
    },
    "tags": []
   },
   "outputs": [],
   "source": [
    "# Conditional Coverage & looking at subgroups"
   ]
  },
  {
   "cell_type": "code",
   "execution_count": 63,
   "id": "027ae886-68dd-4141-96c7-805a5450e1ef",
   "metadata": {
    "execution": {
     "iopub.execute_input": "2025-07-30T20:16:52.087465Z",
     "iopub.status.busy": "2025-07-30T20:16:52.086590Z",
     "iopub.status.idle": "2025-07-30T20:16:52.384782Z",
     "shell.execute_reply": "2025-07-30T20:16:52.383687Z"
    },
    "papermill": {
     "duration": 0.32672,
     "end_time": "2025-07-30T20:16:52.386879",
     "exception": false,
     "start_time": "2025-07-30T20:16:52.060159",
     "status": "completed"
    },
    "tags": []
   },
   "outputs": [],
   "source": [
    "from fairness_multiverse.conformal import build_cp_groups\n",
    "\n",
    "cp_groups_df = build_cp_groups(pred_sets, y_true, X_test.index, org_test)\n",
    "#needs universe_id and setting"
   ]
  },
  {
   "cell_type": "code",
   "execution_count": 64,
   "id": "01d5802c-663a-4d1f-9d69-e036faaffbf7",
   "metadata": {
    "execution": {
     "iopub.execute_input": "2025-07-30T20:16:52.440312Z",
     "iopub.status.busy": "2025-07-30T20:16:52.439244Z",
     "iopub.status.idle": "2025-07-30T20:16:52.445069Z",
     "shell.execute_reply": "2025-07-30T20:16:52.444024Z"
    },
    "papermill": {
     "duration": 0.032813,
     "end_time": "2025-07-30T20:16:52.446887",
     "exception": false,
     "start_time": "2025-07-30T20:16:52.414074",
     "status": "completed"
    },
    "tags": []
   },
   "outputs": [],
   "source": [
    "#delete\n",
    "#cp_groups_df"
   ]
  },
  {
   "cell_type": "code",
   "execution_count": 65,
   "id": "fa424af1-d1eb-443d-b717-2d279ada8408",
   "metadata": {
    "execution": {
     "iopub.execute_input": "2025-07-30T20:16:52.498907Z",
     "iopub.status.busy": "2025-07-30T20:16:52.498225Z",
     "iopub.status.idle": "2025-07-30T20:16:52.503764Z",
     "shell.execute_reply": "2025-07-30T20:16:52.502600Z"
    },
    "papermill": {
     "duration": 0.032638,
     "end_time": "2025-07-30T20:16:52.505468",
     "exception": false,
     "start_time": "2025-07-30T20:16:52.472830",
     "status": "completed"
    },
    "tags": []
   },
   "outputs": [],
   "source": [
    "#delete\n",
    "#percentage = (cp_groups_df['nongerman_female'] == 1).mean() * 100\n",
    "#print(percentage)\n"
   ]
  },
  {
   "cell_type": "code",
   "execution_count": 66,
   "id": "6cbdab96-b2b2-45af-ad54-d0516db2e28d",
   "metadata": {
    "execution": {
     "iopub.execute_input": "2025-07-30T20:16:52.565310Z",
     "iopub.status.busy": "2025-07-30T20:16:52.564828Z",
     "iopub.status.idle": "2025-07-30T20:16:54.008376Z",
     "shell.execute_reply": "2025-07-30T20:16:54.007377Z"
    },
    "papermill": {
     "duration": 1.479253,
     "end_time": "2025-07-30T20:16:54.010797",
     "exception": false,
     "start_time": "2025-07-30T20:16:52.531544",
     "status": "completed"
    },
    "tags": []
   },
   "outputs": [],
   "source": [
    "# Define covered = 1 if true_label is in the predicted set\n",
    "cp_groups_df['covered'] = cp_groups_df.apply(\n",
    "    lambda r: int(r['true_label'] in r['pred_set']),\n",
    "    axis=1\n",
    ")"
   ]
  },
  {
   "cell_type": "code",
   "execution_count": 67,
   "id": "338ff529-1a6b-4b87-a931-8e4788d52aad",
   "metadata": {
    "execution": {
     "iopub.execute_input": "2025-07-30T20:16:54.066118Z",
     "iopub.status.busy": "2025-07-30T20:16:54.065614Z",
     "iopub.status.idle": "2025-07-30T20:16:54.070870Z",
     "shell.execute_reply": "2025-07-30T20:16:54.069947Z"
    },
    "papermill": {
     "duration": 0.034072,
     "end_time": "2025-07-30T20:16:54.072745",
     "exception": false,
     "start_time": "2025-07-30T20:16:54.038673",
     "status": "completed"
    },
    "tags": []
   },
   "outputs": [],
   "source": [
    "#cp_groups_df"
   ]
  },
  {
   "cell_type": "code",
   "execution_count": 68,
   "id": "90032e27-66df-4540-9169-4e89cfbaa758",
   "metadata": {
    "execution": {
     "iopub.execute_input": "2025-07-30T20:16:54.130358Z",
     "iopub.status.busy": "2025-07-30T20:16:54.129963Z",
     "iopub.status.idle": "2025-07-30T20:16:54.139598Z",
     "shell.execute_reply": "2025-07-30T20:16:54.138757Z"
    },
    "papermill": {
     "duration": 0.040046,
     "end_time": "2025-07-30T20:16:54.141354",
     "exception": false,
     "start_time": "2025-07-30T20:16:54.101308",
     "status": "completed"
    },
    "tags": []
   },
   "outputs": [],
   "source": [
    "subgroups = ['frau1','nongerman','nongerman_male','nongerman_female']\n",
    "\n",
    "# Conditional coverage for subgroup==1\n",
    "cond_coverage = {\n",
    "    g: cp_groups_df.loc[cp_groups_df[g]==1, 'covered'].mean()\n",
    "    for g in subgroups\n",
    "}"
   ]
  },
  {
   "cell_type": "code",
   "execution_count": 69,
   "id": "1e348fb1-b9c3-45bc-ba23-f016827a7e0d",
   "metadata": {
    "execution": {
     "iopub.execute_input": "2025-07-30T20:16:54.194638Z",
     "iopub.status.busy": "2025-07-30T20:16:54.194140Z",
     "iopub.status.idle": "2025-07-30T20:16:54.201924Z",
     "shell.execute_reply": "2025-07-30T20:16:54.200994Z"
    },
    "papermill": {
     "duration": 0.038431,
     "end_time": "2025-07-30T20:16:54.203770",
     "exception": false,
     "start_time": "2025-07-30T20:16:54.165339",
     "status": "completed"
    },
    "tags": []
   },
   "outputs": [
    {
     "data": {
      "text/plain": [
       "{'frau1': 0.9097722064968324,\n",
       " 'nongerman': 0.9385280413181384,\n",
       " 'nongerman_male': 0.9501936413581915,\n",
       " 'nongerman_female': 0.9192250372578241}"
      ]
     },
     "execution_count": 69,
     "metadata": {},
     "output_type": "execute_result"
    }
   ],
   "source": [
    "cond_coverage"
   ]
  },
  {
   "cell_type": "code",
   "execution_count": 70,
   "id": "f5093324-c3dd-4d63-bc4c-8d945e5c8bbb",
   "metadata": {
    "execution": {
     "iopub.execute_input": "2025-07-30T20:16:54.235450Z",
     "iopub.status.busy": "2025-07-30T20:16:54.235107Z",
     "iopub.status.idle": "2025-07-30T20:16:54.241337Z",
     "shell.execute_reply": "2025-07-30T20:16:54.240417Z"
    },
    "papermill": {
     "duration": 0.023631,
     "end_time": "2025-07-30T20:16:54.243111",
     "exception": false,
     "start_time": "2025-07-30T20:16:54.219480",
     "status": "completed"
    },
    "tags": []
   },
   "outputs": [],
   "source": [
    "for subgroup, cov in cond_coverage.items():\n",
    "    cp_metrics_df[f\"cov_{subgroup}\"] = cov"
   ]
  },
  {
   "cell_type": "code",
   "execution_count": 71,
   "id": "6e872e10-dbe5-49e8-b554-5030c98ff75d",
   "metadata": {
    "execution": {
     "iopub.execute_input": "2025-07-30T20:16:54.303797Z",
     "iopub.status.busy": "2025-07-30T20:16:54.302999Z",
     "iopub.status.idle": "2025-07-30T20:16:54.321225Z",
     "shell.execute_reply": "2025-07-30T20:16:54.320092Z"
    },
    "papermill": {
     "duration": 0.048914,
     "end_time": "2025-07-30T20:16:54.323201",
     "exception": false,
     "start_time": "2025-07-30T20:16:54.274287",
     "status": "completed"
    },
    "tags": []
   },
   "outputs": [
    {
     "data": {
      "text/html": [
       "<div>\n",
       "<style scoped>\n",
       "    .dataframe tbody tr th:only-of-type {\n",
       "        vertical-align: middle;\n",
       "    }\n",
       "\n",
       "    .dataframe tbody tr th {\n",
       "        vertical-align: top;\n",
       "    }\n",
       "\n",
       "    .dataframe thead th {\n",
       "        text-align: right;\n",
       "    }\n",
       "</style>\n",
       "<table border=\"1\" class=\"dataframe\">\n",
       "  <thead>\n",
       "    <tr style=\"text-align: right;\">\n",
       "      <th></th>\n",
       "      <th>universe_id</th>\n",
       "      <th>universe_training_year</th>\n",
       "      <th>universe_training_size</th>\n",
       "      <th>universe_scale</th>\n",
       "      <th>universe_model</th>\n",
       "      <th>universe_exclude_features</th>\n",
       "      <th>universe_exclude_subgroups</th>\n",
       "      <th>q_hat</th>\n",
       "      <th>coverage</th>\n",
       "      <th>avg_size</th>\n",
       "      <th>cov_frau1</th>\n",
       "      <th>cov_nongerman</th>\n",
       "      <th>cov_nongerman_male</th>\n",
       "      <th>cov_nongerman_female</th>\n",
       "    </tr>\n",
       "  </thead>\n",
       "  <tbody>\n",
       "    <tr>\n",
       "      <th>0</th>\n",
       "      <td>a62bfd61d32de347487c07cf3cff89c3</td>\n",
       "      <td>2012_14</td>\n",
       "      <td>25k</td>\n",
       "      <td>do-not-scale</td>\n",
       "      <td>penalized_logreg</td>\n",
       "      <td>nationality</td>\n",
       "      <td>drop-non-german</td>\n",
       "      <td>0.664301</td>\n",
       "      <td>0.911448</td>\n",
       "      <td>1.217813</td>\n",
       "      <td>0.909772</td>\n",
       "      <td>0.938528</td>\n",
       "      <td>0.950194</td>\n",
       "      <td>0.919225</td>\n",
       "    </tr>\n",
       "  </tbody>\n",
       "</table>\n",
       "</div>"
      ],
      "text/plain": [
       "                        universe_id universe_training_year  \\\n",
       "0  a62bfd61d32de347487c07cf3cff89c3                2012_14   \n",
       "\n",
       "  universe_training_size universe_scale    universe_model  \\\n",
       "0                    25k   do-not-scale  penalized_logreg   \n",
       "\n",
       "  universe_exclude_features universe_exclude_subgroups     q_hat  coverage  \\\n",
       "0               nationality            drop-non-german  0.664301  0.911448   \n",
       "\n",
       "   avg_size  cov_frau1  cov_nongerman  cov_nongerman_male  \\\n",
       "0  1.217813   0.909772       0.938528            0.950194   \n",
       "\n",
       "   cov_nongerman_female  \n",
       "0              0.919225  "
      ]
     },
     "execution_count": 71,
     "metadata": {},
     "output_type": "execute_result"
    }
   ],
   "source": [
    "cp_metrics_df"
   ]
  },
  {
   "cell_type": "markdown",
   "id": "33774451",
   "metadata": {
    "papermill": {
     "duration": 0.030586,
     "end_time": "2025-07-30T20:16:54.383241",
     "exception": false,
     "start_time": "2025-07-30T20:16:54.352655",
     "status": "completed"
    },
    "tags": []
   },
   "source": [
    "# (Fairness) Metrics"
   ]
  },
  {
   "cell_type": "code",
   "execution_count": 72,
   "id": "debc5d62",
   "metadata": {
    "execution": {
     "iopub.execute_input": "2025-07-30T20:16:54.444455Z",
     "iopub.status.busy": "2025-07-30T20:16:54.443965Z",
     "iopub.status.idle": "2025-07-30T20:16:54.475924Z",
     "shell.execute_reply": "2025-07-30T20:16:54.474737Z"
    },
    "papermill": {
     "duration": 0.063743,
     "end_time": "2025-07-30T20:16:54.478092",
     "exception": false,
     "start_time": "2025-07-30T20:16:54.414349",
     "status": "completed"
    },
    "tags": []
   },
   "outputs": [],
   "source": [
    "# do I need to include maxdeutsch1.missing?\n",
    "\n",
    "import numpy as np\n",
    "\n",
    "colname_to_bin = \"maxdeutsch1\"\n",
    "majority_value = org_train[colname_to_bin].mode()[0]\n",
    "\n",
    "org_test[\"majmin\"] = np.where(org_test[colname_to_bin] == majority_value, \"majority\", \"minority\")"
   ]
  },
  {
   "cell_type": "code",
   "execution_count": 73,
   "id": "06a50de5",
   "metadata": {
    "execution": {
     "iopub.execute_input": "2025-07-30T20:16:54.537258Z",
     "iopub.status.busy": "2025-07-30T20:16:54.536672Z",
     "iopub.status.idle": "2025-07-30T20:16:57.128333Z",
     "shell.execute_reply": "2025-07-30T20:16:57.127289Z"
    },
    "papermill": {
     "duration": 2.620676,
     "end_time": "2025-07-30T20:16:57.130220",
     "exception": false,
     "start_time": "2025-07-30T20:16:54.509544",
     "status": "completed"
    },
    "tags": []
   },
   "outputs": [],
   "source": [
    "example_universe = universe.copy()\n",
    "example_universe[\"cutoff\"] = example_universe[\"cutoff\"][0]\n",
    "example_universe[\"eval_fairness_grouping\"] = example_universe[\"eval_fairness_grouping\"][0]\n",
    "fairness_dict, metric_frame = universe_analysis.compute_metrics(\n",
    "    example_universe,\n",
    "    y_pred_prob=probs_test,\n",
    "    y_test=y_true,\n",
    "    org_test=org_test,\n",
    ")"
   ]
  },
  {
   "cell_type": "markdown",
   "id": "f95d4e02",
   "metadata": {
    "papermill": {
     "duration": 0.025712,
     "end_time": "2025-07-30T20:16:57.200549",
     "exception": false,
     "start_time": "2025-07-30T20:16:57.174837",
     "status": "completed"
    },
    "tags": []
   },
   "source": [
    "# Overall"
   ]
  },
  {
   "cell_type": "markdown",
   "id": "bdee4871",
   "metadata": {
    "papermill": {
     "duration": 0.033492,
     "end_time": "2025-07-30T20:16:57.259899",
     "exception": false,
     "start_time": "2025-07-30T20:16:57.226407",
     "status": "completed"
    },
    "tags": []
   },
   "source": [
    "Fairness\n",
    "Main fairness target: Equalized Odds. Seems to be a better fit than equal opportunity, since we're not only interested in Y = 1. Seems to be a better fit than demographic parity, since we also care about accuracy, not just equal distribution of preds.\n",
    "\n",
    "Pick column for computation of fairness metrics\n",
    "\n",
    "Performance\n",
    "Overall performance measures, most interesting in relation to the measures split by group below"
   ]
  },
  {
   "cell_type": "code",
   "execution_count": 74,
   "id": "c4e067c6",
   "metadata": {
    "execution": {
     "iopub.execute_input": "2025-07-30T20:16:57.319716Z",
     "iopub.status.busy": "2025-07-30T20:16:57.319325Z",
     "iopub.status.idle": "2025-07-30T20:16:57.325890Z",
     "shell.execute_reply": "2025-07-30T20:16:57.325142Z"
    },
    "papermill": {
     "duration": 0.039151,
     "end_time": "2025-07-30T20:16:57.330407",
     "exception": false,
     "start_time": "2025-07-30T20:16:57.291256",
     "status": "completed"
    },
    "tags": []
   },
   "outputs": [
    {
     "data": {
      "text/plain": [
       "accuracy                   0.218136\n",
       "balanced accuracy          0.534680\n",
       "f1                         0.239639\n",
       "precision                  0.136898\n",
       "false positive rate        0.891103\n",
       "false negative rate        0.039538\n",
       "selection rate             0.900000\n",
       "count                  89710.000000\n",
       "dtype: float64"
      ]
     },
     "execution_count": 74,
     "metadata": {},
     "output_type": "execute_result"
    }
   ],
   "source": [
    "metric_frame.overall"
   ]
  },
  {
   "cell_type": "markdown",
   "id": "e968fe9d",
   "metadata": {
    "papermill": {
     "duration": 0.040651,
     "end_time": "2025-07-30T20:16:57.386842",
     "exception": false,
     "start_time": "2025-07-30T20:16:57.346191",
     "status": "completed"
    },
    "tags": []
   },
   "source": [
    "By Group"
   ]
  },
  {
   "cell_type": "code",
   "execution_count": 75,
   "id": "ec325bce",
   "metadata": {
    "execution": {
     "iopub.execute_input": "2025-07-30T20:16:57.427477Z",
     "iopub.status.busy": "2025-07-30T20:16:57.427114Z",
     "iopub.status.idle": "2025-07-30T20:16:57.440098Z",
     "shell.execute_reply": "2025-07-30T20:16:57.439188Z"
    },
    "papermill": {
     "duration": 0.029924,
     "end_time": "2025-07-30T20:16:57.441674",
     "exception": false,
     "start_time": "2025-07-30T20:16:57.411750",
     "status": "completed"
    },
    "tags": []
   },
   "outputs": [
    {
     "data": {
      "text/html": [
       "<div>\n",
       "<style scoped>\n",
       "    .dataframe tbody tr th:only-of-type {\n",
       "        vertical-align: middle;\n",
       "    }\n",
       "\n",
       "    .dataframe tbody tr th {\n",
       "        vertical-align: top;\n",
       "    }\n",
       "\n",
       "    .dataframe thead th {\n",
       "        text-align: right;\n",
       "    }\n",
       "</style>\n",
       "<table border=\"1\" class=\"dataframe\">\n",
       "  <thead>\n",
       "    <tr style=\"text-align: right;\">\n",
       "      <th></th>\n",
       "      <th>accuracy</th>\n",
       "      <th>balanced accuracy</th>\n",
       "      <th>f1</th>\n",
       "      <th>precision</th>\n",
       "      <th>false positive rate</th>\n",
       "      <th>false negative rate</th>\n",
       "      <th>selection rate</th>\n",
       "      <th>count</th>\n",
       "    </tr>\n",
       "    <tr>\n",
       "      <th>majmin</th>\n",
       "      <th></th>\n",
       "      <th></th>\n",
       "      <th></th>\n",
       "      <th></th>\n",
       "      <th></th>\n",
       "      <th></th>\n",
       "      <th></th>\n",
       "      <th></th>\n",
       "    </tr>\n",
       "  </thead>\n",
       "  <tbody>\n",
       "    <tr>\n",
       "      <th>majority</th>\n",
       "      <td>0.240726</td>\n",
       "      <td>0.543129</td>\n",
       "      <td>0.249310</td>\n",
       "      <td>0.143388</td>\n",
       "      <td>0.867899</td>\n",
       "      <td>0.045842</td>\n",
       "      <td>0.879297</td>\n",
       "      <td>69170.0</td>\n",
       "    </tr>\n",
       "    <tr>\n",
       "      <th>minority</th>\n",
       "      <td>0.142064</td>\n",
       "      <td>0.508522</td>\n",
       "      <td>0.209279</td>\n",
       "      <td>0.117080</td>\n",
       "      <td>0.967753</td>\n",
       "      <td>0.015203</td>\n",
       "      <td>0.969718</td>\n",
       "      <td>20540.0</td>\n",
       "    </tr>\n",
       "  </tbody>\n",
       "</table>\n",
       "</div>"
      ],
      "text/plain": [
       "          accuracy  balanced accuracy        f1  precision  \\\n",
       "majmin                                                       \n",
       "majority  0.240726           0.543129  0.249310   0.143388   \n",
       "minority  0.142064           0.508522  0.209279   0.117080   \n",
       "\n",
       "          false positive rate  false negative rate  selection rate    count  \n",
       "majmin                                                                       \n",
       "majority             0.867899             0.045842        0.879297  69170.0  \n",
       "minority             0.967753             0.015203        0.969718  20540.0  "
      ]
     },
     "execution_count": 75,
     "metadata": {},
     "output_type": "execute_result"
    }
   ],
   "source": [
    "metric_frame.by_group"
   ]
  },
  {
   "cell_type": "code",
   "execution_count": 76,
   "id": "a9ddbe63",
   "metadata": {
    "execution": {
     "iopub.execute_input": "2025-07-30T20:16:57.484700Z",
     "iopub.status.busy": "2025-07-30T20:16:57.484284Z",
     "iopub.status.idle": "2025-07-30T20:16:59.896423Z",
     "shell.execute_reply": "2025-07-30T20:16:59.895479Z"
    },
    "papermill": {
     "duration": 2.43955,
     "end_time": "2025-07-30T20:16:59.897973",
     "exception": false,
     "start_time": "2025-07-30T20:16:57.458423",
     "status": "completed"
    },
    "tags": []
   },
   "outputs": [
    {
     "data": {
      "text/plain": [
       "array([[<Axes: title={'center': 'accuracy'}, xlabel='majmin'>,\n",
       "        <Axes: title={'center': 'balanced accuracy'}, xlabel='majmin'>,\n",
       "        <Axes: title={'center': 'f1'}, xlabel='majmin'>],\n",
       "       [<Axes: title={'center': 'precision'}, xlabel='majmin'>,\n",
       "        <Axes: title={'center': 'false positive rate'}, xlabel='majmin'>,\n",
       "        <Axes: title={'center': 'false negative rate'}, xlabel='majmin'>],\n",
       "       [<Axes: title={'center': 'selection rate'}, xlabel='majmin'>,\n",
       "        <Axes: title={'center': 'count'}, xlabel='majmin'>,\n",
       "        <Axes: xlabel='majmin'>]], dtype=object)"
      ]
     },
     "execution_count": 76,
     "metadata": {},
     "output_type": "execute_result"
    },
    {
     "data": {
      "image/png": "[encoded data removed]",
      "text/plain": [
       "<Figure size 1200x800 with 9 Axes>"
      ]
     },
     "metadata": {},
     "output_type": "display_data"
    }
   ],
   "source": [
    "# In a graphic\n",
    "metric_frame.by_group.plot.bar(\n",
    "    subplots=True,\n",
    "    layout=[3, 3],\n",
    "    legend=False,\n",
    "    figsize=[12, 8],\n",
    "    title=\"Show all metrics\",\n",
    ")"
   ]
  },
  {
   "cell_type": "markdown",
   "id": "f57a0bac",
   "metadata": {
    "papermill": {
     "duration": 0.028119,
     "end_time": "2025-07-30T20:16:59.956624",
     "exception": false,
     "start_time": "2025-07-30T20:16:59.928505",
     "status": "completed"
    },
    "tags": []
   },
   "source": [
    "# Final Output"
   ]
  },
  {
   "cell_type": "code",
   "execution_count": 77,
   "id": "96d280a3",
   "metadata": {
    "execution": {
     "iopub.execute_input": "2025-07-30T20:17:00.012304Z",
     "iopub.status.busy": "2025-07-30T20:17:00.011326Z",
     "iopub.status.idle": "2025-07-30T20:17:00.020202Z",
     "shell.execute_reply": "2025-07-30T20:17:00.019220Z"
    },
    "papermill": {
     "duration": 0.038954,
     "end_time": "2025-07-30T20:17:00.021921",
     "exception": false,
     "start_time": "2025-07-30T20:16:59.982967",
     "status": "completed"
    },
    "tags": []
   },
   "outputs": [
    {
     "data": {
      "text/plain": [
       "4"
      ]
     },
     "execution_count": 77,
     "metadata": {},
     "output_type": "execute_result"
    }
   ],
   "source": [
    "sub_universes = universe_analysis.generate_sub_universes()\n",
    "len(sub_universes)"
   ]
  },
  {
   "cell_type": "code",
   "execution_count": 78,
   "id": "92adf7ba",
   "metadata": {
    "execution": {
     "iopub.execute_input": "2025-07-30T20:17:00.080950Z",
     "iopub.status.busy": "2025-07-30T20:17:00.080099Z",
     "iopub.status.idle": "2025-07-30T20:17:00.086776Z",
     "shell.execute_reply": "2025-07-30T20:17:00.085798Z"
    },
    "papermill": {
     "duration": 0.036875,
     "end_time": "2025-07-30T20:17:00.088642",
     "exception": false,
     "start_time": "2025-07-30T20:17:00.051767",
     "status": "completed"
    },
    "tags": []
   },
   "outputs": [],
   "source": [
    "def filter_sub_universe_data(sub_universe, org_test):\n",
    "    # Keep all rows — no filtering\n",
    "    keep_rows_mask = np.ones(org_test.shape[0], dtype=bool)\n",
    "\n",
    "    print(f\"[INFO] Keeping all rows: {keep_rows_mask.sum()} rows retained.\")\n",
    "    return keep_rows_mask"
   ]
  },
  {
   "cell_type": "code",
   "execution_count": 79,
   "id": "4a759155",
   "metadata": {
    "execution": {
     "iopub.execute_input": "2025-07-30T20:17:00.148466Z",
     "iopub.status.busy": "2025-07-30T20:17:00.147887Z",
     "iopub.status.idle": "2025-07-30T20:17:10.948873Z",
     "shell.execute_reply": "2025-07-30T20:17:10.947833Z"
    },
    "papermill": {
     "duration": 10.83222,
     "end_time": "2025-07-30T20:17:10.950609",
     "exception": false,
     "start_time": "2025-07-30T20:17:00.118389",
     "status": "completed"
    },
    "tags": []
   },
   "outputs": [
    {
     "name": "stdout",
     "output_type": "stream",
     "text": [
      "Stopping execution_time clock.\n",
      "[INFO] Keeping all rows: 89710 rows retained.\n"
     ]
    },
    {
     "name": "stdout",
     "output_type": "stream",
     "text": [
      "[INFO] Keeping all rows: 89710 rows retained.\n"
     ]
    },
    {
     "name": "stdout",
     "output_type": "stream",
     "text": [
      "[INFO] Keeping all rows: 89710 rows retained.\n"
     ]
    },
    {
     "name": "stdout",
     "output_type": "stream",
     "text": [
      "[INFO] Keeping all rows: 89710 rows retained.\n"
     ]
    },
    {
     "data": {
      "text/html": [
       "<div>\n",
       "<style scoped>\n",
       "    .dataframe tbody tr th:only-of-type {\n",
       "        vertical-align: middle;\n",
       "    }\n",
       "\n",
       "    .dataframe tbody tr th {\n",
       "        vertical-align: top;\n",
       "    }\n",
       "\n",
       "    .dataframe thead th {\n",
       "        text-align: right;\n",
       "    }\n",
       "</style>\n",
       "<table border=\"1\" class=\"dataframe\">\n",
       "  <thead>\n",
       "    <tr style=\"text-align: right;\">\n",
       "      <th></th>\n",
       "      <th>run_no</th>\n",
       "      <th>universe_id</th>\n",
       "      <th>universe_settings</th>\n",
       "      <th>execution_time</th>\n",
       "      <th>test_size_n</th>\n",
       "      <th>test_size_frac</th>\n",
       "      <th>fair_main_equalized_odds_difference</th>\n",
       "      <th>fair_main_equalized_odds_ratio</th>\n",
       "      <th>fair_main_demographic_parity_difference</th>\n",
       "      <th>fair_main_demographic_parity_ratio</th>\n",
       "      <th>...</th>\n",
       "      <th>perf_grp_precision_0</th>\n",
       "      <th>perf_grp_precision_1</th>\n",
       "      <th>perf_grp_false positive rate_0</th>\n",
       "      <th>perf_grp_false positive rate_1</th>\n",
       "      <th>perf_grp_false negative rate_0</th>\n",
       "      <th>perf_grp_false negative rate_1</th>\n",
       "      <th>perf_grp_selection rate_0</th>\n",
       "      <th>perf_grp_selection rate_1</th>\n",
       "      <th>perf_grp_count_0</th>\n",
       "      <th>perf_grp_count_1</th>\n",
       "    </tr>\n",
       "  </thead>\n",
       "  <tbody>\n",
       "    <tr>\n",
       "      <th>0</th>\n",
       "      <td>14</td>\n",
       "      <td>a62bfd61d32de347487c07cf3cff89c3</td>\n",
       "      <td>{\"cutoff\": \"quantile_0.1\", \"eval_fairness_grou...</td>\n",
       "      <td>26.521565</td>\n",
       "      <td>89710</td>\n",
       "      <td>1.0</td>\n",
       "      <td>0.099853</td>\n",
       "      <td>0.896819</td>\n",
       "      <td>0.090420</td>\n",
       "      <td>0.906756</td>\n",
       "      <td>...</td>\n",
       "      <td>NaN</td>\n",
       "      <td>NaN</td>\n",
       "      <td>NaN</td>\n",
       "      <td>NaN</td>\n",
       "      <td>NaN</td>\n",
       "      <td>NaN</td>\n",
       "      <td>NaN</td>\n",
       "      <td>NaN</td>\n",
       "      <td>NaN</td>\n",
       "      <td>NaN</td>\n",
       "    </tr>\n",
       "    <tr>\n",
       "      <th>0</th>\n",
       "      <td>14</td>\n",
       "      <td>a62bfd61d32de347487c07cf3cff89c3</td>\n",
       "      <td>{\"cutoff\": \"quantile_0.1\", \"eval_fairness_grou...</td>\n",
       "      <td>26.521565</td>\n",
       "      <td>89710</td>\n",
       "      <td>1.0</td>\n",
       "      <td>0.099853</td>\n",
       "      <td>0.896819</td>\n",
       "      <td>0.090420</td>\n",
       "      <td>0.906756</td>\n",
       "      <td>...</td>\n",
       "      <td>0.11708</td>\n",
       "      <td>0.143388</td>\n",
       "      <td>0.967753</td>\n",
       "      <td>0.867899</td>\n",
       "      <td>0.015203</td>\n",
       "      <td>0.045842</td>\n",
       "      <td>0.969718</td>\n",
       "      <td>0.879297</td>\n",
       "      <td>20540.0</td>\n",
       "      <td>69170.0</td>\n",
       "    </tr>\n",
       "    <tr>\n",
       "      <th>0</th>\n",
       "      <td>14</td>\n",
       "      <td>a62bfd61d32de347487c07cf3cff89c3</td>\n",
       "      <td>{\"cutoff\": \"quantile_0.25\", \"eval_fairness_gro...</td>\n",
       "      <td>26.521565</td>\n",
       "      <td>89710</td>\n",
       "      <td>1.0</td>\n",
       "      <td>0.224603</td>\n",
       "      <td>0.751159</td>\n",
       "      <td>0.205915</td>\n",
       "      <td>0.773412</td>\n",
       "      <td>...</td>\n",
       "      <td>NaN</td>\n",
       "      <td>NaN</td>\n",
       "      <td>NaN</td>\n",
       "      <td>NaN</td>\n",
       "      <td>NaN</td>\n",
       "      <td>NaN</td>\n",
       "      <td>NaN</td>\n",
       "      <td>NaN</td>\n",
       "      <td>NaN</td>\n",
       "      <td>NaN</td>\n",
       "    </tr>\n",
       "    <tr>\n",
       "      <th>0</th>\n",
       "      <td>14</td>\n",
       "      <td>a62bfd61d32de347487c07cf3cff89c3</td>\n",
       "      <td>{\"cutoff\": \"quantile_0.25\", \"eval_fairness_gro...</td>\n",
       "      <td>26.521565</td>\n",
       "      <td>89710</td>\n",
       "      <td>1.0</td>\n",
       "      <td>0.224603</td>\n",
       "      <td>0.751159</td>\n",
       "      <td>0.205915</td>\n",
       "      <td>0.773412</td>\n",
       "      <td>...</td>\n",
       "      <td>0.12129</td>\n",
       "      <td>0.162827</td>\n",
       "      <td>0.902597</td>\n",
       "      <td>0.677994</td>\n",
       "      <td>0.043919</td>\n",
       "      <td>0.133917</td>\n",
       "      <td>0.908763</td>\n",
       "      <td>0.702848</td>\n",
       "      <td>20540.0</td>\n",
       "      <td>69170.0</td>\n",
       "    </tr>\n",
       "  </tbody>\n",
       "</table>\n",
       "<p>4 rows × 50 columns</p>\n",
       "</div>"
      ],
      "text/plain": [
       "  run_no                       universe_id  \\\n",
       "0     14  a62bfd61d32de347487c07cf3cff89c3   \n",
       "0     14  a62bfd61d32de347487c07cf3cff89c3   \n",
       "0     14  a62bfd61d32de347487c07cf3cff89c3   \n",
       "0     14  a62bfd61d32de347487c07cf3cff89c3   \n",
       "\n",
       "                                   universe_settings  execution_time  \\\n",
       "0  {\"cutoff\": \"quantile_0.1\", \"eval_fairness_grou...       26.521565   \n",
       "0  {\"cutoff\": \"quantile_0.1\", \"eval_fairness_grou...       26.521565   \n",
       "0  {\"cutoff\": \"quantile_0.25\", \"eval_fairness_gro...       26.521565   \n",
       "0  {\"cutoff\": \"quantile_0.25\", \"eval_fairness_gro...       26.521565   \n",
       "\n",
       "   test_size_n  test_size_frac  fair_main_equalized_odds_difference  \\\n",
       "0        89710             1.0                             0.099853   \n",
       "0        89710             1.0                             0.099853   \n",
       "0        89710             1.0                             0.224603   \n",
       "0        89710             1.0                             0.224603   \n",
       "\n",
       "   fair_main_equalized_odds_ratio  fair_main_demographic_parity_difference  \\\n",
       "0                        0.896819                                 0.090420   \n",
       "0                        0.896819                                 0.090420   \n",
       "0                        0.751159                                 0.205915   \n",
       "0                        0.751159                                 0.205915   \n",
       "\n",
       "   fair_main_demographic_parity_ratio  ...  perf_grp_precision_0  \\\n",
       "0                            0.906756  ...                   NaN   \n",
       "0                            0.906756  ...               0.11708   \n",
       "0                            0.773412  ...                   NaN   \n",
       "0                            0.773412  ...               0.12129   \n",
       "\n",
       "   perf_grp_precision_1  perf_grp_false positive rate_0  \\\n",
       "0                   NaN                             NaN   \n",
       "0              0.143388                        0.967753   \n",
       "0                   NaN                             NaN   \n",
       "0              0.162827                        0.902597   \n",
       "\n",
       "   perf_grp_false positive rate_1  perf_grp_false negative rate_0  \\\n",
       "0                             NaN                             NaN   \n",
       "0                        0.867899                        0.015203   \n",
       "0                             NaN                             NaN   \n",
       "0                        0.677994                        0.043919   \n",
       "\n",
       "   perf_grp_false negative rate_1  perf_grp_selection rate_0  \\\n",
       "0                             NaN                        NaN   \n",
       "0                        0.045842                   0.969718   \n",
       "0                             NaN                        NaN   \n",
       "0                        0.133917                   0.908763   \n",
       "\n",
       "   perf_grp_selection rate_1  perf_grp_count_0  perf_grp_count_1  \n",
       "0                        NaN               NaN               NaN  \n",
       "0                   0.879297           20540.0           69170.0  \n",
       "0                        NaN               NaN               NaN  \n",
       "0                   0.702848           20540.0           69170.0  \n",
       "\n",
       "[4 rows x 50 columns]"
      ]
     },
     "execution_count": 79,
     "metadata": {},
     "output_type": "execute_result"
    }
   ],
   "source": [
    "final_output = universe_analysis.generate_final_output(\n",
    "    y_pred_prob=probs_test,\n",
    "    y_test=y_true,\n",
    "    org_test=org_test,\n",
    "    filter_data=filter_sub_universe_data,\n",
    "    cp_metrics_df=cp_metrics_df,\n",
    "    save=True,\n",
    ")\n",
    "final_output"
   ]
  },
  {
   "cell_type": "code",
   "execution_count": null,
   "id": "721ff514-cb11-46f8-b6fc-50392f74b5cb",
   "metadata": {
    "papermill": {
     "duration": 0.031179,
     "end_time": "2025-07-30T20:17:11.032168",
     "exception": false,
     "start_time": "2025-07-30T20:17:11.000989",
     "status": "completed"
    },
    "tags": []
   },
   "outputs": [],
   "source": []
  }
 ],
 "metadata": {
  "celltoolbar": "Tags",
  "kernelspec": {
   "display_name": "Python (CMA Fairness)",
   "language": "python",
   "name": "cma_fair_env"
  },
  "language_info": {
   "codemirror_mode": {
    "name": "ipython",
    "version": 3
   },
   "file_extension": ".py",
   "mimetype": "text/x-python",
   "name": "python",
   "nbconvert_exporter": "python",
   "pygments_lexer": "ipython3",
   "version": "3.10.12"
  },
  "papermill": {
   "default_parameters": {},
   "duration": 41.615005,
   "end_time": "2025-07-30T20:17:11.782226",
   "environment_variables": {},
   "exception": null,
   "input_path": "universe_analysis.ipynb",
   "output_path": "output/runs/14/notebooks/m_14-a62bfd61d32de347487c07cf3cff89c3.ipynb",
   "parameters": {
    "output_dir": "output",
    "run_no": "14",
    "seed": "2023",
    "universe": "{\"cutoff\": [\"quantile_0.1\", \"quantile_0.25\"], \"eval_fairness_grouping\": [\"majority-minority\", \"nationality-all\"], \"exclude_features\": \"nationality\", \"exclude_subgroups\": \"drop-non-german\", \"model\": \"penalized_logreg\", \"scale\": \"do-not-scale\", \"training_size\": \"25k\", \"training_year\": \"2012_14\"}",
    "universe_id": "a62bfd61d32de347487c07cf3cff89c3"
   },
   "start_time": "2025-07-30T20:16:30.167221",
   "version": "2.6.0"
  }
 },
 "nbformat": 4,
 "nbformat_minor": 5
}