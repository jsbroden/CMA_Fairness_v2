{
 "cells": [
  {
   "cell_type": "code",
   "execution_count": 1,
   "id": "f159f837-637b-42ba-96b5-ec9a68c44524",
   "metadata": {
    "execution": {
     "iopub.execute_input": "2025-07-30T20:53:43.087923Z",
     "iopub.status.busy": "2025-07-30T20:53:43.087479Z",
     "iopub.status.idle": "2025-07-30T20:53:43.100945Z",
     "shell.execute_reply": "2025-07-30T20:53:43.100073Z"
    },
    "papermill": {
     "duration": 0.035165,
     "end_time": "2025-07-30T20:53:43.102832",
     "exception": false,
     "start_time": "2025-07-30T20:53:43.067667",
     "status": "completed"
    },
    "tags": []
   },
   "outputs": [
    {
     "name": "stdout",
     "output_type": "stream",
     "text": [
      "/dss/dsshome1/0C/ra93lal2/cma/CMA_Fairness_v2\n"
     ]
    },
    {
     "name": "stderr",
     "output_type": "stream",
     "text": [
      "/dss/dsshome1/0C/ra93lal2/.local/share/virtualenvs/CMA_Fairness_v2-3j10GkSs/lib/python3.10/site-packages/IPython/core/magics/osm.py:393: UserWarning: This is now an optional IPython functionality, using bookmarks requires you to install the `pickleshare` library.\n",
      "  bkms = self.shell.db.get('bookmarks', {})\n",
      "/dss/dsshome1/0C/ra93lal2/.local/share/virtualenvs/CMA_Fairness_v2-3j10GkSs/lib/python3.10/site-packages/IPython/core/magics/osm.py:417: UserWarning: This is now an optional IPython functionality, setting dhist requires you to install the `pickleshare` library.\n",
      "  self.shell.db['dhist'] = compress_dhist(dhist)[-100:]\n"
     ]
    }
   ],
   "source": [
    "%cd ~/cma/CMA_Fairness_v2"
   ]
  },
  {
   "cell_type": "markdown",
   "id": "de2603b9",
   "metadata": {
    "papermill": {
     "duration": 0.0223,
     "end_time": "2025-07-30T20:53:43.144991",
     "exception": false,
     "start_time": "2025-07-30T20:53:43.122691",
     "status": "completed"
    },
    "tags": []
   },
   "source": [
    "The following cell holds the definition of our parameters, these values can be overriden by rendering the with e.g. the following command:\n",
    "\n",
    "papermill -p alpha 0.2 -p ratio 0.3 universe_analysis.ipynb output/test_run.ipynb"
   ]
  },
  {
   "cell_type": "code",
   "execution_count": 2,
   "id": "a80968a0-40bb-4fa9-85ef-2d5eefb01975",
   "metadata": {
    "execution": {
     "iopub.execute_input": "2025-07-30T20:53:43.185031Z",
     "iopub.status.busy": "2025-07-30T20:53:43.184585Z",
     "iopub.status.idle": "2025-07-30T20:53:43.190191Z",
     "shell.execute_reply": "2025-07-30T20:53:43.189364Z"
    },
    "papermill": {
     "duration": 0.027353,
     "end_time": "2025-07-30T20:53:43.191904",
     "exception": false,
     "start_time": "2025-07-30T20:53:43.164551",
     "status": "completed"
    },
    "tags": []
   },
   "outputs": [
    {
     "name": "stdout",
     "output_type": "stream",
     "text": [
      "Current working directory: /dss/dsshome1/0C/ra93lal2/cma/CMA_Fairness_v2\n"
     ]
    }
   ],
   "source": [
    "import os\n",
    "print(\"Current working directory:\", os.getcwd())"
   ]
  },
  {
   "cell_type": "code",
   "execution_count": 3,
   "id": "2dce4c03",
   "metadata": {
    "execution": {
     "iopub.execute_input": "2025-07-30T20:53:43.235226Z",
     "iopub.status.busy": "2025-07-30T20:53:43.234602Z",
     "iopub.status.idle": "2025-07-30T20:53:43.240940Z",
     "shell.execute_reply": "2025-07-30T20:53:43.240021Z"
    },
    "papermill": {
     "duration": 0.029018,
     "end_time": "2025-07-30T20:53:43.242565",
     "exception": false,
     "start_time": "2025-07-30T20:53:43.213547",
     "status": "completed"
    },
    "tags": [
     "parameters"
    ]
   },
   "outputs": [],
   "source": [
    "run_no = 0\n",
    "universe_id = \"test\"\n",
    "universe = {\n",
    "    \"training_size\": \"25k\", # \"25k\", \"5k\", \"1k\"\n",
    "    \"training_year\": \"2014\", # \"2014\", \"2012_14\", \"2010_14\"\n",
    "    \"scale\": \"scale\", # \"scale\", \"do-not-scale\",\n",
    "    #\"stratify_split\": \"target\", # \"none\", \"target\", \"protected-attribute\", \"both\",\n",
    "    \"model\": \"elasticnet\", # \"logreg\", \"penalized_logreg\", \"rf\", \"gbm\", \"elasticnet\"\n",
    "    \"cutoff\": [\"quantile_0.15\", \"quantile_0.30\"],\n",
    "    \"exclude_features\": \"age\", # \"none\", \"nationality\", \"sex\", \"nationality-sex\", \"age\"\n",
    "    \"exclude_subgroups\": \"keep-all\", # \"keep-all\", \"drop-non-german\"\n",
    "    \"eval_fairness_grouping\": [\"majority-minority\", \"nationality-all\"]\n",
    "}\n",
    "\n",
    "output_dir=\"./output\"\n",
    "seed=0"
   ]
  },
  {
   "cell_type": "code",
   "execution_count": 4,
   "id": "eb70b68b",
   "metadata": {
    "execution": {
     "iopub.execute_input": "2025-07-30T20:53:43.282618Z",
     "iopub.status.busy": "2025-07-30T20:53:43.282194Z",
     "iopub.status.idle": "2025-07-30T20:53:43.287387Z",
     "shell.execute_reply": "2025-07-30T20:53:43.286478Z"
    },
    "papermill": {
     "duration": 0.025951,
     "end_time": "2025-07-30T20:53:43.289178",
     "exception": false,
     "start_time": "2025-07-30T20:53:43.263227",
     "status": "completed"
    },
    "tags": [
     "injected-parameters"
    ]
   },
   "outputs": [],
   "source": [
    "# Parameters\n",
    "universe_id = \"f2578c050dd4c011e3ec599d92a16fae\"\n",
    "run_no = \"14\"\n",
    "universe = \"{\\\"cutoff\\\": [\\\"quantile_0.1\\\", \\\"quantile_0.25\\\"], \\\"eval_fairness_grouping\\\": [\\\"majority-minority\\\", \\\"nationality-all\\\"], \\\"exclude_features\\\": \\\"nationality\\\", \\\"exclude_subgroups\\\": \\\"keep-all\\\", \\\"model\\\": \\\"gbm\\\", \\\"scale\\\": \\\"do-not-scale\\\", \\\"training_size\\\": \\\"5k\\\", \\\"training_year\\\": \\\"2014\\\"}\"\n",
    "output_dir = \"output\"\n",
    "seed = \"2023\"\n"
   ]
  },
  {
   "cell_type": "code",
   "execution_count": 5,
   "id": "1650acaf",
   "metadata": {
    "execution": {
     "iopub.execute_input": "2025-07-30T20:53:43.329893Z",
     "iopub.status.busy": "2025-07-30T20:53:43.329451Z",
     "iopub.status.idle": "2025-07-30T20:53:43.334510Z",
     "shell.execute_reply": "2025-07-30T20:53:43.333566Z"
    },
    "papermill": {
     "duration": 0.025904,
     "end_time": "2025-07-30T20:53:43.336166",
     "exception": false,
     "start_time": "2025-07-30T20:53:43.310262",
     "status": "completed"
    },
    "tags": []
   },
   "outputs": [],
   "source": [
    "import json\n",
    "# Parse universe into dict if it is passed as a string\n",
    "if isinstance(universe, str):\n",
    "    universe = json.loads(universe)"
   ]
  },
  {
   "cell_type": "code",
   "execution_count": 6,
   "id": "16620c48",
   "metadata": {
    "execution": {
     "iopub.execute_input": "2025-07-30T20:53:43.377448Z",
     "iopub.status.busy": "2025-07-30T20:53:43.376634Z",
     "iopub.status.idle": "2025-07-30T20:53:43.422380Z",
     "shell.execute_reply": "2025-07-30T20:53:43.420852Z"
    },
    "papermill": {
     "duration": 0.068696,
     "end_time": "2025-07-30T20:53:43.424207",
     "exception": false,
     "start_time": "2025-07-30T20:53:43.355511",
     "status": "completed"
    },
    "tags": []
   },
   "outputs": [],
   "source": [
    "# Auto-reload the custom package\n",
    "%load_ext autoreload\n",
    "%autoreload 1\n",
    "%aimport fairness_multiverse"
   ]
  },
  {
   "cell_type": "code",
   "execution_count": 7,
   "id": "01c5c9f3",
   "metadata": {
    "execution": {
     "iopub.execute_input": "2025-07-30T20:53:43.464368Z",
     "iopub.status.busy": "2025-07-30T20:53:43.463705Z",
     "iopub.status.idle": "2025-07-30T20:53:45.438556Z",
     "shell.execute_reply": "2025-07-30T20:53:45.437614Z"
    },
    "papermill": {
     "duration": 1.996733,
     "end_time": "2025-07-30T20:53:45.440416",
     "exception": false,
     "start_time": "2025-07-30T20:53:43.443683",
     "status": "completed"
    },
    "tags": []
   },
   "outputs": [],
   "source": [
    "from fairness_multiverse.universe import UniverseAnalysis\n",
    "\n",
    "universe_analysis = UniverseAnalysis(\n",
    "    run_no = run_no,\n",
    "    universe_id = universe_id,\n",
    "    universe = universe,\n",
    "    output_dir=output_dir,\n",
    ")"
   ]
  },
  {
   "cell_type": "code",
   "execution_count": 8,
   "id": "106241f5",
   "metadata": {
    "execution": {
     "iopub.execute_input": "2025-07-30T20:53:45.480939Z",
     "iopub.status.busy": "2025-07-30T20:53:45.480490Z",
     "iopub.status.idle": "2025-07-30T20:53:45.487363Z",
     "shell.execute_reply": "2025-07-30T20:53:45.486284Z"
    },
    "papermill": {
     "duration": 0.029038,
     "end_time": "2025-07-30T20:53:45.489111",
     "exception": false,
     "start_time": "2025-07-30T20:53:45.460073",
     "status": "completed"
    },
    "tags": []
   },
   "outputs": [
    {
     "name": "stdout",
     "output_type": "stream",
     "text": [
      "Using Seed: 2023\n"
     ]
    }
   ],
   "source": [
    "import numpy as np\n",
    "parsed_seed = int(seed)\n",
    "np.random.seed(parsed_seed)\n",
    "print(f\"Using Seed: {parsed_seed}\")"
   ]
  },
  {
   "cell_type": "markdown",
   "id": "e0ebdc57",
   "metadata": {
    "papermill": {
     "duration": 0.018139,
     "end_time": "2025-07-30T20:53:45.528495",
     "exception": false,
     "start_time": "2025-07-30T20:53:45.510356",
     "status": "completed"
    },
    "tags": []
   },
   "source": [
    "# Loading Data"
   ]
  },
  {
   "cell_type": "markdown",
   "id": "681925a3",
   "metadata": {
    "papermill": {
     "duration": 0.019075,
     "end_time": "2025-07-30T20:53:45.565788",
     "exception": false,
     "start_time": "2025-07-30T20:53:45.546713",
     "status": "completed"
    },
    "tags": []
   },
   "source": [
    "Load siab_train, siab_test, siab_calib and/or \n",
    "load siab_train_features, siab_train_labels"
   ]
  },
  {
   "cell_type": "code",
   "execution_count": 9,
   "id": "f0496b8a",
   "metadata": {
    "execution": {
     "iopub.execute_input": "2025-07-30T20:53:45.605202Z",
     "iopub.status.busy": "2025-07-30T20:53:45.604721Z",
     "iopub.status.idle": "2025-07-30T20:53:57.750851Z",
     "shell.execute_reply": "2025-07-30T20:53:57.749657Z"
    },
    "papermill": {
     "duration": 12.168662,
     "end_time": "2025-07-30T20:53:57.752617",
     "exception": false,
     "start_time": "2025-07-30T20:53:45.583955",
     "status": "completed"
    },
    "tags": []
   },
   "outputs": [
    {
     "name": "stdout",
     "output_type": "stream",
     "text": [
      "Loading SIAB data from cache: data/siab_cached.csv.gz\n"
     ]
    },
    {
     "name": "stdout",
     "output_type": "stream",
     "text": [
      "(643690, 164)\n"
     ]
    }
   ],
   "source": [
    "from pathlib import Path\n",
    "import pandas as pd\n",
    "\n",
    "# File paths\n",
    "raw_file = Path(\"data/raw/siab.csv\")\n",
    "cache_file = Path(\"data/siab_cached.csv.gz\")\n",
    "\n",
    "# Ensure cache directory exists\n",
    "cache_file.parent.mkdir(parents=True, exist_ok=True)\n",
    "\n",
    "# Load with simple caching\n",
    "if cache_file.exists():\n",
    "    print(f\"Loading SIAB data from cache: {cache_file}\")\n",
    "    siab = pd.read_csv(cache_file, compression='gzip')\n",
    "else:\n",
    "    print(f\"Cache not found. Reading raw SIAB data: {raw_file}\")\n",
    "    siab = pd.read_csv(raw_file)\n",
    "    siab.to_csv(cache_file, index=False, compression='gzip')\n",
    "    print(f\"Cached SIAB data to: {cache_file}\")\n",
    "\n",
    "# Now use `siab` DataFrame as needed\n",
    "print(siab.shape)"
   ]
  },
  {
   "cell_type": "code",
   "execution_count": 10,
   "id": "db0ca512-5f53-4dba-abdb-a2888bca41ba",
   "metadata": {
    "execution": {
     "iopub.execute_input": "2025-07-30T20:53:57.801869Z",
     "iopub.status.busy": "2025-07-30T20:53:57.801322Z",
     "iopub.status.idle": "2025-07-30T20:53:57.807484Z",
     "shell.execute_reply": "2025-07-30T20:53:57.806513Z"
    },
    "papermill": {
     "duration": 0.03182,
     "end_time": "2025-07-30T20:53:57.809005",
     "exception": false,
     "start_time": "2025-07-30T20:53:57.777185",
     "status": "completed"
    },
    "tags": []
   },
   "outputs": [],
   "source": [
    "#siab"
   ]
  },
  {
   "cell_type": "code",
   "execution_count": 11,
   "id": "a0edb063",
   "metadata": {
    "execution": {
     "iopub.execute_input": "2025-07-30T20:53:57.832322Z",
     "iopub.status.busy": "2025-07-30T20:53:57.831823Z",
     "iopub.status.idle": "2025-07-30T20:53:57.836282Z",
     "shell.execute_reply": "2025-07-30T20:53:57.835551Z"
    },
    "papermill": {
     "duration": 0.017053,
     "end_time": "2025-07-30T20:53:57.837649",
     "exception": false,
     "start_time": "2025-07-30T20:53:57.820596",
     "status": "completed"
    },
    "tags": []
   },
   "outputs": [],
   "source": [
    "#import pandas as pd\n",
    "#\n",
    "#X_train = pd.read_csv(\"./data/X_train.csv\")\n",
    "#y_train = pd.read_csv(\"./data/y_train.csv\")"
   ]
  },
  {
   "cell_type": "code",
   "execution_count": 12,
   "id": "63d08085",
   "metadata": {
    "execution": {
     "iopub.execute_input": "2025-07-30T20:53:57.860563Z",
     "iopub.status.busy": "2025-07-30T20:53:57.859863Z",
     "iopub.status.idle": "2025-07-30T20:53:57.864217Z",
     "shell.execute_reply": "2025-07-30T20:53:57.863550Z"
    },
    "papermill": {
     "duration": 0.016569,
     "end_time": "2025-07-30T20:53:57.865427",
     "exception": false,
     "start_time": "2025-07-30T20:53:57.848858",
     "status": "completed"
    },
    "tags": []
   },
   "outputs": [],
   "source": [
    "#X_test = pd.read_csv(\"./data/X_test.csv\")\n",
    "#y_true = pd.read_csv(\"./data/y_test.csv\")"
   ]
  },
  {
   "cell_type": "code",
   "execution_count": 13,
   "id": "98a8d0fa-1d3d-4ed8-bb2c-281470e24add",
   "metadata": {
    "execution": {
     "iopub.execute_input": "2025-07-30T20:53:57.888468Z",
     "iopub.status.busy": "2025-07-30T20:53:57.887749Z",
     "iopub.status.idle": "2025-07-30T20:53:57.892288Z",
     "shell.execute_reply": "2025-07-30T20:53:57.891555Z"
    },
    "papermill": {
     "duration": 0.017315,
     "end_time": "2025-07-30T20:53:57.893770",
     "exception": false,
     "start_time": "2025-07-30T20:53:57.876455",
     "status": "completed"
    },
    "tags": []
   },
   "outputs": [],
   "source": [
    "# Calibration data for conformal\n",
    "#X_calib = pd.read_csv(\"./data/X_calib.csv\")\n",
    "#y_calib = pd.read_csv(\"./data/y_calib.csv\")"
   ]
  },
  {
   "cell_type": "markdown",
   "id": "997051c5-15bd-4b69-9786-c3001a3ce484",
   "metadata": {
    "papermill": {
     "duration": 0.010509,
     "end_time": "2025-07-30T20:53:57.915753",
     "exception": false,
     "start_time": "2025-07-30T20:53:57.905244",
     "status": "completed"
    },
    "tags": []
   },
   "source": [
    "# Splitting Data and Setting Training Data Size"
   ]
  },
  {
   "cell_type": "code",
   "execution_count": 14,
   "id": "e993b61f-042d-41a6-8c81-f55681f86335",
   "metadata": {
    "execution": {
     "iopub.execute_input": "2025-07-30T20:53:57.938707Z",
     "iopub.status.busy": "2025-07-30T20:53:57.938187Z",
     "iopub.status.idle": "2025-07-30T20:53:57.947866Z",
     "shell.execute_reply": "2025-07-30T20:53:57.947108Z"
    },
    "papermill": {
     "duration": 0.023067,
     "end_time": "2025-07-30T20:53:57.949440",
     "exception": false,
     "start_time": "2025-07-30T20:53:57.926373",
     "status": "completed"
    },
    "tags": []
   },
   "outputs": [],
   "source": [
    "def sample_by_year_size(df,\n",
    "                        training_year: str,\n",
    "                        training_size: str,\n",
    "                        random_state: int = 42):\n",
    "    # --- parse training_year into a list of int years ---\n",
    "    if \"_\" in training_year:\n",
    "        start_str, end_str = training_year.split(\"_\", 1)\n",
    "        start = int(start_str)\n",
    "        end   = int(end_str) if len(end_str) == 4 else (int(end_str) + (start // 100)*100)\n",
    "        years = list(range(start, end + 1))\n",
    "    else:\n",
    "        years = [int(training_year)]\n",
    "\n",
    "    df = df[df[\"year\"].isin(years)].reset_index(drop=True)\n",
    "\n",
    "    # --- map training_size to total number of samples ---\n",
    "    total_map = {\"25k\": 25_000, \"5k\": 5_000, \"1k\": 1_000}\n",
    "    if training_size not in total_map:\n",
    "        return df  # e.g. \"all\"\n",
    "\n",
    "    total_samples = total_map[training_size]\n",
    "    n_years       = len(years)\n",
    "    base          = total_samples // n_years\n",
    "    remainder     = total_samples % n_years\n",
    "\n",
    "    # --- build a dict: year -> how many to sample ---\n",
    "    # give +1 to the first `remainder` years in ascending order\n",
    "    quotas = {\n",
    "        year: base + (1 if idx < remainder else 0)\n",
    "        for idx, year in enumerate(sorted(years))\n",
    "    }\n",
    "\n",
    "    # --- sample per‐year according to the quota dict ---\n",
    "    sampled = (\n",
    "        df\n",
    "        .groupby(\"year\", group_keys=False)\n",
    "        .apply(lambda grp: grp.sample(\n",
    "            n=min(len(grp), quotas[grp.name]),\n",
    "            random_state=random_state))\n",
    "        .reset_index(drop=True)\n",
    "    )\n",
    "\n",
    "    return sampled"
   ]
  },
  {
   "cell_type": "code",
   "execution_count": 15,
   "id": "c0ccd338-0e02-41f3-a09d-f56f9266e3fb",
   "metadata": {
    "execution": {
     "iopub.execute_input": "2025-07-30T20:53:57.997282Z",
     "iopub.status.busy": "2025-07-30T20:53:57.996541Z",
     "iopub.status.idle": "2025-07-30T20:53:58.002239Z",
     "shell.execute_reply": "2025-07-30T20:53:58.001223Z"
    },
    "papermill": {
     "duration": 0.032059,
     "end_time": "2025-07-30T20:53:58.003875",
     "exception": false,
     "start_time": "2025-07-30T20:53:57.971816",
     "status": "completed"
    },
    "tags": []
   },
   "outputs": [],
   "source": [
    "#universe[\"training_size\"]"
   ]
  },
  {
   "cell_type": "code",
   "execution_count": 16,
   "id": "ca707fd7-8047-4acd-bfa5-66248fbbf8e6",
   "metadata": {
    "execution": {
     "iopub.execute_input": "2025-07-30T20:53:58.049025Z",
     "iopub.status.busy": "2025-07-30T20:53:58.048102Z",
     "iopub.status.idle": "2025-07-30T20:53:58.053001Z",
     "shell.execute_reply": "2025-07-30T20:53:58.052275Z"
    },
    "papermill": {
     "duration": 0.028547,
     "end_time": "2025-07-30T20:53:58.054254",
     "exception": false,
     "start_time": "2025-07-30T20:53:58.025707",
     "status": "completed"
    },
    "tags": []
   },
   "outputs": [],
   "source": [
    "#universe[\"training_year\"]"
   ]
  },
  {
   "cell_type": "code",
   "execution_count": 17,
   "id": "aea9c6ef-6f46-42c8-85eb-5a62025c1508",
   "metadata": {
    "execution": {
     "iopub.execute_input": "2025-07-30T20:53:58.077819Z",
     "iopub.status.busy": "2025-07-30T20:53:58.077489Z",
     "iopub.status.idle": "2025-07-30T20:53:58.278754Z",
     "shell.execute_reply": "2025-07-30T20:53:58.277820Z"
    },
    "papermill": {
     "duration": 0.214464,
     "end_time": "2025-07-30T20:53:58.280683",
     "exception": false,
     "start_time": "2025-07-30T20:53:58.066219",
     "status": "completed"
    },
    "tags": []
   },
   "outputs": [],
   "source": [
    "siab_train = sample_by_year_size(siab,\n",
    "                               training_year=universe[\"training_year\"],\n",
    "                               training_size=universe[\"training_size\"])"
   ]
  },
  {
   "cell_type": "code",
   "execution_count": 18,
   "id": "8d3afb32-789d-442c-8d5d-9f5aa8dd2eed",
   "metadata": {
    "execution": {
     "iopub.execute_input": "2025-07-30T20:53:58.326356Z",
     "iopub.status.busy": "2025-07-30T20:53:58.325412Z",
     "iopub.status.idle": "2025-07-30T20:53:58.330974Z",
     "shell.execute_reply": "2025-07-30T20:53:58.330014Z"
    },
    "papermill": {
     "duration": 0.029865,
     "end_time": "2025-07-30T20:53:58.332895",
     "exception": false,
     "start_time": "2025-07-30T20:53:58.303030",
     "status": "completed"
    },
    "tags": []
   },
   "outputs": [],
   "source": [
    "#siab_train.shape"
   ]
  },
  {
   "cell_type": "code",
   "execution_count": 19,
   "id": "d582db68-1a4c-47fb-84fc-08518dc1975a",
   "metadata": {
    "execution": {
     "iopub.execute_input": "2025-07-30T20:53:58.379172Z",
     "iopub.status.busy": "2025-07-30T20:53:58.378305Z",
     "iopub.status.idle": "2025-07-30T20:53:58.383664Z",
     "shell.execute_reply": "2025-07-30T20:53:58.382695Z"
    },
    "papermill": {
     "duration": 0.029531,
     "end_time": "2025-07-30T20:53:58.385454",
     "exception": false,
     "start_time": "2025-07-30T20:53:58.355923",
     "status": "completed"
    },
    "tags": []
   },
   "outputs": [],
   "source": [
    "#display(siab_train.groupby(\"year\").size())"
   ]
  },
  {
   "cell_type": "code",
   "execution_count": 20,
   "id": "a561edb4-d032-42cb-8256-22eac1111c64",
   "metadata": {
    "execution": {
     "iopub.execute_input": "2025-07-30T20:53:58.432525Z",
     "iopub.status.busy": "2025-07-30T20:53:58.431794Z",
     "iopub.status.idle": "2025-07-30T20:53:58.674634Z",
     "shell.execute_reply": "2025-07-30T20:53:58.673647Z"
    },
    "papermill": {
     "duration": 0.26799,
     "end_time": "2025-07-30T20:53:58.676707",
     "exception": false,
     "start_time": "2025-07-30T20:53:58.408717",
     "status": "completed"
    },
    "tags": []
   },
   "outputs": [],
   "source": [
    "#siab_train = siab_s[siab_s.year < 2015]\n",
    "siab_calib = siab[siab.year == 2015]\n",
    "siab_test = siab[siab.year == 2016]"
   ]
  },
  {
   "cell_type": "code",
   "execution_count": 21,
   "id": "472de16f-c3db-4916-846b-1f0de9cf1746",
   "metadata": {
    "execution": {
     "iopub.execute_input": "2025-07-30T20:53:58.723386Z",
     "iopub.status.busy": "2025-07-30T20:53:58.722457Z",
     "iopub.status.idle": "2025-07-30T20:53:58.730980Z",
     "shell.execute_reply": "2025-07-30T20:53:58.730018Z"
    },
    "papermill": {
     "duration": 0.032846,
     "end_time": "2025-07-30T20:53:58.732921",
     "exception": false,
     "start_time": "2025-07-30T20:53:58.700075",
     "status": "completed"
    },
    "tags": []
   },
   "outputs": [],
   "source": [
    "X_train = siab_train.iloc[:,4:164]\n",
    "y_train = siab_train.iloc[:, [3]]"
   ]
  },
  {
   "cell_type": "code",
   "execution_count": 22,
   "id": "828c96af-f43a-4ed6-ba47-8ac73a47d56c",
   "metadata": {
    "execution": {
     "iopub.execute_input": "2025-07-30T20:53:58.780764Z",
     "iopub.status.busy": "2025-07-30T20:53:58.779866Z",
     "iopub.status.idle": "2025-07-30T20:53:58.832465Z",
     "shell.execute_reply": "2025-07-30T20:53:58.831379Z"
    },
    "papermill": {
     "duration": 0.077951,
     "end_time": "2025-07-30T20:53:58.834426",
     "exception": false,
     "start_time": "2025-07-30T20:53:58.756475",
     "status": "completed"
    },
    "tags": []
   },
   "outputs": [],
   "source": [
    "X_calib = siab_calib.iloc[:,4:164]\n",
    "y_calib = siab_calib.iloc[:, [3]]"
   ]
  },
  {
   "cell_type": "code",
   "execution_count": 23,
   "id": "c34be9c3-6bd6-476e-acd3-845840e303be",
   "metadata": {
    "execution": {
     "iopub.execute_input": "2025-07-30T20:53:58.879790Z",
     "iopub.status.busy": "2025-07-30T20:53:58.879143Z",
     "iopub.status.idle": "2025-07-30T20:53:58.934823Z",
     "shell.execute_reply": "2025-07-30T20:53:58.933615Z"
    },
    "papermill": {
     "duration": 0.079592,
     "end_time": "2025-07-30T20:53:58.936833",
     "exception": false,
     "start_time": "2025-07-30T20:53:58.857241",
     "status": "completed"
    },
    "tags": []
   },
   "outputs": [],
   "source": [
    "X_test = siab_test.iloc[:,4:164]\n",
    "y_true = siab_test.iloc[:, [3]]"
   ]
  },
  {
   "cell_type": "markdown",
   "id": "9901737e-04df-44f0-9100-f5ad144ed040",
   "metadata": {
    "papermill": {
     "duration": 0.021807,
     "end_time": "2025-07-30T20:53:58.981457",
     "exception": false,
     "start_time": "2025-07-30T20:53:58.959650",
     "status": "completed"
    },
    "tags": []
   },
   "source": [
    "# Splitting Data and Setting Training Data Size OLD VERSION"
   ]
  },
  {
   "cell_type": "code",
   "execution_count": 24,
   "id": "acbc8f7d-8fc8-4e86-8c59-5dcb0f58384b",
   "metadata": {
    "execution": {
     "iopub.execute_input": "2025-07-30T20:53:59.029732Z",
     "iopub.status.busy": "2025-07-30T20:53:59.028813Z",
     "iopub.status.idle": "2025-07-30T20:53:59.034349Z",
     "shell.execute_reply": "2025-07-30T20:53:59.033423Z"
    },
    "papermill": {
     "duration": 0.032137,
     "end_time": "2025-07-30T20:53:59.035827",
     "exception": false,
     "start_time": "2025-07-30T20:53:59.003690",
     "status": "completed"
    },
    "tags": []
   },
   "outputs": [],
   "source": [
    "#def sample_by_year(df, training_size, random_state=42):\n",
    "#    if training_size == \"2014\":\n",
    "#        return df[df[\"year\"] == 2014].reset_index(drop=True)\n",
    "#    \n",
    "#    size_map = {\n",
    "#        \"25k\": 5000,\n",
    "#        \"5k\": 1000,\n",
    "#        \"1k\": 200\n",
    "#    }\n",
    "#\n",
    "#    if training_size not in size_map:\n",
    "#        return df.reset_index(drop=True)  # use all data\n",
    "#\n",
    "#    n_per_year = size_map[training_size]\n",
    "#    grouped = df.groupby(\"year\")\n",
    "#    sampled = grouped.apply(lambda x: x.sample(n=min(n_per_year, len(x)), random_state=random_state))\n",
    "#    return sampled.reset_index(drop=True)"
   ]
  },
  {
   "cell_type": "code",
   "execution_count": 25,
   "id": "6d931f52-beaf-43ff-9e78-9d44a448d54e",
   "metadata": {
    "execution": {
     "iopub.execute_input": "2025-07-30T20:53:59.082418Z",
     "iopub.status.busy": "2025-07-30T20:53:59.081902Z",
     "iopub.status.idle": "2025-07-30T20:53:59.093824Z",
     "shell.execute_reply": "2025-07-30T20:53:59.092764Z"
    },
    "papermill": {
     "duration": 0.03803,
     "end_time": "2025-07-30T20:53:59.095559",
     "exception": false,
     "start_time": "2025-07-30T20:53:59.057529",
     "status": "completed"
    },
    "tags": []
   },
   "outputs": [],
   "source": [
    "#siab_s = sample_by_year(siab, universe[\"training_size\"])"
   ]
  },
  {
   "cell_type": "code",
   "execution_count": 26,
   "id": "5db0a40e-a4e2-4920-be85-b12ae061d70d",
   "metadata": {
    "execution": {
     "iopub.execute_input": "2025-07-30T20:53:59.142340Z",
     "iopub.status.busy": "2025-07-30T20:53:59.141676Z",
     "iopub.status.idle": "2025-07-30T20:53:59.146764Z",
     "shell.execute_reply": "2025-07-30T20:53:59.145759Z"
    },
    "papermill": {
     "duration": 0.031126,
     "end_time": "2025-07-30T20:53:59.148585",
     "exception": false,
     "start_time": "2025-07-30T20:53:59.117459",
     "status": "completed"
    },
    "tags": []
   },
   "outputs": [],
   "source": [
    "#display(siab_s.groupby(\"year\").size())"
   ]
  },
  {
   "cell_type": "code",
   "execution_count": 27,
   "id": "e6c733c5",
   "metadata": {
    "execution": {
     "iopub.execute_input": "2025-07-30T20:53:59.193990Z",
     "iopub.status.busy": "2025-07-30T20:53:59.193295Z",
     "iopub.status.idle": "2025-07-30T20:53:59.290198Z",
     "shell.execute_reply": "2025-07-30T20:53:59.289194Z"
    },
    "papermill": {
     "duration": 0.121351,
     "end_time": "2025-07-30T20:53:59.292222",
     "exception": false,
     "start_time": "2025-07-30T20:53:59.170871",
     "status": "completed"
    },
    "tags": []
   },
   "outputs": [],
   "source": [
    "# Auxiliary data needed downstream in the pipeline\n",
    "\n",
    "org_train = X_train.copy()\n",
    "org_test = X_test.copy()\n",
    "org_calib = X_calib.copy()"
   ]
  },
  {
   "cell_type": "code",
   "execution_count": 28,
   "id": "1466abac-c6da-4492-a62f-4240ae3783af",
   "metadata": {
    "execution": {
     "iopub.execute_input": "2025-07-30T20:53:59.339622Z",
     "iopub.status.busy": "2025-07-30T20:53:59.338893Z",
     "iopub.status.idle": "2025-07-30T20:53:59.345038Z",
     "shell.execute_reply": "2025-07-30T20:53:59.344062Z"
    },
    "papermill": {
     "duration": 0.031518,
     "end_time": "2025-07-30T20:53:59.346659",
     "exception": false,
     "start_time": "2025-07-30T20:53:59.315141",
     "status": "completed"
    },
    "tags": []
   },
   "outputs": [],
   "source": [
    "# put in other script?\n",
    "# Group sizes\n",
    "\n",
    "#def calculate_percentages(df, df_name):\n",
    "#    total_entries = len(df)\n",
    "#\n",
    "#    female_pct = (df['frau1'] == 1).mean() * 100\n",
    "#    non_german_pct = ((df['maxdeutsch1'] == 0) & (df['maxdeutsch.Missing.'] == 0)).mean() * 100\n",
    "#    non_german_male_pct = ((df['frau1'] == 0) & (df['maxdeutsch1'] == 0) & (df['maxdeutsch.Missing.'] == 0)).mean() * 100\n",
    "#    non_german_female_pct = ((df['frau1'] == 1) & (df['maxdeutsch1'] == 0) & (df['maxdeutsch.Missing.'] == 0)).mean() * 100\n",
    "#\n",
    "#    print(f\"--- {df_name} ---\")\n",
    "#    print(f\"Female: {female_pct:.2f}%\")\n",
    "#    print(f\"Non-German: {non_german_pct:.2f}%\")\n",
    "#    print(f\"Non-German Male: {non_german_male_pct:.2f}%\")\n",
    "#    print(f\"Non-German Female: {non_german_female_pct:.2f}%\\n\")\n",
    "#\n",
    "## Calculate for each DataFrame\n",
    "#calculate_percentages(siab_calib, \"siab_calib\")\n",
    "#calculate_percentages(siab_test, \"siab_test\")\n",
    "#calculate_percentages(siab_train, \"siab_train\")"
   ]
  },
  {
   "cell_type": "markdown",
   "id": "0a4a1b33",
   "metadata": {
    "papermill": {
     "duration": 0.022387,
     "end_time": "2025-07-30T20:53:59.391084",
     "exception": false,
     "start_time": "2025-07-30T20:53:59.368697",
     "status": "completed"
    },
    "tags": []
   },
   "source": [
    "# Preprocessing Data"
   ]
  },
  {
   "cell_type": "code",
   "execution_count": 29,
   "id": "ca879031",
   "metadata": {
    "execution": {
     "iopub.execute_input": "2025-07-30T20:53:59.436546Z",
     "iopub.status.busy": "2025-07-30T20:53:59.435944Z",
     "iopub.status.idle": "2025-07-30T20:53:59.442224Z",
     "shell.execute_reply": "2025-07-30T20:53:59.441253Z"
    },
    "papermill": {
     "duration": 0.030358,
     "end_time": "2025-07-30T20:53:59.443855",
     "exception": false,
     "start_time": "2025-07-30T20:53:59.413497",
     "status": "completed"
    },
    "tags": []
   },
   "outputs": [],
   "source": [
    "# EXCLUDE PROTECTED FEATURES\n",
    "# ----------------------\n",
    "# \"exclude_features\": \"none\", # \"nationality\", \"sex\", \"nationality-sex\"\n",
    "\n",
    "excluded_features = universe[\"exclude_features\"].split(\"-\") # split, e.g.: \"nationality-sex\" -> [\"nationality\", \"sex\"]\n",
    "excluded_features_dictionary = {\n",
    "    \"nationality\": [\"maxdeutsch1\", \"maxdeutsch.Missing.\"],\n",
    "    \"sex\": [\"frau1\"],\n",
    "    \"age\": [\"age\"],\n",
    "}\n"
   ]
  },
  {
   "cell_type": "code",
   "execution_count": 30,
   "id": "b745ac60",
   "metadata": {
    "execution": {
     "iopub.execute_input": "2025-07-30T20:53:59.491608Z",
     "iopub.status.busy": "2025-07-30T20:53:59.490947Z",
     "iopub.status.idle": "2025-07-30T20:53:59.497303Z",
     "shell.execute_reply": "2025-07-30T20:53:59.495781Z"
    },
    "papermill": {
     "duration": 0.031447,
     "end_time": "2025-07-30T20:53:59.498914",
     "exception": false,
     "start_time": "2025-07-30T20:53:59.467467",
     "status": "completed"
    },
    "tags": []
   },
   "outputs": [],
   "source": [
    "# Code nice names to column names\n",
    "\n",
    "excluded_features_columns = [\n",
    "    excluded_features_dictionary[f] for f in excluded_features if len(f) > 0 and f != \"none\"\n",
    "]"
   ]
  },
  {
   "cell_type": "code",
   "execution_count": 31,
   "id": "f84f73a2",
   "metadata": {
    "execution": {
     "iopub.execute_input": "2025-07-30T20:53:59.546222Z",
     "iopub.status.busy": "2025-07-30T20:53:59.545763Z",
     "iopub.status.idle": "2025-07-30T20:53:59.551656Z",
     "shell.execute_reply": "2025-07-30T20:53:59.550741Z"
    },
    "papermill": {
     "duration": 0.031636,
     "end_time": "2025-07-30T20:53:59.553560",
     "exception": false,
     "start_time": "2025-07-30T20:53:59.521924",
     "status": "completed"
    },
    "tags": []
   },
   "outputs": [],
   "source": [
    "from utils import flatten_once\n",
    "\n",
    "excluded_features_columns = flatten_once(excluded_features_columns)"
   ]
  },
  {
   "cell_type": "code",
   "execution_count": 32,
   "id": "884dea22",
   "metadata": {
    "execution": {
     "iopub.execute_input": "2025-07-30T20:53:59.600183Z",
     "iopub.status.busy": "2025-07-30T20:53:59.599465Z",
     "iopub.status.idle": "2025-07-30T20:53:59.609757Z",
     "shell.execute_reply": "2025-07-30T20:53:59.608653Z"
    },
    "papermill": {
     "duration": 0.036093,
     "end_time": "2025-07-30T20:53:59.611521",
     "exception": false,
     "start_time": "2025-07-30T20:53:59.575428",
     "status": "completed"
    },
    "tags": []
   },
   "outputs": [
    {
     "name": "stdout",
     "output_type": "stream",
     "text": [
      "Dropping features: ['maxdeutsch1', 'maxdeutsch.Missing.']\n"
     ]
    }
   ],
   "source": [
    "if len(excluded_features_columns) > 0:\n",
    "    print(f\"Dropping features: {excluded_features_columns}\")\n",
    "    X_train.drop(excluded_features_columns, axis=1, inplace=True)"
   ]
  },
  {
   "cell_type": "code",
   "execution_count": 33,
   "id": "95ab8b16",
   "metadata": {
    "execution": {
     "iopub.execute_input": "2025-07-30T20:53:59.658885Z",
     "iopub.status.busy": "2025-07-30T20:53:59.658146Z",
     "iopub.status.idle": "2025-07-30T20:53:59.727625Z",
     "shell.execute_reply": "2025-07-30T20:53:59.726544Z"
    },
    "papermill": {
     "duration": 0.094365,
     "end_time": "2025-07-30T20:53:59.729343",
     "exception": false,
     "start_time": "2025-07-30T20:53:59.634978",
     "status": "completed"
    },
    "tags": []
   },
   "outputs": [
    {
     "name": "stdout",
     "output_type": "stream",
     "text": [
      "Dropping features: ['maxdeutsch1', 'maxdeutsch.Missing.']\n"
     ]
    }
   ],
   "source": [
    "if len(excluded_features_columns) > 0:\n",
    "    print(f\"Dropping features: {excluded_features_columns}\")\n",
    "    X_test.drop(excluded_features_columns, axis=1, inplace=True)"
   ]
  },
  {
   "cell_type": "code",
   "execution_count": 34,
   "id": "1853aaf5-fb9f-46cb-a2b5-8ea4ae2237e4",
   "metadata": {
    "execution": {
     "iopub.execute_input": "2025-07-30T20:53:59.778777Z",
     "iopub.status.busy": "2025-07-30T20:53:59.778114Z",
     "iopub.status.idle": "2025-07-30T20:53:59.831702Z",
     "shell.execute_reply": "2025-07-30T20:53:59.830759Z"
    },
    "papermill": {
     "duration": 0.07887,
     "end_time": "2025-07-30T20:53:59.833362",
     "exception": false,
     "start_time": "2025-07-30T20:53:59.754492",
     "status": "completed"
    },
    "tags": []
   },
   "outputs": [
    {
     "name": "stdout",
     "output_type": "stream",
     "text": [
      "Dropping features: ['maxdeutsch1', 'maxdeutsch.Missing.']\n"
     ]
    }
   ],
   "source": [
    "if len(excluded_features_columns) > 0:\n",
    "    print(f\"Dropping features: {excluded_features_columns}\")\n",
    "    X_calib.drop(excluded_features_columns, axis=1, inplace=True)"
   ]
  },
  {
   "cell_type": "code",
   "execution_count": 35,
   "id": "6727d079-03e5-481e-9d38-292a90b7a0a8",
   "metadata": {
    "execution": {
     "iopub.execute_input": "2025-07-30T20:53:59.881461Z",
     "iopub.status.busy": "2025-07-30T20:53:59.880921Z",
     "iopub.status.idle": "2025-07-30T20:53:59.885878Z",
     "shell.execute_reply": "2025-07-30T20:53:59.884989Z"
    },
    "papermill": {
     "duration": 0.030912,
     "end_time": "2025-07-30T20:53:59.887629",
     "exception": false,
     "start_time": "2025-07-30T20:53:59.856717",
     "status": "completed"
    },
    "tags": []
   },
   "outputs": [],
   "source": [
    "# SPLIT & STRATIFY DATA\n",
    "# ----------------------"
   ]
  },
  {
   "cell_type": "code",
   "execution_count": 36,
   "id": "76c4dc6d",
   "metadata": {
    "execution": {
     "iopub.execute_input": "2025-07-30T20:53:59.936777Z",
     "iopub.status.busy": "2025-07-30T20:53:59.936102Z",
     "iopub.status.idle": "2025-07-30T20:53:59.941564Z",
     "shell.execute_reply": "2025-07-30T20:53:59.940682Z"
    },
    "papermill": {
     "duration": 0.031579,
     "end_time": "2025-07-30T20:53:59.943169",
     "exception": false,
     "start_time": "2025-07-30T20:53:59.911590",
     "status": "completed"
    },
    "tags": []
   },
   "outputs": [],
   "source": [
    "# EXCLUDE CERTAIN SUBGROUPS\n",
    "# ----------------------\n",
    "\n",
    "mode = universe.get(\"exclude_subgroups\", \"keep-all\") \n",
    "# Fetches the exclude_subgroups setting from the universe dict.\n",
    "# Defaults to \"keep-all\" if the key is missing."
   ]
  },
  {
   "cell_type": "code",
   "execution_count": 37,
   "id": "21994072",
   "metadata": {
    "execution": {
     "iopub.execute_input": "2025-07-30T20:53:59.991665Z",
     "iopub.status.busy": "2025-07-30T20:53:59.991000Z",
     "iopub.status.idle": "2025-07-30T20:53:59.997994Z",
     "shell.execute_reply": "2025-07-30T20:53:59.997050Z"
    },
    "papermill": {
     "duration": 0.033034,
     "end_time": "2025-07-30T20:53:59.999466",
     "exception": false,
     "start_time": "2025-07-30T20:53:59.966432",
     "status": "completed"
    },
    "tags": []
   },
   "outputs": [],
   "source": [
    "if mode == \"keep-all\":\n",
    "    keep_mask = pd.Series(True, index=org_train.index)\n",
    "\n",
    "# org_train contains the original feature columns from features_org (in Simson)\n",
    "# features_org contains unprocessed features, for me X_train at beginning ???\n",
    "# For keep-all, creates a boolean Series (keep_mask) of all True, so no rows are removed.\n",
    "\n",
    "elif mode == \"drop-non-german\":\n",
    "    keep_mask = org_train[\"maxdeutsch1\"] == 1 # ??? what about missing values?\n",
    "\n",
    "else:\n",
    "    raise ValueError(f\"Unsupported mode for exclude_subgroups: {mode}\")\n"
   ]
  },
  {
   "cell_type": "code",
   "execution_count": 38,
   "id": "71651440",
   "metadata": {
    "execution": {
     "iopub.execute_input": "2025-07-30T20:54:00.048799Z",
     "iopub.status.busy": "2025-07-30T20:54:00.048099Z",
     "iopub.status.idle": "2025-07-30T20:54:00.056018Z",
     "shell.execute_reply": "2025-07-30T20:54:00.055060Z"
    },
    "papermill": {
     "duration": 0.034508,
     "end_time": "2025-07-30T20:54:00.057951",
     "exception": false,
     "start_time": "2025-07-30T20:54:00.023443",
     "status": "completed"
    },
    "tags": []
   },
   "outputs": [],
   "source": [
    "n_drop = (~keep_mask).sum() # Calculates how many rows are set to be dropped\n",
    "if n_drop > 0:\n",
    "    pct = n_drop / len(keep_mask) * 100\n",
    "    print(f\"Dropping {n_drop} rows ({pct:.2f}%) where mode='{mode}'\")"
   ]
  },
  {
   "cell_type": "code",
   "execution_count": 39,
   "id": "5fb8eee5",
   "metadata": {
    "execution": {
     "iopub.execute_input": "2025-07-30T20:54:00.105693Z",
     "iopub.status.busy": "2025-07-30T20:54:00.105178Z",
     "iopub.status.idle": "2025-07-30T20:54:00.113694Z",
     "shell.execute_reply": "2025-07-30T20:54:00.112727Z"
    },
    "papermill": {
     "duration": 0.034381,
     "end_time": "2025-07-30T20:54:00.115546",
     "exception": false,
     "start_time": "2025-07-30T20:54:00.081165",
     "status": "completed"
    },
    "tags": []
   },
   "outputs": [],
   "source": [
    "X_train = X_train[keep_mask]"
   ]
  },
  {
   "cell_type": "code",
   "execution_count": 40,
   "id": "b202bb3a",
   "metadata": {
    "execution": {
     "iopub.execute_input": "2025-07-30T20:54:00.163779Z",
     "iopub.status.busy": "2025-07-30T20:54:00.163260Z",
     "iopub.status.idle": "2025-07-30T20:54:00.169691Z",
     "shell.execute_reply": "2025-07-30T20:54:00.168792Z"
    },
    "papermill": {
     "duration": 0.032249,
     "end_time": "2025-07-30T20:54:00.171448",
     "exception": false,
     "start_time": "2025-07-30T20:54:00.139199",
     "status": "completed"
    },
    "tags": []
   },
   "outputs": [],
   "source": [
    "y_train = y_train[keep_mask]"
   ]
  },
  {
   "cell_type": "markdown",
   "id": "493e2ac3",
   "metadata": {
    "papermill": {
     "duration": 0.02266,
     "end_time": "2025-07-30T20:54:00.218076",
     "exception": false,
     "start_time": "2025-07-30T20:54:00.195416",
     "status": "completed"
    },
    "tags": []
   },
   "source": [
    "# Model Training"
   ]
  },
  {
   "cell_type": "code",
   "execution_count": 41,
   "id": "679e1268",
   "metadata": {
    "execution": {
     "iopub.execute_input": "2025-07-30T20:54:00.266790Z",
     "iopub.status.busy": "2025-07-30T20:54:00.265922Z",
     "iopub.status.idle": "2025-07-30T20:54:00.371632Z",
     "shell.execute_reply": "2025-07-30T20:54:00.370653Z"
    },
    "papermill": {
     "duration": 0.132805,
     "end_time": "2025-07-30T20:54:00.373737",
     "exception": false,
     "start_time": "2025-07-30T20:54:00.240932",
     "status": "completed"
    },
    "tags": []
   },
   "outputs": [],
   "source": [
    "from sklearn.linear_model import LogisticRegression\n",
    "from sklearn.ensemble import GradientBoostingClassifier, RandomForestClassifier\n",
    "\n",
    "if (universe[\"model\"] == \"logreg\"):\n",
    "    model = LogisticRegression() #penalty=\"none\") #, solver=\"newton-cg\", max_iter=1) # include random_state=19 ?\n",
    "elif (universe[\"model\"] == \"penalized_logreg\"):\n",
    "    model = LogisticRegression(penalty=\"l2\", C=1.0) #, solver=\"newton-cg\", max_iter=1)\n",
    "elif (universe[\"model\"] == \"rf\"):\n",
    "    model = RandomForestClassifier(n_estimators=100, n_jobs=-1)\n",
    "elif (universe[\"model\"] == \"gbm\"):\n",
    "    model = GradientBoostingClassifier()\n",
    "elif (universe[\"model\"] == \"elasticnet\"):\n",
    "    model = LogisticRegression(penalty = 'elasticnet', solver = 'saga', l1_ratio = 0.5, max_iter=5000) # which solver to use?\n",
    "else:\n",
    "    raise \"Unsupported universe.model\""
   ]
  },
  {
   "cell_type": "code",
   "execution_count": 42,
   "id": "0cc8f744",
   "metadata": {
    "execution": {
     "iopub.execute_input": "2025-07-30T20:54:00.423758Z",
     "iopub.status.busy": "2025-07-30T20:54:00.423045Z",
     "iopub.status.idle": "2025-07-30T20:54:00.430004Z",
     "shell.execute_reply": "2025-07-30T20:54:00.428937Z"
    },
    "papermill": {
     "duration": 0.03449,
     "end_time": "2025-07-30T20:54:00.431679",
     "exception": false,
     "start_time": "2025-07-30T20:54:00.397189",
     "status": "completed"
    },
    "tags": []
   },
   "outputs": [],
   "source": [
    "import numpy as np\n",
    "from sklearn.pipeline import Pipeline\n",
    "from sklearn.preprocessing import StandardScaler\n",
    "\n",
    "model = Pipeline([\n",
    "    #(\"continuous_processor\", continuous_processor),\n",
    "    #(\"categorical_preprocessor\", categorical_preprocessor),\n",
    "    (\"scale\", StandardScaler() if universe[\"scale\"] == \"scale\" else None), \n",
    "    (\"model\", model),\n",
    "])"
   ]
  },
  {
   "cell_type": "code",
   "execution_count": 43,
   "id": "9442c04d",
   "metadata": {
    "execution": {
     "iopub.execute_input": "2025-07-30T20:54:00.480240Z",
     "iopub.status.busy": "2025-07-30T20:54:00.479540Z",
     "iopub.status.idle": "2025-07-30T20:54:05.900781Z",
     "shell.execute_reply": "2025-07-30T20:54:05.900096Z"
    },
    "papermill": {
     "duration": 5.447235,
     "end_time": "2025-07-30T20:54:05.902051",
     "exception": false,
     "start_time": "2025-07-30T20:54:00.454816",
     "status": "completed"
    },
    "tags": []
   },
   "outputs": [
    {
     "data": {
      "text/html": [
       "<style>#sk-container-id-1 {color: black;background-color: white;}#sk-container-id-1 pre{padding: 0;}#sk-container-id-1 div.sk-toggleable {background-color: white;}#sk-container-id-1 label.sk-toggleable__label {cursor: pointer;display: block;width: 100%;margin-bottom: 0;padding: 0.3em;box-sizing: border-box;text-align: center;}#sk-container-id-1 label.sk-toggleable__label-arrow:before {content: \"▸\";float: left;margin-right: 0.25em;color: #696969;}#sk-container-id-1 label.sk-toggleable__label-arrow:hover:before {color: black;}#sk-container-id-1 div.sk-estimator:hover label.sk-toggleable__label-arrow:before {color: black;}#sk-container-id-1 div.sk-toggleable__content {max-height: 0;max-width: 0;overflow: hidden;text-align: left;background-color: #f0f8ff;}#sk-container-id-1 div.sk-toggleable__content pre {margin: 0.2em;color: black;border-radius: 0.25em;background-color: #f0f8ff;}#sk-container-id-1 input.sk-toggleable__control:checked~div.sk-toggleable__content {max-height: 200px;max-width: 100%;overflow: auto;}#sk-container-id-1 input.sk-toggleable__control:checked~label.sk-toggleable__label-arrow:before {content: \"▾\";}#sk-container-id-1 div.sk-estimator input.sk-toggleable__control:checked~label.sk-toggleable__label {background-color: #d4ebff;}#sk-container-id-1 div.sk-label input.sk-toggleable__control:checked~label.sk-toggleable__label {background-color: #d4ebff;}#sk-container-id-1 input.sk-hidden--visually {border: 0;clip: rect(1px 1px 1px 1px);clip: rect(1px, 1px, 1px, 1px);height: 1px;margin: -1px;overflow: hidden;padding: 0;position: absolute;width: 1px;}#sk-container-id-1 div.sk-estimator {font-family: monospace;background-color: #f0f8ff;border: 1px dotted black;border-radius: 0.25em;box-sizing: border-box;margin-bottom: 0.5em;}#sk-container-id-1 div.sk-estimator:hover {background-color: #d4ebff;}#sk-container-id-1 div.sk-parallel-item::after {content: \"\";width: 100%;border-bottom: 1px solid gray;flex-grow: 1;}#sk-container-id-1 div.sk-label:hover label.sk-toggleable__label {background-color: #d4ebff;}#sk-container-id-1 div.sk-serial::before {content: \"\";position: absolute;border-left: 1px solid gray;box-sizing: border-box;top: 0;bottom: 0;left: 50%;z-index: 0;}#sk-container-id-1 div.sk-serial {display: flex;flex-direction: column;align-items: center;background-color: white;padding-right: 0.2em;padding-left: 0.2em;position: relative;}#sk-container-id-1 div.sk-item {position: relative;z-index: 1;}#sk-container-id-1 div.sk-parallel {display: flex;align-items: stretch;justify-content: center;background-color: white;position: relative;}#sk-container-id-1 div.sk-item::before, #sk-container-id-1 div.sk-parallel-item::before {content: \"\";position: absolute;border-left: 1px solid gray;box-sizing: border-box;top: 0;bottom: 0;left: 50%;z-index: -1;}#sk-container-id-1 div.sk-parallel-item {display: flex;flex-direction: column;z-index: 1;position: relative;background-color: white;}#sk-container-id-1 div.sk-parallel-item:first-child::after {align-self: flex-end;width: 50%;}#sk-container-id-1 div.sk-parallel-item:last-child::after {align-self: flex-start;width: 50%;}#sk-container-id-1 div.sk-parallel-item:only-child::after {width: 0;}#sk-container-id-1 div.sk-dashed-wrapped {border: 1px dashed gray;margin: 0 0.4em 0.5em 0.4em;box-sizing: border-box;padding-bottom: 0.4em;background-color: white;}#sk-container-id-1 div.sk-label label {font-family: monospace;font-weight: bold;display: inline-block;line-height: 1.2em;}#sk-container-id-1 div.sk-label-container {text-align: center;}#sk-container-id-1 div.sk-container {/* jupyter's `normalize.less` sets `[hidden] { display: none; }` but bootstrap.min.css set `[hidden] { display: none !important; }` so we also need the `!important` here to be able to override the default hidden behavior on the sphinx rendered scikit-learn.org. See: https://github.com/scikit-learn/scikit-learn/issues/21755 */display: inline-block !important;position: relative;}#sk-container-id-1 div.sk-text-repr-fallback {display: none;}</style><div id=\"sk-container-id-1\" class=\"sk-top-container\"><div class=\"sk-text-repr-fallback\"><pre>Pipeline(steps=[(&#x27;scale&#x27;, None), (&#x27;model&#x27;, GradientBoostingClassifier())])</pre><b>In a Jupyter environment, please rerun this cell to show the HTML representation or trust the notebook. <br />On GitHub, the HTML representation is unable to render, please try loading this page with nbviewer.org.</b></div><div class=\"sk-container\" hidden><div class=\"sk-item sk-dashed-wrapped\"><div class=\"sk-label-container\"><div class=\"sk-label sk-toggleable\"><input class=\"sk-toggleable__control sk-hidden--visually\" id=\"sk-estimator-id-1\" type=\"checkbox\" ><label for=\"sk-estimator-id-1\" class=\"sk-toggleable__label sk-toggleable__label-arrow\">Pipeline</label><div class=\"sk-toggleable__content\"><pre>Pipeline(steps=[(&#x27;scale&#x27;, None), (&#x27;model&#x27;, GradientBoostingClassifier())])</pre></div></div></div><div class=\"sk-serial\"><div class=\"sk-item\"><div class=\"sk-estimator sk-toggleable\"><input class=\"sk-toggleable__control sk-hidden--visually\" id=\"sk-estimator-id-2\" type=\"checkbox\" ><label for=\"sk-estimator-id-2\" class=\"sk-toggleable__label sk-toggleable__label-arrow\">None</label><div class=\"sk-toggleable__content\"><pre>None</pre></div></div></div><div class=\"sk-item\"><div class=\"sk-estimator sk-toggleable\"><input class=\"sk-toggleable__control sk-hidden--visually\" id=\"sk-estimator-id-3\" type=\"checkbox\" ><label for=\"sk-estimator-id-3\" class=\"sk-toggleable__label sk-toggleable__label-arrow\">GradientBoostingClassifier</label><div class=\"sk-toggleable__content\"><pre>GradientBoostingClassifier()</pre></div></div></div></div></div></div></div>"
      ],
      "text/plain": [
       "Pipeline(steps=[('scale', None), ('model', GradientBoostingClassifier())])"
      ]
     },
     "execution_count": 43,
     "metadata": {},
     "output_type": "execute_result"
    }
   ],
   "source": [
    "model.fit(X_train, y_train.values.ravel())"
   ]
  },
  {
   "cell_type": "code",
   "execution_count": 44,
   "id": "af59f8c0",
   "metadata": {
    "execution": {
     "iopub.execute_input": "2025-07-30T20:54:05.930757Z",
     "iopub.status.busy": "2025-07-30T20:54:05.930260Z",
     "iopub.status.idle": "2025-07-30T20:54:05.934711Z",
     "shell.execute_reply": "2025-07-30T20:54:05.934025Z"
    },
    "papermill": {
     "duration": 0.018664,
     "end_time": "2025-07-30T20:54:05.936010",
     "exception": false,
     "start_time": "2025-07-30T20:54:05.917346",
     "status": "completed"
    },
    "tags": []
   },
   "outputs": [],
   "source": [
    "from fairness_multiverse.universe import predict_w_threshold"
   ]
  },
  {
   "cell_type": "code",
   "execution_count": 45,
   "id": "a7cf2e16",
   "metadata": {
    "execution": {
     "iopub.execute_input": "2025-07-30T20:54:05.965604Z",
     "iopub.status.busy": "2025-07-30T20:54:05.964955Z",
     "iopub.status.idle": "2025-07-30T20:54:06.701009Z",
     "shell.execute_reply": "2025-07-30T20:54:06.700081Z"
    },
    "papermill": {
     "duration": 0.75421,
     "end_time": "2025-07-30T20:54:06.703011",
     "exception": false,
     "start_time": "2025-07-30T20:54:05.948801",
     "status": "completed"
    },
    "tags": []
   },
   "outputs": [
    {
     "data": {
      "text/plain": [
       "0.8655556794114369"
      ]
     },
     "execution_count": 45,
     "metadata": {},
     "output_type": "execute_result"
    }
   ],
   "source": [
    "probs_test = model.predict_proba(X_test)\n",
    "\n",
    "'''\n",
    "Below code returns a boolean array (or binary 0/1 array depending on how it’s used) where each element \n",
    "is True if the probability of class 1 is greater than or equal to the threshold, and False otherwise.\n",
    "'''\n",
    "y_pred_default = predict_w_threshold(probs_test, 0.5)\n",
    "\n",
    "from sklearn.metrics import accuracy_score\n",
    "\n",
    "# Naive prediction\n",
    "accuracy_score(y_true = y_true, y_pred = y_pred_default)"
   ]
  },
  {
   "cell_type": "code",
   "execution_count": 46,
   "id": "081964c3",
   "metadata": {
    "execution": {
     "iopub.execute_input": "2025-07-30T20:54:06.754223Z",
     "iopub.status.busy": "2025-07-30T20:54:06.753359Z",
     "iopub.status.idle": "2025-07-30T20:54:07.311252Z",
     "shell.execute_reply": "2025-07-30T20:54:07.310561Z"
    },
    "papermill": {
     "duration": 0.581582,
     "end_time": "2025-07-30T20:54:07.312752",
     "exception": false,
     "start_time": "2025-07-30T20:54:06.731170",
     "status": "completed"
    },
    "tags": []
   },
   "outputs": [
    {
     "data": {
      "text/plain": [
       "array([0, 0, 0, ..., 0, 0, 0])"
      ]
     },
     "execution_count": 46,
     "metadata": {},
     "output_type": "execute_result"
    }
   ],
   "source": [
    "model.predict(X_test)"
   ]
  },
  {
   "cell_type": "markdown",
   "id": "56c9705b",
   "metadata": {
    "papermill": {
     "duration": 0.011993,
     "end_time": "2025-07-30T20:54:07.337577",
     "exception": false,
     "start_time": "2025-07-30T20:54:07.325584",
     "status": "completed"
    },
    "tags": []
   },
   "source": [
    "# Conformal Prediction"
   ]
  },
  {
   "cell_type": "code",
   "execution_count": 47,
   "id": "160ec6ff",
   "metadata": {
    "execution": {
     "iopub.execute_input": "2025-07-30T20:54:07.374030Z",
     "iopub.status.busy": "2025-07-30T20:54:07.373233Z",
     "iopub.status.idle": "2025-07-30T20:54:07.379944Z",
     "shell.execute_reply": "2025-07-30T20:54:07.378958Z"
    },
    "papermill": {
     "duration": 0.03238,
     "end_time": "2025-07-30T20:54:07.382007",
     "exception": false,
     "start_time": "2025-07-30T20:54:07.349627",
     "status": "completed"
    },
    "tags": []
   },
   "outputs": [],
   "source": [
    "# Miscoverage level for conformal prediction (10% allowed error rate => 90% target coverage)\n",
    "alpha = 0.1"
   ]
  },
  {
   "cell_type": "code",
   "execution_count": 48,
   "id": "eadf4555-3dd3-440e-8e35-f82a4ad9f855",
   "metadata": {
    "execution": {
     "iopub.execute_input": "2025-07-30T20:54:07.444747Z",
     "iopub.status.busy": "2025-07-30T20:54:07.444194Z",
     "iopub.status.idle": "2025-07-30T20:54:07.957164Z",
     "shell.execute_reply": "2025-07-30T20:54:07.956301Z"
    },
    "papermill": {
     "duration": 0.545399,
     "end_time": "2025-07-30T20:54:07.958543",
     "exception": false,
     "start_time": "2025-07-30T20:54:07.413144",
     "status": "completed"
    },
    "tags": []
   },
   "outputs": [],
   "source": [
    "probs_calib = model.predict_proba(X_calib)"
   ]
  },
  {
   "cell_type": "code",
   "execution_count": 49,
   "id": "2ed93547-6d5d-4983-9b36-1ecb300da49a",
   "metadata": {
    "execution": {
     "iopub.execute_input": "2025-07-30T20:54:07.988693Z",
     "iopub.status.busy": "2025-07-30T20:54:07.988169Z",
     "iopub.status.idle": "2025-07-30T20:54:07.993205Z",
     "shell.execute_reply": "2025-07-30T20:54:07.992431Z"
    },
    "papermill": {
     "duration": 0.019928,
     "end_time": "2025-07-30T20:54:07.994470",
     "exception": false,
     "start_time": "2025-07-30T20:54:07.974542",
     "status": "completed"
    },
    "tags": []
   },
   "outputs": [],
   "source": [
    "y_calib = y_calib.values.ravel().astype(int)"
   ]
  },
  {
   "cell_type": "code",
   "execution_count": 50,
   "id": "65d1320d-f588-4b38-9072-62af1ae97f7d",
   "metadata": {
    "execution": {
     "iopub.execute_input": "2025-07-30T20:54:08.023672Z",
     "iopub.status.busy": "2025-07-30T20:54:08.022907Z",
     "iopub.status.idle": "2025-07-30T20:54:08.033378Z",
     "shell.execute_reply": "2025-07-30T20:54:08.032175Z"
    },
    "papermill": {
     "duration": 0.027523,
     "end_time": "2025-07-30T20:54:08.035573",
     "exception": false,
     "start_time": "2025-07-30T20:54:08.008050",
     "status": "completed"
    },
    "tags": []
   },
   "outputs": [],
   "source": [
    "from fairness_multiverse.conformal import compute_nc_scores\n",
    "\n",
    "# Compute nonconformity scores on calibration set (1 - probability of true class)\n",
    "nc_scores = compute_nc_scores(probs_calib, y_calib)"
   ]
  },
  {
   "cell_type": "code",
   "execution_count": 51,
   "id": "df3b8ca3-53b7-43d5-9667-7c85da7aeda2",
   "metadata": {
    "execution": {
     "iopub.execute_input": "2025-07-30T20:54:08.109610Z",
     "iopub.status.busy": "2025-07-30T20:54:08.109205Z",
     "iopub.status.idle": "2025-07-30T20:54:08.117349Z",
     "shell.execute_reply": "2025-07-30T20:54:08.116100Z"
    },
    "papermill": {
     "duration": 0.047638,
     "end_time": "2025-07-30T20:54:08.119371",
     "exception": false,
     "start_time": "2025-07-30T20:54:08.071733",
     "status": "completed"
    },
    "tags": []
   },
   "outputs": [],
   "source": [
    "from fairness_multiverse.conformal import find_threshold\n",
    "\n",
    "# Find conformal threshold q_hat for the given alpha (split conformal method)\n",
    "q_hat = find_threshold(nc_scores, alpha)"
   ]
  },
  {
   "cell_type": "code",
   "execution_count": 52,
   "id": "4d29e6c1-0ef6-4aa4-b8fe-4fe79b0d033a",
   "metadata": {
    "execution": {
     "iopub.execute_input": "2025-07-30T20:54:08.165561Z",
     "iopub.status.busy": "2025-07-30T20:54:08.164838Z",
     "iopub.status.idle": "2025-07-30T20:54:08.174844Z",
     "shell.execute_reply": "2025-07-30T20:54:08.173652Z"
    },
    "papermill": {
     "duration": 0.036082,
     "end_time": "2025-07-30T20:54:08.176621",
     "exception": false,
     "start_time": "2025-07-30T20:54:08.140539",
     "status": "completed"
    },
    "tags": []
   },
   "outputs": [
    {
     "data": {
      "text/plain": [
       "0.7091874761757322"
      ]
     },
     "execution_count": 52,
     "metadata": {},
     "output_type": "execute_result"
    }
   ],
   "source": [
    "q_hat"
   ]
  },
  {
   "cell_type": "code",
   "execution_count": 53,
   "id": "92460794-cdac-4be2-ba28-f28c0515a6fb",
   "metadata": {
    "execution": {
     "iopub.execute_input": "2025-07-30T20:54:08.214460Z",
     "iopub.status.busy": "2025-07-30T20:54:08.214113Z",
     "iopub.status.idle": "2025-07-30T20:54:09.471441Z",
     "shell.execute_reply": "2025-07-30T20:54:09.470379Z"
    },
    "papermill": {
     "duration": 1.274284,
     "end_time": "2025-07-30T20:54:09.473420",
     "exception": false,
     "start_time": "2025-07-30T20:54:08.199136",
     "status": "completed"
    },
    "tags": []
   },
   "outputs": [],
   "source": [
    "from fairness_multiverse.conformal import predict_conformal_sets\n",
    "\n",
    "# Generate prediction sets for each test example\n",
    "pred_sets = predict_conformal_sets(model, X_test, q_hat)"
   ]
  },
  {
   "cell_type": "code",
   "execution_count": 54,
   "id": "d90c9a65-e6db-4f5d-80cd-e68fb7e46829",
   "metadata": {
    "execution": {
     "iopub.execute_input": "2025-07-30T20:54:09.528936Z",
     "iopub.status.busy": "2025-07-30T20:54:09.528310Z",
     "iopub.status.idle": "2025-07-30T20:54:09.534565Z",
     "shell.execute_reply": "2025-07-30T20:54:09.533604Z"
    },
    "papermill": {
     "duration": 0.03457,
     "end_time": "2025-07-30T20:54:09.536259",
     "exception": false,
     "start_time": "2025-07-30T20:54:09.501689",
     "status": "completed"
    },
    "tags": []
   },
   "outputs": [],
   "source": [
    "y_true = y_true.squeeze()"
   ]
  },
  {
   "cell_type": "code",
   "execution_count": 55,
   "id": "3a58a54a-1e68-46b9-927a-df01f18aebc8",
   "metadata": {
    "execution": {
     "iopub.execute_input": "2025-07-30T20:54:09.589040Z",
     "iopub.status.busy": "2025-07-30T20:54:09.588497Z",
     "iopub.status.idle": "2025-07-30T20:54:10.322225Z",
     "shell.execute_reply": "2025-07-30T20:54:10.321515Z"
    },
    "papermill": {
     "duration": 0.762017,
     "end_time": "2025-07-30T20:54:10.323993",
     "exception": false,
     "start_time": "2025-07-30T20:54:09.561976",
     "status": "completed"
    },
    "tags": []
   },
   "outputs": [],
   "source": [
    "from fairness_multiverse.conformal import evaluate_sets\n",
    "\n",
    "# Evaluate coverage and average set size on test data\n",
    "metrics = evaluate_sets(pred_sets, y_true)"
   ]
  },
  {
   "cell_type": "markdown",
   "id": "2b569c12-9aaa-4c88-98c9-bbcd0cf3ebb8",
   "metadata": {
    "papermill": {
     "duration": 0.017099,
     "end_time": "2025-07-30T20:54:10.372671",
     "exception": false,
     "start_time": "2025-07-30T20:54:10.355572",
     "status": "completed"
    },
    "tags": []
   },
   "source": [
    "# CP Metrics"
   ]
  },
  {
   "cell_type": "code",
   "execution_count": 56,
   "id": "5ce0a5cb-201f-45a0-ade5-94c7f0bd6095",
   "metadata": {
    "execution": {
     "iopub.execute_input": "2025-07-30T20:54:10.401544Z",
     "iopub.status.busy": "2025-07-30T20:54:10.401193Z",
     "iopub.status.idle": "2025-07-30T20:54:10.407618Z",
     "shell.execute_reply": "2025-07-30T20:54:10.406877Z"
    },
    "papermill": {
     "duration": 0.022751,
     "end_time": "2025-07-30T20:54:10.409294",
     "exception": false,
     "start_time": "2025-07-30T20:54:10.386543",
     "status": "completed"
    },
    "tags": []
   },
   "outputs": [
    {
     "data": {
      "text/plain": [
       "{'coverage': 0.9115929104893545, 'avg_size': 1.128291160405752}"
      ]
     },
     "execution_count": 56,
     "metadata": {},
     "output_type": "execute_result"
    }
   ],
   "source": [
    "metrics"
   ]
  },
  {
   "cell_type": "code",
   "execution_count": 57,
   "id": "9b9a838d-31c9-430b-ae14-12baee460d17",
   "metadata": {
    "execution": {
     "iopub.execute_input": "2025-07-30T20:54:10.463949Z",
     "iopub.status.busy": "2025-07-30T20:54:10.463428Z",
     "iopub.status.idle": "2025-07-30T20:54:10.470825Z",
     "shell.execute_reply": "2025-07-30T20:54:10.469699Z"
    },
    "papermill": {
     "duration": 0.037066,
     "end_time": "2025-07-30T20:54:10.472574",
     "exception": false,
     "start_time": "2025-07-30T20:54:10.435508",
     "status": "completed"
    },
    "tags": []
   },
   "outputs": [],
   "source": [
    "example_universe = universe.copy()\n",
    "universe_training_year = example_universe.get(\"training_year\")\n",
    "universe_training_size = example_universe.get(\"training_size\")\n",
    "universe_scale = example_universe.get(\"scale\")\n",
    "universe_model = example_universe.get(\"model\")\n",
    "universe_exclude_features = example_universe.get(\"exclude_features\")\n",
    "universe_exclude_subgroups = example_universe.get(\"exclude_subgroups\")"
   ]
  },
  {
   "cell_type": "code",
   "execution_count": 58,
   "id": "f4b6a8ac-9dc0-4245-8a91-5b3b5999c4f9",
   "metadata": {
    "execution": {
     "iopub.execute_input": "2025-07-30T20:54:10.526687Z",
     "iopub.status.busy": "2025-07-30T20:54:10.526203Z",
     "iopub.status.idle": "2025-07-30T20:54:10.533160Z",
     "shell.execute_reply": "2025-07-30T20:54:10.532113Z"
    },
    "papermill": {
     "duration": 0.035802,
     "end_time": "2025-07-30T20:54:10.534705",
     "exception": false,
     "start_time": "2025-07-30T20:54:10.498903",
     "status": "completed"
    },
    "tags": []
   },
   "outputs": [],
   "source": [
    "cp_metrics_dict = {\n",
    "    \"universe_id\": [universe_id],\n",
    "    \"universe_training_year\": [universe_training_year],\n",
    "    \"universe_training_size\": [universe_training_size],\n",
    "    \"universe_scale\": [universe_scale],\n",
    "    \"universe_model\": [universe_model],\n",
    "    \"universe_exclude_features\": [universe_exclude_features],\n",
    "    \"universe_exclude_subgroups\": [universe_exclude_subgroups],\n",
    "    \"q_hat\": [q_hat],\n",
    "    \"coverage\": [metrics[\"coverage\"]],\n",
    "    \"avg_size\": [metrics[\"avg_size\"]],\n",
    "}"
   ]
  },
  {
   "cell_type": "code",
   "execution_count": 59,
   "id": "908acbb1-0371-4915-85ca-3fa520d2efe2",
   "metadata": {
    "execution": {
     "iopub.execute_input": "2025-07-30T20:54:10.588692Z",
     "iopub.status.busy": "2025-07-30T20:54:10.588000Z",
     "iopub.status.idle": "2025-07-30T20:54:10.596221Z",
     "shell.execute_reply": "2025-07-30T20:54:10.595215Z"
    },
    "papermill": {
     "duration": 0.036435,
     "end_time": "2025-07-30T20:54:10.597827",
     "exception": false,
     "start_time": "2025-07-30T20:54:10.561392",
     "status": "completed"
    },
    "tags": []
   },
   "outputs": [
    {
     "data": {
      "text/plain": [
       "{'universe_id': ['f2578c050dd4c011e3ec599d92a16fae'],\n",
       " 'universe_training_year': ['2014'],\n",
       " 'universe_training_size': ['5k'],\n",
       " 'universe_scale': ['do-not-scale'],\n",
       " 'universe_model': ['gbm'],\n",
       " 'universe_exclude_features': ['nationality'],\n",
       " 'universe_exclude_subgroups': ['keep-all'],\n",
       " 'q_hat': [0.7091874761757322],\n",
       " 'coverage': [0.9115929104893545],\n",
       " 'avg_size': [1.128291160405752]}"
      ]
     },
     "execution_count": 59,
     "metadata": {},
     "output_type": "execute_result"
    }
   ],
   "source": [
    "cp_metrics_dict"
   ]
  },
  {
   "cell_type": "code",
   "execution_count": 60,
   "id": "33007efc-14e9-4ec6-97ac-56a455c82265",
   "metadata": {
    "execution": {
     "iopub.execute_input": "2025-07-30T20:54:10.653252Z",
     "iopub.status.busy": "2025-07-30T20:54:10.652386Z",
     "iopub.status.idle": "2025-07-30T20:54:10.659380Z",
     "shell.execute_reply": "2025-07-30T20:54:10.658450Z"
    },
    "papermill": {
     "duration": 0.038143,
     "end_time": "2025-07-30T20:54:10.662434",
     "exception": false,
     "start_time": "2025-07-30T20:54:10.624291",
     "status": "completed"
    },
    "tags": []
   },
   "outputs": [],
   "source": [
    "cp_metrics_df = pd.DataFrame(cp_metrics_dict)"
   ]
  },
  {
   "cell_type": "code",
   "execution_count": 61,
   "id": "db12611b-57b2-4910-b9d0-355adfd6e7bf",
   "metadata": {
    "execution": {
     "iopub.execute_input": "2025-07-30T20:54:10.714142Z",
     "iopub.status.busy": "2025-07-30T20:54:10.713388Z",
     "iopub.status.idle": "2025-07-30T20:54:10.732527Z",
     "shell.execute_reply": "2025-07-30T20:54:10.731427Z"
    },
    "papermill": {
     "duration": 0.041901,
     "end_time": "2025-07-30T20:54:10.734220",
     "exception": false,
     "start_time": "2025-07-30T20:54:10.692319",
     "status": "completed"
    },
    "tags": []
   },
   "outputs": [
    {
     "data": {
      "text/html": [
       "<div>\n",
       "<style scoped>\n",
       "    .dataframe tbody tr th:only-of-type {\n",
       "        vertical-align: middle;\n",
       "    }\n",
       "\n",
       "    .dataframe tbody tr th {\n",
       "        vertical-align: top;\n",
       "    }\n",
       "\n",
       "    .dataframe thead th {\n",
       "        text-align: right;\n",
       "    }\n",
       "</style>\n",
       "<table border=\"1\" class=\"dataframe\">\n",
       "  <thead>\n",
       "    <tr style=\"text-align: right;\">\n",
       "      <th></th>\n",
       "      <th>universe_id</th>\n",
       "      <th>universe_training_year</th>\n",
       "      <th>universe_training_size</th>\n",
       "      <th>universe_scale</th>\n",
       "      <th>universe_model</th>\n",
       "      <th>universe_exclude_features</th>\n",
       "      <th>universe_exclude_subgroups</th>\n",
       "      <th>q_hat</th>\n",
       "      <th>coverage</th>\n",
       "      <th>avg_size</th>\n",
       "    </tr>\n",
       "  </thead>\n",
       "  <tbody>\n",
       "    <tr>\n",
       "      <th>0</th>\n",
       "      <td>f2578c050dd4c011e3ec599d92a16fae</td>\n",
       "      <td>2014</td>\n",
       "      <td>5k</td>\n",
       "      <td>do-not-scale</td>\n",
       "      <td>gbm</td>\n",
       "      <td>nationality</td>\n",
       "      <td>keep-all</td>\n",
       "      <td>0.709187</td>\n",
       "      <td>0.911593</td>\n",
       "      <td>1.128291</td>\n",
       "    </tr>\n",
       "  </tbody>\n",
       "</table>\n",
       "</div>"
      ],
      "text/plain": [
       "                        universe_id universe_training_year  \\\n",
       "0  f2578c050dd4c011e3ec599d92a16fae                   2014   \n",
       "\n",
       "  universe_training_size universe_scale universe_model  \\\n",
       "0                     5k   do-not-scale            gbm   \n",
       "\n",
       "  universe_exclude_features universe_exclude_subgroups     q_hat  coverage  \\\n",
       "0               nationality                   keep-all  0.709187  0.911593   \n",
       "\n",
       "   avg_size  \n",
       "0  1.128291  "
      ]
     },
     "execution_count": 61,
     "metadata": {},
     "output_type": "execute_result"
    }
   ],
   "source": [
    "cp_metrics_df"
   ]
  },
  {
   "cell_type": "code",
   "execution_count": 62,
   "id": "b7fbde55-a0a1-47e4-9af6-fe4a17fa8c61",
   "metadata": {
    "execution": {
     "iopub.execute_input": "2025-07-30T20:54:10.786931Z",
     "iopub.status.busy": "2025-07-30T20:54:10.786053Z",
     "iopub.status.idle": "2025-07-30T20:54:10.806195Z",
     "shell.execute_reply": "2025-07-30T20:54:10.804995Z"
    },
    "papermill": {
     "duration": 0.061599,
     "end_time": "2025-07-30T20:54:10.821523",
     "exception": false,
     "start_time": "2025-07-30T20:54:10.759924",
     "status": "completed"
    },
    "tags": []
   },
   "outputs": [],
   "source": [
    "# Conditional Coverage & looking at subgroups"
   ]
  },
  {
   "cell_type": "code",
   "execution_count": 63,
   "id": "027ae886-68dd-4141-96c7-805a5450e1ef",
   "metadata": {
    "execution": {
     "iopub.execute_input": "2025-07-30T20:54:10.864843Z",
     "iopub.status.busy": "2025-07-30T20:54:10.863724Z",
     "iopub.status.idle": "2025-07-30T20:54:11.130894Z",
     "shell.execute_reply": "2025-07-30T20:54:11.129851Z"
    },
    "papermill": {
     "duration": 0.28583,
     "end_time": "2025-07-30T20:54:11.132920",
     "exception": false,
     "start_time": "2025-07-30T20:54:10.847090",
     "status": "completed"
    },
    "tags": []
   },
   "outputs": [],
   "source": [
    "from fairness_multiverse.conformal import build_cp_groups\n",
    "\n",
    "cp_groups_df = build_cp_groups(pred_sets, y_true, X_test.index, org_test)\n",
    "#needs universe_id and setting"
   ]
  },
  {
   "cell_type": "code",
   "execution_count": 64,
   "id": "01d5802c-663a-4d1f-9d69-e036faaffbf7",
   "metadata": {
    "execution": {
     "iopub.execute_input": "2025-07-30T20:54:11.187349Z",
     "iopub.status.busy": "2025-07-30T20:54:11.186447Z",
     "iopub.status.idle": "2025-07-30T20:54:11.192592Z",
     "shell.execute_reply": "2025-07-30T20:54:11.191526Z"
    },
    "papermill": {
     "duration": 0.034612,
     "end_time": "2025-07-30T20:54:11.194466",
     "exception": false,
     "start_time": "2025-07-30T20:54:11.159854",
     "status": "completed"
    },
    "tags": []
   },
   "outputs": [],
   "source": [
    "#delete\n",
    "#cp_groups_df"
   ]
  },
  {
   "cell_type": "code",
   "execution_count": 65,
   "id": "fa424af1-d1eb-443d-b717-2d279ada8408",
   "metadata": {
    "execution": {
     "iopub.execute_input": "2025-07-30T20:54:11.247313Z",
     "iopub.status.busy": "2025-07-30T20:54:11.246820Z",
     "iopub.status.idle": "2025-07-30T20:54:11.252124Z",
     "shell.execute_reply": "2025-07-30T20:54:11.251255Z"
    },
    "papermill": {
     "duration": 0.033975,
     "end_time": "2025-07-30T20:54:11.253940",
     "exception": false,
     "start_time": "2025-07-30T20:54:11.219965",
     "status": "completed"
    },
    "tags": []
   },
   "outputs": [],
   "source": [
    "#delete\n",
    "#percentage = (cp_groups_df['nongerman_female'] == 1).mean() * 100\n",
    "#print(percentage)\n"
   ]
  },
  {
   "cell_type": "code",
   "execution_count": 66,
   "id": "6cbdab96-b2b2-45af-ad54-d0516db2e28d",
   "metadata": {
    "execution": {
     "iopub.execute_input": "2025-07-30T20:54:11.315097Z",
     "iopub.status.busy": "2025-07-30T20:54:11.314401Z",
     "iopub.status.idle": "2025-07-30T20:54:12.857458Z",
     "shell.execute_reply": "2025-07-30T20:54:12.856570Z"
    },
    "papermill": {
     "duration": 1.574726,
     "end_time": "2025-07-30T20:54:12.859430",
     "exception": false,
     "start_time": "2025-07-30T20:54:11.284704",
     "status": "completed"
    },
    "tags": []
   },
   "outputs": [],
   "source": [
    "# Define covered = 1 if true_label is in the predicted set\n",
    "cp_groups_df['covered'] = cp_groups_df.apply(\n",
    "    lambda r: int(r['true_label'] in r['pred_set']),\n",
    "    axis=1\n",
    ")"
   ]
  },
  {
   "cell_type": "code",
   "execution_count": 67,
   "id": "338ff529-1a6b-4b87-a931-8e4788d52aad",
   "metadata": {
    "execution": {
     "iopub.execute_input": "2025-07-30T20:54:12.915942Z",
     "iopub.status.busy": "2025-07-30T20:54:12.915653Z",
     "iopub.status.idle": "2025-07-30T20:54:12.919871Z",
     "shell.execute_reply": "2025-07-30T20:54:12.919244Z"
    },
    "papermill": {
     "duration": 0.035725,
     "end_time": "2025-07-30T20:54:12.921093",
     "exception": false,
     "start_time": "2025-07-30T20:54:12.885368",
     "status": "completed"
    },
    "tags": []
   },
   "outputs": [],
   "source": [
    "#cp_groups_df"
   ]
  },
  {
   "cell_type": "code",
   "execution_count": 68,
   "id": "90032e27-66df-4540-9169-4e89cfbaa758",
   "metadata": {
    "execution": {
     "iopub.execute_input": "2025-07-30T20:54:12.949799Z",
     "iopub.status.busy": "2025-07-30T20:54:12.949524Z",
     "iopub.status.idle": "2025-07-30T20:54:12.958677Z",
     "shell.execute_reply": "2025-07-30T20:54:12.957806Z"
    },
    "papermill": {
     "duration": 0.023816,
     "end_time": "2025-07-30T20:54:12.960059",
     "exception": false,
     "start_time": "2025-07-30T20:54:12.936243",
     "status": "completed"
    },
    "tags": []
   },
   "outputs": [],
   "source": [
    "subgroups = ['frau1','nongerman','nongerman_male','nongerman_female']\n",
    "\n",
    "# Conditional coverage for subgroup==1\n",
    "cond_coverage = {\n",
    "    g: cp_groups_df.loc[cp_groups_df[g]==1, 'covered'].mean()\n",
    "    for g in subgroups\n",
    "}"
   ]
  },
  {
   "cell_type": "code",
   "execution_count": 69,
   "id": "1e348fb1-b9c3-45bc-ba23-f016827a7e0d",
   "metadata": {
    "execution": {
     "iopub.execute_input": "2025-07-30T20:54:13.014137Z",
     "iopub.status.busy": "2025-07-30T20:54:13.013593Z",
     "iopub.status.idle": "2025-07-30T20:54:13.020921Z",
     "shell.execute_reply": "2025-07-30T20:54:13.019844Z"
    },
    "papermill": {
     "duration": 0.03724,
     "end_time": "2025-07-30T20:54:13.023271",
     "exception": false,
     "start_time": "2025-07-30T20:54:12.986031",
     "status": "completed"
    },
    "tags": []
   },
   "outputs": [
    {
     "data": {
      "text/plain": [
       "{'frau1': 0.908343442512468,\n",
       " 'nongerman': 0.9100656823668107,\n",
       " 'nongerman_male': 0.9265964153832298,\n",
       " 'nongerman_female': 0.8827123695976155}"
      ]
     },
     "execution_count": 69,
     "metadata": {},
     "output_type": "execute_result"
    }
   ],
   "source": [
    "cond_coverage"
   ]
  },
  {
   "cell_type": "code",
   "execution_count": 70,
   "id": "f5093324-c3dd-4d63-bc4c-8d945e5c8bbb",
   "metadata": {
    "execution": {
     "iopub.execute_input": "2025-07-30T20:54:13.080654Z",
     "iopub.status.busy": "2025-07-30T20:54:13.080121Z",
     "iopub.status.idle": "2025-07-30T20:54:13.087477Z",
     "shell.execute_reply": "2025-07-30T20:54:13.086488Z"
    },
    "papermill": {
     "duration": 0.039569,
     "end_time": "2025-07-30T20:54:13.089287",
     "exception": false,
     "start_time": "2025-07-30T20:54:13.049718",
     "status": "completed"
    },
    "tags": []
   },
   "outputs": [],
   "source": [
    "for subgroup, cov in cond_coverage.items():\n",
    "    cp_metrics_df[f\"cov_{subgroup}\"] = cov"
   ]
  },
  {
   "cell_type": "code",
   "execution_count": 71,
   "id": "6e872e10-dbe5-49e8-b554-5030c98ff75d",
   "metadata": {
    "execution": {
     "iopub.execute_input": "2025-07-30T20:54:13.145133Z",
     "iopub.status.busy": "2025-07-30T20:54:13.144450Z",
     "iopub.status.idle": "2025-07-30T20:54:13.163324Z",
     "shell.execute_reply": "2025-07-30T20:54:13.162305Z"
    },
    "papermill": {
     "duration": 0.072874,
     "end_time": "2025-07-30T20:54:13.189072",
     "exception": false,
     "start_time": "2025-07-30T20:54:13.116198",
     "status": "completed"
    },
    "tags": []
   },
   "outputs": [
    {
     "data": {
      "text/html": [
       "<div>\n",
       "<style scoped>\n",
       "    .dataframe tbody tr th:only-of-type {\n",
       "        vertical-align: middle;\n",
       "    }\n",
       "\n",
       "    .dataframe tbody tr th {\n",
       "        vertical-align: top;\n",
       "    }\n",
       "\n",
       "    .dataframe thead th {\n",
       "        text-align: right;\n",
       "    }\n",
       "</style>\n",
       "<table border=\"1\" class=\"dataframe\">\n",
       "  <thead>\n",
       "    <tr style=\"text-align: right;\">\n",
       "      <th></th>\n",
       "      <th>universe_id</th>\n",
       "      <th>universe_training_year</th>\n",
       "      <th>universe_training_size</th>\n",
       "      <th>universe_scale</th>\n",
       "      <th>universe_model</th>\n",
       "      <th>universe_exclude_features</th>\n",
       "      <th>universe_exclude_subgroups</th>\n",
       "      <th>q_hat</th>\n",
       "      <th>coverage</th>\n",
       "      <th>avg_size</th>\n",
       "      <th>cov_frau1</th>\n",
       "      <th>cov_nongerman</th>\n",
       "      <th>cov_nongerman_male</th>\n",
       "      <th>cov_nongerman_female</th>\n",
       "    </tr>\n",
       "  </thead>\n",
       "  <tbody>\n",
       "    <tr>\n",
       "      <th>0</th>\n",
       "      <td>f2578c050dd4c011e3ec599d92a16fae</td>\n",
       "      <td>2014</td>\n",
       "      <td>5k</td>\n",
       "      <td>do-not-scale</td>\n",
       "      <td>gbm</td>\n",
       "      <td>nationality</td>\n",
       "      <td>keep-all</td>\n",
       "      <td>0.709187</td>\n",
       "      <td>0.911593</td>\n",
       "      <td>1.128291</td>\n",
       "      <td>0.908343</td>\n",
       "      <td>0.910066</td>\n",
       "      <td>0.926596</td>\n",
       "      <td>0.882712</td>\n",
       "    </tr>\n",
       "  </tbody>\n",
       "</table>\n",
       "</div>"
      ],
      "text/plain": [
       "                        universe_id universe_training_year  \\\n",
       "0  f2578c050dd4c011e3ec599d92a16fae                   2014   \n",
       "\n",
       "  universe_training_size universe_scale universe_model  \\\n",
       "0                     5k   do-not-scale            gbm   \n",
       "\n",
       "  universe_exclude_features universe_exclude_subgroups     q_hat  coverage  \\\n",
       "0               nationality                   keep-all  0.709187  0.911593   \n",
       "\n",
       "   avg_size  cov_frau1  cov_nongerman  cov_nongerman_male  \\\n",
       "0  1.128291   0.908343       0.910066            0.926596   \n",
       "\n",
       "   cov_nongerman_female  \n",
       "0              0.882712  "
      ]
     },
     "execution_count": 71,
     "metadata": {},
     "output_type": "execute_result"
    }
   ],
   "source": [
    "cp_metrics_df"
   ]
  },
  {
   "cell_type": "markdown",
   "id": "33774451",
   "metadata": {
    "papermill": {
     "duration": 0.024478,
     "end_time": "2025-07-30T20:54:13.245050",
     "exception": false,
     "start_time": "2025-07-30T20:54:13.220572",
     "status": "completed"
    },
    "tags": []
   },
   "source": [
    "# (Fairness) Metrics"
   ]
  },
  {
   "cell_type": "code",
   "execution_count": 72,
   "id": "debc5d62",
   "metadata": {
    "execution": {
     "iopub.execute_input": "2025-07-30T20:54:13.300026Z",
     "iopub.status.busy": "2025-07-30T20:54:13.299537Z",
     "iopub.status.idle": "2025-07-30T20:54:13.322419Z",
     "shell.execute_reply": "2025-07-30T20:54:13.321368Z"
    },
    "papermill": {
     "duration": 0.055938,
     "end_time": "2025-07-30T20:54:13.324715",
     "exception": false,
     "start_time": "2025-07-30T20:54:13.268777",
     "status": "completed"
    },
    "tags": []
   },
   "outputs": [],
   "source": [
    "# do I need to include maxdeutsch1.missing?\n",
    "\n",
    "import numpy as np\n",
    "\n",
    "colname_to_bin = \"maxdeutsch1\"\n",
    "majority_value = org_train[colname_to_bin].mode()[0]\n",
    "\n",
    "org_test[\"majmin\"] = np.where(org_test[colname_to_bin] == majority_value, \"majority\", \"minority\")"
   ]
  },
  {
   "cell_type": "code",
   "execution_count": 73,
   "id": "06a50de5",
   "metadata": {
    "execution": {
     "iopub.execute_input": "2025-07-30T20:54:13.376584Z",
     "iopub.status.busy": "2025-07-30T20:54:13.376291Z",
     "iopub.status.idle": "2025-07-30T20:54:15.794866Z",
     "shell.execute_reply": "2025-07-30T20:54:15.793868Z"
    },
    "papermill": {
     "duration": 2.443013,
     "end_time": "2025-07-30T20:54:15.796842",
     "exception": false,
     "start_time": "2025-07-30T20:54:13.353829",
     "status": "completed"
    },
    "tags": []
   },
   "outputs": [],
   "source": [
    "example_universe = universe.copy()\n",
    "example_universe[\"cutoff\"] = example_universe[\"cutoff\"][0]\n",
    "example_universe[\"eval_fairness_grouping\"] = example_universe[\"eval_fairness_grouping\"][0]\n",
    "fairness_dict, metric_frame = universe_analysis.compute_metrics(\n",
    "    example_universe,\n",
    "    y_pred_prob=probs_test,\n",
    "    y_test=y_true,\n",
    "    org_test=org_test,\n",
    ")"
   ]
  },
  {
   "cell_type": "markdown",
   "id": "f95d4e02",
   "metadata": {
    "papermill": {
     "duration": 0.029591,
     "end_time": "2025-07-30T20:54:15.854819",
     "exception": false,
     "start_time": "2025-07-30T20:54:15.825228",
     "status": "completed"
    },
    "tags": []
   },
   "source": [
    "# Overall"
   ]
  },
  {
   "cell_type": "markdown",
   "id": "bdee4871",
   "metadata": {
    "papermill": {
     "duration": 0.029059,
     "end_time": "2025-07-30T20:54:15.913003",
     "exception": false,
     "start_time": "2025-07-30T20:54:15.883944",
     "status": "completed"
    },
    "tags": []
   },
   "source": [
    "Fairness\n",
    "Main fairness target: Equalized Odds. Seems to be a better fit than equal opportunity, since we're not only interested in Y = 1. Seems to be a better fit than demographic parity, since we also care about accuracy, not just equal distribution of preds.\n",
    "\n",
    "Pick column for computation of fairness metrics\n",
    "\n",
    "Performance\n",
    "Overall performance measures, most interesting in relation to the measures split by group below"
   ]
  },
  {
   "cell_type": "code",
   "execution_count": 74,
   "id": "c4e067c6",
   "metadata": {
    "execution": {
     "iopub.execute_input": "2025-07-30T20:54:15.967471Z",
     "iopub.status.busy": "2025-07-30T20:54:15.967032Z",
     "iopub.status.idle": "2025-07-30T20:54:15.975866Z",
     "shell.execute_reply": "2025-07-30T20:54:15.974656Z"
    },
    "papermill": {
     "duration": 0.036266,
     "end_time": "2025-07-30T20:54:15.977725",
     "exception": false,
     "start_time": "2025-07-30T20:54:15.941459",
     "status": "completed"
    },
    "tags": []
   },
   "outputs": [
    {
     "data": {
      "text/plain": [
       "accuracy                   0.224891\n",
       "balanced accuracy          0.549782\n",
       "f1                         0.246209\n",
       "precision                  0.140651\n",
       "false positive rate        0.887228\n",
       "false negative rate        0.013208\n",
       "selection rate             0.900000\n",
       "count                  89710.000000\n",
       "dtype: float64"
      ]
     },
     "execution_count": 74,
     "metadata": {},
     "output_type": "execute_result"
    }
   ],
   "source": [
    "metric_frame.overall"
   ]
  },
  {
   "cell_type": "markdown",
   "id": "e968fe9d",
   "metadata": {
    "papermill": {
     "duration": 0.028577,
     "end_time": "2025-07-30T20:54:16.036840",
     "exception": false,
     "start_time": "2025-07-30T20:54:16.008263",
     "status": "completed"
    },
    "tags": []
   },
   "source": [
    "By Group"
   ]
  },
  {
   "cell_type": "code",
   "execution_count": 75,
   "id": "ec325bce",
   "metadata": {
    "execution": {
     "iopub.execute_input": "2025-07-30T20:54:16.096943Z",
     "iopub.status.busy": "2025-07-30T20:54:16.096375Z",
     "iopub.status.idle": "2025-07-30T20:54:16.116959Z",
     "shell.execute_reply": "2025-07-30T20:54:16.115686Z"
    },
    "papermill": {
     "duration": 0.052527,
     "end_time": "2025-07-30T20:54:16.119042",
     "exception": false,
     "start_time": "2025-07-30T20:54:16.066515",
     "status": "completed"
    },
    "tags": []
   },
   "outputs": [
    {
     "data": {
      "text/html": [
       "<div>\n",
       "<style scoped>\n",
       "    .dataframe tbody tr th:only-of-type {\n",
       "        vertical-align: middle;\n",
       "    }\n",
       "\n",
       "    .dataframe tbody tr th {\n",
       "        vertical-align: top;\n",
       "    }\n",
       "\n",
       "    .dataframe thead th {\n",
       "        text-align: right;\n",
       "    }\n",
       "</style>\n",
       "<table border=\"1\" class=\"dataframe\">\n",
       "  <thead>\n",
       "    <tr style=\"text-align: right;\">\n",
       "      <th></th>\n",
       "      <th>accuracy</th>\n",
       "      <th>balanced accuracy</th>\n",
       "      <th>f1</th>\n",
       "      <th>precision</th>\n",
       "      <th>false positive rate</th>\n",
       "      <th>false negative rate</th>\n",
       "      <th>selection rate</th>\n",
       "      <th>count</th>\n",
       "    </tr>\n",
       "    <tr>\n",
       "      <th>majmin</th>\n",
       "      <th></th>\n",
       "      <th></th>\n",
       "      <th></th>\n",
       "      <th></th>\n",
       "      <th></th>\n",
       "      <th></th>\n",
       "      <th></th>\n",
       "      <th></th>\n",
       "    </tr>\n",
       "  </thead>\n",
       "  <tbody>\n",
       "    <tr>\n",
       "      <th>majority</th>\n",
       "      <td>0.246523</td>\n",
       "      <td>0.559315</td>\n",
       "      <td>0.256668</td>\n",
       "      <td>0.147571</td>\n",
       "      <td>0.865834</td>\n",
       "      <td>0.015536</td>\n",
       "      <td>0.881509</td>\n",
       "      <td>69170.0</td>\n",
       "    </tr>\n",
       "    <tr>\n",
       "      <th>minority</th>\n",
       "      <td>0.152045</td>\n",
       "      <td>0.518937</td>\n",
       "      <td>0.213075</td>\n",
       "      <td>0.119302</td>\n",
       "      <td>0.957902</td>\n",
       "      <td>0.004223</td>\n",
       "      <td>0.962269</td>\n",
       "      <td>20540.0</td>\n",
       "    </tr>\n",
       "  </tbody>\n",
       "</table>\n",
       "</div>"
      ],
      "text/plain": [
       "          accuracy  balanced accuracy        f1  precision  \\\n",
       "majmin                                                       \n",
       "majority  0.246523           0.559315  0.256668   0.147571   \n",
       "minority  0.152045           0.518937  0.213075   0.119302   \n",
       "\n",
       "          false positive rate  false negative rate  selection rate    count  \n",
       "majmin                                                                       \n",
       "majority             0.865834             0.015536        0.881509  69170.0  \n",
       "minority             0.957902             0.004223        0.962269  20540.0  "
      ]
     },
     "execution_count": 75,
     "metadata": {},
     "output_type": "execute_result"
    }
   ],
   "source": [
    "metric_frame.by_group"
   ]
  },
  {
   "cell_type": "code",
   "execution_count": 76,
   "id": "a9ddbe63",
   "metadata": {
    "execution": {
     "iopub.execute_input": "2025-07-30T20:54:16.184619Z",
     "iopub.status.busy": "2025-07-30T20:54:16.184162Z",
     "iopub.status.idle": "2025-07-30T20:54:18.601265Z",
     "shell.execute_reply": "2025-07-30T20:54:18.600077Z"
    },
    "papermill": {
     "duration": 2.462147,
     "end_time": "2025-07-30T20:54:18.613748",
     "exception": false,
     "start_time": "2025-07-30T20:54:16.151601",
     "status": "completed"
    },
    "tags": []
   },
   "outputs": [
    {
     "data": {
      "text/plain": [
       "array([[<Axes: title={'center': 'accuracy'}, xlabel='majmin'>,\n",
       "        <Axes: title={'center': 'balanced accuracy'}, xlabel='majmin'>,\n",
       "        <Axes: title={'center': 'f1'}, xlabel='majmin'>],\n",
       "       [<Axes: title={'center': 'precision'}, xlabel='majmin'>,\n",
       "        <Axes: title={'center': 'false positive rate'}, xlabel='majmin'>,\n",
       "        <Axes: title={'center': 'false negative rate'}, xlabel='majmin'>],\n",
       "       [<Axes: title={'center': 'selection rate'}, xlabel='majmin'>,\n",
       "        <Axes: title={'center': 'count'}, xlabel='majmin'>,\n",
       "        <Axes: xlabel='majmin'>]], dtype=object)"
      ]
     },
     "execution_count": 76,
     "metadata": {},
     "output_type": "execute_result"
    },
    {
     "data": {
      "image/png": "[encoded data removed]",
      "text/plain": [
       "<Figure size 1200x800 with 9 Axes>"
      ]
     },
     "metadata": {},
     "output_type": "display_data"
    }
   ],
   "source": [
    "# In a graphic\n",
    "metric_frame.by_group.plot.bar(\n",
    "    subplots=True,\n",
    "    layout=[3, 3],\n",
    "    legend=False,\n",
    "    figsize=[12, 8],\n",
    "    title=\"Show all metrics\",\n",
    ")"
   ]
  },
  {
   "cell_type": "markdown",
   "id": "f57a0bac",
   "metadata": {
    "papermill": {
     "duration": 0.029644,
     "end_time": "2025-07-30T20:54:18.678277",
     "exception": false,
     "start_time": "2025-07-30T20:54:18.648633",
     "status": "completed"
    },
    "tags": []
   },
   "source": [
    "# Final Output"
   ]
  },
  {
   "cell_type": "code",
   "execution_count": 77,
   "id": "96d280a3",
   "metadata": {
    "execution": {
     "iopub.execute_input": "2025-07-30T20:54:18.740596Z",
     "iopub.status.busy": "2025-07-30T20:54:18.739947Z",
     "iopub.status.idle": "2025-07-30T20:54:18.748084Z",
     "shell.execute_reply": "2025-07-30T20:54:18.747087Z"
    },
    "papermill": {
     "duration": 0.041032,
     "end_time": "2025-07-30T20:54:18.749819",
     "exception": false,
     "start_time": "2025-07-30T20:54:18.708787",
     "status": "completed"
    },
    "tags": []
   },
   "outputs": [
    {
     "data": {
      "text/plain": [
       "4"
      ]
     },
     "execution_count": 77,
     "metadata": {},
     "output_type": "execute_result"
    }
   ],
   "source": [
    "sub_universes = universe_analysis.generate_sub_universes()\n",
    "len(sub_universes)"
   ]
  },
  {
   "cell_type": "code",
   "execution_count": 78,
   "id": "92adf7ba",
   "metadata": {
    "execution": {
     "iopub.execute_input": "2025-07-30T20:54:18.814863Z",
     "iopub.status.busy": "2025-07-30T20:54:18.813968Z",
     "iopub.status.idle": "2025-07-30T20:54:18.820549Z",
     "shell.execute_reply": "2025-07-30T20:54:18.819518Z"
    },
    "papermill": {
     "duration": 0.041292,
     "end_time": "2025-07-30T20:54:18.822336",
     "exception": false,
     "start_time": "2025-07-30T20:54:18.781044",
     "status": "completed"
    },
    "tags": []
   },
   "outputs": [],
   "source": [
    "def filter_sub_universe_data(sub_universe, org_test):\n",
    "    # Keep all rows — no filtering\n",
    "    keep_rows_mask = np.ones(org_test.shape[0], dtype=bool)\n",
    "\n",
    "    print(f\"[INFO] Keeping all rows: {keep_rows_mask.sum()} rows retained.\")\n",
    "    return keep_rows_mask"
   ]
  },
  {
   "cell_type": "code",
   "execution_count": 79,
   "id": "4a759155",
   "metadata": {
    "execution": {
     "iopub.execute_input": "2025-07-30T20:54:18.887114Z",
     "iopub.status.busy": "2025-07-30T20:54:18.886597Z",
     "iopub.status.idle": "2025-07-30T20:54:29.603977Z",
     "shell.execute_reply": "2025-07-30T20:54:29.602685Z"
    },
    "papermill": {
     "duration": 10.751709,
     "end_time": "2025-07-30T20:54:29.605738",
     "exception": false,
     "start_time": "2025-07-30T20:54:18.854029",
     "status": "completed"
    },
    "tags": []
   },
   "outputs": [
    {
     "name": "stdout",
     "output_type": "stream",
     "text": [
      "Stopping execution_time clock.\n",
      "[INFO] Keeping all rows: 89710 rows retained.\n"
     ]
    },
    {
     "name": "stdout",
     "output_type": "stream",
     "text": [
      "[INFO] Keeping all rows: 89710 rows retained.\n"
     ]
    },
    {
     "name": "stdout",
     "output_type": "stream",
     "text": [
      "[INFO] Keeping all rows: 89710 rows retained.\n"
     ]
    },
    {
     "name": "stdout",
     "output_type": "stream",
     "text": [
      "[INFO] Keeping all rows: 89710 rows retained.\n"
     ]
    },
    {
     "data": {
      "text/html": [
       "<div>\n",
       "<style scoped>\n",
       "    .dataframe tbody tr th:only-of-type {\n",
       "        vertical-align: middle;\n",
       "    }\n",
       "\n",
       "    .dataframe tbody tr th {\n",
       "        vertical-align: top;\n",
       "    }\n",
       "\n",
       "    .dataframe thead th {\n",
       "        text-align: right;\n",
       "    }\n",
       "</style>\n",
       "<table border=\"1\" class=\"dataframe\">\n",
       "  <thead>\n",
       "    <tr style=\"text-align: right;\">\n",
       "      <th></th>\n",
       "      <th>run_no</th>\n",
       "      <th>universe_id</th>\n",
       "      <th>universe_settings</th>\n",
       "      <th>execution_time</th>\n",
       "      <th>test_size_n</th>\n",
       "      <th>test_size_frac</th>\n",
       "      <th>fair_main_equalized_odds_difference</th>\n",
       "      <th>fair_main_equalized_odds_ratio</th>\n",
       "      <th>fair_main_demographic_parity_difference</th>\n",
       "      <th>fair_main_demographic_parity_ratio</th>\n",
       "      <th>...</th>\n",
       "      <th>perf_grp_precision_0</th>\n",
       "      <th>perf_grp_precision_1</th>\n",
       "      <th>perf_grp_false positive rate_0</th>\n",
       "      <th>perf_grp_false positive rate_1</th>\n",
       "      <th>perf_grp_false negative rate_0</th>\n",
       "      <th>perf_grp_false negative rate_1</th>\n",
       "      <th>perf_grp_selection rate_0</th>\n",
       "      <th>perf_grp_selection rate_1</th>\n",
       "      <th>perf_grp_count_0</th>\n",
       "      <th>perf_grp_count_1</th>\n",
       "    </tr>\n",
       "  </thead>\n",
       "  <tbody>\n",
       "    <tr>\n",
       "      <th>0</th>\n",
       "      <td>14</td>\n",
       "      <td>f2578c050dd4c011e3ec599d92a16fae</td>\n",
       "      <td>{\"cutoff\": \"quantile_0.1\", \"eval_fairness_grou...</td>\n",
       "      <td>33.506912</td>\n",
       "      <td>89710</td>\n",
       "      <td>1.0</td>\n",
       "      <td>0.092069</td>\n",
       "      <td>0.903885</td>\n",
       "      <td>0.080759</td>\n",
       "      <td>0.916074</td>\n",
       "      <td>...</td>\n",
       "      <td>NaN</td>\n",
       "      <td>NaN</td>\n",
       "      <td>NaN</td>\n",
       "      <td>NaN</td>\n",
       "      <td>NaN</td>\n",
       "      <td>NaN</td>\n",
       "      <td>NaN</td>\n",
       "      <td>NaN</td>\n",
       "      <td>NaN</td>\n",
       "      <td>NaN</td>\n",
       "    </tr>\n",
       "    <tr>\n",
       "      <th>0</th>\n",
       "      <td>14</td>\n",
       "      <td>f2578c050dd4c011e3ec599d92a16fae</td>\n",
       "      <td>{\"cutoff\": \"quantile_0.1\", \"eval_fairness_grou...</td>\n",
       "      <td>33.506912</td>\n",
       "      <td>89710</td>\n",
       "      <td>1.0</td>\n",
       "      <td>0.092069</td>\n",
       "      <td>0.903885</td>\n",
       "      <td>0.080759</td>\n",
       "      <td>0.916074</td>\n",
       "      <td>...</td>\n",
       "      <td>0.119302</td>\n",
       "      <td>0.147571</td>\n",
       "      <td>0.957902</td>\n",
       "      <td>0.865834</td>\n",
       "      <td>0.004223</td>\n",
       "      <td>0.015536</td>\n",
       "      <td>0.962269</td>\n",
       "      <td>0.881509</td>\n",
       "      <td>20540.0</td>\n",
       "      <td>69170.0</td>\n",
       "    </tr>\n",
       "    <tr>\n",
       "      <th>0</th>\n",
       "      <td>14</td>\n",
       "      <td>f2578c050dd4c011e3ec599d92a16fae</td>\n",
       "      <td>{\"cutoff\": \"quantile_0.25\", \"eval_fairness_gro...</td>\n",
       "      <td>33.506912</td>\n",
       "      <td>89710</td>\n",
       "      <td>1.0</td>\n",
       "      <td>0.086544</td>\n",
       "      <td>0.890329</td>\n",
       "      <td>0.072211</td>\n",
       "      <td>0.910504</td>\n",
       "      <td>...</td>\n",
       "      <td>NaN</td>\n",
       "      <td>NaN</td>\n",
       "      <td>NaN</td>\n",
       "      <td>NaN</td>\n",
       "      <td>NaN</td>\n",
       "      <td>NaN</td>\n",
       "      <td>NaN</td>\n",
       "      <td>NaN</td>\n",
       "      <td>NaN</td>\n",
       "      <td>NaN</td>\n",
       "    </tr>\n",
       "    <tr>\n",
       "      <th>0</th>\n",
       "      <td>14</td>\n",
       "      <td>f2578c050dd4c011e3ec599d92a16fae</td>\n",
       "      <td>{\"cutoff\": \"quantile_0.25\", \"eval_fairness_gro...</td>\n",
       "      <td>33.506912</td>\n",
       "      <td>89710</td>\n",
       "      <td>1.0</td>\n",
       "      <td>0.086544</td>\n",
       "      <td>0.890329</td>\n",
       "      <td>0.072211</td>\n",
       "      <td>0.910504</td>\n",
       "      <td>...</td>\n",
       "      <td>0.134737</td>\n",
       "      <td>0.170025</td>\n",
       "      <td>0.789126</td>\n",
       "      <td>0.702582</td>\n",
       "      <td>0.057010</td>\n",
       "      <td>0.054705</td>\n",
       "      <td>0.806865</td>\n",
       "      <td>0.734654</td>\n",
       "      <td>20540.0</td>\n",
       "      <td>69170.0</td>\n",
       "    </tr>\n",
       "  </tbody>\n",
       "</table>\n",
       "<p>4 rows × 50 columns</p>\n",
       "</div>"
      ],
      "text/plain": [
       "  run_no                       universe_id  \\\n",
       "0     14  f2578c050dd4c011e3ec599d92a16fae   \n",
       "0     14  f2578c050dd4c011e3ec599d92a16fae   \n",
       "0     14  f2578c050dd4c011e3ec599d92a16fae   \n",
       "0     14  f2578c050dd4c011e3ec599d92a16fae   \n",
       "\n",
       "                                   universe_settings  execution_time  \\\n",
       "0  {\"cutoff\": \"quantile_0.1\", \"eval_fairness_grou...       33.506912   \n",
       "0  {\"cutoff\": \"quantile_0.1\", \"eval_fairness_grou...       33.506912   \n",
       "0  {\"cutoff\": \"quantile_0.25\", \"eval_fairness_gro...       33.506912   \n",
       "0  {\"cutoff\": \"quantile_0.25\", \"eval_fairness_gro...       33.506912   \n",
       "\n",
       "   test_size_n  test_size_frac  fair_main_equalized_odds_difference  \\\n",
       "0        89710             1.0                             0.092069   \n",
       "0        89710             1.0                             0.092069   \n",
       "0        89710             1.0                             0.086544   \n",
       "0        89710             1.0                             0.086544   \n",
       "\n",
       "   fair_main_equalized_odds_ratio  fair_main_demographic_parity_difference  \\\n",
       "0                        0.903885                                 0.080759   \n",
       "0                        0.903885                                 0.080759   \n",
       "0                        0.890329                                 0.072211   \n",
       "0                        0.890329                                 0.072211   \n",
       "\n",
       "   fair_main_demographic_parity_ratio  ...  perf_grp_precision_0  \\\n",
       "0                            0.916074  ...                   NaN   \n",
       "0                            0.916074  ...              0.119302   \n",
       "0                            0.910504  ...                   NaN   \n",
       "0                            0.910504  ...              0.134737   \n",
       "\n",
       "   perf_grp_precision_1  perf_grp_false positive rate_0  \\\n",
       "0                   NaN                             NaN   \n",
       "0              0.147571                        0.957902   \n",
       "0                   NaN                             NaN   \n",
       "0              0.170025                        0.789126   \n",
       "\n",
       "   perf_grp_false positive rate_1  perf_grp_false negative rate_0  \\\n",
       "0                             NaN                             NaN   \n",
       "0                        0.865834                        0.004223   \n",
       "0                             NaN                             NaN   \n",
       "0                        0.702582                        0.057010   \n",
       "\n",
       "   perf_grp_false negative rate_1  perf_grp_selection rate_0  \\\n",
       "0                             NaN                        NaN   \n",
       "0                        0.015536                   0.962269   \n",
       "0                             NaN                        NaN   \n",
       "0                        0.054705                   0.806865   \n",
       "\n",
       "   perf_grp_selection rate_1  perf_grp_count_0  perf_grp_count_1  \n",
       "0                        NaN               NaN               NaN  \n",
       "0                   0.881509           20540.0           69170.0  \n",
       "0                        NaN               NaN               NaN  \n",
       "0                   0.734654           20540.0           69170.0  \n",
       "\n",
       "[4 rows x 50 columns]"
      ]
     },
     "execution_count": 79,
     "metadata": {},
     "output_type": "execute_result"
    }
   ],
   "source": [
    "final_output = universe_analysis.generate_final_output(\n",
    "    y_pred_prob=probs_test,\n",
    "    y_test=y_true,\n",
    "    org_test=org_test,\n",
    "    filter_data=filter_sub_universe_data,\n",
    "    cp_metrics_df=cp_metrics_df,\n",
    "    save=True,\n",
    ")\n",
    "final_output"
   ]
  },
  {
   "cell_type": "code",
   "execution_count": null,
   "id": "721ff514-cb11-46f8-b6fc-50392f74b5cb",
   "metadata": {
    "papermill": {
     "duration": 0.031702,
     "end_time": "2025-07-30T20:54:29.685308",
     "exception": false,
     "start_time": "2025-07-30T20:54:29.653606",
     "status": "completed"
    },
    "tags": []
   },
   "outputs": [],
   "source": []
  }
 ],
 "metadata": {
  "celltoolbar": "Tags",
  "kernelspec": {
   "display_name": "Python (CMA Fairness)",
   "language": "python",
   "name": "cma_fair_env"
  },
  "language_info": {
   "codemirror_mode": {
    "name": "ipython",
    "version": 3
   },
   "file_extension": ".py",
   "mimetype": "text/x-python",
   "name": "python",
   "nbconvert_exporter": "python",
   "pygments_lexer": "ipython3",
   "version": "3.10.12"
  },
  "papermill": {
   "default_parameters": {},
   "duration": 48.607841,
   "end_time": "2025-07-30T20:54:30.545218",
   "environment_variables": {},
   "exception": null,
   "input_path": "universe_analysis.ipynb",
   "output_path": "output/runs/14/notebooks/m_14-f2578c050dd4c011e3ec599d92a16fae.ipynb",
   "parameters": {
    "output_dir": "output",
    "run_no": "14",
    "seed": "2023",
    "universe": "{\"cutoff\": [\"quantile_0.1\", \"quantile_0.25\"], \"eval_fairness_grouping\": [\"majority-minority\", \"nationality-all\"], \"exclude_features\": \"nationality\", \"exclude_subgroups\": \"keep-all\", \"model\": \"gbm\", \"scale\": \"do-not-scale\", \"training_size\": \"5k\", \"training_year\": \"2014\"}",
    "universe_id": "f2578c050dd4c011e3ec599d92a16fae"
   },
   "start_time": "2025-07-30T20:53:41.937377",
   "version": "2.6.0"
  }
 },
 "nbformat": 4,
 "nbformat_minor": 5
}