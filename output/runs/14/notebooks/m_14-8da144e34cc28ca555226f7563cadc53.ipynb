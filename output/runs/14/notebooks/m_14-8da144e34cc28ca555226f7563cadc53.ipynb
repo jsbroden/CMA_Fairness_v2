{
 "cells": [
  {
   "cell_type": "code",
   "execution_count": 1,
   "id": "f159f837-637b-42ba-96b5-ec9a68c44524",
   "metadata": {
    "execution": {
     "iopub.execute_input": "2025-07-30T21:43:12.882756Z",
     "iopub.status.busy": "2025-07-30T21:43:12.882132Z",
     "iopub.status.idle": "2025-07-30T21:43:12.895041Z",
     "shell.execute_reply": "2025-07-30T21:43:12.894065Z"
    },
    "papermill": {
     "duration": 0.036428,
     "end_time": "2025-07-30T21:43:12.896752",
     "exception": false,
     "start_time": "2025-07-30T21:43:12.860324",
     "status": "completed"
    },
    "tags": []
   },
   "outputs": [
    {
     "name": "stdout",
     "output_type": "stream",
     "text": [
      "/dss/dsshome1/0C/ra93lal2/cma/CMA_Fairness_v2\n"
     ]
    },
    {
     "name": "stderr",
     "output_type": "stream",
     "text": [
      "/dss/dsshome1/0C/ra93lal2/.local/share/virtualenvs/CMA_Fairness_v2-3j10GkSs/lib/python3.10/site-packages/IPython/core/magics/osm.py:393: UserWarning: This is now an optional IPython functionality, using bookmarks requires you to install the `pickleshare` library.\n",
      "  bkms = self.shell.db.get('bookmarks', {})\n",
      "/dss/dsshome1/0C/ra93lal2/.local/share/virtualenvs/CMA_Fairness_v2-3j10GkSs/lib/python3.10/site-packages/IPython/core/magics/osm.py:417: UserWarning: This is now an optional IPython functionality, setting dhist requires you to install the `pickleshare` library.\n",
      "  self.shell.db['dhist'] = compress_dhist(dhist)[-100:]\n"
     ]
    }
   ],
   "source": [
    "%cd ~/cma/CMA_Fairness_v2"
   ]
  },
  {
   "cell_type": "markdown",
   "id": "de2603b9",
   "metadata": {
    "papermill": {
     "duration": 0.018986,
     "end_time": "2025-07-30T21:43:12.937234",
     "exception": false,
     "start_time": "2025-07-30T21:43:12.918248",
     "status": "completed"
    },
    "tags": []
   },
   "source": [
    "The following cell holds the definition of our parameters, these values can be overriden by rendering the with e.g. the following command:\n",
    "\n",
    "papermill -p alpha 0.2 -p ratio 0.3 universe_analysis.ipynb output/test_run.ipynb"
   ]
  },
  {
   "cell_type": "code",
   "execution_count": 2,
   "id": "a80968a0-40bb-4fa9-85ef-2d5eefb01975",
   "metadata": {
    "execution": {
     "iopub.execute_input": "2025-07-30T21:43:12.981966Z",
     "iopub.status.busy": "2025-07-30T21:43:12.981333Z",
     "iopub.status.idle": "2025-07-30T21:43:12.987017Z",
     "shell.execute_reply": "2025-07-30T21:43:12.986190Z"
    },
    "papermill": {
     "duration": 0.031548,
     "end_time": "2025-07-30T21:43:12.988624",
     "exception": false,
     "start_time": "2025-07-30T21:43:12.957076",
     "status": "completed"
    },
    "tags": []
   },
   "outputs": [
    {
     "name": "stdout",
     "output_type": "stream",
     "text": [
      "Current working directory: /dss/dsshome1/0C/ra93lal2/cma/CMA_Fairness_v2\n"
     ]
    }
   ],
   "source": [
    "import os\n",
    "print(\"Current working directory:\", os.getcwd())"
   ]
  },
  {
   "cell_type": "code",
   "execution_count": 3,
   "id": "2dce4c03",
   "metadata": {
    "execution": {
     "iopub.execute_input": "2025-07-30T21:43:13.043256Z",
     "iopub.status.busy": "2025-07-30T21:43:13.042331Z",
     "iopub.status.idle": "2025-07-30T21:43:13.048704Z",
     "shell.execute_reply": "2025-07-30T21:43:13.047708Z"
    },
    "papermill": {
     "duration": 0.040983,
     "end_time": "2025-07-30T21:43:13.050554",
     "exception": false,
     "start_time": "2025-07-30T21:43:13.009571",
     "status": "completed"
    },
    "tags": [
     "parameters"
    ]
   },
   "outputs": [],
   "source": [
    "run_no = 0\n",
    "universe_id = \"test\"\n",
    "universe = {\n",
    "    \"training_size\": \"25k\", # \"25k\", \"5k\", \"1k\"\n",
    "    \"training_year\": \"2014\", # \"2014\", \"2012_14\", \"2010_14\"\n",
    "    \"scale\": \"scale\", # \"scale\", \"do-not-scale\",\n",
    "    #\"stratify_split\": \"target\", # \"none\", \"target\", \"protected-attribute\", \"both\",\n",
    "    \"model\": \"elasticnet\", # \"logreg\", \"penalized_logreg\", \"rf\", \"gbm\", \"elasticnet\"\n",
    "    \"cutoff\": [\"quantile_0.15\", \"quantile_0.30\"],\n",
    "    \"exclude_features\": \"age\", # \"none\", \"nationality\", \"sex\", \"nationality-sex\", \"age\"\n",
    "    \"exclude_subgroups\": \"keep-all\", # \"keep-all\", \"drop-non-german\"\n",
    "    \"eval_fairness_grouping\": [\"majority-minority\", \"nationality-all\"]\n",
    "}\n",
    "\n",
    "output_dir=\"./output\"\n",
    "seed=0"
   ]
  },
  {
   "cell_type": "code",
   "execution_count": 4,
   "id": "539b0935",
   "metadata": {
    "execution": {
     "iopub.execute_input": "2025-07-30T21:43:13.094249Z",
     "iopub.status.busy": "2025-07-30T21:43:13.093801Z",
     "iopub.status.idle": "2025-07-30T21:43:13.099248Z",
     "shell.execute_reply": "2025-07-30T21:43:13.098187Z"
    },
    "papermill": {
     "duration": 0.029084,
     "end_time": "2025-07-30T21:43:13.100987",
     "exception": false,
     "start_time": "2025-07-30T21:43:13.071903",
     "status": "completed"
    },
    "tags": [
     "injected-parameters"
    ]
   },
   "outputs": [],
   "source": [
    "# Parameters\n",
    "universe_id = \"8da144e34cc28ca555226f7563cadc53\"\n",
    "run_no = \"14\"\n",
    "universe = \"{\\\"cutoff\\\": [\\\"quantile_0.1\\\", \\\"quantile_0.25\\\"], \\\"eval_fairness_grouping\\\": [\\\"majority-minority\\\", \\\"nationality-all\\\"], \\\"exclude_features\\\": \\\"age\\\", \\\"exclude_subgroups\\\": \\\"drop-non-german\\\", \\\"model\\\": \\\"elasticnet\\\", \\\"scale\\\": \\\"do-not-scale\\\", \\\"training_size\\\": \\\"1k\\\", \\\"training_year\\\": \\\"2012_14\\\"}\"\n",
    "output_dir = \"output\"\n",
    "seed = \"2023\"\n"
   ]
  },
  {
   "cell_type": "code",
   "execution_count": 5,
   "id": "1650acaf",
   "metadata": {
    "execution": {
     "iopub.execute_input": "2025-07-30T21:43:13.142944Z",
     "iopub.status.busy": "2025-07-30T21:43:13.142324Z",
     "iopub.status.idle": "2025-07-30T21:43:13.147612Z",
     "shell.execute_reply": "2025-07-30T21:43:13.146664Z"
    },
    "papermill": {
     "duration": 0.028135,
     "end_time": "2025-07-30T21:43:13.149449",
     "exception": false,
     "start_time": "2025-07-30T21:43:13.121314",
     "status": "completed"
    },
    "tags": []
   },
   "outputs": [],
   "source": [
    "import json\n",
    "# Parse universe into dict if it is passed as a string\n",
    "if isinstance(universe, str):\n",
    "    universe = json.loads(universe)"
   ]
  },
  {
   "cell_type": "code",
   "execution_count": 6,
   "id": "16620c48",
   "metadata": {
    "execution": {
     "iopub.execute_input": "2025-07-30T21:43:13.191411Z",
     "iopub.status.busy": "2025-07-30T21:43:13.190832Z",
     "iopub.status.idle": "2025-07-30T21:43:13.237179Z",
     "shell.execute_reply": "2025-07-30T21:43:13.236255Z"
    },
    "papermill": {
     "duration": 0.068668,
     "end_time": "2025-07-30T21:43:13.238866",
     "exception": false,
     "start_time": "2025-07-30T21:43:13.170198",
     "status": "completed"
    },
    "tags": []
   },
   "outputs": [],
   "source": [
    "# Auto-reload the custom package\n",
    "%load_ext autoreload\n",
    "%autoreload 1\n",
    "%aimport fairness_multiverse"
   ]
  },
  {
   "cell_type": "code",
   "execution_count": 7,
   "id": "01c5c9f3",
   "metadata": {
    "execution": {
     "iopub.execute_input": "2025-07-30T21:43:13.283227Z",
     "iopub.status.busy": "2025-07-30T21:43:13.282309Z",
     "iopub.status.idle": "2025-07-30T21:43:15.242378Z",
     "shell.execute_reply": "2025-07-30T21:43:15.241309Z"
    },
    "papermill": {
     "duration": 1.985505,
     "end_time": "2025-07-30T21:43:15.244723",
     "exception": false,
     "start_time": "2025-07-30T21:43:13.259218",
     "status": "completed"
    },
    "tags": []
   },
   "outputs": [],
   "source": [
    "from fairness_multiverse.universe import UniverseAnalysis\n",
    "\n",
    "universe_analysis = UniverseAnalysis(\n",
    "    run_no = run_no,\n",
    "    universe_id = universe_id,\n",
    "    universe = universe,\n",
    "    output_dir=output_dir,\n",
    ")"
   ]
  },
  {
   "cell_type": "code",
   "execution_count": 8,
   "id": "106241f5",
   "metadata": {
    "execution": {
     "iopub.execute_input": "2025-07-30T21:43:15.291269Z",
     "iopub.status.busy": "2025-07-30T21:43:15.290623Z",
     "iopub.status.idle": "2025-07-30T21:43:15.297055Z",
     "shell.execute_reply": "2025-07-30T21:43:15.295924Z"
    },
    "papermill": {
     "duration": 0.0305,
     "end_time": "2025-07-30T21:43:15.298664",
     "exception": false,
     "start_time": "2025-07-30T21:43:15.268164",
     "status": "completed"
    },
    "tags": []
   },
   "outputs": [
    {
     "name": "stdout",
     "output_type": "stream",
     "text": [
      "Using Seed: 2023\n"
     ]
    }
   ],
   "source": [
    "import numpy as np\n",
    "parsed_seed = int(seed)\n",
    "np.random.seed(parsed_seed)\n",
    "print(f\"Using Seed: {parsed_seed}\")"
   ]
  },
  {
   "cell_type": "markdown",
   "id": "e0ebdc57",
   "metadata": {
    "papermill": {
     "duration": 0.021282,
     "end_time": "2025-07-30T21:43:15.342961",
     "exception": false,
     "start_time": "2025-07-30T21:43:15.321679",
     "status": "completed"
    },
    "tags": []
   },
   "source": [
    "# Loading Data"
   ]
  },
  {
   "cell_type": "markdown",
   "id": "681925a3",
   "metadata": {
    "papermill": {
     "duration": 0.01911,
     "end_time": "2025-07-30T21:43:15.383663",
     "exception": false,
     "start_time": "2025-07-30T21:43:15.364553",
     "status": "completed"
    },
    "tags": []
   },
   "source": [
    "Load siab_train, siab_test, siab_calib and/or \n",
    "load siab_train_features, siab_train_labels"
   ]
  },
  {
   "cell_type": "code",
   "execution_count": 9,
   "id": "f0496b8a",
   "metadata": {
    "execution": {
     "iopub.execute_input": "2025-07-30T21:43:15.405557Z",
     "iopub.status.busy": "2025-07-30T21:43:15.405169Z",
     "iopub.status.idle": "2025-07-30T21:43:27.111401Z",
     "shell.execute_reply": "2025-07-30T21:43:27.110478Z"
    },
    "papermill": {
     "duration": 11.719224,
     "end_time": "2025-07-30T21:43:27.112968",
     "exception": false,
     "start_time": "2025-07-30T21:43:15.393744",
     "status": "completed"
    },
    "tags": []
   },
   "outputs": [
    {
     "name": "stdout",
     "output_type": "stream",
     "text": [
      "Loading SIAB data from cache: data/siab_cached.csv.gz\n"
     ]
    },
    {
     "name": "stdout",
     "output_type": "stream",
     "text": [
      "(643690, 164)\n"
     ]
    }
   ],
   "source": [
    "from pathlib import Path\n",
    "import pandas as pd\n",
    "\n",
    "# File paths\n",
    "raw_file = Path(\"data/raw/siab.csv\")\n",
    "cache_file = Path(\"data/siab_cached.csv.gz\")\n",
    "\n",
    "# Ensure cache directory exists\n",
    "cache_file.parent.mkdir(parents=True, exist_ok=True)\n",
    "\n",
    "# Load with simple caching\n",
    "if cache_file.exists():\n",
    "    print(f\"Loading SIAB data from cache: {cache_file}\")\n",
    "    siab = pd.read_csv(cache_file, compression='gzip')\n",
    "else:\n",
    "    print(f\"Cache not found. Reading raw SIAB data: {raw_file}\")\n",
    "    siab = pd.read_csv(raw_file)\n",
    "    siab.to_csv(cache_file, index=False, compression='gzip')\n",
    "    print(f\"Cached SIAB data to: {cache_file}\")\n",
    "\n",
    "# Now use `siab` DataFrame as needed\n",
    "print(siab.shape)"
   ]
  },
  {
   "cell_type": "code",
   "execution_count": 10,
   "id": "db0ca512-5f53-4dba-abdb-a2888bca41ba",
   "metadata": {
    "execution": {
     "iopub.execute_input": "2025-07-30T21:43:27.161519Z",
     "iopub.status.busy": "2025-07-30T21:43:27.161006Z",
     "iopub.status.idle": "2025-07-30T21:43:27.166259Z",
     "shell.execute_reply": "2025-07-30T21:43:27.165471Z"
    },
    "papermill": {
     "duration": 0.032403,
     "end_time": "2025-07-30T21:43:27.167345",
     "exception": false,
     "start_time": "2025-07-30T21:43:27.134942",
     "status": "completed"
    },
    "tags": []
   },
   "outputs": [],
   "source": [
    "#siab"
   ]
  },
  {
   "cell_type": "code",
   "execution_count": 11,
   "id": "a0edb063",
   "metadata": {
    "execution": {
     "iopub.execute_input": "2025-07-30T21:43:27.211867Z",
     "iopub.status.busy": "2025-07-30T21:43:27.211378Z",
     "iopub.status.idle": "2025-07-30T21:43:27.217214Z",
     "shell.execute_reply": "2025-07-30T21:43:27.216261Z"
    },
    "papermill": {
     "duration": 0.030866,
     "end_time": "2025-07-30T21:43:27.219377",
     "exception": false,
     "start_time": "2025-07-30T21:43:27.188511",
     "status": "completed"
    },
    "tags": []
   },
   "outputs": [],
   "source": [
    "#import pandas as pd\n",
    "#\n",
    "#X_train = pd.read_csv(\"./data/X_train.csv\")\n",
    "#y_train = pd.read_csv(\"./data/y_train.csv\")"
   ]
  },
  {
   "cell_type": "code",
   "execution_count": 12,
   "id": "63d08085",
   "metadata": {
    "execution": {
     "iopub.execute_input": "2025-07-30T21:43:27.264752Z",
     "iopub.status.busy": "2025-07-30T21:43:27.264346Z",
     "iopub.status.idle": "2025-07-30T21:43:27.268992Z",
     "shell.execute_reply": "2025-07-30T21:43:27.267933Z"
    },
    "papermill": {
     "duration": 0.028843,
     "end_time": "2025-07-30T21:43:27.270823",
     "exception": false,
     "start_time": "2025-07-30T21:43:27.241980",
     "status": "completed"
    },
    "tags": []
   },
   "outputs": [],
   "source": [
    "#X_test = pd.read_csv(\"./data/X_test.csv\")\n",
    "#y_true = pd.read_csv(\"./data/y_test.csv\")"
   ]
  },
  {
   "cell_type": "code",
   "execution_count": 13,
   "id": "98a8d0fa-1d3d-4ed8-bb2c-281470e24add",
   "metadata": {
    "execution": {
     "iopub.execute_input": "2025-07-30T21:43:27.320592Z",
     "iopub.status.busy": "2025-07-30T21:43:27.319867Z",
     "iopub.status.idle": "2025-07-30T21:43:27.330152Z",
     "shell.execute_reply": "2025-07-30T21:43:27.325433Z"
    },
    "papermill": {
     "duration": 0.03868,
     "end_time": "2025-07-30T21:43:27.332652",
     "exception": false,
     "start_time": "2025-07-30T21:43:27.293972",
     "status": "completed"
    },
    "tags": []
   },
   "outputs": [],
   "source": [
    "# Calibration data for conformal\n",
    "#X_calib = pd.read_csv(\"./data/X_calib.csv\")\n",
    "#y_calib = pd.read_csv(\"./data/y_calib.csv\")"
   ]
  },
  {
   "cell_type": "markdown",
   "id": "997051c5-15bd-4b69-9786-c3001a3ce484",
   "metadata": {
    "papermill": {
     "duration": 0.021814,
     "end_time": "2025-07-30T21:43:27.378690",
     "exception": false,
     "start_time": "2025-07-30T21:43:27.356876",
     "status": "completed"
    },
    "tags": []
   },
   "source": [
    "# Splitting Data and Setting Training Data Size"
   ]
  },
  {
   "cell_type": "code",
   "execution_count": 14,
   "id": "e993b61f-042d-41a6-8c81-f55681f86335",
   "metadata": {
    "execution": {
     "iopub.execute_input": "2025-07-30T21:43:27.427472Z",
     "iopub.status.busy": "2025-07-30T21:43:27.426986Z",
     "iopub.status.idle": "2025-07-30T21:43:27.441078Z",
     "shell.execute_reply": "2025-07-30T21:43:27.440069Z"
    },
    "papermill": {
     "duration": 0.041086,
     "end_time": "2025-07-30T21:43:27.442832",
     "exception": false,
     "start_time": "2025-07-30T21:43:27.401746",
     "status": "completed"
    },
    "tags": []
   },
   "outputs": [],
   "source": [
    "def sample_by_year_size(df,\n",
    "                        training_year: str,\n",
    "                        training_size: str,\n",
    "                        random_state: int = 42):\n",
    "    # --- parse training_year into a list of int years ---\n",
    "    if \"_\" in training_year:\n",
    "        start_str, end_str = training_year.split(\"_\", 1)\n",
    "        start = int(start_str)\n",
    "        end   = int(end_str) if len(end_str) == 4 else (int(end_str) + (start // 100)*100)\n",
    "        years = list(range(start, end + 1))\n",
    "    else:\n",
    "        years = [int(training_year)]\n",
    "\n",
    "    df = df[df[\"year\"].isin(years)].reset_index(drop=True)\n",
    "\n",
    "    # --- map training_size to total number of samples ---\n",
    "    total_map = {\"25k\": 25_000, \"5k\": 5_000, \"1k\": 1_000}\n",
    "    if training_size not in total_map:\n",
    "        return df  # e.g. \"all\"\n",
    "\n",
    "    total_samples = total_map[training_size]\n",
    "    n_years       = len(years)\n",
    "    base          = total_samples // n_years\n",
    "    remainder     = total_samples % n_years\n",
    "\n",
    "    # --- build a dict: year -> how many to sample ---\n",
    "    # give +1 to the first `remainder` years in ascending order\n",
    "    quotas = {\n",
    "        year: base + (1 if idx < remainder else 0)\n",
    "        for idx, year in enumerate(sorted(years))\n",
    "    }\n",
    "\n",
    "    # --- sample per‐year according to the quota dict ---\n",
    "    sampled = (\n",
    "        df\n",
    "        .groupby(\"year\", group_keys=False)\n",
    "        .apply(lambda grp: grp.sample(\n",
    "            n=min(len(grp), quotas[grp.name]),\n",
    "            random_state=random_state))\n",
    "        .reset_index(drop=True)\n",
    "    )\n",
    "\n",
    "    return sampled"
   ]
  },
  {
   "cell_type": "code",
   "execution_count": 15,
   "id": "c0ccd338-0e02-41f3-a09d-f56f9266e3fb",
   "metadata": {
    "execution": {
     "iopub.execute_input": "2025-07-30T21:43:27.492532Z",
     "iopub.status.busy": "2025-07-30T21:43:27.491937Z",
     "iopub.status.idle": "2025-07-30T21:43:27.497153Z",
     "shell.execute_reply": "2025-07-30T21:43:27.496233Z"
    },
    "papermill": {
     "duration": 0.029624,
     "end_time": "2025-07-30T21:43:27.498666",
     "exception": false,
     "start_time": "2025-07-30T21:43:27.469042",
     "status": "completed"
    },
    "tags": []
   },
   "outputs": [],
   "source": [
    "#universe[\"training_size\"]"
   ]
  },
  {
   "cell_type": "code",
   "execution_count": 16,
   "id": "ca707fd7-8047-4acd-bfa5-66248fbbf8e6",
   "metadata": {
    "execution": {
     "iopub.execute_input": "2025-07-30T21:43:27.534326Z",
     "iopub.status.busy": "2025-07-30T21:43:27.533869Z",
     "iopub.status.idle": "2025-07-30T21:43:27.539282Z",
     "shell.execute_reply": "2025-07-30T21:43:27.538355Z"
    },
    "papermill": {
     "duration": 0.030121,
     "end_time": "2025-07-30T21:43:27.541202",
     "exception": false,
     "start_time": "2025-07-30T21:43:27.511081",
     "status": "completed"
    },
    "tags": []
   },
   "outputs": [],
   "source": [
    "#universe[\"training_year\"]"
   ]
  },
  {
   "cell_type": "code",
   "execution_count": 17,
   "id": "aea9c6ef-6f46-42c8-85eb-5a62025c1508",
   "metadata": {
    "execution": {
     "iopub.execute_input": "2025-07-30T21:43:27.580455Z",
     "iopub.status.busy": "2025-07-30T21:43:27.580019Z",
     "iopub.status.idle": "2025-07-30T21:43:28.089094Z",
     "shell.execute_reply": "2025-07-30T21:43:28.088385Z"
    },
    "papermill": {
     "duration": 0.525941,
     "end_time": "2025-07-30T21:43:28.090582",
     "exception": false,
     "start_time": "2025-07-30T21:43:27.564641",
     "status": "completed"
    },
    "tags": []
   },
   "outputs": [],
   "source": [
    "siab_train = sample_by_year_size(siab,\n",
    "                               training_year=universe[\"training_year\"],\n",
    "                               training_size=universe[\"training_size\"])"
   ]
  },
  {
   "cell_type": "code",
   "execution_count": 18,
   "id": "8d3afb32-789d-442c-8d5d-9f5aa8dd2eed",
   "metadata": {
    "execution": {
     "iopub.execute_input": "2025-07-30T21:43:28.113110Z",
     "iopub.status.busy": "2025-07-30T21:43:28.112808Z",
     "iopub.status.idle": "2025-07-30T21:43:28.116915Z",
     "shell.execute_reply": "2025-07-30T21:43:28.116215Z"
    },
    "papermill": {
     "duration": 0.01662,
     "end_time": "2025-07-30T21:43:28.118288",
     "exception": false,
     "start_time": "2025-07-30T21:43:28.101668",
     "status": "completed"
    },
    "tags": []
   },
   "outputs": [],
   "source": [
    "#siab_train.shape"
   ]
  },
  {
   "cell_type": "code",
   "execution_count": 19,
   "id": "d582db68-1a4c-47fb-84fc-08518dc1975a",
   "metadata": {
    "execution": {
     "iopub.execute_input": "2025-07-30T21:43:28.143308Z",
     "iopub.status.busy": "2025-07-30T21:43:28.142813Z",
     "iopub.status.idle": "2025-07-30T21:43:28.147517Z",
     "shell.execute_reply": "2025-07-30T21:43:28.146731Z"
    },
    "papermill": {
     "duration": 0.017897,
     "end_time": "2025-07-30T21:43:28.148929",
     "exception": false,
     "start_time": "2025-07-30T21:43:28.131032",
     "status": "completed"
    },
    "tags": []
   },
   "outputs": [],
   "source": [
    "#display(siab_train.groupby(\"year\").size())"
   ]
  },
  {
   "cell_type": "code",
   "execution_count": 20,
   "id": "a561edb4-d032-42cb-8256-22eac1111c64",
   "metadata": {
    "execution": {
     "iopub.execute_input": "2025-07-30T21:43:28.173450Z",
     "iopub.status.busy": "2025-07-30T21:43:28.173010Z",
     "iopub.status.idle": "2025-07-30T21:43:28.399126Z",
     "shell.execute_reply": "2025-07-30T21:43:28.398181Z"
    },
    "papermill": {
     "duration": 0.239851,
     "end_time": "2025-07-30T21:43:28.401137",
     "exception": false,
     "start_time": "2025-07-30T21:43:28.161286",
     "status": "completed"
    },
    "tags": []
   },
   "outputs": [],
   "source": [
    "#siab_train = siab_s[siab_s.year < 2015]\n",
    "siab_calib = siab[siab.year == 2015]\n",
    "siab_test = siab[siab.year == 2016]"
   ]
  },
  {
   "cell_type": "code",
   "execution_count": 21,
   "id": "472de16f-c3db-4916-846b-1f0de9cf1746",
   "metadata": {
    "execution": {
     "iopub.execute_input": "2025-07-30T21:43:28.445302Z",
     "iopub.status.busy": "2025-07-30T21:43:28.444865Z",
     "iopub.status.idle": "2025-07-30T21:43:28.451978Z",
     "shell.execute_reply": "2025-07-30T21:43:28.450917Z"
    },
    "papermill": {
     "duration": 0.031209,
     "end_time": "2025-07-30T21:43:28.453945",
     "exception": false,
     "start_time": "2025-07-30T21:43:28.422736",
     "status": "completed"
    },
    "tags": []
   },
   "outputs": [],
   "source": [
    "X_train = siab_train.iloc[:,4:164]\n",
    "y_train = siab_train.iloc[:, [3]]"
   ]
  },
  {
   "cell_type": "code",
   "execution_count": 22,
   "id": "828c96af-f43a-4ed6-ba47-8ac73a47d56c",
   "metadata": {
    "execution": {
     "iopub.execute_input": "2025-07-30T21:43:28.497660Z",
     "iopub.status.busy": "2025-07-30T21:43:28.497235Z",
     "iopub.status.idle": "2025-07-30T21:43:28.545583Z",
     "shell.execute_reply": "2025-07-30T21:43:28.544588Z"
    },
    "papermill": {
     "duration": 0.071788,
     "end_time": "2025-07-30T21:43:28.547207",
     "exception": false,
     "start_time": "2025-07-30T21:43:28.475419",
     "status": "completed"
    },
    "tags": []
   },
   "outputs": [],
   "source": [
    "X_calib = siab_calib.iloc[:,4:164]\n",
    "y_calib = siab_calib.iloc[:, [3]]"
   ]
  },
  {
   "cell_type": "code",
   "execution_count": 23,
   "id": "c34be9c3-6bd6-476e-acd3-845840e303be",
   "metadata": {
    "execution": {
     "iopub.execute_input": "2025-07-30T21:43:28.588993Z",
     "iopub.status.busy": "2025-07-30T21:43:28.588494Z",
     "iopub.status.idle": "2025-07-30T21:43:28.640285Z",
     "shell.execute_reply": "2025-07-30T21:43:28.639287Z"
    },
    "papermill": {
     "duration": 0.073587,
     "end_time": "2025-07-30T21:43:28.641820",
     "exception": false,
     "start_time": "2025-07-30T21:43:28.568233",
     "status": "completed"
    },
    "tags": []
   },
   "outputs": [],
   "source": [
    "X_test = siab_test.iloc[:,4:164]\n",
    "y_true = siab_test.iloc[:, [3]]"
   ]
  },
  {
   "cell_type": "markdown",
   "id": "9901737e-04df-44f0-9100-f5ad144ed040",
   "metadata": {
    "papermill": {
     "duration": 0.010522,
     "end_time": "2025-07-30T21:43:28.665937",
     "exception": false,
     "start_time": "2025-07-30T21:43:28.655415",
     "status": "completed"
    },
    "tags": []
   },
   "source": [
    "# Splitting Data and Setting Training Data Size OLD VERSION"
   ]
  },
  {
   "cell_type": "code",
   "execution_count": 24,
   "id": "acbc8f7d-8fc8-4e86-8c59-5dcb0f58384b",
   "metadata": {
    "execution": {
     "iopub.execute_input": "2025-07-30T21:43:28.689129Z",
     "iopub.status.busy": "2025-07-30T21:43:28.688749Z",
     "iopub.status.idle": "2025-07-30T21:43:28.694183Z",
     "shell.execute_reply": "2025-07-30T21:43:28.693240Z"
    },
    "papermill": {
     "duration": 0.019417,
     "end_time": "2025-07-30T21:43:28.695943",
     "exception": false,
     "start_time": "2025-07-30T21:43:28.676526",
     "status": "completed"
    },
    "tags": []
   },
   "outputs": [],
   "source": [
    "#def sample_by_year(df, training_size, random_state=42):\n",
    "#    if training_size == \"2014\":\n",
    "#        return df[df[\"year\"] == 2014].reset_index(drop=True)\n",
    "#    \n",
    "#    size_map = {\n",
    "#        \"25k\": 5000,\n",
    "#        \"5k\": 1000,\n",
    "#        \"1k\": 200\n",
    "#    }\n",
    "#\n",
    "#    if training_size not in size_map:\n",
    "#        return df.reset_index(drop=True)  # use all data\n",
    "#\n",
    "#    n_per_year = size_map[training_size]\n",
    "#    grouped = df.groupby(\"year\")\n",
    "#    sampled = grouped.apply(lambda x: x.sample(n=min(n_per_year, len(x)), random_state=random_state))\n",
    "#    return sampled.reset_index(drop=True)"
   ]
  },
  {
   "cell_type": "code",
   "execution_count": 25,
   "id": "6d931f52-beaf-43ff-9e78-9d44a448d54e",
   "metadata": {
    "execution": {
     "iopub.execute_input": "2025-07-30T21:43:28.741486Z",
     "iopub.status.busy": "2025-07-30T21:43:28.740845Z",
     "iopub.status.idle": "2025-07-30T21:43:28.745883Z",
     "shell.execute_reply": "2025-07-30T21:43:28.745001Z"
    },
    "papermill": {
     "duration": 0.028913,
     "end_time": "2025-07-30T21:43:28.747531",
     "exception": false,
     "start_time": "2025-07-30T21:43:28.718618",
     "status": "completed"
    },
    "tags": []
   },
   "outputs": [],
   "source": [
    "#siab_s = sample_by_year(siab, universe[\"training_size\"])"
   ]
  },
  {
   "cell_type": "code",
   "execution_count": 26,
   "id": "5db0a40e-a4e2-4920-be85-b12ae061d70d",
   "metadata": {
    "execution": {
     "iopub.execute_input": "2025-07-30T21:43:28.793186Z",
     "iopub.status.busy": "2025-07-30T21:43:28.792752Z",
     "iopub.status.idle": "2025-07-30T21:43:28.797865Z",
     "shell.execute_reply": "2025-07-30T21:43:28.796809Z"
    },
    "papermill": {
     "duration": 0.029763,
     "end_time": "2025-07-30T21:43:28.799578",
     "exception": false,
     "start_time": "2025-07-30T21:43:28.769815",
     "status": "completed"
    },
    "tags": []
   },
   "outputs": [],
   "source": [
    "#display(siab_s.groupby(\"year\").size())"
   ]
  },
  {
   "cell_type": "code",
   "execution_count": 27,
   "id": "e6c733c5",
   "metadata": {
    "execution": {
     "iopub.execute_input": "2025-07-30T21:43:28.846485Z",
     "iopub.status.busy": "2025-07-30T21:43:28.845858Z",
     "iopub.status.idle": "2025-07-30T21:43:28.951779Z",
     "shell.execute_reply": "2025-07-30T21:43:28.950857Z"
    },
    "papermill": {
     "duration": 0.130745,
     "end_time": "2025-07-30T21:43:28.953529",
     "exception": false,
     "start_time": "2025-07-30T21:43:28.822784",
     "status": "completed"
    },
    "tags": []
   },
   "outputs": [],
   "source": [
    "# Auxiliary data needed downstream in the pipeline\n",
    "\n",
    "org_train = X_train.copy()\n",
    "org_test = X_test.copy()\n",
    "org_calib = X_calib.copy()"
   ]
  },
  {
   "cell_type": "code",
   "execution_count": 28,
   "id": "1466abac-c6da-4492-a62f-4240ae3783af",
   "metadata": {
    "execution": {
     "iopub.execute_input": "2025-07-30T21:43:28.994965Z",
     "iopub.status.busy": "2025-07-30T21:43:28.994514Z",
     "iopub.status.idle": "2025-07-30T21:43:29.000451Z",
     "shell.execute_reply": "2025-07-30T21:43:28.999498Z"
    },
    "papermill": {
     "duration": 0.028099,
     "end_time": "2025-07-30T21:43:29.002038",
     "exception": false,
     "start_time": "2025-07-30T21:43:28.973939",
     "status": "completed"
    },
    "tags": []
   },
   "outputs": [],
   "source": [
    "# put in other script?\n",
    "# Group sizes\n",
    "\n",
    "#def calculate_percentages(df, df_name):\n",
    "#    total_entries = len(df)\n",
    "#\n",
    "#    female_pct = (df['frau1'] == 1).mean() * 100\n",
    "#    non_german_pct = ((df['maxdeutsch1'] == 0) & (df['maxdeutsch.Missing.'] == 0)).mean() * 100\n",
    "#    non_german_male_pct = ((df['frau1'] == 0) & (df['maxdeutsch1'] == 0) & (df['maxdeutsch.Missing.'] == 0)).mean() * 100\n",
    "#    non_german_female_pct = ((df['frau1'] == 1) & (df['maxdeutsch1'] == 0) & (df['maxdeutsch.Missing.'] == 0)).mean() * 100\n",
    "#\n",
    "#    print(f\"--- {df_name} ---\")\n",
    "#    print(f\"Female: {female_pct:.2f}%\")\n",
    "#    print(f\"Non-German: {non_german_pct:.2f}%\")\n",
    "#    print(f\"Non-German Male: {non_german_male_pct:.2f}%\")\n",
    "#    print(f\"Non-German Female: {non_german_female_pct:.2f}%\\n\")\n",
    "#\n",
    "## Calculate for each DataFrame\n",
    "#calculate_percentages(siab_calib, \"siab_calib\")\n",
    "#calculate_percentages(siab_test, \"siab_test\")\n",
    "#calculate_percentages(siab_train, \"siab_train\")"
   ]
  },
  {
   "cell_type": "markdown",
   "id": "0a4a1b33",
   "metadata": {
    "papermill": {
     "duration": 0.020018,
     "end_time": "2025-07-30T21:43:29.042714",
     "exception": false,
     "start_time": "2025-07-30T21:43:29.022696",
     "status": "completed"
    },
    "tags": []
   },
   "source": [
    "# Preprocessing Data"
   ]
  },
  {
   "cell_type": "code",
   "execution_count": 29,
   "id": "ca879031",
   "metadata": {
    "execution": {
     "iopub.execute_input": "2025-07-30T21:43:29.083794Z",
     "iopub.status.busy": "2025-07-30T21:43:29.083292Z",
     "iopub.status.idle": "2025-07-30T21:43:29.089143Z",
     "shell.execute_reply": "2025-07-30T21:43:29.088406Z"
    },
    "papermill": {
     "duration": 0.028422,
     "end_time": "2025-07-30T21:43:29.090684",
     "exception": false,
     "start_time": "2025-07-30T21:43:29.062262",
     "status": "completed"
    },
    "tags": []
   },
   "outputs": [],
   "source": [
    "# EXCLUDE PROTECTED FEATURES\n",
    "# ----------------------\n",
    "# \"exclude_features\": \"none\", # \"nationality\", \"sex\", \"nationality-sex\"\n",
    "\n",
    "excluded_features = universe[\"exclude_features\"].split(\"-\") # split, e.g.: \"nationality-sex\" -> [\"nationality\", \"sex\"]\n",
    "excluded_features_dictionary = {\n",
    "    \"nationality\": [\"maxdeutsch1\", \"maxdeutsch.Missing.\"],\n",
    "    \"sex\": [\"frau1\"],\n",
    "    \"age\": [\"age\"],\n",
    "}\n"
   ]
  },
  {
   "cell_type": "code",
   "execution_count": 30,
   "id": "b745ac60",
   "metadata": {
    "execution": {
     "iopub.execute_input": "2025-07-30T21:43:29.131542Z",
     "iopub.status.busy": "2025-07-30T21:43:29.131257Z",
     "iopub.status.idle": "2025-07-30T21:43:29.135658Z",
     "shell.execute_reply": "2025-07-30T21:43:29.134940Z"
    },
    "papermill": {
     "duration": 0.026311,
     "end_time": "2025-07-30T21:43:29.136907",
     "exception": false,
     "start_time": "2025-07-30T21:43:29.110596",
     "status": "completed"
    },
    "tags": []
   },
   "outputs": [],
   "source": [
    "# Code nice names to column names\n",
    "\n",
    "excluded_features_columns = [\n",
    "    excluded_features_dictionary[f] for f in excluded_features if len(f) > 0 and f != \"none\"\n",
    "]"
   ]
  },
  {
   "cell_type": "code",
   "execution_count": 31,
   "id": "f84f73a2",
   "metadata": {
    "execution": {
     "iopub.execute_input": "2025-07-30T21:43:29.160212Z",
     "iopub.status.busy": "2025-07-30T21:43:29.159902Z",
     "iopub.status.idle": "2025-07-30T21:43:29.164725Z",
     "shell.execute_reply": "2025-07-30T21:43:29.163888Z"
    },
    "papermill": {
     "duration": 0.017456,
     "end_time": "2025-07-30T21:43:29.165970",
     "exception": false,
     "start_time": "2025-07-30T21:43:29.148514",
     "status": "completed"
    },
    "tags": []
   },
   "outputs": [],
   "source": [
    "from utils import flatten_once\n",
    "\n",
    "excluded_features_columns = flatten_once(excluded_features_columns)"
   ]
  },
  {
   "cell_type": "code",
   "execution_count": 32,
   "id": "884dea22",
   "metadata": {
    "execution": {
     "iopub.execute_input": "2025-07-30T21:43:29.189531Z",
     "iopub.status.busy": "2025-07-30T21:43:29.189261Z",
     "iopub.status.idle": "2025-07-30T21:43:29.195085Z",
     "shell.execute_reply": "2025-07-30T21:43:29.194290Z"
    },
    "papermill": {
     "duration": 0.018748,
     "end_time": "2025-07-30T21:43:29.196406",
     "exception": false,
     "start_time": "2025-07-30T21:43:29.177658",
     "status": "completed"
    },
    "tags": []
   },
   "outputs": [
    {
     "name": "stdout",
     "output_type": "stream",
     "text": [
      "Dropping features: ['age']\n"
     ]
    }
   ],
   "source": [
    "if len(excluded_features_columns) > 0:\n",
    "    print(f\"Dropping features: {excluded_features_columns}\")\n",
    "    X_train.drop(excluded_features_columns, axis=1, inplace=True)"
   ]
  },
  {
   "cell_type": "code",
   "execution_count": 33,
   "id": "95ab8b16",
   "metadata": {
    "execution": {
     "iopub.execute_input": "2025-07-30T21:43:29.219571Z",
     "iopub.status.busy": "2025-07-30T21:43:29.219239Z",
     "iopub.status.idle": "2025-07-30T21:43:29.278294Z",
     "shell.execute_reply": "2025-07-30T21:43:29.277384Z"
    },
    "papermill": {
     "duration": 0.072233,
     "end_time": "2025-07-30T21:43:29.279901",
     "exception": false,
     "start_time": "2025-07-30T21:43:29.207668",
     "status": "completed"
    },
    "tags": []
   },
   "outputs": [
    {
     "name": "stdout",
     "output_type": "stream",
     "text": [
      "Dropping features: ['age']\n"
     ]
    }
   ],
   "source": [
    "if len(excluded_features_columns) > 0:\n",
    "    print(f\"Dropping features: {excluded_features_columns}\")\n",
    "    X_test.drop(excluded_features_columns, axis=1, inplace=True)"
   ]
  },
  {
   "cell_type": "code",
   "execution_count": 34,
   "id": "1853aaf5-fb9f-46cb-a2b5-8ea4ae2237e4",
   "metadata": {
    "execution": {
     "iopub.execute_input": "2025-07-30T21:43:29.321676Z",
     "iopub.status.busy": "2025-07-30T21:43:29.321273Z",
     "iopub.status.idle": "2025-07-30T21:43:29.374784Z",
     "shell.execute_reply": "2025-07-30T21:43:29.373742Z"
    },
    "papermill": {
     "duration": 0.078798,
     "end_time": "2025-07-30T21:43:29.376835",
     "exception": false,
     "start_time": "2025-07-30T21:43:29.298037",
     "status": "completed"
    },
    "tags": []
   },
   "outputs": [
    {
     "name": "stdout",
     "output_type": "stream",
     "text": [
      "Dropping features: ['age']\n"
     ]
    }
   ],
   "source": [
    "if len(excluded_features_columns) > 0:\n",
    "    print(f\"Dropping features: {excluded_features_columns}\")\n",
    "    X_calib.drop(excluded_features_columns, axis=1, inplace=True)"
   ]
  },
  {
   "cell_type": "code",
   "execution_count": 35,
   "id": "6727d079-03e5-481e-9d38-292a90b7a0a8",
   "metadata": {
    "execution": {
     "iopub.execute_input": "2025-07-30T21:43:29.441203Z",
     "iopub.status.busy": "2025-07-30T21:43:29.440630Z",
     "iopub.status.idle": "2025-07-30T21:43:29.445757Z",
     "shell.execute_reply": "2025-07-30T21:43:29.444854Z"
    },
    "papermill": {
     "duration": 0.030288,
     "end_time": "2025-07-30T21:43:29.447426",
     "exception": false,
     "start_time": "2025-07-30T21:43:29.417138",
     "status": "completed"
    },
    "tags": []
   },
   "outputs": [],
   "source": [
    "# SPLIT & STRATIFY DATA\n",
    "# ----------------------"
   ]
  },
  {
   "cell_type": "code",
   "execution_count": 36,
   "id": "76c4dc6d",
   "metadata": {
    "execution": {
     "iopub.execute_input": "2025-07-30T21:43:29.491375Z",
     "iopub.status.busy": "2025-07-30T21:43:29.490929Z",
     "iopub.status.idle": "2025-07-30T21:43:29.496206Z",
     "shell.execute_reply": "2025-07-30T21:43:29.495282Z"
    },
    "papermill": {
     "duration": 0.028021,
     "end_time": "2025-07-30T21:43:29.497695",
     "exception": false,
     "start_time": "2025-07-30T21:43:29.469674",
     "status": "completed"
    },
    "tags": []
   },
   "outputs": [],
   "source": [
    "# EXCLUDE CERTAIN SUBGROUPS\n",
    "# ----------------------\n",
    "\n",
    "mode = universe.get(\"exclude_subgroups\", \"keep-all\") \n",
    "# Fetches the exclude_subgroups setting from the universe dict.\n",
    "# Defaults to \"keep-all\" if the key is missing."
   ]
  },
  {
   "cell_type": "code",
   "execution_count": 37,
   "id": "21994072",
   "metadata": {
    "execution": {
     "iopub.execute_input": "2025-07-30T21:43:29.543319Z",
     "iopub.status.busy": "2025-07-30T21:43:29.542730Z",
     "iopub.status.idle": "2025-07-30T21:43:29.550370Z",
     "shell.execute_reply": "2025-07-30T21:43:29.549520Z"
    },
    "papermill": {
     "duration": 0.032794,
     "end_time": "2025-07-30T21:43:29.551988",
     "exception": false,
     "start_time": "2025-07-30T21:43:29.519194",
     "status": "completed"
    },
    "tags": []
   },
   "outputs": [],
   "source": [
    "if mode == \"keep-all\":\n",
    "    keep_mask = pd.Series(True, index=org_train.index)\n",
    "\n",
    "# org_train contains the original feature columns from features_org (in Simson)\n",
    "# features_org contains unprocessed features, for me X_train at beginning ???\n",
    "# For keep-all, creates a boolean Series (keep_mask) of all True, so no rows are removed.\n",
    "\n",
    "elif mode == \"drop-non-german\":\n",
    "    keep_mask = org_train[\"maxdeutsch1\"] == 1 # ??? what about missing values?\n",
    "\n",
    "else:\n",
    "    raise ValueError(f\"Unsupported mode for exclude_subgroups: {mode}\")\n"
   ]
  },
  {
   "cell_type": "code",
   "execution_count": 38,
   "id": "71651440",
   "metadata": {
    "execution": {
     "iopub.execute_input": "2025-07-30T21:43:29.596557Z",
     "iopub.status.busy": "2025-07-30T21:43:29.596147Z",
     "iopub.status.idle": "2025-07-30T21:43:29.603132Z",
     "shell.execute_reply": "2025-07-30T21:43:29.602270Z"
    },
    "papermill": {
     "duration": 0.0301,
     "end_time": "2025-07-30T21:43:29.604734",
     "exception": false,
     "start_time": "2025-07-30T21:43:29.574634",
     "status": "completed"
    },
    "tags": []
   },
   "outputs": [
    {
     "name": "stdout",
     "output_type": "stream",
     "text": [
      "Dropping 147 rows (14.70%) where mode='drop-non-german'\n"
     ]
    }
   ],
   "source": [
    "n_drop = (~keep_mask).sum() # Calculates how many rows are set to be dropped\n",
    "if n_drop > 0:\n",
    "    pct = n_drop / len(keep_mask) * 100\n",
    "    print(f\"Dropping {n_drop} rows ({pct:.2f}%) where mode='{mode}'\")"
   ]
  },
  {
   "cell_type": "code",
   "execution_count": 39,
   "id": "5fb8eee5",
   "metadata": {
    "execution": {
     "iopub.execute_input": "2025-07-30T21:43:29.649773Z",
     "iopub.status.busy": "2025-07-30T21:43:29.649411Z",
     "iopub.status.idle": "2025-07-30T21:43:29.655482Z",
     "shell.execute_reply": "2025-07-30T21:43:29.654573Z"
    },
    "papermill": {
     "duration": 0.029826,
     "end_time": "2025-07-30T21:43:29.657098",
     "exception": false,
     "start_time": "2025-07-30T21:43:29.627272",
     "status": "completed"
    },
    "tags": []
   },
   "outputs": [],
   "source": [
    "X_train = X_train[keep_mask]"
   ]
  },
  {
   "cell_type": "code",
   "execution_count": 40,
   "id": "b202bb3a",
   "metadata": {
    "execution": {
     "iopub.execute_input": "2025-07-30T21:43:29.701170Z",
     "iopub.status.busy": "2025-07-30T21:43:29.700745Z",
     "iopub.status.idle": "2025-07-30T21:43:29.706397Z",
     "shell.execute_reply": "2025-07-30T21:43:29.705470Z"
    },
    "papermill": {
     "duration": 0.029663,
     "end_time": "2025-07-30T21:43:29.707985",
     "exception": false,
     "start_time": "2025-07-30T21:43:29.678322",
     "status": "completed"
    },
    "tags": []
   },
   "outputs": [],
   "source": [
    "y_train = y_train[keep_mask]"
   ]
  },
  {
   "cell_type": "markdown",
   "id": "493e2ac3",
   "metadata": {
    "papermill": {
     "duration": 0.02088,
     "end_time": "2025-07-30T21:43:29.750327",
     "exception": false,
     "start_time": "2025-07-30T21:43:29.729447",
     "status": "completed"
    },
    "tags": []
   },
   "source": [
    "# Model Training"
   ]
  },
  {
   "cell_type": "code",
   "execution_count": 41,
   "id": "679e1268",
   "metadata": {
    "execution": {
     "iopub.execute_input": "2025-07-30T21:43:29.793752Z",
     "iopub.status.busy": "2025-07-30T21:43:29.792982Z",
     "iopub.status.idle": "2025-07-30T21:43:29.892831Z",
     "shell.execute_reply": "2025-07-30T21:43:29.891908Z"
    },
    "papermill": {
     "duration": 0.123506,
     "end_time": "2025-07-30T21:43:29.894607",
     "exception": false,
     "start_time": "2025-07-30T21:43:29.771101",
     "status": "completed"
    },
    "tags": []
   },
   "outputs": [],
   "source": [
    "from sklearn.linear_model import LogisticRegression\n",
    "from sklearn.ensemble import GradientBoostingClassifier, RandomForestClassifier\n",
    "\n",
    "if (universe[\"model\"] == \"logreg\"):\n",
    "    model = LogisticRegression() #penalty=\"none\") #, solver=\"newton-cg\", max_iter=1) # include random_state=19 ?\n",
    "elif (universe[\"model\"] == \"penalized_logreg\"):\n",
    "    model = LogisticRegression(penalty=\"l2\", C=1.0) #, solver=\"newton-cg\", max_iter=1)\n",
    "elif (universe[\"model\"] == \"rf\"):\n",
    "    model = RandomForestClassifier(n_estimators=100, n_jobs=-1)\n",
    "elif (universe[\"model\"] == \"gbm\"):\n",
    "    model = GradientBoostingClassifier()\n",
    "elif (universe[\"model\"] == \"elasticnet\"):\n",
    "    model = LogisticRegression(penalty = 'elasticnet', solver = 'saga', l1_ratio = 0.5, max_iter=5000) # which solver to use?\n",
    "else:\n",
    "    raise \"Unsupported universe.model\""
   ]
  },
  {
   "cell_type": "code",
   "execution_count": 42,
   "id": "0cc8f744",
   "metadata": {
    "execution": {
     "iopub.execute_input": "2025-07-30T21:43:29.939262Z",
     "iopub.status.busy": "2025-07-30T21:43:29.938527Z",
     "iopub.status.idle": "2025-07-30T21:43:29.945231Z",
     "shell.execute_reply": "2025-07-30T21:43:29.944366Z"
    },
    "papermill": {
     "duration": 0.030307,
     "end_time": "2025-07-30T21:43:29.946741",
     "exception": false,
     "start_time": "2025-07-30T21:43:29.916434",
     "status": "completed"
    },
    "tags": []
   },
   "outputs": [],
   "source": [
    "import numpy as np\n",
    "from sklearn.pipeline import Pipeline\n",
    "from sklearn.preprocessing import StandardScaler\n",
    "\n",
    "model = Pipeline([\n",
    "    #(\"continuous_processor\", continuous_processor),\n",
    "    #(\"categorical_preprocessor\", categorical_preprocessor),\n",
    "    (\"scale\", StandardScaler() if universe[\"scale\"] == \"scale\" else None), \n",
    "    (\"model\", model),\n",
    "])"
   ]
  },
  {
   "cell_type": "code",
   "execution_count": 43,
   "id": "9442c04d",
   "metadata": {
    "execution": {
     "iopub.execute_input": "2025-07-30T21:43:29.990933Z",
     "iopub.status.busy": "2025-07-30T21:43:29.990169Z",
     "iopub.status.idle": "2025-07-30T21:43:44.835442Z",
     "shell.execute_reply": "2025-07-30T21:43:44.834393Z"
    },
    "papermill": {
     "duration": 14.868637,
     "end_time": "2025-07-30T21:43:44.837323",
     "exception": false,
     "start_time": "2025-07-30T21:43:29.968686",
     "status": "completed"
    },
    "tags": []
   },
   "outputs": [
    {
     "name": "stderr",
     "output_type": "stream",
     "text": [
      "/dss/dsshome1/0C/ra93lal2/.local/share/virtualenvs/CMA_Fairness_v2-3j10GkSs/lib/python3.10/site-packages/sklearn/linear_model/_sag.py:350: ConvergenceWarning: The max_iter was reached which means the coef_ did not converge\n",
      "  warnings.warn(\n"
     ]
    },
    {
     "data": {
      "text/html": [
       "<style>#sk-container-id-1 {color: black;background-color: white;}#sk-container-id-1 pre{padding: 0;}#sk-container-id-1 div.sk-toggleable {background-color: white;}#sk-container-id-1 label.sk-toggleable__label {cursor: pointer;display: block;width: 100%;margin-bottom: 0;padding: 0.3em;box-sizing: border-box;text-align: center;}#sk-container-id-1 label.sk-toggleable__label-arrow:before {content: \"▸\";float: left;margin-right: 0.25em;color: #696969;}#sk-container-id-1 label.sk-toggleable__label-arrow:hover:before {color: black;}#sk-container-id-1 div.sk-estimator:hover label.sk-toggleable__label-arrow:before {color: black;}#sk-container-id-1 div.sk-toggleable__content {max-height: 0;max-width: 0;overflow: hidden;text-align: left;background-color: #f0f8ff;}#sk-container-id-1 div.sk-toggleable__content pre {margin: 0.2em;color: black;border-radius: 0.25em;background-color: #f0f8ff;}#sk-container-id-1 input.sk-toggleable__control:checked~div.sk-toggleable__content {max-height: 200px;max-width: 100%;overflow: auto;}#sk-container-id-1 input.sk-toggleable__control:checked~label.sk-toggleable__label-arrow:before {content: \"▾\";}#sk-container-id-1 div.sk-estimator input.sk-toggleable__control:checked~label.sk-toggleable__label {background-color: #d4ebff;}#sk-container-id-1 div.sk-label input.sk-toggleable__control:checked~label.sk-toggleable__label {background-color: #d4ebff;}#sk-container-id-1 input.sk-hidden--visually {border: 0;clip: rect(1px 1px 1px 1px);clip: rect(1px, 1px, 1px, 1px);height: 1px;margin: -1px;overflow: hidden;padding: 0;position: absolute;width: 1px;}#sk-container-id-1 div.sk-estimator {font-family: monospace;background-color: #f0f8ff;border: 1px dotted black;border-radius: 0.25em;box-sizing: border-box;margin-bottom: 0.5em;}#sk-container-id-1 div.sk-estimator:hover {background-color: #d4ebff;}#sk-container-id-1 div.sk-parallel-item::after {content: \"\";width: 100%;border-bottom: 1px solid gray;flex-grow: 1;}#sk-container-id-1 div.sk-label:hover label.sk-toggleable__label {background-color: #d4ebff;}#sk-container-id-1 div.sk-serial::before {content: \"\";position: absolute;border-left: 1px solid gray;box-sizing: border-box;top: 0;bottom: 0;left: 50%;z-index: 0;}#sk-container-id-1 div.sk-serial {display: flex;flex-direction: column;align-items: center;background-color: white;padding-right: 0.2em;padding-left: 0.2em;position: relative;}#sk-container-id-1 div.sk-item {position: relative;z-index: 1;}#sk-container-id-1 div.sk-parallel {display: flex;align-items: stretch;justify-content: center;background-color: white;position: relative;}#sk-container-id-1 div.sk-item::before, #sk-container-id-1 div.sk-parallel-item::before {content: \"\";position: absolute;border-left: 1px solid gray;box-sizing: border-box;top: 0;bottom: 0;left: 50%;z-index: -1;}#sk-container-id-1 div.sk-parallel-item {display: flex;flex-direction: column;z-index: 1;position: relative;background-color: white;}#sk-container-id-1 div.sk-parallel-item:first-child::after {align-self: flex-end;width: 50%;}#sk-container-id-1 div.sk-parallel-item:last-child::after {align-self: flex-start;width: 50%;}#sk-container-id-1 div.sk-parallel-item:only-child::after {width: 0;}#sk-container-id-1 div.sk-dashed-wrapped {border: 1px dashed gray;margin: 0 0.4em 0.5em 0.4em;box-sizing: border-box;padding-bottom: 0.4em;background-color: white;}#sk-container-id-1 div.sk-label label {font-family: monospace;font-weight: bold;display: inline-block;line-height: 1.2em;}#sk-container-id-1 div.sk-label-container {text-align: center;}#sk-container-id-1 div.sk-container {/* jupyter's `normalize.less` sets `[hidden] { display: none; }` but bootstrap.min.css set `[hidden] { display: none !important; }` so we also need the `!important` here to be able to override the default hidden behavior on the sphinx rendered scikit-learn.org. See: https://github.com/scikit-learn/scikit-learn/issues/21755 */display: inline-block !important;position: relative;}#sk-container-id-1 div.sk-text-repr-fallback {display: none;}</style><div id=\"sk-container-id-1\" class=\"sk-top-container\"><div class=\"sk-text-repr-fallback\"><pre>Pipeline(steps=[(&#x27;scale&#x27;, None),\n",
       "                (&#x27;model&#x27;,\n",
       "                 LogisticRegression(l1_ratio=0.5, max_iter=5000,\n",
       "                                    penalty=&#x27;elasticnet&#x27;, solver=&#x27;saga&#x27;))])</pre><b>In a Jupyter environment, please rerun this cell to show the HTML representation or trust the notebook. <br />On GitHub, the HTML representation is unable to render, please try loading this page with nbviewer.org.</b></div><div class=\"sk-container\" hidden><div class=\"sk-item sk-dashed-wrapped\"><div class=\"sk-label-container\"><div class=\"sk-label sk-toggleable\"><input class=\"sk-toggleable__control sk-hidden--visually\" id=\"sk-estimator-id-1\" type=\"checkbox\" ><label for=\"sk-estimator-id-1\" class=\"sk-toggleable__label sk-toggleable__label-arrow\">Pipeline</label><div class=\"sk-toggleable__content\"><pre>Pipeline(steps=[(&#x27;scale&#x27;, None),\n",
       "                (&#x27;model&#x27;,\n",
       "                 LogisticRegression(l1_ratio=0.5, max_iter=5000,\n",
       "                                    penalty=&#x27;elasticnet&#x27;, solver=&#x27;saga&#x27;))])</pre></div></div></div><div class=\"sk-serial\"><div class=\"sk-item\"><div class=\"sk-estimator sk-toggleable\"><input class=\"sk-toggleable__control sk-hidden--visually\" id=\"sk-estimator-id-2\" type=\"checkbox\" ><label for=\"sk-estimator-id-2\" class=\"sk-toggleable__label sk-toggleable__label-arrow\">None</label><div class=\"sk-toggleable__content\"><pre>None</pre></div></div></div><div class=\"sk-item\"><div class=\"sk-estimator sk-toggleable\"><input class=\"sk-toggleable__control sk-hidden--visually\" id=\"sk-estimator-id-3\" type=\"checkbox\" ><label for=\"sk-estimator-id-3\" class=\"sk-toggleable__label sk-toggleable__label-arrow\">LogisticRegression</label><div class=\"sk-toggleable__content\"><pre>LogisticRegression(l1_ratio=0.5, max_iter=5000, penalty=&#x27;elasticnet&#x27;,\n",
       "                   solver=&#x27;saga&#x27;)</pre></div></div></div></div></div></div></div>"
      ],
      "text/plain": [
       "Pipeline(steps=[('scale', None),\n",
       "                ('model',\n",
       "                 LogisticRegression(l1_ratio=0.5, max_iter=5000,\n",
       "                                    penalty='elasticnet', solver='saga'))])"
      ]
     },
     "execution_count": 43,
     "metadata": {},
     "output_type": "execute_result"
    }
   ],
   "source": [
    "model.fit(X_train, y_train.values.ravel())"
   ]
  },
  {
   "cell_type": "code",
   "execution_count": 44,
   "id": "af59f8c0",
   "metadata": {
    "execution": {
     "iopub.execute_input": "2025-07-30T21:43:44.895820Z",
     "iopub.status.busy": "2025-07-30T21:43:44.895082Z",
     "iopub.status.idle": "2025-07-30T21:43:44.902960Z",
     "shell.execute_reply": "2025-07-30T21:43:44.901639Z"
    },
    "papermill": {
     "duration": 0.038486,
     "end_time": "2025-07-30T21:43:44.905204",
     "exception": false,
     "start_time": "2025-07-30T21:43:44.866718",
     "status": "completed"
    },
    "tags": []
   },
   "outputs": [],
   "source": [
    "from fairness_multiverse.universe import predict_w_threshold"
   ]
  },
  {
   "cell_type": "code",
   "execution_count": 45,
   "id": "a7cf2e16",
   "metadata": {
    "execution": {
     "iopub.execute_input": "2025-07-30T21:43:44.961014Z",
     "iopub.status.busy": "2025-07-30T21:43:44.960592Z",
     "iopub.status.idle": "2025-07-30T21:43:45.065150Z",
     "shell.execute_reply": "2025-07-30T21:43:45.064085Z"
    },
    "papermill": {
     "duration": 0.134066,
     "end_time": "2025-07-30T21:43:45.067161",
     "exception": false,
     "start_time": "2025-07-30T21:43:44.933095",
     "status": "completed"
    },
    "tags": []
   },
   "outputs": [
    {
     "data": {
      "text/plain": [
       "0.8620778062646305"
      ]
     },
     "execution_count": 45,
     "metadata": {},
     "output_type": "execute_result"
    }
   ],
   "source": [
    "probs_test = model.predict_proba(X_test)\n",
    "\n",
    "'''\n",
    "Below code returns a boolean array (or binary 0/1 array depending on how it’s used) where each element \n",
    "is True if the probability of class 1 is greater than or equal to the threshold, and False otherwise.\n",
    "'''\n",
    "y_pred_default = predict_w_threshold(probs_test, 0.5)\n",
    "\n",
    "from sklearn.metrics import accuracy_score\n",
    "\n",
    "# Naive prediction\n",
    "accuracy_score(y_true = y_true, y_pred = y_pred_default)"
   ]
  },
  {
   "cell_type": "code",
   "execution_count": 46,
   "id": "081964c3",
   "metadata": {
    "execution": {
     "iopub.execute_input": "2025-07-30T21:43:45.137224Z",
     "iopub.status.busy": "2025-07-30T21:43:45.136498Z",
     "iopub.status.idle": "2025-07-30T21:43:45.240734Z",
     "shell.execute_reply": "2025-07-30T21:43:45.239768Z"
    },
    "papermill": {
     "duration": 0.143179,
     "end_time": "2025-07-30T21:43:45.242334",
     "exception": false,
     "start_time": "2025-07-30T21:43:45.099155",
     "status": "completed"
    },
    "tags": []
   },
   "outputs": [
    {
     "data": {
      "text/plain": [
       "array([0, 0, 0, ..., 0, 0, 0])"
      ]
     },
     "execution_count": 46,
     "metadata": {},
     "output_type": "execute_result"
    }
   ],
   "source": [
    "model.predict(X_test)"
   ]
  },
  {
   "cell_type": "markdown",
   "id": "56c9705b",
   "metadata": {
    "papermill": {
     "duration": 0.024635,
     "end_time": "2025-07-30T21:43:45.291111",
     "exception": false,
     "start_time": "2025-07-30T21:43:45.266476",
     "status": "completed"
    },
    "tags": []
   },
   "source": [
    "# Conformal Prediction"
   ]
  },
  {
   "cell_type": "code",
   "execution_count": 47,
   "id": "160ec6ff",
   "metadata": {
    "execution": {
     "iopub.execute_input": "2025-07-30T21:43:45.343328Z",
     "iopub.status.busy": "2025-07-30T21:43:45.342620Z",
     "iopub.status.idle": "2025-07-30T21:43:45.351500Z",
     "shell.execute_reply": "2025-07-30T21:43:45.350162Z"
    },
    "papermill": {
     "duration": 0.037526,
     "end_time": "2025-07-30T21:43:45.353566",
     "exception": false,
     "start_time": "2025-07-30T21:43:45.316040",
     "status": "completed"
    },
    "tags": []
   },
   "outputs": [],
   "source": [
    "# Miscoverage level for conformal prediction (10% allowed error rate => 90% target coverage)\n",
    "alpha = 0.1"
   ]
  },
  {
   "cell_type": "code",
   "execution_count": 48,
   "id": "eadf4555-3dd3-440e-8e35-f82a4ad9f855",
   "metadata": {
    "execution": {
     "iopub.execute_input": "2025-07-30T21:43:45.424708Z",
     "iopub.status.busy": "2025-07-30T21:43:45.423878Z",
     "iopub.status.idle": "2025-07-30T21:43:45.512931Z",
     "shell.execute_reply": "2025-07-30T21:43:45.511736Z"
    },
    "papermill": {
     "duration": 0.126514,
     "end_time": "2025-07-30T21:43:45.515405",
     "exception": false,
     "start_time": "2025-07-30T21:43:45.388891",
     "status": "completed"
    },
    "tags": []
   },
   "outputs": [],
   "source": [
    "probs_calib = model.predict_proba(X_calib)"
   ]
  },
  {
   "cell_type": "code",
   "execution_count": 49,
   "id": "2ed93547-6d5d-4983-9b36-1ecb300da49a",
   "metadata": {
    "execution": {
     "iopub.execute_input": "2025-07-30T21:43:45.547031Z",
     "iopub.status.busy": "2025-07-30T21:43:45.546688Z",
     "iopub.status.idle": "2025-07-30T21:43:45.552129Z",
     "shell.execute_reply": "2025-07-30T21:43:45.551075Z"
    },
    "papermill": {
     "duration": 0.019942,
     "end_time": "2025-07-30T21:43:45.553868",
     "exception": false,
     "start_time": "2025-07-30T21:43:45.533926",
     "status": "completed"
    },
    "tags": []
   },
   "outputs": [],
   "source": [
    "y_calib = y_calib.values.ravel().astype(int)"
   ]
  },
  {
   "cell_type": "code",
   "execution_count": 50,
   "id": "65d1320d-f588-4b38-9072-62af1ae97f7d",
   "metadata": {
    "execution": {
     "iopub.execute_input": "2025-07-30T21:43:45.607929Z",
     "iopub.status.busy": "2025-07-30T21:43:45.606953Z",
     "iopub.status.idle": "2025-07-30T21:43:45.615511Z",
     "shell.execute_reply": "2025-07-30T21:43:45.614261Z"
    },
    "papermill": {
     "duration": 0.036648,
     "end_time": "2025-07-30T21:43:45.617431",
     "exception": false,
     "start_time": "2025-07-30T21:43:45.580783",
     "status": "completed"
    },
    "tags": []
   },
   "outputs": [],
   "source": [
    "from fairness_multiverse.conformal import compute_nc_scores\n",
    "\n",
    "# Compute nonconformity scores on calibration set (1 - probability of true class)\n",
    "nc_scores = compute_nc_scores(probs_calib, y_calib)"
   ]
  },
  {
   "cell_type": "code",
   "execution_count": 51,
   "id": "df3b8ca3-53b7-43d5-9667-7c85da7aeda2",
   "metadata": {
    "execution": {
     "iopub.execute_input": "2025-07-30T21:43:45.671015Z",
     "iopub.status.busy": "2025-07-30T21:43:45.670314Z",
     "iopub.status.idle": "2025-07-30T21:43:45.677811Z",
     "shell.execute_reply": "2025-07-30T21:43:45.676728Z"
    },
    "papermill": {
     "duration": 0.036599,
     "end_time": "2025-07-30T21:43:45.680132",
     "exception": false,
     "start_time": "2025-07-30T21:43:45.643533",
     "status": "completed"
    },
    "tags": []
   },
   "outputs": [],
   "source": [
    "from fairness_multiverse.conformal import find_threshold\n",
    "\n",
    "# Find conformal threshold q_hat for the given alpha (split conformal method)\n",
    "q_hat = find_threshold(nc_scores, alpha)"
   ]
  },
  {
   "cell_type": "code",
   "execution_count": 52,
   "id": "4d29e6c1-0ef6-4aa4-b8fe-4fe79b0d033a",
   "metadata": {
    "execution": {
     "iopub.execute_input": "2025-07-30T21:43:45.734686Z",
     "iopub.status.busy": "2025-07-30T21:43:45.734190Z",
     "iopub.status.idle": "2025-07-30T21:43:45.741930Z",
     "shell.execute_reply": "2025-07-30T21:43:45.740782Z"
    },
    "papermill": {
     "duration": 0.036247,
     "end_time": "2025-07-30T21:43:45.743419",
     "exception": false,
     "start_time": "2025-07-30T21:43:45.707172",
     "status": "completed"
    },
    "tags": []
   },
   "outputs": [
    {
     "data": {
      "text/plain": [
       "0.6793942870598315"
      ]
     },
     "execution_count": 52,
     "metadata": {},
     "output_type": "execute_result"
    }
   ],
   "source": [
    "q_hat"
   ]
  },
  {
   "cell_type": "code",
   "execution_count": 53,
   "id": "92460794-cdac-4be2-ba28-f28c0515a6fb",
   "metadata": {
    "execution": {
     "iopub.execute_input": "2025-07-30T21:43:45.799077Z",
     "iopub.status.busy": "2025-07-30T21:43:45.798561Z",
     "iopub.status.idle": "2025-07-30T21:43:46.751228Z",
     "shell.execute_reply": "2025-07-30T21:43:46.750160Z"
    },
    "papermill": {
     "duration": 0.983309,
     "end_time": "2025-07-30T21:43:46.753175",
     "exception": false,
     "start_time": "2025-07-30T21:43:45.769866",
     "status": "completed"
    },
    "tags": []
   },
   "outputs": [],
   "source": [
    "from fairness_multiverse.conformal import predict_conformal_sets\n",
    "\n",
    "# Generate prediction sets for each test example\n",
    "pred_sets = predict_conformal_sets(model, X_test, q_hat)"
   ]
  },
  {
   "cell_type": "code",
   "execution_count": 54,
   "id": "d90c9a65-e6db-4f5d-80cd-e68fb7e46829",
   "metadata": {
    "execution": {
     "iopub.execute_input": "2025-07-30T21:43:46.808110Z",
     "iopub.status.busy": "2025-07-30T21:43:46.807373Z",
     "iopub.status.idle": "2025-07-30T21:43:46.813470Z",
     "shell.execute_reply": "2025-07-30T21:43:46.812353Z"
    },
    "papermill": {
     "duration": 0.033905,
     "end_time": "2025-07-30T21:43:46.815272",
     "exception": false,
     "start_time": "2025-07-30T21:43:46.781367",
     "status": "completed"
    },
    "tags": []
   },
   "outputs": [],
   "source": [
    "y_true = y_true.squeeze()"
   ]
  },
  {
   "cell_type": "code",
   "execution_count": 55,
   "id": "3a58a54a-1e68-46b9-927a-df01f18aebc8",
   "metadata": {
    "execution": {
     "iopub.execute_input": "2025-07-30T21:43:46.868838Z",
     "iopub.status.busy": "2025-07-30T21:43:46.868093Z",
     "iopub.status.idle": "2025-07-30T21:43:47.816556Z",
     "shell.execute_reply": "2025-07-30T21:43:47.815695Z"
    },
    "papermill": {
     "duration": 0.976219,
     "end_time": "2025-07-30T21:43:47.818350",
     "exception": false,
     "start_time": "2025-07-30T21:43:46.842131",
     "status": "completed"
    },
    "tags": []
   },
   "outputs": [],
   "source": [
    "from fairness_multiverse.conformal import evaluate_sets\n",
    "\n",
    "# Evaluate coverage and average set size on test data\n",
    "metrics = evaluate_sets(pred_sets, y_true)"
   ]
  },
  {
   "cell_type": "markdown",
   "id": "2b569c12-9aaa-4c88-98c9-bbcd0cf3ebb8",
   "metadata": {
    "papermill": {
     "duration": 0.023548,
     "end_time": "2025-07-30T21:43:47.874638",
     "exception": false,
     "start_time": "2025-07-30T21:43:47.851090",
     "status": "completed"
    },
    "tags": []
   },
   "source": [
    "# CP Metrics"
   ]
  },
  {
   "cell_type": "code",
   "execution_count": 56,
   "id": "5ce0a5cb-201f-45a0-ade5-94c7f0bd6095",
   "metadata": {
    "execution": {
     "iopub.execute_input": "2025-07-30T21:43:47.923572Z",
     "iopub.status.busy": "2025-07-30T21:43:47.923074Z",
     "iopub.status.idle": "2025-07-30T21:43:47.930102Z",
     "shell.execute_reply": "2025-07-30T21:43:47.929147Z"
    },
    "papermill": {
     "duration": 0.033277,
     "end_time": "2025-07-30T21:43:47.931727",
     "exception": false,
     "start_time": "2025-07-30T21:43:47.898450",
     "status": "completed"
    },
    "tags": []
   },
   "outputs": [
    {
     "data": {
      "text/plain": [
       "{'coverage': 0.9129528480659904, 'avg_size': 1.2704269312228291}"
      ]
     },
     "execution_count": 56,
     "metadata": {},
     "output_type": "execute_result"
    }
   ],
   "source": [
    "metrics"
   ]
  },
  {
   "cell_type": "code",
   "execution_count": 57,
   "id": "9b9a838d-31c9-430b-ae14-12baee460d17",
   "metadata": {
    "execution": {
     "iopub.execute_input": "2025-07-30T21:43:47.997159Z",
     "iopub.status.busy": "2025-07-30T21:43:47.996800Z",
     "iopub.status.idle": "2025-07-30T21:43:48.002616Z",
     "shell.execute_reply": "2025-07-30T21:43:48.001931Z"
    },
    "papermill": {
     "duration": 0.043541,
     "end_time": "2025-07-30T21:43:48.004022",
     "exception": false,
     "start_time": "2025-07-30T21:43:47.960481",
     "status": "completed"
    },
    "tags": []
   },
   "outputs": [],
   "source": [
    "example_universe = universe.copy()\n",
    "universe_training_year = example_universe.get(\"training_year\")\n",
    "universe_training_size = example_universe.get(\"training_size\")\n",
    "universe_scale = example_universe.get(\"scale\")\n",
    "universe_model = example_universe.get(\"model\")\n",
    "universe_exclude_features = example_universe.get(\"exclude_features\")\n",
    "universe_exclude_subgroups = example_universe.get(\"exclude_subgroups\")"
   ]
  },
  {
   "cell_type": "code",
   "execution_count": 58,
   "id": "f4b6a8ac-9dc0-4245-8a91-5b3b5999c4f9",
   "metadata": {
    "execution": {
     "iopub.execute_input": "2025-07-30T21:43:48.035192Z",
     "iopub.status.busy": "2025-07-30T21:43:48.034688Z",
     "iopub.status.idle": "2025-07-30T21:43:48.039618Z",
     "shell.execute_reply": "2025-07-30T21:43:48.038924Z"
    },
    "papermill": {
     "duration": 0.019867,
     "end_time": "2025-07-30T21:43:48.040935",
     "exception": false,
     "start_time": "2025-07-30T21:43:48.021068",
     "status": "completed"
    },
    "tags": []
   },
   "outputs": [],
   "source": [
    "cp_metrics_dict = {\n",
    "    \"universe_id\": [universe_id],\n",
    "    \"universe_training_year\": [universe_training_year],\n",
    "    \"universe_training_size\": [universe_training_size],\n",
    "    \"universe_scale\": [universe_scale],\n",
    "    \"universe_model\": [universe_model],\n",
    "    \"universe_exclude_features\": [universe_exclude_features],\n",
    "    \"universe_exclude_subgroups\": [universe_exclude_subgroups],\n",
    "    \"q_hat\": [q_hat],\n",
    "    \"coverage\": [metrics[\"coverage\"]],\n",
    "    \"avg_size\": [metrics[\"avg_size\"]],\n",
    "}"
   ]
  },
  {
   "cell_type": "code",
   "execution_count": 59,
   "id": "908acbb1-0371-4915-85ca-3fa520d2efe2",
   "metadata": {
    "execution": {
     "iopub.execute_input": "2025-07-30T21:43:48.102803Z",
     "iopub.status.busy": "2025-07-30T21:43:48.102362Z",
     "iopub.status.idle": "2025-07-30T21:43:48.110095Z",
     "shell.execute_reply": "2025-07-30T21:43:48.109098Z"
    },
    "papermill": {
     "duration": 0.034449,
     "end_time": "2025-07-30T21:43:48.111717",
     "exception": false,
     "start_time": "2025-07-30T21:43:48.077268",
     "status": "completed"
    },
    "tags": []
   },
   "outputs": [
    {
     "data": {
      "text/plain": [
       "{'universe_id': ['8da144e34cc28ca555226f7563cadc53'],\n",
       " 'universe_training_year': ['2012_14'],\n",
       " 'universe_training_size': ['1k'],\n",
       " 'universe_scale': ['do-not-scale'],\n",
       " 'universe_model': ['elasticnet'],\n",
       " 'universe_exclude_features': ['age'],\n",
       " 'universe_exclude_subgroups': ['drop-non-german'],\n",
       " 'q_hat': [0.6793942870598315],\n",
       " 'coverage': [0.9129528480659904],\n",
       " 'avg_size': [1.2704269312228291]}"
      ]
     },
     "execution_count": 59,
     "metadata": {},
     "output_type": "execute_result"
    }
   ],
   "source": [
    "cp_metrics_dict"
   ]
  },
  {
   "cell_type": "code",
   "execution_count": 60,
   "id": "33007efc-14e9-4ec6-97ac-56a455c82265",
   "metadata": {
    "execution": {
     "iopub.execute_input": "2025-07-30T21:43:48.168959Z",
     "iopub.status.busy": "2025-07-30T21:43:48.168498Z",
     "iopub.status.idle": "2025-07-30T21:43:48.174907Z",
     "shell.execute_reply": "2025-07-30T21:43:48.173982Z"
    },
    "papermill": {
     "duration": 0.036842,
     "end_time": "2025-07-30T21:43:48.176821",
     "exception": false,
     "start_time": "2025-07-30T21:43:48.139979",
     "status": "completed"
    },
    "tags": []
   },
   "outputs": [],
   "source": [
    "cp_metrics_df = pd.DataFrame(cp_metrics_dict)"
   ]
  },
  {
   "cell_type": "code",
   "execution_count": 61,
   "id": "db12611b-57b2-4910-b9d0-355adfd6e7bf",
   "metadata": {
    "execution": {
     "iopub.execute_input": "2025-07-30T21:43:48.234435Z",
     "iopub.status.busy": "2025-07-30T21:43:48.233728Z",
     "iopub.status.idle": "2025-07-30T21:43:48.255314Z",
     "shell.execute_reply": "2025-07-30T21:43:48.253644Z"
    },
    "papermill": {
     "duration": 0.052105,
     "end_time": "2025-07-30T21:43:48.257300",
     "exception": false,
     "start_time": "2025-07-30T21:43:48.205195",
     "status": "completed"
    },
    "tags": []
   },
   "outputs": [
    {
     "data": {
      "text/html": [
       "<div>\n",
       "<style scoped>\n",
       "    .dataframe tbody tr th:only-of-type {\n",
       "        vertical-align: middle;\n",
       "    }\n",
       "\n",
       "    .dataframe tbody tr th {\n",
       "        vertical-align: top;\n",
       "    }\n",
       "\n",
       "    .dataframe thead th {\n",
       "        text-align: right;\n",
       "    }\n",
       "</style>\n",
       "<table border=\"1\" class=\"dataframe\">\n",
       "  <thead>\n",
       "    <tr style=\"text-align: right;\">\n",
       "      <th></th>\n",
       "      <th>universe_id</th>\n",
       "      <th>universe_training_year</th>\n",
       "      <th>universe_training_size</th>\n",
       "      <th>universe_scale</th>\n",
       "      <th>universe_model</th>\n",
       "      <th>universe_exclude_features</th>\n",
       "      <th>universe_exclude_subgroups</th>\n",
       "      <th>q_hat</th>\n",
       "      <th>coverage</th>\n",
       "      <th>avg_size</th>\n",
       "    </tr>\n",
       "  </thead>\n",
       "  <tbody>\n",
       "    <tr>\n",
       "      <th>0</th>\n",
       "      <td>8da144e34cc28ca555226f7563cadc53</td>\n",
       "      <td>2012_14</td>\n",
       "      <td>1k</td>\n",
       "      <td>do-not-scale</td>\n",
       "      <td>elasticnet</td>\n",
       "      <td>age</td>\n",
       "      <td>drop-non-german</td>\n",
       "      <td>0.679394</td>\n",
       "      <td>0.912953</td>\n",
       "      <td>1.270427</td>\n",
       "    </tr>\n",
       "  </tbody>\n",
       "</table>\n",
       "</div>"
      ],
      "text/plain": [
       "                        universe_id universe_training_year  \\\n",
       "0  8da144e34cc28ca555226f7563cadc53                2012_14   \n",
       "\n",
       "  universe_training_size universe_scale universe_model  \\\n",
       "0                     1k   do-not-scale     elasticnet   \n",
       "\n",
       "  universe_exclude_features universe_exclude_subgroups     q_hat  coverage  \\\n",
       "0                       age            drop-non-german  0.679394  0.912953   \n",
       "\n",
       "   avg_size  \n",
       "0  1.270427  "
      ]
     },
     "execution_count": 61,
     "metadata": {},
     "output_type": "execute_result"
    }
   ],
   "source": [
    "cp_metrics_df"
   ]
  },
  {
   "cell_type": "code",
   "execution_count": 62,
   "id": "b7fbde55-a0a1-47e4-9af6-fe4a17fa8c61",
   "metadata": {
    "execution": {
     "iopub.execute_input": "2025-07-30T21:43:48.313290Z",
     "iopub.status.busy": "2025-07-30T21:43:48.312858Z",
     "iopub.status.idle": "2025-07-30T21:43:48.317906Z",
     "shell.execute_reply": "2025-07-30T21:43:48.317133Z"
    },
    "papermill": {
     "duration": 0.033951,
     "end_time": "2025-07-30T21:43:48.319181",
     "exception": false,
     "start_time": "2025-07-30T21:43:48.285230",
     "status": "completed"
    },
    "tags": []
   },
   "outputs": [],
   "source": [
    "# Conditional Coverage & looking at subgroups"
   ]
  },
  {
   "cell_type": "code",
   "execution_count": 63,
   "id": "027ae886-68dd-4141-96c7-805a5450e1ef",
   "metadata": {
    "execution": {
     "iopub.execute_input": "2025-07-30T21:43:48.365047Z",
     "iopub.status.busy": "2025-07-30T21:43:48.364344Z",
     "iopub.status.idle": "2025-07-30T21:43:48.630088Z",
     "shell.execute_reply": "2025-07-30T21:43:48.629162Z"
    },
    "papermill": {
     "duration": 0.298345,
     "end_time": "2025-07-30T21:43:48.632290",
     "exception": false,
     "start_time": "2025-07-30T21:43:48.333945",
     "status": "completed"
    },
    "tags": []
   },
   "outputs": [],
   "source": [
    "from fairness_multiverse.conformal import build_cp_groups\n",
    "\n",
    "cp_groups_df = build_cp_groups(pred_sets, y_true, X_test.index, org_test)\n",
    "#needs universe_id and setting"
   ]
  },
  {
   "cell_type": "code",
   "execution_count": 64,
   "id": "01d5802c-663a-4d1f-9d69-e036faaffbf7",
   "metadata": {
    "execution": {
     "iopub.execute_input": "2025-07-30T21:43:48.716332Z",
     "iopub.status.busy": "2025-07-30T21:43:48.715716Z",
     "iopub.status.idle": "2025-07-30T21:43:48.722258Z",
     "shell.execute_reply": "2025-07-30T21:43:48.721069Z"
    },
    "papermill": {
     "duration": 0.048323,
     "end_time": "2025-07-30T21:43:48.724182",
     "exception": false,
     "start_time": "2025-07-30T21:43:48.675859",
     "status": "completed"
    },
    "tags": []
   },
   "outputs": [],
   "source": [
    "#delete\n",
    "#cp_groups_df"
   ]
  },
  {
   "cell_type": "code",
   "execution_count": 65,
   "id": "fa424af1-d1eb-443d-b717-2d279ada8408",
   "metadata": {
    "execution": {
     "iopub.execute_input": "2025-07-30T21:43:48.785437Z",
     "iopub.status.busy": "2025-07-30T21:43:48.784953Z",
     "iopub.status.idle": "2025-07-30T21:43:48.789642Z",
     "shell.execute_reply": "2025-07-30T21:43:48.788721Z"
    },
    "papermill": {
     "duration": 0.036951,
     "end_time": "2025-07-30T21:43:48.791371",
     "exception": false,
     "start_time": "2025-07-30T21:43:48.754420",
     "status": "completed"
    },
    "tags": []
   },
   "outputs": [],
   "source": [
    "#delete\n",
    "#percentage = (cp_groups_df['nongerman_female'] == 1).mean() * 100\n",
    "#print(percentage)\n"
   ]
  },
  {
   "cell_type": "code",
   "execution_count": 66,
   "id": "6cbdab96-b2b2-45af-ad54-d0516db2e28d",
   "metadata": {
    "execution": {
     "iopub.execute_input": "2025-07-30T21:43:48.852645Z",
     "iopub.status.busy": "2025-07-30T21:43:48.852145Z",
     "iopub.status.idle": "2025-07-30T21:43:50.404350Z",
     "shell.execute_reply": "2025-07-30T21:43:50.403094Z"
    },
    "papermill": {
     "duration": 1.585384,
     "end_time": "2025-07-30T21:43:50.406706",
     "exception": false,
     "start_time": "2025-07-30T21:43:48.821322",
     "status": "completed"
    },
    "tags": []
   },
   "outputs": [],
   "source": [
    "# Define covered = 1 if true_label is in the predicted set\n",
    "cp_groups_df['covered'] = cp_groups_df.apply(\n",
    "    lambda r: int(r['true_label'] in r['pred_set']),\n",
    "    axis=1\n",
    ")"
   ]
  },
  {
   "cell_type": "code",
   "execution_count": 67,
   "id": "338ff529-1a6b-4b87-a931-8e4788d52aad",
   "metadata": {
    "execution": {
     "iopub.execute_input": "2025-07-30T21:43:50.467325Z",
     "iopub.status.busy": "2025-07-30T21:43:50.466725Z",
     "iopub.status.idle": "2025-07-30T21:43:50.473168Z",
     "shell.execute_reply": "2025-07-30T21:43:50.471887Z"
    },
    "papermill": {
     "duration": 0.038987,
     "end_time": "2025-07-30T21:43:50.474969",
     "exception": false,
     "start_time": "2025-07-30T21:43:50.435982",
     "status": "completed"
    },
    "tags": []
   },
   "outputs": [],
   "source": [
    "#cp_groups_df"
   ]
  },
  {
   "cell_type": "code",
   "execution_count": 68,
   "id": "90032e27-66df-4540-9169-4e89cfbaa758",
   "metadata": {
    "execution": {
     "iopub.execute_input": "2025-07-30T21:43:50.540511Z",
     "iopub.status.busy": "2025-07-30T21:43:50.539864Z",
     "iopub.status.idle": "2025-07-30T21:43:50.555149Z",
     "shell.execute_reply": "2025-07-30T21:43:50.553854Z"
    },
    "papermill": {
     "duration": 0.052438,
     "end_time": "2025-07-30T21:43:50.557467",
     "exception": false,
     "start_time": "2025-07-30T21:43:50.505029",
     "status": "completed"
    },
    "tags": []
   },
   "outputs": [],
   "source": [
    "subgroups = ['frau1','nongerman','nongerman_male','nongerman_female']\n",
    "\n",
    "# Conditional coverage for subgroup==1\n",
    "cond_coverage = {\n",
    "    g: cp_groups_df.loc[cp_groups_df[g]==1, 'covered'].mean()\n",
    "    for g in subgroups\n",
    "}"
   ]
  },
  {
   "cell_type": "code",
   "execution_count": 69,
   "id": "1e348fb1-b9c3-45bc-ba23-f016827a7e0d",
   "metadata": {
    "execution": {
     "iopub.execute_input": "2025-07-30T21:43:50.629217Z",
     "iopub.status.busy": "2025-07-30T21:43:50.628699Z",
     "iopub.status.idle": "2025-07-30T21:43:50.636649Z",
     "shell.execute_reply": "2025-07-30T21:43:50.635553Z"
    },
    "papermill": {
     "duration": 0.045373,
     "end_time": "2025-07-30T21:43:50.638643",
     "exception": false,
     "start_time": "2025-07-30T21:43:50.593270",
     "status": "completed"
    },
    "tags": []
   },
   "outputs": [
    {
     "data": {
      "text/plain": [
       "{'frau1': 0.9126027766545356,\n",
       " 'nongerman': 0.9640711839667658,\n",
       " 'nongerman_male': 0.9703683689093038,\n",
       " 'nongerman_female': 0.9536512667660209}"
      ]
     },
     "execution_count": 69,
     "metadata": {},
     "output_type": "execute_result"
    }
   ],
   "source": [
    "cond_coverage"
   ]
  },
  {
   "cell_type": "code",
   "execution_count": 70,
   "id": "f5093324-c3dd-4d63-bc4c-8d945e5c8bbb",
   "metadata": {
    "execution": {
     "iopub.execute_input": "2025-07-30T21:43:50.708866Z",
     "iopub.status.busy": "2025-07-30T21:43:50.708311Z",
     "iopub.status.idle": "2025-07-30T21:43:50.716941Z",
     "shell.execute_reply": "2025-07-30T21:43:50.715814Z"
    },
    "papermill": {
     "duration": 0.045416,
     "end_time": "2025-07-30T21:43:50.718829",
     "exception": false,
     "start_time": "2025-07-30T21:43:50.673413",
     "status": "completed"
    },
    "tags": []
   },
   "outputs": [],
   "source": [
    "for subgroup, cov in cond_coverage.items():\n",
    "    cp_metrics_df[f\"cov_{subgroup}\"] = cov"
   ]
  },
  {
   "cell_type": "code",
   "execution_count": 71,
   "id": "6e872e10-dbe5-49e8-b554-5030c98ff75d",
   "metadata": {
    "execution": {
     "iopub.execute_input": "2025-07-30T21:43:50.790349Z",
     "iopub.status.busy": "2025-07-30T21:43:50.789866Z",
     "iopub.status.idle": "2025-07-30T21:43:50.810752Z",
     "shell.execute_reply": "2025-07-30T21:43:50.809904Z"
    },
    "papermill": {
     "duration": 0.059226,
     "end_time": "2025-07-30T21:43:50.812867",
     "exception": false,
     "start_time": "2025-07-30T21:43:50.753641",
     "status": "completed"
    },
    "tags": []
   },
   "outputs": [
    {
     "data": {
      "text/html": [
       "<div>\n",
       "<style scoped>\n",
       "    .dataframe tbody tr th:only-of-type {\n",
       "        vertical-align: middle;\n",
       "    }\n",
       "\n",
       "    .dataframe tbody tr th {\n",
       "        vertical-align: top;\n",
       "    }\n",
       "\n",
       "    .dataframe thead th {\n",
       "        text-align: right;\n",
       "    }\n",
       "</style>\n",
       "<table border=\"1\" class=\"dataframe\">\n",
       "  <thead>\n",
       "    <tr style=\"text-align: right;\">\n",
       "      <th></th>\n",
       "      <th>universe_id</th>\n",
       "      <th>universe_training_year</th>\n",
       "      <th>universe_training_size</th>\n",
       "      <th>universe_scale</th>\n",
       "      <th>universe_model</th>\n",
       "      <th>universe_exclude_features</th>\n",
       "      <th>universe_exclude_subgroups</th>\n",
       "      <th>q_hat</th>\n",
       "      <th>coverage</th>\n",
       "      <th>avg_size</th>\n",
       "      <th>cov_frau1</th>\n",
       "      <th>cov_nongerman</th>\n",
       "      <th>cov_nongerman_male</th>\n",
       "      <th>cov_nongerman_female</th>\n",
       "    </tr>\n",
       "  </thead>\n",
       "  <tbody>\n",
       "    <tr>\n",
       "      <th>0</th>\n",
       "      <td>8da144e34cc28ca555226f7563cadc53</td>\n",
       "      <td>2012_14</td>\n",
       "      <td>1k</td>\n",
       "      <td>do-not-scale</td>\n",
       "      <td>elasticnet</td>\n",
       "      <td>age</td>\n",
       "      <td>drop-non-german</td>\n",
       "      <td>0.679394</td>\n",
       "      <td>0.912953</td>\n",
       "      <td>1.270427</td>\n",
       "      <td>0.912603</td>\n",
       "      <td>0.964071</td>\n",
       "      <td>0.970368</td>\n",
       "      <td>0.953651</td>\n",
       "    </tr>\n",
       "  </tbody>\n",
       "</table>\n",
       "</div>"
      ],
      "text/plain": [
       "                        universe_id universe_training_year  \\\n",
       "0  8da144e34cc28ca555226f7563cadc53                2012_14   \n",
       "\n",
       "  universe_training_size universe_scale universe_model  \\\n",
       "0                     1k   do-not-scale     elasticnet   \n",
       "\n",
       "  universe_exclude_features universe_exclude_subgroups     q_hat  coverage  \\\n",
       "0                       age            drop-non-german  0.679394  0.912953   \n",
       "\n",
       "   avg_size  cov_frau1  cov_nongerman  cov_nongerman_male  \\\n",
       "0  1.270427   0.912603       0.964071            0.970368   \n",
       "\n",
       "   cov_nongerman_female  \n",
       "0              0.953651  "
      ]
     },
     "execution_count": 71,
     "metadata": {},
     "output_type": "execute_result"
    }
   ],
   "source": [
    "cp_metrics_df"
   ]
  },
  {
   "cell_type": "markdown",
   "id": "33774451",
   "metadata": {
    "papermill": {
     "duration": 0.014293,
     "end_time": "2025-07-30T21:43:50.850241",
     "exception": false,
     "start_time": "2025-07-30T21:43:50.835948",
     "status": "completed"
    },
    "tags": []
   },
   "source": [
    "# (Fairness) Metrics"
   ]
  },
  {
   "cell_type": "code",
   "execution_count": 72,
   "id": "debc5d62",
   "metadata": {
    "execution": {
     "iopub.execute_input": "2025-07-30T21:43:50.892113Z",
     "iopub.status.busy": "2025-07-30T21:43:50.891524Z",
     "iopub.status.idle": "2025-07-30T21:43:50.926165Z",
     "shell.execute_reply": "2025-07-30T21:43:50.924948Z"
    },
    "papermill": {
     "duration": 0.063208,
     "end_time": "2025-07-30T21:43:50.928604",
     "exception": false,
     "start_time": "2025-07-30T21:43:50.865396",
     "status": "completed"
    },
    "tags": []
   },
   "outputs": [],
   "source": [
    "# do I need to include maxdeutsch1.missing?\n",
    "\n",
    "import numpy as np\n",
    "\n",
    "colname_to_bin = \"maxdeutsch1\"\n",
    "majority_value = org_train[colname_to_bin].mode()[0]\n",
    "\n",
    "org_test[\"majmin\"] = np.where(org_test[colname_to_bin] == majority_value, \"majority\", \"minority\")"
   ]
  },
  {
   "cell_type": "code",
   "execution_count": 73,
   "id": "06a50de5",
   "metadata": {
    "execution": {
     "iopub.execute_input": "2025-07-30T21:43:51.004325Z",
     "iopub.status.busy": "2025-07-30T21:43:51.003582Z",
     "iopub.status.idle": "2025-07-30T21:43:53.844132Z",
     "shell.execute_reply": "2025-07-30T21:43:53.843144Z"
    },
    "papermill": {
     "duration": 2.878635,
     "end_time": "2025-07-30T21:43:53.846305",
     "exception": false,
     "start_time": "2025-07-30T21:43:50.967670",
     "status": "completed"
    },
    "tags": []
   },
   "outputs": [],
   "source": [
    "example_universe = universe.copy()\n",
    "example_universe[\"cutoff\"] = example_universe[\"cutoff\"][0]\n",
    "example_universe[\"eval_fairness_grouping\"] = example_universe[\"eval_fairness_grouping\"][0]\n",
    "fairness_dict, metric_frame = universe_analysis.compute_metrics(\n",
    "    example_universe,\n",
    "    y_pred_prob=probs_test,\n",
    "    y_test=y_true,\n",
    "    org_test=org_test,\n",
    ")"
   ]
  },
  {
   "cell_type": "markdown",
   "id": "f95d4e02",
   "metadata": {
    "papermill": {
     "duration": 0.029098,
     "end_time": "2025-07-30T21:43:53.904442",
     "exception": false,
     "start_time": "2025-07-30T21:43:53.875344",
     "status": "completed"
    },
    "tags": []
   },
   "source": [
    "# Overall"
   ]
  },
  {
   "cell_type": "markdown",
   "id": "bdee4871",
   "metadata": {
    "papermill": {
     "duration": 0.025439,
     "end_time": "2025-07-30T21:43:53.954590",
     "exception": false,
     "start_time": "2025-07-30T21:43:53.929151",
     "status": "completed"
    },
    "tags": []
   },
   "source": [
    "Fairness\n",
    "Main fairness target: Equalized Odds. Seems to be a better fit than equal opportunity, since we're not only interested in Y = 1. Seems to be a better fit than demographic parity, since we also care about accuracy, not just equal distribution of preds.\n",
    "\n",
    "Pick column for computation of fairness metrics\n",
    "\n",
    "Performance\n",
    "Overall performance measures, most interesting in relation to the measures split by group below"
   ]
  },
  {
   "cell_type": "code",
   "execution_count": 74,
   "id": "c4e067c6",
   "metadata": {
    "execution": {
     "iopub.execute_input": "2025-07-30T21:43:54.011871Z",
     "iopub.status.busy": "2025-07-30T21:43:54.011369Z",
     "iopub.status.idle": "2025-07-30T21:43:54.020275Z",
     "shell.execute_reply": "2025-07-30T21:43:54.019307Z"
    },
    "papermill": {
     "duration": 0.040003,
     "end_time": "2025-07-30T21:43:54.021831",
     "exception": false,
     "start_time": "2025-07-30T21:43:53.981828",
     "status": "completed"
    },
    "tags": []
   },
   "outputs": [
    {
     "data": {
      "text/plain": [
       "accuracy                   0.212005\n",
       "balanced accuracy          0.520973\n",
       "f1                         0.233677\n",
       "precision                  0.133492\n",
       "false positive rate        0.894619\n",
       "false negative rate        0.063434\n",
       "selection rate             0.900000\n",
       "count                  89710.000000\n",
       "dtype: float64"
      ]
     },
     "execution_count": 74,
     "metadata": {},
     "output_type": "execute_result"
    }
   ],
   "source": [
    "metric_frame.overall"
   ]
  },
  {
   "cell_type": "markdown",
   "id": "e968fe9d",
   "metadata": {
    "papermill": {
     "duration": 0.025592,
     "end_time": "2025-07-30T21:43:54.072450",
     "exception": false,
     "start_time": "2025-07-30T21:43:54.046858",
     "status": "completed"
    },
    "tags": []
   },
   "source": [
    "By Group"
   ]
  },
  {
   "cell_type": "code",
   "execution_count": 75,
   "id": "ec325bce",
   "metadata": {
    "execution": {
     "iopub.execute_input": "2025-07-30T21:43:54.126150Z",
     "iopub.status.busy": "2025-07-30T21:43:54.125645Z",
     "iopub.status.idle": "2025-07-30T21:43:54.142455Z",
     "shell.execute_reply": "2025-07-30T21:43:54.141590Z"
    },
    "papermill": {
     "duration": 0.04542,
     "end_time": "2025-07-30T21:43:54.144112",
     "exception": false,
     "start_time": "2025-07-30T21:43:54.098692",
     "status": "completed"
    },
    "tags": []
   },
   "outputs": [
    {
     "data": {
      "text/html": [
       "<div>\n",
       "<style scoped>\n",
       "    .dataframe tbody tr th:only-of-type {\n",
       "        vertical-align: middle;\n",
       "    }\n",
       "\n",
       "    .dataframe tbody tr th {\n",
       "        vertical-align: top;\n",
       "    }\n",
       "\n",
       "    .dataframe thead th {\n",
       "        text-align: right;\n",
       "    }\n",
       "</style>\n",
       "<table border=\"1\" class=\"dataframe\">\n",
       "  <thead>\n",
       "    <tr style=\"text-align: right;\">\n",
       "      <th></th>\n",
       "      <th>accuracy</th>\n",
       "      <th>balanced accuracy</th>\n",
       "      <th>f1</th>\n",
       "      <th>precision</th>\n",
       "      <th>false positive rate</th>\n",
       "      <th>false negative rate</th>\n",
       "      <th>selection rate</th>\n",
       "      <th>count</th>\n",
       "    </tr>\n",
       "    <tr>\n",
       "      <th>majmin</th>\n",
       "      <th></th>\n",
       "      <th></th>\n",
       "      <th></th>\n",
       "      <th></th>\n",
       "      <th></th>\n",
       "      <th></th>\n",
       "      <th></th>\n",
       "      <th></th>\n",
       "    </tr>\n",
       "  </thead>\n",
       "  <tbody>\n",
       "    <tr>\n",
       "      <th>majority</th>\n",
       "      <td>0.232312</td>\n",
       "      <td>0.526131</td>\n",
       "      <td>0.241620</td>\n",
       "      <td>0.138948</td>\n",
       "      <td>0.873230</td>\n",
       "      <td>0.074508</td>\n",
       "      <td>0.880136</td>\n",
       "      <td>69170.0</td>\n",
       "    </tr>\n",
       "    <tr>\n",
       "      <th>minority</th>\n",
       "      <td>0.143622</td>\n",
       "      <td>0.507016</td>\n",
       "      <td>0.208656</td>\n",
       "      <td>0.116767</td>\n",
       "      <td>0.965276</td>\n",
       "      <td>0.020693</td>\n",
       "      <td>0.966894</td>\n",
       "      <td>20540.0</td>\n",
       "    </tr>\n",
       "  </tbody>\n",
       "</table>\n",
       "</div>"
      ],
      "text/plain": [
       "          accuracy  balanced accuracy        f1  precision  \\\n",
       "majmin                                                       \n",
       "majority  0.232312           0.526131  0.241620   0.138948   \n",
       "minority  0.143622           0.507016  0.208656   0.116767   \n",
       "\n",
       "          false positive rate  false negative rate  selection rate    count  \n",
       "majmin                                                                       \n",
       "majority             0.873230             0.074508        0.880136  69170.0  \n",
       "minority             0.965276             0.020693        0.966894  20540.0  "
      ]
     },
     "execution_count": 75,
     "metadata": {},
     "output_type": "execute_result"
    }
   ],
   "source": [
    "metric_frame.by_group"
   ]
  },
  {
   "cell_type": "code",
   "execution_count": 76,
   "id": "a9ddbe63",
   "metadata": {
    "execution": {
     "iopub.execute_input": "2025-07-30T21:43:54.196200Z",
     "iopub.status.busy": "2025-07-30T21:43:54.195332Z",
     "iopub.status.idle": "2025-07-30T21:43:56.636757Z",
     "shell.execute_reply": "2025-07-30T21:43:56.635849Z"
    },
    "papermill": {
     "duration": 2.468985,
     "end_time": "2025-07-30T21:43:56.638473",
     "exception": false,
     "start_time": "2025-07-30T21:43:54.169488",
     "status": "completed"
    },
    "tags": []
   },
   "outputs": [
    {
     "data": {
      "text/plain": [
       "array([[<Axes: title={'center': 'accuracy'}, xlabel='majmin'>,\n",
       "        <Axes: title={'center': 'balanced accuracy'}, xlabel='majmin'>,\n",
       "        <Axes: title={'center': 'f1'}, xlabel='majmin'>],\n",
       "       [<Axes: title={'center': 'precision'}, xlabel='majmin'>,\n",
       "        <Axes: title={'center': 'false positive rate'}, xlabel='majmin'>,\n",
       "        <Axes: title={'center': 'false negative rate'}, xlabel='majmin'>],\n",
       "       [<Axes: title={'center': 'selection rate'}, xlabel='majmin'>,\n",
       "        <Axes: title={'center': 'count'}, xlabel='majmin'>,\n",
       "        <Axes: xlabel='majmin'>]], dtype=object)"
      ]
     },
     "execution_count": 76,
     "metadata": {},
     "output_type": "execute_result"
    },
    {
     "data": {
      "image/png": "[encoded data removed]",
      "text/plain": [
       "<Figure size 1200x800 with 9 Axes>"
      ]
     },
     "metadata": {},
     "output_type": "display_data"
    }
   ],
   "source": [
    "# In a graphic\n",
    "metric_frame.by_group.plot.bar(\n",
    "    subplots=True,\n",
    "    layout=[3, 3],\n",
    "    legend=False,\n",
    "    figsize=[12, 8],\n",
    "    title=\"Show all metrics\",\n",
    ")"
   ]
  },
  {
   "cell_type": "markdown",
   "id": "f57a0bac",
   "metadata": {
    "papermill": {
     "duration": 0.028422,
     "end_time": "2025-07-30T21:43:56.693740",
     "exception": false,
     "start_time": "2025-07-30T21:43:56.665318",
     "status": "completed"
    },
    "tags": []
   },
   "source": [
    "# Final Output"
   ]
  },
  {
   "cell_type": "code",
   "execution_count": 77,
   "id": "96d280a3",
   "metadata": {
    "execution": {
     "iopub.execute_input": "2025-07-30T21:43:56.749934Z",
     "iopub.status.busy": "2025-07-30T21:43:56.749266Z",
     "iopub.status.idle": "2025-07-30T21:43:56.757681Z",
     "shell.execute_reply": "2025-07-30T21:43:56.756705Z"
    },
    "papermill": {
     "duration": 0.039343,
     "end_time": "2025-07-30T21:43:56.759244",
     "exception": false,
     "start_time": "2025-07-30T21:43:56.719901",
     "status": "completed"
    },
    "tags": []
   },
   "outputs": [
    {
     "data": {
      "text/plain": [
       "4"
      ]
     },
     "execution_count": 77,
     "metadata": {},
     "output_type": "execute_result"
    }
   ],
   "source": [
    "sub_universes = universe_analysis.generate_sub_universes()\n",
    "len(sub_universes)"
   ]
  },
  {
   "cell_type": "code",
   "execution_count": 78,
   "id": "92adf7ba",
   "metadata": {
    "execution": {
     "iopub.execute_input": "2025-07-30T21:43:56.807676Z",
     "iopub.status.busy": "2025-07-30T21:43:56.807029Z",
     "iopub.status.idle": "2025-07-30T21:43:56.812563Z",
     "shell.execute_reply": "2025-07-30T21:43:56.811763Z"
    },
    "papermill": {
     "duration": 0.026681,
     "end_time": "2025-07-30T21:43:56.813947",
     "exception": false,
     "start_time": "2025-07-30T21:43:56.787266",
     "status": "completed"
    },
    "tags": []
   },
   "outputs": [],
   "source": [
    "def filter_sub_universe_data(sub_universe, org_test):\n",
    "    # Keep all rows — no filtering\n",
    "    keep_rows_mask = np.ones(org_test.shape[0], dtype=bool)\n",
    "\n",
    "    print(f\"[INFO] Keeping all rows: {keep_rows_mask.sum()} rows retained.\")\n",
    "    return keep_rows_mask"
   ]
  },
  {
   "cell_type": "code",
   "execution_count": 79,
   "id": "4a759155",
   "metadata": {
    "execution": {
     "iopub.execute_input": "2025-07-30T21:43:56.852164Z",
     "iopub.status.busy": "2025-07-30T21:43:56.851662Z",
     "iopub.status.idle": "2025-07-30T21:44:06.701640Z",
     "shell.execute_reply": "2025-07-30T21:44:06.700936Z"
    },
    "papermill": {
     "duration": 9.872338,
     "end_time": "2025-07-30T21:44:06.702919",
     "exception": false,
     "start_time": "2025-07-30T21:43:56.830581",
     "status": "completed"
    },
    "tags": []
   },
   "outputs": [
    {
     "name": "stdout",
     "output_type": "stream",
     "text": [
      "Stopping execution_time clock.\n",
      "[INFO] Keeping all rows: 89710 rows retained.\n"
     ]
    },
    {
     "name": "stdout",
     "output_type": "stream",
     "text": [
      "[INFO] Keeping all rows: 89710 rows retained.\n"
     ]
    },
    {
     "name": "stdout",
     "output_type": "stream",
     "text": [
      "[INFO] Keeping all rows: 89710 rows retained.\n"
     ]
    },
    {
     "name": "stdout",
     "output_type": "stream",
     "text": [
      "[INFO] Keeping all rows: 89710 rows retained.\n"
     ]
    },
    {
     "data": {
      "text/html": [
       "<div>\n",
       "<style scoped>\n",
       "    .dataframe tbody tr th:only-of-type {\n",
       "        vertical-align: middle;\n",
       "    }\n",
       "\n",
       "    .dataframe tbody tr th {\n",
       "        vertical-align: top;\n",
       "    }\n",
       "\n",
       "    .dataframe thead th {\n",
       "        text-align: right;\n",
       "    }\n",
       "</style>\n",
       "<table border=\"1\" class=\"dataframe\">\n",
       "  <thead>\n",
       "    <tr style=\"text-align: right;\">\n",
       "      <th></th>\n",
       "      <th>run_no</th>\n",
       "      <th>universe_id</th>\n",
       "      <th>universe_settings</th>\n",
       "      <th>execution_time</th>\n",
       "      <th>test_size_n</th>\n",
       "      <th>test_size_frac</th>\n",
       "      <th>fair_main_equalized_odds_difference</th>\n",
       "      <th>fair_main_equalized_odds_ratio</th>\n",
       "      <th>fair_main_demographic_parity_difference</th>\n",
       "      <th>fair_main_demographic_parity_ratio</th>\n",
       "      <th>...</th>\n",
       "      <th>perf_grp_precision_0</th>\n",
       "      <th>perf_grp_precision_1</th>\n",
       "      <th>perf_grp_false positive rate_0</th>\n",
       "      <th>perf_grp_false positive rate_1</th>\n",
       "      <th>perf_grp_false negative rate_0</th>\n",
       "      <th>perf_grp_false negative rate_1</th>\n",
       "      <th>perf_grp_selection rate_0</th>\n",
       "      <th>perf_grp_selection rate_1</th>\n",
       "      <th>perf_grp_count_0</th>\n",
       "      <th>perf_grp_count_1</th>\n",
       "    </tr>\n",
       "  </thead>\n",
       "  <tbody>\n",
       "    <tr>\n",
       "      <th>0</th>\n",
       "      <td>14</td>\n",
       "      <td>8da144e34cc28ca555226f7563cadc53</td>\n",
       "      <td>{\"cutoff\": \"quantile_0.1\", \"eval_fairness_grou...</td>\n",
       "      <td>41.667851</td>\n",
       "      <td>89710</td>\n",
       "      <td>1.0</td>\n",
       "      <td>0.092046</td>\n",
       "      <td>0.904643</td>\n",
       "      <td>0.086758</td>\n",
       "      <td>0.910271</td>\n",
       "      <td>...</td>\n",
       "      <td>NaN</td>\n",
       "      <td>NaN</td>\n",
       "      <td>NaN</td>\n",
       "      <td>NaN</td>\n",
       "      <td>NaN</td>\n",
       "      <td>NaN</td>\n",
       "      <td>NaN</td>\n",
       "      <td>NaN</td>\n",
       "      <td>NaN</td>\n",
       "      <td>NaN</td>\n",
       "    </tr>\n",
       "    <tr>\n",
       "      <th>0</th>\n",
       "      <td>14</td>\n",
       "      <td>8da144e34cc28ca555226f7563cadc53</td>\n",
       "      <td>{\"cutoff\": \"quantile_0.1\", \"eval_fairness_grou...</td>\n",
       "      <td>41.667851</td>\n",
       "      <td>89710</td>\n",
       "      <td>1.0</td>\n",
       "      <td>0.092046</td>\n",
       "      <td>0.904643</td>\n",
       "      <td>0.086758</td>\n",
       "      <td>0.910271</td>\n",
       "      <td>...</td>\n",
       "      <td>0.116767</td>\n",
       "      <td>0.138948</td>\n",
       "      <td>0.965276</td>\n",
       "      <td>0.873230</td>\n",
       "      <td>0.020693</td>\n",
       "      <td>0.074508</td>\n",
       "      <td>0.966894</td>\n",
       "      <td>0.880136</td>\n",
       "      <td>20540.0</td>\n",
       "      <td>69170.0</td>\n",
       "    </tr>\n",
       "    <tr>\n",
       "      <th>0</th>\n",
       "      <td>14</td>\n",
       "      <td>8da144e34cc28ca555226f7563cadc53</td>\n",
       "      <td>{\"cutoff\": \"quantile_0.25\", \"eval_fairness_gro...</td>\n",
       "      <td>41.667851</td>\n",
       "      <td>89710</td>\n",
       "      <td>1.0</td>\n",
       "      <td>0.224734</td>\n",
       "      <td>0.752943</td>\n",
       "      <td>0.211346</td>\n",
       "      <td>0.768503</td>\n",
       "      <td>...</td>\n",
       "      <td>NaN</td>\n",
       "      <td>NaN</td>\n",
       "      <td>NaN</td>\n",
       "      <td>NaN</td>\n",
       "      <td>NaN</td>\n",
       "      <td>NaN</td>\n",
       "      <td>NaN</td>\n",
       "      <td>NaN</td>\n",
       "      <td>NaN</td>\n",
       "      <td>NaN</td>\n",
       "    </tr>\n",
       "    <tr>\n",
       "      <th>0</th>\n",
       "      <td>14</td>\n",
       "      <td>8da144e34cc28ca555226f7563cadc53</td>\n",
       "      <td>{\"cutoff\": \"quantile_0.25\", \"eval_fairness_gro...</td>\n",
       "      <td>41.667851</td>\n",
       "      <td>89710</td>\n",
       "      <td>1.0</td>\n",
       "      <td>0.224734</td>\n",
       "      <td>0.752943</td>\n",
       "      <td>0.211346</td>\n",
       "      <td>0.768503</td>\n",
       "      <td>...</td>\n",
       "      <td>0.118494</td>\n",
       "      <td>0.152792</td>\n",
       "      <td>0.909641</td>\n",
       "      <td>0.684908</td>\n",
       "      <td>0.061655</td>\n",
       "      <td>0.188731</td>\n",
       "      <td>0.912950</td>\n",
       "      <td>0.701605</td>\n",
       "      <td>20540.0</td>\n",
       "      <td>69170.0</td>\n",
       "    </tr>\n",
       "  </tbody>\n",
       "</table>\n",
       "<p>4 rows × 50 columns</p>\n",
       "</div>"
      ],
      "text/plain": [
       "  run_no                       universe_id  \\\n",
       "0     14  8da144e34cc28ca555226f7563cadc53   \n",
       "0     14  8da144e34cc28ca555226f7563cadc53   \n",
       "0     14  8da144e34cc28ca555226f7563cadc53   \n",
       "0     14  8da144e34cc28ca555226f7563cadc53   \n",
       "\n",
       "                                   universe_settings  execution_time  \\\n",
       "0  {\"cutoff\": \"quantile_0.1\", \"eval_fairness_grou...       41.667851   \n",
       "0  {\"cutoff\": \"quantile_0.1\", \"eval_fairness_grou...       41.667851   \n",
       "0  {\"cutoff\": \"quantile_0.25\", \"eval_fairness_gro...       41.667851   \n",
       "0  {\"cutoff\": \"quantile_0.25\", \"eval_fairness_gro...       41.667851   \n",
       "\n",
       "   test_size_n  test_size_frac  fair_main_equalized_odds_difference  \\\n",
       "0        89710             1.0                             0.092046   \n",
       "0        89710             1.0                             0.092046   \n",
       "0        89710             1.0                             0.224734   \n",
       "0        89710             1.0                             0.224734   \n",
       "\n",
       "   fair_main_equalized_odds_ratio  fair_main_demographic_parity_difference  \\\n",
       "0                        0.904643                                 0.086758   \n",
       "0                        0.904643                                 0.086758   \n",
       "0                        0.752943                                 0.211346   \n",
       "0                        0.752943                                 0.211346   \n",
       "\n",
       "   fair_main_demographic_parity_ratio  ...  perf_grp_precision_0  \\\n",
       "0                            0.910271  ...                   NaN   \n",
       "0                            0.910271  ...              0.116767   \n",
       "0                            0.768503  ...                   NaN   \n",
       "0                            0.768503  ...              0.118494   \n",
       "\n",
       "   perf_grp_precision_1  perf_grp_false positive rate_0  \\\n",
       "0                   NaN                             NaN   \n",
       "0              0.138948                        0.965276   \n",
       "0                   NaN                             NaN   \n",
       "0              0.152792                        0.909641   \n",
       "\n",
       "   perf_grp_false positive rate_1  perf_grp_false negative rate_0  \\\n",
       "0                             NaN                             NaN   \n",
       "0                        0.873230                        0.020693   \n",
       "0                             NaN                             NaN   \n",
       "0                        0.684908                        0.061655   \n",
       "\n",
       "   perf_grp_false negative rate_1  perf_grp_selection rate_0  \\\n",
       "0                             NaN                        NaN   \n",
       "0                        0.074508                   0.966894   \n",
       "0                             NaN                        NaN   \n",
       "0                        0.188731                   0.912950   \n",
       "\n",
       "   perf_grp_selection rate_1  perf_grp_count_0  perf_grp_count_1  \n",
       "0                        NaN               NaN               NaN  \n",
       "0                   0.880136           20540.0           69170.0  \n",
       "0                        NaN               NaN               NaN  \n",
       "0                   0.701605           20540.0           69170.0  \n",
       "\n",
       "[4 rows x 50 columns]"
      ]
     },
     "execution_count": 79,
     "metadata": {},
     "output_type": "execute_result"
    }
   ],
   "source": [
    "final_output = universe_analysis.generate_final_output(\n",
    "    y_pred_prob=probs_test,\n",
    "    y_test=y_true,\n",
    "    org_test=org_test,\n",
    "    filter_data=filter_sub_universe_data,\n",
    "    cp_metrics_df=cp_metrics_df,\n",
    "    save=True,\n",
    ")\n",
    "final_output"
   ]
  },
  {
   "cell_type": "code",
   "execution_count": null,
   "id": "721ff514-cb11-46f8-b6fc-50392f74b5cb",
   "metadata": {
    "papermill": {
     "duration": 0.016836,
     "end_time": "2025-07-30T21:44:06.738984",
     "exception": false,
     "start_time": "2025-07-30T21:44:06.722148",
     "status": "completed"
    },
    "tags": []
   },
   "outputs": [],
   "source": []
  }
 ],
 "metadata": {
  "celltoolbar": "Tags",
  "kernelspec": {
   "display_name": "Python (CMA Fairness)",
   "language": "python",
   "name": "cma_fair_env"
  },
  "language_info": {
   "codemirror_mode": {
    "name": "ipython",
    "version": 3
   },
   "file_extension": ".py",
   "mimetype": "text/x-python",
   "name": "python",
   "nbconvert_exporter": "python",
   "pygments_lexer": "ipython3",
   "version": "3.10.12"
  },
  "papermill": {
   "default_parameters": {},
   "duration": 55.723416,
   "end_time": "2025-07-30T21:44:07.472133",
   "environment_variables": {},
   "exception": null,
   "input_path": "universe_analysis.ipynb",
   "output_path": "output/runs/14/notebooks/m_14-8da144e34cc28ca555226f7563cadc53.ipynb",
   "parameters": {
    "output_dir": "output",
    "run_no": "14",
    "seed": "2023",
    "universe": "{\"cutoff\": [\"quantile_0.1\", \"quantile_0.25\"], \"eval_fairness_grouping\": [\"majority-minority\", \"nationality-all\"], \"exclude_features\": \"age\", \"exclude_subgroups\": \"drop-non-german\", \"model\": \"elasticnet\", \"scale\": \"do-not-scale\", \"training_size\": \"1k\", \"training_year\": \"2012_14\"}",
    "universe_id": "8da144e34cc28ca555226f7563cadc53"
   },
   "start_time": "2025-07-30T21:43:11.748717",
   "version": "2.6.0"
  }
 },
 "nbformat": 4,
 "nbformat_minor": 5
}