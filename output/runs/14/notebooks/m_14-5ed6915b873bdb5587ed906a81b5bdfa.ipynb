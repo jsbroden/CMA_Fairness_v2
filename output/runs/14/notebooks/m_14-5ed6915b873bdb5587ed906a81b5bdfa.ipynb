{
 "cells": [
  {
   "cell_type": "code",
   "execution_count": 1,
   "id": "f159f837-637b-42ba-96b5-ec9a68c44524",
   "metadata": {
    "execution": {
     "iopub.execute_input": "2025-07-30T21:37:19.599285Z",
     "iopub.status.busy": "2025-07-30T21:37:19.598440Z",
     "iopub.status.idle": "2025-07-30T21:37:19.612810Z",
     "shell.execute_reply": "2025-07-30T21:37:19.611705Z"
    },
    "papermill": {
     "duration": 0.041626,
     "end_time": "2025-07-30T21:37:19.614408",
     "exception": false,
     "start_time": "2025-07-30T21:37:19.572782",
     "status": "completed"
    },
    "tags": []
   },
   "outputs": [
    {
     "name": "stdout",
     "output_type": "stream",
     "text": [
      "/dss/dsshome1/0C/ra93lal2/cma/CMA_Fairness_v2\n"
     ]
    },
    {
     "name": "stderr",
     "output_type": "stream",
     "text": [
      "/dss/dsshome1/0C/ra93lal2/.local/share/virtualenvs/CMA_Fairness_v2-3j10GkSs/lib/python3.10/site-packages/IPython/core/magics/osm.py:393: UserWarning: This is now an optional IPython functionality, using bookmarks requires you to install the `pickleshare` library.\n",
      "  bkms = self.shell.db.get('bookmarks', {})\n",
      "/dss/dsshome1/0C/ra93lal2/.local/share/virtualenvs/CMA_Fairness_v2-3j10GkSs/lib/python3.10/site-packages/IPython/core/magics/osm.py:417: UserWarning: This is now an optional IPython functionality, setting dhist requires you to install the `pickleshare` library.\n",
      "  self.shell.db['dhist'] = compress_dhist(dhist)[-100:]\n"
     ]
    }
   ],
   "source": [
    "%cd ~/cma/CMA_Fairness_v2"
   ]
  },
  {
   "cell_type": "markdown",
   "id": "de2603b9",
   "metadata": {
    "papermill": {
     "duration": 0.019501,
     "end_time": "2025-07-30T21:37:19.655188",
     "exception": false,
     "start_time": "2025-07-30T21:37:19.635687",
     "status": "completed"
    },
    "tags": []
   },
   "source": [
    "The following cell holds the definition of our parameters, these values can be overriden by rendering the with e.g. the following command:\n",
    "\n",
    "papermill -p alpha 0.2 -p ratio 0.3 universe_analysis.ipynb output/test_run.ipynb"
   ]
  },
  {
   "cell_type": "code",
   "execution_count": 2,
   "id": "a80968a0-40bb-4fa9-85ef-2d5eefb01975",
   "metadata": {
    "execution": {
     "iopub.execute_input": "2025-07-30T21:37:19.698865Z",
     "iopub.status.busy": "2025-07-30T21:37:19.698266Z",
     "iopub.status.idle": "2025-07-30T21:37:19.705536Z",
     "shell.execute_reply": "2025-07-30T21:37:19.704435Z"
    },
    "papermill": {
     "duration": 0.031623,
     "end_time": "2025-07-30T21:37:19.707286",
     "exception": false,
     "start_time": "2025-07-30T21:37:19.675663",
     "status": "completed"
    },
    "tags": []
   },
   "outputs": [
    {
     "name": "stdout",
     "output_type": "stream",
     "text": [
      "Current working directory: /dss/dsshome1/0C/ra93lal2/cma/CMA_Fairness_v2\n"
     ]
    }
   ],
   "source": [
    "import os\n",
    "print(\"Current working directory:\", os.getcwd())"
   ]
  },
  {
   "cell_type": "code",
   "execution_count": 3,
   "id": "2dce4c03",
   "metadata": {
    "execution": {
     "iopub.execute_input": "2025-07-30T21:37:19.748440Z",
     "iopub.status.busy": "2025-07-30T21:37:19.747344Z",
     "iopub.status.idle": "2025-07-30T21:37:19.754461Z",
     "shell.execute_reply": "2025-07-30T21:37:19.753316Z"
    },
    "papermill": {
     "duration": 0.029591,
     "end_time": "2025-07-30T21:37:19.756528",
     "exception": false,
     "start_time": "2025-07-30T21:37:19.726937",
     "status": "completed"
    },
    "tags": [
     "parameters"
    ]
   },
   "outputs": [],
   "source": [
    "run_no = 0\n",
    "universe_id = \"test\"\n",
    "universe = {\n",
    "    \"training_size\": \"25k\", # \"25k\", \"5k\", \"1k\"\n",
    "    \"training_year\": \"2014\", # \"2014\", \"2012_14\", \"2010_14\"\n",
    "    \"scale\": \"scale\", # \"scale\", \"do-not-scale\",\n",
    "    #\"stratify_split\": \"target\", # \"none\", \"target\", \"protected-attribute\", \"both\",\n",
    "    \"model\": \"elasticnet\", # \"logreg\", \"penalized_logreg\", \"rf\", \"gbm\", \"elasticnet\"\n",
    "    \"cutoff\": [\"quantile_0.15\", \"quantile_0.30\"],\n",
    "    \"exclude_features\": \"age\", # \"none\", \"nationality\", \"sex\", \"nationality-sex\", \"age\"\n",
    "    \"exclude_subgroups\": \"keep-all\", # \"keep-all\", \"drop-non-german\"\n",
    "    \"eval_fairness_grouping\": [\"majority-minority\", \"nationality-all\"]\n",
    "}\n",
    "\n",
    "output_dir=\"./output\"\n",
    "seed=0"
   ]
  },
  {
   "cell_type": "code",
   "execution_count": 4,
   "id": "4b8b294a",
   "metadata": {
    "execution": {
     "iopub.execute_input": "2025-07-30T21:37:19.797378Z",
     "iopub.status.busy": "2025-07-30T21:37:19.796541Z",
     "iopub.status.idle": "2025-07-30T21:37:19.802633Z",
     "shell.execute_reply": "2025-07-30T21:37:19.801472Z"
    },
    "papermill": {
     "duration": 0.028539,
     "end_time": "2025-07-30T21:37:19.804526",
     "exception": false,
     "start_time": "2025-07-30T21:37:19.775987",
     "status": "completed"
    },
    "tags": [
     "injected-parameters"
    ]
   },
   "outputs": [],
   "source": [
    "# Parameters\n",
    "universe_id = \"5ed6915b873bdb5587ed906a81b5bdfa\"\n",
    "run_no = \"14\"\n",
    "universe = \"{\\\"cutoff\\\": [\\\"quantile_0.1\\\", \\\"quantile_0.25\\\"], \\\"eval_fairness_grouping\\\": [\\\"majority-minority\\\", \\\"nationality-all\\\"], \\\"exclude_features\\\": \\\"sex\\\", \\\"exclude_subgroups\\\": \\\"keep-all\\\", \\\"model\\\": \\\"elasticnet\\\", \\\"scale\\\": \\\"scale\\\", \\\"training_size\\\": \\\"1k\\\", \\\"training_year\\\": \\\"2012_14\\\"}\"\n",
    "output_dir = \"output\"\n",
    "seed = \"2023\"\n"
   ]
  },
  {
   "cell_type": "code",
   "execution_count": 5,
   "id": "1650acaf",
   "metadata": {
    "execution": {
     "iopub.execute_input": "2025-07-30T21:37:19.845316Z",
     "iopub.status.busy": "2025-07-30T21:37:19.844738Z",
     "iopub.status.idle": "2025-07-30T21:37:19.851154Z",
     "shell.execute_reply": "2025-07-30T21:37:19.850157Z"
    },
    "papermill": {
     "duration": 0.028662,
     "end_time": "2025-07-30T21:37:19.852946",
     "exception": false,
     "start_time": "2025-07-30T21:37:19.824284",
     "status": "completed"
    },
    "tags": []
   },
   "outputs": [],
   "source": [
    "import json\n",
    "# Parse universe into dict if it is passed as a string\n",
    "if isinstance(universe, str):\n",
    "    universe = json.loads(universe)"
   ]
  },
  {
   "cell_type": "code",
   "execution_count": 6,
   "id": "16620c48",
   "metadata": {
    "execution": {
     "iopub.execute_input": "2025-07-30T21:37:19.893025Z",
     "iopub.status.busy": "2025-07-30T21:37:19.892479Z",
     "iopub.status.idle": "2025-07-30T21:37:19.936758Z",
     "shell.execute_reply": "2025-07-30T21:37:19.935923Z"
    },
    "papermill": {
     "duration": 0.066454,
     "end_time": "2025-07-30T21:37:19.938572",
     "exception": false,
     "start_time": "2025-07-30T21:37:19.872118",
     "status": "completed"
    },
    "tags": []
   },
   "outputs": [],
   "source": [
    "# Auto-reload the custom package\n",
    "%load_ext autoreload\n",
    "%autoreload 1\n",
    "%aimport fairness_multiverse"
   ]
  },
  {
   "cell_type": "code",
   "execution_count": 7,
   "id": "01c5c9f3",
   "metadata": {
    "execution": {
     "iopub.execute_input": "2025-07-30T21:37:19.981042Z",
     "iopub.status.busy": "2025-07-30T21:37:19.980408Z",
     "iopub.status.idle": "2025-07-30T21:37:21.926067Z",
     "shell.execute_reply": "2025-07-30T21:37:21.924896Z"
    },
    "papermill": {
     "duration": 1.968501,
     "end_time": "2025-07-30T21:37:21.928639",
     "exception": false,
     "start_time": "2025-07-30T21:37:19.960138",
     "status": "completed"
    },
    "tags": []
   },
   "outputs": [],
   "source": [
    "from fairness_multiverse.universe import UniverseAnalysis\n",
    "\n",
    "universe_analysis = UniverseAnalysis(\n",
    "    run_no = run_no,\n",
    "    universe_id = universe_id,\n",
    "    universe = universe,\n",
    "    output_dir=output_dir,\n",
    ")"
   ]
  },
  {
   "cell_type": "code",
   "execution_count": 8,
   "id": "106241f5",
   "metadata": {
    "execution": {
     "iopub.execute_input": "2025-07-30T21:37:21.974766Z",
     "iopub.status.busy": "2025-07-30T21:37:21.974072Z",
     "iopub.status.idle": "2025-07-30T21:37:21.980970Z",
     "shell.execute_reply": "2025-07-30T21:37:21.980051Z"
    },
    "papermill": {
     "duration": 0.031006,
     "end_time": "2025-07-30T21:37:21.982575",
     "exception": false,
     "start_time": "2025-07-30T21:37:21.951569",
     "status": "completed"
    },
    "tags": []
   },
   "outputs": [
    {
     "name": "stdout",
     "output_type": "stream",
     "text": [
      "Using Seed: 2023\n"
     ]
    }
   ],
   "source": [
    "import numpy as np\n",
    "parsed_seed = int(seed)\n",
    "np.random.seed(parsed_seed)\n",
    "print(f\"Using Seed: {parsed_seed}\")"
   ]
  },
  {
   "cell_type": "markdown",
   "id": "e0ebdc57",
   "metadata": {
    "papermill": {
     "duration": 0.020358,
     "end_time": "2025-07-30T21:37:22.024348",
     "exception": false,
     "start_time": "2025-07-30T21:37:22.003990",
     "status": "completed"
    },
    "tags": []
   },
   "source": [
    "# Loading Data"
   ]
  },
  {
   "cell_type": "markdown",
   "id": "681925a3",
   "metadata": {
    "papermill": {
     "duration": 0.025149,
     "end_time": "2025-07-30T21:37:22.071536",
     "exception": false,
     "start_time": "2025-07-30T21:37:22.046387",
     "status": "completed"
    },
    "tags": []
   },
   "source": [
    "Load siab_train, siab_test, siab_calib and/or \n",
    "load siab_train_features, siab_train_labels"
   ]
  },
  {
   "cell_type": "code",
   "execution_count": 9,
   "id": "f0496b8a",
   "metadata": {
    "execution": {
     "iopub.execute_input": "2025-07-30T21:37:22.113796Z",
     "iopub.status.busy": "2025-07-30T21:37:22.112767Z",
     "iopub.status.idle": "2025-07-30T21:37:34.968691Z",
     "shell.execute_reply": "2025-07-30T21:37:34.967558Z"
    },
    "papermill": {
     "duration": 12.879435,
     "end_time": "2025-07-30T21:37:34.970326",
     "exception": false,
     "start_time": "2025-07-30T21:37:22.090891",
     "status": "completed"
    },
    "tags": []
   },
   "outputs": [
    {
     "name": "stdout",
     "output_type": "stream",
     "text": [
      "Loading SIAB data from cache: data/siab_cached.csv.gz\n"
     ]
    },
    {
     "name": "stdout",
     "output_type": "stream",
     "text": [
      "(643690, 164)\n"
     ]
    }
   ],
   "source": [
    "from pathlib import Path\n",
    "import pandas as pd\n",
    "\n",
    "# File paths\n",
    "raw_file = Path(\"data/raw/siab.csv\")\n",
    "cache_file = Path(\"data/siab_cached.csv.gz\")\n",
    "\n",
    "# Ensure cache directory exists\n",
    "cache_file.parent.mkdir(parents=True, exist_ok=True)\n",
    "\n",
    "# Load with simple caching\n",
    "if cache_file.exists():\n",
    "    print(f\"Loading SIAB data from cache: {cache_file}\")\n",
    "    siab = pd.read_csv(cache_file, compression='gzip')\n",
    "else:\n",
    "    print(f\"Cache not found. Reading raw SIAB data: {raw_file}\")\n",
    "    siab = pd.read_csv(raw_file)\n",
    "    siab.to_csv(cache_file, index=False, compression='gzip')\n",
    "    print(f\"Cached SIAB data to: {cache_file}\")\n",
    "\n",
    "# Now use `siab` DataFrame as needed\n",
    "print(siab.shape)"
   ]
  },
  {
   "cell_type": "code",
   "execution_count": 10,
   "id": "db0ca512-5f53-4dba-abdb-a2888bca41ba",
   "metadata": {
    "execution": {
     "iopub.execute_input": "2025-07-30T21:37:35.015463Z",
     "iopub.status.busy": "2025-07-30T21:37:35.014613Z",
     "iopub.status.idle": "2025-07-30T21:37:35.026084Z",
     "shell.execute_reply": "2025-07-30T21:37:35.019760Z"
    },
    "papermill": {
     "duration": 0.035422,
     "end_time": "2025-07-30T21:37:35.027633",
     "exception": false,
     "start_time": "2025-07-30T21:37:34.992211",
     "status": "completed"
    },
    "tags": []
   },
   "outputs": [],
   "source": [
    "#siab"
   ]
  },
  {
   "cell_type": "code",
   "execution_count": 11,
   "id": "a0edb063",
   "metadata": {
    "execution": {
     "iopub.execute_input": "2025-07-30T21:37:35.069566Z",
     "iopub.status.busy": "2025-07-30T21:37:35.068731Z",
     "iopub.status.idle": "2025-07-30T21:37:35.079701Z",
     "shell.execute_reply": "2025-07-30T21:37:35.078892Z"
    },
    "papermill": {
     "duration": 0.034013,
     "end_time": "2025-07-30T21:37:35.081369",
     "exception": false,
     "start_time": "2025-07-30T21:37:35.047356",
     "status": "completed"
    },
    "tags": []
   },
   "outputs": [],
   "source": [
    "#import pandas as pd\n",
    "#\n",
    "#X_train = pd.read_csv(\"./data/X_train.csv\")\n",
    "#y_train = pd.read_csv(\"./data/y_train.csv\")"
   ]
  },
  {
   "cell_type": "code",
   "execution_count": 12,
   "id": "63d08085",
   "metadata": {
    "execution": {
     "iopub.execute_input": "2025-07-30T21:37:35.124877Z",
     "iopub.status.busy": "2025-07-30T21:37:35.124403Z",
     "iopub.status.idle": "2025-07-30T21:37:35.129255Z",
     "shell.execute_reply": "2025-07-30T21:37:35.128395Z"
    },
    "papermill": {
     "duration": 0.028775,
     "end_time": "2025-07-30T21:37:35.131100",
     "exception": false,
     "start_time": "2025-07-30T21:37:35.102325",
     "status": "completed"
    },
    "tags": []
   },
   "outputs": [],
   "source": [
    "#X_test = pd.read_csv(\"./data/X_test.csv\")\n",
    "#y_true = pd.read_csv(\"./data/y_test.csv\")"
   ]
  },
  {
   "cell_type": "code",
   "execution_count": 13,
   "id": "98a8d0fa-1d3d-4ed8-bb2c-281470e24add",
   "metadata": {
    "execution": {
     "iopub.execute_input": "2025-07-30T21:37:35.173229Z",
     "iopub.status.busy": "2025-07-30T21:37:35.172771Z",
     "iopub.status.idle": "2025-07-30T21:37:35.177521Z",
     "shell.execute_reply": "2025-07-30T21:37:35.176648Z"
    },
    "papermill": {
     "duration": 0.027599,
     "end_time": "2025-07-30T21:37:35.179401",
     "exception": false,
     "start_time": "2025-07-30T21:37:35.151802",
     "status": "completed"
    },
    "tags": []
   },
   "outputs": [],
   "source": [
    "# Calibration data for conformal\n",
    "#X_calib = pd.read_csv(\"./data/X_calib.csv\")\n",
    "#y_calib = pd.read_csv(\"./data/y_calib.csv\")"
   ]
  },
  {
   "cell_type": "markdown",
   "id": "997051c5-15bd-4b69-9786-c3001a3ce484",
   "metadata": {
    "papermill": {
     "duration": 0.021009,
     "end_time": "2025-07-30T21:37:35.221703",
     "exception": false,
     "start_time": "2025-07-30T21:37:35.200694",
     "status": "completed"
    },
    "tags": []
   },
   "source": [
    "# Splitting Data and Setting Training Data Size"
   ]
  },
  {
   "cell_type": "code",
   "execution_count": 14,
   "id": "e993b61f-042d-41a6-8c81-f55681f86335",
   "metadata": {
    "execution": {
     "iopub.execute_input": "2025-07-30T21:37:35.265411Z",
     "iopub.status.busy": "2025-07-30T21:37:35.264207Z",
     "iopub.status.idle": "2025-07-30T21:37:35.278022Z",
     "shell.execute_reply": "2025-07-30T21:37:35.277052Z"
    },
    "papermill": {
     "duration": 0.037797,
     "end_time": "2025-07-30T21:37:35.279804",
     "exception": false,
     "start_time": "2025-07-30T21:37:35.242007",
     "status": "completed"
    },
    "tags": []
   },
   "outputs": [],
   "source": [
    "def sample_by_year_size(df,\n",
    "                        training_year: str,\n",
    "                        training_size: str,\n",
    "                        random_state: int = 42):\n",
    "    # --- parse training_year into a list of int years ---\n",
    "    if \"_\" in training_year:\n",
    "        start_str, end_str = training_year.split(\"_\", 1)\n",
    "        start = int(start_str)\n",
    "        end   = int(end_str) if len(end_str) == 4 else (int(end_str) + (start // 100)*100)\n",
    "        years = list(range(start, end + 1))\n",
    "    else:\n",
    "        years = [int(training_year)]\n",
    "\n",
    "    df = df[df[\"year\"].isin(years)].reset_index(drop=True)\n",
    "\n",
    "    # --- map training_size to total number of samples ---\n",
    "    total_map = {\"25k\": 25_000, \"5k\": 5_000, \"1k\": 1_000}\n",
    "    if training_size not in total_map:\n",
    "        return df  # e.g. \"all\"\n",
    "\n",
    "    total_samples = total_map[training_size]\n",
    "    n_years       = len(years)\n",
    "    base          = total_samples // n_years\n",
    "    remainder     = total_samples % n_years\n",
    "\n",
    "    # --- build a dict: year -> how many to sample ---\n",
    "    # give +1 to the first `remainder` years in ascending order\n",
    "    quotas = {\n",
    "        year: base + (1 if idx < remainder else 0)\n",
    "        for idx, year in enumerate(sorted(years))\n",
    "    }\n",
    "\n",
    "    # --- sample per‐year according to the quota dict ---\n",
    "    sampled = (\n",
    "        df\n",
    "        .groupby(\"year\", group_keys=False)\n",
    "        .apply(lambda grp: grp.sample(\n",
    "            n=min(len(grp), quotas[grp.name]),\n",
    "            random_state=random_state))\n",
    "        .reset_index(drop=True)\n",
    "    )\n",
    "\n",
    "    return sampled"
   ]
  },
  {
   "cell_type": "code",
   "execution_count": 15,
   "id": "c0ccd338-0e02-41f3-a09d-f56f9266e3fb",
   "metadata": {
    "execution": {
     "iopub.execute_input": "2025-07-30T21:37:35.324306Z",
     "iopub.status.busy": "2025-07-30T21:37:35.323636Z",
     "iopub.status.idle": "2025-07-30T21:37:35.328644Z",
     "shell.execute_reply": "2025-07-30T21:37:35.327729Z"
    },
    "papermill": {
     "duration": 0.029439,
     "end_time": "2025-07-30T21:37:35.330367",
     "exception": false,
     "start_time": "2025-07-30T21:37:35.300928",
     "status": "completed"
    },
    "tags": []
   },
   "outputs": [],
   "source": [
    "#universe[\"training_size\"]"
   ]
  },
  {
   "cell_type": "code",
   "execution_count": 16,
   "id": "ca707fd7-8047-4acd-bfa5-66248fbbf8e6",
   "metadata": {
    "execution": {
     "iopub.execute_input": "2025-07-30T21:37:35.373644Z",
     "iopub.status.busy": "2025-07-30T21:37:35.372999Z",
     "iopub.status.idle": "2025-07-30T21:37:35.378272Z",
     "shell.execute_reply": "2025-07-30T21:37:35.377189Z"
    },
    "papermill": {
     "duration": 0.028426,
     "end_time": "2025-07-30T21:37:35.379942",
     "exception": false,
     "start_time": "2025-07-30T21:37:35.351516",
     "status": "completed"
    },
    "tags": []
   },
   "outputs": [],
   "source": [
    "#universe[\"training_year\"]"
   ]
  },
  {
   "cell_type": "code",
   "execution_count": 17,
   "id": "aea9c6ef-6f46-42c8-85eb-5a62025c1508",
   "metadata": {
    "execution": {
     "iopub.execute_input": "2025-07-30T21:37:35.423937Z",
     "iopub.status.busy": "2025-07-30T21:37:35.423285Z",
     "iopub.status.idle": "2025-07-30T21:37:35.991412Z",
     "shell.execute_reply": "2025-07-30T21:37:35.990235Z"
    },
    "papermill": {
     "duration": 0.591385,
     "end_time": "2025-07-30T21:37:35.993035",
     "exception": false,
     "start_time": "2025-07-30T21:37:35.401650",
     "status": "completed"
    },
    "tags": []
   },
   "outputs": [],
   "source": [
    "siab_train = sample_by_year_size(siab,\n",
    "                               training_year=universe[\"training_year\"],\n",
    "                               training_size=universe[\"training_size\"])"
   ]
  },
  {
   "cell_type": "code",
   "execution_count": 18,
   "id": "8d3afb32-789d-442c-8d5d-9f5aa8dd2eed",
   "metadata": {
    "execution": {
     "iopub.execute_input": "2025-07-30T21:37:36.043684Z",
     "iopub.status.busy": "2025-07-30T21:37:36.043136Z",
     "iopub.status.idle": "2025-07-30T21:37:36.049017Z",
     "shell.execute_reply": "2025-07-30T21:37:36.048022Z"
    },
    "papermill": {
     "duration": 0.03577,
     "end_time": "2025-07-30T21:37:36.050925",
     "exception": false,
     "start_time": "2025-07-30T21:37:36.015155",
     "status": "completed"
    },
    "tags": []
   },
   "outputs": [],
   "source": [
    "#siab_train.shape"
   ]
  },
  {
   "cell_type": "code",
   "execution_count": 19,
   "id": "d582db68-1a4c-47fb-84fc-08518dc1975a",
   "metadata": {
    "execution": {
     "iopub.execute_input": "2025-07-30T21:37:36.105881Z",
     "iopub.status.busy": "2025-07-30T21:37:36.105350Z",
     "iopub.status.idle": "2025-07-30T21:37:36.111063Z",
     "shell.execute_reply": "2025-07-30T21:37:36.109916Z"
    },
    "papermill": {
     "duration": 0.035806,
     "end_time": "2025-07-30T21:37:36.113572",
     "exception": false,
     "start_time": "2025-07-30T21:37:36.077766",
     "status": "completed"
    },
    "tags": []
   },
   "outputs": [],
   "source": [
    "#display(siab_train.groupby(\"year\").size())"
   ]
  },
  {
   "cell_type": "code",
   "execution_count": 20,
   "id": "a561edb4-d032-42cb-8256-22eac1111c64",
   "metadata": {
    "execution": {
     "iopub.execute_input": "2025-07-30T21:37:36.168840Z",
     "iopub.status.busy": "2025-07-30T21:37:36.168193Z",
     "iopub.status.idle": "2025-07-30T21:37:36.445207Z",
     "shell.execute_reply": "2025-07-30T21:37:36.444078Z"
    },
    "papermill": {
     "duration": 0.307166,
     "end_time": "2025-07-30T21:37:36.447784",
     "exception": false,
     "start_time": "2025-07-30T21:37:36.140618",
     "status": "completed"
    },
    "tags": []
   },
   "outputs": [],
   "source": [
    "#siab_train = siab_s[siab_s.year < 2015]\n",
    "siab_calib = siab[siab.year == 2015]\n",
    "siab_test = siab[siab.year == 2016]"
   ]
  },
  {
   "cell_type": "code",
   "execution_count": 21,
   "id": "472de16f-c3db-4916-846b-1f0de9cf1746",
   "metadata": {
    "execution": {
     "iopub.execute_input": "2025-07-30T21:37:36.511053Z",
     "iopub.status.busy": "2025-07-30T21:37:36.510491Z",
     "iopub.status.idle": "2025-07-30T21:37:36.518316Z",
     "shell.execute_reply": "2025-07-30T21:37:36.516953Z"
    },
    "papermill": {
     "duration": 0.041462,
     "end_time": "2025-07-30T21:37:36.520176",
     "exception": false,
     "start_time": "2025-07-30T21:37:36.478714",
     "status": "completed"
    },
    "tags": []
   },
   "outputs": [],
   "source": [
    "X_train = siab_train.iloc[:,4:164]\n",
    "y_train = siab_train.iloc[:, [3]]"
   ]
  },
  {
   "cell_type": "code",
   "execution_count": 22,
   "id": "828c96af-f43a-4ed6-ba47-8ac73a47d56c",
   "metadata": {
    "execution": {
     "iopub.execute_input": "2025-07-30T21:37:36.545620Z",
     "iopub.status.busy": "2025-07-30T21:37:36.545136Z",
     "iopub.status.idle": "2025-07-30T21:37:36.593454Z",
     "shell.execute_reply": "2025-07-30T21:37:36.592415Z"
    },
    "papermill": {
     "duration": 0.061895,
     "end_time": "2025-07-30T21:37:36.594926",
     "exception": false,
     "start_time": "2025-07-30T21:37:36.533031",
     "status": "completed"
    },
    "tags": []
   },
   "outputs": [],
   "source": [
    "X_calib = siab_calib.iloc[:,4:164]\n",
    "y_calib = siab_calib.iloc[:, [3]]"
   ]
  },
  {
   "cell_type": "code",
   "execution_count": 23,
   "id": "c34be9c3-6bd6-476e-acd3-845840e303be",
   "metadata": {
    "execution": {
     "iopub.execute_input": "2025-07-30T21:37:36.619021Z",
     "iopub.status.busy": "2025-07-30T21:37:36.618531Z",
     "iopub.status.idle": "2025-07-30T21:37:36.666809Z",
     "shell.execute_reply": "2025-07-30T21:37:36.665997Z"
    },
    "papermill": {
     "duration": 0.0614,
     "end_time": "2025-07-30T21:37:36.668120",
     "exception": false,
     "start_time": "2025-07-30T21:37:36.606720",
     "status": "completed"
    },
    "tags": []
   },
   "outputs": [],
   "source": [
    "X_test = siab_test.iloc[:,4:164]\n",
    "y_true = siab_test.iloc[:, [3]]"
   ]
  },
  {
   "cell_type": "markdown",
   "id": "9901737e-04df-44f0-9100-f5ad144ed040",
   "metadata": {
    "papermill": {
     "duration": 0.013976,
     "end_time": "2025-07-30T21:37:36.693907",
     "exception": false,
     "start_time": "2025-07-30T21:37:36.679931",
     "status": "completed"
    },
    "tags": []
   },
   "source": [
    "# Splitting Data and Setting Training Data Size OLD VERSION"
   ]
  },
  {
   "cell_type": "code",
   "execution_count": 24,
   "id": "acbc8f7d-8fc8-4e86-8c59-5dcb0f58384b",
   "metadata": {
    "execution": {
     "iopub.execute_input": "2025-07-30T21:37:36.741385Z",
     "iopub.status.busy": "2025-07-30T21:37:36.740929Z",
     "iopub.status.idle": "2025-07-30T21:37:36.746783Z",
     "shell.execute_reply": "2025-07-30T21:37:36.745772Z"
    },
    "papermill": {
     "duration": 0.030803,
     "end_time": "2025-07-30T21:37:36.748166",
     "exception": false,
     "start_time": "2025-07-30T21:37:36.717363",
     "status": "completed"
    },
    "tags": []
   },
   "outputs": [],
   "source": [
    "#def sample_by_year(df, training_size, random_state=42):\n",
    "#    if training_size == \"2014\":\n",
    "#        return df[df[\"year\"] == 2014].reset_index(drop=True)\n",
    "#    \n",
    "#    size_map = {\n",
    "#        \"25k\": 5000,\n",
    "#        \"5k\": 1000,\n",
    "#        \"1k\": 200\n",
    "#    }\n",
    "#\n",
    "#    if training_size not in size_map:\n",
    "#        return df.reset_index(drop=True)  # use all data\n",
    "#\n",
    "#    n_per_year = size_map[training_size]\n",
    "#    grouped = df.groupby(\"year\")\n",
    "#    sampled = grouped.apply(lambda x: x.sample(n=min(n_per_year, len(x)), random_state=random_state))\n",
    "#    return sampled.reset_index(drop=True)"
   ]
  },
  {
   "cell_type": "code",
   "execution_count": 25,
   "id": "6d931f52-beaf-43ff-9e78-9d44a448d54e",
   "metadata": {
    "execution": {
     "iopub.execute_input": "2025-07-30T21:37:36.777768Z",
     "iopub.status.busy": "2025-07-30T21:37:36.777306Z",
     "iopub.status.idle": "2025-07-30T21:37:36.781786Z",
     "shell.execute_reply": "2025-07-30T21:37:36.781054Z"
    },
    "papermill": {
     "duration": 0.021983,
     "end_time": "2025-07-30T21:37:36.783129",
     "exception": false,
     "start_time": "2025-07-30T21:37:36.761146",
     "status": "completed"
    },
    "tags": []
   },
   "outputs": [],
   "source": [
    "#siab_s = sample_by_year(siab, universe[\"training_size\"])"
   ]
  },
  {
   "cell_type": "code",
   "execution_count": 26,
   "id": "5db0a40e-a4e2-4920-be85-b12ae061d70d",
   "metadata": {
    "execution": {
     "iopub.execute_input": "2025-07-30T21:37:36.807543Z",
     "iopub.status.busy": "2025-07-30T21:37:36.807073Z",
     "iopub.status.idle": "2025-07-30T21:37:36.811725Z",
     "shell.execute_reply": "2025-07-30T21:37:36.810298Z"
    },
    "papermill": {
     "duration": 0.018591,
     "end_time": "2025-07-30T21:37:36.813733",
     "exception": false,
     "start_time": "2025-07-30T21:37:36.795142",
     "status": "completed"
    },
    "tags": []
   },
   "outputs": [],
   "source": [
    "#display(siab_s.groupby(\"year\").size())"
   ]
  },
  {
   "cell_type": "code",
   "execution_count": 27,
   "id": "e6c733c5",
   "metadata": {
    "execution": {
     "iopub.execute_input": "2025-07-30T21:37:36.861467Z",
     "iopub.status.busy": "2025-07-30T21:37:36.860597Z",
     "iopub.status.idle": "2025-07-30T21:37:36.959956Z",
     "shell.execute_reply": "2025-07-30T21:37:36.958822Z"
    },
    "papermill": {
     "duration": 0.125899,
     "end_time": "2025-07-30T21:37:36.962378",
     "exception": false,
     "start_time": "2025-07-30T21:37:36.836479",
     "status": "completed"
    },
    "tags": []
   },
   "outputs": [],
   "source": [
    "# Auxiliary data needed downstream in the pipeline\n",
    "\n",
    "org_train = X_train.copy()\n",
    "org_test = X_test.copy()\n",
    "org_calib = X_calib.copy()"
   ]
  },
  {
   "cell_type": "code",
   "execution_count": 28,
   "id": "1466abac-c6da-4492-a62f-4240ae3783af",
   "metadata": {
    "execution": {
     "iopub.execute_input": "2025-07-30T21:37:37.029032Z",
     "iopub.status.busy": "2025-07-30T21:37:37.028248Z",
     "iopub.status.idle": "2025-07-30T21:37:37.034743Z",
     "shell.execute_reply": "2025-07-30T21:37:37.033693Z"
    },
    "papermill": {
     "duration": 0.041865,
     "end_time": "2025-07-30T21:37:37.037016",
     "exception": false,
     "start_time": "2025-07-30T21:37:36.995151",
     "status": "completed"
    },
    "tags": []
   },
   "outputs": [],
   "source": [
    "# put in other script?\n",
    "# Group sizes\n",
    "\n",
    "#def calculate_percentages(df, df_name):\n",
    "#    total_entries = len(df)\n",
    "#\n",
    "#    female_pct = (df['frau1'] == 1).mean() * 100\n",
    "#    non_german_pct = ((df['maxdeutsch1'] == 0) & (df['maxdeutsch.Missing.'] == 0)).mean() * 100\n",
    "#    non_german_male_pct = ((df['frau1'] == 0) & (df['maxdeutsch1'] == 0) & (df['maxdeutsch.Missing.'] == 0)).mean() * 100\n",
    "#    non_german_female_pct = ((df['frau1'] == 1) & (df['maxdeutsch1'] == 0) & (df['maxdeutsch.Missing.'] == 0)).mean() * 100\n",
    "#\n",
    "#    print(f\"--- {df_name} ---\")\n",
    "#    print(f\"Female: {female_pct:.2f}%\")\n",
    "#    print(f\"Non-German: {non_german_pct:.2f}%\")\n",
    "#    print(f\"Non-German Male: {non_german_male_pct:.2f}%\")\n",
    "#    print(f\"Non-German Female: {non_german_female_pct:.2f}%\\n\")\n",
    "#\n",
    "## Calculate for each DataFrame\n",
    "#calculate_percentages(siab_calib, \"siab_calib\")\n",
    "#calculate_percentages(siab_test, \"siab_test\")\n",
    "#calculate_percentages(siab_train, \"siab_train\")"
   ]
  },
  {
   "cell_type": "markdown",
   "id": "0a4a1b33",
   "metadata": {
    "papermill": {
     "duration": 0.031025,
     "end_time": "2025-07-30T21:37:37.099529",
     "exception": false,
     "start_time": "2025-07-30T21:37:37.068504",
     "status": "completed"
    },
    "tags": []
   },
   "source": [
    "# Preprocessing Data"
   ]
  },
  {
   "cell_type": "code",
   "execution_count": 29,
   "id": "ca879031",
   "metadata": {
    "execution": {
     "iopub.execute_input": "2025-07-30T21:37:37.165246Z",
     "iopub.status.busy": "2025-07-30T21:37:37.164715Z",
     "iopub.status.idle": "2025-07-30T21:37:37.171779Z",
     "shell.execute_reply": "2025-07-30T21:37:37.170766Z"
    },
    "papermill": {
     "duration": 0.042998,
     "end_time": "2025-07-30T21:37:37.174200",
     "exception": false,
     "start_time": "2025-07-30T21:37:37.131202",
     "status": "completed"
    },
    "tags": []
   },
   "outputs": [],
   "source": [
    "# EXCLUDE PROTECTED FEATURES\n",
    "# ----------------------\n",
    "# \"exclude_features\": \"none\", # \"nationality\", \"sex\", \"nationality-sex\"\n",
    "\n",
    "excluded_features = universe[\"exclude_features\"].split(\"-\") # split, e.g.: \"nationality-sex\" -> [\"nationality\", \"sex\"]\n",
    "excluded_features_dictionary = {\n",
    "    \"nationality\": [\"maxdeutsch1\", \"maxdeutsch.Missing.\"],\n",
    "    \"sex\": [\"frau1\"],\n",
    "    \"age\": [\"age\"],\n",
    "}\n"
   ]
  },
  {
   "cell_type": "code",
   "execution_count": 30,
   "id": "b745ac60",
   "metadata": {
    "execution": {
     "iopub.execute_input": "2025-07-30T21:37:37.238798Z",
     "iopub.status.busy": "2025-07-30T21:37:37.238249Z",
     "iopub.status.idle": "2025-07-30T21:37:37.244824Z",
     "shell.execute_reply": "2025-07-30T21:37:37.243879Z"
    },
    "papermill": {
     "duration": 0.041748,
     "end_time": "2025-07-30T21:37:37.246910",
     "exception": false,
     "start_time": "2025-07-30T21:37:37.205162",
     "status": "completed"
    },
    "tags": []
   },
   "outputs": [],
   "source": [
    "# Code nice names to column names\n",
    "\n",
    "excluded_features_columns = [\n",
    "    excluded_features_dictionary[f] for f in excluded_features if len(f) > 0 and f != \"none\"\n",
    "]"
   ]
  },
  {
   "cell_type": "code",
   "execution_count": 31,
   "id": "f84f73a2",
   "metadata": {
    "execution": {
     "iopub.execute_input": "2025-07-30T21:37:37.311485Z",
     "iopub.status.busy": "2025-07-30T21:37:37.310731Z",
     "iopub.status.idle": "2025-07-30T21:37:37.318127Z",
     "shell.execute_reply": "2025-07-30T21:37:37.317070Z"
    },
    "papermill": {
     "duration": 0.04205,
     "end_time": "2025-07-30T21:37:37.320533",
     "exception": false,
     "start_time": "2025-07-30T21:37:37.278483",
     "status": "completed"
    },
    "tags": []
   },
   "outputs": [],
   "source": [
    "from utils import flatten_once\n",
    "\n",
    "excluded_features_columns = flatten_once(excluded_features_columns)"
   ]
  },
  {
   "cell_type": "code",
   "execution_count": 32,
   "id": "884dea22",
   "metadata": {
    "execution": {
     "iopub.execute_input": "2025-07-30T21:37:37.385313Z",
     "iopub.status.busy": "2025-07-30T21:37:37.384823Z",
     "iopub.status.idle": "2025-07-30T21:37:37.392988Z",
     "shell.execute_reply": "2025-07-30T21:37:37.391809Z"
    },
    "papermill": {
     "duration": 0.042373,
     "end_time": "2025-07-30T21:37:37.394648",
     "exception": false,
     "start_time": "2025-07-30T21:37:37.352275",
     "status": "completed"
    },
    "tags": []
   },
   "outputs": [
    {
     "name": "stdout",
     "output_type": "stream",
     "text": [
      "Dropping features: ['frau1']\n"
     ]
    }
   ],
   "source": [
    "if len(excluded_features_columns) > 0:\n",
    "    print(f\"Dropping features: {excluded_features_columns}\")\n",
    "    X_train.drop(excluded_features_columns, axis=1, inplace=True)"
   ]
  },
  {
   "cell_type": "code",
   "execution_count": 33,
   "id": "95ab8b16",
   "metadata": {
    "execution": {
     "iopub.execute_input": "2025-07-30T21:37:37.439130Z",
     "iopub.status.busy": "2025-07-30T21:37:37.438620Z",
     "iopub.status.idle": "2025-07-30T21:37:37.496018Z",
     "shell.execute_reply": "2025-07-30T21:37:37.494872Z"
    },
    "papermill": {
     "duration": 0.08111,
     "end_time": "2025-07-30T21:37:37.497729",
     "exception": false,
     "start_time": "2025-07-30T21:37:37.416619",
     "status": "completed"
    },
    "tags": []
   },
   "outputs": [
    {
     "name": "stdout",
     "output_type": "stream",
     "text": [
      "Dropping features: ['frau1']\n"
     ]
    }
   ],
   "source": [
    "if len(excluded_features_columns) > 0:\n",
    "    print(f\"Dropping features: {excluded_features_columns}\")\n",
    "    X_test.drop(excluded_features_columns, axis=1, inplace=True)"
   ]
  },
  {
   "cell_type": "code",
   "execution_count": 34,
   "id": "1853aaf5-fb9f-46cb-a2b5-8ea4ae2237e4",
   "metadata": {
    "execution": {
     "iopub.execute_input": "2025-07-30T21:37:37.542928Z",
     "iopub.status.busy": "2025-07-30T21:37:37.542364Z",
     "iopub.status.idle": "2025-07-30T21:37:37.601142Z",
     "shell.execute_reply": "2025-07-30T21:37:37.600248Z"
    },
    "papermill": {
     "duration": 0.080678,
     "end_time": "2025-07-30T21:37:37.602499",
     "exception": false,
     "start_time": "2025-07-30T21:37:37.521821",
     "status": "completed"
    },
    "tags": []
   },
   "outputs": [
    {
     "name": "stdout",
     "output_type": "stream",
     "text": [
      "Dropping features: ['frau1']\n"
     ]
    }
   ],
   "source": [
    "if len(excluded_features_columns) > 0:\n",
    "    print(f\"Dropping features: {excluded_features_columns}\")\n",
    "    X_calib.drop(excluded_features_columns, axis=1, inplace=True)"
   ]
  },
  {
   "cell_type": "code",
   "execution_count": 35,
   "id": "6727d079-03e5-481e-9d38-292a90b7a0a8",
   "metadata": {
    "execution": {
     "iopub.execute_input": "2025-07-30T21:37:37.639082Z",
     "iopub.status.busy": "2025-07-30T21:37:37.638661Z",
     "iopub.status.idle": "2025-07-30T21:37:37.642349Z",
     "shell.execute_reply": "2025-07-30T21:37:37.641672Z"
    },
    "papermill": {
     "duration": 0.029165,
     "end_time": "2025-07-30T21:37:37.643665",
     "exception": false,
     "start_time": "2025-07-30T21:37:37.614500",
     "status": "completed"
    },
    "tags": []
   },
   "outputs": [],
   "source": [
    "# SPLIT & STRATIFY DATA\n",
    "# ----------------------"
   ]
  },
  {
   "cell_type": "code",
   "execution_count": 36,
   "id": "76c4dc6d",
   "metadata": {
    "execution": {
     "iopub.execute_input": "2025-07-30T21:37:37.668150Z",
     "iopub.status.busy": "2025-07-30T21:37:37.667753Z",
     "iopub.status.idle": "2025-07-30T21:37:37.672690Z",
     "shell.execute_reply": "2025-07-30T21:37:37.671932Z"
    },
    "papermill": {
     "duration": 0.017931,
     "end_time": "2025-07-30T21:37:37.673879",
     "exception": false,
     "start_time": "2025-07-30T21:37:37.655948",
     "status": "completed"
    },
    "tags": []
   },
   "outputs": [],
   "source": [
    "# EXCLUDE CERTAIN SUBGROUPS\n",
    "# ----------------------\n",
    "\n",
    "mode = universe.get(\"exclude_subgroups\", \"keep-all\") \n",
    "# Fetches the exclude_subgroups setting from the universe dict.\n",
    "# Defaults to \"keep-all\" if the key is missing."
   ]
  },
  {
   "cell_type": "code",
   "execution_count": 37,
   "id": "21994072",
   "metadata": {
    "execution": {
     "iopub.execute_input": "2025-07-30T21:37:37.705407Z",
     "iopub.status.busy": "2025-07-30T21:37:37.705156Z",
     "iopub.status.idle": "2025-07-30T21:37:37.710206Z",
     "shell.execute_reply": "2025-07-30T21:37:37.709396Z"
    },
    "papermill": {
     "duration": 0.019509,
     "end_time": "2025-07-30T21:37:37.711897",
     "exception": false,
     "start_time": "2025-07-30T21:37:37.692388",
     "status": "completed"
    },
    "tags": []
   },
   "outputs": [],
   "source": [
    "if mode == \"keep-all\":\n",
    "    keep_mask = pd.Series(True, index=org_train.index)\n",
    "\n",
    "# org_train contains the original feature columns from features_org (in Simson)\n",
    "# features_org contains unprocessed features, for me X_train at beginning ???\n",
    "# For keep-all, creates a boolean Series (keep_mask) of all True, so no rows are removed.\n",
    "\n",
    "elif mode == \"drop-non-german\":\n",
    "    keep_mask = org_train[\"maxdeutsch1\"] == 1 # ??? what about missing values?\n",
    "\n",
    "else:\n",
    "    raise ValueError(f\"Unsupported mode for exclude_subgroups: {mode}\")\n"
   ]
  },
  {
   "cell_type": "code",
   "execution_count": 38,
   "id": "71651440",
   "metadata": {
    "execution": {
     "iopub.execute_input": "2025-07-30T21:37:37.743951Z",
     "iopub.status.busy": "2025-07-30T21:37:37.743565Z",
     "iopub.status.idle": "2025-07-30T21:37:37.749875Z",
     "shell.execute_reply": "2025-07-30T21:37:37.748901Z"
    },
    "papermill": {
     "duration": 0.020824,
     "end_time": "2025-07-30T21:37:37.751559",
     "exception": false,
     "start_time": "2025-07-30T21:37:37.730735",
     "status": "completed"
    },
    "tags": []
   },
   "outputs": [],
   "source": [
    "n_drop = (~keep_mask).sum() # Calculates how many rows are set to be dropped\n",
    "if n_drop > 0:\n",
    "    pct = n_drop / len(keep_mask) * 100\n",
    "    print(f\"Dropping {n_drop} rows ({pct:.2f}%) where mode='{mode}'\")"
   ]
  },
  {
   "cell_type": "code",
   "execution_count": 39,
   "id": "5fb8eee5",
   "metadata": {
    "execution": {
     "iopub.execute_input": "2025-07-30T21:37:37.782573Z",
     "iopub.status.busy": "2025-07-30T21:37:37.782174Z",
     "iopub.status.idle": "2025-07-30T21:37:37.787913Z",
     "shell.execute_reply": "2025-07-30T21:37:37.787112Z"
    },
    "papermill": {
     "duration": 0.019953,
     "end_time": "2025-07-30T21:37:37.789563",
     "exception": false,
     "start_time": "2025-07-30T21:37:37.769610",
     "status": "completed"
    },
    "tags": []
   },
   "outputs": [],
   "source": [
    "X_train = X_train[keep_mask]"
   ]
  },
  {
   "cell_type": "code",
   "execution_count": 40,
   "id": "b202bb3a",
   "metadata": {
    "execution": {
     "iopub.execute_input": "2025-07-30T21:37:37.834118Z",
     "iopub.status.busy": "2025-07-30T21:37:37.833570Z",
     "iopub.status.idle": "2025-07-30T21:37:37.840211Z",
     "shell.execute_reply": "2025-07-30T21:37:37.839189Z"
    },
    "papermill": {
     "duration": 0.033836,
     "end_time": "2025-07-30T21:37:37.841961",
     "exception": false,
     "start_time": "2025-07-30T21:37:37.808125",
     "status": "completed"
    },
    "tags": []
   },
   "outputs": [],
   "source": [
    "y_train = y_train[keep_mask]"
   ]
  },
  {
   "cell_type": "markdown",
   "id": "493e2ac3",
   "metadata": {
    "papermill": {
     "duration": 0.024209,
     "end_time": "2025-07-30T21:37:37.891127",
     "exception": false,
     "start_time": "2025-07-30T21:37:37.866918",
     "status": "completed"
    },
    "tags": []
   },
   "source": [
    "# Model Training"
   ]
  },
  {
   "cell_type": "code",
   "execution_count": 41,
   "id": "679e1268",
   "metadata": {
    "execution": {
     "iopub.execute_input": "2025-07-30T21:37:37.938773Z",
     "iopub.status.busy": "2025-07-30T21:37:37.937850Z",
     "iopub.status.idle": "2025-07-30T21:37:38.067042Z",
     "shell.execute_reply": "2025-07-30T21:37:38.065944Z"
    },
    "papermill": {
     "duration": 0.153223,
     "end_time": "2025-07-30T21:37:38.069119",
     "exception": false,
     "start_time": "2025-07-30T21:37:37.915896",
     "status": "completed"
    },
    "tags": []
   },
   "outputs": [],
   "source": [
    "from sklearn.linear_model import LogisticRegression\n",
    "from sklearn.ensemble import GradientBoostingClassifier, RandomForestClassifier\n",
    "\n",
    "if (universe[\"model\"] == \"logreg\"):\n",
    "    model = LogisticRegression() #penalty=\"none\") #, solver=\"newton-cg\", max_iter=1) # include random_state=19 ?\n",
    "elif (universe[\"model\"] == \"penalized_logreg\"):\n",
    "    model = LogisticRegression(penalty=\"l2\", C=1.0) #, solver=\"newton-cg\", max_iter=1)\n",
    "elif (universe[\"model\"] == \"rf\"):\n",
    "    model = RandomForestClassifier(n_estimators=100, n_jobs=-1)\n",
    "elif (universe[\"model\"] == \"gbm\"):\n",
    "    model = GradientBoostingClassifier()\n",
    "elif (universe[\"model\"] == \"elasticnet\"):\n",
    "    model = LogisticRegression(penalty = 'elasticnet', solver = 'saga', l1_ratio = 0.5, max_iter=5000) # which solver to use?\n",
    "else:\n",
    "    raise \"Unsupported universe.model\""
   ]
  },
  {
   "cell_type": "code",
   "execution_count": 42,
   "id": "0cc8f744",
   "metadata": {
    "execution": {
     "iopub.execute_input": "2025-07-30T21:37:38.117469Z",
     "iopub.status.busy": "2025-07-30T21:37:38.116668Z",
     "iopub.status.idle": "2025-07-30T21:37:38.124447Z",
     "shell.execute_reply": "2025-07-30T21:37:38.123333Z"
    },
    "papermill": {
     "duration": 0.034897,
     "end_time": "2025-07-30T21:37:38.126237",
     "exception": false,
     "start_time": "2025-07-30T21:37:38.091340",
     "status": "completed"
    },
    "tags": []
   },
   "outputs": [],
   "source": [
    "import numpy as np\n",
    "from sklearn.pipeline import Pipeline\n",
    "from sklearn.preprocessing import StandardScaler\n",
    "\n",
    "model = Pipeline([\n",
    "    #(\"continuous_processor\", continuous_processor),\n",
    "    #(\"categorical_preprocessor\", categorical_preprocessor),\n",
    "    (\"scale\", StandardScaler() if universe[\"scale\"] == \"scale\" else None), \n",
    "    (\"model\", model),\n",
    "])"
   ]
  },
  {
   "cell_type": "code",
   "execution_count": 43,
   "id": "9442c04d",
   "metadata": {
    "execution": {
     "iopub.execute_input": "2025-07-30T21:37:38.172172Z",
     "iopub.status.busy": "2025-07-30T21:37:38.171601Z",
     "iopub.status.idle": "2025-07-30T21:37:43.751289Z",
     "shell.execute_reply": "2025-07-30T21:37:43.750388Z"
    },
    "papermill": {
     "duration": 5.606881,
     "end_time": "2025-07-30T21:37:43.752998",
     "exception": false,
     "start_time": "2025-07-30T21:37:38.146117",
     "status": "completed"
    },
    "tags": []
   },
   "outputs": [
    {
     "data": {
      "text/html": [
       "<style>#sk-container-id-1 {color: black;background-color: white;}#sk-container-id-1 pre{padding: 0;}#sk-container-id-1 div.sk-toggleable {background-color: white;}#sk-container-id-1 label.sk-toggleable__label {cursor: pointer;display: block;width: 100%;margin-bottom: 0;padding: 0.3em;box-sizing: border-box;text-align: center;}#sk-container-id-1 label.sk-toggleable__label-arrow:before {content: \"▸\";float: left;margin-right: 0.25em;color: #696969;}#sk-container-id-1 label.sk-toggleable__label-arrow:hover:before {color: black;}#sk-container-id-1 div.sk-estimator:hover label.sk-toggleable__label-arrow:before {color: black;}#sk-container-id-1 div.sk-toggleable__content {max-height: 0;max-width: 0;overflow: hidden;text-align: left;background-color: #f0f8ff;}#sk-container-id-1 div.sk-toggleable__content pre {margin: 0.2em;color: black;border-radius: 0.25em;background-color: #f0f8ff;}#sk-container-id-1 input.sk-toggleable__control:checked~div.sk-toggleable__content {max-height: 200px;max-width: 100%;overflow: auto;}#sk-container-id-1 input.sk-toggleable__control:checked~label.sk-toggleable__label-arrow:before {content: \"▾\";}#sk-container-id-1 div.sk-estimator input.sk-toggleable__control:checked~label.sk-toggleable__label {background-color: #d4ebff;}#sk-container-id-1 div.sk-label input.sk-toggleable__control:checked~label.sk-toggleable__label {background-color: #d4ebff;}#sk-container-id-1 input.sk-hidden--visually {border: 0;clip: rect(1px 1px 1px 1px);clip: rect(1px, 1px, 1px, 1px);height: 1px;margin: -1px;overflow: hidden;padding: 0;position: absolute;width: 1px;}#sk-container-id-1 div.sk-estimator {font-family: monospace;background-color: #f0f8ff;border: 1px dotted black;border-radius: 0.25em;box-sizing: border-box;margin-bottom: 0.5em;}#sk-container-id-1 div.sk-estimator:hover {background-color: #d4ebff;}#sk-container-id-1 div.sk-parallel-item::after {content: \"\";width: 100%;border-bottom: 1px solid gray;flex-grow: 1;}#sk-container-id-1 div.sk-label:hover label.sk-toggleable__label {background-color: #d4ebff;}#sk-container-id-1 div.sk-serial::before {content: \"\";position: absolute;border-left: 1px solid gray;box-sizing: border-box;top: 0;bottom: 0;left: 50%;z-index: 0;}#sk-container-id-1 div.sk-serial {display: flex;flex-direction: column;align-items: center;background-color: white;padding-right: 0.2em;padding-left: 0.2em;position: relative;}#sk-container-id-1 div.sk-item {position: relative;z-index: 1;}#sk-container-id-1 div.sk-parallel {display: flex;align-items: stretch;justify-content: center;background-color: white;position: relative;}#sk-container-id-1 div.sk-item::before, #sk-container-id-1 div.sk-parallel-item::before {content: \"\";position: absolute;border-left: 1px solid gray;box-sizing: border-box;top: 0;bottom: 0;left: 50%;z-index: -1;}#sk-container-id-1 div.sk-parallel-item {display: flex;flex-direction: column;z-index: 1;position: relative;background-color: white;}#sk-container-id-1 div.sk-parallel-item:first-child::after {align-self: flex-end;width: 50%;}#sk-container-id-1 div.sk-parallel-item:last-child::after {align-self: flex-start;width: 50%;}#sk-container-id-1 div.sk-parallel-item:only-child::after {width: 0;}#sk-container-id-1 div.sk-dashed-wrapped {border: 1px dashed gray;margin: 0 0.4em 0.5em 0.4em;box-sizing: border-box;padding-bottom: 0.4em;background-color: white;}#sk-container-id-1 div.sk-label label {font-family: monospace;font-weight: bold;display: inline-block;line-height: 1.2em;}#sk-container-id-1 div.sk-label-container {text-align: center;}#sk-container-id-1 div.sk-container {/* jupyter's `normalize.less` sets `[hidden] { display: none; }` but bootstrap.min.css set `[hidden] { display: none !important; }` so we also need the `!important` here to be able to override the default hidden behavior on the sphinx rendered scikit-learn.org. See: https://github.com/scikit-learn/scikit-learn/issues/21755 */display: inline-block !important;position: relative;}#sk-container-id-1 div.sk-text-repr-fallback {display: none;}</style><div id=\"sk-container-id-1\" class=\"sk-top-container\"><div class=\"sk-text-repr-fallback\"><pre>Pipeline(steps=[(&#x27;scale&#x27;, StandardScaler()),\n",
       "                (&#x27;model&#x27;,\n",
       "                 LogisticRegression(l1_ratio=0.5, max_iter=5000,\n",
       "                                    penalty=&#x27;elasticnet&#x27;, solver=&#x27;saga&#x27;))])</pre><b>In a Jupyter environment, please rerun this cell to show the HTML representation or trust the notebook. <br />On GitHub, the HTML representation is unable to render, please try loading this page with nbviewer.org.</b></div><div class=\"sk-container\" hidden><div class=\"sk-item sk-dashed-wrapped\"><div class=\"sk-label-container\"><div class=\"sk-label sk-toggleable\"><input class=\"sk-toggleable__control sk-hidden--visually\" id=\"sk-estimator-id-1\" type=\"checkbox\" ><label for=\"sk-estimator-id-1\" class=\"sk-toggleable__label sk-toggleable__label-arrow\">Pipeline</label><div class=\"sk-toggleable__content\"><pre>Pipeline(steps=[(&#x27;scale&#x27;, StandardScaler()),\n",
       "                (&#x27;model&#x27;,\n",
       "                 LogisticRegression(l1_ratio=0.5, max_iter=5000,\n",
       "                                    penalty=&#x27;elasticnet&#x27;, solver=&#x27;saga&#x27;))])</pre></div></div></div><div class=\"sk-serial\"><div class=\"sk-item\"><div class=\"sk-estimator sk-toggleable\"><input class=\"sk-toggleable__control sk-hidden--visually\" id=\"sk-estimator-id-2\" type=\"checkbox\" ><label for=\"sk-estimator-id-2\" class=\"sk-toggleable__label sk-toggleable__label-arrow\">StandardScaler</label><div class=\"sk-toggleable__content\"><pre>StandardScaler()</pre></div></div></div><div class=\"sk-item\"><div class=\"sk-estimator sk-toggleable\"><input class=\"sk-toggleable__control sk-hidden--visually\" id=\"sk-estimator-id-3\" type=\"checkbox\" ><label for=\"sk-estimator-id-3\" class=\"sk-toggleable__label sk-toggleable__label-arrow\">LogisticRegression</label><div class=\"sk-toggleable__content\"><pre>LogisticRegression(l1_ratio=0.5, max_iter=5000, penalty=&#x27;elasticnet&#x27;,\n",
       "                   solver=&#x27;saga&#x27;)</pre></div></div></div></div></div></div></div>"
      ],
      "text/plain": [
       "Pipeline(steps=[('scale', StandardScaler()),\n",
       "                ('model',\n",
       "                 LogisticRegression(l1_ratio=0.5, max_iter=5000,\n",
       "                                    penalty='elasticnet', solver='saga'))])"
      ]
     },
     "execution_count": 43,
     "metadata": {},
     "output_type": "execute_result"
    }
   ],
   "source": [
    "model.fit(X_train, y_train.values.ravel())"
   ]
  },
  {
   "cell_type": "code",
   "execution_count": 44,
   "id": "af59f8c0",
   "metadata": {
    "execution": {
     "iopub.execute_input": "2025-07-30T21:37:43.829953Z",
     "iopub.status.busy": "2025-07-30T21:37:43.828943Z",
     "iopub.status.idle": "2025-07-30T21:37:43.835542Z",
     "shell.execute_reply": "2025-07-30T21:37:43.834337Z"
    },
    "papermill": {
     "duration": 0.04112,
     "end_time": "2025-07-30T21:37:43.837850",
     "exception": false,
     "start_time": "2025-07-30T21:37:43.796730",
     "status": "completed"
    },
    "tags": []
   },
   "outputs": [],
   "source": [
    "from fairness_multiverse.universe import predict_w_threshold"
   ]
  },
  {
   "cell_type": "code",
   "execution_count": 45,
   "id": "a7cf2e16",
   "metadata": {
    "execution": {
     "iopub.execute_input": "2025-07-30T21:37:43.902561Z",
     "iopub.status.busy": "2025-07-30T21:37:43.902040Z",
     "iopub.status.idle": "2025-07-30T21:37:44.109365Z",
     "shell.execute_reply": "2025-07-30T21:37:44.108501Z"
    },
    "papermill": {
     "duration": 0.242273,
     "end_time": "2025-07-30T21:37:44.110911",
     "exception": false,
     "start_time": "2025-07-30T21:37:43.868638",
     "status": "completed"
    },
    "tags": []
   },
   "outputs": [
    {
     "data": {
      "text/plain": [
       "0.8249470516107458"
      ]
     },
     "execution_count": 45,
     "metadata": {},
     "output_type": "execute_result"
    }
   ],
   "source": [
    "probs_test = model.predict_proba(X_test)\n",
    "\n",
    "'''\n",
    "Below code returns a boolean array (or binary 0/1 array depending on how it’s used) where each element \n",
    "is True if the probability of class 1 is greater than or equal to the threshold, and False otherwise.\n",
    "'''\n",
    "y_pred_default = predict_w_threshold(probs_test, 0.5)\n",
    "\n",
    "from sklearn.metrics import accuracy_score\n",
    "\n",
    "# Naive prediction\n",
    "accuracy_score(y_true = y_true, y_pred = y_pred_default)"
   ]
  },
  {
   "cell_type": "code",
   "execution_count": 46,
   "id": "081964c3",
   "metadata": {
    "execution": {
     "iopub.execute_input": "2025-07-30T21:37:44.161007Z",
     "iopub.status.busy": "2025-07-30T21:37:44.160109Z",
     "iopub.status.idle": "2025-07-30T21:37:44.347382Z",
     "shell.execute_reply": "2025-07-30T21:37:44.346340Z"
    },
    "papermill": {
     "duration": 0.213342,
     "end_time": "2025-07-30T21:37:44.349111",
     "exception": false,
     "start_time": "2025-07-30T21:37:44.135769",
     "status": "completed"
    },
    "tags": []
   },
   "outputs": [
    {
     "data": {
      "text/plain": [
       "array([0, 0, 0, ..., 0, 0, 0])"
      ]
     },
     "execution_count": 46,
     "metadata": {},
     "output_type": "execute_result"
    }
   ],
   "source": [
    "model.predict(X_test)"
   ]
  },
  {
   "cell_type": "markdown",
   "id": "56c9705b",
   "metadata": {
    "papermill": {
     "duration": 0.024487,
     "end_time": "2025-07-30T21:37:44.412731",
     "exception": false,
     "start_time": "2025-07-30T21:37:44.388244",
     "status": "completed"
    },
    "tags": []
   },
   "source": [
    "# Conformal Prediction"
   ]
  },
  {
   "cell_type": "code",
   "execution_count": 47,
   "id": "160ec6ff",
   "metadata": {
    "execution": {
     "iopub.execute_input": "2025-07-30T21:37:44.462997Z",
     "iopub.status.busy": "2025-07-30T21:37:44.462389Z",
     "iopub.status.idle": "2025-07-30T21:37:44.466791Z",
     "shell.execute_reply": "2025-07-30T21:37:44.466128Z"
    },
    "papermill": {
     "duration": 0.031643,
     "end_time": "2025-07-30T21:37:44.468099",
     "exception": false,
     "start_time": "2025-07-30T21:37:44.436456",
     "status": "completed"
    },
    "tags": []
   },
   "outputs": [],
   "source": [
    "# Miscoverage level for conformal prediction (10% allowed error rate => 90% target coverage)\n",
    "alpha = 0.1"
   ]
  },
  {
   "cell_type": "code",
   "execution_count": 48,
   "id": "eadf4555-3dd3-440e-8e35-f82a4ad9f855",
   "metadata": {
    "execution": {
     "iopub.execute_input": "2025-07-30T21:37:44.495442Z",
     "iopub.status.busy": "2025-07-30T21:37:44.494359Z",
     "iopub.status.idle": "2025-07-30T21:37:44.795889Z",
     "shell.execute_reply": "2025-07-30T21:37:44.794319Z"
    },
    "papermill": {
     "duration": 0.317177,
     "end_time": "2025-07-30T21:37:44.797997",
     "exception": false,
     "start_time": "2025-07-30T21:37:44.480820",
     "status": "completed"
    },
    "tags": []
   },
   "outputs": [],
   "source": [
    "probs_calib = model.predict_proba(X_calib)"
   ]
  },
  {
   "cell_type": "code",
   "execution_count": 49,
   "id": "2ed93547-6d5d-4983-9b36-1ecb300da49a",
   "metadata": {
    "execution": {
     "iopub.execute_input": "2025-07-30T21:37:44.850118Z",
     "iopub.status.busy": "2025-07-30T21:37:44.849592Z",
     "iopub.status.idle": "2025-07-30T21:37:44.855515Z",
     "shell.execute_reply": "2025-07-30T21:37:44.854488Z"
    },
    "papermill": {
     "duration": 0.033469,
     "end_time": "2025-07-30T21:37:44.857380",
     "exception": false,
     "start_time": "2025-07-30T21:37:44.823911",
     "status": "completed"
    },
    "tags": []
   },
   "outputs": [],
   "source": [
    "y_calib = y_calib.values.ravel().astype(int)"
   ]
  },
  {
   "cell_type": "code",
   "execution_count": 50,
   "id": "65d1320d-f588-4b38-9072-62af1ae97f7d",
   "metadata": {
    "execution": {
     "iopub.execute_input": "2025-07-30T21:37:44.909918Z",
     "iopub.status.busy": "2025-07-30T21:37:44.909414Z",
     "iopub.status.idle": "2025-07-30T21:37:44.917010Z",
     "shell.execute_reply": "2025-07-30T21:37:44.915878Z"
    },
    "papermill": {
     "duration": 0.035953,
     "end_time": "2025-07-30T21:37:44.918965",
     "exception": false,
     "start_time": "2025-07-30T21:37:44.883012",
     "status": "completed"
    },
    "tags": []
   },
   "outputs": [],
   "source": [
    "from fairness_multiverse.conformal import compute_nc_scores\n",
    "\n",
    "# Compute nonconformity scores on calibration set (1 - probability of true class)\n",
    "nc_scores = compute_nc_scores(probs_calib, y_calib)"
   ]
  },
  {
   "cell_type": "code",
   "execution_count": 51,
   "id": "df3b8ca3-53b7-43d5-9667-7c85da7aeda2",
   "metadata": {
    "execution": {
     "iopub.execute_input": "2025-07-30T21:37:44.971523Z",
     "iopub.status.busy": "2025-07-30T21:37:44.971026Z",
     "iopub.status.idle": "2025-07-30T21:37:44.978486Z",
     "shell.execute_reply": "2025-07-30T21:37:44.977600Z"
    },
    "papermill": {
     "duration": 0.03489,
     "end_time": "2025-07-30T21:37:44.979803",
     "exception": false,
     "start_time": "2025-07-30T21:37:44.944913",
     "status": "completed"
    },
    "tags": []
   },
   "outputs": [],
   "source": [
    "from fairness_multiverse.conformal import find_threshold\n",
    "\n",
    "# Find conformal threshold q_hat for the given alpha (split conformal method)\n",
    "q_hat = find_threshold(nc_scores, alpha)"
   ]
  },
  {
   "cell_type": "code",
   "execution_count": 52,
   "id": "4d29e6c1-0ef6-4aa4-b8fe-4fe79b0d033a",
   "metadata": {
    "execution": {
     "iopub.execute_input": "2025-07-30T21:37:45.032316Z",
     "iopub.status.busy": "2025-07-30T21:37:45.031212Z",
     "iopub.status.idle": "2025-07-30T21:37:45.039695Z",
     "shell.execute_reply": "2025-07-30T21:37:45.038121Z"
    },
    "papermill": {
     "duration": 0.036928,
     "end_time": "2025-07-30T21:37:45.041453",
     "exception": false,
     "start_time": "2025-07-30T21:37:45.004525",
     "status": "completed"
    },
    "tags": []
   },
   "outputs": [
    {
     "data": {
      "text/plain": [
       "0.7903747671600285"
      ]
     },
     "execution_count": 52,
     "metadata": {},
     "output_type": "execute_result"
    }
   ],
   "source": [
    "q_hat"
   ]
  },
  {
   "cell_type": "code",
   "execution_count": 53,
   "id": "92460794-cdac-4be2-ba28-f28c0515a6fb",
   "metadata": {
    "execution": {
     "iopub.execute_input": "2025-07-30T21:37:45.094744Z",
     "iopub.status.busy": "2025-07-30T21:37:45.094281Z",
     "iopub.status.idle": "2025-07-30T21:37:45.984342Z",
     "shell.execute_reply": "2025-07-30T21:37:45.983416Z"
    },
    "papermill": {
     "duration": 0.919434,
     "end_time": "2025-07-30T21:37:45.986188",
     "exception": false,
     "start_time": "2025-07-30T21:37:45.066754",
     "status": "completed"
    },
    "tags": []
   },
   "outputs": [],
   "source": [
    "from fairness_multiverse.conformal import predict_conformal_sets\n",
    "\n",
    "# Generate prediction sets for each test example\n",
    "pred_sets = predict_conformal_sets(model, X_test, q_hat)"
   ]
  },
  {
   "cell_type": "code",
   "execution_count": 54,
   "id": "d90c9a65-e6db-4f5d-80cd-e68fb7e46829",
   "metadata": {
    "execution": {
     "iopub.execute_input": "2025-07-30T21:37:46.037296Z",
     "iopub.status.busy": "2025-07-30T21:37:46.036784Z",
     "iopub.status.idle": "2025-07-30T21:37:46.042324Z",
     "shell.execute_reply": "2025-07-30T21:37:46.041380Z"
    },
    "papermill": {
     "duration": 0.031965,
     "end_time": "2025-07-30T21:37:46.044004",
     "exception": false,
     "start_time": "2025-07-30T21:37:46.012039",
     "status": "completed"
    },
    "tags": []
   },
   "outputs": [],
   "source": [
    "y_true = y_true.squeeze()"
   ]
  },
  {
   "cell_type": "code",
   "execution_count": 55,
   "id": "3a58a54a-1e68-46b9-927a-df01f18aebc8",
   "metadata": {
    "execution": {
     "iopub.execute_input": "2025-07-30T21:37:46.094036Z",
     "iopub.status.busy": "2025-07-30T21:37:46.093343Z",
     "iopub.status.idle": "2025-07-30T21:37:47.016698Z",
     "shell.execute_reply": "2025-07-30T21:37:47.015819Z"
    },
    "papermill": {
     "duration": 0.950503,
     "end_time": "2025-07-30T21:37:47.018518",
     "exception": false,
     "start_time": "2025-07-30T21:37:46.068015",
     "status": "completed"
    },
    "tags": []
   },
   "outputs": [],
   "source": [
    "from fairness_multiverse.conformal import evaluate_sets\n",
    "\n",
    "# Evaluate coverage and average set size on test data\n",
    "metrics = evaluate_sets(pred_sets, y_true)"
   ]
  },
  {
   "cell_type": "markdown",
   "id": "2b569c12-9aaa-4c88-98c9-bbcd0cf3ebb8",
   "metadata": {
    "papermill": {
     "duration": 0.02322,
     "end_time": "2025-07-30T21:37:47.064684",
     "exception": false,
     "start_time": "2025-07-30T21:37:47.041464",
     "status": "completed"
    },
    "tags": []
   },
   "source": [
    "# CP Metrics"
   ]
  },
  {
   "cell_type": "code",
   "execution_count": 56,
   "id": "5ce0a5cb-201f-45a0-ade5-94c7f0bd6095",
   "metadata": {
    "execution": {
     "iopub.execute_input": "2025-07-30T21:37:47.113190Z",
     "iopub.status.busy": "2025-07-30T21:37:47.112626Z",
     "iopub.status.idle": "2025-07-30T21:37:47.119558Z",
     "shell.execute_reply": "2025-07-30T21:37:47.118677Z"
    },
    "papermill": {
     "duration": 0.032267,
     "end_time": "2025-07-30T21:37:47.120955",
     "exception": false,
     "start_time": "2025-07-30T21:37:47.088688",
     "status": "completed"
    },
    "tags": []
   },
   "outputs": [
    {
     "data": {
      "text/plain": [
       "{'coverage': 0.9085720655445324, 'avg_size': 1.2323152379890758}"
      ]
     },
     "execution_count": 56,
     "metadata": {},
     "output_type": "execute_result"
    }
   ],
   "source": [
    "metrics"
   ]
  },
  {
   "cell_type": "code",
   "execution_count": 57,
   "id": "9b9a838d-31c9-430b-ae14-12baee460d17",
   "metadata": {
    "execution": {
     "iopub.execute_input": "2025-07-30T21:37:47.168850Z",
     "iopub.status.busy": "2025-07-30T21:37:47.168396Z",
     "iopub.status.idle": "2025-07-30T21:37:47.175305Z",
     "shell.execute_reply": "2025-07-30T21:37:47.174415Z"
    },
    "papermill": {
     "duration": 0.032905,
     "end_time": "2025-07-30T21:37:47.176857",
     "exception": false,
     "start_time": "2025-07-30T21:37:47.143952",
     "status": "completed"
    },
    "tags": []
   },
   "outputs": [],
   "source": [
    "example_universe = universe.copy()\n",
    "universe_training_year = example_universe.get(\"training_year\")\n",
    "universe_training_size = example_universe.get(\"training_size\")\n",
    "universe_scale = example_universe.get(\"scale\")\n",
    "universe_model = example_universe.get(\"model\")\n",
    "universe_exclude_features = example_universe.get(\"exclude_features\")\n",
    "universe_exclude_subgroups = example_universe.get(\"exclude_subgroups\")"
   ]
  },
  {
   "cell_type": "code",
   "execution_count": 58,
   "id": "f4b6a8ac-9dc0-4245-8a91-5b3b5999c4f9",
   "metadata": {
    "execution": {
     "iopub.execute_input": "2025-07-30T21:37:47.225067Z",
     "iopub.status.busy": "2025-07-30T21:37:47.224592Z",
     "iopub.status.idle": "2025-07-30T21:37:47.230970Z",
     "shell.execute_reply": "2025-07-30T21:37:47.230144Z"
    },
    "papermill": {
     "duration": 0.0315,
     "end_time": "2025-07-30T21:37:47.232740",
     "exception": false,
     "start_time": "2025-07-30T21:37:47.201240",
     "status": "completed"
    },
    "tags": []
   },
   "outputs": [],
   "source": [
    "cp_metrics_dict = {\n",
    "    \"universe_id\": [universe_id],\n",
    "    \"universe_training_year\": [universe_training_year],\n",
    "    \"universe_training_size\": [universe_training_size],\n",
    "    \"universe_scale\": [universe_scale],\n",
    "    \"universe_model\": [universe_model],\n",
    "    \"universe_exclude_features\": [universe_exclude_features],\n",
    "    \"universe_exclude_subgroups\": [universe_exclude_subgroups],\n",
    "    \"q_hat\": [q_hat],\n",
    "    \"coverage\": [metrics[\"coverage\"]],\n",
    "    \"avg_size\": [metrics[\"avg_size\"]],\n",
    "}"
   ]
  },
  {
   "cell_type": "code",
   "execution_count": 59,
   "id": "908acbb1-0371-4915-85ca-3fa520d2efe2",
   "metadata": {
    "execution": {
     "iopub.execute_input": "2025-07-30T21:37:47.281279Z",
     "iopub.status.busy": "2025-07-30T21:37:47.280808Z",
     "iopub.status.idle": "2025-07-30T21:37:47.287896Z",
     "shell.execute_reply": "2025-07-30T21:37:47.286997Z"
    },
    "papermill": {
     "duration": 0.033078,
     "end_time": "2025-07-30T21:37:47.289455",
     "exception": false,
     "start_time": "2025-07-30T21:37:47.256377",
     "status": "completed"
    },
    "tags": []
   },
   "outputs": [
    {
     "data": {
      "text/plain": [
       "{'universe_id': ['5ed6915b873bdb5587ed906a81b5bdfa'],\n",
       " 'universe_training_year': ['2012_14'],\n",
       " 'universe_training_size': ['1k'],\n",
       " 'universe_scale': ['scale'],\n",
       " 'universe_model': ['elasticnet'],\n",
       " 'universe_exclude_features': ['sex'],\n",
       " 'universe_exclude_subgroups': ['keep-all'],\n",
       " 'q_hat': [0.7903747671600285],\n",
       " 'coverage': [0.9085720655445324],\n",
       " 'avg_size': [1.2323152379890758]}"
      ]
     },
     "execution_count": 59,
     "metadata": {},
     "output_type": "execute_result"
    }
   ],
   "source": [
    "cp_metrics_dict"
   ]
  },
  {
   "cell_type": "code",
   "execution_count": 60,
   "id": "33007efc-14e9-4ec6-97ac-56a455c82265",
   "metadata": {
    "execution": {
     "iopub.execute_input": "2025-07-30T21:37:47.340585Z",
     "iopub.status.busy": "2025-07-30T21:37:47.340151Z",
     "iopub.status.idle": "2025-07-30T21:37:47.346732Z",
     "shell.execute_reply": "2025-07-30T21:37:47.345819Z"
    },
    "papermill": {
     "duration": 0.034103,
     "end_time": "2025-07-30T21:37:47.348298",
     "exception": false,
     "start_time": "2025-07-30T21:37:47.314195",
     "status": "completed"
    },
    "tags": []
   },
   "outputs": [],
   "source": [
    "cp_metrics_df = pd.DataFrame(cp_metrics_dict)"
   ]
  },
  {
   "cell_type": "code",
   "execution_count": 61,
   "id": "db12611b-57b2-4910-b9d0-355adfd6e7bf",
   "metadata": {
    "execution": {
     "iopub.execute_input": "2025-07-30T21:37:47.398908Z",
     "iopub.status.busy": "2025-07-30T21:37:47.397943Z",
     "iopub.status.idle": "2025-07-30T21:37:47.417294Z",
     "shell.execute_reply": "2025-07-30T21:37:47.416253Z"
    },
    "papermill": {
     "duration": 0.046445,
     "end_time": "2025-07-30T21:37:47.418905",
     "exception": false,
     "start_time": "2025-07-30T21:37:47.372460",
     "status": "completed"
    },
    "tags": []
   },
   "outputs": [
    {
     "data": {
      "text/html": [
       "<div>\n",
       "<style scoped>\n",
       "    .dataframe tbody tr th:only-of-type {\n",
       "        vertical-align: middle;\n",
       "    }\n",
       "\n",
       "    .dataframe tbody tr th {\n",
       "        vertical-align: top;\n",
       "    }\n",
       "\n",
       "    .dataframe thead th {\n",
       "        text-align: right;\n",
       "    }\n",
       "</style>\n",
       "<table border=\"1\" class=\"dataframe\">\n",
       "  <thead>\n",
       "    <tr style=\"text-align: right;\">\n",
       "      <th></th>\n",
       "      <th>universe_id</th>\n",
       "      <th>universe_training_year</th>\n",
       "      <th>universe_training_size</th>\n",
       "      <th>universe_scale</th>\n",
       "      <th>universe_model</th>\n",
       "      <th>universe_exclude_features</th>\n",
       "      <th>universe_exclude_subgroups</th>\n",
       "      <th>q_hat</th>\n",
       "      <th>coverage</th>\n",
       "      <th>avg_size</th>\n",
       "    </tr>\n",
       "  </thead>\n",
       "  <tbody>\n",
       "    <tr>\n",
       "      <th>0</th>\n",
       "      <td>5ed6915b873bdb5587ed906a81b5bdfa</td>\n",
       "      <td>2012_14</td>\n",
       "      <td>1k</td>\n",
       "      <td>scale</td>\n",
       "      <td>elasticnet</td>\n",
       "      <td>sex</td>\n",
       "      <td>keep-all</td>\n",
       "      <td>0.790375</td>\n",
       "      <td>0.908572</td>\n",
       "      <td>1.232315</td>\n",
       "    </tr>\n",
       "  </tbody>\n",
       "</table>\n",
       "</div>"
      ],
      "text/plain": [
       "                        universe_id universe_training_year  \\\n",
       "0  5ed6915b873bdb5587ed906a81b5bdfa                2012_14   \n",
       "\n",
       "  universe_training_size universe_scale universe_model  \\\n",
       "0                     1k          scale     elasticnet   \n",
       "\n",
       "  universe_exclude_features universe_exclude_subgroups     q_hat  coverage  \\\n",
       "0                       sex                   keep-all  0.790375  0.908572   \n",
       "\n",
       "   avg_size  \n",
       "0  1.232315  "
      ]
     },
     "execution_count": 61,
     "metadata": {},
     "output_type": "execute_result"
    }
   ],
   "source": [
    "cp_metrics_df"
   ]
  },
  {
   "cell_type": "code",
   "execution_count": 62,
   "id": "b7fbde55-a0a1-47e4-9af6-fe4a17fa8c61",
   "metadata": {
    "execution": {
     "iopub.execute_input": "2025-07-30T21:37:47.470611Z",
     "iopub.status.busy": "2025-07-30T21:37:47.470115Z",
     "iopub.status.idle": "2025-07-30T21:37:47.475387Z",
     "shell.execute_reply": "2025-07-30T21:37:47.474505Z"
    },
    "papermill": {
     "duration": 0.032803,
     "end_time": "2025-07-30T21:37:47.477387",
     "exception": false,
     "start_time": "2025-07-30T21:37:47.444584",
     "status": "completed"
    },
    "tags": []
   },
   "outputs": [],
   "source": [
    "# Conditional Coverage & looking at subgroups"
   ]
  },
  {
   "cell_type": "code",
   "execution_count": 63,
   "id": "027ae886-68dd-4141-96c7-805a5450e1ef",
   "metadata": {
    "execution": {
     "iopub.execute_input": "2025-07-30T21:37:47.529521Z",
     "iopub.status.busy": "2025-07-30T21:37:47.529019Z",
     "iopub.status.idle": "2025-07-30T21:37:47.790271Z",
     "shell.execute_reply": "2025-07-30T21:37:47.789370Z"
    },
    "papermill": {
     "duration": 0.288678,
     "end_time": "2025-07-30T21:37:47.792211",
     "exception": false,
     "start_time": "2025-07-30T21:37:47.503533",
     "status": "completed"
    },
    "tags": []
   },
   "outputs": [],
   "source": [
    "from fairness_multiverse.conformal import build_cp_groups\n",
    "\n",
    "cp_groups_df = build_cp_groups(pred_sets, y_true, X_test.index, org_test)\n",
    "#needs universe_id and setting"
   ]
  },
  {
   "cell_type": "code",
   "execution_count": 64,
   "id": "01d5802c-663a-4d1f-9d69-e036faaffbf7",
   "metadata": {
    "execution": {
     "iopub.execute_input": "2025-07-30T21:37:47.843208Z",
     "iopub.status.busy": "2025-07-30T21:37:47.842378Z",
     "iopub.status.idle": "2025-07-30T21:37:47.847214Z",
     "shell.execute_reply": "2025-07-30T21:37:47.846406Z"
    },
    "papermill": {
     "duration": 0.032893,
     "end_time": "2025-07-30T21:37:47.848814",
     "exception": false,
     "start_time": "2025-07-30T21:37:47.815921",
     "status": "completed"
    },
    "tags": []
   },
   "outputs": [],
   "source": [
    "#delete\n",
    "#cp_groups_df"
   ]
  },
  {
   "cell_type": "code",
   "execution_count": 65,
   "id": "fa424af1-d1eb-443d-b717-2d279ada8408",
   "metadata": {
    "execution": {
     "iopub.execute_input": "2025-07-30T21:37:47.907506Z",
     "iopub.status.busy": "2025-07-30T21:37:47.906854Z",
     "iopub.status.idle": "2025-07-30T21:37:47.912192Z",
     "shell.execute_reply": "2025-07-30T21:37:47.911115Z"
    },
    "papermill": {
     "duration": 0.038222,
     "end_time": "2025-07-30T21:37:47.914112",
     "exception": false,
     "start_time": "2025-07-30T21:37:47.875890",
     "status": "completed"
    },
    "tags": []
   },
   "outputs": [],
   "source": [
    "#delete\n",
    "#percentage = (cp_groups_df['nongerman_female'] == 1).mean() * 100\n",
    "#print(percentage)\n"
   ]
  },
  {
   "cell_type": "code",
   "execution_count": 66,
   "id": "6cbdab96-b2b2-45af-ad54-d0516db2e28d",
   "metadata": {
    "execution": {
     "iopub.execute_input": "2025-07-30T21:37:47.984621Z",
     "iopub.status.busy": "2025-07-30T21:37:47.984113Z",
     "iopub.status.idle": "2025-07-30T21:37:49.833719Z",
     "shell.execute_reply": "2025-07-30T21:37:49.832674Z"
    },
    "papermill": {
     "duration": 1.885548,
     "end_time": "2025-07-30T21:37:49.835696",
     "exception": false,
     "start_time": "2025-07-30T21:37:47.950148",
     "status": "completed"
    },
    "tags": []
   },
   "outputs": [],
   "source": [
    "# Define covered = 1 if true_label is in the predicted set\n",
    "cp_groups_df['covered'] = cp_groups_df.apply(\n",
    "    lambda r: int(r['true_label'] in r['pred_set']),\n",
    "    axis=1\n",
    ")"
   ]
  },
  {
   "cell_type": "code",
   "execution_count": 67,
   "id": "338ff529-1a6b-4b87-a931-8e4788d52aad",
   "metadata": {
    "execution": {
     "iopub.execute_input": "2025-07-30T21:37:49.882070Z",
     "iopub.status.busy": "2025-07-30T21:37:49.881557Z",
     "iopub.status.idle": "2025-07-30T21:37:49.887206Z",
     "shell.execute_reply": "2025-07-30T21:37:49.886220Z"
    },
    "papermill": {
     "duration": 0.026042,
     "end_time": "2025-07-30T21:37:49.888767",
     "exception": false,
     "start_time": "2025-07-30T21:37:49.862725",
     "status": "completed"
    },
    "tags": []
   },
   "outputs": [],
   "source": [
    "#cp_groups_df"
   ]
  },
  {
   "cell_type": "code",
   "execution_count": 68,
   "id": "90032e27-66df-4540-9169-4e89cfbaa758",
   "metadata": {
    "execution": {
     "iopub.execute_input": "2025-07-30T21:37:49.929386Z",
     "iopub.status.busy": "2025-07-30T21:37:49.928888Z",
     "iopub.status.idle": "2025-07-30T21:37:49.942612Z",
     "shell.execute_reply": "2025-07-30T21:37:49.941628Z"
    },
    "papermill": {
     "duration": 0.040799,
     "end_time": "2025-07-30T21:37:49.944342",
     "exception": false,
     "start_time": "2025-07-30T21:37:49.903543",
     "status": "completed"
    },
    "tags": []
   },
   "outputs": [],
   "source": [
    "subgroups = ['frau1','nongerman','nongerman_male','nongerman_female']\n",
    "\n",
    "# Conditional coverage for subgroup==1\n",
    "cond_coverage = {\n",
    "    g: cp_groups_df.loc[cp_groups_df[g]==1, 'covered'].mean()\n",
    "    for g in subgroups\n",
    "}"
   ]
  },
  {
   "cell_type": "code",
   "execution_count": 69,
   "id": "1e348fb1-b9c3-45bc-ba23-f016827a7e0d",
   "metadata": {
    "execution": {
     "iopub.execute_input": "2025-07-30T21:37:50.002704Z",
     "iopub.status.busy": "2025-07-30T21:37:50.001702Z",
     "iopub.status.idle": "2025-07-30T21:37:50.011059Z",
     "shell.execute_reply": "2025-07-30T21:37:50.010017Z"
    },
    "papermill": {
     "duration": 0.040752,
     "end_time": "2025-07-30T21:37:50.013268",
     "exception": false,
     "start_time": "2025-07-30T21:37:49.972516",
     "status": "completed"
    },
    "tags": []
   },
   "outputs": [
    {
     "data": {
      "text/plain": [
       "{'frau1': 0.904542391157838,\n",
       " 'nongerman': 0.9131533149946668,\n",
       " 'nongerman_male': 0.9281275330991624,\n",
       " 'nongerman_female': 0.8883755588673622}"
      ]
     },
     "execution_count": 69,
     "metadata": {},
     "output_type": "execute_result"
    }
   ],
   "source": [
    "cond_coverage"
   ]
  },
  {
   "cell_type": "code",
   "execution_count": 70,
   "id": "f5093324-c3dd-4d63-bc4c-8d945e5c8bbb",
   "metadata": {
    "execution": {
     "iopub.execute_input": "2025-07-30T21:37:50.092740Z",
     "iopub.status.busy": "2025-07-30T21:37:50.092137Z",
     "iopub.status.idle": "2025-07-30T21:37:50.101261Z",
     "shell.execute_reply": "2025-07-30T21:37:50.100023Z"
    },
    "papermill": {
     "duration": 0.052147,
     "end_time": "2025-07-30T21:37:50.103535",
     "exception": false,
     "start_time": "2025-07-30T21:37:50.051388",
     "status": "completed"
    },
    "tags": []
   },
   "outputs": [],
   "source": [
    "for subgroup, cov in cond_coverage.items():\n",
    "    cp_metrics_df[f\"cov_{subgroup}\"] = cov"
   ]
  },
  {
   "cell_type": "code",
   "execution_count": 71,
   "id": "6e872e10-dbe5-49e8-b554-5030c98ff75d",
   "metadata": {
    "execution": {
     "iopub.execute_input": "2025-07-30T21:37:50.184383Z",
     "iopub.status.busy": "2025-07-30T21:37:50.183823Z",
     "iopub.status.idle": "2025-07-30T21:37:50.203059Z",
     "shell.execute_reply": "2025-07-30T21:37:50.202149Z"
    },
    "papermill": {
     "duration": 0.060958,
     "end_time": "2025-07-30T21:37:50.205037",
     "exception": false,
     "start_time": "2025-07-30T21:37:50.144079",
     "status": "completed"
    },
    "tags": []
   },
   "outputs": [
    {
     "data": {
      "text/html": [
       "<div>\n",
       "<style scoped>\n",
       "    .dataframe tbody tr th:only-of-type {\n",
       "        vertical-align: middle;\n",
       "    }\n",
       "\n",
       "    .dataframe tbody tr th {\n",
       "        vertical-align: top;\n",
       "    }\n",
       "\n",
       "    .dataframe thead th {\n",
       "        text-align: right;\n",
       "    }\n",
       "</style>\n",
       "<table border=\"1\" class=\"dataframe\">\n",
       "  <thead>\n",
       "    <tr style=\"text-align: right;\">\n",
       "      <th></th>\n",
       "      <th>universe_id</th>\n",
       "      <th>universe_training_year</th>\n",
       "      <th>universe_training_size</th>\n",
       "      <th>universe_scale</th>\n",
       "      <th>universe_model</th>\n",
       "      <th>universe_exclude_features</th>\n",
       "      <th>universe_exclude_subgroups</th>\n",
       "      <th>q_hat</th>\n",
       "      <th>coverage</th>\n",
       "      <th>avg_size</th>\n",
       "      <th>cov_frau1</th>\n",
       "      <th>cov_nongerman</th>\n",
       "      <th>cov_nongerman_male</th>\n",
       "      <th>cov_nongerman_female</th>\n",
       "    </tr>\n",
       "  </thead>\n",
       "  <tbody>\n",
       "    <tr>\n",
       "      <th>0</th>\n",
       "      <td>5ed6915b873bdb5587ed906a81b5bdfa</td>\n",
       "      <td>2012_14</td>\n",
       "      <td>1k</td>\n",
       "      <td>scale</td>\n",
       "      <td>elasticnet</td>\n",
       "      <td>sex</td>\n",
       "      <td>keep-all</td>\n",
       "      <td>0.790375</td>\n",
       "      <td>0.908572</td>\n",
       "      <td>1.232315</td>\n",
       "      <td>0.904542</td>\n",
       "      <td>0.913153</td>\n",
       "      <td>0.928128</td>\n",
       "      <td>0.888376</td>\n",
       "    </tr>\n",
       "  </tbody>\n",
       "</table>\n",
       "</div>"
      ],
      "text/plain": [
       "                        universe_id universe_training_year  \\\n",
       "0  5ed6915b873bdb5587ed906a81b5bdfa                2012_14   \n",
       "\n",
       "  universe_training_size universe_scale universe_model  \\\n",
       "0                     1k          scale     elasticnet   \n",
       "\n",
       "  universe_exclude_features universe_exclude_subgroups     q_hat  coverage  \\\n",
       "0                       sex                   keep-all  0.790375  0.908572   \n",
       "\n",
       "   avg_size  cov_frau1  cov_nongerman  cov_nongerman_male  \\\n",
       "0  1.232315   0.904542       0.913153            0.928128   \n",
       "\n",
       "   cov_nongerman_female  \n",
       "0              0.888376  "
      ]
     },
     "execution_count": 71,
     "metadata": {},
     "output_type": "execute_result"
    }
   ],
   "source": [
    "cp_metrics_df"
   ]
  },
  {
   "cell_type": "markdown",
   "id": "33774451",
   "metadata": {
    "papermill": {
     "duration": 0.039677,
     "end_time": "2025-07-30T21:37:50.285001",
     "exception": false,
     "start_time": "2025-07-30T21:37:50.245324",
     "status": "completed"
    },
    "tags": []
   },
   "source": [
    "# (Fairness) Metrics"
   ]
  },
  {
   "cell_type": "code",
   "execution_count": 72,
   "id": "debc5d62",
   "metadata": {
    "execution": {
     "iopub.execute_input": "2025-07-30T21:37:50.365194Z",
     "iopub.status.busy": "2025-07-30T21:37:50.364603Z",
     "iopub.status.idle": "2025-07-30T21:37:50.387234Z",
     "shell.execute_reply": "2025-07-30T21:37:50.385997Z"
    },
    "papermill": {
     "duration": 0.064624,
     "end_time": "2025-07-30T21:37:50.389182",
     "exception": false,
     "start_time": "2025-07-30T21:37:50.324558",
     "status": "completed"
    },
    "tags": []
   },
   "outputs": [],
   "source": [
    "# do I need to include maxdeutsch1.missing?\n",
    "\n",
    "import numpy as np\n",
    "\n",
    "colname_to_bin = \"maxdeutsch1\"\n",
    "majority_value = org_train[colname_to_bin].mode()[0]\n",
    "\n",
    "org_test[\"majmin\"] = np.where(org_test[colname_to_bin] == majority_value, \"majority\", \"minority\")"
   ]
  },
  {
   "cell_type": "code",
   "execution_count": 73,
   "id": "06a50de5",
   "metadata": {
    "execution": {
     "iopub.execute_input": "2025-07-30T21:37:50.444459Z",
     "iopub.status.busy": "2025-07-30T21:37:50.443385Z",
     "iopub.status.idle": "2025-07-30T21:37:52.600520Z",
     "shell.execute_reply": "2025-07-30T21:37:52.598749Z"
    },
    "papermill": {
     "duration": 2.185852,
     "end_time": "2025-07-30T21:37:52.602065",
     "exception": false,
     "start_time": "2025-07-30T21:37:50.416213",
     "status": "completed"
    },
    "tags": []
   },
   "outputs": [],
   "source": [
    "example_universe = universe.copy()\n",
    "example_universe[\"cutoff\"] = example_universe[\"cutoff\"][0]\n",
    "example_universe[\"eval_fairness_grouping\"] = example_universe[\"eval_fairness_grouping\"][0]\n",
    "fairness_dict, metric_frame = universe_analysis.compute_metrics(\n",
    "    example_universe,\n",
    "    y_pred_prob=probs_test,\n",
    "    y_test=y_true,\n",
    "    org_test=org_test,\n",
    ")"
   ]
  },
  {
   "cell_type": "markdown",
   "id": "f95d4e02",
   "metadata": {
    "papermill": {
     "duration": 0.013118,
     "end_time": "2025-07-30T21:37:52.634796",
     "exception": false,
     "start_time": "2025-07-30T21:37:52.621678",
     "status": "completed"
    },
    "tags": []
   },
   "source": [
    "# Overall"
   ]
  },
  {
   "cell_type": "markdown",
   "id": "bdee4871",
   "metadata": {
    "papermill": {
     "duration": 0.013761,
     "end_time": "2025-07-30T21:37:52.674095",
     "exception": false,
     "start_time": "2025-07-30T21:37:52.660334",
     "status": "completed"
    },
    "tags": []
   },
   "source": [
    "Fairness\n",
    "Main fairness target: Equalized Odds. Seems to be a better fit than equal opportunity, since we're not only interested in Y = 1. Seems to be a better fit than demographic parity, since we also care about accuracy, not just equal distribution of preds.\n",
    "\n",
    "Pick column for computation of fairness metrics\n",
    "\n",
    "Performance\n",
    "Overall performance measures, most interesting in relation to the measures split by group below"
   ]
  },
  {
   "cell_type": "code",
   "execution_count": 74,
   "id": "c4e067c6",
   "metadata": {
    "execution": {
     "iopub.execute_input": "2025-07-30T21:37:52.703665Z",
     "iopub.status.busy": "2025-07-30T21:37:52.703151Z",
     "iopub.status.idle": "2025-07-30T21:37:52.712311Z",
     "shell.execute_reply": "2025-07-30T21:37:52.711310Z"
    },
    "papermill": {
     "duration": 0.026108,
     "end_time": "2025-07-30T21:37:52.714175",
     "exception": false,
     "start_time": "2025-07-30T21:37:52.688067",
     "status": "completed"
    },
    "tags": []
   },
   "outputs": [
    {
     "data": {
      "text/plain": [
       "accuracy                   0.217936\n",
       "balanced accuracy          0.534231\n",
       "f1                         0.239444\n",
       "precision                  0.136786\n",
       "false positive rate        0.891218\n",
       "false negative rate        0.040320\n",
       "selection rate             0.900000\n",
       "count                  89710.000000\n",
       "dtype: float64"
      ]
     },
     "execution_count": 74,
     "metadata": {},
     "output_type": "execute_result"
    }
   ],
   "source": [
    "metric_frame.overall"
   ]
  },
  {
   "cell_type": "markdown",
   "id": "e968fe9d",
   "metadata": {
    "papermill": {
     "duration": 0.027538,
     "end_time": "2025-07-30T21:37:52.760568",
     "exception": false,
     "start_time": "2025-07-30T21:37:52.733030",
     "status": "completed"
    },
    "tags": []
   },
   "source": [
    "By Group"
   ]
  },
  {
   "cell_type": "code",
   "execution_count": 75,
   "id": "ec325bce",
   "metadata": {
    "execution": {
     "iopub.execute_input": "2025-07-30T21:37:52.817492Z",
     "iopub.status.busy": "2025-07-30T21:37:52.817058Z",
     "iopub.status.idle": "2025-07-30T21:37:52.830411Z",
     "shell.execute_reply": "2025-07-30T21:37:52.829356Z"
    },
    "papermill": {
     "duration": 0.039067,
     "end_time": "2025-07-30T21:37:52.832086",
     "exception": false,
     "start_time": "2025-07-30T21:37:52.793019",
     "status": "completed"
    },
    "tags": []
   },
   "outputs": [
    {
     "data": {
      "text/html": [
       "<div>\n",
       "<style scoped>\n",
       "    .dataframe tbody tr th:only-of-type {\n",
       "        vertical-align: middle;\n",
       "    }\n",
       "\n",
       "    .dataframe tbody tr th {\n",
       "        vertical-align: top;\n",
       "    }\n",
       "\n",
       "    .dataframe thead th {\n",
       "        text-align: right;\n",
       "    }\n",
       "</style>\n",
       "<table border=\"1\" class=\"dataframe\">\n",
       "  <thead>\n",
       "    <tr style=\"text-align: right;\">\n",
       "      <th></th>\n",
       "      <th>accuracy</th>\n",
       "      <th>balanced accuracy</th>\n",
       "      <th>f1</th>\n",
       "      <th>precision</th>\n",
       "      <th>false positive rate</th>\n",
       "      <th>false negative rate</th>\n",
       "      <th>selection rate</th>\n",
       "      <th>count</th>\n",
       "    </tr>\n",
       "    <tr>\n",
       "      <th>majmin</th>\n",
       "      <th></th>\n",
       "      <th></th>\n",
       "      <th></th>\n",
       "      <th></th>\n",
       "      <th></th>\n",
       "      <th></th>\n",
       "      <th></th>\n",
       "      <th></th>\n",
       "    </tr>\n",
       "  </thead>\n",
       "  <tbody>\n",
       "    <tr>\n",
       "      <th>majority</th>\n",
       "      <td>0.236620</td>\n",
       "      <td>0.540439</td>\n",
       "      <td>0.248153</td>\n",
       "      <td>0.142640</td>\n",
       "      <td>0.872514</td>\n",
       "      <td>0.046608</td>\n",
       "      <td>0.883201</td>\n",
       "      <td>69170.0</td>\n",
       "    </tr>\n",
       "    <tr>\n",
       "      <th>minority</th>\n",
       "      <td>0.155015</td>\n",
       "      <td>0.515474</td>\n",
       "      <td>0.211664</td>\n",
       "      <td>0.118587</td>\n",
       "      <td>0.953005</td>\n",
       "      <td>0.016047</td>\n",
       "      <td>0.956573</td>\n",
       "      <td>20540.0</td>\n",
       "    </tr>\n",
       "  </tbody>\n",
       "</table>\n",
       "</div>"
      ],
      "text/plain": [
       "          accuracy  balanced accuracy        f1  precision  \\\n",
       "majmin                                                       \n",
       "majority  0.236620           0.540439  0.248153   0.142640   \n",
       "minority  0.155015           0.515474  0.211664   0.118587   \n",
       "\n",
       "          false positive rate  false negative rate  selection rate    count  \n",
       "majmin                                                                       \n",
       "majority             0.872514             0.046608        0.883201  69170.0  \n",
       "minority             0.953005             0.016047        0.956573  20540.0  "
      ]
     },
     "execution_count": 75,
     "metadata": {},
     "output_type": "execute_result"
    }
   ],
   "source": [
    "metric_frame.by_group"
   ]
  },
  {
   "cell_type": "code",
   "execution_count": 76,
   "id": "a9ddbe63",
   "metadata": {
    "execution": {
     "iopub.execute_input": "2025-07-30T21:37:52.862957Z",
     "iopub.status.busy": "2025-07-30T21:37:52.862563Z",
     "iopub.status.idle": "2025-07-30T21:37:55.097659Z",
     "shell.execute_reply": "2025-07-30T21:37:55.096717Z"
    },
    "papermill": {
     "duration": 2.251826,
     "end_time": "2025-07-30T21:37:55.099023",
     "exception": false,
     "start_time": "2025-07-30T21:37:52.847197",
     "status": "completed"
    },
    "tags": []
   },
   "outputs": [
    {
     "data": {
      "text/plain": [
       "array([[<Axes: title={'center': 'accuracy'}, xlabel='majmin'>,\n",
       "        <Axes: title={'center': 'balanced accuracy'}, xlabel='majmin'>,\n",
       "        <Axes: title={'center': 'f1'}, xlabel='majmin'>],\n",
       "       [<Axes: title={'center': 'precision'}, xlabel='majmin'>,\n",
       "        <Axes: title={'center': 'false positive rate'}, xlabel='majmin'>,\n",
       "        <Axes: title={'center': 'false negative rate'}, xlabel='majmin'>],\n",
       "       [<Axes: title={'center': 'selection rate'}, xlabel='majmin'>,\n",
       "        <Axes: title={'center': 'count'}, xlabel='majmin'>,\n",
       "        <Axes: xlabel='majmin'>]], dtype=object)"
      ]
     },
     "execution_count": 76,
     "metadata": {},
     "output_type": "execute_result"
    },
    {
     "data": {
      "image/png": "[encoded data removed]",
      "text/plain": [
       "<Figure size 1200x800 with 9 Axes>"
      ]
     },
     "metadata": {},
     "output_type": "display_data"
    }
   ],
   "source": [
    "# In a graphic\n",
    "metric_frame.by_group.plot.bar(\n",
    "    subplots=True,\n",
    "    layout=[3, 3],\n",
    "    legend=False,\n",
    "    figsize=[12, 8],\n",
    "    title=\"Show all metrics\",\n",
    ")"
   ]
  },
  {
   "cell_type": "markdown",
   "id": "f57a0bac",
   "metadata": {
    "papermill": {
     "duration": 0.029502,
     "end_time": "2025-07-30T21:37:55.160224",
     "exception": false,
     "start_time": "2025-07-30T21:37:55.130722",
     "status": "completed"
    },
    "tags": []
   },
   "source": [
    "# Final Output"
   ]
  },
  {
   "cell_type": "code",
   "execution_count": 77,
   "id": "96d280a3",
   "metadata": {
    "execution": {
     "iopub.execute_input": "2025-07-30T21:37:55.221191Z",
     "iopub.status.busy": "2025-07-30T21:37:55.220569Z",
     "iopub.status.idle": "2025-07-30T21:37:55.227890Z",
     "shell.execute_reply": "2025-07-30T21:37:55.227190Z"
    },
    "papermill": {
     "duration": 0.039372,
     "end_time": "2025-07-30T21:37:55.229120",
     "exception": false,
     "start_time": "2025-07-30T21:37:55.189748",
     "status": "completed"
    },
    "tags": []
   },
   "outputs": [
    {
     "data": {
      "text/plain": [
       "4"
      ]
     },
     "execution_count": 77,
     "metadata": {},
     "output_type": "execute_result"
    }
   ],
   "source": [
    "sub_universes = universe_analysis.generate_sub_universes()\n",
    "len(sub_universes)"
   ]
  },
  {
   "cell_type": "code",
   "execution_count": 78,
   "id": "92adf7ba",
   "metadata": {
    "execution": {
     "iopub.execute_input": "2025-07-30T21:37:55.261720Z",
     "iopub.status.busy": "2025-07-30T21:37:55.261282Z",
     "iopub.status.idle": "2025-07-30T21:37:55.285859Z",
     "shell.execute_reply": "2025-07-30T21:37:55.285053Z"
    },
    "papermill": {
     "duration": 0.041549,
     "end_time": "2025-07-30T21:37:55.287452",
     "exception": false,
     "start_time": "2025-07-30T21:37:55.245903",
     "status": "completed"
    },
    "tags": []
   },
   "outputs": [],
   "source": [
    "def filter_sub_universe_data(sub_universe, org_test):\n",
    "    # Keep all rows — no filtering\n",
    "    keep_rows_mask = np.ones(org_test.shape[0], dtype=bool)\n",
    "\n",
    "    print(f\"[INFO] Keeping all rows: {keep_rows_mask.sum()} rows retained.\")\n",
    "    return keep_rows_mask"
   ]
  },
  {
   "cell_type": "code",
   "execution_count": 79,
   "id": "4a759155",
   "metadata": {
    "execution": {
     "iopub.execute_input": "2025-07-30T21:37:55.353437Z",
     "iopub.status.busy": "2025-07-30T21:37:55.352998Z",
     "iopub.status.idle": "2025-07-30T21:38:03.827546Z",
     "shell.execute_reply": "2025-07-30T21:38:03.826406Z"
    },
    "papermill": {
     "duration": 8.508725,
     "end_time": "2025-07-30T21:38:03.829156",
     "exception": false,
     "start_time": "2025-07-30T21:37:55.320431",
     "status": "completed"
    },
    "tags": []
   },
   "outputs": [
    {
     "name": "stdout",
     "output_type": "stream",
     "text": [
      "Stopping execution_time clock.\n",
      "[INFO] Keeping all rows: 89710 rows retained.\n"
     ]
    },
    {
     "name": "stdout",
     "output_type": "stream",
     "text": [
      "[INFO] Keeping all rows: 89710 rows retained.\n"
     ]
    },
    {
     "name": "stdout",
     "output_type": "stream",
     "text": [
      "[INFO] Keeping all rows: 89710 rows retained.\n"
     ]
    },
    {
     "name": "stdout",
     "output_type": "stream",
     "text": [
      "[INFO] Keeping all rows: 89710 rows retained.\n"
     ]
    },
    {
     "data": {
      "text/html": [
       "<div>\n",
       "<style scoped>\n",
       "    .dataframe tbody tr th:only-of-type {\n",
       "        vertical-align: middle;\n",
       "    }\n",
       "\n",
       "    .dataframe tbody tr th {\n",
       "        vertical-align: top;\n",
       "    }\n",
       "\n",
       "    .dataframe thead th {\n",
       "        text-align: right;\n",
       "    }\n",
       "</style>\n",
       "<table border=\"1\" class=\"dataframe\">\n",
       "  <thead>\n",
       "    <tr style=\"text-align: right;\">\n",
       "      <th></th>\n",
       "      <th>run_no</th>\n",
       "      <th>universe_id</th>\n",
       "      <th>universe_settings</th>\n",
       "      <th>execution_time</th>\n",
       "      <th>test_size_n</th>\n",
       "      <th>test_size_frac</th>\n",
       "      <th>fair_main_equalized_odds_difference</th>\n",
       "      <th>fair_main_equalized_odds_ratio</th>\n",
       "      <th>fair_main_demographic_parity_difference</th>\n",
       "      <th>fair_main_demographic_parity_ratio</th>\n",
       "      <th>...</th>\n",
       "      <th>perf_grp_precision_0</th>\n",
       "      <th>perf_grp_precision_1</th>\n",
       "      <th>perf_grp_false positive rate_0</th>\n",
       "      <th>perf_grp_false positive rate_1</th>\n",
       "      <th>perf_grp_false negative rate_0</th>\n",
       "      <th>perf_grp_false negative rate_1</th>\n",
       "      <th>perf_grp_selection rate_0</th>\n",
       "      <th>perf_grp_selection rate_1</th>\n",
       "      <th>perf_grp_count_0</th>\n",
       "      <th>perf_grp_count_1</th>\n",
       "    </tr>\n",
       "  </thead>\n",
       "  <tbody>\n",
       "    <tr>\n",
       "      <th>0</th>\n",
       "      <td>14</td>\n",
       "      <td>5ed6915b873bdb5587ed906a81b5bdfa</td>\n",
       "      <td>{\"cutoff\": \"quantile_0.1\", \"eval_fairness_grou...</td>\n",
       "      <td>33.489063</td>\n",
       "      <td>89710</td>\n",
       "      <td>1.0</td>\n",
       "      <td>0.080491</td>\n",
       "      <td>0.915540</td>\n",
       "      <td>0.073372</td>\n",
       "      <td>0.923297</td>\n",
       "      <td>...</td>\n",
       "      <td>NaN</td>\n",
       "      <td>NaN</td>\n",
       "      <td>NaN</td>\n",
       "      <td>NaN</td>\n",
       "      <td>NaN</td>\n",
       "      <td>NaN</td>\n",
       "      <td>NaN</td>\n",
       "      <td>NaN</td>\n",
       "      <td>NaN</td>\n",
       "      <td>NaN</td>\n",
       "    </tr>\n",
       "    <tr>\n",
       "      <th>0</th>\n",
       "      <td>14</td>\n",
       "      <td>5ed6915b873bdb5587ed906a81b5bdfa</td>\n",
       "      <td>{\"cutoff\": \"quantile_0.1\", \"eval_fairness_grou...</td>\n",
       "      <td>33.489063</td>\n",
       "      <td>89710</td>\n",
       "      <td>1.0</td>\n",
       "      <td>0.080491</td>\n",
       "      <td>0.915540</td>\n",
       "      <td>0.073372</td>\n",
       "      <td>0.923297</td>\n",
       "      <td>...</td>\n",
       "      <td>0.118587</td>\n",
       "      <td>0.142640</td>\n",
       "      <td>0.953005</td>\n",
       "      <td>0.872514</td>\n",
       "      <td>0.016047</td>\n",
       "      <td>0.046608</td>\n",
       "      <td>0.956573</td>\n",
       "      <td>0.883201</td>\n",
       "      <td>20540.0</td>\n",
       "      <td>69170.0</td>\n",
       "    </tr>\n",
       "    <tr>\n",
       "      <th>0</th>\n",
       "      <td>14</td>\n",
       "      <td>5ed6915b873bdb5587ed906a81b5bdfa</td>\n",
       "      <td>{\"cutoff\": \"quantile_0.25\", \"eval_fairness_gro...</td>\n",
       "      <td>33.489063</td>\n",
       "      <td>89710</td>\n",
       "      <td>1.0</td>\n",
       "      <td>0.162817</td>\n",
       "      <td>0.809669</td>\n",
       "      <td>0.148771</td>\n",
       "      <td>0.827951</td>\n",
       "      <td>...</td>\n",
       "      <td>NaN</td>\n",
       "      <td>NaN</td>\n",
       "      <td>NaN</td>\n",
       "      <td>NaN</td>\n",
       "      <td>NaN</td>\n",
       "      <td>NaN</td>\n",
       "      <td>NaN</td>\n",
       "      <td>NaN</td>\n",
       "      <td>NaN</td>\n",
       "      <td>NaN</td>\n",
       "    </tr>\n",
       "    <tr>\n",
       "      <th>0</th>\n",
       "      <td>14</td>\n",
       "      <td>5ed6915b873bdb5587ed906a81b5bdfa</td>\n",
       "      <td>{\"cutoff\": \"quantile_0.25\", \"eval_fairness_gro...</td>\n",
       "      <td>33.489063</td>\n",
       "      <td>89710</td>\n",
       "      <td>1.0</td>\n",
       "      <td>0.162817</td>\n",
       "      <td>0.809669</td>\n",
       "      <td>0.148771</td>\n",
       "      <td>0.827951</td>\n",
       "      <td>...</td>\n",
       "      <td>0.124768</td>\n",
       "      <td>0.160397</td>\n",
       "      <td>0.855437</td>\n",
       "      <td>0.692620</td>\n",
       "      <td>0.064189</td>\n",
       "      <td>0.130963</td>\n",
       "      <td>0.864703</td>\n",
       "      <td>0.715932</td>\n",
       "      <td>20540.0</td>\n",
       "      <td>69170.0</td>\n",
       "    </tr>\n",
       "  </tbody>\n",
       "</table>\n",
       "<p>4 rows × 50 columns</p>\n",
       "</div>"
      ],
      "text/plain": [
       "  run_no                       universe_id  \\\n",
       "0     14  5ed6915b873bdb5587ed906a81b5bdfa   \n",
       "0     14  5ed6915b873bdb5587ed906a81b5bdfa   \n",
       "0     14  5ed6915b873bdb5587ed906a81b5bdfa   \n",
       "0     14  5ed6915b873bdb5587ed906a81b5bdfa   \n",
       "\n",
       "                                   universe_settings  execution_time  \\\n",
       "0  {\"cutoff\": \"quantile_0.1\", \"eval_fairness_grou...       33.489063   \n",
       "0  {\"cutoff\": \"quantile_0.1\", \"eval_fairness_grou...       33.489063   \n",
       "0  {\"cutoff\": \"quantile_0.25\", \"eval_fairness_gro...       33.489063   \n",
       "0  {\"cutoff\": \"quantile_0.25\", \"eval_fairness_gro...       33.489063   \n",
       "\n",
       "   test_size_n  test_size_frac  fair_main_equalized_odds_difference  \\\n",
       "0        89710             1.0                             0.080491   \n",
       "0        89710             1.0                             0.080491   \n",
       "0        89710             1.0                             0.162817   \n",
       "0        89710             1.0                             0.162817   \n",
       "\n",
       "   fair_main_equalized_odds_ratio  fair_main_demographic_parity_difference  \\\n",
       "0                        0.915540                                 0.073372   \n",
       "0                        0.915540                                 0.073372   \n",
       "0                        0.809669                                 0.148771   \n",
       "0                        0.809669                                 0.148771   \n",
       "\n",
       "   fair_main_demographic_parity_ratio  ...  perf_grp_precision_0  \\\n",
       "0                            0.923297  ...                   NaN   \n",
       "0                            0.923297  ...              0.118587   \n",
       "0                            0.827951  ...                   NaN   \n",
       "0                            0.827951  ...              0.124768   \n",
       "\n",
       "   perf_grp_precision_1  perf_grp_false positive rate_0  \\\n",
       "0                   NaN                             NaN   \n",
       "0              0.142640                        0.953005   \n",
       "0                   NaN                             NaN   \n",
       "0              0.160397                        0.855437   \n",
       "\n",
       "   perf_grp_false positive rate_1  perf_grp_false negative rate_0  \\\n",
       "0                             NaN                             NaN   \n",
       "0                        0.872514                        0.016047   \n",
       "0                             NaN                             NaN   \n",
       "0                        0.692620                        0.064189   \n",
       "\n",
       "   perf_grp_false negative rate_1  perf_grp_selection rate_0  \\\n",
       "0                             NaN                        NaN   \n",
       "0                        0.046608                   0.956573   \n",
       "0                             NaN                        NaN   \n",
       "0                        0.130963                   0.864703   \n",
       "\n",
       "   perf_grp_selection rate_1  perf_grp_count_0  perf_grp_count_1  \n",
       "0                        NaN               NaN               NaN  \n",
       "0                   0.883201           20540.0           69170.0  \n",
       "0                        NaN               NaN               NaN  \n",
       "0                   0.715932           20540.0           69170.0  \n",
       "\n",
       "[4 rows x 50 columns]"
      ]
     },
     "execution_count": 79,
     "metadata": {},
     "output_type": "execute_result"
    }
   ],
   "source": [
    "final_output = universe_analysis.generate_final_output(\n",
    "    y_pred_prob=probs_test,\n",
    "    y_test=y_true,\n",
    "    org_test=org_test,\n",
    "    filter_data=filter_sub_universe_data,\n",
    "    cp_metrics_df=cp_metrics_df,\n",
    "    save=True,\n",
    ")\n",
    "final_output"
   ]
  },
  {
   "cell_type": "code",
   "execution_count": null,
   "id": "721ff514-cb11-46f8-b6fc-50392f74b5cb",
   "metadata": {
    "papermill": {
     "duration": 0.030691,
     "end_time": "2025-07-30T21:38:03.897171",
     "exception": false,
     "start_time": "2025-07-30T21:38:03.866480",
     "status": "completed"
    },
    "tags": []
   },
   "outputs": [],
   "source": []
  }
 ],
 "metadata": {
  "celltoolbar": "Tags",
  "kernelspec": {
   "display_name": "Python (CMA Fairness)",
   "language": "python",
   "name": "cma_fair_env"
  },
  "language_info": {
   "codemirror_mode": {
    "name": "ipython",
    "version": 3
   },
   "file_extension": ".py",
   "mimetype": "text/x-python",
   "name": "python",
   "nbconvert_exporter": "python",
   "pygments_lexer": "ipython3",
   "version": "3.10.12"
  },
  "papermill": {
   "default_parameters": {},
   "duration": 46.170835,
   "end_time": "2025-07-30T21:38:04.741225",
   "environment_variables": {},
   "exception": null,
   "input_path": "universe_analysis.ipynb",
   "output_path": "output/runs/14/notebooks/m_14-5ed6915b873bdb5587ed906a81b5bdfa.ipynb",
   "parameters": {
    "output_dir": "output",
    "run_no": "14",
    "seed": "2023",
    "universe": "{\"cutoff\": [\"quantile_0.1\", \"quantile_0.25\"], \"eval_fairness_grouping\": [\"majority-minority\", \"nationality-all\"], \"exclude_features\": \"sex\", \"exclude_subgroups\": \"keep-all\", \"model\": \"elasticnet\", \"scale\": \"scale\", \"training_size\": \"1k\", \"training_year\": \"2012_14\"}",
    "universe_id": "5ed6915b873bdb5587ed906a81b5bdfa"
   },
   "start_time": "2025-07-30T21:37:18.570390",
   "version": "2.6.0"
  }
 },
 "nbformat": 4,
 "nbformat_minor": 5
}