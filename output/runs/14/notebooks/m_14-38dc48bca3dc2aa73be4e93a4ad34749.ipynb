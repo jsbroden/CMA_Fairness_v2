{
 "cells": [
  {
   "cell_type": "code",
   "execution_count": 1,
   "id": "f159f837-637b-42ba-96b5-ec9a68c44524",
   "metadata": {
    "execution": {
     "iopub.execute_input": "2025-07-30T21:40:44.185657Z",
     "iopub.status.busy": "2025-07-30T21:40:44.185163Z",
     "iopub.status.idle": "2025-07-30T21:40:44.201295Z",
     "shell.execute_reply": "2025-07-30T21:40:44.200183Z"
    },
    "papermill": {
     "duration": 0.04278,
     "end_time": "2025-07-30T21:40:44.203177",
     "exception": false,
     "start_time": "2025-07-30T21:40:44.160397",
     "status": "completed"
    },
    "tags": []
   },
   "outputs": [
    {
     "name": "stdout",
     "output_type": "stream",
     "text": [
      "/dss/dsshome1/0C/ra93lal2/cma/CMA_Fairness_v2\n"
     ]
    },
    {
     "name": "stderr",
     "output_type": "stream",
     "text": [
      "/dss/dsshome1/0C/ra93lal2/.local/share/virtualenvs/CMA_Fairness_v2-3j10GkSs/lib/python3.10/site-packages/IPython/core/magics/osm.py:393: UserWarning: This is now an optional IPython functionality, using bookmarks requires you to install the `pickleshare` library.\n",
      "  bkms = self.shell.db.get('bookmarks', {})\n",
      "/dss/dsshome1/0C/ra93lal2/.local/share/virtualenvs/CMA_Fairness_v2-3j10GkSs/lib/python3.10/site-packages/IPython/core/magics/osm.py:417: UserWarning: This is now an optional IPython functionality, setting dhist requires you to install the `pickleshare` library.\n",
      "  self.shell.db['dhist'] = compress_dhist(dhist)[-100:]\n"
     ]
    }
   ],
   "source": [
    "%cd ~/cma/CMA_Fairness_v2"
   ]
  },
  {
   "cell_type": "markdown",
   "id": "de2603b9",
   "metadata": {
    "papermill": {
     "duration": 0.019698,
     "end_time": "2025-07-30T21:40:44.245375",
     "exception": false,
     "start_time": "2025-07-30T21:40:44.225677",
     "status": "completed"
    },
    "tags": []
   },
   "source": [
    "The following cell holds the definition of our parameters, these values can be overriden by rendering the with e.g. the following command:\n",
    "\n",
    "papermill -p alpha 0.2 -p ratio 0.3 universe_analysis.ipynb output/test_run.ipynb"
   ]
  },
  {
   "cell_type": "code",
   "execution_count": 2,
   "id": "a80968a0-40bb-4fa9-85ef-2d5eefb01975",
   "metadata": {
    "execution": {
     "iopub.execute_input": "2025-07-30T21:40:44.286063Z",
     "iopub.status.busy": "2025-07-30T21:40:44.285142Z",
     "iopub.status.idle": "2025-07-30T21:40:44.290870Z",
     "shell.execute_reply": "2025-07-30T21:40:44.289948Z"
    },
    "papermill": {
     "duration": 0.027872,
     "end_time": "2025-07-30T21:40:44.292613",
     "exception": false,
     "start_time": "2025-07-30T21:40:44.264741",
     "status": "completed"
    },
    "tags": []
   },
   "outputs": [
    {
     "name": "stdout",
     "output_type": "stream",
     "text": [
      "Current working directory: /dss/dsshome1/0C/ra93lal2/cma/CMA_Fairness_v2\n"
     ]
    }
   ],
   "source": [
    "import os\n",
    "print(\"Current working directory:\", os.getcwd())"
   ]
  },
  {
   "cell_type": "code",
   "execution_count": 3,
   "id": "2dce4c03",
   "metadata": {
    "execution": {
     "iopub.execute_input": "2025-07-30T21:40:44.333335Z",
     "iopub.status.busy": "2025-07-30T21:40:44.332678Z",
     "iopub.status.idle": "2025-07-30T21:40:44.339262Z",
     "shell.execute_reply": "2025-07-30T21:40:44.338122Z"
    },
    "papermill": {
     "duration": 0.028414,
     "end_time": "2025-07-30T21:40:44.341002",
     "exception": false,
     "start_time": "2025-07-30T21:40:44.312588",
     "status": "completed"
    },
    "tags": [
     "parameters"
    ]
   },
   "outputs": [],
   "source": [
    "run_no = 0\n",
    "universe_id = \"test\"\n",
    "universe = {\n",
    "    \"training_size\": \"25k\", # \"25k\", \"5k\", \"1k\"\n",
    "    \"training_year\": \"2014\", # \"2014\", \"2012_14\", \"2010_14\"\n",
    "    \"scale\": \"scale\", # \"scale\", \"do-not-scale\",\n",
    "    #\"stratify_split\": \"target\", # \"none\", \"target\", \"protected-attribute\", \"both\",\n",
    "    \"model\": \"elasticnet\", # \"logreg\", \"penalized_logreg\", \"rf\", \"gbm\", \"elasticnet\"\n",
    "    \"cutoff\": [\"quantile_0.15\", \"quantile_0.30\"],\n",
    "    \"exclude_features\": \"age\", # \"none\", \"nationality\", \"sex\", \"nationality-sex\", \"age\"\n",
    "    \"exclude_subgroups\": \"keep-all\", # \"keep-all\", \"drop-non-german\"\n",
    "    \"eval_fairness_grouping\": [\"majority-minority\", \"nationality-all\"]\n",
    "}\n",
    "\n",
    "output_dir=\"./output\"\n",
    "seed=0"
   ]
  },
  {
   "cell_type": "code",
   "execution_count": 4,
   "id": "0b702f39",
   "metadata": {
    "execution": {
     "iopub.execute_input": "2025-07-30T21:40:44.381457Z",
     "iopub.status.busy": "2025-07-30T21:40:44.380774Z",
     "iopub.status.idle": "2025-07-30T21:40:44.386100Z",
     "shell.execute_reply": "2025-07-30T21:40:44.385072Z"
    },
    "papermill": {
     "duration": 0.026625,
     "end_time": "2025-07-30T21:40:44.387715",
     "exception": false,
     "start_time": "2025-07-30T21:40:44.361090",
     "status": "completed"
    },
    "tags": [
     "injected-parameters"
    ]
   },
   "outputs": [],
   "source": [
    "# Parameters\n",
    "universe_id = \"38dc48bca3dc2aa73be4e93a4ad34749\"\n",
    "run_no = \"14\"\n",
    "universe = \"{\\\"cutoff\\\": [\\\"quantile_0.1\\\", \\\"quantile_0.25\\\"], \\\"eval_fairness_grouping\\\": [\\\"majority-minority\\\", \\\"nationality-all\\\"], \\\"exclude_features\\\": \\\"nationality-sex\\\", \\\"exclude_subgroups\\\": \\\"drop-non-german\\\", \\\"model\\\": \\\"rf\\\", \\\"scale\\\": \\\"do-not-scale\\\", \\\"training_size\\\": \\\"1k\\\", \\\"training_year\\\": \\\"2012_14\\\"}\"\n",
    "output_dir = \"output\"\n",
    "seed = \"2023\"\n"
   ]
  },
  {
   "cell_type": "code",
   "execution_count": 5,
   "id": "1650acaf",
   "metadata": {
    "execution": {
     "iopub.execute_input": "2025-07-30T21:40:44.427655Z",
     "iopub.status.busy": "2025-07-30T21:40:44.426978Z",
     "iopub.status.idle": "2025-07-30T21:40:44.432184Z",
     "shell.execute_reply": "2025-07-30T21:40:44.431185Z"
    },
    "papermill": {
     "duration": 0.026378,
     "end_time": "2025-07-30T21:40:44.433768",
     "exception": false,
     "start_time": "2025-07-30T21:40:44.407390",
     "status": "completed"
    },
    "tags": []
   },
   "outputs": [],
   "source": [
    "import json\n",
    "# Parse universe into dict if it is passed as a string\n",
    "if isinstance(universe, str):\n",
    "    universe = json.loads(universe)"
   ]
  },
  {
   "cell_type": "code",
   "execution_count": 6,
   "id": "16620c48",
   "metadata": {
    "execution": {
     "iopub.execute_input": "2025-07-30T21:40:44.474763Z",
     "iopub.status.busy": "2025-07-30T21:40:44.474214Z",
     "iopub.status.idle": "2025-07-30T21:40:44.519388Z",
     "shell.execute_reply": "2025-07-30T21:40:44.518483Z"
    },
    "papermill": {
     "duration": 0.068155,
     "end_time": "2025-07-30T21:40:44.521414",
     "exception": false,
     "start_time": "2025-07-30T21:40:44.453259",
     "status": "completed"
    },
    "tags": []
   },
   "outputs": [],
   "source": [
    "# Auto-reload the custom package\n",
    "%load_ext autoreload\n",
    "%autoreload 1\n",
    "%aimport fairness_multiverse"
   ]
  },
  {
   "cell_type": "code",
   "execution_count": 7,
   "id": "01c5c9f3",
   "metadata": {
    "execution": {
     "iopub.execute_input": "2025-07-30T21:40:44.564933Z",
     "iopub.status.busy": "2025-07-30T21:40:44.564481Z",
     "iopub.status.idle": "2025-07-30T21:40:46.513234Z",
     "shell.execute_reply": "2025-07-30T21:40:46.512175Z"
    },
    "papermill": {
     "duration": 1.972664,
     "end_time": "2025-07-30T21:40:46.515339",
     "exception": false,
     "start_time": "2025-07-30T21:40:44.542675",
     "status": "completed"
    },
    "tags": []
   },
   "outputs": [],
   "source": [
    "from fairness_multiverse.universe import UniverseAnalysis\n",
    "\n",
    "universe_analysis = UniverseAnalysis(\n",
    "    run_no = run_no,\n",
    "    universe_id = universe_id,\n",
    "    universe = universe,\n",
    "    output_dir=output_dir,\n",
    ")"
   ]
  },
  {
   "cell_type": "code",
   "execution_count": 8,
   "id": "106241f5",
   "metadata": {
    "execution": {
     "iopub.execute_input": "2025-07-30T21:40:46.563726Z",
     "iopub.status.busy": "2025-07-30T21:40:46.563233Z",
     "iopub.status.idle": "2025-07-30T21:40:46.569938Z",
     "shell.execute_reply": "2025-07-30T21:40:46.568923Z"
    },
    "papermill": {
     "duration": 0.032466,
     "end_time": "2025-07-30T21:40:46.571651",
     "exception": false,
     "start_time": "2025-07-30T21:40:46.539185",
     "status": "completed"
    },
    "tags": []
   },
   "outputs": [
    {
     "name": "stdout",
     "output_type": "stream",
     "text": [
      "Using Seed: 2023\n"
     ]
    }
   ],
   "source": [
    "import numpy as np\n",
    "parsed_seed = int(seed)\n",
    "np.random.seed(parsed_seed)\n",
    "print(f\"Using Seed: {parsed_seed}\")"
   ]
  },
  {
   "cell_type": "markdown",
   "id": "e0ebdc57",
   "metadata": {
    "papermill": {
     "duration": 0.02301,
     "end_time": "2025-07-30T21:40:46.618900",
     "exception": false,
     "start_time": "2025-07-30T21:40:46.595890",
     "status": "completed"
    },
    "tags": []
   },
   "source": [
    "# Loading Data"
   ]
  },
  {
   "cell_type": "markdown",
   "id": "681925a3",
   "metadata": {
    "papermill": {
     "duration": 0.022194,
     "end_time": "2025-07-30T21:40:46.663411",
     "exception": false,
     "start_time": "2025-07-30T21:40:46.641217",
     "status": "completed"
    },
    "tags": []
   },
   "source": [
    "Load siab_train, siab_test, siab_calib and/or \n",
    "load siab_train_features, siab_train_labels"
   ]
  },
  {
   "cell_type": "code",
   "execution_count": 9,
   "id": "f0496b8a",
   "metadata": {
    "execution": {
     "iopub.execute_input": "2025-07-30T21:40:46.709799Z",
     "iopub.status.busy": "2025-07-30T21:40:46.709268Z",
     "iopub.status.idle": "2025-07-30T21:40:58.756821Z",
     "shell.execute_reply": "2025-07-30T21:40:58.755395Z"
    },
    "papermill": {
     "duration": 12.073361,
     "end_time": "2025-07-30T21:40:58.758804",
     "exception": false,
     "start_time": "2025-07-30T21:40:46.685443",
     "status": "completed"
    },
    "tags": []
   },
   "outputs": [
    {
     "name": "stdout",
     "output_type": "stream",
     "text": [
      "Loading SIAB data from cache: data/siab_cached.csv.gz\n"
     ]
    },
    {
     "name": "stdout",
     "output_type": "stream",
     "text": [
      "(643690, 164)\n"
     ]
    }
   ],
   "source": [
    "from pathlib import Path\n",
    "import pandas as pd\n",
    "\n",
    "# File paths\n",
    "raw_file = Path(\"data/raw/siab.csv\")\n",
    "cache_file = Path(\"data/siab_cached.csv.gz\")\n",
    "\n",
    "# Ensure cache directory exists\n",
    "cache_file.parent.mkdir(parents=True, exist_ok=True)\n",
    "\n",
    "# Load with simple caching\n",
    "if cache_file.exists():\n",
    "    print(f\"Loading SIAB data from cache: {cache_file}\")\n",
    "    siab = pd.read_csv(cache_file, compression='gzip')\n",
    "else:\n",
    "    print(f\"Cache not found. Reading raw SIAB data: {raw_file}\")\n",
    "    siab = pd.read_csv(raw_file)\n",
    "    siab.to_csv(cache_file, index=False, compression='gzip')\n",
    "    print(f\"Cached SIAB data to: {cache_file}\")\n",
    "\n",
    "# Now use `siab` DataFrame as needed\n",
    "print(siab.shape)"
   ]
  },
  {
   "cell_type": "code",
   "execution_count": 10,
   "id": "db0ca512-5f53-4dba-abdb-a2888bca41ba",
   "metadata": {
    "execution": {
     "iopub.execute_input": "2025-07-30T21:40:58.818791Z",
     "iopub.status.busy": "2025-07-30T21:40:58.818176Z",
     "iopub.status.idle": "2025-07-30T21:40:58.824879Z",
     "shell.execute_reply": "2025-07-30T21:40:58.823446Z"
    },
    "papermill": {
     "duration": 0.04001,
     "end_time": "2025-07-30T21:40:58.827114",
     "exception": false,
     "start_time": "2025-07-30T21:40:58.787104",
     "status": "completed"
    },
    "tags": []
   },
   "outputs": [],
   "source": [
    "#siab"
   ]
  },
  {
   "cell_type": "code",
   "execution_count": 11,
   "id": "a0edb063",
   "metadata": {
    "execution": {
     "iopub.execute_input": "2025-07-30T21:40:58.872105Z",
     "iopub.status.busy": "2025-07-30T21:40:58.871700Z",
     "iopub.status.idle": "2025-07-30T21:40:58.875955Z",
     "shell.execute_reply": "2025-07-30T21:40:58.875149Z"
    },
    "papermill": {
     "duration": 0.026164,
     "end_time": "2025-07-30T21:40:58.877474",
     "exception": false,
     "start_time": "2025-07-30T21:40:58.851310",
     "status": "completed"
    },
    "tags": []
   },
   "outputs": [],
   "source": [
    "#import pandas as pd\n",
    "#\n",
    "#X_train = pd.read_csv(\"./data/X_train.csv\")\n",
    "#y_train = pd.read_csv(\"./data/y_train.csv\")"
   ]
  },
  {
   "cell_type": "code",
   "execution_count": 12,
   "id": "63d08085",
   "metadata": {
    "execution": {
     "iopub.execute_input": "2025-07-30T21:40:58.925570Z",
     "iopub.status.busy": "2025-07-30T21:40:58.925133Z",
     "iopub.status.idle": "2025-07-30T21:40:58.930086Z",
     "shell.execute_reply": "2025-07-30T21:40:58.929110Z"
    },
    "papermill": {
     "duration": 0.030816,
     "end_time": "2025-07-30T21:40:58.931971",
     "exception": false,
     "start_time": "2025-07-30T21:40:58.901155",
     "status": "completed"
    },
    "tags": []
   },
   "outputs": [],
   "source": [
    "#X_test = pd.read_csv(\"./data/X_test.csv\")\n",
    "#y_true = pd.read_csv(\"./data/y_test.csv\")"
   ]
  },
  {
   "cell_type": "code",
   "execution_count": 13,
   "id": "98a8d0fa-1d3d-4ed8-bb2c-281470e24add",
   "metadata": {
    "execution": {
     "iopub.execute_input": "2025-07-30T21:40:58.980123Z",
     "iopub.status.busy": "2025-07-30T21:40:58.979181Z",
     "iopub.status.idle": "2025-07-30T21:40:58.984214Z",
     "shell.execute_reply": "2025-07-30T21:40:58.983167Z"
    },
    "papermill": {
     "duration": 0.031425,
     "end_time": "2025-07-30T21:40:58.986083",
     "exception": false,
     "start_time": "2025-07-30T21:40:58.954658",
     "status": "completed"
    },
    "tags": []
   },
   "outputs": [],
   "source": [
    "# Calibration data for conformal\n",
    "#X_calib = pd.read_csv(\"./data/X_calib.csv\")\n",
    "#y_calib = pd.read_csv(\"./data/y_calib.csv\")"
   ]
  },
  {
   "cell_type": "markdown",
   "id": "997051c5-15bd-4b69-9786-c3001a3ce484",
   "metadata": {
    "papermill": {
     "duration": 0.02027,
     "end_time": "2025-07-30T21:40:59.028167",
     "exception": false,
     "start_time": "2025-07-30T21:40:59.007897",
     "status": "completed"
    },
    "tags": []
   },
   "source": [
    "# Splitting Data and Setting Training Data Size"
   ]
  },
  {
   "cell_type": "code",
   "execution_count": 14,
   "id": "e993b61f-042d-41a6-8c81-f55681f86335",
   "metadata": {
    "execution": {
     "iopub.execute_input": "2025-07-30T21:40:59.070627Z",
     "iopub.status.busy": "2025-07-30T21:40:59.070187Z",
     "iopub.status.idle": "2025-07-30T21:40:59.084922Z",
     "shell.execute_reply": "2025-07-30T21:40:59.083734Z"
    },
    "papermill": {
     "duration": 0.0387,
     "end_time": "2025-07-30T21:40:59.086896",
     "exception": false,
     "start_time": "2025-07-30T21:40:59.048196",
     "status": "completed"
    },
    "tags": []
   },
   "outputs": [],
   "source": [
    "def sample_by_year_size(df,\n",
    "                        training_year: str,\n",
    "                        training_size: str,\n",
    "                        random_state: int = 42):\n",
    "    # --- parse training_year into a list of int years ---\n",
    "    if \"_\" in training_year:\n",
    "        start_str, end_str = training_year.split(\"_\", 1)\n",
    "        start = int(start_str)\n",
    "        end   = int(end_str) if len(end_str) == 4 else (int(end_str) + (start // 100)*100)\n",
    "        years = list(range(start, end + 1))\n",
    "    else:\n",
    "        years = [int(training_year)]\n",
    "\n",
    "    df = df[df[\"year\"].isin(years)].reset_index(drop=True)\n",
    "\n",
    "    # --- map training_size to total number of samples ---\n",
    "    total_map = {\"25k\": 25_000, \"5k\": 5_000, \"1k\": 1_000}\n",
    "    if training_size not in total_map:\n",
    "        return df  # e.g. \"all\"\n",
    "\n",
    "    total_samples = total_map[training_size]\n",
    "    n_years       = len(years)\n",
    "    base          = total_samples // n_years\n",
    "    remainder     = total_samples % n_years\n",
    "\n",
    "    # --- build a dict: year -> how many to sample ---\n",
    "    # give +1 to the first `remainder` years in ascending order\n",
    "    quotas = {\n",
    "        year: base + (1 if idx < remainder else 0)\n",
    "        for idx, year in enumerate(sorted(years))\n",
    "    }\n",
    "\n",
    "    # --- sample per‐year according to the quota dict ---\n",
    "    sampled = (\n",
    "        df\n",
    "        .groupby(\"year\", group_keys=False)\n",
    "        .apply(lambda grp: grp.sample(\n",
    "            n=min(len(grp), quotas[grp.name]),\n",
    "            random_state=random_state))\n",
    "        .reset_index(drop=True)\n",
    "    )\n",
    "\n",
    "    return sampled"
   ]
  },
  {
   "cell_type": "code",
   "execution_count": 15,
   "id": "c0ccd338-0e02-41f3-a09d-f56f9266e3fb",
   "metadata": {
    "execution": {
     "iopub.execute_input": "2025-07-30T21:40:59.130737Z",
     "iopub.status.busy": "2025-07-30T21:40:59.129957Z",
     "iopub.status.idle": "2025-07-30T21:40:59.134888Z",
     "shell.execute_reply": "2025-07-30T21:40:59.133992Z"
    },
    "papermill": {
     "duration": 0.028161,
     "end_time": "2025-07-30T21:40:59.136754",
     "exception": false,
     "start_time": "2025-07-30T21:40:59.108593",
     "status": "completed"
    },
    "tags": []
   },
   "outputs": [],
   "source": [
    "#universe[\"training_size\"]"
   ]
  },
  {
   "cell_type": "code",
   "execution_count": 16,
   "id": "ca707fd7-8047-4acd-bfa5-66248fbbf8e6",
   "metadata": {
    "execution": {
     "iopub.execute_input": "2025-07-30T21:40:59.180252Z",
     "iopub.status.busy": "2025-07-30T21:40:59.179767Z",
     "iopub.status.idle": "2025-07-30T21:40:59.185584Z",
     "shell.execute_reply": "2025-07-30T21:40:59.184596Z"
    },
    "papermill": {
     "duration": 0.029668,
     "end_time": "2025-07-30T21:40:59.187585",
     "exception": false,
     "start_time": "2025-07-30T21:40:59.157917",
     "status": "completed"
    },
    "tags": []
   },
   "outputs": [],
   "source": [
    "#universe[\"training_year\"]"
   ]
  },
  {
   "cell_type": "code",
   "execution_count": 17,
   "id": "aea9c6ef-6f46-42c8-85eb-5a62025c1508",
   "metadata": {
    "execution": {
     "iopub.execute_input": "2025-07-30T21:40:59.236983Z",
     "iopub.status.busy": "2025-07-30T21:40:59.236027Z",
     "iopub.status.idle": "2025-07-30T21:40:59.877096Z",
     "shell.execute_reply": "2025-07-30T21:40:59.876135Z"
    },
    "papermill": {
     "duration": 0.665537,
     "end_time": "2025-07-30T21:40:59.878580",
     "exception": false,
     "start_time": "2025-07-30T21:40:59.213043",
     "status": "completed"
    },
    "tags": []
   },
   "outputs": [],
   "source": [
    "siab_train = sample_by_year_size(siab,\n",
    "                               training_year=universe[\"training_year\"],\n",
    "                               training_size=universe[\"training_size\"])"
   ]
  },
  {
   "cell_type": "code",
   "execution_count": 18,
   "id": "8d3afb32-789d-442c-8d5d-9f5aa8dd2eed",
   "metadata": {
    "execution": {
     "iopub.execute_input": "2025-07-30T21:40:59.905641Z",
     "iopub.status.busy": "2025-07-30T21:40:59.905089Z",
     "iopub.status.idle": "2025-07-30T21:40:59.909917Z",
     "shell.execute_reply": "2025-07-30T21:40:59.908836Z"
    },
    "papermill": {
     "duration": 0.020844,
     "end_time": "2025-07-30T21:40:59.911603",
     "exception": false,
     "start_time": "2025-07-30T21:40:59.890759",
     "status": "completed"
    },
    "tags": []
   },
   "outputs": [],
   "source": [
    "#siab_train.shape"
   ]
  },
  {
   "cell_type": "code",
   "execution_count": 19,
   "id": "d582db68-1a4c-47fb-84fc-08518dc1975a",
   "metadata": {
    "execution": {
     "iopub.execute_input": "2025-07-30T21:40:59.958516Z",
     "iopub.status.busy": "2025-07-30T21:40:59.957756Z",
     "iopub.status.idle": "2025-07-30T21:40:59.962682Z",
     "shell.execute_reply": "2025-07-30T21:40:59.961633Z"
    },
    "papermill": {
     "duration": 0.0313,
     "end_time": "2025-07-30T21:40:59.964703",
     "exception": false,
     "start_time": "2025-07-30T21:40:59.933403",
     "status": "completed"
    },
    "tags": []
   },
   "outputs": [],
   "source": [
    "#display(siab_train.groupby(\"year\").size())"
   ]
  },
  {
   "cell_type": "code",
   "execution_count": 20,
   "id": "a561edb4-d032-42cb-8256-22eac1111c64",
   "metadata": {
    "execution": {
     "iopub.execute_input": "2025-07-30T21:41:00.011735Z",
     "iopub.status.busy": "2025-07-30T21:41:00.011170Z",
     "iopub.status.idle": "2025-07-30T21:41:00.264803Z",
     "shell.execute_reply": "2025-07-30T21:41:00.263625Z"
    },
    "papermill": {
     "duration": 0.279091,
     "end_time": "2025-07-30T21:41:00.266758",
     "exception": false,
     "start_time": "2025-07-30T21:40:59.987667",
     "status": "completed"
    },
    "tags": []
   },
   "outputs": [],
   "source": [
    "#siab_train = siab_s[siab_s.year < 2015]\n",
    "siab_calib = siab[siab.year == 2015]\n",
    "siab_test = siab[siab.year == 2016]"
   ]
  },
  {
   "cell_type": "code",
   "execution_count": 21,
   "id": "472de16f-c3db-4916-846b-1f0de9cf1746",
   "metadata": {
    "execution": {
     "iopub.execute_input": "2025-07-30T21:41:00.313250Z",
     "iopub.status.busy": "2025-07-30T21:41:00.312494Z",
     "iopub.status.idle": "2025-07-30T21:41:00.319321Z",
     "shell.execute_reply": "2025-07-30T21:41:00.318442Z"
    },
    "papermill": {
     "duration": 0.032009,
     "end_time": "2025-07-30T21:41:00.321040",
     "exception": false,
     "start_time": "2025-07-30T21:41:00.289031",
     "status": "completed"
    },
    "tags": []
   },
   "outputs": [],
   "source": [
    "X_train = siab_train.iloc[:,4:164]\n",
    "y_train = siab_train.iloc[:, [3]]"
   ]
  },
  {
   "cell_type": "code",
   "execution_count": 22,
   "id": "828c96af-f43a-4ed6-ba47-8ac73a47d56c",
   "metadata": {
    "execution": {
     "iopub.execute_input": "2025-07-30T21:41:00.363857Z",
     "iopub.status.busy": "2025-07-30T21:41:00.363461Z",
     "iopub.status.idle": "2025-07-30T21:41:00.416178Z",
     "shell.execute_reply": "2025-07-30T21:41:00.414450Z"
    },
    "papermill": {
     "duration": 0.07327,
     "end_time": "2025-07-30T21:41:00.417697",
     "exception": false,
     "start_time": "2025-07-30T21:41:00.344427",
     "status": "completed"
    },
    "tags": []
   },
   "outputs": [],
   "source": [
    "X_calib = siab_calib.iloc[:,4:164]\n",
    "y_calib = siab_calib.iloc[:, [3]]"
   ]
  },
  {
   "cell_type": "code",
   "execution_count": 23,
   "id": "c34be9c3-6bd6-476e-acd3-845840e303be",
   "metadata": {
    "execution": {
     "iopub.execute_input": "2025-07-30T21:41:00.461491Z",
     "iopub.status.busy": "2025-07-30T21:41:00.460925Z",
     "iopub.status.idle": "2025-07-30T21:41:00.509519Z",
     "shell.execute_reply": "2025-07-30T21:41:00.508484Z"
    },
    "papermill": {
     "duration": 0.069955,
     "end_time": "2025-07-30T21:41:00.511238",
     "exception": false,
     "start_time": "2025-07-30T21:41:00.441283",
     "status": "completed"
    },
    "tags": []
   },
   "outputs": [],
   "source": [
    "X_test = siab_test.iloc[:,4:164]\n",
    "y_true = siab_test.iloc[:, [3]]"
   ]
  },
  {
   "cell_type": "markdown",
   "id": "9901737e-04df-44f0-9100-f5ad144ed040",
   "metadata": {
    "papermill": {
     "duration": 0.021041,
     "end_time": "2025-07-30T21:41:00.553950",
     "exception": false,
     "start_time": "2025-07-30T21:41:00.532909",
     "status": "completed"
    },
    "tags": []
   },
   "source": [
    "# Splitting Data and Setting Training Data Size OLD VERSION"
   ]
  },
  {
   "cell_type": "code",
   "execution_count": 24,
   "id": "acbc8f7d-8fc8-4e86-8c59-5dcb0f58384b",
   "metadata": {
    "execution": {
     "iopub.execute_input": "2025-07-30T21:41:00.597014Z",
     "iopub.status.busy": "2025-07-30T21:41:00.596224Z",
     "iopub.status.idle": "2025-07-30T21:41:00.602456Z",
     "shell.execute_reply": "2025-07-30T21:41:00.601476Z"
    },
    "papermill": {
     "duration": 0.02961,
     "end_time": "2025-07-30T21:41:00.604216",
     "exception": false,
     "start_time": "2025-07-30T21:41:00.574606",
     "status": "completed"
    },
    "tags": []
   },
   "outputs": [],
   "source": [
    "#def sample_by_year(df, training_size, random_state=42):\n",
    "#    if training_size == \"2014\":\n",
    "#        return df[df[\"year\"] == 2014].reset_index(drop=True)\n",
    "#    \n",
    "#    size_map = {\n",
    "#        \"25k\": 5000,\n",
    "#        \"5k\": 1000,\n",
    "#        \"1k\": 200\n",
    "#    }\n",
    "#\n",
    "#    if training_size not in size_map:\n",
    "#        return df.reset_index(drop=True)  # use all data\n",
    "#\n",
    "#    n_per_year = size_map[training_size]\n",
    "#    grouped = df.groupby(\"year\")\n",
    "#    sampled = grouped.apply(lambda x: x.sample(n=min(n_per_year, len(x)), random_state=random_state))\n",
    "#    return sampled.reset_index(drop=True)"
   ]
  },
  {
   "cell_type": "code",
   "execution_count": 25,
   "id": "6d931f52-beaf-43ff-9e78-9d44a448d54e",
   "metadata": {
    "execution": {
     "iopub.execute_input": "2025-07-30T21:41:00.632891Z",
     "iopub.status.busy": "2025-07-30T21:41:00.632586Z",
     "iopub.status.idle": "2025-07-30T21:41:00.646454Z",
     "shell.execute_reply": "2025-07-30T21:41:00.645698Z"
    },
    "papermill": {
     "duration": 0.027419,
     "end_time": "2025-07-30T21:41:00.647644",
     "exception": false,
     "start_time": "2025-07-30T21:41:00.620225",
     "status": "completed"
    },
    "tags": []
   },
   "outputs": [],
   "source": [
    "#siab_s = sample_by_year(siab, universe[\"training_size\"])"
   ]
  },
  {
   "cell_type": "code",
   "execution_count": 26,
   "id": "5db0a40e-a4e2-4920-be85-b12ae061d70d",
   "metadata": {
    "execution": {
     "iopub.execute_input": "2025-07-30T21:41:00.687312Z",
     "iopub.status.busy": "2025-07-30T21:41:00.686838Z",
     "iopub.status.idle": "2025-07-30T21:41:00.692237Z",
     "shell.execute_reply": "2025-07-30T21:41:00.690981Z"
    },
    "papermill": {
     "duration": 0.030096,
     "end_time": "2025-07-30T21:41:00.694620",
     "exception": false,
     "start_time": "2025-07-30T21:41:00.664524",
     "status": "completed"
    },
    "tags": []
   },
   "outputs": [],
   "source": [
    "#display(siab_s.groupby(\"year\").size())"
   ]
  },
  {
   "cell_type": "code",
   "execution_count": 27,
   "id": "e6c733c5",
   "metadata": {
    "execution": {
     "iopub.execute_input": "2025-07-30T21:41:00.743039Z",
     "iopub.status.busy": "2025-07-30T21:41:00.742578Z",
     "iopub.status.idle": "2025-07-30T21:41:00.841662Z",
     "shell.execute_reply": "2025-07-30T21:41:00.840436Z"
    },
    "papermill": {
     "duration": 0.124945,
     "end_time": "2025-07-30T21:41:00.843824",
     "exception": false,
     "start_time": "2025-07-30T21:41:00.718879",
     "status": "completed"
    },
    "tags": []
   },
   "outputs": [],
   "source": [
    "# Auxiliary data needed downstream in the pipeline\n",
    "\n",
    "org_train = X_train.copy()\n",
    "org_test = X_test.copy()\n",
    "org_calib = X_calib.copy()"
   ]
  },
  {
   "cell_type": "code",
   "execution_count": 28,
   "id": "1466abac-c6da-4492-a62f-4240ae3783af",
   "metadata": {
    "execution": {
     "iopub.execute_input": "2025-07-30T21:41:00.894243Z",
     "iopub.status.busy": "2025-07-30T21:41:00.893660Z",
     "iopub.status.idle": "2025-07-30T21:41:00.901341Z",
     "shell.execute_reply": "2025-07-30T21:41:00.900376Z"
    },
    "papermill": {
     "duration": 0.034184,
     "end_time": "2025-07-30T21:41:00.903113",
     "exception": false,
     "start_time": "2025-07-30T21:41:00.868929",
     "status": "completed"
    },
    "tags": []
   },
   "outputs": [],
   "source": [
    "# put in other script?\n",
    "# Group sizes\n",
    "\n",
    "#def calculate_percentages(df, df_name):\n",
    "#    total_entries = len(df)\n",
    "#\n",
    "#    female_pct = (df['frau1'] == 1).mean() * 100\n",
    "#    non_german_pct = ((df['maxdeutsch1'] == 0) & (df['maxdeutsch.Missing.'] == 0)).mean() * 100\n",
    "#    non_german_male_pct = ((df['frau1'] == 0) & (df['maxdeutsch1'] == 0) & (df['maxdeutsch.Missing.'] == 0)).mean() * 100\n",
    "#    non_german_female_pct = ((df['frau1'] == 1) & (df['maxdeutsch1'] == 0) & (df['maxdeutsch.Missing.'] == 0)).mean() * 100\n",
    "#\n",
    "#    print(f\"--- {df_name} ---\")\n",
    "#    print(f\"Female: {female_pct:.2f}%\")\n",
    "#    print(f\"Non-German: {non_german_pct:.2f}%\")\n",
    "#    print(f\"Non-German Male: {non_german_male_pct:.2f}%\")\n",
    "#    print(f\"Non-German Female: {non_german_female_pct:.2f}%\\n\")\n",
    "#\n",
    "## Calculate for each DataFrame\n",
    "#calculate_percentages(siab_calib, \"siab_calib\")\n",
    "#calculate_percentages(siab_test, \"siab_test\")\n",
    "#calculate_percentages(siab_train, \"siab_train\")"
   ]
  },
  {
   "cell_type": "markdown",
   "id": "0a4a1b33",
   "metadata": {
    "papermill": {
     "duration": 0.021001,
     "end_time": "2025-07-30T21:41:00.948160",
     "exception": false,
     "start_time": "2025-07-30T21:41:00.927159",
     "status": "completed"
    },
    "tags": []
   },
   "source": [
    "# Preprocessing Data"
   ]
  },
  {
   "cell_type": "code",
   "execution_count": 29,
   "id": "ca879031",
   "metadata": {
    "execution": {
     "iopub.execute_input": "2025-07-30T21:41:00.991019Z",
     "iopub.status.busy": "2025-07-30T21:41:00.990584Z",
     "iopub.status.idle": "2025-07-30T21:41:00.995808Z",
     "shell.execute_reply": "2025-07-30T21:41:00.994739Z"
    },
    "papermill": {
     "duration": 0.028369,
     "end_time": "2025-07-30T21:41:00.997862",
     "exception": false,
     "start_time": "2025-07-30T21:41:00.969493",
     "status": "completed"
    },
    "tags": []
   },
   "outputs": [],
   "source": [
    "# EXCLUDE PROTECTED FEATURES\n",
    "# ----------------------\n",
    "# \"exclude_features\": \"none\", # \"nationality\", \"sex\", \"nationality-sex\"\n",
    "\n",
    "excluded_features = universe[\"exclude_features\"].split(\"-\") # split, e.g.: \"nationality-sex\" -> [\"nationality\", \"sex\"]\n",
    "excluded_features_dictionary = {\n",
    "    \"nationality\": [\"maxdeutsch1\", \"maxdeutsch.Missing.\"],\n",
    "    \"sex\": [\"frau1\"],\n",
    "    \"age\": [\"age\"],\n",
    "}\n"
   ]
  },
  {
   "cell_type": "code",
   "execution_count": 30,
   "id": "b745ac60",
   "metadata": {
    "execution": {
     "iopub.execute_input": "2025-07-30T21:41:01.047043Z",
     "iopub.status.busy": "2025-07-30T21:41:01.046605Z",
     "iopub.status.idle": "2025-07-30T21:41:01.053154Z",
     "shell.execute_reply": "2025-07-30T21:41:01.052107Z"
    },
    "papermill": {
     "duration": 0.032881,
     "end_time": "2025-07-30T21:41:01.054955",
     "exception": false,
     "start_time": "2025-07-30T21:41:01.022074",
     "status": "completed"
    },
    "tags": []
   },
   "outputs": [],
   "source": [
    "# Code nice names to column names\n",
    "\n",
    "excluded_features_columns = [\n",
    "    excluded_features_dictionary[f] for f in excluded_features if len(f) > 0 and f != \"none\"\n",
    "]"
   ]
  },
  {
   "cell_type": "code",
   "execution_count": 31,
   "id": "f84f73a2",
   "metadata": {
    "execution": {
     "iopub.execute_input": "2025-07-30T21:41:01.101822Z",
     "iopub.status.busy": "2025-07-30T21:41:01.101410Z",
     "iopub.status.idle": "2025-07-30T21:41:01.108422Z",
     "shell.execute_reply": "2025-07-30T21:41:01.107354Z"
    },
    "papermill": {
     "duration": 0.033285,
     "end_time": "2025-07-30T21:41:01.110313",
     "exception": false,
     "start_time": "2025-07-30T21:41:01.077028",
     "status": "completed"
    },
    "tags": []
   },
   "outputs": [],
   "source": [
    "from utils import flatten_once\n",
    "\n",
    "excluded_features_columns = flatten_once(excluded_features_columns)"
   ]
  },
  {
   "cell_type": "code",
   "execution_count": 32,
   "id": "884dea22",
   "metadata": {
    "execution": {
     "iopub.execute_input": "2025-07-30T21:41:01.156847Z",
     "iopub.status.busy": "2025-07-30T21:41:01.156436Z",
     "iopub.status.idle": "2025-07-30T21:41:01.164187Z",
     "shell.execute_reply": "2025-07-30T21:41:01.163151Z"
    },
    "papermill": {
     "duration": 0.032522,
     "end_time": "2025-07-30T21:41:01.166015",
     "exception": false,
     "start_time": "2025-07-30T21:41:01.133493",
     "status": "completed"
    },
    "tags": []
   },
   "outputs": [
    {
     "name": "stdout",
     "output_type": "stream",
     "text": [
      "Dropping features: ['maxdeutsch1', 'maxdeutsch.Missing.', 'frau1']\n"
     ]
    }
   ],
   "source": [
    "if len(excluded_features_columns) > 0:\n",
    "    print(f\"Dropping features: {excluded_features_columns}\")\n",
    "    X_train.drop(excluded_features_columns, axis=1, inplace=True)"
   ]
  },
  {
   "cell_type": "code",
   "execution_count": 33,
   "id": "95ab8b16",
   "metadata": {
    "execution": {
     "iopub.execute_input": "2025-07-30T21:41:01.209769Z",
     "iopub.status.busy": "2025-07-30T21:41:01.209320Z",
     "iopub.status.idle": "2025-07-30T21:41:01.279907Z",
     "shell.execute_reply": "2025-07-30T21:41:01.278744Z"
    },
    "papermill": {
     "duration": 0.095196,
     "end_time": "2025-07-30T21:41:01.281845",
     "exception": false,
     "start_time": "2025-07-30T21:41:01.186649",
     "status": "completed"
    },
    "tags": []
   },
   "outputs": [
    {
     "name": "stdout",
     "output_type": "stream",
     "text": [
      "Dropping features: ['maxdeutsch1', 'maxdeutsch.Missing.', 'frau1']\n"
     ]
    }
   ],
   "source": [
    "if len(excluded_features_columns) > 0:\n",
    "    print(f\"Dropping features: {excluded_features_columns}\")\n",
    "    X_test.drop(excluded_features_columns, axis=1, inplace=True)"
   ]
  },
  {
   "cell_type": "code",
   "execution_count": 34,
   "id": "1853aaf5-fb9f-46cb-a2b5-8ea4ae2237e4",
   "metadata": {
    "execution": {
     "iopub.execute_input": "2025-07-30T21:41:01.313117Z",
     "iopub.status.busy": "2025-07-30T21:41:01.312695Z",
     "iopub.status.idle": "2025-07-30T21:41:01.374410Z",
     "shell.execute_reply": "2025-07-30T21:41:01.373418Z"
    },
    "papermill": {
     "duration": 0.079291,
     "end_time": "2025-07-30T21:41:01.376428",
     "exception": false,
     "start_time": "2025-07-30T21:41:01.297137",
     "status": "completed"
    },
    "tags": []
   },
   "outputs": [
    {
     "name": "stdout",
     "output_type": "stream",
     "text": [
      "Dropping features: ['maxdeutsch1', 'maxdeutsch.Missing.', 'frau1']\n"
     ]
    }
   ],
   "source": [
    "if len(excluded_features_columns) > 0:\n",
    "    print(f\"Dropping features: {excluded_features_columns}\")\n",
    "    X_calib.drop(excluded_features_columns, axis=1, inplace=True)"
   ]
  },
  {
   "cell_type": "code",
   "execution_count": 35,
   "id": "6727d079-03e5-481e-9d38-292a90b7a0a8",
   "metadata": {
    "execution": {
     "iopub.execute_input": "2025-07-30T21:41:01.430818Z",
     "iopub.status.busy": "2025-07-30T21:41:01.430106Z",
     "iopub.status.idle": "2025-07-30T21:41:01.435487Z",
     "shell.execute_reply": "2025-07-30T21:41:01.434360Z"
    },
    "papermill": {
     "duration": 0.034452,
     "end_time": "2025-07-30T21:41:01.437191",
     "exception": false,
     "start_time": "2025-07-30T21:41:01.402739",
     "status": "completed"
    },
    "tags": []
   },
   "outputs": [],
   "source": [
    "# SPLIT & STRATIFY DATA\n",
    "# ----------------------"
   ]
  },
  {
   "cell_type": "code",
   "execution_count": 36,
   "id": "76c4dc6d",
   "metadata": {
    "execution": {
     "iopub.execute_input": "2025-07-30T21:41:01.487446Z",
     "iopub.status.busy": "2025-07-30T21:41:01.487043Z",
     "iopub.status.idle": "2025-07-30T21:41:01.492646Z",
     "shell.execute_reply": "2025-07-30T21:41:01.491793Z"
    },
    "papermill": {
     "duration": 0.030941,
     "end_time": "2025-07-30T21:41:01.494352",
     "exception": false,
     "start_time": "2025-07-30T21:41:01.463411",
     "status": "completed"
    },
    "tags": []
   },
   "outputs": [],
   "source": [
    "# EXCLUDE CERTAIN SUBGROUPS\n",
    "# ----------------------\n",
    "\n",
    "mode = universe.get(\"exclude_subgroups\", \"keep-all\") \n",
    "# Fetches the exclude_subgroups setting from the universe dict.\n",
    "# Defaults to \"keep-all\" if the key is missing."
   ]
  },
  {
   "cell_type": "code",
   "execution_count": 37,
   "id": "21994072",
   "metadata": {
    "execution": {
     "iopub.execute_input": "2025-07-30T21:41:01.543698Z",
     "iopub.status.busy": "2025-07-30T21:41:01.542737Z",
     "iopub.status.idle": "2025-07-30T21:41:01.550460Z",
     "shell.execute_reply": "2025-07-30T21:41:01.549405Z"
    },
    "papermill": {
     "duration": 0.037413,
     "end_time": "2025-07-30T21:41:01.555520",
     "exception": false,
     "start_time": "2025-07-30T21:41:01.518107",
     "status": "completed"
    },
    "tags": []
   },
   "outputs": [],
   "source": [
    "if mode == \"keep-all\":\n",
    "    keep_mask = pd.Series(True, index=org_train.index)\n",
    "\n",
    "# org_train contains the original feature columns from features_org (in Simson)\n",
    "# features_org contains unprocessed features, for me X_train at beginning ???\n",
    "# For keep-all, creates a boolean Series (keep_mask) of all True, so no rows are removed.\n",
    "\n",
    "elif mode == \"drop-non-german\":\n",
    "    keep_mask = org_train[\"maxdeutsch1\"] == 1 # ??? what about missing values?\n",
    "\n",
    "else:\n",
    "    raise ValueError(f\"Unsupported mode for exclude_subgroups: {mode}\")\n"
   ]
  },
  {
   "cell_type": "code",
   "execution_count": 38,
   "id": "71651440",
   "metadata": {
    "execution": {
     "iopub.execute_input": "2025-07-30T21:41:01.618860Z",
     "iopub.status.busy": "2025-07-30T21:41:01.618313Z",
     "iopub.status.idle": "2025-07-30T21:41:01.626129Z",
     "shell.execute_reply": "2025-07-30T21:41:01.625096Z"
    },
    "papermill": {
     "duration": 0.035795,
     "end_time": "2025-07-30T21:41:01.628416",
     "exception": false,
     "start_time": "2025-07-30T21:41:01.592621",
     "status": "completed"
    },
    "tags": []
   },
   "outputs": [
    {
     "name": "stdout",
     "output_type": "stream",
     "text": [
      "Dropping 147 rows (14.70%) where mode='drop-non-german'\n"
     ]
    }
   ],
   "source": [
    "n_drop = (~keep_mask).sum() # Calculates how many rows are set to be dropped\n",
    "if n_drop > 0:\n",
    "    pct = n_drop / len(keep_mask) * 100\n",
    "    print(f\"Dropping {n_drop} rows ({pct:.2f}%) where mode='{mode}'\")"
   ]
  },
  {
   "cell_type": "code",
   "execution_count": 39,
   "id": "5fb8eee5",
   "metadata": {
    "execution": {
     "iopub.execute_input": "2025-07-30T21:41:01.698576Z",
     "iopub.status.busy": "2025-07-30T21:41:01.698039Z",
     "iopub.status.idle": "2025-07-30T21:41:01.705246Z",
     "shell.execute_reply": "2025-07-30T21:41:01.703957Z"
    },
    "papermill": {
     "duration": 0.051575,
     "end_time": "2025-07-30T21:41:01.707440",
     "exception": false,
     "start_time": "2025-07-30T21:41:01.655865",
     "status": "completed"
    },
    "tags": []
   },
   "outputs": [],
   "source": [
    "X_train = X_train[keep_mask]"
   ]
  },
  {
   "cell_type": "code",
   "execution_count": 40,
   "id": "b202bb3a",
   "metadata": {
    "execution": {
     "iopub.execute_input": "2025-07-30T21:41:01.760935Z",
     "iopub.status.busy": "2025-07-30T21:41:01.760519Z",
     "iopub.status.idle": "2025-07-30T21:41:01.766818Z",
     "shell.execute_reply": "2025-07-30T21:41:01.765691Z"
    },
    "papermill": {
     "duration": 0.036174,
     "end_time": "2025-07-30T21:41:01.768749",
     "exception": false,
     "start_time": "2025-07-30T21:41:01.732575",
     "status": "completed"
    },
    "tags": []
   },
   "outputs": [],
   "source": [
    "y_train = y_train[keep_mask]"
   ]
  },
  {
   "cell_type": "markdown",
   "id": "493e2ac3",
   "metadata": {
    "papermill": {
     "duration": 0.020639,
     "end_time": "2025-07-30T21:41:01.830038",
     "exception": false,
     "start_time": "2025-07-30T21:41:01.809399",
     "status": "completed"
    },
    "tags": []
   },
   "source": [
    "# Model Training"
   ]
  },
  {
   "cell_type": "code",
   "execution_count": 41,
   "id": "679e1268",
   "metadata": {
    "execution": {
     "iopub.execute_input": "2025-07-30T21:41:01.875138Z",
     "iopub.status.busy": "2025-07-30T21:41:01.874184Z",
     "iopub.status.idle": "2025-07-30T21:41:02.072760Z",
     "shell.execute_reply": "2025-07-30T21:41:02.071772Z"
    },
    "papermill": {
     "duration": 0.224144,
     "end_time": "2025-07-30T21:41:02.074808",
     "exception": false,
     "start_time": "2025-07-30T21:41:01.850664",
     "status": "completed"
    },
    "tags": []
   },
   "outputs": [],
   "source": [
    "from sklearn.linear_model import LogisticRegression\n",
    "from sklearn.ensemble import GradientBoostingClassifier, RandomForestClassifier\n",
    "\n",
    "if (universe[\"model\"] == \"logreg\"):\n",
    "    model = LogisticRegression() #penalty=\"none\") #, solver=\"newton-cg\", max_iter=1) # include random_state=19 ?\n",
    "elif (universe[\"model\"] == \"penalized_logreg\"):\n",
    "    model = LogisticRegression(penalty=\"l2\", C=1.0) #, solver=\"newton-cg\", max_iter=1)\n",
    "elif (universe[\"model\"] == \"rf\"):\n",
    "    model = RandomForestClassifier(n_estimators=100, n_jobs=-1)\n",
    "elif (universe[\"model\"] == \"gbm\"):\n",
    "    model = GradientBoostingClassifier()\n",
    "elif (universe[\"model\"] == \"elasticnet\"):\n",
    "    model = LogisticRegression(penalty = 'elasticnet', solver = 'saga', l1_ratio = 0.5, max_iter=5000) # which solver to use?\n",
    "else:\n",
    "    raise \"Unsupported universe.model\""
   ]
  },
  {
   "cell_type": "code",
   "execution_count": 42,
   "id": "0cc8f744",
   "metadata": {
    "execution": {
     "iopub.execute_input": "2025-07-30T21:41:02.103601Z",
     "iopub.status.busy": "2025-07-30T21:41:02.103128Z",
     "iopub.status.idle": "2025-07-30T21:41:02.109458Z",
     "shell.execute_reply": "2025-07-30T21:41:02.108203Z"
    },
    "papermill": {
     "duration": 0.022415,
     "end_time": "2025-07-30T21:41:02.111769",
     "exception": false,
     "start_time": "2025-07-30T21:41:02.089354",
     "status": "completed"
    },
    "tags": []
   },
   "outputs": [],
   "source": [
    "import numpy as np\n",
    "from sklearn.pipeline import Pipeline\n",
    "from sklearn.preprocessing import StandardScaler\n",
    "\n",
    "model = Pipeline([\n",
    "    #(\"continuous_processor\", continuous_processor),\n",
    "    #(\"categorical_preprocessor\", categorical_preprocessor),\n",
    "    (\"scale\", StandardScaler() if universe[\"scale\"] == \"scale\" else None), \n",
    "    (\"model\", model),\n",
    "])"
   ]
  },
  {
   "cell_type": "code",
   "execution_count": 43,
   "id": "9442c04d",
   "metadata": {
    "execution": {
     "iopub.execute_input": "2025-07-30T21:41:02.168154Z",
     "iopub.status.busy": "2025-07-30T21:41:02.167643Z",
     "iopub.status.idle": "2025-07-30T21:41:02.682162Z",
     "shell.execute_reply": "2025-07-30T21:41:02.681154Z"
    },
    "papermill": {
     "duration": 0.545504,
     "end_time": "2025-07-30T21:41:02.684498",
     "exception": false,
     "start_time": "2025-07-30T21:41:02.138994",
     "status": "completed"
    },
    "tags": []
   },
   "outputs": [
    {
     "data": {
      "text/html": [
       "<style>#sk-container-id-1 {color: black;background-color: white;}#sk-container-id-1 pre{padding: 0;}#sk-container-id-1 div.sk-toggleable {background-color: white;}#sk-container-id-1 label.sk-toggleable__label {cursor: pointer;display: block;width: 100%;margin-bottom: 0;padding: 0.3em;box-sizing: border-box;text-align: center;}#sk-container-id-1 label.sk-toggleable__label-arrow:before {content: \"▸\";float: left;margin-right: 0.25em;color: #696969;}#sk-container-id-1 label.sk-toggleable__label-arrow:hover:before {color: black;}#sk-container-id-1 div.sk-estimator:hover label.sk-toggleable__label-arrow:before {color: black;}#sk-container-id-1 div.sk-toggleable__content {max-height: 0;max-width: 0;overflow: hidden;text-align: left;background-color: #f0f8ff;}#sk-container-id-1 div.sk-toggleable__content pre {margin: 0.2em;color: black;border-radius: 0.25em;background-color: #f0f8ff;}#sk-container-id-1 input.sk-toggleable__control:checked~div.sk-toggleable__content {max-height: 200px;max-width: 100%;overflow: auto;}#sk-container-id-1 input.sk-toggleable__control:checked~label.sk-toggleable__label-arrow:before {content: \"▾\";}#sk-container-id-1 div.sk-estimator input.sk-toggleable__control:checked~label.sk-toggleable__label {background-color: #d4ebff;}#sk-container-id-1 div.sk-label input.sk-toggleable__control:checked~label.sk-toggleable__label {background-color: #d4ebff;}#sk-container-id-1 input.sk-hidden--visually {border: 0;clip: rect(1px 1px 1px 1px);clip: rect(1px, 1px, 1px, 1px);height: 1px;margin: -1px;overflow: hidden;padding: 0;position: absolute;width: 1px;}#sk-container-id-1 div.sk-estimator {font-family: monospace;background-color: #f0f8ff;border: 1px dotted black;border-radius: 0.25em;box-sizing: border-box;margin-bottom: 0.5em;}#sk-container-id-1 div.sk-estimator:hover {background-color: #d4ebff;}#sk-container-id-1 div.sk-parallel-item::after {content: \"\";width: 100%;border-bottom: 1px solid gray;flex-grow: 1;}#sk-container-id-1 div.sk-label:hover label.sk-toggleable__label {background-color: #d4ebff;}#sk-container-id-1 div.sk-serial::before {content: \"\";position: absolute;border-left: 1px solid gray;box-sizing: border-box;top: 0;bottom: 0;left: 50%;z-index: 0;}#sk-container-id-1 div.sk-serial {display: flex;flex-direction: column;align-items: center;background-color: white;padding-right: 0.2em;padding-left: 0.2em;position: relative;}#sk-container-id-1 div.sk-item {position: relative;z-index: 1;}#sk-container-id-1 div.sk-parallel {display: flex;align-items: stretch;justify-content: center;background-color: white;position: relative;}#sk-container-id-1 div.sk-item::before, #sk-container-id-1 div.sk-parallel-item::before {content: \"\";position: absolute;border-left: 1px solid gray;box-sizing: border-box;top: 0;bottom: 0;left: 50%;z-index: -1;}#sk-container-id-1 div.sk-parallel-item {display: flex;flex-direction: column;z-index: 1;position: relative;background-color: white;}#sk-container-id-1 div.sk-parallel-item:first-child::after {align-self: flex-end;width: 50%;}#sk-container-id-1 div.sk-parallel-item:last-child::after {align-self: flex-start;width: 50%;}#sk-container-id-1 div.sk-parallel-item:only-child::after {width: 0;}#sk-container-id-1 div.sk-dashed-wrapped {border: 1px dashed gray;margin: 0 0.4em 0.5em 0.4em;box-sizing: border-box;padding-bottom: 0.4em;background-color: white;}#sk-container-id-1 div.sk-label label {font-family: monospace;font-weight: bold;display: inline-block;line-height: 1.2em;}#sk-container-id-1 div.sk-label-container {text-align: center;}#sk-container-id-1 div.sk-container {/* jupyter's `normalize.less` sets `[hidden] { display: none; }` but bootstrap.min.css set `[hidden] { display: none !important; }` so we also need the `!important` here to be able to override the default hidden behavior on the sphinx rendered scikit-learn.org. See: https://github.com/scikit-learn/scikit-learn/issues/21755 */display: inline-block !important;position: relative;}#sk-container-id-1 div.sk-text-repr-fallback {display: none;}</style><div id=\"sk-container-id-1\" class=\"sk-top-container\"><div class=\"sk-text-repr-fallback\"><pre>Pipeline(steps=[(&#x27;scale&#x27;, None), (&#x27;model&#x27;, RandomForestClassifier(n_jobs=-1))])</pre><b>In a Jupyter environment, please rerun this cell to show the HTML representation or trust the notebook. <br />On GitHub, the HTML representation is unable to render, please try loading this page with nbviewer.org.</b></div><div class=\"sk-container\" hidden><div class=\"sk-item sk-dashed-wrapped\"><div class=\"sk-label-container\"><div class=\"sk-label sk-toggleable\"><input class=\"sk-toggleable__control sk-hidden--visually\" id=\"sk-estimator-id-1\" type=\"checkbox\" ><label for=\"sk-estimator-id-1\" class=\"sk-toggleable__label sk-toggleable__label-arrow\">Pipeline</label><div class=\"sk-toggleable__content\"><pre>Pipeline(steps=[(&#x27;scale&#x27;, None), (&#x27;model&#x27;, RandomForestClassifier(n_jobs=-1))])</pre></div></div></div><div class=\"sk-serial\"><div class=\"sk-item\"><div class=\"sk-estimator sk-toggleable\"><input class=\"sk-toggleable__control sk-hidden--visually\" id=\"sk-estimator-id-2\" type=\"checkbox\" ><label for=\"sk-estimator-id-2\" class=\"sk-toggleable__label sk-toggleable__label-arrow\">None</label><div class=\"sk-toggleable__content\"><pre>None</pre></div></div></div><div class=\"sk-item\"><div class=\"sk-estimator sk-toggleable\"><input class=\"sk-toggleable__control sk-hidden--visually\" id=\"sk-estimator-id-3\" type=\"checkbox\" ><label for=\"sk-estimator-id-3\" class=\"sk-toggleable__label sk-toggleable__label-arrow\">RandomForestClassifier</label><div class=\"sk-toggleable__content\"><pre>RandomForestClassifier(n_jobs=-1)</pre></div></div></div></div></div></div></div>"
      ],
      "text/plain": [
       "Pipeline(steps=[('scale', None), ('model', RandomForestClassifier(n_jobs=-1))])"
      ]
     },
     "execution_count": 43,
     "metadata": {},
     "output_type": "execute_result"
    }
   ],
   "source": [
    "model.fit(X_train, y_train.values.ravel())"
   ]
  },
  {
   "cell_type": "code",
   "execution_count": 44,
   "id": "af59f8c0",
   "metadata": {
    "execution": {
     "iopub.execute_input": "2025-07-30T21:41:02.758815Z",
     "iopub.status.busy": "2025-07-30T21:41:02.758304Z",
     "iopub.status.idle": "2025-07-30T21:41:02.764531Z",
     "shell.execute_reply": "2025-07-30T21:41:02.763417Z"
    },
    "papermill": {
     "duration": 0.058224,
     "end_time": "2025-07-30T21:41:02.766314",
     "exception": false,
     "start_time": "2025-07-30T21:41:02.708090",
     "status": "completed"
    },
    "tags": []
   },
   "outputs": [],
   "source": [
    "from fairness_multiverse.universe import predict_w_threshold"
   ]
  },
  {
   "cell_type": "code",
   "execution_count": 45,
   "id": "a7cf2e16",
   "metadata": {
    "execution": {
     "iopub.execute_input": "2025-07-30T21:41:02.815981Z",
     "iopub.status.busy": "2025-07-30T21:41:02.815439Z",
     "iopub.status.idle": "2025-07-30T21:41:03.643893Z",
     "shell.execute_reply": "2025-07-30T21:41:03.642957Z"
    },
    "papermill": {
     "duration": 0.855813,
     "end_time": "2025-07-30T21:41:03.645730",
     "exception": false,
     "start_time": "2025-07-30T21:41:02.789917",
     "status": "completed"
    },
    "tags": []
   },
   "outputs": [
    {
     "data": {
      "text/plain": [
       "0.8596589009029094"
      ]
     },
     "execution_count": 45,
     "metadata": {},
     "output_type": "execute_result"
    }
   ],
   "source": [
    "probs_test = model.predict_proba(X_test)\n",
    "\n",
    "'''\n",
    "Below code returns a boolean array (or binary 0/1 array depending on how it’s used) where each element \n",
    "is True if the probability of class 1 is greater than or equal to the threshold, and False otherwise.\n",
    "'''\n",
    "y_pred_default = predict_w_threshold(probs_test, 0.5)\n",
    "\n",
    "from sklearn.metrics import accuracy_score\n",
    "\n",
    "# Naive prediction\n",
    "accuracy_score(y_true = y_true, y_pred = y_pred_default)"
   ]
  },
  {
   "cell_type": "code",
   "execution_count": 46,
   "id": "081964c3",
   "metadata": {
    "execution": {
     "iopub.execute_input": "2025-07-30T21:41:03.696740Z",
     "iopub.status.busy": "2025-07-30T21:41:03.695763Z",
     "iopub.status.idle": "2025-07-30T21:41:04.408560Z",
     "shell.execute_reply": "2025-07-30T21:41:04.407569Z"
    },
    "papermill": {
     "duration": 0.740395,
     "end_time": "2025-07-30T21:41:04.410258",
     "exception": false,
     "start_time": "2025-07-30T21:41:03.669863",
     "status": "completed"
    },
    "tags": []
   },
   "outputs": [
    {
     "data": {
      "text/plain": [
       "array([0, 0, 0, ..., 0, 0, 0])"
      ]
     },
     "execution_count": 46,
     "metadata": {},
     "output_type": "execute_result"
    }
   ],
   "source": [
    "model.predict(X_test)"
   ]
  },
  {
   "cell_type": "markdown",
   "id": "56c9705b",
   "metadata": {
    "papermill": {
     "duration": 0.027819,
     "end_time": "2025-07-30T21:41:04.477869",
     "exception": false,
     "start_time": "2025-07-30T21:41:04.450050",
     "status": "completed"
    },
    "tags": []
   },
   "source": [
    "# Conformal Prediction"
   ]
  },
  {
   "cell_type": "code",
   "execution_count": 47,
   "id": "160ec6ff",
   "metadata": {
    "execution": {
     "iopub.execute_input": "2025-07-30T21:41:04.545082Z",
     "iopub.status.busy": "2025-07-30T21:41:04.544698Z",
     "iopub.status.idle": "2025-07-30T21:41:04.550595Z",
     "shell.execute_reply": "2025-07-30T21:41:04.549468Z"
    },
    "papermill": {
     "duration": 0.04887,
     "end_time": "2025-07-30T21:41:04.552717",
     "exception": false,
     "start_time": "2025-07-30T21:41:04.503847",
     "status": "completed"
    },
    "tags": []
   },
   "outputs": [],
   "source": [
    "# Miscoverage level for conformal prediction (10% allowed error rate => 90% target coverage)\n",
    "alpha = 0.1"
   ]
  },
  {
   "cell_type": "code",
   "execution_count": 48,
   "id": "eadf4555-3dd3-440e-8e35-f82a4ad9f855",
   "metadata": {
    "execution": {
     "iopub.execute_input": "2025-07-30T21:41:04.639322Z",
     "iopub.status.busy": "2025-07-30T21:41:04.638920Z",
     "iopub.status.idle": "2025-07-30T21:41:05.351011Z",
     "shell.execute_reply": "2025-07-30T21:41:05.350055Z"
    },
    "papermill": {
     "duration": 0.752564,
     "end_time": "2025-07-30T21:41:05.352978",
     "exception": false,
     "start_time": "2025-07-30T21:41:04.600414",
     "status": "completed"
    },
    "tags": []
   },
   "outputs": [],
   "source": [
    "probs_calib = model.predict_proba(X_calib)"
   ]
  },
  {
   "cell_type": "code",
   "execution_count": 49,
   "id": "2ed93547-6d5d-4983-9b36-1ecb300da49a",
   "metadata": {
    "execution": {
     "iopub.execute_input": "2025-07-30T21:41:05.405312Z",
     "iopub.status.busy": "2025-07-30T21:41:05.404864Z",
     "iopub.status.idle": "2025-07-30T21:41:05.410475Z",
     "shell.execute_reply": "2025-07-30T21:41:05.409555Z"
    },
    "papermill": {
     "duration": 0.033833,
     "end_time": "2025-07-30T21:41:05.412970",
     "exception": false,
     "start_time": "2025-07-30T21:41:05.379137",
     "status": "completed"
    },
    "tags": []
   },
   "outputs": [],
   "source": [
    "y_calib = y_calib.values.ravel().astype(int)"
   ]
  },
  {
   "cell_type": "code",
   "execution_count": 50,
   "id": "65d1320d-f588-4b38-9072-62af1ae97f7d",
   "metadata": {
    "execution": {
     "iopub.execute_input": "2025-07-30T21:41:05.465380Z",
     "iopub.status.busy": "2025-07-30T21:41:05.464622Z",
     "iopub.status.idle": "2025-07-30T21:41:05.472594Z",
     "shell.execute_reply": "2025-07-30T21:41:05.471573Z"
    },
    "papermill": {
     "duration": 0.035624,
     "end_time": "2025-07-30T21:41:05.474286",
     "exception": false,
     "start_time": "2025-07-30T21:41:05.438662",
     "status": "completed"
    },
    "tags": []
   },
   "outputs": [],
   "source": [
    "from fairness_multiverse.conformal import compute_nc_scores\n",
    "\n",
    "# Compute nonconformity scores on calibration set (1 - probability of true class)\n",
    "nc_scores = compute_nc_scores(probs_calib, y_calib)"
   ]
  },
  {
   "cell_type": "code",
   "execution_count": 51,
   "id": "df3b8ca3-53b7-43d5-9667-7c85da7aeda2",
   "metadata": {
    "execution": {
     "iopub.execute_input": "2025-07-30T21:41:05.527295Z",
     "iopub.status.busy": "2025-07-30T21:41:05.526403Z",
     "iopub.status.idle": "2025-07-30T21:41:05.534028Z",
     "shell.execute_reply": "2025-07-30T21:41:05.532843Z"
    },
    "papermill": {
     "duration": 0.035485,
     "end_time": "2025-07-30T21:41:05.535928",
     "exception": false,
     "start_time": "2025-07-30T21:41:05.500443",
     "status": "completed"
    },
    "tags": []
   },
   "outputs": [],
   "source": [
    "from fairness_multiverse.conformal import find_threshold\n",
    "\n",
    "# Find conformal threshold q_hat for the given alpha (split conformal method)\n",
    "q_hat = find_threshold(nc_scores, alpha)"
   ]
  },
  {
   "cell_type": "code",
   "execution_count": 52,
   "id": "4d29e6c1-0ef6-4aa4-b8fe-4fe79b0d033a",
   "metadata": {
    "execution": {
     "iopub.execute_input": "2025-07-30T21:41:05.593337Z",
     "iopub.status.busy": "2025-07-30T21:41:05.592824Z",
     "iopub.status.idle": "2025-07-30T21:41:05.600084Z",
     "shell.execute_reply": "2025-07-30T21:41:05.599087Z"
    },
    "papermill": {
     "duration": 0.039578,
     "end_time": "2025-07-30T21:41:05.601773",
     "exception": false,
     "start_time": "2025-07-30T21:41:05.562195",
     "status": "completed"
    },
    "tags": []
   },
   "outputs": [
    {
     "data": {
      "text/plain": [
       "0.6699999999999999"
      ]
     },
     "execution_count": 52,
     "metadata": {},
     "output_type": "execute_result"
    }
   ],
   "source": [
    "q_hat"
   ]
  },
  {
   "cell_type": "code",
   "execution_count": 53,
   "id": "92460794-cdac-4be2-ba28-f28c0515a6fb",
   "metadata": {
    "execution": {
     "iopub.execute_input": "2025-07-30T21:41:05.655723Z",
     "iopub.status.busy": "2025-07-30T21:41:05.654842Z",
     "iopub.status.idle": "2025-07-30T21:41:06.981870Z",
     "shell.execute_reply": "2025-07-30T21:41:06.980797Z"
    },
    "papermill": {
     "duration": 1.355723,
     "end_time": "2025-07-30T21:41:06.983736",
     "exception": false,
     "start_time": "2025-07-30T21:41:05.628013",
     "status": "completed"
    },
    "tags": []
   },
   "outputs": [],
   "source": [
    "from fairness_multiverse.conformal import predict_conformal_sets\n",
    "\n",
    "# Generate prediction sets for each test example\n",
    "pred_sets = predict_conformal_sets(model, X_test, q_hat)"
   ]
  },
  {
   "cell_type": "code",
   "execution_count": 54,
   "id": "d90c9a65-e6db-4f5d-80cd-e68fb7e46829",
   "metadata": {
    "execution": {
     "iopub.execute_input": "2025-07-30T21:41:07.040425Z",
     "iopub.status.busy": "2025-07-30T21:41:07.039850Z",
     "iopub.status.idle": "2025-07-30T21:41:07.045775Z",
     "shell.execute_reply": "2025-07-30T21:41:07.044931Z"
    },
    "papermill": {
     "duration": 0.035485,
     "end_time": "2025-07-30T21:41:07.047743",
     "exception": false,
     "start_time": "2025-07-30T21:41:07.012258",
     "status": "completed"
    },
    "tags": []
   },
   "outputs": [],
   "source": [
    "y_true = y_true.squeeze()"
   ]
  },
  {
   "cell_type": "code",
   "execution_count": 55,
   "id": "3a58a54a-1e68-46b9-927a-df01f18aebc8",
   "metadata": {
    "execution": {
     "iopub.execute_input": "2025-07-30T21:41:07.102627Z",
     "iopub.status.busy": "2025-07-30T21:41:07.102096Z",
     "iopub.status.idle": "2025-07-30T21:41:08.031884Z",
     "shell.execute_reply": "2025-07-30T21:41:08.030901Z"
    },
    "papermill": {
     "duration": 0.957939,
     "end_time": "2025-07-30T21:41:08.033849",
     "exception": false,
     "start_time": "2025-07-30T21:41:07.075910",
     "status": "completed"
    },
    "tags": []
   },
   "outputs": [],
   "source": [
    "from fairness_multiverse.conformal import evaluate_sets\n",
    "\n",
    "# Evaluate coverage and average set size on test data\n",
    "metrics = evaluate_sets(pred_sets, y_true)"
   ]
  },
  {
   "cell_type": "markdown",
   "id": "2b569c12-9aaa-4c88-98c9-bbcd0cf3ebb8",
   "metadata": {
    "papermill": {
     "duration": 0.0271,
     "end_time": "2025-07-30T21:41:08.088257",
     "exception": false,
     "start_time": "2025-07-30T21:41:08.061157",
     "status": "completed"
    },
    "tags": []
   },
   "source": [
    "# CP Metrics"
   ]
  },
  {
   "cell_type": "code",
   "execution_count": 56,
   "id": "5ce0a5cb-201f-45a0-ade5-94c7f0bd6095",
   "metadata": {
    "execution": {
     "iopub.execute_input": "2025-07-30T21:41:08.143805Z",
     "iopub.status.busy": "2025-07-30T21:41:08.142865Z",
     "iopub.status.idle": "2025-07-30T21:41:08.150578Z",
     "shell.execute_reply": "2025-07-30T21:41:08.149557Z"
    },
    "papermill": {
     "duration": 0.037229,
     "end_time": "2025-07-30T21:41:08.152269",
     "exception": false,
     "start_time": "2025-07-30T21:41:08.115040",
     "status": "completed"
    },
    "tags": []
   },
   "outputs": [
    {
     "data": {
      "text/plain": [
       "{'coverage': 0.9163972801248468, 'avg_size': 1.1811392263961655}"
      ]
     },
     "execution_count": 56,
     "metadata": {},
     "output_type": "execute_result"
    }
   ],
   "source": [
    "metrics"
   ]
  },
  {
   "cell_type": "code",
   "execution_count": 57,
   "id": "9b9a838d-31c9-430b-ae14-12baee460d17",
   "metadata": {
    "execution": {
     "iopub.execute_input": "2025-07-30T21:41:08.208491Z",
     "iopub.status.busy": "2025-07-30T21:41:08.207876Z",
     "iopub.status.idle": "2025-07-30T21:41:08.214463Z",
     "shell.execute_reply": "2025-07-30T21:41:08.213382Z"
    },
    "papermill": {
     "duration": 0.03619,
     "end_time": "2025-07-30T21:41:08.216171",
     "exception": false,
     "start_time": "2025-07-30T21:41:08.179981",
     "status": "completed"
    },
    "tags": []
   },
   "outputs": [],
   "source": [
    "example_universe = universe.copy()\n",
    "universe_training_year = example_universe.get(\"training_year\")\n",
    "universe_training_size = example_universe.get(\"training_size\")\n",
    "universe_scale = example_universe.get(\"scale\")\n",
    "universe_model = example_universe.get(\"model\")\n",
    "universe_exclude_features = example_universe.get(\"exclude_features\")\n",
    "universe_exclude_subgroups = example_universe.get(\"exclude_subgroups\")"
   ]
  },
  {
   "cell_type": "code",
   "execution_count": 58,
   "id": "f4b6a8ac-9dc0-4245-8a91-5b3b5999c4f9",
   "metadata": {
    "execution": {
     "iopub.execute_input": "2025-07-30T21:41:08.273200Z",
     "iopub.status.busy": "2025-07-30T21:41:08.272305Z",
     "iopub.status.idle": "2025-07-30T21:41:08.279346Z",
     "shell.execute_reply": "2025-07-30T21:41:08.278302Z"
    },
    "papermill": {
     "duration": 0.037324,
     "end_time": "2025-07-30T21:41:08.281289",
     "exception": false,
     "start_time": "2025-07-30T21:41:08.243965",
     "status": "completed"
    },
    "tags": []
   },
   "outputs": [],
   "source": [
    "cp_metrics_dict = {\n",
    "    \"universe_id\": [universe_id],\n",
    "    \"universe_training_year\": [universe_training_year],\n",
    "    \"universe_training_size\": [universe_training_size],\n",
    "    \"universe_scale\": [universe_scale],\n",
    "    \"universe_model\": [universe_model],\n",
    "    \"universe_exclude_features\": [universe_exclude_features],\n",
    "    \"universe_exclude_subgroups\": [universe_exclude_subgroups],\n",
    "    \"q_hat\": [q_hat],\n",
    "    \"coverage\": [metrics[\"coverage\"]],\n",
    "    \"avg_size\": [metrics[\"avg_size\"]],\n",
    "}"
   ]
  },
  {
   "cell_type": "code",
   "execution_count": 59,
   "id": "908acbb1-0371-4915-85ca-3fa520d2efe2",
   "metadata": {
    "execution": {
     "iopub.execute_input": "2025-07-30T21:41:08.337957Z",
     "iopub.status.busy": "2025-07-30T21:41:08.337476Z",
     "iopub.status.idle": "2025-07-30T21:41:08.345076Z",
     "shell.execute_reply": "2025-07-30T21:41:08.344136Z"
    },
    "papermill": {
     "duration": 0.037232,
     "end_time": "2025-07-30T21:41:08.346808",
     "exception": false,
     "start_time": "2025-07-30T21:41:08.309576",
     "status": "completed"
    },
    "tags": []
   },
   "outputs": [
    {
     "data": {
      "text/plain": [
       "{'universe_id': ['38dc48bca3dc2aa73be4e93a4ad34749'],\n",
       " 'universe_training_year': ['2012_14'],\n",
       " 'universe_training_size': ['1k'],\n",
       " 'universe_scale': ['do-not-scale'],\n",
       " 'universe_model': ['rf'],\n",
       " 'universe_exclude_features': ['nationality-sex'],\n",
       " 'universe_exclude_subgroups': ['drop-non-german'],\n",
       " 'q_hat': [0.6699999999999999],\n",
       " 'coverage': [0.9163972801248468],\n",
       " 'avg_size': [1.1811392263961655]}"
      ]
     },
     "execution_count": 59,
     "metadata": {},
     "output_type": "execute_result"
    }
   ],
   "source": [
    "cp_metrics_dict"
   ]
  },
  {
   "cell_type": "code",
   "execution_count": 60,
   "id": "33007efc-14e9-4ec6-97ac-56a455c82265",
   "metadata": {
    "execution": {
     "iopub.execute_input": "2025-07-30T21:41:08.404040Z",
     "iopub.status.busy": "2025-07-30T21:41:08.403514Z",
     "iopub.status.idle": "2025-07-30T21:41:08.410228Z",
     "shell.execute_reply": "2025-07-30T21:41:08.409041Z"
    },
    "papermill": {
     "duration": 0.03696,
     "end_time": "2025-07-30T21:41:08.411948",
     "exception": false,
     "start_time": "2025-07-30T21:41:08.374988",
     "status": "completed"
    },
    "tags": []
   },
   "outputs": [],
   "source": [
    "cp_metrics_df = pd.DataFrame(cp_metrics_dict)"
   ]
  },
  {
   "cell_type": "code",
   "execution_count": 61,
   "id": "db12611b-57b2-4910-b9d0-355adfd6e7bf",
   "metadata": {
    "execution": {
     "iopub.execute_input": "2025-07-30T21:41:08.469524Z",
     "iopub.status.busy": "2025-07-30T21:41:08.468826Z",
     "iopub.status.idle": "2025-07-30T21:41:08.488484Z",
     "shell.execute_reply": "2025-07-30T21:41:08.487243Z"
    },
    "papermill": {
     "duration": 0.049859,
     "end_time": "2025-07-30T21:41:08.490107",
     "exception": false,
     "start_time": "2025-07-30T21:41:08.440248",
     "status": "completed"
    },
    "tags": []
   },
   "outputs": [
    {
     "data": {
      "text/html": [
       "<div>\n",
       "<style scoped>\n",
       "    .dataframe tbody tr th:only-of-type {\n",
       "        vertical-align: middle;\n",
       "    }\n",
       "\n",
       "    .dataframe tbody tr th {\n",
       "        vertical-align: top;\n",
       "    }\n",
       "\n",
       "    .dataframe thead th {\n",
       "        text-align: right;\n",
       "    }\n",
       "</style>\n",
       "<table border=\"1\" class=\"dataframe\">\n",
       "  <thead>\n",
       "    <tr style=\"text-align: right;\">\n",
       "      <th></th>\n",
       "      <th>universe_id</th>\n",
       "      <th>universe_training_year</th>\n",
       "      <th>universe_training_size</th>\n",
       "      <th>universe_scale</th>\n",
       "      <th>universe_model</th>\n",
       "      <th>universe_exclude_features</th>\n",
       "      <th>universe_exclude_subgroups</th>\n",
       "      <th>q_hat</th>\n",
       "      <th>coverage</th>\n",
       "      <th>avg_size</th>\n",
       "    </tr>\n",
       "  </thead>\n",
       "  <tbody>\n",
       "    <tr>\n",
       "      <th>0</th>\n",
       "      <td>38dc48bca3dc2aa73be4e93a4ad34749</td>\n",
       "      <td>2012_14</td>\n",
       "      <td>1k</td>\n",
       "      <td>do-not-scale</td>\n",
       "      <td>rf</td>\n",
       "      <td>nationality-sex</td>\n",
       "      <td>drop-non-german</td>\n",
       "      <td>0.67</td>\n",
       "      <td>0.916397</td>\n",
       "      <td>1.181139</td>\n",
       "    </tr>\n",
       "  </tbody>\n",
       "</table>\n",
       "</div>"
      ],
      "text/plain": [
       "                        universe_id universe_training_year  \\\n",
       "0  38dc48bca3dc2aa73be4e93a4ad34749                2012_14   \n",
       "\n",
       "  universe_training_size universe_scale universe_model  \\\n",
       "0                     1k   do-not-scale             rf   \n",
       "\n",
       "  universe_exclude_features universe_exclude_subgroups  q_hat  coverage  \\\n",
       "0           nationality-sex            drop-non-german   0.67  0.916397   \n",
       "\n",
       "   avg_size  \n",
       "0  1.181139  "
      ]
     },
     "execution_count": 61,
     "metadata": {},
     "output_type": "execute_result"
    }
   ],
   "source": [
    "cp_metrics_df"
   ]
  },
  {
   "cell_type": "code",
   "execution_count": 62,
   "id": "b7fbde55-a0a1-47e4-9af6-fe4a17fa8c61",
   "metadata": {
    "execution": {
     "iopub.execute_input": "2025-07-30T21:41:08.547462Z",
     "iopub.status.busy": "2025-07-30T21:41:08.546774Z",
     "iopub.status.idle": "2025-07-30T21:41:08.551952Z",
     "shell.execute_reply": "2025-07-30T21:41:08.550867Z"
    },
    "papermill": {
     "duration": 0.035656,
     "end_time": "2025-07-30T21:41:08.553810",
     "exception": false,
     "start_time": "2025-07-30T21:41:08.518154",
     "status": "completed"
    },
    "tags": []
   },
   "outputs": [],
   "source": [
    "# Conditional Coverage & looking at subgroups"
   ]
  },
  {
   "cell_type": "code",
   "execution_count": 63,
   "id": "027ae886-68dd-4141-96c7-805a5450e1ef",
   "metadata": {
    "execution": {
     "iopub.execute_input": "2025-07-30T21:41:08.612809Z",
     "iopub.status.busy": "2025-07-30T21:41:08.612288Z",
     "iopub.status.idle": "2025-07-30T21:41:08.880338Z",
     "shell.execute_reply": "2025-07-30T21:41:08.879374Z"
    },
    "papermill": {
     "duration": 0.299038,
     "end_time": "2025-07-30T21:41:08.882112",
     "exception": false,
     "start_time": "2025-07-30T21:41:08.583074",
     "status": "completed"
    },
    "tags": []
   },
   "outputs": [],
   "source": [
    "from fairness_multiverse.conformal import build_cp_groups\n",
    "\n",
    "cp_groups_df = build_cp_groups(pred_sets, y_true, X_test.index, org_test)\n",
    "#needs universe_id and setting"
   ]
  },
  {
   "cell_type": "code",
   "execution_count": 64,
   "id": "01d5802c-663a-4d1f-9d69-e036faaffbf7",
   "metadata": {
    "execution": {
     "iopub.execute_input": "2025-07-30T21:41:08.934142Z",
     "iopub.status.busy": "2025-07-30T21:41:08.933662Z",
     "iopub.status.idle": "2025-07-30T21:41:08.938479Z",
     "shell.execute_reply": "2025-07-30T21:41:08.937535Z"
    },
    "papermill": {
     "duration": 0.031298,
     "end_time": "2025-07-30T21:41:08.940342",
     "exception": false,
     "start_time": "2025-07-30T21:41:08.909044",
     "status": "completed"
    },
    "tags": []
   },
   "outputs": [],
   "source": [
    "#delete\n",
    "#cp_groups_df"
   ]
  },
  {
   "cell_type": "code",
   "execution_count": 65,
   "id": "fa424af1-d1eb-443d-b717-2d279ada8408",
   "metadata": {
    "execution": {
     "iopub.execute_input": "2025-07-30T21:41:08.987983Z",
     "iopub.status.busy": "2025-07-30T21:41:08.987506Z",
     "iopub.status.idle": "2025-07-30T21:41:08.991575Z",
     "shell.execute_reply": "2025-07-30T21:41:08.990788Z"
    },
    "papermill": {
     "duration": 0.024929,
     "end_time": "2025-07-30T21:41:08.992879",
     "exception": false,
     "start_time": "2025-07-30T21:41:08.967950",
     "status": "completed"
    },
    "tags": []
   },
   "outputs": [],
   "source": [
    "#delete\n",
    "#percentage = (cp_groups_df['nongerman_female'] == 1).mean() * 100\n",
    "#print(percentage)\n"
   ]
  },
  {
   "cell_type": "code",
   "execution_count": 66,
   "id": "6cbdab96-b2b2-45af-ad54-d0516db2e28d",
   "metadata": {
    "execution": {
     "iopub.execute_input": "2025-07-30T21:41:09.021940Z",
     "iopub.status.busy": "2025-07-30T21:41:09.021604Z",
     "iopub.status.idle": "2025-07-30T21:41:09.887255Z",
     "shell.execute_reply": "2025-07-30T21:41:09.886509Z"
    },
    "papermill": {
     "duration": 0.881136,
     "end_time": "2025-07-30T21:41:09.888708",
     "exception": false,
     "start_time": "2025-07-30T21:41:09.007572",
     "status": "completed"
    },
    "tags": []
   },
   "outputs": [],
   "source": [
    "# Define covered = 1 if true_label is in the predicted set\n",
    "cp_groups_df['covered'] = cp_groups_df.apply(\n",
    "    lambda r: int(r['true_label'] in r['pred_set']),\n",
    "    axis=1\n",
    ")"
   ]
  },
  {
   "cell_type": "code",
   "execution_count": 67,
   "id": "338ff529-1a6b-4b87-a931-8e4788d52aad",
   "metadata": {
    "execution": {
     "iopub.execute_input": "2025-07-30T21:41:09.916598Z",
     "iopub.status.busy": "2025-07-30T21:41:09.916233Z",
     "iopub.status.idle": "2025-07-30T21:41:09.920741Z",
     "shell.execute_reply": "2025-07-30T21:41:09.919701Z"
    },
    "papermill": {
     "duration": 0.019847,
     "end_time": "2025-07-30T21:41:09.922292",
     "exception": false,
     "start_time": "2025-07-30T21:41:09.902445",
     "status": "completed"
    },
    "tags": []
   },
   "outputs": [],
   "source": [
    "#cp_groups_df"
   ]
  },
  {
   "cell_type": "code",
   "execution_count": 68,
   "id": "90032e27-66df-4540-9169-4e89cfbaa758",
   "metadata": {
    "execution": {
     "iopub.execute_input": "2025-07-30T21:41:09.951747Z",
     "iopub.status.busy": "2025-07-30T21:41:09.951262Z",
     "iopub.status.idle": "2025-07-30T21:41:09.961016Z",
     "shell.execute_reply": "2025-07-30T21:41:09.960128Z"
    },
    "papermill": {
     "duration": 0.025235,
     "end_time": "2025-07-30T21:41:09.962487",
     "exception": false,
     "start_time": "2025-07-30T21:41:09.937252",
     "status": "completed"
    },
    "tags": []
   },
   "outputs": [],
   "source": [
    "subgroups = ['frau1','nongerman','nongerman_male','nongerman_female']\n",
    "\n",
    "# Conditional coverage for subgroup==1\n",
    "cond_coverage = {\n",
    "    g: cp_groups_df.loc[cp_groups_df[g]==1, 'covered'].mean()\n",
    "    for g in subgroups\n",
    "}"
   ]
  },
  {
   "cell_type": "code",
   "execution_count": 69,
   "id": "1e348fb1-b9c3-45bc-ba23-f016827a7e0d",
   "metadata": {
    "execution": {
     "iopub.execute_input": "2025-07-30T21:41:09.991474Z",
     "iopub.status.busy": "2025-07-30T21:41:09.990982Z",
     "iopub.status.idle": "2025-07-30T21:41:09.997734Z",
     "shell.execute_reply": "2025-07-30T21:41:09.996967Z"
    },
    "papermill": {
     "duration": 0.022044,
     "end_time": "2025-07-30T21:41:09.999054",
     "exception": false,
     "start_time": "2025-07-30T21:41:09.977010",
     "status": "completed"
    },
    "tags": []
   },
   "outputs": [
    {
     "data": {
      "text/plain": [
       "{'frau1': 0.9150559374578784,\n",
       " 'nongerman': 0.9103463762420704,\n",
       " 'nongerman_male': 0.9234441142033685,\n",
       " 'nongerman_female': 0.8886736214605067}"
      ]
     },
     "execution_count": 69,
     "metadata": {},
     "output_type": "execute_result"
    }
   ],
   "source": [
    "cond_coverage"
   ]
  },
  {
   "cell_type": "code",
   "execution_count": 70,
   "id": "f5093324-c3dd-4d63-bc4c-8d945e5c8bbb",
   "metadata": {
    "execution": {
     "iopub.execute_input": "2025-07-30T21:41:10.028667Z",
     "iopub.status.busy": "2025-07-30T21:41:10.027922Z",
     "iopub.status.idle": "2025-07-30T21:41:10.034277Z",
     "shell.execute_reply": "2025-07-30T21:41:10.033479Z"
    },
    "papermill": {
     "duration": 0.021983,
     "end_time": "2025-07-30T21:41:10.035603",
     "exception": false,
     "start_time": "2025-07-30T21:41:10.013620",
     "status": "completed"
    },
    "tags": []
   },
   "outputs": [],
   "source": [
    "for subgroup, cov in cond_coverage.items():\n",
    "    cp_metrics_df[f\"cov_{subgroup}\"] = cov"
   ]
  },
  {
   "cell_type": "code",
   "execution_count": 71,
   "id": "6e872e10-dbe5-49e8-b554-5030c98ff75d",
   "metadata": {
    "execution": {
     "iopub.execute_input": "2025-07-30T21:41:10.065188Z",
     "iopub.status.busy": "2025-07-30T21:41:10.064703Z",
     "iopub.status.idle": "2025-07-30T21:41:10.079857Z",
     "shell.execute_reply": "2025-07-30T21:41:10.079138Z"
    },
    "papermill": {
     "duration": 0.030823,
     "end_time": "2025-07-30T21:41:10.081294",
     "exception": false,
     "start_time": "2025-07-30T21:41:10.050471",
     "status": "completed"
    },
    "tags": []
   },
   "outputs": [
    {
     "data": {
      "text/html": [
       "<div>\n",
       "<style scoped>\n",
       "    .dataframe tbody tr th:only-of-type {\n",
       "        vertical-align: middle;\n",
       "    }\n",
       "\n",
       "    .dataframe tbody tr th {\n",
       "        vertical-align: top;\n",
       "    }\n",
       "\n",
       "    .dataframe thead th {\n",
       "        text-align: right;\n",
       "    }\n",
       "</style>\n",
       "<table border=\"1\" class=\"dataframe\">\n",
       "  <thead>\n",
       "    <tr style=\"text-align: right;\">\n",
       "      <th></th>\n",
       "      <th>universe_id</th>\n",
       "      <th>universe_training_year</th>\n",
       "      <th>universe_training_size</th>\n",
       "      <th>universe_scale</th>\n",
       "      <th>universe_model</th>\n",
       "      <th>universe_exclude_features</th>\n",
       "      <th>universe_exclude_subgroups</th>\n",
       "      <th>q_hat</th>\n",
       "      <th>coverage</th>\n",
       "      <th>avg_size</th>\n",
       "      <th>cov_frau1</th>\n",
       "      <th>cov_nongerman</th>\n",
       "      <th>cov_nongerman_male</th>\n",
       "      <th>cov_nongerman_female</th>\n",
       "    </tr>\n",
       "  </thead>\n",
       "  <tbody>\n",
       "    <tr>\n",
       "      <th>0</th>\n",
       "      <td>38dc48bca3dc2aa73be4e93a4ad34749</td>\n",
       "      <td>2012_14</td>\n",
       "      <td>1k</td>\n",
       "      <td>do-not-scale</td>\n",
       "      <td>rf</td>\n",
       "      <td>nationality-sex</td>\n",
       "      <td>drop-non-german</td>\n",
       "      <td>0.67</td>\n",
       "      <td>0.916397</td>\n",
       "      <td>1.181139</td>\n",
       "      <td>0.915056</td>\n",
       "      <td>0.910346</td>\n",
       "      <td>0.923444</td>\n",
       "      <td>0.888674</td>\n",
       "    </tr>\n",
       "  </tbody>\n",
       "</table>\n",
       "</div>"
      ],
      "text/plain": [
       "                        universe_id universe_training_year  \\\n",
       "0  38dc48bca3dc2aa73be4e93a4ad34749                2012_14   \n",
       "\n",
       "  universe_training_size universe_scale universe_model  \\\n",
       "0                     1k   do-not-scale             rf   \n",
       "\n",
       "  universe_exclude_features universe_exclude_subgroups  q_hat  coverage  \\\n",
       "0           nationality-sex            drop-non-german   0.67  0.916397   \n",
       "\n",
       "   avg_size  cov_frau1  cov_nongerman  cov_nongerman_male  \\\n",
       "0  1.181139   0.915056       0.910346            0.923444   \n",
       "\n",
       "   cov_nongerman_female  \n",
       "0              0.888674  "
      ]
     },
     "execution_count": 71,
     "metadata": {},
     "output_type": "execute_result"
    }
   ],
   "source": [
    "cp_metrics_df"
   ]
  },
  {
   "cell_type": "markdown",
   "id": "33774451",
   "metadata": {
    "papermill": {
     "duration": 0.013054,
     "end_time": "2025-07-30T21:41:10.109063",
     "exception": false,
     "start_time": "2025-07-30T21:41:10.096009",
     "status": "completed"
    },
    "tags": []
   },
   "source": [
    "# (Fairness) Metrics"
   ]
  },
  {
   "cell_type": "code",
   "execution_count": 72,
   "id": "debc5d62",
   "metadata": {
    "execution": {
     "iopub.execute_input": "2025-07-30T21:41:10.137264Z",
     "iopub.status.busy": "2025-07-30T21:41:10.136918Z",
     "iopub.status.idle": "2025-07-30T21:41:10.151384Z",
     "shell.execute_reply": "2025-07-30T21:41:10.150595Z"
    },
    "papermill": {
     "duration": 0.030592,
     "end_time": "2025-07-30T21:41:10.152933",
     "exception": false,
     "start_time": "2025-07-30T21:41:10.122341",
     "status": "completed"
    },
    "tags": []
   },
   "outputs": [],
   "source": [
    "# do I need to include maxdeutsch1.missing?\n",
    "\n",
    "import numpy as np\n",
    "\n",
    "colname_to_bin = \"maxdeutsch1\"\n",
    "majority_value = org_train[colname_to_bin].mode()[0]\n",
    "\n",
    "org_test[\"majmin\"] = np.where(org_test[colname_to_bin] == majority_value, \"majority\", \"minority\")"
   ]
  },
  {
   "cell_type": "code",
   "execution_count": 73,
   "id": "06a50de5",
   "metadata": {
    "execution": {
     "iopub.execute_input": "2025-07-30T21:41:10.182361Z",
     "iopub.status.busy": "2025-07-30T21:41:10.181866Z",
     "iopub.status.idle": "2025-07-30T21:41:11.628128Z",
     "shell.execute_reply": "2025-07-30T21:41:11.627374Z"
    },
    "papermill": {
     "duration": 1.462475,
     "end_time": "2025-07-30T21:41:11.629590",
     "exception": false,
     "start_time": "2025-07-30T21:41:10.167115",
     "status": "completed"
    },
    "tags": []
   },
   "outputs": [],
   "source": [
    "example_universe = universe.copy()\n",
    "example_universe[\"cutoff\"] = example_universe[\"cutoff\"][0]\n",
    "example_universe[\"eval_fairness_grouping\"] = example_universe[\"eval_fairness_grouping\"][0]\n",
    "fairness_dict, metric_frame = universe_analysis.compute_metrics(\n",
    "    example_universe,\n",
    "    y_pred_prob=probs_test,\n",
    "    y_test=y_true,\n",
    "    org_test=org_test,\n",
    ")"
   ]
  },
  {
   "cell_type": "markdown",
   "id": "f95d4e02",
   "metadata": {
    "papermill": {
     "duration": 0.013593,
     "end_time": "2025-07-30T21:41:11.659627",
     "exception": false,
     "start_time": "2025-07-30T21:41:11.646034",
     "status": "completed"
    },
    "tags": []
   },
   "source": [
    "# Overall"
   ]
  },
  {
   "cell_type": "markdown",
   "id": "bdee4871",
   "metadata": {
    "papermill": {
     "duration": 0.013184,
     "end_time": "2025-07-30T21:41:11.686238",
     "exception": false,
     "start_time": "2025-07-30T21:41:11.673054",
     "status": "completed"
    },
    "tags": []
   },
   "source": [
    "Fairness\n",
    "Main fairness target: Equalized Odds. Seems to be a better fit than equal opportunity, since we're not only interested in Y = 1. Seems to be a better fit than demographic parity, since we also care about accuracy, not just equal distribution of preds.\n",
    "\n",
    "Pick column for computation of fairness metrics\n",
    "\n",
    "Performance\n",
    "Overall performance measures, most interesting in relation to the measures split by group below"
   ]
  },
  {
   "cell_type": "code",
   "execution_count": 74,
   "id": "c4e067c6",
   "metadata": {
    "execution": {
     "iopub.execute_input": "2025-07-30T21:41:11.714466Z",
     "iopub.status.busy": "2025-07-30T21:41:11.713967Z",
     "iopub.status.idle": "2025-07-30T21:41:11.721143Z",
     "shell.execute_reply": "2025-07-30T21:41:11.720397Z"
    },
    "papermill": {
     "duration": 0.022897,
     "end_time": "2025-07-30T21:41:11.722560",
     "exception": false,
     "start_time": "2025-07-30T21:41:11.699663",
     "status": "completed"
    },
    "tags": []
   },
   "outputs": [
    {
     "data": {
      "text/plain": [
       "accuracy                   0.220187\n",
       "balanced accuracy          0.544564\n",
       "f1                         0.243978\n",
       "precision                  0.139315\n",
       "false positive rate        0.891755\n",
       "false negative rate        0.019117\n",
       "selection rate             0.903188\n",
       "count                  89710.000000\n",
       "dtype: float64"
      ]
     },
     "execution_count": 74,
     "metadata": {},
     "output_type": "execute_result"
    }
   ],
   "source": [
    "metric_frame.overall"
   ]
  },
  {
   "cell_type": "markdown",
   "id": "e968fe9d",
   "metadata": {
    "papermill": {
     "duration": 0.013718,
     "end_time": "2025-07-30T21:41:11.751145",
     "exception": false,
     "start_time": "2025-07-30T21:41:11.737427",
     "status": "completed"
    },
    "tags": []
   },
   "source": [
    "By Group"
   ]
  },
  {
   "cell_type": "code",
   "execution_count": 75,
   "id": "ec325bce",
   "metadata": {
    "execution": {
     "iopub.execute_input": "2025-07-30T21:41:11.780045Z",
     "iopub.status.busy": "2025-07-30T21:41:11.779524Z",
     "iopub.status.idle": "2025-07-30T21:41:11.792290Z",
     "shell.execute_reply": "2025-07-30T21:41:11.791405Z"
    },
    "papermill": {
     "duration": 0.02896,
     "end_time": "2025-07-30T21:41:11.793669",
     "exception": false,
     "start_time": "2025-07-30T21:41:11.764709",
     "status": "completed"
    },
    "tags": []
   },
   "outputs": [
    {
     "data": {
      "text/html": [
       "<div>\n",
       "<style scoped>\n",
       "    .dataframe tbody tr th:only-of-type {\n",
       "        vertical-align: middle;\n",
       "    }\n",
       "\n",
       "    .dataframe tbody tr th {\n",
       "        vertical-align: top;\n",
       "    }\n",
       "\n",
       "    .dataframe thead th {\n",
       "        text-align: right;\n",
       "    }\n",
       "</style>\n",
       "<table border=\"1\" class=\"dataframe\">\n",
       "  <thead>\n",
       "    <tr style=\"text-align: right;\">\n",
       "      <th></th>\n",
       "      <th>accuracy</th>\n",
       "      <th>balanced accuracy</th>\n",
       "      <th>f1</th>\n",
       "      <th>precision</th>\n",
       "      <th>false positive rate</th>\n",
       "      <th>false negative rate</th>\n",
       "      <th>selection rate</th>\n",
       "      <th>count</th>\n",
       "    </tr>\n",
       "    <tr>\n",
       "      <th>majmin</th>\n",
       "      <th></th>\n",
       "      <th></th>\n",
       "      <th></th>\n",
       "      <th></th>\n",
       "      <th></th>\n",
       "      <th></th>\n",
       "      <th></th>\n",
       "      <th></th>\n",
       "    </tr>\n",
       "  </thead>\n",
       "  <tbody>\n",
       "    <tr>\n",
       "      <th>majority</th>\n",
       "      <td>0.232529</td>\n",
       "      <td>0.549908</td>\n",
       "      <td>0.252563</td>\n",
       "      <td>0.144932</td>\n",
       "      <td>0.881476</td>\n",
       "      <td>0.018709</td>\n",
       "      <td>0.894665</td>\n",
       "      <td>69170.0</td>\n",
       "    </tr>\n",
       "    <tr>\n",
       "      <th>minority</th>\n",
       "      <td>0.178627</td>\n",
       "      <td>0.526799</td>\n",
       "      <td>0.215631</td>\n",
       "      <td>0.121154</td>\n",
       "      <td>0.925710</td>\n",
       "      <td>0.020693</td>\n",
       "      <td>0.931889</td>\n",
       "      <td>20540.0</td>\n",
       "    </tr>\n",
       "  </tbody>\n",
       "</table>\n",
       "</div>"
      ],
      "text/plain": [
       "          accuracy  balanced accuracy        f1  precision  \\\n",
       "majmin                                                       \n",
       "majority  0.232529           0.549908  0.252563   0.144932   \n",
       "minority  0.178627           0.526799  0.215631   0.121154   \n",
       "\n",
       "          false positive rate  false negative rate  selection rate    count  \n",
       "majmin                                                                       \n",
       "majority             0.881476             0.018709        0.894665  69170.0  \n",
       "minority             0.925710             0.020693        0.931889  20540.0  "
      ]
     },
     "execution_count": 75,
     "metadata": {},
     "output_type": "execute_result"
    }
   ],
   "source": [
    "metric_frame.by_group"
   ]
  },
  {
   "cell_type": "code",
   "execution_count": 76,
   "id": "a9ddbe63",
   "metadata": {
    "execution": {
     "iopub.execute_input": "2025-07-30T21:41:11.824183Z",
     "iopub.status.busy": "2025-07-30T21:41:11.823661Z",
     "iopub.status.idle": "2025-07-30T21:41:14.144981Z",
     "shell.execute_reply": "2025-07-30T21:41:14.143776Z"
    },
    "papermill": {
     "duration": 2.338137,
     "end_time": "2025-07-30T21:41:14.147151",
     "exception": false,
     "start_time": "2025-07-30T21:41:11.809014",
     "status": "completed"
    },
    "tags": []
   },
   "outputs": [
    {
     "data": {
      "text/plain": [
       "array([[<Axes: title={'center': 'accuracy'}, xlabel='majmin'>,\n",
       "        <Axes: title={'center': 'balanced accuracy'}, xlabel='majmin'>,\n",
       "        <Axes: title={'center': 'f1'}, xlabel='majmin'>],\n",
       "       [<Axes: title={'center': 'precision'}, xlabel='majmin'>,\n",
       "        <Axes: title={'center': 'false positive rate'}, xlabel='majmin'>,\n",
       "        <Axes: title={'center': 'false negative rate'}, xlabel='majmin'>],\n",
       "       [<Axes: title={'center': 'selection rate'}, xlabel='majmin'>,\n",
       "        <Axes: title={'center': 'count'}, xlabel='majmin'>,\n",
       "        <Axes: xlabel='majmin'>]], dtype=object)"
      ]
     },
     "execution_count": 76,
     "metadata": {},
     "output_type": "execute_result"
    },
    {
     "data": {
      "image/png": "[encoded data removed]",
      "text/plain": [
       "<Figure size 1200x800 with 9 Axes>"
      ]
     },
     "metadata": {},
     "output_type": "display_data"
    }
   ],
   "source": [
    "# In a graphic\n",
    "metric_frame.by_group.plot.bar(\n",
    "    subplots=True,\n",
    "    layout=[3, 3],\n",
    "    legend=False,\n",
    "    figsize=[12, 8],\n",
    "    title=\"Show all metrics\",\n",
    ")"
   ]
  },
  {
   "cell_type": "markdown",
   "id": "f57a0bac",
   "metadata": {
    "papermill": {
     "duration": 0.04415,
     "end_time": "2025-07-30T21:41:14.233752",
     "exception": false,
     "start_time": "2025-07-30T21:41:14.189602",
     "status": "completed"
    },
    "tags": []
   },
   "source": [
    "# Final Output"
   ]
  },
  {
   "cell_type": "code",
   "execution_count": 77,
   "id": "96d280a3",
   "metadata": {
    "execution": {
     "iopub.execute_input": "2025-07-30T21:41:14.321330Z",
     "iopub.status.busy": "2025-07-30T21:41:14.320733Z",
     "iopub.status.idle": "2025-07-30T21:41:14.330528Z",
     "shell.execute_reply": "2025-07-30T21:41:14.329345Z"
    },
    "papermill": {
     "duration": 0.056203,
     "end_time": "2025-07-30T21:41:14.332732",
     "exception": false,
     "start_time": "2025-07-30T21:41:14.276529",
     "status": "completed"
    },
    "tags": []
   },
   "outputs": [
    {
     "data": {
      "text/plain": [
       "4"
      ]
     },
     "execution_count": 77,
     "metadata": {},
     "output_type": "execute_result"
    }
   ],
   "source": [
    "sub_universes = universe_analysis.generate_sub_universes()\n",
    "len(sub_universes)"
   ]
  },
  {
   "cell_type": "code",
   "execution_count": 78,
   "id": "92adf7ba",
   "metadata": {
    "execution": {
     "iopub.execute_input": "2025-07-30T21:41:14.419536Z",
     "iopub.status.busy": "2025-07-30T21:41:14.418285Z",
     "iopub.status.idle": "2025-07-30T21:41:14.426399Z",
     "shell.execute_reply": "2025-07-30T21:41:14.425104Z"
    },
    "papermill": {
     "duration": 0.053287,
     "end_time": "2025-07-30T21:41:14.428788",
     "exception": false,
     "start_time": "2025-07-30T21:41:14.375501",
     "status": "completed"
    },
    "tags": []
   },
   "outputs": [],
   "source": [
    "def filter_sub_universe_data(sub_universe, org_test):\n",
    "    # Keep all rows — no filtering\n",
    "    keep_rows_mask = np.ones(org_test.shape[0], dtype=bool)\n",
    "\n",
    "    print(f\"[INFO] Keeping all rows: {keep_rows_mask.sum()} rows retained.\")\n",
    "    return keep_rows_mask"
   ]
  },
  {
   "cell_type": "code",
   "execution_count": 79,
   "id": "4a759155",
   "metadata": {
    "execution": {
     "iopub.execute_input": "2025-07-30T21:41:14.514252Z",
     "iopub.status.busy": "2025-07-30T21:41:14.513454Z",
     "iopub.status.idle": "2025-07-30T21:41:25.849772Z",
     "shell.execute_reply": "2025-07-30T21:41:25.848764Z"
    },
    "papermill": {
     "duration": 11.380459,
     "end_time": "2025-07-30T21:41:25.851360",
     "exception": false,
     "start_time": "2025-07-30T21:41:14.470901",
     "status": "completed"
    },
    "tags": []
   },
   "outputs": [
    {
     "name": "stdout",
     "output_type": "stream",
     "text": [
      "Stopping execution_time clock.\n",
      "[INFO] Keeping all rows: 89710 rows retained.\n"
     ]
    },
    {
     "name": "stdout",
     "output_type": "stream",
     "text": [
      "[INFO] Keeping all rows: 89710 rows retained.\n"
     ]
    },
    {
     "name": "stdout",
     "output_type": "stream",
     "text": [
      "[INFO] Keeping all rows: 89710 rows retained.\n"
     ]
    },
    {
     "name": "stdout",
     "output_type": "stream",
     "text": [
      "[INFO] Keeping all rows: 89710 rows retained.\n"
     ]
    },
    {
     "data": {
      "text/html": [
       "<div>\n",
       "<style scoped>\n",
       "    .dataframe tbody tr th:only-of-type {\n",
       "        vertical-align: middle;\n",
       "    }\n",
       "\n",
       "    .dataframe tbody tr th {\n",
       "        vertical-align: top;\n",
       "    }\n",
       "\n",
       "    .dataframe thead th {\n",
       "        text-align: right;\n",
       "    }\n",
       "</style>\n",
       "<table border=\"1\" class=\"dataframe\">\n",
       "  <thead>\n",
       "    <tr style=\"text-align: right;\">\n",
       "      <th></th>\n",
       "      <th>run_no</th>\n",
       "      <th>universe_id</th>\n",
       "      <th>universe_settings</th>\n",
       "      <th>execution_time</th>\n",
       "      <th>test_size_n</th>\n",
       "      <th>test_size_frac</th>\n",
       "      <th>fair_main_equalized_odds_difference</th>\n",
       "      <th>fair_main_equalized_odds_ratio</th>\n",
       "      <th>fair_main_demographic_parity_difference</th>\n",
       "      <th>fair_main_demographic_parity_ratio</th>\n",
       "      <th>...</th>\n",
       "      <th>perf_grp_precision_0</th>\n",
       "      <th>perf_grp_precision_1</th>\n",
       "      <th>perf_grp_false positive rate_0</th>\n",
       "      <th>perf_grp_false positive rate_1</th>\n",
       "      <th>perf_grp_false negative rate_0</th>\n",
       "      <th>perf_grp_false negative rate_1</th>\n",
       "      <th>perf_grp_selection rate_0</th>\n",
       "      <th>perf_grp_selection rate_1</th>\n",
       "      <th>perf_grp_count_0</th>\n",
       "      <th>perf_grp_count_1</th>\n",
       "    </tr>\n",
       "  </thead>\n",
       "  <tbody>\n",
       "    <tr>\n",
       "      <th>0</th>\n",
       "      <td>14</td>\n",
       "      <td>38dc48bca3dc2aa73be4e93a4ad34749</td>\n",
       "      <td>{\"cutoff\": \"quantile_0.1\", \"eval_fairness_grou...</td>\n",
       "      <td>28.062303</td>\n",
       "      <td>89710</td>\n",
       "      <td>1.0</td>\n",
       "      <td>0.044234</td>\n",
       "      <td>0.952216</td>\n",
       "      <td>0.037224</td>\n",
       "      <td>0.960056</td>\n",
       "      <td>...</td>\n",
       "      <td>NaN</td>\n",
       "      <td>NaN</td>\n",
       "      <td>NaN</td>\n",
       "      <td>NaN</td>\n",
       "      <td>NaN</td>\n",
       "      <td>NaN</td>\n",
       "      <td>NaN</td>\n",
       "      <td>NaN</td>\n",
       "      <td>NaN</td>\n",
       "      <td>NaN</td>\n",
       "    </tr>\n",
       "    <tr>\n",
       "      <th>0</th>\n",
       "      <td>14</td>\n",
       "      <td>38dc48bca3dc2aa73be4e93a4ad34749</td>\n",
       "      <td>{\"cutoff\": \"quantile_0.1\", \"eval_fairness_grou...</td>\n",
       "      <td>28.062303</td>\n",
       "      <td>89710</td>\n",
       "      <td>1.0</td>\n",
       "      <td>0.044234</td>\n",
       "      <td>0.952216</td>\n",
       "      <td>0.037224</td>\n",
       "      <td>0.960056</td>\n",
       "      <td>...</td>\n",
       "      <td>0.121154</td>\n",
       "      <td>0.144932</td>\n",
       "      <td>0.925710</td>\n",
       "      <td>0.881476</td>\n",
       "      <td>0.020693</td>\n",
       "      <td>0.018709</td>\n",
       "      <td>0.931889</td>\n",
       "      <td>0.894665</td>\n",
       "      <td>20540.0</td>\n",
       "      <td>69170.0</td>\n",
       "    </tr>\n",
       "    <tr>\n",
       "      <th>0</th>\n",
       "      <td>14</td>\n",
       "      <td>38dc48bca3dc2aa73be4e93a4ad34749</td>\n",
       "      <td>{\"cutoff\": \"quantile_0.25\", \"eval_fairness_gro...</td>\n",
       "      <td>28.062303</td>\n",
       "      <td>89710</td>\n",
       "      <td>1.0</td>\n",
       "      <td>0.088839</td>\n",
       "      <td>0.889373</td>\n",
       "      <td>0.072942</td>\n",
       "      <td>0.910633</td>\n",
       "      <td>...</td>\n",
       "      <td>NaN</td>\n",
       "      <td>NaN</td>\n",
       "      <td>NaN</td>\n",
       "      <td>NaN</td>\n",
       "      <td>NaN</td>\n",
       "      <td>NaN</td>\n",
       "      <td>NaN</td>\n",
       "      <td>NaN</td>\n",
       "      <td>NaN</td>\n",
       "      <td>NaN</td>\n",
       "    </tr>\n",
       "    <tr>\n",
       "      <th>0</th>\n",
       "      <td>14</td>\n",
       "      <td>38dc48bca3dc2aa73be4e93a4ad34749</td>\n",
       "      <td>{\"cutoff\": \"quantile_0.25\", \"eval_fairness_gro...</td>\n",
       "      <td>28.062303</td>\n",
       "      <td>89710</td>\n",
       "      <td>1.0</td>\n",
       "      <td>0.088839</td>\n",
       "      <td>0.889373</td>\n",
       "      <td>0.072942</td>\n",
       "      <td>0.910633</td>\n",
       "      <td>...</td>\n",
       "      <td>0.129556</td>\n",
       "      <td>0.166070</td>\n",
       "      <td>0.803049</td>\n",
       "      <td>0.714210</td>\n",
       "      <td>0.082770</td>\n",
       "      <td>0.065864</td>\n",
       "      <td>0.816212</td>\n",
       "      <td>0.743270</td>\n",
       "      <td>20540.0</td>\n",
       "      <td>69170.0</td>\n",
       "    </tr>\n",
       "  </tbody>\n",
       "</table>\n",
       "<p>4 rows × 50 columns</p>\n",
       "</div>"
      ],
      "text/plain": [
       "  run_no                       universe_id  \\\n",
       "0     14  38dc48bca3dc2aa73be4e93a4ad34749   \n",
       "0     14  38dc48bca3dc2aa73be4e93a4ad34749   \n",
       "0     14  38dc48bca3dc2aa73be4e93a4ad34749   \n",
       "0     14  38dc48bca3dc2aa73be4e93a4ad34749   \n",
       "\n",
       "                                   universe_settings  execution_time  \\\n",
       "0  {\"cutoff\": \"quantile_0.1\", \"eval_fairness_grou...       28.062303   \n",
       "0  {\"cutoff\": \"quantile_0.1\", \"eval_fairness_grou...       28.062303   \n",
       "0  {\"cutoff\": \"quantile_0.25\", \"eval_fairness_gro...       28.062303   \n",
       "0  {\"cutoff\": \"quantile_0.25\", \"eval_fairness_gro...       28.062303   \n",
       "\n",
       "   test_size_n  test_size_frac  fair_main_equalized_odds_difference  \\\n",
       "0        89710             1.0                             0.044234   \n",
       "0        89710             1.0                             0.044234   \n",
       "0        89710             1.0                             0.088839   \n",
       "0        89710             1.0                             0.088839   \n",
       "\n",
       "   fair_main_equalized_odds_ratio  fair_main_demographic_parity_difference  \\\n",
       "0                        0.952216                                 0.037224   \n",
       "0                        0.952216                                 0.037224   \n",
       "0                        0.889373                                 0.072942   \n",
       "0                        0.889373                                 0.072942   \n",
       "\n",
       "   fair_main_demographic_parity_ratio  ...  perf_grp_precision_0  \\\n",
       "0                            0.960056  ...                   NaN   \n",
       "0                            0.960056  ...              0.121154   \n",
       "0                            0.910633  ...                   NaN   \n",
       "0                            0.910633  ...              0.129556   \n",
       "\n",
       "   perf_grp_precision_1  perf_grp_false positive rate_0  \\\n",
       "0                   NaN                             NaN   \n",
       "0              0.144932                        0.925710   \n",
       "0                   NaN                             NaN   \n",
       "0              0.166070                        0.803049   \n",
       "\n",
       "   perf_grp_false positive rate_1  perf_grp_false negative rate_0  \\\n",
       "0                             NaN                             NaN   \n",
       "0                        0.881476                        0.020693   \n",
       "0                             NaN                             NaN   \n",
       "0                        0.714210                        0.082770   \n",
       "\n",
       "   perf_grp_false negative rate_1  perf_grp_selection rate_0  \\\n",
       "0                             NaN                        NaN   \n",
       "0                        0.018709                   0.931889   \n",
       "0                             NaN                        NaN   \n",
       "0                        0.065864                   0.816212   \n",
       "\n",
       "   perf_grp_selection rate_1  perf_grp_count_0  perf_grp_count_1  \n",
       "0                        NaN               NaN               NaN  \n",
       "0                   0.894665           20540.0           69170.0  \n",
       "0                        NaN               NaN               NaN  \n",
       "0                   0.743270           20540.0           69170.0  \n",
       "\n",
       "[4 rows x 50 columns]"
      ]
     },
     "execution_count": 79,
     "metadata": {},
     "output_type": "execute_result"
    }
   ],
   "source": [
    "final_output = universe_analysis.generate_final_output(\n",
    "    y_pred_prob=probs_test,\n",
    "    y_test=y_true,\n",
    "    org_test=org_test,\n",
    "    filter_data=filter_sub_universe_data,\n",
    "    cp_metrics_df=cp_metrics_df,\n",
    "    save=True,\n",
    ")\n",
    "final_output"
   ]
  },
  {
   "cell_type": "code",
   "execution_count": null,
   "id": "721ff514-cb11-46f8-b6fc-50392f74b5cb",
   "metadata": {
    "papermill": {
     "duration": 0.03028,
     "end_time": "2025-07-30T21:41:25.913212",
     "exception": false,
     "start_time": "2025-07-30T21:41:25.882932",
     "status": "completed"
    },
    "tags": []
   },
   "outputs": [],
   "source": []
  }
 ],
 "metadata": {
  "celltoolbar": "Tags",
  "kernelspec": {
   "display_name": "Python (CMA Fairness)",
   "language": "python",
   "name": "cma_fair_env"
  },
  "language_info": {
   "codemirror_mode": {
    "name": "ipython",
    "version": 3
   },
   "file_extension": ".py",
   "mimetype": "text/x-python",
   "name": "python",
   "nbconvert_exporter": "python",
   "pygments_lexer": "ipython3",
   "version": "3.10.12"
  },
  "papermill": {
   "default_parameters": {},
   "duration": 43.576441,
   "end_time": "2025-07-30T21:41:26.764702",
   "environment_variables": {},
   "exception": null,
   "input_path": "universe_analysis.ipynb",
   "output_path": "output/runs/14/notebooks/m_14-38dc48bca3dc2aa73be4e93a4ad34749.ipynb",
   "parameters": {
    "output_dir": "output",
    "run_no": "14",
    "seed": "2023",
    "universe": "{\"cutoff\": [\"quantile_0.1\", \"quantile_0.25\"], \"eval_fairness_grouping\": [\"majority-minority\", \"nationality-all\"], \"exclude_features\": \"nationality-sex\", \"exclude_subgroups\": \"drop-non-german\", \"model\": \"rf\", \"scale\": \"do-not-scale\", \"training_size\": \"1k\", \"training_year\": \"2012_14\"}",
    "universe_id": "38dc48bca3dc2aa73be4e93a4ad34749"
   },
   "start_time": "2025-07-30T21:40:43.188261",
   "version": "2.6.0"
  }
 },
 "nbformat": 4,
 "nbformat_minor": 5
}