{
 "cells": [
  {
   "cell_type": "code",
   "execution_count": 1,
   "id": "f159f837-637b-42ba-96b5-ec9a68c44524",
   "metadata": {
    "execution": {
     "iopub.execute_input": "2025-07-30T21:39:30.018802Z",
     "iopub.status.busy": "2025-07-30T21:39:30.018359Z",
     "iopub.status.idle": "2025-07-30T21:39:30.031029Z",
     "shell.execute_reply": "2025-07-30T21:39:30.030162Z"
    },
    "papermill": {
     "duration": 0.034334,
     "end_time": "2025-07-30T21:39:30.032628",
     "exception": false,
     "start_time": "2025-07-30T21:39:29.998294",
     "status": "completed"
    },
    "tags": []
   },
   "outputs": [
    {
     "name": "stdout",
     "output_type": "stream",
     "text": [
      "/dss/dsshome1/0C/ra93lal2/cma/CMA_Fairness_v2\n"
     ]
    },
    {
     "name": "stderr",
     "output_type": "stream",
     "text": [
      "/dss/dsshome1/0C/ra93lal2/.local/share/virtualenvs/CMA_Fairness_v2-3j10GkSs/lib/python3.10/site-packages/IPython/core/magics/osm.py:393: UserWarning: This is now an optional IPython functionality, using bookmarks requires you to install the `pickleshare` library.\n",
      "  bkms = self.shell.db.get('bookmarks', {})\n",
      "/dss/dsshome1/0C/ra93lal2/.local/share/virtualenvs/CMA_Fairness_v2-3j10GkSs/lib/python3.10/site-packages/IPython/core/magics/osm.py:417: UserWarning: This is now an optional IPython functionality, setting dhist requires you to install the `pickleshare` library.\n",
      "  self.shell.db['dhist'] = compress_dhist(dhist)[-100:]\n"
     ]
    }
   ],
   "source": [
    "%cd ~/cma/CMA_Fairness_v2"
   ]
  },
  {
   "cell_type": "markdown",
   "id": "de2603b9",
   "metadata": {
    "papermill": {
     "duration": 0.020282,
     "end_time": "2025-07-30T21:39:30.073054",
     "exception": false,
     "start_time": "2025-07-30T21:39:30.052772",
     "status": "completed"
    },
    "tags": []
   },
   "source": [
    "The following cell holds the definition of our parameters, these values can be overriden by rendering the with e.g. the following command:\n",
    "\n",
    "papermill -p alpha 0.2 -p ratio 0.3 universe_analysis.ipynb output/test_run.ipynb"
   ]
  },
  {
   "cell_type": "code",
   "execution_count": 2,
   "id": "a80968a0-40bb-4fa9-85ef-2d5eefb01975",
   "metadata": {
    "execution": {
     "iopub.execute_input": "2025-07-30T21:39:30.117120Z",
     "iopub.status.busy": "2025-07-30T21:39:30.116436Z",
     "iopub.status.idle": "2025-07-30T21:39:30.122670Z",
     "shell.execute_reply": "2025-07-30T21:39:30.121582Z"
    },
    "papermill": {
     "duration": 0.031697,
     "end_time": "2025-07-30T21:39:30.124360",
     "exception": false,
     "start_time": "2025-07-30T21:39:30.092663",
     "status": "completed"
    },
    "tags": []
   },
   "outputs": [
    {
     "name": "stdout",
     "output_type": "stream",
     "text": [
      "Current working directory: /dss/dsshome1/0C/ra93lal2/cma/CMA_Fairness_v2\n"
     ]
    }
   ],
   "source": [
    "import os\n",
    "print(\"Current working directory:\", os.getcwd())"
   ]
  },
  {
   "cell_type": "code",
   "execution_count": 3,
   "id": "2dce4c03",
   "metadata": {
    "execution": {
     "iopub.execute_input": "2025-07-30T21:39:30.166034Z",
     "iopub.status.busy": "2025-07-30T21:39:30.165160Z",
     "iopub.status.idle": "2025-07-30T21:39:30.172791Z",
     "shell.execute_reply": "2025-07-30T21:39:30.171663Z"
    },
    "papermill": {
     "duration": 0.029716,
     "end_time": "2025-07-30T21:39:30.174747",
     "exception": false,
     "start_time": "2025-07-30T21:39:30.145031",
     "status": "completed"
    },
    "tags": [
     "parameters"
    ]
   },
   "outputs": [],
   "source": [
    "run_no = 0\n",
    "universe_id = \"test\"\n",
    "universe = {\n",
    "    \"training_size\": \"25k\", # \"25k\", \"5k\", \"1k\"\n",
    "    \"training_year\": \"2014\", # \"2014\", \"2012_14\", \"2010_14\"\n",
    "    \"scale\": \"scale\", # \"scale\", \"do-not-scale\",\n",
    "    #\"stratify_split\": \"target\", # \"none\", \"target\", \"protected-attribute\", \"both\",\n",
    "    \"model\": \"elasticnet\", # \"logreg\", \"penalized_logreg\", \"rf\", \"gbm\", \"elasticnet\"\n",
    "    \"cutoff\": [\"quantile_0.15\", \"quantile_0.30\"],\n",
    "    \"exclude_features\": \"age\", # \"none\", \"nationality\", \"sex\", \"nationality-sex\", \"age\"\n",
    "    \"exclude_subgroups\": \"keep-all\", # \"keep-all\", \"drop-non-german\"\n",
    "    \"eval_fairness_grouping\": [\"majority-minority\", \"nationality-all\"]\n",
    "}\n",
    "\n",
    "output_dir=\"./output\"\n",
    "seed=0"
   ]
  },
  {
   "cell_type": "code",
   "execution_count": 4,
   "id": "ac607496",
   "metadata": {
    "execution": {
     "iopub.execute_input": "2025-07-30T21:39:30.219239Z",
     "iopub.status.busy": "2025-07-30T21:39:30.218666Z",
     "iopub.status.idle": "2025-07-30T21:39:30.224805Z",
     "shell.execute_reply": "2025-07-30T21:39:30.223621Z"
    },
    "papermill": {
     "duration": 0.029394,
     "end_time": "2025-07-30T21:39:30.226323",
     "exception": false,
     "start_time": "2025-07-30T21:39:30.196929",
     "status": "completed"
    },
    "tags": [
     "injected-parameters"
    ]
   },
   "outputs": [],
   "source": [
    "# Parameters\n",
    "universe_id = \"fe3e78a18593fee1a7aac8086fc4c3b5\"\n",
    "run_no = \"14\"\n",
    "universe = \"{\\\"cutoff\\\": [\\\"quantile_0.1\\\", \\\"quantile_0.25\\\"], \\\"eval_fairness_grouping\\\": [\\\"majority-minority\\\", \\\"nationality-all\\\"], \\\"exclude_features\\\": \\\"sex\\\", \\\"exclude_subgroups\\\": \\\"drop-non-german\\\", \\\"model\\\": \\\"penalized_logreg\\\", \\\"scale\\\": \\\"do-not-scale\\\", \\\"training_size\\\": \\\"1k\\\", \\\"training_year\\\": \\\"2012_14\\\"}\"\n",
    "output_dir = \"output\"\n",
    "seed = \"2023\"\n"
   ]
  },
  {
   "cell_type": "code",
   "execution_count": 5,
   "id": "1650acaf",
   "metadata": {
    "execution": {
     "iopub.execute_input": "2025-07-30T21:39:30.266179Z",
     "iopub.status.busy": "2025-07-30T21:39:30.265734Z",
     "iopub.status.idle": "2025-07-30T21:39:30.270754Z",
     "shell.execute_reply": "2025-07-30T21:39:30.269910Z"
    },
    "papermill": {
     "duration": 0.02661,
     "end_time": "2025-07-30T21:39:30.272392",
     "exception": false,
     "start_time": "2025-07-30T21:39:30.245782",
     "status": "completed"
    },
    "tags": []
   },
   "outputs": [],
   "source": [
    "import json\n",
    "# Parse universe into dict if it is passed as a string\n",
    "if isinstance(universe, str):\n",
    "    universe = json.loads(universe)"
   ]
  },
  {
   "cell_type": "code",
   "execution_count": 6,
   "id": "16620c48",
   "metadata": {
    "execution": {
     "iopub.execute_input": "2025-07-30T21:39:30.312968Z",
     "iopub.status.busy": "2025-07-30T21:39:30.312353Z",
     "iopub.status.idle": "2025-07-30T21:39:30.355298Z",
     "shell.execute_reply": "2025-07-30T21:39:30.354458Z"
    },
    "papermill": {
     "duration": 0.06534,
     "end_time": "2025-07-30T21:39:30.357134",
     "exception": false,
     "start_time": "2025-07-30T21:39:30.291794",
     "status": "completed"
    },
    "tags": []
   },
   "outputs": [],
   "source": [
    "# Auto-reload the custom package\n",
    "%load_ext autoreload\n",
    "%autoreload 1\n",
    "%aimport fairness_multiverse"
   ]
  },
  {
   "cell_type": "code",
   "execution_count": 7,
   "id": "01c5c9f3",
   "metadata": {
    "execution": {
     "iopub.execute_input": "2025-07-30T21:39:30.399085Z",
     "iopub.status.busy": "2025-07-30T21:39:30.398449Z",
     "iopub.status.idle": "2025-07-30T21:39:32.497864Z",
     "shell.execute_reply": "2025-07-30T21:39:32.496814Z"
    },
    "papermill": {
     "duration": 2.123001,
     "end_time": "2025-07-30T21:39:32.499931",
     "exception": false,
     "start_time": "2025-07-30T21:39:30.376930",
     "status": "completed"
    },
    "tags": []
   },
   "outputs": [],
   "source": [
    "from fairness_multiverse.universe import UniverseAnalysis\n",
    "\n",
    "universe_analysis = UniverseAnalysis(\n",
    "    run_no = run_no,\n",
    "    universe_id = universe_id,\n",
    "    universe = universe,\n",
    "    output_dir=output_dir,\n",
    ")"
   ]
  },
  {
   "cell_type": "code",
   "execution_count": 8,
   "id": "106241f5",
   "metadata": {
    "execution": {
     "iopub.execute_input": "2025-07-30T21:39:32.544290Z",
     "iopub.status.busy": "2025-07-30T21:39:32.543715Z",
     "iopub.status.idle": "2025-07-30T21:39:32.551898Z",
     "shell.execute_reply": "2025-07-30T21:39:32.550734Z"
    },
    "papermill": {
     "duration": 0.033596,
     "end_time": "2025-07-30T21:39:32.553906",
     "exception": false,
     "start_time": "2025-07-30T21:39:32.520310",
     "status": "completed"
    },
    "tags": []
   },
   "outputs": [
    {
     "name": "stdout",
     "output_type": "stream",
     "text": [
      "Using Seed: 2023\n"
     ]
    }
   ],
   "source": [
    "import numpy as np\n",
    "parsed_seed = int(seed)\n",
    "np.random.seed(parsed_seed)\n",
    "print(f\"Using Seed: {parsed_seed}\")"
   ]
  },
  {
   "cell_type": "markdown",
   "id": "e0ebdc57",
   "metadata": {
    "papermill": {
     "duration": 0.022636,
     "end_time": "2025-07-30T21:39:32.600251",
     "exception": false,
     "start_time": "2025-07-30T21:39:32.577615",
     "status": "completed"
    },
    "tags": []
   },
   "source": [
    "# Loading Data"
   ]
  },
  {
   "cell_type": "markdown",
   "id": "681925a3",
   "metadata": {
    "papermill": {
     "duration": 0.02094,
     "end_time": "2025-07-30T21:39:32.641835",
     "exception": false,
     "start_time": "2025-07-30T21:39:32.620895",
     "status": "completed"
    },
    "tags": []
   },
   "source": [
    "Load siab_train, siab_test, siab_calib and/or \n",
    "load siab_train_features, siab_train_labels"
   ]
  },
  {
   "cell_type": "code",
   "execution_count": 9,
   "id": "f0496b8a",
   "metadata": {
    "execution": {
     "iopub.execute_input": "2025-07-30T21:39:32.690198Z",
     "iopub.status.busy": "2025-07-30T21:39:32.689423Z",
     "iopub.status.idle": "2025-07-30T21:39:44.922703Z",
     "shell.execute_reply": "2025-07-30T21:39:44.921327Z"
    },
    "papermill": {
     "duration": 12.259237,
     "end_time": "2025-07-30T21:39:44.924730",
     "exception": false,
     "start_time": "2025-07-30T21:39:32.665493",
     "status": "completed"
    },
    "tags": []
   },
   "outputs": [
    {
     "name": "stdout",
     "output_type": "stream",
     "text": [
      "Loading SIAB data from cache: data/siab_cached.csv.gz\n"
     ]
    },
    {
     "name": "stdout",
     "output_type": "stream",
     "text": [
      "(643690, 164)\n"
     ]
    }
   ],
   "source": [
    "from pathlib import Path\n",
    "import pandas as pd\n",
    "\n",
    "# File paths\n",
    "raw_file = Path(\"data/raw/siab.csv\")\n",
    "cache_file = Path(\"data/siab_cached.csv.gz\")\n",
    "\n",
    "# Ensure cache directory exists\n",
    "cache_file.parent.mkdir(parents=True, exist_ok=True)\n",
    "\n",
    "# Load with simple caching\n",
    "if cache_file.exists():\n",
    "    print(f\"Loading SIAB data from cache: {cache_file}\")\n",
    "    siab = pd.read_csv(cache_file, compression='gzip')\n",
    "else:\n",
    "    print(f\"Cache not found. Reading raw SIAB data: {raw_file}\")\n",
    "    siab = pd.read_csv(raw_file)\n",
    "    siab.to_csv(cache_file, index=False, compression='gzip')\n",
    "    print(f\"Cached SIAB data to: {cache_file}\")\n",
    "\n",
    "# Now use `siab` DataFrame as needed\n",
    "print(siab.shape)"
   ]
  },
  {
   "cell_type": "code",
   "execution_count": 10,
   "id": "db0ca512-5f53-4dba-abdb-a2888bca41ba",
   "metadata": {
    "execution": {
     "iopub.execute_input": "2025-07-30T21:39:44.972696Z",
     "iopub.status.busy": "2025-07-30T21:39:44.971727Z",
     "iopub.status.idle": "2025-07-30T21:39:44.978158Z",
     "shell.execute_reply": "2025-07-30T21:39:44.977162Z"
    },
    "papermill": {
     "duration": 0.031075,
     "end_time": "2025-07-30T21:39:44.979985",
     "exception": false,
     "start_time": "2025-07-30T21:39:44.948910",
     "status": "completed"
    },
    "tags": []
   },
   "outputs": [],
   "source": [
    "#siab"
   ]
  },
  {
   "cell_type": "code",
   "execution_count": 11,
   "id": "a0edb063",
   "metadata": {
    "execution": {
     "iopub.execute_input": "2025-07-30T21:39:45.025808Z",
     "iopub.status.busy": "2025-07-30T21:39:45.024782Z",
     "iopub.status.idle": "2025-07-30T21:39:45.030153Z",
     "shell.execute_reply": "2025-07-30T21:39:45.029169Z"
    },
    "papermill": {
     "duration": 0.029526,
     "end_time": "2025-07-30T21:39:45.031691",
     "exception": false,
     "start_time": "2025-07-30T21:39:45.002165",
     "status": "completed"
    },
    "tags": []
   },
   "outputs": [],
   "source": [
    "#import pandas as pd\n",
    "#\n",
    "#X_train = pd.read_csv(\"./data/X_train.csv\")\n",
    "#y_train = pd.read_csv(\"./data/y_train.csv\")"
   ]
  },
  {
   "cell_type": "code",
   "execution_count": 12,
   "id": "63d08085",
   "metadata": {
    "execution": {
     "iopub.execute_input": "2025-07-30T21:39:45.076151Z",
     "iopub.status.busy": "2025-07-30T21:39:45.075315Z",
     "iopub.status.idle": "2025-07-30T21:39:45.080850Z",
     "shell.execute_reply": "2025-07-30T21:39:45.079873Z"
    },
    "papermill": {
     "duration": 0.030235,
     "end_time": "2025-07-30T21:39:45.082879",
     "exception": false,
     "start_time": "2025-07-30T21:39:45.052644",
     "status": "completed"
    },
    "tags": []
   },
   "outputs": [],
   "source": [
    "#X_test = pd.read_csv(\"./data/X_test.csv\")\n",
    "#y_true = pd.read_csv(\"./data/y_test.csv\")"
   ]
  },
  {
   "cell_type": "code",
   "execution_count": 13,
   "id": "98a8d0fa-1d3d-4ed8-bb2c-281470e24add",
   "metadata": {
    "execution": {
     "iopub.execute_input": "2025-07-30T21:39:45.127681Z",
     "iopub.status.busy": "2025-07-30T21:39:45.127198Z",
     "iopub.status.idle": "2025-07-30T21:39:45.132108Z",
     "shell.execute_reply": "2025-07-30T21:39:45.131332Z"
    },
    "papermill": {
     "duration": 0.029062,
     "end_time": "2025-07-30T21:39:45.134186",
     "exception": false,
     "start_time": "2025-07-30T21:39:45.105124",
     "status": "completed"
    },
    "tags": []
   },
   "outputs": [],
   "source": [
    "# Calibration data for conformal\n",
    "#X_calib = pd.read_csv(\"./data/X_calib.csv\")\n",
    "#y_calib = pd.read_csv(\"./data/y_calib.csv\")"
   ]
  },
  {
   "cell_type": "markdown",
   "id": "997051c5-15bd-4b69-9786-c3001a3ce484",
   "metadata": {
    "papermill": {
     "duration": 0.031433,
     "end_time": "2025-07-30T21:39:45.200394",
     "exception": false,
     "start_time": "2025-07-30T21:39:45.168961",
     "status": "completed"
    },
    "tags": []
   },
   "source": [
    "# Splitting Data and Setting Training Data Size"
   ]
  },
  {
   "cell_type": "code",
   "execution_count": 14,
   "id": "e993b61f-042d-41a6-8c81-f55681f86335",
   "metadata": {
    "execution": {
     "iopub.execute_input": "2025-07-30T21:39:45.263864Z",
     "iopub.status.busy": "2025-07-30T21:39:45.263357Z",
     "iopub.status.idle": "2025-07-30T21:39:45.278983Z",
     "shell.execute_reply": "2025-07-30T21:39:45.277652Z"
    },
    "papermill": {
     "duration": 0.050033,
     "end_time": "2025-07-30T21:39:45.281441",
     "exception": false,
     "start_time": "2025-07-30T21:39:45.231408",
     "status": "completed"
    },
    "tags": []
   },
   "outputs": [],
   "source": [
    "def sample_by_year_size(df,\n",
    "                        training_year: str,\n",
    "                        training_size: str,\n",
    "                        random_state: int = 42):\n",
    "    # --- parse training_year into a list of int years ---\n",
    "    if \"_\" in training_year:\n",
    "        start_str, end_str = training_year.split(\"_\", 1)\n",
    "        start = int(start_str)\n",
    "        end   = int(end_str) if len(end_str) == 4 else (int(end_str) + (start // 100)*100)\n",
    "        years = list(range(start, end + 1))\n",
    "    else:\n",
    "        years = [int(training_year)]\n",
    "\n",
    "    df = df[df[\"year\"].isin(years)].reset_index(drop=True)\n",
    "\n",
    "    # --- map training_size to total number of samples ---\n",
    "    total_map = {\"25k\": 25_000, \"5k\": 5_000, \"1k\": 1_000}\n",
    "    if training_size not in total_map:\n",
    "        return df  # e.g. \"all\"\n",
    "\n",
    "    total_samples = total_map[training_size]\n",
    "    n_years       = len(years)\n",
    "    base          = total_samples // n_years\n",
    "    remainder     = total_samples % n_years\n",
    "\n",
    "    # --- build a dict: year -> how many to sample ---\n",
    "    # give +1 to the first `remainder` years in ascending order\n",
    "    quotas = {\n",
    "        year: base + (1 if idx < remainder else 0)\n",
    "        for idx, year in enumerate(sorted(years))\n",
    "    }\n",
    "\n",
    "    # --- sample per‐year according to the quota dict ---\n",
    "    sampled = (\n",
    "        df\n",
    "        .groupby(\"year\", group_keys=False)\n",
    "        .apply(lambda grp: grp.sample(\n",
    "            n=min(len(grp), quotas[grp.name]),\n",
    "            random_state=random_state))\n",
    "        .reset_index(drop=True)\n",
    "    )\n",
    "\n",
    "    return sampled"
   ]
  },
  {
   "cell_type": "code",
   "execution_count": 15,
   "id": "c0ccd338-0e02-41f3-a09d-f56f9266e3fb",
   "metadata": {
    "execution": {
     "iopub.execute_input": "2025-07-30T21:39:45.345174Z",
     "iopub.status.busy": "2025-07-30T21:39:45.344401Z",
     "iopub.status.idle": "2025-07-30T21:39:45.350306Z",
     "shell.execute_reply": "2025-07-30T21:39:45.349161Z"
    },
    "papermill": {
     "duration": 0.040195,
     "end_time": "2025-07-30T21:39:45.352761",
     "exception": false,
     "start_time": "2025-07-30T21:39:45.312566",
     "status": "completed"
    },
    "tags": []
   },
   "outputs": [],
   "source": [
    "#universe[\"training_size\"]"
   ]
  },
  {
   "cell_type": "code",
   "execution_count": 16,
   "id": "ca707fd7-8047-4acd-bfa5-66248fbbf8e6",
   "metadata": {
    "execution": {
     "iopub.execute_input": "2025-07-30T21:39:45.415773Z",
     "iopub.status.busy": "2025-07-30T21:39:45.415148Z",
     "iopub.status.idle": "2025-07-30T21:39:45.421219Z",
     "shell.execute_reply": "2025-07-30T21:39:45.419993Z"
    },
    "papermill": {
     "duration": 0.040713,
     "end_time": "2025-07-30T21:39:45.423995",
     "exception": false,
     "start_time": "2025-07-30T21:39:45.383282",
     "status": "completed"
    },
    "tags": []
   },
   "outputs": [],
   "source": [
    "#universe[\"training_year\"]"
   ]
  },
  {
   "cell_type": "code",
   "execution_count": 17,
   "id": "aea9c6ef-6f46-42c8-85eb-5a62025c1508",
   "metadata": {
    "execution": {
     "iopub.execute_input": "2025-07-30T21:39:45.487438Z",
     "iopub.status.busy": "2025-07-30T21:39:45.486892Z",
     "iopub.status.idle": "2025-07-30T21:39:46.099183Z",
     "shell.execute_reply": "2025-07-30T21:39:46.097894Z"
    },
    "papermill": {
     "duration": 0.647916,
     "end_time": "2025-07-30T21:39:46.102618",
     "exception": false,
     "start_time": "2025-07-30T21:39:45.454702",
     "status": "completed"
    },
    "tags": []
   },
   "outputs": [],
   "source": [
    "siab_train = sample_by_year_size(siab,\n",
    "                               training_year=universe[\"training_year\"],\n",
    "                               training_size=universe[\"training_size\"])"
   ]
  },
  {
   "cell_type": "code",
   "execution_count": 18,
   "id": "8d3afb32-789d-442c-8d5d-9f5aa8dd2eed",
   "metadata": {
    "execution": {
     "iopub.execute_input": "2025-07-30T21:39:46.163393Z",
     "iopub.status.busy": "2025-07-30T21:39:46.162541Z",
     "iopub.status.idle": "2025-07-30T21:39:46.168593Z",
     "shell.execute_reply": "2025-07-30T21:39:46.167525Z"
    },
    "papermill": {
     "duration": 0.037861,
     "end_time": "2025-07-30T21:39:46.170409",
     "exception": false,
     "start_time": "2025-07-30T21:39:46.132548",
     "status": "completed"
    },
    "tags": []
   },
   "outputs": [],
   "source": [
    "#siab_train.shape"
   ]
  },
  {
   "cell_type": "code",
   "execution_count": 19,
   "id": "d582db68-1a4c-47fb-84fc-08518dc1975a",
   "metadata": {
    "execution": {
     "iopub.execute_input": "2025-07-30T21:39:46.216986Z",
     "iopub.status.busy": "2025-07-30T21:39:46.215978Z",
     "iopub.status.idle": "2025-07-30T21:39:46.222795Z",
     "shell.execute_reply": "2025-07-30T21:39:46.221612Z"
    },
    "papermill": {
     "duration": 0.032371,
     "end_time": "2025-07-30T21:39:46.224579",
     "exception": false,
     "start_time": "2025-07-30T21:39:46.192208",
     "status": "completed"
    },
    "tags": []
   },
   "outputs": [],
   "source": [
    "#display(siab_train.groupby(\"year\").size())"
   ]
  },
  {
   "cell_type": "code",
   "execution_count": 20,
   "id": "a561edb4-d032-42cb-8256-22eac1111c64",
   "metadata": {
    "execution": {
     "iopub.execute_input": "2025-07-30T21:39:46.269158Z",
     "iopub.status.busy": "2025-07-30T21:39:46.268534Z",
     "iopub.status.idle": "2025-07-30T21:39:46.628114Z",
     "shell.execute_reply": "2025-07-30T21:39:46.627132Z"
    },
    "papermill": {
     "duration": 0.383867,
     "end_time": "2025-07-30T21:39:46.630113",
     "exception": false,
     "start_time": "2025-07-30T21:39:46.246246",
     "status": "completed"
    },
    "tags": []
   },
   "outputs": [],
   "source": [
    "#siab_train = siab_s[siab_s.year < 2015]\n",
    "siab_calib = siab[siab.year == 2015]\n",
    "siab_test = siab[siab.year == 2016]"
   ]
  },
  {
   "cell_type": "code",
   "execution_count": 21,
   "id": "472de16f-c3db-4916-846b-1f0de9cf1746",
   "metadata": {
    "execution": {
     "iopub.execute_input": "2025-07-30T21:39:46.674184Z",
     "iopub.status.busy": "2025-07-30T21:39:46.673640Z",
     "iopub.status.idle": "2025-07-30T21:39:46.681132Z",
     "shell.execute_reply": "2025-07-30T21:39:46.680103Z"
    },
    "papermill": {
     "duration": 0.030745,
     "end_time": "2025-07-30T21:39:46.682754",
     "exception": false,
     "start_time": "2025-07-30T21:39:46.652009",
     "status": "completed"
    },
    "tags": []
   },
   "outputs": [],
   "source": [
    "X_train = siab_train.iloc[:,4:164]\n",
    "y_train = siab_train.iloc[:, [3]]"
   ]
  },
  {
   "cell_type": "code",
   "execution_count": 22,
   "id": "828c96af-f43a-4ed6-ba47-8ac73a47d56c",
   "metadata": {
    "execution": {
     "iopub.execute_input": "2025-07-30T21:39:46.728176Z",
     "iopub.status.busy": "2025-07-30T21:39:46.727375Z",
     "iopub.status.idle": "2025-07-30T21:39:46.792442Z",
     "shell.execute_reply": "2025-07-30T21:39:46.791264Z"
    },
    "papermill": {
     "duration": 0.089683,
     "end_time": "2025-07-30T21:39:46.794603",
     "exception": false,
     "start_time": "2025-07-30T21:39:46.704920",
     "status": "completed"
    },
    "tags": []
   },
   "outputs": [],
   "source": [
    "X_calib = siab_calib.iloc[:,4:164]\n",
    "y_calib = siab_calib.iloc[:, [3]]"
   ]
  },
  {
   "cell_type": "code",
   "execution_count": 23,
   "id": "c34be9c3-6bd6-476e-acd3-845840e303be",
   "metadata": {
    "execution": {
     "iopub.execute_input": "2025-07-30T21:39:46.841930Z",
     "iopub.status.busy": "2025-07-30T21:39:46.841020Z",
     "iopub.status.idle": "2025-07-30T21:39:46.904468Z",
     "shell.execute_reply": "2025-07-30T21:39:46.903138Z"
    },
    "papermill": {
     "duration": 0.088818,
     "end_time": "2025-07-30T21:39:46.906404",
     "exception": false,
     "start_time": "2025-07-30T21:39:46.817586",
     "status": "completed"
    },
    "tags": []
   },
   "outputs": [],
   "source": [
    "X_test = siab_test.iloc[:,4:164]\n",
    "y_true = siab_test.iloc[:, [3]]"
   ]
  },
  {
   "cell_type": "markdown",
   "id": "9901737e-04df-44f0-9100-f5ad144ed040",
   "metadata": {
    "papermill": {
     "duration": 0.028122,
     "end_time": "2025-07-30T21:39:46.963432",
     "exception": false,
     "start_time": "2025-07-30T21:39:46.935310",
     "status": "completed"
    },
    "tags": []
   },
   "source": [
    "# Splitting Data and Setting Training Data Size OLD VERSION"
   ]
  },
  {
   "cell_type": "code",
   "execution_count": 24,
   "id": "acbc8f7d-8fc8-4e86-8c59-5dcb0f58384b",
   "metadata": {
    "execution": {
     "iopub.execute_input": "2025-07-30T21:39:47.017794Z",
     "iopub.status.busy": "2025-07-30T21:39:47.017129Z",
     "iopub.status.idle": "2025-07-30T21:39:47.022740Z",
     "shell.execute_reply": "2025-07-30T21:39:47.021671Z"
    },
    "papermill": {
     "duration": 0.033664,
     "end_time": "2025-07-30T21:39:47.024668",
     "exception": false,
     "start_time": "2025-07-30T21:39:46.991004",
     "status": "completed"
    },
    "tags": []
   },
   "outputs": [],
   "source": [
    "#def sample_by_year(df, training_size, random_state=42):\n",
    "#    if training_size == \"2014\":\n",
    "#        return df[df[\"year\"] == 2014].reset_index(drop=True)\n",
    "#    \n",
    "#    size_map = {\n",
    "#        \"25k\": 5000,\n",
    "#        \"5k\": 1000,\n",
    "#        \"1k\": 200\n",
    "#    }\n",
    "#\n",
    "#    if training_size not in size_map:\n",
    "#        return df.reset_index(drop=True)  # use all data\n",
    "#\n",
    "#    n_per_year = size_map[training_size]\n",
    "#    grouped = df.groupby(\"year\")\n",
    "#    sampled = grouped.apply(lambda x: x.sample(n=min(n_per_year, len(x)), random_state=random_state))\n",
    "#    return sampled.reset_index(drop=True)"
   ]
  },
  {
   "cell_type": "code",
   "execution_count": 25,
   "id": "6d931f52-beaf-43ff-9e78-9d44a448d54e",
   "metadata": {
    "execution": {
     "iopub.execute_input": "2025-07-30T21:39:47.068191Z",
     "iopub.status.busy": "2025-07-30T21:39:47.067497Z",
     "iopub.status.idle": "2025-07-30T21:39:47.072917Z",
     "shell.execute_reply": "2025-07-30T21:39:47.071936Z"
    },
    "papermill": {
     "duration": 0.027567,
     "end_time": "2025-07-30T21:39:47.074637",
     "exception": false,
     "start_time": "2025-07-30T21:39:47.047070",
     "status": "completed"
    },
    "tags": []
   },
   "outputs": [],
   "source": [
    "#siab_s = sample_by_year(siab, universe[\"training_size\"])"
   ]
  },
  {
   "cell_type": "code",
   "execution_count": 26,
   "id": "5db0a40e-a4e2-4920-be85-b12ae061d70d",
   "metadata": {
    "execution": {
     "iopub.execute_input": "2025-07-30T21:39:47.115081Z",
     "iopub.status.busy": "2025-07-30T21:39:47.114685Z",
     "iopub.status.idle": "2025-07-30T21:39:47.119319Z",
     "shell.execute_reply": "2025-07-30T21:39:47.118549Z"
    },
    "papermill": {
     "duration": 0.023479,
     "end_time": "2025-07-30T21:39:47.120693",
     "exception": false,
     "start_time": "2025-07-30T21:39:47.097214",
     "status": "completed"
    },
    "tags": []
   },
   "outputs": [],
   "source": [
    "#display(siab_s.groupby(\"year\").size())"
   ]
  },
  {
   "cell_type": "code",
   "execution_count": 27,
   "id": "e6c733c5",
   "metadata": {
    "execution": {
     "iopub.execute_input": "2025-07-30T21:39:47.145629Z",
     "iopub.status.busy": "2025-07-30T21:39:47.145125Z",
     "iopub.status.idle": "2025-07-30T21:39:47.251222Z",
     "shell.execute_reply": "2025-07-30T21:39:47.249993Z"
    },
    "papermill": {
     "duration": 0.121016,
     "end_time": "2025-07-30T21:39:47.253651",
     "exception": false,
     "start_time": "2025-07-30T21:39:47.132635",
     "status": "completed"
    },
    "tags": []
   },
   "outputs": [],
   "source": [
    "# Auxiliary data needed downstream in the pipeline\n",
    "\n",
    "org_train = X_train.copy()\n",
    "org_test = X_test.copy()\n",
    "org_calib = X_calib.copy()"
   ]
  },
  {
   "cell_type": "code",
   "execution_count": 28,
   "id": "1466abac-c6da-4492-a62f-4240ae3783af",
   "metadata": {
    "execution": {
     "iopub.execute_input": "2025-07-30T21:39:47.299262Z",
     "iopub.status.busy": "2025-07-30T21:39:47.298878Z",
     "iopub.status.idle": "2025-07-30T21:39:47.303548Z",
     "shell.execute_reply": "2025-07-30T21:39:47.302896Z"
    },
    "papermill": {
     "duration": 0.022539,
     "end_time": "2025-07-30T21:39:47.304892",
     "exception": false,
     "start_time": "2025-07-30T21:39:47.282353",
     "status": "completed"
    },
    "tags": []
   },
   "outputs": [],
   "source": [
    "# put in other script?\n",
    "# Group sizes\n",
    "\n",
    "#def calculate_percentages(df, df_name):\n",
    "#    total_entries = len(df)\n",
    "#\n",
    "#    female_pct = (df['frau1'] == 1).mean() * 100\n",
    "#    non_german_pct = ((df['maxdeutsch1'] == 0) & (df['maxdeutsch.Missing.'] == 0)).mean() * 100\n",
    "#    non_german_male_pct = ((df['frau1'] == 0) & (df['maxdeutsch1'] == 0) & (df['maxdeutsch.Missing.'] == 0)).mean() * 100\n",
    "#    non_german_female_pct = ((df['frau1'] == 1) & (df['maxdeutsch1'] == 0) & (df['maxdeutsch.Missing.'] == 0)).mean() * 100\n",
    "#\n",
    "#    print(f\"--- {df_name} ---\")\n",
    "#    print(f\"Female: {female_pct:.2f}%\")\n",
    "#    print(f\"Non-German: {non_german_pct:.2f}%\")\n",
    "#    print(f\"Non-German Male: {non_german_male_pct:.2f}%\")\n",
    "#    print(f\"Non-German Female: {non_german_female_pct:.2f}%\\n\")\n",
    "#\n",
    "## Calculate for each DataFrame\n",
    "#calculate_percentages(siab_calib, \"siab_calib\")\n",
    "#calculate_percentages(siab_test, \"siab_test\")\n",
    "#calculate_percentages(siab_train, \"siab_train\")"
   ]
  },
  {
   "cell_type": "markdown",
   "id": "0a4a1b33",
   "metadata": {
    "papermill": {
     "duration": 0.010697,
     "end_time": "2025-07-30T21:39:47.327302",
     "exception": false,
     "start_time": "2025-07-30T21:39:47.316605",
     "status": "completed"
    },
    "tags": []
   },
   "source": [
    "# Preprocessing Data"
   ]
  },
  {
   "cell_type": "code",
   "execution_count": 29,
   "id": "ca879031",
   "metadata": {
    "execution": {
     "iopub.execute_input": "2025-07-30T21:39:47.351264Z",
     "iopub.status.busy": "2025-07-30T21:39:47.350766Z",
     "iopub.status.idle": "2025-07-30T21:39:47.356257Z",
     "shell.execute_reply": "2025-07-30T21:39:47.355446Z"
    },
    "papermill": {
     "duration": 0.019359,
     "end_time": "2025-07-30T21:39:47.357778",
     "exception": false,
     "start_time": "2025-07-30T21:39:47.338419",
     "status": "completed"
    },
    "tags": []
   },
   "outputs": [],
   "source": [
    "# EXCLUDE PROTECTED FEATURES\n",
    "# ----------------------\n",
    "# \"exclude_features\": \"none\", # \"nationality\", \"sex\", \"nationality-sex\"\n",
    "\n",
    "excluded_features = universe[\"exclude_features\"].split(\"-\") # split, e.g.: \"nationality-sex\" -> [\"nationality\", \"sex\"]\n",
    "excluded_features_dictionary = {\n",
    "    \"nationality\": [\"maxdeutsch1\", \"maxdeutsch.Missing.\"],\n",
    "    \"sex\": [\"frau1\"],\n",
    "    \"age\": [\"age\"],\n",
    "}\n"
   ]
  },
  {
   "cell_type": "code",
   "execution_count": 30,
   "id": "b745ac60",
   "metadata": {
    "execution": {
     "iopub.execute_input": "2025-07-30T21:39:47.382316Z",
     "iopub.status.busy": "2025-07-30T21:39:47.381679Z",
     "iopub.status.idle": "2025-07-30T21:39:47.387392Z",
     "shell.execute_reply": "2025-07-30T21:39:47.386561Z"
    },
    "papermill": {
     "duration": 0.019757,
     "end_time": "2025-07-30T21:39:47.389830",
     "exception": false,
     "start_time": "2025-07-30T21:39:47.370073",
     "status": "completed"
    },
    "tags": []
   },
   "outputs": [],
   "source": [
    "# Code nice names to column names\n",
    "\n",
    "excluded_features_columns = [\n",
    "    excluded_features_dictionary[f] for f in excluded_features if len(f) > 0 and f != \"none\"\n",
    "]"
   ]
  },
  {
   "cell_type": "code",
   "execution_count": 31,
   "id": "f84f73a2",
   "metadata": {
    "execution": {
     "iopub.execute_input": "2025-07-30T21:39:47.417126Z",
     "iopub.status.busy": "2025-07-30T21:39:47.416451Z",
     "iopub.status.idle": "2025-07-30T21:39:47.422809Z",
     "shell.execute_reply": "2025-07-30T21:39:47.421913Z"
    },
    "papermill": {
     "duration": 0.02112,
     "end_time": "2025-07-30T21:39:47.424545",
     "exception": false,
     "start_time": "2025-07-30T21:39:47.403425",
     "status": "completed"
    },
    "tags": []
   },
   "outputs": [],
   "source": [
    "from utils import flatten_once\n",
    "\n",
    "excluded_features_columns = flatten_once(excluded_features_columns)"
   ]
  },
  {
   "cell_type": "code",
   "execution_count": 32,
   "id": "884dea22",
   "metadata": {
    "execution": {
     "iopub.execute_input": "2025-07-30T21:39:47.469668Z",
     "iopub.status.busy": "2025-07-30T21:39:47.469026Z",
     "iopub.status.idle": "2025-07-30T21:39:47.478371Z",
     "shell.execute_reply": "2025-07-30T21:39:47.477251Z"
    },
    "papermill": {
     "duration": 0.035712,
     "end_time": "2025-07-30T21:39:47.480399",
     "exception": false,
     "start_time": "2025-07-30T21:39:47.444687",
     "status": "completed"
    },
    "tags": []
   },
   "outputs": [
    {
     "name": "stdout",
     "output_type": "stream",
     "text": [
      "Dropping features: ['frau1']\n"
     ]
    }
   ],
   "source": [
    "if len(excluded_features_columns) > 0:\n",
    "    print(f\"Dropping features: {excluded_features_columns}\")\n",
    "    X_train.drop(excluded_features_columns, axis=1, inplace=True)"
   ]
  },
  {
   "cell_type": "code",
   "execution_count": 33,
   "id": "95ab8b16",
   "metadata": {
    "execution": {
     "iopub.execute_input": "2025-07-30T21:39:47.527549Z",
     "iopub.status.busy": "2025-07-30T21:39:47.526593Z",
     "iopub.status.idle": "2025-07-30T21:39:47.587239Z",
     "shell.execute_reply": "2025-07-30T21:39:47.586209Z"
    },
    "papermill": {
     "duration": 0.08608,
     "end_time": "2025-07-30T21:39:47.589058",
     "exception": false,
     "start_time": "2025-07-30T21:39:47.502978",
     "status": "completed"
    },
    "tags": []
   },
   "outputs": [
    {
     "name": "stdout",
     "output_type": "stream",
     "text": [
      "Dropping features: ['frau1']\n"
     ]
    }
   ],
   "source": [
    "if len(excluded_features_columns) > 0:\n",
    "    print(f\"Dropping features: {excluded_features_columns}\")\n",
    "    X_test.drop(excluded_features_columns, axis=1, inplace=True)"
   ]
  },
  {
   "cell_type": "code",
   "execution_count": 34,
   "id": "1853aaf5-fb9f-46cb-a2b5-8ea4ae2237e4",
   "metadata": {
    "execution": {
     "iopub.execute_input": "2025-07-30T21:39:47.639281Z",
     "iopub.status.busy": "2025-07-30T21:39:47.638787Z",
     "iopub.status.idle": "2025-07-30T21:39:47.695309Z",
     "shell.execute_reply": "2025-07-30T21:39:47.694495Z"
    },
    "papermill": {
     "duration": 0.083091,
     "end_time": "2025-07-30T21:39:47.696941",
     "exception": false,
     "start_time": "2025-07-30T21:39:47.613850",
     "status": "completed"
    },
    "tags": []
   },
   "outputs": [
    {
     "name": "stdout",
     "output_type": "stream",
     "text": [
      "Dropping features: ['frau1']\n"
     ]
    }
   ],
   "source": [
    "if len(excluded_features_columns) > 0:\n",
    "    print(f\"Dropping features: {excluded_features_columns}\")\n",
    "    X_calib.drop(excluded_features_columns, axis=1, inplace=True)"
   ]
  },
  {
   "cell_type": "code",
   "execution_count": 35,
   "id": "6727d079-03e5-481e-9d38-292a90b7a0a8",
   "metadata": {
    "execution": {
     "iopub.execute_input": "2025-07-30T21:39:47.745330Z",
     "iopub.status.busy": "2025-07-30T21:39:47.744547Z",
     "iopub.status.idle": "2025-07-30T21:39:47.749391Z",
     "shell.execute_reply": "2025-07-30T21:39:47.748476Z"
    },
    "papermill": {
     "duration": 0.03131,
     "end_time": "2025-07-30T21:39:47.750785",
     "exception": false,
     "start_time": "2025-07-30T21:39:47.719475",
     "status": "completed"
    },
    "tags": []
   },
   "outputs": [],
   "source": [
    "# SPLIT & STRATIFY DATA\n",
    "# ----------------------"
   ]
  },
  {
   "cell_type": "code",
   "execution_count": 36,
   "id": "76c4dc6d",
   "metadata": {
    "execution": {
     "iopub.execute_input": "2025-07-30T21:39:47.799654Z",
     "iopub.status.busy": "2025-07-30T21:39:47.798979Z",
     "iopub.status.idle": "2025-07-30T21:39:47.803882Z",
     "shell.execute_reply": "2025-07-30T21:39:47.803145Z"
    },
    "papermill": {
     "duration": 0.031438,
     "end_time": "2025-07-30T21:39:47.805321",
     "exception": false,
     "start_time": "2025-07-30T21:39:47.773883",
     "status": "completed"
    },
    "tags": []
   },
   "outputs": [],
   "source": [
    "# EXCLUDE CERTAIN SUBGROUPS\n",
    "# ----------------------\n",
    "\n",
    "mode = universe.get(\"exclude_subgroups\", \"keep-all\") \n",
    "# Fetches the exclude_subgroups setting from the universe dict.\n",
    "# Defaults to \"keep-all\" if the key is missing."
   ]
  },
  {
   "cell_type": "code",
   "execution_count": 37,
   "id": "21994072",
   "metadata": {
    "execution": {
     "iopub.execute_input": "2025-07-30T21:39:47.831863Z",
     "iopub.status.busy": "2025-07-30T21:39:47.831364Z",
     "iopub.status.idle": "2025-07-30T21:39:47.837058Z",
     "shell.execute_reply": "2025-07-30T21:39:47.836354Z"
    },
    "papermill": {
     "duration": 0.019638,
     "end_time": "2025-07-30T21:39:47.838329",
     "exception": false,
     "start_time": "2025-07-30T21:39:47.818691",
     "status": "completed"
    },
    "tags": []
   },
   "outputs": [],
   "source": [
    "if mode == \"keep-all\":\n",
    "    keep_mask = pd.Series(True, index=org_train.index)\n",
    "\n",
    "# org_train contains the original feature columns from features_org (in Simson)\n",
    "# features_org contains unprocessed features, for me X_train at beginning ???\n",
    "# For keep-all, creates a boolean Series (keep_mask) of all True, so no rows are removed.\n",
    "\n",
    "elif mode == \"drop-non-german\":\n",
    "    keep_mask = org_train[\"maxdeutsch1\"] == 1 # ??? what about missing values?\n",
    "\n",
    "else:\n",
    "    raise ValueError(f\"Unsupported mode for exclude_subgroups: {mode}\")\n"
   ]
  },
  {
   "cell_type": "code",
   "execution_count": 38,
   "id": "71651440",
   "metadata": {
    "execution": {
     "iopub.execute_input": "2025-07-30T21:39:47.868471Z",
     "iopub.status.busy": "2025-07-30T21:39:47.867657Z",
     "iopub.status.idle": "2025-07-30T21:39:47.873723Z",
     "shell.execute_reply": "2025-07-30T21:39:47.873075Z"
    },
    "papermill": {
     "duration": 0.023345,
     "end_time": "2025-07-30T21:39:47.874987",
     "exception": false,
     "start_time": "2025-07-30T21:39:47.851642",
     "status": "completed"
    },
    "tags": []
   },
   "outputs": [
    {
     "name": "stdout",
     "output_type": "stream",
     "text": [
      "Dropping 147 rows (14.70%) where mode='drop-non-german'\n"
     ]
    }
   ],
   "source": [
    "n_drop = (~keep_mask).sum() # Calculates how many rows are set to be dropped\n",
    "if n_drop > 0:\n",
    "    pct = n_drop / len(keep_mask) * 100\n",
    "    print(f\"Dropping {n_drop} rows ({pct:.2f}%) where mode='{mode}'\")"
   ]
  },
  {
   "cell_type": "code",
   "execution_count": 39,
   "id": "5fb8eee5",
   "metadata": {
    "execution": {
     "iopub.execute_input": "2025-07-30T21:39:47.900060Z",
     "iopub.status.busy": "2025-07-30T21:39:47.899551Z",
     "iopub.status.idle": "2025-07-30T21:39:47.905403Z",
     "shell.execute_reply": "2025-07-30T21:39:47.904545Z"
    },
    "papermill": {
     "duration": 0.019467,
     "end_time": "2025-07-30T21:39:47.906816",
     "exception": false,
     "start_time": "2025-07-30T21:39:47.887349",
     "status": "completed"
    },
    "tags": []
   },
   "outputs": [],
   "source": [
    "X_train = X_train[keep_mask]"
   ]
  },
  {
   "cell_type": "code",
   "execution_count": 40,
   "id": "b202bb3a",
   "metadata": {
    "execution": {
     "iopub.execute_input": "2025-07-30T21:39:47.957021Z",
     "iopub.status.busy": "2025-07-30T21:39:47.956569Z",
     "iopub.status.idle": "2025-07-30T21:39:47.962195Z",
     "shell.execute_reply": "2025-07-30T21:39:47.961399Z"
    },
    "papermill": {
     "duration": 0.032981,
     "end_time": "2025-07-30T21:39:47.964079",
     "exception": false,
     "start_time": "2025-07-30T21:39:47.931098",
     "status": "completed"
    },
    "tags": []
   },
   "outputs": [],
   "source": [
    "y_train = y_train[keep_mask]"
   ]
  },
  {
   "cell_type": "markdown",
   "id": "493e2ac3",
   "metadata": {
    "papermill": {
     "duration": 0.024282,
     "end_time": "2025-07-30T21:39:48.012266",
     "exception": false,
     "start_time": "2025-07-30T21:39:47.987984",
     "status": "completed"
    },
    "tags": []
   },
   "source": [
    "# Model Training"
   ]
  },
  {
   "cell_type": "code",
   "execution_count": 41,
   "id": "679e1268",
   "metadata": {
    "execution": {
     "iopub.execute_input": "2025-07-30T21:39:48.061138Z",
     "iopub.status.busy": "2025-07-30T21:39:48.060630Z",
     "iopub.status.idle": "2025-07-30T21:39:48.251694Z",
     "shell.execute_reply": "2025-07-30T21:39:48.250712Z"
    },
    "papermill": {
     "duration": 0.217966,
     "end_time": "2025-07-30T21:39:48.253516",
     "exception": false,
     "start_time": "2025-07-30T21:39:48.035550",
     "status": "completed"
    },
    "tags": []
   },
   "outputs": [],
   "source": [
    "from sklearn.linear_model import LogisticRegression\n",
    "from sklearn.ensemble import GradientBoostingClassifier, RandomForestClassifier\n",
    "\n",
    "if (universe[\"model\"] == \"logreg\"):\n",
    "    model = LogisticRegression() #penalty=\"none\") #, solver=\"newton-cg\", max_iter=1) # include random_state=19 ?\n",
    "elif (universe[\"model\"] == \"penalized_logreg\"):\n",
    "    model = LogisticRegression(penalty=\"l2\", C=1.0) #, solver=\"newton-cg\", max_iter=1)\n",
    "elif (universe[\"model\"] == \"rf\"):\n",
    "    model = RandomForestClassifier(n_estimators=100, n_jobs=-1)\n",
    "elif (universe[\"model\"] == \"gbm\"):\n",
    "    model = GradientBoostingClassifier()\n",
    "elif (universe[\"model\"] == \"elasticnet\"):\n",
    "    model = LogisticRegression(penalty = 'elasticnet', solver = 'saga', l1_ratio = 0.5, max_iter=5000) # which solver to use?\n",
    "else:\n",
    "    raise \"Unsupported universe.model\""
   ]
  },
  {
   "cell_type": "code",
   "execution_count": 42,
   "id": "0cc8f744",
   "metadata": {
    "execution": {
     "iopub.execute_input": "2025-07-30T21:39:48.303740Z",
     "iopub.status.busy": "2025-07-30T21:39:48.302894Z",
     "iopub.status.idle": "2025-07-30T21:39:48.309851Z",
     "shell.execute_reply": "2025-07-30T21:39:48.308867Z"
    },
    "papermill": {
     "duration": 0.034356,
     "end_time": "2025-07-30T21:39:48.311689",
     "exception": false,
     "start_time": "2025-07-30T21:39:48.277333",
     "status": "completed"
    },
    "tags": []
   },
   "outputs": [],
   "source": [
    "import numpy as np\n",
    "from sklearn.pipeline import Pipeline\n",
    "from sklearn.preprocessing import StandardScaler\n",
    "\n",
    "model = Pipeline([\n",
    "    #(\"continuous_processor\", continuous_processor),\n",
    "    #(\"categorical_preprocessor\", categorical_preprocessor),\n",
    "    (\"scale\", StandardScaler() if universe[\"scale\"] == \"scale\" else None), \n",
    "    (\"model\", model),\n",
    "])"
   ]
  },
  {
   "cell_type": "code",
   "execution_count": 43,
   "id": "9442c04d",
   "metadata": {
    "execution": {
     "iopub.execute_input": "2025-07-30T21:39:48.360577Z",
     "iopub.status.busy": "2025-07-30T21:39:48.359634Z",
     "iopub.status.idle": "2025-07-30T21:39:48.426632Z",
     "shell.execute_reply": "2025-07-30T21:39:48.425656Z"
    },
    "papermill": {
     "duration": 0.091958,
     "end_time": "2025-07-30T21:39:48.428498",
     "exception": false,
     "start_time": "2025-07-30T21:39:48.336540",
     "status": "completed"
    },
    "tags": []
   },
   "outputs": [
    {
     "name": "stderr",
     "output_type": "stream",
     "text": [
      "/dss/dsshome1/0C/ra93lal2/.local/share/virtualenvs/CMA_Fairness_v2-3j10GkSs/lib/python3.10/site-packages/sklearn/linear_model/_logistic.py:444: ConvergenceWarning: lbfgs failed to converge (status=1):\n",
      "STOP: TOTAL NO. of ITERATIONS REACHED LIMIT.\n",
      "\n",
      "Increase the number of iterations (max_iter) or scale the data as shown in:\n",
      "    https://scikit-learn.org/stable/modules/preprocessing.html\n",
      "Please also refer to the documentation for alternative solver options:\n",
      "    https://scikit-learn.org/stable/modules/linear_model.html#logistic-regression\n",
      "  n_iter_i = _check_optimize_result(\n"
     ]
    },
    {
     "data": {
      "text/html": [
       "<style>#sk-container-id-1 {color: black;background-color: white;}#sk-container-id-1 pre{padding: 0;}#sk-container-id-1 div.sk-toggleable {background-color: white;}#sk-container-id-1 label.sk-toggleable__label {cursor: pointer;display: block;width: 100%;margin-bottom: 0;padding: 0.3em;box-sizing: border-box;text-align: center;}#sk-container-id-1 label.sk-toggleable__label-arrow:before {content: \"▸\";float: left;margin-right: 0.25em;color: #696969;}#sk-container-id-1 label.sk-toggleable__label-arrow:hover:before {color: black;}#sk-container-id-1 div.sk-estimator:hover label.sk-toggleable__label-arrow:before {color: black;}#sk-container-id-1 div.sk-toggleable__content {max-height: 0;max-width: 0;overflow: hidden;text-align: left;background-color: #f0f8ff;}#sk-container-id-1 div.sk-toggleable__content pre {margin: 0.2em;color: black;border-radius: 0.25em;background-color: #f0f8ff;}#sk-container-id-1 input.sk-toggleable__control:checked~div.sk-toggleable__content {max-height: 200px;max-width: 100%;overflow: auto;}#sk-container-id-1 input.sk-toggleable__control:checked~label.sk-toggleable__label-arrow:before {content: \"▾\";}#sk-container-id-1 div.sk-estimator input.sk-toggleable__control:checked~label.sk-toggleable__label {background-color: #d4ebff;}#sk-container-id-1 div.sk-label input.sk-toggleable__control:checked~label.sk-toggleable__label {background-color: #d4ebff;}#sk-container-id-1 input.sk-hidden--visually {border: 0;clip: rect(1px 1px 1px 1px);clip: rect(1px, 1px, 1px, 1px);height: 1px;margin: -1px;overflow: hidden;padding: 0;position: absolute;width: 1px;}#sk-container-id-1 div.sk-estimator {font-family: monospace;background-color: #f0f8ff;border: 1px dotted black;border-radius: 0.25em;box-sizing: border-box;margin-bottom: 0.5em;}#sk-container-id-1 div.sk-estimator:hover {background-color: #d4ebff;}#sk-container-id-1 div.sk-parallel-item::after {content: \"\";width: 100%;border-bottom: 1px solid gray;flex-grow: 1;}#sk-container-id-1 div.sk-label:hover label.sk-toggleable__label {background-color: #d4ebff;}#sk-container-id-1 div.sk-serial::before {content: \"\";position: absolute;border-left: 1px solid gray;box-sizing: border-box;top: 0;bottom: 0;left: 50%;z-index: 0;}#sk-container-id-1 div.sk-serial {display: flex;flex-direction: column;align-items: center;background-color: white;padding-right: 0.2em;padding-left: 0.2em;position: relative;}#sk-container-id-1 div.sk-item {position: relative;z-index: 1;}#sk-container-id-1 div.sk-parallel {display: flex;align-items: stretch;justify-content: center;background-color: white;position: relative;}#sk-container-id-1 div.sk-item::before, #sk-container-id-1 div.sk-parallel-item::before {content: \"\";position: absolute;border-left: 1px solid gray;box-sizing: border-box;top: 0;bottom: 0;left: 50%;z-index: -1;}#sk-container-id-1 div.sk-parallel-item {display: flex;flex-direction: column;z-index: 1;position: relative;background-color: white;}#sk-container-id-1 div.sk-parallel-item:first-child::after {align-self: flex-end;width: 50%;}#sk-container-id-1 div.sk-parallel-item:last-child::after {align-self: flex-start;width: 50%;}#sk-container-id-1 div.sk-parallel-item:only-child::after {width: 0;}#sk-container-id-1 div.sk-dashed-wrapped {border: 1px dashed gray;margin: 0 0.4em 0.5em 0.4em;box-sizing: border-box;padding-bottom: 0.4em;background-color: white;}#sk-container-id-1 div.sk-label label {font-family: monospace;font-weight: bold;display: inline-block;line-height: 1.2em;}#sk-container-id-1 div.sk-label-container {text-align: center;}#sk-container-id-1 div.sk-container {/* jupyter's `normalize.less` sets `[hidden] { display: none; }` but bootstrap.min.css set `[hidden] { display: none !important; }` so we also need the `!important` here to be able to override the default hidden behavior on the sphinx rendered scikit-learn.org. See: https://github.com/scikit-learn/scikit-learn/issues/21755 */display: inline-block !important;position: relative;}#sk-container-id-1 div.sk-text-repr-fallback {display: none;}</style><div id=\"sk-container-id-1\" class=\"sk-top-container\"><div class=\"sk-text-repr-fallback\"><pre>Pipeline(steps=[(&#x27;scale&#x27;, None), (&#x27;model&#x27;, LogisticRegression())])</pre><b>In a Jupyter environment, please rerun this cell to show the HTML representation or trust the notebook. <br />On GitHub, the HTML representation is unable to render, please try loading this page with nbviewer.org.</b></div><div class=\"sk-container\" hidden><div class=\"sk-item sk-dashed-wrapped\"><div class=\"sk-label-container\"><div class=\"sk-label sk-toggleable\"><input class=\"sk-toggleable__control sk-hidden--visually\" id=\"sk-estimator-id-1\" type=\"checkbox\" ><label for=\"sk-estimator-id-1\" class=\"sk-toggleable__label sk-toggleable__label-arrow\">Pipeline</label><div class=\"sk-toggleable__content\"><pre>Pipeline(steps=[(&#x27;scale&#x27;, None), (&#x27;model&#x27;, LogisticRegression())])</pre></div></div></div><div class=\"sk-serial\"><div class=\"sk-item\"><div class=\"sk-estimator sk-toggleable\"><input class=\"sk-toggleable__control sk-hidden--visually\" id=\"sk-estimator-id-2\" type=\"checkbox\" ><label for=\"sk-estimator-id-2\" class=\"sk-toggleable__label sk-toggleable__label-arrow\">None</label><div class=\"sk-toggleable__content\"><pre>None</pre></div></div></div><div class=\"sk-item\"><div class=\"sk-estimator sk-toggleable\"><input class=\"sk-toggleable__control sk-hidden--visually\" id=\"sk-estimator-id-3\" type=\"checkbox\" ><label for=\"sk-estimator-id-3\" class=\"sk-toggleable__label sk-toggleable__label-arrow\">LogisticRegression</label><div class=\"sk-toggleable__content\"><pre>LogisticRegression()</pre></div></div></div></div></div></div></div>"
      ],
      "text/plain": [
       "Pipeline(steps=[('scale', None), ('model', LogisticRegression())])"
      ]
     },
     "execution_count": 43,
     "metadata": {},
     "output_type": "execute_result"
    }
   ],
   "source": [
    "model.fit(X_train, y_train.values.ravel())"
   ]
  },
  {
   "cell_type": "code",
   "execution_count": 44,
   "id": "af59f8c0",
   "metadata": {
    "execution": {
     "iopub.execute_input": "2025-07-30T21:39:48.477955Z",
     "iopub.status.busy": "2025-07-30T21:39:48.477013Z",
     "iopub.status.idle": "2025-07-30T21:39:48.482613Z",
     "shell.execute_reply": "2025-07-30T21:39:48.481643Z"
    },
    "papermill": {
     "duration": 0.031947,
     "end_time": "2025-07-30T21:39:48.484489",
     "exception": false,
     "start_time": "2025-07-30T21:39:48.452542",
     "status": "completed"
    },
    "tags": []
   },
   "outputs": [],
   "source": [
    "from fairness_multiverse.universe import predict_w_threshold"
   ]
  },
  {
   "cell_type": "code",
   "execution_count": 45,
   "id": "a7cf2e16",
   "metadata": {
    "execution": {
     "iopub.execute_input": "2025-07-30T21:39:48.535304Z",
     "iopub.status.busy": "2025-07-30T21:39:48.534458Z",
     "iopub.status.idle": "2025-07-30T21:39:48.633976Z",
     "shell.execute_reply": "2025-07-30T21:39:48.632849Z"
    },
    "papermill": {
     "duration": 0.126913,
     "end_time": "2025-07-30T21:39:48.635990",
     "exception": false,
     "start_time": "2025-07-30T21:39:48.509077",
     "status": "completed"
    },
    "tags": []
   },
   "outputs": [
    {
     "data": {
      "text/plain": [
       "0.8599152825771932"
      ]
     },
     "execution_count": 45,
     "metadata": {},
     "output_type": "execute_result"
    }
   ],
   "source": [
    "probs_test = model.predict_proba(X_test)\n",
    "\n",
    "'''\n",
    "Below code returns a boolean array (or binary 0/1 array depending on how it’s used) where each element \n",
    "is True if the probability of class 1 is greater than or equal to the threshold, and False otherwise.\n",
    "'''\n",
    "y_pred_default = predict_w_threshold(probs_test, 0.5)\n",
    "\n",
    "from sklearn.metrics import accuracy_score\n",
    "\n",
    "# Naive prediction\n",
    "accuracy_score(y_true = y_true, y_pred = y_pred_default)"
   ]
  },
  {
   "cell_type": "code",
   "execution_count": 46,
   "id": "081964c3",
   "metadata": {
    "execution": {
     "iopub.execute_input": "2025-07-30T21:39:48.688539Z",
     "iopub.status.busy": "2025-07-30T21:39:48.687874Z",
     "iopub.status.idle": "2025-07-30T21:39:48.777570Z",
     "shell.execute_reply": "2025-07-30T21:39:48.776551Z"
    },
    "papermill": {
     "duration": 0.117751,
     "end_time": "2025-07-30T21:39:48.779334",
     "exception": false,
     "start_time": "2025-07-30T21:39:48.661583",
     "status": "completed"
    },
    "tags": []
   },
   "outputs": [
    {
     "data": {
      "text/plain": [
       "array([0, 0, 0, ..., 0, 0, 0])"
      ]
     },
     "execution_count": 46,
     "metadata": {},
     "output_type": "execute_result"
    }
   ],
   "source": [
    "model.predict(X_test)"
   ]
  },
  {
   "cell_type": "markdown",
   "id": "56c9705b",
   "metadata": {
    "papermill": {
     "duration": 0.021721,
     "end_time": "2025-07-30T21:39:48.827117",
     "exception": false,
     "start_time": "2025-07-30T21:39:48.805396",
     "status": "completed"
    },
    "tags": []
   },
   "source": [
    "# Conformal Prediction"
   ]
  },
  {
   "cell_type": "code",
   "execution_count": 47,
   "id": "160ec6ff",
   "metadata": {
    "execution": {
     "iopub.execute_input": "2025-07-30T21:39:48.856008Z",
     "iopub.status.busy": "2025-07-30T21:39:48.855581Z",
     "iopub.status.idle": "2025-07-30T21:39:48.861890Z",
     "shell.execute_reply": "2025-07-30T21:39:48.860761Z"
    },
    "papermill": {
     "duration": 0.022791,
     "end_time": "2025-07-30T21:39:48.864004",
     "exception": false,
     "start_time": "2025-07-30T21:39:48.841213",
     "status": "completed"
    },
    "tags": []
   },
   "outputs": [],
   "source": [
    "# Miscoverage level for conformal prediction (10% allowed error rate => 90% target coverage)\n",
    "alpha = 0.1"
   ]
  },
  {
   "cell_type": "code",
   "execution_count": 48,
   "id": "eadf4555-3dd3-440e-8e35-f82a4ad9f855",
   "metadata": {
    "execution": {
     "iopub.execute_input": "2025-07-30T21:39:48.917833Z",
     "iopub.status.busy": "2025-07-30T21:39:48.917293Z",
     "iopub.status.idle": "2025-07-30T21:39:48.998666Z",
     "shell.execute_reply": "2025-07-30T21:39:48.997922Z"
    },
    "papermill": {
     "duration": 0.110498,
     "end_time": "2025-07-30T21:39:49.000836",
     "exception": false,
     "start_time": "2025-07-30T21:39:48.890338",
     "status": "completed"
    },
    "tags": []
   },
   "outputs": [],
   "source": [
    "probs_calib = model.predict_proba(X_calib)"
   ]
  },
  {
   "cell_type": "code",
   "execution_count": 49,
   "id": "2ed93547-6d5d-4983-9b36-1ecb300da49a",
   "metadata": {
    "execution": {
     "iopub.execute_input": "2025-07-30T21:39:49.065748Z",
     "iopub.status.busy": "2025-07-30T21:39:49.065128Z",
     "iopub.status.idle": "2025-07-30T21:39:49.072199Z",
     "shell.execute_reply": "2025-07-30T21:39:49.070777Z"
    },
    "papermill": {
     "duration": 0.042817,
     "end_time": "2025-07-30T21:39:49.074664",
     "exception": false,
     "start_time": "2025-07-30T21:39:49.031847",
     "status": "completed"
    },
    "tags": []
   },
   "outputs": [],
   "source": [
    "y_calib = y_calib.values.ravel().astype(int)"
   ]
  },
  {
   "cell_type": "code",
   "execution_count": 50,
   "id": "65d1320d-f588-4b38-9072-62af1ae97f7d",
   "metadata": {
    "execution": {
     "iopub.execute_input": "2025-07-30T21:39:49.137779Z",
     "iopub.status.busy": "2025-07-30T21:39:49.137259Z",
     "iopub.status.idle": "2025-07-30T21:39:49.145065Z",
     "shell.execute_reply": "2025-07-30T21:39:49.143943Z"
    },
    "papermill": {
     "duration": 0.041499,
     "end_time": "2025-07-30T21:39:49.147219",
     "exception": false,
     "start_time": "2025-07-30T21:39:49.105720",
     "status": "completed"
    },
    "tags": []
   },
   "outputs": [],
   "source": [
    "from fairness_multiverse.conformal import compute_nc_scores\n",
    "\n",
    "# Compute nonconformity scores on calibration set (1 - probability of true class)\n",
    "nc_scores = compute_nc_scores(probs_calib, y_calib)"
   ]
  },
  {
   "cell_type": "code",
   "execution_count": 51,
   "id": "df3b8ca3-53b7-43d5-9667-7c85da7aeda2",
   "metadata": {
    "execution": {
     "iopub.execute_input": "2025-07-30T21:39:49.212090Z",
     "iopub.status.busy": "2025-07-30T21:39:49.211552Z",
     "iopub.status.idle": "2025-07-30T21:39:49.218943Z",
     "shell.execute_reply": "2025-07-30T21:39:49.217929Z"
    },
    "papermill": {
     "duration": 0.042233,
     "end_time": "2025-07-30T21:39:49.220975",
     "exception": false,
     "start_time": "2025-07-30T21:39:49.178742",
     "status": "completed"
    },
    "tags": []
   },
   "outputs": [],
   "source": [
    "from fairness_multiverse.conformal import find_threshold\n",
    "\n",
    "# Find conformal threshold q_hat for the given alpha (split conformal method)\n",
    "q_hat = find_threshold(nc_scores, alpha)"
   ]
  },
  {
   "cell_type": "code",
   "execution_count": 52,
   "id": "4d29e6c1-0ef6-4aa4-b8fe-4fe79b0d033a",
   "metadata": {
    "execution": {
     "iopub.execute_input": "2025-07-30T21:39:49.274067Z",
     "iopub.status.busy": "2025-07-30T21:39:49.273359Z",
     "iopub.status.idle": "2025-07-30T21:39:49.285464Z",
     "shell.execute_reply": "2025-07-30T21:39:49.283813Z"
    },
    "papermill": {
     "duration": 0.042332,
     "end_time": "2025-07-30T21:39:49.287194",
     "exception": false,
     "start_time": "2025-07-30T21:39:49.244862",
     "status": "completed"
    },
    "tags": []
   },
   "outputs": [
    {
     "data": {
      "text/plain": [
       "0.6852033778261675"
      ]
     },
     "execution_count": 52,
     "metadata": {},
     "output_type": "execute_result"
    }
   ],
   "source": [
    "q_hat"
   ]
  },
  {
   "cell_type": "code",
   "execution_count": 53,
   "id": "92460794-cdac-4be2-ba28-f28c0515a6fb",
   "metadata": {
    "execution": {
     "iopub.execute_input": "2025-07-30T21:39:49.341435Z",
     "iopub.status.busy": "2025-07-30T21:39:49.340326Z",
     "iopub.status.idle": "2025-07-30T21:39:50.550661Z",
     "shell.execute_reply": "2025-07-30T21:39:50.549488Z"
    },
    "papermill": {
     "duration": 1.240653,
     "end_time": "2025-07-30T21:39:50.552813",
     "exception": false,
     "start_time": "2025-07-30T21:39:49.312160",
     "status": "completed"
    },
    "tags": []
   },
   "outputs": [],
   "source": [
    "from fairness_multiverse.conformal import predict_conformal_sets\n",
    "\n",
    "# Generate prediction sets for each test example\n",
    "pred_sets = predict_conformal_sets(model, X_test, q_hat)"
   ]
  },
  {
   "cell_type": "code",
   "execution_count": 54,
   "id": "d90c9a65-e6db-4f5d-80cd-e68fb7e46829",
   "metadata": {
    "execution": {
     "iopub.execute_input": "2025-07-30T21:39:50.611995Z",
     "iopub.status.busy": "2025-07-30T21:39:50.611214Z",
     "iopub.status.idle": "2025-07-30T21:39:50.618182Z",
     "shell.execute_reply": "2025-07-30T21:39:50.617164Z"
    },
    "papermill": {
     "duration": 0.03511,
     "end_time": "2025-07-30T21:39:50.619927",
     "exception": false,
     "start_time": "2025-07-30T21:39:50.584817",
     "status": "completed"
    },
    "tags": []
   },
   "outputs": [],
   "source": [
    "y_true = y_true.squeeze()"
   ]
  },
  {
   "cell_type": "code",
   "execution_count": 55,
   "id": "3a58a54a-1e68-46b9-927a-df01f18aebc8",
   "metadata": {
    "execution": {
     "iopub.execute_input": "2025-07-30T21:39:50.673874Z",
     "iopub.status.busy": "2025-07-30T21:39:50.672925Z",
     "iopub.status.idle": "2025-07-30T21:39:51.847237Z",
     "shell.execute_reply": "2025-07-30T21:39:51.846497Z"
    },
    "papermill": {
     "duration": 1.203278,
     "end_time": "2025-07-30T21:39:51.849006",
     "exception": false,
     "start_time": "2025-07-30T21:39:50.645728",
     "status": "completed"
    },
    "tags": []
   },
   "outputs": [],
   "source": [
    "from fairness_multiverse.conformal import evaluate_sets\n",
    "\n",
    "# Evaluate coverage and average set size on test data\n",
    "metrics = evaluate_sets(pred_sets, y_true)"
   ]
  },
  {
   "cell_type": "markdown",
   "id": "2b569c12-9aaa-4c88-98c9-bbcd0cf3ebb8",
   "metadata": {
    "papermill": {
     "duration": 0.023869,
     "end_time": "2025-07-30T21:39:51.905836",
     "exception": false,
     "start_time": "2025-07-30T21:39:51.881967",
     "status": "completed"
    },
    "tags": []
   },
   "source": [
    "# CP Metrics"
   ]
  },
  {
   "cell_type": "code",
   "execution_count": 56,
   "id": "5ce0a5cb-201f-45a0-ade5-94c7f0bd6095",
   "metadata": {
    "execution": {
     "iopub.execute_input": "2025-07-30T21:39:51.955253Z",
     "iopub.status.busy": "2025-07-30T21:39:51.954771Z",
     "iopub.status.idle": "2025-07-30T21:39:51.961583Z",
     "shell.execute_reply": "2025-07-30T21:39:51.960681Z"
    },
    "papermill": {
     "duration": 0.034067,
     "end_time": "2025-07-30T21:39:51.963135",
     "exception": false,
     "start_time": "2025-07-30T21:39:51.929068",
     "status": "completed"
    },
    "tags": []
   },
   "outputs": [
    {
     "data": {
      "text/plain": [
       "{'coverage': 0.9122394381897224, 'avg_size': 1.2218370304313901}"
      ]
     },
     "execution_count": 56,
     "metadata": {},
     "output_type": "execute_result"
    }
   ],
   "source": [
    "metrics"
   ]
  },
  {
   "cell_type": "code",
   "execution_count": 57,
   "id": "9b9a838d-31c9-430b-ae14-12baee460d17",
   "metadata": {
    "execution": {
     "iopub.execute_input": "2025-07-30T21:39:52.004619Z",
     "iopub.status.busy": "2025-07-30T21:39:52.004061Z",
     "iopub.status.idle": "2025-07-30T21:39:52.009895Z",
     "shell.execute_reply": "2025-07-30T21:39:52.009104Z"
    },
    "papermill": {
     "duration": 0.024084,
     "end_time": "2025-07-30T21:39:52.011234",
     "exception": false,
     "start_time": "2025-07-30T21:39:51.987150",
     "status": "completed"
    },
    "tags": []
   },
   "outputs": [],
   "source": [
    "example_universe = universe.copy()\n",
    "universe_training_year = example_universe.get(\"training_year\")\n",
    "universe_training_size = example_universe.get(\"training_size\")\n",
    "universe_scale = example_universe.get(\"scale\")\n",
    "universe_model = example_universe.get(\"model\")\n",
    "universe_exclude_features = example_universe.get(\"exclude_features\")\n",
    "universe_exclude_subgroups = example_universe.get(\"exclude_subgroups\")"
   ]
  },
  {
   "cell_type": "code",
   "execution_count": 58,
   "id": "f4b6a8ac-9dc0-4245-8a91-5b3b5999c4f9",
   "metadata": {
    "execution": {
     "iopub.execute_input": "2025-07-30T21:39:52.049868Z",
     "iopub.status.busy": "2025-07-30T21:39:52.049403Z",
     "iopub.status.idle": "2025-07-30T21:39:52.057251Z",
     "shell.execute_reply": "2025-07-30T21:39:52.056136Z"
    },
    "papermill": {
     "duration": 0.032917,
     "end_time": "2025-07-30T21:39:52.058890",
     "exception": false,
     "start_time": "2025-07-30T21:39:52.025973",
     "status": "completed"
    },
    "tags": []
   },
   "outputs": [],
   "source": [
    "cp_metrics_dict = {\n",
    "    \"universe_id\": [universe_id],\n",
    "    \"universe_training_year\": [universe_training_year],\n",
    "    \"universe_training_size\": [universe_training_size],\n",
    "    \"universe_scale\": [universe_scale],\n",
    "    \"universe_model\": [universe_model],\n",
    "    \"universe_exclude_features\": [universe_exclude_features],\n",
    "    \"universe_exclude_subgroups\": [universe_exclude_subgroups],\n",
    "    \"q_hat\": [q_hat],\n",
    "    \"coverage\": [metrics[\"coverage\"]],\n",
    "    \"avg_size\": [metrics[\"avg_size\"]],\n",
    "}"
   ]
  },
  {
   "cell_type": "code",
   "execution_count": 59,
   "id": "908acbb1-0371-4915-85ca-3fa520d2efe2",
   "metadata": {
    "execution": {
     "iopub.execute_input": "2025-07-30T21:39:52.102223Z",
     "iopub.status.busy": "2025-07-30T21:39:52.101769Z",
     "iopub.status.idle": "2025-07-30T21:39:52.108547Z",
     "shell.execute_reply": "2025-07-30T21:39:52.107763Z"
    },
    "papermill": {
     "duration": 0.024072,
     "end_time": "2025-07-30T21:39:52.109855",
     "exception": false,
     "start_time": "2025-07-30T21:39:52.085783",
     "status": "completed"
    },
    "tags": []
   },
   "outputs": [
    {
     "data": {
      "text/plain": [
       "{'universe_id': ['fe3e78a18593fee1a7aac8086fc4c3b5'],\n",
       " 'universe_training_year': ['2012_14'],\n",
       " 'universe_training_size': ['1k'],\n",
       " 'universe_scale': ['do-not-scale'],\n",
       " 'universe_model': ['penalized_logreg'],\n",
       " 'universe_exclude_features': ['sex'],\n",
       " 'universe_exclude_subgroups': ['drop-non-german'],\n",
       " 'q_hat': [0.6852033778261675],\n",
       " 'coverage': [0.9122394381897224],\n",
       " 'avg_size': [1.2218370304313901]}"
      ]
     },
     "execution_count": 59,
     "metadata": {},
     "output_type": "execute_result"
    }
   ],
   "source": [
    "cp_metrics_dict"
   ]
  },
  {
   "cell_type": "code",
   "execution_count": 60,
   "id": "33007efc-14e9-4ec6-97ac-56a455c82265",
   "metadata": {
    "execution": {
     "iopub.execute_input": "2025-07-30T21:39:52.147201Z",
     "iopub.status.busy": "2025-07-30T21:39:52.146775Z",
     "iopub.status.idle": "2025-07-30T21:39:52.173216Z",
     "shell.execute_reply": "2025-07-30T21:39:52.172006Z"
    },
    "papermill": {
     "duration": 0.049921,
     "end_time": "2025-07-30T21:39:52.174800",
     "exception": false,
     "start_time": "2025-07-30T21:39:52.124879",
     "status": "completed"
    },
    "tags": []
   },
   "outputs": [],
   "source": [
    "cp_metrics_df = pd.DataFrame(cp_metrics_dict)"
   ]
  },
  {
   "cell_type": "code",
   "execution_count": 61,
   "id": "db12611b-57b2-4910-b9d0-355adfd6e7bf",
   "metadata": {
    "execution": {
     "iopub.execute_input": "2025-07-30T21:39:52.232166Z",
     "iopub.status.busy": "2025-07-30T21:39:52.231316Z",
     "iopub.status.idle": "2025-07-30T21:39:52.250630Z",
     "shell.execute_reply": "2025-07-30T21:39:52.249788Z"
    },
    "papermill": {
     "duration": 0.051413,
     "end_time": "2025-07-30T21:39:52.252720",
     "exception": false,
     "start_time": "2025-07-30T21:39:52.201307",
     "status": "completed"
    },
    "tags": []
   },
   "outputs": [
    {
     "data": {
      "text/html": [
       "<div>\n",
       "<style scoped>\n",
       "    .dataframe tbody tr th:only-of-type {\n",
       "        vertical-align: middle;\n",
       "    }\n",
       "\n",
       "    .dataframe tbody tr th {\n",
       "        vertical-align: top;\n",
       "    }\n",
       "\n",
       "    .dataframe thead th {\n",
       "        text-align: right;\n",
       "    }\n",
       "</style>\n",
       "<table border=\"1\" class=\"dataframe\">\n",
       "  <thead>\n",
       "    <tr style=\"text-align: right;\">\n",
       "      <th></th>\n",
       "      <th>universe_id</th>\n",
       "      <th>universe_training_year</th>\n",
       "      <th>universe_training_size</th>\n",
       "      <th>universe_scale</th>\n",
       "      <th>universe_model</th>\n",
       "      <th>universe_exclude_features</th>\n",
       "      <th>universe_exclude_subgroups</th>\n",
       "      <th>q_hat</th>\n",
       "      <th>coverage</th>\n",
       "      <th>avg_size</th>\n",
       "    </tr>\n",
       "  </thead>\n",
       "  <tbody>\n",
       "    <tr>\n",
       "      <th>0</th>\n",
       "      <td>fe3e78a18593fee1a7aac8086fc4c3b5</td>\n",
       "      <td>2012_14</td>\n",
       "      <td>1k</td>\n",
       "      <td>do-not-scale</td>\n",
       "      <td>penalized_logreg</td>\n",
       "      <td>sex</td>\n",
       "      <td>drop-non-german</td>\n",
       "      <td>0.685203</td>\n",
       "      <td>0.912239</td>\n",
       "      <td>1.221837</td>\n",
       "    </tr>\n",
       "  </tbody>\n",
       "</table>\n",
       "</div>"
      ],
      "text/plain": [
       "                        universe_id universe_training_year  \\\n",
       "0  fe3e78a18593fee1a7aac8086fc4c3b5                2012_14   \n",
       "\n",
       "  universe_training_size universe_scale    universe_model  \\\n",
       "0                     1k   do-not-scale  penalized_logreg   \n",
       "\n",
       "  universe_exclude_features universe_exclude_subgroups     q_hat  coverage  \\\n",
       "0                       sex            drop-non-german  0.685203  0.912239   \n",
       "\n",
       "   avg_size  \n",
       "0  1.221837  "
      ]
     },
     "execution_count": 61,
     "metadata": {},
     "output_type": "execute_result"
    }
   ],
   "source": [
    "cp_metrics_df"
   ]
  },
  {
   "cell_type": "code",
   "execution_count": 62,
   "id": "b7fbde55-a0a1-47e4-9af6-fe4a17fa8c61",
   "metadata": {
    "execution": {
     "iopub.execute_input": "2025-07-30T21:39:52.308735Z",
     "iopub.status.busy": "2025-07-30T21:39:52.307955Z",
     "iopub.status.idle": "2025-07-30T21:39:52.312846Z",
     "shell.execute_reply": "2025-07-30T21:39:52.311927Z"
    },
    "papermill": {
     "duration": 0.03355,
     "end_time": "2025-07-30T21:39:52.314334",
     "exception": false,
     "start_time": "2025-07-30T21:39:52.280784",
     "status": "completed"
    },
    "tags": []
   },
   "outputs": [],
   "source": [
    "# Conditional Coverage & looking at subgroups"
   ]
  },
  {
   "cell_type": "code",
   "execution_count": 63,
   "id": "027ae886-68dd-4141-96c7-805a5450e1ef",
   "metadata": {
    "execution": {
     "iopub.execute_input": "2025-07-30T21:39:52.365217Z",
     "iopub.status.busy": "2025-07-30T21:39:52.364576Z",
     "iopub.status.idle": "2025-07-30T21:39:52.581629Z",
     "shell.execute_reply": "2025-07-30T21:39:52.580839Z"
    },
    "papermill": {
     "duration": 0.244736,
     "end_time": "2025-07-30T21:39:52.583080",
     "exception": false,
     "start_time": "2025-07-30T21:39:52.338344",
     "status": "completed"
    },
    "tags": []
   },
   "outputs": [],
   "source": [
    "from fairness_multiverse.conformal import build_cp_groups\n",
    "\n",
    "cp_groups_df = build_cp_groups(pred_sets, y_true, X_test.index, org_test)\n",
    "#needs universe_id and setting"
   ]
  },
  {
   "cell_type": "code",
   "execution_count": 64,
   "id": "01d5802c-663a-4d1f-9d69-e036faaffbf7",
   "metadata": {
    "execution": {
     "iopub.execute_input": "2025-07-30T21:39:52.634394Z",
     "iopub.status.busy": "2025-07-30T21:39:52.634034Z",
     "iopub.status.idle": "2025-07-30T21:39:52.638951Z",
     "shell.execute_reply": "2025-07-30T21:39:52.638063Z"
    },
    "papermill": {
     "duration": 0.031654,
     "end_time": "2025-07-30T21:39:52.640446",
     "exception": false,
     "start_time": "2025-07-30T21:39:52.608792",
     "status": "completed"
    },
    "tags": []
   },
   "outputs": [],
   "source": [
    "#delete\n",
    "#cp_groups_df"
   ]
  },
  {
   "cell_type": "code",
   "execution_count": 65,
   "id": "fa424af1-d1eb-443d-b717-2d279ada8408",
   "metadata": {
    "execution": {
     "iopub.execute_input": "2025-07-30T21:39:52.692481Z",
     "iopub.status.busy": "2025-07-30T21:39:52.692020Z",
     "iopub.status.idle": "2025-07-30T21:39:52.696809Z",
     "shell.execute_reply": "2025-07-30T21:39:52.695846Z"
    },
    "papermill": {
     "duration": 0.031075,
     "end_time": "2025-07-30T21:39:52.698485",
     "exception": false,
     "start_time": "2025-07-30T21:39:52.667410",
     "status": "completed"
    },
    "tags": []
   },
   "outputs": [],
   "source": [
    "#delete\n",
    "#percentage = (cp_groups_df['nongerman_female'] == 1).mean() * 100\n",
    "#print(percentage)\n"
   ]
  },
  {
   "cell_type": "code",
   "execution_count": 66,
   "id": "6cbdab96-b2b2-45af-ad54-d0516db2e28d",
   "metadata": {
    "execution": {
     "iopub.execute_input": "2025-07-30T21:39:52.751120Z",
     "iopub.status.busy": "2025-07-30T21:39:52.750359Z",
     "iopub.status.idle": "2025-07-30T21:39:54.335363Z",
     "shell.execute_reply": "2025-07-30T21:39:54.334459Z"
    },
    "papermill": {
     "duration": 1.613908,
     "end_time": "2025-07-30T21:39:54.337678",
     "exception": false,
     "start_time": "2025-07-30T21:39:52.723770",
     "status": "completed"
    },
    "tags": []
   },
   "outputs": [],
   "source": [
    "# Define covered = 1 if true_label is in the predicted set\n",
    "cp_groups_df['covered'] = cp_groups_df.apply(\n",
    "    lambda r: int(r['true_label'] in r['pred_set']),\n",
    "    axis=1\n",
    ")"
   ]
  },
  {
   "cell_type": "code",
   "execution_count": 67,
   "id": "338ff529-1a6b-4b87-a931-8e4788d52aad",
   "metadata": {
    "execution": {
     "iopub.execute_input": "2025-07-30T21:39:54.416289Z",
     "iopub.status.busy": "2025-07-30T21:39:54.415674Z",
     "iopub.status.idle": "2025-07-30T21:39:54.421536Z",
     "shell.execute_reply": "2025-07-30T21:39:54.420368Z"
    },
    "papermill": {
     "duration": 0.056905,
     "end_time": "2025-07-30T21:39:54.433180",
     "exception": false,
     "start_time": "2025-07-30T21:39:54.376275",
     "status": "completed"
    },
    "tags": []
   },
   "outputs": [],
   "source": [
    "#cp_groups_df"
   ]
  },
  {
   "cell_type": "code",
   "execution_count": 68,
   "id": "90032e27-66df-4540-9169-4e89cfbaa758",
   "metadata": {
    "execution": {
     "iopub.execute_input": "2025-07-30T21:39:54.487100Z",
     "iopub.status.busy": "2025-07-30T21:39:54.486518Z",
     "iopub.status.idle": "2025-07-30T21:39:54.498254Z",
     "shell.execute_reply": "2025-07-30T21:39:54.497354Z"
    },
    "papermill": {
     "duration": 0.038531,
     "end_time": "2025-07-30T21:39:54.499912",
     "exception": false,
     "start_time": "2025-07-30T21:39:54.461381",
     "status": "completed"
    },
    "tags": []
   },
   "outputs": [],
   "source": [
    "subgroups = ['frau1','nongerman','nongerman_male','nongerman_female']\n",
    "\n",
    "# Conditional coverage for subgroup==1\n",
    "cond_coverage = {\n",
    "    g: cp_groups_df.loc[cp_groups_df[g]==1, 'covered'].mean()\n",
    "    for g in subgroups\n",
    "}"
   ]
  },
  {
   "cell_type": "code",
   "execution_count": 69,
   "id": "1e348fb1-b9c3-45bc-ba23-f016827a7e0d",
   "metadata": {
    "execution": {
     "iopub.execute_input": "2025-07-30T21:39:54.554122Z",
     "iopub.status.busy": "2025-07-30T21:39:54.553308Z",
     "iopub.status.idle": "2025-07-30T21:39:54.560583Z",
     "shell.execute_reply": "2025-07-30T21:39:54.559536Z"
    },
    "papermill": {
     "duration": 0.036828,
     "end_time": "2025-07-30T21:39:54.562190",
     "exception": false,
     "start_time": "2025-07-30T21:39:54.525362",
     "status": "completed"
    },
    "tags": []
   },
   "outputs": [
    {
     "data": {
      "text/plain": [
       "{'frau1': 0.9112818439142741,\n",
       " 'nongerman': 0.9372368494919441,\n",
       " 'nongerman_male': 0.9483923263982708,\n",
       " 'nongerman_female': 0.9187779433681073}"
      ]
     },
     "execution_count": 69,
     "metadata": {},
     "output_type": "execute_result"
    }
   ],
   "source": [
    "cond_coverage"
   ]
  },
  {
   "cell_type": "code",
   "execution_count": 70,
   "id": "f5093324-c3dd-4d63-bc4c-8d945e5c8bbb",
   "metadata": {
    "execution": {
     "iopub.execute_input": "2025-07-30T21:39:54.617665Z",
     "iopub.status.busy": "2025-07-30T21:39:54.616742Z",
     "iopub.status.idle": "2025-07-30T21:39:54.624620Z",
     "shell.execute_reply": "2025-07-30T21:39:54.623709Z"
    },
    "papermill": {
     "duration": 0.038395,
     "end_time": "2025-07-30T21:39:54.626413",
     "exception": false,
     "start_time": "2025-07-30T21:39:54.588018",
     "status": "completed"
    },
    "tags": []
   },
   "outputs": [],
   "source": [
    "for subgroup, cov in cond_coverage.items():\n",
    "    cp_metrics_df[f\"cov_{subgroup}\"] = cov"
   ]
  },
  {
   "cell_type": "code",
   "execution_count": 71,
   "id": "6e872e10-dbe5-49e8-b554-5030c98ff75d",
   "metadata": {
    "execution": {
     "iopub.execute_input": "2025-07-30T21:39:54.681860Z",
     "iopub.status.busy": "2025-07-30T21:39:54.681366Z",
     "iopub.status.idle": "2025-07-30T21:39:54.702645Z",
     "shell.execute_reply": "2025-07-30T21:39:54.701747Z"
    },
    "papermill": {
     "duration": 0.051892,
     "end_time": "2025-07-30T21:39:54.704176",
     "exception": false,
     "start_time": "2025-07-30T21:39:54.652284",
     "status": "completed"
    },
    "tags": []
   },
   "outputs": [
    {
     "data": {
      "text/html": [
       "<div>\n",
       "<style scoped>\n",
       "    .dataframe tbody tr th:only-of-type {\n",
       "        vertical-align: middle;\n",
       "    }\n",
       "\n",
       "    .dataframe tbody tr th {\n",
       "        vertical-align: top;\n",
       "    }\n",
       "\n",
       "    .dataframe thead th {\n",
       "        text-align: right;\n",
       "    }\n",
       "</style>\n",
       "<table border=\"1\" class=\"dataframe\">\n",
       "  <thead>\n",
       "    <tr style=\"text-align: right;\">\n",
       "      <th></th>\n",
       "      <th>universe_id</th>\n",
       "      <th>universe_training_year</th>\n",
       "      <th>universe_training_size</th>\n",
       "      <th>universe_scale</th>\n",
       "      <th>universe_model</th>\n",
       "      <th>universe_exclude_features</th>\n",
       "      <th>universe_exclude_subgroups</th>\n",
       "      <th>q_hat</th>\n",
       "      <th>coverage</th>\n",
       "      <th>avg_size</th>\n",
       "      <th>cov_frau1</th>\n",
       "      <th>cov_nongerman</th>\n",
       "      <th>cov_nongerman_male</th>\n",
       "      <th>cov_nongerman_female</th>\n",
       "    </tr>\n",
       "  </thead>\n",
       "  <tbody>\n",
       "    <tr>\n",
       "      <th>0</th>\n",
       "      <td>fe3e78a18593fee1a7aac8086fc4c3b5</td>\n",
       "      <td>2012_14</td>\n",
       "      <td>1k</td>\n",
       "      <td>do-not-scale</td>\n",
       "      <td>penalized_logreg</td>\n",
       "      <td>sex</td>\n",
       "      <td>drop-non-german</td>\n",
       "      <td>0.685203</td>\n",
       "      <td>0.912239</td>\n",
       "      <td>1.221837</td>\n",
       "      <td>0.911282</td>\n",
       "      <td>0.937237</td>\n",
       "      <td>0.948392</td>\n",
       "      <td>0.918778</td>\n",
       "    </tr>\n",
       "  </tbody>\n",
       "</table>\n",
       "</div>"
      ],
      "text/plain": [
       "                        universe_id universe_training_year  \\\n",
       "0  fe3e78a18593fee1a7aac8086fc4c3b5                2012_14   \n",
       "\n",
       "  universe_training_size universe_scale    universe_model  \\\n",
       "0                     1k   do-not-scale  penalized_logreg   \n",
       "\n",
       "  universe_exclude_features universe_exclude_subgroups     q_hat  coverage  \\\n",
       "0                       sex            drop-non-german  0.685203  0.912239   \n",
       "\n",
       "   avg_size  cov_frau1  cov_nongerman  cov_nongerman_male  \\\n",
       "0  1.221837   0.911282       0.937237            0.948392   \n",
       "\n",
       "   cov_nongerman_female  \n",
       "0              0.918778  "
      ]
     },
     "execution_count": 71,
     "metadata": {},
     "output_type": "execute_result"
    }
   ],
   "source": [
    "cp_metrics_df"
   ]
  },
  {
   "cell_type": "markdown",
   "id": "33774451",
   "metadata": {
    "papermill": {
     "duration": 0.025315,
     "end_time": "2025-07-30T21:39:54.754399",
     "exception": false,
     "start_time": "2025-07-30T21:39:54.729084",
     "status": "completed"
    },
    "tags": []
   },
   "source": [
    "# (Fairness) Metrics"
   ]
  },
  {
   "cell_type": "code",
   "execution_count": 72,
   "id": "debc5d62",
   "metadata": {
    "execution": {
     "iopub.execute_input": "2025-07-30T21:39:54.806541Z",
     "iopub.status.busy": "2025-07-30T21:39:54.806041Z",
     "iopub.status.idle": "2025-07-30T21:39:54.827325Z",
     "shell.execute_reply": "2025-07-30T21:39:54.826491Z"
    },
    "papermill": {
     "duration": 0.049716,
     "end_time": "2025-07-30T21:39:54.828943",
     "exception": false,
     "start_time": "2025-07-30T21:39:54.779227",
     "status": "completed"
    },
    "tags": []
   },
   "outputs": [],
   "source": [
    "# do I need to include maxdeutsch1.missing?\n",
    "\n",
    "import numpy as np\n",
    "\n",
    "colname_to_bin = \"maxdeutsch1\"\n",
    "majority_value = org_train[colname_to_bin].mode()[0]\n",
    "\n",
    "org_test[\"majmin\"] = np.where(org_test[colname_to_bin] == majority_value, \"majority\", \"minority\")"
   ]
  },
  {
   "cell_type": "code",
   "execution_count": 73,
   "id": "06a50de5",
   "metadata": {
    "execution": {
     "iopub.execute_input": "2025-07-30T21:39:54.882851Z",
     "iopub.status.busy": "2025-07-30T21:39:54.882357Z",
     "iopub.status.idle": "2025-07-30T21:39:57.151219Z",
     "shell.execute_reply": "2025-07-30T21:39:57.150175Z"
    },
    "papermill": {
     "duration": 2.298933,
     "end_time": "2025-07-30T21:39:57.153212",
     "exception": false,
     "start_time": "2025-07-30T21:39:54.854279",
     "status": "completed"
    },
    "tags": []
   },
   "outputs": [],
   "source": [
    "example_universe = universe.copy()\n",
    "example_universe[\"cutoff\"] = example_universe[\"cutoff\"][0]\n",
    "example_universe[\"eval_fairness_grouping\"] = example_universe[\"eval_fairness_grouping\"][0]\n",
    "fairness_dict, metric_frame = universe_analysis.compute_metrics(\n",
    "    example_universe,\n",
    "    y_pred_prob=probs_test,\n",
    "    y_test=y_true,\n",
    "    org_test=org_test,\n",
    ")"
   ]
  },
  {
   "cell_type": "markdown",
   "id": "f95d4e02",
   "metadata": {
    "papermill": {
     "duration": 0.013477,
     "end_time": "2025-07-30T21:39:57.192148",
     "exception": false,
     "start_time": "2025-07-30T21:39:57.178671",
     "status": "completed"
    },
    "tags": []
   },
   "source": [
    "# Overall"
   ]
  },
  {
   "cell_type": "markdown",
   "id": "bdee4871",
   "metadata": {
    "papermill": {
     "duration": 0.027688,
     "end_time": "2025-07-30T21:39:57.233468",
     "exception": false,
     "start_time": "2025-07-30T21:39:57.205780",
     "status": "completed"
    },
    "tags": []
   },
   "source": [
    "Fairness\n",
    "Main fairness target: Equalized Odds. Seems to be a better fit than equal opportunity, since we're not only interested in Y = 1. Seems to be a better fit than demographic parity, since we also care about accuracy, not just equal distribution of preds.\n",
    "\n",
    "Pick column for computation of fairness metrics\n",
    "\n",
    "Performance\n",
    "Overall performance measures, most interesting in relation to the measures split by group below"
   ]
  },
  {
   "cell_type": "code",
   "execution_count": 74,
   "id": "c4e067c6",
   "metadata": {
    "execution": {
     "iopub.execute_input": "2025-07-30T21:39:57.284421Z",
     "iopub.status.busy": "2025-07-30T21:39:57.283936Z",
     "iopub.status.idle": "2025-07-30T21:39:57.291716Z",
     "shell.execute_reply": "2025-07-30T21:39:57.290604Z"
    },
    "papermill": {
     "duration": 0.031315,
     "end_time": "2025-07-30T21:39:57.293092",
     "exception": false,
     "start_time": "2025-07-30T21:39:57.261777",
     "status": "completed"
    },
    "tags": []
   },
   "outputs": [
    {
     "data": {
      "text/plain": [
       "accuracy                   0.212518\n",
       "balanced accuracy          0.522120\n",
       "f1                         0.234176\n",
       "precision                  0.133777\n",
       "false positive rate        0.894325\n",
       "false negative rate        0.061436\n",
       "selection rate             0.900000\n",
       "count                  89710.000000\n",
       "dtype: float64"
      ]
     },
     "execution_count": 74,
     "metadata": {},
     "output_type": "execute_result"
    }
   ],
   "source": [
    "metric_frame.overall"
   ]
  },
  {
   "cell_type": "markdown",
   "id": "e968fe9d",
   "metadata": {
    "papermill": {
     "duration": 0.026315,
     "end_time": "2025-07-30T21:39:57.337700",
     "exception": false,
     "start_time": "2025-07-30T21:39:57.311385",
     "status": "completed"
    },
    "tags": []
   },
   "source": [
    "By Group"
   ]
  },
  {
   "cell_type": "code",
   "execution_count": 75,
   "id": "ec325bce",
   "metadata": {
    "execution": {
     "iopub.execute_input": "2025-07-30T21:39:57.398036Z",
     "iopub.status.busy": "2025-07-30T21:39:57.397555Z",
     "iopub.status.idle": "2025-07-30T21:39:57.410857Z",
     "shell.execute_reply": "2025-07-30T21:39:57.410098Z"
    },
    "papermill": {
     "duration": 0.045353,
     "end_time": "2025-07-30T21:39:57.412265",
     "exception": false,
     "start_time": "2025-07-30T21:39:57.366912",
     "status": "completed"
    },
    "tags": []
   },
   "outputs": [
    {
     "data": {
      "text/html": [
       "<div>\n",
       "<style scoped>\n",
       "    .dataframe tbody tr th:only-of-type {\n",
       "        vertical-align: middle;\n",
       "    }\n",
       "\n",
       "    .dataframe tbody tr th {\n",
       "        vertical-align: top;\n",
       "    }\n",
       "\n",
       "    .dataframe thead th {\n",
       "        text-align: right;\n",
       "    }\n",
       "</style>\n",
       "<table border=\"1\" class=\"dataframe\">\n",
       "  <thead>\n",
       "    <tr style=\"text-align: right;\">\n",
       "      <th></th>\n",
       "      <th>accuracy</th>\n",
       "      <th>balanced accuracy</th>\n",
       "      <th>f1</th>\n",
       "      <th>precision</th>\n",
       "      <th>false positive rate</th>\n",
       "      <th>false negative rate</th>\n",
       "      <th>selection rate</th>\n",
       "      <th>count</th>\n",
       "    </tr>\n",
       "    <tr>\n",
       "      <th>majmin</th>\n",
       "      <th></th>\n",
       "      <th></th>\n",
       "      <th></th>\n",
       "      <th></th>\n",
       "      <th></th>\n",
       "      <th></th>\n",
       "      <th></th>\n",
       "      <th></th>\n",
       "    </tr>\n",
       "  </thead>\n",
       "  <tbody>\n",
       "    <tr>\n",
       "      <th>majority</th>\n",
       "      <td>0.231170</td>\n",
       "      <td>0.526818</td>\n",
       "      <td>0.241975</td>\n",
       "      <td>0.139111</td>\n",
       "      <td>0.875029</td>\n",
       "      <td>0.071335</td>\n",
       "      <td>0.882117</td>\n",
       "      <td>69170.0</td>\n",
       "    </tr>\n",
       "    <tr>\n",
       "      <th>minority</th>\n",
       "      <td>0.149708</td>\n",
       "      <td>0.509353</td>\n",
       "      <td>0.209407</td>\n",
       "      <td>0.117274</td>\n",
       "      <td>0.958067</td>\n",
       "      <td>0.023226</td>\n",
       "      <td>0.960224</td>\n",
       "      <td>20540.0</td>\n",
       "    </tr>\n",
       "  </tbody>\n",
       "</table>\n",
       "</div>"
      ],
      "text/plain": [
       "          accuracy  balanced accuracy        f1  precision  \\\n",
       "majmin                                                       \n",
       "majority  0.231170           0.526818  0.241975   0.139111   \n",
       "minority  0.149708           0.509353  0.209407   0.117274   \n",
       "\n",
       "          false positive rate  false negative rate  selection rate    count  \n",
       "majmin                                                                       \n",
       "majority             0.875029             0.071335        0.882117  69170.0  \n",
       "minority             0.958067             0.023226        0.960224  20540.0  "
      ]
     },
     "execution_count": 75,
     "metadata": {},
     "output_type": "execute_result"
    }
   ],
   "source": [
    "metric_frame.by_group"
   ]
  },
  {
   "cell_type": "code",
   "execution_count": 76,
   "id": "a9ddbe63",
   "metadata": {
    "execution": {
     "iopub.execute_input": "2025-07-30T21:39:57.442552Z",
     "iopub.status.busy": "2025-07-30T21:39:57.442210Z",
     "iopub.status.idle": "2025-07-30T21:39:59.722424Z",
     "shell.execute_reply": "2025-07-30T21:39:59.721468Z"
    },
    "papermill": {
     "duration": 2.29704,
     "end_time": "2025-07-30T21:39:59.724133",
     "exception": false,
     "start_time": "2025-07-30T21:39:57.427093",
     "status": "completed"
    },
    "tags": []
   },
   "outputs": [
    {
     "data": {
      "text/plain": [
       "array([[<Axes: title={'center': 'accuracy'}, xlabel='majmin'>,\n",
       "        <Axes: title={'center': 'balanced accuracy'}, xlabel='majmin'>,\n",
       "        <Axes: title={'center': 'f1'}, xlabel='majmin'>],\n",
       "       [<Axes: title={'center': 'precision'}, xlabel='majmin'>,\n",
       "        <Axes: title={'center': 'false positive rate'}, xlabel='majmin'>,\n",
       "        <Axes: title={'center': 'false negative rate'}, xlabel='majmin'>],\n",
       "       [<Axes: title={'center': 'selection rate'}, xlabel='majmin'>,\n",
       "        <Axes: title={'center': 'count'}, xlabel='majmin'>,\n",
       "        <Axes: xlabel='majmin'>]], dtype=object)"
      ]
     },
     "execution_count": 76,
     "metadata": {},
     "output_type": "execute_result"
    },
    {
     "data": {
      "image/png": "[encoded data removed]",
      "text/plain": [
       "<Figure size 1200x800 with 9 Axes>"
      ]
     },
     "metadata": {},
     "output_type": "display_data"
    }
   ],
   "source": [
    "# In a graphic\n",
    "metric_frame.by_group.plot.bar(\n",
    "    subplots=True,\n",
    "    layout=[3, 3],\n",
    "    legend=False,\n",
    "    figsize=[12, 8],\n",
    "    title=\"Show all metrics\",\n",
    ")"
   ]
  },
  {
   "cell_type": "markdown",
   "id": "f57a0bac",
   "metadata": {
    "papermill": {
     "duration": 0.029998,
     "end_time": "2025-07-30T21:39:59.784861",
     "exception": false,
     "start_time": "2025-07-30T21:39:59.754863",
     "status": "completed"
    },
    "tags": []
   },
   "source": [
    "# Final Output"
   ]
  },
  {
   "cell_type": "code",
   "execution_count": 77,
   "id": "96d280a3",
   "metadata": {
    "execution": {
     "iopub.execute_input": "2025-07-30T21:39:59.831996Z",
     "iopub.status.busy": "2025-07-30T21:39:59.831401Z",
     "iopub.status.idle": "2025-07-30T21:39:59.839451Z",
     "shell.execute_reply": "2025-07-30T21:39:59.838514Z"
    },
    "papermill": {
     "duration": 0.026736,
     "end_time": "2025-07-30T21:39:59.840995",
     "exception": false,
     "start_time": "2025-07-30T21:39:59.814259",
     "status": "completed"
    },
    "tags": []
   },
   "outputs": [
    {
     "data": {
      "text/plain": [
       "4"
      ]
     },
     "execution_count": 77,
     "metadata": {},
     "output_type": "execute_result"
    }
   ],
   "source": [
    "sub_universes = universe_analysis.generate_sub_universes()\n",
    "len(sub_universes)"
   ]
  },
  {
   "cell_type": "code",
   "execution_count": 78,
   "id": "92adf7ba",
   "metadata": {
    "execution": {
     "iopub.execute_input": "2025-07-30T21:39:59.896097Z",
     "iopub.status.busy": "2025-07-30T21:39:59.895679Z",
     "iopub.status.idle": "2025-07-30T21:39:59.901044Z",
     "shell.execute_reply": "2025-07-30T21:39:59.900358Z"
    },
    "papermill": {
     "duration": 0.034848,
     "end_time": "2025-07-30T21:39:59.902283",
     "exception": false,
     "start_time": "2025-07-30T21:39:59.867435",
     "status": "completed"
    },
    "tags": []
   },
   "outputs": [],
   "source": [
    "def filter_sub_universe_data(sub_universe, org_test):\n",
    "    # Keep all rows — no filtering\n",
    "    keep_rows_mask = np.ones(org_test.shape[0], dtype=bool)\n",
    "\n",
    "    print(f\"[INFO] Keeping all rows: {keep_rows_mask.sum()} rows retained.\")\n",
    "    return keep_rows_mask"
   ]
  },
  {
   "cell_type": "code",
   "execution_count": 79,
   "id": "4a759155",
   "metadata": {
    "execution": {
     "iopub.execute_input": "2025-07-30T21:39:59.965225Z",
     "iopub.status.busy": "2025-07-30T21:39:59.964826Z",
     "iopub.status.idle": "2025-07-30T21:40:10.459326Z",
     "shell.execute_reply": "2025-07-30T21:40:10.458448Z"
    },
    "papermill": {
     "duration": 10.527841,
     "end_time": "2025-07-30T21:40:10.460899",
     "exception": false,
     "start_time": "2025-07-30T21:39:59.933058",
     "status": "completed"
    },
    "tags": []
   },
   "outputs": [
    {
     "name": "stdout",
     "output_type": "stream",
     "text": [
      "Stopping execution_time clock.\n",
      "[INFO] Keeping all rows: 89710 rows retained.\n"
     ]
    },
    {
     "name": "stdout",
     "output_type": "stream",
     "text": [
      "[INFO] Keeping all rows: 89710 rows retained.\n"
     ]
    },
    {
     "name": "stdout",
     "output_type": "stream",
     "text": [
      "[INFO] Keeping all rows: 89710 rows retained.\n"
     ]
    },
    {
     "name": "stdout",
     "output_type": "stream",
     "text": [
      "[INFO] Keeping all rows: 89710 rows retained.\n"
     ]
    },
    {
     "data": {
      "text/html": [
       "<div>\n",
       "<style scoped>\n",
       "    .dataframe tbody tr th:only-of-type {\n",
       "        vertical-align: middle;\n",
       "    }\n",
       "\n",
       "    .dataframe tbody tr th {\n",
       "        vertical-align: top;\n",
       "    }\n",
       "\n",
       "    .dataframe thead th {\n",
       "        text-align: right;\n",
       "    }\n",
       "</style>\n",
       "<table border=\"1\" class=\"dataframe\">\n",
       "  <thead>\n",
       "    <tr style=\"text-align: right;\">\n",
       "      <th></th>\n",
       "      <th>run_no</th>\n",
       "      <th>universe_id</th>\n",
       "      <th>universe_settings</th>\n",
       "      <th>execution_time</th>\n",
       "      <th>test_size_n</th>\n",
       "      <th>test_size_frac</th>\n",
       "      <th>fair_main_equalized_odds_difference</th>\n",
       "      <th>fair_main_equalized_odds_ratio</th>\n",
       "      <th>fair_main_demographic_parity_difference</th>\n",
       "      <th>fair_main_demographic_parity_ratio</th>\n",
       "      <th>...</th>\n",
       "      <th>perf_grp_precision_0</th>\n",
       "      <th>perf_grp_precision_1</th>\n",
       "      <th>perf_grp_false positive rate_0</th>\n",
       "      <th>perf_grp_false positive rate_1</th>\n",
       "      <th>perf_grp_false negative rate_0</th>\n",
       "      <th>perf_grp_false negative rate_1</th>\n",
       "      <th>perf_grp_selection rate_0</th>\n",
       "      <th>perf_grp_selection rate_1</th>\n",
       "      <th>perf_grp_count_0</th>\n",
       "      <th>perf_grp_count_1</th>\n",
       "    </tr>\n",
       "  </thead>\n",
       "  <tbody>\n",
       "    <tr>\n",
       "      <th>0</th>\n",
       "      <td>14</td>\n",
       "      <td>fe3e78a18593fee1a7aac8086fc4c3b5</td>\n",
       "      <td>{\"cutoff\": \"quantile_0.1\", \"eval_fairness_grou...</td>\n",
       "      <td>27.582651</td>\n",
       "      <td>89710</td>\n",
       "      <td>1.0</td>\n",
       "      <td>0.083038</td>\n",
       "      <td>0.913327</td>\n",
       "      <td>0.078107</td>\n",
       "      <td>0.918657</td>\n",
       "      <td>...</td>\n",
       "      <td>NaN</td>\n",
       "      <td>NaN</td>\n",
       "      <td>NaN</td>\n",
       "      <td>NaN</td>\n",
       "      <td>NaN</td>\n",
       "      <td>NaN</td>\n",
       "      <td>NaN</td>\n",
       "      <td>NaN</td>\n",
       "      <td>NaN</td>\n",
       "      <td>NaN</td>\n",
       "    </tr>\n",
       "    <tr>\n",
       "      <th>0</th>\n",
       "      <td>14</td>\n",
       "      <td>fe3e78a18593fee1a7aac8086fc4c3b5</td>\n",
       "      <td>{\"cutoff\": \"quantile_0.1\", \"eval_fairness_grou...</td>\n",
       "      <td>27.582651</td>\n",
       "      <td>89710</td>\n",
       "      <td>1.0</td>\n",
       "      <td>0.083038</td>\n",
       "      <td>0.913327</td>\n",
       "      <td>0.078107</td>\n",
       "      <td>0.918657</td>\n",
       "      <td>...</td>\n",
       "      <td>0.117274</td>\n",
       "      <td>0.139111</td>\n",
       "      <td>0.958067</td>\n",
       "      <td>0.875029</td>\n",
       "      <td>0.023226</td>\n",
       "      <td>0.071335</td>\n",
       "      <td>0.960224</td>\n",
       "      <td>0.882117</td>\n",
       "      <td>20540.0</td>\n",
       "      <td>69170.0</td>\n",
       "    </tr>\n",
       "    <tr>\n",
       "      <th>0</th>\n",
       "      <td>14</td>\n",
       "      <td>fe3e78a18593fee1a7aac8086fc4c3b5</td>\n",
       "      <td>{\"cutoff\": \"quantile_0.25\", \"eval_fairness_gro...</td>\n",
       "      <td>27.582651</td>\n",
       "      <td>89710</td>\n",
       "      <td>1.0</td>\n",
       "      <td>0.208828</td>\n",
       "      <td>0.766573</td>\n",
       "      <td>0.193981</td>\n",
       "      <td>0.784360</td>\n",
       "      <td>...</td>\n",
       "      <td>NaN</td>\n",
       "      <td>NaN</td>\n",
       "      <td>NaN</td>\n",
       "      <td>NaN</td>\n",
       "      <td>NaN</td>\n",
       "      <td>NaN</td>\n",
       "      <td>NaN</td>\n",
       "      <td>NaN</td>\n",
       "      <td>NaN</td>\n",
       "      <td>NaN</td>\n",
       "    </tr>\n",
       "    <tr>\n",
       "      <th>0</th>\n",
       "      <td>14</td>\n",
       "      <td>fe3e78a18593fee1a7aac8086fc4c3b5</td>\n",
       "      <td>{\"cutoff\": \"quantile_0.25\", \"eval_fairness_gro...</td>\n",
       "      <td>27.582651</td>\n",
       "      <td>89710</td>\n",
       "      <td>1.0</td>\n",
       "      <td>0.208828</td>\n",
       "      <td>0.766573</td>\n",
       "      <td>0.193981</td>\n",
       "      <td>0.784360</td>\n",
       "      <td>...</td>\n",
       "      <td>0.120149</td>\n",
       "      <td>0.156480</td>\n",
       "      <td>0.894618</td>\n",
       "      <td>0.685790</td>\n",
       "      <td>0.062500</td>\n",
       "      <td>0.164442</td>\n",
       "      <td>0.899562</td>\n",
       "      <td>0.705580</td>\n",
       "      <td>20540.0</td>\n",
       "      <td>69170.0</td>\n",
       "    </tr>\n",
       "  </tbody>\n",
       "</table>\n",
       "<p>4 rows × 50 columns</p>\n",
       "</div>"
      ],
      "text/plain": [
       "  run_no                       universe_id  \\\n",
       "0     14  fe3e78a18593fee1a7aac8086fc4c3b5   \n",
       "0     14  fe3e78a18593fee1a7aac8086fc4c3b5   \n",
       "0     14  fe3e78a18593fee1a7aac8086fc4c3b5   \n",
       "0     14  fe3e78a18593fee1a7aac8086fc4c3b5   \n",
       "\n",
       "                                   universe_settings  execution_time  \\\n",
       "0  {\"cutoff\": \"quantile_0.1\", \"eval_fairness_grou...       27.582651   \n",
       "0  {\"cutoff\": \"quantile_0.1\", \"eval_fairness_grou...       27.582651   \n",
       "0  {\"cutoff\": \"quantile_0.25\", \"eval_fairness_gro...       27.582651   \n",
       "0  {\"cutoff\": \"quantile_0.25\", \"eval_fairness_gro...       27.582651   \n",
       "\n",
       "   test_size_n  test_size_frac  fair_main_equalized_odds_difference  \\\n",
       "0        89710             1.0                             0.083038   \n",
       "0        89710             1.0                             0.083038   \n",
       "0        89710             1.0                             0.208828   \n",
       "0        89710             1.0                             0.208828   \n",
       "\n",
       "   fair_main_equalized_odds_ratio  fair_main_demographic_parity_difference  \\\n",
       "0                        0.913327                                 0.078107   \n",
       "0                        0.913327                                 0.078107   \n",
       "0                        0.766573                                 0.193981   \n",
       "0                        0.766573                                 0.193981   \n",
       "\n",
       "   fair_main_demographic_parity_ratio  ...  perf_grp_precision_0  \\\n",
       "0                            0.918657  ...                   NaN   \n",
       "0                            0.918657  ...              0.117274   \n",
       "0                            0.784360  ...                   NaN   \n",
       "0                            0.784360  ...              0.120149   \n",
       "\n",
       "   perf_grp_precision_1  perf_grp_false positive rate_0  \\\n",
       "0                   NaN                             NaN   \n",
       "0              0.139111                        0.958067   \n",
       "0                   NaN                             NaN   \n",
       "0              0.156480                        0.894618   \n",
       "\n",
       "   perf_grp_false positive rate_1  perf_grp_false negative rate_0  \\\n",
       "0                             NaN                             NaN   \n",
       "0                        0.875029                        0.023226   \n",
       "0                             NaN                             NaN   \n",
       "0                        0.685790                        0.062500   \n",
       "\n",
       "   perf_grp_false negative rate_1  perf_grp_selection rate_0  \\\n",
       "0                             NaN                        NaN   \n",
       "0                        0.071335                   0.960224   \n",
       "0                             NaN                        NaN   \n",
       "0                        0.164442                   0.899562   \n",
       "\n",
       "   perf_grp_selection rate_1  perf_grp_count_0  perf_grp_count_1  \n",
       "0                        NaN               NaN               NaN  \n",
       "0                   0.882117           20540.0           69170.0  \n",
       "0                        NaN               NaN               NaN  \n",
       "0                   0.705580           20540.0           69170.0  \n",
       "\n",
       "[4 rows x 50 columns]"
      ]
     },
     "execution_count": 79,
     "metadata": {},
     "output_type": "execute_result"
    }
   ],
   "source": [
    "final_output = universe_analysis.generate_final_output(\n",
    "    y_pred_prob=probs_test,\n",
    "    y_test=y_true,\n",
    "    org_test=org_test,\n",
    "    filter_data=filter_sub_universe_data,\n",
    "    cp_metrics_df=cp_metrics_df,\n",
    "    save=True,\n",
    ")\n",
    "final_output"
   ]
  },
  {
   "cell_type": "code",
   "execution_count": null,
   "id": "721ff514-cb11-46f8-b6fc-50392f74b5cb",
   "metadata": {
    "papermill": {
     "duration": 0.030198,
     "end_time": "2025-07-30T21:40:10.523993",
     "exception": false,
     "start_time": "2025-07-30T21:40:10.493795",
     "status": "completed"
    },
    "tags": []
   },
   "outputs": [],
   "source": []
  }
 ],
 "metadata": {
  "celltoolbar": "Tags",
  "kernelspec": {
   "display_name": "Python (CMA Fairness)",
   "language": "python",
   "name": "cma_fair_env"
  },
  "language_info": {
   "codemirror_mode": {
    "name": "ipython",
    "version": 3
   },
   "file_extension": ".py",
   "mimetype": "text/x-python",
   "name": "python",
   "nbconvert_exporter": "python",
   "pygments_lexer": "ipython3",
   "version": "3.10.12"
  },
  "papermill": {
   "default_parameters": {},
   "duration": 42.711651,
   "end_time": "2025-07-30T21:40:11.573135",
   "environment_variables": {},
   "exception": null,
   "input_path": "universe_analysis.ipynb",
   "output_path": "output/runs/14/notebooks/m_14-fe3e78a18593fee1a7aac8086fc4c3b5.ipynb",
   "parameters": {
    "output_dir": "output",
    "run_no": "14",
    "seed": "2023",
    "universe": "{\"cutoff\": [\"quantile_0.1\", \"quantile_0.25\"], \"eval_fairness_grouping\": [\"majority-minority\", \"nationality-all\"], \"exclude_features\": \"sex\", \"exclude_subgroups\": \"drop-non-german\", \"model\": \"penalized_logreg\", \"scale\": \"do-not-scale\", \"training_size\": \"1k\", \"training_year\": \"2012_14\"}",
    "universe_id": "fe3e78a18593fee1a7aac8086fc4c3b5"
   },
   "start_time": "2025-07-30T21:39:28.861484",
   "version": "2.6.0"
  }
 },
 "nbformat": 4,
 "nbformat_minor": 5
}