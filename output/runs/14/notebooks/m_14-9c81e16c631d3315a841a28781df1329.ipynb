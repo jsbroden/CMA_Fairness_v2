{
 "cells": [
  {
   "cell_type": "code",
   "execution_count": 1,
   "id": "f159f837-637b-42ba-96b5-ec9a68c44524",
   "metadata": {
    "execution": {
     "iopub.execute_input": "2025-07-30T21:47:51.570250Z",
     "iopub.status.busy": "2025-07-30T21:47:51.569423Z",
     "iopub.status.idle": "2025-07-30T21:47:51.585470Z",
     "shell.execute_reply": "2025-07-30T21:47:51.584503Z"
    },
    "papermill": {
     "duration": 0.04075,
     "end_time": "2025-07-30T21:47:51.587409",
     "exception": false,
     "start_time": "2025-07-30T21:47:51.546659",
     "status": "completed"
    },
    "tags": []
   },
   "outputs": [
    {
     "name": "stdout",
     "output_type": "stream",
     "text": [
      "/dss/dsshome1/0C/ra93lal2/cma/CMA_Fairness_v2\n"
     ]
    },
    {
     "name": "stderr",
     "output_type": "stream",
     "text": [
      "/dss/dsshome1/0C/ra93lal2/.local/share/virtualenvs/CMA_Fairness_v2-3j10GkSs/lib/python3.10/site-packages/IPython/core/magics/osm.py:393: UserWarning: This is now an optional IPython functionality, using bookmarks requires you to install the `pickleshare` library.\n",
      "  bkms = self.shell.db.get('bookmarks', {})\n",
      "/dss/dsshome1/0C/ra93lal2/.local/share/virtualenvs/CMA_Fairness_v2-3j10GkSs/lib/python3.10/site-packages/IPython/core/magics/osm.py:417: UserWarning: This is now an optional IPython functionality, setting dhist requires you to install the `pickleshare` library.\n",
      "  self.shell.db['dhist'] = compress_dhist(dhist)[-100:]\n"
     ]
    }
   ],
   "source": [
    "%cd ~/cma/CMA_Fairness_v2"
   ]
  },
  {
   "cell_type": "markdown",
   "id": "de2603b9",
   "metadata": {
    "papermill": {
     "duration": 0.020111,
     "end_time": "2025-07-30T21:47:51.627964",
     "exception": false,
     "start_time": "2025-07-30T21:47:51.607853",
     "status": "completed"
    },
    "tags": []
   },
   "source": [
    "The following cell holds the definition of our parameters, these values can be overriden by rendering the with e.g. the following command:\n",
    "\n",
    "papermill -p alpha 0.2 -p ratio 0.3 universe_analysis.ipynb output/test_run.ipynb"
   ]
  },
  {
   "cell_type": "code",
   "execution_count": 2,
   "id": "a80968a0-40bb-4fa9-85ef-2d5eefb01975",
   "metadata": {
    "execution": {
     "iopub.execute_input": "2025-07-30T21:47:51.669694Z",
     "iopub.status.busy": "2025-07-30T21:47:51.669220Z",
     "iopub.status.idle": "2025-07-30T21:47:51.674746Z",
     "shell.execute_reply": "2025-07-30T21:47:51.673694Z"
    },
    "papermill": {
     "duration": 0.027297,
     "end_time": "2025-07-30T21:47:51.676664",
     "exception": false,
     "start_time": "2025-07-30T21:47:51.649367",
     "status": "completed"
    },
    "tags": []
   },
   "outputs": [
    {
     "name": "stdout",
     "output_type": "stream",
     "text": [
      "Current working directory: /dss/dsshome1/0C/ra93lal2/cma/CMA_Fairness_v2\n"
     ]
    }
   ],
   "source": [
    "import os\n",
    "print(\"Current working directory:\", os.getcwd())"
   ]
  },
  {
   "cell_type": "code",
   "execution_count": 3,
   "id": "2dce4c03",
   "metadata": {
    "execution": {
     "iopub.execute_input": "2025-07-30T21:47:51.717960Z",
     "iopub.status.busy": "2025-07-30T21:47:51.717088Z",
     "iopub.status.idle": "2025-07-30T21:47:51.724229Z",
     "shell.execute_reply": "2025-07-30T21:47:51.723095Z"
    },
    "papermill": {
     "duration": 0.029218,
     "end_time": "2025-07-30T21:47:51.726173",
     "exception": false,
     "start_time": "2025-07-30T21:47:51.696955",
     "status": "completed"
    },
    "tags": [
     "parameters"
    ]
   },
   "outputs": [],
   "source": [
    "run_no = 0\n",
    "universe_id = \"test\"\n",
    "universe = {\n",
    "    \"training_size\": \"25k\", # \"25k\", \"5k\", \"1k\"\n",
    "    \"training_year\": \"2014\", # \"2014\", \"2012_14\", \"2010_14\"\n",
    "    \"scale\": \"scale\", # \"scale\", \"do-not-scale\",\n",
    "    #\"stratify_split\": \"target\", # \"none\", \"target\", \"protected-attribute\", \"both\",\n",
    "    \"model\": \"elasticnet\", # \"logreg\", \"penalized_logreg\", \"rf\", \"gbm\", \"elasticnet\"\n",
    "    \"cutoff\": [\"quantile_0.15\", \"quantile_0.30\"],\n",
    "    \"exclude_features\": \"age\", # \"none\", \"nationality\", \"sex\", \"nationality-sex\", \"age\"\n",
    "    \"exclude_subgroups\": \"keep-all\", # \"keep-all\", \"drop-non-german\"\n",
    "    \"eval_fairness_grouping\": [\"majority-minority\", \"nationality-all\"]\n",
    "}\n",
    "\n",
    "output_dir=\"./output\"\n",
    "seed=0"
   ]
  },
  {
   "cell_type": "code",
   "execution_count": 4,
   "id": "c169669d",
   "metadata": {
    "execution": {
     "iopub.execute_input": "2025-07-30T21:47:51.768922Z",
     "iopub.status.busy": "2025-07-30T21:47:51.767840Z",
     "iopub.status.idle": "2025-07-30T21:47:51.774337Z",
     "shell.execute_reply": "2025-07-30T21:47:51.773320Z"
    },
    "papermill": {
     "duration": 0.029586,
     "end_time": "2025-07-30T21:47:51.776507",
     "exception": false,
     "start_time": "2025-07-30T21:47:51.746921",
     "status": "completed"
    },
    "tags": [
     "injected-parameters"
    ]
   },
   "outputs": [],
   "source": [
    "# Parameters\n",
    "universe_id = \"9c81e16c631d3315a841a28781df1329\"\n",
    "run_no = \"14\"\n",
    "universe = \"{\\\"cutoff\\\": [\\\"quantile_0.1\\\", \\\"quantile_0.25\\\"], \\\"eval_fairness_grouping\\\": [\\\"majority-minority\\\", \\\"nationality-all\\\"], \\\"exclude_features\\\": \\\"none\\\", \\\"exclude_subgroups\\\": \\\"keep-all\\\", \\\"model\\\": \\\"elasticnet\\\", \\\"scale\\\": \\\"scale\\\", \\\"training_size\\\": \\\"1k\\\", \\\"training_year\\\": \\\"2010_14\\\"}\"\n",
    "output_dir = \"output\"\n",
    "seed = \"2023\"\n"
   ]
  },
  {
   "cell_type": "code",
   "execution_count": 5,
   "id": "1650acaf",
   "metadata": {
    "execution": {
     "iopub.execute_input": "2025-07-30T21:47:51.824459Z",
     "iopub.status.busy": "2025-07-30T21:47:51.823772Z",
     "iopub.status.idle": "2025-07-30T21:47:51.829273Z",
     "shell.execute_reply": "2025-07-30T21:47:51.828295Z"
    },
    "papermill": {
     "duration": 0.031473,
     "end_time": "2025-07-30T21:47:51.831004",
     "exception": false,
     "start_time": "2025-07-30T21:47:51.799531",
     "status": "completed"
    },
    "tags": []
   },
   "outputs": [],
   "source": [
    "import json\n",
    "# Parse universe into dict if it is passed as a string\n",
    "if isinstance(universe, str):\n",
    "    universe = json.loads(universe)"
   ]
  },
  {
   "cell_type": "code",
   "execution_count": 6,
   "id": "16620c48",
   "metadata": {
    "execution": {
     "iopub.execute_input": "2025-07-30T21:47:51.875906Z",
     "iopub.status.busy": "2025-07-30T21:47:51.875215Z",
     "iopub.status.idle": "2025-07-30T21:47:51.922983Z",
     "shell.execute_reply": "2025-07-30T21:47:51.922026Z"
    },
    "papermill": {
     "duration": 0.073081,
     "end_time": "2025-07-30T21:47:51.925059",
     "exception": false,
     "start_time": "2025-07-30T21:47:51.851978",
     "status": "completed"
    },
    "tags": []
   },
   "outputs": [],
   "source": [
    "# Auto-reload the custom package\n",
    "%load_ext autoreload\n",
    "%autoreload 1\n",
    "%aimport fairness_multiverse"
   ]
  },
  {
   "cell_type": "code",
   "execution_count": 7,
   "id": "01c5c9f3",
   "metadata": {
    "execution": {
     "iopub.execute_input": "2025-07-30T21:47:51.960930Z",
     "iopub.status.busy": "2025-07-30T21:47:51.960181Z",
     "iopub.status.idle": "2025-07-30T21:47:55.832121Z",
     "shell.execute_reply": "2025-07-30T21:47:55.829733Z"
    },
    "papermill": {
     "duration": 3.889275,
     "end_time": "2025-07-30T21:47:55.834021",
     "exception": false,
     "start_time": "2025-07-30T21:47:51.944746",
     "status": "completed"
    },
    "tags": []
   },
   "outputs": [],
   "source": [
    "from fairness_multiverse.universe import UniverseAnalysis\n",
    "\n",
    "universe_analysis = UniverseAnalysis(\n",
    "    run_no = run_no,\n",
    "    universe_id = universe_id,\n",
    "    universe = universe,\n",
    "    output_dir=output_dir,\n",
    ")"
   ]
  },
  {
   "cell_type": "code",
   "execution_count": 8,
   "id": "106241f5",
   "metadata": {
    "execution": {
     "iopub.execute_input": "2025-07-30T21:47:55.881797Z",
     "iopub.status.busy": "2025-07-30T21:47:55.881293Z",
     "iopub.status.idle": "2025-07-30T21:47:55.887408Z",
     "shell.execute_reply": "2025-07-30T21:47:55.886578Z"
    },
    "papermill": {
     "duration": 0.029884,
     "end_time": "2025-07-30T21:47:55.889158",
     "exception": false,
     "start_time": "2025-07-30T21:47:55.859274",
     "status": "completed"
    },
    "tags": []
   },
   "outputs": [
    {
     "name": "stdout",
     "output_type": "stream",
     "text": [
      "Using Seed: 2023\n"
     ]
    }
   ],
   "source": [
    "import numpy as np\n",
    "parsed_seed = int(seed)\n",
    "np.random.seed(parsed_seed)\n",
    "print(f\"Using Seed: {parsed_seed}\")"
   ]
  },
  {
   "cell_type": "markdown",
   "id": "e0ebdc57",
   "metadata": {
    "papermill": {
     "duration": 0.02103,
     "end_time": "2025-07-30T21:47:55.932088",
     "exception": false,
     "start_time": "2025-07-30T21:47:55.911058",
     "status": "completed"
    },
    "tags": []
   },
   "source": [
    "# Loading Data"
   ]
  },
  {
   "cell_type": "markdown",
   "id": "681925a3",
   "metadata": {
    "papermill": {
     "duration": 0.021257,
     "end_time": "2025-07-30T21:47:55.974431",
     "exception": false,
     "start_time": "2025-07-30T21:47:55.953174",
     "status": "completed"
    },
    "tags": []
   },
   "source": [
    "Load siab_train, siab_test, siab_calib and/or \n",
    "load siab_train_features, siab_train_labels"
   ]
  },
  {
   "cell_type": "code",
   "execution_count": 9,
   "id": "f0496b8a",
   "metadata": {
    "execution": {
     "iopub.execute_input": "2025-07-30T21:47:56.011125Z",
     "iopub.status.busy": "2025-07-30T21:47:56.010694Z",
     "iopub.status.idle": "2025-07-30T21:48:08.177225Z",
     "shell.execute_reply": "2025-07-30T21:48:08.176037Z"
    },
    "papermill": {
     "duration": 12.183377,
     "end_time": "2025-07-30T21:48:08.178926",
     "exception": false,
     "start_time": "2025-07-30T21:47:55.995549",
     "status": "completed"
    },
    "tags": []
   },
   "outputs": [
    {
     "name": "stdout",
     "output_type": "stream",
     "text": [
      "Loading SIAB data from cache: data/siab_cached.csv.gz\n"
     ]
    },
    {
     "name": "stdout",
     "output_type": "stream",
     "text": [
      "(643690, 164)\n"
     ]
    }
   ],
   "source": [
    "from pathlib import Path\n",
    "import pandas as pd\n",
    "\n",
    "# File paths\n",
    "raw_file = Path(\"data/raw/siab.csv\")\n",
    "cache_file = Path(\"data/siab_cached.csv.gz\")\n",
    "\n",
    "# Ensure cache directory exists\n",
    "cache_file.parent.mkdir(parents=True, exist_ok=True)\n",
    "\n",
    "# Load with simple caching\n",
    "if cache_file.exists():\n",
    "    print(f\"Loading SIAB data from cache: {cache_file}\")\n",
    "    siab = pd.read_csv(cache_file, compression='gzip')\n",
    "else:\n",
    "    print(f\"Cache not found. Reading raw SIAB data: {raw_file}\")\n",
    "    siab = pd.read_csv(raw_file)\n",
    "    siab.to_csv(cache_file, index=False, compression='gzip')\n",
    "    print(f\"Cached SIAB data to: {cache_file}\")\n",
    "\n",
    "# Now use `siab` DataFrame as needed\n",
    "print(siab.shape)"
   ]
  },
  {
   "cell_type": "code",
   "execution_count": 10,
   "id": "db0ca512-5f53-4dba-abdb-a2888bca41ba",
   "metadata": {
    "execution": {
     "iopub.execute_input": "2025-07-30T21:48:08.225747Z",
     "iopub.status.busy": "2025-07-30T21:48:08.224734Z",
     "iopub.status.idle": "2025-07-30T21:48:08.231254Z",
     "shell.execute_reply": "2025-07-30T21:48:08.230219Z"
    },
    "papermill": {
     "duration": 0.031368,
     "end_time": "2025-07-30T21:48:08.233118",
     "exception": false,
     "start_time": "2025-07-30T21:48:08.201750",
     "status": "completed"
    },
    "tags": []
   },
   "outputs": [],
   "source": [
    "#siab"
   ]
  },
  {
   "cell_type": "code",
   "execution_count": 11,
   "id": "a0edb063",
   "metadata": {
    "execution": {
     "iopub.execute_input": "2025-07-30T21:48:08.278991Z",
     "iopub.status.busy": "2025-07-30T21:48:08.278053Z",
     "iopub.status.idle": "2025-07-30T21:48:08.283701Z",
     "shell.execute_reply": "2025-07-30T21:48:08.282652Z"
    },
    "papermill": {
     "duration": 0.029953,
     "end_time": "2025-07-30T21:48:08.285399",
     "exception": false,
     "start_time": "2025-07-30T21:48:08.255446",
     "status": "completed"
    },
    "tags": []
   },
   "outputs": [],
   "source": [
    "#import pandas as pd\n",
    "#\n",
    "#X_train = pd.read_csv(\"./data/X_train.csv\")\n",
    "#y_train = pd.read_csv(\"./data/y_train.csv\")"
   ]
  },
  {
   "cell_type": "code",
   "execution_count": 12,
   "id": "63d08085",
   "metadata": {
    "execution": {
     "iopub.execute_input": "2025-07-30T21:48:08.331275Z",
     "iopub.status.busy": "2025-07-30T21:48:08.330542Z",
     "iopub.status.idle": "2025-07-30T21:48:08.336148Z",
     "shell.execute_reply": "2025-07-30T21:48:08.334739Z"
    },
    "papermill": {
     "duration": 0.030195,
     "end_time": "2025-07-30T21:48:08.337819",
     "exception": false,
     "start_time": "2025-07-30T21:48:08.307624",
     "status": "completed"
    },
    "tags": []
   },
   "outputs": [],
   "source": [
    "#X_test = pd.read_csv(\"./data/X_test.csv\")\n",
    "#y_true = pd.read_csv(\"./data/y_test.csv\")"
   ]
  },
  {
   "cell_type": "code",
   "execution_count": 13,
   "id": "98a8d0fa-1d3d-4ed8-bb2c-281470e24add",
   "metadata": {
    "execution": {
     "iopub.execute_input": "2025-07-30T21:48:08.382987Z",
     "iopub.status.busy": "2025-07-30T21:48:08.382253Z",
     "iopub.status.idle": "2025-07-30T21:48:08.387541Z",
     "shell.execute_reply": "2025-07-30T21:48:08.386405Z"
    },
    "papermill": {
     "duration": 0.030055,
     "end_time": "2025-07-30T21:48:08.389202",
     "exception": false,
     "start_time": "2025-07-30T21:48:08.359147",
     "status": "completed"
    },
    "tags": []
   },
   "outputs": [],
   "source": [
    "# Calibration data for conformal\n",
    "#X_calib = pd.read_csv(\"./data/X_calib.csv\")\n",
    "#y_calib = pd.read_csv(\"./data/y_calib.csv\")"
   ]
  },
  {
   "cell_type": "markdown",
   "id": "997051c5-15bd-4b69-9786-c3001a3ce484",
   "metadata": {
    "papermill": {
     "duration": 0.020667,
     "end_time": "2025-07-30T21:48:08.431833",
     "exception": false,
     "start_time": "2025-07-30T21:48:08.411166",
     "status": "completed"
    },
    "tags": []
   },
   "source": [
    "# Splitting Data and Setting Training Data Size"
   ]
  },
  {
   "cell_type": "code",
   "execution_count": 14,
   "id": "e993b61f-042d-41a6-8c81-f55681f86335",
   "metadata": {
    "execution": {
     "iopub.execute_input": "2025-07-30T21:48:08.477147Z",
     "iopub.status.busy": "2025-07-30T21:48:08.476455Z",
     "iopub.status.idle": "2025-07-30T21:48:08.490100Z",
     "shell.execute_reply": "2025-07-30T21:48:08.488998Z"
    },
    "papermill": {
     "duration": 0.038663,
     "end_time": "2025-07-30T21:48:08.492320",
     "exception": false,
     "start_time": "2025-07-30T21:48:08.453657",
     "status": "completed"
    },
    "tags": []
   },
   "outputs": [],
   "source": [
    "def sample_by_year_size(df,\n",
    "                        training_year: str,\n",
    "                        training_size: str,\n",
    "                        random_state: int = 42):\n",
    "    # --- parse training_year into a list of int years ---\n",
    "    if \"_\" in training_year:\n",
    "        start_str, end_str = training_year.split(\"_\", 1)\n",
    "        start = int(start_str)\n",
    "        end   = int(end_str) if len(end_str) == 4 else (int(end_str) + (start // 100)*100)\n",
    "        years = list(range(start, end + 1))\n",
    "    else:\n",
    "        years = [int(training_year)]\n",
    "\n",
    "    df = df[df[\"year\"].isin(years)].reset_index(drop=True)\n",
    "\n",
    "    # --- map training_size to total number of samples ---\n",
    "    total_map = {\"25k\": 25_000, \"5k\": 5_000, \"1k\": 1_000}\n",
    "    if training_size not in total_map:\n",
    "        return df  # e.g. \"all\"\n",
    "\n",
    "    total_samples = total_map[training_size]\n",
    "    n_years       = len(years)\n",
    "    base          = total_samples // n_years\n",
    "    remainder     = total_samples % n_years\n",
    "\n",
    "    # --- build a dict: year -> how many to sample ---\n",
    "    # give +1 to the first `remainder` years in ascending order\n",
    "    quotas = {\n",
    "        year: base + (1 if idx < remainder else 0)\n",
    "        for idx, year in enumerate(sorted(years))\n",
    "    }\n",
    "\n",
    "    # --- sample per‐year according to the quota dict ---\n",
    "    sampled = (\n",
    "        df\n",
    "        .groupby(\"year\", group_keys=False)\n",
    "        .apply(lambda grp: grp.sample(\n",
    "            n=min(len(grp), quotas[grp.name]),\n",
    "            random_state=random_state))\n",
    "        .reset_index(drop=True)\n",
    "    )\n",
    "\n",
    "    return sampled"
   ]
  },
  {
   "cell_type": "code",
   "execution_count": 15,
   "id": "c0ccd338-0e02-41f3-a09d-f56f9266e3fb",
   "metadata": {
    "execution": {
     "iopub.execute_input": "2025-07-30T21:48:08.539321Z",
     "iopub.status.busy": "2025-07-30T21:48:08.538421Z",
     "iopub.status.idle": "2025-07-30T21:48:08.543799Z",
     "shell.execute_reply": "2025-07-30T21:48:08.542882Z"
    },
    "papermill": {
     "duration": 0.030311,
     "end_time": "2025-07-30T21:48:08.545412",
     "exception": false,
     "start_time": "2025-07-30T21:48:08.515101",
     "status": "completed"
    },
    "tags": []
   },
   "outputs": [],
   "source": [
    "#universe[\"training_size\"]"
   ]
  },
  {
   "cell_type": "code",
   "execution_count": 16,
   "id": "ca707fd7-8047-4acd-bfa5-66248fbbf8e6",
   "metadata": {
    "execution": {
     "iopub.execute_input": "2025-07-30T21:48:08.590417Z",
     "iopub.status.busy": "2025-07-30T21:48:08.589647Z",
     "iopub.status.idle": "2025-07-30T21:48:08.595066Z",
     "shell.execute_reply": "2025-07-30T21:48:08.594108Z"
    },
    "papermill": {
     "duration": 0.029953,
     "end_time": "2025-07-30T21:48:08.596836",
     "exception": false,
     "start_time": "2025-07-30T21:48:08.566883",
     "status": "completed"
    },
    "tags": []
   },
   "outputs": [],
   "source": [
    "#universe[\"training_year\"]"
   ]
  },
  {
   "cell_type": "code",
   "execution_count": 17,
   "id": "aea9c6ef-6f46-42c8-85eb-5a62025c1508",
   "metadata": {
    "execution": {
     "iopub.execute_input": "2025-07-30T21:48:08.642252Z",
     "iopub.status.busy": "2025-07-30T21:48:08.641791Z",
     "iopub.status.idle": "2025-07-30T21:48:09.658817Z",
     "shell.execute_reply": "2025-07-30T21:48:09.657865Z"
    },
    "papermill": {
     "duration": 1.041231,
     "end_time": "2025-07-30T21:48:09.660706",
     "exception": false,
     "start_time": "2025-07-30T21:48:08.619475",
     "status": "completed"
    },
    "tags": []
   },
   "outputs": [],
   "source": [
    "siab_train = sample_by_year_size(siab,\n",
    "                               training_year=universe[\"training_year\"],\n",
    "                               training_size=universe[\"training_size\"])"
   ]
  },
  {
   "cell_type": "code",
   "execution_count": 18,
   "id": "8d3afb32-789d-442c-8d5d-9f5aa8dd2eed",
   "metadata": {
    "execution": {
     "iopub.execute_input": "2025-07-30T21:48:09.705208Z",
     "iopub.status.busy": "2025-07-30T21:48:09.704451Z",
     "iopub.status.idle": "2025-07-30T21:48:09.710665Z",
     "shell.execute_reply": "2025-07-30T21:48:09.709461Z"
    },
    "papermill": {
     "duration": 0.030618,
     "end_time": "2025-07-30T21:48:09.712655",
     "exception": false,
     "start_time": "2025-07-30T21:48:09.682037",
     "status": "completed"
    },
    "tags": []
   },
   "outputs": [],
   "source": [
    "#siab_train.shape"
   ]
  },
  {
   "cell_type": "code",
   "execution_count": 19,
   "id": "d582db68-1a4c-47fb-84fc-08518dc1975a",
   "metadata": {
    "execution": {
     "iopub.execute_input": "2025-07-30T21:48:09.762880Z",
     "iopub.status.busy": "2025-07-30T21:48:09.762452Z",
     "iopub.status.idle": "2025-07-30T21:48:09.767801Z",
     "shell.execute_reply": "2025-07-30T21:48:09.766881Z"
    },
    "papermill": {
     "duration": 0.034148,
     "end_time": "2025-07-30T21:48:09.769697",
     "exception": false,
     "start_time": "2025-07-30T21:48:09.735549",
     "status": "completed"
    },
    "tags": []
   },
   "outputs": [],
   "source": [
    "#display(siab_train.groupby(\"year\").size())"
   ]
  },
  {
   "cell_type": "code",
   "execution_count": 20,
   "id": "a561edb4-d032-42cb-8256-22eac1111c64",
   "metadata": {
    "execution": {
     "iopub.execute_input": "2025-07-30T21:48:09.816580Z",
     "iopub.status.busy": "2025-07-30T21:48:09.816165Z",
     "iopub.status.idle": "2025-07-30T21:48:10.087649Z",
     "shell.execute_reply": "2025-07-30T21:48:10.086596Z"
    },
    "papermill": {
     "duration": 0.297686,
     "end_time": "2025-07-30T21:48:10.089611",
     "exception": false,
     "start_time": "2025-07-30T21:48:09.791925",
     "status": "completed"
    },
    "tags": []
   },
   "outputs": [],
   "source": [
    "#siab_train = siab_s[siab_s.year < 2015]\n",
    "siab_calib = siab[siab.year == 2015]\n",
    "siab_test = siab[siab.year == 2016]"
   ]
  },
  {
   "cell_type": "code",
   "execution_count": 21,
   "id": "472de16f-c3db-4916-846b-1f0de9cf1746",
   "metadata": {
    "execution": {
     "iopub.execute_input": "2025-07-30T21:48:10.137867Z",
     "iopub.status.busy": "2025-07-30T21:48:10.137314Z",
     "iopub.status.idle": "2025-07-30T21:48:10.144375Z",
     "shell.execute_reply": "2025-07-30T21:48:10.143381Z"
    },
    "papermill": {
     "duration": 0.033154,
     "end_time": "2025-07-30T21:48:10.146119",
     "exception": false,
     "start_time": "2025-07-30T21:48:10.112965",
     "status": "completed"
    },
    "tags": []
   },
   "outputs": [],
   "source": [
    "X_train = siab_train.iloc[:,4:164]\n",
    "y_train = siab_train.iloc[:, [3]]"
   ]
  },
  {
   "cell_type": "code",
   "execution_count": 22,
   "id": "828c96af-f43a-4ed6-ba47-8ac73a47d56c",
   "metadata": {
    "execution": {
     "iopub.execute_input": "2025-07-30T21:48:10.195000Z",
     "iopub.status.busy": "2025-07-30T21:48:10.194303Z",
     "iopub.status.idle": "2025-07-30T21:48:10.246793Z",
     "shell.execute_reply": "2025-07-30T21:48:10.245600Z"
    },
    "papermill": {
     "duration": 0.08158,
     "end_time": "2025-07-30T21:48:10.250055",
     "exception": false,
     "start_time": "2025-07-30T21:48:10.168475",
     "status": "completed"
    },
    "tags": []
   },
   "outputs": [],
   "source": [
    "X_calib = siab_calib.iloc[:,4:164]\n",
    "y_calib = siab_calib.iloc[:, [3]]"
   ]
  },
  {
   "cell_type": "code",
   "execution_count": 23,
   "id": "c34be9c3-6bd6-476e-acd3-845840e303be",
   "metadata": {
    "execution": {
     "iopub.execute_input": "2025-07-30T21:48:10.299221Z",
     "iopub.status.busy": "2025-07-30T21:48:10.298158Z",
     "iopub.status.idle": "2025-07-30T21:48:10.367055Z",
     "shell.execute_reply": "2025-07-30T21:48:10.365607Z"
    },
    "papermill": {
     "duration": 0.095073,
     "end_time": "2025-07-30T21:48:10.369621",
     "exception": false,
     "start_time": "2025-07-30T21:48:10.274548",
     "status": "completed"
    },
    "tags": []
   },
   "outputs": [],
   "source": [
    "X_test = siab_test.iloc[:,4:164]\n",
    "y_true = siab_test.iloc[:, [3]]"
   ]
  },
  {
   "cell_type": "markdown",
   "id": "9901737e-04df-44f0-9100-f5ad144ed040",
   "metadata": {
    "papermill": {
     "duration": 0.021722,
     "end_time": "2025-07-30T21:48:10.415117",
     "exception": false,
     "start_time": "2025-07-30T21:48:10.393395",
     "status": "completed"
    },
    "tags": []
   },
   "source": [
    "# Splitting Data and Setting Training Data Size OLD VERSION"
   ]
  },
  {
   "cell_type": "code",
   "execution_count": 24,
   "id": "acbc8f7d-8fc8-4e86-8c59-5dcb0f58384b",
   "metadata": {
    "execution": {
     "iopub.execute_input": "2025-07-30T21:48:10.463305Z",
     "iopub.status.busy": "2025-07-30T21:48:10.462836Z",
     "iopub.status.idle": "2025-07-30T21:48:10.469299Z",
     "shell.execute_reply": "2025-07-30T21:48:10.468391Z"
    },
    "papermill": {
     "duration": 0.032499,
     "end_time": "2025-07-30T21:48:10.471079",
     "exception": false,
     "start_time": "2025-07-30T21:48:10.438580",
     "status": "completed"
    },
    "tags": []
   },
   "outputs": [],
   "source": [
    "#def sample_by_year(df, training_size, random_state=42):\n",
    "#    if training_size == \"2014\":\n",
    "#        return df[df[\"year\"] == 2014].reset_index(drop=True)\n",
    "#    \n",
    "#    size_map = {\n",
    "#        \"25k\": 5000,\n",
    "#        \"5k\": 1000,\n",
    "#        \"1k\": 200\n",
    "#    }\n",
    "#\n",
    "#    if training_size not in size_map:\n",
    "#        return df.reset_index(drop=True)  # use all data\n",
    "#\n",
    "#    n_per_year = size_map[training_size]\n",
    "#    grouped = df.groupby(\"year\")\n",
    "#    sampled = grouped.apply(lambda x: x.sample(n=min(n_per_year, len(x)), random_state=random_state))\n",
    "#    return sampled.reset_index(drop=True)"
   ]
  },
  {
   "cell_type": "code",
   "execution_count": 25,
   "id": "6d931f52-beaf-43ff-9e78-9d44a448d54e",
   "metadata": {
    "execution": {
     "iopub.execute_input": "2025-07-30T21:48:10.519101Z",
     "iopub.status.busy": "2025-07-30T21:48:10.518013Z",
     "iopub.status.idle": "2025-07-30T21:48:10.525354Z",
     "shell.execute_reply": "2025-07-30T21:48:10.523999Z"
    },
    "papermill": {
     "duration": 0.033805,
     "end_time": "2025-07-30T21:48:10.527402",
     "exception": false,
     "start_time": "2025-07-30T21:48:10.493597",
     "status": "completed"
    },
    "tags": []
   },
   "outputs": [],
   "source": [
    "#siab_s = sample_by_year(siab, universe[\"training_size\"])"
   ]
  },
  {
   "cell_type": "code",
   "execution_count": 26,
   "id": "5db0a40e-a4e2-4920-be85-b12ae061d70d",
   "metadata": {
    "execution": {
     "iopub.execute_input": "2025-07-30T21:48:10.575525Z",
     "iopub.status.busy": "2025-07-30T21:48:10.574504Z",
     "iopub.status.idle": "2025-07-30T21:48:10.580537Z",
     "shell.execute_reply": "2025-07-30T21:48:10.579281Z"
    },
    "papermill": {
     "duration": 0.032495,
     "end_time": "2025-07-30T21:48:10.582377",
     "exception": false,
     "start_time": "2025-07-30T21:48:10.549882",
     "status": "completed"
    },
    "tags": []
   },
   "outputs": [],
   "source": [
    "#display(siab_s.groupby(\"year\").size())"
   ]
  },
  {
   "cell_type": "code",
   "execution_count": 27,
   "id": "e6c733c5",
   "metadata": {
    "execution": {
     "iopub.execute_input": "2025-07-30T21:48:10.630507Z",
     "iopub.status.busy": "2025-07-30T21:48:10.629834Z",
     "iopub.status.idle": "2025-07-30T21:48:10.756708Z",
     "shell.execute_reply": "2025-07-30T21:48:10.755495Z"
    },
    "papermill": {
     "duration": 0.152975,
     "end_time": "2025-07-30T21:48:10.759060",
     "exception": false,
     "start_time": "2025-07-30T21:48:10.606085",
     "status": "completed"
    },
    "tags": []
   },
   "outputs": [],
   "source": [
    "# Auxiliary data needed downstream in the pipeline\n",
    "\n",
    "org_train = X_train.copy()\n",
    "org_test = X_test.copy()\n",
    "org_calib = X_calib.copy()"
   ]
  },
  {
   "cell_type": "code",
   "execution_count": 28,
   "id": "1466abac-c6da-4492-a62f-4240ae3783af",
   "metadata": {
    "execution": {
     "iopub.execute_input": "2025-07-30T21:48:10.823217Z",
     "iopub.status.busy": "2025-07-30T21:48:10.822439Z",
     "iopub.status.idle": "2025-07-30T21:48:10.828736Z",
     "shell.execute_reply": "2025-07-30T21:48:10.827681Z"
    },
    "papermill": {
     "duration": 0.032992,
     "end_time": "2025-07-30T21:48:10.830595",
     "exception": false,
     "start_time": "2025-07-30T21:48:10.797603",
     "status": "completed"
    },
    "tags": []
   },
   "outputs": [],
   "source": [
    "# put in other script?\n",
    "# Group sizes\n",
    "\n",
    "#def calculate_percentages(df, df_name):\n",
    "#    total_entries = len(df)\n",
    "#\n",
    "#    female_pct = (df['frau1'] == 1).mean() * 100\n",
    "#    non_german_pct = ((df['maxdeutsch1'] == 0) & (df['maxdeutsch.Missing.'] == 0)).mean() * 100\n",
    "#    non_german_male_pct = ((df['frau1'] == 0) & (df['maxdeutsch1'] == 0) & (df['maxdeutsch.Missing.'] == 0)).mean() * 100\n",
    "#    non_german_female_pct = ((df['frau1'] == 1) & (df['maxdeutsch1'] == 0) & (df['maxdeutsch.Missing.'] == 0)).mean() * 100\n",
    "#\n",
    "#    print(f\"--- {df_name} ---\")\n",
    "#    print(f\"Female: {female_pct:.2f}%\")\n",
    "#    print(f\"Non-German: {non_german_pct:.2f}%\")\n",
    "#    print(f\"Non-German Male: {non_german_male_pct:.2f}%\")\n",
    "#    print(f\"Non-German Female: {non_german_female_pct:.2f}%\\n\")\n",
    "#\n",
    "## Calculate for each DataFrame\n",
    "#calculate_percentages(siab_calib, \"siab_calib\")\n",
    "#calculate_percentages(siab_test, \"siab_test\")\n",
    "#calculate_percentages(siab_train, \"siab_train\")"
   ]
  },
  {
   "cell_type": "markdown",
   "id": "0a4a1b33",
   "metadata": {
    "papermill": {
     "duration": 0.022698,
     "end_time": "2025-07-30T21:48:10.876314",
     "exception": false,
     "start_time": "2025-07-30T21:48:10.853616",
     "status": "completed"
    },
    "tags": []
   },
   "source": [
    "# Preprocessing Data"
   ]
  },
  {
   "cell_type": "code",
   "execution_count": 29,
   "id": "ca879031",
   "metadata": {
    "execution": {
     "iopub.execute_input": "2025-07-30T21:48:10.924082Z",
     "iopub.status.busy": "2025-07-30T21:48:10.923267Z",
     "iopub.status.idle": "2025-07-30T21:48:10.930670Z",
     "shell.execute_reply": "2025-07-30T21:48:10.929555Z"
    },
    "papermill": {
     "duration": 0.033772,
     "end_time": "2025-07-30T21:48:10.932928",
     "exception": false,
     "start_time": "2025-07-30T21:48:10.899156",
     "status": "completed"
    },
    "tags": []
   },
   "outputs": [],
   "source": [
    "# EXCLUDE PROTECTED FEATURES\n",
    "# ----------------------\n",
    "# \"exclude_features\": \"none\", # \"nationality\", \"sex\", \"nationality-sex\"\n",
    "\n",
    "excluded_features = universe[\"exclude_features\"].split(\"-\") # split, e.g.: \"nationality-sex\" -> [\"nationality\", \"sex\"]\n",
    "excluded_features_dictionary = {\n",
    "    \"nationality\": [\"maxdeutsch1\", \"maxdeutsch.Missing.\"],\n",
    "    \"sex\": [\"frau1\"],\n",
    "    \"age\": [\"age\"],\n",
    "}\n"
   ]
  },
  {
   "cell_type": "code",
   "execution_count": 30,
   "id": "b745ac60",
   "metadata": {
    "execution": {
     "iopub.execute_input": "2025-07-30T21:48:10.993353Z",
     "iopub.status.busy": "2025-07-30T21:48:10.992613Z",
     "iopub.status.idle": "2025-07-30T21:48:10.998994Z",
     "shell.execute_reply": "2025-07-30T21:48:10.997832Z"
    },
    "papermill": {
     "duration": 0.037212,
     "end_time": "2025-07-30T21:48:11.001193",
     "exception": false,
     "start_time": "2025-07-30T21:48:10.963981",
     "status": "completed"
    },
    "tags": []
   },
   "outputs": [],
   "source": [
    "# Code nice names to column names\n",
    "\n",
    "excluded_features_columns = [\n",
    "    excluded_features_dictionary[f] for f in excluded_features if len(f) > 0 and f != \"none\"\n",
    "]"
   ]
  },
  {
   "cell_type": "code",
   "execution_count": 31,
   "id": "f84f73a2",
   "metadata": {
    "execution": {
     "iopub.execute_input": "2025-07-30T21:48:11.069247Z",
     "iopub.status.busy": "2025-07-30T21:48:11.068714Z",
     "iopub.status.idle": "2025-07-30T21:48:11.075519Z",
     "shell.execute_reply": "2025-07-30T21:48:11.074488Z"
    },
    "papermill": {
     "duration": 0.037588,
     "end_time": "2025-07-30T21:48:11.077917",
     "exception": false,
     "start_time": "2025-07-30T21:48:11.040329",
     "status": "completed"
    },
    "tags": []
   },
   "outputs": [],
   "source": [
    "from utils import flatten_once\n",
    "\n",
    "excluded_features_columns = flatten_once(excluded_features_columns)"
   ]
  },
  {
   "cell_type": "code",
   "execution_count": 32,
   "id": "884dea22",
   "metadata": {
    "execution": {
     "iopub.execute_input": "2025-07-30T21:48:11.135504Z",
     "iopub.status.busy": "2025-07-30T21:48:11.134987Z",
     "iopub.status.idle": "2025-07-30T21:48:11.141294Z",
     "shell.execute_reply": "2025-07-30T21:48:11.140089Z"
    },
    "papermill": {
     "duration": 0.037414,
     "end_time": "2025-07-30T21:48:11.143342",
     "exception": false,
     "start_time": "2025-07-30T21:48:11.105928",
     "status": "completed"
    },
    "tags": []
   },
   "outputs": [],
   "source": [
    "if len(excluded_features_columns) > 0:\n",
    "    print(f\"Dropping features: {excluded_features_columns}\")\n",
    "    X_train.drop(excluded_features_columns, axis=1, inplace=True)"
   ]
  },
  {
   "cell_type": "code",
   "execution_count": 33,
   "id": "95ab8b16",
   "metadata": {
    "execution": {
     "iopub.execute_input": "2025-07-30T21:48:11.201275Z",
     "iopub.status.busy": "2025-07-30T21:48:11.200097Z",
     "iopub.status.idle": "2025-07-30T21:48:11.208770Z",
     "shell.execute_reply": "2025-07-30T21:48:11.207105Z"
    },
    "papermill": {
     "duration": 0.039706,
     "end_time": "2025-07-30T21:48:11.210882",
     "exception": false,
     "start_time": "2025-07-30T21:48:11.171176",
     "status": "completed"
    },
    "tags": []
   },
   "outputs": [],
   "source": [
    "if len(excluded_features_columns) > 0:\n",
    "    print(f\"Dropping features: {excluded_features_columns}\")\n",
    "    X_test.drop(excluded_features_columns, axis=1, inplace=True)"
   ]
  },
  {
   "cell_type": "code",
   "execution_count": 34,
   "id": "1853aaf5-fb9f-46cb-a2b5-8ea4ae2237e4",
   "metadata": {
    "execution": {
     "iopub.execute_input": "2025-07-30T21:48:11.269827Z",
     "iopub.status.busy": "2025-07-30T21:48:11.269270Z",
     "iopub.status.idle": "2025-07-30T21:48:11.275870Z",
     "shell.execute_reply": "2025-07-30T21:48:11.274624Z"
    },
    "papermill": {
     "duration": 0.038462,
     "end_time": "2025-07-30T21:48:11.277828",
     "exception": false,
     "start_time": "2025-07-30T21:48:11.239366",
     "status": "completed"
    },
    "tags": []
   },
   "outputs": [],
   "source": [
    "if len(excluded_features_columns) > 0:\n",
    "    print(f\"Dropping features: {excluded_features_columns}\")\n",
    "    X_calib.drop(excluded_features_columns, axis=1, inplace=True)"
   ]
  },
  {
   "cell_type": "code",
   "execution_count": 35,
   "id": "6727d079-03e5-481e-9d38-292a90b7a0a8",
   "metadata": {
    "execution": {
     "iopub.execute_input": "2025-07-30T21:48:11.347704Z",
     "iopub.status.busy": "2025-07-30T21:48:11.347147Z",
     "iopub.status.idle": "2025-07-30T21:48:11.356940Z",
     "shell.execute_reply": "2025-07-30T21:48:11.351632Z"
    },
    "papermill": {
     "duration": 0.046394,
     "end_time": "2025-07-30T21:48:11.359392",
     "exception": false,
     "start_time": "2025-07-30T21:48:11.312998",
     "status": "completed"
    },
    "tags": []
   },
   "outputs": [],
   "source": [
    "# SPLIT & STRATIFY DATA\n",
    "# ----------------------"
   ]
  },
  {
   "cell_type": "code",
   "execution_count": 36,
   "id": "76c4dc6d",
   "metadata": {
    "execution": {
     "iopub.execute_input": "2025-07-30T21:48:11.428802Z",
     "iopub.status.busy": "2025-07-30T21:48:11.428011Z",
     "iopub.status.idle": "2025-07-30T21:48:11.435372Z",
     "shell.execute_reply": "2025-07-30T21:48:11.434079Z"
    },
    "papermill": {
     "duration": 0.056736,
     "end_time": "2025-07-30T21:48:11.449955",
     "exception": false,
     "start_time": "2025-07-30T21:48:11.393219",
     "status": "completed"
    },
    "tags": []
   },
   "outputs": [],
   "source": [
    "# EXCLUDE CERTAIN SUBGROUPS\n",
    "# ----------------------\n",
    "\n",
    "mode = universe.get(\"exclude_subgroups\", \"keep-all\") \n",
    "# Fetches the exclude_subgroups setting from the universe dict.\n",
    "# Defaults to \"keep-all\" if the key is missing."
   ]
  },
  {
   "cell_type": "code",
   "execution_count": 37,
   "id": "21994072",
   "metadata": {
    "execution": {
     "iopub.execute_input": "2025-07-30T21:48:11.498605Z",
     "iopub.status.busy": "2025-07-30T21:48:11.498187Z",
     "iopub.status.idle": "2025-07-30T21:48:11.504917Z",
     "shell.execute_reply": "2025-07-30T21:48:11.503970Z"
    },
    "papermill": {
     "duration": 0.033293,
     "end_time": "2025-07-30T21:48:11.506714",
     "exception": false,
     "start_time": "2025-07-30T21:48:11.473421",
     "status": "completed"
    },
    "tags": []
   },
   "outputs": [],
   "source": [
    "if mode == \"keep-all\":\n",
    "    keep_mask = pd.Series(True, index=org_train.index)\n",
    "\n",
    "# org_train contains the original feature columns from features_org (in Simson)\n",
    "# features_org contains unprocessed features, for me X_train at beginning ???\n",
    "# For keep-all, creates a boolean Series (keep_mask) of all True, so no rows are removed.\n",
    "\n",
    "elif mode == \"drop-non-german\":\n",
    "    keep_mask = org_train[\"maxdeutsch1\"] == 1 # ??? what about missing values?\n",
    "\n",
    "else:\n",
    "    raise ValueError(f\"Unsupported mode for exclude_subgroups: {mode}\")\n"
   ]
  },
  {
   "cell_type": "code",
   "execution_count": 38,
   "id": "71651440",
   "metadata": {
    "execution": {
     "iopub.execute_input": "2025-07-30T21:48:11.557527Z",
     "iopub.status.busy": "2025-07-30T21:48:11.556770Z",
     "iopub.status.idle": "2025-07-30T21:48:11.564529Z",
     "shell.execute_reply": "2025-07-30T21:48:11.563225Z"
    },
    "papermill": {
     "duration": 0.036586,
     "end_time": "2025-07-30T21:48:11.566416",
     "exception": false,
     "start_time": "2025-07-30T21:48:11.529830",
     "status": "completed"
    },
    "tags": []
   },
   "outputs": [],
   "source": [
    "n_drop = (~keep_mask).sum() # Calculates how many rows are set to be dropped\n",
    "if n_drop > 0:\n",
    "    pct = n_drop / len(keep_mask) * 100\n",
    "    print(f\"Dropping {n_drop} rows ({pct:.2f}%) where mode='{mode}'\")"
   ]
  },
  {
   "cell_type": "code",
   "execution_count": 39,
   "id": "5fb8eee5",
   "metadata": {
    "execution": {
     "iopub.execute_input": "2025-07-30T21:48:11.614666Z",
     "iopub.status.busy": "2025-07-30T21:48:11.614020Z",
     "iopub.status.idle": "2025-07-30T21:48:11.621367Z",
     "shell.execute_reply": "2025-07-30T21:48:11.620241Z"
    },
    "papermill": {
     "duration": 0.033801,
     "end_time": "2025-07-30T21:48:11.623293",
     "exception": false,
     "start_time": "2025-07-30T21:48:11.589492",
     "status": "completed"
    },
    "tags": []
   },
   "outputs": [],
   "source": [
    "X_train = X_train[keep_mask]"
   ]
  },
  {
   "cell_type": "code",
   "execution_count": 40,
   "id": "b202bb3a",
   "metadata": {
    "execution": {
     "iopub.execute_input": "2025-07-30T21:48:11.670764Z",
     "iopub.status.busy": "2025-07-30T21:48:11.670067Z",
     "iopub.status.idle": "2025-07-30T21:48:11.676269Z",
     "shell.execute_reply": "2025-07-30T21:48:11.675266Z"
    },
    "papermill": {
     "duration": 0.031745,
     "end_time": "2025-07-30T21:48:11.678139",
     "exception": false,
     "start_time": "2025-07-30T21:48:11.646394",
     "status": "completed"
    },
    "tags": []
   },
   "outputs": [],
   "source": [
    "y_train = y_train[keep_mask]"
   ]
  },
  {
   "cell_type": "markdown",
   "id": "493e2ac3",
   "metadata": {
    "papermill": {
     "duration": 0.023595,
     "end_time": "2025-07-30T21:48:11.725407",
     "exception": false,
     "start_time": "2025-07-30T21:48:11.701812",
     "status": "completed"
    },
    "tags": []
   },
   "source": [
    "# Model Training"
   ]
  },
  {
   "cell_type": "code",
   "execution_count": 41,
   "id": "679e1268",
   "metadata": {
    "execution": {
     "iopub.execute_input": "2025-07-30T21:48:11.788555Z",
     "iopub.status.busy": "2025-07-30T21:48:11.787871Z",
     "iopub.status.idle": "2025-07-30T21:48:11.997253Z",
     "shell.execute_reply": "2025-07-30T21:48:11.996526Z"
    },
    "papermill": {
     "duration": 0.237382,
     "end_time": "2025-07-30T21:48:11.999291",
     "exception": false,
     "start_time": "2025-07-30T21:48:11.761909",
     "status": "completed"
    },
    "tags": []
   },
   "outputs": [],
   "source": [
    "from sklearn.linear_model import LogisticRegression\n",
    "from sklearn.ensemble import GradientBoostingClassifier, RandomForestClassifier\n",
    "\n",
    "if (universe[\"model\"] == \"logreg\"):\n",
    "    model = LogisticRegression() #penalty=\"none\") #, solver=\"newton-cg\", max_iter=1) # include random_state=19 ?\n",
    "elif (universe[\"model\"] == \"penalized_logreg\"):\n",
    "    model = LogisticRegression(penalty=\"l2\", C=1.0) #, solver=\"newton-cg\", max_iter=1)\n",
    "elif (universe[\"model\"] == \"rf\"):\n",
    "    model = RandomForestClassifier(n_estimators=100, n_jobs=-1)\n",
    "elif (universe[\"model\"] == \"gbm\"):\n",
    "    model = GradientBoostingClassifier()\n",
    "elif (universe[\"model\"] == \"elasticnet\"):\n",
    "    model = LogisticRegression(penalty = 'elasticnet', solver = 'saga', l1_ratio = 0.5, max_iter=5000) # which solver to use?\n",
    "else:\n",
    "    raise \"Unsupported universe.model\""
   ]
  },
  {
   "cell_type": "code",
   "execution_count": 42,
   "id": "0cc8f744",
   "metadata": {
    "execution": {
     "iopub.execute_input": "2025-07-30T21:48:12.051092Z",
     "iopub.status.busy": "2025-07-30T21:48:12.049888Z",
     "iopub.status.idle": "2025-07-30T21:48:12.057671Z",
     "shell.execute_reply": "2025-07-30T21:48:12.056823Z"
    },
    "papermill": {
     "duration": 0.036463,
     "end_time": "2025-07-30T21:48:12.059063",
     "exception": false,
     "start_time": "2025-07-30T21:48:12.022600",
     "status": "completed"
    },
    "tags": []
   },
   "outputs": [],
   "source": [
    "import numpy as np\n",
    "from sklearn.pipeline import Pipeline\n",
    "from sklearn.preprocessing import StandardScaler\n",
    "\n",
    "model = Pipeline([\n",
    "    #(\"continuous_processor\", continuous_processor),\n",
    "    #(\"categorical_preprocessor\", categorical_preprocessor),\n",
    "    (\"scale\", StandardScaler() if universe[\"scale\"] == \"scale\" else None), \n",
    "    (\"model\", model),\n",
    "])"
   ]
  },
  {
   "cell_type": "code",
   "execution_count": 43,
   "id": "9442c04d",
   "metadata": {
    "execution": {
     "iopub.execute_input": "2025-07-30T21:48:12.111006Z",
     "iopub.status.busy": "2025-07-30T21:48:12.110542Z",
     "iopub.status.idle": "2025-07-30T21:48:16.100275Z",
     "shell.execute_reply": "2025-07-30T21:48:16.098806Z"
    },
    "papermill": {
     "duration": 4.018264,
     "end_time": "2025-07-30T21:48:16.103131",
     "exception": false,
     "start_time": "2025-07-30T21:48:12.084867",
     "status": "completed"
    },
    "tags": []
   },
   "outputs": [
    {
     "data": {
      "text/html": [
       "<style>#sk-container-id-1 {color: black;background-color: white;}#sk-container-id-1 pre{padding: 0;}#sk-container-id-1 div.sk-toggleable {background-color: white;}#sk-container-id-1 label.sk-toggleable__label {cursor: pointer;display: block;width: 100%;margin-bottom: 0;padding: 0.3em;box-sizing: border-box;text-align: center;}#sk-container-id-1 label.sk-toggleable__label-arrow:before {content: \"▸\";float: left;margin-right: 0.25em;color: #696969;}#sk-container-id-1 label.sk-toggleable__label-arrow:hover:before {color: black;}#sk-container-id-1 div.sk-estimator:hover label.sk-toggleable__label-arrow:before {color: black;}#sk-container-id-1 div.sk-toggleable__content {max-height: 0;max-width: 0;overflow: hidden;text-align: left;background-color: #f0f8ff;}#sk-container-id-1 div.sk-toggleable__content pre {margin: 0.2em;color: black;border-radius: 0.25em;background-color: #f0f8ff;}#sk-container-id-1 input.sk-toggleable__control:checked~div.sk-toggleable__content {max-height: 200px;max-width: 100%;overflow: auto;}#sk-container-id-1 input.sk-toggleable__control:checked~label.sk-toggleable__label-arrow:before {content: \"▾\";}#sk-container-id-1 div.sk-estimator input.sk-toggleable__control:checked~label.sk-toggleable__label {background-color: #d4ebff;}#sk-container-id-1 div.sk-label input.sk-toggleable__control:checked~label.sk-toggleable__label {background-color: #d4ebff;}#sk-container-id-1 input.sk-hidden--visually {border: 0;clip: rect(1px 1px 1px 1px);clip: rect(1px, 1px, 1px, 1px);height: 1px;margin: -1px;overflow: hidden;padding: 0;position: absolute;width: 1px;}#sk-container-id-1 div.sk-estimator {font-family: monospace;background-color: #f0f8ff;border: 1px dotted black;border-radius: 0.25em;box-sizing: border-box;margin-bottom: 0.5em;}#sk-container-id-1 div.sk-estimator:hover {background-color: #d4ebff;}#sk-container-id-1 div.sk-parallel-item::after {content: \"\";width: 100%;border-bottom: 1px solid gray;flex-grow: 1;}#sk-container-id-1 div.sk-label:hover label.sk-toggleable__label {background-color: #d4ebff;}#sk-container-id-1 div.sk-serial::before {content: \"\";position: absolute;border-left: 1px solid gray;box-sizing: border-box;top: 0;bottom: 0;left: 50%;z-index: 0;}#sk-container-id-1 div.sk-serial {display: flex;flex-direction: column;align-items: center;background-color: white;padding-right: 0.2em;padding-left: 0.2em;position: relative;}#sk-container-id-1 div.sk-item {position: relative;z-index: 1;}#sk-container-id-1 div.sk-parallel {display: flex;align-items: stretch;justify-content: center;background-color: white;position: relative;}#sk-container-id-1 div.sk-item::before, #sk-container-id-1 div.sk-parallel-item::before {content: \"\";position: absolute;border-left: 1px solid gray;box-sizing: border-box;top: 0;bottom: 0;left: 50%;z-index: -1;}#sk-container-id-1 div.sk-parallel-item {display: flex;flex-direction: column;z-index: 1;position: relative;background-color: white;}#sk-container-id-1 div.sk-parallel-item:first-child::after {align-self: flex-end;width: 50%;}#sk-container-id-1 div.sk-parallel-item:last-child::after {align-self: flex-start;width: 50%;}#sk-container-id-1 div.sk-parallel-item:only-child::after {width: 0;}#sk-container-id-1 div.sk-dashed-wrapped {border: 1px dashed gray;margin: 0 0.4em 0.5em 0.4em;box-sizing: border-box;padding-bottom: 0.4em;background-color: white;}#sk-container-id-1 div.sk-label label {font-family: monospace;font-weight: bold;display: inline-block;line-height: 1.2em;}#sk-container-id-1 div.sk-label-container {text-align: center;}#sk-container-id-1 div.sk-container {/* jupyter's `normalize.less` sets `[hidden] { display: none; }` but bootstrap.min.css set `[hidden] { display: none !important; }` so we also need the `!important` here to be able to override the default hidden behavior on the sphinx rendered scikit-learn.org. See: https://github.com/scikit-learn/scikit-learn/issues/21755 */display: inline-block !important;position: relative;}#sk-container-id-1 div.sk-text-repr-fallback {display: none;}</style><div id=\"sk-container-id-1\" class=\"sk-top-container\"><div class=\"sk-text-repr-fallback\"><pre>Pipeline(steps=[(&#x27;scale&#x27;, StandardScaler()),\n",
       "                (&#x27;model&#x27;,\n",
       "                 LogisticRegression(l1_ratio=0.5, max_iter=5000,\n",
       "                                    penalty=&#x27;elasticnet&#x27;, solver=&#x27;saga&#x27;))])</pre><b>In a Jupyter environment, please rerun this cell to show the HTML representation or trust the notebook. <br />On GitHub, the HTML representation is unable to render, please try loading this page with nbviewer.org.</b></div><div class=\"sk-container\" hidden><div class=\"sk-item sk-dashed-wrapped\"><div class=\"sk-label-container\"><div class=\"sk-label sk-toggleable\"><input class=\"sk-toggleable__control sk-hidden--visually\" id=\"sk-estimator-id-1\" type=\"checkbox\" ><label for=\"sk-estimator-id-1\" class=\"sk-toggleable__label sk-toggleable__label-arrow\">Pipeline</label><div class=\"sk-toggleable__content\"><pre>Pipeline(steps=[(&#x27;scale&#x27;, StandardScaler()),\n",
       "                (&#x27;model&#x27;,\n",
       "                 LogisticRegression(l1_ratio=0.5, max_iter=5000,\n",
       "                                    penalty=&#x27;elasticnet&#x27;, solver=&#x27;saga&#x27;))])</pre></div></div></div><div class=\"sk-serial\"><div class=\"sk-item\"><div class=\"sk-estimator sk-toggleable\"><input class=\"sk-toggleable__control sk-hidden--visually\" id=\"sk-estimator-id-2\" type=\"checkbox\" ><label for=\"sk-estimator-id-2\" class=\"sk-toggleable__label sk-toggleable__label-arrow\">StandardScaler</label><div class=\"sk-toggleable__content\"><pre>StandardScaler()</pre></div></div></div><div class=\"sk-item\"><div class=\"sk-estimator sk-toggleable\"><input class=\"sk-toggleable__control sk-hidden--visually\" id=\"sk-estimator-id-3\" type=\"checkbox\" ><label for=\"sk-estimator-id-3\" class=\"sk-toggleable__label sk-toggleable__label-arrow\">LogisticRegression</label><div class=\"sk-toggleable__content\"><pre>LogisticRegression(l1_ratio=0.5, max_iter=5000, penalty=&#x27;elasticnet&#x27;,\n",
       "                   solver=&#x27;saga&#x27;)</pre></div></div></div></div></div></div></div>"
      ],
      "text/plain": [
       "Pipeline(steps=[('scale', StandardScaler()),\n",
       "                ('model',\n",
       "                 LogisticRegression(l1_ratio=0.5, max_iter=5000,\n",
       "                                    penalty='elasticnet', solver='saga'))])"
      ]
     },
     "execution_count": 43,
     "metadata": {},
     "output_type": "execute_result"
    }
   ],
   "source": [
    "model.fit(X_train, y_train.values.ravel())"
   ]
  },
  {
   "cell_type": "code",
   "execution_count": 44,
   "id": "af59f8c0",
   "metadata": {
    "execution": {
     "iopub.execute_input": "2025-07-30T21:48:16.175020Z",
     "iopub.status.busy": "2025-07-30T21:48:16.174303Z",
     "iopub.status.idle": "2025-07-30T21:48:16.180585Z",
     "shell.execute_reply": "2025-07-30T21:48:16.179564Z"
    },
    "papermill": {
     "duration": 0.04424,
     "end_time": "2025-07-30T21:48:16.182871",
     "exception": false,
     "start_time": "2025-07-30T21:48:16.138631",
     "status": "completed"
    },
    "tags": []
   },
   "outputs": [],
   "source": [
    "from fairness_multiverse.universe import predict_w_threshold"
   ]
  },
  {
   "cell_type": "code",
   "execution_count": 45,
   "id": "a7cf2e16",
   "metadata": {
    "execution": {
     "iopub.execute_input": "2025-07-30T21:48:16.253605Z",
     "iopub.status.busy": "2025-07-30T21:48:16.253267Z",
     "iopub.status.idle": "2025-07-30T21:48:16.443623Z",
     "shell.execute_reply": "2025-07-30T21:48:16.442837Z"
    },
    "papermill": {
     "duration": 0.227937,
     "end_time": "2025-07-30T21:48:16.445220",
     "exception": false,
     "start_time": "2025-07-30T21:48:16.217283",
     "status": "completed"
    },
    "tags": []
   },
   "outputs": [
    {
     "data": {
      "text/plain": [
       "0.8233753204770928"
      ]
     },
     "execution_count": 45,
     "metadata": {},
     "output_type": "execute_result"
    }
   ],
   "source": [
    "probs_test = model.predict_proba(X_test)\n",
    "\n",
    "'''\n",
    "Below code returns a boolean array (or binary 0/1 array depending on how it’s used) where each element \n",
    "is True if the probability of class 1 is greater than or equal to the threshold, and False otherwise.\n",
    "'''\n",
    "y_pred_default = predict_w_threshold(probs_test, 0.5)\n",
    "\n",
    "from sklearn.metrics import accuracy_score\n",
    "\n",
    "# Naive prediction\n",
    "accuracy_score(y_true = y_true, y_pred = y_pred_default)"
   ]
  },
  {
   "cell_type": "code",
   "execution_count": 46,
   "id": "081964c3",
   "metadata": {
    "execution": {
     "iopub.execute_input": "2025-07-30T21:48:16.492365Z",
     "iopub.status.busy": "2025-07-30T21:48:16.491670Z",
     "iopub.status.idle": "2025-07-30T21:48:16.678055Z",
     "shell.execute_reply": "2025-07-30T21:48:16.676980Z"
    },
    "papermill": {
     "duration": 0.213094,
     "end_time": "2025-07-30T21:48:16.680466",
     "exception": false,
     "start_time": "2025-07-30T21:48:16.467372",
     "status": "completed"
    },
    "tags": []
   },
   "outputs": [
    {
     "data": {
      "text/plain": [
       "array([0, 0, 0, ..., 0, 0, 0])"
      ]
     },
     "execution_count": 46,
     "metadata": {},
     "output_type": "execute_result"
    }
   ],
   "source": [
    "model.predict(X_test)"
   ]
  },
  {
   "cell_type": "markdown",
   "id": "56c9705b",
   "metadata": {
    "papermill": {
     "duration": 0.023081,
     "end_time": "2025-07-30T21:48:16.755537",
     "exception": false,
     "start_time": "2025-07-30T21:48:16.732456",
     "status": "completed"
    },
    "tags": []
   },
   "source": [
    "# Conformal Prediction"
   ]
  },
  {
   "cell_type": "code",
   "execution_count": 47,
   "id": "160ec6ff",
   "metadata": {
    "execution": {
     "iopub.execute_input": "2025-07-30T21:48:16.801255Z",
     "iopub.status.busy": "2025-07-30T21:48:16.800727Z",
     "iopub.status.idle": "2025-07-30T21:48:16.805984Z",
     "shell.execute_reply": "2025-07-30T21:48:16.805178Z"
    },
    "papermill": {
     "duration": 0.030098,
     "end_time": "2025-07-30T21:48:16.807633",
     "exception": false,
     "start_time": "2025-07-30T21:48:16.777535",
     "status": "completed"
    },
    "tags": []
   },
   "outputs": [],
   "source": [
    "# Miscoverage level for conformal prediction (10% allowed error rate => 90% target coverage)\n",
    "alpha = 0.1"
   ]
  },
  {
   "cell_type": "code",
   "execution_count": 48,
   "id": "eadf4555-3dd3-440e-8e35-f82a4ad9f855",
   "metadata": {
    "execution": {
     "iopub.execute_input": "2025-07-30T21:48:16.856267Z",
     "iopub.status.busy": "2025-07-30T21:48:16.855476Z",
     "iopub.status.idle": "2025-07-30T21:48:17.032729Z",
     "shell.execute_reply": "2025-07-30T21:48:17.031764Z"
    },
    "papermill": {
     "duration": 0.202917,
     "end_time": "2025-07-30T21:48:17.034488",
     "exception": false,
     "start_time": "2025-07-30T21:48:16.831571",
     "status": "completed"
    },
    "tags": []
   },
   "outputs": [],
   "source": [
    "probs_calib = model.predict_proba(X_calib)"
   ]
  },
  {
   "cell_type": "code",
   "execution_count": 49,
   "id": "2ed93547-6d5d-4983-9b36-1ecb300da49a",
   "metadata": {
    "execution": {
     "iopub.execute_input": "2025-07-30T21:48:17.081339Z",
     "iopub.status.busy": "2025-07-30T21:48:17.080858Z",
     "iopub.status.idle": "2025-07-30T21:48:17.086469Z",
     "shell.execute_reply": "2025-07-30T21:48:17.085591Z"
    },
    "papermill": {
     "duration": 0.030084,
     "end_time": "2025-07-30T21:48:17.087972",
     "exception": false,
     "start_time": "2025-07-30T21:48:17.057888",
     "status": "completed"
    },
    "tags": []
   },
   "outputs": [],
   "source": [
    "y_calib = y_calib.values.ravel().astype(int)"
   ]
  },
  {
   "cell_type": "code",
   "execution_count": 50,
   "id": "65d1320d-f588-4b38-9072-62af1ae97f7d",
   "metadata": {
    "execution": {
     "iopub.execute_input": "2025-07-30T21:48:17.138000Z",
     "iopub.status.busy": "2025-07-30T21:48:17.137488Z",
     "iopub.status.idle": "2025-07-30T21:48:17.144504Z",
     "shell.execute_reply": "2025-07-30T21:48:17.143428Z"
    },
    "papermill": {
     "duration": 0.035312,
     "end_time": "2025-07-30T21:48:17.146162",
     "exception": false,
     "start_time": "2025-07-30T21:48:17.110850",
     "status": "completed"
    },
    "tags": []
   },
   "outputs": [],
   "source": [
    "from fairness_multiverse.conformal import compute_nc_scores\n",
    "\n",
    "# Compute nonconformity scores on calibration set (1 - probability of true class)\n",
    "nc_scores = compute_nc_scores(probs_calib, y_calib)"
   ]
  },
  {
   "cell_type": "code",
   "execution_count": 51,
   "id": "df3b8ca3-53b7-43d5-9667-7c85da7aeda2",
   "metadata": {
    "execution": {
     "iopub.execute_input": "2025-07-30T21:48:17.200468Z",
     "iopub.status.busy": "2025-07-30T21:48:17.199964Z",
     "iopub.status.idle": "2025-07-30T21:48:17.206848Z",
     "shell.execute_reply": "2025-07-30T21:48:17.205979Z"
    },
    "papermill": {
     "duration": 0.036156,
     "end_time": "2025-07-30T21:48:17.208592",
     "exception": false,
     "start_time": "2025-07-30T21:48:17.172436",
     "status": "completed"
    },
    "tags": []
   },
   "outputs": [],
   "source": [
    "from fairness_multiverse.conformal import find_threshold\n",
    "\n",
    "# Find conformal threshold q_hat for the given alpha (split conformal method)\n",
    "q_hat = find_threshold(nc_scores, alpha)"
   ]
  },
  {
   "cell_type": "code",
   "execution_count": 52,
   "id": "4d29e6c1-0ef6-4aa4-b8fe-4fe79b0d033a",
   "metadata": {
    "execution": {
     "iopub.execute_input": "2025-07-30T21:48:17.247786Z",
     "iopub.status.busy": "2025-07-30T21:48:17.247398Z",
     "iopub.status.idle": "2025-07-30T21:48:17.254141Z",
     "shell.execute_reply": "2025-07-30T21:48:17.253244Z"
    },
    "papermill": {
     "duration": 0.026817,
     "end_time": "2025-07-30T21:48:17.255442",
     "exception": false,
     "start_time": "2025-07-30T21:48:17.228625",
     "status": "completed"
    },
    "tags": []
   },
   "outputs": [
    {
     "data": {
      "text/plain": [
       "0.7546258781032225"
      ]
     },
     "execution_count": 52,
     "metadata": {},
     "output_type": "execute_result"
    }
   ],
   "source": [
    "q_hat"
   ]
  },
  {
   "cell_type": "code",
   "execution_count": 53,
   "id": "92460794-cdac-4be2-ba28-f28c0515a6fb",
   "metadata": {
    "execution": {
     "iopub.execute_input": "2025-07-30T21:48:17.314316Z",
     "iopub.status.busy": "2025-07-30T21:48:17.313923Z",
     "iopub.status.idle": "2025-07-30T21:48:18.124801Z",
     "shell.execute_reply": "2025-07-30T21:48:18.123741Z"
    },
    "papermill": {
     "duration": 0.851983,
     "end_time": "2025-07-30T21:48:18.126839",
     "exception": false,
     "start_time": "2025-07-30T21:48:17.274856",
     "status": "completed"
    },
    "tags": []
   },
   "outputs": [],
   "source": [
    "from fairness_multiverse.conformal import predict_conformal_sets\n",
    "\n",
    "# Generate prediction sets for each test example\n",
    "pred_sets = predict_conformal_sets(model, X_test, q_hat)"
   ]
  },
  {
   "cell_type": "code",
   "execution_count": 54,
   "id": "d90c9a65-e6db-4f5d-80cd-e68fb7e46829",
   "metadata": {
    "execution": {
     "iopub.execute_input": "2025-07-30T21:48:18.156752Z",
     "iopub.status.busy": "2025-07-30T21:48:18.156234Z",
     "iopub.status.idle": "2025-07-30T21:48:18.160998Z",
     "shell.execute_reply": "2025-07-30T21:48:18.160223Z"
    },
    "papermill": {
     "duration": 0.021027,
     "end_time": "2025-07-30T21:48:18.162335",
     "exception": false,
     "start_time": "2025-07-30T21:48:18.141308",
     "status": "completed"
    },
    "tags": []
   },
   "outputs": [],
   "source": [
    "y_true = y_true.squeeze()"
   ]
  },
  {
   "cell_type": "code",
   "execution_count": 55,
   "id": "3a58a54a-1e68-46b9-927a-df01f18aebc8",
   "metadata": {
    "execution": {
     "iopub.execute_input": "2025-07-30T21:48:18.204965Z",
     "iopub.status.busy": "2025-07-30T21:48:18.203760Z",
     "iopub.status.idle": "2025-07-30T21:48:19.109059Z",
     "shell.execute_reply": "2025-07-30T21:48:19.108159Z"
    },
    "papermill": {
     "duration": 0.932284,
     "end_time": "2025-07-30T21:48:19.111079",
     "exception": false,
     "start_time": "2025-07-30T21:48:18.178795",
     "status": "completed"
    },
    "tags": []
   },
   "outputs": [],
   "source": [
    "from fairness_multiverse.conformal import evaluate_sets\n",
    "\n",
    "# Evaluate coverage and average set size on test data\n",
    "metrics = evaluate_sets(pred_sets, y_true)"
   ]
  },
  {
   "cell_type": "markdown",
   "id": "2b569c12-9aaa-4c88-98c9-bbcd0cf3ebb8",
   "metadata": {
    "papermill": {
     "duration": 0.024713,
     "end_time": "2025-07-30T21:48:19.177140",
     "exception": false,
     "start_time": "2025-07-30T21:48:19.152427",
     "status": "completed"
    },
    "tags": []
   },
   "source": [
    "# CP Metrics"
   ]
  },
  {
   "cell_type": "code",
   "execution_count": 56,
   "id": "5ce0a5cb-201f-45a0-ade5-94c7f0bd6095",
   "metadata": {
    "execution": {
     "iopub.execute_input": "2025-07-30T21:48:19.225828Z",
     "iopub.status.busy": "2025-07-30T21:48:19.225347Z",
     "iopub.status.idle": "2025-07-30T21:48:19.232626Z",
     "shell.execute_reply": "2025-07-30T21:48:19.231618Z"
    },
    "papermill": {
     "duration": 0.031085,
     "end_time": "2025-07-30T21:48:19.234309",
     "exception": false,
     "start_time": "2025-07-30T21:48:19.203224",
     "status": "completed"
    },
    "tags": []
   },
   "outputs": [
    {
     "data": {
      "text/plain": [
       "{'coverage': 0.9074573626128637, 'avg_size': 1.222873704157842}"
      ]
     },
     "execution_count": 56,
     "metadata": {},
     "output_type": "execute_result"
    }
   ],
   "source": [
    "metrics"
   ]
  },
  {
   "cell_type": "code",
   "execution_count": 57,
   "id": "9b9a838d-31c9-430b-ae14-12baee460d17",
   "metadata": {
    "execution": {
     "iopub.execute_input": "2025-07-30T21:48:19.300682Z",
     "iopub.status.busy": "2025-07-30T21:48:19.300144Z",
     "iopub.status.idle": "2025-07-30T21:48:19.307925Z",
     "shell.execute_reply": "2025-07-30T21:48:19.306662Z"
    },
    "papermill": {
     "duration": 0.051153,
     "end_time": "2025-07-30T21:48:19.310183",
     "exception": false,
     "start_time": "2025-07-30T21:48:19.259030",
     "status": "completed"
    },
    "tags": []
   },
   "outputs": [],
   "source": [
    "example_universe = universe.copy()\n",
    "universe_training_year = example_universe.get(\"training_year\")\n",
    "universe_training_size = example_universe.get(\"training_size\")\n",
    "universe_scale = example_universe.get(\"scale\")\n",
    "universe_model = example_universe.get(\"model\")\n",
    "universe_exclude_features = example_universe.get(\"exclude_features\")\n",
    "universe_exclude_subgroups = example_universe.get(\"exclude_subgroups\")"
   ]
  },
  {
   "cell_type": "code",
   "execution_count": 58,
   "id": "f4b6a8ac-9dc0-4245-8a91-5b3b5999c4f9",
   "metadata": {
    "execution": {
     "iopub.execute_input": "2025-07-30T21:48:19.382506Z",
     "iopub.status.busy": "2025-07-30T21:48:19.381985Z",
     "iopub.status.idle": "2025-07-30T21:48:19.389551Z",
     "shell.execute_reply": "2025-07-30T21:48:19.388432Z"
    },
    "papermill": {
     "duration": 0.04619,
     "end_time": "2025-07-30T21:48:19.391725",
     "exception": false,
     "start_time": "2025-07-30T21:48:19.345535",
     "status": "completed"
    },
    "tags": []
   },
   "outputs": [],
   "source": [
    "cp_metrics_dict = {\n",
    "    \"universe_id\": [universe_id],\n",
    "    \"universe_training_year\": [universe_training_year],\n",
    "    \"universe_training_size\": [universe_training_size],\n",
    "    \"universe_scale\": [universe_scale],\n",
    "    \"universe_model\": [universe_model],\n",
    "    \"universe_exclude_features\": [universe_exclude_features],\n",
    "    \"universe_exclude_subgroups\": [universe_exclude_subgroups],\n",
    "    \"q_hat\": [q_hat],\n",
    "    \"coverage\": [metrics[\"coverage\"]],\n",
    "    \"avg_size\": [metrics[\"avg_size\"]],\n",
    "}"
   ]
  },
  {
   "cell_type": "code",
   "execution_count": 59,
   "id": "908acbb1-0371-4915-85ca-3fa520d2efe2",
   "metadata": {
    "execution": {
     "iopub.execute_input": "2025-07-30T21:48:19.461599Z",
     "iopub.status.busy": "2025-07-30T21:48:19.461136Z",
     "iopub.status.idle": "2025-07-30T21:48:19.468494Z",
     "shell.execute_reply": "2025-07-30T21:48:19.467608Z"
    },
    "papermill": {
     "duration": 0.041244,
     "end_time": "2025-07-30T21:48:19.470157",
     "exception": false,
     "start_time": "2025-07-30T21:48:19.428913",
     "status": "completed"
    },
    "tags": []
   },
   "outputs": [
    {
     "data": {
      "text/plain": [
       "{'universe_id': ['9c81e16c631d3315a841a28781df1329'],\n",
       " 'universe_training_year': ['2010_14'],\n",
       " 'universe_training_size': ['1k'],\n",
       " 'universe_scale': ['scale'],\n",
       " 'universe_model': ['elasticnet'],\n",
       " 'universe_exclude_features': ['none'],\n",
       " 'universe_exclude_subgroups': ['keep-all'],\n",
       " 'q_hat': [0.7546258781032225],\n",
       " 'coverage': [0.9074573626128637],\n",
       " 'avg_size': [1.222873704157842]}"
      ]
     },
     "execution_count": 59,
     "metadata": {},
     "output_type": "execute_result"
    }
   ],
   "source": [
    "cp_metrics_dict"
   ]
  },
  {
   "cell_type": "code",
   "execution_count": 60,
   "id": "33007efc-14e9-4ec6-97ac-56a455c82265",
   "metadata": {
    "execution": {
     "iopub.execute_input": "2025-07-30T21:48:19.501985Z",
     "iopub.status.busy": "2025-07-30T21:48:19.501147Z",
     "iopub.status.idle": "2025-07-30T21:48:19.506531Z",
     "shell.execute_reply": "2025-07-30T21:48:19.505853Z"
    },
    "papermill": {
     "duration": 0.023199,
     "end_time": "2025-07-30T21:48:19.507750",
     "exception": false,
     "start_time": "2025-07-30T21:48:19.484551",
     "status": "completed"
    },
    "tags": []
   },
   "outputs": [],
   "source": [
    "cp_metrics_df = pd.DataFrame(cp_metrics_dict)"
   ]
  },
  {
   "cell_type": "code",
   "execution_count": 61,
   "id": "db12611b-57b2-4910-b9d0-355adfd6e7bf",
   "metadata": {
    "execution": {
     "iopub.execute_input": "2025-07-30T21:48:19.538885Z",
     "iopub.status.busy": "2025-07-30T21:48:19.538229Z",
     "iopub.status.idle": "2025-07-30T21:48:19.553267Z",
     "shell.execute_reply": "2025-07-30T21:48:19.552578Z"
    },
    "papermill": {
     "duration": 0.03296,
     "end_time": "2025-07-30T21:48:19.554594",
     "exception": false,
     "start_time": "2025-07-30T21:48:19.521634",
     "status": "completed"
    },
    "tags": []
   },
   "outputs": [
    {
     "data": {
      "text/html": [
       "<div>\n",
       "<style scoped>\n",
       "    .dataframe tbody tr th:only-of-type {\n",
       "        vertical-align: middle;\n",
       "    }\n",
       "\n",
       "    .dataframe tbody tr th {\n",
       "        vertical-align: top;\n",
       "    }\n",
       "\n",
       "    .dataframe thead th {\n",
       "        text-align: right;\n",
       "    }\n",
       "</style>\n",
       "<table border=\"1\" class=\"dataframe\">\n",
       "  <thead>\n",
       "    <tr style=\"text-align: right;\">\n",
       "      <th></th>\n",
       "      <th>universe_id</th>\n",
       "      <th>universe_training_year</th>\n",
       "      <th>universe_training_size</th>\n",
       "      <th>universe_scale</th>\n",
       "      <th>universe_model</th>\n",
       "      <th>universe_exclude_features</th>\n",
       "      <th>universe_exclude_subgroups</th>\n",
       "      <th>q_hat</th>\n",
       "      <th>coverage</th>\n",
       "      <th>avg_size</th>\n",
       "    </tr>\n",
       "  </thead>\n",
       "  <tbody>\n",
       "    <tr>\n",
       "      <th>0</th>\n",
       "      <td>9c81e16c631d3315a841a28781df1329</td>\n",
       "      <td>2010_14</td>\n",
       "      <td>1k</td>\n",
       "      <td>scale</td>\n",
       "      <td>elasticnet</td>\n",
       "      <td>none</td>\n",
       "      <td>keep-all</td>\n",
       "      <td>0.754626</td>\n",
       "      <td>0.907457</td>\n",
       "      <td>1.222874</td>\n",
       "    </tr>\n",
       "  </tbody>\n",
       "</table>\n",
       "</div>"
      ],
      "text/plain": [
       "                        universe_id universe_training_year  \\\n",
       "0  9c81e16c631d3315a841a28781df1329                2010_14   \n",
       "\n",
       "  universe_training_size universe_scale universe_model  \\\n",
       "0                     1k          scale     elasticnet   \n",
       "\n",
       "  universe_exclude_features universe_exclude_subgroups     q_hat  coverage  \\\n",
       "0                      none                   keep-all  0.754626  0.907457   \n",
       "\n",
       "   avg_size  \n",
       "0  1.222874  "
      ]
     },
     "execution_count": 61,
     "metadata": {},
     "output_type": "execute_result"
    }
   ],
   "source": [
    "cp_metrics_df"
   ]
  },
  {
   "cell_type": "code",
   "execution_count": 62,
   "id": "b7fbde55-a0a1-47e4-9af6-fe4a17fa8c61",
   "metadata": {
    "execution": {
     "iopub.execute_input": "2025-07-30T21:48:19.583761Z",
     "iopub.status.busy": "2025-07-30T21:48:19.583241Z",
     "iopub.status.idle": "2025-07-30T21:48:19.589488Z",
     "shell.execute_reply": "2025-07-30T21:48:19.588536Z"
    },
    "papermill": {
     "duration": 0.02815,
     "end_time": "2025-07-30T21:48:19.596490",
     "exception": false,
     "start_time": "2025-07-30T21:48:19.568340",
     "status": "completed"
    },
    "tags": []
   },
   "outputs": [],
   "source": [
    "# Conditional Coverage & looking at subgroups"
   ]
  },
  {
   "cell_type": "code",
   "execution_count": 63,
   "id": "027ae886-68dd-4141-96c7-805a5450e1ef",
   "metadata": {
    "execution": {
     "iopub.execute_input": "2025-07-30T21:48:19.625980Z",
     "iopub.status.busy": "2025-07-30T21:48:19.625458Z",
     "iopub.status.idle": "2025-07-30T21:48:19.863086Z",
     "shell.execute_reply": "2025-07-30T21:48:19.862140Z"
    },
    "papermill": {
     "duration": 0.254105,
     "end_time": "2025-07-30T21:48:19.864791",
     "exception": false,
     "start_time": "2025-07-30T21:48:19.610686",
     "status": "completed"
    },
    "tags": []
   },
   "outputs": [],
   "source": [
    "from fairness_multiverse.conformal import build_cp_groups\n",
    "\n",
    "cp_groups_df = build_cp_groups(pred_sets, y_true, X_test.index, org_test)\n",
    "#needs universe_id and setting"
   ]
  },
  {
   "cell_type": "code",
   "execution_count": 64,
   "id": "01d5802c-663a-4d1f-9d69-e036faaffbf7",
   "metadata": {
    "execution": {
     "iopub.execute_input": "2025-07-30T21:48:19.922015Z",
     "iopub.status.busy": "2025-07-30T21:48:19.921521Z",
     "iopub.status.idle": "2025-07-30T21:48:19.926530Z",
     "shell.execute_reply": "2025-07-30T21:48:19.925745Z"
    },
    "papermill": {
     "duration": 0.049628,
     "end_time": "2025-07-30T21:48:19.942564",
     "exception": false,
     "start_time": "2025-07-30T21:48:19.892936",
     "status": "completed"
    },
    "tags": []
   },
   "outputs": [],
   "source": [
    "#delete\n",
    "#cp_groups_df"
   ]
  },
  {
   "cell_type": "code",
   "execution_count": 65,
   "id": "fa424af1-d1eb-443d-b717-2d279ada8408",
   "metadata": {
    "execution": {
     "iopub.execute_input": "2025-07-30T21:48:20.002830Z",
     "iopub.status.busy": "2025-07-30T21:48:20.002334Z",
     "iopub.status.idle": "2025-07-30T21:48:20.007400Z",
     "shell.execute_reply": "2025-07-30T21:48:20.006324Z"
    },
    "papermill": {
     "duration": 0.035364,
     "end_time": "2025-07-30T21:48:20.009246",
     "exception": false,
     "start_time": "2025-07-30T21:48:19.973882",
     "status": "completed"
    },
    "tags": []
   },
   "outputs": [],
   "source": [
    "#delete\n",
    "#percentage = (cp_groups_df['nongerman_female'] == 1).mean() * 100\n",
    "#print(percentage)\n"
   ]
  },
  {
   "cell_type": "code",
   "execution_count": 66,
   "id": "6cbdab96-b2b2-45af-ad54-d0516db2e28d",
   "metadata": {
    "execution": {
     "iopub.execute_input": "2025-07-30T21:48:20.065443Z",
     "iopub.status.busy": "2025-07-30T21:48:20.064883Z",
     "iopub.status.idle": "2025-07-30T21:48:21.762156Z",
     "shell.execute_reply": "2025-07-30T21:48:21.761173Z"
    },
    "papermill": {
     "duration": 1.726743,
     "end_time": "2025-07-30T21:48:21.764239",
     "exception": false,
     "start_time": "2025-07-30T21:48:20.037496",
     "status": "completed"
    },
    "tags": []
   },
   "outputs": [],
   "source": [
    "# Define covered = 1 if true_label is in the predicted set\n",
    "cp_groups_df['covered'] = cp_groups_df.apply(\n",
    "    lambda r: int(r['true_label'] in r['pred_set']),\n",
    "    axis=1\n",
    ")"
   ]
  },
  {
   "cell_type": "code",
   "execution_count": 67,
   "id": "338ff529-1a6b-4b87-a931-8e4788d52aad",
   "metadata": {
    "execution": {
     "iopub.execute_input": "2025-07-30T21:48:21.821096Z",
     "iopub.status.busy": "2025-07-30T21:48:21.820344Z",
     "iopub.status.idle": "2025-07-30T21:48:21.825229Z",
     "shell.execute_reply": "2025-07-30T21:48:21.824239Z"
    },
    "papermill": {
     "duration": 0.033652,
     "end_time": "2025-07-30T21:48:21.826965",
     "exception": false,
     "start_time": "2025-07-30T21:48:21.793313",
     "status": "completed"
    },
    "tags": []
   },
   "outputs": [],
   "source": [
    "#cp_groups_df"
   ]
  },
  {
   "cell_type": "code",
   "execution_count": 68,
   "id": "90032e27-66df-4540-9169-4e89cfbaa758",
   "metadata": {
    "execution": {
     "iopub.execute_input": "2025-07-30T21:48:21.875750Z",
     "iopub.status.busy": "2025-07-30T21:48:21.875123Z",
     "iopub.status.idle": "2025-07-30T21:48:21.887012Z",
     "shell.execute_reply": "2025-07-30T21:48:21.886092Z"
    },
    "papermill": {
     "duration": 0.037798,
     "end_time": "2025-07-30T21:48:21.888762",
     "exception": false,
     "start_time": "2025-07-30T21:48:21.850964",
     "status": "completed"
    },
    "tags": []
   },
   "outputs": [],
   "source": [
    "subgroups = ['frau1','nongerman','nongerman_male','nongerman_female']\n",
    "\n",
    "# Conditional coverage for subgroup==1\n",
    "cond_coverage = {\n",
    "    g: cp_groups_df.loc[cp_groups_df[g]==1, 'covered'].mean()\n",
    "    for g in subgroups\n",
    "}"
   ]
  },
  {
   "cell_type": "code",
   "execution_count": 69,
   "id": "1e348fb1-b9c3-45bc-ba23-f016827a7e0d",
   "metadata": {
    "execution": {
     "iopub.execute_input": "2025-07-30T21:48:21.938147Z",
     "iopub.status.busy": "2025-07-30T21:48:21.937556Z",
     "iopub.status.idle": "2025-07-30T21:48:21.944278Z",
     "shell.execute_reply": "2025-07-30T21:48:21.943317Z"
    },
    "papermill": {
     "duration": 0.033201,
     "end_time": "2025-07-30T21:48:21.946110",
     "exception": false,
     "start_time": "2025-07-30T21:48:21.912909",
     "status": "completed"
    },
    "tags": []
   },
   "outputs": [
    {
     "data": {
      "text/plain": [
       "{'frau1': 0.9088286831109313,\n",
       " 'nongerman': 0.9153427272216921,\n",
       " 'nongerman_male': 0.9285778618391426,\n",
       " 'nongerman_female': 0.8934426229508197}"
      ]
     },
     "execution_count": 69,
     "metadata": {},
     "output_type": "execute_result"
    }
   ],
   "source": [
    "cond_coverage"
   ]
  },
  {
   "cell_type": "code",
   "execution_count": 70,
   "id": "f5093324-c3dd-4d63-bc4c-8d945e5c8bbb",
   "metadata": {
    "execution": {
     "iopub.execute_input": "2025-07-30T21:48:21.997929Z",
     "iopub.status.busy": "2025-07-30T21:48:21.997194Z",
     "iopub.status.idle": "2025-07-30T21:48:22.004554Z",
     "shell.execute_reply": "2025-07-30T21:48:22.003543Z"
    },
    "papermill": {
     "duration": 0.036375,
     "end_time": "2025-07-30T21:48:22.006191",
     "exception": false,
     "start_time": "2025-07-30T21:48:21.969816",
     "status": "completed"
    },
    "tags": []
   },
   "outputs": [],
   "source": [
    "for subgroup, cov in cond_coverage.items():\n",
    "    cp_metrics_df[f\"cov_{subgroup}\"] = cov"
   ]
  },
  {
   "cell_type": "code",
   "execution_count": 71,
   "id": "6e872e10-dbe5-49e8-b554-5030c98ff75d",
   "metadata": {
    "execution": {
     "iopub.execute_input": "2025-07-30T21:48:22.057488Z",
     "iopub.status.busy": "2025-07-30T21:48:22.056901Z",
     "iopub.status.idle": "2025-07-30T21:48:22.079537Z",
     "shell.execute_reply": "2025-07-30T21:48:22.078453Z"
    },
    "papermill": {
     "duration": 0.054668,
     "end_time": "2025-07-30T21:48:22.083738",
     "exception": false,
     "start_time": "2025-07-30T21:48:22.029070",
     "status": "completed"
    },
    "tags": []
   },
   "outputs": [
    {
     "data": {
      "text/html": [
       "<div>\n",
       "<style scoped>\n",
       "    .dataframe tbody tr th:only-of-type {\n",
       "        vertical-align: middle;\n",
       "    }\n",
       "\n",
       "    .dataframe tbody tr th {\n",
       "        vertical-align: top;\n",
       "    }\n",
       "\n",
       "    .dataframe thead th {\n",
       "        text-align: right;\n",
       "    }\n",
       "</style>\n",
       "<table border=\"1\" class=\"dataframe\">\n",
       "  <thead>\n",
       "    <tr style=\"text-align: right;\">\n",
       "      <th></th>\n",
       "      <th>universe_id</th>\n",
       "      <th>universe_training_year</th>\n",
       "      <th>universe_training_size</th>\n",
       "      <th>universe_scale</th>\n",
       "      <th>universe_model</th>\n",
       "      <th>universe_exclude_features</th>\n",
       "      <th>universe_exclude_subgroups</th>\n",
       "      <th>q_hat</th>\n",
       "      <th>coverage</th>\n",
       "      <th>avg_size</th>\n",
       "      <th>cov_frau1</th>\n",
       "      <th>cov_nongerman</th>\n",
       "      <th>cov_nongerman_male</th>\n",
       "      <th>cov_nongerman_female</th>\n",
       "    </tr>\n",
       "  </thead>\n",
       "  <tbody>\n",
       "    <tr>\n",
       "      <th>0</th>\n",
       "      <td>9c81e16c631d3315a841a28781df1329</td>\n",
       "      <td>2010_14</td>\n",
       "      <td>1k</td>\n",
       "      <td>scale</td>\n",
       "      <td>elasticnet</td>\n",
       "      <td>none</td>\n",
       "      <td>keep-all</td>\n",
       "      <td>0.754626</td>\n",
       "      <td>0.907457</td>\n",
       "      <td>1.222874</td>\n",
       "      <td>0.908829</td>\n",
       "      <td>0.915343</td>\n",
       "      <td>0.928578</td>\n",
       "      <td>0.893443</td>\n",
       "    </tr>\n",
       "  </tbody>\n",
       "</table>\n",
       "</div>"
      ],
      "text/plain": [
       "                        universe_id universe_training_year  \\\n",
       "0  9c81e16c631d3315a841a28781df1329                2010_14   \n",
       "\n",
       "  universe_training_size universe_scale universe_model  \\\n",
       "0                     1k          scale     elasticnet   \n",
       "\n",
       "  universe_exclude_features universe_exclude_subgroups     q_hat  coverage  \\\n",
       "0                      none                   keep-all  0.754626  0.907457   \n",
       "\n",
       "   avg_size  cov_frau1  cov_nongerman  cov_nongerman_male  \\\n",
       "0  1.222874   0.908829       0.915343            0.928578   \n",
       "\n",
       "   cov_nongerman_female  \n",
       "0              0.893443  "
      ]
     },
     "execution_count": 71,
     "metadata": {},
     "output_type": "execute_result"
    }
   ],
   "source": [
    "cp_metrics_df"
   ]
  },
  {
   "cell_type": "markdown",
   "id": "33774451",
   "metadata": {
    "papermill": {
     "duration": 0.014043,
     "end_time": "2025-07-30T21:48:22.114051",
     "exception": false,
     "start_time": "2025-07-30T21:48:22.100008",
     "status": "completed"
    },
    "tags": []
   },
   "source": [
    "# (Fairness) Metrics"
   ]
  },
  {
   "cell_type": "code",
   "execution_count": 72,
   "id": "debc5d62",
   "metadata": {
    "execution": {
     "iopub.execute_input": "2025-07-30T21:48:22.151628Z",
     "iopub.status.busy": "2025-07-30T21:48:22.151303Z",
     "iopub.status.idle": "2025-07-30T21:48:22.165888Z",
     "shell.execute_reply": "2025-07-30T21:48:22.164999Z"
    },
    "papermill": {
     "duration": 0.03684,
     "end_time": "2025-07-30T21:48:22.167185",
     "exception": false,
     "start_time": "2025-07-30T21:48:22.130345",
     "status": "completed"
    },
    "tags": []
   },
   "outputs": [],
   "source": [
    "# do I need to include maxdeutsch1.missing?\n",
    "\n",
    "import numpy as np\n",
    "\n",
    "colname_to_bin = \"maxdeutsch1\"\n",
    "majority_value = org_train[colname_to_bin].mode()[0]\n",
    "\n",
    "org_test[\"majmin\"] = np.where(org_test[colname_to_bin] == majority_value, \"majority\", \"minority\")"
   ]
  },
  {
   "cell_type": "code",
   "execution_count": 73,
   "id": "06a50de5",
   "metadata": {
    "execution": {
     "iopub.execute_input": "2025-07-30T21:48:22.219424Z",
     "iopub.status.busy": "2025-07-30T21:48:22.218888Z",
     "iopub.status.idle": "2025-07-30T21:48:24.968303Z",
     "shell.execute_reply": "2025-07-30T21:48:24.967283Z"
    },
    "papermill": {
     "duration": 2.782151,
     "end_time": "2025-07-30T21:48:24.970061",
     "exception": false,
     "start_time": "2025-07-30T21:48:22.187910",
     "status": "completed"
    },
    "tags": []
   },
   "outputs": [],
   "source": [
    "example_universe = universe.copy()\n",
    "example_universe[\"cutoff\"] = example_universe[\"cutoff\"][0]\n",
    "example_universe[\"eval_fairness_grouping\"] = example_universe[\"eval_fairness_grouping\"][0]\n",
    "fairness_dict, metric_frame = universe_analysis.compute_metrics(\n",
    "    example_universe,\n",
    "    y_pred_prob=probs_test,\n",
    "    y_test=y_true,\n",
    "    org_test=org_test,\n",
    ")"
   ]
  },
  {
   "cell_type": "markdown",
   "id": "f95d4e02",
   "metadata": {
    "papermill": {
     "duration": 0.027547,
     "end_time": "2025-07-30T21:48:25.026643",
     "exception": false,
     "start_time": "2025-07-30T21:48:24.999096",
     "status": "completed"
    },
    "tags": []
   },
   "source": [
    "# Overall"
   ]
  },
  {
   "cell_type": "markdown",
   "id": "bdee4871",
   "metadata": {
    "papermill": {
     "duration": 0.026929,
     "end_time": "2025-07-30T21:48:25.078750",
     "exception": false,
     "start_time": "2025-07-30T21:48:25.051821",
     "status": "completed"
    },
    "tags": []
   },
   "source": [
    "Fairness\n",
    "Main fairness target: Equalized Odds. Seems to be a better fit than equal opportunity, since we're not only interested in Y = 1. Seems to be a better fit than demographic parity, since we also care about accuracy, not just equal distribution of preds.\n",
    "\n",
    "Pick column for computation of fairness metrics\n",
    "\n",
    "Performance\n",
    "Overall performance measures, most interesting in relation to the measures split by group below"
   ]
  },
  {
   "cell_type": "code",
   "execution_count": 74,
   "id": "c4e067c6",
   "metadata": {
    "execution": {
     "iopub.execute_input": "2025-07-30T21:48:25.134524Z",
     "iopub.status.busy": "2025-07-30T21:48:25.133978Z",
     "iopub.status.idle": "2025-07-30T21:48:25.143066Z",
     "shell.execute_reply": "2025-07-30T21:48:25.142175Z"
    },
    "papermill": {
     "duration": 0.040063,
     "end_time": "2025-07-30T21:48:25.144779",
     "exception": false,
     "start_time": "2025-07-30T21:48:25.104716",
     "status": "completed"
    },
    "tags": []
   },
   "outputs": [
    {
     "data": {
      "text/plain": [
       "accuracy                   0.218894\n",
       "balanced accuracy          0.536374\n",
       "f1                         0.240376\n",
       "precision                  0.137319\n",
       "false positive rate        0.890668\n",
       "false negative rate        0.036583\n",
       "selection rate             0.900000\n",
       "count                  89710.000000\n",
       "dtype: float64"
      ]
     },
     "execution_count": 74,
     "metadata": {},
     "output_type": "execute_result"
    }
   ],
   "source": [
    "metric_frame.overall"
   ]
  },
  {
   "cell_type": "markdown",
   "id": "e968fe9d",
   "metadata": {
    "papermill": {
     "duration": 0.027299,
     "end_time": "2025-07-30T21:48:25.199281",
     "exception": false,
     "start_time": "2025-07-30T21:48:25.171982",
     "status": "completed"
    },
    "tags": []
   },
   "source": [
    "By Group"
   ]
  },
  {
   "cell_type": "code",
   "execution_count": 75,
   "id": "ec325bce",
   "metadata": {
    "execution": {
     "iopub.execute_input": "2025-07-30T21:48:25.253332Z",
     "iopub.status.busy": "2025-07-30T21:48:25.252948Z",
     "iopub.status.idle": "2025-07-30T21:48:25.269959Z",
     "shell.execute_reply": "2025-07-30T21:48:25.268927Z"
    },
    "papermill": {
     "duration": 0.04684,
     "end_time": "2025-07-30T21:48:25.272170",
     "exception": false,
     "start_time": "2025-07-30T21:48:25.225330",
     "status": "completed"
    },
    "tags": []
   },
   "outputs": [
    {
     "data": {
      "text/html": [
       "<div>\n",
       "<style scoped>\n",
       "    .dataframe tbody tr th:only-of-type {\n",
       "        vertical-align: middle;\n",
       "    }\n",
       "\n",
       "    .dataframe tbody tr th {\n",
       "        vertical-align: top;\n",
       "    }\n",
       "\n",
       "    .dataframe thead th {\n",
       "        text-align: right;\n",
       "    }\n",
       "</style>\n",
       "<table border=\"1\" class=\"dataframe\">\n",
       "  <thead>\n",
       "    <tr style=\"text-align: right;\">\n",
       "      <th></th>\n",
       "      <th>accuracy</th>\n",
       "      <th>balanced accuracy</th>\n",
       "      <th>f1</th>\n",
       "      <th>precision</th>\n",
       "      <th>false positive rate</th>\n",
       "      <th>false negative rate</th>\n",
       "      <th>selection rate</th>\n",
       "      <th>count</th>\n",
       "    </tr>\n",
       "    <tr>\n",
       "      <th>majmin</th>\n",
       "      <th></th>\n",
       "      <th></th>\n",
       "      <th></th>\n",
       "      <th></th>\n",
       "      <th></th>\n",
       "      <th></th>\n",
       "      <th></th>\n",
       "      <th></th>\n",
       "    </tr>\n",
       "  </thead>\n",
       "  <tbody>\n",
       "    <tr>\n",
       "      <th>majority</th>\n",
       "      <td>0.232210</td>\n",
       "      <td>0.541098</td>\n",
       "      <td>0.24855</td>\n",
       "      <td>0.142734</td>\n",
       "      <td>0.878744</td>\n",
       "      <td>0.039059</td>\n",
       "      <td>0.889605</td>\n",
       "      <td>69170.0</td>\n",
       "    </tr>\n",
       "    <tr>\n",
       "      <th>minority</th>\n",
       "      <td>0.174051</td>\n",
       "      <td>0.521458</td>\n",
       "      <td>0.21360</td>\n",
       "      <td>0.119969</td>\n",
       "      <td>0.930057</td>\n",
       "      <td>0.027027</td>\n",
       "      <td>0.935005</td>\n",
       "      <td>20540.0</td>\n",
       "    </tr>\n",
       "  </tbody>\n",
       "</table>\n",
       "</div>"
      ],
      "text/plain": [
       "          accuracy  balanced accuracy       f1  precision  \\\n",
       "majmin                                                      \n",
       "majority  0.232210           0.541098  0.24855   0.142734   \n",
       "minority  0.174051           0.521458  0.21360   0.119969   \n",
       "\n",
       "          false positive rate  false negative rate  selection rate    count  \n",
       "majmin                                                                       \n",
       "majority             0.878744             0.039059        0.889605  69170.0  \n",
       "minority             0.930057             0.027027        0.935005  20540.0  "
      ]
     },
     "execution_count": 75,
     "metadata": {},
     "output_type": "execute_result"
    }
   ],
   "source": [
    "metric_frame.by_group"
   ]
  },
  {
   "cell_type": "code",
   "execution_count": 76,
   "id": "a9ddbe63",
   "metadata": {
    "execution": {
     "iopub.execute_input": "2025-07-30T21:48:25.326448Z",
     "iopub.status.busy": "2025-07-30T21:48:25.325890Z",
     "iopub.status.idle": "2025-07-30T21:48:27.518190Z",
     "shell.execute_reply": "2025-07-30T21:48:27.517272Z"
    },
    "papermill": {
     "duration": 2.220102,
     "end_time": "2025-07-30T21:48:27.519842",
     "exception": false,
     "start_time": "2025-07-30T21:48:25.299740",
     "status": "completed"
    },
    "tags": []
   },
   "outputs": [
    {
     "data": {
      "text/plain": [
       "array([[<Axes: title={'center': 'accuracy'}, xlabel='majmin'>,\n",
       "        <Axes: title={'center': 'balanced accuracy'}, xlabel='majmin'>,\n",
       "        <Axes: title={'center': 'f1'}, xlabel='majmin'>],\n",
       "       [<Axes: title={'center': 'precision'}, xlabel='majmin'>,\n",
       "        <Axes: title={'center': 'false positive rate'}, xlabel='majmin'>,\n",
       "        <Axes: title={'center': 'false negative rate'}, xlabel='majmin'>],\n",
       "       [<Axes: title={'center': 'selection rate'}, xlabel='majmin'>,\n",
       "        <Axes: title={'center': 'count'}, xlabel='majmin'>,\n",
       "        <Axes: xlabel='majmin'>]], dtype=object)"
      ]
     },
     "execution_count": 76,
     "metadata": {},
     "output_type": "execute_result"
    },
    {
     "data": {
      "image/png": "[encoded data removed]",
      "text/plain": [
       "<Figure size 1200x800 with 9 Axes>"
      ]
     },
     "metadata": {},
     "output_type": "display_data"
    }
   ],
   "source": [
    "# In a graphic\n",
    "metric_frame.by_group.plot.bar(\n",
    "    subplots=True,\n",
    "    layout=[3, 3],\n",
    "    legend=False,\n",
    "    figsize=[12, 8],\n",
    "    title=\"Show all metrics\",\n",
    ")"
   ]
  },
  {
   "cell_type": "markdown",
   "id": "f57a0bac",
   "metadata": {
    "papermill": {
     "duration": 0.027954,
     "end_time": "2025-07-30T21:48:27.578766",
     "exception": false,
     "start_time": "2025-07-30T21:48:27.550812",
     "status": "completed"
    },
    "tags": []
   },
   "source": [
    "# Final Output"
   ]
  },
  {
   "cell_type": "code",
   "execution_count": 77,
   "id": "96d280a3",
   "metadata": {
    "execution": {
     "iopub.execute_input": "2025-07-30T21:48:27.636557Z",
     "iopub.status.busy": "2025-07-30T21:48:27.635816Z",
     "iopub.status.idle": "2025-07-30T21:48:27.644468Z",
     "shell.execute_reply": "2025-07-30T21:48:27.643440Z"
    },
    "papermill": {
     "duration": 0.040541,
     "end_time": "2025-07-30T21:48:27.645901",
     "exception": false,
     "start_time": "2025-07-30T21:48:27.605360",
     "status": "completed"
    },
    "tags": []
   },
   "outputs": [
    {
     "data": {
      "text/plain": [
       "4"
      ]
     },
     "execution_count": 77,
     "metadata": {},
     "output_type": "execute_result"
    }
   ],
   "source": [
    "sub_universes = universe_analysis.generate_sub_universes()\n",
    "len(sub_universes)"
   ]
  },
  {
   "cell_type": "code",
   "execution_count": 78,
   "id": "92adf7ba",
   "metadata": {
    "execution": {
     "iopub.execute_input": "2025-07-30T21:48:27.700962Z",
     "iopub.status.busy": "2025-07-30T21:48:27.700130Z",
     "iopub.status.idle": "2025-07-30T21:48:27.705951Z",
     "shell.execute_reply": "2025-07-30T21:48:27.705057Z"
    },
    "papermill": {
     "duration": 0.035856,
     "end_time": "2025-07-30T21:48:27.708164",
     "exception": false,
     "start_time": "2025-07-30T21:48:27.672308",
     "status": "completed"
    },
    "tags": []
   },
   "outputs": [],
   "source": [
    "def filter_sub_universe_data(sub_universe, org_test):\n",
    "    # Keep all rows — no filtering\n",
    "    keep_rows_mask = np.ones(org_test.shape[0], dtype=bool)\n",
    "\n",
    "    print(f\"[INFO] Keeping all rows: {keep_rows_mask.sum()} rows retained.\")\n",
    "    return keep_rows_mask"
   ]
  },
  {
   "cell_type": "code",
   "execution_count": 79,
   "id": "4a759155",
   "metadata": {
    "execution": {
     "iopub.execute_input": "2025-07-30T21:48:27.767272Z",
     "iopub.status.busy": "2025-07-30T21:48:27.766312Z",
     "iopub.status.idle": "2025-07-30T21:48:38.701262Z",
     "shell.execute_reply": "2025-07-30T21:48:38.700150Z"
    },
    "papermill": {
     "duration": 10.966934,
     "end_time": "2025-07-30T21:48:38.702950",
     "exception": false,
     "start_time": "2025-07-30T21:48:27.736016",
     "status": "completed"
    },
    "tags": []
   },
   "outputs": [
    {
     "name": "stdout",
     "output_type": "stream",
     "text": [
      "Stopping execution_time clock.\n",
      "[INFO] Keeping all rows: 89710 rows retained.\n"
     ]
    },
    {
     "name": "stdout",
     "output_type": "stream",
     "text": [
      "[INFO] Keeping all rows: 89710 rows retained.\n"
     ]
    },
    {
     "name": "stdout",
     "output_type": "stream",
     "text": [
      "[INFO] Keeping all rows: 89710 rows retained.\n"
     ]
    },
    {
     "name": "stdout",
     "output_type": "stream",
     "text": [
      "[INFO] Keeping all rows: 89710 rows retained.\n"
     ]
    },
    {
     "data": {
      "text/html": [
       "<div>\n",
       "<style scoped>\n",
       "    .dataframe tbody tr th:only-of-type {\n",
       "        vertical-align: middle;\n",
       "    }\n",
       "\n",
       "    .dataframe tbody tr th {\n",
       "        vertical-align: top;\n",
       "    }\n",
       "\n",
       "    .dataframe thead th {\n",
       "        text-align: right;\n",
       "    }\n",
       "</style>\n",
       "<table border=\"1\" class=\"dataframe\">\n",
       "  <thead>\n",
       "    <tr style=\"text-align: right;\">\n",
       "      <th></th>\n",
       "      <th>run_no</th>\n",
       "      <th>universe_id</th>\n",
       "      <th>universe_settings</th>\n",
       "      <th>execution_time</th>\n",
       "      <th>test_size_n</th>\n",
       "      <th>test_size_frac</th>\n",
       "      <th>fair_main_equalized_odds_difference</th>\n",
       "      <th>fair_main_equalized_odds_ratio</th>\n",
       "      <th>fair_main_demographic_parity_difference</th>\n",
       "      <th>fair_main_demographic_parity_ratio</th>\n",
       "      <th>...</th>\n",
       "      <th>perf_grp_precision_0</th>\n",
       "      <th>perf_grp_precision_1</th>\n",
       "      <th>perf_grp_false positive rate_0</th>\n",
       "      <th>perf_grp_false positive rate_1</th>\n",
       "      <th>perf_grp_false negative rate_0</th>\n",
       "      <th>perf_grp_false negative rate_1</th>\n",
       "      <th>perf_grp_selection rate_0</th>\n",
       "      <th>perf_grp_selection rate_1</th>\n",
       "      <th>perf_grp_count_0</th>\n",
       "      <th>perf_grp_count_1</th>\n",
       "    </tr>\n",
       "  </thead>\n",
       "  <tbody>\n",
       "    <tr>\n",
       "      <th>0</th>\n",
       "      <td>14</td>\n",
       "      <td>9c81e16c631d3315a841a28781df1329</td>\n",
       "      <td>{\"cutoff\": \"quantile_0.1\", \"eval_fairness_grou...</td>\n",
       "      <td>32.00893</td>\n",
       "      <td>89710</td>\n",
       "      <td>1.0</td>\n",
       "      <td>0.051313</td>\n",
       "      <td>0.944828</td>\n",
       "      <td>0.04540</td>\n",
       "      <td>0.951445</td>\n",
       "      <td>...</td>\n",
       "      <td>NaN</td>\n",
       "      <td>NaN</td>\n",
       "      <td>NaN</td>\n",
       "      <td>NaN</td>\n",
       "      <td>NaN</td>\n",
       "      <td>NaN</td>\n",
       "      <td>NaN</td>\n",
       "      <td>NaN</td>\n",
       "      <td>NaN</td>\n",
       "      <td>NaN</td>\n",
       "    </tr>\n",
       "    <tr>\n",
       "      <th>0</th>\n",
       "      <td>14</td>\n",
       "      <td>9c81e16c631d3315a841a28781df1329</td>\n",
       "      <td>{\"cutoff\": \"quantile_0.1\", \"eval_fairness_grou...</td>\n",
       "      <td>32.00893</td>\n",
       "      <td>89710</td>\n",
       "      <td>1.0</td>\n",
       "      <td>0.051313</td>\n",
       "      <td>0.944828</td>\n",
       "      <td>0.04540</td>\n",
       "      <td>0.951445</td>\n",
       "      <td>...</td>\n",
       "      <td>0.119969</td>\n",
       "      <td>0.142734</td>\n",
       "      <td>0.930057</td>\n",
       "      <td>0.878744</td>\n",
       "      <td>0.027027</td>\n",
       "      <td>0.039059</td>\n",
       "      <td>0.935005</td>\n",
       "      <td>0.889605</td>\n",
       "      <td>20540.0</td>\n",
       "      <td>69170.0</td>\n",
       "    </tr>\n",
       "    <tr>\n",
       "      <th>0</th>\n",
       "      <td>14</td>\n",
       "      <td>9c81e16c631d3315a841a28781df1329</td>\n",
       "      <td>{\"cutoff\": \"quantile_0.25\", \"eval_fairness_gro...</td>\n",
       "      <td>32.00893</td>\n",
       "      <td>89710</td>\n",
       "      <td>1.0</td>\n",
       "      <td>0.104624</td>\n",
       "      <td>0.884216</td>\n",
       "      <td>0.04956</td>\n",
       "      <td>0.934905</td>\n",
       "      <td>...</td>\n",
       "      <td>NaN</td>\n",
       "      <td>NaN</td>\n",
       "      <td>NaN</td>\n",
       "      <td>NaN</td>\n",
       "      <td>NaN</td>\n",
       "      <td>NaN</td>\n",
       "      <td>NaN</td>\n",
       "      <td>NaN</td>\n",
       "      <td>NaN</td>\n",
       "      <td>NaN</td>\n",
       "    </tr>\n",
       "    <tr>\n",
       "      <th>0</th>\n",
       "      <td>14</td>\n",
       "      <td>9c81e16c631d3315a841a28781df1329</td>\n",
       "      <td>{\"cutoff\": \"quantile_0.25\", \"eval_fairness_gro...</td>\n",
       "      <td>32.00893</td>\n",
       "      <td>89710</td>\n",
       "      <td>1.0</td>\n",
       "      <td>0.104624</td>\n",
       "      <td>0.884216</td>\n",
       "      <td>0.04956</td>\n",
       "      <td>0.934905</td>\n",
       "      <td>...</td>\n",
       "      <td>0.129412</td>\n",
       "      <td>0.156830</td>\n",
       "      <td>0.700418</td>\n",
       "      <td>0.739680</td>\n",
       "      <td>0.201014</td>\n",
       "      <td>0.096389</td>\n",
       "      <td>0.711782</td>\n",
       "      <td>0.761342</td>\n",
       "      <td>20540.0</td>\n",
       "      <td>69170.0</td>\n",
       "    </tr>\n",
       "  </tbody>\n",
       "</table>\n",
       "<p>4 rows × 50 columns</p>\n",
       "</div>"
      ],
      "text/plain": [
       "  run_no                       universe_id  \\\n",
       "0     14  9c81e16c631d3315a841a28781df1329   \n",
       "0     14  9c81e16c631d3315a841a28781df1329   \n",
       "0     14  9c81e16c631d3315a841a28781df1329   \n",
       "0     14  9c81e16c631d3315a841a28781df1329   \n",
       "\n",
       "                                   universe_settings  execution_time  \\\n",
       "0  {\"cutoff\": \"quantile_0.1\", \"eval_fairness_grou...        32.00893   \n",
       "0  {\"cutoff\": \"quantile_0.1\", \"eval_fairness_grou...        32.00893   \n",
       "0  {\"cutoff\": \"quantile_0.25\", \"eval_fairness_gro...        32.00893   \n",
       "0  {\"cutoff\": \"quantile_0.25\", \"eval_fairness_gro...        32.00893   \n",
       "\n",
       "   test_size_n  test_size_frac  fair_main_equalized_odds_difference  \\\n",
       "0        89710             1.0                             0.051313   \n",
       "0        89710             1.0                             0.051313   \n",
       "0        89710             1.0                             0.104624   \n",
       "0        89710             1.0                             0.104624   \n",
       "\n",
       "   fair_main_equalized_odds_ratio  fair_main_demographic_parity_difference  \\\n",
       "0                        0.944828                                  0.04540   \n",
       "0                        0.944828                                  0.04540   \n",
       "0                        0.884216                                  0.04956   \n",
       "0                        0.884216                                  0.04956   \n",
       "\n",
       "   fair_main_demographic_parity_ratio  ...  perf_grp_precision_0  \\\n",
       "0                            0.951445  ...                   NaN   \n",
       "0                            0.951445  ...              0.119969   \n",
       "0                            0.934905  ...                   NaN   \n",
       "0                            0.934905  ...              0.129412   \n",
       "\n",
       "   perf_grp_precision_1  perf_grp_false positive rate_0  \\\n",
       "0                   NaN                             NaN   \n",
       "0              0.142734                        0.930057   \n",
       "0                   NaN                             NaN   \n",
       "0              0.156830                        0.700418   \n",
       "\n",
       "   perf_grp_false positive rate_1  perf_grp_false negative rate_0  \\\n",
       "0                             NaN                             NaN   \n",
       "0                        0.878744                        0.027027   \n",
       "0                             NaN                             NaN   \n",
       "0                        0.739680                        0.201014   \n",
       "\n",
       "   perf_grp_false negative rate_1  perf_grp_selection rate_0  \\\n",
       "0                             NaN                        NaN   \n",
       "0                        0.039059                   0.935005   \n",
       "0                             NaN                        NaN   \n",
       "0                        0.096389                   0.711782   \n",
       "\n",
       "   perf_grp_selection rate_1  perf_grp_count_0  perf_grp_count_1  \n",
       "0                        NaN               NaN               NaN  \n",
       "0                   0.889605           20540.0           69170.0  \n",
       "0                        NaN               NaN               NaN  \n",
       "0                   0.761342           20540.0           69170.0  \n",
       "\n",
       "[4 rows x 50 columns]"
      ]
     },
     "execution_count": 79,
     "metadata": {},
     "output_type": "execute_result"
    }
   ],
   "source": [
    "final_output = universe_analysis.generate_final_output(\n",
    "    y_pred_prob=probs_test,\n",
    "    y_test=y_true,\n",
    "    org_test=org_test,\n",
    "    filter_data=filter_sub_universe_data,\n",
    "    cp_metrics_df=cp_metrics_df,\n",
    "    save=True,\n",
    ")\n",
    "final_output"
   ]
  },
  {
   "cell_type": "code",
   "execution_count": null,
   "id": "721ff514-cb11-46f8-b6fc-50392f74b5cb",
   "metadata": {
    "papermill": {
     "duration": 0.024083,
     "end_time": "2025-07-30T21:48:38.765382",
     "exception": false,
     "start_time": "2025-07-30T21:48:38.741299",
     "status": "completed"
    },
    "tags": []
   },
   "outputs": [],
   "source": []
  }
 ],
 "metadata": {
  "celltoolbar": "Tags",
  "kernelspec": {
   "display_name": "Python (CMA Fairness)",
   "language": "python",
   "name": "cma_fair_env"
  },
  "language_info": {
   "codemirror_mode": {
    "name": "ipython",
    "version": 3
   },
   "file_extension": ".py",
   "mimetype": "text/x-python",
   "name": "python",
   "nbconvert_exporter": "python",
   "pygments_lexer": "ipython3",
   "version": "3.10.12"
  },
  "papermill": {
   "default_parameters": {},
   "duration": 50.640075,
   "end_time": "2025-07-30T21:48:39.609208",
   "environment_variables": {},
   "exception": null,
   "input_path": "universe_analysis.ipynb",
   "output_path": "output/runs/14/notebooks/m_14-9c81e16c631d3315a841a28781df1329.ipynb",
   "parameters": {
    "output_dir": "output",
    "run_no": "14",
    "seed": "2023",
    "universe": "{\"cutoff\": [\"quantile_0.1\", \"quantile_0.25\"], \"eval_fairness_grouping\": [\"majority-minority\", \"nationality-all\"], \"exclude_features\": \"none\", \"exclude_subgroups\": \"keep-all\", \"model\": \"elasticnet\", \"scale\": \"scale\", \"training_size\": \"1k\", \"training_year\": \"2010_14\"}",
    "universe_id": "9c81e16c631d3315a841a28781df1329"
   },
   "start_time": "2025-07-30T21:47:48.969133",
   "version": "2.6.0"
  }
 },
 "nbformat": 4,
 "nbformat_minor": 5
}