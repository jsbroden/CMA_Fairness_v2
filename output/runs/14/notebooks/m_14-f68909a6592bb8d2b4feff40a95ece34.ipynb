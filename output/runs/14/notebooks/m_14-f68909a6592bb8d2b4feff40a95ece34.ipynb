{
 "cells": [
  {
   "cell_type": "code",
   "execution_count": 1,
   "id": "f159f837-637b-42ba-96b5-ec9a68c44524",
   "metadata": {
    "execution": {
     "iopub.execute_input": "2025-07-30T21:08:48.388251Z",
     "iopub.status.busy": "2025-07-30T21:08:48.387346Z",
     "iopub.status.idle": "2025-07-30T21:08:48.400284Z",
     "shell.execute_reply": "2025-07-30T21:08:48.399338Z"
    },
    "papermill": {
     "duration": 0.038516,
     "end_time": "2025-07-30T21:08:48.402753",
     "exception": false,
     "start_time": "2025-07-30T21:08:48.364237",
     "status": "completed"
    },
    "tags": []
   },
   "outputs": [
    {
     "name": "stdout",
     "output_type": "stream",
     "text": [
      "/dss/dsshome1/0C/ra93lal2/cma/CMA_Fairness_v2\n"
     ]
    },
    {
     "name": "stderr",
     "output_type": "stream",
     "text": [
      "/dss/dsshome1/0C/ra93lal2/.local/share/virtualenvs/CMA_Fairness_v2-3j10GkSs/lib/python3.10/site-packages/IPython/core/magics/osm.py:393: UserWarning: This is now an optional IPython functionality, using bookmarks requires you to install the `pickleshare` library.\n",
      "  bkms = self.shell.db.get('bookmarks', {})\n",
      "/dss/dsshome1/0C/ra93lal2/.local/share/virtualenvs/CMA_Fairness_v2-3j10GkSs/lib/python3.10/site-packages/IPython/core/magics/osm.py:417: UserWarning: This is now an optional IPython functionality, setting dhist requires you to install the `pickleshare` library.\n",
      "  self.shell.db['dhist'] = compress_dhist(dhist)[-100:]\n"
     ]
    }
   ],
   "source": [
    "%cd ~/cma/CMA_Fairness_v2"
   ]
  },
  {
   "cell_type": "markdown",
   "id": "de2603b9",
   "metadata": {
    "papermill": {
     "duration": 0.018252,
     "end_time": "2025-07-30T21:08:48.440462",
     "exception": false,
     "start_time": "2025-07-30T21:08:48.422210",
     "status": "completed"
    },
    "tags": []
   },
   "source": [
    "The following cell holds the definition of our parameters, these values can be overriden by rendering the with e.g. the following command:\n",
    "\n",
    "papermill -p alpha 0.2 -p ratio 0.3 universe_analysis.ipynb output/test_run.ipynb"
   ]
  },
  {
   "cell_type": "code",
   "execution_count": 2,
   "id": "a80968a0-40bb-4fa9-85ef-2d5eefb01975",
   "metadata": {
    "execution": {
     "iopub.execute_input": "2025-07-30T21:08:48.480037Z",
     "iopub.status.busy": "2025-07-30T21:08:48.479276Z",
     "iopub.status.idle": "2025-07-30T21:08:48.484589Z",
     "shell.execute_reply": "2025-07-30T21:08:48.483733Z"
    },
    "papermill": {
     "duration": 0.026339,
     "end_time": "2025-07-30T21:08:48.486118",
     "exception": false,
     "start_time": "2025-07-30T21:08:48.459779",
     "status": "completed"
    },
    "tags": []
   },
   "outputs": [
    {
     "name": "stdout",
     "output_type": "stream",
     "text": [
      "Current working directory: /dss/dsshome1/0C/ra93lal2/cma/CMA_Fairness_v2\n"
     ]
    }
   ],
   "source": [
    "import os\n",
    "print(\"Current working directory:\", os.getcwd())"
   ]
  },
  {
   "cell_type": "code",
   "execution_count": 3,
   "id": "2dce4c03",
   "metadata": {
    "execution": {
     "iopub.execute_input": "2025-07-30T21:08:48.526265Z",
     "iopub.status.busy": "2025-07-30T21:08:48.525508Z",
     "iopub.status.idle": "2025-07-30T21:08:48.531265Z",
     "shell.execute_reply": "2025-07-30T21:08:48.530463Z"
    },
    "papermill": {
     "duration": 0.027121,
     "end_time": "2025-07-30T21:08:48.532791",
     "exception": false,
     "start_time": "2025-07-30T21:08:48.505670",
     "status": "completed"
    },
    "tags": [
     "parameters"
    ]
   },
   "outputs": [],
   "source": [
    "run_no = 0\n",
    "universe_id = \"test\"\n",
    "universe = {\n",
    "    \"training_size\": \"25k\", # \"25k\", \"5k\", \"1k\"\n",
    "    \"training_year\": \"2014\", # \"2014\", \"2012_14\", \"2010_14\"\n",
    "    \"scale\": \"scale\", # \"scale\", \"do-not-scale\",\n",
    "    #\"stratify_split\": \"target\", # \"none\", \"target\", \"protected-attribute\", \"both\",\n",
    "    \"model\": \"elasticnet\", # \"logreg\", \"penalized_logreg\", \"rf\", \"gbm\", \"elasticnet\"\n",
    "    \"cutoff\": [\"quantile_0.15\", \"quantile_0.30\"],\n",
    "    \"exclude_features\": \"age\", # \"none\", \"nationality\", \"sex\", \"nationality-sex\", \"age\"\n",
    "    \"exclude_subgroups\": \"keep-all\", # \"keep-all\", \"drop-non-german\"\n",
    "    \"eval_fairness_grouping\": [\"majority-minority\", \"nationality-all\"]\n",
    "}\n",
    "\n",
    "output_dir=\"./output\"\n",
    "seed=0"
   ]
  },
  {
   "cell_type": "code",
   "execution_count": 4,
   "id": "c0aa8a64",
   "metadata": {
    "execution": {
     "iopub.execute_input": "2025-07-30T21:08:48.578426Z",
     "iopub.status.busy": "2025-07-30T21:08:48.577801Z",
     "iopub.status.idle": "2025-07-30T21:08:48.583570Z",
     "shell.execute_reply": "2025-07-30T21:08:48.582620Z"
    },
    "papermill": {
     "duration": 0.033734,
     "end_time": "2025-07-30T21:08:48.585676",
     "exception": false,
     "start_time": "2025-07-30T21:08:48.551942",
     "status": "completed"
    },
    "tags": [
     "injected-parameters"
    ]
   },
   "outputs": [],
   "source": [
    "# Parameters\n",
    "universe_id = \"f68909a6592bb8d2b4feff40a95ece34\"\n",
    "run_no = \"14\"\n",
    "universe = \"{\\\"cutoff\\\": [\\\"quantile_0.1\\\", \\\"quantile_0.25\\\"], \\\"eval_fairness_grouping\\\": [\\\"majority-minority\\\", \\\"nationality-all\\\"], \\\"exclude_features\\\": \\\"age\\\", \\\"exclude_subgroups\\\": \\\"keep-all\\\", \\\"model\\\": \\\"elasticnet\\\", \\\"scale\\\": \\\"do-not-scale\\\", \\\"training_size\\\": \\\"5k\\\", \\\"training_year\\\": \\\"2012_14\\\"}\"\n",
    "output_dir = \"output\"\n",
    "seed = \"2023\"\n"
   ]
  },
  {
   "cell_type": "code",
   "execution_count": 5,
   "id": "1650acaf",
   "metadata": {
    "execution": {
     "iopub.execute_input": "2025-07-30T21:08:48.631354Z",
     "iopub.status.busy": "2025-07-30T21:08:48.631030Z",
     "iopub.status.idle": "2025-07-30T21:08:48.635663Z",
     "shell.execute_reply": "2025-07-30T21:08:48.634850Z"
    },
    "papermill": {
     "duration": 0.029594,
     "end_time": "2025-07-30T21:08:48.637662",
     "exception": false,
     "start_time": "2025-07-30T21:08:48.608068",
     "status": "completed"
    },
    "tags": []
   },
   "outputs": [],
   "source": [
    "import json\n",
    "# Parse universe into dict if it is passed as a string\n",
    "if isinstance(universe, str):\n",
    "    universe = json.loads(universe)"
   ]
  },
  {
   "cell_type": "code",
   "execution_count": 6,
   "id": "16620c48",
   "metadata": {
    "execution": {
     "iopub.execute_input": "2025-07-30T21:08:48.683412Z",
     "iopub.status.busy": "2025-07-30T21:08:48.683115Z",
     "iopub.status.idle": "2025-07-30T21:08:48.726488Z",
     "shell.execute_reply": "2025-07-30T21:08:48.725653Z"
    },
    "papermill": {
     "duration": 0.067705,
     "end_time": "2025-07-30T21:08:48.728199",
     "exception": false,
     "start_time": "2025-07-30T21:08:48.660494",
     "status": "completed"
    },
    "tags": []
   },
   "outputs": [],
   "source": [
    "# Auto-reload the custom package\n",
    "%load_ext autoreload\n",
    "%autoreload 1\n",
    "%aimport fairness_multiverse"
   ]
  },
  {
   "cell_type": "code",
   "execution_count": 7,
   "id": "01c5c9f3",
   "metadata": {
    "execution": {
     "iopub.execute_input": "2025-07-30T21:08:48.773946Z",
     "iopub.status.busy": "2025-07-30T21:08:48.773133Z",
     "iopub.status.idle": "2025-07-30T21:08:50.683634Z",
     "shell.execute_reply": "2025-07-30T21:08:50.682687Z"
    },
    "papermill": {
     "duration": 1.935242,
     "end_time": "2025-07-30T21:08:50.685527",
     "exception": false,
     "start_time": "2025-07-30T21:08:48.750285",
     "status": "completed"
    },
    "tags": []
   },
   "outputs": [],
   "source": [
    "from fairness_multiverse.universe import UniverseAnalysis\n",
    "\n",
    "universe_analysis = UniverseAnalysis(\n",
    "    run_no = run_no,\n",
    "    universe_id = universe_id,\n",
    "    universe = universe,\n",
    "    output_dir=output_dir,\n",
    ")"
   ]
  },
  {
   "cell_type": "code",
   "execution_count": 8,
   "id": "106241f5",
   "metadata": {
    "execution": {
     "iopub.execute_input": "2025-07-30T21:08:50.730215Z",
     "iopub.status.busy": "2025-07-30T21:08:50.729796Z",
     "iopub.status.idle": "2025-07-30T21:08:50.752105Z",
     "shell.execute_reply": "2025-07-30T21:08:50.735498Z"
    },
    "papermill": {
     "duration": 0.046436,
     "end_time": "2025-07-30T21:08:50.753394",
     "exception": false,
     "start_time": "2025-07-30T21:08:50.706958",
     "status": "completed"
    },
    "tags": []
   },
   "outputs": [
    {
     "name": "stdout",
     "output_type": "stream",
     "text": [
      "Using Seed: 2023\n"
     ]
    }
   ],
   "source": [
    "import numpy as np\n",
    "parsed_seed = int(seed)\n",
    "np.random.seed(parsed_seed)\n",
    "print(f\"Using Seed: {parsed_seed}\")"
   ]
  },
  {
   "cell_type": "markdown",
   "id": "e0ebdc57",
   "metadata": {
    "papermill": {
     "duration": 0.010399,
     "end_time": "2025-07-30T21:08:50.774501",
     "exception": false,
     "start_time": "2025-07-30T21:08:50.764102",
     "status": "completed"
    },
    "tags": []
   },
   "source": [
    "# Loading Data"
   ]
  },
  {
   "cell_type": "markdown",
   "id": "681925a3",
   "metadata": {
    "papermill": {
     "duration": 0.010146,
     "end_time": "2025-07-30T21:08:50.794659",
     "exception": false,
     "start_time": "2025-07-30T21:08:50.784513",
     "status": "completed"
    },
    "tags": []
   },
   "source": [
    "Load siab_train, siab_test, siab_calib and/or \n",
    "load siab_train_features, siab_train_labels"
   ]
  },
  {
   "cell_type": "code",
   "execution_count": 9,
   "id": "f0496b8a",
   "metadata": {
    "execution": {
     "iopub.execute_input": "2025-07-30T21:08:50.819409Z",
     "iopub.status.busy": "2025-07-30T21:08:50.818878Z",
     "iopub.status.idle": "2025-07-30T21:09:01.272529Z",
     "shell.execute_reply": "2025-07-30T21:09:01.271474Z"
    },
    "papermill": {
     "duration": 10.46879,
     "end_time": "2025-07-30T21:09:01.273827",
     "exception": false,
     "start_time": "2025-07-30T21:08:50.805037",
     "status": "completed"
    },
    "tags": []
   },
   "outputs": [
    {
     "name": "stdout",
     "output_type": "stream",
     "text": [
      "Loading SIAB data from cache: data/siab_cached.csv.gz\n"
     ]
    },
    {
     "name": "stdout",
     "output_type": "stream",
     "text": [
      "(643690, 164)\n"
     ]
    }
   ],
   "source": [
    "from pathlib import Path\n",
    "import pandas as pd\n",
    "\n",
    "# File paths\n",
    "raw_file = Path(\"data/raw/siab.csv\")\n",
    "cache_file = Path(\"data/siab_cached.csv.gz\")\n",
    "\n",
    "# Ensure cache directory exists\n",
    "cache_file.parent.mkdir(parents=True, exist_ok=True)\n",
    "\n",
    "# Load with simple caching\n",
    "if cache_file.exists():\n",
    "    print(f\"Loading SIAB data from cache: {cache_file}\")\n",
    "    siab = pd.read_csv(cache_file, compression='gzip')\n",
    "else:\n",
    "    print(f\"Cache not found. Reading raw SIAB data: {raw_file}\")\n",
    "    siab = pd.read_csv(raw_file)\n",
    "    siab.to_csv(cache_file, index=False, compression='gzip')\n",
    "    print(f\"Cached SIAB data to: {cache_file}\")\n",
    "\n",
    "# Now use `siab` DataFrame as needed\n",
    "print(siab.shape)"
   ]
  },
  {
   "cell_type": "code",
   "execution_count": 10,
   "id": "db0ca512-5f53-4dba-abdb-a2888bca41ba",
   "metadata": {
    "execution": {
     "iopub.execute_input": "2025-07-30T21:09:01.298924Z",
     "iopub.status.busy": "2025-07-30T21:09:01.298583Z",
     "iopub.status.idle": "2025-07-30T21:09:01.302840Z",
     "shell.execute_reply": "2025-07-30T21:09:01.302137Z"
    },
    "papermill": {
     "duration": 0.016735,
     "end_time": "2025-07-30T21:09:01.304116",
     "exception": false,
     "start_time": "2025-07-30T21:09:01.287381",
     "status": "completed"
    },
    "tags": []
   },
   "outputs": [],
   "source": [
    "#siab"
   ]
  },
  {
   "cell_type": "code",
   "execution_count": 11,
   "id": "a0edb063",
   "metadata": {
    "execution": {
     "iopub.execute_input": "2025-07-30T21:09:01.326738Z",
     "iopub.status.busy": "2025-07-30T21:09:01.326171Z",
     "iopub.status.idle": "2025-07-30T21:09:01.330503Z",
     "shell.execute_reply": "2025-07-30T21:09:01.329766Z"
    },
    "papermill": {
     "duration": 0.016523,
     "end_time": "2025-07-30T21:09:01.331698",
     "exception": false,
     "start_time": "2025-07-30T21:09:01.315175",
     "status": "completed"
    },
    "tags": []
   },
   "outputs": [],
   "source": [
    "#import pandas as pd\n",
    "#\n",
    "#X_train = pd.read_csv(\"./data/X_train.csv\")\n",
    "#y_train = pd.read_csv(\"./data/y_train.csv\")"
   ]
  },
  {
   "cell_type": "code",
   "execution_count": 12,
   "id": "63d08085",
   "metadata": {
    "execution": {
     "iopub.execute_input": "2025-07-30T21:09:01.354331Z",
     "iopub.status.busy": "2025-07-30T21:09:01.353688Z",
     "iopub.status.idle": "2025-07-30T21:09:01.357782Z",
     "shell.execute_reply": "2025-07-30T21:09:01.357136Z"
    },
    "papermill": {
     "duration": 0.016505,
     "end_time": "2025-07-30T21:09:01.359053",
     "exception": false,
     "start_time": "2025-07-30T21:09:01.342548",
     "status": "completed"
    },
    "tags": []
   },
   "outputs": [],
   "source": [
    "#X_test = pd.read_csv(\"./data/X_test.csv\")\n",
    "#y_true = pd.read_csv(\"./data/y_test.csv\")"
   ]
  },
  {
   "cell_type": "code",
   "execution_count": 13,
   "id": "98a8d0fa-1d3d-4ed8-bb2c-281470e24add",
   "metadata": {
    "execution": {
     "iopub.execute_input": "2025-07-30T21:09:01.381487Z",
     "iopub.status.busy": "2025-07-30T21:09:01.380895Z",
     "iopub.status.idle": "2025-07-30T21:09:01.385112Z",
     "shell.execute_reply": "2025-07-30T21:09:01.384343Z"
    },
    "papermill": {
     "duration": 0.016323,
     "end_time": "2025-07-30T21:09:01.386278",
     "exception": false,
     "start_time": "2025-07-30T21:09:01.369955",
     "status": "completed"
    },
    "tags": []
   },
   "outputs": [],
   "source": [
    "# Calibration data for conformal\n",
    "#X_calib = pd.read_csv(\"./data/X_calib.csv\")\n",
    "#y_calib = pd.read_csv(\"./data/y_calib.csv\")"
   ]
  },
  {
   "cell_type": "markdown",
   "id": "997051c5-15bd-4b69-9786-c3001a3ce484",
   "metadata": {
    "papermill": {
     "duration": 0.010424,
     "end_time": "2025-07-30T21:09:01.407859",
     "exception": false,
     "start_time": "2025-07-30T21:09:01.397435",
     "status": "completed"
    },
    "tags": []
   },
   "source": [
    "# Splitting Data and Setting Training Data Size"
   ]
  },
  {
   "cell_type": "code",
   "execution_count": 14,
   "id": "e993b61f-042d-41a6-8c81-f55681f86335",
   "metadata": {
    "execution": {
     "iopub.execute_input": "2025-07-30T21:09:01.430335Z",
     "iopub.status.busy": "2025-07-30T21:09:01.429553Z",
     "iopub.status.idle": "2025-07-30T21:09:01.439127Z",
     "shell.execute_reply": "2025-07-30T21:09:01.438407Z"
    },
    "papermill": {
     "duration": 0.02228,
     "end_time": "2025-07-30T21:09:01.440589",
     "exception": false,
     "start_time": "2025-07-30T21:09:01.418309",
     "status": "completed"
    },
    "tags": []
   },
   "outputs": [],
   "source": [
    "def sample_by_year_size(df,\n",
    "                        training_year: str,\n",
    "                        training_size: str,\n",
    "                        random_state: int = 42):\n",
    "    # --- parse training_year into a list of int years ---\n",
    "    if \"_\" in training_year:\n",
    "        start_str, end_str = training_year.split(\"_\", 1)\n",
    "        start = int(start_str)\n",
    "        end   = int(end_str) if len(end_str) == 4 else (int(end_str) + (start // 100)*100)\n",
    "        years = list(range(start, end + 1))\n",
    "    else:\n",
    "        years = [int(training_year)]\n",
    "\n",
    "    df = df[df[\"year\"].isin(years)].reset_index(drop=True)\n",
    "\n",
    "    # --- map training_size to total number of samples ---\n",
    "    total_map = {\"25k\": 25_000, \"5k\": 5_000, \"1k\": 1_000}\n",
    "    if training_size not in total_map:\n",
    "        return df  # e.g. \"all\"\n",
    "\n",
    "    total_samples = total_map[training_size]\n",
    "    n_years       = len(years)\n",
    "    base          = total_samples // n_years\n",
    "    remainder     = total_samples % n_years\n",
    "\n",
    "    # --- build a dict: year -> how many to sample ---\n",
    "    # give +1 to the first `remainder` years in ascending order\n",
    "    quotas = {\n",
    "        year: base + (1 if idx < remainder else 0)\n",
    "        for idx, year in enumerate(sorted(years))\n",
    "    }\n",
    "\n",
    "    # --- sample per‐year according to the quota dict ---\n",
    "    sampled = (\n",
    "        df\n",
    "        .groupby(\"year\", group_keys=False)\n",
    "        .apply(lambda grp: grp.sample(\n",
    "            n=min(len(grp), quotas[grp.name]),\n",
    "            random_state=random_state))\n",
    "        .reset_index(drop=True)\n",
    "    )\n",
    "\n",
    "    return sampled"
   ]
  },
  {
   "cell_type": "code",
   "execution_count": 15,
   "id": "c0ccd338-0e02-41f3-a09d-f56f9266e3fb",
   "metadata": {
    "execution": {
     "iopub.execute_input": "2025-07-30T21:09:01.463332Z",
     "iopub.status.busy": "2025-07-30T21:09:01.462940Z",
     "iopub.status.idle": "2025-07-30T21:09:01.467125Z",
     "shell.execute_reply": "2025-07-30T21:09:01.466396Z"
    },
    "papermill": {
     "duration": 0.016562,
     "end_time": "2025-07-30T21:09:01.468332",
     "exception": false,
     "start_time": "2025-07-30T21:09:01.451770",
     "status": "completed"
    },
    "tags": []
   },
   "outputs": [],
   "source": [
    "#universe[\"training_size\"]"
   ]
  },
  {
   "cell_type": "code",
   "execution_count": 16,
   "id": "ca707fd7-8047-4acd-bfa5-66248fbbf8e6",
   "metadata": {
    "execution": {
     "iopub.execute_input": "2025-07-30T21:09:01.490711Z",
     "iopub.status.busy": "2025-07-30T21:09:01.490130Z",
     "iopub.status.idle": "2025-07-30T21:09:01.494141Z",
     "shell.execute_reply": "2025-07-30T21:09:01.493498Z"
    },
    "papermill": {
     "duration": 0.01649,
     "end_time": "2025-07-30T21:09:01.495467",
     "exception": false,
     "start_time": "2025-07-30T21:09:01.478977",
     "status": "completed"
    },
    "tags": []
   },
   "outputs": [],
   "source": [
    "#universe[\"training_year\"]"
   ]
  },
  {
   "cell_type": "code",
   "execution_count": 17,
   "id": "aea9c6ef-6f46-42c8-85eb-5a62025c1508",
   "metadata": {
    "execution": {
     "iopub.execute_input": "2025-07-30T21:09:01.517665Z",
     "iopub.status.busy": "2025-07-30T21:09:01.517261Z",
     "iopub.status.idle": "2025-07-30T21:09:02.044791Z",
     "shell.execute_reply": "2025-07-30T21:09:02.043987Z"
    },
    "papermill": {
     "duration": 0.540072,
     "end_time": "2025-07-30T21:09:02.046268",
     "exception": false,
     "start_time": "2025-07-30T21:09:01.506196",
     "status": "completed"
    },
    "tags": []
   },
   "outputs": [],
   "source": [
    "siab_train = sample_by_year_size(siab,\n",
    "                               training_year=universe[\"training_year\"],\n",
    "                               training_size=universe[\"training_size\"])"
   ]
  },
  {
   "cell_type": "code",
   "execution_count": 18,
   "id": "8d3afb32-789d-442c-8d5d-9f5aa8dd2eed",
   "metadata": {
    "execution": {
     "iopub.execute_input": "2025-07-30T21:09:02.069046Z",
     "iopub.status.busy": "2025-07-30T21:09:02.068730Z",
     "iopub.status.idle": "2025-07-30T21:09:02.072589Z",
     "shell.execute_reply": "2025-07-30T21:09:02.071820Z"
    },
    "papermill": {
     "duration": 0.016335,
     "end_time": "2025-07-30T21:09:02.073920",
     "exception": false,
     "start_time": "2025-07-30T21:09:02.057585",
     "status": "completed"
    },
    "tags": []
   },
   "outputs": [],
   "source": [
    "#siab_train.shape"
   ]
  },
  {
   "cell_type": "code",
   "execution_count": 19,
   "id": "d582db68-1a4c-47fb-84fc-08518dc1975a",
   "metadata": {
    "execution": {
     "iopub.execute_input": "2025-07-30T21:09:02.096907Z",
     "iopub.status.busy": "2025-07-30T21:09:02.096393Z",
     "iopub.status.idle": "2025-07-30T21:09:02.100274Z",
     "shell.execute_reply": "2025-07-30T21:09:02.099451Z"
    },
    "papermill": {
     "duration": 0.017032,
     "end_time": "2025-07-30T21:09:02.102059",
     "exception": false,
     "start_time": "2025-07-30T21:09:02.085027",
     "status": "completed"
    },
    "tags": []
   },
   "outputs": [],
   "source": [
    "#display(siab_train.groupby(\"year\").size())"
   ]
  },
  {
   "cell_type": "code",
   "execution_count": 20,
   "id": "a561edb4-d032-42cb-8256-22eac1111c64",
   "metadata": {
    "execution": {
     "iopub.execute_input": "2025-07-30T21:09:02.145840Z",
     "iopub.status.busy": "2025-07-30T21:09:02.144968Z",
     "iopub.status.idle": "2025-07-30T21:09:02.384153Z",
     "shell.execute_reply": "2025-07-30T21:09:02.383061Z"
    },
    "papermill": {
     "duration": 0.263119,
     "end_time": "2025-07-30T21:09:02.386236",
     "exception": false,
     "start_time": "2025-07-30T21:09:02.123117",
     "status": "completed"
    },
    "tags": []
   },
   "outputs": [],
   "source": [
    "#siab_train = siab_s[siab_s.year < 2015]\n",
    "siab_calib = siab[siab.year == 2015]\n",
    "siab_test = siab[siab.year == 2016]"
   ]
  },
  {
   "cell_type": "code",
   "execution_count": 21,
   "id": "472de16f-c3db-4916-846b-1f0de9cf1746",
   "metadata": {
    "execution": {
     "iopub.execute_input": "2025-07-30T21:09:02.436660Z",
     "iopub.status.busy": "2025-07-30T21:09:02.436072Z",
     "iopub.status.idle": "2025-07-30T21:09:02.447723Z",
     "shell.execute_reply": "2025-07-30T21:09:02.446565Z"
    },
    "papermill": {
     "duration": 0.040454,
     "end_time": "2025-07-30T21:09:02.449764",
     "exception": false,
     "start_time": "2025-07-30T21:09:02.409310",
     "status": "completed"
    },
    "tags": []
   },
   "outputs": [],
   "source": [
    "X_train = siab_train.iloc[:,4:164]\n",
    "y_train = siab_train.iloc[:, [3]]"
   ]
  },
  {
   "cell_type": "code",
   "execution_count": 22,
   "id": "828c96af-f43a-4ed6-ba47-8ac73a47d56c",
   "metadata": {
    "execution": {
     "iopub.execute_input": "2025-07-30T21:09:02.478702Z",
     "iopub.status.busy": "2025-07-30T21:09:02.478345Z",
     "iopub.status.idle": "2025-07-30T21:09:02.530057Z",
     "shell.execute_reply": "2025-07-30T21:09:02.529260Z"
    },
    "papermill": {
     "duration": 0.065873,
     "end_time": "2025-07-30T21:09:02.531500",
     "exception": false,
     "start_time": "2025-07-30T21:09:02.465627",
     "status": "completed"
    },
    "tags": []
   },
   "outputs": [],
   "source": [
    "X_calib = siab_calib.iloc[:,4:164]\n",
    "y_calib = siab_calib.iloc[:, [3]]"
   ]
  },
  {
   "cell_type": "code",
   "execution_count": 23,
   "id": "c34be9c3-6bd6-476e-acd3-845840e303be",
   "metadata": {
    "execution": {
     "iopub.execute_input": "2025-07-30T21:09:02.557450Z",
     "iopub.status.busy": "2025-07-30T21:09:02.556734Z",
     "iopub.status.idle": "2025-07-30T21:09:02.608221Z",
     "shell.execute_reply": "2025-07-30T21:09:02.607373Z"
    },
    "papermill": {
     "duration": 0.06615,
     "end_time": "2025-07-30T21:09:02.609930",
     "exception": false,
     "start_time": "2025-07-30T21:09:02.543780",
     "status": "completed"
    },
    "tags": []
   },
   "outputs": [],
   "source": [
    "X_test = siab_test.iloc[:,4:164]\n",
    "y_true = siab_test.iloc[:, [3]]"
   ]
  },
  {
   "cell_type": "markdown",
   "id": "9901737e-04df-44f0-9100-f5ad144ed040",
   "metadata": {
    "papermill": {
     "duration": 0.010715,
     "end_time": "2025-07-30T21:09:02.632501",
     "exception": false,
     "start_time": "2025-07-30T21:09:02.621786",
     "status": "completed"
    },
    "tags": []
   },
   "source": [
    "# Splitting Data and Setting Training Data Size OLD VERSION"
   ]
  },
  {
   "cell_type": "code",
   "execution_count": 24,
   "id": "acbc8f7d-8fc8-4e86-8c59-5dcb0f58384b",
   "metadata": {
    "execution": {
     "iopub.execute_input": "2025-07-30T21:09:02.655857Z",
     "iopub.status.busy": "2025-07-30T21:09:02.655366Z",
     "iopub.status.idle": "2025-07-30T21:09:02.660056Z",
     "shell.execute_reply": "2025-07-30T21:09:02.659286Z"
    },
    "papermill": {
     "duration": 0.018066,
     "end_time": "2025-07-30T21:09:02.661342",
     "exception": false,
     "start_time": "2025-07-30T21:09:02.643276",
     "status": "completed"
    },
    "tags": []
   },
   "outputs": [],
   "source": [
    "#def sample_by_year(df, training_size, random_state=42):\n",
    "#    if training_size == \"2014\":\n",
    "#        return df[df[\"year\"] == 2014].reset_index(drop=True)\n",
    "#    \n",
    "#    size_map = {\n",
    "#        \"25k\": 5000,\n",
    "#        \"5k\": 1000,\n",
    "#        \"1k\": 200\n",
    "#    }\n",
    "#\n",
    "#    if training_size not in size_map:\n",
    "#        return df.reset_index(drop=True)  # use all data\n",
    "#\n",
    "#    n_per_year = size_map[training_size]\n",
    "#    grouped = df.groupby(\"year\")\n",
    "#    sampled = grouped.apply(lambda x: x.sample(n=min(n_per_year, len(x)), random_state=random_state))\n",
    "#    return sampled.reset_index(drop=True)"
   ]
  },
  {
   "cell_type": "code",
   "execution_count": 25,
   "id": "6d931f52-beaf-43ff-9e78-9d44a448d54e",
   "metadata": {
    "execution": {
     "iopub.execute_input": "2025-07-30T21:09:02.685147Z",
     "iopub.status.busy": "2025-07-30T21:09:02.684655Z",
     "iopub.status.idle": "2025-07-30T21:09:02.688945Z",
     "shell.execute_reply": "2025-07-30T21:09:02.688193Z"
    },
    "papermill": {
     "duration": 0.017214,
     "end_time": "2025-07-30T21:09:02.690210",
     "exception": false,
     "start_time": "2025-07-30T21:09:02.672996",
     "status": "completed"
    },
    "tags": []
   },
   "outputs": [],
   "source": [
    "#siab_s = sample_by_year(siab, universe[\"training_size\"])"
   ]
  },
  {
   "cell_type": "code",
   "execution_count": 26,
   "id": "5db0a40e-a4e2-4920-be85-b12ae061d70d",
   "metadata": {
    "execution": {
     "iopub.execute_input": "2025-07-30T21:09:02.714624Z",
     "iopub.status.busy": "2025-07-30T21:09:02.714127Z",
     "iopub.status.idle": "2025-07-30T21:09:02.718693Z",
     "shell.execute_reply": "2025-07-30T21:09:02.717951Z"
    },
    "papermill": {
     "duration": 0.017705,
     "end_time": "2025-07-30T21:09:02.719873",
     "exception": false,
     "start_time": "2025-07-30T21:09:02.702168",
     "status": "completed"
    },
    "tags": []
   },
   "outputs": [],
   "source": [
    "#display(siab_s.groupby(\"year\").size())"
   ]
  },
  {
   "cell_type": "code",
   "execution_count": 27,
   "id": "e6c733c5",
   "metadata": {
    "execution": {
     "iopub.execute_input": "2025-07-30T21:09:02.744016Z",
     "iopub.status.busy": "2025-07-30T21:09:02.743528Z",
     "iopub.status.idle": "2025-07-30T21:09:02.836867Z",
     "shell.execute_reply": "2025-07-30T21:09:02.836124Z"
    },
    "papermill": {
     "duration": 0.106552,
     "end_time": "2025-07-30T21:09:02.838319",
     "exception": false,
     "start_time": "2025-07-30T21:09:02.731767",
     "status": "completed"
    },
    "tags": []
   },
   "outputs": [],
   "source": [
    "# Auxiliary data needed downstream in the pipeline\n",
    "\n",
    "org_train = X_train.copy()\n",
    "org_test = X_test.copy()\n",
    "org_calib = X_calib.copy()"
   ]
  },
  {
   "cell_type": "code",
   "execution_count": 28,
   "id": "1466abac-c6da-4492-a62f-4240ae3783af",
   "metadata": {
    "execution": {
     "iopub.execute_input": "2025-07-30T21:09:02.861974Z",
     "iopub.status.busy": "2025-07-30T21:09:02.861661Z",
     "iopub.status.idle": "2025-07-30T21:09:02.866010Z",
     "shell.execute_reply": "2025-07-30T21:09:02.865228Z"
    },
    "papermill": {
     "duration": 0.017233,
     "end_time": "2025-07-30T21:09:02.867178",
     "exception": false,
     "start_time": "2025-07-30T21:09:02.849945",
     "status": "completed"
    },
    "tags": []
   },
   "outputs": [],
   "source": [
    "# put in other script?\n",
    "# Group sizes\n",
    "\n",
    "#def calculate_percentages(df, df_name):\n",
    "#    total_entries = len(df)\n",
    "#\n",
    "#    female_pct = (df['frau1'] == 1).mean() * 100\n",
    "#    non_german_pct = ((df['maxdeutsch1'] == 0) & (df['maxdeutsch.Missing.'] == 0)).mean() * 100\n",
    "#    non_german_male_pct = ((df['frau1'] == 0) & (df['maxdeutsch1'] == 0) & (df['maxdeutsch.Missing.'] == 0)).mean() * 100\n",
    "#    non_german_female_pct = ((df['frau1'] == 1) & (df['maxdeutsch1'] == 0) & (df['maxdeutsch.Missing.'] == 0)).mean() * 100\n",
    "#\n",
    "#    print(f\"--- {df_name} ---\")\n",
    "#    print(f\"Female: {female_pct:.2f}%\")\n",
    "#    print(f\"Non-German: {non_german_pct:.2f}%\")\n",
    "#    print(f\"Non-German Male: {non_german_male_pct:.2f}%\")\n",
    "#    print(f\"Non-German Female: {non_german_female_pct:.2f}%\\n\")\n",
    "#\n",
    "## Calculate for each DataFrame\n",
    "#calculate_percentages(siab_calib, \"siab_calib\")\n",
    "#calculate_percentages(siab_test, \"siab_test\")\n",
    "#calculate_percentages(siab_train, \"siab_train\")"
   ]
  },
  {
   "cell_type": "markdown",
   "id": "0a4a1b33",
   "metadata": {
    "papermill": {
     "duration": 0.01073,
     "end_time": "2025-07-30T21:09:02.888888",
     "exception": false,
     "start_time": "2025-07-30T21:09:02.878158",
     "status": "completed"
    },
    "tags": []
   },
   "source": [
    "# Preprocessing Data"
   ]
  },
  {
   "cell_type": "code",
   "execution_count": 29,
   "id": "ca879031",
   "metadata": {
    "execution": {
     "iopub.execute_input": "2025-07-30T21:09:02.911807Z",
     "iopub.status.busy": "2025-07-30T21:09:02.911313Z",
     "iopub.status.idle": "2025-07-30T21:09:02.916283Z",
     "shell.execute_reply": "2025-07-30T21:09:02.915561Z"
    },
    "papermill": {
     "duration": 0.017961,
     "end_time": "2025-07-30T21:09:02.917573",
     "exception": false,
     "start_time": "2025-07-30T21:09:02.899612",
     "status": "completed"
    },
    "tags": []
   },
   "outputs": [],
   "source": [
    "# EXCLUDE PROTECTED FEATURES\n",
    "# ----------------------\n",
    "# \"exclude_features\": \"none\", # \"nationality\", \"sex\", \"nationality-sex\"\n",
    "\n",
    "excluded_features = universe[\"exclude_features\"].split(\"-\") # split, e.g.: \"nationality-sex\" -> [\"nationality\", \"sex\"]\n",
    "excluded_features_dictionary = {\n",
    "    \"nationality\": [\"maxdeutsch1\", \"maxdeutsch.Missing.\"],\n",
    "    \"sex\": [\"frau1\"],\n",
    "    \"age\": [\"age\"],\n",
    "}\n"
   ]
  },
  {
   "cell_type": "code",
   "execution_count": 30,
   "id": "b745ac60",
   "metadata": {
    "execution": {
     "iopub.execute_input": "2025-07-30T21:09:02.940923Z",
     "iopub.status.busy": "2025-07-30T21:09:02.940637Z",
     "iopub.status.idle": "2025-07-30T21:09:02.945168Z",
     "shell.execute_reply": "2025-07-30T21:09:02.944353Z"
    },
    "papermill": {
     "duration": 0.017311,
     "end_time": "2025-07-30T21:09:02.946517",
     "exception": false,
     "start_time": "2025-07-30T21:09:02.929206",
     "status": "completed"
    },
    "tags": []
   },
   "outputs": [],
   "source": [
    "# Code nice names to column names\n",
    "\n",
    "excluded_features_columns = [\n",
    "    excluded_features_dictionary[f] for f in excluded_features if len(f) > 0 and f != \"none\"\n",
    "]"
   ]
  },
  {
   "cell_type": "code",
   "execution_count": 31,
   "id": "f84f73a2",
   "metadata": {
    "execution": {
     "iopub.execute_input": "2025-07-30T21:09:02.971599Z",
     "iopub.status.busy": "2025-07-30T21:09:02.971083Z",
     "iopub.status.idle": "2025-07-30T21:09:02.975976Z",
     "shell.execute_reply": "2025-07-30T21:09:02.975278Z"
    },
    "papermill": {
     "duration": 0.018563,
     "end_time": "2025-07-30T21:09:02.977321",
     "exception": false,
     "start_time": "2025-07-30T21:09:02.958758",
     "status": "completed"
    },
    "tags": []
   },
   "outputs": [],
   "source": [
    "from utils import flatten_once\n",
    "\n",
    "excluded_features_columns = flatten_once(excluded_features_columns)"
   ]
  },
  {
   "cell_type": "code",
   "execution_count": 32,
   "id": "884dea22",
   "metadata": {
    "execution": {
     "iopub.execute_input": "2025-07-30T21:09:03.000593Z",
     "iopub.status.busy": "2025-07-30T21:09:03.000100Z",
     "iopub.status.idle": "2025-07-30T21:09:03.007494Z",
     "shell.execute_reply": "2025-07-30T21:09:03.006836Z"
    },
    "papermill": {
     "duration": 0.020267,
     "end_time": "2025-07-30T21:09:03.008843",
     "exception": false,
     "start_time": "2025-07-30T21:09:02.988576",
     "status": "completed"
    },
    "tags": []
   },
   "outputs": [
    {
     "name": "stdout",
     "output_type": "stream",
     "text": [
      "Dropping features: ['age']\n"
     ]
    }
   ],
   "source": [
    "if len(excluded_features_columns) > 0:\n",
    "    print(f\"Dropping features: {excluded_features_columns}\")\n",
    "    X_train.drop(excluded_features_columns, axis=1, inplace=True)"
   ]
  },
  {
   "cell_type": "code",
   "execution_count": 33,
   "id": "95ab8b16",
   "metadata": {
    "execution": {
     "iopub.execute_input": "2025-07-30T21:09:03.033350Z",
     "iopub.status.busy": "2025-07-30T21:09:03.032588Z",
     "iopub.status.idle": "2025-07-30T21:09:03.081013Z",
     "shell.execute_reply": "2025-07-30T21:09:03.080299Z"
    },
    "papermill": {
     "duration": 0.061474,
     "end_time": "2025-07-30T21:09:03.082492",
     "exception": false,
     "start_time": "2025-07-30T21:09:03.021018",
     "status": "completed"
    },
    "tags": []
   },
   "outputs": [
    {
     "name": "stdout",
     "output_type": "stream",
     "text": [
      "Dropping features: ['age']\n"
     ]
    }
   ],
   "source": [
    "if len(excluded_features_columns) > 0:\n",
    "    print(f\"Dropping features: {excluded_features_columns}\")\n",
    "    X_test.drop(excluded_features_columns, axis=1, inplace=True)"
   ]
  },
  {
   "cell_type": "code",
   "execution_count": 34,
   "id": "1853aaf5-fb9f-46cb-a2b5-8ea4ae2237e4",
   "metadata": {
    "execution": {
     "iopub.execute_input": "2025-07-30T21:09:03.106755Z",
     "iopub.status.busy": "2025-07-30T21:09:03.105965Z",
     "iopub.status.idle": "2025-07-30T21:09:03.152912Z",
     "shell.execute_reply": "2025-07-30T21:09:03.152185Z"
    },
    "papermill": {
     "duration": 0.059835,
     "end_time": "2025-07-30T21:09:03.154208",
     "exception": false,
     "start_time": "2025-07-30T21:09:03.094373",
     "status": "completed"
    },
    "tags": []
   },
   "outputs": [
    {
     "name": "stdout",
     "output_type": "stream",
     "text": [
      "Dropping features: ['age']\n"
     ]
    }
   ],
   "source": [
    "if len(excluded_features_columns) > 0:\n",
    "    print(f\"Dropping features: {excluded_features_columns}\")\n",
    "    X_calib.drop(excluded_features_columns, axis=1, inplace=True)"
   ]
  },
  {
   "cell_type": "code",
   "execution_count": 35,
   "id": "6727d079-03e5-481e-9d38-292a90b7a0a8",
   "metadata": {
    "execution": {
     "iopub.execute_input": "2025-07-30T21:09:03.179380Z",
     "iopub.status.busy": "2025-07-30T21:09:03.178650Z",
     "iopub.status.idle": "2025-07-30T21:09:03.182732Z",
     "shell.execute_reply": "2025-07-30T21:09:03.182044Z"
    },
    "papermill": {
     "duration": 0.01737,
     "end_time": "2025-07-30T21:09:03.183946",
     "exception": false,
     "start_time": "2025-07-30T21:09:03.166576",
     "status": "completed"
    },
    "tags": []
   },
   "outputs": [],
   "source": [
    "# SPLIT & STRATIFY DATA\n",
    "# ----------------------"
   ]
  },
  {
   "cell_type": "code",
   "execution_count": 36,
   "id": "76c4dc6d",
   "metadata": {
    "execution": {
     "iopub.execute_input": "2025-07-30T21:09:03.208923Z",
     "iopub.status.busy": "2025-07-30T21:09:03.208173Z",
     "iopub.status.idle": "2025-07-30T21:09:03.212560Z",
     "shell.execute_reply": "2025-07-30T21:09:03.211799Z"
    },
    "papermill": {
     "duration": 0.017736,
     "end_time": "2025-07-30T21:09:03.213712",
     "exception": false,
     "start_time": "2025-07-30T21:09:03.195976",
     "status": "completed"
    },
    "tags": []
   },
   "outputs": [],
   "source": [
    "# EXCLUDE CERTAIN SUBGROUPS\n",
    "# ----------------------\n",
    "\n",
    "mode = universe.get(\"exclude_subgroups\", \"keep-all\") \n",
    "# Fetches the exclude_subgroups setting from the universe dict.\n",
    "# Defaults to \"keep-all\" if the key is missing."
   ]
  },
  {
   "cell_type": "code",
   "execution_count": 37,
   "id": "21994072",
   "metadata": {
    "execution": {
     "iopub.execute_input": "2025-07-30T21:09:03.237837Z",
     "iopub.status.busy": "2025-07-30T21:09:03.237091Z",
     "iopub.status.idle": "2025-07-30T21:09:03.242394Z",
     "shell.execute_reply": "2025-07-30T21:09:03.241675Z"
    },
    "papermill": {
     "duration": 0.01841,
     "end_time": "2025-07-30T21:09:03.243614",
     "exception": false,
     "start_time": "2025-07-30T21:09:03.225204",
     "status": "completed"
    },
    "tags": []
   },
   "outputs": [],
   "source": [
    "if mode == \"keep-all\":\n",
    "    keep_mask = pd.Series(True, index=org_train.index)\n",
    "\n",
    "# org_train contains the original feature columns from features_org (in Simson)\n",
    "# features_org contains unprocessed features, for me X_train at beginning ???\n",
    "# For keep-all, creates a boolean Series (keep_mask) of all True, so no rows are removed.\n",
    "\n",
    "elif mode == \"drop-non-german\":\n",
    "    keep_mask = org_train[\"maxdeutsch1\"] == 1 # ??? what about missing values?\n",
    "\n",
    "else:\n",
    "    raise ValueError(f\"Unsupported mode for exclude_subgroups: {mode}\")\n"
   ]
  },
  {
   "cell_type": "code",
   "execution_count": 38,
   "id": "71651440",
   "metadata": {
    "execution": {
     "iopub.execute_input": "2025-07-30T21:09:03.268177Z",
     "iopub.status.busy": "2025-07-30T21:09:03.267470Z",
     "iopub.status.idle": "2025-07-30T21:09:03.272792Z",
     "shell.execute_reply": "2025-07-30T21:09:03.271956Z"
    },
    "papermill": {
     "duration": 0.018625,
     "end_time": "2025-07-30T21:09:03.274023",
     "exception": false,
     "start_time": "2025-07-30T21:09:03.255398",
     "status": "completed"
    },
    "tags": []
   },
   "outputs": [],
   "source": [
    "n_drop = (~keep_mask).sum() # Calculates how many rows are set to be dropped\n",
    "if n_drop > 0:\n",
    "    pct = n_drop / len(keep_mask) * 100\n",
    "    print(f\"Dropping {n_drop} rows ({pct:.2f}%) where mode='{mode}'\")"
   ]
  },
  {
   "cell_type": "code",
   "execution_count": 39,
   "id": "5fb8eee5",
   "metadata": {
    "execution": {
     "iopub.execute_input": "2025-07-30T21:09:03.299594Z",
     "iopub.status.busy": "2025-07-30T21:09:03.299099Z",
     "iopub.status.idle": "2025-07-30T21:09:03.305665Z",
     "shell.execute_reply": "2025-07-30T21:09:03.304955Z"
    },
    "papermill": {
     "duration": 0.020688,
     "end_time": "2025-07-30T21:09:03.307069",
     "exception": false,
     "start_time": "2025-07-30T21:09:03.286381",
     "status": "completed"
    },
    "tags": []
   },
   "outputs": [],
   "source": [
    "X_train = X_train[keep_mask]"
   ]
  },
  {
   "cell_type": "code",
   "execution_count": 40,
   "id": "b202bb3a",
   "metadata": {
    "execution": {
     "iopub.execute_input": "2025-07-30T21:09:03.333561Z",
     "iopub.status.busy": "2025-07-30T21:09:03.333066Z",
     "iopub.status.idle": "2025-07-30T21:09:03.338271Z",
     "shell.execute_reply": "2025-07-30T21:09:03.337651Z"
    },
    "papermill": {
     "duration": 0.019281,
     "end_time": "2025-07-30T21:09:03.339524",
     "exception": false,
     "start_time": "2025-07-30T21:09:03.320243",
     "status": "completed"
    },
    "tags": []
   },
   "outputs": [],
   "source": [
    "y_train = y_train[keep_mask]"
   ]
  },
  {
   "cell_type": "markdown",
   "id": "493e2ac3",
   "metadata": {
    "papermill": {
     "duration": 0.011231,
     "end_time": "2025-07-30T21:09:03.362792",
     "exception": false,
     "start_time": "2025-07-30T21:09:03.351561",
     "status": "completed"
    },
    "tags": []
   },
   "source": [
    "# Model Training"
   ]
  },
  {
   "cell_type": "code",
   "execution_count": 41,
   "id": "679e1268",
   "metadata": {
    "execution": {
     "iopub.execute_input": "2025-07-30T21:09:03.386565Z",
     "iopub.status.busy": "2025-07-30T21:09:03.385921Z",
     "iopub.status.idle": "2025-07-30T21:09:03.457960Z",
     "shell.execute_reply": "2025-07-30T21:09:03.457247Z"
    },
    "papermill": {
     "duration": 0.085483,
     "end_time": "2025-07-30T21:09:03.459332",
     "exception": false,
     "start_time": "2025-07-30T21:09:03.373849",
     "status": "completed"
    },
    "tags": []
   },
   "outputs": [],
   "source": [
    "from sklearn.linear_model import LogisticRegression\n",
    "from sklearn.ensemble import GradientBoostingClassifier, RandomForestClassifier\n",
    "\n",
    "if (universe[\"model\"] == \"logreg\"):\n",
    "    model = LogisticRegression() #penalty=\"none\") #, solver=\"newton-cg\", max_iter=1) # include random_state=19 ?\n",
    "elif (universe[\"model\"] == \"penalized_logreg\"):\n",
    "    model = LogisticRegression(penalty=\"l2\", C=1.0) #, solver=\"newton-cg\", max_iter=1)\n",
    "elif (universe[\"model\"] == \"rf\"):\n",
    "    model = RandomForestClassifier(n_estimators=100, n_jobs=-1)\n",
    "elif (universe[\"model\"] == \"gbm\"):\n",
    "    model = GradientBoostingClassifier()\n",
    "elif (universe[\"model\"] == \"elasticnet\"):\n",
    "    model = LogisticRegression(penalty = 'elasticnet', solver = 'saga', l1_ratio = 0.5, max_iter=5000) # which solver to use?\n",
    "else:\n",
    "    raise \"Unsupported universe.model\""
   ]
  },
  {
   "cell_type": "code",
   "execution_count": 42,
   "id": "0cc8f744",
   "metadata": {
    "execution": {
     "iopub.execute_input": "2025-07-30T21:09:03.484293Z",
     "iopub.status.busy": "2025-07-30T21:09:03.483543Z",
     "iopub.status.idle": "2025-07-30T21:09:03.488575Z",
     "shell.execute_reply": "2025-07-30T21:09:03.487810Z"
    },
    "papermill": {
     "duration": 0.01812,
     "end_time": "2025-07-30T21:09:03.489741",
     "exception": false,
     "start_time": "2025-07-30T21:09:03.471621",
     "status": "completed"
    },
    "tags": []
   },
   "outputs": [],
   "source": [
    "import numpy as np\n",
    "from sklearn.pipeline import Pipeline\n",
    "from sklearn.preprocessing import StandardScaler\n",
    "\n",
    "model = Pipeline([\n",
    "    #(\"continuous_processor\", continuous_processor),\n",
    "    #(\"categorical_preprocessor\", categorical_preprocessor),\n",
    "    (\"scale\", StandardScaler() if universe[\"scale\"] == \"scale\" else None), \n",
    "    (\"model\", model),\n",
    "])"
   ]
  },
  {
   "cell_type": "code",
   "execution_count": 43,
   "id": "9442c04d",
   "metadata": {
    "execution": {
     "iopub.execute_input": "2025-07-30T21:09:03.514518Z",
     "iopub.status.busy": "2025-07-30T21:09:03.513781Z",
     "iopub.status.idle": "2025-07-30T21:10:22.910093Z",
     "shell.execute_reply": "2025-07-30T21:10:22.908919Z"
    },
    "papermill": {
     "duration": 79.423564,
     "end_time": "2025-07-30T21:10:22.925172",
     "exception": false,
     "start_time": "2025-07-30T21:09:03.501608",
     "status": "completed"
    },
    "tags": []
   },
   "outputs": [
    {
     "data": {
      "text/html": [
       "<style>#sk-container-id-1 {color: black;background-color: white;}#sk-container-id-1 pre{padding: 0;}#sk-container-id-1 div.sk-toggleable {background-color: white;}#sk-container-id-1 label.sk-toggleable__label {cursor: pointer;display: block;width: 100%;margin-bottom: 0;padding: 0.3em;box-sizing: border-box;text-align: center;}#sk-container-id-1 label.sk-toggleable__label-arrow:before {content: \"▸\";float: left;margin-right: 0.25em;color: #696969;}#sk-container-id-1 label.sk-toggleable__label-arrow:hover:before {color: black;}#sk-container-id-1 div.sk-estimator:hover label.sk-toggleable__label-arrow:before {color: black;}#sk-container-id-1 div.sk-toggleable__content {max-height: 0;max-width: 0;overflow: hidden;text-align: left;background-color: #f0f8ff;}#sk-container-id-1 div.sk-toggleable__content pre {margin: 0.2em;color: black;border-radius: 0.25em;background-color: #f0f8ff;}#sk-container-id-1 input.sk-toggleable__control:checked~div.sk-toggleable__content {max-height: 200px;max-width: 100%;overflow: auto;}#sk-container-id-1 input.sk-toggleable__control:checked~label.sk-toggleable__label-arrow:before {content: \"▾\";}#sk-container-id-1 div.sk-estimator input.sk-toggleable__control:checked~label.sk-toggleable__label {background-color: #d4ebff;}#sk-container-id-1 div.sk-label input.sk-toggleable__control:checked~label.sk-toggleable__label {background-color: #d4ebff;}#sk-container-id-1 input.sk-hidden--visually {border: 0;clip: rect(1px 1px 1px 1px);clip: rect(1px, 1px, 1px, 1px);height: 1px;margin: -1px;overflow: hidden;padding: 0;position: absolute;width: 1px;}#sk-container-id-1 div.sk-estimator {font-family: monospace;background-color: #f0f8ff;border: 1px dotted black;border-radius: 0.25em;box-sizing: border-box;margin-bottom: 0.5em;}#sk-container-id-1 div.sk-estimator:hover {background-color: #d4ebff;}#sk-container-id-1 div.sk-parallel-item::after {content: \"\";width: 100%;border-bottom: 1px solid gray;flex-grow: 1;}#sk-container-id-1 div.sk-label:hover label.sk-toggleable__label {background-color: #d4ebff;}#sk-container-id-1 div.sk-serial::before {content: \"\";position: absolute;border-left: 1px solid gray;box-sizing: border-box;top: 0;bottom: 0;left: 50%;z-index: 0;}#sk-container-id-1 div.sk-serial {display: flex;flex-direction: column;align-items: center;background-color: white;padding-right: 0.2em;padding-left: 0.2em;position: relative;}#sk-container-id-1 div.sk-item {position: relative;z-index: 1;}#sk-container-id-1 div.sk-parallel {display: flex;align-items: stretch;justify-content: center;background-color: white;position: relative;}#sk-container-id-1 div.sk-item::before, #sk-container-id-1 div.sk-parallel-item::before {content: \"\";position: absolute;border-left: 1px solid gray;box-sizing: border-box;top: 0;bottom: 0;left: 50%;z-index: -1;}#sk-container-id-1 div.sk-parallel-item {display: flex;flex-direction: column;z-index: 1;position: relative;background-color: white;}#sk-container-id-1 div.sk-parallel-item:first-child::after {align-self: flex-end;width: 50%;}#sk-container-id-1 div.sk-parallel-item:last-child::after {align-self: flex-start;width: 50%;}#sk-container-id-1 div.sk-parallel-item:only-child::after {width: 0;}#sk-container-id-1 div.sk-dashed-wrapped {border: 1px dashed gray;margin: 0 0.4em 0.5em 0.4em;box-sizing: border-box;padding-bottom: 0.4em;background-color: white;}#sk-container-id-1 div.sk-label label {font-family: monospace;font-weight: bold;display: inline-block;line-height: 1.2em;}#sk-container-id-1 div.sk-label-container {text-align: center;}#sk-container-id-1 div.sk-container {/* jupyter's `normalize.less` sets `[hidden] { display: none; }` but bootstrap.min.css set `[hidden] { display: none !important; }` so we also need the `!important` here to be able to override the default hidden behavior on the sphinx rendered scikit-learn.org. See: https://github.com/scikit-learn/scikit-learn/issues/21755 */display: inline-block !important;position: relative;}#sk-container-id-1 div.sk-text-repr-fallback {display: none;}</style><div id=\"sk-container-id-1\" class=\"sk-top-container\"><div class=\"sk-text-repr-fallback\"><pre>Pipeline(steps=[(&#x27;scale&#x27;, None),\n",
       "                (&#x27;model&#x27;,\n",
       "                 LogisticRegression(l1_ratio=0.5, max_iter=5000,\n",
       "                                    penalty=&#x27;elasticnet&#x27;, solver=&#x27;saga&#x27;))])</pre><b>In a Jupyter environment, please rerun this cell to show the HTML representation or trust the notebook. <br />On GitHub, the HTML representation is unable to render, please try loading this page with nbviewer.org.</b></div><div class=\"sk-container\" hidden><div class=\"sk-item sk-dashed-wrapped\"><div class=\"sk-label-container\"><div class=\"sk-label sk-toggleable\"><input class=\"sk-toggleable__control sk-hidden--visually\" id=\"sk-estimator-id-1\" type=\"checkbox\" ><label for=\"sk-estimator-id-1\" class=\"sk-toggleable__label sk-toggleable__label-arrow\">Pipeline</label><div class=\"sk-toggleable__content\"><pre>Pipeline(steps=[(&#x27;scale&#x27;, None),\n",
       "                (&#x27;model&#x27;,\n",
       "                 LogisticRegression(l1_ratio=0.5, max_iter=5000,\n",
       "                                    penalty=&#x27;elasticnet&#x27;, solver=&#x27;saga&#x27;))])</pre></div></div></div><div class=\"sk-serial\"><div class=\"sk-item\"><div class=\"sk-estimator sk-toggleable\"><input class=\"sk-toggleable__control sk-hidden--visually\" id=\"sk-estimator-id-2\" type=\"checkbox\" ><label for=\"sk-estimator-id-2\" class=\"sk-toggleable__label sk-toggleable__label-arrow\">None</label><div class=\"sk-toggleable__content\"><pre>None</pre></div></div></div><div class=\"sk-item\"><div class=\"sk-estimator sk-toggleable\"><input class=\"sk-toggleable__control sk-hidden--visually\" id=\"sk-estimator-id-3\" type=\"checkbox\" ><label for=\"sk-estimator-id-3\" class=\"sk-toggleable__label sk-toggleable__label-arrow\">LogisticRegression</label><div class=\"sk-toggleable__content\"><pre>LogisticRegression(l1_ratio=0.5, max_iter=5000, penalty=&#x27;elasticnet&#x27;,\n",
       "                   solver=&#x27;saga&#x27;)</pre></div></div></div></div></div></div></div>"
      ],
      "text/plain": [
       "Pipeline(steps=[('scale', None),\n",
       "                ('model',\n",
       "                 LogisticRegression(l1_ratio=0.5, max_iter=5000,\n",
       "                                    penalty='elasticnet', solver='saga'))])"
      ]
     },
     "execution_count": 43,
     "metadata": {},
     "output_type": "execute_result"
    }
   ],
   "source": [
    "model.fit(X_train, y_train.values.ravel())"
   ]
  },
  {
   "cell_type": "code",
   "execution_count": 44,
   "id": "af59f8c0",
   "metadata": {
    "execution": {
     "iopub.execute_input": "2025-07-30T21:10:22.977945Z",
     "iopub.status.busy": "2025-07-30T21:10:22.976970Z",
     "iopub.status.idle": "2025-07-30T21:10:22.983433Z",
     "shell.execute_reply": "2025-07-30T21:10:22.982413Z"
    },
    "papermill": {
     "duration": 0.033856,
     "end_time": "2025-07-30T21:10:22.985212",
     "exception": false,
     "start_time": "2025-07-30T21:10:22.951356",
     "status": "completed"
    },
    "tags": []
   },
   "outputs": [],
   "source": [
    "from fairness_multiverse.universe import predict_w_threshold"
   ]
  },
  {
   "cell_type": "code",
   "execution_count": 45,
   "id": "a7cf2e16",
   "metadata": {
    "execution": {
     "iopub.execute_input": "2025-07-30T21:10:23.033991Z",
     "iopub.status.busy": "2025-07-30T21:10:23.033196Z",
     "iopub.status.idle": "2025-07-30T21:10:23.167962Z",
     "shell.execute_reply": "2025-07-30T21:10:23.166968Z"
    },
    "papermill": {
     "duration": 0.161207,
     "end_time": "2025-07-30T21:10:23.169726",
     "exception": false,
     "start_time": "2025-07-30T21:10:23.008519",
     "status": "completed"
    },
    "tags": []
   },
   "outputs": [
    {
     "data": {
      "text/plain": [
       "0.8605729573068777"
      ]
     },
     "execution_count": 45,
     "metadata": {},
     "output_type": "execute_result"
    }
   ],
   "source": [
    "probs_test = model.predict_proba(X_test)\n",
    "\n",
    "'''\n",
    "Below code returns a boolean array (or binary 0/1 array depending on how it’s used) where each element \n",
    "is True if the probability of class 1 is greater than or equal to the threshold, and False otherwise.\n",
    "'''\n",
    "y_pred_default = predict_w_threshold(probs_test, 0.5)\n",
    "\n",
    "from sklearn.metrics import accuracy_score\n",
    "\n",
    "# Naive prediction\n",
    "accuracy_score(y_true = y_true, y_pred = y_pred_default)"
   ]
  },
  {
   "cell_type": "code",
   "execution_count": 46,
   "id": "081964c3",
   "metadata": {
    "execution": {
     "iopub.execute_input": "2025-07-30T21:10:23.219986Z",
     "iopub.status.busy": "2025-07-30T21:10:23.219080Z",
     "iopub.status.idle": "2025-07-30T21:10:23.330226Z",
     "shell.execute_reply": "2025-07-30T21:10:23.329098Z"
    },
    "papermill": {
     "duration": 0.137843,
     "end_time": "2025-07-30T21:10:23.331969",
     "exception": false,
     "start_time": "2025-07-30T21:10:23.194126",
     "status": "completed"
    },
    "tags": []
   },
   "outputs": [
    {
     "data": {
      "text/plain": [
       "array([0, 0, 0, ..., 0, 0, 0])"
      ]
     },
     "execution_count": 46,
     "metadata": {},
     "output_type": "execute_result"
    }
   ],
   "source": [
    "model.predict(X_test)"
   ]
  },
  {
   "cell_type": "markdown",
   "id": "56c9705b",
   "metadata": {
    "papermill": {
     "duration": 0.023298,
     "end_time": "2025-07-30T21:10:23.379191",
     "exception": false,
     "start_time": "2025-07-30T21:10:23.355893",
     "status": "completed"
    },
    "tags": []
   },
   "source": [
    "# Conformal Prediction"
   ]
  },
  {
   "cell_type": "code",
   "execution_count": 47,
   "id": "160ec6ff",
   "metadata": {
    "execution": {
     "iopub.execute_input": "2025-07-30T21:10:23.431019Z",
     "iopub.status.busy": "2025-07-30T21:10:23.430133Z",
     "iopub.status.idle": "2025-07-30T21:10:23.435675Z",
     "shell.execute_reply": "2025-07-30T21:10:23.434611Z"
    },
    "papermill": {
     "duration": 0.034121,
     "end_time": "2025-07-30T21:10:23.438032",
     "exception": false,
     "start_time": "2025-07-30T21:10:23.403911",
     "status": "completed"
    },
    "tags": []
   },
   "outputs": [],
   "source": [
    "# Miscoverage level for conformal prediction (10% allowed error rate => 90% target coverage)\n",
    "alpha = 0.1"
   ]
  },
  {
   "cell_type": "code",
   "execution_count": 48,
   "id": "eadf4555-3dd3-440e-8e35-f82a4ad9f855",
   "metadata": {
    "execution": {
     "iopub.execute_input": "2025-07-30T21:10:23.498639Z",
     "iopub.status.busy": "2025-07-30T21:10:23.498188Z",
     "iopub.status.idle": "2025-07-30T21:10:23.612641Z",
     "shell.execute_reply": "2025-07-30T21:10:23.611510Z"
    },
    "papermill": {
     "duration": 0.147014,
     "end_time": "2025-07-30T21:10:23.614573",
     "exception": false,
     "start_time": "2025-07-30T21:10:23.467559",
     "status": "completed"
    },
    "tags": []
   },
   "outputs": [],
   "source": [
    "probs_calib = model.predict_proba(X_calib)"
   ]
  },
  {
   "cell_type": "code",
   "execution_count": 49,
   "id": "2ed93547-6d5d-4983-9b36-1ecb300da49a",
   "metadata": {
    "execution": {
     "iopub.execute_input": "2025-07-30T21:10:23.663708Z",
     "iopub.status.busy": "2025-07-30T21:10:23.662943Z",
     "iopub.status.idle": "2025-07-30T21:10:23.669805Z",
     "shell.execute_reply": "2025-07-30T21:10:23.668819Z"
    },
    "papermill": {
     "duration": 0.032294,
     "end_time": "2025-07-30T21:10:23.671308",
     "exception": false,
     "start_time": "2025-07-30T21:10:23.639014",
     "status": "completed"
    },
    "tags": []
   },
   "outputs": [],
   "source": [
    "y_calib = y_calib.values.ravel().astype(int)"
   ]
  },
  {
   "cell_type": "code",
   "execution_count": 50,
   "id": "65d1320d-f588-4b38-9072-62af1ae97f7d",
   "metadata": {
    "execution": {
     "iopub.execute_input": "2025-07-30T21:10:23.719114Z",
     "iopub.status.busy": "2025-07-30T21:10:23.718297Z",
     "iopub.status.idle": "2025-07-30T21:10:23.728263Z",
     "shell.execute_reply": "2025-07-30T21:10:23.727171Z"
    },
    "papermill": {
     "duration": 0.0353,
     "end_time": "2025-07-30T21:10:23.730070",
     "exception": false,
     "start_time": "2025-07-30T21:10:23.694770",
     "status": "completed"
    },
    "tags": []
   },
   "outputs": [],
   "source": [
    "from fairness_multiverse.conformal import compute_nc_scores\n",
    "\n",
    "# Compute nonconformity scores on calibration set (1 - probability of true class)\n",
    "nc_scores = compute_nc_scores(probs_calib, y_calib)"
   ]
  },
  {
   "cell_type": "code",
   "execution_count": 51,
   "id": "df3b8ca3-53b7-43d5-9667-7c85da7aeda2",
   "metadata": {
    "execution": {
     "iopub.execute_input": "2025-07-30T21:10:23.777160Z",
     "iopub.status.busy": "2025-07-30T21:10:23.776450Z",
     "iopub.status.idle": "2025-07-30T21:10:23.784163Z",
     "shell.execute_reply": "2025-07-30T21:10:23.783193Z"
    },
    "papermill": {
     "duration": 0.033172,
     "end_time": "2025-07-30T21:10:23.786034",
     "exception": false,
     "start_time": "2025-07-30T21:10:23.752862",
     "status": "completed"
    },
    "tags": []
   },
   "outputs": [],
   "source": [
    "from fairness_multiverse.conformal import find_threshold\n",
    "\n",
    "# Find conformal threshold q_hat for the given alpha (split conformal method)\n",
    "q_hat = find_threshold(nc_scores, alpha)"
   ]
  },
  {
   "cell_type": "code",
   "execution_count": 52,
   "id": "4d29e6c1-0ef6-4aa4-b8fe-4fe79b0d033a",
   "metadata": {
    "execution": {
     "iopub.execute_input": "2025-07-30T21:10:23.834361Z",
     "iopub.status.busy": "2025-07-30T21:10:23.833455Z",
     "iopub.status.idle": "2025-07-30T21:10:23.840737Z",
     "shell.execute_reply": "2025-07-30T21:10:23.839800Z"
    },
    "papermill": {
     "duration": 0.032204,
     "end_time": "2025-07-30T21:10:23.842280",
     "exception": false,
     "start_time": "2025-07-30T21:10:23.810076",
     "status": "completed"
    },
    "tags": []
   },
   "outputs": [
    {
     "data": {
      "text/plain": [
       "0.6633128665550251"
      ]
     },
     "execution_count": 52,
     "metadata": {},
     "output_type": "execute_result"
    }
   ],
   "source": [
    "q_hat"
   ]
  },
  {
   "cell_type": "code",
   "execution_count": 53,
   "id": "92460794-cdac-4be2-ba28-f28c0515a6fb",
   "metadata": {
    "execution": {
     "iopub.execute_input": "2025-07-30T21:10:23.891126Z",
     "iopub.status.busy": "2025-07-30T21:10:23.890421Z",
     "iopub.status.idle": "2025-07-30T21:10:24.728997Z",
     "shell.execute_reply": "2025-07-30T21:10:24.728143Z"
    },
    "papermill": {
     "duration": 0.864893,
     "end_time": "2025-07-30T21:10:24.730936",
     "exception": false,
     "start_time": "2025-07-30T21:10:23.866043",
     "status": "completed"
    },
    "tags": []
   },
   "outputs": [],
   "source": [
    "from fairness_multiverse.conformal import predict_conformal_sets\n",
    "\n",
    "# Generate prediction sets for each test example\n",
    "pred_sets = predict_conformal_sets(model, X_test, q_hat)"
   ]
  },
  {
   "cell_type": "code",
   "execution_count": 54,
   "id": "d90c9a65-e6db-4f5d-80cd-e68fb7e46829",
   "metadata": {
    "execution": {
     "iopub.execute_input": "2025-07-30T21:10:24.777240Z",
     "iopub.status.busy": "2025-07-30T21:10:24.776770Z",
     "iopub.status.idle": "2025-07-30T21:10:24.782192Z",
     "shell.execute_reply": "2025-07-30T21:10:24.781271Z"
    },
    "papermill": {
     "duration": 0.030127,
     "end_time": "2025-07-30T21:10:24.783926",
     "exception": false,
     "start_time": "2025-07-30T21:10:24.753799",
     "status": "completed"
    },
    "tags": []
   },
   "outputs": [],
   "source": [
    "y_true = y_true.squeeze()"
   ]
  },
  {
   "cell_type": "code",
   "execution_count": 55,
   "id": "3a58a54a-1e68-46b9-927a-df01f18aebc8",
   "metadata": {
    "execution": {
     "iopub.execute_input": "2025-07-30T21:10:24.832058Z",
     "iopub.status.busy": "2025-07-30T21:10:24.831672Z",
     "iopub.status.idle": "2025-07-30T21:10:25.725953Z",
     "shell.execute_reply": "2025-07-30T21:10:25.725008Z"
    },
    "papermill": {
     "duration": 0.919386,
     "end_time": "2025-07-30T21:10:25.727766",
     "exception": false,
     "start_time": "2025-07-30T21:10:24.808380",
     "status": "completed"
    },
    "tags": []
   },
   "outputs": [],
   "source": [
    "from fairness_multiverse.conformal import evaluate_sets\n",
    "\n",
    "# Evaluate coverage and average set size on test data\n",
    "metrics = evaluate_sets(pred_sets, y_true)"
   ]
  },
  {
   "cell_type": "markdown",
   "id": "2b569c12-9aaa-4c88-98c9-bbcd0cf3ebb8",
   "metadata": {
    "papermill": {
     "duration": 0.024008,
     "end_time": "2025-07-30T21:10:25.775791",
     "exception": false,
     "start_time": "2025-07-30T21:10:25.751783",
     "status": "completed"
    },
    "tags": []
   },
   "source": [
    "# CP Metrics"
   ]
  },
  {
   "cell_type": "code",
   "execution_count": 56,
   "id": "5ce0a5cb-201f-45a0-ade5-94c7f0bd6095",
   "metadata": {
    "execution": {
     "iopub.execute_input": "2025-07-30T21:10:25.824650Z",
     "iopub.status.busy": "2025-07-30T21:10:25.824000Z",
     "iopub.status.idle": "2025-07-30T21:10:25.831045Z",
     "shell.execute_reply": "2025-07-30T21:10:25.830170Z"
    },
    "papermill": {
     "duration": 0.033082,
     "end_time": "2025-07-30T21:10:25.832656",
     "exception": false,
     "start_time": "2025-07-30T21:10:25.799574",
     "status": "completed"
    },
    "tags": []
   },
   "outputs": [
    {
     "data": {
      "text/plain": [
       "{'coverage': 0.9140564039683424, 'avg_size': 1.2494370750195074}"
      ]
     },
     "execution_count": 56,
     "metadata": {},
     "output_type": "execute_result"
    }
   ],
   "source": [
    "metrics"
   ]
  },
  {
   "cell_type": "code",
   "execution_count": 57,
   "id": "9b9a838d-31c9-430b-ae14-12baee460d17",
   "metadata": {
    "execution": {
     "iopub.execute_input": "2025-07-30T21:10:25.882686Z",
     "iopub.status.busy": "2025-07-30T21:10:25.882049Z",
     "iopub.status.idle": "2025-07-30T21:10:25.888312Z",
     "shell.execute_reply": "2025-07-30T21:10:25.887441Z"
    },
    "papermill": {
     "duration": 0.0334,
     "end_time": "2025-07-30T21:10:25.889999",
     "exception": false,
     "start_time": "2025-07-30T21:10:25.856599",
     "status": "completed"
    },
    "tags": []
   },
   "outputs": [],
   "source": [
    "example_universe = universe.copy()\n",
    "universe_training_year = example_universe.get(\"training_year\")\n",
    "universe_training_size = example_universe.get(\"training_size\")\n",
    "universe_scale = example_universe.get(\"scale\")\n",
    "universe_model = example_universe.get(\"model\")\n",
    "universe_exclude_features = example_universe.get(\"exclude_features\")\n",
    "universe_exclude_subgroups = example_universe.get(\"exclude_subgroups\")"
   ]
  },
  {
   "cell_type": "code",
   "execution_count": 58,
   "id": "f4b6a8ac-9dc0-4245-8a91-5b3b5999c4f9",
   "metadata": {
    "execution": {
     "iopub.execute_input": "2025-07-30T21:10:25.941478Z",
     "iopub.status.busy": "2025-07-30T21:10:25.940792Z",
     "iopub.status.idle": "2025-07-30T21:10:25.948446Z",
     "shell.execute_reply": "2025-07-30T21:10:25.947251Z"
    },
    "papermill": {
     "duration": 0.035708,
     "end_time": "2025-07-30T21:10:25.950320",
     "exception": false,
     "start_time": "2025-07-30T21:10:25.914612",
     "status": "completed"
    },
    "tags": []
   },
   "outputs": [],
   "source": [
    "cp_metrics_dict = {\n",
    "    \"universe_id\": [universe_id],\n",
    "    \"universe_training_year\": [universe_training_year],\n",
    "    \"universe_training_size\": [universe_training_size],\n",
    "    \"universe_scale\": [universe_scale],\n",
    "    \"universe_model\": [universe_model],\n",
    "    \"universe_exclude_features\": [universe_exclude_features],\n",
    "    \"universe_exclude_subgroups\": [universe_exclude_subgroups],\n",
    "    \"q_hat\": [q_hat],\n",
    "    \"coverage\": [metrics[\"coverage\"]],\n",
    "    \"avg_size\": [metrics[\"avg_size\"]],\n",
    "}"
   ]
  },
  {
   "cell_type": "code",
   "execution_count": 59,
   "id": "908acbb1-0371-4915-85ca-3fa520d2efe2",
   "metadata": {
    "execution": {
     "iopub.execute_input": "2025-07-30T21:10:26.001307Z",
     "iopub.status.busy": "2025-07-30T21:10:26.000848Z",
     "iopub.status.idle": "2025-07-30T21:10:26.008191Z",
     "shell.execute_reply": "2025-07-30T21:10:26.007193Z"
    },
    "papermill": {
     "duration": 0.034752,
     "end_time": "2025-07-30T21:10:26.009877",
     "exception": false,
     "start_time": "2025-07-30T21:10:25.975125",
     "status": "completed"
    },
    "tags": []
   },
   "outputs": [
    {
     "data": {
      "text/plain": [
       "{'universe_id': ['f68909a6592bb8d2b4feff40a95ece34'],\n",
       " 'universe_training_year': ['2012_14'],\n",
       " 'universe_training_size': ['5k'],\n",
       " 'universe_scale': ['do-not-scale'],\n",
       " 'universe_model': ['elasticnet'],\n",
       " 'universe_exclude_features': ['age'],\n",
       " 'universe_exclude_subgroups': ['keep-all'],\n",
       " 'q_hat': [0.6633128665550251],\n",
       " 'coverage': [0.9140564039683424],\n",
       " 'avg_size': [1.2494370750195074]}"
      ]
     },
     "execution_count": 59,
     "metadata": {},
     "output_type": "execute_result"
    }
   ],
   "source": [
    "cp_metrics_dict"
   ]
  },
  {
   "cell_type": "code",
   "execution_count": 60,
   "id": "33007efc-14e9-4ec6-97ac-56a455c82265",
   "metadata": {
    "execution": {
     "iopub.execute_input": "2025-07-30T21:10:26.061884Z",
     "iopub.status.busy": "2025-07-30T21:10:26.061222Z",
     "iopub.status.idle": "2025-07-30T21:10:26.067480Z",
     "shell.execute_reply": "2025-07-30T21:10:26.066568Z"
    },
    "papermill": {
     "duration": 0.033634,
     "end_time": "2025-07-30T21:10:26.068968",
     "exception": false,
     "start_time": "2025-07-30T21:10:26.035334",
     "status": "completed"
    },
    "tags": []
   },
   "outputs": [],
   "source": [
    "cp_metrics_df = pd.DataFrame(cp_metrics_dict)"
   ]
  },
  {
   "cell_type": "code",
   "execution_count": 61,
   "id": "db12611b-57b2-4910-b9d0-355adfd6e7bf",
   "metadata": {
    "execution": {
     "iopub.execute_input": "2025-07-30T21:10:26.119963Z",
     "iopub.status.busy": "2025-07-30T21:10:26.119159Z",
     "iopub.status.idle": "2025-07-30T21:10:26.137858Z",
     "shell.execute_reply": "2025-07-30T21:10:26.136941Z"
    },
    "papermill": {
     "duration": 0.046303,
     "end_time": "2025-07-30T21:10:26.139570",
     "exception": false,
     "start_time": "2025-07-30T21:10:26.093267",
     "status": "completed"
    },
    "tags": []
   },
   "outputs": [
    {
     "data": {
      "text/html": [
       "<div>\n",
       "<style scoped>\n",
       "    .dataframe tbody tr th:only-of-type {\n",
       "        vertical-align: middle;\n",
       "    }\n",
       "\n",
       "    .dataframe tbody tr th {\n",
       "        vertical-align: top;\n",
       "    }\n",
       "\n",
       "    .dataframe thead th {\n",
       "        text-align: right;\n",
       "    }\n",
       "</style>\n",
       "<table border=\"1\" class=\"dataframe\">\n",
       "  <thead>\n",
       "    <tr style=\"text-align: right;\">\n",
       "      <th></th>\n",
       "      <th>universe_id</th>\n",
       "      <th>universe_training_year</th>\n",
       "      <th>universe_training_size</th>\n",
       "      <th>universe_scale</th>\n",
       "      <th>universe_model</th>\n",
       "      <th>universe_exclude_features</th>\n",
       "      <th>universe_exclude_subgroups</th>\n",
       "      <th>q_hat</th>\n",
       "      <th>coverage</th>\n",
       "      <th>avg_size</th>\n",
       "    </tr>\n",
       "  </thead>\n",
       "  <tbody>\n",
       "    <tr>\n",
       "      <th>0</th>\n",
       "      <td>f68909a6592bb8d2b4feff40a95ece34</td>\n",
       "      <td>2012_14</td>\n",
       "      <td>5k</td>\n",
       "      <td>do-not-scale</td>\n",
       "      <td>elasticnet</td>\n",
       "      <td>age</td>\n",
       "      <td>keep-all</td>\n",
       "      <td>0.663313</td>\n",
       "      <td>0.914056</td>\n",
       "      <td>1.249437</td>\n",
       "    </tr>\n",
       "  </tbody>\n",
       "</table>\n",
       "</div>"
      ],
      "text/plain": [
       "                        universe_id universe_training_year  \\\n",
       "0  f68909a6592bb8d2b4feff40a95ece34                2012_14   \n",
       "\n",
       "  universe_training_size universe_scale universe_model  \\\n",
       "0                     5k   do-not-scale     elasticnet   \n",
       "\n",
       "  universe_exclude_features universe_exclude_subgroups     q_hat  coverage  \\\n",
       "0                       age                   keep-all  0.663313  0.914056   \n",
       "\n",
       "   avg_size  \n",
       "0  1.249437  "
      ]
     },
     "execution_count": 61,
     "metadata": {},
     "output_type": "execute_result"
    }
   ],
   "source": [
    "cp_metrics_df"
   ]
  },
  {
   "cell_type": "code",
   "execution_count": 62,
   "id": "b7fbde55-a0a1-47e4-9af6-fe4a17fa8c61",
   "metadata": {
    "execution": {
     "iopub.execute_input": "2025-07-30T21:10:26.203323Z",
     "iopub.status.busy": "2025-07-30T21:10:26.202505Z",
     "iopub.status.idle": "2025-07-30T21:10:26.208109Z",
     "shell.execute_reply": "2025-07-30T21:10:26.207036Z"
    },
    "papermill": {
     "duration": 0.041583,
     "end_time": "2025-07-30T21:10:26.210423",
     "exception": false,
     "start_time": "2025-07-30T21:10:26.168840",
     "status": "completed"
    },
    "tags": []
   },
   "outputs": [],
   "source": [
    "# Conditional Coverage & looking at subgroups"
   ]
  },
  {
   "cell_type": "code",
   "execution_count": 63,
   "id": "027ae886-68dd-4141-96c7-805a5450e1ef",
   "metadata": {
    "execution": {
     "iopub.execute_input": "2025-07-30T21:10:26.268660Z",
     "iopub.status.busy": "2025-07-30T21:10:26.268155Z",
     "iopub.status.idle": "2025-07-30T21:10:26.530478Z",
     "shell.execute_reply": "2025-07-30T21:10:26.529584Z"
    },
    "papermill": {
     "duration": 0.288973,
     "end_time": "2025-07-30T21:10:26.532066",
     "exception": false,
     "start_time": "2025-07-30T21:10:26.243093",
     "status": "completed"
    },
    "tags": []
   },
   "outputs": [],
   "source": [
    "from fairness_multiverse.conformal import build_cp_groups\n",
    "\n",
    "cp_groups_df = build_cp_groups(pred_sets, y_true, X_test.index, org_test)\n",
    "#needs universe_id and setting"
   ]
  },
  {
   "cell_type": "code",
   "execution_count": 64,
   "id": "01d5802c-663a-4d1f-9d69-e036faaffbf7",
   "metadata": {
    "execution": {
     "iopub.execute_input": "2025-07-30T21:10:26.583969Z",
     "iopub.status.busy": "2025-07-30T21:10:26.583519Z",
     "iopub.status.idle": "2025-07-30T21:10:26.588433Z",
     "shell.execute_reply": "2025-07-30T21:10:26.587492Z"
    },
    "papermill": {
     "duration": 0.033448,
     "end_time": "2025-07-30T21:10:26.590210",
     "exception": false,
     "start_time": "2025-07-30T21:10:26.556762",
     "status": "completed"
    },
    "tags": []
   },
   "outputs": [],
   "source": [
    "#delete\n",
    "#cp_groups_df"
   ]
  },
  {
   "cell_type": "code",
   "execution_count": 65,
   "id": "fa424af1-d1eb-443d-b717-2d279ada8408",
   "metadata": {
    "execution": {
     "iopub.execute_input": "2025-07-30T21:10:26.646565Z",
     "iopub.status.busy": "2025-07-30T21:10:26.646090Z",
     "iopub.status.idle": "2025-07-30T21:10:26.651250Z",
     "shell.execute_reply": "2025-07-30T21:10:26.650331Z"
    },
    "papermill": {
     "duration": 0.03736,
     "end_time": "2025-07-30T21:10:26.653233",
     "exception": false,
     "start_time": "2025-07-30T21:10:26.615873",
     "status": "completed"
    },
    "tags": []
   },
   "outputs": [],
   "source": [
    "#delete\n",
    "#percentage = (cp_groups_df['nongerman_female'] == 1).mean() * 100\n",
    "#print(percentage)\n"
   ]
  },
  {
   "cell_type": "code",
   "execution_count": 66,
   "id": "6cbdab96-b2b2-45af-ad54-d0516db2e28d",
   "metadata": {
    "execution": {
     "iopub.execute_input": "2025-07-30T21:10:26.703932Z",
     "iopub.status.busy": "2025-07-30T21:10:26.703421Z",
     "iopub.status.idle": "2025-07-30T21:10:28.249045Z",
     "shell.execute_reply": "2025-07-30T21:10:28.247789Z"
    },
    "papermill": {
     "duration": 1.573425,
     "end_time": "2025-07-30T21:10:28.251294",
     "exception": false,
     "start_time": "2025-07-30T21:10:26.677869",
     "status": "completed"
    },
    "tags": []
   },
   "outputs": [],
   "source": [
    "# Define covered = 1 if true_label is in the predicted set\n",
    "cp_groups_df['covered'] = cp_groups_df.apply(\n",
    "    lambda r: int(r['true_label'] in r['pred_set']),\n",
    "    axis=1\n",
    ")"
   ]
  },
  {
   "cell_type": "code",
   "execution_count": 67,
   "id": "338ff529-1a6b-4b87-a931-8e4788d52aad",
   "metadata": {
    "execution": {
     "iopub.execute_input": "2025-07-30T21:10:28.317627Z",
     "iopub.status.busy": "2025-07-30T21:10:28.317168Z",
     "iopub.status.idle": "2025-07-30T21:10:28.322192Z",
     "shell.execute_reply": "2025-07-30T21:10:28.321237Z"
    },
    "papermill": {
     "duration": 0.0338,
     "end_time": "2025-07-30T21:10:28.324090",
     "exception": false,
     "start_time": "2025-07-30T21:10:28.290290",
     "status": "completed"
    },
    "tags": []
   },
   "outputs": [],
   "source": [
    "#cp_groups_df"
   ]
  },
  {
   "cell_type": "code",
   "execution_count": 68,
   "id": "90032e27-66df-4540-9169-4e89cfbaa758",
   "metadata": {
    "execution": {
     "iopub.execute_input": "2025-07-30T21:10:28.379071Z",
     "iopub.status.busy": "2025-07-30T21:10:28.378325Z",
     "iopub.status.idle": "2025-07-30T21:10:28.389828Z",
     "shell.execute_reply": "2025-07-30T21:10:28.388930Z"
    },
    "papermill": {
     "duration": 0.042055,
     "end_time": "2025-07-30T21:10:28.391315",
     "exception": false,
     "start_time": "2025-07-30T21:10:28.349260",
     "status": "completed"
    },
    "tags": []
   },
   "outputs": [],
   "source": [
    "subgroups = ['frau1','nongerman','nongerman_male','nongerman_female']\n",
    "\n",
    "# Conditional coverage for subgroup==1\n",
    "cond_coverage = {\n",
    "    g: cp_groups_df.loc[cp_groups_df[g]==1, 'covered'].mean()\n",
    "    for g in subgroups\n",
    "}"
   ]
  },
  {
   "cell_type": "code",
   "execution_count": 69,
   "id": "1e348fb1-b9c3-45bc-ba23-f016827a7e0d",
   "metadata": {
    "execution": {
     "iopub.execute_input": "2025-07-30T21:10:28.442926Z",
     "iopub.status.busy": "2025-07-30T21:10:28.442340Z",
     "iopub.status.idle": "2025-07-30T21:10:28.449628Z",
     "shell.execute_reply": "2025-07-30T21:10:28.448811Z"
    },
    "papermill": {
     "duration": 0.035476,
     "end_time": "2025-07-30T21:10:28.451096",
     "exception": false,
     "start_time": "2025-07-30T21:10:28.415620",
     "status": "completed"
    },
    "tags": []
   },
   "outputs": [
    {
     "data": {
      "text/plain": [
       "{'frau1': 0.9118749157568405,\n",
       " 'nongerman': 0.9614326615393252,\n",
       " 'nongerman_male': 0.9677564622174187,\n",
       " 'nongerman_female': 0.9509687034277198}"
      ]
     },
     "execution_count": 69,
     "metadata": {},
     "output_type": "execute_result"
    }
   ],
   "source": [
    "cond_coverage"
   ]
  },
  {
   "cell_type": "code",
   "execution_count": 70,
   "id": "f5093324-c3dd-4d63-bc4c-8d945e5c8bbb",
   "metadata": {
    "execution": {
     "iopub.execute_input": "2025-07-30T21:10:28.517016Z",
     "iopub.status.busy": "2025-07-30T21:10:28.516579Z",
     "iopub.status.idle": "2025-07-30T21:10:28.523578Z",
     "shell.execute_reply": "2025-07-30T21:10:28.522583Z"
    },
    "papermill": {
     "duration": 0.049953,
     "end_time": "2025-07-30T21:10:28.525139",
     "exception": false,
     "start_time": "2025-07-30T21:10:28.475186",
     "status": "completed"
    },
    "tags": []
   },
   "outputs": [],
   "source": [
    "for subgroup, cov in cond_coverage.items():\n",
    "    cp_metrics_df[f\"cov_{subgroup}\"] = cov"
   ]
  },
  {
   "cell_type": "code",
   "execution_count": 71,
   "id": "6e872e10-dbe5-49e8-b554-5030c98ff75d",
   "metadata": {
    "execution": {
     "iopub.execute_input": "2025-07-30T21:10:28.575757Z",
     "iopub.status.busy": "2025-07-30T21:10:28.575127Z",
     "iopub.status.idle": "2025-07-30T21:10:28.594925Z",
     "shell.execute_reply": "2025-07-30T21:10:28.593992Z"
    },
    "papermill": {
     "duration": 0.046865,
     "end_time": "2025-07-30T21:10:28.596367",
     "exception": false,
     "start_time": "2025-07-30T21:10:28.549502",
     "status": "completed"
    },
    "tags": []
   },
   "outputs": [
    {
     "data": {
      "text/html": [
       "<div>\n",
       "<style scoped>\n",
       "    .dataframe tbody tr th:only-of-type {\n",
       "        vertical-align: middle;\n",
       "    }\n",
       "\n",
       "    .dataframe tbody tr th {\n",
       "        vertical-align: top;\n",
       "    }\n",
       "\n",
       "    .dataframe thead th {\n",
       "        text-align: right;\n",
       "    }\n",
       "</style>\n",
       "<table border=\"1\" class=\"dataframe\">\n",
       "  <thead>\n",
       "    <tr style=\"text-align: right;\">\n",
       "      <th></th>\n",
       "      <th>universe_id</th>\n",
       "      <th>universe_training_year</th>\n",
       "      <th>universe_training_size</th>\n",
       "      <th>universe_scale</th>\n",
       "      <th>universe_model</th>\n",
       "      <th>universe_exclude_features</th>\n",
       "      <th>universe_exclude_subgroups</th>\n",
       "      <th>q_hat</th>\n",
       "      <th>coverage</th>\n",
       "      <th>avg_size</th>\n",
       "      <th>cov_frau1</th>\n",
       "      <th>cov_nongerman</th>\n",
       "      <th>cov_nongerman_male</th>\n",
       "      <th>cov_nongerman_female</th>\n",
       "    </tr>\n",
       "  </thead>\n",
       "  <tbody>\n",
       "    <tr>\n",
       "      <th>0</th>\n",
       "      <td>f68909a6592bb8d2b4feff40a95ece34</td>\n",
       "      <td>2012_14</td>\n",
       "      <td>5k</td>\n",
       "      <td>do-not-scale</td>\n",
       "      <td>elasticnet</td>\n",
       "      <td>age</td>\n",
       "      <td>keep-all</td>\n",
       "      <td>0.663313</td>\n",
       "      <td>0.914056</td>\n",
       "      <td>1.249437</td>\n",
       "      <td>0.911875</td>\n",
       "      <td>0.961433</td>\n",
       "      <td>0.967756</td>\n",
       "      <td>0.950969</td>\n",
       "    </tr>\n",
       "  </tbody>\n",
       "</table>\n",
       "</div>"
      ],
      "text/plain": [
       "                        universe_id universe_training_year  \\\n",
       "0  f68909a6592bb8d2b4feff40a95ece34                2012_14   \n",
       "\n",
       "  universe_training_size universe_scale universe_model  \\\n",
       "0                     5k   do-not-scale     elasticnet   \n",
       "\n",
       "  universe_exclude_features universe_exclude_subgroups     q_hat  coverage  \\\n",
       "0                       age                   keep-all  0.663313  0.914056   \n",
       "\n",
       "   avg_size  cov_frau1  cov_nongerman  cov_nongerman_male  \\\n",
       "0  1.249437   0.911875       0.961433            0.967756   \n",
       "\n",
       "   cov_nongerman_female  \n",
       "0              0.950969  "
      ]
     },
     "execution_count": 71,
     "metadata": {},
     "output_type": "execute_result"
    }
   ],
   "source": [
    "cp_metrics_df"
   ]
  },
  {
   "cell_type": "markdown",
   "id": "33774451",
   "metadata": {
    "papermill": {
     "duration": 0.02446,
     "end_time": "2025-07-30T21:10:28.646483",
     "exception": false,
     "start_time": "2025-07-30T21:10:28.622023",
     "status": "completed"
    },
    "tags": []
   },
   "source": [
    "# (Fairness) Metrics"
   ]
  },
  {
   "cell_type": "code",
   "execution_count": 72,
   "id": "debc5d62",
   "metadata": {
    "execution": {
     "iopub.execute_input": "2025-07-30T21:10:28.698815Z",
     "iopub.status.busy": "2025-07-30T21:10:28.698292Z",
     "iopub.status.idle": "2025-07-30T21:10:28.721842Z",
     "shell.execute_reply": "2025-07-30T21:10:28.720076Z"
    },
    "papermill": {
     "duration": 0.0658,
     "end_time": "2025-07-30T21:10:28.737431",
     "exception": false,
     "start_time": "2025-07-30T21:10:28.671631",
     "status": "completed"
    },
    "tags": []
   },
   "outputs": [],
   "source": [
    "# do I need to include maxdeutsch1.missing?\n",
    "\n",
    "import numpy as np\n",
    "\n",
    "colname_to_bin = \"maxdeutsch1\"\n",
    "majority_value = org_train[colname_to_bin].mode()[0]\n",
    "\n",
    "org_test[\"majmin\"] = np.where(org_test[colname_to_bin] == majority_value, \"majority\", \"minority\")"
   ]
  },
  {
   "cell_type": "code",
   "execution_count": 73,
   "id": "06a50de5",
   "metadata": {
    "execution": {
     "iopub.execute_input": "2025-07-30T21:10:28.806522Z",
     "iopub.status.busy": "2025-07-30T21:10:28.805485Z",
     "iopub.status.idle": "2025-07-30T21:10:31.477504Z",
     "shell.execute_reply": "2025-07-30T21:10:31.476440Z"
    },
    "papermill": {
     "duration": 2.706953,
     "end_time": "2025-07-30T21:10:31.479548",
     "exception": false,
     "start_time": "2025-07-30T21:10:28.772595",
     "status": "completed"
    },
    "tags": []
   },
   "outputs": [],
   "source": [
    "example_universe = universe.copy()\n",
    "example_universe[\"cutoff\"] = example_universe[\"cutoff\"][0]\n",
    "example_universe[\"eval_fairness_grouping\"] = example_universe[\"eval_fairness_grouping\"][0]\n",
    "fairness_dict, metric_frame = universe_analysis.compute_metrics(\n",
    "    example_universe,\n",
    "    y_pred_prob=probs_test,\n",
    "    y_test=y_true,\n",
    "    org_test=org_test,\n",
    ")"
   ]
  },
  {
   "cell_type": "markdown",
   "id": "f95d4e02",
   "metadata": {
    "papermill": {
     "duration": 0.015373,
     "end_time": "2025-07-30T21:10:31.526092",
     "exception": false,
     "start_time": "2025-07-30T21:10:31.510719",
     "status": "completed"
    },
    "tags": []
   },
   "source": [
    "# Overall"
   ]
  },
  {
   "cell_type": "markdown",
   "id": "bdee4871",
   "metadata": {
    "papermill": {
     "duration": 0.013489,
     "end_time": "2025-07-30T21:10:31.553084",
     "exception": false,
     "start_time": "2025-07-30T21:10:31.539595",
     "status": "completed"
    },
    "tags": []
   },
   "source": [
    "Fairness\n",
    "Main fairness target: Equalized Odds. Seems to be a better fit than equal opportunity, since we're not only interested in Y = 1. Seems to be a better fit than demographic parity, since we also care about accuracy, not just equal distribution of preds.\n",
    "\n",
    "Pick column for computation of fairness metrics\n",
    "\n",
    "Performance\n",
    "Overall performance measures, most interesting in relation to the measures split by group below"
   ]
  },
  {
   "cell_type": "code",
   "execution_count": 74,
   "id": "c4e067c6",
   "metadata": {
    "execution": {
     "iopub.execute_input": "2025-07-30T21:10:31.583122Z",
     "iopub.status.busy": "2025-07-30T21:10:31.582724Z",
     "iopub.status.idle": "2025-07-30T21:10:31.590553Z",
     "shell.execute_reply": "2025-07-30T21:10:31.589855Z"
    },
    "papermill": {
     "duration": 0.025078,
     "end_time": "2025-07-30T21:10:31.591696",
     "exception": false,
     "start_time": "2025-07-30T21:10:31.566618",
     "status": "completed"
    },
    "tags": []
   },
   "outputs": [
    {
     "data": {
      "text/plain": [
       "accuracy                   0.218337\n",
       "balanced accuracy          0.535128\n",
       "f1                         0.239834\n",
       "precision                  0.137009\n",
       "false positive rate        0.890987\n",
       "false negative rate        0.038756\n",
       "selection rate             0.900000\n",
       "count                  89710.000000\n",
       "dtype: float64"
      ]
     },
     "execution_count": 74,
     "metadata": {},
     "output_type": "execute_result"
    }
   ],
   "source": [
    "metric_frame.overall"
   ]
  },
  {
   "cell_type": "markdown",
   "id": "e968fe9d",
   "metadata": {
    "papermill": {
     "duration": 0.024734,
     "end_time": "2025-07-30T21:10:31.635522",
     "exception": false,
     "start_time": "2025-07-30T21:10:31.610788",
     "status": "completed"
    },
    "tags": []
   },
   "source": [
    "By Group"
   ]
  },
  {
   "cell_type": "code",
   "execution_count": 75,
   "id": "ec325bce",
   "metadata": {
    "execution": {
     "iopub.execute_input": "2025-07-30T21:10:31.692672Z",
     "iopub.status.busy": "2025-07-30T21:10:31.692182Z",
     "iopub.status.idle": "2025-07-30T21:10:31.708321Z",
     "shell.execute_reply": "2025-07-30T21:10:31.707260Z"
    },
    "papermill": {
     "duration": 0.046392,
     "end_time": "2025-07-30T21:10:31.709539",
     "exception": false,
     "start_time": "2025-07-30T21:10:31.663147",
     "status": "completed"
    },
    "tags": []
   },
   "outputs": [
    {
     "data": {
      "text/html": [
       "<div>\n",
       "<style scoped>\n",
       "    .dataframe tbody tr th:only-of-type {\n",
       "        vertical-align: middle;\n",
       "    }\n",
       "\n",
       "    .dataframe tbody tr th {\n",
       "        vertical-align: top;\n",
       "    }\n",
       "\n",
       "    .dataframe thead th {\n",
       "        text-align: right;\n",
       "    }\n",
       "</style>\n",
       "<table border=\"1\" class=\"dataframe\">\n",
       "  <thead>\n",
       "    <tr style=\"text-align: right;\">\n",
       "      <th></th>\n",
       "      <th>accuracy</th>\n",
       "      <th>balanced accuracy</th>\n",
       "      <th>f1</th>\n",
       "      <th>precision</th>\n",
       "      <th>false positive rate</th>\n",
       "      <th>false negative rate</th>\n",
       "      <th>selection rate</th>\n",
       "      <th>count</th>\n",
       "    </tr>\n",
       "    <tr>\n",
       "      <th>majmin</th>\n",
       "      <th></th>\n",
       "      <th></th>\n",
       "      <th></th>\n",
       "      <th></th>\n",
       "      <th></th>\n",
       "      <th></th>\n",
       "      <th></th>\n",
       "      <th></th>\n",
       "    </tr>\n",
       "  </thead>\n",
       "  <tbody>\n",
       "    <tr>\n",
       "      <th>majority</th>\n",
       "      <td>0.241174</td>\n",
       "      <td>0.543944</td>\n",
       "      <td>0.249678</td>\n",
       "      <td>0.143602</td>\n",
       "      <td>0.867583</td>\n",
       "      <td>0.04453</td>\n",
       "      <td>0.879196</td>\n",
       "      <td>69170.0</td>\n",
       "    </tr>\n",
       "    <tr>\n",
       "      <th>minority</th>\n",
       "      <td>0.141431</td>\n",
       "      <td>0.507614</td>\n",
       "      <td>0.208945</td>\n",
       "      <td>0.116888</td>\n",
       "      <td>0.968303</td>\n",
       "      <td>0.01647</td>\n",
       "      <td>0.970058</td>\n",
       "      <td>20540.0</td>\n",
       "    </tr>\n",
       "  </tbody>\n",
       "</table>\n",
       "</div>"
      ],
      "text/plain": [
       "          accuracy  balanced accuracy        f1  precision  \\\n",
       "majmin                                                       \n",
       "majority  0.241174           0.543944  0.249678   0.143602   \n",
       "minority  0.141431           0.507614  0.208945   0.116888   \n",
       "\n",
       "          false positive rate  false negative rate  selection rate    count  \n",
       "majmin                                                                       \n",
       "majority             0.867583              0.04453        0.879196  69170.0  \n",
       "minority             0.968303              0.01647        0.970058  20540.0  "
      ]
     },
     "execution_count": 75,
     "metadata": {},
     "output_type": "execute_result"
    }
   ],
   "source": [
    "metric_frame.by_group"
   ]
  },
  {
   "cell_type": "code",
   "execution_count": 76,
   "id": "a9ddbe63",
   "metadata": {
    "execution": {
     "iopub.execute_input": "2025-07-30T21:10:31.740343Z",
     "iopub.status.busy": "2025-07-30T21:10:31.739931Z",
     "iopub.status.idle": "2025-07-30T21:10:34.130020Z",
     "shell.execute_reply": "2025-07-30T21:10:34.129073Z"
    },
    "papermill": {
     "duration": 2.405803,
     "end_time": "2025-07-30T21:10:34.131563",
     "exception": false,
     "start_time": "2025-07-30T21:10:31.725760",
     "status": "completed"
    },
    "tags": []
   },
   "outputs": [
    {
     "data": {
      "text/plain": [
       "array([[<Axes: title={'center': 'accuracy'}, xlabel='majmin'>,\n",
       "        <Axes: title={'center': 'balanced accuracy'}, xlabel='majmin'>,\n",
       "        <Axes: title={'center': 'f1'}, xlabel='majmin'>],\n",
       "       [<Axes: title={'center': 'precision'}, xlabel='majmin'>,\n",
       "        <Axes: title={'center': 'false positive rate'}, xlabel='majmin'>,\n",
       "        <Axes: title={'center': 'false negative rate'}, xlabel='majmin'>],\n",
       "       [<Axes: title={'center': 'selection rate'}, xlabel='majmin'>,\n",
       "        <Axes: title={'center': 'count'}, xlabel='majmin'>,\n",
       "        <Axes: xlabel='majmin'>]], dtype=object)"
      ]
     },
     "execution_count": 76,
     "metadata": {},
     "output_type": "execute_result"
    },
    {
     "data": {
      "image/png": "[encoded data removed]",
      "text/plain": [
       "<Figure size 1200x800 with 9 Axes>"
      ]
     },
     "metadata": {},
     "output_type": "display_data"
    }
   ],
   "source": [
    "# In a graphic\n",
    "metric_frame.by_group.plot.bar(\n",
    "    subplots=True,\n",
    "    layout=[3, 3],\n",
    "    legend=False,\n",
    "    figsize=[12, 8],\n",
    "    title=\"Show all metrics\",\n",
    ")"
   ]
  },
  {
   "cell_type": "markdown",
   "id": "f57a0bac",
   "metadata": {
    "papermill": {
     "duration": 0.027259,
     "end_time": "2025-07-30T21:10:34.190149",
     "exception": false,
     "start_time": "2025-07-30T21:10:34.162890",
     "status": "completed"
    },
    "tags": []
   },
   "source": [
    "# Final Output"
   ]
  },
  {
   "cell_type": "code",
   "execution_count": 77,
   "id": "96d280a3",
   "metadata": {
    "execution": {
     "iopub.execute_input": "2025-07-30T21:10:34.245737Z",
     "iopub.status.busy": "2025-07-30T21:10:34.244597Z",
     "iopub.status.idle": "2025-07-30T21:10:34.253032Z",
     "shell.execute_reply": "2025-07-30T21:10:34.251959Z"
    },
    "papermill": {
     "duration": 0.03832,
     "end_time": "2025-07-30T21:10:34.254608",
     "exception": false,
     "start_time": "2025-07-30T21:10:34.216288",
     "status": "completed"
    },
    "tags": []
   },
   "outputs": [
    {
     "data": {
      "text/plain": [
       "4"
      ]
     },
     "execution_count": 77,
     "metadata": {},
     "output_type": "execute_result"
    }
   ],
   "source": [
    "sub_universes = universe_analysis.generate_sub_universes()\n",
    "len(sub_universes)"
   ]
  },
  {
   "cell_type": "code",
   "execution_count": 78,
   "id": "92adf7ba",
   "metadata": {
    "execution": {
     "iopub.execute_input": "2025-07-30T21:10:34.314092Z",
     "iopub.status.busy": "2025-07-30T21:10:34.313651Z",
     "iopub.status.idle": "2025-07-30T21:10:34.319592Z",
     "shell.execute_reply": "2025-07-30T21:10:34.318705Z"
    },
    "papermill": {
     "duration": 0.038353,
     "end_time": "2025-07-30T21:10:34.321169",
     "exception": false,
     "start_time": "2025-07-30T21:10:34.282816",
     "status": "completed"
    },
    "tags": []
   },
   "outputs": [],
   "source": [
    "def filter_sub_universe_data(sub_universe, org_test):\n",
    "    # Keep all rows — no filtering\n",
    "    keep_rows_mask = np.ones(org_test.shape[0], dtype=bool)\n",
    "\n",
    "    print(f\"[INFO] Keeping all rows: {keep_rows_mask.sum()} rows retained.\")\n",
    "    return keep_rows_mask"
   ]
  },
  {
   "cell_type": "code",
   "execution_count": 79,
   "id": "4a759155",
   "metadata": {
    "execution": {
     "iopub.execute_input": "2025-07-30T21:10:34.381801Z",
     "iopub.status.busy": "2025-07-30T21:10:34.380935Z",
     "iopub.status.idle": "2025-07-30T21:10:45.095854Z",
     "shell.execute_reply": "2025-07-30T21:10:45.094984Z"
    },
    "papermill": {
     "duration": 10.747031,
     "end_time": "2025-07-30T21:10:45.097490",
     "exception": false,
     "start_time": "2025-07-30T21:10:34.350459",
     "status": "completed"
    },
    "tags": []
   },
   "outputs": [
    {
     "name": "stdout",
     "output_type": "stream",
     "text": [
      "Stopping execution_time clock.\n",
      "[INFO] Keeping all rows: 89710 rows retained.\n"
     ]
    },
    {
     "name": "stdout",
     "output_type": "stream",
     "text": [
      "[INFO] Keeping all rows: 89710 rows retained.\n"
     ]
    },
    {
     "name": "stdout",
     "output_type": "stream",
     "text": [
      "[INFO] Keeping all rows: 89710 rows retained.\n"
     ]
    },
    {
     "name": "stdout",
     "output_type": "stream",
     "text": [
      "[INFO] Keeping all rows: 89710 rows retained.\n"
     ]
    },
    {
     "data": {
      "text/html": [
       "<div>\n",
       "<style scoped>\n",
       "    .dataframe tbody tr th:only-of-type {\n",
       "        vertical-align: middle;\n",
       "    }\n",
       "\n",
       "    .dataframe tbody tr th {\n",
       "        vertical-align: top;\n",
       "    }\n",
       "\n",
       "    .dataframe thead th {\n",
       "        text-align: right;\n",
       "    }\n",
       "</style>\n",
       "<table border=\"1\" class=\"dataframe\">\n",
       "  <thead>\n",
       "    <tr style=\"text-align: right;\">\n",
       "      <th></th>\n",
       "      <th>run_no</th>\n",
       "      <th>universe_id</th>\n",
       "      <th>universe_settings</th>\n",
       "      <th>execution_time</th>\n",
       "      <th>test_size_n</th>\n",
       "      <th>test_size_frac</th>\n",
       "      <th>fair_main_equalized_odds_difference</th>\n",
       "      <th>fair_main_equalized_odds_ratio</th>\n",
       "      <th>fair_main_demographic_parity_difference</th>\n",
       "      <th>fair_main_demographic_parity_ratio</th>\n",
       "      <th>...</th>\n",
       "      <th>perf_grp_precision_0</th>\n",
       "      <th>perf_grp_precision_1</th>\n",
       "      <th>perf_grp_false positive rate_0</th>\n",
       "      <th>perf_grp_false positive rate_1</th>\n",
       "      <th>perf_grp_false negative rate_0</th>\n",
       "      <th>perf_grp_false negative rate_1</th>\n",
       "      <th>perf_grp_selection rate_0</th>\n",
       "      <th>perf_grp_selection rate_1</th>\n",
       "      <th>perf_grp_count_0</th>\n",
       "      <th>perf_grp_count_1</th>\n",
       "    </tr>\n",
       "  </thead>\n",
       "  <tbody>\n",
       "    <tr>\n",
       "      <th>0</th>\n",
       "      <td>14</td>\n",
       "      <td>f68909a6592bb8d2b4feff40a95ece34</td>\n",
       "      <td>{\"cutoff\": \"quantile_0.1\", \"eval_fairness_grou...</td>\n",
       "      <td>103.756373</td>\n",
       "      <td>89710</td>\n",
       "      <td>1.0</td>\n",
       "      <td>0.100720</td>\n",
       "      <td>0.895983</td>\n",
       "      <td>0.090862</td>\n",
       "      <td>0.906333</td>\n",
       "      <td>...</td>\n",
       "      <td>NaN</td>\n",
       "      <td>NaN</td>\n",
       "      <td>NaN</td>\n",
       "      <td>NaN</td>\n",
       "      <td>NaN</td>\n",
       "      <td>NaN</td>\n",
       "      <td>NaN</td>\n",
       "      <td>NaN</td>\n",
       "      <td>NaN</td>\n",
       "      <td>NaN</td>\n",
       "    </tr>\n",
       "    <tr>\n",
       "      <th>0</th>\n",
       "      <td>14</td>\n",
       "      <td>f68909a6592bb8d2b4feff40a95ece34</td>\n",
       "      <td>{\"cutoff\": \"quantile_0.1\", \"eval_fairness_grou...</td>\n",
       "      <td>103.756373</td>\n",
       "      <td>89710</td>\n",
       "      <td>1.0</td>\n",
       "      <td>0.100720</td>\n",
       "      <td>0.895983</td>\n",
       "      <td>0.090862</td>\n",
       "      <td>0.906333</td>\n",
       "      <td>...</td>\n",
       "      <td>0.116888</td>\n",
       "      <td>0.143602</td>\n",
       "      <td>0.968303</td>\n",
       "      <td>0.867583</td>\n",
       "      <td>0.016470</td>\n",
       "      <td>0.044530</td>\n",
       "      <td>0.970058</td>\n",
       "      <td>0.879196</td>\n",
       "      <td>20540.0</td>\n",
       "      <td>69170.0</td>\n",
       "    </tr>\n",
       "    <tr>\n",
       "      <th>0</th>\n",
       "      <td>14</td>\n",
       "      <td>f68909a6592bb8d2b4feff40a95ece34</td>\n",
       "      <td>{\"cutoff\": \"quantile_0.25\", \"eval_fairness_gro...</td>\n",
       "      <td>103.756373</td>\n",
       "      <td>89710</td>\n",
       "      <td>1.0</td>\n",
       "      <td>0.237885</td>\n",
       "      <td>0.739651</td>\n",
       "      <td>0.217723</td>\n",
       "      <td>0.762795</td>\n",
       "      <td>...</td>\n",
       "      <td>NaN</td>\n",
       "      <td>NaN</td>\n",
       "      <td>NaN</td>\n",
       "      <td>NaN</td>\n",
       "      <td>NaN</td>\n",
       "      <td>NaN</td>\n",
       "      <td>NaN</td>\n",
       "      <td>NaN</td>\n",
       "      <td>NaN</td>\n",
       "      <td>NaN</td>\n",
       "    </tr>\n",
       "    <tr>\n",
       "      <th>0</th>\n",
       "      <td>14</td>\n",
       "      <td>f68909a6592bb8d2b4feff40a95ece34</td>\n",
       "      <td>{\"cutoff\": \"quantile_0.25\", \"eval_fairness_gro...</td>\n",
       "      <td>103.756373</td>\n",
       "      <td>89710</td>\n",
       "      <td>1.0</td>\n",
       "      <td>0.237885</td>\n",
       "      <td>0.739651</td>\n",
       "      <td>0.217723</td>\n",
       "      <td>0.762795</td>\n",
       "      <td>...</td>\n",
       "      <td>0.119291</td>\n",
       "      <td>0.162279</td>\n",
       "      <td>0.913713</td>\n",
       "      <td>0.675829</td>\n",
       "      <td>0.050253</td>\n",
       "      <td>0.140153</td>\n",
       "      <td>0.917868</td>\n",
       "      <td>0.700145</td>\n",
       "      <td>20540.0</td>\n",
       "      <td>69170.0</td>\n",
       "    </tr>\n",
       "  </tbody>\n",
       "</table>\n",
       "<p>4 rows × 50 columns</p>\n",
       "</div>"
      ],
      "text/plain": [
       "  run_no                       universe_id  \\\n",
       "0     14  f68909a6592bb8d2b4feff40a95ece34   \n",
       "0     14  f68909a6592bb8d2b4feff40a95ece34   \n",
       "0     14  f68909a6592bb8d2b4feff40a95ece34   \n",
       "0     14  f68909a6592bb8d2b4feff40a95ece34   \n",
       "\n",
       "                                   universe_settings  execution_time  \\\n",
       "0  {\"cutoff\": \"quantile_0.1\", \"eval_fairness_grou...      103.756373   \n",
       "0  {\"cutoff\": \"quantile_0.1\", \"eval_fairness_grou...      103.756373   \n",
       "0  {\"cutoff\": \"quantile_0.25\", \"eval_fairness_gro...      103.756373   \n",
       "0  {\"cutoff\": \"quantile_0.25\", \"eval_fairness_gro...      103.756373   \n",
       "\n",
       "   test_size_n  test_size_frac  fair_main_equalized_odds_difference  \\\n",
       "0        89710             1.0                             0.100720   \n",
       "0        89710             1.0                             0.100720   \n",
       "0        89710             1.0                             0.237885   \n",
       "0        89710             1.0                             0.237885   \n",
       "\n",
       "   fair_main_equalized_odds_ratio  fair_main_demographic_parity_difference  \\\n",
       "0                        0.895983                                 0.090862   \n",
       "0                        0.895983                                 0.090862   \n",
       "0                        0.739651                                 0.217723   \n",
       "0                        0.739651                                 0.217723   \n",
       "\n",
       "   fair_main_demographic_parity_ratio  ...  perf_grp_precision_0  \\\n",
       "0                            0.906333  ...                   NaN   \n",
       "0                            0.906333  ...              0.116888   \n",
       "0                            0.762795  ...                   NaN   \n",
       "0                            0.762795  ...              0.119291   \n",
       "\n",
       "   perf_grp_precision_1  perf_grp_false positive rate_0  \\\n",
       "0                   NaN                             NaN   \n",
       "0              0.143602                        0.968303   \n",
       "0                   NaN                             NaN   \n",
       "0              0.162279                        0.913713   \n",
       "\n",
       "   perf_grp_false positive rate_1  perf_grp_false negative rate_0  \\\n",
       "0                             NaN                             NaN   \n",
       "0                        0.867583                        0.016470   \n",
       "0                             NaN                             NaN   \n",
       "0                        0.675829                        0.050253   \n",
       "\n",
       "   perf_grp_false negative rate_1  perf_grp_selection rate_0  \\\n",
       "0                             NaN                        NaN   \n",
       "0                        0.044530                   0.970058   \n",
       "0                             NaN                        NaN   \n",
       "0                        0.140153                   0.917868   \n",
       "\n",
       "   perf_grp_selection rate_1  perf_grp_count_0  perf_grp_count_1  \n",
       "0                        NaN               NaN               NaN  \n",
       "0                   0.879196           20540.0           69170.0  \n",
       "0                        NaN               NaN               NaN  \n",
       "0                   0.700145           20540.0           69170.0  \n",
       "\n",
       "[4 rows x 50 columns]"
      ]
     },
     "execution_count": 79,
     "metadata": {},
     "output_type": "execute_result"
    }
   ],
   "source": [
    "final_output = universe_analysis.generate_final_output(\n",
    "    y_pred_prob=probs_test,\n",
    "    y_test=y_true,\n",
    "    org_test=org_test,\n",
    "    filter_data=filter_sub_universe_data,\n",
    "    cp_metrics_df=cp_metrics_df,\n",
    "    save=True,\n",
    ")\n",
    "final_output"
   ]
  },
  {
   "cell_type": "code",
   "execution_count": null,
   "id": "721ff514-cb11-46f8-b6fc-50392f74b5cb",
   "metadata": {
    "papermill": {
     "duration": 0.029539,
     "end_time": "2025-07-30T21:10:45.157756",
     "exception": false,
     "start_time": "2025-07-30T21:10:45.128217",
     "status": "completed"
    },
    "tags": []
   },
   "outputs": [],
   "source": []
  }
 ],
 "metadata": {
  "celltoolbar": "Tags",
  "kernelspec": {
   "display_name": "Python (CMA Fairness)",
   "language": "python",
   "name": "cma_fair_env"
  },
  "language_info": {
   "codemirror_mode": {
    "name": "ipython",
    "version": 3
   },
   "file_extension": ".py",
   "mimetype": "text/x-python",
   "name": "python",
   "nbconvert_exporter": "python",
   "pygments_lexer": "ipython3",
   "version": "3.10.12"
  },
  "papermill": {
   "default_parameters": {},
   "duration": 118.768521,
   "end_time": "2025-07-30T21:10:46.005960",
   "environment_variables": {},
   "exception": null,
   "input_path": "universe_analysis.ipynb",
   "output_path": "output/runs/14/notebooks/m_14-f68909a6592bb8d2b4feff40a95ece34.ipynb",
   "parameters": {
    "output_dir": "output",
    "run_no": "14",
    "seed": "2023",
    "universe": "{\"cutoff\": [\"quantile_0.1\", \"quantile_0.25\"], \"eval_fairness_grouping\": [\"majority-minority\", \"nationality-all\"], \"exclude_features\": \"age\", \"exclude_subgroups\": \"keep-all\", \"model\": \"elasticnet\", \"scale\": \"do-not-scale\", \"training_size\": \"5k\", \"training_year\": \"2012_14\"}",
    "universe_id": "f68909a6592bb8d2b4feff40a95ece34"
   },
   "start_time": "2025-07-30T21:08:47.237439",
   "version": "2.6.0"
  }
 },
 "nbformat": 4,
 "nbformat_minor": 5
}