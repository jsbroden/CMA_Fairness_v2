{
 "cells": [
  {
   "cell_type": "code",
   "execution_count": 1,
   "id": "f159f837-637b-42ba-96b5-ec9a68c44524",
   "metadata": {
    "execution": {
     "iopub.execute_input": "2025-07-30T19:59:02.086516Z",
     "iopub.status.busy": "2025-07-30T19:59:02.086122Z",
     "iopub.status.idle": "2025-07-30T19:59:02.109002Z",
     "shell.execute_reply": "2025-07-30T19:59:02.108084Z"
    },
    "papermill": {
     "duration": 0.069841,
     "end_time": "2025-07-30T19:59:02.110561",
     "exception": false,
     "start_time": "2025-07-30T19:59:02.040720",
     "status": "completed"
    },
    "tags": []
   },
   "outputs": [
    {
     "name": "stdout",
     "output_type": "stream",
     "text": [
      "/dss/dsshome1/0C/ra93lal2/cma/CMA_Fairness_v2\n"
     ]
    },
    {
     "name": "stderr",
     "output_type": "stream",
     "text": [
      "/dss/dsshome1/0C/ra93lal2/.local/share/virtualenvs/CMA_Fairness_v2-3j10GkSs/lib/python3.10/site-packages/IPython/core/magics/osm.py:393: UserWarning: This is now an optional IPython functionality, using bookmarks requires you to install the `pickleshare` library.\n",
      "  bkms = self.shell.db.get('bookmarks', {})\n",
      "/dss/dsshome1/0C/ra93lal2/.local/share/virtualenvs/CMA_Fairness_v2-3j10GkSs/lib/python3.10/site-packages/IPython/core/magics/osm.py:417: UserWarning: This is now an optional IPython functionality, setting dhist requires you to install the `pickleshare` library.\n",
      "  self.shell.db['dhist'] = compress_dhist(dhist)[-100:]\n"
     ]
    }
   ],
   "source": [
    "%cd ~/cma/CMA_Fairness_v2"
   ]
  },
  {
   "cell_type": "markdown",
   "id": "de2603b9",
   "metadata": {
    "papermill": {
     "duration": 0.048852,
     "end_time": "2025-07-30T19:59:02.196716",
     "exception": false,
     "start_time": "2025-07-30T19:59:02.147864",
     "status": "completed"
    },
    "tags": []
   },
   "source": [
    "The following cell holds the definition of our parameters, these values can be overriden by rendering the with e.g. the following command:\n",
    "\n",
    "papermill -p alpha 0.2 -p ratio 0.3 universe_analysis.ipynb output/test_run.ipynb"
   ]
  },
  {
   "cell_type": "code",
   "execution_count": 2,
   "id": "a80968a0-40bb-4fa9-85ef-2d5eefb01975",
   "metadata": {
    "execution": {
     "iopub.execute_input": "2025-07-30T19:59:02.291498Z",
     "iopub.status.busy": "2025-07-30T19:59:02.291126Z",
     "iopub.status.idle": "2025-07-30T19:59:02.296856Z",
     "shell.execute_reply": "2025-07-30T19:59:02.295842Z"
    },
    "papermill": {
     "duration": 0.064564,
     "end_time": "2025-07-30T19:59:02.298515",
     "exception": false,
     "start_time": "2025-07-30T19:59:02.233951",
     "status": "completed"
    },
    "tags": []
   },
   "outputs": [
    {
     "name": "stdout",
     "output_type": "stream",
     "text": [
      "Current working directory: /dss/dsshome1/0C/ra93lal2/cma/CMA_Fairness_v2\n"
     ]
    }
   ],
   "source": [
    "import os\n",
    "print(\"Current working directory:\", os.getcwd())"
   ]
  },
  {
   "cell_type": "code",
   "execution_count": 3,
   "id": "2dce4c03",
   "metadata": {
    "execution": {
     "iopub.execute_input": "2025-07-30T19:59:02.403932Z",
     "iopub.status.busy": "2025-07-30T19:59:02.403430Z",
     "iopub.status.idle": "2025-07-30T19:59:02.410188Z",
     "shell.execute_reply": "2025-07-30T19:59:02.409300Z"
    },
    "papermill": {
     "duration": 0.051401,
     "end_time": "2025-07-30T19:59:02.411675",
     "exception": false,
     "start_time": "2025-07-30T19:59:02.360274",
     "status": "completed"
    },
    "tags": [
     "parameters"
    ]
   },
   "outputs": [],
   "source": [
    "run_no = 0\n",
    "universe_id = \"test\"\n",
    "universe = {\n",
    "    \"training_size\": \"25k\", # \"25k\", \"5k\", \"1k\"\n",
    "    \"training_year\": \"2014\", # \"2014\", \"2012_14\", \"2010_14\"\n",
    "    \"scale\": \"scale\", # \"scale\", \"do-not-scale\",\n",
    "    #\"stratify_split\": \"target\", # \"none\", \"target\", \"protected-attribute\", \"both\",\n",
    "    \"model\": \"elasticnet\", # \"logreg\", \"penalized_logreg\", \"rf\", \"gbm\", \"elasticnet\"\n",
    "    \"cutoff\": [\"quantile_0.15\", \"quantile_0.30\"],\n",
    "    \"exclude_features\": \"age\", # \"none\", \"nationality\", \"sex\", \"nationality-sex\", \"age\"\n",
    "    \"exclude_subgroups\": \"keep-all\", # \"keep-all\", \"drop-non-german\"\n",
    "    \"eval_fairness_grouping\": [\"majority-minority\", \"nationality-all\"]\n",
    "}\n",
    "\n",
    "output_dir=\"./output\"\n",
    "seed=0"
   ]
  },
  {
   "cell_type": "code",
   "execution_count": 4,
   "id": "0581b49a",
   "metadata": {
    "execution": {
     "iopub.execute_input": "2025-07-30T19:59:02.484676Z",
     "iopub.status.busy": "2025-07-30T19:59:02.484295Z",
     "iopub.status.idle": "2025-07-30T19:59:02.490280Z",
     "shell.execute_reply": "2025-07-30T19:59:02.489273Z"
    },
    "papermill": {
     "duration": 0.036069,
     "end_time": "2025-07-30T19:59:02.493479",
     "exception": false,
     "start_time": "2025-07-30T19:59:02.457410",
     "status": "completed"
    },
    "tags": [
     "injected-parameters"
    ]
   },
   "outputs": [],
   "source": [
    "# Parameters\n",
    "universe_id = \"a9efa8853fc82364bf88212eafaae09b\"\n",
    "run_no = \"14\"\n",
    "universe = \"{\\\"cutoff\\\": [\\\"quantile_0.1\\\", \\\"quantile_0.25\\\"], \\\"eval_fairness_grouping\\\": [\\\"majority-minority\\\", \\\"nationality-all\\\"], \\\"exclude_features\\\": \\\"sex\\\", \\\"exclude_subgroups\\\": \\\"keep-all\\\", \\\"model\\\": \\\"rf\\\", \\\"scale\\\": \\\"do-not-scale\\\", \\\"training_size\\\": \\\"25k\\\", \\\"training_year\\\": \\\"2014\\\"}\"\n",
    "output_dir = \"output\"\n",
    "seed = \"2023\"\n"
   ]
  },
  {
   "cell_type": "code",
   "execution_count": 5,
   "id": "1650acaf",
   "metadata": {
    "execution": {
     "iopub.execute_input": "2025-07-30T19:59:02.536328Z",
     "iopub.status.busy": "2025-07-30T19:59:02.535934Z",
     "iopub.status.idle": "2025-07-30T19:59:02.541491Z",
     "shell.execute_reply": "2025-07-30T19:59:02.540575Z"
    },
    "papermill": {
     "duration": 0.029558,
     "end_time": "2025-07-30T19:59:02.544671",
     "exception": false,
     "start_time": "2025-07-30T19:59:02.515113",
     "status": "completed"
    },
    "tags": []
   },
   "outputs": [],
   "source": [
    "import json\n",
    "# Parse universe into dict if it is passed as a string\n",
    "if isinstance(universe, str):\n",
    "    universe = json.loads(universe)"
   ]
  },
  {
   "cell_type": "code",
   "execution_count": 6,
   "id": "16620c48",
   "metadata": {
    "execution": {
     "iopub.execute_input": "2025-07-30T19:59:02.588299Z",
     "iopub.status.busy": "2025-07-30T19:59:02.587882Z",
     "iopub.status.idle": "2025-07-30T19:59:02.667714Z",
     "shell.execute_reply": "2025-07-30T19:59:02.666742Z"
    },
    "papermill": {
     "duration": 0.103718,
     "end_time": "2025-07-30T19:59:02.669855",
     "exception": false,
     "start_time": "2025-07-30T19:59:02.566137",
     "status": "completed"
    },
    "tags": []
   },
   "outputs": [],
   "source": [
    "# Auto-reload the custom package\n",
    "%load_ext autoreload\n",
    "%autoreload 1\n",
    "%aimport fairness_multiverse"
   ]
  },
  {
   "cell_type": "code",
   "execution_count": 7,
   "id": "01c5c9f3",
   "metadata": {
    "execution": {
     "iopub.execute_input": "2025-07-30T19:59:02.720889Z",
     "iopub.status.busy": "2025-07-30T19:59:02.720481Z",
     "iopub.status.idle": "2025-07-30T19:59:06.253390Z",
     "shell.execute_reply": "2025-07-30T19:59:06.252131Z"
    },
    "papermill": {
     "duration": 3.563995,
     "end_time": "2025-07-30T19:59:06.255334",
     "exception": false,
     "start_time": "2025-07-30T19:59:02.691339",
     "status": "completed"
    },
    "tags": []
   },
   "outputs": [],
   "source": [
    "from fairness_multiverse.universe import UniverseAnalysis\n",
    "\n",
    "universe_analysis = UniverseAnalysis(\n",
    "    run_no = run_no,\n",
    "    universe_id = universe_id,\n",
    "    universe = universe,\n",
    "    output_dir=output_dir,\n",
    ")"
   ]
  },
  {
   "cell_type": "code",
   "execution_count": 8,
   "id": "106241f5",
   "metadata": {
    "execution": {
     "iopub.execute_input": "2025-07-30T19:59:06.304615Z",
     "iopub.status.busy": "2025-07-30T19:59:06.304080Z",
     "iopub.status.idle": "2025-07-30T19:59:06.310845Z",
     "shell.execute_reply": "2025-07-30T19:59:06.309923Z"
    },
    "papermill": {
     "duration": 0.030043,
     "end_time": "2025-07-30T19:59:06.312535",
     "exception": false,
     "start_time": "2025-07-30T19:59:06.282492",
     "status": "completed"
    },
    "tags": []
   },
   "outputs": [
    {
     "name": "stdout",
     "output_type": "stream",
     "text": [
      "Using Seed: 2023\n"
     ]
    }
   ],
   "source": [
    "import numpy as np\n",
    "parsed_seed = int(seed)\n",
    "np.random.seed(parsed_seed)\n",
    "print(f\"Using Seed: {parsed_seed}\")"
   ]
  },
  {
   "cell_type": "markdown",
   "id": "e0ebdc57",
   "metadata": {
    "papermill": {
     "duration": 0.020383,
     "end_time": "2025-07-30T19:59:06.353252",
     "exception": false,
     "start_time": "2025-07-30T19:59:06.332869",
     "status": "completed"
    },
    "tags": []
   },
   "source": [
    "# Loading Data"
   ]
  },
  {
   "cell_type": "markdown",
   "id": "681925a3",
   "metadata": {
    "papermill": {
     "duration": 0.019448,
     "end_time": "2025-07-30T19:59:06.391938",
     "exception": false,
     "start_time": "2025-07-30T19:59:06.372490",
     "status": "completed"
    },
    "tags": []
   },
   "source": [
    "Load siab_train, siab_test, siab_calib and/or \n",
    "load siab_train_features, siab_train_labels"
   ]
  },
  {
   "cell_type": "code",
   "execution_count": 9,
   "id": "f0496b8a",
   "metadata": {
    "execution": {
     "iopub.execute_input": "2025-07-30T19:59:06.433788Z",
     "iopub.status.busy": "2025-07-30T19:59:06.433260Z",
     "iopub.status.idle": "2025-07-30T19:59:21.302917Z",
     "shell.execute_reply": "2025-07-30T19:59:21.290035Z"
    },
    "papermill": {
     "duration": 14.891614,
     "end_time": "2025-07-30T19:59:21.304829",
     "exception": false,
     "start_time": "2025-07-30T19:59:06.413215",
     "status": "completed"
    },
    "tags": []
   },
   "outputs": [
    {
     "name": "stdout",
     "output_type": "stream",
     "text": [
      "Loading SIAB data from cache: data/siab_cached.csv.gz\n"
     ]
    },
    {
     "name": "stdout",
     "output_type": "stream",
     "text": [
      "(643690, 164)\n"
     ]
    }
   ],
   "source": [
    "from pathlib import Path\n",
    "import pandas as pd\n",
    "\n",
    "# File paths\n",
    "raw_file = Path(\"data/raw/siab.csv\")\n",
    "cache_file = Path(\"data/siab_cached.csv.gz\")\n",
    "\n",
    "# Ensure cache directory exists\n",
    "cache_file.parent.mkdir(parents=True, exist_ok=True)\n",
    "\n",
    "# Load with simple caching\n",
    "if cache_file.exists():\n",
    "    print(f\"Loading SIAB data from cache: {cache_file}\")\n",
    "    siab = pd.read_csv(cache_file, compression='gzip')\n",
    "else:\n",
    "    print(f\"Cache not found. Reading raw SIAB data: {raw_file}\")\n",
    "    siab = pd.read_csv(raw_file)\n",
    "    siab.to_csv(cache_file, index=False, compression='gzip')\n",
    "    print(f\"Cached SIAB data to: {cache_file}\")\n",
    "\n",
    "# Now use `siab` DataFrame as needed\n",
    "print(siab.shape)"
   ]
  },
  {
   "cell_type": "code",
   "execution_count": 10,
   "id": "db0ca512-5f53-4dba-abdb-a2888bca41ba",
   "metadata": {
    "execution": {
     "iopub.execute_input": "2025-07-30T19:59:21.373488Z",
     "iopub.status.busy": "2025-07-30T19:59:21.373022Z",
     "iopub.status.idle": "2025-07-30T19:59:21.379399Z",
     "shell.execute_reply": "2025-07-30T19:59:21.378449Z"
    },
    "papermill": {
     "duration": 0.042488,
     "end_time": "2025-07-30T19:59:21.383414",
     "exception": false,
     "start_time": "2025-07-30T19:59:21.340926",
     "status": "completed"
    },
    "tags": []
   },
   "outputs": [],
   "source": [
    "#siab"
   ]
  },
  {
   "cell_type": "code",
   "execution_count": 11,
   "id": "a0edb063",
   "metadata": {
    "execution": {
     "iopub.execute_input": "2025-07-30T19:59:21.518700Z",
     "iopub.status.busy": "2025-07-30T19:59:21.518269Z",
     "iopub.status.idle": "2025-07-30T19:59:21.523712Z",
     "shell.execute_reply": "2025-07-30T19:59:21.522603Z"
    },
    "papermill": {
     "duration": 0.076325,
     "end_time": "2025-07-30T19:59:21.526299",
     "exception": false,
     "start_time": "2025-07-30T19:59:21.449974",
     "status": "completed"
    },
    "tags": []
   },
   "outputs": [],
   "source": [
    "#import pandas as pd\n",
    "#\n",
    "#X_train = pd.read_csv(\"./data/X_train.csv\")\n",
    "#y_train = pd.read_csv(\"./data/y_train.csv\")"
   ]
  },
  {
   "cell_type": "code",
   "execution_count": 12,
   "id": "63d08085",
   "metadata": {
    "execution": {
     "iopub.execute_input": "2025-07-30T19:59:21.581729Z",
     "iopub.status.busy": "2025-07-30T19:59:21.581313Z",
     "iopub.status.idle": "2025-07-30T19:59:21.586730Z",
     "shell.execute_reply": "2025-07-30T19:59:21.585600Z"
    },
    "papermill": {
     "duration": 0.047198,
     "end_time": "2025-07-30T19:59:21.606255",
     "exception": false,
     "start_time": "2025-07-30T19:59:21.559057",
     "status": "completed"
    },
    "tags": []
   },
   "outputs": [],
   "source": [
    "#X_test = pd.read_csv(\"./data/X_test.csv\")\n",
    "#y_true = pd.read_csv(\"./data/y_test.csv\")"
   ]
  },
  {
   "cell_type": "code",
   "execution_count": 13,
   "id": "98a8d0fa-1d3d-4ed8-bb2c-281470e24add",
   "metadata": {
    "execution": {
     "iopub.execute_input": "2025-07-30T19:59:21.682790Z",
     "iopub.status.busy": "2025-07-30T19:59:21.682380Z",
     "iopub.status.idle": "2025-07-30T19:59:21.687791Z",
     "shell.execute_reply": "2025-07-30T19:59:21.686785Z"
    },
    "papermill": {
     "duration": 0.048991,
     "end_time": "2025-07-30T19:59:21.689345",
     "exception": false,
     "start_time": "2025-07-30T19:59:21.640354",
     "status": "completed"
    },
    "tags": []
   },
   "outputs": [],
   "source": [
    "# Calibration data for conformal\n",
    "#X_calib = pd.read_csv(\"./data/X_calib.csv\")\n",
    "#y_calib = pd.read_csv(\"./data/y_calib.csv\")"
   ]
  },
  {
   "cell_type": "markdown",
   "id": "997051c5-15bd-4b69-9786-c3001a3ce484",
   "metadata": {
    "papermill": {
     "duration": 0.022572,
     "end_time": "2025-07-30T19:59:21.757339",
     "exception": false,
     "start_time": "2025-07-30T19:59:21.734767",
     "status": "completed"
    },
    "tags": []
   },
   "source": [
    "# Splitting Data and Setting Training Data Size"
   ]
  },
  {
   "cell_type": "code",
   "execution_count": 14,
   "id": "e993b61f-042d-41a6-8c81-f55681f86335",
   "metadata": {
    "execution": {
     "iopub.execute_input": "2025-07-30T19:59:21.902231Z",
     "iopub.status.busy": "2025-07-30T19:59:21.901830Z",
     "iopub.status.idle": "2025-07-30T19:59:21.915195Z",
     "shell.execute_reply": "2025-07-30T19:59:21.914108Z"
    },
    "papermill": {
     "duration": 0.108654,
     "end_time": "2025-07-30T19:59:21.916833",
     "exception": false,
     "start_time": "2025-07-30T19:59:21.808179",
     "status": "completed"
    },
    "tags": []
   },
   "outputs": [],
   "source": [
    "def sample_by_year_size(df,\n",
    "                        training_year: str,\n",
    "                        training_size: str,\n",
    "                        random_state: int = 42):\n",
    "    # --- parse training_year into a list of int years ---\n",
    "    if \"_\" in training_year:\n",
    "        start_str, end_str = training_year.split(\"_\", 1)\n",
    "        start = int(start_str)\n",
    "        end   = int(end_str) if len(end_str) == 4 else (int(end_str) + (start // 100)*100)\n",
    "        years = list(range(start, end + 1))\n",
    "    else:\n",
    "        years = [int(training_year)]\n",
    "\n",
    "    df = df[df[\"year\"].isin(years)].reset_index(drop=True)\n",
    "\n",
    "    # --- map training_size to total number of samples ---\n",
    "    total_map = {\"25k\": 25_000, \"5k\": 5_000, \"1k\": 1_000}\n",
    "    if training_size not in total_map:\n",
    "        return df  # e.g. \"all\"\n",
    "\n",
    "    total_samples = total_map[training_size]\n",
    "    n_years       = len(years)\n",
    "    base          = total_samples // n_years\n",
    "    remainder     = total_samples % n_years\n",
    "\n",
    "    # --- build a dict: year -> how many to sample ---\n",
    "    # give +1 to the first `remainder` years in ascending order\n",
    "    quotas = {\n",
    "        year: base + (1 if idx < remainder else 0)\n",
    "        for idx, year in enumerate(sorted(years))\n",
    "    }\n",
    "\n",
    "    # --- sample per‐year according to the quota dict ---\n",
    "    sampled = (\n",
    "        df\n",
    "        .groupby(\"year\", group_keys=False)\n",
    "        .apply(lambda grp: grp.sample(\n",
    "            n=min(len(grp), quotas[grp.name]),\n",
    "            random_state=random_state))\n",
    "        .reset_index(drop=True)\n",
    "    )\n",
    "\n",
    "    return sampled"
   ]
  },
  {
   "cell_type": "code",
   "execution_count": 15,
   "id": "c0ccd338-0e02-41f3-a09d-f56f9266e3fb",
   "metadata": {
    "execution": {
     "iopub.execute_input": "2025-07-30T19:59:21.995304Z",
     "iopub.status.busy": "2025-07-30T19:59:21.994849Z",
     "iopub.status.idle": "2025-07-30T19:59:22.000345Z",
     "shell.execute_reply": "2025-07-30T19:59:21.999311Z"
    },
    "papermill": {
     "duration": 0.033418,
     "end_time": "2025-07-30T19:59:22.006456",
     "exception": false,
     "start_time": "2025-07-30T19:59:21.973038",
     "status": "completed"
    },
    "tags": []
   },
   "outputs": [],
   "source": [
    "#universe[\"training_size\"]"
   ]
  },
  {
   "cell_type": "code",
   "execution_count": 16,
   "id": "ca707fd7-8047-4acd-bfa5-66248fbbf8e6",
   "metadata": {
    "execution": {
     "iopub.execute_input": "2025-07-30T19:59:22.076814Z",
     "iopub.status.busy": "2025-07-30T19:59:22.076380Z",
     "iopub.status.idle": "2025-07-30T19:59:22.081486Z",
     "shell.execute_reply": "2025-07-30T19:59:22.080487Z"
    },
    "papermill": {
     "duration": 0.039115,
     "end_time": "2025-07-30T19:59:22.083425",
     "exception": false,
     "start_time": "2025-07-30T19:59:22.044310",
     "status": "completed"
    },
    "tags": []
   },
   "outputs": [],
   "source": [
    "#universe[\"training_year\"]"
   ]
  },
  {
   "cell_type": "code",
   "execution_count": 17,
   "id": "aea9c6ef-6f46-42c8-85eb-5a62025c1508",
   "metadata": {
    "execution": {
     "iopub.execute_input": "2025-07-30T19:59:22.195235Z",
     "iopub.status.busy": "2025-07-30T19:59:22.194827Z",
     "iopub.status.idle": "2025-07-30T19:59:22.661180Z",
     "shell.execute_reply": "2025-07-30T19:59:22.660105Z"
    },
    "papermill": {
     "duration": 0.502808,
     "end_time": "2025-07-30T19:59:22.662955",
     "exception": false,
     "start_time": "2025-07-30T19:59:22.160147",
     "status": "completed"
    },
    "tags": []
   },
   "outputs": [],
   "source": [
    "siab_train = sample_by_year_size(siab,\n",
    "                               training_year=universe[\"training_year\"],\n",
    "                               training_size=universe[\"training_size\"])"
   ]
  },
  {
   "cell_type": "code",
   "execution_count": 18,
   "id": "8d3afb32-789d-442c-8d5d-9f5aa8dd2eed",
   "metadata": {
    "execution": {
     "iopub.execute_input": "2025-07-30T19:59:22.792911Z",
     "iopub.status.busy": "2025-07-30T19:59:22.792503Z",
     "iopub.status.idle": "2025-07-30T19:59:22.798133Z",
     "shell.execute_reply": "2025-07-30T19:59:22.797195Z"
    },
    "papermill": {
     "duration": 0.085036,
     "end_time": "2025-07-30T19:59:22.800765",
     "exception": false,
     "start_time": "2025-07-30T19:59:22.715729",
     "status": "completed"
    },
    "tags": []
   },
   "outputs": [],
   "source": [
    "#siab_train.shape"
   ]
  },
  {
   "cell_type": "code",
   "execution_count": 19,
   "id": "d582db68-1a4c-47fb-84fc-08518dc1975a",
   "metadata": {
    "execution": {
     "iopub.execute_input": "2025-07-30T19:59:22.927197Z",
     "iopub.status.busy": "2025-07-30T19:59:22.926756Z",
     "iopub.status.idle": "2025-07-30T19:59:22.932272Z",
     "shell.execute_reply": "2025-07-30T19:59:22.931324Z"
    },
    "papermill": {
     "duration": 0.064007,
     "end_time": "2025-07-30T19:59:22.940685",
     "exception": false,
     "start_time": "2025-07-30T19:59:22.876678",
     "status": "completed"
    },
    "tags": []
   },
   "outputs": [],
   "source": [
    "#display(siab_train.groupby(\"year\").size())"
   ]
  },
  {
   "cell_type": "code",
   "execution_count": 20,
   "id": "a561edb4-d032-42cb-8256-22eac1111c64",
   "metadata": {
    "execution": {
     "iopub.execute_input": "2025-07-30T19:59:23.050977Z",
     "iopub.status.busy": "2025-07-30T19:59:23.050570Z",
     "iopub.status.idle": "2025-07-30T19:59:23.723434Z",
     "shell.execute_reply": "2025-07-30T19:59:23.722310Z"
    },
    "papermill": {
     "duration": 0.735612,
     "end_time": "2025-07-30T19:59:23.725473",
     "exception": false,
     "start_time": "2025-07-30T19:59:22.989861",
     "status": "completed"
    },
    "tags": []
   },
   "outputs": [],
   "source": [
    "#siab_train = siab_s[siab_s.year < 2015]\n",
    "siab_calib = siab[siab.year == 2015]\n",
    "siab_test = siab[siab.year == 2016]"
   ]
  },
  {
   "cell_type": "code",
   "execution_count": 21,
   "id": "472de16f-c3db-4916-846b-1f0de9cf1746",
   "metadata": {
    "execution": {
     "iopub.execute_input": "2025-07-30T19:59:23.768417Z",
     "iopub.status.busy": "2025-07-30T19:59:23.767956Z",
     "iopub.status.idle": "2025-07-30T19:59:23.783542Z",
     "shell.execute_reply": "2025-07-30T19:59:23.782483Z"
    },
    "papermill": {
     "duration": 0.037433,
     "end_time": "2025-07-30T19:59:23.785182",
     "exception": false,
     "start_time": "2025-07-30T19:59:23.747749",
     "status": "completed"
    },
    "tags": []
   },
   "outputs": [],
   "source": [
    "X_train = siab_train.iloc[:,4:164]\n",
    "y_train = siab_train.iloc[:, [3]]"
   ]
  },
  {
   "cell_type": "code",
   "execution_count": 22,
   "id": "828c96af-f43a-4ed6-ba47-8ac73a47d56c",
   "metadata": {
    "execution": {
     "iopub.execute_input": "2025-07-30T19:59:23.832679Z",
     "iopub.status.busy": "2025-07-30T19:59:23.832333Z",
     "iopub.status.idle": "2025-07-30T19:59:23.886957Z",
     "shell.execute_reply": "2025-07-30T19:59:23.885870Z"
    },
    "papermill": {
     "duration": 0.079917,
     "end_time": "2025-07-30T19:59:23.888726",
     "exception": false,
     "start_time": "2025-07-30T19:59:23.808809",
     "status": "completed"
    },
    "tags": []
   },
   "outputs": [],
   "source": [
    "X_calib = siab_calib.iloc[:,4:164]\n",
    "y_calib = siab_calib.iloc[:, [3]]"
   ]
  },
  {
   "cell_type": "code",
   "execution_count": 23,
   "id": "c34be9c3-6bd6-476e-acd3-845840e303be",
   "metadata": {
    "execution": {
     "iopub.execute_input": "2025-07-30T19:59:23.947818Z",
     "iopub.status.busy": "2025-07-30T19:59:23.947421Z",
     "iopub.status.idle": "2025-07-30T19:59:24.002061Z",
     "shell.execute_reply": "2025-07-30T19:59:24.001071Z"
    },
    "papermill": {
     "duration": 0.08132,
     "end_time": "2025-07-30T19:59:24.004494",
     "exception": false,
     "start_time": "2025-07-30T19:59:23.923174",
     "status": "completed"
    },
    "tags": []
   },
   "outputs": [],
   "source": [
    "X_test = siab_test.iloc[:,4:164]\n",
    "y_true = siab_test.iloc[:, [3]]"
   ]
  },
  {
   "cell_type": "markdown",
   "id": "9901737e-04df-44f0-9100-f5ad144ed040",
   "metadata": {
    "papermill": {
     "duration": 0.021141,
     "end_time": "2025-07-30T19:59:24.048199",
     "exception": false,
     "start_time": "2025-07-30T19:59:24.027058",
     "status": "completed"
    },
    "tags": []
   },
   "source": [
    "# Splitting Data and Setting Training Data Size OLD VERSION"
   ]
  },
  {
   "cell_type": "code",
   "execution_count": 24,
   "id": "acbc8f7d-8fc8-4e86-8c59-5dcb0f58384b",
   "metadata": {
    "execution": {
     "iopub.execute_input": "2025-07-30T19:59:24.092949Z",
     "iopub.status.busy": "2025-07-30T19:59:24.092547Z",
     "iopub.status.idle": "2025-07-30T19:59:24.098465Z",
     "shell.execute_reply": "2025-07-30T19:59:24.097491Z"
    },
    "papermill": {
     "duration": 0.031892,
     "end_time": "2025-07-30T19:59:24.101582",
     "exception": false,
     "start_time": "2025-07-30T19:59:24.069690",
     "status": "completed"
    },
    "tags": []
   },
   "outputs": [],
   "source": [
    "#def sample_by_year(df, training_size, random_state=42):\n",
    "#    if training_size == \"2014\":\n",
    "#        return df[df[\"year\"] == 2014].reset_index(drop=True)\n",
    "#    \n",
    "#    size_map = {\n",
    "#        \"25k\": 5000,\n",
    "#        \"5k\": 1000,\n",
    "#        \"1k\": 200\n",
    "#    }\n",
    "#\n",
    "#    if training_size not in size_map:\n",
    "#        return df.reset_index(drop=True)  # use all data\n",
    "#\n",
    "#    n_per_year = size_map[training_size]\n",
    "#    grouped = df.groupby(\"year\")\n",
    "#    sampled = grouped.apply(lambda x: x.sample(n=min(n_per_year, len(x)), random_state=random_state))\n",
    "#    return sampled.reset_index(drop=True)"
   ]
  },
  {
   "cell_type": "code",
   "execution_count": 25,
   "id": "6d931f52-beaf-43ff-9e78-9d44a448d54e",
   "metadata": {
    "execution": {
     "iopub.execute_input": "2025-07-30T19:59:24.155136Z",
     "iopub.status.busy": "2025-07-30T19:59:24.154708Z",
     "iopub.status.idle": "2025-07-30T19:59:24.160218Z",
     "shell.execute_reply": "2025-07-30T19:59:24.159277Z"
    },
    "papermill": {
     "duration": 0.031332,
     "end_time": "2025-07-30T19:59:24.163502",
     "exception": false,
     "start_time": "2025-07-30T19:59:24.132170",
     "status": "completed"
    },
    "tags": []
   },
   "outputs": [],
   "source": [
    "#siab_s = sample_by_year(siab, universe[\"training_size\"])"
   ]
  },
  {
   "cell_type": "code",
   "execution_count": 26,
   "id": "5db0a40e-a4e2-4920-be85-b12ae061d70d",
   "metadata": {
    "execution": {
     "iopub.execute_input": "2025-07-30T19:59:24.220683Z",
     "iopub.status.busy": "2025-07-30T19:59:24.220291Z",
     "iopub.status.idle": "2025-07-30T19:59:24.225614Z",
     "shell.execute_reply": "2025-07-30T19:59:24.224514Z"
    },
    "papermill": {
     "duration": 0.041086,
     "end_time": "2025-07-30T19:59:24.227402",
     "exception": false,
     "start_time": "2025-07-30T19:59:24.186316",
     "status": "completed"
    },
    "tags": []
   },
   "outputs": [],
   "source": [
    "#display(siab_s.groupby(\"year\").size())"
   ]
  },
  {
   "cell_type": "code",
   "execution_count": 27,
   "id": "e6c733c5",
   "metadata": {
    "execution": {
     "iopub.execute_input": "2025-07-30T19:59:24.331583Z",
     "iopub.status.busy": "2025-07-30T19:59:24.331038Z",
     "iopub.status.idle": "2025-07-30T19:59:24.446896Z",
     "shell.execute_reply": "2025-07-30T19:59:24.445899Z"
    },
    "papermill": {
     "duration": 0.177706,
     "end_time": "2025-07-30T19:59:24.448729",
     "exception": false,
     "start_time": "2025-07-30T19:59:24.271023",
     "status": "completed"
    },
    "tags": []
   },
   "outputs": [],
   "source": [
    "# Auxiliary data needed downstream in the pipeline\n",
    "\n",
    "org_train = X_train.copy()\n",
    "org_test = X_test.copy()\n",
    "org_calib = X_calib.copy()"
   ]
  },
  {
   "cell_type": "code",
   "execution_count": 28,
   "id": "1466abac-c6da-4492-a62f-4240ae3783af",
   "metadata": {
    "execution": {
     "iopub.execute_input": "2025-07-30T19:59:24.514699Z",
     "iopub.status.busy": "2025-07-30T19:59:24.514173Z",
     "iopub.status.idle": "2025-07-30T19:59:24.529966Z",
     "shell.execute_reply": "2025-07-30T19:59:24.528925Z"
    },
    "papermill": {
     "duration": 0.069938,
     "end_time": "2025-07-30T19:59:24.546348",
     "exception": false,
     "start_time": "2025-07-30T19:59:24.476410",
     "status": "completed"
    },
    "tags": []
   },
   "outputs": [],
   "source": [
    "# put in other script?\n",
    "# Group sizes\n",
    "\n",
    "#def calculate_percentages(df, df_name):\n",
    "#    total_entries = len(df)\n",
    "#\n",
    "#    female_pct = (df['frau1'] == 1).mean() * 100\n",
    "#    non_german_pct = ((df['maxdeutsch1'] == 0) & (df['maxdeutsch.Missing.'] == 0)).mean() * 100\n",
    "#    non_german_male_pct = ((df['frau1'] == 0) & (df['maxdeutsch1'] == 0) & (df['maxdeutsch.Missing.'] == 0)).mean() * 100\n",
    "#    non_german_female_pct = ((df['frau1'] == 1) & (df['maxdeutsch1'] == 0) & (df['maxdeutsch.Missing.'] == 0)).mean() * 100\n",
    "#\n",
    "#    print(f\"--- {df_name} ---\")\n",
    "#    print(f\"Female: {female_pct:.2f}%\")\n",
    "#    print(f\"Non-German: {non_german_pct:.2f}%\")\n",
    "#    print(f\"Non-German Male: {non_german_male_pct:.2f}%\")\n",
    "#    print(f\"Non-German Female: {non_german_female_pct:.2f}%\\n\")\n",
    "#\n",
    "## Calculate for each DataFrame\n",
    "#calculate_percentages(siab_calib, \"siab_calib\")\n",
    "#calculate_percentages(siab_test, \"siab_test\")\n",
    "#calculate_percentages(siab_train, \"siab_train\")"
   ]
  },
  {
   "cell_type": "markdown",
   "id": "0a4a1b33",
   "metadata": {
    "papermill": {
     "duration": 0.049163,
     "end_time": "2025-07-30T19:59:24.653510",
     "exception": false,
     "start_time": "2025-07-30T19:59:24.604347",
     "status": "completed"
    },
    "tags": []
   },
   "source": [
    "# Preprocessing Data"
   ]
  },
  {
   "cell_type": "code",
   "execution_count": 29,
   "id": "ca879031",
   "metadata": {
    "execution": {
     "iopub.execute_input": "2025-07-30T19:59:24.785175Z",
     "iopub.status.busy": "2025-07-30T19:59:24.784675Z",
     "iopub.status.idle": "2025-07-30T19:59:24.790737Z",
     "shell.execute_reply": "2025-07-30T19:59:24.789723Z"
    },
    "papermill": {
     "duration": 0.078257,
     "end_time": "2025-07-30T19:59:24.802410",
     "exception": false,
     "start_time": "2025-07-30T19:59:24.724153",
     "status": "completed"
    },
    "tags": []
   },
   "outputs": [],
   "source": [
    "# EXCLUDE PROTECTED FEATURES\n",
    "# ----------------------\n",
    "# \"exclude_features\": \"none\", # \"nationality\", \"sex\", \"nationality-sex\"\n",
    "\n",
    "excluded_features = universe[\"exclude_features\"].split(\"-\") # split, e.g.: \"nationality-sex\" -> [\"nationality\", \"sex\"]\n",
    "excluded_features_dictionary = {\n",
    "    \"nationality\": [\"maxdeutsch1\", \"maxdeutsch.Missing.\"],\n",
    "    \"sex\": [\"frau1\"],\n",
    "    \"age\": [\"age\"],\n",
    "}\n"
   ]
  },
  {
   "cell_type": "code",
   "execution_count": 30,
   "id": "b745ac60",
   "metadata": {
    "execution": {
     "iopub.execute_input": "2025-07-30T19:59:24.914897Z",
     "iopub.status.busy": "2025-07-30T19:59:24.914461Z",
     "iopub.status.idle": "2025-07-30T19:59:24.920849Z",
     "shell.execute_reply": "2025-07-30T19:59:24.919892Z"
    },
    "papermill": {
     "duration": 0.085254,
     "end_time": "2025-07-30T19:59:24.922712",
     "exception": false,
     "start_time": "2025-07-30T19:59:24.837458",
     "status": "completed"
    },
    "tags": []
   },
   "outputs": [],
   "source": [
    "# Code nice names to column names\n",
    "\n",
    "excluded_features_columns = [\n",
    "    excluded_features_dictionary[f] for f in excluded_features if len(f) > 0 and f != \"none\"\n",
    "]"
   ]
  },
  {
   "cell_type": "code",
   "execution_count": 31,
   "id": "f84f73a2",
   "metadata": {
    "execution": {
     "iopub.execute_input": "2025-07-30T19:59:24.996862Z",
     "iopub.status.busy": "2025-07-30T19:59:24.996457Z",
     "iopub.status.idle": "2025-07-30T19:59:25.003270Z",
     "shell.execute_reply": "2025-07-30T19:59:25.002196Z"
    },
    "papermill": {
     "duration": 0.04518,
     "end_time": "2025-07-30T19:59:25.006286",
     "exception": false,
     "start_time": "2025-07-30T19:59:24.961106",
     "status": "completed"
    },
    "tags": []
   },
   "outputs": [],
   "source": [
    "from utils import flatten_once\n",
    "\n",
    "excluded_features_columns = flatten_once(excluded_features_columns)"
   ]
  },
  {
   "cell_type": "code",
   "execution_count": 32,
   "id": "884dea22",
   "metadata": {
    "execution": {
     "iopub.execute_input": "2025-07-30T19:59:25.052192Z",
     "iopub.status.busy": "2025-07-30T19:59:25.051737Z",
     "iopub.status.idle": "2025-07-30T19:59:25.070832Z",
     "shell.execute_reply": "2025-07-30T19:59:25.069601Z"
    },
    "papermill": {
     "duration": 0.044001,
     "end_time": "2025-07-30T19:59:25.072771",
     "exception": false,
     "start_time": "2025-07-30T19:59:25.028770",
     "status": "completed"
    },
    "tags": []
   },
   "outputs": [
    {
     "name": "stdout",
     "output_type": "stream",
     "text": [
      "Dropping features: ['frau1']\n"
     ]
    }
   ],
   "source": [
    "if len(excluded_features_columns) > 0:\n",
    "    print(f\"Dropping features: {excluded_features_columns}\")\n",
    "    X_train.drop(excluded_features_columns, axis=1, inplace=True)"
   ]
  },
  {
   "cell_type": "code",
   "execution_count": 33,
   "id": "95ab8b16",
   "metadata": {
    "execution": {
     "iopub.execute_input": "2025-07-30T19:59:25.123038Z",
     "iopub.status.busy": "2025-07-30T19:59:25.122018Z",
     "iopub.status.idle": "2025-07-30T19:59:25.199543Z",
     "shell.execute_reply": "2025-07-30T19:59:25.198474Z"
    },
    "papermill": {
     "duration": 0.105633,
     "end_time": "2025-07-30T19:59:25.201324",
     "exception": false,
     "start_time": "2025-07-30T19:59:25.095691",
     "status": "completed"
    },
    "tags": []
   },
   "outputs": [
    {
     "name": "stdout",
     "output_type": "stream",
     "text": [
      "Dropping features: ['frau1']\n"
     ]
    }
   ],
   "source": [
    "if len(excluded_features_columns) > 0:\n",
    "    print(f\"Dropping features: {excluded_features_columns}\")\n",
    "    X_test.drop(excluded_features_columns, axis=1, inplace=True)"
   ]
  },
  {
   "cell_type": "code",
   "execution_count": 34,
   "id": "1853aaf5-fb9f-46cb-a2b5-8ea4ae2237e4",
   "metadata": {
    "execution": {
     "iopub.execute_input": "2025-07-30T19:59:25.303034Z",
     "iopub.status.busy": "2025-07-30T19:59:25.302651Z",
     "iopub.status.idle": "2025-07-30T19:59:25.365974Z",
     "shell.execute_reply": "2025-07-30T19:59:25.364945Z"
    },
    "papermill": {
     "duration": 0.115514,
     "end_time": "2025-07-30T19:59:25.368125",
     "exception": false,
     "start_time": "2025-07-30T19:59:25.252611",
     "status": "completed"
    },
    "tags": []
   },
   "outputs": [
    {
     "name": "stdout",
     "output_type": "stream",
     "text": [
      "Dropping features: ['frau1']\n"
     ]
    }
   ],
   "source": [
    "if len(excluded_features_columns) > 0:\n",
    "    print(f\"Dropping features: {excluded_features_columns}\")\n",
    "    X_calib.drop(excluded_features_columns, axis=1, inplace=True)"
   ]
  },
  {
   "cell_type": "code",
   "execution_count": 35,
   "id": "6727d079-03e5-481e-9d38-292a90b7a0a8",
   "metadata": {
    "execution": {
     "iopub.execute_input": "2025-07-30T19:59:25.416374Z",
     "iopub.status.busy": "2025-07-30T19:59:25.415954Z",
     "iopub.status.idle": "2025-07-30T19:59:25.421503Z",
     "shell.execute_reply": "2025-07-30T19:59:25.420385Z"
    },
    "papermill": {
     "duration": 0.033152,
     "end_time": "2025-07-30T19:59:25.424876",
     "exception": false,
     "start_time": "2025-07-30T19:59:25.391724",
     "status": "completed"
    },
    "tags": []
   },
   "outputs": [],
   "source": [
    "# SPLIT & STRATIFY DATA\n",
    "# ----------------------"
   ]
  },
  {
   "cell_type": "code",
   "execution_count": 36,
   "id": "76c4dc6d",
   "metadata": {
    "execution": {
     "iopub.execute_input": "2025-07-30T19:59:25.491792Z",
     "iopub.status.busy": "2025-07-30T19:59:25.491318Z",
     "iopub.status.idle": "2025-07-30T19:59:25.497369Z",
     "shell.execute_reply": "2025-07-30T19:59:25.496393Z"
    },
    "papermill": {
     "duration": 0.033572,
     "end_time": "2025-07-30T19:59:25.498823",
     "exception": false,
     "start_time": "2025-07-30T19:59:25.465251",
     "status": "completed"
    },
    "tags": []
   },
   "outputs": [],
   "source": [
    "# EXCLUDE CERTAIN SUBGROUPS\n",
    "# ----------------------\n",
    "\n",
    "mode = universe.get(\"exclude_subgroups\", \"keep-all\") \n",
    "# Fetches the exclude_subgroups setting from the universe dict.\n",
    "# Defaults to \"keep-all\" if the key is missing."
   ]
  },
  {
   "cell_type": "code",
   "execution_count": 37,
   "id": "21994072",
   "metadata": {
    "execution": {
     "iopub.execute_input": "2025-07-30T19:59:25.545104Z",
     "iopub.status.busy": "2025-07-30T19:59:25.544620Z",
     "iopub.status.idle": "2025-07-30T19:59:25.551372Z",
     "shell.execute_reply": "2025-07-30T19:59:25.550472Z"
    },
    "papermill": {
     "duration": 0.033619,
     "end_time": "2025-07-30T19:59:25.554440",
     "exception": false,
     "start_time": "2025-07-30T19:59:25.520821",
     "status": "completed"
    },
    "tags": []
   },
   "outputs": [],
   "source": [
    "if mode == \"keep-all\":\n",
    "    keep_mask = pd.Series(True, index=org_train.index)\n",
    "\n",
    "# org_train contains the original feature columns from features_org (in Simson)\n",
    "# features_org contains unprocessed features, for me X_train at beginning ???\n",
    "# For keep-all, creates a boolean Series (keep_mask) of all True, so no rows are removed.\n",
    "\n",
    "elif mode == \"drop-non-german\":\n",
    "    keep_mask = org_train[\"maxdeutsch1\"] == 1 # ??? what about missing values?\n",
    "\n",
    "else:\n",
    "    raise ValueError(f\"Unsupported mode for exclude_subgroups: {mode}\")\n"
   ]
  },
  {
   "cell_type": "code",
   "execution_count": 38,
   "id": "71651440",
   "metadata": {
    "execution": {
     "iopub.execute_input": "2025-07-30T19:59:25.602896Z",
     "iopub.status.busy": "2025-07-30T19:59:25.602379Z",
     "iopub.status.idle": "2025-07-30T19:59:25.610806Z",
     "shell.execute_reply": "2025-07-30T19:59:25.608005Z"
    },
    "papermill": {
     "duration": 0.034039,
     "end_time": "2025-07-30T19:59:25.612643",
     "exception": false,
     "start_time": "2025-07-30T19:59:25.578604",
     "status": "completed"
    },
    "tags": []
   },
   "outputs": [],
   "source": [
    "n_drop = (~keep_mask).sum() # Calculates how many rows are set to be dropped\n",
    "if n_drop > 0:\n",
    "    pct = n_drop / len(keep_mask) * 100\n",
    "    print(f\"Dropping {n_drop} rows ({pct:.2f}%) where mode='{mode}'\")"
   ]
  },
  {
   "cell_type": "code",
   "execution_count": 39,
   "id": "5fb8eee5",
   "metadata": {
    "execution": {
     "iopub.execute_input": "2025-07-30T19:59:25.710761Z",
     "iopub.status.busy": "2025-07-30T19:59:25.710275Z",
     "iopub.status.idle": "2025-07-30T19:59:25.745257Z",
     "shell.execute_reply": "2025-07-30T19:59:25.744127Z"
    },
    "papermill": {
     "duration": 0.090543,
     "end_time": "2025-07-30T19:59:25.747058",
     "exception": false,
     "start_time": "2025-07-30T19:59:25.656515",
     "status": "completed"
    },
    "tags": []
   },
   "outputs": [],
   "source": [
    "X_train = X_train[keep_mask]"
   ]
  },
  {
   "cell_type": "code",
   "execution_count": 40,
   "id": "b202bb3a",
   "metadata": {
    "execution": {
     "iopub.execute_input": "2025-07-30T19:59:25.842957Z",
     "iopub.status.busy": "2025-07-30T19:59:25.842258Z",
     "iopub.status.idle": "2025-07-30T19:59:25.848647Z",
     "shell.execute_reply": "2025-07-30T19:59:25.847786Z"
    },
    "papermill": {
     "duration": 0.080054,
     "end_time": "2025-07-30T19:59:25.850241",
     "exception": false,
     "start_time": "2025-07-30T19:59:25.770187",
     "status": "completed"
    },
    "tags": []
   },
   "outputs": [],
   "source": [
    "y_train = y_train[keep_mask]"
   ]
  },
  {
   "cell_type": "markdown",
   "id": "493e2ac3",
   "metadata": {
    "papermill": {
     "duration": 0.031971,
     "end_time": "2025-07-30T19:59:25.947990",
     "exception": false,
     "start_time": "2025-07-30T19:59:25.916019",
     "status": "completed"
    },
    "tags": []
   },
   "source": [
    "# Model Training"
   ]
  },
  {
   "cell_type": "code",
   "execution_count": 41,
   "id": "679e1268",
   "metadata": {
    "execution": {
     "iopub.execute_input": "2025-07-30T19:59:26.022434Z",
     "iopub.status.busy": "2025-07-30T19:59:26.022056Z",
     "iopub.status.idle": "2025-07-30T19:59:26.191840Z",
     "shell.execute_reply": "2025-07-30T19:59:26.185275Z"
    },
    "papermill": {
     "duration": 0.219147,
     "end_time": "2025-07-30T19:59:26.194378",
     "exception": false,
     "start_time": "2025-07-30T19:59:25.975231",
     "status": "completed"
    },
    "tags": []
   },
   "outputs": [],
   "source": [
    "from sklearn.linear_model import LogisticRegression\n",
    "from sklearn.ensemble import GradientBoostingClassifier, RandomForestClassifier\n",
    "\n",
    "if (universe[\"model\"] == \"logreg\"):\n",
    "    model = LogisticRegression() #penalty=\"none\") #, solver=\"newton-cg\", max_iter=1) # include random_state=19 ?\n",
    "elif (universe[\"model\"] == \"penalized_logreg\"):\n",
    "    model = LogisticRegression(penalty=\"l2\", C=1.0) #, solver=\"newton-cg\", max_iter=1)\n",
    "elif (universe[\"model\"] == \"rf\"):\n",
    "    model = RandomForestClassifier(n_estimators=100, n_jobs=-1)\n",
    "elif (universe[\"model\"] == \"gbm\"):\n",
    "    model = GradientBoostingClassifier()\n",
    "elif (universe[\"model\"] == \"elasticnet\"):\n",
    "    model = LogisticRegression(penalty = 'elasticnet', solver = 'saga', l1_ratio = 0.5, max_iter=5000) # which solver to use?\n",
    "else:\n",
    "    raise \"Unsupported universe.model\""
   ]
  },
  {
   "cell_type": "code",
   "execution_count": 42,
   "id": "0cc8f744",
   "metadata": {
    "execution": {
     "iopub.execute_input": "2025-07-30T19:59:26.289186Z",
     "iopub.status.busy": "2025-07-30T19:59:26.288715Z",
     "iopub.status.idle": "2025-07-30T19:59:26.301239Z",
     "shell.execute_reply": "2025-07-30T19:59:26.300123Z"
    },
    "papermill": {
     "duration": 0.046494,
     "end_time": "2025-07-30T19:59:26.303196",
     "exception": false,
     "start_time": "2025-07-30T19:59:26.256702",
     "status": "completed"
    },
    "tags": []
   },
   "outputs": [],
   "source": [
    "import numpy as np\n",
    "from sklearn.pipeline import Pipeline\n",
    "from sklearn.preprocessing import StandardScaler\n",
    "\n",
    "model = Pipeline([\n",
    "    #(\"continuous_processor\", continuous_processor),\n",
    "    #(\"categorical_preprocessor\", categorical_preprocessor),\n",
    "    (\"scale\", StandardScaler() if universe[\"scale\"] == \"scale\" else None), \n",
    "    (\"model\", model),\n",
    "])"
   ]
  },
  {
   "cell_type": "code",
   "execution_count": 43,
   "id": "9442c04d",
   "metadata": {
    "execution": {
     "iopub.execute_input": "2025-07-30T19:59:26.393122Z",
     "iopub.status.busy": "2025-07-30T19:59:26.392584Z",
     "iopub.status.idle": "2025-07-30T19:59:29.251351Z",
     "shell.execute_reply": "2025-07-30T19:59:29.250261Z"
    },
    "papermill": {
     "duration": 2.900993,
     "end_time": "2025-07-30T19:59:29.253325",
     "exception": false,
     "start_time": "2025-07-30T19:59:26.352332",
     "status": "completed"
    },
    "tags": []
   },
   "outputs": [
    {
     "data": {
      "text/html": [
       "<style>#sk-container-id-1 {color: black;background-color: white;}#sk-container-id-1 pre{padding: 0;}#sk-container-id-1 div.sk-toggleable {background-color: white;}#sk-container-id-1 label.sk-toggleable__label {cursor: pointer;display: block;width: 100%;margin-bottom: 0;padding: 0.3em;box-sizing: border-box;text-align: center;}#sk-container-id-1 label.sk-toggleable__label-arrow:before {content: \"▸\";float: left;margin-right: 0.25em;color: #696969;}#sk-container-id-1 label.sk-toggleable__label-arrow:hover:before {color: black;}#sk-container-id-1 div.sk-estimator:hover label.sk-toggleable__label-arrow:before {color: black;}#sk-container-id-1 div.sk-toggleable__content {max-height: 0;max-width: 0;overflow: hidden;text-align: left;background-color: #f0f8ff;}#sk-container-id-1 div.sk-toggleable__content pre {margin: 0.2em;color: black;border-radius: 0.25em;background-color: #f0f8ff;}#sk-container-id-1 input.sk-toggleable__control:checked~div.sk-toggleable__content {max-height: 200px;max-width: 100%;overflow: auto;}#sk-container-id-1 input.sk-toggleable__control:checked~label.sk-toggleable__label-arrow:before {content: \"▾\";}#sk-container-id-1 div.sk-estimator input.sk-toggleable__control:checked~label.sk-toggleable__label {background-color: #d4ebff;}#sk-container-id-1 div.sk-label input.sk-toggleable__control:checked~label.sk-toggleable__label {background-color: #d4ebff;}#sk-container-id-1 input.sk-hidden--visually {border: 0;clip: rect(1px 1px 1px 1px);clip: rect(1px, 1px, 1px, 1px);height: 1px;margin: -1px;overflow: hidden;padding: 0;position: absolute;width: 1px;}#sk-container-id-1 div.sk-estimator {font-family: monospace;background-color: #f0f8ff;border: 1px dotted black;border-radius: 0.25em;box-sizing: border-box;margin-bottom: 0.5em;}#sk-container-id-1 div.sk-estimator:hover {background-color: #d4ebff;}#sk-container-id-1 div.sk-parallel-item::after {content: \"\";width: 100%;border-bottom: 1px solid gray;flex-grow: 1;}#sk-container-id-1 div.sk-label:hover label.sk-toggleable__label {background-color: #d4ebff;}#sk-container-id-1 div.sk-serial::before {content: \"\";position: absolute;border-left: 1px solid gray;box-sizing: border-box;top: 0;bottom: 0;left: 50%;z-index: 0;}#sk-container-id-1 div.sk-serial {display: flex;flex-direction: column;align-items: center;background-color: white;padding-right: 0.2em;padding-left: 0.2em;position: relative;}#sk-container-id-1 div.sk-item {position: relative;z-index: 1;}#sk-container-id-1 div.sk-parallel {display: flex;align-items: stretch;justify-content: center;background-color: white;position: relative;}#sk-container-id-1 div.sk-item::before, #sk-container-id-1 div.sk-parallel-item::before {content: \"\";position: absolute;border-left: 1px solid gray;box-sizing: border-box;top: 0;bottom: 0;left: 50%;z-index: -1;}#sk-container-id-1 div.sk-parallel-item {display: flex;flex-direction: column;z-index: 1;position: relative;background-color: white;}#sk-container-id-1 div.sk-parallel-item:first-child::after {align-self: flex-end;width: 50%;}#sk-container-id-1 div.sk-parallel-item:last-child::after {align-self: flex-start;width: 50%;}#sk-container-id-1 div.sk-parallel-item:only-child::after {width: 0;}#sk-container-id-1 div.sk-dashed-wrapped {border: 1px dashed gray;margin: 0 0.4em 0.5em 0.4em;box-sizing: border-box;padding-bottom: 0.4em;background-color: white;}#sk-container-id-1 div.sk-label label {font-family: monospace;font-weight: bold;display: inline-block;line-height: 1.2em;}#sk-container-id-1 div.sk-label-container {text-align: center;}#sk-container-id-1 div.sk-container {/* jupyter's `normalize.less` sets `[hidden] { display: none; }` but bootstrap.min.css set `[hidden] { display: none !important; }` so we also need the `!important` here to be able to override the default hidden behavior on the sphinx rendered scikit-learn.org. See: https://github.com/scikit-learn/scikit-learn/issues/21755 */display: inline-block !important;position: relative;}#sk-container-id-1 div.sk-text-repr-fallback {display: none;}</style><div id=\"sk-container-id-1\" class=\"sk-top-container\"><div class=\"sk-text-repr-fallback\"><pre>Pipeline(steps=[(&#x27;scale&#x27;, None), (&#x27;model&#x27;, RandomForestClassifier(n_jobs=-1))])</pre><b>In a Jupyter environment, please rerun this cell to show the HTML representation or trust the notebook. <br />On GitHub, the HTML representation is unable to render, please try loading this page with nbviewer.org.</b></div><div class=\"sk-container\" hidden><div class=\"sk-item sk-dashed-wrapped\"><div class=\"sk-label-container\"><div class=\"sk-label sk-toggleable\"><input class=\"sk-toggleable__control sk-hidden--visually\" id=\"sk-estimator-id-1\" type=\"checkbox\" ><label for=\"sk-estimator-id-1\" class=\"sk-toggleable__label sk-toggleable__label-arrow\">Pipeline</label><div class=\"sk-toggleable__content\"><pre>Pipeline(steps=[(&#x27;scale&#x27;, None), (&#x27;model&#x27;, RandomForestClassifier(n_jobs=-1))])</pre></div></div></div><div class=\"sk-serial\"><div class=\"sk-item\"><div class=\"sk-estimator sk-toggleable\"><input class=\"sk-toggleable__control sk-hidden--visually\" id=\"sk-estimator-id-2\" type=\"checkbox\" ><label for=\"sk-estimator-id-2\" class=\"sk-toggleable__label sk-toggleable__label-arrow\">None</label><div class=\"sk-toggleable__content\"><pre>None</pre></div></div></div><div class=\"sk-item\"><div class=\"sk-estimator sk-toggleable\"><input class=\"sk-toggleable__control sk-hidden--visually\" id=\"sk-estimator-id-3\" type=\"checkbox\" ><label for=\"sk-estimator-id-3\" class=\"sk-toggleable__label sk-toggleable__label-arrow\">RandomForestClassifier</label><div class=\"sk-toggleable__content\"><pre>RandomForestClassifier(n_jobs=-1)</pre></div></div></div></div></div></div></div>"
      ],
      "text/plain": [
       "Pipeline(steps=[('scale', None), ('model', RandomForestClassifier(n_jobs=-1))])"
      ]
     },
     "execution_count": 43,
     "metadata": {},
     "output_type": "execute_result"
    }
   ],
   "source": [
    "model.fit(X_train, y_train.values.ravel())"
   ]
  },
  {
   "cell_type": "code",
   "execution_count": 44,
   "id": "af59f8c0",
   "metadata": {
    "execution": {
     "iopub.execute_input": "2025-07-30T19:59:29.310583Z",
     "iopub.status.busy": "2025-07-30T19:59:29.310233Z",
     "iopub.status.idle": "2025-07-30T19:59:29.314368Z",
     "shell.execute_reply": "2025-07-30T19:59:29.313680Z"
    },
    "papermill": {
     "duration": 0.032676,
     "end_time": "2025-07-30T19:59:29.315649",
     "exception": false,
     "start_time": "2025-07-30T19:59:29.282973",
     "status": "completed"
    },
    "tags": []
   },
   "outputs": [],
   "source": [
    "from fairness_multiverse.universe import predict_w_threshold"
   ]
  },
  {
   "cell_type": "code",
   "execution_count": 45,
   "id": "a7cf2e16",
   "metadata": {
    "execution": {
     "iopub.execute_input": "2025-07-30T19:59:29.348992Z",
     "iopub.status.busy": "2025-07-30T19:59:29.348687Z",
     "iopub.status.idle": "2025-07-30T19:59:30.716257Z",
     "shell.execute_reply": "2025-07-30T19:59:30.715133Z"
    },
    "papermill": {
     "duration": 1.38926,
     "end_time": "2025-07-30T19:59:30.718281",
     "exception": false,
     "start_time": "2025-07-30T19:59:29.329021",
     "status": "completed"
    },
    "tags": []
   },
   "outputs": [
    {
     "data": {
      "text/plain": [
       "0.8667707056069558"
      ]
     },
     "execution_count": 45,
     "metadata": {},
     "output_type": "execute_result"
    }
   ],
   "source": [
    "probs_test = model.predict_proba(X_test)\n",
    "\n",
    "'''\n",
    "Below code returns a boolean array (or binary 0/1 array depending on how it’s used) where each element \n",
    "is True if the probability of class 1 is greater than or equal to the threshold, and False otherwise.\n",
    "'''\n",
    "y_pred_default = predict_w_threshold(probs_test, 0.5)\n",
    "\n",
    "from sklearn.metrics import accuracy_score\n",
    "\n",
    "# Naive prediction\n",
    "accuracy_score(y_true = y_true, y_pred = y_pred_default)"
   ]
  },
  {
   "cell_type": "code",
   "execution_count": 46,
   "id": "081964c3",
   "metadata": {
    "execution": {
     "iopub.execute_input": "2025-07-30T19:59:30.810489Z",
     "iopub.status.busy": "2025-07-30T19:59:30.809436Z",
     "iopub.status.idle": "2025-07-30T19:59:32.133230Z",
     "shell.execute_reply": "2025-07-30T19:59:32.132216Z"
    },
    "papermill": {
     "duration": 1.378681,
     "end_time": "2025-07-30T19:59:32.135138",
     "exception": false,
     "start_time": "2025-07-30T19:59:30.756457",
     "status": "completed"
    },
    "tags": []
   },
   "outputs": [
    {
     "data": {
      "text/plain": [
       "array([0, 0, 0, ..., 0, 0, 0])"
      ]
     },
     "execution_count": 46,
     "metadata": {},
     "output_type": "execute_result"
    }
   ],
   "source": [
    "model.predict(X_test)"
   ]
  },
  {
   "cell_type": "markdown",
   "id": "56c9705b",
   "metadata": {
    "papermill": {
     "duration": 0.054906,
     "end_time": "2025-07-30T19:59:32.239078",
     "exception": false,
     "start_time": "2025-07-30T19:59:32.184172",
     "status": "completed"
    },
    "tags": []
   },
   "source": [
    "# Conformal Prediction"
   ]
  },
  {
   "cell_type": "code",
   "execution_count": 47,
   "id": "160ec6ff",
   "metadata": {
    "execution": {
     "iopub.execute_input": "2025-07-30T19:59:32.304257Z",
     "iopub.status.busy": "2025-07-30T19:59:32.303815Z",
     "iopub.status.idle": "2025-07-30T19:59:32.309737Z",
     "shell.execute_reply": "2025-07-30T19:59:32.308777Z"
    },
    "papermill": {
     "duration": 0.037765,
     "end_time": "2025-07-30T19:59:32.313321",
     "exception": false,
     "start_time": "2025-07-30T19:59:32.275556",
     "status": "completed"
    },
    "tags": []
   },
   "outputs": [],
   "source": [
    "# Miscoverage level for conformal prediction (10% allowed error rate => 90% target coverage)\n",
    "alpha = 0.1"
   ]
  },
  {
   "cell_type": "code",
   "execution_count": 48,
   "id": "eadf4555-3dd3-440e-8e35-f82a4ad9f855",
   "metadata": {
    "execution": {
     "iopub.execute_input": "2025-07-30T19:59:32.372024Z",
     "iopub.status.busy": "2025-07-30T19:59:32.371528Z",
     "iopub.status.idle": "2025-07-30T19:59:33.338006Z",
     "shell.execute_reply": "2025-07-30T19:59:33.336995Z"
    },
    "papermill": {
     "duration": 0.995424,
     "end_time": "2025-07-30T19:59:33.340080",
     "exception": false,
     "start_time": "2025-07-30T19:59:32.344656",
     "status": "completed"
    },
    "tags": []
   },
   "outputs": [],
   "source": [
    "probs_calib = model.predict_proba(X_calib)"
   ]
  },
  {
   "cell_type": "code",
   "execution_count": 49,
   "id": "2ed93547-6d5d-4983-9b36-1ecb300da49a",
   "metadata": {
    "execution": {
     "iopub.execute_input": "2025-07-30T19:59:33.392244Z",
     "iopub.status.busy": "2025-07-30T19:59:33.391790Z",
     "iopub.status.idle": "2025-07-30T19:59:33.397645Z",
     "shell.execute_reply": "2025-07-30T19:59:33.396798Z"
    },
    "papermill": {
     "duration": 0.033244,
     "end_time": "2025-07-30T19:59:33.399273",
     "exception": false,
     "start_time": "2025-07-30T19:59:33.366029",
     "status": "completed"
    },
    "tags": []
   },
   "outputs": [],
   "source": [
    "y_calib = y_calib.values.ravel().astype(int)"
   ]
  },
  {
   "cell_type": "code",
   "execution_count": 50,
   "id": "65d1320d-f588-4b38-9072-62af1ae97f7d",
   "metadata": {
    "execution": {
     "iopub.execute_input": "2025-07-30T19:59:33.550156Z",
     "iopub.status.busy": "2025-07-30T19:59:33.549752Z",
     "iopub.status.idle": "2025-07-30T19:59:33.557447Z",
     "shell.execute_reply": "2025-07-30T19:59:33.556381Z"
    },
    "papermill": {
     "duration": 0.098118,
     "end_time": "2025-07-30T19:59:33.559112",
     "exception": false,
     "start_time": "2025-07-30T19:59:33.460994",
     "status": "completed"
    },
    "tags": []
   },
   "outputs": [],
   "source": [
    "from fairness_multiverse.conformal import compute_nc_scores\n",
    "\n",
    "# Compute nonconformity scores on calibration set (1 - probability of true class)\n",
    "nc_scores = compute_nc_scores(probs_calib, y_calib)"
   ]
  },
  {
   "cell_type": "code",
   "execution_count": 51,
   "id": "df3b8ca3-53b7-43d5-9667-7c85da7aeda2",
   "metadata": {
    "execution": {
     "iopub.execute_input": "2025-07-30T19:59:33.683020Z",
     "iopub.status.busy": "2025-07-30T19:59:33.682604Z",
     "iopub.status.idle": "2025-07-30T19:59:33.690714Z",
     "shell.execute_reply": "2025-07-30T19:59:33.689759Z"
    },
    "papermill": {
     "duration": 0.084988,
     "end_time": "2025-07-30T19:59:33.692658",
     "exception": false,
     "start_time": "2025-07-30T19:59:33.607670",
     "status": "completed"
    },
    "tags": []
   },
   "outputs": [],
   "source": [
    "from fairness_multiverse.conformal import find_threshold\n",
    "\n",
    "# Find conformal threshold q_hat for the given alpha (split conformal method)\n",
    "q_hat = find_threshold(nc_scores, alpha)"
   ]
  },
  {
   "cell_type": "code",
   "execution_count": 52,
   "id": "4d29e6c1-0ef6-4aa4-b8fe-4fe79b0d033a",
   "metadata": {
    "execution": {
     "iopub.execute_input": "2025-07-30T19:59:33.782763Z",
     "iopub.status.busy": "2025-07-30T19:59:33.782259Z",
     "iopub.status.idle": "2025-07-30T19:59:33.794884Z",
     "shell.execute_reply": "2025-07-30T19:59:33.793937Z"
    },
    "papermill": {
     "duration": 0.053124,
     "end_time": "2025-07-30T19:59:33.797750",
     "exception": false,
     "start_time": "2025-07-30T19:59:33.744626",
     "status": "completed"
    },
    "tags": []
   },
   "outputs": [
    {
     "data": {
      "text/plain": [
       "0.6599999999999999"
      ]
     },
     "execution_count": 52,
     "metadata": {},
     "output_type": "execute_result"
    }
   ],
   "source": [
    "q_hat"
   ]
  },
  {
   "cell_type": "code",
   "execution_count": 53,
   "id": "92460794-cdac-4be2-ba28-f28c0515a6fb",
   "metadata": {
    "execution": {
     "iopub.execute_input": "2025-07-30T19:59:33.902720Z",
     "iopub.status.busy": "2025-07-30T19:59:33.902321Z",
     "iopub.status.idle": "2025-07-30T19:59:35.847059Z",
     "shell.execute_reply": "2025-07-30T19:59:35.845950Z"
    },
    "papermill": {
     "duration": 2.000448,
     "end_time": "2025-07-30T19:59:35.848842",
     "exception": false,
     "start_time": "2025-07-30T19:59:33.848394",
     "status": "completed"
    },
    "tags": []
   },
   "outputs": [],
   "source": [
    "from fairness_multiverse.conformal import predict_conformal_sets\n",
    "\n",
    "# Generate prediction sets for each test example\n",
    "pred_sets = predict_conformal_sets(model, X_test, q_hat)"
   ]
  },
  {
   "cell_type": "code",
   "execution_count": 54,
   "id": "d90c9a65-e6db-4f5d-80cd-e68fb7e46829",
   "metadata": {
    "execution": {
     "iopub.execute_input": "2025-07-30T19:59:35.919198Z",
     "iopub.status.busy": "2025-07-30T19:59:35.918315Z",
     "iopub.status.idle": "2025-07-30T19:59:35.924619Z",
     "shell.execute_reply": "2025-07-30T19:59:35.923550Z"
    },
    "papermill": {
     "duration": 0.050101,
     "end_time": "2025-07-30T19:59:35.926284",
     "exception": false,
     "start_time": "2025-07-30T19:59:35.876183",
     "status": "completed"
    },
    "tags": []
   },
   "outputs": [],
   "source": [
    "y_true = y_true.squeeze()"
   ]
  },
  {
   "cell_type": "code",
   "execution_count": 55,
   "id": "3a58a54a-1e68-46b9-927a-df01f18aebc8",
   "metadata": {
    "execution": {
     "iopub.execute_input": "2025-07-30T19:59:36.031098Z",
     "iopub.status.busy": "2025-07-30T19:59:36.030712Z",
     "iopub.status.idle": "2025-07-30T19:59:37.079633Z",
     "shell.execute_reply": "2025-07-30T19:59:37.078711Z"
    },
    "papermill": {
     "duration": 1.092995,
     "end_time": "2025-07-30T19:59:37.081754",
     "exception": false,
     "start_time": "2025-07-30T19:59:35.988759",
     "status": "completed"
    },
    "tags": []
   },
   "outputs": [],
   "source": [
    "from fairness_multiverse.conformal import evaluate_sets\n",
    "\n",
    "# Evaluate coverage and average set size on test data\n",
    "metrics = evaluate_sets(pred_sets, y_true)"
   ]
  },
  {
   "cell_type": "markdown",
   "id": "2b569c12-9aaa-4c88-98c9-bbcd0cf3ebb8",
   "metadata": {
    "papermill": {
     "duration": 0.026395,
     "end_time": "2025-07-30T19:59:37.132695",
     "exception": false,
     "start_time": "2025-07-30T19:59:37.106300",
     "status": "completed"
    },
    "tags": []
   },
   "source": [
    "# CP Metrics"
   ]
  },
  {
   "cell_type": "code",
   "execution_count": 56,
   "id": "5ce0a5cb-201f-45a0-ade5-94c7f0bd6095",
   "metadata": {
    "execution": {
     "iopub.execute_input": "2025-07-30T19:59:37.202471Z",
     "iopub.status.busy": "2025-07-30T19:59:37.202088Z",
     "iopub.status.idle": "2025-07-30T19:59:37.209969Z",
     "shell.execute_reply": "2025-07-30T19:59:37.208799Z"
    },
    "papermill": {
     "duration": 0.038769,
     "end_time": "2025-07-30T19:59:37.214513",
     "exception": false,
     "start_time": "2025-07-30T19:59:37.175744",
     "status": "completed"
    },
    "tags": []
   },
   "outputs": [
    {
     "data": {
      "text/plain": [
       "{'coverage': 0.9140229628803924, 'avg_size': 1.138724779846171}"
      ]
     },
     "execution_count": 56,
     "metadata": {},
     "output_type": "execute_result"
    }
   ],
   "source": [
    "metrics"
   ]
  },
  {
   "cell_type": "code",
   "execution_count": 57,
   "id": "9b9a838d-31c9-430b-ae14-12baee460d17",
   "metadata": {
    "execution": {
     "iopub.execute_input": "2025-07-30T19:59:37.269515Z",
     "iopub.status.busy": "2025-07-30T19:59:37.269070Z",
     "iopub.status.idle": "2025-07-30T19:59:37.276383Z",
     "shell.execute_reply": "2025-07-30T19:59:37.275199Z"
    },
    "papermill": {
     "duration": 0.038837,
     "end_time": "2025-07-30T19:59:37.280145",
     "exception": false,
     "start_time": "2025-07-30T19:59:37.241308",
     "status": "completed"
    },
    "tags": []
   },
   "outputs": [],
   "source": [
    "example_universe = universe.copy()\n",
    "universe_training_year = example_universe.get(\"training_year\")\n",
    "universe_training_size = example_universe.get(\"training_size\")\n",
    "universe_scale = example_universe.get(\"scale\")\n",
    "universe_model = example_universe.get(\"model\")\n",
    "universe_exclude_features = example_universe.get(\"exclude_features\")\n",
    "universe_exclude_subgroups = example_universe.get(\"exclude_subgroups\")"
   ]
  },
  {
   "cell_type": "code",
   "execution_count": 58,
   "id": "f4b6a8ac-9dc0-4245-8a91-5b3b5999c4f9",
   "metadata": {
    "execution": {
     "iopub.execute_input": "2025-07-30T19:59:37.347569Z",
     "iopub.status.busy": "2025-07-30T19:59:37.347164Z",
     "iopub.status.idle": "2025-07-30T19:59:37.354373Z",
     "shell.execute_reply": "2025-07-30T19:59:37.353361Z"
    },
    "papermill": {
     "duration": 0.049125,
     "end_time": "2025-07-30T19:59:37.357963",
     "exception": false,
     "start_time": "2025-07-30T19:59:37.308838",
     "status": "completed"
    },
    "tags": []
   },
   "outputs": [],
   "source": [
    "cp_metrics_dict = {\n",
    "    \"universe_id\": [universe_id],\n",
    "    \"universe_training_year\": [universe_training_year],\n",
    "    \"universe_training_size\": [universe_training_size],\n",
    "    \"universe_scale\": [universe_scale],\n",
    "    \"universe_model\": [universe_model],\n",
    "    \"universe_exclude_features\": [universe_exclude_features],\n",
    "    \"universe_exclude_subgroups\": [universe_exclude_subgroups],\n",
    "    \"q_hat\": [q_hat],\n",
    "    \"coverage\": [metrics[\"coverage\"]],\n",
    "    \"avg_size\": [metrics[\"avg_size\"]],\n",
    "}"
   ]
  },
  {
   "cell_type": "code",
   "execution_count": 59,
   "id": "908acbb1-0371-4915-85ca-3fa520d2efe2",
   "metadata": {
    "execution": {
     "iopub.execute_input": "2025-07-30T19:59:37.434011Z",
     "iopub.status.busy": "2025-07-30T19:59:37.433526Z",
     "iopub.status.idle": "2025-07-30T19:59:37.443075Z",
     "shell.execute_reply": "2025-07-30T19:59:37.442034Z"
    },
    "papermill": {
     "duration": 0.061956,
     "end_time": "2025-07-30T19:59:37.447576",
     "exception": false,
     "start_time": "2025-07-30T19:59:37.385620",
     "status": "completed"
    },
    "tags": []
   },
   "outputs": [
    {
     "data": {
      "text/plain": [
       "{'universe_id': ['a9efa8853fc82364bf88212eafaae09b'],\n",
       " 'universe_training_year': ['2014'],\n",
       " 'universe_training_size': ['25k'],\n",
       " 'universe_scale': ['do-not-scale'],\n",
       " 'universe_model': ['rf'],\n",
       " 'universe_exclude_features': ['sex'],\n",
       " 'universe_exclude_subgroups': ['keep-all'],\n",
       " 'q_hat': [0.6599999999999999],\n",
       " 'coverage': [0.9140229628803924],\n",
       " 'avg_size': [1.138724779846171]}"
      ]
     },
     "execution_count": 59,
     "metadata": {},
     "output_type": "execute_result"
    }
   ],
   "source": [
    "cp_metrics_dict"
   ]
  },
  {
   "cell_type": "code",
   "execution_count": 60,
   "id": "33007efc-14e9-4ec6-97ac-56a455c82265",
   "metadata": {
    "execution": {
     "iopub.execute_input": "2025-07-30T19:59:37.578693Z",
     "iopub.status.busy": "2025-07-30T19:59:37.578289Z",
     "iopub.status.idle": "2025-07-30T19:59:37.584810Z",
     "shell.execute_reply": "2025-07-30T19:59:37.583766Z"
    },
    "papermill": {
     "duration": 0.063741,
     "end_time": "2025-07-30T19:59:37.586335",
     "exception": false,
     "start_time": "2025-07-30T19:59:37.522594",
     "status": "completed"
    },
    "tags": []
   },
   "outputs": [],
   "source": [
    "cp_metrics_df = pd.DataFrame(cp_metrics_dict)"
   ]
  },
  {
   "cell_type": "code",
   "execution_count": 61,
   "id": "db12611b-57b2-4910-b9d0-355adfd6e7bf",
   "metadata": {
    "execution": {
     "iopub.execute_input": "2025-07-30T19:59:37.680339Z",
     "iopub.status.busy": "2025-07-30T19:59:37.679863Z",
     "iopub.status.idle": "2025-07-30T19:59:37.728902Z",
     "shell.execute_reply": "2025-07-30T19:59:37.727473Z"
    },
    "papermill": {
     "duration": 0.0902,
     "end_time": "2025-07-30T19:59:37.730913",
     "exception": false,
     "start_time": "2025-07-30T19:59:37.640713",
     "status": "completed"
    },
    "tags": []
   },
   "outputs": [
    {
     "data": {
      "text/html": [
       "<div>\n",
       "<style scoped>\n",
       "    .dataframe tbody tr th:only-of-type {\n",
       "        vertical-align: middle;\n",
       "    }\n",
       "\n",
       "    .dataframe tbody tr th {\n",
       "        vertical-align: top;\n",
       "    }\n",
       "\n",
       "    .dataframe thead th {\n",
       "        text-align: right;\n",
       "    }\n",
       "</style>\n",
       "<table border=\"1\" class=\"dataframe\">\n",
       "  <thead>\n",
       "    <tr style=\"text-align: right;\">\n",
       "      <th></th>\n",
       "      <th>universe_id</th>\n",
       "      <th>universe_training_year</th>\n",
       "      <th>universe_training_size</th>\n",
       "      <th>universe_scale</th>\n",
       "      <th>universe_model</th>\n",
       "      <th>universe_exclude_features</th>\n",
       "      <th>universe_exclude_subgroups</th>\n",
       "      <th>q_hat</th>\n",
       "      <th>coverage</th>\n",
       "      <th>avg_size</th>\n",
       "    </tr>\n",
       "  </thead>\n",
       "  <tbody>\n",
       "    <tr>\n",
       "      <th>0</th>\n",
       "      <td>a9efa8853fc82364bf88212eafaae09b</td>\n",
       "      <td>2014</td>\n",
       "      <td>25k</td>\n",
       "      <td>do-not-scale</td>\n",
       "      <td>rf</td>\n",
       "      <td>sex</td>\n",
       "      <td>keep-all</td>\n",
       "      <td>0.66</td>\n",
       "      <td>0.914023</td>\n",
       "      <td>1.138725</td>\n",
       "    </tr>\n",
       "  </tbody>\n",
       "</table>\n",
       "</div>"
      ],
      "text/plain": [
       "                        universe_id universe_training_year  \\\n",
       "0  a9efa8853fc82364bf88212eafaae09b                   2014   \n",
       "\n",
       "  universe_training_size universe_scale universe_model  \\\n",
       "0                    25k   do-not-scale             rf   \n",
       "\n",
       "  universe_exclude_features universe_exclude_subgroups  q_hat  coverage  \\\n",
       "0                       sex                   keep-all   0.66  0.914023   \n",
       "\n",
       "   avg_size  \n",
       "0  1.138725  "
      ]
     },
     "execution_count": 61,
     "metadata": {},
     "output_type": "execute_result"
    }
   ],
   "source": [
    "cp_metrics_df"
   ]
  },
  {
   "cell_type": "code",
   "execution_count": 62,
   "id": "b7fbde55-a0a1-47e4-9af6-fe4a17fa8c61",
   "metadata": {
    "execution": {
     "iopub.execute_input": "2025-07-30T19:59:37.791116Z",
     "iopub.status.busy": "2025-07-30T19:59:37.790224Z",
     "iopub.status.idle": "2025-07-30T19:59:37.795915Z",
     "shell.execute_reply": "2025-07-30T19:59:37.794821Z"
    },
    "papermill": {
     "duration": 0.037398,
     "end_time": "2025-07-30T19:59:37.798689",
     "exception": false,
     "start_time": "2025-07-30T19:59:37.761291",
     "status": "completed"
    },
    "tags": []
   },
   "outputs": [],
   "source": [
    "# Conditional Coverage & looking at subgroups"
   ]
  },
  {
   "cell_type": "code",
   "execution_count": 63,
   "id": "027ae886-68dd-4141-96c7-805a5450e1ef",
   "metadata": {
    "execution": {
     "iopub.execute_input": "2025-07-30T19:59:37.857766Z",
     "iopub.status.busy": "2025-07-30T19:59:37.857344Z",
     "iopub.status.idle": "2025-07-30T19:59:38.237290Z",
     "shell.execute_reply": "2025-07-30T19:59:38.236085Z"
    },
    "papermill": {
     "duration": 0.411371,
     "end_time": "2025-07-30T19:59:38.239203",
     "exception": false,
     "start_time": "2025-07-30T19:59:37.827832",
     "status": "completed"
    },
    "tags": []
   },
   "outputs": [],
   "source": [
    "from fairness_multiverse.conformal import build_cp_groups\n",
    "\n",
    "cp_groups_df = build_cp_groups(pred_sets, y_true, X_test.index, org_test)\n",
    "#needs universe_id and setting"
   ]
  },
  {
   "cell_type": "code",
   "execution_count": 64,
   "id": "01d5802c-663a-4d1f-9d69-e036faaffbf7",
   "metadata": {
    "execution": {
     "iopub.execute_input": "2025-07-30T19:59:38.296751Z",
     "iopub.status.busy": "2025-07-30T19:59:38.296319Z",
     "iopub.status.idle": "2025-07-30T19:59:38.301699Z",
     "shell.execute_reply": "2025-07-30T19:59:38.300578Z"
    },
    "papermill": {
     "duration": 0.038041,
     "end_time": "2025-07-30T19:59:38.306478",
     "exception": false,
     "start_time": "2025-07-30T19:59:38.268437",
     "status": "completed"
    },
    "tags": []
   },
   "outputs": [],
   "source": [
    "#delete\n",
    "#cp_groups_df"
   ]
  },
  {
   "cell_type": "code",
   "execution_count": 65,
   "id": "fa424af1-d1eb-443d-b717-2d279ada8408",
   "metadata": {
    "execution": {
     "iopub.execute_input": "2025-07-30T19:59:38.417927Z",
     "iopub.status.busy": "2025-07-30T19:59:38.417535Z",
     "iopub.status.idle": "2025-07-30T19:59:38.423151Z",
     "shell.execute_reply": "2025-07-30T19:59:38.422024Z"
    },
    "papermill": {
     "duration": 0.052439,
     "end_time": "2025-07-30T19:59:38.424985",
     "exception": false,
     "start_time": "2025-07-30T19:59:38.372546",
     "status": "completed"
    },
    "tags": []
   },
   "outputs": [],
   "source": [
    "#delete\n",
    "#percentage = (cp_groups_df['nongerman_female'] == 1).mean() * 100\n",
    "#print(percentage)\n"
   ]
  },
  {
   "cell_type": "code",
   "execution_count": 66,
   "id": "6cbdab96-b2b2-45af-ad54-d0516db2e28d",
   "metadata": {
    "execution": {
     "iopub.execute_input": "2025-07-30T19:59:38.484429Z",
     "iopub.status.busy": "2025-07-30T19:59:38.484014Z",
     "iopub.status.idle": "2025-07-30T19:59:40.595377Z",
     "shell.execute_reply": "2025-07-30T19:59:40.594231Z"
    },
    "papermill": {
     "duration": 2.143983,
     "end_time": "2025-07-30T19:59:40.597482",
     "exception": false,
     "start_time": "2025-07-30T19:59:38.453499",
     "status": "completed"
    },
    "tags": []
   },
   "outputs": [],
   "source": [
    "# Define covered = 1 if true_label is in the predicted set\n",
    "cp_groups_df['covered'] = cp_groups_df.apply(\n",
    "    lambda r: int(r['true_label'] in r['pred_set']),\n",
    "    axis=1\n",
    ")"
   ]
  },
  {
   "cell_type": "code",
   "execution_count": 67,
   "id": "338ff529-1a6b-4b87-a931-8e4788d52aad",
   "metadata": {
    "execution": {
     "iopub.execute_input": "2025-07-30T19:59:40.728699Z",
     "iopub.status.busy": "2025-07-30T19:59:40.728249Z",
     "iopub.status.idle": "2025-07-30T19:59:40.733932Z",
     "shell.execute_reply": "2025-07-30T19:59:40.732788Z"
    },
    "papermill": {
     "duration": 0.085581,
     "end_time": "2025-07-30T19:59:40.736580",
     "exception": false,
     "start_time": "2025-07-30T19:59:40.650999",
     "status": "completed"
    },
    "tags": []
   },
   "outputs": [],
   "source": [
    "#cp_groups_df"
   ]
  },
  {
   "cell_type": "code",
   "execution_count": 68,
   "id": "90032e27-66df-4540-9169-4e89cfbaa758",
   "metadata": {
    "execution": {
     "iopub.execute_input": "2025-07-30T19:59:40.792430Z",
     "iopub.status.busy": "2025-07-30T19:59:40.792007Z",
     "iopub.status.idle": "2025-07-30T19:59:40.821239Z",
     "shell.execute_reply": "2025-07-30T19:59:40.820088Z"
    },
    "papermill": {
     "duration": 0.058466,
     "end_time": "2025-07-30T19:59:40.823199",
     "exception": false,
     "start_time": "2025-07-30T19:59:40.764733",
     "status": "completed"
    },
    "tags": []
   },
   "outputs": [],
   "source": [
    "subgroups = ['frau1','nongerman','nongerman_male','nongerman_female']\n",
    "\n",
    "# Conditional coverage for subgroup==1\n",
    "cond_coverage = {\n",
    "    g: cp_groups_df.loc[cp_groups_df[g]==1, 'covered'].mean()\n",
    "    for g in subgroups\n",
    "}"
   ]
  },
  {
   "cell_type": "code",
   "execution_count": 69,
   "id": "1e348fb1-b9c3-45bc-ba23-f016827a7e0d",
   "metadata": {
    "execution": {
     "iopub.execute_input": "2025-07-30T19:59:40.915650Z",
     "iopub.status.busy": "2025-07-30T19:59:40.914915Z",
     "iopub.status.idle": "2025-07-30T19:59:40.924660Z",
     "shell.execute_reply": "2025-07-30T19:59:40.923460Z"
    },
    "papermill": {
     "duration": 0.059486,
     "end_time": "2025-07-30T19:59:40.928773",
     "exception": false,
     "start_time": "2025-07-30T19:59:40.869287",
     "status": "completed"
    },
    "tags": []
   },
   "outputs": [
    {
     "data": {
      "text/plain": [
       "{'frau1': 0.9132497641191535,\n",
       " 'nongerman': 0.9119744007185763,\n",
       " 'nongerman_male': 0.9263262181392417,\n",
       " 'nongerman_female': 0.8882265275707899}"
      ]
     },
     "execution_count": 69,
     "metadata": {},
     "output_type": "execute_result"
    }
   ],
   "source": [
    "cond_coverage"
   ]
  },
  {
   "cell_type": "code",
   "execution_count": 70,
   "id": "f5093324-c3dd-4d63-bc4c-8d945e5c8bbb",
   "metadata": {
    "execution": {
     "iopub.execute_input": "2025-07-30T19:59:41.026188Z",
     "iopub.status.busy": "2025-07-30T19:59:41.025754Z",
     "iopub.status.idle": "2025-07-30T19:59:41.033733Z",
     "shell.execute_reply": "2025-07-30T19:59:41.032789Z"
    },
    "papermill": {
     "duration": 0.055196,
     "end_time": "2025-07-30T19:59:41.035356",
     "exception": false,
     "start_time": "2025-07-30T19:59:40.980160",
     "status": "completed"
    },
    "tags": []
   },
   "outputs": [],
   "source": [
    "for subgroup, cov in cond_coverage.items():\n",
    "    cp_metrics_df[f\"cov_{subgroup}\"] = cov"
   ]
  },
  {
   "cell_type": "code",
   "execution_count": 71,
   "id": "6e872e10-dbe5-49e8-b554-5030c98ff75d",
   "metadata": {
    "execution": {
     "iopub.execute_input": "2025-07-30T19:59:41.098478Z",
     "iopub.status.busy": "2025-07-30T19:59:41.098009Z",
     "iopub.status.idle": "2025-07-30T19:59:41.118804Z",
     "shell.execute_reply": "2025-07-30T19:59:41.117808Z"
    },
    "papermill": {
     "duration": 0.049916,
     "end_time": "2025-07-30T19:59:41.120483",
     "exception": false,
     "start_time": "2025-07-30T19:59:41.070567",
     "status": "completed"
    },
    "tags": []
   },
   "outputs": [
    {
     "data": {
      "text/html": [
       "<div>\n",
       "<style scoped>\n",
       "    .dataframe tbody tr th:only-of-type {\n",
       "        vertical-align: middle;\n",
       "    }\n",
       "\n",
       "    .dataframe tbody tr th {\n",
       "        vertical-align: top;\n",
       "    }\n",
       "\n",
       "    .dataframe thead th {\n",
       "        text-align: right;\n",
       "    }\n",
       "</style>\n",
       "<table border=\"1\" class=\"dataframe\">\n",
       "  <thead>\n",
       "    <tr style=\"text-align: right;\">\n",
       "      <th></th>\n",
       "      <th>universe_id</th>\n",
       "      <th>universe_training_year</th>\n",
       "      <th>universe_training_size</th>\n",
       "      <th>universe_scale</th>\n",
       "      <th>universe_model</th>\n",
       "      <th>universe_exclude_features</th>\n",
       "      <th>universe_exclude_subgroups</th>\n",
       "      <th>q_hat</th>\n",
       "      <th>coverage</th>\n",
       "      <th>avg_size</th>\n",
       "      <th>cov_frau1</th>\n",
       "      <th>cov_nongerman</th>\n",
       "      <th>cov_nongerman_male</th>\n",
       "      <th>cov_nongerman_female</th>\n",
       "    </tr>\n",
       "  </thead>\n",
       "  <tbody>\n",
       "    <tr>\n",
       "      <th>0</th>\n",
       "      <td>a9efa8853fc82364bf88212eafaae09b</td>\n",
       "      <td>2014</td>\n",
       "      <td>25k</td>\n",
       "      <td>do-not-scale</td>\n",
       "      <td>rf</td>\n",
       "      <td>sex</td>\n",
       "      <td>keep-all</td>\n",
       "      <td>0.66</td>\n",
       "      <td>0.914023</td>\n",
       "      <td>1.138725</td>\n",
       "      <td>0.91325</td>\n",
       "      <td>0.911974</td>\n",
       "      <td>0.926326</td>\n",
       "      <td>0.888227</td>\n",
       "    </tr>\n",
       "  </tbody>\n",
       "</table>\n",
       "</div>"
      ],
      "text/plain": [
       "                        universe_id universe_training_year  \\\n",
       "0  a9efa8853fc82364bf88212eafaae09b                   2014   \n",
       "\n",
       "  universe_training_size universe_scale universe_model  \\\n",
       "0                    25k   do-not-scale             rf   \n",
       "\n",
       "  universe_exclude_features universe_exclude_subgroups  q_hat  coverage  \\\n",
       "0                       sex                   keep-all   0.66  0.914023   \n",
       "\n",
       "   avg_size  cov_frau1  cov_nongerman  cov_nongerman_male  \\\n",
       "0  1.138725    0.91325       0.911974            0.926326   \n",
       "\n",
       "   cov_nongerman_female  \n",
       "0              0.888227  "
      ]
     },
     "execution_count": 71,
     "metadata": {},
     "output_type": "execute_result"
    }
   ],
   "source": [
    "cp_metrics_df"
   ]
  },
  {
   "cell_type": "markdown",
   "id": "33774451",
   "metadata": {
    "papermill": {
     "duration": 0.029891,
     "end_time": "2025-07-30T19:59:41.179577",
     "exception": false,
     "start_time": "2025-07-30T19:59:41.149686",
     "status": "completed"
    },
    "tags": []
   },
   "source": [
    "# (Fairness) Metrics"
   ]
  },
  {
   "cell_type": "code",
   "execution_count": 72,
   "id": "debc5d62",
   "metadata": {
    "execution": {
     "iopub.execute_input": "2025-07-30T19:59:41.240636Z",
     "iopub.status.busy": "2025-07-30T19:59:41.239993Z",
     "iopub.status.idle": "2025-07-30T19:59:41.314017Z",
     "shell.execute_reply": "2025-07-30T19:59:41.263911Z"
    },
    "papermill": {
     "duration": 0.109683,
     "end_time": "2025-07-30T19:59:41.316432",
     "exception": false,
     "start_time": "2025-07-30T19:59:41.206749",
     "status": "completed"
    },
    "tags": []
   },
   "outputs": [],
   "source": [
    "# do I need to include maxdeutsch1.missing?\n",
    "\n",
    "import numpy as np\n",
    "\n",
    "colname_to_bin = \"maxdeutsch1\"\n",
    "majority_value = org_train[colname_to_bin].mode()[0]\n",
    "\n",
    "org_test[\"majmin\"] = np.where(org_test[colname_to_bin] == majority_value, \"majority\", \"minority\")"
   ]
  },
  {
   "cell_type": "code",
   "execution_count": 73,
   "id": "06a50de5",
   "metadata": {
    "execution": {
     "iopub.execute_input": "2025-07-30T19:59:41.411351Z",
     "iopub.status.busy": "2025-07-30T19:59:41.410866Z",
     "iopub.status.idle": "2025-07-30T19:59:44.261150Z",
     "shell.execute_reply": "2025-07-30T19:59:44.260087Z"
    },
    "papermill": {
     "duration": 2.898494,
     "end_time": "2025-07-30T19:59:44.262915",
     "exception": false,
     "start_time": "2025-07-30T19:59:41.364421",
     "status": "completed"
    },
    "tags": []
   },
   "outputs": [],
   "source": [
    "example_universe = universe.copy()\n",
    "example_universe[\"cutoff\"] = example_universe[\"cutoff\"][0]\n",
    "example_universe[\"eval_fairness_grouping\"] = example_universe[\"eval_fairness_grouping\"][0]\n",
    "fairness_dict, metric_frame = universe_analysis.compute_metrics(\n",
    "    example_universe,\n",
    "    y_pred_prob=probs_test,\n",
    "    y_test=y_true,\n",
    "    org_test=org_test,\n",
    ")"
   ]
  },
  {
   "cell_type": "markdown",
   "id": "f95d4e02",
   "metadata": {
    "papermill": {
     "duration": 0.057763,
     "end_time": "2025-07-30T19:59:44.344951",
     "exception": false,
     "start_time": "2025-07-30T19:59:44.287188",
     "status": "completed"
    },
    "tags": []
   },
   "source": [
    "# Overall"
   ]
  },
  {
   "cell_type": "markdown",
   "id": "bdee4871",
   "metadata": {
    "papermill": {
     "duration": 0.050547,
     "end_time": "2025-07-30T19:59:44.443455",
     "exception": false,
     "start_time": "2025-07-30T19:59:44.392908",
     "status": "completed"
    },
    "tags": []
   },
   "source": [
    "Fairness\n",
    "Main fairness target: Equalized Odds. Seems to be a better fit than equal opportunity, since we're not only interested in Y = 1. Seems to be a better fit than demographic parity, since we also care about accuracy, not just equal distribution of preds.\n",
    "\n",
    "Pick column for computation of fairness metrics\n",
    "\n",
    "Performance\n",
    "Overall performance measures, most interesting in relation to the measures split by group below"
   ]
  },
  {
   "cell_type": "code",
   "execution_count": 74,
   "id": "c4e067c6",
   "metadata": {
    "execution": {
     "iopub.execute_input": "2025-07-30T19:59:44.554174Z",
     "iopub.status.busy": "2025-07-30T19:59:44.553756Z",
     "iopub.status.idle": "2025-07-30T19:59:44.563439Z",
     "shell.execute_reply": "2025-07-30T19:59:44.562340Z"
    },
    "papermill": {
     "duration": 0.072879,
     "end_time": "2025-07-30T19:59:44.565051",
     "exception": false,
     "start_time": "2025-07-30T19:59:44.492172",
     "status": "completed"
    },
    "tags": []
   },
   "outputs": [
    {
     "data": {
      "text/plain": [
       "accuracy                   0.213399\n",
       "balanced accuracy          0.538225\n",
       "f1                         0.241307\n",
       "precision                  0.137690\n",
       "false positive rate        0.898698\n",
       "false negative rate        0.024852\n",
       "selection rate             0.908505\n",
       "count                  89710.000000\n",
       "dtype: float64"
      ]
     },
     "execution_count": 74,
     "metadata": {},
     "output_type": "execute_result"
    }
   ],
   "source": [
    "metric_frame.overall"
   ]
  },
  {
   "cell_type": "markdown",
   "id": "e968fe9d",
   "metadata": {
    "papermill": {
     "duration": 0.06723,
     "end_time": "2025-07-30T19:59:44.664616",
     "exception": false,
     "start_time": "2025-07-30T19:59:44.597386",
     "status": "completed"
    },
    "tags": []
   },
   "source": [
    "By Group"
   ]
  },
  {
   "cell_type": "code",
   "execution_count": 75,
   "id": "ec325bce",
   "metadata": {
    "execution": {
     "iopub.execute_input": "2025-07-30T19:59:44.720781Z",
     "iopub.status.busy": "2025-07-30T19:59:44.720128Z",
     "iopub.status.idle": "2025-07-30T19:59:44.736267Z",
     "shell.execute_reply": "2025-07-30T19:59:44.735211Z"
    },
    "papermill": {
     "duration": 0.044597,
     "end_time": "2025-07-30T19:59:44.738001",
     "exception": false,
     "start_time": "2025-07-30T19:59:44.693404",
     "status": "completed"
    },
    "tags": []
   },
   "outputs": [
    {
     "data": {
      "text/html": [
       "<div>\n",
       "<style scoped>\n",
       "    .dataframe tbody tr th:only-of-type {\n",
       "        vertical-align: middle;\n",
       "    }\n",
       "\n",
       "    .dataframe tbody tr th {\n",
       "        vertical-align: top;\n",
       "    }\n",
       "\n",
       "    .dataframe thead th {\n",
       "        text-align: right;\n",
       "    }\n",
       "</style>\n",
       "<table border=\"1\" class=\"dataframe\">\n",
       "  <thead>\n",
       "    <tr style=\"text-align: right;\">\n",
       "      <th></th>\n",
       "      <th>accuracy</th>\n",
       "      <th>balanced accuracy</th>\n",
       "      <th>f1</th>\n",
       "      <th>precision</th>\n",
       "      <th>false positive rate</th>\n",
       "      <th>false negative rate</th>\n",
       "      <th>selection rate</th>\n",
       "      <th>count</th>\n",
       "    </tr>\n",
       "    <tr>\n",
       "      <th>majmin</th>\n",
       "      <th></th>\n",
       "      <th></th>\n",
       "      <th></th>\n",
       "      <th></th>\n",
       "      <th></th>\n",
       "      <th></th>\n",
       "      <th></th>\n",
       "      <th></th>\n",
       "    </tr>\n",
       "  </thead>\n",
       "  <tbody>\n",
       "    <tr>\n",
       "      <th>majority</th>\n",
       "      <td>0.201012</td>\n",
       "      <td>0.535274</td>\n",
       "      <td>0.246606</td>\n",
       "      <td>0.140853</td>\n",
       "      <td>0.919057</td>\n",
       "      <td>0.010394</td>\n",
       "      <td>0.928379</td>\n",
       "      <td>69170.0</td>\n",
       "    </tr>\n",
       "    <tr>\n",
       "      <th>minority</th>\n",
       "      <td>0.255112</td>\n",
       "      <td>0.543949</td>\n",
       "      <td>0.221533</td>\n",
       "      <td>0.125940</td>\n",
       "      <td>0.831444</td>\n",
       "      <td>0.080659</td>\n",
       "      <td>0.841577</td>\n",
       "      <td>20540.0</td>\n",
       "    </tr>\n",
       "  </tbody>\n",
       "</table>\n",
       "</div>"
      ],
      "text/plain": [
       "          accuracy  balanced accuracy        f1  precision  \\\n",
       "majmin                                                       \n",
       "majority  0.201012           0.535274  0.246606   0.140853   \n",
       "minority  0.255112           0.543949  0.221533   0.125940   \n",
       "\n",
       "          false positive rate  false negative rate  selection rate    count  \n",
       "majmin                                                                       \n",
       "majority             0.919057             0.010394        0.928379  69170.0  \n",
       "minority             0.831444             0.080659        0.841577  20540.0  "
      ]
     },
     "execution_count": 75,
     "metadata": {},
     "output_type": "execute_result"
    }
   ],
   "source": [
    "metric_frame.by_group"
   ]
  },
  {
   "cell_type": "code",
   "execution_count": 76,
   "id": "a9ddbe63",
   "metadata": {
    "execution": {
     "iopub.execute_input": "2025-07-30T19:59:44.792467Z",
     "iopub.status.busy": "2025-07-30T19:59:44.791512Z",
     "iopub.status.idle": "2025-07-30T19:59:47.645231Z",
     "shell.execute_reply": "2025-07-30T19:59:47.644214Z"
    },
    "papermill": {
     "duration": 2.881707,
     "end_time": "2025-07-30T19:59:47.646864",
     "exception": false,
     "start_time": "2025-07-30T19:59:44.765157",
     "status": "completed"
    },
    "tags": []
   },
   "outputs": [
    {
     "data": {
      "text/plain": [
       "array([[<Axes: title={'center': 'accuracy'}, xlabel='majmin'>,\n",
       "        <Axes: title={'center': 'balanced accuracy'}, xlabel='majmin'>,\n",
       "        <Axes: title={'center': 'f1'}, xlabel='majmin'>],\n",
       "       [<Axes: title={'center': 'precision'}, xlabel='majmin'>,\n",
       "        <Axes: title={'center': 'false positive rate'}, xlabel='majmin'>,\n",
       "        <Axes: title={'center': 'false negative rate'}, xlabel='majmin'>],\n",
       "       [<Axes: title={'center': 'selection rate'}, xlabel='majmin'>,\n",
       "        <Axes: title={'center': 'count'}, xlabel='majmin'>,\n",
       "        <Axes: xlabel='majmin'>]], dtype=object)"
      ]
     },
     "execution_count": 76,
     "metadata": {},
     "output_type": "execute_result"
    },
    {
     "data": {
      "image/png": "[encoded data removed]",
      "text/plain": [
       "<Figure size 1200x800 with 9 Axes>"
      ]
     },
     "metadata": {},
     "output_type": "display_data"
    }
   ],
   "source": [
    "# In a graphic\n",
    "metric_frame.by_group.plot.bar(\n",
    "    subplots=True,\n",
    "    layout=[3, 3],\n",
    "    legend=False,\n",
    "    figsize=[12, 8],\n",
    "    title=\"Show all metrics\",\n",
    ")"
   ]
  },
  {
   "cell_type": "markdown",
   "id": "f57a0bac",
   "metadata": {
    "papermill": {
     "duration": 0.026953,
     "end_time": "2025-07-30T19:59:47.702295",
     "exception": false,
     "start_time": "2025-07-30T19:59:47.675342",
     "status": "completed"
    },
    "tags": []
   },
   "source": [
    "# Final Output"
   ]
  },
  {
   "cell_type": "code",
   "execution_count": 77,
   "id": "96d280a3",
   "metadata": {
    "execution": {
     "iopub.execute_input": "2025-07-30T19:59:47.760707Z",
     "iopub.status.busy": "2025-07-30T19:59:47.760026Z",
     "iopub.status.idle": "2025-07-30T19:59:47.769039Z",
     "shell.execute_reply": "2025-07-30T19:59:47.768081Z"
    },
    "papermill": {
     "duration": 0.039006,
     "end_time": "2025-07-30T19:59:47.770514",
     "exception": false,
     "start_time": "2025-07-30T19:59:47.731508",
     "status": "completed"
    },
    "tags": []
   },
   "outputs": [
    {
     "data": {
      "text/plain": [
       "4"
      ]
     },
     "execution_count": 77,
     "metadata": {},
     "output_type": "execute_result"
    }
   ],
   "source": [
    "sub_universes = universe_analysis.generate_sub_universes()\n",
    "len(sub_universes)"
   ]
  },
  {
   "cell_type": "code",
   "execution_count": 78,
   "id": "92adf7ba",
   "metadata": {
    "execution": {
     "iopub.execute_input": "2025-07-30T19:59:47.828796Z",
     "iopub.status.busy": "2025-07-30T19:59:47.827774Z",
     "iopub.status.idle": "2025-07-30T19:59:47.834386Z",
     "shell.execute_reply": "2025-07-30T19:59:47.833364Z"
    },
    "papermill": {
     "duration": 0.038758,
     "end_time": "2025-07-30T19:59:47.836175",
     "exception": false,
     "start_time": "2025-07-30T19:59:47.797417",
     "status": "completed"
    },
    "tags": []
   },
   "outputs": [],
   "source": [
    "def filter_sub_universe_data(sub_universe, org_test):\n",
    "    # Keep all rows — no filtering\n",
    "    keep_rows_mask = np.ones(org_test.shape[0], dtype=bool)\n",
    "\n",
    "    print(f\"[INFO] Keeping all rows: {keep_rows_mask.sum()} rows retained.\")\n",
    "    return keep_rows_mask"
   ]
  },
  {
   "cell_type": "code",
   "execution_count": 79,
   "id": "4a759155",
   "metadata": {
    "execution": {
     "iopub.execute_input": "2025-07-30T19:59:47.894498Z",
     "iopub.status.busy": "2025-07-30T19:59:47.893938Z",
     "iopub.status.idle": "2025-07-30T19:59:59.482120Z",
     "shell.execute_reply": "2025-07-30T19:59:59.480964Z"
    },
    "papermill": {
     "duration": 11.618884,
     "end_time": "2025-07-30T19:59:59.483766",
     "exception": false,
     "start_time": "2025-07-30T19:59:47.864882",
     "status": "completed"
    },
    "tags": []
   },
   "outputs": [
    {
     "name": "stdout",
     "output_type": "stream",
     "text": [
      "Stopping execution_time clock.\n",
      "[INFO] Keeping all rows: 89710 rows retained.\n"
     ]
    },
    {
     "name": "stdout",
     "output_type": "stream",
     "text": [
      "[INFO] Keeping all rows: 89710 rows retained.\n"
     ]
    },
    {
     "name": "stdout",
     "output_type": "stream",
     "text": [
      "[INFO] Keeping all rows: 89710 rows retained.\n"
     ]
    },
    {
     "name": "stdout",
     "output_type": "stream",
     "text": [
      "[INFO] Keeping all rows: 89710 rows retained.\n"
     ]
    },
    {
     "data": {
      "text/html": [
       "<div>\n",
       "<style scoped>\n",
       "    .dataframe tbody tr th:only-of-type {\n",
       "        vertical-align: middle;\n",
       "    }\n",
       "\n",
       "    .dataframe tbody tr th {\n",
       "        vertical-align: top;\n",
       "    }\n",
       "\n",
       "    .dataframe thead th {\n",
       "        text-align: right;\n",
       "    }\n",
       "</style>\n",
       "<table border=\"1\" class=\"dataframe\">\n",
       "  <thead>\n",
       "    <tr style=\"text-align: right;\">\n",
       "      <th></th>\n",
       "      <th>run_no</th>\n",
       "      <th>universe_id</th>\n",
       "      <th>universe_settings</th>\n",
       "      <th>execution_time</th>\n",
       "      <th>test_size_n</th>\n",
       "      <th>test_size_frac</th>\n",
       "      <th>fair_main_equalized_odds_difference</th>\n",
       "      <th>fair_main_equalized_odds_ratio</th>\n",
       "      <th>fair_main_demographic_parity_difference</th>\n",
       "      <th>fair_main_demographic_parity_ratio</th>\n",
       "      <th>...</th>\n",
       "      <th>perf_grp_precision_0</th>\n",
       "      <th>perf_grp_precision_1</th>\n",
       "      <th>perf_grp_false positive rate_0</th>\n",
       "      <th>perf_grp_false positive rate_1</th>\n",
       "      <th>perf_grp_false negative rate_0</th>\n",
       "      <th>perf_grp_false negative rate_1</th>\n",
       "      <th>perf_grp_selection rate_0</th>\n",
       "      <th>perf_grp_selection rate_1</th>\n",
       "      <th>perf_grp_count_0</th>\n",
       "      <th>perf_grp_count_1</th>\n",
       "    </tr>\n",
       "  </thead>\n",
       "  <tbody>\n",
       "    <tr>\n",
       "      <th>0</th>\n",
       "      <td>14</td>\n",
       "      <td>a9efa8853fc82364bf88212eafaae09b</td>\n",
       "      <td>{\"cutoff\": \"quantile_0.1\", \"eval_fairness_grou...</td>\n",
       "      <td>41.715599</td>\n",
       "      <td>89710</td>\n",
       "      <td>1.0</td>\n",
       "      <td>0.087613</td>\n",
       "      <td>0.904671</td>\n",
       "      <td>0.086802</td>\n",
       "      <td>0.906502</td>\n",
       "      <td>...</td>\n",
       "      <td>NaN</td>\n",
       "      <td>NaN</td>\n",
       "      <td>NaN</td>\n",
       "      <td>NaN</td>\n",
       "      <td>NaN</td>\n",
       "      <td>NaN</td>\n",
       "      <td>NaN</td>\n",
       "      <td>NaN</td>\n",
       "      <td>NaN</td>\n",
       "      <td>NaN</td>\n",
       "    </tr>\n",
       "    <tr>\n",
       "      <th>0</th>\n",
       "      <td>14</td>\n",
       "      <td>a9efa8853fc82364bf88212eafaae09b</td>\n",
       "      <td>{\"cutoff\": \"quantile_0.1\", \"eval_fairness_grou...</td>\n",
       "      <td>41.715599</td>\n",
       "      <td>89710</td>\n",
       "      <td>1.0</td>\n",
       "      <td>0.087613</td>\n",
       "      <td>0.904671</td>\n",
       "      <td>0.086802</td>\n",
       "      <td>0.906502</td>\n",
       "      <td>...</td>\n",
       "      <td>0.125940</td>\n",
       "      <td>0.140853</td>\n",
       "      <td>0.831444</td>\n",
       "      <td>0.919057</td>\n",
       "      <td>0.080659</td>\n",
       "      <td>0.010394</td>\n",
       "      <td>0.841577</td>\n",
       "      <td>0.928379</td>\n",
       "      <td>20540.0</td>\n",
       "      <td>69170.0</td>\n",
       "    </tr>\n",
       "    <tr>\n",
       "      <th>0</th>\n",
       "      <td>14</td>\n",
       "      <td>a9efa8853fc82364bf88212eafaae09b</td>\n",
       "      <td>{\"cutoff\": \"quantile_0.25\", \"eval_fairness_gro...</td>\n",
       "      <td>41.715599</td>\n",
       "      <td>89710</td>\n",
       "      <td>1.0</td>\n",
       "      <td>0.099608</td>\n",
       "      <td>0.896813</td>\n",
       "      <td>0.080839</td>\n",
       "      <td>0.899644</td>\n",
       "      <td>...</td>\n",
       "      <td>NaN</td>\n",
       "      <td>NaN</td>\n",
       "      <td>NaN</td>\n",
       "      <td>NaN</td>\n",
       "      <td>NaN</td>\n",
       "      <td>NaN</td>\n",
       "      <td>NaN</td>\n",
       "      <td>NaN</td>\n",
       "      <td>NaN</td>\n",
       "      <td>NaN</td>\n",
       "    </tr>\n",
       "    <tr>\n",
       "      <th>0</th>\n",
       "      <td>14</td>\n",
       "      <td>a9efa8853fc82364bf88212eafaae09b</td>\n",
       "      <td>{\"cutoff\": \"quantile_0.25\", \"eval_fairness_gro...</td>\n",
       "      <td>41.715599</td>\n",
       "      <td>89710</td>\n",
       "      <td>1.0</td>\n",
       "      <td>0.099608</td>\n",
       "      <td>0.896813</td>\n",
       "      <td>0.080839</td>\n",
       "      <td>0.899644</td>\n",
       "      <td>...</td>\n",
       "      <td>0.137723</td>\n",
       "      <td>0.158351</td>\n",
       "      <td>0.706306</td>\n",
       "      <td>0.781193</td>\n",
       "      <td>0.134291</td>\n",
       "      <td>0.034683</td>\n",
       "      <td>0.724684</td>\n",
       "      <td>0.805523</td>\n",
       "      <td>20540.0</td>\n",
       "      <td>69170.0</td>\n",
       "    </tr>\n",
       "  </tbody>\n",
       "</table>\n",
       "<p>4 rows × 50 columns</p>\n",
       "</div>"
      ],
      "text/plain": [
       "  run_no                       universe_id  \\\n",
       "0     14  a9efa8853fc82364bf88212eafaae09b   \n",
       "0     14  a9efa8853fc82364bf88212eafaae09b   \n",
       "0     14  a9efa8853fc82364bf88212eafaae09b   \n",
       "0     14  a9efa8853fc82364bf88212eafaae09b   \n",
       "\n",
       "                                   universe_settings  execution_time  \\\n",
       "0  {\"cutoff\": \"quantile_0.1\", \"eval_fairness_grou...       41.715599   \n",
       "0  {\"cutoff\": \"quantile_0.1\", \"eval_fairness_grou...       41.715599   \n",
       "0  {\"cutoff\": \"quantile_0.25\", \"eval_fairness_gro...       41.715599   \n",
       "0  {\"cutoff\": \"quantile_0.25\", \"eval_fairness_gro...       41.715599   \n",
       "\n",
       "   test_size_n  test_size_frac  fair_main_equalized_odds_difference  \\\n",
       "0        89710             1.0                             0.087613   \n",
       "0        89710             1.0                             0.087613   \n",
       "0        89710             1.0                             0.099608   \n",
       "0        89710             1.0                             0.099608   \n",
       "\n",
       "   fair_main_equalized_odds_ratio  fair_main_demographic_parity_difference  \\\n",
       "0                        0.904671                                 0.086802   \n",
       "0                        0.904671                                 0.086802   \n",
       "0                        0.896813                                 0.080839   \n",
       "0                        0.896813                                 0.080839   \n",
       "\n",
       "   fair_main_demographic_parity_ratio  ...  perf_grp_precision_0  \\\n",
       "0                            0.906502  ...                   NaN   \n",
       "0                            0.906502  ...              0.125940   \n",
       "0                            0.899644  ...                   NaN   \n",
       "0                            0.899644  ...              0.137723   \n",
       "\n",
       "   perf_grp_precision_1  perf_grp_false positive rate_0  \\\n",
       "0                   NaN                             NaN   \n",
       "0              0.140853                        0.831444   \n",
       "0                   NaN                             NaN   \n",
       "0              0.158351                        0.706306   \n",
       "\n",
       "   perf_grp_false positive rate_1  perf_grp_false negative rate_0  \\\n",
       "0                             NaN                             NaN   \n",
       "0                        0.919057                        0.080659   \n",
       "0                             NaN                             NaN   \n",
       "0                        0.781193                        0.134291   \n",
       "\n",
       "   perf_grp_false negative rate_1  perf_grp_selection rate_0  \\\n",
       "0                             NaN                        NaN   \n",
       "0                        0.010394                   0.841577   \n",
       "0                             NaN                        NaN   \n",
       "0                        0.034683                   0.724684   \n",
       "\n",
       "   perf_grp_selection rate_1  perf_grp_count_0  perf_grp_count_1  \n",
       "0                        NaN               NaN               NaN  \n",
       "0                   0.928379           20540.0           69170.0  \n",
       "0                        NaN               NaN               NaN  \n",
       "0                   0.805523           20540.0           69170.0  \n",
       "\n",
       "[4 rows x 50 columns]"
      ]
     },
     "execution_count": 79,
     "metadata": {},
     "output_type": "execute_result"
    }
   ],
   "source": [
    "final_output = universe_analysis.generate_final_output(\n",
    "    y_pred_prob=probs_test,\n",
    "    y_test=y_true,\n",
    "    org_test=org_test,\n",
    "    filter_data=filter_sub_universe_data,\n",
    "    cp_metrics_df=cp_metrics_df,\n",
    "    save=True,\n",
    ")\n",
    "final_output"
   ]
  },
  {
   "cell_type": "code",
   "execution_count": null,
   "id": "721ff514-cb11-46f8-b6fc-50392f74b5cb",
   "metadata": {
    "papermill": {
     "duration": 0.061772,
     "end_time": "2025-07-30T19:59:59.616966",
     "exception": false,
     "start_time": "2025-07-30T19:59:59.555194",
     "status": "completed"
    },
    "tags": []
   },
   "outputs": [],
   "source": []
  }
 ],
 "metadata": {
  "celltoolbar": "Tags",
  "kernelspec": {
   "display_name": "Python (CMA Fairness)",
   "language": "python",
   "name": "cma_fair_env"
  },
  "language_info": {
   "codemirror_mode": {
    "name": "ipython",
    "version": 3
   },
   "file_extension": ".py",
   "mimetype": "text/x-python",
   "name": "python",
   "nbconvert_exporter": "python",
   "pygments_lexer": "ipython3",
   "version": "3.10.12"
  },
  "papermill": {
   "default_parameters": {},
   "duration": 59.936643,
   "end_time": "2025-07-30T20:00:00.885489",
   "environment_variables": {},
   "exception": null,
   "input_path": "universe_analysis.ipynb",
   "output_path": "output/runs/14/notebooks/m_14-a9efa8853fc82364bf88212eafaae09b.ipynb",
   "parameters": {
    "output_dir": "output",
    "run_no": "14",
    "seed": "2023",
    "universe": "{\"cutoff\": [\"quantile_0.1\", \"quantile_0.25\"], \"eval_fairness_grouping\": [\"majority-minority\", \"nationality-all\"], \"exclude_features\": \"sex\", \"exclude_subgroups\": \"keep-all\", \"model\": \"rf\", \"scale\": \"do-not-scale\", \"training_size\": \"25k\", \"training_year\": \"2014\"}",
    "universe_id": "a9efa8853fc82364bf88212eafaae09b"
   },
   "start_time": "2025-07-30T19:59:00.948846",
   "version": "2.6.0"
  }
 },
 "nbformat": 4,
 "nbformat_minor": 5
}