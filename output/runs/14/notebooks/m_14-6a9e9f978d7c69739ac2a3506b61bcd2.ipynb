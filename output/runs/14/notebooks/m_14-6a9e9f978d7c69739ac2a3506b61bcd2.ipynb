{
 "cells": [
  {
   "cell_type": "code",
   "execution_count": 1,
   "id": "f159f837-637b-42ba-96b5-ec9a68c44524",
   "metadata": {
    "execution": {
     "iopub.execute_input": "2025-07-30T20:28:28.990655Z",
     "iopub.status.busy": "2025-07-30T20:28:28.990265Z",
     "iopub.status.idle": "2025-07-30T20:28:29.018848Z",
     "shell.execute_reply": "2025-07-30T20:28:29.017848Z"
    },
    "papermill": {
     "duration": 0.067283,
     "end_time": "2025-07-30T20:28:29.020576",
     "exception": false,
     "start_time": "2025-07-30T20:28:28.953293",
     "status": "completed"
    },
    "tags": []
   },
   "outputs": [
    {
     "name": "stdout",
     "output_type": "stream",
     "text": [
      "/dss/dsshome1/0C/ra93lal2/cma/CMA_Fairness_v2\n"
     ]
    },
    {
     "name": "stderr",
     "output_type": "stream",
     "text": [
      "/dss/dsshome1/0C/ra93lal2/.local/share/virtualenvs/CMA_Fairness_v2-3j10GkSs/lib/python3.10/site-packages/IPython/core/magics/osm.py:393: UserWarning: This is now an optional IPython functionality, using bookmarks requires you to install the `pickleshare` library.\n",
      "  bkms = self.shell.db.get('bookmarks', {})\n",
      "/dss/dsshome1/0C/ra93lal2/.local/share/virtualenvs/CMA_Fairness_v2-3j10GkSs/lib/python3.10/site-packages/IPython/core/magics/osm.py:417: UserWarning: This is now an optional IPython functionality, setting dhist requires you to install the `pickleshare` library.\n",
      "  self.shell.db['dhist'] = compress_dhist(dhist)[-100:]\n"
     ]
    }
   ],
   "source": [
    "%cd ~/cma/CMA_Fairness_v2"
   ]
  },
  {
   "cell_type": "markdown",
   "id": "de2603b9",
   "metadata": {
    "papermill": {
     "duration": 0.046526,
     "end_time": "2025-07-30T20:28:29.128623",
     "exception": false,
     "start_time": "2025-07-30T20:28:29.082097",
     "status": "completed"
    },
    "tags": []
   },
   "source": [
    "The following cell holds the definition of our parameters, these values can be overriden by rendering the with e.g. the following command:\n",
    "\n",
    "papermill -p alpha 0.2 -p ratio 0.3 universe_analysis.ipynb output/test_run.ipynb"
   ]
  },
  {
   "cell_type": "code",
   "execution_count": 2,
   "id": "a80968a0-40bb-4fa9-85ef-2d5eefb01975",
   "metadata": {
    "execution": {
     "iopub.execute_input": "2025-07-30T20:28:29.211104Z",
     "iopub.status.busy": "2025-07-30T20:28:29.210670Z",
     "iopub.status.idle": "2025-07-30T20:28:29.216526Z",
     "shell.execute_reply": "2025-07-30T20:28:29.215497Z"
    },
    "papermill": {
     "duration": 0.051925,
     "end_time": "2025-07-30T20:28:29.217963",
     "exception": false,
     "start_time": "2025-07-30T20:28:29.166038",
     "status": "completed"
    },
    "tags": []
   },
   "outputs": [
    {
     "name": "stdout",
     "output_type": "stream",
     "text": [
      "Current working directory: /dss/dsshome1/0C/ra93lal2/cma/CMA_Fairness_v2\n"
     ]
    }
   ],
   "source": [
    "import os\n",
    "print(\"Current working directory:\", os.getcwd())"
   ]
  },
  {
   "cell_type": "code",
   "execution_count": 3,
   "id": "2dce4c03",
   "metadata": {
    "execution": {
     "iopub.execute_input": "2025-07-30T20:28:29.263090Z",
     "iopub.status.busy": "2025-07-30T20:28:29.262715Z",
     "iopub.status.idle": "2025-07-30T20:28:29.269010Z",
     "shell.execute_reply": "2025-07-30T20:28:29.268092Z"
    },
    "papermill": {
     "duration": 0.030326,
     "end_time": "2025-07-30T20:28:29.271951",
     "exception": false,
     "start_time": "2025-07-30T20:28:29.241625",
     "status": "completed"
    },
    "tags": [
     "parameters"
    ]
   },
   "outputs": [],
   "source": [
    "run_no = 0\n",
    "universe_id = \"test\"\n",
    "universe = {\n",
    "    \"training_size\": \"25k\", # \"25k\", \"5k\", \"1k\"\n",
    "    \"training_year\": \"2014\", # \"2014\", \"2012_14\", \"2010_14\"\n",
    "    \"scale\": \"scale\", # \"scale\", \"do-not-scale\",\n",
    "    #\"stratify_split\": \"target\", # \"none\", \"target\", \"protected-attribute\", \"both\",\n",
    "    \"model\": \"elasticnet\", # \"logreg\", \"penalized_logreg\", \"rf\", \"gbm\", \"elasticnet\"\n",
    "    \"cutoff\": [\"quantile_0.15\", \"quantile_0.30\"],\n",
    "    \"exclude_features\": \"age\", # \"none\", \"nationality\", \"sex\", \"nationality-sex\", \"age\"\n",
    "    \"exclude_subgroups\": \"keep-all\", # \"keep-all\", \"drop-non-german\"\n",
    "    \"eval_fairness_grouping\": [\"majority-minority\", \"nationality-all\"]\n",
    "}\n",
    "\n",
    "output_dir=\"./output\"\n",
    "seed=0"
   ]
  },
  {
   "cell_type": "code",
   "execution_count": 4,
   "id": "2e7a9b35",
   "metadata": {
    "execution": {
     "iopub.execute_input": "2025-07-30T20:28:29.310815Z",
     "iopub.status.busy": "2025-07-30T20:28:29.310180Z",
     "iopub.status.idle": "2025-07-30T20:28:29.315280Z",
     "shell.execute_reply": "2025-07-30T20:28:29.314457Z"
    },
    "papermill": {
     "duration": 0.025846,
     "end_time": "2025-07-30T20:28:29.316908",
     "exception": false,
     "start_time": "2025-07-30T20:28:29.291062",
     "status": "completed"
    },
    "tags": [
     "injected-parameters"
    ]
   },
   "outputs": [],
   "source": [
    "# Parameters\n",
    "universe_id = \"6a9e9f978d7c69739ac2a3506b61bcd2\"\n",
    "run_no = \"14\"\n",
    "universe = \"{\\\"cutoff\\\": [\\\"quantile_0.1\\\", \\\"quantile_0.25\\\"], \\\"eval_fairness_grouping\\\": [\\\"majority-minority\\\", \\\"nationality-all\\\"], \\\"exclude_features\\\": \\\"sex\\\", \\\"exclude_subgroups\\\": \\\"keep-all\\\", \\\"model\\\": \\\"rf\\\", \\\"scale\\\": \\\"scale\\\", \\\"training_size\\\": \\\"25k\\\", \\\"training_year\\\": \\\"2010_14\\\"}\"\n",
    "output_dir = \"output\"\n",
    "seed = \"2023\"\n"
   ]
  },
  {
   "cell_type": "code",
   "execution_count": 5,
   "id": "1650acaf",
   "metadata": {
    "execution": {
     "iopub.execute_input": "2025-07-30T20:28:29.354767Z",
     "iopub.status.busy": "2025-07-30T20:28:29.354283Z",
     "iopub.status.idle": "2025-07-30T20:28:29.359781Z",
     "shell.execute_reply": "2025-07-30T20:28:29.358808Z"
    },
    "papermill": {
     "duration": 0.025983,
     "end_time": "2025-07-30T20:28:29.361430",
     "exception": false,
     "start_time": "2025-07-30T20:28:29.335447",
     "status": "completed"
    },
    "tags": []
   },
   "outputs": [],
   "source": [
    "import json\n",
    "# Parse universe into dict if it is passed as a string\n",
    "if isinstance(universe, str):\n",
    "    universe = json.loads(universe)"
   ]
  },
  {
   "cell_type": "code",
   "execution_count": 6,
   "id": "16620c48",
   "metadata": {
    "execution": {
     "iopub.execute_input": "2025-07-30T20:28:29.399794Z",
     "iopub.status.busy": "2025-07-30T20:28:29.398973Z",
     "iopub.status.idle": "2025-07-30T20:28:29.441226Z",
     "shell.execute_reply": "2025-07-30T20:28:29.440398Z"
    },
    "papermill": {
     "duration": 0.062761,
     "end_time": "2025-07-30T20:28:29.442895",
     "exception": false,
     "start_time": "2025-07-30T20:28:29.380134",
     "status": "completed"
    },
    "tags": []
   },
   "outputs": [],
   "source": [
    "# Auto-reload the custom package\n",
    "%load_ext autoreload\n",
    "%autoreload 1\n",
    "%aimport fairness_multiverse"
   ]
  },
  {
   "cell_type": "code",
   "execution_count": 7,
   "id": "01c5c9f3",
   "metadata": {
    "execution": {
     "iopub.execute_input": "2025-07-30T20:28:29.496053Z",
     "iopub.status.busy": "2025-07-30T20:28:29.494958Z",
     "iopub.status.idle": "2025-07-30T20:28:32.091705Z",
     "shell.execute_reply": "2025-07-30T20:28:32.090278Z"
    },
    "papermill": {
     "duration": 2.628177,
     "end_time": "2025-07-30T20:28:32.094082",
     "exception": false,
     "start_time": "2025-07-30T20:28:29.465905",
     "status": "completed"
    },
    "tags": []
   },
   "outputs": [],
   "source": [
    "from fairness_multiverse.universe import UniverseAnalysis\n",
    "\n",
    "universe_analysis = UniverseAnalysis(\n",
    "    run_no = run_no,\n",
    "    universe_id = universe_id,\n",
    "    universe = universe,\n",
    "    output_dir=output_dir,\n",
    ")"
   ]
  },
  {
   "cell_type": "code",
   "execution_count": 8,
   "id": "106241f5",
   "metadata": {
    "execution": {
     "iopub.execute_input": "2025-07-30T20:28:32.149325Z",
     "iopub.status.busy": "2025-07-30T20:28:32.148608Z",
     "iopub.status.idle": "2025-07-30T20:28:32.155092Z",
     "shell.execute_reply": "2025-07-30T20:28:32.154186Z"
    },
    "papermill": {
     "duration": 0.036117,
     "end_time": "2025-07-30T20:28:32.156734",
     "exception": false,
     "start_time": "2025-07-30T20:28:32.120617",
     "status": "completed"
    },
    "tags": []
   },
   "outputs": [
    {
     "name": "stdout",
     "output_type": "stream",
     "text": [
      "Using Seed: 2023\n"
     ]
    }
   ],
   "source": [
    "import numpy as np\n",
    "parsed_seed = int(seed)\n",
    "np.random.seed(parsed_seed)\n",
    "print(f\"Using Seed: {parsed_seed}\")"
   ]
  },
  {
   "cell_type": "markdown",
   "id": "e0ebdc57",
   "metadata": {
    "papermill": {
     "duration": 0.019206,
     "end_time": "2025-07-30T20:28:32.196383",
     "exception": false,
     "start_time": "2025-07-30T20:28:32.177177",
     "status": "completed"
    },
    "tags": []
   },
   "source": [
    "# Loading Data"
   ]
  },
  {
   "cell_type": "markdown",
   "id": "681925a3",
   "metadata": {
    "papermill": {
     "duration": 0.07989,
     "end_time": "2025-07-30T20:28:32.349210",
     "exception": false,
     "start_time": "2025-07-30T20:28:32.269320",
     "status": "completed"
    },
    "tags": []
   },
   "source": [
    "Load siab_train, siab_test, siab_calib and/or \n",
    "load siab_train_features, siab_train_labels"
   ]
  },
  {
   "cell_type": "code",
   "execution_count": 9,
   "id": "f0496b8a",
   "metadata": {
    "execution": {
     "iopub.execute_input": "2025-07-30T20:28:32.450183Z",
     "iopub.status.busy": "2025-07-30T20:28:32.449778Z",
     "iopub.status.idle": "2025-07-30T20:28:44.194741Z",
     "shell.execute_reply": "2025-07-30T20:28:44.193610Z"
    },
    "papermill": {
     "duration": 11.766767,
     "end_time": "2025-07-30T20:28:44.196054",
     "exception": false,
     "start_time": "2025-07-30T20:28:32.429287",
     "status": "completed"
    },
    "tags": []
   },
   "outputs": [
    {
     "name": "stdout",
     "output_type": "stream",
     "text": [
      "Loading SIAB data from cache: data/siab_cached.csv.gz\n"
     ]
    },
    {
     "name": "stdout",
     "output_type": "stream",
     "text": [
      "(643690, 164)\n"
     ]
    }
   ],
   "source": [
    "from pathlib import Path\n",
    "import pandas as pd\n",
    "\n",
    "# File paths\n",
    "raw_file = Path(\"data/raw/siab.csv\")\n",
    "cache_file = Path(\"data/siab_cached.csv.gz\")\n",
    "\n",
    "# Ensure cache directory exists\n",
    "cache_file.parent.mkdir(parents=True, exist_ok=True)\n",
    "\n",
    "# Load with simple caching\n",
    "if cache_file.exists():\n",
    "    print(f\"Loading SIAB data from cache: {cache_file}\")\n",
    "    siab = pd.read_csv(cache_file, compression='gzip')\n",
    "else:\n",
    "    print(f\"Cache not found. Reading raw SIAB data: {raw_file}\")\n",
    "    siab = pd.read_csv(raw_file)\n",
    "    siab.to_csv(cache_file, index=False, compression='gzip')\n",
    "    print(f\"Cached SIAB data to: {cache_file}\")\n",
    "\n",
    "# Now use `siab` DataFrame as needed\n",
    "print(siab.shape)"
   ]
  },
  {
   "cell_type": "code",
   "execution_count": 10,
   "id": "db0ca512-5f53-4dba-abdb-a2888bca41ba",
   "metadata": {
    "execution": {
     "iopub.execute_input": "2025-07-30T20:28:44.220758Z",
     "iopub.status.busy": "2025-07-30T20:28:44.220391Z",
     "iopub.status.idle": "2025-07-30T20:28:44.225021Z",
     "shell.execute_reply": "2025-07-30T20:28:44.224131Z"
    },
    "papermill": {
     "duration": 0.017368,
     "end_time": "2025-07-30T20:28:44.226286",
     "exception": false,
     "start_time": "2025-07-30T20:28:44.208918",
     "status": "completed"
    },
    "tags": []
   },
   "outputs": [],
   "source": [
    "#siab"
   ]
  },
  {
   "cell_type": "code",
   "execution_count": 11,
   "id": "a0edb063",
   "metadata": {
    "execution": {
     "iopub.execute_input": "2025-07-30T20:28:44.249199Z",
     "iopub.status.busy": "2025-07-30T20:28:44.248878Z",
     "iopub.status.idle": "2025-07-30T20:28:44.252828Z",
     "shell.execute_reply": "2025-07-30T20:28:44.252043Z"
    },
    "papermill": {
     "duration": 0.016715,
     "end_time": "2025-07-30T20:28:44.254148",
     "exception": false,
     "start_time": "2025-07-30T20:28:44.237433",
     "status": "completed"
    },
    "tags": []
   },
   "outputs": [],
   "source": [
    "#import pandas as pd\n",
    "#\n",
    "#X_train = pd.read_csv(\"./data/X_train.csv\")\n",
    "#y_train = pd.read_csv(\"./data/y_train.csv\")"
   ]
  },
  {
   "cell_type": "code",
   "execution_count": 12,
   "id": "63d08085",
   "metadata": {
    "execution": {
     "iopub.execute_input": "2025-07-30T20:28:44.277040Z",
     "iopub.status.busy": "2025-07-30T20:28:44.276493Z",
     "iopub.status.idle": "2025-07-30T20:28:44.280736Z",
     "shell.execute_reply": "2025-07-30T20:28:44.280037Z"
    },
    "papermill": {
     "duration": 0.016634,
     "end_time": "2025-07-30T20:28:44.282047",
     "exception": false,
     "start_time": "2025-07-30T20:28:44.265413",
     "status": "completed"
    },
    "tags": []
   },
   "outputs": [],
   "source": [
    "#X_test = pd.read_csv(\"./data/X_test.csv\")\n",
    "#y_true = pd.read_csv(\"./data/y_test.csv\")"
   ]
  },
  {
   "cell_type": "code",
   "execution_count": 13,
   "id": "98a8d0fa-1d3d-4ed8-bb2c-281470e24add",
   "metadata": {
    "execution": {
     "iopub.execute_input": "2025-07-30T20:28:44.304387Z",
     "iopub.status.busy": "2025-07-30T20:28:44.304072Z",
     "iopub.status.idle": "2025-07-30T20:28:44.307931Z",
     "shell.execute_reply": "2025-07-30T20:28:44.307144Z"
    },
    "papermill": {
     "duration": 0.016371,
     "end_time": "2025-07-30T20:28:44.309341",
     "exception": false,
     "start_time": "2025-07-30T20:28:44.292970",
     "status": "completed"
    },
    "tags": []
   },
   "outputs": [],
   "source": [
    "# Calibration data for conformal\n",
    "#X_calib = pd.read_csv(\"./data/X_calib.csv\")\n",
    "#y_calib = pd.read_csv(\"./data/y_calib.csv\")"
   ]
  },
  {
   "cell_type": "markdown",
   "id": "997051c5-15bd-4b69-9786-c3001a3ce484",
   "metadata": {
    "papermill": {
     "duration": 0.010195,
     "end_time": "2025-07-30T20:28:44.330725",
     "exception": false,
     "start_time": "2025-07-30T20:28:44.320530",
     "status": "completed"
    },
    "tags": []
   },
   "source": [
    "# Splitting Data and Setting Training Data Size"
   ]
  },
  {
   "cell_type": "code",
   "execution_count": 14,
   "id": "e993b61f-042d-41a6-8c81-f55681f86335",
   "metadata": {
    "execution": {
     "iopub.execute_input": "2025-07-30T20:28:44.352771Z",
     "iopub.status.busy": "2025-07-30T20:28:44.352411Z",
     "iopub.status.idle": "2025-07-30T20:28:44.361811Z",
     "shell.execute_reply": "2025-07-30T20:28:44.361145Z"
    },
    "papermill": {
     "duration": 0.022148,
     "end_time": "2025-07-30T20:28:44.363227",
     "exception": false,
     "start_time": "2025-07-30T20:28:44.341079",
     "status": "completed"
    },
    "tags": []
   },
   "outputs": [],
   "source": [
    "def sample_by_year_size(df,\n",
    "                        training_year: str,\n",
    "                        training_size: str,\n",
    "                        random_state: int = 42):\n",
    "    # --- parse training_year into a list of int years ---\n",
    "    if \"_\" in training_year:\n",
    "        start_str, end_str = training_year.split(\"_\", 1)\n",
    "        start = int(start_str)\n",
    "        end   = int(end_str) if len(end_str) == 4 else (int(end_str) + (start // 100)*100)\n",
    "        years = list(range(start, end + 1))\n",
    "    else:\n",
    "        years = [int(training_year)]\n",
    "\n",
    "    df = df[df[\"year\"].isin(years)].reset_index(drop=True)\n",
    "\n",
    "    # --- map training_size to total number of samples ---\n",
    "    total_map = {\"25k\": 25_000, \"5k\": 5_000, \"1k\": 1_000}\n",
    "    if training_size not in total_map:\n",
    "        return df  # e.g. \"all\"\n",
    "\n",
    "    total_samples = total_map[training_size]\n",
    "    n_years       = len(years)\n",
    "    base          = total_samples // n_years\n",
    "    remainder     = total_samples % n_years\n",
    "\n",
    "    # --- build a dict: year -> how many to sample ---\n",
    "    # give +1 to the first `remainder` years in ascending order\n",
    "    quotas = {\n",
    "        year: base + (1 if idx < remainder else 0)\n",
    "        for idx, year in enumerate(sorted(years))\n",
    "    }\n",
    "\n",
    "    # --- sample per‐year according to the quota dict ---\n",
    "    sampled = (\n",
    "        df\n",
    "        .groupby(\"year\", group_keys=False)\n",
    "        .apply(lambda grp: grp.sample(\n",
    "            n=min(len(grp), quotas[grp.name]),\n",
    "            random_state=random_state))\n",
    "        .reset_index(drop=True)\n",
    "    )\n",
    "\n",
    "    return sampled"
   ]
  },
  {
   "cell_type": "code",
   "execution_count": 15,
   "id": "c0ccd338-0e02-41f3-a09d-f56f9266e3fb",
   "metadata": {
    "execution": {
     "iopub.execute_input": "2025-07-30T20:28:44.386447Z",
     "iopub.status.busy": "2025-07-30T20:28:44.385766Z",
     "iopub.status.idle": "2025-07-30T20:28:44.390298Z",
     "shell.execute_reply": "2025-07-30T20:28:44.389436Z"
    },
    "papermill": {
     "duration": 0.017208,
     "end_time": "2025-07-30T20:28:44.391751",
     "exception": false,
     "start_time": "2025-07-30T20:28:44.374543",
     "status": "completed"
    },
    "tags": []
   },
   "outputs": [],
   "source": [
    "#universe[\"training_size\"]"
   ]
  },
  {
   "cell_type": "code",
   "execution_count": 16,
   "id": "ca707fd7-8047-4acd-bfa5-66248fbbf8e6",
   "metadata": {
    "execution": {
     "iopub.execute_input": "2025-07-30T20:28:44.415478Z",
     "iopub.status.busy": "2025-07-30T20:28:44.414349Z",
     "iopub.status.idle": "2025-07-30T20:28:44.419154Z",
     "shell.execute_reply": "2025-07-30T20:28:44.418477Z"
    },
    "papermill": {
     "duration": 0.017305,
     "end_time": "2025-07-30T20:28:44.420478",
     "exception": false,
     "start_time": "2025-07-30T20:28:44.403173",
     "status": "completed"
    },
    "tags": []
   },
   "outputs": [],
   "source": [
    "#universe[\"training_year\"]"
   ]
  },
  {
   "cell_type": "code",
   "execution_count": 17,
   "id": "aea9c6ef-6f46-42c8-85eb-5a62025c1508",
   "metadata": {
    "execution": {
     "iopub.execute_input": "2025-07-30T20:28:44.443499Z",
     "iopub.status.busy": "2025-07-30T20:28:44.442826Z",
     "iopub.status.idle": "2025-07-30T20:28:45.396816Z",
     "shell.execute_reply": "2025-07-30T20:28:45.395622Z"
    },
    "papermill": {
     "duration": 0.96709,
     "end_time": "2025-07-30T20:28:45.398638",
     "exception": false,
     "start_time": "2025-07-30T20:28:44.431548",
     "status": "completed"
    },
    "tags": []
   },
   "outputs": [],
   "source": [
    "siab_train = sample_by_year_size(siab,\n",
    "                               training_year=universe[\"training_year\"],\n",
    "                               training_size=universe[\"training_size\"])"
   ]
  },
  {
   "cell_type": "code",
   "execution_count": 18,
   "id": "8d3afb32-789d-442c-8d5d-9f5aa8dd2eed",
   "metadata": {
    "execution": {
     "iopub.execute_input": "2025-07-30T20:28:45.442193Z",
     "iopub.status.busy": "2025-07-30T20:28:45.441401Z",
     "iopub.status.idle": "2025-07-30T20:28:45.446434Z",
     "shell.execute_reply": "2025-07-30T20:28:45.445520Z"
    },
    "papermill": {
     "duration": 0.028912,
     "end_time": "2025-07-30T20:28:45.448106",
     "exception": false,
     "start_time": "2025-07-30T20:28:45.419194",
     "status": "completed"
    },
    "tags": []
   },
   "outputs": [],
   "source": [
    "#siab_train.shape"
   ]
  },
  {
   "cell_type": "code",
   "execution_count": 19,
   "id": "d582db68-1a4c-47fb-84fc-08518dc1975a",
   "metadata": {
    "execution": {
     "iopub.execute_input": "2025-07-30T20:28:45.498297Z",
     "iopub.status.busy": "2025-07-30T20:28:45.497546Z",
     "iopub.status.idle": "2025-07-30T20:28:45.502672Z",
     "shell.execute_reply": "2025-07-30T20:28:45.501747Z"
    },
    "papermill": {
     "duration": 0.031999,
     "end_time": "2025-07-30T20:28:45.504001",
     "exception": false,
     "start_time": "2025-07-30T20:28:45.472002",
     "status": "completed"
    },
    "tags": []
   },
   "outputs": [],
   "source": [
    "#display(siab_train.groupby(\"year\").size())"
   ]
  },
  {
   "cell_type": "code",
   "execution_count": 20,
   "id": "a561edb4-d032-42cb-8256-22eac1111c64",
   "metadata": {
    "execution": {
     "iopub.execute_input": "2025-07-30T20:28:45.550752Z",
     "iopub.status.busy": "2025-07-30T20:28:45.550285Z",
     "iopub.status.idle": "2025-07-30T20:28:45.782017Z",
     "shell.execute_reply": "2025-07-30T20:28:45.781141Z"
    },
    "papermill": {
     "duration": 0.256158,
     "end_time": "2025-07-30T20:28:45.783471",
     "exception": false,
     "start_time": "2025-07-30T20:28:45.527313",
     "status": "completed"
    },
    "tags": []
   },
   "outputs": [],
   "source": [
    "#siab_train = siab_s[siab_s.year < 2015]\n",
    "siab_calib = siab[siab.year == 2015]\n",
    "siab_test = siab[siab.year == 2016]"
   ]
  },
  {
   "cell_type": "code",
   "execution_count": 21,
   "id": "472de16f-c3db-4916-846b-1f0de9cf1746",
   "metadata": {
    "execution": {
     "iopub.execute_input": "2025-07-30T20:28:45.828170Z",
     "iopub.status.busy": "2025-07-30T20:28:45.827474Z",
     "iopub.status.idle": "2025-07-30T20:28:45.841738Z",
     "shell.execute_reply": "2025-07-30T20:28:45.840739Z"
    },
    "papermill": {
     "duration": 0.039649,
     "end_time": "2025-07-30T20:28:45.843288",
     "exception": false,
     "start_time": "2025-07-30T20:28:45.803639",
     "status": "completed"
    },
    "tags": []
   },
   "outputs": [],
   "source": [
    "X_train = siab_train.iloc[:,4:164]\n",
    "y_train = siab_train.iloc[:, [3]]"
   ]
  },
  {
   "cell_type": "code",
   "execution_count": 22,
   "id": "828c96af-f43a-4ed6-ba47-8ac73a47d56c",
   "metadata": {
    "execution": {
     "iopub.execute_input": "2025-07-30T20:28:45.887252Z",
     "iopub.status.busy": "2025-07-30T20:28:45.886545Z",
     "iopub.status.idle": "2025-07-30T20:28:45.936023Z",
     "shell.execute_reply": "2025-07-30T20:28:45.934939Z"
    },
    "papermill": {
     "duration": 0.072378,
     "end_time": "2025-07-30T20:28:45.937799",
     "exception": false,
     "start_time": "2025-07-30T20:28:45.865421",
     "status": "completed"
    },
    "tags": []
   },
   "outputs": [],
   "source": [
    "X_calib = siab_calib.iloc[:,4:164]\n",
    "y_calib = siab_calib.iloc[:, [3]]"
   ]
  },
  {
   "cell_type": "code",
   "execution_count": 23,
   "id": "c34be9c3-6bd6-476e-acd3-845840e303be",
   "metadata": {
    "execution": {
     "iopub.execute_input": "2025-07-30T20:28:45.981228Z",
     "iopub.status.busy": "2025-07-30T20:28:45.980570Z",
     "iopub.status.idle": "2025-07-30T20:28:46.031126Z",
     "shell.execute_reply": "2025-07-30T20:28:46.029916Z"
    },
    "papermill": {
     "duration": 0.073718,
     "end_time": "2025-07-30T20:28:46.032828",
     "exception": false,
     "start_time": "2025-07-30T20:28:45.959110",
     "status": "completed"
    },
    "tags": []
   },
   "outputs": [],
   "source": [
    "X_test = siab_test.iloc[:,4:164]\n",
    "y_true = siab_test.iloc[:, [3]]"
   ]
  },
  {
   "cell_type": "markdown",
   "id": "9901737e-04df-44f0-9100-f5ad144ed040",
   "metadata": {
    "papermill": {
     "duration": 0.020268,
     "end_time": "2025-07-30T20:28:46.074616",
     "exception": false,
     "start_time": "2025-07-30T20:28:46.054348",
     "status": "completed"
    },
    "tags": []
   },
   "source": [
    "# Splitting Data and Setting Training Data Size OLD VERSION"
   ]
  },
  {
   "cell_type": "code",
   "execution_count": 24,
   "id": "acbc8f7d-8fc8-4e86-8c59-5dcb0f58384b",
   "metadata": {
    "execution": {
     "iopub.execute_input": "2025-07-30T20:28:46.120145Z",
     "iopub.status.busy": "2025-07-30T20:28:46.119445Z",
     "iopub.status.idle": "2025-07-30T20:28:46.125512Z",
     "shell.execute_reply": "2025-07-30T20:28:46.124474Z"
    },
    "papermill": {
     "duration": 0.031735,
     "end_time": "2025-07-30T20:28:46.127117",
     "exception": false,
     "start_time": "2025-07-30T20:28:46.095382",
     "status": "completed"
    },
    "tags": []
   },
   "outputs": [],
   "source": [
    "#def sample_by_year(df, training_size, random_state=42):\n",
    "#    if training_size == \"2014\":\n",
    "#        return df[df[\"year\"] == 2014].reset_index(drop=True)\n",
    "#    \n",
    "#    size_map = {\n",
    "#        \"25k\": 5000,\n",
    "#        \"5k\": 1000,\n",
    "#        \"1k\": 200\n",
    "#    }\n",
    "#\n",
    "#    if training_size not in size_map:\n",
    "#        return df.reset_index(drop=True)  # use all data\n",
    "#\n",
    "#    n_per_year = size_map[training_size]\n",
    "#    grouped = df.groupby(\"year\")\n",
    "#    sampled = grouped.apply(lambda x: x.sample(n=min(n_per_year, len(x)), random_state=random_state))\n",
    "#    return sampled.reset_index(drop=True)"
   ]
  },
  {
   "cell_type": "code",
   "execution_count": 25,
   "id": "6d931f52-beaf-43ff-9e78-9d44a448d54e",
   "metadata": {
    "execution": {
     "iopub.execute_input": "2025-07-30T20:28:46.171937Z",
     "iopub.status.busy": "2025-07-30T20:28:46.171275Z",
     "iopub.status.idle": "2025-07-30T20:28:46.176256Z",
     "shell.execute_reply": "2025-07-30T20:28:46.175334Z"
    },
    "papermill": {
     "duration": 0.029375,
     "end_time": "2025-07-30T20:28:46.177970",
     "exception": false,
     "start_time": "2025-07-30T20:28:46.148595",
     "status": "completed"
    },
    "tags": []
   },
   "outputs": [],
   "source": [
    "#siab_s = sample_by_year(siab, universe[\"training_size\"])"
   ]
  },
  {
   "cell_type": "code",
   "execution_count": 26,
   "id": "5db0a40e-a4e2-4920-be85-b12ae061d70d",
   "metadata": {
    "execution": {
     "iopub.execute_input": "2025-07-30T20:28:46.222110Z",
     "iopub.status.busy": "2025-07-30T20:28:46.221440Z",
     "iopub.status.idle": "2025-07-30T20:28:46.226699Z",
     "shell.execute_reply": "2025-07-30T20:28:46.225753Z"
    },
    "papermill": {
     "duration": 0.029349,
     "end_time": "2025-07-30T20:28:46.228445",
     "exception": false,
     "start_time": "2025-07-30T20:28:46.199096",
     "status": "completed"
    },
    "tags": []
   },
   "outputs": [],
   "source": [
    "#display(siab_s.groupby(\"year\").size())"
   ]
  },
  {
   "cell_type": "code",
   "execution_count": 27,
   "id": "e6c733c5",
   "metadata": {
    "execution": {
     "iopub.execute_input": "2025-07-30T20:28:46.271227Z",
     "iopub.status.busy": "2025-07-30T20:28:46.270670Z",
     "iopub.status.idle": "2025-07-30T20:28:46.378526Z",
     "shell.execute_reply": "2025-07-30T20:28:46.377614Z"
    },
    "papermill": {
     "duration": 0.130926,
     "end_time": "2025-07-30T20:28:46.380458",
     "exception": false,
     "start_time": "2025-07-30T20:28:46.249532",
     "status": "completed"
    },
    "tags": []
   },
   "outputs": [],
   "source": [
    "# Auxiliary data needed downstream in the pipeline\n",
    "\n",
    "org_train = X_train.copy()\n",
    "org_test = X_test.copy()\n",
    "org_calib = X_calib.copy()"
   ]
  },
  {
   "cell_type": "code",
   "execution_count": 28,
   "id": "1466abac-c6da-4492-a62f-4240ae3783af",
   "metadata": {
    "execution": {
     "iopub.execute_input": "2025-07-30T20:28:46.424378Z",
     "iopub.status.busy": "2025-07-30T20:28:46.423654Z",
     "iopub.status.idle": "2025-07-30T20:28:46.429445Z",
     "shell.execute_reply": "2025-07-30T20:28:46.428559Z"
    },
    "papermill": {
     "duration": 0.029312,
     "end_time": "2025-07-30T20:28:46.431026",
     "exception": false,
     "start_time": "2025-07-30T20:28:46.401714",
     "status": "completed"
    },
    "tags": []
   },
   "outputs": [],
   "source": [
    "# put in other script?\n",
    "# Group sizes\n",
    "\n",
    "#def calculate_percentages(df, df_name):\n",
    "#    total_entries = len(df)\n",
    "#\n",
    "#    female_pct = (df['frau1'] == 1).mean() * 100\n",
    "#    non_german_pct = ((df['maxdeutsch1'] == 0) & (df['maxdeutsch.Missing.'] == 0)).mean() * 100\n",
    "#    non_german_male_pct = ((df['frau1'] == 0) & (df['maxdeutsch1'] == 0) & (df['maxdeutsch.Missing.'] == 0)).mean() * 100\n",
    "#    non_german_female_pct = ((df['frau1'] == 1) & (df['maxdeutsch1'] == 0) & (df['maxdeutsch.Missing.'] == 0)).mean() * 100\n",
    "#\n",
    "#    print(f\"--- {df_name} ---\")\n",
    "#    print(f\"Female: {female_pct:.2f}%\")\n",
    "#    print(f\"Non-German: {non_german_pct:.2f}%\")\n",
    "#    print(f\"Non-German Male: {non_german_male_pct:.2f}%\")\n",
    "#    print(f\"Non-German Female: {non_german_female_pct:.2f}%\\n\")\n",
    "#\n",
    "## Calculate for each DataFrame\n",
    "#calculate_percentages(siab_calib, \"siab_calib\")\n",
    "#calculate_percentages(siab_test, \"siab_test\")\n",
    "#calculate_percentages(siab_train, \"siab_train\")"
   ]
  },
  {
   "cell_type": "markdown",
   "id": "0a4a1b33",
   "metadata": {
    "papermill": {
     "duration": 0.019809,
     "end_time": "2025-07-30T20:28:46.471443",
     "exception": false,
     "start_time": "2025-07-30T20:28:46.451634",
     "status": "completed"
    },
    "tags": []
   },
   "source": [
    "# Preprocessing Data"
   ]
  },
  {
   "cell_type": "code",
   "execution_count": 29,
   "id": "ca879031",
   "metadata": {
    "execution": {
     "iopub.execute_input": "2025-07-30T20:28:46.513408Z",
     "iopub.status.busy": "2025-07-30T20:28:46.512751Z",
     "iopub.status.idle": "2025-07-30T20:28:46.518722Z",
     "shell.execute_reply": "2025-07-30T20:28:46.517914Z"
    },
    "papermill": {
     "duration": 0.028858,
     "end_time": "2025-07-30T20:28:46.520236",
     "exception": false,
     "start_time": "2025-07-30T20:28:46.491378",
     "status": "completed"
    },
    "tags": []
   },
   "outputs": [],
   "source": [
    "# EXCLUDE PROTECTED FEATURES\n",
    "# ----------------------\n",
    "# \"exclude_features\": \"none\", # \"nationality\", \"sex\", \"nationality-sex\"\n",
    "\n",
    "excluded_features = universe[\"exclude_features\"].split(\"-\") # split, e.g.: \"nationality-sex\" -> [\"nationality\", \"sex\"]\n",
    "excluded_features_dictionary = {\n",
    "    \"nationality\": [\"maxdeutsch1\", \"maxdeutsch.Missing.\"],\n",
    "    \"sex\": [\"frau1\"],\n",
    "    \"age\": [\"age\"],\n",
    "}\n"
   ]
  },
  {
   "cell_type": "code",
   "execution_count": 30,
   "id": "b745ac60",
   "metadata": {
    "execution": {
     "iopub.execute_input": "2025-07-30T20:28:46.562670Z",
     "iopub.status.busy": "2025-07-30T20:28:46.561975Z",
     "iopub.status.idle": "2025-07-30T20:28:46.567582Z",
     "shell.execute_reply": "2025-07-30T20:28:46.566686Z"
    },
    "papermill": {
     "duration": 0.028545,
     "end_time": "2025-07-30T20:28:46.569111",
     "exception": false,
     "start_time": "2025-07-30T20:28:46.540566",
     "status": "completed"
    },
    "tags": []
   },
   "outputs": [],
   "source": [
    "# Code nice names to column names\n",
    "\n",
    "excluded_features_columns = [\n",
    "    excluded_features_dictionary[f] for f in excluded_features if len(f) > 0 and f != \"none\"\n",
    "]"
   ]
  },
  {
   "cell_type": "code",
   "execution_count": 31,
   "id": "f84f73a2",
   "metadata": {
    "execution": {
     "iopub.execute_input": "2025-07-30T20:28:46.611555Z",
     "iopub.status.busy": "2025-07-30T20:28:46.610905Z",
     "iopub.status.idle": "2025-07-30T20:28:46.617224Z",
     "shell.execute_reply": "2025-07-30T20:28:46.616414Z"
    },
    "papermill": {
     "duration": 0.029083,
     "end_time": "2025-07-30T20:28:46.618682",
     "exception": false,
     "start_time": "2025-07-30T20:28:46.589599",
     "status": "completed"
    },
    "tags": []
   },
   "outputs": [],
   "source": [
    "from utils import flatten_once\n",
    "\n",
    "excluded_features_columns = flatten_once(excluded_features_columns)"
   ]
  },
  {
   "cell_type": "code",
   "execution_count": 32,
   "id": "884dea22",
   "metadata": {
    "execution": {
     "iopub.execute_input": "2025-07-30T20:28:46.661313Z",
     "iopub.status.busy": "2025-07-30T20:28:46.660667Z",
     "iopub.status.idle": "2025-07-30T20:28:46.685046Z",
     "shell.execute_reply": "2025-07-30T20:28:46.684127Z"
    },
    "papermill": {
     "duration": 0.047086,
     "end_time": "2025-07-30T20:28:46.686428",
     "exception": false,
     "start_time": "2025-07-30T20:28:46.639342",
     "status": "completed"
    },
    "tags": []
   },
   "outputs": [
    {
     "name": "stdout",
     "output_type": "stream",
     "text": [
      "Dropping features: ['frau1']\n"
     ]
    }
   ],
   "source": [
    "if len(excluded_features_columns) > 0:\n",
    "    print(f\"Dropping features: {excluded_features_columns}\")\n",
    "    X_train.drop(excluded_features_columns, axis=1, inplace=True)"
   ]
  },
  {
   "cell_type": "code",
   "execution_count": 33,
   "id": "95ab8b16",
   "metadata": {
    "execution": {
     "iopub.execute_input": "2025-07-30T20:28:46.731835Z",
     "iopub.status.busy": "2025-07-30T20:28:46.730953Z",
     "iopub.status.idle": "2025-07-30T20:28:46.790074Z",
     "shell.execute_reply": "2025-07-30T20:28:46.789141Z"
    },
    "papermill": {
     "duration": 0.083984,
     "end_time": "2025-07-30T20:28:46.791617",
     "exception": false,
     "start_time": "2025-07-30T20:28:46.707633",
     "status": "completed"
    },
    "tags": []
   },
   "outputs": [
    {
     "name": "stdout",
     "output_type": "stream",
     "text": [
      "Dropping features: ['frau1']\n"
     ]
    }
   ],
   "source": [
    "if len(excluded_features_columns) > 0:\n",
    "    print(f\"Dropping features: {excluded_features_columns}\")\n",
    "    X_test.drop(excluded_features_columns, axis=1, inplace=True)"
   ]
  },
  {
   "cell_type": "code",
   "execution_count": 34,
   "id": "1853aaf5-fb9f-46cb-a2b5-8ea4ae2237e4",
   "metadata": {
    "execution": {
     "iopub.execute_input": "2025-07-30T20:28:46.838805Z",
     "iopub.status.busy": "2025-07-30T20:28:46.838078Z",
     "iopub.status.idle": "2025-07-30T20:28:46.889327Z",
     "shell.execute_reply": "2025-07-30T20:28:46.888259Z"
    },
    "papermill": {
     "duration": 0.077492,
     "end_time": "2025-07-30T20:28:46.891067",
     "exception": false,
     "start_time": "2025-07-30T20:28:46.813575",
     "status": "completed"
    },
    "tags": []
   },
   "outputs": [
    {
     "name": "stdout",
     "output_type": "stream",
     "text": [
      "Dropping features: ['frau1']\n"
     ]
    }
   ],
   "source": [
    "if len(excluded_features_columns) > 0:\n",
    "    print(f\"Dropping features: {excluded_features_columns}\")\n",
    "    X_calib.drop(excluded_features_columns, axis=1, inplace=True)"
   ]
  },
  {
   "cell_type": "code",
   "execution_count": 35,
   "id": "6727d079-03e5-481e-9d38-292a90b7a0a8",
   "metadata": {
    "execution": {
     "iopub.execute_input": "2025-07-30T20:28:46.936002Z",
     "iopub.status.busy": "2025-07-30T20:28:46.935344Z",
     "iopub.status.idle": "2025-07-30T20:28:46.940201Z",
     "shell.execute_reply": "2025-07-30T20:28:46.939231Z"
    },
    "papermill": {
     "duration": 0.028693,
     "end_time": "2025-07-30T20:28:46.941693",
     "exception": false,
     "start_time": "2025-07-30T20:28:46.913000",
     "status": "completed"
    },
    "tags": []
   },
   "outputs": [],
   "source": [
    "# SPLIT & STRATIFY DATA\n",
    "# ----------------------"
   ]
  },
  {
   "cell_type": "code",
   "execution_count": 36,
   "id": "76c4dc6d",
   "metadata": {
    "execution": {
     "iopub.execute_input": "2025-07-30T20:28:46.985893Z",
     "iopub.status.busy": "2025-07-30T20:28:46.985230Z",
     "iopub.status.idle": "2025-07-30T20:28:46.990700Z",
     "shell.execute_reply": "2025-07-30T20:28:46.989690Z"
    },
    "papermill": {
     "duration": 0.028977,
     "end_time": "2025-07-30T20:28:46.992153",
     "exception": false,
     "start_time": "2025-07-30T20:28:46.963176",
     "status": "completed"
    },
    "tags": []
   },
   "outputs": [],
   "source": [
    "# EXCLUDE CERTAIN SUBGROUPS\n",
    "# ----------------------\n",
    "\n",
    "mode = universe.get(\"exclude_subgroups\", \"keep-all\") \n",
    "# Fetches the exclude_subgroups setting from the universe dict.\n",
    "# Defaults to \"keep-all\" if the key is missing."
   ]
  },
  {
   "cell_type": "code",
   "execution_count": 37,
   "id": "21994072",
   "metadata": {
    "execution": {
     "iopub.execute_input": "2025-07-30T20:28:47.037172Z",
     "iopub.status.busy": "2025-07-30T20:28:47.036502Z",
     "iopub.status.idle": "2025-07-30T20:28:47.043241Z",
     "shell.execute_reply": "2025-07-30T20:28:47.042152Z"
    },
    "papermill": {
     "duration": 0.030842,
     "end_time": "2025-07-30T20:28:47.044826",
     "exception": false,
     "start_time": "2025-07-30T20:28:47.013984",
     "status": "completed"
    },
    "tags": []
   },
   "outputs": [],
   "source": [
    "if mode == \"keep-all\":\n",
    "    keep_mask = pd.Series(True, index=org_train.index)\n",
    "\n",
    "# org_train contains the original feature columns from features_org (in Simson)\n",
    "# features_org contains unprocessed features, for me X_train at beginning ???\n",
    "# For keep-all, creates a boolean Series (keep_mask) of all True, so no rows are removed.\n",
    "\n",
    "elif mode == \"drop-non-german\":\n",
    "    keep_mask = org_train[\"maxdeutsch1\"] == 1 # ??? what about missing values?\n",
    "\n",
    "else:\n",
    "    raise ValueError(f\"Unsupported mode for exclude_subgroups: {mode}\")\n"
   ]
  },
  {
   "cell_type": "code",
   "execution_count": 38,
   "id": "71651440",
   "metadata": {
    "execution": {
     "iopub.execute_input": "2025-07-30T20:28:47.089395Z",
     "iopub.status.busy": "2025-07-30T20:28:47.088740Z",
     "iopub.status.idle": "2025-07-30T20:28:47.095161Z",
     "shell.execute_reply": "2025-07-30T20:28:47.094244Z"
    },
    "papermill": {
     "duration": 0.030206,
     "end_time": "2025-07-30T20:28:47.096843",
     "exception": false,
     "start_time": "2025-07-30T20:28:47.066637",
     "status": "completed"
    },
    "tags": []
   },
   "outputs": [],
   "source": [
    "n_drop = (~keep_mask).sum() # Calculates how many rows are set to be dropped\n",
    "if n_drop > 0:\n",
    "    pct = n_drop / len(keep_mask) * 100\n",
    "    print(f\"Dropping {n_drop} rows ({pct:.2f}%) where mode='{mode}'\")"
   ]
  },
  {
   "cell_type": "code",
   "execution_count": 39,
   "id": "5fb8eee5",
   "metadata": {
    "execution": {
     "iopub.execute_input": "2025-07-30T20:28:47.141915Z",
     "iopub.status.busy": "2025-07-30T20:28:47.141110Z",
     "iopub.status.idle": "2025-07-30T20:28:47.156127Z",
     "shell.execute_reply": "2025-07-30T20:28:47.155156Z"
    },
    "papermill": {
     "duration": 0.03926,
     "end_time": "2025-07-30T20:28:47.158111",
     "exception": false,
     "start_time": "2025-07-30T20:28:47.118851",
     "status": "completed"
    },
    "tags": []
   },
   "outputs": [],
   "source": [
    "X_train = X_train[keep_mask]"
   ]
  },
  {
   "cell_type": "code",
   "execution_count": 40,
   "id": "b202bb3a",
   "metadata": {
    "execution": {
     "iopub.execute_input": "2025-07-30T20:28:47.203661Z",
     "iopub.status.busy": "2025-07-30T20:28:47.202997Z",
     "iopub.status.idle": "2025-07-30T20:28:47.209283Z",
     "shell.execute_reply": "2025-07-30T20:28:47.208442Z"
    },
    "papermill": {
     "duration": 0.03015,
     "end_time": "2025-07-30T20:28:47.210777",
     "exception": false,
     "start_time": "2025-07-30T20:28:47.180627",
     "status": "completed"
    },
    "tags": []
   },
   "outputs": [],
   "source": [
    "y_train = y_train[keep_mask]"
   ]
  },
  {
   "cell_type": "markdown",
   "id": "493e2ac3",
   "metadata": {
    "papermill": {
     "duration": 0.021395,
     "end_time": "2025-07-30T20:28:47.254060",
     "exception": false,
     "start_time": "2025-07-30T20:28:47.232665",
     "status": "completed"
    },
    "tags": []
   },
   "source": [
    "# Model Training"
   ]
  },
  {
   "cell_type": "code",
   "execution_count": 41,
   "id": "679e1268",
   "metadata": {
    "execution": {
     "iopub.execute_input": "2025-07-30T20:28:47.298441Z",
     "iopub.status.busy": "2025-07-30T20:28:47.297769Z",
     "iopub.status.idle": "2025-07-30T20:28:47.402276Z",
     "shell.execute_reply": "2025-07-30T20:28:47.401395Z"
    },
    "papermill": {
     "duration": 0.128562,
     "end_time": "2025-07-30T20:28:47.404059",
     "exception": false,
     "start_time": "2025-07-30T20:28:47.275497",
     "status": "completed"
    },
    "tags": []
   },
   "outputs": [],
   "source": [
    "from sklearn.linear_model import LogisticRegression\n",
    "from sklearn.ensemble import GradientBoostingClassifier, RandomForestClassifier\n",
    "\n",
    "if (universe[\"model\"] == \"logreg\"):\n",
    "    model = LogisticRegression() #penalty=\"none\") #, solver=\"newton-cg\", max_iter=1) # include random_state=19 ?\n",
    "elif (universe[\"model\"] == \"penalized_logreg\"):\n",
    "    model = LogisticRegression(penalty=\"l2\", C=1.0) #, solver=\"newton-cg\", max_iter=1)\n",
    "elif (universe[\"model\"] == \"rf\"):\n",
    "    model = RandomForestClassifier(n_estimators=100, n_jobs=-1)\n",
    "elif (universe[\"model\"] == \"gbm\"):\n",
    "    model = GradientBoostingClassifier()\n",
    "elif (universe[\"model\"] == \"elasticnet\"):\n",
    "    model = LogisticRegression(penalty = 'elasticnet', solver = 'saga', l1_ratio = 0.5, max_iter=5000) # which solver to use?\n",
    "else:\n",
    "    raise \"Unsupported universe.model\""
   ]
  },
  {
   "cell_type": "code",
   "execution_count": 42,
   "id": "0cc8f744",
   "metadata": {
    "execution": {
     "iopub.execute_input": "2025-07-30T20:28:47.450026Z",
     "iopub.status.busy": "2025-07-30T20:28:47.449324Z",
     "iopub.status.idle": "2025-07-30T20:28:47.455882Z",
     "shell.execute_reply": "2025-07-30T20:28:47.454902Z"
    },
    "papermill": {
     "duration": 0.031324,
     "end_time": "2025-07-30T20:28:47.457585",
     "exception": false,
     "start_time": "2025-07-30T20:28:47.426261",
     "status": "completed"
    },
    "tags": []
   },
   "outputs": [],
   "source": [
    "import numpy as np\n",
    "from sklearn.pipeline import Pipeline\n",
    "from sklearn.preprocessing import StandardScaler\n",
    "\n",
    "model = Pipeline([\n",
    "    #(\"continuous_processor\", continuous_processor),\n",
    "    #(\"categorical_preprocessor\", categorical_preprocessor),\n",
    "    (\"scale\", StandardScaler() if universe[\"scale\"] == \"scale\" else None), \n",
    "    (\"model\", model),\n",
    "])"
   ]
  },
  {
   "cell_type": "code",
   "execution_count": 43,
   "id": "9442c04d",
   "metadata": {
    "execution": {
     "iopub.execute_input": "2025-07-30T20:28:47.503460Z",
     "iopub.status.busy": "2025-07-30T20:28:47.502874Z",
     "iopub.status.idle": "2025-07-30T20:28:51.103960Z",
     "shell.execute_reply": "2025-07-30T20:28:51.103046Z"
    },
    "papermill": {
     "duration": 3.625658,
     "end_time": "2025-07-30T20:28:51.105686",
     "exception": false,
     "start_time": "2025-07-30T20:28:47.480028",
     "status": "completed"
    },
    "tags": []
   },
   "outputs": [
    {
     "data": {
      "text/html": [
       "<style>#sk-container-id-1 {color: black;background-color: white;}#sk-container-id-1 pre{padding: 0;}#sk-container-id-1 div.sk-toggleable {background-color: white;}#sk-container-id-1 label.sk-toggleable__label {cursor: pointer;display: block;width: 100%;margin-bottom: 0;padding: 0.3em;box-sizing: border-box;text-align: center;}#sk-container-id-1 label.sk-toggleable__label-arrow:before {content: \"▸\";float: left;margin-right: 0.25em;color: #696969;}#sk-container-id-1 label.sk-toggleable__label-arrow:hover:before {color: black;}#sk-container-id-1 div.sk-estimator:hover label.sk-toggleable__label-arrow:before {color: black;}#sk-container-id-1 div.sk-toggleable__content {max-height: 0;max-width: 0;overflow: hidden;text-align: left;background-color: #f0f8ff;}#sk-container-id-1 div.sk-toggleable__content pre {margin: 0.2em;color: black;border-radius: 0.25em;background-color: #f0f8ff;}#sk-container-id-1 input.sk-toggleable__control:checked~div.sk-toggleable__content {max-height: 200px;max-width: 100%;overflow: auto;}#sk-container-id-1 input.sk-toggleable__control:checked~label.sk-toggleable__label-arrow:before {content: \"▾\";}#sk-container-id-1 div.sk-estimator input.sk-toggleable__control:checked~label.sk-toggleable__label {background-color: #d4ebff;}#sk-container-id-1 div.sk-label input.sk-toggleable__control:checked~label.sk-toggleable__label {background-color: #d4ebff;}#sk-container-id-1 input.sk-hidden--visually {border: 0;clip: rect(1px 1px 1px 1px);clip: rect(1px, 1px, 1px, 1px);height: 1px;margin: -1px;overflow: hidden;padding: 0;position: absolute;width: 1px;}#sk-container-id-1 div.sk-estimator {font-family: monospace;background-color: #f0f8ff;border: 1px dotted black;border-radius: 0.25em;box-sizing: border-box;margin-bottom: 0.5em;}#sk-container-id-1 div.sk-estimator:hover {background-color: #d4ebff;}#sk-container-id-1 div.sk-parallel-item::after {content: \"\";width: 100%;border-bottom: 1px solid gray;flex-grow: 1;}#sk-container-id-1 div.sk-label:hover label.sk-toggleable__label {background-color: #d4ebff;}#sk-container-id-1 div.sk-serial::before {content: \"\";position: absolute;border-left: 1px solid gray;box-sizing: border-box;top: 0;bottom: 0;left: 50%;z-index: 0;}#sk-container-id-1 div.sk-serial {display: flex;flex-direction: column;align-items: center;background-color: white;padding-right: 0.2em;padding-left: 0.2em;position: relative;}#sk-container-id-1 div.sk-item {position: relative;z-index: 1;}#sk-container-id-1 div.sk-parallel {display: flex;align-items: stretch;justify-content: center;background-color: white;position: relative;}#sk-container-id-1 div.sk-item::before, #sk-container-id-1 div.sk-parallel-item::before {content: \"\";position: absolute;border-left: 1px solid gray;box-sizing: border-box;top: 0;bottom: 0;left: 50%;z-index: -1;}#sk-container-id-1 div.sk-parallel-item {display: flex;flex-direction: column;z-index: 1;position: relative;background-color: white;}#sk-container-id-1 div.sk-parallel-item:first-child::after {align-self: flex-end;width: 50%;}#sk-container-id-1 div.sk-parallel-item:last-child::after {align-self: flex-start;width: 50%;}#sk-container-id-1 div.sk-parallel-item:only-child::after {width: 0;}#sk-container-id-1 div.sk-dashed-wrapped {border: 1px dashed gray;margin: 0 0.4em 0.5em 0.4em;box-sizing: border-box;padding-bottom: 0.4em;background-color: white;}#sk-container-id-1 div.sk-label label {font-family: monospace;font-weight: bold;display: inline-block;line-height: 1.2em;}#sk-container-id-1 div.sk-label-container {text-align: center;}#sk-container-id-1 div.sk-container {/* jupyter's `normalize.less` sets `[hidden] { display: none; }` but bootstrap.min.css set `[hidden] { display: none !important; }` so we also need the `!important` here to be able to override the default hidden behavior on the sphinx rendered scikit-learn.org. See: https://github.com/scikit-learn/scikit-learn/issues/21755 */display: inline-block !important;position: relative;}#sk-container-id-1 div.sk-text-repr-fallback {display: none;}</style><div id=\"sk-container-id-1\" class=\"sk-top-container\"><div class=\"sk-text-repr-fallback\"><pre>Pipeline(steps=[(&#x27;scale&#x27;, StandardScaler()),\n",
       "                (&#x27;model&#x27;, RandomForestClassifier(n_jobs=-1))])</pre><b>In a Jupyter environment, please rerun this cell to show the HTML representation or trust the notebook. <br />On GitHub, the HTML representation is unable to render, please try loading this page with nbviewer.org.</b></div><div class=\"sk-container\" hidden><div class=\"sk-item sk-dashed-wrapped\"><div class=\"sk-label-container\"><div class=\"sk-label sk-toggleable\"><input class=\"sk-toggleable__control sk-hidden--visually\" id=\"sk-estimator-id-1\" type=\"checkbox\" ><label for=\"sk-estimator-id-1\" class=\"sk-toggleable__label sk-toggleable__label-arrow\">Pipeline</label><div class=\"sk-toggleable__content\"><pre>Pipeline(steps=[(&#x27;scale&#x27;, StandardScaler()),\n",
       "                (&#x27;model&#x27;, RandomForestClassifier(n_jobs=-1))])</pre></div></div></div><div class=\"sk-serial\"><div class=\"sk-item\"><div class=\"sk-estimator sk-toggleable\"><input class=\"sk-toggleable__control sk-hidden--visually\" id=\"sk-estimator-id-2\" type=\"checkbox\" ><label for=\"sk-estimator-id-2\" class=\"sk-toggleable__label sk-toggleable__label-arrow\">StandardScaler</label><div class=\"sk-toggleable__content\"><pre>StandardScaler()</pre></div></div></div><div class=\"sk-item\"><div class=\"sk-estimator sk-toggleable\"><input class=\"sk-toggleable__control sk-hidden--visually\" id=\"sk-estimator-id-3\" type=\"checkbox\" ><label for=\"sk-estimator-id-3\" class=\"sk-toggleable__label sk-toggleable__label-arrow\">RandomForestClassifier</label><div class=\"sk-toggleable__content\"><pre>RandomForestClassifier(n_jobs=-1)</pre></div></div></div></div></div></div></div>"
      ],
      "text/plain": [
       "Pipeline(steps=[('scale', StandardScaler()),\n",
       "                ('model', RandomForestClassifier(n_jobs=-1))])"
      ]
     },
     "execution_count": 43,
     "metadata": {},
     "output_type": "execute_result"
    }
   ],
   "source": [
    "model.fit(X_train, y_train.values.ravel())"
   ]
  },
  {
   "cell_type": "code",
   "execution_count": 44,
   "id": "af59f8c0",
   "metadata": {
    "execution": {
     "iopub.execute_input": "2025-07-30T20:28:51.154186Z",
     "iopub.status.busy": "2025-07-30T20:28:51.153677Z",
     "iopub.status.idle": "2025-07-30T20:28:51.159121Z",
     "shell.execute_reply": "2025-07-30T20:28:51.158035Z"
    },
    "papermill": {
     "duration": 0.03128,
     "end_time": "2025-07-30T20:28:51.161126",
     "exception": false,
     "start_time": "2025-07-30T20:28:51.129846",
     "status": "completed"
    },
    "tags": []
   },
   "outputs": [],
   "source": [
    "from fairness_multiverse.universe import predict_w_threshold"
   ]
  },
  {
   "cell_type": "code",
   "execution_count": 45,
   "id": "a7cf2e16",
   "metadata": {
    "execution": {
     "iopub.execute_input": "2025-07-30T20:28:51.208465Z",
     "iopub.status.busy": "2025-07-30T20:28:51.207980Z",
     "iopub.status.idle": "2025-07-30T20:28:52.547722Z",
     "shell.execute_reply": "2025-07-30T20:28:52.546669Z"
    },
    "papermill": {
     "duration": 1.36533,
     "end_time": "2025-07-30T20:28:52.549485",
     "exception": false,
     "start_time": "2025-07-30T20:28:51.184155",
     "status": "completed"
    },
    "tags": []
   },
   "outputs": [
    {
     "data": {
      "text/plain": [
       "0.8661353249359046"
      ]
     },
     "execution_count": 45,
     "metadata": {},
     "output_type": "execute_result"
    }
   ],
   "source": [
    "probs_test = model.predict_proba(X_test)\n",
    "\n",
    "'''\n",
    "Below code returns a boolean array (or binary 0/1 array depending on how it’s used) where each element \n",
    "is True if the probability of class 1 is greater than or equal to the threshold, and False otherwise.\n",
    "'''\n",
    "y_pred_default = predict_w_threshold(probs_test, 0.5)\n",
    "\n",
    "from sklearn.metrics import accuracy_score\n",
    "\n",
    "# Naive prediction\n",
    "accuracy_score(y_true = y_true, y_pred = y_pred_default)"
   ]
  },
  {
   "cell_type": "code",
   "execution_count": 46,
   "id": "081964c3",
   "metadata": {
    "execution": {
     "iopub.execute_input": "2025-07-30T20:28:52.598924Z",
     "iopub.status.busy": "2025-07-30T20:28:52.597810Z",
     "iopub.status.idle": "2025-07-30T20:28:53.944274Z",
     "shell.execute_reply": "2025-07-30T20:28:53.942900Z"
    },
    "papermill": {
     "duration": 1.374036,
     "end_time": "2025-07-30T20:28:53.946598",
     "exception": false,
     "start_time": "2025-07-30T20:28:52.572562",
     "status": "completed"
    },
    "tags": []
   },
   "outputs": [
    {
     "data": {
      "text/plain": [
       "array([0, 0, 0, ..., 0, 0, 0])"
      ]
     },
     "execution_count": 46,
     "metadata": {},
     "output_type": "execute_result"
    }
   ],
   "source": [
    "model.predict(X_test)"
   ]
  },
  {
   "cell_type": "markdown",
   "id": "56c9705b",
   "metadata": {
    "papermill": {
     "duration": 0.035564,
     "end_time": "2025-07-30T20:28:54.020289",
     "exception": false,
     "start_time": "2025-07-30T20:28:53.984725",
     "status": "completed"
    },
    "tags": []
   },
   "source": [
    "# Conformal Prediction"
   ]
  },
  {
   "cell_type": "code",
   "execution_count": 47,
   "id": "160ec6ff",
   "metadata": {
    "execution": {
     "iopub.execute_input": "2025-07-30T20:28:54.087417Z",
     "iopub.status.busy": "2025-07-30T20:28:54.086829Z",
     "iopub.status.idle": "2025-07-30T20:28:54.092561Z",
     "shell.execute_reply": "2025-07-30T20:28:54.091556Z"
    },
    "papermill": {
     "duration": 0.038695,
     "end_time": "2025-07-30T20:28:54.094668",
     "exception": false,
     "start_time": "2025-07-30T20:28:54.055973",
     "status": "completed"
    },
    "tags": []
   },
   "outputs": [],
   "source": [
    "# Miscoverage level for conformal prediction (10% allowed error rate => 90% target coverage)\n",
    "alpha = 0.1"
   ]
  },
  {
   "cell_type": "code",
   "execution_count": 48,
   "id": "eadf4555-3dd3-440e-8e35-f82a4ad9f855",
   "metadata": {
    "execution": {
     "iopub.execute_input": "2025-07-30T20:28:54.164200Z",
     "iopub.status.busy": "2025-07-30T20:28:54.163667Z",
     "iopub.status.idle": "2025-07-30T20:28:55.382656Z",
     "shell.execute_reply": "2025-07-30T20:28:55.381305Z"
    },
    "papermill": {
     "duration": 1.256784,
     "end_time": "2025-07-30T20:28:55.385253",
     "exception": false,
     "start_time": "2025-07-30T20:28:54.128469",
     "status": "completed"
    },
    "tags": []
   },
   "outputs": [],
   "source": [
    "probs_calib = model.predict_proba(X_calib)"
   ]
  },
  {
   "cell_type": "code",
   "execution_count": 49,
   "id": "2ed93547-6d5d-4983-9b36-1ecb300da49a",
   "metadata": {
    "execution": {
     "iopub.execute_input": "2025-07-30T20:28:55.435467Z",
     "iopub.status.busy": "2025-07-30T20:28:55.435023Z",
     "iopub.status.idle": "2025-07-30T20:28:55.440659Z",
     "shell.execute_reply": "2025-07-30T20:28:55.439747Z"
    },
    "papermill": {
     "duration": 0.027243,
     "end_time": "2025-07-30T20:28:55.441860",
     "exception": false,
     "start_time": "2025-07-30T20:28:55.414617",
     "status": "completed"
    },
    "tags": []
   },
   "outputs": [],
   "source": [
    "y_calib = y_calib.values.ravel().astype(int)"
   ]
  },
  {
   "cell_type": "code",
   "execution_count": 50,
   "id": "65d1320d-f588-4b38-9072-62af1ae97f7d",
   "metadata": {
    "execution": {
     "iopub.execute_input": "2025-07-30T20:28:55.484373Z",
     "iopub.status.busy": "2025-07-30T20:28:55.483662Z",
     "iopub.status.idle": "2025-07-30T20:28:55.493388Z",
     "shell.execute_reply": "2025-07-30T20:28:55.492196Z"
    },
    "papermill": {
     "duration": 0.038071,
     "end_time": "2025-07-30T20:28:55.495456",
     "exception": false,
     "start_time": "2025-07-30T20:28:55.457385",
     "status": "completed"
    },
    "tags": []
   },
   "outputs": [],
   "source": [
    "from fairness_multiverse.conformal import compute_nc_scores\n",
    "\n",
    "# Compute nonconformity scores on calibration set (1 - probability of true class)\n",
    "nc_scores = compute_nc_scores(probs_calib, y_calib)"
   ]
  },
  {
   "cell_type": "code",
   "execution_count": 51,
   "id": "df3b8ca3-53b7-43d5-9667-7c85da7aeda2",
   "metadata": {
    "execution": {
     "iopub.execute_input": "2025-07-30T20:28:55.544657Z",
     "iopub.status.busy": "2025-07-30T20:28:55.543752Z",
     "iopub.status.idle": "2025-07-30T20:28:55.550504Z",
     "shell.execute_reply": "2025-07-30T20:28:55.549615Z"
    },
    "papermill": {
     "duration": 0.032931,
     "end_time": "2025-07-30T20:28:55.552014",
     "exception": false,
     "start_time": "2025-07-30T20:28:55.519083",
     "status": "completed"
    },
    "tags": []
   },
   "outputs": [],
   "source": [
    "from fairness_multiverse.conformal import find_threshold\n",
    "\n",
    "# Find conformal threshold q_hat for the given alpha (split conformal method)\n",
    "q_hat = find_threshold(nc_scores, alpha)"
   ]
  },
  {
   "cell_type": "code",
   "execution_count": 52,
   "id": "4d29e6c1-0ef6-4aa4-b8fe-4fe79b0d033a",
   "metadata": {
    "execution": {
     "iopub.execute_input": "2025-07-30T20:28:55.602741Z",
     "iopub.status.busy": "2025-07-30T20:28:55.601669Z",
     "iopub.status.idle": "2025-07-30T20:28:55.611018Z",
     "shell.execute_reply": "2025-07-30T20:28:55.609775Z"
    },
    "papermill": {
     "duration": 0.036321,
     "end_time": "2025-07-30T20:28:55.613288",
     "exception": false,
     "start_time": "2025-07-30T20:28:55.576967",
     "status": "completed"
    },
    "tags": []
   },
   "outputs": [
    {
     "data": {
      "text/plain": [
       "0.6599999999999999"
      ]
     },
     "execution_count": 52,
     "metadata": {},
     "output_type": "execute_result"
    }
   ],
   "source": [
    "q_hat"
   ]
  },
  {
   "cell_type": "code",
   "execution_count": 53,
   "id": "92460794-cdac-4be2-ba28-f28c0515a6fb",
   "metadata": {
    "execution": {
     "iopub.execute_input": "2025-07-30T20:28:55.681030Z",
     "iopub.status.busy": "2025-07-30T20:28:55.680493Z",
     "iopub.status.idle": "2025-07-30T20:28:57.605111Z",
     "shell.execute_reply": "2025-07-30T20:28:57.604085Z"
    },
    "papermill": {
     "duration": 1.958487,
     "end_time": "2025-07-30T20:28:57.606738",
     "exception": false,
     "start_time": "2025-07-30T20:28:55.648251",
     "status": "completed"
    },
    "tags": []
   },
   "outputs": [],
   "source": [
    "from fairness_multiverse.conformal import predict_conformal_sets\n",
    "\n",
    "# Generate prediction sets for each test example\n",
    "pred_sets = predict_conformal_sets(model, X_test, q_hat)"
   ]
  },
  {
   "cell_type": "code",
   "execution_count": 54,
   "id": "d90c9a65-e6db-4f5d-80cd-e68fb7e46829",
   "metadata": {
    "execution": {
     "iopub.execute_input": "2025-07-30T20:28:57.674026Z",
     "iopub.status.busy": "2025-07-30T20:28:57.673642Z",
     "iopub.status.idle": "2025-07-30T20:28:57.679140Z",
     "shell.execute_reply": "2025-07-30T20:28:57.678174Z"
    },
    "papermill": {
     "duration": 0.035091,
     "end_time": "2025-07-30T20:28:57.681788",
     "exception": false,
     "start_time": "2025-07-30T20:28:57.646697",
     "status": "completed"
    },
    "tags": []
   },
   "outputs": [],
   "source": [
    "y_true = y_true.squeeze()"
   ]
  },
  {
   "cell_type": "code",
   "execution_count": 55,
   "id": "3a58a54a-1e68-46b9-927a-df01f18aebc8",
   "metadata": {
    "execution": {
     "iopub.execute_input": "2025-07-30T20:28:57.730802Z",
     "iopub.status.busy": "2025-07-30T20:28:57.730408Z",
     "iopub.status.idle": "2025-07-30T20:28:59.201127Z",
     "shell.execute_reply": "2025-07-30T20:28:59.200113Z"
    },
    "papermill": {
     "duration": 1.497254,
     "end_time": "2025-07-30T20:28:59.202953",
     "exception": false,
     "start_time": "2025-07-30T20:28:57.705699",
     "status": "completed"
    },
    "tags": []
   },
   "outputs": [],
   "source": [
    "from fairness_multiverse.conformal import evaluate_sets\n",
    "\n",
    "# Evaluate coverage and average set size on test data\n",
    "metrics = evaluate_sets(pred_sets, y_true)"
   ]
  },
  {
   "cell_type": "markdown",
   "id": "2b569c12-9aaa-4c88-98c9-bbcd0cf3ebb8",
   "metadata": {
    "papermill": {
     "duration": 0.112313,
     "end_time": "2025-07-30T20:28:59.424480",
     "exception": false,
     "start_time": "2025-07-30T20:28:59.312167",
     "status": "completed"
    },
    "tags": []
   },
   "source": [
    "# CP Metrics"
   ]
  },
  {
   "cell_type": "code",
   "execution_count": 56,
   "id": "5ce0a5cb-201f-45a0-ade5-94c7f0bd6095",
   "metadata": {
    "execution": {
     "iopub.execute_input": "2025-07-30T20:28:59.587367Z",
     "iopub.status.busy": "2025-07-30T20:28:59.586946Z",
     "iopub.status.idle": "2025-07-30T20:28:59.595480Z",
     "shell.execute_reply": "2025-07-30T20:28:59.593889Z"
    },
    "papermill": {
     "duration": 0.057167,
     "end_time": "2025-07-30T20:28:59.597508",
     "exception": false,
     "start_time": "2025-07-30T20:28:59.540341",
     "status": "completed"
    },
    "tags": []
   },
   "outputs": [
    {
     "data": {
      "text/plain": [
       "{'coverage': 0.9162189276557797, 'avg_size': 1.149771485899008}"
      ]
     },
     "execution_count": 56,
     "metadata": {},
     "output_type": "execute_result"
    }
   ],
   "source": [
    "metrics"
   ]
  },
  {
   "cell_type": "code",
   "execution_count": 57,
   "id": "9b9a838d-31c9-430b-ae14-12baee460d17",
   "metadata": {
    "execution": {
     "iopub.execute_input": "2025-07-30T20:28:59.748842Z",
     "iopub.status.busy": "2025-07-30T20:28:59.748417Z",
     "iopub.status.idle": "2025-07-30T20:28:59.755657Z",
     "shell.execute_reply": "2025-07-30T20:28:59.754609Z"
    },
    "papermill": {
     "duration": 0.123271,
     "end_time": "2025-07-30T20:28:59.776521",
     "exception": false,
     "start_time": "2025-07-30T20:28:59.653250",
     "status": "completed"
    },
    "tags": []
   },
   "outputs": [],
   "source": [
    "example_universe = universe.copy()\n",
    "universe_training_year = example_universe.get(\"training_year\")\n",
    "universe_training_size = example_universe.get(\"training_size\")\n",
    "universe_scale = example_universe.get(\"scale\")\n",
    "universe_model = example_universe.get(\"model\")\n",
    "universe_exclude_features = example_universe.get(\"exclude_features\")\n",
    "universe_exclude_subgroups = example_universe.get(\"exclude_subgroups\")"
   ]
  },
  {
   "cell_type": "code",
   "execution_count": 58,
   "id": "f4b6a8ac-9dc0-4245-8a91-5b3b5999c4f9",
   "metadata": {
    "execution": {
     "iopub.execute_input": "2025-07-30T20:28:59.893608Z",
     "iopub.status.busy": "2025-07-30T20:28:59.893185Z",
     "iopub.status.idle": "2025-07-30T20:28:59.901499Z",
     "shell.execute_reply": "2025-07-30T20:28:59.900387Z"
    },
    "papermill": {
     "duration": 0.090644,
     "end_time": "2025-07-30T20:28:59.903513",
     "exception": false,
     "start_time": "2025-07-30T20:28:59.812869",
     "status": "completed"
    },
    "tags": []
   },
   "outputs": [],
   "source": [
    "cp_metrics_dict = {\n",
    "    \"universe_id\": [universe_id],\n",
    "    \"universe_training_year\": [universe_training_year],\n",
    "    \"universe_training_size\": [universe_training_size],\n",
    "    \"universe_scale\": [universe_scale],\n",
    "    \"universe_model\": [universe_model],\n",
    "    \"universe_exclude_features\": [universe_exclude_features],\n",
    "    \"universe_exclude_subgroups\": [universe_exclude_subgroups],\n",
    "    \"q_hat\": [q_hat],\n",
    "    \"coverage\": [metrics[\"coverage\"]],\n",
    "    \"avg_size\": [metrics[\"avg_size\"]],\n",
    "}"
   ]
  },
  {
   "cell_type": "code",
   "execution_count": 59,
   "id": "908acbb1-0371-4915-85ca-3fa520d2efe2",
   "metadata": {
    "execution": {
     "iopub.execute_input": "2025-07-30T20:29:00.039636Z",
     "iopub.status.busy": "2025-07-30T20:29:00.039204Z",
     "iopub.status.idle": "2025-07-30T20:29:00.048084Z",
     "shell.execute_reply": "2025-07-30T20:29:00.046891Z"
    },
    "papermill": {
     "duration": 0.067143,
     "end_time": "2025-07-30T20:29:00.052151",
     "exception": false,
     "start_time": "2025-07-30T20:28:59.985008",
     "status": "completed"
    },
    "tags": []
   },
   "outputs": [
    {
     "data": {
      "text/plain": [
       "{'universe_id': ['6a9e9f978d7c69739ac2a3506b61bcd2'],\n",
       " 'universe_training_year': ['2010_14'],\n",
       " 'universe_training_size': ['25k'],\n",
       " 'universe_scale': ['scale'],\n",
       " 'universe_model': ['rf'],\n",
       " 'universe_exclude_features': ['sex'],\n",
       " 'universe_exclude_subgroups': ['keep-all'],\n",
       " 'q_hat': [0.6599999999999999],\n",
       " 'coverage': [0.9162189276557797],\n",
       " 'avg_size': [1.149771485899008]}"
      ]
     },
     "execution_count": 59,
     "metadata": {},
     "output_type": "execute_result"
    }
   ],
   "source": [
    "cp_metrics_dict"
   ]
  },
  {
   "cell_type": "code",
   "execution_count": 60,
   "id": "33007efc-14e9-4ec6-97ac-56a455c82265",
   "metadata": {
    "execution": {
     "iopub.execute_input": "2025-07-30T20:29:00.139066Z",
     "iopub.status.busy": "2025-07-30T20:29:00.138628Z",
     "iopub.status.idle": "2025-07-30T20:29:00.147072Z",
     "shell.execute_reply": "2025-07-30T20:29:00.146118Z"
    },
    "papermill": {
     "duration": 0.060635,
     "end_time": "2025-07-30T20:29:00.149439",
     "exception": false,
     "start_time": "2025-07-30T20:29:00.088804",
     "status": "completed"
    },
    "tags": []
   },
   "outputs": [],
   "source": [
    "cp_metrics_df = pd.DataFrame(cp_metrics_dict)"
   ]
  },
  {
   "cell_type": "code",
   "execution_count": 61,
   "id": "db12611b-57b2-4910-b9d0-355adfd6e7bf",
   "metadata": {
    "execution": {
     "iopub.execute_input": "2025-07-30T20:29:00.268810Z",
     "iopub.status.busy": "2025-07-30T20:29:00.268394Z",
     "iopub.status.idle": "2025-07-30T20:29:00.300420Z",
     "shell.execute_reply": "2025-07-30T20:29:00.299391Z"
    },
    "papermill": {
     "duration": 0.093708,
     "end_time": "2025-07-30T20:29:00.302381",
     "exception": false,
     "start_time": "2025-07-30T20:29:00.208673",
     "status": "completed"
    },
    "tags": []
   },
   "outputs": [
    {
     "data": {
      "text/html": [
       "<div>\n",
       "<style scoped>\n",
       "    .dataframe tbody tr th:only-of-type {\n",
       "        vertical-align: middle;\n",
       "    }\n",
       "\n",
       "    .dataframe tbody tr th {\n",
       "        vertical-align: top;\n",
       "    }\n",
       "\n",
       "    .dataframe thead th {\n",
       "        text-align: right;\n",
       "    }\n",
       "</style>\n",
       "<table border=\"1\" class=\"dataframe\">\n",
       "  <thead>\n",
       "    <tr style=\"text-align: right;\">\n",
       "      <th></th>\n",
       "      <th>universe_id</th>\n",
       "      <th>universe_training_year</th>\n",
       "      <th>universe_training_size</th>\n",
       "      <th>universe_scale</th>\n",
       "      <th>universe_model</th>\n",
       "      <th>universe_exclude_features</th>\n",
       "      <th>universe_exclude_subgroups</th>\n",
       "      <th>q_hat</th>\n",
       "      <th>coverage</th>\n",
       "      <th>avg_size</th>\n",
       "    </tr>\n",
       "  </thead>\n",
       "  <tbody>\n",
       "    <tr>\n",
       "      <th>0</th>\n",
       "      <td>6a9e9f978d7c69739ac2a3506b61bcd2</td>\n",
       "      <td>2010_14</td>\n",
       "      <td>25k</td>\n",
       "      <td>scale</td>\n",
       "      <td>rf</td>\n",
       "      <td>sex</td>\n",
       "      <td>keep-all</td>\n",
       "      <td>0.66</td>\n",
       "      <td>0.916219</td>\n",
       "      <td>1.149771</td>\n",
       "    </tr>\n",
       "  </tbody>\n",
       "</table>\n",
       "</div>"
      ],
      "text/plain": [
       "                        universe_id universe_training_year  \\\n",
       "0  6a9e9f978d7c69739ac2a3506b61bcd2                2010_14   \n",
       "\n",
       "  universe_training_size universe_scale universe_model  \\\n",
       "0                    25k          scale             rf   \n",
       "\n",
       "  universe_exclude_features universe_exclude_subgroups  q_hat  coverage  \\\n",
       "0                       sex                   keep-all   0.66  0.916219   \n",
       "\n",
       "   avg_size  \n",
       "0  1.149771  "
      ]
     },
     "execution_count": 61,
     "metadata": {},
     "output_type": "execute_result"
    }
   ],
   "source": [
    "cp_metrics_df"
   ]
  },
  {
   "cell_type": "code",
   "execution_count": 62,
   "id": "b7fbde55-a0a1-47e4-9af6-fe4a17fa8c61",
   "metadata": {
    "execution": {
     "iopub.execute_input": "2025-07-30T20:29:00.395482Z",
     "iopub.status.busy": "2025-07-30T20:29:00.395068Z",
     "iopub.status.idle": "2025-07-30T20:29:00.400868Z",
     "shell.execute_reply": "2025-07-30T20:29:00.399775Z"
    },
    "papermill": {
     "duration": 0.05001,
     "end_time": "2025-07-30T20:29:00.402669",
     "exception": false,
     "start_time": "2025-07-30T20:29:00.352659",
     "status": "completed"
    },
    "tags": []
   },
   "outputs": [],
   "source": [
    "# Conditional Coverage & looking at subgroups"
   ]
  },
  {
   "cell_type": "code",
   "execution_count": 63,
   "id": "027ae886-68dd-4141-96c7-805a5450e1ef",
   "metadata": {
    "execution": {
     "iopub.execute_input": "2025-07-30T20:29:00.543313Z",
     "iopub.status.busy": "2025-07-30T20:29:00.542857Z",
     "iopub.status.idle": "2025-07-30T20:29:00.882144Z",
     "shell.execute_reply": "2025-07-30T20:29:00.881155Z"
    },
    "papermill": {
     "duration": 0.43302,
     "end_time": "2025-07-30T20:29:00.884151",
     "exception": false,
     "start_time": "2025-07-30T20:29:00.451131",
     "status": "completed"
    },
    "tags": []
   },
   "outputs": [],
   "source": [
    "from fairness_multiverse.conformal import build_cp_groups\n",
    "\n",
    "cp_groups_df = build_cp_groups(pred_sets, y_true, X_test.index, org_test)\n",
    "#needs universe_id and setting"
   ]
  },
  {
   "cell_type": "code",
   "execution_count": 64,
   "id": "01d5802c-663a-4d1f-9d69-e036faaffbf7",
   "metadata": {
    "execution": {
     "iopub.execute_input": "2025-07-30T20:29:00.989300Z",
     "iopub.status.busy": "2025-07-30T20:29:00.988887Z",
     "iopub.status.idle": "2025-07-30T20:29:00.994144Z",
     "shell.execute_reply": "2025-07-30T20:29:00.993169Z"
    },
    "papermill": {
     "duration": 0.060333,
     "end_time": "2025-07-30T20:29:00.996947",
     "exception": false,
     "start_time": "2025-07-30T20:29:00.936614",
     "status": "completed"
    },
    "tags": []
   },
   "outputs": [],
   "source": [
    "#delete\n",
    "#cp_groups_df"
   ]
  },
  {
   "cell_type": "code",
   "execution_count": 65,
   "id": "fa424af1-d1eb-443d-b717-2d279ada8408",
   "metadata": {
    "execution": {
     "iopub.execute_input": "2025-07-30T20:29:01.145326Z",
     "iopub.status.busy": "2025-07-30T20:29:01.144904Z",
     "iopub.status.idle": "2025-07-30T20:29:01.150605Z",
     "shell.execute_reply": "2025-07-30T20:29:01.149581Z"
    },
    "papermill": {
     "duration": 0.077084,
     "end_time": "2025-07-30T20:29:01.153363",
     "exception": false,
     "start_time": "2025-07-30T20:29:01.076279",
     "status": "completed"
    },
    "tags": []
   },
   "outputs": [],
   "source": [
    "#delete\n",
    "#percentage = (cp_groups_df['nongerman_female'] == 1).mean() * 100\n",
    "#print(percentage)\n"
   ]
  },
  {
   "cell_type": "code",
   "execution_count": 66,
   "id": "6cbdab96-b2b2-45af-ad54-d0516db2e28d",
   "metadata": {
    "execution": {
     "iopub.execute_input": "2025-07-30T20:29:01.358171Z",
     "iopub.status.busy": "2025-07-30T20:29:01.357777Z",
     "iopub.status.idle": "2025-07-30T20:29:03.825260Z",
     "shell.execute_reply": "2025-07-30T20:29:03.824295Z"
    },
    "papermill": {
     "duration": 2.590706,
     "end_time": "2025-07-30T20:29:03.827007",
     "exception": false,
     "start_time": "2025-07-30T20:29:01.236301",
     "status": "completed"
    },
    "tags": []
   },
   "outputs": [],
   "source": [
    "# Define covered = 1 if true_label is in the predicted set\n",
    "cp_groups_df['covered'] = cp_groups_df.apply(\n",
    "    lambda r: int(r['true_label'] in r['pred_set']),\n",
    "    axis=1\n",
    ")"
   ]
  },
  {
   "cell_type": "code",
   "execution_count": 67,
   "id": "338ff529-1a6b-4b87-a931-8e4788d52aad",
   "metadata": {
    "execution": {
     "iopub.execute_input": "2025-07-30T20:29:03.924376Z",
     "iopub.status.busy": "2025-07-30T20:29:03.923969Z",
     "iopub.status.idle": "2025-07-30T20:29:03.929184Z",
     "shell.execute_reply": "2025-07-30T20:29:03.928191Z"
    },
    "papermill": {
     "duration": 0.062532,
     "end_time": "2025-07-30T20:29:03.930800",
     "exception": false,
     "start_time": "2025-07-30T20:29:03.868268",
     "status": "completed"
    },
    "tags": []
   },
   "outputs": [],
   "source": [
    "#cp_groups_df"
   ]
  },
  {
   "cell_type": "code",
   "execution_count": 68,
   "id": "90032e27-66df-4540-9169-4e89cfbaa758",
   "metadata": {
    "execution": {
     "iopub.execute_input": "2025-07-30T20:29:04.009391Z",
     "iopub.status.busy": "2025-07-30T20:29:04.009001Z",
     "iopub.status.idle": "2025-07-30T20:29:04.021007Z",
     "shell.execute_reply": "2025-07-30T20:29:04.019856Z"
    },
    "papermill": {
     "duration": 0.054565,
     "end_time": "2025-07-30T20:29:04.022694",
     "exception": false,
     "start_time": "2025-07-30T20:29:03.968129",
     "status": "completed"
    },
    "tags": []
   },
   "outputs": [],
   "source": [
    "subgroups = ['frau1','nongerman','nongerman_male','nongerman_female']\n",
    "\n",
    "# Conditional coverage for subgroup==1\n",
    "cond_coverage = {\n",
    "    g: cp_groups_df.loc[cp_groups_df[g]==1, 'covered'].mean()\n",
    "    for g in subgroups\n",
    "}"
   ]
  },
  {
   "cell_type": "code",
   "execution_count": 69,
   "id": "1e348fb1-b9c3-45bc-ba23-f016827a7e0d",
   "metadata": {
    "execution": {
     "iopub.execute_input": "2025-07-30T20:29:04.123230Z",
     "iopub.status.busy": "2025-07-30T20:29:04.122824Z",
     "iopub.status.idle": "2025-07-30T20:29:04.129588Z",
     "shell.execute_reply": "2025-07-30T20:29:04.128715Z"
    },
    "papermill": {
     "duration": 0.082933,
     "end_time": "2025-07-30T20:29:04.130990",
     "exception": false,
     "start_time": "2025-07-30T20:29:04.048057",
     "status": "completed"
    },
    "tags": []
   },
   "outputs": [
    {
     "data": {
      "text/plain": [
       "{'frau1': 0.9157837983555736,\n",
       " 'nongerman': 0.9124235109189918,\n",
       " 'nongerman_male': 0.927226875619202,\n",
       " 'nongerman_female': 0.8879284649776453}"
      ]
     },
     "execution_count": 69,
     "metadata": {},
     "output_type": "execute_result"
    }
   ],
   "source": [
    "cond_coverage"
   ]
  },
  {
   "cell_type": "code",
   "execution_count": 70,
   "id": "f5093324-c3dd-4d63-bc4c-8d945e5c8bbb",
   "metadata": {
    "execution": {
     "iopub.execute_input": "2025-07-30T20:29:04.269577Z",
     "iopub.status.busy": "2025-07-30T20:29:04.269180Z",
     "iopub.status.idle": "2025-07-30T20:29:04.282779Z",
     "shell.execute_reply": "2025-07-30T20:29:04.281626Z"
    },
    "papermill": {
     "duration": 0.066285,
     "end_time": "2025-07-30T20:29:04.284796",
     "exception": false,
     "start_time": "2025-07-30T20:29:04.218511",
     "status": "completed"
    },
    "tags": []
   },
   "outputs": [],
   "source": [
    "for subgroup, cov in cond_coverage.items():\n",
    "    cp_metrics_df[f\"cov_{subgroup}\"] = cov"
   ]
  },
  {
   "cell_type": "code",
   "execution_count": 71,
   "id": "6e872e10-dbe5-49e8-b554-5030c98ff75d",
   "metadata": {
    "execution": {
     "iopub.execute_input": "2025-07-30T20:29:04.348852Z",
     "iopub.status.busy": "2025-07-30T20:29:04.348415Z",
     "iopub.status.idle": "2025-07-30T20:29:04.371037Z",
     "shell.execute_reply": "2025-07-30T20:29:04.370079Z"
    },
    "papermill": {
     "duration": 0.050269,
     "end_time": "2025-07-30T20:29:04.372487",
     "exception": false,
     "start_time": "2025-07-30T20:29:04.322218",
     "status": "completed"
    },
    "tags": []
   },
   "outputs": [
    {
     "data": {
      "text/html": [
       "<div>\n",
       "<style scoped>\n",
       "    .dataframe tbody tr th:only-of-type {\n",
       "        vertical-align: middle;\n",
       "    }\n",
       "\n",
       "    .dataframe tbody tr th {\n",
       "        vertical-align: top;\n",
       "    }\n",
       "\n",
       "    .dataframe thead th {\n",
       "        text-align: right;\n",
       "    }\n",
       "</style>\n",
       "<table border=\"1\" class=\"dataframe\">\n",
       "  <thead>\n",
       "    <tr style=\"text-align: right;\">\n",
       "      <th></th>\n",
       "      <th>universe_id</th>\n",
       "      <th>universe_training_year</th>\n",
       "      <th>universe_training_size</th>\n",
       "      <th>universe_scale</th>\n",
       "      <th>universe_model</th>\n",
       "      <th>universe_exclude_features</th>\n",
       "      <th>universe_exclude_subgroups</th>\n",
       "      <th>q_hat</th>\n",
       "      <th>coverage</th>\n",
       "      <th>avg_size</th>\n",
       "      <th>cov_frau1</th>\n",
       "      <th>cov_nongerman</th>\n",
       "      <th>cov_nongerman_male</th>\n",
       "      <th>cov_nongerman_female</th>\n",
       "    </tr>\n",
       "  </thead>\n",
       "  <tbody>\n",
       "    <tr>\n",
       "      <th>0</th>\n",
       "      <td>6a9e9f978d7c69739ac2a3506b61bcd2</td>\n",
       "      <td>2010_14</td>\n",
       "      <td>25k</td>\n",
       "      <td>scale</td>\n",
       "      <td>rf</td>\n",
       "      <td>sex</td>\n",
       "      <td>keep-all</td>\n",
       "      <td>0.66</td>\n",
       "      <td>0.916219</td>\n",
       "      <td>1.149771</td>\n",
       "      <td>0.915784</td>\n",
       "      <td>0.912424</td>\n",
       "      <td>0.927227</td>\n",
       "      <td>0.887928</td>\n",
       "    </tr>\n",
       "  </tbody>\n",
       "</table>\n",
       "</div>"
      ],
      "text/plain": [
       "                        universe_id universe_training_year  \\\n",
       "0  6a9e9f978d7c69739ac2a3506b61bcd2                2010_14   \n",
       "\n",
       "  universe_training_size universe_scale universe_model  \\\n",
       "0                    25k          scale             rf   \n",
       "\n",
       "  universe_exclude_features universe_exclude_subgroups  q_hat  coverage  \\\n",
       "0                       sex                   keep-all   0.66  0.916219   \n",
       "\n",
       "   avg_size  cov_frau1  cov_nongerman  cov_nongerman_male  \\\n",
       "0  1.149771   0.915784       0.912424            0.927227   \n",
       "\n",
       "   cov_nongerman_female  \n",
       "0              0.887928  "
      ]
     },
     "execution_count": 71,
     "metadata": {},
     "output_type": "execute_result"
    }
   ],
   "source": [
    "cp_metrics_df"
   ]
  },
  {
   "cell_type": "markdown",
   "id": "33774451",
   "metadata": {
    "papermill": {
     "duration": 0.047598,
     "end_time": "2025-07-30T20:29:04.445823",
     "exception": false,
     "start_time": "2025-07-30T20:29:04.398225",
     "status": "completed"
    },
    "tags": []
   },
   "source": [
    "# (Fairness) Metrics"
   ]
  },
  {
   "cell_type": "code",
   "execution_count": 72,
   "id": "debc5d62",
   "metadata": {
    "execution": {
     "iopub.execute_input": "2025-07-30T20:29:04.532592Z",
     "iopub.status.busy": "2025-07-30T20:29:04.532185Z",
     "iopub.status.idle": "2025-07-30T20:29:04.558783Z",
     "shell.execute_reply": "2025-07-30T20:29:04.557804Z"
    },
    "papermill": {
     "duration": 0.06509,
     "end_time": "2025-07-30T20:29:04.560472",
     "exception": false,
     "start_time": "2025-07-30T20:29:04.495382",
     "status": "completed"
    },
    "tags": []
   },
   "outputs": [],
   "source": [
    "# do I need to include maxdeutsch1.missing?\n",
    "\n",
    "import numpy as np\n",
    "\n",
    "colname_to_bin = \"maxdeutsch1\"\n",
    "majority_value = org_train[colname_to_bin].mode()[0]\n",
    "\n",
    "org_test[\"majmin\"] = np.where(org_test[colname_to_bin] == majority_value, \"majority\", \"minority\")"
   ]
  },
  {
   "cell_type": "code",
   "execution_count": 73,
   "id": "06a50de5",
   "metadata": {
    "execution": {
     "iopub.execute_input": "2025-07-30T20:29:04.662578Z",
     "iopub.status.busy": "2025-07-30T20:29:04.662170Z",
     "iopub.status.idle": "2025-07-30T20:29:08.736906Z",
     "shell.execute_reply": "2025-07-30T20:29:08.735926Z"
    },
    "papermill": {
     "duration": 4.141334,
     "end_time": "2025-07-30T20:29:08.738604",
     "exception": false,
     "start_time": "2025-07-30T20:29:04.597270",
     "status": "completed"
    },
    "tags": []
   },
   "outputs": [],
   "source": [
    "example_universe = universe.copy()\n",
    "example_universe[\"cutoff\"] = example_universe[\"cutoff\"][0]\n",
    "example_universe[\"eval_fairness_grouping\"] = example_universe[\"eval_fairness_grouping\"][0]\n",
    "fairness_dict, metric_frame = universe_analysis.compute_metrics(\n",
    "    example_universe,\n",
    "    y_pred_prob=probs_test,\n",
    "    y_test=y_true,\n",
    "    org_test=org_test,\n",
    ")"
   ]
  },
  {
   "cell_type": "markdown",
   "id": "f95d4e02",
   "metadata": {
    "papermill": {
     "duration": 0.028963,
     "end_time": "2025-07-30T20:29:08.813125",
     "exception": false,
     "start_time": "2025-07-30T20:29:08.784162",
     "status": "completed"
    },
    "tags": []
   },
   "source": [
    "# Overall"
   ]
  },
  {
   "cell_type": "markdown",
   "id": "bdee4871",
   "metadata": {
    "papermill": {
     "duration": 0.027804,
     "end_time": "2025-07-30T20:29:08.868876",
     "exception": false,
     "start_time": "2025-07-30T20:29:08.841072",
     "status": "completed"
    },
    "tags": []
   },
   "source": [
    "Fairness\n",
    "Main fairness target: Equalized Odds. Seems to be a better fit than equal opportunity, since we're not only interested in Y = 1. Seems to be a better fit than demographic parity, since we also care about accuracy, not just equal distribution of preds.\n",
    "\n",
    "Pick column for computation of fairness metrics\n",
    "\n",
    "Performance\n",
    "Overall performance measures, most interesting in relation to the measures split by group below"
   ]
  },
  {
   "cell_type": "code",
   "execution_count": 74,
   "id": "c4e067c6",
   "metadata": {
    "execution": {
     "iopub.execute_input": "2025-07-30T20:29:08.926430Z",
     "iopub.status.busy": "2025-07-30T20:29:08.925917Z",
     "iopub.status.idle": "2025-07-30T20:29:08.934995Z",
     "shell.execute_reply": "2025-07-30T20:29:08.934028Z"
    },
    "papermill": {
     "duration": 0.040472,
     "end_time": "2025-07-30T20:29:08.936938",
     "exception": false,
     "start_time": "2025-07-30T20:29:08.896466",
     "status": "completed"
    },
    "tags": []
   },
   "outputs": [
    {
     "data": {
      "text/plain": [
       "accuracy                   0.195452\n",
       "balanced accuracy          0.531710\n",
       "f1                         0.238842\n",
       "precision                  0.135916\n",
       "false positive rate        0.920590\n",
       "false negative rate        0.015989\n",
       "selection rate             0.928726\n",
       "count                  89710.000000\n",
       "dtype: float64"
      ]
     },
     "execution_count": 74,
     "metadata": {},
     "output_type": "execute_result"
    }
   ],
   "source": [
    "metric_frame.overall"
   ]
  },
  {
   "cell_type": "markdown",
   "id": "e968fe9d",
   "metadata": {
    "papermill": {
     "duration": 0.02807,
     "end_time": "2025-07-30T20:29:08.994778",
     "exception": false,
     "start_time": "2025-07-30T20:29:08.966708",
     "status": "completed"
    },
    "tags": []
   },
   "source": [
    "By Group"
   ]
  },
  {
   "cell_type": "code",
   "execution_count": 75,
   "id": "ec325bce",
   "metadata": {
    "execution": {
     "iopub.execute_input": "2025-07-30T20:29:09.053195Z",
     "iopub.status.busy": "2025-07-30T20:29:09.052402Z",
     "iopub.status.idle": "2025-07-30T20:29:09.068950Z",
     "shell.execute_reply": "2025-07-30T20:29:09.067797Z"
    },
    "papermill": {
     "duration": 0.047623,
     "end_time": "2025-07-30T20:29:09.070580",
     "exception": false,
     "start_time": "2025-07-30T20:29:09.022957",
     "status": "completed"
    },
    "tags": []
   },
   "outputs": [
    {
     "data": {
      "text/html": [
       "<div>\n",
       "<style scoped>\n",
       "    .dataframe tbody tr th:only-of-type {\n",
       "        vertical-align: middle;\n",
       "    }\n",
       "\n",
       "    .dataframe tbody tr th {\n",
       "        vertical-align: top;\n",
       "    }\n",
       "\n",
       "    .dataframe thead th {\n",
       "        text-align: right;\n",
       "    }\n",
       "</style>\n",
       "<table border=\"1\" class=\"dataframe\">\n",
       "  <thead>\n",
       "    <tr style=\"text-align: right;\">\n",
       "      <th></th>\n",
       "      <th>accuracy</th>\n",
       "      <th>balanced accuracy</th>\n",
       "      <th>f1</th>\n",
       "      <th>precision</th>\n",
       "      <th>false positive rate</th>\n",
       "      <th>false negative rate</th>\n",
       "      <th>selection rate</th>\n",
       "      <th>count</th>\n",
       "    </tr>\n",
       "    <tr>\n",
       "      <th>majmin</th>\n",
       "      <th></th>\n",
       "      <th></th>\n",
       "      <th></th>\n",
       "      <th></th>\n",
       "      <th></th>\n",
       "      <th></th>\n",
       "      <th></th>\n",
       "      <th></th>\n",
       "    </tr>\n",
       "  </thead>\n",
       "  <tbody>\n",
       "    <tr>\n",
       "      <th>majority</th>\n",
       "      <td>0.189201</td>\n",
       "      <td>0.52949</td>\n",
       "      <td>0.244338</td>\n",
       "      <td>0.139327</td>\n",
       "      <td>0.933033</td>\n",
       "      <td>0.007987</td>\n",
       "      <td>0.940827</td>\n",
       "      <td>69170.0</td>\n",
       "    </tr>\n",
       "    <tr>\n",
       "      <th>minority</th>\n",
       "      <td>0.216504</td>\n",
       "      <td>0.53682</td>\n",
       "      <td>0.219052</td>\n",
       "      <td>0.123746</td>\n",
       "      <td>0.879485</td>\n",
       "      <td>0.046875</td>\n",
       "      <td>0.887975</td>\n",
       "      <td>20540.0</td>\n",
       "    </tr>\n",
       "  </tbody>\n",
       "</table>\n",
       "</div>"
      ],
      "text/plain": [
       "          accuracy  balanced accuracy        f1  precision  \\\n",
       "majmin                                                       \n",
       "majority  0.189201            0.52949  0.244338   0.139327   \n",
       "minority  0.216504            0.53682  0.219052   0.123746   \n",
       "\n",
       "          false positive rate  false negative rate  selection rate    count  \n",
       "majmin                                                                       \n",
       "majority             0.933033             0.007987        0.940827  69170.0  \n",
       "minority             0.879485             0.046875        0.887975  20540.0  "
      ]
     },
     "execution_count": 75,
     "metadata": {},
     "output_type": "execute_result"
    }
   ],
   "source": [
    "metric_frame.by_group"
   ]
  },
  {
   "cell_type": "code",
   "execution_count": 76,
   "id": "a9ddbe63",
   "metadata": {
    "execution": {
     "iopub.execute_input": "2025-07-30T20:29:09.130447Z",
     "iopub.status.busy": "2025-07-30T20:29:09.130008Z",
     "iopub.status.idle": "2025-07-30T20:29:11.337507Z",
     "shell.execute_reply": "2025-07-30T20:29:11.336547Z"
    },
    "papermill": {
     "duration": 2.239126,
     "end_time": "2025-07-30T20:29:11.339217",
     "exception": false,
     "start_time": "2025-07-30T20:29:09.100091",
     "status": "completed"
    },
    "tags": []
   },
   "outputs": [
    {
     "data": {
      "text/plain": [
       "array([[<Axes: title={'center': 'accuracy'}, xlabel='majmin'>,\n",
       "        <Axes: title={'center': 'balanced accuracy'}, xlabel='majmin'>,\n",
       "        <Axes: title={'center': 'f1'}, xlabel='majmin'>],\n",
       "       [<Axes: title={'center': 'precision'}, xlabel='majmin'>,\n",
       "        <Axes: title={'center': 'false positive rate'}, xlabel='majmin'>,\n",
       "        <Axes: title={'center': 'false negative rate'}, xlabel='majmin'>],\n",
       "       [<Axes: title={'center': 'selection rate'}, xlabel='majmin'>,\n",
       "        <Axes: title={'center': 'count'}, xlabel='majmin'>,\n",
       "        <Axes: xlabel='majmin'>]], dtype=object)"
      ]
     },
     "execution_count": 76,
     "metadata": {},
     "output_type": "execute_result"
    },
    {
     "data": {
      "image/png": "[encoded data removed]",
      "text/plain": [
       "<Figure size 1200x800 with 9 Axes>"
      ]
     },
     "metadata": {},
     "output_type": "display_data"
    }
   ],
   "source": [
    "# In a graphic\n",
    "metric_frame.by_group.plot.bar(\n",
    "    subplots=True,\n",
    "    layout=[3, 3],\n",
    "    legend=False,\n",
    "    figsize=[12, 8],\n",
    "    title=\"Show all metrics\",\n",
    ")"
   ]
  },
  {
   "cell_type": "markdown",
   "id": "f57a0bac",
   "metadata": {
    "papermill": {
     "duration": 0.030422,
     "end_time": "2025-07-30T20:29:11.401567",
     "exception": false,
     "start_time": "2025-07-30T20:29:11.371145",
     "status": "completed"
    },
    "tags": []
   },
   "source": [
    "# Final Output"
   ]
  },
  {
   "cell_type": "code",
   "execution_count": 77,
   "id": "96d280a3",
   "metadata": {
    "execution": {
     "iopub.execute_input": "2025-07-30T20:29:11.464822Z",
     "iopub.status.busy": "2025-07-30T20:29:11.464080Z",
     "iopub.status.idle": "2025-07-30T20:29:11.470238Z",
     "shell.execute_reply": "2025-07-30T20:29:11.469557Z"
    },
    "papermill": {
     "duration": 0.039598,
     "end_time": "2025-07-30T20:29:11.471717",
     "exception": false,
     "start_time": "2025-07-30T20:29:11.432119",
     "status": "completed"
    },
    "tags": []
   },
   "outputs": [
    {
     "data": {
      "text/plain": [
       "4"
      ]
     },
     "execution_count": 77,
     "metadata": {},
     "output_type": "execute_result"
    }
   ],
   "source": [
    "sub_universes = universe_analysis.generate_sub_universes()\n",
    "len(sub_universes)"
   ]
  },
  {
   "cell_type": "code",
   "execution_count": 78,
   "id": "92adf7ba",
   "metadata": {
    "execution": {
     "iopub.execute_input": "2025-07-30T20:29:11.535966Z",
     "iopub.status.busy": "2025-07-30T20:29:11.535490Z",
     "iopub.status.idle": "2025-07-30T20:29:11.542756Z",
     "shell.execute_reply": "2025-07-30T20:29:11.541806Z"
    },
    "papermill": {
     "duration": 0.041955,
     "end_time": "2025-07-30T20:29:11.544444",
     "exception": false,
     "start_time": "2025-07-30T20:29:11.502489",
     "status": "completed"
    },
    "tags": []
   },
   "outputs": [],
   "source": [
    "def filter_sub_universe_data(sub_universe, org_test):\n",
    "    # Keep all rows — no filtering\n",
    "    keep_rows_mask = np.ones(org_test.shape[0], dtype=bool)\n",
    "\n",
    "    print(f\"[INFO] Keeping all rows: {keep_rows_mask.sum()} rows retained.\")\n",
    "    return keep_rows_mask"
   ]
  },
  {
   "cell_type": "code",
   "execution_count": 79,
   "id": "4a759155",
   "metadata": {
    "execution": {
     "iopub.execute_input": "2025-07-30T20:29:11.584482Z",
     "iopub.status.busy": "2025-07-30T20:29:11.583905Z",
     "iopub.status.idle": "2025-07-30T20:29:19.125893Z",
     "shell.execute_reply": "2025-07-30T20:29:19.124968Z"
    },
    "papermill": {
     "duration": 7.55867,
     "end_time": "2025-07-30T20:29:19.127155",
     "exception": false,
     "start_time": "2025-07-30T20:29:11.568485",
     "status": "completed"
    },
    "tags": []
   },
   "outputs": [
    {
     "name": "stdout",
     "output_type": "stream",
     "text": [
      "Stopping execution_time clock.\n",
      "[INFO] Keeping all rows: 89710 rows retained.\n"
     ]
    },
    {
     "name": "stdout",
     "output_type": "stream",
     "text": [
      "[INFO] Keeping all rows: 89710 rows retained.\n"
     ]
    },
    {
     "name": "stdout",
     "output_type": "stream",
     "text": [
      "[INFO] Keeping all rows: 89710 rows retained.\n"
     ]
    },
    {
     "name": "stdout",
     "output_type": "stream",
     "text": [
      "[INFO] Keeping all rows: 89710 rows retained.\n"
     ]
    },
    {
     "data": {
      "text/html": [
       "<div>\n",
       "<style scoped>\n",
       "    .dataframe tbody tr th:only-of-type {\n",
       "        vertical-align: middle;\n",
       "    }\n",
       "\n",
       "    .dataframe tbody tr th {\n",
       "        vertical-align: top;\n",
       "    }\n",
       "\n",
       "    .dataframe thead th {\n",
       "        text-align: right;\n",
       "    }\n",
       "</style>\n",
       "<table border=\"1\" class=\"dataframe\">\n",
       "  <thead>\n",
       "    <tr style=\"text-align: right;\">\n",
       "      <th></th>\n",
       "      <th>run_no</th>\n",
       "      <th>universe_id</th>\n",
       "      <th>universe_settings</th>\n",
       "      <th>execution_time</th>\n",
       "      <th>test_size_n</th>\n",
       "      <th>test_size_frac</th>\n",
       "      <th>fair_main_equalized_odds_difference</th>\n",
       "      <th>fair_main_equalized_odds_ratio</th>\n",
       "      <th>fair_main_demographic_parity_difference</th>\n",
       "      <th>fair_main_demographic_parity_ratio</th>\n",
       "      <th>...</th>\n",
       "      <th>perf_grp_precision_0</th>\n",
       "      <th>perf_grp_precision_1</th>\n",
       "      <th>perf_grp_false positive rate_0</th>\n",
       "      <th>perf_grp_false positive rate_1</th>\n",
       "      <th>perf_grp_false negative rate_0</th>\n",
       "      <th>perf_grp_false negative rate_1</th>\n",
       "      <th>perf_grp_selection rate_0</th>\n",
       "      <th>perf_grp_selection rate_1</th>\n",
       "      <th>perf_grp_count_0</th>\n",
       "      <th>perf_grp_count_1</th>\n",
       "    </tr>\n",
       "  </thead>\n",
       "  <tbody>\n",
       "    <tr>\n",
       "      <th>0</th>\n",
       "      <td>14</td>\n",
       "      <td>6a9e9f978d7c69739ac2a3506b61bcd2</td>\n",
       "      <td>{\"cutoff\": \"quantile_0.1\", \"eval_fairness_grou...</td>\n",
       "      <td>39.559321</td>\n",
       "      <td>89710</td>\n",
       "      <td>1.0</td>\n",
       "      <td>0.053549</td>\n",
       "      <td>0.942608</td>\n",
       "      <td>0.052852</td>\n",
       "      <td>0.943824</td>\n",
       "      <td>...</td>\n",
       "      <td>NaN</td>\n",
       "      <td>NaN</td>\n",
       "      <td>NaN</td>\n",
       "      <td>NaN</td>\n",
       "      <td>NaN</td>\n",
       "      <td>NaN</td>\n",
       "      <td>NaN</td>\n",
       "      <td>NaN</td>\n",
       "      <td>NaN</td>\n",
       "      <td>NaN</td>\n",
       "    </tr>\n",
       "    <tr>\n",
       "      <th>0</th>\n",
       "      <td>14</td>\n",
       "      <td>6a9e9f978d7c69739ac2a3506b61bcd2</td>\n",
       "      <td>{\"cutoff\": \"quantile_0.1\", \"eval_fairness_grou...</td>\n",
       "      <td>39.559321</td>\n",
       "      <td>89710</td>\n",
       "      <td>1.0</td>\n",
       "      <td>0.053549</td>\n",
       "      <td>0.942608</td>\n",
       "      <td>0.052852</td>\n",
       "      <td>0.943824</td>\n",
       "      <td>...</td>\n",
       "      <td>0.123746</td>\n",
       "      <td>0.139327</td>\n",
       "      <td>0.879485</td>\n",
       "      <td>0.933033</td>\n",
       "      <td>0.046875</td>\n",
       "      <td>0.007987</td>\n",
       "      <td>0.887975</td>\n",
       "      <td>0.940827</td>\n",
       "      <td>20540.0</td>\n",
       "      <td>69170.0</td>\n",
       "    </tr>\n",
       "    <tr>\n",
       "      <th>0</th>\n",
       "      <td>14</td>\n",
       "      <td>6a9e9f978d7c69739ac2a3506b61bcd2</td>\n",
       "      <td>{\"cutoff\": \"quantile_0.25\", \"eval_fairness_gro...</td>\n",
       "      <td>39.559321</td>\n",
       "      <td>89710</td>\n",
       "      <td>1.0</td>\n",
       "      <td>0.084133</td>\n",
       "      <td>0.911581</td>\n",
       "      <td>0.057574</td>\n",
       "      <td>0.924565</td>\n",
       "      <td>...</td>\n",
       "      <td>NaN</td>\n",
       "      <td>NaN</td>\n",
       "      <td>NaN</td>\n",
       "      <td>NaN</td>\n",
       "      <td>NaN</td>\n",
       "      <td>NaN</td>\n",
       "      <td>NaN</td>\n",
       "      <td>NaN</td>\n",
       "      <td>NaN</td>\n",
       "      <td>NaN</td>\n",
       "    </tr>\n",
       "    <tr>\n",
       "      <th>0</th>\n",
       "      <td>14</td>\n",
       "      <td>6a9e9f978d7c69739ac2a3506b61bcd2</td>\n",
       "      <td>{\"cutoff\": \"quantile_0.25\", \"eval_fairness_gro...</td>\n",
       "      <td>39.559321</td>\n",
       "      <td>89710</td>\n",
       "      <td>1.0</td>\n",
       "      <td>0.084133</td>\n",
       "      <td>0.911581</td>\n",
       "      <td>0.057574</td>\n",
       "      <td>0.924565</td>\n",
       "      <td>...</td>\n",
       "      <td>0.141714</td>\n",
       "      <td>0.164741</td>\n",
       "      <td>0.684570</td>\n",
       "      <td>0.734549</td>\n",
       "      <td>0.132601</td>\n",
       "      <td>0.048468</td>\n",
       "      <td>0.705648</td>\n",
       "      <td>0.763221</td>\n",
       "      <td>20540.0</td>\n",
       "      <td>69170.0</td>\n",
       "    </tr>\n",
       "  </tbody>\n",
       "</table>\n",
       "<p>4 rows × 50 columns</p>\n",
       "</div>"
      ],
      "text/plain": [
       "  run_no                       universe_id  \\\n",
       "0     14  6a9e9f978d7c69739ac2a3506b61bcd2   \n",
       "0     14  6a9e9f978d7c69739ac2a3506b61bcd2   \n",
       "0     14  6a9e9f978d7c69739ac2a3506b61bcd2   \n",
       "0     14  6a9e9f978d7c69739ac2a3506b61bcd2   \n",
       "\n",
       "                                   universe_settings  execution_time  \\\n",
       "0  {\"cutoff\": \"quantile_0.1\", \"eval_fairness_grou...       39.559321   \n",
       "0  {\"cutoff\": \"quantile_0.1\", \"eval_fairness_grou...       39.559321   \n",
       "0  {\"cutoff\": \"quantile_0.25\", \"eval_fairness_gro...       39.559321   \n",
       "0  {\"cutoff\": \"quantile_0.25\", \"eval_fairness_gro...       39.559321   \n",
       "\n",
       "   test_size_n  test_size_frac  fair_main_equalized_odds_difference  \\\n",
       "0        89710             1.0                             0.053549   \n",
       "0        89710             1.0                             0.053549   \n",
       "0        89710             1.0                             0.084133   \n",
       "0        89710             1.0                             0.084133   \n",
       "\n",
       "   fair_main_equalized_odds_ratio  fair_main_demographic_parity_difference  \\\n",
       "0                        0.942608                                 0.052852   \n",
       "0                        0.942608                                 0.052852   \n",
       "0                        0.911581                                 0.057574   \n",
       "0                        0.911581                                 0.057574   \n",
       "\n",
       "   fair_main_demographic_parity_ratio  ...  perf_grp_precision_0  \\\n",
       "0                            0.943824  ...                   NaN   \n",
       "0                            0.943824  ...              0.123746   \n",
       "0                            0.924565  ...                   NaN   \n",
       "0                            0.924565  ...              0.141714   \n",
       "\n",
       "   perf_grp_precision_1  perf_grp_false positive rate_0  \\\n",
       "0                   NaN                             NaN   \n",
       "0              0.139327                        0.879485   \n",
       "0                   NaN                             NaN   \n",
       "0              0.164741                        0.684570   \n",
       "\n",
       "   perf_grp_false positive rate_1  perf_grp_false negative rate_0  \\\n",
       "0                             NaN                             NaN   \n",
       "0                        0.933033                        0.046875   \n",
       "0                             NaN                             NaN   \n",
       "0                        0.734549                        0.132601   \n",
       "\n",
       "   perf_grp_false negative rate_1  perf_grp_selection rate_0  \\\n",
       "0                             NaN                        NaN   \n",
       "0                        0.007987                   0.887975   \n",
       "0                             NaN                        NaN   \n",
       "0                        0.048468                   0.705648   \n",
       "\n",
       "   perf_grp_selection rate_1  perf_grp_count_0  perf_grp_count_1  \n",
       "0                        NaN               NaN               NaN  \n",
       "0                   0.940827           20540.0           69170.0  \n",
       "0                        NaN               NaN               NaN  \n",
       "0                   0.763221           20540.0           69170.0  \n",
       "\n",
       "[4 rows x 50 columns]"
      ]
     },
     "execution_count": 79,
     "metadata": {},
     "output_type": "execute_result"
    }
   ],
   "source": [
    "final_output = universe_analysis.generate_final_output(\n",
    "    y_pred_prob=probs_test,\n",
    "    y_test=y_true,\n",
    "    org_test=org_test,\n",
    "    filter_data=filter_sub_universe_data,\n",
    "    cp_metrics_df=cp_metrics_df,\n",
    "    save=True,\n",
    ")\n",
    "final_output"
   ]
  },
  {
   "cell_type": "code",
   "execution_count": null,
   "id": "721ff514-cb11-46f8-b6fc-50392f74b5cb",
   "metadata": {
    "papermill": {
     "duration": 0.015546,
     "end_time": "2025-07-30T20:29:19.161557",
     "exception": false,
     "start_time": "2025-07-30T20:29:19.146011",
     "status": "completed"
    },
    "tags": []
   },
   "outputs": [],
   "source": []
  }
 ],
 "metadata": {
  "celltoolbar": "Tags",
  "kernelspec": {
   "display_name": "Python (CMA Fairness)",
   "language": "python",
   "name": "cma_fair_env"
  },
  "language_info": {
   "codemirror_mode": {
    "name": "ipython",
    "version": 3
   },
   "file_extension": ".py",
   "mimetype": "text/x-python",
   "name": "python",
   "nbconvert_exporter": "python",
   "pygments_lexer": "ipython3",
   "version": "3.10.12"
  },
  "papermill": {
   "default_parameters": {},
   "duration": 52.814311,
   "end_time": "2025-07-30T20:29:19.794416",
   "environment_variables": {},
   "exception": null,
   "input_path": "universe_analysis.ipynb",
   "output_path": "output/runs/14/notebooks/m_14-6a9e9f978d7c69739ac2a3506b61bcd2.ipynb",
   "parameters": {
    "output_dir": "output",
    "run_no": "14",
    "seed": "2023",
    "universe": "{\"cutoff\": [\"quantile_0.1\", \"quantile_0.25\"], \"eval_fairness_grouping\": [\"majority-minority\", \"nationality-all\"], \"exclude_features\": \"sex\", \"exclude_subgroups\": \"keep-all\", \"model\": \"rf\", \"scale\": \"scale\", \"training_size\": \"25k\", \"training_year\": \"2010_14\"}",
    "universe_id": "6a9e9f978d7c69739ac2a3506b61bcd2"
   },
   "start_time": "2025-07-30T20:28:26.980105",
   "version": "2.6.0"
  }
 },
 "nbformat": 4,
 "nbformat_minor": 5
}