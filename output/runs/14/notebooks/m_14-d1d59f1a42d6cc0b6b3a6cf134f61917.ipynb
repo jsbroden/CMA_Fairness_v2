{
 "cells": [
  {
   "cell_type": "code",
   "execution_count": 1,
   "id": "f159f837-637b-42ba-96b5-ec9a68c44524",
   "metadata": {
    "execution": {
     "iopub.execute_input": "2025-07-30T21:40:59.920532Z",
     "iopub.status.busy": "2025-07-30T21:40:59.919751Z",
     "iopub.status.idle": "2025-07-30T21:40:59.934756Z",
     "shell.execute_reply": "2025-07-30T21:40:59.933711Z"
    },
    "papermill": {
     "duration": 0.038159,
     "end_time": "2025-07-30T21:40:59.936711",
     "exception": false,
     "start_time": "2025-07-30T21:40:59.898552",
     "status": "completed"
    },
    "tags": []
   },
   "outputs": [
    {
     "name": "stdout",
     "output_type": "stream",
     "text": [
      "/dss/dsshome1/0C/ra93lal2/cma/CMA_Fairness_v2\n"
     ]
    },
    {
     "name": "stderr",
     "output_type": "stream",
     "text": [
      "/dss/dsshome1/0C/ra93lal2/.local/share/virtualenvs/CMA_Fairness_v2-3j10GkSs/lib/python3.10/site-packages/IPython/core/magics/osm.py:393: UserWarning: This is now an optional IPython functionality, using bookmarks requires you to install the `pickleshare` library.\n",
      "  bkms = self.shell.db.get('bookmarks', {})\n",
      "/dss/dsshome1/0C/ra93lal2/.local/share/virtualenvs/CMA_Fairness_v2-3j10GkSs/lib/python3.10/site-packages/IPython/core/magics/osm.py:417: UserWarning: This is now an optional IPython functionality, setting dhist requires you to install the `pickleshare` library.\n",
      "  self.shell.db['dhist'] = compress_dhist(dhist)[-100:]\n"
     ]
    }
   ],
   "source": [
    "%cd ~/cma/CMA_Fairness_v2"
   ]
  },
  {
   "cell_type": "markdown",
   "id": "de2603b9",
   "metadata": {
    "papermill": {
     "duration": 0.019461,
     "end_time": "2025-07-30T21:40:59.977220",
     "exception": false,
     "start_time": "2025-07-30T21:40:59.957759",
     "status": "completed"
    },
    "tags": []
   },
   "source": [
    "The following cell holds the definition of our parameters, these values can be overriden by rendering the with e.g. the following command:\n",
    "\n",
    "papermill -p alpha 0.2 -p ratio 0.3 universe_analysis.ipynb output/test_run.ipynb"
   ]
  },
  {
   "cell_type": "code",
   "execution_count": 2,
   "id": "a80968a0-40bb-4fa9-85ef-2d5eefb01975",
   "metadata": {
    "execution": {
     "iopub.execute_input": "2025-07-30T21:41:00.020025Z",
     "iopub.status.busy": "2025-07-30T21:41:00.018946Z",
     "iopub.status.idle": "2025-07-30T21:41:00.025315Z",
     "shell.execute_reply": "2025-07-30T21:41:00.024290Z"
    },
    "papermill": {
     "duration": 0.029821,
     "end_time": "2025-07-30T21:41:00.028243",
     "exception": false,
     "start_time": "2025-07-30T21:40:59.998422",
     "status": "completed"
    },
    "tags": []
   },
   "outputs": [
    {
     "name": "stdout",
     "output_type": "stream",
     "text": [
      "Current working directory: /dss/dsshome1/0C/ra93lal2/cma/CMA_Fairness_v2\n"
     ]
    }
   ],
   "source": [
    "import os\n",
    "print(\"Current working directory:\", os.getcwd())"
   ]
  },
  {
   "cell_type": "code",
   "execution_count": 3,
   "id": "2dce4c03",
   "metadata": {
    "execution": {
     "iopub.execute_input": "2025-07-30T21:41:00.086903Z",
     "iopub.status.busy": "2025-07-30T21:41:00.086347Z",
     "iopub.status.idle": "2025-07-30T21:41:00.093483Z",
     "shell.execute_reply": "2025-07-30T21:41:00.092363Z"
    },
    "papermill": {
     "duration": 0.038848,
     "end_time": "2025-07-30T21:41:00.095462",
     "exception": false,
     "start_time": "2025-07-30T21:41:00.056614",
     "status": "completed"
    },
    "tags": [
     "parameters"
    ]
   },
   "outputs": [],
   "source": [
    "run_no = 0\n",
    "universe_id = \"test\"\n",
    "universe = {\n",
    "    \"training_size\": \"25k\", # \"25k\", \"5k\", \"1k\"\n",
    "    \"training_year\": \"2014\", # \"2014\", \"2012_14\", \"2010_14\"\n",
    "    \"scale\": \"scale\", # \"scale\", \"do-not-scale\",\n",
    "    #\"stratify_split\": \"target\", # \"none\", \"target\", \"protected-attribute\", \"both\",\n",
    "    \"model\": \"elasticnet\", # \"logreg\", \"penalized_logreg\", \"rf\", \"gbm\", \"elasticnet\"\n",
    "    \"cutoff\": [\"quantile_0.15\", \"quantile_0.30\"],\n",
    "    \"exclude_features\": \"age\", # \"none\", \"nationality\", \"sex\", \"nationality-sex\", \"age\"\n",
    "    \"exclude_subgroups\": \"keep-all\", # \"keep-all\", \"drop-non-german\"\n",
    "    \"eval_fairness_grouping\": [\"majority-minority\", \"nationality-all\"]\n",
    "}\n",
    "\n",
    "output_dir=\"./output\"\n",
    "seed=0"
   ]
  },
  {
   "cell_type": "code",
   "execution_count": 4,
   "id": "9eb33164",
   "metadata": {
    "execution": {
     "iopub.execute_input": "2025-07-30T21:41:00.152444Z",
     "iopub.status.busy": "2025-07-30T21:41:00.151672Z",
     "iopub.status.idle": "2025-07-30T21:41:00.158779Z",
     "shell.execute_reply": "2025-07-30T21:41:00.157206Z"
    },
    "papermill": {
     "duration": 0.036987,
     "end_time": "2025-07-30T21:41:00.160988",
     "exception": false,
     "start_time": "2025-07-30T21:41:00.124001",
     "status": "completed"
    },
    "tags": [
     "injected-parameters"
    ]
   },
   "outputs": [],
   "source": [
    "# Parameters\n",
    "universe_id = \"d1d59f1a42d6cc0b6b3a6cf134f61917\"\n",
    "run_no = \"14\"\n",
    "universe = \"{\\\"cutoff\\\": [\\\"quantile_0.1\\\", \\\"quantile_0.25\\\"], \\\"eval_fairness_grouping\\\": [\\\"majority-minority\\\", \\\"nationality-all\\\"], \\\"exclude_features\\\": \\\"age\\\", \\\"exclude_subgroups\\\": \\\"drop-non-german\\\", \\\"model\\\": \\\"rf\\\", \\\"scale\\\": \\\"do-not-scale\\\", \\\"training_size\\\": \\\"1k\\\", \\\"training_year\\\": \\\"2012_14\\\"}\"\n",
    "output_dir = \"output\"\n",
    "seed = \"2023\"\n"
   ]
  },
  {
   "cell_type": "code",
   "execution_count": 5,
   "id": "1650acaf",
   "metadata": {
    "execution": {
     "iopub.execute_input": "2025-07-30T21:41:00.216188Z",
     "iopub.status.busy": "2025-07-30T21:41:00.215682Z",
     "iopub.status.idle": "2025-07-30T21:41:00.220727Z",
     "shell.execute_reply": "2025-07-30T21:41:00.219826Z"
    },
    "papermill": {
     "duration": 0.034682,
     "end_time": "2025-07-30T21:41:00.222686",
     "exception": false,
     "start_time": "2025-07-30T21:41:00.188004",
     "status": "completed"
    },
    "tags": []
   },
   "outputs": [],
   "source": [
    "import json\n",
    "# Parse universe into dict if it is passed as a string\n",
    "if isinstance(universe, str):\n",
    "    universe = json.loads(universe)"
   ]
  },
  {
   "cell_type": "code",
   "execution_count": 6,
   "id": "16620c48",
   "metadata": {
    "execution": {
     "iopub.execute_input": "2025-07-30T21:41:00.274391Z",
     "iopub.status.busy": "2025-07-30T21:41:00.273914Z",
     "iopub.status.idle": "2025-07-30T21:41:00.318215Z",
     "shell.execute_reply": "2025-07-30T21:41:00.317306Z"
    },
    "papermill": {
     "duration": 0.069752,
     "end_time": "2025-07-30T21:41:00.319917",
     "exception": false,
     "start_time": "2025-07-30T21:41:00.250165",
     "status": "completed"
    },
    "tags": []
   },
   "outputs": [],
   "source": [
    "# Auto-reload the custom package\n",
    "%load_ext autoreload\n",
    "%autoreload 1\n",
    "%aimport fairness_multiverse"
   ]
  },
  {
   "cell_type": "code",
   "execution_count": 7,
   "id": "01c5c9f3",
   "metadata": {
    "execution": {
     "iopub.execute_input": "2025-07-30T21:41:00.360570Z",
     "iopub.status.busy": "2025-07-30T21:41:00.359886Z",
     "iopub.status.idle": "2025-07-30T21:41:02.744106Z",
     "shell.execute_reply": "2025-07-30T21:41:02.742777Z"
    },
    "papermill": {
     "duration": 2.405472,
     "end_time": "2025-07-30T21:41:02.745972",
     "exception": false,
     "start_time": "2025-07-30T21:41:00.340500",
     "status": "completed"
    },
    "tags": []
   },
   "outputs": [],
   "source": [
    "from fairness_multiverse.universe import UniverseAnalysis\n",
    "\n",
    "universe_analysis = UniverseAnalysis(\n",
    "    run_no = run_no,\n",
    "    universe_id = universe_id,\n",
    "    universe = universe,\n",
    "    output_dir=output_dir,\n",
    ")"
   ]
  },
  {
   "cell_type": "code",
   "execution_count": 8,
   "id": "106241f5",
   "metadata": {
    "execution": {
     "iopub.execute_input": "2025-07-30T21:41:02.802213Z",
     "iopub.status.busy": "2025-07-30T21:41:02.801611Z",
     "iopub.status.idle": "2025-07-30T21:41:02.809104Z",
     "shell.execute_reply": "2025-07-30T21:41:02.808104Z"
    },
    "papermill": {
     "duration": 0.030317,
     "end_time": "2025-07-30T21:41:02.811112",
     "exception": false,
     "start_time": "2025-07-30T21:41:02.780795",
     "status": "completed"
    },
    "tags": []
   },
   "outputs": [
    {
     "name": "stdout",
     "output_type": "stream",
     "text": [
      "Using Seed: 2023\n"
     ]
    }
   ],
   "source": [
    "import numpy as np\n",
    "parsed_seed = int(seed)\n",
    "np.random.seed(parsed_seed)\n",
    "print(f\"Using Seed: {parsed_seed}\")"
   ]
  },
  {
   "cell_type": "markdown",
   "id": "e0ebdc57",
   "metadata": {
    "papermill": {
     "duration": 0.02269,
     "end_time": "2025-07-30T21:41:02.857694",
     "exception": false,
     "start_time": "2025-07-30T21:41:02.835004",
     "status": "completed"
    },
    "tags": []
   },
   "source": [
    "# Loading Data"
   ]
  },
  {
   "cell_type": "markdown",
   "id": "681925a3",
   "metadata": {
    "papermill": {
     "duration": 0.021535,
     "end_time": "2025-07-30T21:41:02.901295",
     "exception": false,
     "start_time": "2025-07-30T21:41:02.879760",
     "status": "completed"
    },
    "tags": []
   },
   "source": [
    "Load siab_train, siab_test, siab_calib and/or \n",
    "load siab_train_features, siab_train_labels"
   ]
  },
  {
   "cell_type": "code",
   "execution_count": 9,
   "id": "f0496b8a",
   "metadata": {
    "execution": {
     "iopub.execute_input": "2025-07-30T21:41:02.946567Z",
     "iopub.status.busy": "2025-07-30T21:41:02.946169Z",
     "iopub.status.idle": "2025-07-30T21:41:14.704092Z",
     "shell.execute_reply": "2025-07-30T21:41:14.703166Z"
    },
    "papermill": {
     "duration": 11.782002,
     "end_time": "2025-07-30T21:41:14.705377",
     "exception": false,
     "start_time": "2025-07-30T21:41:02.923375",
     "status": "completed"
    },
    "tags": []
   },
   "outputs": [
    {
     "name": "stdout",
     "output_type": "stream",
     "text": [
      "Loading SIAB data from cache: data/siab_cached.csv.gz\n"
     ]
    },
    {
     "name": "stdout",
     "output_type": "stream",
     "text": [
      "(643690, 164)\n"
     ]
    }
   ],
   "source": [
    "from pathlib import Path\n",
    "import pandas as pd\n",
    "\n",
    "# File paths\n",
    "raw_file = Path(\"data/raw/siab.csv\")\n",
    "cache_file = Path(\"data/siab_cached.csv.gz\")\n",
    "\n",
    "# Ensure cache directory exists\n",
    "cache_file.parent.mkdir(parents=True, exist_ok=True)\n",
    "\n",
    "# Load with simple caching\n",
    "if cache_file.exists():\n",
    "    print(f\"Loading SIAB data from cache: {cache_file}\")\n",
    "    siab = pd.read_csv(cache_file, compression='gzip')\n",
    "else:\n",
    "    print(f\"Cache not found. Reading raw SIAB data: {raw_file}\")\n",
    "    siab = pd.read_csv(raw_file)\n",
    "    siab.to_csv(cache_file, index=False, compression='gzip')\n",
    "    print(f\"Cached SIAB data to: {cache_file}\")\n",
    "\n",
    "# Now use `siab` DataFrame as needed\n",
    "print(siab.shape)"
   ]
  },
  {
   "cell_type": "code",
   "execution_count": 10,
   "id": "db0ca512-5f53-4dba-abdb-a2888bca41ba",
   "metadata": {
    "execution": {
     "iopub.execute_input": "2025-07-30T21:41:14.730804Z",
     "iopub.status.busy": "2025-07-30T21:41:14.730290Z",
     "iopub.status.idle": "2025-07-30T21:41:14.735419Z",
     "shell.execute_reply": "2025-07-30T21:41:14.734667Z"
    },
    "papermill": {
     "duration": 0.01769,
     "end_time": "2025-07-30T21:41:14.736713",
     "exception": false,
     "start_time": "2025-07-30T21:41:14.719023",
     "status": "completed"
    },
    "tags": []
   },
   "outputs": [],
   "source": [
    "#siab"
   ]
  },
  {
   "cell_type": "code",
   "execution_count": 11,
   "id": "a0edb063",
   "metadata": {
    "execution": {
     "iopub.execute_input": "2025-07-30T21:41:14.760250Z",
     "iopub.status.busy": "2025-07-30T21:41:14.759755Z",
     "iopub.status.idle": "2025-07-30T21:41:14.764302Z",
     "shell.execute_reply": "2025-07-30T21:41:14.763423Z"
    },
    "papermill": {
     "duration": 0.017406,
     "end_time": "2025-07-30T21:41:14.765680",
     "exception": false,
     "start_time": "2025-07-30T21:41:14.748274",
     "status": "completed"
    },
    "tags": []
   },
   "outputs": [],
   "source": [
    "#import pandas as pd\n",
    "#\n",
    "#X_train = pd.read_csv(\"./data/X_train.csv\")\n",
    "#y_train = pd.read_csv(\"./data/y_train.csv\")"
   ]
  },
  {
   "cell_type": "code",
   "execution_count": 12,
   "id": "63d08085",
   "metadata": {
    "execution": {
     "iopub.execute_input": "2025-07-30T21:41:14.793326Z",
     "iopub.status.busy": "2025-07-30T21:41:14.792824Z",
     "iopub.status.idle": "2025-07-30T21:41:14.798194Z",
     "shell.execute_reply": "2025-07-30T21:41:14.797207Z"
    },
    "papermill": {
     "duration": 0.023169,
     "end_time": "2025-07-30T21:41:14.800448",
     "exception": false,
     "start_time": "2025-07-30T21:41:14.777279",
     "status": "completed"
    },
    "tags": []
   },
   "outputs": [],
   "source": [
    "#X_test = pd.read_csv(\"./data/X_test.csv\")\n",
    "#y_true = pd.read_csv(\"./data/y_test.csv\")"
   ]
  },
  {
   "cell_type": "code",
   "execution_count": 13,
   "id": "98a8d0fa-1d3d-4ed8-bb2c-281470e24add",
   "metadata": {
    "execution": {
     "iopub.execute_input": "2025-07-30T21:41:14.847838Z",
     "iopub.status.busy": "2025-07-30T21:41:14.847383Z",
     "iopub.status.idle": "2025-07-30T21:41:14.852498Z",
     "shell.execute_reply": "2025-07-30T21:41:14.851552Z"
    },
    "papermill": {
     "duration": 0.03051,
     "end_time": "2025-07-30T21:41:14.853865",
     "exception": false,
     "start_time": "2025-07-30T21:41:14.823355",
     "status": "completed"
    },
    "tags": []
   },
   "outputs": [],
   "source": [
    "# Calibration data for conformal\n",
    "#X_calib = pd.read_csv(\"./data/X_calib.csv\")\n",
    "#y_calib = pd.read_csv(\"./data/y_calib.csv\")"
   ]
  },
  {
   "cell_type": "markdown",
   "id": "997051c5-15bd-4b69-9786-c3001a3ce484",
   "metadata": {
    "papermill": {
     "duration": 0.010611,
     "end_time": "2025-07-30T21:41:14.876368",
     "exception": false,
     "start_time": "2025-07-30T21:41:14.865757",
     "status": "completed"
    },
    "tags": []
   },
   "source": [
    "# Splitting Data and Setting Training Data Size"
   ]
  },
  {
   "cell_type": "code",
   "execution_count": 14,
   "id": "e993b61f-042d-41a6-8c81-f55681f86335",
   "metadata": {
    "execution": {
     "iopub.execute_input": "2025-07-30T21:41:14.899852Z",
     "iopub.status.busy": "2025-07-30T21:41:14.899507Z",
     "iopub.status.idle": "2025-07-30T21:41:14.909067Z",
     "shell.execute_reply": "2025-07-30T21:41:14.908318Z"
    },
    "papermill": {
     "duration": 0.022975,
     "end_time": "2025-07-30T21:41:14.910397",
     "exception": false,
     "start_time": "2025-07-30T21:41:14.887422",
     "status": "completed"
    },
    "tags": []
   },
   "outputs": [],
   "source": [
    "def sample_by_year_size(df,\n",
    "                        training_year: str,\n",
    "                        training_size: str,\n",
    "                        random_state: int = 42):\n",
    "    # --- parse training_year into a list of int years ---\n",
    "    if \"_\" in training_year:\n",
    "        start_str, end_str = training_year.split(\"_\", 1)\n",
    "        start = int(start_str)\n",
    "        end   = int(end_str) if len(end_str) == 4 else (int(end_str) + (start // 100)*100)\n",
    "        years = list(range(start, end + 1))\n",
    "    else:\n",
    "        years = [int(training_year)]\n",
    "\n",
    "    df = df[df[\"year\"].isin(years)].reset_index(drop=True)\n",
    "\n",
    "    # --- map training_size to total number of samples ---\n",
    "    total_map = {\"25k\": 25_000, \"5k\": 5_000, \"1k\": 1_000}\n",
    "    if training_size not in total_map:\n",
    "        return df  # e.g. \"all\"\n",
    "\n",
    "    total_samples = total_map[training_size]\n",
    "    n_years       = len(years)\n",
    "    base          = total_samples // n_years\n",
    "    remainder     = total_samples % n_years\n",
    "\n",
    "    # --- build a dict: year -> how many to sample ---\n",
    "    # give +1 to the first `remainder` years in ascending order\n",
    "    quotas = {\n",
    "        year: base + (1 if idx < remainder else 0)\n",
    "        for idx, year in enumerate(sorted(years))\n",
    "    }\n",
    "\n",
    "    # --- sample per‐year according to the quota dict ---\n",
    "    sampled = (\n",
    "        df\n",
    "        .groupby(\"year\", group_keys=False)\n",
    "        .apply(lambda grp: grp.sample(\n",
    "            n=min(len(grp), quotas[grp.name]),\n",
    "            random_state=random_state))\n",
    "        .reset_index(drop=True)\n",
    "    )\n",
    "\n",
    "    return sampled"
   ]
  },
  {
   "cell_type": "code",
   "execution_count": 15,
   "id": "c0ccd338-0e02-41f3-a09d-f56f9266e3fb",
   "metadata": {
    "execution": {
     "iopub.execute_input": "2025-07-30T21:41:14.939525Z",
     "iopub.status.busy": "2025-07-30T21:41:14.939002Z",
     "iopub.status.idle": "2025-07-30T21:41:14.943379Z",
     "shell.execute_reply": "2025-07-30T21:41:14.942738Z"
    },
    "papermill": {
     "duration": 0.01773,
     "end_time": "2025-07-30T21:41:14.944684",
     "exception": false,
     "start_time": "2025-07-30T21:41:14.926954",
     "status": "completed"
    },
    "tags": []
   },
   "outputs": [],
   "source": [
    "#universe[\"training_size\"]"
   ]
  },
  {
   "cell_type": "code",
   "execution_count": 16,
   "id": "ca707fd7-8047-4acd-bfa5-66248fbbf8e6",
   "metadata": {
    "execution": {
     "iopub.execute_input": "2025-07-30T21:41:14.967803Z",
     "iopub.status.busy": "2025-07-30T21:41:14.967312Z",
     "iopub.status.idle": "2025-07-30T21:41:15.058921Z",
     "shell.execute_reply": "2025-07-30T21:41:15.058177Z"
    },
    "papermill": {
     "duration": 0.104784,
     "end_time": "2025-07-30T21:41:15.060598",
     "exception": false,
     "start_time": "2025-07-30T21:41:14.955814",
     "status": "completed"
    },
    "tags": []
   },
   "outputs": [],
   "source": [
    "#universe[\"training_year\"]"
   ]
  },
  {
   "cell_type": "code",
   "execution_count": 17,
   "id": "aea9c6ef-6f46-42c8-85eb-5a62025c1508",
   "metadata": {
    "execution": {
     "iopub.execute_input": "2025-07-30T21:41:15.085619Z",
     "iopub.status.busy": "2025-07-30T21:41:15.085277Z",
     "iopub.status.idle": "2025-07-30T21:41:15.600071Z",
     "shell.execute_reply": "2025-07-30T21:41:15.599318Z"
    },
    "papermill": {
     "duration": 0.529025,
     "end_time": "2025-07-30T21:41:15.601640",
     "exception": false,
     "start_time": "2025-07-30T21:41:15.072615",
     "status": "completed"
    },
    "tags": []
   },
   "outputs": [],
   "source": [
    "siab_train = sample_by_year_size(siab,\n",
    "                               training_year=universe[\"training_year\"],\n",
    "                               training_size=universe[\"training_size\"])"
   ]
  },
  {
   "cell_type": "code",
   "execution_count": 18,
   "id": "8d3afb32-789d-442c-8d5d-9f5aa8dd2eed",
   "metadata": {
    "execution": {
     "iopub.execute_input": "2025-07-30T21:41:15.625589Z",
     "iopub.status.busy": "2025-07-30T21:41:15.624769Z",
     "iopub.status.idle": "2025-07-30T21:41:15.629264Z",
     "shell.execute_reply": "2025-07-30T21:41:15.628500Z"
    },
    "papermill": {
     "duration": 0.017641,
     "end_time": "2025-07-30T21:41:15.630516",
     "exception": false,
     "start_time": "2025-07-30T21:41:15.612875",
     "status": "completed"
    },
    "tags": []
   },
   "outputs": [],
   "source": [
    "#siab_train.shape"
   ]
  },
  {
   "cell_type": "code",
   "execution_count": 19,
   "id": "d582db68-1a4c-47fb-84fc-08518dc1975a",
   "metadata": {
    "execution": {
     "iopub.execute_input": "2025-07-30T21:41:15.655120Z",
     "iopub.status.busy": "2025-07-30T21:41:15.654622Z",
     "iopub.status.idle": "2025-07-30T21:41:15.659147Z",
     "shell.execute_reply": "2025-07-30T21:41:15.658415Z"
    },
    "papermill": {
     "duration": 0.017843,
     "end_time": "2025-07-30T21:41:15.660382",
     "exception": false,
     "start_time": "2025-07-30T21:41:15.642539",
     "status": "completed"
    },
    "tags": []
   },
   "outputs": [],
   "source": [
    "#display(siab_train.groupby(\"year\").size())"
   ]
  },
  {
   "cell_type": "code",
   "execution_count": 20,
   "id": "a561edb4-d032-42cb-8256-22eac1111c64",
   "metadata": {
    "execution": {
     "iopub.execute_input": "2025-07-30T21:41:15.684651Z",
     "iopub.status.busy": "2025-07-30T21:41:15.684148Z",
     "iopub.status.idle": "2025-07-30T21:41:15.893101Z",
     "shell.execute_reply": "2025-07-30T21:41:15.892324Z"
    },
    "papermill": {
     "duration": 0.22233,
     "end_time": "2025-07-30T21:41:15.894624",
     "exception": false,
     "start_time": "2025-07-30T21:41:15.672294",
     "status": "completed"
    },
    "tags": []
   },
   "outputs": [],
   "source": [
    "#siab_train = siab_s[siab_s.year < 2015]\n",
    "siab_calib = siab[siab.year == 2015]\n",
    "siab_test = siab[siab.year == 2016]"
   ]
  },
  {
   "cell_type": "code",
   "execution_count": 21,
   "id": "472de16f-c3db-4916-846b-1f0de9cf1746",
   "metadata": {
    "execution": {
     "iopub.execute_input": "2025-07-30T21:41:15.919581Z",
     "iopub.status.busy": "2025-07-30T21:41:15.919150Z",
     "iopub.status.idle": "2025-07-30T21:41:15.924973Z",
     "shell.execute_reply": "2025-07-30T21:41:15.923978Z"
    },
    "papermill": {
     "duration": 0.019093,
     "end_time": "2025-07-30T21:41:15.926162",
     "exception": false,
     "start_time": "2025-07-30T21:41:15.907069",
     "status": "completed"
    },
    "tags": []
   },
   "outputs": [],
   "source": [
    "X_train = siab_train.iloc[:,4:164]\n",
    "y_train = siab_train.iloc[:, [3]]"
   ]
  },
  {
   "cell_type": "code",
   "execution_count": 22,
   "id": "828c96af-f43a-4ed6-ba47-8ac73a47d56c",
   "metadata": {
    "execution": {
     "iopub.execute_input": "2025-07-30T21:41:15.955618Z",
     "iopub.status.busy": "2025-07-30T21:41:15.955029Z",
     "iopub.status.idle": "2025-07-30T21:41:16.005331Z",
     "shell.execute_reply": "2025-07-30T21:41:16.004380Z"
    },
    "papermill": {
     "duration": 0.064474,
     "end_time": "2025-07-30T21:41:16.006772",
     "exception": false,
     "start_time": "2025-07-30T21:41:15.942298",
     "status": "completed"
    },
    "tags": []
   },
   "outputs": [],
   "source": [
    "X_calib = siab_calib.iloc[:,4:164]\n",
    "y_calib = siab_calib.iloc[:, [3]]"
   ]
  },
  {
   "cell_type": "code",
   "execution_count": 23,
   "id": "c34be9c3-6bd6-476e-acd3-845840e303be",
   "metadata": {
    "execution": {
     "iopub.execute_input": "2025-07-30T21:41:16.033606Z",
     "iopub.status.busy": "2025-07-30T21:41:16.033058Z",
     "iopub.status.idle": "2025-07-30T21:41:16.084207Z",
     "shell.execute_reply": "2025-07-30T21:41:16.083270Z"
    },
    "papermill": {
     "duration": 0.065493,
     "end_time": "2025-07-30T21:41:16.085637",
     "exception": false,
     "start_time": "2025-07-30T21:41:16.020144",
     "status": "completed"
    },
    "tags": []
   },
   "outputs": [],
   "source": [
    "X_test = siab_test.iloc[:,4:164]\n",
    "y_true = siab_test.iloc[:, [3]]"
   ]
  },
  {
   "cell_type": "markdown",
   "id": "9901737e-04df-44f0-9100-f5ad144ed040",
   "metadata": {
    "papermill": {
     "duration": 0.012604,
     "end_time": "2025-07-30T21:41:16.111111",
     "exception": false,
     "start_time": "2025-07-30T21:41:16.098507",
     "status": "completed"
    },
    "tags": []
   },
   "source": [
    "# Splitting Data and Setting Training Data Size OLD VERSION"
   ]
  },
  {
   "cell_type": "code",
   "execution_count": 24,
   "id": "acbc8f7d-8fc8-4e86-8c59-5dcb0f58384b",
   "metadata": {
    "execution": {
     "iopub.execute_input": "2025-07-30T21:41:16.136564Z",
     "iopub.status.busy": "2025-07-30T21:41:16.135979Z",
     "iopub.status.idle": "2025-07-30T21:41:16.140807Z",
     "shell.execute_reply": "2025-07-30T21:41:16.139973Z"
    },
    "papermill": {
     "duration": 0.018706,
     "end_time": "2025-07-30T21:41:16.142206",
     "exception": false,
     "start_time": "2025-07-30T21:41:16.123500",
     "status": "completed"
    },
    "tags": []
   },
   "outputs": [],
   "source": [
    "#def sample_by_year(df, training_size, random_state=42):\n",
    "#    if training_size == \"2014\":\n",
    "#        return df[df[\"year\"] == 2014].reset_index(drop=True)\n",
    "#    \n",
    "#    size_map = {\n",
    "#        \"25k\": 5000,\n",
    "#        \"5k\": 1000,\n",
    "#        \"1k\": 200\n",
    "#    }\n",
    "#\n",
    "#    if training_size not in size_map:\n",
    "#        return df.reset_index(drop=True)  # use all data\n",
    "#\n",
    "#    n_per_year = size_map[training_size]\n",
    "#    grouped = df.groupby(\"year\")\n",
    "#    sampled = grouped.apply(lambda x: x.sample(n=min(n_per_year, len(x)), random_state=random_state))\n",
    "#    return sampled.reset_index(drop=True)"
   ]
  },
  {
   "cell_type": "code",
   "execution_count": 25,
   "id": "6d931f52-beaf-43ff-9e78-9d44a448d54e",
   "metadata": {
    "execution": {
     "iopub.execute_input": "2025-07-30T21:41:16.167891Z",
     "iopub.status.busy": "2025-07-30T21:41:16.167194Z",
     "iopub.status.idle": "2025-07-30T21:41:16.171790Z",
     "shell.execute_reply": "2025-07-30T21:41:16.171049Z"
    },
    "papermill": {
     "duration": 0.018458,
     "end_time": "2025-07-30T21:41:16.173082",
     "exception": false,
     "start_time": "2025-07-30T21:41:16.154624",
     "status": "completed"
    },
    "tags": []
   },
   "outputs": [],
   "source": [
    "#siab_s = sample_by_year(siab, universe[\"training_size\"])"
   ]
  },
  {
   "cell_type": "code",
   "execution_count": 26,
   "id": "5db0a40e-a4e2-4920-be85-b12ae061d70d",
   "metadata": {
    "execution": {
     "iopub.execute_input": "2025-07-30T21:41:16.198040Z",
     "iopub.status.busy": "2025-07-30T21:41:16.197525Z",
     "iopub.status.idle": "2025-07-30T21:41:16.202255Z",
     "shell.execute_reply": "2025-07-30T21:41:16.201467Z"
    },
    "papermill": {
     "duration": 0.018204,
     "end_time": "2025-07-30T21:41:16.203572",
     "exception": false,
     "start_time": "2025-07-30T21:41:16.185368",
     "status": "completed"
    },
    "tags": []
   },
   "outputs": [],
   "source": [
    "#display(siab_s.groupby(\"year\").size())"
   ]
  },
  {
   "cell_type": "code",
   "execution_count": 27,
   "id": "e6c733c5",
   "metadata": {
    "execution": {
     "iopub.execute_input": "2025-07-30T21:41:16.229373Z",
     "iopub.status.busy": "2025-07-30T21:41:16.228879Z",
     "iopub.status.idle": "2025-07-30T21:41:16.319528Z",
     "shell.execute_reply": "2025-07-30T21:41:16.318739Z"
    },
    "papermill": {
     "duration": 0.104301,
     "end_time": "2025-07-30T21:41:16.321088",
     "exception": false,
     "start_time": "2025-07-30T21:41:16.216787",
     "status": "completed"
    },
    "tags": []
   },
   "outputs": [],
   "source": [
    "# Auxiliary data needed downstream in the pipeline\n",
    "\n",
    "org_train = X_train.copy()\n",
    "org_test = X_test.copy()\n",
    "org_calib = X_calib.copy()"
   ]
  },
  {
   "cell_type": "code",
   "execution_count": 28,
   "id": "1466abac-c6da-4492-a62f-4240ae3783af",
   "metadata": {
    "execution": {
     "iopub.execute_input": "2025-07-30T21:41:16.345649Z",
     "iopub.status.busy": "2025-07-30T21:41:16.345155Z",
     "iopub.status.idle": "2025-07-30T21:41:16.349966Z",
     "shell.execute_reply": "2025-07-30T21:41:16.349173Z"
    },
    "papermill": {
     "duration": 0.01837,
     "end_time": "2025-07-30T21:41:16.351420",
     "exception": false,
     "start_time": "2025-07-30T21:41:16.333050",
     "status": "completed"
    },
    "tags": []
   },
   "outputs": [],
   "source": [
    "# put in other script?\n",
    "# Group sizes\n",
    "\n",
    "#def calculate_percentages(df, df_name):\n",
    "#    total_entries = len(df)\n",
    "#\n",
    "#    female_pct = (df['frau1'] == 1).mean() * 100\n",
    "#    non_german_pct = ((df['maxdeutsch1'] == 0) & (df['maxdeutsch.Missing.'] == 0)).mean() * 100\n",
    "#    non_german_male_pct = ((df['frau1'] == 0) & (df['maxdeutsch1'] == 0) & (df['maxdeutsch.Missing.'] == 0)).mean() * 100\n",
    "#    non_german_female_pct = ((df['frau1'] == 1) & (df['maxdeutsch1'] == 0) & (df['maxdeutsch.Missing.'] == 0)).mean() * 100\n",
    "#\n",
    "#    print(f\"--- {df_name} ---\")\n",
    "#    print(f\"Female: {female_pct:.2f}%\")\n",
    "#    print(f\"Non-German: {non_german_pct:.2f}%\")\n",
    "#    print(f\"Non-German Male: {non_german_male_pct:.2f}%\")\n",
    "#    print(f\"Non-German Female: {non_german_female_pct:.2f}%\\n\")\n",
    "#\n",
    "## Calculate for each DataFrame\n",
    "#calculate_percentages(siab_calib, \"siab_calib\")\n",
    "#calculate_percentages(siab_test, \"siab_test\")\n",
    "#calculate_percentages(siab_train, \"siab_train\")"
   ]
  },
  {
   "cell_type": "markdown",
   "id": "0a4a1b33",
   "metadata": {
    "papermill": {
     "duration": 0.011167,
     "end_time": "2025-07-30T21:41:16.375542",
     "exception": false,
     "start_time": "2025-07-30T21:41:16.364375",
     "status": "completed"
    },
    "tags": []
   },
   "source": [
    "# Preprocessing Data"
   ]
  },
  {
   "cell_type": "code",
   "execution_count": 29,
   "id": "ca879031",
   "metadata": {
    "execution": {
     "iopub.execute_input": "2025-07-30T21:41:16.399519Z",
     "iopub.status.busy": "2025-07-30T21:41:16.399023Z",
     "iopub.status.idle": "2025-07-30T21:41:16.407766Z",
     "shell.execute_reply": "2025-07-30T21:41:16.406982Z"
    },
    "papermill": {
     "duration": 0.022506,
     "end_time": "2025-07-30T21:41:16.409174",
     "exception": false,
     "start_time": "2025-07-30T21:41:16.386668",
     "status": "completed"
    },
    "tags": []
   },
   "outputs": [],
   "source": [
    "# EXCLUDE PROTECTED FEATURES\n",
    "# ----------------------\n",
    "# \"exclude_features\": \"none\", # \"nationality\", \"sex\", \"nationality-sex\"\n",
    "\n",
    "excluded_features = universe[\"exclude_features\"].split(\"-\") # split, e.g.: \"nationality-sex\" -> [\"nationality\", \"sex\"]\n",
    "excluded_features_dictionary = {\n",
    "    \"nationality\": [\"maxdeutsch1\", \"maxdeutsch.Missing.\"],\n",
    "    \"sex\": [\"frau1\"],\n",
    "    \"age\": [\"age\"],\n",
    "}\n"
   ]
  },
  {
   "cell_type": "code",
   "execution_count": 30,
   "id": "b745ac60",
   "metadata": {
    "execution": {
     "iopub.execute_input": "2025-07-30T21:41:16.434433Z",
     "iopub.status.busy": "2025-07-30T21:41:16.433936Z",
     "iopub.status.idle": "2025-07-30T21:41:16.438756Z",
     "shell.execute_reply": "2025-07-30T21:41:16.437929Z"
    },
    "papermill": {
     "duration": 0.018383,
     "end_time": "2025-07-30T21:41:16.440173",
     "exception": false,
     "start_time": "2025-07-30T21:41:16.421790",
     "status": "completed"
    },
    "tags": []
   },
   "outputs": [],
   "source": [
    "# Code nice names to column names\n",
    "\n",
    "excluded_features_columns = [\n",
    "    excluded_features_dictionary[f] for f in excluded_features if len(f) > 0 and f != \"none\"\n",
    "]"
   ]
  },
  {
   "cell_type": "code",
   "execution_count": 31,
   "id": "f84f73a2",
   "metadata": {
    "execution": {
     "iopub.execute_input": "2025-07-30T21:41:16.466061Z",
     "iopub.status.busy": "2025-07-30T21:41:16.465566Z",
     "iopub.status.idle": "2025-07-30T21:41:16.471210Z",
     "shell.execute_reply": "2025-07-30T21:41:16.470466Z"
    },
    "papermill": {
     "duration": 0.019684,
     "end_time": "2025-07-30T21:41:16.472506",
     "exception": false,
     "start_time": "2025-07-30T21:41:16.452822",
     "status": "completed"
    },
    "tags": []
   },
   "outputs": [],
   "source": [
    "from utils import flatten_once\n",
    "\n",
    "excluded_features_columns = flatten_once(excluded_features_columns)"
   ]
  },
  {
   "cell_type": "code",
   "execution_count": 32,
   "id": "884dea22",
   "metadata": {
    "execution": {
     "iopub.execute_input": "2025-07-30T21:41:16.497507Z",
     "iopub.status.busy": "2025-07-30T21:41:16.497007Z",
     "iopub.status.idle": "2025-07-30T21:41:16.503941Z",
     "shell.execute_reply": "2025-07-30T21:41:16.503223Z"
    },
    "papermill": {
     "duration": 0.020563,
     "end_time": "2025-07-30T21:41:16.505329",
     "exception": false,
     "start_time": "2025-07-30T21:41:16.484766",
     "status": "completed"
    },
    "tags": []
   },
   "outputs": [
    {
     "name": "stdout",
     "output_type": "stream",
     "text": [
      "Dropping features: ['age']\n"
     ]
    }
   ],
   "source": [
    "if len(excluded_features_columns) > 0:\n",
    "    print(f\"Dropping features: {excluded_features_columns}\")\n",
    "    X_train.drop(excluded_features_columns, axis=1, inplace=True)"
   ]
  },
  {
   "cell_type": "code",
   "execution_count": 33,
   "id": "95ab8b16",
   "metadata": {
    "execution": {
     "iopub.execute_input": "2025-07-30T21:41:16.541298Z",
     "iopub.status.busy": "2025-07-30T21:41:16.540817Z",
     "iopub.status.idle": "2025-07-30T21:41:16.601754Z",
     "shell.execute_reply": "2025-07-30T21:41:16.600577Z"
    },
    "papermill": {
     "duration": 0.085559,
     "end_time": "2025-07-30T21:41:16.603452",
     "exception": false,
     "start_time": "2025-07-30T21:41:16.517893",
     "status": "completed"
    },
    "tags": []
   },
   "outputs": [
    {
     "name": "stdout",
     "output_type": "stream",
     "text": [
      "Dropping features: ['age']\n"
     ]
    }
   ],
   "source": [
    "if len(excluded_features_columns) > 0:\n",
    "    print(f\"Dropping features: {excluded_features_columns}\")\n",
    "    X_test.drop(excluded_features_columns, axis=1, inplace=True)"
   ]
  },
  {
   "cell_type": "code",
   "execution_count": 34,
   "id": "1853aaf5-fb9f-46cb-a2b5-8ea4ae2237e4",
   "metadata": {
    "execution": {
     "iopub.execute_input": "2025-07-30T21:41:16.652334Z",
     "iopub.status.busy": "2025-07-30T21:41:16.651303Z",
     "iopub.status.idle": "2025-07-30T21:41:16.704078Z",
     "shell.execute_reply": "2025-07-30T21:41:16.703030Z"
    },
    "papermill": {
     "duration": 0.078079,
     "end_time": "2025-07-30T21:41:16.705987",
     "exception": false,
     "start_time": "2025-07-30T21:41:16.627908",
     "status": "completed"
    },
    "tags": []
   },
   "outputs": [
    {
     "name": "stdout",
     "output_type": "stream",
     "text": [
      "Dropping features: ['age']\n"
     ]
    }
   ],
   "source": [
    "if len(excluded_features_columns) > 0:\n",
    "    print(f\"Dropping features: {excluded_features_columns}\")\n",
    "    X_calib.drop(excluded_features_columns, axis=1, inplace=True)"
   ]
  },
  {
   "cell_type": "code",
   "execution_count": 35,
   "id": "6727d079-03e5-481e-9d38-292a90b7a0a8",
   "metadata": {
    "execution": {
     "iopub.execute_input": "2025-07-30T21:41:16.731283Z",
     "iopub.status.busy": "2025-07-30T21:41:16.730866Z",
     "iopub.status.idle": "2025-07-30T21:41:16.735659Z",
     "shell.execute_reply": "2025-07-30T21:41:16.734913Z"
    },
    "papermill": {
     "duration": 0.019002,
     "end_time": "2025-07-30T21:41:16.737331",
     "exception": false,
     "start_time": "2025-07-30T21:41:16.718329",
     "status": "completed"
    },
    "tags": []
   },
   "outputs": [],
   "source": [
    "# SPLIT & STRATIFY DATA\n",
    "# ----------------------"
   ]
  },
  {
   "cell_type": "code",
   "execution_count": 36,
   "id": "76c4dc6d",
   "metadata": {
    "execution": {
     "iopub.execute_input": "2025-07-30T21:41:16.786933Z",
     "iopub.status.busy": "2025-07-30T21:41:16.785969Z",
     "iopub.status.idle": "2025-07-30T21:41:16.791726Z",
     "shell.execute_reply": "2025-07-30T21:41:16.790920Z"
    },
    "papermill": {
     "duration": 0.036849,
     "end_time": "2025-07-30T21:41:16.799409",
     "exception": false,
     "start_time": "2025-07-30T21:41:16.762560",
     "status": "completed"
    },
    "tags": []
   },
   "outputs": [],
   "source": [
    "# EXCLUDE CERTAIN SUBGROUPS\n",
    "# ----------------------\n",
    "\n",
    "mode = universe.get(\"exclude_subgroups\", \"keep-all\") \n",
    "# Fetches the exclude_subgroups setting from the universe dict.\n",
    "# Defaults to \"keep-all\" if the key is missing."
   ]
  },
  {
   "cell_type": "code",
   "execution_count": 37,
   "id": "21994072",
   "metadata": {
    "execution": {
     "iopub.execute_input": "2025-07-30T21:41:16.849467Z",
     "iopub.status.busy": "2025-07-30T21:41:16.848974Z",
     "iopub.status.idle": "2025-07-30T21:41:16.856012Z",
     "shell.execute_reply": "2025-07-30T21:41:16.855037Z"
    },
    "papermill": {
     "duration": 0.033328,
     "end_time": "2025-07-30T21:41:16.857584",
     "exception": false,
     "start_time": "2025-07-30T21:41:16.824256",
     "status": "completed"
    },
    "tags": []
   },
   "outputs": [],
   "source": [
    "if mode == \"keep-all\":\n",
    "    keep_mask = pd.Series(True, index=org_train.index)\n",
    "\n",
    "# org_train contains the original feature columns from features_org (in Simson)\n",
    "# features_org contains unprocessed features, for me X_train at beginning ???\n",
    "# For keep-all, creates a boolean Series (keep_mask) of all True, so no rows are removed.\n",
    "\n",
    "elif mode == \"drop-non-german\":\n",
    "    keep_mask = org_train[\"maxdeutsch1\"] == 1 # ??? what about missing values?\n",
    "\n",
    "else:\n",
    "    raise ValueError(f\"Unsupported mode for exclude_subgroups: {mode}\")\n"
   ]
  },
  {
   "cell_type": "code",
   "execution_count": 38,
   "id": "71651440",
   "metadata": {
    "execution": {
     "iopub.execute_input": "2025-07-30T21:41:16.908432Z",
     "iopub.status.busy": "2025-07-30T21:41:16.907590Z",
     "iopub.status.idle": "2025-07-30T21:41:16.916451Z",
     "shell.execute_reply": "2025-07-30T21:41:16.915233Z"
    },
    "papermill": {
     "duration": 0.035574,
     "end_time": "2025-07-30T21:41:16.918225",
     "exception": false,
     "start_time": "2025-07-30T21:41:16.882651",
     "status": "completed"
    },
    "tags": []
   },
   "outputs": [
    {
     "name": "stdout",
     "output_type": "stream",
     "text": [
      "Dropping 147 rows (14.70%) where mode='drop-non-german'\n"
     ]
    }
   ],
   "source": [
    "n_drop = (~keep_mask).sum() # Calculates how many rows are set to be dropped\n",
    "if n_drop > 0:\n",
    "    pct = n_drop / len(keep_mask) * 100\n",
    "    print(f\"Dropping {n_drop} rows ({pct:.2f}%) where mode='{mode}'\")"
   ]
  },
  {
   "cell_type": "code",
   "execution_count": 39,
   "id": "5fb8eee5",
   "metadata": {
    "execution": {
     "iopub.execute_input": "2025-07-30T21:41:16.967567Z",
     "iopub.status.busy": "2025-07-30T21:41:16.966754Z",
     "iopub.status.idle": "2025-07-30T21:41:16.974784Z",
     "shell.execute_reply": "2025-07-30T21:41:16.973631Z"
    },
    "papermill": {
     "duration": 0.034901,
     "end_time": "2025-07-30T21:41:16.976624",
     "exception": false,
     "start_time": "2025-07-30T21:41:16.941723",
     "status": "completed"
    },
    "tags": []
   },
   "outputs": [],
   "source": [
    "X_train = X_train[keep_mask]"
   ]
  },
  {
   "cell_type": "code",
   "execution_count": 40,
   "id": "b202bb3a",
   "metadata": {
    "execution": {
     "iopub.execute_input": "2025-07-30T21:41:17.030062Z",
     "iopub.status.busy": "2025-07-30T21:41:17.028391Z",
     "iopub.status.idle": "2025-07-30T21:41:17.035870Z",
     "shell.execute_reply": "2025-07-30T21:41:17.034757Z"
    },
    "papermill": {
     "duration": 0.042333,
     "end_time": "2025-07-30T21:41:17.043031",
     "exception": false,
     "start_time": "2025-07-30T21:41:17.000698",
     "status": "completed"
    },
    "tags": []
   },
   "outputs": [],
   "source": [
    "y_train = y_train[keep_mask]"
   ]
  },
  {
   "cell_type": "markdown",
   "id": "493e2ac3",
   "metadata": {
    "papermill": {
     "duration": 0.031904,
     "end_time": "2025-07-30T21:41:17.106039",
     "exception": false,
     "start_time": "2025-07-30T21:41:17.074135",
     "status": "completed"
    },
    "tags": []
   },
   "source": [
    "# Model Training"
   ]
  },
  {
   "cell_type": "code",
   "execution_count": 41,
   "id": "679e1268",
   "metadata": {
    "execution": {
     "iopub.execute_input": "2025-07-30T21:41:17.175252Z",
     "iopub.status.busy": "2025-07-30T21:41:17.174729Z",
     "iopub.status.idle": "2025-07-30T21:41:17.283648Z",
     "shell.execute_reply": "2025-07-30T21:41:17.282536Z"
    },
    "papermill": {
     "duration": 0.146749,
     "end_time": "2025-07-30T21:41:17.285732",
     "exception": false,
     "start_time": "2025-07-30T21:41:17.138983",
     "status": "completed"
    },
    "tags": []
   },
   "outputs": [],
   "source": [
    "from sklearn.linear_model import LogisticRegression\n",
    "from sklearn.ensemble import GradientBoostingClassifier, RandomForestClassifier\n",
    "\n",
    "if (universe[\"model\"] == \"logreg\"):\n",
    "    model = LogisticRegression() #penalty=\"none\") #, solver=\"newton-cg\", max_iter=1) # include random_state=19 ?\n",
    "elif (universe[\"model\"] == \"penalized_logreg\"):\n",
    "    model = LogisticRegression(penalty=\"l2\", C=1.0) #, solver=\"newton-cg\", max_iter=1)\n",
    "elif (universe[\"model\"] == \"rf\"):\n",
    "    model = RandomForestClassifier(n_estimators=100, n_jobs=-1)\n",
    "elif (universe[\"model\"] == \"gbm\"):\n",
    "    model = GradientBoostingClassifier()\n",
    "elif (universe[\"model\"] == \"elasticnet\"):\n",
    "    model = LogisticRegression(penalty = 'elasticnet', solver = 'saga', l1_ratio = 0.5, max_iter=5000) # which solver to use?\n",
    "else:\n",
    "    raise \"Unsupported universe.model\""
   ]
  },
  {
   "cell_type": "code",
   "execution_count": 42,
   "id": "0cc8f744",
   "metadata": {
    "execution": {
     "iopub.execute_input": "2025-07-30T21:41:17.335162Z",
     "iopub.status.busy": "2025-07-30T21:41:17.334351Z",
     "iopub.status.idle": "2025-07-30T21:41:17.341973Z",
     "shell.execute_reply": "2025-07-30T21:41:17.340792Z"
    },
    "papermill": {
     "duration": 0.03398,
     "end_time": "2025-07-30T21:41:17.344005",
     "exception": false,
     "start_time": "2025-07-30T21:41:17.310025",
     "status": "completed"
    },
    "tags": []
   },
   "outputs": [],
   "source": [
    "import numpy as np\n",
    "from sklearn.pipeline import Pipeline\n",
    "from sklearn.preprocessing import StandardScaler\n",
    "\n",
    "model = Pipeline([\n",
    "    #(\"continuous_processor\", continuous_processor),\n",
    "    #(\"categorical_preprocessor\", categorical_preprocessor),\n",
    "    (\"scale\", StandardScaler() if universe[\"scale\"] == \"scale\" else None), \n",
    "    (\"model\", model),\n",
    "])"
   ]
  },
  {
   "cell_type": "code",
   "execution_count": 43,
   "id": "9442c04d",
   "metadata": {
    "execution": {
     "iopub.execute_input": "2025-07-30T21:41:17.395784Z",
     "iopub.status.busy": "2025-07-30T21:41:17.395207Z",
     "iopub.status.idle": "2025-07-30T21:41:17.797865Z",
     "shell.execute_reply": "2025-07-30T21:41:17.796756Z"
    },
    "papermill": {
     "duration": 0.430712,
     "end_time": "2025-07-30T21:41:17.800259",
     "exception": false,
     "start_time": "2025-07-30T21:41:17.369547",
     "status": "completed"
    },
    "tags": []
   },
   "outputs": [
    {
     "data": {
      "text/html": [
       "<style>#sk-container-id-1 {color: black;background-color: white;}#sk-container-id-1 pre{padding: 0;}#sk-container-id-1 div.sk-toggleable {background-color: white;}#sk-container-id-1 label.sk-toggleable__label {cursor: pointer;display: block;width: 100%;margin-bottom: 0;padding: 0.3em;box-sizing: border-box;text-align: center;}#sk-container-id-1 label.sk-toggleable__label-arrow:before {content: \"▸\";float: left;margin-right: 0.25em;color: #696969;}#sk-container-id-1 label.sk-toggleable__label-arrow:hover:before {color: black;}#sk-container-id-1 div.sk-estimator:hover label.sk-toggleable__label-arrow:before {color: black;}#sk-container-id-1 div.sk-toggleable__content {max-height: 0;max-width: 0;overflow: hidden;text-align: left;background-color: #f0f8ff;}#sk-container-id-1 div.sk-toggleable__content pre {margin: 0.2em;color: black;border-radius: 0.25em;background-color: #f0f8ff;}#sk-container-id-1 input.sk-toggleable__control:checked~div.sk-toggleable__content {max-height: 200px;max-width: 100%;overflow: auto;}#sk-container-id-1 input.sk-toggleable__control:checked~label.sk-toggleable__label-arrow:before {content: \"▾\";}#sk-container-id-1 div.sk-estimator input.sk-toggleable__control:checked~label.sk-toggleable__label {background-color: #d4ebff;}#sk-container-id-1 div.sk-label input.sk-toggleable__control:checked~label.sk-toggleable__label {background-color: #d4ebff;}#sk-container-id-1 input.sk-hidden--visually {border: 0;clip: rect(1px 1px 1px 1px);clip: rect(1px, 1px, 1px, 1px);height: 1px;margin: -1px;overflow: hidden;padding: 0;position: absolute;width: 1px;}#sk-container-id-1 div.sk-estimator {font-family: monospace;background-color: #f0f8ff;border: 1px dotted black;border-radius: 0.25em;box-sizing: border-box;margin-bottom: 0.5em;}#sk-container-id-1 div.sk-estimator:hover {background-color: #d4ebff;}#sk-container-id-1 div.sk-parallel-item::after {content: \"\";width: 100%;border-bottom: 1px solid gray;flex-grow: 1;}#sk-container-id-1 div.sk-label:hover label.sk-toggleable__label {background-color: #d4ebff;}#sk-container-id-1 div.sk-serial::before {content: \"\";position: absolute;border-left: 1px solid gray;box-sizing: border-box;top: 0;bottom: 0;left: 50%;z-index: 0;}#sk-container-id-1 div.sk-serial {display: flex;flex-direction: column;align-items: center;background-color: white;padding-right: 0.2em;padding-left: 0.2em;position: relative;}#sk-container-id-1 div.sk-item {position: relative;z-index: 1;}#sk-container-id-1 div.sk-parallel {display: flex;align-items: stretch;justify-content: center;background-color: white;position: relative;}#sk-container-id-1 div.sk-item::before, #sk-container-id-1 div.sk-parallel-item::before {content: \"\";position: absolute;border-left: 1px solid gray;box-sizing: border-box;top: 0;bottom: 0;left: 50%;z-index: -1;}#sk-container-id-1 div.sk-parallel-item {display: flex;flex-direction: column;z-index: 1;position: relative;background-color: white;}#sk-container-id-1 div.sk-parallel-item:first-child::after {align-self: flex-end;width: 50%;}#sk-container-id-1 div.sk-parallel-item:last-child::after {align-self: flex-start;width: 50%;}#sk-container-id-1 div.sk-parallel-item:only-child::after {width: 0;}#sk-container-id-1 div.sk-dashed-wrapped {border: 1px dashed gray;margin: 0 0.4em 0.5em 0.4em;box-sizing: border-box;padding-bottom: 0.4em;background-color: white;}#sk-container-id-1 div.sk-label label {font-family: monospace;font-weight: bold;display: inline-block;line-height: 1.2em;}#sk-container-id-1 div.sk-label-container {text-align: center;}#sk-container-id-1 div.sk-container {/* jupyter's `normalize.less` sets `[hidden] { display: none; }` but bootstrap.min.css set `[hidden] { display: none !important; }` so we also need the `!important` here to be able to override the default hidden behavior on the sphinx rendered scikit-learn.org. See: https://github.com/scikit-learn/scikit-learn/issues/21755 */display: inline-block !important;position: relative;}#sk-container-id-1 div.sk-text-repr-fallback {display: none;}</style><div id=\"sk-container-id-1\" class=\"sk-top-container\"><div class=\"sk-text-repr-fallback\"><pre>Pipeline(steps=[(&#x27;scale&#x27;, None), (&#x27;model&#x27;, RandomForestClassifier(n_jobs=-1))])</pre><b>In a Jupyter environment, please rerun this cell to show the HTML representation or trust the notebook. <br />On GitHub, the HTML representation is unable to render, please try loading this page with nbviewer.org.</b></div><div class=\"sk-container\" hidden><div class=\"sk-item sk-dashed-wrapped\"><div class=\"sk-label-container\"><div class=\"sk-label sk-toggleable\"><input class=\"sk-toggleable__control sk-hidden--visually\" id=\"sk-estimator-id-1\" type=\"checkbox\" ><label for=\"sk-estimator-id-1\" class=\"sk-toggleable__label sk-toggleable__label-arrow\">Pipeline</label><div class=\"sk-toggleable__content\"><pre>Pipeline(steps=[(&#x27;scale&#x27;, None), (&#x27;model&#x27;, RandomForestClassifier(n_jobs=-1))])</pre></div></div></div><div class=\"sk-serial\"><div class=\"sk-item\"><div class=\"sk-estimator sk-toggleable\"><input class=\"sk-toggleable__control sk-hidden--visually\" id=\"sk-estimator-id-2\" type=\"checkbox\" ><label for=\"sk-estimator-id-2\" class=\"sk-toggleable__label sk-toggleable__label-arrow\">None</label><div class=\"sk-toggleable__content\"><pre>None</pre></div></div></div><div class=\"sk-item\"><div class=\"sk-estimator sk-toggleable\"><input class=\"sk-toggleable__control sk-hidden--visually\" id=\"sk-estimator-id-3\" type=\"checkbox\" ><label for=\"sk-estimator-id-3\" class=\"sk-toggleable__label sk-toggleable__label-arrow\">RandomForestClassifier</label><div class=\"sk-toggleable__content\"><pre>RandomForestClassifier(n_jobs=-1)</pre></div></div></div></div></div></div></div>"
      ],
      "text/plain": [
       "Pipeline(steps=[('scale', None), ('model', RandomForestClassifier(n_jobs=-1))])"
      ]
     },
     "execution_count": 43,
     "metadata": {},
     "output_type": "execute_result"
    }
   ],
   "source": [
    "model.fit(X_train, y_train.values.ravel())"
   ]
  },
  {
   "cell_type": "code",
   "execution_count": 44,
   "id": "af59f8c0",
   "metadata": {
    "execution": {
     "iopub.execute_input": "2025-07-30T21:41:17.871463Z",
     "iopub.status.busy": "2025-07-30T21:41:17.871047Z",
     "iopub.status.idle": "2025-07-30T21:41:17.876746Z",
     "shell.execute_reply": "2025-07-30T21:41:17.875589Z"
    },
    "papermill": {
     "duration": 0.043294,
     "end_time": "2025-07-30T21:41:17.878730",
     "exception": false,
     "start_time": "2025-07-30T21:41:17.835436",
     "status": "completed"
    },
    "tags": []
   },
   "outputs": [],
   "source": [
    "from fairness_multiverse.universe import predict_w_threshold"
   ]
  },
  {
   "cell_type": "code",
   "execution_count": 45,
   "id": "a7cf2e16",
   "metadata": {
    "execution": {
     "iopub.execute_input": "2025-07-30T21:41:17.931286Z",
     "iopub.status.busy": "2025-07-30T21:41:17.930243Z",
     "iopub.status.idle": "2025-07-30T21:41:18.657348Z",
     "shell.execute_reply": "2025-07-30T21:41:18.656512Z"
    },
    "papermill": {
     "duration": 0.755531,
     "end_time": "2025-07-30T21:41:18.658900",
     "exception": false,
     "start_time": "2025-07-30T21:41:17.903369",
     "status": "completed"
    },
    "tags": []
   },
   "outputs": [
    {
     "data": {
      "text/plain": [
       "0.8557908817300189"
      ]
     },
     "execution_count": 45,
     "metadata": {},
     "output_type": "execute_result"
    }
   ],
   "source": [
    "probs_test = model.predict_proba(X_test)\n",
    "\n",
    "'''\n",
    "Below code returns a boolean array (or binary 0/1 array depending on how it’s used) where each element \n",
    "is True if the probability of class 1 is greater than or equal to the threshold, and False otherwise.\n",
    "'''\n",
    "y_pred_default = predict_w_threshold(probs_test, 0.5)\n",
    "\n",
    "from sklearn.metrics import accuracy_score\n",
    "\n",
    "# Naive prediction\n",
    "accuracy_score(y_true = y_true, y_pred = y_pred_default)"
   ]
  },
  {
   "cell_type": "code",
   "execution_count": 46,
   "id": "081964c3",
   "metadata": {
    "execution": {
     "iopub.execute_input": "2025-07-30T21:41:18.687234Z",
     "iopub.status.busy": "2025-07-30T21:41:18.686740Z",
     "iopub.status.idle": "2025-07-30T21:41:19.405695Z",
     "shell.execute_reply": "2025-07-30T21:41:19.404616Z"
    },
    "papermill": {
     "duration": 0.733736,
     "end_time": "2025-07-30T21:41:19.407426",
     "exception": false,
     "start_time": "2025-07-30T21:41:18.673690",
     "status": "completed"
    },
    "tags": []
   },
   "outputs": [
    {
     "data": {
      "text/plain": [
       "array([0, 0, 0, ..., 0, 0, 0])"
      ]
     },
     "execution_count": 46,
     "metadata": {},
     "output_type": "execute_result"
    }
   ],
   "source": [
    "model.predict(X_test)"
   ]
  },
  {
   "cell_type": "markdown",
   "id": "56c9705b",
   "metadata": {
    "papermill": {
     "duration": 0.025179,
     "end_time": "2025-07-30T21:41:19.458926",
     "exception": false,
     "start_time": "2025-07-30T21:41:19.433747",
     "status": "completed"
    },
    "tags": []
   },
   "source": [
    "# Conformal Prediction"
   ]
  },
  {
   "cell_type": "code",
   "execution_count": 47,
   "id": "160ec6ff",
   "metadata": {
    "execution": {
     "iopub.execute_input": "2025-07-30T21:41:19.509973Z",
     "iopub.status.busy": "2025-07-30T21:41:19.509530Z",
     "iopub.status.idle": "2025-07-30T21:41:19.515462Z",
     "shell.execute_reply": "2025-07-30T21:41:19.514139Z"
    },
    "papermill": {
     "duration": 0.034477,
     "end_time": "2025-07-30T21:41:19.517466",
     "exception": false,
     "start_time": "2025-07-30T21:41:19.482989",
     "status": "completed"
    },
    "tags": []
   },
   "outputs": [],
   "source": [
    "# Miscoverage level for conformal prediction (10% allowed error rate => 90% target coverage)\n",
    "alpha = 0.1"
   ]
  },
  {
   "cell_type": "code",
   "execution_count": 48,
   "id": "eadf4555-3dd3-440e-8e35-f82a4ad9f855",
   "metadata": {
    "execution": {
     "iopub.execute_input": "2025-07-30T21:41:19.571453Z",
     "iopub.status.busy": "2025-07-30T21:41:19.570994Z",
     "iopub.status.idle": "2025-07-30T21:41:20.256385Z",
     "shell.execute_reply": "2025-07-30T21:41:20.255132Z"
    },
    "papermill": {
     "duration": 0.715304,
     "end_time": "2025-07-30T21:41:20.258407",
     "exception": false,
     "start_time": "2025-07-30T21:41:19.543103",
     "status": "completed"
    },
    "tags": []
   },
   "outputs": [],
   "source": [
    "probs_calib = model.predict_proba(X_calib)"
   ]
  },
  {
   "cell_type": "code",
   "execution_count": 49,
   "id": "2ed93547-6d5d-4983-9b36-1ecb300da49a",
   "metadata": {
    "execution": {
     "iopub.execute_input": "2025-07-30T21:41:20.307892Z",
     "iopub.status.busy": "2025-07-30T21:41:20.307103Z",
     "iopub.status.idle": "2025-07-30T21:41:20.313907Z",
     "shell.execute_reply": "2025-07-30T21:41:20.312679Z"
    },
    "papermill": {
     "duration": 0.03361,
     "end_time": "2025-07-30T21:41:20.315835",
     "exception": false,
     "start_time": "2025-07-30T21:41:20.282225",
     "status": "completed"
    },
    "tags": []
   },
   "outputs": [],
   "source": [
    "y_calib = y_calib.values.ravel().astype(int)"
   ]
  },
  {
   "cell_type": "code",
   "execution_count": 50,
   "id": "65d1320d-f588-4b38-9072-62af1ae97f7d",
   "metadata": {
    "execution": {
     "iopub.execute_input": "2025-07-30T21:41:20.366699Z",
     "iopub.status.busy": "2025-07-30T21:41:20.366051Z",
     "iopub.status.idle": "2025-07-30T21:41:20.374690Z",
     "shell.execute_reply": "2025-07-30T21:41:20.373561Z"
    },
    "papermill": {
     "duration": 0.036872,
     "end_time": "2025-07-30T21:41:20.376930",
     "exception": false,
     "start_time": "2025-07-30T21:41:20.340058",
     "status": "completed"
    },
    "tags": []
   },
   "outputs": [],
   "source": [
    "from fairness_multiverse.conformal import compute_nc_scores\n",
    "\n",
    "# Compute nonconformity scores on calibration set (1 - probability of true class)\n",
    "nc_scores = compute_nc_scores(probs_calib, y_calib)"
   ]
  },
  {
   "cell_type": "code",
   "execution_count": 51,
   "id": "df3b8ca3-53b7-43d5-9667-7c85da7aeda2",
   "metadata": {
    "execution": {
     "iopub.execute_input": "2025-07-30T21:41:20.440576Z",
     "iopub.status.busy": "2025-07-30T21:41:20.439510Z",
     "iopub.status.idle": "2025-07-30T21:41:20.448759Z",
     "shell.execute_reply": "2025-07-30T21:41:20.447463Z"
    },
    "papermill": {
     "duration": 0.043541,
     "end_time": "2025-07-30T21:41:20.450812",
     "exception": false,
     "start_time": "2025-07-30T21:41:20.407271",
     "status": "completed"
    },
    "tags": []
   },
   "outputs": [],
   "source": [
    "from fairness_multiverse.conformal import find_threshold\n",
    "\n",
    "# Find conformal threshold q_hat for the given alpha (split conformal method)\n",
    "q_hat = find_threshold(nc_scores, alpha)"
   ]
  },
  {
   "cell_type": "code",
   "execution_count": 52,
   "id": "4d29e6c1-0ef6-4aa4-b8fe-4fe79b0d033a",
   "metadata": {
    "execution": {
     "iopub.execute_input": "2025-07-30T21:41:20.503730Z",
     "iopub.status.busy": "2025-07-30T21:41:20.502948Z",
     "iopub.status.idle": "2025-07-30T21:41:20.512545Z",
     "shell.execute_reply": "2025-07-30T21:41:20.511371Z"
    },
    "papermill": {
     "duration": 0.035262,
     "end_time": "2025-07-30T21:41:20.514201",
     "exception": false,
     "start_time": "2025-07-30T21:41:20.478939",
     "status": "completed"
    },
    "tags": []
   },
   "outputs": [
    {
     "data": {
      "text/plain": [
       "0.6699999999999999"
      ]
     },
     "execution_count": 52,
     "metadata": {},
     "output_type": "execute_result"
    }
   ],
   "source": [
    "q_hat"
   ]
  },
  {
   "cell_type": "code",
   "execution_count": 53,
   "id": "92460794-cdac-4be2-ba28-f28c0515a6fb",
   "metadata": {
    "execution": {
     "iopub.execute_input": "2025-07-30T21:41:20.565701Z",
     "iopub.status.busy": "2025-07-30T21:41:20.565011Z",
     "iopub.status.idle": "2025-07-30T21:41:22.072447Z",
     "shell.execute_reply": "2025-07-30T21:41:22.071275Z"
    },
    "papermill": {
     "duration": 1.535289,
     "end_time": "2025-07-30T21:41:22.074931",
     "exception": false,
     "start_time": "2025-07-30T21:41:20.539642",
     "status": "completed"
    },
    "tags": []
   },
   "outputs": [],
   "source": [
    "from fairness_multiverse.conformal import predict_conformal_sets\n",
    "\n",
    "# Generate prediction sets for each test example\n",
    "pred_sets = predict_conformal_sets(model, X_test, q_hat)"
   ]
  },
  {
   "cell_type": "code",
   "execution_count": 54,
   "id": "d90c9a65-e6db-4f5d-80cd-e68fb7e46829",
   "metadata": {
    "execution": {
     "iopub.execute_input": "2025-07-30T21:41:22.159537Z",
     "iopub.status.busy": "2025-07-30T21:41:22.158628Z",
     "iopub.status.idle": "2025-07-30T21:41:22.164588Z",
     "shell.execute_reply": "2025-07-30T21:41:22.163526Z"
    },
    "papermill": {
     "duration": 0.047224,
     "end_time": "2025-07-30T21:41:22.166225",
     "exception": false,
     "start_time": "2025-07-30T21:41:22.119001",
     "status": "completed"
    },
    "tags": []
   },
   "outputs": [],
   "source": [
    "y_true = y_true.squeeze()"
   ]
  },
  {
   "cell_type": "code",
   "execution_count": 55,
   "id": "3a58a54a-1e68-46b9-927a-df01f18aebc8",
   "metadata": {
    "execution": {
     "iopub.execute_input": "2025-07-30T21:41:22.219742Z",
     "iopub.status.busy": "2025-07-30T21:41:22.219297Z",
     "iopub.status.idle": "2025-07-30T21:41:23.078776Z",
     "shell.execute_reply": "2025-07-30T21:41:23.077997Z"
    },
    "papermill": {
     "duration": 0.889165,
     "end_time": "2025-07-30T21:41:23.080744",
     "exception": false,
     "start_time": "2025-07-30T21:41:22.191579",
     "status": "completed"
    },
    "tags": []
   },
   "outputs": [],
   "source": [
    "from fairness_multiverse.conformal import evaluate_sets\n",
    "\n",
    "# Evaluate coverage and average set size on test data\n",
    "metrics = evaluate_sets(pred_sets, y_true)"
   ]
  },
  {
   "cell_type": "markdown",
   "id": "2b569c12-9aaa-4c88-98c9-bbcd0cf3ebb8",
   "metadata": {
    "papermill": {
     "duration": 0.035858,
     "end_time": "2025-07-30T21:41:23.151257",
     "exception": false,
     "start_time": "2025-07-30T21:41:23.115399",
     "status": "completed"
    },
    "tags": []
   },
   "source": [
    "# CP Metrics"
   ]
  },
  {
   "cell_type": "code",
   "execution_count": 56,
   "id": "5ce0a5cb-201f-45a0-ade5-94c7f0bd6095",
   "metadata": {
    "execution": {
     "iopub.execute_input": "2025-07-30T21:41:23.197682Z",
     "iopub.status.busy": "2025-07-30T21:41:23.197223Z",
     "iopub.status.idle": "2025-07-30T21:41:23.204587Z",
     "shell.execute_reply": "2025-07-30T21:41:23.203353Z"
    },
    "papermill": {
     "duration": 0.024635,
     "end_time": "2025-07-30T21:41:23.206195",
     "exception": false,
     "start_time": "2025-07-30T21:41:23.181560",
     "status": "completed"
    },
    "tags": []
   },
   "outputs": [
    {
     "data": {
      "text/plain": [
       "{'coverage': 0.9140452569390257, 'avg_size': 1.182510311002118}"
      ]
     },
     "execution_count": 56,
     "metadata": {},
     "output_type": "execute_result"
    }
   ],
   "source": [
    "metrics"
   ]
  },
  {
   "cell_type": "code",
   "execution_count": 57,
   "id": "9b9a838d-31c9-430b-ae14-12baee460d17",
   "metadata": {
    "execution": {
     "iopub.execute_input": "2025-07-30T21:41:23.264307Z",
     "iopub.status.busy": "2025-07-30T21:41:23.263329Z",
     "iopub.status.idle": "2025-07-30T21:41:23.269876Z",
     "shell.execute_reply": "2025-07-30T21:41:23.268785Z"
    },
    "papermill": {
     "duration": 0.039243,
     "end_time": "2025-07-30T21:41:23.271977",
     "exception": false,
     "start_time": "2025-07-30T21:41:23.232734",
     "status": "completed"
    },
    "tags": []
   },
   "outputs": [],
   "source": [
    "example_universe = universe.copy()\n",
    "universe_training_year = example_universe.get(\"training_year\")\n",
    "universe_training_size = example_universe.get(\"training_size\")\n",
    "universe_scale = example_universe.get(\"scale\")\n",
    "universe_model = example_universe.get(\"model\")\n",
    "universe_exclude_features = example_universe.get(\"exclude_features\")\n",
    "universe_exclude_subgroups = example_universe.get(\"exclude_subgroups\")"
   ]
  },
  {
   "cell_type": "code",
   "execution_count": 58,
   "id": "f4b6a8ac-9dc0-4245-8a91-5b3b5999c4f9",
   "metadata": {
    "execution": {
     "iopub.execute_input": "2025-07-30T21:41:23.333198Z",
     "iopub.status.busy": "2025-07-30T21:41:23.332656Z",
     "iopub.status.idle": "2025-07-30T21:41:23.340154Z",
     "shell.execute_reply": "2025-07-30T21:41:23.338967Z"
    },
    "papermill": {
     "duration": 0.044625,
     "end_time": "2025-07-30T21:41:23.341955",
     "exception": false,
     "start_time": "2025-07-30T21:41:23.297330",
     "status": "completed"
    },
    "tags": []
   },
   "outputs": [],
   "source": [
    "cp_metrics_dict = {\n",
    "    \"universe_id\": [universe_id],\n",
    "    \"universe_training_year\": [universe_training_year],\n",
    "    \"universe_training_size\": [universe_training_size],\n",
    "    \"universe_scale\": [universe_scale],\n",
    "    \"universe_model\": [universe_model],\n",
    "    \"universe_exclude_features\": [universe_exclude_features],\n",
    "    \"universe_exclude_subgroups\": [universe_exclude_subgroups],\n",
    "    \"q_hat\": [q_hat],\n",
    "    \"coverage\": [metrics[\"coverage\"]],\n",
    "    \"avg_size\": [metrics[\"avg_size\"]],\n",
    "}"
   ]
  },
  {
   "cell_type": "code",
   "execution_count": 59,
   "id": "908acbb1-0371-4915-85ca-3fa520d2efe2",
   "metadata": {
    "execution": {
     "iopub.execute_input": "2025-07-30T21:41:23.397154Z",
     "iopub.status.busy": "2025-07-30T21:41:23.396683Z",
     "iopub.status.idle": "2025-07-30T21:41:23.404595Z",
     "shell.execute_reply": "2025-07-30T21:41:23.403445Z"
    },
    "papermill": {
     "duration": 0.037416,
     "end_time": "2025-07-30T21:41:23.406279",
     "exception": false,
     "start_time": "2025-07-30T21:41:23.368863",
     "status": "completed"
    },
    "tags": []
   },
   "outputs": [
    {
     "data": {
      "text/plain": [
       "{'universe_id': ['d1d59f1a42d6cc0b6b3a6cf134f61917'],\n",
       " 'universe_training_year': ['2012_14'],\n",
       " 'universe_training_size': ['1k'],\n",
       " 'universe_scale': ['do-not-scale'],\n",
       " 'universe_model': ['rf'],\n",
       " 'universe_exclude_features': ['age'],\n",
       " 'universe_exclude_subgroups': ['drop-non-german'],\n",
       " 'q_hat': [0.6699999999999999],\n",
       " 'coverage': [0.9140452569390257],\n",
       " 'avg_size': [1.182510311002118]}"
      ]
     },
     "execution_count": 59,
     "metadata": {},
     "output_type": "execute_result"
    }
   ],
   "source": [
    "cp_metrics_dict"
   ]
  },
  {
   "cell_type": "code",
   "execution_count": 60,
   "id": "33007efc-14e9-4ec6-97ac-56a455c82265",
   "metadata": {
    "execution": {
     "iopub.execute_input": "2025-07-30T21:41:23.465205Z",
     "iopub.status.busy": "2025-07-30T21:41:23.464546Z",
     "iopub.status.idle": "2025-07-30T21:41:23.471527Z",
     "shell.execute_reply": "2025-07-30T21:41:23.470600Z"
    },
    "papermill": {
     "duration": 0.038879,
     "end_time": "2025-07-30T21:41:23.473519",
     "exception": false,
     "start_time": "2025-07-30T21:41:23.434640",
     "status": "completed"
    },
    "tags": []
   },
   "outputs": [],
   "source": [
    "cp_metrics_df = pd.DataFrame(cp_metrics_dict)"
   ]
  },
  {
   "cell_type": "code",
   "execution_count": 61,
   "id": "db12611b-57b2-4910-b9d0-355adfd6e7bf",
   "metadata": {
    "execution": {
     "iopub.execute_input": "2025-07-30T21:41:23.526552Z",
     "iopub.status.busy": "2025-07-30T21:41:23.526082Z",
     "iopub.status.idle": "2025-07-30T21:41:23.545252Z",
     "shell.execute_reply": "2025-07-30T21:41:23.544164Z"
    },
    "papermill": {
     "duration": 0.048307,
     "end_time": "2025-07-30T21:41:23.547208",
     "exception": false,
     "start_time": "2025-07-30T21:41:23.498901",
     "status": "completed"
    },
    "tags": []
   },
   "outputs": [
    {
     "data": {
      "text/html": [
       "<div>\n",
       "<style scoped>\n",
       "    .dataframe tbody tr th:only-of-type {\n",
       "        vertical-align: middle;\n",
       "    }\n",
       "\n",
       "    .dataframe tbody tr th {\n",
       "        vertical-align: top;\n",
       "    }\n",
       "\n",
       "    .dataframe thead th {\n",
       "        text-align: right;\n",
       "    }\n",
       "</style>\n",
       "<table border=\"1\" class=\"dataframe\">\n",
       "  <thead>\n",
       "    <tr style=\"text-align: right;\">\n",
       "      <th></th>\n",
       "      <th>universe_id</th>\n",
       "      <th>universe_training_year</th>\n",
       "      <th>universe_training_size</th>\n",
       "      <th>universe_scale</th>\n",
       "      <th>universe_model</th>\n",
       "      <th>universe_exclude_features</th>\n",
       "      <th>universe_exclude_subgroups</th>\n",
       "      <th>q_hat</th>\n",
       "      <th>coverage</th>\n",
       "      <th>avg_size</th>\n",
       "    </tr>\n",
       "  </thead>\n",
       "  <tbody>\n",
       "    <tr>\n",
       "      <th>0</th>\n",
       "      <td>d1d59f1a42d6cc0b6b3a6cf134f61917</td>\n",
       "      <td>2012_14</td>\n",
       "      <td>1k</td>\n",
       "      <td>do-not-scale</td>\n",
       "      <td>rf</td>\n",
       "      <td>age</td>\n",
       "      <td>drop-non-german</td>\n",
       "      <td>0.67</td>\n",
       "      <td>0.914045</td>\n",
       "      <td>1.18251</td>\n",
       "    </tr>\n",
       "  </tbody>\n",
       "</table>\n",
       "</div>"
      ],
      "text/plain": [
       "                        universe_id universe_training_year  \\\n",
       "0  d1d59f1a42d6cc0b6b3a6cf134f61917                2012_14   \n",
       "\n",
       "  universe_training_size universe_scale universe_model  \\\n",
       "0                     1k   do-not-scale             rf   \n",
       "\n",
       "  universe_exclude_features universe_exclude_subgroups  q_hat  coverage  \\\n",
       "0                       age            drop-non-german   0.67  0.914045   \n",
       "\n",
       "   avg_size  \n",
       "0   1.18251  "
      ]
     },
     "execution_count": 61,
     "metadata": {},
     "output_type": "execute_result"
    }
   ],
   "source": [
    "cp_metrics_df"
   ]
  },
  {
   "cell_type": "code",
   "execution_count": 62,
   "id": "b7fbde55-a0a1-47e4-9af6-fe4a17fa8c61",
   "metadata": {
    "execution": {
     "iopub.execute_input": "2025-07-30T21:41:23.599555Z",
     "iopub.status.busy": "2025-07-30T21:41:23.598682Z",
     "iopub.status.idle": "2025-07-30T21:41:23.604002Z",
     "shell.execute_reply": "2025-07-30T21:41:23.603037Z"
    },
    "papermill": {
     "duration": 0.032383,
     "end_time": "2025-07-30T21:41:23.606092",
     "exception": false,
     "start_time": "2025-07-30T21:41:23.573709",
     "status": "completed"
    },
    "tags": []
   },
   "outputs": [],
   "source": [
    "# Conditional Coverage & looking at subgroups"
   ]
  },
  {
   "cell_type": "code",
   "execution_count": 63,
   "id": "027ae886-68dd-4141-96c7-805a5450e1ef",
   "metadata": {
    "execution": {
     "iopub.execute_input": "2025-07-30T21:41:23.657438Z",
     "iopub.status.busy": "2025-07-30T21:41:23.657015Z",
     "iopub.status.idle": "2025-07-30T21:41:23.944939Z",
     "shell.execute_reply": "2025-07-30T21:41:23.943870Z"
    },
    "papermill": {
     "duration": 0.315433,
     "end_time": "2025-07-30T21:41:23.946842",
     "exception": false,
     "start_time": "2025-07-30T21:41:23.631409",
     "status": "completed"
    },
    "tags": []
   },
   "outputs": [],
   "source": [
    "from fairness_multiverse.conformal import build_cp_groups\n",
    "\n",
    "cp_groups_df = build_cp_groups(pred_sets, y_true, X_test.index, org_test)\n",
    "#needs universe_id and setting"
   ]
  },
  {
   "cell_type": "code",
   "execution_count": 64,
   "id": "01d5802c-663a-4d1f-9d69-e036faaffbf7",
   "metadata": {
    "execution": {
     "iopub.execute_input": "2025-07-30T21:41:24.009075Z",
     "iopub.status.busy": "2025-07-30T21:41:24.008084Z",
     "iopub.status.idle": "2025-07-30T21:41:24.013559Z",
     "shell.execute_reply": "2025-07-30T21:41:24.012698Z"
    },
    "papermill": {
     "duration": 0.048581,
     "end_time": "2025-07-30T21:41:24.026323",
     "exception": false,
     "start_time": "2025-07-30T21:41:23.977742",
     "status": "completed"
    },
    "tags": []
   },
   "outputs": [],
   "source": [
    "#delete\n",
    "#cp_groups_df"
   ]
  },
  {
   "cell_type": "code",
   "execution_count": 65,
   "id": "fa424af1-d1eb-443d-b717-2d279ada8408",
   "metadata": {
    "execution": {
     "iopub.execute_input": "2025-07-30T21:41:24.090940Z",
     "iopub.status.busy": "2025-07-30T21:41:24.089916Z",
     "iopub.status.idle": "2025-07-30T21:41:24.130401Z",
     "shell.execute_reply": "2025-07-30T21:41:24.129192Z"
    },
    "papermill": {
     "duration": 0.071689,
     "end_time": "2025-07-30T21:41:24.132562",
     "exception": false,
     "start_time": "2025-07-30T21:41:24.060873",
     "status": "completed"
    },
    "tags": []
   },
   "outputs": [],
   "source": [
    "#delete\n",
    "#percentage = (cp_groups_df['nongerman_female'] == 1).mean() * 100\n",
    "#print(percentage)\n"
   ]
  },
  {
   "cell_type": "code",
   "execution_count": 66,
   "id": "6cbdab96-b2b2-45af-ad54-d0516db2e28d",
   "metadata": {
    "execution": {
     "iopub.execute_input": "2025-07-30T21:41:24.187936Z",
     "iopub.status.busy": "2025-07-30T21:41:24.186910Z",
     "iopub.status.idle": "2025-07-30T21:41:25.764935Z",
     "shell.execute_reply": "2025-07-30T21:41:25.764015Z"
    },
    "papermill": {
     "duration": 1.607698,
     "end_time": "2025-07-30T21:41:25.766656",
     "exception": false,
     "start_time": "2025-07-30T21:41:24.158958",
     "status": "completed"
    },
    "tags": []
   },
   "outputs": [],
   "source": [
    "# Define covered = 1 if true_label is in the predicted set\n",
    "cp_groups_df['covered'] = cp_groups_df.apply(\n",
    "    lambda r: int(r['true_label'] in r['pred_set']),\n",
    "    axis=1\n",
    ")"
   ]
  },
  {
   "cell_type": "code",
   "execution_count": 67,
   "id": "338ff529-1a6b-4b87-a931-8e4788d52aad",
   "metadata": {
    "execution": {
     "iopub.execute_input": "2025-07-30T21:41:25.819081Z",
     "iopub.status.busy": "2025-07-30T21:41:25.818321Z",
     "iopub.status.idle": "2025-07-30T21:41:25.823647Z",
     "shell.execute_reply": "2025-07-30T21:41:25.822678Z"
    },
    "papermill": {
     "duration": 0.032221,
     "end_time": "2025-07-30T21:41:25.825348",
     "exception": false,
     "start_time": "2025-07-30T21:41:25.793127",
     "status": "completed"
    },
    "tags": []
   },
   "outputs": [],
   "source": [
    "#cp_groups_df"
   ]
  },
  {
   "cell_type": "code",
   "execution_count": 68,
   "id": "90032e27-66df-4540-9169-4e89cfbaa758",
   "metadata": {
    "execution": {
     "iopub.execute_input": "2025-07-30T21:41:25.880391Z",
     "iopub.status.busy": "2025-07-30T21:41:25.879861Z",
     "iopub.status.idle": "2025-07-30T21:41:25.891885Z",
     "shell.execute_reply": "2025-07-30T21:41:25.890791Z"
    },
    "papermill": {
     "duration": 0.042941,
     "end_time": "2025-07-30T21:41:25.893898",
     "exception": false,
     "start_time": "2025-07-30T21:41:25.850957",
     "status": "completed"
    },
    "tags": []
   },
   "outputs": [],
   "source": [
    "subgroups = ['frau1','nongerman','nongerman_male','nongerman_female']\n",
    "\n",
    "# Conditional coverage for subgroup==1\n",
    "cond_coverage = {\n",
    "    g: cp_groups_df.loc[cp_groups_df[g]==1, 'covered'].mean()\n",
    "    for g in subgroups\n",
    "}"
   ]
  },
  {
   "cell_type": "code",
   "execution_count": 69,
   "id": "1e348fb1-b9c3-45bc-ba23-f016827a7e0d",
   "metadata": {
    "execution": {
     "iopub.execute_input": "2025-07-30T21:41:25.952650Z",
     "iopub.status.busy": "2025-07-30T21:41:25.951559Z",
     "iopub.status.idle": "2025-07-30T21:41:25.959291Z",
     "shell.execute_reply": "2025-07-30T21:41:25.958433Z"
    },
    "papermill": {
     "duration": 0.039663,
     "end_time": "2025-07-30T21:41:25.961069",
     "exception": false,
     "start_time": "2025-07-30T21:41:25.921406",
     "status": "completed"
    },
    "tags": []
   },
   "outputs": [
    {
     "data": {
      "text/plain": [
       "{'frau1': 0.9145167812373636,\n",
       " 'nongerman': 0.9078201313647336,\n",
       " 'nongerman_male': 0.9160587228676934,\n",
       " 'nongerman_female': 0.8941877794336811}"
      ]
     },
     "execution_count": 69,
     "metadata": {},
     "output_type": "execute_result"
    }
   ],
   "source": [
    "cond_coverage"
   ]
  },
  {
   "cell_type": "code",
   "execution_count": 70,
   "id": "f5093324-c3dd-4d63-bc4c-8d945e5c8bbb",
   "metadata": {
    "execution": {
     "iopub.execute_input": "2025-07-30T21:41:26.021628Z",
     "iopub.status.busy": "2025-07-30T21:41:26.021077Z",
     "iopub.status.idle": "2025-07-30T21:41:26.027948Z",
     "shell.execute_reply": "2025-07-30T21:41:26.026901Z"
    },
    "papermill": {
     "duration": 0.037606,
     "end_time": "2025-07-30T21:41:26.029939",
     "exception": false,
     "start_time": "2025-07-30T21:41:25.992333",
     "status": "completed"
    },
    "tags": []
   },
   "outputs": [],
   "source": [
    "for subgroup, cov in cond_coverage.items():\n",
    "    cp_metrics_df[f\"cov_{subgroup}\"] = cov"
   ]
  },
  {
   "cell_type": "code",
   "execution_count": 71,
   "id": "6e872e10-dbe5-49e8-b554-5030c98ff75d",
   "metadata": {
    "execution": {
     "iopub.execute_input": "2025-07-30T21:41:26.062123Z",
     "iopub.status.busy": "2025-07-30T21:41:26.061627Z",
     "iopub.status.idle": "2025-07-30T21:41:26.076490Z",
     "shell.execute_reply": "2025-07-30T21:41:26.075541Z"
    },
    "papermill": {
     "duration": 0.032205,
     "end_time": "2025-07-30T21:41:26.077902",
     "exception": false,
     "start_time": "2025-07-30T21:41:26.045697",
     "status": "completed"
    },
    "tags": []
   },
   "outputs": [
    {
     "data": {
      "text/html": [
       "<div>\n",
       "<style scoped>\n",
       "    .dataframe tbody tr th:only-of-type {\n",
       "        vertical-align: middle;\n",
       "    }\n",
       "\n",
       "    .dataframe tbody tr th {\n",
       "        vertical-align: top;\n",
       "    }\n",
       "\n",
       "    .dataframe thead th {\n",
       "        text-align: right;\n",
       "    }\n",
       "</style>\n",
       "<table border=\"1\" class=\"dataframe\">\n",
       "  <thead>\n",
       "    <tr style=\"text-align: right;\">\n",
       "      <th></th>\n",
       "      <th>universe_id</th>\n",
       "      <th>universe_training_year</th>\n",
       "      <th>universe_training_size</th>\n",
       "      <th>universe_scale</th>\n",
       "      <th>universe_model</th>\n",
       "      <th>universe_exclude_features</th>\n",
       "      <th>universe_exclude_subgroups</th>\n",
       "      <th>q_hat</th>\n",
       "      <th>coverage</th>\n",
       "      <th>avg_size</th>\n",
       "      <th>cov_frau1</th>\n",
       "      <th>cov_nongerman</th>\n",
       "      <th>cov_nongerman_male</th>\n",
       "      <th>cov_nongerman_female</th>\n",
       "    </tr>\n",
       "  </thead>\n",
       "  <tbody>\n",
       "    <tr>\n",
       "      <th>0</th>\n",
       "      <td>d1d59f1a42d6cc0b6b3a6cf134f61917</td>\n",
       "      <td>2012_14</td>\n",
       "      <td>1k</td>\n",
       "      <td>do-not-scale</td>\n",
       "      <td>rf</td>\n",
       "      <td>age</td>\n",
       "      <td>drop-non-german</td>\n",
       "      <td>0.67</td>\n",
       "      <td>0.914045</td>\n",
       "      <td>1.18251</td>\n",
       "      <td>0.914517</td>\n",
       "      <td>0.90782</td>\n",
       "      <td>0.916059</td>\n",
       "      <td>0.894188</td>\n",
       "    </tr>\n",
       "  </tbody>\n",
       "</table>\n",
       "</div>"
      ],
      "text/plain": [
       "                        universe_id universe_training_year  \\\n",
       "0  d1d59f1a42d6cc0b6b3a6cf134f61917                2012_14   \n",
       "\n",
       "  universe_training_size universe_scale universe_model  \\\n",
       "0                     1k   do-not-scale             rf   \n",
       "\n",
       "  universe_exclude_features universe_exclude_subgroups  q_hat  coverage  \\\n",
       "0                       age            drop-non-german   0.67  0.914045   \n",
       "\n",
       "   avg_size  cov_frau1  cov_nongerman  cov_nongerman_male  \\\n",
       "0   1.18251   0.914517        0.90782            0.916059   \n",
       "\n",
       "   cov_nongerman_female  \n",
       "0              0.894188  "
      ]
     },
     "execution_count": 71,
     "metadata": {},
     "output_type": "execute_result"
    }
   ],
   "source": [
    "cp_metrics_df"
   ]
  },
  {
   "cell_type": "markdown",
   "id": "33774451",
   "metadata": {
    "papermill": {
     "duration": 0.014136,
     "end_time": "2025-07-30T21:41:26.112392",
     "exception": false,
     "start_time": "2025-07-30T21:41:26.098256",
     "status": "completed"
    },
    "tags": []
   },
   "source": [
    "# (Fairness) Metrics"
   ]
  },
  {
   "cell_type": "code",
   "execution_count": 72,
   "id": "debc5d62",
   "metadata": {
    "execution": {
     "iopub.execute_input": "2025-07-30T21:41:26.140945Z",
     "iopub.status.busy": "2025-07-30T21:41:26.140447Z",
     "iopub.status.idle": "2025-07-30T21:41:26.157941Z",
     "shell.execute_reply": "2025-07-30T21:41:26.157157Z"
    },
    "papermill": {
     "duration": 0.033632,
     "end_time": "2025-07-30T21:41:26.159480",
     "exception": false,
     "start_time": "2025-07-30T21:41:26.125848",
     "status": "completed"
    },
    "tags": []
   },
   "outputs": [],
   "source": [
    "# do I need to include maxdeutsch1.missing?\n",
    "\n",
    "import numpy as np\n",
    "\n",
    "colname_to_bin = \"maxdeutsch1\"\n",
    "majority_value = org_train[colname_to_bin].mode()[0]\n",
    "\n",
    "org_test[\"majmin\"] = np.where(org_test[colname_to_bin] == majority_value, \"majority\", \"minority\")"
   ]
  },
  {
   "cell_type": "code",
   "execution_count": 73,
   "id": "06a50de5",
   "metadata": {
    "execution": {
     "iopub.execute_input": "2025-07-30T21:41:26.191078Z",
     "iopub.status.busy": "2025-07-30T21:41:26.190315Z",
     "iopub.status.idle": "2025-07-30T21:41:28.375277Z",
     "shell.execute_reply": "2025-07-30T21:41:28.374188Z"
    },
    "papermill": {
     "duration": 2.202155,
     "end_time": "2025-07-30T21:41:28.377258",
     "exception": false,
     "start_time": "2025-07-30T21:41:26.175103",
     "status": "completed"
    },
    "tags": []
   },
   "outputs": [],
   "source": [
    "example_universe = universe.copy()\n",
    "example_universe[\"cutoff\"] = example_universe[\"cutoff\"][0]\n",
    "example_universe[\"eval_fairness_grouping\"] = example_universe[\"eval_fairness_grouping\"][0]\n",
    "fairness_dict, metric_frame = universe_analysis.compute_metrics(\n",
    "    example_universe,\n",
    "    y_pred_prob=probs_test,\n",
    "    y_test=y_true,\n",
    "    org_test=org_test,\n",
    ")"
   ]
  },
  {
   "cell_type": "markdown",
   "id": "f95d4e02",
   "metadata": {
    "papermill": {
     "duration": 0.027157,
     "end_time": "2025-07-30T21:41:28.431260",
     "exception": false,
     "start_time": "2025-07-30T21:41:28.404103",
     "status": "completed"
    },
    "tags": []
   },
   "source": [
    "# Overall"
   ]
  },
  {
   "cell_type": "markdown",
   "id": "bdee4871",
   "metadata": {
    "papermill": {
     "duration": 0.028013,
     "end_time": "2025-07-30T21:41:28.487856",
     "exception": false,
     "start_time": "2025-07-30T21:41:28.459843",
     "status": "completed"
    },
    "tags": []
   },
   "source": [
    "Fairness\n",
    "Main fairness target: Equalized Odds. Seems to be a better fit than equal opportunity, since we're not only interested in Y = 1. Seems to be a better fit than demographic parity, since we also care about accuracy, not just equal distribution of preds.\n",
    "\n",
    "Pick column for computation of fairness metrics\n",
    "\n",
    "Performance\n",
    "Overall performance measures, most interesting in relation to the measures split by group below"
   ]
  },
  {
   "cell_type": "code",
   "execution_count": 74,
   "id": "c4e067c6",
   "metadata": {
    "execution": {
     "iopub.execute_input": "2025-07-30T21:41:28.543853Z",
     "iopub.status.busy": "2025-07-30T21:41:28.543365Z",
     "iopub.status.idle": "2025-07-30T21:41:28.553032Z",
     "shell.execute_reply": "2025-07-30T21:41:28.551865Z"
    },
    "papermill": {
     "duration": 0.039443,
     "end_time": "2025-07-30T21:41:28.555116",
     "exception": false,
     "start_time": "2025-07-30T21:41:28.515673",
     "status": "completed"
    },
    "tags": []
   },
   "outputs": [
    {
     "data": {
      "text/plain": [
       "accuracy                   0.212095\n",
       "balanced accuracy          0.540256\n",
       "f1                         0.242225\n",
       "precision                  0.138157\n",
       "false positive rate        0.901153\n",
       "false negative rate        0.018335\n",
       "selection rate             0.911481\n",
       "count                  89710.000000\n",
       "dtype: float64"
      ]
     },
     "execution_count": 74,
     "metadata": {},
     "output_type": "execute_result"
    }
   ],
   "source": [
    "metric_frame.overall"
   ]
  },
  {
   "cell_type": "markdown",
   "id": "e968fe9d",
   "metadata": {
    "papermill": {
     "duration": 0.030437,
     "end_time": "2025-07-30T21:41:28.617033",
     "exception": false,
     "start_time": "2025-07-30T21:41:28.586596",
     "status": "completed"
    },
    "tags": []
   },
   "source": [
    "By Group"
   ]
  },
  {
   "cell_type": "code",
   "execution_count": 75,
   "id": "ec325bce",
   "metadata": {
    "execution": {
     "iopub.execute_input": "2025-07-30T21:41:28.676597Z",
     "iopub.status.busy": "2025-07-30T21:41:28.676080Z",
     "iopub.status.idle": "2025-07-30T21:41:28.696512Z",
     "shell.execute_reply": "2025-07-30T21:41:28.695515Z"
    },
    "papermill": {
     "duration": 0.051589,
     "end_time": "2025-07-30T21:41:28.698090",
     "exception": false,
     "start_time": "2025-07-30T21:41:28.646501",
     "status": "completed"
    },
    "tags": []
   },
   "outputs": [
    {
     "data": {
      "text/html": [
       "<div>\n",
       "<style scoped>\n",
       "    .dataframe tbody tr th:only-of-type {\n",
       "        vertical-align: middle;\n",
       "    }\n",
       "\n",
       "    .dataframe tbody tr th {\n",
       "        vertical-align: top;\n",
       "    }\n",
       "\n",
       "    .dataframe thead th {\n",
       "        text-align: right;\n",
       "    }\n",
       "</style>\n",
       "<table border=\"1\" class=\"dataframe\">\n",
       "  <thead>\n",
       "    <tr style=\"text-align: right;\">\n",
       "      <th></th>\n",
       "      <th>accuracy</th>\n",
       "      <th>balanced accuracy</th>\n",
       "      <th>f1</th>\n",
       "      <th>precision</th>\n",
       "      <th>false positive rate</th>\n",
       "      <th>false negative rate</th>\n",
       "      <th>selection rate</th>\n",
       "      <th>count</th>\n",
       "    </tr>\n",
       "    <tr>\n",
       "      <th>majmin</th>\n",
       "      <th></th>\n",
       "      <th></th>\n",
       "      <th></th>\n",
       "      <th></th>\n",
       "      <th></th>\n",
       "      <th></th>\n",
       "      <th></th>\n",
       "      <th></th>\n",
       "    </tr>\n",
       "  </thead>\n",
       "  <tbody>\n",
       "    <tr>\n",
       "      <th>majority</th>\n",
       "      <td>0.218693</td>\n",
       "      <td>0.542725</td>\n",
       "      <td>0.249559</td>\n",
       "      <td>0.142918</td>\n",
       "      <td>0.897701</td>\n",
       "      <td>0.016849</td>\n",
       "      <td>0.908992</td>\n",
       "      <td>69170.0</td>\n",
       "    </tr>\n",
       "    <tr>\n",
       "      <th>minority</th>\n",
       "      <td>0.189873</td>\n",
       "      <td>0.531686</td>\n",
       "      <td>0.217383</td>\n",
       "      <td>0.122314</td>\n",
       "      <td>0.912558</td>\n",
       "      <td>0.024071</td>\n",
       "      <td>0.919864</td>\n",
       "      <td>20540.0</td>\n",
       "    </tr>\n",
       "  </tbody>\n",
       "</table>\n",
       "</div>"
      ],
      "text/plain": [
       "          accuracy  balanced accuracy        f1  precision  \\\n",
       "majmin                                                       \n",
       "majority  0.218693           0.542725  0.249559   0.142918   \n",
       "minority  0.189873           0.531686  0.217383   0.122314   \n",
       "\n",
       "          false positive rate  false negative rate  selection rate    count  \n",
       "majmin                                                                       \n",
       "majority             0.897701             0.016849        0.908992  69170.0  \n",
       "minority             0.912558             0.024071        0.919864  20540.0  "
      ]
     },
     "execution_count": 75,
     "metadata": {},
     "output_type": "execute_result"
    }
   ],
   "source": [
    "metric_frame.by_group"
   ]
  },
  {
   "cell_type": "code",
   "execution_count": 76,
   "id": "a9ddbe63",
   "metadata": {
    "execution": {
     "iopub.execute_input": "2025-07-30T21:41:28.759079Z",
     "iopub.status.busy": "2025-07-30T21:41:28.758358Z",
     "iopub.status.idle": "2025-07-30T21:41:31.110682Z",
     "shell.execute_reply": "2025-07-30T21:41:31.109525Z"
    },
    "papermill": {
     "duration": 2.387104,
     "end_time": "2025-07-30T21:41:31.112434",
     "exception": false,
     "start_time": "2025-07-30T21:41:28.725330",
     "status": "completed"
    },
    "tags": []
   },
   "outputs": [
    {
     "data": {
      "text/plain": [
       "array([[<Axes: title={'center': 'accuracy'}, xlabel='majmin'>,\n",
       "        <Axes: title={'center': 'balanced accuracy'}, xlabel='majmin'>,\n",
       "        <Axes: title={'center': 'f1'}, xlabel='majmin'>],\n",
       "       [<Axes: title={'center': 'precision'}, xlabel='majmin'>,\n",
       "        <Axes: title={'center': 'false positive rate'}, xlabel='majmin'>,\n",
       "        <Axes: title={'center': 'false negative rate'}, xlabel='majmin'>],\n",
       "       [<Axes: title={'center': 'selection rate'}, xlabel='majmin'>,\n",
       "        <Axes: title={'center': 'count'}, xlabel='majmin'>,\n",
       "        <Axes: xlabel='majmin'>]], dtype=object)"
      ]
     },
     "execution_count": 76,
     "metadata": {},
     "output_type": "execute_result"
    },
    {
     "data": {
      "image/png": "[encoded data removed]",
      "text/plain": [
       "<Figure size 1200x800 with 9 Axes>"
      ]
     },
     "metadata": {},
     "output_type": "display_data"
    }
   ],
   "source": [
    "# In a graphic\n",
    "metric_frame.by_group.plot.bar(\n",
    "    subplots=True,\n",
    "    layout=[3, 3],\n",
    "    legend=False,\n",
    "    figsize=[12, 8],\n",
    "    title=\"Show all metrics\",\n",
    ")"
   ]
  },
  {
   "cell_type": "markdown",
   "id": "f57a0bac",
   "metadata": {
    "papermill": {
     "duration": 0.029901,
     "end_time": "2025-07-30T21:41:31.173587",
     "exception": false,
     "start_time": "2025-07-30T21:41:31.143686",
     "status": "completed"
    },
    "tags": []
   },
   "source": [
    "# Final Output"
   ]
  },
  {
   "cell_type": "code",
   "execution_count": 77,
   "id": "96d280a3",
   "metadata": {
    "execution": {
     "iopub.execute_input": "2025-07-30T21:41:31.231385Z",
     "iopub.status.busy": "2025-07-30T21:41:31.230816Z",
     "iopub.status.idle": "2025-07-30T21:41:31.239083Z",
     "shell.execute_reply": "2025-07-30T21:41:31.238148Z"
    },
    "papermill": {
     "duration": 0.039171,
     "end_time": "2025-07-30T21:41:31.240369",
     "exception": false,
     "start_time": "2025-07-30T21:41:31.201198",
     "status": "completed"
    },
    "tags": []
   },
   "outputs": [
    {
     "data": {
      "text/plain": [
       "4"
      ]
     },
     "execution_count": 77,
     "metadata": {},
     "output_type": "execute_result"
    }
   ],
   "source": [
    "sub_universes = universe_analysis.generate_sub_universes()\n",
    "len(sub_universes)"
   ]
  },
  {
   "cell_type": "code",
   "execution_count": 78,
   "id": "92adf7ba",
   "metadata": {
    "execution": {
     "iopub.execute_input": "2025-07-30T21:41:31.272690Z",
     "iopub.status.busy": "2025-07-30T21:41:31.272323Z",
     "iopub.status.idle": "2025-07-30T21:41:31.289722Z",
     "shell.execute_reply": "2025-07-30T21:41:31.288950Z"
    },
    "papermill": {
     "duration": 0.034706,
     "end_time": "2025-07-30T21:41:31.291190",
     "exception": false,
     "start_time": "2025-07-30T21:41:31.256484",
     "status": "completed"
    },
    "tags": []
   },
   "outputs": [],
   "source": [
    "def filter_sub_universe_data(sub_universe, org_test):\n",
    "    # Keep all rows — no filtering\n",
    "    keep_rows_mask = np.ones(org_test.shape[0], dtype=bool)\n",
    "\n",
    "    print(f\"[INFO] Keeping all rows: {keep_rows_mask.sum()} rows retained.\")\n",
    "    return keep_rows_mask"
   ]
  },
  {
   "cell_type": "code",
   "execution_count": 79,
   "id": "4a759155",
   "metadata": {
    "execution": {
     "iopub.execute_input": "2025-07-30T21:41:31.328398Z",
     "iopub.status.busy": "2025-07-30T21:41:31.327989Z",
     "iopub.status.idle": "2025-07-30T21:41:42.028336Z",
     "shell.execute_reply": "2025-07-30T21:41:42.027266Z"
    },
    "papermill": {
     "duration": 10.72113,
     "end_time": "2025-07-30T21:41:42.029969",
     "exception": false,
     "start_time": "2025-07-30T21:41:31.308839",
     "status": "completed"
    },
    "tags": []
   },
   "outputs": [
    {
     "name": "stdout",
     "output_type": "stream",
     "text": [
      "Stopping execution_time clock.\n",
      "[INFO] Keeping all rows: 89710 rows retained.\n"
     ]
    },
    {
     "name": "stdout",
     "output_type": "stream",
     "text": [
      "[INFO] Keeping all rows: 89710 rows retained.\n"
     ]
    },
    {
     "name": "stdout",
     "output_type": "stream",
     "text": [
      "[INFO] Keeping all rows: 89710 rows retained.\n"
     ]
    },
    {
     "name": "stdout",
     "output_type": "stream",
     "text": [
      "[INFO] Keeping all rows: 89710 rows retained.\n"
     ]
    },
    {
     "data": {
      "text/html": [
       "<div>\n",
       "<style scoped>\n",
       "    .dataframe tbody tr th:only-of-type {\n",
       "        vertical-align: middle;\n",
       "    }\n",
       "\n",
       "    .dataframe tbody tr th {\n",
       "        vertical-align: top;\n",
       "    }\n",
       "\n",
       "    .dataframe thead th {\n",
       "        text-align: right;\n",
       "    }\n",
       "</style>\n",
       "<table border=\"1\" class=\"dataframe\">\n",
       "  <thead>\n",
       "    <tr style=\"text-align: right;\">\n",
       "      <th></th>\n",
       "      <th>run_no</th>\n",
       "      <th>universe_id</th>\n",
       "      <th>universe_settings</th>\n",
       "      <th>execution_time</th>\n",
       "      <th>test_size_n</th>\n",
       "      <th>test_size_frac</th>\n",
       "      <th>fair_main_equalized_odds_difference</th>\n",
       "      <th>fair_main_equalized_odds_ratio</th>\n",
       "      <th>fair_main_demographic_parity_difference</th>\n",
       "      <th>fair_main_demographic_parity_ratio</th>\n",
       "      <th>...</th>\n",
       "      <th>perf_grp_precision_0</th>\n",
       "      <th>perf_grp_precision_1</th>\n",
       "      <th>perf_grp_false positive rate_0</th>\n",
       "      <th>perf_grp_false positive rate_1</th>\n",
       "      <th>perf_grp_false negative rate_0</th>\n",
       "      <th>perf_grp_false negative rate_1</th>\n",
       "      <th>perf_grp_selection rate_0</th>\n",
       "      <th>perf_grp_selection rate_1</th>\n",
       "      <th>perf_grp_count_0</th>\n",
       "      <th>perf_grp_count_1</th>\n",
       "    </tr>\n",
       "  </thead>\n",
       "  <tbody>\n",
       "    <tr>\n",
       "      <th>0</th>\n",
       "      <td>14</td>\n",
       "      <td>d1d59f1a42d6cc0b6b3a6cf134f61917</td>\n",
       "      <td>{\"cutoff\": \"quantile_0.1\", \"eval_fairness_grou...</td>\n",
       "      <td>28.663933</td>\n",
       "      <td>89710</td>\n",
       "      <td>1.0</td>\n",
       "      <td>0.014857</td>\n",
       "      <td>0.983720</td>\n",
       "      <td>0.010871</td>\n",
       "      <td>0.988182</td>\n",
       "      <td>...</td>\n",
       "      <td>NaN</td>\n",
       "      <td>NaN</td>\n",
       "      <td>NaN</td>\n",
       "      <td>NaN</td>\n",
       "      <td>NaN</td>\n",
       "      <td>NaN</td>\n",
       "      <td>NaN</td>\n",
       "      <td>NaN</td>\n",
       "      <td>NaN</td>\n",
       "      <td>NaN</td>\n",
       "    </tr>\n",
       "    <tr>\n",
       "      <th>0</th>\n",
       "      <td>14</td>\n",
       "      <td>d1d59f1a42d6cc0b6b3a6cf134f61917</td>\n",
       "      <td>{\"cutoff\": \"quantile_0.1\", \"eval_fairness_grou...</td>\n",
       "      <td>28.663933</td>\n",
       "      <td>89710</td>\n",
       "      <td>1.0</td>\n",
       "      <td>0.014857</td>\n",
       "      <td>0.983720</td>\n",
       "      <td>0.010871</td>\n",
       "      <td>0.988182</td>\n",
       "      <td>...</td>\n",
       "      <td>0.122314</td>\n",
       "      <td>0.142918</td>\n",
       "      <td>0.912558</td>\n",
       "      <td>0.897701</td>\n",
       "      <td>0.024071</td>\n",
       "      <td>0.016849</td>\n",
       "      <td>0.919864</td>\n",
       "      <td>0.908992</td>\n",
       "      <td>20540.0</td>\n",
       "      <td>69170.0</td>\n",
       "    </tr>\n",
       "    <tr>\n",
       "      <th>0</th>\n",
       "      <td>14</td>\n",
       "      <td>d1d59f1a42d6cc0b6b3a6cf134f61917</td>\n",
       "      <td>{\"cutoff\": \"quantile_0.25\", \"eval_fairness_gro...</td>\n",
       "      <td>28.663933</td>\n",
       "      <td>89710</td>\n",
       "      <td>1.0</td>\n",
       "      <td>0.060915</td>\n",
       "      <td>0.923081</td>\n",
       "      <td>0.046092</td>\n",
       "      <td>0.942709</td>\n",
       "      <td>...</td>\n",
       "      <td>NaN</td>\n",
       "      <td>NaN</td>\n",
       "      <td>NaN</td>\n",
       "      <td>NaN</td>\n",
       "      <td>NaN</td>\n",
       "      <td>NaN</td>\n",
       "      <td>NaN</td>\n",
       "      <td>NaN</td>\n",
       "      <td>NaN</td>\n",
       "      <td>NaN</td>\n",
       "    </tr>\n",
       "    <tr>\n",
       "      <th>0</th>\n",
       "      <td>14</td>\n",
       "      <td>d1d59f1a42d6cc0b6b3a6cf134f61917</td>\n",
       "      <td>{\"cutoff\": \"quantile_0.25\", \"eval_fairness_gro...</td>\n",
       "      <td>28.663933</td>\n",
       "      <td>89710</td>\n",
       "      <td>1.0</td>\n",
       "      <td>0.060915</td>\n",
       "      <td>0.923081</td>\n",
       "      <td>0.046092</td>\n",
       "      <td>0.942709</td>\n",
       "      <td>...</td>\n",
       "      <td>0.129138</td>\n",
       "      <td>0.163512</td>\n",
       "      <td>0.791933</td>\n",
       "      <td>0.731018</td>\n",
       "      <td>0.098818</td>\n",
       "      <td>0.061488</td>\n",
       "      <td>0.804528</td>\n",
       "      <td>0.758436</td>\n",
       "      <td>20540.0</td>\n",
       "      <td>69170.0</td>\n",
       "    </tr>\n",
       "  </tbody>\n",
       "</table>\n",
       "<p>4 rows × 50 columns</p>\n",
       "</div>"
      ],
      "text/plain": [
       "  run_no                       universe_id  \\\n",
       "0     14  d1d59f1a42d6cc0b6b3a6cf134f61917   \n",
       "0     14  d1d59f1a42d6cc0b6b3a6cf134f61917   \n",
       "0     14  d1d59f1a42d6cc0b6b3a6cf134f61917   \n",
       "0     14  d1d59f1a42d6cc0b6b3a6cf134f61917   \n",
       "\n",
       "                                   universe_settings  execution_time  \\\n",
       "0  {\"cutoff\": \"quantile_0.1\", \"eval_fairness_grou...       28.663933   \n",
       "0  {\"cutoff\": \"quantile_0.1\", \"eval_fairness_grou...       28.663933   \n",
       "0  {\"cutoff\": \"quantile_0.25\", \"eval_fairness_gro...       28.663933   \n",
       "0  {\"cutoff\": \"quantile_0.25\", \"eval_fairness_gro...       28.663933   \n",
       "\n",
       "   test_size_n  test_size_frac  fair_main_equalized_odds_difference  \\\n",
       "0        89710             1.0                             0.014857   \n",
       "0        89710             1.0                             0.014857   \n",
       "0        89710             1.0                             0.060915   \n",
       "0        89710             1.0                             0.060915   \n",
       "\n",
       "   fair_main_equalized_odds_ratio  fair_main_demographic_parity_difference  \\\n",
       "0                        0.983720                                 0.010871   \n",
       "0                        0.983720                                 0.010871   \n",
       "0                        0.923081                                 0.046092   \n",
       "0                        0.923081                                 0.046092   \n",
       "\n",
       "   fair_main_demographic_parity_ratio  ...  perf_grp_precision_0  \\\n",
       "0                            0.988182  ...                   NaN   \n",
       "0                            0.988182  ...              0.122314   \n",
       "0                            0.942709  ...                   NaN   \n",
       "0                            0.942709  ...              0.129138   \n",
       "\n",
       "   perf_grp_precision_1  perf_grp_false positive rate_0  \\\n",
       "0                   NaN                             NaN   \n",
       "0              0.142918                        0.912558   \n",
       "0                   NaN                             NaN   \n",
       "0              0.163512                        0.791933   \n",
       "\n",
       "   perf_grp_false positive rate_1  perf_grp_false negative rate_0  \\\n",
       "0                             NaN                             NaN   \n",
       "0                        0.897701                        0.024071   \n",
       "0                             NaN                             NaN   \n",
       "0                        0.731018                        0.098818   \n",
       "\n",
       "   perf_grp_false negative rate_1  perf_grp_selection rate_0  \\\n",
       "0                             NaN                        NaN   \n",
       "0                        0.016849                   0.919864   \n",
       "0                             NaN                        NaN   \n",
       "0                        0.061488                   0.804528   \n",
       "\n",
       "   perf_grp_selection rate_1  perf_grp_count_0  perf_grp_count_1  \n",
       "0                        NaN               NaN               NaN  \n",
       "0                   0.908992           20540.0           69170.0  \n",
       "0                        NaN               NaN               NaN  \n",
       "0                   0.758436           20540.0           69170.0  \n",
       "\n",
       "[4 rows x 50 columns]"
      ]
     },
     "execution_count": 79,
     "metadata": {},
     "output_type": "execute_result"
    }
   ],
   "source": [
    "final_output = universe_analysis.generate_final_output(\n",
    "    y_pred_prob=probs_test,\n",
    "    y_test=y_true,\n",
    "    org_test=org_test,\n",
    "    filter_data=filter_sub_universe_data,\n",
    "    cp_metrics_df=cp_metrics_df,\n",
    "    save=True,\n",
    ")\n",
    "final_output"
   ]
  },
  {
   "cell_type": "code",
   "execution_count": null,
   "id": "721ff514-cb11-46f8-b6fc-50392f74b5cb",
   "metadata": {
    "papermill": {
     "duration": 0.029505,
     "end_time": "2025-07-30T21:41:42.091972",
     "exception": false,
     "start_time": "2025-07-30T21:41:42.062467",
     "status": "completed"
    },
    "tags": []
   },
   "outputs": [],
   "source": []
  }
 ],
 "metadata": {
  "celltoolbar": "Tags",
  "kernelspec": {
   "display_name": "Python (CMA Fairness)",
   "language": "python",
   "name": "cma_fair_env"
  },
  "language_info": {
   "codemirror_mode": {
    "name": "ipython",
    "version": 3
   },
   "file_extension": ".py",
   "mimetype": "text/x-python",
   "name": "python",
   "nbconvert_exporter": "python",
   "pygments_lexer": "ipython3",
   "version": "3.10.12"
  },
  "papermill": {
   "default_parameters": {},
   "duration": 44.150022,
   "end_time": "2025-07-30T21:41:42.942573",
   "environment_variables": {},
   "exception": null,
   "input_path": "universe_analysis.ipynb",
   "output_path": "output/runs/14/notebooks/m_14-d1d59f1a42d6cc0b6b3a6cf134f61917.ipynb",
   "parameters": {
    "output_dir": "output",
    "run_no": "14",
    "seed": "2023",
    "universe": "{\"cutoff\": [\"quantile_0.1\", \"quantile_0.25\"], \"eval_fairness_grouping\": [\"majority-minority\", \"nationality-all\"], \"exclude_features\": \"age\", \"exclude_subgroups\": \"drop-non-german\", \"model\": \"rf\", \"scale\": \"do-not-scale\", \"training_size\": \"1k\", \"training_year\": \"2012_14\"}",
    "universe_id": "d1d59f1a42d6cc0b6b3a6cf134f61917"
   },
   "start_time": "2025-07-30T21:40:58.792551",
   "version": "2.6.0"
  }
 },
 "nbformat": 4,
 "nbformat_minor": 5
}