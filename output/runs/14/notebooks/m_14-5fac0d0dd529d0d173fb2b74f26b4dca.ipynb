{
 "cells": [
  {
   "cell_type": "code",
   "execution_count": 1,
   "id": "f159f837-637b-42ba-96b5-ec9a68c44524",
   "metadata": {
    "execution": {
     "iopub.execute_input": "2025-07-30T21:46:19.280218Z",
     "iopub.status.busy": "2025-07-30T21:46:19.279393Z",
     "iopub.status.idle": "2025-07-30T21:46:19.293313Z",
     "shell.execute_reply": "2025-07-30T21:46:19.292438Z"
    },
    "papermill": {
     "duration": 0.03673,
     "end_time": "2025-07-30T21:46:19.294995",
     "exception": false,
     "start_time": "2025-07-30T21:46:19.258265",
     "status": "completed"
    },
    "tags": []
   },
   "outputs": [
    {
     "name": "stdout",
     "output_type": "stream",
     "text": [
      "/dss/dsshome1/0C/ra93lal2/cma/CMA_Fairness_v2\n"
     ]
    },
    {
     "name": "stderr",
     "output_type": "stream",
     "text": [
      "/dss/dsshome1/0C/ra93lal2/.local/share/virtualenvs/CMA_Fairness_v2-3j10GkSs/lib/python3.10/site-packages/IPython/core/magics/osm.py:393: UserWarning: This is now an optional IPython functionality, using bookmarks requires you to install the `pickleshare` library.\n",
      "  bkms = self.shell.db.get('bookmarks', {})\n",
      "/dss/dsshome1/0C/ra93lal2/.local/share/virtualenvs/CMA_Fairness_v2-3j10GkSs/lib/python3.10/site-packages/IPython/core/magics/osm.py:417: UserWarning: This is now an optional IPython functionality, setting dhist requires you to install the `pickleshare` library.\n",
      "  self.shell.db['dhist'] = compress_dhist(dhist)[-100:]\n"
     ]
    }
   ],
   "source": [
    "%cd ~/cma/CMA_Fairness_v2"
   ]
  },
  {
   "cell_type": "markdown",
   "id": "de2603b9",
   "metadata": {
    "papermill": {
     "duration": 0.019361,
     "end_time": "2025-07-30T21:46:19.335923",
     "exception": false,
     "start_time": "2025-07-30T21:46:19.316562",
     "status": "completed"
    },
    "tags": []
   },
   "source": [
    "The following cell holds the definition of our parameters, these values can be overriden by rendering the with e.g. the following command:\n",
    "\n",
    "papermill -p alpha 0.2 -p ratio 0.3 universe_analysis.ipynb output/test_run.ipynb"
   ]
  },
  {
   "cell_type": "code",
   "execution_count": 2,
   "id": "a80968a0-40bb-4fa9-85ef-2d5eefb01975",
   "metadata": {
    "execution": {
     "iopub.execute_input": "2025-07-30T21:46:19.375567Z",
     "iopub.status.busy": "2025-07-30T21:46:19.374857Z",
     "iopub.status.idle": "2025-07-30T21:46:19.380433Z",
     "shell.execute_reply": "2025-07-30T21:46:19.379425Z"
    },
    "papermill": {
     "duration": 0.027983,
     "end_time": "2025-07-30T21:46:19.382176",
     "exception": false,
     "start_time": "2025-07-30T21:46:19.354193",
     "status": "completed"
    },
    "tags": []
   },
   "outputs": [
    {
     "name": "stdout",
     "output_type": "stream",
     "text": [
      "Current working directory: /dss/dsshome1/0C/ra93lal2/cma/CMA_Fairness_v2\n"
     ]
    }
   ],
   "source": [
    "import os\n",
    "print(\"Current working directory:\", os.getcwd())"
   ]
  },
  {
   "cell_type": "code",
   "execution_count": 3,
   "id": "2dce4c03",
   "metadata": {
    "execution": {
     "iopub.execute_input": "2025-07-30T21:46:19.422630Z",
     "iopub.status.busy": "2025-07-30T21:46:19.421834Z",
     "iopub.status.idle": "2025-07-30T21:46:19.428228Z",
     "shell.execute_reply": "2025-07-30T21:46:19.427328Z"
    },
    "papermill": {
     "duration": 0.02758,
     "end_time": "2025-07-30T21:46:19.429733",
     "exception": false,
     "start_time": "2025-07-30T21:46:19.402153",
     "status": "completed"
    },
    "tags": [
     "parameters"
    ]
   },
   "outputs": [],
   "source": [
    "run_no = 0\n",
    "universe_id = \"test\"\n",
    "universe = {\n",
    "    \"training_size\": \"25k\", # \"25k\", \"5k\", \"1k\"\n",
    "    \"training_year\": \"2014\", # \"2014\", \"2012_14\", \"2010_14\"\n",
    "    \"scale\": \"scale\", # \"scale\", \"do-not-scale\",\n",
    "    #\"stratify_split\": \"target\", # \"none\", \"target\", \"protected-attribute\", \"both\",\n",
    "    \"model\": \"elasticnet\", # \"logreg\", \"penalized_logreg\", \"rf\", \"gbm\", \"elasticnet\"\n",
    "    \"cutoff\": [\"quantile_0.15\", \"quantile_0.30\"],\n",
    "    \"exclude_features\": \"age\", # \"none\", \"nationality\", \"sex\", \"nationality-sex\", \"age\"\n",
    "    \"exclude_subgroups\": \"keep-all\", # \"keep-all\", \"drop-non-german\"\n",
    "    \"eval_fairness_grouping\": [\"majority-minority\", \"nationality-all\"]\n",
    "}\n",
    "\n",
    "output_dir=\"./output\"\n",
    "seed=0"
   ]
  },
  {
   "cell_type": "code",
   "execution_count": 4,
   "id": "5d30699f",
   "metadata": {
    "execution": {
     "iopub.execute_input": "2025-07-30T21:46:19.471902Z",
     "iopub.status.busy": "2025-07-30T21:46:19.471319Z",
     "iopub.status.idle": "2025-07-30T21:46:19.476401Z",
     "shell.execute_reply": "2025-07-30T21:46:19.475379Z"
    },
    "papermill": {
     "duration": 0.027333,
     "end_time": "2025-07-30T21:46:19.478057",
     "exception": false,
     "start_time": "2025-07-30T21:46:19.450724",
     "status": "completed"
    },
    "tags": [
     "injected-parameters"
    ]
   },
   "outputs": [],
   "source": [
    "# Parameters\n",
    "universe_id = \"5fac0d0dd529d0d173fb2b74f26b4dca\"\n",
    "run_no = \"14\"\n",
    "universe = \"{\\\"cutoff\\\": [\\\"quantile_0.1\\\", \\\"quantile_0.25\\\"], \\\"eval_fairness_grouping\\\": [\\\"majority-minority\\\", \\\"nationality-all\\\"], \\\"exclude_features\\\": \\\"age\\\", \\\"exclude_subgroups\\\": \\\"keep-all\\\", \\\"model\\\": \\\"rf\\\", \\\"scale\\\": \\\"scale\\\", \\\"training_size\\\": \\\"1k\\\", \\\"training_year\\\": \\\"2010_14\\\"}\"\n",
    "output_dir = \"output\"\n",
    "seed = \"2023\"\n"
   ]
  },
  {
   "cell_type": "code",
   "execution_count": 5,
   "id": "1650acaf",
   "metadata": {
    "execution": {
     "iopub.execute_input": "2025-07-30T21:46:19.520604Z",
     "iopub.status.busy": "2025-07-30T21:46:19.519862Z",
     "iopub.status.idle": "2025-07-30T21:46:19.525141Z",
     "shell.execute_reply": "2025-07-30T21:46:19.524228Z"
    },
    "papermill": {
     "duration": 0.028289,
     "end_time": "2025-07-30T21:46:19.526689",
     "exception": false,
     "start_time": "2025-07-30T21:46:19.498400",
     "status": "completed"
    },
    "tags": []
   },
   "outputs": [],
   "source": [
    "import json\n",
    "# Parse universe into dict if it is passed as a string\n",
    "if isinstance(universe, str):\n",
    "    universe = json.loads(universe)"
   ]
  },
  {
   "cell_type": "code",
   "execution_count": 6,
   "id": "16620c48",
   "metadata": {
    "execution": {
     "iopub.execute_input": "2025-07-30T21:46:19.566704Z",
     "iopub.status.busy": "2025-07-30T21:46:19.565937Z",
     "iopub.status.idle": "2025-07-30T21:46:19.609808Z",
     "shell.execute_reply": "2025-07-30T21:46:19.608857Z"
    },
    "papermill": {
     "duration": 0.065961,
     "end_time": "2025-07-30T21:46:19.611722",
     "exception": false,
     "start_time": "2025-07-30T21:46:19.545761",
     "status": "completed"
    },
    "tags": []
   },
   "outputs": [],
   "source": [
    "# Auto-reload the custom package\n",
    "%load_ext autoreload\n",
    "%autoreload 1\n",
    "%aimport fairness_multiverse"
   ]
  },
  {
   "cell_type": "code",
   "execution_count": 7,
   "id": "01c5c9f3",
   "metadata": {
    "execution": {
     "iopub.execute_input": "2025-07-30T21:46:19.653395Z",
     "iopub.status.busy": "2025-07-30T21:46:19.652764Z",
     "iopub.status.idle": "2025-07-30T21:46:21.510658Z",
     "shell.execute_reply": "2025-07-30T21:46:21.509894Z"
    },
    "papermill": {
     "duration": 1.880347,
     "end_time": "2025-07-30T21:46:21.512479",
     "exception": false,
     "start_time": "2025-07-30T21:46:19.632132",
     "status": "completed"
    },
    "tags": []
   },
   "outputs": [],
   "source": [
    "from fairness_multiverse.universe import UniverseAnalysis\n",
    "\n",
    "universe_analysis = UniverseAnalysis(\n",
    "    run_no = run_no,\n",
    "    universe_id = universe_id,\n",
    "    universe = universe,\n",
    "    output_dir=output_dir,\n",
    ")"
   ]
  },
  {
   "cell_type": "code",
   "execution_count": 8,
   "id": "106241f5",
   "metadata": {
    "execution": {
     "iopub.execute_input": "2025-07-30T21:46:21.551806Z",
     "iopub.status.busy": "2025-07-30T21:46:21.551297Z",
     "iopub.status.idle": "2025-07-30T21:46:21.557471Z",
     "shell.execute_reply": "2025-07-30T21:46:21.556360Z"
    },
    "papermill": {
     "duration": 0.026718,
     "end_time": "2025-07-30T21:46:21.558789",
     "exception": false,
     "start_time": "2025-07-30T21:46:21.532071",
     "status": "completed"
    },
    "tags": []
   },
   "outputs": [
    {
     "name": "stdout",
     "output_type": "stream",
     "text": [
      "Using Seed: 2023\n"
     ]
    }
   ],
   "source": [
    "import numpy as np\n",
    "parsed_seed = int(seed)\n",
    "np.random.seed(parsed_seed)\n",
    "print(f\"Using Seed: {parsed_seed}\")"
   ]
  },
  {
   "cell_type": "markdown",
   "id": "e0ebdc57",
   "metadata": {
    "papermill": {
     "duration": 0.010007,
     "end_time": "2025-07-30T21:46:21.580331",
     "exception": false,
     "start_time": "2025-07-30T21:46:21.570324",
     "status": "completed"
    },
    "tags": []
   },
   "source": [
    "# Loading Data"
   ]
  },
  {
   "cell_type": "markdown",
   "id": "681925a3",
   "metadata": {
    "papermill": {
     "duration": 0.009914,
     "end_time": "2025-07-30T21:46:21.600221",
     "exception": false,
     "start_time": "2025-07-30T21:46:21.590307",
     "status": "completed"
    },
    "tags": []
   },
   "source": [
    "Load siab_train, siab_test, siab_calib and/or \n",
    "load siab_train_features, siab_train_labels"
   ]
  },
  {
   "cell_type": "code",
   "execution_count": 9,
   "id": "f0496b8a",
   "metadata": {
    "execution": {
     "iopub.execute_input": "2025-07-30T21:46:21.622037Z",
     "iopub.status.busy": "2025-07-30T21:46:21.621547Z",
     "iopub.status.idle": "2025-07-30T21:46:32.503551Z",
     "shell.execute_reply": "2025-07-30T21:46:32.501375Z"
    },
    "papermill": {
     "duration": 10.895723,
     "end_time": "2025-07-30T21:46:32.506033",
     "exception": false,
     "start_time": "2025-07-30T21:46:21.610310",
     "status": "completed"
    },
    "tags": []
   },
   "outputs": [
    {
     "name": "stdout",
     "output_type": "stream",
     "text": [
      "Loading SIAB data from cache: data/siab_cached.csv.gz\n"
     ]
    },
    {
     "name": "stdout",
     "output_type": "stream",
     "text": [
      "(643690, 164)\n"
     ]
    }
   ],
   "source": [
    "from pathlib import Path\n",
    "import pandas as pd\n",
    "\n",
    "# File paths\n",
    "raw_file = Path(\"data/raw/siab.csv\")\n",
    "cache_file = Path(\"data/siab_cached.csv.gz\")\n",
    "\n",
    "# Ensure cache directory exists\n",
    "cache_file.parent.mkdir(parents=True, exist_ok=True)\n",
    "\n",
    "# Load with simple caching\n",
    "if cache_file.exists():\n",
    "    print(f\"Loading SIAB data from cache: {cache_file}\")\n",
    "    siab = pd.read_csv(cache_file, compression='gzip')\n",
    "else:\n",
    "    print(f\"Cache not found. Reading raw SIAB data: {raw_file}\")\n",
    "    siab = pd.read_csv(raw_file)\n",
    "    siab.to_csv(cache_file, index=False, compression='gzip')\n",
    "    print(f\"Cached SIAB data to: {cache_file}\")\n",
    "\n",
    "# Now use `siab` DataFrame as needed\n",
    "print(siab.shape)"
   ]
  },
  {
   "cell_type": "code",
   "execution_count": 10,
   "id": "db0ca512-5f53-4dba-abdb-a2888bca41ba",
   "metadata": {
    "execution": {
     "iopub.execute_input": "2025-07-30T21:46:32.571456Z",
     "iopub.status.busy": "2025-07-30T21:46:32.570796Z",
     "iopub.status.idle": "2025-07-30T21:46:32.578444Z",
     "shell.execute_reply": "2025-07-30T21:46:32.576869Z"
    },
    "papermill": {
     "duration": 0.042256,
     "end_time": "2025-07-30T21:46:32.580873",
     "exception": false,
     "start_time": "2025-07-30T21:46:32.538617",
     "status": "completed"
    },
    "tags": []
   },
   "outputs": [],
   "source": [
    "#siab"
   ]
  },
  {
   "cell_type": "code",
   "execution_count": 11,
   "id": "a0edb063",
   "metadata": {
    "execution": {
     "iopub.execute_input": "2025-07-30T21:46:32.645406Z",
     "iopub.status.busy": "2025-07-30T21:46:32.644875Z",
     "iopub.status.idle": "2025-07-30T21:46:32.652113Z",
     "shell.execute_reply": "2025-07-30T21:46:32.650847Z"
    },
    "papermill": {
     "duration": 0.043217,
     "end_time": "2025-07-30T21:46:32.654739",
     "exception": false,
     "start_time": "2025-07-30T21:46:32.611522",
     "status": "completed"
    },
    "tags": []
   },
   "outputs": [],
   "source": [
    "#import pandas as pd\n",
    "#\n",
    "#X_train = pd.read_csv(\"./data/X_train.csv\")\n",
    "#y_train = pd.read_csv(\"./data/y_train.csv\")"
   ]
  },
  {
   "cell_type": "code",
   "execution_count": 12,
   "id": "63d08085",
   "metadata": {
    "execution": {
     "iopub.execute_input": "2025-07-30T21:46:32.716574Z",
     "iopub.status.busy": "2025-07-30T21:46:32.715987Z",
     "iopub.status.idle": "2025-07-30T21:46:32.721502Z",
     "shell.execute_reply": "2025-07-30T21:46:32.720236Z"
    },
    "papermill": {
     "duration": 0.039034,
     "end_time": "2025-07-30T21:46:32.724179",
     "exception": false,
     "start_time": "2025-07-30T21:46:32.685145",
     "status": "completed"
    },
    "tags": []
   },
   "outputs": [],
   "source": [
    "#X_test = pd.read_csv(\"./data/X_test.csv\")\n",
    "#y_true = pd.read_csv(\"./data/y_test.csv\")"
   ]
  },
  {
   "cell_type": "code",
   "execution_count": 13,
   "id": "98a8d0fa-1d3d-4ed8-bb2c-281470e24add",
   "metadata": {
    "execution": {
     "iopub.execute_input": "2025-07-30T21:46:32.787760Z",
     "iopub.status.busy": "2025-07-30T21:46:32.787131Z",
     "iopub.status.idle": "2025-07-30T21:46:32.793691Z",
     "shell.execute_reply": "2025-07-30T21:46:32.792246Z"
    },
    "papermill": {
     "duration": 0.04134,
     "end_time": "2025-07-30T21:46:32.796553",
     "exception": false,
     "start_time": "2025-07-30T21:46:32.755213",
     "status": "completed"
    },
    "tags": []
   },
   "outputs": [],
   "source": [
    "# Calibration data for conformal\n",
    "#X_calib = pd.read_csv(\"./data/X_calib.csv\")\n",
    "#y_calib = pd.read_csv(\"./data/y_calib.csv\")"
   ]
  },
  {
   "cell_type": "markdown",
   "id": "997051c5-15bd-4b69-9786-c3001a3ce484",
   "metadata": {
    "papermill": {
     "duration": 0.030017,
     "end_time": "2025-07-30T21:46:32.857707",
     "exception": false,
     "start_time": "2025-07-30T21:46:32.827690",
     "status": "completed"
    },
    "tags": []
   },
   "source": [
    "# Splitting Data and Setting Training Data Size"
   ]
  },
  {
   "cell_type": "code",
   "execution_count": 14,
   "id": "e993b61f-042d-41a6-8c81-f55681f86335",
   "metadata": {
    "execution": {
     "iopub.execute_input": "2025-07-30T21:46:32.917864Z",
     "iopub.status.busy": "2025-07-30T21:46:32.916966Z",
     "iopub.status.idle": "2025-07-30T21:46:32.933621Z",
     "shell.execute_reply": "2025-07-30T21:46:32.932182Z"
    },
    "papermill": {
     "duration": 0.051351,
     "end_time": "2025-07-30T21:46:32.936242",
     "exception": false,
     "start_time": "2025-07-30T21:46:32.884891",
     "status": "completed"
    },
    "tags": []
   },
   "outputs": [],
   "source": [
    "def sample_by_year_size(df,\n",
    "                        training_year: str,\n",
    "                        training_size: str,\n",
    "                        random_state: int = 42):\n",
    "    # --- parse training_year into a list of int years ---\n",
    "    if \"_\" in training_year:\n",
    "        start_str, end_str = training_year.split(\"_\", 1)\n",
    "        start = int(start_str)\n",
    "        end   = int(end_str) if len(end_str) == 4 else (int(end_str) + (start // 100)*100)\n",
    "        years = list(range(start, end + 1))\n",
    "    else:\n",
    "        years = [int(training_year)]\n",
    "\n",
    "    df = df[df[\"year\"].isin(years)].reset_index(drop=True)\n",
    "\n",
    "    # --- map training_size to total number of samples ---\n",
    "    total_map = {\"25k\": 25_000, \"5k\": 5_000, \"1k\": 1_000}\n",
    "    if training_size not in total_map:\n",
    "        return df  # e.g. \"all\"\n",
    "\n",
    "    total_samples = total_map[training_size]\n",
    "    n_years       = len(years)\n",
    "    base          = total_samples // n_years\n",
    "    remainder     = total_samples % n_years\n",
    "\n",
    "    # --- build a dict: year -> how many to sample ---\n",
    "    # give +1 to the first `remainder` years in ascending order\n",
    "    quotas = {\n",
    "        year: base + (1 if idx < remainder else 0)\n",
    "        for idx, year in enumerate(sorted(years))\n",
    "    }\n",
    "\n",
    "    # --- sample per‐year according to the quota dict ---\n",
    "    sampled = (\n",
    "        df\n",
    "        .groupby(\"year\", group_keys=False)\n",
    "        .apply(lambda grp: grp.sample(\n",
    "            n=min(len(grp), quotas[grp.name]),\n",
    "            random_state=random_state))\n",
    "        .reset_index(drop=True)\n",
    "    )\n",
    "\n",
    "    return sampled"
   ]
  },
  {
   "cell_type": "code",
   "execution_count": 15,
   "id": "c0ccd338-0e02-41f3-a09d-f56f9266e3fb",
   "metadata": {
    "execution": {
     "iopub.execute_input": "2025-07-30T21:46:32.999595Z",
     "iopub.status.busy": "2025-07-30T21:46:32.999086Z",
     "iopub.status.idle": "2025-07-30T21:46:33.004873Z",
     "shell.execute_reply": "2025-07-30T21:46:33.003589Z"
    },
    "papermill": {
     "duration": 0.040659,
     "end_time": "2025-07-30T21:46:33.007336",
     "exception": false,
     "start_time": "2025-07-30T21:46:32.966677",
     "status": "completed"
    },
    "tags": []
   },
   "outputs": [],
   "source": [
    "#universe[\"training_size\"]"
   ]
  },
  {
   "cell_type": "code",
   "execution_count": 16,
   "id": "ca707fd7-8047-4acd-bfa5-66248fbbf8e6",
   "metadata": {
    "execution": {
     "iopub.execute_input": "2025-07-30T21:46:33.071976Z",
     "iopub.status.busy": "2025-07-30T21:46:33.071427Z",
     "iopub.status.idle": "2025-07-30T21:46:33.077576Z",
     "shell.execute_reply": "2025-07-30T21:46:33.076424Z"
    },
    "papermill": {
     "duration": 0.041424,
     "end_time": "2025-07-30T21:46:33.080215",
     "exception": false,
     "start_time": "2025-07-30T21:46:33.038791",
     "status": "completed"
    },
    "tags": []
   },
   "outputs": [],
   "source": [
    "#universe[\"training_year\"]"
   ]
  },
  {
   "cell_type": "code",
   "execution_count": 17,
   "id": "aea9c6ef-6f46-42c8-85eb-5a62025c1508",
   "metadata": {
    "execution": {
     "iopub.execute_input": "2025-07-30T21:46:33.144095Z",
     "iopub.status.busy": "2025-07-30T21:46:33.143062Z",
     "iopub.status.idle": "2025-07-30T21:46:34.197698Z",
     "shell.execute_reply": "2025-07-30T21:46:34.196222Z"
    },
    "papermill": {
     "duration": 1.08984,
     "end_time": "2025-07-30T21:46:34.200558",
     "exception": false,
     "start_time": "2025-07-30T21:46:33.110718",
     "status": "completed"
    },
    "tags": []
   },
   "outputs": [],
   "source": [
    "siab_train = sample_by_year_size(siab,\n",
    "                               training_year=universe[\"training_year\"],\n",
    "                               training_size=universe[\"training_size\"])"
   ]
  },
  {
   "cell_type": "code",
   "execution_count": 18,
   "id": "8d3afb32-789d-442c-8d5d-9f5aa8dd2eed",
   "metadata": {
    "execution": {
     "iopub.execute_input": "2025-07-30T21:46:34.266609Z",
     "iopub.status.busy": "2025-07-30T21:46:34.266050Z",
     "iopub.status.idle": "2025-07-30T21:46:34.271816Z",
     "shell.execute_reply": "2025-07-30T21:46:34.270707Z"
    },
    "papermill": {
     "duration": 0.040527,
     "end_time": "2025-07-30T21:46:34.274120",
     "exception": false,
     "start_time": "2025-07-30T21:46:34.233593",
     "status": "completed"
    },
    "tags": []
   },
   "outputs": [],
   "source": [
    "#siab_train.shape"
   ]
  },
  {
   "cell_type": "code",
   "execution_count": 19,
   "id": "d582db68-1a4c-47fb-84fc-08518dc1975a",
   "metadata": {
    "execution": {
     "iopub.execute_input": "2025-07-30T21:46:34.338996Z",
     "iopub.status.busy": "2025-07-30T21:46:34.338589Z",
     "iopub.status.idle": "2025-07-30T21:46:34.344496Z",
     "shell.execute_reply": "2025-07-30T21:46:34.343166Z"
    },
    "papermill": {
     "duration": 0.040769,
     "end_time": "2025-07-30T21:46:34.346760",
     "exception": false,
     "start_time": "2025-07-30T21:46:34.305991",
     "status": "completed"
    },
    "tags": []
   },
   "outputs": [],
   "source": [
    "#display(siab_train.groupby(\"year\").size())"
   ]
  },
  {
   "cell_type": "code",
   "execution_count": 20,
   "id": "a561edb4-d032-42cb-8256-22eac1111c64",
   "metadata": {
    "execution": {
     "iopub.execute_input": "2025-07-30T21:46:34.407322Z",
     "iopub.status.busy": "2025-07-30T21:46:34.406565Z",
     "iopub.status.idle": "2025-07-30T21:46:34.773922Z",
     "shell.execute_reply": "2025-07-30T21:46:34.772673Z"
    },
    "papermill": {
     "duration": 0.399563,
     "end_time": "2025-07-30T21:46:34.776332",
     "exception": false,
     "start_time": "2025-07-30T21:46:34.376769",
     "status": "completed"
    },
    "tags": []
   },
   "outputs": [],
   "source": [
    "#siab_train = siab_s[siab_s.year < 2015]\n",
    "siab_calib = siab[siab.year == 2015]\n",
    "siab_test = siab[siab.year == 2016]"
   ]
  },
  {
   "cell_type": "code",
   "execution_count": 21,
   "id": "472de16f-c3db-4916-846b-1f0de9cf1746",
   "metadata": {
    "execution": {
     "iopub.execute_input": "2025-07-30T21:46:34.837708Z",
     "iopub.status.busy": "2025-07-30T21:46:34.837211Z",
     "iopub.status.idle": "2025-07-30T21:46:34.846762Z",
     "shell.execute_reply": "2025-07-30T21:46:34.845497Z"
    },
    "papermill": {
     "duration": 0.044338,
     "end_time": "2025-07-30T21:46:34.850767",
     "exception": false,
     "start_time": "2025-07-30T21:46:34.806429",
     "status": "completed"
    },
    "tags": []
   },
   "outputs": [],
   "source": [
    "X_train = siab_train.iloc[:,4:164]\n",
    "y_train = siab_train.iloc[:, [3]]"
   ]
  },
  {
   "cell_type": "code",
   "execution_count": 22,
   "id": "828c96af-f43a-4ed6-ba47-8ac73a47d56c",
   "metadata": {
    "execution": {
     "iopub.execute_input": "2025-07-30T21:46:34.899844Z",
     "iopub.status.busy": "2025-07-30T21:46:34.899426Z",
     "iopub.status.idle": "2025-07-30T21:46:34.955623Z",
     "shell.execute_reply": "2025-07-30T21:46:34.954465Z"
    },
    "papermill": {
     "duration": 0.078019,
     "end_time": "2025-07-30T21:46:34.958315",
     "exception": false,
     "start_time": "2025-07-30T21:46:34.880296",
     "status": "completed"
    },
    "tags": []
   },
   "outputs": [],
   "source": [
    "X_calib = siab_calib.iloc[:,4:164]\n",
    "y_calib = siab_calib.iloc[:, [3]]"
   ]
  },
  {
   "cell_type": "code",
   "execution_count": 23,
   "id": "c34be9c3-6bd6-476e-acd3-845840e303be",
   "metadata": {
    "execution": {
     "iopub.execute_input": "2025-07-30T21:46:34.987274Z",
     "iopub.status.busy": "2025-07-30T21:46:34.986899Z",
     "iopub.status.idle": "2025-07-30T21:46:35.040423Z",
     "shell.execute_reply": "2025-07-30T21:46:35.039484Z"
    },
    "papermill": {
     "duration": 0.066851,
     "end_time": "2025-07-30T21:46:35.041833",
     "exception": false,
     "start_time": "2025-07-30T21:46:34.974982",
     "status": "completed"
    },
    "tags": []
   },
   "outputs": [],
   "source": [
    "X_test = siab_test.iloc[:,4:164]\n",
    "y_true = siab_test.iloc[:, [3]]"
   ]
  },
  {
   "cell_type": "markdown",
   "id": "9901737e-04df-44f0-9100-f5ad144ed040",
   "metadata": {
    "papermill": {
     "duration": 0.011862,
     "end_time": "2025-07-30T21:46:35.066066",
     "exception": false,
     "start_time": "2025-07-30T21:46:35.054204",
     "status": "completed"
    },
    "tags": []
   },
   "source": [
    "# Splitting Data and Setting Training Data Size OLD VERSION"
   ]
  },
  {
   "cell_type": "code",
   "execution_count": 24,
   "id": "acbc8f7d-8fc8-4e86-8c59-5dcb0f58384b",
   "metadata": {
    "execution": {
     "iopub.execute_input": "2025-07-30T21:46:35.096023Z",
     "iopub.status.busy": "2025-07-30T21:46:35.095459Z",
     "iopub.status.idle": "2025-07-30T21:46:35.100877Z",
     "shell.execute_reply": "2025-07-30T21:46:35.099759Z"
    },
    "papermill": {
     "duration": 0.02192,
     "end_time": "2025-07-30T21:46:35.102349",
     "exception": false,
     "start_time": "2025-07-30T21:46:35.080429",
     "status": "completed"
    },
    "tags": []
   },
   "outputs": [],
   "source": [
    "#def sample_by_year(df, training_size, random_state=42):\n",
    "#    if training_size == \"2014\":\n",
    "#        return df[df[\"year\"] == 2014].reset_index(drop=True)\n",
    "#    \n",
    "#    size_map = {\n",
    "#        \"25k\": 5000,\n",
    "#        \"5k\": 1000,\n",
    "#        \"1k\": 200\n",
    "#    }\n",
    "#\n",
    "#    if training_size not in size_map:\n",
    "#        return df.reset_index(drop=True)  # use all data\n",
    "#\n",
    "#    n_per_year = size_map[training_size]\n",
    "#    grouped = df.groupby(\"year\")\n",
    "#    sampled = grouped.apply(lambda x: x.sample(n=min(n_per_year, len(x)), random_state=random_state))\n",
    "#    return sampled.reset_index(drop=True)"
   ]
  },
  {
   "cell_type": "code",
   "execution_count": 25,
   "id": "6d931f52-beaf-43ff-9e78-9d44a448d54e",
   "metadata": {
    "execution": {
     "iopub.execute_input": "2025-07-30T21:46:35.128846Z",
     "iopub.status.busy": "2025-07-30T21:46:35.128340Z",
     "iopub.status.idle": "2025-07-30T21:46:35.133078Z",
     "shell.execute_reply": "2025-07-30T21:46:35.132237Z"
    },
    "papermill": {
     "duration": 0.018882,
     "end_time": "2025-07-30T21:46:35.134389",
     "exception": false,
     "start_time": "2025-07-30T21:46:35.115507",
     "status": "completed"
    },
    "tags": []
   },
   "outputs": [],
   "source": [
    "#siab_s = sample_by_year(siab, universe[\"training_size\"])"
   ]
  },
  {
   "cell_type": "code",
   "execution_count": 26,
   "id": "5db0a40e-a4e2-4920-be85-b12ae061d70d",
   "metadata": {
    "execution": {
     "iopub.execute_input": "2025-07-30T21:46:35.160405Z",
     "iopub.status.busy": "2025-07-30T21:46:35.159850Z",
     "iopub.status.idle": "2025-07-30T21:46:35.164408Z",
     "shell.execute_reply": "2025-07-30T21:46:35.163383Z"
    },
    "papermill": {
     "duration": 0.018821,
     "end_time": "2025-07-30T21:46:35.165828",
     "exception": false,
     "start_time": "2025-07-30T21:46:35.147007",
     "status": "completed"
    },
    "tags": []
   },
   "outputs": [],
   "source": [
    "#display(siab_s.groupby(\"year\").size())"
   ]
  },
  {
   "cell_type": "code",
   "execution_count": 27,
   "id": "e6c733c5",
   "metadata": {
    "execution": {
     "iopub.execute_input": "2025-07-30T21:46:35.191594Z",
     "iopub.status.busy": "2025-07-30T21:46:35.191088Z",
     "iopub.status.idle": "2025-07-30T21:46:35.283332Z",
     "shell.execute_reply": "2025-07-30T21:46:35.282571Z"
    },
    "papermill": {
     "duration": 0.1063,
     "end_time": "2025-07-30T21:46:35.284885",
     "exception": false,
     "start_time": "2025-07-30T21:46:35.178585",
     "status": "completed"
    },
    "tags": []
   },
   "outputs": [],
   "source": [
    "# Auxiliary data needed downstream in the pipeline\n",
    "\n",
    "org_train = X_train.copy()\n",
    "org_test = X_test.copy()\n",
    "org_calib = X_calib.copy()"
   ]
  },
  {
   "cell_type": "code",
   "execution_count": 28,
   "id": "1466abac-c6da-4492-a62f-4240ae3783af",
   "metadata": {
    "execution": {
     "iopub.execute_input": "2025-07-30T21:46:35.310382Z",
     "iopub.status.busy": "2025-07-30T21:46:35.309881Z",
     "iopub.status.idle": "2025-07-30T21:46:35.315261Z",
     "shell.execute_reply": "2025-07-30T21:46:35.314410Z"
    },
    "papermill": {
     "duration": 0.019702,
     "end_time": "2025-07-30T21:46:35.316676",
     "exception": false,
     "start_time": "2025-07-30T21:46:35.296974",
     "status": "completed"
    },
    "tags": []
   },
   "outputs": [],
   "source": [
    "# put in other script?\n",
    "# Group sizes\n",
    "\n",
    "#def calculate_percentages(df, df_name):\n",
    "#    total_entries = len(df)\n",
    "#\n",
    "#    female_pct = (df['frau1'] == 1).mean() * 100\n",
    "#    non_german_pct = ((df['maxdeutsch1'] == 0) & (df['maxdeutsch.Missing.'] == 0)).mean() * 100\n",
    "#    non_german_male_pct = ((df['frau1'] == 0) & (df['maxdeutsch1'] == 0) & (df['maxdeutsch.Missing.'] == 0)).mean() * 100\n",
    "#    non_german_female_pct = ((df['frau1'] == 1) & (df['maxdeutsch1'] == 0) & (df['maxdeutsch.Missing.'] == 0)).mean() * 100\n",
    "#\n",
    "#    print(f\"--- {df_name} ---\")\n",
    "#    print(f\"Female: {female_pct:.2f}%\")\n",
    "#    print(f\"Non-German: {non_german_pct:.2f}%\")\n",
    "#    print(f\"Non-German Male: {non_german_male_pct:.2f}%\")\n",
    "#    print(f\"Non-German Female: {non_german_female_pct:.2f}%\\n\")\n",
    "#\n",
    "## Calculate for each DataFrame\n",
    "#calculate_percentages(siab_calib, \"siab_calib\")\n",
    "#calculate_percentages(siab_test, \"siab_test\")\n",
    "#calculate_percentages(siab_train, \"siab_train\")"
   ]
  },
  {
   "cell_type": "markdown",
   "id": "0a4a1b33",
   "metadata": {
    "papermill": {
     "duration": 0.014126,
     "end_time": "2025-07-30T21:46:35.343769",
     "exception": false,
     "start_time": "2025-07-30T21:46:35.329643",
     "status": "completed"
    },
    "tags": []
   },
   "source": [
    "# Preprocessing Data"
   ]
  },
  {
   "cell_type": "code",
   "execution_count": 29,
   "id": "ca879031",
   "metadata": {
    "execution": {
     "iopub.execute_input": "2025-07-30T21:46:35.438419Z",
     "iopub.status.busy": "2025-07-30T21:46:35.438038Z",
     "iopub.status.idle": "2025-07-30T21:46:35.444222Z",
     "shell.execute_reply": "2025-07-30T21:46:35.443178Z"
    },
    "papermill": {
     "duration": 0.082411,
     "end_time": "2025-07-30T21:46:35.446024",
     "exception": false,
     "start_time": "2025-07-30T21:46:35.363613",
     "status": "completed"
    },
    "tags": []
   },
   "outputs": [],
   "source": [
    "# EXCLUDE PROTECTED FEATURES\n",
    "# ----------------------\n",
    "# \"exclude_features\": \"none\", # \"nationality\", \"sex\", \"nationality-sex\"\n",
    "\n",
    "excluded_features = universe[\"exclude_features\"].split(\"-\") # split, e.g.: \"nationality-sex\" -> [\"nationality\", \"sex\"]\n",
    "excluded_features_dictionary = {\n",
    "    \"nationality\": [\"maxdeutsch1\", \"maxdeutsch.Missing.\"],\n",
    "    \"sex\": [\"frau1\"],\n",
    "    \"age\": [\"age\"],\n",
    "}\n"
   ]
  },
  {
   "cell_type": "code",
   "execution_count": 30,
   "id": "b745ac60",
   "metadata": {
    "execution": {
     "iopub.execute_input": "2025-07-30T21:46:35.519032Z",
     "iopub.status.busy": "2025-07-30T21:46:35.518661Z",
     "iopub.status.idle": "2025-07-30T21:46:35.524955Z",
     "shell.execute_reply": "2025-07-30T21:46:35.523681Z"
    },
    "papermill": {
     "duration": 0.033718,
     "end_time": "2025-07-30T21:46:35.527914",
     "exception": false,
     "start_time": "2025-07-30T21:46:35.494196",
     "status": "completed"
    },
    "tags": []
   },
   "outputs": [],
   "source": [
    "# Code nice names to column names\n",
    "\n",
    "excluded_features_columns = [\n",
    "    excluded_features_dictionary[f] for f in excluded_features if len(f) > 0 and f != \"none\"\n",
    "]"
   ]
  },
  {
   "cell_type": "code",
   "execution_count": 31,
   "id": "f84f73a2",
   "metadata": {
    "execution": {
     "iopub.execute_input": "2025-07-30T21:46:35.580474Z",
     "iopub.status.busy": "2025-07-30T21:46:35.579982Z",
     "iopub.status.idle": "2025-07-30T21:46:35.587045Z",
     "shell.execute_reply": "2025-07-30T21:46:35.586044Z"
    },
    "papermill": {
     "duration": 0.036905,
     "end_time": "2025-07-30T21:46:35.588702",
     "exception": false,
     "start_time": "2025-07-30T21:46:35.551797",
     "status": "completed"
    },
    "tags": []
   },
   "outputs": [],
   "source": [
    "from utils import flatten_once\n",
    "\n",
    "excluded_features_columns = flatten_once(excluded_features_columns)"
   ]
  },
  {
   "cell_type": "code",
   "execution_count": 32,
   "id": "884dea22",
   "metadata": {
    "execution": {
     "iopub.execute_input": "2025-07-30T21:46:35.686964Z",
     "iopub.status.busy": "2025-07-30T21:46:35.686522Z",
     "iopub.status.idle": "2025-07-30T21:46:35.694872Z",
     "shell.execute_reply": "2025-07-30T21:46:35.693787Z"
    },
    "papermill": {
     "duration": 0.069272,
     "end_time": "2025-07-30T21:46:35.698689",
     "exception": false,
     "start_time": "2025-07-30T21:46:35.629417",
     "status": "completed"
    },
    "tags": []
   },
   "outputs": [
    {
     "name": "stdout",
     "output_type": "stream",
     "text": [
      "Dropping features: ['age']\n"
     ]
    }
   ],
   "source": [
    "if len(excluded_features_columns) > 0:\n",
    "    print(f\"Dropping features: {excluded_features_columns}\")\n",
    "    X_train.drop(excluded_features_columns, axis=1, inplace=True)"
   ]
  },
  {
   "cell_type": "code",
   "execution_count": 33,
   "id": "95ab8b16",
   "metadata": {
    "execution": {
     "iopub.execute_input": "2025-07-30T21:46:35.750358Z",
     "iopub.status.busy": "2025-07-30T21:46:35.749478Z",
     "iopub.status.idle": "2025-07-30T21:46:35.805649Z",
     "shell.execute_reply": "2025-07-30T21:46:35.804472Z"
    },
    "papermill": {
     "duration": 0.082751,
     "end_time": "2025-07-30T21:46:35.809727",
     "exception": false,
     "start_time": "2025-07-30T21:46:35.726976",
     "status": "completed"
    },
    "tags": []
   },
   "outputs": [
    {
     "name": "stdout",
     "output_type": "stream",
     "text": [
      "Dropping features: ['age']\n"
     ]
    }
   ],
   "source": [
    "if len(excluded_features_columns) > 0:\n",
    "    print(f\"Dropping features: {excluded_features_columns}\")\n",
    "    X_test.drop(excluded_features_columns, axis=1, inplace=True)"
   ]
  },
  {
   "cell_type": "code",
   "execution_count": 34,
   "id": "1853aaf5-fb9f-46cb-a2b5-8ea4ae2237e4",
   "metadata": {
    "execution": {
     "iopub.execute_input": "2025-07-30T21:46:35.895412Z",
     "iopub.status.busy": "2025-07-30T21:46:35.894498Z",
     "iopub.status.idle": "2025-07-30T21:46:35.952612Z",
     "shell.execute_reply": "2025-07-30T21:46:35.951413Z"
    },
    "papermill": {
     "duration": 0.127494,
     "end_time": "2025-07-30T21:46:35.954481",
     "exception": false,
     "start_time": "2025-07-30T21:46:35.826987",
     "status": "completed"
    },
    "tags": []
   },
   "outputs": [
    {
     "name": "stdout",
     "output_type": "stream",
     "text": [
      "Dropping features: ['age']\n"
     ]
    }
   ],
   "source": [
    "if len(excluded_features_columns) > 0:\n",
    "    print(f\"Dropping features: {excluded_features_columns}\")\n",
    "    X_calib.drop(excluded_features_columns, axis=1, inplace=True)"
   ]
  },
  {
   "cell_type": "code",
   "execution_count": 35,
   "id": "6727d079-03e5-481e-9d38-292a90b7a0a8",
   "metadata": {
    "execution": {
     "iopub.execute_input": "2025-07-30T21:46:35.998355Z",
     "iopub.status.busy": "2025-07-30T21:46:35.997962Z",
     "iopub.status.idle": "2025-07-30T21:46:36.003009Z",
     "shell.execute_reply": "2025-07-30T21:46:36.002025Z"
    },
    "papermill": {
     "duration": 0.022941,
     "end_time": "2025-07-30T21:46:36.005875",
     "exception": false,
     "start_time": "2025-07-30T21:46:35.982934",
     "status": "completed"
    },
    "tags": []
   },
   "outputs": [],
   "source": [
    "# SPLIT & STRATIFY DATA\n",
    "# ----------------------"
   ]
  },
  {
   "cell_type": "code",
   "execution_count": 36,
   "id": "76c4dc6d",
   "metadata": {
    "execution": {
     "iopub.execute_input": "2025-07-30T21:46:36.080016Z",
     "iopub.status.busy": "2025-07-30T21:46:36.079584Z",
     "iopub.status.idle": "2025-07-30T21:46:36.084765Z",
     "shell.execute_reply": "2025-07-30T21:46:36.083606Z"
    },
    "papermill": {
     "duration": 0.033328,
     "end_time": "2025-07-30T21:46:36.086240",
     "exception": false,
     "start_time": "2025-07-30T21:46:36.052912",
     "status": "completed"
    },
    "tags": []
   },
   "outputs": [],
   "source": [
    "# EXCLUDE CERTAIN SUBGROUPS\n",
    "# ----------------------\n",
    "\n",
    "mode = universe.get(\"exclude_subgroups\", \"keep-all\") \n",
    "# Fetches the exclude_subgroups setting from the universe dict.\n",
    "# Defaults to \"keep-all\" if the key is missing."
   ]
  },
  {
   "cell_type": "code",
   "execution_count": 37,
   "id": "21994072",
   "metadata": {
    "execution": {
     "iopub.execute_input": "2025-07-30T21:46:36.123822Z",
     "iopub.status.busy": "2025-07-30T21:46:36.122682Z",
     "iopub.status.idle": "2025-07-30T21:46:36.132948Z",
     "shell.execute_reply": "2025-07-30T21:46:36.131491Z"
    },
    "papermill": {
     "duration": 0.034424,
     "end_time": "2025-07-30T21:46:36.135502",
     "exception": false,
     "start_time": "2025-07-30T21:46:36.101078",
     "status": "completed"
    },
    "tags": []
   },
   "outputs": [],
   "source": [
    "if mode == \"keep-all\":\n",
    "    keep_mask = pd.Series(True, index=org_train.index)\n",
    "\n",
    "# org_train contains the original feature columns from features_org (in Simson)\n",
    "# features_org contains unprocessed features, for me X_train at beginning ???\n",
    "# For keep-all, creates a boolean Series (keep_mask) of all True, so no rows are removed.\n",
    "\n",
    "elif mode == \"drop-non-german\":\n",
    "    keep_mask = org_train[\"maxdeutsch1\"] == 1 # ??? what about missing values?\n",
    "\n",
    "else:\n",
    "    raise ValueError(f\"Unsupported mode for exclude_subgroups: {mode}\")\n"
   ]
  },
  {
   "cell_type": "code",
   "execution_count": 38,
   "id": "71651440",
   "metadata": {
    "execution": {
     "iopub.execute_input": "2025-07-30T21:46:36.198913Z",
     "iopub.status.busy": "2025-07-30T21:46:36.197993Z",
     "iopub.status.idle": "2025-07-30T21:46:36.205776Z",
     "shell.execute_reply": "2025-07-30T21:46:36.204520Z"
    },
    "papermill": {
     "duration": 0.039003,
     "end_time": "2025-07-30T21:46:36.208004",
     "exception": false,
     "start_time": "2025-07-30T21:46:36.169001",
     "status": "completed"
    },
    "tags": []
   },
   "outputs": [],
   "source": [
    "n_drop = (~keep_mask).sum() # Calculates how many rows are set to be dropped\n",
    "if n_drop > 0:\n",
    "    pct = n_drop / len(keep_mask) * 100\n",
    "    print(f\"Dropping {n_drop} rows ({pct:.2f}%) where mode='{mode}'\")"
   ]
  },
  {
   "cell_type": "code",
   "execution_count": 39,
   "id": "5fb8eee5",
   "metadata": {
    "execution": {
     "iopub.execute_input": "2025-07-30T21:46:36.257245Z",
     "iopub.status.busy": "2025-07-30T21:46:36.256273Z",
     "iopub.status.idle": "2025-07-30T21:46:36.263986Z",
     "shell.execute_reply": "2025-07-30T21:46:36.262841Z"
    },
    "papermill": {
     "duration": 0.036144,
     "end_time": "2025-07-30T21:46:36.266062",
     "exception": false,
     "start_time": "2025-07-30T21:46:36.229918",
     "status": "completed"
    },
    "tags": []
   },
   "outputs": [],
   "source": [
    "X_train = X_train[keep_mask]"
   ]
  },
  {
   "cell_type": "code",
   "execution_count": 40,
   "id": "b202bb3a",
   "metadata": {
    "execution": {
     "iopub.execute_input": "2025-07-30T21:46:36.317372Z",
     "iopub.status.busy": "2025-07-30T21:46:36.316950Z",
     "iopub.status.idle": "2025-07-30T21:46:36.323538Z",
     "shell.execute_reply": "2025-07-30T21:46:36.322347Z"
    },
    "papermill": {
     "duration": 0.035419,
     "end_time": "2025-07-30T21:46:36.326778",
     "exception": false,
     "start_time": "2025-07-30T21:46:36.291359",
     "status": "completed"
    },
    "tags": []
   },
   "outputs": [],
   "source": [
    "y_train = y_train[keep_mask]"
   ]
  },
  {
   "cell_type": "markdown",
   "id": "493e2ac3",
   "metadata": {
    "papermill": {
     "duration": 0.023038,
     "end_time": "2025-07-30T21:46:36.376560",
     "exception": false,
     "start_time": "2025-07-30T21:46:36.353522",
     "status": "completed"
    },
    "tags": []
   },
   "source": [
    "# Model Training"
   ]
  },
  {
   "cell_type": "code",
   "execution_count": 41,
   "id": "679e1268",
   "metadata": {
    "execution": {
     "iopub.execute_input": "2025-07-30T21:46:36.422750Z",
     "iopub.status.busy": "2025-07-30T21:46:36.422303Z",
     "iopub.status.idle": "2025-07-30T21:46:36.712210Z",
     "shell.execute_reply": "2025-07-30T21:46:36.710721Z"
    },
    "papermill": {
     "duration": 0.312364,
     "end_time": "2025-07-30T21:46:36.714380",
     "exception": false,
     "start_time": "2025-07-30T21:46:36.402016",
     "status": "completed"
    },
    "tags": []
   },
   "outputs": [],
   "source": [
    "from sklearn.linear_model import LogisticRegression\n",
    "from sklearn.ensemble import GradientBoostingClassifier, RandomForestClassifier\n",
    "\n",
    "if (universe[\"model\"] == \"logreg\"):\n",
    "    model = LogisticRegression() #penalty=\"none\") #, solver=\"newton-cg\", max_iter=1) # include random_state=19 ?\n",
    "elif (universe[\"model\"] == \"penalized_logreg\"):\n",
    "    model = LogisticRegression(penalty=\"l2\", C=1.0) #, solver=\"newton-cg\", max_iter=1)\n",
    "elif (universe[\"model\"] == \"rf\"):\n",
    "    model = RandomForestClassifier(n_estimators=100, n_jobs=-1)\n",
    "elif (universe[\"model\"] == \"gbm\"):\n",
    "    model = GradientBoostingClassifier()\n",
    "elif (universe[\"model\"] == \"elasticnet\"):\n",
    "    model = LogisticRegression(penalty = 'elasticnet', solver = 'saga', l1_ratio = 0.5, max_iter=5000) # which solver to use?\n",
    "else:\n",
    "    raise \"Unsupported universe.model\""
   ]
  },
  {
   "cell_type": "code",
   "execution_count": 42,
   "id": "0cc8f744",
   "metadata": {
    "execution": {
     "iopub.execute_input": "2025-07-30T21:46:36.772798Z",
     "iopub.status.busy": "2025-07-30T21:46:36.772251Z",
     "iopub.status.idle": "2025-07-30T21:46:36.781993Z",
     "shell.execute_reply": "2025-07-30T21:46:36.780196Z"
    },
    "papermill": {
     "duration": 0.044461,
     "end_time": "2025-07-30T21:46:36.787146",
     "exception": false,
     "start_time": "2025-07-30T21:46:36.742685",
     "status": "completed"
    },
    "tags": []
   },
   "outputs": [],
   "source": [
    "import numpy as np\n",
    "from sklearn.pipeline import Pipeline\n",
    "from sklearn.preprocessing import StandardScaler\n",
    "\n",
    "model = Pipeline([\n",
    "    #(\"continuous_processor\", continuous_processor),\n",
    "    #(\"categorical_preprocessor\", categorical_preprocessor),\n",
    "    (\"scale\", StandardScaler() if universe[\"scale\"] == \"scale\" else None), \n",
    "    (\"model\", model),\n",
    "])"
   ]
  },
  {
   "cell_type": "code",
   "execution_count": 43,
   "id": "9442c04d",
   "metadata": {
    "execution": {
     "iopub.execute_input": "2025-07-30T21:46:36.842506Z",
     "iopub.status.busy": "2025-07-30T21:46:36.842075Z",
     "iopub.status.idle": "2025-07-30T21:46:37.336597Z",
     "shell.execute_reply": "2025-07-30T21:46:37.335487Z"
    },
    "papermill": {
     "duration": 0.522338,
     "end_time": "2025-07-30T21:46:37.338641",
     "exception": false,
     "start_time": "2025-07-30T21:46:36.816303",
     "status": "completed"
    },
    "tags": []
   },
   "outputs": [
    {
     "data": {
      "text/html": [
       "<style>#sk-container-id-1 {color: black;background-color: white;}#sk-container-id-1 pre{padding: 0;}#sk-container-id-1 div.sk-toggleable {background-color: white;}#sk-container-id-1 label.sk-toggleable__label {cursor: pointer;display: block;width: 100%;margin-bottom: 0;padding: 0.3em;box-sizing: border-box;text-align: center;}#sk-container-id-1 label.sk-toggleable__label-arrow:before {content: \"▸\";float: left;margin-right: 0.25em;color: #696969;}#sk-container-id-1 label.sk-toggleable__label-arrow:hover:before {color: black;}#sk-container-id-1 div.sk-estimator:hover label.sk-toggleable__label-arrow:before {color: black;}#sk-container-id-1 div.sk-toggleable__content {max-height: 0;max-width: 0;overflow: hidden;text-align: left;background-color: #f0f8ff;}#sk-container-id-1 div.sk-toggleable__content pre {margin: 0.2em;color: black;border-radius: 0.25em;background-color: #f0f8ff;}#sk-container-id-1 input.sk-toggleable__control:checked~div.sk-toggleable__content {max-height: 200px;max-width: 100%;overflow: auto;}#sk-container-id-1 input.sk-toggleable__control:checked~label.sk-toggleable__label-arrow:before {content: \"▾\";}#sk-container-id-1 div.sk-estimator input.sk-toggleable__control:checked~label.sk-toggleable__label {background-color: #d4ebff;}#sk-container-id-1 div.sk-label input.sk-toggleable__control:checked~label.sk-toggleable__label {background-color: #d4ebff;}#sk-container-id-1 input.sk-hidden--visually {border: 0;clip: rect(1px 1px 1px 1px);clip: rect(1px, 1px, 1px, 1px);height: 1px;margin: -1px;overflow: hidden;padding: 0;position: absolute;width: 1px;}#sk-container-id-1 div.sk-estimator {font-family: monospace;background-color: #f0f8ff;border: 1px dotted black;border-radius: 0.25em;box-sizing: border-box;margin-bottom: 0.5em;}#sk-container-id-1 div.sk-estimator:hover {background-color: #d4ebff;}#sk-container-id-1 div.sk-parallel-item::after {content: \"\";width: 100%;border-bottom: 1px solid gray;flex-grow: 1;}#sk-container-id-1 div.sk-label:hover label.sk-toggleable__label {background-color: #d4ebff;}#sk-container-id-1 div.sk-serial::before {content: \"\";position: absolute;border-left: 1px solid gray;box-sizing: border-box;top: 0;bottom: 0;left: 50%;z-index: 0;}#sk-container-id-1 div.sk-serial {display: flex;flex-direction: column;align-items: center;background-color: white;padding-right: 0.2em;padding-left: 0.2em;position: relative;}#sk-container-id-1 div.sk-item {position: relative;z-index: 1;}#sk-container-id-1 div.sk-parallel {display: flex;align-items: stretch;justify-content: center;background-color: white;position: relative;}#sk-container-id-1 div.sk-item::before, #sk-container-id-1 div.sk-parallel-item::before {content: \"\";position: absolute;border-left: 1px solid gray;box-sizing: border-box;top: 0;bottom: 0;left: 50%;z-index: -1;}#sk-container-id-1 div.sk-parallel-item {display: flex;flex-direction: column;z-index: 1;position: relative;background-color: white;}#sk-container-id-1 div.sk-parallel-item:first-child::after {align-self: flex-end;width: 50%;}#sk-container-id-1 div.sk-parallel-item:last-child::after {align-self: flex-start;width: 50%;}#sk-container-id-1 div.sk-parallel-item:only-child::after {width: 0;}#sk-container-id-1 div.sk-dashed-wrapped {border: 1px dashed gray;margin: 0 0.4em 0.5em 0.4em;box-sizing: border-box;padding-bottom: 0.4em;background-color: white;}#sk-container-id-1 div.sk-label label {font-family: monospace;font-weight: bold;display: inline-block;line-height: 1.2em;}#sk-container-id-1 div.sk-label-container {text-align: center;}#sk-container-id-1 div.sk-container {/* jupyter's `normalize.less` sets `[hidden] { display: none; }` but bootstrap.min.css set `[hidden] { display: none !important; }` so we also need the `!important` here to be able to override the default hidden behavior on the sphinx rendered scikit-learn.org. See: https://github.com/scikit-learn/scikit-learn/issues/21755 */display: inline-block !important;position: relative;}#sk-container-id-1 div.sk-text-repr-fallback {display: none;}</style><div id=\"sk-container-id-1\" class=\"sk-top-container\"><div class=\"sk-text-repr-fallback\"><pre>Pipeline(steps=[(&#x27;scale&#x27;, StandardScaler()),\n",
       "                (&#x27;model&#x27;, RandomForestClassifier(n_jobs=-1))])</pre><b>In a Jupyter environment, please rerun this cell to show the HTML representation or trust the notebook. <br />On GitHub, the HTML representation is unable to render, please try loading this page with nbviewer.org.</b></div><div class=\"sk-container\" hidden><div class=\"sk-item sk-dashed-wrapped\"><div class=\"sk-label-container\"><div class=\"sk-label sk-toggleable\"><input class=\"sk-toggleable__control sk-hidden--visually\" id=\"sk-estimator-id-1\" type=\"checkbox\" ><label for=\"sk-estimator-id-1\" class=\"sk-toggleable__label sk-toggleable__label-arrow\">Pipeline</label><div class=\"sk-toggleable__content\"><pre>Pipeline(steps=[(&#x27;scale&#x27;, StandardScaler()),\n",
       "                (&#x27;model&#x27;, RandomForestClassifier(n_jobs=-1))])</pre></div></div></div><div class=\"sk-serial\"><div class=\"sk-item\"><div class=\"sk-estimator sk-toggleable\"><input class=\"sk-toggleable__control sk-hidden--visually\" id=\"sk-estimator-id-2\" type=\"checkbox\" ><label for=\"sk-estimator-id-2\" class=\"sk-toggleable__label sk-toggleable__label-arrow\">StandardScaler</label><div class=\"sk-toggleable__content\"><pre>StandardScaler()</pre></div></div></div><div class=\"sk-item\"><div class=\"sk-estimator sk-toggleable\"><input class=\"sk-toggleable__control sk-hidden--visually\" id=\"sk-estimator-id-3\" type=\"checkbox\" ><label for=\"sk-estimator-id-3\" class=\"sk-toggleable__label sk-toggleable__label-arrow\">RandomForestClassifier</label><div class=\"sk-toggleable__content\"><pre>RandomForestClassifier(n_jobs=-1)</pre></div></div></div></div></div></div></div>"
      ],
      "text/plain": [
       "Pipeline(steps=[('scale', StandardScaler()),\n",
       "                ('model', RandomForestClassifier(n_jobs=-1))])"
      ]
     },
     "execution_count": 43,
     "metadata": {},
     "output_type": "execute_result"
    }
   ],
   "source": [
    "model.fit(X_train, y_train.values.ravel())"
   ]
  },
  {
   "cell_type": "code",
   "execution_count": 44,
   "id": "af59f8c0",
   "metadata": {
    "execution": {
     "iopub.execute_input": "2025-07-30T21:46:37.393350Z",
     "iopub.status.busy": "2025-07-30T21:46:37.392917Z",
     "iopub.status.idle": "2025-07-30T21:46:37.398939Z",
     "shell.execute_reply": "2025-07-30T21:46:37.397813Z"
    },
    "papermill": {
     "duration": 0.036575,
     "end_time": "2025-07-30T21:46:37.403368",
     "exception": false,
     "start_time": "2025-07-30T21:46:37.366793",
     "status": "completed"
    },
    "tags": []
   },
   "outputs": [],
   "source": [
    "from fairness_multiverse.universe import predict_w_threshold"
   ]
  },
  {
   "cell_type": "code",
   "execution_count": 45,
   "id": "a7cf2e16",
   "metadata": {
    "execution": {
     "iopub.execute_input": "2025-07-30T21:46:37.472805Z",
     "iopub.status.busy": "2025-07-30T21:46:37.472240Z",
     "iopub.status.idle": "2025-07-30T21:46:38.576428Z",
     "shell.execute_reply": "2025-07-30T21:46:38.575155Z"
    },
    "papermill": {
     "duration": 1.150286,
     "end_time": "2025-07-30T21:46:38.578653",
     "exception": false,
     "start_time": "2025-07-30T21:46:37.428367",
     "status": "completed"
    },
    "tags": []
   },
   "outputs": [
    {
     "data": {
      "text/plain": [
       "0.8608070449225281"
      ]
     },
     "execution_count": 45,
     "metadata": {},
     "output_type": "execute_result"
    }
   ],
   "source": [
    "probs_test = model.predict_proba(X_test)\n",
    "\n",
    "'''\n",
    "Below code returns a boolean array (or binary 0/1 array depending on how it’s used) where each element \n",
    "is True if the probability of class 1 is greater than or equal to the threshold, and False otherwise.\n",
    "'''\n",
    "y_pred_default = predict_w_threshold(probs_test, 0.5)\n",
    "\n",
    "from sklearn.metrics import accuracy_score\n",
    "\n",
    "# Naive prediction\n",
    "accuracy_score(y_true = y_true, y_pred = y_pred_default)"
   ]
  },
  {
   "cell_type": "code",
   "execution_count": 46,
   "id": "081964c3",
   "metadata": {
    "execution": {
     "iopub.execute_input": "2025-07-30T21:46:38.661132Z",
     "iopub.status.busy": "2025-07-30T21:46:38.660600Z",
     "iopub.status.idle": "2025-07-30T21:46:39.883369Z",
     "shell.execute_reply": "2025-07-30T21:46:39.882520Z"
    },
    "papermill": {
     "duration": 1.259946,
     "end_time": "2025-07-30T21:46:39.885105",
     "exception": false,
     "start_time": "2025-07-30T21:46:38.625159",
     "status": "completed"
    },
    "tags": []
   },
   "outputs": [
    {
     "data": {
      "text/plain": [
       "array([0, 0, 0, ..., 0, 0, 0])"
      ]
     },
     "execution_count": 46,
     "metadata": {},
     "output_type": "execute_result"
    }
   ],
   "source": [
    "model.predict(X_test)"
   ]
  },
  {
   "cell_type": "markdown",
   "id": "56c9705b",
   "metadata": {
    "papermill": {
     "duration": 0.022582,
     "end_time": "2025-07-30T21:46:39.929079",
     "exception": false,
     "start_time": "2025-07-30T21:46:39.906497",
     "status": "completed"
    },
    "tags": []
   },
   "source": [
    "# Conformal Prediction"
   ]
  },
  {
   "cell_type": "code",
   "execution_count": 47,
   "id": "160ec6ff",
   "metadata": {
    "execution": {
     "iopub.execute_input": "2025-07-30T21:46:39.987858Z",
     "iopub.status.busy": "2025-07-30T21:46:39.987434Z",
     "iopub.status.idle": "2025-07-30T21:46:39.993137Z",
     "shell.execute_reply": "2025-07-30T21:46:39.992095Z"
    },
    "papermill": {
     "duration": 0.039968,
     "end_time": "2025-07-30T21:46:39.995339",
     "exception": false,
     "start_time": "2025-07-30T21:46:39.955371",
     "status": "completed"
    },
    "tags": []
   },
   "outputs": [],
   "source": [
    "# Miscoverage level for conformal prediction (10% allowed error rate => 90% target coverage)\n",
    "alpha = 0.1"
   ]
  },
  {
   "cell_type": "code",
   "execution_count": 48,
   "id": "eadf4555-3dd3-440e-8e35-f82a4ad9f855",
   "metadata": {
    "execution": {
     "iopub.execute_input": "2025-07-30T21:46:40.048542Z",
     "iopub.status.busy": "2025-07-30T21:46:40.048082Z",
     "iopub.status.idle": "2025-07-30T21:46:40.819001Z",
     "shell.execute_reply": "2025-07-30T21:46:40.818102Z"
    },
    "papermill": {
     "duration": 0.79873,
     "end_time": "2025-07-30T21:46:40.821284",
     "exception": false,
     "start_time": "2025-07-30T21:46:40.022554",
     "status": "completed"
    },
    "tags": []
   },
   "outputs": [],
   "source": [
    "probs_calib = model.predict_proba(X_calib)"
   ]
  },
  {
   "cell_type": "code",
   "execution_count": 49,
   "id": "2ed93547-6d5d-4983-9b36-1ecb300da49a",
   "metadata": {
    "execution": {
     "iopub.execute_input": "2025-07-30T21:46:40.893564Z",
     "iopub.status.busy": "2025-07-30T21:46:40.893168Z",
     "iopub.status.idle": "2025-07-30T21:46:40.899111Z",
     "shell.execute_reply": "2025-07-30T21:46:40.898091Z"
    },
    "papermill": {
     "duration": 0.049416,
     "end_time": "2025-07-30T21:46:40.910393",
     "exception": false,
     "start_time": "2025-07-30T21:46:40.860977",
     "status": "completed"
    },
    "tags": []
   },
   "outputs": [],
   "source": [
    "y_calib = y_calib.values.ravel().astype(int)"
   ]
  },
  {
   "cell_type": "code",
   "execution_count": 50,
   "id": "65d1320d-f588-4b38-9072-62af1ae97f7d",
   "metadata": {
    "execution": {
     "iopub.execute_input": "2025-07-30T21:46:41.018930Z",
     "iopub.status.busy": "2025-07-30T21:46:41.018518Z",
     "iopub.status.idle": "2025-07-30T21:46:41.026201Z",
     "shell.execute_reply": "2025-07-30T21:46:41.025126Z"
    },
    "papermill": {
     "duration": 0.061032,
     "end_time": "2025-07-30T21:46:41.028127",
     "exception": false,
     "start_time": "2025-07-30T21:46:40.967095",
     "status": "completed"
    },
    "tags": []
   },
   "outputs": [],
   "source": [
    "from fairness_multiverse.conformal import compute_nc_scores\n",
    "\n",
    "# Compute nonconformity scores on calibration set (1 - probability of true class)\n",
    "nc_scores = compute_nc_scores(probs_calib, y_calib)"
   ]
  },
  {
   "cell_type": "code",
   "execution_count": 51,
   "id": "df3b8ca3-53b7-43d5-9667-7c85da7aeda2",
   "metadata": {
    "execution": {
     "iopub.execute_input": "2025-07-30T21:46:41.118914Z",
     "iopub.status.busy": "2025-07-30T21:46:41.118513Z",
     "iopub.status.idle": "2025-07-30T21:46:41.127647Z",
     "shell.execute_reply": "2025-07-30T21:46:41.126220Z"
    },
    "papermill": {
     "duration": 0.077301,
     "end_time": "2025-07-30T21:46:41.132019",
     "exception": false,
     "start_time": "2025-07-30T21:46:41.054718",
     "status": "completed"
    },
    "tags": []
   },
   "outputs": [],
   "source": [
    "from fairness_multiverse.conformal import find_threshold\n",
    "\n",
    "# Find conformal threshold q_hat for the given alpha (split conformal method)\n",
    "q_hat = find_threshold(nc_scores, alpha)"
   ]
  },
  {
   "cell_type": "code",
   "execution_count": 52,
   "id": "4d29e6c1-0ef6-4aa4-b8fe-4fe79b0d033a",
   "metadata": {
    "execution": {
     "iopub.execute_input": "2025-07-30T21:46:41.212765Z",
     "iopub.status.busy": "2025-07-30T21:46:41.212176Z",
     "iopub.status.idle": "2025-07-30T21:46:41.223327Z",
     "shell.execute_reply": "2025-07-30T21:46:41.221848Z"
    },
    "papermill": {
     "duration": 0.058366,
     "end_time": "2025-07-30T21:46:41.226878",
     "exception": false,
     "start_time": "2025-07-30T21:46:41.168512",
     "status": "completed"
    },
    "tags": []
   },
   "outputs": [
    {
     "data": {
      "text/plain": [
       "0.6599999999999999"
      ]
     },
     "execution_count": 52,
     "metadata": {},
     "output_type": "execute_result"
    }
   ],
   "source": [
    "q_hat"
   ]
  },
  {
   "cell_type": "code",
   "execution_count": 53,
   "id": "92460794-cdac-4be2-ba28-f28c0515a6fb",
   "metadata": {
    "execution": {
     "iopub.execute_input": "2025-07-30T21:46:41.302187Z",
     "iopub.status.busy": "2025-07-30T21:46:41.301765Z",
     "iopub.status.idle": "2025-07-30T21:46:42.923628Z",
     "shell.execute_reply": "2025-07-30T21:46:42.922567Z"
    },
    "papermill": {
     "duration": 1.661844,
     "end_time": "2025-07-30T21:46:42.926079",
     "exception": false,
     "start_time": "2025-07-30T21:46:41.264235",
     "status": "completed"
    },
    "tags": []
   },
   "outputs": [],
   "source": [
    "from fairness_multiverse.conformal import predict_conformal_sets\n",
    "\n",
    "# Generate prediction sets for each test example\n",
    "pred_sets = predict_conformal_sets(model, X_test, q_hat)"
   ]
  },
  {
   "cell_type": "code",
   "execution_count": 54,
   "id": "d90c9a65-e6db-4f5d-80cd-e68fb7e46829",
   "metadata": {
    "execution": {
     "iopub.execute_input": "2025-07-30T21:46:42.996160Z",
     "iopub.status.busy": "2025-07-30T21:46:42.995549Z",
     "iopub.status.idle": "2025-07-30T21:46:43.003471Z",
     "shell.execute_reply": "2025-07-30T21:46:43.002031Z"
    },
    "papermill": {
     "duration": 0.047197,
     "end_time": "2025-07-30T21:46:43.006316",
     "exception": false,
     "start_time": "2025-07-30T21:46:42.959119",
     "status": "completed"
    },
    "tags": []
   },
   "outputs": [],
   "source": [
    "y_true = y_true.squeeze()"
   ]
  },
  {
   "cell_type": "code",
   "execution_count": 55,
   "id": "3a58a54a-1e68-46b9-927a-df01f18aebc8",
   "metadata": {
    "execution": {
     "iopub.execute_input": "2025-07-30T21:46:43.077105Z",
     "iopub.status.busy": "2025-07-30T21:46:43.075965Z",
     "iopub.status.idle": "2025-07-30T21:46:44.118838Z",
     "shell.execute_reply": "2025-07-30T21:46:44.118061Z"
    },
    "papermill": {
     "duration": 1.079425,
     "end_time": "2025-07-30T21:46:44.120352",
     "exception": false,
     "start_time": "2025-07-30T21:46:43.040927",
     "status": "completed"
    },
    "tags": []
   },
   "outputs": [],
   "source": [
    "from fairness_multiverse.conformal import evaluate_sets\n",
    "\n",
    "# Evaluate coverage and average set size on test data\n",
    "metrics = evaluate_sets(pred_sets, y_true)"
   ]
  },
  {
   "cell_type": "markdown",
   "id": "2b569c12-9aaa-4c88-98c9-bbcd0cf3ebb8",
   "metadata": {
    "papermill": {
     "duration": 0.013377,
     "end_time": "2025-07-30T21:46:44.147059",
     "exception": false,
     "start_time": "2025-07-30T21:46:44.133682",
     "status": "completed"
    },
    "tags": []
   },
   "source": [
    "# CP Metrics"
   ]
  },
  {
   "cell_type": "code",
   "execution_count": 56,
   "id": "5ce0a5cb-201f-45a0-ade5-94c7f0bd6095",
   "metadata": {
    "execution": {
     "iopub.execute_input": "2025-07-30T21:46:44.174833Z",
     "iopub.status.busy": "2025-07-30T21:46:44.174330Z",
     "iopub.status.idle": "2025-07-30T21:46:44.180364Z",
     "shell.execute_reply": "2025-07-30T21:46:44.179568Z"
    },
    "papermill": {
     "duration": 0.02152,
     "end_time": "2025-07-30T21:46:44.181721",
     "exception": false,
     "start_time": "2025-07-30T21:46:44.160201",
     "status": "completed"
    },
    "tags": []
   },
   "outputs": [
    {
     "data": {
      "text/plain": [
       "{'coverage': 0.9144688440530598, 'avg_size': 1.1569947608962212}"
      ]
     },
     "execution_count": 56,
     "metadata": {},
     "output_type": "execute_result"
    }
   ],
   "source": [
    "metrics"
   ]
  },
  {
   "cell_type": "code",
   "execution_count": 57,
   "id": "9b9a838d-31c9-430b-ae14-12baee460d17",
   "metadata": {
    "execution": {
     "iopub.execute_input": "2025-07-30T21:46:44.222612Z",
     "iopub.status.busy": "2025-07-30T21:46:44.222230Z",
     "iopub.status.idle": "2025-07-30T21:46:44.229299Z",
     "shell.execute_reply": "2025-07-30T21:46:44.228133Z"
    },
    "papermill": {
     "duration": 0.034708,
     "end_time": "2025-07-30T21:46:44.232568",
     "exception": false,
     "start_time": "2025-07-30T21:46:44.197860",
     "status": "completed"
    },
    "tags": []
   },
   "outputs": [],
   "source": [
    "example_universe = universe.copy()\n",
    "universe_training_year = example_universe.get(\"training_year\")\n",
    "universe_training_size = example_universe.get(\"training_size\")\n",
    "universe_scale = example_universe.get(\"scale\")\n",
    "universe_model = example_universe.get(\"model\")\n",
    "universe_exclude_features = example_universe.get(\"exclude_features\")\n",
    "universe_exclude_subgroups = example_universe.get(\"exclude_subgroups\")"
   ]
  },
  {
   "cell_type": "code",
   "execution_count": 58,
   "id": "f4b6a8ac-9dc0-4245-8a91-5b3b5999c4f9",
   "metadata": {
    "execution": {
     "iopub.execute_input": "2025-07-30T21:46:44.305045Z",
     "iopub.status.busy": "2025-07-30T21:46:44.304671Z",
     "iopub.status.idle": "2025-07-30T21:46:44.311330Z",
     "shell.execute_reply": "2025-07-30T21:46:44.310186Z"
    },
    "papermill": {
     "duration": 0.055631,
     "end_time": "2025-07-30T21:46:44.313690",
     "exception": false,
     "start_time": "2025-07-30T21:46:44.258059",
     "status": "completed"
    },
    "tags": []
   },
   "outputs": [],
   "source": [
    "cp_metrics_dict = {\n",
    "    \"universe_id\": [universe_id],\n",
    "    \"universe_training_year\": [universe_training_year],\n",
    "    \"universe_training_size\": [universe_training_size],\n",
    "    \"universe_scale\": [universe_scale],\n",
    "    \"universe_model\": [universe_model],\n",
    "    \"universe_exclude_features\": [universe_exclude_features],\n",
    "    \"universe_exclude_subgroups\": [universe_exclude_subgroups],\n",
    "    \"q_hat\": [q_hat],\n",
    "    \"coverage\": [metrics[\"coverage\"]],\n",
    "    \"avg_size\": [metrics[\"avg_size\"]],\n",
    "}"
   ]
  },
  {
   "cell_type": "code",
   "execution_count": 59,
   "id": "908acbb1-0371-4915-85ca-3fa520d2efe2",
   "metadata": {
    "execution": {
     "iopub.execute_input": "2025-07-30T21:46:44.384721Z",
     "iopub.status.busy": "2025-07-30T21:46:44.384163Z",
     "iopub.status.idle": "2025-07-30T21:46:44.392330Z",
     "shell.execute_reply": "2025-07-30T21:46:44.391360Z"
    },
    "papermill": {
     "duration": 0.047776,
     "end_time": "2025-07-30T21:46:44.394389",
     "exception": false,
     "start_time": "2025-07-30T21:46:44.346613",
     "status": "completed"
    },
    "tags": []
   },
   "outputs": [
    {
     "data": {
      "text/plain": [
       "{'universe_id': ['5fac0d0dd529d0d173fb2b74f26b4dca'],\n",
       " 'universe_training_year': ['2010_14'],\n",
       " 'universe_training_size': ['1k'],\n",
       " 'universe_scale': ['scale'],\n",
       " 'universe_model': ['rf'],\n",
       " 'universe_exclude_features': ['age'],\n",
       " 'universe_exclude_subgroups': ['keep-all'],\n",
       " 'q_hat': [0.6599999999999999],\n",
       " 'coverage': [0.9144688440530598],\n",
       " 'avg_size': [1.1569947608962212]}"
      ]
     },
     "execution_count": 59,
     "metadata": {},
     "output_type": "execute_result"
    }
   ],
   "source": [
    "cp_metrics_dict"
   ]
  },
  {
   "cell_type": "code",
   "execution_count": 60,
   "id": "33007efc-14e9-4ec6-97ac-56a455c82265",
   "metadata": {
    "execution": {
     "iopub.execute_input": "2025-07-30T21:46:44.471465Z",
     "iopub.status.busy": "2025-07-30T21:46:44.470793Z",
     "iopub.status.idle": "2025-07-30T21:46:44.477478Z",
     "shell.execute_reply": "2025-07-30T21:46:44.476447Z"
    },
    "papermill": {
     "duration": 0.055269,
     "end_time": "2025-07-30T21:46:44.479680",
     "exception": false,
     "start_time": "2025-07-30T21:46:44.424411",
     "status": "completed"
    },
    "tags": []
   },
   "outputs": [],
   "source": [
    "cp_metrics_df = pd.DataFrame(cp_metrics_dict)"
   ]
  },
  {
   "cell_type": "code",
   "execution_count": 61,
   "id": "db12611b-57b2-4910-b9d0-355adfd6e7bf",
   "metadata": {
    "execution": {
     "iopub.execute_input": "2025-07-30T21:46:44.540468Z",
     "iopub.status.busy": "2025-07-30T21:46:44.539866Z",
     "iopub.status.idle": "2025-07-30T21:46:44.572442Z",
     "shell.execute_reply": "2025-07-30T21:46:44.566835Z"
    },
    "papermill": {
     "duration": 0.071203,
     "end_time": "2025-07-30T21:46:44.580117",
     "exception": false,
     "start_time": "2025-07-30T21:46:44.508914",
     "status": "completed"
    },
    "tags": []
   },
   "outputs": [
    {
     "data": {
      "text/html": [
       "<div>\n",
       "<style scoped>\n",
       "    .dataframe tbody tr th:only-of-type {\n",
       "        vertical-align: middle;\n",
       "    }\n",
       "\n",
       "    .dataframe tbody tr th {\n",
       "        vertical-align: top;\n",
       "    }\n",
       "\n",
       "    .dataframe thead th {\n",
       "        text-align: right;\n",
       "    }\n",
       "</style>\n",
       "<table border=\"1\" class=\"dataframe\">\n",
       "  <thead>\n",
       "    <tr style=\"text-align: right;\">\n",
       "      <th></th>\n",
       "      <th>universe_id</th>\n",
       "      <th>universe_training_year</th>\n",
       "      <th>universe_training_size</th>\n",
       "      <th>universe_scale</th>\n",
       "      <th>universe_model</th>\n",
       "      <th>universe_exclude_features</th>\n",
       "      <th>universe_exclude_subgroups</th>\n",
       "      <th>q_hat</th>\n",
       "      <th>coverage</th>\n",
       "      <th>avg_size</th>\n",
       "    </tr>\n",
       "  </thead>\n",
       "  <tbody>\n",
       "    <tr>\n",
       "      <th>0</th>\n",
       "      <td>5fac0d0dd529d0d173fb2b74f26b4dca</td>\n",
       "      <td>2010_14</td>\n",
       "      <td>1k</td>\n",
       "      <td>scale</td>\n",
       "      <td>rf</td>\n",
       "      <td>age</td>\n",
       "      <td>keep-all</td>\n",
       "      <td>0.66</td>\n",
       "      <td>0.914469</td>\n",
       "      <td>1.156995</td>\n",
       "    </tr>\n",
       "  </tbody>\n",
       "</table>\n",
       "</div>"
      ],
      "text/plain": [
       "                        universe_id universe_training_year  \\\n",
       "0  5fac0d0dd529d0d173fb2b74f26b4dca                2010_14   \n",
       "\n",
       "  universe_training_size universe_scale universe_model  \\\n",
       "0                     1k          scale             rf   \n",
       "\n",
       "  universe_exclude_features universe_exclude_subgroups  q_hat  coverage  \\\n",
       "0                       age                   keep-all   0.66  0.914469   \n",
       "\n",
       "   avg_size  \n",
       "0  1.156995  "
      ]
     },
     "execution_count": 61,
     "metadata": {},
     "output_type": "execute_result"
    }
   ],
   "source": [
    "cp_metrics_df"
   ]
  },
  {
   "cell_type": "code",
   "execution_count": 62,
   "id": "b7fbde55-a0a1-47e4-9af6-fe4a17fa8c61",
   "metadata": {
    "execution": {
     "iopub.execute_input": "2025-07-30T21:46:44.652453Z",
     "iopub.status.busy": "2025-07-30T21:46:44.651853Z",
     "iopub.status.idle": "2025-07-30T21:46:44.658037Z",
     "shell.execute_reply": "2025-07-30T21:46:44.657026Z"
    },
    "papermill": {
     "duration": 0.044516,
     "end_time": "2025-07-30T21:46:44.661936",
     "exception": false,
     "start_time": "2025-07-30T21:46:44.617420",
     "status": "completed"
    },
    "tags": []
   },
   "outputs": [],
   "source": [
    "# Conditional Coverage & looking at subgroups"
   ]
  },
  {
   "cell_type": "code",
   "execution_count": 63,
   "id": "027ae886-68dd-4141-96c7-805a5450e1ef",
   "metadata": {
    "execution": {
     "iopub.execute_input": "2025-07-30T21:46:44.730370Z",
     "iopub.status.busy": "2025-07-30T21:46:44.729834Z",
     "iopub.status.idle": "2025-07-30T21:46:45.291709Z",
     "shell.execute_reply": "2025-07-30T21:46:45.290708Z"
    },
    "papermill": {
     "duration": 0.597491,
     "end_time": "2025-07-30T21:46:45.293334",
     "exception": false,
     "start_time": "2025-07-30T21:46:44.695843",
     "status": "completed"
    },
    "tags": []
   },
   "outputs": [],
   "source": [
    "from fairness_multiverse.conformal import build_cp_groups\n",
    "\n",
    "cp_groups_df = build_cp_groups(pred_sets, y_true, X_test.index, org_test)\n",
    "#needs universe_id and setting"
   ]
  },
  {
   "cell_type": "code",
   "execution_count": 64,
   "id": "01d5802c-663a-4d1f-9d69-e036faaffbf7",
   "metadata": {
    "execution": {
     "iopub.execute_input": "2025-07-30T21:46:45.350667Z",
     "iopub.status.busy": "2025-07-30T21:46:45.350315Z",
     "iopub.status.idle": "2025-07-30T21:46:45.355340Z",
     "shell.execute_reply": "2025-07-30T21:46:45.354371Z"
    },
    "papermill": {
     "duration": 0.035422,
     "end_time": "2025-07-30T21:46:45.357563",
     "exception": false,
     "start_time": "2025-07-30T21:46:45.322141",
     "status": "completed"
    },
    "tags": []
   },
   "outputs": [],
   "source": [
    "#delete\n",
    "#cp_groups_df"
   ]
  },
  {
   "cell_type": "code",
   "execution_count": 65,
   "id": "fa424af1-d1eb-443d-b717-2d279ada8408",
   "metadata": {
    "execution": {
     "iopub.execute_input": "2025-07-30T21:46:45.417063Z",
     "iopub.status.busy": "2025-07-30T21:46:45.416670Z",
     "iopub.status.idle": "2025-07-30T21:46:45.422030Z",
     "shell.execute_reply": "2025-07-30T21:46:45.421002Z"
    },
    "papermill": {
     "duration": 0.038392,
     "end_time": "2025-07-30T21:46:45.425117",
     "exception": false,
     "start_time": "2025-07-30T21:46:45.386725",
     "status": "completed"
    },
    "tags": []
   },
   "outputs": [],
   "source": [
    "#delete\n",
    "#percentage = (cp_groups_df['nongerman_female'] == 1).mean() * 100\n",
    "#print(percentage)\n"
   ]
  },
  {
   "cell_type": "code",
   "execution_count": 66,
   "id": "6cbdab96-b2b2-45af-ad54-d0516db2e28d",
   "metadata": {
    "execution": {
     "iopub.execute_input": "2025-07-30T21:46:45.515447Z",
     "iopub.status.busy": "2025-07-30T21:46:45.514897Z",
     "iopub.status.idle": "2025-07-30T21:46:47.304674Z",
     "shell.execute_reply": "2025-07-30T21:46:47.303582Z"
    },
    "papermill": {
     "duration": 1.82206,
     "end_time": "2025-07-30T21:46:47.306576",
     "exception": false,
     "start_time": "2025-07-30T21:46:45.484516",
     "status": "completed"
    },
    "tags": []
   },
   "outputs": [],
   "source": [
    "# Define covered = 1 if true_label is in the predicted set\n",
    "cp_groups_df['covered'] = cp_groups_df.apply(\n",
    "    lambda r: int(r['true_label'] in r['pred_set']),\n",
    "    axis=1\n",
    ")"
   ]
  },
  {
   "cell_type": "code",
   "execution_count": 67,
   "id": "338ff529-1a6b-4b87-a931-8e4788d52aad",
   "metadata": {
    "execution": {
     "iopub.execute_input": "2025-07-30T21:46:47.366777Z",
     "iopub.status.busy": "2025-07-30T21:46:47.366223Z",
     "iopub.status.idle": "2025-07-30T21:46:47.372272Z",
     "shell.execute_reply": "2025-07-30T21:46:47.371099Z"
    },
    "papermill": {
     "duration": 0.033698,
     "end_time": "2025-07-30T21:46:47.374222",
     "exception": false,
     "start_time": "2025-07-30T21:46:47.340524",
     "status": "completed"
    },
    "tags": []
   },
   "outputs": [],
   "source": [
    "#cp_groups_df"
   ]
  },
  {
   "cell_type": "code",
   "execution_count": 68,
   "id": "90032e27-66df-4540-9169-4e89cfbaa758",
   "metadata": {
    "execution": {
     "iopub.execute_input": "2025-07-30T21:46:47.429414Z",
     "iopub.status.busy": "2025-07-30T21:46:47.428923Z",
     "iopub.status.idle": "2025-07-30T21:46:47.440269Z",
     "shell.execute_reply": "2025-07-30T21:46:47.439141Z"
    },
    "papermill": {
     "duration": 0.040753,
     "end_time": "2025-07-30T21:46:47.442061",
     "exception": false,
     "start_time": "2025-07-30T21:46:47.401308",
     "status": "completed"
    },
    "tags": []
   },
   "outputs": [],
   "source": [
    "subgroups = ['frau1','nongerman','nongerman_male','nongerman_female']\n",
    "\n",
    "# Conditional coverage for subgroup==1\n",
    "cond_coverage = {\n",
    "    g: cp_groups_df.loc[cp_groups_df[g]==1, 'covered'].mean()\n",
    "    for g in subgroups\n",
    "}"
   ]
  },
  {
   "cell_type": "code",
   "execution_count": 69,
   "id": "1e348fb1-b9c3-45bc-ba23-f016827a7e0d",
   "metadata": {
    "execution": {
     "iopub.execute_input": "2025-07-30T21:46:47.494728Z",
     "iopub.status.busy": "2025-07-30T21:46:47.493707Z",
     "iopub.status.idle": "2025-07-30T21:46:47.502248Z",
     "shell.execute_reply": "2025-07-30T21:46:47.501112Z"
    },
    "papermill": {
     "duration": 0.036865,
     "end_time": "2025-07-30T21:46:47.503910",
     "exception": false,
     "start_time": "2025-07-30T21:46:47.467045",
     "status": "completed"
    },
    "tags": []
   },
   "outputs": [
    {
     "data": {
      "text/plain": [
       "{'frau1': 0.9146246124814665,\n",
       " 'nongerman': 0.909953404816707,\n",
       " 'nongerman_male': 0.924705034675313,\n",
       " 'nongerman_female': 0.8855439642324888}"
      ]
     },
     "execution_count": 69,
     "metadata": {},
     "output_type": "execute_result"
    }
   ],
   "source": [
    "cond_coverage"
   ]
  },
  {
   "cell_type": "code",
   "execution_count": 70,
   "id": "f5093324-c3dd-4d63-bc4c-8d945e5c8bbb",
   "metadata": {
    "execution": {
     "iopub.execute_input": "2025-07-30T21:46:47.557204Z",
     "iopub.status.busy": "2025-07-30T21:46:47.556709Z",
     "iopub.status.idle": "2025-07-30T21:46:47.564132Z",
     "shell.execute_reply": "2025-07-30T21:46:47.563152Z"
    },
    "papermill": {
     "duration": 0.035508,
     "end_time": "2025-07-30T21:46:47.565808",
     "exception": false,
     "start_time": "2025-07-30T21:46:47.530300",
     "status": "completed"
    },
    "tags": []
   },
   "outputs": [],
   "source": [
    "for subgroup, cov in cond_coverage.items():\n",
    "    cp_metrics_df[f\"cov_{subgroup}\"] = cov"
   ]
  },
  {
   "cell_type": "code",
   "execution_count": 71,
   "id": "6e872e10-dbe5-49e8-b554-5030c98ff75d",
   "metadata": {
    "execution": {
     "iopub.execute_input": "2025-07-30T21:46:47.623967Z",
     "iopub.status.busy": "2025-07-30T21:46:47.623106Z",
     "iopub.status.idle": "2025-07-30T21:46:47.642657Z",
     "shell.execute_reply": "2025-07-30T21:46:47.641714Z"
    },
    "papermill": {
     "duration": 0.051449,
     "end_time": "2025-07-30T21:46:47.644685",
     "exception": false,
     "start_time": "2025-07-30T21:46:47.593236",
     "status": "completed"
    },
    "tags": []
   },
   "outputs": [
    {
     "data": {
      "text/html": [
       "<div>\n",
       "<style scoped>\n",
       "    .dataframe tbody tr th:only-of-type {\n",
       "        vertical-align: middle;\n",
       "    }\n",
       "\n",
       "    .dataframe tbody tr th {\n",
       "        vertical-align: top;\n",
       "    }\n",
       "\n",
       "    .dataframe thead th {\n",
       "        text-align: right;\n",
       "    }\n",
       "</style>\n",
       "<table border=\"1\" class=\"dataframe\">\n",
       "  <thead>\n",
       "    <tr style=\"text-align: right;\">\n",
       "      <th></th>\n",
       "      <th>universe_id</th>\n",
       "      <th>universe_training_year</th>\n",
       "      <th>universe_training_size</th>\n",
       "      <th>universe_scale</th>\n",
       "      <th>universe_model</th>\n",
       "      <th>universe_exclude_features</th>\n",
       "      <th>universe_exclude_subgroups</th>\n",
       "      <th>q_hat</th>\n",
       "      <th>coverage</th>\n",
       "      <th>avg_size</th>\n",
       "      <th>cov_frau1</th>\n",
       "      <th>cov_nongerman</th>\n",
       "      <th>cov_nongerman_male</th>\n",
       "      <th>cov_nongerman_female</th>\n",
       "    </tr>\n",
       "  </thead>\n",
       "  <tbody>\n",
       "    <tr>\n",
       "      <th>0</th>\n",
       "      <td>5fac0d0dd529d0d173fb2b74f26b4dca</td>\n",
       "      <td>2010_14</td>\n",
       "      <td>1k</td>\n",
       "      <td>scale</td>\n",
       "      <td>rf</td>\n",
       "      <td>age</td>\n",
       "      <td>keep-all</td>\n",
       "      <td>0.66</td>\n",
       "      <td>0.914469</td>\n",
       "      <td>1.156995</td>\n",
       "      <td>0.914625</td>\n",
       "      <td>0.909953</td>\n",
       "      <td>0.924705</td>\n",
       "      <td>0.885544</td>\n",
       "    </tr>\n",
       "  </tbody>\n",
       "</table>\n",
       "</div>"
      ],
      "text/plain": [
       "                        universe_id universe_training_year  \\\n",
       "0  5fac0d0dd529d0d173fb2b74f26b4dca                2010_14   \n",
       "\n",
       "  universe_training_size universe_scale universe_model  \\\n",
       "0                     1k          scale             rf   \n",
       "\n",
       "  universe_exclude_features universe_exclude_subgroups  q_hat  coverage  \\\n",
       "0                       age                   keep-all   0.66  0.914469   \n",
       "\n",
       "   avg_size  cov_frau1  cov_nongerman  cov_nongerman_male  \\\n",
       "0  1.156995   0.914625       0.909953            0.924705   \n",
       "\n",
       "   cov_nongerman_female  \n",
       "0              0.885544  "
      ]
     },
     "execution_count": 71,
     "metadata": {},
     "output_type": "execute_result"
    }
   ],
   "source": [
    "cp_metrics_df"
   ]
  },
  {
   "cell_type": "markdown",
   "id": "33774451",
   "metadata": {
    "papermill": {
     "duration": 0.027859,
     "end_time": "2025-07-30T21:46:47.702476",
     "exception": false,
     "start_time": "2025-07-30T21:46:47.674617",
     "status": "completed"
    },
    "tags": []
   },
   "source": [
    "# (Fairness) Metrics"
   ]
  },
  {
   "cell_type": "code",
   "execution_count": 72,
   "id": "debc5d62",
   "metadata": {
    "execution": {
     "iopub.execute_input": "2025-07-30T21:46:47.762044Z",
     "iopub.status.busy": "2025-07-30T21:46:47.761051Z",
     "iopub.status.idle": "2025-07-30T21:46:47.783449Z",
     "shell.execute_reply": "2025-07-30T21:46:47.782290Z"
    },
    "papermill": {
     "duration": 0.054713,
     "end_time": "2025-07-30T21:46:47.785737",
     "exception": false,
     "start_time": "2025-07-30T21:46:47.731024",
     "status": "completed"
    },
    "tags": []
   },
   "outputs": [],
   "source": [
    "# do I need to include maxdeutsch1.missing?\n",
    "\n",
    "import numpy as np\n",
    "\n",
    "colname_to_bin = \"maxdeutsch1\"\n",
    "majority_value = org_train[colname_to_bin].mode()[0]\n",
    "\n",
    "org_test[\"majmin\"] = np.where(org_test[colname_to_bin] == majority_value, \"majority\", \"minority\")"
   ]
  },
  {
   "cell_type": "code",
   "execution_count": 73,
   "id": "06a50de5",
   "metadata": {
    "execution": {
     "iopub.execute_input": "2025-07-30T21:46:47.847289Z",
     "iopub.status.busy": "2025-07-30T21:46:47.846942Z",
     "iopub.status.idle": "2025-07-30T21:46:50.395631Z",
     "shell.execute_reply": "2025-07-30T21:46:50.394743Z"
    },
    "papermill": {
     "duration": 2.582002,
     "end_time": "2025-07-30T21:46:50.397381",
     "exception": false,
     "start_time": "2025-07-30T21:46:47.815379",
     "status": "completed"
    },
    "tags": []
   },
   "outputs": [],
   "source": [
    "example_universe = universe.copy()\n",
    "example_universe[\"cutoff\"] = example_universe[\"cutoff\"][0]\n",
    "example_universe[\"eval_fairness_grouping\"] = example_universe[\"eval_fairness_grouping\"][0]\n",
    "fairness_dict, metric_frame = universe_analysis.compute_metrics(\n",
    "    example_universe,\n",
    "    y_pred_prob=probs_test,\n",
    "    y_test=y_true,\n",
    "    org_test=org_test,\n",
    ")"
   ]
  },
  {
   "cell_type": "markdown",
   "id": "f95d4e02",
   "metadata": {
    "papermill": {
     "duration": 0.026472,
     "end_time": "2025-07-30T21:46:50.451610",
     "exception": false,
     "start_time": "2025-07-30T21:46:50.425138",
     "status": "completed"
    },
    "tags": []
   },
   "source": [
    "# Overall"
   ]
  },
  {
   "cell_type": "markdown",
   "id": "bdee4871",
   "metadata": {
    "papermill": {
     "duration": 0.026518,
     "end_time": "2025-07-30T21:46:50.505703",
     "exception": false,
     "start_time": "2025-07-30T21:46:50.479185",
     "status": "completed"
    },
    "tags": []
   },
   "source": [
    "Fairness\n",
    "Main fairness target: Equalized Odds. Seems to be a better fit than equal opportunity, since we're not only interested in Y = 1. Seems to be a better fit than demographic parity, since we also care about accuracy, not just equal distribution of preds.\n",
    "\n",
    "Pick column for computation of fairness metrics\n",
    "\n",
    "Performance\n",
    "Overall performance measures, most interesting in relation to the measures split by group below"
   ]
  },
  {
   "cell_type": "code",
   "execution_count": 74,
   "id": "c4e067c6",
   "metadata": {
    "execution": {
     "iopub.execute_input": "2025-07-30T21:46:50.561847Z",
     "iopub.status.busy": "2025-07-30T21:46:50.561318Z",
     "iopub.status.idle": "2025-07-30T21:46:50.570107Z",
     "shell.execute_reply": "2025-07-30T21:46:50.569125Z"
    },
    "papermill": {
     "duration": 0.039655,
     "end_time": "2025-07-30T21:46:50.571952",
     "exception": false,
     "start_time": "2025-07-30T21:46:50.532297",
     "status": "completed"
    },
    "tags": []
   },
   "outputs": [
    {
     "data": {
      "text/plain": [
       "accuracy                   0.199822\n",
       "balanced accuracy          0.528733\n",
       "f1                         0.237444\n",
       "precision                  0.135257\n",
       "false positive rate        0.913685\n",
       "false negative rate        0.028849\n",
       "selection rate             0.921057\n",
       "count                  89710.000000\n",
       "dtype: float64"
      ]
     },
     "execution_count": 74,
     "metadata": {},
     "output_type": "execute_result"
    }
   ],
   "source": [
    "metric_frame.overall"
   ]
  },
  {
   "cell_type": "markdown",
   "id": "e968fe9d",
   "metadata": {
    "papermill": {
     "duration": 0.027574,
     "end_time": "2025-07-30T21:46:50.628486",
     "exception": false,
     "start_time": "2025-07-30T21:46:50.600912",
     "status": "completed"
    },
    "tags": []
   },
   "source": [
    "By Group"
   ]
  },
  {
   "cell_type": "code",
   "execution_count": 75,
   "id": "ec325bce",
   "metadata": {
    "execution": {
     "iopub.execute_input": "2025-07-30T21:46:50.684750Z",
     "iopub.status.busy": "2025-07-30T21:46:50.684216Z",
     "iopub.status.idle": "2025-07-30T21:46:50.701880Z",
     "shell.execute_reply": "2025-07-30T21:46:50.700859Z"
    },
    "papermill": {
     "duration": 0.046893,
     "end_time": "2025-07-30T21:46:50.703727",
     "exception": false,
     "start_time": "2025-07-30T21:46:50.656834",
     "status": "completed"
    },
    "tags": []
   },
   "outputs": [
    {
     "data": {
      "text/html": [
       "<div>\n",
       "<style scoped>\n",
       "    .dataframe tbody tr th:only-of-type {\n",
       "        vertical-align: middle;\n",
       "    }\n",
       "\n",
       "    .dataframe tbody tr th {\n",
       "        vertical-align: top;\n",
       "    }\n",
       "\n",
       "    .dataframe thead th {\n",
       "        text-align: right;\n",
       "    }\n",
       "</style>\n",
       "<table border=\"1\" class=\"dataframe\">\n",
       "  <thead>\n",
       "    <tr style=\"text-align: right;\">\n",
       "      <th></th>\n",
       "      <th>accuracy</th>\n",
       "      <th>balanced accuracy</th>\n",
       "      <th>f1</th>\n",
       "      <th>precision</th>\n",
       "      <th>false positive rate</th>\n",
       "      <th>false negative rate</th>\n",
       "      <th>selection rate</th>\n",
       "      <th>count</th>\n",
       "    </tr>\n",
       "    <tr>\n",
       "      <th>majmin</th>\n",
       "      <th></th>\n",
       "      <th></th>\n",
       "      <th></th>\n",
       "      <th></th>\n",
       "      <th></th>\n",
       "      <th></th>\n",
       "      <th></th>\n",
       "      <th></th>\n",
       "    </tr>\n",
       "  </thead>\n",
       "  <tbody>\n",
       "    <tr>\n",
       "      <th>majority</th>\n",
       "      <td>0.192237</td>\n",
       "      <td>0.530126</td>\n",
       "      <td>0.244541</td>\n",
       "      <td>0.139512</td>\n",
       "      <td>0.929135</td>\n",
       "      <td>0.010613</td>\n",
       "      <td>0.937097</td>\n",
       "      <td>69170.0</td>\n",
       "    </tr>\n",
       "    <tr>\n",
       "      <th>minority</th>\n",
       "      <td>0.225365</td>\n",
       "      <td>0.519057</td>\n",
       "      <td>0.211429</td>\n",
       "      <td>0.119771</td>\n",
       "      <td>0.862646</td>\n",
       "      <td>0.099240</td>\n",
       "      <td>0.867040</td>\n",
       "      <td>20540.0</td>\n",
       "    </tr>\n",
       "  </tbody>\n",
       "</table>\n",
       "</div>"
      ],
      "text/plain": [
       "          accuracy  balanced accuracy        f1  precision  \\\n",
       "majmin                                                       \n",
       "majority  0.192237           0.530126  0.244541   0.139512   \n",
       "minority  0.225365           0.519057  0.211429   0.119771   \n",
       "\n",
       "          false positive rate  false negative rate  selection rate    count  \n",
       "majmin                                                                       \n",
       "majority             0.929135             0.010613        0.937097  69170.0  \n",
       "minority             0.862646             0.099240        0.867040  20540.0  "
      ]
     },
     "execution_count": 75,
     "metadata": {},
     "output_type": "execute_result"
    }
   ],
   "source": [
    "metric_frame.by_group"
   ]
  },
  {
   "cell_type": "code",
   "execution_count": 76,
   "id": "a9ddbe63",
   "metadata": {
    "execution": {
     "iopub.execute_input": "2025-07-30T21:46:50.766100Z",
     "iopub.status.busy": "2025-07-30T21:46:50.765289Z",
     "iopub.status.idle": "2025-07-30T21:46:52.712510Z",
     "shell.execute_reply": "2025-07-30T21:46:52.711748Z"
    },
    "papermill": {
     "duration": 1.979631,
     "end_time": "2025-07-30T21:46:52.713783",
     "exception": false,
     "start_time": "2025-07-30T21:46:50.734152",
     "status": "completed"
    },
    "tags": []
   },
   "outputs": [
    {
     "data": {
      "text/plain": [
       "array([[<Axes: title={'center': 'accuracy'}, xlabel='majmin'>,\n",
       "        <Axes: title={'center': 'balanced accuracy'}, xlabel='majmin'>,\n",
       "        <Axes: title={'center': 'f1'}, xlabel='majmin'>],\n",
       "       [<Axes: title={'center': 'precision'}, xlabel='majmin'>,\n",
       "        <Axes: title={'center': 'false positive rate'}, xlabel='majmin'>,\n",
       "        <Axes: title={'center': 'false negative rate'}, xlabel='majmin'>],\n",
       "       [<Axes: title={'center': 'selection rate'}, xlabel='majmin'>,\n",
       "        <Axes: title={'center': 'count'}, xlabel='majmin'>,\n",
       "        <Axes: xlabel='majmin'>]], dtype=object)"
      ]
     },
     "execution_count": 76,
     "metadata": {},
     "output_type": "execute_result"
    },
    {
     "data": {
      "image/png": "[encoded data removed]",
      "text/plain": [
       "<Figure size 1200x800 with 9 Axes>"
      ]
     },
     "metadata": {},
     "output_type": "display_data"
    }
   ],
   "source": [
    "# In a graphic\n",
    "metric_frame.by_group.plot.bar(\n",
    "    subplots=True,\n",
    "    layout=[3, 3],\n",
    "    legend=False,\n",
    "    figsize=[12, 8],\n",
    "    title=\"Show all metrics\",\n",
    ")"
   ]
  },
  {
   "cell_type": "markdown",
   "id": "f57a0bac",
   "metadata": {
    "papermill": {
     "duration": 0.01498,
     "end_time": "2025-07-30T21:46:52.744369",
     "exception": false,
     "start_time": "2025-07-30T21:46:52.729389",
     "status": "completed"
    },
    "tags": []
   },
   "source": [
    "# Final Output"
   ]
  },
  {
   "cell_type": "code",
   "execution_count": 77,
   "id": "96d280a3",
   "metadata": {
    "execution": {
     "iopub.execute_input": "2025-07-30T21:46:52.776136Z",
     "iopub.status.busy": "2025-07-30T21:46:52.775635Z",
     "iopub.status.idle": "2025-07-30T21:46:52.783076Z",
     "shell.execute_reply": "2025-07-30T21:46:52.782354Z"
    },
    "papermill": {
     "duration": 0.024997,
     "end_time": "2025-07-30T21:46:52.784431",
     "exception": false,
     "start_time": "2025-07-30T21:46:52.759434",
     "status": "completed"
    },
    "tags": []
   },
   "outputs": [
    {
     "data": {
      "text/plain": [
       "4"
      ]
     },
     "execution_count": 77,
     "metadata": {},
     "output_type": "execute_result"
    }
   ],
   "source": [
    "sub_universes = universe_analysis.generate_sub_universes()\n",
    "len(sub_universes)"
   ]
  },
  {
   "cell_type": "code",
   "execution_count": 78,
   "id": "92adf7ba",
   "metadata": {
    "execution": {
     "iopub.execute_input": "2025-07-30T21:46:52.817505Z",
     "iopub.status.busy": "2025-07-30T21:46:52.817001Z",
     "iopub.status.idle": "2025-07-30T21:46:52.829852Z",
     "shell.execute_reply": "2025-07-30T21:46:52.829090Z"
    },
    "papermill": {
     "duration": 0.030742,
     "end_time": "2025-07-30T21:46:52.831234",
     "exception": false,
     "start_time": "2025-07-30T21:46:52.800492",
     "status": "completed"
    },
    "tags": []
   },
   "outputs": [],
   "source": [
    "def filter_sub_universe_data(sub_universe, org_test):\n",
    "    # Keep all rows — no filtering\n",
    "    keep_rows_mask = np.ones(org_test.shape[0], dtype=bool)\n",
    "\n",
    "    print(f\"[INFO] Keeping all rows: {keep_rows_mask.sum()} rows retained.\")\n",
    "    return keep_rows_mask"
   ]
  },
  {
   "cell_type": "code",
   "execution_count": 79,
   "id": "4a759155",
   "metadata": {
    "execution": {
     "iopub.execute_input": "2025-07-30T21:46:52.864689Z",
     "iopub.status.busy": "2025-07-30T21:46:52.864322Z",
     "iopub.status.idle": "2025-07-30T21:47:02.430357Z",
     "shell.execute_reply": "2025-07-30T21:47:02.429651Z"
    },
    "papermill": {
     "duration": 9.583643,
     "end_time": "2025-07-30T21:47:02.431631",
     "exception": false,
     "start_time": "2025-07-30T21:46:52.847988",
     "status": "completed"
    },
    "tags": []
   },
   "outputs": [
    {
     "name": "stdout",
     "output_type": "stream",
     "text": [
      "Stopping execution_time clock.\n",
      "[INFO] Keeping all rows: 89710 rows retained.\n"
     ]
    },
    {
     "name": "stdout",
     "output_type": "stream",
     "text": [
      "[INFO] Keeping all rows: 89710 rows retained.\n"
     ]
    },
    {
     "name": "stdout",
     "output_type": "stream",
     "text": [
      "[INFO] Keeping all rows: 89710 rows retained.\n"
     ]
    },
    {
     "name": "stdout",
     "output_type": "stream",
     "text": [
      "[INFO] Keeping all rows: 89710 rows retained.\n"
     ]
    },
    {
     "data": {
      "text/html": [
       "<div>\n",
       "<style scoped>\n",
       "    .dataframe tbody tr th:only-of-type {\n",
       "        vertical-align: middle;\n",
       "    }\n",
       "\n",
       "    .dataframe tbody tr th {\n",
       "        vertical-align: top;\n",
       "    }\n",
       "\n",
       "    .dataframe thead th {\n",
       "        text-align: right;\n",
       "    }\n",
       "</style>\n",
       "<table border=\"1\" class=\"dataframe\">\n",
       "  <thead>\n",
       "    <tr style=\"text-align: right;\">\n",
       "      <th></th>\n",
       "      <th>run_no</th>\n",
       "      <th>universe_id</th>\n",
       "      <th>universe_settings</th>\n",
       "      <th>execution_time</th>\n",
       "      <th>test_size_n</th>\n",
       "      <th>test_size_frac</th>\n",
       "      <th>fair_main_equalized_odds_difference</th>\n",
       "      <th>fair_main_equalized_odds_ratio</th>\n",
       "      <th>fair_main_demographic_parity_difference</th>\n",
       "      <th>fair_main_demographic_parity_ratio</th>\n",
       "      <th>...</th>\n",
       "      <th>perf_grp_precision_0</th>\n",
       "      <th>perf_grp_precision_1</th>\n",
       "      <th>perf_grp_false positive rate_0</th>\n",
       "      <th>perf_grp_false positive rate_1</th>\n",
       "      <th>perf_grp_false negative rate_0</th>\n",
       "      <th>perf_grp_false negative rate_1</th>\n",
       "      <th>perf_grp_selection rate_0</th>\n",
       "      <th>perf_grp_selection rate_1</th>\n",
       "      <th>perf_grp_count_0</th>\n",
       "      <th>perf_grp_count_1</th>\n",
       "    </tr>\n",
       "  </thead>\n",
       "  <tbody>\n",
       "    <tr>\n",
       "      <th>0</th>\n",
       "      <td>14</td>\n",
       "      <td>5fac0d0dd529d0d173fb2b74f26b4dca</td>\n",
       "      <td>{\"cutoff\": \"quantile_0.1\", \"eval_fairness_grou...</td>\n",
       "      <td>31.390892</td>\n",
       "      <td>89710</td>\n",
       "      <td>1.0</td>\n",
       "      <td>0.088627</td>\n",
       "      <td>0.910422</td>\n",
       "      <td>0.070057</td>\n",
       "      <td>0.92524</td>\n",
       "      <td>...</td>\n",
       "      <td>NaN</td>\n",
       "      <td>NaN</td>\n",
       "      <td>NaN</td>\n",
       "      <td>NaN</td>\n",
       "      <td>NaN</td>\n",
       "      <td>NaN</td>\n",
       "      <td>NaN</td>\n",
       "      <td>NaN</td>\n",
       "      <td>NaN</td>\n",
       "      <td>NaN</td>\n",
       "    </tr>\n",
       "    <tr>\n",
       "      <th>0</th>\n",
       "      <td>14</td>\n",
       "      <td>5fac0d0dd529d0d173fb2b74f26b4dca</td>\n",
       "      <td>{\"cutoff\": \"quantile_0.1\", \"eval_fairness_grou...</td>\n",
       "      <td>31.390892</td>\n",
       "      <td>89710</td>\n",
       "      <td>1.0</td>\n",
       "      <td>0.088627</td>\n",
       "      <td>0.910422</td>\n",
       "      <td>0.070057</td>\n",
       "      <td>0.92524</td>\n",
       "      <td>...</td>\n",
       "      <td>0.119771</td>\n",
       "      <td>0.139512</td>\n",
       "      <td>0.862646</td>\n",
       "      <td>0.929135</td>\n",
       "      <td>0.099240</td>\n",
       "      <td>0.010613</td>\n",
       "      <td>0.867040</td>\n",
       "      <td>0.937097</td>\n",
       "      <td>20540.0</td>\n",
       "      <td>69170.0</td>\n",
       "    </tr>\n",
       "    <tr>\n",
       "      <th>0</th>\n",
       "      <td>14</td>\n",
       "      <td>5fac0d0dd529d0d173fb2b74f26b4dca</td>\n",
       "      <td>{\"cutoff\": \"quantile_0.25\", \"eval_fairness_gro...</td>\n",
       "      <td>31.390892</td>\n",
       "      <td>89710</td>\n",
       "      <td>1.0</td>\n",
       "      <td>0.187909</td>\n",
       "      <td>0.802497</td>\n",
       "      <td>0.141238</td>\n",
       "      <td>0.82507</td>\n",
       "      <td>...</td>\n",
       "      <td>NaN</td>\n",
       "      <td>NaN</td>\n",
       "      <td>NaN</td>\n",
       "      <td>NaN</td>\n",
       "      <td>NaN</td>\n",
       "      <td>NaN</td>\n",
       "      <td>NaN</td>\n",
       "      <td>NaN</td>\n",
       "      <td>NaN</td>\n",
       "      <td>NaN</td>\n",
       "    </tr>\n",
       "    <tr>\n",
       "      <th>0</th>\n",
       "      <td>14</td>\n",
       "      <td>5fac0d0dd529d0d173fb2b74f26b4dca</td>\n",
       "      <td>{\"cutoff\": \"quantile_0.25\", \"eval_fairness_gro...</td>\n",
       "      <td>31.390892</td>\n",
       "      <td>89710</td>\n",
       "      <td>1.0</td>\n",
       "      <td>0.187909</td>\n",
       "      <td>0.802497</td>\n",
       "      <td>0.141238</td>\n",
       "      <td>0.82507</td>\n",
       "      <td>...</td>\n",
       "      <td>0.132135</td>\n",
       "      <td>0.155708</td>\n",
       "      <td>0.653478</td>\n",
       "      <td>0.785474</td>\n",
       "      <td>0.236486</td>\n",
       "      <td>0.048578</td>\n",
       "      <td>0.666164</td>\n",
       "      <td>0.807402</td>\n",
       "      <td>20540.0</td>\n",
       "      <td>69170.0</td>\n",
       "    </tr>\n",
       "  </tbody>\n",
       "</table>\n",
       "<p>4 rows × 50 columns</p>\n",
       "</div>"
      ],
      "text/plain": [
       "  run_no                       universe_id  \\\n",
       "0     14  5fac0d0dd529d0d173fb2b74f26b4dca   \n",
       "0     14  5fac0d0dd529d0d173fb2b74f26b4dca   \n",
       "0     14  5fac0d0dd529d0d173fb2b74f26b4dca   \n",
       "0     14  5fac0d0dd529d0d173fb2b74f26b4dca   \n",
       "\n",
       "                                   universe_settings  execution_time  \\\n",
       "0  {\"cutoff\": \"quantile_0.1\", \"eval_fairness_grou...       31.390892   \n",
       "0  {\"cutoff\": \"quantile_0.1\", \"eval_fairness_grou...       31.390892   \n",
       "0  {\"cutoff\": \"quantile_0.25\", \"eval_fairness_gro...       31.390892   \n",
       "0  {\"cutoff\": \"quantile_0.25\", \"eval_fairness_gro...       31.390892   \n",
       "\n",
       "   test_size_n  test_size_frac  fair_main_equalized_odds_difference  \\\n",
       "0        89710             1.0                             0.088627   \n",
       "0        89710             1.0                             0.088627   \n",
       "0        89710             1.0                             0.187909   \n",
       "0        89710             1.0                             0.187909   \n",
       "\n",
       "   fair_main_equalized_odds_ratio  fair_main_demographic_parity_difference  \\\n",
       "0                        0.910422                                 0.070057   \n",
       "0                        0.910422                                 0.070057   \n",
       "0                        0.802497                                 0.141238   \n",
       "0                        0.802497                                 0.141238   \n",
       "\n",
       "   fair_main_demographic_parity_ratio  ...  perf_grp_precision_0  \\\n",
       "0                             0.92524  ...                   NaN   \n",
       "0                             0.92524  ...              0.119771   \n",
       "0                             0.82507  ...                   NaN   \n",
       "0                             0.82507  ...              0.132135   \n",
       "\n",
       "   perf_grp_precision_1  perf_grp_false positive rate_0  \\\n",
       "0                   NaN                             NaN   \n",
       "0              0.139512                        0.862646   \n",
       "0                   NaN                             NaN   \n",
       "0              0.155708                        0.653478   \n",
       "\n",
       "   perf_grp_false positive rate_1  perf_grp_false negative rate_0  \\\n",
       "0                             NaN                             NaN   \n",
       "0                        0.929135                        0.099240   \n",
       "0                             NaN                             NaN   \n",
       "0                        0.785474                        0.236486   \n",
       "\n",
       "   perf_grp_false negative rate_1  perf_grp_selection rate_0  \\\n",
       "0                             NaN                        NaN   \n",
       "0                        0.010613                   0.867040   \n",
       "0                             NaN                        NaN   \n",
       "0                        0.048578                   0.666164   \n",
       "\n",
       "   perf_grp_selection rate_1  perf_grp_count_0  perf_grp_count_1  \n",
       "0                        NaN               NaN               NaN  \n",
       "0                   0.937097           20540.0           69170.0  \n",
       "0                        NaN               NaN               NaN  \n",
       "0                   0.807402           20540.0           69170.0  \n",
       "\n",
       "[4 rows x 50 columns]"
      ]
     },
     "execution_count": 79,
     "metadata": {},
     "output_type": "execute_result"
    }
   ],
   "source": [
    "final_output = universe_analysis.generate_final_output(\n",
    "    y_pred_prob=probs_test,\n",
    "    y_test=y_true,\n",
    "    org_test=org_test,\n",
    "    filter_data=filter_sub_universe_data,\n",
    "    cp_metrics_df=cp_metrics_df,\n",
    "    save=True,\n",
    ")\n",
    "final_output"
   ]
  },
  {
   "cell_type": "code",
   "execution_count": null,
   "id": "721ff514-cb11-46f8-b6fc-50392f74b5cb",
   "metadata": {
    "papermill": {
     "duration": 0.015539,
     "end_time": "2025-07-30T21:47:02.466386",
     "exception": false,
     "start_time": "2025-07-30T21:47:02.450847",
     "status": "completed"
    },
    "tags": []
   },
   "outputs": [],
   "source": []
  }
 ],
 "metadata": {
  "celltoolbar": "Tags",
  "kernelspec": {
   "display_name": "Python (CMA Fairness)",
   "language": "python",
   "name": "cma_fair_env"
  },
  "language_info": {
   "codemirror_mode": {
    "name": "ipython",
    "version": 3
   },
   "file_extension": ".py",
   "mimetype": "text/x-python",
   "name": "python",
   "nbconvert_exporter": "python",
   "pygments_lexer": "ipython3",
   "version": "3.10.12"
  },
  "papermill": {
   "default_parameters": {},
   "duration": 45.077752,
   "end_time": "2025-07-30T21:47:03.202292",
   "environment_variables": {},
   "exception": null,
   "input_path": "universe_analysis.ipynb",
   "output_path": "output/runs/14/notebooks/m_14-5fac0d0dd529d0d173fb2b74f26b4dca.ipynb",
   "parameters": {
    "output_dir": "output",
    "run_no": "14",
    "seed": "2023",
    "universe": "{\"cutoff\": [\"quantile_0.1\", \"quantile_0.25\"], \"eval_fairness_grouping\": [\"majority-minority\", \"nationality-all\"], \"exclude_features\": \"age\", \"exclude_subgroups\": \"keep-all\", \"model\": \"rf\", \"scale\": \"scale\", \"training_size\": \"1k\", \"training_year\": \"2010_14\"}",
    "universe_id": "5fac0d0dd529d0d173fb2b74f26b4dca"
   },
   "start_time": "2025-07-30T21:46:18.124540",
   "version": "2.6.0"
  }
 },
 "nbformat": 4,
 "nbformat_minor": 5
}