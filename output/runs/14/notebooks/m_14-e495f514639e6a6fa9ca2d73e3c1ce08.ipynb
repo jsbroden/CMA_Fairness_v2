{
 "cells": [
  {
   "cell_type": "code",
   "execution_count": 1,
   "id": "f159f837-637b-42ba-96b5-ec9a68c44524",
   "metadata": {
    "execution": {
     "iopub.execute_input": "2025-07-30T20:07:30.551940Z",
     "iopub.status.busy": "2025-07-30T20:07:30.551257Z",
     "iopub.status.idle": "2025-07-30T20:07:30.566026Z",
     "shell.execute_reply": "2025-07-30T20:07:30.565023Z"
    },
    "papermill": {
     "duration": 0.044133,
     "end_time": "2025-07-30T20:07:30.568063",
     "exception": false,
     "start_time": "2025-07-30T20:07:30.523930",
     "status": "completed"
    },
    "tags": []
   },
   "outputs": [
    {
     "name": "stdout",
     "output_type": "stream",
     "text": [
      "/dss/dsshome1/0C/ra93lal2/cma/CMA_Fairness_v2\n"
     ]
    },
    {
     "name": "stderr",
     "output_type": "stream",
     "text": [
      "/dss/dsshome1/0C/ra93lal2/.local/share/virtualenvs/CMA_Fairness_v2-3j10GkSs/lib/python3.10/site-packages/IPython/core/magics/osm.py:393: UserWarning: This is now an optional IPython functionality, using bookmarks requires you to install the `pickleshare` library.\n",
      "  bkms = self.shell.db.get('bookmarks', {})\n",
      "/dss/dsshome1/0C/ra93lal2/.local/share/virtualenvs/CMA_Fairness_v2-3j10GkSs/lib/python3.10/site-packages/IPython/core/magics/osm.py:417: UserWarning: This is now an optional IPython functionality, setting dhist requires you to install the `pickleshare` library.\n",
      "  self.shell.db['dhist'] = compress_dhist(dhist)[-100:]\n"
     ]
    }
   ],
   "source": [
    "%cd ~/cma/CMA_Fairness_v2"
   ]
  },
  {
   "cell_type": "markdown",
   "id": "de2603b9",
   "metadata": {
    "papermill": {
     "duration": 0.021388,
     "end_time": "2025-07-30T20:07:30.614586",
     "exception": false,
     "start_time": "2025-07-30T20:07:30.593198",
     "status": "completed"
    },
    "tags": []
   },
   "source": [
    "The following cell holds the definition of our parameters, these values can be overriden by rendering the with e.g. the following command:\n",
    "\n",
    "papermill -p alpha 0.2 -p ratio 0.3 universe_analysis.ipynb output/test_run.ipynb"
   ]
  },
  {
   "cell_type": "code",
   "execution_count": 2,
   "id": "a80968a0-40bb-4fa9-85ef-2d5eefb01975",
   "metadata": {
    "execution": {
     "iopub.execute_input": "2025-07-30T20:07:30.658956Z",
     "iopub.status.busy": "2025-07-30T20:07:30.658312Z",
     "iopub.status.idle": "2025-07-30T20:07:30.663833Z",
     "shell.execute_reply": "2025-07-30T20:07:30.662958Z"
    },
    "papermill": {
     "duration": 0.029465,
     "end_time": "2025-07-30T20:07:30.665598",
     "exception": false,
     "start_time": "2025-07-30T20:07:30.636133",
     "status": "completed"
    },
    "tags": []
   },
   "outputs": [
    {
     "name": "stdout",
     "output_type": "stream",
     "text": [
      "Current working directory: /dss/dsshome1/0C/ra93lal2/cma/CMA_Fairness_v2\n"
     ]
    }
   ],
   "source": [
    "import os\n",
    "print(\"Current working directory:\", os.getcwd())"
   ]
  },
  {
   "cell_type": "code",
   "execution_count": 3,
   "id": "2dce4c03",
   "metadata": {
    "execution": {
     "iopub.execute_input": "2025-07-30T20:07:30.721953Z",
     "iopub.status.busy": "2025-07-30T20:07:30.721130Z",
     "iopub.status.idle": "2025-07-30T20:07:30.727559Z",
     "shell.execute_reply": "2025-07-30T20:07:30.726687Z"
    },
    "papermill": {
     "duration": 0.033818,
     "end_time": "2025-07-30T20:07:30.728990",
     "exception": false,
     "start_time": "2025-07-30T20:07:30.695172",
     "status": "completed"
    },
    "tags": [
     "parameters"
    ]
   },
   "outputs": [],
   "source": [
    "run_no = 0\n",
    "universe_id = \"test\"\n",
    "universe = {\n",
    "    \"training_size\": \"25k\", # \"25k\", \"5k\", \"1k\"\n",
    "    \"training_year\": \"2014\", # \"2014\", \"2012_14\", \"2010_14\"\n",
    "    \"scale\": \"scale\", # \"scale\", \"do-not-scale\",\n",
    "    #\"stratify_split\": \"target\", # \"none\", \"target\", \"protected-attribute\", \"both\",\n",
    "    \"model\": \"elasticnet\", # \"logreg\", \"penalized_logreg\", \"rf\", \"gbm\", \"elasticnet\"\n",
    "    \"cutoff\": [\"quantile_0.15\", \"quantile_0.30\"],\n",
    "    \"exclude_features\": \"age\", # \"none\", \"nationality\", \"sex\", \"nationality-sex\", \"age\"\n",
    "    \"exclude_subgroups\": \"keep-all\", # \"keep-all\", \"drop-non-german\"\n",
    "    \"eval_fairness_grouping\": [\"majority-minority\", \"nationality-all\"]\n",
    "}\n",
    "\n",
    "output_dir=\"./output\"\n",
    "seed=0"
   ]
  },
  {
   "cell_type": "code",
   "execution_count": 4,
   "id": "8c2d3546",
   "metadata": {
    "execution": {
     "iopub.execute_input": "2025-07-30T20:07:30.768157Z",
     "iopub.status.busy": "2025-07-30T20:07:30.767369Z",
     "iopub.status.idle": "2025-07-30T20:07:30.772881Z",
     "shell.execute_reply": "2025-07-30T20:07:30.771844Z"
    },
    "papermill": {
     "duration": 0.026742,
     "end_time": "2025-07-30T20:07:30.774306",
     "exception": false,
     "start_time": "2025-07-30T20:07:30.747564",
     "status": "completed"
    },
    "tags": [
     "injected-parameters"
    ]
   },
   "outputs": [],
   "source": [
    "# Parameters\n",
    "universe_id = \"e495f514639e6a6fa9ca2d73e3c1ce08\"\n",
    "run_no = \"14\"\n",
    "universe = \"{\\\"cutoff\\\": [\\\"quantile_0.1\\\", \\\"quantile_0.25\\\"], \\\"eval_fairness_grouping\\\": [\\\"majority-minority\\\", \\\"nationality-all\\\"], \\\"exclude_features\\\": \\\"none\\\", \\\"exclude_subgroups\\\": \\\"drop-non-german\\\", \\\"model\\\": \\\"logreg\\\", \\\"scale\\\": \\\"scale\\\", \\\"training_size\\\": \\\"25k\\\", \\\"training_year\\\": \\\"2012_14\\\"}\"\n",
    "output_dir = \"output\"\n",
    "seed = \"2023\"\n"
   ]
  },
  {
   "cell_type": "code",
   "execution_count": 5,
   "id": "1650acaf",
   "metadata": {
    "execution": {
     "iopub.execute_input": "2025-07-30T20:07:30.814472Z",
     "iopub.status.busy": "2025-07-30T20:07:30.813887Z",
     "iopub.status.idle": "2025-07-30T20:07:30.819681Z",
     "shell.execute_reply": "2025-07-30T20:07:30.818672Z"
    },
    "papermill": {
     "duration": 0.027757,
     "end_time": "2025-07-30T20:07:30.821238",
     "exception": false,
     "start_time": "2025-07-30T20:07:30.793481",
     "status": "completed"
    },
    "tags": []
   },
   "outputs": [],
   "source": [
    "import json\n",
    "# Parse universe into dict if it is passed as a string\n",
    "if isinstance(universe, str):\n",
    "    universe = json.loads(universe)"
   ]
  },
  {
   "cell_type": "code",
   "execution_count": 6,
   "id": "16620c48",
   "metadata": {
    "execution": {
     "iopub.execute_input": "2025-07-30T20:07:30.918688Z",
     "iopub.status.busy": "2025-07-30T20:07:30.917928Z",
     "iopub.status.idle": "2025-07-30T20:07:30.967020Z",
     "shell.execute_reply": "2025-07-30T20:07:30.966056Z"
    },
    "papermill": {
     "duration": 0.071322,
     "end_time": "2025-07-30T20:07:30.968862",
     "exception": false,
     "start_time": "2025-07-30T20:07:30.897540",
     "status": "completed"
    },
    "tags": []
   },
   "outputs": [],
   "source": [
    "# Auto-reload the custom package\n",
    "%load_ext autoreload\n",
    "%autoreload 1\n",
    "%aimport fairness_multiverse"
   ]
  },
  {
   "cell_type": "code",
   "execution_count": 7,
   "id": "01c5c9f3",
   "metadata": {
    "execution": {
     "iopub.execute_input": "2025-07-30T20:07:31.009634Z",
     "iopub.status.busy": "2025-07-30T20:07:31.008871Z",
     "iopub.status.idle": "2025-07-30T20:07:32.601737Z",
     "shell.execute_reply": "2025-07-30T20:07:32.600960Z"
    },
    "papermill": {
     "duration": 1.614762,
     "end_time": "2025-07-30T20:07:32.603201",
     "exception": false,
     "start_time": "2025-07-30T20:07:30.988439",
     "status": "completed"
    },
    "tags": []
   },
   "outputs": [],
   "source": [
    "from fairness_multiverse.universe import UniverseAnalysis\n",
    "\n",
    "universe_analysis = UniverseAnalysis(\n",
    "    run_no = run_no,\n",
    "    universe_id = universe_id,\n",
    "    universe = universe,\n",
    "    output_dir=output_dir,\n",
    ")"
   ]
  },
  {
   "cell_type": "code",
   "execution_count": 8,
   "id": "106241f5",
   "metadata": {
    "execution": {
     "iopub.execute_input": "2025-07-30T20:07:32.627144Z",
     "iopub.status.busy": "2025-07-30T20:07:32.626574Z",
     "iopub.status.idle": "2025-07-30T20:07:32.632938Z",
     "shell.execute_reply": "2025-07-30T20:07:32.631267Z"
    },
    "papermill": {
     "duration": 0.020042,
     "end_time": "2025-07-30T20:07:32.634279",
     "exception": false,
     "start_time": "2025-07-30T20:07:32.614237",
     "status": "completed"
    },
    "tags": []
   },
   "outputs": [
    {
     "name": "stdout",
     "output_type": "stream",
     "text": [
      "Using Seed: 2023\n"
     ]
    }
   ],
   "source": [
    "import numpy as np\n",
    "parsed_seed = int(seed)\n",
    "np.random.seed(parsed_seed)\n",
    "print(f\"Using Seed: {parsed_seed}\")"
   ]
  },
  {
   "cell_type": "markdown",
   "id": "e0ebdc57",
   "metadata": {
    "papermill": {
     "duration": 0.010719,
     "end_time": "2025-07-30T20:07:32.656586",
     "exception": false,
     "start_time": "2025-07-30T20:07:32.645867",
     "status": "completed"
    },
    "tags": []
   },
   "source": [
    "# Loading Data"
   ]
  },
  {
   "cell_type": "markdown",
   "id": "681925a3",
   "metadata": {
    "papermill": {
     "duration": 0.010601,
     "end_time": "2025-07-30T20:07:32.677666",
     "exception": false,
     "start_time": "2025-07-30T20:07:32.667065",
     "status": "completed"
    },
    "tags": []
   },
   "source": [
    "Load siab_train, siab_test, siab_calib and/or \n",
    "load siab_train_features, siab_train_labels"
   ]
  },
  {
   "cell_type": "code",
   "execution_count": 9,
   "id": "f0496b8a",
   "metadata": {
    "execution": {
     "iopub.execute_input": "2025-07-30T20:07:32.700649Z",
     "iopub.status.busy": "2025-07-30T20:07:32.700081Z",
     "iopub.status.idle": "2025-07-30T20:07:43.417406Z",
     "shell.execute_reply": "2025-07-30T20:07:43.416418Z"
    },
    "papermill": {
     "duration": 10.730763,
     "end_time": "2025-07-30T20:07:43.419031",
     "exception": false,
     "start_time": "2025-07-30T20:07:32.688268",
     "status": "completed"
    },
    "tags": []
   },
   "outputs": [
    {
     "name": "stdout",
     "output_type": "stream",
     "text": [
      "Loading SIAB data from cache: data/siab_cached.csv.gz\n"
     ]
    },
    {
     "name": "stdout",
     "output_type": "stream",
     "text": [
      "(643690, 164)\n"
     ]
    }
   ],
   "source": [
    "from pathlib import Path\n",
    "import pandas as pd\n",
    "\n",
    "# File paths\n",
    "raw_file = Path(\"data/raw/siab.csv\")\n",
    "cache_file = Path(\"data/siab_cached.csv.gz\")\n",
    "\n",
    "# Ensure cache directory exists\n",
    "cache_file.parent.mkdir(parents=True, exist_ok=True)\n",
    "\n",
    "# Load with simple caching\n",
    "if cache_file.exists():\n",
    "    print(f\"Loading SIAB data from cache: {cache_file}\")\n",
    "    siab = pd.read_csv(cache_file, compression='gzip')\n",
    "else:\n",
    "    print(f\"Cache not found. Reading raw SIAB data: {raw_file}\")\n",
    "    siab = pd.read_csv(raw_file)\n",
    "    siab.to_csv(cache_file, index=False, compression='gzip')\n",
    "    print(f\"Cached SIAB data to: {cache_file}\")\n",
    "\n",
    "# Now use `siab` DataFrame as needed\n",
    "print(siab.shape)"
   ]
  },
  {
   "cell_type": "code",
   "execution_count": 10,
   "id": "db0ca512-5f53-4dba-abdb-a2888bca41ba",
   "metadata": {
    "execution": {
     "iopub.execute_input": "2025-07-30T20:07:43.444058Z",
     "iopub.status.busy": "2025-07-30T20:07:43.443688Z",
     "iopub.status.idle": "2025-07-30T20:07:43.448251Z",
     "shell.execute_reply": "2025-07-30T20:07:43.447408Z"
    },
    "papermill": {
     "duration": 0.017204,
     "end_time": "2025-07-30T20:07:43.449517",
     "exception": false,
     "start_time": "2025-07-30T20:07:43.432313",
     "status": "completed"
    },
    "tags": []
   },
   "outputs": [],
   "source": [
    "#siab"
   ]
  },
  {
   "cell_type": "code",
   "execution_count": 11,
   "id": "a0edb063",
   "metadata": {
    "execution": {
     "iopub.execute_input": "2025-07-30T20:07:43.472693Z",
     "iopub.status.busy": "2025-07-30T20:07:43.471854Z",
     "iopub.status.idle": "2025-07-30T20:07:43.476179Z",
     "shell.execute_reply": "2025-07-30T20:07:43.475493Z"
    },
    "papermill": {
     "duration": 0.01663,
     "end_time": "2025-07-30T20:07:43.477510",
     "exception": false,
     "start_time": "2025-07-30T20:07:43.460880",
     "status": "completed"
    },
    "tags": []
   },
   "outputs": [],
   "source": [
    "#import pandas as pd\n",
    "#\n",
    "#X_train = pd.read_csv(\"./data/X_train.csv\")\n",
    "#y_train = pd.read_csv(\"./data/y_train.csv\")"
   ]
  },
  {
   "cell_type": "code",
   "execution_count": 12,
   "id": "63d08085",
   "metadata": {
    "execution": {
     "iopub.execute_input": "2025-07-30T20:07:43.500151Z",
     "iopub.status.busy": "2025-07-30T20:07:43.499776Z",
     "iopub.status.idle": "2025-07-30T20:07:43.503893Z",
     "shell.execute_reply": "2025-07-30T20:07:43.503082Z"
    },
    "papermill": {
     "duration": 0.016791,
     "end_time": "2025-07-30T20:07:43.505206",
     "exception": false,
     "start_time": "2025-07-30T20:07:43.488415",
     "status": "completed"
    },
    "tags": []
   },
   "outputs": [],
   "source": [
    "#X_test = pd.read_csv(\"./data/X_test.csv\")\n",
    "#y_true = pd.read_csv(\"./data/y_test.csv\")"
   ]
  },
  {
   "cell_type": "code",
   "execution_count": 13,
   "id": "98a8d0fa-1d3d-4ed8-bb2c-281470e24add",
   "metadata": {
    "execution": {
     "iopub.execute_input": "2025-07-30T20:07:43.527666Z",
     "iopub.status.busy": "2025-07-30T20:07:43.527168Z",
     "iopub.status.idle": "2025-07-30T20:07:43.531325Z",
     "shell.execute_reply": "2025-07-30T20:07:43.530629Z"
    },
    "papermill": {
     "duration": 0.016464,
     "end_time": "2025-07-30T20:07:43.532689",
     "exception": false,
     "start_time": "2025-07-30T20:07:43.516225",
     "status": "completed"
    },
    "tags": []
   },
   "outputs": [],
   "source": [
    "# Calibration data for conformal\n",
    "#X_calib = pd.read_csv(\"./data/X_calib.csv\")\n",
    "#y_calib = pd.read_csv(\"./data/y_calib.csv\")"
   ]
  },
  {
   "cell_type": "markdown",
   "id": "997051c5-15bd-4b69-9786-c3001a3ce484",
   "metadata": {
    "papermill": {
     "duration": 0.01028,
     "end_time": "2025-07-30T20:07:43.554015",
     "exception": false,
     "start_time": "2025-07-30T20:07:43.543735",
     "status": "completed"
    },
    "tags": []
   },
   "source": [
    "# Splitting Data and Setting Training Data Size"
   ]
  },
  {
   "cell_type": "code",
   "execution_count": 14,
   "id": "e993b61f-042d-41a6-8c81-f55681f86335",
   "metadata": {
    "execution": {
     "iopub.execute_input": "2025-07-30T20:07:43.576588Z",
     "iopub.status.busy": "2025-07-30T20:07:43.576007Z",
     "iopub.status.idle": "2025-07-30T20:07:43.585549Z",
     "shell.execute_reply": "2025-07-30T20:07:43.584804Z"
    },
    "papermill": {
     "duration": 0.022428,
     "end_time": "2025-07-30T20:07:43.586881",
     "exception": false,
     "start_time": "2025-07-30T20:07:43.564453",
     "status": "completed"
    },
    "tags": []
   },
   "outputs": [],
   "source": [
    "def sample_by_year_size(df,\n",
    "                        training_year: str,\n",
    "                        training_size: str,\n",
    "                        random_state: int = 42):\n",
    "    # --- parse training_year into a list of int years ---\n",
    "    if \"_\" in training_year:\n",
    "        start_str, end_str = training_year.split(\"_\", 1)\n",
    "        start = int(start_str)\n",
    "        end   = int(end_str) if len(end_str) == 4 else (int(end_str) + (start // 100)*100)\n",
    "        years = list(range(start, end + 1))\n",
    "    else:\n",
    "        years = [int(training_year)]\n",
    "\n",
    "    df = df[df[\"year\"].isin(years)].reset_index(drop=True)\n",
    "\n",
    "    # --- map training_size to total number of samples ---\n",
    "    total_map = {\"25k\": 25_000, \"5k\": 5_000, \"1k\": 1_000}\n",
    "    if training_size not in total_map:\n",
    "        return df  # e.g. \"all\"\n",
    "\n",
    "    total_samples = total_map[training_size]\n",
    "    n_years       = len(years)\n",
    "    base          = total_samples // n_years\n",
    "    remainder     = total_samples % n_years\n",
    "\n",
    "    # --- build a dict: year -> how many to sample ---\n",
    "    # give +1 to the first `remainder` years in ascending order\n",
    "    quotas = {\n",
    "        year: base + (1 if idx < remainder else 0)\n",
    "        for idx, year in enumerate(sorted(years))\n",
    "    }\n",
    "\n",
    "    # --- sample per‐year according to the quota dict ---\n",
    "    sampled = (\n",
    "        df\n",
    "        .groupby(\"year\", group_keys=False)\n",
    "        .apply(lambda grp: grp.sample(\n",
    "            n=min(len(grp), quotas[grp.name]),\n",
    "            random_state=random_state))\n",
    "        .reset_index(drop=True)\n",
    "    )\n",
    "\n",
    "    return sampled"
   ]
  },
  {
   "cell_type": "code",
   "execution_count": 15,
   "id": "c0ccd338-0e02-41f3-a09d-f56f9266e3fb",
   "metadata": {
    "execution": {
     "iopub.execute_input": "2025-07-30T20:07:43.610373Z",
     "iopub.status.busy": "2025-07-30T20:07:43.609750Z",
     "iopub.status.idle": "2025-07-30T20:07:43.614004Z",
     "shell.execute_reply": "2025-07-30T20:07:43.613346Z"
    },
    "papermill": {
     "duration": 0.016716,
     "end_time": "2025-07-30T20:07:43.615261",
     "exception": false,
     "start_time": "2025-07-30T20:07:43.598545",
     "status": "completed"
    },
    "tags": []
   },
   "outputs": [],
   "source": [
    "#universe[\"training_size\"]"
   ]
  },
  {
   "cell_type": "code",
   "execution_count": 16,
   "id": "ca707fd7-8047-4acd-bfa5-66248fbbf8e6",
   "metadata": {
    "execution": {
     "iopub.execute_input": "2025-07-30T20:07:43.638506Z",
     "iopub.status.busy": "2025-07-30T20:07:43.638005Z",
     "iopub.status.idle": "2025-07-30T20:07:43.642129Z",
     "shell.execute_reply": "2025-07-30T20:07:43.641251Z"
    },
    "papermill": {
     "duration": 0.016655,
     "end_time": "2025-07-30T20:07:43.643432",
     "exception": false,
     "start_time": "2025-07-30T20:07:43.626777",
     "status": "completed"
    },
    "tags": []
   },
   "outputs": [],
   "source": [
    "#universe[\"training_year\"]"
   ]
  },
  {
   "cell_type": "code",
   "execution_count": 17,
   "id": "aea9c6ef-6f46-42c8-85eb-5a62025c1508",
   "metadata": {
    "execution": {
     "iopub.execute_input": "2025-07-30T20:07:43.666840Z",
     "iopub.status.busy": "2025-07-30T20:07:43.666339Z",
     "iopub.status.idle": "2025-07-30T20:07:44.334861Z",
     "shell.execute_reply": "2025-07-30T20:07:44.333929Z"
    },
    "papermill": {
     "duration": 0.681661,
     "end_time": "2025-07-30T20:07:44.336667",
     "exception": false,
     "start_time": "2025-07-30T20:07:43.655006",
     "status": "completed"
    },
    "tags": []
   },
   "outputs": [],
   "source": [
    "siab_train = sample_by_year_size(siab,\n",
    "                               training_year=universe[\"training_year\"],\n",
    "                               training_size=universe[\"training_size\"])"
   ]
  },
  {
   "cell_type": "code",
   "execution_count": 18,
   "id": "8d3afb32-789d-442c-8d5d-9f5aa8dd2eed",
   "metadata": {
    "execution": {
     "iopub.execute_input": "2025-07-30T20:07:44.378092Z",
     "iopub.status.busy": "2025-07-30T20:07:44.377429Z",
     "iopub.status.idle": "2025-07-30T20:07:44.382399Z",
     "shell.execute_reply": "2025-07-30T20:07:44.381478Z"
    },
    "papermill": {
     "duration": 0.027183,
     "end_time": "2025-07-30T20:07:44.384177",
     "exception": false,
     "start_time": "2025-07-30T20:07:44.356994",
     "status": "completed"
    },
    "tags": []
   },
   "outputs": [],
   "source": [
    "#siab_train.shape"
   ]
  },
  {
   "cell_type": "code",
   "execution_count": 19,
   "id": "d582db68-1a4c-47fb-84fc-08518dc1975a",
   "metadata": {
    "execution": {
     "iopub.execute_input": "2025-07-30T20:07:44.428159Z",
     "iopub.status.busy": "2025-07-30T20:07:44.427506Z",
     "iopub.status.idle": "2025-07-30T20:07:44.432614Z",
     "shell.execute_reply": "2025-07-30T20:07:44.431550Z"
    },
    "papermill": {
     "duration": 0.027996,
     "end_time": "2025-07-30T20:07:44.434151",
     "exception": false,
     "start_time": "2025-07-30T20:07:44.406155",
     "status": "completed"
    },
    "tags": []
   },
   "outputs": [],
   "source": [
    "#display(siab_train.groupby(\"year\").size())"
   ]
  },
  {
   "cell_type": "code",
   "execution_count": 20,
   "id": "a561edb4-d032-42cb-8256-22eac1111c64",
   "metadata": {
    "execution": {
     "iopub.execute_input": "2025-07-30T20:07:44.478995Z",
     "iopub.status.busy": "2025-07-30T20:07:44.478368Z",
     "iopub.status.idle": "2025-07-30T20:07:44.720752Z",
     "shell.execute_reply": "2025-07-30T20:07:44.719711Z"
    },
    "papermill": {
     "duration": 0.26644,
     "end_time": "2025-07-30T20:07:44.722658",
     "exception": false,
     "start_time": "2025-07-30T20:07:44.456218",
     "status": "completed"
    },
    "tags": []
   },
   "outputs": [],
   "source": [
    "#siab_train = siab_s[siab_s.year < 2015]\n",
    "siab_calib = siab[siab.year == 2015]\n",
    "siab_test = siab[siab.year == 2016]"
   ]
  },
  {
   "cell_type": "code",
   "execution_count": 21,
   "id": "472de16f-c3db-4916-846b-1f0de9cf1746",
   "metadata": {
    "execution": {
     "iopub.execute_input": "2025-07-30T20:07:44.767461Z",
     "iopub.status.busy": "2025-07-30T20:07:44.766509Z",
     "iopub.status.idle": "2025-07-30T20:07:44.781465Z",
     "shell.execute_reply": "2025-07-30T20:07:44.780385Z"
    },
    "papermill": {
     "duration": 0.037826,
     "end_time": "2025-07-30T20:07:44.783378",
     "exception": false,
     "start_time": "2025-07-30T20:07:44.745552",
     "status": "completed"
    },
    "tags": []
   },
   "outputs": [],
   "source": [
    "X_train = siab_train.iloc[:,4:164]\n",
    "y_train = siab_train.iloc[:, [3]]"
   ]
  },
  {
   "cell_type": "code",
   "execution_count": 22,
   "id": "828c96af-f43a-4ed6-ba47-8ac73a47d56c",
   "metadata": {
    "execution": {
     "iopub.execute_input": "2025-07-30T20:07:44.827316Z",
     "iopub.status.busy": "2025-07-30T20:07:44.826515Z",
     "iopub.status.idle": "2025-07-30T20:07:44.883112Z",
     "shell.execute_reply": "2025-07-30T20:07:44.881978Z"
    },
    "papermill": {
     "duration": 0.080687,
     "end_time": "2025-07-30T20:07:44.885289",
     "exception": false,
     "start_time": "2025-07-30T20:07:44.804602",
     "status": "completed"
    },
    "tags": []
   },
   "outputs": [],
   "source": [
    "X_calib = siab_calib.iloc[:,4:164]\n",
    "y_calib = siab_calib.iloc[:, [3]]"
   ]
  },
  {
   "cell_type": "code",
   "execution_count": 23,
   "id": "c34be9c3-6bd6-476e-acd3-845840e303be",
   "metadata": {
    "execution": {
     "iopub.execute_input": "2025-07-30T20:07:44.931285Z",
     "iopub.status.busy": "2025-07-30T20:07:44.930790Z",
     "iopub.status.idle": "2025-07-30T20:07:44.987336Z",
     "shell.execute_reply": "2025-07-30T20:07:44.986455Z"
    },
    "papermill": {
     "duration": 0.081086,
     "end_time": "2025-07-30T20:07:44.989022",
     "exception": false,
     "start_time": "2025-07-30T20:07:44.907936",
     "status": "completed"
    },
    "tags": []
   },
   "outputs": [],
   "source": [
    "X_test = siab_test.iloc[:,4:164]\n",
    "y_true = siab_test.iloc[:, [3]]"
   ]
  },
  {
   "cell_type": "markdown",
   "id": "9901737e-04df-44f0-9100-f5ad144ed040",
   "metadata": {
    "papermill": {
     "duration": 0.019638,
     "end_time": "2025-07-30T20:07:45.030557",
     "exception": false,
     "start_time": "2025-07-30T20:07:45.010919",
     "status": "completed"
    },
    "tags": []
   },
   "source": [
    "# Splitting Data and Setting Training Data Size OLD VERSION"
   ]
  },
  {
   "cell_type": "code",
   "execution_count": 24,
   "id": "acbc8f7d-8fc8-4e86-8c59-5dcb0f58384b",
   "metadata": {
    "execution": {
     "iopub.execute_input": "2025-07-30T20:07:45.074130Z",
     "iopub.status.busy": "2025-07-30T20:07:45.073162Z",
     "iopub.status.idle": "2025-07-30T20:07:45.078684Z",
     "shell.execute_reply": "2025-07-30T20:07:45.077751Z"
    },
    "papermill": {
     "duration": 0.028926,
     "end_time": "2025-07-30T20:07:45.080314",
     "exception": false,
     "start_time": "2025-07-30T20:07:45.051388",
     "status": "completed"
    },
    "tags": []
   },
   "outputs": [],
   "source": [
    "#def sample_by_year(df, training_size, random_state=42):\n",
    "#    if training_size == \"2014\":\n",
    "#        return df[df[\"year\"] == 2014].reset_index(drop=True)\n",
    "#    \n",
    "#    size_map = {\n",
    "#        \"25k\": 5000,\n",
    "#        \"5k\": 1000,\n",
    "#        \"1k\": 200\n",
    "#    }\n",
    "#\n",
    "#    if training_size not in size_map:\n",
    "#        return df.reset_index(drop=True)  # use all data\n",
    "#\n",
    "#    n_per_year = size_map[training_size]\n",
    "#    grouped = df.groupby(\"year\")\n",
    "#    sampled = grouped.apply(lambda x: x.sample(n=min(n_per_year, len(x)), random_state=random_state))\n",
    "#    return sampled.reset_index(drop=True)"
   ]
  },
  {
   "cell_type": "code",
   "execution_count": 25,
   "id": "6d931f52-beaf-43ff-9e78-9d44a448d54e",
   "metadata": {
    "execution": {
     "iopub.execute_input": "2025-07-30T20:07:45.126074Z",
     "iopub.status.busy": "2025-07-30T20:07:45.125424Z",
     "iopub.status.idle": "2025-07-30T20:07:45.130569Z",
     "shell.execute_reply": "2025-07-30T20:07:45.129724Z"
    },
    "papermill": {
     "duration": 0.030274,
     "end_time": "2025-07-30T20:07:45.132169",
     "exception": false,
     "start_time": "2025-07-30T20:07:45.101895",
     "status": "completed"
    },
    "tags": []
   },
   "outputs": [],
   "source": [
    "#siab_s = sample_by_year(siab, universe[\"training_size\"])"
   ]
  },
  {
   "cell_type": "code",
   "execution_count": 26,
   "id": "5db0a40e-a4e2-4920-be85-b12ae061d70d",
   "metadata": {
    "execution": {
     "iopub.execute_input": "2025-07-30T20:07:45.174511Z",
     "iopub.status.busy": "2025-07-30T20:07:45.173875Z",
     "iopub.status.idle": "2025-07-30T20:07:45.179309Z",
     "shell.execute_reply": "2025-07-30T20:07:45.178286Z"
    },
    "papermill": {
     "duration": 0.028229,
     "end_time": "2025-07-30T20:07:45.180967",
     "exception": false,
     "start_time": "2025-07-30T20:07:45.152738",
     "status": "completed"
    },
    "tags": []
   },
   "outputs": [],
   "source": [
    "#display(siab_s.groupby(\"year\").size())"
   ]
  },
  {
   "cell_type": "code",
   "execution_count": 27,
   "id": "e6c733c5",
   "metadata": {
    "execution": {
     "iopub.execute_input": "2025-07-30T20:07:45.224638Z",
     "iopub.status.busy": "2025-07-30T20:07:45.223940Z",
     "iopub.status.idle": "2025-07-30T20:07:45.334948Z",
     "shell.execute_reply": "2025-07-30T20:07:45.333907Z"
    },
    "papermill": {
     "duration": 0.135162,
     "end_time": "2025-07-30T20:07:45.336923",
     "exception": false,
     "start_time": "2025-07-30T20:07:45.201761",
     "status": "completed"
    },
    "tags": []
   },
   "outputs": [],
   "source": [
    "# Auxiliary data needed downstream in the pipeline\n",
    "\n",
    "org_train = X_train.copy()\n",
    "org_test = X_test.copy()\n",
    "org_calib = X_calib.copy()"
   ]
  },
  {
   "cell_type": "code",
   "execution_count": 28,
   "id": "1466abac-c6da-4492-a62f-4240ae3783af",
   "metadata": {
    "execution": {
     "iopub.execute_input": "2025-07-30T20:07:45.381666Z",
     "iopub.status.busy": "2025-07-30T20:07:45.380808Z",
     "iopub.status.idle": "2025-07-30T20:07:45.386808Z",
     "shell.execute_reply": "2025-07-30T20:07:45.385817Z"
    },
    "papermill": {
     "duration": 0.029409,
     "end_time": "2025-07-30T20:07:45.388527",
     "exception": false,
     "start_time": "2025-07-30T20:07:45.359118",
     "status": "completed"
    },
    "tags": []
   },
   "outputs": [],
   "source": [
    "# put in other script?\n",
    "# Group sizes\n",
    "\n",
    "#def calculate_percentages(df, df_name):\n",
    "#    total_entries = len(df)\n",
    "#\n",
    "#    female_pct = (df['frau1'] == 1).mean() * 100\n",
    "#    non_german_pct = ((df['maxdeutsch1'] == 0) & (df['maxdeutsch.Missing.'] == 0)).mean() * 100\n",
    "#    non_german_male_pct = ((df['frau1'] == 0) & (df['maxdeutsch1'] == 0) & (df['maxdeutsch.Missing.'] == 0)).mean() * 100\n",
    "#    non_german_female_pct = ((df['frau1'] == 1) & (df['maxdeutsch1'] == 0) & (df['maxdeutsch.Missing.'] == 0)).mean() * 100\n",
    "#\n",
    "#    print(f\"--- {df_name} ---\")\n",
    "#    print(f\"Female: {female_pct:.2f}%\")\n",
    "#    print(f\"Non-German: {non_german_pct:.2f}%\")\n",
    "#    print(f\"Non-German Male: {non_german_male_pct:.2f}%\")\n",
    "#    print(f\"Non-German Female: {non_german_female_pct:.2f}%\\n\")\n",
    "#\n",
    "## Calculate for each DataFrame\n",
    "#calculate_percentages(siab_calib, \"siab_calib\")\n",
    "#calculate_percentages(siab_test, \"siab_test\")\n",
    "#calculate_percentages(siab_train, \"siab_train\")"
   ]
  },
  {
   "cell_type": "markdown",
   "id": "0a4a1b33",
   "metadata": {
    "papermill": {
     "duration": 0.021111,
     "end_time": "2025-07-30T20:07:45.432265",
     "exception": false,
     "start_time": "2025-07-30T20:07:45.411154",
     "status": "completed"
    },
    "tags": []
   },
   "source": [
    "# Preprocessing Data"
   ]
  },
  {
   "cell_type": "code",
   "execution_count": 29,
   "id": "ca879031",
   "metadata": {
    "execution": {
     "iopub.execute_input": "2025-07-30T20:07:45.477490Z",
     "iopub.status.busy": "2025-07-30T20:07:45.476844Z",
     "iopub.status.idle": "2025-07-30T20:07:45.483475Z",
     "shell.execute_reply": "2025-07-30T20:07:45.482589Z"
    },
    "papermill": {
     "duration": 0.031169,
     "end_time": "2025-07-30T20:07:45.485045",
     "exception": false,
     "start_time": "2025-07-30T20:07:45.453876",
     "status": "completed"
    },
    "tags": []
   },
   "outputs": [],
   "source": [
    "# EXCLUDE PROTECTED FEATURES\n",
    "# ----------------------\n",
    "# \"exclude_features\": \"none\", # \"nationality\", \"sex\", \"nationality-sex\"\n",
    "\n",
    "excluded_features = universe[\"exclude_features\"].split(\"-\") # split, e.g.: \"nationality-sex\" -> [\"nationality\", \"sex\"]\n",
    "excluded_features_dictionary = {\n",
    "    \"nationality\": [\"maxdeutsch1\", \"maxdeutsch.Missing.\"],\n",
    "    \"sex\": [\"frau1\"],\n",
    "    \"age\": [\"age\"],\n",
    "}\n"
   ]
  },
  {
   "cell_type": "code",
   "execution_count": 30,
   "id": "b745ac60",
   "metadata": {
    "execution": {
     "iopub.execute_input": "2025-07-30T20:07:45.528652Z",
     "iopub.status.busy": "2025-07-30T20:07:45.527977Z",
     "iopub.status.idle": "2025-07-30T20:07:45.533881Z",
     "shell.execute_reply": "2025-07-30T20:07:45.532797Z"
    },
    "papermill": {
     "duration": 0.029106,
     "end_time": "2025-07-30T20:07:45.535464",
     "exception": false,
     "start_time": "2025-07-30T20:07:45.506358",
     "status": "completed"
    },
    "tags": []
   },
   "outputs": [],
   "source": [
    "# Code nice names to column names\n",
    "\n",
    "excluded_features_columns = [\n",
    "    excluded_features_dictionary[f] for f in excluded_features if len(f) > 0 and f != \"none\"\n",
    "]"
   ]
  },
  {
   "cell_type": "code",
   "execution_count": 31,
   "id": "f84f73a2",
   "metadata": {
    "execution": {
     "iopub.execute_input": "2025-07-30T20:07:45.578823Z",
     "iopub.status.busy": "2025-07-30T20:07:45.578152Z",
     "iopub.status.idle": "2025-07-30T20:07:45.584850Z",
     "shell.execute_reply": "2025-07-30T20:07:45.583961Z"
    },
    "papermill": {
     "duration": 0.030119,
     "end_time": "2025-07-30T20:07:45.586329",
     "exception": false,
     "start_time": "2025-07-30T20:07:45.556210",
     "status": "completed"
    },
    "tags": []
   },
   "outputs": [],
   "source": [
    "from utils import flatten_once\n",
    "\n",
    "excluded_features_columns = flatten_once(excluded_features_columns)"
   ]
  },
  {
   "cell_type": "code",
   "execution_count": 32,
   "id": "884dea22",
   "metadata": {
    "execution": {
     "iopub.execute_input": "2025-07-30T20:07:45.629369Z",
     "iopub.status.busy": "2025-07-30T20:07:45.628710Z",
     "iopub.status.idle": "2025-07-30T20:07:45.635540Z",
     "shell.execute_reply": "2025-07-30T20:07:45.634551Z"
    },
    "papermill": {
     "duration": 0.030146,
     "end_time": "2025-07-30T20:07:45.637028",
     "exception": false,
     "start_time": "2025-07-30T20:07:45.606882",
     "status": "completed"
    },
    "tags": []
   },
   "outputs": [],
   "source": [
    "if len(excluded_features_columns) > 0:\n",
    "    print(f\"Dropping features: {excluded_features_columns}\")\n",
    "    X_train.drop(excluded_features_columns, axis=1, inplace=True)"
   ]
  },
  {
   "cell_type": "code",
   "execution_count": 33,
   "id": "95ab8b16",
   "metadata": {
    "execution": {
     "iopub.execute_input": "2025-07-30T20:07:45.680447Z",
     "iopub.status.busy": "2025-07-30T20:07:45.679805Z",
     "iopub.status.idle": "2025-07-30T20:07:45.685842Z",
     "shell.execute_reply": "2025-07-30T20:07:45.684939Z"
    },
    "papermill": {
     "duration": 0.02908,
     "end_time": "2025-07-30T20:07:45.687451",
     "exception": false,
     "start_time": "2025-07-30T20:07:45.658371",
     "status": "completed"
    },
    "tags": []
   },
   "outputs": [],
   "source": [
    "if len(excluded_features_columns) > 0:\n",
    "    print(f\"Dropping features: {excluded_features_columns}\")\n",
    "    X_test.drop(excluded_features_columns, axis=1, inplace=True)"
   ]
  },
  {
   "cell_type": "code",
   "execution_count": 34,
   "id": "1853aaf5-fb9f-46cb-a2b5-8ea4ae2237e4",
   "metadata": {
    "execution": {
     "iopub.execute_input": "2025-07-30T20:07:45.731896Z",
     "iopub.status.busy": "2025-07-30T20:07:45.731095Z",
     "iopub.status.idle": "2025-07-30T20:07:45.737428Z",
     "shell.execute_reply": "2025-07-30T20:07:45.736415Z"
    },
    "papermill": {
     "duration": 0.02992,
     "end_time": "2025-07-30T20:07:45.739116",
     "exception": false,
     "start_time": "2025-07-30T20:07:45.709196",
     "status": "completed"
    },
    "tags": []
   },
   "outputs": [],
   "source": [
    "if len(excluded_features_columns) > 0:\n",
    "    print(f\"Dropping features: {excluded_features_columns}\")\n",
    "    X_calib.drop(excluded_features_columns, axis=1, inplace=True)"
   ]
  },
  {
   "cell_type": "code",
   "execution_count": 35,
   "id": "6727d079-03e5-481e-9d38-292a90b7a0a8",
   "metadata": {
    "execution": {
     "iopub.execute_input": "2025-07-30T20:07:45.783171Z",
     "iopub.status.busy": "2025-07-30T20:07:45.782678Z",
     "iopub.status.idle": "2025-07-30T20:07:45.787712Z",
     "shell.execute_reply": "2025-07-30T20:07:45.786885Z"
    },
    "papermill": {
     "duration": 0.029116,
     "end_time": "2025-07-30T20:07:45.789304",
     "exception": false,
     "start_time": "2025-07-30T20:07:45.760188",
     "status": "completed"
    },
    "tags": []
   },
   "outputs": [],
   "source": [
    "# SPLIT & STRATIFY DATA\n",
    "# ----------------------"
   ]
  },
  {
   "cell_type": "code",
   "execution_count": 36,
   "id": "76c4dc6d",
   "metadata": {
    "execution": {
     "iopub.execute_input": "2025-07-30T20:07:45.834122Z",
     "iopub.status.busy": "2025-07-30T20:07:45.833256Z",
     "iopub.status.idle": "2025-07-30T20:07:45.839231Z",
     "shell.execute_reply": "2025-07-30T20:07:45.838166Z"
    },
    "papermill": {
     "duration": 0.030507,
     "end_time": "2025-07-30T20:07:45.841018",
     "exception": false,
     "start_time": "2025-07-30T20:07:45.810511",
     "status": "completed"
    },
    "tags": []
   },
   "outputs": [],
   "source": [
    "# EXCLUDE CERTAIN SUBGROUPS\n",
    "# ----------------------\n",
    "\n",
    "mode = universe.get(\"exclude_subgroups\", \"keep-all\") \n",
    "# Fetches the exclude_subgroups setting from the universe dict.\n",
    "# Defaults to \"keep-all\" if the key is missing."
   ]
  },
  {
   "cell_type": "code",
   "execution_count": 37,
   "id": "21994072",
   "metadata": {
    "execution": {
     "iopub.execute_input": "2025-07-30T20:07:45.884886Z",
     "iopub.status.busy": "2025-07-30T20:07:45.884246Z",
     "iopub.status.idle": "2025-07-30T20:07:45.891604Z",
     "shell.execute_reply": "2025-07-30T20:07:45.890786Z"
    },
    "papermill": {
     "duration": 0.030575,
     "end_time": "2025-07-30T20:07:45.893113",
     "exception": false,
     "start_time": "2025-07-30T20:07:45.862538",
     "status": "completed"
    },
    "tags": []
   },
   "outputs": [],
   "source": [
    "if mode == \"keep-all\":\n",
    "    keep_mask = pd.Series(True, index=org_train.index)\n",
    "\n",
    "# org_train contains the original feature columns from features_org (in Simson)\n",
    "# features_org contains unprocessed features, for me X_train at beginning ???\n",
    "# For keep-all, creates a boolean Series (keep_mask) of all True, so no rows are removed.\n",
    "\n",
    "elif mode == \"drop-non-german\":\n",
    "    keep_mask = org_train[\"maxdeutsch1\"] == 1 # ??? what about missing values?\n",
    "\n",
    "else:\n",
    "    raise ValueError(f\"Unsupported mode for exclude_subgroups: {mode}\")\n"
   ]
  },
  {
   "cell_type": "code",
   "execution_count": 38,
   "id": "71651440",
   "metadata": {
    "execution": {
     "iopub.execute_input": "2025-07-30T20:07:45.939587Z",
     "iopub.status.busy": "2025-07-30T20:07:45.938905Z",
     "iopub.status.idle": "2025-07-30T20:07:45.946717Z",
     "shell.execute_reply": "2025-07-30T20:07:45.945804Z"
    },
    "papermill": {
     "duration": 0.033397,
     "end_time": "2025-07-30T20:07:45.948506",
     "exception": false,
     "start_time": "2025-07-30T20:07:45.915109",
     "status": "completed"
    },
    "tags": []
   },
   "outputs": [
    {
     "name": "stdout",
     "output_type": "stream",
     "text": [
      "Dropping 3481 rows (13.92%) where mode='drop-non-german'\n"
     ]
    }
   ],
   "source": [
    "n_drop = (~keep_mask).sum() # Calculates how many rows are set to be dropped\n",
    "if n_drop > 0:\n",
    "    pct = n_drop / len(keep_mask) * 100\n",
    "    print(f\"Dropping {n_drop} rows ({pct:.2f}%) where mode='{mode}'\")"
   ]
  },
  {
   "cell_type": "code",
   "execution_count": 39,
   "id": "5fb8eee5",
   "metadata": {
    "execution": {
     "iopub.execute_input": "2025-07-30T20:07:45.993087Z",
     "iopub.status.busy": "2025-07-30T20:07:45.992257Z",
     "iopub.status.idle": "2025-07-30T20:07:46.006275Z",
     "shell.execute_reply": "2025-07-30T20:07:46.005375Z"
    },
    "papermill": {
     "duration": 0.037803,
     "end_time": "2025-07-30T20:07:46.008205",
     "exception": false,
     "start_time": "2025-07-30T20:07:45.970402",
     "status": "completed"
    },
    "tags": []
   },
   "outputs": [],
   "source": [
    "X_train = X_train[keep_mask]"
   ]
  },
  {
   "cell_type": "code",
   "execution_count": 40,
   "id": "b202bb3a",
   "metadata": {
    "execution": {
     "iopub.execute_input": "2025-07-30T20:07:46.052829Z",
     "iopub.status.busy": "2025-07-30T20:07:46.052198Z",
     "iopub.status.idle": "2025-07-30T20:07:46.059017Z",
     "shell.execute_reply": "2025-07-30T20:07:46.058040Z"
    },
    "papermill": {
     "duration": 0.030883,
     "end_time": "2025-07-30T20:07:46.060657",
     "exception": false,
     "start_time": "2025-07-30T20:07:46.029774",
     "status": "completed"
    },
    "tags": []
   },
   "outputs": [],
   "source": [
    "y_train = y_train[keep_mask]"
   ]
  },
  {
   "cell_type": "markdown",
   "id": "493e2ac3",
   "metadata": {
    "papermill": {
     "duration": 0.021154,
     "end_time": "2025-07-30T20:07:46.103135",
     "exception": false,
     "start_time": "2025-07-30T20:07:46.081981",
     "status": "completed"
    },
    "tags": []
   },
   "source": [
    "# Model Training"
   ]
  },
  {
   "cell_type": "code",
   "execution_count": 41,
   "id": "679e1268",
   "metadata": {
    "execution": {
     "iopub.execute_input": "2025-07-30T20:07:46.146936Z",
     "iopub.status.busy": "2025-07-30T20:07:46.146076Z",
     "iopub.status.idle": "2025-07-30T20:07:46.248733Z",
     "shell.execute_reply": "2025-07-30T20:07:46.247338Z"
    },
    "papermill": {
     "duration": 0.12695,
     "end_time": "2025-07-30T20:07:46.250607",
     "exception": false,
     "start_time": "2025-07-30T20:07:46.123657",
     "status": "completed"
    },
    "tags": []
   },
   "outputs": [],
   "source": [
    "from sklearn.linear_model import LogisticRegression\n",
    "from sklearn.ensemble import GradientBoostingClassifier, RandomForestClassifier\n",
    "\n",
    "if (universe[\"model\"] == \"logreg\"):\n",
    "    model = LogisticRegression() #penalty=\"none\") #, solver=\"newton-cg\", max_iter=1) # include random_state=19 ?\n",
    "elif (universe[\"model\"] == \"penalized_logreg\"):\n",
    "    model = LogisticRegression(penalty=\"l2\", C=1.0) #, solver=\"newton-cg\", max_iter=1)\n",
    "elif (universe[\"model\"] == \"rf\"):\n",
    "    model = RandomForestClassifier(n_estimators=100, n_jobs=-1)\n",
    "elif (universe[\"model\"] == \"gbm\"):\n",
    "    model = GradientBoostingClassifier()\n",
    "elif (universe[\"model\"] == \"elasticnet\"):\n",
    "    model = LogisticRegression(penalty = 'elasticnet', solver = 'saga', l1_ratio = 0.5, max_iter=5000) # which solver to use?\n",
    "else:\n",
    "    raise \"Unsupported universe.model\""
   ]
  },
  {
   "cell_type": "code",
   "execution_count": 42,
   "id": "0cc8f744",
   "metadata": {
    "execution": {
     "iopub.execute_input": "2025-07-30T20:07:46.299610Z",
     "iopub.status.busy": "2025-07-30T20:07:46.298817Z",
     "iopub.status.idle": "2025-07-30T20:07:46.306615Z",
     "shell.execute_reply": "2025-07-30T20:07:46.305442Z"
    },
    "papermill": {
     "duration": 0.034425,
     "end_time": "2025-07-30T20:07:46.308312",
     "exception": false,
     "start_time": "2025-07-30T20:07:46.273887",
     "status": "completed"
    },
    "tags": []
   },
   "outputs": [],
   "source": [
    "import numpy as np\n",
    "from sklearn.pipeline import Pipeline\n",
    "from sklearn.preprocessing import StandardScaler\n",
    "\n",
    "model = Pipeline([\n",
    "    #(\"continuous_processor\", continuous_processor),\n",
    "    #(\"categorical_preprocessor\", categorical_preprocessor),\n",
    "    (\"scale\", StandardScaler() if universe[\"scale\"] == \"scale\" else None), \n",
    "    (\"model\", model),\n",
    "])"
   ]
  },
  {
   "cell_type": "code",
   "execution_count": 43,
   "id": "9442c04d",
   "metadata": {
    "execution": {
     "iopub.execute_input": "2025-07-30T20:07:46.355841Z",
     "iopub.status.busy": "2025-07-30T20:07:46.355373Z",
     "iopub.status.idle": "2025-07-30T20:07:46.883703Z",
     "shell.execute_reply": "2025-07-30T20:07:46.882774Z"
    },
    "papermill": {
     "duration": 0.554233,
     "end_time": "2025-07-30T20:07:46.886398",
     "exception": false,
     "start_time": "2025-07-30T20:07:46.332165",
     "status": "completed"
    },
    "tags": []
   },
   "outputs": [
    {
     "name": "stderr",
     "output_type": "stream",
     "text": [
      "/dss/dsshome1/0C/ra93lal2/.local/share/virtualenvs/CMA_Fairness_v2-3j10GkSs/lib/python3.10/site-packages/sklearn/linear_model/_logistic.py:444: ConvergenceWarning: lbfgs failed to converge (status=1):\n",
      "STOP: TOTAL NO. of ITERATIONS REACHED LIMIT.\n",
      "\n",
      "Increase the number of iterations (max_iter) or scale the data as shown in:\n",
      "    https://scikit-learn.org/stable/modules/preprocessing.html\n",
      "Please also refer to the documentation for alternative solver options:\n",
      "    https://scikit-learn.org/stable/modules/linear_model.html#logistic-regression\n",
      "  n_iter_i = _check_optimize_result(\n"
     ]
    },
    {
     "data": {
      "text/html": [
       "<style>#sk-container-id-1 {color: black;background-color: white;}#sk-container-id-1 pre{padding: 0;}#sk-container-id-1 div.sk-toggleable {background-color: white;}#sk-container-id-1 label.sk-toggleable__label {cursor: pointer;display: block;width: 100%;margin-bottom: 0;padding: 0.3em;box-sizing: border-box;text-align: center;}#sk-container-id-1 label.sk-toggleable__label-arrow:before {content: \"▸\";float: left;margin-right: 0.25em;color: #696969;}#sk-container-id-1 label.sk-toggleable__label-arrow:hover:before {color: black;}#sk-container-id-1 div.sk-estimator:hover label.sk-toggleable__label-arrow:before {color: black;}#sk-container-id-1 div.sk-toggleable__content {max-height: 0;max-width: 0;overflow: hidden;text-align: left;background-color: #f0f8ff;}#sk-container-id-1 div.sk-toggleable__content pre {margin: 0.2em;color: black;border-radius: 0.25em;background-color: #f0f8ff;}#sk-container-id-1 input.sk-toggleable__control:checked~div.sk-toggleable__content {max-height: 200px;max-width: 100%;overflow: auto;}#sk-container-id-1 input.sk-toggleable__control:checked~label.sk-toggleable__label-arrow:before {content: \"▾\";}#sk-container-id-1 div.sk-estimator input.sk-toggleable__control:checked~label.sk-toggleable__label {background-color: #d4ebff;}#sk-container-id-1 div.sk-label input.sk-toggleable__control:checked~label.sk-toggleable__label {background-color: #d4ebff;}#sk-container-id-1 input.sk-hidden--visually {border: 0;clip: rect(1px 1px 1px 1px);clip: rect(1px, 1px, 1px, 1px);height: 1px;margin: -1px;overflow: hidden;padding: 0;position: absolute;width: 1px;}#sk-container-id-1 div.sk-estimator {font-family: monospace;background-color: #f0f8ff;border: 1px dotted black;border-radius: 0.25em;box-sizing: border-box;margin-bottom: 0.5em;}#sk-container-id-1 div.sk-estimator:hover {background-color: #d4ebff;}#sk-container-id-1 div.sk-parallel-item::after {content: \"\";width: 100%;border-bottom: 1px solid gray;flex-grow: 1;}#sk-container-id-1 div.sk-label:hover label.sk-toggleable__label {background-color: #d4ebff;}#sk-container-id-1 div.sk-serial::before {content: \"\";position: absolute;border-left: 1px solid gray;box-sizing: border-box;top: 0;bottom: 0;left: 50%;z-index: 0;}#sk-container-id-1 div.sk-serial {display: flex;flex-direction: column;align-items: center;background-color: white;padding-right: 0.2em;padding-left: 0.2em;position: relative;}#sk-container-id-1 div.sk-item {position: relative;z-index: 1;}#sk-container-id-1 div.sk-parallel {display: flex;align-items: stretch;justify-content: center;background-color: white;position: relative;}#sk-container-id-1 div.sk-item::before, #sk-container-id-1 div.sk-parallel-item::before {content: \"\";position: absolute;border-left: 1px solid gray;box-sizing: border-box;top: 0;bottom: 0;left: 50%;z-index: -1;}#sk-container-id-1 div.sk-parallel-item {display: flex;flex-direction: column;z-index: 1;position: relative;background-color: white;}#sk-container-id-1 div.sk-parallel-item:first-child::after {align-self: flex-end;width: 50%;}#sk-container-id-1 div.sk-parallel-item:last-child::after {align-self: flex-start;width: 50%;}#sk-container-id-1 div.sk-parallel-item:only-child::after {width: 0;}#sk-container-id-1 div.sk-dashed-wrapped {border: 1px dashed gray;margin: 0 0.4em 0.5em 0.4em;box-sizing: border-box;padding-bottom: 0.4em;background-color: white;}#sk-container-id-1 div.sk-label label {font-family: monospace;font-weight: bold;display: inline-block;line-height: 1.2em;}#sk-container-id-1 div.sk-label-container {text-align: center;}#sk-container-id-1 div.sk-container {/* jupyter's `normalize.less` sets `[hidden] { display: none; }` but bootstrap.min.css set `[hidden] { display: none !important; }` so we also need the `!important` here to be able to override the default hidden behavior on the sphinx rendered scikit-learn.org. See: https://github.com/scikit-learn/scikit-learn/issues/21755 */display: inline-block !important;position: relative;}#sk-container-id-1 div.sk-text-repr-fallback {display: none;}</style><div id=\"sk-container-id-1\" class=\"sk-top-container\"><div class=\"sk-text-repr-fallback\"><pre>Pipeline(steps=[(&#x27;scale&#x27;, StandardScaler()), (&#x27;model&#x27;, LogisticRegression())])</pre><b>In a Jupyter environment, please rerun this cell to show the HTML representation or trust the notebook. <br />On GitHub, the HTML representation is unable to render, please try loading this page with nbviewer.org.</b></div><div class=\"sk-container\" hidden><div class=\"sk-item sk-dashed-wrapped\"><div class=\"sk-label-container\"><div class=\"sk-label sk-toggleable\"><input class=\"sk-toggleable__control sk-hidden--visually\" id=\"sk-estimator-id-1\" type=\"checkbox\" ><label for=\"sk-estimator-id-1\" class=\"sk-toggleable__label sk-toggleable__label-arrow\">Pipeline</label><div class=\"sk-toggleable__content\"><pre>Pipeline(steps=[(&#x27;scale&#x27;, StandardScaler()), (&#x27;model&#x27;, LogisticRegression())])</pre></div></div></div><div class=\"sk-serial\"><div class=\"sk-item\"><div class=\"sk-estimator sk-toggleable\"><input class=\"sk-toggleable__control sk-hidden--visually\" id=\"sk-estimator-id-2\" type=\"checkbox\" ><label for=\"sk-estimator-id-2\" class=\"sk-toggleable__label sk-toggleable__label-arrow\">StandardScaler</label><div class=\"sk-toggleable__content\"><pre>StandardScaler()</pre></div></div></div><div class=\"sk-item\"><div class=\"sk-estimator sk-toggleable\"><input class=\"sk-toggleable__control sk-hidden--visually\" id=\"sk-estimator-id-3\" type=\"checkbox\" ><label for=\"sk-estimator-id-3\" class=\"sk-toggleable__label sk-toggleable__label-arrow\">LogisticRegression</label><div class=\"sk-toggleable__content\"><pre>LogisticRegression()</pre></div></div></div></div></div></div></div>"
      ],
      "text/plain": [
       "Pipeline(steps=[('scale', StandardScaler()), ('model', LogisticRegression())])"
      ]
     },
     "execution_count": 43,
     "metadata": {},
     "output_type": "execute_result"
    }
   ],
   "source": [
    "model.fit(X_train, y_train.values.ravel())"
   ]
  },
  {
   "cell_type": "code",
   "execution_count": 44,
   "id": "af59f8c0",
   "metadata": {
    "execution": {
     "iopub.execute_input": "2025-07-30T20:07:46.934922Z",
     "iopub.status.busy": "2025-07-30T20:07:46.934293Z",
     "iopub.status.idle": "2025-07-30T20:07:46.939551Z",
     "shell.execute_reply": "2025-07-30T20:07:46.938532Z"
    },
    "papermill": {
     "duration": 0.030641,
     "end_time": "2025-07-30T20:07:46.941216",
     "exception": false,
     "start_time": "2025-07-30T20:07:46.910575",
     "status": "completed"
    },
    "tags": []
   },
   "outputs": [],
   "source": [
    "from fairness_multiverse.universe import predict_w_threshold"
   ]
  },
  {
   "cell_type": "code",
   "execution_count": 45,
   "id": "a7cf2e16",
   "metadata": {
    "execution": {
     "iopub.execute_input": "2025-07-30T20:07:46.989941Z",
     "iopub.status.busy": "2025-07-30T20:07:46.989255Z",
     "iopub.status.idle": "2025-07-30T20:07:47.174726Z",
     "shell.execute_reply": "2025-07-30T20:07:47.173863Z"
    },
    "papermill": {
     "duration": 0.211541,
     "end_time": "2025-07-30T20:07:47.176357",
     "exception": false,
     "start_time": "2025-07-30T20:07:46.964816",
     "status": "completed"
    },
    "tags": []
   },
   "outputs": [
    {
     "data": {
      "text/plain": [
       "0.861598484004013"
      ]
     },
     "execution_count": 45,
     "metadata": {},
     "output_type": "execute_result"
    }
   ],
   "source": [
    "probs_test = model.predict_proba(X_test)\n",
    "\n",
    "'''\n",
    "Below code returns a boolean array (or binary 0/1 array depending on how it’s used) where each element \n",
    "is True if the probability of class 1 is greater than or equal to the threshold, and False otherwise.\n",
    "'''\n",
    "y_pred_default = predict_w_threshold(probs_test, 0.5)\n",
    "\n",
    "from sklearn.metrics import accuracy_score\n",
    "\n",
    "# Naive prediction\n",
    "accuracy_score(y_true = y_true, y_pred = y_pred_default)"
   ]
  },
  {
   "cell_type": "code",
   "execution_count": 46,
   "id": "081964c3",
   "metadata": {
    "execution": {
     "iopub.execute_input": "2025-07-30T20:07:47.225098Z",
     "iopub.status.busy": "2025-07-30T20:07:47.224447Z",
     "iopub.status.idle": "2025-07-30T20:07:47.401070Z",
     "shell.execute_reply": "2025-07-30T20:07:47.399918Z"
    },
    "papermill": {
     "duration": 0.203279,
     "end_time": "2025-07-30T20:07:47.402878",
     "exception": false,
     "start_time": "2025-07-30T20:07:47.199599",
     "status": "completed"
    },
    "tags": []
   },
   "outputs": [
    {
     "data": {
      "text/plain": [
       "array([0, 0, 0, ..., 0, 0, 0])"
      ]
     },
     "execution_count": 46,
     "metadata": {},
     "output_type": "execute_result"
    }
   ],
   "source": [
    "model.predict(X_test)"
   ]
  },
  {
   "cell_type": "markdown",
   "id": "56c9705b",
   "metadata": {
    "papermill": {
     "duration": 0.022665,
     "end_time": "2025-07-30T20:07:47.449713",
     "exception": false,
     "start_time": "2025-07-30T20:07:47.427048",
     "status": "completed"
    },
    "tags": []
   },
   "source": [
    "# Conformal Prediction"
   ]
  },
  {
   "cell_type": "code",
   "execution_count": 47,
   "id": "160ec6ff",
   "metadata": {
    "execution": {
     "iopub.execute_input": "2025-07-30T20:07:47.499472Z",
     "iopub.status.busy": "2025-07-30T20:07:47.498830Z",
     "iopub.status.idle": "2025-07-30T20:07:47.504397Z",
     "shell.execute_reply": "2025-07-30T20:07:47.503485Z"
    },
    "papermill": {
     "duration": 0.032434,
     "end_time": "2025-07-30T20:07:47.506023",
     "exception": false,
     "start_time": "2025-07-30T20:07:47.473589",
     "status": "completed"
    },
    "tags": []
   },
   "outputs": [],
   "source": [
    "# Miscoverage level for conformal prediction (10% allowed error rate => 90% target coverage)\n",
    "alpha = 0.1"
   ]
  },
  {
   "cell_type": "code",
   "execution_count": 48,
   "id": "eadf4555-3dd3-440e-8e35-f82a4ad9f855",
   "metadata": {
    "execution": {
     "iopub.execute_input": "2025-07-30T20:07:47.556766Z",
     "iopub.status.busy": "2025-07-30T20:07:47.555804Z",
     "iopub.status.idle": "2025-07-30T20:07:47.727761Z",
     "shell.execute_reply": "2025-07-30T20:07:47.726841Z"
    },
    "papermill": {
     "duration": 0.199003,
     "end_time": "2025-07-30T20:07:47.729704",
     "exception": false,
     "start_time": "2025-07-30T20:07:47.530701",
     "status": "completed"
    },
    "tags": []
   },
   "outputs": [],
   "source": [
    "probs_calib = model.predict_proba(X_calib)"
   ]
  },
  {
   "cell_type": "code",
   "execution_count": 49,
   "id": "2ed93547-6d5d-4983-9b36-1ecb300da49a",
   "metadata": {
    "execution": {
     "iopub.execute_input": "2025-07-30T20:07:47.778927Z",
     "iopub.status.busy": "2025-07-30T20:07:47.778281Z",
     "iopub.status.idle": "2025-07-30T20:07:47.784374Z",
     "shell.execute_reply": "2025-07-30T20:07:47.783418Z"
    },
    "papermill": {
     "duration": 0.03217,
     "end_time": "2025-07-30T20:07:47.785832",
     "exception": false,
     "start_time": "2025-07-30T20:07:47.753662",
     "status": "completed"
    },
    "tags": []
   },
   "outputs": [],
   "source": [
    "y_calib = y_calib.values.ravel().astype(int)"
   ]
  },
  {
   "cell_type": "code",
   "execution_count": 50,
   "id": "65d1320d-f588-4b38-9072-62af1ae97f7d",
   "metadata": {
    "execution": {
     "iopub.execute_input": "2025-07-30T20:07:47.835125Z",
     "iopub.status.busy": "2025-07-30T20:07:47.834455Z",
     "iopub.status.idle": "2025-07-30T20:07:47.842163Z",
     "shell.execute_reply": "2025-07-30T20:07:47.841212Z"
    },
    "papermill": {
     "duration": 0.033563,
     "end_time": "2025-07-30T20:07:47.843917",
     "exception": false,
     "start_time": "2025-07-30T20:07:47.810354",
     "status": "completed"
    },
    "tags": []
   },
   "outputs": [],
   "source": [
    "from fairness_multiverse.conformal import compute_nc_scores\n",
    "\n",
    "# Compute nonconformity scores on calibration set (1 - probability of true class)\n",
    "nc_scores = compute_nc_scores(probs_calib, y_calib)"
   ]
  },
  {
   "cell_type": "code",
   "execution_count": 51,
   "id": "df3b8ca3-53b7-43d5-9667-7c85da7aeda2",
   "metadata": {
    "execution": {
     "iopub.execute_input": "2025-07-30T20:07:47.895362Z",
     "iopub.status.busy": "2025-07-30T20:07:47.894693Z",
     "iopub.status.idle": "2025-07-30T20:07:47.901931Z",
     "shell.execute_reply": "2025-07-30T20:07:47.900945Z"
    },
    "papermill": {
     "duration": 0.034033,
     "end_time": "2025-07-30T20:07:47.903493",
     "exception": false,
     "start_time": "2025-07-30T20:07:47.869460",
     "status": "completed"
    },
    "tags": []
   },
   "outputs": [],
   "source": [
    "from fairness_multiverse.conformal import find_threshold\n",
    "\n",
    "# Find conformal threshold q_hat for the given alpha (split conformal method)\n",
    "q_hat = find_threshold(nc_scores, alpha)"
   ]
  },
  {
   "cell_type": "code",
   "execution_count": 52,
   "id": "4d29e6c1-0ef6-4aa4-b8fe-4fe79b0d033a",
   "metadata": {
    "execution": {
     "iopub.execute_input": "2025-07-30T20:07:47.953482Z",
     "iopub.status.busy": "2025-07-30T20:07:47.952830Z",
     "iopub.status.idle": "2025-07-30T20:07:47.960379Z",
     "shell.execute_reply": "2025-07-30T20:07:47.959380Z"
    },
    "papermill": {
     "duration": 0.033649,
     "end_time": "2025-07-30T20:07:47.961873",
     "exception": false,
     "start_time": "2025-07-30T20:07:47.928224",
     "status": "completed"
    },
    "tags": []
   },
   "outputs": [
    {
     "data": {
      "text/plain": [
       "0.6620884647597997"
      ]
     },
     "execution_count": 52,
     "metadata": {},
     "output_type": "execute_result"
    }
   ],
   "source": [
    "q_hat"
   ]
  },
  {
   "cell_type": "code",
   "execution_count": 53,
   "id": "92460794-cdac-4be2-ba28-f28c0515a6fb",
   "metadata": {
    "execution": {
     "iopub.execute_input": "2025-07-30T20:07:48.013164Z",
     "iopub.status.busy": "2025-07-30T20:07:48.012523Z",
     "iopub.status.idle": "2025-07-30T20:07:48.878604Z",
     "shell.execute_reply": "2025-07-30T20:07:48.877723Z"
    },
    "papermill": {
     "duration": 0.893262,
     "end_time": "2025-07-30T20:07:48.880445",
     "exception": false,
     "start_time": "2025-07-30T20:07:47.987183",
     "status": "completed"
    },
    "tags": []
   },
   "outputs": [],
   "source": [
    "from fairness_multiverse.conformal import predict_conformal_sets\n",
    "\n",
    "# Generate prediction sets for each test example\n",
    "pred_sets = predict_conformal_sets(model, X_test, q_hat)"
   ]
  },
  {
   "cell_type": "code",
   "execution_count": 54,
   "id": "d90c9a65-e6db-4f5d-80cd-e68fb7e46829",
   "metadata": {
    "execution": {
     "iopub.execute_input": "2025-07-30T20:07:48.929798Z",
     "iopub.status.busy": "2025-07-30T20:07:48.929133Z",
     "iopub.status.idle": "2025-07-30T20:07:48.934637Z",
     "shell.execute_reply": "2025-07-30T20:07:48.933670Z"
    },
    "papermill": {
     "duration": 0.032445,
     "end_time": "2025-07-30T20:07:48.936291",
     "exception": false,
     "start_time": "2025-07-30T20:07:48.903846",
     "status": "completed"
    },
    "tags": []
   },
   "outputs": [],
   "source": [
    "y_true = y_true.squeeze()"
   ]
  },
  {
   "cell_type": "code",
   "execution_count": 55,
   "id": "3a58a54a-1e68-46b9-927a-df01f18aebc8",
   "metadata": {
    "execution": {
     "iopub.execute_input": "2025-07-30T20:07:48.985614Z",
     "iopub.status.busy": "2025-07-30T20:07:48.984711Z",
     "iopub.status.idle": "2025-07-30T20:07:49.913923Z",
     "shell.execute_reply": "2025-07-30T20:07:49.912983Z"
    },
    "papermill": {
     "duration": 0.95627,
     "end_time": "2025-07-30T20:07:49.915710",
     "exception": false,
     "start_time": "2025-07-30T20:07:48.959440",
     "status": "completed"
    },
    "tags": []
   },
   "outputs": [],
   "source": [
    "from fairness_multiverse.conformal import evaluate_sets\n",
    "\n",
    "# Evaluate coverage and average set size on test data\n",
    "metrics = evaluate_sets(pred_sets, y_true)"
   ]
  },
  {
   "cell_type": "markdown",
   "id": "2b569c12-9aaa-4c88-98c9-bbcd0cf3ebb8",
   "metadata": {
    "papermill": {
     "duration": 0.022596,
     "end_time": "2025-07-30T20:07:49.962054",
     "exception": false,
     "start_time": "2025-07-30T20:07:49.939458",
     "status": "completed"
    },
    "tags": []
   },
   "source": [
    "# CP Metrics"
   ]
  },
  {
   "cell_type": "code",
   "execution_count": 56,
   "id": "5ce0a5cb-201f-45a0-ade5-94c7f0bd6095",
   "metadata": {
    "execution": {
     "iopub.execute_input": "2025-07-30T20:07:50.009179Z",
     "iopub.status.busy": "2025-07-30T20:07:50.008535Z",
     "iopub.status.idle": "2025-07-30T20:07:50.015984Z",
     "shell.execute_reply": "2025-07-30T20:07:50.015035Z"
    },
    "papermill": {
     "duration": 0.032343,
     "end_time": "2025-07-30T20:07:50.017596",
     "exception": false,
     "start_time": "2025-07-30T20:07:49.985253",
     "status": "completed"
    },
    "tags": []
   },
   "outputs": [
    {
     "data": {
      "text/plain": [
       "{'coverage': 0.9112362055512206, 'avg_size': 1.1249470516107458}"
      ]
     },
     "execution_count": 56,
     "metadata": {},
     "output_type": "execute_result"
    }
   ],
   "source": [
    "metrics"
   ]
  },
  {
   "cell_type": "code",
   "execution_count": 57,
   "id": "9b9a838d-31c9-430b-ae14-12baee460d17",
   "metadata": {
    "execution": {
     "iopub.execute_input": "2025-07-30T20:07:50.065708Z",
     "iopub.status.busy": "2025-07-30T20:07:50.064932Z",
     "iopub.status.idle": "2025-07-30T20:07:50.071648Z",
     "shell.execute_reply": "2025-07-30T20:07:50.070752Z"
    },
    "papermill": {
     "duration": 0.032463,
     "end_time": "2025-07-30T20:07:50.073248",
     "exception": false,
     "start_time": "2025-07-30T20:07:50.040785",
     "status": "completed"
    },
    "tags": []
   },
   "outputs": [],
   "source": [
    "example_universe = universe.copy()\n",
    "universe_training_year = example_universe.get(\"training_year\")\n",
    "universe_training_size = example_universe.get(\"training_size\")\n",
    "universe_scale = example_universe.get(\"scale\")\n",
    "universe_model = example_universe.get(\"model\")\n",
    "universe_exclude_features = example_universe.get(\"exclude_features\")\n",
    "universe_exclude_subgroups = example_universe.get(\"exclude_subgroups\")"
   ]
  },
  {
   "cell_type": "code",
   "execution_count": 58,
   "id": "f4b6a8ac-9dc0-4245-8a91-5b3b5999c4f9",
   "metadata": {
    "execution": {
     "iopub.execute_input": "2025-07-30T20:07:50.121783Z",
     "iopub.status.busy": "2025-07-30T20:07:50.121086Z",
     "iopub.status.idle": "2025-07-30T20:07:50.128262Z",
     "shell.execute_reply": "2025-07-30T20:07:50.127259Z"
    },
    "papermill": {
     "duration": 0.03344,
     "end_time": "2025-07-30T20:07:50.129962",
     "exception": false,
     "start_time": "2025-07-30T20:07:50.096522",
     "status": "completed"
    },
    "tags": []
   },
   "outputs": [],
   "source": [
    "cp_metrics_dict = {\n",
    "    \"universe_id\": [universe_id],\n",
    "    \"universe_training_year\": [universe_training_year],\n",
    "    \"universe_training_size\": [universe_training_size],\n",
    "    \"universe_scale\": [universe_scale],\n",
    "    \"universe_model\": [universe_model],\n",
    "    \"universe_exclude_features\": [universe_exclude_features],\n",
    "    \"universe_exclude_subgroups\": [universe_exclude_subgroups],\n",
    "    \"q_hat\": [q_hat],\n",
    "    \"coverage\": [metrics[\"coverage\"]],\n",
    "    \"avg_size\": [metrics[\"avg_size\"]],\n",
    "}"
   ]
  },
  {
   "cell_type": "code",
   "execution_count": 59,
   "id": "908acbb1-0371-4915-85ca-3fa520d2efe2",
   "metadata": {
    "execution": {
     "iopub.execute_input": "2025-07-30T20:07:50.178827Z",
     "iopub.status.busy": "2025-07-30T20:07:50.178183Z",
     "iopub.status.idle": "2025-07-30T20:07:50.185703Z",
     "shell.execute_reply": "2025-07-30T20:07:50.184848Z"
    },
    "papermill": {
     "duration": 0.032995,
     "end_time": "2025-07-30T20:07:50.187317",
     "exception": false,
     "start_time": "2025-07-30T20:07:50.154322",
     "status": "completed"
    },
    "tags": []
   },
   "outputs": [
    {
     "data": {
      "text/plain": [
       "{'universe_id': ['e495f514639e6a6fa9ca2d73e3c1ce08'],\n",
       " 'universe_training_year': ['2012_14'],\n",
       " 'universe_training_size': ['25k'],\n",
       " 'universe_scale': ['scale'],\n",
       " 'universe_model': ['logreg'],\n",
       " 'universe_exclude_features': ['none'],\n",
       " 'universe_exclude_subgroups': ['drop-non-german'],\n",
       " 'q_hat': [0.6620884647597997],\n",
       " 'coverage': [0.9112362055512206],\n",
       " 'avg_size': [1.1249470516107458]}"
      ]
     },
     "execution_count": 59,
     "metadata": {},
     "output_type": "execute_result"
    }
   ],
   "source": [
    "cp_metrics_dict"
   ]
  },
  {
   "cell_type": "code",
   "execution_count": 60,
   "id": "33007efc-14e9-4ec6-97ac-56a455c82265",
   "metadata": {
    "execution": {
     "iopub.execute_input": "2025-07-30T20:07:50.236630Z",
     "iopub.status.busy": "2025-07-30T20:07:50.235915Z",
     "iopub.status.idle": "2025-07-30T20:07:50.242892Z",
     "shell.execute_reply": "2025-07-30T20:07:50.241816Z"
    },
    "papermill": {
     "duration": 0.033397,
     "end_time": "2025-07-30T20:07:50.244655",
     "exception": false,
     "start_time": "2025-07-30T20:07:50.211258",
     "status": "completed"
    },
    "tags": []
   },
   "outputs": [],
   "source": [
    "cp_metrics_df = pd.DataFrame(cp_metrics_dict)"
   ]
  },
  {
   "cell_type": "code",
   "execution_count": 61,
   "id": "db12611b-57b2-4910-b9d0-355adfd6e7bf",
   "metadata": {
    "execution": {
     "iopub.execute_input": "2025-07-30T20:07:50.297346Z",
     "iopub.status.busy": "2025-07-30T20:07:50.296699Z",
     "iopub.status.idle": "2025-07-30T20:07:50.315330Z",
     "shell.execute_reply": "2025-07-30T20:07:50.314173Z"
    },
    "papermill": {
     "duration": 0.046072,
     "end_time": "2025-07-30T20:07:50.316984",
     "exception": false,
     "start_time": "2025-07-30T20:07:50.270912",
     "status": "completed"
    },
    "tags": []
   },
   "outputs": [
    {
     "data": {
      "text/html": [
       "<div>\n",
       "<style scoped>\n",
       "    .dataframe tbody tr th:only-of-type {\n",
       "        vertical-align: middle;\n",
       "    }\n",
       "\n",
       "    .dataframe tbody tr th {\n",
       "        vertical-align: top;\n",
       "    }\n",
       "\n",
       "    .dataframe thead th {\n",
       "        text-align: right;\n",
       "    }\n",
       "</style>\n",
       "<table border=\"1\" class=\"dataframe\">\n",
       "  <thead>\n",
       "    <tr style=\"text-align: right;\">\n",
       "      <th></th>\n",
       "      <th>universe_id</th>\n",
       "      <th>universe_training_year</th>\n",
       "      <th>universe_training_size</th>\n",
       "      <th>universe_scale</th>\n",
       "      <th>universe_model</th>\n",
       "      <th>universe_exclude_features</th>\n",
       "      <th>universe_exclude_subgroups</th>\n",
       "      <th>q_hat</th>\n",
       "      <th>coverage</th>\n",
       "      <th>avg_size</th>\n",
       "    </tr>\n",
       "  </thead>\n",
       "  <tbody>\n",
       "    <tr>\n",
       "      <th>0</th>\n",
       "      <td>e495f514639e6a6fa9ca2d73e3c1ce08</td>\n",
       "      <td>2012_14</td>\n",
       "      <td>25k</td>\n",
       "      <td>scale</td>\n",
       "      <td>logreg</td>\n",
       "      <td>none</td>\n",
       "      <td>drop-non-german</td>\n",
       "      <td>0.662088</td>\n",
       "      <td>0.911236</td>\n",
       "      <td>1.124947</td>\n",
       "    </tr>\n",
       "  </tbody>\n",
       "</table>\n",
       "</div>"
      ],
      "text/plain": [
       "                        universe_id universe_training_year  \\\n",
       "0  e495f514639e6a6fa9ca2d73e3c1ce08                2012_14   \n",
       "\n",
       "  universe_training_size universe_scale universe_model  \\\n",
       "0                    25k          scale         logreg   \n",
       "\n",
       "  universe_exclude_features universe_exclude_subgroups     q_hat  coverage  \\\n",
       "0                      none            drop-non-german  0.662088  0.911236   \n",
       "\n",
       "   avg_size  \n",
       "0  1.124947  "
      ]
     },
     "execution_count": 61,
     "metadata": {},
     "output_type": "execute_result"
    }
   ],
   "source": [
    "cp_metrics_df"
   ]
  },
  {
   "cell_type": "code",
   "execution_count": 62,
   "id": "b7fbde55-a0a1-47e4-9af6-fe4a17fa8c61",
   "metadata": {
    "execution": {
     "iopub.execute_input": "2025-07-30T20:07:50.367111Z",
     "iopub.status.busy": "2025-07-30T20:07:50.366410Z",
     "iopub.status.idle": "2025-07-30T20:07:50.372450Z",
     "shell.execute_reply": "2025-07-30T20:07:50.371444Z"
    },
    "papermill": {
     "duration": 0.033213,
     "end_time": "2025-07-30T20:07:50.374176",
     "exception": false,
     "start_time": "2025-07-30T20:07:50.340963",
     "status": "completed"
    },
    "tags": []
   },
   "outputs": [],
   "source": [
    "# Conditional Coverage & looking at subgroups"
   ]
  },
  {
   "cell_type": "code",
   "execution_count": 63,
   "id": "027ae886-68dd-4141-96c7-805a5450e1ef",
   "metadata": {
    "execution": {
     "iopub.execute_input": "2025-07-30T20:07:50.425626Z",
     "iopub.status.busy": "2025-07-30T20:07:50.425174Z",
     "iopub.status.idle": "2025-07-30T20:07:50.685600Z",
     "shell.execute_reply": "2025-07-30T20:07:50.684678Z"
    },
    "papermill": {
     "duration": 0.288273,
     "end_time": "2025-07-30T20:07:50.687522",
     "exception": false,
     "start_time": "2025-07-30T20:07:50.399249",
     "status": "completed"
    },
    "tags": []
   },
   "outputs": [],
   "source": [
    "from fairness_multiverse.conformal import build_cp_groups\n",
    "\n",
    "cp_groups_df = build_cp_groups(pred_sets, y_true, X_test.index, org_test)\n",
    "#needs universe_id and setting"
   ]
  },
  {
   "cell_type": "code",
   "execution_count": 64,
   "id": "01d5802c-663a-4d1f-9d69-e036faaffbf7",
   "metadata": {
    "execution": {
     "iopub.execute_input": "2025-07-30T20:07:50.737673Z",
     "iopub.status.busy": "2025-07-30T20:07:50.736990Z",
     "iopub.status.idle": "2025-07-30T20:07:50.742026Z",
     "shell.execute_reply": "2025-07-30T20:07:50.741203Z"
    },
    "papermill": {
     "duration": 0.031137,
     "end_time": "2025-07-30T20:07:50.743572",
     "exception": false,
     "start_time": "2025-07-30T20:07:50.712435",
     "status": "completed"
    },
    "tags": []
   },
   "outputs": [],
   "source": [
    "#delete\n",
    "#cp_groups_df"
   ]
  },
  {
   "cell_type": "code",
   "execution_count": 65,
   "id": "fa424af1-d1eb-443d-b717-2d279ada8408",
   "metadata": {
    "execution": {
     "iopub.execute_input": "2025-07-30T20:07:50.795772Z",
     "iopub.status.busy": "2025-07-30T20:07:50.794838Z",
     "iopub.status.idle": "2025-07-30T20:07:50.799735Z",
     "shell.execute_reply": "2025-07-30T20:07:50.798911Z"
    },
    "papermill": {
     "duration": 0.032384,
     "end_time": "2025-07-30T20:07:50.801164",
     "exception": false,
     "start_time": "2025-07-30T20:07:50.768780",
     "status": "completed"
    },
    "tags": []
   },
   "outputs": [],
   "source": [
    "#delete\n",
    "#percentage = (cp_groups_df['nongerman_female'] == 1).mean() * 100\n",
    "#print(percentage)\n"
   ]
  },
  {
   "cell_type": "code",
   "execution_count": 66,
   "id": "6cbdab96-b2b2-45af-ad54-d0516db2e28d",
   "metadata": {
    "execution": {
     "iopub.execute_input": "2025-07-30T20:07:50.852251Z",
     "iopub.status.busy": "2025-07-30T20:07:50.851412Z",
     "iopub.status.idle": "2025-07-30T20:07:52.976333Z",
     "shell.execute_reply": "2025-07-30T20:07:52.975604Z"
    },
    "papermill": {
     "duration": 2.152447,
     "end_time": "2025-07-30T20:07:52.977715",
     "exception": false,
     "start_time": "2025-07-30T20:07:50.825268",
     "status": "completed"
    },
    "tags": []
   },
   "outputs": [],
   "source": [
    "# Define covered = 1 if true_label is in the predicted set\n",
    "cp_groups_df['covered'] = cp_groups_df.apply(\n",
    "    lambda r: int(r['true_label'] in r['pred_set']),\n",
    "    axis=1\n",
    ")"
   ]
  },
  {
   "cell_type": "code",
   "execution_count": 67,
   "id": "338ff529-1a6b-4b87-a931-8e4788d52aad",
   "metadata": {
    "execution": {
     "iopub.execute_input": "2025-07-30T20:07:53.015054Z",
     "iopub.status.busy": "2025-07-30T20:07:53.014287Z",
     "iopub.status.idle": "2025-07-30T20:07:53.018722Z",
     "shell.execute_reply": "2025-07-30T20:07:53.017879Z"
    },
    "papermill": {
     "duration": 0.023683,
     "end_time": "2025-07-30T20:07:53.020128",
     "exception": false,
     "start_time": "2025-07-30T20:07:52.996445",
     "status": "completed"
    },
    "tags": []
   },
   "outputs": [],
   "source": [
    "#cp_groups_df"
   ]
  },
  {
   "cell_type": "code",
   "execution_count": 68,
   "id": "90032e27-66df-4540-9169-4e89cfbaa758",
   "metadata": {
    "execution": {
     "iopub.execute_input": "2025-07-30T20:07:53.051855Z",
     "iopub.status.busy": "2025-07-30T20:07:53.051550Z",
     "iopub.status.idle": "2025-07-30T20:07:53.060431Z",
     "shell.execute_reply": "2025-07-30T20:07:53.059709Z"
    },
    "papermill": {
     "duration": 0.02822,
     "end_time": "2025-07-30T20:07:53.061687",
     "exception": false,
     "start_time": "2025-07-30T20:07:53.033467",
     "status": "completed"
    },
    "tags": []
   },
   "outputs": [],
   "source": [
    "subgroups = ['frau1','nongerman','nongerman_male','nongerman_female']\n",
    "\n",
    "# Conditional coverage for subgroup==1\n",
    "cond_coverage = {\n",
    "    g: cp_groups_df.loc[cp_groups_df[g]==1, 'covered'].mean()\n",
    "    for g in subgroups\n",
    "}"
   ]
  },
  {
   "cell_type": "code",
   "execution_count": 69,
   "id": "1e348fb1-b9c3-45bc-ba23-f016827a7e0d",
   "metadata": {
    "execution": {
     "iopub.execute_input": "2025-07-30T20:07:53.093785Z",
     "iopub.status.busy": "2025-07-30T20:07:53.093346Z",
     "iopub.status.idle": "2025-07-30T20:07:53.100700Z",
     "shell.execute_reply": "2025-07-30T20:07:53.099745Z"
    },
    "papermill": {
     "duration": 0.02754,
     "end_time": "2025-07-30T20:07:53.102690",
     "exception": false,
     "start_time": "2025-07-30T20:07:53.075150",
     "status": "completed"
    },
    "tags": []
   },
   "outputs": [
    {
     "data": {
      "text/plain": [
       "{'frau1': 0.9083164847014422,\n",
       " 'nongerman': 0.9096165721663954,\n",
       " 'nongerman_male': 0.9265063496352337,\n",
       " 'nongerman_female': 0.8816691505216095}"
      ]
     },
     "execution_count": 69,
     "metadata": {},
     "output_type": "execute_result"
    }
   ],
   "source": [
    "cond_coverage"
   ]
  },
  {
   "cell_type": "code",
   "execution_count": 70,
   "id": "f5093324-c3dd-4d63-bc4c-8d945e5c8bbb",
   "metadata": {
    "execution": {
     "iopub.execute_input": "2025-07-30T20:07:53.138476Z",
     "iopub.status.busy": "2025-07-30T20:07:53.137821Z",
     "iopub.status.idle": "2025-07-30T20:07:53.144731Z",
     "shell.execute_reply": "2025-07-30T20:07:53.143719Z"
    },
    "papermill": {
     "duration": 0.02775,
     "end_time": "2025-07-30T20:07:53.146225",
     "exception": false,
     "start_time": "2025-07-30T20:07:53.118475",
     "status": "completed"
    },
    "tags": []
   },
   "outputs": [],
   "source": [
    "for subgroup, cov in cond_coverage.items():\n",
    "    cp_metrics_df[f\"cov_{subgroup}\"] = cov"
   ]
  },
  {
   "cell_type": "code",
   "execution_count": 71,
   "id": "6e872e10-dbe5-49e8-b554-5030c98ff75d",
   "metadata": {
    "execution": {
     "iopub.execute_input": "2025-07-30T20:07:53.185101Z",
     "iopub.status.busy": "2025-07-30T20:07:53.184745Z",
     "iopub.status.idle": "2025-07-30T20:07:53.198602Z",
     "shell.execute_reply": "2025-07-30T20:07:53.197714Z"
    },
    "papermill": {
     "duration": 0.02932,
     "end_time": "2025-07-30T20:07:53.200194",
     "exception": false,
     "start_time": "2025-07-30T20:07:53.170874",
     "status": "completed"
    },
    "tags": []
   },
   "outputs": [
    {
     "data": {
      "text/html": [
       "<div>\n",
       "<style scoped>\n",
       "    .dataframe tbody tr th:only-of-type {\n",
       "        vertical-align: middle;\n",
       "    }\n",
       "\n",
       "    .dataframe tbody tr th {\n",
       "        vertical-align: top;\n",
       "    }\n",
       "\n",
       "    .dataframe thead th {\n",
       "        text-align: right;\n",
       "    }\n",
       "</style>\n",
       "<table border=\"1\" class=\"dataframe\">\n",
       "  <thead>\n",
       "    <tr style=\"text-align: right;\">\n",
       "      <th></th>\n",
       "      <th>universe_id</th>\n",
       "      <th>universe_training_year</th>\n",
       "      <th>universe_training_size</th>\n",
       "      <th>universe_scale</th>\n",
       "      <th>universe_model</th>\n",
       "      <th>universe_exclude_features</th>\n",
       "      <th>universe_exclude_subgroups</th>\n",
       "      <th>q_hat</th>\n",
       "      <th>coverage</th>\n",
       "      <th>avg_size</th>\n",
       "      <th>cov_frau1</th>\n",
       "      <th>cov_nongerman</th>\n",
       "      <th>cov_nongerman_male</th>\n",
       "      <th>cov_nongerman_female</th>\n",
       "    </tr>\n",
       "  </thead>\n",
       "  <tbody>\n",
       "    <tr>\n",
       "      <th>0</th>\n",
       "      <td>e495f514639e6a6fa9ca2d73e3c1ce08</td>\n",
       "      <td>2012_14</td>\n",
       "      <td>25k</td>\n",
       "      <td>scale</td>\n",
       "      <td>logreg</td>\n",
       "      <td>none</td>\n",
       "      <td>drop-non-german</td>\n",
       "      <td>0.662088</td>\n",
       "      <td>0.911236</td>\n",
       "      <td>1.124947</td>\n",
       "      <td>0.908316</td>\n",
       "      <td>0.909617</td>\n",
       "      <td>0.926506</td>\n",
       "      <td>0.881669</td>\n",
       "    </tr>\n",
       "  </tbody>\n",
       "</table>\n",
       "</div>"
      ],
      "text/plain": [
       "                        universe_id universe_training_year  \\\n",
       "0  e495f514639e6a6fa9ca2d73e3c1ce08                2012_14   \n",
       "\n",
       "  universe_training_size universe_scale universe_model  \\\n",
       "0                    25k          scale         logreg   \n",
       "\n",
       "  universe_exclude_features universe_exclude_subgroups     q_hat  coverage  \\\n",
       "0                      none            drop-non-german  0.662088  0.911236   \n",
       "\n",
       "   avg_size  cov_frau1  cov_nongerman  cov_nongerman_male  \\\n",
       "0  1.124947   0.908316       0.909617            0.926506   \n",
       "\n",
       "   cov_nongerman_female  \n",
       "0              0.881669  "
      ]
     },
     "execution_count": 71,
     "metadata": {},
     "output_type": "execute_result"
    }
   ],
   "source": [
    "cp_metrics_df"
   ]
  },
  {
   "cell_type": "markdown",
   "id": "33774451",
   "metadata": {
    "papermill": {
     "duration": 0.028803,
     "end_time": "2025-07-30T20:07:53.251293",
     "exception": false,
     "start_time": "2025-07-30T20:07:53.222490",
     "status": "completed"
    },
    "tags": []
   },
   "source": [
    "# (Fairness) Metrics"
   ]
  },
  {
   "cell_type": "code",
   "execution_count": 72,
   "id": "debc5d62",
   "metadata": {
    "execution": {
     "iopub.execute_input": "2025-07-30T20:07:53.286819Z",
     "iopub.status.busy": "2025-07-30T20:07:53.286331Z",
     "iopub.status.idle": "2025-07-30T20:07:53.300964Z",
     "shell.execute_reply": "2025-07-30T20:07:53.300102Z"
    },
    "papermill": {
     "duration": 0.032108,
     "end_time": "2025-07-30T20:07:53.302711",
     "exception": false,
     "start_time": "2025-07-30T20:07:53.270603",
     "status": "completed"
    },
    "tags": []
   },
   "outputs": [],
   "source": [
    "# do I need to include maxdeutsch1.missing?\n",
    "\n",
    "import numpy as np\n",
    "\n",
    "colname_to_bin = \"maxdeutsch1\"\n",
    "majority_value = org_train[colname_to_bin].mode()[0]\n",
    "\n",
    "org_test[\"majmin\"] = np.where(org_test[colname_to_bin] == majority_value, \"majority\", \"minority\")"
   ]
  },
  {
   "cell_type": "code",
   "execution_count": 73,
   "id": "06a50de5",
   "metadata": {
    "execution": {
     "iopub.execute_input": "2025-07-30T20:07:53.354677Z",
     "iopub.status.busy": "2025-07-30T20:07:53.353775Z",
     "iopub.status.idle": "2025-07-30T20:07:56.017698Z",
     "shell.execute_reply": "2025-07-30T20:07:56.016774Z"
    },
    "papermill": {
     "duration": 2.691869,
     "end_time": "2025-07-30T20:07:56.019532",
     "exception": false,
     "start_time": "2025-07-30T20:07:53.327663",
     "status": "completed"
    },
    "tags": []
   },
   "outputs": [],
   "source": [
    "example_universe = universe.copy()\n",
    "example_universe[\"cutoff\"] = example_universe[\"cutoff\"][0]\n",
    "example_universe[\"eval_fairness_grouping\"] = example_universe[\"eval_fairness_grouping\"][0]\n",
    "fairness_dict, metric_frame = universe_analysis.compute_metrics(\n",
    "    example_universe,\n",
    "    y_pred_prob=probs_test,\n",
    "    y_test=y_true,\n",
    "    org_test=org_test,\n",
    ")"
   ]
  },
  {
   "cell_type": "markdown",
   "id": "f95d4e02",
   "metadata": {
    "papermill": {
     "duration": 0.026899,
     "end_time": "2025-07-30T20:07:56.073663",
     "exception": false,
     "start_time": "2025-07-30T20:07:56.046764",
     "status": "completed"
    },
    "tags": []
   },
   "source": [
    "# Overall"
   ]
  },
  {
   "cell_type": "markdown",
   "id": "bdee4871",
   "metadata": {
    "papermill": {
     "duration": 0.035904,
     "end_time": "2025-07-30T20:07:56.137213",
     "exception": false,
     "start_time": "2025-07-30T20:07:56.101309",
     "status": "completed"
    },
    "tags": []
   },
   "source": [
    "Fairness\n",
    "Main fairness target: Equalized Odds. Seems to be a better fit than equal opportunity, since we're not only interested in Y = 1. Seems to be a better fit than demographic parity, since we also care about accuracy, not just equal distribution of preds.\n",
    "\n",
    "Pick column for computation of fairness metrics\n",
    "\n",
    "Performance\n",
    "Overall performance measures, most interesting in relation to the measures split by group below"
   ]
  },
  {
   "cell_type": "code",
   "execution_count": 74,
   "id": "c4e067c6",
   "metadata": {
    "execution": {
     "iopub.execute_input": "2025-07-30T20:07:56.201034Z",
     "iopub.status.busy": "2025-07-30T20:07:56.200010Z",
     "iopub.status.idle": "2025-07-30T20:07:56.208644Z",
     "shell.execute_reply": "2025-07-30T20:07:56.207663Z"
    },
    "papermill": {
     "duration": 0.04346,
     "end_time": "2025-07-30T20:07:56.211019",
     "exception": false,
     "start_time": "2025-07-30T20:07:56.167559",
     "status": "completed"
    },
    "tags": []
   },
   "outputs": [
    {
     "data": {
      "text/plain": [
       "accuracy                   0.225315\n",
       "balanced accuracy          0.550729\n",
       "f1                         0.246620\n",
       "precision                  0.140886\n",
       "false positive rate        0.886985\n",
       "false negative rate        0.011557\n",
       "selection rate             0.900000\n",
       "count                  89710.000000\n",
       "dtype: float64"
      ]
     },
     "execution_count": 74,
     "metadata": {},
     "output_type": "execute_result"
    }
   ],
   "source": [
    "metric_frame.overall"
   ]
  },
  {
   "cell_type": "markdown",
   "id": "e968fe9d",
   "metadata": {
    "papermill": {
     "duration": 0.031076,
     "end_time": "2025-07-30T20:07:56.273268",
     "exception": false,
     "start_time": "2025-07-30T20:07:56.242192",
     "status": "completed"
    },
    "tags": []
   },
   "source": [
    "By Group"
   ]
  },
  {
   "cell_type": "code",
   "execution_count": 75,
   "id": "ec325bce",
   "metadata": {
    "execution": {
     "iopub.execute_input": "2025-07-30T20:07:56.337231Z",
     "iopub.status.busy": "2025-07-30T20:07:56.336735Z",
     "iopub.status.idle": "2025-07-30T20:07:56.353767Z",
     "shell.execute_reply": "2025-07-30T20:07:56.352774Z"
    },
    "papermill": {
     "duration": 0.051346,
     "end_time": "2025-07-30T20:07:56.355660",
     "exception": false,
     "start_time": "2025-07-30T20:07:56.304314",
     "status": "completed"
    },
    "tags": []
   },
   "outputs": [
    {
     "data": {
      "text/html": [
       "<div>\n",
       "<style scoped>\n",
       "    .dataframe tbody tr th:only-of-type {\n",
       "        vertical-align: middle;\n",
       "    }\n",
       "\n",
       "    .dataframe tbody tr th {\n",
       "        vertical-align: top;\n",
       "    }\n",
       "\n",
       "    .dataframe thead th {\n",
       "        text-align: right;\n",
       "    }\n",
       "</style>\n",
       "<table border=\"1\" class=\"dataframe\">\n",
       "  <thead>\n",
       "    <tr style=\"text-align: right;\">\n",
       "      <th></th>\n",
       "      <th>accuracy</th>\n",
       "      <th>balanced accuracy</th>\n",
       "      <th>f1</th>\n",
       "      <th>precision</th>\n",
       "      <th>false positive rate</th>\n",
       "      <th>false negative rate</th>\n",
       "      <th>selection rate</th>\n",
       "      <th>count</th>\n",
       "    </tr>\n",
       "    <tr>\n",
       "      <th>majmin</th>\n",
       "      <th></th>\n",
       "      <th></th>\n",
       "      <th></th>\n",
       "      <th></th>\n",
       "      <th></th>\n",
       "      <th></th>\n",
       "      <th></th>\n",
       "      <th></th>\n",
       "    </tr>\n",
       "  </thead>\n",
       "  <tbody>\n",
       "    <tr>\n",
       "      <th>majority</th>\n",
       "      <td>0.246465</td>\n",
       "      <td>0.56058</td>\n",
       "      <td>0.257246</td>\n",
       "      <td>0.147885</td>\n",
       "      <td>0.866367</td>\n",
       "      <td>0.012473</td>\n",
       "      <td>0.882377</td>\n",
       "      <td>69170.0</td>\n",
       "    </tr>\n",
       "    <tr>\n",
       "      <th>minority</th>\n",
       "      <td>0.154090</td>\n",
       "      <td>0.51844</td>\n",
       "      <td>0.212839</td>\n",
       "      <td>0.119208</td>\n",
       "      <td>0.955096</td>\n",
       "      <td>0.008024</td>\n",
       "      <td>0.959348</td>\n",
       "      <td>20540.0</td>\n",
       "    </tr>\n",
       "  </tbody>\n",
       "</table>\n",
       "</div>"
      ],
      "text/plain": [
       "          accuracy  balanced accuracy        f1  precision  \\\n",
       "majmin                                                       \n",
       "majority  0.246465            0.56058  0.257246   0.147885   \n",
       "minority  0.154090            0.51844  0.212839   0.119208   \n",
       "\n",
       "          false positive rate  false negative rate  selection rate    count  \n",
       "majmin                                                                       \n",
       "majority             0.866367             0.012473        0.882377  69170.0  \n",
       "minority             0.955096             0.008024        0.959348  20540.0  "
      ]
     },
     "execution_count": 75,
     "metadata": {},
     "output_type": "execute_result"
    }
   ],
   "source": [
    "metric_frame.by_group"
   ]
  },
  {
   "cell_type": "code",
   "execution_count": 76,
   "id": "a9ddbe63",
   "metadata": {
    "execution": {
     "iopub.execute_input": "2025-07-30T20:07:56.420367Z",
     "iopub.status.busy": "2025-07-30T20:07:56.419605Z",
     "iopub.status.idle": "2025-07-30T20:07:58.573801Z",
     "shell.execute_reply": "2025-07-30T20:07:58.572926Z"
    },
    "papermill": {
     "duration": 2.188428,
     "end_time": "2025-07-30T20:07:58.575509",
     "exception": false,
     "start_time": "2025-07-30T20:07:56.387081",
     "status": "completed"
    },
    "tags": []
   },
   "outputs": [
    {
     "data": {
      "text/plain": [
       "array([[<Axes: title={'center': 'accuracy'}, xlabel='majmin'>,\n",
       "        <Axes: title={'center': 'balanced accuracy'}, xlabel='majmin'>,\n",
       "        <Axes: title={'center': 'f1'}, xlabel='majmin'>],\n",
       "       [<Axes: title={'center': 'precision'}, xlabel='majmin'>,\n",
       "        <Axes: title={'center': 'false positive rate'}, xlabel='majmin'>,\n",
       "        <Axes: title={'center': 'false negative rate'}, xlabel='majmin'>],\n",
       "       [<Axes: title={'center': 'selection rate'}, xlabel='majmin'>,\n",
       "        <Axes: title={'center': 'count'}, xlabel='majmin'>,\n",
       "        <Axes: xlabel='majmin'>]], dtype=object)"
      ]
     },
     "execution_count": 76,
     "metadata": {},
     "output_type": "execute_result"
    },
    {
     "data": {
      "image/png": "[encoded data removed]",
      "text/plain": [
       "<Figure size 1200x800 with 9 Axes>"
      ]
     },
     "metadata": {},
     "output_type": "display_data"
    }
   ],
   "source": [
    "# In a graphic\n",
    "metric_frame.by_group.plot.bar(\n",
    "    subplots=True,\n",
    "    layout=[3, 3],\n",
    "    legend=False,\n",
    "    figsize=[12, 8],\n",
    "    title=\"Show all metrics\",\n",
    ")"
   ]
  },
  {
   "cell_type": "markdown",
   "id": "f57a0bac",
   "metadata": {
    "papermill": {
     "duration": 0.025954,
     "end_time": "2025-07-30T20:07:58.631071",
     "exception": false,
     "start_time": "2025-07-30T20:07:58.605117",
     "status": "completed"
    },
    "tags": []
   },
   "source": [
    "# Final Output"
   ]
  },
  {
   "cell_type": "code",
   "execution_count": 77,
   "id": "96d280a3",
   "metadata": {
    "execution": {
     "iopub.execute_input": "2025-07-30T20:07:58.684565Z",
     "iopub.status.busy": "2025-07-30T20:07:58.683877Z",
     "iopub.status.idle": "2025-07-30T20:07:58.691787Z",
     "shell.execute_reply": "2025-07-30T20:07:58.690888Z"
    },
    "papermill": {
     "duration": 0.036397,
     "end_time": "2025-07-30T20:07:58.693337",
     "exception": false,
     "start_time": "2025-07-30T20:07:58.656940",
     "status": "completed"
    },
    "tags": []
   },
   "outputs": [
    {
     "data": {
      "text/plain": [
       "4"
      ]
     },
     "execution_count": 77,
     "metadata": {},
     "output_type": "execute_result"
    }
   ],
   "source": [
    "sub_universes = universe_analysis.generate_sub_universes()\n",
    "len(sub_universes)"
   ]
  },
  {
   "cell_type": "code",
   "execution_count": 78,
   "id": "92adf7ba",
   "metadata": {
    "execution": {
     "iopub.execute_input": "2025-07-30T20:07:58.748103Z",
     "iopub.status.busy": "2025-07-30T20:07:58.747603Z",
     "iopub.status.idle": "2025-07-30T20:07:58.754296Z",
     "shell.execute_reply": "2025-07-30T20:07:58.753279Z"
    },
    "papermill": {
     "duration": 0.036009,
     "end_time": "2025-07-30T20:07:58.755910",
     "exception": false,
     "start_time": "2025-07-30T20:07:58.719901",
     "status": "completed"
    },
    "tags": []
   },
   "outputs": [],
   "source": [
    "def filter_sub_universe_data(sub_universe, org_test):\n",
    "    # Keep all rows — no filtering\n",
    "    keep_rows_mask = np.ones(org_test.shape[0], dtype=bool)\n",
    "\n",
    "    print(f\"[INFO] Keeping all rows: {keep_rows_mask.sum()} rows retained.\")\n",
    "    return keep_rows_mask"
   ]
  },
  {
   "cell_type": "code",
   "execution_count": 79,
   "id": "4a759155",
   "metadata": {
    "execution": {
     "iopub.execute_input": "2025-07-30T20:07:58.817614Z",
     "iopub.status.busy": "2025-07-30T20:07:58.817152Z",
     "iopub.status.idle": "2025-07-30T20:08:09.444007Z",
     "shell.execute_reply": "2025-07-30T20:08:09.442391Z"
    },
    "papermill": {
     "duration": 10.660309,
     "end_time": "2025-07-30T20:08:09.445493",
     "exception": false,
     "start_time": "2025-07-30T20:07:58.785184",
     "status": "completed"
    },
    "tags": []
   },
   "outputs": [
    {
     "name": "stdout",
     "output_type": "stream",
     "text": [
      "Stopping execution_time clock.\n",
      "[INFO] Keeping all rows: 89710 rows retained.\n"
     ]
    },
    {
     "name": "stdout",
     "output_type": "stream",
     "text": [
      "[INFO] Keeping all rows: 89710 rows retained.\n"
     ]
    },
    {
     "name": "stdout",
     "output_type": "stream",
     "text": [
      "[INFO] Keeping all rows: 89710 rows retained.\n"
     ]
    },
    {
     "name": "stdout",
     "output_type": "stream",
     "text": [
      "[INFO] Keeping all rows: 89710 rows retained.\n"
     ]
    },
    {
     "data": {
      "text/html": [
       "<div>\n",
       "<style scoped>\n",
       "    .dataframe tbody tr th:only-of-type {\n",
       "        vertical-align: middle;\n",
       "    }\n",
       "\n",
       "    .dataframe tbody tr th {\n",
       "        vertical-align: top;\n",
       "    }\n",
       "\n",
       "    .dataframe thead th {\n",
       "        text-align: right;\n",
       "    }\n",
       "</style>\n",
       "<table border=\"1\" class=\"dataframe\">\n",
       "  <thead>\n",
       "    <tr style=\"text-align: right;\">\n",
       "      <th></th>\n",
       "      <th>run_no</th>\n",
       "      <th>universe_id</th>\n",
       "      <th>universe_settings</th>\n",
       "      <th>execution_time</th>\n",
       "      <th>test_size_n</th>\n",
       "      <th>test_size_frac</th>\n",
       "      <th>fair_main_equalized_odds_difference</th>\n",
       "      <th>fair_main_equalized_odds_ratio</th>\n",
       "      <th>fair_main_demographic_parity_difference</th>\n",
       "      <th>fair_main_demographic_parity_ratio</th>\n",
       "      <th>...</th>\n",
       "      <th>perf_grp_precision_0</th>\n",
       "      <th>perf_grp_precision_1</th>\n",
       "      <th>perf_grp_false positive rate_0</th>\n",
       "      <th>perf_grp_false positive rate_1</th>\n",
       "      <th>perf_grp_false negative rate_0</th>\n",
       "      <th>perf_grp_false negative rate_1</th>\n",
       "      <th>perf_grp_selection rate_0</th>\n",
       "      <th>perf_grp_selection rate_1</th>\n",
       "      <th>perf_grp_count_0</th>\n",
       "      <th>perf_grp_count_1</th>\n",
       "    </tr>\n",
       "  </thead>\n",
       "  <tbody>\n",
       "    <tr>\n",
       "      <th>0</th>\n",
       "      <td>14</td>\n",
       "      <td>e495f514639e6a6fa9ca2d73e3c1ce08</td>\n",
       "      <td>{\"cutoff\": \"quantile_0.1\", \"eval_fairness_grou...</td>\n",
       "      <td>26.253743</td>\n",
       "      <td>89710</td>\n",
       "      <td>1.0</td>\n",
       "      <td>0.088729</td>\n",
       "      <td>0.907099</td>\n",
       "      <td>0.076971</td>\n",
       "      <td>0.919767</td>\n",
       "      <td>...</td>\n",
       "      <td>NaN</td>\n",
       "      <td>NaN</td>\n",
       "      <td>NaN</td>\n",
       "      <td>NaN</td>\n",
       "      <td>NaN</td>\n",
       "      <td>NaN</td>\n",
       "      <td>NaN</td>\n",
       "      <td>NaN</td>\n",
       "      <td>NaN</td>\n",
       "      <td>NaN</td>\n",
       "    </tr>\n",
       "    <tr>\n",
       "      <th>0</th>\n",
       "      <td>14</td>\n",
       "      <td>e495f514639e6a6fa9ca2d73e3c1ce08</td>\n",
       "      <td>{\"cutoff\": \"quantile_0.1\", \"eval_fairness_grou...</td>\n",
       "      <td>26.253743</td>\n",
       "      <td>89710</td>\n",
       "      <td>1.0</td>\n",
       "      <td>0.088729</td>\n",
       "      <td>0.907099</td>\n",
       "      <td>0.076971</td>\n",
       "      <td>0.919767</td>\n",
       "      <td>...</td>\n",
       "      <td>0.119208</td>\n",
       "      <td>0.147885</td>\n",
       "      <td>0.955096</td>\n",
       "      <td>0.866367</td>\n",
       "      <td>0.008024</td>\n",
       "      <td>0.012473</td>\n",
       "      <td>0.959348</td>\n",
       "      <td>0.882377</td>\n",
       "      <td>20540.0</td>\n",
       "      <td>69170.0</td>\n",
       "    </tr>\n",
       "    <tr>\n",
       "      <th>0</th>\n",
       "      <td>14</td>\n",
       "      <td>e495f514639e6a6fa9ca2d73e3c1ce08</td>\n",
       "      <td>{\"cutoff\": \"quantile_0.25\", \"eval_fairness_gro...</td>\n",
       "      <td>26.253743</td>\n",
       "      <td>89710</td>\n",
       "      <td>1.0</td>\n",
       "      <td>0.107063</td>\n",
       "      <td>0.866679</td>\n",
       "      <td>0.088154</td>\n",
       "      <td>0.892227</td>\n",
       "      <td>...</td>\n",
       "      <td>NaN</td>\n",
       "      <td>NaN</td>\n",
       "      <td>NaN</td>\n",
       "      <td>NaN</td>\n",
       "      <td>NaN</td>\n",
       "      <td>NaN</td>\n",
       "      <td>NaN</td>\n",
       "      <td>NaN</td>\n",
       "      <td>NaN</td>\n",
       "      <td>NaN</td>\n",
       "    </tr>\n",
       "    <tr>\n",
       "      <th>0</th>\n",
       "      <td>14</td>\n",
       "      <td>e495f514639e6a6fa9ca2d73e3c1ce08</td>\n",
       "      <td>{\"cutoff\": \"quantile_0.25\", \"eval_fairness_gro...</td>\n",
       "      <td>26.253743</td>\n",
       "      <td>89710</td>\n",
       "      <td>1.0</td>\n",
       "      <td>0.107063</td>\n",
       "      <td>0.866679</td>\n",
       "      <td>0.088154</td>\n",
       "      <td>0.892227</td>\n",
       "      <td>...</td>\n",
       "      <td>0.131421</td>\n",
       "      <td>0.172362</td>\n",
       "      <td>0.803049</td>\n",
       "      <td>0.695985</td>\n",
       "      <td>0.067568</td>\n",
       "      <td>0.048031</td>\n",
       "      <td>0.817965</td>\n",
       "      <td>0.729811</td>\n",
       "      <td>20540.0</td>\n",
       "      <td>69170.0</td>\n",
       "    </tr>\n",
       "  </tbody>\n",
       "</table>\n",
       "<p>4 rows × 50 columns</p>\n",
       "</div>"
      ],
      "text/plain": [
       "  run_no                       universe_id  \\\n",
       "0     14  e495f514639e6a6fa9ca2d73e3c1ce08   \n",
       "0     14  e495f514639e6a6fa9ca2d73e3c1ce08   \n",
       "0     14  e495f514639e6a6fa9ca2d73e3c1ce08   \n",
       "0     14  e495f514639e6a6fa9ca2d73e3c1ce08   \n",
       "\n",
       "                                   universe_settings  execution_time  \\\n",
       "0  {\"cutoff\": \"quantile_0.1\", \"eval_fairness_grou...       26.253743   \n",
       "0  {\"cutoff\": \"quantile_0.1\", \"eval_fairness_grou...       26.253743   \n",
       "0  {\"cutoff\": \"quantile_0.25\", \"eval_fairness_gro...       26.253743   \n",
       "0  {\"cutoff\": \"quantile_0.25\", \"eval_fairness_gro...       26.253743   \n",
       "\n",
       "   test_size_n  test_size_frac  fair_main_equalized_odds_difference  \\\n",
       "0        89710             1.0                             0.088729   \n",
       "0        89710             1.0                             0.088729   \n",
       "0        89710             1.0                             0.107063   \n",
       "0        89710             1.0                             0.107063   \n",
       "\n",
       "   fair_main_equalized_odds_ratio  fair_main_demographic_parity_difference  \\\n",
       "0                        0.907099                                 0.076971   \n",
       "0                        0.907099                                 0.076971   \n",
       "0                        0.866679                                 0.088154   \n",
       "0                        0.866679                                 0.088154   \n",
       "\n",
       "   fair_main_demographic_parity_ratio  ...  perf_grp_precision_0  \\\n",
       "0                            0.919767  ...                   NaN   \n",
       "0                            0.919767  ...              0.119208   \n",
       "0                            0.892227  ...                   NaN   \n",
       "0                            0.892227  ...              0.131421   \n",
       "\n",
       "   perf_grp_precision_1  perf_grp_false positive rate_0  \\\n",
       "0                   NaN                             NaN   \n",
       "0              0.147885                        0.955096   \n",
       "0                   NaN                             NaN   \n",
       "0              0.172362                        0.803049   \n",
       "\n",
       "   perf_grp_false positive rate_1  perf_grp_false negative rate_0  \\\n",
       "0                             NaN                             NaN   \n",
       "0                        0.866367                        0.008024   \n",
       "0                             NaN                             NaN   \n",
       "0                        0.695985                        0.067568   \n",
       "\n",
       "   perf_grp_false negative rate_1  perf_grp_selection rate_0  \\\n",
       "0                             NaN                        NaN   \n",
       "0                        0.012473                   0.959348   \n",
       "0                             NaN                        NaN   \n",
       "0                        0.048031                   0.817965   \n",
       "\n",
       "   perf_grp_selection rate_1  perf_grp_count_0  perf_grp_count_1  \n",
       "0                        NaN               NaN               NaN  \n",
       "0                   0.882377           20540.0           69170.0  \n",
       "0                        NaN               NaN               NaN  \n",
       "0                   0.729811           20540.0           69170.0  \n",
       "\n",
       "[4 rows x 50 columns]"
      ]
     },
     "execution_count": 79,
     "metadata": {},
     "output_type": "execute_result"
    }
   ],
   "source": [
    "final_output = universe_analysis.generate_final_output(\n",
    "    y_pred_prob=probs_test,\n",
    "    y_test=y_true,\n",
    "    org_test=org_test,\n",
    "    filter_data=filter_sub_universe_data,\n",
    "    cp_metrics_df=cp_metrics_df,\n",
    "    save=True,\n",
    ")\n",
    "final_output"
   ]
  },
  {
   "cell_type": "code",
   "execution_count": null,
   "id": "721ff514-cb11-46f8-b6fc-50392f74b5cb",
   "metadata": {
    "papermill": {
     "duration": 0.02835,
     "end_time": "2025-07-30T20:08:09.505311",
     "exception": false,
     "start_time": "2025-07-30T20:08:09.476961",
     "status": "completed"
    },
    "tags": []
   },
   "outputs": [],
   "source": []
  }
 ],
 "metadata": {
  "celltoolbar": "Tags",
  "kernelspec": {
   "display_name": "Python (CMA Fairness)",
   "language": "python",
   "name": "cma_fair_env"
  },
  "language_info": {
   "codemirror_mode": {
    "name": "ipython",
    "version": 3
   },
   "file_extension": ".py",
   "mimetype": "text/x-python",
   "name": "python",
   "nbconvert_exporter": "python",
   "pygments_lexer": "ipython3",
   "version": "3.10.12"
  },
  "papermill": {
   "default_parameters": {},
   "duration": 40.904734,
   "end_time": "2025-07-30T20:08:10.354246",
   "environment_variables": {},
   "exception": null,
   "input_path": "universe_analysis.ipynb",
   "output_path": "output/runs/14/notebooks/m_14-e495f514639e6a6fa9ca2d73e3c1ce08.ipynb",
   "parameters": {
    "output_dir": "output",
    "run_no": "14",
    "seed": "2023",
    "universe": "{\"cutoff\": [\"quantile_0.1\", \"quantile_0.25\"], \"eval_fairness_grouping\": [\"majority-minority\", \"nationality-all\"], \"exclude_features\": \"none\", \"exclude_subgroups\": \"drop-non-german\", \"model\": \"logreg\", \"scale\": \"scale\", \"training_size\": \"25k\", \"training_year\": \"2012_14\"}",
    "universe_id": "e495f514639e6a6fa9ca2d73e3c1ce08"
   },
   "start_time": "2025-07-30T20:07:29.449512",
   "version": "2.6.0"
  }
 },
 "nbformat": 4,
 "nbformat_minor": 5
}