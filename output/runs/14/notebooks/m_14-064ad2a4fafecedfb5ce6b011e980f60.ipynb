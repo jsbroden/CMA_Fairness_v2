{
 "cells": [
  {
   "cell_type": "code",
   "execution_count": 1,
   "id": "f159f837-637b-42ba-96b5-ec9a68c44524",
   "metadata": {
    "execution": {
     "iopub.execute_input": "2025-07-30T21:14:48.775824Z",
     "iopub.status.busy": "2025-07-30T21:14:48.774985Z",
     "iopub.status.idle": "2025-07-30T21:14:48.787538Z",
     "shell.execute_reply": "2025-07-30T21:14:48.786674Z"
    },
    "papermill": {
     "duration": 0.03828,
     "end_time": "2025-07-30T21:14:48.789256",
     "exception": false,
     "start_time": "2025-07-30T21:14:48.750976",
     "status": "completed"
    },
    "tags": []
   },
   "outputs": [
    {
     "name": "stdout",
     "output_type": "stream",
     "text": [
      "/dss/dsshome1/0C/ra93lal2/cma/CMA_Fairness_v2\n"
     ]
    },
    {
     "name": "stderr",
     "output_type": "stream",
     "text": [
      "/dss/dsshome1/0C/ra93lal2/.local/share/virtualenvs/CMA_Fairness_v2-3j10GkSs/lib/python3.10/site-packages/IPython/core/magics/osm.py:393: UserWarning: This is now an optional IPython functionality, using bookmarks requires you to install the `pickleshare` library.\n",
      "  bkms = self.shell.db.get('bookmarks', {})\n",
      "/dss/dsshome1/0C/ra93lal2/.local/share/virtualenvs/CMA_Fairness_v2-3j10GkSs/lib/python3.10/site-packages/IPython/core/magics/osm.py:417: UserWarning: This is now an optional IPython functionality, setting dhist requires you to install the `pickleshare` library.\n",
      "  self.shell.db['dhist'] = compress_dhist(dhist)[-100:]\n"
     ]
    }
   ],
   "source": [
    "%cd ~/cma/CMA_Fairness_v2"
   ]
  },
  {
   "cell_type": "markdown",
   "id": "de2603b9",
   "metadata": {
    "papermill": {
     "duration": 0.020011,
     "end_time": "2025-07-30T21:14:48.829394",
     "exception": false,
     "start_time": "2025-07-30T21:14:48.809383",
     "status": "completed"
    },
    "tags": []
   },
   "source": [
    "The following cell holds the definition of our parameters, these values can be overriden by rendering the with e.g. the following command:\n",
    "\n",
    "papermill -p alpha 0.2 -p ratio 0.3 universe_analysis.ipynb output/test_run.ipynb"
   ]
  },
  {
   "cell_type": "code",
   "execution_count": 2,
   "id": "a80968a0-40bb-4fa9-85ef-2d5eefb01975",
   "metadata": {
    "execution": {
     "iopub.execute_input": "2025-07-30T21:14:48.870066Z",
     "iopub.status.busy": "2025-07-30T21:14:48.869422Z",
     "iopub.status.idle": "2025-07-30T21:14:48.874913Z",
     "shell.execute_reply": "2025-07-30T21:14:48.874021Z"
    },
    "papermill": {
     "duration": 0.02759,
     "end_time": "2025-07-30T21:14:48.876658",
     "exception": false,
     "start_time": "2025-07-30T21:14:48.849068",
     "status": "completed"
    },
    "tags": []
   },
   "outputs": [
    {
     "name": "stdout",
     "output_type": "stream",
     "text": [
      "Current working directory: /dss/dsshome1/0C/ra93lal2/cma/CMA_Fairness_v2\n"
     ]
    }
   ],
   "source": [
    "import os\n",
    "print(\"Current working directory:\", os.getcwd())"
   ]
  },
  {
   "cell_type": "code",
   "execution_count": 3,
   "id": "2dce4c03",
   "metadata": {
    "execution": {
     "iopub.execute_input": "2025-07-30T21:14:48.918768Z",
     "iopub.status.busy": "2025-07-30T21:14:48.918137Z",
     "iopub.status.idle": "2025-07-30T21:14:48.924453Z",
     "shell.execute_reply": "2025-07-30T21:14:48.923340Z"
    },
    "papermill": {
     "duration": 0.028772,
     "end_time": "2025-07-30T21:14:48.926023",
     "exception": false,
     "start_time": "2025-07-30T21:14:48.897251",
     "status": "completed"
    },
    "tags": [
     "parameters"
    ]
   },
   "outputs": [],
   "source": [
    "run_no = 0\n",
    "universe_id = \"test\"\n",
    "universe = {\n",
    "    \"training_size\": \"25k\", # \"25k\", \"5k\", \"1k\"\n",
    "    \"training_year\": \"2014\", # \"2014\", \"2012_14\", \"2010_14\"\n",
    "    \"scale\": \"scale\", # \"scale\", \"do-not-scale\",\n",
    "    #\"stratify_split\": \"target\", # \"none\", \"target\", \"protected-attribute\", \"both\",\n",
    "    \"model\": \"elasticnet\", # \"logreg\", \"penalized_logreg\", \"rf\", \"gbm\", \"elasticnet\"\n",
    "    \"cutoff\": [\"quantile_0.15\", \"quantile_0.30\"],\n",
    "    \"exclude_features\": \"age\", # \"none\", \"nationality\", \"sex\", \"nationality-sex\", \"age\"\n",
    "    \"exclude_subgroups\": \"keep-all\", # \"keep-all\", \"drop-non-german\"\n",
    "    \"eval_fairness_grouping\": [\"majority-minority\", \"nationality-all\"]\n",
    "}\n",
    "\n",
    "output_dir=\"./output\"\n",
    "seed=0"
   ]
  },
  {
   "cell_type": "code",
   "execution_count": 4,
   "id": "f4d2bdd0",
   "metadata": {
    "execution": {
     "iopub.execute_input": "2025-07-30T21:14:48.967785Z",
     "iopub.status.busy": "2025-07-30T21:14:48.966907Z",
     "iopub.status.idle": "2025-07-30T21:14:48.972201Z",
     "shell.execute_reply": "2025-07-30T21:14:48.971281Z"
    },
    "papermill": {
     "duration": 0.027747,
     "end_time": "2025-07-30T21:14:48.973858",
     "exception": false,
     "start_time": "2025-07-30T21:14:48.946111",
     "status": "completed"
    },
    "tags": [
     "injected-parameters"
    ]
   },
   "outputs": [],
   "source": [
    "# Parameters\n",
    "universe_id = \"064ad2a4fafecedfb5ce6b011e980f60\"\n",
    "run_no = \"14\"\n",
    "universe = \"{\\\"cutoff\\\": [\\\"quantile_0.1\\\", \\\"quantile_0.25\\\"], \\\"eval_fairness_grouping\\\": [\\\"majority-minority\\\", \\\"nationality-all\\\"], \\\"exclude_features\\\": \\\"age\\\", \\\"exclude_subgroups\\\": \\\"drop-non-german\\\", \\\"model\\\": \\\"elasticnet\\\", \\\"scale\\\": \\\"scale\\\", \\\"training_size\\\": \\\"5k\\\", \\\"training_year\\\": \\\"2010_14\\\"}\"\n",
    "output_dir = \"output\"\n",
    "seed = \"2023\"\n"
   ]
  },
  {
   "cell_type": "code",
   "execution_count": 5,
   "id": "1650acaf",
   "metadata": {
    "execution": {
     "iopub.execute_input": "2025-07-30T21:14:49.014918Z",
     "iopub.status.busy": "2025-07-30T21:14:49.014477Z",
     "iopub.status.idle": "2025-07-30T21:14:49.019479Z",
     "shell.execute_reply": "2025-07-30T21:14:49.018610Z"
    },
    "papermill": {
     "duration": 0.027003,
     "end_time": "2025-07-30T21:14:49.021009",
     "exception": false,
     "start_time": "2025-07-30T21:14:48.994006",
     "status": "completed"
    },
    "tags": []
   },
   "outputs": [],
   "source": [
    "import json\n",
    "# Parse universe into dict if it is passed as a string\n",
    "if isinstance(universe, str):\n",
    "    universe = json.loads(universe)"
   ]
  },
  {
   "cell_type": "code",
   "execution_count": 6,
   "id": "16620c48",
   "metadata": {
    "execution": {
     "iopub.execute_input": "2025-07-30T21:14:49.059750Z",
     "iopub.status.busy": "2025-07-30T21:14:49.059341Z",
     "iopub.status.idle": "2025-07-30T21:14:49.105225Z",
     "shell.execute_reply": "2025-07-30T21:14:49.104404Z"
    },
    "papermill": {
     "duration": 0.066647,
     "end_time": "2025-07-30T21:14:49.107029",
     "exception": false,
     "start_time": "2025-07-30T21:14:49.040382",
     "status": "completed"
    },
    "tags": []
   },
   "outputs": [],
   "source": [
    "# Auto-reload the custom package\n",
    "%load_ext autoreload\n",
    "%autoreload 1\n",
    "%aimport fairness_multiverse"
   ]
  },
  {
   "cell_type": "code",
   "execution_count": 7,
   "id": "01c5c9f3",
   "metadata": {
    "execution": {
     "iopub.execute_input": "2025-07-30T21:14:49.148985Z",
     "iopub.status.busy": "2025-07-30T21:14:49.148071Z",
     "iopub.status.idle": "2025-07-30T21:14:51.102172Z",
     "shell.execute_reply": "2025-07-30T21:14:51.101137Z"
    },
    "papermill": {
     "duration": 1.976324,
     "end_time": "2025-07-30T21:14:51.104229",
     "exception": false,
     "start_time": "2025-07-30T21:14:49.127905",
     "status": "completed"
    },
    "tags": []
   },
   "outputs": [],
   "source": [
    "from fairness_multiverse.universe import UniverseAnalysis\n",
    "\n",
    "universe_analysis = UniverseAnalysis(\n",
    "    run_no = run_no,\n",
    "    universe_id = universe_id,\n",
    "    universe = universe,\n",
    "    output_dir=output_dir,\n",
    ")"
   ]
  },
  {
   "cell_type": "code",
   "execution_count": 8,
   "id": "106241f5",
   "metadata": {
    "execution": {
     "iopub.execute_input": "2025-07-30T21:14:51.148184Z",
     "iopub.status.busy": "2025-07-30T21:14:51.147633Z",
     "iopub.status.idle": "2025-07-30T21:14:51.154780Z",
     "shell.execute_reply": "2025-07-30T21:14:51.153836Z"
    },
    "papermill": {
     "duration": 0.030376,
     "end_time": "2025-07-30T21:14:51.156638",
     "exception": false,
     "start_time": "2025-07-30T21:14:51.126262",
     "status": "completed"
    },
    "tags": []
   },
   "outputs": [
    {
     "name": "stdout",
     "output_type": "stream",
     "text": [
      "Using Seed: 2023\n"
     ]
    }
   ],
   "source": [
    "import numpy as np\n",
    "parsed_seed = int(seed)\n",
    "np.random.seed(parsed_seed)\n",
    "print(f\"Using Seed: {parsed_seed}\")"
   ]
  },
  {
   "cell_type": "markdown",
   "id": "e0ebdc57",
   "metadata": {
    "papermill": {
     "duration": 0.020719,
     "end_time": "2025-07-30T21:14:51.199454",
     "exception": false,
     "start_time": "2025-07-30T21:14:51.178735",
     "status": "completed"
    },
    "tags": []
   },
   "source": [
    "# Loading Data"
   ]
  },
  {
   "cell_type": "markdown",
   "id": "681925a3",
   "metadata": {
    "papermill": {
     "duration": 0.021321,
     "end_time": "2025-07-30T21:14:51.241734",
     "exception": false,
     "start_time": "2025-07-30T21:14:51.220413",
     "status": "completed"
    },
    "tags": []
   },
   "source": [
    "Load siab_train, siab_test, siab_calib and/or \n",
    "load siab_train_features, siab_train_labels"
   ]
  },
  {
   "cell_type": "code",
   "execution_count": 9,
   "id": "f0496b8a",
   "metadata": {
    "execution": {
     "iopub.execute_input": "2025-07-30T21:14:51.283411Z",
     "iopub.status.busy": "2025-07-30T21:14:51.282511Z",
     "iopub.status.idle": "2025-07-30T21:15:03.455815Z",
     "shell.execute_reply": "2025-07-30T21:15:03.454908Z"
    },
    "papermill": {
     "duration": 12.195615,
     "end_time": "2025-07-30T21:15:03.457517",
     "exception": false,
     "start_time": "2025-07-30T21:14:51.261902",
     "status": "completed"
    },
    "tags": []
   },
   "outputs": [
    {
     "name": "stdout",
     "output_type": "stream",
     "text": [
      "Loading SIAB data from cache: data/siab_cached.csv.gz\n"
     ]
    },
    {
     "name": "stdout",
     "output_type": "stream",
     "text": [
      "(643690, 164)\n"
     ]
    }
   ],
   "source": [
    "from pathlib import Path\n",
    "import pandas as pd\n",
    "\n",
    "# File paths\n",
    "raw_file = Path(\"data/raw/siab.csv\")\n",
    "cache_file = Path(\"data/siab_cached.csv.gz\")\n",
    "\n",
    "# Ensure cache directory exists\n",
    "cache_file.parent.mkdir(parents=True, exist_ok=True)\n",
    "\n",
    "# Load with simple caching\n",
    "if cache_file.exists():\n",
    "    print(f\"Loading SIAB data from cache: {cache_file}\")\n",
    "    siab = pd.read_csv(cache_file, compression='gzip')\n",
    "else:\n",
    "    print(f\"Cache not found. Reading raw SIAB data: {raw_file}\")\n",
    "    siab = pd.read_csv(raw_file)\n",
    "    siab.to_csv(cache_file, index=False, compression='gzip')\n",
    "    print(f\"Cached SIAB data to: {cache_file}\")\n",
    "\n",
    "# Now use `siab` DataFrame as needed\n",
    "print(siab.shape)"
   ]
  },
  {
   "cell_type": "code",
   "execution_count": 10,
   "id": "db0ca512-5f53-4dba-abdb-a2888bca41ba",
   "metadata": {
    "execution": {
     "iopub.execute_input": "2025-07-30T21:15:03.502460Z",
     "iopub.status.busy": "2025-07-30T21:15:03.501863Z",
     "iopub.status.idle": "2025-07-30T21:15:03.507673Z",
     "shell.execute_reply": "2025-07-30T21:15:03.506751Z"
    },
    "papermill": {
     "duration": 0.029802,
     "end_time": "2025-07-30T21:15:03.509581",
     "exception": false,
     "start_time": "2025-07-30T21:15:03.479779",
     "status": "completed"
    },
    "tags": []
   },
   "outputs": [],
   "source": [
    "#siab"
   ]
  },
  {
   "cell_type": "code",
   "execution_count": 11,
   "id": "a0edb063",
   "metadata": {
    "execution": {
     "iopub.execute_input": "2025-07-30T21:15:03.551686Z",
     "iopub.status.busy": "2025-07-30T21:15:03.550870Z",
     "iopub.status.idle": "2025-07-30T21:15:03.555875Z",
     "shell.execute_reply": "2025-07-30T21:15:03.554977Z"
    },
    "papermill": {
     "duration": 0.027778,
     "end_time": "2025-07-30T21:15:03.557689",
     "exception": false,
     "start_time": "2025-07-30T21:15:03.529911",
     "status": "completed"
    },
    "tags": []
   },
   "outputs": [],
   "source": [
    "#import pandas as pd\n",
    "#\n",
    "#X_train = pd.read_csv(\"./data/X_train.csv\")\n",
    "#y_train = pd.read_csv(\"./data/y_train.csv\")"
   ]
  },
  {
   "cell_type": "code",
   "execution_count": 12,
   "id": "63d08085",
   "metadata": {
    "execution": {
     "iopub.execute_input": "2025-07-30T21:15:03.603048Z",
     "iopub.status.busy": "2025-07-30T21:15:03.602398Z",
     "iopub.status.idle": "2025-07-30T21:15:03.607241Z",
     "shell.execute_reply": "2025-07-30T21:15:03.606395Z"
    },
    "papermill": {
     "duration": 0.028575,
     "end_time": "2025-07-30T21:15:03.608976",
     "exception": false,
     "start_time": "2025-07-30T21:15:03.580401",
     "status": "completed"
    },
    "tags": []
   },
   "outputs": [],
   "source": [
    "#X_test = pd.read_csv(\"./data/X_test.csv\")\n",
    "#y_true = pd.read_csv(\"./data/y_test.csv\")"
   ]
  },
  {
   "cell_type": "code",
   "execution_count": 13,
   "id": "98a8d0fa-1d3d-4ed8-bb2c-281470e24add",
   "metadata": {
    "execution": {
     "iopub.execute_input": "2025-07-30T21:15:03.655388Z",
     "iopub.status.busy": "2025-07-30T21:15:03.654722Z",
     "iopub.status.idle": "2025-07-30T21:15:03.660211Z",
     "shell.execute_reply": "2025-07-30T21:15:03.659173Z"
    },
    "papermill": {
     "duration": 0.03028,
     "end_time": "2025-07-30T21:15:03.661859",
     "exception": false,
     "start_time": "2025-07-30T21:15:03.631579",
     "status": "completed"
    },
    "tags": []
   },
   "outputs": [],
   "source": [
    "# Calibration data for conformal\n",
    "#X_calib = pd.read_csv(\"./data/X_calib.csv\")\n",
    "#y_calib = pd.read_csv(\"./data/y_calib.csv\")"
   ]
  },
  {
   "cell_type": "markdown",
   "id": "997051c5-15bd-4b69-9786-c3001a3ce484",
   "metadata": {
    "papermill": {
     "duration": 0.020637,
     "end_time": "2025-07-30T21:15:03.705743",
     "exception": false,
     "start_time": "2025-07-30T21:15:03.685106",
     "status": "completed"
    },
    "tags": []
   },
   "source": [
    "# Splitting Data and Setting Training Data Size"
   ]
  },
  {
   "cell_type": "code",
   "execution_count": 14,
   "id": "e993b61f-042d-41a6-8c81-f55681f86335",
   "metadata": {
    "execution": {
     "iopub.execute_input": "2025-07-30T21:15:03.748296Z",
     "iopub.status.busy": "2025-07-30T21:15:03.747514Z",
     "iopub.status.idle": "2025-07-30T21:15:03.761324Z",
     "shell.execute_reply": "2025-07-30T21:15:03.760201Z"
    },
    "papermill": {
     "duration": 0.037157,
     "end_time": "2025-07-30T21:15:03.763152",
     "exception": false,
     "start_time": "2025-07-30T21:15:03.725995",
     "status": "completed"
    },
    "tags": []
   },
   "outputs": [],
   "source": [
    "def sample_by_year_size(df,\n",
    "                        training_year: str,\n",
    "                        training_size: str,\n",
    "                        random_state: int = 42):\n",
    "    # --- parse training_year into a list of int years ---\n",
    "    if \"_\" in training_year:\n",
    "        start_str, end_str = training_year.split(\"_\", 1)\n",
    "        start = int(start_str)\n",
    "        end   = int(end_str) if len(end_str) == 4 else (int(end_str) + (start // 100)*100)\n",
    "        years = list(range(start, end + 1))\n",
    "    else:\n",
    "        years = [int(training_year)]\n",
    "\n",
    "    df = df[df[\"year\"].isin(years)].reset_index(drop=True)\n",
    "\n",
    "    # --- map training_size to total number of samples ---\n",
    "    total_map = {\"25k\": 25_000, \"5k\": 5_000, \"1k\": 1_000}\n",
    "    if training_size not in total_map:\n",
    "        return df  # e.g. \"all\"\n",
    "\n",
    "    total_samples = total_map[training_size]\n",
    "    n_years       = len(years)\n",
    "    base          = total_samples // n_years\n",
    "    remainder     = total_samples % n_years\n",
    "\n",
    "    # --- build a dict: year -> how many to sample ---\n",
    "    # give +1 to the first `remainder` years in ascending order\n",
    "    quotas = {\n",
    "        year: base + (1 if idx < remainder else 0)\n",
    "        for idx, year in enumerate(sorted(years))\n",
    "    }\n",
    "\n",
    "    # --- sample per‐year according to the quota dict ---\n",
    "    sampled = (\n",
    "        df\n",
    "        .groupby(\"year\", group_keys=False)\n",
    "        .apply(lambda grp: grp.sample(\n",
    "            n=min(len(grp), quotas[grp.name]),\n",
    "            random_state=random_state))\n",
    "        .reset_index(drop=True)\n",
    "    )\n",
    "\n",
    "    return sampled"
   ]
  },
  {
   "cell_type": "code",
   "execution_count": 15,
   "id": "c0ccd338-0e02-41f3-a09d-f56f9266e3fb",
   "metadata": {
    "execution": {
     "iopub.execute_input": "2025-07-30T21:15:03.812089Z",
     "iopub.status.busy": "2025-07-30T21:15:03.811248Z",
     "iopub.status.idle": "2025-07-30T21:15:03.817061Z",
     "shell.execute_reply": "2025-07-30T21:15:03.816011Z"
    },
    "papermill": {
     "duration": 0.030775,
     "end_time": "2025-07-30T21:15:03.818674",
     "exception": false,
     "start_time": "2025-07-30T21:15:03.787899",
     "status": "completed"
    },
    "tags": []
   },
   "outputs": [],
   "source": [
    "#universe[\"training_size\"]"
   ]
  },
  {
   "cell_type": "code",
   "execution_count": 16,
   "id": "ca707fd7-8047-4acd-bfa5-66248fbbf8e6",
   "metadata": {
    "execution": {
     "iopub.execute_input": "2025-07-30T21:15:03.868569Z",
     "iopub.status.busy": "2025-07-30T21:15:03.867975Z",
     "iopub.status.idle": "2025-07-30T21:15:03.873479Z",
     "shell.execute_reply": "2025-07-30T21:15:03.872592Z"
    },
    "papermill": {
     "duration": 0.033339,
     "end_time": "2025-07-30T21:15:03.875096",
     "exception": false,
     "start_time": "2025-07-30T21:15:03.841757",
     "status": "completed"
    },
    "tags": []
   },
   "outputs": [],
   "source": [
    "#universe[\"training_year\"]"
   ]
  },
  {
   "cell_type": "code",
   "execution_count": 17,
   "id": "aea9c6ef-6f46-42c8-85eb-5a62025c1508",
   "metadata": {
    "execution": {
     "iopub.execute_input": "2025-07-30T21:15:03.922472Z",
     "iopub.status.busy": "2025-07-30T21:15:03.921930Z",
     "iopub.status.idle": "2025-07-30T21:15:04.971022Z",
     "shell.execute_reply": "2025-07-30T21:15:04.969705Z"
    },
    "papermill": {
     "duration": 1.075529,
     "end_time": "2025-07-30T21:15:04.973483",
     "exception": false,
     "start_time": "2025-07-30T21:15:03.897954",
     "status": "completed"
    },
    "tags": []
   },
   "outputs": [],
   "source": [
    "siab_train = sample_by_year_size(siab,\n",
    "                               training_year=universe[\"training_year\"],\n",
    "                               training_size=universe[\"training_size\"])"
   ]
  },
  {
   "cell_type": "code",
   "execution_count": 18,
   "id": "8d3afb32-789d-442c-8d5d-9f5aa8dd2eed",
   "metadata": {
    "execution": {
     "iopub.execute_input": "2025-07-30T21:15:05.035743Z",
     "iopub.status.busy": "2025-07-30T21:15:05.034924Z",
     "iopub.status.idle": "2025-07-30T21:15:05.041006Z",
     "shell.execute_reply": "2025-07-30T21:15:05.039632Z"
    },
    "papermill": {
     "duration": 0.039594,
     "end_time": "2025-07-30T21:15:05.043229",
     "exception": false,
     "start_time": "2025-07-30T21:15:05.003635",
     "status": "completed"
    },
    "tags": []
   },
   "outputs": [],
   "source": [
    "#siab_train.shape"
   ]
  },
  {
   "cell_type": "code",
   "execution_count": 19,
   "id": "d582db68-1a4c-47fb-84fc-08518dc1975a",
   "metadata": {
    "execution": {
     "iopub.execute_input": "2025-07-30T21:15:05.106767Z",
     "iopub.status.busy": "2025-07-30T21:15:05.105966Z",
     "iopub.status.idle": "2025-07-30T21:15:05.112367Z",
     "shell.execute_reply": "2025-07-30T21:15:05.111232Z"
    },
    "papermill": {
     "duration": 0.040103,
     "end_time": "2025-07-30T21:15:05.114417",
     "exception": false,
     "start_time": "2025-07-30T21:15:05.074314",
     "status": "completed"
    },
    "tags": []
   },
   "outputs": [],
   "source": [
    "#display(siab_train.groupby(\"year\").size())"
   ]
  },
  {
   "cell_type": "code",
   "execution_count": 20,
   "id": "a561edb4-d032-42cb-8256-22eac1111c64",
   "metadata": {
    "execution": {
     "iopub.execute_input": "2025-07-30T21:15:05.177710Z",
     "iopub.status.busy": "2025-07-30T21:15:05.176904Z",
     "iopub.status.idle": "2025-07-30T21:15:05.636710Z",
     "shell.execute_reply": "2025-07-30T21:15:05.635591Z"
    },
    "papermill": {
     "duration": 0.493586,
     "end_time": "2025-07-30T21:15:05.638765",
     "exception": false,
     "start_time": "2025-07-30T21:15:05.145179",
     "status": "completed"
    },
    "tags": []
   },
   "outputs": [],
   "source": [
    "#siab_train = siab_s[siab_s.year < 2015]\n",
    "siab_calib = siab[siab.year == 2015]\n",
    "siab_test = siab[siab.year == 2016]"
   ]
  },
  {
   "cell_type": "code",
   "execution_count": 21,
   "id": "472de16f-c3db-4916-846b-1f0de9cf1746",
   "metadata": {
    "execution": {
     "iopub.execute_input": "2025-07-30T21:15:05.689212Z",
     "iopub.status.busy": "2025-07-30T21:15:05.688544Z",
     "iopub.status.idle": "2025-07-30T21:15:05.697514Z",
     "shell.execute_reply": "2025-07-30T21:15:05.696598Z"
    },
    "papermill": {
     "duration": 0.03798,
     "end_time": "2025-07-30T21:15:05.701461",
     "exception": false,
     "start_time": "2025-07-30T21:15:05.663481",
     "status": "completed"
    },
    "tags": []
   },
   "outputs": [],
   "source": [
    "X_train = siab_train.iloc[:,4:164]\n",
    "y_train = siab_train.iloc[:, [3]]"
   ]
  },
  {
   "cell_type": "code",
   "execution_count": 22,
   "id": "828c96af-f43a-4ed6-ba47-8ac73a47d56c",
   "metadata": {
    "execution": {
     "iopub.execute_input": "2025-07-30T21:15:05.742849Z",
     "iopub.status.busy": "2025-07-30T21:15:05.742078Z",
     "iopub.status.idle": "2025-07-30T21:15:05.789891Z",
     "shell.execute_reply": "2025-07-30T21:15:05.788893Z"
    },
    "papermill": {
     "duration": 0.069548,
     "end_time": "2025-07-30T21:15:05.791848",
     "exception": false,
     "start_time": "2025-07-30T21:15:05.722300",
     "status": "completed"
    },
    "tags": []
   },
   "outputs": [],
   "source": [
    "X_calib = siab_calib.iloc[:,4:164]\n",
    "y_calib = siab_calib.iloc[:, [3]]"
   ]
  },
  {
   "cell_type": "code",
   "execution_count": 23,
   "id": "c34be9c3-6bd6-476e-acd3-845840e303be",
   "metadata": {
    "execution": {
     "iopub.execute_input": "2025-07-30T21:15:05.837621Z",
     "iopub.status.busy": "2025-07-30T21:15:05.837196Z",
     "iopub.status.idle": "2025-07-30T21:15:05.889781Z",
     "shell.execute_reply": "2025-07-30T21:15:05.888793Z"
    },
    "papermill": {
     "duration": 0.076616,
     "end_time": "2025-07-30T21:15:05.891539",
     "exception": false,
     "start_time": "2025-07-30T21:15:05.814923",
     "status": "completed"
    },
    "tags": []
   },
   "outputs": [],
   "source": [
    "X_test = siab_test.iloc[:,4:164]\n",
    "y_true = siab_test.iloc[:, [3]]"
   ]
  },
  {
   "cell_type": "markdown",
   "id": "9901737e-04df-44f0-9100-f5ad144ed040",
   "metadata": {
    "papermill": {
     "duration": 0.022556,
     "end_time": "2025-07-30T21:15:05.936484",
     "exception": false,
     "start_time": "2025-07-30T21:15:05.913928",
     "status": "completed"
    },
    "tags": []
   },
   "source": [
    "# Splitting Data and Setting Training Data Size OLD VERSION"
   ]
  },
  {
   "cell_type": "code",
   "execution_count": 24,
   "id": "acbc8f7d-8fc8-4e86-8c59-5dcb0f58384b",
   "metadata": {
    "execution": {
     "iopub.execute_input": "2025-07-30T21:15:05.977701Z",
     "iopub.status.busy": "2025-07-30T21:15:05.977278Z",
     "iopub.status.idle": "2025-07-30T21:15:05.982492Z",
     "shell.execute_reply": "2025-07-30T21:15:05.981456Z"
    },
    "papermill": {
     "duration": 0.030751,
     "end_time": "2025-07-30T21:15:05.984282",
     "exception": false,
     "start_time": "2025-07-30T21:15:05.953531",
     "status": "completed"
    },
    "tags": []
   },
   "outputs": [],
   "source": [
    "#def sample_by_year(df, training_size, random_state=42):\n",
    "#    if training_size == \"2014\":\n",
    "#        return df[df[\"year\"] == 2014].reset_index(drop=True)\n",
    "#    \n",
    "#    size_map = {\n",
    "#        \"25k\": 5000,\n",
    "#        \"5k\": 1000,\n",
    "#        \"1k\": 200\n",
    "#    }\n",
    "#\n",
    "#    if training_size not in size_map:\n",
    "#        return df.reset_index(drop=True)  # use all data\n",
    "#\n",
    "#    n_per_year = size_map[training_size]\n",
    "#    grouped = df.groupby(\"year\")\n",
    "#    sampled = grouped.apply(lambda x: x.sample(n=min(n_per_year, len(x)), random_state=random_state))\n",
    "#    return sampled.reset_index(drop=True)"
   ]
  },
  {
   "cell_type": "code",
   "execution_count": 25,
   "id": "6d931f52-beaf-43ff-9e78-9d44a448d54e",
   "metadata": {
    "execution": {
     "iopub.execute_input": "2025-07-30T21:15:06.023355Z",
     "iopub.status.busy": "2025-07-30T21:15:06.023063Z",
     "iopub.status.idle": "2025-07-30T21:15:06.027136Z",
     "shell.execute_reply": "2025-07-30T21:15:06.026428Z"
    },
    "papermill": {
     "duration": 0.021157,
     "end_time": "2025-07-30T21:15:06.028491",
     "exception": false,
     "start_time": "2025-07-30T21:15:06.007334",
     "status": "completed"
    },
    "tags": []
   },
   "outputs": [],
   "source": [
    "#siab_s = sample_by_year(siab, universe[\"training_size\"])"
   ]
  },
  {
   "cell_type": "code",
   "execution_count": 26,
   "id": "5db0a40e-a4e2-4920-be85-b12ae061d70d",
   "metadata": {
    "execution": {
     "iopub.execute_input": "2025-07-30T21:15:06.055538Z",
     "iopub.status.busy": "2025-07-30T21:15:06.055007Z",
     "iopub.status.idle": "2025-07-30T21:15:06.141546Z",
     "shell.execute_reply": "2025-07-30T21:15:06.140805Z"
    },
    "papermill": {
     "duration": 0.10029,
     "end_time": "2025-07-30T21:15:06.143001",
     "exception": false,
     "start_time": "2025-07-30T21:15:06.042711",
     "status": "completed"
    },
    "tags": []
   },
   "outputs": [],
   "source": [
    "#display(siab_s.groupby(\"year\").size())"
   ]
  },
  {
   "cell_type": "code",
   "execution_count": 27,
   "id": "e6c733c5",
   "metadata": {
    "execution": {
     "iopub.execute_input": "2025-07-30T21:15:06.195182Z",
     "iopub.status.busy": "2025-07-30T21:15:06.194697Z",
     "iopub.status.idle": "2025-07-30T21:15:06.317061Z",
     "shell.execute_reply": "2025-07-30T21:15:06.315975Z"
    },
    "papermill": {
     "duration": 0.154329,
     "end_time": "2025-07-30T21:15:06.319316",
     "exception": false,
     "start_time": "2025-07-30T21:15:06.164987",
     "status": "completed"
    },
    "tags": []
   },
   "outputs": [],
   "source": [
    "# Auxiliary data needed downstream in the pipeline\n",
    "\n",
    "org_train = X_train.copy()\n",
    "org_test = X_test.copy()\n",
    "org_calib = X_calib.copy()"
   ]
  },
  {
   "cell_type": "code",
   "execution_count": 28,
   "id": "1466abac-c6da-4492-a62f-4240ae3783af",
   "metadata": {
    "execution": {
     "iopub.execute_input": "2025-07-30T21:15:06.373284Z",
     "iopub.status.busy": "2025-07-30T21:15:06.372239Z",
     "iopub.status.idle": "2025-07-30T21:15:06.379009Z",
     "shell.execute_reply": "2025-07-30T21:15:06.378003Z"
    },
    "papermill": {
     "duration": 0.032043,
     "end_time": "2025-07-30T21:15:06.380776",
     "exception": false,
     "start_time": "2025-07-30T21:15:06.348733",
     "status": "completed"
    },
    "tags": []
   },
   "outputs": [],
   "source": [
    "# put in other script?\n",
    "# Group sizes\n",
    "\n",
    "#def calculate_percentages(df, df_name):\n",
    "#    total_entries = len(df)\n",
    "#\n",
    "#    female_pct = (df['frau1'] == 1).mean() * 100\n",
    "#    non_german_pct = ((df['maxdeutsch1'] == 0) & (df['maxdeutsch.Missing.'] == 0)).mean() * 100\n",
    "#    non_german_male_pct = ((df['frau1'] == 0) & (df['maxdeutsch1'] == 0) & (df['maxdeutsch.Missing.'] == 0)).mean() * 100\n",
    "#    non_german_female_pct = ((df['frau1'] == 1) & (df['maxdeutsch1'] == 0) & (df['maxdeutsch.Missing.'] == 0)).mean() * 100\n",
    "#\n",
    "#    print(f\"--- {df_name} ---\")\n",
    "#    print(f\"Female: {female_pct:.2f}%\")\n",
    "#    print(f\"Non-German: {non_german_pct:.2f}%\")\n",
    "#    print(f\"Non-German Male: {non_german_male_pct:.2f}%\")\n",
    "#    print(f\"Non-German Female: {non_german_female_pct:.2f}%\\n\")\n",
    "#\n",
    "## Calculate for each DataFrame\n",
    "#calculate_percentages(siab_calib, \"siab_calib\")\n",
    "#calculate_percentages(siab_test, \"siab_test\")\n",
    "#calculate_percentages(siab_train, \"siab_train\")"
   ]
  },
  {
   "cell_type": "markdown",
   "id": "0a4a1b33",
   "metadata": {
    "papermill": {
     "duration": 0.02204,
     "end_time": "2025-07-30T21:15:06.423780",
     "exception": false,
     "start_time": "2025-07-30T21:15:06.401740",
     "status": "completed"
    },
    "tags": []
   },
   "source": [
    "# Preprocessing Data"
   ]
  },
  {
   "cell_type": "code",
   "execution_count": 29,
   "id": "ca879031",
   "metadata": {
    "execution": {
     "iopub.execute_input": "2025-07-30T21:15:06.472008Z",
     "iopub.status.busy": "2025-07-30T21:15:06.471106Z",
     "iopub.status.idle": "2025-07-30T21:15:06.477187Z",
     "shell.execute_reply": "2025-07-30T21:15:06.476270Z"
    },
    "papermill": {
     "duration": 0.031572,
     "end_time": "2025-07-30T21:15:06.478888",
     "exception": false,
     "start_time": "2025-07-30T21:15:06.447316",
     "status": "completed"
    },
    "tags": []
   },
   "outputs": [],
   "source": [
    "# EXCLUDE PROTECTED FEATURES\n",
    "# ----------------------\n",
    "# \"exclude_features\": \"none\", # \"nationality\", \"sex\", \"nationality-sex\"\n",
    "\n",
    "excluded_features = universe[\"exclude_features\"].split(\"-\") # split, e.g.: \"nationality-sex\" -> [\"nationality\", \"sex\"]\n",
    "excluded_features_dictionary = {\n",
    "    \"nationality\": [\"maxdeutsch1\", \"maxdeutsch.Missing.\"],\n",
    "    \"sex\": [\"frau1\"],\n",
    "    \"age\": [\"age\"],\n",
    "}\n"
   ]
  },
  {
   "cell_type": "code",
   "execution_count": 30,
   "id": "b745ac60",
   "metadata": {
    "execution": {
     "iopub.execute_input": "2025-07-30T21:15:06.524996Z",
     "iopub.status.busy": "2025-07-30T21:15:06.524327Z",
     "iopub.status.idle": "2025-07-30T21:15:06.531548Z",
     "shell.execute_reply": "2025-07-30T21:15:06.529672Z"
    },
    "papermill": {
     "duration": 0.031227,
     "end_time": "2025-07-30T21:15:06.533248",
     "exception": false,
     "start_time": "2025-07-30T21:15:06.502021",
     "status": "completed"
    },
    "tags": []
   },
   "outputs": [],
   "source": [
    "# Code nice names to column names\n",
    "\n",
    "excluded_features_columns = [\n",
    "    excluded_features_dictionary[f] for f in excluded_features if len(f) > 0 and f != \"none\"\n",
    "]"
   ]
  },
  {
   "cell_type": "code",
   "execution_count": 31,
   "id": "f84f73a2",
   "metadata": {
    "execution": {
     "iopub.execute_input": "2025-07-30T21:15:06.578249Z",
     "iopub.status.busy": "2025-07-30T21:15:06.577779Z",
     "iopub.status.idle": "2025-07-30T21:15:06.583987Z",
     "shell.execute_reply": "2025-07-30T21:15:06.583131Z"
    },
    "papermill": {
     "duration": 0.030507,
     "end_time": "2025-07-30T21:15:06.585488",
     "exception": false,
     "start_time": "2025-07-30T21:15:06.554981",
     "status": "completed"
    },
    "tags": []
   },
   "outputs": [],
   "source": [
    "from utils import flatten_once\n",
    "\n",
    "excluded_features_columns = flatten_once(excluded_features_columns)"
   ]
  },
  {
   "cell_type": "code",
   "execution_count": 32,
   "id": "884dea22",
   "metadata": {
    "execution": {
     "iopub.execute_input": "2025-07-30T21:15:06.630214Z",
     "iopub.status.busy": "2025-07-30T21:15:06.629525Z",
     "iopub.status.idle": "2025-07-30T21:15:06.649613Z",
     "shell.execute_reply": "2025-07-30T21:15:06.648673Z"
    },
    "papermill": {
     "duration": 0.044769,
     "end_time": "2025-07-30T21:15:06.651241",
     "exception": false,
     "start_time": "2025-07-30T21:15:06.606472",
     "status": "completed"
    },
    "tags": []
   },
   "outputs": [
    {
     "name": "stdout",
     "output_type": "stream",
     "text": [
      "Dropping features: ['age']\n"
     ]
    }
   ],
   "source": [
    "if len(excluded_features_columns) > 0:\n",
    "    print(f\"Dropping features: {excluded_features_columns}\")\n",
    "    X_train.drop(excluded_features_columns, axis=1, inplace=True)"
   ]
  },
  {
   "cell_type": "code",
   "execution_count": 33,
   "id": "95ab8b16",
   "metadata": {
    "execution": {
     "iopub.execute_input": "2025-07-30T21:15:06.695231Z",
     "iopub.status.busy": "2025-07-30T21:15:06.694754Z",
     "iopub.status.idle": "2025-07-30T21:15:06.760798Z",
     "shell.execute_reply": "2025-07-30T21:15:06.748914Z"
    },
    "papermill": {
     "duration": 0.090208,
     "end_time": "2025-07-30T21:15:06.762697",
     "exception": false,
     "start_time": "2025-07-30T21:15:06.672489",
     "status": "completed"
    },
    "tags": []
   },
   "outputs": [
    {
     "name": "stdout",
     "output_type": "stream",
     "text": [
      "Dropping features: ['age']\n"
     ]
    }
   ],
   "source": [
    "if len(excluded_features_columns) > 0:\n",
    "    print(f\"Dropping features: {excluded_features_columns}\")\n",
    "    X_test.drop(excluded_features_columns, axis=1, inplace=True)"
   ]
  },
  {
   "cell_type": "code",
   "execution_count": 34,
   "id": "1853aaf5-fb9f-46cb-a2b5-8ea4ae2237e4",
   "metadata": {
    "execution": {
     "iopub.execute_input": "2025-07-30T21:15:06.811495Z",
     "iopub.status.busy": "2025-07-30T21:15:06.810757Z",
     "iopub.status.idle": "2025-07-30T21:15:06.867368Z",
     "shell.execute_reply": "2025-07-30T21:15:06.866499Z"
    },
    "papermill": {
     "duration": 0.081774,
     "end_time": "2025-07-30T21:15:06.869008",
     "exception": false,
     "start_time": "2025-07-30T21:15:06.787234",
     "status": "completed"
    },
    "tags": []
   },
   "outputs": [
    {
     "name": "stdout",
     "output_type": "stream",
     "text": [
      "Dropping features: ['age']\n"
     ]
    }
   ],
   "source": [
    "if len(excluded_features_columns) > 0:\n",
    "    print(f\"Dropping features: {excluded_features_columns}\")\n",
    "    X_calib.drop(excluded_features_columns, axis=1, inplace=True)"
   ]
  },
  {
   "cell_type": "code",
   "execution_count": 35,
   "id": "6727d079-03e5-481e-9d38-292a90b7a0a8",
   "metadata": {
    "execution": {
     "iopub.execute_input": "2025-07-30T21:15:06.915122Z",
     "iopub.status.busy": "2025-07-30T21:15:06.914475Z",
     "iopub.status.idle": "2025-07-30T21:15:06.919256Z",
     "shell.execute_reply": "2025-07-30T21:15:06.918406Z"
    },
    "papermill": {
     "duration": 0.029517,
     "end_time": "2025-07-30T21:15:06.920879",
     "exception": false,
     "start_time": "2025-07-30T21:15:06.891362",
     "status": "completed"
    },
    "tags": []
   },
   "outputs": [],
   "source": [
    "# SPLIT & STRATIFY DATA\n",
    "# ----------------------"
   ]
  },
  {
   "cell_type": "code",
   "execution_count": 36,
   "id": "76c4dc6d",
   "metadata": {
    "execution": {
     "iopub.execute_input": "2025-07-30T21:15:06.966973Z",
     "iopub.status.busy": "2025-07-30T21:15:06.966303Z",
     "iopub.status.idle": "2025-07-30T21:15:06.971597Z",
     "shell.execute_reply": "2025-07-30T21:15:06.970764Z"
    },
    "papermill": {
     "duration": 0.030045,
     "end_time": "2025-07-30T21:15:06.973096",
     "exception": false,
     "start_time": "2025-07-30T21:15:06.943051",
     "status": "completed"
    },
    "tags": []
   },
   "outputs": [],
   "source": [
    "# EXCLUDE CERTAIN SUBGROUPS\n",
    "# ----------------------\n",
    "\n",
    "mode = universe.get(\"exclude_subgroups\", \"keep-all\") \n",
    "# Fetches the exclude_subgroups setting from the universe dict.\n",
    "# Defaults to \"keep-all\" if the key is missing."
   ]
  },
  {
   "cell_type": "code",
   "execution_count": 37,
   "id": "21994072",
   "metadata": {
    "execution": {
     "iopub.execute_input": "2025-07-30T21:15:07.021116Z",
     "iopub.status.busy": "2025-07-30T21:15:07.020115Z",
     "iopub.status.idle": "2025-07-30T21:15:07.029647Z",
     "shell.execute_reply": "2025-07-30T21:15:07.028868Z"
    },
    "papermill": {
     "duration": 0.035067,
     "end_time": "2025-07-30T21:15:07.031025",
     "exception": false,
     "start_time": "2025-07-30T21:15:06.995958",
     "status": "completed"
    },
    "tags": []
   },
   "outputs": [],
   "source": [
    "if mode == \"keep-all\":\n",
    "    keep_mask = pd.Series(True, index=org_train.index)\n",
    "\n",
    "# org_train contains the original feature columns from features_org (in Simson)\n",
    "# features_org contains unprocessed features, for me X_train at beginning ???\n",
    "# For keep-all, creates a boolean Series (keep_mask) of all True, so no rows are removed.\n",
    "\n",
    "elif mode == \"drop-non-german\":\n",
    "    keep_mask = org_train[\"maxdeutsch1\"] == 1 # ??? what about missing values?\n",
    "\n",
    "else:\n",
    "    raise ValueError(f\"Unsupported mode for exclude_subgroups: {mode}\")\n"
   ]
  },
  {
   "cell_type": "code",
   "execution_count": 38,
   "id": "71651440",
   "metadata": {
    "execution": {
     "iopub.execute_input": "2025-07-30T21:15:07.057493Z",
     "iopub.status.busy": "2025-07-30T21:15:07.056997Z",
     "iopub.status.idle": "2025-07-30T21:15:07.063118Z",
     "shell.execute_reply": "2025-07-30T21:15:07.062400Z"
    },
    "papermill": {
     "duration": 0.020546,
     "end_time": "2025-07-30T21:15:07.064413",
     "exception": false,
     "start_time": "2025-07-30T21:15:07.043867",
     "status": "completed"
    },
    "tags": []
   },
   "outputs": [
    {
     "name": "stdout",
     "output_type": "stream",
     "text": [
      "Dropping 657 rows (13.14%) where mode='drop-non-german'\n"
     ]
    }
   ],
   "source": [
    "n_drop = (~keep_mask).sum() # Calculates how many rows are set to be dropped\n",
    "if n_drop > 0:\n",
    "    pct = n_drop / len(keep_mask) * 100\n",
    "    print(f\"Dropping {n_drop} rows ({pct:.2f}%) where mode='{mode}'\")"
   ]
  },
  {
   "cell_type": "code",
   "execution_count": 39,
   "id": "5fb8eee5",
   "metadata": {
    "execution": {
     "iopub.execute_input": "2025-07-30T21:15:07.097652Z",
     "iopub.status.busy": "2025-07-30T21:15:07.097086Z",
     "iopub.status.idle": "2025-07-30T21:15:07.104184Z",
     "shell.execute_reply": "2025-07-30T21:15:07.103423Z"
    },
    "papermill": {
     "duration": 0.026038,
     "end_time": "2025-07-30T21:15:07.105775",
     "exception": false,
     "start_time": "2025-07-30T21:15:07.079737",
     "status": "completed"
    },
    "tags": []
   },
   "outputs": [],
   "source": [
    "X_train = X_train[keep_mask]"
   ]
  },
  {
   "cell_type": "code",
   "execution_count": 40,
   "id": "b202bb3a",
   "metadata": {
    "execution": {
     "iopub.execute_input": "2025-07-30T21:15:07.153607Z",
     "iopub.status.busy": "2025-07-30T21:15:07.153040Z",
     "iopub.status.idle": "2025-07-30T21:15:07.159617Z",
     "shell.execute_reply": "2025-07-30T21:15:07.158626Z"
    },
    "papermill": {
     "duration": 0.03295,
     "end_time": "2025-07-30T21:15:07.161381",
     "exception": false,
     "start_time": "2025-07-30T21:15:07.128431",
     "status": "completed"
    },
    "tags": []
   },
   "outputs": [],
   "source": [
    "y_train = y_train[keep_mask]"
   ]
  },
  {
   "cell_type": "markdown",
   "id": "493e2ac3",
   "metadata": {
    "papermill": {
     "duration": 0.022079,
     "end_time": "2025-07-30T21:15:07.206309",
     "exception": false,
     "start_time": "2025-07-30T21:15:07.184230",
     "status": "completed"
    },
    "tags": []
   },
   "source": [
    "# Model Training"
   ]
  },
  {
   "cell_type": "code",
   "execution_count": 41,
   "id": "679e1268",
   "metadata": {
    "execution": {
     "iopub.execute_input": "2025-07-30T21:15:07.255236Z",
     "iopub.status.busy": "2025-07-30T21:15:07.254273Z",
     "iopub.status.idle": "2025-07-30T21:15:07.358420Z",
     "shell.execute_reply": "2025-07-30T21:15:07.357493Z"
    },
    "papermill": {
     "duration": 0.130701,
     "end_time": "2025-07-30T21:15:07.360305",
     "exception": false,
     "start_time": "2025-07-30T21:15:07.229604",
     "status": "completed"
    },
    "tags": []
   },
   "outputs": [],
   "source": [
    "from sklearn.linear_model import LogisticRegression\n",
    "from sklearn.ensemble import GradientBoostingClassifier, RandomForestClassifier\n",
    "\n",
    "if (universe[\"model\"] == \"logreg\"):\n",
    "    model = LogisticRegression() #penalty=\"none\") #, solver=\"newton-cg\", max_iter=1) # include random_state=19 ?\n",
    "elif (universe[\"model\"] == \"penalized_logreg\"):\n",
    "    model = LogisticRegression(penalty=\"l2\", C=1.0) #, solver=\"newton-cg\", max_iter=1)\n",
    "elif (universe[\"model\"] == \"rf\"):\n",
    "    model = RandomForestClassifier(n_estimators=100, n_jobs=-1)\n",
    "elif (universe[\"model\"] == \"gbm\"):\n",
    "    model = GradientBoostingClassifier()\n",
    "elif (universe[\"model\"] == \"elasticnet\"):\n",
    "    model = LogisticRegression(penalty = 'elasticnet', solver = 'saga', l1_ratio = 0.5, max_iter=5000) # which solver to use?\n",
    "else:\n",
    "    raise \"Unsupported universe.model\""
   ]
  },
  {
   "cell_type": "code",
   "execution_count": 42,
   "id": "0cc8f744",
   "metadata": {
    "execution": {
     "iopub.execute_input": "2025-07-30T21:15:07.416734Z",
     "iopub.status.busy": "2025-07-30T21:15:07.416203Z",
     "iopub.status.idle": "2025-07-30T21:15:07.422737Z",
     "shell.execute_reply": "2025-07-30T21:15:07.421770Z"
    },
    "papermill": {
     "duration": 0.042836,
     "end_time": "2025-07-30T21:15:07.424935",
     "exception": false,
     "start_time": "2025-07-30T21:15:07.382099",
     "status": "completed"
    },
    "tags": []
   },
   "outputs": [],
   "source": [
    "import numpy as np\n",
    "from sklearn.pipeline import Pipeline\n",
    "from sklearn.preprocessing import StandardScaler\n",
    "\n",
    "model = Pipeline([\n",
    "    #(\"continuous_processor\", continuous_processor),\n",
    "    #(\"categorical_preprocessor\", categorical_preprocessor),\n",
    "    (\"scale\", StandardScaler() if universe[\"scale\"] == \"scale\" else None), \n",
    "    (\"model\", model),\n",
    "])"
   ]
  },
  {
   "cell_type": "code",
   "execution_count": 43,
   "id": "9442c04d",
   "metadata": {
    "execution": {
     "iopub.execute_input": "2025-07-30T21:15:07.493009Z",
     "iopub.status.busy": "2025-07-30T21:15:07.492455Z",
     "iopub.status.idle": "2025-07-30T21:15:16.965919Z",
     "shell.execute_reply": "2025-07-30T21:15:16.964997Z"
    },
    "papermill": {
     "duration": 9.509182,
     "end_time": "2025-07-30T21:15:16.967477",
     "exception": false,
     "start_time": "2025-07-30T21:15:07.458295",
     "status": "completed"
    },
    "tags": []
   },
   "outputs": [
    {
     "data": {
      "text/html": [
       "<style>#sk-container-id-1 {color: black;background-color: white;}#sk-container-id-1 pre{padding: 0;}#sk-container-id-1 div.sk-toggleable {background-color: white;}#sk-container-id-1 label.sk-toggleable__label {cursor: pointer;display: block;width: 100%;margin-bottom: 0;padding: 0.3em;box-sizing: border-box;text-align: center;}#sk-container-id-1 label.sk-toggleable__label-arrow:before {content: \"▸\";float: left;margin-right: 0.25em;color: #696969;}#sk-container-id-1 label.sk-toggleable__label-arrow:hover:before {color: black;}#sk-container-id-1 div.sk-estimator:hover label.sk-toggleable__label-arrow:before {color: black;}#sk-container-id-1 div.sk-toggleable__content {max-height: 0;max-width: 0;overflow: hidden;text-align: left;background-color: #f0f8ff;}#sk-container-id-1 div.sk-toggleable__content pre {margin: 0.2em;color: black;border-radius: 0.25em;background-color: #f0f8ff;}#sk-container-id-1 input.sk-toggleable__control:checked~div.sk-toggleable__content {max-height: 200px;max-width: 100%;overflow: auto;}#sk-container-id-1 input.sk-toggleable__control:checked~label.sk-toggleable__label-arrow:before {content: \"▾\";}#sk-container-id-1 div.sk-estimator input.sk-toggleable__control:checked~label.sk-toggleable__label {background-color: #d4ebff;}#sk-container-id-1 div.sk-label input.sk-toggleable__control:checked~label.sk-toggleable__label {background-color: #d4ebff;}#sk-container-id-1 input.sk-hidden--visually {border: 0;clip: rect(1px 1px 1px 1px);clip: rect(1px, 1px, 1px, 1px);height: 1px;margin: -1px;overflow: hidden;padding: 0;position: absolute;width: 1px;}#sk-container-id-1 div.sk-estimator {font-family: monospace;background-color: #f0f8ff;border: 1px dotted black;border-radius: 0.25em;box-sizing: border-box;margin-bottom: 0.5em;}#sk-container-id-1 div.sk-estimator:hover {background-color: #d4ebff;}#sk-container-id-1 div.sk-parallel-item::after {content: \"\";width: 100%;border-bottom: 1px solid gray;flex-grow: 1;}#sk-container-id-1 div.sk-label:hover label.sk-toggleable__label {background-color: #d4ebff;}#sk-container-id-1 div.sk-serial::before {content: \"\";position: absolute;border-left: 1px solid gray;box-sizing: border-box;top: 0;bottom: 0;left: 50%;z-index: 0;}#sk-container-id-1 div.sk-serial {display: flex;flex-direction: column;align-items: center;background-color: white;padding-right: 0.2em;padding-left: 0.2em;position: relative;}#sk-container-id-1 div.sk-item {position: relative;z-index: 1;}#sk-container-id-1 div.sk-parallel {display: flex;align-items: stretch;justify-content: center;background-color: white;position: relative;}#sk-container-id-1 div.sk-item::before, #sk-container-id-1 div.sk-parallel-item::before {content: \"\";position: absolute;border-left: 1px solid gray;box-sizing: border-box;top: 0;bottom: 0;left: 50%;z-index: -1;}#sk-container-id-1 div.sk-parallel-item {display: flex;flex-direction: column;z-index: 1;position: relative;background-color: white;}#sk-container-id-1 div.sk-parallel-item:first-child::after {align-self: flex-end;width: 50%;}#sk-container-id-1 div.sk-parallel-item:last-child::after {align-self: flex-start;width: 50%;}#sk-container-id-1 div.sk-parallel-item:only-child::after {width: 0;}#sk-container-id-1 div.sk-dashed-wrapped {border: 1px dashed gray;margin: 0 0.4em 0.5em 0.4em;box-sizing: border-box;padding-bottom: 0.4em;background-color: white;}#sk-container-id-1 div.sk-label label {font-family: monospace;font-weight: bold;display: inline-block;line-height: 1.2em;}#sk-container-id-1 div.sk-label-container {text-align: center;}#sk-container-id-1 div.sk-container {/* jupyter's `normalize.less` sets `[hidden] { display: none; }` but bootstrap.min.css set `[hidden] { display: none !important; }` so we also need the `!important` here to be able to override the default hidden behavior on the sphinx rendered scikit-learn.org. See: https://github.com/scikit-learn/scikit-learn/issues/21755 */display: inline-block !important;position: relative;}#sk-container-id-1 div.sk-text-repr-fallback {display: none;}</style><div id=\"sk-container-id-1\" class=\"sk-top-container\"><div class=\"sk-text-repr-fallback\"><pre>Pipeline(steps=[(&#x27;scale&#x27;, StandardScaler()),\n",
       "                (&#x27;model&#x27;,\n",
       "                 LogisticRegression(l1_ratio=0.5, max_iter=5000,\n",
       "                                    penalty=&#x27;elasticnet&#x27;, solver=&#x27;saga&#x27;))])</pre><b>In a Jupyter environment, please rerun this cell to show the HTML representation or trust the notebook. <br />On GitHub, the HTML representation is unable to render, please try loading this page with nbviewer.org.</b></div><div class=\"sk-container\" hidden><div class=\"sk-item sk-dashed-wrapped\"><div class=\"sk-label-container\"><div class=\"sk-label sk-toggleable\"><input class=\"sk-toggleable__control sk-hidden--visually\" id=\"sk-estimator-id-1\" type=\"checkbox\" ><label for=\"sk-estimator-id-1\" class=\"sk-toggleable__label sk-toggleable__label-arrow\">Pipeline</label><div class=\"sk-toggleable__content\"><pre>Pipeline(steps=[(&#x27;scale&#x27;, StandardScaler()),\n",
       "                (&#x27;model&#x27;,\n",
       "                 LogisticRegression(l1_ratio=0.5, max_iter=5000,\n",
       "                                    penalty=&#x27;elasticnet&#x27;, solver=&#x27;saga&#x27;))])</pre></div></div></div><div class=\"sk-serial\"><div class=\"sk-item\"><div class=\"sk-estimator sk-toggleable\"><input class=\"sk-toggleable__control sk-hidden--visually\" id=\"sk-estimator-id-2\" type=\"checkbox\" ><label for=\"sk-estimator-id-2\" class=\"sk-toggleable__label sk-toggleable__label-arrow\">StandardScaler</label><div class=\"sk-toggleable__content\"><pre>StandardScaler()</pre></div></div></div><div class=\"sk-item\"><div class=\"sk-estimator sk-toggleable\"><input class=\"sk-toggleable__control sk-hidden--visually\" id=\"sk-estimator-id-3\" type=\"checkbox\" ><label for=\"sk-estimator-id-3\" class=\"sk-toggleable__label sk-toggleable__label-arrow\">LogisticRegression</label><div class=\"sk-toggleable__content\"><pre>LogisticRegression(l1_ratio=0.5, max_iter=5000, penalty=&#x27;elasticnet&#x27;,\n",
       "                   solver=&#x27;saga&#x27;)</pre></div></div></div></div></div></div></div>"
      ],
      "text/plain": [
       "Pipeline(steps=[('scale', StandardScaler()),\n",
       "                ('model',\n",
       "                 LogisticRegression(l1_ratio=0.5, max_iter=5000,\n",
       "                                    penalty='elasticnet', solver='saga'))])"
      ]
     },
     "execution_count": 43,
     "metadata": {},
     "output_type": "execute_result"
    }
   ],
   "source": [
    "model.fit(X_train, y_train.values.ravel())"
   ]
  },
  {
   "cell_type": "code",
   "execution_count": 44,
   "id": "af59f8c0",
   "metadata": {
    "execution": {
     "iopub.execute_input": "2025-07-30T21:15:17.016476Z",
     "iopub.status.busy": "2025-07-30T21:15:17.015701Z",
     "iopub.status.idle": "2025-07-30T21:15:17.021320Z",
     "shell.execute_reply": "2025-07-30T21:15:17.020456Z"
    },
    "papermill": {
     "duration": 0.030389,
     "end_time": "2025-07-30T21:15:17.022807",
     "exception": false,
     "start_time": "2025-07-30T21:15:16.992418",
     "status": "completed"
    },
    "tags": []
   },
   "outputs": [],
   "source": [
    "from fairness_multiverse.universe import predict_w_threshold"
   ]
  },
  {
   "cell_type": "code",
   "execution_count": 45,
   "id": "a7cf2e16",
   "metadata": {
    "execution": {
     "iopub.execute_input": "2025-07-30T21:15:17.071035Z",
     "iopub.status.busy": "2025-07-30T21:15:17.070375Z",
     "iopub.status.idle": "2025-07-30T21:15:17.268608Z",
     "shell.execute_reply": "2025-07-30T21:15:17.267721Z"
    },
    "papermill": {
     "duration": 0.223668,
     "end_time": "2025-07-30T21:15:17.270304",
     "exception": false,
     "start_time": "2025-07-30T21:15:17.046636",
     "status": "completed"
    },
    "tags": []
   },
   "outputs": [
    {
     "data": {
      "text/plain": [
       "0.8511648645635937"
      ]
     },
     "execution_count": 45,
     "metadata": {},
     "output_type": "execute_result"
    }
   ],
   "source": [
    "probs_test = model.predict_proba(X_test)\n",
    "\n",
    "'''\n",
    "Below code returns a boolean array (or binary 0/1 array depending on how it’s used) where each element \n",
    "is True if the probability of class 1 is greater than or equal to the threshold, and False otherwise.\n",
    "'''\n",
    "y_pred_default = predict_w_threshold(probs_test, 0.5)\n",
    "\n",
    "from sklearn.metrics import accuracy_score\n",
    "\n",
    "# Naive prediction\n",
    "accuracy_score(y_true = y_true, y_pred = y_pred_default)"
   ]
  },
  {
   "cell_type": "code",
   "execution_count": 46,
   "id": "081964c3",
   "metadata": {
    "execution": {
     "iopub.execute_input": "2025-07-30T21:15:17.316946Z",
     "iopub.status.busy": "2025-07-30T21:15:17.316041Z",
     "iopub.status.idle": "2025-07-30T21:15:17.499665Z",
     "shell.execute_reply": "2025-07-30T21:15:17.498708Z"
    },
    "papermill": {
     "duration": 0.208185,
     "end_time": "2025-07-30T21:15:17.501333",
     "exception": false,
     "start_time": "2025-07-30T21:15:17.293148",
     "status": "completed"
    },
    "tags": []
   },
   "outputs": [
    {
     "data": {
      "text/plain": [
       "array([0, 0, 0, ..., 0, 0, 0])"
      ]
     },
     "execution_count": 46,
     "metadata": {},
     "output_type": "execute_result"
    }
   ],
   "source": [
    "model.predict(X_test)"
   ]
  },
  {
   "cell_type": "markdown",
   "id": "56c9705b",
   "metadata": {
    "papermill": {
     "duration": 0.022679,
     "end_time": "2025-07-30T21:15:17.547620",
     "exception": false,
     "start_time": "2025-07-30T21:15:17.524941",
     "status": "completed"
    },
    "tags": []
   },
   "source": [
    "# Conformal Prediction"
   ]
  },
  {
   "cell_type": "code",
   "execution_count": 47,
   "id": "160ec6ff",
   "metadata": {
    "execution": {
     "iopub.execute_input": "2025-07-30T21:15:17.595737Z",
     "iopub.status.busy": "2025-07-30T21:15:17.594953Z",
     "iopub.status.idle": "2025-07-30T21:15:17.600518Z",
     "shell.execute_reply": "2025-07-30T21:15:17.599513Z"
    },
    "papermill": {
     "duration": 0.031296,
     "end_time": "2025-07-30T21:15:17.602148",
     "exception": false,
     "start_time": "2025-07-30T21:15:17.570852",
     "status": "completed"
    },
    "tags": []
   },
   "outputs": [],
   "source": [
    "# Miscoverage level for conformal prediction (10% allowed error rate => 90% target coverage)\n",
    "alpha = 0.1"
   ]
  },
  {
   "cell_type": "code",
   "execution_count": 48,
   "id": "eadf4555-3dd3-440e-8e35-f82a4ad9f855",
   "metadata": {
    "execution": {
     "iopub.execute_input": "2025-07-30T21:15:17.650443Z",
     "iopub.status.busy": "2025-07-30T21:15:17.650004Z",
     "iopub.status.idle": "2025-07-30T21:15:17.836133Z",
     "shell.execute_reply": "2025-07-30T21:15:17.835240Z"
    },
    "papermill": {
     "duration": 0.212065,
     "end_time": "2025-07-30T21:15:17.838307",
     "exception": false,
     "start_time": "2025-07-30T21:15:17.626242",
     "status": "completed"
    },
    "tags": []
   },
   "outputs": [],
   "source": [
    "probs_calib = model.predict_proba(X_calib)"
   ]
  },
  {
   "cell_type": "code",
   "execution_count": 49,
   "id": "2ed93547-6d5d-4983-9b36-1ecb300da49a",
   "metadata": {
    "execution": {
     "iopub.execute_input": "2025-07-30T21:15:17.888931Z",
     "iopub.status.busy": "2025-07-30T21:15:17.887992Z",
     "iopub.status.idle": "2025-07-30T21:15:17.893252Z",
     "shell.execute_reply": "2025-07-30T21:15:17.892459Z"
    },
    "papermill": {
     "duration": 0.030258,
     "end_time": "2025-07-30T21:15:17.894840",
     "exception": false,
     "start_time": "2025-07-30T21:15:17.864582",
     "status": "completed"
    },
    "tags": []
   },
   "outputs": [],
   "source": [
    "y_calib = y_calib.values.ravel().astype(int)"
   ]
  },
  {
   "cell_type": "code",
   "execution_count": 50,
   "id": "65d1320d-f588-4b38-9072-62af1ae97f7d",
   "metadata": {
    "execution": {
     "iopub.execute_input": "2025-07-30T21:15:17.941272Z",
     "iopub.status.busy": "2025-07-30T21:15:17.940758Z",
     "iopub.status.idle": "2025-07-30T21:15:17.947396Z",
     "shell.execute_reply": "2025-07-30T21:15:17.946487Z"
    },
    "papermill": {
     "duration": 0.031814,
     "end_time": "2025-07-30T21:15:17.950097",
     "exception": false,
     "start_time": "2025-07-30T21:15:17.918283",
     "status": "completed"
    },
    "tags": []
   },
   "outputs": [],
   "source": [
    "from fairness_multiverse.conformal import compute_nc_scores\n",
    "\n",
    "# Compute nonconformity scores on calibration set (1 - probability of true class)\n",
    "nc_scores = compute_nc_scores(probs_calib, y_calib)"
   ]
  },
  {
   "cell_type": "code",
   "execution_count": 51,
   "id": "df3b8ca3-53b7-43d5-9667-7c85da7aeda2",
   "metadata": {
    "execution": {
     "iopub.execute_input": "2025-07-30T21:15:17.978130Z",
     "iopub.status.busy": "2025-07-30T21:15:17.977707Z",
     "iopub.status.idle": "2025-07-30T21:15:17.984136Z",
     "shell.execute_reply": "2025-07-30T21:15:17.983245Z"
    },
    "papermill": {
     "duration": 0.022049,
     "end_time": "2025-07-30T21:15:17.985887",
     "exception": false,
     "start_time": "2025-07-30T21:15:17.963838",
     "status": "completed"
    },
    "tags": []
   },
   "outputs": [],
   "source": [
    "from fairness_multiverse.conformal import find_threshold\n",
    "\n",
    "# Find conformal threshold q_hat for the given alpha (split conformal method)\n",
    "q_hat = find_threshold(nc_scores, alpha)"
   ]
  },
  {
   "cell_type": "code",
   "execution_count": 52,
   "id": "4d29e6c1-0ef6-4aa4-b8fe-4fe79b0d033a",
   "metadata": {
    "execution": {
     "iopub.execute_input": "2025-07-30T21:15:18.034899Z",
     "iopub.status.busy": "2025-07-30T21:15:18.034481Z",
     "iopub.status.idle": "2025-07-30T21:15:18.051120Z",
     "shell.execute_reply": "2025-07-30T21:15:18.050114Z"
    },
    "papermill": {
     "duration": 0.042444,
     "end_time": "2025-07-30T21:15:18.052761",
     "exception": false,
     "start_time": "2025-07-30T21:15:18.010317",
     "status": "completed"
    },
    "tags": []
   },
   "outputs": [
    {
     "data": {
      "text/plain": [
       "0.6925585770392695"
      ]
     },
     "execution_count": 52,
     "metadata": {},
     "output_type": "execute_result"
    }
   ],
   "source": [
    "q_hat"
   ]
  },
  {
   "cell_type": "code",
   "execution_count": 53,
   "id": "92460794-cdac-4be2-ba28-f28c0515a6fb",
   "metadata": {
    "execution": {
     "iopub.execute_input": "2025-07-30T21:15:18.091485Z",
     "iopub.status.busy": "2025-07-30T21:15:18.091165Z",
     "iopub.status.idle": "2025-07-30T21:15:18.986557Z",
     "shell.execute_reply": "2025-07-30T21:15:18.985535Z"
    },
    "papermill": {
     "duration": 0.910394,
     "end_time": "2025-07-30T21:15:18.988294",
     "exception": false,
     "start_time": "2025-07-30T21:15:18.077900",
     "status": "completed"
    },
    "tags": []
   },
   "outputs": [],
   "source": [
    "from fairness_multiverse.conformal import predict_conformal_sets\n",
    "\n",
    "# Generate prediction sets for each test example\n",
    "pred_sets = predict_conformal_sets(model, X_test, q_hat)"
   ]
  },
  {
   "cell_type": "code",
   "execution_count": 54,
   "id": "d90c9a65-e6db-4f5d-80cd-e68fb7e46829",
   "metadata": {
    "execution": {
     "iopub.execute_input": "2025-07-30T21:15:19.038239Z",
     "iopub.status.busy": "2025-07-30T21:15:19.037684Z",
     "iopub.status.idle": "2025-07-30T21:15:19.043110Z",
     "shell.execute_reply": "2025-07-30T21:15:19.042184Z"
    },
    "papermill": {
     "duration": 0.032,
     "end_time": "2025-07-30T21:15:19.044882",
     "exception": false,
     "start_time": "2025-07-30T21:15:19.012882",
     "status": "completed"
    },
    "tags": []
   },
   "outputs": [],
   "source": [
    "y_true = y_true.squeeze()"
   ]
  },
  {
   "cell_type": "code",
   "execution_count": 55,
   "id": "3a58a54a-1e68-46b9-927a-df01f18aebc8",
   "metadata": {
    "execution": {
     "iopub.execute_input": "2025-07-30T21:15:19.096716Z",
     "iopub.status.busy": "2025-07-30T21:15:19.096137Z",
     "iopub.status.idle": "2025-07-30T21:15:20.183165Z",
     "shell.execute_reply": "2025-07-30T21:15:20.182092Z"
    },
    "papermill": {
     "duration": 1.114463,
     "end_time": "2025-07-30T21:15:20.185256",
     "exception": false,
     "start_time": "2025-07-30T21:15:19.070793",
     "status": "completed"
    },
    "tags": []
   },
   "outputs": [],
   "source": [
    "from fairness_multiverse.conformal import evaluate_sets\n",
    "\n",
    "# Evaluate coverage and average set size on test data\n",
    "metrics = evaluate_sets(pred_sets, y_true)"
   ]
  },
  {
   "cell_type": "markdown",
   "id": "2b569c12-9aaa-4c88-98c9-bbcd0cf3ebb8",
   "metadata": {
    "papermill": {
     "duration": 0.023529,
     "end_time": "2025-07-30T21:15:20.235141",
     "exception": false,
     "start_time": "2025-07-30T21:15:20.211612",
     "status": "completed"
    },
    "tags": []
   },
   "source": [
    "# CP Metrics"
   ]
  },
  {
   "cell_type": "code",
   "execution_count": 56,
   "id": "5ce0a5cb-201f-45a0-ade5-94c7f0bd6095",
   "metadata": {
    "execution": {
     "iopub.execute_input": "2025-07-30T21:15:20.285241Z",
     "iopub.status.busy": "2025-07-30T21:15:20.284691Z",
     "iopub.status.idle": "2025-07-30T21:15:20.291316Z",
     "shell.execute_reply": "2025-07-30T21:15:20.290457Z"
    },
    "papermill": {
     "duration": 0.033804,
     "end_time": "2025-07-30T21:15:20.292869",
     "exception": false,
     "start_time": "2025-07-30T21:15:20.259065",
     "status": "completed"
    },
    "tags": []
   },
   "outputs": [
    {
     "data": {
      "text/plain": [
       "{'coverage': 0.9104113253817857, 'avg_size': 1.1482443428826217}"
      ]
     },
     "execution_count": 56,
     "metadata": {},
     "output_type": "execute_result"
    }
   ],
   "source": [
    "metrics"
   ]
  },
  {
   "cell_type": "code",
   "execution_count": 57,
   "id": "9b9a838d-31c9-430b-ae14-12baee460d17",
   "metadata": {
    "execution": {
     "iopub.execute_input": "2025-07-30T21:15:20.342649Z",
     "iopub.status.busy": "2025-07-30T21:15:20.342011Z",
     "iopub.status.idle": "2025-07-30T21:15:20.348208Z",
     "shell.execute_reply": "2025-07-30T21:15:20.347343Z"
    },
    "papermill": {
     "duration": 0.033211,
     "end_time": "2025-07-30T21:15:20.349739",
     "exception": false,
     "start_time": "2025-07-30T21:15:20.316528",
     "status": "completed"
    },
    "tags": []
   },
   "outputs": [],
   "source": [
    "example_universe = universe.copy()\n",
    "universe_training_year = example_universe.get(\"training_year\")\n",
    "universe_training_size = example_universe.get(\"training_size\")\n",
    "universe_scale = example_universe.get(\"scale\")\n",
    "universe_model = example_universe.get(\"model\")\n",
    "universe_exclude_features = example_universe.get(\"exclude_features\")\n",
    "universe_exclude_subgroups = example_universe.get(\"exclude_subgroups\")"
   ]
  },
  {
   "cell_type": "code",
   "execution_count": 58,
   "id": "f4b6a8ac-9dc0-4245-8a91-5b3b5999c4f9",
   "metadata": {
    "execution": {
     "iopub.execute_input": "2025-07-30T21:15:20.398938Z",
     "iopub.status.busy": "2025-07-30T21:15:20.398105Z",
     "iopub.status.idle": "2025-07-30T21:15:20.404788Z",
     "shell.execute_reply": "2025-07-30T21:15:20.403940Z"
    },
    "papermill": {
     "duration": 0.033554,
     "end_time": "2025-07-30T21:15:20.406217",
     "exception": false,
     "start_time": "2025-07-30T21:15:20.372663",
     "status": "completed"
    },
    "tags": []
   },
   "outputs": [],
   "source": [
    "cp_metrics_dict = {\n",
    "    \"universe_id\": [universe_id],\n",
    "    \"universe_training_year\": [universe_training_year],\n",
    "    \"universe_training_size\": [universe_training_size],\n",
    "    \"universe_scale\": [universe_scale],\n",
    "    \"universe_model\": [universe_model],\n",
    "    \"universe_exclude_features\": [universe_exclude_features],\n",
    "    \"universe_exclude_subgroups\": [universe_exclude_subgroups],\n",
    "    \"q_hat\": [q_hat],\n",
    "    \"coverage\": [metrics[\"coverage\"]],\n",
    "    \"avg_size\": [metrics[\"avg_size\"]],\n",
    "}"
   ]
  },
  {
   "cell_type": "code",
   "execution_count": 59,
   "id": "908acbb1-0371-4915-85ca-3fa520d2efe2",
   "metadata": {
    "execution": {
     "iopub.execute_input": "2025-07-30T21:15:20.457917Z",
     "iopub.status.busy": "2025-07-30T21:15:20.457103Z",
     "iopub.status.idle": "2025-07-30T21:15:20.464735Z",
     "shell.execute_reply": "2025-07-30T21:15:20.463819Z"
    },
    "papermill": {
     "duration": 0.036119,
     "end_time": "2025-07-30T21:15:20.466237",
     "exception": false,
     "start_time": "2025-07-30T21:15:20.430118",
     "status": "completed"
    },
    "tags": []
   },
   "outputs": [
    {
     "data": {
      "text/plain": [
       "{'universe_id': ['064ad2a4fafecedfb5ce6b011e980f60'],\n",
       " 'universe_training_year': ['2010_14'],\n",
       " 'universe_training_size': ['5k'],\n",
       " 'universe_scale': ['scale'],\n",
       " 'universe_model': ['elasticnet'],\n",
       " 'universe_exclude_features': ['age'],\n",
       " 'universe_exclude_subgroups': ['drop-non-german'],\n",
       " 'q_hat': [0.6925585770392695],\n",
       " 'coverage': [0.9104113253817857],\n",
       " 'avg_size': [1.1482443428826217]}"
      ]
     },
     "execution_count": 59,
     "metadata": {},
     "output_type": "execute_result"
    }
   ],
   "source": [
    "cp_metrics_dict"
   ]
  },
  {
   "cell_type": "code",
   "execution_count": 60,
   "id": "33007efc-14e9-4ec6-97ac-56a455c82265",
   "metadata": {
    "execution": {
     "iopub.execute_input": "2025-07-30T21:15:20.514670Z",
     "iopub.status.busy": "2025-07-30T21:15:20.514071Z",
     "iopub.status.idle": "2025-07-30T21:15:20.520450Z",
     "shell.execute_reply": "2025-07-30T21:15:20.519554Z"
    },
    "papermill": {
     "duration": 0.031807,
     "end_time": "2025-07-30T21:15:20.521931",
     "exception": false,
     "start_time": "2025-07-30T21:15:20.490124",
     "status": "completed"
    },
    "tags": []
   },
   "outputs": [],
   "source": [
    "cp_metrics_df = pd.DataFrame(cp_metrics_dict)"
   ]
  },
  {
   "cell_type": "code",
   "execution_count": 61,
   "id": "db12611b-57b2-4910-b9d0-355adfd6e7bf",
   "metadata": {
    "execution": {
     "iopub.execute_input": "2025-07-30T21:15:20.571210Z",
     "iopub.status.busy": "2025-07-30T21:15:20.570348Z",
     "iopub.status.idle": "2025-07-30T21:15:20.588953Z",
     "shell.execute_reply": "2025-07-30T21:15:20.587856Z"
    },
    "papermill": {
     "duration": 0.045271,
     "end_time": "2025-07-30T21:15:20.590588",
     "exception": false,
     "start_time": "2025-07-30T21:15:20.545317",
     "status": "completed"
    },
    "tags": []
   },
   "outputs": [
    {
     "data": {
      "text/html": [
       "<div>\n",
       "<style scoped>\n",
       "    .dataframe tbody tr th:only-of-type {\n",
       "        vertical-align: middle;\n",
       "    }\n",
       "\n",
       "    .dataframe tbody tr th {\n",
       "        vertical-align: top;\n",
       "    }\n",
       "\n",
       "    .dataframe thead th {\n",
       "        text-align: right;\n",
       "    }\n",
       "</style>\n",
       "<table border=\"1\" class=\"dataframe\">\n",
       "  <thead>\n",
       "    <tr style=\"text-align: right;\">\n",
       "      <th></th>\n",
       "      <th>universe_id</th>\n",
       "      <th>universe_training_year</th>\n",
       "      <th>universe_training_size</th>\n",
       "      <th>universe_scale</th>\n",
       "      <th>universe_model</th>\n",
       "      <th>universe_exclude_features</th>\n",
       "      <th>universe_exclude_subgroups</th>\n",
       "      <th>q_hat</th>\n",
       "      <th>coverage</th>\n",
       "      <th>avg_size</th>\n",
       "    </tr>\n",
       "  </thead>\n",
       "  <tbody>\n",
       "    <tr>\n",
       "      <th>0</th>\n",
       "      <td>064ad2a4fafecedfb5ce6b011e980f60</td>\n",
       "      <td>2010_14</td>\n",
       "      <td>5k</td>\n",
       "      <td>scale</td>\n",
       "      <td>elasticnet</td>\n",
       "      <td>age</td>\n",
       "      <td>drop-non-german</td>\n",
       "      <td>0.692559</td>\n",
       "      <td>0.910411</td>\n",
       "      <td>1.148244</td>\n",
       "    </tr>\n",
       "  </tbody>\n",
       "</table>\n",
       "</div>"
      ],
      "text/plain": [
       "                        universe_id universe_training_year  \\\n",
       "0  064ad2a4fafecedfb5ce6b011e980f60                2010_14   \n",
       "\n",
       "  universe_training_size universe_scale universe_model  \\\n",
       "0                     5k          scale     elasticnet   \n",
       "\n",
       "  universe_exclude_features universe_exclude_subgroups     q_hat  coverage  \\\n",
       "0                       age            drop-non-german  0.692559  0.910411   \n",
       "\n",
       "   avg_size  \n",
       "0  1.148244  "
      ]
     },
     "execution_count": 61,
     "metadata": {},
     "output_type": "execute_result"
    }
   ],
   "source": [
    "cp_metrics_df"
   ]
  },
  {
   "cell_type": "code",
   "execution_count": 62,
   "id": "b7fbde55-a0a1-47e4-9af6-fe4a17fa8c61",
   "metadata": {
    "execution": {
     "iopub.execute_input": "2025-07-30T21:15:20.639968Z",
     "iopub.status.busy": "2025-07-30T21:15:20.639140Z",
     "iopub.status.idle": "2025-07-30T21:15:20.643992Z",
     "shell.execute_reply": "2025-07-30T21:15:20.643142Z"
    },
    "papermill": {
     "duration": 0.031477,
     "end_time": "2025-07-30T21:15:20.645874",
     "exception": false,
     "start_time": "2025-07-30T21:15:20.614397",
     "status": "completed"
    },
    "tags": []
   },
   "outputs": [],
   "source": [
    "# Conditional Coverage & looking at subgroups"
   ]
  },
  {
   "cell_type": "code",
   "execution_count": 63,
   "id": "027ae886-68dd-4141-96c7-805a5450e1ef",
   "metadata": {
    "execution": {
     "iopub.execute_input": "2025-07-30T21:15:20.695932Z",
     "iopub.status.busy": "2025-07-30T21:15:20.695490Z",
     "iopub.status.idle": "2025-07-30T21:15:20.901861Z",
     "shell.execute_reply": "2025-07-30T21:15:20.900918Z"
    },
    "papermill": {
     "duration": 0.232621,
     "end_time": "2025-07-30T21:15:20.903630",
     "exception": false,
     "start_time": "2025-07-30T21:15:20.671009",
     "status": "completed"
    },
    "tags": []
   },
   "outputs": [],
   "source": [
    "from fairness_multiverse.conformal import build_cp_groups\n",
    "\n",
    "cp_groups_df = build_cp_groups(pred_sets, y_true, X_test.index, org_test)\n",
    "#needs universe_id and setting"
   ]
  },
  {
   "cell_type": "code",
   "execution_count": 64,
   "id": "01d5802c-663a-4d1f-9d69-e036faaffbf7",
   "metadata": {
    "execution": {
     "iopub.execute_input": "2025-07-30T21:15:20.955846Z",
     "iopub.status.busy": "2025-07-30T21:15:20.955351Z",
     "iopub.status.idle": "2025-07-30T21:15:20.960751Z",
     "shell.execute_reply": "2025-07-30T21:15:20.959442Z"
    },
    "papermill": {
     "duration": 0.034108,
     "end_time": "2025-07-30T21:15:20.962359",
     "exception": false,
     "start_time": "2025-07-30T21:15:20.928251",
     "status": "completed"
    },
    "tags": []
   },
   "outputs": [],
   "source": [
    "#delete\n",
    "#cp_groups_df"
   ]
  },
  {
   "cell_type": "code",
   "execution_count": 65,
   "id": "fa424af1-d1eb-443d-b717-2d279ada8408",
   "metadata": {
    "execution": {
     "iopub.execute_input": "2025-07-30T21:15:21.015428Z",
     "iopub.status.busy": "2025-07-30T21:15:21.015042Z",
     "iopub.status.idle": "2025-07-30T21:15:21.020093Z",
     "shell.execute_reply": "2025-07-30T21:15:21.019255Z"
    },
    "papermill": {
     "duration": 0.033148,
     "end_time": "2025-07-30T21:15:21.021638",
     "exception": false,
     "start_time": "2025-07-30T21:15:20.988490",
     "status": "completed"
    },
    "tags": []
   },
   "outputs": [],
   "source": [
    "#delete\n",
    "#percentage = (cp_groups_df['nongerman_female'] == 1).mean() * 100\n",
    "#print(percentage)\n"
   ]
  },
  {
   "cell_type": "code",
   "execution_count": 66,
   "id": "6cbdab96-b2b2-45af-ad54-d0516db2e28d",
   "metadata": {
    "execution": {
     "iopub.execute_input": "2025-07-30T21:15:21.072107Z",
     "iopub.status.busy": "2025-07-30T21:15:21.071615Z",
     "iopub.status.idle": "2025-07-30T21:15:22.125550Z",
     "shell.execute_reply": "2025-07-30T21:15:22.124813Z"
    },
    "papermill": {
     "duration": 1.080384,
     "end_time": "2025-07-30T21:15:22.126965",
     "exception": false,
     "start_time": "2025-07-30T21:15:21.046581",
     "status": "completed"
    },
    "tags": []
   },
   "outputs": [],
   "source": [
    "# Define covered = 1 if true_label is in the predicted set\n",
    "cp_groups_df['covered'] = cp_groups_df.apply(\n",
    "    lambda r: int(r['true_label'] in r['pred_set']),\n",
    "    axis=1\n",
    ")"
   ]
  },
  {
   "cell_type": "code",
   "execution_count": 67,
   "id": "338ff529-1a6b-4b87-a931-8e4788d52aad",
   "metadata": {
    "execution": {
     "iopub.execute_input": "2025-07-30T21:15:22.155601Z",
     "iopub.status.busy": "2025-07-30T21:15:22.154841Z",
     "iopub.status.idle": "2025-07-30T21:15:22.159120Z",
     "shell.execute_reply": "2025-07-30T21:15:22.158356Z"
    },
    "papermill": {
     "duration": 0.019733,
     "end_time": "2025-07-30T21:15:22.160667",
     "exception": false,
     "start_time": "2025-07-30T21:15:22.140934",
     "status": "completed"
    },
    "tags": []
   },
   "outputs": [],
   "source": [
    "#cp_groups_df"
   ]
  },
  {
   "cell_type": "code",
   "execution_count": 68,
   "id": "90032e27-66df-4540-9169-4e89cfbaa758",
   "metadata": {
    "execution": {
     "iopub.execute_input": "2025-07-30T21:15:22.189281Z",
     "iopub.status.busy": "2025-07-30T21:15:22.188583Z",
     "iopub.status.idle": "2025-07-30T21:15:22.197555Z",
     "shell.execute_reply": "2025-07-30T21:15:22.196773Z"
    },
    "papermill": {
     "duration": 0.024853,
     "end_time": "2025-07-30T21:15:22.198916",
     "exception": false,
     "start_time": "2025-07-30T21:15:22.174063",
     "status": "completed"
    },
    "tags": []
   },
   "outputs": [],
   "source": [
    "subgroups = ['frau1','nongerman','nongerman_male','nongerman_female']\n",
    "\n",
    "# Conditional coverage for subgroup==1\n",
    "cond_coverage = {\n",
    "    g: cp_groups_df.loc[cp_groups_df[g]==1, 'covered'].mean()\n",
    "    for g in subgroups\n",
    "}"
   ]
  },
  {
   "cell_type": "code",
   "execution_count": 69,
   "id": "1e348fb1-b9c3-45bc-ba23-f016827a7e0d",
   "metadata": {
    "execution": {
     "iopub.execute_input": "2025-07-30T21:15:22.227032Z",
     "iopub.status.busy": "2025-07-30T21:15:22.226382Z",
     "iopub.status.idle": "2025-07-30T21:15:22.232381Z",
     "shell.execute_reply": "2025-07-30T21:15:22.231514Z"
    },
    "papermill": {
     "duration": 0.021193,
     "end_time": "2025-07-30T21:15:22.233922",
     "exception": false,
     "start_time": "2025-07-30T21:15:22.212729",
     "status": "completed"
    },
    "tags": []
   },
   "outputs": [
    {
     "data": {
      "text/plain": [
       "{'frau1': 0.9073999191265669,\n",
       " 'nongerman': 0.9081569640150452,\n",
       " 'nongerman_male': 0.9250652976672972,\n",
       " 'nongerman_female': 0.8801788375558868}"
      ]
     },
     "execution_count": 69,
     "metadata": {},
     "output_type": "execute_result"
    }
   ],
   "source": [
    "cond_coverage"
   ]
  },
  {
   "cell_type": "code",
   "execution_count": 70,
   "id": "f5093324-c3dd-4d63-bc4c-8d945e5c8bbb",
   "metadata": {
    "execution": {
     "iopub.execute_input": "2025-07-30T21:15:22.288095Z",
     "iopub.status.busy": "2025-07-30T21:15:22.287599Z",
     "iopub.status.idle": "2025-07-30T21:15:22.294691Z",
     "shell.execute_reply": "2025-07-30T21:15:22.293993Z"
    },
    "papermill": {
     "duration": 0.035362,
     "end_time": "2025-07-30T21:15:22.296012",
     "exception": false,
     "start_time": "2025-07-30T21:15:22.260650",
     "status": "completed"
    },
    "tags": []
   },
   "outputs": [],
   "source": [
    "for subgroup, cov in cond_coverage.items():\n",
    "    cp_metrics_df[f\"cov_{subgroup}\"] = cov"
   ]
  },
  {
   "cell_type": "code",
   "execution_count": 71,
   "id": "6e872e10-dbe5-49e8-b554-5030c98ff75d",
   "metadata": {
    "execution": {
     "iopub.execute_input": "2025-07-30T21:15:22.324904Z",
     "iopub.status.busy": "2025-07-30T21:15:22.324436Z",
     "iopub.status.idle": "2025-07-30T21:15:22.338182Z",
     "shell.execute_reply": "2025-07-30T21:15:22.337499Z"
    },
    "papermill": {
     "duration": 0.02891,
     "end_time": "2025-07-30T21:15:22.339380",
     "exception": false,
     "start_time": "2025-07-30T21:15:22.310470",
     "status": "completed"
    },
    "tags": []
   },
   "outputs": [
    {
     "data": {
      "text/html": [
       "<div>\n",
       "<style scoped>\n",
       "    .dataframe tbody tr th:only-of-type {\n",
       "        vertical-align: middle;\n",
       "    }\n",
       "\n",
       "    .dataframe tbody tr th {\n",
       "        vertical-align: top;\n",
       "    }\n",
       "\n",
       "    .dataframe thead th {\n",
       "        text-align: right;\n",
       "    }\n",
       "</style>\n",
       "<table border=\"1\" class=\"dataframe\">\n",
       "  <thead>\n",
       "    <tr style=\"text-align: right;\">\n",
       "      <th></th>\n",
       "      <th>universe_id</th>\n",
       "      <th>universe_training_year</th>\n",
       "      <th>universe_training_size</th>\n",
       "      <th>universe_scale</th>\n",
       "      <th>universe_model</th>\n",
       "      <th>universe_exclude_features</th>\n",
       "      <th>universe_exclude_subgroups</th>\n",
       "      <th>q_hat</th>\n",
       "      <th>coverage</th>\n",
       "      <th>avg_size</th>\n",
       "      <th>cov_frau1</th>\n",
       "      <th>cov_nongerman</th>\n",
       "      <th>cov_nongerman_male</th>\n",
       "      <th>cov_nongerman_female</th>\n",
       "    </tr>\n",
       "  </thead>\n",
       "  <tbody>\n",
       "    <tr>\n",
       "      <th>0</th>\n",
       "      <td>064ad2a4fafecedfb5ce6b011e980f60</td>\n",
       "      <td>2010_14</td>\n",
       "      <td>5k</td>\n",
       "      <td>scale</td>\n",
       "      <td>elasticnet</td>\n",
       "      <td>age</td>\n",
       "      <td>drop-non-german</td>\n",
       "      <td>0.692559</td>\n",
       "      <td>0.910411</td>\n",
       "      <td>1.148244</td>\n",
       "      <td>0.9074</td>\n",
       "      <td>0.908157</td>\n",
       "      <td>0.925065</td>\n",
       "      <td>0.880179</td>\n",
       "    </tr>\n",
       "  </tbody>\n",
       "</table>\n",
       "</div>"
      ],
      "text/plain": [
       "                        universe_id universe_training_year  \\\n",
       "0  064ad2a4fafecedfb5ce6b011e980f60                2010_14   \n",
       "\n",
       "  universe_training_size universe_scale universe_model  \\\n",
       "0                     5k          scale     elasticnet   \n",
       "\n",
       "  universe_exclude_features universe_exclude_subgroups     q_hat  coverage  \\\n",
       "0                       age            drop-non-german  0.692559  0.910411   \n",
       "\n",
       "   avg_size  cov_frau1  cov_nongerman  cov_nongerman_male  \\\n",
       "0  1.148244     0.9074       0.908157            0.925065   \n",
       "\n",
       "   cov_nongerman_female  \n",
       "0              0.880179  "
      ]
     },
     "execution_count": 71,
     "metadata": {},
     "output_type": "execute_result"
    }
   ],
   "source": [
    "cp_metrics_df"
   ]
  },
  {
   "cell_type": "markdown",
   "id": "33774451",
   "metadata": {
    "papermill": {
     "duration": 0.013339,
     "end_time": "2025-07-30T21:15:22.366808",
     "exception": false,
     "start_time": "2025-07-30T21:15:22.353469",
     "status": "completed"
    },
    "tags": []
   },
   "source": [
    "# (Fairness) Metrics"
   ]
  },
  {
   "cell_type": "code",
   "execution_count": 72,
   "id": "debc5d62",
   "metadata": {
    "execution": {
     "iopub.execute_input": "2025-07-30T21:15:22.394903Z",
     "iopub.status.busy": "2025-07-30T21:15:22.394522Z",
     "iopub.status.idle": "2025-07-30T21:15:22.416580Z",
     "shell.execute_reply": "2025-07-30T21:15:22.415598Z"
    },
    "papermill": {
     "duration": 0.037936,
     "end_time": "2025-07-30T21:15:22.418223",
     "exception": false,
     "start_time": "2025-07-30T21:15:22.380287",
     "status": "completed"
    },
    "tags": []
   },
   "outputs": [],
   "source": [
    "# do I need to include maxdeutsch1.missing?\n",
    "\n",
    "import numpy as np\n",
    "\n",
    "colname_to_bin = \"maxdeutsch1\"\n",
    "majority_value = org_train[colname_to_bin].mode()[0]\n",
    "\n",
    "org_test[\"majmin\"] = np.where(org_test[colname_to_bin] == majority_value, \"majority\", \"minority\")"
   ]
  },
  {
   "cell_type": "code",
   "execution_count": 73,
   "id": "06a50de5",
   "metadata": {
    "execution": {
     "iopub.execute_input": "2025-07-30T21:15:22.466446Z",
     "iopub.status.busy": "2025-07-30T21:15:22.465953Z",
     "iopub.status.idle": "2025-07-30T21:15:24.272402Z",
     "shell.execute_reply": "2025-07-30T21:15:24.271403Z"
    },
    "papermill": {
     "duration": 1.8286,
     "end_time": "2025-07-30T21:15:24.274178",
     "exception": false,
     "start_time": "2025-07-30T21:15:22.445578",
     "status": "completed"
    },
    "tags": []
   },
   "outputs": [],
   "source": [
    "example_universe = universe.copy()\n",
    "example_universe[\"cutoff\"] = example_universe[\"cutoff\"][0]\n",
    "example_universe[\"eval_fairness_grouping\"] = example_universe[\"eval_fairness_grouping\"][0]\n",
    "fairness_dict, metric_frame = universe_analysis.compute_metrics(\n",
    "    example_universe,\n",
    "    y_pred_prob=probs_test,\n",
    "    y_test=y_true,\n",
    "    org_test=org_test,\n",
    ")"
   ]
  },
  {
   "cell_type": "markdown",
   "id": "f95d4e02",
   "metadata": {
    "papermill": {
     "duration": 0.031033,
     "end_time": "2025-07-30T21:15:24.333580",
     "exception": false,
     "start_time": "2025-07-30T21:15:24.302547",
     "status": "completed"
    },
    "tags": []
   },
   "source": [
    "# Overall"
   ]
  },
  {
   "cell_type": "markdown",
   "id": "bdee4871",
   "metadata": {
    "papermill": {
     "duration": 0.036863,
     "end_time": "2025-07-30T21:15:24.403324",
     "exception": false,
     "start_time": "2025-07-30T21:15:24.366461",
     "status": "completed"
    },
    "tags": []
   },
   "source": [
    "Fairness\n",
    "Main fairness target: Equalized Odds. Seems to be a better fit than equal opportunity, since we're not only interested in Y = 1. Seems to be a better fit than demographic parity, since we also care about accuracy, not just equal distribution of preds.\n",
    "\n",
    "Pick column for computation of fairness metrics\n",
    "\n",
    "Performance\n",
    "Overall performance measures, most interesting in relation to the measures split by group below"
   ]
  },
  {
   "cell_type": "code",
   "execution_count": 74,
   "id": "c4e067c6",
   "metadata": {
    "execution": {
     "iopub.execute_input": "2025-07-30T21:15:24.458900Z",
     "iopub.status.busy": "2025-07-30T21:15:24.458234Z",
     "iopub.status.idle": "2025-07-30T21:15:24.468177Z",
     "shell.execute_reply": "2025-07-30T21:15:24.467205Z"
    },
    "papermill": {
     "duration": 0.038952,
     "end_time": "2025-07-30T21:15:24.469828",
     "exception": false,
     "start_time": "2025-07-30T21:15:24.430876",
     "status": "completed"
    },
    "tags": []
   },
   "outputs": [
    {
     "data": {
      "text/plain": [
       "accuracy                   0.222684\n",
       "balanced accuracy          0.544848\n",
       "f1                         0.244062\n",
       "precision                  0.139425\n",
       "false positive rate        0.888494\n",
       "false negative rate        0.021811\n",
       "selection rate             0.900000\n",
       "count                  89710.000000\n",
       "dtype: float64"
      ]
     },
     "execution_count": 74,
     "metadata": {},
     "output_type": "execute_result"
    }
   ],
   "source": [
    "metric_frame.overall"
   ]
  },
  {
   "cell_type": "markdown",
   "id": "e968fe9d",
   "metadata": {
    "papermill": {
     "duration": 0.02618,
     "end_time": "2025-07-30T21:15:24.522727",
     "exception": false,
     "start_time": "2025-07-30T21:15:24.496547",
     "status": "completed"
    },
    "tags": []
   },
   "source": [
    "By Group"
   ]
  },
  {
   "cell_type": "code",
   "execution_count": 75,
   "id": "ec325bce",
   "metadata": {
    "execution": {
     "iopub.execute_input": "2025-07-30T21:15:24.575694Z",
     "iopub.status.busy": "2025-07-30T21:15:24.575174Z",
     "iopub.status.idle": "2025-07-30T21:15:24.592688Z",
     "shell.execute_reply": "2025-07-30T21:15:24.591658Z"
    },
    "papermill": {
     "duration": 0.045823,
     "end_time": "2025-07-30T21:15:24.594211",
     "exception": false,
     "start_time": "2025-07-30T21:15:24.548388",
     "status": "completed"
    },
    "tags": []
   },
   "outputs": [
    {
     "data": {
      "text/html": [
       "<div>\n",
       "<style scoped>\n",
       "    .dataframe tbody tr th:only-of-type {\n",
       "        vertical-align: middle;\n",
       "    }\n",
       "\n",
       "    .dataframe tbody tr th {\n",
       "        vertical-align: top;\n",
       "    }\n",
       "\n",
       "    .dataframe thead th {\n",
       "        text-align: right;\n",
       "    }\n",
       "</style>\n",
       "<table border=\"1\" class=\"dataframe\">\n",
       "  <thead>\n",
       "    <tr style=\"text-align: right;\">\n",
       "      <th></th>\n",
       "      <th>accuracy</th>\n",
       "      <th>balanced accuracy</th>\n",
       "      <th>f1</th>\n",
       "      <th>precision</th>\n",
       "      <th>false positive rate</th>\n",
       "      <th>false negative rate</th>\n",
       "      <th>selection rate</th>\n",
       "      <th>count</th>\n",
       "    </tr>\n",
       "    <tr>\n",
       "      <th>majmin</th>\n",
       "      <th></th>\n",
       "      <th></th>\n",
       "      <th></th>\n",
       "      <th></th>\n",
       "      <th></th>\n",
       "      <th></th>\n",
       "      <th></th>\n",
       "      <th></th>\n",
       "    </tr>\n",
       "  </thead>\n",
       "  <tbody>\n",
       "    <tr>\n",
       "      <th>majority</th>\n",
       "      <td>0.241781</td>\n",
       "      <td>0.553198</td>\n",
       "      <td>0.253926</td>\n",
       "      <td>0.145938</td>\n",
       "      <td>0.870082</td>\n",
       "      <td>0.023523</td>\n",
       "      <td>0.884141</td>\n",
       "      <td>69170.0</td>\n",
       "    </tr>\n",
       "    <tr>\n",
       "      <th>minority</th>\n",
       "      <td>0.158374</td>\n",
       "      <td>0.517740</td>\n",
       "      <td>0.212473</td>\n",
       "      <td>0.119083</td>\n",
       "      <td>0.949318</td>\n",
       "      <td>0.015203</td>\n",
       "      <td>0.953408</td>\n",
       "      <td>20540.0</td>\n",
       "    </tr>\n",
       "  </tbody>\n",
       "</table>\n",
       "</div>"
      ],
      "text/plain": [
       "          accuracy  balanced accuracy        f1  precision  \\\n",
       "majmin                                                       \n",
       "majority  0.241781           0.553198  0.253926   0.145938   \n",
       "minority  0.158374           0.517740  0.212473   0.119083   \n",
       "\n",
       "          false positive rate  false negative rate  selection rate    count  \n",
       "majmin                                                                       \n",
       "majority             0.870082             0.023523        0.884141  69170.0  \n",
       "minority             0.949318             0.015203        0.953408  20540.0  "
      ]
     },
     "execution_count": 75,
     "metadata": {},
     "output_type": "execute_result"
    }
   ],
   "source": [
    "metric_frame.by_group"
   ]
  },
  {
   "cell_type": "code",
   "execution_count": 76,
   "id": "a9ddbe63",
   "metadata": {
    "execution": {
     "iopub.execute_input": "2025-07-30T21:15:24.650404Z",
     "iopub.status.busy": "2025-07-30T21:15:24.649940Z",
     "iopub.status.idle": "2025-07-30T21:15:26.974007Z",
     "shell.execute_reply": "2025-07-30T21:15:26.972900Z"
    },
    "papermill": {
     "duration": 2.353208,
     "end_time": "2025-07-30T21:15:26.975633",
     "exception": false,
     "start_time": "2025-07-30T21:15:24.622425",
     "status": "completed"
    },
    "tags": []
   },
   "outputs": [
    {
     "data": {
      "text/plain": [
       "array([[<Axes: title={'center': 'accuracy'}, xlabel='majmin'>,\n",
       "        <Axes: title={'center': 'balanced accuracy'}, xlabel='majmin'>,\n",
       "        <Axes: title={'center': 'f1'}, xlabel='majmin'>],\n",
       "       [<Axes: title={'center': 'precision'}, xlabel='majmin'>,\n",
       "        <Axes: title={'center': 'false positive rate'}, xlabel='majmin'>,\n",
       "        <Axes: title={'center': 'false negative rate'}, xlabel='majmin'>],\n",
       "       [<Axes: title={'center': 'selection rate'}, xlabel='majmin'>,\n",
       "        <Axes: title={'center': 'count'}, xlabel='majmin'>,\n",
       "        <Axes: xlabel='majmin'>]], dtype=object)"
      ]
     },
     "execution_count": 76,
     "metadata": {},
     "output_type": "execute_result"
    },
    {
     "data": {
      "image/png": "[encoded data removed]",
      "text/plain": [
       "<Figure size 1200x800 with 9 Axes>"
      ]
     },
     "metadata": {},
     "output_type": "display_data"
    }
   ],
   "source": [
    "# In a graphic\n",
    "metric_frame.by_group.plot.bar(\n",
    "    subplots=True,\n",
    "    layout=[3, 3],\n",
    "    legend=False,\n",
    "    figsize=[12, 8],\n",
    "    title=\"Show all metrics\",\n",
    ")"
   ]
  },
  {
   "cell_type": "markdown",
   "id": "f57a0bac",
   "metadata": {
    "papermill": {
     "duration": 0.027957,
     "end_time": "2025-07-30T21:15:27.032554",
     "exception": false,
     "start_time": "2025-07-30T21:15:27.004597",
     "status": "completed"
    },
    "tags": []
   },
   "source": [
    "# Final Output"
   ]
  },
  {
   "cell_type": "code",
   "execution_count": 77,
   "id": "96d280a3",
   "metadata": {
    "execution": {
     "iopub.execute_input": "2025-07-30T21:15:27.092195Z",
     "iopub.status.busy": "2025-07-30T21:15:27.090995Z",
     "iopub.status.idle": "2025-07-30T21:15:27.101507Z",
     "shell.execute_reply": "2025-07-30T21:15:27.100607Z"
    },
    "papermill": {
     "duration": 0.042688,
     "end_time": "2025-07-30T21:15:27.103082",
     "exception": false,
     "start_time": "2025-07-30T21:15:27.060394",
     "status": "completed"
    },
    "tags": []
   },
   "outputs": [
    {
     "data": {
      "text/plain": [
       "4"
      ]
     },
     "execution_count": 77,
     "metadata": {},
     "output_type": "execute_result"
    }
   ],
   "source": [
    "sub_universes = universe_analysis.generate_sub_universes()\n",
    "len(sub_universes)"
   ]
  },
  {
   "cell_type": "code",
   "execution_count": 78,
   "id": "92adf7ba",
   "metadata": {
    "execution": {
     "iopub.execute_input": "2025-07-30T21:15:27.163592Z",
     "iopub.status.busy": "2025-07-30T21:15:27.162932Z",
     "iopub.status.idle": "2025-07-30T21:15:27.168962Z",
     "shell.execute_reply": "2025-07-30T21:15:27.168085Z"
    },
    "papermill": {
     "duration": 0.038491,
     "end_time": "2025-07-30T21:15:27.170439",
     "exception": false,
     "start_time": "2025-07-30T21:15:27.131948",
     "status": "completed"
    },
    "tags": []
   },
   "outputs": [],
   "source": [
    "def filter_sub_universe_data(sub_universe, org_test):\n",
    "    # Keep all rows — no filtering\n",
    "    keep_rows_mask = np.ones(org_test.shape[0], dtype=bool)\n",
    "\n",
    "    print(f\"[INFO] Keeping all rows: {keep_rows_mask.sum()} rows retained.\")\n",
    "    return keep_rows_mask"
   ]
  },
  {
   "cell_type": "code",
   "execution_count": 79,
   "id": "4a759155",
   "metadata": {
    "execution": {
     "iopub.execute_input": "2025-07-30T21:15:27.228861Z",
     "iopub.status.busy": "2025-07-30T21:15:27.228409Z",
     "iopub.status.idle": "2025-07-30T21:15:37.145621Z",
     "shell.execute_reply": "2025-07-30T21:15:37.144676Z"
    },
    "papermill": {
     "duration": 9.947953,
     "end_time": "2025-07-30T21:15:37.147355",
     "exception": false,
     "start_time": "2025-07-30T21:15:27.199402",
     "status": "completed"
    },
    "tags": []
   },
   "outputs": [
    {
     "name": "stdout",
     "output_type": "stream",
     "text": [
      "Stopping execution_time clock.\n",
      "[INFO] Keeping all rows: 89710 rows retained.\n"
     ]
    },
    {
     "name": "stdout",
     "output_type": "stream",
     "text": [
      "[INFO] Keeping all rows: 89710 rows retained.\n"
     ]
    },
    {
     "name": "stdout",
     "output_type": "stream",
     "text": [
      "[INFO] Keeping all rows: 89710 rows retained.\n"
     ]
    },
    {
     "name": "stdout",
     "output_type": "stream",
     "text": [
      "[INFO] Keeping all rows: 89710 rows retained.\n"
     ]
    },
    {
     "data": {
      "text/html": [
       "<div>\n",
       "<style scoped>\n",
       "    .dataframe tbody tr th:only-of-type {\n",
       "        vertical-align: middle;\n",
       "    }\n",
       "\n",
       "    .dataframe tbody tr th {\n",
       "        vertical-align: top;\n",
       "    }\n",
       "\n",
       "    .dataframe thead th {\n",
       "        text-align: right;\n",
       "    }\n",
       "</style>\n",
       "<table border=\"1\" class=\"dataframe\">\n",
       "  <thead>\n",
       "    <tr style=\"text-align: right;\">\n",
       "      <th></th>\n",
       "      <th>run_no</th>\n",
       "      <th>universe_id</th>\n",
       "      <th>universe_settings</th>\n",
       "      <th>execution_time</th>\n",
       "      <th>test_size_n</th>\n",
       "      <th>test_size_frac</th>\n",
       "      <th>fair_main_equalized_odds_difference</th>\n",
       "      <th>fair_main_equalized_odds_ratio</th>\n",
       "      <th>fair_main_demographic_parity_difference</th>\n",
       "      <th>fair_main_demographic_parity_ratio</th>\n",
       "      <th>...</th>\n",
       "      <th>perf_grp_precision_0</th>\n",
       "      <th>perf_grp_precision_1</th>\n",
       "      <th>perf_grp_false positive rate_0</th>\n",
       "      <th>perf_grp_false positive rate_1</th>\n",
       "      <th>perf_grp_false negative rate_0</th>\n",
       "      <th>perf_grp_false negative rate_1</th>\n",
       "      <th>perf_grp_selection rate_0</th>\n",
       "      <th>perf_grp_selection rate_1</th>\n",
       "      <th>perf_grp_count_0</th>\n",
       "      <th>perf_grp_count_1</th>\n",
       "    </tr>\n",
       "  </thead>\n",
       "  <tbody>\n",
       "    <tr>\n",
       "      <th>0</th>\n",
       "      <td>14</td>\n",
       "      <td>064ad2a4fafecedfb5ce6b011e980f60</td>\n",
       "      <td>{\"cutoff\": \"quantile_0.1\", \"eval_fairness_grou...</td>\n",
       "      <td>36.191199</td>\n",
       "      <td>89710</td>\n",
       "      <td>1.0</td>\n",
       "      <td>0.079236</td>\n",
       "      <td>0.916534</td>\n",
       "      <td>0.069267</td>\n",
       "      <td>0.927348</td>\n",
       "      <td>...</td>\n",
       "      <td>NaN</td>\n",
       "      <td>NaN</td>\n",
       "      <td>NaN</td>\n",
       "      <td>NaN</td>\n",
       "      <td>NaN</td>\n",
       "      <td>NaN</td>\n",
       "      <td>NaN</td>\n",
       "      <td>NaN</td>\n",
       "      <td>NaN</td>\n",
       "      <td>NaN</td>\n",
       "    </tr>\n",
       "    <tr>\n",
       "      <th>0</th>\n",
       "      <td>14</td>\n",
       "      <td>064ad2a4fafecedfb5ce6b011e980f60</td>\n",
       "      <td>{\"cutoff\": \"quantile_0.1\", \"eval_fairness_grou...</td>\n",
       "      <td>36.191199</td>\n",
       "      <td>89710</td>\n",
       "      <td>1.0</td>\n",
       "      <td>0.079236</td>\n",
       "      <td>0.916534</td>\n",
       "      <td>0.069267</td>\n",
       "      <td>0.927348</td>\n",
       "      <td>...</td>\n",
       "      <td>0.119083</td>\n",
       "      <td>0.145938</td>\n",
       "      <td>0.949318</td>\n",
       "      <td>0.870082</td>\n",
       "      <td>0.015203</td>\n",
       "      <td>0.023523</td>\n",
       "      <td>0.953408</td>\n",
       "      <td>0.884141</td>\n",
       "      <td>20540.0</td>\n",
       "      <td>69170.0</td>\n",
       "    </tr>\n",
       "    <tr>\n",
       "      <th>0</th>\n",
       "      <td>14</td>\n",
       "      <td>064ad2a4fafecedfb5ce6b011e980f60</td>\n",
       "      <td>{\"cutoff\": \"quantile_0.25\", \"eval_fairness_gro...</td>\n",
       "      <td>36.191199</td>\n",
       "      <td>89710</td>\n",
       "      <td>1.0</td>\n",
       "      <td>0.177966</td>\n",
       "      <td>0.793117</td>\n",
       "      <td>0.155906</td>\n",
       "      <td>0.820839</td>\n",
       "      <td>...</td>\n",
       "      <td>NaN</td>\n",
       "      <td>NaN</td>\n",
       "      <td>NaN</td>\n",
       "      <td>NaN</td>\n",
       "      <td>NaN</td>\n",
       "      <td>NaN</td>\n",
       "      <td>NaN</td>\n",
       "      <td>NaN</td>\n",
       "      <td>NaN</td>\n",
       "      <td>NaN</td>\n",
       "    </tr>\n",
       "    <tr>\n",
       "      <th>0</th>\n",
       "      <td>14</td>\n",
       "      <td>064ad2a4fafecedfb5ce6b011e980f60</td>\n",
       "      <td>{\"cutoff\": \"quantile_0.25\", \"eval_fairness_gro...</td>\n",
       "      <td>36.191199</td>\n",
       "      <td>89710</td>\n",
       "      <td>1.0</td>\n",
       "      <td>0.177966</td>\n",
       "      <td>0.793117</td>\n",
       "      <td>0.155906</td>\n",
       "      <td>0.820839</td>\n",
       "      <td>...</td>\n",
       "      <td>0.125434</td>\n",
       "      <td>0.171065</td>\n",
       "      <td>0.860225</td>\n",
       "      <td>0.682259</td>\n",
       "      <td>0.053209</td>\n",
       "      <td>0.075274</td>\n",
       "      <td>0.870204</td>\n",
       "      <td>0.714298</td>\n",
       "      <td>20540.0</td>\n",
       "      <td>69170.0</td>\n",
       "    </tr>\n",
       "  </tbody>\n",
       "</table>\n",
       "<p>4 rows × 50 columns</p>\n",
       "</div>"
      ],
      "text/plain": [
       "  run_no                       universe_id  \\\n",
       "0     14  064ad2a4fafecedfb5ce6b011e980f60   \n",
       "0     14  064ad2a4fafecedfb5ce6b011e980f60   \n",
       "0     14  064ad2a4fafecedfb5ce6b011e980f60   \n",
       "0     14  064ad2a4fafecedfb5ce6b011e980f60   \n",
       "\n",
       "                                   universe_settings  execution_time  \\\n",
       "0  {\"cutoff\": \"quantile_0.1\", \"eval_fairness_grou...       36.191199   \n",
       "0  {\"cutoff\": \"quantile_0.1\", \"eval_fairness_grou...       36.191199   \n",
       "0  {\"cutoff\": \"quantile_0.25\", \"eval_fairness_gro...       36.191199   \n",
       "0  {\"cutoff\": \"quantile_0.25\", \"eval_fairness_gro...       36.191199   \n",
       "\n",
       "   test_size_n  test_size_frac  fair_main_equalized_odds_difference  \\\n",
       "0        89710             1.0                             0.079236   \n",
       "0        89710             1.0                             0.079236   \n",
       "0        89710             1.0                             0.177966   \n",
       "0        89710             1.0                             0.177966   \n",
       "\n",
       "   fair_main_equalized_odds_ratio  fair_main_demographic_parity_difference  \\\n",
       "0                        0.916534                                 0.069267   \n",
       "0                        0.916534                                 0.069267   \n",
       "0                        0.793117                                 0.155906   \n",
       "0                        0.793117                                 0.155906   \n",
       "\n",
       "   fair_main_demographic_parity_ratio  ...  perf_grp_precision_0  \\\n",
       "0                            0.927348  ...                   NaN   \n",
       "0                            0.927348  ...              0.119083   \n",
       "0                            0.820839  ...                   NaN   \n",
       "0                            0.820839  ...              0.125434   \n",
       "\n",
       "   perf_grp_precision_1  perf_grp_false positive rate_0  \\\n",
       "0                   NaN                             NaN   \n",
       "0              0.145938                        0.949318   \n",
       "0                   NaN                             NaN   \n",
       "0              0.171065                        0.860225   \n",
       "\n",
       "   perf_grp_false positive rate_1  perf_grp_false negative rate_0  \\\n",
       "0                             NaN                             NaN   \n",
       "0                        0.870082                        0.015203   \n",
       "0                             NaN                             NaN   \n",
       "0                        0.682259                        0.053209   \n",
       "\n",
       "   perf_grp_false negative rate_1  perf_grp_selection rate_0  \\\n",
       "0                             NaN                        NaN   \n",
       "0                        0.023523                   0.953408   \n",
       "0                             NaN                        NaN   \n",
       "0                        0.075274                   0.870204   \n",
       "\n",
       "   perf_grp_selection rate_1  perf_grp_count_0  perf_grp_count_1  \n",
       "0                        NaN               NaN               NaN  \n",
       "0                   0.884141           20540.0           69170.0  \n",
       "0                        NaN               NaN               NaN  \n",
       "0                   0.714298           20540.0           69170.0  \n",
       "\n",
       "[4 rows x 50 columns]"
      ]
     },
     "execution_count": 79,
     "metadata": {},
     "output_type": "execute_result"
    }
   ],
   "source": [
    "final_output = universe_analysis.generate_final_output(\n",
    "    y_pred_prob=probs_test,\n",
    "    y_test=y_true,\n",
    "    org_test=org_test,\n",
    "    filter_data=filter_sub_universe_data,\n",
    "    cp_metrics_df=cp_metrics_df,\n",
    "    save=True,\n",
    ")\n",
    "final_output"
   ]
  },
  {
   "cell_type": "code",
   "execution_count": null,
   "id": "721ff514-cb11-46f8-b6fc-50392f74b5cb",
   "metadata": {
    "papermill": {
     "duration": 0.036806,
     "end_time": "2025-07-30T21:15:37.219311",
     "exception": false,
     "start_time": "2025-07-30T21:15:37.182505",
     "status": "completed"
    },
    "tags": []
   },
   "outputs": [],
   "source": []
  }
 ],
 "metadata": {
  "celltoolbar": "Tags",
  "kernelspec": {
   "display_name": "Python (CMA Fairness)",
   "language": "python",
   "name": "cma_fair_env"
  },
  "language_info": {
   "codemirror_mode": {
    "name": "ipython",
    "version": 3
   },
   "file_extension": ".py",
   "mimetype": "text/x-python",
   "name": "python",
   "nbconvert_exporter": "python",
   "pygments_lexer": "ipython3",
   "version": "3.10.12"
  },
  "papermill": {
   "default_parameters": {},
   "duration": 50.441199,
   "end_time": "2025-07-30T21:15:38.073914",
   "environment_variables": {},
   "exception": null,
   "input_path": "universe_analysis.ipynb",
   "output_path": "output/runs/14/notebooks/m_14-064ad2a4fafecedfb5ce6b011e980f60.ipynb",
   "parameters": {
    "output_dir": "output",
    "run_no": "14",
    "seed": "2023",
    "universe": "{\"cutoff\": [\"quantile_0.1\", \"quantile_0.25\"], \"eval_fairness_grouping\": [\"majority-minority\", \"nationality-all\"], \"exclude_features\": \"age\", \"exclude_subgroups\": \"drop-non-german\", \"model\": \"elasticnet\", \"scale\": \"scale\", \"training_size\": \"5k\", \"training_year\": \"2010_14\"}",
    "universe_id": "064ad2a4fafecedfb5ce6b011e980f60"
   },
   "start_time": "2025-07-30T21:14:47.632715",
   "version": "2.6.0"
  }
 },
 "nbformat": 4,
 "nbformat_minor": 5
}