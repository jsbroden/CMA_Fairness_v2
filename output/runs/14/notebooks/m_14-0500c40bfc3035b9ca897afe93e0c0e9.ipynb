{
 "cells": [
  {
   "cell_type": "code",
   "execution_count": 1,
   "id": "f159f837-637b-42ba-96b5-ec9a68c44524",
   "metadata": {
    "execution": {
     "iopub.execute_input": "2025-07-30T21:53:07.937728Z",
     "iopub.status.busy": "2025-07-30T21:53:07.937389Z",
     "iopub.status.idle": "2025-07-30T21:53:07.947631Z",
     "shell.execute_reply": "2025-07-30T21:53:07.946635Z"
    },
    "papermill": {
     "duration": 0.026532,
     "end_time": "2025-07-30T21:53:07.949719",
     "exception": false,
     "start_time": "2025-07-30T21:53:07.923187",
     "status": "completed"
    },
    "tags": []
   },
   "outputs": [
    {
     "name": "stdout",
     "output_type": "stream",
     "text": [
      "/dss/dsshome1/0C/ra93lal2/cma/CMA_Fairness_v2\n"
     ]
    },
    {
     "name": "stderr",
     "output_type": "stream",
     "text": [
      "/dss/dsshome1/0C/ra93lal2/.local/share/virtualenvs/CMA_Fairness_v2-3j10GkSs/lib/python3.10/site-packages/IPython/core/magics/osm.py:393: UserWarning: This is now an optional IPython functionality, using bookmarks requires you to install the `pickleshare` library.\n",
      "  bkms = self.shell.db.get('bookmarks', {})\n",
      "/dss/dsshome1/0C/ra93lal2/.local/share/virtualenvs/CMA_Fairness_v2-3j10GkSs/lib/python3.10/site-packages/IPython/core/magics/osm.py:417: UserWarning: This is now an optional IPython functionality, setting dhist requires you to install the `pickleshare` library.\n",
      "  self.shell.db['dhist'] = compress_dhist(dhist)[-100:]\n"
     ]
    }
   ],
   "source": [
    "%cd ~/cma/CMA_Fairness_v2"
   ]
  },
  {
   "cell_type": "markdown",
   "id": "de2603b9",
   "metadata": {
    "papermill": {
     "duration": 0.019306,
     "end_time": "2025-07-30T21:53:07.992165",
     "exception": false,
     "start_time": "2025-07-30T21:53:07.972859",
     "status": "completed"
    },
    "tags": []
   },
   "source": [
    "The following cell holds the definition of our parameters, these values can be overriden by rendering the with e.g. the following command:\n",
    "\n",
    "papermill -p alpha 0.2 -p ratio 0.3 universe_analysis.ipynb output/test_run.ipynb"
   ]
  },
  {
   "cell_type": "code",
   "execution_count": 2,
   "id": "a80968a0-40bb-4fa9-85ef-2d5eefb01975",
   "metadata": {
    "execution": {
     "iopub.execute_input": "2025-07-30T21:53:08.032091Z",
     "iopub.status.busy": "2025-07-30T21:53:08.031122Z",
     "iopub.status.idle": "2025-07-30T21:53:08.036754Z",
     "shell.execute_reply": "2025-07-30T21:53:08.035820Z"
    },
    "papermill": {
     "duration": 0.02691,
     "end_time": "2025-07-30T21:53:08.038565",
     "exception": false,
     "start_time": "2025-07-30T21:53:08.011655",
     "status": "completed"
    },
    "tags": []
   },
   "outputs": [
    {
     "name": "stdout",
     "output_type": "stream",
     "text": [
      "Current working directory: /dss/dsshome1/0C/ra93lal2/cma/CMA_Fairness_v2\n"
     ]
    }
   ],
   "source": [
    "import os\n",
    "print(\"Current working directory:\", os.getcwd())"
   ]
  },
  {
   "cell_type": "code",
   "execution_count": 3,
   "id": "2dce4c03",
   "metadata": {
    "execution": {
     "iopub.execute_input": "2025-07-30T21:53:08.077500Z",
     "iopub.status.busy": "2025-07-30T21:53:08.076786Z",
     "iopub.status.idle": "2025-07-30T21:53:08.082831Z",
     "shell.execute_reply": "2025-07-30T21:53:08.081954Z"
    },
    "papermill": {
     "duration": 0.02651,
     "end_time": "2025-07-30T21:53:08.084326",
     "exception": false,
     "start_time": "2025-07-30T21:53:08.057816",
     "status": "completed"
    },
    "tags": [
     "parameters"
    ]
   },
   "outputs": [],
   "source": [
    "run_no = 0\n",
    "universe_id = \"test\"\n",
    "universe = {\n",
    "    \"training_size\": \"25k\", # \"25k\", \"5k\", \"1k\"\n",
    "    \"training_year\": \"2014\", # \"2014\", \"2012_14\", \"2010_14\"\n",
    "    \"scale\": \"scale\", # \"scale\", \"do-not-scale\",\n",
    "    #\"stratify_split\": \"target\", # \"none\", \"target\", \"protected-attribute\", \"both\",\n",
    "    \"model\": \"elasticnet\", # \"logreg\", \"penalized_logreg\", \"rf\", \"gbm\", \"elasticnet\"\n",
    "    \"cutoff\": [\"quantile_0.15\", \"quantile_0.30\"],\n",
    "    \"exclude_features\": \"age\", # \"none\", \"nationality\", \"sex\", \"nationality-sex\", \"age\"\n",
    "    \"exclude_subgroups\": \"keep-all\", # \"keep-all\", \"drop-non-german\"\n",
    "    \"eval_fairness_grouping\": [\"majority-minority\", \"nationality-all\"]\n",
    "}\n",
    "\n",
    "output_dir=\"./output\"\n",
    "seed=0"
   ]
  },
  {
   "cell_type": "code",
   "execution_count": 4,
   "id": "acf48ef4",
   "metadata": {
    "execution": {
     "iopub.execute_input": "2025-07-30T21:53:08.122792Z",
     "iopub.status.busy": "2025-07-30T21:53:08.122013Z",
     "iopub.status.idle": "2025-07-30T21:53:08.127178Z",
     "shell.execute_reply": "2025-07-30T21:53:08.126332Z"
    },
    "papermill": {
     "duration": 0.025833,
     "end_time": "2025-07-30T21:53:08.128941",
     "exception": false,
     "start_time": "2025-07-30T21:53:08.103108",
     "status": "completed"
    },
    "tags": [
     "injected-parameters"
    ]
   },
   "outputs": [],
   "source": [
    "# Parameters\n",
    "universe_id = \"0500c40bfc3035b9ca897afe93e0c0e9\"\n",
    "run_no = \"14\"\n",
    "universe = \"{\\\"cutoff\\\": [\\\"quantile_0.1\\\", \\\"quantile_0.25\\\"], \\\"eval_fairness_grouping\\\": [\\\"majority-minority\\\", \\\"nationality-all\\\"], \\\"exclude_features\\\": \\\"nationality\\\", \\\"exclude_subgroups\\\": \\\"drop-non-german\\\", \\\"model\\\": \\\"elasticnet\\\", \\\"scale\\\": \\\"do-not-scale\\\", \\\"training_size\\\": \\\"1k\\\", \\\"training_year\\\": \\\"2010_14\\\"}\"\n",
    "output_dir = \"output\"\n",
    "seed = \"2023\"\n"
   ]
  },
  {
   "cell_type": "code",
   "execution_count": 5,
   "id": "1650acaf",
   "metadata": {
    "execution": {
     "iopub.execute_input": "2025-07-30T21:53:08.170577Z",
     "iopub.status.busy": "2025-07-30T21:53:08.169735Z",
     "iopub.status.idle": "2025-07-30T21:53:08.175208Z",
     "shell.execute_reply": "2025-07-30T21:53:08.174318Z"
    },
    "papermill": {
     "duration": 0.027136,
     "end_time": "2025-07-30T21:53:08.176929",
     "exception": false,
     "start_time": "2025-07-30T21:53:08.149793",
     "status": "completed"
    },
    "tags": []
   },
   "outputs": [],
   "source": [
    "import json\n",
    "# Parse universe into dict if it is passed as a string\n",
    "if isinstance(universe, str):\n",
    "    universe = json.loads(universe)"
   ]
  },
  {
   "cell_type": "code",
   "execution_count": 6,
   "id": "16620c48",
   "metadata": {
    "execution": {
     "iopub.execute_input": "2025-07-30T21:53:08.220316Z",
     "iopub.status.busy": "2025-07-30T21:53:08.219323Z",
     "iopub.status.idle": "2025-07-30T21:53:08.266738Z",
     "shell.execute_reply": "2025-07-30T21:53:08.265870Z"
    },
    "papermill": {
     "duration": 0.071083,
     "end_time": "2025-07-30T21:53:08.268532",
     "exception": false,
     "start_time": "2025-07-30T21:53:08.197449",
     "status": "completed"
    },
    "tags": []
   },
   "outputs": [],
   "source": [
    "# Auto-reload the custom package\n",
    "%load_ext autoreload\n",
    "%autoreload 1\n",
    "%aimport fairness_multiverse"
   ]
  },
  {
   "cell_type": "code",
   "execution_count": 7,
   "id": "01c5c9f3",
   "metadata": {
    "execution": {
     "iopub.execute_input": "2025-07-30T21:53:08.313395Z",
     "iopub.status.busy": "2025-07-30T21:53:08.312645Z",
     "iopub.status.idle": "2025-07-30T21:53:10.212296Z",
     "shell.execute_reply": "2025-07-30T21:53:10.211212Z"
    },
    "papermill": {
     "duration": 1.924713,
     "end_time": "2025-07-30T21:53:10.214407",
     "exception": false,
     "start_time": "2025-07-30T21:53:08.289694",
     "status": "completed"
    },
    "tags": []
   },
   "outputs": [],
   "source": [
    "from fairness_multiverse.universe import UniverseAnalysis\n",
    "\n",
    "universe_analysis = UniverseAnalysis(\n",
    "    run_no = run_no,\n",
    "    universe_id = universe_id,\n",
    "    universe = universe,\n",
    "    output_dir=output_dir,\n",
    ")"
   ]
  },
  {
   "cell_type": "code",
   "execution_count": 8,
   "id": "106241f5",
   "metadata": {
    "execution": {
     "iopub.execute_input": "2025-07-30T21:53:10.259914Z",
     "iopub.status.busy": "2025-07-30T21:53:10.259049Z",
     "iopub.status.idle": "2025-07-30T21:53:10.265790Z",
     "shell.execute_reply": "2025-07-30T21:53:10.264877Z"
    },
    "papermill": {
     "duration": 0.031529,
     "end_time": "2025-07-30T21:53:10.267372",
     "exception": false,
     "start_time": "2025-07-30T21:53:10.235843",
     "status": "completed"
    },
    "tags": []
   },
   "outputs": [
    {
     "name": "stdout",
     "output_type": "stream",
     "text": [
      "Using Seed: 2023\n"
     ]
    }
   ],
   "source": [
    "import numpy as np\n",
    "parsed_seed = int(seed)\n",
    "np.random.seed(parsed_seed)\n",
    "print(f\"Using Seed: {parsed_seed}\")"
   ]
  },
  {
   "cell_type": "markdown",
   "id": "e0ebdc57",
   "metadata": {
    "papermill": {
     "duration": 0.022293,
     "end_time": "2025-07-30T21:53:10.312390",
     "exception": false,
     "start_time": "2025-07-30T21:53:10.290097",
     "status": "completed"
    },
    "tags": []
   },
   "source": [
    "# Loading Data"
   ]
  },
  {
   "cell_type": "markdown",
   "id": "681925a3",
   "metadata": {
    "papermill": {
     "duration": 0.022405,
     "end_time": "2025-07-30T21:53:10.357006",
     "exception": false,
     "start_time": "2025-07-30T21:53:10.334601",
     "status": "completed"
    },
    "tags": []
   },
   "source": [
    "Load siab_train, siab_test, siab_calib and/or \n",
    "load siab_train_features, siab_train_labels"
   ]
  },
  {
   "cell_type": "code",
   "execution_count": 9,
   "id": "f0496b8a",
   "metadata": {
    "execution": {
     "iopub.execute_input": "2025-07-30T21:53:10.403643Z",
     "iopub.status.busy": "2025-07-30T21:53:10.402831Z",
     "iopub.status.idle": "2025-07-30T21:53:24.393557Z",
     "shell.execute_reply": "2025-07-30T21:53:24.392091Z"
    },
    "papermill": {
     "duration": 14.016737,
     "end_time": "2025-07-30T21:53:24.396155",
     "exception": false,
     "start_time": "2025-07-30T21:53:10.379418",
     "status": "completed"
    },
    "tags": []
   },
   "outputs": [
    {
     "name": "stdout",
     "output_type": "stream",
     "text": [
      "Loading SIAB data from cache: data/siab_cached.csv.gz\n"
     ]
    },
    {
     "name": "stdout",
     "output_type": "stream",
     "text": [
      "(643690, 164)\n"
     ]
    }
   ],
   "source": [
    "from pathlib import Path\n",
    "import pandas as pd\n",
    "\n",
    "# File paths\n",
    "raw_file = Path(\"data/raw/siab.csv\")\n",
    "cache_file = Path(\"data/siab_cached.csv.gz\")\n",
    "\n",
    "# Ensure cache directory exists\n",
    "cache_file.parent.mkdir(parents=True, exist_ok=True)\n",
    "\n",
    "# Load with simple caching\n",
    "if cache_file.exists():\n",
    "    print(f\"Loading SIAB data from cache: {cache_file}\")\n",
    "    siab = pd.read_csv(cache_file, compression='gzip')\n",
    "else:\n",
    "    print(f\"Cache not found. Reading raw SIAB data: {raw_file}\")\n",
    "    siab = pd.read_csv(raw_file)\n",
    "    siab.to_csv(cache_file, index=False, compression='gzip')\n",
    "    print(f\"Cached SIAB data to: {cache_file}\")\n",
    "\n",
    "# Now use `siab` DataFrame as needed\n",
    "print(siab.shape)"
   ]
  },
  {
   "cell_type": "code",
   "execution_count": 10,
   "id": "db0ca512-5f53-4dba-abdb-a2888bca41ba",
   "metadata": {
    "execution": {
     "iopub.execute_input": "2025-07-30T21:53:24.459442Z",
     "iopub.status.busy": "2025-07-30T21:53:24.458777Z",
     "iopub.status.idle": "2025-07-30T21:53:24.466876Z",
     "shell.execute_reply": "2025-07-30T21:53:24.465583Z"
    },
    "papermill": {
     "duration": 0.041967,
     "end_time": "2025-07-30T21:53:24.469523",
     "exception": false,
     "start_time": "2025-07-30T21:53:24.427556",
     "status": "completed"
    },
    "tags": []
   },
   "outputs": [],
   "source": [
    "#siab"
   ]
  },
  {
   "cell_type": "code",
   "execution_count": 11,
   "id": "a0edb063",
   "metadata": {
    "execution": {
     "iopub.execute_input": "2025-07-30T21:53:24.529839Z",
     "iopub.status.busy": "2025-07-30T21:53:24.529225Z",
     "iopub.status.idle": "2025-07-30T21:53:24.535141Z",
     "shell.execute_reply": "2025-07-30T21:53:24.533829Z"
    },
    "papermill": {
     "duration": 0.039064,
     "end_time": "2025-07-30T21:53:24.537692",
     "exception": false,
     "start_time": "2025-07-30T21:53:24.498628",
     "status": "completed"
    },
    "tags": []
   },
   "outputs": [],
   "source": [
    "#import pandas as pd\n",
    "#\n",
    "#X_train = pd.read_csv(\"./data/X_train.csv\")\n",
    "#y_train = pd.read_csv(\"./data/y_train.csv\")"
   ]
  },
  {
   "cell_type": "code",
   "execution_count": 12,
   "id": "63d08085",
   "metadata": {
    "execution": {
     "iopub.execute_input": "2025-07-30T21:53:24.597285Z",
     "iopub.status.busy": "2025-07-30T21:53:24.596720Z",
     "iopub.status.idle": "2025-07-30T21:53:24.602155Z",
     "shell.execute_reply": "2025-07-30T21:53:24.601217Z"
    },
    "papermill": {
     "duration": 0.03759,
     "end_time": "2025-07-30T21:53:24.604240",
     "exception": false,
     "start_time": "2025-07-30T21:53:24.566650",
     "status": "completed"
    },
    "tags": []
   },
   "outputs": [],
   "source": [
    "#X_test = pd.read_csv(\"./data/X_test.csv\")\n",
    "#y_true = pd.read_csv(\"./data/y_test.csv\")"
   ]
  },
  {
   "cell_type": "code",
   "execution_count": 13,
   "id": "98a8d0fa-1d3d-4ed8-bb2c-281470e24add",
   "metadata": {
    "execution": {
     "iopub.execute_input": "2025-07-30T21:53:24.666366Z",
     "iopub.status.busy": "2025-07-30T21:53:24.665730Z",
     "iopub.status.idle": "2025-07-30T21:53:24.673236Z",
     "shell.execute_reply": "2025-07-30T21:53:24.670078Z"
    },
    "papermill": {
     "duration": 0.04107,
     "end_time": "2025-07-30T21:53:24.675203",
     "exception": false,
     "start_time": "2025-07-30T21:53:24.634133",
     "status": "completed"
    },
    "tags": []
   },
   "outputs": [],
   "source": [
    "# Calibration data for conformal\n",
    "#X_calib = pd.read_csv(\"./data/X_calib.csv\")\n",
    "#y_calib = pd.read_csv(\"./data/y_calib.csv\")"
   ]
  },
  {
   "cell_type": "markdown",
   "id": "997051c5-15bd-4b69-9786-c3001a3ce484",
   "metadata": {
    "papermill": {
     "duration": 0.015774,
     "end_time": "2025-07-30T21:53:24.713914",
     "exception": false,
     "start_time": "2025-07-30T21:53:24.698140",
     "status": "completed"
    },
    "tags": []
   },
   "source": [
    "# Splitting Data and Setting Training Data Size"
   ]
  },
  {
   "cell_type": "code",
   "execution_count": 14,
   "id": "e993b61f-042d-41a6-8c81-f55681f86335",
   "metadata": {
    "execution": {
     "iopub.execute_input": "2025-07-30T21:53:24.738651Z",
     "iopub.status.busy": "2025-07-30T21:53:24.738291Z",
     "iopub.status.idle": "2025-07-30T21:53:24.747757Z",
     "shell.execute_reply": "2025-07-30T21:53:24.746920Z"
    },
    "papermill": {
     "duration": 0.023632,
     "end_time": "2025-07-30T21:53:24.749054",
     "exception": false,
     "start_time": "2025-07-30T21:53:24.725422",
     "status": "completed"
    },
    "tags": []
   },
   "outputs": [],
   "source": [
    "def sample_by_year_size(df,\n",
    "                        training_year: str,\n",
    "                        training_size: str,\n",
    "                        random_state: int = 42):\n",
    "    # --- parse training_year into a list of int years ---\n",
    "    if \"_\" in training_year:\n",
    "        start_str, end_str = training_year.split(\"_\", 1)\n",
    "        start = int(start_str)\n",
    "        end   = int(end_str) if len(end_str) == 4 else (int(end_str) + (start // 100)*100)\n",
    "        years = list(range(start, end + 1))\n",
    "    else:\n",
    "        years = [int(training_year)]\n",
    "\n",
    "    df = df[df[\"year\"].isin(years)].reset_index(drop=True)\n",
    "\n",
    "    # --- map training_size to total number of samples ---\n",
    "    total_map = {\"25k\": 25_000, \"5k\": 5_000, \"1k\": 1_000}\n",
    "    if training_size not in total_map:\n",
    "        return df  # e.g. \"all\"\n",
    "\n",
    "    total_samples = total_map[training_size]\n",
    "    n_years       = len(years)\n",
    "    base          = total_samples // n_years\n",
    "    remainder     = total_samples % n_years\n",
    "\n",
    "    # --- build a dict: year -> how many to sample ---\n",
    "    # give +1 to the first `remainder` years in ascending order\n",
    "    quotas = {\n",
    "        year: base + (1 if idx < remainder else 0)\n",
    "        for idx, year in enumerate(sorted(years))\n",
    "    }\n",
    "\n",
    "    # --- sample per‐year according to the quota dict ---\n",
    "    sampled = (\n",
    "        df\n",
    "        .groupby(\"year\", group_keys=False)\n",
    "        .apply(lambda grp: grp.sample(\n",
    "            n=min(len(grp), quotas[grp.name]),\n",
    "            random_state=random_state))\n",
    "        .reset_index(drop=True)\n",
    "    )\n",
    "\n",
    "    return sampled"
   ]
  },
  {
   "cell_type": "code",
   "execution_count": 15,
   "id": "c0ccd338-0e02-41f3-a09d-f56f9266e3fb",
   "metadata": {
    "execution": {
     "iopub.execute_input": "2025-07-30T21:53:24.781870Z",
     "iopub.status.busy": "2025-07-30T21:53:24.781559Z",
     "iopub.status.idle": "2025-07-30T21:53:24.785597Z",
     "shell.execute_reply": "2025-07-30T21:53:24.784749Z"
    },
    "papermill": {
     "duration": 0.022355,
     "end_time": "2025-07-30T21:53:24.786988",
     "exception": false,
     "start_time": "2025-07-30T21:53:24.764633",
     "status": "completed"
    },
    "tags": []
   },
   "outputs": [],
   "source": [
    "#universe[\"training_size\"]"
   ]
  },
  {
   "cell_type": "code",
   "execution_count": 16,
   "id": "ca707fd7-8047-4acd-bfa5-66248fbbf8e6",
   "metadata": {
    "execution": {
     "iopub.execute_input": "2025-07-30T21:53:24.812954Z",
     "iopub.status.busy": "2025-07-30T21:53:24.812440Z",
     "iopub.status.idle": "2025-07-30T21:53:24.816866Z",
     "shell.execute_reply": "2025-07-30T21:53:24.816173Z"
    },
    "papermill": {
     "duration": 0.018597,
     "end_time": "2025-07-30T21:53:24.818366",
     "exception": false,
     "start_time": "2025-07-30T21:53:24.799769",
     "status": "completed"
    },
    "tags": []
   },
   "outputs": [],
   "source": [
    "#universe[\"training_year\"]"
   ]
  },
  {
   "cell_type": "code",
   "execution_count": 17,
   "id": "aea9c6ef-6f46-42c8-85eb-5a62025c1508",
   "metadata": {
    "execution": {
     "iopub.execute_input": "2025-07-30T21:53:24.851107Z",
     "iopub.status.busy": "2025-07-30T21:53:24.850348Z",
     "iopub.status.idle": "2025-07-30T21:53:25.900646Z",
     "shell.execute_reply": "2025-07-30T21:53:25.899682Z"
    },
    "papermill": {
     "duration": 1.071845,
     "end_time": "2025-07-30T21:53:25.902768",
     "exception": false,
     "start_time": "2025-07-30T21:53:24.830923",
     "status": "completed"
    },
    "tags": []
   },
   "outputs": [],
   "source": [
    "siab_train = sample_by_year_size(siab,\n",
    "                               training_year=universe[\"training_year\"],\n",
    "                               training_size=universe[\"training_size\"])"
   ]
  },
  {
   "cell_type": "code",
   "execution_count": 18,
   "id": "8d3afb32-789d-442c-8d5d-9f5aa8dd2eed",
   "metadata": {
    "execution": {
     "iopub.execute_input": "2025-07-30T21:53:25.946477Z",
     "iopub.status.busy": "2025-07-30T21:53:25.945808Z",
     "iopub.status.idle": "2025-07-30T21:53:25.950046Z",
     "shell.execute_reply": "2025-07-30T21:53:25.949366Z"
    },
    "papermill": {
     "duration": 0.026997,
     "end_time": "2025-07-30T21:53:25.951575",
     "exception": false,
     "start_time": "2025-07-30T21:53:25.924578",
     "status": "completed"
    },
    "tags": []
   },
   "outputs": [],
   "source": [
    "#siab_train.shape"
   ]
  },
  {
   "cell_type": "code",
   "execution_count": 19,
   "id": "d582db68-1a4c-47fb-84fc-08518dc1975a",
   "metadata": {
    "execution": {
     "iopub.execute_input": "2025-07-30T21:53:25.994638Z",
     "iopub.status.busy": "2025-07-30T21:53:25.994183Z",
     "iopub.status.idle": "2025-07-30T21:53:25.998833Z",
     "shell.execute_reply": "2025-07-30T21:53:25.997944Z"
    },
    "papermill": {
     "duration": 0.028646,
     "end_time": "2025-07-30T21:53:26.000449",
     "exception": false,
     "start_time": "2025-07-30T21:53:25.971803",
     "status": "completed"
    },
    "tags": []
   },
   "outputs": [],
   "source": [
    "#display(siab_train.groupby(\"year\").size())"
   ]
  },
  {
   "cell_type": "code",
   "execution_count": 20,
   "id": "a561edb4-d032-42cb-8256-22eac1111c64",
   "metadata": {
    "execution": {
     "iopub.execute_input": "2025-07-30T21:53:26.044302Z",
     "iopub.status.busy": "2025-07-30T21:53:26.043816Z",
     "iopub.status.idle": "2025-07-30T21:53:26.301409Z",
     "shell.execute_reply": "2025-07-30T21:53:26.300433Z"
    },
    "papermill": {
     "duration": 0.281283,
     "end_time": "2025-07-30T21:53:26.303361",
     "exception": false,
     "start_time": "2025-07-30T21:53:26.022078",
     "status": "completed"
    },
    "tags": []
   },
   "outputs": [],
   "source": [
    "#siab_train = siab_s[siab_s.year < 2015]\n",
    "siab_calib = siab[siab.year == 2015]\n",
    "siab_test = siab[siab.year == 2016]"
   ]
  },
  {
   "cell_type": "code",
   "execution_count": 21,
   "id": "472de16f-c3db-4916-846b-1f0de9cf1746",
   "metadata": {
    "execution": {
     "iopub.execute_input": "2025-07-30T21:53:26.350040Z",
     "iopub.status.busy": "2025-07-30T21:53:26.349507Z",
     "iopub.status.idle": "2025-07-30T21:53:26.356794Z",
     "shell.execute_reply": "2025-07-30T21:53:26.355708Z"
    },
    "papermill": {
     "duration": 0.033116,
     "end_time": "2025-07-30T21:53:26.358387",
     "exception": false,
     "start_time": "2025-07-30T21:53:26.325271",
     "status": "completed"
    },
    "tags": []
   },
   "outputs": [],
   "source": [
    "X_train = siab_train.iloc[:,4:164]\n",
    "y_train = siab_train.iloc[:, [3]]"
   ]
  },
  {
   "cell_type": "code",
   "execution_count": 22,
   "id": "828c96af-f43a-4ed6-ba47-8ac73a47d56c",
   "metadata": {
    "execution": {
     "iopub.execute_input": "2025-07-30T21:53:26.403186Z",
     "iopub.status.busy": "2025-07-30T21:53:26.402663Z",
     "iopub.status.idle": "2025-07-30T21:53:26.453977Z",
     "shell.execute_reply": "2025-07-30T21:53:26.452776Z"
    },
    "papermill": {
     "duration": 0.07619,
     "end_time": "2025-07-30T21:53:26.455594",
     "exception": false,
     "start_time": "2025-07-30T21:53:26.379404",
     "status": "completed"
    },
    "tags": []
   },
   "outputs": [],
   "source": [
    "X_calib = siab_calib.iloc[:,4:164]\n",
    "y_calib = siab_calib.iloc[:, [3]]"
   ]
  },
  {
   "cell_type": "code",
   "execution_count": 23,
   "id": "c34be9c3-6bd6-476e-acd3-845840e303be",
   "metadata": {
    "execution": {
     "iopub.execute_input": "2025-07-30T21:53:26.501954Z",
     "iopub.status.busy": "2025-07-30T21:53:26.501208Z",
     "iopub.status.idle": "2025-07-30T21:53:26.554836Z",
     "shell.execute_reply": "2025-07-30T21:53:26.553798Z"
    },
    "papermill": {
     "duration": 0.077822,
     "end_time": "2025-07-30T21:53:26.556399",
     "exception": false,
     "start_time": "2025-07-30T21:53:26.478577",
     "status": "completed"
    },
    "tags": []
   },
   "outputs": [],
   "source": [
    "X_test = siab_test.iloc[:,4:164]\n",
    "y_true = siab_test.iloc[:, [3]]"
   ]
  },
  {
   "cell_type": "markdown",
   "id": "9901737e-04df-44f0-9100-f5ad144ed040",
   "metadata": {
    "papermill": {
     "duration": 0.020889,
     "end_time": "2025-07-30T21:53:26.598712",
     "exception": false,
     "start_time": "2025-07-30T21:53:26.577823",
     "status": "completed"
    },
    "tags": []
   },
   "source": [
    "# Splitting Data and Setting Training Data Size OLD VERSION"
   ]
  },
  {
   "cell_type": "code",
   "execution_count": 24,
   "id": "acbc8f7d-8fc8-4e86-8c59-5dcb0f58384b",
   "metadata": {
    "execution": {
     "iopub.execute_input": "2025-07-30T21:53:26.642080Z",
     "iopub.status.busy": "2025-07-30T21:53:26.640581Z",
     "iopub.status.idle": "2025-07-30T21:53:26.648462Z",
     "shell.execute_reply": "2025-07-30T21:53:26.647100Z"
    },
    "papermill": {
     "duration": 0.031824,
     "end_time": "2025-07-30T21:53:26.650321",
     "exception": false,
     "start_time": "2025-07-30T21:53:26.618497",
     "status": "completed"
    },
    "tags": []
   },
   "outputs": [],
   "source": [
    "#def sample_by_year(df, training_size, random_state=42):\n",
    "#    if training_size == \"2014\":\n",
    "#        return df[df[\"year\"] == 2014].reset_index(drop=True)\n",
    "#    \n",
    "#    size_map = {\n",
    "#        \"25k\": 5000,\n",
    "#        \"5k\": 1000,\n",
    "#        \"1k\": 200\n",
    "#    }\n",
    "#\n",
    "#    if training_size not in size_map:\n",
    "#        return df.reset_index(drop=True)  # use all data\n",
    "#\n",
    "#    n_per_year = size_map[training_size]\n",
    "#    grouped = df.groupby(\"year\")\n",
    "#    sampled = grouped.apply(lambda x: x.sample(n=min(n_per_year, len(x)), random_state=random_state))\n",
    "#    return sampled.reset_index(drop=True)"
   ]
  },
  {
   "cell_type": "code",
   "execution_count": 25,
   "id": "6d931f52-beaf-43ff-9e78-9d44a448d54e",
   "metadata": {
    "execution": {
     "iopub.execute_input": "2025-07-30T21:53:26.695857Z",
     "iopub.status.busy": "2025-07-30T21:53:26.695035Z",
     "iopub.status.idle": "2025-07-30T21:53:26.701036Z",
     "shell.execute_reply": "2025-07-30T21:53:26.700006Z"
    },
    "papermill": {
     "duration": 0.03044,
     "end_time": "2025-07-30T21:53:26.702610",
     "exception": false,
     "start_time": "2025-07-30T21:53:26.672170",
     "status": "completed"
    },
    "tags": []
   },
   "outputs": [],
   "source": [
    "#siab_s = sample_by_year(siab, universe[\"training_size\"])"
   ]
  },
  {
   "cell_type": "code",
   "execution_count": 26,
   "id": "5db0a40e-a4e2-4920-be85-b12ae061d70d",
   "metadata": {
    "execution": {
     "iopub.execute_input": "2025-07-30T21:53:26.747543Z",
     "iopub.status.busy": "2025-07-30T21:53:26.746670Z",
     "iopub.status.idle": "2025-07-30T21:53:26.751821Z",
     "shell.execute_reply": "2025-07-30T21:53:26.750829Z"
    },
    "papermill": {
     "duration": 0.029904,
     "end_time": "2025-07-30T21:53:26.753624",
     "exception": false,
     "start_time": "2025-07-30T21:53:26.723720",
     "status": "completed"
    },
    "tags": []
   },
   "outputs": [],
   "source": [
    "#display(siab_s.groupby(\"year\").size())"
   ]
  },
  {
   "cell_type": "code",
   "execution_count": 27,
   "id": "e6c733c5",
   "metadata": {
    "execution": {
     "iopub.execute_input": "2025-07-30T21:53:26.798473Z",
     "iopub.status.busy": "2025-07-30T21:53:26.798078Z",
     "iopub.status.idle": "2025-07-30T21:53:26.889296Z",
     "shell.execute_reply": "2025-07-30T21:53:26.888439Z"
    },
    "papermill": {
     "duration": 0.115696,
     "end_time": "2025-07-30T21:53:26.891155",
     "exception": false,
     "start_time": "2025-07-30T21:53:26.775459",
     "status": "completed"
    },
    "tags": []
   },
   "outputs": [],
   "source": [
    "# Auxiliary data needed downstream in the pipeline\n",
    "\n",
    "org_train = X_train.copy()\n",
    "org_test = X_test.copy()\n",
    "org_calib = X_calib.copy()"
   ]
  },
  {
   "cell_type": "code",
   "execution_count": 28,
   "id": "1466abac-c6da-4492-a62f-4240ae3783af",
   "metadata": {
    "execution": {
     "iopub.execute_input": "2025-07-30T21:53:26.935668Z",
     "iopub.status.busy": "2025-07-30T21:53:26.934999Z",
     "iopub.status.idle": "2025-07-30T21:53:26.940722Z",
     "shell.execute_reply": "2025-07-30T21:53:26.939788Z"
    },
    "papermill": {
     "duration": 0.03024,
     "end_time": "2025-07-30T21:53:26.942243",
     "exception": false,
     "start_time": "2025-07-30T21:53:26.912003",
     "status": "completed"
    },
    "tags": []
   },
   "outputs": [],
   "source": [
    "# put in other script?\n",
    "# Group sizes\n",
    "\n",
    "#def calculate_percentages(df, df_name):\n",
    "#    total_entries = len(df)\n",
    "#\n",
    "#    female_pct = (df['frau1'] == 1).mean() * 100\n",
    "#    non_german_pct = ((df['maxdeutsch1'] == 0) & (df['maxdeutsch.Missing.'] == 0)).mean() * 100\n",
    "#    non_german_male_pct = ((df['frau1'] == 0) & (df['maxdeutsch1'] == 0) & (df['maxdeutsch.Missing.'] == 0)).mean() * 100\n",
    "#    non_german_female_pct = ((df['frau1'] == 1) & (df['maxdeutsch1'] == 0) & (df['maxdeutsch.Missing.'] == 0)).mean() * 100\n",
    "#\n",
    "#    print(f\"--- {df_name} ---\")\n",
    "#    print(f\"Female: {female_pct:.2f}%\")\n",
    "#    print(f\"Non-German: {non_german_pct:.2f}%\")\n",
    "#    print(f\"Non-German Male: {non_german_male_pct:.2f}%\")\n",
    "#    print(f\"Non-German Female: {non_german_female_pct:.2f}%\\n\")\n",
    "#\n",
    "## Calculate for each DataFrame\n",
    "#calculate_percentages(siab_calib, \"siab_calib\")\n",
    "#calculate_percentages(siab_test, \"siab_test\")\n",
    "#calculate_percentages(siab_train, \"siab_train\")"
   ]
  },
  {
   "cell_type": "markdown",
   "id": "0a4a1b33",
   "metadata": {
    "papermill": {
     "duration": 0.020688,
     "end_time": "2025-07-30T21:53:26.989122",
     "exception": false,
     "start_time": "2025-07-30T21:53:26.968434",
     "status": "completed"
    },
    "tags": []
   },
   "source": [
    "# Preprocessing Data"
   ]
  },
  {
   "cell_type": "code",
   "execution_count": 29,
   "id": "ca879031",
   "metadata": {
    "execution": {
     "iopub.execute_input": "2025-07-30T21:53:27.034875Z",
     "iopub.status.busy": "2025-07-30T21:53:27.034298Z",
     "iopub.status.idle": "2025-07-30T21:53:27.041836Z",
     "shell.execute_reply": "2025-07-30T21:53:27.040601Z"
    },
    "papermill": {
     "duration": 0.032073,
     "end_time": "2025-07-30T21:53:27.043743",
     "exception": false,
     "start_time": "2025-07-30T21:53:27.011670",
     "status": "completed"
    },
    "tags": []
   },
   "outputs": [],
   "source": [
    "# EXCLUDE PROTECTED FEATURES\n",
    "# ----------------------\n",
    "# \"exclude_features\": \"none\", # \"nationality\", \"sex\", \"nationality-sex\"\n",
    "\n",
    "excluded_features = universe[\"exclude_features\"].split(\"-\") # split, e.g.: \"nationality-sex\" -> [\"nationality\", \"sex\"]\n",
    "excluded_features_dictionary = {\n",
    "    \"nationality\": [\"maxdeutsch1\", \"maxdeutsch.Missing.\"],\n",
    "    \"sex\": [\"frau1\"],\n",
    "    \"age\": [\"age\"],\n",
    "}\n"
   ]
  },
  {
   "cell_type": "code",
   "execution_count": 30,
   "id": "b745ac60",
   "metadata": {
    "execution": {
     "iopub.execute_input": "2025-07-30T21:53:27.089578Z",
     "iopub.status.busy": "2025-07-30T21:53:27.088759Z",
     "iopub.status.idle": "2025-07-30T21:53:27.094445Z",
     "shell.execute_reply": "2025-07-30T21:53:27.093504Z"
    },
    "papermill": {
     "duration": 0.029374,
     "end_time": "2025-07-30T21:53:27.096279",
     "exception": false,
     "start_time": "2025-07-30T21:53:27.066905",
     "status": "completed"
    },
    "tags": []
   },
   "outputs": [],
   "source": [
    "# Code nice names to column names\n",
    "\n",
    "excluded_features_columns = [\n",
    "    excluded_features_dictionary[f] for f in excluded_features if len(f) > 0 and f != \"none\"\n",
    "]"
   ]
  },
  {
   "cell_type": "code",
   "execution_count": 31,
   "id": "f84f73a2",
   "metadata": {
    "execution": {
     "iopub.execute_input": "2025-07-30T21:53:27.141034Z",
     "iopub.status.busy": "2025-07-30T21:53:27.140567Z",
     "iopub.status.idle": "2025-07-30T21:53:27.146327Z",
     "shell.execute_reply": "2025-07-30T21:53:27.145463Z"
    },
    "papermill": {
     "duration": 0.029083,
     "end_time": "2025-07-30T21:53:27.148018",
     "exception": false,
     "start_time": "2025-07-30T21:53:27.118935",
     "status": "completed"
    },
    "tags": []
   },
   "outputs": [],
   "source": [
    "from utils import flatten_once\n",
    "\n",
    "excluded_features_columns = flatten_once(excluded_features_columns)"
   ]
  },
  {
   "cell_type": "code",
   "execution_count": 32,
   "id": "884dea22",
   "metadata": {
    "execution": {
     "iopub.execute_input": "2025-07-30T21:53:27.194331Z",
     "iopub.status.busy": "2025-07-30T21:53:27.193815Z",
     "iopub.status.idle": "2025-07-30T21:53:27.202104Z",
     "shell.execute_reply": "2025-07-30T21:53:27.201132Z"
    },
    "papermill": {
     "duration": 0.033507,
     "end_time": "2025-07-30T21:53:27.203901",
     "exception": false,
     "start_time": "2025-07-30T21:53:27.170394",
     "status": "completed"
    },
    "tags": []
   },
   "outputs": [
    {
     "name": "stdout",
     "output_type": "stream",
     "text": [
      "Dropping features: ['maxdeutsch1', 'maxdeutsch.Missing.']\n"
     ]
    }
   ],
   "source": [
    "if len(excluded_features_columns) > 0:\n",
    "    print(f\"Dropping features: {excluded_features_columns}\")\n",
    "    X_train.drop(excluded_features_columns, axis=1, inplace=True)"
   ]
  },
  {
   "cell_type": "code",
   "execution_count": 33,
   "id": "95ab8b16",
   "metadata": {
    "execution": {
     "iopub.execute_input": "2025-07-30T21:53:27.251086Z",
     "iopub.status.busy": "2025-07-30T21:53:27.250472Z",
     "iopub.status.idle": "2025-07-30T21:53:27.321404Z",
     "shell.execute_reply": "2025-07-30T21:53:27.320422Z"
    },
    "papermill": {
     "duration": 0.097465,
     "end_time": "2025-07-30T21:53:27.323528",
     "exception": false,
     "start_time": "2025-07-30T21:53:27.226063",
     "status": "completed"
    },
    "tags": []
   },
   "outputs": [
    {
     "name": "stdout",
     "output_type": "stream",
     "text": [
      "Dropping features: ['maxdeutsch1', 'maxdeutsch.Missing.']\n"
     ]
    }
   ],
   "source": [
    "if len(excluded_features_columns) > 0:\n",
    "    print(f\"Dropping features: {excluded_features_columns}\")\n",
    "    X_test.drop(excluded_features_columns, axis=1, inplace=True)"
   ]
  },
  {
   "cell_type": "code",
   "execution_count": 34,
   "id": "1853aaf5-fb9f-46cb-a2b5-8ea4ae2237e4",
   "metadata": {
    "execution": {
     "iopub.execute_input": "2025-07-30T21:53:27.384562Z",
     "iopub.status.busy": "2025-07-30T21:53:27.383787Z",
     "iopub.status.idle": "2025-07-30T21:53:27.435968Z",
     "shell.execute_reply": "2025-07-30T21:53:27.434739Z"
    },
    "papermill": {
     "duration": 0.085598,
     "end_time": "2025-07-30T21:53:27.437932",
     "exception": false,
     "start_time": "2025-07-30T21:53:27.352334",
     "status": "completed"
    },
    "tags": []
   },
   "outputs": [
    {
     "name": "stdout",
     "output_type": "stream",
     "text": [
      "Dropping features: ['maxdeutsch1', 'maxdeutsch.Missing.']\n"
     ]
    }
   ],
   "source": [
    "if len(excluded_features_columns) > 0:\n",
    "    print(f\"Dropping features: {excluded_features_columns}\")\n",
    "    X_calib.drop(excluded_features_columns, axis=1, inplace=True)"
   ]
  },
  {
   "cell_type": "code",
   "execution_count": 35,
   "id": "6727d079-03e5-481e-9d38-292a90b7a0a8",
   "metadata": {
    "execution": {
     "iopub.execute_input": "2025-07-30T21:53:27.484947Z",
     "iopub.status.busy": "2025-07-30T21:53:27.484254Z",
     "iopub.status.idle": "2025-07-30T21:53:27.489506Z",
     "shell.execute_reply": "2025-07-30T21:53:27.488557Z"
    },
    "papermill": {
     "duration": 0.030197,
     "end_time": "2025-07-30T21:53:27.491168",
     "exception": false,
     "start_time": "2025-07-30T21:53:27.460971",
     "status": "completed"
    },
    "tags": []
   },
   "outputs": [],
   "source": [
    "# SPLIT & STRATIFY DATA\n",
    "# ----------------------"
   ]
  },
  {
   "cell_type": "code",
   "execution_count": 36,
   "id": "76c4dc6d",
   "metadata": {
    "execution": {
     "iopub.execute_input": "2025-07-30T21:53:27.545040Z",
     "iopub.status.busy": "2025-07-30T21:53:27.544285Z",
     "iopub.status.idle": "2025-07-30T21:53:27.551253Z",
     "shell.execute_reply": "2025-07-30T21:53:27.549992Z"
    },
    "papermill": {
     "duration": 0.037024,
     "end_time": "2025-07-30T21:53:27.553173",
     "exception": false,
     "start_time": "2025-07-30T21:53:27.516149",
     "status": "completed"
    },
    "tags": []
   },
   "outputs": [],
   "source": [
    "# EXCLUDE CERTAIN SUBGROUPS\n",
    "# ----------------------\n",
    "\n",
    "mode = universe.get(\"exclude_subgroups\", \"keep-all\") \n",
    "# Fetches the exclude_subgroups setting from the universe dict.\n",
    "# Defaults to \"keep-all\" if the key is missing."
   ]
  },
  {
   "cell_type": "code",
   "execution_count": 37,
   "id": "21994072",
   "metadata": {
    "execution": {
     "iopub.execute_input": "2025-07-30T21:53:27.611795Z",
     "iopub.status.busy": "2025-07-30T21:53:27.611131Z",
     "iopub.status.idle": "2025-07-30T21:53:27.620383Z",
     "shell.execute_reply": "2025-07-30T21:53:27.619038Z"
    },
    "papermill": {
     "duration": 0.035822,
     "end_time": "2025-07-30T21:53:27.622206",
     "exception": false,
     "start_time": "2025-07-30T21:53:27.586384",
     "status": "completed"
    },
    "tags": []
   },
   "outputs": [],
   "source": [
    "if mode == \"keep-all\":\n",
    "    keep_mask = pd.Series(True, index=org_train.index)\n",
    "\n",
    "# org_train contains the original feature columns from features_org (in Simson)\n",
    "# features_org contains unprocessed features, for me X_train at beginning ???\n",
    "# For keep-all, creates a boolean Series (keep_mask) of all True, so no rows are removed.\n",
    "\n",
    "elif mode == \"drop-non-german\":\n",
    "    keep_mask = org_train[\"maxdeutsch1\"] == 1 # ??? what about missing values?\n",
    "\n",
    "else:\n",
    "    raise ValueError(f\"Unsupported mode for exclude_subgroups: {mode}\")\n"
   ]
  },
  {
   "cell_type": "code",
   "execution_count": 38,
   "id": "71651440",
   "metadata": {
    "execution": {
     "iopub.execute_input": "2025-07-30T21:53:27.669930Z",
     "iopub.status.busy": "2025-07-30T21:53:27.669062Z",
     "iopub.status.idle": "2025-07-30T21:53:27.676705Z",
     "shell.execute_reply": "2025-07-30T21:53:27.675679Z"
    },
    "papermill": {
     "duration": 0.032686,
     "end_time": "2025-07-30T21:53:27.678205",
     "exception": false,
     "start_time": "2025-07-30T21:53:27.645519",
     "status": "completed"
    },
    "tags": []
   },
   "outputs": [
    {
     "name": "stdout",
     "output_type": "stream",
     "text": [
      "Dropping 131 rows (13.10%) where mode='drop-non-german'\n"
     ]
    }
   ],
   "source": [
    "n_drop = (~keep_mask).sum() # Calculates how many rows are set to be dropped\n",
    "if n_drop > 0:\n",
    "    pct = n_drop / len(keep_mask) * 100\n",
    "    print(f\"Dropping {n_drop} rows ({pct:.2f}%) where mode='{mode}'\")"
   ]
  },
  {
   "cell_type": "code",
   "execution_count": 39,
   "id": "5fb8eee5",
   "metadata": {
    "execution": {
     "iopub.execute_input": "2025-07-30T21:53:27.724728Z",
     "iopub.status.busy": "2025-07-30T21:53:27.724185Z",
     "iopub.status.idle": "2025-07-30T21:53:27.730635Z",
     "shell.execute_reply": "2025-07-30T21:53:27.729800Z"
    },
    "papermill": {
     "duration": 0.030813,
     "end_time": "2025-07-30T21:53:27.732192",
     "exception": false,
     "start_time": "2025-07-30T21:53:27.701379",
     "status": "completed"
    },
    "tags": []
   },
   "outputs": [],
   "source": [
    "X_train = X_train[keep_mask]"
   ]
  },
  {
   "cell_type": "code",
   "execution_count": 40,
   "id": "b202bb3a",
   "metadata": {
    "execution": {
     "iopub.execute_input": "2025-07-30T21:53:27.776979Z",
     "iopub.status.busy": "2025-07-30T21:53:27.776451Z",
     "iopub.status.idle": "2025-07-30T21:53:27.782110Z",
     "shell.execute_reply": "2025-07-30T21:53:27.781084Z"
    },
    "papermill": {
     "duration": 0.029802,
     "end_time": "2025-07-30T21:53:27.784004",
     "exception": false,
     "start_time": "2025-07-30T21:53:27.754202",
     "status": "completed"
    },
    "tags": []
   },
   "outputs": [],
   "source": [
    "y_train = y_train[keep_mask]"
   ]
  },
  {
   "cell_type": "markdown",
   "id": "493e2ac3",
   "metadata": {
    "papermill": {
     "duration": 0.021658,
     "end_time": "2025-07-30T21:53:27.828843",
     "exception": false,
     "start_time": "2025-07-30T21:53:27.807185",
     "status": "completed"
    },
    "tags": []
   },
   "source": [
    "# Model Training"
   ]
  },
  {
   "cell_type": "code",
   "execution_count": 41,
   "id": "679e1268",
   "metadata": {
    "execution": {
     "iopub.execute_input": "2025-07-30T21:53:27.877402Z",
     "iopub.status.busy": "2025-07-30T21:53:27.876937Z",
     "iopub.status.idle": "2025-07-30T21:53:27.984428Z",
     "shell.execute_reply": "2025-07-30T21:53:27.983339Z"
    },
    "papermill": {
     "duration": 0.134508,
     "end_time": "2025-07-30T21:53:27.986656",
     "exception": false,
     "start_time": "2025-07-30T21:53:27.852148",
     "status": "completed"
    },
    "tags": []
   },
   "outputs": [],
   "source": [
    "from sklearn.linear_model import LogisticRegression\n",
    "from sklearn.ensemble import GradientBoostingClassifier, RandomForestClassifier\n",
    "\n",
    "if (universe[\"model\"] == \"logreg\"):\n",
    "    model = LogisticRegression() #penalty=\"none\") #, solver=\"newton-cg\", max_iter=1) # include random_state=19 ?\n",
    "elif (universe[\"model\"] == \"penalized_logreg\"):\n",
    "    model = LogisticRegression(penalty=\"l2\", C=1.0) #, solver=\"newton-cg\", max_iter=1)\n",
    "elif (universe[\"model\"] == \"rf\"):\n",
    "    model = RandomForestClassifier(n_estimators=100, n_jobs=-1)\n",
    "elif (universe[\"model\"] == \"gbm\"):\n",
    "    model = GradientBoostingClassifier()\n",
    "elif (universe[\"model\"] == \"elasticnet\"):\n",
    "    model = LogisticRegression(penalty = 'elasticnet', solver = 'saga', l1_ratio = 0.5, max_iter=5000) # which solver to use?\n",
    "else:\n",
    "    raise \"Unsupported universe.model\""
   ]
  },
  {
   "cell_type": "code",
   "execution_count": 42,
   "id": "0cc8f744",
   "metadata": {
    "execution": {
     "iopub.execute_input": "2025-07-30T21:53:28.049142Z",
     "iopub.status.busy": "2025-07-30T21:53:28.048141Z",
     "iopub.status.idle": "2025-07-30T21:53:28.055235Z",
     "shell.execute_reply": "2025-07-30T21:53:28.054208Z"
    },
    "papermill": {
     "duration": 0.041031,
     "end_time": "2025-07-30T21:53:28.057171",
     "exception": false,
     "start_time": "2025-07-30T21:53:28.016140",
     "status": "completed"
    },
    "tags": []
   },
   "outputs": [],
   "source": [
    "import numpy as np\n",
    "from sklearn.pipeline import Pipeline\n",
    "from sklearn.preprocessing import StandardScaler\n",
    "\n",
    "model = Pipeline([\n",
    "    #(\"continuous_processor\", continuous_processor),\n",
    "    #(\"categorical_preprocessor\", categorical_preprocessor),\n",
    "    (\"scale\", StandardScaler() if universe[\"scale\"] == \"scale\" else None), \n",
    "    (\"model\", model),\n",
    "])"
   ]
  },
  {
   "cell_type": "code",
   "execution_count": 43,
   "id": "9442c04d",
   "metadata": {
    "execution": {
     "iopub.execute_input": "2025-07-30T21:53:28.121422Z",
     "iopub.status.busy": "2025-07-30T21:53:28.120729Z",
     "iopub.status.idle": "2025-07-30T21:53:44.298193Z",
     "shell.execute_reply": "2025-07-30T21:53:44.297030Z"
    },
    "papermill": {
     "duration": 16.212076,
     "end_time": "2025-07-30T21:53:44.299974",
     "exception": false,
     "start_time": "2025-07-30T21:53:28.087898",
     "status": "completed"
    },
    "tags": []
   },
   "outputs": [
    {
     "name": "stderr",
     "output_type": "stream",
     "text": [
      "/dss/dsshome1/0C/ra93lal2/.local/share/virtualenvs/CMA_Fairness_v2-3j10GkSs/lib/python3.10/site-packages/sklearn/linear_model/_sag.py:350: ConvergenceWarning: The max_iter was reached which means the coef_ did not converge\n",
      "  warnings.warn(\n"
     ]
    },
    {
     "data": {
      "text/html": [
       "<style>#sk-container-id-1 {color: black;background-color: white;}#sk-container-id-1 pre{padding: 0;}#sk-container-id-1 div.sk-toggleable {background-color: white;}#sk-container-id-1 label.sk-toggleable__label {cursor: pointer;display: block;width: 100%;margin-bottom: 0;padding: 0.3em;box-sizing: border-box;text-align: center;}#sk-container-id-1 label.sk-toggleable__label-arrow:before {content: \"▸\";float: left;margin-right: 0.25em;color: #696969;}#sk-container-id-1 label.sk-toggleable__label-arrow:hover:before {color: black;}#sk-container-id-1 div.sk-estimator:hover label.sk-toggleable__label-arrow:before {color: black;}#sk-container-id-1 div.sk-toggleable__content {max-height: 0;max-width: 0;overflow: hidden;text-align: left;background-color: #f0f8ff;}#sk-container-id-1 div.sk-toggleable__content pre {margin: 0.2em;color: black;border-radius: 0.25em;background-color: #f0f8ff;}#sk-container-id-1 input.sk-toggleable__control:checked~div.sk-toggleable__content {max-height: 200px;max-width: 100%;overflow: auto;}#sk-container-id-1 input.sk-toggleable__control:checked~label.sk-toggleable__label-arrow:before {content: \"▾\";}#sk-container-id-1 div.sk-estimator input.sk-toggleable__control:checked~label.sk-toggleable__label {background-color: #d4ebff;}#sk-container-id-1 div.sk-label input.sk-toggleable__control:checked~label.sk-toggleable__label {background-color: #d4ebff;}#sk-container-id-1 input.sk-hidden--visually {border: 0;clip: rect(1px 1px 1px 1px);clip: rect(1px, 1px, 1px, 1px);height: 1px;margin: -1px;overflow: hidden;padding: 0;position: absolute;width: 1px;}#sk-container-id-1 div.sk-estimator {font-family: monospace;background-color: #f0f8ff;border: 1px dotted black;border-radius: 0.25em;box-sizing: border-box;margin-bottom: 0.5em;}#sk-container-id-1 div.sk-estimator:hover {background-color: #d4ebff;}#sk-container-id-1 div.sk-parallel-item::after {content: \"\";width: 100%;border-bottom: 1px solid gray;flex-grow: 1;}#sk-container-id-1 div.sk-label:hover label.sk-toggleable__label {background-color: #d4ebff;}#sk-container-id-1 div.sk-serial::before {content: \"\";position: absolute;border-left: 1px solid gray;box-sizing: border-box;top: 0;bottom: 0;left: 50%;z-index: 0;}#sk-container-id-1 div.sk-serial {display: flex;flex-direction: column;align-items: center;background-color: white;padding-right: 0.2em;padding-left: 0.2em;position: relative;}#sk-container-id-1 div.sk-item {position: relative;z-index: 1;}#sk-container-id-1 div.sk-parallel {display: flex;align-items: stretch;justify-content: center;background-color: white;position: relative;}#sk-container-id-1 div.sk-item::before, #sk-container-id-1 div.sk-parallel-item::before {content: \"\";position: absolute;border-left: 1px solid gray;box-sizing: border-box;top: 0;bottom: 0;left: 50%;z-index: -1;}#sk-container-id-1 div.sk-parallel-item {display: flex;flex-direction: column;z-index: 1;position: relative;background-color: white;}#sk-container-id-1 div.sk-parallel-item:first-child::after {align-self: flex-end;width: 50%;}#sk-container-id-1 div.sk-parallel-item:last-child::after {align-self: flex-start;width: 50%;}#sk-container-id-1 div.sk-parallel-item:only-child::after {width: 0;}#sk-container-id-1 div.sk-dashed-wrapped {border: 1px dashed gray;margin: 0 0.4em 0.5em 0.4em;box-sizing: border-box;padding-bottom: 0.4em;background-color: white;}#sk-container-id-1 div.sk-label label {font-family: monospace;font-weight: bold;display: inline-block;line-height: 1.2em;}#sk-container-id-1 div.sk-label-container {text-align: center;}#sk-container-id-1 div.sk-container {/* jupyter's `normalize.less` sets `[hidden] { display: none; }` but bootstrap.min.css set `[hidden] { display: none !important; }` so we also need the `!important` here to be able to override the default hidden behavior on the sphinx rendered scikit-learn.org. See: https://github.com/scikit-learn/scikit-learn/issues/21755 */display: inline-block !important;position: relative;}#sk-container-id-1 div.sk-text-repr-fallback {display: none;}</style><div id=\"sk-container-id-1\" class=\"sk-top-container\"><div class=\"sk-text-repr-fallback\"><pre>Pipeline(steps=[(&#x27;scale&#x27;, None),\n",
       "                (&#x27;model&#x27;,\n",
       "                 LogisticRegression(l1_ratio=0.5, max_iter=5000,\n",
       "                                    penalty=&#x27;elasticnet&#x27;, solver=&#x27;saga&#x27;))])</pre><b>In a Jupyter environment, please rerun this cell to show the HTML representation or trust the notebook. <br />On GitHub, the HTML representation is unable to render, please try loading this page with nbviewer.org.</b></div><div class=\"sk-container\" hidden><div class=\"sk-item sk-dashed-wrapped\"><div class=\"sk-label-container\"><div class=\"sk-label sk-toggleable\"><input class=\"sk-toggleable__control sk-hidden--visually\" id=\"sk-estimator-id-1\" type=\"checkbox\" ><label for=\"sk-estimator-id-1\" class=\"sk-toggleable__label sk-toggleable__label-arrow\">Pipeline</label><div class=\"sk-toggleable__content\"><pre>Pipeline(steps=[(&#x27;scale&#x27;, None),\n",
       "                (&#x27;model&#x27;,\n",
       "                 LogisticRegression(l1_ratio=0.5, max_iter=5000,\n",
       "                                    penalty=&#x27;elasticnet&#x27;, solver=&#x27;saga&#x27;))])</pre></div></div></div><div class=\"sk-serial\"><div class=\"sk-item\"><div class=\"sk-estimator sk-toggleable\"><input class=\"sk-toggleable__control sk-hidden--visually\" id=\"sk-estimator-id-2\" type=\"checkbox\" ><label for=\"sk-estimator-id-2\" class=\"sk-toggleable__label sk-toggleable__label-arrow\">None</label><div class=\"sk-toggleable__content\"><pre>None</pre></div></div></div><div class=\"sk-item\"><div class=\"sk-estimator sk-toggleable\"><input class=\"sk-toggleable__control sk-hidden--visually\" id=\"sk-estimator-id-3\" type=\"checkbox\" ><label for=\"sk-estimator-id-3\" class=\"sk-toggleable__label sk-toggleable__label-arrow\">LogisticRegression</label><div class=\"sk-toggleable__content\"><pre>LogisticRegression(l1_ratio=0.5, max_iter=5000, penalty=&#x27;elasticnet&#x27;,\n",
       "                   solver=&#x27;saga&#x27;)</pre></div></div></div></div></div></div></div>"
      ],
      "text/plain": [
       "Pipeline(steps=[('scale', None),\n",
       "                ('model',\n",
       "                 LogisticRegression(l1_ratio=0.5, max_iter=5000,\n",
       "                                    penalty='elasticnet', solver='saga'))])"
      ]
     },
     "execution_count": 43,
     "metadata": {},
     "output_type": "execute_result"
    }
   ],
   "source": [
    "model.fit(X_train, y_train.values.ravel())"
   ]
  },
  {
   "cell_type": "code",
   "execution_count": 44,
   "id": "af59f8c0",
   "metadata": {
    "execution": {
     "iopub.execute_input": "2025-07-30T21:53:44.357083Z",
     "iopub.status.busy": "2025-07-30T21:53:44.356534Z",
     "iopub.status.idle": "2025-07-30T21:53:44.363203Z",
     "shell.execute_reply": "2025-07-30T21:53:44.362152Z"
    },
    "papermill": {
     "duration": 0.038318,
     "end_time": "2025-07-30T21:53:44.364981",
     "exception": false,
     "start_time": "2025-07-30T21:53:44.326663",
     "status": "completed"
    },
    "tags": []
   },
   "outputs": [],
   "source": [
    "from fairness_multiverse.universe import predict_w_threshold"
   ]
  },
  {
   "cell_type": "code",
   "execution_count": 45,
   "id": "a7cf2e16",
   "metadata": {
    "execution": {
     "iopub.execute_input": "2025-07-30T21:53:44.417223Z",
     "iopub.status.busy": "2025-07-30T21:53:44.416560Z",
     "iopub.status.idle": "2025-07-30T21:53:44.520616Z",
     "shell.execute_reply": "2025-07-30T21:53:44.519578Z"
    },
    "papermill": {
     "duration": 0.134661,
     "end_time": "2025-07-30T21:53:44.522450",
     "exception": false,
     "start_time": "2025-07-30T21:53:44.387789",
     "status": "completed"
    },
    "tags": []
   },
   "outputs": [
    {
     "data": {
      "text/plain": [
       "0.8631590681083491"
      ]
     },
     "execution_count": 45,
     "metadata": {},
     "output_type": "execute_result"
    }
   ],
   "source": [
    "probs_test = model.predict_proba(X_test)\n",
    "\n",
    "'''\n",
    "Below code returns a boolean array (or binary 0/1 array depending on how it’s used) where each element \n",
    "is True if the probability of class 1 is greater than or equal to the threshold, and False otherwise.\n",
    "'''\n",
    "y_pred_default = predict_w_threshold(probs_test, 0.5)\n",
    "\n",
    "from sklearn.metrics import accuracy_score\n",
    "\n",
    "# Naive prediction\n",
    "accuracy_score(y_true = y_true, y_pred = y_pred_default)"
   ]
  },
  {
   "cell_type": "code",
   "execution_count": 46,
   "id": "081964c3",
   "metadata": {
    "execution": {
     "iopub.execute_input": "2025-07-30T21:53:44.574316Z",
     "iopub.status.busy": "2025-07-30T21:53:44.573750Z",
     "iopub.status.idle": "2025-07-30T21:53:44.662183Z",
     "shell.execute_reply": "2025-07-30T21:53:44.661254Z"
    },
    "papermill": {
     "duration": 0.114927,
     "end_time": "2025-07-30T21:53:44.663916",
     "exception": false,
     "start_time": "2025-07-30T21:53:44.548989",
     "status": "completed"
    },
    "tags": []
   },
   "outputs": [
    {
     "data": {
      "text/plain": [
       "array([0, 0, 0, ..., 0, 0, 0])"
      ]
     },
     "execution_count": 46,
     "metadata": {},
     "output_type": "execute_result"
    }
   ],
   "source": [
    "model.predict(X_test)"
   ]
  },
  {
   "cell_type": "markdown",
   "id": "56c9705b",
   "metadata": {
    "papermill": {
     "duration": 0.024968,
     "end_time": "2025-07-30T21:53:44.716489",
     "exception": false,
     "start_time": "2025-07-30T21:53:44.691521",
     "status": "completed"
    },
    "tags": []
   },
   "source": [
    "# Conformal Prediction"
   ]
  },
  {
   "cell_type": "code",
   "execution_count": 47,
   "id": "160ec6ff",
   "metadata": {
    "execution": {
     "iopub.execute_input": "2025-07-30T21:53:44.767479Z",
     "iopub.status.busy": "2025-07-30T21:53:44.766899Z",
     "iopub.status.idle": "2025-07-30T21:53:44.773214Z",
     "shell.execute_reply": "2025-07-30T21:53:44.771812Z"
    },
    "papermill": {
     "duration": 0.035387,
     "end_time": "2025-07-30T21:53:44.775343",
     "exception": false,
     "start_time": "2025-07-30T21:53:44.739956",
     "status": "completed"
    },
    "tags": []
   },
   "outputs": [],
   "source": [
    "# Miscoverage level for conformal prediction (10% allowed error rate => 90% target coverage)\n",
    "alpha = 0.1"
   ]
  },
  {
   "cell_type": "code",
   "execution_count": 48,
   "id": "eadf4555-3dd3-440e-8e35-f82a4ad9f855",
   "metadata": {
    "execution": {
     "iopub.execute_input": "2025-07-30T21:53:44.829147Z",
     "iopub.status.busy": "2025-07-30T21:53:44.828105Z",
     "iopub.status.idle": "2025-07-30T21:53:44.921169Z",
     "shell.execute_reply": "2025-07-30T21:53:44.920105Z"
    },
    "papermill": {
     "duration": 0.120109,
     "end_time": "2025-07-30T21:53:44.923094",
     "exception": false,
     "start_time": "2025-07-30T21:53:44.802985",
     "status": "completed"
    },
    "tags": []
   },
   "outputs": [],
   "source": [
    "probs_calib = model.predict_proba(X_calib)"
   ]
  },
  {
   "cell_type": "code",
   "execution_count": 49,
   "id": "2ed93547-6d5d-4983-9b36-1ecb300da49a",
   "metadata": {
    "execution": {
     "iopub.execute_input": "2025-07-30T21:53:44.980884Z",
     "iopub.status.busy": "2025-07-30T21:53:44.979873Z",
     "iopub.status.idle": "2025-07-30T21:53:44.986345Z",
     "shell.execute_reply": "2025-07-30T21:53:44.985343Z"
    },
    "papermill": {
     "duration": 0.035918,
     "end_time": "2025-07-30T21:53:44.988872",
     "exception": false,
     "start_time": "2025-07-30T21:53:44.952954",
     "status": "completed"
    },
    "tags": []
   },
   "outputs": [],
   "source": [
    "y_calib = y_calib.values.ravel().astype(int)"
   ]
  },
  {
   "cell_type": "code",
   "execution_count": 50,
   "id": "65d1320d-f588-4b38-9072-62af1ae97f7d",
   "metadata": {
    "execution": {
     "iopub.execute_input": "2025-07-30T21:53:45.042415Z",
     "iopub.status.busy": "2025-07-30T21:53:45.041716Z",
     "iopub.status.idle": "2025-07-30T21:53:45.049600Z",
     "shell.execute_reply": "2025-07-30T21:53:45.048720Z"
    },
    "papermill": {
     "duration": 0.03582,
     "end_time": "2025-07-30T21:53:45.051301",
     "exception": false,
     "start_time": "2025-07-30T21:53:45.015481",
     "status": "completed"
    },
    "tags": []
   },
   "outputs": [],
   "source": [
    "from fairness_multiverse.conformal import compute_nc_scores\n",
    "\n",
    "# Compute nonconformity scores on calibration set (1 - probability of true class)\n",
    "nc_scores = compute_nc_scores(probs_calib, y_calib)"
   ]
  },
  {
   "cell_type": "code",
   "execution_count": 51,
   "id": "df3b8ca3-53b7-43d5-9667-7c85da7aeda2",
   "metadata": {
    "execution": {
     "iopub.execute_input": "2025-07-30T21:53:45.106590Z",
     "iopub.status.busy": "2025-07-30T21:53:45.105784Z",
     "iopub.status.idle": "2025-07-30T21:53:45.112774Z",
     "shell.execute_reply": "2025-07-30T21:53:45.111687Z"
    },
    "papermill": {
     "duration": 0.035675,
     "end_time": "2025-07-30T21:53:45.114479",
     "exception": false,
     "start_time": "2025-07-30T21:53:45.078804",
     "status": "completed"
    },
    "tags": []
   },
   "outputs": [],
   "source": [
    "from fairness_multiverse.conformal import find_threshold\n",
    "\n",
    "# Find conformal threshold q_hat for the given alpha (split conformal method)\n",
    "q_hat = find_threshold(nc_scores, alpha)"
   ]
  },
  {
   "cell_type": "code",
   "execution_count": 52,
   "id": "4d29e6c1-0ef6-4aa4-b8fe-4fe79b0d033a",
   "metadata": {
    "execution": {
     "iopub.execute_input": "2025-07-30T21:53:45.169678Z",
     "iopub.status.busy": "2025-07-30T21:53:45.168848Z",
     "iopub.status.idle": "2025-07-30T21:53:45.177677Z",
     "shell.execute_reply": "2025-07-30T21:53:45.176737Z"
    },
    "papermill": {
     "duration": 0.037528,
     "end_time": "2025-07-30T21:53:45.179388",
     "exception": false,
     "start_time": "2025-07-30T21:53:45.141860",
     "status": "completed"
    },
    "tags": []
   },
   "outputs": [
    {
     "data": {
      "text/plain": [
       "0.6910181665248536"
      ]
     },
     "execution_count": 52,
     "metadata": {},
     "output_type": "execute_result"
    }
   ],
   "source": [
    "q_hat"
   ]
  },
  {
   "cell_type": "code",
   "execution_count": 53,
   "id": "92460794-cdac-4be2-ba28-f28c0515a6fb",
   "metadata": {
    "execution": {
     "iopub.execute_input": "2025-07-30T21:53:45.234406Z",
     "iopub.status.busy": "2025-07-30T21:53:45.233713Z",
     "iopub.status.idle": "2025-07-30T21:53:46.108260Z",
     "shell.execute_reply": "2025-07-30T21:53:46.107155Z"
    },
    "papermill": {
     "duration": 0.903881,
     "end_time": "2025-07-30T21:53:46.110170",
     "exception": false,
     "start_time": "2025-07-30T21:53:45.206289",
     "status": "completed"
    },
    "tags": []
   },
   "outputs": [],
   "source": [
    "from fairness_multiverse.conformal import predict_conformal_sets\n",
    "\n",
    "# Generate prediction sets for each test example\n",
    "pred_sets = predict_conformal_sets(model, X_test, q_hat)"
   ]
  },
  {
   "cell_type": "code",
   "execution_count": 54,
   "id": "d90c9a65-e6db-4f5d-80cd-e68fb7e46829",
   "metadata": {
    "execution": {
     "iopub.execute_input": "2025-07-30T21:53:46.163017Z",
     "iopub.status.busy": "2025-07-30T21:53:46.162483Z",
     "iopub.status.idle": "2025-07-30T21:53:46.169355Z",
     "shell.execute_reply": "2025-07-30T21:53:46.168240Z"
    },
    "papermill": {
     "duration": 0.0366,
     "end_time": "2025-07-30T21:53:46.170938",
     "exception": false,
     "start_time": "2025-07-30T21:53:46.134338",
     "status": "completed"
    },
    "tags": []
   },
   "outputs": [],
   "source": [
    "y_true = y_true.squeeze()"
   ]
  },
  {
   "cell_type": "code",
   "execution_count": 55,
   "id": "3a58a54a-1e68-46b9-927a-df01f18aebc8",
   "metadata": {
    "execution": {
     "iopub.execute_input": "2025-07-30T21:53:46.225449Z",
     "iopub.status.busy": "2025-07-30T21:53:46.224427Z",
     "iopub.status.idle": "2025-07-30T21:53:47.628900Z",
     "shell.execute_reply": "2025-07-30T21:53:47.628103Z"
    },
    "papermill": {
     "duration": 1.434534,
     "end_time": "2025-07-30T21:53:47.630549",
     "exception": false,
     "start_time": "2025-07-30T21:53:46.196015",
     "status": "completed"
    },
    "tags": []
   },
   "outputs": [],
   "source": [
    "from fairness_multiverse.conformal import evaluate_sets\n",
    "\n",
    "# Evaluate coverage and average set size on test data\n",
    "metrics = evaluate_sets(pred_sets, y_true)"
   ]
  },
  {
   "cell_type": "markdown",
   "id": "2b569c12-9aaa-4c88-98c9-bbcd0cf3ebb8",
   "metadata": {
    "papermill": {
     "duration": 0.012404,
     "end_time": "2025-07-30T21:53:47.656322",
     "exception": false,
     "start_time": "2025-07-30T21:53:47.643918",
     "status": "completed"
    },
    "tags": []
   },
   "source": [
    "# CP Metrics"
   ]
  },
  {
   "cell_type": "code",
   "execution_count": 56,
   "id": "5ce0a5cb-201f-45a0-ade5-94c7f0bd6095",
   "metadata": {
    "execution": {
     "iopub.execute_input": "2025-07-30T21:53:47.689671Z",
     "iopub.status.busy": "2025-07-30T21:53:47.689012Z",
     "iopub.status.idle": "2025-07-30T21:53:47.695287Z",
     "shell.execute_reply": "2025-07-30T21:53:47.694519Z"
    },
    "papermill": {
     "duration": 0.023816,
     "end_time": "2025-07-30T21:53:47.696591",
     "exception": false,
     "start_time": "2025-07-30T21:53:47.672775",
     "status": "completed"
    },
    "tags": []
   },
   "outputs": [
    {
     "data": {
      "text/plain": [
       "{'coverage': 0.9131869356816409, 'avg_size': 1.2532716531044477}"
      ]
     },
     "execution_count": 56,
     "metadata": {},
     "output_type": "execute_result"
    }
   ],
   "source": [
    "metrics"
   ]
  },
  {
   "cell_type": "code",
   "execution_count": 57,
   "id": "9b9a838d-31c9-430b-ae14-12baee460d17",
   "metadata": {
    "execution": {
     "iopub.execute_input": "2025-07-30T21:53:47.727293Z",
     "iopub.status.busy": "2025-07-30T21:53:47.726121Z",
     "iopub.status.idle": "2025-07-30T21:53:47.731553Z",
     "shell.execute_reply": "2025-07-30T21:53:47.730856Z"
    },
    "papermill": {
     "duration": 0.023166,
     "end_time": "2025-07-30T21:53:47.732880",
     "exception": false,
     "start_time": "2025-07-30T21:53:47.709714",
     "status": "completed"
    },
    "tags": []
   },
   "outputs": [],
   "source": [
    "example_universe = universe.copy()\n",
    "universe_training_year = example_universe.get(\"training_year\")\n",
    "universe_training_size = example_universe.get(\"training_size\")\n",
    "universe_scale = example_universe.get(\"scale\")\n",
    "universe_model = example_universe.get(\"model\")\n",
    "universe_exclude_features = example_universe.get(\"exclude_features\")\n",
    "universe_exclude_subgroups = example_universe.get(\"exclude_subgroups\")"
   ]
  },
  {
   "cell_type": "code",
   "execution_count": 58,
   "id": "f4b6a8ac-9dc0-4245-8a91-5b3b5999c4f9",
   "metadata": {
    "execution": {
     "iopub.execute_input": "2025-07-30T21:53:47.760822Z",
     "iopub.status.busy": "2025-07-30T21:53:47.760124Z",
     "iopub.status.idle": "2025-07-30T21:53:47.765148Z",
     "shell.execute_reply": "2025-07-30T21:53:47.764506Z"
    },
    "papermill": {
     "duration": 0.019768,
     "end_time": "2025-07-30T21:53:47.766506",
     "exception": false,
     "start_time": "2025-07-30T21:53:47.746738",
     "status": "completed"
    },
    "tags": []
   },
   "outputs": [],
   "source": [
    "cp_metrics_dict = {\n",
    "    \"universe_id\": [universe_id],\n",
    "    \"universe_training_year\": [universe_training_year],\n",
    "    \"universe_training_size\": [universe_training_size],\n",
    "    \"universe_scale\": [universe_scale],\n",
    "    \"universe_model\": [universe_model],\n",
    "    \"universe_exclude_features\": [universe_exclude_features],\n",
    "    \"universe_exclude_subgroups\": [universe_exclude_subgroups],\n",
    "    \"q_hat\": [q_hat],\n",
    "    \"coverage\": [metrics[\"coverage\"]],\n",
    "    \"avg_size\": [metrics[\"avg_size\"]],\n",
    "}"
   ]
  },
  {
   "cell_type": "code",
   "execution_count": 59,
   "id": "908acbb1-0371-4915-85ca-3fa520d2efe2",
   "metadata": {
    "execution": {
     "iopub.execute_input": "2025-07-30T21:53:47.814054Z",
     "iopub.status.busy": "2025-07-30T21:53:47.813648Z",
     "iopub.status.idle": "2025-07-30T21:53:47.820471Z",
     "shell.execute_reply": "2025-07-30T21:53:47.819485Z"
    },
    "papermill": {
     "duration": 0.031535,
     "end_time": "2025-07-30T21:53:47.821905",
     "exception": false,
     "start_time": "2025-07-30T21:53:47.790370",
     "status": "completed"
    },
    "tags": []
   },
   "outputs": [
    {
     "data": {
      "text/plain": [
       "{'universe_id': ['0500c40bfc3035b9ca897afe93e0c0e9'],\n",
       " 'universe_training_year': ['2010_14'],\n",
       " 'universe_training_size': ['1k'],\n",
       " 'universe_scale': ['do-not-scale'],\n",
       " 'universe_model': ['elasticnet'],\n",
       " 'universe_exclude_features': ['nationality'],\n",
       " 'universe_exclude_subgroups': ['drop-non-german'],\n",
       " 'q_hat': [0.6910181665248536],\n",
       " 'coverage': [0.9131869356816409],\n",
       " 'avg_size': [1.2532716531044477]}"
      ]
     },
     "execution_count": 59,
     "metadata": {},
     "output_type": "execute_result"
    }
   ],
   "source": [
    "cp_metrics_dict"
   ]
  },
  {
   "cell_type": "code",
   "execution_count": 60,
   "id": "33007efc-14e9-4ec6-97ac-56a455c82265",
   "metadata": {
    "execution": {
     "iopub.execute_input": "2025-07-30T21:53:47.871018Z",
     "iopub.status.busy": "2025-07-30T21:53:47.870461Z",
     "iopub.status.idle": "2025-07-30T21:53:47.876661Z",
     "shell.execute_reply": "2025-07-30T21:53:47.875649Z"
    },
    "papermill": {
     "duration": 0.032005,
     "end_time": "2025-07-30T21:53:47.878163",
     "exception": false,
     "start_time": "2025-07-30T21:53:47.846158",
     "status": "completed"
    },
    "tags": []
   },
   "outputs": [],
   "source": [
    "cp_metrics_df = pd.DataFrame(cp_metrics_dict)"
   ]
  },
  {
   "cell_type": "code",
   "execution_count": 61,
   "id": "db12611b-57b2-4910-b9d0-355adfd6e7bf",
   "metadata": {
    "execution": {
     "iopub.execute_input": "2025-07-30T21:53:47.926030Z",
     "iopub.status.busy": "2025-07-30T21:53:47.925533Z",
     "iopub.status.idle": "2025-07-30T21:53:47.943609Z",
     "shell.execute_reply": "2025-07-30T21:53:47.942743Z"
    },
    "papermill": {
     "duration": 0.04304,
     "end_time": "2025-07-30T21:53:47.945180",
     "exception": false,
     "start_time": "2025-07-30T21:53:47.902140",
     "status": "completed"
    },
    "tags": []
   },
   "outputs": [
    {
     "data": {
      "text/html": [
       "<div>\n",
       "<style scoped>\n",
       "    .dataframe tbody tr th:only-of-type {\n",
       "        vertical-align: middle;\n",
       "    }\n",
       "\n",
       "    .dataframe tbody tr th {\n",
       "        vertical-align: top;\n",
       "    }\n",
       "\n",
       "    .dataframe thead th {\n",
       "        text-align: right;\n",
       "    }\n",
       "</style>\n",
       "<table border=\"1\" class=\"dataframe\">\n",
       "  <thead>\n",
       "    <tr style=\"text-align: right;\">\n",
       "      <th></th>\n",
       "      <th>universe_id</th>\n",
       "      <th>universe_training_year</th>\n",
       "      <th>universe_training_size</th>\n",
       "      <th>universe_scale</th>\n",
       "      <th>universe_model</th>\n",
       "      <th>universe_exclude_features</th>\n",
       "      <th>universe_exclude_subgroups</th>\n",
       "      <th>q_hat</th>\n",
       "      <th>coverage</th>\n",
       "      <th>avg_size</th>\n",
       "    </tr>\n",
       "  </thead>\n",
       "  <tbody>\n",
       "    <tr>\n",
       "      <th>0</th>\n",
       "      <td>0500c40bfc3035b9ca897afe93e0c0e9</td>\n",
       "      <td>2010_14</td>\n",
       "      <td>1k</td>\n",
       "      <td>do-not-scale</td>\n",
       "      <td>elasticnet</td>\n",
       "      <td>nationality</td>\n",
       "      <td>drop-non-german</td>\n",
       "      <td>0.691018</td>\n",
       "      <td>0.913187</td>\n",
       "      <td>1.253272</td>\n",
       "    </tr>\n",
       "  </tbody>\n",
       "</table>\n",
       "</div>"
      ],
      "text/plain": [
       "                        universe_id universe_training_year  \\\n",
       "0  0500c40bfc3035b9ca897afe93e0c0e9                2010_14   \n",
       "\n",
       "  universe_training_size universe_scale universe_model  \\\n",
       "0                     1k   do-not-scale     elasticnet   \n",
       "\n",
       "  universe_exclude_features universe_exclude_subgroups     q_hat  coverage  \\\n",
       "0               nationality            drop-non-german  0.691018  0.913187   \n",
       "\n",
       "   avg_size  \n",
       "0  1.253272  "
      ]
     },
     "execution_count": 61,
     "metadata": {},
     "output_type": "execute_result"
    }
   ],
   "source": [
    "cp_metrics_df"
   ]
  },
  {
   "cell_type": "code",
   "execution_count": 62,
   "id": "b7fbde55-a0a1-47e4-9af6-fe4a17fa8c61",
   "metadata": {
    "execution": {
     "iopub.execute_input": "2025-07-30T21:53:47.995164Z",
     "iopub.status.busy": "2025-07-30T21:53:47.994346Z",
     "iopub.status.idle": "2025-07-30T21:53:47.999999Z",
     "shell.execute_reply": "2025-07-30T21:53:47.999083Z"
    },
    "papermill": {
     "duration": 0.032094,
     "end_time": "2025-07-30T21:53:48.001651",
     "exception": false,
     "start_time": "2025-07-30T21:53:47.969557",
     "status": "completed"
    },
    "tags": []
   },
   "outputs": [],
   "source": [
    "# Conditional Coverage & looking at subgroups"
   ]
  },
  {
   "cell_type": "code",
   "execution_count": 63,
   "id": "027ae886-68dd-4141-96c7-805a5450e1ef",
   "metadata": {
    "execution": {
     "iopub.execute_input": "2025-07-30T21:53:48.054302Z",
     "iopub.status.busy": "2025-07-30T21:53:48.053634Z",
     "iopub.status.idle": "2025-07-30T21:53:48.350258Z",
     "shell.execute_reply": "2025-07-30T21:53:48.349274Z"
    },
    "papermill": {
     "duration": 0.325194,
     "end_time": "2025-07-30T21:53:48.352388",
     "exception": false,
     "start_time": "2025-07-30T21:53:48.027194",
     "status": "completed"
    },
    "tags": []
   },
   "outputs": [],
   "source": [
    "from fairness_multiverse.conformal import build_cp_groups\n",
    "\n",
    "cp_groups_df = build_cp_groups(pred_sets, y_true, X_test.index, org_test)\n",
    "#needs universe_id and setting"
   ]
  },
  {
   "cell_type": "code",
   "execution_count": 64,
   "id": "01d5802c-663a-4d1f-9d69-e036faaffbf7",
   "metadata": {
    "execution": {
     "iopub.execute_input": "2025-07-30T21:53:48.409991Z",
     "iopub.status.busy": "2025-07-30T21:53:48.409260Z",
     "iopub.status.idle": "2025-07-30T21:53:48.414486Z",
     "shell.execute_reply": "2025-07-30T21:53:48.413500Z"
    },
    "papermill": {
     "duration": 0.035653,
     "end_time": "2025-07-30T21:53:48.416244",
     "exception": false,
     "start_time": "2025-07-30T21:53:48.380591",
     "status": "completed"
    },
    "tags": []
   },
   "outputs": [],
   "source": [
    "#delete\n",
    "#cp_groups_df"
   ]
  },
  {
   "cell_type": "code",
   "execution_count": 65,
   "id": "fa424af1-d1eb-443d-b717-2d279ada8408",
   "metadata": {
    "execution": {
     "iopub.execute_input": "2025-07-30T21:53:48.474176Z",
     "iopub.status.busy": "2025-07-30T21:53:48.473474Z",
     "iopub.status.idle": "2025-07-30T21:53:48.478708Z",
     "shell.execute_reply": "2025-07-30T21:53:48.477714Z"
    },
    "papermill": {
     "duration": 0.035733,
     "end_time": "2025-07-30T21:53:48.480326",
     "exception": false,
     "start_time": "2025-07-30T21:53:48.444593",
     "status": "completed"
    },
    "tags": []
   },
   "outputs": [],
   "source": [
    "#delete\n",
    "#percentage = (cp_groups_df['nongerman_female'] == 1).mean() * 100\n",
    "#print(percentage)\n"
   ]
  },
  {
   "cell_type": "code",
   "execution_count": 66,
   "id": "6cbdab96-b2b2-45af-ad54-d0516db2e28d",
   "metadata": {
    "execution": {
     "iopub.execute_input": "2025-07-30T21:53:48.537528Z",
     "iopub.status.busy": "2025-07-30T21:53:48.536832Z",
     "iopub.status.idle": "2025-07-30T21:53:49.995067Z",
     "shell.execute_reply": "2025-07-30T21:53:49.994034Z"
    },
    "papermill": {
     "duration": 1.488786,
     "end_time": "2025-07-30T21:53:49.997191",
     "exception": false,
     "start_time": "2025-07-30T21:53:48.508405",
     "status": "completed"
    },
    "tags": []
   },
   "outputs": [],
   "source": [
    "# Define covered = 1 if true_label is in the predicted set\n",
    "cp_groups_df['covered'] = cp_groups_df.apply(\n",
    "    lambda r: int(r['true_label'] in r['pred_set']),\n",
    "    axis=1\n",
    ")"
   ]
  },
  {
   "cell_type": "code",
   "execution_count": 67,
   "id": "338ff529-1a6b-4b87-a931-8e4788d52aad",
   "metadata": {
    "execution": {
     "iopub.execute_input": "2025-07-30T21:53:50.060649Z",
     "iopub.status.busy": "2025-07-30T21:53:50.060183Z",
     "iopub.status.idle": "2025-07-30T21:53:50.065558Z",
     "shell.execute_reply": "2025-07-30T21:53:50.064404Z"
    },
    "papermill": {
     "duration": 0.038374,
     "end_time": "2025-07-30T21:53:50.067295",
     "exception": false,
     "start_time": "2025-07-30T21:53:50.028921",
     "status": "completed"
    },
    "tags": []
   },
   "outputs": [],
   "source": [
    "#cp_groups_df"
   ]
  },
  {
   "cell_type": "code",
   "execution_count": 68,
   "id": "90032e27-66df-4540-9169-4e89cfbaa758",
   "metadata": {
    "execution": {
     "iopub.execute_input": "2025-07-30T21:53:50.132582Z",
     "iopub.status.busy": "2025-07-30T21:53:50.132084Z",
     "iopub.status.idle": "2025-07-30T21:53:50.143721Z",
     "shell.execute_reply": "2025-07-30T21:53:50.142678Z"
    },
    "papermill": {
     "duration": 0.051256,
     "end_time": "2025-07-30T21:53:50.146448",
     "exception": false,
     "start_time": "2025-07-30T21:53:50.095192",
     "status": "completed"
    },
    "tags": []
   },
   "outputs": [],
   "source": [
    "subgroups = ['frau1','nongerman','nongerman_male','nongerman_female']\n",
    "\n",
    "# Conditional coverage for subgroup==1\n",
    "cond_coverage = {\n",
    "    g: cp_groups_df.loc[cp_groups_df[g]==1, 'covered'].mean()\n",
    "    for g in subgroups\n",
    "}"
   ]
  },
  {
   "cell_type": "code",
   "execution_count": 69,
   "id": "1e348fb1-b9c3-45bc-ba23-f016827a7e0d",
   "metadata": {
    "execution": {
     "iopub.execute_input": "2025-07-30T21:53:50.212366Z",
     "iopub.status.busy": "2025-07-30T21:53:50.211612Z",
     "iopub.status.idle": "2025-07-30T21:53:50.220962Z",
     "shell.execute_reply": "2025-07-30T21:53:50.219657Z"
    },
    "papermill": {
     "duration": 0.040218,
     "end_time": "2025-07-30T21:53:50.222731",
     "exception": false,
     "start_time": "2025-07-30T21:53:50.182513",
     "status": "completed"
    },
    "tags": []
   },
   "outputs": [
    {
     "data": {
      "text/plain": [
       "{'frau1': 0.9118749157568405,\n",
       " 'nongerman': 0.9511592657048223,\n",
       " 'nongerman_male': 0.9598306763937674,\n",
       " 'nongerman_female': 0.9368107302533532}"
      ]
     },
     "execution_count": 69,
     "metadata": {},
     "output_type": "execute_result"
    }
   ],
   "source": [
    "cond_coverage"
   ]
  },
  {
   "cell_type": "code",
   "execution_count": 70,
   "id": "f5093324-c3dd-4d63-bc4c-8d945e5c8bbb",
   "metadata": {
    "execution": {
     "iopub.execute_input": "2025-07-30T21:53:50.278724Z",
     "iopub.status.busy": "2025-07-30T21:53:50.278227Z",
     "iopub.status.idle": "2025-07-30T21:53:50.285767Z",
     "shell.execute_reply": "2025-07-30T21:53:50.284860Z"
    },
    "papermill": {
     "duration": 0.038928,
     "end_time": "2025-07-30T21:53:50.287530",
     "exception": false,
     "start_time": "2025-07-30T21:53:50.248602",
     "status": "completed"
    },
    "tags": []
   },
   "outputs": [],
   "source": [
    "for subgroup, cov in cond_coverage.items():\n",
    "    cp_metrics_df[f\"cov_{subgroup}\"] = cov"
   ]
  },
  {
   "cell_type": "code",
   "execution_count": 71,
   "id": "6e872e10-dbe5-49e8-b554-5030c98ff75d",
   "metadata": {
    "execution": {
     "iopub.execute_input": "2025-07-30T21:53:50.342623Z",
     "iopub.status.busy": "2025-07-30T21:53:50.342123Z",
     "iopub.status.idle": "2025-07-30T21:53:50.362709Z",
     "shell.execute_reply": "2025-07-30T21:53:50.361934Z"
    },
    "papermill": {
     "duration": 0.052304,
     "end_time": "2025-07-30T21:53:50.364278",
     "exception": false,
     "start_time": "2025-07-30T21:53:50.311974",
     "status": "completed"
    },
    "tags": []
   },
   "outputs": [
    {
     "data": {
      "text/html": [
       "<div>\n",
       "<style scoped>\n",
       "    .dataframe tbody tr th:only-of-type {\n",
       "        vertical-align: middle;\n",
       "    }\n",
       "\n",
       "    .dataframe tbody tr th {\n",
       "        vertical-align: top;\n",
       "    }\n",
       "\n",
       "    .dataframe thead th {\n",
       "        text-align: right;\n",
       "    }\n",
       "</style>\n",
       "<table border=\"1\" class=\"dataframe\">\n",
       "  <thead>\n",
       "    <tr style=\"text-align: right;\">\n",
       "      <th></th>\n",
       "      <th>universe_id</th>\n",
       "      <th>universe_training_year</th>\n",
       "      <th>universe_training_size</th>\n",
       "      <th>universe_scale</th>\n",
       "      <th>universe_model</th>\n",
       "      <th>universe_exclude_features</th>\n",
       "      <th>universe_exclude_subgroups</th>\n",
       "      <th>q_hat</th>\n",
       "      <th>coverage</th>\n",
       "      <th>avg_size</th>\n",
       "      <th>cov_frau1</th>\n",
       "      <th>cov_nongerman</th>\n",
       "      <th>cov_nongerman_male</th>\n",
       "      <th>cov_nongerman_female</th>\n",
       "    </tr>\n",
       "  </thead>\n",
       "  <tbody>\n",
       "    <tr>\n",
       "      <th>0</th>\n",
       "      <td>0500c40bfc3035b9ca897afe93e0c0e9</td>\n",
       "      <td>2010_14</td>\n",
       "      <td>1k</td>\n",
       "      <td>do-not-scale</td>\n",
       "      <td>elasticnet</td>\n",
       "      <td>nationality</td>\n",
       "      <td>drop-non-german</td>\n",
       "      <td>0.691018</td>\n",
       "      <td>0.913187</td>\n",
       "      <td>1.253272</td>\n",
       "      <td>0.911875</td>\n",
       "      <td>0.951159</td>\n",
       "      <td>0.959831</td>\n",
       "      <td>0.936811</td>\n",
       "    </tr>\n",
       "  </tbody>\n",
       "</table>\n",
       "</div>"
      ],
      "text/plain": [
       "                        universe_id universe_training_year  \\\n",
       "0  0500c40bfc3035b9ca897afe93e0c0e9                2010_14   \n",
       "\n",
       "  universe_training_size universe_scale universe_model  \\\n",
       "0                     1k   do-not-scale     elasticnet   \n",
       "\n",
       "  universe_exclude_features universe_exclude_subgroups     q_hat  coverage  \\\n",
       "0               nationality            drop-non-german  0.691018  0.913187   \n",
       "\n",
       "   avg_size  cov_frau1  cov_nongerman  cov_nongerman_male  \\\n",
       "0  1.253272   0.911875       0.951159            0.959831   \n",
       "\n",
       "   cov_nongerman_female  \n",
       "0              0.936811  "
      ]
     },
     "execution_count": 71,
     "metadata": {},
     "output_type": "execute_result"
    }
   ],
   "source": [
    "cp_metrics_df"
   ]
  },
  {
   "cell_type": "markdown",
   "id": "33774451",
   "metadata": {
    "papermill": {
     "duration": 0.028716,
     "end_time": "2025-07-30T21:53:50.423320",
     "exception": false,
     "start_time": "2025-07-30T21:53:50.394604",
     "status": "completed"
    },
    "tags": []
   },
   "source": [
    "# (Fairness) Metrics"
   ]
  },
  {
   "cell_type": "code",
   "execution_count": 72,
   "id": "debc5d62",
   "metadata": {
    "execution": {
     "iopub.execute_input": "2025-07-30T21:53:50.461894Z",
     "iopub.status.busy": "2025-07-30T21:53:50.461446Z",
     "iopub.status.idle": "2025-07-30T21:53:50.475448Z",
     "shell.execute_reply": "2025-07-30T21:53:50.474710Z"
    },
    "papermill": {
     "duration": 0.032305,
     "end_time": "2025-07-30T21:53:50.477040",
     "exception": false,
     "start_time": "2025-07-30T21:53:50.444735",
     "status": "completed"
    },
    "tags": []
   },
   "outputs": [],
   "source": [
    "# do I need to include maxdeutsch1.missing?\n",
    "\n",
    "import numpy as np\n",
    "\n",
    "colname_to_bin = \"maxdeutsch1\"\n",
    "majority_value = org_train[colname_to_bin].mode()[0]\n",
    "\n",
    "org_test[\"majmin\"] = np.where(org_test[colname_to_bin] == majority_value, \"majority\", \"minority\")"
   ]
  },
  {
   "cell_type": "code",
   "execution_count": 73,
   "id": "06a50de5",
   "metadata": {
    "execution": {
     "iopub.execute_input": "2025-07-30T21:53:50.544831Z",
     "iopub.status.busy": "2025-07-30T21:53:50.544405Z",
     "iopub.status.idle": "2025-07-30T21:53:53.062249Z",
     "shell.execute_reply": "2025-07-30T21:53:53.061536Z"
    },
    "papermill": {
     "duration": 2.557703,
     "end_time": "2025-07-30T21:53:53.063592",
     "exception": false,
     "start_time": "2025-07-30T21:53:50.505889",
     "status": "completed"
    },
    "tags": []
   },
   "outputs": [],
   "source": [
    "example_universe = universe.copy()\n",
    "example_universe[\"cutoff\"] = example_universe[\"cutoff\"][0]\n",
    "example_universe[\"eval_fairness_grouping\"] = example_universe[\"eval_fairness_grouping\"][0]\n",
    "fairness_dict, metric_frame = universe_analysis.compute_metrics(\n",
    "    example_universe,\n",
    "    y_pred_prob=probs_test,\n",
    "    y_test=y_true,\n",
    "    org_test=org_test,\n",
    ")"
   ]
  },
  {
   "cell_type": "markdown",
   "id": "f95d4e02",
   "metadata": {
    "papermill": {
     "duration": 0.020478,
     "end_time": "2025-07-30T21:53:53.106338",
     "exception": false,
     "start_time": "2025-07-30T21:53:53.085860",
     "status": "completed"
    },
    "tags": []
   },
   "source": [
    "# Overall"
   ]
  },
  {
   "cell_type": "markdown",
   "id": "bdee4871",
   "metadata": {
    "papermill": {
     "duration": 0.013316,
     "end_time": "2025-07-30T21:53:53.134493",
     "exception": false,
     "start_time": "2025-07-30T21:53:53.121177",
     "status": "completed"
    },
    "tags": []
   },
   "source": [
    "Fairness\n",
    "Main fairness target: Equalized Odds. Seems to be a better fit than equal opportunity, since we're not only interested in Y = 1. Seems to be a better fit than demographic parity, since we also care about accuracy, not just equal distribution of preds.\n",
    "\n",
    "Pick column for computation of fairness metrics\n",
    "\n",
    "Performance\n",
    "Overall performance measures, most interesting in relation to the measures split by group below"
   ]
  },
  {
   "cell_type": "code",
   "execution_count": 74,
   "id": "c4e067c6",
   "metadata": {
    "execution": {
     "iopub.execute_input": "2025-07-30T21:53:53.162483Z",
     "iopub.status.busy": "2025-07-30T21:53:53.162137Z",
     "iopub.status.idle": "2025-07-30T21:53:53.169177Z",
     "shell.execute_reply": "2025-07-30T21:53:53.168449Z"
    },
    "papermill": {
     "duration": 0.022502,
     "end_time": "2025-07-30T21:53:53.170339",
     "exception": false,
     "start_time": "2025-07-30T21:53:53.147837",
     "status": "completed"
    },
    "tags": []
   },
   "outputs": [
    {
     "data": {
      "text/plain": [
       "accuracy                   0.214012\n",
       "balanced accuracy          0.525459\n",
       "f1                         0.235628\n",
       "precision                  0.134607\n",
       "false positive rate        0.893468\n",
       "false negative rate        0.055613\n",
       "selection rate             0.900000\n",
       "count                  89710.000000\n",
       "dtype: float64"
      ]
     },
     "execution_count": 74,
     "metadata": {},
     "output_type": "execute_result"
    }
   ],
   "source": [
    "metric_frame.overall"
   ]
  },
  {
   "cell_type": "markdown",
   "id": "e968fe9d",
   "metadata": {
    "papermill": {
     "duration": 0.013447,
     "end_time": "2025-07-30T21:53:53.197425",
     "exception": false,
     "start_time": "2025-07-30T21:53:53.183978",
     "status": "completed"
    },
    "tags": []
   },
   "source": [
    "By Group"
   ]
  },
  {
   "cell_type": "code",
   "execution_count": 75,
   "id": "ec325bce",
   "metadata": {
    "execution": {
     "iopub.execute_input": "2025-07-30T21:53:53.226471Z",
     "iopub.status.busy": "2025-07-30T21:53:53.226125Z",
     "iopub.status.idle": "2025-07-30T21:53:53.238683Z",
     "shell.execute_reply": "2025-07-30T21:53:53.237956Z"
    },
    "papermill": {
     "duration": 0.028859,
     "end_time": "2025-07-30T21:53:53.240149",
     "exception": false,
     "start_time": "2025-07-30T21:53:53.211290",
     "status": "completed"
    },
    "tags": []
   },
   "outputs": [
    {
     "data": {
      "text/html": [
       "<div>\n",
       "<style scoped>\n",
       "    .dataframe tbody tr th:only-of-type {\n",
       "        vertical-align: middle;\n",
       "    }\n",
       "\n",
       "    .dataframe tbody tr th {\n",
       "        vertical-align: top;\n",
       "    }\n",
       "\n",
       "    .dataframe thead th {\n",
       "        text-align: right;\n",
       "    }\n",
       "</style>\n",
       "<table border=\"1\" class=\"dataframe\">\n",
       "  <thead>\n",
       "    <tr style=\"text-align: right;\">\n",
       "      <th></th>\n",
       "      <th>accuracy</th>\n",
       "      <th>balanced accuracy</th>\n",
       "      <th>f1</th>\n",
       "      <th>precision</th>\n",
       "      <th>false positive rate</th>\n",
       "      <th>false negative rate</th>\n",
       "      <th>selection rate</th>\n",
       "      <th>count</th>\n",
       "    </tr>\n",
       "    <tr>\n",
       "      <th>majmin</th>\n",
       "      <th></th>\n",
       "      <th></th>\n",
       "      <th></th>\n",
       "      <th></th>\n",
       "      <th></th>\n",
       "      <th></th>\n",
       "      <th></th>\n",
       "      <th></th>\n",
       "    </tr>\n",
       "  </thead>\n",
       "  <tbody>\n",
       "    <tr>\n",
       "      <th>majority</th>\n",
       "      <td>0.235275</td>\n",
       "      <td>0.531781</td>\n",
       "      <td>0.244170</td>\n",
       "      <td>0.140425</td>\n",
       "      <td>0.871231</td>\n",
       "      <td>0.065208</td>\n",
       "      <td>0.879630</td>\n",
       "      <td>69170.0</td>\n",
       "    </tr>\n",
       "    <tr>\n",
       "      <th>minority</th>\n",
       "      <td>0.142405</td>\n",
       "      <td>0.507246</td>\n",
       "      <td>0.208777</td>\n",
       "      <td>0.116813</td>\n",
       "      <td>0.966927</td>\n",
       "      <td>0.018581</td>\n",
       "      <td>0.968598</td>\n",
       "      <td>20540.0</td>\n",
       "    </tr>\n",
       "  </tbody>\n",
       "</table>\n",
       "</div>"
      ],
      "text/plain": [
       "          accuracy  balanced accuracy        f1  precision  \\\n",
       "majmin                                                       \n",
       "majority  0.235275           0.531781  0.244170   0.140425   \n",
       "minority  0.142405           0.507246  0.208777   0.116813   \n",
       "\n",
       "          false positive rate  false negative rate  selection rate    count  \n",
       "majmin                                                                       \n",
       "majority             0.871231             0.065208        0.879630  69170.0  \n",
       "minority             0.966927             0.018581        0.968598  20540.0  "
      ]
     },
     "execution_count": 75,
     "metadata": {},
     "output_type": "execute_result"
    }
   ],
   "source": [
    "metric_frame.by_group"
   ]
  },
  {
   "cell_type": "code",
   "execution_count": 76,
   "id": "a9ddbe63",
   "metadata": {
    "execution": {
     "iopub.execute_input": "2025-07-30T21:53:53.270939Z",
     "iopub.status.busy": "2025-07-30T21:53:53.270441Z",
     "iopub.status.idle": "2025-07-30T21:53:55.494719Z",
     "shell.execute_reply": "2025-07-30T21:53:55.493887Z"
    },
    "papermill": {
     "duration": 2.240951,
     "end_time": "2025-07-30T21:53:55.496228",
     "exception": false,
     "start_time": "2025-07-30T21:53:53.255277",
     "status": "completed"
    },
    "tags": []
   },
   "outputs": [
    {
     "data": {
      "text/plain": [
       "array([[<Axes: title={'center': 'accuracy'}, xlabel='majmin'>,\n",
       "        <Axes: title={'center': 'balanced accuracy'}, xlabel='majmin'>,\n",
       "        <Axes: title={'center': 'f1'}, xlabel='majmin'>],\n",
       "       [<Axes: title={'center': 'precision'}, xlabel='majmin'>,\n",
       "        <Axes: title={'center': 'false positive rate'}, xlabel='majmin'>,\n",
       "        <Axes: title={'center': 'false negative rate'}, xlabel='majmin'>],\n",
       "       [<Axes: title={'center': 'selection rate'}, xlabel='majmin'>,\n",
       "        <Axes: title={'center': 'count'}, xlabel='majmin'>,\n",
       "        <Axes: xlabel='majmin'>]], dtype=object)"
      ]
     },
     "execution_count": 76,
     "metadata": {},
     "output_type": "execute_result"
    },
    {
     "data": {
      "image/png": "[encoded data removed]",
      "text/plain": [
       "<Figure size 1200x800 with 9 Axes>"
      ]
     },
     "metadata": {},
     "output_type": "display_data"
    }
   ],
   "source": [
    "# In a graphic\n",
    "metric_frame.by_group.plot.bar(\n",
    "    subplots=True,\n",
    "    layout=[3, 3],\n",
    "    legend=False,\n",
    "    figsize=[12, 8],\n",
    "    title=\"Show all metrics\",\n",
    ")"
   ]
  },
  {
   "cell_type": "markdown",
   "id": "f57a0bac",
   "metadata": {
    "papermill": {
     "duration": 0.029151,
     "end_time": "2025-07-30T21:53:55.552999",
     "exception": false,
     "start_time": "2025-07-30T21:53:55.523848",
     "status": "completed"
    },
    "tags": []
   },
   "source": [
    "# Final Output"
   ]
  },
  {
   "cell_type": "code",
   "execution_count": 77,
   "id": "96d280a3",
   "metadata": {
    "execution": {
     "iopub.execute_input": "2025-07-30T21:53:55.608312Z",
     "iopub.status.busy": "2025-07-30T21:53:55.607659Z",
     "iopub.status.idle": "2025-07-30T21:53:55.615662Z",
     "shell.execute_reply": "2025-07-30T21:53:55.614851Z"
    },
    "papermill": {
     "duration": 0.037164,
     "end_time": "2025-07-30T21:53:55.617163",
     "exception": false,
     "start_time": "2025-07-30T21:53:55.579999",
     "status": "completed"
    },
    "tags": []
   },
   "outputs": [
    {
     "data": {
      "text/plain": [
       "4"
      ]
     },
     "execution_count": 77,
     "metadata": {},
     "output_type": "execute_result"
    }
   ],
   "source": [
    "sub_universes = universe_analysis.generate_sub_universes()\n",
    "len(sub_universes)"
   ]
  },
  {
   "cell_type": "code",
   "execution_count": 78,
   "id": "92adf7ba",
   "metadata": {
    "execution": {
     "iopub.execute_input": "2025-07-30T21:53:55.673010Z",
     "iopub.status.busy": "2025-07-30T21:53:55.672192Z",
     "iopub.status.idle": "2025-07-30T21:53:55.678004Z",
     "shell.execute_reply": "2025-07-30T21:53:55.677139Z"
    },
    "papermill": {
     "duration": 0.035495,
     "end_time": "2025-07-30T21:53:55.679618",
     "exception": false,
     "start_time": "2025-07-30T21:53:55.644123",
     "status": "completed"
    },
    "tags": []
   },
   "outputs": [],
   "source": [
    "def filter_sub_universe_data(sub_universe, org_test):\n",
    "    # Keep all rows — no filtering\n",
    "    keep_rows_mask = np.ones(org_test.shape[0], dtype=bool)\n",
    "\n",
    "    print(f\"[INFO] Keeping all rows: {keep_rows_mask.sum()} rows retained.\")\n",
    "    return keep_rows_mask"
   ]
  },
  {
   "cell_type": "code",
   "execution_count": 79,
   "id": "4a759155",
   "metadata": {
    "execution": {
     "iopub.execute_input": "2025-07-30T21:53:55.735347Z",
     "iopub.status.busy": "2025-07-30T21:53:55.734534Z",
     "iopub.status.idle": "2025-07-30T21:54:04.965602Z",
     "shell.execute_reply": "2025-07-30T21:54:04.964667Z"
    },
    "papermill": {
     "duration": 9.260173,
     "end_time": "2025-07-30T21:54:04.967170",
     "exception": false,
     "start_time": "2025-07-30T21:53:55.706997",
     "status": "completed"
    },
    "tags": []
   },
   "outputs": [
    {
     "name": "stdout",
     "output_type": "stream",
     "text": [
      "Stopping execution_time clock.\n",
      "[INFO] Keeping all rows: 89710 rows retained.\n"
     ]
    },
    {
     "name": "stdout",
     "output_type": "stream",
     "text": [
      "[INFO] Keeping all rows: 89710 rows retained.\n"
     ]
    },
    {
     "name": "stdout",
     "output_type": "stream",
     "text": [
      "[INFO] Keeping all rows: 89710 rows retained.\n"
     ]
    },
    {
     "name": "stdout",
     "output_type": "stream",
     "text": [
      "[INFO] Keeping all rows: 89710 rows retained.\n"
     ]
    },
    {
     "data": {
      "text/html": [
       "<div>\n",
       "<style scoped>\n",
       "    .dataframe tbody tr th:only-of-type {\n",
       "        vertical-align: middle;\n",
       "    }\n",
       "\n",
       "    .dataframe tbody tr th {\n",
       "        vertical-align: top;\n",
       "    }\n",
       "\n",
       "    .dataframe thead th {\n",
       "        text-align: right;\n",
       "    }\n",
       "</style>\n",
       "<table border=\"1\" class=\"dataframe\">\n",
       "  <thead>\n",
       "    <tr style=\"text-align: right;\">\n",
       "      <th></th>\n",
       "      <th>run_no</th>\n",
       "      <th>universe_id</th>\n",
       "      <th>universe_settings</th>\n",
       "      <th>execution_time</th>\n",
       "      <th>test_size_n</th>\n",
       "      <th>test_size_frac</th>\n",
       "      <th>fair_main_equalized_odds_difference</th>\n",
       "      <th>fair_main_equalized_odds_ratio</th>\n",
       "      <th>fair_main_demographic_parity_difference</th>\n",
       "      <th>fair_main_demographic_parity_ratio</th>\n",
       "      <th>...</th>\n",
       "      <th>perf_grp_precision_0</th>\n",
       "      <th>perf_grp_precision_1</th>\n",
       "      <th>perf_grp_false positive rate_0</th>\n",
       "      <th>perf_grp_false positive rate_1</th>\n",
       "      <th>perf_grp_false negative rate_0</th>\n",
       "      <th>perf_grp_false negative rate_1</th>\n",
       "      <th>perf_grp_selection rate_0</th>\n",
       "      <th>perf_grp_selection rate_1</th>\n",
       "      <th>perf_grp_count_0</th>\n",
       "      <th>perf_grp_count_1</th>\n",
       "    </tr>\n",
       "  </thead>\n",
       "  <tbody>\n",
       "    <tr>\n",
       "      <th>0</th>\n",
       "      <td>14</td>\n",
       "      <td>0500c40bfc3035b9ca897afe93e0c0e9</td>\n",
       "      <td>{\"cutoff\": \"quantile_0.1\", \"eval_fairness_grou...</td>\n",
       "      <td>45.581122</td>\n",
       "      <td>89710</td>\n",
       "      <td>1.0</td>\n",
       "      <td>0.095696</td>\n",
       "      <td>0.901031</td>\n",
       "      <td>0.088968</td>\n",
       "      <td>0.908148</td>\n",
       "      <td>...</td>\n",
       "      <td>NaN</td>\n",
       "      <td>NaN</td>\n",
       "      <td>NaN</td>\n",
       "      <td>NaN</td>\n",
       "      <td>NaN</td>\n",
       "      <td>NaN</td>\n",
       "      <td>NaN</td>\n",
       "      <td>NaN</td>\n",
       "      <td>NaN</td>\n",
       "      <td>NaN</td>\n",
       "    </tr>\n",
       "    <tr>\n",
       "      <th>0</th>\n",
       "      <td>14</td>\n",
       "      <td>0500c40bfc3035b9ca897afe93e0c0e9</td>\n",
       "      <td>{\"cutoff\": \"quantile_0.1\", \"eval_fairness_grou...</td>\n",
       "      <td>45.581122</td>\n",
       "      <td>89710</td>\n",
       "      <td>1.0</td>\n",
       "      <td>0.095696</td>\n",
       "      <td>0.901031</td>\n",
       "      <td>0.088968</td>\n",
       "      <td>0.908148</td>\n",
       "      <td>...</td>\n",
       "      <td>0.116813</td>\n",
       "      <td>0.140425</td>\n",
       "      <td>0.966927</td>\n",
       "      <td>0.871231</td>\n",
       "      <td>0.018581</td>\n",
       "      <td>0.065208</td>\n",
       "      <td>0.968598</td>\n",
       "      <td>0.879630</td>\n",
       "      <td>20540.0</td>\n",
       "      <td>69170.0</td>\n",
       "    </tr>\n",
       "    <tr>\n",
       "      <th>0</th>\n",
       "      <td>14</td>\n",
       "      <td>0500c40bfc3035b9ca897afe93e0c0e9</td>\n",
       "      <td>{\"cutoff\": \"quantile_0.25\", \"eval_fairness_gro...</td>\n",
       "      <td>45.581122</td>\n",
       "      <td>89710</td>\n",
       "      <td>1.0</td>\n",
       "      <td>0.222517</td>\n",
       "      <td>0.754101</td>\n",
       "      <td>0.207115</td>\n",
       "      <td>0.772323</td>\n",
       "      <td>...</td>\n",
       "      <td>NaN</td>\n",
       "      <td>NaN</td>\n",
       "      <td>NaN</td>\n",
       "      <td>NaN</td>\n",
       "      <td>NaN</td>\n",
       "      <td>NaN</td>\n",
       "      <td>NaN</td>\n",
       "      <td>NaN</td>\n",
       "      <td>NaN</td>\n",
       "      <td>NaN</td>\n",
       "    </tr>\n",
       "    <tr>\n",
       "      <th>0</th>\n",
       "      <td>14</td>\n",
       "      <td>0500c40bfc3035b9ca897afe93e0c0e9</td>\n",
       "      <td>{\"cutoff\": \"quantile_0.25\", \"eval_fairness_gro...</td>\n",
       "      <td>45.581122</td>\n",
       "      <td>89710</td>\n",
       "      <td>1.0</td>\n",
       "      <td>0.222517</td>\n",
       "      <td>0.754101</td>\n",
       "      <td>0.207115</td>\n",
       "      <td>0.772323</td>\n",
       "      <td>...</td>\n",
       "      <td>0.119936</td>\n",
       "      <td>0.157067</td>\n",
       "      <td>0.904909</td>\n",
       "      <td>0.682392</td>\n",
       "      <td>0.053632</td>\n",
       "      <td>0.164880</td>\n",
       "      <td>0.909688</td>\n",
       "      <td>0.702573</td>\n",
       "      <td>20540.0</td>\n",
       "      <td>69170.0</td>\n",
       "    </tr>\n",
       "  </tbody>\n",
       "</table>\n",
       "<p>4 rows × 50 columns</p>\n",
       "</div>"
      ],
      "text/plain": [
       "  run_no                       universe_id  \\\n",
       "0     14  0500c40bfc3035b9ca897afe93e0c0e9   \n",
       "0     14  0500c40bfc3035b9ca897afe93e0c0e9   \n",
       "0     14  0500c40bfc3035b9ca897afe93e0c0e9   \n",
       "0     14  0500c40bfc3035b9ca897afe93e0c0e9   \n",
       "\n",
       "                                   universe_settings  execution_time  \\\n",
       "0  {\"cutoff\": \"quantile_0.1\", \"eval_fairness_grou...       45.581122   \n",
       "0  {\"cutoff\": \"quantile_0.1\", \"eval_fairness_grou...       45.581122   \n",
       "0  {\"cutoff\": \"quantile_0.25\", \"eval_fairness_gro...       45.581122   \n",
       "0  {\"cutoff\": \"quantile_0.25\", \"eval_fairness_gro...       45.581122   \n",
       "\n",
       "   test_size_n  test_size_frac  fair_main_equalized_odds_difference  \\\n",
       "0        89710             1.0                             0.095696   \n",
       "0        89710             1.0                             0.095696   \n",
       "0        89710             1.0                             0.222517   \n",
       "0        89710             1.0                             0.222517   \n",
       "\n",
       "   fair_main_equalized_odds_ratio  fair_main_demographic_parity_difference  \\\n",
       "0                        0.901031                                 0.088968   \n",
       "0                        0.901031                                 0.088968   \n",
       "0                        0.754101                                 0.207115   \n",
       "0                        0.754101                                 0.207115   \n",
       "\n",
       "   fair_main_demographic_parity_ratio  ...  perf_grp_precision_0  \\\n",
       "0                            0.908148  ...                   NaN   \n",
       "0                            0.908148  ...              0.116813   \n",
       "0                            0.772323  ...                   NaN   \n",
       "0                            0.772323  ...              0.119936   \n",
       "\n",
       "   perf_grp_precision_1  perf_grp_false positive rate_0  \\\n",
       "0                   NaN                             NaN   \n",
       "0              0.140425                        0.966927   \n",
       "0                   NaN                             NaN   \n",
       "0              0.157067                        0.904909   \n",
       "\n",
       "   perf_grp_false positive rate_1  perf_grp_false negative rate_0  \\\n",
       "0                             NaN                             NaN   \n",
       "0                        0.871231                        0.018581   \n",
       "0                             NaN                             NaN   \n",
       "0                        0.682392                        0.053632   \n",
       "\n",
       "   perf_grp_false negative rate_1  perf_grp_selection rate_0  \\\n",
       "0                             NaN                        NaN   \n",
       "0                        0.065208                   0.968598   \n",
       "0                             NaN                        NaN   \n",
       "0                        0.164880                   0.909688   \n",
       "\n",
       "   perf_grp_selection rate_1  perf_grp_count_0  perf_grp_count_1  \n",
       "0                        NaN               NaN               NaN  \n",
       "0                   0.879630           20540.0           69170.0  \n",
       "0                        NaN               NaN               NaN  \n",
       "0                   0.702573           20540.0           69170.0  \n",
       "\n",
       "[4 rows x 50 columns]"
      ]
     },
     "execution_count": 79,
     "metadata": {},
     "output_type": "execute_result"
    }
   ],
   "source": [
    "final_output = universe_analysis.generate_final_output(\n",
    "    y_pred_prob=probs_test,\n",
    "    y_test=y_true,\n",
    "    org_test=org_test,\n",
    "    filter_data=filter_sub_universe_data,\n",
    "    cp_metrics_df=cp_metrics_df,\n",
    "    save=True,\n",
    ")\n",
    "final_output"
   ]
  },
  {
   "cell_type": "code",
   "execution_count": null,
   "id": "721ff514-cb11-46f8-b6fc-50392f74b5cb",
   "metadata": {
    "papermill": {
     "duration": 0.031679,
     "end_time": "2025-07-30T21:54:05.031495",
     "exception": false,
     "start_time": "2025-07-30T21:54:04.999816",
     "status": "completed"
    },
    "tags": []
   },
   "outputs": [],
   "source": []
  }
 ],
 "metadata": {
  "celltoolbar": "Tags",
  "kernelspec": {
   "display_name": "Python (CMA Fairness)",
   "language": "python",
   "name": "cma_fair_env"
  },
  "language_info": {
   "codemirror_mode": {
    "name": "ipython",
    "version": 3
   },
   "file_extension": ".py",
   "mimetype": "text/x-python",
   "name": "python",
   "nbconvert_exporter": "python",
   "pygments_lexer": "ipython3",
   "version": "3.10.12"
  },
  "papermill": {
   "default_parameters": {},
   "duration": 59.183063,
   "end_time": "2025-07-30T21:54:05.785509",
   "environment_variables": {},
   "exception": null,
   "input_path": "universe_analysis.ipynb",
   "output_path": "output/runs/14/notebooks/m_14-0500c40bfc3035b9ca897afe93e0c0e9.ipynb",
   "parameters": {
    "output_dir": "output",
    "run_no": "14",
    "seed": "2023",
    "universe": "{\"cutoff\": [\"quantile_0.1\", \"quantile_0.25\"], \"eval_fairness_grouping\": [\"majority-minority\", \"nationality-all\"], \"exclude_features\": \"nationality\", \"exclude_subgroups\": \"drop-non-german\", \"model\": \"elasticnet\", \"scale\": \"do-not-scale\", \"training_size\": \"1k\", \"training_year\": \"2010_14\"}",
    "universe_id": "0500c40bfc3035b9ca897afe93e0c0e9"
   },
   "start_time": "2025-07-30T21:53:06.602446",
   "version": "2.6.0"
  }
 },
 "nbformat": 4,
 "nbformat_minor": 5
}