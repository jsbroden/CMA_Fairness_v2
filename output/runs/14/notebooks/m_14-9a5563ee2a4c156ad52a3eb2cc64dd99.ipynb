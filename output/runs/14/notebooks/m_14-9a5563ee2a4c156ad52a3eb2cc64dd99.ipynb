{
 "cells": [
  {
   "cell_type": "code",
   "execution_count": 1,
   "id": "f159f837-637b-42ba-96b5-ec9a68c44524",
   "metadata": {
    "execution": {
     "iopub.execute_input": "2025-07-30T21:34:39.719865Z",
     "iopub.status.busy": "2025-07-30T21:34:39.719298Z",
     "iopub.status.idle": "2025-07-30T21:34:39.732906Z",
     "shell.execute_reply": "2025-07-30T21:34:39.731855Z"
    },
    "papermill": {
     "duration": 0.041859,
     "end_time": "2025-07-30T21:34:39.734704",
     "exception": false,
     "start_time": "2025-07-30T21:34:39.692845",
     "status": "completed"
    },
    "tags": []
   },
   "outputs": [
    {
     "name": "stdout",
     "output_type": "stream",
     "text": [
      "/dss/dsshome1/0C/ra93lal2/cma/CMA_Fairness_v2\n"
     ]
    },
    {
     "name": "stderr",
     "output_type": "stream",
     "text": [
      "/dss/dsshome1/0C/ra93lal2/.local/share/virtualenvs/CMA_Fairness_v2-3j10GkSs/lib/python3.10/site-packages/IPython/core/magics/osm.py:393: UserWarning: This is now an optional IPython functionality, using bookmarks requires you to install the `pickleshare` library.\n",
      "  bkms = self.shell.db.get('bookmarks', {})\n",
      "/dss/dsshome1/0C/ra93lal2/.local/share/virtualenvs/CMA_Fairness_v2-3j10GkSs/lib/python3.10/site-packages/IPython/core/magics/osm.py:417: UserWarning: This is now an optional IPython functionality, setting dhist requires you to install the `pickleshare` library.\n",
      "  self.shell.db['dhist'] = compress_dhist(dhist)[-100:]\n"
     ]
    }
   ],
   "source": [
    "%cd ~/cma/CMA_Fairness_v2"
   ]
  },
  {
   "cell_type": "markdown",
   "id": "de2603b9",
   "metadata": {
    "papermill": {
     "duration": 0.018347,
     "end_time": "2025-07-30T21:34:39.772996",
     "exception": false,
     "start_time": "2025-07-30T21:34:39.754649",
     "status": "completed"
    },
    "tags": []
   },
   "source": [
    "The following cell holds the definition of our parameters, these values can be overriden by rendering the with e.g. the following command:\n",
    "\n",
    "papermill -p alpha 0.2 -p ratio 0.3 universe_analysis.ipynb output/test_run.ipynb"
   ]
  },
  {
   "cell_type": "code",
   "execution_count": 2,
   "id": "a80968a0-40bb-4fa9-85ef-2d5eefb01975",
   "metadata": {
    "execution": {
     "iopub.execute_input": "2025-07-30T21:34:39.814810Z",
     "iopub.status.busy": "2025-07-30T21:34:39.814154Z",
     "iopub.status.idle": "2025-07-30T21:34:39.820834Z",
     "shell.execute_reply": "2025-07-30T21:34:39.819786Z"
    },
    "papermill": {
     "duration": 0.030509,
     "end_time": "2025-07-30T21:34:39.823090",
     "exception": false,
     "start_time": "2025-07-30T21:34:39.792581",
     "status": "completed"
    },
    "tags": []
   },
   "outputs": [
    {
     "name": "stdout",
     "output_type": "stream",
     "text": [
      "Current working directory: /dss/dsshome1/0C/ra93lal2/cma/CMA_Fairness_v2\n"
     ]
    }
   ],
   "source": [
    "import os\n",
    "print(\"Current working directory:\", os.getcwd())"
   ]
  },
  {
   "cell_type": "code",
   "execution_count": 3,
   "id": "2dce4c03",
   "metadata": {
    "execution": {
     "iopub.execute_input": "2025-07-30T21:34:39.848188Z",
     "iopub.status.busy": "2025-07-30T21:34:39.847760Z",
     "iopub.status.idle": "2025-07-30T21:34:39.853677Z",
     "shell.execute_reply": "2025-07-30T21:34:39.852885Z"
    },
    "papermill": {
     "duration": 0.018284,
     "end_time": "2025-07-30T21:34:39.854936",
     "exception": false,
     "start_time": "2025-07-30T21:34:39.836652",
     "status": "completed"
    },
    "tags": [
     "parameters"
    ]
   },
   "outputs": [],
   "source": [
    "run_no = 0\n",
    "universe_id = \"test\"\n",
    "universe = {\n",
    "    \"training_size\": \"25k\", # \"25k\", \"5k\", \"1k\"\n",
    "    \"training_year\": \"2014\", # \"2014\", \"2012_14\", \"2010_14\"\n",
    "    \"scale\": \"scale\", # \"scale\", \"do-not-scale\",\n",
    "    #\"stratify_split\": \"target\", # \"none\", \"target\", \"protected-attribute\", \"both\",\n",
    "    \"model\": \"elasticnet\", # \"logreg\", \"penalized_logreg\", \"rf\", \"gbm\", \"elasticnet\"\n",
    "    \"cutoff\": [\"quantile_0.15\", \"quantile_0.30\"],\n",
    "    \"exclude_features\": \"age\", # \"none\", \"nationality\", \"sex\", \"nationality-sex\", \"age\"\n",
    "    \"exclude_subgroups\": \"keep-all\", # \"keep-all\", \"drop-non-german\"\n",
    "    \"eval_fairness_grouping\": [\"majority-minority\", \"nationality-all\"]\n",
    "}\n",
    "\n",
    "output_dir=\"./output\"\n",
    "seed=0"
   ]
  },
  {
   "cell_type": "code",
   "execution_count": 4,
   "id": "434e926c",
   "metadata": {
    "execution": {
     "iopub.execute_input": "2025-07-30T21:34:39.876435Z",
     "iopub.status.busy": "2025-07-30T21:34:39.876004Z",
     "iopub.status.idle": "2025-07-30T21:34:39.879989Z",
     "shell.execute_reply": "2025-07-30T21:34:39.879298Z"
    },
    "papermill": {
     "duration": 0.015653,
     "end_time": "2025-07-30T21:34:39.881283",
     "exception": false,
     "start_time": "2025-07-30T21:34:39.865630",
     "status": "completed"
    },
    "tags": [
     "injected-parameters"
    ]
   },
   "outputs": [],
   "source": [
    "# Parameters\n",
    "universe_id = \"9a5563ee2a4c156ad52a3eb2cc64dd99\"\n",
    "run_no = \"14\"\n",
    "universe = \"{\\\"cutoff\\\": [\\\"quantile_0.1\\\", \\\"quantile_0.25\\\"], \\\"eval_fairness_grouping\\\": [\\\"majority-minority\\\", \\\"nationality-all\\\"], \\\"exclude_features\\\": \\\"none\\\", \\\"exclude_subgroups\\\": \\\"keep-all\\\", \\\"model\\\": \\\"rf\\\", \\\"scale\\\": \\\"scale\\\", \\\"training_size\\\": \\\"1k\\\", \\\"training_year\\\": \\\"2012_14\\\"}\"\n",
    "output_dir = \"output\"\n",
    "seed = \"2023\"\n"
   ]
  },
  {
   "cell_type": "code",
   "execution_count": 5,
   "id": "1650acaf",
   "metadata": {
    "execution": {
     "iopub.execute_input": "2025-07-30T21:34:39.904940Z",
     "iopub.status.busy": "2025-07-30T21:34:39.904596Z",
     "iopub.status.idle": "2025-07-30T21:34:39.908671Z",
     "shell.execute_reply": "2025-07-30T21:34:39.907945Z"
    },
    "papermill": {
     "duration": 0.016854,
     "end_time": "2025-07-30T21:34:39.909940",
     "exception": false,
     "start_time": "2025-07-30T21:34:39.893086",
     "status": "completed"
    },
    "tags": []
   },
   "outputs": [],
   "source": [
    "import json\n",
    "# Parse universe into dict if it is passed as a string\n",
    "if isinstance(universe, str):\n",
    "    universe = json.loads(universe)"
   ]
  },
  {
   "cell_type": "code",
   "execution_count": 6,
   "id": "16620c48",
   "metadata": {
    "execution": {
     "iopub.execute_input": "2025-07-30T21:34:39.933936Z",
     "iopub.status.busy": "2025-07-30T21:34:39.933200Z",
     "iopub.status.idle": "2025-07-30T21:34:39.979059Z",
     "shell.execute_reply": "2025-07-30T21:34:39.978114Z"
    },
    "papermill": {
     "duration": 0.059184,
     "end_time": "2025-07-30T21:34:39.980451",
     "exception": false,
     "start_time": "2025-07-30T21:34:39.921267",
     "status": "completed"
    },
    "tags": []
   },
   "outputs": [],
   "source": [
    "# Auto-reload the custom package\n",
    "%load_ext autoreload\n",
    "%autoreload 1\n",
    "%aimport fairness_multiverse"
   ]
  },
  {
   "cell_type": "code",
   "execution_count": 7,
   "id": "01c5c9f3",
   "metadata": {
    "execution": {
     "iopub.execute_input": "2025-07-30T21:34:40.016524Z",
     "iopub.status.busy": "2025-07-30T21:34:40.015718Z",
     "iopub.status.idle": "2025-07-30T21:34:41.711436Z",
     "shell.execute_reply": "2025-07-30T21:34:41.710564Z"
    },
    "papermill": {
     "duration": 1.71518,
     "end_time": "2025-07-30T21:34:41.713007",
     "exception": false,
     "start_time": "2025-07-30T21:34:39.997827",
     "status": "completed"
    },
    "tags": []
   },
   "outputs": [],
   "source": [
    "from fairness_multiverse.universe import UniverseAnalysis\n",
    "\n",
    "universe_analysis = UniverseAnalysis(\n",
    "    run_no = run_no,\n",
    "    universe_id = universe_id,\n",
    "    universe = universe,\n",
    "    output_dir=output_dir,\n",
    ")"
   ]
  },
  {
   "cell_type": "code",
   "execution_count": 8,
   "id": "106241f5",
   "metadata": {
    "execution": {
     "iopub.execute_input": "2025-07-30T21:34:41.754386Z",
     "iopub.status.busy": "2025-07-30T21:34:41.753340Z",
     "iopub.status.idle": "2025-07-30T21:34:41.760881Z",
     "shell.execute_reply": "2025-07-30T21:34:41.759942Z"
    },
    "papermill": {
     "duration": 0.034822,
     "end_time": "2025-07-30T21:34:41.762262",
     "exception": false,
     "start_time": "2025-07-30T21:34:41.727440",
     "status": "completed"
    },
    "tags": []
   },
   "outputs": [
    {
     "name": "stdout",
     "output_type": "stream",
     "text": [
      "Using Seed: 2023\n"
     ]
    }
   ],
   "source": [
    "import numpy as np\n",
    "parsed_seed = int(seed)\n",
    "np.random.seed(parsed_seed)\n",
    "print(f\"Using Seed: {parsed_seed}\")"
   ]
  },
  {
   "cell_type": "markdown",
   "id": "e0ebdc57",
   "metadata": {
    "papermill": {
     "duration": 0.011944,
     "end_time": "2025-07-30T21:34:41.785595",
     "exception": false,
     "start_time": "2025-07-30T21:34:41.773651",
     "status": "completed"
    },
    "tags": []
   },
   "source": [
    "# Loading Data"
   ]
  },
  {
   "cell_type": "markdown",
   "id": "681925a3",
   "metadata": {
    "papermill": {
     "duration": 0.010431,
     "end_time": "2025-07-30T21:34:41.807162",
     "exception": false,
     "start_time": "2025-07-30T21:34:41.796731",
     "status": "completed"
    },
    "tags": []
   },
   "source": [
    "Load siab_train, siab_test, siab_calib and/or \n",
    "load siab_train_features, siab_train_labels"
   ]
  },
  {
   "cell_type": "code",
   "execution_count": 9,
   "id": "f0496b8a",
   "metadata": {
    "execution": {
     "iopub.execute_input": "2025-07-30T21:34:41.830076Z",
     "iopub.status.busy": "2025-07-30T21:34:41.829573Z",
     "iopub.status.idle": "2025-07-30T21:34:54.210867Z",
     "shell.execute_reply": "2025-07-30T21:34:54.209658Z"
    },
    "papermill": {
     "duration": 12.39486,
     "end_time": "2025-07-30T21:34:54.212832",
     "exception": false,
     "start_time": "2025-07-30T21:34:41.817972",
     "status": "completed"
    },
    "tags": []
   },
   "outputs": [
    {
     "name": "stdout",
     "output_type": "stream",
     "text": [
      "Loading SIAB data from cache: data/siab_cached.csv.gz\n"
     ]
    },
    {
     "name": "stdout",
     "output_type": "stream",
     "text": [
      "(643690, 164)\n"
     ]
    }
   ],
   "source": [
    "from pathlib import Path\n",
    "import pandas as pd\n",
    "\n",
    "# File paths\n",
    "raw_file = Path(\"data/raw/siab.csv\")\n",
    "cache_file = Path(\"data/siab_cached.csv.gz\")\n",
    "\n",
    "# Ensure cache directory exists\n",
    "cache_file.parent.mkdir(parents=True, exist_ok=True)\n",
    "\n",
    "# Load with simple caching\n",
    "if cache_file.exists():\n",
    "    print(f\"Loading SIAB data from cache: {cache_file}\")\n",
    "    siab = pd.read_csv(cache_file, compression='gzip')\n",
    "else:\n",
    "    print(f\"Cache not found. Reading raw SIAB data: {raw_file}\")\n",
    "    siab = pd.read_csv(raw_file)\n",
    "    siab.to_csv(cache_file, index=False, compression='gzip')\n",
    "    print(f\"Cached SIAB data to: {cache_file}\")\n",
    "\n",
    "# Now use `siab` DataFrame as needed\n",
    "print(siab.shape)"
   ]
  },
  {
   "cell_type": "code",
   "execution_count": 10,
   "id": "db0ca512-5f53-4dba-abdb-a2888bca41ba",
   "metadata": {
    "execution": {
     "iopub.execute_input": "2025-07-30T21:34:54.265733Z",
     "iopub.status.busy": "2025-07-30T21:34:54.264637Z",
     "iopub.status.idle": "2025-07-30T21:34:54.271207Z",
     "shell.execute_reply": "2025-07-30T21:34:54.270111Z"
    },
    "papermill": {
     "duration": 0.033795,
     "end_time": "2025-07-30T21:34:54.273102",
     "exception": false,
     "start_time": "2025-07-30T21:34:54.239307",
     "status": "completed"
    },
    "tags": []
   },
   "outputs": [],
   "source": [
    "#siab"
   ]
  },
  {
   "cell_type": "code",
   "execution_count": 11,
   "id": "a0edb063",
   "metadata": {
    "execution": {
     "iopub.execute_input": "2025-07-30T21:34:54.321295Z",
     "iopub.status.busy": "2025-07-30T21:34:54.320563Z",
     "iopub.status.idle": "2025-07-30T21:34:54.325639Z",
     "shell.execute_reply": "2025-07-30T21:34:54.324555Z"
    },
    "papermill": {
     "duration": 0.030225,
     "end_time": "2025-07-30T21:34:54.327515",
     "exception": false,
     "start_time": "2025-07-30T21:34:54.297290",
     "status": "completed"
    },
    "tags": []
   },
   "outputs": [],
   "source": [
    "#import pandas as pd\n",
    "#\n",
    "#X_train = pd.read_csv(\"./data/X_train.csv\")\n",
    "#y_train = pd.read_csv(\"./data/y_train.csv\")"
   ]
  },
  {
   "cell_type": "code",
   "execution_count": 12,
   "id": "63d08085",
   "metadata": {
    "execution": {
     "iopub.execute_input": "2025-07-30T21:34:54.377697Z",
     "iopub.status.busy": "2025-07-30T21:34:54.375680Z",
     "iopub.status.idle": "2025-07-30T21:34:54.382304Z",
     "shell.execute_reply": "2025-07-30T21:34:54.381399Z"
    },
    "papermill": {
     "duration": 0.032929,
     "end_time": "2025-07-30T21:34:54.384011",
     "exception": false,
     "start_time": "2025-07-30T21:34:54.351082",
     "status": "completed"
    },
    "tags": []
   },
   "outputs": [],
   "source": [
    "#X_test = pd.read_csv(\"./data/X_test.csv\")\n",
    "#y_true = pd.read_csv(\"./data/y_test.csv\")"
   ]
  },
  {
   "cell_type": "code",
   "execution_count": 13,
   "id": "98a8d0fa-1d3d-4ed8-bb2c-281470e24add",
   "metadata": {
    "execution": {
     "iopub.execute_input": "2025-07-30T21:34:54.428138Z",
     "iopub.status.busy": "2025-07-30T21:34:54.427370Z",
     "iopub.status.idle": "2025-07-30T21:34:54.432526Z",
     "shell.execute_reply": "2025-07-30T21:34:54.431466Z"
    },
    "papermill": {
     "duration": 0.031058,
     "end_time": "2025-07-30T21:34:54.436590",
     "exception": false,
     "start_time": "2025-07-30T21:34:54.405532",
     "status": "completed"
    },
    "tags": []
   },
   "outputs": [],
   "source": [
    "# Calibration data for conformal\n",
    "#X_calib = pd.read_csv(\"./data/X_calib.csv\")\n",
    "#y_calib = pd.read_csv(\"./data/y_calib.csv\")"
   ]
  },
  {
   "cell_type": "markdown",
   "id": "997051c5-15bd-4b69-9786-c3001a3ce484",
   "metadata": {
    "papermill": {
     "duration": 0.011085,
     "end_time": "2025-07-30T21:34:54.465483",
     "exception": false,
     "start_time": "2025-07-30T21:34:54.454398",
     "status": "completed"
    },
    "tags": []
   },
   "source": [
    "# Splitting Data and Setting Training Data Size"
   ]
  },
  {
   "cell_type": "code",
   "execution_count": 14,
   "id": "e993b61f-042d-41a6-8c81-f55681f86335",
   "metadata": {
    "execution": {
     "iopub.execute_input": "2025-07-30T21:34:54.489252Z",
     "iopub.status.busy": "2025-07-30T21:34:54.488891Z",
     "iopub.status.idle": "2025-07-30T21:34:54.499055Z",
     "shell.execute_reply": "2025-07-30T21:34:54.498021Z"
    },
    "papermill": {
     "duration": 0.024049,
     "end_time": "2025-07-30T21:34:54.500603",
     "exception": false,
     "start_time": "2025-07-30T21:34:54.476554",
     "status": "completed"
    },
    "tags": []
   },
   "outputs": [],
   "source": [
    "def sample_by_year_size(df,\n",
    "                        training_year: str,\n",
    "                        training_size: str,\n",
    "                        random_state: int = 42):\n",
    "    # --- parse training_year into a list of int years ---\n",
    "    if \"_\" in training_year:\n",
    "        start_str, end_str = training_year.split(\"_\", 1)\n",
    "        start = int(start_str)\n",
    "        end   = int(end_str) if len(end_str) == 4 else (int(end_str) + (start // 100)*100)\n",
    "        years = list(range(start, end + 1))\n",
    "    else:\n",
    "        years = [int(training_year)]\n",
    "\n",
    "    df = df[df[\"year\"].isin(years)].reset_index(drop=True)\n",
    "\n",
    "    # --- map training_size to total number of samples ---\n",
    "    total_map = {\"25k\": 25_000, \"5k\": 5_000, \"1k\": 1_000}\n",
    "    if training_size not in total_map:\n",
    "        return df  # e.g. \"all\"\n",
    "\n",
    "    total_samples = total_map[training_size]\n",
    "    n_years       = len(years)\n",
    "    base          = total_samples // n_years\n",
    "    remainder     = total_samples % n_years\n",
    "\n",
    "    # --- build a dict: year -> how many to sample ---\n",
    "    # give +1 to the first `remainder` years in ascending order\n",
    "    quotas = {\n",
    "        year: base + (1 if idx < remainder else 0)\n",
    "        for idx, year in enumerate(sorted(years))\n",
    "    }\n",
    "\n",
    "    # --- sample per‐year according to the quota dict ---\n",
    "    sampled = (\n",
    "        df\n",
    "        .groupby(\"year\", group_keys=False)\n",
    "        .apply(lambda grp: grp.sample(\n",
    "            n=min(len(grp), quotas[grp.name]),\n",
    "            random_state=random_state))\n",
    "        .reset_index(drop=True)\n",
    "    )\n",
    "\n",
    "    return sampled"
   ]
  },
  {
   "cell_type": "code",
   "execution_count": 15,
   "id": "c0ccd338-0e02-41f3-a09d-f56f9266e3fb",
   "metadata": {
    "execution": {
     "iopub.execute_input": "2025-07-30T21:34:54.546279Z",
     "iopub.status.busy": "2025-07-30T21:34:54.545773Z",
     "iopub.status.idle": "2025-07-30T21:34:54.551292Z",
     "shell.execute_reply": "2025-07-30T21:34:54.550241Z"
    },
    "papermill": {
     "duration": 0.03077,
     "end_time": "2025-07-30T21:34:54.553053",
     "exception": false,
     "start_time": "2025-07-30T21:34:54.522283",
     "status": "completed"
    },
    "tags": []
   },
   "outputs": [],
   "source": [
    "#universe[\"training_size\"]"
   ]
  },
  {
   "cell_type": "code",
   "execution_count": 16,
   "id": "ca707fd7-8047-4acd-bfa5-66248fbbf8e6",
   "metadata": {
    "execution": {
     "iopub.execute_input": "2025-07-30T21:34:54.599876Z",
     "iopub.status.busy": "2025-07-30T21:34:54.599204Z",
     "iopub.status.idle": "2025-07-30T21:34:54.604362Z",
     "shell.execute_reply": "2025-07-30T21:34:54.603295Z"
    },
    "papermill": {
     "duration": 0.030133,
     "end_time": "2025-07-30T21:34:54.606347",
     "exception": false,
     "start_time": "2025-07-30T21:34:54.576214",
     "status": "completed"
    },
    "tags": []
   },
   "outputs": [],
   "source": [
    "#universe[\"training_year\"]"
   ]
  },
  {
   "cell_type": "code",
   "execution_count": 17,
   "id": "aea9c6ef-6f46-42c8-85eb-5a62025c1508",
   "metadata": {
    "execution": {
     "iopub.execute_input": "2025-07-30T21:34:54.651906Z",
     "iopub.status.busy": "2025-07-30T21:34:54.651367Z",
     "iopub.status.idle": "2025-07-30T21:34:55.253862Z",
     "shell.execute_reply": "2025-07-30T21:34:55.252926Z"
    },
    "papermill": {
     "duration": 0.626766,
     "end_time": "2025-07-30T21:34:55.255795",
     "exception": false,
     "start_time": "2025-07-30T21:34:54.629029",
     "status": "completed"
    },
    "tags": []
   },
   "outputs": [],
   "source": [
    "siab_train = sample_by_year_size(siab,\n",
    "                               training_year=universe[\"training_year\"],\n",
    "                               training_size=universe[\"training_size\"])"
   ]
  },
  {
   "cell_type": "code",
   "execution_count": 18,
   "id": "8d3afb32-789d-442c-8d5d-9f5aa8dd2eed",
   "metadata": {
    "execution": {
     "iopub.execute_input": "2025-07-30T21:34:55.299935Z",
     "iopub.status.busy": "2025-07-30T21:34:55.299269Z",
     "iopub.status.idle": "2025-07-30T21:34:55.304240Z",
     "shell.execute_reply": "2025-07-30T21:34:55.303154Z"
    },
    "papermill": {
     "duration": 0.027408,
     "end_time": "2025-07-30T21:34:55.306147",
     "exception": false,
     "start_time": "2025-07-30T21:34:55.278739",
     "status": "completed"
    },
    "tags": []
   },
   "outputs": [],
   "source": [
    "#siab_train.shape"
   ]
  },
  {
   "cell_type": "code",
   "execution_count": 19,
   "id": "d582db68-1a4c-47fb-84fc-08518dc1975a",
   "metadata": {
    "execution": {
     "iopub.execute_input": "2025-07-30T21:34:55.354461Z",
     "iopub.status.busy": "2025-07-30T21:34:55.353523Z",
     "iopub.status.idle": "2025-07-30T21:34:55.359235Z",
     "shell.execute_reply": "2025-07-30T21:34:55.358200Z"
    },
    "papermill": {
     "duration": 0.031502,
     "end_time": "2025-07-30T21:34:55.361084",
     "exception": false,
     "start_time": "2025-07-30T21:34:55.329582",
     "status": "completed"
    },
    "tags": []
   },
   "outputs": [],
   "source": [
    "#display(siab_train.groupby(\"year\").size())"
   ]
  },
  {
   "cell_type": "code",
   "execution_count": 20,
   "id": "a561edb4-d032-42cb-8256-22eac1111c64",
   "metadata": {
    "execution": {
     "iopub.execute_input": "2025-07-30T21:34:55.414268Z",
     "iopub.status.busy": "2025-07-30T21:34:55.413630Z",
     "iopub.status.idle": "2025-07-30T21:34:55.665139Z",
     "shell.execute_reply": "2025-07-30T21:34:55.664135Z"
    },
    "papermill": {
     "duration": 0.278759,
     "end_time": "2025-07-30T21:34:55.667082",
     "exception": false,
     "start_time": "2025-07-30T21:34:55.388323",
     "status": "completed"
    },
    "tags": []
   },
   "outputs": [],
   "source": [
    "#siab_train = siab_s[siab_s.year < 2015]\n",
    "siab_calib = siab[siab.year == 2015]\n",
    "siab_test = siab[siab.year == 2016]"
   ]
  },
  {
   "cell_type": "code",
   "execution_count": 21,
   "id": "472de16f-c3db-4916-846b-1f0de9cf1746",
   "metadata": {
    "execution": {
     "iopub.execute_input": "2025-07-30T21:34:55.713000Z",
     "iopub.status.busy": "2025-07-30T21:34:55.712573Z",
     "iopub.status.idle": "2025-07-30T21:34:55.719470Z",
     "shell.execute_reply": "2025-07-30T21:34:55.718393Z"
    },
    "papermill": {
     "duration": 0.030505,
     "end_time": "2025-07-30T21:34:55.721628",
     "exception": false,
     "start_time": "2025-07-30T21:34:55.691123",
     "status": "completed"
    },
    "tags": []
   },
   "outputs": [],
   "source": [
    "X_train = siab_train.iloc[:,4:164]\n",
    "y_train = siab_train.iloc[:, [3]]"
   ]
  },
  {
   "cell_type": "code",
   "execution_count": 22,
   "id": "828c96af-f43a-4ed6-ba47-8ac73a47d56c",
   "metadata": {
    "execution": {
     "iopub.execute_input": "2025-07-30T21:34:55.768547Z",
     "iopub.status.busy": "2025-07-30T21:34:55.768122Z",
     "iopub.status.idle": "2025-07-30T21:34:55.828006Z",
     "shell.execute_reply": "2025-07-30T21:34:55.826880Z"
    },
    "papermill": {
     "duration": 0.085404,
     "end_time": "2025-07-30T21:34:55.830000",
     "exception": false,
     "start_time": "2025-07-30T21:34:55.744596",
     "status": "completed"
    },
    "tags": []
   },
   "outputs": [],
   "source": [
    "X_calib = siab_calib.iloc[:,4:164]\n",
    "y_calib = siab_calib.iloc[:, [3]]"
   ]
  },
  {
   "cell_type": "code",
   "execution_count": 23,
   "id": "c34be9c3-6bd6-476e-acd3-845840e303be",
   "metadata": {
    "execution": {
     "iopub.execute_input": "2025-07-30T21:34:55.880358Z",
     "iopub.status.busy": "2025-07-30T21:34:55.879872Z",
     "iopub.status.idle": "2025-07-30T21:34:55.931547Z",
     "shell.execute_reply": "2025-07-30T21:34:55.930241Z"
    },
    "papermill": {
     "duration": 0.078275,
     "end_time": "2025-07-30T21:34:55.933610",
     "exception": false,
     "start_time": "2025-07-30T21:34:55.855335",
     "status": "completed"
    },
    "tags": []
   },
   "outputs": [],
   "source": [
    "X_test = siab_test.iloc[:,4:164]\n",
    "y_true = siab_test.iloc[:, [3]]"
   ]
  },
  {
   "cell_type": "markdown",
   "id": "9901737e-04df-44f0-9100-f5ad144ed040",
   "metadata": {
    "papermill": {
     "duration": 0.023936,
     "end_time": "2025-07-30T21:34:55.983169",
     "exception": false,
     "start_time": "2025-07-30T21:34:55.959233",
     "status": "completed"
    },
    "tags": []
   },
   "source": [
    "# Splitting Data and Setting Training Data Size OLD VERSION"
   ]
  },
  {
   "cell_type": "code",
   "execution_count": 24,
   "id": "acbc8f7d-8fc8-4e86-8c59-5dcb0f58384b",
   "metadata": {
    "execution": {
     "iopub.execute_input": "2025-07-30T21:34:56.033573Z",
     "iopub.status.busy": "2025-07-30T21:34:56.032077Z",
     "iopub.status.idle": "2025-07-30T21:34:56.038848Z",
     "shell.execute_reply": "2025-07-30T21:34:56.037851Z"
    },
    "papermill": {
     "duration": 0.033413,
     "end_time": "2025-07-30T21:34:56.040586",
     "exception": false,
     "start_time": "2025-07-30T21:34:56.007173",
     "status": "completed"
    },
    "tags": []
   },
   "outputs": [],
   "source": [
    "#def sample_by_year(df, training_size, random_state=42):\n",
    "#    if training_size == \"2014\":\n",
    "#        return df[df[\"year\"] == 2014].reset_index(drop=True)\n",
    "#    \n",
    "#    size_map = {\n",
    "#        \"25k\": 5000,\n",
    "#        \"5k\": 1000,\n",
    "#        \"1k\": 200\n",
    "#    }\n",
    "#\n",
    "#    if training_size not in size_map:\n",
    "#        return df.reset_index(drop=True)  # use all data\n",
    "#\n",
    "#    n_per_year = size_map[training_size]\n",
    "#    grouped = df.groupby(\"year\")\n",
    "#    sampled = grouped.apply(lambda x: x.sample(n=min(n_per_year, len(x)), random_state=random_state))\n",
    "#    return sampled.reset_index(drop=True)"
   ]
  },
  {
   "cell_type": "code",
   "execution_count": 25,
   "id": "6d931f52-beaf-43ff-9e78-9d44a448d54e",
   "metadata": {
    "execution": {
     "iopub.execute_input": "2025-07-30T21:34:56.083779Z",
     "iopub.status.busy": "2025-07-30T21:34:56.083302Z",
     "iopub.status.idle": "2025-07-30T21:34:56.088481Z",
     "shell.execute_reply": "2025-07-30T21:34:56.087490Z"
    },
    "papermill": {
     "duration": 0.028219,
     "end_time": "2025-07-30T21:34:56.090123",
     "exception": false,
     "start_time": "2025-07-30T21:34:56.061904",
     "status": "completed"
    },
    "tags": []
   },
   "outputs": [],
   "source": [
    "#siab_s = sample_by_year(siab, universe[\"training_size\"])"
   ]
  },
  {
   "cell_type": "code",
   "execution_count": 26,
   "id": "5db0a40e-a4e2-4920-be85-b12ae061d70d",
   "metadata": {
    "execution": {
     "iopub.execute_input": "2025-07-30T21:34:56.133186Z",
     "iopub.status.busy": "2025-07-30T21:34:56.132283Z",
     "iopub.status.idle": "2025-07-30T21:34:56.137628Z",
     "shell.execute_reply": "2025-07-30T21:34:56.136656Z"
    },
    "papermill": {
     "duration": 0.028475,
     "end_time": "2025-07-30T21:34:56.139425",
     "exception": false,
     "start_time": "2025-07-30T21:34:56.110950",
     "status": "completed"
    },
    "tags": []
   },
   "outputs": [],
   "source": [
    "#display(siab_s.groupby(\"year\").size())"
   ]
  },
  {
   "cell_type": "code",
   "execution_count": 27,
   "id": "e6c733c5",
   "metadata": {
    "execution": {
     "iopub.execute_input": "2025-07-30T21:34:56.182967Z",
     "iopub.status.busy": "2025-07-30T21:34:56.182469Z",
     "iopub.status.idle": "2025-07-30T21:34:56.281124Z",
     "shell.execute_reply": "2025-07-30T21:34:56.280149Z"
    },
    "papermill": {
     "duration": 0.122467,
     "end_time": "2025-07-30T21:34:56.283043",
     "exception": false,
     "start_time": "2025-07-30T21:34:56.160576",
     "status": "completed"
    },
    "tags": []
   },
   "outputs": [],
   "source": [
    "# Auxiliary data needed downstream in the pipeline\n",
    "\n",
    "org_train = X_train.copy()\n",
    "org_test = X_test.copy()\n",
    "org_calib = X_calib.copy()"
   ]
  },
  {
   "cell_type": "code",
   "execution_count": 28,
   "id": "1466abac-c6da-4492-a62f-4240ae3783af",
   "metadata": {
    "execution": {
     "iopub.execute_input": "2025-07-30T21:34:56.342306Z",
     "iopub.status.busy": "2025-07-30T21:34:56.341859Z",
     "iopub.status.idle": "2025-07-30T21:34:56.347551Z",
     "shell.execute_reply": "2025-07-30T21:34:56.346586Z"
    },
    "papermill": {
     "duration": 0.044924,
     "end_time": "2025-07-30T21:34:56.349614",
     "exception": false,
     "start_time": "2025-07-30T21:34:56.304690",
     "status": "completed"
    },
    "tags": []
   },
   "outputs": [],
   "source": [
    "# put in other script?\n",
    "# Group sizes\n",
    "\n",
    "#def calculate_percentages(df, df_name):\n",
    "#    total_entries = len(df)\n",
    "#\n",
    "#    female_pct = (df['frau1'] == 1).mean() * 100\n",
    "#    non_german_pct = ((df['maxdeutsch1'] == 0) & (df['maxdeutsch.Missing.'] == 0)).mean() * 100\n",
    "#    non_german_male_pct = ((df['frau1'] == 0) & (df['maxdeutsch1'] == 0) & (df['maxdeutsch.Missing.'] == 0)).mean() * 100\n",
    "#    non_german_female_pct = ((df['frau1'] == 1) & (df['maxdeutsch1'] == 0) & (df['maxdeutsch.Missing.'] == 0)).mean() * 100\n",
    "#\n",
    "#    print(f\"--- {df_name} ---\")\n",
    "#    print(f\"Female: {female_pct:.2f}%\")\n",
    "#    print(f\"Non-German: {non_german_pct:.2f}%\")\n",
    "#    print(f\"Non-German Male: {non_german_male_pct:.2f}%\")\n",
    "#    print(f\"Non-German Female: {non_german_female_pct:.2f}%\\n\")\n",
    "#\n",
    "## Calculate for each DataFrame\n",
    "#calculate_percentages(siab_calib, \"siab_calib\")\n",
    "#calculate_percentages(siab_test, \"siab_test\")\n",
    "#calculate_percentages(siab_train, \"siab_train\")"
   ]
  },
  {
   "cell_type": "markdown",
   "id": "0a4a1b33",
   "metadata": {
    "papermill": {
     "duration": 0.020474,
     "end_time": "2025-07-30T21:34:56.391644",
     "exception": false,
     "start_time": "2025-07-30T21:34:56.371170",
     "status": "completed"
    },
    "tags": []
   },
   "source": [
    "# Preprocessing Data"
   ]
  },
  {
   "cell_type": "code",
   "execution_count": 29,
   "id": "ca879031",
   "metadata": {
    "execution": {
     "iopub.execute_input": "2025-07-30T21:34:56.436807Z",
     "iopub.status.busy": "2025-07-30T21:34:56.436283Z",
     "iopub.status.idle": "2025-07-30T21:34:56.442574Z",
     "shell.execute_reply": "2025-07-30T21:34:56.441632Z"
    },
    "papermill": {
     "duration": 0.02978,
     "end_time": "2025-07-30T21:34:56.444162",
     "exception": false,
     "start_time": "2025-07-30T21:34:56.414382",
     "status": "completed"
    },
    "tags": []
   },
   "outputs": [],
   "source": [
    "# EXCLUDE PROTECTED FEATURES\n",
    "# ----------------------\n",
    "# \"exclude_features\": \"none\", # \"nationality\", \"sex\", \"nationality-sex\"\n",
    "\n",
    "excluded_features = universe[\"exclude_features\"].split(\"-\") # split, e.g.: \"nationality-sex\" -> [\"nationality\", \"sex\"]\n",
    "excluded_features_dictionary = {\n",
    "    \"nationality\": [\"maxdeutsch1\", \"maxdeutsch.Missing.\"],\n",
    "    \"sex\": [\"frau1\"],\n",
    "    \"age\": [\"age\"],\n",
    "}\n"
   ]
  },
  {
   "cell_type": "code",
   "execution_count": 30,
   "id": "b745ac60",
   "metadata": {
    "execution": {
     "iopub.execute_input": "2025-07-30T21:34:56.490534Z",
     "iopub.status.busy": "2025-07-30T21:34:56.490038Z",
     "iopub.status.idle": "2025-07-30T21:34:56.495522Z",
     "shell.execute_reply": "2025-07-30T21:34:56.494689Z"
    },
    "papermill": {
     "duration": 0.028735,
     "end_time": "2025-07-30T21:34:56.496969",
     "exception": false,
     "start_time": "2025-07-30T21:34:56.468234",
     "status": "completed"
    },
    "tags": []
   },
   "outputs": [],
   "source": [
    "# Code nice names to column names\n",
    "\n",
    "excluded_features_columns = [\n",
    "    excluded_features_dictionary[f] for f in excluded_features if len(f) > 0 and f != \"none\"\n",
    "]"
   ]
  },
  {
   "cell_type": "code",
   "execution_count": 31,
   "id": "f84f73a2",
   "metadata": {
    "execution": {
     "iopub.execute_input": "2025-07-30T21:34:56.545406Z",
     "iopub.status.busy": "2025-07-30T21:34:56.544639Z",
     "iopub.status.idle": "2025-07-30T21:34:56.551607Z",
     "shell.execute_reply": "2025-07-30T21:34:56.550365Z"
    },
    "papermill": {
     "duration": 0.040182,
     "end_time": "2025-07-30T21:34:56.558617",
     "exception": false,
     "start_time": "2025-07-30T21:34:56.518435",
     "status": "completed"
    },
    "tags": []
   },
   "outputs": [],
   "source": [
    "from utils import flatten_once\n",
    "\n",
    "excluded_features_columns = flatten_once(excluded_features_columns)"
   ]
  },
  {
   "cell_type": "code",
   "execution_count": 32,
   "id": "884dea22",
   "metadata": {
    "execution": {
     "iopub.execute_input": "2025-07-30T21:34:56.604496Z",
     "iopub.status.busy": "2025-07-30T21:34:56.603387Z",
     "iopub.status.idle": "2025-07-30T21:34:56.608354Z",
     "shell.execute_reply": "2025-07-30T21:34:56.607595Z"
    },
    "papermill": {
     "duration": 0.028474,
     "end_time": "2025-07-30T21:34:56.610068",
     "exception": false,
     "start_time": "2025-07-30T21:34:56.581594",
     "status": "completed"
    },
    "tags": []
   },
   "outputs": [],
   "source": [
    "if len(excluded_features_columns) > 0:\n",
    "    print(f\"Dropping features: {excluded_features_columns}\")\n",
    "    X_train.drop(excluded_features_columns, axis=1, inplace=True)"
   ]
  },
  {
   "cell_type": "code",
   "execution_count": 33,
   "id": "95ab8b16",
   "metadata": {
    "execution": {
     "iopub.execute_input": "2025-07-30T21:34:56.649649Z",
     "iopub.status.busy": "2025-07-30T21:34:56.649134Z",
     "iopub.status.idle": "2025-07-30T21:34:56.656465Z",
     "shell.execute_reply": "2025-07-30T21:34:56.655492Z"
    },
    "papermill": {
     "duration": 0.03388,
     "end_time": "2025-07-30T21:34:56.658214",
     "exception": false,
     "start_time": "2025-07-30T21:34:56.624334",
     "status": "completed"
    },
    "tags": []
   },
   "outputs": [],
   "source": [
    "if len(excluded_features_columns) > 0:\n",
    "    print(f\"Dropping features: {excluded_features_columns}\")\n",
    "    X_test.drop(excluded_features_columns, axis=1, inplace=True)"
   ]
  },
  {
   "cell_type": "code",
   "execution_count": 34,
   "id": "1853aaf5-fb9f-46cb-a2b5-8ea4ae2237e4",
   "metadata": {
    "execution": {
     "iopub.execute_input": "2025-07-30T21:34:56.702722Z",
     "iopub.status.busy": "2025-07-30T21:34:56.702255Z",
     "iopub.status.idle": "2025-07-30T21:34:56.707996Z",
     "shell.execute_reply": "2025-07-30T21:34:56.706948Z"
    },
    "papermill": {
     "duration": 0.026986,
     "end_time": "2025-07-30T21:34:56.709582",
     "exception": false,
     "start_time": "2025-07-30T21:34:56.682596",
     "status": "completed"
    },
    "tags": []
   },
   "outputs": [],
   "source": [
    "if len(excluded_features_columns) > 0:\n",
    "    print(f\"Dropping features: {excluded_features_columns}\")\n",
    "    X_calib.drop(excluded_features_columns, axis=1, inplace=True)"
   ]
  },
  {
   "cell_type": "code",
   "execution_count": 35,
   "id": "6727d079-03e5-481e-9d38-292a90b7a0a8",
   "metadata": {
    "execution": {
     "iopub.execute_input": "2025-07-30T21:34:56.753447Z",
     "iopub.status.busy": "2025-07-30T21:34:56.753000Z",
     "iopub.status.idle": "2025-07-30T21:34:56.757733Z",
     "shell.execute_reply": "2025-07-30T21:34:56.756707Z"
    },
    "papermill": {
     "duration": 0.026059,
     "end_time": "2025-07-30T21:34:56.759352",
     "exception": false,
     "start_time": "2025-07-30T21:34:56.733293",
     "status": "completed"
    },
    "tags": []
   },
   "outputs": [],
   "source": [
    "# SPLIT & STRATIFY DATA\n",
    "# ----------------------"
   ]
  },
  {
   "cell_type": "code",
   "execution_count": 36,
   "id": "76c4dc6d",
   "metadata": {
    "execution": {
     "iopub.execute_input": "2025-07-30T21:34:56.807295Z",
     "iopub.status.busy": "2025-07-30T21:34:56.806796Z",
     "iopub.status.idle": "2025-07-30T21:34:56.812738Z",
     "shell.execute_reply": "2025-07-30T21:34:56.811572Z"
    },
    "papermill": {
     "duration": 0.031613,
     "end_time": "2025-07-30T21:34:56.814458",
     "exception": false,
     "start_time": "2025-07-30T21:34:56.782845",
     "status": "completed"
    },
    "tags": []
   },
   "outputs": [],
   "source": [
    "# EXCLUDE CERTAIN SUBGROUPS\n",
    "# ----------------------\n",
    "\n",
    "mode = universe.get(\"exclude_subgroups\", \"keep-all\") \n",
    "# Fetches the exclude_subgroups setting from the universe dict.\n",
    "# Defaults to \"keep-all\" if the key is missing."
   ]
  },
  {
   "cell_type": "code",
   "execution_count": 37,
   "id": "21994072",
   "metadata": {
    "execution": {
     "iopub.execute_input": "2025-07-30T21:34:56.863192Z",
     "iopub.status.busy": "2025-07-30T21:34:56.862738Z",
     "iopub.status.idle": "2025-07-30T21:34:56.871034Z",
     "shell.execute_reply": "2025-07-30T21:34:56.869732Z"
    },
    "papermill": {
     "duration": 0.034451,
     "end_time": "2025-07-30T21:34:56.873103",
     "exception": false,
     "start_time": "2025-07-30T21:34:56.838652",
     "status": "completed"
    },
    "tags": []
   },
   "outputs": [],
   "source": [
    "if mode == \"keep-all\":\n",
    "    keep_mask = pd.Series(True, index=org_train.index)\n",
    "\n",
    "# org_train contains the original feature columns from features_org (in Simson)\n",
    "# features_org contains unprocessed features, for me X_train at beginning ???\n",
    "# For keep-all, creates a boolean Series (keep_mask) of all True, so no rows are removed.\n",
    "\n",
    "elif mode == \"drop-non-german\":\n",
    "    keep_mask = org_train[\"maxdeutsch1\"] == 1 # ??? what about missing values?\n",
    "\n",
    "else:\n",
    "    raise ValueError(f\"Unsupported mode for exclude_subgroups: {mode}\")\n"
   ]
  },
  {
   "cell_type": "code",
   "execution_count": 38,
   "id": "71651440",
   "metadata": {
    "execution": {
     "iopub.execute_input": "2025-07-30T21:34:56.924719Z",
     "iopub.status.busy": "2025-07-30T21:34:56.924214Z",
     "iopub.status.idle": "2025-07-30T21:34:56.930912Z",
     "shell.execute_reply": "2025-07-30T21:34:56.930023Z"
    },
    "papermill": {
     "duration": 0.031621,
     "end_time": "2025-07-30T21:34:56.932667",
     "exception": false,
     "start_time": "2025-07-30T21:34:56.901046",
     "status": "completed"
    },
    "tags": []
   },
   "outputs": [],
   "source": [
    "n_drop = (~keep_mask).sum() # Calculates how many rows are set to be dropped\n",
    "if n_drop > 0:\n",
    "    pct = n_drop / len(keep_mask) * 100\n",
    "    print(f\"Dropping {n_drop} rows ({pct:.2f}%) where mode='{mode}'\")"
   ]
  },
  {
   "cell_type": "code",
   "execution_count": 39,
   "id": "5fb8eee5",
   "metadata": {
    "execution": {
     "iopub.execute_input": "2025-07-30T21:34:56.977515Z",
     "iopub.status.busy": "2025-07-30T21:34:56.977021Z",
     "iopub.status.idle": "2025-07-30T21:34:56.984061Z",
     "shell.execute_reply": "2025-07-30T21:34:56.983110Z"
    },
    "papermill": {
     "duration": 0.031347,
     "end_time": "2025-07-30T21:34:56.985999",
     "exception": false,
     "start_time": "2025-07-30T21:34:56.954652",
     "status": "completed"
    },
    "tags": []
   },
   "outputs": [],
   "source": [
    "X_train = X_train[keep_mask]"
   ]
  },
  {
   "cell_type": "code",
   "execution_count": 40,
   "id": "b202bb3a",
   "metadata": {
    "execution": {
     "iopub.execute_input": "2025-07-30T21:34:57.034019Z",
     "iopub.status.busy": "2025-07-30T21:34:57.033226Z",
     "iopub.status.idle": "2025-07-30T21:34:57.039310Z",
     "shell.execute_reply": "2025-07-30T21:34:57.038308Z"
    },
    "papermill": {
     "duration": 0.031158,
     "end_time": "2025-07-30T21:34:57.041185",
     "exception": false,
     "start_time": "2025-07-30T21:34:57.010027",
     "status": "completed"
    },
    "tags": []
   },
   "outputs": [],
   "source": [
    "y_train = y_train[keep_mask]"
   ]
  },
  {
   "cell_type": "markdown",
   "id": "493e2ac3",
   "metadata": {
    "papermill": {
     "duration": 0.022906,
     "end_time": "2025-07-30T21:34:57.087502",
     "exception": false,
     "start_time": "2025-07-30T21:34:57.064596",
     "status": "completed"
    },
    "tags": []
   },
   "source": [
    "# Model Training"
   ]
  },
  {
   "cell_type": "code",
   "execution_count": 41,
   "id": "679e1268",
   "metadata": {
    "execution": {
     "iopub.execute_input": "2025-07-30T21:34:57.135113Z",
     "iopub.status.busy": "2025-07-30T21:34:57.134635Z",
     "iopub.status.idle": "2025-07-30T21:34:57.238543Z",
     "shell.execute_reply": "2025-07-30T21:34:57.237597Z"
    },
    "papermill": {
     "duration": 0.129687,
     "end_time": "2025-07-30T21:34:57.240577",
     "exception": false,
     "start_time": "2025-07-30T21:34:57.110890",
     "status": "completed"
    },
    "tags": []
   },
   "outputs": [],
   "source": [
    "from sklearn.linear_model import LogisticRegression\n",
    "from sklearn.ensemble import GradientBoostingClassifier, RandomForestClassifier\n",
    "\n",
    "if (universe[\"model\"] == \"logreg\"):\n",
    "    model = LogisticRegression() #penalty=\"none\") #, solver=\"newton-cg\", max_iter=1) # include random_state=19 ?\n",
    "elif (universe[\"model\"] == \"penalized_logreg\"):\n",
    "    model = LogisticRegression(penalty=\"l2\", C=1.0) #, solver=\"newton-cg\", max_iter=1)\n",
    "elif (universe[\"model\"] == \"rf\"):\n",
    "    model = RandomForestClassifier(n_estimators=100, n_jobs=-1)\n",
    "elif (universe[\"model\"] == \"gbm\"):\n",
    "    model = GradientBoostingClassifier()\n",
    "elif (universe[\"model\"] == \"elasticnet\"):\n",
    "    model = LogisticRegression(penalty = 'elasticnet', solver = 'saga', l1_ratio = 0.5, max_iter=5000) # which solver to use?\n",
    "else:\n",
    "    raise \"Unsupported universe.model\""
   ]
  },
  {
   "cell_type": "code",
   "execution_count": 42,
   "id": "0cc8f744",
   "metadata": {
    "execution": {
     "iopub.execute_input": "2025-07-30T21:34:57.288404Z",
     "iopub.status.busy": "2025-07-30T21:34:57.287693Z",
     "iopub.status.idle": "2025-07-30T21:34:57.294028Z",
     "shell.execute_reply": "2025-07-30T21:34:57.293139Z"
    },
    "papermill": {
     "duration": 0.031568,
     "end_time": "2025-07-30T21:34:57.295680",
     "exception": false,
     "start_time": "2025-07-30T21:34:57.264112",
     "status": "completed"
    },
    "tags": []
   },
   "outputs": [],
   "source": [
    "import numpy as np\n",
    "from sklearn.pipeline import Pipeline\n",
    "from sklearn.preprocessing import StandardScaler\n",
    "\n",
    "model = Pipeline([\n",
    "    #(\"continuous_processor\", continuous_processor),\n",
    "    #(\"categorical_preprocessor\", categorical_preprocessor),\n",
    "    (\"scale\", StandardScaler() if universe[\"scale\"] == \"scale\" else None), \n",
    "    (\"model\", model),\n",
    "])"
   ]
  },
  {
   "cell_type": "code",
   "execution_count": 43,
   "id": "9442c04d",
   "metadata": {
    "execution": {
     "iopub.execute_input": "2025-07-30T21:34:57.345677Z",
     "iopub.status.busy": "2025-07-30T21:34:57.344871Z",
     "iopub.status.idle": "2025-07-30T21:34:57.730448Z",
     "shell.execute_reply": "2025-07-30T21:34:57.729584Z"
    },
    "papermill": {
     "duration": 0.413333,
     "end_time": "2025-07-30T21:34:57.731984",
     "exception": false,
     "start_time": "2025-07-30T21:34:57.318651",
     "status": "completed"
    },
    "tags": []
   },
   "outputs": [
    {
     "data": {
      "text/html": [
       "<style>#sk-container-id-1 {color: black;background-color: white;}#sk-container-id-1 pre{padding: 0;}#sk-container-id-1 div.sk-toggleable {background-color: white;}#sk-container-id-1 label.sk-toggleable__label {cursor: pointer;display: block;width: 100%;margin-bottom: 0;padding: 0.3em;box-sizing: border-box;text-align: center;}#sk-container-id-1 label.sk-toggleable__label-arrow:before {content: \"▸\";float: left;margin-right: 0.25em;color: #696969;}#sk-container-id-1 label.sk-toggleable__label-arrow:hover:before {color: black;}#sk-container-id-1 div.sk-estimator:hover label.sk-toggleable__label-arrow:before {color: black;}#sk-container-id-1 div.sk-toggleable__content {max-height: 0;max-width: 0;overflow: hidden;text-align: left;background-color: #f0f8ff;}#sk-container-id-1 div.sk-toggleable__content pre {margin: 0.2em;color: black;border-radius: 0.25em;background-color: #f0f8ff;}#sk-container-id-1 input.sk-toggleable__control:checked~div.sk-toggleable__content {max-height: 200px;max-width: 100%;overflow: auto;}#sk-container-id-1 input.sk-toggleable__control:checked~label.sk-toggleable__label-arrow:before {content: \"▾\";}#sk-container-id-1 div.sk-estimator input.sk-toggleable__control:checked~label.sk-toggleable__label {background-color: #d4ebff;}#sk-container-id-1 div.sk-label input.sk-toggleable__control:checked~label.sk-toggleable__label {background-color: #d4ebff;}#sk-container-id-1 input.sk-hidden--visually {border: 0;clip: rect(1px 1px 1px 1px);clip: rect(1px, 1px, 1px, 1px);height: 1px;margin: -1px;overflow: hidden;padding: 0;position: absolute;width: 1px;}#sk-container-id-1 div.sk-estimator {font-family: monospace;background-color: #f0f8ff;border: 1px dotted black;border-radius: 0.25em;box-sizing: border-box;margin-bottom: 0.5em;}#sk-container-id-1 div.sk-estimator:hover {background-color: #d4ebff;}#sk-container-id-1 div.sk-parallel-item::after {content: \"\";width: 100%;border-bottom: 1px solid gray;flex-grow: 1;}#sk-container-id-1 div.sk-label:hover label.sk-toggleable__label {background-color: #d4ebff;}#sk-container-id-1 div.sk-serial::before {content: \"\";position: absolute;border-left: 1px solid gray;box-sizing: border-box;top: 0;bottom: 0;left: 50%;z-index: 0;}#sk-container-id-1 div.sk-serial {display: flex;flex-direction: column;align-items: center;background-color: white;padding-right: 0.2em;padding-left: 0.2em;position: relative;}#sk-container-id-1 div.sk-item {position: relative;z-index: 1;}#sk-container-id-1 div.sk-parallel {display: flex;align-items: stretch;justify-content: center;background-color: white;position: relative;}#sk-container-id-1 div.sk-item::before, #sk-container-id-1 div.sk-parallel-item::before {content: \"\";position: absolute;border-left: 1px solid gray;box-sizing: border-box;top: 0;bottom: 0;left: 50%;z-index: -1;}#sk-container-id-1 div.sk-parallel-item {display: flex;flex-direction: column;z-index: 1;position: relative;background-color: white;}#sk-container-id-1 div.sk-parallel-item:first-child::after {align-self: flex-end;width: 50%;}#sk-container-id-1 div.sk-parallel-item:last-child::after {align-self: flex-start;width: 50%;}#sk-container-id-1 div.sk-parallel-item:only-child::after {width: 0;}#sk-container-id-1 div.sk-dashed-wrapped {border: 1px dashed gray;margin: 0 0.4em 0.5em 0.4em;box-sizing: border-box;padding-bottom: 0.4em;background-color: white;}#sk-container-id-1 div.sk-label label {font-family: monospace;font-weight: bold;display: inline-block;line-height: 1.2em;}#sk-container-id-1 div.sk-label-container {text-align: center;}#sk-container-id-1 div.sk-container {/* jupyter's `normalize.less` sets `[hidden] { display: none; }` but bootstrap.min.css set `[hidden] { display: none !important; }` so we also need the `!important` here to be able to override the default hidden behavior on the sphinx rendered scikit-learn.org. See: https://github.com/scikit-learn/scikit-learn/issues/21755 */display: inline-block !important;position: relative;}#sk-container-id-1 div.sk-text-repr-fallback {display: none;}</style><div id=\"sk-container-id-1\" class=\"sk-top-container\"><div class=\"sk-text-repr-fallback\"><pre>Pipeline(steps=[(&#x27;scale&#x27;, StandardScaler()),\n",
       "                (&#x27;model&#x27;, RandomForestClassifier(n_jobs=-1))])</pre><b>In a Jupyter environment, please rerun this cell to show the HTML representation or trust the notebook. <br />On GitHub, the HTML representation is unable to render, please try loading this page with nbviewer.org.</b></div><div class=\"sk-container\" hidden><div class=\"sk-item sk-dashed-wrapped\"><div class=\"sk-label-container\"><div class=\"sk-label sk-toggleable\"><input class=\"sk-toggleable__control sk-hidden--visually\" id=\"sk-estimator-id-1\" type=\"checkbox\" ><label for=\"sk-estimator-id-1\" class=\"sk-toggleable__label sk-toggleable__label-arrow\">Pipeline</label><div class=\"sk-toggleable__content\"><pre>Pipeline(steps=[(&#x27;scale&#x27;, StandardScaler()),\n",
       "                (&#x27;model&#x27;, RandomForestClassifier(n_jobs=-1))])</pre></div></div></div><div class=\"sk-serial\"><div class=\"sk-item\"><div class=\"sk-estimator sk-toggleable\"><input class=\"sk-toggleable__control sk-hidden--visually\" id=\"sk-estimator-id-2\" type=\"checkbox\" ><label for=\"sk-estimator-id-2\" class=\"sk-toggleable__label sk-toggleable__label-arrow\">StandardScaler</label><div class=\"sk-toggleable__content\"><pre>StandardScaler()</pre></div></div></div><div class=\"sk-item\"><div class=\"sk-estimator sk-toggleable\"><input class=\"sk-toggleable__control sk-hidden--visually\" id=\"sk-estimator-id-3\" type=\"checkbox\" ><label for=\"sk-estimator-id-3\" class=\"sk-toggleable__label sk-toggleable__label-arrow\">RandomForestClassifier</label><div class=\"sk-toggleable__content\"><pre>RandomForestClassifier(n_jobs=-1)</pre></div></div></div></div></div></div></div>"
      ],
      "text/plain": [
       "Pipeline(steps=[('scale', StandardScaler()),\n",
       "                ('model', RandomForestClassifier(n_jobs=-1))])"
      ]
     },
     "execution_count": 43,
     "metadata": {},
     "output_type": "execute_result"
    }
   ],
   "source": [
    "model.fit(X_train, y_train.values.ravel())"
   ]
  },
  {
   "cell_type": "code",
   "execution_count": 44,
   "id": "af59f8c0",
   "metadata": {
    "execution": {
     "iopub.execute_input": "2025-07-30T21:34:57.780529Z",
     "iopub.status.busy": "2025-07-30T21:34:57.779982Z",
     "iopub.status.idle": "2025-07-30T21:34:57.785132Z",
     "shell.execute_reply": "2025-07-30T21:34:57.784251Z"
    },
    "papermill": {
     "duration": 0.02989,
     "end_time": "2025-07-30T21:34:57.786817",
     "exception": false,
     "start_time": "2025-07-30T21:34:57.756927",
     "status": "completed"
    },
    "tags": []
   },
   "outputs": [],
   "source": [
    "from fairness_multiverse.universe import predict_w_threshold"
   ]
  },
  {
   "cell_type": "code",
   "execution_count": 45,
   "id": "a7cf2e16",
   "metadata": {
    "execution": {
     "iopub.execute_input": "2025-07-30T21:34:57.832792Z",
     "iopub.status.busy": "2025-07-30T21:34:57.832364Z",
     "iopub.status.idle": "2025-07-30T21:34:58.666036Z",
     "shell.execute_reply": "2025-07-30T21:34:58.665078Z"
    },
    "papermill": {
     "duration": 0.858124,
     "end_time": "2025-07-30T21:34:58.667962",
     "exception": false,
     "start_time": "2025-07-30T21:34:57.809838",
     "status": "completed"
    },
    "tags": []
   },
   "outputs": [
    {
     "data": {
      "text/plain": [
       "0.8626017166425147"
      ]
     },
     "execution_count": 45,
     "metadata": {},
     "output_type": "execute_result"
    }
   ],
   "source": [
    "probs_test = model.predict_proba(X_test)\n",
    "\n",
    "'''\n",
    "Below code returns a boolean array (or binary 0/1 array depending on how it’s used) where each element \n",
    "is True if the probability of class 1 is greater than or equal to the threshold, and False otherwise.\n",
    "'''\n",
    "y_pred_default = predict_w_threshold(probs_test, 0.5)\n",
    "\n",
    "from sklearn.metrics import accuracy_score\n",
    "\n",
    "# Naive prediction\n",
    "accuracy_score(y_true = y_true, y_pred = y_pred_default)"
   ]
  },
  {
   "cell_type": "code",
   "execution_count": 46,
   "id": "081964c3",
   "metadata": {
    "execution": {
     "iopub.execute_input": "2025-07-30T21:34:58.714208Z",
     "iopub.status.busy": "2025-07-30T21:34:58.713664Z",
     "iopub.status.idle": "2025-07-30T21:34:59.575025Z",
     "shell.execute_reply": "2025-07-30T21:34:59.574034Z"
    },
    "papermill": {
     "duration": 0.886215,
     "end_time": "2025-07-30T21:34:59.576862",
     "exception": false,
     "start_time": "2025-07-30T21:34:58.690647",
     "status": "completed"
    },
    "tags": []
   },
   "outputs": [
    {
     "data": {
      "text/plain": [
       "array([0, 0, 0, ..., 0, 0, 0])"
      ]
     },
     "execution_count": 46,
     "metadata": {},
     "output_type": "execute_result"
    }
   ],
   "source": [
    "model.predict(X_test)"
   ]
  },
  {
   "cell_type": "markdown",
   "id": "56c9705b",
   "metadata": {
    "papermill": {
     "duration": 0.023698,
     "end_time": "2025-07-30T21:34:59.625702",
     "exception": false,
     "start_time": "2025-07-30T21:34:59.602004",
     "status": "completed"
    },
    "tags": []
   },
   "source": [
    "# Conformal Prediction"
   ]
  },
  {
   "cell_type": "code",
   "execution_count": 47,
   "id": "160ec6ff",
   "metadata": {
    "execution": {
     "iopub.execute_input": "2025-07-30T21:34:59.674818Z",
     "iopub.status.busy": "2025-07-30T21:34:59.674132Z",
     "iopub.status.idle": "2025-07-30T21:34:59.680132Z",
     "shell.execute_reply": "2025-07-30T21:34:59.678963Z"
    },
    "papermill": {
     "duration": 0.032606,
     "end_time": "2025-07-30T21:34:59.682059",
     "exception": false,
     "start_time": "2025-07-30T21:34:59.649453",
     "status": "completed"
    },
    "tags": []
   },
   "outputs": [],
   "source": [
    "# Miscoverage level for conformal prediction (10% allowed error rate => 90% target coverage)\n",
    "alpha = 0.1"
   ]
  },
  {
   "cell_type": "code",
   "execution_count": 48,
   "id": "eadf4555-3dd3-440e-8e35-f82a4ad9f855",
   "metadata": {
    "execution": {
     "iopub.execute_input": "2025-07-30T21:34:59.736039Z",
     "iopub.status.busy": "2025-07-30T21:34:59.735083Z",
     "iopub.status.idle": "2025-07-30T21:35:00.605045Z",
     "shell.execute_reply": "2025-07-30T21:35:00.604016Z"
    },
    "papermill": {
     "duration": 0.897922,
     "end_time": "2025-07-30T21:35:00.606877",
     "exception": false,
     "start_time": "2025-07-30T21:34:59.708955",
     "status": "completed"
    },
    "tags": []
   },
   "outputs": [],
   "source": [
    "probs_calib = model.predict_proba(X_calib)"
   ]
  },
  {
   "cell_type": "code",
   "execution_count": 49,
   "id": "2ed93547-6d5d-4983-9b36-1ecb300da49a",
   "metadata": {
    "execution": {
     "iopub.execute_input": "2025-07-30T21:35:00.657608Z",
     "iopub.status.busy": "2025-07-30T21:35:00.656954Z",
     "iopub.status.idle": "2025-07-30T21:35:00.662744Z",
     "shell.execute_reply": "2025-07-30T21:35:00.661854Z"
    },
    "papermill": {
     "duration": 0.031253,
     "end_time": "2025-07-30T21:35:00.664567",
     "exception": false,
     "start_time": "2025-07-30T21:35:00.633314",
     "status": "completed"
    },
    "tags": []
   },
   "outputs": [],
   "source": [
    "y_calib = y_calib.values.ravel().astype(int)"
   ]
  },
  {
   "cell_type": "code",
   "execution_count": 50,
   "id": "65d1320d-f588-4b38-9072-62af1ae97f7d",
   "metadata": {
    "execution": {
     "iopub.execute_input": "2025-07-30T21:35:00.714061Z",
     "iopub.status.busy": "2025-07-30T21:35:00.713443Z",
     "iopub.status.idle": "2025-07-30T21:35:00.720805Z",
     "shell.execute_reply": "2025-07-30T21:35:00.719936Z"
    },
    "papermill": {
     "duration": 0.033054,
     "end_time": "2025-07-30T21:35:00.722530",
     "exception": false,
     "start_time": "2025-07-30T21:35:00.689476",
     "status": "completed"
    },
    "tags": []
   },
   "outputs": [],
   "source": [
    "from fairness_multiverse.conformal import compute_nc_scores\n",
    "\n",
    "# Compute nonconformity scores on calibration set (1 - probability of true class)\n",
    "nc_scores = compute_nc_scores(probs_calib, y_calib)"
   ]
  },
  {
   "cell_type": "code",
   "execution_count": 51,
   "id": "df3b8ca3-53b7-43d5-9667-7c85da7aeda2",
   "metadata": {
    "execution": {
     "iopub.execute_input": "2025-07-30T21:35:00.771625Z",
     "iopub.status.busy": "2025-07-30T21:35:00.770968Z",
     "iopub.status.idle": "2025-07-30T21:35:00.777913Z",
     "shell.execute_reply": "2025-07-30T21:35:00.776992Z"
    },
    "papermill": {
     "duration": 0.033155,
     "end_time": "2025-07-30T21:35:00.779550",
     "exception": false,
     "start_time": "2025-07-30T21:35:00.746395",
     "status": "completed"
    },
    "tags": []
   },
   "outputs": [],
   "source": [
    "from fairness_multiverse.conformal import find_threshold\n",
    "\n",
    "# Find conformal threshold q_hat for the given alpha (split conformal method)\n",
    "q_hat = find_threshold(nc_scores, alpha)"
   ]
  },
  {
   "cell_type": "code",
   "execution_count": 52,
   "id": "4d29e6c1-0ef6-4aa4-b8fe-4fe79b0d033a",
   "metadata": {
    "execution": {
     "iopub.execute_input": "2025-07-30T21:35:00.826620Z",
     "iopub.status.busy": "2025-07-30T21:35:00.825980Z",
     "iopub.status.idle": "2025-07-30T21:35:00.833011Z",
     "shell.execute_reply": "2025-07-30T21:35:00.832068Z"
    },
    "papermill": {
     "duration": 0.032711,
     "end_time": "2025-07-30T21:35:00.834813",
     "exception": false,
     "start_time": "2025-07-30T21:35:00.802102",
     "status": "completed"
    },
    "tags": []
   },
   "outputs": [
    {
     "data": {
      "text/plain": [
       "0.6699999999999999"
      ]
     },
     "execution_count": 52,
     "metadata": {},
     "output_type": "execute_result"
    }
   ],
   "source": [
    "q_hat"
   ]
  },
  {
   "cell_type": "code",
   "execution_count": 53,
   "id": "92460794-cdac-4be2-ba28-f28c0515a6fb",
   "metadata": {
    "execution": {
     "iopub.execute_input": "2025-07-30T21:35:00.881567Z",
     "iopub.status.busy": "2025-07-30T21:35:00.880989Z",
     "iopub.status.idle": "2025-07-30T21:35:02.459744Z",
     "shell.execute_reply": "2025-07-30T21:35:02.458729Z"
    },
    "papermill": {
     "duration": 1.603772,
     "end_time": "2025-07-30T21:35:02.461306",
     "exception": false,
     "start_time": "2025-07-30T21:35:00.857534",
     "status": "completed"
    },
    "tags": []
   },
   "outputs": [],
   "source": [
    "from fairness_multiverse.conformal import predict_conformal_sets\n",
    "\n",
    "# Generate prediction sets for each test example\n",
    "pred_sets = predict_conformal_sets(model, X_test, q_hat)"
   ]
  },
  {
   "cell_type": "code",
   "execution_count": 54,
   "id": "d90c9a65-e6db-4f5d-80cd-e68fb7e46829",
   "metadata": {
    "execution": {
     "iopub.execute_input": "2025-07-30T21:35:02.489513Z",
     "iopub.status.busy": "2025-07-30T21:35:02.488979Z",
     "iopub.status.idle": "2025-07-30T21:35:02.493888Z",
     "shell.execute_reply": "2025-07-30T21:35:02.493176Z"
    },
    "papermill": {
     "duration": 0.019858,
     "end_time": "2025-07-30T21:35:02.495225",
     "exception": false,
     "start_time": "2025-07-30T21:35:02.475367",
     "status": "completed"
    },
    "tags": []
   },
   "outputs": [],
   "source": [
    "y_true = y_true.squeeze()"
   ]
  },
  {
   "cell_type": "code",
   "execution_count": 55,
   "id": "3a58a54a-1e68-46b9-927a-df01f18aebc8",
   "metadata": {
    "execution": {
     "iopub.execute_input": "2025-07-30T21:35:02.524423Z",
     "iopub.status.busy": "2025-07-30T21:35:02.522911Z",
     "iopub.status.idle": "2025-07-30T21:35:03.144434Z",
     "shell.execute_reply": "2025-07-30T21:35:03.143660Z"
    },
    "papermill": {
     "duration": 0.636706,
     "end_time": "2025-07-30T21:35:03.145961",
     "exception": false,
     "start_time": "2025-07-30T21:35:02.509255",
     "status": "completed"
    },
    "tags": []
   },
   "outputs": [],
   "source": [
    "from fairness_multiverse.conformal import evaluate_sets\n",
    "\n",
    "# Evaluate coverage and average set size on test data\n",
    "metrics = evaluate_sets(pred_sets, y_true)"
   ]
  },
  {
   "cell_type": "markdown",
   "id": "2b569c12-9aaa-4c88-98c9-bbcd0cf3ebb8",
   "metadata": {
    "papermill": {
     "duration": 0.012894,
     "end_time": "2025-07-30T21:35:03.172272",
     "exception": false,
     "start_time": "2025-07-30T21:35:03.159378",
     "status": "completed"
    },
    "tags": []
   },
   "source": [
    "# CP Metrics"
   ]
  },
  {
   "cell_type": "code",
   "execution_count": 56,
   "id": "5ce0a5cb-201f-45a0-ade5-94c7f0bd6095",
   "metadata": {
    "execution": {
     "iopub.execute_input": "2025-07-30T21:35:03.200670Z",
     "iopub.status.busy": "2025-07-30T21:35:03.200294Z",
     "iopub.status.idle": "2025-07-30T21:35:03.207035Z",
     "shell.execute_reply": "2025-07-30T21:35:03.206229Z"
    },
    "papermill": {
     "duration": 0.023419,
     "end_time": "2025-07-30T21:35:03.208583",
     "exception": false,
     "start_time": "2025-07-30T21:35:03.185164",
     "status": "completed"
    },
    "tags": []
   },
   "outputs": [
    {
     "data": {
      "text/plain": [
       "{'coverage': 0.9162746628023631, 'avg_size': 1.1570504960428045}"
      ]
     },
     "execution_count": 56,
     "metadata": {},
     "output_type": "execute_result"
    }
   ],
   "source": [
    "metrics"
   ]
  },
  {
   "cell_type": "code",
   "execution_count": 57,
   "id": "9b9a838d-31c9-430b-ae14-12baee460d17",
   "metadata": {
    "execution": {
     "iopub.execute_input": "2025-07-30T21:35:03.237192Z",
     "iopub.status.busy": "2025-07-30T21:35:03.236838Z",
     "iopub.status.idle": "2025-07-30T21:35:03.242790Z",
     "shell.execute_reply": "2025-07-30T21:35:03.241730Z"
    },
    "papermill": {
     "duration": 0.021738,
     "end_time": "2025-07-30T21:35:03.244869",
     "exception": false,
     "start_time": "2025-07-30T21:35:03.223131",
     "status": "completed"
    },
    "tags": []
   },
   "outputs": [],
   "source": [
    "example_universe = universe.copy()\n",
    "universe_training_year = example_universe.get(\"training_year\")\n",
    "universe_training_size = example_universe.get(\"training_size\")\n",
    "universe_scale = example_universe.get(\"scale\")\n",
    "universe_model = example_universe.get(\"model\")\n",
    "universe_exclude_features = example_universe.get(\"exclude_features\")\n",
    "universe_exclude_subgroups = example_universe.get(\"exclude_subgroups\")"
   ]
  },
  {
   "cell_type": "code",
   "execution_count": 58,
   "id": "f4b6a8ac-9dc0-4245-8a91-5b3b5999c4f9",
   "metadata": {
    "execution": {
     "iopub.execute_input": "2025-07-30T21:35:03.300375Z",
     "iopub.status.busy": "2025-07-30T21:35:03.299594Z",
     "iopub.status.idle": "2025-07-30T21:35:03.306808Z",
     "shell.execute_reply": "2025-07-30T21:35:03.305777Z"
    },
    "papermill": {
     "duration": 0.035712,
     "end_time": "2025-07-30T21:35:03.308528",
     "exception": false,
     "start_time": "2025-07-30T21:35:03.272816",
     "status": "completed"
    },
    "tags": []
   },
   "outputs": [],
   "source": [
    "cp_metrics_dict = {\n",
    "    \"universe_id\": [universe_id],\n",
    "    \"universe_training_year\": [universe_training_year],\n",
    "    \"universe_training_size\": [universe_training_size],\n",
    "    \"universe_scale\": [universe_scale],\n",
    "    \"universe_model\": [universe_model],\n",
    "    \"universe_exclude_features\": [universe_exclude_features],\n",
    "    \"universe_exclude_subgroups\": [universe_exclude_subgroups],\n",
    "    \"q_hat\": [q_hat],\n",
    "    \"coverage\": [metrics[\"coverage\"]],\n",
    "    \"avg_size\": [metrics[\"avg_size\"]],\n",
    "}"
   ]
  },
  {
   "cell_type": "code",
   "execution_count": 59,
   "id": "908acbb1-0371-4915-85ca-3fa520d2efe2",
   "metadata": {
    "execution": {
     "iopub.execute_input": "2025-07-30T21:35:03.351067Z",
     "iopub.status.busy": "2025-07-30T21:35:03.350594Z",
     "iopub.status.idle": "2025-07-30T21:35:03.358940Z",
     "shell.execute_reply": "2025-07-30T21:35:03.357800Z"
    },
    "papermill": {
     "duration": 0.03538,
     "end_time": "2025-07-30T21:35:03.361252",
     "exception": false,
     "start_time": "2025-07-30T21:35:03.325872",
     "status": "completed"
    },
    "tags": []
   },
   "outputs": [
    {
     "data": {
      "text/plain": [
       "{'universe_id': ['9a5563ee2a4c156ad52a3eb2cc64dd99'],\n",
       " 'universe_training_year': ['2012_14'],\n",
       " 'universe_training_size': ['1k'],\n",
       " 'universe_scale': ['scale'],\n",
       " 'universe_model': ['rf'],\n",
       " 'universe_exclude_features': ['none'],\n",
       " 'universe_exclude_subgroups': ['keep-all'],\n",
       " 'q_hat': [0.6699999999999999],\n",
       " 'coverage': [0.9162746628023631],\n",
       " 'avg_size': [1.1570504960428045]}"
      ]
     },
     "execution_count": 59,
     "metadata": {},
     "output_type": "execute_result"
    }
   ],
   "source": [
    "cp_metrics_dict"
   ]
  },
  {
   "cell_type": "code",
   "execution_count": 60,
   "id": "33007efc-14e9-4ec6-97ac-56a455c82265",
   "metadata": {
    "execution": {
     "iopub.execute_input": "2025-07-30T21:35:03.414224Z",
     "iopub.status.busy": "2025-07-30T21:35:03.413731Z",
     "iopub.status.idle": "2025-07-30T21:35:03.420657Z",
     "shell.execute_reply": "2025-07-30T21:35:03.419529Z"
    },
    "papermill": {
     "duration": 0.035078,
     "end_time": "2025-07-30T21:35:03.422481",
     "exception": false,
     "start_time": "2025-07-30T21:35:03.387403",
     "status": "completed"
    },
    "tags": []
   },
   "outputs": [],
   "source": [
    "cp_metrics_df = pd.DataFrame(cp_metrics_dict)"
   ]
  },
  {
   "cell_type": "code",
   "execution_count": 61,
   "id": "db12611b-57b2-4910-b9d0-355adfd6e7bf",
   "metadata": {
    "execution": {
     "iopub.execute_input": "2025-07-30T21:35:03.475838Z",
     "iopub.status.busy": "2025-07-30T21:35:03.475115Z",
     "iopub.status.idle": "2025-07-30T21:35:03.493388Z",
     "shell.execute_reply": "2025-07-30T21:35:03.492498Z"
    },
    "papermill": {
     "duration": 0.04717,
     "end_time": "2025-07-30T21:35:03.495324",
     "exception": false,
     "start_time": "2025-07-30T21:35:03.448154",
     "status": "completed"
    },
    "tags": []
   },
   "outputs": [
    {
     "data": {
      "text/html": [
       "<div>\n",
       "<style scoped>\n",
       "    .dataframe tbody tr th:only-of-type {\n",
       "        vertical-align: middle;\n",
       "    }\n",
       "\n",
       "    .dataframe tbody tr th {\n",
       "        vertical-align: top;\n",
       "    }\n",
       "\n",
       "    .dataframe thead th {\n",
       "        text-align: right;\n",
       "    }\n",
       "</style>\n",
       "<table border=\"1\" class=\"dataframe\">\n",
       "  <thead>\n",
       "    <tr style=\"text-align: right;\">\n",
       "      <th></th>\n",
       "      <th>universe_id</th>\n",
       "      <th>universe_training_year</th>\n",
       "      <th>universe_training_size</th>\n",
       "      <th>universe_scale</th>\n",
       "      <th>universe_model</th>\n",
       "      <th>universe_exclude_features</th>\n",
       "      <th>universe_exclude_subgroups</th>\n",
       "      <th>q_hat</th>\n",
       "      <th>coverage</th>\n",
       "      <th>avg_size</th>\n",
       "    </tr>\n",
       "  </thead>\n",
       "  <tbody>\n",
       "    <tr>\n",
       "      <th>0</th>\n",
       "      <td>9a5563ee2a4c156ad52a3eb2cc64dd99</td>\n",
       "      <td>2012_14</td>\n",
       "      <td>1k</td>\n",
       "      <td>scale</td>\n",
       "      <td>rf</td>\n",
       "      <td>none</td>\n",
       "      <td>keep-all</td>\n",
       "      <td>0.67</td>\n",
       "      <td>0.916275</td>\n",
       "      <td>1.15705</td>\n",
       "    </tr>\n",
       "  </tbody>\n",
       "</table>\n",
       "</div>"
      ],
      "text/plain": [
       "                        universe_id universe_training_year  \\\n",
       "0  9a5563ee2a4c156ad52a3eb2cc64dd99                2012_14   \n",
       "\n",
       "  universe_training_size universe_scale universe_model  \\\n",
       "0                     1k          scale             rf   \n",
       "\n",
       "  universe_exclude_features universe_exclude_subgroups  q_hat  coverage  \\\n",
       "0                      none                   keep-all   0.67  0.916275   \n",
       "\n",
       "   avg_size  \n",
       "0   1.15705  "
      ]
     },
     "execution_count": 61,
     "metadata": {},
     "output_type": "execute_result"
    }
   ],
   "source": [
    "cp_metrics_df"
   ]
  },
  {
   "cell_type": "code",
   "execution_count": 62,
   "id": "b7fbde55-a0a1-47e4-9af6-fe4a17fa8c61",
   "metadata": {
    "execution": {
     "iopub.execute_input": "2025-07-30T21:35:03.550187Z",
     "iopub.status.busy": "2025-07-30T21:35:03.549729Z",
     "iopub.status.idle": "2025-07-30T21:35:03.554657Z",
     "shell.execute_reply": "2025-07-30T21:35:03.553730Z"
    },
    "papermill": {
     "duration": 0.033942,
     "end_time": "2025-07-30T21:35:03.556452",
     "exception": false,
     "start_time": "2025-07-30T21:35:03.522510",
     "status": "completed"
    },
    "tags": []
   },
   "outputs": [],
   "source": [
    "# Conditional Coverage & looking at subgroups"
   ]
  },
  {
   "cell_type": "code",
   "execution_count": 63,
   "id": "027ae886-68dd-4141-96c7-805a5450e1ef",
   "metadata": {
    "execution": {
     "iopub.execute_input": "2025-07-30T21:35:03.615432Z",
     "iopub.status.busy": "2025-07-30T21:35:03.614925Z",
     "iopub.status.idle": "2025-07-30T21:35:03.890449Z",
     "shell.execute_reply": "2025-07-30T21:35:03.889495Z"
    },
    "papermill": {
     "duration": 0.307974,
     "end_time": "2025-07-30T21:35:03.892519",
     "exception": false,
     "start_time": "2025-07-30T21:35:03.584545",
     "status": "completed"
    },
    "tags": []
   },
   "outputs": [],
   "source": [
    "from fairness_multiverse.conformal import build_cp_groups\n",
    "\n",
    "cp_groups_df = build_cp_groups(pred_sets, y_true, X_test.index, org_test)\n",
    "#needs universe_id and setting"
   ]
  },
  {
   "cell_type": "code",
   "execution_count": 64,
   "id": "01d5802c-663a-4d1f-9d69-e036faaffbf7",
   "metadata": {
    "execution": {
     "iopub.execute_input": "2025-07-30T21:35:03.951041Z",
     "iopub.status.busy": "2025-07-30T21:35:03.950495Z",
     "iopub.status.idle": "2025-07-30T21:35:03.955842Z",
     "shell.execute_reply": "2025-07-30T21:35:03.954756Z"
    },
    "papermill": {
     "duration": 0.036019,
     "end_time": "2025-07-30T21:35:03.958484",
     "exception": false,
     "start_time": "2025-07-30T21:35:03.922465",
     "status": "completed"
    },
    "tags": []
   },
   "outputs": [],
   "source": [
    "#delete\n",
    "#cp_groups_df"
   ]
  },
  {
   "cell_type": "code",
   "execution_count": 65,
   "id": "fa424af1-d1eb-443d-b717-2d279ada8408",
   "metadata": {
    "execution": {
     "iopub.execute_input": "2025-07-30T21:35:04.021012Z",
     "iopub.status.busy": "2025-07-30T21:35:04.020465Z",
     "iopub.status.idle": "2025-07-30T21:35:04.025938Z",
     "shell.execute_reply": "2025-07-30T21:35:04.024700Z"
    },
    "papermill": {
     "duration": 0.03887,
     "end_time": "2025-07-30T21:35:04.028082",
     "exception": false,
     "start_time": "2025-07-30T21:35:03.989212",
     "status": "completed"
    },
    "tags": []
   },
   "outputs": [],
   "source": [
    "#delete\n",
    "#percentage = (cp_groups_df['nongerman_female'] == 1).mean() * 100\n",
    "#print(percentage)\n"
   ]
  },
  {
   "cell_type": "code",
   "execution_count": 66,
   "id": "6cbdab96-b2b2-45af-ad54-d0516db2e28d",
   "metadata": {
    "execution": {
     "iopub.execute_input": "2025-07-30T21:35:04.088438Z",
     "iopub.status.busy": "2025-07-30T21:35:04.087440Z",
     "iopub.status.idle": "2025-07-30T21:35:05.766789Z",
     "shell.execute_reply": "2025-07-30T21:35:05.765849Z"
    },
    "papermill": {
     "duration": 1.710798,
     "end_time": "2025-07-30T21:35:05.768701",
     "exception": false,
     "start_time": "2025-07-30T21:35:04.057903",
     "status": "completed"
    },
    "tags": []
   },
   "outputs": [],
   "source": [
    "# Define covered = 1 if true_label is in the predicted set\n",
    "cp_groups_df['covered'] = cp_groups_df.apply(\n",
    "    lambda r: int(r['true_label'] in r['pred_set']),\n",
    "    axis=1\n",
    ")"
   ]
  },
  {
   "cell_type": "code",
   "execution_count": 67,
   "id": "338ff529-1a6b-4b87-a931-8e4788d52aad",
   "metadata": {
    "execution": {
     "iopub.execute_input": "2025-07-30T21:35:05.820266Z",
     "iopub.status.busy": "2025-07-30T21:35:05.819313Z",
     "iopub.status.idle": "2025-07-30T21:35:05.825826Z",
     "shell.execute_reply": "2025-07-30T21:35:05.824841Z"
    },
    "papermill": {
     "duration": 0.032523,
     "end_time": "2025-07-30T21:35:05.827362",
     "exception": false,
     "start_time": "2025-07-30T21:35:05.794839",
     "status": "completed"
    },
    "tags": []
   },
   "outputs": [],
   "source": [
    "#cp_groups_df"
   ]
  },
  {
   "cell_type": "code",
   "execution_count": 68,
   "id": "90032e27-66df-4540-9169-4e89cfbaa758",
   "metadata": {
    "execution": {
     "iopub.execute_input": "2025-07-30T21:35:05.879130Z",
     "iopub.status.busy": "2025-07-30T21:35:05.878330Z",
     "iopub.status.idle": "2025-07-30T21:35:05.890219Z",
     "shell.execute_reply": "2025-07-30T21:35:05.889411Z"
    },
    "papermill": {
     "duration": 0.039274,
     "end_time": "2025-07-30T21:35:05.891837",
     "exception": false,
     "start_time": "2025-07-30T21:35:05.852563",
     "status": "completed"
    },
    "tags": []
   },
   "outputs": [],
   "source": [
    "subgroups = ['frau1','nongerman','nongerman_male','nongerman_female']\n",
    "\n",
    "# Conditional coverage for subgroup==1\n",
    "cond_coverage = {\n",
    "    g: cp_groups_df.loc[cp_groups_df[g]==1, 'covered'].mean()\n",
    "    for g in subgroups\n",
    "}"
   ]
  },
  {
   "cell_type": "code",
   "execution_count": 69,
   "id": "1e348fb1-b9c3-45bc-ba23-f016827a7e0d",
   "metadata": {
    "execution": {
     "iopub.execute_input": "2025-07-30T21:35:05.981287Z",
     "iopub.status.busy": "2025-07-30T21:35:05.980629Z",
     "iopub.status.idle": "2025-07-30T21:35:05.987886Z",
     "shell.execute_reply": "2025-07-30T21:35:05.986931Z"
    },
    "papermill": {
     "duration": 0.035123,
     "end_time": "2025-07-30T21:35:05.990488",
     "exception": false,
     "start_time": "2025-07-30T21:35:05.955365",
     "status": "completed"
    },
    "tags": []
   },
   "outputs": [
    {
     "data": {
      "text/plain": [
       "{'frau1': 0.9141932875050546,\n",
       " 'nongerman': 0.906697355863695,\n",
       " 'nongerman_male': 0.924614968927317,\n",
       " 'nongerman_female': 0.8770491803278688}"
      ]
     },
     "execution_count": 69,
     "metadata": {},
     "output_type": "execute_result"
    }
   ],
   "source": [
    "cond_coverage"
   ]
  },
  {
   "cell_type": "code",
   "execution_count": 70,
   "id": "f5093324-c3dd-4d63-bc4c-8d945e5c8bbb",
   "metadata": {
    "execution": {
     "iopub.execute_input": "2025-07-30T21:35:06.041963Z",
     "iopub.status.busy": "2025-07-30T21:35:06.041447Z",
     "iopub.status.idle": "2025-07-30T21:35:06.049356Z",
     "shell.execute_reply": "2025-07-30T21:35:06.048162Z"
    },
    "papermill": {
     "duration": 0.03477,
     "end_time": "2025-07-30T21:35:06.051018",
     "exception": false,
     "start_time": "2025-07-30T21:35:06.016248",
     "status": "completed"
    },
    "tags": []
   },
   "outputs": [],
   "source": [
    "for subgroup, cov in cond_coverage.items():\n",
    "    cp_metrics_df[f\"cov_{subgroup}\"] = cov"
   ]
  },
  {
   "cell_type": "code",
   "execution_count": 71,
   "id": "6e872e10-dbe5-49e8-b554-5030c98ff75d",
   "metadata": {
    "execution": {
     "iopub.execute_input": "2025-07-30T21:35:06.102223Z",
     "iopub.status.busy": "2025-07-30T21:35:06.101315Z",
     "iopub.status.idle": "2025-07-30T21:35:06.119494Z",
     "shell.execute_reply": "2025-07-30T21:35:06.118555Z"
    },
    "papermill": {
     "duration": 0.044862,
     "end_time": "2025-07-30T21:35:06.121162",
     "exception": false,
     "start_time": "2025-07-30T21:35:06.076300",
     "status": "completed"
    },
    "tags": []
   },
   "outputs": [
    {
     "data": {
      "text/html": [
       "<div>\n",
       "<style scoped>\n",
       "    .dataframe tbody tr th:only-of-type {\n",
       "        vertical-align: middle;\n",
       "    }\n",
       "\n",
       "    .dataframe tbody tr th {\n",
       "        vertical-align: top;\n",
       "    }\n",
       "\n",
       "    .dataframe thead th {\n",
       "        text-align: right;\n",
       "    }\n",
       "</style>\n",
       "<table border=\"1\" class=\"dataframe\">\n",
       "  <thead>\n",
       "    <tr style=\"text-align: right;\">\n",
       "      <th></th>\n",
       "      <th>universe_id</th>\n",
       "      <th>universe_training_year</th>\n",
       "      <th>universe_training_size</th>\n",
       "      <th>universe_scale</th>\n",
       "      <th>universe_model</th>\n",
       "      <th>universe_exclude_features</th>\n",
       "      <th>universe_exclude_subgroups</th>\n",
       "      <th>q_hat</th>\n",
       "      <th>coverage</th>\n",
       "      <th>avg_size</th>\n",
       "      <th>cov_frau1</th>\n",
       "      <th>cov_nongerman</th>\n",
       "      <th>cov_nongerman_male</th>\n",
       "      <th>cov_nongerman_female</th>\n",
       "    </tr>\n",
       "  </thead>\n",
       "  <tbody>\n",
       "    <tr>\n",
       "      <th>0</th>\n",
       "      <td>9a5563ee2a4c156ad52a3eb2cc64dd99</td>\n",
       "      <td>2012_14</td>\n",
       "      <td>1k</td>\n",
       "      <td>scale</td>\n",
       "      <td>rf</td>\n",
       "      <td>none</td>\n",
       "      <td>keep-all</td>\n",
       "      <td>0.67</td>\n",
       "      <td>0.916275</td>\n",
       "      <td>1.15705</td>\n",
       "      <td>0.914193</td>\n",
       "      <td>0.906697</td>\n",
       "      <td>0.924615</td>\n",
       "      <td>0.877049</td>\n",
       "    </tr>\n",
       "  </tbody>\n",
       "</table>\n",
       "</div>"
      ],
      "text/plain": [
       "                        universe_id universe_training_year  \\\n",
       "0  9a5563ee2a4c156ad52a3eb2cc64dd99                2012_14   \n",
       "\n",
       "  universe_training_size universe_scale universe_model  \\\n",
       "0                     1k          scale             rf   \n",
       "\n",
       "  universe_exclude_features universe_exclude_subgroups  q_hat  coverage  \\\n",
       "0                      none                   keep-all   0.67  0.916275   \n",
       "\n",
       "   avg_size  cov_frau1  cov_nongerman  cov_nongerman_male  \\\n",
       "0   1.15705   0.914193       0.906697            0.924615   \n",
       "\n",
       "   cov_nongerman_female  \n",
       "0              0.877049  "
      ]
     },
     "execution_count": 71,
     "metadata": {},
     "output_type": "execute_result"
    }
   ],
   "source": [
    "cp_metrics_df"
   ]
  },
  {
   "cell_type": "markdown",
   "id": "33774451",
   "metadata": {
    "papermill": {
     "duration": 0.024085,
     "end_time": "2025-07-30T21:35:06.171290",
     "exception": false,
     "start_time": "2025-07-30T21:35:06.147205",
     "status": "completed"
    },
    "tags": []
   },
   "source": [
    "# (Fairness) Metrics"
   ]
  },
  {
   "cell_type": "code",
   "execution_count": 72,
   "id": "debc5d62",
   "metadata": {
    "execution": {
     "iopub.execute_input": "2025-07-30T21:35:06.223135Z",
     "iopub.status.busy": "2025-07-30T21:35:06.222331Z",
     "iopub.status.idle": "2025-07-30T21:35:06.246532Z",
     "shell.execute_reply": "2025-07-30T21:35:06.245684Z"
    },
    "papermill": {
     "duration": 0.052402,
     "end_time": "2025-07-30T21:35:06.248268",
     "exception": false,
     "start_time": "2025-07-30T21:35:06.195866",
     "status": "completed"
    },
    "tags": []
   },
   "outputs": [],
   "source": [
    "# do I need to include maxdeutsch1.missing?\n",
    "\n",
    "import numpy as np\n",
    "\n",
    "colname_to_bin = \"maxdeutsch1\"\n",
    "majority_value = org_train[colname_to_bin].mode()[0]\n",
    "\n",
    "org_test[\"majmin\"] = np.where(org_test[colname_to_bin] == majority_value, \"majority\", \"minority\")"
   ]
  },
  {
   "cell_type": "code",
   "execution_count": 73,
   "id": "06a50de5",
   "metadata": {
    "execution": {
     "iopub.execute_input": "2025-07-30T21:35:06.299669Z",
     "iopub.status.busy": "2025-07-30T21:35:06.299020Z",
     "iopub.status.idle": "2025-07-30T21:35:09.218470Z",
     "shell.execute_reply": "2025-07-30T21:35:09.217527Z"
    },
    "papermill": {
     "duration": 2.947298,
     "end_time": "2025-07-30T21:35:09.220427",
     "exception": false,
     "start_time": "2025-07-30T21:35:06.273129",
     "status": "completed"
    },
    "tags": []
   },
   "outputs": [],
   "source": [
    "example_universe = universe.copy()\n",
    "example_universe[\"cutoff\"] = example_universe[\"cutoff\"][0]\n",
    "example_universe[\"eval_fairness_grouping\"] = example_universe[\"eval_fairness_grouping\"][0]\n",
    "fairness_dict, metric_frame = universe_analysis.compute_metrics(\n",
    "    example_universe,\n",
    "    y_pred_prob=probs_test,\n",
    "    y_test=y_true,\n",
    "    org_test=org_test,\n",
    ")"
   ]
  },
  {
   "cell_type": "markdown",
   "id": "f95d4e02",
   "metadata": {
    "papermill": {
     "duration": 0.025842,
     "end_time": "2025-07-30T21:35:09.271545",
     "exception": false,
     "start_time": "2025-07-30T21:35:09.245703",
     "status": "completed"
    },
    "tags": []
   },
   "source": [
    "# Overall"
   ]
  },
  {
   "cell_type": "markdown",
   "id": "bdee4871",
   "metadata": {
    "papermill": {
     "duration": 0.025799,
     "end_time": "2025-07-30T21:35:09.322199",
     "exception": false,
     "start_time": "2025-07-30T21:35:09.296400",
     "status": "completed"
    },
    "tags": []
   },
   "source": [
    "Fairness\n",
    "Main fairness target: Equalized Odds. Seems to be a better fit than equal opportunity, since we're not only interested in Y = 1. Seems to be a better fit than demographic parity, since we also care about accuracy, not just equal distribution of preds.\n",
    "\n",
    "Pick column for computation of fairness metrics\n",
    "\n",
    "Performance\n",
    "Overall performance measures, most interesting in relation to the measures split by group below"
   ]
  },
  {
   "cell_type": "code",
   "execution_count": 74,
   "id": "c4e067c6",
   "metadata": {
    "execution": {
     "iopub.execute_input": "2025-07-30T21:35:09.377137Z",
     "iopub.status.busy": "2025-07-30T21:35:09.376466Z",
     "iopub.status.idle": "2025-07-30T21:35:09.385283Z",
     "shell.execute_reply": "2025-07-30T21:35:09.384190Z"
    },
    "papermill": {
     "duration": 0.037042,
     "end_time": "2025-07-30T21:35:09.386880",
     "exception": false,
     "start_time": "2025-07-30T21:35:09.349838",
     "status": "completed"
    },
    "tags": []
   },
   "outputs": [
    {
     "data": {
      "text/plain": [
       "accuracy                   0.194293\n",
       "balanced accuracy          0.530860\n",
       "f1                         0.238501\n",
       "precision                  0.135703\n",
       "false positive rate        0.921856\n",
       "false negative rate        0.016423\n",
       "selection rate             0.929774\n",
       "count                  89710.000000\n",
       "dtype: float64"
      ]
     },
     "execution_count": 74,
     "metadata": {},
     "output_type": "execute_result"
    }
   ],
   "source": [
    "metric_frame.overall"
   ]
  },
  {
   "cell_type": "markdown",
   "id": "e968fe9d",
   "metadata": {
    "papermill": {
     "duration": 0.026508,
     "end_time": "2025-07-30T21:35:09.441459",
     "exception": false,
     "start_time": "2025-07-30T21:35:09.414951",
     "status": "completed"
    },
    "tags": []
   },
   "source": [
    "By Group"
   ]
  },
  {
   "cell_type": "code",
   "execution_count": 75,
   "id": "ec325bce",
   "metadata": {
    "execution": {
     "iopub.execute_input": "2025-07-30T21:35:09.497874Z",
     "iopub.status.busy": "2025-07-30T21:35:09.497215Z",
     "iopub.status.idle": "2025-07-30T21:35:09.515636Z",
     "shell.execute_reply": "2025-07-30T21:35:09.514559Z"
    },
    "papermill": {
     "duration": 0.047163,
     "end_time": "2025-07-30T21:35:09.517288",
     "exception": false,
     "start_time": "2025-07-30T21:35:09.470125",
     "status": "completed"
    },
    "tags": []
   },
   "outputs": [
    {
     "data": {
      "text/html": [
       "<div>\n",
       "<style scoped>\n",
       "    .dataframe tbody tr th:only-of-type {\n",
       "        vertical-align: middle;\n",
       "    }\n",
       "\n",
       "    .dataframe tbody tr th {\n",
       "        vertical-align: top;\n",
       "    }\n",
       "\n",
       "    .dataframe thead th {\n",
       "        text-align: right;\n",
       "    }\n",
       "</style>\n",
       "<table border=\"1\" class=\"dataframe\">\n",
       "  <thead>\n",
       "    <tr style=\"text-align: right;\">\n",
       "      <th></th>\n",
       "      <th>accuracy</th>\n",
       "      <th>balanced accuracy</th>\n",
       "      <th>f1</th>\n",
       "      <th>precision</th>\n",
       "      <th>false positive rate</th>\n",
       "      <th>false negative rate</th>\n",
       "      <th>selection rate</th>\n",
       "      <th>count</th>\n",
       "    </tr>\n",
       "    <tr>\n",
       "      <th>majmin</th>\n",
       "      <th></th>\n",
       "      <th></th>\n",
       "      <th></th>\n",
       "      <th></th>\n",
       "      <th></th>\n",
       "      <th></th>\n",
       "      <th></th>\n",
       "      <th></th>\n",
       "    </tr>\n",
       "  </thead>\n",
       "  <tbody>\n",
       "    <tr>\n",
       "      <th>majority</th>\n",
       "      <td>0.200289</td>\n",
       "      <td>0.534904</td>\n",
       "      <td>0.246458</td>\n",
       "      <td>0.140754</td>\n",
       "      <td>0.919907</td>\n",
       "      <td>0.010284</td>\n",
       "      <td>0.929131</td>\n",
       "      <td>69170.0</td>\n",
       "    </tr>\n",
       "    <tr>\n",
       "      <th>minority</th>\n",
       "      <td>0.174099</td>\n",
       "      <td>0.515793</td>\n",
       "      <td>0.211344</td>\n",
       "      <td>0.118744</td>\n",
       "      <td>0.928296</td>\n",
       "      <td>0.040118</td>\n",
       "      <td>0.931938</td>\n",
       "      <td>20540.0</td>\n",
       "    </tr>\n",
       "  </tbody>\n",
       "</table>\n",
       "</div>"
      ],
      "text/plain": [
       "          accuracy  balanced accuracy        f1  precision  \\\n",
       "majmin                                                       \n",
       "majority  0.200289           0.534904  0.246458   0.140754   \n",
       "minority  0.174099           0.515793  0.211344   0.118744   \n",
       "\n",
       "          false positive rate  false negative rate  selection rate    count  \n",
       "majmin                                                                       \n",
       "majority             0.919907             0.010284        0.929131  69170.0  \n",
       "minority             0.928296             0.040118        0.931938  20540.0  "
      ]
     },
     "execution_count": 75,
     "metadata": {},
     "output_type": "execute_result"
    }
   ],
   "source": [
    "metric_frame.by_group"
   ]
  },
  {
   "cell_type": "code",
   "execution_count": 76,
   "id": "a9ddbe63",
   "metadata": {
    "execution": {
     "iopub.execute_input": "2025-07-30T21:35:09.571303Z",
     "iopub.status.busy": "2025-07-30T21:35:09.570795Z",
     "iopub.status.idle": "2025-07-30T21:35:12.022474Z",
     "shell.execute_reply": "2025-07-30T21:35:12.021559Z"
    },
    "papermill": {
     "duration": 2.48006,
     "end_time": "2025-07-30T21:35:12.024039",
     "exception": false,
     "start_time": "2025-07-30T21:35:09.543979",
     "status": "completed"
    },
    "tags": []
   },
   "outputs": [
    {
     "data": {
      "text/plain": [
       "array([[<Axes: title={'center': 'accuracy'}, xlabel='majmin'>,\n",
       "        <Axes: title={'center': 'balanced accuracy'}, xlabel='majmin'>,\n",
       "        <Axes: title={'center': 'f1'}, xlabel='majmin'>],\n",
       "       [<Axes: title={'center': 'precision'}, xlabel='majmin'>,\n",
       "        <Axes: title={'center': 'false positive rate'}, xlabel='majmin'>,\n",
       "        <Axes: title={'center': 'false negative rate'}, xlabel='majmin'>],\n",
       "       [<Axes: title={'center': 'selection rate'}, xlabel='majmin'>,\n",
       "        <Axes: title={'center': 'count'}, xlabel='majmin'>,\n",
       "        <Axes: xlabel='majmin'>]], dtype=object)"
      ]
     },
     "execution_count": 76,
     "metadata": {},
     "output_type": "execute_result"
    },
    {
     "data": {
      "image/png": "[encoded data removed]",
      "text/plain": [
       "<Figure size 1200x800 with 9 Axes>"
      ]
     },
     "metadata": {},
     "output_type": "display_data"
    }
   ],
   "source": [
    "# In a graphic\n",
    "metric_frame.by_group.plot.bar(\n",
    "    subplots=True,\n",
    "    layout=[3, 3],\n",
    "    legend=False,\n",
    "    figsize=[12, 8],\n",
    "    title=\"Show all metrics\",\n",
    ")"
   ]
  },
  {
   "cell_type": "markdown",
   "id": "f57a0bac",
   "metadata": {
    "papermill": {
     "duration": 0.04065,
     "end_time": "2025-07-30T21:35:12.094590",
     "exception": false,
     "start_time": "2025-07-30T21:35:12.053940",
     "status": "completed"
    },
    "tags": []
   },
   "source": [
    "# Final Output"
   ]
  },
  {
   "cell_type": "code",
   "execution_count": 77,
   "id": "96d280a3",
   "metadata": {
    "execution": {
     "iopub.execute_input": "2025-07-30T21:35:12.174698Z",
     "iopub.status.busy": "2025-07-30T21:35:12.174226Z",
     "iopub.status.idle": "2025-07-30T21:35:12.180408Z",
     "shell.execute_reply": "2025-07-30T21:35:12.179496Z"
    },
    "papermill": {
     "duration": 0.049435,
     "end_time": "2025-07-30T21:35:12.181801",
     "exception": false,
     "start_time": "2025-07-30T21:35:12.132366",
     "status": "completed"
    },
    "tags": []
   },
   "outputs": [
    {
     "data": {
      "text/plain": [
       "4"
      ]
     },
     "execution_count": 77,
     "metadata": {},
     "output_type": "execute_result"
    }
   ],
   "source": [
    "sub_universes = universe_analysis.generate_sub_universes()\n",
    "len(sub_universes)"
   ]
  },
  {
   "cell_type": "code",
   "execution_count": 78,
   "id": "92adf7ba",
   "metadata": {
    "execution": {
     "iopub.execute_input": "2025-07-30T21:35:12.222571Z",
     "iopub.status.busy": "2025-07-30T21:35:12.222044Z",
     "iopub.status.idle": "2025-07-30T21:35:12.231205Z",
     "shell.execute_reply": "2025-07-30T21:35:12.230188Z"
    },
    "papermill": {
     "duration": 0.034587,
     "end_time": "2025-07-30T21:35:12.233370",
     "exception": false,
     "start_time": "2025-07-30T21:35:12.198783",
     "status": "completed"
    },
    "tags": []
   },
   "outputs": [],
   "source": [
    "def filter_sub_universe_data(sub_universe, org_test):\n",
    "    # Keep all rows — no filtering\n",
    "    keep_rows_mask = np.ones(org_test.shape[0], dtype=bool)\n",
    "\n",
    "    print(f\"[INFO] Keeping all rows: {keep_rows_mask.sum()} rows retained.\")\n",
    "    return keep_rows_mask"
   ]
  },
  {
   "cell_type": "code",
   "execution_count": 79,
   "id": "4a759155",
   "metadata": {
    "execution": {
     "iopub.execute_input": "2025-07-30T21:35:12.309219Z",
     "iopub.status.busy": "2025-07-30T21:35:12.308790Z",
     "iopub.status.idle": "2025-07-30T21:35:22.839987Z",
     "shell.execute_reply": "2025-07-30T21:35:22.838951Z"
    },
    "papermill": {
     "duration": 10.565044,
     "end_time": "2025-07-30T21:35:22.841855",
     "exception": false,
     "start_time": "2025-07-30T21:35:12.276811",
     "status": "completed"
    },
    "tags": []
   },
   "outputs": [
    {
     "name": "stdout",
     "output_type": "stream",
     "text": [
      "Stopping execution_time clock.\n",
      "[INFO] Keeping all rows: 89710 rows retained.\n"
     ]
    },
    {
     "name": "stdout",
     "output_type": "stream",
     "text": [
      "[INFO] Keeping all rows: 89710 rows retained.\n"
     ]
    },
    {
     "name": "stdout",
     "output_type": "stream",
     "text": [
      "[INFO] Keeping all rows: 89710 rows retained.\n"
     ]
    },
    {
     "name": "stdout",
     "output_type": "stream",
     "text": [
      "[INFO] Keeping all rows: 89710 rows retained.\n"
     ]
    },
    {
     "data": {
      "text/html": [
       "<div>\n",
       "<style scoped>\n",
       "    .dataframe tbody tr th:only-of-type {\n",
       "        vertical-align: middle;\n",
       "    }\n",
       "\n",
       "    .dataframe tbody tr th {\n",
       "        vertical-align: top;\n",
       "    }\n",
       "\n",
       "    .dataframe thead th {\n",
       "        text-align: right;\n",
       "    }\n",
       "</style>\n",
       "<table border=\"1\" class=\"dataframe\">\n",
       "  <thead>\n",
       "    <tr style=\"text-align: right;\">\n",
       "      <th></th>\n",
       "      <th>run_no</th>\n",
       "      <th>universe_id</th>\n",
       "      <th>universe_settings</th>\n",
       "      <th>execution_time</th>\n",
       "      <th>test_size_n</th>\n",
       "      <th>test_size_frac</th>\n",
       "      <th>fair_main_equalized_odds_difference</th>\n",
       "      <th>fair_main_equalized_odds_ratio</th>\n",
       "      <th>fair_main_demographic_parity_difference</th>\n",
       "      <th>fair_main_demographic_parity_ratio</th>\n",
       "      <th>...</th>\n",
       "      <th>perf_grp_precision_0</th>\n",
       "      <th>perf_grp_precision_1</th>\n",
       "      <th>perf_grp_false positive rate_0</th>\n",
       "      <th>perf_grp_false positive rate_1</th>\n",
       "      <th>perf_grp_false negative rate_0</th>\n",
       "      <th>perf_grp_false negative rate_1</th>\n",
       "      <th>perf_grp_selection rate_0</th>\n",
       "      <th>perf_grp_selection rate_1</th>\n",
       "      <th>perf_grp_count_0</th>\n",
       "      <th>perf_grp_count_1</th>\n",
       "    </tr>\n",
       "  </thead>\n",
       "  <tbody>\n",
       "    <tr>\n",
       "      <th>0</th>\n",
       "      <td>14</td>\n",
       "      <td>9a5563ee2a4c156ad52a3eb2cc64dd99</td>\n",
       "      <td>{\"cutoff\": \"quantile_0.1\", \"eval_fairness_grou...</td>\n",
       "      <td>30.641463</td>\n",
       "      <td>89710</td>\n",
       "      <td>1.0</td>\n",
       "      <td>0.029834</td>\n",
       "      <td>0.969856</td>\n",
       "      <td>0.002807</td>\n",
       "      <td>0.996988</td>\n",
       "      <td>...</td>\n",
       "      <td>NaN</td>\n",
       "      <td>NaN</td>\n",
       "      <td>NaN</td>\n",
       "      <td>NaN</td>\n",
       "      <td>NaN</td>\n",
       "      <td>NaN</td>\n",
       "      <td>NaN</td>\n",
       "      <td>NaN</td>\n",
       "      <td>NaN</td>\n",
       "      <td>NaN</td>\n",
       "    </tr>\n",
       "    <tr>\n",
       "      <th>0</th>\n",
       "      <td>14</td>\n",
       "      <td>9a5563ee2a4c156ad52a3eb2cc64dd99</td>\n",
       "      <td>{\"cutoff\": \"quantile_0.1\", \"eval_fairness_grou...</td>\n",
       "      <td>30.641463</td>\n",
       "      <td>89710</td>\n",
       "      <td>1.0</td>\n",
       "      <td>0.029834</td>\n",
       "      <td>0.969856</td>\n",
       "      <td>0.002807</td>\n",
       "      <td>0.996988</td>\n",
       "      <td>...</td>\n",
       "      <td>0.118744</td>\n",
       "      <td>0.140754</td>\n",
       "      <td>0.928296</td>\n",
       "      <td>0.919907</td>\n",
       "      <td>0.040118</td>\n",
       "      <td>0.010284</td>\n",
       "      <td>0.931938</td>\n",
       "      <td>0.929131</td>\n",
       "      <td>20540.0</td>\n",
       "      <td>69170.0</td>\n",
       "    </tr>\n",
       "    <tr>\n",
       "      <th>0</th>\n",
       "      <td>14</td>\n",
       "      <td>9a5563ee2a4c156ad52a3eb2cc64dd99</td>\n",
       "      <td>{\"cutoff\": \"quantile_0.25\", \"eval_fairness_gro...</td>\n",
       "      <td>30.641463</td>\n",
       "      <td>89710</td>\n",
       "      <td>1.0</td>\n",
       "      <td>0.118422</td>\n",
       "      <td>0.874667</td>\n",
       "      <td>0.030450</td>\n",
       "      <td>0.960813</td>\n",
       "      <td>...</td>\n",
       "      <td>NaN</td>\n",
       "      <td>NaN</td>\n",
       "      <td>NaN</td>\n",
       "      <td>NaN</td>\n",
       "      <td>NaN</td>\n",
       "      <td>NaN</td>\n",
       "      <td>NaN</td>\n",
       "      <td>NaN</td>\n",
       "      <td>NaN</td>\n",
       "      <td>NaN</td>\n",
       "    </tr>\n",
       "    <tr>\n",
       "      <th>0</th>\n",
       "      <td>14</td>\n",
       "      <td>9a5563ee2a4c156ad52a3eb2cc64dd99</td>\n",
       "      <td>{\"cutoff\": \"quantile_0.25\", \"eval_fairness_gro...</td>\n",
       "      <td>30.641463</td>\n",
       "      <td>89710</td>\n",
       "      <td>1.0</td>\n",
       "      <td>0.118422</td>\n",
       "      <td>0.874667</td>\n",
       "      <td>0.030450</td>\n",
       "      <td>0.960813</td>\n",
       "      <td>...</td>\n",
       "      <td>0.127617</td>\n",
       "      <td>0.160676</td>\n",
       "      <td>0.736188</td>\n",
       "      <td>0.751491</td>\n",
       "      <td>0.173564</td>\n",
       "      <td>0.055142</td>\n",
       "      <td>0.746592</td>\n",
       "      <td>0.777042</td>\n",
       "      <td>20540.0</td>\n",
       "      <td>69170.0</td>\n",
       "    </tr>\n",
       "  </tbody>\n",
       "</table>\n",
       "<p>4 rows × 50 columns</p>\n",
       "</div>"
      ],
      "text/plain": [
       "  run_no                       universe_id  \\\n",
       "0     14  9a5563ee2a4c156ad52a3eb2cc64dd99   \n",
       "0     14  9a5563ee2a4c156ad52a3eb2cc64dd99   \n",
       "0     14  9a5563ee2a4c156ad52a3eb2cc64dd99   \n",
       "0     14  9a5563ee2a4c156ad52a3eb2cc64dd99   \n",
       "\n",
       "                                   universe_settings  execution_time  \\\n",
       "0  {\"cutoff\": \"quantile_0.1\", \"eval_fairness_grou...       30.641463   \n",
       "0  {\"cutoff\": \"quantile_0.1\", \"eval_fairness_grou...       30.641463   \n",
       "0  {\"cutoff\": \"quantile_0.25\", \"eval_fairness_gro...       30.641463   \n",
       "0  {\"cutoff\": \"quantile_0.25\", \"eval_fairness_gro...       30.641463   \n",
       "\n",
       "   test_size_n  test_size_frac  fair_main_equalized_odds_difference  \\\n",
       "0        89710             1.0                             0.029834   \n",
       "0        89710             1.0                             0.029834   \n",
       "0        89710             1.0                             0.118422   \n",
       "0        89710             1.0                             0.118422   \n",
       "\n",
       "   fair_main_equalized_odds_ratio  fair_main_demographic_parity_difference  \\\n",
       "0                        0.969856                                 0.002807   \n",
       "0                        0.969856                                 0.002807   \n",
       "0                        0.874667                                 0.030450   \n",
       "0                        0.874667                                 0.030450   \n",
       "\n",
       "   fair_main_demographic_parity_ratio  ...  perf_grp_precision_0  \\\n",
       "0                            0.996988  ...                   NaN   \n",
       "0                            0.996988  ...              0.118744   \n",
       "0                            0.960813  ...                   NaN   \n",
       "0                            0.960813  ...              0.127617   \n",
       "\n",
       "   perf_grp_precision_1  perf_grp_false positive rate_0  \\\n",
       "0                   NaN                             NaN   \n",
       "0              0.140754                        0.928296   \n",
       "0                   NaN                             NaN   \n",
       "0              0.160676                        0.736188   \n",
       "\n",
       "   perf_grp_false positive rate_1  perf_grp_false negative rate_0  \\\n",
       "0                             NaN                             NaN   \n",
       "0                        0.919907                        0.040118   \n",
       "0                             NaN                             NaN   \n",
       "0                        0.751491                        0.173564   \n",
       "\n",
       "   perf_grp_false negative rate_1  perf_grp_selection rate_0  \\\n",
       "0                             NaN                        NaN   \n",
       "0                        0.010284                   0.931938   \n",
       "0                             NaN                        NaN   \n",
       "0                        0.055142                   0.746592   \n",
       "\n",
       "   perf_grp_selection rate_1  perf_grp_count_0  perf_grp_count_1  \n",
       "0                        NaN               NaN               NaN  \n",
       "0                   0.929131           20540.0           69170.0  \n",
       "0                        NaN               NaN               NaN  \n",
       "0                   0.777042           20540.0           69170.0  \n",
       "\n",
       "[4 rows x 50 columns]"
      ]
     },
     "execution_count": 79,
     "metadata": {},
     "output_type": "execute_result"
    }
   ],
   "source": [
    "final_output = universe_analysis.generate_final_output(\n",
    "    y_pred_prob=probs_test,\n",
    "    y_test=y_true,\n",
    "    org_test=org_test,\n",
    "    filter_data=filter_sub_universe_data,\n",
    "    cp_metrics_df=cp_metrics_df,\n",
    "    save=True,\n",
    ")\n",
    "final_output"
   ]
  },
  {
   "cell_type": "code",
   "execution_count": null,
   "id": "721ff514-cb11-46f8-b6fc-50392f74b5cb",
   "metadata": {
    "papermill": {
     "duration": 0.031462,
     "end_time": "2025-07-30T21:35:22.907426",
     "exception": false,
     "start_time": "2025-07-30T21:35:22.875964",
     "status": "completed"
    },
    "tags": []
   },
   "outputs": [],
   "source": []
  }
 ],
 "metadata": {
  "celltoolbar": "Tags",
  "kernelspec": {
   "display_name": "Python (CMA Fairness)",
   "language": "python",
   "name": "cma_fair_env"
  },
  "language_info": {
   "codemirror_mode": {
    "name": "ipython",
    "version": 3
   },
   "file_extension": ".py",
   "mimetype": "text/x-python",
   "name": "python",
   "nbconvert_exporter": "python",
   "pygments_lexer": "ipython3",
   "version": "3.10.12"
  },
  "papermill": {
   "default_parameters": {},
   "duration": 45.347386,
   "end_time": "2025-07-30T21:35:24.160377",
   "environment_variables": {},
   "exception": null,
   "input_path": "universe_analysis.ipynb",
   "output_path": "output/runs/14/notebooks/m_14-9a5563ee2a4c156ad52a3eb2cc64dd99.ipynb",
   "parameters": {
    "output_dir": "output",
    "run_no": "14",
    "seed": "2023",
    "universe": "{\"cutoff\": [\"quantile_0.1\", \"quantile_0.25\"], \"eval_fairness_grouping\": [\"majority-minority\", \"nationality-all\"], \"exclude_features\": \"none\", \"exclude_subgroups\": \"keep-all\", \"model\": \"rf\", \"scale\": \"scale\", \"training_size\": \"1k\", \"training_year\": \"2012_14\"}",
    "universe_id": "9a5563ee2a4c156ad52a3eb2cc64dd99"
   },
   "start_time": "2025-07-30T21:34:38.812991",
   "version": "2.6.0"
  }
 },
 "nbformat": 4,
 "nbformat_minor": 5
}