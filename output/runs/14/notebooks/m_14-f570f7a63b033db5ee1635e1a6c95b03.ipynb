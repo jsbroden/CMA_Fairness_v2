{
 "cells": [
  {
   "cell_type": "code",
   "execution_count": 1,
   "id": "f159f837-637b-42ba-96b5-ec9a68c44524",
   "metadata": {
    "execution": {
     "iopub.execute_input": "2025-07-30T21:39:00.866937Z",
     "iopub.status.busy": "2025-07-30T21:39:00.866481Z",
     "iopub.status.idle": "2025-07-30T21:39:00.879996Z",
     "shell.execute_reply": "2025-07-30T21:39:00.879111Z"
    },
    "papermill": {
     "duration": 0.037221,
     "end_time": "2025-07-30T21:39:00.882721",
     "exception": false,
     "start_time": "2025-07-30T21:39:00.845500",
     "status": "completed"
    },
    "tags": []
   },
   "outputs": [
    {
     "name": "stdout",
     "output_type": "stream",
     "text": [
      "/dss/dsshome1/0C/ra93lal2/cma/CMA_Fairness_v2\n"
     ]
    },
    {
     "name": "stderr",
     "output_type": "stream",
     "text": [
      "/dss/dsshome1/0C/ra93lal2/.local/share/virtualenvs/CMA_Fairness_v2-3j10GkSs/lib/python3.10/site-packages/IPython/core/magics/osm.py:393: UserWarning: This is now an optional IPython functionality, using bookmarks requires you to install the `pickleshare` library.\n",
      "  bkms = self.shell.db.get('bookmarks', {})\n",
      "/dss/dsshome1/0C/ra93lal2/.local/share/virtualenvs/CMA_Fairness_v2-3j10GkSs/lib/python3.10/site-packages/IPython/core/magics/osm.py:417: UserWarning: This is now an optional IPython functionality, setting dhist requires you to install the `pickleshare` library.\n",
      "  self.shell.db['dhist'] = compress_dhist(dhist)[-100:]\n"
     ]
    }
   ],
   "source": [
    "%cd ~/cma/CMA_Fairness_v2"
   ]
  },
  {
   "cell_type": "markdown",
   "id": "de2603b9",
   "metadata": {
    "papermill": {
     "duration": 0.027821,
     "end_time": "2025-07-30T21:39:00.938619",
     "exception": false,
     "start_time": "2025-07-30T21:39:00.910798",
     "status": "completed"
    },
    "tags": []
   },
   "source": [
    "The following cell holds the definition of our parameters, these values can be overriden by rendering the with e.g. the following command:\n",
    "\n",
    "papermill -p alpha 0.2 -p ratio 0.3 universe_analysis.ipynb output/test_run.ipynb"
   ]
  },
  {
   "cell_type": "code",
   "execution_count": 2,
   "id": "a80968a0-40bb-4fa9-85ef-2d5eefb01975",
   "metadata": {
    "execution": {
     "iopub.execute_input": "2025-07-30T21:39:00.996471Z",
     "iopub.status.busy": "2025-07-30T21:39:00.995699Z",
     "iopub.status.idle": "2025-07-30T21:39:01.001966Z",
     "shell.execute_reply": "2025-07-30T21:39:01.000863Z"
    },
    "papermill": {
     "duration": 0.037072,
     "end_time": "2025-07-30T21:39:01.004113",
     "exception": false,
     "start_time": "2025-07-30T21:39:00.967041",
     "status": "completed"
    },
    "tags": []
   },
   "outputs": [
    {
     "name": "stdout",
     "output_type": "stream",
     "text": [
      "Current working directory: /dss/dsshome1/0C/ra93lal2/cma/CMA_Fairness_v2\n"
     ]
    }
   ],
   "source": [
    "import os\n",
    "print(\"Current working directory:\", os.getcwd())"
   ]
  },
  {
   "cell_type": "code",
   "execution_count": 3,
   "id": "2dce4c03",
   "metadata": {
    "execution": {
     "iopub.execute_input": "2025-07-30T21:39:01.063103Z",
     "iopub.status.busy": "2025-07-30T21:39:01.062074Z",
     "iopub.status.idle": "2025-07-30T21:39:01.068985Z",
     "shell.execute_reply": "2025-07-30T21:39:01.067843Z"
    },
    "papermill": {
     "duration": 0.038172,
     "end_time": "2025-07-30T21:39:01.071191",
     "exception": false,
     "start_time": "2025-07-30T21:39:01.033019",
     "status": "completed"
    },
    "tags": [
     "parameters"
    ]
   },
   "outputs": [],
   "source": [
    "run_no = 0\n",
    "universe_id = \"test\"\n",
    "universe = {\n",
    "    \"training_size\": \"25k\", # \"25k\", \"5k\", \"1k\"\n",
    "    \"training_year\": \"2014\", # \"2014\", \"2012_14\", \"2010_14\"\n",
    "    \"scale\": \"scale\", # \"scale\", \"do-not-scale\",\n",
    "    #\"stratify_split\": \"target\", # \"none\", \"target\", \"protected-attribute\", \"both\",\n",
    "    \"model\": \"elasticnet\", # \"logreg\", \"penalized_logreg\", \"rf\", \"gbm\", \"elasticnet\"\n",
    "    \"cutoff\": [\"quantile_0.15\", \"quantile_0.30\"],\n",
    "    \"exclude_features\": \"age\", # \"none\", \"nationality\", \"sex\", \"nationality-sex\", \"age\"\n",
    "    \"exclude_subgroups\": \"keep-all\", # \"keep-all\", \"drop-non-german\"\n",
    "    \"eval_fairness_grouping\": [\"majority-minority\", \"nationality-all\"]\n",
    "}\n",
    "\n",
    "output_dir=\"./output\"\n",
    "seed=0"
   ]
  },
  {
   "cell_type": "code",
   "execution_count": 4,
   "id": "5a37ac7d",
   "metadata": {
    "execution": {
     "iopub.execute_input": "2025-07-30T21:39:01.128630Z",
     "iopub.status.busy": "2025-07-30T21:39:01.128231Z",
     "iopub.status.idle": "2025-07-30T21:39:01.134202Z",
     "shell.execute_reply": "2025-07-30T21:39:01.132995Z"
    },
    "papermill": {
     "duration": 0.0372,
     "end_time": "2025-07-30T21:39:01.136638",
     "exception": false,
     "start_time": "2025-07-30T21:39:01.099438",
     "status": "completed"
    },
    "tags": [
     "injected-parameters"
    ]
   },
   "outputs": [],
   "source": [
    "# Parameters\n",
    "universe_id = \"f570f7a63b033db5ee1635e1a6c95b03\"\n",
    "run_no = \"14\"\n",
    "universe = \"{\\\"cutoff\\\": [\\\"quantile_0.1\\\", \\\"quantile_0.25\\\"], \\\"eval_fairness_grouping\\\": [\\\"majority-minority\\\", \\\"nationality-all\\\"], \\\"exclude_features\\\": \\\"nationality\\\", \\\"exclude_subgroups\\\": \\\"keep-all\\\", \\\"model\\\": \\\"penalized_logreg\\\", \\\"scale\\\": \\\"do-not-scale\\\", \\\"training_size\\\": \\\"1k\\\", \\\"training_year\\\": \\\"2012_14\\\"}\"\n",
    "output_dir = \"output\"\n",
    "seed = \"2023\"\n"
   ]
  },
  {
   "cell_type": "code",
   "execution_count": 5,
   "id": "1650acaf",
   "metadata": {
    "execution": {
     "iopub.execute_input": "2025-07-30T21:39:01.195161Z",
     "iopub.status.busy": "2025-07-30T21:39:01.194042Z",
     "iopub.status.idle": "2025-07-30T21:39:01.201098Z",
     "shell.execute_reply": "2025-07-30T21:39:01.199794Z"
    },
    "papermill": {
     "duration": 0.038666,
     "end_time": "2025-07-30T21:39:01.203336",
     "exception": false,
     "start_time": "2025-07-30T21:39:01.164670",
     "status": "completed"
    },
    "tags": []
   },
   "outputs": [],
   "source": [
    "import json\n",
    "# Parse universe into dict if it is passed as a string\n",
    "if isinstance(universe, str):\n",
    "    universe = json.loads(universe)"
   ]
  },
  {
   "cell_type": "code",
   "execution_count": 6,
   "id": "16620c48",
   "metadata": {
    "execution": {
     "iopub.execute_input": "2025-07-30T21:39:01.262312Z",
     "iopub.status.busy": "2025-07-30T21:39:01.261805Z",
     "iopub.status.idle": "2025-07-30T21:39:01.311393Z",
     "shell.execute_reply": "2025-07-30T21:39:01.310258Z"
    },
    "papermill": {
     "duration": 0.082504,
     "end_time": "2025-07-30T21:39:01.314258",
     "exception": false,
     "start_time": "2025-07-30T21:39:01.231754",
     "status": "completed"
    },
    "tags": []
   },
   "outputs": [],
   "source": [
    "# Auto-reload the custom package\n",
    "%load_ext autoreload\n",
    "%autoreload 1\n",
    "%aimport fairness_multiverse"
   ]
  },
  {
   "cell_type": "code",
   "execution_count": 7,
   "id": "01c5c9f3",
   "metadata": {
    "execution": {
     "iopub.execute_input": "2025-07-30T21:39:01.361534Z",
     "iopub.status.busy": "2025-07-30T21:39:01.360089Z",
     "iopub.status.idle": "2025-07-30T21:39:03.098237Z",
     "shell.execute_reply": "2025-07-30T21:39:03.097076Z"
    },
    "papermill": {
     "duration": 1.761082,
     "end_time": "2025-07-30T21:39:03.100322",
     "exception": false,
     "start_time": "2025-07-30T21:39:01.339240",
     "status": "completed"
    },
    "tags": []
   },
   "outputs": [],
   "source": [
    "from fairness_multiverse.universe import UniverseAnalysis\n",
    "\n",
    "universe_analysis = UniverseAnalysis(\n",
    "    run_no = run_no,\n",
    "    universe_id = universe_id,\n",
    "    universe = universe,\n",
    "    output_dir=output_dir,\n",
    ")"
   ]
  },
  {
   "cell_type": "code",
   "execution_count": 8,
   "id": "106241f5",
   "metadata": {
    "execution": {
     "iopub.execute_input": "2025-07-30T21:39:03.145909Z",
     "iopub.status.busy": "2025-07-30T21:39:03.145334Z",
     "iopub.status.idle": "2025-07-30T21:39:03.152861Z",
     "shell.execute_reply": "2025-07-30T21:39:03.151749Z"
    },
    "papermill": {
     "duration": 0.033424,
     "end_time": "2025-07-30T21:39:03.154788",
     "exception": false,
     "start_time": "2025-07-30T21:39:03.121364",
     "status": "completed"
    },
    "tags": []
   },
   "outputs": [
    {
     "name": "stdout",
     "output_type": "stream",
     "text": [
      "Using Seed: 2023\n"
     ]
    }
   ],
   "source": [
    "import numpy as np\n",
    "parsed_seed = int(seed)\n",
    "np.random.seed(parsed_seed)\n",
    "print(f\"Using Seed: {parsed_seed}\")"
   ]
  },
  {
   "cell_type": "markdown",
   "id": "e0ebdc57",
   "metadata": {
    "papermill": {
     "duration": 0.010789,
     "end_time": "2025-07-30T21:39:03.191569",
     "exception": false,
     "start_time": "2025-07-30T21:39:03.180780",
     "status": "completed"
    },
    "tags": []
   },
   "source": [
    "# Loading Data"
   ]
  },
  {
   "cell_type": "markdown",
   "id": "681925a3",
   "metadata": {
    "papermill": {
     "duration": 0.011017,
     "end_time": "2025-07-30T21:39:03.213117",
     "exception": false,
     "start_time": "2025-07-30T21:39:03.202100",
     "status": "completed"
    },
    "tags": []
   },
   "source": [
    "Load siab_train, siab_test, siab_calib and/or \n",
    "load siab_train_features, siab_train_labels"
   ]
  },
  {
   "cell_type": "code",
   "execution_count": 9,
   "id": "f0496b8a",
   "metadata": {
    "execution": {
     "iopub.execute_input": "2025-07-30T21:39:03.241578Z",
     "iopub.status.busy": "2025-07-30T21:39:03.241033Z",
     "iopub.status.idle": "2025-07-30T21:39:15.046205Z",
     "shell.execute_reply": "2025-07-30T21:39:15.044959Z"
    },
    "papermill": {
     "duration": 11.819217,
     "end_time": "2025-07-30T21:39:15.047952",
     "exception": false,
     "start_time": "2025-07-30T21:39:03.228735",
     "status": "completed"
    },
    "tags": []
   },
   "outputs": [
    {
     "name": "stdout",
     "output_type": "stream",
     "text": [
      "Loading SIAB data from cache: data/siab_cached.csv.gz\n"
     ]
    },
    {
     "name": "stdout",
     "output_type": "stream",
     "text": [
      "(643690, 164)\n"
     ]
    }
   ],
   "source": [
    "from pathlib import Path\n",
    "import pandas as pd\n",
    "\n",
    "# File paths\n",
    "raw_file = Path(\"data/raw/siab.csv\")\n",
    "cache_file = Path(\"data/siab_cached.csv.gz\")\n",
    "\n",
    "# Ensure cache directory exists\n",
    "cache_file.parent.mkdir(parents=True, exist_ok=True)\n",
    "\n",
    "# Load with simple caching\n",
    "if cache_file.exists():\n",
    "    print(f\"Loading SIAB data from cache: {cache_file}\")\n",
    "    siab = pd.read_csv(cache_file, compression='gzip')\n",
    "else:\n",
    "    print(f\"Cache not found. Reading raw SIAB data: {raw_file}\")\n",
    "    siab = pd.read_csv(raw_file)\n",
    "    siab.to_csv(cache_file, index=False, compression='gzip')\n",
    "    print(f\"Cached SIAB data to: {cache_file}\")\n",
    "\n",
    "# Now use `siab` DataFrame as needed\n",
    "print(siab.shape)"
   ]
  },
  {
   "cell_type": "code",
   "execution_count": 10,
   "id": "db0ca512-5f53-4dba-abdb-a2888bca41ba",
   "metadata": {
    "execution": {
     "iopub.execute_input": "2025-07-30T21:39:15.109108Z",
     "iopub.status.busy": "2025-07-30T21:39:15.108226Z",
     "iopub.status.idle": "2025-07-30T21:39:15.114419Z",
     "shell.execute_reply": "2025-07-30T21:39:15.113532Z"
    },
    "papermill": {
     "duration": 0.028425,
     "end_time": "2025-07-30T21:39:15.116012",
     "exception": false,
     "start_time": "2025-07-30T21:39:15.087587",
     "status": "completed"
    },
    "tags": []
   },
   "outputs": [],
   "source": [
    "#siab"
   ]
  },
  {
   "cell_type": "code",
   "execution_count": 11,
   "id": "a0edb063",
   "metadata": {
    "execution": {
     "iopub.execute_input": "2025-07-30T21:39:15.158019Z",
     "iopub.status.busy": "2025-07-30T21:39:15.157354Z",
     "iopub.status.idle": "2025-07-30T21:39:15.162743Z",
     "shell.execute_reply": "2025-07-30T21:39:15.161678Z"
    },
    "papermill": {
     "duration": 0.028309,
     "end_time": "2025-07-30T21:39:15.164498",
     "exception": false,
     "start_time": "2025-07-30T21:39:15.136189",
     "status": "completed"
    },
    "tags": []
   },
   "outputs": [],
   "source": [
    "#import pandas as pd\n",
    "#\n",
    "#X_train = pd.read_csv(\"./data/X_train.csv\")\n",
    "#y_train = pd.read_csv(\"./data/y_train.csv\")"
   ]
  },
  {
   "cell_type": "code",
   "execution_count": 12,
   "id": "63d08085",
   "metadata": {
    "execution": {
     "iopub.execute_input": "2025-07-30T21:39:15.207698Z",
     "iopub.status.busy": "2025-07-30T21:39:15.207194Z",
     "iopub.status.idle": "2025-07-30T21:39:15.212235Z",
     "shell.execute_reply": "2025-07-30T21:39:15.211213Z"
    },
    "papermill": {
     "duration": 0.027328,
     "end_time": "2025-07-30T21:39:15.214008",
     "exception": false,
     "start_time": "2025-07-30T21:39:15.186680",
     "status": "completed"
    },
    "tags": []
   },
   "outputs": [],
   "source": [
    "#X_test = pd.read_csv(\"./data/X_test.csv\")\n",
    "#y_true = pd.read_csv(\"./data/y_test.csv\")"
   ]
  },
  {
   "cell_type": "code",
   "execution_count": 13,
   "id": "98a8d0fa-1d3d-4ed8-bb2c-281470e24add",
   "metadata": {
    "execution": {
     "iopub.execute_input": "2025-07-30T21:39:15.263839Z",
     "iopub.status.busy": "2025-07-30T21:39:15.263285Z",
     "iopub.status.idle": "2025-07-30T21:39:15.268583Z",
     "shell.execute_reply": "2025-07-30T21:39:15.267588Z"
    },
    "papermill": {
     "duration": 0.032695,
     "end_time": "2025-07-30T21:39:15.270470",
     "exception": false,
     "start_time": "2025-07-30T21:39:15.237775",
     "status": "completed"
    },
    "tags": []
   },
   "outputs": [],
   "source": [
    "# Calibration data for conformal\n",
    "#X_calib = pd.read_csv(\"./data/X_calib.csv\")\n",
    "#y_calib = pd.read_csv(\"./data/y_calib.csv\")"
   ]
  },
  {
   "cell_type": "markdown",
   "id": "997051c5-15bd-4b69-9786-c3001a3ce484",
   "metadata": {
    "papermill": {
     "duration": 0.023647,
     "end_time": "2025-07-30T21:39:15.317784",
     "exception": false,
     "start_time": "2025-07-30T21:39:15.294137",
     "status": "completed"
    },
    "tags": []
   },
   "source": [
    "# Splitting Data and Setting Training Data Size"
   ]
  },
  {
   "cell_type": "code",
   "execution_count": 14,
   "id": "e993b61f-042d-41a6-8c81-f55681f86335",
   "metadata": {
    "execution": {
     "iopub.execute_input": "2025-07-30T21:39:15.365847Z",
     "iopub.status.busy": "2025-07-30T21:39:15.364818Z",
     "iopub.status.idle": "2025-07-30T21:39:15.380093Z",
     "shell.execute_reply": "2025-07-30T21:39:15.378721Z"
    },
    "papermill": {
     "duration": 0.044022,
     "end_time": "2025-07-30T21:39:15.385042",
     "exception": false,
     "start_time": "2025-07-30T21:39:15.341020",
     "status": "completed"
    },
    "tags": []
   },
   "outputs": [],
   "source": [
    "def sample_by_year_size(df,\n",
    "                        training_year: str,\n",
    "                        training_size: str,\n",
    "                        random_state: int = 42):\n",
    "    # --- parse training_year into a list of int years ---\n",
    "    if \"_\" in training_year:\n",
    "        start_str, end_str = training_year.split(\"_\", 1)\n",
    "        start = int(start_str)\n",
    "        end   = int(end_str) if len(end_str) == 4 else (int(end_str) + (start // 100)*100)\n",
    "        years = list(range(start, end + 1))\n",
    "    else:\n",
    "        years = [int(training_year)]\n",
    "\n",
    "    df = df[df[\"year\"].isin(years)].reset_index(drop=True)\n",
    "\n",
    "    # --- map training_size to total number of samples ---\n",
    "    total_map = {\"25k\": 25_000, \"5k\": 5_000, \"1k\": 1_000}\n",
    "    if training_size not in total_map:\n",
    "        return df  # e.g. \"all\"\n",
    "\n",
    "    total_samples = total_map[training_size]\n",
    "    n_years       = len(years)\n",
    "    base          = total_samples // n_years\n",
    "    remainder     = total_samples % n_years\n",
    "\n",
    "    # --- build a dict: year -> how many to sample ---\n",
    "    # give +1 to the first `remainder` years in ascending order\n",
    "    quotas = {\n",
    "        year: base + (1 if idx < remainder else 0)\n",
    "        for idx, year in enumerate(sorted(years))\n",
    "    }\n",
    "\n",
    "    # --- sample per‐year according to the quota dict ---\n",
    "    sampled = (\n",
    "        df\n",
    "        .groupby(\"year\", group_keys=False)\n",
    "        .apply(lambda grp: grp.sample(\n",
    "            n=min(len(grp), quotas[grp.name]),\n",
    "            random_state=random_state))\n",
    "        .reset_index(drop=True)\n",
    "    )\n",
    "\n",
    "    return sampled"
   ]
  },
  {
   "cell_type": "code",
   "execution_count": 15,
   "id": "c0ccd338-0e02-41f3-a09d-f56f9266e3fb",
   "metadata": {
    "execution": {
     "iopub.execute_input": "2025-07-30T21:39:15.436416Z",
     "iopub.status.busy": "2025-07-30T21:39:15.435432Z",
     "iopub.status.idle": "2025-07-30T21:39:15.442121Z",
     "shell.execute_reply": "2025-07-30T21:39:15.441131Z"
    },
    "papermill": {
     "duration": 0.033744,
     "end_time": "2025-07-30T21:39:15.443988",
     "exception": false,
     "start_time": "2025-07-30T21:39:15.410244",
     "status": "completed"
    },
    "tags": []
   },
   "outputs": [],
   "source": [
    "#universe[\"training_size\"]"
   ]
  },
  {
   "cell_type": "code",
   "execution_count": 16,
   "id": "ca707fd7-8047-4acd-bfa5-66248fbbf8e6",
   "metadata": {
    "execution": {
     "iopub.execute_input": "2025-07-30T21:39:15.495360Z",
     "iopub.status.busy": "2025-07-30T21:39:15.494879Z",
     "iopub.status.idle": "2025-07-30T21:39:15.502106Z",
     "shell.execute_reply": "2025-07-30T21:39:15.500882Z"
    },
    "papermill": {
     "duration": 0.035858,
     "end_time": "2025-07-30T21:39:15.504120",
     "exception": false,
     "start_time": "2025-07-30T21:39:15.468262",
     "status": "completed"
    },
    "tags": []
   },
   "outputs": [],
   "source": [
    "#universe[\"training_year\"]"
   ]
  },
  {
   "cell_type": "code",
   "execution_count": 17,
   "id": "aea9c6ef-6f46-42c8-85eb-5a62025c1508",
   "metadata": {
    "execution": {
     "iopub.execute_input": "2025-07-30T21:39:15.556590Z",
     "iopub.status.busy": "2025-07-30T21:39:15.554865Z",
     "iopub.status.idle": "2025-07-30T21:39:16.154671Z",
     "shell.execute_reply": "2025-07-30T21:39:16.153633Z"
    },
    "papermill": {
     "duration": 0.627541,
     "end_time": "2025-07-30T21:39:16.156744",
     "exception": false,
     "start_time": "2025-07-30T21:39:15.529203",
     "status": "completed"
    },
    "tags": []
   },
   "outputs": [],
   "source": [
    "siab_train = sample_by_year_size(siab,\n",
    "                               training_year=universe[\"training_year\"],\n",
    "                               training_size=universe[\"training_size\"])"
   ]
  },
  {
   "cell_type": "code",
   "execution_count": 18,
   "id": "8d3afb32-789d-442c-8d5d-9f5aa8dd2eed",
   "metadata": {
    "execution": {
     "iopub.execute_input": "2025-07-30T21:39:16.207796Z",
     "iopub.status.busy": "2025-07-30T21:39:16.207044Z",
     "iopub.status.idle": "2025-07-30T21:39:16.211843Z",
     "shell.execute_reply": "2025-07-30T21:39:16.210925Z"
    },
    "papermill": {
     "duration": 0.031727,
     "end_time": "2025-07-30T21:39:16.213626",
     "exception": false,
     "start_time": "2025-07-30T21:39:16.181899",
     "status": "completed"
    },
    "tags": []
   },
   "outputs": [],
   "source": [
    "#siab_train.shape"
   ]
  },
  {
   "cell_type": "code",
   "execution_count": 19,
   "id": "d582db68-1a4c-47fb-84fc-08518dc1975a",
   "metadata": {
    "execution": {
     "iopub.execute_input": "2025-07-30T21:39:16.259601Z",
     "iopub.status.busy": "2025-07-30T21:39:16.259238Z",
     "iopub.status.idle": "2025-07-30T21:39:16.263756Z",
     "shell.execute_reply": "2025-07-30T21:39:16.262786Z"
    },
    "papermill": {
     "duration": 0.029032,
     "end_time": "2025-07-30T21:39:16.265447",
     "exception": false,
     "start_time": "2025-07-30T21:39:16.236415",
     "status": "completed"
    },
    "tags": []
   },
   "outputs": [],
   "source": [
    "#display(siab_train.groupby(\"year\").size())"
   ]
  },
  {
   "cell_type": "code",
   "execution_count": 20,
   "id": "a561edb4-d032-42cb-8256-22eac1111c64",
   "metadata": {
    "execution": {
     "iopub.execute_input": "2025-07-30T21:39:16.305966Z",
     "iopub.status.busy": "2025-07-30T21:39:16.305543Z",
     "iopub.status.idle": "2025-07-30T21:39:16.559594Z",
     "shell.execute_reply": "2025-07-30T21:39:16.558591Z"
    },
    "papermill": {
     "duration": 0.276638,
     "end_time": "2025-07-30T21:39:16.561429",
     "exception": false,
     "start_time": "2025-07-30T21:39:16.284791",
     "status": "completed"
    },
    "tags": []
   },
   "outputs": [],
   "source": [
    "#siab_train = siab_s[siab_s.year < 2015]\n",
    "siab_calib = siab[siab.year == 2015]\n",
    "siab_test = siab[siab.year == 2016]"
   ]
  },
  {
   "cell_type": "code",
   "execution_count": 21,
   "id": "472de16f-c3db-4916-846b-1f0de9cf1746",
   "metadata": {
    "execution": {
     "iopub.execute_input": "2025-07-30T21:39:16.596188Z",
     "iopub.status.busy": "2025-07-30T21:39:16.595775Z",
     "iopub.status.idle": "2025-07-30T21:39:16.600975Z",
     "shell.execute_reply": "2025-07-30T21:39:16.600220Z"
    },
    "papermill": {
     "duration": 0.021065,
     "end_time": "2025-07-30T21:39:16.602146",
     "exception": false,
     "start_time": "2025-07-30T21:39:16.581081",
     "status": "completed"
    },
    "tags": []
   },
   "outputs": [],
   "source": [
    "X_train = siab_train.iloc[:,4:164]\n",
    "y_train = siab_train.iloc[:, [3]]"
   ]
  },
  {
   "cell_type": "code",
   "execution_count": 22,
   "id": "828c96af-f43a-4ed6-ba47-8ac73a47d56c",
   "metadata": {
    "execution": {
     "iopub.execute_input": "2025-07-30T21:39:16.626118Z",
     "iopub.status.busy": "2025-07-30T21:39:16.625222Z",
     "iopub.status.idle": "2025-07-30T21:39:16.693286Z",
     "shell.execute_reply": "2025-07-30T21:39:16.692417Z"
    },
    "papermill": {
     "duration": 0.080908,
     "end_time": "2025-07-30T21:39:16.694699",
     "exception": false,
     "start_time": "2025-07-30T21:39:16.613791",
     "status": "completed"
    },
    "tags": []
   },
   "outputs": [],
   "source": [
    "X_calib = siab_calib.iloc[:,4:164]\n",
    "y_calib = siab_calib.iloc[:, [3]]"
   ]
  },
  {
   "cell_type": "code",
   "execution_count": 23,
   "id": "c34be9c3-6bd6-476e-acd3-845840e303be",
   "metadata": {
    "execution": {
     "iopub.execute_input": "2025-07-30T21:39:16.718255Z",
     "iopub.status.busy": "2025-07-30T21:39:16.717908Z",
     "iopub.status.idle": "2025-07-30T21:39:16.769171Z",
     "shell.execute_reply": "2025-07-30T21:39:16.768294Z"
    },
    "papermill": {
     "duration": 0.064,
     "end_time": "2025-07-30T21:39:16.770468",
     "exception": false,
     "start_time": "2025-07-30T21:39:16.706468",
     "status": "completed"
    },
    "tags": []
   },
   "outputs": [],
   "source": [
    "X_test = siab_test.iloc[:,4:164]\n",
    "y_true = siab_test.iloc[:, [3]]"
   ]
  },
  {
   "cell_type": "markdown",
   "id": "9901737e-04df-44f0-9100-f5ad144ed040",
   "metadata": {
    "papermill": {
     "duration": 0.011026,
     "end_time": "2025-07-30T21:39:16.793213",
     "exception": false,
     "start_time": "2025-07-30T21:39:16.782187",
     "status": "completed"
    },
    "tags": []
   },
   "source": [
    "# Splitting Data and Setting Training Data Size OLD VERSION"
   ]
  },
  {
   "cell_type": "code",
   "execution_count": 24,
   "id": "acbc8f7d-8fc8-4e86-8c59-5dcb0f58384b",
   "metadata": {
    "execution": {
     "iopub.execute_input": "2025-07-30T21:39:16.815373Z",
     "iopub.status.busy": "2025-07-30T21:39:16.815020Z",
     "iopub.status.idle": "2025-07-30T21:39:16.819078Z",
     "shell.execute_reply": "2025-07-30T21:39:16.818396Z"
    },
    "papermill": {
     "duration": 0.016889,
     "end_time": "2025-07-30T21:39:16.820513",
     "exception": false,
     "start_time": "2025-07-30T21:39:16.803624",
     "status": "completed"
    },
    "tags": []
   },
   "outputs": [],
   "source": [
    "#def sample_by_year(df, training_size, random_state=42):\n",
    "#    if training_size == \"2014\":\n",
    "#        return df[df[\"year\"] == 2014].reset_index(drop=True)\n",
    "#    \n",
    "#    size_map = {\n",
    "#        \"25k\": 5000,\n",
    "#        \"5k\": 1000,\n",
    "#        \"1k\": 200\n",
    "#    }\n",
    "#\n",
    "#    if training_size not in size_map:\n",
    "#        return df.reset_index(drop=True)  # use all data\n",
    "#\n",
    "#    n_per_year = size_map[training_size]\n",
    "#    grouped = df.groupby(\"year\")\n",
    "#    sampled = grouped.apply(lambda x: x.sample(n=min(n_per_year, len(x)), random_state=random_state))\n",
    "#    return sampled.reset_index(drop=True)"
   ]
  },
  {
   "cell_type": "code",
   "execution_count": 25,
   "id": "6d931f52-beaf-43ff-9e78-9d44a448d54e",
   "metadata": {
    "execution": {
     "iopub.execute_input": "2025-07-30T21:39:16.842439Z",
     "iopub.status.busy": "2025-07-30T21:39:16.842161Z",
     "iopub.status.idle": "2025-07-30T21:39:16.845877Z",
     "shell.execute_reply": "2025-07-30T21:39:16.845209Z"
    },
    "papermill": {
     "duration": 0.015919,
     "end_time": "2025-07-30T21:39:16.847099",
     "exception": false,
     "start_time": "2025-07-30T21:39:16.831180",
     "status": "completed"
    },
    "tags": []
   },
   "outputs": [],
   "source": [
    "#siab_s = sample_by_year(siab, universe[\"training_size\"])"
   ]
  },
  {
   "cell_type": "code",
   "execution_count": 26,
   "id": "5db0a40e-a4e2-4920-be85-b12ae061d70d",
   "metadata": {
    "execution": {
     "iopub.execute_input": "2025-07-30T21:39:16.869655Z",
     "iopub.status.busy": "2025-07-30T21:39:16.869320Z",
     "iopub.status.idle": "2025-07-30T21:39:16.873223Z",
     "shell.execute_reply": "2025-07-30T21:39:16.872490Z"
    },
    "papermill": {
     "duration": 0.016548,
     "end_time": "2025-07-30T21:39:16.874558",
     "exception": false,
     "start_time": "2025-07-30T21:39:16.858010",
     "status": "completed"
    },
    "tags": []
   },
   "outputs": [],
   "source": [
    "#display(siab_s.groupby(\"year\").size())"
   ]
  },
  {
   "cell_type": "code",
   "execution_count": 27,
   "id": "e6c733c5",
   "metadata": {
    "execution": {
     "iopub.execute_input": "2025-07-30T21:39:16.908692Z",
     "iopub.status.busy": "2025-07-30T21:39:16.908348Z",
     "iopub.status.idle": "2025-07-30T21:39:17.002762Z",
     "shell.execute_reply": "2025-07-30T21:39:17.001883Z"
    },
    "papermill": {
     "duration": 0.114966,
     "end_time": "2025-07-30T21:39:17.004563",
     "exception": false,
     "start_time": "2025-07-30T21:39:16.889597",
     "status": "completed"
    },
    "tags": []
   },
   "outputs": [],
   "source": [
    "# Auxiliary data needed downstream in the pipeline\n",
    "\n",
    "org_train = X_train.copy()\n",
    "org_test = X_test.copy()\n",
    "org_calib = X_calib.copy()"
   ]
  },
  {
   "cell_type": "code",
   "execution_count": 28,
   "id": "1466abac-c6da-4492-a62f-4240ae3783af",
   "metadata": {
    "execution": {
     "iopub.execute_input": "2025-07-30T21:39:17.048465Z",
     "iopub.status.busy": "2025-07-30T21:39:17.047973Z",
     "iopub.status.idle": "2025-07-30T21:39:17.053469Z",
     "shell.execute_reply": "2025-07-30T21:39:17.052506Z"
    },
    "papermill": {
     "duration": 0.028333,
     "end_time": "2025-07-30T21:39:17.055145",
     "exception": false,
     "start_time": "2025-07-30T21:39:17.026812",
     "status": "completed"
    },
    "tags": []
   },
   "outputs": [],
   "source": [
    "# put in other script?\n",
    "# Group sizes\n",
    "\n",
    "#def calculate_percentages(df, df_name):\n",
    "#    total_entries = len(df)\n",
    "#\n",
    "#    female_pct = (df['frau1'] == 1).mean() * 100\n",
    "#    non_german_pct = ((df['maxdeutsch1'] == 0) & (df['maxdeutsch.Missing.'] == 0)).mean() * 100\n",
    "#    non_german_male_pct = ((df['frau1'] == 0) & (df['maxdeutsch1'] == 0) & (df['maxdeutsch.Missing.'] == 0)).mean() * 100\n",
    "#    non_german_female_pct = ((df['frau1'] == 1) & (df['maxdeutsch1'] == 0) & (df['maxdeutsch.Missing.'] == 0)).mean() * 100\n",
    "#\n",
    "#    print(f\"--- {df_name} ---\")\n",
    "#    print(f\"Female: {female_pct:.2f}%\")\n",
    "#    print(f\"Non-German: {non_german_pct:.2f}%\")\n",
    "#    print(f\"Non-German Male: {non_german_male_pct:.2f}%\")\n",
    "#    print(f\"Non-German Female: {non_german_female_pct:.2f}%\\n\")\n",
    "#\n",
    "## Calculate for each DataFrame\n",
    "#calculate_percentages(siab_calib, \"siab_calib\")\n",
    "#calculate_percentages(siab_test, \"siab_test\")\n",
    "#calculate_percentages(siab_train, \"siab_train\")"
   ]
  },
  {
   "cell_type": "markdown",
   "id": "0a4a1b33",
   "metadata": {
    "papermill": {
     "duration": 0.023109,
     "end_time": "2025-07-30T21:39:17.100383",
     "exception": false,
     "start_time": "2025-07-30T21:39:17.077274",
     "status": "completed"
    },
    "tags": []
   },
   "source": [
    "# Preprocessing Data"
   ]
  },
  {
   "cell_type": "code",
   "execution_count": 29,
   "id": "ca879031",
   "metadata": {
    "execution": {
     "iopub.execute_input": "2025-07-30T21:39:17.145807Z",
     "iopub.status.busy": "2025-07-30T21:39:17.145372Z",
     "iopub.status.idle": "2025-07-30T21:39:17.151208Z",
     "shell.execute_reply": "2025-07-30T21:39:17.150274Z"
    },
    "papermill": {
     "duration": 0.031094,
     "end_time": "2025-07-30T21:39:17.153191",
     "exception": false,
     "start_time": "2025-07-30T21:39:17.122097",
     "status": "completed"
    },
    "tags": []
   },
   "outputs": [],
   "source": [
    "# EXCLUDE PROTECTED FEATURES\n",
    "# ----------------------\n",
    "# \"exclude_features\": \"none\", # \"nationality\", \"sex\", \"nationality-sex\"\n",
    "\n",
    "excluded_features = universe[\"exclude_features\"].split(\"-\") # split, e.g.: \"nationality-sex\" -> [\"nationality\", \"sex\"]\n",
    "excluded_features_dictionary = {\n",
    "    \"nationality\": [\"maxdeutsch1\", \"maxdeutsch.Missing.\"],\n",
    "    \"sex\": [\"frau1\"],\n",
    "    \"age\": [\"age\"],\n",
    "}\n"
   ]
  },
  {
   "cell_type": "code",
   "execution_count": 30,
   "id": "b745ac60",
   "metadata": {
    "execution": {
     "iopub.execute_input": "2025-07-30T21:39:17.191216Z",
     "iopub.status.busy": "2025-07-30T21:39:17.190750Z",
     "iopub.status.idle": "2025-07-30T21:39:17.195474Z",
     "shell.execute_reply": "2025-07-30T21:39:17.194725Z"
    },
    "papermill": {
     "duration": 0.021537,
     "end_time": "2025-07-30T21:39:17.196782",
     "exception": false,
     "start_time": "2025-07-30T21:39:17.175245",
     "status": "completed"
    },
    "tags": []
   },
   "outputs": [],
   "source": [
    "# Code nice names to column names\n",
    "\n",
    "excluded_features_columns = [\n",
    "    excluded_features_dictionary[f] for f in excluded_features if len(f) > 0 and f != \"none\"\n",
    "]"
   ]
  },
  {
   "cell_type": "code",
   "execution_count": 31,
   "id": "f84f73a2",
   "metadata": {
    "execution": {
     "iopub.execute_input": "2025-07-30T21:39:17.221289Z",
     "iopub.status.busy": "2025-07-30T21:39:17.220780Z",
     "iopub.status.idle": "2025-07-30T21:39:17.226414Z",
     "shell.execute_reply": "2025-07-30T21:39:17.225595Z"
    },
    "papermill": {
     "duration": 0.019894,
     "end_time": "2025-07-30T21:39:17.228638",
     "exception": false,
     "start_time": "2025-07-30T21:39:17.208744",
     "status": "completed"
    },
    "tags": []
   },
   "outputs": [],
   "source": [
    "from utils import flatten_once\n",
    "\n",
    "excluded_features_columns = flatten_once(excluded_features_columns)"
   ]
  },
  {
   "cell_type": "code",
   "execution_count": 32,
   "id": "884dea22",
   "metadata": {
    "execution": {
     "iopub.execute_input": "2025-07-30T21:39:17.256309Z",
     "iopub.status.busy": "2025-07-30T21:39:17.255780Z",
     "iopub.status.idle": "2025-07-30T21:39:17.263375Z",
     "shell.execute_reply": "2025-07-30T21:39:17.262531Z"
    },
    "papermill": {
     "duration": 0.021766,
     "end_time": "2025-07-30T21:39:17.264895",
     "exception": false,
     "start_time": "2025-07-30T21:39:17.243129",
     "status": "completed"
    },
    "tags": []
   },
   "outputs": [
    {
     "name": "stdout",
     "output_type": "stream",
     "text": [
      "Dropping features: ['maxdeutsch1', 'maxdeutsch.Missing.']\n"
     ]
    }
   ],
   "source": [
    "if len(excluded_features_columns) > 0:\n",
    "    print(f\"Dropping features: {excluded_features_columns}\")\n",
    "    X_train.drop(excluded_features_columns, axis=1, inplace=True)"
   ]
  },
  {
   "cell_type": "code",
   "execution_count": 33,
   "id": "95ab8b16",
   "metadata": {
    "execution": {
     "iopub.execute_input": "2025-07-30T21:39:17.312205Z",
     "iopub.status.busy": "2025-07-30T21:39:17.311276Z",
     "iopub.status.idle": "2025-07-30T21:39:17.369628Z",
     "shell.execute_reply": "2025-07-30T21:39:17.368542Z"
    },
    "papermill": {
     "duration": 0.085135,
     "end_time": "2025-07-30T21:39:17.371413",
     "exception": false,
     "start_time": "2025-07-30T21:39:17.286278",
     "status": "completed"
    },
    "tags": []
   },
   "outputs": [
    {
     "name": "stdout",
     "output_type": "stream",
     "text": [
      "Dropping features: ['maxdeutsch1', 'maxdeutsch.Missing.']\n"
     ]
    }
   ],
   "source": [
    "if len(excluded_features_columns) > 0:\n",
    "    print(f\"Dropping features: {excluded_features_columns}\")\n",
    "    X_test.drop(excluded_features_columns, axis=1, inplace=True)"
   ]
  },
  {
   "cell_type": "code",
   "execution_count": 34,
   "id": "1853aaf5-fb9f-46cb-a2b5-8ea4ae2237e4",
   "metadata": {
    "execution": {
     "iopub.execute_input": "2025-07-30T21:39:17.418310Z",
     "iopub.status.busy": "2025-07-30T21:39:17.417916Z",
     "iopub.status.idle": "2025-07-30T21:39:17.451984Z",
     "shell.execute_reply": "2025-07-30T21:39:17.450833Z"
    },
    "papermill": {
     "duration": 0.05849,
     "end_time": "2025-07-30T21:39:17.453976",
     "exception": false,
     "start_time": "2025-07-30T21:39:17.395486",
     "status": "completed"
    },
    "tags": []
   },
   "outputs": [
    {
     "name": "stdout",
     "output_type": "stream",
     "text": [
      "Dropping features: ['maxdeutsch1', 'maxdeutsch.Missing.']\n"
     ]
    }
   ],
   "source": [
    "if len(excluded_features_columns) > 0:\n",
    "    print(f\"Dropping features: {excluded_features_columns}\")\n",
    "    X_calib.drop(excluded_features_columns, axis=1, inplace=True)"
   ]
  },
  {
   "cell_type": "code",
   "execution_count": 35,
   "id": "6727d079-03e5-481e-9d38-292a90b7a0a8",
   "metadata": {
    "execution": {
     "iopub.execute_input": "2025-07-30T21:39:17.505297Z",
     "iopub.status.busy": "2025-07-30T21:39:17.504390Z",
     "iopub.status.idle": "2025-07-30T21:39:17.509559Z",
     "shell.execute_reply": "2025-07-30T21:39:17.508540Z"
    },
    "papermill": {
     "duration": 0.03276,
     "end_time": "2025-07-30T21:39:17.511243",
     "exception": false,
     "start_time": "2025-07-30T21:39:17.478483",
     "status": "completed"
    },
    "tags": []
   },
   "outputs": [],
   "source": [
    "# SPLIT & STRATIFY DATA\n",
    "# ----------------------"
   ]
  },
  {
   "cell_type": "code",
   "execution_count": 36,
   "id": "76c4dc6d",
   "metadata": {
    "execution": {
     "iopub.execute_input": "2025-07-30T21:39:17.562311Z",
     "iopub.status.busy": "2025-07-30T21:39:17.561370Z",
     "iopub.status.idle": "2025-07-30T21:39:17.567327Z",
     "shell.execute_reply": "2025-07-30T21:39:17.566357Z"
    },
    "papermill": {
     "duration": 0.032833,
     "end_time": "2025-07-30T21:39:17.568998",
     "exception": false,
     "start_time": "2025-07-30T21:39:17.536165",
     "status": "completed"
    },
    "tags": []
   },
   "outputs": [],
   "source": [
    "# EXCLUDE CERTAIN SUBGROUPS\n",
    "# ----------------------\n",
    "\n",
    "mode = universe.get(\"exclude_subgroups\", \"keep-all\") \n",
    "# Fetches the exclude_subgroups setting from the universe dict.\n",
    "# Defaults to \"keep-all\" if the key is missing."
   ]
  },
  {
   "cell_type": "code",
   "execution_count": 37,
   "id": "21994072",
   "metadata": {
    "execution": {
     "iopub.execute_input": "2025-07-30T21:39:17.619669Z",
     "iopub.status.busy": "2025-07-30T21:39:17.618918Z",
     "iopub.status.idle": "2025-07-30T21:39:17.625914Z",
     "shell.execute_reply": "2025-07-30T21:39:17.624982Z"
    },
    "papermill": {
     "duration": 0.034748,
     "end_time": "2025-07-30T21:39:17.627762",
     "exception": false,
     "start_time": "2025-07-30T21:39:17.593014",
     "status": "completed"
    },
    "tags": []
   },
   "outputs": [],
   "source": [
    "if mode == \"keep-all\":\n",
    "    keep_mask = pd.Series(True, index=org_train.index)\n",
    "\n",
    "# org_train contains the original feature columns from features_org (in Simson)\n",
    "# features_org contains unprocessed features, for me X_train at beginning ???\n",
    "# For keep-all, creates a boolean Series (keep_mask) of all True, so no rows are removed.\n",
    "\n",
    "elif mode == \"drop-non-german\":\n",
    "    keep_mask = org_train[\"maxdeutsch1\"] == 1 # ??? what about missing values?\n",
    "\n",
    "else:\n",
    "    raise ValueError(f\"Unsupported mode for exclude_subgroups: {mode}\")\n"
   ]
  },
  {
   "cell_type": "code",
   "execution_count": 38,
   "id": "71651440",
   "metadata": {
    "execution": {
     "iopub.execute_input": "2025-07-30T21:39:17.677088Z",
     "iopub.status.busy": "2025-07-30T21:39:17.676374Z",
     "iopub.status.idle": "2025-07-30T21:39:17.682981Z",
     "shell.execute_reply": "2025-07-30T21:39:17.682128Z"
    },
    "papermill": {
     "duration": 0.032072,
     "end_time": "2025-07-30T21:39:17.684679",
     "exception": false,
     "start_time": "2025-07-30T21:39:17.652607",
     "status": "completed"
    },
    "tags": []
   },
   "outputs": [],
   "source": [
    "n_drop = (~keep_mask).sum() # Calculates how many rows are set to be dropped\n",
    "if n_drop > 0:\n",
    "    pct = n_drop / len(keep_mask) * 100\n",
    "    print(f\"Dropping {n_drop} rows ({pct:.2f}%) where mode='{mode}'\")"
   ]
  },
  {
   "cell_type": "code",
   "execution_count": 39,
   "id": "5fb8eee5",
   "metadata": {
    "execution": {
     "iopub.execute_input": "2025-07-30T21:39:17.733905Z",
     "iopub.status.busy": "2025-07-30T21:39:17.733221Z",
     "iopub.status.idle": "2025-07-30T21:39:17.739810Z",
     "shell.execute_reply": "2025-07-30T21:39:17.738714Z"
    },
    "papermill": {
     "duration": 0.032035,
     "end_time": "2025-07-30T21:39:17.741708",
     "exception": false,
     "start_time": "2025-07-30T21:39:17.709673",
     "status": "completed"
    },
    "tags": []
   },
   "outputs": [],
   "source": [
    "X_train = X_train[keep_mask]"
   ]
  },
  {
   "cell_type": "code",
   "execution_count": 40,
   "id": "b202bb3a",
   "metadata": {
    "execution": {
     "iopub.execute_input": "2025-07-30T21:39:17.790454Z",
     "iopub.status.busy": "2025-07-30T21:39:17.790000Z",
     "iopub.status.idle": "2025-07-30T21:39:17.797149Z",
     "shell.execute_reply": "2025-07-30T21:39:17.796090Z"
    },
    "papermill": {
     "duration": 0.033832,
     "end_time": "2025-07-30T21:39:17.799041",
     "exception": false,
     "start_time": "2025-07-30T21:39:17.765209",
     "status": "completed"
    },
    "tags": []
   },
   "outputs": [],
   "source": [
    "y_train = y_train[keep_mask]"
   ]
  },
  {
   "cell_type": "markdown",
   "id": "493e2ac3",
   "metadata": {
    "papermill": {
     "duration": 0.023095,
     "end_time": "2025-07-30T21:39:17.845519",
     "exception": false,
     "start_time": "2025-07-30T21:39:17.822424",
     "status": "completed"
    },
    "tags": []
   },
   "source": [
    "# Model Training"
   ]
  },
  {
   "cell_type": "code",
   "execution_count": 41,
   "id": "679e1268",
   "metadata": {
    "execution": {
     "iopub.execute_input": "2025-07-30T21:39:17.891715Z",
     "iopub.status.busy": "2025-07-30T21:39:17.891259Z",
     "iopub.status.idle": "2025-07-30T21:39:17.994630Z",
     "shell.execute_reply": "2025-07-30T21:39:17.993631Z"
    },
    "papermill": {
     "duration": 0.128062,
     "end_time": "2025-07-30T21:39:17.996282",
     "exception": false,
     "start_time": "2025-07-30T21:39:17.868220",
     "status": "completed"
    },
    "tags": []
   },
   "outputs": [],
   "source": [
    "from sklearn.linear_model import LogisticRegression\n",
    "from sklearn.ensemble import GradientBoostingClassifier, RandomForestClassifier\n",
    "\n",
    "if (universe[\"model\"] == \"logreg\"):\n",
    "    model = LogisticRegression() #penalty=\"none\") #, solver=\"newton-cg\", max_iter=1) # include random_state=19 ?\n",
    "elif (universe[\"model\"] == \"penalized_logreg\"):\n",
    "    model = LogisticRegression(penalty=\"l2\", C=1.0) #, solver=\"newton-cg\", max_iter=1)\n",
    "elif (universe[\"model\"] == \"rf\"):\n",
    "    model = RandomForestClassifier(n_estimators=100, n_jobs=-1)\n",
    "elif (universe[\"model\"] == \"gbm\"):\n",
    "    model = GradientBoostingClassifier()\n",
    "elif (universe[\"model\"] == \"elasticnet\"):\n",
    "    model = LogisticRegression(penalty = 'elasticnet', solver = 'saga', l1_ratio = 0.5, max_iter=5000) # which solver to use?\n",
    "else:\n",
    "    raise \"Unsupported universe.model\""
   ]
  },
  {
   "cell_type": "code",
   "execution_count": 42,
   "id": "0cc8f744",
   "metadata": {
    "execution": {
     "iopub.execute_input": "2025-07-30T21:39:18.046417Z",
     "iopub.status.busy": "2025-07-30T21:39:18.045909Z",
     "iopub.status.idle": "2025-07-30T21:39:18.052301Z",
     "shell.execute_reply": "2025-07-30T21:39:18.051463Z"
    },
    "papermill": {
     "duration": 0.032992,
     "end_time": "2025-07-30T21:39:18.053695",
     "exception": false,
     "start_time": "2025-07-30T21:39:18.020703",
     "status": "completed"
    },
    "tags": []
   },
   "outputs": [],
   "source": [
    "import numpy as np\n",
    "from sklearn.pipeline import Pipeline\n",
    "from sklearn.preprocessing import StandardScaler\n",
    "\n",
    "model = Pipeline([\n",
    "    #(\"continuous_processor\", continuous_processor),\n",
    "    #(\"categorical_preprocessor\", categorical_preprocessor),\n",
    "    (\"scale\", StandardScaler() if universe[\"scale\"] == \"scale\" else None), \n",
    "    (\"model\", model),\n",
    "])"
   ]
  },
  {
   "cell_type": "code",
   "execution_count": 43,
   "id": "9442c04d",
   "metadata": {
    "execution": {
     "iopub.execute_input": "2025-07-30T21:39:18.081734Z",
     "iopub.status.busy": "2025-07-30T21:39:18.081320Z",
     "iopub.status.idle": "2025-07-30T21:39:18.157584Z",
     "shell.execute_reply": "2025-07-30T21:39:18.156546Z"
    },
    "papermill": {
     "duration": 0.090247,
     "end_time": "2025-07-30T21:39:18.159057",
     "exception": false,
     "start_time": "2025-07-30T21:39:18.068810",
     "status": "completed"
    },
    "tags": []
   },
   "outputs": [
    {
     "name": "stderr",
     "output_type": "stream",
     "text": [
      "/dss/dsshome1/0C/ra93lal2/.local/share/virtualenvs/CMA_Fairness_v2-3j10GkSs/lib/python3.10/site-packages/sklearn/linear_model/_logistic.py:444: ConvergenceWarning: lbfgs failed to converge (status=1):\n",
      "STOP: TOTAL NO. of ITERATIONS REACHED LIMIT.\n",
      "\n",
      "Increase the number of iterations (max_iter) or scale the data as shown in:\n",
      "    https://scikit-learn.org/stable/modules/preprocessing.html\n",
      "Please also refer to the documentation for alternative solver options:\n",
      "    https://scikit-learn.org/stable/modules/linear_model.html#logistic-regression\n",
      "  n_iter_i = _check_optimize_result(\n"
     ]
    },
    {
     "data": {
      "text/html": [
       "<style>#sk-container-id-1 {color: black;background-color: white;}#sk-container-id-1 pre{padding: 0;}#sk-container-id-1 div.sk-toggleable {background-color: white;}#sk-container-id-1 label.sk-toggleable__label {cursor: pointer;display: block;width: 100%;margin-bottom: 0;padding: 0.3em;box-sizing: border-box;text-align: center;}#sk-container-id-1 label.sk-toggleable__label-arrow:before {content: \"▸\";float: left;margin-right: 0.25em;color: #696969;}#sk-container-id-1 label.sk-toggleable__label-arrow:hover:before {color: black;}#sk-container-id-1 div.sk-estimator:hover label.sk-toggleable__label-arrow:before {color: black;}#sk-container-id-1 div.sk-toggleable__content {max-height: 0;max-width: 0;overflow: hidden;text-align: left;background-color: #f0f8ff;}#sk-container-id-1 div.sk-toggleable__content pre {margin: 0.2em;color: black;border-radius: 0.25em;background-color: #f0f8ff;}#sk-container-id-1 input.sk-toggleable__control:checked~div.sk-toggleable__content {max-height: 200px;max-width: 100%;overflow: auto;}#sk-container-id-1 input.sk-toggleable__control:checked~label.sk-toggleable__label-arrow:before {content: \"▾\";}#sk-container-id-1 div.sk-estimator input.sk-toggleable__control:checked~label.sk-toggleable__label {background-color: #d4ebff;}#sk-container-id-1 div.sk-label input.sk-toggleable__control:checked~label.sk-toggleable__label {background-color: #d4ebff;}#sk-container-id-1 input.sk-hidden--visually {border: 0;clip: rect(1px 1px 1px 1px);clip: rect(1px, 1px, 1px, 1px);height: 1px;margin: -1px;overflow: hidden;padding: 0;position: absolute;width: 1px;}#sk-container-id-1 div.sk-estimator {font-family: monospace;background-color: #f0f8ff;border: 1px dotted black;border-radius: 0.25em;box-sizing: border-box;margin-bottom: 0.5em;}#sk-container-id-1 div.sk-estimator:hover {background-color: #d4ebff;}#sk-container-id-1 div.sk-parallel-item::after {content: \"\";width: 100%;border-bottom: 1px solid gray;flex-grow: 1;}#sk-container-id-1 div.sk-label:hover label.sk-toggleable__label {background-color: #d4ebff;}#sk-container-id-1 div.sk-serial::before {content: \"\";position: absolute;border-left: 1px solid gray;box-sizing: border-box;top: 0;bottom: 0;left: 50%;z-index: 0;}#sk-container-id-1 div.sk-serial {display: flex;flex-direction: column;align-items: center;background-color: white;padding-right: 0.2em;padding-left: 0.2em;position: relative;}#sk-container-id-1 div.sk-item {position: relative;z-index: 1;}#sk-container-id-1 div.sk-parallel {display: flex;align-items: stretch;justify-content: center;background-color: white;position: relative;}#sk-container-id-1 div.sk-item::before, #sk-container-id-1 div.sk-parallel-item::before {content: \"\";position: absolute;border-left: 1px solid gray;box-sizing: border-box;top: 0;bottom: 0;left: 50%;z-index: -1;}#sk-container-id-1 div.sk-parallel-item {display: flex;flex-direction: column;z-index: 1;position: relative;background-color: white;}#sk-container-id-1 div.sk-parallel-item:first-child::after {align-self: flex-end;width: 50%;}#sk-container-id-1 div.sk-parallel-item:last-child::after {align-self: flex-start;width: 50%;}#sk-container-id-1 div.sk-parallel-item:only-child::after {width: 0;}#sk-container-id-1 div.sk-dashed-wrapped {border: 1px dashed gray;margin: 0 0.4em 0.5em 0.4em;box-sizing: border-box;padding-bottom: 0.4em;background-color: white;}#sk-container-id-1 div.sk-label label {font-family: monospace;font-weight: bold;display: inline-block;line-height: 1.2em;}#sk-container-id-1 div.sk-label-container {text-align: center;}#sk-container-id-1 div.sk-container {/* jupyter's `normalize.less` sets `[hidden] { display: none; }` but bootstrap.min.css set `[hidden] { display: none !important; }` so we also need the `!important` here to be able to override the default hidden behavior on the sphinx rendered scikit-learn.org. See: https://github.com/scikit-learn/scikit-learn/issues/21755 */display: inline-block !important;position: relative;}#sk-container-id-1 div.sk-text-repr-fallback {display: none;}</style><div id=\"sk-container-id-1\" class=\"sk-top-container\"><div class=\"sk-text-repr-fallback\"><pre>Pipeline(steps=[(&#x27;scale&#x27;, None), (&#x27;model&#x27;, LogisticRegression())])</pre><b>In a Jupyter environment, please rerun this cell to show the HTML representation or trust the notebook. <br />On GitHub, the HTML representation is unable to render, please try loading this page with nbviewer.org.</b></div><div class=\"sk-container\" hidden><div class=\"sk-item sk-dashed-wrapped\"><div class=\"sk-label-container\"><div class=\"sk-label sk-toggleable\"><input class=\"sk-toggleable__control sk-hidden--visually\" id=\"sk-estimator-id-1\" type=\"checkbox\" ><label for=\"sk-estimator-id-1\" class=\"sk-toggleable__label sk-toggleable__label-arrow\">Pipeline</label><div class=\"sk-toggleable__content\"><pre>Pipeline(steps=[(&#x27;scale&#x27;, None), (&#x27;model&#x27;, LogisticRegression())])</pre></div></div></div><div class=\"sk-serial\"><div class=\"sk-item\"><div class=\"sk-estimator sk-toggleable\"><input class=\"sk-toggleable__control sk-hidden--visually\" id=\"sk-estimator-id-2\" type=\"checkbox\" ><label for=\"sk-estimator-id-2\" class=\"sk-toggleable__label sk-toggleable__label-arrow\">None</label><div class=\"sk-toggleable__content\"><pre>None</pre></div></div></div><div class=\"sk-item\"><div class=\"sk-estimator sk-toggleable\"><input class=\"sk-toggleable__control sk-hidden--visually\" id=\"sk-estimator-id-3\" type=\"checkbox\" ><label for=\"sk-estimator-id-3\" class=\"sk-toggleable__label sk-toggleable__label-arrow\">LogisticRegression</label><div class=\"sk-toggleable__content\"><pre>LogisticRegression()</pre></div></div></div></div></div></div></div>"
      ],
      "text/plain": [
       "Pipeline(steps=[('scale', None), ('model', LogisticRegression())])"
      ]
     },
     "execution_count": 43,
     "metadata": {},
     "output_type": "execute_result"
    }
   ],
   "source": [
    "model.fit(X_train, y_train.values.ravel())"
   ]
  },
  {
   "cell_type": "code",
   "execution_count": 44,
   "id": "af59f8c0",
   "metadata": {
    "execution": {
     "iopub.execute_input": "2025-07-30T21:39:18.186840Z",
     "iopub.status.busy": "2025-07-30T21:39:18.186292Z",
     "iopub.status.idle": "2025-07-30T21:39:18.190750Z",
     "shell.execute_reply": "2025-07-30T21:39:18.190052Z"
    },
    "papermill": {
     "duration": 0.019673,
     "end_time": "2025-07-30T21:39:18.192205",
     "exception": false,
     "start_time": "2025-07-30T21:39:18.172532",
     "status": "completed"
    },
    "tags": []
   },
   "outputs": [],
   "source": [
    "from fairness_multiverse.universe import predict_w_threshold"
   ]
  },
  {
   "cell_type": "code",
   "execution_count": 45,
   "id": "a7cf2e16",
   "metadata": {
    "execution": {
     "iopub.execute_input": "2025-07-30T21:39:18.241063Z",
     "iopub.status.busy": "2025-07-30T21:39:18.240446Z",
     "iopub.status.idle": "2025-07-30T21:39:18.341554Z",
     "shell.execute_reply": "2025-07-30T21:39:18.340456Z"
    },
    "papermill": {
     "duration": 0.128404,
     "end_time": "2025-07-30T21:39:18.343567",
     "exception": false,
     "start_time": "2025-07-30T21:39:18.215163",
     "status": "completed"
    },
    "tags": []
   },
   "outputs": [
    {
     "data": {
      "text/plain": [
       "0.8601270761342102"
      ]
     },
     "execution_count": 45,
     "metadata": {},
     "output_type": "execute_result"
    }
   ],
   "source": [
    "probs_test = model.predict_proba(X_test)\n",
    "\n",
    "'''\n",
    "Below code returns a boolean array (or binary 0/1 array depending on how it’s used) where each element \n",
    "is True if the probability of class 1 is greater than or equal to the threshold, and False otherwise.\n",
    "'''\n",
    "y_pred_default = predict_w_threshold(probs_test, 0.5)\n",
    "\n",
    "from sklearn.metrics import accuracy_score\n",
    "\n",
    "# Naive prediction\n",
    "accuracy_score(y_true = y_true, y_pred = y_pred_default)"
   ]
  },
  {
   "cell_type": "code",
   "execution_count": 46,
   "id": "081964c3",
   "metadata": {
    "execution": {
     "iopub.execute_input": "2025-07-30T21:39:18.398279Z",
     "iopub.status.busy": "2025-07-30T21:39:18.397271Z",
     "iopub.status.idle": "2025-07-30T21:39:18.487793Z",
     "shell.execute_reply": "2025-07-30T21:39:18.486893Z"
    },
    "papermill": {
     "duration": 0.11872,
     "end_time": "2025-07-30T21:39:18.489342",
     "exception": false,
     "start_time": "2025-07-30T21:39:18.370622",
     "status": "completed"
    },
    "tags": []
   },
   "outputs": [
    {
     "data": {
      "text/plain": [
       "array([0, 0, 0, ..., 0, 0, 0])"
      ]
     },
     "execution_count": 46,
     "metadata": {},
     "output_type": "execute_result"
    }
   ],
   "source": [
    "model.predict(X_test)"
   ]
  },
  {
   "cell_type": "markdown",
   "id": "56c9705b",
   "metadata": {
    "papermill": {
     "duration": 0.025459,
     "end_time": "2025-07-30T21:39:18.539247",
     "exception": false,
     "start_time": "2025-07-30T21:39:18.513788",
     "status": "completed"
    },
    "tags": []
   },
   "source": [
    "# Conformal Prediction"
   ]
  },
  {
   "cell_type": "code",
   "execution_count": 47,
   "id": "160ec6ff",
   "metadata": {
    "execution": {
     "iopub.execute_input": "2025-07-30T21:39:18.641598Z",
     "iopub.status.busy": "2025-07-30T21:39:18.641163Z",
     "iopub.status.idle": "2025-07-30T21:39:18.647252Z",
     "shell.execute_reply": "2025-07-30T21:39:18.646161Z"
    },
    "papermill": {
     "duration": 0.083804,
     "end_time": "2025-07-30T21:39:18.649190",
     "exception": false,
     "start_time": "2025-07-30T21:39:18.565386",
     "status": "completed"
    },
    "tags": []
   },
   "outputs": [],
   "source": [
    "# Miscoverage level for conformal prediction (10% allowed error rate => 90% target coverage)\n",
    "alpha = 0.1"
   ]
  },
  {
   "cell_type": "code",
   "execution_count": 48,
   "id": "eadf4555-3dd3-440e-8e35-f82a4ad9f855",
   "metadata": {
    "execution": {
     "iopub.execute_input": "2025-07-30T21:39:18.702343Z",
     "iopub.status.busy": "2025-07-30T21:39:18.701844Z",
     "iopub.status.idle": "2025-07-30T21:39:18.788223Z",
     "shell.execute_reply": "2025-07-30T21:39:18.787142Z"
    },
    "papermill": {
     "duration": 0.114462,
     "end_time": "2025-07-30T21:39:18.790244",
     "exception": false,
     "start_time": "2025-07-30T21:39:18.675782",
     "status": "completed"
    },
    "tags": []
   },
   "outputs": [],
   "source": [
    "probs_calib = model.predict_proba(X_calib)"
   ]
  },
  {
   "cell_type": "code",
   "execution_count": 49,
   "id": "2ed93547-6d5d-4983-9b36-1ecb300da49a",
   "metadata": {
    "execution": {
     "iopub.execute_input": "2025-07-30T21:39:18.845676Z",
     "iopub.status.busy": "2025-07-30T21:39:18.845248Z",
     "iopub.status.idle": "2025-07-30T21:39:18.849731Z",
     "shell.execute_reply": "2025-07-30T21:39:18.848892Z"
    },
    "papermill": {
     "duration": 0.032741,
     "end_time": "2025-07-30T21:39:18.850961",
     "exception": false,
     "start_time": "2025-07-30T21:39:18.818220",
     "status": "completed"
    },
    "tags": []
   },
   "outputs": [],
   "source": [
    "y_calib = y_calib.values.ravel().astype(int)"
   ]
  },
  {
   "cell_type": "code",
   "execution_count": 50,
   "id": "65d1320d-f588-4b38-9072-62af1ae97f7d",
   "metadata": {
    "execution": {
     "iopub.execute_input": "2025-07-30T21:39:18.878364Z",
     "iopub.status.busy": "2025-07-30T21:39:18.877992Z",
     "iopub.status.idle": "2025-07-30T21:39:18.884277Z",
     "shell.execute_reply": "2025-07-30T21:39:18.883007Z"
    },
    "papermill": {
     "duration": 0.021078,
     "end_time": "2025-07-30T21:39:18.885621",
     "exception": false,
     "start_time": "2025-07-30T21:39:18.864543",
     "status": "completed"
    },
    "tags": []
   },
   "outputs": [],
   "source": [
    "from fairness_multiverse.conformal import compute_nc_scores\n",
    "\n",
    "# Compute nonconformity scores on calibration set (1 - probability of true class)\n",
    "nc_scores = compute_nc_scores(probs_calib, y_calib)"
   ]
  },
  {
   "cell_type": "code",
   "execution_count": 51,
   "id": "df3b8ca3-53b7-43d5-9667-7c85da7aeda2",
   "metadata": {
    "execution": {
     "iopub.execute_input": "2025-07-30T21:39:18.913551Z",
     "iopub.status.busy": "2025-07-30T21:39:18.913253Z",
     "iopub.status.idle": "2025-07-30T21:39:18.918104Z",
     "shell.execute_reply": "2025-07-30T21:39:18.917314Z"
    },
    "papermill": {
     "duration": 0.01973,
     "end_time": "2025-07-30T21:39:18.919434",
     "exception": false,
     "start_time": "2025-07-30T21:39:18.899704",
     "status": "completed"
    },
    "tags": []
   },
   "outputs": [],
   "source": [
    "from fairness_multiverse.conformal import find_threshold\n",
    "\n",
    "# Find conformal threshold q_hat for the given alpha (split conformal method)\n",
    "q_hat = find_threshold(nc_scores, alpha)"
   ]
  },
  {
   "cell_type": "code",
   "execution_count": 52,
   "id": "4d29e6c1-0ef6-4aa4-b8fe-4fe79b0d033a",
   "metadata": {
    "execution": {
     "iopub.execute_input": "2025-07-30T21:39:18.946389Z",
     "iopub.status.busy": "2025-07-30T21:39:18.946112Z",
     "iopub.status.idle": "2025-07-30T21:39:18.962825Z",
     "shell.execute_reply": "2025-07-30T21:39:18.962103Z"
    },
    "papermill": {
     "duration": 0.031716,
     "end_time": "2025-07-30T21:39:18.964117",
     "exception": false,
     "start_time": "2025-07-30T21:39:18.932401",
     "status": "completed"
    },
    "tags": []
   },
   "outputs": [
    {
     "data": {
      "text/plain": [
       "0.698990996445199"
      ]
     },
     "execution_count": 52,
     "metadata": {},
     "output_type": "execute_result"
    }
   ],
   "source": [
    "q_hat"
   ]
  },
  {
   "cell_type": "code",
   "execution_count": 53,
   "id": "92460794-cdac-4be2-ba28-f28c0515a6fb",
   "metadata": {
    "execution": {
     "iopub.execute_input": "2025-07-30T21:39:18.992471Z",
     "iopub.status.busy": "2025-07-30T21:39:18.991922Z",
     "iopub.status.idle": "2025-07-30T21:39:19.797274Z",
     "shell.execute_reply": "2025-07-30T21:39:19.796170Z"
    },
    "papermill": {
     "duration": 0.821282,
     "end_time": "2025-07-30T21:39:19.799284",
     "exception": false,
     "start_time": "2025-07-30T21:39:18.978002",
     "status": "completed"
    },
    "tags": []
   },
   "outputs": [],
   "source": [
    "from fairness_multiverse.conformal import predict_conformal_sets\n",
    "\n",
    "# Generate prediction sets for each test example\n",
    "pred_sets = predict_conformal_sets(model, X_test, q_hat)"
   ]
  },
  {
   "cell_type": "code",
   "execution_count": 54,
   "id": "d90c9a65-e6db-4f5d-80cd-e68fb7e46829",
   "metadata": {
    "execution": {
     "iopub.execute_input": "2025-07-30T21:39:19.855408Z",
     "iopub.status.busy": "2025-07-30T21:39:19.854914Z",
     "iopub.status.idle": "2025-07-30T21:39:19.860658Z",
     "shell.execute_reply": "2025-07-30T21:39:19.859611Z"
    },
    "papermill": {
     "duration": 0.036036,
     "end_time": "2025-07-30T21:39:19.862339",
     "exception": false,
     "start_time": "2025-07-30T21:39:19.826303",
     "status": "completed"
    },
    "tags": []
   },
   "outputs": [],
   "source": [
    "y_true = y_true.squeeze()"
   ]
  },
  {
   "cell_type": "code",
   "execution_count": 55,
   "id": "3a58a54a-1e68-46b9-927a-df01f18aebc8",
   "metadata": {
    "execution": {
     "iopub.execute_input": "2025-07-30T21:39:19.917912Z",
     "iopub.status.busy": "2025-07-30T21:39:19.917093Z",
     "iopub.status.idle": "2025-07-30T21:39:20.905813Z",
     "shell.execute_reply": "2025-07-30T21:39:20.904721Z"
    },
    "papermill": {
     "duration": 1.018033,
     "end_time": "2025-07-30T21:39:20.907440",
     "exception": false,
     "start_time": "2025-07-30T21:39:19.889407",
     "status": "completed"
    },
    "tags": []
   },
   "outputs": [],
   "source": [
    "from fairness_multiverse.conformal import evaluate_sets\n",
    "\n",
    "# Evaluate coverage and average set size on test data\n",
    "metrics = evaluate_sets(pred_sets, y_true)"
   ]
  },
  {
   "cell_type": "markdown",
   "id": "2b569c12-9aaa-4c88-98c9-bbcd0cf3ebb8",
   "metadata": {
    "papermill": {
     "duration": 0.012719,
     "end_time": "2025-07-30T21:39:20.936308",
     "exception": false,
     "start_time": "2025-07-30T21:39:20.923589",
     "status": "completed"
    },
    "tags": []
   },
   "source": [
    "# CP Metrics"
   ]
  },
  {
   "cell_type": "code",
   "execution_count": 56,
   "id": "5ce0a5cb-201f-45a0-ade5-94c7f0bd6095",
   "metadata": {
    "execution": {
     "iopub.execute_input": "2025-07-30T21:39:20.963222Z",
     "iopub.status.busy": "2025-07-30T21:39:20.962731Z",
     "iopub.status.idle": "2025-07-30T21:39:20.969214Z",
     "shell.execute_reply": "2025-07-30T21:39:20.968380Z"
    },
    "papermill": {
     "duration": 0.021216,
     "end_time": "2025-07-30T21:39:20.970559",
     "exception": false,
     "start_time": "2025-07-30T21:39:20.949343",
     "status": "completed"
    },
    "tags": []
   },
   "outputs": [
    {
     "data": {
      "text/plain": [
       "{'coverage': 0.9117378218704715, 'avg_size': 1.2008025861108014}"
      ]
     },
     "execution_count": 56,
     "metadata": {},
     "output_type": "execute_result"
    }
   ],
   "source": [
    "metrics"
   ]
  },
  {
   "cell_type": "code",
   "execution_count": 57,
   "id": "9b9a838d-31c9-430b-ae14-12baee460d17",
   "metadata": {
    "execution": {
     "iopub.execute_input": "2025-07-30T21:39:20.997873Z",
     "iopub.status.busy": "2025-07-30T21:39:20.997369Z",
     "iopub.status.idle": "2025-07-30T21:39:21.002505Z",
     "shell.execute_reply": "2025-07-30T21:39:21.001753Z"
    },
    "papermill": {
     "duration": 0.019748,
     "end_time": "2025-07-30T21:39:21.003685",
     "exception": false,
     "start_time": "2025-07-30T21:39:20.983937",
     "status": "completed"
    },
    "tags": []
   },
   "outputs": [],
   "source": [
    "example_universe = universe.copy()\n",
    "universe_training_year = example_universe.get(\"training_year\")\n",
    "universe_training_size = example_universe.get(\"training_size\")\n",
    "universe_scale = example_universe.get(\"scale\")\n",
    "universe_model = example_universe.get(\"model\")\n",
    "universe_exclude_features = example_universe.get(\"exclude_features\")\n",
    "universe_exclude_subgroups = example_universe.get(\"exclude_subgroups\")"
   ]
  },
  {
   "cell_type": "code",
   "execution_count": 58,
   "id": "f4b6a8ac-9dc0-4245-8a91-5b3b5999c4f9",
   "metadata": {
    "execution": {
     "iopub.execute_input": "2025-07-30T21:39:21.030974Z",
     "iopub.status.busy": "2025-07-30T21:39:21.030471Z",
     "iopub.status.idle": "2025-07-30T21:39:21.037664Z",
     "shell.execute_reply": "2025-07-30T21:39:21.036925Z"
    },
    "papermill": {
     "duration": 0.022169,
     "end_time": "2025-07-30T21:39:21.038953",
     "exception": false,
     "start_time": "2025-07-30T21:39:21.016784",
     "status": "completed"
    },
    "tags": []
   },
   "outputs": [],
   "source": [
    "cp_metrics_dict = {\n",
    "    \"universe_id\": [universe_id],\n",
    "    \"universe_training_year\": [universe_training_year],\n",
    "    \"universe_training_size\": [universe_training_size],\n",
    "    \"universe_scale\": [universe_scale],\n",
    "    \"universe_model\": [universe_model],\n",
    "    \"universe_exclude_features\": [universe_exclude_features],\n",
    "    \"universe_exclude_subgroups\": [universe_exclude_subgroups],\n",
    "    \"q_hat\": [q_hat],\n",
    "    \"coverage\": [metrics[\"coverage\"]],\n",
    "    \"avg_size\": [metrics[\"avg_size\"]],\n",
    "}"
   ]
  },
  {
   "cell_type": "code",
   "execution_count": 59,
   "id": "908acbb1-0371-4915-85ca-3fa520d2efe2",
   "metadata": {
    "execution": {
     "iopub.execute_input": "2025-07-30T21:39:21.067303Z",
     "iopub.status.busy": "2025-07-30T21:39:21.066173Z",
     "iopub.status.idle": "2025-07-30T21:39:21.072640Z",
     "shell.execute_reply": "2025-07-30T21:39:21.071991Z"
    },
    "papermill": {
     "duration": 0.021237,
     "end_time": "2025-07-30T21:39:21.073869",
     "exception": false,
     "start_time": "2025-07-30T21:39:21.052632",
     "status": "completed"
    },
    "tags": []
   },
   "outputs": [
    {
     "data": {
      "text/plain": [
       "{'universe_id': ['f570f7a63b033db5ee1635e1a6c95b03'],\n",
       " 'universe_training_year': ['2012_14'],\n",
       " 'universe_training_size': ['1k'],\n",
       " 'universe_scale': ['do-not-scale'],\n",
       " 'universe_model': ['penalized_logreg'],\n",
       " 'universe_exclude_features': ['nationality'],\n",
       " 'universe_exclude_subgroups': ['keep-all'],\n",
       " 'q_hat': [0.698990996445199],\n",
       " 'coverage': [0.9117378218704715],\n",
       " 'avg_size': [1.2008025861108014]}"
      ]
     },
     "execution_count": 59,
     "metadata": {},
     "output_type": "execute_result"
    }
   ],
   "source": [
    "cp_metrics_dict"
   ]
  },
  {
   "cell_type": "code",
   "execution_count": 60,
   "id": "33007efc-14e9-4ec6-97ac-56a455c82265",
   "metadata": {
    "execution": {
     "iopub.execute_input": "2025-07-30T21:39:21.100453Z",
     "iopub.status.busy": "2025-07-30T21:39:21.099893Z",
     "iopub.status.idle": "2025-07-30T21:39:21.104766Z",
     "shell.execute_reply": "2025-07-30T21:39:21.103979Z"
    },
    "papermill": {
     "duration": 0.019382,
     "end_time": "2025-07-30T21:39:21.106013",
     "exception": false,
     "start_time": "2025-07-30T21:39:21.086631",
     "status": "completed"
    },
    "tags": []
   },
   "outputs": [],
   "source": [
    "cp_metrics_df = pd.DataFrame(cp_metrics_dict)"
   ]
  },
  {
   "cell_type": "code",
   "execution_count": 61,
   "id": "db12611b-57b2-4910-b9d0-355adfd6e7bf",
   "metadata": {
    "execution": {
     "iopub.execute_input": "2025-07-30T21:39:21.132558Z",
     "iopub.status.busy": "2025-07-30T21:39:21.132082Z",
     "iopub.status.idle": "2025-07-30T21:39:21.145279Z",
     "shell.execute_reply": "2025-07-30T21:39:21.144619Z"
    },
    "papermill": {
     "duration": 0.027651,
     "end_time": "2025-07-30T21:39:21.146507",
     "exception": false,
     "start_time": "2025-07-30T21:39:21.118856",
     "status": "completed"
    },
    "tags": []
   },
   "outputs": [
    {
     "data": {
      "text/html": [
       "<div>\n",
       "<style scoped>\n",
       "    .dataframe tbody tr th:only-of-type {\n",
       "        vertical-align: middle;\n",
       "    }\n",
       "\n",
       "    .dataframe tbody tr th {\n",
       "        vertical-align: top;\n",
       "    }\n",
       "\n",
       "    .dataframe thead th {\n",
       "        text-align: right;\n",
       "    }\n",
       "</style>\n",
       "<table border=\"1\" class=\"dataframe\">\n",
       "  <thead>\n",
       "    <tr style=\"text-align: right;\">\n",
       "      <th></th>\n",
       "      <th>universe_id</th>\n",
       "      <th>universe_training_year</th>\n",
       "      <th>universe_training_size</th>\n",
       "      <th>universe_scale</th>\n",
       "      <th>universe_model</th>\n",
       "      <th>universe_exclude_features</th>\n",
       "      <th>universe_exclude_subgroups</th>\n",
       "      <th>q_hat</th>\n",
       "      <th>coverage</th>\n",
       "      <th>avg_size</th>\n",
       "    </tr>\n",
       "  </thead>\n",
       "  <tbody>\n",
       "    <tr>\n",
       "      <th>0</th>\n",
       "      <td>f570f7a63b033db5ee1635e1a6c95b03</td>\n",
       "      <td>2012_14</td>\n",
       "      <td>1k</td>\n",
       "      <td>do-not-scale</td>\n",
       "      <td>penalized_logreg</td>\n",
       "      <td>nationality</td>\n",
       "      <td>keep-all</td>\n",
       "      <td>0.698991</td>\n",
       "      <td>0.911738</td>\n",
       "      <td>1.200803</td>\n",
       "    </tr>\n",
       "  </tbody>\n",
       "</table>\n",
       "</div>"
      ],
      "text/plain": [
       "                        universe_id universe_training_year  \\\n",
       "0  f570f7a63b033db5ee1635e1a6c95b03                2012_14   \n",
       "\n",
       "  universe_training_size universe_scale    universe_model  \\\n",
       "0                     1k   do-not-scale  penalized_logreg   \n",
       "\n",
       "  universe_exclude_features universe_exclude_subgroups     q_hat  coverage  \\\n",
       "0               nationality                   keep-all  0.698991  0.911738   \n",
       "\n",
       "   avg_size  \n",
       "0  1.200803  "
      ]
     },
     "execution_count": 61,
     "metadata": {},
     "output_type": "execute_result"
    }
   ],
   "source": [
    "cp_metrics_df"
   ]
  },
  {
   "cell_type": "code",
   "execution_count": 62,
   "id": "b7fbde55-a0a1-47e4-9af6-fe4a17fa8c61",
   "metadata": {
    "execution": {
     "iopub.execute_input": "2025-07-30T21:39:21.174845Z",
     "iopub.status.busy": "2025-07-30T21:39:21.174336Z",
     "iopub.status.idle": "2025-07-30T21:39:21.178812Z",
     "shell.execute_reply": "2025-07-30T21:39:21.177861Z"
    },
    "papermill": {
     "duration": 0.020227,
     "end_time": "2025-07-30T21:39:21.180622",
     "exception": false,
     "start_time": "2025-07-30T21:39:21.160395",
     "status": "completed"
    },
    "tags": []
   },
   "outputs": [],
   "source": [
    "# Conditional Coverage & looking at subgroups"
   ]
  },
  {
   "cell_type": "code",
   "execution_count": 63,
   "id": "027ae886-68dd-4141-96c7-805a5450e1ef",
   "metadata": {
    "execution": {
     "iopub.execute_input": "2025-07-30T21:39:21.238752Z",
     "iopub.status.busy": "2025-07-30T21:39:21.238191Z",
     "iopub.status.idle": "2025-07-30T21:39:21.434270Z",
     "shell.execute_reply": "2025-07-30T21:39:21.433529Z"
    },
    "papermill": {
     "duration": 0.226369,
     "end_time": "2025-07-30T21:39:21.436167",
     "exception": false,
     "start_time": "2025-07-30T21:39:21.209798",
     "status": "completed"
    },
    "tags": []
   },
   "outputs": [],
   "source": [
    "from fairness_multiverse.conformal import build_cp_groups\n",
    "\n",
    "cp_groups_df = build_cp_groups(pred_sets, y_true, X_test.index, org_test)\n",
    "#needs universe_id and setting"
   ]
  },
  {
   "cell_type": "code",
   "execution_count": 64,
   "id": "01d5802c-663a-4d1f-9d69-e036faaffbf7",
   "metadata": {
    "execution": {
     "iopub.execute_input": "2025-07-30T21:39:21.489214Z",
     "iopub.status.busy": "2025-07-30T21:39:21.488389Z",
     "iopub.status.idle": "2025-07-30T21:39:21.493522Z",
     "shell.execute_reply": "2025-07-30T21:39:21.492537Z"
    },
    "papermill": {
     "duration": 0.03256,
     "end_time": "2025-07-30T21:39:21.495261",
     "exception": false,
     "start_time": "2025-07-30T21:39:21.462701",
     "status": "completed"
    },
    "tags": []
   },
   "outputs": [],
   "source": [
    "#delete\n",
    "#cp_groups_df"
   ]
  },
  {
   "cell_type": "code",
   "execution_count": 65,
   "id": "fa424af1-d1eb-443d-b717-2d279ada8408",
   "metadata": {
    "execution": {
     "iopub.execute_input": "2025-07-30T21:39:21.550166Z",
     "iopub.status.busy": "2025-07-30T21:39:21.549252Z",
     "iopub.status.idle": "2025-07-30T21:39:21.554420Z",
     "shell.execute_reply": "2025-07-30T21:39:21.553439Z"
    },
    "papermill": {
     "duration": 0.033467,
     "end_time": "2025-07-30T21:39:21.556130",
     "exception": false,
     "start_time": "2025-07-30T21:39:21.522663",
     "status": "completed"
    },
    "tags": []
   },
   "outputs": [],
   "source": [
    "#delete\n",
    "#percentage = (cp_groups_df['nongerman_female'] == 1).mean() * 100\n",
    "#print(percentage)\n"
   ]
  },
  {
   "cell_type": "code",
   "execution_count": 66,
   "id": "6cbdab96-b2b2-45af-ad54-d0516db2e28d",
   "metadata": {
    "execution": {
     "iopub.execute_input": "2025-07-30T21:39:21.611576Z",
     "iopub.status.busy": "2025-07-30T21:39:21.611137Z",
     "iopub.status.idle": "2025-07-30T21:39:22.997422Z",
     "shell.execute_reply": "2025-07-30T21:39:22.996655Z"
    },
    "papermill": {
     "duration": 1.416805,
     "end_time": "2025-07-30T21:39:22.998819",
     "exception": false,
     "start_time": "2025-07-30T21:39:21.582014",
     "status": "completed"
    },
    "tags": []
   },
   "outputs": [],
   "source": [
    "# Define covered = 1 if true_label is in the predicted set\n",
    "cp_groups_df['covered'] = cp_groups_df.apply(\n",
    "    lambda r: int(r['true_label'] in r['pred_set']),\n",
    "    axis=1\n",
    ")"
   ]
  },
  {
   "cell_type": "code",
   "execution_count": 67,
   "id": "338ff529-1a6b-4b87-a931-8e4788d52aad",
   "metadata": {
    "execution": {
     "iopub.execute_input": "2025-07-30T21:39:23.026880Z",
     "iopub.status.busy": "2025-07-30T21:39:23.026090Z",
     "iopub.status.idle": "2025-07-30T21:39:23.030596Z",
     "shell.execute_reply": "2025-07-30T21:39:23.029947Z"
    },
    "papermill": {
     "duration": 0.019405,
     "end_time": "2025-07-30T21:39:23.031917",
     "exception": false,
     "start_time": "2025-07-30T21:39:23.012512",
     "status": "completed"
    },
    "tags": []
   },
   "outputs": [],
   "source": [
    "#cp_groups_df"
   ]
  },
  {
   "cell_type": "code",
   "execution_count": 68,
   "id": "90032e27-66df-4540-9169-4e89cfbaa758",
   "metadata": {
    "execution": {
     "iopub.execute_input": "2025-07-30T21:39:23.059325Z",
     "iopub.status.busy": "2025-07-30T21:39:23.058687Z",
     "iopub.status.idle": "2025-07-30T21:39:23.067732Z",
     "shell.execute_reply": "2025-07-30T21:39:23.066778Z"
    },
    "papermill": {
     "duration": 0.02389,
     "end_time": "2025-07-30T21:39:23.069139",
     "exception": false,
     "start_time": "2025-07-30T21:39:23.045249",
     "status": "completed"
    },
    "tags": []
   },
   "outputs": [],
   "source": [
    "subgroups = ['frau1','nongerman','nongerman_male','nongerman_female']\n",
    "\n",
    "# Conditional coverage for subgroup==1\n",
    "cond_coverage = {\n",
    "    g: cp_groups_df.loc[cp_groups_df[g]==1, 'covered'].mean()\n",
    "    for g in subgroups\n",
    "}"
   ]
  },
  {
   "cell_type": "code",
   "execution_count": 69,
   "id": "1e348fb1-b9c3-45bc-ba23-f016827a7e0d",
   "metadata": {
    "execution": {
     "iopub.execute_input": "2025-07-30T21:39:23.102517Z",
     "iopub.status.busy": "2025-07-30T21:39:23.101888Z",
     "iopub.status.idle": "2025-07-30T21:39:23.107885Z",
     "shell.execute_reply": "2025-07-30T21:39:23.107149Z"
    },
    "papermill": {
     "duration": 0.024614,
     "end_time": "2025-07-30T21:39:23.109217",
     "exception": false,
     "start_time": "2025-07-30T21:39:23.084603",
     "status": "completed"
    },
    "tags": []
   },
   "outputs": [
    {
     "data": {
      "text/plain": [
       "{'frau1': 0.9081008222132363,\n",
       " 'nongerman': 0.92634592713187,\n",
       " 'nongerman_male': 0.9411870665585877,\n",
       " 'nongerman_female': 0.9017883755588674}"
      ]
     },
     "execution_count": 69,
     "metadata": {},
     "output_type": "execute_result"
    }
   ],
   "source": [
    "cond_coverage"
   ]
  },
  {
   "cell_type": "code",
   "execution_count": 70,
   "id": "f5093324-c3dd-4d63-bc4c-8d945e5c8bbb",
   "metadata": {
    "execution": {
     "iopub.execute_input": "2025-07-30T21:39:23.137593Z",
     "iopub.status.busy": "2025-07-30T21:39:23.136793Z",
     "iopub.status.idle": "2025-07-30T21:39:23.142633Z",
     "shell.execute_reply": "2025-07-30T21:39:23.141922Z"
    },
    "papermill": {
     "duration": 0.021158,
     "end_time": "2025-07-30T21:39:23.143986",
     "exception": false,
     "start_time": "2025-07-30T21:39:23.122828",
     "status": "completed"
    },
    "tags": []
   },
   "outputs": [],
   "source": [
    "for subgroup, cov in cond_coverage.items():\n",
    "    cp_metrics_df[f\"cov_{subgroup}\"] = cov"
   ]
  },
  {
   "cell_type": "code",
   "execution_count": 71,
   "id": "6e872e10-dbe5-49e8-b554-5030c98ff75d",
   "metadata": {
    "execution": {
     "iopub.execute_input": "2025-07-30T21:39:23.194351Z",
     "iopub.status.busy": "2025-07-30T21:39:23.193866Z",
     "iopub.status.idle": "2025-07-30T21:39:23.213007Z",
     "shell.execute_reply": "2025-07-30T21:39:23.212010Z"
    },
    "papermill": {
     "duration": 0.048829,
     "end_time": "2025-07-30T21:39:23.214629",
     "exception": false,
     "start_time": "2025-07-30T21:39:23.165800",
     "status": "completed"
    },
    "tags": []
   },
   "outputs": [
    {
     "data": {
      "text/html": [
       "<div>\n",
       "<style scoped>\n",
       "    .dataframe tbody tr th:only-of-type {\n",
       "        vertical-align: middle;\n",
       "    }\n",
       "\n",
       "    .dataframe tbody tr th {\n",
       "        vertical-align: top;\n",
       "    }\n",
       "\n",
       "    .dataframe thead th {\n",
       "        text-align: right;\n",
       "    }\n",
       "</style>\n",
       "<table border=\"1\" class=\"dataframe\">\n",
       "  <thead>\n",
       "    <tr style=\"text-align: right;\">\n",
       "      <th></th>\n",
       "      <th>universe_id</th>\n",
       "      <th>universe_training_year</th>\n",
       "      <th>universe_training_size</th>\n",
       "      <th>universe_scale</th>\n",
       "      <th>universe_model</th>\n",
       "      <th>universe_exclude_features</th>\n",
       "      <th>universe_exclude_subgroups</th>\n",
       "      <th>q_hat</th>\n",
       "      <th>coverage</th>\n",
       "      <th>avg_size</th>\n",
       "      <th>cov_frau1</th>\n",
       "      <th>cov_nongerman</th>\n",
       "      <th>cov_nongerman_male</th>\n",
       "      <th>cov_nongerman_female</th>\n",
       "    </tr>\n",
       "  </thead>\n",
       "  <tbody>\n",
       "    <tr>\n",
       "      <th>0</th>\n",
       "      <td>f570f7a63b033db5ee1635e1a6c95b03</td>\n",
       "      <td>2012_14</td>\n",
       "      <td>1k</td>\n",
       "      <td>do-not-scale</td>\n",
       "      <td>penalized_logreg</td>\n",
       "      <td>nationality</td>\n",
       "      <td>keep-all</td>\n",
       "      <td>0.698991</td>\n",
       "      <td>0.911738</td>\n",
       "      <td>1.200803</td>\n",
       "      <td>0.908101</td>\n",
       "      <td>0.926346</td>\n",
       "      <td>0.941187</td>\n",
       "      <td>0.901788</td>\n",
       "    </tr>\n",
       "  </tbody>\n",
       "</table>\n",
       "</div>"
      ],
      "text/plain": [
       "                        universe_id universe_training_year  \\\n",
       "0  f570f7a63b033db5ee1635e1a6c95b03                2012_14   \n",
       "\n",
       "  universe_training_size universe_scale    universe_model  \\\n",
       "0                     1k   do-not-scale  penalized_logreg   \n",
       "\n",
       "  universe_exclude_features universe_exclude_subgroups     q_hat  coverage  \\\n",
       "0               nationality                   keep-all  0.698991  0.911738   \n",
       "\n",
       "   avg_size  cov_frau1  cov_nongerman  cov_nongerman_male  \\\n",
       "0  1.200803   0.908101       0.926346            0.941187   \n",
       "\n",
       "   cov_nongerman_female  \n",
       "0              0.901788  "
      ]
     },
     "execution_count": 71,
     "metadata": {},
     "output_type": "execute_result"
    }
   ],
   "source": [
    "cp_metrics_df"
   ]
  },
  {
   "cell_type": "markdown",
   "id": "33774451",
   "metadata": {
    "papermill": {
     "duration": 0.027798,
     "end_time": "2025-07-30T21:39:23.271823",
     "exception": false,
     "start_time": "2025-07-30T21:39:23.244025",
     "status": "completed"
    },
    "tags": []
   },
   "source": [
    "# (Fairness) Metrics"
   ]
  },
  {
   "cell_type": "code",
   "execution_count": 72,
   "id": "debc5d62",
   "metadata": {
    "execution": {
     "iopub.execute_input": "2025-07-30T21:39:23.330711Z",
     "iopub.status.busy": "2025-07-30T21:39:23.330015Z",
     "iopub.status.idle": "2025-07-30T21:39:23.352721Z",
     "shell.execute_reply": "2025-07-30T21:39:23.351727Z"
    },
    "papermill": {
     "duration": 0.054062,
     "end_time": "2025-07-30T21:39:23.354462",
     "exception": false,
     "start_time": "2025-07-30T21:39:23.300400",
     "status": "completed"
    },
    "tags": []
   },
   "outputs": [],
   "source": [
    "# do I need to include maxdeutsch1.missing?\n",
    "\n",
    "import numpy as np\n",
    "\n",
    "colname_to_bin = \"maxdeutsch1\"\n",
    "majority_value = org_train[colname_to_bin].mode()[0]\n",
    "\n",
    "org_test[\"majmin\"] = np.where(org_test[colname_to_bin] == majority_value, \"majority\", \"minority\")"
   ]
  },
  {
   "cell_type": "code",
   "execution_count": 73,
   "id": "06a50de5",
   "metadata": {
    "execution": {
     "iopub.execute_input": "2025-07-30T21:39:23.410460Z",
     "iopub.status.busy": "2025-07-30T21:39:23.409574Z",
     "iopub.status.idle": "2025-07-30T21:39:26.191268Z",
     "shell.execute_reply": "2025-07-30T21:39:26.190149Z"
    },
    "papermill": {
     "duration": 2.810558,
     "end_time": "2025-07-30T21:39:26.193278",
     "exception": false,
     "start_time": "2025-07-30T21:39:23.382720",
     "status": "completed"
    },
    "tags": []
   },
   "outputs": [],
   "source": [
    "example_universe = universe.copy()\n",
    "example_universe[\"cutoff\"] = example_universe[\"cutoff\"][0]\n",
    "example_universe[\"eval_fairness_grouping\"] = example_universe[\"eval_fairness_grouping\"][0]\n",
    "fairness_dict, metric_frame = universe_analysis.compute_metrics(\n",
    "    example_universe,\n",
    "    y_pred_prob=probs_test,\n",
    "    y_test=y_true,\n",
    "    org_test=org_test,\n",
    ")"
   ]
  },
  {
   "cell_type": "markdown",
   "id": "f95d4e02",
   "metadata": {
    "papermill": {
     "duration": 0.025132,
     "end_time": "2025-07-30T21:39:26.247055",
     "exception": false,
     "start_time": "2025-07-30T21:39:26.221923",
     "status": "completed"
    },
    "tags": []
   },
   "source": [
    "# Overall"
   ]
  },
  {
   "cell_type": "markdown",
   "id": "bdee4871",
   "metadata": {
    "papermill": {
     "duration": 0.024501,
     "end_time": "2025-07-30T21:39:26.297622",
     "exception": false,
     "start_time": "2025-07-30T21:39:26.273121",
     "status": "completed"
    },
    "tags": []
   },
   "source": [
    "Fairness\n",
    "Main fairness target: Equalized Odds. Seems to be a better fit than equal opportunity, since we're not only interested in Y = 1. Seems to be a better fit than demographic parity, since we also care about accuracy, not just equal distribution of preds.\n",
    "\n",
    "Pick column for computation of fairness metrics\n",
    "\n",
    "Performance\n",
    "Overall performance measures, most interesting in relation to the measures split by group below"
   ]
  },
  {
   "cell_type": "code",
   "execution_count": 74,
   "id": "c4e067c6",
   "metadata": {
    "execution": {
     "iopub.execute_input": "2025-07-30T21:39:26.349991Z",
     "iopub.status.busy": "2025-07-30T21:39:26.349045Z",
     "iopub.status.idle": "2025-07-30T21:39:26.357785Z",
     "shell.execute_reply": "2025-07-30T21:39:26.356906Z"
    },
    "papermill": {
     "duration": 0.035895,
     "end_time": "2025-07-30T21:39:26.359326",
     "exception": false,
     "start_time": "2025-07-30T21:39:26.323431",
     "status": "completed"
    },
    "tags": []
   },
   "outputs": [
    {
     "data": {
      "text/plain": [
       "accuracy                   0.214970\n",
       "balanced accuracy          0.527602\n",
       "f1                         0.236561\n",
       "precision                  0.135139\n",
       "false positive rate        0.892918\n",
       "false negative rate        0.051877\n",
       "selection rate             0.900000\n",
       "count                  89710.000000\n",
       "dtype: float64"
      ]
     },
     "execution_count": 74,
     "metadata": {},
     "output_type": "execute_result"
    }
   ],
   "source": [
    "metric_frame.overall"
   ]
  },
  {
   "cell_type": "markdown",
   "id": "e968fe9d",
   "metadata": {
    "papermill": {
     "duration": 0.025888,
     "end_time": "2025-07-30T21:39:26.410600",
     "exception": false,
     "start_time": "2025-07-30T21:39:26.384712",
     "status": "completed"
    },
    "tags": []
   },
   "source": [
    "By Group"
   ]
  },
  {
   "cell_type": "code",
   "execution_count": 75,
   "id": "ec325bce",
   "metadata": {
    "execution": {
     "iopub.execute_input": "2025-07-30T21:39:26.462076Z",
     "iopub.status.busy": "2025-07-30T21:39:26.461281Z",
     "iopub.status.idle": "2025-07-30T21:39:26.477843Z",
     "shell.execute_reply": "2025-07-30T21:39:26.476977Z"
    },
    "papermill": {
     "duration": 0.044022,
     "end_time": "2025-07-30T21:39:26.479273",
     "exception": false,
     "start_time": "2025-07-30T21:39:26.435251",
     "status": "completed"
    },
    "tags": []
   },
   "outputs": [
    {
     "data": {
      "text/html": [
       "<div>\n",
       "<style scoped>\n",
       "    .dataframe tbody tr th:only-of-type {\n",
       "        vertical-align: middle;\n",
       "    }\n",
       "\n",
       "    .dataframe tbody tr th {\n",
       "        vertical-align: top;\n",
       "    }\n",
       "\n",
       "    .dataframe thead th {\n",
       "        text-align: right;\n",
       "    }\n",
       "</style>\n",
       "<table border=\"1\" class=\"dataframe\">\n",
       "  <thead>\n",
       "    <tr style=\"text-align: right;\">\n",
       "      <th></th>\n",
       "      <th>accuracy</th>\n",
       "      <th>balanced accuracy</th>\n",
       "      <th>f1</th>\n",
       "      <th>precision</th>\n",
       "      <th>false positive rate</th>\n",
       "      <th>false negative rate</th>\n",
       "      <th>selection rate</th>\n",
       "      <th>count</th>\n",
       "    </tr>\n",
       "    <tr>\n",
       "      <th>majmin</th>\n",
       "      <th></th>\n",
       "      <th></th>\n",
       "      <th></th>\n",
       "      <th></th>\n",
       "      <th></th>\n",
       "      <th></th>\n",
       "      <th></th>\n",
       "      <th></th>\n",
       "    </tr>\n",
       "  </thead>\n",
       "  <tbody>\n",
       "    <tr>\n",
       "      <th>majority</th>\n",
       "      <td>0.236172</td>\n",
       "      <td>0.533966</td>\n",
       "      <td>0.245164</td>\n",
       "      <td>0.140993</td>\n",
       "      <td>0.870798</td>\n",
       "      <td>0.061269</td>\n",
       "      <td>0.879774</td>\n",
       "      <td>69170.0</td>\n",
       "    </tr>\n",
       "    <tr>\n",
       "      <th>minority</th>\n",
       "      <td>0.143574</td>\n",
       "      <td>0.509192</td>\n",
       "      <td>0.209500</td>\n",
       "      <td>0.117224</td>\n",
       "      <td>0.965992</td>\n",
       "      <td>0.015625</td>\n",
       "      <td>0.968111</td>\n",
       "      <td>20540.0</td>\n",
       "    </tr>\n",
       "  </tbody>\n",
       "</table>\n",
       "</div>"
      ],
      "text/plain": [
       "          accuracy  balanced accuracy        f1  precision  \\\n",
       "majmin                                                       \n",
       "majority  0.236172           0.533966  0.245164   0.140993   \n",
       "minority  0.143574           0.509192  0.209500   0.117224   \n",
       "\n",
       "          false positive rate  false negative rate  selection rate    count  \n",
       "majmin                                                                       \n",
       "majority             0.870798             0.061269        0.879774  69170.0  \n",
       "minority             0.965992             0.015625        0.968111  20540.0  "
      ]
     },
     "execution_count": 75,
     "metadata": {},
     "output_type": "execute_result"
    }
   ],
   "source": [
    "metric_frame.by_group"
   ]
  },
  {
   "cell_type": "code",
   "execution_count": 76,
   "id": "a9ddbe63",
   "metadata": {
    "execution": {
     "iopub.execute_input": "2025-07-30T21:39:26.533664Z",
     "iopub.status.busy": "2025-07-30T21:39:26.532800Z",
     "iopub.status.idle": "2025-07-30T21:39:28.816888Z",
     "shell.execute_reply": "2025-07-30T21:39:28.816055Z"
    },
    "papermill": {
     "duration": 2.312486,
     "end_time": "2025-07-30T21:39:28.818372",
     "exception": false,
     "start_time": "2025-07-30T21:39:26.505886",
     "status": "completed"
    },
    "tags": []
   },
   "outputs": [
    {
     "data": {
      "text/plain": [
       "array([[<Axes: title={'center': 'accuracy'}, xlabel='majmin'>,\n",
       "        <Axes: title={'center': 'balanced accuracy'}, xlabel='majmin'>,\n",
       "        <Axes: title={'center': 'f1'}, xlabel='majmin'>],\n",
       "       [<Axes: title={'center': 'precision'}, xlabel='majmin'>,\n",
       "        <Axes: title={'center': 'false positive rate'}, xlabel='majmin'>,\n",
       "        <Axes: title={'center': 'false negative rate'}, xlabel='majmin'>],\n",
       "       [<Axes: title={'center': 'selection rate'}, xlabel='majmin'>,\n",
       "        <Axes: title={'center': 'count'}, xlabel='majmin'>,\n",
       "        <Axes: xlabel='majmin'>]], dtype=object)"
      ]
     },
     "execution_count": 76,
     "metadata": {},
     "output_type": "execute_result"
    },
    {
     "data": {
      "image/png": "[encoded data removed]",
      "text/plain": [
       "<Figure size 1200x800 with 9 Axes>"
      ]
     },
     "metadata": {},
     "output_type": "display_data"
    }
   ],
   "source": [
    "# In a graphic\n",
    "metric_frame.by_group.plot.bar(\n",
    "    subplots=True,\n",
    "    layout=[3, 3],\n",
    "    legend=False,\n",
    "    figsize=[12, 8],\n",
    "    title=\"Show all metrics\",\n",
    ")"
   ]
  },
  {
   "cell_type": "markdown",
   "id": "f57a0bac",
   "metadata": {
    "papermill": {
     "duration": 0.027095,
     "end_time": "2025-07-30T21:39:28.872946",
     "exception": false,
     "start_time": "2025-07-30T21:39:28.845851",
     "status": "completed"
    },
    "tags": []
   },
   "source": [
    "# Final Output"
   ]
  },
  {
   "cell_type": "code",
   "execution_count": 77,
   "id": "96d280a3",
   "metadata": {
    "execution": {
     "iopub.execute_input": "2025-07-30T21:39:28.929413Z",
     "iopub.status.busy": "2025-07-30T21:39:28.928847Z",
     "iopub.status.idle": "2025-07-30T21:39:28.936934Z",
     "shell.execute_reply": "2025-07-30T21:39:28.935918Z"
    },
    "papermill": {
     "duration": 0.038427,
     "end_time": "2025-07-30T21:39:28.938514",
     "exception": false,
     "start_time": "2025-07-30T21:39:28.900087",
     "status": "completed"
    },
    "tags": []
   },
   "outputs": [
    {
     "data": {
      "text/plain": [
       "4"
      ]
     },
     "execution_count": 77,
     "metadata": {},
     "output_type": "execute_result"
    }
   ],
   "source": [
    "sub_universes = universe_analysis.generate_sub_universes()\n",
    "len(sub_universes)"
   ]
  },
  {
   "cell_type": "code",
   "execution_count": 78,
   "id": "92adf7ba",
   "metadata": {
    "execution": {
     "iopub.execute_input": "2025-07-30T21:39:28.996402Z",
     "iopub.status.busy": "2025-07-30T21:39:28.995666Z",
     "iopub.status.idle": "2025-07-30T21:39:29.001803Z",
     "shell.execute_reply": "2025-07-30T21:39:29.000805Z"
    },
    "papermill": {
     "duration": 0.03635,
     "end_time": "2025-07-30T21:39:29.003451",
     "exception": false,
     "start_time": "2025-07-30T21:39:28.967101",
     "status": "completed"
    },
    "tags": []
   },
   "outputs": [],
   "source": [
    "def filter_sub_universe_data(sub_universe, org_test):\n",
    "    # Keep all rows — no filtering\n",
    "    keep_rows_mask = np.ones(org_test.shape[0], dtype=bool)\n",
    "\n",
    "    print(f\"[INFO] Keeping all rows: {keep_rows_mask.sum()} rows retained.\")\n",
    "    return keep_rows_mask"
   ]
  },
  {
   "cell_type": "code",
   "execution_count": 79,
   "id": "4a759155",
   "metadata": {
    "execution": {
     "iopub.execute_input": "2025-07-30T21:39:29.062108Z",
     "iopub.status.busy": "2025-07-30T21:39:29.061288Z",
     "iopub.status.idle": "2025-07-30T21:39:38.060373Z",
     "shell.execute_reply": "2025-07-30T21:39:38.059587Z"
    },
    "papermill": {
     "duration": 9.030521,
     "end_time": "2025-07-30T21:39:38.061666",
     "exception": false,
     "start_time": "2025-07-30T21:39:29.031145",
     "status": "completed"
    },
    "tags": []
   },
   "outputs": [
    {
     "name": "stdout",
     "output_type": "stream",
     "text": [
      "Stopping execution_time clock.\n",
      "[INFO] Keeping all rows: 89710 rows retained.\n"
     ]
    },
    {
     "name": "stdout",
     "output_type": "stream",
     "text": [
      "[INFO] Keeping all rows: 89710 rows retained.\n"
     ]
    },
    {
     "name": "stdout",
     "output_type": "stream",
     "text": [
      "[INFO] Keeping all rows: 89710 rows retained.\n"
     ]
    },
    {
     "name": "stdout",
     "output_type": "stream",
     "text": [
      "[INFO] Keeping all rows: 89710 rows retained.\n"
     ]
    },
    {
     "data": {
      "text/html": [
       "<div>\n",
       "<style scoped>\n",
       "    .dataframe tbody tr th:only-of-type {\n",
       "        vertical-align: middle;\n",
       "    }\n",
       "\n",
       "    .dataframe tbody tr th {\n",
       "        vertical-align: top;\n",
       "    }\n",
       "\n",
       "    .dataframe thead th {\n",
       "        text-align: right;\n",
       "    }\n",
       "</style>\n",
       "<table border=\"1\" class=\"dataframe\">\n",
       "  <thead>\n",
       "    <tr style=\"text-align: right;\">\n",
       "      <th></th>\n",
       "      <th>run_no</th>\n",
       "      <th>universe_id</th>\n",
       "      <th>universe_settings</th>\n",
       "      <th>execution_time</th>\n",
       "      <th>test_size_n</th>\n",
       "      <th>test_size_frac</th>\n",
       "      <th>fair_main_equalized_odds_difference</th>\n",
       "      <th>fair_main_equalized_odds_ratio</th>\n",
       "      <th>fair_main_demographic_parity_difference</th>\n",
       "      <th>fair_main_demographic_parity_ratio</th>\n",
       "      <th>...</th>\n",
       "      <th>perf_grp_precision_0</th>\n",
       "      <th>perf_grp_precision_1</th>\n",
       "      <th>perf_grp_false positive rate_0</th>\n",
       "      <th>perf_grp_false positive rate_1</th>\n",
       "      <th>perf_grp_false negative rate_0</th>\n",
       "      <th>perf_grp_false negative rate_1</th>\n",
       "      <th>perf_grp_selection rate_0</th>\n",
       "      <th>perf_grp_selection rate_1</th>\n",
       "      <th>perf_grp_count_0</th>\n",
       "      <th>perf_grp_count_1</th>\n",
       "    </tr>\n",
       "  </thead>\n",
       "  <tbody>\n",
       "    <tr>\n",
       "      <th>0</th>\n",
       "      <td>14</td>\n",
       "      <td>f570f7a63b033db5ee1635e1a6c95b03</td>\n",
       "      <td>{\"cutoff\": \"quantile_0.1\", \"eval_fairness_grou...</td>\n",
       "      <td>26.032884</td>\n",
       "      <td>89710</td>\n",
       "      <td>1.0</td>\n",
       "      <td>0.095194</td>\n",
       "      <td>0.901455</td>\n",
       "      <td>0.088337</td>\n",
       "      <td>0.908754</td>\n",
       "      <td>...</td>\n",
       "      <td>NaN</td>\n",
       "      <td>NaN</td>\n",
       "      <td>NaN</td>\n",
       "      <td>NaN</td>\n",
       "      <td>NaN</td>\n",
       "      <td>NaN</td>\n",
       "      <td>NaN</td>\n",
       "      <td>NaN</td>\n",
       "      <td>NaN</td>\n",
       "      <td>NaN</td>\n",
       "    </tr>\n",
       "    <tr>\n",
       "      <th>0</th>\n",
       "      <td>14</td>\n",
       "      <td>f570f7a63b033db5ee1635e1a6c95b03</td>\n",
       "      <td>{\"cutoff\": \"quantile_0.1\", \"eval_fairness_grou...</td>\n",
       "      <td>26.032884</td>\n",
       "      <td>89710</td>\n",
       "      <td>1.0</td>\n",
       "      <td>0.095194</td>\n",
       "      <td>0.901455</td>\n",
       "      <td>0.088337</td>\n",
       "      <td>0.908754</td>\n",
       "      <td>...</td>\n",
       "      <td>0.117224</td>\n",
       "      <td>0.140993</td>\n",
       "      <td>0.965992</td>\n",
       "      <td>0.870798</td>\n",
       "      <td>0.015625</td>\n",
       "      <td>0.061269</td>\n",
       "      <td>0.968111</td>\n",
       "      <td>0.879774</td>\n",
       "      <td>20540.0</td>\n",
       "      <td>69170.0</td>\n",
       "    </tr>\n",
       "    <tr>\n",
       "      <th>0</th>\n",
       "      <td>14</td>\n",
       "      <td>f570f7a63b033db5ee1635e1a6c95b03</td>\n",
       "      <td>{\"cutoff\": \"quantile_0.25\", \"eval_fairness_gro...</td>\n",
       "      <td>26.032884</td>\n",
       "      <td>89710</td>\n",
       "      <td>1.0</td>\n",
       "      <td>0.214407</td>\n",
       "      <td>0.761013</td>\n",
       "      <td>0.198338</td>\n",
       "      <td>0.780337</td>\n",
       "      <td>...</td>\n",
       "      <td>NaN</td>\n",
       "      <td>NaN</td>\n",
       "      <td>NaN</td>\n",
       "      <td>NaN</td>\n",
       "      <td>NaN</td>\n",
       "      <td>NaN</td>\n",
       "      <td>NaN</td>\n",
       "      <td>NaN</td>\n",
       "      <td>NaN</td>\n",
       "      <td>NaN</td>\n",
       "    </tr>\n",
       "    <tr>\n",
       "      <th>0</th>\n",
       "      <td>14</td>\n",
       "      <td>f570f7a63b033db5ee1635e1a6c95b03</td>\n",
       "      <td>{\"cutoff\": \"quantile_0.25\", \"eval_fairness_gro...</td>\n",
       "      <td>26.032884</td>\n",
       "      <td>89710</td>\n",
       "      <td>1.0</td>\n",
       "      <td>0.214407</td>\n",
       "      <td>0.761013</td>\n",
       "      <td>0.198338</td>\n",
       "      <td>0.780337</td>\n",
       "      <td>...</td>\n",
       "      <td>0.120943</td>\n",
       "      <td>0.159041</td>\n",
       "      <td>0.897149</td>\n",
       "      <td>0.682742</td>\n",
       "      <td>0.052787</td>\n",
       "      <td>0.151969</td>\n",
       "      <td>0.902921</td>\n",
       "      <td>0.704583</td>\n",
       "      <td>20540.0</td>\n",
       "      <td>69170.0</td>\n",
       "    </tr>\n",
       "  </tbody>\n",
       "</table>\n",
       "<p>4 rows × 50 columns</p>\n",
       "</div>"
      ],
      "text/plain": [
       "  run_no                       universe_id  \\\n",
       "0     14  f570f7a63b033db5ee1635e1a6c95b03   \n",
       "0     14  f570f7a63b033db5ee1635e1a6c95b03   \n",
       "0     14  f570f7a63b033db5ee1635e1a6c95b03   \n",
       "0     14  f570f7a63b033db5ee1635e1a6c95b03   \n",
       "\n",
       "                                   universe_settings  execution_time  \\\n",
       "0  {\"cutoff\": \"quantile_0.1\", \"eval_fairness_grou...       26.032884   \n",
       "0  {\"cutoff\": \"quantile_0.1\", \"eval_fairness_grou...       26.032884   \n",
       "0  {\"cutoff\": \"quantile_0.25\", \"eval_fairness_gro...       26.032884   \n",
       "0  {\"cutoff\": \"quantile_0.25\", \"eval_fairness_gro...       26.032884   \n",
       "\n",
       "   test_size_n  test_size_frac  fair_main_equalized_odds_difference  \\\n",
       "0        89710             1.0                             0.095194   \n",
       "0        89710             1.0                             0.095194   \n",
       "0        89710             1.0                             0.214407   \n",
       "0        89710             1.0                             0.214407   \n",
       "\n",
       "   fair_main_equalized_odds_ratio  fair_main_demographic_parity_difference  \\\n",
       "0                        0.901455                                 0.088337   \n",
       "0                        0.901455                                 0.088337   \n",
       "0                        0.761013                                 0.198338   \n",
       "0                        0.761013                                 0.198338   \n",
       "\n",
       "   fair_main_demographic_parity_ratio  ...  perf_grp_precision_0  \\\n",
       "0                            0.908754  ...                   NaN   \n",
       "0                            0.908754  ...              0.117224   \n",
       "0                            0.780337  ...                   NaN   \n",
       "0                            0.780337  ...              0.120943   \n",
       "\n",
       "   perf_grp_precision_1  perf_grp_false positive rate_0  \\\n",
       "0                   NaN                             NaN   \n",
       "0              0.140993                        0.965992   \n",
       "0                   NaN                             NaN   \n",
       "0              0.159041                        0.897149   \n",
       "\n",
       "   perf_grp_false positive rate_1  perf_grp_false negative rate_0  \\\n",
       "0                             NaN                             NaN   \n",
       "0                        0.870798                        0.015625   \n",
       "0                             NaN                             NaN   \n",
       "0                        0.682742                        0.052787   \n",
       "\n",
       "   perf_grp_false negative rate_1  perf_grp_selection rate_0  \\\n",
       "0                             NaN                        NaN   \n",
       "0                        0.061269                   0.968111   \n",
       "0                             NaN                        NaN   \n",
       "0                        0.151969                   0.902921   \n",
       "\n",
       "   perf_grp_selection rate_1  perf_grp_count_0  perf_grp_count_1  \n",
       "0                        NaN               NaN               NaN  \n",
       "0                   0.879774           20540.0           69170.0  \n",
       "0                        NaN               NaN               NaN  \n",
       "0                   0.704583           20540.0           69170.0  \n",
       "\n",
       "[4 rows x 50 columns]"
      ]
     },
     "execution_count": 79,
     "metadata": {},
     "output_type": "execute_result"
    }
   ],
   "source": [
    "final_output = universe_analysis.generate_final_output(\n",
    "    y_pred_prob=probs_test,\n",
    "    y_test=y_true,\n",
    "    org_test=org_test,\n",
    "    filter_data=filter_sub_universe_data,\n",
    "    cp_metrics_df=cp_metrics_df,\n",
    "    save=True,\n",
    ")\n",
    "final_output"
   ]
  },
  {
   "cell_type": "code",
   "execution_count": null,
   "id": "721ff514-cb11-46f8-b6fc-50392f74b5cb",
   "metadata": {
    "papermill": {
     "duration": 0.031849,
     "end_time": "2025-07-30T21:39:38.113200",
     "exception": false,
     "start_time": "2025-07-30T21:39:38.081351",
     "status": "completed"
    },
    "tags": []
   },
   "outputs": [],
   "source": []
  }
 ],
 "metadata": {
  "celltoolbar": "Tags",
  "kernelspec": {
   "display_name": "Python (CMA Fairness)",
   "language": "python",
   "name": "cma_fair_env"
  },
  "language_info": {
   "codemirror_mode": {
    "name": "ipython",
    "version": 3
   },
   "file_extension": ".py",
   "mimetype": "text/x-python",
   "name": "python",
   "nbconvert_exporter": "python",
   "pygments_lexer": "ipython3",
   "version": "3.10.12"
  },
  "papermill": {
   "default_parameters": {},
   "duration": 39.317614,
   "end_time": "2025-07-30T21:39:38.966653",
   "environment_variables": {},
   "exception": null,
   "input_path": "universe_analysis.ipynb",
   "output_path": "output/runs/14/notebooks/m_14-f570f7a63b033db5ee1635e1a6c95b03.ipynb",
   "parameters": {
    "output_dir": "output",
    "run_no": "14",
    "seed": "2023",
    "universe": "{\"cutoff\": [\"quantile_0.1\", \"quantile_0.25\"], \"eval_fairness_grouping\": [\"majority-minority\", \"nationality-all\"], \"exclude_features\": \"nationality\", \"exclude_subgroups\": \"keep-all\", \"model\": \"penalized_logreg\", \"scale\": \"do-not-scale\", \"training_size\": \"1k\", \"training_year\": \"2012_14\"}",
    "universe_id": "f570f7a63b033db5ee1635e1a6c95b03"
   },
   "start_time": "2025-07-30T21:38:59.649039",
   "version": "2.6.0"
  }
 },
 "nbformat": 4,
 "nbformat_minor": 5
}