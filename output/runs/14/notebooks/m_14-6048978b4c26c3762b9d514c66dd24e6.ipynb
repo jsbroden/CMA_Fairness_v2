{
 "cells": [
  {
   "cell_type": "code",
   "execution_count": 1,
   "id": "f159f837-637b-42ba-96b5-ec9a68c44524",
   "metadata": {
    "execution": {
     "iopub.execute_input": "2025-07-30T20:15:01.812501Z",
     "iopub.status.busy": "2025-07-30T20:15:01.811961Z",
     "iopub.status.idle": "2025-07-30T20:15:01.821830Z",
     "shell.execute_reply": "2025-07-30T20:15:01.820852Z"
    },
    "papermill": {
     "duration": 0.026706,
     "end_time": "2025-07-30T20:15:01.823475",
     "exception": false,
     "start_time": "2025-07-30T20:15:01.796769",
     "status": "completed"
    },
    "tags": []
   },
   "outputs": [
    {
     "name": "stdout",
     "output_type": "stream",
     "text": [
      "/dss/dsshome1/0C/ra93lal2/cma/CMA_Fairness_v2\n"
     ]
    },
    {
     "name": "stderr",
     "output_type": "stream",
     "text": [
      "/dss/dsshome1/0C/ra93lal2/.local/share/virtualenvs/CMA_Fairness_v2-3j10GkSs/lib/python3.10/site-packages/IPython/core/magics/osm.py:393: UserWarning: This is now an optional IPython functionality, using bookmarks requires you to install the `pickleshare` library.\n",
      "  bkms = self.shell.db.get('bookmarks', {})\n",
      "/dss/dsshome1/0C/ra93lal2/.local/share/virtualenvs/CMA_Fairness_v2-3j10GkSs/lib/python3.10/site-packages/IPython/core/magics/osm.py:417: UserWarning: This is now an optional IPython functionality, setting dhist requires you to install the `pickleshare` library.\n",
      "  self.shell.db['dhist'] = compress_dhist(dhist)[-100:]\n"
     ]
    }
   ],
   "source": [
    "%cd ~/cma/CMA_Fairness_v2"
   ]
  },
  {
   "cell_type": "markdown",
   "id": "de2603b9",
   "metadata": {
    "papermill": {
     "duration": 0.009675,
     "end_time": "2025-07-30T20:15:01.843666",
     "exception": false,
     "start_time": "2025-07-30T20:15:01.833991",
     "status": "completed"
    },
    "tags": []
   },
   "source": [
    "The following cell holds the definition of our parameters, these values can be overriden by rendering the with e.g. the following command:\n",
    "\n",
    "papermill -p alpha 0.2 -p ratio 0.3 universe_analysis.ipynb output/test_run.ipynb"
   ]
  },
  {
   "cell_type": "code",
   "execution_count": 2,
   "id": "a80968a0-40bb-4fa9-85ef-2d5eefb01975",
   "metadata": {
    "execution": {
     "iopub.execute_input": "2025-07-30T20:15:01.869324Z",
     "iopub.status.busy": "2025-07-30T20:15:01.868779Z",
     "iopub.status.idle": "2025-07-30T20:15:01.873612Z",
     "shell.execute_reply": "2025-07-30T20:15:01.872619Z"
    },
    "papermill": {
     "duration": 0.021752,
     "end_time": "2025-07-30T20:15:01.875202",
     "exception": false,
     "start_time": "2025-07-30T20:15:01.853450",
     "status": "completed"
    },
    "tags": []
   },
   "outputs": [
    {
     "name": "stdout",
     "output_type": "stream",
     "text": [
      "Current working directory: /dss/dsshome1/0C/ra93lal2/cma/CMA_Fairness_v2\n"
     ]
    }
   ],
   "source": [
    "import os\n",
    "print(\"Current working directory:\", os.getcwd())"
   ]
  },
  {
   "cell_type": "code",
   "execution_count": 3,
   "id": "2dce4c03",
   "metadata": {
    "execution": {
     "iopub.execute_input": "2025-07-30T20:15:01.917298Z",
     "iopub.status.busy": "2025-07-30T20:15:01.916433Z",
     "iopub.status.idle": "2025-07-30T20:15:01.923283Z",
     "shell.execute_reply": "2025-07-30T20:15:01.922327Z"
    },
    "papermill": {
     "duration": 0.029634,
     "end_time": "2025-07-30T20:15:01.925363",
     "exception": false,
     "start_time": "2025-07-30T20:15:01.895729",
     "status": "completed"
    },
    "tags": [
     "parameters"
    ]
   },
   "outputs": [],
   "source": [
    "run_no = 0\n",
    "universe_id = \"test\"\n",
    "universe = {\n",
    "    \"training_size\": \"25k\", # \"25k\", \"5k\", \"1k\"\n",
    "    \"training_year\": \"2014\", # \"2014\", \"2012_14\", \"2010_14\"\n",
    "    \"scale\": \"scale\", # \"scale\", \"do-not-scale\",\n",
    "    #\"stratify_split\": \"target\", # \"none\", \"target\", \"protected-attribute\", \"both\",\n",
    "    \"model\": \"elasticnet\", # \"logreg\", \"penalized_logreg\", \"rf\", \"gbm\", \"elasticnet\"\n",
    "    \"cutoff\": [\"quantile_0.15\", \"quantile_0.30\"],\n",
    "    \"exclude_features\": \"age\", # \"none\", \"nationality\", \"sex\", \"nationality-sex\", \"age\"\n",
    "    \"exclude_subgroups\": \"keep-all\", # \"keep-all\", \"drop-non-german\"\n",
    "    \"eval_fairness_grouping\": [\"majority-minority\", \"nationality-all\"]\n",
    "}\n",
    "\n",
    "output_dir=\"./output\"\n",
    "seed=0"
   ]
  },
  {
   "cell_type": "code",
   "execution_count": 4,
   "id": "5b27fa25",
   "metadata": {
    "execution": {
     "iopub.execute_input": "2025-07-30T20:15:01.967322Z",
     "iopub.status.busy": "2025-07-30T20:15:01.966955Z",
     "iopub.status.idle": "2025-07-30T20:15:01.972485Z",
     "shell.execute_reply": "2025-07-30T20:15:01.971498Z"
    },
    "papermill": {
     "duration": 0.028038,
     "end_time": "2025-07-30T20:15:01.973990",
     "exception": false,
     "start_time": "2025-07-30T20:15:01.945952",
     "status": "completed"
    },
    "tags": [
     "injected-parameters"
    ]
   },
   "outputs": [],
   "source": [
    "# Parameters\n",
    "universe_id = \"6048978b4c26c3762b9d514c66dd24e6\"\n",
    "run_no = \"14\"\n",
    "universe = \"{\\\"cutoff\\\": [\\\"quantile_0.1\\\", \\\"quantile_0.25\\\"], \\\"eval_fairness_grouping\\\": [\\\"majority-minority\\\", \\\"nationality-all\\\"], \\\"exclude_features\\\": \\\"age\\\", \\\"exclude_subgroups\\\": \\\"drop-non-german\\\", \\\"model\\\": \\\"elasticnet\\\", \\\"scale\\\": \\\"scale\\\", \\\"training_size\\\": \\\"25k\\\", \\\"training_year\\\": \\\"2012_14\\\"}\"\n",
    "output_dir = \"output\"\n",
    "seed = \"2023\"\n"
   ]
  },
  {
   "cell_type": "code",
   "execution_count": 5,
   "id": "1650acaf",
   "metadata": {
    "execution": {
     "iopub.execute_input": "2025-07-30T20:15:02.017521Z",
     "iopub.status.busy": "2025-07-30T20:15:02.017048Z",
     "iopub.status.idle": "2025-07-30T20:15:02.023919Z",
     "shell.execute_reply": "2025-07-30T20:15:02.022860Z"
    },
    "papermill": {
     "duration": 0.029124,
     "end_time": "2025-07-30T20:15:02.025406",
     "exception": false,
     "start_time": "2025-07-30T20:15:01.996282",
     "status": "completed"
    },
    "tags": []
   },
   "outputs": [],
   "source": [
    "import json\n",
    "# Parse universe into dict if it is passed as a string\n",
    "if isinstance(universe, str):\n",
    "    universe = json.loads(universe)"
   ]
  },
  {
   "cell_type": "code",
   "execution_count": 6,
   "id": "16620c48",
   "metadata": {
    "execution": {
     "iopub.execute_input": "2025-07-30T20:15:02.050396Z",
     "iopub.status.busy": "2025-07-30T20:15:02.049984Z",
     "iopub.status.idle": "2025-07-30T20:15:02.081426Z",
     "shell.execute_reply": "2025-07-30T20:15:02.080464Z"
    },
    "papermill": {
     "duration": 0.044617,
     "end_time": "2025-07-30T20:15:02.083270",
     "exception": false,
     "start_time": "2025-07-30T20:15:02.038653",
     "status": "completed"
    },
    "tags": []
   },
   "outputs": [],
   "source": [
    "# Auto-reload the custom package\n",
    "%load_ext autoreload\n",
    "%autoreload 1\n",
    "%aimport fairness_multiverse"
   ]
  },
  {
   "cell_type": "code",
   "execution_count": 7,
   "id": "01c5c9f3",
   "metadata": {
    "execution": {
     "iopub.execute_input": "2025-07-30T20:15:02.122316Z",
     "iopub.status.busy": "2025-07-30T20:15:02.121842Z",
     "iopub.status.idle": "2025-07-30T20:15:04.070690Z",
     "shell.execute_reply": "2025-07-30T20:15:04.069762Z"
    },
    "papermill": {
     "duration": 1.969394,
     "end_time": "2025-07-30T20:15:04.072525",
     "exception": false,
     "start_time": "2025-07-30T20:15:02.103131",
     "status": "completed"
    },
    "tags": []
   },
   "outputs": [],
   "source": [
    "from fairness_multiverse.universe import UniverseAnalysis\n",
    "\n",
    "universe_analysis = UniverseAnalysis(\n",
    "    run_no = run_no,\n",
    "    universe_id = universe_id,\n",
    "    universe = universe,\n",
    "    output_dir=output_dir,\n",
    ")"
   ]
  },
  {
   "cell_type": "code",
   "execution_count": 8,
   "id": "106241f5",
   "metadata": {
    "execution": {
     "iopub.execute_input": "2025-07-30T20:15:04.111771Z",
     "iopub.status.busy": "2025-07-30T20:15:04.111002Z",
     "iopub.status.idle": "2025-07-30T20:15:04.117351Z",
     "shell.execute_reply": "2025-07-30T20:15:04.116378Z"
    },
    "papermill": {
     "duration": 0.027703,
     "end_time": "2025-07-30T20:15:04.118911",
     "exception": false,
     "start_time": "2025-07-30T20:15:04.091208",
     "status": "completed"
    },
    "tags": []
   },
   "outputs": [
    {
     "name": "stdout",
     "output_type": "stream",
     "text": [
      "Using Seed: 2023\n"
     ]
    }
   ],
   "source": [
    "import numpy as np\n",
    "parsed_seed = int(seed)\n",
    "np.random.seed(parsed_seed)\n",
    "print(f\"Using Seed: {parsed_seed}\")"
   ]
  },
  {
   "cell_type": "markdown",
   "id": "e0ebdc57",
   "metadata": {
    "papermill": {
     "duration": 0.020415,
     "end_time": "2025-07-30T20:15:04.160589",
     "exception": false,
     "start_time": "2025-07-30T20:15:04.140174",
     "status": "completed"
    },
    "tags": []
   },
   "source": [
    "# Loading Data"
   ]
  },
  {
   "cell_type": "markdown",
   "id": "681925a3",
   "metadata": {
    "papermill": {
     "duration": 0.01965,
     "end_time": "2025-07-30T20:15:04.199871",
     "exception": false,
     "start_time": "2025-07-30T20:15:04.180221",
     "status": "completed"
    },
    "tags": []
   },
   "source": [
    "Load siab_train, siab_test, siab_calib and/or \n",
    "load siab_train_features, siab_train_labels"
   ]
  },
  {
   "cell_type": "code",
   "execution_count": 9,
   "id": "f0496b8a",
   "metadata": {
    "execution": {
     "iopub.execute_input": "2025-07-30T20:15:04.241561Z",
     "iopub.status.busy": "2025-07-30T20:15:04.240922Z",
     "iopub.status.idle": "2025-07-30T20:15:16.279351Z",
     "shell.execute_reply": "2025-07-30T20:15:16.278192Z"
    },
    "papermill": {
     "duration": 12.060871,
     "end_time": "2025-07-30T20:15:16.281017",
     "exception": false,
     "start_time": "2025-07-30T20:15:04.220146",
     "status": "completed"
    },
    "tags": []
   },
   "outputs": [
    {
     "name": "stdout",
     "output_type": "stream",
     "text": [
      "Loading SIAB data from cache: data/siab_cached.csv.gz\n"
     ]
    },
    {
     "name": "stdout",
     "output_type": "stream",
     "text": [
      "(643690, 164)\n"
     ]
    }
   ],
   "source": [
    "from pathlib import Path\n",
    "import pandas as pd\n",
    "\n",
    "# File paths\n",
    "raw_file = Path(\"data/raw/siab.csv\")\n",
    "cache_file = Path(\"data/siab_cached.csv.gz\")\n",
    "\n",
    "# Ensure cache directory exists\n",
    "cache_file.parent.mkdir(parents=True, exist_ok=True)\n",
    "\n",
    "# Load with simple caching\n",
    "if cache_file.exists():\n",
    "    print(f\"Loading SIAB data from cache: {cache_file}\")\n",
    "    siab = pd.read_csv(cache_file, compression='gzip')\n",
    "else:\n",
    "    print(f\"Cache not found. Reading raw SIAB data: {raw_file}\")\n",
    "    siab = pd.read_csv(raw_file)\n",
    "    siab.to_csv(cache_file, index=False, compression='gzip')\n",
    "    print(f\"Cached SIAB data to: {cache_file}\")\n",
    "\n",
    "# Now use `siab` DataFrame as needed\n",
    "print(siab.shape)"
   ]
  },
  {
   "cell_type": "code",
   "execution_count": 10,
   "id": "db0ca512-5f53-4dba-abdb-a2888bca41ba",
   "metadata": {
    "execution": {
     "iopub.execute_input": "2025-07-30T20:15:16.324850Z",
     "iopub.status.busy": "2025-07-30T20:15:16.324308Z",
     "iopub.status.idle": "2025-07-30T20:15:16.330162Z",
     "shell.execute_reply": "2025-07-30T20:15:16.329168Z"
    },
    "papermill": {
     "duration": 0.028504,
     "end_time": "2025-07-30T20:15:16.331731",
     "exception": false,
     "start_time": "2025-07-30T20:15:16.303227",
     "status": "completed"
    },
    "tags": []
   },
   "outputs": [],
   "source": [
    "#siab"
   ]
  },
  {
   "cell_type": "code",
   "execution_count": 11,
   "id": "a0edb063",
   "metadata": {
    "execution": {
     "iopub.execute_input": "2025-07-30T20:15:16.374544Z",
     "iopub.status.busy": "2025-07-30T20:15:16.373784Z",
     "iopub.status.idle": "2025-07-30T20:15:16.379376Z",
     "shell.execute_reply": "2025-07-30T20:15:16.378426Z"
    },
    "papermill": {
     "duration": 0.028898,
     "end_time": "2025-07-30T20:15:16.381234",
     "exception": false,
     "start_time": "2025-07-30T20:15:16.352336",
     "status": "completed"
    },
    "tags": []
   },
   "outputs": [],
   "source": [
    "#import pandas as pd\n",
    "#\n",
    "#X_train = pd.read_csv(\"./data/X_train.csv\")\n",
    "#y_train = pd.read_csv(\"./data/y_train.csv\")"
   ]
  },
  {
   "cell_type": "code",
   "execution_count": 12,
   "id": "63d08085",
   "metadata": {
    "execution": {
     "iopub.execute_input": "2025-07-30T20:15:16.423534Z",
     "iopub.status.busy": "2025-07-30T20:15:16.422847Z",
     "iopub.status.idle": "2025-07-30T20:15:16.427821Z",
     "shell.execute_reply": "2025-07-30T20:15:16.426896Z"
    },
    "papermill": {
     "duration": 0.027103,
     "end_time": "2025-07-30T20:15:16.429357",
     "exception": false,
     "start_time": "2025-07-30T20:15:16.402254",
     "status": "completed"
    },
    "tags": []
   },
   "outputs": [],
   "source": [
    "#X_test = pd.read_csv(\"./data/X_test.csv\")\n",
    "#y_true = pd.read_csv(\"./data/y_test.csv\")"
   ]
  },
  {
   "cell_type": "code",
   "execution_count": 13,
   "id": "98a8d0fa-1d3d-4ed8-bb2c-281470e24add",
   "metadata": {
    "execution": {
     "iopub.execute_input": "2025-07-30T20:15:16.470486Z",
     "iopub.status.busy": "2025-07-30T20:15:16.469859Z",
     "iopub.status.idle": "2025-07-30T20:15:16.474767Z",
     "shell.execute_reply": "2025-07-30T20:15:16.473869Z"
    },
    "papermill": {
     "duration": 0.026628,
     "end_time": "2025-07-30T20:15:16.476260",
     "exception": false,
     "start_time": "2025-07-30T20:15:16.449632",
     "status": "completed"
    },
    "tags": []
   },
   "outputs": [],
   "source": [
    "# Calibration data for conformal\n",
    "#X_calib = pd.read_csv(\"./data/X_calib.csv\")\n",
    "#y_calib = pd.read_csv(\"./data/y_calib.csv\")"
   ]
  },
  {
   "cell_type": "markdown",
   "id": "997051c5-15bd-4b69-9786-c3001a3ce484",
   "metadata": {
    "papermill": {
     "duration": 0.019018,
     "end_time": "2025-07-30T20:15:16.515623",
     "exception": false,
     "start_time": "2025-07-30T20:15:16.496605",
     "status": "completed"
    },
    "tags": []
   },
   "source": [
    "# Splitting Data and Setting Training Data Size"
   ]
  },
  {
   "cell_type": "code",
   "execution_count": 14,
   "id": "e993b61f-042d-41a6-8c81-f55681f86335",
   "metadata": {
    "execution": {
     "iopub.execute_input": "2025-07-30T20:15:16.555905Z",
     "iopub.status.busy": "2025-07-30T20:15:16.555272Z",
     "iopub.status.idle": "2025-07-30T20:15:16.568262Z",
     "shell.execute_reply": "2025-07-30T20:15:16.567359Z"
    },
    "papermill": {
     "duration": 0.034958,
     "end_time": "2025-07-30T20:15:16.569777",
     "exception": false,
     "start_time": "2025-07-30T20:15:16.534819",
     "status": "completed"
    },
    "tags": []
   },
   "outputs": [],
   "source": [
    "def sample_by_year_size(df,\n",
    "                        training_year: str,\n",
    "                        training_size: str,\n",
    "                        random_state: int = 42):\n",
    "    # --- parse training_year into a list of int years ---\n",
    "    if \"_\" in training_year:\n",
    "        start_str, end_str = training_year.split(\"_\", 1)\n",
    "        start = int(start_str)\n",
    "        end   = int(end_str) if len(end_str) == 4 else (int(end_str) + (start // 100)*100)\n",
    "        years = list(range(start, end + 1))\n",
    "    else:\n",
    "        years = [int(training_year)]\n",
    "\n",
    "    df = df[df[\"year\"].isin(years)].reset_index(drop=True)\n",
    "\n",
    "    # --- map training_size to total number of samples ---\n",
    "    total_map = {\"25k\": 25_000, \"5k\": 5_000, \"1k\": 1_000}\n",
    "    if training_size not in total_map:\n",
    "        return df  # e.g. \"all\"\n",
    "\n",
    "    total_samples = total_map[training_size]\n",
    "    n_years       = len(years)\n",
    "    base          = total_samples // n_years\n",
    "    remainder     = total_samples % n_years\n",
    "\n",
    "    # --- build a dict: year -> how many to sample ---\n",
    "    # give +1 to the first `remainder` years in ascending order\n",
    "    quotas = {\n",
    "        year: base + (1 if idx < remainder else 0)\n",
    "        for idx, year in enumerate(sorted(years))\n",
    "    }\n",
    "\n",
    "    # --- sample per‐year according to the quota dict ---\n",
    "    sampled = (\n",
    "        df\n",
    "        .groupby(\"year\", group_keys=False)\n",
    "        .apply(lambda grp: grp.sample(\n",
    "            n=min(len(grp), quotas[grp.name]),\n",
    "            random_state=random_state))\n",
    "        .reset_index(drop=True)\n",
    "    )\n",
    "\n",
    "    return sampled"
   ]
  },
  {
   "cell_type": "code",
   "execution_count": 15,
   "id": "c0ccd338-0e02-41f3-a09d-f56f9266e3fb",
   "metadata": {
    "execution": {
     "iopub.execute_input": "2025-07-30T20:15:16.611195Z",
     "iopub.status.busy": "2025-07-30T20:15:16.610524Z",
     "iopub.status.idle": "2025-07-30T20:15:16.615474Z",
     "shell.execute_reply": "2025-07-30T20:15:16.614570Z"
    },
    "papermill": {
     "duration": 0.026562,
     "end_time": "2025-07-30T20:15:16.616904",
     "exception": false,
     "start_time": "2025-07-30T20:15:16.590342",
     "status": "completed"
    },
    "tags": []
   },
   "outputs": [],
   "source": [
    "#universe[\"training_size\"]"
   ]
  },
  {
   "cell_type": "code",
   "execution_count": 16,
   "id": "ca707fd7-8047-4acd-bfa5-66248fbbf8e6",
   "metadata": {
    "execution": {
     "iopub.execute_input": "2025-07-30T20:15:16.658909Z",
     "iopub.status.busy": "2025-07-30T20:15:16.658274Z",
     "iopub.status.idle": "2025-07-30T20:15:16.663156Z",
     "shell.execute_reply": "2025-07-30T20:15:16.662336Z"
    },
    "papermill": {
     "duration": 0.026879,
     "end_time": "2025-07-30T20:15:16.664685",
     "exception": false,
     "start_time": "2025-07-30T20:15:16.637806",
     "status": "completed"
    },
    "tags": []
   },
   "outputs": [],
   "source": [
    "#universe[\"training_year\"]"
   ]
  },
  {
   "cell_type": "code",
   "execution_count": 17,
   "id": "aea9c6ef-6f46-42c8-85eb-5a62025c1508",
   "metadata": {
    "execution": {
     "iopub.execute_input": "2025-07-30T20:15:16.705884Z",
     "iopub.status.busy": "2025-07-30T20:15:16.705248Z",
     "iopub.status.idle": "2025-07-30T20:15:17.359217Z",
     "shell.execute_reply": "2025-07-30T20:15:17.358219Z"
    },
    "papermill": {
     "duration": 0.676342,
     "end_time": "2025-07-30T20:15:17.360939",
     "exception": false,
     "start_time": "2025-07-30T20:15:16.684597",
     "status": "completed"
    },
    "tags": []
   },
   "outputs": [],
   "source": [
    "siab_train = sample_by_year_size(siab,\n",
    "                               training_year=universe[\"training_year\"],\n",
    "                               training_size=universe[\"training_size\"])"
   ]
  },
  {
   "cell_type": "code",
   "execution_count": 18,
   "id": "8d3afb32-789d-442c-8d5d-9f5aa8dd2eed",
   "metadata": {
    "execution": {
     "iopub.execute_input": "2025-07-30T20:15:17.404557Z",
     "iopub.status.busy": "2025-07-30T20:15:17.403725Z",
     "iopub.status.idle": "2025-07-30T20:15:17.408457Z",
     "shell.execute_reply": "2025-07-30T20:15:17.407660Z"
    },
    "papermill": {
     "duration": 0.027844,
     "end_time": "2025-07-30T20:15:17.409899",
     "exception": false,
     "start_time": "2025-07-30T20:15:17.382055",
     "status": "completed"
    },
    "tags": []
   },
   "outputs": [],
   "source": [
    "#siab_train.shape"
   ]
  },
  {
   "cell_type": "code",
   "execution_count": 19,
   "id": "d582db68-1a4c-47fb-84fc-08518dc1975a",
   "metadata": {
    "execution": {
     "iopub.execute_input": "2025-07-30T20:15:17.451218Z",
     "iopub.status.busy": "2025-07-30T20:15:17.450723Z",
     "iopub.status.idle": "2025-07-30T20:15:17.456257Z",
     "shell.execute_reply": "2025-07-30T20:15:17.455088Z"
    },
    "papermill": {
     "duration": 0.028482,
     "end_time": "2025-07-30T20:15:17.457861",
     "exception": false,
     "start_time": "2025-07-30T20:15:17.429379",
     "status": "completed"
    },
    "tags": []
   },
   "outputs": [],
   "source": [
    "#display(siab_train.groupby(\"year\").size())"
   ]
  },
  {
   "cell_type": "code",
   "execution_count": 20,
   "id": "a561edb4-d032-42cb-8256-22eac1111c64",
   "metadata": {
    "execution": {
     "iopub.execute_input": "2025-07-30T20:15:17.500742Z",
     "iopub.status.busy": "2025-07-30T20:15:17.500266Z",
     "iopub.status.idle": "2025-07-30T20:15:17.747364Z",
     "shell.execute_reply": "2025-07-30T20:15:17.746499Z"
    },
    "papermill": {
     "duration": 0.271156,
     "end_time": "2025-07-30T20:15:17.749223",
     "exception": false,
     "start_time": "2025-07-30T20:15:17.478067",
     "status": "completed"
    },
    "tags": []
   },
   "outputs": [],
   "source": [
    "#siab_train = siab_s[siab_s.year < 2015]\n",
    "siab_calib = siab[siab.year == 2015]\n",
    "siab_test = siab[siab.year == 2016]"
   ]
  },
  {
   "cell_type": "code",
   "execution_count": 21,
   "id": "472de16f-c3db-4916-846b-1f0de9cf1746",
   "metadata": {
    "execution": {
     "iopub.execute_input": "2025-07-30T20:15:17.791173Z",
     "iopub.status.busy": "2025-07-30T20:15:17.790695Z",
     "iopub.status.idle": "2025-07-30T20:15:17.804906Z",
     "shell.execute_reply": "2025-07-30T20:15:17.803769Z"
    },
    "papermill": {
     "duration": 0.037156,
     "end_time": "2025-07-30T20:15:17.806519",
     "exception": false,
     "start_time": "2025-07-30T20:15:17.769363",
     "status": "completed"
    },
    "tags": []
   },
   "outputs": [],
   "source": [
    "X_train = siab_train.iloc[:,4:164]\n",
    "y_train = siab_train.iloc[:, [3]]"
   ]
  },
  {
   "cell_type": "code",
   "execution_count": 22,
   "id": "828c96af-f43a-4ed6-ba47-8ac73a47d56c",
   "metadata": {
    "execution": {
     "iopub.execute_input": "2025-07-30T20:15:17.849019Z",
     "iopub.status.busy": "2025-07-30T20:15:17.848378Z",
     "iopub.status.idle": "2025-07-30T20:15:17.914719Z",
     "shell.execute_reply": "2025-07-30T20:15:17.913826Z"
    },
    "papermill": {
     "duration": 0.089225,
     "end_time": "2025-07-30T20:15:17.916323",
     "exception": false,
     "start_time": "2025-07-30T20:15:17.827098",
     "status": "completed"
    },
    "tags": []
   },
   "outputs": [],
   "source": [
    "X_calib = siab_calib.iloc[:,4:164]\n",
    "y_calib = siab_calib.iloc[:, [3]]"
   ]
  },
  {
   "cell_type": "code",
   "execution_count": 23,
   "id": "c34be9c3-6bd6-476e-acd3-845840e303be",
   "metadata": {
    "execution": {
     "iopub.execute_input": "2025-07-30T20:15:17.958385Z",
     "iopub.status.busy": "2025-07-30T20:15:17.957746Z",
     "iopub.status.idle": "2025-07-30T20:15:18.006645Z",
     "shell.execute_reply": "2025-07-30T20:15:18.005649Z"
    },
    "papermill": {
     "duration": 0.071764,
     "end_time": "2025-07-30T20:15:18.008362",
     "exception": false,
     "start_time": "2025-07-30T20:15:17.936598",
     "status": "completed"
    },
    "tags": []
   },
   "outputs": [],
   "source": [
    "X_test = siab_test.iloc[:,4:164]\n",
    "y_true = siab_test.iloc[:, [3]]"
   ]
  },
  {
   "cell_type": "markdown",
   "id": "9901737e-04df-44f0-9100-f5ad144ed040",
   "metadata": {
    "papermill": {
     "duration": 0.020105,
     "end_time": "2025-07-30T20:15:18.048973",
     "exception": false,
     "start_time": "2025-07-30T20:15:18.028868",
     "status": "completed"
    },
    "tags": []
   },
   "source": [
    "# Splitting Data and Setting Training Data Size OLD VERSION"
   ]
  },
  {
   "cell_type": "code",
   "execution_count": 24,
   "id": "acbc8f7d-8fc8-4e86-8c59-5dcb0f58384b",
   "metadata": {
    "execution": {
     "iopub.execute_input": "2025-07-30T20:15:18.091949Z",
     "iopub.status.busy": "2025-07-30T20:15:18.091481Z",
     "iopub.status.idle": "2025-07-30T20:15:18.096775Z",
     "shell.execute_reply": "2025-07-30T20:15:18.095927Z"
    },
    "papermill": {
     "duration": 0.027873,
     "end_time": "2025-07-30T20:15:18.099285",
     "exception": false,
     "start_time": "2025-07-30T20:15:18.071412",
     "status": "completed"
    },
    "tags": []
   },
   "outputs": [],
   "source": [
    "#def sample_by_year(df, training_size, random_state=42):\n",
    "#    if training_size == \"2014\":\n",
    "#        return df[df[\"year\"] == 2014].reset_index(drop=True)\n",
    "#    \n",
    "#    size_map = {\n",
    "#        \"25k\": 5000,\n",
    "#        \"5k\": 1000,\n",
    "#        \"1k\": 200\n",
    "#    }\n",
    "#\n",
    "#    if training_size not in size_map:\n",
    "#        return df.reset_index(drop=True)  # use all data\n",
    "#\n",
    "#    n_per_year = size_map[training_size]\n",
    "#    grouped = df.groupby(\"year\")\n",
    "#    sampled = grouped.apply(lambda x: x.sample(n=min(n_per_year, len(x)), random_state=random_state))\n",
    "#    return sampled.reset_index(drop=True)"
   ]
  },
  {
   "cell_type": "code",
   "execution_count": 25,
   "id": "6d931f52-beaf-43ff-9e78-9d44a448d54e",
   "metadata": {
    "execution": {
     "iopub.execute_input": "2025-07-30T20:15:18.140453Z",
     "iopub.status.busy": "2025-07-30T20:15:18.139635Z",
     "iopub.status.idle": "2025-07-30T20:15:18.144626Z",
     "shell.execute_reply": "2025-07-30T20:15:18.143708Z"
    },
    "papermill": {
     "duration": 0.026546,
     "end_time": "2025-07-30T20:15:18.146185",
     "exception": false,
     "start_time": "2025-07-30T20:15:18.119639",
     "status": "completed"
    },
    "tags": []
   },
   "outputs": [],
   "source": [
    "#siab_s = sample_by_year(siab, universe[\"training_size\"])"
   ]
  },
  {
   "cell_type": "code",
   "execution_count": 26,
   "id": "5db0a40e-a4e2-4920-be85-b12ae061d70d",
   "metadata": {
    "execution": {
     "iopub.execute_input": "2025-07-30T20:15:18.187625Z",
     "iopub.status.busy": "2025-07-30T20:15:18.187192Z",
     "iopub.status.idle": "2025-07-30T20:15:18.191969Z",
     "shell.execute_reply": "2025-07-30T20:15:18.191036Z"
    },
    "papermill": {
     "duration": 0.027272,
     "end_time": "2025-07-30T20:15:18.194113",
     "exception": false,
     "start_time": "2025-07-30T20:15:18.166841",
     "status": "completed"
    },
    "tags": []
   },
   "outputs": [],
   "source": [
    "#display(siab_s.groupby(\"year\").size())"
   ]
  },
  {
   "cell_type": "code",
   "execution_count": 27,
   "id": "e6c733c5",
   "metadata": {
    "execution": {
     "iopub.execute_input": "2025-07-30T20:15:18.237819Z",
     "iopub.status.busy": "2025-07-30T20:15:18.237359Z",
     "iopub.status.idle": "2025-07-30T20:15:18.345176Z",
     "shell.execute_reply": "2025-07-30T20:15:18.344289Z"
    },
    "papermill": {
     "duration": 0.131378,
     "end_time": "2025-07-30T20:15:18.347032",
     "exception": false,
     "start_time": "2025-07-30T20:15:18.215654",
     "status": "completed"
    },
    "tags": []
   },
   "outputs": [],
   "source": [
    "# Auxiliary data needed downstream in the pipeline\n",
    "\n",
    "org_train = X_train.copy()\n",
    "org_test = X_test.copy()\n",
    "org_calib = X_calib.copy()"
   ]
  },
  {
   "cell_type": "code",
   "execution_count": 28,
   "id": "1466abac-c6da-4492-a62f-4240ae3783af",
   "metadata": {
    "execution": {
     "iopub.execute_input": "2025-07-30T20:15:18.396088Z",
     "iopub.status.busy": "2025-07-30T20:15:18.395536Z",
     "iopub.status.idle": "2025-07-30T20:15:18.401554Z",
     "shell.execute_reply": "2025-07-30T20:15:18.400679Z"
    },
    "papermill": {
     "duration": 0.032056,
     "end_time": "2025-07-30T20:15:18.403206",
     "exception": false,
     "start_time": "2025-07-30T20:15:18.371150",
     "status": "completed"
    },
    "tags": []
   },
   "outputs": [],
   "source": [
    "# put in other script?\n",
    "# Group sizes\n",
    "\n",
    "#def calculate_percentages(df, df_name):\n",
    "#    total_entries = len(df)\n",
    "#\n",
    "#    female_pct = (df['frau1'] == 1).mean() * 100\n",
    "#    non_german_pct = ((df['maxdeutsch1'] == 0) & (df['maxdeutsch.Missing.'] == 0)).mean() * 100\n",
    "#    non_german_male_pct = ((df['frau1'] == 0) & (df['maxdeutsch1'] == 0) & (df['maxdeutsch.Missing.'] == 0)).mean() * 100\n",
    "#    non_german_female_pct = ((df['frau1'] == 1) & (df['maxdeutsch1'] == 0) & (df['maxdeutsch.Missing.'] == 0)).mean() * 100\n",
    "#\n",
    "#    print(f\"--- {df_name} ---\")\n",
    "#    print(f\"Female: {female_pct:.2f}%\")\n",
    "#    print(f\"Non-German: {non_german_pct:.2f}%\")\n",
    "#    print(f\"Non-German Male: {non_german_male_pct:.2f}%\")\n",
    "#    print(f\"Non-German Female: {non_german_female_pct:.2f}%\\n\")\n",
    "#\n",
    "## Calculate for each DataFrame\n",
    "#calculate_percentages(siab_calib, \"siab_calib\")\n",
    "#calculate_percentages(siab_test, \"siab_test\")\n",
    "#calculate_percentages(siab_train, \"siab_train\")"
   ]
  },
  {
   "cell_type": "markdown",
   "id": "0a4a1b33",
   "metadata": {
    "papermill": {
     "duration": 0.019682,
     "end_time": "2025-07-30T20:15:18.444012",
     "exception": false,
     "start_time": "2025-07-30T20:15:18.424330",
     "status": "completed"
    },
    "tags": []
   },
   "source": [
    "# Preprocessing Data"
   ]
  },
  {
   "cell_type": "code",
   "execution_count": 29,
   "id": "ca879031",
   "metadata": {
    "execution": {
     "iopub.execute_input": "2025-07-30T20:15:18.486984Z",
     "iopub.status.busy": "2025-07-30T20:15:18.486073Z",
     "iopub.status.idle": "2025-07-30T20:15:18.492161Z",
     "shell.execute_reply": "2025-07-30T20:15:18.491150Z"
    },
    "papermill": {
     "duration": 0.029542,
     "end_time": "2025-07-30T20:15:18.494053",
     "exception": false,
     "start_time": "2025-07-30T20:15:18.464511",
     "status": "completed"
    },
    "tags": []
   },
   "outputs": [],
   "source": [
    "# EXCLUDE PROTECTED FEATURES\n",
    "# ----------------------\n",
    "# \"exclude_features\": \"none\", # \"nationality\", \"sex\", \"nationality-sex\"\n",
    "\n",
    "excluded_features = universe[\"exclude_features\"].split(\"-\") # split, e.g.: \"nationality-sex\" -> [\"nationality\", \"sex\"]\n",
    "excluded_features_dictionary = {\n",
    "    \"nationality\": [\"maxdeutsch1\", \"maxdeutsch.Missing.\"],\n",
    "    \"sex\": [\"frau1\"],\n",
    "    \"age\": [\"age\"],\n",
    "}\n"
   ]
  },
  {
   "cell_type": "code",
   "execution_count": 30,
   "id": "b745ac60",
   "metadata": {
    "execution": {
     "iopub.execute_input": "2025-07-30T20:15:18.537045Z",
     "iopub.status.busy": "2025-07-30T20:15:18.536592Z",
     "iopub.status.idle": "2025-07-30T20:15:18.542157Z",
     "shell.execute_reply": "2025-07-30T20:15:18.541288Z"
    },
    "papermill": {
     "duration": 0.028545,
     "end_time": "2025-07-30T20:15:18.543874",
     "exception": false,
     "start_time": "2025-07-30T20:15:18.515329",
     "status": "completed"
    },
    "tags": []
   },
   "outputs": [],
   "source": [
    "# Code nice names to column names\n",
    "\n",
    "excluded_features_columns = [\n",
    "    excluded_features_dictionary[f] for f in excluded_features if len(f) > 0 and f != \"none\"\n",
    "]"
   ]
  },
  {
   "cell_type": "code",
   "execution_count": 31,
   "id": "f84f73a2",
   "metadata": {
    "execution": {
     "iopub.execute_input": "2025-07-30T20:15:18.587992Z",
     "iopub.status.busy": "2025-07-30T20:15:18.587543Z",
     "iopub.status.idle": "2025-07-30T20:15:18.594030Z",
     "shell.execute_reply": "2025-07-30T20:15:18.593113Z"
    },
    "papermill": {
     "duration": 0.029905,
     "end_time": "2025-07-30T20:15:18.595642",
     "exception": false,
     "start_time": "2025-07-30T20:15:18.565737",
     "status": "completed"
    },
    "tags": []
   },
   "outputs": [],
   "source": [
    "from utils import flatten_once\n",
    "\n",
    "excluded_features_columns = flatten_once(excluded_features_columns)"
   ]
  },
  {
   "cell_type": "code",
   "execution_count": 32,
   "id": "884dea22",
   "metadata": {
    "execution": {
     "iopub.execute_input": "2025-07-30T20:15:18.639603Z",
     "iopub.status.busy": "2025-07-30T20:15:18.639148Z",
     "iopub.status.idle": "2025-07-30T20:15:18.663494Z",
     "shell.execute_reply": "2025-07-30T20:15:18.662579Z"
    },
    "papermill": {
     "duration": 0.047495,
     "end_time": "2025-07-30T20:15:18.664987",
     "exception": false,
     "start_time": "2025-07-30T20:15:18.617492",
     "status": "completed"
    },
    "tags": []
   },
   "outputs": [
    {
     "name": "stdout",
     "output_type": "stream",
     "text": [
      "Dropping features: ['age']\n"
     ]
    }
   ],
   "source": [
    "if len(excluded_features_columns) > 0:\n",
    "    print(f\"Dropping features: {excluded_features_columns}\")\n",
    "    X_train.drop(excluded_features_columns, axis=1, inplace=True)"
   ]
  },
  {
   "cell_type": "code",
   "execution_count": 33,
   "id": "95ab8b16",
   "metadata": {
    "execution": {
     "iopub.execute_input": "2025-07-30T20:15:18.713702Z",
     "iopub.status.busy": "2025-07-30T20:15:18.712833Z",
     "iopub.status.idle": "2025-07-30T20:15:18.767843Z",
     "shell.execute_reply": "2025-07-30T20:15:18.766815Z"
    },
    "papermill": {
     "duration": 0.082524,
     "end_time": "2025-07-30T20:15:18.769884",
     "exception": false,
     "start_time": "2025-07-30T20:15:18.687360",
     "status": "completed"
    },
    "tags": []
   },
   "outputs": [
    {
     "name": "stdout",
     "output_type": "stream",
     "text": [
      "Dropping features: ['age']\n"
     ]
    }
   ],
   "source": [
    "if len(excluded_features_columns) > 0:\n",
    "    print(f\"Dropping features: {excluded_features_columns}\")\n",
    "    X_test.drop(excluded_features_columns, axis=1, inplace=True)"
   ]
  },
  {
   "cell_type": "code",
   "execution_count": 34,
   "id": "1853aaf5-fb9f-46cb-a2b5-8ea4ae2237e4",
   "metadata": {
    "execution": {
     "iopub.execute_input": "2025-07-30T20:15:18.816985Z",
     "iopub.status.busy": "2025-07-30T20:15:18.816349Z",
     "iopub.status.idle": "2025-07-30T20:15:18.851033Z",
     "shell.execute_reply": "2025-07-30T20:15:18.849968Z"
    },
    "papermill": {
     "duration": 0.059155,
     "end_time": "2025-07-30T20:15:18.852587",
     "exception": false,
     "start_time": "2025-07-30T20:15:18.793432",
     "status": "completed"
    },
    "tags": []
   },
   "outputs": [
    {
     "name": "stdout",
     "output_type": "stream",
     "text": [
      "Dropping features: ['age']\n"
     ]
    }
   ],
   "source": [
    "if len(excluded_features_columns) > 0:\n",
    "    print(f\"Dropping features: {excluded_features_columns}\")\n",
    "    X_calib.drop(excluded_features_columns, axis=1, inplace=True)"
   ]
  },
  {
   "cell_type": "code",
   "execution_count": 35,
   "id": "6727d079-03e5-481e-9d38-292a90b7a0a8",
   "metadata": {
    "execution": {
     "iopub.execute_input": "2025-07-30T20:15:18.897801Z",
     "iopub.status.busy": "2025-07-30T20:15:18.896892Z",
     "iopub.status.idle": "2025-07-30T20:15:18.901810Z",
     "shell.execute_reply": "2025-07-30T20:15:18.900869Z"
    },
    "papermill": {
     "duration": 0.028501,
     "end_time": "2025-07-30T20:15:18.903362",
     "exception": false,
     "start_time": "2025-07-30T20:15:18.874861",
     "status": "completed"
    },
    "tags": []
   },
   "outputs": [],
   "source": [
    "# SPLIT & STRATIFY DATA\n",
    "# ----------------------"
   ]
  },
  {
   "cell_type": "code",
   "execution_count": 36,
   "id": "76c4dc6d",
   "metadata": {
    "execution": {
     "iopub.execute_input": "2025-07-30T20:15:18.957343Z",
     "iopub.status.busy": "2025-07-30T20:15:18.956855Z",
     "iopub.status.idle": "2025-07-30T20:15:18.962131Z",
     "shell.execute_reply": "2025-07-30T20:15:18.961086Z"
    },
    "papermill": {
     "duration": 0.039914,
     "end_time": "2025-07-30T20:15:18.964059",
     "exception": false,
     "start_time": "2025-07-30T20:15:18.924145",
     "status": "completed"
    },
    "tags": []
   },
   "outputs": [],
   "source": [
    "# EXCLUDE CERTAIN SUBGROUPS\n",
    "# ----------------------\n",
    "\n",
    "mode = universe.get(\"exclude_subgroups\", \"keep-all\") \n",
    "# Fetches the exclude_subgroups setting from the universe dict.\n",
    "# Defaults to \"keep-all\" if the key is missing."
   ]
  },
  {
   "cell_type": "code",
   "execution_count": 37,
   "id": "21994072",
   "metadata": {
    "execution": {
     "iopub.execute_input": "2025-07-30T20:15:19.007600Z",
     "iopub.status.busy": "2025-07-30T20:15:19.007151Z",
     "iopub.status.idle": "2025-07-30T20:15:19.014006Z",
     "shell.execute_reply": "2025-07-30T20:15:19.013178Z"
    },
    "papermill": {
     "duration": 0.029966,
     "end_time": "2025-07-30T20:15:19.015444",
     "exception": false,
     "start_time": "2025-07-30T20:15:18.985478",
     "status": "completed"
    },
    "tags": []
   },
   "outputs": [],
   "source": [
    "if mode == \"keep-all\":\n",
    "    keep_mask = pd.Series(True, index=org_train.index)\n",
    "\n",
    "# org_train contains the original feature columns from features_org (in Simson)\n",
    "# features_org contains unprocessed features, for me X_train at beginning ???\n",
    "# For keep-all, creates a boolean Series (keep_mask) of all True, so no rows are removed.\n",
    "\n",
    "elif mode == \"drop-non-german\":\n",
    "    keep_mask = org_train[\"maxdeutsch1\"] == 1 # ??? what about missing values?\n",
    "\n",
    "else:\n",
    "    raise ValueError(f\"Unsupported mode for exclude_subgroups: {mode}\")\n"
   ]
  },
  {
   "cell_type": "code",
   "execution_count": 38,
   "id": "71651440",
   "metadata": {
    "execution": {
     "iopub.execute_input": "2025-07-30T20:15:19.074366Z",
     "iopub.status.busy": "2025-07-30T20:15:19.073687Z",
     "iopub.status.idle": "2025-07-30T20:15:19.081341Z",
     "shell.execute_reply": "2025-07-30T20:15:19.080376Z"
    },
    "papermill": {
     "duration": 0.045993,
     "end_time": "2025-07-30T20:15:19.083092",
     "exception": false,
     "start_time": "2025-07-30T20:15:19.037099",
     "status": "completed"
    },
    "tags": []
   },
   "outputs": [
    {
     "name": "stdout",
     "output_type": "stream",
     "text": [
      "Dropping 3481 rows (13.92%) where mode='drop-non-german'\n"
     ]
    }
   ],
   "source": [
    "n_drop = (~keep_mask).sum() # Calculates how many rows are set to be dropped\n",
    "if n_drop > 0:\n",
    "    pct = n_drop / len(keep_mask) * 100\n",
    "    print(f\"Dropping {n_drop} rows ({pct:.2f}%) where mode='{mode}'\")"
   ]
  },
  {
   "cell_type": "code",
   "execution_count": 39,
   "id": "5fb8eee5",
   "metadata": {
    "execution": {
     "iopub.execute_input": "2025-07-30T20:15:19.129076Z",
     "iopub.status.busy": "2025-07-30T20:15:19.128587Z",
     "iopub.status.idle": "2025-07-30T20:15:19.143513Z",
     "shell.execute_reply": "2025-07-30T20:15:19.142576Z"
    },
    "papermill": {
     "duration": 0.038836,
     "end_time": "2025-07-30T20:15:19.145328",
     "exception": false,
     "start_time": "2025-07-30T20:15:19.106492",
     "status": "completed"
    },
    "tags": []
   },
   "outputs": [],
   "source": [
    "X_train = X_train[keep_mask]"
   ]
  },
  {
   "cell_type": "code",
   "execution_count": 40,
   "id": "b202bb3a",
   "metadata": {
    "execution": {
     "iopub.execute_input": "2025-07-30T20:15:19.193381Z",
     "iopub.status.busy": "2025-07-30T20:15:19.192758Z",
     "iopub.status.idle": "2025-07-30T20:15:19.198798Z",
     "shell.execute_reply": "2025-07-30T20:15:19.197868Z"
    },
    "papermill": {
     "duration": 0.032231,
     "end_time": "2025-07-30T20:15:19.200484",
     "exception": false,
     "start_time": "2025-07-30T20:15:19.168253",
     "status": "completed"
    },
    "tags": []
   },
   "outputs": [],
   "source": [
    "y_train = y_train[keep_mask]"
   ]
  },
  {
   "cell_type": "markdown",
   "id": "493e2ac3",
   "metadata": {
    "papermill": {
     "duration": 0.02224,
     "end_time": "2025-07-30T20:15:19.246424",
     "exception": false,
     "start_time": "2025-07-30T20:15:19.224184",
     "status": "completed"
    },
    "tags": []
   },
   "source": [
    "# Model Training"
   ]
  },
  {
   "cell_type": "code",
   "execution_count": 41,
   "id": "679e1268",
   "metadata": {
    "execution": {
     "iopub.execute_input": "2025-07-30T20:15:19.293817Z",
     "iopub.status.busy": "2025-07-30T20:15:19.292872Z",
     "iopub.status.idle": "2025-07-30T20:15:19.394514Z",
     "shell.execute_reply": "2025-07-30T20:15:19.393337Z"
    },
    "papermill": {
     "duration": 0.127179,
     "end_time": "2025-07-30T20:15:19.396394",
     "exception": false,
     "start_time": "2025-07-30T20:15:19.269215",
     "status": "completed"
    },
    "tags": []
   },
   "outputs": [],
   "source": [
    "from sklearn.linear_model import LogisticRegression\n",
    "from sklearn.ensemble import GradientBoostingClassifier, RandomForestClassifier\n",
    "\n",
    "if (universe[\"model\"] == \"logreg\"):\n",
    "    model = LogisticRegression() #penalty=\"none\") #, solver=\"newton-cg\", max_iter=1) # include random_state=19 ?\n",
    "elif (universe[\"model\"] == \"penalized_logreg\"):\n",
    "    model = LogisticRegression(penalty=\"l2\", C=1.0) #, solver=\"newton-cg\", max_iter=1)\n",
    "elif (universe[\"model\"] == \"rf\"):\n",
    "    model = RandomForestClassifier(n_estimators=100, n_jobs=-1)\n",
    "elif (universe[\"model\"] == \"gbm\"):\n",
    "    model = GradientBoostingClassifier()\n",
    "elif (universe[\"model\"] == \"elasticnet\"):\n",
    "    model = LogisticRegression(penalty = 'elasticnet', solver = 'saga', l1_ratio = 0.5, max_iter=5000) # which solver to use?\n",
    "else:\n",
    "    raise \"Unsupported universe.model\""
   ]
  },
  {
   "cell_type": "code",
   "execution_count": 42,
   "id": "0cc8f744",
   "metadata": {
    "execution": {
     "iopub.execute_input": "2025-07-30T20:15:19.443115Z",
     "iopub.status.busy": "2025-07-30T20:15:19.442631Z",
     "iopub.status.idle": "2025-07-30T20:15:19.448953Z",
     "shell.execute_reply": "2025-07-30T20:15:19.448014Z"
    },
    "papermill": {
     "duration": 0.031258,
     "end_time": "2025-07-30T20:15:19.450472",
     "exception": false,
     "start_time": "2025-07-30T20:15:19.419214",
     "status": "completed"
    },
    "tags": []
   },
   "outputs": [],
   "source": [
    "import numpy as np\n",
    "from sklearn.pipeline import Pipeline\n",
    "from sklearn.preprocessing import StandardScaler\n",
    "\n",
    "model = Pipeline([\n",
    "    #(\"continuous_processor\", continuous_processor),\n",
    "    #(\"categorical_preprocessor\", categorical_preprocessor),\n",
    "    (\"scale\", StandardScaler() if universe[\"scale\"] == \"scale\" else None), \n",
    "    (\"model\", model),\n",
    "])"
   ]
  },
  {
   "cell_type": "code",
   "execution_count": 43,
   "id": "9442c04d",
   "metadata": {
    "execution": {
     "iopub.execute_input": "2025-07-30T20:15:19.494847Z",
     "iopub.status.busy": "2025-07-30T20:15:19.494082Z",
     "iopub.status.idle": "2025-07-30T20:15:37.385306Z",
     "shell.execute_reply": "2025-07-30T20:15:37.384084Z"
    },
    "papermill": {
     "duration": 17.91545,
     "end_time": "2025-07-30T20:15:37.387252",
     "exception": false,
     "start_time": "2025-07-30T20:15:19.471802",
     "status": "completed"
    },
    "tags": []
   },
   "outputs": [
    {
     "data": {
      "text/html": [
       "<style>#sk-container-id-1 {color: black;background-color: white;}#sk-container-id-1 pre{padding: 0;}#sk-container-id-1 div.sk-toggleable {background-color: white;}#sk-container-id-1 label.sk-toggleable__label {cursor: pointer;display: block;width: 100%;margin-bottom: 0;padding: 0.3em;box-sizing: border-box;text-align: center;}#sk-container-id-1 label.sk-toggleable__label-arrow:before {content: \"▸\";float: left;margin-right: 0.25em;color: #696969;}#sk-container-id-1 label.sk-toggleable__label-arrow:hover:before {color: black;}#sk-container-id-1 div.sk-estimator:hover label.sk-toggleable__label-arrow:before {color: black;}#sk-container-id-1 div.sk-toggleable__content {max-height: 0;max-width: 0;overflow: hidden;text-align: left;background-color: #f0f8ff;}#sk-container-id-1 div.sk-toggleable__content pre {margin: 0.2em;color: black;border-radius: 0.25em;background-color: #f0f8ff;}#sk-container-id-1 input.sk-toggleable__control:checked~div.sk-toggleable__content {max-height: 200px;max-width: 100%;overflow: auto;}#sk-container-id-1 input.sk-toggleable__control:checked~label.sk-toggleable__label-arrow:before {content: \"▾\";}#sk-container-id-1 div.sk-estimator input.sk-toggleable__control:checked~label.sk-toggleable__label {background-color: #d4ebff;}#sk-container-id-1 div.sk-label input.sk-toggleable__control:checked~label.sk-toggleable__label {background-color: #d4ebff;}#sk-container-id-1 input.sk-hidden--visually {border: 0;clip: rect(1px 1px 1px 1px);clip: rect(1px, 1px, 1px, 1px);height: 1px;margin: -1px;overflow: hidden;padding: 0;position: absolute;width: 1px;}#sk-container-id-1 div.sk-estimator {font-family: monospace;background-color: #f0f8ff;border: 1px dotted black;border-radius: 0.25em;box-sizing: border-box;margin-bottom: 0.5em;}#sk-container-id-1 div.sk-estimator:hover {background-color: #d4ebff;}#sk-container-id-1 div.sk-parallel-item::after {content: \"\";width: 100%;border-bottom: 1px solid gray;flex-grow: 1;}#sk-container-id-1 div.sk-label:hover label.sk-toggleable__label {background-color: #d4ebff;}#sk-container-id-1 div.sk-serial::before {content: \"\";position: absolute;border-left: 1px solid gray;box-sizing: border-box;top: 0;bottom: 0;left: 50%;z-index: 0;}#sk-container-id-1 div.sk-serial {display: flex;flex-direction: column;align-items: center;background-color: white;padding-right: 0.2em;padding-left: 0.2em;position: relative;}#sk-container-id-1 div.sk-item {position: relative;z-index: 1;}#sk-container-id-1 div.sk-parallel {display: flex;align-items: stretch;justify-content: center;background-color: white;position: relative;}#sk-container-id-1 div.sk-item::before, #sk-container-id-1 div.sk-parallel-item::before {content: \"\";position: absolute;border-left: 1px solid gray;box-sizing: border-box;top: 0;bottom: 0;left: 50%;z-index: -1;}#sk-container-id-1 div.sk-parallel-item {display: flex;flex-direction: column;z-index: 1;position: relative;background-color: white;}#sk-container-id-1 div.sk-parallel-item:first-child::after {align-self: flex-end;width: 50%;}#sk-container-id-1 div.sk-parallel-item:last-child::after {align-self: flex-start;width: 50%;}#sk-container-id-1 div.sk-parallel-item:only-child::after {width: 0;}#sk-container-id-1 div.sk-dashed-wrapped {border: 1px dashed gray;margin: 0 0.4em 0.5em 0.4em;box-sizing: border-box;padding-bottom: 0.4em;background-color: white;}#sk-container-id-1 div.sk-label label {font-family: monospace;font-weight: bold;display: inline-block;line-height: 1.2em;}#sk-container-id-1 div.sk-label-container {text-align: center;}#sk-container-id-1 div.sk-container {/* jupyter's `normalize.less` sets `[hidden] { display: none; }` but bootstrap.min.css set `[hidden] { display: none !important; }` so we also need the `!important` here to be able to override the default hidden behavior on the sphinx rendered scikit-learn.org. See: https://github.com/scikit-learn/scikit-learn/issues/21755 */display: inline-block !important;position: relative;}#sk-container-id-1 div.sk-text-repr-fallback {display: none;}</style><div id=\"sk-container-id-1\" class=\"sk-top-container\"><div class=\"sk-text-repr-fallback\"><pre>Pipeline(steps=[(&#x27;scale&#x27;, StandardScaler()),\n",
       "                (&#x27;model&#x27;,\n",
       "                 LogisticRegression(l1_ratio=0.5, max_iter=5000,\n",
       "                                    penalty=&#x27;elasticnet&#x27;, solver=&#x27;saga&#x27;))])</pre><b>In a Jupyter environment, please rerun this cell to show the HTML representation or trust the notebook. <br />On GitHub, the HTML representation is unable to render, please try loading this page with nbviewer.org.</b></div><div class=\"sk-container\" hidden><div class=\"sk-item sk-dashed-wrapped\"><div class=\"sk-label-container\"><div class=\"sk-label sk-toggleable\"><input class=\"sk-toggleable__control sk-hidden--visually\" id=\"sk-estimator-id-1\" type=\"checkbox\" ><label for=\"sk-estimator-id-1\" class=\"sk-toggleable__label sk-toggleable__label-arrow\">Pipeline</label><div class=\"sk-toggleable__content\"><pre>Pipeline(steps=[(&#x27;scale&#x27;, StandardScaler()),\n",
       "                (&#x27;model&#x27;,\n",
       "                 LogisticRegression(l1_ratio=0.5, max_iter=5000,\n",
       "                                    penalty=&#x27;elasticnet&#x27;, solver=&#x27;saga&#x27;))])</pre></div></div></div><div class=\"sk-serial\"><div class=\"sk-item\"><div class=\"sk-estimator sk-toggleable\"><input class=\"sk-toggleable__control sk-hidden--visually\" id=\"sk-estimator-id-2\" type=\"checkbox\" ><label for=\"sk-estimator-id-2\" class=\"sk-toggleable__label sk-toggleable__label-arrow\">StandardScaler</label><div class=\"sk-toggleable__content\"><pre>StandardScaler()</pre></div></div></div><div class=\"sk-item\"><div class=\"sk-estimator sk-toggleable\"><input class=\"sk-toggleable__control sk-hidden--visually\" id=\"sk-estimator-id-3\" type=\"checkbox\" ><label for=\"sk-estimator-id-3\" class=\"sk-toggleable__label sk-toggleable__label-arrow\">LogisticRegression</label><div class=\"sk-toggleable__content\"><pre>LogisticRegression(l1_ratio=0.5, max_iter=5000, penalty=&#x27;elasticnet&#x27;,\n",
       "                   solver=&#x27;saga&#x27;)</pre></div></div></div></div></div></div></div>"
      ],
      "text/plain": [
       "Pipeline(steps=[('scale', StandardScaler()),\n",
       "                ('model',\n",
       "                 LogisticRegression(l1_ratio=0.5, max_iter=5000,\n",
       "                                    penalty='elasticnet', solver='saga'))])"
      ]
     },
     "execution_count": 43,
     "metadata": {},
     "output_type": "execute_result"
    }
   ],
   "source": [
    "model.fit(X_train, y_train.values.ravel())"
   ]
  },
  {
   "cell_type": "code",
   "execution_count": 44,
   "id": "af59f8c0",
   "metadata": {
    "execution": {
     "iopub.execute_input": "2025-07-30T20:15:37.446519Z",
     "iopub.status.busy": "2025-07-30T20:15:37.445773Z",
     "iopub.status.idle": "2025-07-30T20:15:37.453385Z",
     "shell.execute_reply": "2025-07-30T20:15:37.452319Z"
    },
    "papermill": {
     "duration": 0.038904,
     "end_time": "2025-07-30T20:15:37.455202",
     "exception": false,
     "start_time": "2025-07-30T20:15:37.416298",
     "status": "completed"
    },
    "tags": []
   },
   "outputs": [],
   "source": [
    "from fairness_multiverse.universe import predict_w_threshold"
   ]
  },
  {
   "cell_type": "code",
   "execution_count": 45,
   "id": "a7cf2e16",
   "metadata": {
    "execution": {
     "iopub.execute_input": "2025-07-30T20:15:37.508925Z",
     "iopub.status.busy": "2025-07-30T20:15:37.508542Z",
     "iopub.status.idle": "2025-07-30T20:15:37.706950Z",
     "shell.execute_reply": "2025-07-30T20:15:37.705986Z"
    },
    "papermill": {
     "duration": 0.2272,
     "end_time": "2025-07-30T20:15:37.708679",
     "exception": false,
     "start_time": "2025-07-30T20:15:37.481479",
     "status": "completed"
    },
    "tags": []
   },
   "outputs": [
    {
     "data": {
      "text/plain": [
       "0.86002675287036"
      ]
     },
     "execution_count": 45,
     "metadata": {},
     "output_type": "execute_result"
    }
   ],
   "source": [
    "probs_test = model.predict_proba(X_test)\n",
    "\n",
    "'''\n",
    "Below code returns a boolean array (or binary 0/1 array depending on how it’s used) where each element \n",
    "is True if the probability of class 1 is greater than or equal to the threshold, and False otherwise.\n",
    "'''\n",
    "y_pred_default = predict_w_threshold(probs_test, 0.5)\n",
    "\n",
    "from sklearn.metrics import accuracy_score\n",
    "\n",
    "# Naive prediction\n",
    "accuracy_score(y_true = y_true, y_pred = y_pred_default)"
   ]
  },
  {
   "cell_type": "code",
   "execution_count": 46,
   "id": "081964c3",
   "metadata": {
    "execution": {
     "iopub.execute_input": "2025-07-30T20:15:37.777792Z",
     "iopub.status.busy": "2025-07-30T20:15:37.776867Z",
     "iopub.status.idle": "2025-07-30T20:15:37.961999Z",
     "shell.execute_reply": "2025-07-30T20:15:37.961053Z"
    },
    "papermill": {
     "duration": 0.215766,
     "end_time": "2025-07-30T20:15:37.963765",
     "exception": false,
     "start_time": "2025-07-30T20:15:37.747999",
     "status": "completed"
    },
    "tags": []
   },
   "outputs": [
    {
     "data": {
      "text/plain": [
       "array([0, 0, 0, ..., 0, 0, 0])"
      ]
     },
     "execution_count": 46,
     "metadata": {},
     "output_type": "execute_result"
    }
   ],
   "source": [
    "model.predict(X_test)"
   ]
  },
  {
   "cell_type": "markdown",
   "id": "56c9705b",
   "metadata": {
    "papermill": {
     "duration": 0.022313,
     "end_time": "2025-07-30T20:15:38.010372",
     "exception": false,
     "start_time": "2025-07-30T20:15:37.988059",
     "status": "completed"
    },
    "tags": []
   },
   "source": [
    "# Conformal Prediction"
   ]
  },
  {
   "cell_type": "code",
   "execution_count": 47,
   "id": "160ec6ff",
   "metadata": {
    "execution": {
     "iopub.execute_input": "2025-07-30T20:15:38.057514Z",
     "iopub.status.busy": "2025-07-30T20:15:38.056947Z",
     "iopub.status.idle": "2025-07-30T20:15:38.062147Z",
     "shell.execute_reply": "2025-07-30T20:15:38.061182Z"
    },
    "papermill": {
     "duration": 0.029799,
     "end_time": "2025-07-30T20:15:38.063763",
     "exception": false,
     "start_time": "2025-07-30T20:15:38.033964",
     "status": "completed"
    },
    "tags": []
   },
   "outputs": [],
   "source": [
    "# Miscoverage level for conformal prediction (10% allowed error rate => 90% target coverage)\n",
    "alpha = 0.1"
   ]
  },
  {
   "cell_type": "code",
   "execution_count": 48,
   "id": "eadf4555-3dd3-440e-8e35-f82a4ad9f855",
   "metadata": {
    "execution": {
     "iopub.execute_input": "2025-07-30T20:15:38.111679Z",
     "iopub.status.busy": "2025-07-30T20:15:38.110957Z",
     "iopub.status.idle": "2025-07-30T20:15:38.319829Z",
     "shell.execute_reply": "2025-07-30T20:15:38.318770Z"
    },
    "papermill": {
     "duration": 0.233516,
     "end_time": "2025-07-30T20:15:38.321581",
     "exception": false,
     "start_time": "2025-07-30T20:15:38.088065",
     "status": "completed"
    },
    "tags": []
   },
   "outputs": [],
   "source": [
    "probs_calib = model.predict_proba(X_calib)"
   ]
  },
  {
   "cell_type": "code",
   "execution_count": 49,
   "id": "2ed93547-6d5d-4983-9b36-1ecb300da49a",
   "metadata": {
    "execution": {
     "iopub.execute_input": "2025-07-30T20:15:38.371920Z",
     "iopub.status.busy": "2025-07-30T20:15:38.371146Z",
     "iopub.status.idle": "2025-07-30T20:15:38.377492Z",
     "shell.execute_reply": "2025-07-30T20:15:38.376576Z"
    },
    "papermill": {
     "duration": 0.033741,
     "end_time": "2025-07-30T20:15:38.379106",
     "exception": false,
     "start_time": "2025-07-30T20:15:38.345365",
     "status": "completed"
    },
    "tags": []
   },
   "outputs": [],
   "source": [
    "y_calib = y_calib.values.ravel().astype(int)"
   ]
  },
  {
   "cell_type": "code",
   "execution_count": 50,
   "id": "65d1320d-f588-4b38-9072-62af1ae97f7d",
   "metadata": {
    "execution": {
     "iopub.execute_input": "2025-07-30T20:15:38.425738Z",
     "iopub.status.busy": "2025-07-30T20:15:38.425253Z",
     "iopub.status.idle": "2025-07-30T20:15:38.432253Z",
     "shell.execute_reply": "2025-07-30T20:15:38.431373Z"
    },
    "papermill": {
     "duration": 0.032018,
     "end_time": "2025-07-30T20:15:38.433739",
     "exception": false,
     "start_time": "2025-07-30T20:15:38.401721",
     "status": "completed"
    },
    "tags": []
   },
   "outputs": [],
   "source": [
    "from fairness_multiverse.conformal import compute_nc_scores\n",
    "\n",
    "# Compute nonconformity scores on calibration set (1 - probability of true class)\n",
    "nc_scores = compute_nc_scores(probs_calib, y_calib)"
   ]
  },
  {
   "cell_type": "code",
   "execution_count": 51,
   "id": "df3b8ca3-53b7-43d5-9667-7c85da7aeda2",
   "metadata": {
    "execution": {
     "iopub.execute_input": "2025-07-30T20:15:38.481022Z",
     "iopub.status.busy": "2025-07-30T20:15:38.480225Z",
     "iopub.status.idle": "2025-07-30T20:15:38.487037Z",
     "shell.execute_reply": "2025-07-30T20:15:38.486253Z"
    },
    "papermill": {
     "duration": 0.032302,
     "end_time": "2025-07-30T20:15:38.488576",
     "exception": false,
     "start_time": "2025-07-30T20:15:38.456274",
     "status": "completed"
    },
    "tags": []
   },
   "outputs": [],
   "source": [
    "from fairness_multiverse.conformal import find_threshold\n",
    "\n",
    "# Find conformal threshold q_hat for the given alpha (split conformal method)\n",
    "q_hat = find_threshold(nc_scores, alpha)"
   ]
  },
  {
   "cell_type": "code",
   "execution_count": 52,
   "id": "4d29e6c1-0ef6-4aa4-b8fe-4fe79b0d033a",
   "metadata": {
    "execution": {
     "iopub.execute_input": "2025-07-30T20:15:38.534461Z",
     "iopub.status.busy": "2025-07-30T20:15:38.533828Z",
     "iopub.status.idle": "2025-07-30T20:15:38.541030Z",
     "shell.execute_reply": "2025-07-30T20:15:38.540093Z"
    },
    "papermill": {
     "duration": 0.031929,
     "end_time": "2025-07-30T20:15:38.542447",
     "exception": false,
     "start_time": "2025-07-30T20:15:38.510518",
     "status": "completed"
    },
    "tags": []
   },
   "outputs": [
    {
     "data": {
      "text/plain": [
       "0.6684815034514864"
      ]
     },
     "execution_count": 52,
     "metadata": {},
     "output_type": "execute_result"
    }
   ],
   "source": [
    "q_hat"
   ]
  },
  {
   "cell_type": "code",
   "execution_count": 53,
   "id": "92460794-cdac-4be2-ba28-f28c0515a6fb",
   "metadata": {
    "execution": {
     "iopub.execute_input": "2025-07-30T20:15:38.590952Z",
     "iopub.status.busy": "2025-07-30T20:15:38.590177Z",
     "iopub.status.idle": "2025-07-30T20:15:39.462735Z",
     "shell.execute_reply": "2025-07-30T20:15:39.461993Z"
    },
    "papermill": {
     "duration": 0.897637,
     "end_time": "2025-07-30T20:15:39.464199",
     "exception": false,
     "start_time": "2025-07-30T20:15:38.566562",
     "status": "completed"
    },
    "tags": []
   },
   "outputs": [],
   "source": [
    "from fairness_multiverse.conformal import predict_conformal_sets\n",
    "\n",
    "# Generate prediction sets for each test example\n",
    "pred_sets = predict_conformal_sets(model, X_test, q_hat)"
   ]
  },
  {
   "cell_type": "code",
   "execution_count": 54,
   "id": "d90c9a65-e6db-4f5d-80cd-e68fb7e46829",
   "metadata": {
    "execution": {
     "iopub.execute_input": "2025-07-30T20:15:39.492239Z",
     "iopub.status.busy": "2025-07-30T20:15:39.491665Z",
     "iopub.status.idle": "2025-07-30T20:15:39.496332Z",
     "shell.execute_reply": "2025-07-30T20:15:39.495651Z"
    },
    "papermill": {
     "duration": 0.020122,
     "end_time": "2025-07-30T20:15:39.497623",
     "exception": false,
     "start_time": "2025-07-30T20:15:39.477501",
     "status": "completed"
    },
    "tags": []
   },
   "outputs": [],
   "source": [
    "y_true = y_true.squeeze()"
   ]
  },
  {
   "cell_type": "code",
   "execution_count": 55,
   "id": "3a58a54a-1e68-46b9-927a-df01f18aebc8",
   "metadata": {
    "execution": {
     "iopub.execute_input": "2025-07-30T20:15:39.525162Z",
     "iopub.status.busy": "2025-07-30T20:15:39.524666Z",
     "iopub.status.idle": "2025-07-30T20:15:40.116514Z",
     "shell.execute_reply": "2025-07-30T20:15:40.115426Z"
    },
    "papermill": {
     "duration": 0.606894,
     "end_time": "2025-07-30T20:15:40.118361",
     "exception": false,
     "start_time": "2025-07-30T20:15:39.511467",
     "status": "completed"
    },
    "tags": []
   },
   "outputs": [],
   "source": [
    "from fairness_multiverse.conformal import evaluate_sets\n",
    "\n",
    "# Evaluate coverage and average set size on test data\n",
    "metrics = evaluate_sets(pred_sets, y_true)"
   ]
  },
  {
   "cell_type": "markdown",
   "id": "2b569c12-9aaa-4c88-98c9-bbcd0cf3ebb8",
   "metadata": {
    "papermill": {
     "duration": 0.024786,
     "end_time": "2025-07-30T20:15:40.169934",
     "exception": false,
     "start_time": "2025-07-30T20:15:40.145148",
     "status": "completed"
    },
    "tags": []
   },
   "source": [
    "# CP Metrics"
   ]
  },
  {
   "cell_type": "code",
   "execution_count": 56,
   "id": "5ce0a5cb-201f-45a0-ade5-94c7f0bd6095",
   "metadata": {
    "execution": {
     "iopub.execute_input": "2025-07-30T20:15:40.224026Z",
     "iopub.status.busy": "2025-07-30T20:15:40.223101Z",
     "iopub.status.idle": "2025-07-30T20:15:40.232125Z",
     "shell.execute_reply": "2025-07-30T20:15:40.230988Z"
    },
    "papermill": {
     "duration": 0.038654,
     "end_time": "2025-07-30T20:15:40.233938",
     "exception": false,
     "start_time": "2025-07-30T20:15:40.195284",
     "status": "completed"
    },
    "tags": []
   },
   "outputs": [
    {
     "data": {
      "text/plain": [
       "{'coverage': 0.9109909709062535, 'avg_size': 1.1263850183925983}"
      ]
     },
     "execution_count": 56,
     "metadata": {},
     "output_type": "execute_result"
    }
   ],
   "source": [
    "metrics"
   ]
  },
  {
   "cell_type": "code",
   "execution_count": 57,
   "id": "9b9a838d-31c9-430b-ae14-12baee460d17",
   "metadata": {
    "execution": {
     "iopub.execute_input": "2025-07-30T20:15:40.287517Z",
     "iopub.status.busy": "2025-07-30T20:15:40.286855Z",
     "iopub.status.idle": "2025-07-30T20:15:40.293267Z",
     "shell.execute_reply": "2025-07-30T20:15:40.292390Z"
    },
    "papermill": {
     "duration": 0.034331,
     "end_time": "2025-07-30T20:15:40.294949",
     "exception": false,
     "start_time": "2025-07-30T20:15:40.260618",
     "status": "completed"
    },
    "tags": []
   },
   "outputs": [],
   "source": [
    "example_universe = universe.copy()\n",
    "universe_training_year = example_universe.get(\"training_year\")\n",
    "universe_training_size = example_universe.get(\"training_size\")\n",
    "universe_scale = example_universe.get(\"scale\")\n",
    "universe_model = example_universe.get(\"model\")\n",
    "universe_exclude_features = example_universe.get(\"exclude_features\")\n",
    "universe_exclude_subgroups = example_universe.get(\"exclude_subgroups\")"
   ]
  },
  {
   "cell_type": "code",
   "execution_count": 58,
   "id": "f4b6a8ac-9dc0-4245-8a91-5b3b5999c4f9",
   "metadata": {
    "execution": {
     "iopub.execute_input": "2025-07-30T20:15:40.350224Z",
     "iopub.status.busy": "2025-07-30T20:15:40.349790Z",
     "iopub.status.idle": "2025-07-30T20:15:40.356486Z",
     "shell.execute_reply": "2025-07-30T20:15:40.355406Z"
    },
    "papermill": {
     "duration": 0.036328,
     "end_time": "2025-07-30T20:15:40.358224",
     "exception": false,
     "start_time": "2025-07-30T20:15:40.321896",
     "status": "completed"
    },
    "tags": []
   },
   "outputs": [],
   "source": [
    "cp_metrics_dict = {\n",
    "    \"universe_id\": [universe_id],\n",
    "    \"universe_training_year\": [universe_training_year],\n",
    "    \"universe_training_size\": [universe_training_size],\n",
    "    \"universe_scale\": [universe_scale],\n",
    "    \"universe_model\": [universe_model],\n",
    "    \"universe_exclude_features\": [universe_exclude_features],\n",
    "    \"universe_exclude_subgroups\": [universe_exclude_subgroups],\n",
    "    \"q_hat\": [q_hat],\n",
    "    \"coverage\": [metrics[\"coverage\"]],\n",
    "    \"avg_size\": [metrics[\"avg_size\"]],\n",
    "}"
   ]
  },
  {
   "cell_type": "code",
   "execution_count": 59,
   "id": "908acbb1-0371-4915-85ca-3fa520d2efe2",
   "metadata": {
    "execution": {
     "iopub.execute_input": "2025-07-30T20:15:40.410703Z",
     "iopub.status.busy": "2025-07-30T20:15:40.410080Z",
     "iopub.status.idle": "2025-07-30T20:15:40.418031Z",
     "shell.execute_reply": "2025-07-30T20:15:40.417111Z"
    },
    "papermill": {
     "duration": 0.035306,
     "end_time": "2025-07-30T20:15:40.419636",
     "exception": false,
     "start_time": "2025-07-30T20:15:40.384330",
     "status": "completed"
    },
    "tags": []
   },
   "outputs": [
    {
     "data": {
      "text/plain": [
       "{'universe_id': ['6048978b4c26c3762b9d514c66dd24e6'],\n",
       " 'universe_training_year': ['2012_14'],\n",
       " 'universe_training_size': ['25k'],\n",
       " 'universe_scale': ['scale'],\n",
       " 'universe_model': ['elasticnet'],\n",
       " 'universe_exclude_features': ['age'],\n",
       " 'universe_exclude_subgroups': ['drop-non-german'],\n",
       " 'q_hat': [0.6684815034514864],\n",
       " 'coverage': [0.9109909709062535],\n",
       " 'avg_size': [1.1263850183925983]}"
      ]
     },
     "execution_count": 59,
     "metadata": {},
     "output_type": "execute_result"
    }
   ],
   "source": [
    "cp_metrics_dict"
   ]
  },
  {
   "cell_type": "code",
   "execution_count": 60,
   "id": "33007efc-14e9-4ec6-97ac-56a455c82265",
   "metadata": {
    "execution": {
     "iopub.execute_input": "2025-07-30T20:15:40.472607Z",
     "iopub.status.busy": "2025-07-30T20:15:40.471940Z",
     "iopub.status.idle": "2025-07-30T20:15:40.478131Z",
     "shell.execute_reply": "2025-07-30T20:15:40.477129Z"
    },
    "papermill": {
     "duration": 0.033944,
     "end_time": "2025-07-30T20:15:40.479444",
     "exception": false,
     "start_time": "2025-07-30T20:15:40.445500",
     "status": "completed"
    },
    "tags": []
   },
   "outputs": [],
   "source": [
    "cp_metrics_df = pd.DataFrame(cp_metrics_dict)"
   ]
  },
  {
   "cell_type": "code",
   "execution_count": 61,
   "id": "db12611b-57b2-4910-b9d0-355adfd6e7bf",
   "metadata": {
    "execution": {
     "iopub.execute_input": "2025-07-30T20:15:40.530767Z",
     "iopub.status.busy": "2025-07-30T20:15:40.530388Z",
     "iopub.status.idle": "2025-07-30T20:15:40.544015Z",
     "shell.execute_reply": "2025-07-30T20:15:40.543376Z"
    },
    "papermill": {
     "duration": 0.04013,
     "end_time": "2025-07-30T20:15:40.545332",
     "exception": false,
     "start_time": "2025-07-30T20:15:40.505202",
     "status": "completed"
    },
    "tags": []
   },
   "outputs": [
    {
     "data": {
      "text/html": [
       "<div>\n",
       "<style scoped>\n",
       "    .dataframe tbody tr th:only-of-type {\n",
       "        vertical-align: middle;\n",
       "    }\n",
       "\n",
       "    .dataframe tbody tr th {\n",
       "        vertical-align: top;\n",
       "    }\n",
       "\n",
       "    .dataframe thead th {\n",
       "        text-align: right;\n",
       "    }\n",
       "</style>\n",
       "<table border=\"1\" class=\"dataframe\">\n",
       "  <thead>\n",
       "    <tr style=\"text-align: right;\">\n",
       "      <th></th>\n",
       "      <th>universe_id</th>\n",
       "      <th>universe_training_year</th>\n",
       "      <th>universe_training_size</th>\n",
       "      <th>universe_scale</th>\n",
       "      <th>universe_model</th>\n",
       "      <th>universe_exclude_features</th>\n",
       "      <th>universe_exclude_subgroups</th>\n",
       "      <th>q_hat</th>\n",
       "      <th>coverage</th>\n",
       "      <th>avg_size</th>\n",
       "    </tr>\n",
       "  </thead>\n",
       "  <tbody>\n",
       "    <tr>\n",
       "      <th>0</th>\n",
       "      <td>6048978b4c26c3762b9d514c66dd24e6</td>\n",
       "      <td>2012_14</td>\n",
       "      <td>25k</td>\n",
       "      <td>scale</td>\n",
       "      <td>elasticnet</td>\n",
       "      <td>age</td>\n",
       "      <td>drop-non-german</td>\n",
       "      <td>0.668482</td>\n",
       "      <td>0.910991</td>\n",
       "      <td>1.126385</td>\n",
       "    </tr>\n",
       "  </tbody>\n",
       "</table>\n",
       "</div>"
      ],
      "text/plain": [
       "                        universe_id universe_training_year  \\\n",
       "0  6048978b4c26c3762b9d514c66dd24e6                2012_14   \n",
       "\n",
       "  universe_training_size universe_scale universe_model  \\\n",
       "0                    25k          scale     elasticnet   \n",
       "\n",
       "  universe_exclude_features universe_exclude_subgroups     q_hat  coverage  \\\n",
       "0                       age            drop-non-german  0.668482  0.910991   \n",
       "\n",
       "   avg_size  \n",
       "0  1.126385  "
      ]
     },
     "execution_count": 61,
     "metadata": {},
     "output_type": "execute_result"
    }
   ],
   "source": [
    "cp_metrics_df"
   ]
  },
  {
   "cell_type": "code",
   "execution_count": 62,
   "id": "b7fbde55-a0a1-47e4-9af6-fe4a17fa8c61",
   "metadata": {
    "execution": {
     "iopub.execute_input": "2025-07-30T20:15:40.572337Z",
     "iopub.status.busy": "2025-07-30T20:15:40.571955Z",
     "iopub.status.idle": "2025-07-30T20:15:40.575907Z",
     "shell.execute_reply": "2025-07-30T20:15:40.575115Z"
    },
    "papermill": {
     "duration": 0.018607,
     "end_time": "2025-07-30T20:15:40.577117",
     "exception": false,
     "start_time": "2025-07-30T20:15:40.558510",
     "status": "completed"
    },
    "tags": []
   },
   "outputs": [],
   "source": [
    "# Conditional Coverage & looking at subgroups"
   ]
  },
  {
   "cell_type": "code",
   "execution_count": 63,
   "id": "027ae886-68dd-4141-96c7-805a5450e1ef",
   "metadata": {
    "execution": {
     "iopub.execute_input": "2025-07-30T20:15:40.605939Z",
     "iopub.status.busy": "2025-07-30T20:15:40.605572Z",
     "iopub.status.idle": "2025-07-30T20:15:40.778644Z",
     "shell.execute_reply": "2025-07-30T20:15:40.777919Z"
    },
    "papermill": {
     "duration": 0.188156,
     "end_time": "2025-07-30T20:15:40.779934",
     "exception": false,
     "start_time": "2025-07-30T20:15:40.591778",
     "status": "completed"
    },
    "tags": []
   },
   "outputs": [],
   "source": [
    "from fairness_multiverse.conformal import build_cp_groups\n",
    "\n",
    "cp_groups_df = build_cp_groups(pred_sets, y_true, X_test.index, org_test)\n",
    "#needs universe_id and setting"
   ]
  },
  {
   "cell_type": "code",
   "execution_count": 64,
   "id": "01d5802c-663a-4d1f-9d69-e036faaffbf7",
   "metadata": {
    "execution": {
     "iopub.execute_input": "2025-07-30T20:15:40.808327Z",
     "iopub.status.busy": "2025-07-30T20:15:40.807865Z",
     "iopub.status.idle": "2025-07-30T20:15:40.811824Z",
     "shell.execute_reply": "2025-07-30T20:15:40.811060Z"
    },
    "papermill": {
     "duration": 0.019403,
     "end_time": "2025-07-30T20:15:40.813318",
     "exception": false,
     "start_time": "2025-07-30T20:15:40.793915",
     "status": "completed"
    },
    "tags": []
   },
   "outputs": [],
   "source": [
    "#delete\n",
    "#cp_groups_df"
   ]
  },
  {
   "cell_type": "code",
   "execution_count": 65,
   "id": "fa424af1-d1eb-443d-b717-2d279ada8408",
   "metadata": {
    "execution": {
     "iopub.execute_input": "2025-07-30T20:15:40.841505Z",
     "iopub.status.busy": "2025-07-30T20:15:40.841224Z",
     "iopub.status.idle": "2025-07-30T20:15:40.845492Z",
     "shell.execute_reply": "2025-07-30T20:15:40.844850Z"
    },
    "papermill": {
     "duration": 0.019883,
     "end_time": "2025-07-30T20:15:40.846647",
     "exception": false,
     "start_time": "2025-07-30T20:15:40.826764",
     "status": "completed"
    },
    "tags": []
   },
   "outputs": [],
   "source": [
    "#delete\n",
    "#percentage = (cp_groups_df['nongerman_female'] == 1).mean() * 100\n",
    "#print(percentage)\n"
   ]
  },
  {
   "cell_type": "code",
   "execution_count": 66,
   "id": "6cbdab96-b2b2-45af-ad54-d0516db2e28d",
   "metadata": {
    "execution": {
     "iopub.execute_input": "2025-07-30T20:15:40.897810Z",
     "iopub.status.busy": "2025-07-30T20:15:40.897482Z",
     "iopub.status.idle": "2025-07-30T20:15:41.984992Z",
     "shell.execute_reply": "2025-07-30T20:15:41.984178Z"
    },
    "papermill": {
     "duration": 1.114699,
     "end_time": "2025-07-30T20:15:41.986447",
     "exception": false,
     "start_time": "2025-07-30T20:15:40.871748",
     "status": "completed"
    },
    "tags": []
   },
   "outputs": [],
   "source": [
    "# Define covered = 1 if true_label is in the predicted set\n",
    "cp_groups_df['covered'] = cp_groups_df.apply(\n",
    "    lambda r: int(r['true_label'] in r['pred_set']),\n",
    "    axis=1\n",
    ")"
   ]
  },
  {
   "cell_type": "code",
   "execution_count": 67,
   "id": "338ff529-1a6b-4b87-a931-8e4788d52aad",
   "metadata": {
    "execution": {
     "iopub.execute_input": "2025-07-30T20:15:42.028968Z",
     "iopub.status.busy": "2025-07-30T20:15:42.028475Z",
     "iopub.status.idle": "2025-07-30T20:15:42.033669Z",
     "shell.execute_reply": "2025-07-30T20:15:42.032668Z"
    },
    "papermill": {
     "duration": 0.029832,
     "end_time": "2025-07-30T20:15:42.035263",
     "exception": false,
     "start_time": "2025-07-30T20:15:42.005431",
     "status": "completed"
    },
    "tags": []
   },
   "outputs": [],
   "source": [
    "#cp_groups_df"
   ]
  },
  {
   "cell_type": "code",
   "execution_count": 68,
   "id": "90032e27-66df-4540-9169-4e89cfbaa758",
   "metadata": {
    "execution": {
     "iopub.execute_input": "2025-07-30T20:15:42.088576Z",
     "iopub.status.busy": "2025-07-30T20:15:42.087818Z",
     "iopub.status.idle": "2025-07-30T20:15:42.101573Z",
     "shell.execute_reply": "2025-07-30T20:15:42.100670Z"
    },
    "papermill": {
     "duration": 0.041637,
     "end_time": "2025-07-30T20:15:42.103246",
     "exception": false,
     "start_time": "2025-07-30T20:15:42.061609",
     "status": "completed"
    },
    "tags": []
   },
   "outputs": [],
   "source": [
    "subgroups = ['frau1','nongerman','nongerman_male','nongerman_female']\n",
    "\n",
    "# Conditional coverage for subgroup==1\n",
    "cond_coverage = {\n",
    "    g: cp_groups_df.loc[cp_groups_df[g]==1, 'covered'].mean()\n",
    "    for g in subgroups\n",
    "}"
   ]
  },
  {
   "cell_type": "code",
   "execution_count": 69,
   "id": "1e348fb1-b9c3-45bc-ba23-f016827a7e0d",
   "metadata": {
    "execution": {
     "iopub.execute_input": "2025-07-30T20:15:42.155601Z",
     "iopub.status.busy": "2025-07-30T20:15:42.154915Z",
     "iopub.status.idle": "2025-07-30T20:15:42.163509Z",
     "shell.execute_reply": "2025-07-30T20:15:42.162603Z"
    },
    "papermill": {
     "duration": 0.036628,
     "end_time": "2025-07-30T20:15:42.165483",
     "exception": false,
     "start_time": "2025-07-30T20:15:42.128855",
     "status": "completed"
    },
    "tags": []
   },
   "outputs": [
    {
     "data": {
      "text/plain": [
       "{'frau1': 0.9079660331581075,\n",
       " 'nongerman': 0.9063605232133835,\n",
       " 'nongerman_male': 0.9243447716833288,\n",
       " 'nongerman_female': 0.876602086438152}"
      ]
     },
     "execution_count": 69,
     "metadata": {},
     "output_type": "execute_result"
    }
   ],
   "source": [
    "cond_coverage"
   ]
  },
  {
   "cell_type": "code",
   "execution_count": 70,
   "id": "f5093324-c3dd-4d63-bc4c-8d945e5c8bbb",
   "metadata": {
    "execution": {
     "iopub.execute_input": "2025-07-30T20:15:42.221818Z",
     "iopub.status.busy": "2025-07-30T20:15:42.221166Z",
     "iopub.status.idle": "2025-07-30T20:15:42.228606Z",
     "shell.execute_reply": "2025-07-30T20:15:42.227638Z"
    },
    "papermill": {
     "duration": 0.039013,
     "end_time": "2025-07-30T20:15:42.230629",
     "exception": false,
     "start_time": "2025-07-30T20:15:42.191616",
     "status": "completed"
    },
    "tags": []
   },
   "outputs": [],
   "source": [
    "for subgroup, cov in cond_coverage.items():\n",
    "    cp_metrics_df[f\"cov_{subgroup}\"] = cov"
   ]
  },
  {
   "cell_type": "code",
   "execution_count": 71,
   "id": "6e872e10-dbe5-49e8-b554-5030c98ff75d",
   "metadata": {
    "execution": {
     "iopub.execute_input": "2025-07-30T20:15:42.287177Z",
     "iopub.status.busy": "2025-07-30T20:15:42.286554Z",
     "iopub.status.idle": "2025-07-30T20:15:42.308456Z",
     "shell.execute_reply": "2025-07-30T20:15:42.307389Z"
    },
    "papermill": {
     "duration": 0.051608,
     "end_time": "2025-07-30T20:15:42.310186",
     "exception": false,
     "start_time": "2025-07-30T20:15:42.258578",
     "status": "completed"
    },
    "tags": []
   },
   "outputs": [
    {
     "data": {
      "text/html": [
       "<div>\n",
       "<style scoped>\n",
       "    .dataframe tbody tr th:only-of-type {\n",
       "        vertical-align: middle;\n",
       "    }\n",
       "\n",
       "    .dataframe tbody tr th {\n",
       "        vertical-align: top;\n",
       "    }\n",
       "\n",
       "    .dataframe thead th {\n",
       "        text-align: right;\n",
       "    }\n",
       "</style>\n",
       "<table border=\"1\" class=\"dataframe\">\n",
       "  <thead>\n",
       "    <tr style=\"text-align: right;\">\n",
       "      <th></th>\n",
       "      <th>universe_id</th>\n",
       "      <th>universe_training_year</th>\n",
       "      <th>universe_training_size</th>\n",
       "      <th>universe_scale</th>\n",
       "      <th>universe_model</th>\n",
       "      <th>universe_exclude_features</th>\n",
       "      <th>universe_exclude_subgroups</th>\n",
       "      <th>q_hat</th>\n",
       "      <th>coverage</th>\n",
       "      <th>avg_size</th>\n",
       "      <th>cov_frau1</th>\n",
       "      <th>cov_nongerman</th>\n",
       "      <th>cov_nongerman_male</th>\n",
       "      <th>cov_nongerman_female</th>\n",
       "    </tr>\n",
       "  </thead>\n",
       "  <tbody>\n",
       "    <tr>\n",
       "      <th>0</th>\n",
       "      <td>6048978b4c26c3762b9d514c66dd24e6</td>\n",
       "      <td>2012_14</td>\n",
       "      <td>25k</td>\n",
       "      <td>scale</td>\n",
       "      <td>elasticnet</td>\n",
       "      <td>age</td>\n",
       "      <td>drop-non-german</td>\n",
       "      <td>0.668482</td>\n",
       "      <td>0.910991</td>\n",
       "      <td>1.126385</td>\n",
       "      <td>0.907966</td>\n",
       "      <td>0.906361</td>\n",
       "      <td>0.924345</td>\n",
       "      <td>0.876602</td>\n",
       "    </tr>\n",
       "  </tbody>\n",
       "</table>\n",
       "</div>"
      ],
      "text/plain": [
       "                        universe_id universe_training_year  \\\n",
       "0  6048978b4c26c3762b9d514c66dd24e6                2012_14   \n",
       "\n",
       "  universe_training_size universe_scale universe_model  \\\n",
       "0                    25k          scale     elasticnet   \n",
       "\n",
       "  universe_exclude_features universe_exclude_subgroups     q_hat  coverage  \\\n",
       "0                       age            drop-non-german  0.668482  0.910991   \n",
       "\n",
       "   avg_size  cov_frau1  cov_nongerman  cov_nongerman_male  \\\n",
       "0  1.126385   0.907966       0.906361            0.924345   \n",
       "\n",
       "   cov_nongerman_female  \n",
       "0              0.876602  "
      ]
     },
     "execution_count": 71,
     "metadata": {},
     "output_type": "execute_result"
    }
   ],
   "source": [
    "cp_metrics_df"
   ]
  },
  {
   "cell_type": "markdown",
   "id": "33774451",
   "metadata": {
    "papermill": {
     "duration": 0.027029,
     "end_time": "2025-07-30T20:15:42.364614",
     "exception": false,
     "start_time": "2025-07-30T20:15:42.337585",
     "status": "completed"
    },
    "tags": []
   },
   "source": [
    "# (Fairness) Metrics"
   ]
  },
  {
   "cell_type": "code",
   "execution_count": 72,
   "id": "debc5d62",
   "metadata": {
    "execution": {
     "iopub.execute_input": "2025-07-30T20:15:42.418875Z",
     "iopub.status.busy": "2025-07-30T20:15:42.418516Z",
     "iopub.status.idle": "2025-07-30T20:15:42.440747Z",
     "shell.execute_reply": "2025-07-30T20:15:42.439804Z"
    },
    "papermill": {
     "duration": 0.050497,
     "end_time": "2025-07-30T20:15:42.442263",
     "exception": false,
     "start_time": "2025-07-30T20:15:42.391766",
     "status": "completed"
    },
    "tags": []
   },
   "outputs": [],
   "source": [
    "# do I need to include maxdeutsch1.missing?\n",
    "\n",
    "import numpy as np\n",
    "\n",
    "colname_to_bin = \"maxdeutsch1\"\n",
    "majority_value = org_train[colname_to_bin].mode()[0]\n",
    "\n",
    "org_test[\"majmin\"] = np.where(org_test[colname_to_bin] == majority_value, \"majority\", \"minority\")"
   ]
  },
  {
   "cell_type": "code",
   "execution_count": 73,
   "id": "06a50de5",
   "metadata": {
    "execution": {
     "iopub.execute_input": "2025-07-30T20:15:42.491280Z",
     "iopub.status.busy": "2025-07-30T20:15:42.490790Z",
     "iopub.status.idle": "2025-07-30T20:15:45.388105Z",
     "shell.execute_reply": "2025-07-30T20:15:45.387151Z"
    },
    "papermill": {
     "duration": 2.92649,
     "end_time": "2025-07-30T20:15:45.389984",
     "exception": false,
     "start_time": "2025-07-30T20:15:42.463494",
     "status": "completed"
    },
    "tags": []
   },
   "outputs": [],
   "source": [
    "example_universe = universe.copy()\n",
    "example_universe[\"cutoff\"] = example_universe[\"cutoff\"][0]\n",
    "example_universe[\"eval_fairness_grouping\"] = example_universe[\"eval_fairness_grouping\"][0]\n",
    "fairness_dict, metric_frame = universe_analysis.compute_metrics(\n",
    "    example_universe,\n",
    "    y_pred_prob=probs_test,\n",
    "    y_test=y_true,\n",
    "    org_test=org_test,\n",
    ")"
   ]
  },
  {
   "cell_type": "markdown",
   "id": "f95d4e02",
   "metadata": {
    "papermill": {
     "duration": 0.029986,
     "end_time": "2025-07-30T20:15:45.446971",
     "exception": false,
     "start_time": "2025-07-30T20:15:45.416985",
     "status": "completed"
    },
    "tags": []
   },
   "source": [
    "# Overall"
   ]
  },
  {
   "cell_type": "markdown",
   "id": "bdee4871",
   "metadata": {
    "papermill": {
     "duration": 0.027817,
     "end_time": "2025-07-30T20:15:45.501000",
     "exception": false,
     "start_time": "2025-07-30T20:15:45.473183",
     "status": "completed"
    },
    "tags": []
   },
   "source": [
    "Fairness\n",
    "Main fairness target: Equalized Odds. Seems to be a better fit than equal opportunity, since we're not only interested in Y = 1. Seems to be a better fit than demographic parity, since we also care about accuracy, not just equal distribution of preds.\n",
    "\n",
    "Pick column for computation of fairness metrics\n",
    "\n",
    "Performance\n",
    "Overall performance measures, most interesting in relation to the measures split by group below"
   ]
  },
  {
   "cell_type": "code",
   "execution_count": 74,
   "id": "c4e067c6",
   "metadata": {
    "execution": {
     "iopub.execute_input": "2025-07-30T20:15:45.558947Z",
     "iopub.status.busy": "2025-07-30T20:15:45.558302Z",
     "iopub.status.idle": "2025-07-30T20:15:45.568083Z",
     "shell.execute_reply": "2025-07-30T20:15:45.567080Z"
    },
    "papermill": {
     "duration": 0.041883,
     "end_time": "2025-07-30T20:15:45.569752",
     "exception": false,
     "start_time": "2025-07-30T20:15:45.527869",
     "status": "completed"
    },
    "tags": []
   },
   "outputs": [
    {
     "data": {
      "text/plain": [
       "accuracy                   0.224936\n",
       "balanced accuracy          0.549882\n",
       "f1                         0.246252\n",
       "precision                  0.140676\n",
       "false positive rate        0.887202\n",
       "false negative rate        0.013034\n",
       "selection rate             0.900000\n",
       "count                  89710.000000\n",
       "dtype: float64"
      ]
     },
     "execution_count": 74,
     "metadata": {},
     "output_type": "execute_result"
    }
   ],
   "source": [
    "metric_frame.overall"
   ]
  },
  {
   "cell_type": "markdown",
   "id": "e968fe9d",
   "metadata": {
    "papermill": {
     "duration": 0.027837,
     "end_time": "2025-07-30T20:15:45.624652",
     "exception": false,
     "start_time": "2025-07-30T20:15:45.596815",
     "status": "completed"
    },
    "tags": []
   },
   "source": [
    "By Group"
   ]
  },
  {
   "cell_type": "code",
   "execution_count": 75,
   "id": "ec325bce",
   "metadata": {
    "execution": {
     "iopub.execute_input": "2025-07-30T20:15:45.678380Z",
     "iopub.status.busy": "2025-07-30T20:15:45.677733Z",
     "iopub.status.idle": "2025-07-30T20:15:45.693185Z",
     "shell.execute_reply": "2025-07-30T20:15:45.692262Z"
    },
    "papermill": {
     "duration": 0.044002,
     "end_time": "2025-07-30T20:15:45.694999",
     "exception": false,
     "start_time": "2025-07-30T20:15:45.650997",
     "status": "completed"
    },
    "tags": []
   },
   "outputs": [
    {
     "data": {
      "text/html": [
       "<div>\n",
       "<style scoped>\n",
       "    .dataframe tbody tr th:only-of-type {\n",
       "        vertical-align: middle;\n",
       "    }\n",
       "\n",
       "    .dataframe tbody tr th {\n",
       "        vertical-align: top;\n",
       "    }\n",
       "\n",
       "    .dataframe thead th {\n",
       "        text-align: right;\n",
       "    }\n",
       "</style>\n",
       "<table border=\"1\" class=\"dataframe\">\n",
       "  <thead>\n",
       "    <tr style=\"text-align: right;\">\n",
       "      <th></th>\n",
       "      <th>accuracy</th>\n",
       "      <th>balanced accuracy</th>\n",
       "      <th>f1</th>\n",
       "      <th>precision</th>\n",
       "      <th>false positive rate</th>\n",
       "      <th>false negative rate</th>\n",
       "      <th>selection rate</th>\n",
       "      <th>count</th>\n",
       "    </tr>\n",
       "    <tr>\n",
       "      <th>majmin</th>\n",
       "      <th></th>\n",
       "      <th></th>\n",
       "      <th></th>\n",
       "      <th></th>\n",
       "      <th></th>\n",
       "      <th></th>\n",
       "      <th></th>\n",
       "      <th></th>\n",
       "    </tr>\n",
       "  </thead>\n",
       "  <tbody>\n",
       "    <tr>\n",
       "      <th>majority</th>\n",
       "      <td>0.245511</td>\n",
       "      <td>0.559428</td>\n",
       "      <td>0.256729</td>\n",
       "      <td>0.147575</td>\n",
       "      <td>0.867250</td>\n",
       "      <td>0.013895</td>\n",
       "      <td>0.882955</td>\n",
       "      <td>69170.0</td>\n",
       "    </tr>\n",
       "    <tr>\n",
       "      <th>minority</th>\n",
       "      <td>0.155648</td>\n",
       "      <td>0.518586</td>\n",
       "      <td>0.212863</td>\n",
       "      <td>0.119247</td>\n",
       "      <td>0.953115</td>\n",
       "      <td>0.009713</td>\n",
       "      <td>0.957400</td>\n",
       "      <td>20540.0</td>\n",
       "    </tr>\n",
       "  </tbody>\n",
       "</table>\n",
       "</div>"
      ],
      "text/plain": [
       "          accuracy  balanced accuracy        f1  precision  \\\n",
       "majmin                                                       \n",
       "majority  0.245511           0.559428  0.256729   0.147575   \n",
       "minority  0.155648           0.518586  0.212863   0.119247   \n",
       "\n",
       "          false positive rate  false negative rate  selection rate    count  \n",
       "majmin                                                                       \n",
       "majority             0.867250             0.013895        0.882955  69170.0  \n",
       "minority             0.953115             0.009713        0.957400  20540.0  "
      ]
     },
     "execution_count": 75,
     "metadata": {},
     "output_type": "execute_result"
    }
   ],
   "source": [
    "metric_frame.by_group"
   ]
  },
  {
   "cell_type": "code",
   "execution_count": 76,
   "id": "a9ddbe63",
   "metadata": {
    "execution": {
     "iopub.execute_input": "2025-07-30T20:15:45.734496Z",
     "iopub.status.busy": "2025-07-30T20:15:45.734100Z",
     "iopub.status.idle": "2025-07-30T20:15:48.015651Z",
     "shell.execute_reply": "2025-07-30T20:15:48.014619Z"
    },
    "papermill": {
     "duration": 2.298432,
     "end_time": "2025-07-30T20:15:48.017370",
     "exception": false,
     "start_time": "2025-07-30T20:15:45.718938",
     "status": "completed"
    },
    "tags": []
   },
   "outputs": [
    {
     "data": {
      "text/plain": [
       "array([[<Axes: title={'center': 'accuracy'}, xlabel='majmin'>,\n",
       "        <Axes: title={'center': 'balanced accuracy'}, xlabel='majmin'>,\n",
       "        <Axes: title={'center': 'f1'}, xlabel='majmin'>],\n",
       "       [<Axes: title={'center': 'precision'}, xlabel='majmin'>,\n",
       "        <Axes: title={'center': 'false positive rate'}, xlabel='majmin'>,\n",
       "        <Axes: title={'center': 'false negative rate'}, xlabel='majmin'>],\n",
       "       [<Axes: title={'center': 'selection rate'}, xlabel='majmin'>,\n",
       "        <Axes: title={'center': 'count'}, xlabel='majmin'>,\n",
       "        <Axes: xlabel='majmin'>]], dtype=object)"
      ]
     },
     "execution_count": 76,
     "metadata": {},
     "output_type": "execute_result"
    },
    {
     "data": {
      "image/png": "[encoded data removed]",
      "text/plain": [
       "<Figure size 1200x800 with 9 Axes>"
      ]
     },
     "metadata": {},
     "output_type": "display_data"
    }
   ],
   "source": [
    "# In a graphic\n",
    "metric_frame.by_group.plot.bar(\n",
    "    subplots=True,\n",
    "    layout=[3, 3],\n",
    "    legend=False,\n",
    "    figsize=[12, 8],\n",
    "    title=\"Show all metrics\",\n",
    ")"
   ]
  },
  {
   "cell_type": "markdown",
   "id": "f57a0bac",
   "metadata": {
    "papermill": {
     "duration": 0.029421,
     "end_time": "2025-07-30T20:15:48.079136",
     "exception": false,
     "start_time": "2025-07-30T20:15:48.049715",
     "status": "completed"
    },
    "tags": []
   },
   "source": [
    "# Final Output"
   ]
  },
  {
   "cell_type": "code",
   "execution_count": 77,
   "id": "96d280a3",
   "metadata": {
    "execution": {
     "iopub.execute_input": "2025-07-30T20:15:48.174508Z",
     "iopub.status.busy": "2025-07-30T20:15:48.173873Z",
     "iopub.status.idle": "2025-07-30T20:15:48.181879Z",
     "shell.execute_reply": "2025-07-30T20:15:48.180853Z"
    },
    "papermill": {
     "duration": 0.04326,
     "end_time": "2025-07-30T20:15:48.183511",
     "exception": false,
     "start_time": "2025-07-30T20:15:48.140251",
     "status": "completed"
    },
    "tags": []
   },
   "outputs": [
    {
     "data": {
      "text/plain": [
       "4"
      ]
     },
     "execution_count": 77,
     "metadata": {},
     "output_type": "execute_result"
    }
   ],
   "source": [
    "sub_universes = universe_analysis.generate_sub_universes()\n",
    "len(sub_universes)"
   ]
  },
  {
   "cell_type": "code",
   "execution_count": 78,
   "id": "92adf7ba",
   "metadata": {
    "execution": {
     "iopub.execute_input": "2025-07-30T20:15:48.233847Z",
     "iopub.status.busy": "2025-07-30T20:15:48.233289Z",
     "iopub.status.idle": "2025-07-30T20:15:48.240400Z",
     "shell.execute_reply": "2025-07-30T20:15:48.239174Z"
    },
    "papermill": {
     "duration": 0.043383,
     "end_time": "2025-07-30T20:15:48.242001",
     "exception": false,
     "start_time": "2025-07-30T20:15:48.198618",
     "status": "completed"
    },
    "tags": []
   },
   "outputs": [],
   "source": [
    "def filter_sub_universe_data(sub_universe, org_test):\n",
    "    # Keep all rows — no filtering\n",
    "    keep_rows_mask = np.ones(org_test.shape[0], dtype=bool)\n",
    "\n",
    "    print(f\"[INFO] Keeping all rows: {keep_rows_mask.sum()} rows retained.\")\n",
    "    return keep_rows_mask"
   ]
  },
  {
   "cell_type": "code",
   "execution_count": 79,
   "id": "4a759155",
   "metadata": {
    "execution": {
     "iopub.execute_input": "2025-07-30T20:15:48.305155Z",
     "iopub.status.busy": "2025-07-30T20:15:48.304817Z",
     "iopub.status.idle": "2025-07-30T20:15:56.855437Z",
     "shell.execute_reply": "2025-07-30T20:15:56.854617Z"
    },
    "papermill": {
     "duration": 8.58172,
     "end_time": "2025-07-30T20:15:56.856742",
     "exception": false,
     "start_time": "2025-07-30T20:15:48.275022",
     "status": "completed"
    },
    "tags": []
   },
   "outputs": [
    {
     "name": "stdout",
     "output_type": "stream",
     "text": [
      "Stopping execution_time clock.\n",
      "[INFO] Keeping all rows: 89710 rows retained.\n"
     ]
    },
    {
     "name": "stdout",
     "output_type": "stream",
     "text": [
      "[INFO] Keeping all rows: 89710 rows retained.\n"
     ]
    },
    {
     "name": "stdout",
     "output_type": "stream",
     "text": [
      "[INFO] Keeping all rows: 89710 rows retained.\n"
     ]
    },
    {
     "name": "stdout",
     "output_type": "stream",
     "text": [
      "[INFO] Keeping all rows: 89710 rows retained.\n"
     ]
    },
    {
     "data": {
      "text/html": [
       "<div>\n",
       "<style scoped>\n",
       "    .dataframe tbody tr th:only-of-type {\n",
       "        vertical-align: middle;\n",
       "    }\n",
       "\n",
       "    .dataframe tbody tr th {\n",
       "        vertical-align: top;\n",
       "    }\n",
       "\n",
       "    .dataframe thead th {\n",
       "        text-align: right;\n",
       "    }\n",
       "</style>\n",
       "<table border=\"1\" class=\"dataframe\">\n",
       "  <thead>\n",
       "    <tr style=\"text-align: right;\">\n",
       "      <th></th>\n",
       "      <th>run_no</th>\n",
       "      <th>universe_id</th>\n",
       "      <th>universe_settings</th>\n",
       "      <th>execution_time</th>\n",
       "      <th>test_size_n</th>\n",
       "      <th>test_size_frac</th>\n",
       "      <th>fair_main_equalized_odds_difference</th>\n",
       "      <th>fair_main_equalized_odds_ratio</th>\n",
       "      <th>fair_main_demographic_parity_difference</th>\n",
       "      <th>fair_main_demographic_parity_ratio</th>\n",
       "      <th>...</th>\n",
       "      <th>perf_grp_precision_0</th>\n",
       "      <th>perf_grp_precision_1</th>\n",
       "      <th>perf_grp_false positive rate_0</th>\n",
       "      <th>perf_grp_false positive rate_1</th>\n",
       "      <th>perf_grp_false negative rate_0</th>\n",
       "      <th>perf_grp_false negative rate_1</th>\n",
       "      <th>perf_grp_selection rate_0</th>\n",
       "      <th>perf_grp_selection rate_1</th>\n",
       "      <th>perf_grp_count_0</th>\n",
       "      <th>perf_grp_count_1</th>\n",
       "    </tr>\n",
       "  </thead>\n",
       "  <tbody>\n",
       "    <tr>\n",
       "      <th>0</th>\n",
       "      <td>14</td>\n",
       "      <td>6048978b4c26c3762b9d514c66dd24e6</td>\n",
       "      <td>{\"cutoff\": \"quantile_0.1\", \"eval_fairness_grou...</td>\n",
       "      <td>44.293764</td>\n",
       "      <td>89710</td>\n",
       "      <td>1.0</td>\n",
       "      <td>0.085865</td>\n",
       "      <td>0.909911</td>\n",
       "      <td>0.074445</td>\n",
       "      <td>0.922242</td>\n",
       "      <td>...</td>\n",
       "      <td>NaN</td>\n",
       "      <td>NaN</td>\n",
       "      <td>NaN</td>\n",
       "      <td>NaN</td>\n",
       "      <td>NaN</td>\n",
       "      <td>NaN</td>\n",
       "      <td>NaN</td>\n",
       "      <td>NaN</td>\n",
       "      <td>NaN</td>\n",
       "      <td>NaN</td>\n",
       "    </tr>\n",
       "    <tr>\n",
       "      <th>0</th>\n",
       "      <td>14</td>\n",
       "      <td>6048978b4c26c3762b9d514c66dd24e6</td>\n",
       "      <td>{\"cutoff\": \"quantile_0.1\", \"eval_fairness_grou...</td>\n",
       "      <td>44.293764</td>\n",
       "      <td>89710</td>\n",
       "      <td>1.0</td>\n",
       "      <td>0.085865</td>\n",
       "      <td>0.909911</td>\n",
       "      <td>0.074445</td>\n",
       "      <td>0.922242</td>\n",
       "      <td>...</td>\n",
       "      <td>0.119247</td>\n",
       "      <td>0.147575</td>\n",
       "      <td>0.953115</td>\n",
       "      <td>0.867250</td>\n",
       "      <td>0.009713</td>\n",
       "      <td>0.013895</td>\n",
       "      <td>0.957400</td>\n",
       "      <td>0.882955</td>\n",
       "      <td>20540.0</td>\n",
       "      <td>69170.0</td>\n",
       "    </tr>\n",
       "    <tr>\n",
       "      <th>0</th>\n",
       "      <td>14</td>\n",
       "      <td>6048978b4c26c3762b9d514c66dd24e6</td>\n",
       "      <td>{\"cutoff\": \"quantile_0.25\", \"eval_fairness_gro...</td>\n",
       "      <td>44.293764</td>\n",
       "      <td>89710</td>\n",
       "      <td>1.0</td>\n",
       "      <td>0.148227</td>\n",
       "      <td>0.822440</td>\n",
       "      <td>0.127618</td>\n",
       "      <td>0.849576</td>\n",
       "      <td>...</td>\n",
       "      <td>NaN</td>\n",
       "      <td>NaN</td>\n",
       "      <td>NaN</td>\n",
       "      <td>NaN</td>\n",
       "      <td>NaN</td>\n",
       "      <td>NaN</td>\n",
       "      <td>NaN</td>\n",
       "      <td>NaN</td>\n",
       "      <td>NaN</td>\n",
       "      <td>NaN</td>\n",
       "    </tr>\n",
       "    <tr>\n",
       "      <th>0</th>\n",
       "      <td>14</td>\n",
       "      <td>6048978b4c26c3762b9d514c66dd24e6</td>\n",
       "      <td>{\"cutoff\": \"quantile_0.25\", \"eval_fairness_gro...</td>\n",
       "      <td>44.293764</td>\n",
       "      <td>89710</td>\n",
       "      <td>1.0</td>\n",
       "      <td>0.148227</td>\n",
       "      <td>0.822440</td>\n",
       "      <td>0.127618</td>\n",
       "      <td>0.849576</td>\n",
       "      <td>...</td>\n",
       "      <td>0.129462</td>\n",
       "      <td>0.173319</td>\n",
       "      <td>0.834801</td>\n",
       "      <td>0.686573</td>\n",
       "      <td>0.047297</td>\n",
       "      <td>0.054595</td>\n",
       "      <td>0.848393</td>\n",
       "      <td>0.720775</td>\n",
       "      <td>20540.0</td>\n",
       "      <td>69170.0</td>\n",
       "    </tr>\n",
       "  </tbody>\n",
       "</table>\n",
       "<p>4 rows × 50 columns</p>\n",
       "</div>"
      ],
      "text/plain": [
       "  run_no                       universe_id  \\\n",
       "0     14  6048978b4c26c3762b9d514c66dd24e6   \n",
       "0     14  6048978b4c26c3762b9d514c66dd24e6   \n",
       "0     14  6048978b4c26c3762b9d514c66dd24e6   \n",
       "0     14  6048978b4c26c3762b9d514c66dd24e6   \n",
       "\n",
       "                                   universe_settings  execution_time  \\\n",
       "0  {\"cutoff\": \"quantile_0.1\", \"eval_fairness_grou...       44.293764   \n",
       "0  {\"cutoff\": \"quantile_0.1\", \"eval_fairness_grou...       44.293764   \n",
       "0  {\"cutoff\": \"quantile_0.25\", \"eval_fairness_gro...       44.293764   \n",
       "0  {\"cutoff\": \"quantile_0.25\", \"eval_fairness_gro...       44.293764   \n",
       "\n",
       "   test_size_n  test_size_frac  fair_main_equalized_odds_difference  \\\n",
       "0        89710             1.0                             0.085865   \n",
       "0        89710             1.0                             0.085865   \n",
       "0        89710             1.0                             0.148227   \n",
       "0        89710             1.0                             0.148227   \n",
       "\n",
       "   fair_main_equalized_odds_ratio  fair_main_demographic_parity_difference  \\\n",
       "0                        0.909911                                 0.074445   \n",
       "0                        0.909911                                 0.074445   \n",
       "0                        0.822440                                 0.127618   \n",
       "0                        0.822440                                 0.127618   \n",
       "\n",
       "   fair_main_demographic_parity_ratio  ...  perf_grp_precision_0  \\\n",
       "0                            0.922242  ...                   NaN   \n",
       "0                            0.922242  ...              0.119247   \n",
       "0                            0.849576  ...                   NaN   \n",
       "0                            0.849576  ...              0.129462   \n",
       "\n",
       "   perf_grp_precision_1  perf_grp_false positive rate_0  \\\n",
       "0                   NaN                             NaN   \n",
       "0              0.147575                        0.953115   \n",
       "0                   NaN                             NaN   \n",
       "0              0.173319                        0.834801   \n",
       "\n",
       "   perf_grp_false positive rate_1  perf_grp_false negative rate_0  \\\n",
       "0                             NaN                             NaN   \n",
       "0                        0.867250                        0.009713   \n",
       "0                             NaN                             NaN   \n",
       "0                        0.686573                        0.047297   \n",
       "\n",
       "   perf_grp_false negative rate_1  perf_grp_selection rate_0  \\\n",
       "0                             NaN                        NaN   \n",
       "0                        0.013895                   0.957400   \n",
       "0                             NaN                        NaN   \n",
       "0                        0.054595                   0.848393   \n",
       "\n",
       "   perf_grp_selection rate_1  perf_grp_count_0  perf_grp_count_1  \n",
       "0                        NaN               NaN               NaN  \n",
       "0                   0.882955           20540.0           69170.0  \n",
       "0                        NaN               NaN               NaN  \n",
       "0                   0.720775           20540.0           69170.0  \n",
       "\n",
       "[4 rows x 50 columns]"
      ]
     },
     "execution_count": 79,
     "metadata": {},
     "output_type": "execute_result"
    }
   ],
   "source": [
    "final_output = universe_analysis.generate_final_output(\n",
    "    y_pred_prob=probs_test,\n",
    "    y_test=y_true,\n",
    "    org_test=org_test,\n",
    "    filter_data=filter_sub_universe_data,\n",
    "    cp_metrics_df=cp_metrics_df,\n",
    "    save=True,\n",
    ")\n",
    "final_output"
   ]
  },
  {
   "cell_type": "code",
   "execution_count": null,
   "id": "721ff514-cb11-46f8-b6fc-50392f74b5cb",
   "metadata": {
    "papermill": {
     "duration": 0.018402,
     "end_time": "2025-07-30T20:15:56.895247",
     "exception": false,
     "start_time": "2025-07-30T20:15:56.876845",
     "status": "completed"
    },
    "tags": []
   },
   "outputs": [],
   "source": []
  }
 ],
 "metadata": {
  "celltoolbar": "Tags",
  "kernelspec": {
   "display_name": "Python (CMA Fairness)",
   "language": "python",
   "name": "cma_fair_env"
  },
  "language_info": {
   "codemirror_mode": {
    "name": "ipython",
    "version": 3
   },
   "file_extension": ".py",
   "mimetype": "text/x-python",
   "name": "python",
   "nbconvert_exporter": "python",
   "pygments_lexer": "ipython3",
   "version": "3.10.12"
  },
  "papermill": {
   "default_parameters": {},
   "duration": 57.087295,
   "end_time": "2025-07-30T20:15:57.732438",
   "environment_variables": {},
   "exception": null,
   "input_path": "universe_analysis.ipynb",
   "output_path": "output/runs/14/notebooks/m_14-6048978b4c26c3762b9d514c66dd24e6.ipynb",
   "parameters": {
    "output_dir": "output",
    "run_no": "14",
    "seed": "2023",
    "universe": "{\"cutoff\": [\"quantile_0.1\", \"quantile_0.25\"], \"eval_fairness_grouping\": [\"majority-minority\", \"nationality-all\"], \"exclude_features\": \"age\", \"exclude_subgroups\": \"drop-non-german\", \"model\": \"elasticnet\", \"scale\": \"scale\", \"training_size\": \"25k\", \"training_year\": \"2012_14\"}",
    "universe_id": "6048978b4c26c3762b9d514c66dd24e6"
   },
   "start_time": "2025-07-30T20:15:00.645143",
   "version": "2.6.0"
  }
 },
 "nbformat": 4,
 "nbformat_minor": 5
}