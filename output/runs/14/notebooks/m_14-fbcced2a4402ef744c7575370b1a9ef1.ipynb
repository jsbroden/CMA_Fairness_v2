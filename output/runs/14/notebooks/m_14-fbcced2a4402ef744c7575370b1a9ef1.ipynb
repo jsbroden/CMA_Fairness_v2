{
 "cells": [
  {
   "cell_type": "code",
   "execution_count": 1,
   "id": "f159f837-637b-42ba-96b5-ec9a68c44524",
   "metadata": {
    "execution": {
     "iopub.execute_input": "2025-07-30T21:00:54.342981Z",
     "iopub.status.busy": "2025-07-30T21:00:54.342526Z",
     "iopub.status.idle": "2025-07-30T21:00:54.355647Z",
     "shell.execute_reply": "2025-07-30T21:00:54.354759Z"
    },
    "papermill": {
     "duration": 0.036362,
     "end_time": "2025-07-30T21:00:54.357477",
     "exception": false,
     "start_time": "2025-07-30T21:00:54.321115",
     "status": "completed"
    },
    "tags": []
   },
   "outputs": [
    {
     "name": "stdout",
     "output_type": "stream",
     "text": [
      "/dss/dsshome1/0C/ra93lal2/cma/CMA_Fairness_v2\n"
     ]
    },
    {
     "name": "stderr",
     "output_type": "stream",
     "text": [
      "/dss/dsshome1/0C/ra93lal2/.local/share/virtualenvs/CMA_Fairness_v2-3j10GkSs/lib/python3.10/site-packages/IPython/core/magics/osm.py:393: UserWarning: This is now an optional IPython functionality, using bookmarks requires you to install the `pickleshare` library.\n",
      "  bkms = self.shell.db.get('bookmarks', {})\n",
      "/dss/dsshome1/0C/ra93lal2/.local/share/virtualenvs/CMA_Fairness_v2-3j10GkSs/lib/python3.10/site-packages/IPython/core/magics/osm.py:417: UserWarning: This is now an optional IPython functionality, setting dhist requires you to install the `pickleshare` library.\n",
      "  self.shell.db['dhist'] = compress_dhist(dhist)[-100:]\n"
     ]
    }
   ],
   "source": [
    "%cd ~/cma/CMA_Fairness_v2"
   ]
  },
  {
   "cell_type": "markdown",
   "id": "de2603b9",
   "metadata": {
    "papermill": {
     "duration": 0.020192,
     "end_time": "2025-07-30T21:00:54.398498",
     "exception": false,
     "start_time": "2025-07-30T21:00:54.378306",
     "status": "completed"
    },
    "tags": []
   },
   "source": [
    "The following cell holds the definition of our parameters, these values can be overriden by rendering the with e.g. the following command:\n",
    "\n",
    "papermill -p alpha 0.2 -p ratio 0.3 universe_analysis.ipynb output/test_run.ipynb"
   ]
  },
  {
   "cell_type": "code",
   "execution_count": 2,
   "id": "a80968a0-40bb-4fa9-85ef-2d5eefb01975",
   "metadata": {
    "execution": {
     "iopub.execute_input": "2025-07-30T21:00:54.440605Z",
     "iopub.status.busy": "2025-07-30T21:00:54.439898Z",
     "iopub.status.idle": "2025-07-30T21:00:54.445749Z",
     "shell.execute_reply": "2025-07-30T21:00:54.444784Z"
    },
    "papermill": {
     "duration": 0.028723,
     "end_time": "2025-07-30T21:00:54.447433",
     "exception": false,
     "start_time": "2025-07-30T21:00:54.418710",
     "status": "completed"
    },
    "tags": []
   },
   "outputs": [
    {
     "name": "stdout",
     "output_type": "stream",
     "text": [
      "Current working directory: /dss/dsshome1/0C/ra93lal2/cma/CMA_Fairness_v2\n"
     ]
    }
   ],
   "source": [
    "import os\n",
    "print(\"Current working directory:\", os.getcwd())"
   ]
  },
  {
   "cell_type": "code",
   "execution_count": 3,
   "id": "2dce4c03",
   "metadata": {
    "execution": {
     "iopub.execute_input": "2025-07-30T21:00:54.490614Z",
     "iopub.status.busy": "2025-07-30T21:00:54.489989Z",
     "iopub.status.idle": "2025-07-30T21:00:54.496303Z",
     "shell.execute_reply": "2025-07-30T21:00:54.495302Z"
    },
    "papermill": {
     "duration": 0.029333,
     "end_time": "2025-07-30T21:00:54.498025",
     "exception": false,
     "start_time": "2025-07-30T21:00:54.468692",
     "status": "completed"
    },
    "tags": [
     "parameters"
    ]
   },
   "outputs": [],
   "source": [
    "run_no = 0\n",
    "universe_id = \"test\"\n",
    "universe = {\n",
    "    \"training_size\": \"25k\", # \"25k\", \"5k\", \"1k\"\n",
    "    \"training_year\": \"2014\", # \"2014\", \"2012_14\", \"2010_14\"\n",
    "    \"scale\": \"scale\", # \"scale\", \"do-not-scale\",\n",
    "    #\"stratify_split\": \"target\", # \"none\", \"target\", \"protected-attribute\", \"both\",\n",
    "    \"model\": \"elasticnet\", # \"logreg\", \"penalized_logreg\", \"rf\", \"gbm\", \"elasticnet\"\n",
    "    \"cutoff\": [\"quantile_0.15\", \"quantile_0.30\"],\n",
    "    \"exclude_features\": \"age\", # \"none\", \"nationality\", \"sex\", \"nationality-sex\", \"age\"\n",
    "    \"exclude_subgroups\": \"keep-all\", # \"keep-all\", \"drop-non-german\"\n",
    "    \"eval_fairness_grouping\": [\"majority-minority\", \"nationality-all\"]\n",
    "}\n",
    "\n",
    "output_dir=\"./output\"\n",
    "seed=0"
   ]
  },
  {
   "cell_type": "code",
   "execution_count": 4,
   "id": "ba04ff0d",
   "metadata": {
    "execution": {
     "iopub.execute_input": "2025-07-30T21:00:54.541227Z",
     "iopub.status.busy": "2025-07-30T21:00:54.540499Z",
     "iopub.status.idle": "2025-07-30T21:00:54.546086Z",
     "shell.execute_reply": "2025-07-30T21:00:54.545097Z"
    },
    "papermill": {
     "duration": 0.028708,
     "end_time": "2025-07-30T21:00:54.547827",
     "exception": false,
     "start_time": "2025-07-30T21:00:54.519119",
     "status": "completed"
    },
    "tags": [
     "injected-parameters"
    ]
   },
   "outputs": [],
   "source": [
    "# Parameters\n",
    "universe_id = \"fbcced2a4402ef744c7575370b1a9ef1\"\n",
    "run_no = \"14\"\n",
    "universe = \"{\\\"cutoff\\\": [\\\"quantile_0.1\\\", \\\"quantile_0.25\\\"], \\\"eval_fairness_grouping\\\": [\\\"majority-minority\\\", \\\"nationality-all\\\"], \\\"exclude_features\\\": \\\"nationality-sex\\\", \\\"exclude_subgroups\\\": \\\"keep-all\\\", \\\"model\\\": \\\"gbm\\\", \\\"scale\\\": \\\"scale\\\", \\\"training_size\\\": \\\"5k\\\", \\\"training_year\\\": \\\"2012_14\\\"}\"\n",
    "output_dir = \"output\"\n",
    "seed = \"2023\"\n"
   ]
  },
  {
   "cell_type": "code",
   "execution_count": 5,
   "id": "1650acaf",
   "metadata": {
    "execution": {
     "iopub.execute_input": "2025-07-30T21:00:54.591312Z",
     "iopub.status.busy": "2025-07-30T21:00:54.590597Z",
     "iopub.status.idle": "2025-07-30T21:00:54.595969Z",
     "shell.execute_reply": "2025-07-30T21:00:54.595120Z"
    },
    "papermill": {
     "duration": 0.02878,
     "end_time": "2025-07-30T21:00:54.597709",
     "exception": false,
     "start_time": "2025-07-30T21:00:54.568929",
     "status": "completed"
    },
    "tags": []
   },
   "outputs": [],
   "source": [
    "import json\n",
    "# Parse universe into dict if it is passed as a string\n",
    "if isinstance(universe, str):\n",
    "    universe = json.loads(universe)"
   ]
  },
  {
   "cell_type": "code",
   "execution_count": 6,
   "id": "16620c48",
   "metadata": {
    "execution": {
     "iopub.execute_input": "2025-07-30T21:00:54.640923Z",
     "iopub.status.busy": "2025-07-30T21:00:54.640198Z",
     "iopub.status.idle": "2025-07-30T21:00:54.685741Z",
     "shell.execute_reply": "2025-07-30T21:00:54.684773Z"
    },
    "papermill": {
     "duration": 0.068478,
     "end_time": "2025-07-30T21:00:54.687662",
     "exception": false,
     "start_time": "2025-07-30T21:00:54.619184",
     "status": "completed"
    },
    "tags": []
   },
   "outputs": [],
   "source": [
    "# Auto-reload the custom package\n",
    "%load_ext autoreload\n",
    "%autoreload 1\n",
    "%aimport fairness_multiverse"
   ]
  },
  {
   "cell_type": "code",
   "execution_count": 7,
   "id": "01c5c9f3",
   "metadata": {
    "execution": {
     "iopub.execute_input": "2025-07-30T21:00:54.729977Z",
     "iopub.status.busy": "2025-07-30T21:00:54.729302Z",
     "iopub.status.idle": "2025-07-30T21:00:56.783693Z",
     "shell.execute_reply": "2025-07-30T21:00:56.782698Z"
    },
    "papermill": {
     "duration": 2.077657,
     "end_time": "2025-07-30T21:00:56.785820",
     "exception": false,
     "start_time": "2025-07-30T21:00:54.708163",
     "status": "completed"
    },
    "tags": []
   },
   "outputs": [],
   "source": [
    "from fairness_multiverse.universe import UniverseAnalysis\n",
    "\n",
    "universe_analysis = UniverseAnalysis(\n",
    "    run_no = run_no,\n",
    "    universe_id = universe_id,\n",
    "    universe = universe,\n",
    "    output_dir=output_dir,\n",
    ")"
   ]
  },
  {
   "cell_type": "code",
   "execution_count": 8,
   "id": "106241f5",
   "metadata": {
    "execution": {
     "iopub.execute_input": "2025-07-30T21:00:56.829756Z",
     "iopub.status.busy": "2025-07-30T21:00:56.829237Z",
     "iopub.status.idle": "2025-07-30T21:00:56.836315Z",
     "shell.execute_reply": "2025-07-30T21:00:56.835324Z"
    },
    "papermill": {
     "duration": 0.030538,
     "end_time": "2025-07-30T21:00:56.837915",
     "exception": false,
     "start_time": "2025-07-30T21:00:56.807377",
     "status": "completed"
    },
    "tags": []
   },
   "outputs": [
    {
     "name": "stdout",
     "output_type": "stream",
     "text": [
      "Using Seed: 2023\n"
     ]
    }
   ],
   "source": [
    "import numpy as np\n",
    "parsed_seed = int(seed)\n",
    "np.random.seed(parsed_seed)\n",
    "print(f\"Using Seed: {parsed_seed}\")"
   ]
  },
  {
   "cell_type": "markdown",
   "id": "e0ebdc57",
   "metadata": {
    "papermill": {
     "duration": 0.020815,
     "end_time": "2025-07-30T21:00:56.878317",
     "exception": false,
     "start_time": "2025-07-30T21:00:56.857502",
     "status": "completed"
    },
    "tags": []
   },
   "source": [
    "# Loading Data"
   ]
  },
  {
   "cell_type": "markdown",
   "id": "681925a3",
   "metadata": {
    "papermill": {
     "duration": 0.019383,
     "end_time": "2025-07-30T21:00:56.916802",
     "exception": false,
     "start_time": "2025-07-30T21:00:56.897419",
     "status": "completed"
    },
    "tags": []
   },
   "source": [
    "Load siab_train, siab_test, siab_calib and/or \n",
    "load siab_train_features, siab_train_labels"
   ]
  },
  {
   "cell_type": "code",
   "execution_count": 9,
   "id": "f0496b8a",
   "metadata": {
    "execution": {
     "iopub.execute_input": "2025-07-30T21:00:56.957705Z",
     "iopub.status.busy": "2025-07-30T21:00:56.957212Z",
     "iopub.status.idle": "2025-07-30T21:01:08.963494Z",
     "shell.execute_reply": "2025-07-30T21:01:08.962141Z"
    },
    "papermill": {
     "duration": 12.028718,
     "end_time": "2025-07-30T21:01:08.965465",
     "exception": false,
     "start_time": "2025-07-30T21:00:56.936747",
     "status": "completed"
    },
    "tags": []
   },
   "outputs": [
    {
     "name": "stdout",
     "output_type": "stream",
     "text": [
      "Loading SIAB data from cache: data/siab_cached.csv.gz\n"
     ]
    },
    {
     "name": "stdout",
     "output_type": "stream",
     "text": [
      "(643690, 164)\n"
     ]
    }
   ],
   "source": [
    "from pathlib import Path\n",
    "import pandas as pd\n",
    "\n",
    "# File paths\n",
    "raw_file = Path(\"data/raw/siab.csv\")\n",
    "cache_file = Path(\"data/siab_cached.csv.gz\")\n",
    "\n",
    "# Ensure cache directory exists\n",
    "cache_file.parent.mkdir(parents=True, exist_ok=True)\n",
    "\n",
    "# Load with simple caching\n",
    "if cache_file.exists():\n",
    "    print(f\"Loading SIAB data from cache: {cache_file}\")\n",
    "    siab = pd.read_csv(cache_file, compression='gzip')\n",
    "else:\n",
    "    print(f\"Cache not found. Reading raw SIAB data: {raw_file}\")\n",
    "    siab = pd.read_csv(raw_file)\n",
    "    siab.to_csv(cache_file, index=False, compression='gzip')\n",
    "    print(f\"Cached SIAB data to: {cache_file}\")\n",
    "\n",
    "# Now use `siab` DataFrame as needed\n",
    "print(siab.shape)"
   ]
  },
  {
   "cell_type": "code",
   "execution_count": 10,
   "id": "db0ca512-5f53-4dba-abdb-a2888bca41ba",
   "metadata": {
    "execution": {
     "iopub.execute_input": "2025-07-30T21:01:09.009043Z",
     "iopub.status.busy": "2025-07-30T21:01:09.008518Z",
     "iopub.status.idle": "2025-07-30T21:01:09.015276Z",
     "shell.execute_reply": "2025-07-30T21:01:09.014348Z"
    },
    "papermill": {
     "duration": 0.028315,
     "end_time": "2025-07-30T21:01:09.017014",
     "exception": false,
     "start_time": "2025-07-30T21:01:08.988699",
     "status": "completed"
    },
    "tags": []
   },
   "outputs": [],
   "source": [
    "#siab"
   ]
  },
  {
   "cell_type": "code",
   "execution_count": 11,
   "id": "a0edb063",
   "metadata": {
    "execution": {
     "iopub.execute_input": "2025-07-30T21:01:09.056485Z",
     "iopub.status.busy": "2025-07-30T21:01:09.055852Z",
     "iopub.status.idle": "2025-07-30T21:01:09.060632Z",
     "shell.execute_reply": "2025-07-30T21:01:09.059723Z"
    },
    "papermill": {
     "duration": 0.026001,
     "end_time": "2025-07-30T21:01:09.062264",
     "exception": false,
     "start_time": "2025-07-30T21:01:09.036263",
     "status": "completed"
    },
    "tags": []
   },
   "outputs": [],
   "source": [
    "#import pandas as pd\n",
    "#\n",
    "#X_train = pd.read_csv(\"./data/X_train.csv\")\n",
    "#y_train = pd.read_csv(\"./data/y_train.csv\")"
   ]
  },
  {
   "cell_type": "code",
   "execution_count": 12,
   "id": "63d08085",
   "metadata": {
    "execution": {
     "iopub.execute_input": "2025-07-30T21:01:09.101976Z",
     "iopub.status.busy": "2025-07-30T21:01:09.101221Z",
     "iopub.status.idle": "2025-07-30T21:01:09.106516Z",
     "shell.execute_reply": "2025-07-30T21:01:09.105646Z"
    },
    "papermill": {
     "duration": 0.026287,
     "end_time": "2025-07-30T21:01:09.108080",
     "exception": false,
     "start_time": "2025-07-30T21:01:09.081793",
     "status": "completed"
    },
    "tags": []
   },
   "outputs": [],
   "source": [
    "#X_test = pd.read_csv(\"./data/X_test.csv\")\n",
    "#y_true = pd.read_csv(\"./data/y_test.csv\")"
   ]
  },
  {
   "cell_type": "code",
   "execution_count": 13,
   "id": "98a8d0fa-1d3d-4ed8-bb2c-281470e24add",
   "metadata": {
    "execution": {
     "iopub.execute_input": "2025-07-30T21:01:09.147625Z",
     "iopub.status.busy": "2025-07-30T21:01:09.146866Z",
     "iopub.status.idle": "2025-07-30T21:01:09.151879Z",
     "shell.execute_reply": "2025-07-30T21:01:09.150964Z"
    },
    "papermill": {
     "duration": 0.026075,
     "end_time": "2025-07-30T21:01:09.153372",
     "exception": false,
     "start_time": "2025-07-30T21:01:09.127297",
     "status": "completed"
    },
    "tags": []
   },
   "outputs": [],
   "source": [
    "# Calibration data for conformal\n",
    "#X_calib = pd.read_csv(\"./data/X_calib.csv\")\n",
    "#y_calib = pd.read_csv(\"./data/y_calib.csv\")"
   ]
  },
  {
   "cell_type": "markdown",
   "id": "997051c5-15bd-4b69-9786-c3001a3ce484",
   "metadata": {
    "papermill": {
     "duration": 0.01894,
     "end_time": "2025-07-30T21:01:09.192630",
     "exception": false,
     "start_time": "2025-07-30T21:01:09.173690",
     "status": "completed"
    },
    "tags": []
   },
   "source": [
    "# Splitting Data and Setting Training Data Size"
   ]
  },
  {
   "cell_type": "code",
   "execution_count": 14,
   "id": "e993b61f-042d-41a6-8c81-f55681f86335",
   "metadata": {
    "execution": {
     "iopub.execute_input": "2025-07-30T21:01:09.235002Z",
     "iopub.status.busy": "2025-07-30T21:01:09.234075Z",
     "iopub.status.idle": "2025-07-30T21:01:09.247123Z",
     "shell.execute_reply": "2025-07-30T21:01:09.246201Z"
    },
    "papermill": {
     "duration": 0.036212,
     "end_time": "2025-07-30T21:01:09.248647",
     "exception": false,
     "start_time": "2025-07-30T21:01:09.212435",
     "status": "completed"
    },
    "tags": []
   },
   "outputs": [],
   "source": [
    "def sample_by_year_size(df,\n",
    "                        training_year: str,\n",
    "                        training_size: str,\n",
    "                        random_state: int = 42):\n",
    "    # --- parse training_year into a list of int years ---\n",
    "    if \"_\" in training_year:\n",
    "        start_str, end_str = training_year.split(\"_\", 1)\n",
    "        start = int(start_str)\n",
    "        end   = int(end_str) if len(end_str) == 4 else (int(end_str) + (start // 100)*100)\n",
    "        years = list(range(start, end + 1))\n",
    "    else:\n",
    "        years = [int(training_year)]\n",
    "\n",
    "    df = df[df[\"year\"].isin(years)].reset_index(drop=True)\n",
    "\n",
    "    # --- map training_size to total number of samples ---\n",
    "    total_map = {\"25k\": 25_000, \"5k\": 5_000, \"1k\": 1_000}\n",
    "    if training_size not in total_map:\n",
    "        return df  # e.g. \"all\"\n",
    "\n",
    "    total_samples = total_map[training_size]\n",
    "    n_years       = len(years)\n",
    "    base          = total_samples // n_years\n",
    "    remainder     = total_samples % n_years\n",
    "\n",
    "    # --- build a dict: year -> how many to sample ---\n",
    "    # give +1 to the first `remainder` years in ascending order\n",
    "    quotas = {\n",
    "        year: base + (1 if idx < remainder else 0)\n",
    "        for idx, year in enumerate(sorted(years))\n",
    "    }\n",
    "\n",
    "    # --- sample per‐year according to the quota dict ---\n",
    "    sampled = (\n",
    "        df\n",
    "        .groupby(\"year\", group_keys=False)\n",
    "        .apply(lambda grp: grp.sample(\n",
    "            n=min(len(grp), quotas[grp.name]),\n",
    "            random_state=random_state))\n",
    "        .reset_index(drop=True)\n",
    "    )\n",
    "\n",
    "    return sampled"
   ]
  },
  {
   "cell_type": "code",
   "execution_count": 15,
   "id": "c0ccd338-0e02-41f3-a09d-f56f9266e3fb",
   "metadata": {
    "execution": {
     "iopub.execute_input": "2025-07-30T21:01:09.289143Z",
     "iopub.status.busy": "2025-07-30T21:01:09.288422Z",
     "iopub.status.idle": "2025-07-30T21:01:09.293317Z",
     "shell.execute_reply": "2025-07-30T21:01:09.292434Z"
    },
    "papermill": {
     "duration": 0.026306,
     "end_time": "2025-07-30T21:01:09.294974",
     "exception": false,
     "start_time": "2025-07-30T21:01:09.268668",
     "status": "completed"
    },
    "tags": []
   },
   "outputs": [],
   "source": [
    "#universe[\"training_size\"]"
   ]
  },
  {
   "cell_type": "code",
   "execution_count": 16,
   "id": "ca707fd7-8047-4acd-bfa5-66248fbbf8e6",
   "metadata": {
    "execution": {
     "iopub.execute_input": "2025-07-30T21:01:09.335793Z",
     "iopub.status.busy": "2025-07-30T21:01:09.335304Z",
     "iopub.status.idle": "2025-07-30T21:01:09.340531Z",
     "shell.execute_reply": "2025-07-30T21:01:09.339487Z"
    },
    "papermill": {
     "duration": 0.027705,
     "end_time": "2025-07-30T21:01:09.342219",
     "exception": false,
     "start_time": "2025-07-30T21:01:09.314514",
     "status": "completed"
    },
    "tags": []
   },
   "outputs": [],
   "source": [
    "#universe[\"training_year\"]"
   ]
  },
  {
   "cell_type": "code",
   "execution_count": 17,
   "id": "aea9c6ef-6f46-42c8-85eb-5a62025c1508",
   "metadata": {
    "execution": {
     "iopub.execute_input": "2025-07-30T21:01:09.386109Z",
     "iopub.status.busy": "2025-07-30T21:01:09.385315Z",
     "iopub.status.idle": "2025-07-30T21:01:09.957652Z",
     "shell.execute_reply": "2025-07-30T21:01:09.956711Z"
    },
    "papermill": {
     "duration": 0.594928,
     "end_time": "2025-07-30T21:01:09.959617",
     "exception": false,
     "start_time": "2025-07-30T21:01:09.364689",
     "status": "completed"
    },
    "tags": []
   },
   "outputs": [],
   "source": [
    "siab_train = sample_by_year_size(siab,\n",
    "                               training_year=universe[\"training_year\"],\n",
    "                               training_size=universe[\"training_size\"])"
   ]
  },
  {
   "cell_type": "code",
   "execution_count": 18,
   "id": "8d3afb32-789d-442c-8d5d-9f5aa8dd2eed",
   "metadata": {
    "execution": {
     "iopub.execute_input": "2025-07-30T21:01:10.004943Z",
     "iopub.status.busy": "2025-07-30T21:01:10.004059Z",
     "iopub.status.idle": "2025-07-30T21:01:10.009502Z",
     "shell.execute_reply": "2025-07-30T21:01:10.008508Z"
    },
    "papermill": {
     "duration": 0.029689,
     "end_time": "2025-07-30T21:01:10.011159",
     "exception": false,
     "start_time": "2025-07-30T21:01:09.981470",
     "status": "completed"
    },
    "tags": []
   },
   "outputs": [],
   "source": [
    "#siab_train.shape"
   ]
  },
  {
   "cell_type": "code",
   "execution_count": 19,
   "id": "d582db68-1a4c-47fb-84fc-08518dc1975a",
   "metadata": {
    "execution": {
     "iopub.execute_input": "2025-07-30T21:01:10.053360Z",
     "iopub.status.busy": "2025-07-30T21:01:10.052619Z",
     "iopub.status.idle": "2025-07-30T21:01:10.057895Z",
     "shell.execute_reply": "2025-07-30T21:01:10.057029Z"
    },
    "papermill": {
     "duration": 0.027681,
     "end_time": "2025-07-30T21:01:10.059555",
     "exception": false,
     "start_time": "2025-07-30T21:01:10.031874",
     "status": "completed"
    },
    "tags": []
   },
   "outputs": [],
   "source": [
    "#display(siab_train.groupby(\"year\").size())"
   ]
  },
  {
   "cell_type": "code",
   "execution_count": 20,
   "id": "a561edb4-d032-42cb-8256-22eac1111c64",
   "metadata": {
    "execution": {
     "iopub.execute_input": "2025-07-30T21:01:10.106749Z",
     "iopub.status.busy": "2025-07-30T21:01:10.106230Z",
     "iopub.status.idle": "2025-07-30T21:01:10.373347Z",
     "shell.execute_reply": "2025-07-30T21:01:10.372305Z"
    },
    "papermill": {
     "duration": 0.291769,
     "end_time": "2025-07-30T21:01:10.375190",
     "exception": false,
     "start_time": "2025-07-30T21:01:10.083421",
     "status": "completed"
    },
    "tags": []
   },
   "outputs": [],
   "source": [
    "#siab_train = siab_s[siab_s.year < 2015]\n",
    "siab_calib = siab[siab.year == 2015]\n",
    "siab_test = siab[siab.year == 2016]"
   ]
  },
  {
   "cell_type": "code",
   "execution_count": 21,
   "id": "472de16f-c3db-4916-846b-1f0de9cf1746",
   "metadata": {
    "execution": {
     "iopub.execute_input": "2025-07-30T21:01:10.416837Z",
     "iopub.status.busy": "2025-07-30T21:01:10.416196Z",
     "iopub.status.idle": "2025-07-30T21:01:10.423879Z",
     "shell.execute_reply": "2025-07-30T21:01:10.422981Z"
    },
    "papermill": {
     "duration": 0.030063,
     "end_time": "2025-07-30T21:01:10.425562",
     "exception": false,
     "start_time": "2025-07-30T21:01:10.395499",
     "status": "completed"
    },
    "tags": []
   },
   "outputs": [],
   "source": [
    "X_train = siab_train.iloc[:,4:164]\n",
    "y_train = siab_train.iloc[:, [3]]"
   ]
  },
  {
   "cell_type": "code",
   "execution_count": 22,
   "id": "828c96af-f43a-4ed6-ba47-8ac73a47d56c",
   "metadata": {
    "execution": {
     "iopub.execute_input": "2025-07-30T21:01:10.467344Z",
     "iopub.status.busy": "2025-07-30T21:01:10.466792Z",
     "iopub.status.idle": "2025-07-30T21:01:10.519448Z",
     "shell.execute_reply": "2025-07-30T21:01:10.518511Z"
    },
    "papermill": {
     "duration": 0.074954,
     "end_time": "2025-07-30T21:01:10.521074",
     "exception": false,
     "start_time": "2025-07-30T21:01:10.446120",
     "status": "completed"
    },
    "tags": []
   },
   "outputs": [],
   "source": [
    "X_calib = siab_calib.iloc[:,4:164]\n",
    "y_calib = siab_calib.iloc[:, [3]]"
   ]
  },
  {
   "cell_type": "code",
   "execution_count": 23,
   "id": "c34be9c3-6bd6-476e-acd3-845840e303be",
   "metadata": {
    "execution": {
     "iopub.execute_input": "2025-07-30T21:01:10.563210Z",
     "iopub.status.busy": "2025-07-30T21:01:10.562712Z",
     "iopub.status.idle": "2025-07-30T21:01:10.620381Z",
     "shell.execute_reply": "2025-07-30T21:01:10.619330Z"
    },
    "papermill": {
     "duration": 0.080395,
     "end_time": "2025-07-30T21:01:10.622234",
     "exception": false,
     "start_time": "2025-07-30T21:01:10.541839",
     "status": "completed"
    },
    "tags": []
   },
   "outputs": [],
   "source": [
    "X_test = siab_test.iloc[:,4:164]\n",
    "y_true = siab_test.iloc[:, [3]]"
   ]
  },
  {
   "cell_type": "markdown",
   "id": "9901737e-04df-44f0-9100-f5ad144ed040",
   "metadata": {
    "papermill": {
     "duration": 0.021285,
     "end_time": "2025-07-30T21:01:10.665460",
     "exception": false,
     "start_time": "2025-07-30T21:01:10.644175",
     "status": "completed"
    },
    "tags": []
   },
   "source": [
    "# Splitting Data and Setting Training Data Size OLD VERSION"
   ]
  },
  {
   "cell_type": "code",
   "execution_count": 24,
   "id": "acbc8f7d-8fc8-4e86-8c59-5dcb0f58384b",
   "metadata": {
    "execution": {
     "iopub.execute_input": "2025-07-30T21:01:10.709749Z",
     "iopub.status.busy": "2025-07-30T21:01:10.709115Z",
     "iopub.status.idle": "2025-07-30T21:01:10.715783Z",
     "shell.execute_reply": "2025-07-30T21:01:10.713739Z"
    },
    "papermill": {
     "duration": 0.030794,
     "end_time": "2025-07-30T21:01:10.717425",
     "exception": false,
     "start_time": "2025-07-30T21:01:10.686631",
     "status": "completed"
    },
    "tags": []
   },
   "outputs": [],
   "source": [
    "#def sample_by_year(df, training_size, random_state=42):\n",
    "#    if training_size == \"2014\":\n",
    "#        return df[df[\"year\"] == 2014].reset_index(drop=True)\n",
    "#    \n",
    "#    size_map = {\n",
    "#        \"25k\": 5000,\n",
    "#        \"5k\": 1000,\n",
    "#        \"1k\": 200\n",
    "#    }\n",
    "#\n",
    "#    if training_size not in size_map:\n",
    "#        return df.reset_index(drop=True)  # use all data\n",
    "#\n",
    "#    n_per_year = size_map[training_size]\n",
    "#    grouped = df.groupby(\"year\")\n",
    "#    sampled = grouped.apply(lambda x: x.sample(n=min(n_per_year, len(x)), random_state=random_state))\n",
    "#    return sampled.reset_index(drop=True)"
   ]
  },
  {
   "cell_type": "code",
   "execution_count": 25,
   "id": "6d931f52-beaf-43ff-9e78-9d44a448d54e",
   "metadata": {
    "execution": {
     "iopub.execute_input": "2025-07-30T21:01:10.762395Z",
     "iopub.status.busy": "2025-07-30T21:01:10.761885Z",
     "iopub.status.idle": "2025-07-30T21:01:10.767151Z",
     "shell.execute_reply": "2025-07-30T21:01:10.766139Z"
    },
    "papermill": {
     "duration": 0.02959,
     "end_time": "2025-07-30T21:01:10.768745",
     "exception": false,
     "start_time": "2025-07-30T21:01:10.739155",
     "status": "completed"
    },
    "tags": []
   },
   "outputs": [],
   "source": [
    "#siab_s = sample_by_year(siab, universe[\"training_size\"])"
   ]
  },
  {
   "cell_type": "code",
   "execution_count": 26,
   "id": "5db0a40e-a4e2-4920-be85-b12ae061d70d",
   "metadata": {
    "execution": {
     "iopub.execute_input": "2025-07-30T21:01:10.813442Z",
     "iopub.status.busy": "2025-07-30T21:01:10.812940Z",
     "iopub.status.idle": "2025-07-30T21:01:10.818653Z",
     "shell.execute_reply": "2025-07-30T21:01:10.817355Z"
    },
    "papermill": {
     "duration": 0.029517,
     "end_time": "2025-07-30T21:01:10.820135",
     "exception": false,
     "start_time": "2025-07-30T21:01:10.790618",
     "status": "completed"
    },
    "tags": []
   },
   "outputs": [],
   "source": [
    "#display(siab_s.groupby(\"year\").size())"
   ]
  },
  {
   "cell_type": "code",
   "execution_count": 27,
   "id": "e6c733c5",
   "metadata": {
    "execution": {
     "iopub.execute_input": "2025-07-30T21:01:10.865979Z",
     "iopub.status.busy": "2025-07-30T21:01:10.865453Z",
     "iopub.status.idle": "2025-07-30T21:01:10.962704Z",
     "shell.execute_reply": "2025-07-30T21:01:10.961811Z"
    },
    "papermill": {
     "duration": 0.122144,
     "end_time": "2025-07-30T21:01:10.964663",
     "exception": false,
     "start_time": "2025-07-30T21:01:10.842519",
     "status": "completed"
    },
    "tags": []
   },
   "outputs": [],
   "source": [
    "# Auxiliary data needed downstream in the pipeline\n",
    "\n",
    "org_train = X_train.copy()\n",
    "org_test = X_test.copy()\n",
    "org_calib = X_calib.copy()"
   ]
  },
  {
   "cell_type": "code",
   "execution_count": 28,
   "id": "1466abac-c6da-4492-a62f-4240ae3783af",
   "metadata": {
    "execution": {
     "iopub.execute_input": "2025-07-30T21:01:11.007502Z",
     "iopub.status.busy": "2025-07-30T21:01:11.006522Z",
     "iopub.status.idle": "2025-07-30T21:01:11.012821Z",
     "shell.execute_reply": "2025-07-30T21:01:11.011818Z"
    },
    "papermill": {
     "duration": 0.033262,
     "end_time": "2025-07-30T21:01:11.018535",
     "exception": false,
     "start_time": "2025-07-30T21:01:10.985273",
     "status": "completed"
    },
    "tags": []
   },
   "outputs": [],
   "source": [
    "# put in other script?\n",
    "# Group sizes\n",
    "\n",
    "#def calculate_percentages(df, df_name):\n",
    "#    total_entries = len(df)\n",
    "#\n",
    "#    female_pct = (df['frau1'] == 1).mean() * 100\n",
    "#    non_german_pct = ((df['maxdeutsch1'] == 0) & (df['maxdeutsch.Missing.'] == 0)).mean() * 100\n",
    "#    non_german_male_pct = ((df['frau1'] == 0) & (df['maxdeutsch1'] == 0) & (df['maxdeutsch.Missing.'] == 0)).mean() * 100\n",
    "#    non_german_female_pct = ((df['frau1'] == 1) & (df['maxdeutsch1'] == 0) & (df['maxdeutsch.Missing.'] == 0)).mean() * 100\n",
    "#\n",
    "#    print(f\"--- {df_name} ---\")\n",
    "#    print(f\"Female: {female_pct:.2f}%\")\n",
    "#    print(f\"Non-German: {non_german_pct:.2f}%\")\n",
    "#    print(f\"Non-German Male: {non_german_male_pct:.2f}%\")\n",
    "#    print(f\"Non-German Female: {non_german_female_pct:.2f}%\\n\")\n",
    "#\n",
    "## Calculate for each DataFrame\n",
    "#calculate_percentages(siab_calib, \"siab_calib\")\n",
    "#calculate_percentages(siab_test, \"siab_test\")\n",
    "#calculate_percentages(siab_train, \"siab_train\")"
   ]
  },
  {
   "cell_type": "markdown",
   "id": "0a4a1b33",
   "metadata": {
    "papermill": {
     "duration": 0.020519,
     "end_time": "2025-07-30T21:01:11.061634",
     "exception": false,
     "start_time": "2025-07-30T21:01:11.041115",
     "status": "completed"
    },
    "tags": []
   },
   "source": [
    "# Preprocessing Data"
   ]
  },
  {
   "cell_type": "code",
   "execution_count": 29,
   "id": "ca879031",
   "metadata": {
    "execution": {
     "iopub.execute_input": "2025-07-30T21:01:11.107824Z",
     "iopub.status.busy": "2025-07-30T21:01:11.106918Z",
     "iopub.status.idle": "2025-07-30T21:01:11.113034Z",
     "shell.execute_reply": "2025-07-30T21:01:11.112175Z"
    },
    "papermill": {
     "duration": 0.031682,
     "end_time": "2025-07-30T21:01:11.114682",
     "exception": false,
     "start_time": "2025-07-30T21:01:11.083000",
     "status": "completed"
    },
    "tags": []
   },
   "outputs": [],
   "source": [
    "# EXCLUDE PROTECTED FEATURES\n",
    "# ----------------------\n",
    "# \"exclude_features\": \"none\", # \"nationality\", \"sex\", \"nationality-sex\"\n",
    "\n",
    "excluded_features = universe[\"exclude_features\"].split(\"-\") # split, e.g.: \"nationality-sex\" -> [\"nationality\", \"sex\"]\n",
    "excluded_features_dictionary = {\n",
    "    \"nationality\": [\"maxdeutsch1\", \"maxdeutsch.Missing.\"],\n",
    "    \"sex\": [\"frau1\"],\n",
    "    \"age\": [\"age\"],\n",
    "}\n"
   ]
  },
  {
   "cell_type": "code",
   "execution_count": 30,
   "id": "b745ac60",
   "metadata": {
    "execution": {
     "iopub.execute_input": "2025-07-30T21:01:11.159683Z",
     "iopub.status.busy": "2025-07-30T21:01:11.158985Z",
     "iopub.status.idle": "2025-07-30T21:01:11.164656Z",
     "shell.execute_reply": "2025-07-30T21:01:11.163726Z"
    },
    "papermill": {
     "duration": 0.030154,
     "end_time": "2025-07-30T21:01:11.166262",
     "exception": false,
     "start_time": "2025-07-30T21:01:11.136108",
     "status": "completed"
    },
    "tags": []
   },
   "outputs": [],
   "source": [
    "# Code nice names to column names\n",
    "\n",
    "excluded_features_columns = [\n",
    "    excluded_features_dictionary[f] for f in excluded_features if len(f) > 0 and f != \"none\"\n",
    "]"
   ]
  },
  {
   "cell_type": "code",
   "execution_count": 31,
   "id": "f84f73a2",
   "metadata": {
    "execution": {
     "iopub.execute_input": "2025-07-30T21:01:11.210376Z",
     "iopub.status.busy": "2025-07-30T21:01:11.209717Z",
     "iopub.status.idle": "2025-07-30T21:01:11.216407Z",
     "shell.execute_reply": "2025-07-30T21:01:11.215507Z"
    },
    "papermill": {
     "duration": 0.030745,
     "end_time": "2025-07-30T21:01:11.217999",
     "exception": false,
     "start_time": "2025-07-30T21:01:11.187254",
     "status": "completed"
    },
    "tags": []
   },
   "outputs": [],
   "source": [
    "from utils import flatten_once\n",
    "\n",
    "excluded_features_columns = flatten_once(excluded_features_columns)"
   ]
  },
  {
   "cell_type": "code",
   "execution_count": 32,
   "id": "884dea22",
   "metadata": {
    "execution": {
     "iopub.execute_input": "2025-07-30T21:01:11.260573Z",
     "iopub.status.busy": "2025-07-30T21:01:11.259761Z",
     "iopub.status.idle": "2025-07-30T21:01:11.268653Z",
     "shell.execute_reply": "2025-07-30T21:01:11.267650Z"
    },
    "papermill": {
     "duration": 0.031861,
     "end_time": "2025-07-30T21:01:11.270337",
     "exception": false,
     "start_time": "2025-07-30T21:01:11.238476",
     "status": "completed"
    },
    "tags": []
   },
   "outputs": [
    {
     "name": "stdout",
     "output_type": "stream",
     "text": [
      "Dropping features: ['maxdeutsch1', 'maxdeutsch.Missing.', 'frau1']\n"
     ]
    }
   ],
   "source": [
    "if len(excluded_features_columns) > 0:\n",
    "    print(f\"Dropping features: {excluded_features_columns}\")\n",
    "    X_train.drop(excluded_features_columns, axis=1, inplace=True)"
   ]
  },
  {
   "cell_type": "code",
   "execution_count": 33,
   "id": "95ab8b16",
   "metadata": {
    "execution": {
     "iopub.execute_input": "2025-07-30T21:01:11.315133Z",
     "iopub.status.busy": "2025-07-30T21:01:11.314488Z",
     "iopub.status.idle": "2025-07-30T21:01:11.366356Z",
     "shell.execute_reply": "2025-07-30T21:01:11.365350Z"
    },
    "papermill": {
     "duration": 0.076572,
     "end_time": "2025-07-30T21:01:11.369057",
     "exception": false,
     "start_time": "2025-07-30T21:01:11.292485",
     "status": "completed"
    },
    "tags": []
   },
   "outputs": [
    {
     "name": "stdout",
     "output_type": "stream",
     "text": [
      "Dropping features: ['maxdeutsch1', 'maxdeutsch.Missing.', 'frau1']\n"
     ]
    }
   ],
   "source": [
    "if len(excluded_features_columns) > 0:\n",
    "    print(f\"Dropping features: {excluded_features_columns}\")\n",
    "    X_test.drop(excluded_features_columns, axis=1, inplace=True)"
   ]
  },
  {
   "cell_type": "code",
   "execution_count": 34,
   "id": "1853aaf5-fb9f-46cb-a2b5-8ea4ae2237e4",
   "metadata": {
    "execution": {
     "iopub.execute_input": "2025-07-30T21:01:11.415246Z",
     "iopub.status.busy": "2025-07-30T21:01:11.414391Z",
     "iopub.status.idle": "2025-07-30T21:01:11.466785Z",
     "shell.execute_reply": "2025-07-30T21:01:11.465893Z"
    },
    "papermill": {
     "duration": 0.076637,
     "end_time": "2025-07-30T21:01:11.468601",
     "exception": false,
     "start_time": "2025-07-30T21:01:11.391964",
     "status": "completed"
    },
    "tags": []
   },
   "outputs": [
    {
     "name": "stdout",
     "output_type": "stream",
     "text": [
      "Dropping features: ['maxdeutsch1', 'maxdeutsch.Missing.', 'frau1']\n"
     ]
    }
   ],
   "source": [
    "if len(excluded_features_columns) > 0:\n",
    "    print(f\"Dropping features: {excluded_features_columns}\")\n",
    "    X_calib.drop(excluded_features_columns, axis=1, inplace=True)"
   ]
  },
  {
   "cell_type": "code",
   "execution_count": 35,
   "id": "6727d079-03e5-481e-9d38-292a90b7a0a8",
   "metadata": {
    "execution": {
     "iopub.execute_input": "2025-07-30T21:01:11.516238Z",
     "iopub.status.busy": "2025-07-30T21:01:11.515375Z",
     "iopub.status.idle": "2025-07-30T21:01:11.520460Z",
     "shell.execute_reply": "2025-07-30T21:01:11.519472Z"
    },
    "papermill": {
     "duration": 0.030445,
     "end_time": "2025-07-30T21:01:11.522094",
     "exception": false,
     "start_time": "2025-07-30T21:01:11.491649",
     "status": "completed"
    },
    "tags": []
   },
   "outputs": [],
   "source": [
    "# SPLIT & STRATIFY DATA\n",
    "# ----------------------"
   ]
  },
  {
   "cell_type": "code",
   "execution_count": 36,
   "id": "76c4dc6d",
   "metadata": {
    "execution": {
     "iopub.execute_input": "2025-07-30T21:01:11.568079Z",
     "iopub.status.busy": "2025-07-30T21:01:11.567414Z",
     "iopub.status.idle": "2025-07-30T21:01:11.589889Z",
     "shell.execute_reply": "2025-07-30T21:01:11.589044Z"
    },
    "papermill": {
     "duration": 0.047509,
     "end_time": "2025-07-30T21:01:11.591523",
     "exception": false,
     "start_time": "2025-07-30T21:01:11.544014",
     "status": "completed"
    },
    "tags": []
   },
   "outputs": [],
   "source": [
    "# EXCLUDE CERTAIN SUBGROUPS\n",
    "# ----------------------\n",
    "\n",
    "mode = universe.get(\"exclude_subgroups\", \"keep-all\") \n",
    "# Fetches the exclude_subgroups setting from the universe dict.\n",
    "# Defaults to \"keep-all\" if the key is missing."
   ]
  },
  {
   "cell_type": "code",
   "execution_count": 37,
   "id": "21994072",
   "metadata": {
    "execution": {
     "iopub.execute_input": "2025-07-30T21:01:11.635875Z",
     "iopub.status.busy": "2025-07-30T21:01:11.635027Z",
     "iopub.status.idle": "2025-07-30T21:01:11.641753Z",
     "shell.execute_reply": "2025-07-30T21:01:11.640820Z"
    },
    "papermill": {
     "duration": 0.029614,
     "end_time": "2025-07-30T21:01:11.643221",
     "exception": false,
     "start_time": "2025-07-30T21:01:11.613607",
     "status": "completed"
    },
    "tags": []
   },
   "outputs": [],
   "source": [
    "if mode == \"keep-all\":\n",
    "    keep_mask = pd.Series(True, index=org_train.index)\n",
    "\n",
    "# org_train contains the original feature columns from features_org (in Simson)\n",
    "# features_org contains unprocessed features, for me X_train at beginning ???\n",
    "# For keep-all, creates a boolean Series (keep_mask) of all True, so no rows are removed.\n",
    "\n",
    "elif mode == \"drop-non-german\":\n",
    "    keep_mask = org_train[\"maxdeutsch1\"] == 1 # ??? what about missing values?\n",
    "\n",
    "else:\n",
    "    raise ValueError(f\"Unsupported mode for exclude_subgroups: {mode}\")\n"
   ]
  },
  {
   "cell_type": "code",
   "execution_count": 38,
   "id": "71651440",
   "metadata": {
    "execution": {
     "iopub.execute_input": "2025-07-30T21:01:11.687956Z",
     "iopub.status.busy": "2025-07-30T21:01:11.687403Z",
     "iopub.status.idle": "2025-07-30T21:01:11.694502Z",
     "shell.execute_reply": "2025-07-30T21:01:11.693243Z"
    },
    "papermill": {
     "duration": 0.032274,
     "end_time": "2025-07-30T21:01:11.696281",
     "exception": false,
     "start_time": "2025-07-30T21:01:11.664007",
     "status": "completed"
    },
    "tags": []
   },
   "outputs": [],
   "source": [
    "n_drop = (~keep_mask).sum() # Calculates how many rows are set to be dropped\n",
    "if n_drop > 0:\n",
    "    pct = n_drop / len(keep_mask) * 100\n",
    "    print(f\"Dropping {n_drop} rows ({pct:.2f}%) where mode='{mode}'\")"
   ]
  },
  {
   "cell_type": "code",
   "execution_count": 39,
   "id": "5fb8eee5",
   "metadata": {
    "execution": {
     "iopub.execute_input": "2025-07-30T21:01:11.745141Z",
     "iopub.status.busy": "2025-07-30T21:01:11.744445Z",
     "iopub.status.idle": "2025-07-30T21:01:11.810612Z",
     "shell.execute_reply": "2025-07-30T21:01:11.809632Z"
    },
    "papermill": {
     "duration": 0.093046,
     "end_time": "2025-07-30T21:01:11.812649",
     "exception": false,
     "start_time": "2025-07-30T21:01:11.719603",
     "status": "completed"
    },
    "tags": []
   },
   "outputs": [],
   "source": [
    "X_train = X_train[keep_mask]"
   ]
  },
  {
   "cell_type": "code",
   "execution_count": 40,
   "id": "b202bb3a",
   "metadata": {
    "execution": {
     "iopub.execute_input": "2025-07-30T21:01:11.861003Z",
     "iopub.status.busy": "2025-07-30T21:01:11.860511Z",
     "iopub.status.idle": "2025-07-30T21:01:11.866430Z",
     "shell.execute_reply": "2025-07-30T21:01:11.865600Z"
    },
    "papermill": {
     "duration": 0.031835,
     "end_time": "2025-07-30T21:01:11.867998",
     "exception": false,
     "start_time": "2025-07-30T21:01:11.836163",
     "status": "completed"
    },
    "tags": []
   },
   "outputs": [],
   "source": [
    "y_train = y_train[keep_mask]"
   ]
  },
  {
   "cell_type": "markdown",
   "id": "493e2ac3",
   "metadata": {
    "papermill": {
     "duration": 0.022533,
     "end_time": "2025-07-30T21:01:11.912471",
     "exception": false,
     "start_time": "2025-07-30T21:01:11.889938",
     "status": "completed"
    },
    "tags": []
   },
   "source": [
    "# Model Training"
   ]
  },
  {
   "cell_type": "code",
   "execution_count": 41,
   "id": "679e1268",
   "metadata": {
    "execution": {
     "iopub.execute_input": "2025-07-30T21:01:11.956709Z",
     "iopub.status.busy": "2025-07-30T21:01:11.956097Z",
     "iopub.status.idle": "2025-07-30T21:01:12.061878Z",
     "shell.execute_reply": "2025-07-30T21:01:12.061023Z"
    },
    "papermill": {
     "duration": 0.13012,
     "end_time": "2025-07-30T21:01:12.063876",
     "exception": false,
     "start_time": "2025-07-30T21:01:11.933756",
     "status": "completed"
    },
    "tags": []
   },
   "outputs": [],
   "source": [
    "from sklearn.linear_model import LogisticRegression\n",
    "from sklearn.ensemble import GradientBoostingClassifier, RandomForestClassifier\n",
    "\n",
    "if (universe[\"model\"] == \"logreg\"):\n",
    "    model = LogisticRegression() #penalty=\"none\") #, solver=\"newton-cg\", max_iter=1) # include random_state=19 ?\n",
    "elif (universe[\"model\"] == \"penalized_logreg\"):\n",
    "    model = LogisticRegression(penalty=\"l2\", C=1.0) #, solver=\"newton-cg\", max_iter=1)\n",
    "elif (universe[\"model\"] == \"rf\"):\n",
    "    model = RandomForestClassifier(n_estimators=100, n_jobs=-1)\n",
    "elif (universe[\"model\"] == \"gbm\"):\n",
    "    model = GradientBoostingClassifier()\n",
    "elif (universe[\"model\"] == \"elasticnet\"):\n",
    "    model = LogisticRegression(penalty = 'elasticnet', solver = 'saga', l1_ratio = 0.5, max_iter=5000) # which solver to use?\n",
    "else:\n",
    "    raise \"Unsupported universe.model\""
   ]
  },
  {
   "cell_type": "code",
   "execution_count": 42,
   "id": "0cc8f744",
   "metadata": {
    "execution": {
     "iopub.execute_input": "2025-07-30T21:01:12.108286Z",
     "iopub.status.busy": "2025-07-30T21:01:12.107577Z",
     "iopub.status.idle": "2025-07-30T21:01:12.114701Z",
     "shell.execute_reply": "2025-07-30T21:01:12.113749Z"
    },
    "papermill": {
     "duration": 0.030719,
     "end_time": "2025-07-30T21:01:12.116428",
     "exception": false,
     "start_time": "2025-07-30T21:01:12.085709",
     "status": "completed"
    },
    "tags": []
   },
   "outputs": [],
   "source": [
    "import numpy as np\n",
    "from sklearn.pipeline import Pipeline\n",
    "from sklearn.preprocessing import StandardScaler\n",
    "\n",
    "model = Pipeline([\n",
    "    #(\"continuous_processor\", continuous_processor),\n",
    "    #(\"categorical_preprocessor\", categorical_preprocessor),\n",
    "    (\"scale\", StandardScaler() if universe[\"scale\"] == \"scale\" else None), \n",
    "    (\"model\", model),\n",
    "])"
   ]
  },
  {
   "cell_type": "code",
   "execution_count": 43,
   "id": "9442c04d",
   "metadata": {
    "execution": {
     "iopub.execute_input": "2025-07-30T21:01:12.162190Z",
     "iopub.status.busy": "2025-07-30T21:01:12.161562Z",
     "iopub.status.idle": "2025-07-30T21:01:17.605475Z",
     "shell.execute_reply": "2025-07-30T21:01:17.603251Z"
    },
    "papermill": {
     "duration": 5.467805,
     "end_time": "2025-07-30T21:01:17.606816",
     "exception": false,
     "start_time": "2025-07-30T21:01:12.139011",
     "status": "completed"
    },
    "tags": []
   },
   "outputs": [
    {
     "data": {
      "text/html": [
       "<style>#sk-container-id-1 {color: black;background-color: white;}#sk-container-id-1 pre{padding: 0;}#sk-container-id-1 div.sk-toggleable {background-color: white;}#sk-container-id-1 label.sk-toggleable__label {cursor: pointer;display: block;width: 100%;margin-bottom: 0;padding: 0.3em;box-sizing: border-box;text-align: center;}#sk-container-id-1 label.sk-toggleable__label-arrow:before {content: \"▸\";float: left;margin-right: 0.25em;color: #696969;}#sk-container-id-1 label.sk-toggleable__label-arrow:hover:before {color: black;}#sk-container-id-1 div.sk-estimator:hover label.sk-toggleable__label-arrow:before {color: black;}#sk-container-id-1 div.sk-toggleable__content {max-height: 0;max-width: 0;overflow: hidden;text-align: left;background-color: #f0f8ff;}#sk-container-id-1 div.sk-toggleable__content pre {margin: 0.2em;color: black;border-radius: 0.25em;background-color: #f0f8ff;}#sk-container-id-1 input.sk-toggleable__control:checked~div.sk-toggleable__content {max-height: 200px;max-width: 100%;overflow: auto;}#sk-container-id-1 input.sk-toggleable__control:checked~label.sk-toggleable__label-arrow:before {content: \"▾\";}#sk-container-id-1 div.sk-estimator input.sk-toggleable__control:checked~label.sk-toggleable__label {background-color: #d4ebff;}#sk-container-id-1 div.sk-label input.sk-toggleable__control:checked~label.sk-toggleable__label {background-color: #d4ebff;}#sk-container-id-1 input.sk-hidden--visually {border: 0;clip: rect(1px 1px 1px 1px);clip: rect(1px, 1px, 1px, 1px);height: 1px;margin: -1px;overflow: hidden;padding: 0;position: absolute;width: 1px;}#sk-container-id-1 div.sk-estimator {font-family: monospace;background-color: #f0f8ff;border: 1px dotted black;border-radius: 0.25em;box-sizing: border-box;margin-bottom: 0.5em;}#sk-container-id-1 div.sk-estimator:hover {background-color: #d4ebff;}#sk-container-id-1 div.sk-parallel-item::after {content: \"\";width: 100%;border-bottom: 1px solid gray;flex-grow: 1;}#sk-container-id-1 div.sk-label:hover label.sk-toggleable__label {background-color: #d4ebff;}#sk-container-id-1 div.sk-serial::before {content: \"\";position: absolute;border-left: 1px solid gray;box-sizing: border-box;top: 0;bottom: 0;left: 50%;z-index: 0;}#sk-container-id-1 div.sk-serial {display: flex;flex-direction: column;align-items: center;background-color: white;padding-right: 0.2em;padding-left: 0.2em;position: relative;}#sk-container-id-1 div.sk-item {position: relative;z-index: 1;}#sk-container-id-1 div.sk-parallel {display: flex;align-items: stretch;justify-content: center;background-color: white;position: relative;}#sk-container-id-1 div.sk-item::before, #sk-container-id-1 div.sk-parallel-item::before {content: \"\";position: absolute;border-left: 1px solid gray;box-sizing: border-box;top: 0;bottom: 0;left: 50%;z-index: -1;}#sk-container-id-1 div.sk-parallel-item {display: flex;flex-direction: column;z-index: 1;position: relative;background-color: white;}#sk-container-id-1 div.sk-parallel-item:first-child::after {align-self: flex-end;width: 50%;}#sk-container-id-1 div.sk-parallel-item:last-child::after {align-self: flex-start;width: 50%;}#sk-container-id-1 div.sk-parallel-item:only-child::after {width: 0;}#sk-container-id-1 div.sk-dashed-wrapped {border: 1px dashed gray;margin: 0 0.4em 0.5em 0.4em;box-sizing: border-box;padding-bottom: 0.4em;background-color: white;}#sk-container-id-1 div.sk-label label {font-family: monospace;font-weight: bold;display: inline-block;line-height: 1.2em;}#sk-container-id-1 div.sk-label-container {text-align: center;}#sk-container-id-1 div.sk-container {/* jupyter's `normalize.less` sets `[hidden] { display: none; }` but bootstrap.min.css set `[hidden] { display: none !important; }` so we also need the `!important` here to be able to override the default hidden behavior on the sphinx rendered scikit-learn.org. See: https://github.com/scikit-learn/scikit-learn/issues/21755 */display: inline-block !important;position: relative;}#sk-container-id-1 div.sk-text-repr-fallback {display: none;}</style><div id=\"sk-container-id-1\" class=\"sk-top-container\"><div class=\"sk-text-repr-fallback\"><pre>Pipeline(steps=[(&#x27;scale&#x27;, StandardScaler()),\n",
       "                (&#x27;model&#x27;, GradientBoostingClassifier())])</pre><b>In a Jupyter environment, please rerun this cell to show the HTML representation or trust the notebook. <br />On GitHub, the HTML representation is unable to render, please try loading this page with nbviewer.org.</b></div><div class=\"sk-container\" hidden><div class=\"sk-item sk-dashed-wrapped\"><div class=\"sk-label-container\"><div class=\"sk-label sk-toggleable\"><input class=\"sk-toggleable__control sk-hidden--visually\" id=\"sk-estimator-id-1\" type=\"checkbox\" ><label for=\"sk-estimator-id-1\" class=\"sk-toggleable__label sk-toggleable__label-arrow\">Pipeline</label><div class=\"sk-toggleable__content\"><pre>Pipeline(steps=[(&#x27;scale&#x27;, StandardScaler()),\n",
       "                (&#x27;model&#x27;, GradientBoostingClassifier())])</pre></div></div></div><div class=\"sk-serial\"><div class=\"sk-item\"><div class=\"sk-estimator sk-toggleable\"><input class=\"sk-toggleable__control sk-hidden--visually\" id=\"sk-estimator-id-2\" type=\"checkbox\" ><label for=\"sk-estimator-id-2\" class=\"sk-toggleable__label sk-toggleable__label-arrow\">StandardScaler</label><div class=\"sk-toggleable__content\"><pre>StandardScaler()</pre></div></div></div><div class=\"sk-item\"><div class=\"sk-estimator sk-toggleable\"><input class=\"sk-toggleable__control sk-hidden--visually\" id=\"sk-estimator-id-3\" type=\"checkbox\" ><label for=\"sk-estimator-id-3\" class=\"sk-toggleable__label sk-toggleable__label-arrow\">GradientBoostingClassifier</label><div class=\"sk-toggleable__content\"><pre>GradientBoostingClassifier()</pre></div></div></div></div></div></div></div>"
      ],
      "text/plain": [
       "Pipeline(steps=[('scale', StandardScaler()),\n",
       "                ('model', GradientBoostingClassifier())])"
      ]
     },
     "execution_count": 43,
     "metadata": {},
     "output_type": "execute_result"
    }
   ],
   "source": [
    "model.fit(X_train, y_train.values.ravel())"
   ]
  },
  {
   "cell_type": "code",
   "execution_count": 44,
   "id": "af59f8c0",
   "metadata": {
    "execution": {
     "iopub.execute_input": "2025-07-30T21:01:17.670625Z",
     "iopub.status.busy": "2025-07-30T21:01:17.670013Z",
     "iopub.status.idle": "2025-07-30T21:01:17.677458Z",
     "shell.execute_reply": "2025-07-30T21:01:17.676288Z"
    },
    "papermill": {
     "duration": 0.043345,
     "end_time": "2025-07-30T21:01:17.679259",
     "exception": false,
     "start_time": "2025-07-30T21:01:17.635914",
     "status": "completed"
    },
    "tags": []
   },
   "outputs": [],
   "source": [
    "from fairness_multiverse.universe import predict_w_threshold"
   ]
  },
  {
   "cell_type": "code",
   "execution_count": 45,
   "id": "a7cf2e16",
   "metadata": {
    "execution": {
     "iopub.execute_input": "2025-07-30T21:01:17.728309Z",
     "iopub.status.busy": "2025-07-30T21:01:17.727726Z",
     "iopub.status.idle": "2025-07-30T21:01:18.455803Z",
     "shell.execute_reply": "2025-07-30T21:01:18.454931Z"
    },
    "papermill": {
     "duration": 0.754431,
     "end_time": "2025-07-30T21:01:18.458127",
     "exception": false,
     "start_time": "2025-07-30T21:01:17.703696",
     "status": "completed"
    },
    "tags": []
   },
   "outputs": [
    {
     "data": {
      "text/plain": [
       "0.8631813621669825"
      ]
     },
     "execution_count": 45,
     "metadata": {},
     "output_type": "execute_result"
    }
   ],
   "source": [
    "probs_test = model.predict_proba(X_test)\n",
    "\n",
    "'''\n",
    "Below code returns a boolean array (or binary 0/1 array depending on how it’s used) where each element \n",
    "is True if the probability of class 1 is greater than or equal to the threshold, and False otherwise.\n",
    "'''\n",
    "y_pred_default = predict_w_threshold(probs_test, 0.5)\n",
    "\n",
    "from sklearn.metrics import accuracy_score\n",
    "\n",
    "# Naive prediction\n",
    "accuracy_score(y_true = y_true, y_pred = y_pred_default)"
   ]
  },
  {
   "cell_type": "code",
   "execution_count": 46,
   "id": "081964c3",
   "metadata": {
    "execution": {
     "iopub.execute_input": "2025-07-30T21:01:18.507196Z",
     "iopub.status.busy": "2025-07-30T21:01:18.506805Z",
     "iopub.status.idle": "2025-07-30T21:01:19.211498Z",
     "shell.execute_reply": "2025-07-30T21:01:19.210625Z"
    },
    "papermill": {
     "duration": 0.720107,
     "end_time": "2025-07-30T21:01:19.213061",
     "exception": false,
     "start_time": "2025-07-30T21:01:18.492954",
     "status": "completed"
    },
    "tags": []
   },
   "outputs": [
    {
     "data": {
      "text/plain": [
       "array([0, 0, 0, ..., 0, 0, 0])"
      ]
     },
     "execution_count": 46,
     "metadata": {},
     "output_type": "execute_result"
    }
   ],
   "source": [
    "model.predict(X_test)"
   ]
  },
  {
   "cell_type": "markdown",
   "id": "56c9705b",
   "metadata": {
    "papermill": {
     "duration": 0.023638,
     "end_time": "2025-07-30T21:01:19.261430",
     "exception": false,
     "start_time": "2025-07-30T21:01:19.237792",
     "status": "completed"
    },
    "tags": []
   },
   "source": [
    "# Conformal Prediction"
   ]
  },
  {
   "cell_type": "code",
   "execution_count": 47,
   "id": "160ec6ff",
   "metadata": {
    "execution": {
     "iopub.execute_input": "2025-07-30T21:01:19.300185Z",
     "iopub.status.busy": "2025-07-30T21:01:19.299791Z",
     "iopub.status.idle": "2025-07-30T21:01:19.304434Z",
     "shell.execute_reply": "2025-07-30T21:01:19.303722Z"
    },
    "papermill": {
     "duration": 0.021771,
     "end_time": "2025-07-30T21:01:19.305987",
     "exception": false,
     "start_time": "2025-07-30T21:01:19.284216",
     "status": "completed"
    },
    "tags": []
   },
   "outputs": [],
   "source": [
    "# Miscoverage level for conformal prediction (10% allowed error rate => 90% target coverage)\n",
    "alpha = 0.1"
   ]
  },
  {
   "cell_type": "code",
   "execution_count": 48,
   "id": "eadf4555-3dd3-440e-8e35-f82a4ad9f855",
   "metadata": {
    "execution": {
     "iopub.execute_input": "2025-07-30T21:01:19.331856Z",
     "iopub.status.busy": "2025-07-30T21:01:19.331279Z",
     "iopub.status.idle": "2025-07-30T21:01:19.860754Z",
     "shell.execute_reply": "2025-07-30T21:01:19.859805Z"
    },
    "papermill": {
     "duration": 0.543301,
     "end_time": "2025-07-30T21:01:19.862284",
     "exception": false,
     "start_time": "2025-07-30T21:01:19.318983",
     "status": "completed"
    },
    "tags": []
   },
   "outputs": [],
   "source": [
    "probs_calib = model.predict_proba(X_calib)"
   ]
  },
  {
   "cell_type": "code",
   "execution_count": 49,
   "id": "2ed93547-6d5d-4983-9b36-1ecb300da49a",
   "metadata": {
    "execution": {
     "iopub.execute_input": "2025-07-30T21:01:19.910088Z",
     "iopub.status.busy": "2025-07-30T21:01:19.909642Z",
     "iopub.status.idle": "2025-07-30T21:01:19.915487Z",
     "shell.execute_reply": "2025-07-30T21:01:19.914505Z"
    },
    "papermill": {
     "duration": 0.034178,
     "end_time": "2025-07-30T21:01:19.917524",
     "exception": false,
     "start_time": "2025-07-30T21:01:19.883346",
     "status": "completed"
    },
    "tags": []
   },
   "outputs": [],
   "source": [
    "y_calib = y_calib.values.ravel().astype(int)"
   ]
  },
  {
   "cell_type": "code",
   "execution_count": 50,
   "id": "65d1320d-f588-4b38-9072-62af1ae97f7d",
   "metadata": {
    "execution": {
     "iopub.execute_input": "2025-07-30T21:01:19.967546Z",
     "iopub.status.busy": "2025-07-30T21:01:19.967054Z",
     "iopub.status.idle": "2025-07-30T21:01:19.974505Z",
     "shell.execute_reply": "2025-07-30T21:01:19.973602Z"
    },
    "papermill": {
     "duration": 0.033502,
     "end_time": "2025-07-30T21:01:19.976173",
     "exception": false,
     "start_time": "2025-07-30T21:01:19.942671",
     "status": "completed"
    },
    "tags": []
   },
   "outputs": [],
   "source": [
    "from fairness_multiverse.conformal import compute_nc_scores\n",
    "\n",
    "# Compute nonconformity scores on calibration set (1 - probability of true class)\n",
    "nc_scores = compute_nc_scores(probs_calib, y_calib)"
   ]
  },
  {
   "cell_type": "code",
   "execution_count": 51,
   "id": "df3b8ca3-53b7-43d5-9667-7c85da7aeda2",
   "metadata": {
    "execution": {
     "iopub.execute_input": "2025-07-30T21:01:20.028022Z",
     "iopub.status.busy": "2025-07-30T21:01:20.027174Z",
     "iopub.status.idle": "2025-07-30T21:01:20.034500Z",
     "shell.execute_reply": "2025-07-30T21:01:20.033607Z"
    },
    "papermill": {
     "duration": 0.033591,
     "end_time": "2025-07-30T21:01:20.036350",
     "exception": false,
     "start_time": "2025-07-30T21:01:20.002759",
     "status": "completed"
    },
    "tags": []
   },
   "outputs": [],
   "source": [
    "from fairness_multiverse.conformal import find_threshold\n",
    "\n",
    "# Find conformal threshold q_hat for the given alpha (split conformal method)\n",
    "q_hat = find_threshold(nc_scores, alpha)"
   ]
  },
  {
   "cell_type": "code",
   "execution_count": 52,
   "id": "4d29e6c1-0ef6-4aa4-b8fe-4fe79b0d033a",
   "metadata": {
    "execution": {
     "iopub.execute_input": "2025-07-30T21:01:20.088551Z",
     "iopub.status.busy": "2025-07-30T21:01:20.087652Z",
     "iopub.status.idle": "2025-07-30T21:01:20.095449Z",
     "shell.execute_reply": "2025-07-30T21:01:20.094124Z"
    },
    "papermill": {
     "duration": 0.036363,
     "end_time": "2025-07-30T21:01:20.097478",
     "exception": false,
     "start_time": "2025-07-30T21:01:20.061115",
     "status": "completed"
    },
    "tags": []
   },
   "outputs": [
    {
     "data": {
      "text/plain": [
       "0.6911211872885445"
      ]
     },
     "execution_count": 52,
     "metadata": {},
     "output_type": "execute_result"
    }
   ],
   "source": [
    "q_hat"
   ]
  },
  {
   "cell_type": "code",
   "execution_count": 53,
   "id": "92460794-cdac-4be2-ba28-f28c0515a6fb",
   "metadata": {
    "execution": {
     "iopub.execute_input": "2025-07-30T21:01:20.147641Z",
     "iopub.status.busy": "2025-07-30T21:01:20.146956Z",
     "iopub.status.idle": "2025-07-30T21:01:21.484893Z",
     "shell.execute_reply": "2025-07-30T21:01:21.483809Z"
    },
    "papermill": {
     "duration": 1.364249,
     "end_time": "2025-07-30T21:01:21.486777",
     "exception": false,
     "start_time": "2025-07-30T21:01:20.122528",
     "status": "completed"
    },
    "tags": []
   },
   "outputs": [],
   "source": [
    "from fairness_multiverse.conformal import predict_conformal_sets\n",
    "\n",
    "# Generate prediction sets for each test example\n",
    "pred_sets = predict_conformal_sets(model, X_test, q_hat)"
   ]
  },
  {
   "cell_type": "code",
   "execution_count": 54,
   "id": "d90c9a65-e6db-4f5d-80cd-e68fb7e46829",
   "metadata": {
    "execution": {
     "iopub.execute_input": "2025-07-30T21:01:21.538463Z",
     "iopub.status.busy": "2025-07-30T21:01:21.537914Z",
     "iopub.status.idle": "2025-07-30T21:01:21.543562Z",
     "shell.execute_reply": "2025-07-30T21:01:21.542497Z"
    },
    "papermill": {
     "duration": 0.032802,
     "end_time": "2025-07-30T21:01:21.545749",
     "exception": false,
     "start_time": "2025-07-30T21:01:21.512947",
     "status": "completed"
    },
    "tags": []
   },
   "outputs": [],
   "source": [
    "y_true = y_true.squeeze()"
   ]
  },
  {
   "cell_type": "code",
   "execution_count": 55,
   "id": "3a58a54a-1e68-46b9-927a-df01f18aebc8",
   "metadata": {
    "execution": {
     "iopub.execute_input": "2025-07-30T21:01:21.602130Z",
     "iopub.status.busy": "2025-07-30T21:01:21.601633Z",
     "iopub.status.idle": "2025-07-30T21:01:22.568105Z",
     "shell.execute_reply": "2025-07-30T21:01:22.567221Z"
    },
    "papermill": {
     "duration": 0.996413,
     "end_time": "2025-07-30T21:01:22.569847",
     "exception": false,
     "start_time": "2025-07-30T21:01:21.573434",
     "status": "completed"
    },
    "tags": []
   },
   "outputs": [],
   "source": [
    "from fairness_multiverse.conformal import evaluate_sets\n",
    "\n",
    "# Evaluate coverage and average set size on test data\n",
    "metrics = evaluate_sets(pred_sets, y_true)"
   ]
  },
  {
   "cell_type": "markdown",
   "id": "2b569c12-9aaa-4c88-98c9-bbcd0cf3ebb8",
   "metadata": {
    "papermill": {
     "duration": 0.02275,
     "end_time": "2025-07-30T21:01:22.619801",
     "exception": false,
     "start_time": "2025-07-30T21:01:22.597051",
     "status": "completed"
    },
    "tags": []
   },
   "source": [
    "# CP Metrics"
   ]
  },
  {
   "cell_type": "code",
   "execution_count": 56,
   "id": "5ce0a5cb-201f-45a0-ade5-94c7f0bd6095",
   "metadata": {
    "execution": {
     "iopub.execute_input": "2025-07-30T21:01:22.670261Z",
     "iopub.status.busy": "2025-07-30T21:01:22.669604Z",
     "iopub.status.idle": "2025-07-30T21:01:22.676907Z",
     "shell.execute_reply": "2025-07-30T21:01:22.675968Z"
    },
    "papermill": {
     "duration": 0.034737,
     "end_time": "2025-07-30T21:01:22.678436",
     "exception": false,
     "start_time": "2025-07-30T21:01:22.643699",
     "status": "completed"
    },
    "tags": []
   },
   "outputs": [
    {
     "data": {
      "text/plain": [
       "{'coverage': 0.9094303868019172, 'avg_size': 1.1230966447441757}"
      ]
     },
     "execution_count": 56,
     "metadata": {},
     "output_type": "execute_result"
    }
   ],
   "source": [
    "metrics"
   ]
  },
  {
   "cell_type": "code",
   "execution_count": 57,
   "id": "9b9a838d-31c9-430b-ae14-12baee460d17",
   "metadata": {
    "execution": {
     "iopub.execute_input": "2025-07-30T21:01:22.728317Z",
     "iopub.status.busy": "2025-07-30T21:01:22.727366Z",
     "iopub.status.idle": "2025-07-30T21:01:22.734113Z",
     "shell.execute_reply": "2025-07-30T21:01:22.733201Z"
    },
    "papermill": {
     "duration": 0.033466,
     "end_time": "2025-07-30T21:01:22.735870",
     "exception": false,
     "start_time": "2025-07-30T21:01:22.702404",
     "status": "completed"
    },
    "tags": []
   },
   "outputs": [],
   "source": [
    "example_universe = universe.copy()\n",
    "universe_training_year = example_universe.get(\"training_year\")\n",
    "universe_training_size = example_universe.get(\"training_size\")\n",
    "universe_scale = example_universe.get(\"scale\")\n",
    "universe_model = example_universe.get(\"model\")\n",
    "universe_exclude_features = example_universe.get(\"exclude_features\")\n",
    "universe_exclude_subgroups = example_universe.get(\"exclude_subgroups\")"
   ]
  },
  {
   "cell_type": "code",
   "execution_count": 58,
   "id": "f4b6a8ac-9dc0-4245-8a91-5b3b5999c4f9",
   "metadata": {
    "execution": {
     "iopub.execute_input": "2025-07-30T21:01:22.789172Z",
     "iopub.status.busy": "2025-07-30T21:01:22.788653Z",
     "iopub.status.idle": "2025-07-30T21:01:22.795664Z",
     "shell.execute_reply": "2025-07-30T21:01:22.794607Z"
    },
    "papermill": {
     "duration": 0.035915,
     "end_time": "2025-07-30T21:01:22.797314",
     "exception": false,
     "start_time": "2025-07-30T21:01:22.761399",
     "status": "completed"
    },
    "tags": []
   },
   "outputs": [],
   "source": [
    "cp_metrics_dict = {\n",
    "    \"universe_id\": [universe_id],\n",
    "    \"universe_training_year\": [universe_training_year],\n",
    "    \"universe_training_size\": [universe_training_size],\n",
    "    \"universe_scale\": [universe_scale],\n",
    "    \"universe_model\": [universe_model],\n",
    "    \"universe_exclude_features\": [universe_exclude_features],\n",
    "    \"universe_exclude_subgroups\": [universe_exclude_subgroups],\n",
    "    \"q_hat\": [q_hat],\n",
    "    \"coverage\": [metrics[\"coverage\"]],\n",
    "    \"avg_size\": [metrics[\"avg_size\"]],\n",
    "}"
   ]
  },
  {
   "cell_type": "code",
   "execution_count": 59,
   "id": "908acbb1-0371-4915-85ca-3fa520d2efe2",
   "metadata": {
    "execution": {
     "iopub.execute_input": "2025-07-30T21:01:22.851805Z",
     "iopub.status.busy": "2025-07-30T21:01:22.851001Z",
     "iopub.status.idle": "2025-07-30T21:01:22.860088Z",
     "shell.execute_reply": "2025-07-30T21:01:22.858905Z"
    },
    "papermill": {
     "duration": 0.037247,
     "end_time": "2025-07-30T21:01:22.861702",
     "exception": false,
     "start_time": "2025-07-30T21:01:22.824455",
     "status": "completed"
    },
    "tags": []
   },
   "outputs": [
    {
     "data": {
      "text/plain": [
       "{'universe_id': ['fbcced2a4402ef744c7575370b1a9ef1'],\n",
       " 'universe_training_year': ['2012_14'],\n",
       " 'universe_training_size': ['5k'],\n",
       " 'universe_scale': ['scale'],\n",
       " 'universe_model': ['gbm'],\n",
       " 'universe_exclude_features': ['nationality-sex'],\n",
       " 'universe_exclude_subgroups': ['keep-all'],\n",
       " 'q_hat': [0.6911211872885445],\n",
       " 'coverage': [0.9094303868019172],\n",
       " 'avg_size': [1.1230966447441757]}"
      ]
     },
     "execution_count": 59,
     "metadata": {},
     "output_type": "execute_result"
    }
   ],
   "source": [
    "cp_metrics_dict"
   ]
  },
  {
   "cell_type": "code",
   "execution_count": 60,
   "id": "33007efc-14e9-4ec6-97ac-56a455c82265",
   "metadata": {
    "execution": {
     "iopub.execute_input": "2025-07-30T21:01:22.914100Z",
     "iopub.status.busy": "2025-07-30T21:01:22.913249Z",
     "iopub.status.idle": "2025-07-30T21:01:22.919951Z",
     "shell.execute_reply": "2025-07-30T21:01:22.918774Z"
    },
    "papermill": {
     "duration": 0.034243,
     "end_time": "2025-07-30T21:01:22.921599",
     "exception": false,
     "start_time": "2025-07-30T21:01:22.887356",
     "status": "completed"
    },
    "tags": []
   },
   "outputs": [],
   "source": [
    "cp_metrics_df = pd.DataFrame(cp_metrics_dict)"
   ]
  },
  {
   "cell_type": "code",
   "execution_count": 61,
   "id": "db12611b-57b2-4910-b9d0-355adfd6e7bf",
   "metadata": {
    "execution": {
     "iopub.execute_input": "2025-07-30T21:01:22.972425Z",
     "iopub.status.busy": "2025-07-30T21:01:22.971668Z",
     "iopub.status.idle": "2025-07-30T21:01:22.991146Z",
     "shell.execute_reply": "2025-07-30T21:01:22.990218Z"
    },
    "papermill": {
     "duration": 0.046138,
     "end_time": "2025-07-30T21:01:22.992679",
     "exception": false,
     "start_time": "2025-07-30T21:01:22.946541",
     "status": "completed"
    },
    "tags": []
   },
   "outputs": [
    {
     "data": {
      "text/html": [
       "<div>\n",
       "<style scoped>\n",
       "    .dataframe tbody tr th:only-of-type {\n",
       "        vertical-align: middle;\n",
       "    }\n",
       "\n",
       "    .dataframe tbody tr th {\n",
       "        vertical-align: top;\n",
       "    }\n",
       "\n",
       "    .dataframe thead th {\n",
       "        text-align: right;\n",
       "    }\n",
       "</style>\n",
       "<table border=\"1\" class=\"dataframe\">\n",
       "  <thead>\n",
       "    <tr style=\"text-align: right;\">\n",
       "      <th></th>\n",
       "      <th>universe_id</th>\n",
       "      <th>universe_training_year</th>\n",
       "      <th>universe_training_size</th>\n",
       "      <th>universe_scale</th>\n",
       "      <th>universe_model</th>\n",
       "      <th>universe_exclude_features</th>\n",
       "      <th>universe_exclude_subgroups</th>\n",
       "      <th>q_hat</th>\n",
       "      <th>coverage</th>\n",
       "      <th>avg_size</th>\n",
       "    </tr>\n",
       "  </thead>\n",
       "  <tbody>\n",
       "    <tr>\n",
       "      <th>0</th>\n",
       "      <td>fbcced2a4402ef744c7575370b1a9ef1</td>\n",
       "      <td>2012_14</td>\n",
       "      <td>5k</td>\n",
       "      <td>scale</td>\n",
       "      <td>gbm</td>\n",
       "      <td>nationality-sex</td>\n",
       "      <td>keep-all</td>\n",
       "      <td>0.691121</td>\n",
       "      <td>0.90943</td>\n",
       "      <td>1.123097</td>\n",
       "    </tr>\n",
       "  </tbody>\n",
       "</table>\n",
       "</div>"
      ],
      "text/plain": [
       "                        universe_id universe_training_year  \\\n",
       "0  fbcced2a4402ef744c7575370b1a9ef1                2012_14   \n",
       "\n",
       "  universe_training_size universe_scale universe_model  \\\n",
       "0                     5k          scale            gbm   \n",
       "\n",
       "  universe_exclude_features universe_exclude_subgroups     q_hat  coverage  \\\n",
       "0           nationality-sex                   keep-all  0.691121   0.90943   \n",
       "\n",
       "   avg_size  \n",
       "0  1.123097  "
      ]
     },
     "execution_count": 61,
     "metadata": {},
     "output_type": "execute_result"
    }
   ],
   "source": [
    "cp_metrics_df"
   ]
  },
  {
   "cell_type": "code",
   "execution_count": 62,
   "id": "b7fbde55-a0a1-47e4-9af6-fe4a17fa8c61",
   "metadata": {
    "execution": {
     "iopub.execute_input": "2025-07-30T21:01:23.045395Z",
     "iopub.status.busy": "2025-07-30T21:01:23.044761Z",
     "iopub.status.idle": "2025-07-30T21:01:23.050098Z",
     "shell.execute_reply": "2025-07-30T21:01:23.049167Z"
    },
    "papermill": {
     "duration": 0.033349,
     "end_time": "2025-07-30T21:01:23.051636",
     "exception": false,
     "start_time": "2025-07-30T21:01:23.018287",
     "status": "completed"
    },
    "tags": []
   },
   "outputs": [],
   "source": [
    "# Conditional Coverage & looking at subgroups"
   ]
  },
  {
   "cell_type": "code",
   "execution_count": 63,
   "id": "027ae886-68dd-4141-96c7-805a5450e1ef",
   "metadata": {
    "execution": {
     "iopub.execute_input": "2025-07-30T21:01:23.101459Z",
     "iopub.status.busy": "2025-07-30T21:01:23.100734Z",
     "iopub.status.idle": "2025-07-30T21:01:23.369310Z",
     "shell.execute_reply": "2025-07-30T21:01:23.368366Z"
    },
    "papermill": {
     "duration": 0.294912,
     "end_time": "2025-07-30T21:01:23.371123",
     "exception": false,
     "start_time": "2025-07-30T21:01:23.076211",
     "status": "completed"
    },
    "tags": []
   },
   "outputs": [],
   "source": [
    "from fairness_multiverse.conformal import build_cp_groups\n",
    "\n",
    "cp_groups_df = build_cp_groups(pred_sets, y_true, X_test.index, org_test)\n",
    "#needs universe_id and setting"
   ]
  },
  {
   "cell_type": "code",
   "execution_count": 64,
   "id": "01d5802c-663a-4d1f-9d69-e036faaffbf7",
   "metadata": {
    "execution": {
     "iopub.execute_input": "2025-07-30T21:01:23.424401Z",
     "iopub.status.busy": "2025-07-30T21:01:23.423758Z",
     "iopub.status.idle": "2025-07-30T21:01:23.428734Z",
     "shell.execute_reply": "2025-07-30T21:01:23.427544Z"
    },
    "papermill": {
     "duration": 0.033239,
     "end_time": "2025-07-30T21:01:23.430586",
     "exception": false,
     "start_time": "2025-07-30T21:01:23.397347",
     "status": "completed"
    },
    "tags": []
   },
   "outputs": [],
   "source": [
    "#delete\n",
    "#cp_groups_df"
   ]
  },
  {
   "cell_type": "code",
   "execution_count": 65,
   "id": "fa424af1-d1eb-443d-b717-2d279ada8408",
   "metadata": {
    "execution": {
     "iopub.execute_input": "2025-07-30T21:01:23.487010Z",
     "iopub.status.busy": "2025-07-30T21:01:23.486376Z",
     "iopub.status.idle": "2025-07-30T21:01:23.491390Z",
     "shell.execute_reply": "2025-07-30T21:01:23.490376Z"
    },
    "papermill": {
     "duration": 0.034787,
     "end_time": "2025-07-30T21:01:23.493158",
     "exception": false,
     "start_time": "2025-07-30T21:01:23.458371",
     "status": "completed"
    },
    "tags": []
   },
   "outputs": [],
   "source": [
    "#delete\n",
    "#percentage = (cp_groups_df['nongerman_female'] == 1).mean() * 100\n",
    "#print(percentage)\n"
   ]
  },
  {
   "cell_type": "code",
   "execution_count": 66,
   "id": "6cbdab96-b2b2-45af-ad54-d0516db2e28d",
   "metadata": {
    "execution": {
     "iopub.execute_input": "2025-07-30T21:01:23.549677Z",
     "iopub.status.busy": "2025-07-30T21:01:23.549186Z",
     "iopub.status.idle": "2025-07-30T21:01:25.193593Z",
     "shell.execute_reply": "2025-07-30T21:01:25.192495Z"
    },
    "papermill": {
     "duration": 1.675788,
     "end_time": "2025-07-30T21:01:25.195831",
     "exception": false,
     "start_time": "2025-07-30T21:01:23.520043",
     "status": "completed"
    },
    "tags": []
   },
   "outputs": [],
   "source": [
    "# Define covered = 1 if true_label is in the predicted set\n",
    "cp_groups_df['covered'] = cp_groups_df.apply(\n",
    "    lambda r: int(r['true_label'] in r['pred_set']),\n",
    "    axis=1\n",
    ")"
   ]
  },
  {
   "cell_type": "code",
   "execution_count": 67,
   "id": "338ff529-1a6b-4b87-a931-8e4788d52aad",
   "metadata": {
    "execution": {
     "iopub.execute_input": "2025-07-30T21:01:25.251169Z",
     "iopub.status.busy": "2025-07-30T21:01:25.250506Z",
     "iopub.status.idle": "2025-07-30T21:01:25.255485Z",
     "shell.execute_reply": "2025-07-30T21:01:25.254423Z"
    },
    "papermill": {
     "duration": 0.034752,
     "end_time": "2025-07-30T21:01:25.257032",
     "exception": false,
     "start_time": "2025-07-30T21:01:25.222280",
     "status": "completed"
    },
    "tags": []
   },
   "outputs": [],
   "source": [
    "#cp_groups_df"
   ]
  },
  {
   "cell_type": "code",
   "execution_count": 68,
   "id": "90032e27-66df-4540-9169-4e89cfbaa758",
   "metadata": {
    "execution": {
     "iopub.execute_input": "2025-07-30T21:01:25.312022Z",
     "iopub.status.busy": "2025-07-30T21:01:25.311506Z",
     "iopub.status.idle": "2025-07-30T21:01:25.323396Z",
     "shell.execute_reply": "2025-07-30T21:01:25.322260Z"
    },
    "papermill": {
     "duration": 0.04133,
     "end_time": "2025-07-30T21:01:25.325406",
     "exception": false,
     "start_time": "2025-07-30T21:01:25.284076",
     "status": "completed"
    },
    "tags": []
   },
   "outputs": [],
   "source": [
    "subgroups = ['frau1','nongerman','nongerman_male','nongerman_female']\n",
    "\n",
    "# Conditional coverage for subgroup==1\n",
    "cond_coverage = {\n",
    "    g: cp_groups_df.loc[cp_groups_df[g]==1, 'covered'].mean()\n",
    "    for g in subgroups\n",
    "}"
   ]
  },
  {
   "cell_type": "code",
   "execution_count": 69,
   "id": "1e348fb1-b9c3-45bc-ba23-f016827a7e0d",
   "metadata": {
    "execution": {
     "iopub.execute_input": "2025-07-30T21:01:25.383664Z",
     "iopub.status.busy": "2025-07-30T21:01:25.383002Z",
     "iopub.status.idle": "2025-07-30T21:01:25.391104Z",
     "shell.execute_reply": "2025-07-30T21:01:25.389819Z"
    },
    "papermill": {
     "duration": 0.039348,
     "end_time": "2025-07-30T21:01:25.392906",
     "exception": false,
     "start_time": "2025-07-30T21:01:25.353558",
     "status": "completed"
    },
    "tags": []
   },
   "outputs": [
    {
     "data": {
      "text/plain": [
       "{'frau1': 0.9049737161342499,\n",
       " 'nongerman': 0.9069780497389547,\n",
       " 'nongerman_male': 0.9242547059353328,\n",
       " 'nongerman_female': 0.8783904619970194}"
      ]
     },
     "execution_count": 69,
     "metadata": {},
     "output_type": "execute_result"
    }
   ],
   "source": [
    "cond_coverage"
   ]
  },
  {
   "cell_type": "code",
   "execution_count": 70,
   "id": "f5093324-c3dd-4d63-bc4c-8d945e5c8bbb",
   "metadata": {
    "execution": {
     "iopub.execute_input": "2025-07-30T21:01:25.449762Z",
     "iopub.status.busy": "2025-07-30T21:01:25.449283Z",
     "iopub.status.idle": "2025-07-30T21:01:25.457470Z",
     "shell.execute_reply": "2025-07-30T21:01:25.455557Z"
    },
    "papermill": {
     "duration": 0.038034,
     "end_time": "2025-07-30T21:01:25.459263",
     "exception": false,
     "start_time": "2025-07-30T21:01:25.421229",
     "status": "completed"
    },
    "tags": []
   },
   "outputs": [],
   "source": [
    "for subgroup, cov in cond_coverage.items():\n",
    "    cp_metrics_df[f\"cov_{subgroup}\"] = cov"
   ]
  },
  {
   "cell_type": "code",
   "execution_count": 71,
   "id": "6e872e10-dbe5-49e8-b554-5030c98ff75d",
   "metadata": {
    "execution": {
     "iopub.execute_input": "2025-07-30T21:01:25.514245Z",
     "iopub.status.busy": "2025-07-30T21:01:25.513284Z",
     "iopub.status.idle": "2025-07-30T21:01:25.532697Z",
     "shell.execute_reply": "2025-07-30T21:01:25.531602Z"
    },
    "papermill": {
     "duration": 0.047734,
     "end_time": "2025-07-30T21:01:25.534346",
     "exception": false,
     "start_time": "2025-07-30T21:01:25.486612",
     "status": "completed"
    },
    "tags": []
   },
   "outputs": [
    {
     "data": {
      "text/html": [
       "<div>\n",
       "<style scoped>\n",
       "    .dataframe tbody tr th:only-of-type {\n",
       "        vertical-align: middle;\n",
       "    }\n",
       "\n",
       "    .dataframe tbody tr th {\n",
       "        vertical-align: top;\n",
       "    }\n",
       "\n",
       "    .dataframe thead th {\n",
       "        text-align: right;\n",
       "    }\n",
       "</style>\n",
       "<table border=\"1\" class=\"dataframe\">\n",
       "  <thead>\n",
       "    <tr style=\"text-align: right;\">\n",
       "      <th></th>\n",
       "      <th>universe_id</th>\n",
       "      <th>universe_training_year</th>\n",
       "      <th>universe_training_size</th>\n",
       "      <th>universe_scale</th>\n",
       "      <th>universe_model</th>\n",
       "      <th>universe_exclude_features</th>\n",
       "      <th>universe_exclude_subgroups</th>\n",
       "      <th>q_hat</th>\n",
       "      <th>coverage</th>\n",
       "      <th>avg_size</th>\n",
       "      <th>cov_frau1</th>\n",
       "      <th>cov_nongerman</th>\n",
       "      <th>cov_nongerman_male</th>\n",
       "      <th>cov_nongerman_female</th>\n",
       "    </tr>\n",
       "  </thead>\n",
       "  <tbody>\n",
       "    <tr>\n",
       "      <th>0</th>\n",
       "      <td>fbcced2a4402ef744c7575370b1a9ef1</td>\n",
       "      <td>2012_14</td>\n",
       "      <td>5k</td>\n",
       "      <td>scale</td>\n",
       "      <td>gbm</td>\n",
       "      <td>nationality-sex</td>\n",
       "      <td>keep-all</td>\n",
       "      <td>0.691121</td>\n",
       "      <td>0.90943</td>\n",
       "      <td>1.123097</td>\n",
       "      <td>0.904974</td>\n",
       "      <td>0.906978</td>\n",
       "      <td>0.924255</td>\n",
       "      <td>0.87839</td>\n",
       "    </tr>\n",
       "  </tbody>\n",
       "</table>\n",
       "</div>"
      ],
      "text/plain": [
       "                        universe_id universe_training_year  \\\n",
       "0  fbcced2a4402ef744c7575370b1a9ef1                2012_14   \n",
       "\n",
       "  universe_training_size universe_scale universe_model  \\\n",
       "0                     5k          scale            gbm   \n",
       "\n",
       "  universe_exclude_features universe_exclude_subgroups     q_hat  coverage  \\\n",
       "0           nationality-sex                   keep-all  0.691121   0.90943   \n",
       "\n",
       "   avg_size  cov_frau1  cov_nongerman  cov_nongerman_male  \\\n",
       "0  1.123097   0.904974       0.906978            0.924255   \n",
       "\n",
       "   cov_nongerman_female  \n",
       "0               0.87839  "
      ]
     },
     "execution_count": 71,
     "metadata": {},
     "output_type": "execute_result"
    }
   ],
   "source": [
    "cp_metrics_df"
   ]
  },
  {
   "cell_type": "markdown",
   "id": "33774451",
   "metadata": {
    "papermill": {
     "duration": 0.025669,
     "end_time": "2025-07-30T21:01:25.587437",
     "exception": false,
     "start_time": "2025-07-30T21:01:25.561768",
     "status": "completed"
    },
    "tags": []
   },
   "source": [
    "# (Fairness) Metrics"
   ]
  },
  {
   "cell_type": "code",
   "execution_count": 72,
   "id": "debc5d62",
   "metadata": {
    "execution": {
     "iopub.execute_input": "2025-07-30T21:01:25.642100Z",
     "iopub.status.busy": "2025-07-30T21:01:25.641453Z",
     "iopub.status.idle": "2025-07-30T21:01:25.664169Z",
     "shell.execute_reply": "2025-07-30T21:01:25.663167Z"
    },
    "papermill": {
     "duration": 0.051649,
     "end_time": "2025-07-30T21:01:25.666144",
     "exception": false,
     "start_time": "2025-07-30T21:01:25.614495",
     "status": "completed"
    },
    "tags": []
   },
   "outputs": [],
   "source": [
    "# do I need to include maxdeutsch1.missing?\n",
    "\n",
    "import numpy as np\n",
    "\n",
    "colname_to_bin = \"maxdeutsch1\"\n",
    "majority_value = org_train[colname_to_bin].mode()[0]\n",
    "\n",
    "org_test[\"majmin\"] = np.where(org_test[colname_to_bin] == majority_value, \"majority\", \"minority\")"
   ]
  },
  {
   "cell_type": "code",
   "execution_count": 73,
   "id": "06a50de5",
   "metadata": {
    "execution": {
     "iopub.execute_input": "2025-07-30T21:01:25.720377Z",
     "iopub.status.busy": "2025-07-30T21:01:25.719839Z",
     "iopub.status.idle": "2025-07-30T21:01:28.602118Z",
     "shell.execute_reply": "2025-07-30T21:01:28.601316Z"
    },
    "papermill": {
     "duration": 2.911249,
     "end_time": "2025-07-30T21:01:28.603526",
     "exception": false,
     "start_time": "2025-07-30T21:01:25.692277",
     "status": "completed"
    },
    "tags": []
   },
   "outputs": [],
   "source": [
    "example_universe = universe.copy()\n",
    "example_universe[\"cutoff\"] = example_universe[\"cutoff\"][0]\n",
    "example_universe[\"eval_fairness_grouping\"] = example_universe[\"eval_fairness_grouping\"][0]\n",
    "fairness_dict, metric_frame = universe_analysis.compute_metrics(\n",
    "    example_universe,\n",
    "    y_pred_prob=probs_test,\n",
    "    y_test=y_true,\n",
    "    org_test=org_test,\n",
    ")"
   ]
  },
  {
   "cell_type": "markdown",
   "id": "f95d4e02",
   "metadata": {
    "papermill": {
     "duration": 0.012977,
     "end_time": "2025-07-30T21:01:28.633321",
     "exception": false,
     "start_time": "2025-07-30T21:01:28.620344",
     "status": "completed"
    },
    "tags": []
   },
   "source": [
    "# Overall"
   ]
  },
  {
   "cell_type": "markdown",
   "id": "bdee4871",
   "metadata": {
    "papermill": {
     "duration": 0.013348,
     "end_time": "2025-07-30T21:01:28.659896",
     "exception": false,
     "start_time": "2025-07-30T21:01:28.646548",
     "status": "completed"
    },
    "tags": []
   },
   "source": [
    "Fairness\n",
    "Main fairness target: Equalized Odds. Seems to be a better fit than equal opportunity, since we're not only interested in Y = 1. Seems to be a better fit than demographic parity, since we also care about accuracy, not just equal distribution of preds.\n",
    "\n",
    "Pick column for computation of fairness metrics\n",
    "\n",
    "Performance\n",
    "Overall performance measures, most interesting in relation to the measures split by group below"
   ]
  },
  {
   "cell_type": "code",
   "execution_count": 74,
   "id": "c4e067c6",
   "metadata": {
    "execution": {
     "iopub.execute_input": "2025-07-30T21:01:28.688824Z",
     "iopub.status.busy": "2025-07-30T21:01:28.688331Z",
     "iopub.status.idle": "2025-07-30T21:01:28.695507Z",
     "shell.execute_reply": "2025-07-30T21:01:28.694788Z"
    },
    "papermill": {
     "duration": 0.023259,
     "end_time": "2025-07-30T21:01:28.696797",
     "exception": false,
     "start_time": "2025-07-30T21:01:28.673538",
     "status": "completed"
    },
    "tags": []
   },
   "outputs": [
    {
     "data": {
      "text/plain": [
       "accuracy                   0.224579\n",
       "balanced accuracy          0.549084\n",
       "f1                         0.245905\n",
       "precision                  0.140477\n",
       "false positive rate        0.887407\n",
       "false negative rate        0.014425\n",
       "selection rate             0.900000\n",
       "count                  89710.000000\n",
       "dtype: float64"
      ]
     },
     "execution_count": 74,
     "metadata": {},
     "output_type": "execute_result"
    }
   ],
   "source": [
    "metric_frame.overall"
   ]
  },
  {
   "cell_type": "markdown",
   "id": "e968fe9d",
   "metadata": {
    "papermill": {
     "duration": 0.028297,
     "end_time": "2025-07-30T21:01:28.749785",
     "exception": false,
     "start_time": "2025-07-30T21:01:28.721488",
     "status": "completed"
    },
    "tags": []
   },
   "source": [
    "By Group"
   ]
  },
  {
   "cell_type": "code",
   "execution_count": 75,
   "id": "ec325bce",
   "metadata": {
    "execution": {
     "iopub.execute_input": "2025-07-30T21:01:28.804724Z",
     "iopub.status.busy": "2025-07-30T21:01:28.804338Z",
     "iopub.status.idle": "2025-07-30T21:01:28.817708Z",
     "shell.execute_reply": "2025-07-30T21:01:28.816752Z"
    },
    "papermill": {
     "duration": 0.046036,
     "end_time": "2025-07-30T21:01:28.823615",
     "exception": false,
     "start_time": "2025-07-30T21:01:28.777579",
     "status": "completed"
    },
    "tags": []
   },
   "outputs": [
    {
     "data": {
      "text/html": [
       "<div>\n",
       "<style scoped>\n",
       "    .dataframe tbody tr th:only-of-type {\n",
       "        vertical-align: middle;\n",
       "    }\n",
       "\n",
       "    .dataframe tbody tr th {\n",
       "        vertical-align: top;\n",
       "    }\n",
       "\n",
       "    .dataframe thead th {\n",
       "        text-align: right;\n",
       "    }\n",
       "</style>\n",
       "<table border=\"1\" class=\"dataframe\">\n",
       "  <thead>\n",
       "    <tr style=\"text-align: right;\">\n",
       "      <th></th>\n",
       "      <th>accuracy</th>\n",
       "      <th>balanced accuracy</th>\n",
       "      <th>f1</th>\n",
       "      <th>precision</th>\n",
       "      <th>false positive rate</th>\n",
       "      <th>false negative rate</th>\n",
       "      <th>selection rate</th>\n",
       "      <th>count</th>\n",
       "    </tr>\n",
       "    <tr>\n",
       "      <th>majmin</th>\n",
       "      <th></th>\n",
       "      <th></th>\n",
       "      <th></th>\n",
       "      <th></th>\n",
       "      <th></th>\n",
       "      <th></th>\n",
       "      <th></th>\n",
       "      <th></th>\n",
       "    </tr>\n",
       "  </thead>\n",
       "  <tbody>\n",
       "    <tr>\n",
       "      <th>majority</th>\n",
       "      <td>0.245207</td>\n",
       "      <td>0.558186</td>\n",
       "      <td>0.256165</td>\n",
       "      <td>0.147259</td>\n",
       "      <td>0.867216</td>\n",
       "      <td>0.016411</td>\n",
       "      <td>0.882594</td>\n",
       "      <td>69170.0</td>\n",
       "    </tr>\n",
       "    <tr>\n",
       "      <th>minority</th>\n",
       "      <td>0.155112</td>\n",
       "      <td>0.519569</td>\n",
       "      <td>0.213256</td>\n",
       "      <td>0.119451</td>\n",
       "      <td>0.954105</td>\n",
       "      <td>0.006757</td>\n",
       "      <td>0.958617</td>\n",
       "      <td>20540.0</td>\n",
       "    </tr>\n",
       "  </tbody>\n",
       "</table>\n",
       "</div>"
      ],
      "text/plain": [
       "          accuracy  balanced accuracy        f1  precision  \\\n",
       "majmin                                                       \n",
       "majority  0.245207           0.558186  0.256165   0.147259   \n",
       "minority  0.155112           0.519569  0.213256   0.119451   \n",
       "\n",
       "          false positive rate  false negative rate  selection rate    count  \n",
       "majmin                                                                       \n",
       "majority             0.867216             0.016411        0.882594  69170.0  \n",
       "minority             0.954105             0.006757        0.958617  20540.0  "
      ]
     },
     "execution_count": 75,
     "metadata": {},
     "output_type": "execute_result"
    }
   ],
   "source": [
    "metric_frame.by_group"
   ]
  },
  {
   "cell_type": "code",
   "execution_count": 76,
   "id": "a9ddbe63",
   "metadata": {
    "execution": {
     "iopub.execute_input": "2025-07-30T21:01:28.878545Z",
     "iopub.status.busy": "2025-07-30T21:01:28.878063Z",
     "iopub.status.idle": "2025-07-30T21:01:31.231149Z",
     "shell.execute_reply": "2025-07-30T21:01:31.230185Z"
    },
    "papermill": {
     "duration": 2.380163,
     "end_time": "2025-07-30T21:01:31.232716",
     "exception": false,
     "start_time": "2025-07-30T21:01:28.852553",
     "status": "completed"
    },
    "tags": []
   },
   "outputs": [
    {
     "data": {
      "text/plain": [
       "array([[<Axes: title={'center': 'accuracy'}, xlabel='majmin'>,\n",
       "        <Axes: title={'center': 'balanced accuracy'}, xlabel='majmin'>,\n",
       "        <Axes: title={'center': 'f1'}, xlabel='majmin'>],\n",
       "       [<Axes: title={'center': 'precision'}, xlabel='majmin'>,\n",
       "        <Axes: title={'center': 'false positive rate'}, xlabel='majmin'>,\n",
       "        <Axes: title={'center': 'false negative rate'}, xlabel='majmin'>],\n",
       "       [<Axes: title={'center': 'selection rate'}, xlabel='majmin'>,\n",
       "        <Axes: title={'center': 'count'}, xlabel='majmin'>,\n",
       "        <Axes: xlabel='majmin'>]], dtype=object)"
      ]
     },
     "execution_count": 76,
     "metadata": {},
     "output_type": "execute_result"
    },
    {
     "data": {
      "image/png": "[encoded data removed]",
      "text/plain": [
       "<Figure size 1200x800 with 9 Axes>"
      ]
     },
     "metadata": {},
     "output_type": "display_data"
    }
   ],
   "source": [
    "# In a graphic\n",
    "metric_frame.by_group.plot.bar(\n",
    "    subplots=True,\n",
    "    layout=[3, 3],\n",
    "    legend=False,\n",
    "    figsize=[12, 8],\n",
    "    title=\"Show all metrics\",\n",
    ")"
   ]
  },
  {
   "cell_type": "markdown",
   "id": "f57a0bac",
   "metadata": {
    "papermill": {
     "duration": 0.015783,
     "end_time": "2025-07-30T21:01:31.271483",
     "exception": false,
     "start_time": "2025-07-30T21:01:31.255700",
     "status": "completed"
    },
    "tags": []
   },
   "source": [
    "# Final Output"
   ]
  },
  {
   "cell_type": "code",
   "execution_count": 77,
   "id": "96d280a3",
   "metadata": {
    "execution": {
     "iopub.execute_input": "2025-07-30T21:01:31.305208Z",
     "iopub.status.busy": "2025-07-30T21:01:31.304687Z",
     "iopub.status.idle": "2025-07-30T21:01:31.311190Z",
     "shell.execute_reply": "2025-07-30T21:01:31.310534Z"
    },
    "papermill": {
     "duration": 0.026549,
     "end_time": "2025-07-30T21:01:31.312657",
     "exception": false,
     "start_time": "2025-07-30T21:01:31.286108",
     "status": "completed"
    },
    "tags": []
   },
   "outputs": [
    {
     "data": {
      "text/plain": [
       "4"
      ]
     },
     "execution_count": 77,
     "metadata": {},
     "output_type": "execute_result"
    }
   ],
   "source": [
    "sub_universes = universe_analysis.generate_sub_universes()\n",
    "len(sub_universes)"
   ]
  },
  {
   "cell_type": "code",
   "execution_count": 78,
   "id": "92adf7ba",
   "metadata": {
    "execution": {
     "iopub.execute_input": "2025-07-30T21:01:31.343702Z",
     "iopub.status.busy": "2025-07-30T21:01:31.343186Z",
     "iopub.status.idle": "2025-07-30T21:01:31.358356Z",
     "shell.execute_reply": "2025-07-30T21:01:31.357474Z"
    },
    "papermill": {
     "duration": 0.032355,
     "end_time": "2025-07-30T21:01:31.360080",
     "exception": false,
     "start_time": "2025-07-30T21:01:31.327725",
     "status": "completed"
    },
    "tags": []
   },
   "outputs": [],
   "source": [
    "def filter_sub_universe_data(sub_universe, org_test):\n",
    "    # Keep all rows — no filtering\n",
    "    keep_rows_mask = np.ones(org_test.shape[0], dtype=bool)\n",
    "\n",
    "    print(f\"[INFO] Keeping all rows: {keep_rows_mask.sum()} rows retained.\")\n",
    "    return keep_rows_mask"
   ]
  },
  {
   "cell_type": "code",
   "execution_count": 79,
   "id": "4a759155",
   "metadata": {
    "execution": {
     "iopub.execute_input": "2025-07-30T21:01:31.422600Z",
     "iopub.status.busy": "2025-07-30T21:01:31.421670Z",
     "iopub.status.idle": "2025-07-30T21:01:40.969772Z",
     "shell.execute_reply": "2025-07-30T21:01:40.968944Z"
    },
    "papermill": {
     "duration": 9.580849,
     "end_time": "2025-07-30T21:01:40.971119",
     "exception": false,
     "start_time": "2025-07-30T21:01:31.390270",
     "status": "completed"
    },
    "tags": []
   },
   "outputs": [
    {
     "name": "stdout",
     "output_type": "stream",
     "text": [
      "Stopping execution_time clock.\n",
      "[INFO] Keeping all rows: 89710 rows retained.\n"
     ]
    },
    {
     "name": "stdout",
     "output_type": "stream",
     "text": [
      "[INFO] Keeping all rows: 89710 rows retained.\n"
     ]
    },
    {
     "name": "stdout",
     "output_type": "stream",
     "text": [
      "[INFO] Keeping all rows: 89710 rows retained.\n"
     ]
    },
    {
     "name": "stdout",
     "output_type": "stream",
     "text": [
      "[INFO] Keeping all rows: 89710 rows retained.\n"
     ]
    },
    {
     "data": {
      "text/html": [
       "<div>\n",
       "<style scoped>\n",
       "    .dataframe tbody tr th:only-of-type {\n",
       "        vertical-align: middle;\n",
       "    }\n",
       "\n",
       "    .dataframe tbody tr th {\n",
       "        vertical-align: top;\n",
       "    }\n",
       "\n",
       "    .dataframe thead th {\n",
       "        text-align: right;\n",
       "    }\n",
       "</style>\n",
       "<table border=\"1\" class=\"dataframe\">\n",
       "  <thead>\n",
       "    <tr style=\"text-align: right;\">\n",
       "      <th></th>\n",
       "      <th>run_no</th>\n",
       "      <th>universe_id</th>\n",
       "      <th>universe_settings</th>\n",
       "      <th>execution_time</th>\n",
       "      <th>test_size_n</th>\n",
       "      <th>test_size_frac</th>\n",
       "      <th>fair_main_equalized_odds_difference</th>\n",
       "      <th>fair_main_equalized_odds_ratio</th>\n",
       "      <th>fair_main_demographic_parity_difference</th>\n",
       "      <th>fair_main_demographic_parity_ratio</th>\n",
       "      <th>...</th>\n",
       "      <th>perf_grp_precision_0</th>\n",
       "      <th>perf_grp_precision_1</th>\n",
       "      <th>perf_grp_false positive rate_0</th>\n",
       "      <th>perf_grp_false positive rate_1</th>\n",
       "      <th>perf_grp_false negative rate_0</th>\n",
       "      <th>perf_grp_false negative rate_1</th>\n",
       "      <th>perf_grp_selection rate_0</th>\n",
       "      <th>perf_grp_selection rate_1</th>\n",
       "      <th>perf_grp_count_0</th>\n",
       "      <th>perf_grp_count_1</th>\n",
       "    </tr>\n",
       "  </thead>\n",
       "  <tbody>\n",
       "    <tr>\n",
       "      <th>0</th>\n",
       "      <td>14</td>\n",
       "      <td>fbcced2a4402ef744c7575370b1a9ef1</td>\n",
       "      <td>{\"cutoff\": \"quantile_0.1\", \"eval_fairness_grou...</td>\n",
       "      <td>34.696736</td>\n",
       "      <td>89710</td>\n",
       "      <td>1.0</td>\n",
       "      <td>0.086889</td>\n",
       "      <td>0.908932</td>\n",
       "      <td>0.076024</td>\n",
       "      <td>0.920694</td>\n",
       "      <td>...</td>\n",
       "      <td>NaN</td>\n",
       "      <td>NaN</td>\n",
       "      <td>NaN</td>\n",
       "      <td>NaN</td>\n",
       "      <td>NaN</td>\n",
       "      <td>NaN</td>\n",
       "      <td>NaN</td>\n",
       "      <td>NaN</td>\n",
       "      <td>NaN</td>\n",
       "      <td>NaN</td>\n",
       "    </tr>\n",
       "    <tr>\n",
       "      <th>0</th>\n",
       "      <td>14</td>\n",
       "      <td>fbcced2a4402ef744c7575370b1a9ef1</td>\n",
       "      <td>{\"cutoff\": \"quantile_0.1\", \"eval_fairness_grou...</td>\n",
       "      <td>34.696736</td>\n",
       "      <td>89710</td>\n",
       "      <td>1.0</td>\n",
       "      <td>0.086889</td>\n",
       "      <td>0.908932</td>\n",
       "      <td>0.076024</td>\n",
       "      <td>0.920694</td>\n",
       "      <td>...</td>\n",
       "      <td>0.119451</td>\n",
       "      <td>0.147259</td>\n",
       "      <td>0.954105</td>\n",
       "      <td>0.867216</td>\n",
       "      <td>0.006757</td>\n",
       "      <td>0.016411</td>\n",
       "      <td>0.958617</td>\n",
       "      <td>0.882594</td>\n",
       "      <td>20540.0</td>\n",
       "      <td>69170.0</td>\n",
       "    </tr>\n",
       "    <tr>\n",
       "      <th>0</th>\n",
       "      <td>14</td>\n",
       "      <td>fbcced2a4402ef744c7575370b1a9ef1</td>\n",
       "      <td>{\"cutoff\": \"quantile_0.25\", \"eval_fairness_gro...</td>\n",
       "      <td>34.696736</td>\n",
       "      <td>89710</td>\n",
       "      <td>1.0</td>\n",
       "      <td>0.103886</td>\n",
       "      <td>0.870351</td>\n",
       "      <td>0.086498</td>\n",
       "      <td>0.894088</td>\n",
       "      <td>...</td>\n",
       "      <td>NaN</td>\n",
       "      <td>NaN</td>\n",
       "      <td>NaN</td>\n",
       "      <td>NaN</td>\n",
       "      <td>NaN</td>\n",
       "      <td>NaN</td>\n",
       "      <td>NaN</td>\n",
       "      <td>NaN</td>\n",
       "      <td>NaN</td>\n",
       "      <td>NaN</td>\n",
       "    </tr>\n",
       "    <tr>\n",
       "      <th>0</th>\n",
       "      <td>14</td>\n",
       "      <td>fbcced2a4402ef744c7575370b1a9ef1</td>\n",
       "      <td>{\"cutoff\": \"quantile_0.25\", \"eval_fairness_gro...</td>\n",
       "      <td>34.696736</td>\n",
       "      <td>89710</td>\n",
       "      <td>1.0</td>\n",
       "      <td>0.103886</td>\n",
       "      <td>0.870351</td>\n",
       "      <td>0.086498</td>\n",
       "      <td>0.894088</td>\n",
       "      <td>...</td>\n",
       "      <td>0.131982</td>\n",
       "      <td>0.171121</td>\n",
       "      <td>0.801288</td>\n",
       "      <td>0.697401</td>\n",
       "      <td>0.065034</td>\n",
       "      <td>0.054376</td>\n",
       "      <td>0.816699</td>\n",
       "      <td>0.730201</td>\n",
       "      <td>20540.0</td>\n",
       "      <td>69170.0</td>\n",
       "    </tr>\n",
       "  </tbody>\n",
       "</table>\n",
       "<p>4 rows × 50 columns</p>\n",
       "</div>"
      ],
      "text/plain": [
       "  run_no                       universe_id  \\\n",
       "0     14  fbcced2a4402ef744c7575370b1a9ef1   \n",
       "0     14  fbcced2a4402ef744c7575370b1a9ef1   \n",
       "0     14  fbcced2a4402ef744c7575370b1a9ef1   \n",
       "0     14  fbcced2a4402ef744c7575370b1a9ef1   \n",
       "\n",
       "                                   universe_settings  execution_time  \\\n",
       "0  {\"cutoff\": \"quantile_0.1\", \"eval_fairness_grou...       34.696736   \n",
       "0  {\"cutoff\": \"quantile_0.1\", \"eval_fairness_grou...       34.696736   \n",
       "0  {\"cutoff\": \"quantile_0.25\", \"eval_fairness_gro...       34.696736   \n",
       "0  {\"cutoff\": \"quantile_0.25\", \"eval_fairness_gro...       34.696736   \n",
       "\n",
       "   test_size_n  test_size_frac  fair_main_equalized_odds_difference  \\\n",
       "0        89710             1.0                             0.086889   \n",
       "0        89710             1.0                             0.086889   \n",
       "0        89710             1.0                             0.103886   \n",
       "0        89710             1.0                             0.103886   \n",
       "\n",
       "   fair_main_equalized_odds_ratio  fair_main_demographic_parity_difference  \\\n",
       "0                        0.908932                                 0.076024   \n",
       "0                        0.908932                                 0.076024   \n",
       "0                        0.870351                                 0.086498   \n",
       "0                        0.870351                                 0.086498   \n",
       "\n",
       "   fair_main_demographic_parity_ratio  ...  perf_grp_precision_0  \\\n",
       "0                            0.920694  ...                   NaN   \n",
       "0                            0.920694  ...              0.119451   \n",
       "0                            0.894088  ...                   NaN   \n",
       "0                            0.894088  ...              0.131982   \n",
       "\n",
       "   perf_grp_precision_1  perf_grp_false positive rate_0  \\\n",
       "0                   NaN                             NaN   \n",
       "0              0.147259                        0.954105   \n",
       "0                   NaN                             NaN   \n",
       "0              0.171121                        0.801288   \n",
       "\n",
       "   perf_grp_false positive rate_1  perf_grp_false negative rate_0  \\\n",
       "0                             NaN                             NaN   \n",
       "0                        0.867216                        0.006757   \n",
       "0                             NaN                             NaN   \n",
       "0                        0.697401                        0.065034   \n",
       "\n",
       "   perf_grp_false negative rate_1  perf_grp_selection rate_0  \\\n",
       "0                             NaN                        NaN   \n",
       "0                        0.016411                   0.958617   \n",
       "0                             NaN                        NaN   \n",
       "0                        0.054376                   0.816699   \n",
       "\n",
       "   perf_grp_selection rate_1  perf_grp_count_0  perf_grp_count_1  \n",
       "0                        NaN               NaN               NaN  \n",
       "0                   0.882594           20540.0           69170.0  \n",
       "0                        NaN               NaN               NaN  \n",
       "0                   0.730201           20540.0           69170.0  \n",
       "\n",
       "[4 rows x 50 columns]"
      ]
     },
     "execution_count": 79,
     "metadata": {},
     "output_type": "execute_result"
    }
   ],
   "source": [
    "final_output = universe_analysis.generate_final_output(\n",
    "    y_pred_prob=probs_test,\n",
    "    y_test=y_true,\n",
    "    org_test=org_test,\n",
    "    filter_data=filter_sub_universe_data,\n",
    "    cp_metrics_df=cp_metrics_df,\n",
    "    save=True,\n",
    ")\n",
    "final_output"
   ]
  },
  {
   "cell_type": "code",
   "execution_count": null,
   "id": "721ff514-cb11-46f8-b6fc-50392f74b5cb",
   "metadata": {
    "papermill": {
     "duration": 0.016681,
     "end_time": "2025-07-30T21:01:41.006438",
     "exception": false,
     "start_time": "2025-07-30T21:01:40.989757",
     "status": "completed"
    },
    "tags": []
   },
   "outputs": [],
   "source": []
  }
 ],
 "metadata": {
  "celltoolbar": "Tags",
  "kernelspec": {
   "display_name": "Python (CMA Fairness)",
   "language": "python",
   "name": "cma_fair_env"
  },
  "language_info": {
   "codemirror_mode": {
    "name": "ipython",
    "version": 3
   },
   "file_extension": ".py",
   "mimetype": "text/x-python",
   "name": "python",
   "nbconvert_exporter": "python",
   "pygments_lexer": "ipython3",
   "version": "3.10.12"
  },
  "papermill": {
   "default_parameters": {},
   "duration": 48.456662,
   "end_time": "2025-07-30T21:01:41.740531",
   "environment_variables": {},
   "exception": null,
   "input_path": "universe_analysis.ipynb",
   "output_path": "output/runs/14/notebooks/m_14-fbcced2a4402ef744c7575370b1a9ef1.ipynb",
   "parameters": {
    "output_dir": "output",
    "run_no": "14",
    "seed": "2023",
    "universe": "{\"cutoff\": [\"quantile_0.1\", \"quantile_0.25\"], \"eval_fairness_grouping\": [\"majority-minority\", \"nationality-all\"], \"exclude_features\": \"nationality-sex\", \"exclude_subgroups\": \"keep-all\", \"model\": \"gbm\", \"scale\": \"scale\", \"training_size\": \"5k\", \"training_year\": \"2012_14\"}",
    "universe_id": "fbcced2a4402ef744c7575370b1a9ef1"
   },
   "start_time": "2025-07-30T21:00:53.283869",
   "version": "2.6.0"
  }
 },
 "nbformat": 4,
 "nbformat_minor": 5
}