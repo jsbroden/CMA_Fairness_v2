{
 "cells": [
  {
   "cell_type": "code",
   "execution_count": 1,
   "id": "f159f837-637b-42ba-96b5-ec9a68c44524",
   "metadata": {
    "execution": {
     "iopub.execute_input": "2025-07-30T21:31:13.173912Z",
     "iopub.status.busy": "2025-07-30T21:31:13.173188Z",
     "iopub.status.idle": "2025-07-30T21:31:13.193716Z",
     "shell.execute_reply": "2025-07-30T21:31:13.192854Z"
    },
    "papermill": {
     "duration": 0.038209,
     "end_time": "2025-07-30T21:31:13.199764",
     "exception": false,
     "start_time": "2025-07-30T21:31:13.161555",
     "status": "completed"
    },
    "tags": []
   },
   "outputs": [
    {
     "name": "stdout",
     "output_type": "stream",
     "text": [
      "/dss/dsshome1/0C/ra93lal2/cma/CMA_Fairness_v2\n"
     ]
    },
    {
     "name": "stderr",
     "output_type": "stream",
     "text": [
      "/dss/dsshome1/0C/ra93lal2/.local/share/virtualenvs/CMA_Fairness_v2-3j10GkSs/lib/python3.10/site-packages/IPython/core/magics/osm.py:393: UserWarning: This is now an optional IPython functionality, using bookmarks requires you to install the `pickleshare` library.\n",
      "  bkms = self.shell.db.get('bookmarks', {})\n",
      "/dss/dsshome1/0C/ra93lal2/.local/share/virtualenvs/CMA_Fairness_v2-3j10GkSs/lib/python3.10/site-packages/IPython/core/magics/osm.py:417: UserWarning: This is now an optional IPython functionality, setting dhist requires you to install the `pickleshare` library.\n",
      "  self.shell.db['dhist'] = compress_dhist(dhist)[-100:]\n"
     ]
    }
   ],
   "source": [
    "%cd ~/cma/CMA_Fairness_v2"
   ]
  },
  {
   "cell_type": "markdown",
   "id": "de2603b9",
   "metadata": {
    "papermill": {
     "duration": 0.018197,
     "end_time": "2025-07-30T21:31:13.236945",
     "exception": false,
     "start_time": "2025-07-30T21:31:13.218748",
     "status": "completed"
    },
    "tags": []
   },
   "source": [
    "The following cell holds the definition of our parameters, these values can be overriden by rendering the with e.g. the following command:\n",
    "\n",
    "papermill -p alpha 0.2 -p ratio 0.3 universe_analysis.ipynb output/test_run.ipynb"
   ]
  },
  {
   "cell_type": "code",
   "execution_count": 2,
   "id": "a80968a0-40bb-4fa9-85ef-2d5eefb01975",
   "metadata": {
    "execution": {
     "iopub.execute_input": "2025-07-30T21:31:13.267779Z",
     "iopub.status.busy": "2025-07-30T21:31:13.267390Z",
     "iopub.status.idle": "2025-07-30T21:31:13.272386Z",
     "shell.execute_reply": "2025-07-30T21:31:13.271586Z"
    },
    "papermill": {
     "duration": 0.017669,
     "end_time": "2025-07-30T21:31:13.273590",
     "exception": false,
     "start_time": "2025-07-30T21:31:13.255921",
     "status": "completed"
    },
    "tags": []
   },
   "outputs": [
    {
     "name": "stdout",
     "output_type": "stream",
     "text": [
      "Current working directory: /dss/dsshome1/0C/ra93lal2/cma/CMA_Fairness_v2\n"
     ]
    }
   ],
   "source": [
    "import os\n",
    "print(\"Current working directory:\", os.getcwd())"
   ]
  },
  {
   "cell_type": "code",
   "execution_count": 3,
   "id": "2dce4c03",
   "metadata": {
    "execution": {
     "iopub.execute_input": "2025-07-30T21:31:13.294990Z",
     "iopub.status.busy": "2025-07-30T21:31:13.294454Z",
     "iopub.status.idle": "2025-07-30T21:31:13.299164Z",
     "shell.execute_reply": "2025-07-30T21:31:13.298402Z"
    },
    "papermill": {
     "duration": 0.016485,
     "end_time": "2025-07-30T21:31:13.300430",
     "exception": false,
     "start_time": "2025-07-30T21:31:13.283945",
     "status": "completed"
    },
    "tags": [
     "parameters"
    ]
   },
   "outputs": [],
   "source": [
    "run_no = 0\n",
    "universe_id = \"test\"\n",
    "universe = {\n",
    "    \"training_size\": \"25k\", # \"25k\", \"5k\", \"1k\"\n",
    "    \"training_year\": \"2014\", # \"2014\", \"2012_14\", \"2010_14\"\n",
    "    \"scale\": \"scale\", # \"scale\", \"do-not-scale\",\n",
    "    #\"stratify_split\": \"target\", # \"none\", \"target\", \"protected-attribute\", \"both\",\n",
    "    \"model\": \"elasticnet\", # \"logreg\", \"penalized_logreg\", \"rf\", \"gbm\", \"elasticnet\"\n",
    "    \"cutoff\": [\"quantile_0.15\", \"quantile_0.30\"],\n",
    "    \"exclude_features\": \"age\", # \"none\", \"nationality\", \"sex\", \"nationality-sex\", \"age\"\n",
    "    \"exclude_subgroups\": \"keep-all\", # \"keep-all\", \"drop-non-german\"\n",
    "    \"eval_fairness_grouping\": [\"majority-minority\", \"nationality-all\"]\n",
    "}\n",
    "\n",
    "output_dir=\"./output\"\n",
    "seed=0"
   ]
  },
  {
   "cell_type": "code",
   "execution_count": 4,
   "id": "c493272a",
   "metadata": {
    "execution": {
     "iopub.execute_input": "2025-07-30T21:31:13.324616Z",
     "iopub.status.busy": "2025-07-30T21:31:13.323971Z",
     "iopub.status.idle": "2025-07-30T21:31:13.328508Z",
     "shell.execute_reply": "2025-07-30T21:31:13.327764Z"
    },
    "papermill": {
     "duration": 0.016534,
     "end_time": "2025-07-30T21:31:13.329653",
     "exception": false,
     "start_time": "2025-07-30T21:31:13.313119",
     "status": "completed"
    },
    "tags": [
     "injected-parameters"
    ]
   },
   "outputs": [],
   "source": [
    "# Parameters\n",
    "universe_id = \"c4c6285d9a65567a614d5682ad6e983b\"\n",
    "run_no = \"14\"\n",
    "universe = \"{\\\"cutoff\\\": [\\\"quantile_0.1\\\", \\\"quantile_0.25\\\"], \\\"eval_fairness_grouping\\\": [\\\"majority-minority\\\", \\\"nationality-all\\\"], \\\"exclude_features\\\": \\\"nationality-sex\\\", \\\"exclude_subgroups\\\": \\\"keep-all\\\", \\\"model\\\": \\\"gbm\\\", \\\"scale\\\": \\\"do-not-scale\\\", \\\"training_size\\\": \\\"1k\\\", \\\"training_year\\\": \\\"2014\\\"}\"\n",
    "output_dir = \"output\"\n",
    "seed = \"2023\"\n"
   ]
  },
  {
   "cell_type": "code",
   "execution_count": 5,
   "id": "1650acaf",
   "metadata": {
    "execution": {
     "iopub.execute_input": "2025-07-30T21:31:13.353579Z",
     "iopub.status.busy": "2025-07-30T21:31:13.353223Z",
     "iopub.status.idle": "2025-07-30T21:31:13.358496Z",
     "shell.execute_reply": "2025-07-30T21:31:13.357555Z"
    },
    "papermill": {
     "duration": 0.01999,
     "end_time": "2025-07-30T21:31:13.360009",
     "exception": false,
     "start_time": "2025-07-30T21:31:13.340019",
     "status": "completed"
    },
    "tags": []
   },
   "outputs": [],
   "source": [
    "import json\n",
    "# Parse universe into dict if it is passed as a string\n",
    "if isinstance(universe, str):\n",
    "    universe = json.loads(universe)"
   ]
  },
  {
   "cell_type": "code",
   "execution_count": 6,
   "id": "16620c48",
   "metadata": {
    "execution": {
     "iopub.execute_input": "2025-07-30T21:31:13.400120Z",
     "iopub.status.busy": "2025-07-30T21:31:13.399742Z",
     "iopub.status.idle": "2025-07-30T21:31:13.448605Z",
     "shell.execute_reply": "2025-07-30T21:31:13.447751Z"
    },
    "papermill": {
     "duration": 0.070346,
     "end_time": "2025-07-30T21:31:13.450170",
     "exception": false,
     "start_time": "2025-07-30T21:31:13.379824",
     "status": "completed"
    },
    "tags": []
   },
   "outputs": [],
   "source": [
    "# Auto-reload the custom package\n",
    "%load_ext autoreload\n",
    "%autoreload 1\n",
    "%aimport fairness_multiverse"
   ]
  },
  {
   "cell_type": "code",
   "execution_count": 7,
   "id": "01c5c9f3",
   "metadata": {
    "execution": {
     "iopub.execute_input": "2025-07-30T21:31:13.491349Z",
     "iopub.status.busy": "2025-07-30T21:31:13.490907Z",
     "iopub.status.idle": "2025-07-30T21:31:20.256940Z",
     "shell.execute_reply": "2025-07-30T21:31:20.255492Z"
    },
    "papermill": {
     "duration": 6.789549,
     "end_time": "2025-07-30T21:31:20.258871",
     "exception": false,
     "start_time": "2025-07-30T21:31:13.469322",
     "status": "completed"
    },
    "tags": []
   },
   "outputs": [],
   "source": [
    "from fairness_multiverse.universe import UniverseAnalysis\n",
    "\n",
    "universe_analysis = UniverseAnalysis(\n",
    "    run_no = run_no,\n",
    "    universe_id = universe_id,\n",
    "    universe = universe,\n",
    "    output_dir=output_dir,\n",
    ")"
   ]
  },
  {
   "cell_type": "code",
   "execution_count": 8,
   "id": "106241f5",
   "metadata": {
    "execution": {
     "iopub.execute_input": "2025-07-30T21:31:20.300565Z",
     "iopub.status.busy": "2025-07-30T21:31:20.299560Z",
     "iopub.status.idle": "2025-07-30T21:31:20.307981Z",
     "shell.execute_reply": "2025-07-30T21:31:20.306881Z"
    },
    "papermill": {
     "duration": 0.02611,
     "end_time": "2025-07-30T21:31:20.309973",
     "exception": false,
     "start_time": "2025-07-30T21:31:20.283863",
     "status": "completed"
    },
    "tags": []
   },
   "outputs": [
    {
     "name": "stdout",
     "output_type": "stream",
     "text": [
      "Using Seed: 2023\n"
     ]
    }
   ],
   "source": [
    "import numpy as np\n",
    "parsed_seed = int(seed)\n",
    "np.random.seed(parsed_seed)\n",
    "print(f\"Using Seed: {parsed_seed}\")"
   ]
  },
  {
   "cell_type": "markdown",
   "id": "e0ebdc57",
   "metadata": {
    "papermill": {
     "duration": 0.020919,
     "end_time": "2025-07-30T21:31:20.350378",
     "exception": false,
     "start_time": "2025-07-30T21:31:20.329459",
     "status": "completed"
    },
    "tags": []
   },
   "source": [
    "# Loading Data"
   ]
  },
  {
   "cell_type": "markdown",
   "id": "681925a3",
   "metadata": {
    "papermill": {
     "duration": 0.021394,
     "end_time": "2025-07-30T21:31:20.393027",
     "exception": false,
     "start_time": "2025-07-30T21:31:20.371633",
     "status": "completed"
    },
    "tags": []
   },
   "source": [
    "Load siab_train, siab_test, siab_calib and/or \n",
    "load siab_train_features, siab_train_labels"
   ]
  },
  {
   "cell_type": "code",
   "execution_count": 9,
   "id": "f0496b8a",
   "metadata": {
    "execution": {
     "iopub.execute_input": "2025-07-30T21:31:20.438352Z",
     "iopub.status.busy": "2025-07-30T21:31:20.437828Z",
     "iopub.status.idle": "2025-07-30T21:31:28.715751Z",
     "shell.execute_reply": "2025-07-30T21:31:28.714934Z"
    },
    "papermill": {
     "duration": 8.303217,
     "end_time": "2025-07-30T21:31:28.717183",
     "exception": false,
     "start_time": "2025-07-30T21:31:20.413966",
     "status": "completed"
    },
    "tags": []
   },
   "outputs": [
    {
     "name": "stdout",
     "output_type": "stream",
     "text": [
      "Loading SIAB data from cache: data/siab_cached.csv.gz\n"
     ]
    },
    {
     "name": "stdout",
     "output_type": "stream",
     "text": [
      "(643690, 164)\n"
     ]
    }
   ],
   "source": [
    "from pathlib import Path\n",
    "import pandas as pd\n",
    "\n",
    "# File paths\n",
    "raw_file = Path(\"data/raw/siab.csv\")\n",
    "cache_file = Path(\"data/siab_cached.csv.gz\")\n",
    "\n",
    "# Ensure cache directory exists\n",
    "cache_file.parent.mkdir(parents=True, exist_ok=True)\n",
    "\n",
    "# Load with simple caching\n",
    "if cache_file.exists():\n",
    "    print(f\"Loading SIAB data from cache: {cache_file}\")\n",
    "    siab = pd.read_csv(cache_file, compression='gzip')\n",
    "else:\n",
    "    print(f\"Cache not found. Reading raw SIAB data: {raw_file}\")\n",
    "    siab = pd.read_csv(raw_file)\n",
    "    siab.to_csv(cache_file, index=False, compression='gzip')\n",
    "    print(f\"Cached SIAB data to: {cache_file}\")\n",
    "\n",
    "# Now use `siab` DataFrame as needed\n",
    "print(siab.shape)"
   ]
  },
  {
   "cell_type": "code",
   "execution_count": 10,
   "id": "db0ca512-5f53-4dba-abdb-a2888bca41ba",
   "metadata": {
    "execution": {
     "iopub.execute_input": "2025-07-30T21:31:28.741889Z",
     "iopub.status.busy": "2025-07-30T21:31:28.741538Z",
     "iopub.status.idle": "2025-07-30T21:31:28.745762Z",
     "shell.execute_reply": "2025-07-30T21:31:28.744966Z"
    },
    "papermill": {
     "duration": 0.016784,
     "end_time": "2025-07-30T21:31:28.747028",
     "exception": false,
     "start_time": "2025-07-30T21:31:28.730244",
     "status": "completed"
    },
    "tags": []
   },
   "outputs": [],
   "source": [
    "#siab"
   ]
  },
  {
   "cell_type": "code",
   "execution_count": 11,
   "id": "a0edb063",
   "metadata": {
    "execution": {
     "iopub.execute_input": "2025-07-30T21:31:28.769640Z",
     "iopub.status.busy": "2025-07-30T21:31:28.768971Z",
     "iopub.status.idle": "2025-07-30T21:31:28.773531Z",
     "shell.execute_reply": "2025-07-30T21:31:28.772760Z"
    },
    "papermill": {
     "duration": 0.017074,
     "end_time": "2025-07-30T21:31:28.774878",
     "exception": false,
     "start_time": "2025-07-30T21:31:28.757804",
     "status": "completed"
    },
    "tags": []
   },
   "outputs": [],
   "source": [
    "#import pandas as pd\n",
    "#\n",
    "#X_train = pd.read_csv(\"./data/X_train.csv\")\n",
    "#y_train = pd.read_csv(\"./data/y_train.csv\")"
   ]
  },
  {
   "cell_type": "code",
   "execution_count": 12,
   "id": "63d08085",
   "metadata": {
    "execution": {
     "iopub.execute_input": "2025-07-30T21:31:28.797316Z",
     "iopub.status.busy": "2025-07-30T21:31:28.796838Z",
     "iopub.status.idle": "2025-07-30T21:31:28.800928Z",
     "shell.execute_reply": "2025-07-30T21:31:28.800271Z"
    },
    "papermill": {
     "duration": 0.016478,
     "end_time": "2025-07-30T21:31:28.802284",
     "exception": false,
     "start_time": "2025-07-30T21:31:28.785806",
     "status": "completed"
    },
    "tags": []
   },
   "outputs": [],
   "source": [
    "#X_test = pd.read_csv(\"./data/X_test.csv\")\n",
    "#y_true = pd.read_csv(\"./data/y_test.csv\")"
   ]
  },
  {
   "cell_type": "code",
   "execution_count": 13,
   "id": "98a8d0fa-1d3d-4ed8-bb2c-281470e24add",
   "metadata": {
    "execution": {
     "iopub.execute_input": "2025-07-30T21:31:28.824722Z",
     "iopub.status.busy": "2025-07-30T21:31:28.824246Z",
     "iopub.status.idle": "2025-07-30T21:31:28.828433Z",
     "shell.execute_reply": "2025-07-30T21:31:28.827657Z"
    },
    "papermill": {
     "duration": 0.016751,
     "end_time": "2025-07-30T21:31:28.829766",
     "exception": false,
     "start_time": "2025-07-30T21:31:28.813015",
     "status": "completed"
    },
    "tags": []
   },
   "outputs": [],
   "source": [
    "# Calibration data for conformal\n",
    "#X_calib = pd.read_csv(\"./data/X_calib.csv\")\n",
    "#y_calib = pd.read_csv(\"./data/y_calib.csv\")"
   ]
  },
  {
   "cell_type": "markdown",
   "id": "997051c5-15bd-4b69-9786-c3001a3ce484",
   "metadata": {
    "papermill": {
     "duration": 0.01027,
     "end_time": "2025-07-30T21:31:28.851000",
     "exception": false,
     "start_time": "2025-07-30T21:31:28.840730",
     "status": "completed"
    },
    "tags": []
   },
   "source": [
    "# Splitting Data and Setting Training Data Size"
   ]
  },
  {
   "cell_type": "code",
   "execution_count": 14,
   "id": "e993b61f-042d-41a6-8c81-f55681f86335",
   "metadata": {
    "execution": {
     "iopub.execute_input": "2025-07-30T21:31:28.873028Z",
     "iopub.status.busy": "2025-07-30T21:31:28.872530Z",
     "iopub.status.idle": "2025-07-30T21:31:28.881931Z",
     "shell.execute_reply": "2025-07-30T21:31:28.881259Z"
    },
    "papermill": {
     "duration": 0.022123,
     "end_time": "2025-07-30T21:31:28.883310",
     "exception": false,
     "start_time": "2025-07-30T21:31:28.861187",
     "status": "completed"
    },
    "tags": []
   },
   "outputs": [],
   "source": [
    "def sample_by_year_size(df,\n",
    "                        training_year: str,\n",
    "                        training_size: str,\n",
    "                        random_state: int = 42):\n",
    "    # --- parse training_year into a list of int years ---\n",
    "    if \"_\" in training_year:\n",
    "        start_str, end_str = training_year.split(\"_\", 1)\n",
    "        start = int(start_str)\n",
    "        end   = int(end_str) if len(end_str) == 4 else (int(end_str) + (start // 100)*100)\n",
    "        years = list(range(start, end + 1))\n",
    "    else:\n",
    "        years = [int(training_year)]\n",
    "\n",
    "    df = df[df[\"year\"].isin(years)].reset_index(drop=True)\n",
    "\n",
    "    # --- map training_size to total number of samples ---\n",
    "    total_map = {\"25k\": 25_000, \"5k\": 5_000, \"1k\": 1_000}\n",
    "    if training_size not in total_map:\n",
    "        return df  # e.g. \"all\"\n",
    "\n",
    "    total_samples = total_map[training_size]\n",
    "    n_years       = len(years)\n",
    "    base          = total_samples // n_years\n",
    "    remainder     = total_samples % n_years\n",
    "\n",
    "    # --- build a dict: year -> how many to sample ---\n",
    "    # give +1 to the first `remainder` years in ascending order\n",
    "    quotas = {\n",
    "        year: base + (1 if idx < remainder else 0)\n",
    "        for idx, year in enumerate(sorted(years))\n",
    "    }\n",
    "\n",
    "    # --- sample per‐year according to the quota dict ---\n",
    "    sampled = (\n",
    "        df\n",
    "        .groupby(\"year\", group_keys=False)\n",
    "        .apply(lambda grp: grp.sample(\n",
    "            n=min(len(grp), quotas[grp.name]),\n",
    "            random_state=random_state))\n",
    "        .reset_index(drop=True)\n",
    "    )\n",
    "\n",
    "    return sampled"
   ]
  },
  {
   "cell_type": "code",
   "execution_count": 15,
   "id": "c0ccd338-0e02-41f3-a09d-f56f9266e3fb",
   "metadata": {
    "execution": {
     "iopub.execute_input": "2025-07-30T21:31:28.905968Z",
     "iopub.status.busy": "2025-07-30T21:31:28.905482Z",
     "iopub.status.idle": "2025-07-30T21:31:28.910046Z",
     "shell.execute_reply": "2025-07-30T21:31:28.909171Z"
    },
    "papermill": {
     "duration": 0.01704,
     "end_time": "2025-07-30T21:31:28.911352",
     "exception": false,
     "start_time": "2025-07-30T21:31:28.894312",
     "status": "completed"
    },
    "tags": []
   },
   "outputs": [],
   "source": [
    "#universe[\"training_size\"]"
   ]
  },
  {
   "cell_type": "code",
   "execution_count": 16,
   "id": "ca707fd7-8047-4acd-bfa5-66248fbbf8e6",
   "metadata": {
    "execution": {
     "iopub.execute_input": "2025-07-30T21:31:28.934708Z",
     "iopub.status.busy": "2025-07-30T21:31:28.934030Z",
     "iopub.status.idle": "2025-07-30T21:31:28.938363Z",
     "shell.execute_reply": "2025-07-30T21:31:28.937718Z"
    },
    "papermill": {
     "duration": 0.016765,
     "end_time": "2025-07-30T21:31:28.939676",
     "exception": false,
     "start_time": "2025-07-30T21:31:28.922911",
     "status": "completed"
    },
    "tags": []
   },
   "outputs": [],
   "source": [
    "#universe[\"training_year\"]"
   ]
  },
  {
   "cell_type": "code",
   "execution_count": 17,
   "id": "aea9c6ef-6f46-42c8-85eb-5a62025c1508",
   "metadata": {
    "execution": {
     "iopub.execute_input": "2025-07-30T21:31:28.962239Z",
     "iopub.status.busy": "2025-07-30T21:31:28.961768Z",
     "iopub.status.idle": "2025-07-30T21:31:29.179698Z",
     "shell.execute_reply": "2025-07-30T21:31:29.178964Z"
    },
    "papermill": {
     "duration": 0.230505,
     "end_time": "2025-07-30T21:31:29.181154",
     "exception": false,
     "start_time": "2025-07-30T21:31:28.950649",
     "status": "completed"
    },
    "tags": []
   },
   "outputs": [],
   "source": [
    "siab_train = sample_by_year_size(siab,\n",
    "                               training_year=universe[\"training_year\"],\n",
    "                               training_size=universe[\"training_size\"])"
   ]
  },
  {
   "cell_type": "code",
   "execution_count": 18,
   "id": "8d3afb32-789d-442c-8d5d-9f5aa8dd2eed",
   "metadata": {
    "execution": {
     "iopub.execute_input": "2025-07-30T21:31:29.204565Z",
     "iopub.status.busy": "2025-07-30T21:31:29.204226Z",
     "iopub.status.idle": "2025-07-30T21:31:29.208367Z",
     "shell.execute_reply": "2025-07-30T21:31:29.207509Z"
    },
    "papermill": {
     "duration": 0.017261,
     "end_time": "2025-07-30T21:31:29.209683",
     "exception": false,
     "start_time": "2025-07-30T21:31:29.192422",
     "status": "completed"
    },
    "tags": []
   },
   "outputs": [],
   "source": [
    "#siab_train.shape"
   ]
  },
  {
   "cell_type": "code",
   "execution_count": 19,
   "id": "d582db68-1a4c-47fb-84fc-08518dc1975a",
   "metadata": {
    "execution": {
     "iopub.execute_input": "2025-07-30T21:31:29.233008Z",
     "iopub.status.busy": "2025-07-30T21:31:29.232273Z",
     "iopub.status.idle": "2025-07-30T21:31:29.236903Z",
     "shell.execute_reply": "2025-07-30T21:31:29.235998Z"
    },
    "papermill": {
     "duration": 0.017362,
     "end_time": "2025-07-30T21:31:29.238128",
     "exception": false,
     "start_time": "2025-07-30T21:31:29.220766",
     "status": "completed"
    },
    "tags": []
   },
   "outputs": [],
   "source": [
    "#display(siab_train.groupby(\"year\").size())"
   ]
  },
  {
   "cell_type": "code",
   "execution_count": 20,
   "id": "a561edb4-d032-42cb-8256-22eac1111c64",
   "metadata": {
    "execution": {
     "iopub.execute_input": "2025-07-30T21:31:29.261255Z",
     "iopub.status.busy": "2025-07-30T21:31:29.260764Z",
     "iopub.status.idle": "2025-07-30T21:31:29.484429Z",
     "shell.execute_reply": "2025-07-30T21:31:29.483630Z"
    },
    "papermill": {
     "duration": 0.236607,
     "end_time": "2025-07-30T21:31:29.485916",
     "exception": false,
     "start_time": "2025-07-30T21:31:29.249309",
     "status": "completed"
    },
    "tags": []
   },
   "outputs": [],
   "source": [
    "#siab_train = siab_s[siab_s.year < 2015]\n",
    "siab_calib = siab[siab.year == 2015]\n",
    "siab_test = siab[siab.year == 2016]"
   ]
  },
  {
   "cell_type": "code",
   "execution_count": 21,
   "id": "472de16f-c3db-4916-846b-1f0de9cf1746",
   "metadata": {
    "execution": {
     "iopub.execute_input": "2025-07-30T21:31:29.509147Z",
     "iopub.status.busy": "2025-07-30T21:31:29.508803Z",
     "iopub.status.idle": "2025-07-30T21:31:29.514321Z",
     "shell.execute_reply": "2025-07-30T21:31:29.513532Z"
    },
    "papermill": {
     "duration": 0.018427,
     "end_time": "2025-07-30T21:31:29.515587",
     "exception": false,
     "start_time": "2025-07-30T21:31:29.497160",
     "status": "completed"
    },
    "tags": []
   },
   "outputs": [],
   "source": [
    "X_train = siab_train.iloc[:,4:164]\n",
    "y_train = siab_train.iloc[:, [3]]"
   ]
  },
  {
   "cell_type": "code",
   "execution_count": 22,
   "id": "828c96af-f43a-4ed6-ba47-8ac73a47d56c",
   "metadata": {
    "execution": {
     "iopub.execute_input": "2025-07-30T21:31:29.538824Z",
     "iopub.status.busy": "2025-07-30T21:31:29.538347Z",
     "iopub.status.idle": "2025-07-30T21:31:29.583895Z",
     "shell.execute_reply": "2025-07-30T21:31:29.583019Z"
    },
    "papermill": {
     "duration": 0.058236,
     "end_time": "2025-07-30T21:31:29.585182",
     "exception": false,
     "start_time": "2025-07-30T21:31:29.526946",
     "status": "completed"
    },
    "tags": []
   },
   "outputs": [],
   "source": [
    "X_calib = siab_calib.iloc[:,4:164]\n",
    "y_calib = siab_calib.iloc[:, [3]]"
   ]
  },
  {
   "cell_type": "code",
   "execution_count": 23,
   "id": "c34be9c3-6bd6-476e-acd3-845840e303be",
   "metadata": {
    "execution": {
     "iopub.execute_input": "2025-07-30T21:31:29.608680Z",
     "iopub.status.busy": "2025-07-30T21:31:29.608195Z",
     "iopub.status.idle": "2025-07-30T21:31:29.655148Z",
     "shell.execute_reply": "2025-07-30T21:31:29.654364Z"
    },
    "papermill": {
     "duration": 0.059645,
     "end_time": "2025-07-30T21:31:29.656429",
     "exception": false,
     "start_time": "2025-07-30T21:31:29.596784",
     "status": "completed"
    },
    "tags": []
   },
   "outputs": [],
   "source": [
    "X_test = siab_test.iloc[:,4:164]\n",
    "y_true = siab_test.iloc[:, [3]]"
   ]
  },
  {
   "cell_type": "markdown",
   "id": "9901737e-04df-44f0-9100-f5ad144ed040",
   "metadata": {
    "papermill": {
     "duration": 0.010814,
     "end_time": "2025-07-30T21:31:29.678814",
     "exception": false,
     "start_time": "2025-07-30T21:31:29.668000",
     "status": "completed"
    },
    "tags": []
   },
   "source": [
    "# Splitting Data and Setting Training Data Size OLD VERSION"
   ]
  },
  {
   "cell_type": "code",
   "execution_count": 24,
   "id": "acbc8f7d-8fc8-4e86-8c59-5dcb0f58384b",
   "metadata": {
    "execution": {
     "iopub.execute_input": "2025-07-30T21:31:29.701747Z",
     "iopub.status.busy": "2025-07-30T21:31:29.701213Z",
     "iopub.status.idle": "2025-07-30T21:31:29.705908Z",
     "shell.execute_reply": "2025-07-30T21:31:29.705203Z"
    },
    "papermill": {
     "duration": 0.017804,
     "end_time": "2025-07-30T21:31:29.707331",
     "exception": false,
     "start_time": "2025-07-30T21:31:29.689527",
     "status": "completed"
    },
    "tags": []
   },
   "outputs": [],
   "source": [
    "#def sample_by_year(df, training_size, random_state=42):\n",
    "#    if training_size == \"2014\":\n",
    "#        return df[df[\"year\"] == 2014].reset_index(drop=True)\n",
    "#    \n",
    "#    size_map = {\n",
    "#        \"25k\": 5000,\n",
    "#        \"5k\": 1000,\n",
    "#        \"1k\": 200\n",
    "#    }\n",
    "#\n",
    "#    if training_size not in size_map:\n",
    "#        return df.reset_index(drop=True)  # use all data\n",
    "#\n",
    "#    n_per_year = size_map[training_size]\n",
    "#    grouped = df.groupby(\"year\")\n",
    "#    sampled = grouped.apply(lambda x: x.sample(n=min(n_per_year, len(x)), random_state=random_state))\n",
    "#    return sampled.reset_index(drop=True)"
   ]
  },
  {
   "cell_type": "code",
   "execution_count": 25,
   "id": "6d931f52-beaf-43ff-9e78-9d44a448d54e",
   "metadata": {
    "execution": {
     "iopub.execute_input": "2025-07-30T21:31:29.730613Z",
     "iopub.status.busy": "2025-07-30T21:31:29.730140Z",
     "iopub.status.idle": "2025-07-30T21:31:29.734507Z",
     "shell.execute_reply": "2025-07-30T21:31:29.733871Z"
    },
    "papermill": {
     "duration": 0.017115,
     "end_time": "2025-07-30T21:31:29.735747",
     "exception": false,
     "start_time": "2025-07-30T21:31:29.718632",
     "status": "completed"
    },
    "tags": []
   },
   "outputs": [],
   "source": [
    "#siab_s = sample_by_year(siab, universe[\"training_size\"])"
   ]
  },
  {
   "cell_type": "code",
   "execution_count": 26,
   "id": "5db0a40e-a4e2-4920-be85-b12ae061d70d",
   "metadata": {
    "execution": {
     "iopub.execute_input": "2025-07-30T21:31:29.759574Z",
     "iopub.status.busy": "2025-07-30T21:31:29.758926Z",
     "iopub.status.idle": "2025-07-30T21:31:29.763297Z",
     "shell.execute_reply": "2025-07-30T21:31:29.762559Z"
    },
    "papermill": {
     "duration": 0.017342,
     "end_time": "2025-07-30T21:31:29.764756",
     "exception": false,
     "start_time": "2025-07-30T21:31:29.747414",
     "status": "completed"
    },
    "tags": []
   },
   "outputs": [],
   "source": [
    "#display(siab_s.groupby(\"year\").size())"
   ]
  },
  {
   "cell_type": "code",
   "execution_count": 27,
   "id": "e6c733c5",
   "metadata": {
    "execution": {
     "iopub.execute_input": "2025-07-30T21:31:29.788452Z",
     "iopub.status.busy": "2025-07-30T21:31:29.787770Z",
     "iopub.status.idle": "2025-07-30T21:31:29.872573Z",
     "shell.execute_reply": "2025-07-30T21:31:29.871819Z"
    },
    "papermill": {
     "duration": 0.097827,
     "end_time": "2025-07-30T21:31:29.874014",
     "exception": false,
     "start_time": "2025-07-30T21:31:29.776187",
     "status": "completed"
    },
    "tags": []
   },
   "outputs": [],
   "source": [
    "# Auxiliary data needed downstream in the pipeline\n",
    "\n",
    "org_train = X_train.copy()\n",
    "org_test = X_test.copy()\n",
    "org_calib = X_calib.copy()"
   ]
  },
  {
   "cell_type": "code",
   "execution_count": 28,
   "id": "1466abac-c6da-4492-a62f-4240ae3783af",
   "metadata": {
    "execution": {
     "iopub.execute_input": "2025-07-30T21:31:29.897664Z",
     "iopub.status.busy": "2025-07-30T21:31:29.897178Z",
     "iopub.status.idle": "2025-07-30T21:31:29.901913Z",
     "shell.execute_reply": "2025-07-30T21:31:29.901181Z"
    },
    "papermill": {
     "duration": 0.01779,
     "end_time": "2025-07-30T21:31:29.903362",
     "exception": false,
     "start_time": "2025-07-30T21:31:29.885572",
     "status": "completed"
    },
    "tags": []
   },
   "outputs": [],
   "source": [
    "# put in other script?\n",
    "# Group sizes\n",
    "\n",
    "#def calculate_percentages(df, df_name):\n",
    "#    total_entries = len(df)\n",
    "#\n",
    "#    female_pct = (df['frau1'] == 1).mean() * 100\n",
    "#    non_german_pct = ((df['maxdeutsch1'] == 0) & (df['maxdeutsch.Missing.'] == 0)).mean() * 100\n",
    "#    non_german_male_pct = ((df['frau1'] == 0) & (df['maxdeutsch1'] == 0) & (df['maxdeutsch.Missing.'] == 0)).mean() * 100\n",
    "#    non_german_female_pct = ((df['frau1'] == 1) & (df['maxdeutsch1'] == 0) & (df['maxdeutsch.Missing.'] == 0)).mean() * 100\n",
    "#\n",
    "#    print(f\"--- {df_name} ---\")\n",
    "#    print(f\"Female: {female_pct:.2f}%\")\n",
    "#    print(f\"Non-German: {non_german_pct:.2f}%\")\n",
    "#    print(f\"Non-German Male: {non_german_male_pct:.2f}%\")\n",
    "#    print(f\"Non-German Female: {non_german_female_pct:.2f}%\\n\")\n",
    "#\n",
    "## Calculate for each DataFrame\n",
    "#calculate_percentages(siab_calib, \"siab_calib\")\n",
    "#calculate_percentages(siab_test, \"siab_test\")\n",
    "#calculate_percentages(siab_train, \"siab_train\")"
   ]
  },
  {
   "cell_type": "markdown",
   "id": "0a4a1b33",
   "metadata": {
    "papermill": {
     "duration": 0.010952,
     "end_time": "2025-07-30T21:31:29.926079",
     "exception": false,
     "start_time": "2025-07-30T21:31:29.915127",
     "status": "completed"
    },
    "tags": []
   },
   "source": [
    "# Preprocessing Data"
   ]
  },
  {
   "cell_type": "code",
   "execution_count": 29,
   "id": "ca879031",
   "metadata": {
    "execution": {
     "iopub.execute_input": "2025-07-30T21:31:29.949077Z",
     "iopub.status.busy": "2025-07-30T21:31:29.948582Z",
     "iopub.status.idle": "2025-07-30T21:31:29.953787Z",
     "shell.execute_reply": "2025-07-30T21:31:29.953079Z"
    },
    "papermill": {
     "duration": 0.018104,
     "end_time": "2025-07-30T21:31:29.955042",
     "exception": false,
     "start_time": "2025-07-30T21:31:29.936938",
     "status": "completed"
    },
    "tags": []
   },
   "outputs": [],
   "source": [
    "# EXCLUDE PROTECTED FEATURES\n",
    "# ----------------------\n",
    "# \"exclude_features\": \"none\", # \"nationality\", \"sex\", \"nationality-sex\"\n",
    "\n",
    "excluded_features = universe[\"exclude_features\"].split(\"-\") # split, e.g.: \"nationality-sex\" -> [\"nationality\", \"sex\"]\n",
    "excluded_features_dictionary = {\n",
    "    \"nationality\": [\"maxdeutsch1\", \"maxdeutsch.Missing.\"],\n",
    "    \"sex\": [\"frau1\"],\n",
    "    \"age\": [\"age\"],\n",
    "}\n"
   ]
  },
  {
   "cell_type": "code",
   "execution_count": 30,
   "id": "b745ac60",
   "metadata": {
    "execution": {
     "iopub.execute_input": "2025-07-30T21:31:29.978907Z",
     "iopub.status.busy": "2025-07-30T21:31:29.978229Z",
     "iopub.status.idle": "2025-07-30T21:31:29.983185Z",
     "shell.execute_reply": "2025-07-30T21:31:29.982397Z"
    },
    "papermill": {
     "duration": 0.018017,
     "end_time": "2025-07-30T21:31:29.984609",
     "exception": false,
     "start_time": "2025-07-30T21:31:29.966592",
     "status": "completed"
    },
    "tags": []
   },
   "outputs": [],
   "source": [
    "# Code nice names to column names\n",
    "\n",
    "excluded_features_columns = [\n",
    "    excluded_features_dictionary[f] for f in excluded_features if len(f) > 0 and f != \"none\"\n",
    "]"
   ]
  },
  {
   "cell_type": "code",
   "execution_count": 31,
   "id": "f84f73a2",
   "metadata": {
    "execution": {
     "iopub.execute_input": "2025-07-30T21:31:30.008542Z",
     "iopub.status.busy": "2025-07-30T21:31:30.008052Z",
     "iopub.status.idle": "2025-07-30T21:31:30.013383Z",
     "shell.execute_reply": "2025-07-30T21:31:30.012719Z"
    },
    "papermill": {
     "duration": 0.018396,
     "end_time": "2025-07-30T21:31:30.014662",
     "exception": false,
     "start_time": "2025-07-30T21:31:29.996266",
     "status": "completed"
    },
    "tags": []
   },
   "outputs": [],
   "source": [
    "from utils import flatten_once\n",
    "\n",
    "excluded_features_columns = flatten_once(excluded_features_columns)"
   ]
  },
  {
   "cell_type": "code",
   "execution_count": 32,
   "id": "884dea22",
   "metadata": {
    "execution": {
     "iopub.execute_input": "2025-07-30T21:31:30.038492Z",
     "iopub.status.busy": "2025-07-30T21:31:30.038001Z",
     "iopub.status.idle": "2025-07-30T21:31:30.044987Z",
     "shell.execute_reply": "2025-07-30T21:31:30.044171Z"
    },
    "papermill": {
     "duration": 0.020234,
     "end_time": "2025-07-30T21:31:30.046349",
     "exception": false,
     "start_time": "2025-07-30T21:31:30.026115",
     "status": "completed"
    },
    "tags": []
   },
   "outputs": [
    {
     "name": "stdout",
     "output_type": "stream",
     "text": [
      "Dropping features: ['maxdeutsch1', 'maxdeutsch.Missing.', 'frau1']\n"
     ]
    }
   ],
   "source": [
    "if len(excluded_features_columns) > 0:\n",
    "    print(f\"Dropping features: {excluded_features_columns}\")\n",
    "    X_train.drop(excluded_features_columns, axis=1, inplace=True)"
   ]
  },
  {
   "cell_type": "code",
   "execution_count": 33,
   "id": "95ab8b16",
   "metadata": {
    "execution": {
     "iopub.execute_input": "2025-07-30T21:31:30.071498Z",
     "iopub.status.busy": "2025-07-30T21:31:30.070751Z",
     "iopub.status.idle": "2025-07-30T21:31:30.119063Z",
     "shell.execute_reply": "2025-07-30T21:31:30.118233Z"
    },
    "papermill": {
     "duration": 0.062047,
     "end_time": "2025-07-30T21:31:30.120380",
     "exception": false,
     "start_time": "2025-07-30T21:31:30.058333",
     "status": "completed"
    },
    "tags": []
   },
   "outputs": [
    {
     "name": "stdout",
     "output_type": "stream",
     "text": [
      "Dropping features: ['maxdeutsch1', 'maxdeutsch.Missing.', 'frau1']\n"
     ]
    }
   ],
   "source": [
    "if len(excluded_features_columns) > 0:\n",
    "    print(f\"Dropping features: {excluded_features_columns}\")\n",
    "    X_test.drop(excluded_features_columns, axis=1, inplace=True)"
   ]
  },
  {
   "cell_type": "code",
   "execution_count": 34,
   "id": "1853aaf5-fb9f-46cb-a2b5-8ea4ae2237e4",
   "metadata": {
    "execution": {
     "iopub.execute_input": "2025-07-30T21:31:30.145341Z",
     "iopub.status.busy": "2025-07-30T21:31:30.144550Z",
     "iopub.status.idle": "2025-07-30T21:31:30.174921Z",
     "shell.execute_reply": "2025-07-30T21:31:30.173931Z"
    },
    "papermill": {
     "duration": 0.04384,
     "end_time": "2025-07-30T21:31:30.176365",
     "exception": false,
     "start_time": "2025-07-30T21:31:30.132525",
     "status": "completed"
    },
    "tags": []
   },
   "outputs": [
    {
     "name": "stdout",
     "output_type": "stream",
     "text": [
      "Dropping features: ['maxdeutsch1', 'maxdeutsch.Missing.', 'frau1']\n"
     ]
    }
   ],
   "source": [
    "if len(excluded_features_columns) > 0:\n",
    "    print(f\"Dropping features: {excluded_features_columns}\")\n",
    "    X_calib.drop(excluded_features_columns, axis=1, inplace=True)"
   ]
  },
  {
   "cell_type": "code",
   "execution_count": 35,
   "id": "6727d079-03e5-481e-9d38-292a90b7a0a8",
   "metadata": {
    "execution": {
     "iopub.execute_input": "2025-07-30T21:31:30.201417Z",
     "iopub.status.busy": "2025-07-30T21:31:30.200934Z",
     "iopub.status.idle": "2025-07-30T21:31:30.205274Z",
     "shell.execute_reply": "2025-07-30T21:31:30.204582Z"
    },
    "papermill": {
     "duration": 0.017813,
     "end_time": "2025-07-30T21:31:30.206537",
     "exception": false,
     "start_time": "2025-07-30T21:31:30.188724",
     "status": "completed"
    },
    "tags": []
   },
   "outputs": [],
   "source": [
    "# SPLIT & STRATIFY DATA\n",
    "# ----------------------"
   ]
  },
  {
   "cell_type": "code",
   "execution_count": 36,
   "id": "76c4dc6d",
   "metadata": {
    "execution": {
     "iopub.execute_input": "2025-07-30T21:31:30.230778Z",
     "iopub.status.busy": "2025-07-30T21:31:30.230442Z",
     "iopub.status.idle": "2025-07-30T21:31:30.235181Z",
     "shell.execute_reply": "2025-07-30T21:31:30.234448Z"
    },
    "papermill": {
     "duration": 0.018665,
     "end_time": "2025-07-30T21:31:30.236934",
     "exception": false,
     "start_time": "2025-07-30T21:31:30.218269",
     "status": "completed"
    },
    "tags": []
   },
   "outputs": [],
   "source": [
    "# EXCLUDE CERTAIN SUBGROUPS\n",
    "# ----------------------\n",
    "\n",
    "mode = universe.get(\"exclude_subgroups\", \"keep-all\") \n",
    "# Fetches the exclude_subgroups setting from the universe dict.\n",
    "# Defaults to \"keep-all\" if the key is missing."
   ]
  },
  {
   "cell_type": "code",
   "execution_count": 37,
   "id": "21994072",
   "metadata": {
    "execution": {
     "iopub.execute_input": "2025-07-30T21:31:30.261462Z",
     "iopub.status.busy": "2025-07-30T21:31:30.260978Z",
     "iopub.status.idle": "2025-07-30T21:31:30.266311Z",
     "shell.execute_reply": "2025-07-30T21:31:30.265606Z"
    },
    "papermill": {
     "duration": 0.018559,
     "end_time": "2025-07-30T21:31:30.267603",
     "exception": false,
     "start_time": "2025-07-30T21:31:30.249044",
     "status": "completed"
    },
    "tags": []
   },
   "outputs": [],
   "source": [
    "if mode == \"keep-all\":\n",
    "    keep_mask = pd.Series(True, index=org_train.index)\n",
    "\n",
    "# org_train contains the original feature columns from features_org (in Simson)\n",
    "# features_org contains unprocessed features, for me X_train at beginning ???\n",
    "# For keep-all, creates a boolean Series (keep_mask) of all True, so no rows are removed.\n",
    "\n",
    "elif mode == \"drop-non-german\":\n",
    "    keep_mask = org_train[\"maxdeutsch1\"] == 1 # ??? what about missing values?\n",
    "\n",
    "else:\n",
    "    raise ValueError(f\"Unsupported mode for exclude_subgroups: {mode}\")\n"
   ]
  },
  {
   "cell_type": "code",
   "execution_count": 38,
   "id": "71651440",
   "metadata": {
    "execution": {
     "iopub.execute_input": "2025-07-30T21:31:30.292109Z",
     "iopub.status.busy": "2025-07-30T21:31:30.291616Z",
     "iopub.status.idle": "2025-07-30T21:31:30.296721Z",
     "shell.execute_reply": "2025-07-30T21:31:30.296018Z"
    },
    "papermill": {
     "duration": 0.01877,
     "end_time": "2025-07-30T21:31:30.298271",
     "exception": false,
     "start_time": "2025-07-30T21:31:30.279501",
     "status": "completed"
    },
    "tags": []
   },
   "outputs": [],
   "source": [
    "n_drop = (~keep_mask).sum() # Calculates how many rows are set to be dropped\n",
    "if n_drop > 0:\n",
    "    pct = n_drop / len(keep_mask) * 100\n",
    "    print(f\"Dropping {n_drop} rows ({pct:.2f}%) where mode='{mode}'\")"
   ]
  },
  {
   "cell_type": "code",
   "execution_count": 39,
   "id": "5fb8eee5",
   "metadata": {
    "execution": {
     "iopub.execute_input": "2025-07-30T21:31:30.323145Z",
     "iopub.status.busy": "2025-07-30T21:31:30.322474Z",
     "iopub.status.idle": "2025-07-30T21:31:30.327907Z",
     "shell.execute_reply": "2025-07-30T21:31:30.327202Z"
    },
    "papermill": {
     "duration": 0.018881,
     "end_time": "2025-07-30T21:31:30.329320",
     "exception": false,
     "start_time": "2025-07-30T21:31:30.310439",
     "status": "completed"
    },
    "tags": []
   },
   "outputs": [],
   "source": [
    "X_train = X_train[keep_mask]"
   ]
  },
  {
   "cell_type": "code",
   "execution_count": 40,
   "id": "b202bb3a",
   "metadata": {
    "execution": {
     "iopub.execute_input": "2025-07-30T21:31:30.353950Z",
     "iopub.status.busy": "2025-07-30T21:31:30.353296Z",
     "iopub.status.idle": "2025-07-30T21:31:30.358581Z",
     "shell.execute_reply": "2025-07-30T21:31:30.357730Z"
    },
    "papermill": {
     "duration": 0.018672,
     "end_time": "2025-07-30T21:31:30.359945",
     "exception": false,
     "start_time": "2025-07-30T21:31:30.341273",
     "status": "completed"
    },
    "tags": []
   },
   "outputs": [],
   "source": [
    "y_train = y_train[keep_mask]"
   ]
  },
  {
   "cell_type": "markdown",
   "id": "493e2ac3",
   "metadata": {
    "papermill": {
     "duration": 0.011472,
     "end_time": "2025-07-30T21:31:30.383605",
     "exception": false,
     "start_time": "2025-07-30T21:31:30.372133",
     "status": "completed"
    },
    "tags": []
   },
   "source": [
    "# Model Training"
   ]
  },
  {
   "cell_type": "code",
   "execution_count": 41,
   "id": "679e1268",
   "metadata": {
    "execution": {
     "iopub.execute_input": "2025-07-30T21:31:30.407965Z",
     "iopub.status.busy": "2025-07-30T21:31:30.407470Z",
     "iopub.status.idle": "2025-07-30T21:31:31.013020Z",
     "shell.execute_reply": "2025-07-30T21:31:31.012313Z"
    },
    "papermill": {
     "duration": 0.619291,
     "end_time": "2025-07-30T21:31:31.014488",
     "exception": false,
     "start_time": "2025-07-30T21:31:30.395197",
     "status": "completed"
    },
    "tags": []
   },
   "outputs": [],
   "source": [
    "from sklearn.linear_model import LogisticRegression\n",
    "from sklearn.ensemble import GradientBoostingClassifier, RandomForestClassifier\n",
    "\n",
    "if (universe[\"model\"] == \"logreg\"):\n",
    "    model = LogisticRegression() #penalty=\"none\") #, solver=\"newton-cg\", max_iter=1) # include random_state=19 ?\n",
    "elif (universe[\"model\"] == \"penalized_logreg\"):\n",
    "    model = LogisticRegression(penalty=\"l2\", C=1.0) #, solver=\"newton-cg\", max_iter=1)\n",
    "elif (universe[\"model\"] == \"rf\"):\n",
    "    model = RandomForestClassifier(n_estimators=100, n_jobs=-1)\n",
    "elif (universe[\"model\"] == \"gbm\"):\n",
    "    model = GradientBoostingClassifier()\n",
    "elif (universe[\"model\"] == \"elasticnet\"):\n",
    "    model = LogisticRegression(penalty = 'elasticnet', solver = 'saga', l1_ratio = 0.5, max_iter=5000) # which solver to use?\n",
    "else:\n",
    "    raise \"Unsupported universe.model\""
   ]
  },
  {
   "cell_type": "code",
   "execution_count": 42,
   "id": "0cc8f744",
   "metadata": {
    "execution": {
     "iopub.execute_input": "2025-07-30T21:31:31.039359Z",
     "iopub.status.busy": "2025-07-30T21:31:31.038608Z",
     "iopub.status.idle": "2025-07-30T21:31:31.044180Z",
     "shell.execute_reply": "2025-07-30T21:31:31.043452Z"
    },
    "papermill": {
     "duration": 0.01915,
     "end_time": "2025-07-30T21:31:31.045584",
     "exception": false,
     "start_time": "2025-07-30T21:31:31.026434",
     "status": "completed"
    },
    "tags": []
   },
   "outputs": [],
   "source": [
    "import numpy as np\n",
    "from sklearn.pipeline import Pipeline\n",
    "from sklearn.preprocessing import StandardScaler\n",
    "\n",
    "model = Pipeline([\n",
    "    #(\"continuous_processor\", continuous_processor),\n",
    "    #(\"categorical_preprocessor\", categorical_preprocessor),\n",
    "    (\"scale\", StandardScaler() if universe[\"scale\"] == \"scale\" else None), \n",
    "    (\"model\", model),\n",
    "])"
   ]
  },
  {
   "cell_type": "code",
   "execution_count": 43,
   "id": "9442c04d",
   "metadata": {
    "execution": {
     "iopub.execute_input": "2025-07-30T21:31:31.071363Z",
     "iopub.status.busy": "2025-07-30T21:31:31.070687Z",
     "iopub.status.idle": "2025-07-30T21:31:31.810588Z",
     "shell.execute_reply": "2025-07-30T21:31:31.809716Z"
    },
    "papermill": {
     "duration": 0.753933,
     "end_time": "2025-07-30T21:31:31.812115",
     "exception": false,
     "start_time": "2025-07-30T21:31:31.058182",
     "status": "completed"
    },
    "tags": []
   },
   "outputs": [
    {
     "data": {
      "text/html": [
       "<style>#sk-container-id-1 {color: black;background-color: white;}#sk-container-id-1 pre{padding: 0;}#sk-container-id-1 div.sk-toggleable {background-color: white;}#sk-container-id-1 label.sk-toggleable__label {cursor: pointer;display: block;width: 100%;margin-bottom: 0;padding: 0.3em;box-sizing: border-box;text-align: center;}#sk-container-id-1 label.sk-toggleable__label-arrow:before {content: \"▸\";float: left;margin-right: 0.25em;color: #696969;}#sk-container-id-1 label.sk-toggleable__label-arrow:hover:before {color: black;}#sk-container-id-1 div.sk-estimator:hover label.sk-toggleable__label-arrow:before {color: black;}#sk-container-id-1 div.sk-toggleable__content {max-height: 0;max-width: 0;overflow: hidden;text-align: left;background-color: #f0f8ff;}#sk-container-id-1 div.sk-toggleable__content pre {margin: 0.2em;color: black;border-radius: 0.25em;background-color: #f0f8ff;}#sk-container-id-1 input.sk-toggleable__control:checked~div.sk-toggleable__content {max-height: 200px;max-width: 100%;overflow: auto;}#sk-container-id-1 input.sk-toggleable__control:checked~label.sk-toggleable__label-arrow:before {content: \"▾\";}#sk-container-id-1 div.sk-estimator input.sk-toggleable__control:checked~label.sk-toggleable__label {background-color: #d4ebff;}#sk-container-id-1 div.sk-label input.sk-toggleable__control:checked~label.sk-toggleable__label {background-color: #d4ebff;}#sk-container-id-1 input.sk-hidden--visually {border: 0;clip: rect(1px 1px 1px 1px);clip: rect(1px, 1px, 1px, 1px);height: 1px;margin: -1px;overflow: hidden;padding: 0;position: absolute;width: 1px;}#sk-container-id-1 div.sk-estimator {font-family: monospace;background-color: #f0f8ff;border: 1px dotted black;border-radius: 0.25em;box-sizing: border-box;margin-bottom: 0.5em;}#sk-container-id-1 div.sk-estimator:hover {background-color: #d4ebff;}#sk-container-id-1 div.sk-parallel-item::after {content: \"\";width: 100%;border-bottom: 1px solid gray;flex-grow: 1;}#sk-container-id-1 div.sk-label:hover label.sk-toggleable__label {background-color: #d4ebff;}#sk-container-id-1 div.sk-serial::before {content: \"\";position: absolute;border-left: 1px solid gray;box-sizing: border-box;top: 0;bottom: 0;left: 50%;z-index: 0;}#sk-container-id-1 div.sk-serial {display: flex;flex-direction: column;align-items: center;background-color: white;padding-right: 0.2em;padding-left: 0.2em;position: relative;}#sk-container-id-1 div.sk-item {position: relative;z-index: 1;}#sk-container-id-1 div.sk-parallel {display: flex;align-items: stretch;justify-content: center;background-color: white;position: relative;}#sk-container-id-1 div.sk-item::before, #sk-container-id-1 div.sk-parallel-item::before {content: \"\";position: absolute;border-left: 1px solid gray;box-sizing: border-box;top: 0;bottom: 0;left: 50%;z-index: -1;}#sk-container-id-1 div.sk-parallel-item {display: flex;flex-direction: column;z-index: 1;position: relative;background-color: white;}#sk-container-id-1 div.sk-parallel-item:first-child::after {align-self: flex-end;width: 50%;}#sk-container-id-1 div.sk-parallel-item:last-child::after {align-self: flex-start;width: 50%;}#sk-container-id-1 div.sk-parallel-item:only-child::after {width: 0;}#sk-container-id-1 div.sk-dashed-wrapped {border: 1px dashed gray;margin: 0 0.4em 0.5em 0.4em;box-sizing: border-box;padding-bottom: 0.4em;background-color: white;}#sk-container-id-1 div.sk-label label {font-family: monospace;font-weight: bold;display: inline-block;line-height: 1.2em;}#sk-container-id-1 div.sk-label-container {text-align: center;}#sk-container-id-1 div.sk-container {/* jupyter's `normalize.less` sets `[hidden] { display: none; }` but bootstrap.min.css set `[hidden] { display: none !important; }` so we also need the `!important` here to be able to override the default hidden behavior on the sphinx rendered scikit-learn.org. See: https://github.com/scikit-learn/scikit-learn/issues/21755 */display: inline-block !important;position: relative;}#sk-container-id-1 div.sk-text-repr-fallback {display: none;}</style><div id=\"sk-container-id-1\" class=\"sk-top-container\"><div class=\"sk-text-repr-fallback\"><pre>Pipeline(steps=[(&#x27;scale&#x27;, None), (&#x27;model&#x27;, GradientBoostingClassifier())])</pre><b>In a Jupyter environment, please rerun this cell to show the HTML representation or trust the notebook. <br />On GitHub, the HTML representation is unable to render, please try loading this page with nbviewer.org.</b></div><div class=\"sk-container\" hidden><div class=\"sk-item sk-dashed-wrapped\"><div class=\"sk-label-container\"><div class=\"sk-label sk-toggleable\"><input class=\"sk-toggleable__control sk-hidden--visually\" id=\"sk-estimator-id-1\" type=\"checkbox\" ><label for=\"sk-estimator-id-1\" class=\"sk-toggleable__label sk-toggleable__label-arrow\">Pipeline</label><div class=\"sk-toggleable__content\"><pre>Pipeline(steps=[(&#x27;scale&#x27;, None), (&#x27;model&#x27;, GradientBoostingClassifier())])</pre></div></div></div><div class=\"sk-serial\"><div class=\"sk-item\"><div class=\"sk-estimator sk-toggleable\"><input class=\"sk-toggleable__control sk-hidden--visually\" id=\"sk-estimator-id-2\" type=\"checkbox\" ><label for=\"sk-estimator-id-2\" class=\"sk-toggleable__label sk-toggleable__label-arrow\">None</label><div class=\"sk-toggleable__content\"><pre>None</pre></div></div></div><div class=\"sk-item\"><div class=\"sk-estimator sk-toggleable\"><input class=\"sk-toggleable__control sk-hidden--visually\" id=\"sk-estimator-id-3\" type=\"checkbox\" ><label for=\"sk-estimator-id-3\" class=\"sk-toggleable__label sk-toggleable__label-arrow\">GradientBoostingClassifier</label><div class=\"sk-toggleable__content\"><pre>GradientBoostingClassifier()</pre></div></div></div></div></div></div></div>"
      ],
      "text/plain": [
       "Pipeline(steps=[('scale', None), ('model', GradientBoostingClassifier())])"
      ]
     },
     "execution_count": 43,
     "metadata": {},
     "output_type": "execute_result"
    }
   ],
   "source": [
    "model.fit(X_train, y_train.values.ravel())"
   ]
  },
  {
   "cell_type": "code",
   "execution_count": 44,
   "id": "af59f8c0",
   "metadata": {
    "execution": {
     "iopub.execute_input": "2025-07-30T21:31:31.838910Z",
     "iopub.status.busy": "2025-07-30T21:31:31.838106Z",
     "iopub.status.idle": "2025-07-30T21:31:31.842709Z",
     "shell.execute_reply": "2025-07-30T21:31:31.841944Z"
    },
    "papermill": {
     "duration": 0.019599,
     "end_time": "2025-07-30T21:31:31.844225",
     "exception": false,
     "start_time": "2025-07-30T21:31:31.824626",
     "status": "completed"
    },
    "tags": []
   },
   "outputs": [],
   "source": [
    "from fairness_multiverse.universe import predict_w_threshold"
   ]
  },
  {
   "cell_type": "code",
   "execution_count": 45,
   "id": "a7cf2e16",
   "metadata": {
    "execution": {
     "iopub.execute_input": "2025-07-30T21:31:31.871682Z",
     "iopub.status.busy": "2025-07-30T21:31:31.871176Z",
     "iopub.status.idle": "2025-07-30T21:31:32.336332Z",
     "shell.execute_reply": "2025-07-30T21:31:32.335362Z"
    },
    "papermill": {
     "duration": 0.479989,
     "end_time": "2025-07-30T21:31:32.337604",
     "exception": false,
     "start_time": "2025-07-30T21:31:31.857615",
     "status": "completed"
    },
    "tags": []
   },
   "outputs": [
    {
     "data": {
      "text/plain": [
       "0.8513097759447107"
      ]
     },
     "execution_count": 45,
     "metadata": {},
     "output_type": "execute_result"
    }
   ],
   "source": [
    "probs_test = model.predict_proba(X_test)\n",
    "\n",
    "'''\n",
    "Below code returns a boolean array (or binary 0/1 array depending on how it’s used) where each element \n",
    "is True if the probability of class 1 is greater than or equal to the threshold, and False otherwise.\n",
    "'''\n",
    "y_pred_default = predict_w_threshold(probs_test, 0.5)\n",
    "\n",
    "from sklearn.metrics import accuracy_score\n",
    "\n",
    "# Naive prediction\n",
    "accuracy_score(y_true = y_true, y_pred = y_pred_default)"
   ]
  },
  {
   "cell_type": "code",
   "execution_count": 46,
   "id": "081964c3",
   "metadata": {
    "execution": {
     "iopub.execute_input": "2025-07-30T21:31:32.364479Z",
     "iopub.status.busy": "2025-07-30T21:31:32.364121Z",
     "iopub.status.idle": "2025-07-30T21:31:32.820617Z",
     "shell.execute_reply": "2025-07-30T21:31:32.819660Z"
    },
    "papermill": {
     "duration": 0.471777,
     "end_time": "2025-07-30T21:31:32.822039",
     "exception": false,
     "start_time": "2025-07-30T21:31:32.350262",
     "status": "completed"
    },
    "tags": []
   },
   "outputs": [
    {
     "data": {
      "text/plain": [
       "array([0, 0, 0, ..., 0, 0, 0])"
      ]
     },
     "execution_count": 46,
     "metadata": {},
     "output_type": "execute_result"
    }
   ],
   "source": [
    "model.predict(X_test)"
   ]
  },
  {
   "cell_type": "markdown",
   "id": "56c9705b",
   "metadata": {
    "papermill": {
     "duration": 0.012558,
     "end_time": "2025-07-30T21:31:32.847504",
     "exception": false,
     "start_time": "2025-07-30T21:31:32.834946",
     "status": "completed"
    },
    "tags": []
   },
   "source": [
    "# Conformal Prediction"
   ]
  },
  {
   "cell_type": "code",
   "execution_count": 47,
   "id": "160ec6ff",
   "metadata": {
    "execution": {
     "iopub.execute_input": "2025-07-30T21:31:32.874380Z",
     "iopub.status.busy": "2025-07-30T21:31:32.873867Z",
     "iopub.status.idle": "2025-07-30T21:31:32.878582Z",
     "shell.execute_reply": "2025-07-30T21:31:32.877841Z"
    },
    "papermill": {
     "duration": 0.019716,
     "end_time": "2025-07-30T21:31:32.879843",
     "exception": false,
     "start_time": "2025-07-30T21:31:32.860127",
     "status": "completed"
    },
    "tags": []
   },
   "outputs": [],
   "source": [
    "# Miscoverage level for conformal prediction (10% allowed error rate => 90% target coverage)\n",
    "alpha = 0.1"
   ]
  },
  {
   "cell_type": "code",
   "execution_count": 48,
   "id": "eadf4555-3dd3-440e-8e35-f82a4ad9f855",
   "metadata": {
    "execution": {
     "iopub.execute_input": "2025-07-30T21:31:32.907343Z",
     "iopub.status.busy": "2025-07-30T21:31:32.906831Z",
     "iopub.status.idle": "2025-07-30T21:31:33.331937Z",
     "shell.execute_reply": "2025-07-30T21:31:33.331155Z"
    },
    "papermill": {
     "duration": 0.440201,
     "end_time": "2025-07-30T21:31:33.333483",
     "exception": false,
     "start_time": "2025-07-30T21:31:32.893282",
     "status": "completed"
    },
    "tags": []
   },
   "outputs": [],
   "source": [
    "probs_calib = model.predict_proba(X_calib)"
   ]
  },
  {
   "cell_type": "code",
   "execution_count": 49,
   "id": "2ed93547-6d5d-4983-9b36-1ecb300da49a",
   "metadata": {
    "execution": {
     "iopub.execute_input": "2025-07-30T21:31:33.360466Z",
     "iopub.status.busy": "2025-07-30T21:31:33.359815Z",
     "iopub.status.idle": "2025-07-30T21:31:33.364734Z",
     "shell.execute_reply": "2025-07-30T21:31:33.364077Z"
    },
    "papermill": {
     "duration": 0.019878,
     "end_time": "2025-07-30T21:31:33.366059",
     "exception": false,
     "start_time": "2025-07-30T21:31:33.346181",
     "status": "completed"
    },
    "tags": []
   },
   "outputs": [],
   "source": [
    "y_calib = y_calib.values.ravel().astype(int)"
   ]
  },
  {
   "cell_type": "code",
   "execution_count": 50,
   "id": "65d1320d-f588-4b38-9072-62af1ae97f7d",
   "metadata": {
    "execution": {
     "iopub.execute_input": "2025-07-30T21:31:33.393902Z",
     "iopub.status.busy": "2025-07-30T21:31:33.393387Z",
     "iopub.status.idle": "2025-07-30T21:31:33.399534Z",
     "shell.execute_reply": "2025-07-30T21:31:33.398794Z"
    },
    "papermill": {
     "duration": 0.0216,
     "end_time": "2025-07-30T21:31:33.400860",
     "exception": false,
     "start_time": "2025-07-30T21:31:33.379260",
     "status": "completed"
    },
    "tags": []
   },
   "outputs": [],
   "source": [
    "from fairness_multiverse.conformal import compute_nc_scores\n",
    "\n",
    "# Compute nonconformity scores on calibration set (1 - probability of true class)\n",
    "nc_scores = compute_nc_scores(probs_calib, y_calib)"
   ]
  },
  {
   "cell_type": "code",
   "execution_count": 51,
   "id": "df3b8ca3-53b7-43d5-9667-7c85da7aeda2",
   "metadata": {
    "execution": {
     "iopub.execute_input": "2025-07-30T21:31:33.428491Z",
     "iopub.status.busy": "2025-07-30T21:31:33.427761Z",
     "iopub.status.idle": "2025-07-30T21:31:33.433804Z",
     "shell.execute_reply": "2025-07-30T21:31:33.433102Z"
    },
    "papermill": {
     "duration": 0.021052,
     "end_time": "2025-07-30T21:31:33.435110",
     "exception": false,
     "start_time": "2025-07-30T21:31:33.414058",
     "status": "completed"
    },
    "tags": []
   },
   "outputs": [],
   "source": [
    "from fairness_multiverse.conformal import find_threshold\n",
    "\n",
    "# Find conformal threshold q_hat for the given alpha (split conformal method)\n",
    "q_hat = find_threshold(nc_scores, alpha)"
   ]
  },
  {
   "cell_type": "code",
   "execution_count": 52,
   "id": "4d29e6c1-0ef6-4aa4-b8fe-4fe79b0d033a",
   "metadata": {
    "execution": {
     "iopub.execute_input": "2025-07-30T21:31:33.463302Z",
     "iopub.status.busy": "2025-07-30T21:31:33.462780Z",
     "iopub.status.idle": "2025-07-30T21:31:33.469479Z",
     "shell.execute_reply": "2025-07-30T21:31:33.468630Z"
    },
    "papermill": {
     "duration": 0.022197,
     "end_time": "2025-07-30T21:31:33.470784",
     "exception": false,
     "start_time": "2025-07-30T21:31:33.448587",
     "status": "completed"
    },
    "tags": []
   },
   "outputs": [
    {
     "data": {
      "text/plain": [
       "0.7441450785484682"
      ]
     },
     "execution_count": 52,
     "metadata": {},
     "output_type": "execute_result"
    }
   ],
   "source": [
    "q_hat"
   ]
  },
  {
   "cell_type": "code",
   "execution_count": 53,
   "id": "92460794-cdac-4be2-ba28-f28c0515a6fb",
   "metadata": {
    "execution": {
     "iopub.execute_input": "2025-07-30T21:31:33.499012Z",
     "iopub.status.busy": "2025-07-30T21:31:33.498661Z",
     "iopub.status.idle": "2025-07-30T21:31:34.448641Z",
     "shell.execute_reply": "2025-07-30T21:31:34.447480Z"
    },
    "papermill": {
     "duration": 0.96652,
     "end_time": "2025-07-30T21:31:34.451054",
     "exception": false,
     "start_time": "2025-07-30T21:31:33.484534",
     "status": "completed"
    },
    "tags": []
   },
   "outputs": [],
   "source": [
    "from fairness_multiverse.conformal import predict_conformal_sets\n",
    "\n",
    "# Generate prediction sets for each test example\n",
    "pred_sets = predict_conformal_sets(model, X_test, q_hat)"
   ]
  },
  {
   "cell_type": "code",
   "execution_count": 54,
   "id": "d90c9a65-e6db-4f5d-80cd-e68fb7e46829",
   "metadata": {
    "execution": {
     "iopub.execute_input": "2025-07-30T21:31:34.501124Z",
     "iopub.status.busy": "2025-07-30T21:31:34.500651Z",
     "iopub.status.idle": "2025-07-30T21:31:34.505207Z",
     "shell.execute_reply": "2025-07-30T21:31:34.504312Z"
    },
    "papermill": {
     "duration": 0.028224,
     "end_time": "2025-07-30T21:31:34.506596",
     "exception": false,
     "start_time": "2025-07-30T21:31:34.478372",
     "status": "completed"
    },
    "tags": []
   },
   "outputs": [],
   "source": [
    "y_true = y_true.squeeze()"
   ]
  },
  {
   "cell_type": "code",
   "execution_count": 55,
   "id": "3a58a54a-1e68-46b9-927a-df01f18aebc8",
   "metadata": {
    "execution": {
     "iopub.execute_input": "2025-07-30T21:31:34.535413Z",
     "iopub.status.busy": "2025-07-30T21:31:34.535023Z",
     "iopub.status.idle": "2025-07-30T21:31:35.145764Z",
     "shell.execute_reply": "2025-07-30T21:31:35.144448Z"
    },
    "papermill": {
     "duration": 0.627966,
     "end_time": "2025-07-30T21:31:35.147813",
     "exception": false,
     "start_time": "2025-07-30T21:31:34.519847",
     "status": "completed"
    },
    "tags": []
   },
   "outputs": [],
   "source": [
    "from fairness_multiverse.conformal import evaluate_sets\n",
    "\n",
    "# Evaluate coverage and average set size on test data\n",
    "metrics = evaluate_sets(pred_sets, y_true)"
   ]
  },
  {
   "cell_type": "markdown",
   "id": "2b569c12-9aaa-4c88-98c9-bbcd0cf3ebb8",
   "metadata": {
    "papermill": {
     "duration": 0.017935,
     "end_time": "2025-07-30T21:31:35.193687",
     "exception": false,
     "start_time": "2025-07-30T21:31:35.175752",
     "status": "completed"
    },
    "tags": []
   },
   "source": [
    "# CP Metrics"
   ]
  },
  {
   "cell_type": "code",
   "execution_count": 56,
   "id": "5ce0a5cb-201f-45a0-ade5-94c7f0bd6095",
   "metadata": {
    "execution": {
     "iopub.execute_input": "2025-07-30T21:31:35.225950Z",
     "iopub.status.busy": "2025-07-30T21:31:35.225343Z",
     "iopub.status.idle": "2025-07-30T21:31:35.232521Z",
     "shell.execute_reply": "2025-07-30T21:31:35.231661Z"
    },
    "papermill": {
     "duration": 0.024902,
     "end_time": "2025-07-30T21:31:35.233933",
     "exception": false,
     "start_time": "2025-07-30T21:31:35.209031",
     "status": "completed"
    },
    "tags": []
   },
   "outputs": [
    {
     "data": {
      "text/plain": [
       "{'coverage': 0.9101437966781852, 'avg_size': 1.1552669713521346}"
      ]
     },
     "execution_count": 56,
     "metadata": {},
     "output_type": "execute_result"
    }
   ],
   "source": [
    "metrics"
   ]
  },
  {
   "cell_type": "code",
   "execution_count": 57,
   "id": "9b9a838d-31c9-430b-ae14-12baee460d17",
   "metadata": {
    "execution": {
     "iopub.execute_input": "2025-07-30T21:31:35.265195Z",
     "iopub.status.busy": "2025-07-30T21:31:35.264665Z",
     "iopub.status.idle": "2025-07-30T21:31:35.270146Z",
     "shell.execute_reply": "2025-07-30T21:31:35.269281Z"
    },
    "papermill": {
     "duration": 0.021807,
     "end_time": "2025-07-30T21:31:35.271595",
     "exception": false,
     "start_time": "2025-07-30T21:31:35.249788",
     "status": "completed"
    },
    "tags": []
   },
   "outputs": [],
   "source": [
    "example_universe = universe.copy()\n",
    "universe_training_year = example_universe.get(\"training_year\")\n",
    "universe_training_size = example_universe.get(\"training_size\")\n",
    "universe_scale = example_universe.get(\"scale\")\n",
    "universe_model = example_universe.get(\"model\")\n",
    "universe_exclude_features = example_universe.get(\"exclude_features\")\n",
    "universe_exclude_subgroups = example_universe.get(\"exclude_subgroups\")"
   ]
  },
  {
   "cell_type": "code",
   "execution_count": 58,
   "id": "f4b6a8ac-9dc0-4245-8a91-5b3b5999c4f9",
   "metadata": {
    "execution": {
     "iopub.execute_input": "2025-07-30T21:31:35.301704Z",
     "iopub.status.busy": "2025-07-30T21:31:35.301166Z",
     "iopub.status.idle": "2025-07-30T21:31:35.307146Z",
     "shell.execute_reply": "2025-07-30T21:31:35.305739Z"
    },
    "papermill": {
     "duration": 0.022687,
     "end_time": "2025-07-30T21:31:35.309029",
     "exception": false,
     "start_time": "2025-07-30T21:31:35.286342",
     "status": "completed"
    },
    "tags": []
   },
   "outputs": [],
   "source": [
    "cp_metrics_dict = {\n",
    "    \"universe_id\": [universe_id],\n",
    "    \"universe_training_year\": [universe_training_year],\n",
    "    \"universe_training_size\": [universe_training_size],\n",
    "    \"universe_scale\": [universe_scale],\n",
    "    \"universe_model\": [universe_model],\n",
    "    \"universe_exclude_features\": [universe_exclude_features],\n",
    "    \"universe_exclude_subgroups\": [universe_exclude_subgroups],\n",
    "    \"q_hat\": [q_hat],\n",
    "    \"coverage\": [metrics[\"coverage\"]],\n",
    "    \"avg_size\": [metrics[\"avg_size\"]],\n",
    "}"
   ]
  },
  {
   "cell_type": "code",
   "execution_count": 59,
   "id": "908acbb1-0371-4915-85ca-3fa520d2efe2",
   "metadata": {
    "execution": {
     "iopub.execute_input": "2025-07-30T21:31:35.365400Z",
     "iopub.status.busy": "2025-07-30T21:31:35.364689Z",
     "iopub.status.idle": "2025-07-30T21:31:35.374360Z",
     "shell.execute_reply": "2025-07-30T21:31:35.373190Z"
    },
    "papermill": {
     "duration": 0.039982,
     "end_time": "2025-07-30T21:31:35.376467",
     "exception": false,
     "start_time": "2025-07-30T21:31:35.336485",
     "status": "completed"
    },
    "tags": []
   },
   "outputs": [
    {
     "data": {
      "text/plain": [
       "{'universe_id': ['c4c6285d9a65567a614d5682ad6e983b'],\n",
       " 'universe_training_year': ['2014'],\n",
       " 'universe_training_size': ['1k'],\n",
       " 'universe_scale': ['do-not-scale'],\n",
       " 'universe_model': ['gbm'],\n",
       " 'universe_exclude_features': ['nationality-sex'],\n",
       " 'universe_exclude_subgroups': ['keep-all'],\n",
       " 'q_hat': [0.7441450785484682],\n",
       " 'coverage': [0.9101437966781852],\n",
       " 'avg_size': [1.1552669713521346]}"
      ]
     },
     "execution_count": 59,
     "metadata": {},
     "output_type": "execute_result"
    }
   ],
   "source": [
    "cp_metrics_dict"
   ]
  },
  {
   "cell_type": "code",
   "execution_count": 60,
   "id": "33007efc-14e9-4ec6-97ac-56a455c82265",
   "metadata": {
    "execution": {
     "iopub.execute_input": "2025-07-30T21:31:35.422069Z",
     "iopub.status.busy": "2025-07-30T21:31:35.421580Z",
     "iopub.status.idle": "2025-07-30T21:31:36.215741Z",
     "shell.execute_reply": "2025-07-30T21:31:36.214559Z"
    },
    "papermill": {
     "duration": 0.812809,
     "end_time": "2025-07-30T21:31:36.218212",
     "exception": false,
     "start_time": "2025-07-30T21:31:35.405403",
     "status": "completed"
    },
    "tags": []
   },
   "outputs": [],
   "source": [
    "cp_metrics_df = pd.DataFrame(cp_metrics_dict)"
   ]
  },
  {
   "cell_type": "code",
   "execution_count": 61,
   "id": "db12611b-57b2-4910-b9d0-355adfd6e7bf",
   "metadata": {
    "execution": {
     "iopub.execute_input": "2025-07-30T21:31:36.262088Z",
     "iopub.status.busy": "2025-07-30T21:31:36.261286Z",
     "iopub.status.idle": "2025-07-30T21:31:36.276636Z",
     "shell.execute_reply": "2025-07-30T21:31:36.275812Z"
    },
    "papermill": {
     "duration": 0.036849,
     "end_time": "2025-07-30T21:31:36.277978",
     "exception": false,
     "start_time": "2025-07-30T21:31:36.241129",
     "status": "completed"
    },
    "tags": []
   },
   "outputs": [
    {
     "data": {
      "text/html": [
       "<div>\n",
       "<style scoped>\n",
       "    .dataframe tbody tr th:only-of-type {\n",
       "        vertical-align: middle;\n",
       "    }\n",
       "\n",
       "    .dataframe tbody tr th {\n",
       "        vertical-align: top;\n",
       "    }\n",
       "\n",
       "    .dataframe thead th {\n",
       "        text-align: right;\n",
       "    }\n",
       "</style>\n",
       "<table border=\"1\" class=\"dataframe\">\n",
       "  <thead>\n",
       "    <tr style=\"text-align: right;\">\n",
       "      <th></th>\n",
       "      <th>universe_id</th>\n",
       "      <th>universe_training_year</th>\n",
       "      <th>universe_training_size</th>\n",
       "      <th>universe_scale</th>\n",
       "      <th>universe_model</th>\n",
       "      <th>universe_exclude_features</th>\n",
       "      <th>universe_exclude_subgroups</th>\n",
       "      <th>q_hat</th>\n",
       "      <th>coverage</th>\n",
       "      <th>avg_size</th>\n",
       "    </tr>\n",
       "  </thead>\n",
       "  <tbody>\n",
       "    <tr>\n",
       "      <th>0</th>\n",
       "      <td>c4c6285d9a65567a614d5682ad6e983b</td>\n",
       "      <td>2014</td>\n",
       "      <td>1k</td>\n",
       "      <td>do-not-scale</td>\n",
       "      <td>gbm</td>\n",
       "      <td>nationality-sex</td>\n",
       "      <td>keep-all</td>\n",
       "      <td>0.744145</td>\n",
       "      <td>0.910144</td>\n",
       "      <td>1.155267</td>\n",
       "    </tr>\n",
       "  </tbody>\n",
       "</table>\n",
       "</div>"
      ],
      "text/plain": [
       "                        universe_id universe_training_year  \\\n",
       "0  c4c6285d9a65567a614d5682ad6e983b                   2014   \n",
       "\n",
       "  universe_training_size universe_scale universe_model  \\\n",
       "0                     1k   do-not-scale            gbm   \n",
       "\n",
       "  universe_exclude_features universe_exclude_subgroups     q_hat  coverage  \\\n",
       "0           nationality-sex                   keep-all  0.744145  0.910144   \n",
       "\n",
       "   avg_size  \n",
       "0  1.155267  "
      ]
     },
     "execution_count": 61,
     "metadata": {},
     "output_type": "execute_result"
    }
   ],
   "source": [
    "cp_metrics_df"
   ]
  },
  {
   "cell_type": "code",
   "execution_count": 62,
   "id": "b7fbde55-a0a1-47e4-9af6-fe4a17fa8c61",
   "metadata": {
    "execution": {
     "iopub.execute_input": "2025-07-30T21:31:36.332114Z",
     "iopub.status.busy": "2025-07-30T21:31:36.331565Z",
     "iopub.status.idle": "2025-07-30T21:31:36.337038Z",
     "shell.execute_reply": "2025-07-30T21:31:36.335876Z"
    },
    "papermill": {
     "duration": 0.044736,
     "end_time": "2025-07-30T21:31:36.339090",
     "exception": false,
     "start_time": "2025-07-30T21:31:36.294354",
     "status": "completed"
    },
    "tags": []
   },
   "outputs": [],
   "source": [
    "# Conditional Coverage & looking at subgroups"
   ]
  },
  {
   "cell_type": "code",
   "execution_count": 63,
   "id": "027ae886-68dd-4141-96c7-805a5450e1ef",
   "metadata": {
    "execution": {
     "iopub.execute_input": "2025-07-30T21:31:36.370695Z",
     "iopub.status.busy": "2025-07-30T21:31:36.370376Z",
     "iopub.status.idle": "2025-07-30T21:31:36.601915Z",
     "shell.execute_reply": "2025-07-30T21:31:36.600881Z"
    },
    "papermill": {
     "duration": 0.247549,
     "end_time": "2025-07-30T21:31:36.603450",
     "exception": false,
     "start_time": "2025-07-30T21:31:36.355901",
     "status": "completed"
    },
    "tags": []
   },
   "outputs": [],
   "source": [
    "from fairness_multiverse.conformal import build_cp_groups\n",
    "\n",
    "cp_groups_df = build_cp_groups(pred_sets, y_true, X_test.index, org_test)\n",
    "#needs universe_id and setting"
   ]
  },
  {
   "cell_type": "code",
   "execution_count": 64,
   "id": "01d5802c-663a-4d1f-9d69-e036faaffbf7",
   "metadata": {
    "execution": {
     "iopub.execute_input": "2025-07-30T21:31:36.633620Z",
     "iopub.status.busy": "2025-07-30T21:31:36.633160Z",
     "iopub.status.idle": "2025-07-30T21:31:36.637945Z",
     "shell.execute_reply": "2025-07-30T21:31:36.637132Z"
    },
    "papermill": {
     "duration": 0.021974,
     "end_time": "2025-07-30T21:31:36.639240",
     "exception": false,
     "start_time": "2025-07-30T21:31:36.617266",
     "status": "completed"
    },
    "tags": []
   },
   "outputs": [],
   "source": [
    "#delete\n",
    "#cp_groups_df"
   ]
  },
  {
   "cell_type": "code",
   "execution_count": 65,
   "id": "fa424af1-d1eb-443d-b717-2d279ada8408",
   "metadata": {
    "execution": {
     "iopub.execute_input": "2025-07-30T21:31:36.676545Z",
     "iopub.status.busy": "2025-07-30T21:31:36.676089Z",
     "iopub.status.idle": "2025-07-30T21:31:36.681061Z",
     "shell.execute_reply": "2025-07-30T21:31:36.680022Z"
    },
    "papermill": {
     "duration": 0.028277,
     "end_time": "2025-07-30T21:31:36.682586",
     "exception": false,
     "start_time": "2025-07-30T21:31:36.654309",
     "status": "completed"
    },
    "tags": []
   },
   "outputs": [],
   "source": [
    "#delete\n",
    "#percentage = (cp_groups_df['nongerman_female'] == 1).mean() * 100\n",
    "#print(percentage)\n"
   ]
  },
  {
   "cell_type": "code",
   "execution_count": 66,
   "id": "6cbdab96-b2b2-45af-ad54-d0516db2e28d",
   "metadata": {
    "execution": {
     "iopub.execute_input": "2025-07-30T21:31:36.714098Z",
     "iopub.status.busy": "2025-07-30T21:31:36.713664Z",
     "iopub.status.idle": "2025-07-30T21:31:37.939785Z",
     "shell.execute_reply": "2025-07-30T21:31:37.938672Z"
    },
    "papermill": {
     "duration": 1.244302,
     "end_time": "2025-07-30T21:31:37.941787",
     "exception": false,
     "start_time": "2025-07-30T21:31:36.697485",
     "status": "completed"
    },
    "tags": []
   },
   "outputs": [],
   "source": [
    "# Define covered = 1 if true_label is in the predicted set\n",
    "cp_groups_df['covered'] = cp_groups_df.apply(\n",
    "    lambda r: int(r['true_label'] in r['pred_set']),\n",
    "    axis=1\n",
    ")"
   ]
  },
  {
   "cell_type": "code",
   "execution_count": 67,
   "id": "338ff529-1a6b-4b87-a931-8e4788d52aad",
   "metadata": {
    "execution": {
     "iopub.execute_input": "2025-07-30T21:31:37.994330Z",
     "iopub.status.busy": "2025-07-30T21:31:37.993616Z",
     "iopub.status.idle": "2025-07-30T21:31:37.998710Z",
     "shell.execute_reply": "2025-07-30T21:31:37.997830Z"
    },
    "papermill": {
     "duration": 0.033602,
     "end_time": "2025-07-30T21:31:38.000240",
     "exception": false,
     "start_time": "2025-07-30T21:31:37.966638",
     "status": "completed"
    },
    "tags": []
   },
   "outputs": [],
   "source": [
    "#cp_groups_df"
   ]
  },
  {
   "cell_type": "code",
   "execution_count": 68,
   "id": "90032e27-66df-4540-9169-4e89cfbaa758",
   "metadata": {
    "execution": {
     "iopub.execute_input": "2025-07-30T21:31:38.052998Z",
     "iopub.status.busy": "2025-07-30T21:31:38.052698Z",
     "iopub.status.idle": "2025-07-30T21:31:38.062582Z",
     "shell.execute_reply": "2025-07-30T21:31:38.061769Z"
    },
    "papermill": {
     "duration": 0.038353,
     "end_time": "2025-07-30T21:31:38.064298",
     "exception": false,
     "start_time": "2025-07-30T21:31:38.025945",
     "status": "completed"
    },
    "tags": []
   },
   "outputs": [],
   "source": [
    "subgroups = ['frau1','nongerman','nongerman_male','nongerman_female']\n",
    "\n",
    "# Conditional coverage for subgroup==1\n",
    "cond_coverage = {\n",
    "    g: cp_groups_df.loc[cp_groups_df[g]==1, 'covered'].mean()\n",
    "    for g in subgroups\n",
    "}"
   ]
  },
  {
   "cell_type": "code",
   "execution_count": 69,
   "id": "1e348fb1-b9c3-45bc-ba23-f016827a7e0d",
   "metadata": {
    "execution": {
     "iopub.execute_input": "2025-07-30T21:31:38.116303Z",
     "iopub.status.busy": "2025-07-30T21:31:38.115478Z",
     "iopub.status.idle": "2025-07-30T21:31:38.121825Z",
     "shell.execute_reply": "2025-07-30T21:31:38.120950Z"
    },
    "papermill": {
     "duration": 0.034244,
     "end_time": "2025-07-30T21:31:38.123413",
     "exception": false,
     "start_time": "2025-07-30T21:31:38.089169",
     "status": "completed"
    },
    "tags": []
   },
   "outputs": [
    {
     "data": {
      "text/plain": [
       "{'frau1': 0.9067259738509234,\n",
       " 'nongerman': 0.90596755178802,\n",
       " 'nongerman_male': 0.924614968927317,\n",
       " 'nongerman_female': 0.8751117734724292}"
      ]
     },
     "execution_count": 69,
     "metadata": {},
     "output_type": "execute_result"
    }
   ],
   "source": [
    "cond_coverage"
   ]
  },
  {
   "cell_type": "code",
   "execution_count": 70,
   "id": "f5093324-c3dd-4d63-bc4c-8d945e5c8bbb",
   "metadata": {
    "execution": {
     "iopub.execute_input": "2025-07-30T21:31:38.174741Z",
     "iopub.status.busy": "2025-07-30T21:31:38.174084Z",
     "iopub.status.idle": "2025-07-30T21:31:38.180743Z",
     "shell.execute_reply": "2025-07-30T21:31:38.179834Z"
    },
    "papermill": {
     "duration": 0.03352,
     "end_time": "2025-07-30T21:31:38.182362",
     "exception": false,
     "start_time": "2025-07-30T21:31:38.148842",
     "status": "completed"
    },
    "tags": []
   },
   "outputs": [],
   "source": [
    "for subgroup, cov in cond_coverage.items():\n",
    "    cp_metrics_df[f\"cov_{subgroup}\"] = cov"
   ]
  },
  {
   "cell_type": "code",
   "execution_count": 71,
   "id": "6e872e10-dbe5-49e8-b554-5030c98ff75d",
   "metadata": {
    "execution": {
     "iopub.execute_input": "2025-07-30T21:31:38.235043Z",
     "iopub.status.busy": "2025-07-30T21:31:38.234518Z",
     "iopub.status.idle": "2025-07-30T21:31:38.254719Z",
     "shell.execute_reply": "2025-07-30T21:31:38.253765Z"
    },
    "papermill": {
     "duration": 0.048369,
     "end_time": "2025-07-30T21:31:38.256387",
     "exception": false,
     "start_time": "2025-07-30T21:31:38.208018",
     "status": "completed"
    },
    "tags": []
   },
   "outputs": [
    {
     "data": {
      "text/html": [
       "<div>\n",
       "<style scoped>\n",
       "    .dataframe tbody tr th:only-of-type {\n",
       "        vertical-align: middle;\n",
       "    }\n",
       "\n",
       "    .dataframe tbody tr th {\n",
       "        vertical-align: top;\n",
       "    }\n",
       "\n",
       "    .dataframe thead th {\n",
       "        text-align: right;\n",
       "    }\n",
       "</style>\n",
       "<table border=\"1\" class=\"dataframe\">\n",
       "  <thead>\n",
       "    <tr style=\"text-align: right;\">\n",
       "      <th></th>\n",
       "      <th>universe_id</th>\n",
       "      <th>universe_training_year</th>\n",
       "      <th>universe_training_size</th>\n",
       "      <th>universe_scale</th>\n",
       "      <th>universe_model</th>\n",
       "      <th>universe_exclude_features</th>\n",
       "      <th>universe_exclude_subgroups</th>\n",
       "      <th>q_hat</th>\n",
       "      <th>coverage</th>\n",
       "      <th>avg_size</th>\n",
       "      <th>cov_frau1</th>\n",
       "      <th>cov_nongerman</th>\n",
       "      <th>cov_nongerman_male</th>\n",
       "      <th>cov_nongerman_female</th>\n",
       "    </tr>\n",
       "  </thead>\n",
       "  <tbody>\n",
       "    <tr>\n",
       "      <th>0</th>\n",
       "      <td>c4c6285d9a65567a614d5682ad6e983b</td>\n",
       "      <td>2014</td>\n",
       "      <td>1k</td>\n",
       "      <td>do-not-scale</td>\n",
       "      <td>gbm</td>\n",
       "      <td>nationality-sex</td>\n",
       "      <td>keep-all</td>\n",
       "      <td>0.744145</td>\n",
       "      <td>0.910144</td>\n",
       "      <td>1.155267</td>\n",
       "      <td>0.906726</td>\n",
       "      <td>0.905968</td>\n",
       "      <td>0.924615</td>\n",
       "      <td>0.875112</td>\n",
       "    </tr>\n",
       "  </tbody>\n",
       "</table>\n",
       "</div>"
      ],
      "text/plain": [
       "                        universe_id universe_training_year  \\\n",
       "0  c4c6285d9a65567a614d5682ad6e983b                   2014   \n",
       "\n",
       "  universe_training_size universe_scale universe_model  \\\n",
       "0                     1k   do-not-scale            gbm   \n",
       "\n",
       "  universe_exclude_features universe_exclude_subgroups     q_hat  coverage  \\\n",
       "0           nationality-sex                   keep-all  0.744145  0.910144   \n",
       "\n",
       "   avg_size  cov_frau1  cov_nongerman  cov_nongerman_male  \\\n",
       "0  1.155267   0.906726       0.905968            0.924615   \n",
       "\n",
       "   cov_nongerman_female  \n",
       "0              0.875112  "
      ]
     },
     "execution_count": 71,
     "metadata": {},
     "output_type": "execute_result"
    }
   ],
   "source": [
    "cp_metrics_df"
   ]
  },
  {
   "cell_type": "markdown",
   "id": "33774451",
   "metadata": {
    "papermill": {
     "duration": 0.017924,
     "end_time": "2025-07-30T21:31:38.299947",
     "exception": false,
     "start_time": "2025-07-30T21:31:38.282023",
     "status": "completed"
    },
    "tags": []
   },
   "source": [
    "# (Fairness) Metrics"
   ]
  },
  {
   "cell_type": "code",
   "execution_count": 72,
   "id": "debc5d62",
   "metadata": {
    "execution": {
     "iopub.execute_input": "2025-07-30T21:31:38.336885Z",
     "iopub.status.busy": "2025-07-30T21:31:38.336602Z",
     "iopub.status.idle": "2025-07-30T21:31:38.355818Z",
     "shell.execute_reply": "2025-07-30T21:31:38.354851Z"
    },
    "papermill": {
     "duration": 0.039063,
     "end_time": "2025-07-30T21:31:38.357348",
     "exception": false,
     "start_time": "2025-07-30T21:31:38.318285",
     "status": "completed"
    },
    "tags": []
   },
   "outputs": [],
   "source": [
    "# do I need to include maxdeutsch1.missing?\n",
    "\n",
    "import numpy as np\n",
    "\n",
    "colname_to_bin = \"maxdeutsch1\"\n",
    "majority_value = org_train[colname_to_bin].mode()[0]\n",
    "\n",
    "org_test[\"majmin\"] = np.where(org_test[colname_to_bin] == majority_value, \"majority\", \"minority\")"
   ]
  },
  {
   "cell_type": "code",
   "execution_count": 73,
   "id": "06a50de5",
   "metadata": {
    "execution": {
     "iopub.execute_input": "2025-07-30T21:31:38.390296Z",
     "iopub.status.busy": "2025-07-30T21:31:38.389923Z",
     "iopub.status.idle": "2025-07-30T21:31:41.365065Z",
     "shell.execute_reply": "2025-07-30T21:31:41.364147Z"
    },
    "papermill": {
     "duration": 2.994461,
     "end_time": "2025-07-30T21:31:41.366878",
     "exception": false,
     "start_time": "2025-07-30T21:31:38.372417",
     "status": "completed"
    },
    "tags": []
   },
   "outputs": [],
   "source": [
    "example_universe = universe.copy()\n",
    "example_universe[\"cutoff\"] = example_universe[\"cutoff\"][0]\n",
    "example_universe[\"eval_fairness_grouping\"] = example_universe[\"eval_fairness_grouping\"][0]\n",
    "fairness_dict, metric_frame = universe_analysis.compute_metrics(\n",
    "    example_universe,\n",
    "    y_pred_prob=probs_test,\n",
    "    y_test=y_true,\n",
    "    org_test=org_test,\n",
    ")"
   ]
  },
  {
   "cell_type": "markdown",
   "id": "f95d4e02",
   "metadata": {
    "papermill": {
     "duration": 0.028077,
     "end_time": "2025-07-30T21:31:41.425145",
     "exception": false,
     "start_time": "2025-07-30T21:31:41.397068",
     "status": "completed"
    },
    "tags": []
   },
   "source": [
    "# Overall"
   ]
  },
  {
   "cell_type": "markdown",
   "id": "bdee4871",
   "metadata": {
    "papermill": {
     "duration": 0.026489,
     "end_time": "2025-07-30T21:31:41.478261",
     "exception": false,
     "start_time": "2025-07-30T21:31:41.451772",
     "status": "completed"
    },
    "tags": []
   },
   "source": [
    "Fairness\n",
    "Main fairness target: Equalized Odds. Seems to be a better fit than equal opportunity, since we're not only interested in Y = 1. Seems to be a better fit than demographic parity, since we also care about accuracy, not just equal distribution of preds.\n",
    "\n",
    "Pick column for computation of fairness metrics\n",
    "\n",
    "Performance\n",
    "Overall performance measures, most interesting in relation to the measures split by group below"
   ]
  },
  {
   "cell_type": "code",
   "execution_count": 74,
   "id": "c4e067c6",
   "metadata": {
    "execution": {
     "iopub.execute_input": "2025-07-30T21:31:41.533097Z",
     "iopub.status.busy": "2025-07-30T21:31:41.532487Z",
     "iopub.status.idle": "2025-07-30T21:31:41.541387Z",
     "shell.execute_reply": "2025-07-30T21:31:41.540345Z"
    },
    "papermill": {
     "duration": 0.038266,
     "end_time": "2025-07-30T21:31:41.543046",
     "exception": false,
     "start_time": "2025-07-30T21:31:41.504780",
     "status": "completed"
    },
    "tags": []
   },
   "outputs": [
    {
     "data": {
      "text/plain": [
       "accuracy                   0.221837\n",
       "balanced accuracy          0.542954\n",
       "f1                         0.243238\n",
       "precision                  0.138954\n",
       "false positive rate        0.888980\n",
       "false negative rate        0.025113\n",
       "selection rate             0.900000\n",
       "count                  89710.000000\n",
       "dtype: float64"
      ]
     },
     "execution_count": 74,
     "metadata": {},
     "output_type": "execute_result"
    }
   ],
   "source": [
    "metric_frame.overall"
   ]
  },
  {
   "cell_type": "markdown",
   "id": "e968fe9d",
   "metadata": {
    "papermill": {
     "duration": 0.026141,
     "end_time": "2025-07-30T21:31:41.595781",
     "exception": false,
     "start_time": "2025-07-30T21:31:41.569640",
     "status": "completed"
    },
    "tags": []
   },
   "source": [
    "By Group"
   ]
  },
  {
   "cell_type": "code",
   "execution_count": 75,
   "id": "ec325bce",
   "metadata": {
    "execution": {
     "iopub.execute_input": "2025-07-30T21:31:41.647813Z",
     "iopub.status.busy": "2025-07-30T21:31:41.647174Z",
     "iopub.status.idle": "2025-07-30T21:31:41.662417Z",
     "shell.execute_reply": "2025-07-30T21:31:41.661564Z"
    },
    "papermill": {
     "duration": 0.042277,
     "end_time": "2025-07-30T21:31:41.663968",
     "exception": false,
     "start_time": "2025-07-30T21:31:41.621691",
     "status": "completed"
    },
    "tags": []
   },
   "outputs": [
    {
     "data": {
      "text/html": [
       "<div>\n",
       "<style scoped>\n",
       "    .dataframe tbody tr th:only-of-type {\n",
       "        vertical-align: middle;\n",
       "    }\n",
       "\n",
       "    .dataframe tbody tr th {\n",
       "        vertical-align: top;\n",
       "    }\n",
       "\n",
       "    .dataframe thead th {\n",
       "        text-align: right;\n",
       "    }\n",
       "</style>\n",
       "<table border=\"1\" class=\"dataframe\">\n",
       "  <thead>\n",
       "    <tr style=\"text-align: right;\">\n",
       "      <th></th>\n",
       "      <th>accuracy</th>\n",
       "      <th>balanced accuracy</th>\n",
       "      <th>f1</th>\n",
       "      <th>precision</th>\n",
       "      <th>false positive rate</th>\n",
       "      <th>false negative rate</th>\n",
       "      <th>selection rate</th>\n",
       "      <th>count</th>\n",
       "    </tr>\n",
       "    <tr>\n",
       "      <th>majmin</th>\n",
       "      <th></th>\n",
       "      <th></th>\n",
       "      <th></th>\n",
       "      <th></th>\n",
       "      <th></th>\n",
       "      <th></th>\n",
       "      <th></th>\n",
       "      <th></th>\n",
       "    </tr>\n",
       "  </thead>\n",
       "  <tbody>\n",
       "    <tr>\n",
       "      <th>majority</th>\n",
       "      <td>0.243357</td>\n",
       "      <td>0.551694</td>\n",
       "      <td>0.253214</td>\n",
       "      <td>0.145595</td>\n",
       "      <td>0.867400</td>\n",
       "      <td>0.029212</td>\n",
       "      <td>0.881061</td>\n",
       "      <td>69170.0</td>\n",
       "    </tr>\n",
       "    <tr>\n",
       "      <th>minority</th>\n",
       "      <td>0.149367</td>\n",
       "      <td>0.515220</td>\n",
       "      <td>0.211695</td>\n",
       "      <td>0.118509</td>\n",
       "      <td>0.960269</td>\n",
       "      <td>0.009291</td>\n",
       "      <td>0.963778</td>\n",
       "      <td>20540.0</td>\n",
       "    </tr>\n",
       "  </tbody>\n",
       "</table>\n",
       "</div>"
      ],
      "text/plain": [
       "          accuracy  balanced accuracy        f1  precision  \\\n",
       "majmin                                                       \n",
       "majority  0.243357           0.551694  0.253214   0.145595   \n",
       "minority  0.149367           0.515220  0.211695   0.118509   \n",
       "\n",
       "          false positive rate  false negative rate  selection rate    count  \n",
       "majmin                                                                       \n",
       "majority             0.867400             0.029212        0.881061  69170.0  \n",
       "minority             0.960269             0.009291        0.963778  20540.0  "
      ]
     },
     "execution_count": 75,
     "metadata": {},
     "output_type": "execute_result"
    }
   ],
   "source": [
    "metric_frame.by_group"
   ]
  },
  {
   "cell_type": "code",
   "execution_count": 76,
   "id": "a9ddbe63",
   "metadata": {
    "execution": {
     "iopub.execute_input": "2025-07-30T21:31:41.715508Z",
     "iopub.status.busy": "2025-07-30T21:31:41.714900Z",
     "iopub.status.idle": "2025-07-30T21:31:44.487641Z",
     "shell.execute_reply": "2025-07-30T21:31:44.486833Z"
    },
    "papermill": {
     "duration": 2.800312,
     "end_time": "2025-07-30T21:31:44.489233",
     "exception": false,
     "start_time": "2025-07-30T21:31:41.688921",
     "status": "completed"
    },
    "tags": []
   },
   "outputs": [
    {
     "data": {
      "text/plain": [
       "array([[<Axes: title={'center': 'accuracy'}, xlabel='majmin'>,\n",
       "        <Axes: title={'center': 'balanced accuracy'}, xlabel='majmin'>,\n",
       "        <Axes: title={'center': 'f1'}, xlabel='majmin'>],\n",
       "       [<Axes: title={'center': 'precision'}, xlabel='majmin'>,\n",
       "        <Axes: title={'center': 'false positive rate'}, xlabel='majmin'>,\n",
       "        <Axes: title={'center': 'false negative rate'}, xlabel='majmin'>],\n",
       "       [<Axes: title={'center': 'selection rate'}, xlabel='majmin'>,\n",
       "        <Axes: title={'center': 'count'}, xlabel='majmin'>,\n",
       "        <Axes: xlabel='majmin'>]], dtype=object)"
      ]
     },
     "execution_count": 76,
     "metadata": {},
     "output_type": "execute_result"
    },
    {
     "data": {
      "image/png": "[encoded data removed]",
      "text/plain": [
       "<Figure size 1200x800 with 9 Axes>"
      ]
     },
     "metadata": {},
     "output_type": "display_data"
    }
   ],
   "source": [
    "# In a graphic\n",
    "metric_frame.by_group.plot.bar(\n",
    "    subplots=True,\n",
    "    layout=[3, 3],\n",
    "    legend=False,\n",
    "    figsize=[12, 8],\n",
    "    title=\"Show all metrics\",\n",
    ")"
   ]
  },
  {
   "cell_type": "markdown",
   "id": "f57a0bac",
   "metadata": {
    "papermill": {
     "duration": 0.025933,
     "end_time": "2025-07-30T21:31:44.542240",
     "exception": false,
     "start_time": "2025-07-30T21:31:44.516307",
     "status": "completed"
    },
    "tags": []
   },
   "source": [
    "# Final Output"
   ]
  },
  {
   "cell_type": "code",
   "execution_count": 77,
   "id": "96d280a3",
   "metadata": {
    "execution": {
     "iopub.execute_input": "2025-07-30T21:31:44.595210Z",
     "iopub.status.busy": "2025-07-30T21:31:44.594348Z",
     "iopub.status.idle": "2025-07-30T21:31:44.601636Z",
     "shell.execute_reply": "2025-07-30T21:31:44.600787Z"
    },
    "papermill": {
     "duration": 0.035287,
     "end_time": "2025-07-30T21:31:44.603113",
     "exception": false,
     "start_time": "2025-07-30T21:31:44.567826",
     "status": "completed"
    },
    "tags": []
   },
   "outputs": [
    {
     "data": {
      "text/plain": [
       "4"
      ]
     },
     "execution_count": 77,
     "metadata": {},
     "output_type": "execute_result"
    }
   ],
   "source": [
    "sub_universes = universe_analysis.generate_sub_universes()\n",
    "len(sub_universes)"
   ]
  },
  {
   "cell_type": "code",
   "execution_count": 78,
   "id": "92adf7ba",
   "metadata": {
    "execution": {
     "iopub.execute_input": "2025-07-30T21:31:44.657054Z",
     "iopub.status.busy": "2025-07-30T21:31:44.656341Z",
     "iopub.status.idle": "2025-07-30T21:31:44.661606Z",
     "shell.execute_reply": "2025-07-30T21:31:44.660679Z"
    },
    "papermill": {
     "duration": 0.033814,
     "end_time": "2025-07-30T21:31:44.663456",
     "exception": false,
     "start_time": "2025-07-30T21:31:44.629642",
     "status": "completed"
    },
    "tags": []
   },
   "outputs": [],
   "source": [
    "def filter_sub_universe_data(sub_universe, org_test):\n",
    "    # Keep all rows — no filtering\n",
    "    keep_rows_mask = np.ones(org_test.shape[0], dtype=bool)\n",
    "\n",
    "    print(f\"[INFO] Keeping all rows: {keep_rows_mask.sum()} rows retained.\")\n",
    "    return keep_rows_mask"
   ]
  },
  {
   "cell_type": "code",
   "execution_count": 79,
   "id": "4a759155",
   "metadata": {
    "execution": {
     "iopub.execute_input": "2025-07-30T21:31:44.717465Z",
     "iopub.status.busy": "2025-07-30T21:31:44.717074Z",
     "iopub.status.idle": "2025-07-30T21:31:55.914434Z",
     "shell.execute_reply": "2025-07-30T21:31:55.913385Z"
    },
    "papermill": {
     "duration": 11.225854,
     "end_time": "2025-07-30T21:31:55.916136",
     "exception": false,
     "start_time": "2025-07-30T21:31:44.690282",
     "status": "completed"
    },
    "tags": []
   },
   "outputs": [
    {
     "name": "stdout",
     "output_type": "stream",
     "text": [
      "Stopping execution_time clock.\n",
      "[INFO] Keeping all rows: 89710 rows retained.\n"
     ]
    },
    {
     "name": "stdout",
     "output_type": "stream",
     "text": [
      "[INFO] Keeping all rows: 89710 rows retained.\n"
     ]
    },
    {
     "name": "stdout",
     "output_type": "stream",
     "text": [
      "[INFO] Keeping all rows: 89710 rows retained.\n"
     ]
    },
    {
     "name": "stdout",
     "output_type": "stream",
     "text": [
      "[INFO] Keeping all rows: 89710 rows retained.\n"
     ]
    },
    {
     "data": {
      "text/html": [
       "<div>\n",
       "<style scoped>\n",
       "    .dataframe tbody tr th:only-of-type {\n",
       "        vertical-align: middle;\n",
       "    }\n",
       "\n",
       "    .dataframe tbody tr th {\n",
       "        vertical-align: top;\n",
       "    }\n",
       "\n",
       "    .dataframe thead th {\n",
       "        text-align: right;\n",
       "    }\n",
       "</style>\n",
       "<table border=\"1\" class=\"dataframe\">\n",
       "  <thead>\n",
       "    <tr style=\"text-align: right;\">\n",
       "      <th></th>\n",
       "      <th>run_no</th>\n",
       "      <th>universe_id</th>\n",
       "      <th>universe_settings</th>\n",
       "      <th>execution_time</th>\n",
       "      <th>test_size_n</th>\n",
       "      <th>test_size_frac</th>\n",
       "      <th>fair_main_equalized_odds_difference</th>\n",
       "      <th>fair_main_equalized_odds_ratio</th>\n",
       "      <th>fair_main_demographic_parity_difference</th>\n",
       "      <th>fair_main_demographic_parity_ratio</th>\n",
       "      <th>...</th>\n",
       "      <th>perf_grp_precision_0</th>\n",
       "      <th>perf_grp_precision_1</th>\n",
       "      <th>perf_grp_false positive rate_0</th>\n",
       "      <th>perf_grp_false positive rate_1</th>\n",
       "      <th>perf_grp_false negative rate_0</th>\n",
       "      <th>perf_grp_false negative rate_1</th>\n",
       "      <th>perf_grp_selection rate_0</th>\n",
       "      <th>perf_grp_selection rate_1</th>\n",
       "      <th>perf_grp_count_0</th>\n",
       "      <th>perf_grp_count_1</th>\n",
       "    </tr>\n",
       "  </thead>\n",
       "  <tbody>\n",
       "    <tr>\n",
       "      <th>0</th>\n",
       "      <td>14</td>\n",
       "      <td>c4c6285d9a65567a614d5682ad6e983b</td>\n",
       "      <td>{\"cutoff\": \"quantile_0.1\", \"eval_fairness_grou...</td>\n",
       "      <td>24.536557</td>\n",
       "      <td>89710</td>\n",
       "      <td>1.0</td>\n",
       "      <td>0.092869</td>\n",
       "      <td>0.903289</td>\n",
       "      <td>0.082717</td>\n",
       "      <td>0.914174</td>\n",
       "      <td>...</td>\n",
       "      <td>NaN</td>\n",
       "      <td>NaN</td>\n",
       "      <td>NaN</td>\n",
       "      <td>NaN</td>\n",
       "      <td>NaN</td>\n",
       "      <td>NaN</td>\n",
       "      <td>NaN</td>\n",
       "      <td>NaN</td>\n",
       "      <td>NaN</td>\n",
       "      <td>NaN</td>\n",
       "    </tr>\n",
       "    <tr>\n",
       "      <th>0</th>\n",
       "      <td>14</td>\n",
       "      <td>c4c6285d9a65567a614d5682ad6e983b</td>\n",
       "      <td>{\"cutoff\": \"quantile_0.1\", \"eval_fairness_grou...</td>\n",
       "      <td>24.536557</td>\n",
       "      <td>89710</td>\n",
       "      <td>1.0</td>\n",
       "      <td>0.092869</td>\n",
       "      <td>0.903289</td>\n",
       "      <td>0.082717</td>\n",
       "      <td>0.914174</td>\n",
       "      <td>...</td>\n",
       "      <td>0.118509</td>\n",
       "      <td>0.145595</td>\n",
       "      <td>0.960269</td>\n",
       "      <td>0.867400</td>\n",
       "      <td>0.009291</td>\n",
       "      <td>0.029212</td>\n",
       "      <td>0.963778</td>\n",
       "      <td>0.881061</td>\n",
       "      <td>20540.0</td>\n",
       "      <td>69170.0</td>\n",
       "    </tr>\n",
       "    <tr>\n",
       "      <th>0</th>\n",
       "      <td>14</td>\n",
       "      <td>c4c6285d9a65567a614d5682ad6e983b</td>\n",
       "      <td>{\"cutoff\": \"quantile_0.25\", \"eval_fairness_gro...</td>\n",
       "      <td>24.536557</td>\n",
       "      <td>89710</td>\n",
       "      <td>1.0</td>\n",
       "      <td>0.148308</td>\n",
       "      <td>0.823182</td>\n",
       "      <td>0.130397</td>\n",
       "      <td>0.846689</td>\n",
       "      <td>...</td>\n",
       "      <td>NaN</td>\n",
       "      <td>NaN</td>\n",
       "      <td>NaN</td>\n",
       "      <td>NaN</td>\n",
       "      <td>NaN</td>\n",
       "      <td>NaN</td>\n",
       "      <td>NaN</td>\n",
       "      <td>NaN</td>\n",
       "      <td>NaN</td>\n",
       "      <td>NaN</td>\n",
       "    </tr>\n",
       "    <tr>\n",
       "      <th>0</th>\n",
       "      <td>14</td>\n",
       "      <td>c4c6285d9a65567a614d5682ad6e983b</td>\n",
       "      <td>{\"cutoff\": \"quantile_0.25\", \"eval_fairness_gro...</td>\n",
       "      <td>24.536557</td>\n",
       "      <td>89710</td>\n",
       "      <td>1.0</td>\n",
       "      <td>0.148308</td>\n",
       "      <td>0.823182</td>\n",
       "      <td>0.130397</td>\n",
       "      <td>0.846689</td>\n",
       "      <td>...</td>\n",
       "      <td>0.127533</td>\n",
       "      <td>0.167911</td>\n",
       "      <td>0.838763</td>\n",
       "      <td>0.690455</td>\n",
       "      <td>0.059122</td>\n",
       "      <td>0.084902</td>\n",
       "      <td>0.850536</td>\n",
       "      <td>0.720139</td>\n",
       "      <td>20540.0</td>\n",
       "      <td>69170.0</td>\n",
       "    </tr>\n",
       "  </tbody>\n",
       "</table>\n",
       "<p>4 rows × 50 columns</p>\n",
       "</div>"
      ],
      "text/plain": [
       "  run_no                       universe_id  \\\n",
       "0     14  c4c6285d9a65567a614d5682ad6e983b   \n",
       "0     14  c4c6285d9a65567a614d5682ad6e983b   \n",
       "0     14  c4c6285d9a65567a614d5682ad6e983b   \n",
       "0     14  c4c6285d9a65567a614d5682ad6e983b   \n",
       "\n",
       "                                   universe_settings  execution_time  \\\n",
       "0  {\"cutoff\": \"quantile_0.1\", \"eval_fairness_grou...       24.536557   \n",
       "0  {\"cutoff\": \"quantile_0.1\", \"eval_fairness_grou...       24.536557   \n",
       "0  {\"cutoff\": \"quantile_0.25\", \"eval_fairness_gro...       24.536557   \n",
       "0  {\"cutoff\": \"quantile_0.25\", \"eval_fairness_gro...       24.536557   \n",
       "\n",
       "   test_size_n  test_size_frac  fair_main_equalized_odds_difference  \\\n",
       "0        89710             1.0                             0.092869   \n",
       "0        89710             1.0                             0.092869   \n",
       "0        89710             1.0                             0.148308   \n",
       "0        89710             1.0                             0.148308   \n",
       "\n",
       "   fair_main_equalized_odds_ratio  fair_main_demographic_parity_difference  \\\n",
       "0                        0.903289                                 0.082717   \n",
       "0                        0.903289                                 0.082717   \n",
       "0                        0.823182                                 0.130397   \n",
       "0                        0.823182                                 0.130397   \n",
       "\n",
       "   fair_main_demographic_parity_ratio  ...  perf_grp_precision_0  \\\n",
       "0                            0.914174  ...                   NaN   \n",
       "0                            0.914174  ...              0.118509   \n",
       "0                            0.846689  ...                   NaN   \n",
       "0                            0.846689  ...              0.127533   \n",
       "\n",
       "   perf_grp_precision_1  perf_grp_false positive rate_0  \\\n",
       "0                   NaN                             NaN   \n",
       "0              0.145595                        0.960269   \n",
       "0                   NaN                             NaN   \n",
       "0              0.167911                        0.838763   \n",
       "\n",
       "   perf_grp_false positive rate_1  perf_grp_false negative rate_0  \\\n",
       "0                             NaN                             NaN   \n",
       "0                        0.867400                        0.009291   \n",
       "0                             NaN                             NaN   \n",
       "0                        0.690455                        0.059122   \n",
       "\n",
       "   perf_grp_false negative rate_1  perf_grp_selection rate_0  \\\n",
       "0                             NaN                        NaN   \n",
       "0                        0.029212                   0.963778   \n",
       "0                             NaN                        NaN   \n",
       "0                        0.084902                   0.850536   \n",
       "\n",
       "   perf_grp_selection rate_1  perf_grp_count_0  perf_grp_count_1  \n",
       "0                        NaN               NaN               NaN  \n",
       "0                   0.881061           20540.0           69170.0  \n",
       "0                        NaN               NaN               NaN  \n",
       "0                   0.720139           20540.0           69170.0  \n",
       "\n",
       "[4 rows x 50 columns]"
      ]
     },
     "execution_count": 79,
     "metadata": {},
     "output_type": "execute_result"
    }
   ],
   "source": [
    "final_output = universe_analysis.generate_final_output(\n",
    "    y_pred_prob=probs_test,\n",
    "    y_test=y_true,\n",
    "    org_test=org_test,\n",
    "    filter_data=filter_sub_universe_data,\n",
    "    cp_metrics_df=cp_metrics_df,\n",
    "    save=True,\n",
    ")\n",
    "final_output"
   ]
  },
  {
   "cell_type": "code",
   "execution_count": null,
   "id": "721ff514-cb11-46f8-b6fc-50392f74b5cb",
   "metadata": {
    "papermill": {
     "duration": 0.029998,
     "end_time": "2025-07-30T21:31:55.981280",
     "exception": false,
     "start_time": "2025-07-30T21:31:55.951282",
     "status": "completed"
    },
    "tags": []
   },
   "outputs": [],
   "source": []
  }
 ],
 "metadata": {
  "celltoolbar": "Tags",
  "kernelspec": {
   "display_name": "Python (CMA Fairness)",
   "language": "python",
   "name": "cma_fair_env"
  },
  "language_info": {
   "codemirror_mode": {
    "name": "ipython",
    "version": 3
   },
   "file_extension": ".py",
   "mimetype": "text/x-python",
   "name": "python",
   "nbconvert_exporter": "python",
   "pygments_lexer": "ipython3",
   "version": "3.10.12"
  },
  "papermill": {
   "default_parameters": {},
   "duration": 46.766312,
   "end_time": "2025-07-30T21:31:56.633498",
   "environment_variables": {},
   "exception": null,
   "input_path": "universe_analysis.ipynb",
   "output_path": "output/runs/14/notebooks/m_14-c4c6285d9a65567a614d5682ad6e983b.ipynb",
   "parameters": {
    "output_dir": "output",
    "run_no": "14",
    "seed": "2023",
    "universe": "{\"cutoff\": [\"quantile_0.1\", \"quantile_0.25\"], \"eval_fairness_grouping\": [\"majority-minority\", \"nationality-all\"], \"exclude_features\": \"nationality-sex\", \"exclude_subgroups\": \"keep-all\", \"model\": \"gbm\", \"scale\": \"do-not-scale\", \"training_size\": \"1k\", \"training_year\": \"2014\"}",
    "universe_id": "c4c6285d9a65567a614d5682ad6e983b"
   },
   "start_time": "2025-07-30T21:31:09.867186",
   "version": "2.6.0"
  }
 },
 "nbformat": 4,
 "nbformat_minor": 5
}