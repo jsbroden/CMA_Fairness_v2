{
 "cells": [
  {
   "cell_type": "code",
   "execution_count": 1,
   "id": "f159f837-637b-42ba-96b5-ec9a68c44524",
   "metadata": {
    "execution": {
     "iopub.execute_input": "2025-07-30T21:30:23.742304Z",
     "iopub.status.busy": "2025-07-30T21:30:23.741925Z",
     "iopub.status.idle": "2025-07-30T21:30:23.753613Z",
     "shell.execute_reply": "2025-07-30T21:30:23.753024Z"
    },
    "papermill": {
     "duration": 0.033209,
     "end_time": "2025-07-30T21:30:23.754838",
     "exception": false,
     "start_time": "2025-07-30T21:30:23.721629",
     "status": "completed"
    },
    "tags": []
   },
   "outputs": [
    {
     "name": "stdout",
     "output_type": "stream",
     "text": [
      "/dss/dsshome1/0C/ra93lal2/cma/CMA_Fairness_v2\n"
     ]
    },
    {
     "name": "stderr",
     "output_type": "stream",
     "text": [
      "/dss/dsshome1/0C/ra93lal2/.local/share/virtualenvs/CMA_Fairness_v2-3j10GkSs/lib/python3.10/site-packages/IPython/core/magics/osm.py:393: UserWarning: This is now an optional IPython functionality, using bookmarks requires you to install the `pickleshare` library.\n",
      "  bkms = self.shell.db.get('bookmarks', {})\n",
      "/dss/dsshome1/0C/ra93lal2/.local/share/virtualenvs/CMA_Fairness_v2-3j10GkSs/lib/python3.10/site-packages/IPython/core/magics/osm.py:417: UserWarning: This is now an optional IPython functionality, setting dhist requires you to install the `pickleshare` library.\n",
      "  self.shell.db['dhist'] = compress_dhist(dhist)[-100:]\n"
     ]
    }
   ],
   "source": [
    "%cd ~/cma/CMA_Fairness_v2"
   ]
  },
  {
   "cell_type": "markdown",
   "id": "de2603b9",
   "metadata": {
    "papermill": {
     "duration": 0.012643,
     "end_time": "2025-07-30T21:30:23.781166",
     "exception": false,
     "start_time": "2025-07-30T21:30:23.768523",
     "status": "completed"
    },
    "tags": []
   },
   "source": [
    "The following cell holds the definition of our parameters, these values can be overriden by rendering the with e.g. the following command:\n",
    "\n",
    "papermill -p alpha 0.2 -p ratio 0.3 universe_analysis.ipynb output/test_run.ipynb"
   ]
  },
  {
   "cell_type": "code",
   "execution_count": 2,
   "id": "a80968a0-40bb-4fa9-85ef-2d5eefb01975",
   "metadata": {
    "execution": {
     "iopub.execute_input": "2025-07-30T21:30:23.822944Z",
     "iopub.status.busy": "2025-07-30T21:30:23.822289Z",
     "iopub.status.idle": "2025-07-30T21:30:23.827500Z",
     "shell.execute_reply": "2025-07-30T21:30:23.826612Z"
    },
    "papermill": {
     "duration": 0.02893,
     "end_time": "2025-07-30T21:30:23.829418",
     "exception": false,
     "start_time": "2025-07-30T21:30:23.800488",
     "status": "completed"
    },
    "tags": []
   },
   "outputs": [
    {
     "name": "stdout",
     "output_type": "stream",
     "text": [
      "Current working directory: /dss/dsshome1/0C/ra93lal2/cma/CMA_Fairness_v2\n"
     ]
    }
   ],
   "source": [
    "import os\n",
    "print(\"Current working directory:\", os.getcwd())"
   ]
  },
  {
   "cell_type": "code",
   "execution_count": 3,
   "id": "2dce4c03",
   "metadata": {
    "execution": {
     "iopub.execute_input": "2025-07-30T21:30:23.874072Z",
     "iopub.status.busy": "2025-07-30T21:30:23.873159Z",
     "iopub.status.idle": "2025-07-30T21:30:23.879690Z",
     "shell.execute_reply": "2025-07-30T21:30:23.878546Z"
    },
    "papermill": {
     "duration": 0.029959,
     "end_time": "2025-07-30T21:30:23.881550",
     "exception": false,
     "start_time": "2025-07-30T21:30:23.851591",
     "status": "completed"
    },
    "tags": [
     "parameters"
    ]
   },
   "outputs": [],
   "source": [
    "run_no = 0\n",
    "universe_id = \"test\"\n",
    "universe = {\n",
    "    \"training_size\": \"25k\", # \"25k\", \"5k\", \"1k\"\n",
    "    \"training_year\": \"2014\", # \"2014\", \"2012_14\", \"2010_14\"\n",
    "    \"scale\": \"scale\", # \"scale\", \"do-not-scale\",\n",
    "    #\"stratify_split\": \"target\", # \"none\", \"target\", \"protected-attribute\", \"both\",\n",
    "    \"model\": \"elasticnet\", # \"logreg\", \"penalized_logreg\", \"rf\", \"gbm\", \"elasticnet\"\n",
    "    \"cutoff\": [\"quantile_0.15\", \"quantile_0.30\"],\n",
    "    \"exclude_features\": \"age\", # \"none\", \"nationality\", \"sex\", \"nationality-sex\", \"age\"\n",
    "    \"exclude_subgroups\": \"keep-all\", # \"keep-all\", \"drop-non-german\"\n",
    "    \"eval_fairness_grouping\": [\"majority-minority\", \"nationality-all\"]\n",
    "}\n",
    "\n",
    "output_dir=\"./output\"\n",
    "seed=0"
   ]
  },
  {
   "cell_type": "code",
   "execution_count": 4,
   "id": "a81fc835",
   "metadata": {
    "execution": {
     "iopub.execute_input": "2025-07-30T21:30:23.924564Z",
     "iopub.status.busy": "2025-07-30T21:30:23.924242Z",
     "iopub.status.idle": "2025-07-30T21:30:23.928176Z",
     "shell.execute_reply": "2025-07-30T21:30:23.927491Z"
    },
    "papermill": {
     "duration": 0.026401,
     "end_time": "2025-07-30T21:30:23.929611",
     "exception": false,
     "start_time": "2025-07-30T21:30:23.903210",
     "status": "completed"
    },
    "tags": [
     "injected-parameters"
    ]
   },
   "outputs": [],
   "source": [
    "# Parameters\n",
    "universe_id = \"fb2cc3a3241da2a573733cc735344d6d\"\n",
    "run_no = \"14\"\n",
    "universe = \"{\\\"cutoff\\\": [\\\"quantile_0.1\\\", \\\"quantile_0.25\\\"], \\\"eval_fairness_grouping\\\": [\\\"majority-minority\\\", \\\"nationality-all\\\"], \\\"exclude_features\\\": \\\"age\\\", \\\"exclude_subgroups\\\": \\\"drop-non-german\\\", \\\"model\\\": \\\"rf\\\", \\\"scale\\\": \\\"do-not-scale\\\", \\\"training_size\\\": \\\"1k\\\", \\\"training_year\\\": \\\"2014\\\"}\"\n",
    "output_dir = \"output\"\n",
    "seed = \"2023\"\n"
   ]
  },
  {
   "cell_type": "code",
   "execution_count": 5,
   "id": "1650acaf",
   "metadata": {
    "execution": {
     "iopub.execute_input": "2025-07-30T21:30:23.966976Z",
     "iopub.status.busy": "2025-07-30T21:30:23.966637Z",
     "iopub.status.idle": "2025-07-30T21:30:23.993087Z",
     "shell.execute_reply": "2025-07-30T21:30:23.992240Z"
    },
    "papermill": {
     "duration": 0.047851,
     "end_time": "2025-07-30T21:30:23.994648",
     "exception": false,
     "start_time": "2025-07-30T21:30:23.946797",
     "status": "completed"
    },
    "tags": []
   },
   "outputs": [],
   "source": [
    "import json\n",
    "# Parse universe into dict if it is passed as a string\n",
    "if isinstance(universe, str):\n",
    "    universe = json.loads(universe)"
   ]
  },
  {
   "cell_type": "code",
   "execution_count": 6,
   "id": "16620c48",
   "metadata": {
    "execution": {
     "iopub.execute_input": "2025-07-30T21:30:24.029797Z",
     "iopub.status.busy": "2025-07-30T21:30:24.029407Z",
     "iopub.status.idle": "2025-07-30T21:30:24.073899Z",
     "shell.execute_reply": "2025-07-30T21:30:24.073145Z"
    },
    "papermill": {
     "duration": 0.058757,
     "end_time": "2025-07-30T21:30:24.075165",
     "exception": false,
     "start_time": "2025-07-30T21:30:24.016408",
     "status": "completed"
    },
    "tags": []
   },
   "outputs": [],
   "source": [
    "# Auto-reload the custom package\n",
    "%load_ext autoreload\n",
    "%autoreload 1\n",
    "%aimport fairness_multiverse"
   ]
  },
  {
   "cell_type": "code",
   "execution_count": 7,
   "id": "01c5c9f3",
   "metadata": {
    "execution": {
     "iopub.execute_input": "2025-07-30T21:30:24.117135Z",
     "iopub.status.busy": "2025-07-30T21:30:24.116061Z",
     "iopub.status.idle": "2025-07-30T21:30:29.756834Z",
     "shell.execute_reply": "2025-07-30T21:30:29.755763Z"
    },
    "papermill": {
     "duration": 5.664695,
     "end_time": "2025-07-30T21:30:29.758619",
     "exception": false,
     "start_time": "2025-07-30T21:30:24.093924",
     "status": "completed"
    },
    "tags": []
   },
   "outputs": [],
   "source": [
    "from fairness_multiverse.universe import UniverseAnalysis\n",
    "\n",
    "universe_analysis = UniverseAnalysis(\n",
    "    run_no = run_no,\n",
    "    universe_id = universe_id,\n",
    "    universe = universe,\n",
    "    output_dir=output_dir,\n",
    ")"
   ]
  },
  {
   "cell_type": "code",
   "execution_count": 8,
   "id": "106241f5",
   "metadata": {
    "execution": {
     "iopub.execute_input": "2025-07-30T21:30:29.784491Z",
     "iopub.status.busy": "2025-07-30T21:30:29.783970Z",
     "iopub.status.idle": "2025-07-30T21:30:29.790352Z",
     "shell.execute_reply": "2025-07-30T21:30:29.789517Z"
    },
    "papermill": {
     "duration": 0.018804,
     "end_time": "2025-07-30T21:30:29.791467",
     "exception": false,
     "start_time": "2025-07-30T21:30:29.772663",
     "status": "completed"
    },
    "tags": []
   },
   "outputs": [
    {
     "name": "stdout",
     "output_type": "stream",
     "text": [
      "Using Seed: 2023\n"
     ]
    }
   ],
   "source": [
    "import numpy as np\n",
    "parsed_seed = int(seed)\n",
    "np.random.seed(parsed_seed)\n",
    "print(f\"Using Seed: {parsed_seed}\")"
   ]
  },
  {
   "cell_type": "markdown",
   "id": "e0ebdc57",
   "metadata": {
    "papermill": {
     "duration": 0.0127,
     "end_time": "2025-07-30T21:30:29.816709",
     "exception": false,
     "start_time": "2025-07-30T21:30:29.804009",
     "status": "completed"
    },
    "tags": []
   },
   "source": [
    "# Loading Data"
   ]
  },
  {
   "cell_type": "markdown",
   "id": "681925a3",
   "metadata": {
    "papermill": {
     "duration": 0.021802,
     "end_time": "2025-07-30T21:30:29.861981",
     "exception": false,
     "start_time": "2025-07-30T21:30:29.840179",
     "status": "completed"
    },
    "tags": []
   },
   "source": [
    "Load siab_train, siab_test, siab_calib and/or \n",
    "load siab_train_features, siab_train_labels"
   ]
  },
  {
   "cell_type": "code",
   "execution_count": 9,
   "id": "f0496b8a",
   "metadata": {
    "execution": {
     "iopub.execute_input": "2025-07-30T21:30:29.902393Z",
     "iopub.status.busy": "2025-07-30T21:30:29.902044Z",
     "iopub.status.idle": "2025-07-30T21:30:39.363402Z",
     "shell.execute_reply": "2025-07-30T21:30:39.362455Z"
    },
    "papermill": {
     "duration": 9.483614,
     "end_time": "2025-07-30T21:30:39.364700",
     "exception": false,
     "start_time": "2025-07-30T21:30:29.881086",
     "status": "completed"
    },
    "tags": []
   },
   "outputs": [
    {
     "name": "stdout",
     "output_type": "stream",
     "text": [
      "Loading SIAB data from cache: data/siab_cached.csv.gz\n"
     ]
    },
    {
     "name": "stdout",
     "output_type": "stream",
     "text": [
      "(643690, 164)\n"
     ]
    }
   ],
   "source": [
    "from pathlib import Path\n",
    "import pandas as pd\n",
    "\n",
    "# File paths\n",
    "raw_file = Path(\"data/raw/siab.csv\")\n",
    "cache_file = Path(\"data/siab_cached.csv.gz\")\n",
    "\n",
    "# Ensure cache directory exists\n",
    "cache_file.parent.mkdir(parents=True, exist_ok=True)\n",
    "\n",
    "# Load with simple caching\n",
    "if cache_file.exists():\n",
    "    print(f\"Loading SIAB data from cache: {cache_file}\")\n",
    "    siab = pd.read_csv(cache_file, compression='gzip')\n",
    "else:\n",
    "    print(f\"Cache not found. Reading raw SIAB data: {raw_file}\")\n",
    "    siab = pd.read_csv(raw_file)\n",
    "    siab.to_csv(cache_file, index=False, compression='gzip')\n",
    "    print(f\"Cached SIAB data to: {cache_file}\")\n",
    "\n",
    "# Now use `siab` DataFrame as needed\n",
    "print(siab.shape)"
   ]
  },
  {
   "cell_type": "code",
   "execution_count": 10,
   "id": "db0ca512-5f53-4dba-abdb-a2888bca41ba",
   "metadata": {
    "execution": {
     "iopub.execute_input": "2025-07-30T21:30:39.390649Z",
     "iopub.status.busy": "2025-07-30T21:30:39.390065Z",
     "iopub.status.idle": "2025-07-30T21:30:39.394950Z",
     "shell.execute_reply": "2025-07-30T21:30:39.394249Z"
    },
    "papermill": {
     "duration": 0.018251,
     "end_time": "2025-07-30T21:30:39.396270",
     "exception": false,
     "start_time": "2025-07-30T21:30:39.378019",
     "status": "completed"
    },
    "tags": []
   },
   "outputs": [],
   "source": [
    "#siab"
   ]
  },
  {
   "cell_type": "code",
   "execution_count": 11,
   "id": "a0edb063",
   "metadata": {
    "execution": {
     "iopub.execute_input": "2025-07-30T21:30:39.420082Z",
     "iopub.status.busy": "2025-07-30T21:30:39.419570Z",
     "iopub.status.idle": "2025-07-30T21:30:39.424193Z",
     "shell.execute_reply": "2025-07-30T21:30:39.423379Z"
    },
    "papermill": {
     "duration": 0.017673,
     "end_time": "2025-07-30T21:30:39.425445",
     "exception": false,
     "start_time": "2025-07-30T21:30:39.407772",
     "status": "completed"
    },
    "tags": []
   },
   "outputs": [],
   "source": [
    "#import pandas as pd\n",
    "#\n",
    "#X_train = pd.read_csv(\"./data/X_train.csv\")\n",
    "#y_train = pd.read_csv(\"./data/y_train.csv\")"
   ]
  },
  {
   "cell_type": "code",
   "execution_count": 12,
   "id": "63d08085",
   "metadata": {
    "execution": {
     "iopub.execute_input": "2025-07-30T21:30:39.449303Z",
     "iopub.status.busy": "2025-07-30T21:30:39.448801Z",
     "iopub.status.idle": "2025-07-30T21:30:39.453691Z",
     "shell.execute_reply": "2025-07-30T21:30:39.452929Z"
    },
    "papermill": {
     "duration": 0.018321,
     "end_time": "2025-07-30T21:30:39.455060",
     "exception": false,
     "start_time": "2025-07-30T21:30:39.436739",
     "status": "completed"
    },
    "tags": []
   },
   "outputs": [],
   "source": [
    "#X_test = pd.read_csv(\"./data/X_test.csv\")\n",
    "#y_true = pd.read_csv(\"./data/y_test.csv\")"
   ]
  },
  {
   "cell_type": "code",
   "execution_count": 13,
   "id": "98a8d0fa-1d3d-4ed8-bb2c-281470e24add",
   "metadata": {
    "execution": {
     "iopub.execute_input": "2025-07-30T21:30:39.479269Z",
     "iopub.status.busy": "2025-07-30T21:30:39.478768Z",
     "iopub.status.idle": "2025-07-30T21:30:39.483012Z",
     "shell.execute_reply": "2025-07-30T21:30:39.482257Z"
    },
    "papermill": {
     "duration": 0.017275,
     "end_time": "2025-07-30T21:30:39.484257",
     "exception": false,
     "start_time": "2025-07-30T21:30:39.466982",
     "status": "completed"
    },
    "tags": []
   },
   "outputs": [],
   "source": [
    "# Calibration data for conformal\n",
    "#X_calib = pd.read_csv(\"./data/X_calib.csv\")\n",
    "#y_calib = pd.read_csv(\"./data/y_calib.csv\")"
   ]
  },
  {
   "cell_type": "markdown",
   "id": "997051c5-15bd-4b69-9786-c3001a3ce484",
   "metadata": {
    "papermill": {
     "duration": 0.011164,
     "end_time": "2025-07-30T21:30:39.507180",
     "exception": false,
     "start_time": "2025-07-30T21:30:39.496016",
     "status": "completed"
    },
    "tags": []
   },
   "source": [
    "# Splitting Data and Setting Training Data Size"
   ]
  },
  {
   "cell_type": "code",
   "execution_count": 14,
   "id": "e993b61f-042d-41a6-8c81-f55681f86335",
   "metadata": {
    "execution": {
     "iopub.execute_input": "2025-07-30T21:30:39.530765Z",
     "iopub.status.busy": "2025-07-30T21:30:39.530248Z",
     "iopub.status.idle": "2025-07-30T21:30:39.539839Z",
     "shell.execute_reply": "2025-07-30T21:30:39.538952Z"
    },
    "papermill": {
     "duration": 0.023176,
     "end_time": "2025-07-30T21:30:39.541219",
     "exception": false,
     "start_time": "2025-07-30T21:30:39.518043",
     "status": "completed"
    },
    "tags": []
   },
   "outputs": [],
   "source": [
    "def sample_by_year_size(df,\n",
    "                        training_year: str,\n",
    "                        training_size: str,\n",
    "                        random_state: int = 42):\n",
    "    # --- parse training_year into a list of int years ---\n",
    "    if \"_\" in training_year:\n",
    "        start_str, end_str = training_year.split(\"_\", 1)\n",
    "        start = int(start_str)\n",
    "        end   = int(end_str) if len(end_str) == 4 else (int(end_str) + (start // 100)*100)\n",
    "        years = list(range(start, end + 1))\n",
    "    else:\n",
    "        years = [int(training_year)]\n",
    "\n",
    "    df = df[df[\"year\"].isin(years)].reset_index(drop=True)\n",
    "\n",
    "    # --- map training_size to total number of samples ---\n",
    "    total_map = {\"25k\": 25_000, \"5k\": 5_000, \"1k\": 1_000}\n",
    "    if training_size not in total_map:\n",
    "        return df  # e.g. \"all\"\n",
    "\n",
    "    total_samples = total_map[training_size]\n",
    "    n_years       = len(years)\n",
    "    base          = total_samples // n_years\n",
    "    remainder     = total_samples % n_years\n",
    "\n",
    "    # --- build a dict: year -> how many to sample ---\n",
    "    # give +1 to the first `remainder` years in ascending order\n",
    "    quotas = {\n",
    "        year: base + (1 if idx < remainder else 0)\n",
    "        for idx, year in enumerate(sorted(years))\n",
    "    }\n",
    "\n",
    "    # --- sample per‐year according to the quota dict ---\n",
    "    sampled = (\n",
    "        df\n",
    "        .groupby(\"year\", group_keys=False)\n",
    "        .apply(lambda grp: grp.sample(\n",
    "            n=min(len(grp), quotas[grp.name]),\n",
    "            random_state=random_state))\n",
    "        .reset_index(drop=True)\n",
    "    )\n",
    "\n",
    "    return sampled"
   ]
  },
  {
   "cell_type": "code",
   "execution_count": 15,
   "id": "c0ccd338-0e02-41f3-a09d-f56f9266e3fb",
   "metadata": {
    "execution": {
     "iopub.execute_input": "2025-07-30T21:30:39.565340Z",
     "iopub.status.busy": "2025-07-30T21:30:39.564837Z",
     "iopub.status.idle": "2025-07-30T21:30:39.569149Z",
     "shell.execute_reply": "2025-07-30T21:30:39.568391Z"
    },
    "papermill": {
     "duration": 0.017538,
     "end_time": "2025-07-30T21:30:39.570373",
     "exception": false,
     "start_time": "2025-07-30T21:30:39.552835",
     "status": "completed"
    },
    "tags": []
   },
   "outputs": [],
   "source": [
    "#universe[\"training_size\"]"
   ]
  },
  {
   "cell_type": "code",
   "execution_count": 16,
   "id": "ca707fd7-8047-4acd-bfa5-66248fbbf8e6",
   "metadata": {
    "execution": {
     "iopub.execute_input": "2025-07-30T21:30:39.594339Z",
     "iopub.status.busy": "2025-07-30T21:30:39.593987Z",
     "iopub.status.idle": "2025-07-30T21:30:39.598618Z",
     "shell.execute_reply": "2025-07-30T21:30:39.597921Z"
    },
    "papermill": {
     "duration": 0.018083,
     "end_time": "2025-07-30T21:30:39.599910",
     "exception": false,
     "start_time": "2025-07-30T21:30:39.581827",
     "status": "completed"
    },
    "tags": []
   },
   "outputs": [],
   "source": [
    "#universe[\"training_year\"]"
   ]
  },
  {
   "cell_type": "code",
   "execution_count": 17,
   "id": "aea9c6ef-6f46-42c8-85eb-5a62025c1508",
   "metadata": {
    "execution": {
     "iopub.execute_input": "2025-07-30T21:30:39.623491Z",
     "iopub.status.busy": "2025-07-30T21:30:39.623140Z",
     "iopub.status.idle": "2025-07-30T21:30:39.805941Z",
     "shell.execute_reply": "2025-07-30T21:30:39.805198Z"
    },
    "papermill": {
     "duration": 0.196097,
     "end_time": "2025-07-30T21:30:39.807419",
     "exception": false,
     "start_time": "2025-07-30T21:30:39.611322",
     "status": "completed"
    },
    "tags": []
   },
   "outputs": [],
   "source": [
    "siab_train = sample_by_year_size(siab,\n",
    "                               training_year=universe[\"training_year\"],\n",
    "                               training_size=universe[\"training_size\"])"
   ]
  },
  {
   "cell_type": "code",
   "execution_count": 18,
   "id": "8d3afb32-789d-442c-8d5d-9f5aa8dd2eed",
   "metadata": {
    "execution": {
     "iopub.execute_input": "2025-07-30T21:30:39.831136Z",
     "iopub.status.busy": "2025-07-30T21:30:39.830790Z",
     "iopub.status.idle": "2025-07-30T21:30:39.835091Z",
     "shell.execute_reply": "2025-07-30T21:30:39.834089Z"
    },
    "papermill": {
     "duration": 0.017705,
     "end_time": "2025-07-30T21:30:39.836450",
     "exception": false,
     "start_time": "2025-07-30T21:30:39.818745",
     "status": "completed"
    },
    "tags": []
   },
   "outputs": [],
   "source": [
    "#siab_train.shape"
   ]
  },
  {
   "cell_type": "code",
   "execution_count": 19,
   "id": "d582db68-1a4c-47fb-84fc-08518dc1975a",
   "metadata": {
    "execution": {
     "iopub.execute_input": "2025-07-30T21:30:39.861935Z",
     "iopub.status.busy": "2025-07-30T21:30:39.861044Z",
     "iopub.status.idle": "2025-07-30T21:30:39.865540Z",
     "shell.execute_reply": "2025-07-30T21:30:39.864766Z"
    },
    "papermill": {
     "duration": 0.018242,
     "end_time": "2025-07-30T21:30:39.866783",
     "exception": false,
     "start_time": "2025-07-30T21:30:39.848541",
     "status": "completed"
    },
    "tags": []
   },
   "outputs": [],
   "source": [
    "#display(siab_train.groupby(\"year\").size())"
   ]
  },
  {
   "cell_type": "code",
   "execution_count": 20,
   "id": "a561edb4-d032-42cb-8256-22eac1111c64",
   "metadata": {
    "execution": {
     "iopub.execute_input": "2025-07-30T21:30:39.891422Z",
     "iopub.status.busy": "2025-07-30T21:30:39.890904Z",
     "iopub.status.idle": "2025-07-30T21:30:40.107139Z",
     "shell.execute_reply": "2025-07-30T21:30:40.106369Z"
    },
    "papermill": {
     "duration": 0.230171,
     "end_time": "2025-07-30T21:30:40.108733",
     "exception": false,
     "start_time": "2025-07-30T21:30:39.878562",
     "status": "completed"
    },
    "tags": []
   },
   "outputs": [],
   "source": [
    "#siab_train = siab_s[siab_s.year < 2015]\n",
    "siab_calib = siab[siab.year == 2015]\n",
    "siab_test = siab[siab.year == 2016]"
   ]
  },
  {
   "cell_type": "code",
   "execution_count": 21,
   "id": "472de16f-c3db-4916-846b-1f0de9cf1746",
   "metadata": {
    "execution": {
     "iopub.execute_input": "2025-07-30T21:30:40.134889Z",
     "iopub.status.busy": "2025-07-30T21:30:40.134386Z",
     "iopub.status.idle": "2025-07-30T21:30:40.139875Z",
     "shell.execute_reply": "2025-07-30T21:30:40.139091Z"
    },
    "papermill": {
     "duration": 0.019725,
     "end_time": "2025-07-30T21:30:40.141183",
     "exception": false,
     "start_time": "2025-07-30T21:30:40.121458",
     "status": "completed"
    },
    "tags": []
   },
   "outputs": [],
   "source": [
    "X_train = siab_train.iloc[:,4:164]\n",
    "y_train = siab_train.iloc[:, [3]]"
   ]
  },
  {
   "cell_type": "code",
   "execution_count": 22,
   "id": "828c96af-f43a-4ed6-ba47-8ac73a47d56c",
   "metadata": {
    "execution": {
     "iopub.execute_input": "2025-07-30T21:30:40.167263Z",
     "iopub.status.busy": "2025-07-30T21:30:40.166761Z",
     "iopub.status.idle": "2025-07-30T21:30:40.217591Z",
     "shell.execute_reply": "2025-07-30T21:30:40.216639Z"
    },
    "papermill": {
     "duration": 0.066279,
     "end_time": "2025-07-30T21:30:40.219377",
     "exception": false,
     "start_time": "2025-07-30T21:30:40.153098",
     "status": "completed"
    },
    "tags": []
   },
   "outputs": [],
   "source": [
    "X_calib = siab_calib.iloc[:,4:164]\n",
    "y_calib = siab_calib.iloc[:, [3]]"
   ]
  },
  {
   "cell_type": "code",
   "execution_count": 23,
   "id": "c34be9c3-6bd6-476e-acd3-845840e303be",
   "metadata": {
    "execution": {
     "iopub.execute_input": "2025-07-30T21:30:40.246471Z",
     "iopub.status.busy": "2025-07-30T21:30:40.245905Z",
     "iopub.status.idle": "2025-07-30T21:30:40.299144Z",
     "shell.execute_reply": "2025-07-30T21:30:40.298359Z"
    },
    "papermill": {
     "duration": 0.067027,
     "end_time": "2025-07-30T21:30:40.300559",
     "exception": false,
     "start_time": "2025-07-30T21:30:40.233532",
     "status": "completed"
    },
    "tags": []
   },
   "outputs": [],
   "source": [
    "X_test = siab_test.iloc[:,4:164]\n",
    "y_true = siab_test.iloc[:, [3]]"
   ]
  },
  {
   "cell_type": "markdown",
   "id": "9901737e-04df-44f0-9100-f5ad144ed040",
   "metadata": {
    "papermill": {
     "duration": 0.012054,
     "end_time": "2025-07-30T21:30:40.324917",
     "exception": false,
     "start_time": "2025-07-30T21:30:40.312863",
     "status": "completed"
    },
    "tags": []
   },
   "source": [
    "# Splitting Data and Setting Training Data Size OLD VERSION"
   ]
  },
  {
   "cell_type": "code",
   "execution_count": 24,
   "id": "acbc8f7d-8fc8-4e86-8c59-5dcb0f58384b",
   "metadata": {
    "execution": {
     "iopub.execute_input": "2025-07-30T21:30:40.351101Z",
     "iopub.status.busy": "2025-07-30T21:30:40.350601Z",
     "iopub.status.idle": "2025-07-30T21:30:40.355819Z",
     "shell.execute_reply": "2025-07-30T21:30:40.355037Z"
    },
    "papermill": {
     "duration": 0.020794,
     "end_time": "2025-07-30T21:30:40.357378",
     "exception": false,
     "start_time": "2025-07-30T21:30:40.336584",
     "status": "completed"
    },
    "tags": []
   },
   "outputs": [],
   "source": [
    "#def sample_by_year(df, training_size, random_state=42):\n",
    "#    if training_size == \"2014\":\n",
    "#        return df[df[\"year\"] == 2014].reset_index(drop=True)\n",
    "#    \n",
    "#    size_map = {\n",
    "#        \"25k\": 5000,\n",
    "#        \"5k\": 1000,\n",
    "#        \"1k\": 200\n",
    "#    }\n",
    "#\n",
    "#    if training_size not in size_map:\n",
    "#        return df.reset_index(drop=True)  # use all data\n",
    "#\n",
    "#    n_per_year = size_map[training_size]\n",
    "#    grouped = df.groupby(\"year\")\n",
    "#    sampled = grouped.apply(lambda x: x.sample(n=min(n_per_year, len(x)), random_state=random_state))\n",
    "#    return sampled.reset_index(drop=True)"
   ]
  },
  {
   "cell_type": "code",
   "execution_count": 25,
   "id": "6d931f52-beaf-43ff-9e78-9d44a448d54e",
   "metadata": {
    "execution": {
     "iopub.execute_input": "2025-07-30T21:30:40.383178Z",
     "iopub.status.busy": "2025-07-30T21:30:40.382824Z",
     "iopub.status.idle": "2025-07-30T21:30:40.387404Z",
     "shell.execute_reply": "2025-07-30T21:30:40.386680Z"
    },
    "papermill": {
     "duration": 0.019189,
     "end_time": "2025-07-30T21:30:40.388744",
     "exception": false,
     "start_time": "2025-07-30T21:30:40.369555",
     "status": "completed"
    },
    "tags": []
   },
   "outputs": [],
   "source": [
    "#siab_s = sample_by_year(siab, universe[\"training_size\"])"
   ]
  },
  {
   "cell_type": "code",
   "execution_count": 26,
   "id": "5db0a40e-a4e2-4920-be85-b12ae061d70d",
   "metadata": {
    "execution": {
     "iopub.execute_input": "2025-07-30T21:30:40.414550Z",
     "iopub.status.busy": "2025-07-30T21:30:40.414198Z",
     "iopub.status.idle": "2025-07-30T21:30:40.418272Z",
     "shell.execute_reply": "2025-07-30T21:30:40.417627Z"
    },
    "papermill": {
     "duration": 0.017901,
     "end_time": "2025-07-30T21:30:40.419492",
     "exception": false,
     "start_time": "2025-07-30T21:30:40.401591",
     "status": "completed"
    },
    "tags": []
   },
   "outputs": [],
   "source": [
    "#display(siab_s.groupby(\"year\").size())"
   ]
  },
  {
   "cell_type": "code",
   "execution_count": 27,
   "id": "e6c733c5",
   "metadata": {
    "execution": {
     "iopub.execute_input": "2025-07-30T21:30:40.447187Z",
     "iopub.status.busy": "2025-07-30T21:30:40.446823Z",
     "iopub.status.idle": "2025-07-30T21:30:40.542021Z",
     "shell.execute_reply": "2025-07-30T21:30:40.541265Z"
    },
    "papermill": {
     "duration": 0.110925,
     "end_time": "2025-07-30T21:30:40.543463",
     "exception": false,
     "start_time": "2025-07-30T21:30:40.432538",
     "status": "completed"
    },
    "tags": []
   },
   "outputs": [],
   "source": [
    "# Auxiliary data needed downstream in the pipeline\n",
    "\n",
    "org_train = X_train.copy()\n",
    "org_test = X_test.copy()\n",
    "org_calib = X_calib.copy()"
   ]
  },
  {
   "cell_type": "code",
   "execution_count": 28,
   "id": "1466abac-c6da-4492-a62f-4240ae3783af",
   "metadata": {
    "execution": {
     "iopub.execute_input": "2025-07-30T21:30:40.570654Z",
     "iopub.status.busy": "2025-07-30T21:30:40.570142Z",
     "iopub.status.idle": "2025-07-30T21:30:40.574939Z",
     "shell.execute_reply": "2025-07-30T21:30:40.574183Z"
    },
    "papermill": {
     "duration": 0.020817,
     "end_time": "2025-07-30T21:30:40.576551",
     "exception": false,
     "start_time": "2025-07-30T21:30:40.555734",
     "status": "completed"
    },
    "tags": []
   },
   "outputs": [],
   "source": [
    "# put in other script?\n",
    "# Group sizes\n",
    "\n",
    "#def calculate_percentages(df, df_name):\n",
    "#    total_entries = len(df)\n",
    "#\n",
    "#    female_pct = (df['frau1'] == 1).mean() * 100\n",
    "#    non_german_pct = ((df['maxdeutsch1'] == 0) & (df['maxdeutsch.Missing.'] == 0)).mean() * 100\n",
    "#    non_german_male_pct = ((df['frau1'] == 0) & (df['maxdeutsch1'] == 0) & (df['maxdeutsch.Missing.'] == 0)).mean() * 100\n",
    "#    non_german_female_pct = ((df['frau1'] == 1) & (df['maxdeutsch1'] == 0) & (df['maxdeutsch.Missing.'] == 0)).mean() * 100\n",
    "#\n",
    "#    print(f\"--- {df_name} ---\")\n",
    "#    print(f\"Female: {female_pct:.2f}%\")\n",
    "#    print(f\"Non-German: {non_german_pct:.2f}%\")\n",
    "#    print(f\"Non-German Male: {non_german_male_pct:.2f}%\")\n",
    "#    print(f\"Non-German Female: {non_german_female_pct:.2f}%\\n\")\n",
    "#\n",
    "## Calculate for each DataFrame\n",
    "#calculate_percentages(siab_calib, \"siab_calib\")\n",
    "#calculate_percentages(siab_test, \"siab_test\")\n",
    "#calculate_percentages(siab_train, \"siab_train\")"
   ]
  },
  {
   "cell_type": "markdown",
   "id": "0a4a1b33",
   "metadata": {
    "papermill": {
     "duration": 0.011942,
     "end_time": "2025-07-30T21:30:40.600685",
     "exception": false,
     "start_time": "2025-07-30T21:30:40.588743",
     "status": "completed"
    },
    "tags": []
   },
   "source": [
    "# Preprocessing Data"
   ]
  },
  {
   "cell_type": "code",
   "execution_count": 29,
   "id": "ca879031",
   "metadata": {
    "execution": {
     "iopub.execute_input": "2025-07-30T21:30:40.626193Z",
     "iopub.status.busy": "2025-07-30T21:30:40.625688Z",
     "iopub.status.idle": "2025-07-30T21:30:40.630593Z",
     "shell.execute_reply": "2025-07-30T21:30:40.629907Z"
    },
    "papermill": {
     "duration": 0.019259,
     "end_time": "2025-07-30T21:30:40.631825",
     "exception": false,
     "start_time": "2025-07-30T21:30:40.612566",
     "status": "completed"
    },
    "tags": []
   },
   "outputs": [],
   "source": [
    "# EXCLUDE PROTECTED FEATURES\n",
    "# ----------------------\n",
    "# \"exclude_features\": \"none\", # \"nationality\", \"sex\", \"nationality-sex\"\n",
    "\n",
    "excluded_features = universe[\"exclude_features\"].split(\"-\") # split, e.g.: \"nationality-sex\" -> [\"nationality\", \"sex\"]\n",
    "excluded_features_dictionary = {\n",
    "    \"nationality\": [\"maxdeutsch1\", \"maxdeutsch.Missing.\"],\n",
    "    \"sex\": [\"frau1\"],\n",
    "    \"age\": [\"age\"],\n",
    "}\n"
   ]
  },
  {
   "cell_type": "code",
   "execution_count": 30,
   "id": "b745ac60",
   "metadata": {
    "execution": {
     "iopub.execute_input": "2025-07-30T21:30:40.669236Z",
     "iopub.status.busy": "2025-07-30T21:30:40.668710Z",
     "iopub.status.idle": "2025-07-30T21:30:40.675100Z",
     "shell.execute_reply": "2025-07-30T21:30:40.673981Z"
    },
    "papermill": {
     "duration": 0.03189,
     "end_time": "2025-07-30T21:30:40.676486",
     "exception": false,
     "start_time": "2025-07-30T21:30:40.644596",
     "status": "completed"
    },
    "tags": []
   },
   "outputs": [],
   "source": [
    "# Code nice names to column names\n",
    "\n",
    "excluded_features_columns = [\n",
    "    excluded_features_dictionary[f] for f in excluded_features if len(f) > 0 and f != \"none\"\n",
    "]"
   ]
  },
  {
   "cell_type": "code",
   "execution_count": 31,
   "id": "f84f73a2",
   "metadata": {
    "execution": {
     "iopub.execute_input": "2025-07-30T21:30:40.724517Z",
     "iopub.status.busy": "2025-07-30T21:30:40.723851Z",
     "iopub.status.idle": "2025-07-30T21:30:40.731560Z",
     "shell.execute_reply": "2025-07-30T21:30:40.730451Z"
    },
    "papermill": {
     "duration": 0.032994,
     "end_time": "2025-07-30T21:30:40.733262",
     "exception": false,
     "start_time": "2025-07-30T21:30:40.700268",
     "status": "completed"
    },
    "tags": []
   },
   "outputs": [],
   "source": [
    "from utils import flatten_once\n",
    "\n",
    "excluded_features_columns = flatten_once(excluded_features_columns)"
   ]
  },
  {
   "cell_type": "code",
   "execution_count": 32,
   "id": "884dea22",
   "metadata": {
    "execution": {
     "iopub.execute_input": "2025-07-30T21:30:40.780734Z",
     "iopub.status.busy": "2025-07-30T21:30:40.780225Z",
     "iopub.status.idle": "2025-07-30T21:30:40.788552Z",
     "shell.execute_reply": "2025-07-30T21:30:40.787419Z"
    },
    "papermill": {
     "duration": 0.034968,
     "end_time": "2025-07-30T21:30:40.790400",
     "exception": false,
     "start_time": "2025-07-30T21:30:40.755432",
     "status": "completed"
    },
    "tags": []
   },
   "outputs": [
    {
     "name": "stdout",
     "output_type": "stream",
     "text": [
      "Dropping features: ['age']\n"
     ]
    }
   ],
   "source": [
    "if len(excluded_features_columns) > 0:\n",
    "    print(f\"Dropping features: {excluded_features_columns}\")\n",
    "    X_train.drop(excluded_features_columns, axis=1, inplace=True)"
   ]
  },
  {
   "cell_type": "code",
   "execution_count": 33,
   "id": "95ab8b16",
   "metadata": {
    "execution": {
     "iopub.execute_input": "2025-07-30T21:30:40.840280Z",
     "iopub.status.busy": "2025-07-30T21:30:40.839712Z",
     "iopub.status.idle": "2025-07-30T21:30:40.897976Z",
     "shell.execute_reply": "2025-07-30T21:30:40.896805Z"
    },
    "papermill": {
     "duration": 0.085424,
     "end_time": "2025-07-30T21:30:40.899622",
     "exception": false,
     "start_time": "2025-07-30T21:30:40.814198",
     "status": "completed"
    },
    "tags": []
   },
   "outputs": [
    {
     "name": "stdout",
     "output_type": "stream",
     "text": [
      "Dropping features: ['age']\n"
     ]
    }
   ],
   "source": [
    "if len(excluded_features_columns) > 0:\n",
    "    print(f\"Dropping features: {excluded_features_columns}\")\n",
    "    X_test.drop(excluded_features_columns, axis=1, inplace=True)"
   ]
  },
  {
   "cell_type": "code",
   "execution_count": 34,
   "id": "1853aaf5-fb9f-46cb-a2b5-8ea4ae2237e4",
   "metadata": {
    "execution": {
     "iopub.execute_input": "2025-07-30T21:30:40.950728Z",
     "iopub.status.busy": "2025-07-30T21:30:40.950303Z",
     "iopub.status.idle": "2025-07-30T21:30:41.000121Z",
     "shell.execute_reply": "2025-07-30T21:30:40.998434Z"
    },
    "papermill": {
     "duration": 0.076996,
     "end_time": "2025-07-30T21:30:41.001509",
     "exception": false,
     "start_time": "2025-07-30T21:30:40.924513",
     "status": "completed"
    },
    "tags": []
   },
   "outputs": [
    {
     "name": "stdout",
     "output_type": "stream",
     "text": [
      "Dropping features: ['age']\n"
     ]
    }
   ],
   "source": [
    "if len(excluded_features_columns) > 0:\n",
    "    print(f\"Dropping features: {excluded_features_columns}\")\n",
    "    X_calib.drop(excluded_features_columns, axis=1, inplace=True)"
   ]
  },
  {
   "cell_type": "code",
   "execution_count": 35,
   "id": "6727d079-03e5-481e-9d38-292a90b7a0a8",
   "metadata": {
    "execution": {
     "iopub.execute_input": "2025-07-30T21:30:41.029032Z",
     "iopub.status.busy": "2025-07-30T21:30:41.028521Z",
     "iopub.status.idle": "2025-07-30T21:30:41.032931Z",
     "shell.execute_reply": "2025-07-30T21:30:41.032184Z"
    },
    "papermill": {
     "duration": 0.018366,
     "end_time": "2025-07-30T21:30:41.034183",
     "exception": false,
     "start_time": "2025-07-30T21:30:41.015817",
     "status": "completed"
    },
    "tags": []
   },
   "outputs": [],
   "source": [
    "# SPLIT & STRATIFY DATA\n",
    "# ----------------------"
   ]
  },
  {
   "cell_type": "code",
   "execution_count": 36,
   "id": "76c4dc6d",
   "metadata": {
    "execution": {
     "iopub.execute_input": "2025-07-30T21:30:41.070827Z",
     "iopub.status.busy": "2025-07-30T21:30:41.070369Z",
     "iopub.status.idle": "2025-07-30T21:30:41.076764Z",
     "shell.execute_reply": "2025-07-30T21:30:41.075499Z"
    },
    "papermill": {
     "duration": 0.03168,
     "end_time": "2025-07-30T21:30:41.078932",
     "exception": false,
     "start_time": "2025-07-30T21:30:41.047252",
     "status": "completed"
    },
    "tags": []
   },
   "outputs": [],
   "source": [
    "# EXCLUDE CERTAIN SUBGROUPS\n",
    "# ----------------------\n",
    "\n",
    "mode = universe.get(\"exclude_subgroups\", \"keep-all\") \n",
    "# Fetches the exclude_subgroups setting from the universe dict.\n",
    "# Defaults to \"keep-all\" if the key is missing."
   ]
  },
  {
   "cell_type": "code",
   "execution_count": 37,
   "id": "21994072",
   "metadata": {
    "execution": {
     "iopub.execute_input": "2025-07-30T21:30:41.146809Z",
     "iopub.status.busy": "2025-07-30T21:30:41.145967Z",
     "iopub.status.idle": "2025-07-30T21:30:41.155036Z",
     "shell.execute_reply": "2025-07-30T21:30:41.153802Z"
    },
    "papermill": {
     "duration": 0.045498,
     "end_time": "2025-07-30T21:30:41.157314",
     "exception": false,
     "start_time": "2025-07-30T21:30:41.111816",
     "status": "completed"
    },
    "tags": []
   },
   "outputs": [],
   "source": [
    "if mode == \"keep-all\":\n",
    "    keep_mask = pd.Series(True, index=org_train.index)\n",
    "\n",
    "# org_train contains the original feature columns from features_org (in Simson)\n",
    "# features_org contains unprocessed features, for me X_train at beginning ???\n",
    "# For keep-all, creates a boolean Series (keep_mask) of all True, so no rows are removed.\n",
    "\n",
    "elif mode == \"drop-non-german\":\n",
    "    keep_mask = org_train[\"maxdeutsch1\"] == 1 # ??? what about missing values?\n",
    "\n",
    "else:\n",
    "    raise ValueError(f\"Unsupported mode for exclude_subgroups: {mode}\")\n"
   ]
  },
  {
   "cell_type": "code",
   "execution_count": 38,
   "id": "71651440",
   "metadata": {
    "execution": {
     "iopub.execute_input": "2025-07-30T21:30:41.229288Z",
     "iopub.status.busy": "2025-07-30T21:30:41.228864Z",
     "iopub.status.idle": "2025-07-30T21:30:41.236833Z",
     "shell.execute_reply": "2025-07-30T21:30:41.235441Z"
    },
    "papermill": {
     "duration": 0.048061,
     "end_time": "2025-07-30T21:30:41.239064",
     "exception": false,
     "start_time": "2025-07-30T21:30:41.191003",
     "status": "completed"
    },
    "tags": []
   },
   "outputs": [
    {
     "name": "stdout",
     "output_type": "stream",
     "text": [
      "Dropping 147 rows (14.70%) where mode='drop-non-german'\n"
     ]
    }
   ],
   "source": [
    "n_drop = (~keep_mask).sum() # Calculates how many rows are set to be dropped\n",
    "if n_drop > 0:\n",
    "    pct = n_drop / len(keep_mask) * 100\n",
    "    print(f\"Dropping {n_drop} rows ({pct:.2f}%) where mode='{mode}'\")"
   ]
  },
  {
   "cell_type": "code",
   "execution_count": 39,
   "id": "5fb8eee5",
   "metadata": {
    "execution": {
     "iopub.execute_input": "2025-07-30T21:30:41.288003Z",
     "iopub.status.busy": "2025-07-30T21:30:41.287573Z",
     "iopub.status.idle": "2025-07-30T21:30:41.293737Z",
     "shell.execute_reply": "2025-07-30T21:30:41.292988Z"
    },
    "papermill": {
     "duration": 0.024331,
     "end_time": "2025-07-30T21:30:41.295089",
     "exception": false,
     "start_time": "2025-07-30T21:30:41.270758",
     "status": "completed"
    },
    "tags": []
   },
   "outputs": [],
   "source": [
    "X_train = X_train[keep_mask]"
   ]
  },
  {
   "cell_type": "code",
   "execution_count": 40,
   "id": "b202bb3a",
   "metadata": {
    "execution": {
     "iopub.execute_input": "2025-07-30T21:30:41.323370Z",
     "iopub.status.busy": "2025-07-30T21:30:41.322653Z",
     "iopub.status.idle": "2025-07-30T21:30:41.329743Z",
     "shell.execute_reply": "2025-07-30T21:30:41.328990Z"
    },
    "papermill": {
     "duration": 0.021808,
     "end_time": "2025-07-30T21:30:41.331525",
     "exception": false,
     "start_time": "2025-07-30T21:30:41.309717",
     "status": "completed"
    },
    "tags": []
   },
   "outputs": [],
   "source": [
    "y_train = y_train[keep_mask]"
   ]
  },
  {
   "cell_type": "markdown",
   "id": "493e2ac3",
   "metadata": {
    "papermill": {
     "duration": 0.023193,
     "end_time": "2025-07-30T21:30:41.378330",
     "exception": false,
     "start_time": "2025-07-30T21:30:41.355137",
     "status": "completed"
    },
    "tags": []
   },
   "source": [
    "# Model Training"
   ]
  },
  {
   "cell_type": "code",
   "execution_count": 41,
   "id": "679e1268",
   "metadata": {
    "execution": {
     "iopub.execute_input": "2025-07-30T21:30:41.430065Z",
     "iopub.status.busy": "2025-07-30T21:30:41.429556Z",
     "iopub.status.idle": "2025-07-30T21:30:42.657241Z",
     "shell.execute_reply": "2025-07-30T21:30:42.656238Z"
    },
    "papermill": {
     "duration": 1.256894,
     "end_time": "2025-07-30T21:30:42.659172",
     "exception": false,
     "start_time": "2025-07-30T21:30:41.402278",
     "status": "completed"
    },
    "tags": []
   },
   "outputs": [],
   "source": [
    "from sklearn.linear_model import LogisticRegression\n",
    "from sklearn.ensemble import GradientBoostingClassifier, RandomForestClassifier\n",
    "\n",
    "if (universe[\"model\"] == \"logreg\"):\n",
    "    model = LogisticRegression() #penalty=\"none\") #, solver=\"newton-cg\", max_iter=1) # include random_state=19 ?\n",
    "elif (universe[\"model\"] == \"penalized_logreg\"):\n",
    "    model = LogisticRegression(penalty=\"l2\", C=1.0) #, solver=\"newton-cg\", max_iter=1)\n",
    "elif (universe[\"model\"] == \"rf\"):\n",
    "    model = RandomForestClassifier(n_estimators=100, n_jobs=-1)\n",
    "elif (universe[\"model\"] == \"gbm\"):\n",
    "    model = GradientBoostingClassifier()\n",
    "elif (universe[\"model\"] == \"elasticnet\"):\n",
    "    model = LogisticRegression(penalty = 'elasticnet', solver = 'saga', l1_ratio = 0.5, max_iter=5000) # which solver to use?\n",
    "else:\n",
    "    raise \"Unsupported universe.model\""
   ]
  },
  {
   "cell_type": "code",
   "execution_count": 42,
   "id": "0cc8f744",
   "metadata": {
    "execution": {
     "iopub.execute_input": "2025-07-30T21:30:42.709219Z",
     "iopub.status.busy": "2025-07-30T21:30:42.708460Z",
     "iopub.status.idle": "2025-07-30T21:30:42.715030Z",
     "shell.execute_reply": "2025-07-30T21:30:42.714125Z"
    },
    "papermill": {
     "duration": 0.03424,
     "end_time": "2025-07-30T21:30:42.716840",
     "exception": false,
     "start_time": "2025-07-30T21:30:42.682600",
     "status": "completed"
    },
    "tags": []
   },
   "outputs": [],
   "source": [
    "import numpy as np\n",
    "from sklearn.pipeline import Pipeline\n",
    "from sklearn.preprocessing import StandardScaler\n",
    "\n",
    "model = Pipeline([\n",
    "    #(\"continuous_processor\", continuous_processor),\n",
    "    #(\"categorical_preprocessor\", categorical_preprocessor),\n",
    "    (\"scale\", StandardScaler() if universe[\"scale\"] == \"scale\" else None), \n",
    "    (\"model\", model),\n",
    "])"
   ]
  },
  {
   "cell_type": "code",
   "execution_count": 43,
   "id": "9442c04d",
   "metadata": {
    "execution": {
     "iopub.execute_input": "2025-07-30T21:30:42.767316Z",
     "iopub.status.busy": "2025-07-30T21:30:42.766888Z",
     "iopub.status.idle": "2025-07-30T21:30:43.149256Z",
     "shell.execute_reply": "2025-07-30T21:30:43.148325Z"
    },
    "papermill": {
     "duration": 0.4098,
     "end_time": "2025-07-30T21:30:43.150865",
     "exception": false,
     "start_time": "2025-07-30T21:30:42.741065",
     "status": "completed"
    },
    "tags": []
   },
   "outputs": [
    {
     "data": {
      "text/html": [
       "<style>#sk-container-id-1 {color: black;background-color: white;}#sk-container-id-1 pre{padding: 0;}#sk-container-id-1 div.sk-toggleable {background-color: white;}#sk-container-id-1 label.sk-toggleable__label {cursor: pointer;display: block;width: 100%;margin-bottom: 0;padding: 0.3em;box-sizing: border-box;text-align: center;}#sk-container-id-1 label.sk-toggleable__label-arrow:before {content: \"▸\";float: left;margin-right: 0.25em;color: #696969;}#sk-container-id-1 label.sk-toggleable__label-arrow:hover:before {color: black;}#sk-container-id-1 div.sk-estimator:hover label.sk-toggleable__label-arrow:before {color: black;}#sk-container-id-1 div.sk-toggleable__content {max-height: 0;max-width: 0;overflow: hidden;text-align: left;background-color: #f0f8ff;}#sk-container-id-1 div.sk-toggleable__content pre {margin: 0.2em;color: black;border-radius: 0.25em;background-color: #f0f8ff;}#sk-container-id-1 input.sk-toggleable__control:checked~div.sk-toggleable__content {max-height: 200px;max-width: 100%;overflow: auto;}#sk-container-id-1 input.sk-toggleable__control:checked~label.sk-toggleable__label-arrow:before {content: \"▾\";}#sk-container-id-1 div.sk-estimator input.sk-toggleable__control:checked~label.sk-toggleable__label {background-color: #d4ebff;}#sk-container-id-1 div.sk-label input.sk-toggleable__control:checked~label.sk-toggleable__label {background-color: #d4ebff;}#sk-container-id-1 input.sk-hidden--visually {border: 0;clip: rect(1px 1px 1px 1px);clip: rect(1px, 1px, 1px, 1px);height: 1px;margin: -1px;overflow: hidden;padding: 0;position: absolute;width: 1px;}#sk-container-id-1 div.sk-estimator {font-family: monospace;background-color: #f0f8ff;border: 1px dotted black;border-radius: 0.25em;box-sizing: border-box;margin-bottom: 0.5em;}#sk-container-id-1 div.sk-estimator:hover {background-color: #d4ebff;}#sk-container-id-1 div.sk-parallel-item::after {content: \"\";width: 100%;border-bottom: 1px solid gray;flex-grow: 1;}#sk-container-id-1 div.sk-label:hover label.sk-toggleable__label {background-color: #d4ebff;}#sk-container-id-1 div.sk-serial::before {content: \"\";position: absolute;border-left: 1px solid gray;box-sizing: border-box;top: 0;bottom: 0;left: 50%;z-index: 0;}#sk-container-id-1 div.sk-serial {display: flex;flex-direction: column;align-items: center;background-color: white;padding-right: 0.2em;padding-left: 0.2em;position: relative;}#sk-container-id-1 div.sk-item {position: relative;z-index: 1;}#sk-container-id-1 div.sk-parallel {display: flex;align-items: stretch;justify-content: center;background-color: white;position: relative;}#sk-container-id-1 div.sk-item::before, #sk-container-id-1 div.sk-parallel-item::before {content: \"\";position: absolute;border-left: 1px solid gray;box-sizing: border-box;top: 0;bottom: 0;left: 50%;z-index: -1;}#sk-container-id-1 div.sk-parallel-item {display: flex;flex-direction: column;z-index: 1;position: relative;background-color: white;}#sk-container-id-1 div.sk-parallel-item:first-child::after {align-self: flex-end;width: 50%;}#sk-container-id-1 div.sk-parallel-item:last-child::after {align-self: flex-start;width: 50%;}#sk-container-id-1 div.sk-parallel-item:only-child::after {width: 0;}#sk-container-id-1 div.sk-dashed-wrapped {border: 1px dashed gray;margin: 0 0.4em 0.5em 0.4em;box-sizing: border-box;padding-bottom: 0.4em;background-color: white;}#sk-container-id-1 div.sk-label label {font-family: monospace;font-weight: bold;display: inline-block;line-height: 1.2em;}#sk-container-id-1 div.sk-label-container {text-align: center;}#sk-container-id-1 div.sk-container {/* jupyter's `normalize.less` sets `[hidden] { display: none; }` but bootstrap.min.css set `[hidden] { display: none !important; }` so we also need the `!important` here to be able to override the default hidden behavior on the sphinx rendered scikit-learn.org. See: https://github.com/scikit-learn/scikit-learn/issues/21755 */display: inline-block !important;position: relative;}#sk-container-id-1 div.sk-text-repr-fallback {display: none;}</style><div id=\"sk-container-id-1\" class=\"sk-top-container\"><div class=\"sk-text-repr-fallback\"><pre>Pipeline(steps=[(&#x27;scale&#x27;, None), (&#x27;model&#x27;, RandomForestClassifier(n_jobs=-1))])</pre><b>In a Jupyter environment, please rerun this cell to show the HTML representation or trust the notebook. <br />On GitHub, the HTML representation is unable to render, please try loading this page with nbviewer.org.</b></div><div class=\"sk-container\" hidden><div class=\"sk-item sk-dashed-wrapped\"><div class=\"sk-label-container\"><div class=\"sk-label sk-toggleable\"><input class=\"sk-toggleable__control sk-hidden--visually\" id=\"sk-estimator-id-1\" type=\"checkbox\" ><label for=\"sk-estimator-id-1\" class=\"sk-toggleable__label sk-toggleable__label-arrow\">Pipeline</label><div class=\"sk-toggleable__content\"><pre>Pipeline(steps=[(&#x27;scale&#x27;, None), (&#x27;model&#x27;, RandomForestClassifier(n_jobs=-1))])</pre></div></div></div><div class=\"sk-serial\"><div class=\"sk-item\"><div class=\"sk-estimator sk-toggleable\"><input class=\"sk-toggleable__control sk-hidden--visually\" id=\"sk-estimator-id-2\" type=\"checkbox\" ><label for=\"sk-estimator-id-2\" class=\"sk-toggleable__label sk-toggleable__label-arrow\">None</label><div class=\"sk-toggleable__content\"><pre>None</pre></div></div></div><div class=\"sk-item\"><div class=\"sk-estimator sk-toggleable\"><input class=\"sk-toggleable__control sk-hidden--visually\" id=\"sk-estimator-id-3\" type=\"checkbox\" ><label for=\"sk-estimator-id-3\" class=\"sk-toggleable__label sk-toggleable__label-arrow\">RandomForestClassifier</label><div class=\"sk-toggleable__content\"><pre>RandomForestClassifier(n_jobs=-1)</pre></div></div></div></div></div></div></div>"
      ],
      "text/plain": [
       "Pipeline(steps=[('scale', None), ('model', RandomForestClassifier(n_jobs=-1))])"
      ]
     },
     "execution_count": 43,
     "metadata": {},
     "output_type": "execute_result"
    }
   ],
   "source": [
    "model.fit(X_train, y_train.values.ravel())"
   ]
  },
  {
   "cell_type": "code",
   "execution_count": 44,
   "id": "af59f8c0",
   "metadata": {
    "execution": {
     "iopub.execute_input": "2025-07-30T21:30:43.206533Z",
     "iopub.status.busy": "2025-07-30T21:30:43.205877Z",
     "iopub.status.idle": "2025-07-30T21:30:43.211661Z",
     "shell.execute_reply": "2025-07-30T21:30:43.210637Z"
    },
    "papermill": {
     "duration": 0.035338,
     "end_time": "2025-07-30T21:30:43.213382",
     "exception": false,
     "start_time": "2025-07-30T21:30:43.178044",
     "status": "completed"
    },
    "tags": []
   },
   "outputs": [],
   "source": [
    "from fairness_multiverse.universe import predict_w_threshold"
   ]
  },
  {
   "cell_type": "code",
   "execution_count": 45,
   "id": "a7cf2e16",
   "metadata": {
    "execution": {
     "iopub.execute_input": "2025-07-30T21:30:43.266265Z",
     "iopub.status.busy": "2025-07-30T21:30:43.265284Z",
     "iopub.status.idle": "2025-07-30T21:30:44.057222Z",
     "shell.execute_reply": "2025-07-30T21:30:44.056124Z"
    },
    "papermill": {
     "duration": 0.821689,
     "end_time": "2025-07-30T21:30:44.059366",
     "exception": false,
     "start_time": "2025-07-30T21:30:43.237677",
     "status": "completed"
    },
    "tags": []
   },
   "outputs": [
    {
     "data": {
      "text/plain": [
       "0.8598372533719764"
      ]
     },
     "execution_count": 45,
     "metadata": {},
     "output_type": "execute_result"
    }
   ],
   "source": [
    "probs_test = model.predict_proba(X_test)\n",
    "\n",
    "'''\n",
    "Below code returns a boolean array (or binary 0/1 array depending on how it’s used) where each element \n",
    "is True if the probability of class 1 is greater than or equal to the threshold, and False otherwise.\n",
    "'''\n",
    "y_pred_default = predict_w_threshold(probs_test, 0.5)\n",
    "\n",
    "from sklearn.metrics import accuracy_score\n",
    "\n",
    "# Naive prediction\n",
    "accuracy_score(y_true = y_true, y_pred = y_pred_default)"
   ]
  },
  {
   "cell_type": "code",
   "execution_count": 46,
   "id": "081964c3",
   "metadata": {
    "execution": {
     "iopub.execute_input": "2025-07-30T21:30:44.114215Z",
     "iopub.status.busy": "2025-07-30T21:30:44.113275Z",
     "iopub.status.idle": "2025-07-30T21:30:44.864739Z",
     "shell.execute_reply": "2025-07-30T21:30:44.863722Z"
    },
    "papermill": {
     "duration": 0.780541,
     "end_time": "2025-07-30T21:30:44.866410",
     "exception": false,
     "start_time": "2025-07-30T21:30:44.085869",
     "status": "completed"
    },
    "tags": []
   },
   "outputs": [
    {
     "data": {
      "text/plain": [
       "array([0, 0, 0, ..., 0, 0, 0])"
      ]
     },
     "execution_count": 46,
     "metadata": {},
     "output_type": "execute_result"
    }
   ],
   "source": [
    "model.predict(X_test)"
   ]
  },
  {
   "cell_type": "markdown",
   "id": "56c9705b",
   "metadata": {
    "papermill": {
     "duration": 0.026137,
     "end_time": "2025-07-30T21:30:44.919010",
     "exception": false,
     "start_time": "2025-07-30T21:30:44.892873",
     "status": "completed"
    },
    "tags": []
   },
   "source": [
    "# Conformal Prediction"
   ]
  },
  {
   "cell_type": "code",
   "execution_count": 47,
   "id": "160ec6ff",
   "metadata": {
    "execution": {
     "iopub.execute_input": "2025-07-30T21:30:44.972608Z",
     "iopub.status.busy": "2025-07-30T21:30:44.972097Z",
     "iopub.status.idle": "2025-07-30T21:30:44.977718Z",
     "shell.execute_reply": "2025-07-30T21:30:44.976650Z"
    },
    "papermill": {
     "duration": 0.035491,
     "end_time": "2025-07-30T21:30:44.979385",
     "exception": false,
     "start_time": "2025-07-30T21:30:44.943894",
     "status": "completed"
    },
    "tags": []
   },
   "outputs": [],
   "source": [
    "# Miscoverage level for conformal prediction (10% allowed error rate => 90% target coverage)\n",
    "alpha = 0.1"
   ]
  },
  {
   "cell_type": "code",
   "execution_count": 48,
   "id": "eadf4555-3dd3-440e-8e35-f82a4ad9f855",
   "metadata": {
    "execution": {
     "iopub.execute_input": "2025-07-30T21:30:45.033046Z",
     "iopub.status.busy": "2025-07-30T21:30:45.032508Z",
     "iopub.status.idle": "2025-07-30T21:30:45.846662Z",
     "shell.execute_reply": "2025-07-30T21:30:45.845471Z"
    },
    "papermill": {
     "duration": 0.843023,
     "end_time": "2025-07-30T21:30:45.849165",
     "exception": false,
     "start_time": "2025-07-30T21:30:45.006142",
     "status": "completed"
    },
    "tags": []
   },
   "outputs": [],
   "source": [
    "probs_calib = model.predict_proba(X_calib)"
   ]
  },
  {
   "cell_type": "code",
   "execution_count": 49,
   "id": "2ed93547-6d5d-4983-9b36-1ecb300da49a",
   "metadata": {
    "execution": {
     "iopub.execute_input": "2025-07-30T21:30:45.938593Z",
     "iopub.status.busy": "2025-07-30T21:30:45.937882Z",
     "iopub.status.idle": "2025-07-30T21:30:45.944436Z",
     "shell.execute_reply": "2025-07-30T21:30:45.943331Z"
    },
    "papermill": {
     "duration": 0.03846,
     "end_time": "2025-07-30T21:30:45.946437",
     "exception": false,
     "start_time": "2025-07-30T21:30:45.907977",
     "status": "completed"
    },
    "tags": []
   },
   "outputs": [],
   "source": [
    "y_calib = y_calib.values.ravel().astype(int)"
   ]
  },
  {
   "cell_type": "code",
   "execution_count": 50,
   "id": "65d1320d-f588-4b38-9072-62af1ae97f7d",
   "metadata": {
    "execution": {
     "iopub.execute_input": "2025-07-30T21:30:46.003513Z",
     "iopub.status.busy": "2025-07-30T21:30:46.002785Z",
     "iopub.status.idle": "2025-07-30T21:30:46.011229Z",
     "shell.execute_reply": "2025-07-30T21:30:46.010309Z"
    },
    "papermill": {
     "duration": 0.039741,
     "end_time": "2025-07-30T21:30:46.013262",
     "exception": false,
     "start_time": "2025-07-30T21:30:45.973521",
     "status": "completed"
    },
    "tags": []
   },
   "outputs": [],
   "source": [
    "from fairness_multiverse.conformal import compute_nc_scores\n",
    "\n",
    "# Compute nonconformity scores on calibration set (1 - probability of true class)\n",
    "nc_scores = compute_nc_scores(probs_calib, y_calib)"
   ]
  },
  {
   "cell_type": "code",
   "execution_count": 51,
   "id": "df3b8ca3-53b7-43d5-9667-7c85da7aeda2",
   "metadata": {
    "execution": {
     "iopub.execute_input": "2025-07-30T21:30:46.068377Z",
     "iopub.status.busy": "2025-07-30T21:30:46.067673Z",
     "iopub.status.idle": "2025-07-30T21:30:46.075295Z",
     "shell.execute_reply": "2025-07-30T21:30:46.074352Z"
    },
    "papermill": {
     "duration": 0.037588,
     "end_time": "2025-07-30T21:30:46.077074",
     "exception": false,
     "start_time": "2025-07-30T21:30:46.039486",
     "status": "completed"
    },
    "tags": []
   },
   "outputs": [],
   "source": [
    "from fairness_multiverse.conformal import find_threshold\n",
    "\n",
    "# Find conformal threshold q_hat for the given alpha (split conformal method)\n",
    "q_hat = find_threshold(nc_scores, alpha)"
   ]
  },
  {
   "cell_type": "code",
   "execution_count": 52,
   "id": "4d29e6c1-0ef6-4aa4-b8fe-4fe79b0d033a",
   "metadata": {
    "execution": {
     "iopub.execute_input": "2025-07-30T21:30:46.132242Z",
     "iopub.status.busy": "2025-07-30T21:30:46.131629Z",
     "iopub.status.idle": "2025-07-30T21:30:46.140444Z",
     "shell.execute_reply": "2025-07-30T21:30:46.139203Z"
    },
    "papermill": {
     "duration": 0.039096,
     "end_time": "2025-07-30T21:30:46.142176",
     "exception": false,
     "start_time": "2025-07-30T21:30:46.103080",
     "status": "completed"
    },
    "tags": []
   },
   "outputs": [
    {
     "data": {
      "text/plain": [
       "0.6699999999999999"
      ]
     },
     "execution_count": 52,
     "metadata": {},
     "output_type": "execute_result"
    }
   ],
   "source": [
    "q_hat"
   ]
  },
  {
   "cell_type": "code",
   "execution_count": 53,
   "id": "92460794-cdac-4be2-ba28-f28c0515a6fb",
   "metadata": {
    "execution": {
     "iopub.execute_input": "2025-07-30T21:30:46.196927Z",
     "iopub.status.busy": "2025-07-30T21:30:46.196533Z",
     "iopub.status.idle": "2025-07-30T21:30:47.702713Z",
     "shell.execute_reply": "2025-07-30T21:30:47.701745Z"
    },
    "papermill": {
     "duration": 1.536153,
     "end_time": "2025-07-30T21:30:47.704610",
     "exception": false,
     "start_time": "2025-07-30T21:30:46.168457",
     "status": "completed"
    },
    "tags": []
   },
   "outputs": [],
   "source": [
    "from fairness_multiverse.conformal import predict_conformal_sets\n",
    "\n",
    "# Generate prediction sets for each test example\n",
    "pred_sets = predict_conformal_sets(model, X_test, q_hat)"
   ]
  },
  {
   "cell_type": "code",
   "execution_count": 54,
   "id": "d90c9a65-e6db-4f5d-80cd-e68fb7e46829",
   "metadata": {
    "execution": {
     "iopub.execute_input": "2025-07-30T21:30:47.761425Z",
     "iopub.status.busy": "2025-07-30T21:30:47.760929Z",
     "iopub.status.idle": "2025-07-30T21:30:47.767014Z",
     "shell.execute_reply": "2025-07-30T21:30:47.765993Z"
    },
    "papermill": {
     "duration": 0.037053,
     "end_time": "2025-07-30T21:30:47.768819",
     "exception": false,
     "start_time": "2025-07-30T21:30:47.731766",
     "status": "completed"
    },
    "tags": []
   },
   "outputs": [],
   "source": [
    "y_true = y_true.squeeze()"
   ]
  },
  {
   "cell_type": "code",
   "execution_count": 55,
   "id": "3a58a54a-1e68-46b9-927a-df01f18aebc8",
   "metadata": {
    "execution": {
     "iopub.execute_input": "2025-07-30T21:30:47.820155Z",
     "iopub.status.busy": "2025-07-30T21:30:47.819658Z",
     "iopub.status.idle": "2025-07-30T21:30:48.843839Z",
     "shell.execute_reply": "2025-07-30T21:30:48.843086Z"
    },
    "papermill": {
     "duration": 1.0526,
     "end_time": "2025-07-30T21:30:48.846190",
     "exception": false,
     "start_time": "2025-07-30T21:30:47.793590",
     "status": "completed"
    },
    "tags": []
   },
   "outputs": [],
   "source": [
    "from fairness_multiverse.conformal import evaluate_sets\n",
    "\n",
    "# Evaluate coverage and average set size on test data\n",
    "metrics = evaluate_sets(pred_sets, y_true)"
   ]
  },
  {
   "cell_type": "markdown",
   "id": "2b569c12-9aaa-4c88-98c9-bbcd0cf3ebb8",
   "metadata": {
    "papermill": {
     "duration": 0.039977,
     "end_time": "2025-07-30T21:30:48.951254",
     "exception": false,
     "start_time": "2025-07-30T21:30:48.911277",
     "status": "completed"
    },
    "tags": []
   },
   "source": [
    "# CP Metrics"
   ]
  },
  {
   "cell_type": "code",
   "execution_count": 56,
   "id": "5ce0a5cb-201f-45a0-ade5-94c7f0bd6095",
   "metadata": {
    "execution": {
     "iopub.execute_input": "2025-07-30T21:30:49.027748Z",
     "iopub.status.busy": "2025-07-30T21:30:49.027227Z",
     "iopub.status.idle": "2025-07-30T21:30:49.035592Z",
     "shell.execute_reply": "2025-07-30T21:30:49.034478Z"
    },
    "papermill": {
     "duration": 0.049125,
     "end_time": "2025-07-30T21:30:49.038224",
     "exception": false,
     "start_time": "2025-07-30T21:30:48.989099",
     "status": "completed"
    },
    "tags": []
   },
   "outputs": [
    {
     "data": {
      "text/plain": [
       "{'coverage': 0.9117378218704715, 'avg_size': 1.141255155501059}"
      ]
     },
     "execution_count": 56,
     "metadata": {},
     "output_type": "execute_result"
    }
   ],
   "source": [
    "metrics"
   ]
  },
  {
   "cell_type": "code",
   "execution_count": 57,
   "id": "9b9a838d-31c9-430b-ae14-12baee460d17",
   "metadata": {
    "execution": {
     "iopub.execute_input": "2025-07-30T21:30:49.113358Z",
     "iopub.status.busy": "2025-07-30T21:30:49.112678Z",
     "iopub.status.idle": "2025-07-30T21:30:49.120425Z",
     "shell.execute_reply": "2025-07-30T21:30:49.119183Z"
    },
    "papermill": {
     "duration": 0.048123,
     "end_time": "2025-07-30T21:30:49.122522",
     "exception": false,
     "start_time": "2025-07-30T21:30:49.074399",
     "status": "completed"
    },
    "tags": []
   },
   "outputs": [],
   "source": [
    "example_universe = universe.copy()\n",
    "universe_training_year = example_universe.get(\"training_year\")\n",
    "universe_training_size = example_universe.get(\"training_size\")\n",
    "universe_scale = example_universe.get(\"scale\")\n",
    "universe_model = example_universe.get(\"model\")\n",
    "universe_exclude_features = example_universe.get(\"exclude_features\")\n",
    "universe_exclude_subgroups = example_universe.get(\"exclude_subgroups\")"
   ]
  },
  {
   "cell_type": "code",
   "execution_count": 58,
   "id": "f4b6a8ac-9dc0-4245-8a91-5b3b5999c4f9",
   "metadata": {
    "execution": {
     "iopub.execute_input": "2025-07-30T21:30:49.199006Z",
     "iopub.status.busy": "2025-07-30T21:30:49.198615Z",
     "iopub.status.idle": "2025-07-30T21:30:49.204631Z",
     "shell.execute_reply": "2025-07-30T21:30:49.203459Z"
    },
    "papermill": {
     "duration": 0.047405,
     "end_time": "2025-07-30T21:30:49.206767",
     "exception": false,
     "start_time": "2025-07-30T21:30:49.159362",
     "status": "completed"
    },
    "tags": []
   },
   "outputs": [],
   "source": [
    "cp_metrics_dict = {\n",
    "    \"universe_id\": [universe_id],\n",
    "    \"universe_training_year\": [universe_training_year],\n",
    "    \"universe_training_size\": [universe_training_size],\n",
    "    \"universe_scale\": [universe_scale],\n",
    "    \"universe_model\": [universe_model],\n",
    "    \"universe_exclude_features\": [universe_exclude_features],\n",
    "    \"universe_exclude_subgroups\": [universe_exclude_subgroups],\n",
    "    \"q_hat\": [q_hat],\n",
    "    \"coverage\": [metrics[\"coverage\"]],\n",
    "    \"avg_size\": [metrics[\"avg_size\"]],\n",
    "}"
   ]
  },
  {
   "cell_type": "code",
   "execution_count": 59,
   "id": "908acbb1-0371-4915-85ca-3fa520d2efe2",
   "metadata": {
    "execution": {
     "iopub.execute_input": "2025-07-30T21:30:49.285181Z",
     "iopub.status.busy": "2025-07-30T21:30:49.284216Z",
     "iopub.status.idle": "2025-07-30T21:30:49.295623Z",
     "shell.execute_reply": "2025-07-30T21:30:49.294170Z"
    },
    "papermill": {
     "duration": 0.054392,
     "end_time": "2025-07-30T21:30:49.298018",
     "exception": false,
     "start_time": "2025-07-30T21:30:49.243626",
     "status": "completed"
    },
    "tags": []
   },
   "outputs": [
    {
     "data": {
      "text/plain": [
       "{'universe_id': ['fb2cc3a3241da2a573733cc735344d6d'],\n",
       " 'universe_training_year': ['2014'],\n",
       " 'universe_training_size': ['1k'],\n",
       " 'universe_scale': ['do-not-scale'],\n",
       " 'universe_model': ['rf'],\n",
       " 'universe_exclude_features': ['age'],\n",
       " 'universe_exclude_subgroups': ['drop-non-german'],\n",
       " 'q_hat': [0.6699999999999999],\n",
       " 'coverage': [0.9117378218704715],\n",
       " 'avg_size': [1.141255155501059]}"
      ]
     },
     "execution_count": 59,
     "metadata": {},
     "output_type": "execute_result"
    }
   ],
   "source": [
    "cp_metrics_dict"
   ]
  },
  {
   "cell_type": "code",
   "execution_count": 60,
   "id": "33007efc-14e9-4ec6-97ac-56a455c82265",
   "metadata": {
    "execution": {
     "iopub.execute_input": "2025-07-30T21:30:49.350365Z",
     "iopub.status.busy": "2025-07-30T21:30:49.349583Z",
     "iopub.status.idle": "2025-07-30T21:30:49.358965Z",
     "shell.execute_reply": "2025-07-30T21:30:49.357769Z"
    },
    "papermill": {
     "duration": 0.037118,
     "end_time": "2025-07-30T21:30:49.361270",
     "exception": false,
     "start_time": "2025-07-30T21:30:49.324152",
     "status": "completed"
    },
    "tags": []
   },
   "outputs": [],
   "source": [
    "cp_metrics_df = pd.DataFrame(cp_metrics_dict)"
   ]
  },
  {
   "cell_type": "code",
   "execution_count": 61,
   "id": "db12611b-57b2-4910-b9d0-355adfd6e7bf",
   "metadata": {
    "execution": {
     "iopub.execute_input": "2025-07-30T21:30:49.420323Z",
     "iopub.status.busy": "2025-07-30T21:30:49.419627Z",
     "iopub.status.idle": "2025-07-30T21:30:49.456806Z",
     "shell.execute_reply": "2025-07-30T21:30:49.455630Z"
    },
    "papermill": {
     "duration": 0.068015,
     "end_time": "2025-07-30T21:30:49.458614",
     "exception": false,
     "start_time": "2025-07-30T21:30:49.390599",
     "status": "completed"
    },
    "tags": []
   },
   "outputs": [
    {
     "data": {
      "text/html": [
       "<div>\n",
       "<style scoped>\n",
       "    .dataframe tbody tr th:only-of-type {\n",
       "        vertical-align: middle;\n",
       "    }\n",
       "\n",
       "    .dataframe tbody tr th {\n",
       "        vertical-align: top;\n",
       "    }\n",
       "\n",
       "    .dataframe thead th {\n",
       "        text-align: right;\n",
       "    }\n",
       "</style>\n",
       "<table border=\"1\" class=\"dataframe\">\n",
       "  <thead>\n",
       "    <tr style=\"text-align: right;\">\n",
       "      <th></th>\n",
       "      <th>universe_id</th>\n",
       "      <th>universe_training_year</th>\n",
       "      <th>universe_training_size</th>\n",
       "      <th>universe_scale</th>\n",
       "      <th>universe_model</th>\n",
       "      <th>universe_exclude_features</th>\n",
       "      <th>universe_exclude_subgroups</th>\n",
       "      <th>q_hat</th>\n",
       "      <th>coverage</th>\n",
       "      <th>avg_size</th>\n",
       "    </tr>\n",
       "  </thead>\n",
       "  <tbody>\n",
       "    <tr>\n",
       "      <th>0</th>\n",
       "      <td>fb2cc3a3241da2a573733cc735344d6d</td>\n",
       "      <td>2014</td>\n",
       "      <td>1k</td>\n",
       "      <td>do-not-scale</td>\n",
       "      <td>rf</td>\n",
       "      <td>age</td>\n",
       "      <td>drop-non-german</td>\n",
       "      <td>0.67</td>\n",
       "      <td>0.911738</td>\n",
       "      <td>1.141255</td>\n",
       "    </tr>\n",
       "  </tbody>\n",
       "</table>\n",
       "</div>"
      ],
      "text/plain": [
       "                        universe_id universe_training_year  \\\n",
       "0  fb2cc3a3241da2a573733cc735344d6d                   2014   \n",
       "\n",
       "  universe_training_size universe_scale universe_model  \\\n",
       "0                     1k   do-not-scale             rf   \n",
       "\n",
       "  universe_exclude_features universe_exclude_subgroups  q_hat  coverage  \\\n",
       "0                       age            drop-non-german   0.67  0.911738   \n",
       "\n",
       "   avg_size  \n",
       "0  1.141255  "
      ]
     },
     "execution_count": 61,
     "metadata": {},
     "output_type": "execute_result"
    }
   ],
   "source": [
    "cp_metrics_df"
   ]
  },
  {
   "cell_type": "code",
   "execution_count": 62,
   "id": "b7fbde55-a0a1-47e4-9af6-fe4a17fa8c61",
   "metadata": {
    "execution": {
     "iopub.execute_input": "2025-07-30T21:30:49.517157Z",
     "iopub.status.busy": "2025-07-30T21:30:49.516098Z",
     "iopub.status.idle": "2025-07-30T21:30:49.522894Z",
     "shell.execute_reply": "2025-07-30T21:30:49.521731Z"
    },
    "papermill": {
     "duration": 0.037697,
     "end_time": "2025-07-30T21:30:49.525062",
     "exception": false,
     "start_time": "2025-07-30T21:30:49.487365",
     "status": "completed"
    },
    "tags": []
   },
   "outputs": [],
   "source": [
    "# Conditional Coverage & looking at subgroups"
   ]
  },
  {
   "cell_type": "code",
   "execution_count": 63,
   "id": "027ae886-68dd-4141-96c7-805a5450e1ef",
   "metadata": {
    "execution": {
     "iopub.execute_input": "2025-07-30T21:30:49.584885Z",
     "iopub.status.busy": "2025-07-30T21:30:49.583663Z",
     "iopub.status.idle": "2025-07-30T21:30:49.965268Z",
     "shell.execute_reply": "2025-07-30T21:30:49.964160Z"
    },
    "papermill": {
     "duration": 0.414058,
     "end_time": "2025-07-30T21:30:49.967461",
     "exception": false,
     "start_time": "2025-07-30T21:30:49.553403",
     "status": "completed"
    },
    "tags": []
   },
   "outputs": [],
   "source": [
    "from fairness_multiverse.conformal import build_cp_groups\n",
    "\n",
    "cp_groups_df = build_cp_groups(pred_sets, y_true, X_test.index, org_test)\n",
    "#needs universe_id and setting"
   ]
  },
  {
   "cell_type": "code",
   "execution_count": 64,
   "id": "01d5802c-663a-4d1f-9d69-e036faaffbf7",
   "metadata": {
    "execution": {
     "iopub.execute_input": "2025-07-30T21:30:50.048844Z",
     "iopub.status.busy": "2025-07-30T21:30:50.047864Z",
     "iopub.status.idle": "2025-07-30T21:30:50.052737Z",
     "shell.execute_reply": "2025-07-30T21:30:50.051995Z"
    },
    "papermill": {
     "duration": 0.038836,
     "end_time": "2025-07-30T21:30:50.054010",
     "exception": false,
     "start_time": "2025-07-30T21:30:50.015174",
     "status": "completed"
    },
    "tags": []
   },
   "outputs": [],
   "source": [
    "#delete\n",
    "#cp_groups_df"
   ]
  },
  {
   "cell_type": "code",
   "execution_count": 65,
   "id": "fa424af1-d1eb-443d-b717-2d279ada8408",
   "metadata": {
    "execution": {
     "iopub.execute_input": "2025-07-30T21:30:50.101099Z",
     "iopub.status.busy": "2025-07-30T21:30:50.100603Z",
     "iopub.status.idle": "2025-07-30T21:30:50.105623Z",
     "shell.execute_reply": "2025-07-30T21:30:50.104869Z"
    },
    "papermill": {
     "duration": 0.038743,
     "end_time": "2025-07-30T21:30:50.107352",
     "exception": false,
     "start_time": "2025-07-30T21:30:50.068609",
     "status": "completed"
    },
    "tags": []
   },
   "outputs": [],
   "source": [
    "#delete\n",
    "#percentage = (cp_groups_df['nongerman_female'] == 1).mean() * 100\n",
    "#print(percentage)\n"
   ]
  },
  {
   "cell_type": "code",
   "execution_count": 66,
   "id": "6cbdab96-b2b2-45af-ad54-d0516db2e28d",
   "metadata": {
    "execution": {
     "iopub.execute_input": "2025-07-30T21:30:50.146081Z",
     "iopub.status.busy": "2025-07-30T21:30:50.145679Z",
     "iopub.status.idle": "2025-07-30T21:30:51.916922Z",
     "shell.execute_reply": "2025-07-30T21:30:51.915673Z"
    },
    "papermill": {
     "duration": 1.788417,
     "end_time": "2025-07-30T21:30:51.918923",
     "exception": false,
     "start_time": "2025-07-30T21:30:50.130506",
     "status": "completed"
    },
    "tags": []
   },
   "outputs": [],
   "source": [
    "# Define covered = 1 if true_label is in the predicted set\n",
    "cp_groups_df['covered'] = cp_groups_df.apply(\n",
    "    lambda r: int(r['true_label'] in r['pred_set']),\n",
    "    axis=1\n",
    ")"
   ]
  },
  {
   "cell_type": "code",
   "execution_count": 67,
   "id": "338ff529-1a6b-4b87-a931-8e4788d52aad",
   "metadata": {
    "execution": {
     "iopub.execute_input": "2025-07-30T21:30:51.993358Z",
     "iopub.status.busy": "2025-07-30T21:30:51.992929Z",
     "iopub.status.idle": "2025-07-30T21:30:51.997102Z",
     "shell.execute_reply": "2025-07-30T21:30:51.996301Z"
    },
    "papermill": {
     "duration": 0.052041,
     "end_time": "2025-07-30T21:30:52.010578",
     "exception": false,
     "start_time": "2025-07-30T21:30:51.958537",
     "status": "completed"
    },
    "tags": []
   },
   "outputs": [],
   "source": [
    "#cp_groups_df"
   ]
  },
  {
   "cell_type": "code",
   "execution_count": 68,
   "id": "90032e27-66df-4540-9169-4e89cfbaa758",
   "metadata": {
    "execution": {
     "iopub.execute_input": "2025-07-30T21:30:52.077316Z",
     "iopub.status.busy": "2025-07-30T21:30:52.076835Z",
     "iopub.status.idle": "2025-07-30T21:30:52.092379Z",
     "shell.execute_reply": "2025-07-30T21:30:52.090671Z"
    },
    "papermill": {
     "duration": 0.049101,
     "end_time": "2025-07-30T21:30:52.094516",
     "exception": false,
     "start_time": "2025-07-30T21:30:52.045415",
     "status": "completed"
    },
    "tags": []
   },
   "outputs": [],
   "source": [
    "subgroups = ['frau1','nongerman','nongerman_male','nongerman_female']\n",
    "\n",
    "# Conditional coverage for subgroup==1\n",
    "cond_coverage = {\n",
    "    g: cp_groups_df.loc[cp_groups_df[g]==1, 'covered'].mean()\n",
    "    for g in subgroups\n",
    "}"
   ]
  },
  {
   "cell_type": "code",
   "execution_count": 69,
   "id": "1e348fb1-b9c3-45bc-ba23-f016827a7e0d",
   "metadata": {
    "execution": {
     "iopub.execute_input": "2025-07-30T21:30:52.150234Z",
     "iopub.status.busy": "2025-07-30T21:30:52.149808Z",
     "iopub.status.idle": "2025-07-30T21:30:52.157215Z",
     "shell.execute_reply": "2025-07-30T21:30:52.156203Z"
    },
    "papermill": {
     "duration": 0.036787,
     "end_time": "2025-07-30T21:30:52.158750",
     "exception": false,
     "start_time": "2025-07-30T21:30:52.121963",
     "status": "completed"
    },
    "tags": []
   },
   "outputs": [
    {
     "data": {
      "text/plain": [
       "{'frau1': 0.9069416363391293,\n",
       " 'nongerman': 0.9060798293381238,\n",
       " 'nongerman_male': 0.9254255606592813,\n",
       " 'nongerman_female': 0.8740685543964233}"
      ]
     },
     "execution_count": 69,
     "metadata": {},
     "output_type": "execute_result"
    }
   ],
   "source": [
    "cond_coverage"
   ]
  },
  {
   "cell_type": "code",
   "execution_count": 70,
   "id": "f5093324-c3dd-4d63-bc4c-8d945e5c8bbb",
   "metadata": {
    "execution": {
     "iopub.execute_input": "2025-07-30T21:30:52.219740Z",
     "iopub.status.busy": "2025-07-30T21:30:52.218690Z",
     "iopub.status.idle": "2025-07-30T21:30:52.227899Z",
     "shell.execute_reply": "2025-07-30T21:30:52.226794Z"
    },
    "papermill": {
     "duration": 0.041992,
     "end_time": "2025-07-30T21:30:52.230101",
     "exception": false,
     "start_time": "2025-07-30T21:30:52.188109",
     "status": "completed"
    },
    "tags": []
   },
   "outputs": [],
   "source": [
    "for subgroup, cov in cond_coverage.items():\n",
    "    cp_metrics_df[f\"cov_{subgroup}\"] = cov"
   ]
  },
  {
   "cell_type": "code",
   "execution_count": 71,
   "id": "6e872e10-dbe5-49e8-b554-5030c98ff75d",
   "metadata": {
    "execution": {
     "iopub.execute_input": "2025-07-30T21:30:52.293486Z",
     "iopub.status.busy": "2025-07-30T21:30:52.293100Z",
     "iopub.status.idle": "2025-07-30T21:30:52.310976Z",
     "shell.execute_reply": "2025-07-30T21:30:52.310105Z"
    },
    "papermill": {
     "duration": 0.051691,
     "end_time": "2025-07-30T21:30:52.312702",
     "exception": false,
     "start_time": "2025-07-30T21:30:52.261011",
     "status": "completed"
    },
    "tags": []
   },
   "outputs": [
    {
     "data": {
      "text/html": [
       "<div>\n",
       "<style scoped>\n",
       "    .dataframe tbody tr th:only-of-type {\n",
       "        vertical-align: middle;\n",
       "    }\n",
       "\n",
       "    .dataframe tbody tr th {\n",
       "        vertical-align: top;\n",
       "    }\n",
       "\n",
       "    .dataframe thead th {\n",
       "        text-align: right;\n",
       "    }\n",
       "</style>\n",
       "<table border=\"1\" class=\"dataframe\">\n",
       "  <thead>\n",
       "    <tr style=\"text-align: right;\">\n",
       "      <th></th>\n",
       "      <th>universe_id</th>\n",
       "      <th>universe_training_year</th>\n",
       "      <th>universe_training_size</th>\n",
       "      <th>universe_scale</th>\n",
       "      <th>universe_model</th>\n",
       "      <th>universe_exclude_features</th>\n",
       "      <th>universe_exclude_subgroups</th>\n",
       "      <th>q_hat</th>\n",
       "      <th>coverage</th>\n",
       "      <th>avg_size</th>\n",
       "      <th>cov_frau1</th>\n",
       "      <th>cov_nongerman</th>\n",
       "      <th>cov_nongerman_male</th>\n",
       "      <th>cov_nongerman_female</th>\n",
       "    </tr>\n",
       "  </thead>\n",
       "  <tbody>\n",
       "    <tr>\n",
       "      <th>0</th>\n",
       "      <td>fb2cc3a3241da2a573733cc735344d6d</td>\n",
       "      <td>2014</td>\n",
       "      <td>1k</td>\n",
       "      <td>do-not-scale</td>\n",
       "      <td>rf</td>\n",
       "      <td>age</td>\n",
       "      <td>drop-non-german</td>\n",
       "      <td>0.67</td>\n",
       "      <td>0.911738</td>\n",
       "      <td>1.141255</td>\n",
       "      <td>0.906942</td>\n",
       "      <td>0.90608</td>\n",
       "      <td>0.925426</td>\n",
       "      <td>0.874069</td>\n",
       "    </tr>\n",
       "  </tbody>\n",
       "</table>\n",
       "</div>"
      ],
      "text/plain": [
       "                        universe_id universe_training_year  \\\n",
       "0  fb2cc3a3241da2a573733cc735344d6d                   2014   \n",
       "\n",
       "  universe_training_size universe_scale universe_model  \\\n",
       "0                     1k   do-not-scale             rf   \n",
       "\n",
       "  universe_exclude_features universe_exclude_subgroups  q_hat  coverage  \\\n",
       "0                       age            drop-non-german   0.67  0.911738   \n",
       "\n",
       "   avg_size  cov_frau1  cov_nongerman  cov_nongerman_male  \\\n",
       "0  1.141255   0.906942        0.90608            0.925426   \n",
       "\n",
       "   cov_nongerman_female  \n",
       "0              0.874069  "
      ]
     },
     "execution_count": 71,
     "metadata": {},
     "output_type": "execute_result"
    }
   ],
   "source": [
    "cp_metrics_df"
   ]
  },
  {
   "cell_type": "markdown",
   "id": "33774451",
   "metadata": {
    "papermill": {
     "duration": 0.01817,
     "end_time": "2025-07-30T21:30:52.348420",
     "exception": false,
     "start_time": "2025-07-30T21:30:52.330250",
     "status": "completed"
    },
    "tags": []
   },
   "source": [
    "# (Fairness) Metrics"
   ]
  },
  {
   "cell_type": "code",
   "execution_count": 72,
   "id": "debc5d62",
   "metadata": {
    "execution": {
     "iopub.execute_input": "2025-07-30T21:30:52.388778Z",
     "iopub.status.busy": "2025-07-30T21:30:52.387887Z",
     "iopub.status.idle": "2025-07-30T21:30:52.406249Z",
     "shell.execute_reply": "2025-07-30T21:30:52.405193Z"
    },
    "papermill": {
     "duration": 0.040991,
     "end_time": "2025-07-30T21:30:52.409640",
     "exception": false,
     "start_time": "2025-07-30T21:30:52.368649",
     "status": "completed"
    },
    "tags": []
   },
   "outputs": [],
   "source": [
    "# do I need to include maxdeutsch1.missing?\n",
    "\n",
    "import numpy as np\n",
    "\n",
    "colname_to_bin = \"maxdeutsch1\"\n",
    "majority_value = org_train[colname_to_bin].mode()[0]\n",
    "\n",
    "org_test[\"majmin\"] = np.where(org_test[colname_to_bin] == majority_value, \"majority\", \"minority\")"
   ]
  },
  {
   "cell_type": "code",
   "execution_count": 73,
   "id": "06a50de5",
   "metadata": {
    "execution": {
     "iopub.execute_input": "2025-07-30T21:30:52.466295Z",
     "iopub.status.busy": "2025-07-30T21:30:52.465850Z",
     "iopub.status.idle": "2025-07-30T21:30:55.195723Z",
     "shell.execute_reply": "2025-07-30T21:30:55.194769Z"
    },
    "papermill": {
     "duration": 2.755133,
     "end_time": "2025-07-30T21:30:55.197874",
     "exception": false,
     "start_time": "2025-07-30T21:30:52.442741",
     "status": "completed"
    },
    "tags": []
   },
   "outputs": [],
   "source": [
    "example_universe = universe.copy()\n",
    "example_universe[\"cutoff\"] = example_universe[\"cutoff\"][0]\n",
    "example_universe[\"eval_fairness_grouping\"] = example_universe[\"eval_fairness_grouping\"][0]\n",
    "fairness_dict, metric_frame = universe_analysis.compute_metrics(\n",
    "    example_universe,\n",
    "    y_pred_prob=probs_test,\n",
    "    y_test=y_true,\n",
    "    org_test=org_test,\n",
    ")"
   ]
  },
  {
   "cell_type": "markdown",
   "id": "f95d4e02",
   "metadata": {
    "papermill": {
     "duration": 0.029601,
     "end_time": "2025-07-30T21:30:55.258448",
     "exception": false,
     "start_time": "2025-07-30T21:30:55.228847",
     "status": "completed"
    },
    "tags": []
   },
   "source": [
    "# Overall"
   ]
  },
  {
   "cell_type": "markdown",
   "id": "bdee4871",
   "metadata": {
    "papermill": {
     "duration": 0.02994,
     "end_time": "2025-07-30T21:30:55.316612",
     "exception": false,
     "start_time": "2025-07-30T21:30:55.286672",
     "status": "completed"
    },
    "tags": []
   },
   "source": [
    "Fairness\n",
    "Main fairness target: Equalized Odds. Seems to be a better fit than equal opportunity, since we're not only interested in Y = 1. Seems to be a better fit than demographic parity, since we also care about accuracy, not just equal distribution of preds.\n",
    "\n",
    "Pick column for computation of fairness metrics\n",
    "\n",
    "Performance\n",
    "Overall performance measures, most interesting in relation to the measures split by group below"
   ]
  },
  {
   "cell_type": "code",
   "execution_count": 74,
   "id": "c4e067c6",
   "metadata": {
    "execution": {
     "iopub.execute_input": "2025-07-30T21:30:55.377234Z",
     "iopub.status.busy": "2025-07-30T21:30:55.376771Z",
     "iopub.status.idle": "2025-07-30T21:30:55.386053Z",
     "shell.execute_reply": "2025-07-30T21:30:55.385024Z"
    },
    "papermill": {
     "duration": 0.041256,
     "end_time": "2025-07-30T21:30:55.387748",
     "exception": false,
     "start_time": "2025-07-30T21:30:55.346492",
     "status": "completed"
    },
    "tags": []
   },
   "outputs": [
    {
     "data": {
      "text/plain": [
       "accuracy                   0.206343\n",
       "balanced accuracy          0.533399\n",
       "f1                         0.239335\n",
       "precision                  0.136443\n",
       "false positive rate        0.906524\n",
       "false negative rate        0.026677\n",
       "selection rate             0.915093\n",
       "count                  89710.000000\n",
       "dtype: float64"
      ]
     },
     "execution_count": 74,
     "metadata": {},
     "output_type": "execute_result"
    }
   ],
   "source": [
    "metric_frame.overall"
   ]
  },
  {
   "cell_type": "markdown",
   "id": "e968fe9d",
   "metadata": {
    "papermill": {
     "duration": 0.031119,
     "end_time": "2025-07-30T21:30:55.449810",
     "exception": false,
     "start_time": "2025-07-30T21:30:55.418691",
     "status": "completed"
    },
    "tags": []
   },
   "source": [
    "By Group"
   ]
  },
  {
   "cell_type": "code",
   "execution_count": 75,
   "id": "ec325bce",
   "metadata": {
    "execution": {
     "iopub.execute_input": "2025-07-30T21:30:55.514927Z",
     "iopub.status.busy": "2025-07-30T21:30:55.514470Z",
     "iopub.status.idle": "2025-07-30T21:30:55.530380Z",
     "shell.execute_reply": "2025-07-30T21:30:55.529336Z"
    },
    "papermill": {
     "duration": 0.049674,
     "end_time": "2025-07-30T21:30:55.532018",
     "exception": false,
     "start_time": "2025-07-30T21:30:55.482344",
     "status": "completed"
    },
    "tags": []
   },
   "outputs": [
    {
     "data": {
      "text/html": [
       "<div>\n",
       "<style scoped>\n",
       "    .dataframe tbody tr th:only-of-type {\n",
       "        vertical-align: middle;\n",
       "    }\n",
       "\n",
       "    .dataframe tbody tr th {\n",
       "        vertical-align: top;\n",
       "    }\n",
       "\n",
       "    .dataframe thead th {\n",
       "        text-align: right;\n",
       "    }\n",
       "</style>\n",
       "<table border=\"1\" class=\"dataframe\">\n",
       "  <thead>\n",
       "    <tr style=\"text-align: right;\">\n",
       "      <th></th>\n",
       "      <th>accuracy</th>\n",
       "      <th>balanced accuracy</th>\n",
       "      <th>f1</th>\n",
       "      <th>precision</th>\n",
       "      <th>false positive rate</th>\n",
       "      <th>false negative rate</th>\n",
       "      <th>selection rate</th>\n",
       "      <th>count</th>\n",
       "    </tr>\n",
       "    <tr>\n",
       "      <th>majmin</th>\n",
       "      <th></th>\n",
       "      <th></th>\n",
       "      <th></th>\n",
       "      <th></th>\n",
       "      <th></th>\n",
       "      <th></th>\n",
       "      <th></th>\n",
       "      <th></th>\n",
       "    </tr>\n",
       "  </thead>\n",
       "  <tbody>\n",
       "    <tr>\n",
       "      <th>majority</th>\n",
       "      <td>0.203759</td>\n",
       "      <td>0.535095</td>\n",
       "      <td>0.246463</td>\n",
       "      <td>0.140844</td>\n",
       "      <td>0.915259</td>\n",
       "      <td>0.014551</td>\n",
       "      <td>0.924534</td>\n",
       "      <td>69170.0</td>\n",
       "    </tr>\n",
       "    <tr>\n",
       "      <th>minority</th>\n",
       "      <td>0.215044</td>\n",
       "      <td>0.524426</td>\n",
       "      <td>0.213934</td>\n",
       "      <td>0.120928</td>\n",
       "      <td>0.877669</td>\n",
       "      <td>0.073480</td>\n",
       "      <td>0.883301</td>\n",
       "      <td>20540.0</td>\n",
       "    </tr>\n",
       "  </tbody>\n",
       "</table>\n",
       "</div>"
      ],
      "text/plain": [
       "          accuracy  balanced accuracy        f1  precision  \\\n",
       "majmin                                                       \n",
       "majority  0.203759           0.535095  0.246463   0.140844   \n",
       "minority  0.215044           0.524426  0.213934   0.120928   \n",
       "\n",
       "          false positive rate  false negative rate  selection rate    count  \n",
       "majmin                                                                       \n",
       "majority             0.915259             0.014551        0.924534  69170.0  \n",
       "minority             0.877669             0.073480        0.883301  20540.0  "
      ]
     },
     "execution_count": 75,
     "metadata": {},
     "output_type": "execute_result"
    }
   ],
   "source": [
    "metric_frame.by_group"
   ]
  },
  {
   "cell_type": "code",
   "execution_count": 76,
   "id": "a9ddbe63",
   "metadata": {
    "execution": {
     "iopub.execute_input": "2025-07-30T21:30:55.587507Z",
     "iopub.status.busy": "2025-07-30T21:30:55.586806Z",
     "iopub.status.idle": "2025-07-30T21:30:59.384103Z",
     "shell.execute_reply": "2025-07-30T21:30:59.383029Z"
    },
    "papermill": {
     "duration": 3.82777,
     "end_time": "2025-07-30T21:30:59.385981",
     "exception": false,
     "start_time": "2025-07-30T21:30:55.558211",
     "status": "completed"
    },
    "tags": []
   },
   "outputs": [
    {
     "data": {
      "text/plain": [
       "array([[<Axes: title={'center': 'accuracy'}, xlabel='majmin'>,\n",
       "        <Axes: title={'center': 'balanced accuracy'}, xlabel='majmin'>,\n",
       "        <Axes: title={'center': 'f1'}, xlabel='majmin'>],\n",
       "       [<Axes: title={'center': 'precision'}, xlabel='majmin'>,\n",
       "        <Axes: title={'center': 'false positive rate'}, xlabel='majmin'>,\n",
       "        <Axes: title={'center': 'false negative rate'}, xlabel='majmin'>],\n",
       "       [<Axes: title={'center': 'selection rate'}, xlabel='majmin'>,\n",
       "        <Axes: title={'center': 'count'}, xlabel='majmin'>,\n",
       "        <Axes: xlabel='majmin'>]], dtype=object)"
      ]
     },
     "execution_count": 76,
     "metadata": {},
     "output_type": "execute_result"
    },
    {
     "data": {
      "image/png": "[encoded data removed]",
      "text/plain": [
       "<Figure size 1200x800 with 9 Axes>"
      ]
     },
     "metadata": {},
     "output_type": "display_data"
    }
   ],
   "source": [
    "# In a graphic\n",
    "metric_frame.by_group.plot.bar(\n",
    "    subplots=True,\n",
    "    layout=[3, 3],\n",
    "    legend=False,\n",
    "    figsize=[12, 8],\n",
    "    title=\"Show all metrics\",\n",
    ")"
   ]
  },
  {
   "cell_type": "markdown",
   "id": "f57a0bac",
   "metadata": {
    "papermill": {
     "duration": 0.03565,
     "end_time": "2025-07-30T21:30:59.453489",
     "exception": false,
     "start_time": "2025-07-30T21:30:59.417839",
     "status": "completed"
    },
    "tags": []
   },
   "source": [
    "# Final Output"
   ]
  },
  {
   "cell_type": "code",
   "execution_count": 77,
   "id": "96d280a3",
   "metadata": {
    "execution": {
     "iopub.execute_input": "2025-07-30T21:30:59.522034Z",
     "iopub.status.busy": "2025-07-30T21:30:59.521298Z",
     "iopub.status.idle": "2025-07-30T21:30:59.530526Z",
     "shell.execute_reply": "2025-07-30T21:30:59.529486Z"
    },
    "papermill": {
     "duration": 0.042201,
     "end_time": "2025-07-30T21:30:59.532359",
     "exception": false,
     "start_time": "2025-07-30T21:30:59.490158",
     "status": "completed"
    },
    "tags": []
   },
   "outputs": [
    {
     "data": {
      "text/plain": [
       "4"
      ]
     },
     "execution_count": 77,
     "metadata": {},
     "output_type": "execute_result"
    }
   ],
   "source": [
    "sub_universes = universe_analysis.generate_sub_universes()\n",
    "len(sub_universes)"
   ]
  },
  {
   "cell_type": "code",
   "execution_count": 78,
   "id": "92adf7ba",
   "metadata": {
    "execution": {
     "iopub.execute_input": "2025-07-30T21:30:59.605598Z",
     "iopub.status.busy": "2025-07-30T21:30:59.605065Z",
     "iopub.status.idle": "2025-07-30T21:30:59.621396Z",
     "shell.execute_reply": "2025-07-30T21:30:59.620132Z"
    },
    "papermill": {
     "duration": 0.057568,
     "end_time": "2025-07-30T21:30:59.623304",
     "exception": false,
     "start_time": "2025-07-30T21:30:59.565736",
     "status": "completed"
    },
    "tags": []
   },
   "outputs": [],
   "source": [
    "def filter_sub_universe_data(sub_universe, org_test):\n",
    "    # Keep all rows — no filtering\n",
    "    keep_rows_mask = np.ones(org_test.shape[0], dtype=bool)\n",
    "\n",
    "    print(f\"[INFO] Keeping all rows: {keep_rows_mask.sum()} rows retained.\")\n",
    "    return keep_rows_mask"
   ]
  },
  {
   "cell_type": "code",
   "execution_count": 79,
   "id": "4a759155",
   "metadata": {
    "execution": {
     "iopub.execute_input": "2025-07-30T21:30:59.693803Z",
     "iopub.status.busy": "2025-07-30T21:30:59.693275Z",
     "iopub.status.idle": "2025-07-30T21:31:09.005728Z",
     "shell.execute_reply": "2025-07-30T21:31:09.004901Z"
    },
    "papermill": {
     "duration": 9.348341,
     "end_time": "2025-07-30T21:31:09.007067",
     "exception": false,
     "start_time": "2025-07-30T21:30:59.658726",
     "status": "completed"
    },
    "tags": []
   },
   "outputs": [
    {
     "name": "stdout",
     "output_type": "stream",
     "text": [
      "Stopping execution_time clock.\n",
      "[INFO] Keeping all rows: 89710 rows retained.\n"
     ]
    },
    {
     "name": "stdout",
     "output_type": "stream",
     "text": [
      "[INFO] Keeping all rows: 89710 rows retained.\n"
     ]
    },
    {
     "name": "stdout",
     "output_type": "stream",
     "text": [
      "[INFO] Keeping all rows: 89710 rows retained.\n"
     ]
    },
    {
     "name": "stdout",
     "output_type": "stream",
     "text": [
      "[INFO] Keeping all rows: 89710 rows retained.\n"
     ]
    },
    {
     "data": {
      "text/html": [
       "<div>\n",
       "<style scoped>\n",
       "    .dataframe tbody tr th:only-of-type {\n",
       "        vertical-align: middle;\n",
       "    }\n",
       "\n",
       "    .dataframe tbody tr th {\n",
       "        vertical-align: top;\n",
       "    }\n",
       "\n",
       "    .dataframe thead th {\n",
       "        text-align: right;\n",
       "    }\n",
       "</style>\n",
       "<table border=\"1\" class=\"dataframe\">\n",
       "  <thead>\n",
       "    <tr style=\"text-align: right;\">\n",
       "      <th></th>\n",
       "      <th>run_no</th>\n",
       "      <th>universe_id</th>\n",
       "      <th>universe_settings</th>\n",
       "      <th>execution_time</th>\n",
       "      <th>test_size_n</th>\n",
       "      <th>test_size_frac</th>\n",
       "      <th>fair_main_equalized_odds_difference</th>\n",
       "      <th>fair_main_equalized_odds_ratio</th>\n",
       "      <th>fair_main_demographic_parity_difference</th>\n",
       "      <th>fair_main_demographic_parity_ratio</th>\n",
       "      <th>...</th>\n",
       "      <th>perf_grp_precision_0</th>\n",
       "      <th>perf_grp_precision_1</th>\n",
       "      <th>perf_grp_false positive rate_0</th>\n",
       "      <th>perf_grp_false positive rate_1</th>\n",
       "      <th>perf_grp_false negative rate_0</th>\n",
       "      <th>perf_grp_false negative rate_1</th>\n",
       "      <th>perf_grp_selection rate_0</th>\n",
       "      <th>perf_grp_selection rate_1</th>\n",
       "      <th>perf_grp_count_0</th>\n",
       "      <th>perf_grp_count_1</th>\n",
       "    </tr>\n",
       "  </thead>\n",
       "  <tbody>\n",
       "    <tr>\n",
       "      <th>0</th>\n",
       "      <td>14</td>\n",
       "      <td>fb2cc3a3241da2a573733cc735344d6d</td>\n",
       "      <td>{\"cutoff\": \"quantile_0.1\", \"eval_fairness_grou...</td>\n",
       "      <td>30.002548</td>\n",
       "      <td>89710</td>\n",
       "      <td>1.0</td>\n",
       "      <td>0.058928</td>\n",
       "      <td>0.940202</td>\n",
       "      <td>0.041233</td>\n",
       "      <td>0.955401</td>\n",
       "      <td>...</td>\n",
       "      <td>NaN</td>\n",
       "      <td>NaN</td>\n",
       "      <td>NaN</td>\n",
       "      <td>NaN</td>\n",
       "      <td>NaN</td>\n",
       "      <td>NaN</td>\n",
       "      <td>NaN</td>\n",
       "      <td>NaN</td>\n",
       "      <td>NaN</td>\n",
       "      <td>NaN</td>\n",
       "    </tr>\n",
       "    <tr>\n",
       "      <th>0</th>\n",
       "      <td>14</td>\n",
       "      <td>fb2cc3a3241da2a573733cc735344d6d</td>\n",
       "      <td>{\"cutoff\": \"quantile_0.1\", \"eval_fairness_grou...</td>\n",
       "      <td>30.002548</td>\n",
       "      <td>89710</td>\n",
       "      <td>1.0</td>\n",
       "      <td>0.058928</td>\n",
       "      <td>0.940202</td>\n",
       "      <td>0.041233</td>\n",
       "      <td>0.955401</td>\n",
       "      <td>...</td>\n",
       "      <td>0.120928</td>\n",
       "      <td>0.140844</td>\n",
       "      <td>0.877669</td>\n",
       "      <td>0.915259</td>\n",
       "      <td>0.073480</td>\n",
       "      <td>0.014551</td>\n",
       "      <td>0.883301</td>\n",
       "      <td>0.924534</td>\n",
       "      <td>20540.0</td>\n",
       "      <td>69170.0</td>\n",
       "    </tr>\n",
       "    <tr>\n",
       "      <th>0</th>\n",
       "      <td>14</td>\n",
       "      <td>fb2cc3a3241da2a573733cc735344d6d</td>\n",
       "      <td>{\"cutoff\": \"quantile_0.25\", \"eval_fairness_gro...</td>\n",
       "      <td>30.002548</td>\n",
       "      <td>89710</td>\n",
       "      <td>1.0</td>\n",
       "      <td>0.120942</td>\n",
       "      <td>0.871538</td>\n",
       "      <td>0.075988</td>\n",
       "      <td>0.902242</td>\n",
       "      <td>...</td>\n",
       "      <td>NaN</td>\n",
       "      <td>NaN</td>\n",
       "      <td>NaN</td>\n",
       "      <td>NaN</td>\n",
       "      <td>NaN</td>\n",
       "      <td>NaN</td>\n",
       "      <td>NaN</td>\n",
       "      <td>NaN</td>\n",
       "      <td>NaN</td>\n",
       "      <td>NaN</td>\n",
       "    </tr>\n",
       "    <tr>\n",
       "      <th>0</th>\n",
       "      <td>14</td>\n",
       "      <td>fb2cc3a3241da2a573733cc735344d6d</td>\n",
       "      <td>{\"cutoff\": \"quantile_0.25\", \"eval_fairness_gro...</td>\n",
       "      <td>30.002548</td>\n",
       "      <td>89710</td>\n",
       "      <td>1.0</td>\n",
       "      <td>0.120942</td>\n",
       "      <td>0.871538</td>\n",
       "      <td>0.075988</td>\n",
       "      <td>0.902242</td>\n",
       "      <td>...</td>\n",
       "      <td>0.134884</td>\n",
       "      <td>0.160045</td>\n",
       "      <td>0.685780</td>\n",
       "      <td>0.752307</td>\n",
       "      <td>0.179476</td>\n",
       "      <td>0.058534</td>\n",
       "      <td>0.701315</td>\n",
       "      <td>0.777302</td>\n",
       "      <td>20540.0</td>\n",
       "      <td>69170.0</td>\n",
       "    </tr>\n",
       "  </tbody>\n",
       "</table>\n",
       "<p>4 rows × 50 columns</p>\n",
       "</div>"
      ],
      "text/plain": [
       "  run_no                       universe_id  \\\n",
       "0     14  fb2cc3a3241da2a573733cc735344d6d   \n",
       "0     14  fb2cc3a3241da2a573733cc735344d6d   \n",
       "0     14  fb2cc3a3241da2a573733cc735344d6d   \n",
       "0     14  fb2cc3a3241da2a573733cc735344d6d   \n",
       "\n",
       "                                   universe_settings  execution_time  \\\n",
       "0  {\"cutoff\": \"quantile_0.1\", \"eval_fairness_grou...       30.002548   \n",
       "0  {\"cutoff\": \"quantile_0.1\", \"eval_fairness_grou...       30.002548   \n",
       "0  {\"cutoff\": \"quantile_0.25\", \"eval_fairness_gro...       30.002548   \n",
       "0  {\"cutoff\": \"quantile_0.25\", \"eval_fairness_gro...       30.002548   \n",
       "\n",
       "   test_size_n  test_size_frac  fair_main_equalized_odds_difference  \\\n",
       "0        89710             1.0                             0.058928   \n",
       "0        89710             1.0                             0.058928   \n",
       "0        89710             1.0                             0.120942   \n",
       "0        89710             1.0                             0.120942   \n",
       "\n",
       "   fair_main_equalized_odds_ratio  fair_main_demographic_parity_difference  \\\n",
       "0                        0.940202                                 0.041233   \n",
       "0                        0.940202                                 0.041233   \n",
       "0                        0.871538                                 0.075988   \n",
       "0                        0.871538                                 0.075988   \n",
       "\n",
       "   fair_main_demographic_parity_ratio  ...  perf_grp_precision_0  \\\n",
       "0                            0.955401  ...                   NaN   \n",
       "0                            0.955401  ...              0.120928   \n",
       "0                            0.902242  ...                   NaN   \n",
       "0                            0.902242  ...              0.134884   \n",
       "\n",
       "   perf_grp_precision_1  perf_grp_false positive rate_0  \\\n",
       "0                   NaN                             NaN   \n",
       "0              0.140844                        0.877669   \n",
       "0                   NaN                             NaN   \n",
       "0              0.160045                        0.685780   \n",
       "\n",
       "   perf_grp_false positive rate_1  perf_grp_false negative rate_0  \\\n",
       "0                             NaN                             NaN   \n",
       "0                        0.915259                        0.073480   \n",
       "0                             NaN                             NaN   \n",
       "0                        0.752307                        0.179476   \n",
       "\n",
       "   perf_grp_false negative rate_1  perf_grp_selection rate_0  \\\n",
       "0                             NaN                        NaN   \n",
       "0                        0.014551                   0.883301   \n",
       "0                             NaN                        NaN   \n",
       "0                        0.058534                   0.701315   \n",
       "\n",
       "   perf_grp_selection rate_1  perf_grp_count_0  perf_grp_count_1  \n",
       "0                        NaN               NaN               NaN  \n",
       "0                   0.924534           20540.0           69170.0  \n",
       "0                        NaN               NaN               NaN  \n",
       "0                   0.777302           20540.0           69170.0  \n",
       "\n",
       "[4 rows x 50 columns]"
      ]
     },
     "execution_count": 79,
     "metadata": {},
     "output_type": "execute_result"
    }
   ],
   "source": [
    "final_output = universe_analysis.generate_final_output(\n",
    "    y_pred_prob=probs_test,\n",
    "    y_test=y_true,\n",
    "    org_test=org_test,\n",
    "    filter_data=filter_sub_universe_data,\n",
    "    cp_metrics_df=cp_metrics_df,\n",
    "    save=True,\n",
    ")\n",
    "final_output"
   ]
  },
  {
   "cell_type": "code",
   "execution_count": null,
   "id": "721ff514-cb11-46f8-b6fc-50392f74b5cb",
   "metadata": {
    "papermill": {
     "duration": 0.015745,
     "end_time": "2025-07-30T21:31:09.042808",
     "exception": false,
     "start_time": "2025-07-30T21:31:09.027063",
     "status": "completed"
    },
    "tags": []
   },
   "outputs": [],
   "source": []
  }
 ],
 "metadata": {
  "celltoolbar": "Tags",
  "kernelspec": {
   "display_name": "Python (CMA Fairness)",
   "language": "python",
   "name": "cma_fair_env"
  },
  "language_info": {
   "codemirror_mode": {
    "name": "ipython",
    "version": 3
   },
   "file_extension": ".py",
   "mimetype": "text/x-python",
   "name": "python",
   "nbconvert_exporter": "python",
   "pygments_lexer": "ipython3",
   "version": "3.10.12"
  },
  "papermill": {
   "default_parameters": {},
   "duration": 56.405468,
   "end_time": "2025-07-30T21:31:09.793932",
   "environment_variables": {},
   "exception": null,
   "input_path": "universe_analysis.ipynb",
   "output_path": "output/runs/14/notebooks/m_14-fb2cc3a3241da2a573733cc735344d6d.ipynb",
   "parameters": {
    "output_dir": "output",
    "run_no": "14",
    "seed": "2023",
    "universe": "{\"cutoff\": [\"quantile_0.1\", \"quantile_0.25\"], \"eval_fairness_grouping\": [\"majority-minority\", \"nationality-all\"], \"exclude_features\": \"age\", \"exclude_subgroups\": \"drop-non-german\", \"model\": \"rf\", \"scale\": \"do-not-scale\", \"training_size\": \"1k\", \"training_year\": \"2014\"}",
    "universe_id": "fb2cc3a3241da2a573733cc735344d6d"
   },
   "start_time": "2025-07-30T21:30:13.388464",
   "version": "2.6.0"
  }
 },
 "nbformat": 4,
 "nbformat_minor": 5
}