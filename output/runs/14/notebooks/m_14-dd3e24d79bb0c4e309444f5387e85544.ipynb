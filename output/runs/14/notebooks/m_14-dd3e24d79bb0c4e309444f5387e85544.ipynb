{
 "cells": [
  {
   "cell_type": "code",
   "execution_count": 1,
   "id": "f159f837-637b-42ba-96b5-ec9a68c44524",
   "metadata": {
    "execution": {
     "iopub.execute_input": "2025-07-30T21:52:28.232746Z",
     "iopub.status.busy": "2025-07-30T21:52:28.232240Z",
     "iopub.status.idle": "2025-07-30T21:52:28.248611Z",
     "shell.execute_reply": "2025-07-30T21:52:28.246536Z"
    },
    "papermill": {
     "duration": 0.040649,
     "end_time": "2025-07-30T21:52:28.250407",
     "exception": false,
     "start_time": "2025-07-30T21:52:28.209758",
     "status": "completed"
    },
    "tags": []
   },
   "outputs": [
    {
     "name": "stdout",
     "output_type": "stream",
     "text": [
      "/dss/dsshome1/0C/ra93lal2/cma/CMA_Fairness_v2\n"
     ]
    },
    {
     "name": "stderr",
     "output_type": "stream",
     "text": [
      "/dss/dsshome1/0C/ra93lal2/.local/share/virtualenvs/CMA_Fairness_v2-3j10GkSs/lib/python3.10/site-packages/IPython/core/magics/osm.py:393: UserWarning: This is now an optional IPython functionality, using bookmarks requires you to install the `pickleshare` library.\n",
      "  bkms = self.shell.db.get('bookmarks', {})\n",
      "/dss/dsshome1/0C/ra93lal2/.local/share/virtualenvs/CMA_Fairness_v2-3j10GkSs/lib/python3.10/site-packages/IPython/core/magics/osm.py:417: UserWarning: This is now an optional IPython functionality, setting dhist requires you to install the `pickleshare` library.\n",
      "  self.shell.db['dhist'] = compress_dhist(dhist)[-100:]\n"
     ]
    }
   ],
   "source": [
    "%cd ~/cma/CMA_Fairness_v2"
   ]
  },
  {
   "cell_type": "markdown",
   "id": "de2603b9",
   "metadata": {
    "papermill": {
     "duration": 0.009962,
     "end_time": "2025-07-30T21:52:28.322827",
     "exception": false,
     "start_time": "2025-07-30T21:52:28.312865",
     "status": "completed"
    },
    "tags": []
   },
   "source": [
    "The following cell holds the definition of our parameters, these values can be overriden by rendering the with e.g. the following command:\n",
    "\n",
    "papermill -p alpha 0.2 -p ratio 0.3 universe_analysis.ipynb output/test_run.ipynb"
   ]
  },
  {
   "cell_type": "code",
   "execution_count": 2,
   "id": "a80968a0-40bb-4fa9-85ef-2d5eefb01975",
   "metadata": {
    "execution": {
     "iopub.execute_input": "2025-07-30T21:52:28.344486Z",
     "iopub.status.busy": "2025-07-30T21:52:28.344075Z",
     "iopub.status.idle": "2025-07-30T21:52:28.354135Z",
     "shell.execute_reply": "2025-07-30T21:52:28.352973Z"
    },
    "papermill": {
     "duration": 0.023527,
     "end_time": "2025-07-30T21:52:28.356444",
     "exception": false,
     "start_time": "2025-07-30T21:52:28.332917",
     "status": "completed"
    },
    "tags": []
   },
   "outputs": [
    {
     "name": "stdout",
     "output_type": "stream",
     "text": [
      "Current working directory: /dss/dsshome1/0C/ra93lal2/cma/CMA_Fairness_v2\n"
     ]
    }
   ],
   "source": [
    "import os\n",
    "print(\"Current working directory:\", os.getcwd())"
   ]
  },
  {
   "cell_type": "code",
   "execution_count": 3,
   "id": "2dce4c03",
   "metadata": {
    "execution": {
     "iopub.execute_input": "2025-07-30T21:52:28.405471Z",
     "iopub.status.busy": "2025-07-30T21:52:28.405038Z",
     "iopub.status.idle": "2025-07-30T21:52:28.411156Z",
     "shell.execute_reply": "2025-07-30T21:52:28.410464Z"
    },
    "papermill": {
     "duration": 0.026512,
     "end_time": "2025-07-30T21:52:28.412516",
     "exception": false,
     "start_time": "2025-07-30T21:52:28.386004",
     "status": "completed"
    },
    "tags": [
     "parameters"
    ]
   },
   "outputs": [],
   "source": [
    "run_no = 0\n",
    "universe_id = \"test\"\n",
    "universe = {\n",
    "    \"training_size\": \"25k\", # \"25k\", \"5k\", \"1k\"\n",
    "    \"training_year\": \"2014\", # \"2014\", \"2012_14\", \"2010_14\"\n",
    "    \"scale\": \"scale\", # \"scale\", \"do-not-scale\",\n",
    "    #\"stratify_split\": \"target\", # \"none\", \"target\", \"protected-attribute\", \"both\",\n",
    "    \"model\": \"elasticnet\", # \"logreg\", \"penalized_logreg\", \"rf\", \"gbm\", \"elasticnet\"\n",
    "    \"cutoff\": [\"quantile_0.15\", \"quantile_0.30\"],\n",
    "    \"exclude_features\": \"age\", # \"none\", \"nationality\", \"sex\", \"nationality-sex\", \"age\"\n",
    "    \"exclude_subgroups\": \"keep-all\", # \"keep-all\", \"drop-non-german\"\n",
    "    \"eval_fairness_grouping\": [\"majority-minority\", \"nationality-all\"]\n",
    "}\n",
    "\n",
    "output_dir=\"./output\"\n",
    "seed=0"
   ]
  },
  {
   "cell_type": "code",
   "execution_count": 4,
   "id": "00e93953",
   "metadata": {
    "execution": {
     "iopub.execute_input": "2025-07-30T21:52:28.435790Z",
     "iopub.status.busy": "2025-07-30T21:52:28.435513Z",
     "iopub.status.idle": "2025-07-30T21:52:28.440907Z",
     "shell.execute_reply": "2025-07-30T21:52:28.440151Z"
    },
    "papermill": {
     "duration": 0.018395,
     "end_time": "2025-07-30T21:52:28.442133",
     "exception": false,
     "start_time": "2025-07-30T21:52:28.423738",
     "status": "completed"
    },
    "tags": [
     "injected-parameters"
    ]
   },
   "outputs": [],
   "source": [
    "# Parameters\n",
    "universe_id = \"dd3e24d79bb0c4e309444f5387e85544\"\n",
    "run_no = \"14\"\n",
    "universe = \"{\\\"cutoff\\\": [\\\"quantile_0.1\\\", \\\"quantile_0.25\\\"], \\\"eval_fairness_grouping\\\": [\\\"majority-minority\\\", \\\"nationality-all\\\"], \\\"exclude_features\\\": \\\"age\\\", \\\"exclude_subgroups\\\": \\\"keep-all\\\", \\\"model\\\": \\\"gbm\\\", \\\"scale\\\": \\\"do-not-scale\\\", \\\"training_size\\\": \\\"1k\\\", \\\"training_year\\\": \\\"2010_14\\\"}\"\n",
    "output_dir = \"output\"\n",
    "seed = \"2023\"\n"
   ]
  },
  {
   "cell_type": "code",
   "execution_count": 5,
   "id": "1650acaf",
   "metadata": {
    "execution": {
     "iopub.execute_input": "2025-07-30T21:52:28.469159Z",
     "iopub.status.busy": "2025-07-30T21:52:28.468501Z",
     "iopub.status.idle": "2025-07-30T21:52:28.472825Z",
     "shell.execute_reply": "2025-07-30T21:52:28.472097Z"
    },
    "papermill": {
     "duration": 0.01707,
     "end_time": "2025-07-30T21:52:28.474060",
     "exception": false,
     "start_time": "2025-07-30T21:52:28.456990",
     "status": "completed"
    },
    "tags": []
   },
   "outputs": [],
   "source": [
    "import json\n",
    "# Parse universe into dict if it is passed as a string\n",
    "if isinstance(universe, str):\n",
    "    universe = json.loads(universe)"
   ]
  },
  {
   "cell_type": "code",
   "execution_count": 6,
   "id": "16620c48",
   "metadata": {
    "execution": {
     "iopub.execute_input": "2025-07-30T21:52:28.496186Z",
     "iopub.status.busy": "2025-07-30T21:52:28.495558Z",
     "iopub.status.idle": "2025-07-30T21:52:28.525857Z",
     "shell.execute_reply": "2025-07-30T21:52:28.525175Z"
    },
    "papermill": {
     "duration": 0.042388,
     "end_time": "2025-07-30T21:52:28.527127",
     "exception": false,
     "start_time": "2025-07-30T21:52:28.484739",
     "status": "completed"
    },
    "tags": []
   },
   "outputs": [],
   "source": [
    "# Auto-reload the custom package\n",
    "%load_ext autoreload\n",
    "%autoreload 1\n",
    "%aimport fairness_multiverse"
   ]
  },
  {
   "cell_type": "code",
   "execution_count": 7,
   "id": "01c5c9f3",
   "metadata": {
    "execution": {
     "iopub.execute_input": "2025-07-30T21:52:28.549723Z",
     "iopub.status.busy": "2025-07-30T21:52:28.549122Z",
     "iopub.status.idle": "2025-07-30T21:52:30.253318Z",
     "shell.execute_reply": "2025-07-30T21:52:30.252321Z"
    },
    "papermill": {
     "duration": 1.717215,
     "end_time": "2025-07-30T21:52:30.255311",
     "exception": false,
     "start_time": "2025-07-30T21:52:28.538096",
     "status": "completed"
    },
    "tags": []
   },
   "outputs": [],
   "source": [
    "from fairness_multiverse.universe import UniverseAnalysis\n",
    "\n",
    "universe_analysis = UniverseAnalysis(\n",
    "    run_no = run_no,\n",
    "    universe_id = universe_id,\n",
    "    universe = universe,\n",
    "    output_dir=output_dir,\n",
    ")"
   ]
  },
  {
   "cell_type": "code",
   "execution_count": 8,
   "id": "106241f5",
   "metadata": {
    "execution": {
     "iopub.execute_input": "2025-07-30T21:52:30.298333Z",
     "iopub.status.busy": "2025-07-30T21:52:30.297640Z",
     "iopub.status.idle": "2025-07-30T21:52:30.304898Z",
     "shell.execute_reply": "2025-07-30T21:52:30.303929Z"
    },
    "papermill": {
     "duration": 0.030387,
     "end_time": "2025-07-30T21:52:30.306402",
     "exception": false,
     "start_time": "2025-07-30T21:52:30.276015",
     "status": "completed"
    },
    "tags": []
   },
   "outputs": [
    {
     "name": "stdout",
     "output_type": "stream",
     "text": [
      "Using Seed: 2023\n"
     ]
    }
   ],
   "source": [
    "import numpy as np\n",
    "parsed_seed = int(seed)\n",
    "np.random.seed(parsed_seed)\n",
    "print(f\"Using Seed: {parsed_seed}\")"
   ]
  },
  {
   "cell_type": "markdown",
   "id": "e0ebdc57",
   "metadata": {
    "papermill": {
     "duration": 0.021122,
     "end_time": "2025-07-30T21:52:30.346919",
     "exception": false,
     "start_time": "2025-07-30T21:52:30.325797",
     "status": "completed"
    },
    "tags": []
   },
   "source": [
    "# Loading Data"
   ]
  },
  {
   "cell_type": "markdown",
   "id": "681925a3",
   "metadata": {
    "papermill": {
     "duration": 0.021083,
     "end_time": "2025-07-30T21:52:30.388282",
     "exception": false,
     "start_time": "2025-07-30T21:52:30.367199",
     "status": "completed"
    },
    "tags": []
   },
   "source": [
    "Load siab_train, siab_test, siab_calib and/or \n",
    "load siab_train_features, siab_train_labels"
   ]
  },
  {
   "cell_type": "code",
   "execution_count": 9,
   "id": "f0496b8a",
   "metadata": {
    "execution": {
     "iopub.execute_input": "2025-07-30T21:52:30.429988Z",
     "iopub.status.busy": "2025-07-30T21:52:30.429247Z",
     "iopub.status.idle": "2025-07-30T21:52:40.985404Z",
     "shell.execute_reply": "2025-07-30T21:52:40.984512Z"
    },
    "papermill": {
     "duration": 10.579545,
     "end_time": "2025-07-30T21:52:40.987248",
     "exception": false,
     "start_time": "2025-07-30T21:52:30.407703",
     "status": "completed"
    },
    "tags": []
   },
   "outputs": [
    {
     "name": "stdout",
     "output_type": "stream",
     "text": [
      "Loading SIAB data from cache: data/siab_cached.csv.gz\n"
     ]
    },
    {
     "name": "stdout",
     "output_type": "stream",
     "text": [
      "(643690, 164)\n"
     ]
    }
   ],
   "source": [
    "from pathlib import Path\n",
    "import pandas as pd\n",
    "\n",
    "# File paths\n",
    "raw_file = Path(\"data/raw/siab.csv\")\n",
    "cache_file = Path(\"data/siab_cached.csv.gz\")\n",
    "\n",
    "# Ensure cache directory exists\n",
    "cache_file.parent.mkdir(parents=True, exist_ok=True)\n",
    "\n",
    "# Load with simple caching\n",
    "if cache_file.exists():\n",
    "    print(f\"Loading SIAB data from cache: {cache_file}\")\n",
    "    siab = pd.read_csv(cache_file, compression='gzip')\n",
    "else:\n",
    "    print(f\"Cache not found. Reading raw SIAB data: {raw_file}\")\n",
    "    siab = pd.read_csv(raw_file)\n",
    "    siab.to_csv(cache_file, index=False, compression='gzip')\n",
    "    print(f\"Cached SIAB data to: {cache_file}\")\n",
    "\n",
    "# Now use `siab` DataFrame as needed\n",
    "print(siab.shape)"
   ]
  },
  {
   "cell_type": "code",
   "execution_count": 10,
   "id": "db0ca512-5f53-4dba-abdb-a2888bca41ba",
   "metadata": {
    "execution": {
     "iopub.execute_input": "2025-07-30T21:52:41.036242Z",
     "iopub.status.busy": "2025-07-30T21:52:41.035601Z",
     "iopub.status.idle": "2025-07-30T21:52:41.041044Z",
     "shell.execute_reply": "2025-07-30T21:52:41.040107Z"
    },
    "papermill": {
     "duration": 0.038597,
     "end_time": "2025-07-30T21:52:41.049864",
     "exception": false,
     "start_time": "2025-07-30T21:52:41.011267",
     "status": "completed"
    },
    "tags": []
   },
   "outputs": [],
   "source": [
    "#siab"
   ]
  },
  {
   "cell_type": "code",
   "execution_count": 11,
   "id": "a0edb063",
   "metadata": {
    "execution": {
     "iopub.execute_input": "2025-07-30T21:52:41.092075Z",
     "iopub.status.busy": "2025-07-30T21:52:41.091483Z",
     "iopub.status.idle": "2025-07-30T21:52:41.095634Z",
     "shell.execute_reply": "2025-07-30T21:52:41.094863Z"
    },
    "papermill": {
     "duration": 0.039767,
     "end_time": "2025-07-30T21:52:41.106482",
     "exception": false,
     "start_time": "2025-07-30T21:52:41.066715",
     "status": "completed"
    },
    "tags": []
   },
   "outputs": [],
   "source": [
    "#import pandas as pd\n",
    "#\n",
    "#X_train = pd.read_csv(\"./data/X_train.csv\")\n",
    "#y_train = pd.read_csv(\"./data/y_train.csv\")"
   ]
  },
  {
   "cell_type": "code",
   "execution_count": 12,
   "id": "63d08085",
   "metadata": {
    "execution": {
     "iopub.execute_input": "2025-07-30T21:52:41.156016Z",
     "iopub.status.busy": "2025-07-30T21:52:41.155611Z",
     "iopub.status.idle": "2025-07-30T21:52:41.160550Z",
     "shell.execute_reply": "2025-07-30T21:52:41.159594Z"
    },
    "papermill": {
     "duration": 0.031422,
     "end_time": "2025-07-30T21:52:41.161940",
     "exception": false,
     "start_time": "2025-07-30T21:52:41.130518",
     "status": "completed"
    },
    "tags": []
   },
   "outputs": [],
   "source": [
    "#X_test = pd.read_csv(\"./data/X_test.csv\")\n",
    "#y_true = pd.read_csv(\"./data/y_test.csv\")"
   ]
  },
  {
   "cell_type": "code",
   "execution_count": 13,
   "id": "98a8d0fa-1d3d-4ed8-bb2c-281470e24add",
   "metadata": {
    "execution": {
     "iopub.execute_input": "2025-07-30T21:52:41.187473Z",
     "iopub.status.busy": "2025-07-30T21:52:41.186678Z",
     "iopub.status.idle": "2025-07-30T21:52:41.191060Z",
     "shell.execute_reply": "2025-07-30T21:52:41.190216Z"
    },
    "papermill": {
     "duration": 0.018786,
     "end_time": "2025-07-30T21:52:41.193055",
     "exception": false,
     "start_time": "2025-07-30T21:52:41.174269",
     "status": "completed"
    },
    "tags": []
   },
   "outputs": [],
   "source": [
    "# Calibration data for conformal\n",
    "#X_calib = pd.read_csv(\"./data/X_calib.csv\")\n",
    "#y_calib = pd.read_csv(\"./data/y_calib.csv\")"
   ]
  },
  {
   "cell_type": "markdown",
   "id": "997051c5-15bd-4b69-9786-c3001a3ce484",
   "metadata": {
    "papermill": {
     "duration": 0.021099,
     "end_time": "2025-07-30T21:52:41.234226",
     "exception": false,
     "start_time": "2025-07-30T21:52:41.213127",
     "status": "completed"
    },
    "tags": []
   },
   "source": [
    "# Splitting Data and Setting Training Data Size"
   ]
  },
  {
   "cell_type": "code",
   "execution_count": 14,
   "id": "e993b61f-042d-41a6-8c81-f55681f86335",
   "metadata": {
    "execution": {
     "iopub.execute_input": "2025-07-30T21:52:41.289869Z",
     "iopub.status.busy": "2025-07-30T21:52:41.289453Z",
     "iopub.status.idle": "2025-07-30T21:52:41.306198Z",
     "shell.execute_reply": "2025-07-30T21:52:41.304974Z"
    },
    "papermill": {
     "duration": 0.052144,
     "end_time": "2025-07-30T21:52:41.308727",
     "exception": false,
     "start_time": "2025-07-30T21:52:41.256583",
     "status": "completed"
    },
    "tags": []
   },
   "outputs": [],
   "source": [
    "def sample_by_year_size(df,\n",
    "                        training_year: str,\n",
    "                        training_size: str,\n",
    "                        random_state: int = 42):\n",
    "    # --- parse training_year into a list of int years ---\n",
    "    if \"_\" in training_year:\n",
    "        start_str, end_str = training_year.split(\"_\", 1)\n",
    "        start = int(start_str)\n",
    "        end   = int(end_str) if len(end_str) == 4 else (int(end_str) + (start // 100)*100)\n",
    "        years = list(range(start, end + 1))\n",
    "    else:\n",
    "        years = [int(training_year)]\n",
    "\n",
    "    df = df[df[\"year\"].isin(years)].reset_index(drop=True)\n",
    "\n",
    "    # --- map training_size to total number of samples ---\n",
    "    total_map = {\"25k\": 25_000, \"5k\": 5_000, \"1k\": 1_000}\n",
    "    if training_size not in total_map:\n",
    "        return df  # e.g. \"all\"\n",
    "\n",
    "    total_samples = total_map[training_size]\n",
    "    n_years       = len(years)\n",
    "    base          = total_samples // n_years\n",
    "    remainder     = total_samples % n_years\n",
    "\n",
    "    # --- build a dict: year -> how many to sample ---\n",
    "    # give +1 to the first `remainder` years in ascending order\n",
    "    quotas = {\n",
    "        year: base + (1 if idx < remainder else 0)\n",
    "        for idx, year in enumerate(sorted(years))\n",
    "    }\n",
    "\n",
    "    # --- sample per‐year according to the quota dict ---\n",
    "    sampled = (\n",
    "        df\n",
    "        .groupby(\"year\", group_keys=False)\n",
    "        .apply(lambda grp: grp.sample(\n",
    "            n=min(len(grp), quotas[grp.name]),\n",
    "            random_state=random_state))\n",
    "        .reset_index(drop=True)\n",
    "    )\n",
    "\n",
    "    return sampled"
   ]
  },
  {
   "cell_type": "code",
   "execution_count": 15,
   "id": "c0ccd338-0e02-41f3-a09d-f56f9266e3fb",
   "metadata": {
    "execution": {
     "iopub.execute_input": "2025-07-30T21:52:41.375026Z",
     "iopub.status.busy": "2025-07-30T21:52:41.374627Z",
     "iopub.status.idle": "2025-07-30T21:52:41.380641Z",
     "shell.execute_reply": "2025-07-30T21:52:41.379365Z"
    },
    "papermill": {
     "duration": 0.041932,
     "end_time": "2025-07-30T21:52:41.383114",
     "exception": false,
     "start_time": "2025-07-30T21:52:41.341182",
     "status": "completed"
    },
    "tags": []
   },
   "outputs": [],
   "source": [
    "#universe[\"training_size\"]"
   ]
  },
  {
   "cell_type": "code",
   "execution_count": 16,
   "id": "ca707fd7-8047-4acd-bfa5-66248fbbf8e6",
   "metadata": {
    "execution": {
     "iopub.execute_input": "2025-07-30T21:52:41.451754Z",
     "iopub.status.busy": "2025-07-30T21:52:41.451165Z",
     "iopub.status.idle": "2025-07-30T21:52:41.458510Z",
     "shell.execute_reply": "2025-07-30T21:52:41.457090Z"
    },
    "papermill": {
     "duration": 0.04533,
     "end_time": "2025-07-30T21:52:41.461014",
     "exception": false,
     "start_time": "2025-07-30T21:52:41.415684",
     "status": "completed"
    },
    "tags": []
   },
   "outputs": [],
   "source": [
    "#universe[\"training_year\"]"
   ]
  },
  {
   "cell_type": "code",
   "execution_count": 17,
   "id": "aea9c6ef-6f46-42c8-85eb-5a62025c1508",
   "metadata": {
    "execution": {
     "iopub.execute_input": "2025-07-30T21:52:41.528394Z",
     "iopub.status.busy": "2025-07-30T21:52:41.527613Z",
     "iopub.status.idle": "2025-07-30T21:52:42.563647Z",
     "shell.execute_reply": "2025-07-30T21:52:42.562429Z"
    },
    "papermill": {
     "duration": 1.073231,
     "end_time": "2025-07-30T21:52:42.566253",
     "exception": false,
     "start_time": "2025-07-30T21:52:41.493022",
     "status": "completed"
    },
    "tags": []
   },
   "outputs": [],
   "source": [
    "siab_train = sample_by_year_size(siab,\n",
    "                               training_year=universe[\"training_year\"],\n",
    "                               training_size=universe[\"training_size\"])"
   ]
  },
  {
   "cell_type": "code",
   "execution_count": 18,
   "id": "8d3afb32-789d-442c-8d5d-9f5aa8dd2eed",
   "metadata": {
    "execution": {
     "iopub.execute_input": "2025-07-30T21:52:42.632791Z",
     "iopub.status.busy": "2025-07-30T21:52:42.631957Z",
     "iopub.status.idle": "2025-07-30T21:52:42.637583Z",
     "shell.execute_reply": "2025-07-30T21:52:42.636664Z"
    },
    "papermill": {
     "duration": 0.039434,
     "end_time": "2025-07-30T21:52:42.638866",
     "exception": false,
     "start_time": "2025-07-30T21:52:42.599432",
     "status": "completed"
    },
    "tags": []
   },
   "outputs": [],
   "source": [
    "#siab_train.shape"
   ]
  },
  {
   "cell_type": "code",
   "execution_count": 19,
   "id": "d582db68-1a4c-47fb-84fc-08518dc1975a",
   "metadata": {
    "execution": {
     "iopub.execute_input": "2025-07-30T21:52:42.684988Z",
     "iopub.status.busy": "2025-07-30T21:52:42.684443Z",
     "iopub.status.idle": "2025-07-30T21:52:42.689691Z",
     "shell.execute_reply": "2025-07-30T21:52:42.688667Z"
    },
    "papermill": {
     "duration": 0.03085,
     "end_time": "2025-07-30T21:52:42.691913",
     "exception": false,
     "start_time": "2025-07-30T21:52:42.661063",
     "status": "completed"
    },
    "tags": []
   },
   "outputs": [],
   "source": [
    "#display(siab_train.groupby(\"year\").size())"
   ]
  },
  {
   "cell_type": "code",
   "execution_count": 20,
   "id": "a561edb4-d032-42cb-8256-22eac1111c64",
   "metadata": {
    "execution": {
     "iopub.execute_input": "2025-07-30T21:52:42.751826Z",
     "iopub.status.busy": "2025-07-30T21:52:42.751335Z",
     "iopub.status.idle": "2025-07-30T21:52:42.986316Z",
     "shell.execute_reply": "2025-07-30T21:52:42.985598Z"
    },
    "papermill": {
     "duration": 0.26446,
     "end_time": "2025-07-30T21:52:42.988564",
     "exception": false,
     "start_time": "2025-07-30T21:52:42.724104",
     "status": "completed"
    },
    "tags": []
   },
   "outputs": [],
   "source": [
    "#siab_train = siab_s[siab_s.year < 2015]\n",
    "siab_calib = siab[siab.year == 2015]\n",
    "siab_test = siab[siab.year == 2016]"
   ]
  },
  {
   "cell_type": "code",
   "execution_count": 21,
   "id": "472de16f-c3db-4916-846b-1f0de9cf1746",
   "metadata": {
    "execution": {
     "iopub.execute_input": "2025-07-30T21:52:43.044716Z",
     "iopub.status.busy": "2025-07-30T21:52:43.043623Z",
     "iopub.status.idle": "2025-07-30T21:52:43.054575Z",
     "shell.execute_reply": "2025-07-30T21:52:43.053486Z"
    },
    "papermill": {
     "duration": 0.037463,
     "end_time": "2025-07-30T21:52:43.056931",
     "exception": false,
     "start_time": "2025-07-30T21:52:43.019468",
     "status": "completed"
    },
    "tags": []
   },
   "outputs": [],
   "source": [
    "X_train = siab_train.iloc[:,4:164]\n",
    "y_train = siab_train.iloc[:, [3]]"
   ]
  },
  {
   "cell_type": "code",
   "execution_count": 22,
   "id": "828c96af-f43a-4ed6-ba47-8ac73a47d56c",
   "metadata": {
    "execution": {
     "iopub.execute_input": "2025-07-30T21:52:43.113392Z",
     "iopub.status.busy": "2025-07-30T21:52:43.112699Z",
     "iopub.status.idle": "2025-07-30T21:52:43.165731Z",
     "shell.execute_reply": "2025-07-30T21:52:43.164806Z"
    },
    "papermill": {
     "duration": 0.079325,
     "end_time": "2025-07-30T21:52:43.167062",
     "exception": false,
     "start_time": "2025-07-30T21:52:43.087737",
     "status": "completed"
    },
    "tags": []
   },
   "outputs": [],
   "source": [
    "X_calib = siab_calib.iloc[:,4:164]\n",
    "y_calib = siab_calib.iloc[:, [3]]"
   ]
  },
  {
   "cell_type": "code",
   "execution_count": 23,
   "id": "c34be9c3-6bd6-476e-acd3-845840e303be",
   "metadata": {
    "execution": {
     "iopub.execute_input": "2025-07-30T21:52:43.211992Z",
     "iopub.status.busy": "2025-07-30T21:52:43.211395Z",
     "iopub.status.idle": "2025-07-30T21:52:43.269746Z",
     "shell.execute_reply": "2025-07-30T21:52:43.268566Z"
    },
    "papermill": {
     "duration": 0.081845,
     "end_time": "2025-07-30T21:52:43.271412",
     "exception": false,
     "start_time": "2025-07-30T21:52:43.189567",
     "status": "completed"
    },
    "tags": []
   },
   "outputs": [],
   "source": [
    "X_test = siab_test.iloc[:,4:164]\n",
    "y_true = siab_test.iloc[:, [3]]"
   ]
  },
  {
   "cell_type": "markdown",
   "id": "9901737e-04df-44f0-9100-f5ad144ed040",
   "metadata": {
    "papermill": {
     "duration": 0.027991,
     "end_time": "2025-07-30T21:52:43.327155",
     "exception": false,
     "start_time": "2025-07-30T21:52:43.299164",
     "status": "completed"
    },
    "tags": []
   },
   "source": [
    "# Splitting Data and Setting Training Data Size OLD VERSION"
   ]
  },
  {
   "cell_type": "code",
   "execution_count": 24,
   "id": "acbc8f7d-8fc8-4e86-8c59-5dcb0f58384b",
   "metadata": {
    "execution": {
     "iopub.execute_input": "2025-07-30T21:52:43.379408Z",
     "iopub.status.busy": "2025-07-30T21:52:43.378441Z",
     "iopub.status.idle": "2025-07-30T21:52:43.384279Z",
     "shell.execute_reply": "2025-07-30T21:52:43.383294Z"
    },
    "papermill": {
     "duration": 0.030687,
     "end_time": "2025-07-30T21:52:43.385953",
     "exception": false,
     "start_time": "2025-07-30T21:52:43.355266",
     "status": "completed"
    },
    "tags": []
   },
   "outputs": [],
   "source": [
    "#def sample_by_year(df, training_size, random_state=42):\n",
    "#    if training_size == \"2014\":\n",
    "#        return df[df[\"year\"] == 2014].reset_index(drop=True)\n",
    "#    \n",
    "#    size_map = {\n",
    "#        \"25k\": 5000,\n",
    "#        \"5k\": 1000,\n",
    "#        \"1k\": 200\n",
    "#    }\n",
    "#\n",
    "#    if training_size not in size_map:\n",
    "#        return df.reset_index(drop=True)  # use all data\n",
    "#\n",
    "#    n_per_year = size_map[training_size]\n",
    "#    grouped = df.groupby(\"year\")\n",
    "#    sampled = grouped.apply(lambda x: x.sample(n=min(n_per_year, len(x)), random_state=random_state))\n",
    "#    return sampled.reset_index(drop=True)"
   ]
  },
  {
   "cell_type": "code",
   "execution_count": 25,
   "id": "6d931f52-beaf-43ff-9e78-9d44a448d54e",
   "metadata": {
    "execution": {
     "iopub.execute_input": "2025-07-30T21:52:43.432598Z",
     "iopub.status.busy": "2025-07-30T21:52:43.431879Z",
     "iopub.status.idle": "2025-07-30T21:52:43.437333Z",
     "shell.execute_reply": "2025-07-30T21:52:43.436343Z"
    },
    "papermill": {
     "duration": 0.030664,
     "end_time": "2025-07-30T21:52:43.438933",
     "exception": false,
     "start_time": "2025-07-30T21:52:43.408269",
     "status": "completed"
    },
    "tags": []
   },
   "outputs": [],
   "source": [
    "#siab_s = sample_by_year(siab, universe[\"training_size\"])"
   ]
  },
  {
   "cell_type": "code",
   "execution_count": 26,
   "id": "5db0a40e-a4e2-4920-be85-b12ae061d70d",
   "metadata": {
    "execution": {
     "iopub.execute_input": "2025-07-30T21:52:43.483628Z",
     "iopub.status.busy": "2025-07-30T21:52:43.483111Z",
     "iopub.status.idle": "2025-07-30T21:52:43.488541Z",
     "shell.execute_reply": "2025-07-30T21:52:43.487490Z"
    },
    "papermill": {
     "duration": 0.029219,
     "end_time": "2025-07-30T21:52:43.490265",
     "exception": false,
     "start_time": "2025-07-30T21:52:43.461046",
     "status": "completed"
    },
    "tags": []
   },
   "outputs": [],
   "source": [
    "#display(siab_s.groupby(\"year\").size())"
   ]
  },
  {
   "cell_type": "code",
   "execution_count": 27,
   "id": "e6c733c5",
   "metadata": {
    "execution": {
     "iopub.execute_input": "2025-07-30T21:52:43.536603Z",
     "iopub.status.busy": "2025-07-30T21:52:43.536001Z",
     "iopub.status.idle": "2025-07-30T21:52:43.634640Z",
     "shell.execute_reply": "2025-07-30T21:52:43.633519Z"
    },
    "papermill": {
     "duration": 0.124843,
     "end_time": "2025-07-30T21:52:43.637193",
     "exception": false,
     "start_time": "2025-07-30T21:52:43.512350",
     "status": "completed"
    },
    "tags": []
   },
   "outputs": [],
   "source": [
    "# Auxiliary data needed downstream in the pipeline\n",
    "\n",
    "org_train = X_train.copy()\n",
    "org_test = X_test.copy()\n",
    "org_calib = X_calib.copy()"
   ]
  },
  {
   "cell_type": "code",
   "execution_count": 28,
   "id": "1466abac-c6da-4492-a62f-4240ae3783af",
   "metadata": {
    "execution": {
     "iopub.execute_input": "2025-07-30T21:52:43.693876Z",
     "iopub.status.busy": "2025-07-30T21:52:43.693368Z",
     "iopub.status.idle": "2025-07-30T21:52:43.699305Z",
     "shell.execute_reply": "2025-07-30T21:52:43.698359Z"
    },
    "papermill": {
     "duration": 0.03243,
     "end_time": "2025-07-30T21:52:43.700965",
     "exception": false,
     "start_time": "2025-07-30T21:52:43.668535",
     "status": "completed"
    },
    "tags": []
   },
   "outputs": [],
   "source": [
    "# put in other script?\n",
    "# Group sizes\n",
    "\n",
    "#def calculate_percentages(df, df_name):\n",
    "#    total_entries = len(df)\n",
    "#\n",
    "#    female_pct = (df['frau1'] == 1).mean() * 100\n",
    "#    non_german_pct = ((df['maxdeutsch1'] == 0) & (df['maxdeutsch.Missing.'] == 0)).mean() * 100\n",
    "#    non_german_male_pct = ((df['frau1'] == 0) & (df['maxdeutsch1'] == 0) & (df['maxdeutsch.Missing.'] == 0)).mean() * 100\n",
    "#    non_german_female_pct = ((df['frau1'] == 1) & (df['maxdeutsch1'] == 0) & (df['maxdeutsch.Missing.'] == 0)).mean() * 100\n",
    "#\n",
    "#    print(f\"--- {df_name} ---\")\n",
    "#    print(f\"Female: {female_pct:.2f}%\")\n",
    "#    print(f\"Non-German: {non_german_pct:.2f}%\")\n",
    "#    print(f\"Non-German Male: {non_german_male_pct:.2f}%\")\n",
    "#    print(f\"Non-German Female: {non_german_female_pct:.2f}%\\n\")\n",
    "#\n",
    "## Calculate for each DataFrame\n",
    "#calculate_percentages(siab_calib, \"siab_calib\")\n",
    "#calculate_percentages(siab_test, \"siab_test\")\n",
    "#calculate_percentages(siab_train, \"siab_train\")"
   ]
  },
  {
   "cell_type": "markdown",
   "id": "0a4a1b33",
   "metadata": {
    "papermill": {
     "duration": 0.024018,
     "end_time": "2025-07-30T21:52:43.747843",
     "exception": false,
     "start_time": "2025-07-30T21:52:43.723825",
     "status": "completed"
    },
    "tags": []
   },
   "source": [
    "# Preprocessing Data"
   ]
  },
  {
   "cell_type": "code",
   "execution_count": 29,
   "id": "ca879031",
   "metadata": {
    "execution": {
     "iopub.execute_input": "2025-07-30T21:52:43.795180Z",
     "iopub.status.busy": "2025-07-30T21:52:43.794703Z",
     "iopub.status.idle": "2025-07-30T21:52:43.800997Z",
     "shell.execute_reply": "2025-07-30T21:52:43.800063Z"
    },
    "papermill": {
     "duration": 0.03191,
     "end_time": "2025-07-30T21:52:43.802682",
     "exception": false,
     "start_time": "2025-07-30T21:52:43.770772",
     "status": "completed"
    },
    "tags": []
   },
   "outputs": [],
   "source": [
    "# EXCLUDE PROTECTED FEATURES\n",
    "# ----------------------\n",
    "# \"exclude_features\": \"none\", # \"nationality\", \"sex\", \"nationality-sex\"\n",
    "\n",
    "excluded_features = universe[\"exclude_features\"].split(\"-\") # split, e.g.: \"nationality-sex\" -> [\"nationality\", \"sex\"]\n",
    "excluded_features_dictionary = {\n",
    "    \"nationality\": [\"maxdeutsch1\", \"maxdeutsch.Missing.\"],\n",
    "    \"sex\": [\"frau1\"],\n",
    "    \"age\": [\"age\"],\n",
    "}\n"
   ]
  },
  {
   "cell_type": "code",
   "execution_count": 30,
   "id": "b745ac60",
   "metadata": {
    "execution": {
     "iopub.execute_input": "2025-07-30T21:52:43.849894Z",
     "iopub.status.busy": "2025-07-30T21:52:43.849234Z",
     "iopub.status.idle": "2025-07-30T21:52:43.855037Z",
     "shell.execute_reply": "2025-07-30T21:52:43.854116Z"
    },
    "papermill": {
     "duration": 0.031055,
     "end_time": "2025-07-30T21:52:43.856635",
     "exception": false,
     "start_time": "2025-07-30T21:52:43.825580",
     "status": "completed"
    },
    "tags": []
   },
   "outputs": [],
   "source": [
    "# Code nice names to column names\n",
    "\n",
    "excluded_features_columns = [\n",
    "    excluded_features_dictionary[f] for f in excluded_features if len(f) > 0 and f != \"none\"\n",
    "]"
   ]
  },
  {
   "cell_type": "code",
   "execution_count": 31,
   "id": "f84f73a2",
   "metadata": {
    "execution": {
     "iopub.execute_input": "2025-07-30T21:52:43.917026Z",
     "iopub.status.busy": "2025-07-30T21:52:43.916454Z",
     "iopub.status.idle": "2025-07-30T21:52:43.923716Z",
     "shell.execute_reply": "2025-07-30T21:52:43.922744Z"
    },
    "papermill": {
     "duration": 0.043988,
     "end_time": "2025-07-30T21:52:43.925877",
     "exception": false,
     "start_time": "2025-07-30T21:52:43.881889",
     "status": "completed"
    },
    "tags": []
   },
   "outputs": [],
   "source": [
    "from utils import flatten_once\n",
    "\n",
    "excluded_features_columns = flatten_once(excluded_features_columns)"
   ]
  },
  {
   "cell_type": "code",
   "execution_count": 32,
   "id": "884dea22",
   "metadata": {
    "execution": {
     "iopub.execute_input": "2025-07-30T21:52:43.988487Z",
     "iopub.status.busy": "2025-07-30T21:52:43.987673Z",
     "iopub.status.idle": "2025-07-30T21:52:43.997710Z",
     "shell.execute_reply": "2025-07-30T21:52:43.996276Z"
    },
    "papermill": {
     "duration": 0.040306,
     "end_time": "2025-07-30T21:52:43.999364",
     "exception": false,
     "start_time": "2025-07-30T21:52:43.959058",
     "status": "completed"
    },
    "tags": []
   },
   "outputs": [
    {
     "name": "stdout",
     "output_type": "stream",
     "text": [
      "Dropping features: ['age']\n"
     ]
    }
   ],
   "source": [
    "if len(excluded_features_columns) > 0:\n",
    "    print(f\"Dropping features: {excluded_features_columns}\")\n",
    "    X_train.drop(excluded_features_columns, axis=1, inplace=True)"
   ]
  },
  {
   "cell_type": "code",
   "execution_count": 33,
   "id": "95ab8b16",
   "metadata": {
    "execution": {
     "iopub.execute_input": "2025-07-30T21:52:44.051309Z",
     "iopub.status.busy": "2025-07-30T21:52:44.050196Z",
     "iopub.status.idle": "2025-07-30T21:52:44.109098Z",
     "shell.execute_reply": "2025-07-30T21:52:44.107939Z"
    },
    "papermill": {
     "duration": 0.085559,
     "end_time": "2025-07-30T21:52:44.110794",
     "exception": false,
     "start_time": "2025-07-30T21:52:44.025235",
     "status": "completed"
    },
    "tags": []
   },
   "outputs": [
    {
     "name": "stdout",
     "output_type": "stream",
     "text": [
      "Dropping features: ['age']\n"
     ]
    }
   ],
   "source": [
    "if len(excluded_features_columns) > 0:\n",
    "    print(f\"Dropping features: {excluded_features_columns}\")\n",
    "    X_test.drop(excluded_features_columns, axis=1, inplace=True)"
   ]
  },
  {
   "cell_type": "code",
   "execution_count": 34,
   "id": "1853aaf5-fb9f-46cb-a2b5-8ea4ae2237e4",
   "metadata": {
    "execution": {
     "iopub.execute_input": "2025-07-30T21:52:44.156376Z",
     "iopub.status.busy": "2025-07-30T21:52:44.155848Z",
     "iopub.status.idle": "2025-07-30T21:52:44.227682Z",
     "shell.execute_reply": "2025-07-30T21:52:44.226749Z"
    },
    "papermill": {
     "duration": 0.097679,
     "end_time": "2025-07-30T21:52:44.230718",
     "exception": false,
     "start_time": "2025-07-30T21:52:44.133039",
     "status": "completed"
    },
    "tags": []
   },
   "outputs": [
    {
     "name": "stdout",
     "output_type": "stream",
     "text": [
      "Dropping features: ['age']\n"
     ]
    }
   ],
   "source": [
    "if len(excluded_features_columns) > 0:\n",
    "    print(f\"Dropping features: {excluded_features_columns}\")\n",
    "    X_calib.drop(excluded_features_columns, axis=1, inplace=True)"
   ]
  },
  {
   "cell_type": "code",
   "execution_count": 35,
   "id": "6727d079-03e5-481e-9d38-292a90b7a0a8",
   "metadata": {
    "execution": {
     "iopub.execute_input": "2025-07-30T21:52:44.278780Z",
     "iopub.status.busy": "2025-07-30T21:52:44.278432Z",
     "iopub.status.idle": "2025-07-30T21:52:44.282225Z",
     "shell.execute_reply": "2025-07-30T21:52:44.281563Z"
    },
    "papermill": {
     "duration": 0.027418,
     "end_time": "2025-07-30T21:52:44.283444",
     "exception": false,
     "start_time": "2025-07-30T21:52:44.256026",
     "status": "completed"
    },
    "tags": []
   },
   "outputs": [],
   "source": [
    "# SPLIT & STRATIFY DATA\n",
    "# ----------------------"
   ]
  },
  {
   "cell_type": "code",
   "execution_count": 36,
   "id": "76c4dc6d",
   "metadata": {
    "execution": {
     "iopub.execute_input": "2025-07-30T21:52:44.310104Z",
     "iopub.status.busy": "2025-07-30T21:52:44.309735Z",
     "iopub.status.idle": "2025-07-30T21:52:44.399089Z",
     "shell.execute_reply": "2025-07-30T21:52:44.397901Z"
    },
    "papermill": {
     "duration": 0.105094,
     "end_time": "2025-07-30T21:52:44.401219",
     "exception": false,
     "start_time": "2025-07-30T21:52:44.296125",
     "status": "completed"
    },
    "tags": []
   },
   "outputs": [],
   "source": [
    "# EXCLUDE CERTAIN SUBGROUPS\n",
    "# ----------------------\n",
    "\n",
    "mode = universe.get(\"exclude_subgroups\", \"keep-all\") \n",
    "# Fetches the exclude_subgroups setting from the universe dict.\n",
    "# Defaults to \"keep-all\" if the key is missing."
   ]
  },
  {
   "cell_type": "code",
   "execution_count": 37,
   "id": "21994072",
   "metadata": {
    "execution": {
     "iopub.execute_input": "2025-07-30T21:52:44.462979Z",
     "iopub.status.busy": "2025-07-30T21:52:44.462563Z",
     "iopub.status.idle": "2025-07-30T21:52:44.468396Z",
     "shell.execute_reply": "2025-07-30T21:52:44.467474Z"
    },
    "papermill": {
     "duration": 0.040682,
     "end_time": "2025-07-30T21:52:44.469760",
     "exception": false,
     "start_time": "2025-07-30T21:52:44.429078",
     "status": "completed"
    },
    "tags": []
   },
   "outputs": [],
   "source": [
    "if mode == \"keep-all\":\n",
    "    keep_mask = pd.Series(True, index=org_train.index)\n",
    "\n",
    "# org_train contains the original feature columns from features_org (in Simson)\n",
    "# features_org contains unprocessed features, for me X_train at beginning ???\n",
    "# For keep-all, creates a boolean Series (keep_mask) of all True, so no rows are removed.\n",
    "\n",
    "elif mode == \"drop-non-german\":\n",
    "    keep_mask = org_train[\"maxdeutsch1\"] == 1 # ??? what about missing values?\n",
    "\n",
    "else:\n",
    "    raise ValueError(f\"Unsupported mode for exclude_subgroups: {mode}\")\n"
   ]
  },
  {
   "cell_type": "code",
   "execution_count": 38,
   "id": "71651440",
   "metadata": {
    "execution": {
     "iopub.execute_input": "2025-07-30T21:52:44.499266Z",
     "iopub.status.busy": "2025-07-30T21:52:44.498900Z",
     "iopub.status.idle": "2025-07-30T21:52:44.517241Z",
     "shell.execute_reply": "2025-07-30T21:52:44.515733Z"
    },
    "papermill": {
     "duration": 0.036882,
     "end_time": "2025-07-30T21:52:44.520462",
     "exception": false,
     "start_time": "2025-07-30T21:52:44.483580",
     "status": "completed"
    },
    "tags": []
   },
   "outputs": [],
   "source": [
    "n_drop = (~keep_mask).sum() # Calculates how many rows are set to be dropped\n",
    "if n_drop > 0:\n",
    "    pct = n_drop / len(keep_mask) * 100\n",
    "    print(f\"Dropping {n_drop} rows ({pct:.2f}%) where mode='{mode}'\")"
   ]
  },
  {
   "cell_type": "code",
   "execution_count": 39,
   "id": "5fb8eee5",
   "metadata": {
    "execution": {
     "iopub.execute_input": "2025-07-30T21:52:44.579936Z",
     "iopub.status.busy": "2025-07-30T21:52:44.579203Z",
     "iopub.status.idle": "2025-07-30T21:52:44.586518Z",
     "shell.execute_reply": "2025-07-30T21:52:44.585419Z"
    },
    "papermill": {
     "duration": 0.033378,
     "end_time": "2025-07-30T21:52:44.588473",
     "exception": false,
     "start_time": "2025-07-30T21:52:44.555095",
     "status": "completed"
    },
    "tags": []
   },
   "outputs": [],
   "source": [
    "X_train = X_train[keep_mask]"
   ]
  },
  {
   "cell_type": "code",
   "execution_count": 40,
   "id": "b202bb3a",
   "metadata": {
    "execution": {
     "iopub.execute_input": "2025-07-30T21:52:44.640623Z",
     "iopub.status.busy": "2025-07-30T21:52:44.639448Z",
     "iopub.status.idle": "2025-07-30T21:52:44.646919Z",
     "shell.execute_reply": "2025-07-30T21:52:44.646053Z"
    },
    "papermill": {
     "duration": 0.034533,
     "end_time": "2025-07-30T21:52:44.648588",
     "exception": false,
     "start_time": "2025-07-30T21:52:44.614055",
     "status": "completed"
    },
    "tags": []
   },
   "outputs": [],
   "source": [
    "y_train = y_train[keep_mask]"
   ]
  },
  {
   "cell_type": "markdown",
   "id": "493e2ac3",
   "metadata": {
    "papermill": {
     "duration": 0.012875,
     "end_time": "2025-07-30T21:52:44.674910",
     "exception": false,
     "start_time": "2025-07-30T21:52:44.662035",
     "status": "completed"
    },
    "tags": []
   },
   "source": [
    "# Model Training"
   ]
  },
  {
   "cell_type": "code",
   "execution_count": 41,
   "id": "679e1268",
   "metadata": {
    "execution": {
     "iopub.execute_input": "2025-07-30T21:52:44.707265Z",
     "iopub.status.busy": "2025-07-30T21:52:44.706752Z",
     "iopub.status.idle": "2025-07-30T21:52:44.809391Z",
     "shell.execute_reply": "2025-07-30T21:52:44.808134Z"
    },
    "papermill": {
     "duration": 0.118955,
     "end_time": "2025-07-30T21:52:44.811750",
     "exception": false,
     "start_time": "2025-07-30T21:52:44.692795",
     "status": "completed"
    },
    "tags": []
   },
   "outputs": [],
   "source": [
    "from sklearn.linear_model import LogisticRegression\n",
    "from sklearn.ensemble import GradientBoostingClassifier, RandomForestClassifier\n",
    "\n",
    "if (universe[\"model\"] == \"logreg\"):\n",
    "    model = LogisticRegression() #penalty=\"none\") #, solver=\"newton-cg\", max_iter=1) # include random_state=19 ?\n",
    "elif (universe[\"model\"] == \"penalized_logreg\"):\n",
    "    model = LogisticRegression(penalty=\"l2\", C=1.0) #, solver=\"newton-cg\", max_iter=1)\n",
    "elif (universe[\"model\"] == \"rf\"):\n",
    "    model = RandomForestClassifier(n_estimators=100, n_jobs=-1)\n",
    "elif (universe[\"model\"] == \"gbm\"):\n",
    "    model = GradientBoostingClassifier()\n",
    "elif (universe[\"model\"] == \"elasticnet\"):\n",
    "    model = LogisticRegression(penalty = 'elasticnet', solver = 'saga', l1_ratio = 0.5, max_iter=5000) # which solver to use?\n",
    "else:\n",
    "    raise \"Unsupported universe.model\""
   ]
  },
  {
   "cell_type": "code",
   "execution_count": 42,
   "id": "0cc8f744",
   "metadata": {
    "execution": {
     "iopub.execute_input": "2025-07-30T21:52:44.875465Z",
     "iopub.status.busy": "2025-07-30T21:52:44.874992Z",
     "iopub.status.idle": "2025-07-30T21:52:44.882375Z",
     "shell.execute_reply": "2025-07-30T21:52:44.881440Z"
    },
    "papermill": {
     "duration": 0.03942,
     "end_time": "2025-07-30T21:52:44.884058",
     "exception": false,
     "start_time": "2025-07-30T21:52:44.844638",
     "status": "completed"
    },
    "tags": []
   },
   "outputs": [],
   "source": [
    "import numpy as np\n",
    "from sklearn.pipeline import Pipeline\n",
    "from sklearn.preprocessing import StandardScaler\n",
    "\n",
    "model = Pipeline([\n",
    "    #(\"continuous_processor\", continuous_processor),\n",
    "    #(\"categorical_preprocessor\", categorical_preprocessor),\n",
    "    (\"scale\", StandardScaler() if universe[\"scale\"] == \"scale\" else None), \n",
    "    (\"model\", model),\n",
    "])"
   ]
  },
  {
   "cell_type": "code",
   "execution_count": 43,
   "id": "9442c04d",
   "metadata": {
    "execution": {
     "iopub.execute_input": "2025-07-30T21:52:44.938629Z",
     "iopub.status.busy": "2025-07-30T21:52:44.937952Z",
     "iopub.status.idle": "2025-07-30T21:52:46.025870Z",
     "shell.execute_reply": "2025-07-30T21:52:46.024451Z"
    },
    "papermill": {
     "duration": 1.120838,
     "end_time": "2025-07-30T21:52:46.027981",
     "exception": false,
     "start_time": "2025-07-30T21:52:44.907143",
     "status": "completed"
    },
    "tags": []
   },
   "outputs": [
    {
     "data": {
      "text/html": [
       "<style>#sk-container-id-1 {color: black;background-color: white;}#sk-container-id-1 pre{padding: 0;}#sk-container-id-1 div.sk-toggleable {background-color: white;}#sk-container-id-1 label.sk-toggleable__label {cursor: pointer;display: block;width: 100%;margin-bottom: 0;padding: 0.3em;box-sizing: border-box;text-align: center;}#sk-container-id-1 label.sk-toggleable__label-arrow:before {content: \"▸\";float: left;margin-right: 0.25em;color: #696969;}#sk-container-id-1 label.sk-toggleable__label-arrow:hover:before {color: black;}#sk-container-id-1 div.sk-estimator:hover label.sk-toggleable__label-arrow:before {color: black;}#sk-container-id-1 div.sk-toggleable__content {max-height: 0;max-width: 0;overflow: hidden;text-align: left;background-color: #f0f8ff;}#sk-container-id-1 div.sk-toggleable__content pre {margin: 0.2em;color: black;border-radius: 0.25em;background-color: #f0f8ff;}#sk-container-id-1 input.sk-toggleable__control:checked~div.sk-toggleable__content {max-height: 200px;max-width: 100%;overflow: auto;}#sk-container-id-1 input.sk-toggleable__control:checked~label.sk-toggleable__label-arrow:before {content: \"▾\";}#sk-container-id-1 div.sk-estimator input.sk-toggleable__control:checked~label.sk-toggleable__label {background-color: #d4ebff;}#sk-container-id-1 div.sk-label input.sk-toggleable__control:checked~label.sk-toggleable__label {background-color: #d4ebff;}#sk-container-id-1 input.sk-hidden--visually {border: 0;clip: rect(1px 1px 1px 1px);clip: rect(1px, 1px, 1px, 1px);height: 1px;margin: -1px;overflow: hidden;padding: 0;position: absolute;width: 1px;}#sk-container-id-1 div.sk-estimator {font-family: monospace;background-color: #f0f8ff;border: 1px dotted black;border-radius: 0.25em;box-sizing: border-box;margin-bottom: 0.5em;}#sk-container-id-1 div.sk-estimator:hover {background-color: #d4ebff;}#sk-container-id-1 div.sk-parallel-item::after {content: \"\";width: 100%;border-bottom: 1px solid gray;flex-grow: 1;}#sk-container-id-1 div.sk-label:hover label.sk-toggleable__label {background-color: #d4ebff;}#sk-container-id-1 div.sk-serial::before {content: \"\";position: absolute;border-left: 1px solid gray;box-sizing: border-box;top: 0;bottom: 0;left: 50%;z-index: 0;}#sk-container-id-1 div.sk-serial {display: flex;flex-direction: column;align-items: center;background-color: white;padding-right: 0.2em;padding-left: 0.2em;position: relative;}#sk-container-id-1 div.sk-item {position: relative;z-index: 1;}#sk-container-id-1 div.sk-parallel {display: flex;align-items: stretch;justify-content: center;background-color: white;position: relative;}#sk-container-id-1 div.sk-item::before, #sk-container-id-1 div.sk-parallel-item::before {content: \"\";position: absolute;border-left: 1px solid gray;box-sizing: border-box;top: 0;bottom: 0;left: 50%;z-index: -1;}#sk-container-id-1 div.sk-parallel-item {display: flex;flex-direction: column;z-index: 1;position: relative;background-color: white;}#sk-container-id-1 div.sk-parallel-item:first-child::after {align-self: flex-end;width: 50%;}#sk-container-id-1 div.sk-parallel-item:last-child::after {align-self: flex-start;width: 50%;}#sk-container-id-1 div.sk-parallel-item:only-child::after {width: 0;}#sk-container-id-1 div.sk-dashed-wrapped {border: 1px dashed gray;margin: 0 0.4em 0.5em 0.4em;box-sizing: border-box;padding-bottom: 0.4em;background-color: white;}#sk-container-id-1 div.sk-label label {font-family: monospace;font-weight: bold;display: inline-block;line-height: 1.2em;}#sk-container-id-1 div.sk-label-container {text-align: center;}#sk-container-id-1 div.sk-container {/* jupyter's `normalize.less` sets `[hidden] { display: none; }` but bootstrap.min.css set `[hidden] { display: none !important; }` so we also need the `!important` here to be able to override the default hidden behavior on the sphinx rendered scikit-learn.org. See: https://github.com/scikit-learn/scikit-learn/issues/21755 */display: inline-block !important;position: relative;}#sk-container-id-1 div.sk-text-repr-fallback {display: none;}</style><div id=\"sk-container-id-1\" class=\"sk-top-container\"><div class=\"sk-text-repr-fallback\"><pre>Pipeline(steps=[(&#x27;scale&#x27;, None), (&#x27;model&#x27;, GradientBoostingClassifier())])</pre><b>In a Jupyter environment, please rerun this cell to show the HTML representation or trust the notebook. <br />On GitHub, the HTML representation is unable to render, please try loading this page with nbviewer.org.</b></div><div class=\"sk-container\" hidden><div class=\"sk-item sk-dashed-wrapped\"><div class=\"sk-label-container\"><div class=\"sk-label sk-toggleable\"><input class=\"sk-toggleable__control sk-hidden--visually\" id=\"sk-estimator-id-1\" type=\"checkbox\" ><label for=\"sk-estimator-id-1\" class=\"sk-toggleable__label sk-toggleable__label-arrow\">Pipeline</label><div class=\"sk-toggleable__content\"><pre>Pipeline(steps=[(&#x27;scale&#x27;, None), (&#x27;model&#x27;, GradientBoostingClassifier())])</pre></div></div></div><div class=\"sk-serial\"><div class=\"sk-item\"><div class=\"sk-estimator sk-toggleable\"><input class=\"sk-toggleable__control sk-hidden--visually\" id=\"sk-estimator-id-2\" type=\"checkbox\" ><label for=\"sk-estimator-id-2\" class=\"sk-toggleable__label sk-toggleable__label-arrow\">None</label><div class=\"sk-toggleable__content\"><pre>None</pre></div></div></div><div class=\"sk-item\"><div class=\"sk-estimator sk-toggleable\"><input class=\"sk-toggleable__control sk-hidden--visually\" id=\"sk-estimator-id-3\" type=\"checkbox\" ><label for=\"sk-estimator-id-3\" class=\"sk-toggleable__label sk-toggleable__label-arrow\">GradientBoostingClassifier</label><div class=\"sk-toggleable__content\"><pre>GradientBoostingClassifier()</pre></div></div></div></div></div></div></div>"
      ],
      "text/plain": [
       "Pipeline(steps=[('scale', None), ('model', GradientBoostingClassifier())])"
      ]
     },
     "execution_count": 43,
     "metadata": {},
     "output_type": "execute_result"
    }
   ],
   "source": [
    "model.fit(X_train, y_train.values.ravel())"
   ]
  },
  {
   "cell_type": "code",
   "execution_count": 44,
   "id": "af59f8c0",
   "metadata": {
    "execution": {
     "iopub.execute_input": "2025-07-30T21:52:46.083481Z",
     "iopub.status.busy": "2025-07-30T21:52:46.082785Z",
     "iopub.status.idle": "2025-07-30T21:52:46.088614Z",
     "shell.execute_reply": "2025-07-30T21:52:46.087581Z"
    },
    "papermill": {
     "duration": 0.035252,
     "end_time": "2025-07-30T21:52:46.090352",
     "exception": false,
     "start_time": "2025-07-30T21:52:46.055100",
     "status": "completed"
    },
    "tags": []
   },
   "outputs": [],
   "source": [
    "from fairness_multiverse.universe import predict_w_threshold"
   ]
  },
  {
   "cell_type": "code",
   "execution_count": 45,
   "id": "a7cf2e16",
   "metadata": {
    "execution": {
     "iopub.execute_input": "2025-07-30T21:52:46.131957Z",
     "iopub.status.busy": "2025-07-30T21:52:46.131662Z",
     "iopub.status.idle": "2025-07-30T21:52:46.725822Z",
     "shell.execute_reply": "2025-07-30T21:52:46.725127Z"
    },
    "papermill": {
     "duration": 0.612058,
     "end_time": "2025-07-30T21:52:46.727107",
     "exception": false,
     "start_time": "2025-07-30T21:52:46.115049",
     "status": "completed"
    },
    "tags": []
   },
   "outputs": [
    {
     "data": {
      "text/plain": [
       "0.8317244454352914"
      ]
     },
     "execution_count": 45,
     "metadata": {},
     "output_type": "execute_result"
    }
   ],
   "source": [
    "probs_test = model.predict_proba(X_test)\n",
    "\n",
    "'''\n",
    "Below code returns a boolean array (or binary 0/1 array depending on how it’s used) where each element \n",
    "is True if the probability of class 1 is greater than or equal to the threshold, and False otherwise.\n",
    "'''\n",
    "y_pred_default = predict_w_threshold(probs_test, 0.5)\n",
    "\n",
    "from sklearn.metrics import accuracy_score\n",
    "\n",
    "# Naive prediction\n",
    "accuracy_score(y_true = y_true, y_pred = y_pred_default)"
   ]
  },
  {
   "cell_type": "code",
   "execution_count": 46,
   "id": "081964c3",
   "metadata": {
    "execution": {
     "iopub.execute_input": "2025-07-30T21:52:46.755121Z",
     "iopub.status.busy": "2025-07-30T21:52:46.754759Z",
     "iopub.status.idle": "2025-07-30T21:52:47.368837Z",
     "shell.execute_reply": "2025-07-30T21:52:47.367704Z"
    },
    "papermill": {
     "duration": 0.629664,
     "end_time": "2025-07-30T21:52:47.370128",
     "exception": false,
     "start_time": "2025-07-30T21:52:46.740464",
     "status": "completed"
    },
    "tags": []
   },
   "outputs": [
    {
     "data": {
      "text/plain": [
       "array([0, 0, 0, ..., 0, 0, 0])"
      ]
     },
     "execution_count": 46,
     "metadata": {},
     "output_type": "execute_result"
    }
   ],
   "source": [
    "model.predict(X_test)"
   ]
  },
  {
   "cell_type": "markdown",
   "id": "56c9705b",
   "metadata": {
    "papermill": {
     "duration": 0.022659,
     "end_time": "2025-07-30T21:52:47.419558",
     "exception": false,
     "start_time": "2025-07-30T21:52:47.396899",
     "status": "completed"
    },
    "tags": []
   },
   "source": [
    "# Conformal Prediction"
   ]
  },
  {
   "cell_type": "code",
   "execution_count": 47,
   "id": "160ec6ff",
   "metadata": {
    "execution": {
     "iopub.execute_input": "2025-07-30T21:52:47.475551Z",
     "iopub.status.busy": "2025-07-30T21:52:47.474570Z",
     "iopub.status.idle": "2025-07-30T21:52:47.480198Z",
     "shell.execute_reply": "2025-07-30T21:52:47.479202Z"
    },
    "papermill": {
     "duration": 0.03631,
     "end_time": "2025-07-30T21:52:47.481919",
     "exception": false,
     "start_time": "2025-07-30T21:52:47.445609",
     "status": "completed"
    },
    "tags": []
   },
   "outputs": [],
   "source": [
    "# Miscoverage level for conformal prediction (10% allowed error rate => 90% target coverage)\n",
    "alpha = 0.1"
   ]
  },
  {
   "cell_type": "code",
   "execution_count": 48,
   "id": "eadf4555-3dd3-440e-8e35-f82a4ad9f855",
   "metadata": {
    "execution": {
     "iopub.execute_input": "2025-07-30T21:52:47.532592Z",
     "iopub.status.busy": "2025-07-30T21:52:47.532059Z",
     "iopub.status.idle": "2025-07-30T21:52:48.121730Z",
     "shell.execute_reply": "2025-07-30T21:52:48.120766Z"
    },
    "papermill": {
     "duration": 0.621421,
     "end_time": "2025-07-30T21:52:48.123281",
     "exception": false,
     "start_time": "2025-07-30T21:52:47.501860",
     "status": "completed"
    },
    "tags": []
   },
   "outputs": [],
   "source": [
    "probs_calib = model.predict_proba(X_calib)"
   ]
  },
  {
   "cell_type": "code",
   "execution_count": 49,
   "id": "2ed93547-6d5d-4983-9b36-1ecb300da49a",
   "metadata": {
    "execution": {
     "iopub.execute_input": "2025-07-30T21:52:48.177278Z",
     "iopub.status.busy": "2025-07-30T21:52:48.176729Z",
     "iopub.status.idle": "2025-07-30T21:52:48.182348Z",
     "shell.execute_reply": "2025-07-30T21:52:48.181337Z"
    },
    "papermill": {
     "duration": 0.034811,
     "end_time": "2025-07-30T21:52:48.184023",
     "exception": false,
     "start_time": "2025-07-30T21:52:48.149212",
     "status": "completed"
    },
    "tags": []
   },
   "outputs": [],
   "source": [
    "y_calib = y_calib.values.ravel().astype(int)"
   ]
  },
  {
   "cell_type": "code",
   "execution_count": 50,
   "id": "65d1320d-f588-4b38-9072-62af1ae97f7d",
   "metadata": {
    "execution": {
     "iopub.execute_input": "2025-07-30T21:52:48.236720Z",
     "iopub.status.busy": "2025-07-30T21:52:48.235983Z",
     "iopub.status.idle": "2025-07-30T21:52:48.243045Z",
     "shell.execute_reply": "2025-07-30T21:52:48.242180Z"
    },
    "papermill": {
     "duration": 0.035441,
     "end_time": "2025-07-30T21:52:48.244866",
     "exception": false,
     "start_time": "2025-07-30T21:52:48.209425",
     "status": "completed"
    },
    "tags": []
   },
   "outputs": [],
   "source": [
    "from fairness_multiverse.conformal import compute_nc_scores\n",
    "\n",
    "# Compute nonconformity scores on calibration set (1 - probability of true class)\n",
    "nc_scores = compute_nc_scores(probs_calib, y_calib)"
   ]
  },
  {
   "cell_type": "code",
   "execution_count": 51,
   "id": "df3b8ca3-53b7-43d5-9667-7c85da7aeda2",
   "metadata": {
    "execution": {
     "iopub.execute_input": "2025-07-30T21:52:48.297811Z",
     "iopub.status.busy": "2025-07-30T21:52:48.297093Z",
     "iopub.status.idle": "2025-07-30T21:52:48.303973Z",
     "shell.execute_reply": "2025-07-30T21:52:48.303090Z"
    },
    "papermill": {
     "duration": 0.035679,
     "end_time": "2025-07-30T21:52:48.305710",
     "exception": false,
     "start_time": "2025-07-30T21:52:48.270031",
     "status": "completed"
    },
    "tags": []
   },
   "outputs": [],
   "source": [
    "from fairness_multiverse.conformal import find_threshold\n",
    "\n",
    "# Find conformal threshold q_hat for the given alpha (split conformal method)\n",
    "q_hat = find_threshold(nc_scores, alpha)"
   ]
  },
  {
   "cell_type": "code",
   "execution_count": 52,
   "id": "4d29e6c1-0ef6-4aa4-b8fe-4fe79b0d033a",
   "metadata": {
    "execution": {
     "iopub.execute_input": "2025-07-30T21:52:48.358238Z",
     "iopub.status.busy": "2025-07-30T21:52:48.357577Z",
     "iopub.status.idle": "2025-07-30T21:52:48.364921Z",
     "shell.execute_reply": "2025-07-30T21:52:48.363738Z"
    },
    "papermill": {
     "duration": 0.035378,
     "end_time": "2025-07-30T21:52:48.366581",
     "exception": false,
     "start_time": "2025-07-30T21:52:48.331203",
     "status": "completed"
    },
    "tags": []
   },
   "outputs": [
    {
     "data": {
      "text/plain": [
       "0.7634494078687173"
      ]
     },
     "execution_count": 52,
     "metadata": {},
     "output_type": "execute_result"
    }
   ],
   "source": [
    "q_hat"
   ]
  },
  {
   "cell_type": "code",
   "execution_count": 53,
   "id": "92460794-cdac-4be2-ba28-f28c0515a6fb",
   "metadata": {
    "execution": {
     "iopub.execute_input": "2025-07-30T21:52:48.418507Z",
     "iopub.status.busy": "2025-07-30T21:52:48.418049Z",
     "iopub.status.idle": "2025-07-30T21:52:49.770405Z",
     "shell.execute_reply": "2025-07-30T21:52:49.769472Z"
    },
    "papermill": {
     "duration": 1.379188,
     "end_time": "2025-07-30T21:52:49.772301",
     "exception": false,
     "start_time": "2025-07-30T21:52:48.393113",
     "status": "completed"
    },
    "tags": []
   },
   "outputs": [],
   "source": [
    "from fairness_multiverse.conformal import predict_conformal_sets\n",
    "\n",
    "# Generate prediction sets for each test example\n",
    "pred_sets = predict_conformal_sets(model, X_test, q_hat)"
   ]
  },
  {
   "cell_type": "code",
   "execution_count": 54,
   "id": "d90c9a65-e6db-4f5d-80cd-e68fb7e46829",
   "metadata": {
    "execution": {
     "iopub.execute_input": "2025-07-30T21:52:49.821255Z",
     "iopub.status.busy": "2025-07-30T21:52:49.820332Z",
     "iopub.status.idle": "2025-07-30T21:52:49.825973Z",
     "shell.execute_reply": "2025-07-30T21:52:49.825093Z"
    },
    "papermill": {
     "duration": 0.036924,
     "end_time": "2025-07-30T21:52:49.827697",
     "exception": false,
     "start_time": "2025-07-30T21:52:49.790773",
     "status": "completed"
    },
    "tags": []
   },
   "outputs": [],
   "source": [
    "y_true = y_true.squeeze()"
   ]
  },
  {
   "cell_type": "code",
   "execution_count": 55,
   "id": "3a58a54a-1e68-46b9-927a-df01f18aebc8",
   "metadata": {
    "execution": {
     "iopub.execute_input": "2025-07-30T21:52:49.884399Z",
     "iopub.status.busy": "2025-07-30T21:52:49.883803Z",
     "iopub.status.idle": "2025-07-30T21:52:50.809443Z",
     "shell.execute_reply": "2025-07-30T21:52:50.808529Z"
    },
    "papermill": {
     "duration": 0.956076,
     "end_time": "2025-07-30T21:52:50.811262",
     "exception": false,
     "start_time": "2025-07-30T21:52:49.855186",
     "status": "completed"
    },
    "tags": []
   },
   "outputs": [],
   "source": [
    "from fairness_multiverse.conformal import evaluate_sets\n",
    "\n",
    "# Evaluate coverage and average set size on test data\n",
    "metrics = evaluate_sets(pred_sets, y_true)"
   ]
  },
  {
   "cell_type": "markdown",
   "id": "2b569c12-9aaa-4c88-98c9-bbcd0cf3ebb8",
   "metadata": {
    "papermill": {
     "duration": 0.023338,
     "end_time": "2025-07-30T21:52:50.859337",
     "exception": false,
     "start_time": "2025-07-30T21:52:50.835999",
     "status": "completed"
    },
    "tags": []
   },
   "source": [
    "# CP Metrics"
   ]
  },
  {
   "cell_type": "code",
   "execution_count": 56,
   "id": "5ce0a5cb-201f-45a0-ade5-94c7f0bd6095",
   "metadata": {
    "execution": {
     "iopub.execute_input": "2025-07-30T21:52:50.908517Z",
     "iopub.status.busy": "2025-07-30T21:52:50.907803Z",
     "iopub.status.idle": "2025-07-30T21:52:50.915499Z",
     "shell.execute_reply": "2025-07-30T21:52:50.914563Z"
    },
    "papermill": {
     "duration": 0.035212,
     "end_time": "2025-07-30T21:52:50.917320",
     "exception": false,
     "start_time": "2025-07-30T21:52:50.882108",
     "status": "completed"
    },
    "tags": []
   },
   "outputs": [
    {
     "data": {
      "text/plain": [
       "{'coverage': 0.9112696466391706, 'avg_size': 1.1946828670159402}"
      ]
     },
     "execution_count": 56,
     "metadata": {},
     "output_type": "execute_result"
    }
   ],
   "source": [
    "metrics"
   ]
  },
  {
   "cell_type": "code",
   "execution_count": 57,
   "id": "9b9a838d-31c9-430b-ae14-12baee460d17",
   "metadata": {
    "execution": {
     "iopub.execute_input": "2025-07-30T21:52:50.968157Z",
     "iopub.status.busy": "2025-07-30T21:52:50.967287Z",
     "iopub.status.idle": "2025-07-30T21:52:50.974791Z",
     "shell.execute_reply": "2025-07-30T21:52:50.973938Z"
    },
    "papermill": {
     "duration": 0.035674,
     "end_time": "2025-07-30T21:52:50.976275",
     "exception": false,
     "start_time": "2025-07-30T21:52:50.940601",
     "status": "completed"
    },
    "tags": []
   },
   "outputs": [],
   "source": [
    "example_universe = universe.copy()\n",
    "universe_training_year = example_universe.get(\"training_year\")\n",
    "universe_training_size = example_universe.get(\"training_size\")\n",
    "universe_scale = example_universe.get(\"scale\")\n",
    "universe_model = example_universe.get(\"model\")\n",
    "universe_exclude_features = example_universe.get(\"exclude_features\")\n",
    "universe_exclude_subgroups = example_universe.get(\"exclude_subgroups\")"
   ]
  },
  {
   "cell_type": "code",
   "execution_count": 58,
   "id": "f4b6a8ac-9dc0-4245-8a91-5b3b5999c4f9",
   "metadata": {
    "execution": {
     "iopub.execute_input": "2025-07-30T21:52:51.025364Z",
     "iopub.status.busy": "2025-07-30T21:52:51.024947Z",
     "iopub.status.idle": "2025-07-30T21:52:51.031167Z",
     "shell.execute_reply": "2025-07-30T21:52:51.030350Z"
    },
    "papermill": {
     "duration": 0.032781,
     "end_time": "2025-07-30T21:52:51.032581",
     "exception": false,
     "start_time": "2025-07-30T21:52:50.999800",
     "status": "completed"
    },
    "tags": []
   },
   "outputs": [],
   "source": [
    "cp_metrics_dict = {\n",
    "    \"universe_id\": [universe_id],\n",
    "    \"universe_training_year\": [universe_training_year],\n",
    "    \"universe_training_size\": [universe_training_size],\n",
    "    \"universe_scale\": [universe_scale],\n",
    "    \"universe_model\": [universe_model],\n",
    "    \"universe_exclude_features\": [universe_exclude_features],\n",
    "    \"universe_exclude_subgroups\": [universe_exclude_subgroups],\n",
    "    \"q_hat\": [q_hat],\n",
    "    \"coverage\": [metrics[\"coverage\"]],\n",
    "    \"avg_size\": [metrics[\"avg_size\"]],\n",
    "}"
   ]
  },
  {
   "cell_type": "code",
   "execution_count": 59,
   "id": "908acbb1-0371-4915-85ca-3fa520d2efe2",
   "metadata": {
    "execution": {
     "iopub.execute_input": "2025-07-30T21:52:51.083581Z",
     "iopub.status.busy": "2025-07-30T21:52:51.083134Z",
     "iopub.status.idle": "2025-07-30T21:52:51.098862Z",
     "shell.execute_reply": "2025-07-30T21:52:51.098018Z"
    },
    "papermill": {
     "duration": 0.043519,
     "end_time": "2025-07-30T21:52:51.100545",
     "exception": false,
     "start_time": "2025-07-30T21:52:51.057026",
     "status": "completed"
    },
    "tags": []
   },
   "outputs": [
    {
     "data": {
      "text/plain": [
       "{'universe_id': ['dd3e24d79bb0c4e309444f5387e85544'],\n",
       " 'universe_training_year': ['2010_14'],\n",
       " 'universe_training_size': ['1k'],\n",
       " 'universe_scale': ['do-not-scale'],\n",
       " 'universe_model': ['gbm'],\n",
       " 'universe_exclude_features': ['age'],\n",
       " 'universe_exclude_subgroups': ['keep-all'],\n",
       " 'q_hat': [0.7634494078687173],\n",
       " 'coverage': [0.9112696466391706],\n",
       " 'avg_size': [1.1946828670159402]}"
      ]
     },
     "execution_count": 59,
     "metadata": {},
     "output_type": "execute_result"
    }
   ],
   "source": [
    "cp_metrics_dict"
   ]
  },
  {
   "cell_type": "code",
   "execution_count": 60,
   "id": "33007efc-14e9-4ec6-97ac-56a455c82265",
   "metadata": {
    "execution": {
     "iopub.execute_input": "2025-07-30T21:52:51.149471Z",
     "iopub.status.busy": "2025-07-30T21:52:51.149066Z",
     "iopub.status.idle": "2025-07-30T21:52:51.154586Z",
     "shell.execute_reply": "2025-07-30T21:52:51.153751Z"
    },
    "papermill": {
     "duration": 0.031369,
     "end_time": "2025-07-30T21:52:51.155996",
     "exception": false,
     "start_time": "2025-07-30T21:52:51.124627",
     "status": "completed"
    },
    "tags": []
   },
   "outputs": [],
   "source": [
    "cp_metrics_df = pd.DataFrame(cp_metrics_dict)"
   ]
  },
  {
   "cell_type": "code",
   "execution_count": 61,
   "id": "db12611b-57b2-4910-b9d0-355adfd6e7bf",
   "metadata": {
    "execution": {
     "iopub.execute_input": "2025-07-30T21:52:51.206355Z",
     "iopub.status.busy": "2025-07-30T21:52:51.205646Z",
     "iopub.status.idle": "2025-07-30T21:52:51.223300Z",
     "shell.execute_reply": "2025-07-30T21:52:51.222467Z"
    },
    "papermill": {
     "duration": 0.045053,
     "end_time": "2025-07-30T21:52:51.224964",
     "exception": false,
     "start_time": "2025-07-30T21:52:51.179911",
     "status": "completed"
    },
    "tags": []
   },
   "outputs": [
    {
     "data": {
      "text/html": [
       "<div>\n",
       "<style scoped>\n",
       "    .dataframe tbody tr th:only-of-type {\n",
       "        vertical-align: middle;\n",
       "    }\n",
       "\n",
       "    .dataframe tbody tr th {\n",
       "        vertical-align: top;\n",
       "    }\n",
       "\n",
       "    .dataframe thead th {\n",
       "        text-align: right;\n",
       "    }\n",
       "</style>\n",
       "<table border=\"1\" class=\"dataframe\">\n",
       "  <thead>\n",
       "    <tr style=\"text-align: right;\">\n",
       "      <th></th>\n",
       "      <th>universe_id</th>\n",
       "      <th>universe_training_year</th>\n",
       "      <th>universe_training_size</th>\n",
       "      <th>universe_scale</th>\n",
       "      <th>universe_model</th>\n",
       "      <th>universe_exclude_features</th>\n",
       "      <th>universe_exclude_subgroups</th>\n",
       "      <th>q_hat</th>\n",
       "      <th>coverage</th>\n",
       "      <th>avg_size</th>\n",
       "    </tr>\n",
       "  </thead>\n",
       "  <tbody>\n",
       "    <tr>\n",
       "      <th>0</th>\n",
       "      <td>dd3e24d79bb0c4e309444f5387e85544</td>\n",
       "      <td>2010_14</td>\n",
       "      <td>1k</td>\n",
       "      <td>do-not-scale</td>\n",
       "      <td>gbm</td>\n",
       "      <td>age</td>\n",
       "      <td>keep-all</td>\n",
       "      <td>0.763449</td>\n",
       "      <td>0.91127</td>\n",
       "      <td>1.194683</td>\n",
       "    </tr>\n",
       "  </tbody>\n",
       "</table>\n",
       "</div>"
      ],
      "text/plain": [
       "                        universe_id universe_training_year  \\\n",
       "0  dd3e24d79bb0c4e309444f5387e85544                2010_14   \n",
       "\n",
       "  universe_training_size universe_scale universe_model  \\\n",
       "0                     1k   do-not-scale            gbm   \n",
       "\n",
       "  universe_exclude_features universe_exclude_subgroups     q_hat  coverage  \\\n",
       "0                       age                   keep-all  0.763449   0.91127   \n",
       "\n",
       "   avg_size  \n",
       "0  1.194683  "
      ]
     },
     "execution_count": 61,
     "metadata": {},
     "output_type": "execute_result"
    }
   ],
   "source": [
    "cp_metrics_df"
   ]
  },
  {
   "cell_type": "code",
   "execution_count": 62,
   "id": "b7fbde55-a0a1-47e4-9af6-fe4a17fa8c61",
   "metadata": {
    "execution": {
     "iopub.execute_input": "2025-07-30T21:52:51.274418Z",
     "iopub.status.busy": "2025-07-30T21:52:51.274013Z",
     "iopub.status.idle": "2025-07-30T21:52:51.290149Z",
     "shell.execute_reply": "2025-07-30T21:52:51.289271Z"
    },
    "papermill": {
     "duration": 0.042803,
     "end_time": "2025-07-30T21:52:51.291815",
     "exception": false,
     "start_time": "2025-07-30T21:52:51.249012",
     "status": "completed"
    },
    "tags": []
   },
   "outputs": [],
   "source": [
    "# Conditional Coverage & looking at subgroups"
   ]
  },
  {
   "cell_type": "code",
   "execution_count": 63,
   "id": "027ae886-68dd-4141-96c7-805a5450e1ef",
   "metadata": {
    "execution": {
     "iopub.execute_input": "2025-07-30T21:52:51.342646Z",
     "iopub.status.busy": "2025-07-30T21:52:51.342221Z",
     "iopub.status.idle": "2025-07-30T21:52:51.607404Z",
     "shell.execute_reply": "2025-07-30T21:52:51.606404Z"
    },
    "papermill": {
     "duration": 0.29288,
     "end_time": "2025-07-30T21:52:51.609443",
     "exception": false,
     "start_time": "2025-07-30T21:52:51.316563",
     "status": "completed"
    },
    "tags": []
   },
   "outputs": [],
   "source": [
    "from fairness_multiverse.conformal import build_cp_groups\n",
    "\n",
    "cp_groups_df = build_cp_groups(pred_sets, y_true, X_test.index, org_test)\n",
    "#needs universe_id and setting"
   ]
  },
  {
   "cell_type": "code",
   "execution_count": 64,
   "id": "01d5802c-663a-4d1f-9d69-e036faaffbf7",
   "metadata": {
    "execution": {
     "iopub.execute_input": "2025-07-30T21:52:51.663410Z",
     "iopub.status.busy": "2025-07-30T21:52:51.662883Z",
     "iopub.status.idle": "2025-07-30T21:52:51.667684Z",
     "shell.execute_reply": "2025-07-30T21:52:51.666798Z"
    },
    "papermill": {
     "duration": 0.033493,
     "end_time": "2025-07-30T21:52:51.669276",
     "exception": false,
     "start_time": "2025-07-30T21:52:51.635783",
     "status": "completed"
    },
    "tags": []
   },
   "outputs": [],
   "source": [
    "#delete\n",
    "#cp_groups_df"
   ]
  },
  {
   "cell_type": "code",
   "execution_count": 65,
   "id": "fa424af1-d1eb-443d-b717-2d279ada8408",
   "metadata": {
    "execution": {
     "iopub.execute_input": "2025-07-30T21:52:51.721072Z",
     "iopub.status.busy": "2025-07-30T21:52:51.720524Z",
     "iopub.status.idle": "2025-07-30T21:52:51.725709Z",
     "shell.execute_reply": "2025-07-30T21:52:51.724907Z"
    },
    "papermill": {
     "duration": 0.032727,
     "end_time": "2025-07-30T21:52:51.727138",
     "exception": false,
     "start_time": "2025-07-30T21:52:51.694411",
     "status": "completed"
    },
    "tags": []
   },
   "outputs": [],
   "source": [
    "#delete\n",
    "#percentage = (cp_groups_df['nongerman_female'] == 1).mean() * 100\n",
    "#print(percentage)\n"
   ]
  },
  {
   "cell_type": "code",
   "execution_count": 66,
   "id": "6cbdab96-b2b2-45af-ad54-d0516db2e28d",
   "metadata": {
    "execution": {
     "iopub.execute_input": "2025-07-30T21:52:51.780204Z",
     "iopub.status.busy": "2025-07-30T21:52:51.779377Z",
     "iopub.status.idle": "2025-07-30T21:52:53.332191Z",
     "shell.execute_reply": "2025-07-30T21:52:53.331214Z"
    },
    "papermill": {
     "duration": 1.580501,
     "end_time": "2025-07-30T21:52:53.334198",
     "exception": false,
     "start_time": "2025-07-30T21:52:51.753697",
     "status": "completed"
    },
    "tags": []
   },
   "outputs": [],
   "source": [
    "# Define covered = 1 if true_label is in the predicted set\n",
    "cp_groups_df['covered'] = cp_groups_df.apply(\n",
    "    lambda r: int(r['true_label'] in r['pred_set']),\n",
    "    axis=1\n",
    ")"
   ]
  },
  {
   "cell_type": "code",
   "execution_count": 67,
   "id": "338ff529-1a6b-4b87-a931-8e4788d52aad",
   "metadata": {
    "execution": {
     "iopub.execute_input": "2025-07-30T21:52:53.404783Z",
     "iopub.status.busy": "2025-07-30T21:52:53.404171Z",
     "iopub.status.idle": "2025-07-30T21:52:53.409570Z",
     "shell.execute_reply": "2025-07-30T21:52:53.408609Z"
    },
    "papermill": {
     "duration": 0.049054,
     "end_time": "2025-07-30T21:52:53.411360",
     "exception": false,
     "start_time": "2025-07-30T21:52:53.362306",
     "status": "completed"
    },
    "tags": []
   },
   "outputs": [],
   "source": [
    "#cp_groups_df"
   ]
  },
  {
   "cell_type": "code",
   "execution_count": 68,
   "id": "90032e27-66df-4540-9169-4e89cfbaa758",
   "metadata": {
    "execution": {
     "iopub.execute_input": "2025-07-30T21:52:53.468789Z",
     "iopub.status.busy": "2025-07-30T21:52:53.468388Z",
     "iopub.status.idle": "2025-07-30T21:52:53.478532Z",
     "shell.execute_reply": "2025-07-30T21:52:53.477810Z"
    },
    "papermill": {
     "duration": 0.040583,
     "end_time": "2025-07-30T21:52:53.480129",
     "exception": false,
     "start_time": "2025-07-30T21:52:53.439546",
     "status": "completed"
    },
    "tags": []
   },
   "outputs": [],
   "source": [
    "subgroups = ['frau1','nongerman','nongerman_male','nongerman_female']\n",
    "\n",
    "# Conditional coverage for subgroup==1\n",
    "cond_coverage = {\n",
    "    g: cp_groups_df.loc[cp_groups_df[g]==1, 'covered'].mean()\n",
    "    for g in subgroups\n",
    "}"
   ]
  },
  {
   "cell_type": "code",
   "execution_count": 69,
   "id": "1e348fb1-b9c3-45bc-ba23-f016827a7e0d",
   "metadata": {
    "execution": {
     "iopub.execute_input": "2025-07-30T21:52:53.510194Z",
     "iopub.status.busy": "2025-07-30T21:52:53.509434Z",
     "iopub.status.idle": "2025-07-30T21:52:53.515960Z",
     "shell.execute_reply": "2025-07-30T21:52:53.514976Z"
    },
    "papermill": {
     "duration": 0.02231,
     "end_time": "2025-07-30T21:52:53.517886",
     "exception": false,
     "start_time": "2025-07-30T21:52:53.495576",
     "status": "completed"
    },
    "tags": []
   },
   "outputs": [
    {
     "data": {
      "text/plain": [
       "{'frau1': 0.9093678393314463,\n",
       " 'nongerman': 0.9060798293381238,\n",
       " 'nongerman_male': 0.9237143114473566,\n",
       " 'nongerman_female': 0.8769001490312965}"
      ]
     },
     "execution_count": 69,
     "metadata": {},
     "output_type": "execute_result"
    }
   ],
   "source": [
    "cond_coverage"
   ]
  },
  {
   "cell_type": "code",
   "execution_count": 70,
   "id": "f5093324-c3dd-4d63-bc4c-8d945e5c8bbb",
   "metadata": {
    "execution": {
     "iopub.execute_input": "2025-07-30T21:52:53.572099Z",
     "iopub.status.busy": "2025-07-30T21:52:53.571620Z",
     "iopub.status.idle": "2025-07-30T21:52:53.578969Z",
     "shell.execute_reply": "2025-07-30T21:52:53.578056Z"
    },
    "papermill": {
     "duration": 0.038888,
     "end_time": "2025-07-30T21:52:53.580853",
     "exception": false,
     "start_time": "2025-07-30T21:52:53.541965",
     "status": "completed"
    },
    "tags": []
   },
   "outputs": [],
   "source": [
    "for subgroup, cov in cond_coverage.items():\n",
    "    cp_metrics_df[f\"cov_{subgroup}\"] = cov"
   ]
  },
  {
   "cell_type": "code",
   "execution_count": 71,
   "id": "6e872e10-dbe5-49e8-b554-5030c98ff75d",
   "metadata": {
    "execution": {
     "iopub.execute_input": "2025-07-30T21:52:53.638587Z",
     "iopub.status.busy": "2025-07-30T21:52:53.637903Z",
     "iopub.status.idle": "2025-07-30T21:52:53.656480Z",
     "shell.execute_reply": "2025-07-30T21:52:53.655375Z"
    },
    "papermill": {
     "duration": 0.048821,
     "end_time": "2025-07-30T21:52:53.658019",
     "exception": false,
     "start_time": "2025-07-30T21:52:53.609198",
     "status": "completed"
    },
    "tags": []
   },
   "outputs": [
    {
     "data": {
      "text/html": [
       "<div>\n",
       "<style scoped>\n",
       "    .dataframe tbody tr th:only-of-type {\n",
       "        vertical-align: middle;\n",
       "    }\n",
       "\n",
       "    .dataframe tbody tr th {\n",
       "        vertical-align: top;\n",
       "    }\n",
       "\n",
       "    .dataframe thead th {\n",
       "        text-align: right;\n",
       "    }\n",
       "</style>\n",
       "<table border=\"1\" class=\"dataframe\">\n",
       "  <thead>\n",
       "    <tr style=\"text-align: right;\">\n",
       "      <th></th>\n",
       "      <th>universe_id</th>\n",
       "      <th>universe_training_year</th>\n",
       "      <th>universe_training_size</th>\n",
       "      <th>universe_scale</th>\n",
       "      <th>universe_model</th>\n",
       "      <th>universe_exclude_features</th>\n",
       "      <th>universe_exclude_subgroups</th>\n",
       "      <th>q_hat</th>\n",
       "      <th>coverage</th>\n",
       "      <th>avg_size</th>\n",
       "      <th>cov_frau1</th>\n",
       "      <th>cov_nongerman</th>\n",
       "      <th>cov_nongerman_male</th>\n",
       "      <th>cov_nongerman_female</th>\n",
       "    </tr>\n",
       "  </thead>\n",
       "  <tbody>\n",
       "    <tr>\n",
       "      <th>0</th>\n",
       "      <td>dd3e24d79bb0c4e309444f5387e85544</td>\n",
       "      <td>2010_14</td>\n",
       "      <td>1k</td>\n",
       "      <td>do-not-scale</td>\n",
       "      <td>gbm</td>\n",
       "      <td>age</td>\n",
       "      <td>keep-all</td>\n",
       "      <td>0.763449</td>\n",
       "      <td>0.91127</td>\n",
       "      <td>1.194683</td>\n",
       "      <td>0.909368</td>\n",
       "      <td>0.90608</td>\n",
       "      <td>0.923714</td>\n",
       "      <td>0.8769</td>\n",
       "    </tr>\n",
       "  </tbody>\n",
       "</table>\n",
       "</div>"
      ],
      "text/plain": [
       "                        universe_id universe_training_year  \\\n",
       "0  dd3e24d79bb0c4e309444f5387e85544                2010_14   \n",
       "\n",
       "  universe_training_size universe_scale universe_model  \\\n",
       "0                     1k   do-not-scale            gbm   \n",
       "\n",
       "  universe_exclude_features universe_exclude_subgroups     q_hat  coverage  \\\n",
       "0                       age                   keep-all  0.763449   0.91127   \n",
       "\n",
       "   avg_size  cov_frau1  cov_nongerman  cov_nongerman_male  \\\n",
       "0  1.194683   0.909368        0.90608            0.923714   \n",
       "\n",
       "   cov_nongerman_female  \n",
       "0                0.8769  "
      ]
     },
     "execution_count": 71,
     "metadata": {},
     "output_type": "execute_result"
    }
   ],
   "source": [
    "cp_metrics_df"
   ]
  },
  {
   "cell_type": "markdown",
   "id": "33774451",
   "metadata": {
    "papermill": {
     "duration": 0.02945,
     "end_time": "2025-07-30T21:52:53.716754",
     "exception": false,
     "start_time": "2025-07-30T21:52:53.687304",
     "status": "completed"
    },
    "tags": []
   },
   "source": [
    "# (Fairness) Metrics"
   ]
  },
  {
   "cell_type": "code",
   "execution_count": 72,
   "id": "debc5d62",
   "metadata": {
    "execution": {
     "iopub.execute_input": "2025-07-30T21:52:53.753329Z",
     "iopub.status.busy": "2025-07-30T21:52:53.752983Z",
     "iopub.status.idle": "2025-07-30T21:52:53.767079Z",
     "shell.execute_reply": "2025-07-30T21:52:53.766358Z"
    },
    "papermill": {
     "duration": 0.031709,
     "end_time": "2025-07-30T21:52:53.768565",
     "exception": false,
     "start_time": "2025-07-30T21:52:53.736856",
     "status": "completed"
    },
    "tags": []
   },
   "outputs": [],
   "source": [
    "# do I need to include maxdeutsch1.missing?\n",
    "\n",
    "import numpy as np\n",
    "\n",
    "colname_to_bin = \"maxdeutsch1\"\n",
    "majority_value = org_train[colname_to_bin].mode()[0]\n",
    "\n",
    "org_test[\"majmin\"] = np.where(org_test[colname_to_bin] == majority_value, \"majority\", \"minority\")"
   ]
  },
  {
   "cell_type": "code",
   "execution_count": 73,
   "id": "06a50de5",
   "metadata": {
    "execution": {
     "iopub.execute_input": "2025-07-30T21:52:53.798220Z",
     "iopub.status.busy": "2025-07-30T21:52:53.797710Z",
     "iopub.status.idle": "2025-07-30T21:52:55.383691Z",
     "shell.execute_reply": "2025-07-30T21:52:55.382948Z"
    },
    "papermill": {
     "duration": 1.602025,
     "end_time": "2025-07-30T21:52:55.385286",
     "exception": false,
     "start_time": "2025-07-30T21:52:53.783261",
     "status": "completed"
    },
    "tags": []
   },
   "outputs": [],
   "source": [
    "example_universe = universe.copy()\n",
    "example_universe[\"cutoff\"] = example_universe[\"cutoff\"][0]\n",
    "example_universe[\"eval_fairness_grouping\"] = example_universe[\"eval_fairness_grouping\"][0]\n",
    "fairness_dict, metric_frame = universe_analysis.compute_metrics(\n",
    "    example_universe,\n",
    "    y_pred_prob=probs_test,\n",
    "    y_test=y_true,\n",
    "    org_test=org_test,\n",
    ")"
   ]
  },
  {
   "cell_type": "markdown",
   "id": "f95d4e02",
   "metadata": {
    "papermill": {
     "duration": 0.014916,
     "end_time": "2025-07-30T21:52:55.414775",
     "exception": false,
     "start_time": "2025-07-30T21:52:55.399859",
     "status": "completed"
    },
    "tags": []
   },
   "source": [
    "# Overall"
   ]
  },
  {
   "cell_type": "markdown",
   "id": "bdee4871",
   "metadata": {
    "papermill": {
     "duration": 0.028719,
     "end_time": "2025-07-30T21:52:55.461604",
     "exception": false,
     "start_time": "2025-07-30T21:52:55.432885",
     "status": "completed"
    },
    "tags": []
   },
   "source": [
    "Fairness\n",
    "Main fairness target: Equalized Odds. Seems to be a better fit than equal opportunity, since we're not only interested in Y = 1. Seems to be a better fit than demographic parity, since we also care about accuracy, not just equal distribution of preds.\n",
    "\n",
    "Pick column for computation of fairness metrics\n",
    "\n",
    "Performance\n",
    "Overall performance measures, most interesting in relation to the measures split by group below"
   ]
  },
  {
   "cell_type": "code",
   "execution_count": 74,
   "id": "c4e067c6",
   "metadata": {
    "execution": {
     "iopub.execute_input": "2025-07-30T21:52:55.517955Z",
     "iopub.status.busy": "2025-07-30T21:52:55.517541Z",
     "iopub.status.idle": "2025-07-30T21:52:55.526140Z",
     "shell.execute_reply": "2025-07-30T21:52:55.525440Z"
    },
    "papermill": {
     "duration": 0.039004,
     "end_time": "2025-07-30T21:52:55.527619",
     "exception": false,
     "start_time": "2025-07-30T21:52:55.488615",
     "status": "completed"
    },
    "tags": []
   },
   "outputs": [
    {
     "data": {
      "text/plain": [
       "accuracy                   0.221124\n",
       "balanced accuracy          0.541359\n",
       "f1                         0.242544\n",
       "precision                  0.138558\n",
       "false positive rate        0.889389\n",
       "false negative rate        0.027894\n",
       "selection rate             0.900000\n",
       "count                  89710.000000\n",
       "dtype: float64"
      ]
     },
     "execution_count": 74,
     "metadata": {},
     "output_type": "execute_result"
    }
   ],
   "source": [
    "metric_frame.overall"
   ]
  },
  {
   "cell_type": "markdown",
   "id": "e968fe9d",
   "metadata": {
    "papermill": {
     "duration": 0.02981,
     "end_time": "2025-07-30T21:52:55.585377",
     "exception": false,
     "start_time": "2025-07-30T21:52:55.555567",
     "status": "completed"
    },
    "tags": []
   },
   "source": [
    "By Group"
   ]
  },
  {
   "cell_type": "code",
   "execution_count": 75,
   "id": "ec325bce",
   "metadata": {
    "execution": {
     "iopub.execute_input": "2025-07-30T21:52:55.641574Z",
     "iopub.status.busy": "2025-07-30T21:52:55.641078Z",
     "iopub.status.idle": "2025-07-30T21:52:55.658314Z",
     "shell.execute_reply": "2025-07-30T21:52:55.657398Z"
    },
    "papermill": {
     "duration": 0.048223,
     "end_time": "2025-07-30T21:52:55.659917",
     "exception": false,
     "start_time": "2025-07-30T21:52:55.611694",
     "status": "completed"
    },
    "tags": []
   },
   "outputs": [
    {
     "data": {
      "text/html": [
       "<div>\n",
       "<style scoped>\n",
       "    .dataframe tbody tr th:only-of-type {\n",
       "        vertical-align: middle;\n",
       "    }\n",
       "\n",
       "    .dataframe tbody tr th {\n",
       "        vertical-align: top;\n",
       "    }\n",
       "\n",
       "    .dataframe thead th {\n",
       "        text-align: right;\n",
       "    }\n",
       "</style>\n",
       "<table border=\"1\" class=\"dataframe\">\n",
       "  <thead>\n",
       "    <tr style=\"text-align: right;\">\n",
       "      <th></th>\n",
       "      <th>accuracy</th>\n",
       "      <th>balanced accuracy</th>\n",
       "      <th>f1</th>\n",
       "      <th>precision</th>\n",
       "      <th>false positive rate</th>\n",
       "      <th>false negative rate</th>\n",
       "      <th>selection rate</th>\n",
       "      <th>count</th>\n",
       "    </tr>\n",
       "    <tr>\n",
       "      <th>majmin</th>\n",
       "      <th></th>\n",
       "      <th></th>\n",
       "      <th></th>\n",
       "      <th></th>\n",
       "      <th></th>\n",
       "      <th></th>\n",
       "      <th></th>\n",
       "      <th></th>\n",
       "    </tr>\n",
       "  </thead>\n",
       "  <tbody>\n",
       "    <tr>\n",
       "      <th>majority</th>\n",
       "      <td>0.226905</td>\n",
       "      <td>0.542865</td>\n",
       "      <td>0.249463</td>\n",
       "      <td>0.143087</td>\n",
       "      <td>0.886590</td>\n",
       "      <td>0.027681</td>\n",
       "      <td>0.897918</td>\n",
       "      <td>69170.0</td>\n",
       "    </tr>\n",
       "    <tr>\n",
       "      <th>minority</th>\n",
       "      <td>0.201655</td>\n",
       "      <td>0.536324</td>\n",
       "      <td>0.219068</td>\n",
       "      <td>0.123457</td>\n",
       "      <td>0.898635</td>\n",
       "      <td>0.028716</td>\n",
       "      <td>0.907011</td>\n",
       "      <td>20540.0</td>\n",
       "    </tr>\n",
       "  </tbody>\n",
       "</table>\n",
       "</div>"
      ],
      "text/plain": [
       "          accuracy  balanced accuracy        f1  precision  \\\n",
       "majmin                                                       \n",
       "majority  0.226905           0.542865  0.249463   0.143087   \n",
       "minority  0.201655           0.536324  0.219068   0.123457   \n",
       "\n",
       "          false positive rate  false negative rate  selection rate    count  \n",
       "majmin                                                                       \n",
       "majority             0.886590             0.027681        0.897918  69170.0  \n",
       "minority             0.898635             0.028716        0.907011  20540.0  "
      ]
     },
     "execution_count": 75,
     "metadata": {},
     "output_type": "execute_result"
    }
   ],
   "source": [
    "metric_frame.by_group"
   ]
  },
  {
   "cell_type": "code",
   "execution_count": 76,
   "id": "a9ddbe63",
   "metadata": {
    "execution": {
     "iopub.execute_input": "2025-07-30T21:52:55.724693Z",
     "iopub.status.busy": "2025-07-30T21:52:55.723817Z",
     "iopub.status.idle": "2025-07-30T21:52:58.028918Z",
     "shell.execute_reply": "2025-07-30T21:52:58.027983Z"
    },
    "papermill": {
     "duration": 2.34108,
     "end_time": "2025-07-30T21:52:58.030594",
     "exception": false,
     "start_time": "2025-07-30T21:52:55.689514",
     "status": "completed"
    },
    "tags": []
   },
   "outputs": [
    {
     "data": {
      "text/plain": [
       "array([[<Axes: title={'center': 'accuracy'}, xlabel='majmin'>,\n",
       "        <Axes: title={'center': 'balanced accuracy'}, xlabel='majmin'>,\n",
       "        <Axes: title={'center': 'f1'}, xlabel='majmin'>],\n",
       "       [<Axes: title={'center': 'precision'}, xlabel='majmin'>,\n",
       "        <Axes: title={'center': 'false positive rate'}, xlabel='majmin'>,\n",
       "        <Axes: title={'center': 'false negative rate'}, xlabel='majmin'>],\n",
       "       [<Axes: title={'center': 'selection rate'}, xlabel='majmin'>,\n",
       "        <Axes: title={'center': 'count'}, xlabel='majmin'>,\n",
       "        <Axes: xlabel='majmin'>]], dtype=object)"
      ]
     },
     "execution_count": 76,
     "metadata": {},
     "output_type": "execute_result"
    },
    {
     "data": {
      "image/png": "[encoded data removed]",
      "text/plain": [
       "<Figure size 1200x800 with 9 Axes>"
      ]
     },
     "metadata": {},
     "output_type": "display_data"
    }
   ],
   "source": [
    "# In a graphic\n",
    "metric_frame.by_group.plot.bar(\n",
    "    subplots=True,\n",
    "    layout=[3, 3],\n",
    "    legend=False,\n",
    "    figsize=[12, 8],\n",
    "    title=\"Show all metrics\",\n",
    ")"
   ]
  },
  {
   "cell_type": "markdown",
   "id": "f57a0bac",
   "metadata": {
    "papermill": {
     "duration": 0.02934,
     "end_time": "2025-07-30T21:52:58.091801",
     "exception": false,
     "start_time": "2025-07-30T21:52:58.062461",
     "status": "completed"
    },
    "tags": []
   },
   "source": [
    "# Final Output"
   ]
  },
  {
   "cell_type": "code",
   "execution_count": 77,
   "id": "96d280a3",
   "metadata": {
    "execution": {
     "iopub.execute_input": "2025-07-30T21:52:58.150569Z",
     "iopub.status.busy": "2025-07-30T21:52:58.149732Z",
     "iopub.status.idle": "2025-07-30T21:52:58.159343Z",
     "shell.execute_reply": "2025-07-30T21:52:58.158337Z"
    },
    "papermill": {
     "duration": 0.041918,
     "end_time": "2025-07-30T21:52:58.161260",
     "exception": false,
     "start_time": "2025-07-30T21:52:58.119342",
     "status": "completed"
    },
    "tags": []
   },
   "outputs": [
    {
     "data": {
      "text/plain": [
       "4"
      ]
     },
     "execution_count": 77,
     "metadata": {},
     "output_type": "execute_result"
    }
   ],
   "source": [
    "sub_universes = universe_analysis.generate_sub_universes()\n",
    "len(sub_universes)"
   ]
  },
  {
   "cell_type": "code",
   "execution_count": 78,
   "id": "92adf7ba",
   "metadata": {
    "execution": {
     "iopub.execute_input": "2025-07-30T21:52:58.225794Z",
     "iopub.status.busy": "2025-07-30T21:52:58.225121Z",
     "iopub.status.idle": "2025-07-30T21:52:58.231401Z",
     "shell.execute_reply": "2025-07-30T21:52:58.230336Z"
    },
    "papermill": {
     "duration": 0.0387,
     "end_time": "2025-07-30T21:52:58.232992",
     "exception": false,
     "start_time": "2025-07-30T21:52:58.194292",
     "status": "completed"
    },
    "tags": []
   },
   "outputs": [],
   "source": [
    "def filter_sub_universe_data(sub_universe, org_test):\n",
    "    # Keep all rows — no filtering\n",
    "    keep_rows_mask = np.ones(org_test.shape[0], dtype=bool)\n",
    "\n",
    "    print(f\"[INFO] Keeping all rows: {keep_rows_mask.sum()} rows retained.\")\n",
    "    return keep_rows_mask"
   ]
  },
  {
   "cell_type": "code",
   "execution_count": 79,
   "id": "4a759155",
   "metadata": {
    "execution": {
     "iopub.execute_input": "2025-07-30T21:52:58.292443Z",
     "iopub.status.busy": "2025-07-30T21:52:58.291812Z",
     "iopub.status.idle": "2025-07-30T21:53:08.891530Z",
     "shell.execute_reply": "2025-07-30T21:53:08.890515Z"
    },
    "papermill": {
     "duration": 10.630584,
     "end_time": "2025-07-30T21:53:08.893090",
     "exception": false,
     "start_time": "2025-07-30T21:52:58.262506",
     "status": "completed"
    },
    "tags": []
   },
   "outputs": [
    {
     "name": "stdout",
     "output_type": "stream",
     "text": [
      "Stopping execution_time clock.\n",
      "[INFO] Keeping all rows: 89710 rows retained.\n"
     ]
    },
    {
     "name": "stdout",
     "output_type": "stream",
     "text": [
      "[INFO] Keeping all rows: 89710 rows retained.\n"
     ]
    },
    {
     "name": "stdout",
     "output_type": "stream",
     "text": [
      "[INFO] Keeping all rows: 89710 rows retained.\n"
     ]
    },
    {
     "name": "stdout",
     "output_type": "stream",
     "text": [
      "[INFO] Keeping all rows: 89710 rows retained.\n"
     ]
    },
    {
     "data": {
      "text/html": [
       "<div>\n",
       "<style scoped>\n",
       "    .dataframe tbody tr th:only-of-type {\n",
       "        vertical-align: middle;\n",
       "    }\n",
       "\n",
       "    .dataframe tbody tr th {\n",
       "        vertical-align: top;\n",
       "    }\n",
       "\n",
       "    .dataframe thead th {\n",
       "        text-align: right;\n",
       "    }\n",
       "</style>\n",
       "<table border=\"1\" class=\"dataframe\">\n",
       "  <thead>\n",
       "    <tr style=\"text-align: right;\">\n",
       "      <th></th>\n",
       "      <th>run_no</th>\n",
       "      <th>universe_id</th>\n",
       "      <th>universe_settings</th>\n",
       "      <th>execution_time</th>\n",
       "      <th>test_size_n</th>\n",
       "      <th>test_size_frac</th>\n",
       "      <th>fair_main_equalized_odds_difference</th>\n",
       "      <th>fair_main_equalized_odds_ratio</th>\n",
       "      <th>fair_main_demographic_parity_difference</th>\n",
       "      <th>fair_main_demographic_parity_ratio</th>\n",
       "      <th>...</th>\n",
       "      <th>perf_grp_precision_0</th>\n",
       "      <th>perf_grp_precision_1</th>\n",
       "      <th>perf_grp_false positive rate_0</th>\n",
       "      <th>perf_grp_false positive rate_1</th>\n",
       "      <th>perf_grp_false negative rate_0</th>\n",
       "      <th>perf_grp_false negative rate_1</th>\n",
       "      <th>perf_grp_selection rate_0</th>\n",
       "      <th>perf_grp_selection rate_1</th>\n",
       "      <th>perf_grp_count_0</th>\n",
       "      <th>perf_grp_count_1</th>\n",
       "    </tr>\n",
       "  </thead>\n",
       "  <tbody>\n",
       "    <tr>\n",
       "      <th>0</th>\n",
       "      <td>14</td>\n",
       "      <td>dd3e24d79bb0c4e309444f5387e85544</td>\n",
       "      <td>{\"cutoff\": \"quantile_0.1\", \"eval_fairness_grou...</td>\n",
       "      <td>28.099947</td>\n",
       "      <td>89710</td>\n",
       "      <td>1.0</td>\n",
       "      <td>0.012045</td>\n",
       "      <td>0.986596</td>\n",
       "      <td>0.009093</td>\n",
       "      <td>0.989975</td>\n",
       "      <td>...</td>\n",
       "      <td>NaN</td>\n",
       "      <td>NaN</td>\n",
       "      <td>NaN</td>\n",
       "      <td>NaN</td>\n",
       "      <td>NaN</td>\n",
       "      <td>NaN</td>\n",
       "      <td>NaN</td>\n",
       "      <td>NaN</td>\n",
       "      <td>NaN</td>\n",
       "      <td>NaN</td>\n",
       "    </tr>\n",
       "    <tr>\n",
       "      <th>0</th>\n",
       "      <td>14</td>\n",
       "      <td>dd3e24d79bb0c4e309444f5387e85544</td>\n",
       "      <td>{\"cutoff\": \"quantile_0.1\", \"eval_fairness_grou...</td>\n",
       "      <td>28.099947</td>\n",
       "      <td>89710</td>\n",
       "      <td>1.0</td>\n",
       "      <td>0.012045</td>\n",
       "      <td>0.986596</td>\n",
       "      <td>0.009093</td>\n",
       "      <td>0.989975</td>\n",
       "      <td>...</td>\n",
       "      <td>0.123457</td>\n",
       "      <td>0.143087</td>\n",
       "      <td>0.898635</td>\n",
       "      <td>0.886590</td>\n",
       "      <td>0.028716</td>\n",
       "      <td>0.027681</td>\n",
       "      <td>0.907011</td>\n",
       "      <td>0.897918</td>\n",
       "      <td>20540.0</td>\n",
       "      <td>69170.0</td>\n",
       "    </tr>\n",
       "    <tr>\n",
       "      <th>0</th>\n",
       "      <td>14</td>\n",
       "      <td>dd3e24d79bb0c4e309444f5387e85544</td>\n",
       "      <td>{\"cutoff\": \"quantile_0.25\", \"eval_fairness_gro...</td>\n",
       "      <td>28.099947</td>\n",
       "      <td>89710</td>\n",
       "      <td>1.0</td>\n",
       "      <td>0.096553</td>\n",
       "      <td>0.879387</td>\n",
       "      <td>0.082787</td>\n",
       "      <td>0.898274</td>\n",
       "      <td>...</td>\n",
       "      <td>NaN</td>\n",
       "      <td>NaN</td>\n",
       "      <td>NaN</td>\n",
       "      <td>NaN</td>\n",
       "      <td>NaN</td>\n",
       "      <td>NaN</td>\n",
       "      <td>NaN</td>\n",
       "      <td>NaN</td>\n",
       "      <td>NaN</td>\n",
       "      <td>NaN</td>\n",
       "    </tr>\n",
       "    <tr>\n",
       "      <th>0</th>\n",
       "      <td>14</td>\n",
       "      <td>dd3e24d79bb0c4e309444f5387e85544</td>\n",
       "      <td>{\"cutoff\": \"quantile_0.25\", \"eval_fairness_gro...</td>\n",
       "      <td>28.099947</td>\n",
       "      <td>89710</td>\n",
       "      <td>1.0</td>\n",
       "      <td>0.096553</td>\n",
       "      <td>0.879387</td>\n",
       "      <td>0.082787</td>\n",
       "      <td>0.898274</td>\n",
       "      <td>...</td>\n",
       "      <td>0.129756</td>\n",
       "      <td>0.164280</td>\n",
       "      <td>0.800517</td>\n",
       "      <td>0.703965</td>\n",
       "      <td>0.084037</td>\n",
       "      <td>0.091138</td>\n",
       "      <td>0.813827</td>\n",
       "      <td>0.731039</td>\n",
       "      <td>20540.0</td>\n",
       "      <td>69170.0</td>\n",
       "    </tr>\n",
       "  </tbody>\n",
       "</table>\n",
       "<p>4 rows × 50 columns</p>\n",
       "</div>"
      ],
      "text/plain": [
       "  run_no                       universe_id  \\\n",
       "0     14  dd3e24d79bb0c4e309444f5387e85544   \n",
       "0     14  dd3e24d79bb0c4e309444f5387e85544   \n",
       "0     14  dd3e24d79bb0c4e309444f5387e85544   \n",
       "0     14  dd3e24d79bb0c4e309444f5387e85544   \n",
       "\n",
       "                                   universe_settings  execution_time  \\\n",
       "0  {\"cutoff\": \"quantile_0.1\", \"eval_fairness_grou...       28.099947   \n",
       "0  {\"cutoff\": \"quantile_0.1\", \"eval_fairness_grou...       28.099947   \n",
       "0  {\"cutoff\": \"quantile_0.25\", \"eval_fairness_gro...       28.099947   \n",
       "0  {\"cutoff\": \"quantile_0.25\", \"eval_fairness_gro...       28.099947   \n",
       "\n",
       "   test_size_n  test_size_frac  fair_main_equalized_odds_difference  \\\n",
       "0        89710             1.0                             0.012045   \n",
       "0        89710             1.0                             0.012045   \n",
       "0        89710             1.0                             0.096553   \n",
       "0        89710             1.0                             0.096553   \n",
       "\n",
       "   fair_main_equalized_odds_ratio  fair_main_demographic_parity_difference  \\\n",
       "0                        0.986596                                 0.009093   \n",
       "0                        0.986596                                 0.009093   \n",
       "0                        0.879387                                 0.082787   \n",
       "0                        0.879387                                 0.082787   \n",
       "\n",
       "   fair_main_demographic_parity_ratio  ...  perf_grp_precision_0  \\\n",
       "0                            0.989975  ...                   NaN   \n",
       "0                            0.989975  ...              0.123457   \n",
       "0                            0.898274  ...                   NaN   \n",
       "0                            0.898274  ...              0.129756   \n",
       "\n",
       "   perf_grp_precision_1  perf_grp_false positive rate_0  \\\n",
       "0                   NaN                             NaN   \n",
       "0              0.143087                        0.898635   \n",
       "0                   NaN                             NaN   \n",
       "0              0.164280                        0.800517   \n",
       "\n",
       "   perf_grp_false positive rate_1  perf_grp_false negative rate_0  \\\n",
       "0                             NaN                             NaN   \n",
       "0                        0.886590                        0.028716   \n",
       "0                             NaN                             NaN   \n",
       "0                        0.703965                        0.084037   \n",
       "\n",
       "   perf_grp_false negative rate_1  perf_grp_selection rate_0  \\\n",
       "0                             NaN                        NaN   \n",
       "0                        0.027681                   0.907011   \n",
       "0                             NaN                        NaN   \n",
       "0                        0.091138                   0.813827   \n",
       "\n",
       "   perf_grp_selection rate_1  perf_grp_count_0  perf_grp_count_1  \n",
       "0                        NaN               NaN               NaN  \n",
       "0                   0.897918           20540.0           69170.0  \n",
       "0                        NaN               NaN               NaN  \n",
       "0                   0.731039           20540.0           69170.0  \n",
       "\n",
       "[4 rows x 50 columns]"
      ]
     },
     "execution_count": 79,
     "metadata": {},
     "output_type": "execute_result"
    }
   ],
   "source": [
    "final_output = universe_analysis.generate_final_output(\n",
    "    y_pred_prob=probs_test,\n",
    "    y_test=y_true,\n",
    "    org_test=org_test,\n",
    "    filter_data=filter_sub_universe_data,\n",
    "    cp_metrics_df=cp_metrics_df,\n",
    "    save=True,\n",
    ")\n",
    "final_output"
   ]
  },
  {
   "cell_type": "code",
   "execution_count": null,
   "id": "721ff514-cb11-46f8-b6fc-50392f74b5cb",
   "metadata": {
    "papermill": {
     "duration": 0.029962,
     "end_time": "2025-07-30T21:53:08.955162",
     "exception": false,
     "start_time": "2025-07-30T21:53:08.925200",
     "status": "completed"
    },
    "tags": []
   },
   "outputs": [],
   "source": []
  }
 ],
 "metadata": {
  "celltoolbar": "Tags",
  "kernelspec": {
   "display_name": "Python (CMA Fairness)",
   "language": "python",
   "name": "cma_fair_env"
  },
  "language_info": {
   "codemirror_mode": {
    "name": "ipython",
    "version": 3
   },
   "file_extension": ".py",
   "mimetype": "text/x-python",
   "name": "python",
   "nbconvert_exporter": "python",
   "pygments_lexer": "ipython3",
   "version": "3.10.12"
  },
  "papermill": {
   "default_parameters": {},
   "duration": 42.850515,
   "end_time": "2025-07-30T21:53:09.804519",
   "environment_variables": {},
   "exception": null,
   "input_path": "universe_analysis.ipynb",
   "output_path": "output/runs/14/notebooks/m_14-dd3e24d79bb0c4e309444f5387e85544.ipynb",
   "parameters": {
    "output_dir": "output",
    "run_no": "14",
    "seed": "2023",
    "universe": "{\"cutoff\": [\"quantile_0.1\", \"quantile_0.25\"], \"eval_fairness_grouping\": [\"majority-minority\", \"nationality-all\"], \"exclude_features\": \"age\", \"exclude_subgroups\": \"keep-all\", \"model\": \"gbm\", \"scale\": \"do-not-scale\", \"training_size\": \"1k\", \"training_year\": \"2010_14\"}",
    "universe_id": "dd3e24d79bb0c4e309444f5387e85544"
   },
   "start_time": "2025-07-30T21:52:26.954004",
   "version": "2.6.0"
  }
 },
 "nbformat": 4,
 "nbformat_minor": 5
}