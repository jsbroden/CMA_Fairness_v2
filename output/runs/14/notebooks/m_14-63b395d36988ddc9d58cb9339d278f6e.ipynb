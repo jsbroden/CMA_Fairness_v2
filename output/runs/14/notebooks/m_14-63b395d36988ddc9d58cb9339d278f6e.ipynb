{
 "cells": [
  {
   "cell_type": "code",
   "execution_count": 1,
   "id": "f159f837-637b-42ba-96b5-ec9a68c44524",
   "metadata": {
    "execution": {
     "iopub.execute_input": "2025-07-30T20:20:04.050143Z",
     "iopub.status.busy": "2025-07-30T20:20:04.049649Z",
     "iopub.status.idle": "2025-07-30T20:20:04.066482Z",
     "shell.execute_reply": "2025-07-30T20:20:04.063005Z"
    },
    "papermill": {
     "duration": 0.042082,
     "end_time": "2025-07-30T20:20:04.068626",
     "exception": false,
     "start_time": "2025-07-30T20:20:04.026544",
     "status": "completed"
    },
    "tags": []
   },
   "outputs": [
    {
     "name": "stdout",
     "output_type": "stream",
     "text": [
      "/dss/dsshome1/0C/ra93lal2/cma/CMA_Fairness_v2\n"
     ]
    },
    {
     "name": "stderr",
     "output_type": "stream",
     "text": [
      "/dss/dsshome1/0C/ra93lal2/.local/share/virtualenvs/CMA_Fairness_v2-3j10GkSs/lib/python3.10/site-packages/IPython/core/magics/osm.py:393: UserWarning: This is now an optional IPython functionality, using bookmarks requires you to install the `pickleshare` library.\n",
      "  bkms = self.shell.db.get('bookmarks', {})\n",
      "/dss/dsshome1/0C/ra93lal2/.local/share/virtualenvs/CMA_Fairness_v2-3j10GkSs/lib/python3.10/site-packages/IPython/core/magics/osm.py:417: UserWarning: This is now an optional IPython functionality, setting dhist requires you to install the `pickleshare` library.\n",
      "  self.shell.db['dhist'] = compress_dhist(dhist)[-100:]\n"
     ]
    }
   ],
   "source": [
    "%cd ~/cma/CMA_Fairness_v2"
   ]
  },
  {
   "cell_type": "markdown",
   "id": "de2603b9",
   "metadata": {
    "papermill": {
     "duration": 0.010391,
     "end_time": "2025-07-30T20:20:04.090955",
     "exception": false,
     "start_time": "2025-07-30T20:20:04.080564",
     "status": "completed"
    },
    "tags": []
   },
   "source": [
    "The following cell holds the definition of our parameters, these values can be overriden by rendering the with e.g. the following command:\n",
    "\n",
    "papermill -p alpha 0.2 -p ratio 0.3 universe_analysis.ipynb output/test_run.ipynb"
   ]
  },
  {
   "cell_type": "code",
   "execution_count": 2,
   "id": "a80968a0-40bb-4fa9-85ef-2d5eefb01975",
   "metadata": {
    "execution": {
     "iopub.execute_input": "2025-07-30T20:20:04.113895Z",
     "iopub.status.busy": "2025-07-30T20:20:04.113559Z",
     "iopub.status.idle": "2025-07-30T20:20:04.118348Z",
     "shell.execute_reply": "2025-07-30T20:20:04.117572Z"
    },
    "papermill": {
     "duration": 0.017936,
     "end_time": "2025-07-30T20:20:04.119678",
     "exception": false,
     "start_time": "2025-07-30T20:20:04.101742",
     "status": "completed"
    },
    "tags": []
   },
   "outputs": [
    {
     "name": "stdout",
     "output_type": "stream",
     "text": [
      "Current working directory: /dss/dsshome1/0C/ra93lal2/cma/CMA_Fairness_v2\n"
     ]
    }
   ],
   "source": [
    "import os\n",
    "print(\"Current working directory:\", os.getcwd())"
   ]
  },
  {
   "cell_type": "code",
   "execution_count": 3,
   "id": "2dce4c03",
   "metadata": {
    "execution": {
     "iopub.execute_input": "2025-07-30T20:20:04.143162Z",
     "iopub.status.busy": "2025-07-30T20:20:04.142813Z",
     "iopub.status.idle": "2025-07-30T20:20:04.147711Z",
     "shell.execute_reply": "2025-07-30T20:20:04.146964Z"
    },
    "papermill": {
     "duration": 0.017494,
     "end_time": "2025-07-30T20:20:04.149002",
     "exception": false,
     "start_time": "2025-07-30T20:20:04.131508",
     "status": "completed"
    },
    "tags": [
     "parameters"
    ]
   },
   "outputs": [],
   "source": [
    "run_no = 0\n",
    "universe_id = \"test\"\n",
    "universe = {\n",
    "    \"training_size\": \"25k\", # \"25k\", \"5k\", \"1k\"\n",
    "    \"training_year\": \"2014\", # \"2014\", \"2012_14\", \"2010_14\"\n",
    "    \"scale\": \"scale\", # \"scale\", \"do-not-scale\",\n",
    "    #\"stratify_split\": \"target\", # \"none\", \"target\", \"protected-attribute\", \"both\",\n",
    "    \"model\": \"elasticnet\", # \"logreg\", \"penalized_logreg\", \"rf\", \"gbm\", \"elasticnet\"\n",
    "    \"cutoff\": [\"quantile_0.15\", \"quantile_0.30\"],\n",
    "    \"exclude_features\": \"age\", # \"none\", \"nationality\", \"sex\", \"nationality-sex\", \"age\"\n",
    "    \"exclude_subgroups\": \"keep-all\", # \"keep-all\", \"drop-non-german\"\n",
    "    \"eval_fairness_grouping\": [\"majority-minority\", \"nationality-all\"]\n",
    "}\n",
    "\n",
    "output_dir=\"./output\"\n",
    "seed=0"
   ]
  },
  {
   "cell_type": "code",
   "execution_count": 4,
   "id": "c26e6ec3",
   "metadata": {
    "execution": {
     "iopub.execute_input": "2025-07-30T20:20:04.172983Z",
     "iopub.status.busy": "2025-07-30T20:20:04.172466Z",
     "iopub.status.idle": "2025-07-30T20:20:04.177435Z",
     "shell.execute_reply": "2025-07-30T20:20:04.176685Z"
    },
    "papermill": {
     "duration": 0.017663,
     "end_time": "2025-07-30T20:20:04.178760",
     "exception": false,
     "start_time": "2025-07-30T20:20:04.161097",
     "status": "completed"
    },
    "tags": [
     "injected-parameters"
    ]
   },
   "outputs": [],
   "source": [
    "# Parameters\n",
    "universe_id = \"63b395d36988ddc9d58cb9339d278f6e\"\n",
    "run_no = \"14\"\n",
    "universe = \"{\\\"cutoff\\\": [\\\"quantile_0.1\\\", \\\"quantile_0.25\\\"], \\\"eval_fairness_grouping\\\": [\\\"majority-minority\\\", \\\"nationality-all\\\"], \\\"exclude_features\\\": \\\"none\\\", \\\"exclude_subgroups\\\": \\\"keep-all\\\", \\\"model\\\": \\\"elasticnet\\\", \\\"scale\\\": \\\"do-not-scale\\\", \\\"training_size\\\": \\\"25k\\\", \\\"training_year\\\": \\\"2012_14\\\"}\"\n",
    "output_dir = \"output\"\n",
    "seed = \"2023\"\n"
   ]
  },
  {
   "cell_type": "code",
   "execution_count": 5,
   "id": "1650acaf",
   "metadata": {
    "execution": {
     "iopub.execute_input": "2025-07-30T20:20:04.202763Z",
     "iopub.status.busy": "2025-07-30T20:20:04.202276Z",
     "iopub.status.idle": "2025-07-30T20:20:04.207065Z",
     "shell.execute_reply": "2025-07-30T20:20:04.206224Z"
    },
    "papermill": {
     "duration": 0.017828,
     "end_time": "2025-07-30T20:20:04.208651",
     "exception": false,
     "start_time": "2025-07-30T20:20:04.190823",
     "status": "completed"
    },
    "tags": []
   },
   "outputs": [],
   "source": [
    "import json\n",
    "# Parse universe into dict if it is passed as a string\n",
    "if isinstance(universe, str):\n",
    "    universe = json.loads(universe)"
   ]
  },
  {
   "cell_type": "code",
   "execution_count": 6,
   "id": "16620c48",
   "metadata": {
    "execution": {
     "iopub.execute_input": "2025-07-30T20:20:04.233435Z",
     "iopub.status.busy": "2025-07-30T20:20:04.232911Z",
     "iopub.status.idle": "2025-07-30T20:20:04.261827Z",
     "shell.execute_reply": "2025-07-30T20:20:04.261119Z"
    },
    "papermill": {
     "duration": 0.042375,
     "end_time": "2025-07-30T20:20:04.263309",
     "exception": false,
     "start_time": "2025-07-30T20:20:04.220934",
     "status": "completed"
    },
    "tags": []
   },
   "outputs": [],
   "source": [
    "# Auto-reload the custom package\n",
    "%load_ext autoreload\n",
    "%autoreload 1\n",
    "%aimport fairness_multiverse"
   ]
  },
  {
   "cell_type": "code",
   "execution_count": 7,
   "id": "01c5c9f3",
   "metadata": {
    "execution": {
     "iopub.execute_input": "2025-07-30T20:20:04.286020Z",
     "iopub.status.busy": "2025-07-30T20:20:04.285508Z",
     "iopub.status.idle": "2025-07-30T20:20:05.766066Z",
     "shell.execute_reply": "2025-07-30T20:20:05.765036Z"
    },
    "papermill": {
     "duration": 1.493829,
     "end_time": "2025-07-30T20:20:05.767996",
     "exception": false,
     "start_time": "2025-07-30T20:20:04.274167",
     "status": "completed"
    },
    "tags": []
   },
   "outputs": [],
   "source": [
    "from fairness_multiverse.universe import UniverseAnalysis\n",
    "\n",
    "universe_analysis = UniverseAnalysis(\n",
    "    run_no = run_no,\n",
    "    universe_id = universe_id,\n",
    "    universe = universe,\n",
    "    output_dir=output_dir,\n",
    ")"
   ]
  },
  {
   "cell_type": "code",
   "execution_count": 8,
   "id": "106241f5",
   "metadata": {
    "execution": {
     "iopub.execute_input": "2025-07-30T20:20:05.811497Z",
     "iopub.status.busy": "2025-07-30T20:20:05.810800Z",
     "iopub.status.idle": "2025-07-30T20:20:05.817902Z",
     "shell.execute_reply": "2025-07-30T20:20:05.816996Z"
    },
    "papermill": {
     "duration": 0.030328,
     "end_time": "2025-07-30T20:20:05.819440",
     "exception": false,
     "start_time": "2025-07-30T20:20:05.789112",
     "status": "completed"
    },
    "tags": []
   },
   "outputs": [
    {
     "name": "stdout",
     "output_type": "stream",
     "text": [
      "Using Seed: 2023\n"
     ]
    }
   ],
   "source": [
    "import numpy as np\n",
    "parsed_seed = int(seed)\n",
    "np.random.seed(parsed_seed)\n",
    "print(f\"Using Seed: {parsed_seed}\")"
   ]
  },
  {
   "cell_type": "markdown",
   "id": "e0ebdc57",
   "metadata": {
    "papermill": {
     "duration": 0.020186,
     "end_time": "2025-07-30T20:20:05.861818",
     "exception": false,
     "start_time": "2025-07-30T20:20:05.841632",
     "status": "completed"
    },
    "tags": []
   },
   "source": [
    "# Loading Data"
   ]
  },
  {
   "cell_type": "markdown",
   "id": "681925a3",
   "metadata": {
    "papermill": {
     "duration": 0.021053,
     "end_time": "2025-07-30T20:20:05.903265",
     "exception": false,
     "start_time": "2025-07-30T20:20:05.882212",
     "status": "completed"
    },
    "tags": []
   },
   "source": [
    "Load siab_train, siab_test, siab_calib and/or \n",
    "load siab_train_features, siab_train_labels"
   ]
  },
  {
   "cell_type": "code",
   "execution_count": 9,
   "id": "f0496b8a",
   "metadata": {
    "execution": {
     "iopub.execute_input": "2025-07-30T20:20:05.944819Z",
     "iopub.status.busy": "2025-07-30T20:20:05.944154Z",
     "iopub.status.idle": "2025-07-30T20:20:18.298656Z",
     "shell.execute_reply": "2025-07-30T20:20:18.297628Z"
    },
    "papermill": {
     "duration": 12.376711,
     "end_time": "2025-07-30T20:20:18.299956",
     "exception": false,
     "start_time": "2025-07-30T20:20:05.923245",
     "status": "completed"
    },
    "tags": []
   },
   "outputs": [
    {
     "name": "stdout",
     "output_type": "stream",
     "text": [
      "Loading SIAB data from cache: data/siab_cached.csv.gz\n"
     ]
    },
    {
     "name": "stdout",
     "output_type": "stream",
     "text": [
      "(643690, 164)\n"
     ]
    }
   ],
   "source": [
    "from pathlib import Path\n",
    "import pandas as pd\n",
    "\n",
    "# File paths\n",
    "raw_file = Path(\"data/raw/siab.csv\")\n",
    "cache_file = Path(\"data/siab_cached.csv.gz\")\n",
    "\n",
    "# Ensure cache directory exists\n",
    "cache_file.parent.mkdir(parents=True, exist_ok=True)\n",
    "\n",
    "# Load with simple caching\n",
    "if cache_file.exists():\n",
    "    print(f\"Loading SIAB data from cache: {cache_file}\")\n",
    "    siab = pd.read_csv(cache_file, compression='gzip')\n",
    "else:\n",
    "    print(f\"Cache not found. Reading raw SIAB data: {raw_file}\")\n",
    "    siab = pd.read_csv(raw_file)\n",
    "    siab.to_csv(cache_file, index=False, compression='gzip')\n",
    "    print(f\"Cached SIAB data to: {cache_file}\")\n",
    "\n",
    "# Now use `siab` DataFrame as needed\n",
    "print(siab.shape)"
   ]
  },
  {
   "cell_type": "code",
   "execution_count": 10,
   "id": "db0ca512-5f53-4dba-abdb-a2888bca41ba",
   "metadata": {
    "execution": {
     "iopub.execute_input": "2025-07-30T20:20:18.325687Z",
     "iopub.status.busy": "2025-07-30T20:20:18.325356Z",
     "iopub.status.idle": "2025-07-30T20:20:18.329749Z",
     "shell.execute_reply": "2025-07-30T20:20:18.329059Z"
    },
    "papermill": {
     "duration": 0.017544,
     "end_time": "2025-07-30T20:20:18.331263",
     "exception": false,
     "start_time": "2025-07-30T20:20:18.313719",
     "status": "completed"
    },
    "tags": []
   },
   "outputs": [],
   "source": [
    "#siab"
   ]
  },
  {
   "cell_type": "code",
   "execution_count": 11,
   "id": "a0edb063",
   "metadata": {
    "execution": {
     "iopub.execute_input": "2025-07-30T20:20:18.373720Z",
     "iopub.status.busy": "2025-07-30T20:20:18.373342Z",
     "iopub.status.idle": "2025-07-30T20:20:18.378439Z",
     "shell.execute_reply": "2025-07-30T20:20:18.377062Z"
    },
    "papermill": {
     "duration": 0.028263,
     "end_time": "2025-07-30T20:20:18.380349",
     "exception": false,
     "start_time": "2025-07-30T20:20:18.352086",
     "status": "completed"
    },
    "tags": []
   },
   "outputs": [],
   "source": [
    "#import pandas as pd\n",
    "#\n",
    "#X_train = pd.read_csv(\"./data/X_train.csv\")\n",
    "#y_train = pd.read_csv(\"./data/y_train.csv\")"
   ]
  },
  {
   "cell_type": "code",
   "execution_count": 12,
   "id": "63d08085",
   "metadata": {
    "execution": {
     "iopub.execute_input": "2025-07-30T20:20:18.412004Z",
     "iopub.status.busy": "2025-07-30T20:20:18.411506Z",
     "iopub.status.idle": "2025-07-30T20:20:18.416966Z",
     "shell.execute_reply": "2025-07-30T20:20:18.415757Z"
    },
    "papermill": {
     "duration": 0.026,
     "end_time": "2025-07-30T20:20:18.418601",
     "exception": false,
     "start_time": "2025-07-30T20:20:18.392601",
     "status": "completed"
    },
    "tags": []
   },
   "outputs": [],
   "source": [
    "#X_test = pd.read_csv(\"./data/X_test.csv\")\n",
    "#y_true = pd.read_csv(\"./data/y_test.csv\")"
   ]
  },
  {
   "cell_type": "code",
   "execution_count": 13,
   "id": "98a8d0fa-1d3d-4ed8-bb2c-281470e24add",
   "metadata": {
    "execution": {
     "iopub.execute_input": "2025-07-30T20:20:18.463572Z",
     "iopub.status.busy": "2025-07-30T20:20:18.463097Z",
     "iopub.status.idle": "2025-07-30T20:20:18.468310Z",
     "shell.execute_reply": "2025-07-30T20:20:18.467119Z"
    },
    "papermill": {
     "duration": 0.030349,
     "end_time": "2025-07-30T20:20:18.469935",
     "exception": false,
     "start_time": "2025-07-30T20:20:18.439586",
     "status": "completed"
    },
    "tags": []
   },
   "outputs": [],
   "source": [
    "# Calibration data for conformal\n",
    "#X_calib = pd.read_csv(\"./data/X_calib.csv\")\n",
    "#y_calib = pd.read_csv(\"./data/y_calib.csv\")"
   ]
  },
  {
   "cell_type": "markdown",
   "id": "997051c5-15bd-4b69-9786-c3001a3ce484",
   "metadata": {
    "papermill": {
     "duration": 0.022529,
     "end_time": "2025-07-30T20:20:18.516192",
     "exception": false,
     "start_time": "2025-07-30T20:20:18.493663",
     "status": "completed"
    },
    "tags": []
   },
   "source": [
    "# Splitting Data and Setting Training Data Size"
   ]
  },
  {
   "cell_type": "code",
   "execution_count": 14,
   "id": "e993b61f-042d-41a6-8c81-f55681f86335",
   "metadata": {
    "execution": {
     "iopub.execute_input": "2025-07-30T20:20:18.563758Z",
     "iopub.status.busy": "2025-07-30T20:20:18.563165Z",
     "iopub.status.idle": "2025-07-30T20:20:18.579762Z",
     "shell.execute_reply": "2025-07-30T20:20:18.578712Z"
    },
    "papermill": {
     "duration": 0.042175,
     "end_time": "2025-07-30T20:20:18.581589",
     "exception": false,
     "start_time": "2025-07-30T20:20:18.539414",
     "status": "completed"
    },
    "tags": []
   },
   "outputs": [],
   "source": [
    "def sample_by_year_size(df,\n",
    "                        training_year: str,\n",
    "                        training_size: str,\n",
    "                        random_state: int = 42):\n",
    "    # --- parse training_year into a list of int years ---\n",
    "    if \"_\" in training_year:\n",
    "        start_str, end_str = training_year.split(\"_\", 1)\n",
    "        start = int(start_str)\n",
    "        end   = int(end_str) if len(end_str) == 4 else (int(end_str) + (start // 100)*100)\n",
    "        years = list(range(start, end + 1))\n",
    "    else:\n",
    "        years = [int(training_year)]\n",
    "\n",
    "    df = df[df[\"year\"].isin(years)].reset_index(drop=True)\n",
    "\n",
    "    # --- map training_size to total number of samples ---\n",
    "    total_map = {\"25k\": 25_000, \"5k\": 5_000, \"1k\": 1_000}\n",
    "    if training_size not in total_map:\n",
    "        return df  # e.g. \"all\"\n",
    "\n",
    "    total_samples = total_map[training_size]\n",
    "    n_years       = len(years)\n",
    "    base          = total_samples // n_years\n",
    "    remainder     = total_samples % n_years\n",
    "\n",
    "    # --- build a dict: year -> how many to sample ---\n",
    "    # give +1 to the first `remainder` years in ascending order\n",
    "    quotas = {\n",
    "        year: base + (1 if idx < remainder else 0)\n",
    "        for idx, year in enumerate(sorted(years))\n",
    "    }\n",
    "\n",
    "    # --- sample per‐year according to the quota dict ---\n",
    "    sampled = (\n",
    "        df\n",
    "        .groupby(\"year\", group_keys=False)\n",
    "        .apply(lambda grp: grp.sample(\n",
    "            n=min(len(grp), quotas[grp.name]),\n",
    "            random_state=random_state))\n",
    "        .reset_index(drop=True)\n",
    "    )\n",
    "\n",
    "    return sampled"
   ]
  },
  {
   "cell_type": "code",
   "execution_count": 15,
   "id": "c0ccd338-0e02-41f3-a09d-f56f9266e3fb",
   "metadata": {
    "execution": {
     "iopub.execute_input": "2025-07-30T20:20:18.629653Z",
     "iopub.status.busy": "2025-07-30T20:20:18.628951Z",
     "iopub.status.idle": "2025-07-30T20:20:18.634580Z",
     "shell.execute_reply": "2025-07-30T20:20:18.633579Z"
    },
    "papermill": {
     "duration": 0.031375,
     "end_time": "2025-07-30T20:20:18.636326",
     "exception": false,
     "start_time": "2025-07-30T20:20:18.604951",
     "status": "completed"
    },
    "tags": []
   },
   "outputs": [],
   "source": [
    "#universe[\"training_size\"]"
   ]
  },
  {
   "cell_type": "code",
   "execution_count": 16,
   "id": "ca707fd7-8047-4acd-bfa5-66248fbbf8e6",
   "metadata": {
    "execution": {
     "iopub.execute_input": "2025-07-30T20:20:18.682926Z",
     "iopub.status.busy": "2025-07-30T20:20:18.682136Z",
     "iopub.status.idle": "2025-07-30T20:20:18.687438Z",
     "shell.execute_reply": "2025-07-30T20:20:18.686430Z"
    },
    "papermill": {
     "duration": 0.031117,
     "end_time": "2025-07-30T20:20:18.689098",
     "exception": false,
     "start_time": "2025-07-30T20:20:18.657981",
     "status": "completed"
    },
    "tags": []
   },
   "outputs": [],
   "source": [
    "#universe[\"training_year\"]"
   ]
  },
  {
   "cell_type": "code",
   "execution_count": 17,
   "id": "aea9c6ef-6f46-42c8-85eb-5a62025c1508",
   "metadata": {
    "execution": {
     "iopub.execute_input": "2025-07-30T20:20:18.735986Z",
     "iopub.status.busy": "2025-07-30T20:20:18.735354Z",
     "iopub.status.idle": "2025-07-30T20:20:19.407710Z",
     "shell.execute_reply": "2025-07-30T20:20:19.406684Z"
    },
    "papermill": {
     "duration": 0.697302,
     "end_time": "2025-07-30T20:20:19.409828",
     "exception": false,
     "start_time": "2025-07-30T20:20:18.712526",
     "status": "completed"
    },
    "tags": []
   },
   "outputs": [],
   "source": [
    "siab_train = sample_by_year_size(siab,\n",
    "                               training_year=universe[\"training_year\"],\n",
    "                               training_size=universe[\"training_size\"])"
   ]
  },
  {
   "cell_type": "code",
   "execution_count": 18,
   "id": "8d3afb32-789d-442c-8d5d-9f5aa8dd2eed",
   "metadata": {
    "execution": {
     "iopub.execute_input": "2025-07-30T20:20:19.457911Z",
     "iopub.status.busy": "2025-07-30T20:20:19.457373Z",
     "iopub.status.idle": "2025-07-30T20:20:19.462906Z",
     "shell.execute_reply": "2025-07-30T20:20:19.461774Z"
    },
    "papermill": {
     "duration": 0.030986,
     "end_time": "2025-07-30T20:20:19.464925",
     "exception": false,
     "start_time": "2025-07-30T20:20:19.433939",
     "status": "completed"
    },
    "tags": []
   },
   "outputs": [],
   "source": [
    "#siab_train.shape"
   ]
  },
  {
   "cell_type": "code",
   "execution_count": 19,
   "id": "d582db68-1a4c-47fb-84fc-08518dc1975a",
   "metadata": {
    "execution": {
     "iopub.execute_input": "2025-07-30T20:20:19.513842Z",
     "iopub.status.busy": "2025-07-30T20:20:19.513295Z",
     "iopub.status.idle": "2025-07-30T20:20:19.518888Z",
     "shell.execute_reply": "2025-07-30T20:20:19.517715Z"
    },
    "papermill": {
     "duration": 0.031666,
     "end_time": "2025-07-30T20:20:19.520678",
     "exception": false,
     "start_time": "2025-07-30T20:20:19.489012",
     "status": "completed"
    },
    "tags": []
   },
   "outputs": [],
   "source": [
    "#display(siab_train.groupby(\"year\").size())"
   ]
  },
  {
   "cell_type": "code",
   "execution_count": 20,
   "id": "a561edb4-d032-42cb-8256-22eac1111c64",
   "metadata": {
    "execution": {
     "iopub.execute_input": "2025-07-30T20:20:19.567589Z",
     "iopub.status.busy": "2025-07-30T20:20:19.566637Z",
     "iopub.status.idle": "2025-07-30T20:20:19.809084Z",
     "shell.execute_reply": "2025-07-30T20:20:19.807986Z"
    },
    "papermill": {
     "duration": 0.26685,
     "end_time": "2025-07-30T20:20:19.810666",
     "exception": false,
     "start_time": "2025-07-30T20:20:19.543816",
     "status": "completed"
    },
    "tags": []
   },
   "outputs": [],
   "source": [
    "#siab_train = siab_s[siab_s.year < 2015]\n",
    "siab_calib = siab[siab.year == 2015]\n",
    "siab_test = siab[siab.year == 2016]"
   ]
  },
  {
   "cell_type": "code",
   "execution_count": 21,
   "id": "472de16f-c3db-4916-846b-1f0de9cf1746",
   "metadata": {
    "execution": {
     "iopub.execute_input": "2025-07-30T20:20:19.859282Z",
     "iopub.status.busy": "2025-07-30T20:20:19.858510Z",
     "iopub.status.idle": "2025-07-30T20:20:19.874181Z",
     "shell.execute_reply": "2025-07-30T20:20:19.873032Z"
    },
    "papermill": {
     "duration": 0.041675,
     "end_time": "2025-07-30T20:20:19.875833",
     "exception": false,
     "start_time": "2025-07-30T20:20:19.834158",
     "status": "completed"
    },
    "tags": []
   },
   "outputs": [],
   "source": [
    "X_train = siab_train.iloc[:,4:164]\n",
    "y_train = siab_train.iloc[:, [3]]"
   ]
  },
  {
   "cell_type": "code",
   "execution_count": 22,
   "id": "828c96af-f43a-4ed6-ba47-8ac73a47d56c",
   "metadata": {
    "execution": {
     "iopub.execute_input": "2025-07-30T20:20:19.923077Z",
     "iopub.status.busy": "2025-07-30T20:20:19.922360Z",
     "iopub.status.idle": "2025-07-30T20:20:20.017699Z",
     "shell.execute_reply": "2025-07-30T20:20:20.016628Z"
    },
    "papermill": {
     "duration": 0.121944,
     "end_time": "2025-07-30T20:20:20.019495",
     "exception": false,
     "start_time": "2025-07-30T20:20:19.897551",
     "status": "completed"
    },
    "tags": []
   },
   "outputs": [],
   "source": [
    "X_calib = siab_calib.iloc[:,4:164]\n",
    "y_calib = siab_calib.iloc[:, [3]]"
   ]
  },
  {
   "cell_type": "code",
   "execution_count": 23,
   "id": "c34be9c3-6bd6-476e-acd3-845840e303be",
   "metadata": {
    "execution": {
     "iopub.execute_input": "2025-07-30T20:20:20.067819Z",
     "iopub.status.busy": "2025-07-30T20:20:20.066915Z",
     "iopub.status.idle": "2025-07-30T20:20:20.119883Z",
     "shell.execute_reply": "2025-07-30T20:20:20.118611Z"
    },
    "papermill": {
     "duration": 0.078427,
     "end_time": "2025-07-30T20:20:20.121624",
     "exception": false,
     "start_time": "2025-07-30T20:20:20.043197",
     "status": "completed"
    },
    "tags": []
   },
   "outputs": [],
   "source": [
    "X_test = siab_test.iloc[:,4:164]\n",
    "y_true = siab_test.iloc[:, [3]]"
   ]
  },
  {
   "cell_type": "markdown",
   "id": "9901737e-04df-44f0-9100-f5ad144ed040",
   "metadata": {
    "papermill": {
     "duration": 0.022633,
     "end_time": "2025-07-30T20:20:20.167953",
     "exception": false,
     "start_time": "2025-07-30T20:20:20.145320",
     "status": "completed"
    },
    "tags": []
   },
   "source": [
    "# Splitting Data and Setting Training Data Size OLD VERSION"
   ]
  },
  {
   "cell_type": "code",
   "execution_count": 24,
   "id": "acbc8f7d-8fc8-4e86-8c59-5dcb0f58384b",
   "metadata": {
    "execution": {
     "iopub.execute_input": "2025-07-30T20:20:20.214214Z",
     "iopub.status.busy": "2025-07-30T20:20:20.213514Z",
     "iopub.status.idle": "2025-07-30T20:20:20.219997Z",
     "shell.execute_reply": "2025-07-30T20:20:20.218834Z"
    },
    "papermill": {
     "duration": 0.03146,
     "end_time": "2025-07-30T20:20:20.221771",
     "exception": false,
     "start_time": "2025-07-30T20:20:20.190311",
     "status": "completed"
    },
    "tags": []
   },
   "outputs": [],
   "source": [
    "#def sample_by_year(df, training_size, random_state=42):\n",
    "#    if training_size == \"2014\":\n",
    "#        return df[df[\"year\"] == 2014].reset_index(drop=True)\n",
    "#    \n",
    "#    size_map = {\n",
    "#        \"25k\": 5000,\n",
    "#        \"5k\": 1000,\n",
    "#        \"1k\": 200\n",
    "#    }\n",
    "#\n",
    "#    if training_size not in size_map:\n",
    "#        return df.reset_index(drop=True)  # use all data\n",
    "#\n",
    "#    n_per_year = size_map[training_size]\n",
    "#    grouped = df.groupby(\"year\")\n",
    "#    sampled = grouped.apply(lambda x: x.sample(n=min(n_per_year, len(x)), random_state=random_state))\n",
    "#    return sampled.reset_index(drop=True)"
   ]
  },
  {
   "cell_type": "code",
   "execution_count": 25,
   "id": "6d931f52-beaf-43ff-9e78-9d44a448d54e",
   "metadata": {
    "execution": {
     "iopub.execute_input": "2025-07-30T20:20:20.269895Z",
     "iopub.status.busy": "2025-07-30T20:20:20.268909Z",
     "iopub.status.idle": "2025-07-30T20:20:20.274912Z",
     "shell.execute_reply": "2025-07-30T20:20:20.273706Z"
    },
    "papermill": {
     "duration": 0.031745,
     "end_time": "2025-07-30T20:20:20.276768",
     "exception": false,
     "start_time": "2025-07-30T20:20:20.245023",
     "status": "completed"
    },
    "tags": []
   },
   "outputs": [],
   "source": [
    "#siab_s = sample_by_year(siab, universe[\"training_size\"])"
   ]
  },
  {
   "cell_type": "code",
   "execution_count": 26,
   "id": "5db0a40e-a4e2-4920-be85-b12ae061d70d",
   "metadata": {
    "execution": {
     "iopub.execute_input": "2025-07-30T20:20:20.329517Z",
     "iopub.status.busy": "2025-07-30T20:20:20.328918Z",
     "iopub.status.idle": "2025-07-30T20:20:20.335997Z",
     "shell.execute_reply": "2025-07-30T20:20:20.334929Z"
    },
    "papermill": {
     "duration": 0.035722,
     "end_time": "2025-07-30T20:20:20.337871",
     "exception": false,
     "start_time": "2025-07-30T20:20:20.302149",
     "status": "completed"
    },
    "tags": []
   },
   "outputs": [],
   "source": [
    "#display(siab_s.groupby(\"year\").size())"
   ]
  },
  {
   "cell_type": "code",
   "execution_count": 27,
   "id": "e6c733c5",
   "metadata": {
    "execution": {
     "iopub.execute_input": "2025-07-30T20:20:20.388546Z",
     "iopub.status.busy": "2025-07-30T20:20:20.388071Z",
     "iopub.status.idle": "2025-07-30T20:20:20.494522Z",
     "shell.execute_reply": "2025-07-30T20:20:20.493421Z"
    },
    "papermill": {
     "duration": 0.133987,
     "end_time": "2025-07-30T20:20:20.496654",
     "exception": false,
     "start_time": "2025-07-30T20:20:20.362667",
     "status": "completed"
    },
    "tags": []
   },
   "outputs": [],
   "source": [
    "# Auxiliary data needed downstream in the pipeline\n",
    "\n",
    "org_train = X_train.copy()\n",
    "org_test = X_test.copy()\n",
    "org_calib = X_calib.copy()"
   ]
  },
  {
   "cell_type": "code",
   "execution_count": 28,
   "id": "1466abac-c6da-4492-a62f-4240ae3783af",
   "metadata": {
    "execution": {
     "iopub.execute_input": "2025-07-30T20:20:20.545936Z",
     "iopub.status.busy": "2025-07-30T20:20:20.545440Z",
     "iopub.status.idle": "2025-07-30T20:20:20.551216Z",
     "shell.execute_reply": "2025-07-30T20:20:20.550283Z"
    },
    "papermill": {
     "duration": 0.030477,
     "end_time": "2025-07-30T20:20:20.552741",
     "exception": false,
     "start_time": "2025-07-30T20:20:20.522264",
     "status": "completed"
    },
    "tags": []
   },
   "outputs": [],
   "source": [
    "# put in other script?\n",
    "# Group sizes\n",
    "\n",
    "#def calculate_percentages(df, df_name):\n",
    "#    total_entries = len(df)\n",
    "#\n",
    "#    female_pct = (df['frau1'] == 1).mean() * 100\n",
    "#    non_german_pct = ((df['maxdeutsch1'] == 0) & (df['maxdeutsch.Missing.'] == 0)).mean() * 100\n",
    "#    non_german_male_pct = ((df['frau1'] == 0) & (df['maxdeutsch1'] == 0) & (df['maxdeutsch.Missing.'] == 0)).mean() * 100\n",
    "#    non_german_female_pct = ((df['frau1'] == 1) & (df['maxdeutsch1'] == 0) & (df['maxdeutsch.Missing.'] == 0)).mean() * 100\n",
    "#\n",
    "#    print(f\"--- {df_name} ---\")\n",
    "#    print(f\"Female: {female_pct:.2f}%\")\n",
    "#    print(f\"Non-German: {non_german_pct:.2f}%\")\n",
    "#    print(f\"Non-German Male: {non_german_male_pct:.2f}%\")\n",
    "#    print(f\"Non-German Female: {non_german_female_pct:.2f}%\\n\")\n",
    "#\n",
    "## Calculate for each DataFrame\n",
    "#calculate_percentages(siab_calib, \"siab_calib\")\n",
    "#calculate_percentages(siab_test, \"siab_test\")\n",
    "#calculate_percentages(siab_train, \"siab_train\")"
   ]
  },
  {
   "cell_type": "markdown",
   "id": "0a4a1b33",
   "metadata": {
    "papermill": {
     "duration": 0.020296,
     "end_time": "2025-07-30T20:20:20.594177",
     "exception": false,
     "start_time": "2025-07-30T20:20:20.573881",
     "status": "completed"
    },
    "tags": []
   },
   "source": [
    "# Preprocessing Data"
   ]
  },
  {
   "cell_type": "code",
   "execution_count": 29,
   "id": "ca879031",
   "metadata": {
    "execution": {
     "iopub.execute_input": "2025-07-30T20:20:20.636363Z",
     "iopub.status.busy": "2025-07-30T20:20:20.635829Z",
     "iopub.status.idle": "2025-07-30T20:20:20.642176Z",
     "shell.execute_reply": "2025-07-30T20:20:20.641165Z"
    },
    "papermill": {
     "duration": 0.030934,
     "end_time": "2025-07-30T20:20:20.645334",
     "exception": false,
     "start_time": "2025-07-30T20:20:20.614400",
     "status": "completed"
    },
    "tags": []
   },
   "outputs": [],
   "source": [
    "# EXCLUDE PROTECTED FEATURES\n",
    "# ----------------------\n",
    "# \"exclude_features\": \"none\", # \"nationality\", \"sex\", \"nationality-sex\"\n",
    "\n",
    "excluded_features = universe[\"exclude_features\"].split(\"-\") # split, e.g.: \"nationality-sex\" -> [\"nationality\", \"sex\"]\n",
    "excluded_features_dictionary = {\n",
    "    \"nationality\": [\"maxdeutsch1\", \"maxdeutsch.Missing.\"],\n",
    "    \"sex\": [\"frau1\"],\n",
    "    \"age\": [\"age\"],\n",
    "}\n"
   ]
  },
  {
   "cell_type": "code",
   "execution_count": 30,
   "id": "b745ac60",
   "metadata": {
    "execution": {
     "iopub.execute_input": "2025-07-30T20:20:20.694628Z",
     "iopub.status.busy": "2025-07-30T20:20:20.693623Z",
     "iopub.status.idle": "2025-07-30T20:20:20.699897Z",
     "shell.execute_reply": "2025-07-30T20:20:20.698929Z"
    },
    "papermill": {
     "duration": 0.032243,
     "end_time": "2025-07-30T20:20:20.701586",
     "exception": false,
     "start_time": "2025-07-30T20:20:20.669343",
     "status": "completed"
    },
    "tags": []
   },
   "outputs": [],
   "source": [
    "# Code nice names to column names\n",
    "\n",
    "excluded_features_columns = [\n",
    "    excluded_features_dictionary[f] for f in excluded_features if len(f) > 0 and f != \"none\"\n",
    "]"
   ]
  },
  {
   "cell_type": "code",
   "execution_count": 31,
   "id": "f84f73a2",
   "metadata": {
    "execution": {
     "iopub.execute_input": "2025-07-30T20:20:20.750150Z",
     "iopub.status.busy": "2025-07-30T20:20:20.749696Z",
     "iopub.status.idle": "2025-07-30T20:20:20.756162Z",
     "shell.execute_reply": "2025-07-30T20:20:20.755099Z"
    },
    "papermill": {
     "duration": 0.030706,
     "end_time": "2025-07-30T20:20:20.757644",
     "exception": false,
     "start_time": "2025-07-30T20:20:20.726938",
     "status": "completed"
    },
    "tags": []
   },
   "outputs": [],
   "source": [
    "from utils import flatten_once\n",
    "\n",
    "excluded_features_columns = flatten_once(excluded_features_columns)"
   ]
  },
  {
   "cell_type": "code",
   "execution_count": 32,
   "id": "884dea22",
   "metadata": {
    "execution": {
     "iopub.execute_input": "2025-07-30T20:20:20.804668Z",
     "iopub.status.busy": "2025-07-30T20:20:20.803983Z",
     "iopub.status.idle": "2025-07-30T20:20:20.818014Z",
     "shell.execute_reply": "2025-07-30T20:20:20.817318Z"
    },
    "papermill": {
     "duration": 0.038465,
     "end_time": "2025-07-30T20:20:20.819241",
     "exception": false,
     "start_time": "2025-07-30T20:20:20.780776",
     "status": "completed"
    },
    "tags": []
   },
   "outputs": [],
   "source": [
    "if len(excluded_features_columns) > 0:\n",
    "    print(f\"Dropping features: {excluded_features_columns}\")\n",
    "    X_train.drop(excluded_features_columns, axis=1, inplace=True)"
   ]
  },
  {
   "cell_type": "code",
   "execution_count": 33,
   "id": "95ab8b16",
   "metadata": {
    "execution": {
     "iopub.execute_input": "2025-07-30T20:20:20.843845Z",
     "iopub.status.busy": "2025-07-30T20:20:20.843349Z",
     "iopub.status.idle": "2025-07-30T20:20:20.848519Z",
     "shell.execute_reply": "2025-07-30T20:20:20.847802Z"
    },
    "papermill": {
     "duration": 0.018538,
     "end_time": "2025-07-30T20:20:20.849779",
     "exception": false,
     "start_time": "2025-07-30T20:20:20.831241",
     "status": "completed"
    },
    "tags": []
   },
   "outputs": [],
   "source": [
    "if len(excluded_features_columns) > 0:\n",
    "    print(f\"Dropping features: {excluded_features_columns}\")\n",
    "    X_test.drop(excluded_features_columns, axis=1, inplace=True)"
   ]
  },
  {
   "cell_type": "code",
   "execution_count": 34,
   "id": "1853aaf5-fb9f-46cb-a2b5-8ea4ae2237e4",
   "metadata": {
    "execution": {
     "iopub.execute_input": "2025-07-30T20:20:20.879479Z",
     "iopub.status.busy": "2025-07-30T20:20:20.878777Z",
     "iopub.status.idle": "2025-07-30T20:20:20.883764Z",
     "shell.execute_reply": "2025-07-30T20:20:20.883043Z"
    },
    "papermill": {
     "duration": 0.018681,
     "end_time": "2025-07-30T20:20:20.885354",
     "exception": false,
     "start_time": "2025-07-30T20:20:20.866673",
     "status": "completed"
    },
    "tags": []
   },
   "outputs": [],
   "source": [
    "if len(excluded_features_columns) > 0:\n",
    "    print(f\"Dropping features: {excluded_features_columns}\")\n",
    "    X_calib.drop(excluded_features_columns, axis=1, inplace=True)"
   ]
  },
  {
   "cell_type": "code",
   "execution_count": 35,
   "id": "6727d079-03e5-481e-9d38-292a90b7a0a8",
   "metadata": {
    "execution": {
     "iopub.execute_input": "2025-07-30T20:20:20.934953Z",
     "iopub.status.busy": "2025-07-30T20:20:20.934221Z",
     "iopub.status.idle": "2025-07-30T20:20:20.939869Z",
     "shell.execute_reply": "2025-07-30T20:20:20.938807Z"
    },
    "papermill": {
     "duration": 0.03281,
     "end_time": "2025-07-30T20:20:20.941714",
     "exception": false,
     "start_time": "2025-07-30T20:20:20.908904",
     "status": "completed"
    },
    "tags": []
   },
   "outputs": [],
   "source": [
    "# SPLIT & STRATIFY DATA\n",
    "# ----------------------"
   ]
  },
  {
   "cell_type": "code",
   "execution_count": 36,
   "id": "76c4dc6d",
   "metadata": {
    "execution": {
     "iopub.execute_input": "2025-07-30T20:20:20.994747Z",
     "iopub.status.busy": "2025-07-30T20:20:20.993956Z",
     "iopub.status.idle": "2025-07-30T20:20:21.001448Z",
     "shell.execute_reply": "2025-07-30T20:20:21.000404Z"
    },
    "papermill": {
     "duration": 0.037561,
     "end_time": "2025-07-30T20:20:21.003646",
     "exception": false,
     "start_time": "2025-07-30T20:20:20.966085",
     "status": "completed"
    },
    "tags": []
   },
   "outputs": [],
   "source": [
    "# EXCLUDE CERTAIN SUBGROUPS\n",
    "# ----------------------\n",
    "\n",
    "mode = universe.get(\"exclude_subgroups\", \"keep-all\") \n",
    "# Fetches the exclude_subgroups setting from the universe dict.\n",
    "# Defaults to \"keep-all\" if the key is missing."
   ]
  },
  {
   "cell_type": "code",
   "execution_count": 37,
   "id": "21994072",
   "metadata": {
    "execution": {
     "iopub.execute_input": "2025-07-30T20:20:21.054532Z",
     "iopub.status.busy": "2025-07-30T20:20:21.053686Z",
     "iopub.status.idle": "2025-07-30T20:20:21.061247Z",
     "shell.execute_reply": "2025-07-30T20:20:21.060203Z"
    },
    "papermill": {
     "duration": 0.034073,
     "end_time": "2025-07-30T20:20:21.062980",
     "exception": false,
     "start_time": "2025-07-30T20:20:21.028907",
     "status": "completed"
    },
    "tags": []
   },
   "outputs": [],
   "source": [
    "if mode == \"keep-all\":\n",
    "    keep_mask = pd.Series(True, index=org_train.index)\n",
    "\n",
    "# org_train contains the original feature columns from features_org (in Simson)\n",
    "# features_org contains unprocessed features, for me X_train at beginning ???\n",
    "# For keep-all, creates a boolean Series (keep_mask) of all True, so no rows are removed.\n",
    "\n",
    "elif mode == \"drop-non-german\":\n",
    "    keep_mask = org_train[\"maxdeutsch1\"] == 1 # ??? what about missing values?\n",
    "\n",
    "else:\n",
    "    raise ValueError(f\"Unsupported mode for exclude_subgroups: {mode}\")\n"
   ]
  },
  {
   "cell_type": "code",
   "execution_count": 38,
   "id": "71651440",
   "metadata": {
    "execution": {
     "iopub.execute_input": "2025-07-30T20:20:21.111741Z",
     "iopub.status.busy": "2025-07-30T20:20:21.110855Z",
     "iopub.status.idle": "2025-07-30T20:20:21.118282Z",
     "shell.execute_reply": "2025-07-30T20:20:21.117162Z"
    },
    "papermill": {
     "duration": 0.032801,
     "end_time": "2025-07-30T20:20:21.119976",
     "exception": false,
     "start_time": "2025-07-30T20:20:21.087175",
     "status": "completed"
    },
    "tags": []
   },
   "outputs": [],
   "source": [
    "n_drop = (~keep_mask).sum() # Calculates how many rows are set to be dropped\n",
    "if n_drop > 0:\n",
    "    pct = n_drop / len(keep_mask) * 100\n",
    "    print(f\"Dropping {n_drop} rows ({pct:.2f}%) where mode='{mode}'\")"
   ]
  },
  {
   "cell_type": "code",
   "execution_count": 39,
   "id": "5fb8eee5",
   "metadata": {
    "execution": {
     "iopub.execute_input": "2025-07-30T20:20:21.170367Z",
     "iopub.status.busy": "2025-07-30T20:20:21.169421Z",
     "iopub.status.idle": "2025-07-30T20:20:21.193710Z",
     "shell.execute_reply": "2025-07-30T20:20:21.192745Z"
    },
    "papermill": {
     "duration": 0.051377,
     "end_time": "2025-07-30T20:20:21.195993",
     "exception": false,
     "start_time": "2025-07-30T20:20:21.144616",
     "status": "completed"
    },
    "tags": []
   },
   "outputs": [],
   "source": [
    "X_train = X_train[keep_mask]"
   ]
  },
  {
   "cell_type": "code",
   "execution_count": 40,
   "id": "b202bb3a",
   "metadata": {
    "execution": {
     "iopub.execute_input": "2025-07-30T20:20:21.241139Z",
     "iopub.status.busy": "2025-07-30T20:20:21.240452Z",
     "iopub.status.idle": "2025-07-30T20:20:21.247487Z",
     "shell.execute_reply": "2025-07-30T20:20:21.246576Z"
    },
    "papermill": {
     "duration": 0.031145,
     "end_time": "2025-07-30T20:20:21.249164",
     "exception": false,
     "start_time": "2025-07-30T20:20:21.218019",
     "status": "completed"
    },
    "tags": []
   },
   "outputs": [],
   "source": [
    "y_train = y_train[keep_mask]"
   ]
  },
  {
   "cell_type": "markdown",
   "id": "493e2ac3",
   "metadata": {
    "papermill": {
     "duration": 0.023664,
     "end_time": "2025-07-30T20:20:21.296228",
     "exception": false,
     "start_time": "2025-07-30T20:20:21.272564",
     "status": "completed"
    },
    "tags": []
   },
   "source": [
    "# Model Training"
   ]
  },
  {
   "cell_type": "code",
   "execution_count": 41,
   "id": "679e1268",
   "metadata": {
    "execution": {
     "iopub.execute_input": "2025-07-30T20:20:21.345049Z",
     "iopub.status.busy": "2025-07-30T20:20:21.344133Z",
     "iopub.status.idle": "2025-07-30T20:20:21.430179Z",
     "shell.execute_reply": "2025-07-30T20:20:21.429173Z"
    },
    "papermill": {
     "duration": 0.112268,
     "end_time": "2025-07-30T20:20:21.432174",
     "exception": false,
     "start_time": "2025-07-30T20:20:21.319906",
     "status": "completed"
    },
    "tags": []
   },
   "outputs": [],
   "source": [
    "from sklearn.linear_model import LogisticRegression\n",
    "from sklearn.ensemble import GradientBoostingClassifier, RandomForestClassifier\n",
    "\n",
    "if (universe[\"model\"] == \"logreg\"):\n",
    "    model = LogisticRegression() #penalty=\"none\") #, solver=\"newton-cg\", max_iter=1) # include random_state=19 ?\n",
    "elif (universe[\"model\"] == \"penalized_logreg\"):\n",
    "    model = LogisticRegression(penalty=\"l2\", C=1.0) #, solver=\"newton-cg\", max_iter=1)\n",
    "elif (universe[\"model\"] == \"rf\"):\n",
    "    model = RandomForestClassifier(n_estimators=100, n_jobs=-1)\n",
    "elif (universe[\"model\"] == \"gbm\"):\n",
    "    model = GradientBoostingClassifier()\n",
    "elif (universe[\"model\"] == \"elasticnet\"):\n",
    "    model = LogisticRegression(penalty = 'elasticnet', solver = 'saga', l1_ratio = 0.5, max_iter=5000) # which solver to use?\n",
    "else:\n",
    "    raise \"Unsupported universe.model\""
   ]
  },
  {
   "cell_type": "code",
   "execution_count": 42,
   "id": "0cc8f744",
   "metadata": {
    "execution": {
     "iopub.execute_input": "2025-07-30T20:20:21.481071Z",
     "iopub.status.busy": "2025-07-30T20:20:21.480154Z",
     "iopub.status.idle": "2025-07-30T20:20:21.486856Z",
     "shell.execute_reply": "2025-07-30T20:20:21.485777Z"
    },
    "papermill": {
     "duration": 0.031579,
     "end_time": "2025-07-30T20:20:21.488521",
     "exception": false,
     "start_time": "2025-07-30T20:20:21.456942",
     "status": "completed"
    },
    "tags": []
   },
   "outputs": [],
   "source": [
    "import numpy as np\n",
    "from sklearn.pipeline import Pipeline\n",
    "from sklearn.preprocessing import StandardScaler\n",
    "\n",
    "model = Pipeline([\n",
    "    #(\"continuous_processor\", continuous_processor),\n",
    "    #(\"categorical_preprocessor\", categorical_preprocessor),\n",
    "    (\"scale\", StandardScaler() if universe[\"scale\"] == \"scale\" else None), \n",
    "    (\"model\", model),\n",
    "])"
   ]
  },
  {
   "cell_type": "code",
   "execution_count": 43,
   "id": "9442c04d",
   "metadata": {
    "execution": {
     "iopub.execute_input": "2025-07-30T20:20:21.536616Z",
     "iopub.status.busy": "2025-07-30T20:20:21.536112Z",
     "iopub.status.idle": "2025-07-30T20:23:53.317015Z",
     "shell.execute_reply": "2025-07-30T20:23:53.316011Z"
    },
    "papermill": {
     "duration": 211.839787,
     "end_time": "2025-07-30T20:23:53.351715",
     "exception": false,
     "start_time": "2025-07-30T20:20:21.511928",
     "status": "completed"
    },
    "tags": []
   },
   "outputs": [
    {
     "data": {
      "text/html": [
       "<style>#sk-container-id-1 {color: black;background-color: white;}#sk-container-id-1 pre{padding: 0;}#sk-container-id-1 div.sk-toggleable {background-color: white;}#sk-container-id-1 label.sk-toggleable__label {cursor: pointer;display: block;width: 100%;margin-bottom: 0;padding: 0.3em;box-sizing: border-box;text-align: center;}#sk-container-id-1 label.sk-toggleable__label-arrow:before {content: \"▸\";float: left;margin-right: 0.25em;color: #696969;}#sk-container-id-1 label.sk-toggleable__label-arrow:hover:before {color: black;}#sk-container-id-1 div.sk-estimator:hover label.sk-toggleable__label-arrow:before {color: black;}#sk-container-id-1 div.sk-toggleable__content {max-height: 0;max-width: 0;overflow: hidden;text-align: left;background-color: #f0f8ff;}#sk-container-id-1 div.sk-toggleable__content pre {margin: 0.2em;color: black;border-radius: 0.25em;background-color: #f0f8ff;}#sk-container-id-1 input.sk-toggleable__control:checked~div.sk-toggleable__content {max-height: 200px;max-width: 100%;overflow: auto;}#sk-container-id-1 input.sk-toggleable__control:checked~label.sk-toggleable__label-arrow:before {content: \"▾\";}#sk-container-id-1 div.sk-estimator input.sk-toggleable__control:checked~label.sk-toggleable__label {background-color: #d4ebff;}#sk-container-id-1 div.sk-label input.sk-toggleable__control:checked~label.sk-toggleable__label {background-color: #d4ebff;}#sk-container-id-1 input.sk-hidden--visually {border: 0;clip: rect(1px 1px 1px 1px);clip: rect(1px, 1px, 1px, 1px);height: 1px;margin: -1px;overflow: hidden;padding: 0;position: absolute;width: 1px;}#sk-container-id-1 div.sk-estimator {font-family: monospace;background-color: #f0f8ff;border: 1px dotted black;border-radius: 0.25em;box-sizing: border-box;margin-bottom: 0.5em;}#sk-container-id-1 div.sk-estimator:hover {background-color: #d4ebff;}#sk-container-id-1 div.sk-parallel-item::after {content: \"\";width: 100%;border-bottom: 1px solid gray;flex-grow: 1;}#sk-container-id-1 div.sk-label:hover label.sk-toggleable__label {background-color: #d4ebff;}#sk-container-id-1 div.sk-serial::before {content: \"\";position: absolute;border-left: 1px solid gray;box-sizing: border-box;top: 0;bottom: 0;left: 50%;z-index: 0;}#sk-container-id-1 div.sk-serial {display: flex;flex-direction: column;align-items: center;background-color: white;padding-right: 0.2em;padding-left: 0.2em;position: relative;}#sk-container-id-1 div.sk-item {position: relative;z-index: 1;}#sk-container-id-1 div.sk-parallel {display: flex;align-items: stretch;justify-content: center;background-color: white;position: relative;}#sk-container-id-1 div.sk-item::before, #sk-container-id-1 div.sk-parallel-item::before {content: \"\";position: absolute;border-left: 1px solid gray;box-sizing: border-box;top: 0;bottom: 0;left: 50%;z-index: -1;}#sk-container-id-1 div.sk-parallel-item {display: flex;flex-direction: column;z-index: 1;position: relative;background-color: white;}#sk-container-id-1 div.sk-parallel-item:first-child::after {align-self: flex-end;width: 50%;}#sk-container-id-1 div.sk-parallel-item:last-child::after {align-self: flex-start;width: 50%;}#sk-container-id-1 div.sk-parallel-item:only-child::after {width: 0;}#sk-container-id-1 div.sk-dashed-wrapped {border: 1px dashed gray;margin: 0 0.4em 0.5em 0.4em;box-sizing: border-box;padding-bottom: 0.4em;background-color: white;}#sk-container-id-1 div.sk-label label {font-family: monospace;font-weight: bold;display: inline-block;line-height: 1.2em;}#sk-container-id-1 div.sk-label-container {text-align: center;}#sk-container-id-1 div.sk-container {/* jupyter's `normalize.less` sets `[hidden] { display: none; }` but bootstrap.min.css set `[hidden] { display: none !important; }` so we also need the `!important` here to be able to override the default hidden behavior on the sphinx rendered scikit-learn.org. See: https://github.com/scikit-learn/scikit-learn/issues/21755 */display: inline-block !important;position: relative;}#sk-container-id-1 div.sk-text-repr-fallback {display: none;}</style><div id=\"sk-container-id-1\" class=\"sk-top-container\"><div class=\"sk-text-repr-fallback\"><pre>Pipeline(steps=[(&#x27;scale&#x27;, None),\n",
       "                (&#x27;model&#x27;,\n",
       "                 LogisticRegression(l1_ratio=0.5, max_iter=5000,\n",
       "                                    penalty=&#x27;elasticnet&#x27;, solver=&#x27;saga&#x27;))])</pre><b>In a Jupyter environment, please rerun this cell to show the HTML representation or trust the notebook. <br />On GitHub, the HTML representation is unable to render, please try loading this page with nbviewer.org.</b></div><div class=\"sk-container\" hidden><div class=\"sk-item sk-dashed-wrapped\"><div class=\"sk-label-container\"><div class=\"sk-label sk-toggleable\"><input class=\"sk-toggleable__control sk-hidden--visually\" id=\"sk-estimator-id-1\" type=\"checkbox\" ><label for=\"sk-estimator-id-1\" class=\"sk-toggleable__label sk-toggleable__label-arrow\">Pipeline</label><div class=\"sk-toggleable__content\"><pre>Pipeline(steps=[(&#x27;scale&#x27;, None),\n",
       "                (&#x27;model&#x27;,\n",
       "                 LogisticRegression(l1_ratio=0.5, max_iter=5000,\n",
       "                                    penalty=&#x27;elasticnet&#x27;, solver=&#x27;saga&#x27;))])</pre></div></div></div><div class=\"sk-serial\"><div class=\"sk-item\"><div class=\"sk-estimator sk-toggleable\"><input class=\"sk-toggleable__control sk-hidden--visually\" id=\"sk-estimator-id-2\" type=\"checkbox\" ><label for=\"sk-estimator-id-2\" class=\"sk-toggleable__label sk-toggleable__label-arrow\">None</label><div class=\"sk-toggleable__content\"><pre>None</pre></div></div></div><div class=\"sk-item\"><div class=\"sk-estimator sk-toggleable\"><input class=\"sk-toggleable__control sk-hidden--visually\" id=\"sk-estimator-id-3\" type=\"checkbox\" ><label for=\"sk-estimator-id-3\" class=\"sk-toggleable__label sk-toggleable__label-arrow\">LogisticRegression</label><div class=\"sk-toggleable__content\"><pre>LogisticRegression(l1_ratio=0.5, max_iter=5000, penalty=&#x27;elasticnet&#x27;,\n",
       "                   solver=&#x27;saga&#x27;)</pre></div></div></div></div></div></div></div>"
      ],
      "text/plain": [
       "Pipeline(steps=[('scale', None),\n",
       "                ('model',\n",
       "                 LogisticRegression(l1_ratio=0.5, max_iter=5000,\n",
       "                                    penalty='elasticnet', solver='saga'))])"
      ]
     },
     "execution_count": 43,
     "metadata": {},
     "output_type": "execute_result"
    }
   ],
   "source": [
    "model.fit(X_train, y_train.values.ravel())"
   ]
  },
  {
   "cell_type": "code",
   "execution_count": 44,
   "id": "af59f8c0",
   "metadata": {
    "execution": {
     "iopub.execute_input": "2025-07-30T20:23:53.405985Z",
     "iopub.status.busy": "2025-07-30T20:23:53.404982Z",
     "iopub.status.idle": "2025-07-30T20:23:53.411579Z",
     "shell.execute_reply": "2025-07-30T20:23:53.410493Z"
    },
    "papermill": {
     "duration": 0.036737,
     "end_time": "2025-07-30T20:23:53.413421",
     "exception": false,
     "start_time": "2025-07-30T20:23:53.376684",
     "status": "completed"
    },
    "tags": []
   },
   "outputs": [],
   "source": [
    "from fairness_multiverse.universe import predict_w_threshold"
   ]
  },
  {
   "cell_type": "code",
   "execution_count": 45,
   "id": "a7cf2e16",
   "metadata": {
    "execution": {
     "iopub.execute_input": "2025-07-30T20:23:53.466974Z",
     "iopub.status.busy": "2025-07-30T20:23:53.466248Z",
     "iopub.status.idle": "2025-07-30T20:23:53.569529Z",
     "shell.execute_reply": "2025-07-30T20:23:53.568573Z"
    },
    "papermill": {
     "duration": 0.132826,
     "end_time": "2025-07-30T20:23:53.572634",
     "exception": false,
     "start_time": "2025-07-30T20:23:53.439808",
     "status": "completed"
    },
    "tags": []
   },
   "outputs": [
    {
     "data": {
      "text/plain": [
       "0.8543752090067996"
      ]
     },
     "execution_count": 45,
     "metadata": {},
     "output_type": "execute_result"
    }
   ],
   "source": [
    "probs_test = model.predict_proba(X_test)\n",
    "\n",
    "'''\n",
    "Below code returns a boolean array (or binary 0/1 array depending on how it’s used) where each element \n",
    "is True if the probability of class 1 is greater than or equal to the threshold, and False otherwise.\n",
    "'''\n",
    "y_pred_default = predict_w_threshold(probs_test, 0.5)\n",
    "\n",
    "from sklearn.metrics import accuracy_score\n",
    "\n",
    "# Naive prediction\n",
    "accuracy_score(y_true = y_true, y_pred = y_pred_default)"
   ]
  },
  {
   "cell_type": "code",
   "execution_count": 46,
   "id": "081964c3",
   "metadata": {
    "execution": {
     "iopub.execute_input": "2025-07-30T20:23:53.618315Z",
     "iopub.status.busy": "2025-07-30T20:23:53.617671Z",
     "iopub.status.idle": "2025-07-30T20:23:53.712218Z",
     "shell.execute_reply": "2025-07-30T20:23:53.711246Z"
    },
    "papermill": {
     "duration": 0.118482,
     "end_time": "2025-07-30T20:23:53.713845",
     "exception": false,
     "start_time": "2025-07-30T20:23:53.595363",
     "status": "completed"
    },
    "tags": []
   },
   "outputs": [
    {
     "data": {
      "text/plain": [
       "array([0, 0, 0, ..., 0, 0, 0])"
      ]
     },
     "execution_count": 46,
     "metadata": {},
     "output_type": "execute_result"
    }
   ],
   "source": [
    "model.predict(X_test)"
   ]
  },
  {
   "cell_type": "markdown",
   "id": "56c9705b",
   "metadata": {
    "papermill": {
     "duration": 0.02063,
     "end_time": "2025-07-30T20:23:53.756176",
     "exception": false,
     "start_time": "2025-07-30T20:23:53.735546",
     "status": "completed"
    },
    "tags": []
   },
   "source": [
    "# Conformal Prediction"
   ]
  },
  {
   "cell_type": "code",
   "execution_count": 47,
   "id": "160ec6ff",
   "metadata": {
    "execution": {
     "iopub.execute_input": "2025-07-30T20:23:53.801145Z",
     "iopub.status.busy": "2025-07-30T20:23:53.800246Z",
     "iopub.status.idle": "2025-07-30T20:23:53.806101Z",
     "shell.execute_reply": "2025-07-30T20:23:53.804994Z"
    },
    "papermill": {
     "duration": 0.029486,
     "end_time": "2025-07-30T20:23:53.807851",
     "exception": false,
     "start_time": "2025-07-30T20:23:53.778365",
     "status": "completed"
    },
    "tags": []
   },
   "outputs": [],
   "source": [
    "# Miscoverage level for conformal prediction (10% allowed error rate => 90% target coverage)\n",
    "alpha = 0.1"
   ]
  },
  {
   "cell_type": "code",
   "execution_count": 48,
   "id": "eadf4555-3dd3-440e-8e35-f82a4ad9f855",
   "metadata": {
    "execution": {
     "iopub.execute_input": "2025-07-30T20:23:53.853408Z",
     "iopub.status.busy": "2025-07-30T20:23:53.852883Z",
     "iopub.status.idle": "2025-07-30T20:23:53.937405Z",
     "shell.execute_reply": "2025-07-30T20:23:53.936526Z"
    },
    "papermill": {
     "duration": 0.109691,
     "end_time": "2025-07-30T20:23:53.939279",
     "exception": false,
     "start_time": "2025-07-30T20:23:53.829588",
     "status": "completed"
    },
    "tags": []
   },
   "outputs": [],
   "source": [
    "probs_calib = model.predict_proba(X_calib)"
   ]
  },
  {
   "cell_type": "code",
   "execution_count": 49,
   "id": "2ed93547-6d5d-4983-9b36-1ecb300da49a",
   "metadata": {
    "execution": {
     "iopub.execute_input": "2025-07-30T20:23:53.984965Z",
     "iopub.status.busy": "2025-07-30T20:23:53.984317Z",
     "iopub.status.idle": "2025-07-30T20:23:53.989937Z",
     "shell.execute_reply": "2025-07-30T20:23:53.988880Z"
    },
    "papermill": {
     "duration": 0.02994,
     "end_time": "2025-07-30T20:23:53.991400",
     "exception": false,
     "start_time": "2025-07-30T20:23:53.961460",
     "status": "completed"
    },
    "tags": []
   },
   "outputs": [],
   "source": [
    "y_calib = y_calib.values.ravel().astype(int)"
   ]
  },
  {
   "cell_type": "code",
   "execution_count": 50,
   "id": "65d1320d-f588-4b38-9072-62af1ae97f7d",
   "metadata": {
    "execution": {
     "iopub.execute_input": "2025-07-30T20:23:54.036327Z",
     "iopub.status.busy": "2025-07-30T20:23:54.035685Z",
     "iopub.status.idle": "2025-07-30T20:23:54.043827Z",
     "shell.execute_reply": "2025-07-30T20:23:54.042857Z"
    },
    "papermill": {
     "duration": 0.032273,
     "end_time": "2025-07-30T20:23:54.045560",
     "exception": false,
     "start_time": "2025-07-30T20:23:54.013287",
     "status": "completed"
    },
    "tags": []
   },
   "outputs": [],
   "source": [
    "from fairness_multiverse.conformal import compute_nc_scores\n",
    "\n",
    "# Compute nonconformity scores on calibration set (1 - probability of true class)\n",
    "nc_scores = compute_nc_scores(probs_calib, y_calib)"
   ]
  },
  {
   "cell_type": "code",
   "execution_count": 51,
   "id": "df3b8ca3-53b7-43d5-9667-7c85da7aeda2",
   "metadata": {
    "execution": {
     "iopub.execute_input": "2025-07-30T20:23:54.090613Z",
     "iopub.status.busy": "2025-07-30T20:23:54.090127Z",
     "iopub.status.idle": "2025-07-30T20:23:54.096595Z",
     "shell.execute_reply": "2025-07-30T20:23:54.095712Z"
    },
    "papermill": {
     "duration": 0.030618,
     "end_time": "2025-07-30T20:23:54.098285",
     "exception": false,
     "start_time": "2025-07-30T20:23:54.067667",
     "status": "completed"
    },
    "tags": []
   },
   "outputs": [],
   "source": [
    "from fairness_multiverse.conformal import find_threshold\n",
    "\n",
    "# Find conformal threshold q_hat for the given alpha (split conformal method)\n",
    "q_hat = find_threshold(nc_scores, alpha)"
   ]
  },
  {
   "cell_type": "code",
   "execution_count": 52,
   "id": "4d29e6c1-0ef6-4aa4-b8fe-4fe79b0d033a",
   "metadata": {
    "execution": {
     "iopub.execute_input": "2025-07-30T20:23:54.149475Z",
     "iopub.status.busy": "2025-07-30T20:23:54.149014Z",
     "iopub.status.idle": "2025-07-30T20:23:54.155951Z",
     "shell.execute_reply": "2025-07-30T20:23:54.155030Z"
    },
    "papermill": {
     "duration": 0.034502,
     "end_time": "2025-07-30T20:23:54.157721",
     "exception": false,
     "start_time": "2025-07-30T20:23:54.123219",
     "status": "completed"
    },
    "tags": []
   },
   "outputs": [
    {
     "data": {
      "text/plain": [
       "0.6844545603970005"
      ]
     },
     "execution_count": 52,
     "metadata": {},
     "output_type": "execute_result"
    }
   ],
   "source": [
    "q_hat"
   ]
  },
  {
   "cell_type": "code",
   "execution_count": 53,
   "id": "92460794-cdac-4be2-ba28-f28c0515a6fb",
   "metadata": {
    "execution": {
     "iopub.execute_input": "2025-07-30T20:23:54.206271Z",
     "iopub.status.busy": "2025-07-30T20:23:54.205641Z",
     "iopub.status.idle": "2025-07-30T20:23:54.714168Z",
     "shell.execute_reply": "2025-07-30T20:23:54.713410Z"
    },
    "papermill": {
     "duration": 0.53517,
     "end_time": "2025-07-30T20:23:54.715922",
     "exception": false,
     "start_time": "2025-07-30T20:23:54.180752",
     "status": "completed"
    },
    "tags": []
   },
   "outputs": [],
   "source": [
    "from fairness_multiverse.conformal import predict_conformal_sets\n",
    "\n",
    "# Generate prediction sets for each test example\n",
    "pred_sets = predict_conformal_sets(model, X_test, q_hat)"
   ]
  },
  {
   "cell_type": "code",
   "execution_count": 54,
   "id": "d90c9a65-e6db-4f5d-80cd-e68fb7e46829",
   "metadata": {
    "execution": {
     "iopub.execute_input": "2025-07-30T20:23:54.761650Z",
     "iopub.status.busy": "2025-07-30T20:23:54.760808Z",
     "iopub.status.idle": "2025-07-30T20:23:54.766534Z",
     "shell.execute_reply": "2025-07-30T20:23:54.765557Z"
    },
    "papermill": {
     "duration": 0.029747,
     "end_time": "2025-07-30T20:23:54.768097",
     "exception": false,
     "start_time": "2025-07-30T20:23:54.738350",
     "status": "completed"
    },
    "tags": []
   },
   "outputs": [],
   "source": [
    "y_true = y_true.squeeze()"
   ]
  },
  {
   "cell_type": "code",
   "execution_count": 55,
   "id": "3a58a54a-1e68-46b9-927a-df01f18aebc8",
   "metadata": {
    "execution": {
     "iopub.execute_input": "2025-07-30T20:23:54.813576Z",
     "iopub.status.busy": "2025-07-30T20:23:54.812706Z",
     "iopub.status.idle": "2025-07-30T20:23:55.841524Z",
     "shell.execute_reply": "2025-07-30T20:23:55.840750Z"
    },
    "papermill": {
     "duration": 1.05272,
     "end_time": "2025-07-30T20:23:55.842895",
     "exception": false,
     "start_time": "2025-07-30T20:23:54.790175",
     "status": "completed"
    },
    "tags": []
   },
   "outputs": [],
   "source": [
    "from fairness_multiverse.conformal import evaluate_sets\n",
    "\n",
    "# Evaluate coverage and average set size on test data\n",
    "metrics = evaluate_sets(pred_sets, y_true)"
   ]
  },
  {
   "cell_type": "markdown",
   "id": "2b569c12-9aaa-4c88-98c9-bbcd0cf3ebb8",
   "metadata": {
    "papermill": {
     "duration": 0.011778,
     "end_time": "2025-07-30T20:23:55.867561",
     "exception": false,
     "start_time": "2025-07-30T20:23:55.855783",
     "status": "completed"
    },
    "tags": []
   },
   "source": [
    "# CP Metrics"
   ]
  },
  {
   "cell_type": "code",
   "execution_count": 56,
   "id": "5ce0a5cb-201f-45a0-ade5-94c7f0bd6095",
   "metadata": {
    "execution": {
     "iopub.execute_input": "2025-07-30T20:23:55.897590Z",
     "iopub.status.busy": "2025-07-30T20:23:55.897159Z",
     "iopub.status.idle": "2025-07-30T20:23:55.903680Z",
     "shell.execute_reply": "2025-07-30T20:23:55.902929Z"
    },
    "papermill": {
     "duration": 0.025911,
     "end_time": "2025-07-30T20:23:55.905358",
     "exception": false,
     "start_time": "2025-07-30T20:23:55.879447",
     "status": "completed"
    },
    "tags": []
   },
   "outputs": [
    {
     "data": {
      "text/plain": [
       "{'coverage': 0.9095084160071341, 'avg_size': 1.132560472634043}"
      ]
     },
     "execution_count": 56,
     "metadata": {},
     "output_type": "execute_result"
    }
   ],
   "source": [
    "metrics"
   ]
  },
  {
   "cell_type": "code",
   "execution_count": 57,
   "id": "9b9a838d-31c9-430b-ae14-12baee460d17",
   "metadata": {
    "execution": {
     "iopub.execute_input": "2025-07-30T20:23:55.931562Z",
     "iopub.status.busy": "2025-07-30T20:23:55.931152Z",
     "iopub.status.idle": "2025-07-30T20:23:55.935769Z",
     "shell.execute_reply": "2025-07-30T20:23:55.935102Z"
    },
    "papermill": {
     "duration": 0.019193,
     "end_time": "2025-07-30T20:23:55.937316",
     "exception": false,
     "start_time": "2025-07-30T20:23:55.918123",
     "status": "completed"
    },
    "tags": []
   },
   "outputs": [],
   "source": [
    "example_universe = universe.copy()\n",
    "universe_training_year = example_universe.get(\"training_year\")\n",
    "universe_training_size = example_universe.get(\"training_size\")\n",
    "universe_scale = example_universe.get(\"scale\")\n",
    "universe_model = example_universe.get(\"model\")\n",
    "universe_exclude_features = example_universe.get(\"exclude_features\")\n",
    "universe_exclude_subgroups = example_universe.get(\"exclude_subgroups\")"
   ]
  },
  {
   "cell_type": "code",
   "execution_count": 58,
   "id": "f4b6a8ac-9dc0-4245-8a91-5b3b5999c4f9",
   "metadata": {
    "execution": {
     "iopub.execute_input": "2025-07-30T20:23:55.963990Z",
     "iopub.status.busy": "2025-07-30T20:23:55.963480Z",
     "iopub.status.idle": "2025-07-30T20:23:55.970756Z",
     "shell.execute_reply": "2025-07-30T20:23:55.968442Z"
    },
    "papermill": {
     "duration": 0.021541,
     "end_time": "2025-07-30T20:23:55.972313",
     "exception": false,
     "start_time": "2025-07-30T20:23:55.950772",
     "status": "completed"
    },
    "tags": []
   },
   "outputs": [],
   "source": [
    "cp_metrics_dict = {\n",
    "    \"universe_id\": [universe_id],\n",
    "    \"universe_training_year\": [universe_training_year],\n",
    "    \"universe_training_size\": [universe_training_size],\n",
    "    \"universe_scale\": [universe_scale],\n",
    "    \"universe_model\": [universe_model],\n",
    "    \"universe_exclude_features\": [universe_exclude_features],\n",
    "    \"universe_exclude_subgroups\": [universe_exclude_subgroups],\n",
    "    \"q_hat\": [q_hat],\n",
    "    \"coverage\": [metrics[\"coverage\"]],\n",
    "    \"avg_size\": [metrics[\"avg_size\"]],\n",
    "}"
   ]
  },
  {
   "cell_type": "code",
   "execution_count": 59,
   "id": "908acbb1-0371-4915-85ca-3fa520d2efe2",
   "metadata": {
    "execution": {
     "iopub.execute_input": "2025-07-30T20:23:56.026382Z",
     "iopub.status.busy": "2025-07-30T20:23:56.025692Z",
     "iopub.status.idle": "2025-07-30T20:23:56.044683Z",
     "shell.execute_reply": "2025-07-30T20:23:56.031862Z"
    },
    "papermill": {
     "duration": 0.04595,
     "end_time": "2025-07-30T20:23:56.046563",
     "exception": false,
     "start_time": "2025-07-30T20:23:56.000613",
     "status": "completed"
    },
    "tags": []
   },
   "outputs": [
    {
     "data": {
      "text/plain": [
       "{'universe_id': ['63b395d36988ddc9d58cb9339d278f6e'],\n",
       " 'universe_training_year': ['2012_14'],\n",
       " 'universe_training_size': ['25k'],\n",
       " 'universe_scale': ['do-not-scale'],\n",
       " 'universe_model': ['elasticnet'],\n",
       " 'universe_exclude_features': ['none'],\n",
       " 'universe_exclude_subgroups': ['keep-all'],\n",
       " 'q_hat': [0.6844545603970005],\n",
       " 'coverage': [0.9095084160071341],\n",
       " 'avg_size': [1.132560472634043]}"
      ]
     },
     "execution_count": 59,
     "metadata": {},
     "output_type": "execute_result"
    }
   ],
   "source": [
    "cp_metrics_dict"
   ]
  },
  {
   "cell_type": "code",
   "execution_count": 60,
   "id": "33007efc-14e9-4ec6-97ac-56a455c82265",
   "metadata": {
    "execution": {
     "iopub.execute_input": "2025-07-30T20:23:56.097692Z",
     "iopub.status.busy": "2025-07-30T20:23:56.097201Z",
     "iopub.status.idle": "2025-07-30T20:23:56.104098Z",
     "shell.execute_reply": "2025-07-30T20:23:56.103089Z"
    },
    "papermill": {
     "duration": 0.034545,
     "end_time": "2025-07-30T20:23:56.105832",
     "exception": false,
     "start_time": "2025-07-30T20:23:56.071287",
     "status": "completed"
    },
    "tags": []
   },
   "outputs": [],
   "source": [
    "cp_metrics_df = pd.DataFrame(cp_metrics_dict)"
   ]
  },
  {
   "cell_type": "code",
   "execution_count": 61,
   "id": "db12611b-57b2-4910-b9d0-355adfd6e7bf",
   "metadata": {
    "execution": {
     "iopub.execute_input": "2025-07-30T20:23:56.155027Z",
     "iopub.status.busy": "2025-07-30T20:23:56.154529Z",
     "iopub.status.idle": "2025-07-30T20:23:56.174063Z",
     "shell.execute_reply": "2025-07-30T20:23:56.173210Z"
    },
    "papermill": {
     "duration": 0.046318,
     "end_time": "2025-07-30T20:23:56.175505",
     "exception": false,
     "start_time": "2025-07-30T20:23:56.129187",
     "status": "completed"
    },
    "tags": []
   },
   "outputs": [
    {
     "data": {
      "text/html": [
       "<div>\n",
       "<style scoped>\n",
       "    .dataframe tbody tr th:only-of-type {\n",
       "        vertical-align: middle;\n",
       "    }\n",
       "\n",
       "    .dataframe tbody tr th {\n",
       "        vertical-align: top;\n",
       "    }\n",
       "\n",
       "    .dataframe thead th {\n",
       "        text-align: right;\n",
       "    }\n",
       "</style>\n",
       "<table border=\"1\" class=\"dataframe\">\n",
       "  <thead>\n",
       "    <tr style=\"text-align: right;\">\n",
       "      <th></th>\n",
       "      <th>universe_id</th>\n",
       "      <th>universe_training_year</th>\n",
       "      <th>universe_training_size</th>\n",
       "      <th>universe_scale</th>\n",
       "      <th>universe_model</th>\n",
       "      <th>universe_exclude_features</th>\n",
       "      <th>universe_exclude_subgroups</th>\n",
       "      <th>q_hat</th>\n",
       "      <th>coverage</th>\n",
       "      <th>avg_size</th>\n",
       "    </tr>\n",
       "  </thead>\n",
       "  <tbody>\n",
       "    <tr>\n",
       "      <th>0</th>\n",
       "      <td>63b395d36988ddc9d58cb9339d278f6e</td>\n",
       "      <td>2012_14</td>\n",
       "      <td>25k</td>\n",
       "      <td>do-not-scale</td>\n",
       "      <td>elasticnet</td>\n",
       "      <td>none</td>\n",
       "      <td>keep-all</td>\n",
       "      <td>0.684455</td>\n",
       "      <td>0.909508</td>\n",
       "      <td>1.13256</td>\n",
       "    </tr>\n",
       "  </tbody>\n",
       "</table>\n",
       "</div>"
      ],
      "text/plain": [
       "                        universe_id universe_training_year  \\\n",
       "0  63b395d36988ddc9d58cb9339d278f6e                2012_14   \n",
       "\n",
       "  universe_training_size universe_scale universe_model  \\\n",
       "0                    25k   do-not-scale     elasticnet   \n",
       "\n",
       "  universe_exclude_features universe_exclude_subgroups     q_hat  coverage  \\\n",
       "0                      none                   keep-all  0.684455  0.909508   \n",
       "\n",
       "   avg_size  \n",
       "0   1.13256  "
      ]
     },
     "execution_count": 61,
     "metadata": {},
     "output_type": "execute_result"
    }
   ],
   "source": [
    "cp_metrics_df"
   ]
  },
  {
   "cell_type": "code",
   "execution_count": 62,
   "id": "b7fbde55-a0a1-47e4-9af6-fe4a17fa8c61",
   "metadata": {
    "execution": {
     "iopub.execute_input": "2025-07-30T20:23:56.225031Z",
     "iopub.status.busy": "2025-07-30T20:23:56.224570Z",
     "iopub.status.idle": "2025-07-30T20:23:56.229655Z",
     "shell.execute_reply": "2025-07-30T20:23:56.228850Z"
    },
    "papermill": {
     "duration": 0.030877,
     "end_time": "2025-07-30T20:23:56.231122",
     "exception": false,
     "start_time": "2025-07-30T20:23:56.200245",
     "status": "completed"
    },
    "tags": []
   },
   "outputs": [],
   "source": [
    "# Conditional Coverage & looking at subgroups"
   ]
  },
  {
   "cell_type": "code",
   "execution_count": 63,
   "id": "027ae886-68dd-4141-96c7-805a5450e1ef",
   "metadata": {
    "execution": {
     "iopub.execute_input": "2025-07-30T20:23:56.280614Z",
     "iopub.status.busy": "2025-07-30T20:23:56.280101Z",
     "iopub.status.idle": "2025-07-30T20:23:56.555926Z",
     "shell.execute_reply": "2025-07-30T20:23:56.554984Z"
    },
    "papermill": {
     "duration": 0.302562,
     "end_time": "2025-07-30T20:23:56.557845",
     "exception": false,
     "start_time": "2025-07-30T20:23:56.255283",
     "status": "completed"
    },
    "tags": []
   },
   "outputs": [],
   "source": [
    "from fairness_multiverse.conformal import build_cp_groups\n",
    "\n",
    "cp_groups_df = build_cp_groups(pred_sets, y_true, X_test.index, org_test)\n",
    "#needs universe_id and setting"
   ]
  },
  {
   "cell_type": "code",
   "execution_count": 64,
   "id": "01d5802c-663a-4d1f-9d69-e036faaffbf7",
   "metadata": {
    "execution": {
     "iopub.execute_input": "2025-07-30T20:23:56.606781Z",
     "iopub.status.busy": "2025-07-30T20:23:56.606257Z",
     "iopub.status.idle": "2025-07-30T20:23:56.610899Z",
     "shell.execute_reply": "2025-07-30T20:23:56.610012Z"
    },
    "papermill": {
     "duration": 0.031632,
     "end_time": "2025-07-30T20:23:56.612773",
     "exception": false,
     "start_time": "2025-07-30T20:23:56.581141",
     "status": "completed"
    },
    "tags": []
   },
   "outputs": [],
   "source": [
    "#delete\n",
    "#cp_groups_df"
   ]
  },
  {
   "cell_type": "code",
   "execution_count": 65,
   "id": "fa424af1-d1eb-443d-b717-2d279ada8408",
   "metadata": {
    "execution": {
     "iopub.execute_input": "2025-07-30T20:23:56.661666Z",
     "iopub.status.busy": "2025-07-30T20:23:56.661218Z",
     "iopub.status.idle": "2025-07-30T20:23:56.666040Z",
     "shell.execute_reply": "2025-07-30T20:23:56.665092Z"
    },
    "papermill": {
     "duration": 0.031852,
     "end_time": "2025-07-30T20:23:56.667835",
     "exception": false,
     "start_time": "2025-07-30T20:23:56.635983",
     "status": "completed"
    },
    "tags": []
   },
   "outputs": [],
   "source": [
    "#delete\n",
    "#percentage = (cp_groups_df['nongerman_female'] == 1).mean() * 100\n",
    "#print(percentage)\n"
   ]
  },
  {
   "cell_type": "code",
   "execution_count": 66,
   "id": "6cbdab96-b2b2-45af-ad54-d0516db2e28d",
   "metadata": {
    "execution": {
     "iopub.execute_input": "2025-07-30T20:23:56.716915Z",
     "iopub.status.busy": "2025-07-30T20:23:56.716011Z",
     "iopub.status.idle": "2025-07-30T20:23:58.237048Z",
     "shell.execute_reply": "2025-07-30T20:23:58.235476Z"
    },
    "papermill": {
     "duration": 1.548402,
     "end_time": "2025-07-30T20:23:58.239374",
     "exception": false,
     "start_time": "2025-07-30T20:23:56.690972",
     "status": "completed"
    },
    "tags": []
   },
   "outputs": [],
   "source": [
    "# Define covered = 1 if true_label is in the predicted set\n",
    "cp_groups_df['covered'] = cp_groups_df.apply(\n",
    "    lambda r: int(r['true_label'] in r['pred_set']),\n",
    "    axis=1\n",
    ")"
   ]
  },
  {
   "cell_type": "code",
   "execution_count": 67,
   "id": "338ff529-1a6b-4b87-a931-8e4788d52aad",
   "metadata": {
    "execution": {
     "iopub.execute_input": "2025-07-30T20:23:58.299432Z",
     "iopub.status.busy": "2025-07-30T20:23:58.298716Z",
     "iopub.status.idle": "2025-07-30T20:23:58.303895Z",
     "shell.execute_reply": "2025-07-30T20:23:58.302950Z"
    },
    "papermill": {
     "duration": 0.036536,
     "end_time": "2025-07-30T20:23:58.305731",
     "exception": false,
     "start_time": "2025-07-30T20:23:58.269195",
     "status": "completed"
    },
    "tags": []
   },
   "outputs": [],
   "source": [
    "#cp_groups_df"
   ]
  },
  {
   "cell_type": "code",
   "execution_count": 68,
   "id": "90032e27-66df-4540-9169-4e89cfbaa758",
   "metadata": {
    "execution": {
     "iopub.execute_input": "2025-07-30T20:23:58.359323Z",
     "iopub.status.busy": "2025-07-30T20:23:58.358631Z",
     "iopub.status.idle": "2025-07-30T20:23:58.371373Z",
     "shell.execute_reply": "2025-07-30T20:23:58.370333Z"
    },
    "papermill": {
     "duration": 0.040841,
     "end_time": "2025-07-30T20:23:58.373321",
     "exception": false,
     "start_time": "2025-07-30T20:23:58.332480",
     "status": "completed"
    },
    "tags": []
   },
   "outputs": [],
   "source": [
    "subgroups = ['frau1','nongerman','nongerman_male','nongerman_female']\n",
    "\n",
    "# Conditional coverage for subgroup==1\n",
    "cond_coverage = {\n",
    "    g: cp_groups_df.loc[cp_groups_df[g]==1, 'covered'].mean()\n",
    "    for g in subgroups\n",
    "}"
   ]
  },
  {
   "cell_type": "code",
   "execution_count": 69,
   "id": "1e348fb1-b9c3-45bc-ba23-f016827a7e0d",
   "metadata": {
    "execution": {
     "iopub.execute_input": "2025-07-30T20:23:58.433497Z",
     "iopub.status.busy": "2025-07-30T20:23:58.432830Z",
     "iopub.status.idle": "2025-07-30T20:23:58.440675Z",
     "shell.execute_reply": "2025-07-30T20:23:58.439636Z"
    },
    "papermill": {
     "duration": 0.038263,
     "end_time": "2025-07-30T20:23:58.442049",
     "exception": false,
     "start_time": "2025-07-30T20:23:58.403786",
     "status": "completed"
    },
    "tags": []
   },
   "outputs": [
    {
     "data": {
      "text/plain": [
       "{'frau1': 0.9076694972368243,\n",
       " 'nongerman': 0.907483298714422,\n",
       " 'nongerman_male': 0.9232639827073764,\n",
       " 'nongerman_female': 0.881371087928465}"
      ]
     },
     "execution_count": 69,
     "metadata": {},
     "output_type": "execute_result"
    }
   ],
   "source": [
    "cond_coverage"
   ]
  },
  {
   "cell_type": "code",
   "execution_count": 70,
   "id": "f5093324-c3dd-4d63-bc4c-8d945e5c8bbb",
   "metadata": {
    "execution": {
     "iopub.execute_input": "2025-07-30T20:23:58.490974Z",
     "iopub.status.busy": "2025-07-30T20:23:58.490169Z",
     "iopub.status.idle": "2025-07-30T20:23:58.497305Z",
     "shell.execute_reply": "2025-07-30T20:23:58.496268Z"
    },
    "papermill": {
     "duration": 0.033519,
     "end_time": "2025-07-30T20:23:58.499462",
     "exception": false,
     "start_time": "2025-07-30T20:23:58.465943",
     "status": "completed"
    },
    "tags": []
   },
   "outputs": [],
   "source": [
    "for subgroup, cov in cond_coverage.items():\n",
    "    cp_metrics_df[f\"cov_{subgroup}\"] = cov"
   ]
  },
  {
   "cell_type": "code",
   "execution_count": 71,
   "id": "6e872e10-dbe5-49e8-b554-5030c98ff75d",
   "metadata": {
    "execution": {
     "iopub.execute_input": "2025-07-30T20:23:58.557711Z",
     "iopub.status.busy": "2025-07-30T20:23:58.556919Z",
     "iopub.status.idle": "2025-07-30T20:23:58.575119Z",
     "shell.execute_reply": "2025-07-30T20:23:58.574005Z"
    },
    "papermill": {
     "duration": 0.04902,
     "end_time": "2025-07-30T20:23:58.576771",
     "exception": false,
     "start_time": "2025-07-30T20:23:58.527751",
     "status": "completed"
    },
    "tags": []
   },
   "outputs": [
    {
     "data": {
      "text/html": [
       "<div>\n",
       "<style scoped>\n",
       "    .dataframe tbody tr th:only-of-type {\n",
       "        vertical-align: middle;\n",
       "    }\n",
       "\n",
       "    .dataframe tbody tr th {\n",
       "        vertical-align: top;\n",
       "    }\n",
       "\n",
       "    .dataframe thead th {\n",
       "        text-align: right;\n",
       "    }\n",
       "</style>\n",
       "<table border=\"1\" class=\"dataframe\">\n",
       "  <thead>\n",
       "    <tr style=\"text-align: right;\">\n",
       "      <th></th>\n",
       "      <th>universe_id</th>\n",
       "      <th>universe_training_year</th>\n",
       "      <th>universe_training_size</th>\n",
       "      <th>universe_scale</th>\n",
       "      <th>universe_model</th>\n",
       "      <th>universe_exclude_features</th>\n",
       "      <th>universe_exclude_subgroups</th>\n",
       "      <th>q_hat</th>\n",
       "      <th>coverage</th>\n",
       "      <th>avg_size</th>\n",
       "      <th>cov_frau1</th>\n",
       "      <th>cov_nongerman</th>\n",
       "      <th>cov_nongerman_male</th>\n",
       "      <th>cov_nongerman_female</th>\n",
       "    </tr>\n",
       "  </thead>\n",
       "  <tbody>\n",
       "    <tr>\n",
       "      <th>0</th>\n",
       "      <td>63b395d36988ddc9d58cb9339d278f6e</td>\n",
       "      <td>2012_14</td>\n",
       "      <td>25k</td>\n",
       "      <td>do-not-scale</td>\n",
       "      <td>elasticnet</td>\n",
       "      <td>none</td>\n",
       "      <td>keep-all</td>\n",
       "      <td>0.684455</td>\n",
       "      <td>0.909508</td>\n",
       "      <td>1.13256</td>\n",
       "      <td>0.907669</td>\n",
       "      <td>0.907483</td>\n",
       "      <td>0.923264</td>\n",
       "      <td>0.881371</td>\n",
       "    </tr>\n",
       "  </tbody>\n",
       "</table>\n",
       "</div>"
      ],
      "text/plain": [
       "                        universe_id universe_training_year  \\\n",
       "0  63b395d36988ddc9d58cb9339d278f6e                2012_14   \n",
       "\n",
       "  universe_training_size universe_scale universe_model  \\\n",
       "0                    25k   do-not-scale     elasticnet   \n",
       "\n",
       "  universe_exclude_features universe_exclude_subgroups     q_hat  coverage  \\\n",
       "0                      none                   keep-all  0.684455  0.909508   \n",
       "\n",
       "   avg_size  cov_frau1  cov_nongerman  cov_nongerman_male  \\\n",
       "0   1.13256   0.907669       0.907483            0.923264   \n",
       "\n",
       "   cov_nongerman_female  \n",
       "0              0.881371  "
      ]
     },
     "execution_count": 71,
     "metadata": {},
     "output_type": "execute_result"
    }
   ],
   "source": [
    "cp_metrics_df"
   ]
  },
  {
   "cell_type": "markdown",
   "id": "33774451",
   "metadata": {
    "papermill": {
     "duration": 0.020702,
     "end_time": "2025-07-30T20:23:58.621947",
     "exception": false,
     "start_time": "2025-07-30T20:23:58.601245",
     "status": "completed"
    },
    "tags": []
   },
   "source": [
    "# (Fairness) Metrics"
   ]
  },
  {
   "cell_type": "code",
   "execution_count": 72,
   "id": "debc5d62",
   "metadata": {
    "execution": {
     "iopub.execute_input": "2025-07-30T20:23:58.649494Z",
     "iopub.status.busy": "2025-07-30T20:23:58.649141Z",
     "iopub.status.idle": "2025-07-30T20:23:58.663949Z",
     "shell.execute_reply": "2025-07-30T20:23:58.662038Z"
    },
    "papermill": {
     "duration": 0.030644,
     "end_time": "2025-07-30T20:23:58.666068",
     "exception": false,
     "start_time": "2025-07-30T20:23:58.635424",
     "status": "completed"
    },
    "tags": []
   },
   "outputs": [],
   "source": [
    "# do I need to include maxdeutsch1.missing?\n",
    "\n",
    "import numpy as np\n",
    "\n",
    "colname_to_bin = \"maxdeutsch1\"\n",
    "majority_value = org_train[colname_to_bin].mode()[0]\n",
    "\n",
    "org_test[\"majmin\"] = np.where(org_test[colname_to_bin] == majority_value, \"majority\", \"minority\")"
   ]
  },
  {
   "cell_type": "code",
   "execution_count": 73,
   "id": "06a50de5",
   "metadata": {
    "execution": {
     "iopub.execute_input": "2025-07-30T20:23:58.697986Z",
     "iopub.status.busy": "2025-07-30T20:23:58.697253Z",
     "iopub.status.idle": "2025-07-30T20:24:01.077527Z",
     "shell.execute_reply": "2025-07-30T20:24:01.076776Z"
    },
    "papermill": {
     "duration": 2.39553,
     "end_time": "2025-07-30T20:24:01.078886",
     "exception": false,
     "start_time": "2025-07-30T20:23:58.683356",
     "status": "completed"
    },
    "tags": []
   },
   "outputs": [],
   "source": [
    "example_universe = universe.copy()\n",
    "example_universe[\"cutoff\"] = example_universe[\"cutoff\"][0]\n",
    "example_universe[\"eval_fairness_grouping\"] = example_universe[\"eval_fairness_grouping\"][0]\n",
    "fairness_dict, metric_frame = universe_analysis.compute_metrics(\n",
    "    example_universe,\n",
    "    y_pred_prob=probs_test,\n",
    "    y_test=y_true,\n",
    "    org_test=org_test,\n",
    ")"
   ]
  },
  {
   "cell_type": "markdown",
   "id": "f95d4e02",
   "metadata": {
    "papermill": {
     "duration": 0.018383,
     "end_time": "2025-07-30T20:24:01.113063",
     "exception": false,
     "start_time": "2025-07-30T20:24:01.094680",
     "status": "completed"
    },
    "tags": []
   },
   "source": [
    "# Overall"
   ]
  },
  {
   "cell_type": "markdown",
   "id": "bdee4871",
   "metadata": {
    "papermill": {
     "duration": 0.012885,
     "end_time": "2025-07-30T20:24:01.140964",
     "exception": false,
     "start_time": "2025-07-30T20:24:01.128079",
     "status": "completed"
    },
    "tags": []
   },
   "source": [
    "Fairness\n",
    "Main fairness target: Equalized Odds. Seems to be a better fit than equal opportunity, since we're not only interested in Y = 1. Seems to be a better fit than demographic parity, since we also care about accuracy, not just equal distribution of preds.\n",
    "\n",
    "Pick column for computation of fairness metrics\n",
    "\n",
    "Performance\n",
    "Overall performance measures, most interesting in relation to the measures split by group below"
   ]
  },
  {
   "cell_type": "code",
   "execution_count": 74,
   "id": "c4e067c6",
   "metadata": {
    "execution": {
     "iopub.execute_input": "2025-07-30T20:24:01.172203Z",
     "iopub.status.busy": "2025-07-30T20:24:01.171832Z",
     "iopub.status.idle": "2025-07-30T20:24:01.181448Z",
     "shell.execute_reply": "2025-07-30T20:24:01.180317Z"
    },
    "papermill": {
     "duration": 0.028947,
     "end_time": "2025-07-30T20:24:01.183009",
     "exception": false,
     "start_time": "2025-07-30T20:24:01.154062",
     "status": "completed"
    },
    "tags": []
   },
   "outputs": [
    {
     "data": {
      "text/plain": [
       "accuracy                   0.220611\n",
       "balanced accuracy          0.540212\n",
       "f1                         0.242046\n",
       "precision                  0.138273\n",
       "false positive rate        0.889683\n",
       "false negative rate        0.029892\n",
       "selection rate             0.900000\n",
       "count                  89710.000000\n",
       "dtype: float64"
      ]
     },
     "execution_count": 74,
     "metadata": {},
     "output_type": "execute_result"
    }
   ],
   "source": [
    "metric_frame.overall"
   ]
  },
  {
   "cell_type": "markdown",
   "id": "e968fe9d",
   "metadata": {
    "papermill": {
     "duration": 0.026571,
     "end_time": "2025-07-30T20:24:01.239357",
     "exception": false,
     "start_time": "2025-07-30T20:24:01.212786",
     "status": "completed"
    },
    "tags": []
   },
   "source": [
    "By Group"
   ]
  },
  {
   "cell_type": "code",
   "execution_count": 75,
   "id": "ec325bce",
   "metadata": {
    "execution": {
     "iopub.execute_input": "2025-07-30T20:24:01.289898Z",
     "iopub.status.busy": "2025-07-30T20:24:01.289417Z",
     "iopub.status.idle": "2025-07-30T20:24:01.305663Z",
     "shell.execute_reply": "2025-07-30T20:24:01.304721Z"
    },
    "papermill": {
     "duration": 0.039506,
     "end_time": "2025-07-30T20:24:01.307242",
     "exception": false,
     "start_time": "2025-07-30T20:24:01.267736",
     "status": "completed"
    },
    "tags": []
   },
   "outputs": [
    {
     "data": {
      "text/html": [
       "<div>\n",
       "<style scoped>\n",
       "    .dataframe tbody tr th:only-of-type {\n",
       "        vertical-align: middle;\n",
       "    }\n",
       "\n",
       "    .dataframe tbody tr th {\n",
       "        vertical-align: top;\n",
       "    }\n",
       "\n",
       "    .dataframe thead th {\n",
       "        text-align: right;\n",
       "    }\n",
       "</style>\n",
       "<table border=\"1\" class=\"dataframe\">\n",
       "  <thead>\n",
       "    <tr style=\"text-align: right;\">\n",
       "      <th></th>\n",
       "      <th>accuracy</th>\n",
       "      <th>balanced accuracy</th>\n",
       "      <th>f1</th>\n",
       "      <th>precision</th>\n",
       "      <th>false positive rate</th>\n",
       "      <th>false negative rate</th>\n",
       "      <th>selection rate</th>\n",
       "      <th>count</th>\n",
       "    </tr>\n",
       "    <tr>\n",
       "      <th>majmin</th>\n",
       "      <th></th>\n",
       "      <th></th>\n",
       "      <th></th>\n",
       "      <th></th>\n",
       "      <th></th>\n",
       "      <th></th>\n",
       "      <th></th>\n",
       "      <th></th>\n",
       "    </tr>\n",
       "  </thead>\n",
       "  <tbody>\n",
       "    <tr>\n",
       "      <th>majority</th>\n",
       "      <td>0.242316</td>\n",
       "      <td>0.549286</td>\n",
       "      <td>0.252123</td>\n",
       "      <td>0.144969</td>\n",
       "      <td>0.867949</td>\n",
       "      <td>0.033479</td>\n",
       "      <td>0.880974</td>\n",
       "      <td>69170.0</td>\n",
       "    </tr>\n",
       "    <tr>\n",
       "      <th>minority</th>\n",
       "      <td>0.147517</td>\n",
       "      <td>0.511237</td>\n",
       "      <td>0.210194</td>\n",
       "      <td>0.117665</td>\n",
       "      <td>0.961479</td>\n",
       "      <td>0.016047</td>\n",
       "      <td>0.964070</td>\n",
       "      <td>20540.0</td>\n",
       "    </tr>\n",
       "  </tbody>\n",
       "</table>\n",
       "</div>"
      ],
      "text/plain": [
       "          accuracy  balanced accuracy        f1  precision  \\\n",
       "majmin                                                       \n",
       "majority  0.242316           0.549286  0.252123   0.144969   \n",
       "minority  0.147517           0.511237  0.210194   0.117665   \n",
       "\n",
       "          false positive rate  false negative rate  selection rate    count  \n",
       "majmin                                                                       \n",
       "majority             0.867949             0.033479        0.880974  69170.0  \n",
       "minority             0.961479             0.016047        0.964070  20540.0  "
      ]
     },
     "execution_count": 75,
     "metadata": {},
     "output_type": "execute_result"
    }
   ],
   "source": [
    "metric_frame.by_group"
   ]
  },
  {
   "cell_type": "code",
   "execution_count": 76,
   "id": "a9ddbe63",
   "metadata": {
    "execution": {
     "iopub.execute_input": "2025-07-30T20:24:01.366765Z",
     "iopub.status.busy": "2025-07-30T20:24:01.366100Z",
     "iopub.status.idle": "2025-07-30T20:24:03.562305Z",
     "shell.execute_reply": "2025-07-30T20:24:03.561350Z"
    },
    "papermill": {
     "duration": 2.22735,
     "end_time": "2025-07-30T20:24:03.564085",
     "exception": false,
     "start_time": "2025-07-30T20:24:01.336735",
     "status": "completed"
    },
    "tags": []
   },
   "outputs": [
    {
     "data": {
      "text/plain": [
       "array([[<Axes: title={'center': 'accuracy'}, xlabel='majmin'>,\n",
       "        <Axes: title={'center': 'balanced accuracy'}, xlabel='majmin'>,\n",
       "        <Axes: title={'center': 'f1'}, xlabel='majmin'>],\n",
       "       [<Axes: title={'center': 'precision'}, xlabel='majmin'>,\n",
       "        <Axes: title={'center': 'false positive rate'}, xlabel='majmin'>,\n",
       "        <Axes: title={'center': 'false negative rate'}, xlabel='majmin'>],\n",
       "       [<Axes: title={'center': 'selection rate'}, xlabel='majmin'>,\n",
       "        <Axes: title={'center': 'count'}, xlabel='majmin'>,\n",
       "        <Axes: xlabel='majmin'>]], dtype=object)"
      ]
     },
     "execution_count": 76,
     "metadata": {},
     "output_type": "execute_result"
    },
    {
     "data": {
      "image/png": "[encoded data removed]",
      "text/plain": [
       "<Figure size 1200x800 with 9 Axes>"
      ]
     },
     "metadata": {},
     "output_type": "display_data"
    }
   ],
   "source": [
    "# In a graphic\n",
    "metric_frame.by_group.plot.bar(\n",
    "    subplots=True,\n",
    "    layout=[3, 3],\n",
    "    legend=False,\n",
    "    figsize=[12, 8],\n",
    "    title=\"Show all metrics\",\n",
    ")"
   ]
  },
  {
   "cell_type": "markdown",
   "id": "f57a0bac",
   "metadata": {
    "papermill": {
     "duration": 0.031771,
     "end_time": "2025-07-30T20:24:03.628115",
     "exception": false,
     "start_time": "2025-07-30T20:24:03.596344",
     "status": "completed"
    },
    "tags": []
   },
   "source": [
    "# Final Output"
   ]
  },
  {
   "cell_type": "code",
   "execution_count": 77,
   "id": "96d280a3",
   "metadata": {
    "execution": {
     "iopub.execute_input": "2025-07-30T20:24:03.691671Z",
     "iopub.status.busy": "2025-07-30T20:24:03.690859Z",
     "iopub.status.idle": "2025-07-30T20:24:03.698880Z",
     "shell.execute_reply": "2025-07-30T20:24:03.697890Z"
    },
    "papermill": {
     "duration": 0.041368,
     "end_time": "2025-07-30T20:24:03.700571",
     "exception": false,
     "start_time": "2025-07-30T20:24:03.659203",
     "status": "completed"
    },
    "tags": []
   },
   "outputs": [
    {
     "data": {
      "text/plain": [
       "4"
      ]
     },
     "execution_count": 77,
     "metadata": {},
     "output_type": "execute_result"
    }
   ],
   "source": [
    "sub_universes = universe_analysis.generate_sub_universes()\n",
    "len(sub_universes)"
   ]
  },
  {
   "cell_type": "code",
   "execution_count": 78,
   "id": "92adf7ba",
   "metadata": {
    "execution": {
     "iopub.execute_input": "2025-07-30T20:24:03.765364Z",
     "iopub.status.busy": "2025-07-30T20:24:03.764706Z",
     "iopub.status.idle": "2025-07-30T20:24:03.771318Z",
     "shell.execute_reply": "2025-07-30T20:24:03.770277Z"
    },
    "papermill": {
     "duration": 0.040711,
     "end_time": "2025-07-30T20:24:03.772927",
     "exception": false,
     "start_time": "2025-07-30T20:24:03.732216",
     "status": "completed"
    },
    "tags": []
   },
   "outputs": [],
   "source": [
    "def filter_sub_universe_data(sub_universe, org_test):\n",
    "    # Keep all rows — no filtering\n",
    "    keep_rows_mask = np.ones(org_test.shape[0], dtype=bool)\n",
    "\n",
    "    print(f\"[INFO] Keeping all rows: {keep_rows_mask.sum()} rows retained.\")\n",
    "    return keep_rows_mask"
   ]
  },
  {
   "cell_type": "code",
   "execution_count": 79,
   "id": "4a759155",
   "metadata": {
    "execution": {
     "iopub.execute_input": "2025-07-30T20:24:03.827420Z",
     "iopub.status.busy": "2025-07-30T20:24:03.826640Z",
     "iopub.status.idle": "2025-07-30T20:24:12.642652Z",
     "shell.execute_reply": "2025-07-30T20:24:12.641699Z"
    },
    "papermill": {
     "duration": 8.844976,
     "end_time": "2025-07-30T20:24:12.644385",
     "exception": false,
     "start_time": "2025-07-30T20:24:03.799409",
     "status": "completed"
    },
    "tags": []
   },
   "outputs": [
    {
     "name": "stdout",
     "output_type": "stream",
     "text": [
      "Stopping execution_time clock.\n",
      "[INFO] Keeping all rows: 89710 rows retained.\n"
     ]
    },
    {
     "name": "stdout",
     "output_type": "stream",
     "text": [
      "[INFO] Keeping all rows: 89710 rows retained.\n"
     ]
    },
    {
     "name": "stdout",
     "output_type": "stream",
     "text": [
      "[INFO] Keeping all rows: 89710 rows retained.\n"
     ]
    },
    {
     "name": "stdout",
     "output_type": "stream",
     "text": [
      "[INFO] Keeping all rows: 89710 rows retained.\n"
     ]
    },
    {
     "data": {
      "text/html": [
       "<div>\n",
       "<style scoped>\n",
       "    .dataframe tbody tr th:only-of-type {\n",
       "        vertical-align: middle;\n",
       "    }\n",
       "\n",
       "    .dataframe tbody tr th {\n",
       "        vertical-align: top;\n",
       "    }\n",
       "\n",
       "    .dataframe thead th {\n",
       "        text-align: right;\n",
       "    }\n",
       "</style>\n",
       "<table border=\"1\" class=\"dataframe\">\n",
       "  <thead>\n",
       "    <tr style=\"text-align: right;\">\n",
       "      <th></th>\n",
       "      <th>run_no</th>\n",
       "      <th>universe_id</th>\n",
       "      <th>universe_settings</th>\n",
       "      <th>execution_time</th>\n",
       "      <th>test_size_n</th>\n",
       "      <th>test_size_frac</th>\n",
       "      <th>fair_main_equalized_odds_difference</th>\n",
       "      <th>fair_main_equalized_odds_ratio</th>\n",
       "      <th>fair_main_demographic_parity_difference</th>\n",
       "      <th>fair_main_demographic_parity_ratio</th>\n",
       "      <th>...</th>\n",
       "      <th>perf_grp_precision_0</th>\n",
       "      <th>perf_grp_precision_1</th>\n",
       "      <th>perf_grp_false positive rate_0</th>\n",
       "      <th>perf_grp_false positive rate_1</th>\n",
       "      <th>perf_grp_false negative rate_0</th>\n",
       "      <th>perf_grp_false negative rate_1</th>\n",
       "      <th>perf_grp_selection rate_0</th>\n",
       "      <th>perf_grp_selection rate_1</th>\n",
       "      <th>perf_grp_count_0</th>\n",
       "      <th>perf_grp_count_1</th>\n",
       "    </tr>\n",
       "  </thead>\n",
       "  <tbody>\n",
       "    <tr>\n",
       "      <th>0</th>\n",
       "      <td>14</td>\n",
       "      <td>63b395d36988ddc9d58cb9339d278f6e</td>\n",
       "      <td>{\"cutoff\": \"quantile_0.1\", \"eval_fairness_grou...</td>\n",
       "      <td>238.127606</td>\n",
       "      <td>89710</td>\n",
       "      <td>1.0</td>\n",
       "      <td>0.093530</td>\n",
       "      <td>0.902723</td>\n",
       "      <td>0.083096</td>\n",
       "      <td>0.913807</td>\n",
       "      <td>...</td>\n",
       "      <td>NaN</td>\n",
       "      <td>NaN</td>\n",
       "      <td>NaN</td>\n",
       "      <td>NaN</td>\n",
       "      <td>NaN</td>\n",
       "      <td>NaN</td>\n",
       "      <td>NaN</td>\n",
       "      <td>NaN</td>\n",
       "      <td>NaN</td>\n",
       "      <td>NaN</td>\n",
       "    </tr>\n",
       "    <tr>\n",
       "      <th>0</th>\n",
       "      <td>14</td>\n",
       "      <td>63b395d36988ddc9d58cb9339d278f6e</td>\n",
       "      <td>{\"cutoff\": \"quantile_0.1\", \"eval_fairness_grou...</td>\n",
       "      <td>238.127606</td>\n",
       "      <td>89710</td>\n",
       "      <td>1.0</td>\n",
       "      <td>0.093530</td>\n",
       "      <td>0.902723</td>\n",
       "      <td>0.083096</td>\n",
       "      <td>0.913807</td>\n",
       "      <td>...</td>\n",
       "      <td>0.117665</td>\n",
       "      <td>0.144969</td>\n",
       "      <td>0.961479</td>\n",
       "      <td>0.867949</td>\n",
       "      <td>0.016047</td>\n",
       "      <td>0.033479</td>\n",
       "      <td>0.964070</td>\n",
       "      <td>0.880974</td>\n",
       "      <td>20540.0</td>\n",
       "      <td>69170.0</td>\n",
       "    </tr>\n",
       "    <tr>\n",
       "      <th>0</th>\n",
       "      <td>14</td>\n",
       "      <td>63b395d36988ddc9d58cb9339d278f6e</td>\n",
       "      <td>{\"cutoff\": \"quantile_0.25\", \"eval_fairness_gro...</td>\n",
       "      <td>238.127606</td>\n",
       "      <td>89710</td>\n",
       "      <td>1.0</td>\n",
       "      <td>0.198195</td>\n",
       "      <td>0.774562</td>\n",
       "      <td>0.174975</td>\n",
       "      <td>0.802267</td>\n",
       "      <td>...</td>\n",
       "      <td>NaN</td>\n",
       "      <td>NaN</td>\n",
       "      <td>NaN</td>\n",
       "      <td>NaN</td>\n",
       "      <td>NaN</td>\n",
       "      <td>NaN</td>\n",
       "      <td>NaN</td>\n",
       "      <td>NaN</td>\n",
       "      <td>NaN</td>\n",
       "      <td>NaN</td>\n",
       "    </tr>\n",
       "    <tr>\n",
       "      <th>0</th>\n",
       "      <td>14</td>\n",
       "      <td>63b395d36988ddc9d58cb9339d278f6e</td>\n",
       "      <td>{\"cutoff\": \"quantile_0.25\", \"eval_fairness_gro...</td>\n",
       "      <td>238.127606</td>\n",
       "      <td>89710</td>\n",
       "      <td>1.0</td>\n",
       "      <td>0.198195</td>\n",
       "      <td>0.774562</td>\n",
       "      <td>0.174975</td>\n",
       "      <td>0.802267</td>\n",
       "      <td>...</td>\n",
       "      <td>0.121039</td>\n",
       "      <td>0.167556</td>\n",
       "      <td>0.879155</td>\n",
       "      <td>0.680960</td>\n",
       "      <td>0.070946</td>\n",
       "      <td>0.099781</td>\n",
       "      <td>0.884907</td>\n",
       "      <td>0.709932</td>\n",
       "      <td>20540.0</td>\n",
       "      <td>69170.0</td>\n",
       "    </tr>\n",
       "  </tbody>\n",
       "</table>\n",
       "<p>4 rows × 50 columns</p>\n",
       "</div>"
      ],
      "text/plain": [
       "  run_no                       universe_id  \\\n",
       "0     14  63b395d36988ddc9d58cb9339d278f6e   \n",
       "0     14  63b395d36988ddc9d58cb9339d278f6e   \n",
       "0     14  63b395d36988ddc9d58cb9339d278f6e   \n",
       "0     14  63b395d36988ddc9d58cb9339d278f6e   \n",
       "\n",
       "                                   universe_settings  execution_time  \\\n",
       "0  {\"cutoff\": \"quantile_0.1\", \"eval_fairness_grou...      238.127606   \n",
       "0  {\"cutoff\": \"quantile_0.1\", \"eval_fairness_grou...      238.127606   \n",
       "0  {\"cutoff\": \"quantile_0.25\", \"eval_fairness_gro...      238.127606   \n",
       "0  {\"cutoff\": \"quantile_0.25\", \"eval_fairness_gro...      238.127606   \n",
       "\n",
       "   test_size_n  test_size_frac  fair_main_equalized_odds_difference  \\\n",
       "0        89710             1.0                             0.093530   \n",
       "0        89710             1.0                             0.093530   \n",
       "0        89710             1.0                             0.198195   \n",
       "0        89710             1.0                             0.198195   \n",
       "\n",
       "   fair_main_equalized_odds_ratio  fair_main_demographic_parity_difference  \\\n",
       "0                        0.902723                                 0.083096   \n",
       "0                        0.902723                                 0.083096   \n",
       "0                        0.774562                                 0.174975   \n",
       "0                        0.774562                                 0.174975   \n",
       "\n",
       "   fair_main_demographic_parity_ratio  ...  perf_grp_precision_0  \\\n",
       "0                            0.913807  ...                   NaN   \n",
       "0                            0.913807  ...              0.117665   \n",
       "0                            0.802267  ...                   NaN   \n",
       "0                            0.802267  ...              0.121039   \n",
       "\n",
       "   perf_grp_precision_1  perf_grp_false positive rate_0  \\\n",
       "0                   NaN                             NaN   \n",
       "0              0.144969                        0.961479   \n",
       "0                   NaN                             NaN   \n",
       "0              0.167556                        0.879155   \n",
       "\n",
       "   perf_grp_false positive rate_1  perf_grp_false negative rate_0  \\\n",
       "0                             NaN                             NaN   \n",
       "0                        0.867949                        0.016047   \n",
       "0                             NaN                             NaN   \n",
       "0                        0.680960                        0.070946   \n",
       "\n",
       "   perf_grp_false negative rate_1  perf_grp_selection rate_0  \\\n",
       "0                             NaN                        NaN   \n",
       "0                        0.033479                   0.964070   \n",
       "0                             NaN                        NaN   \n",
       "0                        0.099781                   0.884907   \n",
       "\n",
       "   perf_grp_selection rate_1  perf_grp_count_0  perf_grp_count_1  \n",
       "0                        NaN               NaN               NaN  \n",
       "0                   0.880974           20540.0           69170.0  \n",
       "0                        NaN               NaN               NaN  \n",
       "0                   0.709932           20540.0           69170.0  \n",
       "\n",
       "[4 rows x 50 columns]"
      ]
     },
     "execution_count": 79,
     "metadata": {},
     "output_type": "execute_result"
    }
   ],
   "source": [
    "final_output = universe_analysis.generate_final_output(\n",
    "    y_pred_prob=probs_test,\n",
    "    y_test=y_true,\n",
    "    org_test=org_test,\n",
    "    filter_data=filter_sub_universe_data,\n",
    "    cp_metrics_df=cp_metrics_df,\n",
    "    save=True,\n",
    ")\n",
    "final_output"
   ]
  },
  {
   "cell_type": "code",
   "execution_count": null,
   "id": "721ff514-cb11-46f8-b6fc-50392f74b5cb",
   "metadata": {
    "papermill": {
     "duration": 0.015031,
     "end_time": "2025-07-30T20:24:12.679163",
     "exception": false,
     "start_time": "2025-07-30T20:24:12.664132",
     "status": "completed"
    },
    "tags": []
   },
   "outputs": [],
   "source": []
  }
 ],
 "metadata": {
  "celltoolbar": "Tags",
  "kernelspec": {
   "display_name": "Python (CMA Fairness)",
   "language": "python",
   "name": "cma_fair_env"
  },
  "language_info": {
   "codemirror_mode": {
    "name": "ipython",
    "version": 3
   },
   "file_extension": ".py",
   "mimetype": "text/x-python",
   "name": "python",
   "nbconvert_exporter": "python",
   "pygments_lexer": "ipython3",
   "version": "3.10.12"
  },
  "papermill": {
   "default_parameters": {},
   "duration": 250.533403,
   "end_time": "2025-07-30T20:24:13.413210",
   "environment_variables": {},
   "exception": null,
   "input_path": "universe_analysis.ipynb",
   "output_path": "output/runs/14/notebooks/m_14-63b395d36988ddc9d58cb9339d278f6e.ipynb",
   "parameters": {
    "output_dir": "output",
    "run_no": "14",
    "seed": "2023",
    "universe": "{\"cutoff\": [\"quantile_0.1\", \"quantile_0.25\"], \"eval_fairness_grouping\": [\"majority-minority\", \"nationality-all\"], \"exclude_features\": \"none\", \"exclude_subgroups\": \"keep-all\", \"model\": \"elasticnet\", \"scale\": \"do-not-scale\", \"training_size\": \"25k\", \"training_year\": \"2012_14\"}",
    "universe_id": "63b395d36988ddc9d58cb9339d278f6e"
   },
   "start_time": "2025-07-30T20:20:02.879807",
   "version": "2.6.0"
  }
 },
 "nbformat": 4,
 "nbformat_minor": 5
}