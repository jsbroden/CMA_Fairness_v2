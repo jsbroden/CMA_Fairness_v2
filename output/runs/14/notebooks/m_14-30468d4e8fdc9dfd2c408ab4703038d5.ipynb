{
 "cells": [
  {
   "cell_type": "code",
   "execution_count": 1,
   "id": "f159f837-637b-42ba-96b5-ec9a68c44524",
   "metadata": {
    "execution": {
     "iopub.execute_input": "2025-07-30T21:26:45.272007Z",
     "iopub.status.busy": "2025-07-30T21:26:45.270616Z",
     "iopub.status.idle": "2025-07-30T21:26:45.285507Z",
     "shell.execute_reply": "2025-07-30T21:26:45.284567Z"
    },
    "papermill": {
     "duration": 0.039369,
     "end_time": "2025-07-30T21:26:45.287126",
     "exception": false,
     "start_time": "2025-07-30T21:26:45.247757",
     "status": "completed"
    },
    "tags": []
   },
   "outputs": [
    {
     "name": "stdout",
     "output_type": "stream",
     "text": [
      "/dss/dsshome1/0C/ra93lal2/cma/CMA_Fairness_v2\n"
     ]
    },
    {
     "name": "stderr",
     "output_type": "stream",
     "text": [
      "/dss/dsshome1/0C/ra93lal2/.local/share/virtualenvs/CMA_Fairness_v2-3j10GkSs/lib/python3.10/site-packages/IPython/core/magics/osm.py:393: UserWarning: This is now an optional IPython functionality, using bookmarks requires you to install the `pickleshare` library.\n",
      "  bkms = self.shell.db.get('bookmarks', {})\n",
      "/dss/dsshome1/0C/ra93lal2/.local/share/virtualenvs/CMA_Fairness_v2-3j10GkSs/lib/python3.10/site-packages/IPython/core/magics/osm.py:417: UserWarning: This is now an optional IPython functionality, setting dhist requires you to install the `pickleshare` library.\n",
      "  self.shell.db['dhist'] = compress_dhist(dhist)[-100:]\n"
     ]
    }
   ],
   "source": [
    "%cd ~/cma/CMA_Fairness_v2"
   ]
  },
  {
   "cell_type": "markdown",
   "id": "de2603b9",
   "metadata": {
    "papermill": {
     "duration": 0.01888,
     "end_time": "2025-07-30T21:26:45.325122",
     "exception": false,
     "start_time": "2025-07-30T21:26:45.306242",
     "status": "completed"
    },
    "tags": []
   },
   "source": [
    "The following cell holds the definition of our parameters, these values can be overriden by rendering the with e.g. the following command:\n",
    "\n",
    "papermill -p alpha 0.2 -p ratio 0.3 universe_analysis.ipynb output/test_run.ipynb"
   ]
  },
  {
   "cell_type": "code",
   "execution_count": 2,
   "id": "a80968a0-40bb-4fa9-85ef-2d5eefb01975",
   "metadata": {
    "execution": {
     "iopub.execute_input": "2025-07-30T21:26:45.365505Z",
     "iopub.status.busy": "2025-07-30T21:26:45.365003Z",
     "iopub.status.idle": "2025-07-30T21:26:45.370284Z",
     "shell.execute_reply": "2025-07-30T21:26:45.369376Z"
    },
    "papermill": {
     "duration": 0.027358,
     "end_time": "2025-07-30T21:26:45.371780",
     "exception": false,
     "start_time": "2025-07-30T21:26:45.344422",
     "status": "completed"
    },
    "tags": []
   },
   "outputs": [
    {
     "name": "stdout",
     "output_type": "stream",
     "text": [
      "Current working directory: /dss/dsshome1/0C/ra93lal2/cma/CMA_Fairness_v2\n"
     ]
    }
   ],
   "source": [
    "import os\n",
    "print(\"Current working directory:\", os.getcwd())"
   ]
  },
  {
   "cell_type": "code",
   "execution_count": 3,
   "id": "2dce4c03",
   "metadata": {
    "execution": {
     "iopub.execute_input": "2025-07-30T21:26:45.414917Z",
     "iopub.status.busy": "2025-07-30T21:26:45.413953Z",
     "iopub.status.idle": "2025-07-30T21:26:45.435657Z",
     "shell.execute_reply": "2025-07-30T21:26:45.434665Z"
    },
    "papermill": {
     "duration": 0.045764,
     "end_time": "2025-07-30T21:26:45.437416",
     "exception": false,
     "start_time": "2025-07-30T21:26:45.391652",
     "status": "completed"
    },
    "tags": [
     "parameters"
    ]
   },
   "outputs": [],
   "source": [
    "run_no = 0\n",
    "universe_id = \"test\"\n",
    "universe = {\n",
    "    \"training_size\": \"25k\", # \"25k\", \"5k\", \"1k\"\n",
    "    \"training_year\": \"2014\", # \"2014\", \"2012_14\", \"2010_14\"\n",
    "    \"scale\": \"scale\", # \"scale\", \"do-not-scale\",\n",
    "    #\"stratify_split\": \"target\", # \"none\", \"target\", \"protected-attribute\", \"both\",\n",
    "    \"model\": \"elasticnet\", # \"logreg\", \"penalized_logreg\", \"rf\", \"gbm\", \"elasticnet\"\n",
    "    \"cutoff\": [\"quantile_0.15\", \"quantile_0.30\"],\n",
    "    \"exclude_features\": \"age\", # \"none\", \"nationality\", \"sex\", \"nationality-sex\", \"age\"\n",
    "    \"exclude_subgroups\": \"keep-all\", # \"keep-all\", \"drop-non-german\"\n",
    "    \"eval_fairness_grouping\": [\"majority-minority\", \"nationality-all\"]\n",
    "}\n",
    "\n",
    "output_dir=\"./output\"\n",
    "seed=0"
   ]
  },
  {
   "cell_type": "code",
   "execution_count": 4,
   "id": "f6e051d2",
   "metadata": {
    "execution": {
     "iopub.execute_input": "2025-07-30T21:26:45.480393Z",
     "iopub.status.busy": "2025-07-30T21:26:45.479747Z",
     "iopub.status.idle": "2025-07-30T21:26:45.485175Z",
     "shell.execute_reply": "2025-07-30T21:26:45.484162Z"
    },
    "papermill": {
     "duration": 0.027929,
     "end_time": "2025-07-30T21:26:45.486851",
     "exception": false,
     "start_time": "2025-07-30T21:26:45.458922",
     "status": "completed"
    },
    "tags": [
     "injected-parameters"
    ]
   },
   "outputs": [],
   "source": [
    "# Parameters\n",
    "universe_id = \"30468d4e8fdc9dfd2c408ab4703038d5\"\n",
    "run_no = \"14\"\n",
    "universe = \"{\\\"cutoff\\\": [\\\"quantile_0.1\\\", \\\"quantile_0.25\\\"], \\\"eval_fairness_grouping\\\": [\\\"majority-minority\\\", \\\"nationality-all\\\"], \\\"exclude_features\\\": \\\"nationality-sex\\\", \\\"exclude_subgroups\\\": \\\"keep-all\\\", \\\"model\\\": \\\"elasticnet\\\", \\\"scale\\\": \\\"scale\\\", \\\"training_size\\\": \\\"1k\\\", \\\"training_year\\\": \\\"2014\\\"}\"\n",
    "output_dir = \"output\"\n",
    "seed = \"2023\"\n"
   ]
  },
  {
   "cell_type": "code",
   "execution_count": 5,
   "id": "1650acaf",
   "metadata": {
    "execution": {
     "iopub.execute_input": "2025-07-30T21:26:45.531322Z",
     "iopub.status.busy": "2025-07-30T21:26:45.530664Z",
     "iopub.status.idle": "2025-07-30T21:26:45.535774Z",
     "shell.execute_reply": "2025-07-30T21:26:45.534904Z"
    },
    "papermill": {
     "duration": 0.028715,
     "end_time": "2025-07-30T21:26:45.537377",
     "exception": false,
     "start_time": "2025-07-30T21:26:45.508662",
     "status": "completed"
    },
    "tags": []
   },
   "outputs": [],
   "source": [
    "import json\n",
    "# Parse universe into dict if it is passed as a string\n",
    "if isinstance(universe, str):\n",
    "    universe = json.loads(universe)"
   ]
  },
  {
   "cell_type": "code",
   "execution_count": 6,
   "id": "16620c48",
   "metadata": {
    "execution": {
     "iopub.execute_input": "2025-07-30T21:26:45.578389Z",
     "iopub.status.busy": "2025-07-30T21:26:45.577789Z",
     "iopub.status.idle": "2025-07-30T21:26:45.625076Z",
     "shell.execute_reply": "2025-07-30T21:26:45.624079Z"
    },
    "papermill": {
     "duration": 0.069582,
     "end_time": "2025-07-30T21:26:45.627158",
     "exception": false,
     "start_time": "2025-07-30T21:26:45.557576",
     "status": "completed"
    },
    "tags": []
   },
   "outputs": [],
   "source": [
    "# Auto-reload the custom package\n",
    "%load_ext autoreload\n",
    "%autoreload 1\n",
    "%aimport fairness_multiverse"
   ]
  },
  {
   "cell_type": "code",
   "execution_count": 7,
   "id": "01c5c9f3",
   "metadata": {
    "execution": {
     "iopub.execute_input": "2025-07-30T21:26:45.671237Z",
     "iopub.status.busy": "2025-07-30T21:26:45.670551Z",
     "iopub.status.idle": "2025-07-30T21:26:47.630727Z",
     "shell.execute_reply": "2025-07-30T21:26:47.629739Z"
    },
    "papermill": {
     "duration": 1.98353,
     "end_time": "2025-07-30T21:26:47.632668",
     "exception": false,
     "start_time": "2025-07-30T21:26:45.649138",
     "status": "completed"
    },
    "tags": []
   },
   "outputs": [],
   "source": [
    "from fairness_multiverse.universe import UniverseAnalysis\n",
    "\n",
    "universe_analysis = UniverseAnalysis(\n",
    "    run_no = run_no,\n",
    "    universe_id = universe_id,\n",
    "    universe = universe,\n",
    "    output_dir=output_dir,\n",
    ")"
   ]
  },
  {
   "cell_type": "code",
   "execution_count": 8,
   "id": "106241f5",
   "metadata": {
    "execution": {
     "iopub.execute_input": "2025-07-30T21:26:47.675111Z",
     "iopub.status.busy": "2025-07-30T21:26:47.674172Z",
     "iopub.status.idle": "2025-07-30T21:26:47.681616Z",
     "shell.execute_reply": "2025-07-30T21:26:47.680650Z"
    },
    "papermill": {
     "duration": 0.030217,
     "end_time": "2025-07-30T21:26:47.683310",
     "exception": false,
     "start_time": "2025-07-30T21:26:47.653093",
     "status": "completed"
    },
    "tags": []
   },
   "outputs": [
    {
     "name": "stdout",
     "output_type": "stream",
     "text": [
      "Using Seed: 2023\n"
     ]
    }
   ],
   "source": [
    "import numpy as np\n",
    "parsed_seed = int(seed)\n",
    "np.random.seed(parsed_seed)\n",
    "print(f\"Using Seed: {parsed_seed}\")"
   ]
  },
  {
   "cell_type": "markdown",
   "id": "e0ebdc57",
   "metadata": {
    "papermill": {
     "duration": 0.019599,
     "end_time": "2025-07-30T21:26:47.724171",
     "exception": false,
     "start_time": "2025-07-30T21:26:47.704572",
     "status": "completed"
    },
    "tags": []
   },
   "source": [
    "# Loading Data"
   ]
  },
  {
   "cell_type": "markdown",
   "id": "681925a3",
   "metadata": {
    "papermill": {
     "duration": 0.020229,
     "end_time": "2025-07-30T21:26:47.764497",
     "exception": false,
     "start_time": "2025-07-30T21:26:47.744268",
     "status": "completed"
    },
    "tags": []
   },
   "source": [
    "Load siab_train, siab_test, siab_calib and/or \n",
    "load siab_train_features, siab_train_labels"
   ]
  },
  {
   "cell_type": "code",
   "execution_count": 9,
   "id": "f0496b8a",
   "metadata": {
    "execution": {
     "iopub.execute_input": "2025-07-30T21:26:47.805917Z",
     "iopub.status.busy": "2025-07-30T21:26:47.804953Z",
     "iopub.status.idle": "2025-07-30T21:27:00.059183Z",
     "shell.execute_reply": "2025-07-30T21:27:00.057844Z"
    },
    "papermill": {
     "duration": 12.276542,
     "end_time": "2025-07-30T21:27:00.060916",
     "exception": false,
     "start_time": "2025-07-30T21:26:47.784374",
     "status": "completed"
    },
    "tags": []
   },
   "outputs": [
    {
     "name": "stdout",
     "output_type": "stream",
     "text": [
      "Loading SIAB data from cache: data/siab_cached.csv.gz\n"
     ]
    },
    {
     "name": "stdout",
     "output_type": "stream",
     "text": [
      "(643690, 164)\n"
     ]
    }
   ],
   "source": [
    "from pathlib import Path\n",
    "import pandas as pd\n",
    "\n",
    "# File paths\n",
    "raw_file = Path(\"data/raw/siab.csv\")\n",
    "cache_file = Path(\"data/siab_cached.csv.gz\")\n",
    "\n",
    "# Ensure cache directory exists\n",
    "cache_file.parent.mkdir(parents=True, exist_ok=True)\n",
    "\n",
    "# Load with simple caching\n",
    "if cache_file.exists():\n",
    "    print(f\"Loading SIAB data from cache: {cache_file}\")\n",
    "    siab = pd.read_csv(cache_file, compression='gzip')\n",
    "else:\n",
    "    print(f\"Cache not found. Reading raw SIAB data: {raw_file}\")\n",
    "    siab = pd.read_csv(raw_file)\n",
    "    siab.to_csv(cache_file, index=False, compression='gzip')\n",
    "    print(f\"Cached SIAB data to: {cache_file}\")\n",
    "\n",
    "# Now use `siab` DataFrame as needed\n",
    "print(siab.shape)"
   ]
  },
  {
   "cell_type": "code",
   "execution_count": 10,
   "id": "db0ca512-5f53-4dba-abdb-a2888bca41ba",
   "metadata": {
    "execution": {
     "iopub.execute_input": "2025-07-30T21:27:00.131586Z",
     "iopub.status.busy": "2025-07-30T21:27:00.130764Z",
     "iopub.status.idle": "2025-07-30T21:27:00.136819Z",
     "shell.execute_reply": "2025-07-30T21:27:00.135693Z"
    },
    "papermill": {
     "duration": 0.036822,
     "end_time": "2025-07-30T21:27:00.138609",
     "exception": false,
     "start_time": "2025-07-30T21:27:00.101787",
     "status": "completed"
    },
    "tags": []
   },
   "outputs": [],
   "source": [
    "#siab"
   ]
  },
  {
   "cell_type": "code",
   "execution_count": 11,
   "id": "a0edb063",
   "metadata": {
    "execution": {
     "iopub.execute_input": "2025-07-30T21:27:00.180264Z",
     "iopub.status.busy": "2025-07-30T21:27:00.179800Z",
     "iopub.status.idle": "2025-07-30T21:27:00.185112Z",
     "shell.execute_reply": "2025-07-30T21:27:00.184196Z"
    },
    "papermill": {
     "duration": 0.027055,
     "end_time": "2025-07-30T21:27:00.186475",
     "exception": false,
     "start_time": "2025-07-30T21:27:00.159420",
     "status": "completed"
    },
    "tags": []
   },
   "outputs": [],
   "source": [
    "#import pandas as pd\n",
    "#\n",
    "#X_train = pd.read_csv(\"./data/X_train.csv\")\n",
    "#y_train = pd.read_csv(\"./data/y_train.csv\")"
   ]
  },
  {
   "cell_type": "code",
   "execution_count": 12,
   "id": "63d08085",
   "metadata": {
    "execution": {
     "iopub.execute_input": "2025-07-30T21:27:00.210078Z",
     "iopub.status.busy": "2025-07-30T21:27:00.209645Z",
     "iopub.status.idle": "2025-07-30T21:27:00.215142Z",
     "shell.execute_reply": "2025-07-30T21:27:00.214186Z"
    },
    "papermill": {
     "duration": 0.019488,
     "end_time": "2025-07-30T21:27:00.217045",
     "exception": false,
     "start_time": "2025-07-30T21:27:00.197557",
     "status": "completed"
    },
    "tags": []
   },
   "outputs": [],
   "source": [
    "#X_test = pd.read_csv(\"./data/X_test.csv\")\n",
    "#y_true = pd.read_csv(\"./data/y_test.csv\")"
   ]
  },
  {
   "cell_type": "code",
   "execution_count": 13,
   "id": "98a8d0fa-1d3d-4ed8-bb2c-281470e24add",
   "metadata": {
    "execution": {
     "iopub.execute_input": "2025-07-30T21:27:00.251635Z",
     "iopub.status.busy": "2025-07-30T21:27:00.251190Z",
     "iopub.status.idle": "2025-07-30T21:27:00.255421Z",
     "shell.execute_reply": "2025-07-30T21:27:00.254698Z"
    },
    "papermill": {
     "duration": 0.018698,
     "end_time": "2025-07-30T21:27:00.256811",
     "exception": false,
     "start_time": "2025-07-30T21:27:00.238113",
     "status": "completed"
    },
    "tags": []
   },
   "outputs": [],
   "source": [
    "# Calibration data for conformal\n",
    "#X_calib = pd.read_csv(\"./data/X_calib.csv\")\n",
    "#y_calib = pd.read_csv(\"./data/y_calib.csv\")"
   ]
  },
  {
   "cell_type": "markdown",
   "id": "997051c5-15bd-4b69-9786-c3001a3ce484",
   "metadata": {
    "papermill": {
     "duration": 0.014444,
     "end_time": "2025-07-30T21:27:00.282263",
     "exception": false,
     "start_time": "2025-07-30T21:27:00.267819",
     "status": "completed"
    },
    "tags": []
   },
   "source": [
    "# Splitting Data and Setting Training Data Size"
   ]
  },
  {
   "cell_type": "code",
   "execution_count": 14,
   "id": "e993b61f-042d-41a6-8c81-f55681f86335",
   "metadata": {
    "execution": {
     "iopub.execute_input": "2025-07-30T21:27:00.332738Z",
     "iopub.status.busy": "2025-07-30T21:27:00.332310Z",
     "iopub.status.idle": "2025-07-30T21:27:00.346529Z",
     "shell.execute_reply": "2025-07-30T21:27:00.345551Z"
    },
    "papermill": {
     "duration": 0.034312,
     "end_time": "2025-07-30T21:27:00.348079",
     "exception": false,
     "start_time": "2025-07-30T21:27:00.313767",
     "status": "completed"
    },
    "tags": []
   },
   "outputs": [],
   "source": [
    "def sample_by_year_size(df,\n",
    "                        training_year: str,\n",
    "                        training_size: str,\n",
    "                        random_state: int = 42):\n",
    "    # --- parse training_year into a list of int years ---\n",
    "    if \"_\" in training_year:\n",
    "        start_str, end_str = training_year.split(\"_\", 1)\n",
    "        start = int(start_str)\n",
    "        end   = int(end_str) if len(end_str) == 4 else (int(end_str) + (start // 100)*100)\n",
    "        years = list(range(start, end + 1))\n",
    "    else:\n",
    "        years = [int(training_year)]\n",
    "\n",
    "    df = df[df[\"year\"].isin(years)].reset_index(drop=True)\n",
    "\n",
    "    # --- map training_size to total number of samples ---\n",
    "    total_map = {\"25k\": 25_000, \"5k\": 5_000, \"1k\": 1_000}\n",
    "    if training_size not in total_map:\n",
    "        return df  # e.g. \"all\"\n",
    "\n",
    "    total_samples = total_map[training_size]\n",
    "    n_years       = len(years)\n",
    "    base          = total_samples // n_years\n",
    "    remainder     = total_samples % n_years\n",
    "\n",
    "    # --- build a dict: year -> how many to sample ---\n",
    "    # give +1 to the first `remainder` years in ascending order\n",
    "    quotas = {\n",
    "        year: base + (1 if idx < remainder else 0)\n",
    "        for idx, year in enumerate(sorted(years))\n",
    "    }\n",
    "\n",
    "    # --- sample per‐year according to the quota dict ---\n",
    "    sampled = (\n",
    "        df\n",
    "        .groupby(\"year\", group_keys=False)\n",
    "        .apply(lambda grp: grp.sample(\n",
    "            n=min(len(grp), quotas[grp.name]),\n",
    "            random_state=random_state))\n",
    "        .reset_index(drop=True)\n",
    "    )\n",
    "\n",
    "    return sampled"
   ]
  },
  {
   "cell_type": "code",
   "execution_count": 15,
   "id": "c0ccd338-0e02-41f3-a09d-f56f9266e3fb",
   "metadata": {
    "execution": {
     "iopub.execute_input": "2025-07-30T21:27:00.399426Z",
     "iopub.status.busy": "2025-07-30T21:27:00.398913Z",
     "iopub.status.idle": "2025-07-30T21:27:00.404427Z",
     "shell.execute_reply": "2025-07-30T21:27:00.403260Z"
    },
    "papermill": {
     "duration": 0.029295,
     "end_time": "2025-07-30T21:27:00.406312",
     "exception": false,
     "start_time": "2025-07-30T21:27:00.377017",
     "status": "completed"
    },
    "tags": []
   },
   "outputs": [],
   "source": [
    "#universe[\"training_size\"]"
   ]
  },
  {
   "cell_type": "code",
   "execution_count": 16,
   "id": "ca707fd7-8047-4acd-bfa5-66248fbbf8e6",
   "metadata": {
    "execution": {
     "iopub.execute_input": "2025-07-30T21:27:00.452264Z",
     "iopub.status.busy": "2025-07-30T21:27:00.451650Z",
     "iopub.status.idle": "2025-07-30T21:27:00.456953Z",
     "shell.execute_reply": "2025-07-30T21:27:00.455974Z"
    },
    "papermill": {
     "duration": 0.02973,
     "end_time": "2025-07-30T21:27:00.458752",
     "exception": false,
     "start_time": "2025-07-30T21:27:00.429022",
     "status": "completed"
    },
    "tags": []
   },
   "outputs": [],
   "source": [
    "#universe[\"training_year\"]"
   ]
  },
  {
   "cell_type": "code",
   "execution_count": 17,
   "id": "aea9c6ef-6f46-42c8-85eb-5a62025c1508",
   "metadata": {
    "execution": {
     "iopub.execute_input": "2025-07-30T21:27:00.502969Z",
     "iopub.status.busy": "2025-07-30T21:27:00.502520Z",
     "iopub.status.idle": "2025-07-30T21:27:00.719809Z",
     "shell.execute_reply": "2025-07-30T21:27:00.718689Z"
    },
    "papermill": {
     "duration": 0.241256,
     "end_time": "2025-07-30T21:27:00.721861",
     "exception": false,
     "start_time": "2025-07-30T21:27:00.480605",
     "status": "completed"
    },
    "tags": []
   },
   "outputs": [],
   "source": [
    "siab_train = sample_by_year_size(siab,\n",
    "                               training_year=universe[\"training_year\"],\n",
    "                               training_size=universe[\"training_size\"])"
   ]
  },
  {
   "cell_type": "code",
   "execution_count": 18,
   "id": "8d3afb32-789d-442c-8d5d-9f5aa8dd2eed",
   "metadata": {
    "execution": {
     "iopub.execute_input": "2025-07-30T21:27:00.770997Z",
     "iopub.status.busy": "2025-07-30T21:27:00.770158Z",
     "iopub.status.idle": "2025-07-30T21:27:00.775026Z",
     "shell.execute_reply": "2025-07-30T21:27:00.774166Z"
    },
    "papermill": {
     "duration": 0.031784,
     "end_time": "2025-07-30T21:27:00.776527",
     "exception": false,
     "start_time": "2025-07-30T21:27:00.744743",
     "status": "completed"
    },
    "tags": []
   },
   "outputs": [],
   "source": [
    "#siab_train.shape"
   ]
  },
  {
   "cell_type": "code",
   "execution_count": 19,
   "id": "d582db68-1a4c-47fb-84fc-08518dc1975a",
   "metadata": {
    "execution": {
     "iopub.execute_input": "2025-07-30T21:27:00.819009Z",
     "iopub.status.busy": "2025-07-30T21:27:00.818216Z",
     "iopub.status.idle": "2025-07-30T21:27:00.823347Z",
     "shell.execute_reply": "2025-07-30T21:27:00.822365Z"
    },
    "papermill": {
     "duration": 0.028406,
     "end_time": "2025-07-30T21:27:00.824808",
     "exception": false,
     "start_time": "2025-07-30T21:27:00.796402",
     "status": "completed"
    },
    "tags": []
   },
   "outputs": [],
   "source": [
    "#display(siab_train.groupby(\"year\").size())"
   ]
  },
  {
   "cell_type": "code",
   "execution_count": 20,
   "id": "a561edb4-d032-42cb-8256-22eac1111c64",
   "metadata": {
    "execution": {
     "iopub.execute_input": "2025-07-30T21:27:00.865881Z",
     "iopub.status.busy": "2025-07-30T21:27:00.865252Z",
     "iopub.status.idle": "2025-07-30T21:27:01.107087Z",
     "shell.execute_reply": "2025-07-30T21:27:01.106154Z"
    },
    "papermill": {
     "duration": 0.264339,
     "end_time": "2025-07-30T21:27:01.108926",
     "exception": false,
     "start_time": "2025-07-30T21:27:00.844587",
     "status": "completed"
    },
    "tags": []
   },
   "outputs": [],
   "source": [
    "#siab_train = siab_s[siab_s.year < 2015]\n",
    "siab_calib = siab[siab.year == 2015]\n",
    "siab_test = siab[siab.year == 2016]"
   ]
  },
  {
   "cell_type": "code",
   "execution_count": 21,
   "id": "472de16f-c3db-4916-846b-1f0de9cf1746",
   "metadata": {
    "execution": {
     "iopub.execute_input": "2025-07-30T21:27:01.157943Z",
     "iopub.status.busy": "2025-07-30T21:27:01.157397Z",
     "iopub.status.idle": "2025-07-30T21:27:01.165150Z",
     "shell.execute_reply": "2025-07-30T21:27:01.164173Z"
    },
    "papermill": {
     "duration": 0.036463,
     "end_time": "2025-07-30T21:27:01.166853",
     "exception": false,
     "start_time": "2025-07-30T21:27:01.130390",
     "status": "completed"
    },
    "tags": []
   },
   "outputs": [],
   "source": [
    "X_train = siab_train.iloc[:,4:164]\n",
    "y_train = siab_train.iloc[:, [3]]"
   ]
  },
  {
   "cell_type": "code",
   "execution_count": 22,
   "id": "828c96af-f43a-4ed6-ba47-8ac73a47d56c",
   "metadata": {
    "execution": {
     "iopub.execute_input": "2025-07-30T21:27:01.209687Z",
     "iopub.status.busy": "2025-07-30T21:27:01.209033Z",
     "iopub.status.idle": "2025-07-30T21:27:01.297016Z",
     "shell.execute_reply": "2025-07-30T21:27:01.295989Z"
    },
    "papermill": {
     "duration": 0.110747,
     "end_time": "2025-07-30T21:27:01.298943",
     "exception": false,
     "start_time": "2025-07-30T21:27:01.188196",
     "status": "completed"
    },
    "tags": []
   },
   "outputs": [],
   "source": [
    "X_calib = siab_calib.iloc[:,4:164]\n",
    "y_calib = siab_calib.iloc[:, [3]]"
   ]
  },
  {
   "cell_type": "code",
   "execution_count": 23,
   "id": "c34be9c3-6bd6-476e-acd3-845840e303be",
   "metadata": {
    "execution": {
     "iopub.execute_input": "2025-07-30T21:27:01.343384Z",
     "iopub.status.busy": "2025-07-30T21:27:01.342625Z",
     "iopub.status.idle": "2025-07-30T21:27:01.395337Z",
     "shell.execute_reply": "2025-07-30T21:27:01.394325Z"
    },
    "papermill": {
     "duration": 0.077058,
     "end_time": "2025-07-30T21:27:01.397004",
     "exception": false,
     "start_time": "2025-07-30T21:27:01.319946",
     "status": "completed"
    },
    "tags": []
   },
   "outputs": [],
   "source": [
    "X_test = siab_test.iloc[:,4:164]\n",
    "y_true = siab_test.iloc[:, [3]]"
   ]
  },
  {
   "cell_type": "markdown",
   "id": "9901737e-04df-44f0-9100-f5ad144ed040",
   "metadata": {
    "papermill": {
     "duration": 0.019877,
     "end_time": "2025-07-30T21:27:01.438326",
     "exception": false,
     "start_time": "2025-07-30T21:27:01.418449",
     "status": "completed"
    },
    "tags": []
   },
   "source": [
    "# Splitting Data and Setting Training Data Size OLD VERSION"
   ]
  },
  {
   "cell_type": "code",
   "execution_count": 24,
   "id": "acbc8f7d-8fc8-4e86-8c59-5dcb0f58384b",
   "metadata": {
    "execution": {
     "iopub.execute_input": "2025-07-30T21:27:01.483297Z",
     "iopub.status.busy": "2025-07-30T21:27:01.482445Z",
     "iopub.status.idle": "2025-07-30T21:27:01.487624Z",
     "shell.execute_reply": "2025-07-30T21:27:01.486809Z"
    },
    "papermill": {
     "duration": 0.029586,
     "end_time": "2025-07-30T21:27:01.489299",
     "exception": false,
     "start_time": "2025-07-30T21:27:01.459713",
     "status": "completed"
    },
    "tags": []
   },
   "outputs": [],
   "source": [
    "#def sample_by_year(df, training_size, random_state=42):\n",
    "#    if training_size == \"2014\":\n",
    "#        return df[df[\"year\"] == 2014].reset_index(drop=True)\n",
    "#    \n",
    "#    size_map = {\n",
    "#        \"25k\": 5000,\n",
    "#        \"5k\": 1000,\n",
    "#        \"1k\": 200\n",
    "#    }\n",
    "#\n",
    "#    if training_size not in size_map:\n",
    "#        return df.reset_index(drop=True)  # use all data\n",
    "#\n",
    "#    n_per_year = size_map[training_size]\n",
    "#    grouped = df.groupby(\"year\")\n",
    "#    sampled = grouped.apply(lambda x: x.sample(n=min(n_per_year, len(x)), random_state=random_state))\n",
    "#    return sampled.reset_index(drop=True)"
   ]
  },
  {
   "cell_type": "code",
   "execution_count": 25,
   "id": "6d931f52-beaf-43ff-9e78-9d44a448d54e",
   "metadata": {
    "execution": {
     "iopub.execute_input": "2025-07-30T21:27:01.541470Z",
     "iopub.status.busy": "2025-07-30T21:27:01.540824Z",
     "iopub.status.idle": "2025-07-30T21:27:01.546107Z",
     "shell.execute_reply": "2025-07-30T21:27:01.545061Z"
    },
    "papermill": {
     "duration": 0.035953,
     "end_time": "2025-07-30T21:27:01.547936",
     "exception": false,
     "start_time": "2025-07-30T21:27:01.511983",
     "status": "completed"
    },
    "tags": []
   },
   "outputs": [],
   "source": [
    "#siab_s = sample_by_year(siab, universe[\"training_size\"])"
   ]
  },
  {
   "cell_type": "code",
   "execution_count": 26,
   "id": "5db0a40e-a4e2-4920-be85-b12ae061d70d",
   "metadata": {
    "execution": {
     "iopub.execute_input": "2025-07-30T21:27:01.593296Z",
     "iopub.status.busy": "2025-07-30T21:27:01.592789Z",
     "iopub.status.idle": "2025-07-30T21:27:01.598048Z",
     "shell.execute_reply": "2025-07-30T21:27:01.597123Z"
    },
    "papermill": {
     "duration": 0.028955,
     "end_time": "2025-07-30T21:27:01.599752",
     "exception": false,
     "start_time": "2025-07-30T21:27:01.570797",
     "status": "completed"
    },
    "tags": []
   },
   "outputs": [],
   "source": [
    "#display(siab_s.groupby(\"year\").size())"
   ]
  },
  {
   "cell_type": "code",
   "execution_count": 27,
   "id": "e6c733c5",
   "metadata": {
    "execution": {
     "iopub.execute_input": "2025-07-30T21:27:01.645044Z",
     "iopub.status.busy": "2025-07-30T21:27:01.644592Z",
     "iopub.status.idle": "2025-07-30T21:27:01.735131Z",
     "shell.execute_reply": "2025-07-30T21:27:01.734156Z"
    },
    "papermill": {
     "duration": 0.114416,
     "end_time": "2025-07-30T21:27:01.737089",
     "exception": false,
     "start_time": "2025-07-30T21:27:01.622673",
     "status": "completed"
    },
    "tags": []
   },
   "outputs": [],
   "source": [
    "# Auxiliary data needed downstream in the pipeline\n",
    "\n",
    "org_train = X_train.copy()\n",
    "org_test = X_test.copy()\n",
    "org_calib = X_calib.copy()"
   ]
  },
  {
   "cell_type": "code",
   "execution_count": 28,
   "id": "1466abac-c6da-4492-a62f-4240ae3783af",
   "metadata": {
    "execution": {
     "iopub.execute_input": "2025-07-30T21:27:01.786338Z",
     "iopub.status.busy": "2025-07-30T21:27:01.785850Z",
     "iopub.status.idle": "2025-07-30T21:27:01.792215Z",
     "shell.execute_reply": "2025-07-30T21:27:01.791307Z"
    },
    "papermill": {
     "duration": 0.033558,
     "end_time": "2025-07-30T21:27:01.794248",
     "exception": false,
     "start_time": "2025-07-30T21:27:01.760690",
     "status": "completed"
    },
    "tags": []
   },
   "outputs": [],
   "source": [
    "# put in other script?\n",
    "# Group sizes\n",
    "\n",
    "#def calculate_percentages(df, df_name):\n",
    "#    total_entries = len(df)\n",
    "#\n",
    "#    female_pct = (df['frau1'] == 1).mean() * 100\n",
    "#    non_german_pct = ((df['maxdeutsch1'] == 0) & (df['maxdeutsch.Missing.'] == 0)).mean() * 100\n",
    "#    non_german_male_pct = ((df['frau1'] == 0) & (df['maxdeutsch1'] == 0) & (df['maxdeutsch.Missing.'] == 0)).mean() * 100\n",
    "#    non_german_female_pct = ((df['frau1'] == 1) & (df['maxdeutsch1'] == 0) & (df['maxdeutsch.Missing.'] == 0)).mean() * 100\n",
    "#\n",
    "#    print(f\"--- {df_name} ---\")\n",
    "#    print(f\"Female: {female_pct:.2f}%\")\n",
    "#    print(f\"Non-German: {non_german_pct:.2f}%\")\n",
    "#    print(f\"Non-German Male: {non_german_male_pct:.2f}%\")\n",
    "#    print(f\"Non-German Female: {non_german_female_pct:.2f}%\\n\")\n",
    "#\n",
    "## Calculate for each DataFrame\n",
    "#calculate_percentages(siab_calib, \"siab_calib\")\n",
    "#calculate_percentages(siab_test, \"siab_test\")\n",
    "#calculate_percentages(siab_train, \"siab_train\")"
   ]
  },
  {
   "cell_type": "markdown",
   "id": "0a4a1b33",
   "metadata": {
    "papermill": {
     "duration": 0.021772,
     "end_time": "2025-07-30T21:27:01.839570",
     "exception": false,
     "start_time": "2025-07-30T21:27:01.817798",
     "status": "completed"
    },
    "tags": []
   },
   "source": [
    "# Preprocessing Data"
   ]
  },
  {
   "cell_type": "code",
   "execution_count": 29,
   "id": "ca879031",
   "metadata": {
    "execution": {
     "iopub.execute_input": "2025-07-30T21:27:01.885555Z",
     "iopub.status.busy": "2025-07-30T21:27:01.885024Z",
     "iopub.status.idle": "2025-07-30T21:27:01.891301Z",
     "shell.execute_reply": "2025-07-30T21:27:01.890420Z"
    },
    "papermill": {
     "duration": 0.031491,
     "end_time": "2025-07-30T21:27:01.892973",
     "exception": false,
     "start_time": "2025-07-30T21:27:01.861482",
     "status": "completed"
    },
    "tags": []
   },
   "outputs": [],
   "source": [
    "# EXCLUDE PROTECTED FEATURES\n",
    "# ----------------------\n",
    "# \"exclude_features\": \"none\", # \"nationality\", \"sex\", \"nationality-sex\"\n",
    "\n",
    "excluded_features = universe[\"exclude_features\"].split(\"-\") # split, e.g.: \"nationality-sex\" -> [\"nationality\", \"sex\"]\n",
    "excluded_features_dictionary = {\n",
    "    \"nationality\": [\"maxdeutsch1\", \"maxdeutsch.Missing.\"],\n",
    "    \"sex\": [\"frau1\"],\n",
    "    \"age\": [\"age\"],\n",
    "}\n"
   ]
  },
  {
   "cell_type": "code",
   "execution_count": 30,
   "id": "b745ac60",
   "metadata": {
    "execution": {
     "iopub.execute_input": "2025-07-30T21:27:01.942525Z",
     "iopub.status.busy": "2025-07-30T21:27:01.941631Z",
     "iopub.status.idle": "2025-07-30T21:27:01.948219Z",
     "shell.execute_reply": "2025-07-30T21:27:01.947243Z"
    },
    "papermill": {
     "duration": 0.034819,
     "end_time": "2025-07-30T21:27:01.949954",
     "exception": false,
     "start_time": "2025-07-30T21:27:01.915135",
     "status": "completed"
    },
    "tags": []
   },
   "outputs": [],
   "source": [
    "# Code nice names to column names\n",
    "\n",
    "excluded_features_columns = [\n",
    "    excluded_features_dictionary[f] for f in excluded_features if len(f) > 0 and f != \"none\"\n",
    "]"
   ]
  },
  {
   "cell_type": "code",
   "execution_count": 31,
   "id": "f84f73a2",
   "metadata": {
    "execution": {
     "iopub.execute_input": "2025-07-30T21:27:01.994826Z",
     "iopub.status.busy": "2025-07-30T21:27:01.993931Z",
     "iopub.status.idle": "2025-07-30T21:27:02.001416Z",
     "shell.execute_reply": "2025-07-30T21:27:02.000449Z"
    },
    "papermill": {
     "duration": 0.031391,
     "end_time": "2025-07-30T21:27:02.002965",
     "exception": false,
     "start_time": "2025-07-30T21:27:01.971574",
     "status": "completed"
    },
    "tags": []
   },
   "outputs": [],
   "source": [
    "from utils import flatten_once\n",
    "\n",
    "excluded_features_columns = flatten_once(excluded_features_columns)"
   ]
  },
  {
   "cell_type": "code",
   "execution_count": 32,
   "id": "884dea22",
   "metadata": {
    "execution": {
     "iopub.execute_input": "2025-07-30T21:27:02.047884Z",
     "iopub.status.busy": "2025-07-30T21:27:02.047093Z",
     "iopub.status.idle": "2025-07-30T21:27:02.057050Z",
     "shell.execute_reply": "2025-07-30T21:27:02.056100Z"
    },
    "papermill": {
     "duration": 0.034056,
     "end_time": "2025-07-30T21:27:02.058639",
     "exception": false,
     "start_time": "2025-07-30T21:27:02.024583",
     "status": "completed"
    },
    "tags": []
   },
   "outputs": [
    {
     "name": "stdout",
     "output_type": "stream",
     "text": [
      "Dropping features: ['maxdeutsch1', 'maxdeutsch.Missing.', 'frau1']\n"
     ]
    }
   ],
   "source": [
    "if len(excluded_features_columns) > 0:\n",
    "    print(f\"Dropping features: {excluded_features_columns}\")\n",
    "    X_train.drop(excluded_features_columns, axis=1, inplace=True)"
   ]
  },
  {
   "cell_type": "code",
   "execution_count": 33,
   "id": "95ab8b16",
   "metadata": {
    "execution": {
     "iopub.execute_input": "2025-07-30T21:27:02.104051Z",
     "iopub.status.busy": "2025-07-30T21:27:02.103120Z",
     "iopub.status.idle": "2025-07-30T21:27:02.154962Z",
     "shell.execute_reply": "2025-07-30T21:27:02.153969Z"
    },
    "papermill": {
     "duration": 0.076195,
     "end_time": "2025-07-30T21:27:02.156624",
     "exception": false,
     "start_time": "2025-07-30T21:27:02.080429",
     "status": "completed"
    },
    "tags": []
   },
   "outputs": [
    {
     "name": "stdout",
     "output_type": "stream",
     "text": [
      "Dropping features: ['maxdeutsch1', 'maxdeutsch.Missing.', 'frau1']\n"
     ]
    }
   ],
   "source": [
    "if len(excluded_features_columns) > 0:\n",
    "    print(f\"Dropping features: {excluded_features_columns}\")\n",
    "    X_test.drop(excluded_features_columns, axis=1, inplace=True)"
   ]
  },
  {
   "cell_type": "code",
   "execution_count": 34,
   "id": "1853aaf5-fb9f-46cb-a2b5-8ea4ae2237e4",
   "metadata": {
    "execution": {
     "iopub.execute_input": "2025-07-30T21:27:02.202226Z",
     "iopub.status.busy": "2025-07-30T21:27:02.201326Z",
     "iopub.status.idle": "2025-07-30T21:27:02.252189Z",
     "shell.execute_reply": "2025-07-30T21:27:02.250931Z"
    },
    "papermill": {
     "duration": 0.075912,
     "end_time": "2025-07-30T21:27:02.254331",
     "exception": false,
     "start_time": "2025-07-30T21:27:02.178419",
     "status": "completed"
    },
    "tags": []
   },
   "outputs": [
    {
     "name": "stdout",
     "output_type": "stream",
     "text": [
      "Dropping features: ['maxdeutsch1', 'maxdeutsch.Missing.', 'frau1']\n"
     ]
    }
   ],
   "source": [
    "if len(excluded_features_columns) > 0:\n",
    "    print(f\"Dropping features: {excluded_features_columns}\")\n",
    "    X_calib.drop(excluded_features_columns, axis=1, inplace=True)"
   ]
  },
  {
   "cell_type": "code",
   "execution_count": 35,
   "id": "6727d079-03e5-481e-9d38-292a90b7a0a8",
   "metadata": {
    "execution": {
     "iopub.execute_input": "2025-07-30T21:27:02.313961Z",
     "iopub.status.busy": "2025-07-30T21:27:02.313271Z",
     "iopub.status.idle": "2025-07-30T21:27:02.318856Z",
     "shell.execute_reply": "2025-07-30T21:27:02.317888Z"
    },
    "papermill": {
     "duration": 0.037489,
     "end_time": "2025-07-30T21:27:02.320864",
     "exception": false,
     "start_time": "2025-07-30T21:27:02.283375",
     "status": "completed"
    },
    "tags": []
   },
   "outputs": [],
   "source": [
    "# SPLIT & STRATIFY DATA\n",
    "# ----------------------"
   ]
  },
  {
   "cell_type": "code",
   "execution_count": 36,
   "id": "76c4dc6d",
   "metadata": {
    "execution": {
     "iopub.execute_input": "2025-07-30T21:27:02.380424Z",
     "iopub.status.busy": "2025-07-30T21:27:02.379226Z",
     "iopub.status.idle": "2025-07-30T21:27:02.385964Z",
     "shell.execute_reply": "2025-07-30T21:27:02.385058Z"
    },
    "papermill": {
     "duration": 0.037609,
     "end_time": "2025-07-30T21:27:02.387531",
     "exception": false,
     "start_time": "2025-07-30T21:27:02.349922",
     "status": "completed"
    },
    "tags": []
   },
   "outputs": [],
   "source": [
    "# EXCLUDE CERTAIN SUBGROUPS\n",
    "# ----------------------\n",
    "\n",
    "mode = universe.get(\"exclude_subgroups\", \"keep-all\") \n",
    "# Fetches the exclude_subgroups setting from the universe dict.\n",
    "# Defaults to \"keep-all\" if the key is missing."
   ]
  },
  {
   "cell_type": "code",
   "execution_count": 37,
   "id": "21994072",
   "metadata": {
    "execution": {
     "iopub.execute_input": "2025-07-30T21:27:02.433406Z",
     "iopub.status.busy": "2025-07-30T21:27:02.432695Z",
     "iopub.status.idle": "2025-07-30T21:27:02.440917Z",
     "shell.execute_reply": "2025-07-30T21:27:02.439393Z"
    },
    "papermill": {
     "duration": 0.033183,
     "end_time": "2025-07-30T21:27:02.442944",
     "exception": false,
     "start_time": "2025-07-30T21:27:02.409761",
     "status": "completed"
    },
    "tags": []
   },
   "outputs": [],
   "source": [
    "if mode == \"keep-all\":\n",
    "    keep_mask = pd.Series(True, index=org_train.index)\n",
    "\n",
    "# org_train contains the original feature columns from features_org (in Simson)\n",
    "# features_org contains unprocessed features, for me X_train at beginning ???\n",
    "# For keep-all, creates a boolean Series (keep_mask) of all True, so no rows are removed.\n",
    "\n",
    "elif mode == \"drop-non-german\":\n",
    "    keep_mask = org_train[\"maxdeutsch1\"] == 1 # ??? what about missing values?\n",
    "\n",
    "else:\n",
    "    raise ValueError(f\"Unsupported mode for exclude_subgroups: {mode}\")\n"
   ]
  },
  {
   "cell_type": "code",
   "execution_count": 38,
   "id": "71651440",
   "metadata": {
    "execution": {
     "iopub.execute_input": "2025-07-30T21:27:02.506926Z",
     "iopub.status.busy": "2025-07-30T21:27:02.506183Z",
     "iopub.status.idle": "2025-07-30T21:27:02.513414Z",
     "shell.execute_reply": "2025-07-30T21:27:02.512459Z"
    },
    "papermill": {
     "duration": 0.041653,
     "end_time": "2025-07-30T21:27:02.515449",
     "exception": false,
     "start_time": "2025-07-30T21:27:02.473796",
     "status": "completed"
    },
    "tags": []
   },
   "outputs": [],
   "source": [
    "n_drop = (~keep_mask).sum() # Calculates how many rows are set to be dropped\n",
    "if n_drop > 0:\n",
    "    pct = n_drop / len(keep_mask) * 100\n",
    "    print(f\"Dropping {n_drop} rows ({pct:.2f}%) where mode='{mode}'\")"
   ]
  },
  {
   "cell_type": "code",
   "execution_count": 39,
   "id": "5fb8eee5",
   "metadata": {
    "execution": {
     "iopub.execute_input": "2025-07-30T21:27:02.585231Z",
     "iopub.status.busy": "2025-07-30T21:27:02.584724Z",
     "iopub.status.idle": "2025-07-30T21:27:02.591535Z",
     "shell.execute_reply": "2025-07-30T21:27:02.590386Z"
    },
    "papermill": {
     "duration": 0.044638,
     "end_time": "2025-07-30T21:27:02.593743",
     "exception": false,
     "start_time": "2025-07-30T21:27:02.549105",
     "status": "completed"
    },
    "tags": []
   },
   "outputs": [],
   "source": [
    "X_train = X_train[keep_mask]"
   ]
  },
  {
   "cell_type": "code",
   "execution_count": 40,
   "id": "b202bb3a",
   "metadata": {
    "execution": {
     "iopub.execute_input": "2025-07-30T21:27:02.664073Z",
     "iopub.status.busy": "2025-07-30T21:27:02.663685Z",
     "iopub.status.idle": "2025-07-30T21:27:02.670165Z",
     "shell.execute_reply": "2025-07-30T21:27:02.669049Z"
    },
    "papermill": {
     "duration": 0.043676,
     "end_time": "2025-07-30T21:27:02.672332",
     "exception": false,
     "start_time": "2025-07-30T21:27:02.628656",
     "status": "completed"
    },
    "tags": []
   },
   "outputs": [],
   "source": [
    "y_train = y_train[keep_mask]"
   ]
  },
  {
   "cell_type": "markdown",
   "id": "493e2ac3",
   "metadata": {
    "papermill": {
     "duration": 0.034719,
     "end_time": "2025-07-30T21:27:02.741758",
     "exception": false,
     "start_time": "2025-07-30T21:27:02.707039",
     "status": "completed"
    },
    "tags": []
   },
   "source": [
    "# Model Training"
   ]
  },
  {
   "cell_type": "code",
   "execution_count": 41,
   "id": "679e1268",
   "metadata": {
    "execution": {
     "iopub.execute_input": "2025-07-30T21:27:02.812586Z",
     "iopub.status.busy": "2025-07-30T21:27:02.811462Z",
     "iopub.status.idle": "2025-07-30T21:27:02.926093Z",
     "shell.execute_reply": "2025-07-30T21:27:02.925333Z"
    },
    "papermill": {
     "duration": 0.151664,
     "end_time": "2025-07-30T21:27:02.927634",
     "exception": false,
     "start_time": "2025-07-30T21:27:02.775970",
     "status": "completed"
    },
    "tags": []
   },
   "outputs": [],
   "source": [
    "from sklearn.linear_model import LogisticRegression\n",
    "from sklearn.ensemble import GradientBoostingClassifier, RandomForestClassifier\n",
    "\n",
    "if (universe[\"model\"] == \"logreg\"):\n",
    "    model = LogisticRegression() #penalty=\"none\") #, solver=\"newton-cg\", max_iter=1) # include random_state=19 ?\n",
    "elif (universe[\"model\"] == \"penalized_logreg\"):\n",
    "    model = LogisticRegression(penalty=\"l2\", C=1.0) #, solver=\"newton-cg\", max_iter=1)\n",
    "elif (universe[\"model\"] == \"rf\"):\n",
    "    model = RandomForestClassifier(n_estimators=100, n_jobs=-1)\n",
    "elif (universe[\"model\"] == \"gbm\"):\n",
    "    model = GradientBoostingClassifier()\n",
    "elif (universe[\"model\"] == \"elasticnet\"):\n",
    "    model = LogisticRegression(penalty = 'elasticnet', solver = 'saga', l1_ratio = 0.5, max_iter=5000) # which solver to use?\n",
    "else:\n",
    "    raise \"Unsupported universe.model\""
   ]
  },
  {
   "cell_type": "code",
   "execution_count": 42,
   "id": "0cc8f744",
   "metadata": {
    "execution": {
     "iopub.execute_input": "2025-07-30T21:27:02.954459Z",
     "iopub.status.busy": "2025-07-30T21:27:02.953955Z",
     "iopub.status.idle": "2025-07-30T21:27:02.960799Z",
     "shell.execute_reply": "2025-07-30T21:27:02.959839Z"
    },
    "papermill": {
     "duration": 0.021835,
     "end_time": "2025-07-30T21:27:02.962412",
     "exception": false,
     "start_time": "2025-07-30T21:27:02.940577",
     "status": "completed"
    },
    "tags": []
   },
   "outputs": [],
   "source": [
    "import numpy as np\n",
    "from sklearn.pipeline import Pipeline\n",
    "from sklearn.preprocessing import StandardScaler\n",
    "\n",
    "model = Pipeline([\n",
    "    #(\"continuous_processor\", continuous_processor),\n",
    "    #(\"categorical_preprocessor\", categorical_preprocessor),\n",
    "    (\"scale\", StandardScaler() if universe[\"scale\"] == \"scale\" else None), \n",
    "    (\"model\", model),\n",
    "])"
   ]
  },
  {
   "cell_type": "code",
   "execution_count": 43,
   "id": "9442c04d",
   "metadata": {
    "execution": {
     "iopub.execute_input": "2025-07-30T21:27:03.015599Z",
     "iopub.status.busy": "2025-07-30T21:27:03.014844Z",
     "iopub.status.idle": "2025-07-30T21:27:06.135516Z",
     "shell.execute_reply": "2025-07-30T21:27:06.134472Z"
    },
    "papermill": {
     "duration": 3.148689,
     "end_time": "2025-07-30T21:27:06.137268",
     "exception": false,
     "start_time": "2025-07-30T21:27:02.988579",
     "status": "completed"
    },
    "tags": []
   },
   "outputs": [
    {
     "data": {
      "text/html": [
       "<style>#sk-container-id-1 {color: black;background-color: white;}#sk-container-id-1 pre{padding: 0;}#sk-container-id-1 div.sk-toggleable {background-color: white;}#sk-container-id-1 label.sk-toggleable__label {cursor: pointer;display: block;width: 100%;margin-bottom: 0;padding: 0.3em;box-sizing: border-box;text-align: center;}#sk-container-id-1 label.sk-toggleable__label-arrow:before {content: \"▸\";float: left;margin-right: 0.25em;color: #696969;}#sk-container-id-1 label.sk-toggleable__label-arrow:hover:before {color: black;}#sk-container-id-1 div.sk-estimator:hover label.sk-toggleable__label-arrow:before {color: black;}#sk-container-id-1 div.sk-toggleable__content {max-height: 0;max-width: 0;overflow: hidden;text-align: left;background-color: #f0f8ff;}#sk-container-id-1 div.sk-toggleable__content pre {margin: 0.2em;color: black;border-radius: 0.25em;background-color: #f0f8ff;}#sk-container-id-1 input.sk-toggleable__control:checked~div.sk-toggleable__content {max-height: 200px;max-width: 100%;overflow: auto;}#sk-container-id-1 input.sk-toggleable__control:checked~label.sk-toggleable__label-arrow:before {content: \"▾\";}#sk-container-id-1 div.sk-estimator input.sk-toggleable__control:checked~label.sk-toggleable__label {background-color: #d4ebff;}#sk-container-id-1 div.sk-label input.sk-toggleable__control:checked~label.sk-toggleable__label {background-color: #d4ebff;}#sk-container-id-1 input.sk-hidden--visually {border: 0;clip: rect(1px 1px 1px 1px);clip: rect(1px, 1px, 1px, 1px);height: 1px;margin: -1px;overflow: hidden;padding: 0;position: absolute;width: 1px;}#sk-container-id-1 div.sk-estimator {font-family: monospace;background-color: #f0f8ff;border: 1px dotted black;border-radius: 0.25em;box-sizing: border-box;margin-bottom: 0.5em;}#sk-container-id-1 div.sk-estimator:hover {background-color: #d4ebff;}#sk-container-id-1 div.sk-parallel-item::after {content: \"\";width: 100%;border-bottom: 1px solid gray;flex-grow: 1;}#sk-container-id-1 div.sk-label:hover label.sk-toggleable__label {background-color: #d4ebff;}#sk-container-id-1 div.sk-serial::before {content: \"\";position: absolute;border-left: 1px solid gray;box-sizing: border-box;top: 0;bottom: 0;left: 50%;z-index: 0;}#sk-container-id-1 div.sk-serial {display: flex;flex-direction: column;align-items: center;background-color: white;padding-right: 0.2em;padding-left: 0.2em;position: relative;}#sk-container-id-1 div.sk-item {position: relative;z-index: 1;}#sk-container-id-1 div.sk-parallel {display: flex;align-items: stretch;justify-content: center;background-color: white;position: relative;}#sk-container-id-1 div.sk-item::before, #sk-container-id-1 div.sk-parallel-item::before {content: \"\";position: absolute;border-left: 1px solid gray;box-sizing: border-box;top: 0;bottom: 0;left: 50%;z-index: -1;}#sk-container-id-1 div.sk-parallel-item {display: flex;flex-direction: column;z-index: 1;position: relative;background-color: white;}#sk-container-id-1 div.sk-parallel-item:first-child::after {align-self: flex-end;width: 50%;}#sk-container-id-1 div.sk-parallel-item:last-child::after {align-self: flex-start;width: 50%;}#sk-container-id-1 div.sk-parallel-item:only-child::after {width: 0;}#sk-container-id-1 div.sk-dashed-wrapped {border: 1px dashed gray;margin: 0 0.4em 0.5em 0.4em;box-sizing: border-box;padding-bottom: 0.4em;background-color: white;}#sk-container-id-1 div.sk-label label {font-family: monospace;font-weight: bold;display: inline-block;line-height: 1.2em;}#sk-container-id-1 div.sk-label-container {text-align: center;}#sk-container-id-1 div.sk-container {/* jupyter's `normalize.less` sets `[hidden] { display: none; }` but bootstrap.min.css set `[hidden] { display: none !important; }` so we also need the `!important` here to be able to override the default hidden behavior on the sphinx rendered scikit-learn.org. See: https://github.com/scikit-learn/scikit-learn/issues/21755 */display: inline-block !important;position: relative;}#sk-container-id-1 div.sk-text-repr-fallback {display: none;}</style><div id=\"sk-container-id-1\" class=\"sk-top-container\"><div class=\"sk-text-repr-fallback\"><pre>Pipeline(steps=[(&#x27;scale&#x27;, StandardScaler()),\n",
       "                (&#x27;model&#x27;,\n",
       "                 LogisticRegression(l1_ratio=0.5, max_iter=5000,\n",
       "                                    penalty=&#x27;elasticnet&#x27;, solver=&#x27;saga&#x27;))])</pre><b>In a Jupyter environment, please rerun this cell to show the HTML representation or trust the notebook. <br />On GitHub, the HTML representation is unable to render, please try loading this page with nbviewer.org.</b></div><div class=\"sk-container\" hidden><div class=\"sk-item sk-dashed-wrapped\"><div class=\"sk-label-container\"><div class=\"sk-label sk-toggleable\"><input class=\"sk-toggleable__control sk-hidden--visually\" id=\"sk-estimator-id-1\" type=\"checkbox\" ><label for=\"sk-estimator-id-1\" class=\"sk-toggleable__label sk-toggleable__label-arrow\">Pipeline</label><div class=\"sk-toggleable__content\"><pre>Pipeline(steps=[(&#x27;scale&#x27;, StandardScaler()),\n",
       "                (&#x27;model&#x27;,\n",
       "                 LogisticRegression(l1_ratio=0.5, max_iter=5000,\n",
       "                                    penalty=&#x27;elasticnet&#x27;, solver=&#x27;saga&#x27;))])</pre></div></div></div><div class=\"sk-serial\"><div class=\"sk-item\"><div class=\"sk-estimator sk-toggleable\"><input class=\"sk-toggleable__control sk-hidden--visually\" id=\"sk-estimator-id-2\" type=\"checkbox\" ><label for=\"sk-estimator-id-2\" class=\"sk-toggleable__label sk-toggleable__label-arrow\">StandardScaler</label><div class=\"sk-toggleable__content\"><pre>StandardScaler()</pre></div></div></div><div class=\"sk-item\"><div class=\"sk-estimator sk-toggleable\"><input class=\"sk-toggleable__control sk-hidden--visually\" id=\"sk-estimator-id-3\" type=\"checkbox\" ><label for=\"sk-estimator-id-3\" class=\"sk-toggleable__label sk-toggleable__label-arrow\">LogisticRegression</label><div class=\"sk-toggleable__content\"><pre>LogisticRegression(l1_ratio=0.5, max_iter=5000, penalty=&#x27;elasticnet&#x27;,\n",
       "                   solver=&#x27;saga&#x27;)</pre></div></div></div></div></div></div></div>"
      ],
      "text/plain": [
       "Pipeline(steps=[('scale', StandardScaler()),\n",
       "                ('model',\n",
       "                 LogisticRegression(l1_ratio=0.5, max_iter=5000,\n",
       "                                    penalty='elasticnet', solver='saga'))])"
      ]
     },
     "execution_count": 43,
     "metadata": {},
     "output_type": "execute_result"
    }
   ],
   "source": [
    "model.fit(X_train, y_train.values.ravel())"
   ]
  },
  {
   "cell_type": "code",
   "execution_count": 44,
   "id": "af59f8c0",
   "metadata": {
    "execution": {
     "iopub.execute_input": "2025-07-30T21:27:06.194666Z",
     "iopub.status.busy": "2025-07-30T21:27:06.193946Z",
     "iopub.status.idle": "2025-07-30T21:27:06.199601Z",
     "shell.execute_reply": "2025-07-30T21:27:06.198618Z"
    },
    "papermill": {
     "duration": 0.035311,
     "end_time": "2025-07-30T21:27:06.201375",
     "exception": false,
     "start_time": "2025-07-30T21:27:06.166064",
     "status": "completed"
    },
    "tags": []
   },
   "outputs": [],
   "source": [
    "from fairness_multiverse.universe import predict_w_threshold"
   ]
  },
  {
   "cell_type": "code",
   "execution_count": 45,
   "id": "a7cf2e16",
   "metadata": {
    "execution": {
     "iopub.execute_input": "2025-07-30T21:27:06.255020Z",
     "iopub.status.busy": "2025-07-30T21:27:06.254201Z",
     "iopub.status.idle": "2025-07-30T21:27:06.453707Z",
     "shell.execute_reply": "2025-07-30T21:27:06.452731Z"
    },
    "papermill": {
     "duration": 0.226612,
     "end_time": "2025-07-30T21:27:06.455238",
     "exception": false,
     "start_time": "2025-07-30T21:27:06.228626",
     "status": "completed"
    },
    "tags": []
   },
   "outputs": [
    {
     "data": {
      "text/plain": [
       "0.8203544755322707"
      ]
     },
     "execution_count": 45,
     "metadata": {},
     "output_type": "execute_result"
    }
   ],
   "source": [
    "probs_test = model.predict_proba(X_test)\n",
    "\n",
    "'''\n",
    "Below code returns a boolean array (or binary 0/1 array depending on how it’s used) where each element \n",
    "is True if the probability of class 1 is greater than or equal to the threshold, and False otherwise.\n",
    "'''\n",
    "y_pred_default = predict_w_threshold(probs_test, 0.5)\n",
    "\n",
    "from sklearn.metrics import accuracy_score\n",
    "\n",
    "# Naive prediction\n",
    "accuracy_score(y_true = y_true, y_pred = y_pred_default)"
   ]
  },
  {
   "cell_type": "code",
   "execution_count": 46,
   "id": "081964c3",
   "metadata": {
    "execution": {
     "iopub.execute_input": "2025-07-30T21:27:06.507717Z",
     "iopub.status.busy": "2025-07-30T21:27:06.507229Z",
     "iopub.status.idle": "2025-07-30T21:27:06.689207Z",
     "shell.execute_reply": "2025-07-30T21:27:06.688380Z"
    },
    "papermill": {
     "duration": 0.210686,
     "end_time": "2025-07-30T21:27:06.690665",
     "exception": false,
     "start_time": "2025-07-30T21:27:06.479979",
     "status": "completed"
    },
    "tags": []
   },
   "outputs": [
    {
     "data": {
      "text/plain": [
       "array([0, 0, 0, ..., 0, 0, 0])"
      ]
     },
     "execution_count": 46,
     "metadata": {},
     "output_type": "execute_result"
    }
   ],
   "source": [
    "model.predict(X_test)"
   ]
  },
  {
   "cell_type": "markdown",
   "id": "56c9705b",
   "metadata": {
    "papermill": {
     "duration": 0.011907,
     "end_time": "2025-07-30T21:27:06.716137",
     "exception": false,
     "start_time": "2025-07-30T21:27:06.704230",
     "status": "completed"
    },
    "tags": []
   },
   "source": [
    "# Conformal Prediction"
   ]
  },
  {
   "cell_type": "code",
   "execution_count": 47,
   "id": "160ec6ff",
   "metadata": {
    "execution": {
     "iopub.execute_input": "2025-07-30T21:27:06.744452Z",
     "iopub.status.busy": "2025-07-30T21:27:06.743460Z",
     "iopub.status.idle": "2025-07-30T21:27:06.748202Z",
     "shell.execute_reply": "2025-07-30T21:27:06.747484Z"
    },
    "papermill": {
     "duration": 0.021584,
     "end_time": "2025-07-30T21:27:06.749585",
     "exception": false,
     "start_time": "2025-07-30T21:27:06.728001",
     "status": "completed"
    },
    "tags": []
   },
   "outputs": [],
   "source": [
    "# Miscoverage level for conformal prediction (10% allowed error rate => 90% target coverage)\n",
    "alpha = 0.1"
   ]
  },
  {
   "cell_type": "code",
   "execution_count": 48,
   "id": "eadf4555-3dd3-440e-8e35-f82a4ad9f855",
   "metadata": {
    "execution": {
     "iopub.execute_input": "2025-07-30T21:27:06.776888Z",
     "iopub.status.busy": "2025-07-30T21:27:06.776250Z",
     "iopub.status.idle": "2025-07-30T21:27:06.947444Z",
     "shell.execute_reply": "2025-07-30T21:27:06.946422Z"
    },
    "papermill": {
     "duration": 0.186302,
     "end_time": "2025-07-30T21:27:06.949063",
     "exception": false,
     "start_time": "2025-07-30T21:27:06.762761",
     "status": "completed"
    },
    "tags": []
   },
   "outputs": [],
   "source": [
    "probs_calib = model.predict_proba(X_calib)"
   ]
  },
  {
   "cell_type": "code",
   "execution_count": 49,
   "id": "2ed93547-6d5d-4983-9b36-1ecb300da49a",
   "metadata": {
    "execution": {
     "iopub.execute_input": "2025-07-30T21:27:06.999979Z",
     "iopub.status.busy": "2025-07-30T21:27:06.999219Z",
     "iopub.status.idle": "2025-07-30T21:27:07.006307Z",
     "shell.execute_reply": "2025-07-30T21:27:07.005250Z"
    },
    "papermill": {
     "duration": 0.036046,
     "end_time": "2025-07-30T21:27:07.008322",
     "exception": false,
     "start_time": "2025-07-30T21:27:06.972276",
     "status": "completed"
    },
    "tags": []
   },
   "outputs": [],
   "source": [
    "y_calib = y_calib.values.ravel().astype(int)"
   ]
  },
  {
   "cell_type": "code",
   "execution_count": 50,
   "id": "65d1320d-f588-4b38-9072-62af1ae97f7d",
   "metadata": {
    "execution": {
     "iopub.execute_input": "2025-07-30T21:27:07.063098Z",
     "iopub.status.busy": "2025-07-30T21:27:07.062491Z",
     "iopub.status.idle": "2025-07-30T21:27:07.070962Z",
     "shell.execute_reply": "2025-07-30T21:27:07.069892Z"
    },
    "papermill": {
     "duration": 0.037813,
     "end_time": "2025-07-30T21:27:07.072748",
     "exception": false,
     "start_time": "2025-07-30T21:27:07.034935",
     "status": "completed"
    },
    "tags": []
   },
   "outputs": [],
   "source": [
    "from fairness_multiverse.conformal import compute_nc_scores\n",
    "\n",
    "# Compute nonconformity scores on calibration set (1 - probability of true class)\n",
    "nc_scores = compute_nc_scores(probs_calib, y_calib)"
   ]
  },
  {
   "cell_type": "code",
   "execution_count": 51,
   "id": "df3b8ca3-53b7-43d5-9667-7c85da7aeda2",
   "metadata": {
    "execution": {
     "iopub.execute_input": "2025-07-30T21:27:07.127748Z",
     "iopub.status.busy": "2025-07-30T21:27:07.126973Z",
     "iopub.status.idle": "2025-07-30T21:27:07.134881Z",
     "shell.execute_reply": "2025-07-30T21:27:07.133853Z"
    },
    "papermill": {
     "duration": 0.037184,
     "end_time": "2025-07-30T21:27:07.136754",
     "exception": false,
     "start_time": "2025-07-30T21:27:07.099570",
     "status": "completed"
    },
    "tags": []
   },
   "outputs": [],
   "source": [
    "from fairness_multiverse.conformal import find_threshold\n",
    "\n",
    "# Find conformal threshold q_hat for the given alpha (split conformal method)\n",
    "q_hat = find_threshold(nc_scores, alpha)"
   ]
  },
  {
   "cell_type": "code",
   "execution_count": 52,
   "id": "4d29e6c1-0ef6-4aa4-b8fe-4fe79b0d033a",
   "metadata": {
    "execution": {
     "iopub.execute_input": "2025-07-30T21:27:07.198592Z",
     "iopub.status.busy": "2025-07-30T21:27:07.197847Z",
     "iopub.status.idle": "2025-07-30T21:27:07.206224Z",
     "shell.execute_reply": "2025-07-30T21:27:07.205115Z"
    },
    "papermill": {
     "duration": 0.040865,
     "end_time": "2025-07-30T21:27:07.207904",
     "exception": false,
     "start_time": "2025-07-30T21:27:07.167039",
     "status": "completed"
    },
    "tags": []
   },
   "outputs": [
    {
     "data": {
      "text/plain": [
       "0.7855668779158942"
      ]
     },
     "execution_count": 52,
     "metadata": {},
     "output_type": "execute_result"
    }
   ],
   "source": [
    "q_hat"
   ]
  },
  {
   "cell_type": "code",
   "execution_count": 53,
   "id": "92460794-cdac-4be2-ba28-f28c0515a6fb",
   "metadata": {
    "execution": {
     "iopub.execute_input": "2025-07-30T21:27:07.264086Z",
     "iopub.status.busy": "2025-07-30T21:27:07.263274Z",
     "iopub.status.idle": "2025-07-30T21:27:08.080068Z",
     "shell.execute_reply": "2025-07-30T21:27:08.078949Z"
    },
    "papermill": {
     "duration": 0.847071,
     "end_time": "2025-07-30T21:27:08.082204",
     "exception": false,
     "start_time": "2025-07-30T21:27:07.235133",
     "status": "completed"
    },
    "tags": []
   },
   "outputs": [],
   "source": [
    "from fairness_multiverse.conformal import predict_conformal_sets\n",
    "\n",
    "# Generate prediction sets for each test example\n",
    "pred_sets = predict_conformal_sets(model, X_test, q_hat)"
   ]
  },
  {
   "cell_type": "code",
   "execution_count": 54,
   "id": "d90c9a65-e6db-4f5d-80cd-e68fb7e46829",
   "metadata": {
    "execution": {
     "iopub.execute_input": "2025-07-30T21:27:08.134893Z",
     "iopub.status.busy": "2025-07-30T21:27:08.134380Z",
     "iopub.status.idle": "2025-07-30T21:27:08.140170Z",
     "shell.execute_reply": "2025-07-30T21:27:08.139057Z"
    },
    "papermill": {
     "duration": 0.033443,
     "end_time": "2025-07-30T21:27:08.141897",
     "exception": false,
     "start_time": "2025-07-30T21:27:08.108454",
     "status": "completed"
    },
    "tags": []
   },
   "outputs": [],
   "source": [
    "y_true = y_true.squeeze()"
   ]
  },
  {
   "cell_type": "code",
   "execution_count": 55,
   "id": "3a58a54a-1e68-46b9-927a-df01f18aebc8",
   "metadata": {
    "execution": {
     "iopub.execute_input": "2025-07-30T21:27:08.197476Z",
     "iopub.status.busy": "2025-07-30T21:27:08.196587Z",
     "iopub.status.idle": "2025-07-30T21:27:09.004306Z",
     "shell.execute_reply": "2025-07-30T21:27:09.003378Z"
    },
    "papermill": {
     "duration": 0.837832,
     "end_time": "2025-07-30T21:27:09.006069",
     "exception": false,
     "start_time": "2025-07-30T21:27:08.168237",
     "status": "completed"
    },
    "tags": []
   },
   "outputs": [],
   "source": [
    "from fairness_multiverse.conformal import evaluate_sets\n",
    "\n",
    "# Evaluate coverage and average set size on test data\n",
    "metrics = evaluate_sets(pred_sets, y_true)"
   ]
  },
  {
   "cell_type": "markdown",
   "id": "2b569c12-9aaa-4c88-98c9-bbcd0cf3ebb8",
   "metadata": {
    "papermill": {
     "duration": 0.025022,
     "end_time": "2025-07-30T21:27:09.055025",
     "exception": false,
     "start_time": "2025-07-30T21:27:09.030003",
     "status": "completed"
    },
    "tags": []
   },
   "source": [
    "# CP Metrics"
   ]
  },
  {
   "cell_type": "code",
   "execution_count": 56,
   "id": "5ce0a5cb-201f-45a0-ade5-94c7f0bd6095",
   "metadata": {
    "execution": {
     "iopub.execute_input": "2025-07-30T21:27:09.106334Z",
     "iopub.status.busy": "2025-07-30T21:27:09.105748Z",
     "iopub.status.idle": "2025-07-30T21:27:09.114595Z",
     "shell.execute_reply": "2025-07-30T21:27:09.113549Z"
    },
    "papermill": {
     "duration": 0.037089,
     "end_time": "2025-07-30T21:27:09.116204",
     "exception": false,
     "start_time": "2025-07-30T21:27:09.079115",
     "status": "completed"
    },
    "tags": []
   },
   "outputs": [
    {
     "data": {
      "text/plain": [
       "{'coverage': 0.9065990413554788, 'avg_size': 1.2295396276892208}"
      ]
     },
     "execution_count": 56,
     "metadata": {},
     "output_type": "execute_result"
    }
   ],
   "source": [
    "metrics"
   ]
  },
  {
   "cell_type": "code",
   "execution_count": 57,
   "id": "9b9a838d-31c9-430b-ae14-12baee460d17",
   "metadata": {
    "execution": {
     "iopub.execute_input": "2025-07-30T21:27:09.167845Z",
     "iopub.status.busy": "2025-07-30T21:27:09.167255Z",
     "iopub.status.idle": "2025-07-30T21:27:09.174439Z",
     "shell.execute_reply": "2025-07-30T21:27:09.173333Z"
    },
    "papermill": {
     "duration": 0.035078,
     "end_time": "2025-07-30T21:27:09.176180",
     "exception": false,
     "start_time": "2025-07-30T21:27:09.141102",
     "status": "completed"
    },
    "tags": []
   },
   "outputs": [],
   "source": [
    "example_universe = universe.copy()\n",
    "universe_training_year = example_universe.get(\"training_year\")\n",
    "universe_training_size = example_universe.get(\"training_size\")\n",
    "universe_scale = example_universe.get(\"scale\")\n",
    "universe_model = example_universe.get(\"model\")\n",
    "universe_exclude_features = example_universe.get(\"exclude_features\")\n",
    "universe_exclude_subgroups = example_universe.get(\"exclude_subgroups\")"
   ]
  },
  {
   "cell_type": "code",
   "execution_count": 58,
   "id": "f4b6a8ac-9dc0-4245-8a91-5b3b5999c4f9",
   "metadata": {
    "execution": {
     "iopub.execute_input": "2025-07-30T21:27:09.285134Z",
     "iopub.status.busy": "2025-07-30T21:27:09.284011Z",
     "iopub.status.idle": "2025-07-30T21:27:09.291863Z",
     "shell.execute_reply": "2025-07-30T21:27:09.290829Z"
    },
    "papermill": {
     "duration": 0.101462,
     "end_time": "2025-07-30T21:27:09.302850",
     "exception": false,
     "start_time": "2025-07-30T21:27:09.201388",
     "status": "completed"
    },
    "tags": []
   },
   "outputs": [],
   "source": [
    "cp_metrics_dict = {\n",
    "    \"universe_id\": [universe_id],\n",
    "    \"universe_training_year\": [universe_training_year],\n",
    "    \"universe_training_size\": [universe_training_size],\n",
    "    \"universe_scale\": [universe_scale],\n",
    "    \"universe_model\": [universe_model],\n",
    "    \"universe_exclude_features\": [universe_exclude_features],\n",
    "    \"universe_exclude_subgroups\": [universe_exclude_subgroups],\n",
    "    \"q_hat\": [q_hat],\n",
    "    \"coverage\": [metrics[\"coverage\"]],\n",
    "    \"avg_size\": [metrics[\"avg_size\"]],\n",
    "}"
   ]
  },
  {
   "cell_type": "code",
   "execution_count": 59,
   "id": "908acbb1-0371-4915-85ca-3fa520d2efe2",
   "metadata": {
    "execution": {
     "iopub.execute_input": "2025-07-30T21:27:09.384441Z",
     "iopub.status.busy": "2025-07-30T21:27:09.383601Z",
     "iopub.status.idle": "2025-07-30T21:27:09.393403Z",
     "shell.execute_reply": "2025-07-30T21:27:09.392072Z"
    },
    "papermill": {
     "duration": 0.041495,
     "end_time": "2025-07-30T21:27:09.395247",
     "exception": false,
     "start_time": "2025-07-30T21:27:09.353752",
     "status": "completed"
    },
    "tags": []
   },
   "outputs": [
    {
     "data": {
      "text/plain": [
       "{'universe_id': ['30468d4e8fdc9dfd2c408ab4703038d5'],\n",
       " 'universe_training_year': ['2014'],\n",
       " 'universe_training_size': ['1k'],\n",
       " 'universe_scale': ['scale'],\n",
       " 'universe_model': ['elasticnet'],\n",
       " 'universe_exclude_features': ['nationality-sex'],\n",
       " 'universe_exclude_subgroups': ['keep-all'],\n",
       " 'q_hat': [0.7855668779158942],\n",
       " 'coverage': [0.9065990413554788],\n",
       " 'avg_size': [1.2295396276892208]}"
      ]
     },
     "execution_count": 59,
     "metadata": {},
     "output_type": "execute_result"
    }
   ],
   "source": [
    "cp_metrics_dict"
   ]
  },
  {
   "cell_type": "code",
   "execution_count": 60,
   "id": "33007efc-14e9-4ec6-97ac-56a455c82265",
   "metadata": {
    "execution": {
     "iopub.execute_input": "2025-07-30T21:27:09.449977Z",
     "iopub.status.busy": "2025-07-30T21:27:09.449187Z",
     "iopub.status.idle": "2025-07-30T21:27:09.457084Z",
     "shell.execute_reply": "2025-07-30T21:27:09.454922Z"
    },
    "papermill": {
     "duration": 0.04111,
     "end_time": "2025-07-30T21:27:09.461682",
     "exception": false,
     "start_time": "2025-07-30T21:27:09.420572",
     "status": "completed"
    },
    "tags": []
   },
   "outputs": [],
   "source": [
    "cp_metrics_df = pd.DataFrame(cp_metrics_dict)"
   ]
  },
  {
   "cell_type": "code",
   "execution_count": 61,
   "id": "db12611b-57b2-4910-b9d0-355adfd6e7bf",
   "metadata": {
    "execution": {
     "iopub.execute_input": "2025-07-30T21:27:09.533420Z",
     "iopub.status.busy": "2025-07-30T21:27:09.532346Z",
     "iopub.status.idle": "2025-07-30T21:27:09.555107Z",
     "shell.execute_reply": "2025-07-30T21:27:09.553947Z"
    },
    "papermill": {
     "duration": 0.06089,
     "end_time": "2025-07-30T21:27:09.557378",
     "exception": false,
     "start_time": "2025-07-30T21:27:09.496488",
     "status": "completed"
    },
    "tags": []
   },
   "outputs": [
    {
     "data": {
      "text/html": [
       "<div>\n",
       "<style scoped>\n",
       "    .dataframe tbody tr th:only-of-type {\n",
       "        vertical-align: middle;\n",
       "    }\n",
       "\n",
       "    .dataframe tbody tr th {\n",
       "        vertical-align: top;\n",
       "    }\n",
       "\n",
       "    .dataframe thead th {\n",
       "        text-align: right;\n",
       "    }\n",
       "</style>\n",
       "<table border=\"1\" class=\"dataframe\">\n",
       "  <thead>\n",
       "    <tr style=\"text-align: right;\">\n",
       "      <th></th>\n",
       "      <th>universe_id</th>\n",
       "      <th>universe_training_year</th>\n",
       "      <th>universe_training_size</th>\n",
       "      <th>universe_scale</th>\n",
       "      <th>universe_model</th>\n",
       "      <th>universe_exclude_features</th>\n",
       "      <th>universe_exclude_subgroups</th>\n",
       "      <th>q_hat</th>\n",
       "      <th>coverage</th>\n",
       "      <th>avg_size</th>\n",
       "    </tr>\n",
       "  </thead>\n",
       "  <tbody>\n",
       "    <tr>\n",
       "      <th>0</th>\n",
       "      <td>30468d4e8fdc9dfd2c408ab4703038d5</td>\n",
       "      <td>2014</td>\n",
       "      <td>1k</td>\n",
       "      <td>scale</td>\n",
       "      <td>elasticnet</td>\n",
       "      <td>nationality-sex</td>\n",
       "      <td>keep-all</td>\n",
       "      <td>0.785567</td>\n",
       "      <td>0.906599</td>\n",
       "      <td>1.22954</td>\n",
       "    </tr>\n",
       "  </tbody>\n",
       "</table>\n",
       "</div>"
      ],
      "text/plain": [
       "                        universe_id universe_training_year  \\\n",
       "0  30468d4e8fdc9dfd2c408ab4703038d5                   2014   \n",
       "\n",
       "  universe_training_size universe_scale universe_model  \\\n",
       "0                     1k          scale     elasticnet   \n",
       "\n",
       "  universe_exclude_features universe_exclude_subgroups     q_hat  coverage  \\\n",
       "0           nationality-sex                   keep-all  0.785567  0.906599   \n",
       "\n",
       "   avg_size  \n",
       "0   1.22954  "
      ]
     },
     "execution_count": 61,
     "metadata": {},
     "output_type": "execute_result"
    }
   ],
   "source": [
    "cp_metrics_df"
   ]
  },
  {
   "cell_type": "code",
   "execution_count": 62,
   "id": "b7fbde55-a0a1-47e4-9af6-fe4a17fa8c61",
   "metadata": {
    "execution": {
     "iopub.execute_input": "2025-07-30T21:27:09.635080Z",
     "iopub.status.busy": "2025-07-30T21:27:09.634292Z",
     "iopub.status.idle": "2025-07-30T21:27:09.640726Z",
     "shell.execute_reply": "2025-07-30T21:27:09.639680Z"
    },
    "papermill": {
     "duration": 0.045907,
     "end_time": "2025-07-30T21:27:09.642385",
     "exception": false,
     "start_time": "2025-07-30T21:27:09.596478",
     "status": "completed"
    },
    "tags": []
   },
   "outputs": [],
   "source": [
    "# Conditional Coverage & looking at subgroups"
   ]
  },
  {
   "cell_type": "code",
   "execution_count": 63,
   "id": "027ae886-68dd-4141-96c7-805a5450e1ef",
   "metadata": {
    "execution": {
     "iopub.execute_input": "2025-07-30T21:27:09.700069Z",
     "iopub.status.busy": "2025-07-30T21:27:09.699163Z",
     "iopub.status.idle": "2025-07-30T21:27:09.943811Z",
     "shell.execute_reply": "2025-07-30T21:27:09.942735Z"
    },
    "papermill": {
     "duration": 0.27581,
     "end_time": "2025-07-30T21:27:09.945764",
     "exception": false,
     "start_time": "2025-07-30T21:27:09.669954",
     "status": "completed"
    },
    "tags": []
   },
   "outputs": [],
   "source": [
    "from fairness_multiverse.conformal import build_cp_groups\n",
    "\n",
    "cp_groups_df = build_cp_groups(pred_sets, y_true, X_test.index, org_test)\n",
    "#needs universe_id and setting"
   ]
  },
  {
   "cell_type": "code",
   "execution_count": 64,
   "id": "01d5802c-663a-4d1f-9d69-e036faaffbf7",
   "metadata": {
    "execution": {
     "iopub.execute_input": "2025-07-30T21:27:10.000984Z",
     "iopub.status.busy": "2025-07-30T21:27:10.000567Z",
     "iopub.status.idle": "2025-07-30T21:27:10.005683Z",
     "shell.execute_reply": "2025-07-30T21:27:10.004709Z"
    },
    "papermill": {
     "duration": 0.036176,
     "end_time": "2025-07-30T21:27:10.007539",
     "exception": false,
     "start_time": "2025-07-30T21:27:09.971363",
     "status": "completed"
    },
    "tags": []
   },
   "outputs": [],
   "source": [
    "#delete\n",
    "#cp_groups_df"
   ]
  },
  {
   "cell_type": "code",
   "execution_count": 65,
   "id": "fa424af1-d1eb-443d-b717-2d279ada8408",
   "metadata": {
    "execution": {
     "iopub.execute_input": "2025-07-30T21:27:10.062008Z",
     "iopub.status.busy": "2025-07-30T21:27:10.060933Z",
     "iopub.status.idle": "2025-07-30T21:27:10.066543Z",
     "shell.execute_reply": "2025-07-30T21:27:10.065536Z"
    },
    "papermill": {
     "duration": 0.034881,
     "end_time": "2025-07-30T21:27:10.068435",
     "exception": false,
     "start_time": "2025-07-30T21:27:10.033554",
     "status": "completed"
    },
    "tags": []
   },
   "outputs": [],
   "source": [
    "#delete\n",
    "#percentage = (cp_groups_df['nongerman_female'] == 1).mean() * 100\n",
    "#print(percentage)\n"
   ]
  },
  {
   "cell_type": "code",
   "execution_count": 66,
   "id": "6cbdab96-b2b2-45af-ad54-d0516db2e28d",
   "metadata": {
    "execution": {
     "iopub.execute_input": "2025-07-30T21:27:10.124571Z",
     "iopub.status.busy": "2025-07-30T21:27:10.123249Z",
     "iopub.status.idle": "2025-07-30T21:27:11.681683Z",
     "shell.execute_reply": "2025-07-30T21:27:11.680974Z"
    },
    "papermill": {
     "duration": 1.587513,
     "end_time": "2025-07-30T21:27:11.683434",
     "exception": false,
     "start_time": "2025-07-30T21:27:10.095921",
     "status": "completed"
    },
    "tags": []
   },
   "outputs": [],
   "source": [
    "# Define covered = 1 if true_label is in the predicted set\n",
    "cp_groups_df['covered'] = cp_groups_df.apply(\n",
    "    lambda r: int(r['true_label'] in r['pred_set']),\n",
    "    axis=1\n",
    ")"
   ]
  },
  {
   "cell_type": "code",
   "execution_count": 67,
   "id": "338ff529-1a6b-4b87-a931-8e4788d52aad",
   "metadata": {
    "execution": {
     "iopub.execute_input": "2025-07-30T21:27:11.748647Z",
     "iopub.status.busy": "2025-07-30T21:27:11.747841Z",
     "iopub.status.idle": "2025-07-30T21:27:11.753128Z",
     "shell.execute_reply": "2025-07-30T21:27:11.752154Z"
    },
    "papermill": {
     "duration": 0.034788,
     "end_time": "2025-07-30T21:27:11.754900",
     "exception": false,
     "start_time": "2025-07-30T21:27:11.720112",
     "status": "completed"
    },
    "tags": []
   },
   "outputs": [],
   "source": [
    "#cp_groups_df"
   ]
  },
  {
   "cell_type": "code",
   "execution_count": 68,
   "id": "90032e27-66df-4540-9169-4e89cfbaa758",
   "metadata": {
    "execution": {
     "iopub.execute_input": "2025-07-30T21:27:11.805375Z",
     "iopub.status.busy": "2025-07-30T21:27:11.804902Z",
     "iopub.status.idle": "2025-07-30T21:27:11.816461Z",
     "shell.execute_reply": "2025-07-30T21:27:11.815279Z"
    },
    "papermill": {
     "duration": 0.03804,
     "end_time": "2025-07-30T21:27:11.818184",
     "exception": false,
     "start_time": "2025-07-30T21:27:11.780144",
     "status": "completed"
    },
    "tags": []
   },
   "outputs": [],
   "source": [
    "subgroups = ['frau1','nongerman','nongerman_male','nongerman_female']\n",
    "\n",
    "# Conditional coverage for subgroup==1\n",
    "cond_coverage = {\n",
    "    g: cp_groups_df.loc[cp_groups_df[g]==1, 'covered'].mean()\n",
    "    for g in subgroups\n",
    "}"
   ]
  },
  {
   "cell_type": "code",
   "execution_count": 69,
   "id": "1e348fb1-b9c3-45bc-ba23-f016827a7e0d",
   "metadata": {
    "execution": {
     "iopub.execute_input": "2025-07-30T21:27:11.878022Z",
     "iopub.status.busy": "2025-07-30T21:27:11.877089Z",
     "iopub.status.idle": "2025-07-30T21:27:11.886555Z",
     "shell.execute_reply": "2025-07-30T21:27:11.885416Z"
    },
    "papermill": {
     "duration": 0.042508,
     "end_time": "2025-07-30T21:27:11.888409",
     "exception": false,
     "start_time": "2025-07-30T21:27:11.845901",
     "status": "completed"
    },
    "tags": []
   },
   "outputs": [
    {
     "data": {
      "text/plain": [
       "{'frau1': 0.9054050411106618,\n",
       " 'nongerman': 0.9102902374670184,\n",
       " 'nongerman_male': 0.9256957579032694,\n",
       " 'nongerman_female': 0.8847988077496274}"
      ]
     },
     "execution_count": 69,
     "metadata": {},
     "output_type": "execute_result"
    }
   ],
   "source": [
    "cond_coverage"
   ]
  },
  {
   "cell_type": "code",
   "execution_count": 70,
   "id": "f5093324-c3dd-4d63-bc4c-8d945e5c8bbb",
   "metadata": {
    "execution": {
     "iopub.execute_input": "2025-07-30T21:27:11.930720Z",
     "iopub.status.busy": "2025-07-30T21:27:11.929661Z",
     "iopub.status.idle": "2025-07-30T21:27:11.939448Z",
     "shell.execute_reply": "2025-07-30T21:27:11.938308Z"
    },
    "papermill": {
     "duration": 0.03538,
     "end_time": "2025-07-30T21:27:11.941261",
     "exception": false,
     "start_time": "2025-07-30T21:27:11.905881",
     "status": "completed"
    },
    "tags": []
   },
   "outputs": [],
   "source": [
    "for subgroup, cov in cond_coverage.items():\n",
    "    cp_metrics_df[f\"cov_{subgroup}\"] = cov"
   ]
  },
  {
   "cell_type": "code",
   "execution_count": 71,
   "id": "6e872e10-dbe5-49e8-b554-5030c98ff75d",
   "metadata": {
    "execution": {
     "iopub.execute_input": "2025-07-30T21:27:11.995152Z",
     "iopub.status.busy": "2025-07-30T21:27:11.994612Z",
     "iopub.status.idle": "2025-07-30T21:27:12.016865Z",
     "shell.execute_reply": "2025-07-30T21:27:12.015721Z"
    },
    "papermill": {
     "duration": 0.049922,
     "end_time": "2025-07-30T21:27:12.018533",
     "exception": false,
     "start_time": "2025-07-30T21:27:11.968611",
     "status": "completed"
    },
    "tags": []
   },
   "outputs": [
    {
     "data": {
      "text/html": [
       "<div>\n",
       "<style scoped>\n",
       "    .dataframe tbody tr th:only-of-type {\n",
       "        vertical-align: middle;\n",
       "    }\n",
       "\n",
       "    .dataframe tbody tr th {\n",
       "        vertical-align: top;\n",
       "    }\n",
       "\n",
       "    .dataframe thead th {\n",
       "        text-align: right;\n",
       "    }\n",
       "</style>\n",
       "<table border=\"1\" class=\"dataframe\">\n",
       "  <thead>\n",
       "    <tr style=\"text-align: right;\">\n",
       "      <th></th>\n",
       "      <th>universe_id</th>\n",
       "      <th>universe_training_year</th>\n",
       "      <th>universe_training_size</th>\n",
       "      <th>universe_scale</th>\n",
       "      <th>universe_model</th>\n",
       "      <th>universe_exclude_features</th>\n",
       "      <th>universe_exclude_subgroups</th>\n",
       "      <th>q_hat</th>\n",
       "      <th>coverage</th>\n",
       "      <th>avg_size</th>\n",
       "      <th>cov_frau1</th>\n",
       "      <th>cov_nongerman</th>\n",
       "      <th>cov_nongerman_male</th>\n",
       "      <th>cov_nongerman_female</th>\n",
       "    </tr>\n",
       "  </thead>\n",
       "  <tbody>\n",
       "    <tr>\n",
       "      <th>0</th>\n",
       "      <td>30468d4e8fdc9dfd2c408ab4703038d5</td>\n",
       "      <td>2014</td>\n",
       "      <td>1k</td>\n",
       "      <td>scale</td>\n",
       "      <td>elasticnet</td>\n",
       "      <td>nationality-sex</td>\n",
       "      <td>keep-all</td>\n",
       "      <td>0.785567</td>\n",
       "      <td>0.906599</td>\n",
       "      <td>1.22954</td>\n",
       "      <td>0.905405</td>\n",
       "      <td>0.91029</td>\n",
       "      <td>0.925696</td>\n",
       "      <td>0.884799</td>\n",
       "    </tr>\n",
       "  </tbody>\n",
       "</table>\n",
       "</div>"
      ],
      "text/plain": [
       "                        universe_id universe_training_year  \\\n",
       "0  30468d4e8fdc9dfd2c408ab4703038d5                   2014   \n",
       "\n",
       "  universe_training_size universe_scale universe_model  \\\n",
       "0                     1k          scale     elasticnet   \n",
       "\n",
       "  universe_exclude_features universe_exclude_subgroups     q_hat  coverage  \\\n",
       "0           nationality-sex                   keep-all  0.785567  0.906599   \n",
       "\n",
       "   avg_size  cov_frau1  cov_nongerman  cov_nongerman_male  \\\n",
       "0   1.22954   0.905405        0.91029            0.925696   \n",
       "\n",
       "   cov_nongerman_female  \n",
       "0              0.884799  "
      ]
     },
     "execution_count": 71,
     "metadata": {},
     "output_type": "execute_result"
    }
   ],
   "source": [
    "cp_metrics_df"
   ]
  },
  {
   "cell_type": "markdown",
   "id": "33774451",
   "metadata": {
    "papermill": {
     "duration": 0.028361,
     "end_time": "2025-07-30T21:27:12.076440",
     "exception": false,
     "start_time": "2025-07-30T21:27:12.048079",
     "status": "completed"
    },
    "tags": []
   },
   "source": [
    "# (Fairness) Metrics"
   ]
  },
  {
   "cell_type": "code",
   "execution_count": 72,
   "id": "debc5d62",
   "metadata": {
    "execution": {
     "iopub.execute_input": "2025-07-30T21:27:12.133633Z",
     "iopub.status.busy": "2025-07-30T21:27:12.133137Z",
     "iopub.status.idle": "2025-07-30T21:27:12.155645Z",
     "shell.execute_reply": "2025-07-30T21:27:12.154716Z"
    },
    "papermill": {
     "duration": 0.053393,
     "end_time": "2025-07-30T21:27:12.157227",
     "exception": false,
     "start_time": "2025-07-30T21:27:12.103834",
     "status": "completed"
    },
    "tags": []
   },
   "outputs": [],
   "source": [
    "# do I need to include maxdeutsch1.missing?\n",
    "\n",
    "import numpy as np\n",
    "\n",
    "colname_to_bin = \"maxdeutsch1\"\n",
    "majority_value = org_train[colname_to_bin].mode()[0]\n",
    "\n",
    "org_test[\"majmin\"] = np.where(org_test[colname_to_bin] == majority_value, \"majority\", \"minority\")"
   ]
  },
  {
   "cell_type": "code",
   "execution_count": 73,
   "id": "06a50de5",
   "metadata": {
    "execution": {
     "iopub.execute_input": "2025-07-30T21:27:12.212198Z",
     "iopub.status.busy": "2025-07-30T21:27:12.211715Z",
     "iopub.status.idle": "2025-07-30T21:27:14.753290Z",
     "shell.execute_reply": "2025-07-30T21:27:14.752173Z"
    },
    "papermill": {
     "duration": 2.570594,
     "end_time": "2025-07-30T21:27:14.755177",
     "exception": false,
     "start_time": "2025-07-30T21:27:12.184583",
     "status": "completed"
    },
    "tags": []
   },
   "outputs": [],
   "source": [
    "example_universe = universe.copy()\n",
    "example_universe[\"cutoff\"] = example_universe[\"cutoff\"][0]\n",
    "example_universe[\"eval_fairness_grouping\"] = example_universe[\"eval_fairness_grouping\"][0]\n",
    "fairness_dict, metric_frame = universe_analysis.compute_metrics(\n",
    "    example_universe,\n",
    "    y_pred_prob=probs_test,\n",
    "    y_test=y_true,\n",
    "    org_test=org_test,\n",
    ")"
   ]
  },
  {
   "cell_type": "markdown",
   "id": "f95d4e02",
   "metadata": {
    "papermill": {
     "duration": 0.024581,
     "end_time": "2025-07-30T21:27:14.809145",
     "exception": false,
     "start_time": "2025-07-30T21:27:14.784564",
     "status": "completed"
    },
    "tags": []
   },
   "source": [
    "# Overall"
   ]
  },
  {
   "cell_type": "markdown",
   "id": "bdee4871",
   "metadata": {
    "papermill": {
     "duration": 0.024467,
     "end_time": "2025-07-30T21:27:14.859832",
     "exception": false,
     "start_time": "2025-07-30T21:27:14.835365",
     "status": "completed"
    },
    "tags": []
   },
   "source": [
    "Fairness\n",
    "Main fairness target: Equalized Odds. Seems to be a better fit than equal opportunity, since we're not only interested in Y = 1. Seems to be a better fit than demographic parity, since we also care about accuracy, not just equal distribution of preds.\n",
    "\n",
    "Pick column for computation of fairness metrics\n",
    "\n",
    "Performance\n",
    "Overall performance measures, most interesting in relation to the measures split by group below"
   ]
  },
  {
   "cell_type": "code",
   "execution_count": 74,
   "id": "c4e067c6",
   "metadata": {
    "execution": {
     "iopub.execute_input": "2025-07-30T21:27:14.913839Z",
     "iopub.status.busy": "2025-07-30T21:27:14.913355Z",
     "iopub.status.idle": "2025-07-30T21:27:14.922158Z",
     "shell.execute_reply": "2025-07-30T21:27:14.921198Z"
    },
    "papermill": {
     "duration": 0.035973,
     "end_time": "2025-07-30T21:27:14.923702",
     "exception": false,
     "start_time": "2025-07-30T21:27:14.887729",
     "status": "completed"
    },
    "tags": []
   },
   "outputs": [
    {
     "data": {
      "text/plain": [
       "accuracy                   0.218604\n",
       "balanced accuracy          0.535727\n",
       "f1                         0.240095\n",
       "precision                  0.137158\n",
       "false positive rate        0.890834\n",
       "false negative rate        0.037713\n",
       "selection rate             0.900000\n",
       "count                  89710.000000\n",
       "dtype: float64"
      ]
     },
     "execution_count": 74,
     "metadata": {},
     "output_type": "execute_result"
    }
   ],
   "source": [
    "metric_frame.overall"
   ]
  },
  {
   "cell_type": "markdown",
   "id": "e968fe9d",
   "metadata": {
    "papermill": {
     "duration": 0.026438,
     "end_time": "2025-07-30T21:27:14.975652",
     "exception": false,
     "start_time": "2025-07-30T21:27:14.949214",
     "status": "completed"
    },
    "tags": []
   },
   "source": [
    "By Group"
   ]
  },
  {
   "cell_type": "code",
   "execution_count": 75,
   "id": "ec325bce",
   "metadata": {
    "execution": {
     "iopub.execute_input": "2025-07-30T21:27:15.031055Z",
     "iopub.status.busy": "2025-07-30T21:27:15.030398Z",
     "iopub.status.idle": "2025-07-30T21:27:15.045821Z",
     "shell.execute_reply": "2025-07-30T21:27:15.045004Z"
    },
    "papermill": {
     "duration": 0.045916,
     "end_time": "2025-07-30T21:27:15.047330",
     "exception": false,
     "start_time": "2025-07-30T21:27:15.001414",
     "status": "completed"
    },
    "tags": []
   },
   "outputs": [
    {
     "data": {
      "text/html": [
       "<div>\n",
       "<style scoped>\n",
       "    .dataframe tbody tr th:only-of-type {\n",
       "        vertical-align: middle;\n",
       "    }\n",
       "\n",
       "    .dataframe tbody tr th {\n",
       "        vertical-align: top;\n",
       "    }\n",
       "\n",
       "    .dataframe thead th {\n",
       "        text-align: right;\n",
       "    }\n",
       "</style>\n",
       "<table border=\"1\" class=\"dataframe\">\n",
       "  <thead>\n",
       "    <tr style=\"text-align: right;\">\n",
       "      <th></th>\n",
       "      <th>accuracy</th>\n",
       "      <th>balanced accuracy</th>\n",
       "      <th>f1</th>\n",
       "      <th>precision</th>\n",
       "      <th>false positive rate</th>\n",
       "      <th>false negative rate</th>\n",
       "      <th>selection rate</th>\n",
       "      <th>count</th>\n",
       "    </tr>\n",
       "    <tr>\n",
       "      <th>majmin</th>\n",
       "      <th></th>\n",
       "      <th></th>\n",
       "      <th></th>\n",
       "      <th></th>\n",
       "      <th></th>\n",
       "      <th></th>\n",
       "      <th></th>\n",
       "      <th></th>\n",
       "    </tr>\n",
       "  </thead>\n",
       "  <tbody>\n",
       "    <tr>\n",
       "      <th>majority</th>\n",
       "      <td>0.235391</td>\n",
       "      <td>0.541864</td>\n",
       "      <td>0.248835</td>\n",
       "      <td>0.142978</td>\n",
       "      <td>0.874696</td>\n",
       "      <td>0.041575</td>\n",
       "      <td>0.885760</td>\n",
       "      <td>69170.0</td>\n",
       "    </tr>\n",
       "    <tr>\n",
       "      <th>minority</th>\n",
       "      <td>0.162074</td>\n",
       "      <td>0.516526</td>\n",
       "      <td>0.211914</td>\n",
       "      <td>0.118843</td>\n",
       "      <td>0.944145</td>\n",
       "      <td>0.022804</td>\n",
       "      <td>0.947955</td>\n",
       "      <td>20540.0</td>\n",
       "    </tr>\n",
       "  </tbody>\n",
       "</table>\n",
       "</div>"
      ],
      "text/plain": [
       "          accuracy  balanced accuracy        f1  precision  \\\n",
       "majmin                                                       \n",
       "majority  0.235391           0.541864  0.248835   0.142978   \n",
       "minority  0.162074           0.516526  0.211914   0.118843   \n",
       "\n",
       "          false positive rate  false negative rate  selection rate    count  \n",
       "majmin                                                                       \n",
       "majority             0.874696             0.041575        0.885760  69170.0  \n",
       "minority             0.944145             0.022804        0.947955  20540.0  "
      ]
     },
     "execution_count": 75,
     "metadata": {},
     "output_type": "execute_result"
    }
   ],
   "source": [
    "metric_frame.by_group"
   ]
  },
  {
   "cell_type": "code",
   "execution_count": 76,
   "id": "a9ddbe63",
   "metadata": {
    "execution": {
     "iopub.execute_input": "2025-07-30T21:27:15.099626Z",
     "iopub.status.busy": "2025-07-30T21:27:15.099134Z",
     "iopub.status.idle": "2025-07-30T21:27:17.426425Z",
     "shell.execute_reply": "2025-07-30T21:27:17.425464Z"
    },
    "papermill": {
     "duration": 2.35515,
     "end_time": "2025-07-30T21:27:17.428217",
     "exception": false,
     "start_time": "2025-07-30T21:27:15.073067",
     "status": "completed"
    },
    "tags": []
   },
   "outputs": [
    {
     "data": {
      "text/plain": [
       "array([[<Axes: title={'center': 'accuracy'}, xlabel='majmin'>,\n",
       "        <Axes: title={'center': 'balanced accuracy'}, xlabel='majmin'>,\n",
       "        <Axes: title={'center': 'f1'}, xlabel='majmin'>],\n",
       "       [<Axes: title={'center': 'precision'}, xlabel='majmin'>,\n",
       "        <Axes: title={'center': 'false positive rate'}, xlabel='majmin'>,\n",
       "        <Axes: title={'center': 'false negative rate'}, xlabel='majmin'>],\n",
       "       [<Axes: title={'center': 'selection rate'}, xlabel='majmin'>,\n",
       "        <Axes: title={'center': 'count'}, xlabel='majmin'>,\n",
       "        <Axes: xlabel='majmin'>]], dtype=object)"
      ]
     },
     "execution_count": 76,
     "metadata": {},
     "output_type": "execute_result"
    },
    {
     "data": {
      "image/png": "[encoded data removed]",
      "text/plain": [
       "<Figure size 1200x800 with 9 Axes>"
      ]
     },
     "metadata": {},
     "output_type": "display_data"
    }
   ],
   "source": [
    "# In a graphic\n",
    "metric_frame.by_group.plot.bar(\n",
    "    subplots=True,\n",
    "    layout=[3, 3],\n",
    "    legend=False,\n",
    "    figsize=[12, 8],\n",
    "    title=\"Show all metrics\",\n",
    ")"
   ]
  },
  {
   "cell_type": "markdown",
   "id": "f57a0bac",
   "metadata": {
    "papermill": {
     "duration": 0.028026,
     "end_time": "2025-07-30T21:27:17.488538",
     "exception": false,
     "start_time": "2025-07-30T21:27:17.460512",
     "status": "completed"
    },
    "tags": []
   },
   "source": [
    "# Final Output"
   ]
  },
  {
   "cell_type": "code",
   "execution_count": 77,
   "id": "96d280a3",
   "metadata": {
    "execution": {
     "iopub.execute_input": "2025-07-30T21:27:17.545057Z",
     "iopub.status.busy": "2025-07-30T21:27:17.544259Z",
     "iopub.status.idle": "2025-07-30T21:27:17.552000Z",
     "shell.execute_reply": "2025-07-30T21:27:17.551141Z"
    },
    "papermill": {
     "duration": 0.037596,
     "end_time": "2025-07-30T21:27:17.553476",
     "exception": false,
     "start_time": "2025-07-30T21:27:17.515880",
     "status": "completed"
    },
    "tags": []
   },
   "outputs": [
    {
     "data": {
      "text/plain": [
       "4"
      ]
     },
     "execution_count": 77,
     "metadata": {},
     "output_type": "execute_result"
    }
   ],
   "source": [
    "sub_universes = universe_analysis.generate_sub_universes()\n",
    "len(sub_universes)"
   ]
  },
  {
   "cell_type": "code",
   "execution_count": 78,
   "id": "92adf7ba",
   "metadata": {
    "execution": {
     "iopub.execute_input": "2025-07-30T21:27:17.611561Z",
     "iopub.status.busy": "2025-07-30T21:27:17.610893Z",
     "iopub.status.idle": "2025-07-30T21:27:17.617249Z",
     "shell.execute_reply": "2025-07-30T21:27:17.616378Z"
    },
    "papermill": {
     "duration": 0.036712,
     "end_time": "2025-07-30T21:27:17.618841",
     "exception": false,
     "start_time": "2025-07-30T21:27:17.582129",
     "status": "completed"
    },
    "tags": []
   },
   "outputs": [],
   "source": [
    "def filter_sub_universe_data(sub_universe, org_test):\n",
    "    # Keep all rows — no filtering\n",
    "    keep_rows_mask = np.ones(org_test.shape[0], dtype=bool)\n",
    "\n",
    "    print(f\"[INFO] Keeping all rows: {keep_rows_mask.sum()} rows retained.\")\n",
    "    return keep_rows_mask"
   ]
  },
  {
   "cell_type": "code",
   "execution_count": 79,
   "id": "4a759155",
   "metadata": {
    "execution": {
     "iopub.execute_input": "2025-07-30T21:27:17.678595Z",
     "iopub.status.busy": "2025-07-30T21:27:17.677883Z",
     "iopub.status.idle": "2025-07-30T21:27:27.789344Z",
     "shell.execute_reply": "2025-07-30T21:27:27.788228Z"
    },
    "papermill": {
     "duration": 10.143523,
     "end_time": "2025-07-30T21:27:27.790904",
     "exception": false,
     "start_time": "2025-07-30T21:27:17.647381",
     "status": "completed"
    },
    "tags": []
   },
   "outputs": [
    {
     "name": "stdout",
     "output_type": "stream",
     "text": [
      "Stopping execution_time clock.\n",
      "[INFO] Keeping all rows: 89710 rows retained.\n"
     ]
    },
    {
     "name": "stdout",
     "output_type": "stream",
     "text": [
      "[INFO] Keeping all rows: 89710 rows retained.\n"
     ]
    },
    {
     "name": "stdout",
     "output_type": "stream",
     "text": [
      "[INFO] Keeping all rows: 89710 rows retained.\n"
     ]
    },
    {
     "name": "stdout",
     "output_type": "stream",
     "text": [
      "[INFO] Keeping all rows: 89710 rows retained.\n"
     ]
    },
    {
     "data": {
      "text/html": [
       "<div>\n",
       "<style scoped>\n",
       "    .dataframe tbody tr th:only-of-type {\n",
       "        vertical-align: middle;\n",
       "    }\n",
       "\n",
       "    .dataframe tbody tr th {\n",
       "        vertical-align: top;\n",
       "    }\n",
       "\n",
       "    .dataframe thead th {\n",
       "        text-align: right;\n",
       "    }\n",
       "</style>\n",
       "<table border=\"1\" class=\"dataframe\">\n",
       "  <thead>\n",
       "    <tr style=\"text-align: right;\">\n",
       "      <th></th>\n",
       "      <th>run_no</th>\n",
       "      <th>universe_id</th>\n",
       "      <th>universe_settings</th>\n",
       "      <th>execution_time</th>\n",
       "      <th>test_size_n</th>\n",
       "      <th>test_size_frac</th>\n",
       "      <th>fair_main_equalized_odds_difference</th>\n",
       "      <th>fair_main_equalized_odds_ratio</th>\n",
       "      <th>fair_main_demographic_parity_difference</th>\n",
       "      <th>fair_main_demographic_parity_ratio</th>\n",
       "      <th>...</th>\n",
       "      <th>perf_grp_precision_0</th>\n",
       "      <th>perf_grp_precision_1</th>\n",
       "      <th>perf_grp_false positive rate_0</th>\n",
       "      <th>perf_grp_false positive rate_1</th>\n",
       "      <th>perf_grp_false negative rate_0</th>\n",
       "      <th>perf_grp_false negative rate_1</th>\n",
       "      <th>perf_grp_selection rate_0</th>\n",
       "      <th>perf_grp_selection rate_1</th>\n",
       "      <th>perf_grp_count_0</th>\n",
       "      <th>perf_grp_count_1</th>\n",
       "    </tr>\n",
       "  </thead>\n",
       "  <tbody>\n",
       "    <tr>\n",
       "      <th>0</th>\n",
       "      <td>14</td>\n",
       "      <td>30468d4e8fdc9dfd2c408ab4703038d5</td>\n",
       "      <td>{\"cutoff\": \"quantile_0.1\", \"eval_fairness_grou...</td>\n",
       "      <td>30.110152</td>\n",
       "      <td>89710</td>\n",
       "      <td>1.0</td>\n",
       "      <td>0.069449</td>\n",
       "      <td>0.926443</td>\n",
       "      <td>0.062195</td>\n",
       "      <td>0.934390</td>\n",
       "      <td>...</td>\n",
       "      <td>NaN</td>\n",
       "      <td>NaN</td>\n",
       "      <td>NaN</td>\n",
       "      <td>NaN</td>\n",
       "      <td>NaN</td>\n",
       "      <td>NaN</td>\n",
       "      <td>NaN</td>\n",
       "      <td>NaN</td>\n",
       "      <td>NaN</td>\n",
       "      <td>NaN</td>\n",
       "    </tr>\n",
       "    <tr>\n",
       "      <th>0</th>\n",
       "      <td>14</td>\n",
       "      <td>30468d4e8fdc9dfd2c408ab4703038d5</td>\n",
       "      <td>{\"cutoff\": \"quantile_0.1\", \"eval_fairness_grou...</td>\n",
       "      <td>30.110152</td>\n",
       "      <td>89710</td>\n",
       "      <td>1.0</td>\n",
       "      <td>0.069449</td>\n",
       "      <td>0.926443</td>\n",
       "      <td>0.062195</td>\n",
       "      <td>0.934390</td>\n",
       "      <td>...</td>\n",
       "      <td>0.118843</td>\n",
       "      <td>0.142978</td>\n",
       "      <td>0.944145</td>\n",
       "      <td>0.874696</td>\n",
       "      <td>0.022804</td>\n",
       "      <td>0.041575</td>\n",
       "      <td>0.947955</td>\n",
       "      <td>0.885760</td>\n",
       "      <td>20540.0</td>\n",
       "      <td>69170.0</td>\n",
       "    </tr>\n",
       "    <tr>\n",
       "      <th>0</th>\n",
       "      <td>14</td>\n",
       "      <td>30468d4e8fdc9dfd2c408ab4703038d5</td>\n",
       "      <td>{\"cutoff\": \"quantile_0.25\", \"eval_fairness_gro...</td>\n",
       "      <td>30.110152</td>\n",
       "      <td>89710</td>\n",
       "      <td>1.0</td>\n",
       "      <td>0.071422</td>\n",
       "      <td>0.909016</td>\n",
       "      <td>0.060940</td>\n",
       "      <td>0.923537</td>\n",
       "      <td>...</td>\n",
       "      <td>NaN</td>\n",
       "      <td>NaN</td>\n",
       "      <td>NaN</td>\n",
       "      <td>NaN</td>\n",
       "      <td>NaN</td>\n",
       "      <td>NaN</td>\n",
       "      <td>NaN</td>\n",
       "      <td>NaN</td>\n",
       "      <td>NaN</td>\n",
       "      <td>NaN</td>\n",
       "    </tr>\n",
       "    <tr>\n",
       "      <th>0</th>\n",
       "      <td>14</td>\n",
       "      <td>30468d4e8fdc9dfd2c408ab4703038d5</td>\n",
       "      <td>{\"cutoff\": \"quantile_0.25\", \"eval_fairness_gro...</td>\n",
       "      <td>30.110152</td>\n",
       "      <td>89710</td>\n",
       "      <td>1.0</td>\n",
       "      <td>0.071422</td>\n",
       "      <td>0.909016</td>\n",
       "      <td>0.060940</td>\n",
       "      <td>0.923537</td>\n",
       "      <td>...</td>\n",
       "      <td>0.128589</td>\n",
       "      <td>0.158627</td>\n",
       "      <td>0.784999</td>\n",
       "      <td>0.713577</td>\n",
       "      <td>0.111064</td>\n",
       "      <td>0.116411</td>\n",
       "      <td>0.796981</td>\n",
       "      <td>0.736042</td>\n",
       "      <td>20540.0</td>\n",
       "      <td>69170.0</td>\n",
       "    </tr>\n",
       "  </tbody>\n",
       "</table>\n",
       "<p>4 rows × 50 columns</p>\n",
       "</div>"
      ],
      "text/plain": [
       "  run_no                       universe_id  \\\n",
       "0     14  30468d4e8fdc9dfd2c408ab4703038d5   \n",
       "0     14  30468d4e8fdc9dfd2c408ab4703038d5   \n",
       "0     14  30468d4e8fdc9dfd2c408ab4703038d5   \n",
       "0     14  30468d4e8fdc9dfd2c408ab4703038d5   \n",
       "\n",
       "                                   universe_settings  execution_time  \\\n",
       "0  {\"cutoff\": \"quantile_0.1\", \"eval_fairness_grou...       30.110152   \n",
       "0  {\"cutoff\": \"quantile_0.1\", \"eval_fairness_grou...       30.110152   \n",
       "0  {\"cutoff\": \"quantile_0.25\", \"eval_fairness_gro...       30.110152   \n",
       "0  {\"cutoff\": \"quantile_0.25\", \"eval_fairness_gro...       30.110152   \n",
       "\n",
       "   test_size_n  test_size_frac  fair_main_equalized_odds_difference  \\\n",
       "0        89710             1.0                             0.069449   \n",
       "0        89710             1.0                             0.069449   \n",
       "0        89710             1.0                             0.071422   \n",
       "0        89710             1.0                             0.071422   \n",
       "\n",
       "   fair_main_equalized_odds_ratio  fair_main_demographic_parity_difference  \\\n",
       "0                        0.926443                                 0.062195   \n",
       "0                        0.926443                                 0.062195   \n",
       "0                        0.909016                                 0.060940   \n",
       "0                        0.909016                                 0.060940   \n",
       "\n",
       "   fair_main_demographic_parity_ratio  ...  perf_grp_precision_0  \\\n",
       "0                            0.934390  ...                   NaN   \n",
       "0                            0.934390  ...              0.118843   \n",
       "0                            0.923537  ...                   NaN   \n",
       "0                            0.923537  ...              0.128589   \n",
       "\n",
       "   perf_grp_precision_1  perf_grp_false positive rate_0  \\\n",
       "0                   NaN                             NaN   \n",
       "0              0.142978                        0.944145   \n",
       "0                   NaN                             NaN   \n",
       "0              0.158627                        0.784999   \n",
       "\n",
       "   perf_grp_false positive rate_1  perf_grp_false negative rate_0  \\\n",
       "0                             NaN                             NaN   \n",
       "0                        0.874696                        0.022804   \n",
       "0                             NaN                             NaN   \n",
       "0                        0.713577                        0.111064   \n",
       "\n",
       "   perf_grp_false negative rate_1  perf_grp_selection rate_0  \\\n",
       "0                             NaN                        NaN   \n",
       "0                        0.041575                   0.947955   \n",
       "0                             NaN                        NaN   \n",
       "0                        0.116411                   0.796981   \n",
       "\n",
       "   perf_grp_selection rate_1  perf_grp_count_0  perf_grp_count_1  \n",
       "0                        NaN               NaN               NaN  \n",
       "0                   0.885760           20540.0           69170.0  \n",
       "0                        NaN               NaN               NaN  \n",
       "0                   0.736042           20540.0           69170.0  \n",
       "\n",
       "[4 rows x 50 columns]"
      ]
     },
     "execution_count": 79,
     "metadata": {},
     "output_type": "execute_result"
    }
   ],
   "source": [
    "final_output = universe_analysis.generate_final_output(\n",
    "    y_pred_prob=probs_test,\n",
    "    y_test=y_true,\n",
    "    org_test=org_test,\n",
    "    filter_data=filter_sub_universe_data,\n",
    "    cp_metrics_df=cp_metrics_df,\n",
    "    save=True,\n",
    ")\n",
    "final_output"
   ]
  },
  {
   "cell_type": "code",
   "execution_count": null,
   "id": "721ff514-cb11-46f8-b6fc-50392f74b5cb",
   "metadata": {
    "papermill": {
     "duration": 0.028589,
     "end_time": "2025-07-30T21:27:27.850188",
     "exception": false,
     "start_time": "2025-07-30T21:27:27.821599",
     "status": "completed"
    },
    "tags": []
   },
   "outputs": [],
   "source": []
  }
 ],
 "metadata": {
  "celltoolbar": "Tags",
  "kernelspec": {
   "display_name": "Python (CMA Fairness)",
   "language": "python",
   "name": "cma_fair_env"
  },
  "language_info": {
   "codemirror_mode": {
    "name": "ipython",
    "version": 3
   },
   "file_extension": ".py",
   "mimetype": "text/x-python",
   "name": "python",
   "nbconvert_exporter": "python",
   "pygments_lexer": "ipython3",
   "version": "3.10.12"
  },
  "papermill": {
   "default_parameters": {},
   "duration": 44.426987,
   "end_time": "2025-07-30T21:27:28.596736",
   "environment_variables": {},
   "exception": null,
   "input_path": "universe_analysis.ipynb",
   "output_path": "output/runs/14/notebooks/m_14-30468d4e8fdc9dfd2c408ab4703038d5.ipynb",
   "parameters": {
    "output_dir": "output",
    "run_no": "14",
    "seed": "2023",
    "universe": "{\"cutoff\": [\"quantile_0.1\", \"quantile_0.25\"], \"eval_fairness_grouping\": [\"majority-minority\", \"nationality-all\"], \"exclude_features\": \"nationality-sex\", \"exclude_subgroups\": \"keep-all\", \"model\": \"elasticnet\", \"scale\": \"scale\", \"training_size\": \"1k\", \"training_year\": \"2014\"}",
    "universe_id": "30468d4e8fdc9dfd2c408ab4703038d5"
   },
   "start_time": "2025-07-30T21:26:44.169749",
   "version": "2.6.0"
  }
 },
 "nbformat": 4,
 "nbformat_minor": 5
}