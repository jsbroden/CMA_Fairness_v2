{
 "cells": [
  {
   "cell_type": "code",
   "execution_count": 1,
   "id": "f159f837-637b-42ba-96b5-ec9a68c44524",
   "metadata": {
    "execution": {
     "iopub.execute_input": "2025-07-30T21:40:16.403823Z",
     "iopub.status.busy": "2025-07-30T21:40:16.403433Z",
     "iopub.status.idle": "2025-07-30T21:40:16.429201Z",
     "shell.execute_reply": "2025-07-30T21:40:16.428110Z"
    },
    "papermill": {
     "duration": 0.070141,
     "end_time": "2025-07-30T21:40:16.431177",
     "exception": false,
     "start_time": "2025-07-30T21:40:16.361036",
     "status": "completed"
    },
    "tags": []
   },
   "outputs": [
    {
     "name": "stdout",
     "output_type": "stream",
     "text": [
      "/dss/dsshome1/0C/ra93lal2/cma/CMA_Fairness_v2\n"
     ]
    },
    {
     "name": "stderr",
     "output_type": "stream",
     "text": [
      "/dss/dsshome1/0C/ra93lal2/.local/share/virtualenvs/CMA_Fairness_v2-3j10GkSs/lib/python3.10/site-packages/IPython/core/magics/osm.py:393: UserWarning: This is now an optional IPython functionality, using bookmarks requires you to install the `pickleshare` library.\n",
      "  bkms = self.shell.db.get('bookmarks', {})\n",
      "/dss/dsshome1/0C/ra93lal2/.local/share/virtualenvs/CMA_Fairness_v2-3j10GkSs/lib/python3.10/site-packages/IPython/core/magics/osm.py:417: UserWarning: This is now an optional IPython functionality, setting dhist requires you to install the `pickleshare` library.\n",
      "  self.shell.db['dhist'] = compress_dhist(dhist)[-100:]\n"
     ]
    }
   ],
   "source": [
    "%cd ~/cma/CMA_Fairness_v2"
   ]
  },
  {
   "cell_type": "markdown",
   "id": "de2603b9",
   "metadata": {
    "papermill": {
     "duration": 0.01876,
     "end_time": "2025-07-30T21:40:16.495072",
     "exception": false,
     "start_time": "2025-07-30T21:40:16.476312",
     "status": "completed"
    },
    "tags": []
   },
   "source": [
    "The following cell holds the definition of our parameters, these values can be overriden by rendering the with e.g. the following command:\n",
    "\n",
    "papermill -p alpha 0.2 -p ratio 0.3 universe_analysis.ipynb output/test_run.ipynb"
   ]
  },
  {
   "cell_type": "code",
   "execution_count": 2,
   "id": "a80968a0-40bb-4fa9-85ef-2d5eefb01975",
   "metadata": {
    "execution": {
     "iopub.execute_input": "2025-07-30T21:40:16.528433Z",
     "iopub.status.busy": "2025-07-30T21:40:16.528060Z",
     "iopub.status.idle": "2025-07-30T21:40:16.533518Z",
     "shell.execute_reply": "2025-07-30T21:40:16.532500Z"
    },
    "papermill": {
     "duration": 0.028177,
     "end_time": "2025-07-30T21:40:16.541257",
     "exception": false,
     "start_time": "2025-07-30T21:40:16.513080",
     "status": "completed"
    },
    "tags": []
   },
   "outputs": [
    {
     "name": "stdout",
     "output_type": "stream",
     "text": [
      "Current working directory: /dss/dsshome1/0C/ra93lal2/cma/CMA_Fairness_v2\n"
     ]
    }
   ],
   "source": [
    "import os\n",
    "print(\"Current working directory:\", os.getcwd())"
   ]
  },
  {
   "cell_type": "code",
   "execution_count": 3,
   "id": "2dce4c03",
   "metadata": {
    "execution": {
     "iopub.execute_input": "2025-07-30T21:40:16.641803Z",
     "iopub.status.busy": "2025-07-30T21:40:16.641439Z",
     "iopub.status.idle": "2025-07-30T21:40:16.647534Z",
     "shell.execute_reply": "2025-07-30T21:40:16.646615Z"
    },
    "papermill": {
     "duration": 0.029271,
     "end_time": "2025-07-30T21:40:16.649424",
     "exception": false,
     "start_time": "2025-07-30T21:40:16.620153",
     "status": "completed"
    },
    "tags": [
     "parameters"
    ]
   },
   "outputs": [],
   "source": [
    "run_no = 0\n",
    "universe_id = \"test\"\n",
    "universe = {\n",
    "    \"training_size\": \"25k\", # \"25k\", \"5k\", \"1k\"\n",
    "    \"training_year\": \"2014\", # \"2014\", \"2012_14\", \"2010_14\"\n",
    "    \"scale\": \"scale\", # \"scale\", \"do-not-scale\",\n",
    "    #\"stratify_split\": \"target\", # \"none\", \"target\", \"protected-attribute\", \"both\",\n",
    "    \"model\": \"elasticnet\", # \"logreg\", \"penalized_logreg\", \"rf\", \"gbm\", \"elasticnet\"\n",
    "    \"cutoff\": [\"quantile_0.15\", \"quantile_0.30\"],\n",
    "    \"exclude_features\": \"age\", # \"none\", \"nationality\", \"sex\", \"nationality-sex\", \"age\"\n",
    "    \"exclude_subgroups\": \"keep-all\", # \"keep-all\", \"drop-non-german\"\n",
    "    \"eval_fairness_grouping\": [\"majority-minority\", \"nationality-all\"]\n",
    "}\n",
    "\n",
    "output_dir=\"./output\"\n",
    "seed=0"
   ]
  },
  {
   "cell_type": "code",
   "execution_count": 4,
   "id": "160d6a2d",
   "metadata": {
    "execution": {
     "iopub.execute_input": "2025-07-30T21:40:16.688349Z",
     "iopub.status.busy": "2025-07-30T21:40:16.687956Z",
     "iopub.status.idle": "2025-07-30T21:40:16.698746Z",
     "shell.execute_reply": "2025-07-30T21:40:16.697722Z"
    },
    "papermill": {
     "duration": 0.036573,
     "end_time": "2025-07-30T21:40:16.705243",
     "exception": false,
     "start_time": "2025-07-30T21:40:16.668670",
     "status": "completed"
    },
    "tags": [
     "injected-parameters"
    ]
   },
   "outputs": [],
   "source": [
    "# Parameters\n",
    "universe_id = \"e88aa3daea96c6e1a6f9b6a65e8b8c8d\"\n",
    "run_no = \"14\"\n",
    "universe = \"{\\\"cutoff\\\": [\\\"quantile_0.1\\\", \\\"quantile_0.25\\\"], \\\"eval_fairness_grouping\\\": [\\\"majority-minority\\\", \\\"nationality-all\\\"], \\\"exclude_features\\\": \\\"sex\\\", \\\"exclude_subgroups\\\": \\\"drop-non-german\\\", \\\"model\\\": \\\"rf\\\", \\\"scale\\\": \\\"do-not-scale\\\", \\\"training_size\\\": \\\"1k\\\", \\\"training_year\\\": \\\"2012_14\\\"}\"\n",
    "output_dir = \"output\"\n",
    "seed = \"2023\"\n"
   ]
  },
  {
   "cell_type": "code",
   "execution_count": 5,
   "id": "1650acaf",
   "metadata": {
    "execution": {
     "iopub.execute_input": "2025-07-30T21:40:16.785599Z",
     "iopub.status.busy": "2025-07-30T21:40:16.785189Z",
     "iopub.status.idle": "2025-07-30T21:40:16.790515Z",
     "shell.execute_reply": "2025-07-30T21:40:16.789493Z"
    },
    "papermill": {
     "duration": 0.044351,
     "end_time": "2025-07-30T21:40:16.793596",
     "exception": false,
     "start_time": "2025-07-30T21:40:16.749245",
     "status": "completed"
    },
    "tags": []
   },
   "outputs": [],
   "source": [
    "import json\n",
    "# Parse universe into dict if it is passed as a string\n",
    "if isinstance(universe, str):\n",
    "    universe = json.loads(universe)"
   ]
  },
  {
   "cell_type": "code",
   "execution_count": 6,
   "id": "16620c48",
   "metadata": {
    "execution": {
     "iopub.execute_input": "2025-07-30T21:40:16.836865Z",
     "iopub.status.busy": "2025-07-30T21:40:16.836502Z",
     "iopub.status.idle": "2025-07-30T21:40:16.901662Z",
     "shell.execute_reply": "2025-07-30T21:40:16.900623Z"
    },
    "papermill": {
     "duration": 0.088595,
     "end_time": "2025-07-30T21:40:16.903887",
     "exception": false,
     "start_time": "2025-07-30T21:40:16.815292",
     "status": "completed"
    },
    "tags": []
   },
   "outputs": [],
   "source": [
    "# Auto-reload the custom package\n",
    "%load_ext autoreload\n",
    "%autoreload 1\n",
    "%aimport fairness_multiverse"
   ]
  },
  {
   "cell_type": "code",
   "execution_count": 7,
   "id": "01c5c9f3",
   "metadata": {
    "execution": {
     "iopub.execute_input": "2025-07-30T21:40:16.953805Z",
     "iopub.status.busy": "2025-07-30T21:40:16.953399Z",
     "iopub.status.idle": "2025-07-30T21:40:20.014484Z",
     "shell.execute_reply": "2025-07-30T21:40:20.013377Z"
    },
    "papermill": {
     "duration": 3.089616,
     "end_time": "2025-07-30T21:40:20.016352",
     "exception": false,
     "start_time": "2025-07-30T21:40:16.926736",
     "status": "completed"
    },
    "tags": []
   },
   "outputs": [],
   "source": [
    "from fairness_multiverse.universe import UniverseAnalysis\n",
    "\n",
    "universe_analysis = UniverseAnalysis(\n",
    "    run_no = run_no,\n",
    "    universe_id = universe_id,\n",
    "    universe = universe,\n",
    "    output_dir=output_dir,\n",
    ")"
   ]
  },
  {
   "cell_type": "code",
   "execution_count": 8,
   "id": "106241f5",
   "metadata": {
    "execution": {
     "iopub.execute_input": "2025-07-30T21:40:20.073083Z",
     "iopub.status.busy": "2025-07-30T21:40:20.072655Z",
     "iopub.status.idle": "2025-07-30T21:40:20.079800Z",
     "shell.execute_reply": "2025-07-30T21:40:20.078632Z"
    },
    "papermill": {
     "duration": 0.044067,
     "end_time": "2025-07-30T21:40:20.083167",
     "exception": false,
     "start_time": "2025-07-30T21:40:20.039100",
     "status": "completed"
    },
    "tags": []
   },
   "outputs": [
    {
     "name": "stdout",
     "output_type": "stream",
     "text": [
      "Using Seed: 2023\n"
     ]
    }
   ],
   "source": [
    "import numpy as np\n",
    "parsed_seed = int(seed)\n",
    "np.random.seed(parsed_seed)\n",
    "print(f\"Using Seed: {parsed_seed}\")"
   ]
  },
  {
   "cell_type": "markdown",
   "id": "e0ebdc57",
   "metadata": {
    "papermill": {
     "duration": 0.01426,
     "end_time": "2025-07-30T21:40:20.120702",
     "exception": false,
     "start_time": "2025-07-30T21:40:20.106442",
     "status": "completed"
    },
    "tags": []
   },
   "source": [
    "# Loading Data"
   ]
  },
  {
   "cell_type": "markdown",
   "id": "681925a3",
   "metadata": {
    "papermill": {
     "duration": 0.021919,
     "end_time": "2025-07-30T21:40:20.164426",
     "exception": false,
     "start_time": "2025-07-30T21:40:20.142507",
     "status": "completed"
    },
    "tags": []
   },
   "source": [
    "Load siab_train, siab_test, siab_calib and/or \n",
    "load siab_train_features, siab_train_labels"
   ]
  },
  {
   "cell_type": "code",
   "execution_count": 9,
   "id": "f0496b8a",
   "metadata": {
    "execution": {
     "iopub.execute_input": "2025-07-30T21:40:20.210904Z",
     "iopub.status.busy": "2025-07-30T21:40:20.210408Z",
     "iopub.status.idle": "2025-07-30T21:40:31.964087Z",
     "shell.execute_reply": "2025-07-30T21:40:31.962901Z"
    },
    "papermill": {
     "duration": 11.779335,
     "end_time": "2025-07-30T21:40:31.965715",
     "exception": false,
     "start_time": "2025-07-30T21:40:20.186380",
     "status": "completed"
    },
    "tags": []
   },
   "outputs": [
    {
     "name": "stdout",
     "output_type": "stream",
     "text": [
      "Loading SIAB data from cache: data/siab_cached.csv.gz\n"
     ]
    },
    {
     "name": "stdout",
     "output_type": "stream",
     "text": [
      "(643690, 164)\n"
     ]
    }
   ],
   "source": [
    "from pathlib import Path\n",
    "import pandas as pd\n",
    "\n",
    "# File paths\n",
    "raw_file = Path(\"data/raw/siab.csv\")\n",
    "cache_file = Path(\"data/siab_cached.csv.gz\")\n",
    "\n",
    "# Ensure cache directory exists\n",
    "cache_file.parent.mkdir(parents=True, exist_ok=True)\n",
    "\n",
    "# Load with simple caching\n",
    "if cache_file.exists():\n",
    "    print(f\"Loading SIAB data from cache: {cache_file}\")\n",
    "    siab = pd.read_csv(cache_file, compression='gzip')\n",
    "else:\n",
    "    print(f\"Cache not found. Reading raw SIAB data: {raw_file}\")\n",
    "    siab = pd.read_csv(raw_file)\n",
    "    siab.to_csv(cache_file, index=False, compression='gzip')\n",
    "    print(f\"Cached SIAB data to: {cache_file}\")\n",
    "\n",
    "# Now use `siab` DataFrame as needed\n",
    "print(siab.shape)"
   ]
  },
  {
   "cell_type": "code",
   "execution_count": 10,
   "id": "db0ca512-5f53-4dba-abdb-a2888bca41ba",
   "metadata": {
    "execution": {
     "iopub.execute_input": "2025-07-30T21:40:32.014304Z",
     "iopub.status.busy": "2025-07-30T21:40:32.013798Z",
     "iopub.status.idle": "2025-07-30T21:40:32.020133Z",
     "shell.execute_reply": "2025-07-30T21:40:32.018966Z"
    },
    "papermill": {
     "duration": 0.032029,
     "end_time": "2025-07-30T21:40:32.021719",
     "exception": false,
     "start_time": "2025-07-30T21:40:31.989690",
     "status": "completed"
    },
    "tags": []
   },
   "outputs": [],
   "source": [
    "#siab"
   ]
  },
  {
   "cell_type": "code",
   "execution_count": 11,
   "id": "a0edb063",
   "metadata": {
    "execution": {
     "iopub.execute_input": "2025-07-30T21:40:32.068191Z",
     "iopub.status.busy": "2025-07-30T21:40:32.067682Z",
     "iopub.status.idle": "2025-07-30T21:40:32.074254Z",
     "shell.execute_reply": "2025-07-30T21:40:32.073162Z"
    },
    "papermill": {
     "duration": 0.030388,
     "end_time": "2025-07-30T21:40:32.075935",
     "exception": false,
     "start_time": "2025-07-30T21:40:32.045547",
     "status": "completed"
    },
    "tags": []
   },
   "outputs": [],
   "source": [
    "#import pandas as pd\n",
    "#\n",
    "#X_train = pd.read_csv(\"./data/X_train.csv\")\n",
    "#y_train = pd.read_csv(\"./data/y_train.csv\")"
   ]
  },
  {
   "cell_type": "code",
   "execution_count": 12,
   "id": "63d08085",
   "metadata": {
    "execution": {
     "iopub.execute_input": "2025-07-30T21:40:32.112616Z",
     "iopub.status.busy": "2025-07-30T21:40:32.112092Z",
     "iopub.status.idle": "2025-07-30T21:40:32.117418Z",
     "shell.execute_reply": "2025-07-30T21:40:32.116387Z"
    },
    "papermill": {
     "duration": 0.027414,
     "end_time": "2025-07-30T21:40:32.119972",
     "exception": false,
     "start_time": "2025-07-30T21:40:32.092558",
     "status": "completed"
    },
    "tags": []
   },
   "outputs": [],
   "source": [
    "#X_test = pd.read_csv(\"./data/X_test.csv\")\n",
    "#y_true = pd.read_csv(\"./data/y_test.csv\")"
   ]
  },
  {
   "cell_type": "code",
   "execution_count": 13,
   "id": "98a8d0fa-1d3d-4ed8-bb2c-281470e24add",
   "metadata": {
    "execution": {
     "iopub.execute_input": "2025-07-30T21:40:32.166032Z",
     "iopub.status.busy": "2025-07-30T21:40:32.165534Z",
     "iopub.status.idle": "2025-07-30T21:40:32.170741Z",
     "shell.execute_reply": "2025-07-30T21:40:32.169648Z"
    },
    "papermill": {
     "duration": 0.029568,
     "end_time": "2025-07-30T21:40:32.172711",
     "exception": false,
     "start_time": "2025-07-30T21:40:32.143143",
     "status": "completed"
    },
    "tags": []
   },
   "outputs": [],
   "source": [
    "# Calibration data for conformal\n",
    "#X_calib = pd.read_csv(\"./data/X_calib.csv\")\n",
    "#y_calib = pd.read_csv(\"./data/y_calib.csv\")"
   ]
  },
  {
   "cell_type": "markdown",
   "id": "997051c5-15bd-4b69-9786-c3001a3ce484",
   "metadata": {
    "papermill": {
     "duration": 0.02132,
     "end_time": "2025-07-30T21:40:32.216731",
     "exception": false,
     "start_time": "2025-07-30T21:40:32.195411",
     "status": "completed"
    },
    "tags": []
   },
   "source": [
    "# Splitting Data and Setting Training Data Size"
   ]
  },
  {
   "cell_type": "code",
   "execution_count": 14,
   "id": "e993b61f-042d-41a6-8c81-f55681f86335",
   "metadata": {
    "execution": {
     "iopub.execute_input": "2025-07-30T21:40:32.262568Z",
     "iopub.status.busy": "2025-07-30T21:40:32.262047Z",
     "iopub.status.idle": "2025-07-30T21:40:32.277442Z",
     "shell.execute_reply": "2025-07-30T21:40:32.276352Z"
    },
    "papermill": {
     "duration": 0.040562,
     "end_time": "2025-07-30T21:40:32.279485",
     "exception": false,
     "start_time": "2025-07-30T21:40:32.238923",
     "status": "completed"
    },
    "tags": []
   },
   "outputs": [],
   "source": [
    "def sample_by_year_size(df,\n",
    "                        training_year: str,\n",
    "                        training_size: str,\n",
    "                        random_state: int = 42):\n",
    "    # --- parse training_year into a list of int years ---\n",
    "    if \"_\" in training_year:\n",
    "        start_str, end_str = training_year.split(\"_\", 1)\n",
    "        start = int(start_str)\n",
    "        end   = int(end_str) if len(end_str) == 4 else (int(end_str) + (start // 100)*100)\n",
    "        years = list(range(start, end + 1))\n",
    "    else:\n",
    "        years = [int(training_year)]\n",
    "\n",
    "    df = df[df[\"year\"].isin(years)].reset_index(drop=True)\n",
    "\n",
    "    # --- map training_size to total number of samples ---\n",
    "    total_map = {\"25k\": 25_000, \"5k\": 5_000, \"1k\": 1_000}\n",
    "    if training_size not in total_map:\n",
    "        return df  # e.g. \"all\"\n",
    "\n",
    "    total_samples = total_map[training_size]\n",
    "    n_years       = len(years)\n",
    "    base          = total_samples // n_years\n",
    "    remainder     = total_samples % n_years\n",
    "\n",
    "    # --- build a dict: year -> how many to sample ---\n",
    "    # give +1 to the first `remainder` years in ascending order\n",
    "    quotas = {\n",
    "        year: base + (1 if idx < remainder else 0)\n",
    "        for idx, year in enumerate(sorted(years))\n",
    "    }\n",
    "\n",
    "    # --- sample per‐year according to the quota dict ---\n",
    "    sampled = (\n",
    "        df\n",
    "        .groupby(\"year\", group_keys=False)\n",
    "        .apply(lambda grp: grp.sample(\n",
    "            n=min(len(grp), quotas[grp.name]),\n",
    "            random_state=random_state))\n",
    "        .reset_index(drop=True)\n",
    "    )\n",
    "\n",
    "    return sampled"
   ]
  },
  {
   "cell_type": "code",
   "execution_count": 15,
   "id": "c0ccd338-0e02-41f3-a09d-f56f9266e3fb",
   "metadata": {
    "execution": {
     "iopub.execute_input": "2025-07-30T21:40:32.326997Z",
     "iopub.status.busy": "2025-07-30T21:40:32.326018Z",
     "iopub.status.idle": "2025-07-30T21:40:32.343855Z",
     "shell.execute_reply": "2025-07-30T21:40:32.342822Z"
    },
    "papermill": {
     "duration": 0.044104,
     "end_time": "2025-07-30T21:40:32.346167",
     "exception": false,
     "start_time": "2025-07-30T21:40:32.302063",
     "status": "completed"
    },
    "tags": []
   },
   "outputs": [],
   "source": [
    "#universe[\"training_size\"]"
   ]
  },
  {
   "cell_type": "code",
   "execution_count": 16,
   "id": "ca707fd7-8047-4acd-bfa5-66248fbbf8e6",
   "metadata": {
    "execution": {
     "iopub.execute_input": "2025-07-30T21:40:32.378165Z",
     "iopub.status.busy": "2025-07-30T21:40:32.377778Z",
     "iopub.status.idle": "2025-07-30T21:40:32.382268Z",
     "shell.execute_reply": "2025-07-30T21:40:32.381586Z"
    },
    "papermill": {
     "duration": 0.019638,
     "end_time": "2025-07-30T21:40:32.383504",
     "exception": false,
     "start_time": "2025-07-30T21:40:32.363866",
     "status": "completed"
    },
    "tags": []
   },
   "outputs": [],
   "source": [
    "#universe[\"training_year\"]"
   ]
  },
  {
   "cell_type": "code",
   "execution_count": 17,
   "id": "aea9c6ef-6f46-42c8-85eb-5a62025c1508",
   "metadata": {
    "execution": {
     "iopub.execute_input": "2025-07-30T21:40:32.421246Z",
     "iopub.status.busy": "2025-07-30T21:40:32.420814Z",
     "iopub.status.idle": "2025-07-30T21:40:33.007609Z",
     "shell.execute_reply": "2025-07-30T21:40:33.006670Z"
    },
    "papermill": {
     "duration": 0.61204,
     "end_time": "2025-07-30T21:40:33.009552",
     "exception": false,
     "start_time": "2025-07-30T21:40:32.397512",
     "status": "completed"
    },
    "tags": []
   },
   "outputs": [],
   "source": [
    "siab_train = sample_by_year_size(siab,\n",
    "                               training_year=universe[\"training_year\"],\n",
    "                               training_size=universe[\"training_size\"])"
   ]
  },
  {
   "cell_type": "code",
   "execution_count": 18,
   "id": "8d3afb32-789d-442c-8d5d-9f5aa8dd2eed",
   "metadata": {
    "execution": {
     "iopub.execute_input": "2025-07-30T21:40:33.075016Z",
     "iopub.status.busy": "2025-07-30T21:40:33.074546Z",
     "iopub.status.idle": "2025-07-30T21:40:33.081363Z",
     "shell.execute_reply": "2025-07-30T21:40:33.078746Z"
    },
    "papermill": {
     "duration": 0.052726,
     "end_time": "2025-07-30T21:40:33.083926",
     "exception": false,
     "start_time": "2025-07-30T21:40:33.031200",
     "status": "completed"
    },
    "tags": []
   },
   "outputs": [],
   "source": [
    "#siab_train.shape"
   ]
  },
  {
   "cell_type": "code",
   "execution_count": 19,
   "id": "d582db68-1a4c-47fb-84fc-08518dc1975a",
   "metadata": {
    "execution": {
     "iopub.execute_input": "2025-07-30T21:40:33.131204Z",
     "iopub.status.busy": "2025-07-30T21:40:33.130337Z",
     "iopub.status.idle": "2025-07-30T21:40:33.135187Z",
     "shell.execute_reply": "2025-07-30T21:40:33.134357Z"
    },
    "papermill": {
     "duration": 0.029406,
     "end_time": "2025-07-30T21:40:33.136678",
     "exception": false,
     "start_time": "2025-07-30T21:40:33.107272",
     "status": "completed"
    },
    "tags": []
   },
   "outputs": [],
   "source": [
    "#display(siab_train.groupby(\"year\").size())"
   ]
  },
  {
   "cell_type": "code",
   "execution_count": 20,
   "id": "a561edb4-d032-42cb-8256-22eac1111c64",
   "metadata": {
    "execution": {
     "iopub.execute_input": "2025-07-30T21:40:33.183204Z",
     "iopub.status.busy": "2025-07-30T21:40:33.182564Z",
     "iopub.status.idle": "2025-07-30T21:40:33.634703Z",
     "shell.execute_reply": "2025-07-30T21:40:33.633674Z"
    },
    "papermill": {
     "duration": 0.477091,
     "end_time": "2025-07-30T21:40:33.636558",
     "exception": false,
     "start_time": "2025-07-30T21:40:33.159467",
     "status": "completed"
    },
    "tags": []
   },
   "outputs": [],
   "source": [
    "#siab_train = siab_s[siab_s.year < 2015]\n",
    "siab_calib = siab[siab.year == 2015]\n",
    "siab_test = siab[siab.year == 2016]"
   ]
  },
  {
   "cell_type": "code",
   "execution_count": 21,
   "id": "472de16f-c3db-4916-846b-1f0de9cf1746",
   "metadata": {
    "execution": {
     "iopub.execute_input": "2025-07-30T21:40:33.715058Z",
     "iopub.status.busy": "2025-07-30T21:40:33.714675Z",
     "iopub.status.idle": "2025-07-30T21:40:33.721651Z",
     "shell.execute_reply": "2025-07-30T21:40:33.720642Z"
    },
    "papermill": {
     "duration": 0.049467,
     "end_time": "2025-07-30T21:40:33.723893",
     "exception": false,
     "start_time": "2025-07-30T21:40:33.674426",
     "status": "completed"
    },
    "tags": []
   },
   "outputs": [],
   "source": [
    "X_train = siab_train.iloc[:,4:164]\n",
    "y_train = siab_train.iloc[:, [3]]"
   ]
  },
  {
   "cell_type": "code",
   "execution_count": 22,
   "id": "828c96af-f43a-4ed6-ba47-8ac73a47d56c",
   "metadata": {
    "execution": {
     "iopub.execute_input": "2025-07-30T21:40:33.822911Z",
     "iopub.status.busy": "2025-07-30T21:40:33.821845Z",
     "iopub.status.idle": "2025-07-30T21:40:33.932059Z",
     "shell.execute_reply": "2025-07-30T21:40:33.926088Z"
    },
    "papermill": {
     "duration": 0.147047,
     "end_time": "2025-07-30T21:40:33.934120",
     "exception": false,
     "start_time": "2025-07-30T21:40:33.787073",
     "status": "completed"
    },
    "tags": []
   },
   "outputs": [],
   "source": [
    "X_calib = siab_calib.iloc[:,4:164]\n",
    "y_calib = siab_calib.iloc[:, [3]]"
   ]
  },
  {
   "cell_type": "code",
   "execution_count": 23,
   "id": "c34be9c3-6bd6-476e-acd3-845840e303be",
   "metadata": {
    "execution": {
     "iopub.execute_input": "2025-07-30T21:40:33.981939Z",
     "iopub.status.busy": "2025-07-30T21:40:33.981503Z",
     "iopub.status.idle": "2025-07-30T21:40:34.036276Z",
     "shell.execute_reply": "2025-07-30T21:40:34.035209Z"
    },
    "papermill": {
     "duration": 0.080978,
     "end_time": "2025-07-30T21:40:34.038752",
     "exception": false,
     "start_time": "2025-07-30T21:40:33.957774",
     "status": "completed"
    },
    "tags": []
   },
   "outputs": [],
   "source": [
    "X_test = siab_test.iloc[:,4:164]\n",
    "y_true = siab_test.iloc[:, [3]]"
   ]
  },
  {
   "cell_type": "markdown",
   "id": "9901737e-04df-44f0-9100-f5ad144ed040",
   "metadata": {
    "papermill": {
     "duration": 0.033651,
     "end_time": "2025-07-30T21:40:34.106429",
     "exception": false,
     "start_time": "2025-07-30T21:40:34.072778",
     "status": "completed"
    },
    "tags": []
   },
   "source": [
    "# Splitting Data and Setting Training Data Size OLD VERSION"
   ]
  },
  {
   "cell_type": "code",
   "execution_count": 24,
   "id": "acbc8f7d-8fc8-4e86-8c59-5dcb0f58384b",
   "metadata": {
    "execution": {
     "iopub.execute_input": "2025-07-30T21:40:34.159433Z",
     "iopub.status.busy": "2025-07-30T21:40:34.158188Z",
     "iopub.status.idle": "2025-07-30T21:40:34.164321Z",
     "shell.execute_reply": "2025-07-30T21:40:34.163218Z"
    },
    "papermill": {
     "duration": 0.039153,
     "end_time": "2025-07-30T21:40:34.166355",
     "exception": false,
     "start_time": "2025-07-30T21:40:34.127202",
     "status": "completed"
    },
    "tags": []
   },
   "outputs": [],
   "source": [
    "#def sample_by_year(df, training_size, random_state=42):\n",
    "#    if training_size == \"2014\":\n",
    "#        return df[df[\"year\"] == 2014].reset_index(drop=True)\n",
    "#    \n",
    "#    size_map = {\n",
    "#        \"25k\": 5000,\n",
    "#        \"5k\": 1000,\n",
    "#        \"1k\": 200\n",
    "#    }\n",
    "#\n",
    "#    if training_size not in size_map:\n",
    "#        return df.reset_index(drop=True)  # use all data\n",
    "#\n",
    "#    n_per_year = size_map[training_size]\n",
    "#    grouped = df.groupby(\"year\")\n",
    "#    sampled = grouped.apply(lambda x: x.sample(n=min(n_per_year, len(x)), random_state=random_state))\n",
    "#    return sampled.reset_index(drop=True)"
   ]
  },
  {
   "cell_type": "code",
   "execution_count": 25,
   "id": "6d931f52-beaf-43ff-9e78-9d44a448d54e",
   "metadata": {
    "execution": {
     "iopub.execute_input": "2025-07-30T21:40:34.222064Z",
     "iopub.status.busy": "2025-07-30T21:40:34.221647Z",
     "iopub.status.idle": "2025-07-30T21:40:34.227096Z",
     "shell.execute_reply": "2025-07-30T21:40:34.226103Z"
    },
    "papermill": {
     "duration": 0.031874,
     "end_time": "2025-07-30T21:40:34.229901",
     "exception": false,
     "start_time": "2025-07-30T21:40:34.198027",
     "status": "completed"
    },
    "tags": []
   },
   "outputs": [],
   "source": [
    "#siab_s = sample_by_year(siab, universe[\"training_size\"])"
   ]
  },
  {
   "cell_type": "code",
   "execution_count": 26,
   "id": "5db0a40e-a4e2-4920-be85-b12ae061d70d",
   "metadata": {
    "execution": {
     "iopub.execute_input": "2025-07-30T21:40:34.271245Z",
     "iopub.status.busy": "2025-07-30T21:40:34.270860Z",
     "iopub.status.idle": "2025-07-30T21:40:34.276177Z",
     "shell.execute_reply": "2025-07-30T21:40:34.275155Z"
    },
    "papermill": {
     "duration": 0.027169,
     "end_time": "2025-07-30T21:40:34.278668",
     "exception": false,
     "start_time": "2025-07-30T21:40:34.251499",
     "status": "completed"
    },
    "tags": []
   },
   "outputs": [],
   "source": [
    "#display(siab_s.groupby(\"year\").size())"
   ]
  },
  {
   "cell_type": "code",
   "execution_count": 27,
   "id": "e6c733c5",
   "metadata": {
    "execution": {
     "iopub.execute_input": "2025-07-30T21:40:34.316187Z",
     "iopub.status.busy": "2025-07-30T21:40:34.315322Z",
     "iopub.status.idle": "2025-07-30T21:40:34.441941Z",
     "shell.execute_reply": "2025-07-30T21:40:34.441032Z"
    },
    "papermill": {
     "duration": 0.148623,
     "end_time": "2025-07-30T21:40:34.443937",
     "exception": false,
     "start_time": "2025-07-30T21:40:34.295314",
     "status": "completed"
    },
    "tags": []
   },
   "outputs": [],
   "source": [
    "# Auxiliary data needed downstream in the pipeline\n",
    "\n",
    "org_train = X_train.copy()\n",
    "org_test = X_test.copy()\n",
    "org_calib = X_calib.copy()"
   ]
  },
  {
   "cell_type": "code",
   "execution_count": 28,
   "id": "1466abac-c6da-4492-a62f-4240ae3783af",
   "metadata": {
    "execution": {
     "iopub.execute_input": "2025-07-30T21:40:34.492742Z",
     "iopub.status.busy": "2025-07-30T21:40:34.492332Z",
     "iopub.status.idle": "2025-07-30T21:40:34.500357Z",
     "shell.execute_reply": "2025-07-30T21:40:34.497378Z"
    },
    "papermill": {
     "duration": 0.04437,
     "end_time": "2025-07-30T21:40:34.507882",
     "exception": false,
     "start_time": "2025-07-30T21:40:34.463512",
     "status": "completed"
    },
    "tags": []
   },
   "outputs": [],
   "source": [
    "# put in other script?\n",
    "# Group sizes\n",
    "\n",
    "#def calculate_percentages(df, df_name):\n",
    "#    total_entries = len(df)\n",
    "#\n",
    "#    female_pct = (df['frau1'] == 1).mean() * 100\n",
    "#    non_german_pct = ((df['maxdeutsch1'] == 0) & (df['maxdeutsch.Missing.'] == 0)).mean() * 100\n",
    "#    non_german_male_pct = ((df['frau1'] == 0) & (df['maxdeutsch1'] == 0) & (df['maxdeutsch.Missing.'] == 0)).mean() * 100\n",
    "#    non_german_female_pct = ((df['frau1'] == 1) & (df['maxdeutsch1'] == 0) & (df['maxdeutsch.Missing.'] == 0)).mean() * 100\n",
    "#\n",
    "#    print(f\"--- {df_name} ---\")\n",
    "#    print(f\"Female: {female_pct:.2f}%\")\n",
    "#    print(f\"Non-German: {non_german_pct:.2f}%\")\n",
    "#    print(f\"Non-German Male: {non_german_male_pct:.2f}%\")\n",
    "#    print(f\"Non-German Female: {non_german_female_pct:.2f}%\\n\")\n",
    "#\n",
    "## Calculate for each DataFrame\n",
    "#calculate_percentages(siab_calib, \"siab_calib\")\n",
    "#calculate_percentages(siab_test, \"siab_test\")\n",
    "#calculate_percentages(siab_train, \"siab_train\")"
   ]
  },
  {
   "cell_type": "markdown",
   "id": "0a4a1b33",
   "metadata": {
    "papermill": {
     "duration": 0.02784,
     "end_time": "2025-07-30T21:40:34.570457",
     "exception": false,
     "start_time": "2025-07-30T21:40:34.542617",
     "status": "completed"
    },
    "tags": []
   },
   "source": [
    "# Preprocessing Data"
   ]
  },
  {
   "cell_type": "code",
   "execution_count": 29,
   "id": "ca879031",
   "metadata": {
    "execution": {
     "iopub.execute_input": "2025-07-30T21:40:34.612504Z",
     "iopub.status.busy": "2025-07-30T21:40:34.612065Z",
     "iopub.status.idle": "2025-07-30T21:40:34.618574Z",
     "shell.execute_reply": "2025-07-30T21:40:34.617586Z"
    },
    "papermill": {
     "duration": 0.032153,
     "end_time": "2025-07-30T21:40:34.623233",
     "exception": false,
     "start_time": "2025-07-30T21:40:34.591080",
     "status": "completed"
    },
    "tags": []
   },
   "outputs": [],
   "source": [
    "# EXCLUDE PROTECTED FEATURES\n",
    "# ----------------------\n",
    "# \"exclude_features\": \"none\", # \"nationality\", \"sex\", \"nationality-sex\"\n",
    "\n",
    "excluded_features = universe[\"exclude_features\"].split(\"-\") # split, e.g.: \"nationality-sex\" -> [\"nationality\", \"sex\"]\n",
    "excluded_features_dictionary = {\n",
    "    \"nationality\": [\"maxdeutsch1\", \"maxdeutsch.Missing.\"],\n",
    "    \"sex\": [\"frau1\"],\n",
    "    \"age\": [\"age\"],\n",
    "}\n"
   ]
  },
  {
   "cell_type": "code",
   "execution_count": 30,
   "id": "b745ac60",
   "metadata": {
    "execution": {
     "iopub.execute_input": "2025-07-30T21:40:34.676702Z",
     "iopub.status.busy": "2025-07-30T21:40:34.676264Z",
     "iopub.status.idle": "2025-07-30T21:40:34.681890Z",
     "shell.execute_reply": "2025-07-30T21:40:34.680998Z"
    },
    "papermill": {
     "duration": 0.030109,
     "end_time": "2025-07-30T21:40:34.684111",
     "exception": false,
     "start_time": "2025-07-30T21:40:34.654002",
     "status": "completed"
    },
    "tags": []
   },
   "outputs": [],
   "source": [
    "# Code nice names to column names\n",
    "\n",
    "excluded_features_columns = [\n",
    "    excluded_features_dictionary[f] for f in excluded_features if len(f) > 0 and f != \"none\"\n",
    "]"
   ]
  },
  {
   "cell_type": "code",
   "execution_count": 31,
   "id": "f84f73a2",
   "metadata": {
    "execution": {
     "iopub.execute_input": "2025-07-30T21:40:34.725123Z",
     "iopub.status.busy": "2025-07-30T21:40:34.724691Z",
     "iopub.status.idle": "2025-07-30T21:40:34.731143Z",
     "shell.execute_reply": "2025-07-30T21:40:34.730082Z"
    },
    "papermill": {
     "duration": 0.028019,
     "end_time": "2025-07-30T21:40:34.733096",
     "exception": false,
     "start_time": "2025-07-30T21:40:34.705077",
     "status": "completed"
    },
    "tags": []
   },
   "outputs": [],
   "source": [
    "from utils import flatten_once\n",
    "\n",
    "excluded_features_columns = flatten_once(excluded_features_columns)"
   ]
  },
  {
   "cell_type": "code",
   "execution_count": 32,
   "id": "884dea22",
   "metadata": {
    "execution": {
     "iopub.execute_input": "2025-07-30T21:40:34.790016Z",
     "iopub.status.busy": "2025-07-30T21:40:34.789674Z",
     "iopub.status.idle": "2025-07-30T21:40:34.797795Z",
     "shell.execute_reply": "2025-07-30T21:40:34.796651Z"
    },
    "papermill": {
     "duration": 0.035473,
     "end_time": "2025-07-30T21:40:34.804765",
     "exception": false,
     "start_time": "2025-07-30T21:40:34.769292",
     "status": "completed"
    },
    "tags": []
   },
   "outputs": [
    {
     "name": "stdout",
     "output_type": "stream",
     "text": [
      "Dropping features: ['frau1']\n"
     ]
    }
   ],
   "source": [
    "if len(excluded_features_columns) > 0:\n",
    "    print(f\"Dropping features: {excluded_features_columns}\")\n",
    "    X_train.drop(excluded_features_columns, axis=1, inplace=True)"
   ]
  },
  {
   "cell_type": "code",
   "execution_count": 33,
   "id": "95ab8b16",
   "metadata": {
    "execution": {
     "iopub.execute_input": "2025-07-30T21:40:34.885741Z",
     "iopub.status.busy": "2025-07-30T21:40:34.885077Z",
     "iopub.status.idle": "2025-07-30T21:40:34.940700Z",
     "shell.execute_reply": "2025-07-30T21:40:34.939505Z"
    },
    "papermill": {
     "duration": 0.081878,
     "end_time": "2025-07-30T21:40:34.942179",
     "exception": false,
     "start_time": "2025-07-30T21:40:34.860301",
     "status": "completed"
    },
    "tags": []
   },
   "outputs": [
    {
     "name": "stdout",
     "output_type": "stream",
     "text": [
      "Dropping features: ['frau1']\n"
     ]
    }
   ],
   "source": [
    "if len(excluded_features_columns) > 0:\n",
    "    print(f\"Dropping features: {excluded_features_columns}\")\n",
    "    X_test.drop(excluded_features_columns, axis=1, inplace=True)"
   ]
  },
  {
   "cell_type": "code",
   "execution_count": 34,
   "id": "1853aaf5-fb9f-46cb-a2b5-8ea4ae2237e4",
   "metadata": {
    "execution": {
     "iopub.execute_input": "2025-07-30T21:40:34.996147Z",
     "iopub.status.busy": "2025-07-30T21:40:34.995641Z",
     "iopub.status.idle": "2025-07-30T21:40:35.048006Z",
     "shell.execute_reply": "2025-07-30T21:40:35.046867Z"
    },
    "papermill": {
     "duration": 0.084696,
     "end_time": "2025-07-30T21:40:35.050007",
     "exception": false,
     "start_time": "2025-07-30T21:40:34.965311",
     "status": "completed"
    },
    "tags": []
   },
   "outputs": [
    {
     "name": "stdout",
     "output_type": "stream",
     "text": [
      "Dropping features: ['frau1']\n"
     ]
    }
   ],
   "source": [
    "if len(excluded_features_columns) > 0:\n",
    "    print(f\"Dropping features: {excluded_features_columns}\")\n",
    "    X_calib.drop(excluded_features_columns, axis=1, inplace=True)"
   ]
  },
  {
   "cell_type": "code",
   "execution_count": 35,
   "id": "6727d079-03e5-481e-9d38-292a90b7a0a8",
   "metadata": {
    "execution": {
     "iopub.execute_input": "2025-07-30T21:40:35.096710Z",
     "iopub.status.busy": "2025-07-30T21:40:35.096309Z",
     "iopub.status.idle": "2025-07-30T21:40:35.101334Z",
     "shell.execute_reply": "2025-07-30T21:40:35.100366Z"
    },
    "papermill": {
     "duration": 0.030454,
     "end_time": "2025-07-30T21:40:35.103156",
     "exception": false,
     "start_time": "2025-07-30T21:40:35.072702",
     "status": "completed"
    },
    "tags": []
   },
   "outputs": [],
   "source": [
    "# SPLIT & STRATIFY DATA\n",
    "# ----------------------"
   ]
  },
  {
   "cell_type": "code",
   "execution_count": 36,
   "id": "76c4dc6d",
   "metadata": {
    "execution": {
     "iopub.execute_input": "2025-07-30T21:40:35.173072Z",
     "iopub.status.busy": "2025-07-30T21:40:35.172660Z",
     "iopub.status.idle": "2025-07-30T21:40:35.178394Z",
     "shell.execute_reply": "2025-07-30T21:40:35.177340Z"
    },
    "papermill": {
     "duration": 0.055245,
     "end_time": "2025-07-30T21:40:35.180711",
     "exception": false,
     "start_time": "2025-07-30T21:40:35.125466",
     "status": "completed"
    },
    "tags": []
   },
   "outputs": [],
   "source": [
    "# EXCLUDE CERTAIN SUBGROUPS\n",
    "# ----------------------\n",
    "\n",
    "mode = universe.get(\"exclude_subgroups\", \"keep-all\") \n",
    "# Fetches the exclude_subgroups setting from the universe dict.\n",
    "# Defaults to \"keep-all\" if the key is missing."
   ]
  },
  {
   "cell_type": "code",
   "execution_count": 37,
   "id": "21994072",
   "metadata": {
    "execution": {
     "iopub.execute_input": "2025-07-30T21:40:35.235736Z",
     "iopub.status.busy": "2025-07-30T21:40:35.235358Z",
     "iopub.status.idle": "2025-07-30T21:40:35.245717Z",
     "shell.execute_reply": "2025-07-30T21:40:35.240837Z"
    },
    "papermill": {
     "duration": 0.03495,
     "end_time": "2025-07-30T21:40:35.247574",
     "exception": false,
     "start_time": "2025-07-30T21:40:35.212624",
     "status": "completed"
    },
    "tags": []
   },
   "outputs": [],
   "source": [
    "if mode == \"keep-all\":\n",
    "    keep_mask = pd.Series(True, index=org_train.index)\n",
    "\n",
    "# org_train contains the original feature columns from features_org (in Simson)\n",
    "# features_org contains unprocessed features, for me X_train at beginning ???\n",
    "# For keep-all, creates a boolean Series (keep_mask) of all True, so no rows are removed.\n",
    "\n",
    "elif mode == \"drop-non-german\":\n",
    "    keep_mask = org_train[\"maxdeutsch1\"] == 1 # ??? what about missing values?\n",
    "\n",
    "else:\n",
    "    raise ValueError(f\"Unsupported mode for exclude_subgroups: {mode}\")\n"
   ]
  },
  {
   "cell_type": "code",
   "execution_count": 38,
   "id": "71651440",
   "metadata": {
    "execution": {
     "iopub.execute_input": "2025-07-30T21:40:35.321466Z",
     "iopub.status.busy": "2025-07-30T21:40:35.320989Z",
     "iopub.status.idle": "2025-07-30T21:40:35.330100Z",
     "shell.execute_reply": "2025-07-30T21:40:35.328440Z"
    },
    "papermill": {
     "duration": 0.056647,
     "end_time": "2025-07-30T21:40:35.337926",
     "exception": false,
     "start_time": "2025-07-30T21:40:35.281279",
     "status": "completed"
    },
    "tags": []
   },
   "outputs": [
    {
     "name": "stdout",
     "output_type": "stream",
     "text": [
      "Dropping 147 rows (14.70%) where mode='drop-non-german'\n"
     ]
    }
   ],
   "source": [
    "n_drop = (~keep_mask).sum() # Calculates how many rows are set to be dropped\n",
    "if n_drop > 0:\n",
    "    pct = n_drop / len(keep_mask) * 100\n",
    "    print(f\"Dropping {n_drop} rows ({pct:.2f}%) where mode='{mode}'\")"
   ]
  },
  {
   "cell_type": "code",
   "execution_count": 39,
   "id": "5fb8eee5",
   "metadata": {
    "execution": {
     "iopub.execute_input": "2025-07-30T21:40:35.406632Z",
     "iopub.status.busy": "2025-07-30T21:40:35.406143Z",
     "iopub.status.idle": "2025-07-30T21:40:35.413254Z",
     "shell.execute_reply": "2025-07-30T21:40:35.412110Z"
    },
    "papermill": {
     "duration": 0.043295,
     "end_time": "2025-07-30T21:40:35.415079",
     "exception": false,
     "start_time": "2025-07-30T21:40:35.371784",
     "status": "completed"
    },
    "tags": []
   },
   "outputs": [],
   "source": [
    "X_train = X_train[keep_mask]"
   ]
  },
  {
   "cell_type": "code",
   "execution_count": 40,
   "id": "b202bb3a",
   "metadata": {
    "execution": {
     "iopub.execute_input": "2025-07-30T21:40:35.460420Z",
     "iopub.status.busy": "2025-07-30T21:40:35.459943Z",
     "iopub.status.idle": "2025-07-30T21:40:35.465937Z",
     "shell.execute_reply": "2025-07-30T21:40:35.464899Z"
    },
    "papermill": {
     "duration": 0.031569,
     "end_time": "2025-07-30T21:40:35.469248",
     "exception": false,
     "start_time": "2025-07-30T21:40:35.437679",
     "status": "completed"
    },
    "tags": []
   },
   "outputs": [],
   "source": [
    "y_train = y_train[keep_mask]"
   ]
  },
  {
   "cell_type": "markdown",
   "id": "493e2ac3",
   "metadata": {
    "papermill": {
     "duration": 0.02163,
     "end_time": "2025-07-30T21:40:35.509608",
     "exception": false,
     "start_time": "2025-07-30T21:40:35.487978",
     "status": "completed"
    },
    "tags": []
   },
   "source": [
    "# Model Training"
   ]
  },
  {
   "cell_type": "code",
   "execution_count": 41,
   "id": "679e1268",
   "metadata": {
    "execution": {
     "iopub.execute_input": "2025-07-30T21:40:35.600750Z",
     "iopub.status.busy": "2025-07-30T21:40:35.600364Z",
     "iopub.status.idle": "2025-07-30T21:40:35.853614Z",
     "shell.execute_reply": "2025-07-30T21:40:35.852542Z"
    },
    "papermill": {
     "duration": 0.29795,
     "end_time": "2025-07-30T21:40:35.855400",
     "exception": false,
     "start_time": "2025-07-30T21:40:35.557450",
     "status": "completed"
    },
    "tags": []
   },
   "outputs": [],
   "source": [
    "from sklearn.linear_model import LogisticRegression\n",
    "from sklearn.ensemble import GradientBoostingClassifier, RandomForestClassifier\n",
    "\n",
    "if (universe[\"model\"] == \"logreg\"):\n",
    "    model = LogisticRegression() #penalty=\"none\") #, solver=\"newton-cg\", max_iter=1) # include random_state=19 ?\n",
    "elif (universe[\"model\"] == \"penalized_logreg\"):\n",
    "    model = LogisticRegression(penalty=\"l2\", C=1.0) #, solver=\"newton-cg\", max_iter=1)\n",
    "elif (universe[\"model\"] == \"rf\"):\n",
    "    model = RandomForestClassifier(n_estimators=100, n_jobs=-1)\n",
    "elif (universe[\"model\"] == \"gbm\"):\n",
    "    model = GradientBoostingClassifier()\n",
    "elif (universe[\"model\"] == \"elasticnet\"):\n",
    "    model = LogisticRegression(penalty = 'elasticnet', solver = 'saga', l1_ratio = 0.5, max_iter=5000) # which solver to use?\n",
    "else:\n",
    "    raise \"Unsupported universe.model\""
   ]
  },
  {
   "cell_type": "code",
   "execution_count": 42,
   "id": "0cc8f744",
   "metadata": {
    "execution": {
     "iopub.execute_input": "2025-07-30T21:40:35.948494Z",
     "iopub.status.busy": "2025-07-30T21:40:35.948093Z",
     "iopub.status.idle": "2025-07-30T21:40:35.955621Z",
     "shell.execute_reply": "2025-07-30T21:40:35.954324Z"
    },
    "papermill": {
     "duration": 0.054181,
     "end_time": "2025-07-30T21:40:35.957709",
     "exception": false,
     "start_time": "2025-07-30T21:40:35.903528",
     "status": "completed"
    },
    "tags": []
   },
   "outputs": [],
   "source": [
    "import numpy as np\n",
    "from sklearn.pipeline import Pipeline\n",
    "from sklearn.preprocessing import StandardScaler\n",
    "\n",
    "model = Pipeline([\n",
    "    #(\"continuous_processor\", continuous_processor),\n",
    "    #(\"categorical_preprocessor\", categorical_preprocessor),\n",
    "    (\"scale\", StandardScaler() if universe[\"scale\"] == \"scale\" else None), \n",
    "    (\"model\", model),\n",
    "])"
   ]
  },
  {
   "cell_type": "code",
   "execution_count": 43,
   "id": "9442c04d",
   "metadata": {
    "execution": {
     "iopub.execute_input": "2025-07-30T21:40:36.089043Z",
     "iopub.status.busy": "2025-07-30T21:40:36.088661Z",
     "iopub.status.idle": "2025-07-30T21:40:36.511239Z",
     "shell.execute_reply": "2025-07-30T21:40:36.510530Z"
    },
    "papermill": {
     "duration": 0.485093,
     "end_time": "2025-07-30T21:40:36.512699",
     "exception": false,
     "start_time": "2025-07-30T21:40:36.027606",
     "status": "completed"
    },
    "tags": []
   },
   "outputs": [
    {
     "data": {
      "text/html": [
       "<style>#sk-container-id-1 {color: black;background-color: white;}#sk-container-id-1 pre{padding: 0;}#sk-container-id-1 div.sk-toggleable {background-color: white;}#sk-container-id-1 label.sk-toggleable__label {cursor: pointer;display: block;width: 100%;margin-bottom: 0;padding: 0.3em;box-sizing: border-box;text-align: center;}#sk-container-id-1 label.sk-toggleable__label-arrow:before {content: \"▸\";float: left;margin-right: 0.25em;color: #696969;}#sk-container-id-1 label.sk-toggleable__label-arrow:hover:before {color: black;}#sk-container-id-1 div.sk-estimator:hover label.sk-toggleable__label-arrow:before {color: black;}#sk-container-id-1 div.sk-toggleable__content {max-height: 0;max-width: 0;overflow: hidden;text-align: left;background-color: #f0f8ff;}#sk-container-id-1 div.sk-toggleable__content pre {margin: 0.2em;color: black;border-radius: 0.25em;background-color: #f0f8ff;}#sk-container-id-1 input.sk-toggleable__control:checked~div.sk-toggleable__content {max-height: 200px;max-width: 100%;overflow: auto;}#sk-container-id-1 input.sk-toggleable__control:checked~label.sk-toggleable__label-arrow:before {content: \"▾\";}#sk-container-id-1 div.sk-estimator input.sk-toggleable__control:checked~label.sk-toggleable__label {background-color: #d4ebff;}#sk-container-id-1 div.sk-label input.sk-toggleable__control:checked~label.sk-toggleable__label {background-color: #d4ebff;}#sk-container-id-1 input.sk-hidden--visually {border: 0;clip: rect(1px 1px 1px 1px);clip: rect(1px, 1px, 1px, 1px);height: 1px;margin: -1px;overflow: hidden;padding: 0;position: absolute;width: 1px;}#sk-container-id-1 div.sk-estimator {font-family: monospace;background-color: #f0f8ff;border: 1px dotted black;border-radius: 0.25em;box-sizing: border-box;margin-bottom: 0.5em;}#sk-container-id-1 div.sk-estimator:hover {background-color: #d4ebff;}#sk-container-id-1 div.sk-parallel-item::after {content: \"\";width: 100%;border-bottom: 1px solid gray;flex-grow: 1;}#sk-container-id-1 div.sk-label:hover label.sk-toggleable__label {background-color: #d4ebff;}#sk-container-id-1 div.sk-serial::before {content: \"\";position: absolute;border-left: 1px solid gray;box-sizing: border-box;top: 0;bottom: 0;left: 50%;z-index: 0;}#sk-container-id-1 div.sk-serial {display: flex;flex-direction: column;align-items: center;background-color: white;padding-right: 0.2em;padding-left: 0.2em;position: relative;}#sk-container-id-1 div.sk-item {position: relative;z-index: 1;}#sk-container-id-1 div.sk-parallel {display: flex;align-items: stretch;justify-content: center;background-color: white;position: relative;}#sk-container-id-1 div.sk-item::before, #sk-container-id-1 div.sk-parallel-item::before {content: \"\";position: absolute;border-left: 1px solid gray;box-sizing: border-box;top: 0;bottom: 0;left: 50%;z-index: -1;}#sk-container-id-1 div.sk-parallel-item {display: flex;flex-direction: column;z-index: 1;position: relative;background-color: white;}#sk-container-id-1 div.sk-parallel-item:first-child::after {align-self: flex-end;width: 50%;}#sk-container-id-1 div.sk-parallel-item:last-child::after {align-self: flex-start;width: 50%;}#sk-container-id-1 div.sk-parallel-item:only-child::after {width: 0;}#sk-container-id-1 div.sk-dashed-wrapped {border: 1px dashed gray;margin: 0 0.4em 0.5em 0.4em;box-sizing: border-box;padding-bottom: 0.4em;background-color: white;}#sk-container-id-1 div.sk-label label {font-family: monospace;font-weight: bold;display: inline-block;line-height: 1.2em;}#sk-container-id-1 div.sk-label-container {text-align: center;}#sk-container-id-1 div.sk-container {/* jupyter's `normalize.less` sets `[hidden] { display: none; }` but bootstrap.min.css set `[hidden] { display: none !important; }` so we also need the `!important` here to be able to override the default hidden behavior on the sphinx rendered scikit-learn.org. See: https://github.com/scikit-learn/scikit-learn/issues/21755 */display: inline-block !important;position: relative;}#sk-container-id-1 div.sk-text-repr-fallback {display: none;}</style><div id=\"sk-container-id-1\" class=\"sk-top-container\"><div class=\"sk-text-repr-fallback\"><pre>Pipeline(steps=[(&#x27;scale&#x27;, None), (&#x27;model&#x27;, RandomForestClassifier(n_jobs=-1))])</pre><b>In a Jupyter environment, please rerun this cell to show the HTML representation or trust the notebook. <br />On GitHub, the HTML representation is unable to render, please try loading this page with nbviewer.org.</b></div><div class=\"sk-container\" hidden><div class=\"sk-item sk-dashed-wrapped\"><div class=\"sk-label-container\"><div class=\"sk-label sk-toggleable\"><input class=\"sk-toggleable__control sk-hidden--visually\" id=\"sk-estimator-id-1\" type=\"checkbox\" ><label for=\"sk-estimator-id-1\" class=\"sk-toggleable__label sk-toggleable__label-arrow\">Pipeline</label><div class=\"sk-toggleable__content\"><pre>Pipeline(steps=[(&#x27;scale&#x27;, None), (&#x27;model&#x27;, RandomForestClassifier(n_jobs=-1))])</pre></div></div></div><div class=\"sk-serial\"><div class=\"sk-item\"><div class=\"sk-estimator sk-toggleable\"><input class=\"sk-toggleable__control sk-hidden--visually\" id=\"sk-estimator-id-2\" type=\"checkbox\" ><label for=\"sk-estimator-id-2\" class=\"sk-toggleable__label sk-toggleable__label-arrow\">None</label><div class=\"sk-toggleable__content\"><pre>None</pre></div></div></div><div class=\"sk-item\"><div class=\"sk-estimator sk-toggleable\"><input class=\"sk-toggleable__control sk-hidden--visually\" id=\"sk-estimator-id-3\" type=\"checkbox\" ><label for=\"sk-estimator-id-3\" class=\"sk-toggleable__label sk-toggleable__label-arrow\">RandomForestClassifier</label><div class=\"sk-toggleable__content\"><pre>RandomForestClassifier(n_jobs=-1)</pre></div></div></div></div></div></div></div>"
      ],
      "text/plain": [
       "Pipeline(steps=[('scale', None), ('model', RandomForestClassifier(n_jobs=-1))])"
      ]
     },
     "execution_count": 43,
     "metadata": {},
     "output_type": "execute_result"
    }
   ],
   "source": [
    "model.fit(X_train, y_train.values.ravel())"
   ]
  },
  {
   "cell_type": "code",
   "execution_count": 44,
   "id": "af59f8c0",
   "metadata": {
    "execution": {
     "iopub.execute_input": "2025-07-30T21:40:36.621819Z",
     "iopub.status.busy": "2025-07-30T21:40:36.621440Z",
     "iopub.status.idle": "2025-07-30T21:40:36.627842Z",
     "shell.execute_reply": "2025-07-30T21:40:36.626933Z"
    },
    "papermill": {
     "duration": 0.056401,
     "end_time": "2025-07-30T21:40:36.630016",
     "exception": false,
     "start_time": "2025-07-30T21:40:36.573615",
     "status": "completed"
    },
    "tags": []
   },
   "outputs": [],
   "source": [
    "from fairness_multiverse.universe import predict_w_threshold"
   ]
  },
  {
   "cell_type": "code",
   "execution_count": 45,
   "id": "a7cf2e16",
   "metadata": {
    "execution": {
     "iopub.execute_input": "2025-07-30T21:40:36.688428Z",
     "iopub.status.busy": "2025-07-30T21:40:36.688026Z",
     "iopub.status.idle": "2025-07-30T21:40:37.614837Z",
     "shell.execute_reply": "2025-07-30T21:40:37.613764Z"
    },
    "papermill": {
     "duration": 0.957119,
     "end_time": "2025-07-30T21:40:37.616985",
     "exception": false,
     "start_time": "2025-07-30T21:40:36.659866",
     "status": "completed"
    },
    "tags": []
   },
   "outputs": [
    {
     "data": {
      "text/plain": [
       "0.8580091405640397"
      ]
     },
     "execution_count": 45,
     "metadata": {},
     "output_type": "execute_result"
    }
   ],
   "source": [
    "probs_test = model.predict_proba(X_test)\n",
    "\n",
    "'''\n",
    "Below code returns a boolean array (or binary 0/1 array depending on how it’s used) where each element \n",
    "is True if the probability of class 1 is greater than or equal to the threshold, and False otherwise.\n",
    "'''\n",
    "y_pred_default = predict_w_threshold(probs_test, 0.5)\n",
    "\n",
    "from sklearn.metrics import accuracy_score\n",
    "\n",
    "# Naive prediction\n",
    "accuracy_score(y_true = y_true, y_pred = y_pred_default)"
   ]
  },
  {
   "cell_type": "code",
   "execution_count": 46,
   "id": "081964c3",
   "metadata": {
    "execution": {
     "iopub.execute_input": "2025-07-30T21:40:37.664539Z",
     "iopub.status.busy": "2025-07-30T21:40:37.664071Z",
     "iopub.status.idle": "2025-07-30T21:40:38.495936Z",
     "shell.execute_reply": "2025-07-30T21:40:38.494933Z"
    },
    "papermill": {
     "duration": 0.857827,
     "end_time": "2025-07-30T21:40:38.497813",
     "exception": false,
     "start_time": "2025-07-30T21:40:37.639986",
     "status": "completed"
    },
    "tags": []
   },
   "outputs": [
    {
     "data": {
      "text/plain": [
       "array([0, 0, 0, ..., 0, 0, 0])"
      ]
     },
     "execution_count": 46,
     "metadata": {},
     "output_type": "execute_result"
    }
   ],
   "source": [
    "model.predict(X_test)"
   ]
  },
  {
   "cell_type": "markdown",
   "id": "56c9705b",
   "metadata": {
    "papermill": {
     "duration": 0.023798,
     "end_time": "2025-07-30T21:40:38.545828",
     "exception": false,
     "start_time": "2025-07-30T21:40:38.522030",
     "status": "completed"
    },
    "tags": []
   },
   "source": [
    "# Conformal Prediction"
   ]
  },
  {
   "cell_type": "code",
   "execution_count": 47,
   "id": "160ec6ff",
   "metadata": {
    "execution": {
     "iopub.execute_input": "2025-07-30T21:40:38.595159Z",
     "iopub.status.busy": "2025-07-30T21:40:38.594788Z",
     "iopub.status.idle": "2025-07-30T21:40:38.600164Z",
     "shell.execute_reply": "2025-07-30T21:40:38.599085Z"
    },
    "papermill": {
     "duration": 0.037142,
     "end_time": "2025-07-30T21:40:38.606611",
     "exception": false,
     "start_time": "2025-07-30T21:40:38.569469",
     "status": "completed"
    },
    "tags": []
   },
   "outputs": [],
   "source": [
    "# Miscoverage level for conformal prediction (10% allowed error rate => 90% target coverage)\n",
    "alpha = 0.1"
   ]
  },
  {
   "cell_type": "code",
   "execution_count": 48,
   "id": "eadf4555-3dd3-440e-8e35-f82a4ad9f855",
   "metadata": {
    "execution": {
     "iopub.execute_input": "2025-07-30T21:40:38.709144Z",
     "iopub.status.busy": "2025-07-30T21:40:38.708718Z",
     "iopub.status.idle": "2025-07-30T21:40:39.351295Z",
     "shell.execute_reply": "2025-07-30T21:40:39.350215Z"
    },
    "papermill": {
     "duration": 0.70133,
     "end_time": "2025-07-30T21:40:39.353930",
     "exception": false,
     "start_time": "2025-07-30T21:40:38.652600",
     "status": "completed"
    },
    "tags": []
   },
   "outputs": [],
   "source": [
    "probs_calib = model.predict_proba(X_calib)"
   ]
  },
  {
   "cell_type": "code",
   "execution_count": 49,
   "id": "2ed93547-6d5d-4983-9b36-1ecb300da49a",
   "metadata": {
    "execution": {
     "iopub.execute_input": "2025-07-30T21:40:39.408670Z",
     "iopub.status.busy": "2025-07-30T21:40:39.407891Z",
     "iopub.status.idle": "2025-07-30T21:40:39.414516Z",
     "shell.execute_reply": "2025-07-30T21:40:39.413341Z"
    },
    "papermill": {
     "duration": 0.035363,
     "end_time": "2025-07-30T21:40:39.416663",
     "exception": false,
     "start_time": "2025-07-30T21:40:39.381300",
     "status": "completed"
    },
    "tags": []
   },
   "outputs": [],
   "source": [
    "y_calib = y_calib.values.ravel().astype(int)"
   ]
  },
  {
   "cell_type": "code",
   "execution_count": 50,
   "id": "65d1320d-f588-4b38-9072-62af1ae97f7d",
   "metadata": {
    "execution": {
     "iopub.execute_input": "2025-07-30T21:40:39.471835Z",
     "iopub.status.busy": "2025-07-30T21:40:39.471405Z",
     "iopub.status.idle": "2025-07-30T21:40:39.479173Z",
     "shell.execute_reply": "2025-07-30T21:40:39.477920Z"
    },
    "papermill": {
     "duration": 0.037539,
     "end_time": "2025-07-30T21:40:39.481616",
     "exception": false,
     "start_time": "2025-07-30T21:40:39.444077",
     "status": "completed"
    },
    "tags": []
   },
   "outputs": [],
   "source": [
    "from fairness_multiverse.conformal import compute_nc_scores\n",
    "\n",
    "# Compute nonconformity scores on calibration set (1 - probability of true class)\n",
    "nc_scores = compute_nc_scores(probs_calib, y_calib)"
   ]
  },
  {
   "cell_type": "code",
   "execution_count": 51,
   "id": "df3b8ca3-53b7-43d5-9667-7c85da7aeda2",
   "metadata": {
    "execution": {
     "iopub.execute_input": "2025-07-30T21:40:39.538004Z",
     "iopub.status.busy": "2025-07-30T21:40:39.536896Z",
     "iopub.status.idle": "2025-07-30T21:40:39.545155Z",
     "shell.execute_reply": "2025-07-30T21:40:39.543994Z"
    },
    "papermill": {
     "duration": 0.038717,
     "end_time": "2025-07-30T21:40:39.547011",
     "exception": false,
     "start_time": "2025-07-30T21:40:39.508294",
     "status": "completed"
    },
    "tags": []
   },
   "outputs": [],
   "source": [
    "from fairness_multiverse.conformal import find_threshold\n",
    "\n",
    "# Find conformal threshold q_hat for the given alpha (split conformal method)\n",
    "q_hat = find_threshold(nc_scores, alpha)"
   ]
  },
  {
   "cell_type": "code",
   "execution_count": 52,
   "id": "4d29e6c1-0ef6-4aa4-b8fe-4fe79b0d033a",
   "metadata": {
    "execution": {
     "iopub.execute_input": "2025-07-30T21:40:39.603558Z",
     "iopub.status.busy": "2025-07-30T21:40:39.602822Z",
     "iopub.status.idle": "2025-07-30T21:40:39.610813Z",
     "shell.execute_reply": "2025-07-30T21:40:39.609363Z"
    },
    "papermill": {
     "duration": 0.037543,
     "end_time": "2025-07-30T21:40:39.612895",
     "exception": false,
     "start_time": "2025-07-30T21:40:39.575352",
     "status": "completed"
    },
    "tags": []
   },
   "outputs": [
    {
     "data": {
      "text/plain": [
       "0.6699999999999999"
      ]
     },
     "execution_count": 52,
     "metadata": {},
     "output_type": "execute_result"
    }
   ],
   "source": [
    "q_hat"
   ]
  },
  {
   "cell_type": "code",
   "execution_count": 53,
   "id": "92460794-cdac-4be2-ba28-f28c0515a6fb",
   "metadata": {
    "execution": {
     "iopub.execute_input": "2025-07-30T21:40:39.665339Z",
     "iopub.status.busy": "2025-07-30T21:40:39.664513Z",
     "iopub.status.idle": "2025-07-30T21:40:41.397595Z",
     "shell.execute_reply": "2025-07-30T21:40:41.396766Z"
    },
    "papermill": {
     "duration": 1.76084,
     "end_time": "2025-07-30T21:40:41.399061",
     "exception": false,
     "start_time": "2025-07-30T21:40:39.638221",
     "status": "completed"
    },
    "tags": []
   },
   "outputs": [],
   "source": [
    "from fairness_multiverse.conformal import predict_conformal_sets\n",
    "\n",
    "# Generate prediction sets for each test example\n",
    "pred_sets = predict_conformal_sets(model, X_test, q_hat)"
   ]
  },
  {
   "cell_type": "code",
   "execution_count": 54,
   "id": "d90c9a65-e6db-4f5d-80cd-e68fb7e46829",
   "metadata": {
    "execution": {
     "iopub.execute_input": "2025-07-30T21:40:41.433395Z",
     "iopub.status.busy": "2025-07-30T21:40:41.432475Z",
     "iopub.status.idle": "2025-07-30T21:40:41.438319Z",
     "shell.execute_reply": "2025-07-30T21:40:41.437243Z"
    },
    "papermill": {
     "duration": 0.023373,
     "end_time": "2025-07-30T21:40:41.440221",
     "exception": false,
     "start_time": "2025-07-30T21:40:41.416848",
     "status": "completed"
    },
    "tags": []
   },
   "outputs": [],
   "source": [
    "y_true = y_true.squeeze()"
   ]
  },
  {
   "cell_type": "code",
   "execution_count": 55,
   "id": "3a58a54a-1e68-46b9-927a-df01f18aebc8",
   "metadata": {
    "execution": {
     "iopub.execute_input": "2025-07-30T21:40:41.493177Z",
     "iopub.status.busy": "2025-07-30T21:40:41.492373Z",
     "iopub.status.idle": "2025-07-30T21:40:42.483140Z",
     "shell.execute_reply": "2025-07-30T21:40:42.482017Z"
    },
    "papermill": {
     "duration": 1.018989,
     "end_time": "2025-07-30T21:40:42.485182",
     "exception": false,
     "start_time": "2025-07-30T21:40:41.466193",
     "status": "completed"
    },
    "tags": []
   },
   "outputs": [],
   "source": [
    "from fairness_multiverse.conformal import evaluate_sets\n",
    "\n",
    "# Evaluate coverage and average set size on test data\n",
    "metrics = evaluate_sets(pred_sets, y_true)"
   ]
  },
  {
   "cell_type": "markdown",
   "id": "2b569c12-9aaa-4c88-98c9-bbcd0cf3ebb8",
   "metadata": {
    "papermill": {
     "duration": 0.023526,
     "end_time": "2025-07-30T21:40:42.532217",
     "exception": false,
     "start_time": "2025-07-30T21:40:42.508691",
     "status": "completed"
    },
    "tags": []
   },
   "source": [
    "# CP Metrics"
   ]
  },
  {
   "cell_type": "code",
   "execution_count": 56,
   "id": "5ce0a5cb-201f-45a0-ade5-94c7f0bd6095",
   "metadata": {
    "execution": {
     "iopub.execute_input": "2025-07-30T21:40:42.590606Z",
     "iopub.status.busy": "2025-07-30T21:40:42.589523Z",
     "iopub.status.idle": "2025-07-30T21:40:42.598149Z",
     "shell.execute_reply": "2025-07-30T21:40:42.597127Z"
    },
    "papermill": {
     "duration": 0.044834,
     "end_time": "2025-07-30T21:40:42.602550",
     "exception": false,
     "start_time": "2025-07-30T21:40:42.557716",
     "status": "completed"
    },
    "tags": []
   },
   "outputs": [
    {
     "data": {
      "text/plain": [
       "{'coverage': 0.9158622227176457, 'avg_size': 1.1783190279790436}"
      ]
     },
     "execution_count": 56,
     "metadata": {},
     "output_type": "execute_result"
    }
   ],
   "source": [
    "metrics"
   ]
  },
  {
   "cell_type": "code",
   "execution_count": 57,
   "id": "9b9a838d-31c9-430b-ae14-12baee460d17",
   "metadata": {
    "execution": {
     "iopub.execute_input": "2025-07-30T21:40:42.656560Z",
     "iopub.status.busy": "2025-07-30T21:40:42.656120Z",
     "iopub.status.idle": "2025-07-30T21:40:42.662931Z",
     "shell.execute_reply": "2025-07-30T21:40:42.661798Z"
    },
    "papermill": {
     "duration": 0.035332,
     "end_time": "2025-07-30T21:40:42.665171",
     "exception": false,
     "start_time": "2025-07-30T21:40:42.629839",
     "status": "completed"
    },
    "tags": []
   },
   "outputs": [],
   "source": [
    "example_universe = universe.copy()\n",
    "universe_training_year = example_universe.get(\"training_year\")\n",
    "universe_training_size = example_universe.get(\"training_size\")\n",
    "universe_scale = example_universe.get(\"scale\")\n",
    "universe_model = example_universe.get(\"model\")\n",
    "universe_exclude_features = example_universe.get(\"exclude_features\")\n",
    "universe_exclude_subgroups = example_universe.get(\"exclude_subgroups\")"
   ]
  },
  {
   "cell_type": "code",
   "execution_count": 58,
   "id": "f4b6a8ac-9dc0-4245-8a91-5b3b5999c4f9",
   "metadata": {
    "execution": {
     "iopub.execute_input": "2025-07-30T21:40:42.726171Z",
     "iopub.status.busy": "2025-07-30T21:40:42.725779Z",
     "iopub.status.idle": "2025-07-30T21:40:42.732464Z",
     "shell.execute_reply": "2025-07-30T21:40:42.731380Z"
    },
    "papermill": {
     "duration": 0.044114,
     "end_time": "2025-07-30T21:40:42.734642",
     "exception": false,
     "start_time": "2025-07-30T21:40:42.690528",
     "status": "completed"
    },
    "tags": []
   },
   "outputs": [],
   "source": [
    "cp_metrics_dict = {\n",
    "    \"universe_id\": [universe_id],\n",
    "    \"universe_training_year\": [universe_training_year],\n",
    "    \"universe_training_size\": [universe_training_size],\n",
    "    \"universe_scale\": [universe_scale],\n",
    "    \"universe_model\": [universe_model],\n",
    "    \"universe_exclude_features\": [universe_exclude_features],\n",
    "    \"universe_exclude_subgroups\": [universe_exclude_subgroups],\n",
    "    \"q_hat\": [q_hat],\n",
    "    \"coverage\": [metrics[\"coverage\"]],\n",
    "    \"avg_size\": [metrics[\"avg_size\"]],\n",
    "}"
   ]
  },
  {
   "cell_type": "code",
   "execution_count": 59,
   "id": "908acbb1-0371-4915-85ca-3fa520d2efe2",
   "metadata": {
    "execution": {
     "iopub.execute_input": "2025-07-30T21:40:42.788574Z",
     "iopub.status.busy": "2025-07-30T21:40:42.788156Z",
     "iopub.status.idle": "2025-07-30T21:40:42.796017Z",
     "shell.execute_reply": "2025-07-30T21:40:42.794822Z"
    },
    "papermill": {
     "duration": 0.038429,
     "end_time": "2025-07-30T21:40:42.799516",
     "exception": false,
     "start_time": "2025-07-30T21:40:42.761087",
     "status": "completed"
    },
    "tags": []
   },
   "outputs": [
    {
     "data": {
      "text/plain": [
       "{'universe_id': ['e88aa3daea96c6e1a6f9b6a65e8b8c8d'],\n",
       " 'universe_training_year': ['2012_14'],\n",
       " 'universe_training_size': ['1k'],\n",
       " 'universe_scale': ['do-not-scale'],\n",
       " 'universe_model': ['rf'],\n",
       " 'universe_exclude_features': ['sex'],\n",
       " 'universe_exclude_subgroups': ['drop-non-german'],\n",
       " 'q_hat': [0.6699999999999999],\n",
       " 'coverage': [0.9158622227176457],\n",
       " 'avg_size': [1.1783190279790436]}"
      ]
     },
     "execution_count": 59,
     "metadata": {},
     "output_type": "execute_result"
    }
   ],
   "source": [
    "cp_metrics_dict"
   ]
  },
  {
   "cell_type": "code",
   "execution_count": 60,
   "id": "33007efc-14e9-4ec6-97ac-56a455c82265",
   "metadata": {
    "execution": {
     "iopub.execute_input": "2025-07-30T21:40:42.848816Z",
     "iopub.status.busy": "2025-07-30T21:40:42.848347Z",
     "iopub.status.idle": "2025-07-30T21:40:42.856600Z",
     "shell.execute_reply": "2025-07-30T21:40:42.855085Z"
    },
    "papermill": {
     "duration": 0.047352,
     "end_time": "2025-07-30T21:40:42.870462",
     "exception": false,
     "start_time": "2025-07-30T21:40:42.823110",
     "status": "completed"
    },
    "tags": []
   },
   "outputs": [],
   "source": [
    "cp_metrics_df = pd.DataFrame(cp_metrics_dict)"
   ]
  },
  {
   "cell_type": "code",
   "execution_count": 61,
   "id": "db12611b-57b2-4910-b9d0-355adfd6e7bf",
   "metadata": {
    "execution": {
     "iopub.execute_input": "2025-07-30T21:40:42.927357Z",
     "iopub.status.busy": "2025-07-30T21:40:42.926935Z",
     "iopub.status.idle": "2025-07-30T21:40:42.947722Z",
     "shell.execute_reply": "2025-07-30T21:40:42.946135Z"
    },
    "papermill": {
     "duration": 0.051626,
     "end_time": "2025-07-30T21:40:42.949947",
     "exception": false,
     "start_time": "2025-07-30T21:40:42.898321",
     "status": "completed"
    },
    "tags": []
   },
   "outputs": [
    {
     "data": {
      "text/html": [
       "<div>\n",
       "<style scoped>\n",
       "    .dataframe tbody tr th:only-of-type {\n",
       "        vertical-align: middle;\n",
       "    }\n",
       "\n",
       "    .dataframe tbody tr th {\n",
       "        vertical-align: top;\n",
       "    }\n",
       "\n",
       "    .dataframe thead th {\n",
       "        text-align: right;\n",
       "    }\n",
       "</style>\n",
       "<table border=\"1\" class=\"dataframe\">\n",
       "  <thead>\n",
       "    <tr style=\"text-align: right;\">\n",
       "      <th></th>\n",
       "      <th>universe_id</th>\n",
       "      <th>universe_training_year</th>\n",
       "      <th>universe_training_size</th>\n",
       "      <th>universe_scale</th>\n",
       "      <th>universe_model</th>\n",
       "      <th>universe_exclude_features</th>\n",
       "      <th>universe_exclude_subgroups</th>\n",
       "      <th>q_hat</th>\n",
       "      <th>coverage</th>\n",
       "      <th>avg_size</th>\n",
       "    </tr>\n",
       "  </thead>\n",
       "  <tbody>\n",
       "    <tr>\n",
       "      <th>0</th>\n",
       "      <td>e88aa3daea96c6e1a6f9b6a65e8b8c8d</td>\n",
       "      <td>2012_14</td>\n",
       "      <td>1k</td>\n",
       "      <td>do-not-scale</td>\n",
       "      <td>rf</td>\n",
       "      <td>sex</td>\n",
       "      <td>drop-non-german</td>\n",
       "      <td>0.67</td>\n",
       "      <td>0.915862</td>\n",
       "      <td>1.178319</td>\n",
       "    </tr>\n",
       "  </tbody>\n",
       "</table>\n",
       "</div>"
      ],
      "text/plain": [
       "                        universe_id universe_training_year  \\\n",
       "0  e88aa3daea96c6e1a6f9b6a65e8b8c8d                2012_14   \n",
       "\n",
       "  universe_training_size universe_scale universe_model  \\\n",
       "0                     1k   do-not-scale             rf   \n",
       "\n",
       "  universe_exclude_features universe_exclude_subgroups  q_hat  coverage  \\\n",
       "0                       sex            drop-non-german   0.67  0.915862   \n",
       "\n",
       "   avg_size  \n",
       "0  1.178319  "
      ]
     },
     "execution_count": 61,
     "metadata": {},
     "output_type": "execute_result"
    }
   ],
   "source": [
    "cp_metrics_df"
   ]
  },
  {
   "cell_type": "code",
   "execution_count": 62,
   "id": "b7fbde55-a0a1-47e4-9af6-fe4a17fa8c61",
   "metadata": {
    "execution": {
     "iopub.execute_input": "2025-07-30T21:40:42.999045Z",
     "iopub.status.busy": "2025-07-30T21:40:42.998651Z",
     "iopub.status.idle": "2025-07-30T21:40:43.003786Z",
     "shell.execute_reply": "2025-07-30T21:40:43.002835Z"
    },
    "papermill": {
     "duration": 0.032,
     "end_time": "2025-07-30T21:40:43.005573",
     "exception": false,
     "start_time": "2025-07-30T21:40:42.973573",
     "status": "completed"
    },
    "tags": []
   },
   "outputs": [],
   "source": [
    "# Conditional Coverage & looking at subgroups"
   ]
  },
  {
   "cell_type": "code",
   "execution_count": 63,
   "id": "027ae886-68dd-4141-96c7-805a5450e1ef",
   "metadata": {
    "execution": {
     "iopub.execute_input": "2025-07-30T21:40:43.067205Z",
     "iopub.status.busy": "2025-07-30T21:40:43.066719Z",
     "iopub.status.idle": "2025-07-30T21:40:43.304894Z",
     "shell.execute_reply": "2025-07-30T21:40:43.303896Z"
    },
    "papermill": {
     "duration": 0.270256,
     "end_time": "2025-07-30T21:40:43.306758",
     "exception": false,
     "start_time": "2025-07-30T21:40:43.036502",
     "status": "completed"
    },
    "tags": []
   },
   "outputs": [],
   "source": [
    "from fairness_multiverse.conformal import build_cp_groups\n",
    "\n",
    "cp_groups_df = build_cp_groups(pred_sets, y_true, X_test.index, org_test)\n",
    "#needs universe_id and setting"
   ]
  },
  {
   "cell_type": "code",
   "execution_count": 64,
   "id": "01d5802c-663a-4d1f-9d69-e036faaffbf7",
   "metadata": {
    "execution": {
     "iopub.execute_input": "2025-07-30T21:40:43.363407Z",
     "iopub.status.busy": "2025-07-30T21:40:43.362622Z",
     "iopub.status.idle": "2025-07-30T21:40:43.368113Z",
     "shell.execute_reply": "2025-07-30T21:40:43.367076Z"
    },
    "papermill": {
     "duration": 0.035506,
     "end_time": "2025-07-30T21:40:43.370060",
     "exception": false,
     "start_time": "2025-07-30T21:40:43.334554",
     "status": "completed"
    },
    "tags": []
   },
   "outputs": [],
   "source": [
    "#delete\n",
    "#cp_groups_df"
   ]
  },
  {
   "cell_type": "code",
   "execution_count": 65,
   "id": "fa424af1-d1eb-443d-b717-2d279ada8408",
   "metadata": {
    "execution": {
     "iopub.execute_input": "2025-07-30T21:40:43.428218Z",
     "iopub.status.busy": "2025-07-30T21:40:43.427559Z",
     "iopub.status.idle": "2025-07-30T21:40:43.433417Z",
     "shell.execute_reply": "2025-07-30T21:40:43.432177Z"
    },
    "papermill": {
     "duration": 0.036599,
     "end_time": "2025-07-30T21:40:43.435384",
     "exception": false,
     "start_time": "2025-07-30T21:40:43.398785",
     "status": "completed"
    },
    "tags": []
   },
   "outputs": [],
   "source": [
    "#delete\n",
    "#percentage = (cp_groups_df['nongerman_female'] == 1).mean() * 100\n",
    "#print(percentage)\n"
   ]
  },
  {
   "cell_type": "code",
   "execution_count": 66,
   "id": "6cbdab96-b2b2-45af-ad54-d0516db2e28d",
   "metadata": {
    "execution": {
     "iopub.execute_input": "2025-07-30T21:40:43.495087Z",
     "iopub.status.busy": "2025-07-30T21:40:43.494409Z",
     "iopub.status.idle": "2025-07-30T21:40:44.984724Z",
     "shell.execute_reply": "2025-07-30T21:40:44.983596Z"
    },
    "papermill": {
     "duration": 1.522556,
     "end_time": "2025-07-30T21:40:44.986968",
     "exception": false,
     "start_time": "2025-07-30T21:40:43.464412",
     "status": "completed"
    },
    "tags": []
   },
   "outputs": [],
   "source": [
    "# Define covered = 1 if true_label is in the predicted set\n",
    "cp_groups_df['covered'] = cp_groups_df.apply(\n",
    "    lambda r: int(r['true_label'] in r['pred_set']),\n",
    "    axis=1\n",
    ")"
   ]
  },
  {
   "cell_type": "code",
   "execution_count": 67,
   "id": "338ff529-1a6b-4b87-a931-8e4788d52aad",
   "metadata": {
    "execution": {
     "iopub.execute_input": "2025-07-30T21:40:45.043774Z",
     "iopub.status.busy": "2025-07-30T21:40:45.043264Z",
     "iopub.status.idle": "2025-07-30T21:40:45.048723Z",
     "shell.execute_reply": "2025-07-30T21:40:45.047650Z"
    },
    "papermill": {
     "duration": 0.037021,
     "end_time": "2025-07-30T21:40:45.050463",
     "exception": false,
     "start_time": "2025-07-30T21:40:45.013442",
     "status": "completed"
    },
    "tags": []
   },
   "outputs": [],
   "source": [
    "#cp_groups_df"
   ]
  },
  {
   "cell_type": "code",
   "execution_count": 68,
   "id": "90032e27-66df-4540-9169-4e89cfbaa758",
   "metadata": {
    "execution": {
     "iopub.execute_input": "2025-07-30T21:40:45.107906Z",
     "iopub.status.busy": "2025-07-30T21:40:45.107068Z",
     "iopub.status.idle": "2025-07-30T21:40:45.118449Z",
     "shell.execute_reply": "2025-07-30T21:40:45.117427Z"
    },
    "papermill": {
     "duration": 0.044669,
     "end_time": "2025-07-30T21:40:45.120283",
     "exception": false,
     "start_time": "2025-07-30T21:40:45.075614",
     "status": "completed"
    },
    "tags": []
   },
   "outputs": [],
   "source": [
    "subgroups = ['frau1','nongerman','nongerman_male','nongerman_female']\n",
    "\n",
    "# Conditional coverage for subgroup==1\n",
    "cond_coverage = {\n",
    "    g: cp_groups_df.loc[cp_groups_df[g]==1, 'covered'].mean()\n",
    "    for g in subgroups\n",
    "}"
   ]
  },
  {
   "cell_type": "code",
   "execution_count": 69,
   "id": "1e348fb1-b9c3-45bc-ba23-f016827a7e0d",
   "metadata": {
    "execution": {
     "iopub.execute_input": "2025-07-30T21:40:45.176010Z",
     "iopub.status.busy": "2025-07-30T21:40:45.175472Z",
     "iopub.status.idle": "2025-07-30T21:40:45.183500Z",
     "shell.execute_reply": "2025-07-30T21:40:45.182457Z"
    },
    "papermill": {
     "duration": 0.038376,
     "end_time": "2025-07-30T21:40:45.185266",
     "exception": false,
     "start_time": "2025-07-30T21:40:45.146890",
     "status": "completed"
    },
    "tags": []
   },
   "outputs": [
    {
     "data": {
      "text/plain": [
       "{'frau1': 0.9170238576627577,\n",
       " 'nongerman': 0.9121428170437321,\n",
       " 'nongerman_male': 0.9238043771953526,\n",
       " 'nongerman_female': 0.8928464977645305}"
      ]
     },
     "execution_count": 69,
     "metadata": {},
     "output_type": "execute_result"
    }
   ],
   "source": [
    "cond_coverage"
   ]
  },
  {
   "cell_type": "code",
   "execution_count": 70,
   "id": "f5093324-c3dd-4d63-bc4c-8d945e5c8bbb",
   "metadata": {
    "execution": {
     "iopub.execute_input": "2025-07-30T21:40:45.240368Z",
     "iopub.status.busy": "2025-07-30T21:40:45.239800Z",
     "iopub.status.idle": "2025-07-30T21:40:45.247695Z",
     "shell.execute_reply": "2025-07-30T21:40:45.246648Z"
    },
    "papermill": {
     "duration": 0.036651,
     "end_time": "2025-07-30T21:40:45.249517",
     "exception": false,
     "start_time": "2025-07-30T21:40:45.212866",
     "status": "completed"
    },
    "tags": []
   },
   "outputs": [],
   "source": [
    "for subgroup, cov in cond_coverage.items():\n",
    "    cp_metrics_df[f\"cov_{subgroup}\"] = cov"
   ]
  },
  {
   "cell_type": "code",
   "execution_count": 71,
   "id": "6e872e10-dbe5-49e8-b554-5030c98ff75d",
   "metadata": {
    "execution": {
     "iopub.execute_input": "2025-07-30T21:40:45.315018Z",
     "iopub.status.busy": "2025-07-30T21:40:45.314457Z",
     "iopub.status.idle": "2025-07-30T21:40:45.334594Z",
     "shell.execute_reply": "2025-07-30T21:40:45.333453Z"
    },
    "papermill": {
     "duration": 0.057131,
     "end_time": "2025-07-30T21:40:45.336316",
     "exception": false,
     "start_time": "2025-07-30T21:40:45.279185",
     "status": "completed"
    },
    "tags": []
   },
   "outputs": [
    {
     "data": {
      "text/html": [
       "<div>\n",
       "<style scoped>\n",
       "    .dataframe tbody tr th:only-of-type {\n",
       "        vertical-align: middle;\n",
       "    }\n",
       "\n",
       "    .dataframe tbody tr th {\n",
       "        vertical-align: top;\n",
       "    }\n",
       "\n",
       "    .dataframe thead th {\n",
       "        text-align: right;\n",
       "    }\n",
       "</style>\n",
       "<table border=\"1\" class=\"dataframe\">\n",
       "  <thead>\n",
       "    <tr style=\"text-align: right;\">\n",
       "      <th></th>\n",
       "      <th>universe_id</th>\n",
       "      <th>universe_training_year</th>\n",
       "      <th>universe_training_size</th>\n",
       "      <th>universe_scale</th>\n",
       "      <th>universe_model</th>\n",
       "      <th>universe_exclude_features</th>\n",
       "      <th>universe_exclude_subgroups</th>\n",
       "      <th>q_hat</th>\n",
       "      <th>coverage</th>\n",
       "      <th>avg_size</th>\n",
       "      <th>cov_frau1</th>\n",
       "      <th>cov_nongerman</th>\n",
       "      <th>cov_nongerman_male</th>\n",
       "      <th>cov_nongerman_female</th>\n",
       "    </tr>\n",
       "  </thead>\n",
       "  <tbody>\n",
       "    <tr>\n",
       "      <th>0</th>\n",
       "      <td>e88aa3daea96c6e1a6f9b6a65e8b8c8d</td>\n",
       "      <td>2012_14</td>\n",
       "      <td>1k</td>\n",
       "      <td>do-not-scale</td>\n",
       "      <td>rf</td>\n",
       "      <td>sex</td>\n",
       "      <td>drop-non-german</td>\n",
       "      <td>0.67</td>\n",
       "      <td>0.915862</td>\n",
       "      <td>1.178319</td>\n",
       "      <td>0.917024</td>\n",
       "      <td>0.912143</td>\n",
       "      <td>0.923804</td>\n",
       "      <td>0.892846</td>\n",
       "    </tr>\n",
       "  </tbody>\n",
       "</table>\n",
       "</div>"
      ],
      "text/plain": [
       "                        universe_id universe_training_year  \\\n",
       "0  e88aa3daea96c6e1a6f9b6a65e8b8c8d                2012_14   \n",
       "\n",
       "  universe_training_size universe_scale universe_model  \\\n",
       "0                     1k   do-not-scale             rf   \n",
       "\n",
       "  universe_exclude_features universe_exclude_subgroups  q_hat  coverage  \\\n",
       "0                       sex            drop-non-german   0.67  0.915862   \n",
       "\n",
       "   avg_size  cov_frau1  cov_nongerman  cov_nongerman_male  \\\n",
       "0  1.178319   0.917024       0.912143            0.923804   \n",
       "\n",
       "   cov_nongerman_female  \n",
       "0              0.892846  "
      ]
     },
     "execution_count": 71,
     "metadata": {},
     "output_type": "execute_result"
    }
   ],
   "source": [
    "cp_metrics_df"
   ]
  },
  {
   "cell_type": "markdown",
   "id": "33774451",
   "metadata": {
    "papermill": {
     "duration": 0.025566,
     "end_time": "2025-07-30T21:40:45.388458",
     "exception": false,
     "start_time": "2025-07-30T21:40:45.362892",
     "status": "completed"
    },
    "tags": []
   },
   "source": [
    "# (Fairness) Metrics"
   ]
  },
  {
   "cell_type": "code",
   "execution_count": 72,
   "id": "debc5d62",
   "metadata": {
    "execution": {
     "iopub.execute_input": "2025-07-30T21:40:45.439882Z",
     "iopub.status.busy": "2025-07-30T21:40:45.439310Z",
     "iopub.status.idle": "2025-07-30T21:40:45.461756Z",
     "shell.execute_reply": "2025-07-30T21:40:45.460851Z"
    },
    "papermill": {
     "duration": 0.050732,
     "end_time": "2025-07-30T21:40:45.463572",
     "exception": false,
     "start_time": "2025-07-30T21:40:45.412840",
     "status": "completed"
    },
    "tags": []
   },
   "outputs": [],
   "source": [
    "# do I need to include maxdeutsch1.missing?\n",
    "\n",
    "import numpy as np\n",
    "\n",
    "colname_to_bin = \"maxdeutsch1\"\n",
    "majority_value = org_train[colname_to_bin].mode()[0]\n",
    "\n",
    "org_test[\"majmin\"] = np.where(org_test[colname_to_bin] == majority_value, \"majority\", \"minority\")"
   ]
  },
  {
   "cell_type": "code",
   "execution_count": 73,
   "id": "06a50de5",
   "metadata": {
    "execution": {
     "iopub.execute_input": "2025-07-30T21:40:45.519108Z",
     "iopub.status.busy": "2025-07-30T21:40:45.518569Z",
     "iopub.status.idle": "2025-07-30T21:40:48.114660Z",
     "shell.execute_reply": "2025-07-30T21:40:48.113628Z"
    },
    "papermill": {
     "duration": 2.626186,
     "end_time": "2025-07-30T21:40:48.116558",
     "exception": false,
     "start_time": "2025-07-30T21:40:45.490372",
     "status": "completed"
    },
    "tags": []
   },
   "outputs": [],
   "source": [
    "example_universe = universe.copy()\n",
    "example_universe[\"cutoff\"] = example_universe[\"cutoff\"][0]\n",
    "example_universe[\"eval_fairness_grouping\"] = example_universe[\"eval_fairness_grouping\"][0]\n",
    "fairness_dict, metric_frame = universe_analysis.compute_metrics(\n",
    "    example_universe,\n",
    "    y_pred_prob=probs_test,\n",
    "    y_test=y_true,\n",
    "    org_test=org_test,\n",
    ")"
   ]
  },
  {
   "cell_type": "markdown",
   "id": "f95d4e02",
   "metadata": {
    "papermill": {
     "duration": 0.026069,
     "end_time": "2025-07-30T21:40:48.171786",
     "exception": false,
     "start_time": "2025-07-30T21:40:48.145717",
     "status": "completed"
    },
    "tags": []
   },
   "source": [
    "# Overall"
   ]
  },
  {
   "cell_type": "markdown",
   "id": "bdee4871",
   "metadata": {
    "papermill": {
     "duration": 0.013354,
     "end_time": "2025-07-30T21:40:48.213380",
     "exception": false,
     "start_time": "2025-07-30T21:40:48.200026",
     "status": "completed"
    },
    "tags": []
   },
   "source": [
    "Fairness\n",
    "Main fairness target: Equalized Odds. Seems to be a better fit than equal opportunity, since we're not only interested in Y = 1. Seems to be a better fit than demographic parity, since we also care about accuracy, not just equal distribution of preds.\n",
    "\n",
    "Pick column for computation of fairness metrics\n",
    "\n",
    "Performance\n",
    "Overall performance measures, most interesting in relation to the measures split by group below"
   ]
  },
  {
   "cell_type": "code",
   "execution_count": 74,
   "id": "c4e067c6",
   "metadata": {
    "execution": {
     "iopub.execute_input": "2025-07-30T21:40:48.241505Z",
     "iopub.status.busy": "2025-07-30T21:40:48.241157Z",
     "iopub.status.idle": "2025-07-30T21:40:48.248549Z",
     "shell.execute_reply": "2025-07-30T21:40:48.247692Z"
    },
    "papermill": {
     "duration": 0.023048,
     "end_time": "2025-07-30T21:40:48.249960",
     "exception": false,
     "start_time": "2025-07-30T21:40:48.226912",
     "status": "completed"
    },
    "tags": []
   },
   "outputs": [
    {
     "data": {
      "text/plain": [
       "accuracy                   0.219117\n",
       "balanced accuracy          0.544136\n",
       "f1                         0.243807\n",
       "precision                  0.139195\n",
       "false positive rate        0.893046\n",
       "false negative rate        0.018683\n",
       "selection rate             0.904370\n",
       "count                  89710.000000\n",
       "dtype: float64"
      ]
     },
     "execution_count": 74,
     "metadata": {},
     "output_type": "execute_result"
    }
   ],
   "source": [
    "metric_frame.overall"
   ]
  },
  {
   "cell_type": "markdown",
   "id": "e968fe9d",
   "metadata": {
    "papermill": {
     "duration": 0.013638,
     "end_time": "2025-07-30T21:40:48.278797",
     "exception": false,
     "start_time": "2025-07-30T21:40:48.265159",
     "status": "completed"
    },
    "tags": []
   },
   "source": [
    "By Group"
   ]
  },
  {
   "cell_type": "code",
   "execution_count": 75,
   "id": "ec325bce",
   "metadata": {
    "execution": {
     "iopub.execute_input": "2025-07-30T21:40:48.308832Z",
     "iopub.status.busy": "2025-07-30T21:40:48.308495Z",
     "iopub.status.idle": "2025-07-30T21:40:48.328428Z",
     "shell.execute_reply": "2025-07-30T21:40:48.323553Z"
    },
    "papermill": {
     "duration": 0.036488,
     "end_time": "2025-07-30T21:40:48.329719",
     "exception": false,
     "start_time": "2025-07-30T21:40:48.293231",
     "status": "completed"
    },
    "tags": []
   },
   "outputs": [
    {
     "data": {
      "text/html": [
       "<div>\n",
       "<style scoped>\n",
       "    .dataframe tbody tr th:only-of-type {\n",
       "        vertical-align: middle;\n",
       "    }\n",
       "\n",
       "    .dataframe tbody tr th {\n",
       "        vertical-align: top;\n",
       "    }\n",
       "\n",
       "    .dataframe thead th {\n",
       "        text-align: right;\n",
       "    }\n",
       "</style>\n",
       "<table border=\"1\" class=\"dataframe\">\n",
       "  <thead>\n",
       "    <tr style=\"text-align: right;\">\n",
       "      <th></th>\n",
       "      <th>accuracy</th>\n",
       "      <th>balanced accuracy</th>\n",
       "      <th>f1</th>\n",
       "      <th>precision</th>\n",
       "      <th>false positive rate</th>\n",
       "      <th>false negative rate</th>\n",
       "      <th>selection rate</th>\n",
       "      <th>count</th>\n",
       "    </tr>\n",
       "    <tr>\n",
       "      <th>majmin</th>\n",
       "      <th></th>\n",
       "      <th></th>\n",
       "      <th></th>\n",
       "      <th></th>\n",
       "      <th></th>\n",
       "      <th></th>\n",
       "      <th></th>\n",
       "      <th></th>\n",
       "    </tr>\n",
       "  </thead>\n",
       "  <tbody>\n",
       "    <tr>\n",
       "      <th>majority</th>\n",
       "      <td>0.230678</td>\n",
       "      <td>0.548841</td>\n",
       "      <td>0.252108</td>\n",
       "      <td>0.144633</td>\n",
       "      <td>0.883608</td>\n",
       "      <td>0.018709</td>\n",
       "      <td>0.896516</td>\n",
       "      <td>69170.0</td>\n",
       "    </tr>\n",
       "    <tr>\n",
       "      <th>minority</th>\n",
       "      <td>0.180185</td>\n",
       "      <td>0.528597</td>\n",
       "      <td>0.216317</td>\n",
       "      <td>0.121554</td>\n",
       "      <td>0.924224</td>\n",
       "      <td>0.018581</td>\n",
       "      <td>0.930818</td>\n",
       "      <td>20540.0</td>\n",
       "    </tr>\n",
       "  </tbody>\n",
       "</table>\n",
       "</div>"
      ],
      "text/plain": [
       "          accuracy  balanced accuracy        f1  precision  \\\n",
       "majmin                                                       \n",
       "majority  0.230678           0.548841  0.252108   0.144633   \n",
       "minority  0.180185           0.528597  0.216317   0.121554   \n",
       "\n",
       "          false positive rate  false negative rate  selection rate    count  \n",
       "majmin                                                                       \n",
       "majority             0.883608             0.018709        0.896516  69170.0  \n",
       "minority             0.924224             0.018581        0.930818  20540.0  "
      ]
     },
     "execution_count": 75,
     "metadata": {},
     "output_type": "execute_result"
    }
   ],
   "source": [
    "metric_frame.by_group"
   ]
  },
  {
   "cell_type": "code",
   "execution_count": 76,
   "id": "a9ddbe63",
   "metadata": {
    "execution": {
     "iopub.execute_input": "2025-07-30T21:40:48.360210Z",
     "iopub.status.busy": "2025-07-30T21:40:48.359437Z",
     "iopub.status.idle": "2025-07-30T21:40:50.668263Z",
     "shell.execute_reply": "2025-07-30T21:40:50.667373Z"
    },
    "papermill": {
     "duration": 2.32495,
     "end_time": "2025-07-30T21:40:50.669831",
     "exception": false,
     "start_time": "2025-07-30T21:40:48.344881",
     "status": "completed"
    },
    "tags": []
   },
   "outputs": [
    {
     "data": {
      "text/plain": [
       "array([[<Axes: title={'center': 'accuracy'}, xlabel='majmin'>,\n",
       "        <Axes: title={'center': 'balanced accuracy'}, xlabel='majmin'>,\n",
       "        <Axes: title={'center': 'f1'}, xlabel='majmin'>],\n",
       "       [<Axes: title={'center': 'precision'}, xlabel='majmin'>,\n",
       "        <Axes: title={'center': 'false positive rate'}, xlabel='majmin'>,\n",
       "        <Axes: title={'center': 'false negative rate'}, xlabel='majmin'>],\n",
       "       [<Axes: title={'center': 'selection rate'}, xlabel='majmin'>,\n",
       "        <Axes: title={'center': 'count'}, xlabel='majmin'>,\n",
       "        <Axes: xlabel='majmin'>]], dtype=object)"
      ]
     },
     "execution_count": 76,
     "metadata": {},
     "output_type": "execute_result"
    },
    {
     "data": {
      "image/png": "[encoded data removed]",
      "text/plain": [
       "<Figure size 1200x800 with 9 Axes>"
      ]
     },
     "metadata": {},
     "output_type": "display_data"
    }
   ],
   "source": [
    "# In a graphic\n",
    "metric_frame.by_group.plot.bar(\n",
    "    subplots=True,\n",
    "    layout=[3, 3],\n",
    "    legend=False,\n",
    "    figsize=[12, 8],\n",
    "    title=\"Show all metrics\",\n",
    ")"
   ]
  },
  {
   "cell_type": "markdown",
   "id": "f57a0bac",
   "metadata": {
    "papermill": {
     "duration": 0.02964,
     "end_time": "2025-07-30T21:40:50.730985",
     "exception": false,
     "start_time": "2025-07-30T21:40:50.701345",
     "status": "completed"
    },
    "tags": []
   },
   "source": [
    "# Final Output"
   ]
  },
  {
   "cell_type": "code",
   "execution_count": 77,
   "id": "96d280a3",
   "metadata": {
    "execution": {
     "iopub.execute_input": "2025-07-30T21:40:50.788374Z",
     "iopub.status.busy": "2025-07-30T21:40:50.787653Z",
     "iopub.status.idle": "2025-07-30T21:40:50.795296Z",
     "shell.execute_reply": "2025-07-30T21:40:50.794385Z"
    },
    "papermill": {
     "duration": 0.038211,
     "end_time": "2025-07-30T21:40:50.797047",
     "exception": false,
     "start_time": "2025-07-30T21:40:50.758836",
     "status": "completed"
    },
    "tags": []
   },
   "outputs": [
    {
     "data": {
      "text/plain": [
       "4"
      ]
     },
     "execution_count": 77,
     "metadata": {},
     "output_type": "execute_result"
    }
   ],
   "source": [
    "sub_universes = universe_analysis.generate_sub_universes()\n",
    "len(sub_universes)"
   ]
  },
  {
   "cell_type": "code",
   "execution_count": 78,
   "id": "92adf7ba",
   "metadata": {
    "execution": {
     "iopub.execute_input": "2025-07-30T21:40:50.857005Z",
     "iopub.status.busy": "2025-07-30T21:40:50.856109Z",
     "iopub.status.idle": "2025-07-30T21:40:50.862447Z",
     "shell.execute_reply": "2025-07-30T21:40:50.861628Z"
    },
    "papermill": {
     "duration": 0.038071,
     "end_time": "2025-07-30T21:40:50.863980",
     "exception": false,
     "start_time": "2025-07-30T21:40:50.825909",
     "status": "completed"
    },
    "tags": []
   },
   "outputs": [],
   "source": [
    "def filter_sub_universe_data(sub_universe, org_test):\n",
    "    # Keep all rows — no filtering\n",
    "    keep_rows_mask = np.ones(org_test.shape[0], dtype=bool)\n",
    "\n",
    "    print(f\"[INFO] Keeping all rows: {keep_rows_mask.sum()} rows retained.\")\n",
    "    return keep_rows_mask"
   ]
  },
  {
   "cell_type": "code",
   "execution_count": 79,
   "id": "4a759155",
   "metadata": {
    "execution": {
     "iopub.execute_input": "2025-07-30T21:40:50.924250Z",
     "iopub.status.busy": "2025-07-30T21:40:50.923587Z",
     "iopub.status.idle": "2025-07-30T21:41:01.894641Z",
     "shell.execute_reply": "2025-07-30T21:41:01.893429Z"
    },
    "papermill": {
     "duration": 11.004286,
     "end_time": "2025-07-30T21:41:01.896368",
     "exception": false,
     "start_time": "2025-07-30T21:40:50.892082",
     "status": "completed"
    },
    "tags": []
   },
   "outputs": [
    {
     "name": "stdout",
     "output_type": "stream",
     "text": [
      "Stopping execution_time clock.\n",
      "[INFO] Keeping all rows: 89710 rows retained.\n"
     ]
    },
    {
     "name": "stdout",
     "output_type": "stream",
     "text": [
      "[INFO] Keeping all rows: 89710 rows retained.\n"
     ]
    },
    {
     "name": "stdout",
     "output_type": "stream",
     "text": [
      "[INFO] Keeping all rows: 89710 rows retained.\n"
     ]
    },
    {
     "name": "stdout",
     "output_type": "stream",
     "text": [
      "[INFO] Keeping all rows: 89710 rows retained.\n"
     ]
    },
    {
     "data": {
      "text/html": [
       "<div>\n",
       "<style scoped>\n",
       "    .dataframe tbody tr th:only-of-type {\n",
       "        vertical-align: middle;\n",
       "    }\n",
       "\n",
       "    .dataframe tbody tr th {\n",
       "        vertical-align: top;\n",
       "    }\n",
       "\n",
       "    .dataframe thead th {\n",
       "        text-align: right;\n",
       "    }\n",
       "</style>\n",
       "<table border=\"1\" class=\"dataframe\">\n",
       "  <thead>\n",
       "    <tr style=\"text-align: right;\">\n",
       "      <th></th>\n",
       "      <th>run_no</th>\n",
       "      <th>universe_id</th>\n",
       "      <th>universe_settings</th>\n",
       "      <th>execution_time</th>\n",
       "      <th>test_size_n</th>\n",
       "      <th>test_size_frac</th>\n",
       "      <th>fair_main_equalized_odds_difference</th>\n",
       "      <th>fair_main_equalized_odds_ratio</th>\n",
       "      <th>fair_main_demographic_parity_difference</th>\n",
       "      <th>fair_main_demographic_parity_ratio</th>\n",
       "      <th>...</th>\n",
       "      <th>perf_grp_precision_0</th>\n",
       "      <th>perf_grp_precision_1</th>\n",
       "      <th>perf_grp_false positive rate_0</th>\n",
       "      <th>perf_grp_false positive rate_1</th>\n",
       "      <th>perf_grp_false negative rate_0</th>\n",
       "      <th>perf_grp_false negative rate_1</th>\n",
       "      <th>perf_grp_selection rate_0</th>\n",
       "      <th>perf_grp_selection rate_1</th>\n",
       "      <th>perf_grp_count_0</th>\n",
       "      <th>perf_grp_count_1</th>\n",
       "    </tr>\n",
       "  </thead>\n",
       "  <tbody>\n",
       "    <tr>\n",
       "      <th>0</th>\n",
       "      <td>14</td>\n",
       "      <td>e88aa3daea96c6e1a6f9b6a65e8b8c8d</td>\n",
       "      <td>{\"cutoff\": \"quantile_0.1\", \"eval_fairness_grou...</td>\n",
       "      <td>30.987088</td>\n",
       "      <td>89710</td>\n",
       "      <td>1.0</td>\n",
       "      <td>0.040616</td>\n",
       "      <td>0.956054</td>\n",
       "      <td>0.034302</td>\n",
       "      <td>0.963148</td>\n",
       "      <td>...</td>\n",
       "      <td>NaN</td>\n",
       "      <td>NaN</td>\n",
       "      <td>NaN</td>\n",
       "      <td>NaN</td>\n",
       "      <td>NaN</td>\n",
       "      <td>NaN</td>\n",
       "      <td>NaN</td>\n",
       "      <td>NaN</td>\n",
       "      <td>NaN</td>\n",
       "      <td>NaN</td>\n",
       "    </tr>\n",
       "    <tr>\n",
       "      <th>0</th>\n",
       "      <td>14</td>\n",
       "      <td>e88aa3daea96c6e1a6f9b6a65e8b8c8d</td>\n",
       "      <td>{\"cutoff\": \"quantile_0.1\", \"eval_fairness_grou...</td>\n",
       "      <td>30.987088</td>\n",
       "      <td>89710</td>\n",
       "      <td>1.0</td>\n",
       "      <td>0.040616</td>\n",
       "      <td>0.956054</td>\n",
       "      <td>0.034302</td>\n",
       "      <td>0.963148</td>\n",
       "      <td>...</td>\n",
       "      <td>0.121554</td>\n",
       "      <td>0.144633</td>\n",
       "      <td>0.924224</td>\n",
       "      <td>0.883608</td>\n",
       "      <td>0.018581</td>\n",
       "      <td>0.018709</td>\n",
       "      <td>0.930818</td>\n",
       "      <td>0.896516</td>\n",
       "      <td>20540.0</td>\n",
       "      <td>69170.0</td>\n",
       "    </tr>\n",
       "    <tr>\n",
       "      <th>0</th>\n",
       "      <td>14</td>\n",
       "      <td>e88aa3daea96c6e1a6f9b6a65e8b8c8d</td>\n",
       "      <td>{\"cutoff\": \"quantile_0.25\", \"eval_fairness_gro...</td>\n",
       "      <td>30.987088</td>\n",
       "      <td>89710</td>\n",
       "      <td>1.0</td>\n",
       "      <td>0.091144</td>\n",
       "      <td>0.886665</td>\n",
       "      <td>0.074287</td>\n",
       "      <td>0.909045</td>\n",
       "      <td>...</td>\n",
       "      <td>NaN</td>\n",
       "      <td>NaN</td>\n",
       "      <td>NaN</td>\n",
       "      <td>NaN</td>\n",
       "      <td>NaN</td>\n",
       "      <td>NaN</td>\n",
       "      <td>NaN</td>\n",
       "      <td>NaN</td>\n",
       "      <td>NaN</td>\n",
       "      <td>NaN</td>\n",
       "    </tr>\n",
       "    <tr>\n",
       "      <th>0</th>\n",
       "      <td>14</td>\n",
       "      <td>e88aa3daea96c6e1a6f9b6a65e8b8c8d</td>\n",
       "      <td>{\"cutoff\": \"quantile_0.25\", \"eval_fairness_gro...</td>\n",
       "      <td>30.987088</td>\n",
       "      <td>89710</td>\n",
       "      <td>1.0</td>\n",
       "      <td>0.091144</td>\n",
       "      <td>0.886665</td>\n",
       "      <td>0.074287</td>\n",
       "      <td>0.909045</td>\n",
       "      <td>...</td>\n",
       "      <td>0.128875</td>\n",
       "      <td>0.166504</td>\n",
       "      <td>0.804204</td>\n",
       "      <td>0.713060</td>\n",
       "      <td>0.086993</td>\n",
       "      <td>0.064442</td>\n",
       "      <td>0.816748</td>\n",
       "      <td>0.742461</td>\n",
       "      <td>20540.0</td>\n",
       "      <td>69170.0</td>\n",
       "    </tr>\n",
       "  </tbody>\n",
       "</table>\n",
       "<p>4 rows × 50 columns</p>\n",
       "</div>"
      ],
      "text/plain": [
       "  run_no                       universe_id  \\\n",
       "0     14  e88aa3daea96c6e1a6f9b6a65e8b8c8d   \n",
       "0     14  e88aa3daea96c6e1a6f9b6a65e8b8c8d   \n",
       "0     14  e88aa3daea96c6e1a6f9b6a65e8b8c8d   \n",
       "0     14  e88aa3daea96c6e1a6f9b6a65e8b8c8d   \n",
       "\n",
       "                                   universe_settings  execution_time  \\\n",
       "0  {\"cutoff\": \"quantile_0.1\", \"eval_fairness_grou...       30.987088   \n",
       "0  {\"cutoff\": \"quantile_0.1\", \"eval_fairness_grou...       30.987088   \n",
       "0  {\"cutoff\": \"quantile_0.25\", \"eval_fairness_gro...       30.987088   \n",
       "0  {\"cutoff\": \"quantile_0.25\", \"eval_fairness_gro...       30.987088   \n",
       "\n",
       "   test_size_n  test_size_frac  fair_main_equalized_odds_difference  \\\n",
       "0        89710             1.0                             0.040616   \n",
       "0        89710             1.0                             0.040616   \n",
       "0        89710             1.0                             0.091144   \n",
       "0        89710             1.0                             0.091144   \n",
       "\n",
       "   fair_main_equalized_odds_ratio  fair_main_demographic_parity_difference  \\\n",
       "0                        0.956054                                 0.034302   \n",
       "0                        0.956054                                 0.034302   \n",
       "0                        0.886665                                 0.074287   \n",
       "0                        0.886665                                 0.074287   \n",
       "\n",
       "   fair_main_demographic_parity_ratio  ...  perf_grp_precision_0  \\\n",
       "0                            0.963148  ...                   NaN   \n",
       "0                            0.963148  ...              0.121554   \n",
       "0                            0.909045  ...                   NaN   \n",
       "0                            0.909045  ...              0.128875   \n",
       "\n",
       "   perf_grp_precision_1  perf_grp_false positive rate_0  \\\n",
       "0                   NaN                             NaN   \n",
       "0              0.144633                        0.924224   \n",
       "0                   NaN                             NaN   \n",
       "0              0.166504                        0.804204   \n",
       "\n",
       "   perf_grp_false positive rate_1  perf_grp_false negative rate_0  \\\n",
       "0                             NaN                             NaN   \n",
       "0                        0.883608                        0.018581   \n",
       "0                             NaN                             NaN   \n",
       "0                        0.713060                        0.086993   \n",
       "\n",
       "   perf_grp_false negative rate_1  perf_grp_selection rate_0  \\\n",
       "0                             NaN                        NaN   \n",
       "0                        0.018709                   0.930818   \n",
       "0                             NaN                        NaN   \n",
       "0                        0.064442                   0.816748   \n",
       "\n",
       "   perf_grp_selection rate_1  perf_grp_count_0  perf_grp_count_1  \n",
       "0                        NaN               NaN               NaN  \n",
       "0                   0.896516           20540.0           69170.0  \n",
       "0                        NaN               NaN               NaN  \n",
       "0                   0.742461           20540.0           69170.0  \n",
       "\n",
       "[4 rows x 50 columns]"
      ]
     },
     "execution_count": 79,
     "metadata": {},
     "output_type": "execute_result"
    }
   ],
   "source": [
    "final_output = universe_analysis.generate_final_output(\n",
    "    y_pred_prob=probs_test,\n",
    "    y_test=y_true,\n",
    "    org_test=org_test,\n",
    "    filter_data=filter_sub_universe_data,\n",
    "    cp_metrics_df=cp_metrics_df,\n",
    "    save=True,\n",
    ")\n",
    "final_output"
   ]
  },
  {
   "cell_type": "code",
   "execution_count": null,
   "id": "721ff514-cb11-46f8-b6fc-50392f74b5cb",
   "metadata": {
    "papermill": {
     "duration": 0.028163,
     "end_time": "2025-07-30T21:41:01.989297",
     "exception": false,
     "start_time": "2025-07-30T21:41:01.961134",
     "status": "completed"
    },
    "tags": []
   },
   "outputs": [],
   "source": []
  }
 ],
 "metadata": {
  "celltoolbar": "Tags",
  "kernelspec": {
   "display_name": "Python (CMA Fairness)",
   "language": "python",
   "name": "cma_fair_env"
  },
  "language_info": {
   "codemirror_mode": {
    "name": "ipython",
    "version": 3
   },
   "file_extension": ".py",
   "mimetype": "text/x-python",
   "name": "python",
   "nbconvert_exporter": "python",
   "pygments_lexer": "ipython3",
   "version": "3.10.12"
  },
  "papermill": {
   "default_parameters": {},
   "duration": 47.764462,
   "end_time": "2025-07-30T21:41:02.940825",
   "environment_variables": {},
   "exception": null,
   "input_path": "universe_analysis.ipynb",
   "output_path": "output/runs/14/notebooks/m_14-e88aa3daea96c6e1a6f9b6a65e8b8c8d.ipynb",
   "parameters": {
    "output_dir": "output",
    "run_no": "14",
    "seed": "2023",
    "universe": "{\"cutoff\": [\"quantile_0.1\", \"quantile_0.25\"], \"eval_fairness_grouping\": [\"majority-minority\", \"nationality-all\"], \"exclude_features\": \"sex\", \"exclude_subgroups\": \"drop-non-german\", \"model\": \"rf\", \"scale\": \"do-not-scale\", \"training_size\": \"1k\", \"training_year\": \"2012_14\"}",
    "universe_id": "e88aa3daea96c6e1a6f9b6a65e8b8c8d"
   },
   "start_time": "2025-07-30T21:40:15.176363",
   "version": "2.6.0"
  }
 },
 "nbformat": 4,
 "nbformat_minor": 5
}