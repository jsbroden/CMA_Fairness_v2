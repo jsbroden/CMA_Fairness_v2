{
 "cells": [
  {
   "cell_type": "code",
   "execution_count": 1,
   "id": "f159f837-637b-42ba-96b5-ec9a68c44524",
   "metadata": {
    "execution": {
     "iopub.execute_input": "2025-07-30T21:01:28.702743Z",
     "iopub.status.busy": "2025-07-30T21:01:28.701811Z",
     "iopub.status.idle": "2025-07-30T21:01:28.715878Z",
     "shell.execute_reply": "2025-07-30T21:01:28.714961Z"
    },
    "papermill": {
     "duration": 0.03683,
     "end_time": "2025-07-30T21:01:28.717464",
     "exception": false,
     "start_time": "2025-07-30T21:01:28.680634",
     "status": "completed"
    },
    "tags": []
   },
   "outputs": [
    {
     "name": "stdout",
     "output_type": "stream",
     "text": [
      "/dss/dsshome1/0C/ra93lal2/cma/CMA_Fairness_v2\n"
     ]
    },
    {
     "name": "stderr",
     "output_type": "stream",
     "text": [
      "/dss/dsshome1/0C/ra93lal2/.local/share/virtualenvs/CMA_Fairness_v2-3j10GkSs/lib/python3.10/site-packages/IPython/core/magics/osm.py:393: UserWarning: This is now an optional IPython functionality, using bookmarks requires you to install the `pickleshare` library.\n",
      "  bkms = self.shell.db.get('bookmarks', {})\n",
      "/dss/dsshome1/0C/ra93lal2/.local/share/virtualenvs/CMA_Fairness_v2-3j10GkSs/lib/python3.10/site-packages/IPython/core/magics/osm.py:417: UserWarning: This is now an optional IPython functionality, setting dhist requires you to install the `pickleshare` library.\n",
      "  self.shell.db['dhist'] = compress_dhist(dhist)[-100:]\n"
     ]
    }
   ],
   "source": [
    "%cd ~/cma/CMA_Fairness_v2"
   ]
  },
  {
   "cell_type": "markdown",
   "id": "de2603b9",
   "metadata": {
    "papermill": {
     "duration": 0.020359,
     "end_time": "2025-07-30T21:01:28.759629",
     "exception": false,
     "start_time": "2025-07-30T21:01:28.739270",
     "status": "completed"
    },
    "tags": []
   },
   "source": [
    "The following cell holds the definition of our parameters, these values can be overriden by rendering the with e.g. the following command:\n",
    "\n",
    "papermill -p alpha 0.2 -p ratio 0.3 universe_analysis.ipynb output/test_run.ipynb"
   ]
  },
  {
   "cell_type": "code",
   "execution_count": 2,
   "id": "a80968a0-40bb-4fa9-85ef-2d5eefb01975",
   "metadata": {
    "execution": {
     "iopub.execute_input": "2025-07-30T21:01:28.802210Z",
     "iopub.status.busy": "2025-07-30T21:01:28.801516Z",
     "iopub.status.idle": "2025-07-30T21:01:28.807522Z",
     "shell.execute_reply": "2025-07-30T21:01:28.806572Z"
    },
    "papermill": {
     "duration": 0.035033,
     "end_time": "2025-07-30T21:01:28.814891",
     "exception": false,
     "start_time": "2025-07-30T21:01:28.779858",
     "status": "completed"
    },
    "tags": []
   },
   "outputs": [
    {
     "name": "stdout",
     "output_type": "stream",
     "text": [
      "Current working directory: /dss/dsshome1/0C/ra93lal2/cma/CMA_Fairness_v2\n"
     ]
    }
   ],
   "source": [
    "import os\n",
    "print(\"Current working directory:\", os.getcwd())"
   ]
  },
  {
   "cell_type": "code",
   "execution_count": 3,
   "id": "2dce4c03",
   "metadata": {
    "execution": {
     "iopub.execute_input": "2025-07-30T21:01:28.856895Z",
     "iopub.status.busy": "2025-07-30T21:01:28.855817Z",
     "iopub.status.idle": "2025-07-30T21:01:28.862195Z",
     "shell.execute_reply": "2025-07-30T21:01:28.861217Z"
    },
    "papermill": {
     "duration": 0.029735,
     "end_time": "2025-07-30T21:01:28.863951",
     "exception": false,
     "start_time": "2025-07-30T21:01:28.834216",
     "status": "completed"
    },
    "tags": [
     "parameters"
    ]
   },
   "outputs": [],
   "source": [
    "run_no = 0\n",
    "universe_id = \"test\"\n",
    "universe = {\n",
    "    \"training_size\": \"25k\", # \"25k\", \"5k\", \"1k\"\n",
    "    \"training_year\": \"2014\", # \"2014\", \"2012_14\", \"2010_14\"\n",
    "    \"scale\": \"scale\", # \"scale\", \"do-not-scale\",\n",
    "    #\"stratify_split\": \"target\", # \"none\", \"target\", \"protected-attribute\", \"both\",\n",
    "    \"model\": \"elasticnet\", # \"logreg\", \"penalized_logreg\", \"rf\", \"gbm\", \"elasticnet\"\n",
    "    \"cutoff\": [\"quantile_0.15\", \"quantile_0.30\"],\n",
    "    \"exclude_features\": \"age\", # \"none\", \"nationality\", \"sex\", \"nationality-sex\", \"age\"\n",
    "    \"exclude_subgroups\": \"keep-all\", # \"keep-all\", \"drop-non-german\"\n",
    "    \"eval_fairness_grouping\": [\"majority-minority\", \"nationality-all\"]\n",
    "}\n",
    "\n",
    "output_dir=\"./output\"\n",
    "seed=0"
   ]
  },
  {
   "cell_type": "code",
   "execution_count": 4,
   "id": "881de5d7",
   "metadata": {
    "execution": {
     "iopub.execute_input": "2025-07-30T21:01:28.894472Z",
     "iopub.status.busy": "2025-07-30T21:01:28.894081Z",
     "iopub.status.idle": "2025-07-30T21:01:28.900040Z",
     "shell.execute_reply": "2025-07-30T21:01:28.899058Z"
    },
    "papermill": {
     "duration": 0.019925,
     "end_time": "2025-07-30T21:01:28.901655",
     "exception": false,
     "start_time": "2025-07-30T21:01:28.881730",
     "status": "completed"
    },
    "tags": [
     "injected-parameters"
    ]
   },
   "outputs": [],
   "source": [
    "# Parameters\n",
    "universe_id = \"77ccf370906521224baaf2bf0c594bc7\"\n",
    "run_no = \"14\"\n",
    "universe = \"{\\\"cutoff\\\": [\\\"quantile_0.1\\\", \\\"quantile_0.25\\\"], \\\"eval_fairness_grouping\\\": [\\\"majority-minority\\\", \\\"nationality-all\\\"], \\\"exclude_features\\\": \\\"nationality\\\", \\\"exclude_subgroups\\\": \\\"keep-all\\\", \\\"model\\\": \\\"elasticnet\\\", \\\"scale\\\": \\\"scale\\\", \\\"training_size\\\": \\\"5k\\\", \\\"training_year\\\": \\\"2012_14\\\"}\"\n",
    "output_dir = \"output\"\n",
    "seed = \"2023\"\n"
   ]
  },
  {
   "cell_type": "code",
   "execution_count": 5,
   "id": "1650acaf",
   "metadata": {
    "execution": {
     "iopub.execute_input": "2025-07-30T21:01:28.944486Z",
     "iopub.status.busy": "2025-07-30T21:01:28.943637Z",
     "iopub.status.idle": "2025-07-30T21:01:28.949072Z",
     "shell.execute_reply": "2025-07-30T21:01:28.948016Z"
    },
    "papermill": {
     "duration": 0.029095,
     "end_time": "2025-07-30T21:01:28.950700",
     "exception": false,
     "start_time": "2025-07-30T21:01:28.921605",
     "status": "completed"
    },
    "tags": []
   },
   "outputs": [],
   "source": [
    "import json\n",
    "# Parse universe into dict if it is passed as a string\n",
    "if isinstance(universe, str):\n",
    "    universe = json.loads(universe)"
   ]
  },
  {
   "cell_type": "code",
   "execution_count": 6,
   "id": "16620c48",
   "metadata": {
    "execution": {
     "iopub.execute_input": "2025-07-30T21:01:28.995480Z",
     "iopub.status.busy": "2025-07-30T21:01:28.994568Z",
     "iopub.status.idle": "2025-07-30T21:01:29.042035Z",
     "shell.execute_reply": "2025-07-30T21:01:29.041053Z"
    },
    "papermill": {
     "duration": 0.071649,
     "end_time": "2025-07-30T21:01:29.043966",
     "exception": false,
     "start_time": "2025-07-30T21:01:28.972317",
     "status": "completed"
    },
    "tags": []
   },
   "outputs": [],
   "source": [
    "# Auto-reload the custom package\n",
    "%load_ext autoreload\n",
    "%autoreload 1\n",
    "%aimport fairness_multiverse"
   ]
  },
  {
   "cell_type": "code",
   "execution_count": 7,
   "id": "01c5c9f3",
   "metadata": {
    "execution": {
     "iopub.execute_input": "2025-07-30T21:01:29.090688Z",
     "iopub.status.busy": "2025-07-30T21:01:29.089816Z",
     "iopub.status.idle": "2025-07-30T21:01:30.827062Z",
     "shell.execute_reply": "2025-07-30T21:01:30.825674Z"
    },
    "papermill": {
     "duration": 1.762721,
     "end_time": "2025-07-30T21:01:30.829690",
     "exception": false,
     "start_time": "2025-07-30T21:01:29.066969",
     "status": "completed"
    },
    "tags": []
   },
   "outputs": [],
   "source": [
    "from fairness_multiverse.universe import UniverseAnalysis\n",
    "\n",
    "universe_analysis = UniverseAnalysis(\n",
    "    run_no = run_no,\n",
    "    universe_id = universe_id,\n",
    "    universe = universe,\n",
    "    output_dir=output_dir,\n",
    ")"
   ]
  },
  {
   "cell_type": "code",
   "execution_count": 8,
   "id": "106241f5",
   "metadata": {
    "execution": {
     "iopub.execute_input": "2025-07-30T21:01:30.876198Z",
     "iopub.status.busy": "2025-07-30T21:01:30.875260Z",
     "iopub.status.idle": "2025-07-30T21:01:30.883583Z",
     "shell.execute_reply": "2025-07-30T21:01:30.882324Z"
    },
    "papermill": {
     "duration": 0.032685,
     "end_time": "2025-07-30T21:01:30.885447",
     "exception": false,
     "start_time": "2025-07-30T21:01:30.852762",
     "status": "completed"
    },
    "tags": []
   },
   "outputs": [
    {
     "name": "stdout",
     "output_type": "stream",
     "text": [
      "Using Seed: 2023\n"
     ]
    }
   ],
   "source": [
    "import numpy as np\n",
    "parsed_seed = int(seed)\n",
    "np.random.seed(parsed_seed)\n",
    "print(f\"Using Seed: {parsed_seed}\")"
   ]
  },
  {
   "cell_type": "markdown",
   "id": "e0ebdc57",
   "metadata": {
    "papermill": {
     "duration": 0.021539,
     "end_time": "2025-07-30T21:01:30.931320",
     "exception": false,
     "start_time": "2025-07-30T21:01:30.909781",
     "status": "completed"
    },
    "tags": []
   },
   "source": [
    "# Loading Data"
   ]
  },
  {
   "cell_type": "markdown",
   "id": "681925a3",
   "metadata": {
    "papermill": {
     "duration": 0.022512,
     "end_time": "2025-07-30T21:01:30.974410",
     "exception": false,
     "start_time": "2025-07-30T21:01:30.951898",
     "status": "completed"
    },
    "tags": []
   },
   "source": [
    "Load siab_train, siab_test, siab_calib and/or \n",
    "load siab_train_features, siab_train_labels"
   ]
  },
  {
   "cell_type": "code",
   "execution_count": 9,
   "id": "f0496b8a",
   "metadata": {
    "execution": {
     "iopub.execute_input": "2025-07-30T21:01:31.023027Z",
     "iopub.status.busy": "2025-07-30T21:01:31.021978Z",
     "iopub.status.idle": "2025-07-30T21:01:42.984589Z",
     "shell.execute_reply": "2025-07-30T21:01:42.983429Z"
    },
    "papermill": {
     "duration": 11.98704,
     "end_time": "2025-07-30T21:01:42.986096",
     "exception": false,
     "start_time": "2025-07-30T21:01:30.999056",
     "status": "completed"
    },
    "tags": []
   },
   "outputs": [
    {
     "name": "stdout",
     "output_type": "stream",
     "text": [
      "Loading SIAB data from cache: data/siab_cached.csv.gz\n"
     ]
    },
    {
     "name": "stdout",
     "output_type": "stream",
     "text": [
      "(643690, 164)\n"
     ]
    }
   ],
   "source": [
    "from pathlib import Path\n",
    "import pandas as pd\n",
    "\n",
    "# File paths\n",
    "raw_file = Path(\"data/raw/siab.csv\")\n",
    "cache_file = Path(\"data/siab_cached.csv.gz\")\n",
    "\n",
    "# Ensure cache directory exists\n",
    "cache_file.parent.mkdir(parents=True, exist_ok=True)\n",
    "\n",
    "# Load with simple caching\n",
    "if cache_file.exists():\n",
    "    print(f\"Loading SIAB data from cache: {cache_file}\")\n",
    "    siab = pd.read_csv(cache_file, compression='gzip')\n",
    "else:\n",
    "    print(f\"Cache not found. Reading raw SIAB data: {raw_file}\")\n",
    "    siab = pd.read_csv(raw_file)\n",
    "    siab.to_csv(cache_file, index=False, compression='gzip')\n",
    "    print(f\"Cached SIAB data to: {cache_file}\")\n",
    "\n",
    "# Now use `siab` DataFrame as needed\n",
    "print(siab.shape)"
   ]
  },
  {
   "cell_type": "code",
   "execution_count": 10,
   "id": "db0ca512-5f53-4dba-abdb-a2888bca41ba",
   "metadata": {
    "execution": {
     "iopub.execute_input": "2025-07-30T21:01:43.028010Z",
     "iopub.status.busy": "2025-07-30T21:01:43.027560Z",
     "iopub.status.idle": "2025-07-30T21:01:43.032637Z",
     "shell.execute_reply": "2025-07-30T21:01:43.031654Z"
    },
    "papermill": {
     "duration": 0.026193,
     "end_time": "2025-07-30T21:01:43.034129",
     "exception": false,
     "start_time": "2025-07-30T21:01:43.007936",
     "status": "completed"
    },
    "tags": []
   },
   "outputs": [],
   "source": [
    "#siab"
   ]
  },
  {
   "cell_type": "code",
   "execution_count": 11,
   "id": "a0edb063",
   "metadata": {
    "execution": {
     "iopub.execute_input": "2025-07-30T21:01:43.076269Z",
     "iopub.status.busy": "2025-07-30T21:01:43.075734Z",
     "iopub.status.idle": "2025-07-30T21:01:43.080644Z",
     "shell.execute_reply": "2025-07-30T21:01:43.079710Z"
    },
    "papermill": {
     "duration": 0.027073,
     "end_time": "2025-07-30T21:01:43.082261",
     "exception": false,
     "start_time": "2025-07-30T21:01:43.055188",
     "status": "completed"
    },
    "tags": []
   },
   "outputs": [],
   "source": [
    "#import pandas as pd\n",
    "#\n",
    "#X_train = pd.read_csv(\"./data/X_train.csv\")\n",
    "#y_train = pd.read_csv(\"./data/y_train.csv\")"
   ]
  },
  {
   "cell_type": "code",
   "execution_count": 12,
   "id": "63d08085",
   "metadata": {
    "execution": {
     "iopub.execute_input": "2025-07-30T21:01:43.124165Z",
     "iopub.status.busy": "2025-07-30T21:01:43.123370Z",
     "iopub.status.idle": "2025-07-30T21:01:43.128061Z",
     "shell.execute_reply": "2025-07-30T21:01:43.127166Z"
    },
    "papermill": {
     "duration": 0.027466,
     "end_time": "2025-07-30T21:01:43.129621",
     "exception": false,
     "start_time": "2025-07-30T21:01:43.102155",
     "status": "completed"
    },
    "tags": []
   },
   "outputs": [],
   "source": [
    "#X_test = pd.read_csv(\"./data/X_test.csv\")\n",
    "#y_true = pd.read_csv(\"./data/y_test.csv\")"
   ]
  },
  {
   "cell_type": "code",
   "execution_count": 13,
   "id": "98a8d0fa-1d3d-4ed8-bb2c-281470e24add",
   "metadata": {
    "execution": {
     "iopub.execute_input": "2025-07-30T21:01:43.170761Z",
     "iopub.status.busy": "2025-07-30T21:01:43.170080Z",
     "iopub.status.idle": "2025-07-30T21:01:43.174825Z",
     "shell.execute_reply": "2025-07-30T21:01:43.173940Z"
    },
    "papermill": {
     "duration": 0.026819,
     "end_time": "2025-07-30T21:01:43.176430",
     "exception": false,
     "start_time": "2025-07-30T21:01:43.149611",
     "status": "completed"
    },
    "tags": []
   },
   "outputs": [],
   "source": [
    "# Calibration data for conformal\n",
    "#X_calib = pd.read_csv(\"./data/X_calib.csv\")\n",
    "#y_calib = pd.read_csv(\"./data/y_calib.csv\")"
   ]
  },
  {
   "cell_type": "markdown",
   "id": "997051c5-15bd-4b69-9786-c3001a3ce484",
   "metadata": {
    "papermill": {
     "duration": 0.018832,
     "end_time": "2025-07-30T21:01:43.214626",
     "exception": false,
     "start_time": "2025-07-30T21:01:43.195794",
     "status": "completed"
    },
    "tags": []
   },
   "source": [
    "# Splitting Data and Setting Training Data Size"
   ]
  },
  {
   "cell_type": "code",
   "execution_count": 14,
   "id": "e993b61f-042d-41a6-8c81-f55681f86335",
   "metadata": {
    "execution": {
     "iopub.execute_input": "2025-07-30T21:01:43.255331Z",
     "iopub.status.busy": "2025-07-30T21:01:43.254613Z",
     "iopub.status.idle": "2025-07-30T21:01:43.266772Z",
     "shell.execute_reply": "2025-07-30T21:01:43.265976Z"
    },
    "papermill": {
     "duration": 0.03365,
     "end_time": "2025-07-30T21:01:43.268411",
     "exception": false,
     "start_time": "2025-07-30T21:01:43.234761",
     "status": "completed"
    },
    "tags": []
   },
   "outputs": [],
   "source": [
    "def sample_by_year_size(df,\n",
    "                        training_year: str,\n",
    "                        training_size: str,\n",
    "                        random_state: int = 42):\n",
    "    # --- parse training_year into a list of int years ---\n",
    "    if \"_\" in training_year:\n",
    "        start_str, end_str = training_year.split(\"_\", 1)\n",
    "        start = int(start_str)\n",
    "        end   = int(end_str) if len(end_str) == 4 else (int(end_str) + (start // 100)*100)\n",
    "        years = list(range(start, end + 1))\n",
    "    else:\n",
    "        years = [int(training_year)]\n",
    "\n",
    "    df = df[df[\"year\"].isin(years)].reset_index(drop=True)\n",
    "\n",
    "    # --- map training_size to total number of samples ---\n",
    "    total_map = {\"25k\": 25_000, \"5k\": 5_000, \"1k\": 1_000}\n",
    "    if training_size not in total_map:\n",
    "        return df  # e.g. \"all\"\n",
    "\n",
    "    total_samples = total_map[training_size]\n",
    "    n_years       = len(years)\n",
    "    base          = total_samples // n_years\n",
    "    remainder     = total_samples % n_years\n",
    "\n",
    "    # --- build a dict: year -> how many to sample ---\n",
    "    # give +1 to the first `remainder` years in ascending order\n",
    "    quotas = {\n",
    "        year: base + (1 if idx < remainder else 0)\n",
    "        for idx, year in enumerate(sorted(years))\n",
    "    }\n",
    "\n",
    "    # --- sample per‐year according to the quota dict ---\n",
    "    sampled = (\n",
    "        df\n",
    "        .groupby(\"year\", group_keys=False)\n",
    "        .apply(lambda grp: grp.sample(\n",
    "            n=min(len(grp), quotas[grp.name]),\n",
    "            random_state=random_state))\n",
    "        .reset_index(drop=True)\n",
    "    )\n",
    "\n",
    "    return sampled"
   ]
  },
  {
   "cell_type": "code",
   "execution_count": 15,
   "id": "c0ccd338-0e02-41f3-a09d-f56f9266e3fb",
   "metadata": {
    "execution": {
     "iopub.execute_input": "2025-07-30T21:01:43.308933Z",
     "iopub.status.busy": "2025-07-30T21:01:43.308248Z",
     "iopub.status.idle": "2025-07-30T21:01:43.312651Z",
     "shell.execute_reply": "2025-07-30T21:01:43.311836Z"
    },
    "papermill": {
     "duration": 0.025409,
     "end_time": "2025-07-30T21:01:43.314245",
     "exception": false,
     "start_time": "2025-07-30T21:01:43.288836",
     "status": "completed"
    },
    "tags": []
   },
   "outputs": [],
   "source": [
    "#universe[\"training_size\"]"
   ]
  },
  {
   "cell_type": "code",
   "execution_count": 16,
   "id": "ca707fd7-8047-4acd-bfa5-66248fbbf8e6",
   "metadata": {
    "execution": {
     "iopub.execute_input": "2025-07-30T21:01:43.354426Z",
     "iopub.status.busy": "2025-07-30T21:01:43.353617Z",
     "iopub.status.idle": "2025-07-30T21:01:43.358194Z",
     "shell.execute_reply": "2025-07-30T21:01:43.357293Z"
    },
    "papermill": {
     "duration": 0.026163,
     "end_time": "2025-07-30T21:01:43.359764",
     "exception": false,
     "start_time": "2025-07-30T21:01:43.333601",
     "status": "completed"
    },
    "tags": []
   },
   "outputs": [],
   "source": [
    "#universe[\"training_year\"]"
   ]
  },
  {
   "cell_type": "code",
   "execution_count": 17,
   "id": "aea9c6ef-6f46-42c8-85eb-5a62025c1508",
   "metadata": {
    "execution": {
     "iopub.execute_input": "2025-07-30T21:01:43.410550Z",
     "iopub.status.busy": "2025-07-30T21:01:43.409690Z",
     "iopub.status.idle": "2025-07-30T21:01:44.020488Z",
     "shell.execute_reply": "2025-07-30T21:01:44.019469Z"
    },
    "papermill": {
     "duration": 0.640334,
     "end_time": "2025-07-30T21:01:44.022511",
     "exception": false,
     "start_time": "2025-07-30T21:01:43.382177",
     "status": "completed"
    },
    "tags": []
   },
   "outputs": [],
   "source": [
    "siab_train = sample_by_year_size(siab,\n",
    "                               training_year=universe[\"training_year\"],\n",
    "                               training_size=universe[\"training_size\"])"
   ]
  },
  {
   "cell_type": "code",
   "execution_count": 18,
   "id": "8d3afb32-789d-442c-8d5d-9f5aa8dd2eed",
   "metadata": {
    "execution": {
     "iopub.execute_input": "2025-07-30T21:01:44.071290Z",
     "iopub.status.busy": "2025-07-30T21:01:44.070803Z",
     "iopub.status.idle": "2025-07-30T21:01:44.075360Z",
     "shell.execute_reply": "2025-07-30T21:01:44.074588Z"
    },
    "papermill": {
     "duration": 0.030259,
     "end_time": "2025-07-30T21:01:44.076886",
     "exception": false,
     "start_time": "2025-07-30T21:01:44.046627",
     "status": "completed"
    },
    "tags": []
   },
   "outputs": [],
   "source": [
    "#siab_train.shape"
   ]
  },
  {
   "cell_type": "code",
   "execution_count": 19,
   "id": "d582db68-1a4c-47fb-84fc-08518dc1975a",
   "metadata": {
    "execution": {
     "iopub.execute_input": "2025-07-30T21:01:44.101206Z",
     "iopub.status.busy": "2025-07-30T21:01:44.100666Z",
     "iopub.status.idle": "2025-07-30T21:01:44.104694Z",
     "shell.execute_reply": "2025-07-30T21:01:44.103937Z"
    },
    "papermill": {
     "duration": 0.017181,
     "end_time": "2025-07-30T21:01:44.105934",
     "exception": false,
     "start_time": "2025-07-30T21:01:44.088753",
     "status": "completed"
    },
    "tags": []
   },
   "outputs": [],
   "source": [
    "#display(siab_train.groupby(\"year\").size())"
   ]
  },
  {
   "cell_type": "code",
   "execution_count": 20,
   "id": "a561edb4-d032-42cb-8256-22eac1111c64",
   "metadata": {
    "execution": {
     "iopub.execute_input": "2025-07-30T21:01:44.128911Z",
     "iopub.status.busy": "2025-07-30T21:01:44.128245Z",
     "iopub.status.idle": "2025-07-30T21:01:44.388911Z",
     "shell.execute_reply": "2025-07-30T21:01:44.387989Z"
    },
    "papermill": {
     "duration": 0.273474,
     "end_time": "2025-07-30T21:01:44.390415",
     "exception": false,
     "start_time": "2025-07-30T21:01:44.116941",
     "status": "completed"
    },
    "tags": []
   },
   "outputs": [],
   "source": [
    "#siab_train = siab_s[siab_s.year < 2015]\n",
    "siab_calib = siab[siab.year == 2015]\n",
    "siab_test = siab[siab.year == 2016]"
   ]
  },
  {
   "cell_type": "code",
   "execution_count": 21,
   "id": "472de16f-c3db-4916-846b-1f0de9cf1746",
   "metadata": {
    "execution": {
     "iopub.execute_input": "2025-07-30T21:01:44.436640Z",
     "iopub.status.busy": "2025-07-30T21:01:44.436104Z",
     "iopub.status.idle": "2025-07-30T21:01:44.445062Z",
     "shell.execute_reply": "2025-07-30T21:01:44.443920Z"
    },
    "papermill": {
     "duration": 0.03504,
     "end_time": "2025-07-30T21:01:44.446788",
     "exception": false,
     "start_time": "2025-07-30T21:01:44.411748",
     "status": "completed"
    },
    "tags": []
   },
   "outputs": [],
   "source": [
    "X_train = siab_train.iloc[:,4:164]\n",
    "y_train = siab_train.iloc[:, [3]]"
   ]
  },
  {
   "cell_type": "code",
   "execution_count": 22,
   "id": "828c96af-f43a-4ed6-ba47-8ac73a47d56c",
   "metadata": {
    "execution": {
     "iopub.execute_input": "2025-07-30T21:01:44.493495Z",
     "iopub.status.busy": "2025-07-30T21:01:44.493040Z",
     "iopub.status.idle": "2025-07-30T21:01:44.545505Z",
     "shell.execute_reply": "2025-07-30T21:01:44.544449Z"
    },
    "papermill": {
     "duration": 0.079285,
     "end_time": "2025-07-30T21:01:44.547239",
     "exception": false,
     "start_time": "2025-07-30T21:01:44.467954",
     "status": "completed"
    },
    "tags": []
   },
   "outputs": [],
   "source": [
    "X_calib = siab_calib.iloc[:,4:164]\n",
    "y_calib = siab_calib.iloc[:, [3]]"
   ]
  },
  {
   "cell_type": "code",
   "execution_count": 23,
   "id": "c34be9c3-6bd6-476e-acd3-845840e303be",
   "metadata": {
    "execution": {
     "iopub.execute_input": "2025-07-30T21:01:44.596580Z",
     "iopub.status.busy": "2025-07-30T21:01:44.595944Z",
     "iopub.status.idle": "2025-07-30T21:01:44.646573Z",
     "shell.execute_reply": "2025-07-30T21:01:44.645481Z"
    },
    "papermill": {
     "duration": 0.076526,
     "end_time": "2025-07-30T21:01:44.648344",
     "exception": false,
     "start_time": "2025-07-30T21:01:44.571818",
     "status": "completed"
    },
    "tags": []
   },
   "outputs": [],
   "source": [
    "X_test = siab_test.iloc[:,4:164]\n",
    "y_true = siab_test.iloc[:, [3]]"
   ]
  },
  {
   "cell_type": "markdown",
   "id": "9901737e-04df-44f0-9100-f5ad144ed040",
   "metadata": {
    "papermill": {
     "duration": 0.023519,
     "end_time": "2025-07-30T21:01:44.696575",
     "exception": false,
     "start_time": "2025-07-30T21:01:44.673056",
     "status": "completed"
    },
    "tags": []
   },
   "source": [
    "# Splitting Data and Setting Training Data Size OLD VERSION"
   ]
  },
  {
   "cell_type": "code",
   "execution_count": 24,
   "id": "acbc8f7d-8fc8-4e86-8c59-5dcb0f58384b",
   "metadata": {
    "execution": {
     "iopub.execute_input": "2025-07-30T21:01:44.745893Z",
     "iopub.status.busy": "2025-07-30T21:01:44.745241Z",
     "iopub.status.idle": "2025-07-30T21:01:44.750502Z",
     "shell.execute_reply": "2025-07-30T21:01:44.749591Z"
    },
    "papermill": {
     "duration": 0.032275,
     "end_time": "2025-07-30T21:01:44.752193",
     "exception": false,
     "start_time": "2025-07-30T21:01:44.719918",
     "status": "completed"
    },
    "tags": []
   },
   "outputs": [],
   "source": [
    "#def sample_by_year(df, training_size, random_state=42):\n",
    "#    if training_size == \"2014\":\n",
    "#        return df[df[\"year\"] == 2014].reset_index(drop=True)\n",
    "#    \n",
    "#    size_map = {\n",
    "#        \"25k\": 5000,\n",
    "#        \"5k\": 1000,\n",
    "#        \"1k\": 200\n",
    "#    }\n",
    "#\n",
    "#    if training_size not in size_map:\n",
    "#        return df.reset_index(drop=True)  # use all data\n",
    "#\n",
    "#    n_per_year = size_map[training_size]\n",
    "#    grouped = df.groupby(\"year\")\n",
    "#    sampled = grouped.apply(lambda x: x.sample(n=min(n_per_year, len(x)), random_state=random_state))\n",
    "#    return sampled.reset_index(drop=True)"
   ]
  },
  {
   "cell_type": "code",
   "execution_count": 25,
   "id": "6d931f52-beaf-43ff-9e78-9d44a448d54e",
   "metadata": {
    "execution": {
     "iopub.execute_input": "2025-07-30T21:01:44.800024Z",
     "iopub.status.busy": "2025-07-30T21:01:44.799326Z",
     "iopub.status.idle": "2025-07-30T21:01:44.804125Z",
     "shell.execute_reply": "2025-07-30T21:01:44.803129Z"
    },
    "papermill": {
     "duration": 0.029961,
     "end_time": "2025-07-30T21:01:44.805846",
     "exception": false,
     "start_time": "2025-07-30T21:01:44.775885",
     "status": "completed"
    },
    "tags": []
   },
   "outputs": [],
   "source": [
    "#siab_s = sample_by_year(siab, universe[\"training_size\"])"
   ]
  },
  {
   "cell_type": "code",
   "execution_count": 26,
   "id": "5db0a40e-a4e2-4920-be85-b12ae061d70d",
   "metadata": {
    "execution": {
     "iopub.execute_input": "2025-07-30T21:01:44.853296Z",
     "iopub.status.busy": "2025-07-30T21:01:44.852579Z",
     "iopub.status.idle": "2025-07-30T21:01:44.857500Z",
     "shell.execute_reply": "2025-07-30T21:01:44.856650Z"
    },
    "papermill": {
     "duration": 0.030438,
     "end_time": "2025-07-30T21:01:44.859086",
     "exception": false,
     "start_time": "2025-07-30T21:01:44.828648",
     "status": "completed"
    },
    "tags": []
   },
   "outputs": [],
   "source": [
    "#display(siab_s.groupby(\"year\").size())"
   ]
  },
  {
   "cell_type": "code",
   "execution_count": 27,
   "id": "e6c733c5",
   "metadata": {
    "execution": {
     "iopub.execute_input": "2025-07-30T21:01:44.908749Z",
     "iopub.status.busy": "2025-07-30T21:01:44.907895Z",
     "iopub.status.idle": "2025-07-30T21:01:45.012924Z",
     "shell.execute_reply": "2025-07-30T21:01:45.011788Z"
    },
    "papermill": {
     "duration": 0.132079,
     "end_time": "2025-07-30T21:01:45.014942",
     "exception": false,
     "start_time": "2025-07-30T21:01:44.882863",
     "status": "completed"
    },
    "tags": []
   },
   "outputs": [],
   "source": [
    "# Auxiliary data needed downstream in the pipeline\n",
    "\n",
    "org_train = X_train.copy()\n",
    "org_test = X_test.copy()\n",
    "org_calib = X_calib.copy()"
   ]
  },
  {
   "cell_type": "code",
   "execution_count": 28,
   "id": "1466abac-c6da-4492-a62f-4240ae3783af",
   "metadata": {
    "execution": {
     "iopub.execute_input": "2025-07-30T21:01:45.061990Z",
     "iopub.status.busy": "2025-07-30T21:01:45.061276Z",
     "iopub.status.idle": "2025-07-30T21:01:45.068479Z",
     "shell.execute_reply": "2025-07-30T21:01:45.066192Z"
    },
    "papermill": {
     "duration": 0.029667,
     "end_time": "2025-07-30T21:01:45.070110",
     "exception": false,
     "start_time": "2025-07-30T21:01:45.040443",
     "status": "completed"
    },
    "tags": []
   },
   "outputs": [],
   "source": [
    "# put in other script?\n",
    "# Group sizes\n",
    "\n",
    "#def calculate_percentages(df, df_name):\n",
    "#    total_entries = len(df)\n",
    "#\n",
    "#    female_pct = (df['frau1'] == 1).mean() * 100\n",
    "#    non_german_pct = ((df['maxdeutsch1'] == 0) & (df['maxdeutsch.Missing.'] == 0)).mean() * 100\n",
    "#    non_german_male_pct = ((df['frau1'] == 0) & (df['maxdeutsch1'] == 0) & (df['maxdeutsch.Missing.'] == 0)).mean() * 100\n",
    "#    non_german_female_pct = ((df['frau1'] == 1) & (df['maxdeutsch1'] == 0) & (df['maxdeutsch.Missing.'] == 0)).mean() * 100\n",
    "#\n",
    "#    print(f\"--- {df_name} ---\")\n",
    "#    print(f\"Female: {female_pct:.2f}%\")\n",
    "#    print(f\"Non-German: {non_german_pct:.2f}%\")\n",
    "#    print(f\"Non-German Male: {non_german_male_pct:.2f}%\")\n",
    "#    print(f\"Non-German Female: {non_german_female_pct:.2f}%\\n\")\n",
    "#\n",
    "## Calculate for each DataFrame\n",
    "#calculate_percentages(siab_calib, \"siab_calib\")\n",
    "#calculate_percentages(siab_test, \"siab_test\")\n",
    "#calculate_percentages(siab_train, \"siab_train\")"
   ]
  },
  {
   "cell_type": "markdown",
   "id": "0a4a1b33",
   "metadata": {
    "papermill": {
     "duration": 0.019707,
     "end_time": "2025-07-30T21:01:45.110641",
     "exception": false,
     "start_time": "2025-07-30T21:01:45.090934",
     "status": "completed"
    },
    "tags": []
   },
   "source": [
    "# Preprocessing Data"
   ]
  },
  {
   "cell_type": "code",
   "execution_count": 29,
   "id": "ca879031",
   "metadata": {
    "execution": {
     "iopub.execute_input": "2025-07-30T21:01:45.151744Z",
     "iopub.status.busy": "2025-07-30T21:01:45.150944Z",
     "iopub.status.idle": "2025-07-30T21:01:45.157318Z",
     "shell.execute_reply": "2025-07-30T21:01:45.156302Z"
    },
    "papermill": {
     "duration": 0.028604,
     "end_time": "2025-07-30T21:01:45.158955",
     "exception": false,
     "start_time": "2025-07-30T21:01:45.130351",
     "status": "completed"
    },
    "tags": []
   },
   "outputs": [],
   "source": [
    "# EXCLUDE PROTECTED FEATURES\n",
    "# ----------------------\n",
    "# \"exclude_features\": \"none\", # \"nationality\", \"sex\", \"nationality-sex\"\n",
    "\n",
    "excluded_features = universe[\"exclude_features\"].split(\"-\") # split, e.g.: \"nationality-sex\" -> [\"nationality\", \"sex\"]\n",
    "excluded_features_dictionary = {\n",
    "    \"nationality\": [\"maxdeutsch1\", \"maxdeutsch.Missing.\"],\n",
    "    \"sex\": [\"frau1\"],\n",
    "    \"age\": [\"age\"],\n",
    "}\n"
   ]
  },
  {
   "cell_type": "code",
   "execution_count": 30,
   "id": "b745ac60",
   "metadata": {
    "execution": {
     "iopub.execute_input": "2025-07-30T21:01:45.200675Z",
     "iopub.status.busy": "2025-07-30T21:01:45.200201Z",
     "iopub.status.idle": "2025-07-30T21:01:45.205313Z",
     "shell.execute_reply": "2025-07-30T21:01:45.204455Z"
    },
    "papermill": {
     "duration": 0.028091,
     "end_time": "2025-07-30T21:01:45.206981",
     "exception": false,
     "start_time": "2025-07-30T21:01:45.178890",
     "status": "completed"
    },
    "tags": []
   },
   "outputs": [],
   "source": [
    "# Code nice names to column names\n",
    "\n",
    "excluded_features_columns = [\n",
    "    excluded_features_dictionary[f] for f in excluded_features if len(f) > 0 and f != \"none\"\n",
    "]"
   ]
  },
  {
   "cell_type": "code",
   "execution_count": 31,
   "id": "f84f73a2",
   "metadata": {
    "execution": {
     "iopub.execute_input": "2025-07-30T21:01:45.248714Z",
     "iopub.status.busy": "2025-07-30T21:01:45.248301Z",
     "iopub.status.idle": "2025-07-30T21:01:45.253737Z",
     "shell.execute_reply": "2025-07-30T21:01:45.252967Z"
    },
    "papermill": {
     "duration": 0.027648,
     "end_time": "2025-07-30T21:01:45.255185",
     "exception": false,
     "start_time": "2025-07-30T21:01:45.227537",
     "status": "completed"
    },
    "tags": []
   },
   "outputs": [],
   "source": [
    "from utils import flatten_once\n",
    "\n",
    "excluded_features_columns = flatten_once(excluded_features_columns)"
   ]
  },
  {
   "cell_type": "code",
   "execution_count": 32,
   "id": "884dea22",
   "metadata": {
    "execution": {
     "iopub.execute_input": "2025-07-30T21:01:45.300842Z",
     "iopub.status.busy": "2025-07-30T21:01:45.300143Z",
     "iopub.status.idle": "2025-07-30T21:01:45.309109Z",
     "shell.execute_reply": "2025-07-30T21:01:45.308078Z"
    },
    "papermill": {
     "duration": 0.03122,
     "end_time": "2025-07-30T21:01:45.310566",
     "exception": false,
     "start_time": "2025-07-30T21:01:45.279346",
     "status": "completed"
    },
    "tags": []
   },
   "outputs": [
    {
     "name": "stdout",
     "output_type": "stream",
     "text": [
      "Dropping features: ['maxdeutsch1', 'maxdeutsch.Missing.']\n"
     ]
    }
   ],
   "source": [
    "if len(excluded_features_columns) > 0:\n",
    "    print(f\"Dropping features: {excluded_features_columns}\")\n",
    "    X_train.drop(excluded_features_columns, axis=1, inplace=True)"
   ]
  },
  {
   "cell_type": "code",
   "execution_count": 33,
   "id": "95ab8b16",
   "metadata": {
    "execution": {
     "iopub.execute_input": "2025-07-30T21:01:45.352775Z",
     "iopub.status.busy": "2025-07-30T21:01:45.352141Z",
     "iopub.status.idle": "2025-07-30T21:01:45.402900Z",
     "shell.execute_reply": "2025-07-30T21:01:45.401988Z"
    },
    "papermill": {
     "duration": 0.073497,
     "end_time": "2025-07-30T21:01:45.404564",
     "exception": false,
     "start_time": "2025-07-30T21:01:45.331067",
     "status": "completed"
    },
    "tags": []
   },
   "outputs": [
    {
     "name": "stdout",
     "output_type": "stream",
     "text": [
      "Dropping features: ['maxdeutsch1', 'maxdeutsch.Missing.']\n"
     ]
    }
   ],
   "source": [
    "if len(excluded_features_columns) > 0:\n",
    "    print(f\"Dropping features: {excluded_features_columns}\")\n",
    "    X_test.drop(excluded_features_columns, axis=1, inplace=True)"
   ]
  },
  {
   "cell_type": "code",
   "execution_count": 34,
   "id": "1853aaf5-fb9f-46cb-a2b5-8ea4ae2237e4",
   "metadata": {
    "execution": {
     "iopub.execute_input": "2025-07-30T21:01:45.447716Z",
     "iopub.status.busy": "2025-07-30T21:01:45.446943Z",
     "iopub.status.idle": "2025-07-30T21:01:45.495701Z",
     "shell.execute_reply": "2025-07-30T21:01:45.494716Z"
    },
    "papermill": {
     "duration": 0.07141,
     "end_time": "2025-07-30T21:01:45.497191",
     "exception": false,
     "start_time": "2025-07-30T21:01:45.425781",
     "status": "completed"
    },
    "tags": []
   },
   "outputs": [
    {
     "name": "stdout",
     "output_type": "stream",
     "text": [
      "Dropping features: ['maxdeutsch1', 'maxdeutsch.Missing.']\n"
     ]
    }
   ],
   "source": [
    "if len(excluded_features_columns) > 0:\n",
    "    print(f\"Dropping features: {excluded_features_columns}\")\n",
    "    X_calib.drop(excluded_features_columns, axis=1, inplace=True)"
   ]
  },
  {
   "cell_type": "code",
   "execution_count": 35,
   "id": "6727d079-03e5-481e-9d38-292a90b7a0a8",
   "metadata": {
    "execution": {
     "iopub.execute_input": "2025-07-30T21:01:45.540805Z",
     "iopub.status.busy": "2025-07-30T21:01:45.540215Z",
     "iopub.status.idle": "2025-07-30T21:01:45.545001Z",
     "shell.execute_reply": "2025-07-30T21:01:45.544182Z"
    },
    "papermill": {
     "duration": 0.027364,
     "end_time": "2025-07-30T21:01:45.546458",
     "exception": false,
     "start_time": "2025-07-30T21:01:45.519094",
     "status": "completed"
    },
    "tags": []
   },
   "outputs": [],
   "source": [
    "# SPLIT & STRATIFY DATA\n",
    "# ----------------------"
   ]
  },
  {
   "cell_type": "code",
   "execution_count": 36,
   "id": "76c4dc6d",
   "metadata": {
    "execution": {
     "iopub.execute_input": "2025-07-30T21:01:45.589103Z",
     "iopub.status.busy": "2025-07-30T21:01:45.588346Z",
     "iopub.status.idle": "2025-07-30T21:01:45.593445Z",
     "shell.execute_reply": "2025-07-30T21:01:45.592605Z"
    },
    "papermill": {
     "duration": 0.027978,
     "end_time": "2025-07-30T21:01:45.595076",
     "exception": false,
     "start_time": "2025-07-30T21:01:45.567098",
     "status": "completed"
    },
    "tags": []
   },
   "outputs": [],
   "source": [
    "# EXCLUDE CERTAIN SUBGROUPS\n",
    "# ----------------------\n",
    "\n",
    "mode = universe.get(\"exclude_subgroups\", \"keep-all\") \n",
    "# Fetches the exclude_subgroups setting from the universe dict.\n",
    "# Defaults to \"keep-all\" if the key is missing."
   ]
  },
  {
   "cell_type": "code",
   "execution_count": 37,
   "id": "21994072",
   "metadata": {
    "execution": {
     "iopub.execute_input": "2025-07-30T21:01:45.637617Z",
     "iopub.status.busy": "2025-07-30T21:01:45.636819Z",
     "iopub.status.idle": "2025-07-30T21:01:45.642944Z",
     "shell.execute_reply": "2025-07-30T21:01:45.642122Z"
    },
    "papermill": {
     "duration": 0.028741,
     "end_time": "2025-07-30T21:01:45.644398",
     "exception": false,
     "start_time": "2025-07-30T21:01:45.615657",
     "status": "completed"
    },
    "tags": []
   },
   "outputs": [],
   "source": [
    "if mode == \"keep-all\":\n",
    "    keep_mask = pd.Series(True, index=org_train.index)\n",
    "\n",
    "# org_train contains the original feature columns from features_org (in Simson)\n",
    "# features_org contains unprocessed features, for me X_train at beginning ???\n",
    "# For keep-all, creates a boolean Series (keep_mask) of all True, so no rows are removed.\n",
    "\n",
    "elif mode == \"drop-non-german\":\n",
    "    keep_mask = org_train[\"maxdeutsch1\"] == 1 # ??? what about missing values?\n",
    "\n",
    "else:\n",
    "    raise ValueError(f\"Unsupported mode for exclude_subgroups: {mode}\")\n"
   ]
  },
  {
   "cell_type": "code",
   "execution_count": 38,
   "id": "71651440",
   "metadata": {
    "execution": {
     "iopub.execute_input": "2025-07-30T21:01:45.688588Z",
     "iopub.status.busy": "2025-07-30T21:01:45.687415Z",
     "iopub.status.idle": "2025-07-30T21:01:45.695020Z",
     "shell.execute_reply": "2025-07-30T21:01:45.694015Z"
    },
    "papermill": {
     "duration": 0.031681,
     "end_time": "2025-07-30T21:01:45.696760",
     "exception": false,
     "start_time": "2025-07-30T21:01:45.665079",
     "status": "completed"
    },
    "tags": []
   },
   "outputs": [],
   "source": [
    "n_drop = (~keep_mask).sum() # Calculates how many rows are set to be dropped\n",
    "if n_drop > 0:\n",
    "    pct = n_drop / len(keep_mask) * 100\n",
    "    print(f\"Dropping {n_drop} rows ({pct:.2f}%) where mode='{mode}'\")"
   ]
  },
  {
   "cell_type": "code",
   "execution_count": 39,
   "id": "5fb8eee5",
   "metadata": {
    "execution": {
     "iopub.execute_input": "2025-07-30T21:01:45.741699Z",
     "iopub.status.busy": "2025-07-30T21:01:45.741054Z",
     "iopub.status.idle": "2025-07-30T21:01:45.748727Z",
     "shell.execute_reply": "2025-07-30T21:01:45.747912Z"
    },
    "papermill": {
     "duration": 0.031664,
     "end_time": "2025-07-30T21:01:45.750278",
     "exception": false,
     "start_time": "2025-07-30T21:01:45.718614",
     "status": "completed"
    },
    "tags": []
   },
   "outputs": [],
   "source": [
    "X_train = X_train[keep_mask]"
   ]
  },
  {
   "cell_type": "code",
   "execution_count": 40,
   "id": "b202bb3a",
   "metadata": {
    "execution": {
     "iopub.execute_input": "2025-07-30T21:01:45.793843Z",
     "iopub.status.busy": "2025-07-30T21:01:45.793088Z",
     "iopub.status.idle": "2025-07-30T21:01:45.798711Z",
     "shell.execute_reply": "2025-07-30T21:01:45.797886Z"
    },
    "papermill": {
     "duration": 0.028617,
     "end_time": "2025-07-30T21:01:45.800140",
     "exception": false,
     "start_time": "2025-07-30T21:01:45.771523",
     "status": "completed"
    },
    "tags": []
   },
   "outputs": [],
   "source": [
    "y_train = y_train[keep_mask]"
   ]
  },
  {
   "cell_type": "markdown",
   "id": "493e2ac3",
   "metadata": {
    "papermill": {
     "duration": 0.020647,
     "end_time": "2025-07-30T21:01:45.841681",
     "exception": false,
     "start_time": "2025-07-30T21:01:45.821034",
     "status": "completed"
    },
    "tags": []
   },
   "source": [
    "# Model Training"
   ]
  },
  {
   "cell_type": "code",
   "execution_count": 41,
   "id": "679e1268",
   "metadata": {
    "execution": {
     "iopub.execute_input": "2025-07-30T21:01:45.885033Z",
     "iopub.status.busy": "2025-07-30T21:01:45.884506Z",
     "iopub.status.idle": "2025-07-30T21:01:45.984782Z",
     "shell.execute_reply": "2025-07-30T21:01:45.983860Z"
    },
    "papermill": {
     "duration": 0.123991,
     "end_time": "2025-07-30T21:01:45.986596",
     "exception": false,
     "start_time": "2025-07-30T21:01:45.862605",
     "status": "completed"
    },
    "tags": []
   },
   "outputs": [],
   "source": [
    "from sklearn.linear_model import LogisticRegression\n",
    "from sklearn.ensemble import GradientBoostingClassifier, RandomForestClassifier\n",
    "\n",
    "if (universe[\"model\"] == \"logreg\"):\n",
    "    model = LogisticRegression() #penalty=\"none\") #, solver=\"newton-cg\", max_iter=1) # include random_state=19 ?\n",
    "elif (universe[\"model\"] == \"penalized_logreg\"):\n",
    "    model = LogisticRegression(penalty=\"l2\", C=1.0) #, solver=\"newton-cg\", max_iter=1)\n",
    "elif (universe[\"model\"] == \"rf\"):\n",
    "    model = RandomForestClassifier(n_estimators=100, n_jobs=-1)\n",
    "elif (universe[\"model\"] == \"gbm\"):\n",
    "    model = GradientBoostingClassifier()\n",
    "elif (universe[\"model\"] == \"elasticnet\"):\n",
    "    model = LogisticRegression(penalty = 'elasticnet', solver = 'saga', l1_ratio = 0.5, max_iter=5000) # which solver to use?\n",
    "else:\n",
    "    raise \"Unsupported universe.model\""
   ]
  },
  {
   "cell_type": "code",
   "execution_count": 42,
   "id": "0cc8f744",
   "metadata": {
    "execution": {
     "iopub.execute_input": "2025-07-30T21:01:46.039295Z",
     "iopub.status.busy": "2025-07-30T21:01:46.038368Z",
     "iopub.status.idle": "2025-07-30T21:01:46.044462Z",
     "shell.execute_reply": "2025-07-30T21:01:46.043625Z"
    },
    "papermill": {
     "duration": 0.036489,
     "end_time": "2025-07-30T21:01:46.045960",
     "exception": false,
     "start_time": "2025-07-30T21:01:46.009471",
     "status": "completed"
    },
    "tags": []
   },
   "outputs": [],
   "source": [
    "import numpy as np\n",
    "from sklearn.pipeline import Pipeline\n",
    "from sklearn.preprocessing import StandardScaler\n",
    "\n",
    "model = Pipeline([\n",
    "    #(\"continuous_processor\", continuous_processor),\n",
    "    #(\"categorical_preprocessor\", categorical_preprocessor),\n",
    "    (\"scale\", StandardScaler() if universe[\"scale\"] == \"scale\" else None), \n",
    "    (\"model\", model),\n",
    "])"
   ]
  },
  {
   "cell_type": "code",
   "execution_count": 43,
   "id": "9442c04d",
   "metadata": {
    "execution": {
     "iopub.execute_input": "2025-07-30T21:01:46.092521Z",
     "iopub.status.busy": "2025-07-30T21:01:46.092076Z",
     "iopub.status.idle": "2025-07-30T21:01:58.922317Z",
     "shell.execute_reply": "2025-07-30T21:01:58.921211Z"
    },
    "papermill": {
     "duration": 12.854961,
     "end_time": "2025-07-30T21:01:58.924221",
     "exception": false,
     "start_time": "2025-07-30T21:01:46.069260",
     "status": "completed"
    },
    "tags": []
   },
   "outputs": [
    {
     "data": {
      "text/html": [
       "<style>#sk-container-id-1 {color: black;background-color: white;}#sk-container-id-1 pre{padding: 0;}#sk-container-id-1 div.sk-toggleable {background-color: white;}#sk-container-id-1 label.sk-toggleable__label {cursor: pointer;display: block;width: 100%;margin-bottom: 0;padding: 0.3em;box-sizing: border-box;text-align: center;}#sk-container-id-1 label.sk-toggleable__label-arrow:before {content: \"▸\";float: left;margin-right: 0.25em;color: #696969;}#sk-container-id-1 label.sk-toggleable__label-arrow:hover:before {color: black;}#sk-container-id-1 div.sk-estimator:hover label.sk-toggleable__label-arrow:before {color: black;}#sk-container-id-1 div.sk-toggleable__content {max-height: 0;max-width: 0;overflow: hidden;text-align: left;background-color: #f0f8ff;}#sk-container-id-1 div.sk-toggleable__content pre {margin: 0.2em;color: black;border-radius: 0.25em;background-color: #f0f8ff;}#sk-container-id-1 input.sk-toggleable__control:checked~div.sk-toggleable__content {max-height: 200px;max-width: 100%;overflow: auto;}#sk-container-id-1 input.sk-toggleable__control:checked~label.sk-toggleable__label-arrow:before {content: \"▾\";}#sk-container-id-1 div.sk-estimator input.sk-toggleable__control:checked~label.sk-toggleable__label {background-color: #d4ebff;}#sk-container-id-1 div.sk-label input.sk-toggleable__control:checked~label.sk-toggleable__label {background-color: #d4ebff;}#sk-container-id-1 input.sk-hidden--visually {border: 0;clip: rect(1px 1px 1px 1px);clip: rect(1px, 1px, 1px, 1px);height: 1px;margin: -1px;overflow: hidden;padding: 0;position: absolute;width: 1px;}#sk-container-id-1 div.sk-estimator {font-family: monospace;background-color: #f0f8ff;border: 1px dotted black;border-radius: 0.25em;box-sizing: border-box;margin-bottom: 0.5em;}#sk-container-id-1 div.sk-estimator:hover {background-color: #d4ebff;}#sk-container-id-1 div.sk-parallel-item::after {content: \"\";width: 100%;border-bottom: 1px solid gray;flex-grow: 1;}#sk-container-id-1 div.sk-label:hover label.sk-toggleable__label {background-color: #d4ebff;}#sk-container-id-1 div.sk-serial::before {content: \"\";position: absolute;border-left: 1px solid gray;box-sizing: border-box;top: 0;bottom: 0;left: 50%;z-index: 0;}#sk-container-id-1 div.sk-serial {display: flex;flex-direction: column;align-items: center;background-color: white;padding-right: 0.2em;padding-left: 0.2em;position: relative;}#sk-container-id-1 div.sk-item {position: relative;z-index: 1;}#sk-container-id-1 div.sk-parallel {display: flex;align-items: stretch;justify-content: center;background-color: white;position: relative;}#sk-container-id-1 div.sk-item::before, #sk-container-id-1 div.sk-parallel-item::before {content: \"\";position: absolute;border-left: 1px solid gray;box-sizing: border-box;top: 0;bottom: 0;left: 50%;z-index: -1;}#sk-container-id-1 div.sk-parallel-item {display: flex;flex-direction: column;z-index: 1;position: relative;background-color: white;}#sk-container-id-1 div.sk-parallel-item:first-child::after {align-self: flex-end;width: 50%;}#sk-container-id-1 div.sk-parallel-item:last-child::after {align-self: flex-start;width: 50%;}#sk-container-id-1 div.sk-parallel-item:only-child::after {width: 0;}#sk-container-id-1 div.sk-dashed-wrapped {border: 1px dashed gray;margin: 0 0.4em 0.5em 0.4em;box-sizing: border-box;padding-bottom: 0.4em;background-color: white;}#sk-container-id-1 div.sk-label label {font-family: monospace;font-weight: bold;display: inline-block;line-height: 1.2em;}#sk-container-id-1 div.sk-label-container {text-align: center;}#sk-container-id-1 div.sk-container {/* jupyter's `normalize.less` sets `[hidden] { display: none; }` but bootstrap.min.css set `[hidden] { display: none !important; }` so we also need the `!important` here to be able to override the default hidden behavior on the sphinx rendered scikit-learn.org. See: https://github.com/scikit-learn/scikit-learn/issues/21755 */display: inline-block !important;position: relative;}#sk-container-id-1 div.sk-text-repr-fallback {display: none;}</style><div id=\"sk-container-id-1\" class=\"sk-top-container\"><div class=\"sk-text-repr-fallback\"><pre>Pipeline(steps=[(&#x27;scale&#x27;, StandardScaler()),\n",
       "                (&#x27;model&#x27;,\n",
       "                 LogisticRegression(l1_ratio=0.5, max_iter=5000,\n",
       "                                    penalty=&#x27;elasticnet&#x27;, solver=&#x27;saga&#x27;))])</pre><b>In a Jupyter environment, please rerun this cell to show the HTML representation or trust the notebook. <br />On GitHub, the HTML representation is unable to render, please try loading this page with nbviewer.org.</b></div><div class=\"sk-container\" hidden><div class=\"sk-item sk-dashed-wrapped\"><div class=\"sk-label-container\"><div class=\"sk-label sk-toggleable\"><input class=\"sk-toggleable__control sk-hidden--visually\" id=\"sk-estimator-id-1\" type=\"checkbox\" ><label for=\"sk-estimator-id-1\" class=\"sk-toggleable__label sk-toggleable__label-arrow\">Pipeline</label><div class=\"sk-toggleable__content\"><pre>Pipeline(steps=[(&#x27;scale&#x27;, StandardScaler()),\n",
       "                (&#x27;model&#x27;,\n",
       "                 LogisticRegression(l1_ratio=0.5, max_iter=5000,\n",
       "                                    penalty=&#x27;elasticnet&#x27;, solver=&#x27;saga&#x27;))])</pre></div></div></div><div class=\"sk-serial\"><div class=\"sk-item\"><div class=\"sk-estimator sk-toggleable\"><input class=\"sk-toggleable__control sk-hidden--visually\" id=\"sk-estimator-id-2\" type=\"checkbox\" ><label for=\"sk-estimator-id-2\" class=\"sk-toggleable__label sk-toggleable__label-arrow\">StandardScaler</label><div class=\"sk-toggleable__content\"><pre>StandardScaler()</pre></div></div></div><div class=\"sk-item\"><div class=\"sk-estimator sk-toggleable\"><input class=\"sk-toggleable__control sk-hidden--visually\" id=\"sk-estimator-id-3\" type=\"checkbox\" ><label for=\"sk-estimator-id-3\" class=\"sk-toggleable__label sk-toggleable__label-arrow\">LogisticRegression</label><div class=\"sk-toggleable__content\"><pre>LogisticRegression(l1_ratio=0.5, max_iter=5000, penalty=&#x27;elasticnet&#x27;,\n",
       "                   solver=&#x27;saga&#x27;)</pre></div></div></div></div></div></div></div>"
      ],
      "text/plain": [
       "Pipeline(steps=[('scale', StandardScaler()),\n",
       "                ('model',\n",
       "                 LogisticRegression(l1_ratio=0.5, max_iter=5000,\n",
       "                                    penalty='elasticnet', solver='saga'))])"
      ]
     },
     "execution_count": 43,
     "metadata": {},
     "output_type": "execute_result"
    }
   ],
   "source": [
    "model.fit(X_train, y_train.values.ravel())"
   ]
  },
  {
   "cell_type": "code",
   "execution_count": 44,
   "id": "af59f8c0",
   "metadata": {
    "execution": {
     "iopub.execute_input": "2025-07-30T21:01:58.981970Z",
     "iopub.status.busy": "2025-07-30T21:01:58.981305Z",
     "iopub.status.idle": "2025-07-30T21:01:58.987095Z",
     "shell.execute_reply": "2025-07-30T21:01:58.986125Z"
    },
    "papermill": {
     "duration": 0.034685,
     "end_time": "2025-07-30T21:01:58.988794",
     "exception": false,
     "start_time": "2025-07-30T21:01:58.954109",
     "status": "completed"
    },
    "tags": []
   },
   "outputs": [],
   "source": [
    "from fairness_multiverse.universe import predict_w_threshold"
   ]
  },
  {
   "cell_type": "code",
   "execution_count": 45,
   "id": "a7cf2e16",
   "metadata": {
    "execution": {
     "iopub.execute_input": "2025-07-30T21:01:59.033746Z",
     "iopub.status.busy": "2025-07-30T21:01:59.032977Z",
     "iopub.status.idle": "2025-07-30T21:01:59.235057Z",
     "shell.execute_reply": "2025-07-30T21:01:59.234176Z"
    },
    "papermill": {
     "duration": 0.226115,
     "end_time": "2025-07-30T21:01:59.236628",
     "exception": false,
     "start_time": "2025-07-30T21:01:59.010513",
     "status": "completed"
    },
    "tags": []
   },
   "outputs": [
    {
     "data": {
      "text/plain": [
       "0.8574072009809386"
      ]
     },
     "execution_count": 45,
     "metadata": {},
     "output_type": "execute_result"
    }
   ],
   "source": [
    "probs_test = model.predict_proba(X_test)\n",
    "\n",
    "'''\n",
    "Below code returns a boolean array (or binary 0/1 array depending on how it’s used) where each element \n",
    "is True if the probability of class 1 is greater than or equal to the threshold, and False otherwise.\n",
    "'''\n",
    "y_pred_default = predict_w_threshold(probs_test, 0.5)\n",
    "\n",
    "from sklearn.metrics import accuracy_score\n",
    "\n",
    "# Naive prediction\n",
    "accuracy_score(y_true = y_true, y_pred = y_pred_default)"
   ]
  },
  {
   "cell_type": "code",
   "execution_count": 46,
   "id": "081964c3",
   "metadata": {
    "execution": {
     "iopub.execute_input": "2025-07-30T21:01:59.282664Z",
     "iopub.status.busy": "2025-07-30T21:01:59.281836Z",
     "iopub.status.idle": "2025-07-30T21:01:59.455053Z",
     "shell.execute_reply": "2025-07-30T21:01:59.454066Z"
    },
    "papermill": {
     "duration": 0.197693,
     "end_time": "2025-07-30T21:01:59.456945",
     "exception": false,
     "start_time": "2025-07-30T21:01:59.259252",
     "status": "completed"
    },
    "tags": []
   },
   "outputs": [
    {
     "data": {
      "text/plain": [
       "array([0, 0, 0, ..., 0, 0, 0])"
      ]
     },
     "execution_count": 46,
     "metadata": {},
     "output_type": "execute_result"
    }
   ],
   "source": [
    "model.predict(X_test)"
   ]
  },
  {
   "cell_type": "markdown",
   "id": "56c9705b",
   "metadata": {
    "papermill": {
     "duration": 0.026572,
     "end_time": "2025-07-30T21:01:59.510793",
     "exception": false,
     "start_time": "2025-07-30T21:01:59.484221",
     "status": "completed"
    },
    "tags": []
   },
   "source": [
    "# Conformal Prediction"
   ]
  },
  {
   "cell_type": "code",
   "execution_count": 47,
   "id": "160ec6ff",
   "metadata": {
    "execution": {
     "iopub.execute_input": "2025-07-30T21:01:59.567232Z",
     "iopub.status.busy": "2025-07-30T21:01:59.566554Z",
     "iopub.status.idle": "2025-07-30T21:01:59.571896Z",
     "shell.execute_reply": "2025-07-30T21:01:59.570980Z"
    },
    "papermill": {
     "duration": 0.036473,
     "end_time": "2025-07-30T21:01:59.573684",
     "exception": false,
     "start_time": "2025-07-30T21:01:59.537211",
     "status": "completed"
    },
    "tags": []
   },
   "outputs": [],
   "source": [
    "# Miscoverage level for conformal prediction (10% allowed error rate => 90% target coverage)\n",
    "alpha = 0.1"
   ]
  },
  {
   "cell_type": "code",
   "execution_count": 48,
   "id": "eadf4555-3dd3-440e-8e35-f82a4ad9f855",
   "metadata": {
    "execution": {
     "iopub.execute_input": "2025-07-30T21:01:59.629426Z",
     "iopub.status.busy": "2025-07-30T21:01:59.628742Z",
     "iopub.status.idle": "2025-07-30T21:01:59.803490Z",
     "shell.execute_reply": "2025-07-30T21:01:59.802747Z"
    },
    "papermill": {
     "duration": 0.203603,
     "end_time": "2025-07-30T21:01:59.805323",
     "exception": false,
     "start_time": "2025-07-30T21:01:59.601720",
     "status": "completed"
    },
    "tags": []
   },
   "outputs": [],
   "source": [
    "probs_calib = model.predict_proba(X_calib)"
   ]
  },
  {
   "cell_type": "code",
   "execution_count": 49,
   "id": "2ed93547-6d5d-4983-9b36-1ecb300da49a",
   "metadata": {
    "execution": {
     "iopub.execute_input": "2025-07-30T21:01:59.851554Z",
     "iopub.status.busy": "2025-07-30T21:01:59.850966Z",
     "iopub.status.idle": "2025-07-30T21:01:59.856309Z",
     "shell.execute_reply": "2025-07-30T21:01:59.855309Z"
    },
    "papermill": {
     "duration": 0.029555,
     "end_time": "2025-07-30T21:01:59.857623",
     "exception": false,
     "start_time": "2025-07-30T21:01:59.828068",
     "status": "completed"
    },
    "tags": []
   },
   "outputs": [],
   "source": [
    "y_calib = y_calib.values.ravel().astype(int)"
   ]
  },
  {
   "cell_type": "code",
   "execution_count": 50,
   "id": "65d1320d-f588-4b38-9072-62af1ae97f7d",
   "metadata": {
    "execution": {
     "iopub.execute_input": "2025-07-30T21:01:59.907421Z",
     "iopub.status.busy": "2025-07-30T21:01:59.907034Z",
     "iopub.status.idle": "2025-07-30T21:01:59.921443Z",
     "shell.execute_reply": "2025-07-30T21:01:59.920490Z"
    },
    "papermill": {
     "duration": 0.042095,
     "end_time": "2025-07-30T21:01:59.923233",
     "exception": false,
     "start_time": "2025-07-30T21:01:59.881138",
     "status": "completed"
    },
    "tags": []
   },
   "outputs": [],
   "source": [
    "from fairness_multiverse.conformal import compute_nc_scores\n",
    "\n",
    "# Compute nonconformity scores on calibration set (1 - probability of true class)\n",
    "nc_scores = compute_nc_scores(probs_calib, y_calib)"
   ]
  },
  {
   "cell_type": "code",
   "execution_count": 51,
   "id": "df3b8ca3-53b7-43d5-9667-7c85da7aeda2",
   "metadata": {
    "execution": {
     "iopub.execute_input": "2025-07-30T21:01:59.971098Z",
     "iopub.status.busy": "2025-07-30T21:01:59.970171Z",
     "iopub.status.idle": "2025-07-30T21:01:59.977570Z",
     "shell.execute_reply": "2025-07-30T21:01:59.976644Z"
    },
    "papermill": {
     "duration": 0.032889,
     "end_time": "2025-07-30T21:01:59.979140",
     "exception": false,
     "start_time": "2025-07-30T21:01:59.946251",
     "status": "completed"
    },
    "tags": []
   },
   "outputs": [],
   "source": [
    "from fairness_multiverse.conformal import find_threshold\n",
    "\n",
    "# Find conformal threshold q_hat for the given alpha (split conformal method)\n",
    "q_hat = find_threshold(nc_scores, alpha)"
   ]
  },
  {
   "cell_type": "code",
   "execution_count": 52,
   "id": "4d29e6c1-0ef6-4aa4-b8fe-4fe79b0d033a",
   "metadata": {
    "execution": {
     "iopub.execute_input": "2025-07-30T21:02:00.027137Z",
     "iopub.status.busy": "2025-07-30T21:02:00.026325Z",
     "iopub.status.idle": "2025-07-30T21:02:00.033539Z",
     "shell.execute_reply": "2025-07-30T21:02:00.032687Z"
    },
    "papermill": {
     "duration": 0.032792,
     "end_time": "2025-07-30T21:02:00.034982",
     "exception": false,
     "start_time": "2025-07-30T21:02:00.002190",
     "status": "completed"
    },
    "tags": []
   },
   "outputs": [
    {
     "data": {
      "text/plain": [
       "0.6843222630691268"
      ]
     },
     "execution_count": 52,
     "metadata": {},
     "output_type": "execute_result"
    }
   ],
   "source": [
    "q_hat"
   ]
  },
  {
   "cell_type": "code",
   "execution_count": 53,
   "id": "92460794-cdac-4be2-ba28-f28c0515a6fb",
   "metadata": {
    "execution": {
     "iopub.execute_input": "2025-07-30T21:02:00.081811Z",
     "iopub.status.busy": "2025-07-30T21:02:00.081167Z",
     "iopub.status.idle": "2025-07-30T21:02:00.964386Z",
     "shell.execute_reply": "2025-07-30T21:02:00.963349Z"
    },
    "papermill": {
     "duration": 0.908521,
     "end_time": "2025-07-30T21:02:00.966190",
     "exception": false,
     "start_time": "2025-07-30T21:02:00.057669",
     "status": "completed"
    },
    "tags": []
   },
   "outputs": [],
   "source": [
    "from fairness_multiverse.conformal import predict_conformal_sets\n",
    "\n",
    "# Generate prediction sets for each test example\n",
    "pred_sets = predict_conformal_sets(model, X_test, q_hat)"
   ]
  },
  {
   "cell_type": "code",
   "execution_count": 54,
   "id": "d90c9a65-e6db-4f5d-80cd-e68fb7e46829",
   "metadata": {
    "execution": {
     "iopub.execute_input": "2025-07-30T21:02:01.015121Z",
     "iopub.status.busy": "2025-07-30T21:02:01.014468Z",
     "iopub.status.idle": "2025-07-30T21:02:01.020274Z",
     "shell.execute_reply": "2025-07-30T21:02:01.019230Z"
    },
    "papermill": {
     "duration": 0.031021,
     "end_time": "2025-07-30T21:02:01.021794",
     "exception": false,
     "start_time": "2025-07-30T21:02:00.990773",
     "status": "completed"
    },
    "tags": []
   },
   "outputs": [],
   "source": [
    "y_true = y_true.squeeze()"
   ]
  },
  {
   "cell_type": "code",
   "execution_count": 55,
   "id": "3a58a54a-1e68-46b9-927a-df01f18aebc8",
   "metadata": {
    "execution": {
     "iopub.execute_input": "2025-07-30T21:02:01.116018Z",
     "iopub.status.busy": "2025-07-30T21:02:01.115369Z",
     "iopub.status.idle": "2025-07-30T21:02:02.033225Z",
     "shell.execute_reply": "2025-07-30T21:02:02.032236Z"
    },
    "papermill": {
     "duration": 0.989825,
     "end_time": "2025-07-30T21:02:02.035192",
     "exception": false,
     "start_time": "2025-07-30T21:02:01.045367",
     "status": "completed"
    },
    "tags": []
   },
   "outputs": [],
   "source": [
    "from fairness_multiverse.conformal import evaluate_sets\n",
    "\n",
    "# Evaluate coverage and average set size on test data\n",
    "metrics = evaluate_sets(pred_sets, y_true)"
   ]
  },
  {
   "cell_type": "markdown",
   "id": "2b569c12-9aaa-4c88-98c9-bbcd0cf3ebb8",
   "metadata": {
    "papermill": {
     "duration": 0.023196,
     "end_time": "2025-07-30T21:02:02.081905",
     "exception": false,
     "start_time": "2025-07-30T21:02:02.058709",
     "status": "completed"
    },
    "tags": []
   },
   "source": [
    "# CP Metrics"
   ]
  },
  {
   "cell_type": "code",
   "execution_count": 56,
   "id": "5ce0a5cb-201f-45a0-ade5-94c7f0bd6095",
   "metadata": {
    "execution": {
     "iopub.execute_input": "2025-07-30T21:02:02.135975Z",
     "iopub.status.busy": "2025-07-30T21:02:02.134894Z",
     "iopub.status.idle": "2025-07-30T21:02:02.142089Z",
     "shell.execute_reply": "2025-07-30T21:02:02.141245Z"
    },
    "papermill": {
     "duration": 0.033627,
     "end_time": "2025-07-30T21:02:02.143544",
     "exception": false,
     "start_time": "2025-07-30T21:02:02.109917",
     "status": "completed"
    },
    "tags": []
   },
   "outputs": [
    {
     "data": {
      "text/plain": [
       "{'coverage': 0.9109352357596701, 'avg_size': 1.1356481997547654}"
      ]
     },
     "execution_count": 56,
     "metadata": {},
     "output_type": "execute_result"
    }
   ],
   "source": [
    "metrics"
   ]
  },
  {
   "cell_type": "code",
   "execution_count": 57,
   "id": "9b9a838d-31c9-430b-ae14-12baee460d17",
   "metadata": {
    "execution": {
     "iopub.execute_input": "2025-07-30T21:02:02.192780Z",
     "iopub.status.busy": "2025-07-30T21:02:02.191807Z",
     "iopub.status.idle": "2025-07-30T21:02:02.198574Z",
     "shell.execute_reply": "2025-07-30T21:02:02.197566Z"
    },
    "papermill": {
     "duration": 0.033025,
     "end_time": "2025-07-30T21:02:02.200241",
     "exception": false,
     "start_time": "2025-07-30T21:02:02.167216",
     "status": "completed"
    },
    "tags": []
   },
   "outputs": [],
   "source": [
    "example_universe = universe.copy()\n",
    "universe_training_year = example_universe.get(\"training_year\")\n",
    "universe_training_size = example_universe.get(\"training_size\")\n",
    "universe_scale = example_universe.get(\"scale\")\n",
    "universe_model = example_universe.get(\"model\")\n",
    "universe_exclude_features = example_universe.get(\"exclude_features\")\n",
    "universe_exclude_subgroups = example_universe.get(\"exclude_subgroups\")"
   ]
  },
  {
   "cell_type": "code",
   "execution_count": 58,
   "id": "f4b6a8ac-9dc0-4245-8a91-5b3b5999c4f9",
   "metadata": {
    "execution": {
     "iopub.execute_input": "2025-07-30T21:02:02.249871Z",
     "iopub.status.busy": "2025-07-30T21:02:02.249068Z",
     "iopub.status.idle": "2025-07-30T21:02:02.256001Z",
     "shell.execute_reply": "2025-07-30T21:02:02.254939Z"
    },
    "papermill": {
     "duration": 0.033592,
     "end_time": "2025-07-30T21:02:02.257670",
     "exception": false,
     "start_time": "2025-07-30T21:02:02.224078",
     "status": "completed"
    },
    "tags": []
   },
   "outputs": [],
   "source": [
    "cp_metrics_dict = {\n",
    "    \"universe_id\": [universe_id],\n",
    "    \"universe_training_year\": [universe_training_year],\n",
    "    \"universe_training_size\": [universe_training_size],\n",
    "    \"universe_scale\": [universe_scale],\n",
    "    \"universe_model\": [universe_model],\n",
    "    \"universe_exclude_features\": [universe_exclude_features],\n",
    "    \"universe_exclude_subgroups\": [universe_exclude_subgroups],\n",
    "    \"q_hat\": [q_hat],\n",
    "    \"coverage\": [metrics[\"coverage\"]],\n",
    "    \"avg_size\": [metrics[\"avg_size\"]],\n",
    "}"
   ]
  },
  {
   "cell_type": "code",
   "execution_count": 59,
   "id": "908acbb1-0371-4915-85ca-3fa520d2efe2",
   "metadata": {
    "execution": {
     "iopub.execute_input": "2025-07-30T21:02:02.312474Z",
     "iopub.status.busy": "2025-07-30T21:02:02.311957Z",
     "iopub.status.idle": "2025-07-30T21:02:02.319719Z",
     "shell.execute_reply": "2025-07-30T21:02:02.318811Z"
    },
    "papermill": {
     "duration": 0.039403,
     "end_time": "2025-07-30T21:02:02.321165",
     "exception": false,
     "start_time": "2025-07-30T21:02:02.281762",
     "status": "completed"
    },
    "tags": []
   },
   "outputs": [
    {
     "data": {
      "text/plain": [
       "{'universe_id': ['77ccf370906521224baaf2bf0c594bc7'],\n",
       " 'universe_training_year': ['2012_14'],\n",
       " 'universe_training_size': ['5k'],\n",
       " 'universe_scale': ['scale'],\n",
       " 'universe_model': ['elasticnet'],\n",
       " 'universe_exclude_features': ['nationality'],\n",
       " 'universe_exclude_subgroups': ['keep-all'],\n",
       " 'q_hat': [0.6843222630691268],\n",
       " 'coverage': [0.9109352357596701],\n",
       " 'avg_size': [1.1356481997547654]}"
      ]
     },
     "execution_count": 59,
     "metadata": {},
     "output_type": "execute_result"
    }
   ],
   "source": [
    "cp_metrics_dict"
   ]
  },
  {
   "cell_type": "code",
   "execution_count": 60,
   "id": "33007efc-14e9-4ec6-97ac-56a455c82265",
   "metadata": {
    "execution": {
     "iopub.execute_input": "2025-07-30T21:02:02.370970Z",
     "iopub.status.busy": "2025-07-30T21:02:02.370043Z",
     "iopub.status.idle": "2025-07-30T21:02:02.376805Z",
     "shell.execute_reply": "2025-07-30T21:02:02.375844Z"
    },
    "papermill": {
     "duration": 0.033332,
     "end_time": "2025-07-30T21:02:02.378496",
     "exception": false,
     "start_time": "2025-07-30T21:02:02.345164",
     "status": "completed"
    },
    "tags": []
   },
   "outputs": [],
   "source": [
    "cp_metrics_df = pd.DataFrame(cp_metrics_dict)"
   ]
  },
  {
   "cell_type": "code",
   "execution_count": 61,
   "id": "db12611b-57b2-4910-b9d0-355adfd6e7bf",
   "metadata": {
    "execution": {
     "iopub.execute_input": "2025-07-30T21:02:02.428343Z",
     "iopub.status.busy": "2025-07-30T21:02:02.427814Z",
     "iopub.status.idle": "2025-07-30T21:02:02.447899Z",
     "shell.execute_reply": "2025-07-30T21:02:02.446937Z"
    },
    "papermill": {
     "duration": 0.046316,
     "end_time": "2025-07-30T21:02:02.449385",
     "exception": false,
     "start_time": "2025-07-30T21:02:02.403069",
     "status": "completed"
    },
    "tags": []
   },
   "outputs": [
    {
     "data": {
      "text/html": [
       "<div>\n",
       "<style scoped>\n",
       "    .dataframe tbody tr th:only-of-type {\n",
       "        vertical-align: middle;\n",
       "    }\n",
       "\n",
       "    .dataframe tbody tr th {\n",
       "        vertical-align: top;\n",
       "    }\n",
       "\n",
       "    .dataframe thead th {\n",
       "        text-align: right;\n",
       "    }\n",
       "</style>\n",
       "<table border=\"1\" class=\"dataframe\">\n",
       "  <thead>\n",
       "    <tr style=\"text-align: right;\">\n",
       "      <th></th>\n",
       "      <th>universe_id</th>\n",
       "      <th>universe_training_year</th>\n",
       "      <th>universe_training_size</th>\n",
       "      <th>universe_scale</th>\n",
       "      <th>universe_model</th>\n",
       "      <th>universe_exclude_features</th>\n",
       "      <th>universe_exclude_subgroups</th>\n",
       "      <th>q_hat</th>\n",
       "      <th>coverage</th>\n",
       "      <th>avg_size</th>\n",
       "    </tr>\n",
       "  </thead>\n",
       "  <tbody>\n",
       "    <tr>\n",
       "      <th>0</th>\n",
       "      <td>77ccf370906521224baaf2bf0c594bc7</td>\n",
       "      <td>2012_14</td>\n",
       "      <td>5k</td>\n",
       "      <td>scale</td>\n",
       "      <td>elasticnet</td>\n",
       "      <td>nationality</td>\n",
       "      <td>keep-all</td>\n",
       "      <td>0.684322</td>\n",
       "      <td>0.910935</td>\n",
       "      <td>1.135648</td>\n",
       "    </tr>\n",
       "  </tbody>\n",
       "</table>\n",
       "</div>"
      ],
      "text/plain": [
       "                        universe_id universe_training_year  \\\n",
       "0  77ccf370906521224baaf2bf0c594bc7                2012_14   \n",
       "\n",
       "  universe_training_size universe_scale universe_model  \\\n",
       "0                     5k          scale     elasticnet   \n",
       "\n",
       "  universe_exclude_features universe_exclude_subgroups     q_hat  coverage  \\\n",
       "0               nationality                   keep-all  0.684322  0.910935   \n",
       "\n",
       "   avg_size  \n",
       "0  1.135648  "
      ]
     },
     "execution_count": 61,
     "metadata": {},
     "output_type": "execute_result"
    }
   ],
   "source": [
    "cp_metrics_df"
   ]
  },
  {
   "cell_type": "code",
   "execution_count": 62,
   "id": "b7fbde55-a0a1-47e4-9af6-fe4a17fa8c61",
   "metadata": {
    "execution": {
     "iopub.execute_input": "2025-07-30T21:02:02.499680Z",
     "iopub.status.busy": "2025-07-30T21:02:02.499094Z",
     "iopub.status.idle": "2025-07-30T21:02:02.504279Z",
     "shell.execute_reply": "2025-07-30T21:02:02.503365Z"
    },
    "papermill": {
     "duration": 0.032036,
     "end_time": "2025-07-30T21:02:02.505743",
     "exception": false,
     "start_time": "2025-07-30T21:02:02.473707",
     "status": "completed"
    },
    "tags": []
   },
   "outputs": [],
   "source": [
    "# Conditional Coverage & looking at subgroups"
   ]
  },
  {
   "cell_type": "code",
   "execution_count": 63,
   "id": "027ae886-68dd-4141-96c7-805a5450e1ef",
   "metadata": {
    "execution": {
     "iopub.execute_input": "2025-07-30T21:02:02.556600Z",
     "iopub.status.busy": "2025-07-30T21:02:02.555817Z",
     "iopub.status.idle": "2025-07-30T21:02:02.848694Z",
     "shell.execute_reply": "2025-07-30T21:02:02.847615Z"
    },
    "papermill": {
     "duration": 0.321019,
     "end_time": "2025-07-30T21:02:02.850938",
     "exception": false,
     "start_time": "2025-07-30T21:02:02.529919",
     "status": "completed"
    },
    "tags": []
   },
   "outputs": [],
   "source": [
    "from fairness_multiverse.conformal import build_cp_groups\n",
    "\n",
    "cp_groups_df = build_cp_groups(pred_sets, y_true, X_test.index, org_test)\n",
    "#needs universe_id and setting"
   ]
  },
  {
   "cell_type": "code",
   "execution_count": 64,
   "id": "01d5802c-663a-4d1f-9d69-e036faaffbf7",
   "metadata": {
    "execution": {
     "iopub.execute_input": "2025-07-30T21:02:02.913353Z",
     "iopub.status.busy": "2025-07-30T21:02:02.912693Z",
     "iopub.status.idle": "2025-07-30T21:02:02.918372Z",
     "shell.execute_reply": "2025-07-30T21:02:02.917438Z"
    },
    "papermill": {
     "duration": 0.038347,
     "end_time": "2025-07-30T21:02:02.919788",
     "exception": false,
     "start_time": "2025-07-30T21:02:02.881441",
     "status": "completed"
    },
    "tags": []
   },
   "outputs": [],
   "source": [
    "#delete\n",
    "#cp_groups_df"
   ]
  },
  {
   "cell_type": "code",
   "execution_count": 65,
   "id": "fa424af1-d1eb-443d-b717-2d279ada8408",
   "metadata": {
    "execution": {
     "iopub.execute_input": "2025-07-30T21:02:02.970457Z",
     "iopub.status.busy": "2025-07-30T21:02:02.970011Z",
     "iopub.status.idle": "2025-07-30T21:02:02.975020Z",
     "shell.execute_reply": "2025-07-30T21:02:02.974083Z"
    },
    "papermill": {
     "duration": 0.03248,
     "end_time": "2025-07-30T21:02:02.976707",
     "exception": false,
     "start_time": "2025-07-30T21:02:02.944227",
     "status": "completed"
    },
    "tags": []
   },
   "outputs": [],
   "source": [
    "#delete\n",
    "#percentage = (cp_groups_df['nongerman_female'] == 1).mean() * 100\n",
    "#print(percentage)\n"
   ]
  },
  {
   "cell_type": "code",
   "execution_count": 66,
   "id": "6cbdab96-b2b2-45af-ad54-d0516db2e28d",
   "metadata": {
    "execution": {
     "iopub.execute_input": "2025-07-30T21:02:03.028022Z",
     "iopub.status.busy": "2025-07-30T21:02:03.027482Z",
     "iopub.status.idle": "2025-07-30T21:02:04.684195Z",
     "shell.execute_reply": "2025-07-30T21:02:04.682976Z"
    },
    "papermill": {
     "duration": 1.684053,
     "end_time": "2025-07-30T21:02:04.686124",
     "exception": false,
     "start_time": "2025-07-30T21:02:03.002071",
     "status": "completed"
    },
    "tags": []
   },
   "outputs": [],
   "source": [
    "# Define covered = 1 if true_label is in the predicted set\n",
    "cp_groups_df['covered'] = cp_groups_df.apply(\n",
    "    lambda r: int(r['true_label'] in r['pred_set']),\n",
    "    axis=1\n",
    ")"
   ]
  },
  {
   "cell_type": "code",
   "execution_count": 67,
   "id": "338ff529-1a6b-4b87-a931-8e4788d52aad",
   "metadata": {
    "execution": {
     "iopub.execute_input": "2025-07-30T21:02:04.740418Z",
     "iopub.status.busy": "2025-07-30T21:02:04.739645Z",
     "iopub.status.idle": "2025-07-30T21:02:04.745872Z",
     "shell.execute_reply": "2025-07-30T21:02:04.744969Z"
    },
    "papermill": {
     "duration": 0.036091,
     "end_time": "2025-07-30T21:02:04.747515",
     "exception": false,
     "start_time": "2025-07-30T21:02:04.711424",
     "status": "completed"
    },
    "tags": []
   },
   "outputs": [],
   "source": [
    "#cp_groups_df"
   ]
  },
  {
   "cell_type": "code",
   "execution_count": 68,
   "id": "90032e27-66df-4540-9169-4e89cfbaa758",
   "metadata": {
    "execution": {
     "iopub.execute_input": "2025-07-30T21:02:04.801956Z",
     "iopub.status.busy": "2025-07-30T21:02:04.801471Z",
     "iopub.status.idle": "2025-07-30T21:02:04.813003Z",
     "shell.execute_reply": "2025-07-30T21:02:04.812156Z"
    },
    "papermill": {
     "duration": 0.041179,
     "end_time": "2025-07-30T21:02:04.814599",
     "exception": false,
     "start_time": "2025-07-30T21:02:04.773420",
     "status": "completed"
    },
    "tags": []
   },
   "outputs": [],
   "source": [
    "subgroups = ['frau1','nongerman','nongerman_male','nongerman_female']\n",
    "\n",
    "# Conditional coverage for subgroup==1\n",
    "cond_coverage = {\n",
    "    g: cp_groups_df.loc[cp_groups_df[g]==1, 'covered'].mean()\n",
    "    for g in subgroups\n",
    "}"
   ]
  },
  {
   "cell_type": "code",
   "execution_count": 69,
   "id": "1e348fb1-b9c3-45bc-ba23-f016827a7e0d",
   "metadata": {
    "execution": {
     "iopub.execute_input": "2025-07-30T21:02:04.870971Z",
     "iopub.status.busy": "2025-07-30T21:02:04.870318Z",
     "iopub.status.idle": "2025-07-30T21:02:04.878864Z",
     "shell.execute_reply": "2025-07-30T21:02:04.877881Z"
    },
    "papermill": {
     "duration": 0.038393,
     "end_time": "2025-07-30T21:02:04.880554",
     "exception": false,
     "start_time": "2025-07-30T21:02:04.842161",
     "status": "completed"
    },
    "tags": []
   },
   "outputs": [
    {
     "data": {
      "text/plain": [
       "{'frau1': 0.9053780832996361,\n",
       " 'nongerman': 0.910683208892382,\n",
       " 'nongerman_male': 0.9285778618391426,\n",
       " 'nongerman_female': 0.8810730253353204}"
      ]
     },
     "execution_count": 69,
     "metadata": {},
     "output_type": "execute_result"
    }
   ],
   "source": [
    "cond_coverage"
   ]
  },
  {
   "cell_type": "code",
   "execution_count": 70,
   "id": "f5093324-c3dd-4d63-bc4c-8d945e5c8bbb",
   "metadata": {
    "execution": {
     "iopub.execute_input": "2025-07-30T21:02:04.934864Z",
     "iopub.status.busy": "2025-07-30T21:02:04.934197Z",
     "iopub.status.idle": "2025-07-30T21:02:04.941517Z",
     "shell.execute_reply": "2025-07-30T21:02:04.940676Z"
    },
    "papermill": {
     "duration": 0.035762,
     "end_time": "2025-07-30T21:02:04.943351",
     "exception": false,
     "start_time": "2025-07-30T21:02:04.907589",
     "status": "completed"
    },
    "tags": []
   },
   "outputs": [],
   "source": [
    "for subgroup, cov in cond_coverage.items():\n",
    "    cp_metrics_df[f\"cov_{subgroup}\"] = cov"
   ]
  },
  {
   "cell_type": "code",
   "execution_count": 71,
   "id": "6e872e10-dbe5-49e8-b554-5030c98ff75d",
   "metadata": {
    "execution": {
     "iopub.execute_input": "2025-07-30T21:02:05.001593Z",
     "iopub.status.busy": "2025-07-30T21:02:05.001086Z",
     "iopub.status.idle": "2025-07-30T21:02:05.020759Z",
     "shell.execute_reply": "2025-07-30T21:02:05.019774Z"
    },
    "papermill": {
     "duration": 0.050545,
     "end_time": "2025-07-30T21:02:05.022437",
     "exception": false,
     "start_time": "2025-07-30T21:02:04.971892",
     "status": "completed"
    },
    "tags": []
   },
   "outputs": [
    {
     "data": {
      "text/html": [
       "<div>\n",
       "<style scoped>\n",
       "    .dataframe tbody tr th:only-of-type {\n",
       "        vertical-align: middle;\n",
       "    }\n",
       "\n",
       "    .dataframe tbody tr th {\n",
       "        vertical-align: top;\n",
       "    }\n",
       "\n",
       "    .dataframe thead th {\n",
       "        text-align: right;\n",
       "    }\n",
       "</style>\n",
       "<table border=\"1\" class=\"dataframe\">\n",
       "  <thead>\n",
       "    <tr style=\"text-align: right;\">\n",
       "      <th></th>\n",
       "      <th>universe_id</th>\n",
       "      <th>universe_training_year</th>\n",
       "      <th>universe_training_size</th>\n",
       "      <th>universe_scale</th>\n",
       "      <th>universe_model</th>\n",
       "      <th>universe_exclude_features</th>\n",
       "      <th>universe_exclude_subgroups</th>\n",
       "      <th>q_hat</th>\n",
       "      <th>coverage</th>\n",
       "      <th>avg_size</th>\n",
       "      <th>cov_frau1</th>\n",
       "      <th>cov_nongerman</th>\n",
       "      <th>cov_nongerman_male</th>\n",
       "      <th>cov_nongerman_female</th>\n",
       "    </tr>\n",
       "  </thead>\n",
       "  <tbody>\n",
       "    <tr>\n",
       "      <th>0</th>\n",
       "      <td>77ccf370906521224baaf2bf0c594bc7</td>\n",
       "      <td>2012_14</td>\n",
       "      <td>5k</td>\n",
       "      <td>scale</td>\n",
       "      <td>elasticnet</td>\n",
       "      <td>nationality</td>\n",
       "      <td>keep-all</td>\n",
       "      <td>0.684322</td>\n",
       "      <td>0.910935</td>\n",
       "      <td>1.135648</td>\n",
       "      <td>0.905378</td>\n",
       "      <td>0.910683</td>\n",
       "      <td>0.928578</td>\n",
       "      <td>0.881073</td>\n",
       "    </tr>\n",
       "  </tbody>\n",
       "</table>\n",
       "</div>"
      ],
      "text/plain": [
       "                        universe_id universe_training_year  \\\n",
       "0  77ccf370906521224baaf2bf0c594bc7                2012_14   \n",
       "\n",
       "  universe_training_size universe_scale universe_model  \\\n",
       "0                     5k          scale     elasticnet   \n",
       "\n",
       "  universe_exclude_features universe_exclude_subgroups     q_hat  coverage  \\\n",
       "0               nationality                   keep-all  0.684322  0.910935   \n",
       "\n",
       "   avg_size  cov_frau1  cov_nongerman  cov_nongerman_male  \\\n",
       "0  1.135648   0.905378       0.910683            0.928578   \n",
       "\n",
       "   cov_nongerman_female  \n",
       "0              0.881073  "
      ]
     },
     "execution_count": 71,
     "metadata": {},
     "output_type": "execute_result"
    }
   ],
   "source": [
    "cp_metrics_df"
   ]
  },
  {
   "cell_type": "markdown",
   "id": "33774451",
   "metadata": {
    "papermill": {
     "duration": 0.026235,
     "end_time": "2025-07-30T21:02:05.075837",
     "exception": false,
     "start_time": "2025-07-30T21:02:05.049602",
     "status": "completed"
    },
    "tags": []
   },
   "source": [
    "# (Fairness) Metrics"
   ]
  },
  {
   "cell_type": "code",
   "execution_count": 72,
   "id": "debc5d62",
   "metadata": {
    "execution": {
     "iopub.execute_input": "2025-07-30T21:02:05.131255Z",
     "iopub.status.busy": "2025-07-30T21:02:05.130600Z",
     "iopub.status.idle": "2025-07-30T21:02:05.153331Z",
     "shell.execute_reply": "2025-07-30T21:02:05.152419Z"
    },
    "papermill": {
     "duration": 0.053285,
     "end_time": "2025-07-30T21:02:05.155290",
     "exception": false,
     "start_time": "2025-07-30T21:02:05.102005",
     "status": "completed"
    },
    "tags": []
   },
   "outputs": [],
   "source": [
    "# do I need to include maxdeutsch1.missing?\n",
    "\n",
    "import numpy as np\n",
    "\n",
    "colname_to_bin = \"maxdeutsch1\"\n",
    "majority_value = org_train[colname_to_bin].mode()[0]\n",
    "\n",
    "org_test[\"majmin\"] = np.where(org_test[colname_to_bin] == majority_value, \"majority\", \"minority\")"
   ]
  },
  {
   "cell_type": "code",
   "execution_count": 73,
   "id": "06a50de5",
   "metadata": {
    "execution": {
     "iopub.execute_input": "2025-07-30T21:02:05.211387Z",
     "iopub.status.busy": "2025-07-30T21:02:05.210638Z",
     "iopub.status.idle": "2025-07-30T21:02:08.185031Z",
     "shell.execute_reply": "2025-07-30T21:02:08.183996Z"
    },
    "papermill": {
     "duration": 3.003692,
     "end_time": "2025-07-30T21:02:08.187004",
     "exception": false,
     "start_time": "2025-07-30T21:02:05.183312",
     "status": "completed"
    },
    "tags": []
   },
   "outputs": [],
   "source": [
    "example_universe = universe.copy()\n",
    "example_universe[\"cutoff\"] = example_universe[\"cutoff\"][0]\n",
    "example_universe[\"eval_fairness_grouping\"] = example_universe[\"eval_fairness_grouping\"][0]\n",
    "fairness_dict, metric_frame = universe_analysis.compute_metrics(\n",
    "    example_universe,\n",
    "    y_pred_prob=probs_test,\n",
    "    y_test=y_true,\n",
    "    org_test=org_test,\n",
    ")"
   ]
  },
  {
   "cell_type": "markdown",
   "id": "f95d4e02",
   "metadata": {
    "papermill": {
     "duration": 0.034347,
     "end_time": "2025-07-30T21:02:08.248214",
     "exception": false,
     "start_time": "2025-07-30T21:02:08.213867",
     "status": "completed"
    },
    "tags": []
   },
   "source": [
    "# Overall"
   ]
  },
  {
   "cell_type": "markdown",
   "id": "bdee4871",
   "metadata": {
    "papermill": {
     "duration": 0.015241,
     "end_time": "2025-07-30T21:02:08.289942",
     "exception": false,
     "start_time": "2025-07-30T21:02:08.274701",
     "status": "completed"
    },
    "tags": []
   },
   "source": [
    "Fairness\n",
    "Main fairness target: Equalized Odds. Seems to be a better fit than equal opportunity, since we're not only interested in Y = 1. Seems to be a better fit than demographic parity, since we also care about accuracy, not just equal distribution of preds.\n",
    "\n",
    "Pick column for computation of fairness metrics\n",
    "\n",
    "Performance\n",
    "Overall performance measures, most interesting in relation to the measures split by group below"
   ]
  },
  {
   "cell_type": "code",
   "execution_count": 74,
   "id": "c4e067c6",
   "metadata": {
    "execution": {
     "iopub.execute_input": "2025-07-30T21:02:08.329879Z",
     "iopub.status.busy": "2025-07-30T21:02:08.329507Z",
     "iopub.status.idle": "2025-07-30T21:02:08.337993Z",
     "shell.execute_reply": "2025-07-30T21:02:08.336609Z"
    },
    "papermill": {
     "duration": 0.035917,
     "end_time": "2025-07-30T21:02:08.339983",
     "exception": false,
     "start_time": "2025-07-30T21:02:08.304066",
     "status": "completed"
    },
    "tags": []
   },
   "outputs": [
    {
     "data": {
      "text/plain": [
       "accuracy                   0.224022\n",
       "balanced accuracy          0.547838\n",
       "f1                         0.245363\n",
       "precision                  0.140168\n",
       "false positive rate        0.887727\n",
       "false negative rate        0.016597\n",
       "selection rate             0.900000\n",
       "count                  89710.000000\n",
       "dtype: float64"
      ]
     },
     "execution_count": 74,
     "metadata": {},
     "output_type": "execute_result"
    }
   ],
   "source": [
    "metric_frame.overall"
   ]
  },
  {
   "cell_type": "markdown",
   "id": "e968fe9d",
   "metadata": {
    "papermill": {
     "duration": 0.022752,
     "end_time": "2025-07-30T21:02:08.396874",
     "exception": false,
     "start_time": "2025-07-30T21:02:08.374122",
     "status": "completed"
    },
    "tags": []
   },
   "source": [
    "By Group"
   ]
  },
  {
   "cell_type": "code",
   "execution_count": 75,
   "id": "ec325bce",
   "metadata": {
    "execution": {
     "iopub.execute_input": "2025-07-30T21:02:08.456040Z",
     "iopub.status.busy": "2025-07-30T21:02:08.455496Z",
     "iopub.status.idle": "2025-07-30T21:02:08.484133Z",
     "shell.execute_reply": "2025-07-30T21:02:08.482939Z"
    },
    "papermill": {
     "duration": 0.073926,
     "end_time": "2025-07-30T21:02:08.487167",
     "exception": false,
     "start_time": "2025-07-30T21:02:08.413241",
     "status": "completed"
    },
    "tags": []
   },
   "outputs": [
    {
     "data": {
      "text/html": [
       "<div>\n",
       "<style scoped>\n",
       "    .dataframe tbody tr th:only-of-type {\n",
       "        vertical-align: middle;\n",
       "    }\n",
       "\n",
       "    .dataframe tbody tr th {\n",
       "        vertical-align: top;\n",
       "    }\n",
       "\n",
       "    .dataframe thead th {\n",
       "        text-align: right;\n",
       "    }\n",
       "</style>\n",
       "<table border=\"1\" class=\"dataframe\">\n",
       "  <thead>\n",
       "    <tr style=\"text-align: right;\">\n",
       "      <th></th>\n",
       "      <th>accuracy</th>\n",
       "      <th>balanced accuracy</th>\n",
       "      <th>f1</th>\n",
       "      <th>precision</th>\n",
       "      <th>false positive rate</th>\n",
       "      <th>false negative rate</th>\n",
       "      <th>selection rate</th>\n",
       "      <th>count</th>\n",
       "    </tr>\n",
       "    <tr>\n",
       "      <th>majmin</th>\n",
       "      <th></th>\n",
       "      <th></th>\n",
       "      <th></th>\n",
       "      <th></th>\n",
       "      <th></th>\n",
       "      <th></th>\n",
       "      <th></th>\n",
       "      <th></th>\n",
       "    </tr>\n",
       "  </thead>\n",
       "  <tbody>\n",
       "    <tr>\n",
       "      <th>majority</th>\n",
       "      <td>0.244976</td>\n",
       "      <td>0.557311</td>\n",
       "      <td>0.255768</td>\n",
       "      <td>0.147035</td>\n",
       "      <td>0.867216</td>\n",
       "      <td>0.018162</td>\n",
       "      <td>0.882362</td>\n",
       "      <td>69170.0</td>\n",
       "    </tr>\n",
       "    <tr>\n",
       "      <th>minority</th>\n",
       "      <td>0.153457</td>\n",
       "      <td>0.516981</td>\n",
       "      <td>0.212286</td>\n",
       "      <td>0.118898</td>\n",
       "      <td>0.955481</td>\n",
       "      <td>0.010557</td>\n",
       "      <td>0.959396</td>\n",
       "      <td>20540.0</td>\n",
       "    </tr>\n",
       "  </tbody>\n",
       "</table>\n",
       "</div>"
      ],
      "text/plain": [
       "          accuracy  balanced accuracy        f1  precision  \\\n",
       "majmin                                                       \n",
       "majority  0.244976           0.557311  0.255768   0.147035   \n",
       "minority  0.153457           0.516981  0.212286   0.118898   \n",
       "\n",
       "          false positive rate  false negative rate  selection rate    count  \n",
       "majmin                                                                       \n",
       "majority             0.867216             0.018162        0.882362  69170.0  \n",
       "minority             0.955481             0.010557        0.959396  20540.0  "
      ]
     },
     "execution_count": 75,
     "metadata": {},
     "output_type": "execute_result"
    }
   ],
   "source": [
    "metric_frame.by_group"
   ]
  },
  {
   "cell_type": "code",
   "execution_count": 76,
   "id": "a9ddbe63",
   "metadata": {
    "execution": {
     "iopub.execute_input": "2025-07-30T21:02:08.545382Z",
     "iopub.status.busy": "2025-07-30T21:02:08.544898Z",
     "iopub.status.idle": "2025-07-30T21:02:10.892525Z",
     "shell.execute_reply": "2025-07-30T21:02:10.891776Z"
    },
    "papermill": {
     "duration": 2.377986,
     "end_time": "2025-07-30T21:02:10.893795",
     "exception": false,
     "start_time": "2025-07-30T21:02:08.515809",
     "status": "completed"
    },
    "tags": []
   },
   "outputs": [
    {
     "data": {
      "text/plain": [
       "array([[<Axes: title={'center': 'accuracy'}, xlabel='majmin'>,\n",
       "        <Axes: title={'center': 'balanced accuracy'}, xlabel='majmin'>,\n",
       "        <Axes: title={'center': 'f1'}, xlabel='majmin'>],\n",
       "       [<Axes: title={'center': 'precision'}, xlabel='majmin'>,\n",
       "        <Axes: title={'center': 'false positive rate'}, xlabel='majmin'>,\n",
       "        <Axes: title={'center': 'false negative rate'}, xlabel='majmin'>],\n",
       "       [<Axes: title={'center': 'selection rate'}, xlabel='majmin'>,\n",
       "        <Axes: title={'center': 'count'}, xlabel='majmin'>,\n",
       "        <Axes: xlabel='majmin'>]], dtype=object)"
      ]
     },
     "execution_count": 76,
     "metadata": {},
     "output_type": "execute_result"
    },
    {
     "data": {
      "image/png": "[encoded data removed]",
      "text/plain": [
       "<Figure size 1200x800 with 9 Axes>"
      ]
     },
     "metadata": {},
     "output_type": "display_data"
    }
   ],
   "source": [
    "# In a graphic\n",
    "metric_frame.by_group.plot.bar(\n",
    "    subplots=True,\n",
    "    layout=[3, 3],\n",
    "    legend=False,\n",
    "    figsize=[12, 8],\n",
    "    title=\"Show all metrics\",\n",
    ")"
   ]
  },
  {
   "cell_type": "markdown",
   "id": "f57a0bac",
   "metadata": {
    "papermill": {
     "duration": 0.015364,
     "end_time": "2025-07-30T21:02:10.925675",
     "exception": false,
     "start_time": "2025-07-30T21:02:10.910311",
     "status": "completed"
    },
    "tags": []
   },
   "source": [
    "# Final Output"
   ]
  },
  {
   "cell_type": "code",
   "execution_count": 77,
   "id": "96d280a3",
   "metadata": {
    "execution": {
     "iopub.execute_input": "2025-07-30T21:02:10.960187Z",
     "iopub.status.busy": "2025-07-30T21:02:10.959594Z",
     "iopub.status.idle": "2025-07-30T21:02:10.967064Z",
     "shell.execute_reply": "2025-07-30T21:02:10.966302Z"
    },
    "papermill": {
     "duration": 0.025619,
     "end_time": "2025-07-30T21:02:10.968368",
     "exception": false,
     "start_time": "2025-07-30T21:02:10.942749",
     "status": "completed"
    },
    "tags": []
   },
   "outputs": [
    {
     "data": {
      "text/plain": [
       "4"
      ]
     },
     "execution_count": 77,
     "metadata": {},
     "output_type": "execute_result"
    }
   ],
   "source": [
    "sub_universes = universe_analysis.generate_sub_universes()\n",
    "len(sub_universes)"
   ]
  },
  {
   "cell_type": "code",
   "execution_count": 78,
   "id": "92adf7ba",
   "metadata": {
    "execution": {
     "iopub.execute_input": "2025-07-30T21:02:11.001123Z",
     "iopub.status.busy": "2025-07-30T21:02:11.000770Z",
     "iopub.status.idle": "2025-07-30T21:02:11.017568Z",
     "shell.execute_reply": "2025-07-30T21:02:11.016883Z"
    },
    "papermill": {
     "duration": 0.034548,
     "end_time": "2025-07-30T21:02:11.018981",
     "exception": false,
     "start_time": "2025-07-30T21:02:10.984433",
     "status": "completed"
    },
    "tags": []
   },
   "outputs": [],
   "source": [
    "def filter_sub_universe_data(sub_universe, org_test):\n",
    "    # Keep all rows — no filtering\n",
    "    keep_rows_mask = np.ones(org_test.shape[0], dtype=bool)\n",
    "\n",
    "    print(f\"[INFO] Keeping all rows: {keep_rows_mask.sum()} rows retained.\")\n",
    "    return keep_rows_mask"
   ]
  },
  {
   "cell_type": "code",
   "execution_count": 79,
   "id": "4a759155",
   "metadata": {
    "execution": {
     "iopub.execute_input": "2025-07-30T21:02:11.050919Z",
     "iopub.status.busy": "2025-07-30T21:02:11.050536Z",
     "iopub.status.idle": "2025-07-30T21:02:20.654369Z",
     "shell.execute_reply": "2025-07-30T21:02:20.653254Z"
    },
    "papermill": {
     "duration": 9.621682,
     "end_time": "2025-07-30T21:02:20.656303",
     "exception": false,
     "start_time": "2025-07-30T21:02:11.034621",
     "status": "completed"
    },
    "tags": []
   },
   "outputs": [
    {
     "name": "stdout",
     "output_type": "stream",
     "text": [
      "Stopping execution_time clock.\n",
      "[INFO] Keeping all rows: 89710 rows retained.\n"
     ]
    },
    {
     "name": "stdout",
     "output_type": "stream",
     "text": [
      "[INFO] Keeping all rows: 89710 rows retained.\n"
     ]
    },
    {
     "name": "stdout",
     "output_type": "stream",
     "text": [
      "[INFO] Keeping all rows: 89710 rows retained.\n"
     ]
    },
    {
     "name": "stdout",
     "output_type": "stream",
     "text": [
      "[INFO] Keeping all rows: 89710 rows retained.\n"
     ]
    },
    {
     "data": {
      "text/html": [
       "<div>\n",
       "<style scoped>\n",
       "    .dataframe tbody tr th:only-of-type {\n",
       "        vertical-align: middle;\n",
       "    }\n",
       "\n",
       "    .dataframe tbody tr th {\n",
       "        vertical-align: top;\n",
       "    }\n",
       "\n",
       "    .dataframe thead th {\n",
       "        text-align: right;\n",
       "    }\n",
       "</style>\n",
       "<table border=\"1\" class=\"dataframe\">\n",
       "  <thead>\n",
       "    <tr style=\"text-align: right;\">\n",
       "      <th></th>\n",
       "      <th>run_no</th>\n",
       "      <th>universe_id</th>\n",
       "      <th>universe_settings</th>\n",
       "      <th>execution_time</th>\n",
       "      <th>test_size_n</th>\n",
       "      <th>test_size_frac</th>\n",
       "      <th>fair_main_equalized_odds_difference</th>\n",
       "      <th>fair_main_equalized_odds_ratio</th>\n",
       "      <th>fair_main_demographic_parity_difference</th>\n",
       "      <th>fair_main_demographic_parity_ratio</th>\n",
       "      <th>...</th>\n",
       "      <th>perf_grp_precision_0</th>\n",
       "      <th>perf_grp_precision_1</th>\n",
       "      <th>perf_grp_false positive rate_0</th>\n",
       "      <th>perf_grp_false positive rate_1</th>\n",
       "      <th>perf_grp_false negative rate_0</th>\n",
       "      <th>perf_grp_false negative rate_1</th>\n",
       "      <th>perf_grp_selection rate_0</th>\n",
       "      <th>perf_grp_selection rate_1</th>\n",
       "      <th>perf_grp_count_0</th>\n",
       "      <th>perf_grp_count_1</th>\n",
       "    </tr>\n",
       "  </thead>\n",
       "  <tbody>\n",
       "    <tr>\n",
       "      <th>0</th>\n",
       "      <td>14</td>\n",
       "      <td>77ccf370906521224baaf2bf0c594bc7</td>\n",
       "      <td>{\"cutoff\": \"quantile_0.1\", \"eval_fairness_grou...</td>\n",
       "      <td>40.26207</td>\n",
       "      <td>89710</td>\n",
       "      <td>1.0</td>\n",
       "      <td>0.088265</td>\n",
       "      <td>0.907623</td>\n",
       "      <td>0.077034</td>\n",
       "      <td>0.919706</td>\n",
       "      <td>...</td>\n",
       "      <td>NaN</td>\n",
       "      <td>NaN</td>\n",
       "      <td>NaN</td>\n",
       "      <td>NaN</td>\n",
       "      <td>NaN</td>\n",
       "      <td>NaN</td>\n",
       "      <td>NaN</td>\n",
       "      <td>NaN</td>\n",
       "      <td>NaN</td>\n",
       "      <td>NaN</td>\n",
       "    </tr>\n",
       "    <tr>\n",
       "      <th>0</th>\n",
       "      <td>14</td>\n",
       "      <td>77ccf370906521224baaf2bf0c594bc7</td>\n",
       "      <td>{\"cutoff\": \"quantile_0.1\", \"eval_fairness_grou...</td>\n",
       "      <td>40.26207</td>\n",
       "      <td>89710</td>\n",
       "      <td>1.0</td>\n",
       "      <td>0.088265</td>\n",
       "      <td>0.907623</td>\n",
       "      <td>0.077034</td>\n",
       "      <td>0.919706</td>\n",
       "      <td>...</td>\n",
       "      <td>0.118898</td>\n",
       "      <td>0.147035</td>\n",
       "      <td>0.955481</td>\n",
       "      <td>0.867216</td>\n",
       "      <td>0.010557</td>\n",
       "      <td>0.018162</td>\n",
       "      <td>0.959396</td>\n",
       "      <td>0.882362</td>\n",
       "      <td>20540.0</td>\n",
       "      <td>69170.0</td>\n",
       "    </tr>\n",
       "    <tr>\n",
       "      <th>0</th>\n",
       "      <td>14</td>\n",
       "      <td>77ccf370906521224baaf2bf0c594bc7</td>\n",
       "      <td>{\"cutoff\": \"quantile_0.25\", \"eval_fairness_gro...</td>\n",
       "      <td>40.26207</td>\n",
       "      <td>89710</td>\n",
       "      <td>1.0</td>\n",
       "      <td>0.166678</td>\n",
       "      <td>0.803982</td>\n",
       "      <td>0.145614</td>\n",
       "      <td>0.831127</td>\n",
       "      <td>...</td>\n",
       "      <td>NaN</td>\n",
       "      <td>NaN</td>\n",
       "      <td>NaN</td>\n",
       "      <td>NaN</td>\n",
       "      <td>NaN</td>\n",
       "      <td>NaN</td>\n",
       "      <td>NaN</td>\n",
       "      <td>NaN</td>\n",
       "      <td>NaN</td>\n",
       "      <td>NaN</td>\n",
       "    </tr>\n",
       "    <tr>\n",
       "      <th>0</th>\n",
       "      <td>14</td>\n",
       "      <td>77ccf370906521224baaf2bf0c594bc7</td>\n",
       "      <td>{\"cutoff\": \"quantile_0.25\", \"eval_fairness_gro...</td>\n",
       "      <td>40.26207</td>\n",
       "      <td>89710</td>\n",
       "      <td>1.0</td>\n",
       "      <td>0.166678</td>\n",
       "      <td>0.803982</td>\n",
       "      <td>0.145614</td>\n",
       "      <td>0.831127</td>\n",
       "      <td>...</td>\n",
       "      <td>0.127548</td>\n",
       "      <td>0.172117</td>\n",
       "      <td>0.850319</td>\n",
       "      <td>0.683642</td>\n",
       "      <td>0.046030</td>\n",
       "      <td>0.066521</td>\n",
       "      <td>0.862269</td>\n",
       "      <td>0.716655</td>\n",
       "      <td>20540.0</td>\n",
       "      <td>69170.0</td>\n",
       "    </tr>\n",
       "  </tbody>\n",
       "</table>\n",
       "<p>4 rows × 50 columns</p>\n",
       "</div>"
      ],
      "text/plain": [
       "  run_no                       universe_id  \\\n",
       "0     14  77ccf370906521224baaf2bf0c594bc7   \n",
       "0     14  77ccf370906521224baaf2bf0c594bc7   \n",
       "0     14  77ccf370906521224baaf2bf0c594bc7   \n",
       "0     14  77ccf370906521224baaf2bf0c594bc7   \n",
       "\n",
       "                                   universe_settings  execution_time  \\\n",
       "0  {\"cutoff\": \"quantile_0.1\", \"eval_fairness_grou...        40.26207   \n",
       "0  {\"cutoff\": \"quantile_0.1\", \"eval_fairness_grou...        40.26207   \n",
       "0  {\"cutoff\": \"quantile_0.25\", \"eval_fairness_gro...        40.26207   \n",
       "0  {\"cutoff\": \"quantile_0.25\", \"eval_fairness_gro...        40.26207   \n",
       "\n",
       "   test_size_n  test_size_frac  fair_main_equalized_odds_difference  \\\n",
       "0        89710             1.0                             0.088265   \n",
       "0        89710             1.0                             0.088265   \n",
       "0        89710             1.0                             0.166678   \n",
       "0        89710             1.0                             0.166678   \n",
       "\n",
       "   fair_main_equalized_odds_ratio  fair_main_demographic_parity_difference  \\\n",
       "0                        0.907623                                 0.077034   \n",
       "0                        0.907623                                 0.077034   \n",
       "0                        0.803982                                 0.145614   \n",
       "0                        0.803982                                 0.145614   \n",
       "\n",
       "   fair_main_demographic_parity_ratio  ...  perf_grp_precision_0  \\\n",
       "0                            0.919706  ...                   NaN   \n",
       "0                            0.919706  ...              0.118898   \n",
       "0                            0.831127  ...                   NaN   \n",
       "0                            0.831127  ...              0.127548   \n",
       "\n",
       "   perf_grp_precision_1  perf_grp_false positive rate_0  \\\n",
       "0                   NaN                             NaN   \n",
       "0              0.147035                        0.955481   \n",
       "0                   NaN                             NaN   \n",
       "0              0.172117                        0.850319   \n",
       "\n",
       "   perf_grp_false positive rate_1  perf_grp_false negative rate_0  \\\n",
       "0                             NaN                             NaN   \n",
       "0                        0.867216                        0.010557   \n",
       "0                             NaN                             NaN   \n",
       "0                        0.683642                        0.046030   \n",
       "\n",
       "   perf_grp_false negative rate_1  perf_grp_selection rate_0  \\\n",
       "0                             NaN                        NaN   \n",
       "0                        0.018162                   0.959396   \n",
       "0                             NaN                        NaN   \n",
       "0                        0.066521                   0.862269   \n",
       "\n",
       "   perf_grp_selection rate_1  perf_grp_count_0  perf_grp_count_1  \n",
       "0                        NaN               NaN               NaN  \n",
       "0                   0.882362           20540.0           69170.0  \n",
       "0                        NaN               NaN               NaN  \n",
       "0                   0.716655           20540.0           69170.0  \n",
       "\n",
       "[4 rows x 50 columns]"
      ]
     },
     "execution_count": 79,
     "metadata": {},
     "output_type": "execute_result"
    }
   ],
   "source": [
    "final_output = universe_analysis.generate_final_output(\n",
    "    y_pred_prob=probs_test,\n",
    "    y_test=y_true,\n",
    "    org_test=org_test,\n",
    "    filter_data=filter_sub_universe_data,\n",
    "    cp_metrics_df=cp_metrics_df,\n",
    "    save=True,\n",
    ")\n",
    "final_output"
   ]
  },
  {
   "cell_type": "code",
   "execution_count": null,
   "id": "721ff514-cb11-46f8-b6fc-50392f74b5cb",
   "metadata": {
    "papermill": {
     "duration": 0.0157,
     "end_time": "2025-07-30T21:02:20.719393",
     "exception": false,
     "start_time": "2025-07-30T21:02:20.703693",
     "status": "completed"
    },
    "tags": []
   },
   "outputs": [],
   "source": []
  }
 ],
 "metadata": {
  "celltoolbar": "Tags",
  "kernelspec": {
   "display_name": "Python (CMA Fairness)",
   "language": "python",
   "name": "cma_fair_env"
  },
  "language_info": {
   "codemirror_mode": {
    "name": "ipython",
    "version": 3
   },
   "file_extension": ".py",
   "mimetype": "text/x-python",
   "name": "python",
   "nbconvert_exporter": "python",
   "pygments_lexer": "ipython3",
   "version": "3.10.12"
  },
  "papermill": {
   "default_parameters": {},
   "duration": 53.76707,
   "end_time": "2025-07-30T21:02:21.555749",
   "environment_variables": {},
   "exception": null,
   "input_path": "universe_analysis.ipynb",
   "output_path": "output/runs/14/notebooks/m_14-77ccf370906521224baaf2bf0c594bc7.ipynb",
   "parameters": {
    "output_dir": "output",
    "run_no": "14",
    "seed": "2023",
    "universe": "{\"cutoff\": [\"quantile_0.1\", \"quantile_0.25\"], \"eval_fairness_grouping\": [\"majority-minority\", \"nationality-all\"], \"exclude_features\": \"nationality\", \"exclude_subgroups\": \"keep-all\", \"model\": \"elasticnet\", \"scale\": \"scale\", \"training_size\": \"5k\", \"training_year\": \"2012_14\"}",
    "universe_id": "77ccf370906521224baaf2bf0c594bc7"
   },
   "start_time": "2025-07-30T21:01:27.788679",
   "version": "2.6.0"
  }
 },
 "nbformat": 4,
 "nbformat_minor": 5
}