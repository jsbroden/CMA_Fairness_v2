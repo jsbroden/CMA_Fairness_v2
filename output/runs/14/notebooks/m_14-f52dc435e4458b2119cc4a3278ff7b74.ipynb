{
 "cells": [
  {
   "cell_type": "code",
   "execution_count": 1,
   "id": "f159f837-637b-42ba-96b5-ec9a68c44524",
   "metadata": {
    "execution": {
     "iopub.execute_input": "2025-07-30T21:07:22.649362Z",
     "iopub.status.busy": "2025-07-30T21:07:22.648710Z",
     "iopub.status.idle": "2025-07-30T21:07:22.662248Z",
     "shell.execute_reply": "2025-07-30T21:07:22.661365Z"
    },
    "papermill": {
     "duration": 0.039282,
     "end_time": "2025-07-30T21:07:22.663732",
     "exception": false,
     "start_time": "2025-07-30T21:07:22.624450",
     "status": "completed"
    },
    "tags": []
   },
   "outputs": [
    {
     "name": "stdout",
     "output_type": "stream",
     "text": [
      "/dss/dsshome1/0C/ra93lal2/cma/CMA_Fairness_v2\n"
     ]
    },
    {
     "name": "stderr",
     "output_type": "stream",
     "text": [
      "/dss/dsshome1/0C/ra93lal2/.local/share/virtualenvs/CMA_Fairness_v2-3j10GkSs/lib/python3.10/site-packages/IPython/core/magics/osm.py:393: UserWarning: This is now an optional IPython functionality, using bookmarks requires you to install the `pickleshare` library.\n",
      "  bkms = self.shell.db.get('bookmarks', {})\n",
      "/dss/dsshome1/0C/ra93lal2/.local/share/virtualenvs/CMA_Fairness_v2-3j10GkSs/lib/python3.10/site-packages/IPython/core/magics/osm.py:417: UserWarning: This is now an optional IPython functionality, setting dhist requires you to install the `pickleshare` library.\n",
      "  self.shell.db['dhist'] = compress_dhist(dhist)[-100:]\n"
     ]
    }
   ],
   "source": [
    "%cd ~/cma/CMA_Fairness_v2"
   ]
  },
  {
   "cell_type": "markdown",
   "id": "de2603b9",
   "metadata": {
    "papermill": {
     "duration": 0.018118,
     "end_time": "2025-07-30T21:07:22.700383",
     "exception": false,
     "start_time": "2025-07-30T21:07:22.682265",
     "status": "completed"
    },
    "tags": []
   },
   "source": [
    "The following cell holds the definition of our parameters, these values can be overriden by rendering the with e.g. the following command:\n",
    "\n",
    "papermill -p alpha 0.2 -p ratio 0.3 universe_analysis.ipynb output/test_run.ipynb"
   ]
  },
  {
   "cell_type": "code",
   "execution_count": 2,
   "id": "a80968a0-40bb-4fa9-85ef-2d5eefb01975",
   "metadata": {
    "execution": {
     "iopub.execute_input": "2025-07-30T21:07:22.738817Z",
     "iopub.status.busy": "2025-07-30T21:07:22.738186Z",
     "iopub.status.idle": "2025-07-30T21:07:22.745110Z",
     "shell.execute_reply": "2025-07-30T21:07:22.743909Z"
    },
    "papermill": {
     "duration": 0.028733,
     "end_time": "2025-07-30T21:07:22.747113",
     "exception": false,
     "start_time": "2025-07-30T21:07:22.718380",
     "status": "completed"
    },
    "tags": []
   },
   "outputs": [
    {
     "name": "stdout",
     "output_type": "stream",
     "text": [
      "Current working directory: /dss/dsshome1/0C/ra93lal2/cma/CMA_Fairness_v2\n"
     ]
    }
   ],
   "source": [
    "import os\n",
    "print(\"Current working directory:\", os.getcwd())"
   ]
  },
  {
   "cell_type": "code",
   "execution_count": 3,
   "id": "2dce4c03",
   "metadata": {
    "execution": {
     "iopub.execute_input": "2025-07-30T21:07:22.797345Z",
     "iopub.status.busy": "2025-07-30T21:07:22.796878Z",
     "iopub.status.idle": "2025-07-30T21:07:22.803259Z",
     "shell.execute_reply": "2025-07-30T21:07:22.802327Z"
    },
    "papermill": {
     "duration": 0.038988,
     "end_time": "2025-07-30T21:07:22.805513",
     "exception": false,
     "start_time": "2025-07-30T21:07:22.766525",
     "status": "completed"
    },
    "tags": [
     "parameters"
    ]
   },
   "outputs": [],
   "source": [
    "run_no = 0\n",
    "universe_id = \"test\"\n",
    "universe = {\n",
    "    \"training_size\": \"25k\", # \"25k\", \"5k\", \"1k\"\n",
    "    \"training_year\": \"2014\", # \"2014\", \"2012_14\", \"2010_14\"\n",
    "    \"scale\": \"scale\", # \"scale\", \"do-not-scale\",\n",
    "    #\"stratify_split\": \"target\", # \"none\", \"target\", \"protected-attribute\", \"both\",\n",
    "    \"model\": \"elasticnet\", # \"logreg\", \"penalized_logreg\", \"rf\", \"gbm\", \"elasticnet\"\n",
    "    \"cutoff\": [\"quantile_0.15\", \"quantile_0.30\"],\n",
    "    \"exclude_features\": \"age\", # \"none\", \"nationality\", \"sex\", \"nationality-sex\", \"age\"\n",
    "    \"exclude_subgroups\": \"keep-all\", # \"keep-all\", \"drop-non-german\"\n",
    "    \"eval_fairness_grouping\": [\"majority-minority\", \"nationality-all\"]\n",
    "}\n",
    "\n",
    "output_dir=\"./output\"\n",
    "seed=0"
   ]
  },
  {
   "cell_type": "code",
   "execution_count": 4,
   "id": "d8c34e54",
   "metadata": {
    "execution": {
     "iopub.execute_input": "2025-07-30T21:07:22.865100Z",
     "iopub.status.busy": "2025-07-30T21:07:22.864735Z",
     "iopub.status.idle": "2025-07-30T21:07:22.870042Z",
     "shell.execute_reply": "2025-07-30T21:07:22.868949Z"
    },
    "papermill": {
     "duration": 0.037024,
     "end_time": "2025-07-30T21:07:22.872186",
     "exception": false,
     "start_time": "2025-07-30T21:07:22.835162",
     "status": "completed"
    },
    "tags": [
     "injected-parameters"
    ]
   },
   "outputs": [],
   "source": [
    "# Parameters\n",
    "universe_id = \"f52dc435e4458b2119cc4a3278ff7b74\"\n",
    "run_no = \"14\"\n",
    "universe = \"{\\\"cutoff\\\": [\\\"quantile_0.1\\\", \\\"quantile_0.25\\\"], \\\"eval_fairness_grouping\\\": [\\\"majority-minority\\\", \\\"nationality-all\\\"], \\\"exclude_features\\\": \\\"sex\\\", \\\"exclude_subgroups\\\": \\\"drop-non-german\\\", \\\"model\\\": \\\"elasticnet\\\", \\\"scale\\\": \\\"do-not-scale\\\", \\\"training_size\\\": \\\"5k\\\", \\\"training_year\\\": \\\"2012_14\\\"}\"\n",
    "output_dir = \"output\"\n",
    "seed = \"2023\"\n"
   ]
  },
  {
   "cell_type": "code",
   "execution_count": 5,
   "id": "1650acaf",
   "metadata": {
    "execution": {
     "iopub.execute_input": "2025-07-30T21:07:22.930039Z",
     "iopub.status.busy": "2025-07-30T21:07:22.929221Z",
     "iopub.status.idle": "2025-07-30T21:07:22.934524Z",
     "shell.execute_reply": "2025-07-30T21:07:22.933679Z"
    },
    "papermill": {
     "duration": 0.037671,
     "end_time": "2025-07-30T21:07:22.936750",
     "exception": false,
     "start_time": "2025-07-30T21:07:22.899079",
     "status": "completed"
    },
    "tags": []
   },
   "outputs": [],
   "source": [
    "import json\n",
    "# Parse universe into dict if it is passed as a string\n",
    "if isinstance(universe, str):\n",
    "    universe = json.loads(universe)"
   ]
  },
  {
   "cell_type": "code",
   "execution_count": 6,
   "id": "16620c48",
   "metadata": {
    "execution": {
     "iopub.execute_input": "2025-07-30T21:07:22.998894Z",
     "iopub.status.busy": "2025-07-30T21:07:22.998421Z",
     "iopub.status.idle": "2025-07-30T21:07:23.042460Z",
     "shell.execute_reply": "2025-07-30T21:07:23.041337Z"
    },
    "papermill": {
     "duration": 0.07734,
     "end_time": "2025-07-30T21:07:23.044958",
     "exception": false,
     "start_time": "2025-07-30T21:07:22.967618",
     "status": "completed"
    },
    "tags": []
   },
   "outputs": [],
   "source": [
    "# Auto-reload the custom package\n",
    "%load_ext autoreload\n",
    "%autoreload 1\n",
    "%aimport fairness_multiverse"
   ]
  },
  {
   "cell_type": "code",
   "execution_count": 7,
   "id": "01c5c9f3",
   "metadata": {
    "execution": {
     "iopub.execute_input": "2025-07-30T21:07:23.107070Z",
     "iopub.status.busy": "2025-07-30T21:07:23.106286Z",
     "iopub.status.idle": "2025-07-30T21:07:25.125061Z",
     "shell.execute_reply": "2025-07-30T21:07:25.124237Z"
    },
    "papermill": {
     "duration": 2.051688,
     "end_time": "2025-07-30T21:07:25.126641",
     "exception": false,
     "start_time": "2025-07-30T21:07:23.074953",
     "status": "completed"
    },
    "tags": []
   },
   "outputs": [],
   "source": [
    "from fairness_multiverse.universe import UniverseAnalysis\n",
    "\n",
    "universe_analysis = UniverseAnalysis(\n",
    "    run_no = run_no,\n",
    "    universe_id = universe_id,\n",
    "    universe = universe,\n",
    "    output_dir=output_dir,\n",
    ")"
   ]
  },
  {
   "cell_type": "code",
   "execution_count": 8,
   "id": "106241f5",
   "metadata": {
    "execution": {
     "iopub.execute_input": "2025-07-30T21:07:25.167530Z",
     "iopub.status.busy": "2025-07-30T21:07:25.166871Z",
     "iopub.status.idle": "2025-07-30T21:07:25.173483Z",
     "shell.execute_reply": "2025-07-30T21:07:25.172349Z"
    },
    "papermill": {
     "duration": 0.028954,
     "end_time": "2025-07-30T21:07:25.175634",
     "exception": false,
     "start_time": "2025-07-30T21:07:25.146680",
     "status": "completed"
    },
    "tags": []
   },
   "outputs": [
    {
     "name": "stdout",
     "output_type": "stream",
     "text": [
      "Using Seed: 2023\n"
     ]
    }
   ],
   "source": [
    "import numpy as np\n",
    "parsed_seed = int(seed)\n",
    "np.random.seed(parsed_seed)\n",
    "print(f\"Using Seed: {parsed_seed}\")"
   ]
  },
  {
   "cell_type": "markdown",
   "id": "e0ebdc57",
   "metadata": {
    "papermill": {
     "duration": 0.01159,
     "end_time": "2025-07-30T21:07:25.199196",
     "exception": false,
     "start_time": "2025-07-30T21:07:25.187606",
     "status": "completed"
    },
    "tags": []
   },
   "source": [
    "# Loading Data"
   ]
  },
  {
   "cell_type": "markdown",
   "id": "681925a3",
   "metadata": {
    "papermill": {
     "duration": 0.021177,
     "end_time": "2025-07-30T21:07:25.243444",
     "exception": false,
     "start_time": "2025-07-30T21:07:25.222267",
     "status": "completed"
    },
    "tags": []
   },
   "source": [
    "Load siab_train, siab_test, siab_calib and/or \n",
    "load siab_train_features, siab_train_labels"
   ]
  },
  {
   "cell_type": "code",
   "execution_count": 9,
   "id": "f0496b8a",
   "metadata": {
    "execution": {
     "iopub.execute_input": "2025-07-30T21:07:25.276604Z",
     "iopub.status.busy": "2025-07-30T21:07:25.276220Z",
     "iopub.status.idle": "2025-07-30T21:07:36.911859Z",
     "shell.execute_reply": "2025-07-30T21:07:36.910773Z"
    },
    "papermill": {
     "duration": 11.649315,
     "end_time": "2025-07-30T21:07:36.913444",
     "exception": false,
     "start_time": "2025-07-30T21:07:25.264129",
     "status": "completed"
    },
    "tags": []
   },
   "outputs": [
    {
     "name": "stdout",
     "output_type": "stream",
     "text": [
      "Loading SIAB data from cache: data/siab_cached.csv.gz\n"
     ]
    },
    {
     "name": "stdout",
     "output_type": "stream",
     "text": [
      "(643690, 164)\n"
     ]
    }
   ],
   "source": [
    "from pathlib import Path\n",
    "import pandas as pd\n",
    "\n",
    "# File paths\n",
    "raw_file = Path(\"data/raw/siab.csv\")\n",
    "cache_file = Path(\"data/siab_cached.csv.gz\")\n",
    "\n",
    "# Ensure cache directory exists\n",
    "cache_file.parent.mkdir(parents=True, exist_ok=True)\n",
    "\n",
    "# Load with simple caching\n",
    "if cache_file.exists():\n",
    "    print(f\"Loading SIAB data from cache: {cache_file}\")\n",
    "    siab = pd.read_csv(cache_file, compression='gzip')\n",
    "else:\n",
    "    print(f\"Cache not found. Reading raw SIAB data: {raw_file}\")\n",
    "    siab = pd.read_csv(raw_file)\n",
    "    siab.to_csv(cache_file, index=False, compression='gzip')\n",
    "    print(f\"Cached SIAB data to: {cache_file}\")\n",
    "\n",
    "# Now use `siab` DataFrame as needed\n",
    "print(siab.shape)"
   ]
  },
  {
   "cell_type": "code",
   "execution_count": 10,
   "id": "db0ca512-5f53-4dba-abdb-a2888bca41ba",
   "metadata": {
    "execution": {
     "iopub.execute_input": "2025-07-30T21:07:36.956346Z",
     "iopub.status.busy": "2025-07-30T21:07:36.955628Z",
     "iopub.status.idle": "2025-07-30T21:07:36.961371Z",
     "shell.execute_reply": "2025-07-30T21:07:36.960491Z"
    },
    "papermill": {
     "duration": 0.02765,
     "end_time": "2025-07-30T21:07:36.962966",
     "exception": false,
     "start_time": "2025-07-30T21:07:36.935316",
     "status": "completed"
    },
    "tags": []
   },
   "outputs": [],
   "source": [
    "#siab"
   ]
  },
  {
   "cell_type": "code",
   "execution_count": 11,
   "id": "a0edb063",
   "metadata": {
    "execution": {
     "iopub.execute_input": "2025-07-30T21:07:37.003850Z",
     "iopub.status.busy": "2025-07-30T21:07:37.003213Z",
     "iopub.status.idle": "2025-07-30T21:07:37.007960Z",
     "shell.execute_reply": "2025-07-30T21:07:37.007128Z"
    },
    "papermill": {
     "duration": 0.026541,
     "end_time": "2025-07-30T21:07:37.009482",
     "exception": false,
     "start_time": "2025-07-30T21:07:36.982941",
     "status": "completed"
    },
    "tags": []
   },
   "outputs": [],
   "source": [
    "#import pandas as pd\n",
    "#\n",
    "#X_train = pd.read_csv(\"./data/X_train.csv\")\n",
    "#y_train = pd.read_csv(\"./data/y_train.csv\")"
   ]
  },
  {
   "cell_type": "code",
   "execution_count": 12,
   "id": "63d08085",
   "metadata": {
    "execution": {
     "iopub.execute_input": "2025-07-30T21:07:37.050314Z",
     "iopub.status.busy": "2025-07-30T21:07:37.049668Z",
     "iopub.status.idle": "2025-07-30T21:07:37.054723Z",
     "shell.execute_reply": "2025-07-30T21:07:37.053839Z"
    },
    "papermill": {
     "duration": 0.027123,
     "end_time": "2025-07-30T21:07:37.056309",
     "exception": false,
     "start_time": "2025-07-30T21:07:37.029186",
     "status": "completed"
    },
    "tags": []
   },
   "outputs": [],
   "source": [
    "#X_test = pd.read_csv(\"./data/X_test.csv\")\n",
    "#y_true = pd.read_csv(\"./data/y_test.csv\")"
   ]
  },
  {
   "cell_type": "code",
   "execution_count": 13,
   "id": "98a8d0fa-1d3d-4ed8-bb2c-281470e24add",
   "metadata": {
    "execution": {
     "iopub.execute_input": "2025-07-30T21:07:37.101239Z",
     "iopub.status.busy": "2025-07-30T21:07:37.100596Z",
     "iopub.status.idle": "2025-07-30T21:07:37.105371Z",
     "shell.execute_reply": "2025-07-30T21:07:37.104507Z"
    },
    "papermill": {
     "duration": 0.026725,
     "end_time": "2025-07-30T21:07:37.106909",
     "exception": false,
     "start_time": "2025-07-30T21:07:37.080184",
     "status": "completed"
    },
    "tags": []
   },
   "outputs": [],
   "source": [
    "# Calibration data for conformal\n",
    "#X_calib = pd.read_csv(\"./data/X_calib.csv\")\n",
    "#y_calib = pd.read_csv(\"./data/y_calib.csv\")"
   ]
  },
  {
   "cell_type": "markdown",
   "id": "997051c5-15bd-4b69-9786-c3001a3ce484",
   "metadata": {
    "papermill": {
     "duration": 0.019342,
     "end_time": "2025-07-30T21:07:37.145865",
     "exception": false,
     "start_time": "2025-07-30T21:07:37.126523",
     "status": "completed"
    },
    "tags": []
   },
   "source": [
    "# Splitting Data and Setting Training Data Size"
   ]
  },
  {
   "cell_type": "code",
   "execution_count": 14,
   "id": "e993b61f-042d-41a6-8c81-f55681f86335",
   "metadata": {
    "execution": {
     "iopub.execute_input": "2025-07-30T21:07:37.186433Z",
     "iopub.status.busy": "2025-07-30T21:07:37.185787Z",
     "iopub.status.idle": "2025-07-30T21:07:37.198606Z",
     "shell.execute_reply": "2025-07-30T21:07:37.197596Z"
    },
    "papermill": {
     "duration": 0.034982,
     "end_time": "2025-07-30T21:07:37.200287",
     "exception": false,
     "start_time": "2025-07-30T21:07:37.165305",
     "status": "completed"
    },
    "tags": []
   },
   "outputs": [],
   "source": [
    "def sample_by_year_size(df,\n",
    "                        training_year: str,\n",
    "                        training_size: str,\n",
    "                        random_state: int = 42):\n",
    "    # --- parse training_year into a list of int years ---\n",
    "    if \"_\" in training_year:\n",
    "        start_str, end_str = training_year.split(\"_\", 1)\n",
    "        start = int(start_str)\n",
    "        end   = int(end_str) if len(end_str) == 4 else (int(end_str) + (start // 100)*100)\n",
    "        years = list(range(start, end + 1))\n",
    "    else:\n",
    "        years = [int(training_year)]\n",
    "\n",
    "    df = df[df[\"year\"].isin(years)].reset_index(drop=True)\n",
    "\n",
    "    # --- map training_size to total number of samples ---\n",
    "    total_map = {\"25k\": 25_000, \"5k\": 5_000, \"1k\": 1_000}\n",
    "    if training_size not in total_map:\n",
    "        return df  # e.g. \"all\"\n",
    "\n",
    "    total_samples = total_map[training_size]\n",
    "    n_years       = len(years)\n",
    "    base          = total_samples // n_years\n",
    "    remainder     = total_samples % n_years\n",
    "\n",
    "    # --- build a dict: year -> how many to sample ---\n",
    "    # give +1 to the first `remainder` years in ascending order\n",
    "    quotas = {\n",
    "        year: base + (1 if idx < remainder else 0)\n",
    "        for idx, year in enumerate(sorted(years))\n",
    "    }\n",
    "\n",
    "    # --- sample per‐year according to the quota dict ---\n",
    "    sampled = (\n",
    "        df\n",
    "        .groupby(\"year\", group_keys=False)\n",
    "        .apply(lambda grp: grp.sample(\n",
    "            n=min(len(grp), quotas[grp.name]),\n",
    "            random_state=random_state))\n",
    "        .reset_index(drop=True)\n",
    "    )\n",
    "\n",
    "    return sampled"
   ]
  },
  {
   "cell_type": "code",
   "execution_count": 15,
   "id": "c0ccd338-0e02-41f3-a09d-f56f9266e3fb",
   "metadata": {
    "execution": {
     "iopub.execute_input": "2025-07-30T21:07:37.241450Z",
     "iopub.status.busy": "2025-07-30T21:07:37.240804Z",
     "iopub.status.idle": "2025-07-30T21:07:37.245905Z",
     "shell.execute_reply": "2025-07-30T21:07:37.244950Z"
    },
    "papermill": {
     "duration": 0.027331,
     "end_time": "2025-07-30T21:07:37.247460",
     "exception": false,
     "start_time": "2025-07-30T21:07:37.220129",
     "status": "completed"
    },
    "tags": []
   },
   "outputs": [],
   "source": [
    "#universe[\"training_size\"]"
   ]
  },
  {
   "cell_type": "code",
   "execution_count": 16,
   "id": "ca707fd7-8047-4acd-bfa5-66248fbbf8e6",
   "metadata": {
    "execution": {
     "iopub.execute_input": "2025-07-30T21:07:37.288500Z",
     "iopub.status.busy": "2025-07-30T21:07:37.287802Z",
     "iopub.status.idle": "2025-07-30T21:07:37.293127Z",
     "shell.execute_reply": "2025-07-30T21:07:37.292158Z"
    },
    "papermill": {
     "duration": 0.027826,
     "end_time": "2025-07-30T21:07:37.294777",
     "exception": false,
     "start_time": "2025-07-30T21:07:37.266951",
     "status": "completed"
    },
    "tags": []
   },
   "outputs": [],
   "source": [
    "#universe[\"training_year\"]"
   ]
  },
  {
   "cell_type": "code",
   "execution_count": 17,
   "id": "aea9c6ef-6f46-42c8-85eb-5a62025c1508",
   "metadata": {
    "execution": {
     "iopub.execute_input": "2025-07-30T21:07:37.336070Z",
     "iopub.status.busy": "2025-07-30T21:07:37.335416Z",
     "iopub.status.idle": "2025-07-30T21:07:37.899224Z",
     "shell.execute_reply": "2025-07-30T21:07:37.898308Z"
    },
    "papermill": {
     "duration": 0.586225,
     "end_time": "2025-07-30T21:07:37.901015",
     "exception": false,
     "start_time": "2025-07-30T21:07:37.314790",
     "status": "completed"
    },
    "tags": []
   },
   "outputs": [],
   "source": [
    "siab_train = sample_by_year_size(siab,\n",
    "                               training_year=universe[\"training_year\"],\n",
    "                               training_size=universe[\"training_size\"])"
   ]
  },
  {
   "cell_type": "code",
   "execution_count": 18,
   "id": "8d3afb32-789d-442c-8d5d-9f5aa8dd2eed",
   "metadata": {
    "execution": {
     "iopub.execute_input": "2025-07-30T21:07:37.944435Z",
     "iopub.status.busy": "2025-07-30T21:07:37.943773Z",
     "iopub.status.idle": "2025-07-30T21:07:37.948675Z",
     "shell.execute_reply": "2025-07-30T21:07:37.947829Z"
    },
    "papermill": {
     "duration": 0.027202,
     "end_time": "2025-07-30T21:07:37.950235",
     "exception": false,
     "start_time": "2025-07-30T21:07:37.923033",
     "status": "completed"
    },
    "tags": []
   },
   "outputs": [],
   "source": [
    "#siab_train.shape"
   ]
  },
  {
   "cell_type": "code",
   "execution_count": 19,
   "id": "d582db68-1a4c-47fb-84fc-08518dc1975a",
   "metadata": {
    "execution": {
     "iopub.execute_input": "2025-07-30T21:07:37.991596Z",
     "iopub.status.busy": "2025-07-30T21:07:37.990952Z",
     "iopub.status.idle": "2025-07-30T21:07:37.995863Z",
     "shell.execute_reply": "2025-07-30T21:07:37.995049Z"
    },
    "papermill": {
     "duration": 0.027358,
     "end_time": "2025-07-30T21:07:37.997505",
     "exception": false,
     "start_time": "2025-07-30T21:07:37.970147",
     "status": "completed"
    },
    "tags": []
   },
   "outputs": [],
   "source": [
    "#display(siab_train.groupby(\"year\").size())"
   ]
  },
  {
   "cell_type": "code",
   "execution_count": 20,
   "id": "a561edb4-d032-42cb-8256-22eac1111c64",
   "metadata": {
    "execution": {
     "iopub.execute_input": "2025-07-30T21:07:38.038536Z",
     "iopub.status.busy": "2025-07-30T21:07:38.037866Z",
     "iopub.status.idle": "2025-07-30T21:07:38.237750Z",
     "shell.execute_reply": "2025-07-30T21:07:38.236862Z"
    },
    "papermill": {
     "duration": 0.22222,
     "end_time": "2025-07-30T21:07:38.239585",
     "exception": false,
     "start_time": "2025-07-30T21:07:38.017365",
     "status": "completed"
    },
    "tags": []
   },
   "outputs": [],
   "source": [
    "#siab_train = siab_s[siab_s.year < 2015]\n",
    "siab_calib = siab[siab.year == 2015]\n",
    "siab_test = siab[siab.year == 2016]"
   ]
  },
  {
   "cell_type": "code",
   "execution_count": 21,
   "id": "472de16f-c3db-4916-846b-1f0de9cf1746",
   "metadata": {
    "execution": {
     "iopub.execute_input": "2025-07-30T21:07:38.280967Z",
     "iopub.status.busy": "2025-07-30T21:07:38.280318Z",
     "iopub.status.idle": "2025-07-30T21:07:38.288517Z",
     "shell.execute_reply": "2025-07-30T21:07:38.287633Z"
    },
    "papermill": {
     "duration": 0.030422,
     "end_time": "2025-07-30T21:07:38.290132",
     "exception": false,
     "start_time": "2025-07-30T21:07:38.259710",
     "status": "completed"
    },
    "tags": []
   },
   "outputs": [],
   "source": [
    "X_train = siab_train.iloc[:,4:164]\n",
    "y_train = siab_train.iloc[:, [3]]"
   ]
  },
  {
   "cell_type": "code",
   "execution_count": 22,
   "id": "828c96af-f43a-4ed6-ba47-8ac73a47d56c",
   "metadata": {
    "execution": {
     "iopub.execute_input": "2025-07-30T21:07:38.330838Z",
     "iopub.status.busy": "2025-07-30T21:07:38.330402Z",
     "iopub.status.idle": "2025-07-30T21:07:38.383112Z",
     "shell.execute_reply": "2025-07-30T21:07:38.382239Z"
    },
    "papermill": {
     "duration": 0.074769,
     "end_time": "2025-07-30T21:07:38.384989",
     "exception": false,
     "start_time": "2025-07-30T21:07:38.310220",
     "status": "completed"
    },
    "tags": []
   },
   "outputs": [],
   "source": [
    "X_calib = siab_calib.iloc[:,4:164]\n",
    "y_calib = siab_calib.iloc[:, [3]]"
   ]
  },
  {
   "cell_type": "code",
   "execution_count": 23,
   "id": "c34be9c3-6bd6-476e-acd3-845840e303be",
   "metadata": {
    "execution": {
     "iopub.execute_input": "2025-07-30T21:07:38.428007Z",
     "iopub.status.busy": "2025-07-30T21:07:38.427260Z",
     "iopub.status.idle": "2025-07-30T21:07:38.478957Z",
     "shell.execute_reply": "2025-07-30T21:07:38.478002Z"
    },
    "papermill": {
     "duration": 0.075368,
     "end_time": "2025-07-30T21:07:38.480604",
     "exception": false,
     "start_time": "2025-07-30T21:07:38.405236",
     "status": "completed"
    },
    "tags": []
   },
   "outputs": [],
   "source": [
    "X_test = siab_test.iloc[:,4:164]\n",
    "y_true = siab_test.iloc[:, [3]]"
   ]
  },
  {
   "cell_type": "markdown",
   "id": "9901737e-04df-44f0-9100-f5ad144ed040",
   "metadata": {
    "papermill": {
     "duration": 0.020247,
     "end_time": "2025-07-30T21:07:38.521369",
     "exception": false,
     "start_time": "2025-07-30T21:07:38.501122",
     "status": "completed"
    },
    "tags": []
   },
   "source": [
    "# Splitting Data and Setting Training Data Size OLD VERSION"
   ]
  },
  {
   "cell_type": "code",
   "execution_count": 24,
   "id": "acbc8f7d-8fc8-4e86-8c59-5dcb0f58384b",
   "metadata": {
    "execution": {
     "iopub.execute_input": "2025-07-30T21:07:38.562173Z",
     "iopub.status.busy": "2025-07-30T21:07:38.561392Z",
     "iopub.status.idle": "2025-07-30T21:07:38.566719Z",
     "shell.execute_reply": "2025-07-30T21:07:38.565776Z"
    },
    "papermill": {
     "duration": 0.027732,
     "end_time": "2025-07-30T21:07:38.568446",
     "exception": false,
     "start_time": "2025-07-30T21:07:38.540714",
     "status": "completed"
    },
    "tags": []
   },
   "outputs": [],
   "source": [
    "#def sample_by_year(df, training_size, random_state=42):\n",
    "#    if training_size == \"2014\":\n",
    "#        return df[df[\"year\"] == 2014].reset_index(drop=True)\n",
    "#    \n",
    "#    size_map = {\n",
    "#        \"25k\": 5000,\n",
    "#        \"5k\": 1000,\n",
    "#        \"1k\": 200\n",
    "#    }\n",
    "#\n",
    "#    if training_size not in size_map:\n",
    "#        return df.reset_index(drop=True)  # use all data\n",
    "#\n",
    "#    n_per_year = size_map[training_size]\n",
    "#    grouped = df.groupby(\"year\")\n",
    "#    sampled = grouped.apply(lambda x: x.sample(n=min(n_per_year, len(x)), random_state=random_state))\n",
    "#    return sampled.reset_index(drop=True)"
   ]
  },
  {
   "cell_type": "code",
   "execution_count": 25,
   "id": "6d931f52-beaf-43ff-9e78-9d44a448d54e",
   "metadata": {
    "execution": {
     "iopub.execute_input": "2025-07-30T21:07:38.609728Z",
     "iopub.status.busy": "2025-07-30T21:07:38.608732Z",
     "iopub.status.idle": "2025-07-30T21:07:38.613597Z",
     "shell.execute_reply": "2025-07-30T21:07:38.612760Z"
    },
    "papermill": {
     "duration": 0.02729,
     "end_time": "2025-07-30T21:07:38.615355",
     "exception": false,
     "start_time": "2025-07-30T21:07:38.588065",
     "status": "completed"
    },
    "tags": []
   },
   "outputs": [],
   "source": [
    "#siab_s = sample_by_year(siab, universe[\"training_size\"])"
   ]
  },
  {
   "cell_type": "code",
   "execution_count": 26,
   "id": "5db0a40e-a4e2-4920-be85-b12ae061d70d",
   "metadata": {
    "execution": {
     "iopub.execute_input": "2025-07-30T21:07:38.657237Z",
     "iopub.status.busy": "2025-07-30T21:07:38.656508Z",
     "iopub.status.idle": "2025-07-30T21:07:38.661127Z",
     "shell.execute_reply": "2025-07-30T21:07:38.660275Z"
    },
    "papermill": {
     "duration": 0.027058,
     "end_time": "2025-07-30T21:07:38.662550",
     "exception": false,
     "start_time": "2025-07-30T21:07:38.635492",
     "status": "completed"
    },
    "tags": []
   },
   "outputs": [],
   "source": [
    "#display(siab_s.groupby(\"year\").size())"
   ]
  },
  {
   "cell_type": "code",
   "execution_count": 27,
   "id": "e6c733c5",
   "metadata": {
    "execution": {
     "iopub.execute_input": "2025-07-30T21:07:38.704674Z",
     "iopub.status.busy": "2025-07-30T21:07:38.703788Z",
     "iopub.status.idle": "2025-07-30T21:07:38.796099Z",
     "shell.execute_reply": "2025-07-30T21:07:38.795194Z"
    },
    "papermill": {
     "duration": 0.115473,
     "end_time": "2025-07-30T21:07:38.797912",
     "exception": false,
     "start_time": "2025-07-30T21:07:38.682439",
     "status": "completed"
    },
    "tags": []
   },
   "outputs": [],
   "source": [
    "# Auxiliary data needed downstream in the pipeline\n",
    "\n",
    "org_train = X_train.copy()\n",
    "org_test = X_test.copy()\n",
    "org_calib = X_calib.copy()"
   ]
  },
  {
   "cell_type": "code",
   "execution_count": 28,
   "id": "1466abac-c6da-4492-a62f-4240ae3783af",
   "metadata": {
    "execution": {
     "iopub.execute_input": "2025-07-30T21:07:38.857428Z",
     "iopub.status.busy": "2025-07-30T21:07:38.856769Z",
     "iopub.status.idle": "2025-07-30T21:07:38.862508Z",
     "shell.execute_reply": "2025-07-30T21:07:38.861654Z"
    },
    "papermill": {
     "duration": 0.029178,
     "end_time": "2025-07-30T21:07:38.864197",
     "exception": false,
     "start_time": "2025-07-30T21:07:38.835019",
     "status": "completed"
    },
    "tags": []
   },
   "outputs": [],
   "source": [
    "# put in other script?\n",
    "# Group sizes\n",
    "\n",
    "#def calculate_percentages(df, df_name):\n",
    "#    total_entries = len(df)\n",
    "#\n",
    "#    female_pct = (df['frau1'] == 1).mean() * 100\n",
    "#    non_german_pct = ((df['maxdeutsch1'] == 0) & (df['maxdeutsch.Missing.'] == 0)).mean() * 100\n",
    "#    non_german_male_pct = ((df['frau1'] == 0) & (df['maxdeutsch1'] == 0) & (df['maxdeutsch.Missing.'] == 0)).mean() * 100\n",
    "#    non_german_female_pct = ((df['frau1'] == 1) & (df['maxdeutsch1'] == 0) & (df['maxdeutsch.Missing.'] == 0)).mean() * 100\n",
    "#\n",
    "#    print(f\"--- {df_name} ---\")\n",
    "#    print(f\"Female: {female_pct:.2f}%\")\n",
    "#    print(f\"Non-German: {non_german_pct:.2f}%\")\n",
    "#    print(f\"Non-German Male: {non_german_male_pct:.2f}%\")\n",
    "#    print(f\"Non-German Female: {non_german_female_pct:.2f}%\\n\")\n",
    "#\n",
    "## Calculate for each DataFrame\n",
    "#calculate_percentages(siab_calib, \"siab_calib\")\n",
    "#calculate_percentages(siab_test, \"siab_test\")\n",
    "#calculate_percentages(siab_train, \"siab_train\")"
   ]
  },
  {
   "cell_type": "markdown",
   "id": "0a4a1b33",
   "metadata": {
    "papermill": {
     "duration": 0.020577,
     "end_time": "2025-07-30T21:07:38.905562",
     "exception": false,
     "start_time": "2025-07-30T21:07:38.884985",
     "status": "completed"
    },
    "tags": []
   },
   "source": [
    "# Preprocessing Data"
   ]
  },
  {
   "cell_type": "code",
   "execution_count": 29,
   "id": "ca879031",
   "metadata": {
    "execution": {
     "iopub.execute_input": "2025-07-30T21:07:38.948327Z",
     "iopub.status.busy": "2025-07-30T21:07:38.947666Z",
     "iopub.status.idle": "2025-07-30T21:07:38.954010Z",
     "shell.execute_reply": "2025-07-30T21:07:38.953106Z"
    },
    "papermill": {
     "duration": 0.029431,
     "end_time": "2025-07-30T21:07:38.955426",
     "exception": false,
     "start_time": "2025-07-30T21:07:38.925995",
     "status": "completed"
    },
    "tags": []
   },
   "outputs": [],
   "source": [
    "# EXCLUDE PROTECTED FEATURES\n",
    "# ----------------------\n",
    "# \"exclude_features\": \"none\", # \"nationality\", \"sex\", \"nationality-sex\"\n",
    "\n",
    "excluded_features = universe[\"exclude_features\"].split(\"-\") # split, e.g.: \"nationality-sex\" -> [\"nationality\", \"sex\"]\n",
    "excluded_features_dictionary = {\n",
    "    \"nationality\": [\"maxdeutsch1\", \"maxdeutsch.Missing.\"],\n",
    "    \"sex\": [\"frau1\"],\n",
    "    \"age\": [\"age\"],\n",
    "}\n"
   ]
  },
  {
   "cell_type": "code",
   "execution_count": 30,
   "id": "b745ac60",
   "metadata": {
    "execution": {
     "iopub.execute_input": "2025-07-30T21:07:38.998383Z",
     "iopub.status.busy": "2025-07-30T21:07:38.997741Z",
     "iopub.status.idle": "2025-07-30T21:07:39.003466Z",
     "shell.execute_reply": "2025-07-30T21:07:39.002544Z"
    },
    "papermill": {
     "duration": 0.028727,
     "end_time": "2025-07-30T21:07:39.005116",
     "exception": false,
     "start_time": "2025-07-30T21:07:38.976389",
     "status": "completed"
    },
    "tags": []
   },
   "outputs": [],
   "source": [
    "# Code nice names to column names\n",
    "\n",
    "excluded_features_columns = [\n",
    "    excluded_features_dictionary[f] for f in excluded_features if len(f) > 0 and f != \"none\"\n",
    "]"
   ]
  },
  {
   "cell_type": "code",
   "execution_count": 31,
   "id": "f84f73a2",
   "metadata": {
    "execution": {
     "iopub.execute_input": "2025-07-30T21:07:39.048287Z",
     "iopub.status.busy": "2025-07-30T21:07:39.047607Z",
     "iopub.status.idle": "2025-07-30T21:07:39.054153Z",
     "shell.execute_reply": "2025-07-30T21:07:39.053250Z"
    },
    "papermill": {
     "duration": 0.029622,
     "end_time": "2025-07-30T21:07:39.055696",
     "exception": false,
     "start_time": "2025-07-30T21:07:39.026074",
     "status": "completed"
    },
    "tags": []
   },
   "outputs": [],
   "source": [
    "from utils import flatten_once\n",
    "\n",
    "excluded_features_columns = flatten_once(excluded_features_columns)"
   ]
  },
  {
   "cell_type": "code",
   "execution_count": 32,
   "id": "884dea22",
   "metadata": {
    "execution": {
     "iopub.execute_input": "2025-07-30T21:07:39.098146Z",
     "iopub.status.busy": "2025-07-30T21:07:39.097486Z",
     "iopub.status.idle": "2025-07-30T21:07:39.106535Z",
     "shell.execute_reply": "2025-07-30T21:07:39.105615Z"
    },
    "papermill": {
     "duration": 0.031854,
     "end_time": "2025-07-30T21:07:39.108180",
     "exception": false,
     "start_time": "2025-07-30T21:07:39.076326",
     "status": "completed"
    },
    "tags": []
   },
   "outputs": [
    {
     "name": "stdout",
     "output_type": "stream",
     "text": [
      "Dropping features: ['frau1']\n"
     ]
    }
   ],
   "source": [
    "if len(excluded_features_columns) > 0:\n",
    "    print(f\"Dropping features: {excluded_features_columns}\")\n",
    "    X_train.drop(excluded_features_columns, axis=1, inplace=True)"
   ]
  },
  {
   "cell_type": "code",
   "execution_count": 33,
   "id": "95ab8b16",
   "metadata": {
    "execution": {
     "iopub.execute_input": "2025-07-30T21:07:39.152117Z",
     "iopub.status.busy": "2025-07-30T21:07:39.151449Z",
     "iopub.status.idle": "2025-07-30T21:07:39.202149Z",
     "shell.execute_reply": "2025-07-30T21:07:39.201186Z"
    },
    "papermill": {
     "duration": 0.075086,
     "end_time": "2025-07-30T21:07:39.204540",
     "exception": false,
     "start_time": "2025-07-30T21:07:39.129454",
     "status": "completed"
    },
    "tags": []
   },
   "outputs": [
    {
     "name": "stdout",
     "output_type": "stream",
     "text": [
      "Dropping features: ['frau1']\n"
     ]
    }
   ],
   "source": [
    "if len(excluded_features_columns) > 0:\n",
    "    print(f\"Dropping features: {excluded_features_columns}\")\n",
    "    X_test.drop(excluded_features_columns, axis=1, inplace=True)"
   ]
  },
  {
   "cell_type": "code",
   "execution_count": 34,
   "id": "1853aaf5-fb9f-46cb-a2b5-8ea4ae2237e4",
   "metadata": {
    "execution": {
     "iopub.execute_input": "2025-07-30T21:07:39.248416Z",
     "iopub.status.busy": "2025-07-30T21:07:39.247748Z",
     "iopub.status.idle": "2025-07-30T21:07:39.298705Z",
     "shell.execute_reply": "2025-07-30T21:07:39.297841Z"
    },
    "papermill": {
     "duration": 0.074884,
     "end_time": "2025-07-30T21:07:39.300579",
     "exception": false,
     "start_time": "2025-07-30T21:07:39.225695",
     "status": "completed"
    },
    "tags": []
   },
   "outputs": [
    {
     "name": "stdout",
     "output_type": "stream",
     "text": [
      "Dropping features: ['frau1']\n"
     ]
    }
   ],
   "source": [
    "if len(excluded_features_columns) > 0:\n",
    "    print(f\"Dropping features: {excluded_features_columns}\")\n",
    "    X_calib.drop(excluded_features_columns, axis=1, inplace=True)"
   ]
  },
  {
   "cell_type": "code",
   "execution_count": 35,
   "id": "6727d079-03e5-481e-9d38-292a90b7a0a8",
   "metadata": {
    "execution": {
     "iopub.execute_input": "2025-07-30T21:07:39.343777Z",
     "iopub.status.busy": "2025-07-30T21:07:39.342938Z",
     "iopub.status.idle": "2025-07-30T21:07:39.347775Z",
     "shell.execute_reply": "2025-07-30T21:07:39.346932Z"
    },
    "papermill": {
     "duration": 0.027646,
     "end_time": "2025-07-30T21:07:39.349320",
     "exception": false,
     "start_time": "2025-07-30T21:07:39.321674",
     "status": "completed"
    },
    "tags": []
   },
   "outputs": [],
   "source": [
    "# SPLIT & STRATIFY DATA\n",
    "# ----------------------"
   ]
  },
  {
   "cell_type": "code",
   "execution_count": 36,
   "id": "76c4dc6d",
   "metadata": {
    "execution": {
     "iopub.execute_input": "2025-07-30T21:07:39.393022Z",
     "iopub.status.busy": "2025-07-30T21:07:39.392610Z",
     "iopub.status.idle": "2025-07-30T21:07:39.397475Z",
     "shell.execute_reply": "2025-07-30T21:07:39.396559Z"
    },
    "papermill": {
     "duration": 0.028618,
     "end_time": "2025-07-30T21:07:39.399121",
     "exception": false,
     "start_time": "2025-07-30T21:07:39.370503",
     "status": "completed"
    },
    "tags": []
   },
   "outputs": [],
   "source": [
    "# EXCLUDE CERTAIN SUBGROUPS\n",
    "# ----------------------\n",
    "\n",
    "mode = universe.get(\"exclude_subgroups\", \"keep-all\") \n",
    "# Fetches the exclude_subgroups setting from the universe dict.\n",
    "# Defaults to \"keep-all\" if the key is missing."
   ]
  },
  {
   "cell_type": "code",
   "execution_count": 37,
   "id": "21994072",
   "metadata": {
    "execution": {
     "iopub.execute_input": "2025-07-30T21:07:39.442211Z",
     "iopub.status.busy": "2025-07-30T21:07:39.441820Z",
     "iopub.status.idle": "2025-07-30T21:07:39.447920Z",
     "shell.execute_reply": "2025-07-30T21:07:39.446994Z"
    },
    "papermill": {
     "duration": 0.029337,
     "end_time": "2025-07-30T21:07:39.449419",
     "exception": false,
     "start_time": "2025-07-30T21:07:39.420082",
     "status": "completed"
    },
    "tags": []
   },
   "outputs": [],
   "source": [
    "if mode == \"keep-all\":\n",
    "    keep_mask = pd.Series(True, index=org_train.index)\n",
    "\n",
    "# org_train contains the original feature columns from features_org (in Simson)\n",
    "# features_org contains unprocessed features, for me X_train at beginning ???\n",
    "# For keep-all, creates a boolean Series (keep_mask) of all True, so no rows are removed.\n",
    "\n",
    "elif mode == \"drop-non-german\":\n",
    "    keep_mask = org_train[\"maxdeutsch1\"] == 1 # ??? what about missing values?\n",
    "\n",
    "else:\n",
    "    raise ValueError(f\"Unsupported mode for exclude_subgroups: {mode}\")\n"
   ]
  },
  {
   "cell_type": "code",
   "execution_count": 38,
   "id": "71651440",
   "metadata": {
    "execution": {
     "iopub.execute_input": "2025-07-30T21:07:39.494344Z",
     "iopub.status.busy": "2025-07-30T21:07:39.493887Z",
     "iopub.status.idle": "2025-07-30T21:07:39.500827Z",
     "shell.execute_reply": "2025-07-30T21:07:39.499980Z"
    },
    "papermill": {
     "duration": 0.030954,
     "end_time": "2025-07-30T21:07:39.502343",
     "exception": false,
     "start_time": "2025-07-30T21:07:39.471389",
     "status": "completed"
    },
    "tags": []
   },
   "outputs": [
    {
     "name": "stdout",
     "output_type": "stream",
     "text": [
      "Dropping 665 rows (13.30%) where mode='drop-non-german'\n"
     ]
    }
   ],
   "source": [
    "n_drop = (~keep_mask).sum() # Calculates how many rows are set to be dropped\n",
    "if n_drop > 0:\n",
    "    pct = n_drop / len(keep_mask) * 100\n",
    "    print(f\"Dropping {n_drop} rows ({pct:.2f}%) where mode='{mode}'\")"
   ]
  },
  {
   "cell_type": "code",
   "execution_count": 39,
   "id": "5fb8eee5",
   "metadata": {
    "execution": {
     "iopub.execute_input": "2025-07-30T21:07:39.547073Z",
     "iopub.status.busy": "2025-07-30T21:07:39.546423Z",
     "iopub.status.idle": "2025-07-30T21:07:39.554235Z",
     "shell.execute_reply": "2025-07-30T21:07:39.553300Z"
    },
    "papermill": {
     "duration": 0.032069,
     "end_time": "2025-07-30T21:07:39.555932",
     "exception": false,
     "start_time": "2025-07-30T21:07:39.523863",
     "status": "completed"
    },
    "tags": []
   },
   "outputs": [],
   "source": [
    "X_train = X_train[keep_mask]"
   ]
  },
  {
   "cell_type": "code",
   "execution_count": 40,
   "id": "b202bb3a",
   "metadata": {
    "execution": {
     "iopub.execute_input": "2025-07-30T21:07:39.600867Z",
     "iopub.status.busy": "2025-07-30T21:07:39.600211Z",
     "iopub.status.idle": "2025-07-30T21:07:39.606567Z",
     "shell.execute_reply": "2025-07-30T21:07:39.605722Z"
    },
    "papermill": {
     "duration": 0.030414,
     "end_time": "2025-07-30T21:07:39.608059",
     "exception": false,
     "start_time": "2025-07-30T21:07:39.577645",
     "status": "completed"
    },
    "tags": []
   },
   "outputs": [],
   "source": [
    "y_train = y_train[keep_mask]"
   ]
  },
  {
   "cell_type": "markdown",
   "id": "493e2ac3",
   "metadata": {
    "papermill": {
     "duration": 0.021374,
     "end_time": "2025-07-30T21:07:39.651202",
     "exception": false,
     "start_time": "2025-07-30T21:07:39.629828",
     "status": "completed"
    },
    "tags": []
   },
   "source": [
    "# Model Training"
   ]
  },
  {
   "cell_type": "code",
   "execution_count": 41,
   "id": "679e1268",
   "metadata": {
    "execution": {
     "iopub.execute_input": "2025-07-30T21:07:39.697292Z",
     "iopub.status.busy": "2025-07-30T21:07:39.696845Z",
     "iopub.status.idle": "2025-07-30T21:07:39.812389Z",
     "shell.execute_reply": "2025-07-30T21:07:39.811488Z"
    },
    "papermill": {
     "duration": 0.141765,
     "end_time": "2025-07-30T21:07:39.814656",
     "exception": false,
     "start_time": "2025-07-30T21:07:39.672891",
     "status": "completed"
    },
    "tags": []
   },
   "outputs": [],
   "source": [
    "from sklearn.linear_model import LogisticRegression\n",
    "from sklearn.ensemble import GradientBoostingClassifier, RandomForestClassifier\n",
    "\n",
    "if (universe[\"model\"] == \"logreg\"):\n",
    "    model = LogisticRegression() #penalty=\"none\") #, solver=\"newton-cg\", max_iter=1) # include random_state=19 ?\n",
    "elif (universe[\"model\"] == \"penalized_logreg\"):\n",
    "    model = LogisticRegression(penalty=\"l2\", C=1.0) #, solver=\"newton-cg\", max_iter=1)\n",
    "elif (universe[\"model\"] == \"rf\"):\n",
    "    model = RandomForestClassifier(n_estimators=100, n_jobs=-1)\n",
    "elif (universe[\"model\"] == \"gbm\"):\n",
    "    model = GradientBoostingClassifier()\n",
    "elif (universe[\"model\"] == \"elasticnet\"):\n",
    "    model = LogisticRegression(penalty = 'elasticnet', solver = 'saga', l1_ratio = 0.5, max_iter=5000) # which solver to use?\n",
    "else:\n",
    "    raise \"Unsupported universe.model\""
   ]
  },
  {
   "cell_type": "code",
   "execution_count": 42,
   "id": "0cc8f744",
   "metadata": {
    "execution": {
     "iopub.execute_input": "2025-07-30T21:07:39.876426Z",
     "iopub.status.busy": "2025-07-30T21:07:39.875597Z",
     "iopub.status.idle": "2025-07-30T21:07:39.881822Z",
     "shell.execute_reply": "2025-07-30T21:07:39.880955Z"
    },
    "papermill": {
     "duration": 0.030981,
     "end_time": "2025-07-30T21:07:39.883427",
     "exception": false,
     "start_time": "2025-07-30T21:07:39.852446",
     "status": "completed"
    },
    "tags": []
   },
   "outputs": [],
   "source": [
    "import numpy as np\n",
    "from sklearn.pipeline import Pipeline\n",
    "from sklearn.preprocessing import StandardScaler\n",
    "\n",
    "model = Pipeline([\n",
    "    #(\"continuous_processor\", continuous_processor),\n",
    "    #(\"categorical_preprocessor\", categorical_preprocessor),\n",
    "    (\"scale\", StandardScaler() if universe[\"scale\"] == \"scale\" else None), \n",
    "    (\"model\", model),\n",
    "])"
   ]
  },
  {
   "cell_type": "code",
   "execution_count": 43,
   "id": "9442c04d",
   "metadata": {
    "execution": {
     "iopub.execute_input": "2025-07-30T21:07:39.927291Z",
     "iopub.status.busy": "2025-07-30T21:07:39.926797Z",
     "iopub.status.idle": "2025-07-30T21:09:04.900825Z",
     "shell.execute_reply": "2025-07-30T21:09:04.899718Z"
    },
    "papermill": {
     "duration": 85.021836,
     "end_time": "2025-07-30T21:09:04.925921",
     "exception": false,
     "start_time": "2025-07-30T21:07:39.904085",
     "status": "completed"
    },
    "tags": []
   },
   "outputs": [
    {
     "data": {
      "text/html": [
       "<style>#sk-container-id-1 {color: black;background-color: white;}#sk-container-id-1 pre{padding: 0;}#sk-container-id-1 div.sk-toggleable {background-color: white;}#sk-container-id-1 label.sk-toggleable__label {cursor: pointer;display: block;width: 100%;margin-bottom: 0;padding: 0.3em;box-sizing: border-box;text-align: center;}#sk-container-id-1 label.sk-toggleable__label-arrow:before {content: \"▸\";float: left;margin-right: 0.25em;color: #696969;}#sk-container-id-1 label.sk-toggleable__label-arrow:hover:before {color: black;}#sk-container-id-1 div.sk-estimator:hover label.sk-toggleable__label-arrow:before {color: black;}#sk-container-id-1 div.sk-toggleable__content {max-height: 0;max-width: 0;overflow: hidden;text-align: left;background-color: #f0f8ff;}#sk-container-id-1 div.sk-toggleable__content pre {margin: 0.2em;color: black;border-radius: 0.25em;background-color: #f0f8ff;}#sk-container-id-1 input.sk-toggleable__control:checked~div.sk-toggleable__content {max-height: 200px;max-width: 100%;overflow: auto;}#sk-container-id-1 input.sk-toggleable__control:checked~label.sk-toggleable__label-arrow:before {content: \"▾\";}#sk-container-id-1 div.sk-estimator input.sk-toggleable__control:checked~label.sk-toggleable__label {background-color: #d4ebff;}#sk-container-id-1 div.sk-label input.sk-toggleable__control:checked~label.sk-toggleable__label {background-color: #d4ebff;}#sk-container-id-1 input.sk-hidden--visually {border: 0;clip: rect(1px 1px 1px 1px);clip: rect(1px, 1px, 1px, 1px);height: 1px;margin: -1px;overflow: hidden;padding: 0;position: absolute;width: 1px;}#sk-container-id-1 div.sk-estimator {font-family: monospace;background-color: #f0f8ff;border: 1px dotted black;border-radius: 0.25em;box-sizing: border-box;margin-bottom: 0.5em;}#sk-container-id-1 div.sk-estimator:hover {background-color: #d4ebff;}#sk-container-id-1 div.sk-parallel-item::after {content: \"\";width: 100%;border-bottom: 1px solid gray;flex-grow: 1;}#sk-container-id-1 div.sk-label:hover label.sk-toggleable__label {background-color: #d4ebff;}#sk-container-id-1 div.sk-serial::before {content: \"\";position: absolute;border-left: 1px solid gray;box-sizing: border-box;top: 0;bottom: 0;left: 50%;z-index: 0;}#sk-container-id-1 div.sk-serial {display: flex;flex-direction: column;align-items: center;background-color: white;padding-right: 0.2em;padding-left: 0.2em;position: relative;}#sk-container-id-1 div.sk-item {position: relative;z-index: 1;}#sk-container-id-1 div.sk-parallel {display: flex;align-items: stretch;justify-content: center;background-color: white;position: relative;}#sk-container-id-1 div.sk-item::before, #sk-container-id-1 div.sk-parallel-item::before {content: \"\";position: absolute;border-left: 1px solid gray;box-sizing: border-box;top: 0;bottom: 0;left: 50%;z-index: -1;}#sk-container-id-1 div.sk-parallel-item {display: flex;flex-direction: column;z-index: 1;position: relative;background-color: white;}#sk-container-id-1 div.sk-parallel-item:first-child::after {align-self: flex-end;width: 50%;}#sk-container-id-1 div.sk-parallel-item:last-child::after {align-self: flex-start;width: 50%;}#sk-container-id-1 div.sk-parallel-item:only-child::after {width: 0;}#sk-container-id-1 div.sk-dashed-wrapped {border: 1px dashed gray;margin: 0 0.4em 0.5em 0.4em;box-sizing: border-box;padding-bottom: 0.4em;background-color: white;}#sk-container-id-1 div.sk-label label {font-family: monospace;font-weight: bold;display: inline-block;line-height: 1.2em;}#sk-container-id-1 div.sk-label-container {text-align: center;}#sk-container-id-1 div.sk-container {/* jupyter's `normalize.less` sets `[hidden] { display: none; }` but bootstrap.min.css set `[hidden] { display: none !important; }` so we also need the `!important` here to be able to override the default hidden behavior on the sphinx rendered scikit-learn.org. See: https://github.com/scikit-learn/scikit-learn/issues/21755 */display: inline-block !important;position: relative;}#sk-container-id-1 div.sk-text-repr-fallback {display: none;}</style><div id=\"sk-container-id-1\" class=\"sk-top-container\"><div class=\"sk-text-repr-fallback\"><pre>Pipeline(steps=[(&#x27;scale&#x27;, None),\n",
       "                (&#x27;model&#x27;,\n",
       "                 LogisticRegression(l1_ratio=0.5, max_iter=5000,\n",
       "                                    penalty=&#x27;elasticnet&#x27;, solver=&#x27;saga&#x27;))])</pre><b>In a Jupyter environment, please rerun this cell to show the HTML representation or trust the notebook. <br />On GitHub, the HTML representation is unable to render, please try loading this page with nbviewer.org.</b></div><div class=\"sk-container\" hidden><div class=\"sk-item sk-dashed-wrapped\"><div class=\"sk-label-container\"><div class=\"sk-label sk-toggleable\"><input class=\"sk-toggleable__control sk-hidden--visually\" id=\"sk-estimator-id-1\" type=\"checkbox\" ><label for=\"sk-estimator-id-1\" class=\"sk-toggleable__label sk-toggleable__label-arrow\">Pipeline</label><div class=\"sk-toggleable__content\"><pre>Pipeline(steps=[(&#x27;scale&#x27;, None),\n",
       "                (&#x27;model&#x27;,\n",
       "                 LogisticRegression(l1_ratio=0.5, max_iter=5000,\n",
       "                                    penalty=&#x27;elasticnet&#x27;, solver=&#x27;saga&#x27;))])</pre></div></div></div><div class=\"sk-serial\"><div class=\"sk-item\"><div class=\"sk-estimator sk-toggleable\"><input class=\"sk-toggleable__control sk-hidden--visually\" id=\"sk-estimator-id-2\" type=\"checkbox\" ><label for=\"sk-estimator-id-2\" class=\"sk-toggleable__label sk-toggleable__label-arrow\">None</label><div class=\"sk-toggleable__content\"><pre>None</pre></div></div></div><div class=\"sk-item\"><div class=\"sk-estimator sk-toggleable\"><input class=\"sk-toggleable__control sk-hidden--visually\" id=\"sk-estimator-id-3\" type=\"checkbox\" ><label for=\"sk-estimator-id-3\" class=\"sk-toggleable__label sk-toggleable__label-arrow\">LogisticRegression</label><div class=\"sk-toggleable__content\"><pre>LogisticRegression(l1_ratio=0.5, max_iter=5000, penalty=&#x27;elasticnet&#x27;,\n",
       "                   solver=&#x27;saga&#x27;)</pre></div></div></div></div></div></div></div>"
      ],
      "text/plain": [
       "Pipeline(steps=[('scale', None),\n",
       "                ('model',\n",
       "                 LogisticRegression(l1_ratio=0.5, max_iter=5000,\n",
       "                                    penalty='elasticnet', solver='saga'))])"
      ]
     },
     "execution_count": 43,
     "metadata": {},
     "output_type": "execute_result"
    }
   ],
   "source": [
    "model.fit(X_train, y_train.values.ravel())"
   ]
  },
  {
   "cell_type": "code",
   "execution_count": 44,
   "id": "af59f8c0",
   "metadata": {
    "execution": {
     "iopub.execute_input": "2025-07-30T21:09:04.971596Z",
     "iopub.status.busy": "2025-07-30T21:09:04.971089Z",
     "iopub.status.idle": "2025-07-30T21:09:04.976551Z",
     "shell.execute_reply": "2025-07-30T21:09:04.975670Z"
    },
    "papermill": {
     "duration": 0.030937,
     "end_time": "2025-07-30T21:09:04.978074",
     "exception": false,
     "start_time": "2025-07-30T21:09:04.947137",
     "status": "completed"
    },
    "tags": []
   },
   "outputs": [],
   "source": [
    "from fairness_multiverse.universe import predict_w_threshold"
   ]
  },
  {
   "cell_type": "code",
   "execution_count": 45,
   "id": "a7cf2e16",
   "metadata": {
    "execution": {
     "iopub.execute_input": "2025-07-30T21:09:05.025791Z",
     "iopub.status.busy": "2025-07-30T21:09:05.025362Z",
     "iopub.status.idle": "2025-07-30T21:09:05.126324Z",
     "shell.execute_reply": "2025-07-30T21:09:05.125071Z"
    },
    "papermill": {
     "duration": 0.126215,
     "end_time": "2025-07-30T21:09:05.127774",
     "exception": false,
     "start_time": "2025-07-30T21:09:05.001559",
     "status": "completed"
    },
    "tags": []
   },
   "outputs": [
    {
     "data": {
      "text/plain": [
       "0.8587336974696244"
      ]
     },
     "execution_count": 45,
     "metadata": {},
     "output_type": "execute_result"
    }
   ],
   "source": [
    "probs_test = model.predict_proba(X_test)\n",
    "\n",
    "'''\n",
    "Below code returns a boolean array (or binary 0/1 array depending on how it’s used) where each element \n",
    "is True if the probability of class 1 is greater than or equal to the threshold, and False otherwise.\n",
    "'''\n",
    "y_pred_default = predict_w_threshold(probs_test, 0.5)\n",
    "\n",
    "from sklearn.metrics import accuracy_score\n",
    "\n",
    "# Naive prediction\n",
    "accuracy_score(y_true = y_true, y_pred = y_pred_default)"
   ]
  },
  {
   "cell_type": "code",
   "execution_count": 46,
   "id": "081964c3",
   "metadata": {
    "execution": {
     "iopub.execute_input": "2025-07-30T21:09:05.173731Z",
     "iopub.status.busy": "2025-07-30T21:09:05.173247Z",
     "iopub.status.idle": "2025-07-30T21:09:05.255604Z",
     "shell.execute_reply": "2025-07-30T21:09:05.254656Z"
    },
    "papermill": {
     "duration": 0.107027,
     "end_time": "2025-07-30T21:09:05.257534",
     "exception": false,
     "start_time": "2025-07-30T21:09:05.150507",
     "status": "completed"
    },
    "tags": []
   },
   "outputs": [
    {
     "data": {
      "text/plain": [
       "array([0, 0, 0, ..., 0, 0, 0])"
      ]
     },
     "execution_count": 46,
     "metadata": {},
     "output_type": "execute_result"
    }
   ],
   "source": [
    "model.predict(X_test)"
   ]
  },
  {
   "cell_type": "markdown",
   "id": "56c9705b",
   "metadata": {
    "papermill": {
     "duration": 0.028772,
     "end_time": "2025-07-30T21:09:05.316012",
     "exception": false,
     "start_time": "2025-07-30T21:09:05.287240",
     "status": "completed"
    },
    "tags": []
   },
   "source": [
    "# Conformal Prediction"
   ]
  },
  {
   "cell_type": "code",
   "execution_count": 47,
   "id": "160ec6ff",
   "metadata": {
    "execution": {
     "iopub.execute_input": "2025-07-30T21:09:05.376460Z",
     "iopub.status.busy": "2025-07-30T21:09:05.375503Z",
     "iopub.status.idle": "2025-07-30T21:09:05.380818Z",
     "shell.execute_reply": "2025-07-30T21:09:05.379881Z"
    },
    "papermill": {
     "duration": 0.037576,
     "end_time": "2025-07-30T21:09:05.382708",
     "exception": false,
     "start_time": "2025-07-30T21:09:05.345132",
     "status": "completed"
    },
    "tags": []
   },
   "outputs": [],
   "source": [
    "# Miscoverage level for conformal prediction (10% allowed error rate => 90% target coverage)\n",
    "alpha = 0.1"
   ]
  },
  {
   "cell_type": "code",
   "execution_count": 48,
   "id": "eadf4555-3dd3-440e-8e35-f82a4ad9f855",
   "metadata": {
    "execution": {
     "iopub.execute_input": "2025-07-30T21:09:05.443711Z",
     "iopub.status.busy": "2025-07-30T21:09:05.443038Z",
     "iopub.status.idle": "2025-07-30T21:09:05.527258Z",
     "shell.execute_reply": "2025-07-30T21:09:05.526249Z"
    },
    "papermill": {
     "duration": 0.116954,
     "end_time": "2025-07-30T21:09:05.529624",
     "exception": false,
     "start_time": "2025-07-30T21:09:05.412670",
     "status": "completed"
    },
    "tags": []
   },
   "outputs": [],
   "source": [
    "probs_calib = model.predict_proba(X_calib)"
   ]
  },
  {
   "cell_type": "code",
   "execution_count": 49,
   "id": "2ed93547-6d5d-4983-9b36-1ecb300da49a",
   "metadata": {
    "execution": {
     "iopub.execute_input": "2025-07-30T21:09:05.590482Z",
     "iopub.status.busy": "2025-07-30T21:09:05.589811Z",
     "iopub.status.idle": "2025-07-30T21:09:05.596718Z",
     "shell.execute_reply": "2025-07-30T21:09:05.595729Z"
    },
    "papermill": {
     "duration": 0.039065,
     "end_time": "2025-07-30T21:09:05.598344",
     "exception": false,
     "start_time": "2025-07-30T21:09:05.559279",
     "status": "completed"
    },
    "tags": []
   },
   "outputs": [],
   "source": [
    "y_calib = y_calib.values.ravel().astype(int)"
   ]
  },
  {
   "cell_type": "code",
   "execution_count": 50,
   "id": "65d1320d-f588-4b38-9072-62af1ae97f7d",
   "metadata": {
    "execution": {
     "iopub.execute_input": "2025-07-30T21:09:05.645621Z",
     "iopub.status.busy": "2025-07-30T21:09:05.644735Z",
     "iopub.status.idle": "2025-07-30T21:09:05.651885Z",
     "shell.execute_reply": "2025-07-30T21:09:05.651001Z"
    },
    "papermill": {
     "duration": 0.032718,
     "end_time": "2025-07-30T21:09:05.653766",
     "exception": false,
     "start_time": "2025-07-30T21:09:05.621048",
     "status": "completed"
    },
    "tags": []
   },
   "outputs": [],
   "source": [
    "from fairness_multiverse.conformal import compute_nc_scores\n",
    "\n",
    "# Compute nonconformity scores on calibration set (1 - probability of true class)\n",
    "nc_scores = compute_nc_scores(probs_calib, y_calib)"
   ]
  },
  {
   "cell_type": "code",
   "execution_count": 51,
   "id": "df3b8ca3-53b7-43d5-9667-7c85da7aeda2",
   "metadata": {
    "execution": {
     "iopub.execute_input": "2025-07-30T21:09:05.714279Z",
     "iopub.status.busy": "2025-07-30T21:09:05.713593Z",
     "iopub.status.idle": "2025-07-30T21:09:05.721351Z",
     "shell.execute_reply": "2025-07-30T21:09:05.720432Z"
    },
    "papermill": {
     "duration": 0.039726,
     "end_time": "2025-07-30T21:09:05.722966",
     "exception": false,
     "start_time": "2025-07-30T21:09:05.683240",
     "status": "completed"
    },
    "tags": []
   },
   "outputs": [],
   "source": [
    "from fairness_multiverse.conformal import find_threshold\n",
    "\n",
    "# Find conformal threshold q_hat for the given alpha (split conformal method)\n",
    "q_hat = find_threshold(nc_scores, alpha)"
   ]
  },
  {
   "cell_type": "code",
   "execution_count": 52,
   "id": "4d29e6c1-0ef6-4aa4-b8fe-4fe79b0d033a",
   "metadata": {
    "execution": {
     "iopub.execute_input": "2025-07-30T21:09:05.770577Z",
     "iopub.status.busy": "2025-07-30T21:09:05.769708Z",
     "iopub.status.idle": "2025-07-30T21:09:05.777091Z",
     "shell.execute_reply": "2025-07-30T21:09:05.776083Z"
    },
    "papermill": {
     "duration": 0.032989,
     "end_time": "2025-07-30T21:09:05.778894",
     "exception": false,
     "start_time": "2025-07-30T21:09:05.745905",
     "status": "completed"
    },
    "tags": []
   },
   "outputs": [
    {
     "data": {
      "text/plain": [
       "0.6931332200075417"
      ]
     },
     "execution_count": 52,
     "metadata": {},
     "output_type": "execute_result"
    }
   ],
   "source": [
    "q_hat"
   ]
  },
  {
   "cell_type": "code",
   "execution_count": 53,
   "id": "92460794-cdac-4be2-ba28-f28c0515a6fb",
   "metadata": {
    "execution": {
     "iopub.execute_input": "2025-07-30T21:09:05.842330Z",
     "iopub.status.busy": "2025-07-30T21:09:05.841577Z",
     "iopub.status.idle": "2025-07-30T21:09:07.048526Z",
     "shell.execute_reply": "2025-07-30T21:09:07.047286Z"
    },
    "papermill": {
     "duration": 1.24086,
     "end_time": "2025-07-30T21:09:07.050553",
     "exception": false,
     "start_time": "2025-07-30T21:09:05.809693",
     "status": "completed"
    },
    "tags": []
   },
   "outputs": [],
   "source": [
    "from fairness_multiverse.conformal import predict_conformal_sets\n",
    "\n",
    "# Generate prediction sets for each test example\n",
    "pred_sets = predict_conformal_sets(model, X_test, q_hat)"
   ]
  },
  {
   "cell_type": "code",
   "execution_count": 54,
   "id": "d90c9a65-e6db-4f5d-80cd-e68fb7e46829",
   "metadata": {
    "execution": {
     "iopub.execute_input": "2025-07-30T21:09:07.085117Z",
     "iopub.status.busy": "2025-07-30T21:09:07.084743Z",
     "iopub.status.idle": "2025-07-30T21:09:07.089868Z",
     "shell.execute_reply": "2025-07-30T21:09:07.089058Z"
    },
    "papermill": {
     "duration": 0.01991,
     "end_time": "2025-07-30T21:09:07.091535",
     "exception": false,
     "start_time": "2025-07-30T21:09:07.071625",
     "status": "completed"
    },
    "tags": []
   },
   "outputs": [],
   "source": [
    "y_true = y_true.squeeze()"
   ]
  },
  {
   "cell_type": "code",
   "execution_count": 55,
   "id": "3a58a54a-1e68-46b9-927a-df01f18aebc8",
   "metadata": {
    "execution": {
     "iopub.execute_input": "2025-07-30T21:09:07.138691Z",
     "iopub.status.busy": "2025-07-30T21:09:07.138227Z",
     "iopub.status.idle": "2025-07-30T21:09:08.036410Z",
     "shell.execute_reply": "2025-07-30T21:09:08.035529Z"
    },
    "papermill": {
     "duration": 0.925103,
     "end_time": "2025-07-30T21:09:08.039954",
     "exception": false,
     "start_time": "2025-07-30T21:09:07.114851",
     "status": "completed"
    },
    "tags": []
   },
   "outputs": [],
   "source": [
    "from fairness_multiverse.conformal import evaluate_sets\n",
    "\n",
    "# Evaluate coverage and average set size on test data\n",
    "metrics = evaluate_sets(pred_sets, y_true)"
   ]
  },
  {
   "cell_type": "markdown",
   "id": "2b569c12-9aaa-4c88-98c9-bbcd0cf3ebb8",
   "metadata": {
    "papermill": {
     "duration": 0.022986,
     "end_time": "2025-07-30T21:09:08.088267",
     "exception": false,
     "start_time": "2025-07-30T21:09:08.065281",
     "status": "completed"
    },
    "tags": []
   },
   "source": [
    "# CP Metrics"
   ]
  },
  {
   "cell_type": "code",
   "execution_count": 56,
   "id": "5ce0a5cb-201f-45a0-ade5-94c7f0bd6095",
   "metadata": {
    "execution": {
     "iopub.execute_input": "2025-07-30T21:09:08.137093Z",
     "iopub.status.busy": "2025-07-30T21:09:08.136578Z",
     "iopub.status.idle": "2025-07-30T21:09:08.144139Z",
     "shell.execute_reply": "2025-07-30T21:09:08.143088Z"
    },
    "papermill": {
     "duration": 0.034056,
     "end_time": "2025-07-30T21:09:08.145758",
     "exception": false,
     "start_time": "2025-07-30T21:09:08.111702",
     "status": "completed"
    },
    "tags": []
   },
   "outputs": [
    {
     "data": {
      "text/plain": [
       "{'coverage': 0.9098428268866348, 'avg_size': 1.151621892765578}"
      ]
     },
     "execution_count": 56,
     "metadata": {},
     "output_type": "execute_result"
    }
   ],
   "source": [
    "metrics"
   ]
  },
  {
   "cell_type": "code",
   "execution_count": 57,
   "id": "9b9a838d-31c9-430b-ae14-12baee460d17",
   "metadata": {
    "execution": {
     "iopub.execute_input": "2025-07-30T21:09:08.194879Z",
     "iopub.status.busy": "2025-07-30T21:09:08.193995Z",
     "iopub.status.idle": "2025-07-30T21:09:08.200980Z",
     "shell.execute_reply": "2025-07-30T21:09:08.200090Z"
    },
    "papermill": {
     "duration": 0.033155,
     "end_time": "2025-07-30T21:09:08.202522",
     "exception": false,
     "start_time": "2025-07-30T21:09:08.169367",
     "status": "completed"
    },
    "tags": []
   },
   "outputs": [],
   "source": [
    "example_universe = universe.copy()\n",
    "universe_training_year = example_universe.get(\"training_year\")\n",
    "universe_training_size = example_universe.get(\"training_size\")\n",
    "universe_scale = example_universe.get(\"scale\")\n",
    "universe_model = example_universe.get(\"model\")\n",
    "universe_exclude_features = example_universe.get(\"exclude_features\")\n",
    "universe_exclude_subgroups = example_universe.get(\"exclude_subgroups\")"
   ]
  },
  {
   "cell_type": "code",
   "execution_count": 58,
   "id": "f4b6a8ac-9dc0-4245-8a91-5b3b5999c4f9",
   "metadata": {
    "execution": {
     "iopub.execute_input": "2025-07-30T21:09:08.251685Z",
     "iopub.status.busy": "2025-07-30T21:09:08.250796Z",
     "iopub.status.idle": "2025-07-30T21:09:08.257485Z",
     "shell.execute_reply": "2025-07-30T21:09:08.256583Z"
    },
    "papermill": {
     "duration": 0.032911,
     "end_time": "2025-07-30T21:09:08.259124",
     "exception": false,
     "start_time": "2025-07-30T21:09:08.226213",
     "status": "completed"
    },
    "tags": []
   },
   "outputs": [],
   "source": [
    "cp_metrics_dict = {\n",
    "    \"universe_id\": [universe_id],\n",
    "    \"universe_training_year\": [universe_training_year],\n",
    "    \"universe_training_size\": [universe_training_size],\n",
    "    \"universe_scale\": [universe_scale],\n",
    "    \"universe_model\": [universe_model],\n",
    "    \"universe_exclude_features\": [universe_exclude_features],\n",
    "    \"universe_exclude_subgroups\": [universe_exclude_subgroups],\n",
    "    \"q_hat\": [q_hat],\n",
    "    \"coverage\": [metrics[\"coverage\"]],\n",
    "    \"avg_size\": [metrics[\"avg_size\"]],\n",
    "}"
   ]
  },
  {
   "cell_type": "code",
   "execution_count": 59,
   "id": "908acbb1-0371-4915-85ca-3fa520d2efe2",
   "metadata": {
    "execution": {
     "iopub.execute_input": "2025-07-30T21:09:08.308138Z",
     "iopub.status.busy": "2025-07-30T21:09:08.307702Z",
     "iopub.status.idle": "2025-07-30T21:09:08.315075Z",
     "shell.execute_reply": "2025-07-30T21:09:08.314218Z"
    },
    "papermill": {
     "duration": 0.033601,
     "end_time": "2025-07-30T21:09:08.316625",
     "exception": false,
     "start_time": "2025-07-30T21:09:08.283024",
     "status": "completed"
    },
    "tags": []
   },
   "outputs": [
    {
     "data": {
      "text/plain": [
       "{'universe_id': ['f52dc435e4458b2119cc4a3278ff7b74'],\n",
       " 'universe_training_year': ['2012_14'],\n",
       " 'universe_training_size': ['5k'],\n",
       " 'universe_scale': ['do-not-scale'],\n",
       " 'universe_model': ['elasticnet'],\n",
       " 'universe_exclude_features': ['sex'],\n",
       " 'universe_exclude_subgroups': ['drop-non-german'],\n",
       " 'q_hat': [0.6931332200075417],\n",
       " 'coverage': [0.9098428268866348],\n",
       " 'avg_size': [1.151621892765578]}"
      ]
     },
     "execution_count": 59,
     "metadata": {},
     "output_type": "execute_result"
    }
   ],
   "source": [
    "cp_metrics_dict"
   ]
  },
  {
   "cell_type": "code",
   "execution_count": 60,
   "id": "33007efc-14e9-4ec6-97ac-56a455c82265",
   "metadata": {
    "execution": {
     "iopub.execute_input": "2025-07-30T21:09:08.365269Z",
     "iopub.status.busy": "2025-07-30T21:09:08.364830Z",
     "iopub.status.idle": "2025-07-30T21:09:08.371270Z",
     "shell.execute_reply": "2025-07-30T21:09:08.370394Z"
    },
    "papermill": {
     "duration": 0.031795,
     "end_time": "2025-07-30T21:09:08.372702",
     "exception": false,
     "start_time": "2025-07-30T21:09:08.340907",
     "status": "completed"
    },
    "tags": []
   },
   "outputs": [],
   "source": [
    "cp_metrics_df = pd.DataFrame(cp_metrics_dict)"
   ]
  },
  {
   "cell_type": "code",
   "execution_count": 61,
   "id": "db12611b-57b2-4910-b9d0-355adfd6e7bf",
   "metadata": {
    "execution": {
     "iopub.execute_input": "2025-07-30T21:09:08.421136Z",
     "iopub.status.busy": "2025-07-30T21:09:08.420494Z",
     "iopub.status.idle": "2025-07-30T21:09:08.446584Z",
     "shell.execute_reply": "2025-07-30T21:09:08.438682Z"
    },
    "papermill": {
     "duration": 0.052904,
     "end_time": "2025-07-30T21:09:08.448663",
     "exception": false,
     "start_time": "2025-07-30T21:09:08.395759",
     "status": "completed"
    },
    "tags": []
   },
   "outputs": [
    {
     "data": {
      "text/html": [
       "<div>\n",
       "<style scoped>\n",
       "    .dataframe tbody tr th:only-of-type {\n",
       "        vertical-align: middle;\n",
       "    }\n",
       "\n",
       "    .dataframe tbody tr th {\n",
       "        vertical-align: top;\n",
       "    }\n",
       "\n",
       "    .dataframe thead th {\n",
       "        text-align: right;\n",
       "    }\n",
       "</style>\n",
       "<table border=\"1\" class=\"dataframe\">\n",
       "  <thead>\n",
       "    <tr style=\"text-align: right;\">\n",
       "      <th></th>\n",
       "      <th>universe_id</th>\n",
       "      <th>universe_training_year</th>\n",
       "      <th>universe_training_size</th>\n",
       "      <th>universe_scale</th>\n",
       "      <th>universe_model</th>\n",
       "      <th>universe_exclude_features</th>\n",
       "      <th>universe_exclude_subgroups</th>\n",
       "      <th>q_hat</th>\n",
       "      <th>coverage</th>\n",
       "      <th>avg_size</th>\n",
       "    </tr>\n",
       "  </thead>\n",
       "  <tbody>\n",
       "    <tr>\n",
       "      <th>0</th>\n",
       "      <td>f52dc435e4458b2119cc4a3278ff7b74</td>\n",
       "      <td>2012_14</td>\n",
       "      <td>5k</td>\n",
       "      <td>do-not-scale</td>\n",
       "      <td>elasticnet</td>\n",
       "      <td>sex</td>\n",
       "      <td>drop-non-german</td>\n",
       "      <td>0.693133</td>\n",
       "      <td>0.909843</td>\n",
       "      <td>1.151622</td>\n",
       "    </tr>\n",
       "  </tbody>\n",
       "</table>\n",
       "</div>"
      ],
      "text/plain": [
       "                        universe_id universe_training_year  \\\n",
       "0  f52dc435e4458b2119cc4a3278ff7b74                2012_14   \n",
       "\n",
       "  universe_training_size universe_scale universe_model  \\\n",
       "0                     5k   do-not-scale     elasticnet   \n",
       "\n",
       "  universe_exclude_features universe_exclude_subgroups     q_hat  coverage  \\\n",
       "0                       sex            drop-non-german  0.693133  0.909843   \n",
       "\n",
       "   avg_size  \n",
       "0  1.151622  "
      ]
     },
     "execution_count": 61,
     "metadata": {},
     "output_type": "execute_result"
    }
   ],
   "source": [
    "cp_metrics_df"
   ]
  },
  {
   "cell_type": "code",
   "execution_count": 62,
   "id": "b7fbde55-a0a1-47e4-9af6-fe4a17fa8c61",
   "metadata": {
    "execution": {
     "iopub.execute_input": "2025-07-30T21:09:08.499029Z",
     "iopub.status.busy": "2025-07-30T21:09:08.498259Z",
     "iopub.status.idle": "2025-07-30T21:09:08.504342Z",
     "shell.execute_reply": "2025-07-30T21:09:08.503283Z"
    },
    "papermill": {
     "duration": 0.032655,
     "end_time": "2025-07-30T21:09:08.506023",
     "exception": false,
     "start_time": "2025-07-30T21:09:08.473368",
     "status": "completed"
    },
    "tags": []
   },
   "outputs": [],
   "source": [
    "# Conditional Coverage & looking at subgroups"
   ]
  },
  {
   "cell_type": "code",
   "execution_count": 63,
   "id": "027ae886-68dd-4141-96c7-805a5450e1ef",
   "metadata": {
    "execution": {
     "iopub.execute_input": "2025-07-30T21:09:08.556837Z",
     "iopub.status.busy": "2025-07-30T21:09:08.556003Z",
     "iopub.status.idle": "2025-07-30T21:09:08.817200Z",
     "shell.execute_reply": "2025-07-30T21:09:08.816214Z"
    },
    "papermill": {
     "duration": 0.288622,
     "end_time": "2025-07-30T21:09:08.818884",
     "exception": false,
     "start_time": "2025-07-30T21:09:08.530262",
     "status": "completed"
    },
    "tags": []
   },
   "outputs": [],
   "source": [
    "from fairness_multiverse.conformal import build_cp_groups\n",
    "\n",
    "cp_groups_df = build_cp_groups(pred_sets, y_true, X_test.index, org_test)\n",
    "#needs universe_id and setting"
   ]
  },
  {
   "cell_type": "code",
   "execution_count": 64,
   "id": "01d5802c-663a-4d1f-9d69-e036faaffbf7",
   "metadata": {
    "execution": {
     "iopub.execute_input": "2025-07-30T21:09:08.867738Z",
     "iopub.status.busy": "2025-07-30T21:09:08.867383Z",
     "iopub.status.idle": "2025-07-30T21:09:08.871203Z",
     "shell.execute_reply": "2025-07-30T21:09:08.870506Z"
    },
    "papermill": {
     "duration": 0.029381,
     "end_time": "2025-07-30T21:09:08.872488",
     "exception": false,
     "start_time": "2025-07-30T21:09:08.843107",
     "status": "completed"
    },
    "tags": []
   },
   "outputs": [],
   "source": [
    "#delete\n",
    "#cp_groups_df"
   ]
  },
  {
   "cell_type": "code",
   "execution_count": 65,
   "id": "fa424af1-d1eb-443d-b717-2d279ada8408",
   "metadata": {
    "execution": {
     "iopub.execute_input": "2025-07-30T21:09:08.915154Z",
     "iopub.status.busy": "2025-07-30T21:09:08.914752Z",
     "iopub.status.idle": "2025-07-30T21:09:08.919220Z",
     "shell.execute_reply": "2025-07-30T21:09:08.918253Z"
    },
    "papermill": {
     "duration": 0.032258,
     "end_time": "2025-07-30T21:09:08.920805",
     "exception": false,
     "start_time": "2025-07-30T21:09:08.888547",
     "status": "completed"
    },
    "tags": []
   },
   "outputs": [],
   "source": [
    "#delete\n",
    "#percentage = (cp_groups_df['nongerman_female'] == 1).mean() * 100\n",
    "#print(percentage)\n"
   ]
  },
  {
   "cell_type": "code",
   "execution_count": 66,
   "id": "6cbdab96-b2b2-45af-ad54-d0516db2e28d",
   "metadata": {
    "execution": {
     "iopub.execute_input": "2025-07-30T21:09:08.968885Z",
     "iopub.status.busy": "2025-07-30T21:09:08.968391Z",
     "iopub.status.idle": "2025-07-30T21:09:10.522061Z",
     "shell.execute_reply": "2025-07-30T21:09:10.521185Z"
    },
    "papermill": {
     "duration": 1.582114,
     "end_time": "2025-07-30T21:09:10.523862",
     "exception": false,
     "start_time": "2025-07-30T21:09:08.941748",
     "status": "completed"
    },
    "tags": []
   },
   "outputs": [],
   "source": [
    "# Define covered = 1 if true_label is in the predicted set\n",
    "cp_groups_df['covered'] = cp_groups_df.apply(\n",
    "    lambda r: int(r['true_label'] in r['pred_set']),\n",
    "    axis=1\n",
    ")"
   ]
  },
  {
   "cell_type": "code",
   "execution_count": 67,
   "id": "338ff529-1a6b-4b87-a931-8e4788d52aad",
   "metadata": {
    "execution": {
     "iopub.execute_input": "2025-07-30T21:09:10.573109Z",
     "iopub.status.busy": "2025-07-30T21:09:10.572708Z",
     "iopub.status.idle": "2025-07-30T21:09:10.577209Z",
     "shell.execute_reply": "2025-07-30T21:09:10.576346Z"
    },
    "papermill": {
     "duration": 0.030607,
     "end_time": "2025-07-30T21:09:10.578784",
     "exception": false,
     "start_time": "2025-07-30T21:09:10.548177",
     "status": "completed"
    },
    "tags": []
   },
   "outputs": [],
   "source": [
    "#cp_groups_df"
   ]
  },
  {
   "cell_type": "code",
   "execution_count": 68,
   "id": "90032e27-66df-4540-9169-4e89cfbaa758",
   "metadata": {
    "execution": {
     "iopub.execute_input": "2025-07-30T21:09:10.627497Z",
     "iopub.status.busy": "2025-07-30T21:09:10.627122Z",
     "iopub.status.idle": "2025-07-30T21:09:10.637471Z",
     "shell.execute_reply": "2025-07-30T21:09:10.636711Z"
    },
    "papermill": {
     "duration": 0.036088,
     "end_time": "2025-07-30T21:09:10.638937",
     "exception": false,
     "start_time": "2025-07-30T21:09:10.602849",
     "status": "completed"
    },
    "tags": []
   },
   "outputs": [],
   "source": [
    "subgroups = ['frau1','nongerman','nongerman_male','nongerman_female']\n",
    "\n",
    "# Conditional coverage for subgroup==1\n",
    "cond_coverage = {\n",
    "    g: cp_groups_df.loc[cp_groups_df[g]==1, 'covered'].mean()\n",
    "    for g in subgroups\n",
    "}"
   ]
  },
  {
   "cell_type": "code",
   "execution_count": 69,
   "id": "1e348fb1-b9c3-45bc-ba23-f016827a7e0d",
   "metadata": {
    "execution": {
     "iopub.execute_input": "2025-07-30T21:09:10.689889Z",
     "iopub.status.busy": "2025-07-30T21:09:10.689239Z",
     "iopub.status.idle": "2025-07-30T21:09:10.696539Z",
     "shell.execute_reply": "2025-07-30T21:09:10.695633Z"
    },
    "papermill": {
     "duration": 0.03461,
     "end_time": "2025-07-30T21:09:10.698023",
     "exception": false,
     "start_time": "2025-07-30T21:09:10.663413",
     "status": "completed"
    },
    "tags": []
   },
   "outputs": [
    {
     "data": {
      "text/plain": [
       "{'frau1': 0.9065372691737431,\n",
       " 'nongerman': 0.9107393476674339,\n",
       " 'nongerman_male': 0.9265964153832298,\n",
       " 'nongerman_female': 0.8845007451564829}"
      ]
     },
     "execution_count": 69,
     "metadata": {},
     "output_type": "execute_result"
    }
   ],
   "source": [
    "cond_coverage"
   ]
  },
  {
   "cell_type": "code",
   "execution_count": 70,
   "id": "f5093324-c3dd-4d63-bc4c-8d945e5c8bbb",
   "metadata": {
    "execution": {
     "iopub.execute_input": "2025-07-30T21:09:10.750591Z",
     "iopub.status.busy": "2025-07-30T21:09:10.749920Z",
     "iopub.status.idle": "2025-07-30T21:09:10.757449Z",
     "shell.execute_reply": "2025-07-30T21:09:10.756535Z"
    },
    "papermill": {
     "duration": 0.035074,
     "end_time": "2025-07-30T21:09:10.759070",
     "exception": false,
     "start_time": "2025-07-30T21:09:10.723996",
     "status": "completed"
    },
    "tags": []
   },
   "outputs": [],
   "source": [
    "for subgroup, cov in cond_coverage.items():\n",
    "    cp_metrics_df[f\"cov_{subgroup}\"] = cov"
   ]
  },
  {
   "cell_type": "code",
   "execution_count": 71,
   "id": "6e872e10-dbe5-49e8-b554-5030c98ff75d",
   "metadata": {
    "execution": {
     "iopub.execute_input": "2025-07-30T21:09:10.809318Z",
     "iopub.status.busy": "2025-07-30T21:09:10.808516Z",
     "iopub.status.idle": "2025-07-30T21:09:10.826219Z",
     "shell.execute_reply": "2025-07-30T21:09:10.825405Z"
    },
    "papermill": {
     "duration": 0.043872,
     "end_time": "2025-07-30T21:09:10.827744",
     "exception": false,
     "start_time": "2025-07-30T21:09:10.783872",
     "status": "completed"
    },
    "tags": []
   },
   "outputs": [
    {
     "data": {
      "text/html": [
       "<div>\n",
       "<style scoped>\n",
       "    .dataframe tbody tr th:only-of-type {\n",
       "        vertical-align: middle;\n",
       "    }\n",
       "\n",
       "    .dataframe tbody tr th {\n",
       "        vertical-align: top;\n",
       "    }\n",
       "\n",
       "    .dataframe thead th {\n",
       "        text-align: right;\n",
       "    }\n",
       "</style>\n",
       "<table border=\"1\" class=\"dataframe\">\n",
       "  <thead>\n",
       "    <tr style=\"text-align: right;\">\n",
       "      <th></th>\n",
       "      <th>universe_id</th>\n",
       "      <th>universe_training_year</th>\n",
       "      <th>universe_training_size</th>\n",
       "      <th>universe_scale</th>\n",
       "      <th>universe_model</th>\n",
       "      <th>universe_exclude_features</th>\n",
       "      <th>universe_exclude_subgroups</th>\n",
       "      <th>q_hat</th>\n",
       "      <th>coverage</th>\n",
       "      <th>avg_size</th>\n",
       "      <th>cov_frau1</th>\n",
       "      <th>cov_nongerman</th>\n",
       "      <th>cov_nongerman_male</th>\n",
       "      <th>cov_nongerman_female</th>\n",
       "    </tr>\n",
       "  </thead>\n",
       "  <tbody>\n",
       "    <tr>\n",
       "      <th>0</th>\n",
       "      <td>f52dc435e4458b2119cc4a3278ff7b74</td>\n",
       "      <td>2012_14</td>\n",
       "      <td>5k</td>\n",
       "      <td>do-not-scale</td>\n",
       "      <td>elasticnet</td>\n",
       "      <td>sex</td>\n",
       "      <td>drop-non-german</td>\n",
       "      <td>0.693133</td>\n",
       "      <td>0.909843</td>\n",
       "      <td>1.151622</td>\n",
       "      <td>0.906537</td>\n",
       "      <td>0.910739</td>\n",
       "      <td>0.926596</td>\n",
       "      <td>0.884501</td>\n",
       "    </tr>\n",
       "  </tbody>\n",
       "</table>\n",
       "</div>"
      ],
      "text/plain": [
       "                        universe_id universe_training_year  \\\n",
       "0  f52dc435e4458b2119cc4a3278ff7b74                2012_14   \n",
       "\n",
       "  universe_training_size universe_scale universe_model  \\\n",
       "0                     5k   do-not-scale     elasticnet   \n",
       "\n",
       "  universe_exclude_features universe_exclude_subgroups     q_hat  coverage  \\\n",
       "0                       sex            drop-non-german  0.693133  0.909843   \n",
       "\n",
       "   avg_size  cov_frau1  cov_nongerman  cov_nongerman_male  \\\n",
       "0  1.151622   0.906537       0.910739            0.926596   \n",
       "\n",
       "   cov_nongerman_female  \n",
       "0              0.884501  "
      ]
     },
     "execution_count": 71,
     "metadata": {},
     "output_type": "execute_result"
    }
   ],
   "source": [
    "cp_metrics_df"
   ]
  },
  {
   "cell_type": "markdown",
   "id": "33774451",
   "metadata": {
    "papermill": {
     "duration": 0.025497,
     "end_time": "2025-07-30T21:09:10.877802",
     "exception": false,
     "start_time": "2025-07-30T21:09:10.852305",
     "status": "completed"
    },
    "tags": []
   },
   "source": [
    "# (Fairness) Metrics"
   ]
  },
  {
   "cell_type": "code",
   "execution_count": 72,
   "id": "debc5d62",
   "metadata": {
    "execution": {
     "iopub.execute_input": "2025-07-30T21:09:10.933690Z",
     "iopub.status.busy": "2025-07-30T21:09:10.933057Z",
     "iopub.status.idle": "2025-07-30T21:09:10.951304Z",
     "shell.execute_reply": "2025-07-30T21:09:10.950633Z"
    },
    "papermill": {
     "duration": 0.047465,
     "end_time": "2025-07-30T21:09:10.953119",
     "exception": false,
     "start_time": "2025-07-30T21:09:10.905654",
     "status": "completed"
    },
    "tags": []
   },
   "outputs": [],
   "source": [
    "# do I need to include maxdeutsch1.missing?\n",
    "\n",
    "import numpy as np\n",
    "\n",
    "colname_to_bin = \"maxdeutsch1\"\n",
    "majority_value = org_train[colname_to_bin].mode()[0]\n",
    "\n",
    "org_test[\"majmin\"] = np.where(org_test[colname_to_bin] == majority_value, \"majority\", \"minority\")"
   ]
  },
  {
   "cell_type": "code",
   "execution_count": 73,
   "id": "06a50de5",
   "metadata": {
    "execution": {
     "iopub.execute_input": "2025-07-30T21:09:11.003680Z",
     "iopub.status.busy": "2025-07-30T21:09:11.003248Z",
     "iopub.status.idle": "2025-07-30T21:09:13.920647Z",
     "shell.execute_reply": "2025-07-30T21:09:13.919768Z"
    },
    "papermill": {
     "duration": 2.944349,
     "end_time": "2025-07-30T21:09:13.922447",
     "exception": false,
     "start_time": "2025-07-30T21:09:10.978098",
     "status": "completed"
    },
    "tags": []
   },
   "outputs": [],
   "source": [
    "example_universe = universe.copy()\n",
    "example_universe[\"cutoff\"] = example_universe[\"cutoff\"][0]\n",
    "example_universe[\"eval_fairness_grouping\"] = example_universe[\"eval_fairness_grouping\"][0]\n",
    "fairness_dict, metric_frame = universe_analysis.compute_metrics(\n",
    "    example_universe,\n",
    "    y_pred_prob=probs_test,\n",
    "    y_test=y_true,\n",
    "    org_test=org_test,\n",
    ")"
   ]
  },
  {
   "cell_type": "markdown",
   "id": "f95d4e02",
   "metadata": {
    "papermill": {
     "duration": 0.026222,
     "end_time": "2025-07-30T21:09:13.978191",
     "exception": false,
     "start_time": "2025-07-30T21:09:13.951969",
     "status": "completed"
    },
    "tags": []
   },
   "source": [
    "# Overall"
   ]
  },
  {
   "cell_type": "markdown",
   "id": "bdee4871",
   "metadata": {
    "papermill": {
     "duration": 0.026286,
     "end_time": "2025-07-30T21:09:14.029942",
     "exception": false,
     "start_time": "2025-07-30T21:09:14.003656",
     "status": "completed"
    },
    "tags": []
   },
   "source": [
    "Fairness\n",
    "Main fairness target: Equalized Odds. Seems to be a better fit than equal opportunity, since we're not only interested in Y = 1. Seems to be a better fit than demographic parity, since we also care about accuracy, not just equal distribution of preds.\n",
    "\n",
    "Pick column for computation of fairness metrics\n",
    "\n",
    "Performance\n",
    "Overall performance measures, most interesting in relation to the measures split by group below"
   ]
  },
  {
   "cell_type": "code",
   "execution_count": 74,
   "id": "c4e067c6",
   "metadata": {
    "execution": {
     "iopub.execute_input": "2025-07-30T21:09:14.083335Z",
     "iopub.status.busy": "2025-07-30T21:09:14.082677Z",
     "iopub.status.idle": "2025-07-30T21:09:14.090930Z",
     "shell.execute_reply": "2025-07-30T21:09:14.090023Z"
    },
    "papermill": {
     "duration": 0.036089,
     "end_time": "2025-07-30T21:09:14.092608",
     "exception": false,
     "start_time": "2025-07-30T21:09:14.056519",
     "status": "completed"
    },
    "tags": []
   },
   "outputs": [
    {
     "data": {
      "text/plain": [
       "accuracy                   0.219385\n",
       "balanced accuracy          0.537471\n",
       "f1                         0.240853\n",
       "precision                  0.137591\n",
       "false positive rate        0.890386\n",
       "false negative rate        0.034672\n",
       "selection rate             0.900000\n",
       "count                  89710.000000\n",
       "dtype: float64"
      ]
     },
     "execution_count": 74,
     "metadata": {},
     "output_type": "execute_result"
    }
   ],
   "source": [
    "metric_frame.overall"
   ]
  },
  {
   "cell_type": "markdown",
   "id": "e968fe9d",
   "metadata": {
    "papermill": {
     "duration": 0.025375,
     "end_time": "2025-07-30T21:09:14.145004",
     "exception": false,
     "start_time": "2025-07-30T21:09:14.119629",
     "status": "completed"
    },
    "tags": []
   },
   "source": [
    "By Group"
   ]
  },
  {
   "cell_type": "code",
   "execution_count": 75,
   "id": "ec325bce",
   "metadata": {
    "execution": {
     "iopub.execute_input": "2025-07-30T21:09:14.199405Z",
     "iopub.status.busy": "2025-07-30T21:09:14.198743Z",
     "iopub.status.idle": "2025-07-30T21:09:14.213811Z",
     "shell.execute_reply": "2025-07-30T21:09:14.212756Z"
    },
    "papermill": {
     "duration": 0.04349,
     "end_time": "2025-07-30T21:09:14.215282",
     "exception": false,
     "start_time": "2025-07-30T21:09:14.171792",
     "status": "completed"
    },
    "tags": []
   },
   "outputs": [
    {
     "data": {
      "text/html": [
       "<div>\n",
       "<style scoped>\n",
       "    .dataframe tbody tr th:only-of-type {\n",
       "        vertical-align: middle;\n",
       "    }\n",
       "\n",
       "    .dataframe tbody tr th {\n",
       "        vertical-align: top;\n",
       "    }\n",
       "\n",
       "    .dataframe thead th {\n",
       "        text-align: right;\n",
       "    }\n",
       "</style>\n",
       "<table border=\"1\" class=\"dataframe\">\n",
       "  <thead>\n",
       "    <tr style=\"text-align: right;\">\n",
       "      <th></th>\n",
       "      <th>accuracy</th>\n",
       "      <th>balanced accuracy</th>\n",
       "      <th>f1</th>\n",
       "      <th>precision</th>\n",
       "      <th>false positive rate</th>\n",
       "      <th>false negative rate</th>\n",
       "      <th>selection rate</th>\n",
       "      <th>count</th>\n",
       "    </tr>\n",
       "    <tr>\n",
       "      <th>majmin</th>\n",
       "      <th></th>\n",
       "      <th></th>\n",
       "      <th></th>\n",
       "      <th></th>\n",
       "      <th></th>\n",
       "      <th></th>\n",
       "      <th></th>\n",
       "      <th></th>\n",
       "    </tr>\n",
       "  </thead>\n",
       "  <tbody>\n",
       "    <tr>\n",
       "      <th>majority</th>\n",
       "      <td>0.241434</td>\n",
       "      <td>0.546459</td>\n",
       "      <td>0.250835</td>\n",
       "      <td>0.144241</td>\n",
       "      <td>0.868133</td>\n",
       "      <td>0.038950</td>\n",
       "      <td>0.880411</td>\n",
       "      <td>69170.0</td>\n",
       "    </tr>\n",
       "    <tr>\n",
       "      <th>minority</th>\n",
       "      <td>0.145131</td>\n",
       "      <td>0.508970</td>\n",
       "      <td>0.209375</td>\n",
       "      <td>0.117182</td>\n",
       "      <td>0.963901</td>\n",
       "      <td>0.018159</td>\n",
       "      <td>0.965969</td>\n",
       "      <td>20540.0</td>\n",
       "    </tr>\n",
       "  </tbody>\n",
       "</table>\n",
       "</div>"
      ],
      "text/plain": [
       "          accuracy  balanced accuracy        f1  precision  \\\n",
       "majmin                                                       \n",
       "majority  0.241434           0.546459  0.250835   0.144241   \n",
       "minority  0.145131           0.508970  0.209375   0.117182   \n",
       "\n",
       "          false positive rate  false negative rate  selection rate    count  \n",
       "majmin                                                                       \n",
       "majority             0.868133             0.038950        0.880411  69170.0  \n",
       "minority             0.963901             0.018159        0.965969  20540.0  "
      ]
     },
     "execution_count": 75,
     "metadata": {},
     "output_type": "execute_result"
    }
   ],
   "source": [
    "metric_frame.by_group"
   ]
  },
  {
   "cell_type": "code",
   "execution_count": 76,
   "id": "a9ddbe63",
   "metadata": {
    "execution": {
     "iopub.execute_input": "2025-07-30T21:09:14.270810Z",
     "iopub.status.busy": "2025-07-30T21:09:14.270181Z",
     "iopub.status.idle": "2025-07-30T21:09:16.509845Z",
     "shell.execute_reply": "2025-07-30T21:09:16.508925Z"
    },
    "papermill": {
     "duration": 2.268527,
     "end_time": "2025-07-30T21:09:16.511401",
     "exception": false,
     "start_time": "2025-07-30T21:09:14.242874",
     "status": "completed"
    },
    "tags": []
   },
   "outputs": [
    {
     "data": {
      "text/plain": [
       "array([[<Axes: title={'center': 'accuracy'}, xlabel='majmin'>,\n",
       "        <Axes: title={'center': 'balanced accuracy'}, xlabel='majmin'>,\n",
       "        <Axes: title={'center': 'f1'}, xlabel='majmin'>],\n",
       "       [<Axes: title={'center': 'precision'}, xlabel='majmin'>,\n",
       "        <Axes: title={'center': 'false positive rate'}, xlabel='majmin'>,\n",
       "        <Axes: title={'center': 'false negative rate'}, xlabel='majmin'>],\n",
       "       [<Axes: title={'center': 'selection rate'}, xlabel='majmin'>,\n",
       "        <Axes: title={'center': 'count'}, xlabel='majmin'>,\n",
       "        <Axes: xlabel='majmin'>]], dtype=object)"
      ]
     },
     "execution_count": 76,
     "metadata": {},
     "output_type": "execute_result"
    },
    {
     "data": {
      "image/png": "[encoded data removed]",
      "text/plain": [
       "<Figure size 1200x800 with 9 Axes>"
      ]
     },
     "metadata": {},
     "output_type": "display_data"
    }
   ],
   "source": [
    "# In a graphic\n",
    "metric_frame.by_group.plot.bar(\n",
    "    subplots=True,\n",
    "    layout=[3, 3],\n",
    "    legend=False,\n",
    "    figsize=[12, 8],\n",
    "    title=\"Show all metrics\",\n",
    ")"
   ]
  },
  {
   "cell_type": "markdown",
   "id": "f57a0bac",
   "metadata": {
    "papermill": {
     "duration": 0.026839,
     "end_time": "2025-07-30T21:09:16.565574",
     "exception": false,
     "start_time": "2025-07-30T21:09:16.538735",
     "status": "completed"
    },
    "tags": []
   },
   "source": [
    "# Final Output"
   ]
  },
  {
   "cell_type": "code",
   "execution_count": 77,
   "id": "96d280a3",
   "metadata": {
    "execution": {
     "iopub.execute_input": "2025-07-30T21:09:16.622693Z",
     "iopub.status.busy": "2025-07-30T21:09:16.621860Z",
     "iopub.status.idle": "2025-07-30T21:09:16.629621Z",
     "shell.execute_reply": "2025-07-30T21:09:16.628681Z"
    },
    "papermill": {
     "duration": 0.038374,
     "end_time": "2025-07-30T21:09:16.631137",
     "exception": false,
     "start_time": "2025-07-30T21:09:16.592763",
     "status": "completed"
    },
    "tags": []
   },
   "outputs": [
    {
     "data": {
      "text/plain": [
       "4"
      ]
     },
     "execution_count": 77,
     "metadata": {},
     "output_type": "execute_result"
    }
   ],
   "source": [
    "sub_universes = universe_analysis.generate_sub_universes()\n",
    "len(sub_universes)"
   ]
  },
  {
   "cell_type": "code",
   "execution_count": 78,
   "id": "92adf7ba",
   "metadata": {
    "execution": {
     "iopub.execute_input": "2025-07-30T21:09:16.687683Z",
     "iopub.status.busy": "2025-07-30T21:09:16.687037Z",
     "iopub.status.idle": "2025-07-30T21:09:16.692980Z",
     "shell.execute_reply": "2025-07-30T21:09:16.692168Z"
    },
    "papermill": {
     "duration": 0.035867,
     "end_time": "2025-07-30T21:09:16.694500",
     "exception": false,
     "start_time": "2025-07-30T21:09:16.658633",
     "status": "completed"
    },
    "tags": []
   },
   "outputs": [],
   "source": [
    "def filter_sub_universe_data(sub_universe, org_test):\n",
    "    # Keep all rows — no filtering\n",
    "    keep_rows_mask = np.ones(org_test.shape[0], dtype=bool)\n",
    "\n",
    "    print(f\"[INFO] Keeping all rows: {keep_rows_mask.sum()} rows retained.\")\n",
    "    return keep_rows_mask"
   ]
  },
  {
   "cell_type": "code",
   "execution_count": 79,
   "id": "4a759155",
   "metadata": {
    "execution": {
     "iopub.execute_input": "2025-07-30T21:09:16.751013Z",
     "iopub.status.busy": "2025-07-30T21:09:16.750364Z",
     "iopub.status.idle": "2025-07-30T21:09:27.868396Z",
     "shell.execute_reply": "2025-07-30T21:09:27.866152Z"
    },
    "papermill": {
     "duration": 11.14808,
     "end_time": "2025-07-30T21:09:27.869932",
     "exception": false,
     "start_time": "2025-07-30T21:09:16.721852",
     "status": "completed"
    },
    "tags": []
   },
   "outputs": [
    {
     "name": "stdout",
     "output_type": "stream",
     "text": [
      "Stopping execution_time clock.\n",
      "[INFO] Keeping all rows: 89710 rows retained.\n"
     ]
    },
    {
     "name": "stdout",
     "output_type": "stream",
     "text": [
      "[INFO] Keeping all rows: 89710 rows retained.\n"
     ]
    },
    {
     "name": "stdout",
     "output_type": "stream",
     "text": [
      "[INFO] Keeping all rows: 89710 rows retained.\n"
     ]
    },
    {
     "name": "stdout",
     "output_type": "stream",
     "text": [
      "[INFO] Keeping all rows: 89710 rows retained.\n"
     ]
    },
    {
     "data": {
      "text/html": [
       "<div>\n",
       "<style scoped>\n",
       "    .dataframe tbody tr th:only-of-type {\n",
       "        vertical-align: middle;\n",
       "    }\n",
       "\n",
       "    .dataframe tbody tr th {\n",
       "        vertical-align: top;\n",
       "    }\n",
       "\n",
       "    .dataframe thead th {\n",
       "        text-align: right;\n",
       "    }\n",
       "</style>\n",
       "<table border=\"1\" class=\"dataframe\">\n",
       "  <thead>\n",
       "    <tr style=\"text-align: right;\">\n",
       "      <th></th>\n",
       "      <th>run_no</th>\n",
       "      <th>universe_id</th>\n",
       "      <th>universe_settings</th>\n",
       "      <th>execution_time</th>\n",
       "      <th>test_size_n</th>\n",
       "      <th>test_size_frac</th>\n",
       "      <th>fair_main_equalized_odds_difference</th>\n",
       "      <th>fair_main_equalized_odds_ratio</th>\n",
       "      <th>fair_main_demographic_parity_difference</th>\n",
       "      <th>fair_main_demographic_parity_ratio</th>\n",
       "      <th>...</th>\n",
       "      <th>perf_grp_precision_0</th>\n",
       "      <th>perf_grp_precision_1</th>\n",
       "      <th>perf_grp_false positive rate_0</th>\n",
       "      <th>perf_grp_false positive rate_1</th>\n",
       "      <th>perf_grp_false negative rate_0</th>\n",
       "      <th>perf_grp_false negative rate_1</th>\n",
       "      <th>perf_grp_selection rate_0</th>\n",
       "      <th>perf_grp_selection rate_1</th>\n",
       "      <th>perf_grp_count_0</th>\n",
       "      <th>perf_grp_count_1</th>\n",
       "    </tr>\n",
       "  </thead>\n",
       "  <tbody>\n",
       "    <tr>\n",
       "      <th>0</th>\n",
       "      <td>14</td>\n",
       "      <td>f52dc435e4458b2119cc4a3278ff7b74</td>\n",
       "      <td>{\"cutoff\": \"quantile_0.1\", \"eval_fairness_grou...</td>\n",
       "      <td>111.668898</td>\n",
       "      <td>89710</td>\n",
       "      <td>1.0</td>\n",
       "      <td>0.095768</td>\n",
       "      <td>0.900645</td>\n",
       "      <td>0.085558</td>\n",
       "      <td>0.911428</td>\n",
       "      <td>...</td>\n",
       "      <td>NaN</td>\n",
       "      <td>NaN</td>\n",
       "      <td>NaN</td>\n",
       "      <td>NaN</td>\n",
       "      <td>NaN</td>\n",
       "      <td>NaN</td>\n",
       "      <td>NaN</td>\n",
       "      <td>NaN</td>\n",
       "      <td>NaN</td>\n",
       "      <td>NaN</td>\n",
       "    </tr>\n",
       "    <tr>\n",
       "      <th>0</th>\n",
       "      <td>14</td>\n",
       "      <td>f52dc435e4458b2119cc4a3278ff7b74</td>\n",
       "      <td>{\"cutoff\": \"quantile_0.1\", \"eval_fairness_grou...</td>\n",
       "      <td>111.668898</td>\n",
       "      <td>89710</td>\n",
       "      <td>1.0</td>\n",
       "      <td>0.095768</td>\n",
       "      <td>0.900645</td>\n",
       "      <td>0.085558</td>\n",
       "      <td>0.911428</td>\n",
       "      <td>...</td>\n",
       "      <td>0.117182</td>\n",
       "      <td>0.144241</td>\n",
       "      <td>0.963901</td>\n",
       "      <td>0.868133</td>\n",
       "      <td>0.018159</td>\n",
       "      <td>0.038950</td>\n",
       "      <td>0.965969</td>\n",
       "      <td>0.880411</td>\n",
       "      <td>20540.0</td>\n",
       "      <td>69170.0</td>\n",
       "    </tr>\n",
       "    <tr>\n",
       "      <th>0</th>\n",
       "      <td>14</td>\n",
       "      <td>f52dc435e4458b2119cc4a3278ff7b74</td>\n",
       "      <td>{\"cutoff\": \"quantile_0.25\", \"eval_fairness_gro...</td>\n",
       "      <td>111.668898</td>\n",
       "      <td>89710</td>\n",
       "      <td>1.0</td>\n",
       "      <td>0.218426</td>\n",
       "      <td>0.756249</td>\n",
       "      <td>0.197391</td>\n",
       "      <td>0.781209</td>\n",
       "      <td>...</td>\n",
       "      <td>NaN</td>\n",
       "      <td>NaN</td>\n",
       "      <td>NaN</td>\n",
       "      <td>NaN</td>\n",
       "      <td>NaN</td>\n",
       "      <td>NaN</td>\n",
       "      <td>NaN</td>\n",
       "      <td>NaN</td>\n",
       "      <td>NaN</td>\n",
       "      <td>NaN</td>\n",
       "    </tr>\n",
       "    <tr>\n",
       "      <th>0</th>\n",
       "      <td>14</td>\n",
       "      <td>f52dc435e4458b2119cc4a3278ff7b74</td>\n",
       "      <td>{\"cutoff\": \"quantile_0.25\", \"eval_fairness_gro...</td>\n",
       "      <td>111.668898</td>\n",
       "      <td>89710</td>\n",
       "      <td>1.0</td>\n",
       "      <td>0.218426</td>\n",
       "      <td>0.756249</td>\n",
       "      <td>0.197391</td>\n",
       "      <td>0.781209</td>\n",
       "      <td>...</td>\n",
       "      <td>0.121256</td>\n",
       "      <td>0.165535</td>\n",
       "      <td>0.896104</td>\n",
       "      <td>0.677678</td>\n",
       "      <td>0.051098</td>\n",
       "      <td>0.117068</td>\n",
       "      <td>0.902191</td>\n",
       "      <td>0.704800</td>\n",
       "      <td>20540.0</td>\n",
       "      <td>69170.0</td>\n",
       "    </tr>\n",
       "  </tbody>\n",
       "</table>\n",
       "<p>4 rows × 50 columns</p>\n",
       "</div>"
      ],
      "text/plain": [
       "  run_no                       universe_id  \\\n",
       "0     14  f52dc435e4458b2119cc4a3278ff7b74   \n",
       "0     14  f52dc435e4458b2119cc4a3278ff7b74   \n",
       "0     14  f52dc435e4458b2119cc4a3278ff7b74   \n",
       "0     14  f52dc435e4458b2119cc4a3278ff7b74   \n",
       "\n",
       "                                   universe_settings  execution_time  \\\n",
       "0  {\"cutoff\": \"quantile_0.1\", \"eval_fairness_grou...      111.668898   \n",
       "0  {\"cutoff\": \"quantile_0.1\", \"eval_fairness_grou...      111.668898   \n",
       "0  {\"cutoff\": \"quantile_0.25\", \"eval_fairness_gro...      111.668898   \n",
       "0  {\"cutoff\": \"quantile_0.25\", \"eval_fairness_gro...      111.668898   \n",
       "\n",
       "   test_size_n  test_size_frac  fair_main_equalized_odds_difference  \\\n",
       "0        89710             1.0                             0.095768   \n",
       "0        89710             1.0                             0.095768   \n",
       "0        89710             1.0                             0.218426   \n",
       "0        89710             1.0                             0.218426   \n",
       "\n",
       "   fair_main_equalized_odds_ratio  fair_main_demographic_parity_difference  \\\n",
       "0                        0.900645                                 0.085558   \n",
       "0                        0.900645                                 0.085558   \n",
       "0                        0.756249                                 0.197391   \n",
       "0                        0.756249                                 0.197391   \n",
       "\n",
       "   fair_main_demographic_parity_ratio  ...  perf_grp_precision_0  \\\n",
       "0                            0.911428  ...                   NaN   \n",
       "0                            0.911428  ...              0.117182   \n",
       "0                            0.781209  ...                   NaN   \n",
       "0                            0.781209  ...              0.121256   \n",
       "\n",
       "   perf_grp_precision_1  perf_grp_false positive rate_0  \\\n",
       "0                   NaN                             NaN   \n",
       "0              0.144241                        0.963901   \n",
       "0                   NaN                             NaN   \n",
       "0              0.165535                        0.896104   \n",
       "\n",
       "   perf_grp_false positive rate_1  perf_grp_false negative rate_0  \\\n",
       "0                             NaN                             NaN   \n",
       "0                        0.868133                        0.018159   \n",
       "0                             NaN                             NaN   \n",
       "0                        0.677678                        0.051098   \n",
       "\n",
       "   perf_grp_false negative rate_1  perf_grp_selection rate_0  \\\n",
       "0                             NaN                        NaN   \n",
       "0                        0.038950                   0.965969   \n",
       "0                             NaN                        NaN   \n",
       "0                        0.117068                   0.902191   \n",
       "\n",
       "   perf_grp_selection rate_1  perf_grp_count_0  perf_grp_count_1  \n",
       "0                        NaN               NaN               NaN  \n",
       "0                   0.880411           20540.0           69170.0  \n",
       "0                        NaN               NaN               NaN  \n",
       "0                   0.704800           20540.0           69170.0  \n",
       "\n",
       "[4 rows x 50 columns]"
      ]
     },
     "execution_count": 79,
     "metadata": {},
     "output_type": "execute_result"
    }
   ],
   "source": [
    "final_output = universe_analysis.generate_final_output(\n",
    "    y_pred_prob=probs_test,\n",
    "    y_test=y_true,\n",
    "    org_test=org_test,\n",
    "    filter_data=filter_sub_universe_data,\n",
    "    cp_metrics_df=cp_metrics_df,\n",
    "    save=True,\n",
    ")\n",
    "final_output"
   ]
  },
  {
   "cell_type": "code",
   "execution_count": null,
   "id": "721ff514-cb11-46f8-b6fc-50392f74b5cb",
   "metadata": {
    "papermill": {
     "duration": 0.031136,
     "end_time": "2025-07-30T21:09:27.932560",
     "exception": false,
     "start_time": "2025-07-30T21:09:27.901424",
     "status": "completed"
    },
    "tags": []
   },
   "outputs": [],
   "source": []
  }
 ],
 "metadata": {
  "celltoolbar": "Tags",
  "kernelspec": {
   "display_name": "Python (CMA Fairness)",
   "language": "python",
   "name": "cma_fair_env"
  },
  "language_info": {
   "codemirror_mode": {
    "name": "ipython",
    "version": 3
   },
   "file_extension": ".py",
   "mimetype": "text/x-python",
   "name": "python",
   "nbconvert_exporter": "python",
   "pygments_lexer": "ipython3",
   "version": "3.10.12"
  },
  "papermill": {
   "default_parameters": {},
   "duration": 127.573287,
   "end_time": "2025-07-30T21:09:28.885107",
   "environment_variables": {},
   "exception": null,
   "input_path": "universe_analysis.ipynb",
   "output_path": "output/runs/14/notebooks/m_14-f52dc435e4458b2119cc4a3278ff7b74.ipynb",
   "parameters": {
    "output_dir": "output",
    "run_no": "14",
    "seed": "2023",
    "universe": "{\"cutoff\": [\"quantile_0.1\", \"quantile_0.25\"], \"eval_fairness_grouping\": [\"majority-minority\", \"nationality-all\"], \"exclude_features\": \"sex\", \"exclude_subgroups\": \"drop-non-german\", \"model\": \"elasticnet\", \"scale\": \"do-not-scale\", \"training_size\": \"5k\", \"training_year\": \"2012_14\"}",
    "universe_id": "f52dc435e4458b2119cc4a3278ff7b74"
   },
   "start_time": "2025-07-30T21:07:21.311820",
   "version": "2.6.0"
  }
 },
 "nbformat": 4,
 "nbformat_minor": 5
}