{
 "cells": [
  {
   "cell_type": "code",
   "execution_count": 1,
   "id": "f159f837-637b-42ba-96b5-ec9a68c44524",
   "metadata": {
    "execution": {
     "iopub.execute_input": "2025-07-30T21:38:56.929889Z",
     "iopub.status.busy": "2025-07-30T21:38:56.929467Z",
     "iopub.status.idle": "2025-07-30T21:38:56.943395Z",
     "shell.execute_reply": "2025-07-30T21:38:56.942480Z"
    },
    "papermill": {
     "duration": 0.037407,
     "end_time": "2025-07-30T21:38:56.945258",
     "exception": false,
     "start_time": "2025-07-30T21:38:56.907851",
     "status": "completed"
    },
    "tags": []
   },
   "outputs": [
    {
     "name": "stdout",
     "output_type": "stream",
     "text": [
      "/dss/dsshome1/0C/ra93lal2/cma/CMA_Fairness_v2\n"
     ]
    },
    {
     "name": "stderr",
     "output_type": "stream",
     "text": [
      "/dss/dsshome1/0C/ra93lal2/.local/share/virtualenvs/CMA_Fairness_v2-3j10GkSs/lib/python3.10/site-packages/IPython/core/magics/osm.py:393: UserWarning: This is now an optional IPython functionality, using bookmarks requires you to install the `pickleshare` library.\n",
      "  bkms = self.shell.db.get('bookmarks', {})\n",
      "/dss/dsshome1/0C/ra93lal2/.local/share/virtualenvs/CMA_Fairness_v2-3j10GkSs/lib/python3.10/site-packages/IPython/core/magics/osm.py:417: UserWarning: This is now an optional IPython functionality, setting dhist requires you to install the `pickleshare` library.\n",
      "  self.shell.db['dhist'] = compress_dhist(dhist)[-100:]\n"
     ]
    }
   ],
   "source": [
    "%cd ~/cma/CMA_Fairness_v2"
   ]
  },
  {
   "cell_type": "markdown",
   "id": "de2603b9",
   "metadata": {
    "papermill": {
     "duration": 0.018711,
     "end_time": "2025-07-30T21:38:56.983894",
     "exception": false,
     "start_time": "2025-07-30T21:38:56.965183",
     "status": "completed"
    },
    "tags": []
   },
   "source": [
    "The following cell holds the definition of our parameters, these values can be overriden by rendering the with e.g. the following command:\n",
    "\n",
    "papermill -p alpha 0.2 -p ratio 0.3 universe_analysis.ipynb output/test_run.ipynb"
   ]
  },
  {
   "cell_type": "code",
   "execution_count": 2,
   "id": "a80968a0-40bb-4fa9-85ef-2d5eefb01975",
   "metadata": {
    "execution": {
     "iopub.execute_input": "2025-07-30T21:38:57.024502Z",
     "iopub.status.busy": "2025-07-30T21:38:57.023996Z",
     "iopub.status.idle": "2025-07-30T21:38:57.029345Z",
     "shell.execute_reply": "2025-07-30T21:38:57.028345Z"
    },
    "papermill": {
     "duration": 0.028107,
     "end_time": "2025-07-30T21:38:57.031076",
     "exception": false,
     "start_time": "2025-07-30T21:38:57.002969",
     "status": "completed"
    },
    "tags": []
   },
   "outputs": [
    {
     "name": "stdout",
     "output_type": "stream",
     "text": [
      "Current working directory: /dss/dsshome1/0C/ra93lal2/cma/CMA_Fairness_v2\n"
     ]
    }
   ],
   "source": [
    "import os\n",
    "print(\"Current working directory:\", os.getcwd())"
   ]
  },
  {
   "cell_type": "code",
   "execution_count": 3,
   "id": "2dce4c03",
   "metadata": {
    "execution": {
     "iopub.execute_input": "2025-07-30T21:38:57.071442Z",
     "iopub.status.busy": "2025-07-30T21:38:57.070420Z",
     "iopub.status.idle": "2025-07-30T21:38:57.077039Z",
     "shell.execute_reply": "2025-07-30T21:38:57.076070Z"
    },
    "papermill": {
     "duration": 0.028542,
     "end_time": "2025-07-30T21:38:57.078685",
     "exception": false,
     "start_time": "2025-07-30T21:38:57.050143",
     "status": "completed"
    },
    "tags": [
     "parameters"
    ]
   },
   "outputs": [],
   "source": [
    "run_no = 0\n",
    "universe_id = \"test\"\n",
    "universe = {\n",
    "    \"training_size\": \"25k\", # \"25k\", \"5k\", \"1k\"\n",
    "    \"training_year\": \"2014\", # \"2014\", \"2012_14\", \"2010_14\"\n",
    "    \"scale\": \"scale\", # \"scale\", \"do-not-scale\",\n",
    "    #\"stratify_split\": \"target\", # \"none\", \"target\", \"protected-attribute\", \"both\",\n",
    "    \"model\": \"elasticnet\", # \"logreg\", \"penalized_logreg\", \"rf\", \"gbm\", \"elasticnet\"\n",
    "    \"cutoff\": [\"quantile_0.15\", \"quantile_0.30\"],\n",
    "    \"exclude_features\": \"age\", # \"none\", \"nationality\", \"sex\", \"nationality-sex\", \"age\"\n",
    "    \"exclude_subgroups\": \"keep-all\", # \"keep-all\", \"drop-non-german\"\n",
    "    \"eval_fairness_grouping\": [\"majority-minority\", \"nationality-all\"]\n",
    "}\n",
    "\n",
    "output_dir=\"./output\"\n",
    "seed=0"
   ]
  },
  {
   "cell_type": "code",
   "execution_count": 4,
   "id": "e664374b",
   "metadata": {
    "execution": {
     "iopub.execute_input": "2025-07-30T21:38:57.119408Z",
     "iopub.status.busy": "2025-07-30T21:38:57.118636Z",
     "iopub.status.idle": "2025-07-30T21:38:57.123986Z",
     "shell.execute_reply": "2025-07-30T21:38:57.123050Z"
    },
    "papermill": {
     "duration": 0.026987,
     "end_time": "2025-07-30T21:38:57.125735",
     "exception": false,
     "start_time": "2025-07-30T21:38:57.098748",
     "status": "completed"
    },
    "tags": [
     "injected-parameters"
    ]
   },
   "outputs": [],
   "source": [
    "# Parameters\n",
    "universe_id = \"019134c23772ec7e55f6f573a7ade4e3\"\n",
    "run_no = \"14\"\n",
    "universe = \"{\\\"cutoff\\\": [\\\"quantile_0.1\\\", \\\"quantile_0.25\\\"], \\\"eval_fairness_grouping\\\": [\\\"majority-minority\\\", \\\"nationality-all\\\"], \\\"exclude_features\\\": \\\"none\\\", \\\"exclude_subgroups\\\": \\\"drop-non-german\\\", \\\"model\\\": \\\"penalized_logreg\\\", \\\"scale\\\": \\\"do-not-scale\\\", \\\"training_size\\\": \\\"1k\\\", \\\"training_year\\\": \\\"2012_14\\\"}\"\n",
    "output_dir = \"output\"\n",
    "seed = \"2023\"\n"
   ]
  },
  {
   "cell_type": "code",
   "execution_count": 5,
   "id": "1650acaf",
   "metadata": {
    "execution": {
     "iopub.execute_input": "2025-07-30T21:38:57.166979Z",
     "iopub.status.busy": "2025-07-30T21:38:57.166365Z",
     "iopub.status.idle": "2025-07-30T21:38:57.171756Z",
     "shell.execute_reply": "2025-07-30T21:38:57.170696Z"
    },
    "papermill": {
     "duration": 0.027351,
     "end_time": "2025-07-30T21:38:57.173461",
     "exception": false,
     "start_time": "2025-07-30T21:38:57.146110",
     "status": "completed"
    },
    "tags": []
   },
   "outputs": [],
   "source": [
    "import json\n",
    "# Parse universe into dict if it is passed as a string\n",
    "if isinstance(universe, str):\n",
    "    universe = json.loads(universe)"
   ]
  },
  {
   "cell_type": "code",
   "execution_count": 6,
   "id": "16620c48",
   "metadata": {
    "execution": {
     "iopub.execute_input": "2025-07-30T21:38:57.214791Z",
     "iopub.status.busy": "2025-07-30T21:38:57.214131Z",
     "iopub.status.idle": "2025-07-30T21:38:57.259737Z",
     "shell.execute_reply": "2025-07-30T21:38:57.258842Z"
    },
    "papermill": {
     "duration": 0.06808,
     "end_time": "2025-07-30T21:38:57.261608",
     "exception": false,
     "start_time": "2025-07-30T21:38:57.193528",
     "status": "completed"
    },
    "tags": []
   },
   "outputs": [],
   "source": [
    "# Auto-reload the custom package\n",
    "%load_ext autoreload\n",
    "%autoreload 1\n",
    "%aimport fairness_multiverse"
   ]
  },
  {
   "cell_type": "code",
   "execution_count": 7,
   "id": "01c5c9f3",
   "metadata": {
    "execution": {
     "iopub.execute_input": "2025-07-30T21:38:57.302731Z",
     "iopub.status.busy": "2025-07-30T21:38:57.302109Z",
     "iopub.status.idle": "2025-07-30T21:38:59.109864Z",
     "shell.execute_reply": "2025-07-30T21:38:59.108869Z"
    },
    "papermill": {
     "duration": 1.830393,
     "end_time": "2025-07-30T21:38:59.111889",
     "exception": false,
     "start_time": "2025-07-30T21:38:57.281496",
     "status": "completed"
    },
    "tags": []
   },
   "outputs": [],
   "source": [
    "from fairness_multiverse.universe import UniverseAnalysis\n",
    "\n",
    "universe_analysis = UniverseAnalysis(\n",
    "    run_no = run_no,\n",
    "    universe_id = universe_id,\n",
    "    universe = universe,\n",
    "    output_dir=output_dir,\n",
    ")"
   ]
  },
  {
   "cell_type": "code",
   "execution_count": 8,
   "id": "106241f5",
   "metadata": {
    "execution": {
     "iopub.execute_input": "2025-07-30T21:38:59.154737Z",
     "iopub.status.busy": "2025-07-30T21:38:59.154364Z",
     "iopub.status.idle": "2025-07-30T21:38:59.160602Z",
     "shell.execute_reply": "2025-07-30T21:38:59.159488Z"
    },
    "papermill": {
     "duration": 0.029456,
     "end_time": "2025-07-30T21:38:59.162312",
     "exception": false,
     "start_time": "2025-07-30T21:38:59.132856",
     "status": "completed"
    },
    "tags": []
   },
   "outputs": [
    {
     "name": "stdout",
     "output_type": "stream",
     "text": [
      "Using Seed: 2023\n"
     ]
    }
   ],
   "source": [
    "import numpy as np\n",
    "parsed_seed = int(seed)\n",
    "np.random.seed(parsed_seed)\n",
    "print(f\"Using Seed: {parsed_seed}\")"
   ]
  },
  {
   "cell_type": "markdown",
   "id": "e0ebdc57",
   "metadata": {
    "papermill": {
     "duration": 0.021117,
     "end_time": "2025-07-30T21:38:59.204356",
     "exception": false,
     "start_time": "2025-07-30T21:38:59.183239",
     "status": "completed"
    },
    "tags": []
   },
   "source": [
    "# Loading Data"
   ]
  },
  {
   "cell_type": "markdown",
   "id": "681925a3",
   "metadata": {
    "papermill": {
     "duration": 0.019758,
     "end_time": "2025-07-30T21:38:59.244227",
     "exception": false,
     "start_time": "2025-07-30T21:38:59.224469",
     "status": "completed"
    },
    "tags": []
   },
   "source": [
    "Load siab_train, siab_test, siab_calib and/or \n",
    "load siab_train_features, siab_train_labels"
   ]
  },
  {
   "cell_type": "code",
   "execution_count": 9,
   "id": "f0496b8a",
   "metadata": {
    "execution": {
     "iopub.execute_input": "2025-07-30T21:38:59.287760Z",
     "iopub.status.busy": "2025-07-30T21:38:59.286768Z",
     "iopub.status.idle": "2025-07-30T21:39:11.837011Z",
     "shell.execute_reply": "2025-07-30T21:39:11.835734Z"
    },
    "papermill": {
     "duration": 12.57375,
     "end_time": "2025-07-30T21:39:11.838759",
     "exception": false,
     "start_time": "2025-07-30T21:38:59.265009",
     "status": "completed"
    },
    "tags": []
   },
   "outputs": [
    {
     "name": "stdout",
     "output_type": "stream",
     "text": [
      "Loading SIAB data from cache: data/siab_cached.csv.gz\n"
     ]
    },
    {
     "name": "stdout",
     "output_type": "stream",
     "text": [
      "(643690, 164)\n"
     ]
    }
   ],
   "source": [
    "from pathlib import Path\n",
    "import pandas as pd\n",
    "\n",
    "# File paths\n",
    "raw_file = Path(\"data/raw/siab.csv\")\n",
    "cache_file = Path(\"data/siab_cached.csv.gz\")\n",
    "\n",
    "# Ensure cache directory exists\n",
    "cache_file.parent.mkdir(parents=True, exist_ok=True)\n",
    "\n",
    "# Load with simple caching\n",
    "if cache_file.exists():\n",
    "    print(f\"Loading SIAB data from cache: {cache_file}\")\n",
    "    siab = pd.read_csv(cache_file, compression='gzip')\n",
    "else:\n",
    "    print(f\"Cache not found. Reading raw SIAB data: {raw_file}\")\n",
    "    siab = pd.read_csv(raw_file)\n",
    "    siab.to_csv(cache_file, index=False, compression='gzip')\n",
    "    print(f\"Cached SIAB data to: {cache_file}\")\n",
    "\n",
    "# Now use `siab` DataFrame as needed\n",
    "print(siab.shape)"
   ]
  },
  {
   "cell_type": "code",
   "execution_count": 10,
   "id": "db0ca512-5f53-4dba-abdb-a2888bca41ba",
   "metadata": {
    "execution": {
     "iopub.execute_input": "2025-07-30T21:39:11.887628Z",
     "iopub.status.busy": "2025-07-30T21:39:11.886806Z",
     "iopub.status.idle": "2025-07-30T21:39:11.892853Z",
     "shell.execute_reply": "2025-07-30T21:39:11.891747Z"
    },
    "papermill": {
     "duration": 0.031108,
     "end_time": "2025-07-30T21:39:11.894637",
     "exception": false,
     "start_time": "2025-07-30T21:39:11.863529",
     "status": "completed"
    },
    "tags": []
   },
   "outputs": [],
   "source": [
    "#siab"
   ]
  },
  {
   "cell_type": "code",
   "execution_count": 11,
   "id": "a0edb063",
   "metadata": {
    "execution": {
     "iopub.execute_input": "2025-07-30T21:39:11.941290Z",
     "iopub.status.busy": "2025-07-30T21:39:11.940625Z",
     "iopub.status.idle": "2025-07-30T21:39:11.945759Z",
     "shell.execute_reply": "2025-07-30T21:39:11.944685Z"
    },
    "papermill": {
     "duration": 0.030252,
     "end_time": "2025-07-30T21:39:11.947459",
     "exception": false,
     "start_time": "2025-07-30T21:39:11.917207",
     "status": "completed"
    },
    "tags": []
   },
   "outputs": [],
   "source": [
    "#import pandas as pd\n",
    "#\n",
    "#X_train = pd.read_csv(\"./data/X_train.csv\")\n",
    "#y_train = pd.read_csv(\"./data/y_train.csv\")"
   ]
  },
  {
   "cell_type": "code",
   "execution_count": 12,
   "id": "63d08085",
   "metadata": {
    "execution": {
     "iopub.execute_input": "2025-07-30T21:39:11.996561Z",
     "iopub.status.busy": "2025-07-30T21:39:11.995858Z",
     "iopub.status.idle": "2025-07-30T21:39:12.000954Z",
     "shell.execute_reply": "2025-07-30T21:39:11.999875Z"
    },
    "papermill": {
     "duration": 0.03142,
     "end_time": "2025-07-30T21:39:12.002756",
     "exception": false,
     "start_time": "2025-07-30T21:39:11.971336",
     "status": "completed"
    },
    "tags": []
   },
   "outputs": [],
   "source": [
    "#X_test = pd.read_csv(\"./data/X_test.csv\")\n",
    "#y_true = pd.read_csv(\"./data/y_test.csv\")"
   ]
  },
  {
   "cell_type": "code",
   "execution_count": 13,
   "id": "98a8d0fa-1d3d-4ed8-bb2c-281470e24add",
   "metadata": {
    "execution": {
     "iopub.execute_input": "2025-07-30T21:39:12.034014Z",
     "iopub.status.busy": "2025-07-30T21:39:12.033365Z",
     "iopub.status.idle": "2025-07-30T21:39:12.037742Z",
     "shell.execute_reply": "2025-07-30T21:39:12.036961Z"
    },
    "papermill": {
     "duration": 0.016865,
     "end_time": "2025-07-30T21:39:12.038971",
     "exception": false,
     "start_time": "2025-07-30T21:39:12.022106",
     "status": "completed"
    },
    "tags": []
   },
   "outputs": [],
   "source": [
    "# Calibration data for conformal\n",
    "#X_calib = pd.read_csv(\"./data/X_calib.csv\")\n",
    "#y_calib = pd.read_csv(\"./data/y_calib.csv\")"
   ]
  },
  {
   "cell_type": "markdown",
   "id": "997051c5-15bd-4b69-9786-c3001a3ce484",
   "metadata": {
    "papermill": {
     "duration": 0.010269,
     "end_time": "2025-07-30T21:39:12.060506",
     "exception": false,
     "start_time": "2025-07-30T21:39:12.050237",
     "status": "completed"
    },
    "tags": []
   },
   "source": [
    "# Splitting Data and Setting Training Data Size"
   ]
  },
  {
   "cell_type": "code",
   "execution_count": 14,
   "id": "e993b61f-042d-41a6-8c81-f55681f86335",
   "metadata": {
    "execution": {
     "iopub.execute_input": "2025-07-30T21:39:12.085772Z",
     "iopub.status.busy": "2025-07-30T21:39:12.085476Z",
     "iopub.status.idle": "2025-07-30T21:39:12.094544Z",
     "shell.execute_reply": "2025-07-30T21:39:12.093733Z"
    },
    "papermill": {
     "duration": 0.02307,
     "end_time": "2025-07-30T21:39:12.095826",
     "exception": false,
     "start_time": "2025-07-30T21:39:12.072756",
     "status": "completed"
    },
    "tags": []
   },
   "outputs": [],
   "source": [
    "def sample_by_year_size(df,\n",
    "                        training_year: str,\n",
    "                        training_size: str,\n",
    "                        random_state: int = 42):\n",
    "    # --- parse training_year into a list of int years ---\n",
    "    if \"_\" in training_year:\n",
    "        start_str, end_str = training_year.split(\"_\", 1)\n",
    "        start = int(start_str)\n",
    "        end   = int(end_str) if len(end_str) == 4 else (int(end_str) + (start // 100)*100)\n",
    "        years = list(range(start, end + 1))\n",
    "    else:\n",
    "        years = [int(training_year)]\n",
    "\n",
    "    df = df[df[\"year\"].isin(years)].reset_index(drop=True)\n",
    "\n",
    "    # --- map training_size to total number of samples ---\n",
    "    total_map = {\"25k\": 25_000, \"5k\": 5_000, \"1k\": 1_000}\n",
    "    if training_size not in total_map:\n",
    "        return df  # e.g. \"all\"\n",
    "\n",
    "    total_samples = total_map[training_size]\n",
    "    n_years       = len(years)\n",
    "    base          = total_samples // n_years\n",
    "    remainder     = total_samples % n_years\n",
    "\n",
    "    # --- build a dict: year -> how many to sample ---\n",
    "    # give +1 to the first `remainder` years in ascending order\n",
    "    quotas = {\n",
    "        year: base + (1 if idx < remainder else 0)\n",
    "        for idx, year in enumerate(sorted(years))\n",
    "    }\n",
    "\n",
    "    # --- sample per‐year according to the quota dict ---\n",
    "    sampled = (\n",
    "        df\n",
    "        .groupby(\"year\", group_keys=False)\n",
    "        .apply(lambda grp: grp.sample(\n",
    "            n=min(len(grp), quotas[grp.name]),\n",
    "            random_state=random_state))\n",
    "        .reset_index(drop=True)\n",
    "    )\n",
    "\n",
    "    return sampled"
   ]
  },
  {
   "cell_type": "code",
   "execution_count": 15,
   "id": "c0ccd338-0e02-41f3-a09d-f56f9266e3fb",
   "metadata": {
    "execution": {
     "iopub.execute_input": "2025-07-30T21:39:12.118718Z",
     "iopub.status.busy": "2025-07-30T21:39:12.118275Z",
     "iopub.status.idle": "2025-07-30T21:39:12.122982Z",
     "shell.execute_reply": "2025-07-30T21:39:12.122033Z"
    },
    "papermill": {
     "duration": 0.018158,
     "end_time": "2025-07-30T21:39:12.125420",
     "exception": false,
     "start_time": "2025-07-30T21:39:12.107262",
     "status": "completed"
    },
    "tags": []
   },
   "outputs": [],
   "source": [
    "#universe[\"training_size\"]"
   ]
  },
  {
   "cell_type": "code",
   "execution_count": 16,
   "id": "ca707fd7-8047-4acd-bfa5-66248fbbf8e6",
   "metadata": {
    "execution": {
     "iopub.execute_input": "2025-07-30T21:39:12.167474Z",
     "iopub.status.busy": "2025-07-30T21:39:12.166999Z",
     "iopub.status.idle": "2025-07-30T21:39:12.172142Z",
     "shell.execute_reply": "2025-07-30T21:39:12.171082Z"
    },
    "papermill": {
     "duration": 0.027385,
     "end_time": "2025-07-30T21:39:12.173902",
     "exception": false,
     "start_time": "2025-07-30T21:39:12.146517",
     "status": "completed"
    },
    "tags": []
   },
   "outputs": [],
   "source": [
    "#universe[\"training_year\"]"
   ]
  },
  {
   "cell_type": "code",
   "execution_count": 17,
   "id": "aea9c6ef-6f46-42c8-85eb-5a62025c1508",
   "metadata": {
    "execution": {
     "iopub.execute_input": "2025-07-30T21:39:12.217484Z",
     "iopub.status.busy": "2025-07-30T21:39:12.217026Z",
     "iopub.status.idle": "2025-07-30T21:39:12.777128Z",
     "shell.execute_reply": "2025-07-30T21:39:12.776169Z"
    },
    "papermill": {
     "duration": 0.584499,
     "end_time": "2025-07-30T21:39:12.779314",
     "exception": false,
     "start_time": "2025-07-30T21:39:12.194815",
     "status": "completed"
    },
    "tags": []
   },
   "outputs": [],
   "source": [
    "siab_train = sample_by_year_size(siab,\n",
    "                               training_year=universe[\"training_year\"],\n",
    "                               training_size=universe[\"training_size\"])"
   ]
  },
  {
   "cell_type": "code",
   "execution_count": 18,
   "id": "8d3afb32-789d-442c-8d5d-9f5aa8dd2eed",
   "metadata": {
    "execution": {
     "iopub.execute_input": "2025-07-30T21:39:12.820208Z",
     "iopub.status.busy": "2025-07-30T21:39:12.819684Z",
     "iopub.status.idle": "2025-07-30T21:39:12.824835Z",
     "shell.execute_reply": "2025-07-30T21:39:12.823830Z"
    },
    "papermill": {
     "duration": 0.02465,
     "end_time": "2025-07-30T21:39:12.826461",
     "exception": false,
     "start_time": "2025-07-30T21:39:12.801811",
     "status": "completed"
    },
    "tags": []
   },
   "outputs": [],
   "source": [
    "#siab_train.shape"
   ]
  },
  {
   "cell_type": "code",
   "execution_count": 19,
   "id": "d582db68-1a4c-47fb-84fc-08518dc1975a",
   "metadata": {
    "execution": {
     "iopub.execute_input": "2025-07-30T21:39:12.872958Z",
     "iopub.status.busy": "2025-07-30T21:39:12.871899Z",
     "iopub.status.idle": "2025-07-30T21:39:12.877242Z",
     "shell.execute_reply": "2025-07-30T21:39:12.876318Z"
    },
    "papermill": {
     "duration": 0.029923,
     "end_time": "2025-07-30T21:39:12.879078",
     "exception": false,
     "start_time": "2025-07-30T21:39:12.849155",
     "status": "completed"
    },
    "tags": []
   },
   "outputs": [],
   "source": [
    "#display(siab_train.groupby(\"year\").size())"
   ]
  },
  {
   "cell_type": "code",
   "execution_count": 20,
   "id": "a561edb4-d032-42cb-8256-22eac1111c64",
   "metadata": {
    "execution": {
     "iopub.execute_input": "2025-07-30T21:39:12.922905Z",
     "iopub.status.busy": "2025-07-30T21:39:12.922445Z",
     "iopub.status.idle": "2025-07-30T21:39:13.194447Z",
     "shell.execute_reply": "2025-07-30T21:39:13.193443Z"
    },
    "papermill": {
     "duration": 0.294833,
     "end_time": "2025-07-30T21:39:13.196409",
     "exception": false,
     "start_time": "2025-07-30T21:39:12.901576",
     "status": "completed"
    },
    "tags": []
   },
   "outputs": [],
   "source": [
    "#siab_train = siab_s[siab_s.year < 2015]\n",
    "siab_calib = siab[siab.year == 2015]\n",
    "siab_test = siab[siab.year == 2016]"
   ]
  },
  {
   "cell_type": "code",
   "execution_count": 21,
   "id": "472de16f-c3db-4916-846b-1f0de9cf1746",
   "metadata": {
    "execution": {
     "iopub.execute_input": "2025-07-30T21:39:13.238972Z",
     "iopub.status.busy": "2025-07-30T21:39:13.238314Z",
     "iopub.status.idle": "2025-07-30T21:39:13.246235Z",
     "shell.execute_reply": "2025-07-30T21:39:13.245098Z"
    },
    "papermill": {
     "duration": 0.031126,
     "end_time": "2025-07-30T21:39:13.248188",
     "exception": false,
     "start_time": "2025-07-30T21:39:13.217062",
     "status": "completed"
    },
    "tags": []
   },
   "outputs": [],
   "source": [
    "X_train = siab_train.iloc[:,4:164]\n",
    "y_train = siab_train.iloc[:, [3]]"
   ]
  },
  {
   "cell_type": "code",
   "execution_count": 22,
   "id": "828c96af-f43a-4ed6-ba47-8ac73a47d56c",
   "metadata": {
    "execution": {
     "iopub.execute_input": "2025-07-30T21:39:13.298768Z",
     "iopub.status.busy": "2025-07-30T21:39:13.298018Z",
     "iopub.status.idle": "2025-07-30T21:39:13.365198Z",
     "shell.execute_reply": "2025-07-30T21:39:13.363880Z"
    },
    "papermill": {
     "duration": 0.092635,
     "end_time": "2025-07-30T21:39:13.367094",
     "exception": false,
     "start_time": "2025-07-30T21:39:13.274459",
     "status": "completed"
    },
    "tags": []
   },
   "outputs": [],
   "source": [
    "X_calib = siab_calib.iloc[:,4:164]\n",
    "y_calib = siab_calib.iloc[:, [3]]"
   ]
  },
  {
   "cell_type": "code",
   "execution_count": 23,
   "id": "c34be9c3-6bd6-476e-acd3-845840e303be",
   "metadata": {
    "execution": {
     "iopub.execute_input": "2025-07-30T21:39:13.417288Z",
     "iopub.status.busy": "2025-07-30T21:39:13.416843Z",
     "iopub.status.idle": "2025-07-30T21:39:13.485142Z",
     "shell.execute_reply": "2025-07-30T21:39:13.484086Z"
    },
    "papermill": {
     "duration": 0.095157,
     "end_time": "2025-07-30T21:39:13.486396",
     "exception": false,
     "start_time": "2025-07-30T21:39:13.391239",
     "status": "completed"
    },
    "tags": []
   },
   "outputs": [],
   "source": [
    "X_test = siab_test.iloc[:,4:164]\n",
    "y_true = siab_test.iloc[:, [3]]"
   ]
  },
  {
   "cell_type": "markdown",
   "id": "9901737e-04df-44f0-9100-f5ad144ed040",
   "metadata": {
    "papermill": {
     "duration": 0.021104,
     "end_time": "2025-07-30T21:39:13.521922",
     "exception": false,
     "start_time": "2025-07-30T21:39:13.500818",
     "status": "completed"
    },
    "tags": []
   },
   "source": [
    "# Splitting Data and Setting Training Data Size OLD VERSION"
   ]
  },
  {
   "cell_type": "code",
   "execution_count": 24,
   "id": "acbc8f7d-8fc8-4e86-8c59-5dcb0f58384b",
   "metadata": {
    "execution": {
     "iopub.execute_input": "2025-07-30T21:39:13.547228Z",
     "iopub.status.busy": "2025-07-30T21:39:13.546551Z",
     "iopub.status.idle": "2025-07-30T21:39:13.551810Z",
     "shell.execute_reply": "2025-07-30T21:39:13.550890Z"
    },
    "papermill": {
     "duration": 0.019895,
     "end_time": "2025-07-30T21:39:13.553649",
     "exception": false,
     "start_time": "2025-07-30T21:39:13.533754",
     "status": "completed"
    },
    "tags": []
   },
   "outputs": [],
   "source": [
    "#def sample_by_year(df, training_size, random_state=42):\n",
    "#    if training_size == \"2014\":\n",
    "#        return df[df[\"year\"] == 2014].reset_index(drop=True)\n",
    "#    \n",
    "#    size_map = {\n",
    "#        \"25k\": 5000,\n",
    "#        \"5k\": 1000,\n",
    "#        \"1k\": 200\n",
    "#    }\n",
    "#\n",
    "#    if training_size not in size_map:\n",
    "#        return df.reset_index(drop=True)  # use all data\n",
    "#\n",
    "#    n_per_year = size_map[training_size]\n",
    "#    grouped = df.groupby(\"year\")\n",
    "#    sampled = grouped.apply(lambda x: x.sample(n=min(n_per_year, len(x)), random_state=random_state))\n",
    "#    return sampled.reset_index(drop=True)"
   ]
  },
  {
   "cell_type": "code",
   "execution_count": 25,
   "id": "6d931f52-beaf-43ff-9e78-9d44a448d54e",
   "metadata": {
    "execution": {
     "iopub.execute_input": "2025-07-30T21:39:13.594930Z",
     "iopub.status.busy": "2025-07-30T21:39:13.594510Z",
     "iopub.status.idle": "2025-07-30T21:39:13.599769Z",
     "shell.execute_reply": "2025-07-30T21:39:13.599043Z"
    },
    "papermill": {
     "duration": 0.022987,
     "end_time": "2025-07-30T21:39:13.601282",
     "exception": false,
     "start_time": "2025-07-30T21:39:13.578295",
     "status": "completed"
    },
    "tags": []
   },
   "outputs": [],
   "source": [
    "#siab_s = sample_by_year(siab, universe[\"training_size\"])"
   ]
  },
  {
   "cell_type": "code",
   "execution_count": 26,
   "id": "5db0a40e-a4e2-4920-be85-b12ae061d70d",
   "metadata": {
    "execution": {
     "iopub.execute_input": "2025-07-30T21:39:13.627114Z",
     "iopub.status.busy": "2025-07-30T21:39:13.626611Z",
     "iopub.status.idle": "2025-07-30T21:39:13.631087Z",
     "shell.execute_reply": "2025-07-30T21:39:13.630266Z"
    },
    "papermill": {
     "duration": 0.018261,
     "end_time": "2025-07-30T21:39:13.632500",
     "exception": false,
     "start_time": "2025-07-30T21:39:13.614239",
     "status": "completed"
    },
    "tags": []
   },
   "outputs": [],
   "source": [
    "#display(siab_s.groupby(\"year\").size())"
   ]
  },
  {
   "cell_type": "code",
   "execution_count": 27,
   "id": "e6c733c5",
   "metadata": {
    "execution": {
     "iopub.execute_input": "2025-07-30T21:39:13.658327Z",
     "iopub.status.busy": "2025-07-30T21:39:13.657513Z",
     "iopub.status.idle": "2025-07-30T21:39:13.743936Z",
     "shell.execute_reply": "2025-07-30T21:39:13.743176Z"
    },
    "papermill": {
     "duration": 0.100212,
     "end_time": "2025-07-30T21:39:13.745394",
     "exception": false,
     "start_time": "2025-07-30T21:39:13.645182",
     "status": "completed"
    },
    "tags": []
   },
   "outputs": [],
   "source": [
    "# Auxiliary data needed downstream in the pipeline\n",
    "\n",
    "org_train = X_train.copy()\n",
    "org_test = X_test.copy()\n",
    "org_calib = X_calib.copy()"
   ]
  },
  {
   "cell_type": "code",
   "execution_count": 28,
   "id": "1466abac-c6da-4492-a62f-4240ae3783af",
   "metadata": {
    "execution": {
     "iopub.execute_input": "2025-07-30T21:39:13.770187Z",
     "iopub.status.busy": "2025-07-30T21:39:13.769689Z",
     "iopub.status.idle": "2025-07-30T21:39:13.774727Z",
     "shell.execute_reply": "2025-07-30T21:39:13.773915Z"
    },
    "papermill": {
     "duration": 0.018641,
     "end_time": "2025-07-30T21:39:13.776103",
     "exception": false,
     "start_time": "2025-07-30T21:39:13.757462",
     "status": "completed"
    },
    "tags": []
   },
   "outputs": [],
   "source": [
    "# put in other script?\n",
    "# Group sizes\n",
    "\n",
    "#def calculate_percentages(df, df_name):\n",
    "#    total_entries = len(df)\n",
    "#\n",
    "#    female_pct = (df['frau1'] == 1).mean() * 100\n",
    "#    non_german_pct = ((df['maxdeutsch1'] == 0) & (df['maxdeutsch.Missing.'] == 0)).mean() * 100\n",
    "#    non_german_male_pct = ((df['frau1'] == 0) & (df['maxdeutsch1'] == 0) & (df['maxdeutsch.Missing.'] == 0)).mean() * 100\n",
    "#    non_german_female_pct = ((df['frau1'] == 1) & (df['maxdeutsch1'] == 0) & (df['maxdeutsch.Missing.'] == 0)).mean() * 100\n",
    "#\n",
    "#    print(f\"--- {df_name} ---\")\n",
    "#    print(f\"Female: {female_pct:.2f}%\")\n",
    "#    print(f\"Non-German: {non_german_pct:.2f}%\")\n",
    "#    print(f\"Non-German Male: {non_german_male_pct:.2f}%\")\n",
    "#    print(f\"Non-German Female: {non_german_female_pct:.2f}%\\n\")\n",
    "#\n",
    "## Calculate for each DataFrame\n",
    "#calculate_percentages(siab_calib, \"siab_calib\")\n",
    "#calculate_percentages(siab_test, \"siab_test\")\n",
    "#calculate_percentages(siab_train, \"siab_train\")"
   ]
  },
  {
   "cell_type": "markdown",
   "id": "0a4a1b33",
   "metadata": {
    "papermill": {
     "duration": 0.011354,
     "end_time": "2025-07-30T21:39:13.800142",
     "exception": false,
     "start_time": "2025-07-30T21:39:13.788788",
     "status": "completed"
    },
    "tags": []
   },
   "source": [
    "# Preprocessing Data"
   ]
  },
  {
   "cell_type": "code",
   "execution_count": 29,
   "id": "ca879031",
   "metadata": {
    "execution": {
     "iopub.execute_input": "2025-07-30T21:39:13.823951Z",
     "iopub.status.busy": "2025-07-30T21:39:13.823598Z",
     "iopub.status.idle": "2025-07-30T21:39:13.828842Z",
     "shell.execute_reply": "2025-07-30T21:39:13.828105Z"
    },
    "papermill": {
     "duration": 0.018538,
     "end_time": "2025-07-30T21:39:13.830154",
     "exception": false,
     "start_time": "2025-07-30T21:39:13.811616",
     "status": "completed"
    },
    "tags": []
   },
   "outputs": [],
   "source": [
    "# EXCLUDE PROTECTED FEATURES\n",
    "# ----------------------\n",
    "# \"exclude_features\": \"none\", # \"nationality\", \"sex\", \"nationality-sex\"\n",
    "\n",
    "excluded_features = universe[\"exclude_features\"].split(\"-\") # split, e.g.: \"nationality-sex\" -> [\"nationality\", \"sex\"]\n",
    "excluded_features_dictionary = {\n",
    "    \"nationality\": [\"maxdeutsch1\", \"maxdeutsch.Missing.\"],\n",
    "    \"sex\": [\"frau1\"],\n",
    "    \"age\": [\"age\"],\n",
    "}\n"
   ]
  },
  {
   "cell_type": "code",
   "execution_count": 30,
   "id": "b745ac60",
   "metadata": {
    "execution": {
     "iopub.execute_input": "2025-07-30T21:39:13.856127Z",
     "iopub.status.busy": "2025-07-30T21:39:13.855745Z",
     "iopub.status.idle": "2025-07-30T21:39:13.860806Z",
     "shell.execute_reply": "2025-07-30T21:39:13.860017Z"
    },
    "papermill": {
     "duration": 0.019505,
     "end_time": "2025-07-30T21:39:13.862260",
     "exception": false,
     "start_time": "2025-07-30T21:39:13.842755",
     "status": "completed"
    },
    "tags": []
   },
   "outputs": [],
   "source": [
    "# Code nice names to column names\n",
    "\n",
    "excluded_features_columns = [\n",
    "    excluded_features_dictionary[f] for f in excluded_features if len(f) > 0 and f != \"none\"\n",
    "]"
   ]
  },
  {
   "cell_type": "code",
   "execution_count": 31,
   "id": "f84f73a2",
   "metadata": {
    "execution": {
     "iopub.execute_input": "2025-07-30T21:39:13.888115Z",
     "iopub.status.busy": "2025-07-30T21:39:13.887734Z",
     "iopub.status.idle": "2025-07-30T21:39:13.893339Z",
     "shell.execute_reply": "2025-07-30T21:39:13.892488Z"
    },
    "papermill": {
     "duration": 0.019407,
     "end_time": "2025-07-30T21:39:13.894663",
     "exception": false,
     "start_time": "2025-07-30T21:39:13.875256",
     "status": "completed"
    },
    "tags": []
   },
   "outputs": [],
   "source": [
    "from utils import flatten_once\n",
    "\n",
    "excluded_features_columns = flatten_once(excluded_features_columns)"
   ]
  },
  {
   "cell_type": "code",
   "execution_count": 32,
   "id": "884dea22",
   "metadata": {
    "execution": {
     "iopub.execute_input": "2025-07-30T21:39:13.920717Z",
     "iopub.status.busy": "2025-07-30T21:39:13.920194Z",
     "iopub.status.idle": "2025-07-30T21:39:13.925271Z",
     "shell.execute_reply": "2025-07-30T21:39:13.924454Z"
    },
    "papermill": {
     "duration": 0.018887,
     "end_time": "2025-07-30T21:39:13.926588",
     "exception": false,
     "start_time": "2025-07-30T21:39:13.907701",
     "status": "completed"
    },
    "tags": []
   },
   "outputs": [],
   "source": [
    "if len(excluded_features_columns) > 0:\n",
    "    print(f\"Dropping features: {excluded_features_columns}\")\n",
    "    X_train.drop(excluded_features_columns, axis=1, inplace=True)"
   ]
  },
  {
   "cell_type": "code",
   "execution_count": 33,
   "id": "95ab8b16",
   "metadata": {
    "execution": {
     "iopub.execute_input": "2025-07-30T21:39:13.952436Z",
     "iopub.status.busy": "2025-07-30T21:39:13.951854Z",
     "iopub.status.idle": "2025-07-30T21:39:13.956812Z",
     "shell.execute_reply": "2025-07-30T21:39:13.955955Z"
    },
    "papermill": {
     "duration": 0.01871,
     "end_time": "2025-07-30T21:39:13.958110",
     "exception": false,
     "start_time": "2025-07-30T21:39:13.939400",
     "status": "completed"
    },
    "tags": []
   },
   "outputs": [],
   "source": [
    "if len(excluded_features_columns) > 0:\n",
    "    print(f\"Dropping features: {excluded_features_columns}\")\n",
    "    X_test.drop(excluded_features_columns, axis=1, inplace=True)"
   ]
  },
  {
   "cell_type": "code",
   "execution_count": 34,
   "id": "1853aaf5-fb9f-46cb-a2b5-8ea4ae2237e4",
   "metadata": {
    "execution": {
     "iopub.execute_input": "2025-07-30T21:39:13.985681Z",
     "iopub.status.busy": "2025-07-30T21:39:13.984988Z",
     "iopub.status.idle": "2025-07-30T21:39:13.990196Z",
     "shell.execute_reply": "2025-07-30T21:39:13.989251Z"
    },
    "papermill": {
     "duration": 0.021307,
     "end_time": "2025-07-30T21:39:13.992295",
     "exception": false,
     "start_time": "2025-07-30T21:39:13.970988",
     "status": "completed"
    },
    "tags": []
   },
   "outputs": [],
   "source": [
    "if len(excluded_features_columns) > 0:\n",
    "    print(f\"Dropping features: {excluded_features_columns}\")\n",
    "    X_calib.drop(excluded_features_columns, axis=1, inplace=True)"
   ]
  },
  {
   "cell_type": "code",
   "execution_count": 35,
   "id": "6727d079-03e5-481e-9d38-292a90b7a0a8",
   "metadata": {
    "execution": {
     "iopub.execute_input": "2025-07-30T21:39:14.038854Z",
     "iopub.status.busy": "2025-07-30T21:39:14.038334Z",
     "iopub.status.idle": "2025-07-30T21:39:14.043477Z",
     "shell.execute_reply": "2025-07-30T21:39:14.042570Z"
    },
    "papermill": {
     "duration": 0.030619,
     "end_time": "2025-07-30T21:39:14.045255",
     "exception": false,
     "start_time": "2025-07-30T21:39:14.014636",
     "status": "completed"
    },
    "tags": []
   },
   "outputs": [],
   "source": [
    "# SPLIT & STRATIFY DATA\n",
    "# ----------------------"
   ]
  },
  {
   "cell_type": "code",
   "execution_count": 36,
   "id": "76c4dc6d",
   "metadata": {
    "execution": {
     "iopub.execute_input": "2025-07-30T21:39:14.092824Z",
     "iopub.status.busy": "2025-07-30T21:39:14.092162Z",
     "iopub.status.idle": "2025-07-30T21:39:14.097731Z",
     "shell.execute_reply": "2025-07-30T21:39:14.096698Z"
    },
    "papermill": {
     "duration": 0.031104,
     "end_time": "2025-07-30T21:39:14.099636",
     "exception": false,
     "start_time": "2025-07-30T21:39:14.068532",
     "status": "completed"
    },
    "tags": []
   },
   "outputs": [],
   "source": [
    "# EXCLUDE CERTAIN SUBGROUPS\n",
    "# ----------------------\n",
    "\n",
    "mode = universe.get(\"exclude_subgroups\", \"keep-all\") \n",
    "# Fetches the exclude_subgroups setting from the universe dict.\n",
    "# Defaults to \"keep-all\" if the key is missing."
   ]
  },
  {
   "cell_type": "code",
   "execution_count": 37,
   "id": "21994072",
   "metadata": {
    "execution": {
     "iopub.execute_input": "2025-07-30T21:39:14.149343Z",
     "iopub.status.busy": "2025-07-30T21:39:14.148825Z",
     "iopub.status.idle": "2025-07-30T21:39:14.156380Z",
     "shell.execute_reply": "2025-07-30T21:39:14.155379Z"
    },
    "papermill": {
     "duration": 0.032542,
     "end_time": "2025-07-30T21:39:14.158229",
     "exception": false,
     "start_time": "2025-07-30T21:39:14.125687",
     "status": "completed"
    },
    "tags": []
   },
   "outputs": [],
   "source": [
    "if mode == \"keep-all\":\n",
    "    keep_mask = pd.Series(True, index=org_train.index)\n",
    "\n",
    "# org_train contains the original feature columns from features_org (in Simson)\n",
    "# features_org contains unprocessed features, for me X_train at beginning ???\n",
    "# For keep-all, creates a boolean Series (keep_mask) of all True, so no rows are removed.\n",
    "\n",
    "elif mode == \"drop-non-german\":\n",
    "    keep_mask = org_train[\"maxdeutsch1\"] == 1 # ??? what about missing values?\n",
    "\n",
    "else:\n",
    "    raise ValueError(f\"Unsupported mode for exclude_subgroups: {mode}\")\n"
   ]
  },
  {
   "cell_type": "code",
   "execution_count": 38,
   "id": "71651440",
   "metadata": {
    "execution": {
     "iopub.execute_input": "2025-07-30T21:39:14.204883Z",
     "iopub.status.busy": "2025-07-30T21:39:14.204361Z",
     "iopub.status.idle": "2025-07-30T21:39:14.211112Z",
     "shell.execute_reply": "2025-07-30T21:39:14.210026Z"
    },
    "papermill": {
     "duration": 0.031346,
     "end_time": "2025-07-30T21:39:14.212829",
     "exception": false,
     "start_time": "2025-07-30T21:39:14.181483",
     "status": "completed"
    },
    "tags": []
   },
   "outputs": [
    {
     "name": "stdout",
     "output_type": "stream",
     "text": [
      "Dropping 147 rows (14.70%) where mode='drop-non-german'\n"
     ]
    }
   ],
   "source": [
    "n_drop = (~keep_mask).sum() # Calculates how many rows are set to be dropped\n",
    "if n_drop > 0:\n",
    "    pct = n_drop / len(keep_mask) * 100\n",
    "    print(f\"Dropping {n_drop} rows ({pct:.2f}%) where mode='{mode}'\")"
   ]
  },
  {
   "cell_type": "code",
   "execution_count": 39,
   "id": "5fb8eee5",
   "metadata": {
    "execution": {
     "iopub.execute_input": "2025-07-30T21:39:14.261300Z",
     "iopub.status.busy": "2025-07-30T21:39:14.260457Z",
     "iopub.status.idle": "2025-07-30T21:39:14.266996Z",
     "shell.execute_reply": "2025-07-30T21:39:14.266112Z"
    },
    "papermill": {
     "duration": 0.031434,
     "end_time": "2025-07-30T21:39:14.268645",
     "exception": false,
     "start_time": "2025-07-30T21:39:14.237211",
     "status": "completed"
    },
    "tags": []
   },
   "outputs": [],
   "source": [
    "X_train = X_train[keep_mask]"
   ]
  },
  {
   "cell_type": "code",
   "execution_count": 40,
   "id": "b202bb3a",
   "metadata": {
    "execution": {
     "iopub.execute_input": "2025-07-30T21:39:14.314009Z",
     "iopub.status.busy": "2025-07-30T21:39:14.313190Z",
     "iopub.status.idle": "2025-07-30T21:39:14.319036Z",
     "shell.execute_reply": "2025-07-30T21:39:14.318054Z"
    },
    "papermill": {
     "duration": 0.029993,
     "end_time": "2025-07-30T21:39:14.320858",
     "exception": false,
     "start_time": "2025-07-30T21:39:14.290865",
     "status": "completed"
    },
    "tags": []
   },
   "outputs": [],
   "source": [
    "y_train = y_train[keep_mask]"
   ]
  },
  {
   "cell_type": "markdown",
   "id": "493e2ac3",
   "metadata": {
    "papermill": {
     "duration": 0.023806,
     "end_time": "2025-07-30T21:39:14.369497",
     "exception": false,
     "start_time": "2025-07-30T21:39:14.345691",
     "status": "completed"
    },
    "tags": []
   },
   "source": [
    "# Model Training"
   ]
  },
  {
   "cell_type": "code",
   "execution_count": 41,
   "id": "679e1268",
   "metadata": {
    "execution": {
     "iopub.execute_input": "2025-07-30T21:39:14.418699Z",
     "iopub.status.busy": "2025-07-30T21:39:14.417954Z",
     "iopub.status.idle": "2025-07-30T21:39:14.524586Z",
     "shell.execute_reply": "2025-07-30T21:39:14.523585Z"
    },
    "papermill": {
     "duration": 0.133555,
     "end_time": "2025-07-30T21:39:14.526666",
     "exception": false,
     "start_time": "2025-07-30T21:39:14.393111",
     "status": "completed"
    },
    "tags": []
   },
   "outputs": [],
   "source": [
    "from sklearn.linear_model import LogisticRegression\n",
    "from sklearn.ensemble import GradientBoostingClassifier, RandomForestClassifier\n",
    "\n",
    "if (universe[\"model\"] == \"logreg\"):\n",
    "    model = LogisticRegression() #penalty=\"none\") #, solver=\"newton-cg\", max_iter=1) # include random_state=19 ?\n",
    "elif (universe[\"model\"] == \"penalized_logreg\"):\n",
    "    model = LogisticRegression(penalty=\"l2\", C=1.0) #, solver=\"newton-cg\", max_iter=1)\n",
    "elif (universe[\"model\"] == \"rf\"):\n",
    "    model = RandomForestClassifier(n_estimators=100, n_jobs=-1)\n",
    "elif (universe[\"model\"] == \"gbm\"):\n",
    "    model = GradientBoostingClassifier()\n",
    "elif (universe[\"model\"] == \"elasticnet\"):\n",
    "    model = LogisticRegression(penalty = 'elasticnet', solver = 'saga', l1_ratio = 0.5, max_iter=5000) # which solver to use?\n",
    "else:\n",
    "    raise \"Unsupported universe.model\""
   ]
  },
  {
   "cell_type": "code",
   "execution_count": 42,
   "id": "0cc8f744",
   "metadata": {
    "execution": {
     "iopub.execute_input": "2025-07-30T21:39:14.577391Z",
     "iopub.status.busy": "2025-07-30T21:39:14.576724Z",
     "iopub.status.idle": "2025-07-30T21:39:14.583267Z",
     "shell.execute_reply": "2025-07-30T21:39:14.582327Z"
    },
    "papermill": {
     "duration": 0.033565,
     "end_time": "2025-07-30T21:39:14.585016",
     "exception": false,
     "start_time": "2025-07-30T21:39:14.551451",
     "status": "completed"
    },
    "tags": []
   },
   "outputs": [],
   "source": [
    "import numpy as np\n",
    "from sklearn.pipeline import Pipeline\n",
    "from sklearn.preprocessing import StandardScaler\n",
    "\n",
    "model = Pipeline([\n",
    "    #(\"continuous_processor\", continuous_processor),\n",
    "    #(\"categorical_preprocessor\", categorical_preprocessor),\n",
    "    (\"scale\", StandardScaler() if universe[\"scale\"] == \"scale\" else None), \n",
    "    (\"model\", model),\n",
    "])"
   ]
  },
  {
   "cell_type": "code",
   "execution_count": 43,
   "id": "9442c04d",
   "metadata": {
    "execution": {
     "iopub.execute_input": "2025-07-30T21:39:14.635396Z",
     "iopub.status.busy": "2025-07-30T21:39:14.634730Z",
     "iopub.status.idle": "2025-07-30T21:39:14.697537Z",
     "shell.execute_reply": "2025-07-30T21:39:14.696590Z"
    },
    "papermill": {
     "duration": 0.089228,
     "end_time": "2025-07-30T21:39:14.699058",
     "exception": false,
     "start_time": "2025-07-30T21:39:14.609830",
     "status": "completed"
    },
    "tags": []
   },
   "outputs": [
    {
     "name": "stderr",
     "output_type": "stream",
     "text": [
      "/dss/dsshome1/0C/ra93lal2/.local/share/virtualenvs/CMA_Fairness_v2-3j10GkSs/lib/python3.10/site-packages/sklearn/linear_model/_logistic.py:444: ConvergenceWarning: lbfgs failed to converge (status=1):\n",
      "STOP: TOTAL NO. of ITERATIONS REACHED LIMIT.\n",
      "\n",
      "Increase the number of iterations (max_iter) or scale the data as shown in:\n",
      "    https://scikit-learn.org/stable/modules/preprocessing.html\n",
      "Please also refer to the documentation for alternative solver options:\n",
      "    https://scikit-learn.org/stable/modules/linear_model.html#logistic-regression\n",
      "  n_iter_i = _check_optimize_result(\n"
     ]
    },
    {
     "data": {
      "text/html": [
       "<style>#sk-container-id-1 {color: black;background-color: white;}#sk-container-id-1 pre{padding: 0;}#sk-container-id-1 div.sk-toggleable {background-color: white;}#sk-container-id-1 label.sk-toggleable__label {cursor: pointer;display: block;width: 100%;margin-bottom: 0;padding: 0.3em;box-sizing: border-box;text-align: center;}#sk-container-id-1 label.sk-toggleable__label-arrow:before {content: \"▸\";float: left;margin-right: 0.25em;color: #696969;}#sk-container-id-1 label.sk-toggleable__label-arrow:hover:before {color: black;}#sk-container-id-1 div.sk-estimator:hover label.sk-toggleable__label-arrow:before {color: black;}#sk-container-id-1 div.sk-toggleable__content {max-height: 0;max-width: 0;overflow: hidden;text-align: left;background-color: #f0f8ff;}#sk-container-id-1 div.sk-toggleable__content pre {margin: 0.2em;color: black;border-radius: 0.25em;background-color: #f0f8ff;}#sk-container-id-1 input.sk-toggleable__control:checked~div.sk-toggleable__content {max-height: 200px;max-width: 100%;overflow: auto;}#sk-container-id-1 input.sk-toggleable__control:checked~label.sk-toggleable__label-arrow:before {content: \"▾\";}#sk-container-id-1 div.sk-estimator input.sk-toggleable__control:checked~label.sk-toggleable__label {background-color: #d4ebff;}#sk-container-id-1 div.sk-label input.sk-toggleable__control:checked~label.sk-toggleable__label {background-color: #d4ebff;}#sk-container-id-1 input.sk-hidden--visually {border: 0;clip: rect(1px 1px 1px 1px);clip: rect(1px, 1px, 1px, 1px);height: 1px;margin: -1px;overflow: hidden;padding: 0;position: absolute;width: 1px;}#sk-container-id-1 div.sk-estimator {font-family: monospace;background-color: #f0f8ff;border: 1px dotted black;border-radius: 0.25em;box-sizing: border-box;margin-bottom: 0.5em;}#sk-container-id-1 div.sk-estimator:hover {background-color: #d4ebff;}#sk-container-id-1 div.sk-parallel-item::after {content: \"\";width: 100%;border-bottom: 1px solid gray;flex-grow: 1;}#sk-container-id-1 div.sk-label:hover label.sk-toggleable__label {background-color: #d4ebff;}#sk-container-id-1 div.sk-serial::before {content: \"\";position: absolute;border-left: 1px solid gray;box-sizing: border-box;top: 0;bottom: 0;left: 50%;z-index: 0;}#sk-container-id-1 div.sk-serial {display: flex;flex-direction: column;align-items: center;background-color: white;padding-right: 0.2em;padding-left: 0.2em;position: relative;}#sk-container-id-1 div.sk-item {position: relative;z-index: 1;}#sk-container-id-1 div.sk-parallel {display: flex;align-items: stretch;justify-content: center;background-color: white;position: relative;}#sk-container-id-1 div.sk-item::before, #sk-container-id-1 div.sk-parallel-item::before {content: \"\";position: absolute;border-left: 1px solid gray;box-sizing: border-box;top: 0;bottom: 0;left: 50%;z-index: -1;}#sk-container-id-1 div.sk-parallel-item {display: flex;flex-direction: column;z-index: 1;position: relative;background-color: white;}#sk-container-id-1 div.sk-parallel-item:first-child::after {align-self: flex-end;width: 50%;}#sk-container-id-1 div.sk-parallel-item:last-child::after {align-self: flex-start;width: 50%;}#sk-container-id-1 div.sk-parallel-item:only-child::after {width: 0;}#sk-container-id-1 div.sk-dashed-wrapped {border: 1px dashed gray;margin: 0 0.4em 0.5em 0.4em;box-sizing: border-box;padding-bottom: 0.4em;background-color: white;}#sk-container-id-1 div.sk-label label {font-family: monospace;font-weight: bold;display: inline-block;line-height: 1.2em;}#sk-container-id-1 div.sk-label-container {text-align: center;}#sk-container-id-1 div.sk-container {/* jupyter's `normalize.less` sets `[hidden] { display: none; }` but bootstrap.min.css set `[hidden] { display: none !important; }` so we also need the `!important` here to be able to override the default hidden behavior on the sphinx rendered scikit-learn.org. See: https://github.com/scikit-learn/scikit-learn/issues/21755 */display: inline-block !important;position: relative;}#sk-container-id-1 div.sk-text-repr-fallback {display: none;}</style><div id=\"sk-container-id-1\" class=\"sk-top-container\"><div class=\"sk-text-repr-fallback\"><pre>Pipeline(steps=[(&#x27;scale&#x27;, None), (&#x27;model&#x27;, LogisticRegression())])</pre><b>In a Jupyter environment, please rerun this cell to show the HTML representation or trust the notebook. <br />On GitHub, the HTML representation is unable to render, please try loading this page with nbviewer.org.</b></div><div class=\"sk-container\" hidden><div class=\"sk-item sk-dashed-wrapped\"><div class=\"sk-label-container\"><div class=\"sk-label sk-toggleable\"><input class=\"sk-toggleable__control sk-hidden--visually\" id=\"sk-estimator-id-1\" type=\"checkbox\" ><label for=\"sk-estimator-id-1\" class=\"sk-toggleable__label sk-toggleable__label-arrow\">Pipeline</label><div class=\"sk-toggleable__content\"><pre>Pipeline(steps=[(&#x27;scale&#x27;, None), (&#x27;model&#x27;, LogisticRegression())])</pre></div></div></div><div class=\"sk-serial\"><div class=\"sk-item\"><div class=\"sk-estimator sk-toggleable\"><input class=\"sk-toggleable__control sk-hidden--visually\" id=\"sk-estimator-id-2\" type=\"checkbox\" ><label for=\"sk-estimator-id-2\" class=\"sk-toggleable__label sk-toggleable__label-arrow\">None</label><div class=\"sk-toggleable__content\"><pre>None</pre></div></div></div><div class=\"sk-item\"><div class=\"sk-estimator sk-toggleable\"><input class=\"sk-toggleable__control sk-hidden--visually\" id=\"sk-estimator-id-3\" type=\"checkbox\" ><label for=\"sk-estimator-id-3\" class=\"sk-toggleable__label sk-toggleable__label-arrow\">LogisticRegression</label><div class=\"sk-toggleable__content\"><pre>LogisticRegression()</pre></div></div></div></div></div></div></div>"
      ],
      "text/plain": [
       "Pipeline(steps=[('scale', None), ('model', LogisticRegression())])"
      ]
     },
     "execution_count": 43,
     "metadata": {},
     "output_type": "execute_result"
    }
   ],
   "source": [
    "model.fit(X_train, y_train.values.ravel())"
   ]
  },
  {
   "cell_type": "code",
   "execution_count": 44,
   "id": "af59f8c0",
   "metadata": {
    "execution": {
     "iopub.execute_input": "2025-07-30T21:39:14.747615Z",
     "iopub.status.busy": "2025-07-30T21:39:14.746904Z",
     "iopub.status.idle": "2025-07-30T21:39:14.752583Z",
     "shell.execute_reply": "2025-07-30T21:39:14.751487Z"
    },
    "papermill": {
     "duration": 0.033186,
     "end_time": "2025-07-30T21:39:14.754246",
     "exception": false,
     "start_time": "2025-07-30T21:39:14.721060",
     "status": "completed"
    },
    "tags": []
   },
   "outputs": [],
   "source": [
    "from fairness_multiverse.universe import predict_w_threshold"
   ]
  },
  {
   "cell_type": "code",
   "execution_count": 45,
   "id": "a7cf2e16",
   "metadata": {
    "execution": {
     "iopub.execute_input": "2025-07-30T21:39:14.808159Z",
     "iopub.status.busy": "2025-07-30T21:39:14.807360Z",
     "iopub.status.idle": "2025-07-30T21:39:14.907150Z",
     "shell.execute_reply": "2025-07-30T21:39:14.906276Z"
    },
    "papermill": {
     "duration": 0.131215,
     "end_time": "2025-07-30T21:39:14.908791",
     "exception": false,
     "start_time": "2025-07-30T21:39:14.777576",
     "status": "completed"
    },
    "tags": []
   },
   "outputs": [
    {
     "data": {
      "text/plain": [
       "0.8578530821536061"
      ]
     },
     "execution_count": 45,
     "metadata": {},
     "output_type": "execute_result"
    }
   ],
   "source": [
    "probs_test = model.predict_proba(X_test)\n",
    "\n",
    "'''\n",
    "Below code returns a boolean array (or binary 0/1 array depending on how it’s used) where each element \n",
    "is True if the probability of class 1 is greater than or equal to the threshold, and False otherwise.\n",
    "'''\n",
    "y_pred_default = predict_w_threshold(probs_test, 0.5)\n",
    "\n",
    "from sklearn.metrics import accuracy_score\n",
    "\n",
    "# Naive prediction\n",
    "accuracy_score(y_true = y_true, y_pred = y_pred_default)"
   ]
  },
  {
   "cell_type": "code",
   "execution_count": 46,
   "id": "081964c3",
   "metadata": {
    "execution": {
     "iopub.execute_input": "2025-07-30T21:39:14.957525Z",
     "iopub.status.busy": "2025-07-30T21:39:14.956651Z",
     "iopub.status.idle": "2025-07-30T21:39:15.041573Z",
     "shell.execute_reply": "2025-07-30T21:39:15.040561Z"
    },
    "papermill": {
     "duration": 0.111644,
     "end_time": "2025-07-30T21:39:15.043322",
     "exception": false,
     "start_time": "2025-07-30T21:39:14.931678",
     "status": "completed"
    },
    "tags": []
   },
   "outputs": [
    {
     "data": {
      "text/plain": [
       "array([0, 0, 0, ..., 0, 0, 0])"
      ]
     },
     "execution_count": 46,
     "metadata": {},
     "output_type": "execute_result"
    }
   ],
   "source": [
    "model.predict(X_test)"
   ]
  },
  {
   "cell_type": "markdown",
   "id": "56c9705b",
   "metadata": {
    "papermill": {
     "duration": 0.026721,
     "end_time": "2025-07-30T21:39:15.120425",
     "exception": false,
     "start_time": "2025-07-30T21:39:15.093704",
     "status": "completed"
    },
    "tags": []
   },
   "source": [
    "# Conformal Prediction"
   ]
  },
  {
   "cell_type": "code",
   "execution_count": 47,
   "id": "160ec6ff",
   "metadata": {
    "execution": {
     "iopub.execute_input": "2025-07-30T21:39:15.177062Z",
     "iopub.status.busy": "2025-07-30T21:39:15.176695Z",
     "iopub.status.idle": "2025-07-30T21:39:15.182556Z",
     "shell.execute_reply": "2025-07-30T21:39:15.181504Z"
    },
    "papermill": {
     "duration": 0.037507,
     "end_time": "2025-07-30T21:39:15.184552",
     "exception": false,
     "start_time": "2025-07-30T21:39:15.147045",
     "status": "completed"
    },
    "tags": []
   },
   "outputs": [],
   "source": [
    "# Miscoverage level for conformal prediction (10% allowed error rate => 90% target coverage)\n",
    "alpha = 0.1"
   ]
  },
  {
   "cell_type": "code",
   "execution_count": 48,
   "id": "eadf4555-3dd3-440e-8e35-f82a4ad9f855",
   "metadata": {
    "execution": {
     "iopub.execute_input": "2025-07-30T21:39:15.236443Z",
     "iopub.status.busy": "2025-07-30T21:39:15.235885Z",
     "iopub.status.idle": "2025-07-30T21:39:15.324976Z",
     "shell.execute_reply": "2025-07-30T21:39:15.323855Z"
    },
    "papermill": {
     "duration": 0.115388,
     "end_time": "2025-07-30T21:39:15.327007",
     "exception": false,
     "start_time": "2025-07-30T21:39:15.211619",
     "status": "completed"
    },
    "tags": []
   },
   "outputs": [],
   "source": [
    "probs_calib = model.predict_proba(X_calib)"
   ]
  },
  {
   "cell_type": "code",
   "execution_count": 49,
   "id": "2ed93547-6d5d-4983-9b36-1ecb300da49a",
   "metadata": {
    "execution": {
     "iopub.execute_input": "2025-07-30T21:39:15.374841Z",
     "iopub.status.busy": "2025-07-30T21:39:15.373631Z",
     "iopub.status.idle": "2025-07-30T21:39:15.379893Z",
     "shell.execute_reply": "2025-07-30T21:39:15.378757Z"
    },
    "papermill": {
     "duration": 0.03104,
     "end_time": "2025-07-30T21:39:15.381449",
     "exception": false,
     "start_time": "2025-07-30T21:39:15.350409",
     "status": "completed"
    },
    "tags": []
   },
   "outputs": [],
   "source": [
    "y_calib = y_calib.values.ravel().astype(int)"
   ]
  },
  {
   "cell_type": "code",
   "execution_count": 50,
   "id": "65d1320d-f588-4b38-9072-62af1ae97f7d",
   "metadata": {
    "execution": {
     "iopub.execute_input": "2025-07-30T21:39:15.432153Z",
     "iopub.status.busy": "2025-07-30T21:39:15.431246Z",
     "iopub.status.idle": "2025-07-30T21:39:15.438677Z",
     "shell.execute_reply": "2025-07-30T21:39:15.437576Z"
    },
    "papermill": {
     "duration": 0.033818,
     "end_time": "2025-07-30T21:39:15.440323",
     "exception": false,
     "start_time": "2025-07-30T21:39:15.406505",
     "status": "completed"
    },
    "tags": []
   },
   "outputs": [],
   "source": [
    "from fairness_multiverse.conformal import compute_nc_scores\n",
    "\n",
    "# Compute nonconformity scores on calibration set (1 - probability of true class)\n",
    "nc_scores = compute_nc_scores(probs_calib, y_calib)"
   ]
  },
  {
   "cell_type": "code",
   "execution_count": 51,
   "id": "df3b8ca3-53b7-43d5-9667-7c85da7aeda2",
   "metadata": {
    "execution": {
     "iopub.execute_input": "2025-07-30T21:39:15.490498Z",
     "iopub.status.busy": "2025-07-30T21:39:15.489916Z",
     "iopub.status.idle": "2025-07-30T21:39:15.496411Z",
     "shell.execute_reply": "2025-07-30T21:39:15.495123Z"
    },
    "papermill": {
     "duration": 0.034558,
     "end_time": "2025-07-30T21:39:15.498329",
     "exception": false,
     "start_time": "2025-07-30T21:39:15.463771",
     "status": "completed"
    },
    "tags": []
   },
   "outputs": [],
   "source": [
    "from fairness_multiverse.conformal import find_threshold\n",
    "\n",
    "# Find conformal threshold q_hat for the given alpha (split conformal method)\n",
    "q_hat = find_threshold(nc_scores, alpha)"
   ]
  },
  {
   "cell_type": "code",
   "execution_count": 52,
   "id": "4d29e6c1-0ef6-4aa4-b8fe-4fe79b0d033a",
   "metadata": {
    "execution": {
     "iopub.execute_input": "2025-07-30T21:39:15.529232Z",
     "iopub.status.busy": "2025-07-30T21:39:15.528882Z",
     "iopub.status.idle": "2025-07-30T21:39:15.535150Z",
     "shell.execute_reply": "2025-07-30T21:39:15.534338Z"
    },
    "papermill": {
     "duration": 0.021932,
     "end_time": "2025-07-30T21:39:15.536533",
     "exception": false,
     "start_time": "2025-07-30T21:39:15.514601",
     "status": "completed"
    },
    "tags": []
   },
   "outputs": [
    {
     "data": {
      "text/plain": [
       "0.6955993118780146"
      ]
     },
     "execution_count": 52,
     "metadata": {},
     "output_type": "execute_result"
    }
   ],
   "source": [
    "q_hat"
   ]
  },
  {
   "cell_type": "code",
   "execution_count": 53,
   "id": "92460794-cdac-4be2-ba28-f28c0515a6fb",
   "metadata": {
    "execution": {
     "iopub.execute_input": "2025-07-30T21:39:15.571041Z",
     "iopub.status.busy": "2025-07-30T21:39:15.570135Z",
     "iopub.status.idle": "2025-07-30T21:39:16.199813Z",
     "shell.execute_reply": "2025-07-30T21:39:16.198773Z"
    },
    "papermill": {
     "duration": 0.647526,
     "end_time": "2025-07-30T21:39:16.201362",
     "exception": false,
     "start_time": "2025-07-30T21:39:15.553836",
     "status": "completed"
    },
    "tags": []
   },
   "outputs": [],
   "source": [
    "from fairness_multiverse.conformal import predict_conformal_sets\n",
    "\n",
    "# Generate prediction sets for each test example\n",
    "pred_sets = predict_conformal_sets(model, X_test, q_hat)"
   ]
  },
  {
   "cell_type": "code",
   "execution_count": 54,
   "id": "d90c9a65-e6db-4f5d-80cd-e68fb7e46829",
   "metadata": {
    "execution": {
     "iopub.execute_input": "2025-07-30T21:39:16.231884Z",
     "iopub.status.busy": "2025-07-30T21:39:16.231394Z",
     "iopub.status.idle": "2025-07-30T21:39:16.236779Z",
     "shell.execute_reply": "2025-07-30T21:39:16.235597Z"
    },
    "papermill": {
     "duration": 0.021067,
     "end_time": "2025-07-30T21:39:16.238508",
     "exception": false,
     "start_time": "2025-07-30T21:39:16.217441",
     "status": "completed"
    },
    "tags": []
   },
   "outputs": [],
   "source": [
    "y_true = y_true.squeeze()"
   ]
  },
  {
   "cell_type": "code",
   "execution_count": 55,
   "id": "3a58a54a-1e68-46b9-927a-df01f18aebc8",
   "metadata": {
    "execution": {
     "iopub.execute_input": "2025-07-30T21:39:16.288322Z",
     "iopub.status.busy": "2025-07-30T21:39:16.287832Z",
     "iopub.status.idle": "2025-07-30T21:39:17.261319Z",
     "shell.execute_reply": "2025-07-30T21:39:17.260304Z"
    },
    "papermill": {
     "duration": 0.999831,
     "end_time": "2025-07-30T21:39:17.263440",
     "exception": false,
     "start_time": "2025-07-30T21:39:16.263609",
     "status": "completed"
    },
    "tags": []
   },
   "outputs": [],
   "source": [
    "from fairness_multiverse.conformal import evaluate_sets\n",
    "\n",
    "# Evaluate coverage and average set size on test data\n",
    "metrics = evaluate_sets(pred_sets, y_true)"
   ]
  },
  {
   "cell_type": "markdown",
   "id": "2b569c12-9aaa-4c88-98c9-bbcd0cf3ebb8",
   "metadata": {
    "papermill": {
     "duration": 0.022814,
     "end_time": "2025-07-30T21:39:17.310527",
     "exception": false,
     "start_time": "2025-07-30T21:39:17.287713",
     "status": "completed"
    },
    "tags": []
   },
   "source": [
    "# CP Metrics"
   ]
  },
  {
   "cell_type": "code",
   "execution_count": 56,
   "id": "5ce0a5cb-201f-45a0-ade5-94c7f0bd6095",
   "metadata": {
    "execution": {
     "iopub.execute_input": "2025-07-30T21:39:17.365020Z",
     "iopub.status.busy": "2025-07-30T21:39:17.364539Z",
     "iopub.status.idle": "2025-07-30T21:39:17.371804Z",
     "shell.execute_reply": "2025-07-30T21:39:17.370842Z"
    },
    "papermill": {
     "duration": 0.035134,
     "end_time": "2025-07-30T21:39:17.373583",
     "exception": false,
     "start_time": "2025-07-30T21:39:17.338449",
     "status": "completed"
    },
    "tags": []
   },
   "outputs": [
    {
     "data": {
      "text/plain": [
       "{'coverage': 0.9117712629584216, 'avg_size': 1.2175008360271988}"
      ]
     },
     "execution_count": 56,
     "metadata": {},
     "output_type": "execute_result"
    }
   ],
   "source": [
    "metrics"
   ]
  },
  {
   "cell_type": "code",
   "execution_count": 57,
   "id": "9b9a838d-31c9-430b-ae14-12baee460d17",
   "metadata": {
    "execution": {
     "iopub.execute_input": "2025-07-30T21:39:17.442431Z",
     "iopub.status.busy": "2025-07-30T21:39:17.442007Z",
     "iopub.status.idle": "2025-07-30T21:39:17.450223Z",
     "shell.execute_reply": "2025-07-30T21:39:17.449144Z"
    },
    "papermill": {
     "duration": 0.048672,
     "end_time": "2025-07-30T21:39:17.451811",
     "exception": false,
     "start_time": "2025-07-30T21:39:17.403139",
     "status": "completed"
    },
    "tags": []
   },
   "outputs": [],
   "source": [
    "example_universe = universe.copy()\n",
    "universe_training_year = example_universe.get(\"training_year\")\n",
    "universe_training_size = example_universe.get(\"training_size\")\n",
    "universe_scale = example_universe.get(\"scale\")\n",
    "universe_model = example_universe.get(\"model\")\n",
    "universe_exclude_features = example_universe.get(\"exclude_features\")\n",
    "universe_exclude_subgroups = example_universe.get(\"exclude_subgroups\")"
   ]
  },
  {
   "cell_type": "code",
   "execution_count": 58,
   "id": "f4b6a8ac-9dc0-4245-8a91-5b3b5999c4f9",
   "metadata": {
    "execution": {
     "iopub.execute_input": "2025-07-30T21:39:17.481064Z",
     "iopub.status.busy": "2025-07-30T21:39:17.480304Z",
     "iopub.status.idle": "2025-07-30T21:39:17.485669Z",
     "shell.execute_reply": "2025-07-30T21:39:17.484962Z"
    },
    "papermill": {
     "duration": 0.020755,
     "end_time": "2025-07-30T21:39:17.487036",
     "exception": false,
     "start_time": "2025-07-30T21:39:17.466281",
     "status": "completed"
    },
    "tags": []
   },
   "outputs": [],
   "source": [
    "cp_metrics_dict = {\n",
    "    \"universe_id\": [universe_id],\n",
    "    \"universe_training_year\": [universe_training_year],\n",
    "    \"universe_training_size\": [universe_training_size],\n",
    "    \"universe_scale\": [universe_scale],\n",
    "    \"universe_model\": [universe_model],\n",
    "    \"universe_exclude_features\": [universe_exclude_features],\n",
    "    \"universe_exclude_subgroups\": [universe_exclude_subgroups],\n",
    "    \"q_hat\": [q_hat],\n",
    "    \"coverage\": [metrics[\"coverage\"]],\n",
    "    \"avg_size\": [metrics[\"avg_size\"]],\n",
    "}"
   ]
  },
  {
   "cell_type": "code",
   "execution_count": 59,
   "id": "908acbb1-0371-4915-85ca-3fa520d2efe2",
   "metadata": {
    "execution": {
     "iopub.execute_input": "2025-07-30T21:39:17.518077Z",
     "iopub.status.busy": "2025-07-30T21:39:17.517688Z",
     "iopub.status.idle": "2025-07-30T21:39:17.523985Z",
     "shell.execute_reply": "2025-07-30T21:39:17.523281Z"
    },
    "papermill": {
     "duration": 0.024337,
     "end_time": "2025-07-30T21:39:17.525370",
     "exception": false,
     "start_time": "2025-07-30T21:39:17.501033",
     "status": "completed"
    },
    "tags": []
   },
   "outputs": [
    {
     "data": {
      "text/plain": [
       "{'universe_id': ['019134c23772ec7e55f6f573a7ade4e3'],\n",
       " 'universe_training_year': ['2012_14'],\n",
       " 'universe_training_size': ['1k'],\n",
       " 'universe_scale': ['do-not-scale'],\n",
       " 'universe_model': ['penalized_logreg'],\n",
       " 'universe_exclude_features': ['none'],\n",
       " 'universe_exclude_subgroups': ['drop-non-german'],\n",
       " 'q_hat': [0.6955993118780146],\n",
       " 'coverage': [0.9117712629584216],\n",
       " 'avg_size': [1.2175008360271988]}"
      ]
     },
     "execution_count": 59,
     "metadata": {},
     "output_type": "execute_result"
    }
   ],
   "source": [
    "cp_metrics_dict"
   ]
  },
  {
   "cell_type": "code",
   "execution_count": 60,
   "id": "33007efc-14e9-4ec6-97ac-56a455c82265",
   "metadata": {
    "execution": {
     "iopub.execute_input": "2025-07-30T21:39:17.553667Z",
     "iopub.status.busy": "2025-07-30T21:39:17.553181Z",
     "iopub.status.idle": "2025-07-30T21:39:17.558658Z",
     "shell.execute_reply": "2025-07-30T21:39:17.557906Z"
    },
    "papermill": {
     "duration": 0.020539,
     "end_time": "2025-07-30T21:39:17.559934",
     "exception": false,
     "start_time": "2025-07-30T21:39:17.539395",
     "status": "completed"
    },
    "tags": []
   },
   "outputs": [],
   "source": [
    "cp_metrics_df = pd.DataFrame(cp_metrics_dict)"
   ]
  },
  {
   "cell_type": "code",
   "execution_count": 61,
   "id": "db12611b-57b2-4910-b9d0-355adfd6e7bf",
   "metadata": {
    "execution": {
     "iopub.execute_input": "2025-07-30T21:39:17.591274Z",
     "iopub.status.busy": "2025-07-30T21:39:17.590587Z",
     "iopub.status.idle": "2025-07-30T21:39:17.604696Z",
     "shell.execute_reply": "2025-07-30T21:39:17.603824Z"
    },
    "papermill": {
     "duration": 0.029104,
     "end_time": "2025-07-30T21:39:17.605979",
     "exception": false,
     "start_time": "2025-07-30T21:39:17.576875",
     "status": "completed"
    },
    "tags": []
   },
   "outputs": [
    {
     "data": {
      "text/html": [
       "<div>\n",
       "<style scoped>\n",
       "    .dataframe tbody tr th:only-of-type {\n",
       "        vertical-align: middle;\n",
       "    }\n",
       "\n",
       "    .dataframe tbody tr th {\n",
       "        vertical-align: top;\n",
       "    }\n",
       "\n",
       "    .dataframe thead th {\n",
       "        text-align: right;\n",
       "    }\n",
       "</style>\n",
       "<table border=\"1\" class=\"dataframe\">\n",
       "  <thead>\n",
       "    <tr style=\"text-align: right;\">\n",
       "      <th></th>\n",
       "      <th>universe_id</th>\n",
       "      <th>universe_training_year</th>\n",
       "      <th>universe_training_size</th>\n",
       "      <th>universe_scale</th>\n",
       "      <th>universe_model</th>\n",
       "      <th>universe_exclude_features</th>\n",
       "      <th>universe_exclude_subgroups</th>\n",
       "      <th>q_hat</th>\n",
       "      <th>coverage</th>\n",
       "      <th>avg_size</th>\n",
       "    </tr>\n",
       "  </thead>\n",
       "  <tbody>\n",
       "    <tr>\n",
       "      <th>0</th>\n",
       "      <td>019134c23772ec7e55f6f573a7ade4e3</td>\n",
       "      <td>2012_14</td>\n",
       "      <td>1k</td>\n",
       "      <td>do-not-scale</td>\n",
       "      <td>penalized_logreg</td>\n",
       "      <td>none</td>\n",
       "      <td>drop-non-german</td>\n",
       "      <td>0.695599</td>\n",
       "      <td>0.911771</td>\n",
       "      <td>1.217501</td>\n",
       "    </tr>\n",
       "  </tbody>\n",
       "</table>\n",
       "</div>"
      ],
      "text/plain": [
       "                        universe_id universe_training_year  \\\n",
       "0  019134c23772ec7e55f6f573a7ade4e3                2012_14   \n",
       "\n",
       "  universe_training_size universe_scale    universe_model  \\\n",
       "0                     1k   do-not-scale  penalized_logreg   \n",
       "\n",
       "  universe_exclude_features universe_exclude_subgroups     q_hat  coverage  \\\n",
       "0                      none            drop-non-german  0.695599  0.911771   \n",
       "\n",
       "   avg_size  \n",
       "0  1.217501  "
      ]
     },
     "execution_count": 61,
     "metadata": {},
     "output_type": "execute_result"
    }
   ],
   "source": [
    "cp_metrics_df"
   ]
  },
  {
   "cell_type": "code",
   "execution_count": 62,
   "id": "b7fbde55-a0a1-47e4-9af6-fe4a17fa8c61",
   "metadata": {
    "execution": {
     "iopub.execute_input": "2025-07-30T21:39:17.639272Z",
     "iopub.status.busy": "2025-07-30T21:39:17.638475Z",
     "iopub.status.idle": "2025-07-30T21:39:17.643054Z",
     "shell.execute_reply": "2025-07-30T21:39:17.642265Z"
    },
    "papermill": {
     "duration": 0.02395,
     "end_time": "2025-07-30T21:39:17.644502",
     "exception": false,
     "start_time": "2025-07-30T21:39:17.620552",
     "status": "completed"
    },
    "tags": []
   },
   "outputs": [],
   "source": [
    "# Conditional Coverage & looking at subgroups"
   ]
  },
  {
   "cell_type": "code",
   "execution_count": 63,
   "id": "027ae886-68dd-4141-96c7-805a5450e1ef",
   "metadata": {
    "execution": {
     "iopub.execute_input": "2025-07-30T21:39:17.673548Z",
     "iopub.status.busy": "2025-07-30T21:39:17.672866Z",
     "iopub.status.idle": "2025-07-30T21:39:17.864293Z",
     "shell.execute_reply": "2025-07-30T21:39:17.863506Z"
    },
    "papermill": {
     "duration": 0.206602,
     "end_time": "2025-07-30T21:39:17.865772",
     "exception": false,
     "start_time": "2025-07-30T21:39:17.659170",
     "status": "completed"
    },
    "tags": []
   },
   "outputs": [],
   "source": [
    "from fairness_multiverse.conformal import build_cp_groups\n",
    "\n",
    "cp_groups_df = build_cp_groups(pred_sets, y_true, X_test.index, org_test)\n",
    "#needs universe_id and setting"
   ]
  },
  {
   "cell_type": "code",
   "execution_count": 64,
   "id": "01d5802c-663a-4d1f-9d69-e036faaffbf7",
   "metadata": {
    "execution": {
     "iopub.execute_input": "2025-07-30T21:39:17.893515Z",
     "iopub.status.busy": "2025-07-30T21:39:17.893157Z",
     "iopub.status.idle": "2025-07-30T21:39:17.897618Z",
     "shell.execute_reply": "2025-07-30T21:39:17.896890Z"
    },
    "papermill": {
     "duration": 0.019547,
     "end_time": "2025-07-30T21:39:17.898938",
     "exception": false,
     "start_time": "2025-07-30T21:39:17.879391",
     "status": "completed"
    },
    "tags": []
   },
   "outputs": [],
   "source": [
    "#delete\n",
    "#cp_groups_df"
   ]
  },
  {
   "cell_type": "code",
   "execution_count": 65,
   "id": "fa424af1-d1eb-443d-b717-2d279ada8408",
   "metadata": {
    "execution": {
     "iopub.execute_input": "2025-07-30T21:39:17.953017Z",
     "iopub.status.busy": "2025-07-30T21:39:17.952610Z",
     "iopub.status.idle": "2025-07-30T21:39:17.957100Z",
     "shell.execute_reply": "2025-07-30T21:39:17.956075Z"
    },
    "papermill": {
     "duration": 0.033178,
     "end_time": "2025-07-30T21:39:17.958612",
     "exception": false,
     "start_time": "2025-07-30T21:39:17.925434",
     "status": "completed"
    },
    "tags": []
   },
   "outputs": [],
   "source": [
    "#delete\n",
    "#percentage = (cp_groups_df['nongerman_female'] == 1).mean() * 100\n",
    "#print(percentage)\n"
   ]
  },
  {
   "cell_type": "code",
   "execution_count": 66,
   "id": "6cbdab96-b2b2-45af-ad54-d0516db2e28d",
   "metadata": {
    "execution": {
     "iopub.execute_input": "2025-07-30T21:39:18.007093Z",
     "iopub.status.busy": "2025-07-30T21:39:18.006667Z",
     "iopub.status.idle": "2025-07-30T21:39:19.563178Z",
     "shell.execute_reply": "2025-07-30T21:39:19.562416Z"
    },
    "papermill": {
     "duration": 1.58665,
     "end_time": "2025-07-30T21:39:19.564838",
     "exception": false,
     "start_time": "2025-07-30T21:39:17.978188",
     "status": "completed"
    },
    "tags": []
   },
   "outputs": [],
   "source": [
    "# Define covered = 1 if true_label is in the predicted set\n",
    "cp_groups_df['covered'] = cp_groups_df.apply(\n",
    "    lambda r: int(r['true_label'] in r['pred_set']),\n",
    "    axis=1\n",
    ")"
   ]
  },
  {
   "cell_type": "code",
   "execution_count": 67,
   "id": "338ff529-1a6b-4b87-a931-8e4788d52aad",
   "metadata": {
    "execution": {
     "iopub.execute_input": "2025-07-30T21:39:19.595006Z",
     "iopub.status.busy": "2025-07-30T21:39:19.594501Z",
     "iopub.status.idle": "2025-07-30T21:39:19.598971Z",
     "shell.execute_reply": "2025-07-30T21:39:19.598050Z"
    },
    "papermill": {
     "duration": 0.020585,
     "end_time": "2025-07-30T21:39:19.600333",
     "exception": false,
     "start_time": "2025-07-30T21:39:19.579748",
     "status": "completed"
    },
    "tags": []
   },
   "outputs": [],
   "source": [
    "#cp_groups_df"
   ]
  },
  {
   "cell_type": "code",
   "execution_count": 68,
   "id": "90032e27-66df-4540-9169-4e89cfbaa758",
   "metadata": {
    "execution": {
     "iopub.execute_input": "2025-07-30T21:39:19.630674Z",
     "iopub.status.busy": "2025-07-30T21:39:19.629888Z",
     "iopub.status.idle": "2025-07-30T21:39:19.639150Z",
     "shell.execute_reply": "2025-07-30T21:39:19.638380Z"
    },
    "papermill": {
     "duration": 0.025215,
     "end_time": "2025-07-30T21:39:19.640620",
     "exception": false,
     "start_time": "2025-07-30T21:39:19.615405",
     "status": "completed"
    },
    "tags": []
   },
   "outputs": [],
   "source": [
    "subgroups = ['frau1','nongerman','nongerman_male','nongerman_female']\n",
    "\n",
    "# Conditional coverage for subgroup==1\n",
    "cond_coverage = {\n",
    "    g: cp_groups_df.loc[cp_groups_df[g]==1, 'covered'].mean()\n",
    "    for g in subgroups\n",
    "}"
   ]
  },
  {
   "cell_type": "code",
   "execution_count": 69,
   "id": "1e348fb1-b9c3-45bc-ba23-f016827a7e0d",
   "metadata": {
    "execution": {
     "iopub.execute_input": "2025-07-30T21:39:19.668890Z",
     "iopub.status.busy": "2025-07-30T21:39:19.668388Z",
     "iopub.status.idle": "2025-07-30T21:39:19.674569Z",
     "shell.execute_reply": "2025-07-30T21:39:19.673811Z"
    },
    "papermill": {
     "duration": 0.021545,
     "end_time": "2025-07-30T21:39:19.675987",
     "exception": false,
     "start_time": "2025-07-30T21:39:19.654442",
     "status": "completed"
    },
    "tags": []
   },
   "outputs": [
    {
     "data": {
      "text/plain": [
       "{'frau1': 0.9099609111740127,\n",
       " 'nongerman': 0.9322966372873744,\n",
       " 'nongerman_male': 0.9454201567144015,\n",
       " 'nongerman_female': 0.910581222056632}"
      ]
     },
     "execution_count": 69,
     "metadata": {},
     "output_type": "execute_result"
    }
   ],
   "source": [
    "cond_coverage"
   ]
  },
  {
   "cell_type": "code",
   "execution_count": 70,
   "id": "f5093324-c3dd-4d63-bc4c-8d945e5c8bbb",
   "metadata": {
    "execution": {
     "iopub.execute_input": "2025-07-30T21:39:19.705179Z",
     "iopub.status.busy": "2025-07-30T21:39:19.704530Z",
     "iopub.status.idle": "2025-07-30T21:39:19.710688Z",
     "shell.execute_reply": "2025-07-30T21:39:19.709834Z"
    },
    "papermill": {
     "duration": 0.021826,
     "end_time": "2025-07-30T21:39:19.712107",
     "exception": false,
     "start_time": "2025-07-30T21:39:19.690281",
     "status": "completed"
    },
    "tags": []
   },
   "outputs": [],
   "source": [
    "for subgroup, cov in cond_coverage.items():\n",
    "    cp_metrics_df[f\"cov_{subgroup}\"] = cov"
   ]
  },
  {
   "cell_type": "code",
   "execution_count": 71,
   "id": "6e872e10-dbe5-49e8-b554-5030c98ff75d",
   "metadata": {
    "execution": {
     "iopub.execute_input": "2025-07-30T21:39:19.741666Z",
     "iopub.status.busy": "2025-07-30T21:39:19.741290Z",
     "iopub.status.idle": "2025-07-30T21:39:19.755758Z",
     "shell.execute_reply": "2025-07-30T21:39:19.755013Z"
    },
    "papermill": {
     "duration": 0.030812,
     "end_time": "2025-07-30T21:39:19.757184",
     "exception": false,
     "start_time": "2025-07-30T21:39:19.726372",
     "status": "completed"
    },
    "tags": []
   },
   "outputs": [
    {
     "data": {
      "text/html": [
       "<div>\n",
       "<style scoped>\n",
       "    .dataframe tbody tr th:only-of-type {\n",
       "        vertical-align: middle;\n",
       "    }\n",
       "\n",
       "    .dataframe tbody tr th {\n",
       "        vertical-align: top;\n",
       "    }\n",
       "\n",
       "    .dataframe thead th {\n",
       "        text-align: right;\n",
       "    }\n",
       "</style>\n",
       "<table border=\"1\" class=\"dataframe\">\n",
       "  <thead>\n",
       "    <tr style=\"text-align: right;\">\n",
       "      <th></th>\n",
       "      <th>universe_id</th>\n",
       "      <th>universe_training_year</th>\n",
       "      <th>universe_training_size</th>\n",
       "      <th>universe_scale</th>\n",
       "      <th>universe_model</th>\n",
       "      <th>universe_exclude_features</th>\n",
       "      <th>universe_exclude_subgroups</th>\n",
       "      <th>q_hat</th>\n",
       "      <th>coverage</th>\n",
       "      <th>avg_size</th>\n",
       "      <th>cov_frau1</th>\n",
       "      <th>cov_nongerman</th>\n",
       "      <th>cov_nongerman_male</th>\n",
       "      <th>cov_nongerman_female</th>\n",
       "    </tr>\n",
       "  </thead>\n",
       "  <tbody>\n",
       "    <tr>\n",
       "      <th>0</th>\n",
       "      <td>019134c23772ec7e55f6f573a7ade4e3</td>\n",
       "      <td>2012_14</td>\n",
       "      <td>1k</td>\n",
       "      <td>do-not-scale</td>\n",
       "      <td>penalized_logreg</td>\n",
       "      <td>none</td>\n",
       "      <td>drop-non-german</td>\n",
       "      <td>0.695599</td>\n",
       "      <td>0.911771</td>\n",
       "      <td>1.217501</td>\n",
       "      <td>0.909961</td>\n",
       "      <td>0.932297</td>\n",
       "      <td>0.94542</td>\n",
       "      <td>0.910581</td>\n",
       "    </tr>\n",
       "  </tbody>\n",
       "</table>\n",
       "</div>"
      ],
      "text/plain": [
       "                        universe_id universe_training_year  \\\n",
       "0  019134c23772ec7e55f6f573a7ade4e3                2012_14   \n",
       "\n",
       "  universe_training_size universe_scale    universe_model  \\\n",
       "0                     1k   do-not-scale  penalized_logreg   \n",
       "\n",
       "  universe_exclude_features universe_exclude_subgroups     q_hat  coverage  \\\n",
       "0                      none            drop-non-german  0.695599  0.911771   \n",
       "\n",
       "   avg_size  cov_frau1  cov_nongerman  cov_nongerman_male  \\\n",
       "0  1.217501   0.909961       0.932297             0.94542   \n",
       "\n",
       "   cov_nongerman_female  \n",
       "0              0.910581  "
      ]
     },
     "execution_count": 71,
     "metadata": {},
     "output_type": "execute_result"
    }
   ],
   "source": [
    "cp_metrics_df"
   ]
  },
  {
   "cell_type": "markdown",
   "id": "33774451",
   "metadata": {
    "papermill": {
     "duration": 0.014171,
     "end_time": "2025-07-30T21:39:19.786259",
     "exception": false,
     "start_time": "2025-07-30T21:39:19.772088",
     "status": "completed"
    },
    "tags": []
   },
   "source": [
    "# (Fairness) Metrics"
   ]
  },
  {
   "cell_type": "code",
   "execution_count": 72,
   "id": "debc5d62",
   "metadata": {
    "execution": {
     "iopub.execute_input": "2025-07-30T21:39:19.829938Z",
     "iopub.status.busy": "2025-07-30T21:39:19.829511Z",
     "iopub.status.idle": "2025-07-30T21:39:19.851682Z",
     "shell.execute_reply": "2025-07-30T21:39:19.850701Z"
    },
    "papermill": {
     "duration": 0.052422,
     "end_time": "2025-07-30T21:39:19.853682",
     "exception": false,
     "start_time": "2025-07-30T21:39:19.801260",
     "status": "completed"
    },
    "tags": []
   },
   "outputs": [],
   "source": [
    "# do I need to include maxdeutsch1.missing?\n",
    "\n",
    "import numpy as np\n",
    "\n",
    "colname_to_bin = \"maxdeutsch1\"\n",
    "majority_value = org_train[colname_to_bin].mode()[0]\n",
    "\n",
    "org_test[\"majmin\"] = np.where(org_test[colname_to_bin] == majority_value, \"majority\", \"minority\")"
   ]
  },
  {
   "cell_type": "code",
   "execution_count": 73,
   "id": "06a50de5",
   "metadata": {
    "execution": {
     "iopub.execute_input": "2025-07-30T21:39:19.913764Z",
     "iopub.status.busy": "2025-07-30T21:39:19.912878Z",
     "iopub.status.idle": "2025-07-30T21:39:22.796840Z",
     "shell.execute_reply": "2025-07-30T21:39:22.795864Z"
    },
    "papermill": {
     "duration": 2.914872,
     "end_time": "2025-07-30T21:39:22.798723",
     "exception": false,
     "start_time": "2025-07-30T21:39:19.883851",
     "status": "completed"
    },
    "tags": []
   },
   "outputs": [],
   "source": [
    "example_universe = universe.copy()\n",
    "example_universe[\"cutoff\"] = example_universe[\"cutoff\"][0]\n",
    "example_universe[\"eval_fairness_grouping\"] = example_universe[\"eval_fairness_grouping\"][0]\n",
    "fairness_dict, metric_frame = universe_analysis.compute_metrics(\n",
    "    example_universe,\n",
    "    y_pred_prob=probs_test,\n",
    "    y_test=y_true,\n",
    "    org_test=org_test,\n",
    ")"
   ]
  },
  {
   "cell_type": "markdown",
   "id": "f95d4e02",
   "metadata": {
    "papermill": {
     "duration": 0.027185,
     "end_time": "2025-07-30T21:39:22.854689",
     "exception": false,
     "start_time": "2025-07-30T21:39:22.827504",
     "status": "completed"
    },
    "tags": []
   },
   "source": [
    "# Overall"
   ]
  },
  {
   "cell_type": "markdown",
   "id": "bdee4871",
   "metadata": {
    "papermill": {
     "duration": 0.025882,
     "end_time": "2025-07-30T21:39:22.906187",
     "exception": false,
     "start_time": "2025-07-30T21:39:22.880305",
     "status": "completed"
    },
    "tags": []
   },
   "source": [
    "Fairness\n",
    "Main fairness target: Equalized Odds. Seems to be a better fit than equal opportunity, since we're not only interested in Y = 1. Seems to be a better fit than demographic parity, since we also care about accuracy, not just equal distribution of preds.\n",
    "\n",
    "Pick column for computation of fairness metrics\n",
    "\n",
    "Performance\n",
    "Overall performance measures, most interesting in relation to the measures split by group below"
   ]
  },
  {
   "cell_type": "code",
   "execution_count": 74,
   "id": "c4e067c6",
   "metadata": {
    "execution": {
     "iopub.execute_input": "2025-07-30T21:39:22.959438Z",
     "iopub.status.busy": "2025-07-30T21:39:22.958775Z",
     "iopub.status.idle": "2025-07-30T21:39:22.967112Z",
     "shell.execute_reply": "2025-07-30T21:39:22.966169Z"
    },
    "papermill": {
     "duration": 0.036151,
     "end_time": "2025-07-30T21:39:22.968750",
     "exception": false,
     "start_time": "2025-07-30T21:39:22.932599",
     "status": "completed"
    },
    "tags": []
   },
   "outputs": [
    {
     "data": {
      "text/plain": [
       "accuracy                   0.212853\n",
       "balanced accuracy          0.522867\n",
       "f1                         0.234501\n",
       "precision                  0.133963\n",
       "false positive rate        0.894133\n",
       "false negative rate        0.060132\n",
       "selection rate             0.900000\n",
       "count                  89710.000000\n",
       "dtype: float64"
      ]
     },
     "execution_count": 74,
     "metadata": {},
     "output_type": "execute_result"
    }
   ],
   "source": [
    "metric_frame.overall"
   ]
  },
  {
   "cell_type": "markdown",
   "id": "e968fe9d",
   "metadata": {
    "papermill": {
     "duration": 0.02519,
     "end_time": "2025-07-30T21:39:23.022113",
     "exception": false,
     "start_time": "2025-07-30T21:39:22.996923",
     "status": "completed"
    },
    "tags": []
   },
   "source": [
    "By Group"
   ]
  },
  {
   "cell_type": "code",
   "execution_count": 75,
   "id": "ec325bce",
   "metadata": {
    "execution": {
     "iopub.execute_input": "2025-07-30T21:39:23.078079Z",
     "iopub.status.busy": "2025-07-30T21:39:23.077587Z",
     "iopub.status.idle": "2025-07-30T21:39:23.093678Z",
     "shell.execute_reply": "2025-07-30T21:39:23.092602Z"
    },
    "papermill": {
     "duration": 0.046231,
     "end_time": "2025-07-30T21:39:23.095440",
     "exception": false,
     "start_time": "2025-07-30T21:39:23.049209",
     "status": "completed"
    },
    "tags": []
   },
   "outputs": [
    {
     "data": {
      "text/html": [
       "<div>\n",
       "<style scoped>\n",
       "    .dataframe tbody tr th:only-of-type {\n",
       "        vertical-align: middle;\n",
       "    }\n",
       "\n",
       "    .dataframe tbody tr th {\n",
       "        vertical-align: top;\n",
       "    }\n",
       "\n",
       "    .dataframe thead th {\n",
       "        text-align: right;\n",
       "    }\n",
       "</style>\n",
       "<table border=\"1\" class=\"dataframe\">\n",
       "  <thead>\n",
       "    <tr style=\"text-align: right;\">\n",
       "      <th></th>\n",
       "      <th>accuracy</th>\n",
       "      <th>balanced accuracy</th>\n",
       "      <th>f1</th>\n",
       "      <th>precision</th>\n",
       "      <th>false positive rate</th>\n",
       "      <th>false negative rate</th>\n",
       "      <th>selection rate</th>\n",
       "      <th>count</th>\n",
       "    </tr>\n",
       "    <tr>\n",
       "      <th>majmin</th>\n",
       "      <th></th>\n",
       "      <th></th>\n",
       "      <th></th>\n",
       "      <th></th>\n",
       "      <th></th>\n",
       "      <th></th>\n",
       "      <th></th>\n",
       "      <th></th>\n",
       "    </tr>\n",
       "  </thead>\n",
       "  <tbody>\n",
       "    <tr>\n",
       "      <th>majority</th>\n",
       "      <td>0.232991</td>\n",
       "      <td>0.527914</td>\n",
       "      <td>0.242432</td>\n",
       "      <td>0.139411</td>\n",
       "      <td>0.872947</td>\n",
       "      <td>0.071225</td>\n",
       "      <td>0.880324</td>\n",
       "      <td>69170.0</td>\n",
       "    </tr>\n",
       "    <tr>\n",
       "      <th>minority</th>\n",
       "      <td>0.145034</td>\n",
       "      <td>0.509283</td>\n",
       "      <td>0.209498</td>\n",
       "      <td>0.117247</td>\n",
       "      <td>0.964121</td>\n",
       "      <td>0.017314</td>\n",
       "      <td>0.966261</td>\n",
       "      <td>20540.0</td>\n",
       "    </tr>\n",
       "  </tbody>\n",
       "</table>\n",
       "</div>"
      ],
      "text/plain": [
       "          accuracy  balanced accuracy        f1  precision  \\\n",
       "majmin                                                       \n",
       "majority  0.232991           0.527914  0.242432   0.139411   \n",
       "minority  0.145034           0.509283  0.209498   0.117247   \n",
       "\n",
       "          false positive rate  false negative rate  selection rate    count  \n",
       "majmin                                                                       \n",
       "majority             0.872947             0.071225        0.880324  69170.0  \n",
       "minority             0.964121             0.017314        0.966261  20540.0  "
      ]
     },
     "execution_count": 75,
     "metadata": {},
     "output_type": "execute_result"
    }
   ],
   "source": [
    "metric_frame.by_group"
   ]
  },
  {
   "cell_type": "code",
   "execution_count": 76,
   "id": "a9ddbe63",
   "metadata": {
    "execution": {
     "iopub.execute_input": "2025-07-30T21:39:23.152408Z",
     "iopub.status.busy": "2025-07-30T21:39:23.151564Z",
     "iopub.status.idle": "2025-07-30T21:39:24.769649Z",
     "shell.execute_reply": "2025-07-30T21:39:24.768945Z"
    },
    "papermill": {
     "duration": 1.647272,
     "end_time": "2025-07-30T21:39:24.770893",
     "exception": false,
     "start_time": "2025-07-30T21:39:23.123621",
     "status": "completed"
    },
    "tags": []
   },
   "outputs": [
    {
     "data": {
      "text/plain": [
       "array([[<Axes: title={'center': 'accuracy'}, xlabel='majmin'>,\n",
       "        <Axes: title={'center': 'balanced accuracy'}, xlabel='majmin'>,\n",
       "        <Axes: title={'center': 'f1'}, xlabel='majmin'>],\n",
       "       [<Axes: title={'center': 'precision'}, xlabel='majmin'>,\n",
       "        <Axes: title={'center': 'false positive rate'}, xlabel='majmin'>,\n",
       "        <Axes: title={'center': 'false negative rate'}, xlabel='majmin'>],\n",
       "       [<Axes: title={'center': 'selection rate'}, xlabel='majmin'>,\n",
       "        <Axes: title={'center': 'count'}, xlabel='majmin'>,\n",
       "        <Axes: xlabel='majmin'>]], dtype=object)"
      ]
     },
     "execution_count": 76,
     "metadata": {},
     "output_type": "execute_result"
    },
    {
     "data": {
      "image/png": "[encoded data removed]",
      "text/plain": [
       "<Figure size 1200x800 with 9 Axes>"
      ]
     },
     "metadata": {},
     "output_type": "display_data"
    }
   ],
   "source": [
    "# In a graphic\n",
    "metric_frame.by_group.plot.bar(\n",
    "    subplots=True,\n",
    "    layout=[3, 3],\n",
    "    legend=False,\n",
    "    figsize=[12, 8],\n",
    "    title=\"Show all metrics\",\n",
    ")"
   ]
  },
  {
   "cell_type": "markdown",
   "id": "f57a0bac",
   "metadata": {
    "papermill": {
     "duration": 0.014751,
     "end_time": "2025-07-30T21:39:24.801443",
     "exception": false,
     "start_time": "2025-07-30T21:39:24.786692",
     "status": "completed"
    },
    "tags": []
   },
   "source": [
    "# Final Output"
   ]
  },
  {
   "cell_type": "code",
   "execution_count": 77,
   "id": "96d280a3",
   "metadata": {
    "execution": {
     "iopub.execute_input": "2025-07-30T21:39:24.832195Z",
     "iopub.status.busy": "2025-07-30T21:39:24.831630Z",
     "iopub.status.idle": "2025-07-30T21:39:24.839329Z",
     "shell.execute_reply": "2025-07-30T21:39:24.838579Z"
    },
    "papermill": {
     "duration": 0.024661,
     "end_time": "2025-07-30T21:39:24.840730",
     "exception": false,
     "start_time": "2025-07-30T21:39:24.816069",
     "status": "completed"
    },
    "tags": []
   },
   "outputs": [
    {
     "data": {
      "text/plain": [
       "4"
      ]
     },
     "execution_count": 77,
     "metadata": {},
     "output_type": "execute_result"
    }
   ],
   "source": [
    "sub_universes = universe_analysis.generate_sub_universes()\n",
    "len(sub_universes)"
   ]
  },
  {
   "cell_type": "code",
   "execution_count": 78,
   "id": "92adf7ba",
   "metadata": {
    "execution": {
     "iopub.execute_input": "2025-07-30T21:39:24.872960Z",
     "iopub.status.busy": "2025-07-30T21:39:24.872250Z",
     "iopub.status.idle": "2025-07-30T21:39:24.883444Z",
     "shell.execute_reply": "2025-07-30T21:39:24.882702Z"
    },
    "papermill": {
     "duration": 0.028013,
     "end_time": "2025-07-30T21:39:24.884812",
     "exception": false,
     "start_time": "2025-07-30T21:39:24.856799",
     "status": "completed"
    },
    "tags": []
   },
   "outputs": [],
   "source": [
    "def filter_sub_universe_data(sub_universe, org_test):\n",
    "    # Keep all rows — no filtering\n",
    "    keep_rows_mask = np.ones(org_test.shape[0], dtype=bool)\n",
    "\n",
    "    print(f\"[INFO] Keeping all rows: {keep_rows_mask.sum()} rows retained.\")\n",
    "    return keep_rows_mask"
   ]
  },
  {
   "cell_type": "code",
   "execution_count": 79,
   "id": "4a759155",
   "metadata": {
    "execution": {
     "iopub.execute_input": "2025-07-30T21:39:24.917044Z",
     "iopub.status.busy": "2025-07-30T21:39:24.916376Z",
     "iopub.status.idle": "2025-07-30T21:39:33.541227Z",
     "shell.execute_reply": "2025-07-30T21:39:33.540187Z"
    },
    "papermill": {
     "duration": 8.64238,
     "end_time": "2025-07-30T21:39:33.543117",
     "exception": false,
     "start_time": "2025-07-30T21:39:24.900737",
     "status": "completed"
    },
    "tags": []
   },
   "outputs": [
    {
     "name": "stdout",
     "output_type": "stream",
     "text": [
      "Stopping execution_time clock.\n",
      "[INFO] Keeping all rows: 89710 rows retained.\n"
     ]
    },
    {
     "name": "stdout",
     "output_type": "stream",
     "text": [
      "[INFO] Keeping all rows: 89710 rows retained.\n"
     ]
    },
    {
     "name": "stdout",
     "output_type": "stream",
     "text": [
      "[INFO] Keeping all rows: 89710 rows retained.\n"
     ]
    },
    {
     "name": "stdout",
     "output_type": "stream",
     "text": [
      "[INFO] Keeping all rows: 89710 rows retained.\n"
     ]
    },
    {
     "data": {
      "text/html": [
       "<div>\n",
       "<style scoped>\n",
       "    .dataframe tbody tr th:only-of-type {\n",
       "        vertical-align: middle;\n",
       "    }\n",
       "\n",
       "    .dataframe tbody tr th {\n",
       "        vertical-align: top;\n",
       "    }\n",
       "\n",
       "    .dataframe thead th {\n",
       "        text-align: right;\n",
       "    }\n",
       "</style>\n",
       "<table border=\"1\" class=\"dataframe\">\n",
       "  <thead>\n",
       "    <tr style=\"text-align: right;\">\n",
       "      <th></th>\n",
       "      <th>run_no</th>\n",
       "      <th>universe_id</th>\n",
       "      <th>universe_settings</th>\n",
       "      <th>execution_time</th>\n",
       "      <th>test_size_n</th>\n",
       "      <th>test_size_frac</th>\n",
       "      <th>fair_main_equalized_odds_difference</th>\n",
       "      <th>fair_main_equalized_odds_ratio</th>\n",
       "      <th>fair_main_demographic_parity_difference</th>\n",
       "      <th>fair_main_demographic_parity_ratio</th>\n",
       "      <th>...</th>\n",
       "      <th>perf_grp_precision_0</th>\n",
       "      <th>perf_grp_precision_1</th>\n",
       "      <th>perf_grp_false positive rate_0</th>\n",
       "      <th>perf_grp_false positive rate_1</th>\n",
       "      <th>perf_grp_false negative rate_0</th>\n",
       "      <th>perf_grp_false negative rate_1</th>\n",
       "      <th>perf_grp_selection rate_0</th>\n",
       "      <th>perf_grp_selection rate_1</th>\n",
       "      <th>perf_grp_count_0</th>\n",
       "      <th>perf_grp_count_1</th>\n",
       "    </tr>\n",
       "  </thead>\n",
       "  <tbody>\n",
       "    <tr>\n",
       "      <th>0</th>\n",
       "      <td>14</td>\n",
       "      <td>019134c23772ec7e55f6f573a7ade4e3</td>\n",
       "      <td>{\"cutoff\": \"quantile_0.1\", \"eval_fairness_grou...</td>\n",
       "      <td>25.8694</td>\n",
       "      <td>89710</td>\n",
       "      <td>1.0</td>\n",
       "      <td>0.091174</td>\n",
       "      <td>0.905433</td>\n",
       "      <td>0.085937</td>\n",
       "      <td>0.911062</td>\n",
       "      <td>...</td>\n",
       "      <td>NaN</td>\n",
       "      <td>NaN</td>\n",
       "      <td>NaN</td>\n",
       "      <td>NaN</td>\n",
       "      <td>NaN</td>\n",
       "      <td>NaN</td>\n",
       "      <td>NaN</td>\n",
       "      <td>NaN</td>\n",
       "      <td>NaN</td>\n",
       "      <td>NaN</td>\n",
       "    </tr>\n",
       "    <tr>\n",
       "      <th>0</th>\n",
       "      <td>14</td>\n",
       "      <td>019134c23772ec7e55f6f573a7ade4e3</td>\n",
       "      <td>{\"cutoff\": \"quantile_0.1\", \"eval_fairness_grou...</td>\n",
       "      <td>25.8694</td>\n",
       "      <td>89710</td>\n",
       "      <td>1.0</td>\n",
       "      <td>0.091174</td>\n",
       "      <td>0.905433</td>\n",
       "      <td>0.085937</td>\n",
       "      <td>0.911062</td>\n",
       "      <td>...</td>\n",
       "      <td>0.117247</td>\n",
       "      <td>0.139411</td>\n",
       "      <td>0.964121</td>\n",
       "      <td>0.872947</td>\n",
       "      <td>0.017314</td>\n",
       "      <td>0.071225</td>\n",
       "      <td>0.966261</td>\n",
       "      <td>0.880324</td>\n",
       "      <td>20540.0</td>\n",
       "      <td>69170.0</td>\n",
       "    </tr>\n",
       "    <tr>\n",
       "      <th>0</th>\n",
       "      <td>14</td>\n",
       "      <td>019134c23772ec7e55f6f573a7ade4e3</td>\n",
       "      <td>{\"cutoff\": \"quantile_0.25\", \"eval_fairness_gro...</td>\n",
       "      <td>25.8694</td>\n",
       "      <td>89710</td>\n",
       "      <td>1.0</td>\n",
       "      <td>0.213050</td>\n",
       "      <td>0.762598</td>\n",
       "      <td>0.198149</td>\n",
       "      <td>0.780511</td>\n",
       "      <td>...</td>\n",
       "      <td>NaN</td>\n",
       "      <td>NaN</td>\n",
       "      <td>NaN</td>\n",
       "      <td>NaN</td>\n",
       "      <td>NaN</td>\n",
       "      <td>NaN</td>\n",
       "      <td>NaN</td>\n",
       "      <td>NaN</td>\n",
       "      <td>NaN</td>\n",
       "      <td>NaN</td>\n",
       "    </tr>\n",
       "    <tr>\n",
       "      <th>0</th>\n",
       "      <td>14</td>\n",
       "      <td>019134c23772ec7e55f6f573a7ade4e3</td>\n",
       "      <td>{\"cutoff\": \"quantile_0.25\", \"eval_fairness_gro...</td>\n",
       "      <td>25.8694</td>\n",
       "      <td>89710</td>\n",
       "      <td>1.0</td>\n",
       "      <td>0.213050</td>\n",
       "      <td>0.762598</td>\n",
       "      <td>0.198149</td>\n",
       "      <td>0.780511</td>\n",
       "      <td>...</td>\n",
       "      <td>0.120531</td>\n",
       "      <td>0.157082</td>\n",
       "      <td>0.897425</td>\n",
       "      <td>0.684374</td>\n",
       "      <td>0.056166</td>\n",
       "      <td>0.162363</td>\n",
       "      <td>0.902775</td>\n",
       "      <td>0.704626</td>\n",
       "      <td>20540.0</td>\n",
       "      <td>69170.0</td>\n",
       "    </tr>\n",
       "  </tbody>\n",
       "</table>\n",
       "<p>4 rows × 50 columns</p>\n",
       "</div>"
      ],
      "text/plain": [
       "  run_no                       universe_id  \\\n",
       "0     14  019134c23772ec7e55f6f573a7ade4e3   \n",
       "0     14  019134c23772ec7e55f6f573a7ade4e3   \n",
       "0     14  019134c23772ec7e55f6f573a7ade4e3   \n",
       "0     14  019134c23772ec7e55f6f573a7ade4e3   \n",
       "\n",
       "                                   universe_settings  execution_time  \\\n",
       "0  {\"cutoff\": \"quantile_0.1\", \"eval_fairness_grou...         25.8694   \n",
       "0  {\"cutoff\": \"quantile_0.1\", \"eval_fairness_grou...         25.8694   \n",
       "0  {\"cutoff\": \"quantile_0.25\", \"eval_fairness_gro...         25.8694   \n",
       "0  {\"cutoff\": \"quantile_0.25\", \"eval_fairness_gro...         25.8694   \n",
       "\n",
       "   test_size_n  test_size_frac  fair_main_equalized_odds_difference  \\\n",
       "0        89710             1.0                             0.091174   \n",
       "0        89710             1.0                             0.091174   \n",
       "0        89710             1.0                             0.213050   \n",
       "0        89710             1.0                             0.213050   \n",
       "\n",
       "   fair_main_equalized_odds_ratio  fair_main_demographic_parity_difference  \\\n",
       "0                        0.905433                                 0.085937   \n",
       "0                        0.905433                                 0.085937   \n",
       "0                        0.762598                                 0.198149   \n",
       "0                        0.762598                                 0.198149   \n",
       "\n",
       "   fair_main_demographic_parity_ratio  ...  perf_grp_precision_0  \\\n",
       "0                            0.911062  ...                   NaN   \n",
       "0                            0.911062  ...              0.117247   \n",
       "0                            0.780511  ...                   NaN   \n",
       "0                            0.780511  ...              0.120531   \n",
       "\n",
       "   perf_grp_precision_1  perf_grp_false positive rate_0  \\\n",
       "0                   NaN                             NaN   \n",
       "0              0.139411                        0.964121   \n",
       "0                   NaN                             NaN   \n",
       "0              0.157082                        0.897425   \n",
       "\n",
       "   perf_grp_false positive rate_1  perf_grp_false negative rate_0  \\\n",
       "0                             NaN                             NaN   \n",
       "0                        0.872947                        0.017314   \n",
       "0                             NaN                             NaN   \n",
       "0                        0.684374                        0.056166   \n",
       "\n",
       "   perf_grp_false negative rate_1  perf_grp_selection rate_0  \\\n",
       "0                             NaN                        NaN   \n",
       "0                        0.071225                   0.966261   \n",
       "0                             NaN                        NaN   \n",
       "0                        0.162363                   0.902775   \n",
       "\n",
       "   perf_grp_selection rate_1  perf_grp_count_0  perf_grp_count_1  \n",
       "0                        NaN               NaN               NaN  \n",
       "0                   0.880324           20540.0           69170.0  \n",
       "0                        NaN               NaN               NaN  \n",
       "0                   0.704626           20540.0           69170.0  \n",
       "\n",
       "[4 rows x 50 columns]"
      ]
     },
     "execution_count": 79,
     "metadata": {},
     "output_type": "execute_result"
    }
   ],
   "source": [
    "final_output = universe_analysis.generate_final_output(\n",
    "    y_pred_prob=probs_test,\n",
    "    y_test=y_true,\n",
    "    org_test=org_test,\n",
    "    filter_data=filter_sub_universe_data,\n",
    "    cp_metrics_df=cp_metrics_df,\n",
    "    save=True,\n",
    ")\n",
    "final_output"
   ]
  },
  {
   "cell_type": "code",
   "execution_count": null,
   "id": "721ff514-cb11-46f8-b6fc-50392f74b5cb",
   "metadata": {
    "papermill": {
     "duration": 0.018348,
     "end_time": "2025-07-30T21:39:33.593374",
     "exception": false,
     "start_time": "2025-07-30T21:39:33.575026",
     "status": "completed"
    },
    "tags": []
   },
   "outputs": [],
   "source": []
  }
 ],
 "metadata": {
  "celltoolbar": "Tags",
  "kernelspec": {
   "display_name": "Python (CMA Fairness)",
   "language": "python",
   "name": "cma_fair_env"
  },
  "language_info": {
   "codemirror_mode": {
    "name": "ipython",
    "version": 3
   },
   "file_extension": ".py",
   "mimetype": "text/x-python",
   "name": "python",
   "nbconvert_exporter": "python",
   "pygments_lexer": "ipython3",
   "version": "3.10.12"
  },
  "papermill": {
   "default_parameters": {},
   "duration": 38.698953,
   "end_time": "2025-07-30T21:39:34.433760",
   "environment_variables": {},
   "exception": null,
   "input_path": "universe_analysis.ipynb",
   "output_path": "output/runs/14/notebooks/m_14-019134c23772ec7e55f6f573a7ade4e3.ipynb",
   "parameters": {
    "output_dir": "output",
    "run_no": "14",
    "seed": "2023",
    "universe": "{\"cutoff\": [\"quantile_0.1\", \"quantile_0.25\"], \"eval_fairness_grouping\": [\"majority-minority\", \"nationality-all\"], \"exclude_features\": \"none\", \"exclude_subgroups\": \"drop-non-german\", \"model\": \"penalized_logreg\", \"scale\": \"do-not-scale\", \"training_size\": \"1k\", \"training_year\": \"2012_14\"}",
    "universe_id": "019134c23772ec7e55f6f573a7ade4e3"
   },
   "start_time": "2025-07-30T21:38:55.734807",
   "version": "2.6.0"
  }
 },
 "nbformat": 4,
 "nbformat_minor": 5
}