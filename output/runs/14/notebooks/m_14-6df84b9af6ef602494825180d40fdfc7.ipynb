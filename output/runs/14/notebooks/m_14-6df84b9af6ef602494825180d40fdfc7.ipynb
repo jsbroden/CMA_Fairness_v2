{
 "cells": [
  {
   "cell_type": "code",
   "execution_count": 1,
   "id": "f159f837-637b-42ba-96b5-ec9a68c44524",
   "metadata": {
    "execution": {
     "iopub.execute_input": "2025-07-30T20:56:01.778582Z",
     "iopub.status.busy": "2025-07-30T20:56:01.777848Z",
     "iopub.status.idle": "2025-07-30T20:56:01.790208Z",
     "shell.execute_reply": "2025-07-30T20:56:01.789365Z"
    },
    "papermill": {
     "duration": 0.032797,
     "end_time": "2025-07-30T20:56:01.791585",
     "exception": false,
     "start_time": "2025-07-30T20:56:01.758788",
     "status": "completed"
    },
    "tags": []
   },
   "outputs": [
    {
     "name": "stdout",
     "output_type": "stream",
     "text": [
      "/dss/dsshome1/0C/ra93lal2/cma/CMA_Fairness_v2\n"
     ]
    },
    {
     "name": "stderr",
     "output_type": "stream",
     "text": [
      "/dss/dsshome1/0C/ra93lal2/.local/share/virtualenvs/CMA_Fairness_v2-3j10GkSs/lib/python3.10/site-packages/IPython/core/magics/osm.py:393: UserWarning: This is now an optional IPython functionality, using bookmarks requires you to install the `pickleshare` library.\n",
      "  bkms = self.shell.db.get('bookmarks', {})\n",
      "/dss/dsshome1/0C/ra93lal2/.local/share/virtualenvs/CMA_Fairness_v2-3j10GkSs/lib/python3.10/site-packages/IPython/core/magics/osm.py:417: UserWarning: This is now an optional IPython functionality, setting dhist requires you to install the `pickleshare` library.\n",
      "  self.shell.db['dhist'] = compress_dhist(dhist)[-100:]\n"
     ]
    }
   ],
   "source": [
    "%cd ~/cma/CMA_Fairness_v2"
   ]
  },
  {
   "cell_type": "markdown",
   "id": "de2603b9",
   "metadata": {
    "papermill": {
     "duration": 0.017401,
     "end_time": "2025-07-30T20:56:01.827456",
     "exception": false,
     "start_time": "2025-07-30T20:56:01.810055",
     "status": "completed"
    },
    "tags": []
   },
   "source": [
    "The following cell holds the definition of our parameters, these values can be overriden by rendering the with e.g. the following command:\n",
    "\n",
    "papermill -p alpha 0.2 -p ratio 0.3 universe_analysis.ipynb output/test_run.ipynb"
   ]
  },
  {
   "cell_type": "code",
   "execution_count": 2,
   "id": "a80968a0-40bb-4fa9-85ef-2d5eefb01975",
   "metadata": {
    "execution": {
     "iopub.execute_input": "2025-07-30T20:56:01.864010Z",
     "iopub.status.busy": "2025-07-30T20:56:01.863342Z",
     "iopub.status.idle": "2025-07-30T20:56:01.868160Z",
     "shell.execute_reply": "2025-07-30T20:56:01.867301Z"
    },
    "papermill": {
     "duration": 0.024508,
     "end_time": "2025-07-30T20:56:01.869663",
     "exception": false,
     "start_time": "2025-07-30T20:56:01.845155",
     "status": "completed"
    },
    "tags": []
   },
   "outputs": [
    {
     "name": "stdout",
     "output_type": "stream",
     "text": [
      "Current working directory: /dss/dsshome1/0C/ra93lal2/cma/CMA_Fairness_v2\n"
     ]
    }
   ],
   "source": [
    "import os\n",
    "print(\"Current working directory:\", os.getcwd())"
   ]
  },
  {
   "cell_type": "code",
   "execution_count": 3,
   "id": "2dce4c03",
   "metadata": {
    "execution": {
     "iopub.execute_input": "2025-07-30T20:56:01.907411Z",
     "iopub.status.busy": "2025-07-30T20:56:01.906716Z",
     "iopub.status.idle": "2025-07-30T20:56:01.912528Z",
     "shell.execute_reply": "2025-07-30T20:56:01.911709Z"
    },
    "papermill": {
     "duration": 0.02577,
     "end_time": "2025-07-30T20:56:01.913984",
     "exception": false,
     "start_time": "2025-07-30T20:56:01.888214",
     "status": "completed"
    },
    "tags": [
     "parameters"
    ]
   },
   "outputs": [],
   "source": [
    "run_no = 0\n",
    "universe_id = \"test\"\n",
    "universe = {\n",
    "    \"training_size\": \"25k\", # \"25k\", \"5k\", \"1k\"\n",
    "    \"training_year\": \"2014\", # \"2014\", \"2012_14\", \"2010_14\"\n",
    "    \"scale\": \"scale\", # \"scale\", \"do-not-scale\",\n",
    "    #\"stratify_split\": \"target\", # \"none\", \"target\", \"protected-attribute\", \"both\",\n",
    "    \"model\": \"elasticnet\", # \"logreg\", \"penalized_logreg\", \"rf\", \"gbm\", \"elasticnet\"\n",
    "    \"cutoff\": [\"quantile_0.15\", \"quantile_0.30\"],\n",
    "    \"exclude_features\": \"age\", # \"none\", \"nationality\", \"sex\", \"nationality-sex\", \"age\"\n",
    "    \"exclude_subgroups\": \"keep-all\", # \"keep-all\", \"drop-non-german\"\n",
    "    \"eval_fairness_grouping\": [\"majority-minority\", \"nationality-all\"]\n",
    "}\n",
    "\n",
    "output_dir=\"./output\"\n",
    "seed=0"
   ]
  },
  {
   "cell_type": "code",
   "execution_count": 4,
   "id": "8349a0e0",
   "metadata": {
    "execution": {
     "iopub.execute_input": "2025-07-30T20:56:01.951897Z",
     "iopub.status.busy": "2025-07-30T20:56:01.951228Z",
     "iopub.status.idle": "2025-07-30T20:56:01.956189Z",
     "shell.execute_reply": "2025-07-30T20:56:01.955387Z"
    },
    "papermill": {
     "duration": 0.025451,
     "end_time": "2025-07-30T20:56:01.957892",
     "exception": false,
     "start_time": "2025-07-30T20:56:01.932441",
     "status": "completed"
    },
    "tags": [
     "injected-parameters"
    ]
   },
   "outputs": [],
   "source": [
    "# Parameters\n",
    "universe_id = \"6df84b9af6ef602494825180d40fdfc7\"\n",
    "run_no = \"14\"\n",
    "universe = \"{\\\"cutoff\\\": [\\\"quantile_0.1\\\", \\\"quantile_0.25\\\"], \\\"eval_fairness_grouping\\\": [\\\"majority-minority\\\", \\\"nationality-all\\\"], \\\"exclude_features\\\": \\\"nationality-sex\\\", \\\"exclude_subgroups\\\": \\\"drop-non-german\\\", \\\"model\\\": \\\"elasticnet\\\", \\\"scale\\\": \\\"do-not-scale\\\", \\\"training_size\\\": \\\"5k\\\", \\\"training_year\\\": \\\"2014\\\"}\"\n",
    "output_dir = \"output\"\n",
    "seed = \"2023\"\n"
   ]
  },
  {
   "cell_type": "code",
   "execution_count": 5,
   "id": "1650acaf",
   "metadata": {
    "execution": {
     "iopub.execute_input": "2025-07-30T20:56:01.995847Z",
     "iopub.status.busy": "2025-07-30T20:56:01.995161Z",
     "iopub.status.idle": "2025-07-30T20:56:01.999816Z",
     "shell.execute_reply": "2025-07-30T20:56:01.999027Z"
    },
    "papermill": {
     "duration": 0.025039,
     "end_time": "2025-07-30T20:56:02.001392",
     "exception": false,
     "start_time": "2025-07-30T20:56:01.976353",
     "status": "completed"
    },
    "tags": []
   },
   "outputs": [],
   "source": [
    "import json\n",
    "# Parse universe into dict if it is passed as a string\n",
    "if isinstance(universe, str):\n",
    "    universe = json.loads(universe)"
   ]
  },
  {
   "cell_type": "code",
   "execution_count": 6,
   "id": "16620c48",
   "metadata": {
    "execution": {
     "iopub.execute_input": "2025-07-30T20:56:02.039252Z",
     "iopub.status.busy": "2025-07-30T20:56:02.038759Z",
     "iopub.status.idle": "2025-07-30T20:56:02.079934Z",
     "shell.execute_reply": "2025-07-30T20:56:02.079186Z"
    },
    "papermill": {
     "duration": 0.061566,
     "end_time": "2025-07-30T20:56:02.081413",
     "exception": false,
     "start_time": "2025-07-30T20:56:02.019847",
     "status": "completed"
    },
    "tags": []
   },
   "outputs": [],
   "source": [
    "# Auto-reload the custom package\n",
    "%load_ext autoreload\n",
    "%autoreload 1\n",
    "%aimport fairness_multiverse"
   ]
  },
  {
   "cell_type": "code",
   "execution_count": 7,
   "id": "01c5c9f3",
   "metadata": {
    "execution": {
     "iopub.execute_input": "2025-07-30T20:56:02.119592Z",
     "iopub.status.busy": "2025-07-30T20:56:02.118918Z",
     "iopub.status.idle": "2025-07-30T20:56:03.946339Z",
     "shell.execute_reply": "2025-07-30T20:56:03.945478Z"
    },
    "papermill": {
     "duration": 1.847989,
     "end_time": "2025-07-30T20:56:03.948146",
     "exception": false,
     "start_time": "2025-07-30T20:56:02.100157",
     "status": "completed"
    },
    "tags": []
   },
   "outputs": [],
   "source": [
    "from fairness_multiverse.universe import UniverseAnalysis\n",
    "\n",
    "universe_analysis = UniverseAnalysis(\n",
    "    run_no = run_no,\n",
    "    universe_id = universe_id,\n",
    "    universe = universe,\n",
    "    output_dir=output_dir,\n",
    ")"
   ]
  },
  {
   "cell_type": "code",
   "execution_count": 8,
   "id": "106241f5",
   "metadata": {
    "execution": {
     "iopub.execute_input": "2025-07-30T20:56:03.986916Z",
     "iopub.status.busy": "2025-07-30T20:56:03.986125Z",
     "iopub.status.idle": "2025-07-30T20:56:03.992021Z",
     "shell.execute_reply": "2025-07-30T20:56:03.991177Z"
    },
    "papermill": {
     "duration": 0.026466,
     "end_time": "2025-07-30T20:56:03.993691",
     "exception": false,
     "start_time": "2025-07-30T20:56:03.967225",
     "status": "completed"
    },
    "tags": []
   },
   "outputs": [
    {
     "name": "stdout",
     "output_type": "stream",
     "text": [
      "Using Seed: 2023\n"
     ]
    }
   ],
   "source": [
    "import numpy as np\n",
    "parsed_seed = int(seed)\n",
    "np.random.seed(parsed_seed)\n",
    "print(f\"Using Seed: {parsed_seed}\")"
   ]
  },
  {
   "cell_type": "markdown",
   "id": "e0ebdc57",
   "metadata": {
    "papermill": {
     "duration": 0.018533,
     "end_time": "2025-07-30T20:56:04.032375",
     "exception": false,
     "start_time": "2025-07-30T20:56:04.013842",
     "status": "completed"
    },
    "tags": []
   },
   "source": [
    "# Loading Data"
   ]
  },
  {
   "cell_type": "markdown",
   "id": "681925a3",
   "metadata": {
    "papermill": {
     "duration": 0.018452,
     "end_time": "2025-07-30T20:56:04.069103",
     "exception": false,
     "start_time": "2025-07-30T20:56:04.050651",
     "status": "completed"
    },
    "tags": []
   },
   "source": [
    "Load siab_train, siab_test, siab_calib and/or \n",
    "load siab_train_features, siab_train_labels"
   ]
  },
  {
   "cell_type": "code",
   "execution_count": 9,
   "id": "f0496b8a",
   "metadata": {
    "execution": {
     "iopub.execute_input": "2025-07-30T20:56:04.107579Z",
     "iopub.status.busy": "2025-07-30T20:56:04.106743Z",
     "iopub.status.idle": "2025-07-30T20:56:14.986218Z",
     "shell.execute_reply": "2025-07-30T20:56:14.985184Z"
    },
    "papermill": {
     "duration": 10.900317,
     "end_time": "2025-07-30T20:56:14.987734",
     "exception": false,
     "start_time": "2025-07-30T20:56:04.087417",
     "status": "completed"
    },
    "tags": []
   },
   "outputs": [
    {
     "name": "stdout",
     "output_type": "stream",
     "text": [
      "Loading SIAB data from cache: data/siab_cached.csv.gz\n"
     ]
    },
    {
     "name": "stdout",
     "output_type": "stream",
     "text": [
      "(643690, 164)\n"
     ]
    }
   ],
   "source": [
    "from pathlib import Path\n",
    "import pandas as pd\n",
    "\n",
    "# File paths\n",
    "raw_file = Path(\"data/raw/siab.csv\")\n",
    "cache_file = Path(\"data/siab_cached.csv.gz\")\n",
    "\n",
    "# Ensure cache directory exists\n",
    "cache_file.parent.mkdir(parents=True, exist_ok=True)\n",
    "\n",
    "# Load with simple caching\n",
    "if cache_file.exists():\n",
    "    print(f\"Loading SIAB data from cache: {cache_file}\")\n",
    "    siab = pd.read_csv(cache_file, compression='gzip')\n",
    "else:\n",
    "    print(f\"Cache not found. Reading raw SIAB data: {raw_file}\")\n",
    "    siab = pd.read_csv(raw_file)\n",
    "    siab.to_csv(cache_file, index=False, compression='gzip')\n",
    "    print(f\"Cached SIAB data to: {cache_file}\")\n",
    "\n",
    "# Now use `siab` DataFrame as needed\n",
    "print(siab.shape)"
   ]
  },
  {
   "cell_type": "code",
   "execution_count": 10,
   "id": "db0ca512-5f53-4dba-abdb-a2888bca41ba",
   "metadata": {
    "execution": {
     "iopub.execute_input": "2025-07-30T20:56:15.031666Z",
     "iopub.status.busy": "2025-07-30T20:56:15.031170Z",
     "iopub.status.idle": "2025-07-30T20:56:15.036963Z",
     "shell.execute_reply": "2025-07-30T20:56:15.035930Z"
    },
    "papermill": {
     "duration": 0.028787,
     "end_time": "2025-07-30T20:56:15.038584",
     "exception": false,
     "start_time": "2025-07-30T20:56:15.009797",
     "status": "completed"
    },
    "tags": []
   },
   "outputs": [],
   "source": [
    "#siab"
   ]
  },
  {
   "cell_type": "code",
   "execution_count": 11,
   "id": "a0edb063",
   "metadata": {
    "execution": {
     "iopub.execute_input": "2025-07-30T20:56:15.078850Z",
     "iopub.status.busy": "2025-07-30T20:56:15.078109Z",
     "iopub.status.idle": "2025-07-30T20:56:15.082874Z",
     "shell.execute_reply": "2025-07-30T20:56:15.082089Z"
    },
    "papermill": {
     "duration": 0.025779,
     "end_time": "2025-07-30T20:56:15.084374",
     "exception": false,
     "start_time": "2025-07-30T20:56:15.058595",
     "status": "completed"
    },
    "tags": []
   },
   "outputs": [],
   "source": [
    "#import pandas as pd\n",
    "#\n",
    "#X_train = pd.read_csv(\"./data/X_train.csv\")\n",
    "#y_train = pd.read_csv(\"./data/y_train.csv\")"
   ]
  },
  {
   "cell_type": "code",
   "execution_count": 12,
   "id": "63d08085",
   "metadata": {
    "execution": {
     "iopub.execute_input": "2025-07-30T20:56:15.123427Z",
     "iopub.status.busy": "2025-07-30T20:56:15.122742Z",
     "iopub.status.idle": "2025-07-30T20:56:15.127338Z",
     "shell.execute_reply": "2025-07-30T20:56:15.126586Z"
    },
    "papermill": {
     "duration": 0.025178,
     "end_time": "2025-07-30T20:56:15.128746",
     "exception": false,
     "start_time": "2025-07-30T20:56:15.103568",
     "status": "completed"
    },
    "tags": []
   },
   "outputs": [],
   "source": [
    "#X_test = pd.read_csv(\"./data/X_test.csv\")\n",
    "#y_true = pd.read_csv(\"./data/y_test.csv\")"
   ]
  },
  {
   "cell_type": "code",
   "execution_count": 13,
   "id": "98a8d0fa-1d3d-4ed8-bb2c-281470e24add",
   "metadata": {
    "execution": {
     "iopub.execute_input": "2025-07-30T20:56:15.168796Z",
     "iopub.status.busy": "2025-07-30T20:56:15.168187Z",
     "iopub.status.idle": "2025-07-30T20:56:15.173048Z",
     "shell.execute_reply": "2025-07-30T20:56:15.172196Z"
    },
    "papermill": {
     "duration": 0.02591,
     "end_time": "2025-07-30T20:56:15.174547",
     "exception": false,
     "start_time": "2025-07-30T20:56:15.148637",
     "status": "completed"
    },
    "tags": []
   },
   "outputs": [],
   "source": [
    "# Calibration data for conformal\n",
    "#X_calib = pd.read_csv(\"./data/X_calib.csv\")\n",
    "#y_calib = pd.read_csv(\"./data/y_calib.csv\")"
   ]
  },
  {
   "cell_type": "markdown",
   "id": "997051c5-15bd-4b69-9786-c3001a3ce484",
   "metadata": {
    "papermill": {
     "duration": 0.018591,
     "end_time": "2025-07-30T20:56:15.212573",
     "exception": false,
     "start_time": "2025-07-30T20:56:15.193982",
     "status": "completed"
    },
    "tags": []
   },
   "source": [
    "# Splitting Data and Setting Training Data Size"
   ]
  },
  {
   "cell_type": "code",
   "execution_count": 14,
   "id": "e993b61f-042d-41a6-8c81-f55681f86335",
   "metadata": {
    "execution": {
     "iopub.execute_input": "2025-07-30T20:56:15.251179Z",
     "iopub.status.busy": "2025-07-30T20:56:15.250593Z",
     "iopub.status.idle": "2025-07-30T20:56:15.263329Z",
     "shell.execute_reply": "2025-07-30T20:56:15.262369Z"
    },
    "papermill": {
     "duration": 0.033788,
     "end_time": "2025-07-30T20:56:15.264844",
     "exception": false,
     "start_time": "2025-07-30T20:56:15.231056",
     "status": "completed"
    },
    "tags": []
   },
   "outputs": [],
   "source": [
    "def sample_by_year_size(df,\n",
    "                        training_year: str,\n",
    "                        training_size: str,\n",
    "                        random_state: int = 42):\n",
    "    # --- parse training_year into a list of int years ---\n",
    "    if \"_\" in training_year:\n",
    "        start_str, end_str = training_year.split(\"_\", 1)\n",
    "        start = int(start_str)\n",
    "        end   = int(end_str) if len(end_str) == 4 else (int(end_str) + (start // 100)*100)\n",
    "        years = list(range(start, end + 1))\n",
    "    else:\n",
    "        years = [int(training_year)]\n",
    "\n",
    "    df = df[df[\"year\"].isin(years)].reset_index(drop=True)\n",
    "\n",
    "    # --- map training_size to total number of samples ---\n",
    "    total_map = {\"25k\": 25_000, \"5k\": 5_000, \"1k\": 1_000}\n",
    "    if training_size not in total_map:\n",
    "        return df  # e.g. \"all\"\n",
    "\n",
    "    total_samples = total_map[training_size]\n",
    "    n_years       = len(years)\n",
    "    base          = total_samples // n_years\n",
    "    remainder     = total_samples % n_years\n",
    "\n",
    "    # --- build a dict: year -> how many to sample ---\n",
    "    # give +1 to the first `remainder` years in ascending order\n",
    "    quotas = {\n",
    "        year: base + (1 if idx < remainder else 0)\n",
    "        for idx, year in enumerate(sorted(years))\n",
    "    }\n",
    "\n",
    "    # --- sample per‐year according to the quota dict ---\n",
    "    sampled = (\n",
    "        df\n",
    "        .groupby(\"year\", group_keys=False)\n",
    "        .apply(lambda grp: grp.sample(\n",
    "            n=min(len(grp), quotas[grp.name]),\n",
    "            random_state=random_state))\n",
    "        .reset_index(drop=True)\n",
    "    )\n",
    "\n",
    "    return sampled"
   ]
  },
  {
   "cell_type": "code",
   "execution_count": 15,
   "id": "c0ccd338-0e02-41f3-a09d-f56f9266e3fb",
   "metadata": {
    "execution": {
     "iopub.execute_input": "2025-07-30T20:56:15.305005Z",
     "iopub.status.busy": "2025-07-30T20:56:15.304187Z",
     "iopub.status.idle": "2025-07-30T20:56:15.308645Z",
     "shell.execute_reply": "2025-07-30T20:56:15.307838Z"
    },
    "papermill": {
     "duration": 0.025578,
     "end_time": "2025-07-30T20:56:15.310082",
     "exception": false,
     "start_time": "2025-07-30T20:56:15.284504",
     "status": "completed"
    },
    "tags": []
   },
   "outputs": [],
   "source": [
    "#universe[\"training_size\"]"
   ]
  },
  {
   "cell_type": "code",
   "execution_count": 16,
   "id": "ca707fd7-8047-4acd-bfa5-66248fbbf8e6",
   "metadata": {
    "execution": {
     "iopub.execute_input": "2025-07-30T20:56:15.349554Z",
     "iopub.status.busy": "2025-07-30T20:56:15.348818Z",
     "iopub.status.idle": "2025-07-30T20:56:15.353599Z",
     "shell.execute_reply": "2025-07-30T20:56:15.352680Z"
    },
    "papermill": {
     "duration": 0.025777,
     "end_time": "2025-07-30T20:56:15.355152",
     "exception": false,
     "start_time": "2025-07-30T20:56:15.329375",
     "status": "completed"
    },
    "tags": []
   },
   "outputs": [],
   "source": [
    "#universe[\"training_year\"]"
   ]
  },
  {
   "cell_type": "code",
   "execution_count": 17,
   "id": "aea9c6ef-6f46-42c8-85eb-5a62025c1508",
   "metadata": {
    "execution": {
     "iopub.execute_input": "2025-07-30T20:56:15.394872Z",
     "iopub.status.busy": "2025-07-30T20:56:15.394287Z",
     "iopub.status.idle": "2025-07-30T20:56:15.574121Z",
     "shell.execute_reply": "2025-07-30T20:56:15.573273Z"
    },
    "papermill": {
     "duration": 0.201456,
     "end_time": "2025-07-30T20:56:15.575881",
     "exception": false,
     "start_time": "2025-07-30T20:56:15.374425",
     "status": "completed"
    },
    "tags": []
   },
   "outputs": [],
   "source": [
    "siab_train = sample_by_year_size(siab,\n",
    "                               training_year=universe[\"training_year\"],\n",
    "                               training_size=universe[\"training_size\"])"
   ]
  },
  {
   "cell_type": "code",
   "execution_count": 18,
   "id": "8d3afb32-789d-442c-8d5d-9f5aa8dd2eed",
   "metadata": {
    "execution": {
     "iopub.execute_input": "2025-07-30T20:56:15.616210Z",
     "iopub.status.busy": "2025-07-30T20:56:15.615646Z",
     "iopub.status.idle": "2025-07-30T20:56:15.620383Z",
     "shell.execute_reply": "2025-07-30T20:56:15.619459Z"
    },
    "papermill": {
     "duration": 0.02599,
     "end_time": "2025-07-30T20:56:15.621930",
     "exception": false,
     "start_time": "2025-07-30T20:56:15.595940",
     "status": "completed"
    },
    "tags": []
   },
   "outputs": [],
   "source": [
    "#siab_train.shape"
   ]
  },
  {
   "cell_type": "code",
   "execution_count": 19,
   "id": "d582db68-1a4c-47fb-84fc-08518dc1975a",
   "metadata": {
    "execution": {
     "iopub.execute_input": "2025-07-30T20:56:15.661677Z",
     "iopub.status.busy": "2025-07-30T20:56:15.661286Z",
     "iopub.status.idle": "2025-07-30T20:56:15.665667Z",
     "shell.execute_reply": "2025-07-30T20:56:15.664876Z"
    },
    "papermill": {
     "duration": 0.025773,
     "end_time": "2025-07-30T20:56:15.667171",
     "exception": false,
     "start_time": "2025-07-30T20:56:15.641398",
     "status": "completed"
    },
    "tags": []
   },
   "outputs": [],
   "source": [
    "#display(siab_train.groupby(\"year\").size())"
   ]
  },
  {
   "cell_type": "code",
   "execution_count": 20,
   "id": "a561edb4-d032-42cb-8256-22eac1111c64",
   "metadata": {
    "execution": {
     "iopub.execute_input": "2025-07-30T20:56:15.706919Z",
     "iopub.status.busy": "2025-07-30T20:56:15.706199Z",
     "iopub.status.idle": "2025-07-30T20:56:15.902066Z",
     "shell.execute_reply": "2025-07-30T20:56:15.901210Z"
    },
    "papermill": {
     "duration": 0.217436,
     "end_time": "2025-07-30T20:56:15.903906",
     "exception": false,
     "start_time": "2025-07-30T20:56:15.686470",
     "status": "completed"
    },
    "tags": []
   },
   "outputs": [],
   "source": [
    "#siab_train = siab_s[siab_s.year < 2015]\n",
    "siab_calib = siab[siab.year == 2015]\n",
    "siab_test = siab[siab.year == 2016]"
   ]
  },
  {
   "cell_type": "code",
   "execution_count": 21,
   "id": "472de16f-c3db-4916-846b-1f0de9cf1746",
   "metadata": {
    "execution": {
     "iopub.execute_input": "2025-07-30T20:56:15.944513Z",
     "iopub.status.busy": "2025-07-30T20:56:15.943943Z",
     "iopub.status.idle": "2025-07-30T20:56:15.951688Z",
     "shell.execute_reply": "2025-07-30T20:56:15.950915Z"
    },
    "papermill": {
     "duration": 0.029134,
     "end_time": "2025-07-30T20:56:15.953276",
     "exception": false,
     "start_time": "2025-07-30T20:56:15.924142",
     "status": "completed"
    },
    "tags": []
   },
   "outputs": [],
   "source": [
    "X_train = siab_train.iloc[:,4:164]\n",
    "y_train = siab_train.iloc[:, [3]]"
   ]
  },
  {
   "cell_type": "code",
   "execution_count": 22,
   "id": "828c96af-f43a-4ed6-ba47-8ac73a47d56c",
   "metadata": {
    "execution": {
     "iopub.execute_input": "2025-07-30T20:56:15.993808Z",
     "iopub.status.busy": "2025-07-30T20:56:15.993071Z",
     "iopub.status.idle": "2025-07-30T20:56:16.040645Z",
     "shell.execute_reply": "2025-07-30T20:56:16.039723Z"
    },
    "papermill": {
     "duration": 0.069351,
     "end_time": "2025-07-30T20:56:16.042667",
     "exception": false,
     "start_time": "2025-07-30T20:56:15.973316",
     "status": "completed"
    },
    "tags": []
   },
   "outputs": [],
   "source": [
    "X_calib = siab_calib.iloc[:,4:164]\n",
    "y_calib = siab_calib.iloc[:, [3]]"
   ]
  },
  {
   "cell_type": "code",
   "execution_count": 23,
   "id": "c34be9c3-6bd6-476e-acd3-845840e303be",
   "metadata": {
    "execution": {
     "iopub.execute_input": "2025-07-30T20:56:16.084221Z",
     "iopub.status.busy": "2025-07-30T20:56:16.083446Z",
     "iopub.status.idle": "2025-07-30T20:56:16.132221Z",
     "shell.execute_reply": "2025-07-30T20:56:16.131346Z"
    },
    "papermill": {
     "duration": 0.070562,
     "end_time": "2025-07-30T20:56:16.134083",
     "exception": false,
     "start_time": "2025-07-30T20:56:16.063521",
     "status": "completed"
    },
    "tags": []
   },
   "outputs": [],
   "source": [
    "X_test = siab_test.iloc[:,4:164]\n",
    "y_true = siab_test.iloc[:, [3]]"
   ]
  },
  {
   "cell_type": "markdown",
   "id": "9901737e-04df-44f0-9100-f5ad144ed040",
   "metadata": {
    "papermill": {
     "duration": 0.019279,
     "end_time": "2025-07-30T20:56:16.173798",
     "exception": false,
     "start_time": "2025-07-30T20:56:16.154519",
     "status": "completed"
    },
    "tags": []
   },
   "source": [
    "# Splitting Data and Setting Training Data Size OLD VERSION"
   ]
  },
  {
   "cell_type": "code",
   "execution_count": 24,
   "id": "acbc8f7d-8fc8-4e86-8c59-5dcb0f58384b",
   "metadata": {
    "execution": {
     "iopub.execute_input": "2025-07-30T20:56:16.214039Z",
     "iopub.status.busy": "2025-07-30T20:56:16.213288Z",
     "iopub.status.idle": "2025-07-30T20:56:16.218358Z",
     "shell.execute_reply": "2025-07-30T20:56:16.217588Z"
    },
    "papermill": {
     "duration": 0.026946,
     "end_time": "2025-07-30T20:56:16.219906",
     "exception": false,
     "start_time": "2025-07-30T20:56:16.192960",
     "status": "completed"
    },
    "tags": []
   },
   "outputs": [],
   "source": [
    "#def sample_by_year(df, training_size, random_state=42):\n",
    "#    if training_size == \"2014\":\n",
    "#        return df[df[\"year\"] == 2014].reset_index(drop=True)\n",
    "#    \n",
    "#    size_map = {\n",
    "#        \"25k\": 5000,\n",
    "#        \"5k\": 1000,\n",
    "#        \"1k\": 200\n",
    "#    }\n",
    "#\n",
    "#    if training_size not in size_map:\n",
    "#        return df.reset_index(drop=True)  # use all data\n",
    "#\n",
    "#    n_per_year = size_map[training_size]\n",
    "#    grouped = df.groupby(\"year\")\n",
    "#    sampled = grouped.apply(lambda x: x.sample(n=min(n_per_year, len(x)), random_state=random_state))\n",
    "#    return sampled.reset_index(drop=True)"
   ]
  },
  {
   "cell_type": "code",
   "execution_count": 25,
   "id": "6d931f52-beaf-43ff-9e78-9d44a448d54e",
   "metadata": {
    "execution": {
     "iopub.execute_input": "2025-07-30T20:56:16.260321Z",
     "iopub.status.busy": "2025-07-30T20:56:16.259713Z",
     "iopub.status.idle": "2025-07-30T20:56:16.264286Z",
     "shell.execute_reply": "2025-07-30T20:56:16.263487Z"
    },
    "papermill": {
     "duration": 0.025944,
     "end_time": "2025-07-30T20:56:16.265728",
     "exception": false,
     "start_time": "2025-07-30T20:56:16.239784",
     "status": "completed"
    },
    "tags": []
   },
   "outputs": [],
   "source": [
    "#siab_s = sample_by_year(siab, universe[\"training_size\"])"
   ]
  },
  {
   "cell_type": "code",
   "execution_count": 26,
   "id": "5db0a40e-a4e2-4920-be85-b12ae061d70d",
   "metadata": {
    "execution": {
     "iopub.execute_input": "2025-07-30T20:56:16.306459Z",
     "iopub.status.busy": "2025-07-30T20:56:16.305712Z",
     "iopub.status.idle": "2025-07-30T20:56:16.310517Z",
     "shell.execute_reply": "2025-07-30T20:56:16.309651Z"
    },
    "papermill": {
     "duration": 0.026376,
     "end_time": "2025-07-30T20:56:16.312251",
     "exception": false,
     "start_time": "2025-07-30T20:56:16.285875",
     "status": "completed"
    },
    "tags": []
   },
   "outputs": [],
   "source": [
    "#display(siab_s.groupby(\"year\").size())"
   ]
  },
  {
   "cell_type": "code",
   "execution_count": 27,
   "id": "e6c733c5",
   "metadata": {
    "execution": {
     "iopub.execute_input": "2025-07-30T20:56:16.373237Z",
     "iopub.status.busy": "2025-07-30T20:56:16.372771Z",
     "iopub.status.idle": "2025-07-30T20:56:16.464063Z",
     "shell.execute_reply": "2025-07-30T20:56:16.463161Z"
    },
    "papermill": {
     "duration": 0.133039,
     "end_time": "2025-07-30T20:56:16.465955",
     "exception": false,
     "start_time": "2025-07-30T20:56:16.332916",
     "status": "completed"
    },
    "tags": []
   },
   "outputs": [],
   "source": [
    "# Auxiliary data needed downstream in the pipeline\n",
    "\n",
    "org_train = X_train.copy()\n",
    "org_test = X_test.copy()\n",
    "org_calib = X_calib.copy()"
   ]
  },
  {
   "cell_type": "code",
   "execution_count": 28,
   "id": "1466abac-c6da-4492-a62f-4240ae3783af",
   "metadata": {
    "execution": {
     "iopub.execute_input": "2025-07-30T20:56:16.509235Z",
     "iopub.status.busy": "2025-07-30T20:56:16.508880Z",
     "iopub.status.idle": "2025-07-30T20:56:16.515652Z",
     "shell.execute_reply": "2025-07-30T20:56:16.514709Z"
    },
    "papermill": {
     "duration": 0.031164,
     "end_time": "2025-07-30T20:56:16.517307",
     "exception": false,
     "start_time": "2025-07-30T20:56:16.486143",
     "status": "completed"
    },
    "tags": []
   },
   "outputs": [],
   "source": [
    "# put in other script?\n",
    "# Group sizes\n",
    "\n",
    "#def calculate_percentages(df, df_name):\n",
    "#    total_entries = len(df)\n",
    "#\n",
    "#    female_pct = (df['frau1'] == 1).mean() * 100\n",
    "#    non_german_pct = ((df['maxdeutsch1'] == 0) & (df['maxdeutsch.Missing.'] == 0)).mean() * 100\n",
    "#    non_german_male_pct = ((df['frau1'] == 0) & (df['maxdeutsch1'] == 0) & (df['maxdeutsch.Missing.'] == 0)).mean() * 100\n",
    "#    non_german_female_pct = ((df['frau1'] == 1) & (df['maxdeutsch1'] == 0) & (df['maxdeutsch.Missing.'] == 0)).mean() * 100\n",
    "#\n",
    "#    print(f\"--- {df_name} ---\")\n",
    "#    print(f\"Female: {female_pct:.2f}%\")\n",
    "#    print(f\"Non-German: {non_german_pct:.2f}%\")\n",
    "#    print(f\"Non-German Male: {non_german_male_pct:.2f}%\")\n",
    "#    print(f\"Non-German Female: {non_german_female_pct:.2f}%\\n\")\n",
    "#\n",
    "## Calculate for each DataFrame\n",
    "#calculate_percentages(siab_calib, \"siab_calib\")\n",
    "#calculate_percentages(siab_test, \"siab_test\")\n",
    "#calculate_percentages(siab_train, \"siab_train\")"
   ]
  },
  {
   "cell_type": "markdown",
   "id": "0a4a1b33",
   "metadata": {
    "papermill": {
     "duration": 0.019168,
     "end_time": "2025-07-30T20:56:16.558509",
     "exception": false,
     "start_time": "2025-07-30T20:56:16.539341",
     "status": "completed"
    },
    "tags": []
   },
   "source": [
    "# Preprocessing Data"
   ]
  },
  {
   "cell_type": "code",
   "execution_count": 29,
   "id": "ca879031",
   "metadata": {
    "execution": {
     "iopub.execute_input": "2025-07-30T20:56:16.600631Z",
     "iopub.status.busy": "2025-07-30T20:56:16.600008Z",
     "iopub.status.idle": "2025-07-30T20:56:16.605692Z",
     "shell.execute_reply": "2025-07-30T20:56:16.604861Z"
    },
    "papermill": {
     "duration": 0.028928,
     "end_time": "2025-07-30T20:56:16.607189",
     "exception": false,
     "start_time": "2025-07-30T20:56:16.578261",
     "status": "completed"
    },
    "tags": []
   },
   "outputs": [],
   "source": [
    "# EXCLUDE PROTECTED FEATURES\n",
    "# ----------------------\n",
    "# \"exclude_features\": \"none\", # \"nationality\", \"sex\", \"nationality-sex\"\n",
    "\n",
    "excluded_features = universe[\"exclude_features\"].split(\"-\") # split, e.g.: \"nationality-sex\" -> [\"nationality\", \"sex\"]\n",
    "excluded_features_dictionary = {\n",
    "    \"nationality\": [\"maxdeutsch1\", \"maxdeutsch.Missing.\"],\n",
    "    \"sex\": [\"frau1\"],\n",
    "    \"age\": [\"age\"],\n",
    "}\n"
   ]
  },
  {
   "cell_type": "code",
   "execution_count": 30,
   "id": "b745ac60",
   "metadata": {
    "execution": {
     "iopub.execute_input": "2025-07-30T20:56:16.648982Z",
     "iopub.status.busy": "2025-07-30T20:56:16.648563Z",
     "iopub.status.idle": "2025-07-30T20:56:16.653764Z",
     "shell.execute_reply": "2025-07-30T20:56:16.652854Z"
    },
    "papermill": {
     "duration": 0.027723,
     "end_time": "2025-07-30T20:56:16.655323",
     "exception": false,
     "start_time": "2025-07-30T20:56:16.627600",
     "status": "completed"
    },
    "tags": []
   },
   "outputs": [],
   "source": [
    "# Code nice names to column names\n",
    "\n",
    "excluded_features_columns = [\n",
    "    excluded_features_dictionary[f] for f in excluded_features if len(f) > 0 and f != \"none\"\n",
    "]"
   ]
  },
  {
   "cell_type": "code",
   "execution_count": 31,
   "id": "f84f73a2",
   "metadata": {
    "execution": {
     "iopub.execute_input": "2025-07-30T20:56:16.697365Z",
     "iopub.status.busy": "2025-07-30T20:56:16.696953Z",
     "iopub.status.idle": "2025-07-30T20:56:16.702483Z",
     "shell.execute_reply": "2025-07-30T20:56:16.701600Z"
    },
    "papermill": {
     "duration": 0.028138,
     "end_time": "2025-07-30T20:56:16.704022",
     "exception": false,
     "start_time": "2025-07-30T20:56:16.675884",
     "status": "completed"
    },
    "tags": []
   },
   "outputs": [],
   "source": [
    "from utils import flatten_once\n",
    "\n",
    "excluded_features_columns = flatten_once(excluded_features_columns)"
   ]
  },
  {
   "cell_type": "code",
   "execution_count": 32,
   "id": "884dea22",
   "metadata": {
    "execution": {
     "iopub.execute_input": "2025-07-30T20:56:16.745919Z",
     "iopub.status.busy": "2025-07-30T20:56:16.745168Z",
     "iopub.status.idle": "2025-07-30T20:56:16.754866Z",
     "shell.execute_reply": "2025-07-30T20:56:16.754068Z"
    },
    "papermill": {
     "duration": 0.031907,
     "end_time": "2025-07-30T20:56:16.756451",
     "exception": false,
     "start_time": "2025-07-30T20:56:16.724544",
     "status": "completed"
    },
    "tags": []
   },
   "outputs": [
    {
     "name": "stdout",
     "output_type": "stream",
     "text": [
      "Dropping features: ['maxdeutsch1', 'maxdeutsch.Missing.', 'frau1']\n"
     ]
    }
   ],
   "source": [
    "if len(excluded_features_columns) > 0:\n",
    "    print(f\"Dropping features: {excluded_features_columns}\")\n",
    "    X_train.drop(excluded_features_columns, axis=1, inplace=True)"
   ]
  },
  {
   "cell_type": "code",
   "execution_count": 33,
   "id": "95ab8b16",
   "metadata": {
    "execution": {
     "iopub.execute_input": "2025-07-30T20:56:16.798867Z",
     "iopub.status.busy": "2025-07-30T20:56:16.798201Z",
     "iopub.status.idle": "2025-07-30T20:56:16.847814Z",
     "shell.execute_reply": "2025-07-30T20:56:16.846798Z"
    },
    "papermill": {
     "duration": 0.072078,
     "end_time": "2025-07-30T20:56:16.849442",
     "exception": false,
     "start_time": "2025-07-30T20:56:16.777364",
     "status": "completed"
    },
    "tags": []
   },
   "outputs": [
    {
     "name": "stdout",
     "output_type": "stream",
     "text": [
      "Dropping features: ['maxdeutsch1', 'maxdeutsch.Missing.', 'frau1']\n"
     ]
    }
   ],
   "source": [
    "if len(excluded_features_columns) > 0:\n",
    "    print(f\"Dropping features: {excluded_features_columns}\")\n",
    "    X_test.drop(excluded_features_columns, axis=1, inplace=True)"
   ]
  },
  {
   "cell_type": "code",
   "execution_count": 34,
   "id": "1853aaf5-fb9f-46cb-a2b5-8ea4ae2237e4",
   "metadata": {
    "execution": {
     "iopub.execute_input": "2025-07-30T20:56:16.893416Z",
     "iopub.status.busy": "2025-07-30T20:56:16.892778Z",
     "iopub.status.idle": "2025-07-30T20:56:16.942166Z",
     "shell.execute_reply": "2025-07-30T20:56:16.941151Z"
    },
    "papermill": {
     "duration": 0.072728,
     "end_time": "2025-07-30T20:56:16.943708",
     "exception": false,
     "start_time": "2025-07-30T20:56:16.870980",
     "status": "completed"
    },
    "tags": []
   },
   "outputs": [
    {
     "name": "stdout",
     "output_type": "stream",
     "text": [
      "Dropping features: ['maxdeutsch1', 'maxdeutsch.Missing.', 'frau1']\n"
     ]
    }
   ],
   "source": [
    "if len(excluded_features_columns) > 0:\n",
    "    print(f\"Dropping features: {excluded_features_columns}\")\n",
    "    X_calib.drop(excluded_features_columns, axis=1, inplace=True)"
   ]
  },
  {
   "cell_type": "code",
   "execution_count": 35,
   "id": "6727d079-03e5-481e-9d38-292a90b7a0a8",
   "metadata": {
    "execution": {
     "iopub.execute_input": "2025-07-30T20:56:16.987711Z",
     "iopub.status.busy": "2025-07-30T20:56:16.987076Z",
     "iopub.status.idle": "2025-07-30T20:56:16.991943Z",
     "shell.execute_reply": "2025-07-30T20:56:16.991034Z"
    },
    "papermill": {
     "duration": 0.028479,
     "end_time": "2025-07-30T20:56:16.993501",
     "exception": false,
     "start_time": "2025-07-30T20:56:16.965022",
     "status": "completed"
    },
    "tags": []
   },
   "outputs": [],
   "source": [
    "# SPLIT & STRATIFY DATA\n",
    "# ----------------------"
   ]
  },
  {
   "cell_type": "code",
   "execution_count": 36,
   "id": "76c4dc6d",
   "metadata": {
    "execution": {
     "iopub.execute_input": "2025-07-30T20:56:17.036700Z",
     "iopub.status.busy": "2025-07-30T20:56:17.035921Z",
     "iopub.status.idle": "2025-07-30T20:56:17.040802Z",
     "shell.execute_reply": "2025-07-30T20:56:17.039938Z"
    },
    "papermill": {
     "duration": 0.027564,
     "end_time": "2025-07-30T20:56:17.042239",
     "exception": false,
     "start_time": "2025-07-30T20:56:17.014675",
     "status": "completed"
    },
    "tags": []
   },
   "outputs": [],
   "source": [
    "# EXCLUDE CERTAIN SUBGROUPS\n",
    "# ----------------------\n",
    "\n",
    "mode = universe.get(\"exclude_subgroups\", \"keep-all\") \n",
    "# Fetches the exclude_subgroups setting from the universe dict.\n",
    "# Defaults to \"keep-all\" if the key is missing."
   ]
  },
  {
   "cell_type": "code",
   "execution_count": 37,
   "id": "21994072",
   "metadata": {
    "execution": {
     "iopub.execute_input": "2025-07-30T20:56:17.084999Z",
     "iopub.status.busy": "2025-07-30T20:56:17.084181Z",
     "iopub.status.idle": "2025-07-30T20:56:17.090284Z",
     "shell.execute_reply": "2025-07-30T20:56:17.089489Z"
    },
    "papermill": {
     "duration": 0.028956,
     "end_time": "2025-07-30T20:56:17.091782",
     "exception": false,
     "start_time": "2025-07-30T20:56:17.062826",
     "status": "completed"
    },
    "tags": []
   },
   "outputs": [],
   "source": [
    "if mode == \"keep-all\":\n",
    "    keep_mask = pd.Series(True, index=org_train.index)\n",
    "\n",
    "# org_train contains the original feature columns from features_org (in Simson)\n",
    "# features_org contains unprocessed features, for me X_train at beginning ???\n",
    "# For keep-all, creates a boolean Series (keep_mask) of all True, so no rows are removed.\n",
    "\n",
    "elif mode == \"drop-non-german\":\n",
    "    keep_mask = org_train[\"maxdeutsch1\"] == 1 # ??? what about missing values?\n",
    "\n",
    "else:\n",
    "    raise ValueError(f\"Unsupported mode for exclude_subgroups: {mode}\")\n"
   ]
  },
  {
   "cell_type": "code",
   "execution_count": 38,
   "id": "71651440",
   "metadata": {
    "execution": {
     "iopub.execute_input": "2025-07-30T20:56:17.134418Z",
     "iopub.status.busy": "2025-07-30T20:56:17.133751Z",
     "iopub.status.idle": "2025-07-30T20:56:17.140017Z",
     "shell.execute_reply": "2025-07-30T20:56:17.139198Z"
    },
    "papermill": {
     "duration": 0.028911,
     "end_time": "2025-07-30T20:56:17.141581",
     "exception": false,
     "start_time": "2025-07-30T20:56:17.112670",
     "status": "completed"
    },
    "tags": []
   },
   "outputs": [
    {
     "name": "stdout",
     "output_type": "stream",
     "text": [
      "Dropping 741 rows (14.82%) where mode='drop-non-german'\n"
     ]
    }
   ],
   "source": [
    "n_drop = (~keep_mask).sum() # Calculates how many rows are set to be dropped\n",
    "if n_drop > 0:\n",
    "    pct = n_drop / len(keep_mask) * 100\n",
    "    print(f\"Dropping {n_drop} rows ({pct:.2f}%) where mode='{mode}'\")"
   ]
  },
  {
   "cell_type": "code",
   "execution_count": 39,
   "id": "5fb8eee5",
   "metadata": {
    "execution": {
     "iopub.execute_input": "2025-07-30T20:56:17.184394Z",
     "iopub.status.busy": "2025-07-30T20:56:17.183575Z",
     "iopub.status.idle": "2025-07-30T20:56:17.190407Z",
     "shell.execute_reply": "2025-07-30T20:56:17.189607Z"
    },
    "papermill": {
     "duration": 0.029738,
     "end_time": "2025-07-30T20:56:17.192009",
     "exception": false,
     "start_time": "2025-07-30T20:56:17.162271",
     "status": "completed"
    },
    "tags": []
   },
   "outputs": [],
   "source": [
    "X_train = X_train[keep_mask]"
   ]
  },
  {
   "cell_type": "code",
   "execution_count": 40,
   "id": "b202bb3a",
   "metadata": {
    "execution": {
     "iopub.execute_input": "2025-07-30T20:56:17.235277Z",
     "iopub.status.busy": "2025-07-30T20:56:17.234576Z",
     "iopub.status.idle": "2025-07-30T20:56:17.239919Z",
     "shell.execute_reply": "2025-07-30T20:56:17.239168Z"
    },
    "papermill": {
     "duration": 0.028215,
     "end_time": "2025-07-30T20:56:17.241413",
     "exception": false,
     "start_time": "2025-07-30T20:56:17.213198",
     "status": "completed"
    },
    "tags": []
   },
   "outputs": [],
   "source": [
    "y_train = y_train[keep_mask]"
   ]
  },
  {
   "cell_type": "markdown",
   "id": "493e2ac3",
   "metadata": {
    "papermill": {
     "duration": 0.021116,
     "end_time": "2025-07-30T20:56:17.283882",
     "exception": false,
     "start_time": "2025-07-30T20:56:17.262766",
     "status": "completed"
    },
    "tags": []
   },
   "source": [
    "# Model Training"
   ]
  },
  {
   "cell_type": "code",
   "execution_count": 41,
   "id": "679e1268",
   "metadata": {
    "execution": {
     "iopub.execute_input": "2025-07-30T20:56:17.326110Z",
     "iopub.status.busy": "2025-07-30T20:56:17.325682Z",
     "iopub.status.idle": "2025-07-30T20:56:17.425313Z",
     "shell.execute_reply": "2025-07-30T20:56:17.424468Z"
    },
    "papermill": {
     "duration": 0.122927,
     "end_time": "2025-07-30T20:56:17.427163",
     "exception": false,
     "start_time": "2025-07-30T20:56:17.304236",
     "status": "completed"
    },
    "tags": []
   },
   "outputs": [],
   "source": [
    "from sklearn.linear_model import LogisticRegression\n",
    "from sklearn.ensemble import GradientBoostingClassifier, RandomForestClassifier\n",
    "\n",
    "if (universe[\"model\"] == \"logreg\"):\n",
    "    model = LogisticRegression() #penalty=\"none\") #, solver=\"newton-cg\", max_iter=1) # include random_state=19 ?\n",
    "elif (universe[\"model\"] == \"penalized_logreg\"):\n",
    "    model = LogisticRegression(penalty=\"l2\", C=1.0) #, solver=\"newton-cg\", max_iter=1)\n",
    "elif (universe[\"model\"] == \"rf\"):\n",
    "    model = RandomForestClassifier(n_estimators=100, n_jobs=-1)\n",
    "elif (universe[\"model\"] == \"gbm\"):\n",
    "    model = GradientBoostingClassifier()\n",
    "elif (universe[\"model\"] == \"elasticnet\"):\n",
    "    model = LogisticRegression(penalty = 'elasticnet', solver = 'saga', l1_ratio = 0.5, max_iter=5000) # which solver to use?\n",
    "else:\n",
    "    raise \"Unsupported universe.model\""
   ]
  },
  {
   "cell_type": "code",
   "execution_count": 42,
   "id": "0cc8f744",
   "metadata": {
    "execution": {
     "iopub.execute_input": "2025-07-30T20:56:17.470448Z",
     "iopub.status.busy": "2025-07-30T20:56:17.469892Z",
     "iopub.status.idle": "2025-07-30T20:56:17.475812Z",
     "shell.execute_reply": "2025-07-30T20:56:17.474928Z"
    },
    "papermill": {
     "duration": 0.028865,
     "end_time": "2025-07-30T20:56:17.477418",
     "exception": false,
     "start_time": "2025-07-30T20:56:17.448553",
     "status": "completed"
    },
    "tags": []
   },
   "outputs": [],
   "source": [
    "import numpy as np\n",
    "from sklearn.pipeline import Pipeline\n",
    "from sklearn.preprocessing import StandardScaler\n",
    "\n",
    "model = Pipeline([\n",
    "    #(\"continuous_processor\", continuous_processor),\n",
    "    #(\"categorical_preprocessor\", categorical_preprocessor),\n",
    "    (\"scale\", StandardScaler() if universe[\"scale\"] == \"scale\" else None), \n",
    "    (\"model\", model),\n",
    "])"
   ]
  },
  {
   "cell_type": "code",
   "execution_count": 43,
   "id": "9442c04d",
   "metadata": {
    "execution": {
     "iopub.execute_input": "2025-07-30T20:56:17.520703Z",
     "iopub.status.busy": "2025-07-30T20:56:17.519976Z",
     "iopub.status.idle": "2025-07-30T20:57:34.354520Z",
     "shell.execute_reply": "2025-07-30T20:57:34.353065Z"
    },
    "papermill": {
     "duration": 76.869615,
     "end_time": "2025-07-30T20:57:34.368218",
     "exception": false,
     "start_time": "2025-07-30T20:56:17.498603",
     "status": "completed"
    },
    "tags": []
   },
   "outputs": [
    {
     "data": {
      "text/html": [
       "<style>#sk-container-id-1 {color: black;background-color: white;}#sk-container-id-1 pre{padding: 0;}#sk-container-id-1 div.sk-toggleable {background-color: white;}#sk-container-id-1 label.sk-toggleable__label {cursor: pointer;display: block;width: 100%;margin-bottom: 0;padding: 0.3em;box-sizing: border-box;text-align: center;}#sk-container-id-1 label.sk-toggleable__label-arrow:before {content: \"▸\";float: left;margin-right: 0.25em;color: #696969;}#sk-container-id-1 label.sk-toggleable__label-arrow:hover:before {color: black;}#sk-container-id-1 div.sk-estimator:hover label.sk-toggleable__label-arrow:before {color: black;}#sk-container-id-1 div.sk-toggleable__content {max-height: 0;max-width: 0;overflow: hidden;text-align: left;background-color: #f0f8ff;}#sk-container-id-1 div.sk-toggleable__content pre {margin: 0.2em;color: black;border-radius: 0.25em;background-color: #f0f8ff;}#sk-container-id-1 input.sk-toggleable__control:checked~div.sk-toggleable__content {max-height: 200px;max-width: 100%;overflow: auto;}#sk-container-id-1 input.sk-toggleable__control:checked~label.sk-toggleable__label-arrow:before {content: \"▾\";}#sk-container-id-1 div.sk-estimator input.sk-toggleable__control:checked~label.sk-toggleable__label {background-color: #d4ebff;}#sk-container-id-1 div.sk-label input.sk-toggleable__control:checked~label.sk-toggleable__label {background-color: #d4ebff;}#sk-container-id-1 input.sk-hidden--visually {border: 0;clip: rect(1px 1px 1px 1px);clip: rect(1px, 1px, 1px, 1px);height: 1px;margin: -1px;overflow: hidden;padding: 0;position: absolute;width: 1px;}#sk-container-id-1 div.sk-estimator {font-family: monospace;background-color: #f0f8ff;border: 1px dotted black;border-radius: 0.25em;box-sizing: border-box;margin-bottom: 0.5em;}#sk-container-id-1 div.sk-estimator:hover {background-color: #d4ebff;}#sk-container-id-1 div.sk-parallel-item::after {content: \"\";width: 100%;border-bottom: 1px solid gray;flex-grow: 1;}#sk-container-id-1 div.sk-label:hover label.sk-toggleable__label {background-color: #d4ebff;}#sk-container-id-1 div.sk-serial::before {content: \"\";position: absolute;border-left: 1px solid gray;box-sizing: border-box;top: 0;bottom: 0;left: 50%;z-index: 0;}#sk-container-id-1 div.sk-serial {display: flex;flex-direction: column;align-items: center;background-color: white;padding-right: 0.2em;padding-left: 0.2em;position: relative;}#sk-container-id-1 div.sk-item {position: relative;z-index: 1;}#sk-container-id-1 div.sk-parallel {display: flex;align-items: stretch;justify-content: center;background-color: white;position: relative;}#sk-container-id-1 div.sk-item::before, #sk-container-id-1 div.sk-parallel-item::before {content: \"\";position: absolute;border-left: 1px solid gray;box-sizing: border-box;top: 0;bottom: 0;left: 50%;z-index: -1;}#sk-container-id-1 div.sk-parallel-item {display: flex;flex-direction: column;z-index: 1;position: relative;background-color: white;}#sk-container-id-1 div.sk-parallel-item:first-child::after {align-self: flex-end;width: 50%;}#sk-container-id-1 div.sk-parallel-item:last-child::after {align-self: flex-start;width: 50%;}#sk-container-id-1 div.sk-parallel-item:only-child::after {width: 0;}#sk-container-id-1 div.sk-dashed-wrapped {border: 1px dashed gray;margin: 0 0.4em 0.5em 0.4em;box-sizing: border-box;padding-bottom: 0.4em;background-color: white;}#sk-container-id-1 div.sk-label label {font-family: monospace;font-weight: bold;display: inline-block;line-height: 1.2em;}#sk-container-id-1 div.sk-label-container {text-align: center;}#sk-container-id-1 div.sk-container {/* jupyter's `normalize.less` sets `[hidden] { display: none; }` but bootstrap.min.css set `[hidden] { display: none !important; }` so we also need the `!important` here to be able to override the default hidden behavior on the sphinx rendered scikit-learn.org. See: https://github.com/scikit-learn/scikit-learn/issues/21755 */display: inline-block !important;position: relative;}#sk-container-id-1 div.sk-text-repr-fallback {display: none;}</style><div id=\"sk-container-id-1\" class=\"sk-top-container\"><div class=\"sk-text-repr-fallback\"><pre>Pipeline(steps=[(&#x27;scale&#x27;, None),\n",
       "                (&#x27;model&#x27;,\n",
       "                 LogisticRegression(l1_ratio=0.5, max_iter=5000,\n",
       "                                    penalty=&#x27;elasticnet&#x27;, solver=&#x27;saga&#x27;))])</pre><b>In a Jupyter environment, please rerun this cell to show the HTML representation or trust the notebook. <br />On GitHub, the HTML representation is unable to render, please try loading this page with nbviewer.org.</b></div><div class=\"sk-container\" hidden><div class=\"sk-item sk-dashed-wrapped\"><div class=\"sk-label-container\"><div class=\"sk-label sk-toggleable\"><input class=\"sk-toggleable__control sk-hidden--visually\" id=\"sk-estimator-id-1\" type=\"checkbox\" ><label for=\"sk-estimator-id-1\" class=\"sk-toggleable__label sk-toggleable__label-arrow\">Pipeline</label><div class=\"sk-toggleable__content\"><pre>Pipeline(steps=[(&#x27;scale&#x27;, None),\n",
       "                (&#x27;model&#x27;,\n",
       "                 LogisticRegression(l1_ratio=0.5, max_iter=5000,\n",
       "                                    penalty=&#x27;elasticnet&#x27;, solver=&#x27;saga&#x27;))])</pre></div></div></div><div class=\"sk-serial\"><div class=\"sk-item\"><div class=\"sk-estimator sk-toggleable\"><input class=\"sk-toggleable__control sk-hidden--visually\" id=\"sk-estimator-id-2\" type=\"checkbox\" ><label for=\"sk-estimator-id-2\" class=\"sk-toggleable__label sk-toggleable__label-arrow\">None</label><div class=\"sk-toggleable__content\"><pre>None</pre></div></div></div><div class=\"sk-item\"><div class=\"sk-estimator sk-toggleable\"><input class=\"sk-toggleable__control sk-hidden--visually\" id=\"sk-estimator-id-3\" type=\"checkbox\" ><label for=\"sk-estimator-id-3\" class=\"sk-toggleable__label sk-toggleable__label-arrow\">LogisticRegression</label><div class=\"sk-toggleable__content\"><pre>LogisticRegression(l1_ratio=0.5, max_iter=5000, penalty=&#x27;elasticnet&#x27;,\n",
       "                   solver=&#x27;saga&#x27;)</pre></div></div></div></div></div></div></div>"
      ],
      "text/plain": [
       "Pipeline(steps=[('scale', None),\n",
       "                ('model',\n",
       "                 LogisticRegression(l1_ratio=0.5, max_iter=5000,\n",
       "                                    penalty='elasticnet', solver='saga'))])"
      ]
     },
     "execution_count": 43,
     "metadata": {},
     "output_type": "execute_result"
    }
   ],
   "source": [
    "model.fit(X_train, y_train.values.ravel())"
   ]
  },
  {
   "cell_type": "code",
   "execution_count": 44,
   "id": "af59f8c0",
   "metadata": {
    "execution": {
     "iopub.execute_input": "2025-07-30T20:57:34.416181Z",
     "iopub.status.busy": "2025-07-30T20:57:34.415161Z",
     "iopub.status.idle": "2025-07-30T20:57:34.421850Z",
     "shell.execute_reply": "2025-07-30T20:57:34.420695Z"
    },
    "papermill": {
     "duration": 0.034264,
     "end_time": "2025-07-30T20:57:34.424389",
     "exception": false,
     "start_time": "2025-07-30T20:57:34.390125",
     "status": "completed"
    },
    "tags": []
   },
   "outputs": [],
   "source": [
    "from fairness_multiverse.universe import predict_w_threshold"
   ]
  },
  {
   "cell_type": "code",
   "execution_count": 45,
   "id": "a7cf2e16",
   "metadata": {
    "execution": {
     "iopub.execute_input": "2025-07-30T20:57:34.493743Z",
     "iopub.status.busy": "2025-07-30T20:57:34.493032Z",
     "iopub.status.idle": "2025-07-30T20:57:34.596958Z",
     "shell.execute_reply": "2025-07-30T20:57:34.595818Z"
    },
    "papermill": {
     "duration": 0.141428,
     "end_time": "2025-07-30T20:57:34.599815",
     "exception": false,
     "start_time": "2025-07-30T20:57:34.458387",
     "status": "completed"
    },
    "tags": []
   },
   "outputs": [
    {
     "data": {
      "text/plain": [
       "0.8587559915282578"
      ]
     },
     "execution_count": 45,
     "metadata": {},
     "output_type": "execute_result"
    }
   ],
   "source": [
    "probs_test = model.predict_proba(X_test)\n",
    "\n",
    "'''\n",
    "Below code returns a boolean array (or binary 0/1 array depending on how it’s used) where each element \n",
    "is True if the probability of class 1 is greater than or equal to the threshold, and False otherwise.\n",
    "'''\n",
    "y_pred_default = predict_w_threshold(probs_test, 0.5)\n",
    "\n",
    "from sklearn.metrics import accuracy_score\n",
    "\n",
    "# Naive prediction\n",
    "accuracy_score(y_true = y_true, y_pred = y_pred_default)"
   ]
  },
  {
   "cell_type": "code",
   "execution_count": 46,
   "id": "081964c3",
   "metadata": {
    "execution": {
     "iopub.execute_input": "2025-07-30T20:57:34.671138Z",
     "iopub.status.busy": "2025-07-30T20:57:34.670349Z",
     "iopub.status.idle": "2025-07-30T20:57:34.756028Z",
     "shell.execute_reply": "2025-07-30T20:57:34.755275Z"
    },
    "papermill": {
     "duration": 0.122899,
     "end_time": "2025-07-30T20:57:34.757479",
     "exception": false,
     "start_time": "2025-07-30T20:57:34.634580",
     "status": "completed"
    },
    "tags": []
   },
   "outputs": [
    {
     "data": {
      "text/plain": [
       "array([0, 0, 0, ..., 0, 0, 0])"
      ]
     },
     "execution_count": 46,
     "metadata": {},
     "output_type": "execute_result"
    }
   ],
   "source": [
    "model.predict(X_test)"
   ]
  },
  {
   "cell_type": "markdown",
   "id": "56c9705b",
   "metadata": {
    "papermill": {
     "duration": 0.012296,
     "end_time": "2025-07-30T20:57:34.783517",
     "exception": false,
     "start_time": "2025-07-30T20:57:34.771221",
     "status": "completed"
    },
    "tags": []
   },
   "source": [
    "# Conformal Prediction"
   ]
  },
  {
   "cell_type": "code",
   "execution_count": 47,
   "id": "160ec6ff",
   "metadata": {
    "execution": {
     "iopub.execute_input": "2025-07-30T20:57:34.813533Z",
     "iopub.status.busy": "2025-07-30T20:57:34.812986Z",
     "iopub.status.idle": "2025-07-30T20:57:34.817342Z",
     "shell.execute_reply": "2025-07-30T20:57:34.816659Z"
    },
    "papermill": {
     "duration": 0.023024,
     "end_time": "2025-07-30T20:57:34.818670",
     "exception": false,
     "start_time": "2025-07-30T20:57:34.795646",
     "status": "completed"
    },
    "tags": []
   },
   "outputs": [],
   "source": [
    "# Miscoverage level for conformal prediction (10% allowed error rate => 90% target coverage)\n",
    "alpha = 0.1"
   ]
  },
  {
   "cell_type": "code",
   "execution_count": 48,
   "id": "eadf4555-3dd3-440e-8e35-f82a4ad9f855",
   "metadata": {
    "execution": {
     "iopub.execute_input": "2025-07-30T20:57:34.845597Z",
     "iopub.status.busy": "2025-07-30T20:57:34.845090Z",
     "iopub.status.idle": "2025-07-30T20:57:34.933544Z",
     "shell.execute_reply": "2025-07-30T20:57:34.932526Z"
    },
    "papermill": {
     "duration": 0.103557,
     "end_time": "2025-07-30T20:57:34.935509",
     "exception": false,
     "start_time": "2025-07-30T20:57:34.831952",
     "status": "completed"
    },
    "tags": []
   },
   "outputs": [],
   "source": [
    "probs_calib = model.predict_proba(X_calib)"
   ]
  },
  {
   "cell_type": "code",
   "execution_count": 49,
   "id": "2ed93547-6d5d-4983-9b36-1ecb300da49a",
   "metadata": {
    "execution": {
     "iopub.execute_input": "2025-07-30T20:57:34.977672Z",
     "iopub.status.busy": "2025-07-30T20:57:34.977308Z",
     "iopub.status.idle": "2025-07-30T20:57:34.982743Z",
     "shell.execute_reply": "2025-07-30T20:57:34.981748Z"
    },
    "papermill": {
     "duration": 0.025098,
     "end_time": "2025-07-30T20:57:34.986127",
     "exception": false,
     "start_time": "2025-07-30T20:57:34.961029",
     "status": "completed"
    },
    "tags": []
   },
   "outputs": [],
   "source": [
    "y_calib = y_calib.values.ravel().astype(int)"
   ]
  },
  {
   "cell_type": "code",
   "execution_count": 50,
   "id": "65d1320d-f588-4b38-9072-62af1ae97f7d",
   "metadata": {
    "execution": {
     "iopub.execute_input": "2025-07-30T20:57:35.018998Z",
     "iopub.status.busy": "2025-07-30T20:57:35.018630Z",
     "iopub.status.idle": "2025-07-30T20:57:35.024757Z",
     "shell.execute_reply": "2025-07-30T20:57:35.024021Z"
    },
    "papermill": {
     "duration": 0.022493,
     "end_time": "2025-07-30T20:57:35.026227",
     "exception": false,
     "start_time": "2025-07-30T20:57:35.003734",
     "status": "completed"
    },
    "tags": []
   },
   "outputs": [],
   "source": [
    "from fairness_multiverse.conformal import compute_nc_scores\n",
    "\n",
    "# Compute nonconformity scores on calibration set (1 - probability of true class)\n",
    "nc_scores = compute_nc_scores(probs_calib, y_calib)"
   ]
  },
  {
   "cell_type": "code",
   "execution_count": 51,
   "id": "df3b8ca3-53b7-43d5-9667-7c85da7aeda2",
   "metadata": {
    "execution": {
     "iopub.execute_input": "2025-07-30T20:57:35.058361Z",
     "iopub.status.busy": "2025-07-30T20:57:35.058000Z",
     "iopub.status.idle": "2025-07-30T20:57:35.063758Z",
     "shell.execute_reply": "2025-07-30T20:57:35.063101Z"
    },
    "papermill": {
     "duration": 0.025059,
     "end_time": "2025-07-30T20:57:35.065066",
     "exception": false,
     "start_time": "2025-07-30T20:57:35.040007",
     "status": "completed"
    },
    "tags": []
   },
   "outputs": [],
   "source": [
    "from fairness_multiverse.conformal import find_threshold\n",
    "\n",
    "# Find conformal threshold q_hat for the given alpha (split conformal method)\n",
    "q_hat = find_threshold(nc_scores, alpha)"
   ]
  },
  {
   "cell_type": "code",
   "execution_count": 52,
   "id": "4d29e6c1-0ef6-4aa4-b8fe-4fe79b0d033a",
   "metadata": {
    "execution": {
     "iopub.execute_input": "2025-07-30T20:57:35.093245Z",
     "iopub.status.busy": "2025-07-30T20:57:35.092807Z",
     "iopub.status.idle": "2025-07-30T20:57:35.101135Z",
     "shell.execute_reply": "2025-07-30T20:57:35.100401Z"
    },
    "papermill": {
     "duration": 0.023667,
     "end_time": "2025-07-30T20:57:35.102598",
     "exception": false,
     "start_time": "2025-07-30T20:57:35.078931",
     "status": "completed"
    },
    "tags": []
   },
   "outputs": [
    {
     "data": {
      "text/plain": [
       "0.6834166676079328"
      ]
     },
     "execution_count": 52,
     "metadata": {},
     "output_type": "execute_result"
    }
   ],
   "source": [
    "q_hat"
   ]
  },
  {
   "cell_type": "code",
   "execution_count": 53,
   "id": "92460794-cdac-4be2-ba28-f28c0515a6fb",
   "metadata": {
    "execution": {
     "iopub.execute_input": "2025-07-30T20:57:35.132101Z",
     "iopub.status.busy": "2025-07-30T20:57:35.131588Z",
     "iopub.status.idle": "2025-07-30T20:57:35.682799Z",
     "shell.execute_reply": "2025-07-30T20:57:35.682041Z"
    },
    "papermill": {
     "duration": 0.567732,
     "end_time": "2025-07-30T20:57:35.684369",
     "exception": false,
     "start_time": "2025-07-30T20:57:35.116637",
     "status": "completed"
    },
    "tags": []
   },
   "outputs": [],
   "source": [
    "from fairness_multiverse.conformal import predict_conformal_sets\n",
    "\n",
    "# Generate prediction sets for each test example\n",
    "pred_sets = predict_conformal_sets(model, X_test, q_hat)"
   ]
  },
  {
   "cell_type": "code",
   "execution_count": 54,
   "id": "d90c9a65-e6db-4f5d-80cd-e68fb7e46829",
   "metadata": {
    "execution": {
     "iopub.execute_input": "2025-07-30T20:57:35.712770Z",
     "iopub.status.busy": "2025-07-30T20:57:35.712410Z",
     "iopub.status.idle": "2025-07-30T20:57:35.717511Z",
     "shell.execute_reply": "2025-07-30T20:57:35.716684Z"
    },
    "papermill": {
     "duration": 0.020689,
     "end_time": "2025-07-30T20:57:35.718768",
     "exception": false,
     "start_time": "2025-07-30T20:57:35.698079",
     "status": "completed"
    },
    "tags": []
   },
   "outputs": [],
   "source": [
    "y_true = y_true.squeeze()"
   ]
  },
  {
   "cell_type": "code",
   "execution_count": 55,
   "id": "3a58a54a-1e68-46b9-927a-df01f18aebc8",
   "metadata": {
    "execution": {
     "iopub.execute_input": "2025-07-30T20:57:35.747371Z",
     "iopub.status.busy": "2025-07-30T20:57:35.746874Z",
     "iopub.status.idle": "2025-07-30T20:57:36.460913Z",
     "shell.execute_reply": "2025-07-30T20:57:36.460154Z"
    },
    "papermill": {
     "duration": 0.729342,
     "end_time": "2025-07-30T20:57:36.462227",
     "exception": false,
     "start_time": "2025-07-30T20:57:35.732885",
     "status": "completed"
    },
    "tags": []
   },
   "outputs": [],
   "source": [
    "from fairness_multiverse.conformal import evaluate_sets\n",
    "\n",
    "# Evaluate coverage and average set size on test data\n",
    "metrics = evaluate_sets(pred_sets, y_true)"
   ]
  },
  {
   "cell_type": "markdown",
   "id": "2b569c12-9aaa-4c88-98c9-bbcd0cf3ebb8",
   "metadata": {
    "papermill": {
     "duration": 0.021179,
     "end_time": "2025-07-30T20:57:36.496687",
     "exception": false,
     "start_time": "2025-07-30T20:57:36.475508",
     "status": "completed"
    },
    "tags": []
   },
   "source": [
    "# CP Metrics"
   ]
  },
  {
   "cell_type": "code",
   "execution_count": 56,
   "id": "5ce0a5cb-201f-45a0-ade5-94c7f0bd6095",
   "metadata": {
    "execution": {
     "iopub.execute_input": "2025-07-30T20:57:36.525235Z",
     "iopub.status.busy": "2025-07-30T20:57:36.524335Z",
     "iopub.status.idle": "2025-07-30T20:57:36.531987Z",
     "shell.execute_reply": "2025-07-30T20:57:36.531036Z"
    },
    "papermill": {
     "duration": 0.023314,
     "end_time": "2025-07-30T20:57:36.533539",
     "exception": false,
     "start_time": "2025-07-30T20:57:36.510225",
     "status": "completed"
    },
    "tags": []
   },
   "outputs": [
    {
     "data": {
      "text/plain": [
       "{'coverage': 0.9096644744175677, 'avg_size': 1.1519563036450786}"
      ]
     },
     "execution_count": 56,
     "metadata": {},
     "output_type": "execute_result"
    }
   ],
   "source": [
    "metrics"
   ]
  },
  {
   "cell_type": "code",
   "execution_count": 57,
   "id": "9b9a838d-31c9-430b-ae14-12baee460d17",
   "metadata": {
    "execution": {
     "iopub.execute_input": "2025-07-30T20:57:36.584543Z",
     "iopub.status.busy": "2025-07-30T20:57:36.584042Z",
     "iopub.status.idle": "2025-07-30T20:57:36.591105Z",
     "shell.execute_reply": "2025-07-30T20:57:36.590089Z"
    },
    "papermill": {
     "duration": 0.034085,
     "end_time": "2025-07-30T20:57:36.592738",
     "exception": false,
     "start_time": "2025-07-30T20:57:36.558653",
     "status": "completed"
    },
    "tags": []
   },
   "outputs": [],
   "source": [
    "example_universe = universe.copy()\n",
    "universe_training_year = example_universe.get(\"training_year\")\n",
    "universe_training_size = example_universe.get(\"training_size\")\n",
    "universe_scale = example_universe.get(\"scale\")\n",
    "universe_model = example_universe.get(\"model\")\n",
    "universe_exclude_features = example_universe.get(\"exclude_features\")\n",
    "universe_exclude_subgroups = example_universe.get(\"exclude_subgroups\")"
   ]
  },
  {
   "cell_type": "code",
   "execution_count": 58,
   "id": "f4b6a8ac-9dc0-4245-8a91-5b3b5999c4f9",
   "metadata": {
    "execution": {
     "iopub.execute_input": "2025-07-30T20:57:36.644309Z",
     "iopub.status.busy": "2025-07-30T20:57:36.643785Z",
     "iopub.status.idle": "2025-07-30T20:57:36.651450Z",
     "shell.execute_reply": "2025-07-30T20:57:36.650555Z"
    },
    "papermill": {
     "duration": 0.036134,
     "end_time": "2025-07-30T20:57:36.652819",
     "exception": false,
     "start_time": "2025-07-30T20:57:36.616685",
     "status": "completed"
    },
    "tags": []
   },
   "outputs": [],
   "source": [
    "cp_metrics_dict = {\n",
    "    \"universe_id\": [universe_id],\n",
    "    \"universe_training_year\": [universe_training_year],\n",
    "    \"universe_training_size\": [universe_training_size],\n",
    "    \"universe_scale\": [universe_scale],\n",
    "    \"universe_model\": [universe_model],\n",
    "    \"universe_exclude_features\": [universe_exclude_features],\n",
    "    \"universe_exclude_subgroups\": [universe_exclude_subgroups],\n",
    "    \"q_hat\": [q_hat],\n",
    "    \"coverage\": [metrics[\"coverage\"]],\n",
    "    \"avg_size\": [metrics[\"avg_size\"]],\n",
    "}"
   ]
  },
  {
   "cell_type": "code",
   "execution_count": 59,
   "id": "908acbb1-0371-4915-85ca-3fa520d2efe2",
   "metadata": {
    "execution": {
     "iopub.execute_input": "2025-07-30T20:57:36.717362Z",
     "iopub.status.busy": "2025-07-30T20:57:36.716845Z",
     "iopub.status.idle": "2025-07-30T20:57:36.726375Z",
     "shell.execute_reply": "2025-07-30T20:57:36.725406Z"
    },
    "papermill": {
     "duration": 0.049148,
     "end_time": "2025-07-30T20:57:36.728135",
     "exception": false,
     "start_time": "2025-07-30T20:57:36.678987",
     "status": "completed"
    },
    "tags": []
   },
   "outputs": [
    {
     "data": {
      "text/plain": [
       "{'universe_id': ['6df84b9af6ef602494825180d40fdfc7'],\n",
       " 'universe_training_year': ['2014'],\n",
       " 'universe_training_size': ['5k'],\n",
       " 'universe_scale': ['do-not-scale'],\n",
       " 'universe_model': ['elasticnet'],\n",
       " 'universe_exclude_features': ['nationality-sex'],\n",
       " 'universe_exclude_subgroups': ['drop-non-german'],\n",
       " 'q_hat': [0.6834166676079328],\n",
       " 'coverage': [0.9096644744175677],\n",
       " 'avg_size': [1.1519563036450786]}"
      ]
     },
     "execution_count": 59,
     "metadata": {},
     "output_type": "execute_result"
    }
   ],
   "source": [
    "cp_metrics_dict"
   ]
  },
  {
   "cell_type": "code",
   "execution_count": 60,
   "id": "33007efc-14e9-4ec6-97ac-56a455c82265",
   "metadata": {
    "execution": {
     "iopub.execute_input": "2025-07-30T20:57:36.777433Z",
     "iopub.status.busy": "2025-07-30T20:57:36.776987Z",
     "iopub.status.idle": "2025-07-30T20:57:36.783258Z",
     "shell.execute_reply": "2025-07-30T20:57:36.782452Z"
    },
    "papermill": {
     "duration": 0.029327,
     "end_time": "2025-07-30T20:57:36.784687",
     "exception": false,
     "start_time": "2025-07-30T20:57:36.755360",
     "status": "completed"
    },
    "tags": []
   },
   "outputs": [],
   "source": [
    "cp_metrics_df = pd.DataFrame(cp_metrics_dict)"
   ]
  },
  {
   "cell_type": "code",
   "execution_count": 61,
   "id": "db12611b-57b2-4910-b9d0-355adfd6e7bf",
   "metadata": {
    "execution": {
     "iopub.execute_input": "2025-07-30T20:57:36.819483Z",
     "iopub.status.busy": "2025-07-30T20:57:36.819030Z",
     "iopub.status.idle": "2025-07-30T20:57:36.834508Z",
     "shell.execute_reply": "2025-07-30T20:57:36.833659Z"
    },
    "papermill": {
     "duration": 0.036541,
     "end_time": "2025-07-30T20:57:36.835856",
     "exception": false,
     "start_time": "2025-07-30T20:57:36.799315",
     "status": "completed"
    },
    "tags": []
   },
   "outputs": [
    {
     "data": {
      "text/html": [
       "<div>\n",
       "<style scoped>\n",
       "    .dataframe tbody tr th:only-of-type {\n",
       "        vertical-align: middle;\n",
       "    }\n",
       "\n",
       "    .dataframe tbody tr th {\n",
       "        vertical-align: top;\n",
       "    }\n",
       "\n",
       "    .dataframe thead th {\n",
       "        text-align: right;\n",
       "    }\n",
       "</style>\n",
       "<table border=\"1\" class=\"dataframe\">\n",
       "  <thead>\n",
       "    <tr style=\"text-align: right;\">\n",
       "      <th></th>\n",
       "      <th>universe_id</th>\n",
       "      <th>universe_training_year</th>\n",
       "      <th>universe_training_size</th>\n",
       "      <th>universe_scale</th>\n",
       "      <th>universe_model</th>\n",
       "      <th>universe_exclude_features</th>\n",
       "      <th>universe_exclude_subgroups</th>\n",
       "      <th>q_hat</th>\n",
       "      <th>coverage</th>\n",
       "      <th>avg_size</th>\n",
       "    </tr>\n",
       "  </thead>\n",
       "  <tbody>\n",
       "    <tr>\n",
       "      <th>0</th>\n",
       "      <td>6df84b9af6ef602494825180d40fdfc7</td>\n",
       "      <td>2014</td>\n",
       "      <td>5k</td>\n",
       "      <td>do-not-scale</td>\n",
       "      <td>elasticnet</td>\n",
       "      <td>nationality-sex</td>\n",
       "      <td>drop-non-german</td>\n",
       "      <td>0.683417</td>\n",
       "      <td>0.909664</td>\n",
       "      <td>1.151956</td>\n",
       "    </tr>\n",
       "  </tbody>\n",
       "</table>\n",
       "</div>"
      ],
      "text/plain": [
       "                        universe_id universe_training_year  \\\n",
       "0  6df84b9af6ef602494825180d40fdfc7                   2014   \n",
       "\n",
       "  universe_training_size universe_scale universe_model  \\\n",
       "0                     5k   do-not-scale     elasticnet   \n",
       "\n",
       "  universe_exclude_features universe_exclude_subgroups     q_hat  coverage  \\\n",
       "0           nationality-sex            drop-non-german  0.683417  0.909664   \n",
       "\n",
       "   avg_size  \n",
       "0  1.151956  "
      ]
     },
     "execution_count": 61,
     "metadata": {},
     "output_type": "execute_result"
    }
   ],
   "source": [
    "cp_metrics_df"
   ]
  },
  {
   "cell_type": "code",
   "execution_count": 62,
   "id": "b7fbde55-a0a1-47e4-9af6-fe4a17fa8c61",
   "metadata": {
    "execution": {
     "iopub.execute_input": "2025-07-30T20:57:36.866892Z",
     "iopub.status.busy": "2025-07-30T20:57:36.866175Z",
     "iopub.status.idle": "2025-07-30T20:57:36.872027Z",
     "shell.execute_reply": "2025-07-30T20:57:36.871249Z"
    },
    "papermill": {
     "duration": 0.023,
     "end_time": "2025-07-30T20:57:36.874076",
     "exception": false,
     "start_time": "2025-07-30T20:57:36.851076",
     "status": "completed"
    },
    "tags": []
   },
   "outputs": [],
   "source": [
    "# Conditional Coverage & looking at subgroups"
   ]
  },
  {
   "cell_type": "code",
   "execution_count": 63,
   "id": "027ae886-68dd-4141-96c7-805a5450e1ef",
   "metadata": {
    "execution": {
     "iopub.execute_input": "2025-07-30T20:57:36.936686Z",
     "iopub.status.busy": "2025-07-30T20:57:36.936224Z",
     "iopub.status.idle": "2025-07-30T20:57:37.204061Z",
     "shell.execute_reply": "2025-07-30T20:57:37.202994Z"
    },
    "papermill": {
     "duration": 0.29583,
     "end_time": "2025-07-30T20:57:37.205611",
     "exception": false,
     "start_time": "2025-07-30T20:57:36.909781",
     "status": "completed"
    },
    "tags": []
   },
   "outputs": [],
   "source": [
    "from fairness_multiverse.conformal import build_cp_groups\n",
    "\n",
    "cp_groups_df = build_cp_groups(pred_sets, y_true, X_test.index, org_test)\n",
    "#needs universe_id and setting"
   ]
  },
  {
   "cell_type": "code",
   "execution_count": 64,
   "id": "01d5802c-663a-4d1f-9d69-e036faaffbf7",
   "metadata": {
    "execution": {
     "iopub.execute_input": "2025-07-30T20:57:37.263840Z",
     "iopub.status.busy": "2025-07-30T20:57:37.263368Z",
     "iopub.status.idle": "2025-07-30T20:57:37.268609Z",
     "shell.execute_reply": "2025-07-30T20:57:37.267486Z"
    },
    "papermill": {
     "duration": 0.034879,
     "end_time": "2025-07-30T20:57:37.270502",
     "exception": false,
     "start_time": "2025-07-30T20:57:37.235623",
     "status": "completed"
    },
    "tags": []
   },
   "outputs": [],
   "source": [
    "#delete\n",
    "#cp_groups_df"
   ]
  },
  {
   "cell_type": "code",
   "execution_count": 65,
   "id": "fa424af1-d1eb-443d-b717-2d279ada8408",
   "metadata": {
    "execution": {
     "iopub.execute_input": "2025-07-30T20:57:37.327333Z",
     "iopub.status.busy": "2025-07-30T20:57:37.326904Z",
     "iopub.status.idle": "2025-07-30T20:57:37.331928Z",
     "shell.execute_reply": "2025-07-30T20:57:37.331051Z"
    },
    "papermill": {
     "duration": 0.036199,
     "end_time": "2025-07-30T20:57:37.333950",
     "exception": false,
     "start_time": "2025-07-30T20:57:37.297751",
     "status": "completed"
    },
    "tags": []
   },
   "outputs": [],
   "source": [
    "#delete\n",
    "#percentage = (cp_groups_df['nongerman_female'] == 1).mean() * 100\n",
    "#print(percentage)\n"
   ]
  },
  {
   "cell_type": "code",
   "execution_count": 66,
   "id": "6cbdab96-b2b2-45af-ad54-d0516db2e28d",
   "metadata": {
    "execution": {
     "iopub.execute_input": "2025-07-30T20:57:37.389331Z",
     "iopub.status.busy": "2025-07-30T20:57:37.388791Z",
     "iopub.status.idle": "2025-07-30T20:57:39.034690Z",
     "shell.execute_reply": "2025-07-30T20:57:39.033657Z"
    },
    "papermill": {
     "duration": 1.676133,
     "end_time": "2025-07-30T20:57:39.036660",
     "exception": false,
     "start_time": "2025-07-30T20:57:37.360527",
     "status": "completed"
    },
    "tags": []
   },
   "outputs": [],
   "source": [
    "# Define covered = 1 if true_label is in the predicted set\n",
    "cp_groups_df['covered'] = cp_groups_df.apply(\n",
    "    lambda r: int(r['true_label'] in r['pred_set']),\n",
    "    axis=1\n",
    ")"
   ]
  },
  {
   "cell_type": "code",
   "execution_count": 67,
   "id": "338ff529-1a6b-4b87-a931-8e4788d52aad",
   "metadata": {
    "execution": {
     "iopub.execute_input": "2025-07-30T20:57:39.078513Z",
     "iopub.status.busy": "2025-07-30T20:57:39.078115Z",
     "iopub.status.idle": "2025-07-30T20:57:39.082837Z",
     "shell.execute_reply": "2025-07-30T20:57:39.082179Z"
    },
    "papermill": {
     "duration": 0.020814,
     "end_time": "2025-07-30T20:57:39.084205",
     "exception": false,
     "start_time": "2025-07-30T20:57:39.063391",
     "status": "completed"
    },
    "tags": []
   },
   "outputs": [],
   "source": [
    "#cp_groups_df"
   ]
  },
  {
   "cell_type": "code",
   "execution_count": 68,
   "id": "90032e27-66df-4540-9169-4e89cfbaa758",
   "metadata": {
    "execution": {
     "iopub.execute_input": "2025-07-30T20:57:39.123438Z",
     "iopub.status.busy": "2025-07-30T20:57:39.123039Z",
     "iopub.status.idle": "2025-07-30T20:57:39.134850Z",
     "shell.execute_reply": "2025-07-30T20:57:39.133884Z"
    },
    "papermill": {
     "duration": 0.038811,
     "end_time": "2025-07-30T20:57:39.136688",
     "exception": false,
     "start_time": "2025-07-30T20:57:39.097877",
     "status": "completed"
    },
    "tags": []
   },
   "outputs": [],
   "source": [
    "subgroups = ['frau1','nongerman','nongerman_male','nongerman_female']\n",
    "\n",
    "# Conditional coverage for subgroup==1\n",
    "cond_coverage = {\n",
    "    g: cp_groups_df.loc[cp_groups_df[g]==1, 'covered'].mean()\n",
    "    for g in subgroups\n",
    "}"
   ]
  },
  {
   "cell_type": "code",
   "execution_count": 69,
   "id": "1e348fb1-b9c3-45bc-ba23-f016827a7e0d",
   "metadata": {
    "execution": {
     "iopub.execute_input": "2025-07-30T20:57:39.195346Z",
     "iopub.status.busy": "2025-07-30T20:57:39.194570Z",
     "iopub.status.idle": "2025-07-30T20:57:39.200733Z",
     "shell.execute_reply": "2025-07-30T20:57:39.199919Z"
    },
    "papermill": {
     "duration": 0.037235,
     "end_time": "2025-07-30T20:57:39.202500",
     "exception": false,
     "start_time": "2025-07-30T20:57:39.165265",
     "status": "completed"
    },
    "tags": []
   },
   "outputs": [
    {
     "data": {
      "text/plain": [
       "{'frau1': 0.9067259738509234,\n",
       " 'nongerman': 0.910683208892382,\n",
       " 'nongerman_male': 0.92704674412321,\n",
       " 'nongerman_female': 0.8836065573770492}"
      ]
     },
     "execution_count": 69,
     "metadata": {},
     "output_type": "execute_result"
    }
   ],
   "source": [
    "cond_coverage"
   ]
  },
  {
   "cell_type": "code",
   "execution_count": 70,
   "id": "f5093324-c3dd-4d63-bc4c-8d945e5c8bbb",
   "metadata": {
    "execution": {
     "iopub.execute_input": "2025-07-30T20:57:39.258791Z",
     "iopub.status.busy": "2025-07-30T20:57:39.258224Z",
     "iopub.status.idle": "2025-07-30T20:57:39.266864Z",
     "shell.execute_reply": "2025-07-30T20:57:39.265708Z"
    },
    "papermill": {
     "duration": 0.039092,
     "end_time": "2025-07-30T20:57:39.268753",
     "exception": false,
     "start_time": "2025-07-30T20:57:39.229661",
     "status": "completed"
    },
    "tags": []
   },
   "outputs": [],
   "source": [
    "for subgroup, cov in cond_coverage.items():\n",
    "    cp_metrics_df[f\"cov_{subgroup}\"] = cov"
   ]
  },
  {
   "cell_type": "code",
   "execution_count": 71,
   "id": "6e872e10-dbe5-49e8-b554-5030c98ff75d",
   "metadata": {
    "execution": {
     "iopub.execute_input": "2025-07-30T20:57:39.329988Z",
     "iopub.status.busy": "2025-07-30T20:57:39.329183Z",
     "iopub.status.idle": "2025-07-30T20:57:39.355228Z",
     "shell.execute_reply": "2025-07-30T20:57:39.353933Z"
    },
    "papermill": {
     "duration": 0.057749,
     "end_time": "2025-07-30T20:57:39.356988",
     "exception": false,
     "start_time": "2025-07-30T20:57:39.299239",
     "status": "completed"
    },
    "tags": []
   },
   "outputs": [
    {
     "data": {
      "text/html": [
       "<div>\n",
       "<style scoped>\n",
       "    .dataframe tbody tr th:only-of-type {\n",
       "        vertical-align: middle;\n",
       "    }\n",
       "\n",
       "    .dataframe tbody tr th {\n",
       "        vertical-align: top;\n",
       "    }\n",
       "\n",
       "    .dataframe thead th {\n",
       "        text-align: right;\n",
       "    }\n",
       "</style>\n",
       "<table border=\"1\" class=\"dataframe\">\n",
       "  <thead>\n",
       "    <tr style=\"text-align: right;\">\n",
       "      <th></th>\n",
       "      <th>universe_id</th>\n",
       "      <th>universe_training_year</th>\n",
       "      <th>universe_training_size</th>\n",
       "      <th>universe_scale</th>\n",
       "      <th>universe_model</th>\n",
       "      <th>universe_exclude_features</th>\n",
       "      <th>universe_exclude_subgroups</th>\n",
       "      <th>q_hat</th>\n",
       "      <th>coverage</th>\n",
       "      <th>avg_size</th>\n",
       "      <th>cov_frau1</th>\n",
       "      <th>cov_nongerman</th>\n",
       "      <th>cov_nongerman_male</th>\n",
       "      <th>cov_nongerman_female</th>\n",
       "    </tr>\n",
       "  </thead>\n",
       "  <tbody>\n",
       "    <tr>\n",
       "      <th>0</th>\n",
       "      <td>6df84b9af6ef602494825180d40fdfc7</td>\n",
       "      <td>2014</td>\n",
       "      <td>5k</td>\n",
       "      <td>do-not-scale</td>\n",
       "      <td>elasticnet</td>\n",
       "      <td>nationality-sex</td>\n",
       "      <td>drop-non-german</td>\n",
       "      <td>0.683417</td>\n",
       "      <td>0.909664</td>\n",
       "      <td>1.151956</td>\n",
       "      <td>0.906726</td>\n",
       "      <td>0.910683</td>\n",
       "      <td>0.927047</td>\n",
       "      <td>0.883607</td>\n",
       "    </tr>\n",
       "  </tbody>\n",
       "</table>\n",
       "</div>"
      ],
      "text/plain": [
       "                        universe_id universe_training_year  \\\n",
       "0  6df84b9af6ef602494825180d40fdfc7                   2014   \n",
       "\n",
       "  universe_training_size universe_scale universe_model  \\\n",
       "0                     5k   do-not-scale     elasticnet   \n",
       "\n",
       "  universe_exclude_features universe_exclude_subgroups     q_hat  coverage  \\\n",
       "0           nationality-sex            drop-non-german  0.683417  0.909664   \n",
       "\n",
       "   avg_size  cov_frau1  cov_nongerman  cov_nongerman_male  \\\n",
       "0  1.151956   0.906726       0.910683            0.927047   \n",
       "\n",
       "   cov_nongerman_female  \n",
       "0              0.883607  "
      ]
     },
     "execution_count": 71,
     "metadata": {},
     "output_type": "execute_result"
    }
   ],
   "source": [
    "cp_metrics_df"
   ]
  },
  {
   "cell_type": "markdown",
   "id": "33774451",
   "metadata": {
    "papermill": {
     "duration": 0.018351,
     "end_time": "2025-07-30T20:57:39.405308",
     "exception": false,
     "start_time": "2025-07-30T20:57:39.386957",
     "status": "completed"
    },
    "tags": []
   },
   "source": [
    "# (Fairness) Metrics"
   ]
  },
  {
   "cell_type": "code",
   "execution_count": 72,
   "id": "debc5d62",
   "metadata": {
    "execution": {
     "iopub.execute_input": "2025-07-30T20:57:39.435577Z",
     "iopub.status.busy": "2025-07-30T20:57:39.435084Z",
     "iopub.status.idle": "2025-07-30T20:57:39.450998Z",
     "shell.execute_reply": "2025-07-30T20:57:39.449960Z"
    },
    "papermill": {
     "duration": 0.03248,
     "end_time": "2025-07-30T20:57:39.452720",
     "exception": false,
     "start_time": "2025-07-30T20:57:39.420240",
     "status": "completed"
    },
    "tags": []
   },
   "outputs": [],
   "source": [
    "# do I need to include maxdeutsch1.missing?\n",
    "\n",
    "import numpy as np\n",
    "\n",
    "colname_to_bin = \"maxdeutsch1\"\n",
    "majority_value = org_train[colname_to_bin].mode()[0]\n",
    "\n",
    "org_test[\"majmin\"] = np.where(org_test[colname_to_bin] == majority_value, \"majority\", \"minority\")"
   ]
  },
  {
   "cell_type": "code",
   "execution_count": 73,
   "id": "06a50de5",
   "metadata": {
    "execution": {
     "iopub.execute_input": "2025-07-30T20:57:39.504733Z",
     "iopub.status.busy": "2025-07-30T20:57:39.504147Z",
     "iopub.status.idle": "2025-07-30T20:57:41.717083Z",
     "shell.execute_reply": "2025-07-30T20:57:41.715880Z"
    },
    "papermill": {
     "duration": 2.240461,
     "end_time": "2025-07-30T20:57:41.718916",
     "exception": false,
     "start_time": "2025-07-30T20:57:39.478455",
     "status": "completed"
    },
    "tags": []
   },
   "outputs": [],
   "source": [
    "example_universe = universe.copy()\n",
    "example_universe[\"cutoff\"] = example_universe[\"cutoff\"][0]\n",
    "example_universe[\"eval_fairness_grouping\"] = example_universe[\"eval_fairness_grouping\"][0]\n",
    "fairness_dict, metric_frame = universe_analysis.compute_metrics(\n",
    "    example_universe,\n",
    "    y_pred_prob=probs_test,\n",
    "    y_test=y_true,\n",
    "    org_test=org_test,\n",
    ")"
   ]
  },
  {
   "cell_type": "markdown",
   "id": "f95d4e02",
   "metadata": {
    "papermill": {
     "duration": 0.024689,
     "end_time": "2025-07-30T20:57:41.770746",
     "exception": false,
     "start_time": "2025-07-30T20:57:41.746057",
     "status": "completed"
    },
    "tags": []
   },
   "source": [
    "# Overall"
   ]
  },
  {
   "cell_type": "markdown",
   "id": "bdee4871",
   "metadata": {
    "papermill": {
     "duration": 0.025339,
     "end_time": "2025-07-30T20:57:41.822358",
     "exception": false,
     "start_time": "2025-07-30T20:57:41.797019",
     "status": "completed"
    },
    "tags": []
   },
   "source": [
    "Fairness\n",
    "Main fairness target: Equalized Odds. Seems to be a better fit than equal opportunity, since we're not only interested in Y = 1. Seems to be a better fit than demographic parity, since we also care about accuracy, not just equal distribution of preds.\n",
    "\n",
    "Pick column for computation of fairness metrics\n",
    "\n",
    "Performance\n",
    "Overall performance measures, most interesting in relation to the measures split by group below"
   ]
  },
  {
   "cell_type": "code",
   "execution_count": 74,
   "id": "c4e067c6",
   "metadata": {
    "execution": {
     "iopub.execute_input": "2025-07-30T20:57:41.873518Z",
     "iopub.status.busy": "2025-07-30T20:57:41.872991Z",
     "iopub.status.idle": "2025-07-30T20:57:41.882884Z",
     "shell.execute_reply": "2025-07-30T20:57:41.881733Z"
    },
    "papermill": {
     "duration": 0.037724,
     "end_time": "2025-07-30T20:57:41.884618",
     "exception": false,
     "start_time": "2025-07-30T20:57:41.846894",
     "status": "completed"
    },
    "tags": []
   },
   "outputs": [
    {
     "data": {
      "text/plain": [
       "accuracy                   0.219474\n",
       "balanced accuracy          0.537670\n",
       "f1                         0.240940\n",
       "precision                  0.137641\n",
       "false positive rate        0.890335\n",
       "false negative rate        0.034324\n",
       "selection rate             0.900000\n",
       "count                  89710.000000\n",
       "dtype: float64"
      ]
     },
     "execution_count": 74,
     "metadata": {},
     "output_type": "execute_result"
    }
   ],
   "source": [
    "metric_frame.overall"
   ]
  },
  {
   "cell_type": "markdown",
   "id": "e968fe9d",
   "metadata": {
    "papermill": {
     "duration": 0.024595,
     "end_time": "2025-07-30T20:57:41.935988",
     "exception": false,
     "start_time": "2025-07-30T20:57:41.911393",
     "status": "completed"
    },
    "tags": []
   },
   "source": [
    "By Group"
   ]
  },
  {
   "cell_type": "code",
   "execution_count": 75,
   "id": "ec325bce",
   "metadata": {
    "execution": {
     "iopub.execute_input": "2025-07-30T20:57:41.986458Z",
     "iopub.status.busy": "2025-07-30T20:57:41.985958Z",
     "iopub.status.idle": "2025-07-30T20:57:42.001988Z",
     "shell.execute_reply": "2025-07-30T20:57:42.001065Z"
    },
    "papermill": {
     "duration": 0.042987,
     "end_time": "2025-07-30T20:57:42.003466",
     "exception": false,
     "start_time": "2025-07-30T20:57:41.960479",
     "status": "completed"
    },
    "tags": []
   },
   "outputs": [
    {
     "data": {
      "text/html": [
       "<div>\n",
       "<style scoped>\n",
       "    .dataframe tbody tr th:only-of-type {\n",
       "        vertical-align: middle;\n",
       "    }\n",
       "\n",
       "    .dataframe tbody tr th {\n",
       "        vertical-align: top;\n",
       "    }\n",
       "\n",
       "    .dataframe thead th {\n",
       "        text-align: right;\n",
       "    }\n",
       "</style>\n",
       "<table border=\"1\" class=\"dataframe\">\n",
       "  <thead>\n",
       "    <tr style=\"text-align: right;\">\n",
       "      <th></th>\n",
       "      <th>accuracy</th>\n",
       "      <th>balanced accuracy</th>\n",
       "      <th>f1</th>\n",
       "      <th>precision</th>\n",
       "      <th>false positive rate</th>\n",
       "      <th>false negative rate</th>\n",
       "      <th>selection rate</th>\n",
       "      <th>count</th>\n",
       "    </tr>\n",
       "    <tr>\n",
       "      <th>majmin</th>\n",
       "      <th></th>\n",
       "      <th></th>\n",
       "      <th></th>\n",
       "      <th></th>\n",
       "      <th></th>\n",
       "      <th></th>\n",
       "      <th></th>\n",
       "      <th></th>\n",
       "    </tr>\n",
       "  </thead>\n",
       "  <tbody>\n",
       "    <tr>\n",
       "      <th>majority</th>\n",
       "      <td>0.241318</td>\n",
       "      <td>0.546346</td>\n",
       "      <td>0.250785</td>\n",
       "      <td>0.144211</td>\n",
       "      <td>0.868249</td>\n",
       "      <td>0.039059</td>\n",
       "      <td>0.880497</td>\n",
       "      <td>69170.0</td>\n",
       "    </tr>\n",
       "    <tr>\n",
       "      <th>minority</th>\n",
       "      <td>0.145910</td>\n",
       "      <td>0.510329</td>\n",
       "      <td>0.209882</td>\n",
       "      <td>0.117469</td>\n",
       "      <td>0.963295</td>\n",
       "      <td>0.016047</td>\n",
       "      <td>0.965677</td>\n",
       "      <td>20540.0</td>\n",
       "    </tr>\n",
       "  </tbody>\n",
       "</table>\n",
       "</div>"
      ],
      "text/plain": [
       "          accuracy  balanced accuracy        f1  precision  \\\n",
       "majmin                                                       \n",
       "majority  0.241318           0.546346  0.250785   0.144211   \n",
       "minority  0.145910           0.510329  0.209882   0.117469   \n",
       "\n",
       "          false positive rate  false negative rate  selection rate    count  \n",
       "majmin                                                                       \n",
       "majority             0.868249             0.039059        0.880497  69170.0  \n",
       "minority             0.963295             0.016047        0.965677  20540.0  "
      ]
     },
     "execution_count": 75,
     "metadata": {},
     "output_type": "execute_result"
    }
   ],
   "source": [
    "metric_frame.by_group"
   ]
  },
  {
   "cell_type": "code",
   "execution_count": 76,
   "id": "a9ddbe63",
   "metadata": {
    "execution": {
     "iopub.execute_input": "2025-07-30T20:57:42.055601Z",
     "iopub.status.busy": "2025-07-30T20:57:42.054842Z",
     "iopub.status.idle": "2025-07-30T20:57:44.303209Z",
     "shell.execute_reply": "2025-07-30T20:57:44.302319Z"
    },
    "papermill": {
     "duration": 2.275656,
     "end_time": "2025-07-30T20:57:44.304868",
     "exception": false,
     "start_time": "2025-07-30T20:57:42.029212",
     "status": "completed"
    },
    "tags": []
   },
   "outputs": [
    {
     "data": {
      "text/plain": [
       "array([[<Axes: title={'center': 'accuracy'}, xlabel='majmin'>,\n",
       "        <Axes: title={'center': 'balanced accuracy'}, xlabel='majmin'>,\n",
       "        <Axes: title={'center': 'f1'}, xlabel='majmin'>],\n",
       "       [<Axes: title={'center': 'precision'}, xlabel='majmin'>,\n",
       "        <Axes: title={'center': 'false positive rate'}, xlabel='majmin'>,\n",
       "        <Axes: title={'center': 'false negative rate'}, xlabel='majmin'>],\n",
       "       [<Axes: title={'center': 'selection rate'}, xlabel='majmin'>,\n",
       "        <Axes: title={'center': 'count'}, xlabel='majmin'>,\n",
       "        <Axes: xlabel='majmin'>]], dtype=object)"
      ]
     },
     "execution_count": 76,
     "metadata": {},
     "output_type": "execute_result"
    },
    {
     "data": {
      "image/png": "[encoded data removed]",
      "text/plain": [
       "<Figure size 1200x800 with 9 Axes>"
      ]
     },
     "metadata": {},
     "output_type": "display_data"
    }
   ],
   "source": [
    "# In a graphic\n",
    "metric_frame.by_group.plot.bar(\n",
    "    subplots=True,\n",
    "    layout=[3, 3],\n",
    "    legend=False,\n",
    "    figsize=[12, 8],\n",
    "    title=\"Show all metrics\",\n",
    ")"
   ]
  },
  {
   "cell_type": "markdown",
   "id": "f57a0bac",
   "metadata": {
    "papermill": {
     "duration": 0.029192,
     "end_time": "2025-07-30T20:57:44.362445",
     "exception": false,
     "start_time": "2025-07-30T20:57:44.333253",
     "status": "completed"
    },
    "tags": []
   },
   "source": [
    "# Final Output"
   ]
  },
  {
   "cell_type": "code",
   "execution_count": 77,
   "id": "96d280a3",
   "metadata": {
    "execution": {
     "iopub.execute_input": "2025-07-30T20:57:44.414028Z",
     "iopub.status.busy": "2025-07-30T20:57:44.413497Z",
     "iopub.status.idle": "2025-07-30T20:57:44.421306Z",
     "shell.execute_reply": "2025-07-30T20:57:44.420404Z"
    },
    "papermill": {
     "duration": 0.031618,
     "end_time": "2025-07-30T20:57:44.422983",
     "exception": false,
     "start_time": "2025-07-30T20:57:44.391365",
     "status": "completed"
    },
    "tags": []
   },
   "outputs": [
    {
     "data": {
      "text/plain": [
       "4"
      ]
     },
     "execution_count": 77,
     "metadata": {},
     "output_type": "execute_result"
    }
   ],
   "source": [
    "sub_universes = universe_analysis.generate_sub_universes()\n",
    "len(sub_universes)"
   ]
  },
  {
   "cell_type": "code",
   "execution_count": 78,
   "id": "92adf7ba",
   "metadata": {
    "execution": {
     "iopub.execute_input": "2025-07-30T20:57:44.481632Z",
     "iopub.status.busy": "2025-07-30T20:57:44.480783Z",
     "iopub.status.idle": "2025-07-30T20:57:44.486996Z",
     "shell.execute_reply": "2025-07-30T20:57:44.486107Z"
    },
    "papermill": {
     "duration": 0.035872,
     "end_time": "2025-07-30T20:57:44.488651",
     "exception": false,
     "start_time": "2025-07-30T20:57:44.452779",
     "status": "completed"
    },
    "tags": []
   },
   "outputs": [],
   "source": [
    "def filter_sub_universe_data(sub_universe, org_test):\n",
    "    # Keep all rows — no filtering\n",
    "    keep_rows_mask = np.ones(org_test.shape[0], dtype=bool)\n",
    "\n",
    "    print(f\"[INFO] Keeping all rows: {keep_rows_mask.sum()} rows retained.\")\n",
    "    return keep_rows_mask"
   ]
  },
  {
   "cell_type": "code",
   "execution_count": 79,
   "id": "4a759155",
   "metadata": {
    "execution": {
     "iopub.execute_input": "2025-07-30T20:57:44.540136Z",
     "iopub.status.busy": "2025-07-30T20:57:44.539784Z",
     "iopub.status.idle": "2025-07-30T20:57:51.099441Z",
     "shell.execute_reply": "2025-07-30T20:57:51.098602Z"
    },
    "papermill": {
     "duration": 6.582195,
     "end_time": "2025-07-30T20:57:51.101010",
     "exception": false,
     "start_time": "2025-07-30T20:57:44.518815",
     "status": "completed"
    },
    "tags": []
   },
   "outputs": [
    {
     "name": "stdout",
     "output_type": "stream",
     "text": [
      "Stopping execution_time clock.\n",
      "[INFO] Keeping all rows: 89710 rows retained.\n"
     ]
    },
    {
     "name": "stdout",
     "output_type": "stream",
     "text": [
      "[INFO] Keeping all rows: 89710 rows retained.\n"
     ]
    },
    {
     "name": "stdout",
     "output_type": "stream",
     "text": [
      "[INFO] Keeping all rows: 89710 rows retained.\n"
     ]
    },
    {
     "name": "stdout",
     "output_type": "stream",
     "text": [
      "[INFO] Keeping all rows: 89710 rows retained.\n"
     ]
    },
    {
     "data": {
      "text/html": [
       "<div>\n",
       "<style scoped>\n",
       "    .dataframe tbody tr th:only-of-type {\n",
       "        vertical-align: middle;\n",
       "    }\n",
       "\n",
       "    .dataframe tbody tr th {\n",
       "        vertical-align: top;\n",
       "    }\n",
       "\n",
       "    .dataframe thead th {\n",
       "        text-align: right;\n",
       "    }\n",
       "</style>\n",
       "<table border=\"1\" class=\"dataframe\">\n",
       "  <thead>\n",
       "    <tr style=\"text-align: right;\">\n",
       "      <th></th>\n",
       "      <th>run_no</th>\n",
       "      <th>universe_id</th>\n",
       "      <th>universe_settings</th>\n",
       "      <th>execution_time</th>\n",
       "      <th>test_size_n</th>\n",
       "      <th>test_size_frac</th>\n",
       "      <th>fair_main_equalized_odds_difference</th>\n",
       "      <th>fair_main_equalized_odds_ratio</th>\n",
       "      <th>fair_main_demographic_parity_difference</th>\n",
       "      <th>fair_main_demographic_parity_ratio</th>\n",
       "      <th>...</th>\n",
       "      <th>perf_grp_precision_0</th>\n",
       "      <th>perf_grp_precision_1</th>\n",
       "      <th>perf_grp_false positive rate_0</th>\n",
       "      <th>perf_grp_false positive rate_1</th>\n",
       "      <th>perf_grp_false negative rate_0</th>\n",
       "      <th>perf_grp_false negative rate_1</th>\n",
       "      <th>perf_grp_selection rate_0</th>\n",
       "      <th>perf_grp_selection rate_1</th>\n",
       "      <th>perf_grp_count_0</th>\n",
       "      <th>perf_grp_count_1</th>\n",
       "    </tr>\n",
       "  </thead>\n",
       "  <tbody>\n",
       "    <tr>\n",
       "      <th>0</th>\n",
       "      <td>14</td>\n",
       "      <td>6df84b9af6ef602494825180d40fdfc7</td>\n",
       "      <td>{\"cutoff\": \"quantile_0.1\", \"eval_fairness_grou...</td>\n",
       "      <td>100.650608</td>\n",
       "      <td>89710</td>\n",
       "      <td>1.0</td>\n",
       "      <td>0.095046</td>\n",
       "      <td>0.901332</td>\n",
       "      <td>0.085179</td>\n",
       "      <td>0.911793</td>\n",
       "      <td>...</td>\n",
       "      <td>NaN</td>\n",
       "      <td>NaN</td>\n",
       "      <td>NaN</td>\n",
       "      <td>NaN</td>\n",
       "      <td>NaN</td>\n",
       "      <td>NaN</td>\n",
       "      <td>NaN</td>\n",
       "      <td>NaN</td>\n",
       "      <td>NaN</td>\n",
       "      <td>NaN</td>\n",
       "    </tr>\n",
       "    <tr>\n",
       "      <th>0</th>\n",
       "      <td>14</td>\n",
       "      <td>6df84b9af6ef602494825180d40fdfc7</td>\n",
       "      <td>{\"cutoff\": \"quantile_0.1\", \"eval_fairness_grou...</td>\n",
       "      <td>100.650608</td>\n",
       "      <td>89710</td>\n",
       "      <td>1.0</td>\n",
       "      <td>0.095046</td>\n",
       "      <td>0.901332</td>\n",
       "      <td>0.085179</td>\n",
       "      <td>0.911793</td>\n",
       "      <td>...</td>\n",
       "      <td>0.117469</td>\n",
       "      <td>0.144211</td>\n",
       "      <td>0.963295</td>\n",
       "      <td>0.868249</td>\n",
       "      <td>0.016047</td>\n",
       "      <td>0.039059</td>\n",
       "      <td>0.965677</td>\n",
       "      <td>0.880497</td>\n",
       "      <td>20540.0</td>\n",
       "      <td>69170.0</td>\n",
       "    </tr>\n",
       "    <tr>\n",
       "      <th>0</th>\n",
       "      <td>14</td>\n",
       "      <td>6df84b9af6ef602494825180d40fdfc7</td>\n",
       "      <td>{\"cutoff\": \"quantile_0.25\", \"eval_fairness_gro...</td>\n",
       "      <td>100.650608</td>\n",
       "      <td>89710</td>\n",
       "      <td>1.0</td>\n",
       "      <td>0.214580</td>\n",
       "      <td>0.759818</td>\n",
       "      <td>0.194360</td>\n",
       "      <td>0.784009</td>\n",
       "      <td>...</td>\n",
       "      <td>NaN</td>\n",
       "      <td>NaN</td>\n",
       "      <td>NaN</td>\n",
       "      <td>NaN</td>\n",
       "      <td>NaN</td>\n",
       "      <td>NaN</td>\n",
       "      <td>NaN</td>\n",
       "      <td>NaN</td>\n",
       "      <td>NaN</td>\n",
       "      <td>NaN</td>\n",
       "    </tr>\n",
       "    <tr>\n",
       "      <th>0</th>\n",
       "      <td>14</td>\n",
       "      <td>6df84b9af6ef602494825180d40fdfc7</td>\n",
       "      <td>{\"cutoff\": \"quantile_0.25\", \"eval_fairness_gro...</td>\n",
       "      <td>100.650608</td>\n",
       "      <td>89710</td>\n",
       "      <td>1.0</td>\n",
       "      <td>0.214580</td>\n",
       "      <td>0.759818</td>\n",
       "      <td>0.194360</td>\n",
       "      <td>0.784009</td>\n",
       "      <td>...</td>\n",
       "      <td>0.121625</td>\n",
       "      <td>0.164942</td>\n",
       "      <td>0.893407</td>\n",
       "      <td>0.678827</td>\n",
       "      <td>0.050676</td>\n",
       "      <td>0.119365</td>\n",
       "      <td>0.899854</td>\n",
       "      <td>0.705494</td>\n",
       "      <td>20540.0</td>\n",
       "      <td>69170.0</td>\n",
       "    </tr>\n",
       "  </tbody>\n",
       "</table>\n",
       "<p>4 rows × 50 columns</p>\n",
       "</div>"
      ],
      "text/plain": [
       "  run_no                       universe_id  \\\n",
       "0     14  6df84b9af6ef602494825180d40fdfc7   \n",
       "0     14  6df84b9af6ef602494825180d40fdfc7   \n",
       "0     14  6df84b9af6ef602494825180d40fdfc7   \n",
       "0     14  6df84b9af6ef602494825180d40fdfc7   \n",
       "\n",
       "                                   universe_settings  execution_time  \\\n",
       "0  {\"cutoff\": \"quantile_0.1\", \"eval_fairness_grou...      100.650608   \n",
       "0  {\"cutoff\": \"quantile_0.1\", \"eval_fairness_grou...      100.650608   \n",
       "0  {\"cutoff\": \"quantile_0.25\", \"eval_fairness_gro...      100.650608   \n",
       "0  {\"cutoff\": \"quantile_0.25\", \"eval_fairness_gro...      100.650608   \n",
       "\n",
       "   test_size_n  test_size_frac  fair_main_equalized_odds_difference  \\\n",
       "0        89710             1.0                             0.095046   \n",
       "0        89710             1.0                             0.095046   \n",
       "0        89710             1.0                             0.214580   \n",
       "0        89710             1.0                             0.214580   \n",
       "\n",
       "   fair_main_equalized_odds_ratio  fair_main_demographic_parity_difference  \\\n",
       "0                        0.901332                                 0.085179   \n",
       "0                        0.901332                                 0.085179   \n",
       "0                        0.759818                                 0.194360   \n",
       "0                        0.759818                                 0.194360   \n",
       "\n",
       "   fair_main_demographic_parity_ratio  ...  perf_grp_precision_0  \\\n",
       "0                            0.911793  ...                   NaN   \n",
       "0                            0.911793  ...              0.117469   \n",
       "0                            0.784009  ...                   NaN   \n",
       "0                            0.784009  ...              0.121625   \n",
       "\n",
       "   perf_grp_precision_1  perf_grp_false positive rate_0  \\\n",
       "0                   NaN                             NaN   \n",
       "0              0.144211                        0.963295   \n",
       "0                   NaN                             NaN   \n",
       "0              0.164942                        0.893407   \n",
       "\n",
       "   perf_grp_false positive rate_1  perf_grp_false negative rate_0  \\\n",
       "0                             NaN                             NaN   \n",
       "0                        0.868249                        0.016047   \n",
       "0                             NaN                             NaN   \n",
       "0                        0.678827                        0.050676   \n",
       "\n",
       "   perf_grp_false negative rate_1  perf_grp_selection rate_0  \\\n",
       "0                             NaN                        NaN   \n",
       "0                        0.039059                   0.965677   \n",
       "0                             NaN                        NaN   \n",
       "0                        0.119365                   0.899854   \n",
       "\n",
       "   perf_grp_selection rate_1  perf_grp_count_0  perf_grp_count_1  \n",
       "0                        NaN               NaN               NaN  \n",
       "0                   0.880497           20540.0           69170.0  \n",
       "0                        NaN               NaN               NaN  \n",
       "0                   0.705494           20540.0           69170.0  \n",
       "\n",
       "[4 rows x 50 columns]"
      ]
     },
     "execution_count": 79,
     "metadata": {},
     "output_type": "execute_result"
    }
   ],
   "source": [
    "final_output = universe_analysis.generate_final_output(\n",
    "    y_pred_prob=probs_test,\n",
    "    y_test=y_true,\n",
    "    org_test=org_test,\n",
    "    filter_data=filter_sub_universe_data,\n",
    "    cp_metrics_df=cp_metrics_df,\n",
    "    save=True,\n",
    ")\n",
    "final_output"
   ]
  },
  {
   "cell_type": "code",
   "execution_count": null,
   "id": "721ff514-cb11-46f8-b6fc-50392f74b5cb",
   "metadata": {
    "papermill": {
     "duration": 0.028233,
     "end_time": "2025-07-30T20:57:51.160059",
     "exception": false,
     "start_time": "2025-07-30T20:57:51.131826",
     "status": "completed"
    },
    "tags": []
   },
   "outputs": [],
   "source": []
  }
 ],
 "metadata": {
  "celltoolbar": "Tags",
  "kernelspec": {
   "display_name": "Python (CMA Fairness)",
   "language": "python",
   "name": "cma_fair_env"
  },
  "language_info": {
   "codemirror_mode": {
    "name": "ipython",
    "version": 3
   },
   "file_extension": ".py",
   "mimetype": "text/x-python",
   "name": "python",
   "nbconvert_exporter": "python",
   "pygments_lexer": "ipython3",
   "version": "3.10.12"
  },
  "papermill": {
   "default_parameters": {},
   "duration": 111.29443,
   "end_time": "2025-07-30T20:57:52.007402",
   "environment_variables": {},
   "exception": null,
   "input_path": "universe_analysis.ipynb",
   "output_path": "output/runs/14/notebooks/m_14-6df84b9af6ef602494825180d40fdfc7.ipynb",
   "parameters": {
    "output_dir": "output",
    "run_no": "14",
    "seed": "2023",
    "universe": "{\"cutoff\": [\"quantile_0.1\", \"quantile_0.25\"], \"eval_fairness_grouping\": [\"majority-minority\", \"nationality-all\"], \"exclude_features\": \"nationality-sex\", \"exclude_subgroups\": \"drop-non-german\", \"model\": \"elasticnet\", \"scale\": \"do-not-scale\", \"training_size\": \"5k\", \"training_year\": \"2014\"}",
    "universe_id": "6df84b9af6ef602494825180d40fdfc7"
   },
   "start_time": "2025-07-30T20:56:00.712972",
   "version": "2.6.0"
  }
 },
 "nbformat": 4,
 "nbformat_minor": 5
}