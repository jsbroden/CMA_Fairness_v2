{
 "cells": [
  {
   "cell_type": "code",
   "execution_count": 1,
   "id": "f159f837-637b-42ba-96b5-ec9a68c44524",
   "metadata": {
    "execution": {
     "iopub.execute_input": "2025-07-30T20:06:45.653920Z",
     "iopub.status.busy": "2025-07-30T20:06:45.653541Z",
     "iopub.status.idle": "2025-07-30T20:06:45.666668Z",
     "shell.execute_reply": "2025-07-30T20:06:45.665838Z"
    },
    "papermill": {
     "duration": 0.034005,
     "end_time": "2025-07-30T20:06:45.668379",
     "exception": false,
     "start_time": "2025-07-30T20:06:45.634374",
     "status": "completed"
    },
    "tags": []
   },
   "outputs": [
    {
     "name": "stdout",
     "output_type": "stream",
     "text": [
      "/dss/dsshome1/0C/ra93lal2/cma/CMA_Fairness_v2\n"
     ]
    },
    {
     "name": "stderr",
     "output_type": "stream",
     "text": [
      "/dss/dsshome1/0C/ra93lal2/.local/share/virtualenvs/CMA_Fairness_v2-3j10GkSs/lib/python3.10/site-packages/IPython/core/magics/osm.py:393: UserWarning: This is now an optional IPython functionality, using bookmarks requires you to install the `pickleshare` library.\n",
      "  bkms = self.shell.db.get('bookmarks', {})\n",
      "/dss/dsshome1/0C/ra93lal2/.local/share/virtualenvs/CMA_Fairness_v2-3j10GkSs/lib/python3.10/site-packages/IPython/core/magics/osm.py:417: UserWarning: This is now an optional IPython functionality, setting dhist requires you to install the `pickleshare` library.\n",
      "  self.shell.db['dhist'] = compress_dhist(dhist)[-100:]\n"
     ]
    }
   ],
   "source": [
    "%cd ~/cma/CMA_Fairness_v2"
   ]
  },
  {
   "cell_type": "markdown",
   "id": "de2603b9",
   "metadata": {
    "papermill": {
     "duration": 0.017402,
     "end_time": "2025-07-30T20:06:45.704635",
     "exception": false,
     "start_time": "2025-07-30T20:06:45.687233",
     "status": "completed"
    },
    "tags": []
   },
   "source": [
    "The following cell holds the definition of our parameters, these values can be overriden by rendering the with e.g. the following command:\n",
    "\n",
    "papermill -p alpha 0.2 -p ratio 0.3 universe_analysis.ipynb output/test_run.ipynb"
   ]
  },
  {
   "cell_type": "code",
   "execution_count": 2,
   "id": "a80968a0-40bb-4fa9-85ef-2d5eefb01975",
   "metadata": {
    "execution": {
     "iopub.execute_input": "2025-07-30T20:06:45.742357Z",
     "iopub.status.busy": "2025-07-30T20:06:45.741894Z",
     "iopub.status.idle": "2025-07-30T20:06:45.747117Z",
     "shell.execute_reply": "2025-07-30T20:06:45.746247Z"
    },
    "papermill": {
     "duration": 0.026073,
     "end_time": "2025-07-30T20:06:45.748612",
     "exception": false,
     "start_time": "2025-07-30T20:06:45.722539",
     "status": "completed"
    },
    "tags": []
   },
   "outputs": [
    {
     "name": "stdout",
     "output_type": "stream",
     "text": [
      "Current working directory: /dss/dsshome1/0C/ra93lal2/cma/CMA_Fairness_v2\n"
     ]
    }
   ],
   "source": [
    "import os\n",
    "print(\"Current working directory:\", os.getcwd())"
   ]
  },
  {
   "cell_type": "code",
   "execution_count": 3,
   "id": "2dce4c03",
   "metadata": {
    "execution": {
     "iopub.execute_input": "2025-07-30T20:06:45.786215Z",
     "iopub.status.busy": "2025-07-30T20:06:45.785547Z",
     "iopub.status.idle": "2025-07-30T20:06:45.791719Z",
     "shell.execute_reply": "2025-07-30T20:06:45.790780Z"
    },
    "papermill": {
     "duration": 0.026464,
     "end_time": "2025-07-30T20:06:45.793350",
     "exception": false,
     "start_time": "2025-07-30T20:06:45.766886",
     "status": "completed"
    },
    "tags": [
     "parameters"
    ]
   },
   "outputs": [],
   "source": [
    "run_no = 0\n",
    "universe_id = \"test\"\n",
    "universe = {\n",
    "    \"training_size\": \"25k\", # \"25k\", \"5k\", \"1k\"\n",
    "    \"training_year\": \"2014\", # \"2014\", \"2012_14\", \"2010_14\"\n",
    "    \"scale\": \"scale\", # \"scale\", \"do-not-scale\",\n",
    "    #\"stratify_split\": \"target\", # \"none\", \"target\", \"protected-attribute\", \"both\",\n",
    "    \"model\": \"elasticnet\", # \"logreg\", \"penalized_logreg\", \"rf\", \"gbm\", \"elasticnet\"\n",
    "    \"cutoff\": [\"quantile_0.15\", \"quantile_0.30\"],\n",
    "    \"exclude_features\": \"age\", # \"none\", \"nationality\", \"sex\", \"nationality-sex\", \"age\"\n",
    "    \"exclude_subgroups\": \"keep-all\", # \"keep-all\", \"drop-non-german\"\n",
    "    \"eval_fairness_grouping\": [\"majority-minority\", \"nationality-all\"]\n",
    "}\n",
    "\n",
    "output_dir=\"./output\"\n",
    "seed=0"
   ]
  },
  {
   "cell_type": "code",
   "execution_count": 4,
   "id": "5a7b34dd",
   "metadata": {
    "execution": {
     "iopub.execute_input": "2025-07-30T20:06:45.831353Z",
     "iopub.status.busy": "2025-07-30T20:06:45.830759Z",
     "iopub.status.idle": "2025-07-30T20:06:45.835834Z",
     "shell.execute_reply": "2025-07-30T20:06:45.834965Z"
    },
    "papermill": {
     "duration": 0.025422,
     "end_time": "2025-07-30T20:06:45.837549",
     "exception": false,
     "start_time": "2025-07-30T20:06:45.812127",
     "status": "completed"
    },
    "tags": [
     "injected-parameters"
    ]
   },
   "outputs": [],
   "source": [
    "# Parameters\n",
    "universe_id = \"586b83af98d6eb18fb7c0460f21de287\"\n",
    "run_no = \"14\"\n",
    "universe = \"{\\\"cutoff\\\": [\\\"quantile_0.1\\\", \\\"quantile_0.25\\\"], \\\"eval_fairness_grouping\\\": [\\\"majority-minority\\\", \\\"nationality-all\\\"], \\\"exclude_features\\\": \\\"age\\\", \\\"exclude_subgroups\\\": \\\"keep-all\\\", \\\"model\\\": \\\"elasticnet\\\", \\\"scale\\\": \\\"do-not-scale\\\", \\\"training_size\\\": \\\"25k\\\", \\\"training_year\\\": \\\"2014\\\"}\"\n",
    "output_dir = \"output\"\n",
    "seed = \"2023\"\n"
   ]
  },
  {
   "cell_type": "code",
   "execution_count": 5,
   "id": "1650acaf",
   "metadata": {
    "execution": {
     "iopub.execute_input": "2025-07-30T20:06:45.875443Z",
     "iopub.status.busy": "2025-07-30T20:06:45.874670Z",
     "iopub.status.idle": "2025-07-30T20:06:45.879463Z",
     "shell.execute_reply": "2025-07-30T20:06:45.878596Z"
    },
    "papermill": {
     "duration": 0.025134,
     "end_time": "2025-07-30T20:06:45.881272",
     "exception": false,
     "start_time": "2025-07-30T20:06:45.856138",
     "status": "completed"
    },
    "tags": []
   },
   "outputs": [],
   "source": [
    "import json\n",
    "# Parse universe into dict if it is passed as a string\n",
    "if isinstance(universe, str):\n",
    "    universe = json.loads(universe)"
   ]
  },
  {
   "cell_type": "code",
   "execution_count": 6,
   "id": "16620c48",
   "metadata": {
    "execution": {
     "iopub.execute_input": "2025-07-30T20:06:45.919458Z",
     "iopub.status.busy": "2025-07-30T20:06:45.918861Z",
     "iopub.status.idle": "2025-07-30T20:06:45.961521Z",
     "shell.execute_reply": "2025-07-30T20:06:45.960702Z"
    },
    "papermill": {
     "duration": 0.062905,
     "end_time": "2025-07-30T20:06:45.963143",
     "exception": false,
     "start_time": "2025-07-30T20:06:45.900238",
     "status": "completed"
    },
    "tags": []
   },
   "outputs": [],
   "source": [
    "# Auto-reload the custom package\n",
    "%load_ext autoreload\n",
    "%autoreload 1\n",
    "%aimport fairness_multiverse"
   ]
  },
  {
   "cell_type": "code",
   "execution_count": 7,
   "id": "01c5c9f3",
   "metadata": {
    "execution": {
     "iopub.execute_input": "2025-07-30T20:06:46.001339Z",
     "iopub.status.busy": "2025-07-30T20:06:46.000740Z",
     "iopub.status.idle": "2025-07-30T20:06:47.815889Z",
     "shell.execute_reply": "2025-07-30T20:06:47.814903Z"
    },
    "papermill": {
     "duration": 1.835874,
     "end_time": "2025-07-30T20:06:47.817833",
     "exception": false,
     "start_time": "2025-07-30T20:06:45.981959",
     "status": "completed"
    },
    "tags": []
   },
   "outputs": [],
   "source": [
    "from fairness_multiverse.universe import UniverseAnalysis\n",
    "\n",
    "universe_analysis = UniverseAnalysis(\n",
    "    run_no = run_no,\n",
    "    universe_id = universe_id,\n",
    "    universe = universe,\n",
    "    output_dir=output_dir,\n",
    ")"
   ]
  },
  {
   "cell_type": "code",
   "execution_count": 8,
   "id": "106241f5",
   "metadata": {
    "execution": {
     "iopub.execute_input": "2025-07-30T20:06:47.856503Z",
     "iopub.status.busy": "2025-07-30T20:06:47.855791Z",
     "iopub.status.idle": "2025-07-30T20:06:47.862331Z",
     "shell.execute_reply": "2025-07-30T20:06:47.861319Z"
    },
    "papermill": {
     "duration": 0.027259,
     "end_time": "2025-07-30T20:06:47.863828",
     "exception": false,
     "start_time": "2025-07-30T20:06:47.836569",
     "status": "completed"
    },
    "tags": []
   },
   "outputs": [
    {
     "name": "stdout",
     "output_type": "stream",
     "text": [
      "Using Seed: 2023\n"
     ]
    }
   ],
   "source": [
    "import numpy as np\n",
    "parsed_seed = int(seed)\n",
    "np.random.seed(parsed_seed)\n",
    "print(f\"Using Seed: {parsed_seed}\")"
   ]
  },
  {
   "cell_type": "markdown",
   "id": "e0ebdc57",
   "metadata": {
    "papermill": {
     "duration": 0.01799,
     "end_time": "2025-07-30T20:06:47.901144",
     "exception": false,
     "start_time": "2025-07-30T20:06:47.883154",
     "status": "completed"
    },
    "tags": []
   },
   "source": [
    "# Loading Data"
   ]
  },
  {
   "cell_type": "markdown",
   "id": "681925a3",
   "metadata": {
    "papermill": {
     "duration": 0.017858,
     "end_time": "2025-07-30T20:06:47.937023",
     "exception": false,
     "start_time": "2025-07-30T20:06:47.919165",
     "status": "completed"
    },
    "tags": []
   },
   "source": [
    "Load siab_train, siab_test, siab_calib and/or \n",
    "load siab_train_features, siab_train_labels"
   ]
  },
  {
   "cell_type": "code",
   "execution_count": 9,
   "id": "f0496b8a",
   "metadata": {
    "execution": {
     "iopub.execute_input": "2025-07-30T20:06:47.974862Z",
     "iopub.status.busy": "2025-07-30T20:06:47.974224Z",
     "iopub.status.idle": "2025-07-30T20:06:58.671388Z",
     "shell.execute_reply": "2025-07-30T20:06:58.670404Z"
    },
    "papermill": {
     "duration": 10.717521,
     "end_time": "2025-07-30T20:06:58.672688",
     "exception": false,
     "start_time": "2025-07-30T20:06:47.955167",
     "status": "completed"
    },
    "tags": []
   },
   "outputs": [
    {
     "name": "stdout",
     "output_type": "stream",
     "text": [
      "Loading SIAB data from cache: data/siab_cached.csv.gz\n"
     ]
    },
    {
     "name": "stdout",
     "output_type": "stream",
     "text": [
      "(643690, 164)\n"
     ]
    }
   ],
   "source": [
    "from pathlib import Path\n",
    "import pandas as pd\n",
    "\n",
    "# File paths\n",
    "raw_file = Path(\"data/raw/siab.csv\")\n",
    "cache_file = Path(\"data/siab_cached.csv.gz\")\n",
    "\n",
    "# Ensure cache directory exists\n",
    "cache_file.parent.mkdir(parents=True, exist_ok=True)\n",
    "\n",
    "# Load with simple caching\n",
    "if cache_file.exists():\n",
    "    print(f\"Loading SIAB data from cache: {cache_file}\")\n",
    "    siab = pd.read_csv(cache_file, compression='gzip')\n",
    "else:\n",
    "    print(f\"Cache not found. Reading raw SIAB data: {raw_file}\")\n",
    "    siab = pd.read_csv(raw_file)\n",
    "    siab.to_csv(cache_file, index=False, compression='gzip')\n",
    "    print(f\"Cached SIAB data to: {cache_file}\")\n",
    "\n",
    "# Now use `siab` DataFrame as needed\n",
    "print(siab.shape)"
   ]
  },
  {
   "cell_type": "code",
   "execution_count": 10,
   "id": "db0ca512-5f53-4dba-abdb-a2888bca41ba",
   "metadata": {
    "execution": {
     "iopub.execute_input": "2025-07-30T20:06:58.697345Z",
     "iopub.status.busy": "2025-07-30T20:06:58.696735Z",
     "iopub.status.idle": "2025-07-30T20:06:58.701344Z",
     "shell.execute_reply": "2025-07-30T20:06:58.700634Z"
    },
    "papermill": {
     "duration": 0.017279,
     "end_time": "2025-07-30T20:06:58.702789",
     "exception": false,
     "start_time": "2025-07-30T20:06:58.685510",
     "status": "completed"
    },
    "tags": []
   },
   "outputs": [],
   "source": [
    "#siab"
   ]
  },
  {
   "cell_type": "code",
   "execution_count": 11,
   "id": "a0edb063",
   "metadata": {
    "execution": {
     "iopub.execute_input": "2025-07-30T20:06:58.725821Z",
     "iopub.status.busy": "2025-07-30T20:06:58.725453Z",
     "iopub.status.idle": "2025-07-30T20:06:58.729697Z",
     "shell.execute_reply": "2025-07-30T20:06:58.728900Z"
    },
    "papermill": {
     "duration": 0.016619,
     "end_time": "2025-07-30T20:06:58.731099",
     "exception": false,
     "start_time": "2025-07-30T20:06:58.714480",
     "status": "completed"
    },
    "tags": []
   },
   "outputs": [],
   "source": [
    "#import pandas as pd\n",
    "#\n",
    "#X_train = pd.read_csv(\"./data/X_train.csv\")\n",
    "#y_train = pd.read_csv(\"./data/y_train.csv\")"
   ]
  },
  {
   "cell_type": "code",
   "execution_count": 12,
   "id": "63d08085",
   "metadata": {
    "execution": {
     "iopub.execute_input": "2025-07-30T20:06:58.754257Z",
     "iopub.status.busy": "2025-07-30T20:06:58.753727Z",
     "iopub.status.idle": "2025-07-30T20:06:58.758094Z",
     "shell.execute_reply": "2025-07-30T20:06:58.757334Z"
    },
    "papermill": {
     "duration": 0.016876,
     "end_time": "2025-07-30T20:06:58.759484",
     "exception": false,
     "start_time": "2025-07-30T20:06:58.742608",
     "status": "completed"
    },
    "tags": []
   },
   "outputs": [],
   "source": [
    "#X_test = pd.read_csv(\"./data/X_test.csv\")\n",
    "#y_true = pd.read_csv(\"./data/y_test.csv\")"
   ]
  },
  {
   "cell_type": "code",
   "execution_count": 13,
   "id": "98a8d0fa-1d3d-4ed8-bb2c-281470e24add",
   "metadata": {
    "execution": {
     "iopub.execute_input": "2025-07-30T20:06:58.782528Z",
     "iopub.status.busy": "2025-07-30T20:06:58.781982Z",
     "iopub.status.idle": "2025-07-30T20:06:58.786356Z",
     "shell.execute_reply": "2025-07-30T20:06:58.785549Z"
    },
    "papermill": {
     "duration": 0.016869,
     "end_time": "2025-07-30T20:06:58.787820",
     "exception": false,
     "start_time": "2025-07-30T20:06:58.770951",
     "status": "completed"
    },
    "tags": []
   },
   "outputs": [],
   "source": [
    "# Calibration data for conformal\n",
    "#X_calib = pd.read_csv(\"./data/X_calib.csv\")\n",
    "#y_calib = pd.read_csv(\"./data/y_calib.csv\")"
   ]
  },
  {
   "cell_type": "markdown",
   "id": "997051c5-15bd-4b69-9786-c3001a3ce484",
   "metadata": {
    "papermill": {
     "duration": 0.010348,
     "end_time": "2025-07-30T20:06:58.809716",
     "exception": false,
     "start_time": "2025-07-30T20:06:58.799368",
     "status": "completed"
    },
    "tags": []
   },
   "source": [
    "# Splitting Data and Setting Training Data Size"
   ]
  },
  {
   "cell_type": "code",
   "execution_count": 14,
   "id": "e993b61f-042d-41a6-8c81-f55681f86335",
   "metadata": {
    "execution": {
     "iopub.execute_input": "2025-07-30T20:06:58.832205Z",
     "iopub.status.busy": "2025-07-30T20:06:58.831498Z",
     "iopub.status.idle": "2025-07-30T20:06:58.841493Z",
     "shell.execute_reply": "2025-07-30T20:06:58.840697Z"
    },
    "papermill": {
     "duration": 0.022736,
     "end_time": "2025-07-30T20:06:58.842844",
     "exception": false,
     "start_time": "2025-07-30T20:06:58.820108",
     "status": "completed"
    },
    "tags": []
   },
   "outputs": [],
   "source": [
    "def sample_by_year_size(df,\n",
    "                        training_year: str,\n",
    "                        training_size: str,\n",
    "                        random_state: int = 42):\n",
    "    # --- parse training_year into a list of int years ---\n",
    "    if \"_\" in training_year:\n",
    "        start_str, end_str = training_year.split(\"_\", 1)\n",
    "        start = int(start_str)\n",
    "        end   = int(end_str) if len(end_str) == 4 else (int(end_str) + (start // 100)*100)\n",
    "        years = list(range(start, end + 1))\n",
    "    else:\n",
    "        years = [int(training_year)]\n",
    "\n",
    "    df = df[df[\"year\"].isin(years)].reset_index(drop=True)\n",
    "\n",
    "    # --- map training_size to total number of samples ---\n",
    "    total_map = {\"25k\": 25_000, \"5k\": 5_000, \"1k\": 1_000}\n",
    "    if training_size not in total_map:\n",
    "        return df  # e.g. \"all\"\n",
    "\n",
    "    total_samples = total_map[training_size]\n",
    "    n_years       = len(years)\n",
    "    base          = total_samples // n_years\n",
    "    remainder     = total_samples % n_years\n",
    "\n",
    "    # --- build a dict: year -> how many to sample ---\n",
    "    # give +1 to the first `remainder` years in ascending order\n",
    "    quotas = {\n",
    "        year: base + (1 if idx < remainder else 0)\n",
    "        for idx, year in enumerate(sorted(years))\n",
    "    }\n",
    "\n",
    "    # --- sample per‐year according to the quota dict ---\n",
    "    sampled = (\n",
    "        df\n",
    "        .groupby(\"year\", group_keys=False)\n",
    "        .apply(lambda grp: grp.sample(\n",
    "            n=min(len(grp), quotas[grp.name]),\n",
    "            random_state=random_state))\n",
    "        .reset_index(drop=True)\n",
    "    )\n",
    "\n",
    "    return sampled"
   ]
  },
  {
   "cell_type": "code",
   "execution_count": 15,
   "id": "c0ccd338-0e02-41f3-a09d-f56f9266e3fb",
   "metadata": {
    "execution": {
     "iopub.execute_input": "2025-07-30T20:06:58.866087Z",
     "iopub.status.busy": "2025-07-30T20:06:58.865736Z",
     "iopub.status.idle": "2025-07-30T20:06:58.869884Z",
     "shell.execute_reply": "2025-07-30T20:06:58.869087Z"
    },
    "papermill": {
     "duration": 0.016559,
     "end_time": "2025-07-30T20:06:58.871286",
     "exception": false,
     "start_time": "2025-07-30T20:06:58.854727",
     "status": "completed"
    },
    "tags": []
   },
   "outputs": [],
   "source": [
    "#universe[\"training_size\"]"
   ]
  },
  {
   "cell_type": "code",
   "execution_count": 16,
   "id": "ca707fd7-8047-4acd-bfa5-66248fbbf8e6",
   "metadata": {
    "execution": {
     "iopub.execute_input": "2025-07-30T20:06:58.894585Z",
     "iopub.status.busy": "2025-07-30T20:06:58.894072Z",
     "iopub.status.idle": "2025-07-30T20:06:58.898453Z",
     "shell.execute_reply": "2025-07-30T20:06:58.897666Z"
    },
    "papermill": {
     "duration": 0.017109,
     "end_time": "2025-07-30T20:06:58.899751",
     "exception": false,
     "start_time": "2025-07-30T20:06:58.882642",
     "status": "completed"
    },
    "tags": []
   },
   "outputs": [],
   "source": [
    "#universe[\"training_year\"]"
   ]
  },
  {
   "cell_type": "code",
   "execution_count": 17,
   "id": "aea9c6ef-6f46-42c8-85eb-5a62025c1508",
   "metadata": {
    "execution": {
     "iopub.execute_input": "2025-07-30T20:06:58.923038Z",
     "iopub.status.busy": "2025-07-30T20:06:58.922531Z",
     "iopub.status.idle": "2025-07-30T20:06:59.178525Z",
     "shell.execute_reply": "2025-07-30T20:06:59.177779Z"
    },
    "papermill": {
     "duration": 0.268635,
     "end_time": "2025-07-30T20:06:59.179987",
     "exception": false,
     "start_time": "2025-07-30T20:06:58.911352",
     "status": "completed"
    },
    "tags": []
   },
   "outputs": [],
   "source": [
    "siab_train = sample_by_year_size(siab,\n",
    "                               training_year=universe[\"training_year\"],\n",
    "                               training_size=universe[\"training_size\"])"
   ]
  },
  {
   "cell_type": "code",
   "execution_count": 18,
   "id": "8d3afb32-789d-442c-8d5d-9f5aa8dd2eed",
   "metadata": {
    "execution": {
     "iopub.execute_input": "2025-07-30T20:06:59.202828Z",
     "iopub.status.busy": "2025-07-30T20:06:59.202510Z",
     "iopub.status.idle": "2025-07-30T20:06:59.206683Z",
     "shell.execute_reply": "2025-07-30T20:06:59.205801Z"
    },
    "papermill": {
     "duration": 0.016877,
     "end_time": "2025-07-30T20:06:59.208023",
     "exception": false,
     "start_time": "2025-07-30T20:06:59.191146",
     "status": "completed"
    },
    "tags": []
   },
   "outputs": [],
   "source": [
    "#siab_train.shape"
   ]
  },
  {
   "cell_type": "code",
   "execution_count": 19,
   "id": "d582db68-1a4c-47fb-84fc-08518dc1975a",
   "metadata": {
    "execution": {
     "iopub.execute_input": "2025-07-30T20:06:59.241882Z",
     "iopub.status.busy": "2025-07-30T20:06:59.241416Z",
     "iopub.status.idle": "2025-07-30T20:06:59.245815Z",
     "shell.execute_reply": "2025-07-30T20:06:59.245022Z"
    },
    "papermill": {
     "duration": 0.021633,
     "end_time": "2025-07-30T20:06:59.247221",
     "exception": false,
     "start_time": "2025-07-30T20:06:59.225588",
     "status": "completed"
    },
    "tags": []
   },
   "outputs": [],
   "source": [
    "#display(siab_train.groupby(\"year\").size())"
   ]
  },
  {
   "cell_type": "code",
   "execution_count": 20,
   "id": "a561edb4-d032-42cb-8256-22eac1111c64",
   "metadata": {
    "execution": {
     "iopub.execute_input": "2025-07-30T20:06:59.271607Z",
     "iopub.status.busy": "2025-07-30T20:06:59.270902Z",
     "iopub.status.idle": "2025-07-30T20:06:59.474245Z",
     "shell.execute_reply": "2025-07-30T20:06:59.473511Z"
    },
    "papermill": {
     "duration": 0.216368,
     "end_time": "2025-07-30T20:06:59.475685",
     "exception": false,
     "start_time": "2025-07-30T20:06:59.259317",
     "status": "completed"
    },
    "tags": []
   },
   "outputs": [],
   "source": [
    "#siab_train = siab_s[siab_s.year < 2015]\n",
    "siab_calib = siab[siab.year == 2015]\n",
    "siab_test = siab[siab.year == 2016]"
   ]
  },
  {
   "cell_type": "code",
   "execution_count": 21,
   "id": "472de16f-c3db-4916-846b-1f0de9cf1746",
   "metadata": {
    "execution": {
     "iopub.execute_input": "2025-07-30T20:06:59.498411Z",
     "iopub.status.busy": "2025-07-30T20:06:59.498098Z",
     "iopub.status.idle": "2025-07-30T20:06:59.510689Z",
     "shell.execute_reply": "2025-07-30T20:06:59.509719Z"
    },
    "papermill": {
     "duration": 0.025244,
     "end_time": "2025-07-30T20:06:59.512144",
     "exception": false,
     "start_time": "2025-07-30T20:06:59.486900",
     "status": "completed"
    },
    "tags": []
   },
   "outputs": [],
   "source": [
    "X_train = siab_train.iloc[:,4:164]\n",
    "y_train = siab_train.iloc[:, [3]]"
   ]
  },
  {
   "cell_type": "code",
   "execution_count": 22,
   "id": "828c96af-f43a-4ed6-ba47-8ac73a47d56c",
   "metadata": {
    "execution": {
     "iopub.execute_input": "2025-07-30T20:06:59.536701Z",
     "iopub.status.busy": "2025-07-30T20:06:59.536228Z",
     "iopub.status.idle": "2025-07-30T20:06:59.582867Z",
     "shell.execute_reply": "2025-07-30T20:06:59.582034Z"
    },
    "papermill": {
     "duration": 0.059845,
     "end_time": "2025-07-30T20:06:59.584322",
     "exception": false,
     "start_time": "2025-07-30T20:06:59.524477",
     "status": "completed"
    },
    "tags": []
   },
   "outputs": [],
   "source": [
    "X_calib = siab_calib.iloc[:,4:164]\n",
    "y_calib = siab_calib.iloc[:, [3]]"
   ]
  },
  {
   "cell_type": "code",
   "execution_count": 23,
   "id": "c34be9c3-6bd6-476e-acd3-845840e303be",
   "metadata": {
    "execution": {
     "iopub.execute_input": "2025-07-30T20:06:59.608565Z",
     "iopub.status.busy": "2025-07-30T20:06:59.608180Z",
     "iopub.status.idle": "2025-07-30T20:06:59.655156Z",
     "shell.execute_reply": "2025-07-30T20:06:59.654122Z"
    },
    "papermill": {
     "duration": 0.060114,
     "end_time": "2025-07-30T20:06:59.656676",
     "exception": false,
     "start_time": "2025-07-30T20:06:59.596562",
     "status": "completed"
    },
    "tags": []
   },
   "outputs": [],
   "source": [
    "X_test = siab_test.iloc[:,4:164]\n",
    "y_true = siab_test.iloc[:, [3]]"
   ]
  },
  {
   "cell_type": "markdown",
   "id": "9901737e-04df-44f0-9100-f5ad144ed040",
   "metadata": {
    "papermill": {
     "duration": 0.010433,
     "end_time": "2025-07-30T20:06:59.679646",
     "exception": false,
     "start_time": "2025-07-30T20:06:59.669213",
     "status": "completed"
    },
    "tags": []
   },
   "source": [
    "# Splitting Data and Setting Training Data Size OLD VERSION"
   ]
  },
  {
   "cell_type": "code",
   "execution_count": 24,
   "id": "acbc8f7d-8fc8-4e86-8c59-5dcb0f58384b",
   "metadata": {
    "execution": {
     "iopub.execute_input": "2025-07-30T20:06:59.701906Z",
     "iopub.status.busy": "2025-07-30T20:06:59.701420Z",
     "iopub.status.idle": "2025-07-30T20:06:59.706581Z",
     "shell.execute_reply": "2025-07-30T20:06:59.705778Z"
    },
    "papermill": {
     "duration": 0.018128,
     "end_time": "2025-07-30T20:06:59.708170",
     "exception": false,
     "start_time": "2025-07-30T20:06:59.690042",
     "status": "completed"
    },
    "tags": []
   },
   "outputs": [],
   "source": [
    "#def sample_by_year(df, training_size, random_state=42):\n",
    "#    if training_size == \"2014\":\n",
    "#        return df[df[\"year\"] == 2014].reset_index(drop=True)\n",
    "#    \n",
    "#    size_map = {\n",
    "#        \"25k\": 5000,\n",
    "#        \"5k\": 1000,\n",
    "#        \"1k\": 200\n",
    "#    }\n",
    "#\n",
    "#    if training_size not in size_map:\n",
    "#        return df.reset_index(drop=True)  # use all data\n",
    "#\n",
    "#    n_per_year = size_map[training_size]\n",
    "#    grouped = df.groupby(\"year\")\n",
    "#    sampled = grouped.apply(lambda x: x.sample(n=min(n_per_year, len(x)), random_state=random_state))\n",
    "#    return sampled.reset_index(drop=True)"
   ]
  },
  {
   "cell_type": "code",
   "execution_count": 25,
   "id": "6d931f52-beaf-43ff-9e78-9d44a448d54e",
   "metadata": {
    "execution": {
     "iopub.execute_input": "2025-07-30T20:06:59.731830Z",
     "iopub.status.busy": "2025-07-30T20:06:59.731293Z",
     "iopub.status.idle": "2025-07-30T20:06:59.735806Z",
     "shell.execute_reply": "2025-07-30T20:06:59.734992Z"
    },
    "papermill": {
     "duration": 0.017424,
     "end_time": "2025-07-30T20:06:59.737251",
     "exception": false,
     "start_time": "2025-07-30T20:06:59.719827",
     "status": "completed"
    },
    "tags": []
   },
   "outputs": [],
   "source": [
    "#siab_s = sample_by_year(siab, universe[\"training_size\"])"
   ]
  },
  {
   "cell_type": "code",
   "execution_count": 26,
   "id": "5db0a40e-a4e2-4920-be85-b12ae061d70d",
   "metadata": {
    "execution": {
     "iopub.execute_input": "2025-07-30T20:06:59.760944Z",
     "iopub.status.busy": "2025-07-30T20:06:59.760447Z",
     "iopub.status.idle": "2025-07-30T20:06:59.764774Z",
     "shell.execute_reply": "2025-07-30T20:06:59.763992Z"
    },
    "papermill": {
     "duration": 0.017116,
     "end_time": "2025-07-30T20:06:59.766078",
     "exception": false,
     "start_time": "2025-07-30T20:06:59.748962",
     "status": "completed"
    },
    "tags": []
   },
   "outputs": [],
   "source": [
    "#display(siab_s.groupby(\"year\").size())"
   ]
  },
  {
   "cell_type": "code",
   "execution_count": 27,
   "id": "e6c733c5",
   "metadata": {
    "execution": {
     "iopub.execute_input": "2025-07-30T20:06:59.789710Z",
     "iopub.status.busy": "2025-07-30T20:06:59.789200Z",
     "iopub.status.idle": "2025-07-30T20:06:59.878459Z",
     "shell.execute_reply": "2025-07-30T20:06:59.877719Z"
    },
    "papermill": {
     "duration": 0.102058,
     "end_time": "2025-07-30T20:06:59.879918",
     "exception": false,
     "start_time": "2025-07-30T20:06:59.777860",
     "status": "completed"
    },
    "tags": []
   },
   "outputs": [],
   "source": [
    "# Auxiliary data needed downstream in the pipeline\n",
    "\n",
    "org_train = X_train.copy()\n",
    "org_test = X_test.copy()\n",
    "org_calib = X_calib.copy()"
   ]
  },
  {
   "cell_type": "code",
   "execution_count": 28,
   "id": "1466abac-c6da-4492-a62f-4240ae3783af",
   "metadata": {
    "execution": {
     "iopub.execute_input": "2025-07-30T20:06:59.904043Z",
     "iopub.status.busy": "2025-07-30T20:06:59.903317Z",
     "iopub.status.idle": "2025-07-30T20:06:59.908513Z",
     "shell.execute_reply": "2025-07-30T20:06:59.907683Z"
    },
    "papermill": {
     "duration": 0.018099,
     "end_time": "2025-07-30T20:06:59.909809",
     "exception": false,
     "start_time": "2025-07-30T20:06:59.891710",
     "status": "completed"
    },
    "tags": []
   },
   "outputs": [],
   "source": [
    "# put in other script?\n",
    "# Group sizes\n",
    "\n",
    "#def calculate_percentages(df, df_name):\n",
    "#    total_entries = len(df)\n",
    "#\n",
    "#    female_pct = (df['frau1'] == 1).mean() * 100\n",
    "#    non_german_pct = ((df['maxdeutsch1'] == 0) & (df['maxdeutsch.Missing.'] == 0)).mean() * 100\n",
    "#    non_german_male_pct = ((df['frau1'] == 0) & (df['maxdeutsch1'] == 0) & (df['maxdeutsch.Missing.'] == 0)).mean() * 100\n",
    "#    non_german_female_pct = ((df['frau1'] == 1) & (df['maxdeutsch1'] == 0) & (df['maxdeutsch.Missing.'] == 0)).mean() * 100\n",
    "#\n",
    "#    print(f\"--- {df_name} ---\")\n",
    "#    print(f\"Female: {female_pct:.2f}%\")\n",
    "#    print(f\"Non-German: {non_german_pct:.2f}%\")\n",
    "#    print(f\"Non-German Male: {non_german_male_pct:.2f}%\")\n",
    "#    print(f\"Non-German Female: {non_german_female_pct:.2f}%\\n\")\n",
    "#\n",
    "## Calculate for each DataFrame\n",
    "#calculate_percentages(siab_calib, \"siab_calib\")\n",
    "#calculate_percentages(siab_test, \"siab_test\")\n",
    "#calculate_percentages(siab_train, \"siab_train\")"
   ]
  },
  {
   "cell_type": "markdown",
   "id": "0a4a1b33",
   "metadata": {
    "papermill": {
     "duration": 0.010687,
     "end_time": "2025-07-30T20:06:59.932593",
     "exception": false,
     "start_time": "2025-07-30T20:06:59.921906",
     "status": "completed"
    },
    "tags": []
   },
   "source": [
    "# Preprocessing Data"
   ]
  },
  {
   "cell_type": "code",
   "execution_count": 29,
   "id": "ca879031",
   "metadata": {
    "execution": {
     "iopub.execute_input": "2025-07-30T20:06:59.955536Z",
     "iopub.status.busy": "2025-07-30T20:06:59.955056Z",
     "iopub.status.idle": "2025-07-30T20:06:59.960290Z",
     "shell.execute_reply": "2025-07-30T20:06:59.959443Z"
    },
    "papermill": {
     "duration": 0.018514,
     "end_time": "2025-07-30T20:06:59.961786",
     "exception": false,
     "start_time": "2025-07-30T20:06:59.943272",
     "status": "completed"
    },
    "tags": []
   },
   "outputs": [],
   "source": [
    "# EXCLUDE PROTECTED FEATURES\n",
    "# ----------------------\n",
    "# \"exclude_features\": \"none\", # \"nationality\", \"sex\", \"nationality-sex\"\n",
    "\n",
    "excluded_features = universe[\"exclude_features\"].split(\"-\") # split, e.g.: \"nationality-sex\" -> [\"nationality\", \"sex\"]\n",
    "excluded_features_dictionary = {\n",
    "    \"nationality\": [\"maxdeutsch1\", \"maxdeutsch.Missing.\"],\n",
    "    \"sex\": [\"frau1\"],\n",
    "    \"age\": [\"age\"],\n",
    "}\n"
   ]
  },
  {
   "cell_type": "code",
   "execution_count": 30,
   "id": "b745ac60",
   "metadata": {
    "execution": {
     "iopub.execute_input": "2025-07-30T20:06:59.986986Z",
     "iopub.status.busy": "2025-07-30T20:06:59.986331Z",
     "iopub.status.idle": "2025-07-30T20:06:59.990992Z",
     "shell.execute_reply": "2025-07-30T20:06:59.990348Z"
    },
    "papermill": {
     "duration": 0.017929,
     "end_time": "2025-07-30T20:06:59.992394",
     "exception": false,
     "start_time": "2025-07-30T20:06:59.974465",
     "status": "completed"
    },
    "tags": []
   },
   "outputs": [],
   "source": [
    "# Code nice names to column names\n",
    "\n",
    "excluded_features_columns = [\n",
    "    excluded_features_dictionary[f] for f in excluded_features if len(f) > 0 and f != \"none\"\n",
    "]"
   ]
  },
  {
   "cell_type": "code",
   "execution_count": 31,
   "id": "f84f73a2",
   "metadata": {
    "execution": {
     "iopub.execute_input": "2025-07-30T20:07:00.016781Z",
     "iopub.status.busy": "2025-07-30T20:07:00.016226Z",
     "iopub.status.idle": "2025-07-30T20:07:00.021617Z",
     "shell.execute_reply": "2025-07-30T20:07:00.020879Z"
    },
    "papermill": {
     "duration": 0.018541,
     "end_time": "2025-07-30T20:07:00.023017",
     "exception": false,
     "start_time": "2025-07-30T20:07:00.004476",
     "status": "completed"
    },
    "tags": []
   },
   "outputs": [],
   "source": [
    "from utils import flatten_once\n",
    "\n",
    "excluded_features_columns = flatten_once(excluded_features_columns)"
   ]
  },
  {
   "cell_type": "code",
   "execution_count": 32,
   "id": "884dea22",
   "metadata": {
    "execution": {
     "iopub.execute_input": "2025-07-30T20:07:00.047105Z",
     "iopub.status.busy": "2025-07-30T20:07:00.046600Z",
     "iopub.status.idle": "2025-07-30T20:07:00.060234Z",
     "shell.execute_reply": "2025-07-30T20:07:00.059274Z"
    },
    "papermill": {
     "duration": 0.026689,
     "end_time": "2025-07-30T20:07:00.061673",
     "exception": false,
     "start_time": "2025-07-30T20:07:00.034984",
     "status": "completed"
    },
    "tags": []
   },
   "outputs": [
    {
     "name": "stdout",
     "output_type": "stream",
     "text": [
      "Dropping features: ['age']\n"
     ]
    }
   ],
   "source": [
    "if len(excluded_features_columns) > 0:\n",
    "    print(f\"Dropping features: {excluded_features_columns}\")\n",
    "    X_train.drop(excluded_features_columns, axis=1, inplace=True)"
   ]
  },
  {
   "cell_type": "code",
   "execution_count": 33,
   "id": "95ab8b16",
   "metadata": {
    "execution": {
     "iopub.execute_input": "2025-07-30T20:07:00.086707Z",
     "iopub.status.busy": "2025-07-30T20:07:00.086259Z",
     "iopub.status.idle": "2025-07-30T20:07:00.134468Z",
     "shell.execute_reply": "2025-07-30T20:07:00.133548Z"
    },
    "papermill": {
     "duration": 0.061281,
     "end_time": "2025-07-30T20:07:00.135773",
     "exception": false,
     "start_time": "2025-07-30T20:07:00.074492",
     "status": "completed"
    },
    "tags": []
   },
   "outputs": [
    {
     "name": "stdout",
     "output_type": "stream",
     "text": [
      "Dropping features: ['age']\n"
     ]
    }
   ],
   "source": [
    "if len(excluded_features_columns) > 0:\n",
    "    print(f\"Dropping features: {excluded_features_columns}\")\n",
    "    X_test.drop(excluded_features_columns, axis=1, inplace=True)"
   ]
  },
  {
   "cell_type": "code",
   "execution_count": 34,
   "id": "1853aaf5-fb9f-46cb-a2b5-8ea4ae2237e4",
   "metadata": {
    "execution": {
     "iopub.execute_input": "2025-07-30T20:07:00.160817Z",
     "iopub.status.busy": "2025-07-30T20:07:00.160115Z",
     "iopub.status.idle": "2025-07-30T20:07:00.207865Z",
     "shell.execute_reply": "2025-07-30T20:07:00.207133Z"
    },
    "papermill": {
     "duration": 0.061001,
     "end_time": "2025-07-30T20:07:00.209371",
     "exception": false,
     "start_time": "2025-07-30T20:07:00.148370",
     "status": "completed"
    },
    "tags": []
   },
   "outputs": [
    {
     "name": "stdout",
     "output_type": "stream",
     "text": [
      "Dropping features: ['age']\n"
     ]
    }
   ],
   "source": [
    "if len(excluded_features_columns) > 0:\n",
    "    print(f\"Dropping features: {excluded_features_columns}\")\n",
    "    X_calib.drop(excluded_features_columns, axis=1, inplace=True)"
   ]
  },
  {
   "cell_type": "code",
   "execution_count": 35,
   "id": "6727d079-03e5-481e-9d38-292a90b7a0a8",
   "metadata": {
    "execution": {
     "iopub.execute_input": "2025-07-30T20:07:00.234634Z",
     "iopub.status.busy": "2025-07-30T20:07:00.234162Z",
     "iopub.status.idle": "2025-07-30T20:07:00.238447Z",
     "shell.execute_reply": "2025-07-30T20:07:00.237660Z"
    },
    "papermill": {
     "duration": 0.017883,
     "end_time": "2025-07-30T20:07:00.239803",
     "exception": false,
     "start_time": "2025-07-30T20:07:00.221920",
     "status": "completed"
    },
    "tags": []
   },
   "outputs": [],
   "source": [
    "# SPLIT & STRATIFY DATA\n",
    "# ----------------------"
   ]
  },
  {
   "cell_type": "code",
   "execution_count": 36,
   "id": "76c4dc6d",
   "metadata": {
    "execution": {
     "iopub.execute_input": "2025-07-30T20:07:00.264776Z",
     "iopub.status.busy": "2025-07-30T20:07:00.264233Z",
     "iopub.status.idle": "2025-07-30T20:07:00.268918Z",
     "shell.execute_reply": "2025-07-30T20:07:00.268177Z"
    },
    "papermill": {
     "duration": 0.018097,
     "end_time": "2025-07-30T20:07:00.270350",
     "exception": false,
     "start_time": "2025-07-30T20:07:00.252253",
     "status": "completed"
    },
    "tags": []
   },
   "outputs": [],
   "source": [
    "# EXCLUDE CERTAIN SUBGROUPS\n",
    "# ----------------------\n",
    "\n",
    "mode = universe.get(\"exclude_subgroups\", \"keep-all\") \n",
    "# Fetches the exclude_subgroups setting from the universe dict.\n",
    "# Defaults to \"keep-all\" if the key is missing."
   ]
  },
  {
   "cell_type": "code",
   "execution_count": 37,
   "id": "21994072",
   "metadata": {
    "execution": {
     "iopub.execute_input": "2025-07-30T20:07:00.295375Z",
     "iopub.status.busy": "2025-07-30T20:07:00.294752Z",
     "iopub.status.idle": "2025-07-30T20:07:00.300315Z",
     "shell.execute_reply": "2025-07-30T20:07:00.299526Z"
    },
    "papermill": {
     "duration": 0.01913,
     "end_time": "2025-07-30T20:07:00.301702",
     "exception": false,
     "start_time": "2025-07-30T20:07:00.282572",
     "status": "completed"
    },
    "tags": []
   },
   "outputs": [],
   "source": [
    "if mode == \"keep-all\":\n",
    "    keep_mask = pd.Series(True, index=org_train.index)\n",
    "\n",
    "# org_train contains the original feature columns from features_org (in Simson)\n",
    "# features_org contains unprocessed features, for me X_train at beginning ???\n",
    "# For keep-all, creates a boolean Series (keep_mask) of all True, so no rows are removed.\n",
    "\n",
    "elif mode == \"drop-non-german\":\n",
    "    keep_mask = org_train[\"maxdeutsch1\"] == 1 # ??? what about missing values?\n",
    "\n",
    "else:\n",
    "    raise ValueError(f\"Unsupported mode for exclude_subgroups: {mode}\")\n"
   ]
  },
  {
   "cell_type": "code",
   "execution_count": 38,
   "id": "71651440",
   "metadata": {
    "execution": {
     "iopub.execute_input": "2025-07-30T20:07:00.326483Z",
     "iopub.status.busy": "2025-07-30T20:07:00.325972Z",
     "iopub.status.idle": "2025-07-30T20:07:00.331470Z",
     "shell.execute_reply": "2025-07-30T20:07:00.330756Z"
    },
    "papermill": {
     "duration": 0.018876,
     "end_time": "2025-07-30T20:07:00.332878",
     "exception": false,
     "start_time": "2025-07-30T20:07:00.314002",
     "status": "completed"
    },
    "tags": []
   },
   "outputs": [],
   "source": [
    "n_drop = (~keep_mask).sum() # Calculates how many rows are set to be dropped\n",
    "if n_drop > 0:\n",
    "    pct = n_drop / len(keep_mask) * 100\n",
    "    print(f\"Dropping {n_drop} rows ({pct:.2f}%) where mode='{mode}'\")"
   ]
  },
  {
   "cell_type": "code",
   "execution_count": 39,
   "id": "5fb8eee5",
   "metadata": {
    "execution": {
     "iopub.execute_input": "2025-07-30T20:07:00.357481Z",
     "iopub.status.busy": "2025-07-30T20:07:00.357083Z",
     "iopub.status.idle": "2025-07-30T20:07:00.370575Z",
     "shell.execute_reply": "2025-07-30T20:07:00.369679Z"
    },
    "papermill": {
     "duration": 0.027207,
     "end_time": "2025-07-30T20:07:00.372401",
     "exception": false,
     "start_time": "2025-07-30T20:07:00.345194",
     "status": "completed"
    },
    "tags": []
   },
   "outputs": [],
   "source": [
    "X_train = X_train[keep_mask]"
   ]
  },
  {
   "cell_type": "code",
   "execution_count": 40,
   "id": "b202bb3a",
   "metadata": {
    "execution": {
     "iopub.execute_input": "2025-07-30T20:07:00.397774Z",
     "iopub.status.busy": "2025-07-30T20:07:00.397457Z",
     "iopub.status.idle": "2025-07-30T20:07:00.402748Z",
     "shell.execute_reply": "2025-07-30T20:07:00.401993Z"
    },
    "papermill": {
     "duration": 0.018902,
     "end_time": "2025-07-30T20:07:00.404164",
     "exception": false,
     "start_time": "2025-07-30T20:07:00.385262",
     "status": "completed"
    },
    "tags": []
   },
   "outputs": [],
   "source": [
    "y_train = y_train[keep_mask]"
   ]
  },
  {
   "cell_type": "markdown",
   "id": "493e2ac3",
   "metadata": {
    "papermill": {
     "duration": 0.011372,
     "end_time": "2025-07-30T20:07:00.428245",
     "exception": false,
     "start_time": "2025-07-30T20:07:00.416873",
     "status": "completed"
    },
    "tags": []
   },
   "source": [
    "# Model Training"
   ]
  },
  {
   "cell_type": "code",
   "execution_count": 41,
   "id": "679e1268",
   "metadata": {
    "execution": {
     "iopub.execute_input": "2025-07-30T20:07:00.452398Z",
     "iopub.status.busy": "2025-07-30T20:07:00.451997Z",
     "iopub.status.idle": "2025-07-30T20:07:00.523851Z",
     "shell.execute_reply": "2025-07-30T20:07:00.523139Z"
    },
    "papermill": {
     "duration": 0.085596,
     "end_time": "2025-07-30T20:07:00.525353",
     "exception": false,
     "start_time": "2025-07-30T20:07:00.439757",
     "status": "completed"
    },
    "tags": []
   },
   "outputs": [],
   "source": [
    "from sklearn.linear_model import LogisticRegression\n",
    "from sklearn.ensemble import GradientBoostingClassifier, RandomForestClassifier\n",
    "\n",
    "if (universe[\"model\"] == \"logreg\"):\n",
    "    model = LogisticRegression() #penalty=\"none\") #, solver=\"newton-cg\", max_iter=1) # include random_state=19 ?\n",
    "elif (universe[\"model\"] == \"penalized_logreg\"):\n",
    "    model = LogisticRegression(penalty=\"l2\", C=1.0) #, solver=\"newton-cg\", max_iter=1)\n",
    "elif (universe[\"model\"] == \"rf\"):\n",
    "    model = RandomForestClassifier(n_estimators=100, n_jobs=-1)\n",
    "elif (universe[\"model\"] == \"gbm\"):\n",
    "    model = GradientBoostingClassifier()\n",
    "elif (universe[\"model\"] == \"elasticnet\"):\n",
    "    model = LogisticRegression(penalty = 'elasticnet', solver = 'saga', l1_ratio = 0.5, max_iter=5000) # which solver to use?\n",
    "else:\n",
    "    raise \"Unsupported universe.model\""
   ]
  },
  {
   "cell_type": "code",
   "execution_count": 42,
   "id": "0cc8f744",
   "metadata": {
    "execution": {
     "iopub.execute_input": "2025-07-30T20:07:00.550447Z",
     "iopub.status.busy": "2025-07-30T20:07:00.549679Z",
     "iopub.status.idle": "2025-07-30T20:07:00.555057Z",
     "shell.execute_reply": "2025-07-30T20:07:00.554133Z"
    },
    "papermill": {
     "duration": 0.019083,
     "end_time": "2025-07-30T20:07:00.556370",
     "exception": false,
     "start_time": "2025-07-30T20:07:00.537287",
     "status": "completed"
    },
    "tags": []
   },
   "outputs": [],
   "source": [
    "import numpy as np\n",
    "from sklearn.pipeline import Pipeline\n",
    "from sklearn.preprocessing import StandardScaler\n",
    "\n",
    "model = Pipeline([\n",
    "    #(\"continuous_processor\", continuous_processor),\n",
    "    #(\"categorical_preprocessor\", categorical_preprocessor),\n",
    "    (\"scale\", StandardScaler() if universe[\"scale\"] == \"scale\" else None), \n",
    "    (\"model\", model),\n",
    "])"
   ]
  },
  {
   "cell_type": "code",
   "execution_count": 43,
   "id": "9442c04d",
   "metadata": {
    "execution": {
     "iopub.execute_input": "2025-07-30T20:07:00.581469Z",
     "iopub.status.busy": "2025-07-30T20:07:00.581121Z",
     "iopub.status.idle": "2025-07-30T20:11:33.185535Z",
     "shell.execute_reply": "2025-07-30T20:11:33.184101Z"
    },
    "papermill": {
     "duration": 272.626028,
     "end_time": "2025-07-30T20:11:33.195021",
     "exception": false,
     "start_time": "2025-07-30T20:07:00.568993",
     "status": "completed"
    },
    "tags": []
   },
   "outputs": [
    {
     "data": {
      "text/html": [
       "<style>#sk-container-id-1 {color: black;background-color: white;}#sk-container-id-1 pre{padding: 0;}#sk-container-id-1 div.sk-toggleable {background-color: white;}#sk-container-id-1 label.sk-toggleable__label {cursor: pointer;display: block;width: 100%;margin-bottom: 0;padding: 0.3em;box-sizing: border-box;text-align: center;}#sk-container-id-1 label.sk-toggleable__label-arrow:before {content: \"▸\";float: left;margin-right: 0.25em;color: #696969;}#sk-container-id-1 label.sk-toggleable__label-arrow:hover:before {color: black;}#sk-container-id-1 div.sk-estimator:hover label.sk-toggleable__label-arrow:before {color: black;}#sk-container-id-1 div.sk-toggleable__content {max-height: 0;max-width: 0;overflow: hidden;text-align: left;background-color: #f0f8ff;}#sk-container-id-1 div.sk-toggleable__content pre {margin: 0.2em;color: black;border-radius: 0.25em;background-color: #f0f8ff;}#sk-container-id-1 input.sk-toggleable__control:checked~div.sk-toggleable__content {max-height: 200px;max-width: 100%;overflow: auto;}#sk-container-id-1 input.sk-toggleable__control:checked~label.sk-toggleable__label-arrow:before {content: \"▾\";}#sk-container-id-1 div.sk-estimator input.sk-toggleable__control:checked~label.sk-toggleable__label {background-color: #d4ebff;}#sk-container-id-1 div.sk-label input.sk-toggleable__control:checked~label.sk-toggleable__label {background-color: #d4ebff;}#sk-container-id-1 input.sk-hidden--visually {border: 0;clip: rect(1px 1px 1px 1px);clip: rect(1px, 1px, 1px, 1px);height: 1px;margin: -1px;overflow: hidden;padding: 0;position: absolute;width: 1px;}#sk-container-id-1 div.sk-estimator {font-family: monospace;background-color: #f0f8ff;border: 1px dotted black;border-radius: 0.25em;box-sizing: border-box;margin-bottom: 0.5em;}#sk-container-id-1 div.sk-estimator:hover {background-color: #d4ebff;}#sk-container-id-1 div.sk-parallel-item::after {content: \"\";width: 100%;border-bottom: 1px solid gray;flex-grow: 1;}#sk-container-id-1 div.sk-label:hover label.sk-toggleable__label {background-color: #d4ebff;}#sk-container-id-1 div.sk-serial::before {content: \"\";position: absolute;border-left: 1px solid gray;box-sizing: border-box;top: 0;bottom: 0;left: 50%;z-index: 0;}#sk-container-id-1 div.sk-serial {display: flex;flex-direction: column;align-items: center;background-color: white;padding-right: 0.2em;padding-left: 0.2em;position: relative;}#sk-container-id-1 div.sk-item {position: relative;z-index: 1;}#sk-container-id-1 div.sk-parallel {display: flex;align-items: stretch;justify-content: center;background-color: white;position: relative;}#sk-container-id-1 div.sk-item::before, #sk-container-id-1 div.sk-parallel-item::before {content: \"\";position: absolute;border-left: 1px solid gray;box-sizing: border-box;top: 0;bottom: 0;left: 50%;z-index: -1;}#sk-container-id-1 div.sk-parallel-item {display: flex;flex-direction: column;z-index: 1;position: relative;background-color: white;}#sk-container-id-1 div.sk-parallel-item:first-child::after {align-self: flex-end;width: 50%;}#sk-container-id-1 div.sk-parallel-item:last-child::after {align-self: flex-start;width: 50%;}#sk-container-id-1 div.sk-parallel-item:only-child::after {width: 0;}#sk-container-id-1 div.sk-dashed-wrapped {border: 1px dashed gray;margin: 0 0.4em 0.5em 0.4em;box-sizing: border-box;padding-bottom: 0.4em;background-color: white;}#sk-container-id-1 div.sk-label label {font-family: monospace;font-weight: bold;display: inline-block;line-height: 1.2em;}#sk-container-id-1 div.sk-label-container {text-align: center;}#sk-container-id-1 div.sk-container {/* jupyter's `normalize.less` sets `[hidden] { display: none; }` but bootstrap.min.css set `[hidden] { display: none !important; }` so we also need the `!important` here to be able to override the default hidden behavior on the sphinx rendered scikit-learn.org. See: https://github.com/scikit-learn/scikit-learn/issues/21755 */display: inline-block !important;position: relative;}#sk-container-id-1 div.sk-text-repr-fallback {display: none;}</style><div id=\"sk-container-id-1\" class=\"sk-top-container\"><div class=\"sk-text-repr-fallback\"><pre>Pipeline(steps=[(&#x27;scale&#x27;, None),\n",
       "                (&#x27;model&#x27;,\n",
       "                 LogisticRegression(l1_ratio=0.5, max_iter=5000,\n",
       "                                    penalty=&#x27;elasticnet&#x27;, solver=&#x27;saga&#x27;))])</pre><b>In a Jupyter environment, please rerun this cell to show the HTML representation or trust the notebook. <br />On GitHub, the HTML representation is unable to render, please try loading this page with nbviewer.org.</b></div><div class=\"sk-container\" hidden><div class=\"sk-item sk-dashed-wrapped\"><div class=\"sk-label-container\"><div class=\"sk-label sk-toggleable\"><input class=\"sk-toggleable__control sk-hidden--visually\" id=\"sk-estimator-id-1\" type=\"checkbox\" ><label for=\"sk-estimator-id-1\" class=\"sk-toggleable__label sk-toggleable__label-arrow\">Pipeline</label><div class=\"sk-toggleable__content\"><pre>Pipeline(steps=[(&#x27;scale&#x27;, None),\n",
       "                (&#x27;model&#x27;,\n",
       "                 LogisticRegression(l1_ratio=0.5, max_iter=5000,\n",
       "                                    penalty=&#x27;elasticnet&#x27;, solver=&#x27;saga&#x27;))])</pre></div></div></div><div class=\"sk-serial\"><div class=\"sk-item\"><div class=\"sk-estimator sk-toggleable\"><input class=\"sk-toggleable__control sk-hidden--visually\" id=\"sk-estimator-id-2\" type=\"checkbox\" ><label for=\"sk-estimator-id-2\" class=\"sk-toggleable__label sk-toggleable__label-arrow\">None</label><div class=\"sk-toggleable__content\"><pre>None</pre></div></div></div><div class=\"sk-item\"><div class=\"sk-estimator sk-toggleable\"><input class=\"sk-toggleable__control sk-hidden--visually\" id=\"sk-estimator-id-3\" type=\"checkbox\" ><label for=\"sk-estimator-id-3\" class=\"sk-toggleable__label sk-toggleable__label-arrow\">LogisticRegression</label><div class=\"sk-toggleable__content\"><pre>LogisticRegression(l1_ratio=0.5, max_iter=5000, penalty=&#x27;elasticnet&#x27;,\n",
       "                   solver=&#x27;saga&#x27;)</pre></div></div></div></div></div></div></div>"
      ],
      "text/plain": [
       "Pipeline(steps=[('scale', None),\n",
       "                ('model',\n",
       "                 LogisticRegression(l1_ratio=0.5, max_iter=5000,\n",
       "                                    penalty='elasticnet', solver='saga'))])"
      ]
     },
     "execution_count": 43,
     "metadata": {},
     "output_type": "execute_result"
    }
   ],
   "source": [
    "model.fit(X_train, y_train.values.ravel())"
   ]
  },
  {
   "cell_type": "code",
   "execution_count": 44,
   "id": "af59f8c0",
   "metadata": {
    "execution": {
     "iopub.execute_input": "2025-07-30T20:11:33.258984Z",
     "iopub.status.busy": "2025-07-30T20:11:33.258371Z",
     "iopub.status.idle": "2025-07-30T20:11:33.266358Z",
     "shell.execute_reply": "2025-07-30T20:11:33.265209Z"
    },
    "papermill": {
     "duration": 0.048411,
     "end_time": "2025-07-30T20:11:33.270091",
     "exception": false,
     "start_time": "2025-07-30T20:11:33.221680",
     "status": "completed"
    },
    "tags": []
   },
   "outputs": [],
   "source": [
    "from fairness_multiverse.universe import predict_w_threshold"
   ]
  },
  {
   "cell_type": "code",
   "execution_count": 45,
   "id": "a7cf2e16",
   "metadata": {
    "execution": {
     "iopub.execute_input": "2025-07-30T20:11:33.375787Z",
     "iopub.status.busy": "2025-07-30T20:11:33.374662Z",
     "iopub.status.idle": "2025-07-30T20:11:33.559540Z",
     "shell.execute_reply": "2025-07-30T20:11:33.558636Z"
    },
    "papermill": {
     "duration": 0.2475,
     "end_time": "2025-07-30T20:11:33.561567",
     "exception": false,
     "start_time": "2025-07-30T20:11:33.314067",
     "status": "completed"
    },
    "tags": []
   },
   "outputs": [
    {
     "data": {
      "text/plain": [
       "0.8622673057630141"
      ]
     },
     "execution_count": 45,
     "metadata": {},
     "output_type": "execute_result"
    }
   ],
   "source": [
    "probs_test = model.predict_proba(X_test)\n",
    "\n",
    "'''\n",
    "Below code returns a boolean array (or binary 0/1 array depending on how it’s used) where each element \n",
    "is True if the probability of class 1 is greater than or equal to the threshold, and False otherwise.\n",
    "'''\n",
    "y_pred_default = predict_w_threshold(probs_test, 0.5)\n",
    "\n",
    "from sklearn.metrics import accuracy_score\n",
    "\n",
    "# Naive prediction\n",
    "accuracy_score(y_true = y_true, y_pred = y_pred_default)"
   ]
  },
  {
   "cell_type": "code",
   "execution_count": 46,
   "id": "081964c3",
   "metadata": {
    "execution": {
     "iopub.execute_input": "2025-07-30T20:11:33.631360Z",
     "iopub.status.busy": "2025-07-30T20:11:33.630814Z",
     "iopub.status.idle": "2025-07-30T20:11:33.719984Z",
     "shell.execute_reply": "2025-07-30T20:11:33.718423Z"
    },
    "papermill": {
     "duration": 0.117938,
     "end_time": "2025-07-30T20:11:33.721643",
     "exception": false,
     "start_time": "2025-07-30T20:11:33.603705",
     "status": "completed"
    },
    "tags": []
   },
   "outputs": [
    {
     "data": {
      "text/plain": [
       "array([0, 0, 0, ..., 0, 0, 0])"
      ]
     },
     "execution_count": 46,
     "metadata": {},
     "output_type": "execute_result"
    }
   ],
   "source": [
    "model.predict(X_test)"
   ]
  },
  {
   "cell_type": "markdown",
   "id": "56c9705b",
   "metadata": {
    "papermill": {
     "duration": 0.027846,
     "end_time": "2025-07-30T20:11:33.776562",
     "exception": false,
     "start_time": "2025-07-30T20:11:33.748716",
     "status": "completed"
    },
    "tags": []
   },
   "source": [
    "# Conformal Prediction"
   ]
  },
  {
   "cell_type": "code",
   "execution_count": 47,
   "id": "160ec6ff",
   "metadata": {
    "execution": {
     "iopub.execute_input": "2025-07-30T20:11:33.825337Z",
     "iopub.status.busy": "2025-07-30T20:11:33.824724Z",
     "iopub.status.idle": "2025-07-30T20:11:33.830367Z",
     "shell.execute_reply": "2025-07-30T20:11:33.829339Z"
    },
    "papermill": {
     "duration": 0.027834,
     "end_time": "2025-07-30T20:11:33.832356",
     "exception": false,
     "start_time": "2025-07-30T20:11:33.804522",
     "status": "completed"
    },
    "tags": []
   },
   "outputs": [],
   "source": [
    "# Miscoverage level for conformal prediction (10% allowed error rate => 90% target coverage)\n",
    "alpha = 0.1"
   ]
  },
  {
   "cell_type": "code",
   "execution_count": 48,
   "id": "eadf4555-3dd3-440e-8e35-f82a4ad9f855",
   "metadata": {
    "execution": {
     "iopub.execute_input": "2025-07-30T20:11:33.885380Z",
     "iopub.status.busy": "2025-07-30T20:11:33.885027Z",
     "iopub.status.idle": "2025-07-30T20:11:33.988995Z",
     "shell.execute_reply": "2025-07-30T20:11:33.987914Z"
    },
    "papermill": {
     "duration": 0.133319,
     "end_time": "2025-07-30T20:11:33.990881",
     "exception": false,
     "start_time": "2025-07-30T20:11:33.857562",
     "status": "completed"
    },
    "tags": []
   },
   "outputs": [],
   "source": [
    "probs_calib = model.predict_proba(X_calib)"
   ]
  },
  {
   "cell_type": "code",
   "execution_count": 49,
   "id": "2ed93547-6d5d-4983-9b36-1ecb300da49a",
   "metadata": {
    "execution": {
     "iopub.execute_input": "2025-07-30T20:11:34.072241Z",
     "iopub.status.busy": "2025-07-30T20:11:34.071215Z",
     "iopub.status.idle": "2025-07-30T20:11:34.078142Z",
     "shell.execute_reply": "2025-07-30T20:11:34.077000Z"
    },
    "papermill": {
     "duration": 0.065375,
     "end_time": "2025-07-30T20:11:34.080963",
     "exception": false,
     "start_time": "2025-07-30T20:11:34.015588",
     "status": "completed"
    },
    "tags": []
   },
   "outputs": [],
   "source": [
    "y_calib = y_calib.values.ravel().astype(int)"
   ]
  },
  {
   "cell_type": "code",
   "execution_count": 50,
   "id": "65d1320d-f588-4b38-9072-62af1ae97f7d",
   "metadata": {
    "execution": {
     "iopub.execute_input": "2025-07-30T20:11:34.159289Z",
     "iopub.status.busy": "2025-07-30T20:11:34.158889Z",
     "iopub.status.idle": "2025-07-30T20:11:34.167376Z",
     "shell.execute_reply": "2025-07-30T20:11:34.166256Z"
    },
    "papermill": {
     "duration": 0.064014,
     "end_time": "2025-07-30T20:11:34.171996",
     "exception": false,
     "start_time": "2025-07-30T20:11:34.107982",
     "status": "completed"
    },
    "tags": []
   },
   "outputs": [],
   "source": [
    "from fairness_multiverse.conformal import compute_nc_scores\n",
    "\n",
    "# Compute nonconformity scores on calibration set (1 - probability of true class)\n",
    "nc_scores = compute_nc_scores(probs_calib, y_calib)"
   ]
  },
  {
   "cell_type": "code",
   "execution_count": 51,
   "id": "df3b8ca3-53b7-43d5-9667-7c85da7aeda2",
   "metadata": {
    "execution": {
     "iopub.execute_input": "2025-07-30T20:11:34.253323Z",
     "iopub.status.busy": "2025-07-30T20:11:34.252349Z",
     "iopub.status.idle": "2025-07-30T20:11:34.258621Z",
     "shell.execute_reply": "2025-07-30T20:11:34.257598Z"
    },
    "papermill": {
     "duration": 0.032647,
     "end_time": "2025-07-30T20:11:34.261039",
     "exception": false,
     "start_time": "2025-07-30T20:11:34.228392",
     "status": "completed"
    },
    "tags": []
   },
   "outputs": [],
   "source": [
    "from fairness_multiverse.conformal import find_threshold\n",
    "\n",
    "# Find conformal threshold q_hat for the given alpha (split conformal method)\n",
    "q_hat = find_threshold(nc_scores, alpha)"
   ]
  },
  {
   "cell_type": "code",
   "execution_count": 52,
   "id": "4d29e6c1-0ef6-4aa4-b8fe-4fe79b0d033a",
   "metadata": {
    "execution": {
     "iopub.execute_input": "2025-07-30T20:11:34.332377Z",
     "iopub.status.busy": "2025-07-30T20:11:34.331952Z",
     "iopub.status.idle": "2025-07-30T20:11:34.339998Z",
     "shell.execute_reply": "2025-07-30T20:11:34.338896Z"
    },
    "papermill": {
     "duration": 0.054669,
     "end_time": "2025-07-30T20:11:34.341713",
     "exception": false,
     "start_time": "2025-07-30T20:11:34.287044",
     "status": "completed"
    },
    "tags": []
   },
   "outputs": [
    {
     "data": {
      "text/plain": [
       "0.6505494524636761"
      ]
     },
     "execution_count": 52,
     "metadata": {},
     "output_type": "execute_result"
    }
   ],
   "source": [
    "q_hat"
   ]
  },
  {
   "cell_type": "code",
   "execution_count": 53,
   "id": "92460794-cdac-4be2-ba28-f28c0515a6fb",
   "metadata": {
    "execution": {
     "iopub.execute_input": "2025-07-30T20:11:34.412736Z",
     "iopub.status.busy": "2025-07-30T20:11:34.412291Z",
     "iopub.status.idle": "2025-07-30T20:11:35.163469Z",
     "shell.execute_reply": "2025-07-30T20:11:35.162744Z"
    },
    "papermill": {
     "duration": 0.776876,
     "end_time": "2025-07-30T20:11:35.165622",
     "exception": false,
     "start_time": "2025-07-30T20:11:34.388746",
     "status": "completed"
    },
    "tags": []
   },
   "outputs": [],
   "source": [
    "from fairness_multiverse.conformal import predict_conformal_sets\n",
    "\n",
    "# Generate prediction sets for each test example\n",
    "pred_sets = predict_conformal_sets(model, X_test, q_hat)"
   ]
  },
  {
   "cell_type": "code",
   "execution_count": 54,
   "id": "d90c9a65-e6db-4f5d-80cd-e68fb7e46829",
   "metadata": {
    "execution": {
     "iopub.execute_input": "2025-07-30T20:11:35.237262Z",
     "iopub.status.busy": "2025-07-30T20:11:35.236871Z",
     "iopub.status.idle": "2025-07-30T20:11:35.243022Z",
     "shell.execute_reply": "2025-07-30T20:11:35.241873Z"
    },
    "papermill": {
     "duration": 0.062241,
     "end_time": "2025-07-30T20:11:35.253239",
     "exception": false,
     "start_time": "2025-07-30T20:11:35.190998",
     "status": "completed"
    },
    "tags": []
   },
   "outputs": [],
   "source": [
    "y_true = y_true.squeeze()"
   ]
  },
  {
   "cell_type": "code",
   "execution_count": 55,
   "id": "3a58a54a-1e68-46b9-927a-df01f18aebc8",
   "metadata": {
    "execution": {
     "iopub.execute_input": "2025-07-30T20:11:35.339253Z",
     "iopub.status.busy": "2025-07-30T20:11:35.338811Z",
     "iopub.status.idle": "2025-07-30T20:11:36.395665Z",
     "shell.execute_reply": "2025-07-30T20:11:36.394778Z"
    },
    "papermill": {
     "duration": 1.089097,
     "end_time": "2025-07-30T20:11:36.397652",
     "exception": false,
     "start_time": "2025-07-30T20:11:35.308555",
     "status": "completed"
    },
    "tags": []
   },
   "outputs": [],
   "source": [
    "from fairness_multiverse.conformal import evaluate_sets\n",
    "\n",
    "# Evaluate coverage and average set size on test data\n",
    "metrics = evaluate_sets(pred_sets, y_true)"
   ]
  },
  {
   "cell_type": "markdown",
   "id": "2b569c12-9aaa-4c88-98c9-bbcd0cf3ebb8",
   "metadata": {
    "papermill": {
     "duration": 0.016635,
     "end_time": "2025-07-30T20:11:36.479620",
     "exception": false,
     "start_time": "2025-07-30T20:11:36.462985",
     "status": "completed"
    },
    "tags": []
   },
   "source": [
    "# CP Metrics"
   ]
  },
  {
   "cell_type": "code",
   "execution_count": 56,
   "id": "5ce0a5cb-201f-45a0-ade5-94c7f0bd6095",
   "metadata": {
    "execution": {
     "iopub.execute_input": "2025-07-30T20:11:36.511473Z",
     "iopub.status.busy": "2025-07-30T20:11:36.510478Z",
     "iopub.status.idle": "2025-07-30T20:11:36.518116Z",
     "shell.execute_reply": "2025-07-30T20:11:36.517243Z"
    },
    "papermill": {
     "duration": 0.02623,
     "end_time": "2025-07-30T20:11:36.519569",
     "exception": false,
     "start_time": "2025-07-30T20:11:36.493339",
     "status": "completed"
    },
    "tags": []
   },
   "outputs": [
    {
     "data": {
      "text/plain": [
       "{'coverage': 0.9144688440530598, 'avg_size': 1.249804926986958}"
      ]
     },
     "execution_count": 56,
     "metadata": {},
     "output_type": "execute_result"
    }
   ],
   "source": [
    "metrics"
   ]
  },
  {
   "cell_type": "code",
   "execution_count": 57,
   "id": "9b9a838d-31c9-430b-ae14-12baee460d17",
   "metadata": {
    "execution": {
     "iopub.execute_input": "2025-07-30T20:11:36.549573Z",
     "iopub.status.busy": "2025-07-30T20:11:36.549077Z",
     "iopub.status.idle": "2025-07-30T20:11:36.554510Z",
     "shell.execute_reply": "2025-07-30T20:11:36.553666Z"
    },
    "papermill": {
     "duration": 0.021363,
     "end_time": "2025-07-30T20:11:36.555935",
     "exception": false,
     "start_time": "2025-07-30T20:11:36.534572",
     "status": "completed"
    },
    "tags": []
   },
   "outputs": [],
   "source": [
    "example_universe = universe.copy()\n",
    "universe_training_year = example_universe.get(\"training_year\")\n",
    "universe_training_size = example_universe.get(\"training_size\")\n",
    "universe_scale = example_universe.get(\"scale\")\n",
    "universe_model = example_universe.get(\"model\")\n",
    "universe_exclude_features = example_universe.get(\"exclude_features\")\n",
    "universe_exclude_subgroups = example_universe.get(\"exclude_subgroups\")"
   ]
  },
  {
   "cell_type": "code",
   "execution_count": 58,
   "id": "f4b6a8ac-9dc0-4245-8a91-5b3b5999c4f9",
   "metadata": {
    "execution": {
     "iopub.execute_input": "2025-07-30T20:11:36.585021Z",
     "iopub.status.busy": "2025-07-30T20:11:36.584510Z",
     "iopub.status.idle": "2025-07-30T20:11:36.589986Z",
     "shell.execute_reply": "2025-07-30T20:11:36.589268Z"
    },
    "papermill": {
     "duration": 0.020912,
     "end_time": "2025-07-30T20:11:36.591424",
     "exception": false,
     "start_time": "2025-07-30T20:11:36.570512",
     "status": "completed"
    },
    "tags": []
   },
   "outputs": [],
   "source": [
    "cp_metrics_dict = {\n",
    "    \"universe_id\": [universe_id],\n",
    "    \"universe_training_year\": [universe_training_year],\n",
    "    \"universe_training_size\": [universe_training_size],\n",
    "    \"universe_scale\": [universe_scale],\n",
    "    \"universe_model\": [universe_model],\n",
    "    \"universe_exclude_features\": [universe_exclude_features],\n",
    "    \"universe_exclude_subgroups\": [universe_exclude_subgroups],\n",
    "    \"q_hat\": [q_hat],\n",
    "    \"coverage\": [metrics[\"coverage\"]],\n",
    "    \"avg_size\": [metrics[\"avg_size\"]],\n",
    "}"
   ]
  },
  {
   "cell_type": "code",
   "execution_count": 59,
   "id": "908acbb1-0371-4915-85ca-3fa520d2efe2",
   "metadata": {
    "execution": {
     "iopub.execute_input": "2025-07-30T20:11:36.622945Z",
     "iopub.status.busy": "2025-07-30T20:11:36.622486Z",
     "iopub.status.idle": "2025-07-30T20:11:36.630048Z",
     "shell.execute_reply": "2025-07-30T20:11:36.629078Z"
    },
    "papermill": {
     "duration": 0.025833,
     "end_time": "2025-07-30T20:11:36.631914",
     "exception": false,
     "start_time": "2025-07-30T20:11:36.606081",
     "status": "completed"
    },
    "tags": []
   },
   "outputs": [
    {
     "data": {
      "text/plain": [
       "{'universe_id': ['586b83af98d6eb18fb7c0460f21de287'],\n",
       " 'universe_training_year': ['2014'],\n",
       " 'universe_training_size': ['25k'],\n",
       " 'universe_scale': ['do-not-scale'],\n",
       " 'universe_model': ['elasticnet'],\n",
       " 'universe_exclude_features': ['age'],\n",
       " 'universe_exclude_subgroups': ['keep-all'],\n",
       " 'q_hat': [0.6505494524636761],\n",
       " 'coverage': [0.9144688440530598],\n",
       " 'avg_size': [1.249804926986958]}"
      ]
     },
     "execution_count": 59,
     "metadata": {},
     "output_type": "execute_result"
    }
   ],
   "source": [
    "cp_metrics_dict"
   ]
  },
  {
   "cell_type": "code",
   "execution_count": 60,
   "id": "33007efc-14e9-4ec6-97ac-56a455c82265",
   "metadata": {
    "execution": {
     "iopub.execute_input": "2025-07-30T20:11:36.690865Z",
     "iopub.status.busy": "2025-07-30T20:11:36.689993Z",
     "iopub.status.idle": "2025-07-30T20:11:36.696673Z",
     "shell.execute_reply": "2025-07-30T20:11:36.695609Z"
    },
    "papermill": {
     "duration": 0.039416,
     "end_time": "2025-07-30T20:11:36.698845",
     "exception": false,
     "start_time": "2025-07-30T20:11:36.659429",
     "status": "completed"
    },
    "tags": []
   },
   "outputs": [],
   "source": [
    "cp_metrics_df = pd.DataFrame(cp_metrics_dict)"
   ]
  },
  {
   "cell_type": "code",
   "execution_count": 61,
   "id": "db12611b-57b2-4910-b9d0-355adfd6e7bf",
   "metadata": {
    "execution": {
     "iopub.execute_input": "2025-07-30T20:11:36.755722Z",
     "iopub.status.busy": "2025-07-30T20:11:36.755292Z",
     "iopub.status.idle": "2025-07-30T20:11:36.776982Z",
     "shell.execute_reply": "2025-07-30T20:11:36.775853Z"
    },
    "papermill": {
     "duration": 0.051766,
     "end_time": "2025-07-30T20:11:36.778990",
     "exception": false,
     "start_time": "2025-07-30T20:11:36.727224",
     "status": "completed"
    },
    "tags": []
   },
   "outputs": [
    {
     "data": {
      "text/html": [
       "<div>\n",
       "<style scoped>\n",
       "    .dataframe tbody tr th:only-of-type {\n",
       "        vertical-align: middle;\n",
       "    }\n",
       "\n",
       "    .dataframe tbody tr th {\n",
       "        vertical-align: top;\n",
       "    }\n",
       "\n",
       "    .dataframe thead th {\n",
       "        text-align: right;\n",
       "    }\n",
       "</style>\n",
       "<table border=\"1\" class=\"dataframe\">\n",
       "  <thead>\n",
       "    <tr style=\"text-align: right;\">\n",
       "      <th></th>\n",
       "      <th>universe_id</th>\n",
       "      <th>universe_training_year</th>\n",
       "      <th>universe_training_size</th>\n",
       "      <th>universe_scale</th>\n",
       "      <th>universe_model</th>\n",
       "      <th>universe_exclude_features</th>\n",
       "      <th>universe_exclude_subgroups</th>\n",
       "      <th>q_hat</th>\n",
       "      <th>coverage</th>\n",
       "      <th>avg_size</th>\n",
       "    </tr>\n",
       "  </thead>\n",
       "  <tbody>\n",
       "    <tr>\n",
       "      <th>0</th>\n",
       "      <td>586b83af98d6eb18fb7c0460f21de287</td>\n",
       "      <td>2014</td>\n",
       "      <td>25k</td>\n",
       "      <td>do-not-scale</td>\n",
       "      <td>elasticnet</td>\n",
       "      <td>age</td>\n",
       "      <td>keep-all</td>\n",
       "      <td>0.650549</td>\n",
       "      <td>0.914469</td>\n",
       "      <td>1.249805</td>\n",
       "    </tr>\n",
       "  </tbody>\n",
       "</table>\n",
       "</div>"
      ],
      "text/plain": [
       "                        universe_id universe_training_year  \\\n",
       "0  586b83af98d6eb18fb7c0460f21de287                   2014   \n",
       "\n",
       "  universe_training_size universe_scale universe_model  \\\n",
       "0                    25k   do-not-scale     elasticnet   \n",
       "\n",
       "  universe_exclude_features universe_exclude_subgroups     q_hat  coverage  \\\n",
       "0                       age                   keep-all  0.650549  0.914469   \n",
       "\n",
       "   avg_size  \n",
       "0  1.249805  "
      ]
     },
     "execution_count": 61,
     "metadata": {},
     "output_type": "execute_result"
    }
   ],
   "source": [
    "cp_metrics_df"
   ]
  },
  {
   "cell_type": "code",
   "execution_count": 62,
   "id": "b7fbde55-a0a1-47e4-9af6-fe4a17fa8c61",
   "metadata": {
    "execution": {
     "iopub.execute_input": "2025-07-30T20:11:36.856502Z",
     "iopub.status.busy": "2025-07-30T20:11:36.856119Z",
     "iopub.status.idle": "2025-07-30T20:11:36.861203Z",
     "shell.execute_reply": "2025-07-30T20:11:36.860155Z"
    },
    "papermill": {
     "duration": 0.034709,
     "end_time": "2025-07-30T20:11:36.862977",
     "exception": false,
     "start_time": "2025-07-30T20:11:36.828268",
     "status": "completed"
    },
    "tags": []
   },
   "outputs": [],
   "source": [
    "# Conditional Coverage & looking at subgroups"
   ]
  },
  {
   "cell_type": "code",
   "execution_count": 63,
   "id": "027ae886-68dd-4141-96c7-805a5450e1ef",
   "metadata": {
    "execution": {
     "iopub.execute_input": "2025-07-30T20:11:36.919301Z",
     "iopub.status.busy": "2025-07-30T20:11:36.918888Z",
     "iopub.status.idle": "2025-07-30T20:11:37.369360Z",
     "shell.execute_reply": "2025-07-30T20:11:37.368327Z"
    },
    "papermill": {
     "duration": 0.479372,
     "end_time": "2025-07-30T20:11:37.371269",
     "exception": false,
     "start_time": "2025-07-30T20:11:36.891897",
     "status": "completed"
    },
    "tags": []
   },
   "outputs": [],
   "source": [
    "from fairness_multiverse.conformal import build_cp_groups\n",
    "\n",
    "cp_groups_df = build_cp_groups(pred_sets, y_true, X_test.index, org_test)\n",
    "#needs universe_id and setting"
   ]
  },
  {
   "cell_type": "code",
   "execution_count": 64,
   "id": "01d5802c-663a-4d1f-9d69-e036faaffbf7",
   "metadata": {
    "execution": {
     "iopub.execute_input": "2025-07-30T20:11:37.506093Z",
     "iopub.status.busy": "2025-07-30T20:11:37.505697Z",
     "iopub.status.idle": "2025-07-30T20:11:37.510801Z",
     "shell.execute_reply": "2025-07-30T20:11:37.509782Z"
    },
    "papermill": {
     "duration": 0.111472,
     "end_time": "2025-07-30T20:11:37.522250",
     "exception": false,
     "start_time": "2025-07-30T20:11:37.410778",
     "status": "completed"
    },
    "tags": []
   },
   "outputs": [],
   "source": [
    "#delete\n",
    "#cp_groups_df"
   ]
  },
  {
   "cell_type": "code",
   "execution_count": 65,
   "id": "fa424af1-d1eb-443d-b717-2d279ada8408",
   "metadata": {
    "execution": {
     "iopub.execute_input": "2025-07-30T20:11:37.624235Z",
     "iopub.status.busy": "2025-07-30T20:11:37.623771Z",
     "iopub.status.idle": "2025-07-30T20:11:37.628068Z",
     "shell.execute_reply": "2025-07-30T20:11:37.627256Z"
    },
    "papermill": {
     "duration": 0.057475,
     "end_time": "2025-07-30T20:11:37.629608",
     "exception": false,
     "start_time": "2025-07-30T20:11:37.572133",
     "status": "completed"
    },
    "tags": []
   },
   "outputs": [],
   "source": [
    "#delete\n",
    "#percentage = (cp_groups_df['nongerman_female'] == 1).mean() * 100\n",
    "#print(percentage)\n"
   ]
  },
  {
   "cell_type": "code",
   "execution_count": 66,
   "id": "6cbdab96-b2b2-45af-ad54-d0516db2e28d",
   "metadata": {
    "execution": {
     "iopub.execute_input": "2025-07-30T20:11:37.687679Z",
     "iopub.status.busy": "2025-07-30T20:11:37.687231Z",
     "iopub.status.idle": "2025-07-30T20:11:39.264726Z",
     "shell.execute_reply": "2025-07-30T20:11:39.263780Z"
    },
    "papermill": {
     "duration": 1.607867,
     "end_time": "2025-07-30T20:11:39.266662",
     "exception": false,
     "start_time": "2025-07-30T20:11:37.658795",
     "status": "completed"
    },
    "tags": []
   },
   "outputs": [],
   "source": [
    "# Define covered = 1 if true_label is in the predicted set\n",
    "cp_groups_df['covered'] = cp_groups_df.apply(\n",
    "    lambda r: int(r['true_label'] in r['pred_set']),\n",
    "    axis=1\n",
    ")"
   ]
  },
  {
   "cell_type": "code",
   "execution_count": 67,
   "id": "338ff529-1a6b-4b87-a931-8e4788d52aad",
   "metadata": {
    "execution": {
     "iopub.execute_input": "2025-07-30T20:11:39.321686Z",
     "iopub.status.busy": "2025-07-30T20:11:39.321040Z",
     "iopub.status.idle": "2025-07-30T20:11:39.329993Z",
     "shell.execute_reply": "2025-07-30T20:11:39.329030Z"
    },
    "papermill": {
     "duration": 0.038104,
     "end_time": "2025-07-30T20:11:39.331672",
     "exception": false,
     "start_time": "2025-07-30T20:11:39.293568",
     "status": "completed"
    },
    "tags": []
   },
   "outputs": [],
   "source": [
    "#cp_groups_df"
   ]
  },
  {
   "cell_type": "code",
   "execution_count": 68,
   "id": "90032e27-66df-4540-9169-4e89cfbaa758",
   "metadata": {
    "execution": {
     "iopub.execute_input": "2025-07-30T20:11:39.385153Z",
     "iopub.status.busy": "2025-07-30T20:11:39.384213Z",
     "iopub.status.idle": "2025-07-30T20:11:39.396452Z",
     "shell.execute_reply": "2025-07-30T20:11:39.395215Z"
    },
    "papermill": {
     "duration": 0.040689,
     "end_time": "2025-07-30T20:11:39.398303",
     "exception": false,
     "start_time": "2025-07-30T20:11:39.357614",
     "status": "completed"
    },
    "tags": []
   },
   "outputs": [],
   "source": [
    "subgroups = ['frau1','nongerman','nongerman_male','nongerman_female']\n",
    "\n",
    "# Conditional coverage for subgroup==1\n",
    "cond_coverage = {\n",
    "    g: cp_groups_df.loc[cp_groups_df[g]==1, 'covered'].mean()\n",
    "    for g in subgroups\n",
    "}"
   ]
  },
  {
   "cell_type": "code",
   "execution_count": 69,
   "id": "1e348fb1-b9c3-45bc-ba23-f016827a7e0d",
   "metadata": {
    "execution": {
     "iopub.execute_input": "2025-07-30T20:11:39.449949Z",
     "iopub.status.busy": "2025-07-30T20:11:39.449236Z",
     "iopub.status.idle": "2025-07-30T20:11:39.457148Z",
     "shell.execute_reply": "2025-07-30T20:11:39.456000Z"
    },
    "papermill": {
     "duration": 0.035134,
     "end_time": "2025-07-30T20:11:39.458957",
     "exception": false,
     "start_time": "2025-07-30T20:11:39.423823",
     "status": "completed"
    },
    "tags": []
   },
   "outputs": [
    {
     "data": {
      "text/plain": [
       "{'frau1': 0.914786359347621,\n",
       " 'nongerman': 0.9635659349912985,\n",
       " 'nongerman_male': 0.9693776456813474,\n",
       " 'nongerman_female': 0.9539493293591654}"
      ]
     },
     "execution_count": 69,
     "metadata": {},
     "output_type": "execute_result"
    }
   ],
   "source": [
    "cond_coverage"
   ]
  },
  {
   "cell_type": "code",
   "execution_count": 70,
   "id": "f5093324-c3dd-4d63-bc4c-8d945e5c8bbb",
   "metadata": {
    "execution": {
     "iopub.execute_input": "2025-07-30T20:11:39.511922Z",
     "iopub.status.busy": "2025-07-30T20:11:39.511136Z",
     "iopub.status.idle": "2025-07-30T20:11:39.519188Z",
     "shell.execute_reply": "2025-07-30T20:11:39.518209Z"
    },
    "papermill": {
     "duration": 0.035833,
     "end_time": "2025-07-30T20:11:39.520851",
     "exception": false,
     "start_time": "2025-07-30T20:11:39.485018",
     "status": "completed"
    },
    "tags": []
   },
   "outputs": [],
   "source": [
    "for subgroup, cov in cond_coverage.items():\n",
    "    cp_metrics_df[f\"cov_{subgroup}\"] = cov"
   ]
  },
  {
   "cell_type": "code",
   "execution_count": 71,
   "id": "6e872e10-dbe5-49e8-b554-5030c98ff75d",
   "metadata": {
    "execution": {
     "iopub.execute_input": "2025-07-30T20:11:39.573395Z",
     "iopub.status.busy": "2025-07-30T20:11:39.572767Z",
     "iopub.status.idle": "2025-07-30T20:11:39.592918Z",
     "shell.execute_reply": "2025-07-30T20:11:39.591790Z"
    },
    "papermill": {
     "duration": 0.048065,
     "end_time": "2025-07-30T20:11:39.594715",
     "exception": false,
     "start_time": "2025-07-30T20:11:39.546650",
     "status": "completed"
    },
    "tags": []
   },
   "outputs": [
    {
     "data": {
      "text/html": [
       "<div>\n",
       "<style scoped>\n",
       "    .dataframe tbody tr th:only-of-type {\n",
       "        vertical-align: middle;\n",
       "    }\n",
       "\n",
       "    .dataframe tbody tr th {\n",
       "        vertical-align: top;\n",
       "    }\n",
       "\n",
       "    .dataframe thead th {\n",
       "        text-align: right;\n",
       "    }\n",
       "</style>\n",
       "<table border=\"1\" class=\"dataframe\">\n",
       "  <thead>\n",
       "    <tr style=\"text-align: right;\">\n",
       "      <th></th>\n",
       "      <th>universe_id</th>\n",
       "      <th>universe_training_year</th>\n",
       "      <th>universe_training_size</th>\n",
       "      <th>universe_scale</th>\n",
       "      <th>universe_model</th>\n",
       "      <th>universe_exclude_features</th>\n",
       "      <th>universe_exclude_subgroups</th>\n",
       "      <th>q_hat</th>\n",
       "      <th>coverage</th>\n",
       "      <th>avg_size</th>\n",
       "      <th>cov_frau1</th>\n",
       "      <th>cov_nongerman</th>\n",
       "      <th>cov_nongerman_male</th>\n",
       "      <th>cov_nongerman_female</th>\n",
       "    </tr>\n",
       "  </thead>\n",
       "  <tbody>\n",
       "    <tr>\n",
       "      <th>0</th>\n",
       "      <td>586b83af98d6eb18fb7c0460f21de287</td>\n",
       "      <td>2014</td>\n",
       "      <td>25k</td>\n",
       "      <td>do-not-scale</td>\n",
       "      <td>elasticnet</td>\n",
       "      <td>age</td>\n",
       "      <td>keep-all</td>\n",
       "      <td>0.650549</td>\n",
       "      <td>0.914469</td>\n",
       "      <td>1.249805</td>\n",
       "      <td>0.914786</td>\n",
       "      <td>0.963566</td>\n",
       "      <td>0.969378</td>\n",
       "      <td>0.953949</td>\n",
       "    </tr>\n",
       "  </tbody>\n",
       "</table>\n",
       "</div>"
      ],
      "text/plain": [
       "                        universe_id universe_training_year  \\\n",
       "0  586b83af98d6eb18fb7c0460f21de287                   2014   \n",
       "\n",
       "  universe_training_size universe_scale universe_model  \\\n",
       "0                    25k   do-not-scale     elasticnet   \n",
       "\n",
       "  universe_exclude_features universe_exclude_subgroups     q_hat  coverage  \\\n",
       "0                       age                   keep-all  0.650549  0.914469   \n",
       "\n",
       "   avg_size  cov_frau1  cov_nongerman  cov_nongerman_male  \\\n",
       "0  1.249805   0.914786       0.963566            0.969378   \n",
       "\n",
       "   cov_nongerman_female  \n",
       "0              0.953949  "
      ]
     },
     "execution_count": 71,
     "metadata": {},
     "output_type": "execute_result"
    }
   ],
   "source": [
    "cp_metrics_df"
   ]
  },
  {
   "cell_type": "markdown",
   "id": "33774451",
   "metadata": {
    "papermill": {
     "duration": 0.025127,
     "end_time": "2025-07-30T20:11:39.645761",
     "exception": false,
     "start_time": "2025-07-30T20:11:39.620634",
     "status": "completed"
    },
    "tags": []
   },
   "source": [
    "# (Fairness) Metrics"
   ]
  },
  {
   "cell_type": "code",
   "execution_count": 72,
   "id": "debc5d62",
   "metadata": {
    "execution": {
     "iopub.execute_input": "2025-07-30T20:11:39.696616Z",
     "iopub.status.busy": "2025-07-30T20:11:39.695725Z",
     "iopub.status.idle": "2025-07-30T20:11:39.718465Z",
     "shell.execute_reply": "2025-07-30T20:11:39.717398Z"
    },
    "papermill": {
     "duration": 0.049343,
     "end_time": "2025-07-30T20:11:39.720108",
     "exception": false,
     "start_time": "2025-07-30T20:11:39.670765",
     "status": "completed"
    },
    "tags": []
   },
   "outputs": [],
   "source": [
    "# do I need to include maxdeutsch1.missing?\n",
    "\n",
    "import numpy as np\n",
    "\n",
    "colname_to_bin = \"maxdeutsch1\"\n",
    "majority_value = org_train[colname_to_bin].mode()[0]\n",
    "\n",
    "org_test[\"majmin\"] = np.where(org_test[colname_to_bin] == majority_value, \"majority\", \"minority\")"
   ]
  },
  {
   "cell_type": "code",
   "execution_count": 73,
   "id": "06a50de5",
   "metadata": {
    "execution": {
     "iopub.execute_input": "2025-07-30T20:11:39.774747Z",
     "iopub.status.busy": "2025-07-30T20:11:39.774094Z",
     "iopub.status.idle": "2025-07-30T20:11:42.575984Z",
     "shell.execute_reply": "2025-07-30T20:11:42.574783Z"
    },
    "papermill": {
     "duration": 2.831307,
     "end_time": "2025-07-30T20:11:42.577970",
     "exception": false,
     "start_time": "2025-07-30T20:11:39.746663",
     "status": "completed"
    },
    "tags": []
   },
   "outputs": [],
   "source": [
    "example_universe = universe.copy()\n",
    "example_universe[\"cutoff\"] = example_universe[\"cutoff\"][0]\n",
    "example_universe[\"eval_fairness_grouping\"] = example_universe[\"eval_fairness_grouping\"][0]\n",
    "fairness_dict, metric_frame = universe_analysis.compute_metrics(\n",
    "    example_universe,\n",
    "    y_pred_prob=probs_test,\n",
    "    y_test=y_true,\n",
    "    org_test=org_test,\n",
    ")"
   ]
  },
  {
   "cell_type": "markdown",
   "id": "f95d4e02",
   "metadata": {
    "papermill": {
     "duration": 0.024879,
     "end_time": "2025-07-30T20:11:42.630647",
     "exception": false,
     "start_time": "2025-07-30T20:11:42.605768",
     "status": "completed"
    },
    "tags": []
   },
   "source": [
    "# Overall"
   ]
  },
  {
   "cell_type": "markdown",
   "id": "bdee4871",
   "metadata": {
    "papermill": {
     "duration": 0.024709,
     "end_time": "2025-07-30T20:11:42.681350",
     "exception": false,
     "start_time": "2025-07-30T20:11:42.656641",
     "status": "completed"
    },
    "tags": []
   },
   "source": [
    "Fairness\n",
    "Main fairness target: Equalized Odds. Seems to be a better fit than equal opportunity, since we're not only interested in Y = 1. Seems to be a better fit than demographic parity, since we also care about accuracy, not just equal distribution of preds.\n",
    "\n",
    "Pick column for computation of fairness metrics\n",
    "\n",
    "Performance\n",
    "Overall performance measures, most interesting in relation to the measures split by group below"
   ]
  },
  {
   "cell_type": "code",
   "execution_count": 74,
   "id": "c4e067c6",
   "metadata": {
    "execution": {
     "iopub.execute_input": "2025-07-30T20:11:42.732494Z",
     "iopub.status.busy": "2025-07-30T20:11:42.731839Z",
     "iopub.status.idle": "2025-07-30T20:11:42.741305Z",
     "shell.execute_reply": "2025-07-30T20:11:42.740438Z"
    },
    "papermill": {
     "duration": 0.03679,
     "end_time": "2025-07-30T20:11:42.742801",
     "exception": false,
     "start_time": "2025-07-30T20:11:42.706011",
     "status": "completed"
    },
    "tags": []
   },
   "outputs": [
    {
     "data": {
      "text/plain": [
       "accuracy                   0.218939\n",
       "balanced accuracy          0.536474\n",
       "f1                         0.240420\n",
       "precision                  0.137344\n",
       "false positive rate        0.890642\n",
       "false negative rate        0.036409\n",
       "selection rate             0.900000\n",
       "count                  89710.000000\n",
       "dtype: float64"
      ]
     },
     "execution_count": 74,
     "metadata": {},
     "output_type": "execute_result"
    }
   ],
   "source": [
    "metric_frame.overall"
   ]
  },
  {
   "cell_type": "markdown",
   "id": "e968fe9d",
   "metadata": {
    "papermill": {
     "duration": 0.024563,
     "end_time": "2025-07-30T20:11:42.795077",
     "exception": false,
     "start_time": "2025-07-30T20:11:42.770514",
     "status": "completed"
    },
    "tags": []
   },
   "source": [
    "By Group"
   ]
  },
  {
   "cell_type": "code",
   "execution_count": 75,
   "id": "ec325bce",
   "metadata": {
    "execution": {
     "iopub.execute_input": "2025-07-30T20:11:42.848345Z",
     "iopub.status.busy": "2025-07-30T20:11:42.847434Z",
     "iopub.status.idle": "2025-07-30T20:11:42.864535Z",
     "shell.execute_reply": "2025-07-30T20:11:42.863387Z"
    },
    "papermill": {
     "duration": 0.044663,
     "end_time": "2025-07-30T20:11:42.866297",
     "exception": false,
     "start_time": "2025-07-30T20:11:42.821634",
     "status": "completed"
    },
    "tags": []
   },
   "outputs": [
    {
     "data": {
      "text/html": [
       "<div>\n",
       "<style scoped>\n",
       "    .dataframe tbody tr th:only-of-type {\n",
       "        vertical-align: middle;\n",
       "    }\n",
       "\n",
       "    .dataframe tbody tr th {\n",
       "        vertical-align: top;\n",
       "    }\n",
       "\n",
       "    .dataframe thead th {\n",
       "        text-align: right;\n",
       "    }\n",
       "</style>\n",
       "<table border=\"1\" class=\"dataframe\">\n",
       "  <thead>\n",
       "    <tr style=\"text-align: right;\">\n",
       "      <th></th>\n",
       "      <th>accuracy</th>\n",
       "      <th>balanced accuracy</th>\n",
       "      <th>f1</th>\n",
       "      <th>precision</th>\n",
       "      <th>false positive rate</th>\n",
       "      <th>false negative rate</th>\n",
       "      <th>selection rate</th>\n",
       "      <th>count</th>\n",
       "    </tr>\n",
       "    <tr>\n",
       "      <th>majmin</th>\n",
       "      <th></th>\n",
       "      <th></th>\n",
       "      <th></th>\n",
       "      <th></th>\n",
       "      <th></th>\n",
       "      <th></th>\n",
       "      <th></th>\n",
       "      <th></th>\n",
       "    </tr>\n",
       "  </thead>\n",
       "  <tbody>\n",
       "    <tr>\n",
       "      <th>majority</th>\n",
       "      <td>0.242461</td>\n",
       "      <td>0.545381</td>\n",
       "      <td>0.250318</td>\n",
       "      <td>0.143988</td>\n",
       "      <td>0.866350</td>\n",
       "      <td>0.042888</td>\n",
       "      <td>0.878343</td>\n",
       "      <td>69170.0</td>\n",
       "    </tr>\n",
       "    <tr>\n",
       "      <th>minority</th>\n",
       "      <td>0.139727</td>\n",
       "      <td>0.508854</td>\n",
       "      <td>0.209467</td>\n",
       "      <td>0.117144</td>\n",
       "      <td>0.970889</td>\n",
       "      <td>0.011402</td>\n",
       "      <td>0.972931</td>\n",
       "      <td>20540.0</td>\n",
       "    </tr>\n",
       "  </tbody>\n",
       "</table>\n",
       "</div>"
      ],
      "text/plain": [
       "          accuracy  balanced accuracy        f1  precision  \\\n",
       "majmin                                                       \n",
       "majority  0.242461           0.545381  0.250318   0.143988   \n",
       "minority  0.139727           0.508854  0.209467   0.117144   \n",
       "\n",
       "          false positive rate  false negative rate  selection rate    count  \n",
       "majmin                                                                       \n",
       "majority             0.866350             0.042888        0.878343  69170.0  \n",
       "minority             0.970889             0.011402        0.972931  20540.0  "
      ]
     },
     "execution_count": 75,
     "metadata": {},
     "output_type": "execute_result"
    }
   ],
   "source": [
    "metric_frame.by_group"
   ]
  },
  {
   "cell_type": "code",
   "execution_count": 76,
   "id": "a9ddbe63",
   "metadata": {
    "execution": {
     "iopub.execute_input": "2025-07-30T20:11:42.920879Z",
     "iopub.status.busy": "2025-07-30T20:11:42.920238Z",
     "iopub.status.idle": "2025-07-30T20:11:45.340079Z",
     "shell.execute_reply": "2025-07-30T20:11:45.339151Z"
    },
    "papermill": {
     "duration": 2.44784,
     "end_time": "2025-07-30T20:11:45.341938",
     "exception": false,
     "start_time": "2025-07-30T20:11:42.894098",
     "status": "completed"
    },
    "tags": []
   },
   "outputs": [
    {
     "data": {
      "text/plain": [
       "array([[<Axes: title={'center': 'accuracy'}, xlabel='majmin'>,\n",
       "        <Axes: title={'center': 'balanced accuracy'}, xlabel='majmin'>,\n",
       "        <Axes: title={'center': 'f1'}, xlabel='majmin'>],\n",
       "       [<Axes: title={'center': 'precision'}, xlabel='majmin'>,\n",
       "        <Axes: title={'center': 'false positive rate'}, xlabel='majmin'>,\n",
       "        <Axes: title={'center': 'false negative rate'}, xlabel='majmin'>],\n",
       "       [<Axes: title={'center': 'selection rate'}, xlabel='majmin'>,\n",
       "        <Axes: title={'center': 'count'}, xlabel='majmin'>,\n",
       "        <Axes: xlabel='majmin'>]], dtype=object)"
      ]
     },
     "execution_count": 76,
     "metadata": {},
     "output_type": "execute_result"
    },
    {
     "data": {
      "image/png": "[encoded data removed]",
      "text/plain": [
       "<Figure size 1200x800 with 9 Axes>"
      ]
     },
     "metadata": {},
     "output_type": "display_data"
    }
   ],
   "source": [
    "# In a graphic\n",
    "metric_frame.by_group.plot.bar(\n",
    "    subplots=True,\n",
    "    layout=[3, 3],\n",
    "    legend=False,\n",
    "    figsize=[12, 8],\n",
    "    title=\"Show all metrics\",\n",
    ")"
   ]
  },
  {
   "cell_type": "markdown",
   "id": "f57a0bac",
   "metadata": {
    "papermill": {
     "duration": 0.028867,
     "end_time": "2025-07-30T20:11:45.399737",
     "exception": false,
     "start_time": "2025-07-30T20:11:45.370870",
     "status": "completed"
    },
    "tags": []
   },
   "source": [
    "# Final Output"
   ]
  },
  {
   "cell_type": "code",
   "execution_count": 77,
   "id": "96d280a3",
   "metadata": {
    "execution": {
     "iopub.execute_input": "2025-07-30T20:11:45.459164Z",
     "iopub.status.busy": "2025-07-30T20:11:45.458510Z",
     "iopub.status.idle": "2025-07-30T20:11:45.466752Z",
     "shell.execute_reply": "2025-07-30T20:11:45.465859Z"
    },
    "papermill": {
     "duration": 0.039418,
     "end_time": "2025-07-30T20:11:45.468366",
     "exception": false,
     "start_time": "2025-07-30T20:11:45.428948",
     "status": "completed"
    },
    "tags": []
   },
   "outputs": [
    {
     "data": {
      "text/plain": [
       "4"
      ]
     },
     "execution_count": 77,
     "metadata": {},
     "output_type": "execute_result"
    }
   ],
   "source": [
    "sub_universes = universe_analysis.generate_sub_universes()\n",
    "len(sub_universes)"
   ]
  },
  {
   "cell_type": "code",
   "execution_count": 78,
   "id": "92adf7ba",
   "metadata": {
    "execution": {
     "iopub.execute_input": "2025-07-30T20:11:45.529867Z",
     "iopub.status.busy": "2025-07-30T20:11:45.529128Z",
     "iopub.status.idle": "2025-07-30T20:11:45.663934Z",
     "shell.execute_reply": "2025-07-30T20:11:45.662911Z"
    },
    "papermill": {
     "duration": 0.166888,
     "end_time": "2025-07-30T20:11:45.665820",
     "exception": false,
     "start_time": "2025-07-30T20:11:45.498932",
     "status": "completed"
    },
    "tags": []
   },
   "outputs": [],
   "source": [
    "def filter_sub_universe_data(sub_universe, org_test):\n",
    "    # Keep all rows — no filtering\n",
    "    keep_rows_mask = np.ones(org_test.shape[0], dtype=bool)\n",
    "\n",
    "    print(f\"[INFO] Keeping all rows: {keep_rows_mask.sum()} rows retained.\")\n",
    "    return keep_rows_mask"
   ]
  },
  {
   "cell_type": "code",
   "execution_count": 79,
   "id": "4a759155",
   "metadata": {
    "execution": {
     "iopub.execute_input": "2025-07-30T20:11:45.727340Z",
     "iopub.status.busy": "2025-07-30T20:11:45.726678Z",
     "iopub.status.idle": "2025-07-30T20:11:58.428058Z",
     "shell.execute_reply": "2025-07-30T20:11:58.427067Z"
    },
    "papermill": {
     "duration": 12.745648,
     "end_time": "2025-07-30T20:11:58.441334",
     "exception": false,
     "start_time": "2025-07-30T20:11:45.695686",
     "status": "completed"
    },
    "tags": []
   },
   "outputs": [
    {
     "name": "stdout",
     "output_type": "stream",
     "text": [
      "Stopping execution_time clock.\n",
      "[INFO] Keeping all rows: 89710 rows retained.\n"
     ]
    },
    {
     "name": "stdout",
     "output_type": "stream",
     "text": [
      "[INFO] Keeping all rows: 89710 rows retained.\n"
     ]
    },
    {
     "name": "stdout",
     "output_type": "stream",
     "text": [
      "[INFO] Keeping all rows: 89710 rows retained.\n"
     ]
    },
    {
     "name": "stdout",
     "output_type": "stream",
     "text": [
      "[INFO] Keeping all rows: 89710 rows retained.\n"
     ]
    },
    {
     "data": {
      "text/html": [
       "<div>\n",
       "<style scoped>\n",
       "    .dataframe tbody tr th:only-of-type {\n",
       "        vertical-align: middle;\n",
       "    }\n",
       "\n",
       "    .dataframe tbody tr th {\n",
       "        vertical-align: top;\n",
       "    }\n",
       "\n",
       "    .dataframe thead th {\n",
       "        text-align: right;\n",
       "    }\n",
       "</style>\n",
       "<table border=\"1\" class=\"dataframe\">\n",
       "  <thead>\n",
       "    <tr style=\"text-align: right;\">\n",
       "      <th></th>\n",
       "      <th>run_no</th>\n",
       "      <th>universe_id</th>\n",
       "      <th>universe_settings</th>\n",
       "      <th>execution_time</th>\n",
       "      <th>test_size_n</th>\n",
       "      <th>test_size_frac</th>\n",
       "      <th>fair_main_equalized_odds_difference</th>\n",
       "      <th>fair_main_equalized_odds_ratio</th>\n",
       "      <th>fair_main_demographic_parity_difference</th>\n",
       "      <th>fair_main_demographic_parity_ratio</th>\n",
       "      <th>...</th>\n",
       "      <th>perf_grp_precision_0</th>\n",
       "      <th>perf_grp_precision_1</th>\n",
       "      <th>perf_grp_false positive rate_0</th>\n",
       "      <th>perf_grp_false positive rate_1</th>\n",
       "      <th>perf_grp_false negative rate_0</th>\n",
       "      <th>perf_grp_false negative rate_1</th>\n",
       "      <th>perf_grp_selection rate_0</th>\n",
       "      <th>perf_grp_selection rate_1</th>\n",
       "      <th>perf_grp_count_0</th>\n",
       "      <th>perf_grp_count_1</th>\n",
       "    </tr>\n",
       "  </thead>\n",
       "  <tbody>\n",
       "    <tr>\n",
       "      <th>0</th>\n",
       "      <td>14</td>\n",
       "      <td>586b83af98d6eb18fb7c0460f21de287</td>\n",
       "      <td>{\"cutoff\": \"quantile_0.1\", \"eval_fairness_grou...</td>\n",
       "      <td>297.971363</td>\n",
       "      <td>89710</td>\n",
       "      <td>1.0</td>\n",
       "      <td>0.104539</td>\n",
       "      <td>0.892326</td>\n",
       "      <td>0.094588</td>\n",
       "      <td>0.902781</td>\n",
       "      <td>...</td>\n",
       "      <td>NaN</td>\n",
       "      <td>NaN</td>\n",
       "      <td>NaN</td>\n",
       "      <td>NaN</td>\n",
       "      <td>NaN</td>\n",
       "      <td>NaN</td>\n",
       "      <td>NaN</td>\n",
       "      <td>NaN</td>\n",
       "      <td>NaN</td>\n",
       "      <td>NaN</td>\n",
       "    </tr>\n",
       "    <tr>\n",
       "      <th>0</th>\n",
       "      <td>14</td>\n",
       "      <td>586b83af98d6eb18fb7c0460f21de287</td>\n",
       "      <td>{\"cutoff\": \"quantile_0.1\", \"eval_fairness_grou...</td>\n",
       "      <td>297.971363</td>\n",
       "      <td>89710</td>\n",
       "      <td>1.0</td>\n",
       "      <td>0.104539</td>\n",
       "      <td>0.892326</td>\n",
       "      <td>0.094588</td>\n",
       "      <td>0.902781</td>\n",
       "      <td>...</td>\n",
       "      <td>0.117144</td>\n",
       "      <td>0.143988</td>\n",
       "      <td>0.970889</td>\n",
       "      <td>0.866350</td>\n",
       "      <td>0.011402</td>\n",
       "      <td>0.042888</td>\n",
       "      <td>0.972931</td>\n",
       "      <td>0.878343</td>\n",
       "      <td>20540.0</td>\n",
       "      <td>69170.0</td>\n",
       "    </tr>\n",
       "    <tr>\n",
       "      <th>0</th>\n",
       "      <td>14</td>\n",
       "      <td>586b83af98d6eb18fb7c0460f21de287</td>\n",
       "      <td>{\"cutoff\": \"quantile_0.25\", \"eval_fairness_gro...</td>\n",
       "      <td>297.971363</td>\n",
       "      <td>89710</td>\n",
       "      <td>1.0</td>\n",
       "      <td>0.244097</td>\n",
       "      <td>0.733957</td>\n",
       "      <td>0.223785</td>\n",
       "      <td>0.757426</td>\n",
       "      <td>...</td>\n",
       "      <td>NaN</td>\n",
       "      <td>NaN</td>\n",
       "      <td>NaN</td>\n",
       "      <td>NaN</td>\n",
       "      <td>NaN</td>\n",
       "      <td>NaN</td>\n",
       "      <td>NaN</td>\n",
       "      <td>NaN</td>\n",
       "      <td>NaN</td>\n",
       "      <td>NaN</td>\n",
       "    </tr>\n",
       "    <tr>\n",
       "      <th>0</th>\n",
       "      <td>14</td>\n",
       "      <td>586b83af98d6eb18fb7c0460f21de287</td>\n",
       "      <td>{\"cutoff\": \"quantile_0.25\", \"eval_fairness_gro...</td>\n",
       "      <td>297.971363</td>\n",
       "      <td>89710</td>\n",
       "      <td>1.0</td>\n",
       "      <td>0.244097</td>\n",
       "      <td>0.733957</td>\n",
       "      <td>0.223785</td>\n",
       "      <td>0.757426</td>\n",
       "      <td>...</td>\n",
       "      <td>0.120112</td>\n",
       "      <td>0.163615</td>\n",
       "      <td>0.917510</td>\n",
       "      <td>0.673413</td>\n",
       "      <td>0.038851</td>\n",
       "      <td>0.134792</td>\n",
       "      <td>0.922541</td>\n",
       "      <td>0.698757</td>\n",
       "      <td>20540.0</td>\n",
       "      <td>69170.0</td>\n",
       "    </tr>\n",
       "  </tbody>\n",
       "</table>\n",
       "<p>4 rows × 50 columns</p>\n",
       "</div>"
      ],
      "text/plain": [
       "  run_no                       universe_id  \\\n",
       "0     14  586b83af98d6eb18fb7c0460f21de287   \n",
       "0     14  586b83af98d6eb18fb7c0460f21de287   \n",
       "0     14  586b83af98d6eb18fb7c0460f21de287   \n",
       "0     14  586b83af98d6eb18fb7c0460f21de287   \n",
       "\n",
       "                                   universe_settings  execution_time  \\\n",
       "0  {\"cutoff\": \"quantile_0.1\", \"eval_fairness_grou...      297.971363   \n",
       "0  {\"cutoff\": \"quantile_0.1\", \"eval_fairness_grou...      297.971363   \n",
       "0  {\"cutoff\": \"quantile_0.25\", \"eval_fairness_gro...      297.971363   \n",
       "0  {\"cutoff\": \"quantile_0.25\", \"eval_fairness_gro...      297.971363   \n",
       "\n",
       "   test_size_n  test_size_frac  fair_main_equalized_odds_difference  \\\n",
       "0        89710             1.0                             0.104539   \n",
       "0        89710             1.0                             0.104539   \n",
       "0        89710             1.0                             0.244097   \n",
       "0        89710             1.0                             0.244097   \n",
       "\n",
       "   fair_main_equalized_odds_ratio  fair_main_demographic_parity_difference  \\\n",
       "0                        0.892326                                 0.094588   \n",
       "0                        0.892326                                 0.094588   \n",
       "0                        0.733957                                 0.223785   \n",
       "0                        0.733957                                 0.223785   \n",
       "\n",
       "   fair_main_demographic_parity_ratio  ...  perf_grp_precision_0  \\\n",
       "0                            0.902781  ...                   NaN   \n",
       "0                            0.902781  ...              0.117144   \n",
       "0                            0.757426  ...                   NaN   \n",
       "0                            0.757426  ...              0.120112   \n",
       "\n",
       "   perf_grp_precision_1  perf_grp_false positive rate_0  \\\n",
       "0                   NaN                             NaN   \n",
       "0              0.143988                        0.970889   \n",
       "0                   NaN                             NaN   \n",
       "0              0.163615                        0.917510   \n",
       "\n",
       "   perf_grp_false positive rate_1  perf_grp_false negative rate_0  \\\n",
       "0                             NaN                             NaN   \n",
       "0                        0.866350                        0.011402   \n",
       "0                             NaN                             NaN   \n",
       "0                        0.673413                        0.038851   \n",
       "\n",
       "   perf_grp_false negative rate_1  perf_grp_selection rate_0  \\\n",
       "0                             NaN                        NaN   \n",
       "0                        0.042888                   0.972931   \n",
       "0                             NaN                        NaN   \n",
       "0                        0.134792                   0.922541   \n",
       "\n",
       "   perf_grp_selection rate_1  perf_grp_count_0  perf_grp_count_1  \n",
       "0                        NaN               NaN               NaN  \n",
       "0                   0.878343           20540.0           69170.0  \n",
       "0                        NaN               NaN               NaN  \n",
       "0                   0.698757           20540.0           69170.0  \n",
       "\n",
       "[4 rows x 50 columns]"
      ]
     },
     "execution_count": 79,
     "metadata": {},
     "output_type": "execute_result"
    }
   ],
   "source": [
    "final_output = universe_analysis.generate_final_output(\n",
    "    y_pred_prob=probs_test,\n",
    "    y_test=y_true,\n",
    "    org_test=org_test,\n",
    "    filter_data=filter_sub_universe_data,\n",
    "    cp_metrics_df=cp_metrics_df,\n",
    "    save=True,\n",
    ")\n",
    "final_output"
   ]
  },
  {
   "cell_type": "code",
   "execution_count": null,
   "id": "721ff514-cb11-46f8-b6fc-50392f74b5cb",
   "metadata": {
    "papermill": {
     "duration": 0.101242,
     "end_time": "2025-07-30T20:11:58.614081",
     "exception": false,
     "start_time": "2025-07-30T20:11:58.512839",
     "status": "completed"
    },
    "tags": []
   },
   "outputs": [],
   "source": []
  }
 ],
 "metadata": {
  "celltoolbar": "Tags",
  "kernelspec": {
   "display_name": "Python (CMA Fairness)",
   "language": "python",
   "name": "cma_fair_env"
  },
  "language_info": {
   "codemirror_mode": {
    "name": "ipython",
    "version": 3
   },
   "file_extension": ".py",
   "mimetype": "text/x-python",
   "name": "python",
   "nbconvert_exporter": "python",
   "pygments_lexer": "ipython3",
   "version": "3.10.12"
  },
  "papermill": {
   "default_parameters": {},
   "duration": 315.047063,
   "end_time": "2025-07-30T20:11:59.603495",
   "environment_variables": {},
   "exception": null,
   "input_path": "universe_analysis.ipynb",
   "output_path": "output/runs/14/notebooks/m_14-586b83af98d6eb18fb7c0460f21de287.ipynb",
   "parameters": {
    "output_dir": "output",
    "run_no": "14",
    "seed": "2023",
    "universe": "{\"cutoff\": [\"quantile_0.1\", \"quantile_0.25\"], \"eval_fairness_grouping\": [\"majority-minority\", \"nationality-all\"], \"exclude_features\": \"age\", \"exclude_subgroups\": \"keep-all\", \"model\": \"elasticnet\", \"scale\": \"do-not-scale\", \"training_size\": \"25k\", \"training_year\": \"2014\"}",
    "universe_id": "586b83af98d6eb18fb7c0460f21de287"
   },
   "start_time": "2025-07-30T20:06:44.556432",
   "version": "2.6.0"
  }
 },
 "nbformat": 4,
 "nbformat_minor": 5
}