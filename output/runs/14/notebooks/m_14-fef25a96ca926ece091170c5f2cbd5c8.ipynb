{
 "cells": [
  {
   "cell_type": "code",
   "execution_count": 1,
   "id": "f159f837-637b-42ba-96b5-ec9a68c44524",
   "metadata": {
    "execution": {
     "iopub.execute_input": "2025-07-30T19:56:19.467183Z",
     "iopub.status.busy": "2025-07-30T19:56:19.466733Z",
     "iopub.status.idle": "2025-07-30T19:56:19.479491Z",
     "shell.execute_reply": "2025-07-30T19:56:19.478553Z"
    },
    "papermill": {
     "duration": 0.033731,
     "end_time": "2025-07-30T19:56:19.481247",
     "exception": false,
     "start_time": "2025-07-30T19:56:19.447516",
     "status": "completed"
    },
    "tags": []
   },
   "outputs": [
    {
     "name": "stdout",
     "output_type": "stream",
     "text": [
      "/dss/dsshome1/0C/ra93lal2/cma/CMA_Fairness_v2\n"
     ]
    },
    {
     "name": "stderr",
     "output_type": "stream",
     "text": [
      "/dss/dsshome1/0C/ra93lal2/.local/share/virtualenvs/CMA_Fairness_v2-3j10GkSs/lib/python3.10/site-packages/IPython/core/magics/osm.py:393: UserWarning: This is now an optional IPython functionality, using bookmarks requires you to install the `pickleshare` library.\n",
      "  bkms = self.shell.db.get('bookmarks', {})\n",
      "/dss/dsshome1/0C/ra93lal2/.local/share/virtualenvs/CMA_Fairness_v2-3j10GkSs/lib/python3.10/site-packages/IPython/core/magics/osm.py:417: UserWarning: This is now an optional IPython functionality, setting dhist requires you to install the `pickleshare` library.\n",
      "  self.shell.db['dhist'] = compress_dhist(dhist)[-100:]\n"
     ]
    }
   ],
   "source": [
    "%cd ~/cma/CMA_Fairness_v2"
   ]
  },
  {
   "cell_type": "markdown",
   "id": "de2603b9",
   "metadata": {
    "papermill": {
     "duration": 0.017259,
     "end_time": "2025-07-30T19:56:19.516849",
     "exception": false,
     "start_time": "2025-07-30T19:56:19.499590",
     "status": "completed"
    },
    "tags": []
   },
   "source": [
    "The following cell holds the definition of our parameters, these values can be overriden by rendering the with e.g. the following command:\n",
    "\n",
    "papermill -p alpha 0.2 -p ratio 0.3 universe_analysis.ipynb output/test_run.ipynb"
   ]
  },
  {
   "cell_type": "code",
   "execution_count": 2,
   "id": "a80968a0-40bb-4fa9-85ef-2d5eefb01975",
   "metadata": {
    "execution": {
     "iopub.execute_input": "2025-07-30T19:56:19.553594Z",
     "iopub.status.busy": "2025-07-30T19:56:19.552762Z",
     "iopub.status.idle": "2025-07-30T19:56:19.558260Z",
     "shell.execute_reply": "2025-07-30T19:56:19.557334Z"
    },
    "papermill": {
     "duration": 0.025559,
     "end_time": "2025-07-30T19:56:19.559838",
     "exception": false,
     "start_time": "2025-07-30T19:56:19.534279",
     "status": "completed"
    },
    "tags": []
   },
   "outputs": [
    {
     "name": "stdout",
     "output_type": "stream",
     "text": [
      "Current working directory: /dss/dsshome1/0C/ra93lal2/cma/CMA_Fairness_v2\n"
     ]
    }
   ],
   "source": [
    "import os\n",
    "print(\"Current working directory:\", os.getcwd())"
   ]
  },
  {
   "cell_type": "code",
   "execution_count": 3,
   "id": "2dce4c03",
   "metadata": {
    "execution": {
     "iopub.execute_input": "2025-07-30T19:56:19.597706Z",
     "iopub.status.busy": "2025-07-30T19:56:19.597092Z",
     "iopub.status.idle": "2025-07-30T19:56:19.603172Z",
     "shell.execute_reply": "2025-07-30T19:56:19.602210Z"
    },
    "papermill": {
     "duration": 0.026529,
     "end_time": "2025-07-30T19:56:19.604783",
     "exception": false,
     "start_time": "2025-07-30T19:56:19.578254",
     "status": "completed"
    },
    "tags": [
     "parameters"
    ]
   },
   "outputs": [],
   "source": [
    "run_no = 0\n",
    "universe_id = \"test\"\n",
    "universe = {\n",
    "    \"training_size\": \"25k\", # \"25k\", \"5k\", \"1k\"\n",
    "    \"training_year\": \"2014\", # \"2014\", \"2012_14\", \"2010_14\"\n",
    "    \"scale\": \"scale\", # \"scale\", \"do-not-scale\",\n",
    "    #\"stratify_split\": \"target\", # \"none\", \"target\", \"protected-attribute\", \"both\",\n",
    "    \"model\": \"elasticnet\", # \"logreg\", \"penalized_logreg\", \"rf\", \"gbm\", \"elasticnet\"\n",
    "    \"cutoff\": [\"quantile_0.15\", \"quantile_0.30\"],\n",
    "    \"exclude_features\": \"age\", # \"none\", \"nationality\", \"sex\", \"nationality-sex\", \"age\"\n",
    "    \"exclude_subgroups\": \"keep-all\", # \"keep-all\", \"drop-non-german\"\n",
    "    \"eval_fairness_grouping\": [\"majority-minority\", \"nationality-all\"]\n",
    "}\n",
    "\n",
    "output_dir=\"./output\"\n",
    "seed=0"
   ]
  },
  {
   "cell_type": "code",
   "execution_count": 4,
   "id": "dbeee6dc",
   "metadata": {
    "execution": {
     "iopub.execute_input": "2025-07-30T19:56:19.642875Z",
     "iopub.status.busy": "2025-07-30T19:56:19.642255Z",
     "iopub.status.idle": "2025-07-30T19:56:19.647734Z",
     "shell.execute_reply": "2025-07-30T19:56:19.646802Z"
    },
    "papermill": {
     "duration": 0.025951,
     "end_time": "2025-07-30T19:56:19.649349",
     "exception": false,
     "start_time": "2025-07-30T19:56:19.623398",
     "status": "completed"
    },
    "tags": [
     "injected-parameters"
    ]
   },
   "outputs": [],
   "source": [
    "# Parameters\n",
    "universe_id = \"fef25a96ca926ece091170c5f2cbd5c8\"\n",
    "run_no = \"14\"\n",
    "universe = \"{\\\"cutoff\\\": [\\\"quantile_0.1\\\", \\\"quantile_0.25\\\"], \\\"eval_fairness_grouping\\\": [\\\"majority-minority\\\", \\\"nationality-all\\\"], \\\"exclude_features\\\": \\\"age\\\", \\\"exclude_subgroups\\\": \\\"drop-non-german\\\", \\\"model\\\": \\\"elasticnet\\\", \\\"scale\\\": \\\"scale\\\", \\\"training_size\\\": \\\"25k\\\", \\\"training_year\\\": \\\"2014\\\"}\"\n",
    "output_dir = \"output\"\n",
    "seed = \"2023\"\n"
   ]
  },
  {
   "cell_type": "code",
   "execution_count": 5,
   "id": "1650acaf",
   "metadata": {
    "execution": {
     "iopub.execute_input": "2025-07-30T19:56:19.687036Z",
     "iopub.status.busy": "2025-07-30T19:56:19.686399Z",
     "iopub.status.idle": "2025-07-30T19:56:19.691450Z",
     "shell.execute_reply": "2025-07-30T19:56:19.690490Z"
    },
    "papermill": {
     "duration": 0.025318,
     "end_time": "2025-07-30T19:56:19.693052",
     "exception": false,
     "start_time": "2025-07-30T19:56:19.667734",
     "status": "completed"
    },
    "tags": []
   },
   "outputs": [],
   "source": [
    "import json\n",
    "# Parse universe into dict if it is passed as a string\n",
    "if isinstance(universe, str):\n",
    "    universe = json.loads(universe)"
   ]
  },
  {
   "cell_type": "code",
   "execution_count": 6,
   "id": "16620c48",
   "metadata": {
    "execution": {
     "iopub.execute_input": "2025-07-30T19:56:19.731223Z",
     "iopub.status.busy": "2025-07-30T19:56:19.730429Z",
     "iopub.status.idle": "2025-07-30T19:56:19.772652Z",
     "shell.execute_reply": "2025-07-30T19:56:19.771774Z"
    },
    "papermill": {
     "duration": 0.062689,
     "end_time": "2025-07-30T19:56:19.774347",
     "exception": false,
     "start_time": "2025-07-30T19:56:19.711658",
     "status": "completed"
    },
    "tags": []
   },
   "outputs": [],
   "source": [
    "# Auto-reload the custom package\n",
    "%load_ext autoreload\n",
    "%autoreload 1\n",
    "%aimport fairness_multiverse"
   ]
  },
  {
   "cell_type": "code",
   "execution_count": 7,
   "id": "01c5c9f3",
   "metadata": {
    "execution": {
     "iopub.execute_input": "2025-07-30T19:56:19.812716Z",
     "iopub.status.busy": "2025-07-30T19:56:19.812074Z",
     "iopub.status.idle": "2025-07-30T19:56:21.584328Z",
     "shell.execute_reply": "2025-07-30T19:56:21.583478Z"
    },
    "papermill": {
     "duration": 1.792645,
     "end_time": "2025-07-30T19:56:21.585725",
     "exception": false,
     "start_time": "2025-07-30T19:56:19.793080",
     "status": "completed"
    },
    "tags": []
   },
   "outputs": [],
   "source": [
    "from fairness_multiverse.universe import UniverseAnalysis\n",
    "\n",
    "universe_analysis = UniverseAnalysis(\n",
    "    run_no = run_no,\n",
    "    universe_id = universe_id,\n",
    "    universe = universe,\n",
    "    output_dir=output_dir,\n",
    ")"
   ]
  },
  {
   "cell_type": "code",
   "execution_count": 8,
   "id": "106241f5",
   "metadata": {
    "execution": {
     "iopub.execute_input": "2025-07-30T19:56:21.609599Z",
     "iopub.status.busy": "2025-07-30T19:56:21.608746Z",
     "iopub.status.idle": "2025-07-30T19:56:21.615382Z",
     "shell.execute_reply": "2025-07-30T19:56:21.614411Z"
    },
    "papermill": {
     "duration": 0.020362,
     "end_time": "2025-07-30T19:56:21.617054",
     "exception": false,
     "start_time": "2025-07-30T19:56:21.596692",
     "status": "completed"
    },
    "tags": []
   },
   "outputs": [
    {
     "name": "stdout",
     "output_type": "stream",
     "text": [
      "Using Seed: 2023\n"
     ]
    }
   ],
   "source": [
    "import numpy as np\n",
    "parsed_seed = int(seed)\n",
    "np.random.seed(parsed_seed)\n",
    "print(f\"Using Seed: {parsed_seed}\")"
   ]
  },
  {
   "cell_type": "markdown",
   "id": "e0ebdc57",
   "metadata": {
    "papermill": {
     "duration": 0.017861,
     "end_time": "2025-07-30T19:56:21.653584",
     "exception": false,
     "start_time": "2025-07-30T19:56:21.635723",
     "status": "completed"
    },
    "tags": []
   },
   "source": [
    "# Loading Data"
   ]
  },
  {
   "cell_type": "markdown",
   "id": "681925a3",
   "metadata": {
    "papermill": {
     "duration": 0.017866,
     "end_time": "2025-07-30T19:56:21.689710",
     "exception": false,
     "start_time": "2025-07-30T19:56:21.671844",
     "status": "completed"
    },
    "tags": []
   },
   "source": [
    "Load siab_train, siab_test, siab_calib and/or \n",
    "load siab_train_features, siab_train_labels"
   ]
  },
  {
   "cell_type": "code",
   "execution_count": 9,
   "id": "f0496b8a",
   "metadata": {
    "execution": {
     "iopub.execute_input": "2025-07-30T19:56:21.727934Z",
     "iopub.status.busy": "2025-07-30T19:56:21.727155Z",
     "iopub.status.idle": "2025-07-30T19:56:34.021754Z",
     "shell.execute_reply": "2025-07-30T19:56:34.020626Z"
    },
    "papermill": {
     "duration": 12.315297,
     "end_time": "2025-07-30T19:56:34.023281",
     "exception": false,
     "start_time": "2025-07-30T19:56:21.707984",
     "status": "completed"
    },
    "tags": []
   },
   "outputs": [
    {
     "name": "stdout",
     "output_type": "stream",
     "text": [
      "Loading SIAB data from cache: data/siab_cached.csv.gz\n"
     ]
    },
    {
     "name": "stdout",
     "output_type": "stream",
     "text": [
      "(643690, 164)\n"
     ]
    }
   ],
   "source": [
    "from pathlib import Path\n",
    "import pandas as pd\n",
    "\n",
    "# File paths\n",
    "raw_file = Path(\"data/raw/siab.csv\")\n",
    "cache_file = Path(\"data/siab_cached.csv.gz\")\n",
    "\n",
    "# Ensure cache directory exists\n",
    "cache_file.parent.mkdir(parents=True, exist_ok=True)\n",
    "\n",
    "# Load with simple caching\n",
    "if cache_file.exists():\n",
    "    print(f\"Loading SIAB data from cache: {cache_file}\")\n",
    "    siab = pd.read_csv(cache_file, compression='gzip')\n",
    "else:\n",
    "    print(f\"Cache not found. Reading raw SIAB data: {raw_file}\")\n",
    "    siab = pd.read_csv(raw_file)\n",
    "    siab.to_csv(cache_file, index=False, compression='gzip')\n",
    "    print(f\"Cached SIAB data to: {cache_file}\")\n",
    "\n",
    "# Now use `siab` DataFrame as needed\n",
    "print(siab.shape)"
   ]
  },
  {
   "cell_type": "code",
   "execution_count": 10,
   "id": "db0ca512-5f53-4dba-abdb-a2888bca41ba",
   "metadata": {
    "execution": {
     "iopub.execute_input": "2025-07-30T19:56:34.065576Z",
     "iopub.status.busy": "2025-07-30T19:56:34.065083Z",
     "iopub.status.idle": "2025-07-30T19:56:34.070897Z",
     "shell.execute_reply": "2025-07-30T19:56:34.069911Z"
    },
    "papermill": {
     "duration": 0.027583,
     "end_time": "2025-07-30T19:56:34.072589",
     "exception": false,
     "start_time": "2025-07-30T19:56:34.045006",
     "status": "completed"
    },
    "tags": []
   },
   "outputs": [],
   "source": [
    "#siab"
   ]
  },
  {
   "cell_type": "code",
   "execution_count": 11,
   "id": "a0edb063",
   "metadata": {
    "execution": {
     "iopub.execute_input": "2025-07-30T19:56:34.113422Z",
     "iopub.status.busy": "2025-07-30T19:56:34.112605Z",
     "iopub.status.idle": "2025-07-30T19:56:34.117321Z",
     "shell.execute_reply": "2025-07-30T19:56:34.116494Z"
    },
    "papermill": {
     "duration": 0.027011,
     "end_time": "2025-07-30T19:56:34.119262",
     "exception": false,
     "start_time": "2025-07-30T19:56:34.092251",
     "status": "completed"
    },
    "tags": []
   },
   "outputs": [],
   "source": [
    "#import pandas as pd\n",
    "#\n",
    "#X_train = pd.read_csv(\"./data/X_train.csv\")\n",
    "#y_train = pd.read_csv(\"./data/y_train.csv\")"
   ]
  },
  {
   "cell_type": "code",
   "execution_count": 12,
   "id": "63d08085",
   "metadata": {
    "execution": {
     "iopub.execute_input": "2025-07-30T19:56:34.164653Z",
     "iopub.status.busy": "2025-07-30T19:56:34.164130Z",
     "iopub.status.idle": "2025-07-30T19:56:34.169012Z",
     "shell.execute_reply": "2025-07-30T19:56:34.168087Z"
    },
    "papermill": {
     "duration": 0.028499,
     "end_time": "2025-07-30T19:56:34.170850",
     "exception": false,
     "start_time": "2025-07-30T19:56:34.142351",
     "status": "completed"
    },
    "tags": []
   },
   "outputs": [],
   "source": [
    "#X_test = pd.read_csv(\"./data/X_test.csv\")\n",
    "#y_true = pd.read_csv(\"./data/y_test.csv\")"
   ]
  },
  {
   "cell_type": "code",
   "execution_count": 13,
   "id": "98a8d0fa-1d3d-4ed8-bb2c-281470e24add",
   "metadata": {
    "execution": {
     "iopub.execute_input": "2025-07-30T19:56:34.214822Z",
     "iopub.status.busy": "2025-07-30T19:56:34.213983Z",
     "iopub.status.idle": "2025-07-30T19:56:34.219143Z",
     "shell.execute_reply": "2025-07-30T19:56:34.218101Z"
    },
    "papermill": {
     "duration": 0.028659,
     "end_time": "2025-07-30T19:56:34.221013",
     "exception": false,
     "start_time": "2025-07-30T19:56:34.192354",
     "status": "completed"
    },
    "tags": []
   },
   "outputs": [],
   "source": [
    "# Calibration data for conformal\n",
    "#X_calib = pd.read_csv(\"./data/X_calib.csv\")\n",
    "#y_calib = pd.read_csv(\"./data/y_calib.csv\")"
   ]
  },
  {
   "cell_type": "markdown",
   "id": "997051c5-15bd-4b69-9786-c3001a3ce484",
   "metadata": {
    "papermill": {
     "duration": 0.022099,
     "end_time": "2025-07-30T19:56:34.263642",
     "exception": false,
     "start_time": "2025-07-30T19:56:34.241543",
     "status": "completed"
    },
    "tags": []
   },
   "source": [
    "# Splitting Data and Setting Training Data Size"
   ]
  },
  {
   "cell_type": "code",
   "execution_count": 14,
   "id": "e993b61f-042d-41a6-8c81-f55681f86335",
   "metadata": {
    "execution": {
     "iopub.execute_input": "2025-07-30T19:56:34.304365Z",
     "iopub.status.busy": "2025-07-30T19:56:34.303388Z",
     "iopub.status.idle": "2025-07-30T19:56:34.316641Z",
     "shell.execute_reply": "2025-07-30T19:56:34.315432Z"
    },
    "papermill": {
     "duration": 0.035032,
     "end_time": "2025-07-30T19:56:34.318282",
     "exception": false,
     "start_time": "2025-07-30T19:56:34.283250",
     "status": "completed"
    },
    "tags": []
   },
   "outputs": [],
   "source": [
    "def sample_by_year_size(df,\n",
    "                        training_year: str,\n",
    "                        training_size: str,\n",
    "                        random_state: int = 42):\n",
    "    # --- parse training_year into a list of int years ---\n",
    "    if \"_\" in training_year:\n",
    "        start_str, end_str = training_year.split(\"_\", 1)\n",
    "        start = int(start_str)\n",
    "        end   = int(end_str) if len(end_str) == 4 else (int(end_str) + (start // 100)*100)\n",
    "        years = list(range(start, end + 1))\n",
    "    else:\n",
    "        years = [int(training_year)]\n",
    "\n",
    "    df = df[df[\"year\"].isin(years)].reset_index(drop=True)\n",
    "\n",
    "    # --- map training_size to total number of samples ---\n",
    "    total_map = {\"25k\": 25_000, \"5k\": 5_000, \"1k\": 1_000}\n",
    "    if training_size not in total_map:\n",
    "        return df  # e.g. \"all\"\n",
    "\n",
    "    total_samples = total_map[training_size]\n",
    "    n_years       = len(years)\n",
    "    base          = total_samples // n_years\n",
    "    remainder     = total_samples % n_years\n",
    "\n",
    "    # --- build a dict: year -> how many to sample ---\n",
    "    # give +1 to the first `remainder` years in ascending order\n",
    "    quotas = {\n",
    "        year: base + (1 if idx < remainder else 0)\n",
    "        for idx, year in enumerate(sorted(years))\n",
    "    }\n",
    "\n",
    "    # --- sample per‐year according to the quota dict ---\n",
    "    sampled = (\n",
    "        df\n",
    "        .groupby(\"year\", group_keys=False)\n",
    "        .apply(lambda grp: grp.sample(\n",
    "            n=min(len(grp), quotas[grp.name]),\n",
    "            random_state=random_state))\n",
    "        .reset_index(drop=True)\n",
    "    )\n",
    "\n",
    "    return sampled"
   ]
  },
  {
   "cell_type": "code",
   "execution_count": 15,
   "id": "c0ccd338-0e02-41f3-a09d-f56f9266e3fb",
   "metadata": {
    "execution": {
     "iopub.execute_input": "2025-07-30T19:56:34.359429Z",
     "iopub.status.busy": "2025-07-30T19:56:34.358619Z",
     "iopub.status.idle": "2025-07-30T19:56:34.363615Z",
     "shell.execute_reply": "2025-07-30T19:56:34.362620Z"
    },
    "papermill": {
     "duration": 0.026702,
     "end_time": "2025-07-30T19:56:34.365272",
     "exception": false,
     "start_time": "2025-07-30T19:56:34.338570",
     "status": "completed"
    },
    "tags": []
   },
   "outputs": [],
   "source": [
    "#universe[\"training_size\"]"
   ]
  },
  {
   "cell_type": "code",
   "execution_count": 16,
   "id": "ca707fd7-8047-4acd-bfa5-66248fbbf8e6",
   "metadata": {
    "execution": {
     "iopub.execute_input": "2025-07-30T19:56:34.406140Z",
     "iopub.status.busy": "2025-07-30T19:56:34.405541Z",
     "iopub.status.idle": "2025-07-30T19:56:34.410431Z",
     "shell.execute_reply": "2025-07-30T19:56:34.409480Z"
    },
    "papermill": {
     "duration": 0.026551,
     "end_time": "2025-07-30T19:56:34.412111",
     "exception": false,
     "start_time": "2025-07-30T19:56:34.385560",
     "status": "completed"
    },
    "tags": []
   },
   "outputs": [],
   "source": [
    "#universe[\"training_year\"]"
   ]
  },
  {
   "cell_type": "code",
   "execution_count": 17,
   "id": "aea9c6ef-6f46-42c8-85eb-5a62025c1508",
   "metadata": {
    "execution": {
     "iopub.execute_input": "2025-07-30T19:56:34.453045Z",
     "iopub.status.busy": "2025-07-30T19:56:34.452426Z",
     "iopub.status.idle": "2025-07-30T19:56:34.720040Z",
     "shell.execute_reply": "2025-07-30T19:56:34.719121Z"
    },
    "papermill": {
     "duration": 0.289639,
     "end_time": "2025-07-30T19:56:34.721824",
     "exception": false,
     "start_time": "2025-07-30T19:56:34.432185",
     "status": "completed"
    },
    "tags": []
   },
   "outputs": [],
   "source": [
    "siab_train = sample_by_year_size(siab,\n",
    "                               training_year=universe[\"training_year\"],\n",
    "                               training_size=universe[\"training_size\"])"
   ]
  },
  {
   "cell_type": "code",
   "execution_count": 18,
   "id": "8d3afb32-789d-442c-8d5d-9f5aa8dd2eed",
   "metadata": {
    "execution": {
     "iopub.execute_input": "2025-07-30T19:56:34.762689Z",
     "iopub.status.busy": "2025-07-30T19:56:34.762197Z",
     "iopub.status.idle": "2025-07-30T19:56:34.767528Z",
     "shell.execute_reply": "2025-07-30T19:56:34.766373Z"
    },
    "papermill": {
     "duration": 0.027154,
     "end_time": "2025-07-30T19:56:34.769317",
     "exception": false,
     "start_time": "2025-07-30T19:56:34.742163",
     "status": "completed"
    },
    "tags": []
   },
   "outputs": [],
   "source": [
    "#siab_train.shape"
   ]
  },
  {
   "cell_type": "code",
   "execution_count": 19,
   "id": "d582db68-1a4c-47fb-84fc-08518dc1975a",
   "metadata": {
    "execution": {
     "iopub.execute_input": "2025-07-30T19:56:34.811073Z",
     "iopub.status.busy": "2025-07-30T19:56:34.810311Z",
     "iopub.status.idle": "2025-07-30T19:56:34.815660Z",
     "shell.execute_reply": "2025-07-30T19:56:34.814691Z"
    },
    "papermill": {
     "duration": 0.02733,
     "end_time": "2025-07-30T19:56:34.817360",
     "exception": false,
     "start_time": "2025-07-30T19:56:34.790030",
     "status": "completed"
    },
    "tags": []
   },
   "outputs": [],
   "source": [
    "#display(siab_train.groupby(\"year\").size())"
   ]
  },
  {
   "cell_type": "code",
   "execution_count": 20,
   "id": "a561edb4-d032-42cb-8256-22eac1111c64",
   "metadata": {
    "execution": {
     "iopub.execute_input": "2025-07-30T19:56:34.859788Z",
     "iopub.status.busy": "2025-07-30T19:56:34.859059Z",
     "iopub.status.idle": "2025-07-30T19:56:35.108886Z",
     "shell.execute_reply": "2025-07-30T19:56:35.107899Z"
    },
    "papermill": {
     "duration": 0.271733,
     "end_time": "2025-07-30T19:56:35.110366",
     "exception": false,
     "start_time": "2025-07-30T19:56:34.838633",
     "status": "completed"
    },
    "tags": []
   },
   "outputs": [],
   "source": [
    "#siab_train = siab_s[siab_s.year < 2015]\n",
    "siab_calib = siab[siab.year == 2015]\n",
    "siab_test = siab[siab.year == 2016]"
   ]
  },
  {
   "cell_type": "code",
   "execution_count": 21,
   "id": "472de16f-c3db-4916-846b-1f0de9cf1746",
   "metadata": {
    "execution": {
     "iopub.execute_input": "2025-07-30T19:56:35.156439Z",
     "iopub.status.busy": "2025-07-30T19:56:35.155596Z",
     "iopub.status.idle": "2025-07-30T19:56:35.170922Z",
     "shell.execute_reply": "2025-07-30T19:56:35.169892Z"
    },
    "papermill": {
     "duration": 0.04031,
     "end_time": "2025-07-30T19:56:35.172870",
     "exception": false,
     "start_time": "2025-07-30T19:56:35.132560",
     "status": "completed"
    },
    "tags": []
   },
   "outputs": [],
   "source": [
    "X_train = siab_train.iloc[:,4:164]\n",
    "y_train = siab_train.iloc[:, [3]]"
   ]
  },
  {
   "cell_type": "code",
   "execution_count": 22,
   "id": "828c96af-f43a-4ed6-ba47-8ac73a47d56c",
   "metadata": {
    "execution": {
     "iopub.execute_input": "2025-07-30T19:56:35.222094Z",
     "iopub.status.busy": "2025-07-30T19:56:35.221621Z",
     "iopub.status.idle": "2025-07-30T19:56:35.307349Z",
     "shell.execute_reply": "2025-07-30T19:56:35.306517Z"
    },
    "papermill": {
     "duration": 0.114874,
     "end_time": "2025-07-30T19:56:35.309085",
     "exception": false,
     "start_time": "2025-07-30T19:56:35.194211",
     "status": "completed"
    },
    "tags": []
   },
   "outputs": [],
   "source": [
    "X_calib = siab_calib.iloc[:,4:164]\n",
    "y_calib = siab_calib.iloc[:, [3]]"
   ]
  },
  {
   "cell_type": "code",
   "execution_count": 23,
   "id": "c34be9c3-6bd6-476e-acd3-845840e303be",
   "metadata": {
    "execution": {
     "iopub.execute_input": "2025-07-30T19:56:35.333533Z",
     "iopub.status.busy": "2025-07-30T19:56:35.333167Z",
     "iopub.status.idle": "2025-07-30T19:56:35.382177Z",
     "shell.execute_reply": "2025-07-30T19:56:35.381381Z"
    },
    "papermill": {
     "duration": 0.062127,
     "end_time": "2025-07-30T19:56:35.383441",
     "exception": false,
     "start_time": "2025-07-30T19:56:35.321314",
     "status": "completed"
    },
    "tags": []
   },
   "outputs": [],
   "source": [
    "X_test = siab_test.iloc[:,4:164]\n",
    "y_true = siab_test.iloc[:, [3]]"
   ]
  },
  {
   "cell_type": "markdown",
   "id": "9901737e-04df-44f0-9100-f5ad144ed040",
   "metadata": {
    "papermill": {
     "duration": 0.010772,
     "end_time": "2025-07-30T19:56:35.405842",
     "exception": false,
     "start_time": "2025-07-30T19:56:35.395070",
     "status": "completed"
    },
    "tags": []
   },
   "source": [
    "# Splitting Data and Setting Training Data Size OLD VERSION"
   ]
  },
  {
   "cell_type": "code",
   "execution_count": 24,
   "id": "acbc8f7d-8fc8-4e86-8c59-5dcb0f58384b",
   "metadata": {
    "execution": {
     "iopub.execute_input": "2025-07-30T19:56:35.437529Z",
     "iopub.status.busy": "2025-07-30T19:56:35.436861Z",
     "iopub.status.idle": "2025-07-30T19:56:35.442559Z",
     "shell.execute_reply": "2025-07-30T19:56:35.441849Z"
    },
    "papermill": {
     "duration": 0.027124,
     "end_time": "2025-07-30T19:56:35.443911",
     "exception": false,
     "start_time": "2025-07-30T19:56:35.416787",
     "status": "completed"
    },
    "tags": []
   },
   "outputs": [],
   "source": [
    "#def sample_by_year(df, training_size, random_state=42):\n",
    "#    if training_size == \"2014\":\n",
    "#        return df[df[\"year\"] == 2014].reset_index(drop=True)\n",
    "#    \n",
    "#    size_map = {\n",
    "#        \"25k\": 5000,\n",
    "#        \"5k\": 1000,\n",
    "#        \"1k\": 200\n",
    "#    }\n",
    "#\n",
    "#    if training_size not in size_map:\n",
    "#        return df.reset_index(drop=True)  # use all data\n",
    "#\n",
    "#    n_per_year = size_map[training_size]\n",
    "#    grouped = df.groupby(\"year\")\n",
    "#    sampled = grouped.apply(lambda x: x.sample(n=min(n_per_year, len(x)), random_state=random_state))\n",
    "#    return sampled.reset_index(drop=True)"
   ]
  },
  {
   "cell_type": "code",
   "execution_count": 25,
   "id": "6d931f52-beaf-43ff-9e78-9d44a448d54e",
   "metadata": {
    "execution": {
     "iopub.execute_input": "2025-07-30T19:56:35.467341Z",
     "iopub.status.busy": "2025-07-30T19:56:35.466707Z",
     "iopub.status.idle": "2025-07-30T19:56:35.471031Z",
     "shell.execute_reply": "2025-07-30T19:56:35.470368Z"
    },
    "papermill": {
     "duration": 0.01699,
     "end_time": "2025-07-30T19:56:35.472471",
     "exception": false,
     "start_time": "2025-07-30T19:56:35.455481",
     "status": "completed"
    },
    "tags": []
   },
   "outputs": [],
   "source": [
    "#siab_s = sample_by_year(siab, universe[\"training_size\"])"
   ]
  },
  {
   "cell_type": "code",
   "execution_count": 26,
   "id": "5db0a40e-a4e2-4920-be85-b12ae061d70d",
   "metadata": {
    "execution": {
     "iopub.execute_input": "2025-07-30T19:56:35.495619Z",
     "iopub.status.busy": "2025-07-30T19:56:35.494985Z",
     "iopub.status.idle": "2025-07-30T19:56:35.499328Z",
     "shell.execute_reply": "2025-07-30T19:56:35.498625Z"
    },
    "papermill": {
     "duration": 0.017151,
     "end_time": "2025-07-30T19:56:35.500746",
     "exception": false,
     "start_time": "2025-07-30T19:56:35.483595",
     "status": "completed"
    },
    "tags": []
   },
   "outputs": [],
   "source": [
    "#display(siab_s.groupby(\"year\").size())"
   ]
  },
  {
   "cell_type": "code",
   "execution_count": 27,
   "id": "e6c733c5",
   "metadata": {
    "execution": {
     "iopub.execute_input": "2025-07-30T19:56:35.524121Z",
     "iopub.status.busy": "2025-07-30T19:56:35.523765Z",
     "iopub.status.idle": "2025-07-30T19:56:35.614265Z",
     "shell.execute_reply": "2025-07-30T19:56:35.613251Z"
    },
    "papermill": {
     "duration": 0.103552,
     "end_time": "2025-07-30T19:56:35.615848",
     "exception": false,
     "start_time": "2025-07-30T19:56:35.512296",
     "status": "completed"
    },
    "tags": []
   },
   "outputs": [],
   "source": [
    "# Auxiliary data needed downstream in the pipeline\n",
    "\n",
    "org_train = X_train.copy()\n",
    "org_test = X_test.copy()\n",
    "org_calib = X_calib.copy()"
   ]
  },
  {
   "cell_type": "code",
   "execution_count": 28,
   "id": "1466abac-c6da-4492-a62f-4240ae3783af",
   "metadata": {
    "execution": {
     "iopub.execute_input": "2025-07-30T19:56:35.661401Z",
     "iopub.status.busy": "2025-07-30T19:56:35.660948Z",
     "iopub.status.idle": "2025-07-30T19:56:35.667318Z",
     "shell.execute_reply": "2025-07-30T19:56:35.666184Z"
    },
    "papermill": {
     "duration": 0.031069,
     "end_time": "2025-07-30T19:56:35.668929",
     "exception": false,
     "start_time": "2025-07-30T19:56:35.637860",
     "status": "completed"
    },
    "tags": []
   },
   "outputs": [],
   "source": [
    "# put in other script?\n",
    "# Group sizes\n",
    "\n",
    "#def calculate_percentages(df, df_name):\n",
    "#    total_entries = len(df)\n",
    "#\n",
    "#    female_pct = (df['frau1'] == 1).mean() * 100\n",
    "#    non_german_pct = ((df['maxdeutsch1'] == 0) & (df['maxdeutsch.Missing.'] == 0)).mean() * 100\n",
    "#    non_german_male_pct = ((df['frau1'] == 0) & (df['maxdeutsch1'] == 0) & (df['maxdeutsch.Missing.'] == 0)).mean() * 100\n",
    "#    non_german_female_pct = ((df['frau1'] == 1) & (df['maxdeutsch1'] == 0) & (df['maxdeutsch.Missing.'] == 0)).mean() * 100\n",
    "#\n",
    "#    print(f\"--- {df_name} ---\")\n",
    "#    print(f\"Female: {female_pct:.2f}%\")\n",
    "#    print(f\"Non-German: {non_german_pct:.2f}%\")\n",
    "#    print(f\"Non-German Male: {non_german_male_pct:.2f}%\")\n",
    "#    print(f\"Non-German Female: {non_german_female_pct:.2f}%\\n\")\n",
    "#\n",
    "## Calculate for each DataFrame\n",
    "#calculate_percentages(siab_calib, \"siab_calib\")\n",
    "#calculate_percentages(siab_test, \"siab_test\")\n",
    "#calculate_percentages(siab_train, \"siab_train\")"
   ]
  },
  {
   "cell_type": "markdown",
   "id": "0a4a1b33",
   "metadata": {
    "papermill": {
     "duration": 0.016618,
     "end_time": "2025-07-30T19:56:35.708321",
     "exception": false,
     "start_time": "2025-07-30T19:56:35.691703",
     "status": "completed"
    },
    "tags": []
   },
   "source": [
    "# Preprocessing Data"
   ]
  },
  {
   "cell_type": "code",
   "execution_count": 29,
   "id": "ca879031",
   "metadata": {
    "execution": {
     "iopub.execute_input": "2025-07-30T19:56:35.749439Z",
     "iopub.status.busy": "2025-07-30T19:56:35.748944Z",
     "iopub.status.idle": "2025-07-30T19:56:35.755734Z",
     "shell.execute_reply": "2025-07-30T19:56:35.754660Z"
    },
    "papermill": {
     "duration": 0.032327,
     "end_time": "2025-07-30T19:56:35.757315",
     "exception": false,
     "start_time": "2025-07-30T19:56:35.724988",
     "status": "completed"
    },
    "tags": []
   },
   "outputs": [],
   "source": [
    "# EXCLUDE PROTECTED FEATURES\n",
    "# ----------------------\n",
    "# \"exclude_features\": \"none\", # \"nationality\", \"sex\", \"nationality-sex\"\n",
    "\n",
    "excluded_features = universe[\"exclude_features\"].split(\"-\") # split, e.g.: \"nationality-sex\" -> [\"nationality\", \"sex\"]\n",
    "excluded_features_dictionary = {\n",
    "    \"nationality\": [\"maxdeutsch1\", \"maxdeutsch.Missing.\"],\n",
    "    \"sex\": [\"frau1\"],\n",
    "    \"age\": [\"age\"],\n",
    "}\n"
   ]
  },
  {
   "cell_type": "code",
   "execution_count": 30,
   "id": "b745ac60",
   "metadata": {
    "execution": {
     "iopub.execute_input": "2025-07-30T19:56:35.781223Z",
     "iopub.status.busy": "2025-07-30T19:56:35.780533Z",
     "iopub.status.idle": "2025-07-30T19:56:35.785365Z",
     "shell.execute_reply": "2025-07-30T19:56:35.784605Z"
    },
    "papermill": {
     "duration": 0.017885,
     "end_time": "2025-07-30T19:56:35.786770",
     "exception": false,
     "start_time": "2025-07-30T19:56:35.768885",
     "status": "completed"
    },
    "tags": []
   },
   "outputs": [],
   "source": [
    "# Code nice names to column names\n",
    "\n",
    "excluded_features_columns = [\n",
    "    excluded_features_dictionary[f] for f in excluded_features if len(f) > 0 and f != \"none\"\n",
    "]"
   ]
  },
  {
   "cell_type": "code",
   "execution_count": 31,
   "id": "f84f73a2",
   "metadata": {
    "execution": {
     "iopub.execute_input": "2025-07-30T19:56:35.810140Z",
     "iopub.status.busy": "2025-07-30T19:56:35.809740Z",
     "iopub.status.idle": "2025-07-30T19:56:35.814736Z",
     "shell.execute_reply": "2025-07-30T19:56:35.814045Z"
    },
    "papermill": {
     "duration": 0.017701,
     "end_time": "2025-07-30T19:56:35.815976",
     "exception": false,
     "start_time": "2025-07-30T19:56:35.798275",
     "status": "completed"
    },
    "tags": []
   },
   "outputs": [],
   "source": [
    "from utils import flatten_once\n",
    "\n",
    "excluded_features_columns = flatten_once(excluded_features_columns)"
   ]
  },
  {
   "cell_type": "code",
   "execution_count": 32,
   "id": "884dea22",
   "metadata": {
    "execution": {
     "iopub.execute_input": "2025-07-30T19:56:35.839464Z",
     "iopub.status.busy": "2025-07-30T19:56:35.838980Z",
     "iopub.status.idle": "2025-07-30T19:56:35.861499Z",
     "shell.execute_reply": "2025-07-30T19:56:35.860795Z"
    },
    "papermill": {
     "duration": 0.035784,
     "end_time": "2025-07-30T19:56:35.862810",
     "exception": false,
     "start_time": "2025-07-30T19:56:35.827026",
     "status": "completed"
    },
    "tags": []
   },
   "outputs": [
    {
     "name": "stdout",
     "output_type": "stream",
     "text": [
      "Dropping features: ['age']\n"
     ]
    }
   ],
   "source": [
    "if len(excluded_features_columns) > 0:\n",
    "    print(f\"Dropping features: {excluded_features_columns}\")\n",
    "    X_train.drop(excluded_features_columns, axis=1, inplace=True)"
   ]
  },
  {
   "cell_type": "code",
   "execution_count": 33,
   "id": "95ab8b16",
   "metadata": {
    "execution": {
     "iopub.execute_input": "2025-07-30T19:56:35.888056Z",
     "iopub.status.busy": "2025-07-30T19:56:35.887250Z",
     "iopub.status.idle": "2025-07-30T19:56:35.937759Z",
     "shell.execute_reply": "2025-07-30T19:56:35.937049Z"
    },
    "papermill": {
     "duration": 0.064097,
     "end_time": "2025-07-30T19:56:35.939115",
     "exception": false,
     "start_time": "2025-07-30T19:56:35.875018",
     "status": "completed"
    },
    "tags": []
   },
   "outputs": [
    {
     "name": "stdout",
     "output_type": "stream",
     "text": [
      "Dropping features: ['age']\n"
     ]
    }
   ],
   "source": [
    "if len(excluded_features_columns) > 0:\n",
    "    print(f\"Dropping features: {excluded_features_columns}\")\n",
    "    X_test.drop(excluded_features_columns, axis=1, inplace=True)"
   ]
  },
  {
   "cell_type": "code",
   "execution_count": 34,
   "id": "1853aaf5-fb9f-46cb-a2b5-8ea4ae2237e4",
   "metadata": {
    "execution": {
     "iopub.execute_input": "2025-07-30T19:56:35.964532Z",
     "iopub.status.busy": "2025-07-30T19:56:35.963965Z",
     "iopub.status.idle": "2025-07-30T19:56:36.012931Z",
     "shell.execute_reply": "2025-07-30T19:56:36.012150Z"
    },
    "papermill": {
     "duration": 0.06277,
     "end_time": "2025-07-30T19:56:36.014334",
     "exception": false,
     "start_time": "2025-07-30T19:56:35.951564",
     "status": "completed"
    },
    "tags": []
   },
   "outputs": [
    {
     "name": "stdout",
     "output_type": "stream",
     "text": [
      "Dropping features: ['age']\n"
     ]
    }
   ],
   "source": [
    "if len(excluded_features_columns) > 0:\n",
    "    print(f\"Dropping features: {excluded_features_columns}\")\n",
    "    X_calib.drop(excluded_features_columns, axis=1, inplace=True)"
   ]
  },
  {
   "cell_type": "code",
   "execution_count": 35,
   "id": "6727d079-03e5-481e-9d38-292a90b7a0a8",
   "metadata": {
    "execution": {
     "iopub.execute_input": "2025-07-30T19:56:36.039748Z",
     "iopub.status.busy": "2025-07-30T19:56:36.039314Z",
     "iopub.status.idle": "2025-07-30T19:56:36.043309Z",
     "shell.execute_reply": "2025-07-30T19:56:36.042504Z"
    },
    "papermill": {
     "duration": 0.017657,
     "end_time": "2025-07-30T19:56:36.044648",
     "exception": false,
     "start_time": "2025-07-30T19:56:36.026991",
     "status": "completed"
    },
    "tags": []
   },
   "outputs": [],
   "source": [
    "# SPLIT & STRATIFY DATA\n",
    "# ----------------------"
   ]
  },
  {
   "cell_type": "code",
   "execution_count": 36,
   "id": "76c4dc6d",
   "metadata": {
    "execution": {
     "iopub.execute_input": "2025-07-30T19:56:36.068908Z",
     "iopub.status.busy": "2025-07-30T19:56:36.068420Z",
     "iopub.status.idle": "2025-07-30T19:56:36.072749Z",
     "shell.execute_reply": "2025-07-30T19:56:36.072058Z"
    },
    "papermill": {
     "duration": 0.017506,
     "end_time": "2025-07-30T19:56:36.074061",
     "exception": false,
     "start_time": "2025-07-30T19:56:36.056555",
     "status": "completed"
    },
    "tags": []
   },
   "outputs": [],
   "source": [
    "# EXCLUDE CERTAIN SUBGROUPS\n",
    "# ----------------------\n",
    "\n",
    "mode = universe.get(\"exclude_subgroups\", \"keep-all\") \n",
    "# Fetches the exclude_subgroups setting from the universe dict.\n",
    "# Defaults to \"keep-all\" if the key is missing."
   ]
  },
  {
   "cell_type": "code",
   "execution_count": 37,
   "id": "21994072",
   "metadata": {
    "execution": {
     "iopub.execute_input": "2025-07-30T19:56:36.098618Z",
     "iopub.status.busy": "2025-07-30T19:56:36.098096Z",
     "iopub.status.idle": "2025-07-30T19:56:36.103733Z",
     "shell.execute_reply": "2025-07-30T19:56:36.102966Z"
    },
    "papermill": {
     "duration": 0.019415,
     "end_time": "2025-07-30T19:56:36.105245",
     "exception": false,
     "start_time": "2025-07-30T19:56:36.085830",
     "status": "completed"
    },
    "tags": []
   },
   "outputs": [],
   "source": [
    "if mode == \"keep-all\":\n",
    "    keep_mask = pd.Series(True, index=org_train.index)\n",
    "\n",
    "# org_train contains the original feature columns from features_org (in Simson)\n",
    "# features_org contains unprocessed features, for me X_train at beginning ???\n",
    "# For keep-all, creates a boolean Series (keep_mask) of all True, so no rows are removed.\n",
    "\n",
    "elif mode == \"drop-non-german\":\n",
    "    keep_mask = org_train[\"maxdeutsch1\"] == 1 # ??? what about missing values?\n",
    "\n",
    "else:\n",
    "    raise ValueError(f\"Unsupported mode for exclude_subgroups: {mode}\")\n"
   ]
  },
  {
   "cell_type": "code",
   "execution_count": 38,
   "id": "71651440",
   "metadata": {
    "execution": {
     "iopub.execute_input": "2025-07-30T19:56:36.130730Z",
     "iopub.status.busy": "2025-07-30T19:56:36.130221Z",
     "iopub.status.idle": "2025-07-30T19:56:36.136081Z",
     "shell.execute_reply": "2025-07-30T19:56:36.135243Z"
    },
    "papermill": {
     "duration": 0.019711,
     "end_time": "2025-07-30T19:56:36.137319",
     "exception": false,
     "start_time": "2025-07-30T19:56:36.117608",
     "status": "completed"
    },
    "tags": []
   },
   "outputs": [
    {
     "name": "stdout",
     "output_type": "stream",
     "text": [
      "Dropping 3688 rows (14.75%) where mode='drop-non-german'\n"
     ]
    }
   ],
   "source": [
    "n_drop = (~keep_mask).sum() # Calculates how many rows are set to be dropped\n",
    "if n_drop > 0:\n",
    "    pct = n_drop / len(keep_mask) * 100\n",
    "    print(f\"Dropping {n_drop} rows ({pct:.2f}%) where mode='{mode}'\")"
   ]
  },
  {
   "cell_type": "code",
   "execution_count": 39,
   "id": "5fb8eee5",
   "metadata": {
    "execution": {
     "iopub.execute_input": "2025-07-30T19:56:36.162578Z",
     "iopub.status.busy": "2025-07-30T19:56:36.162045Z",
     "iopub.status.idle": "2025-07-30T19:56:36.174784Z",
     "shell.execute_reply": "2025-07-30T19:56:36.173874Z"
    },
    "papermill": {
     "duration": 0.02713,
     "end_time": "2025-07-30T19:56:36.176692",
     "exception": false,
     "start_time": "2025-07-30T19:56:36.149562",
     "status": "completed"
    },
    "tags": []
   },
   "outputs": [],
   "source": [
    "X_train = X_train[keep_mask]"
   ]
  },
  {
   "cell_type": "code",
   "execution_count": 40,
   "id": "b202bb3a",
   "metadata": {
    "execution": {
     "iopub.execute_input": "2025-07-30T19:56:36.227415Z",
     "iopub.status.busy": "2025-07-30T19:56:36.226601Z",
     "iopub.status.idle": "2025-07-30T19:56:36.233777Z",
     "shell.execute_reply": "2025-07-30T19:56:36.232699Z"
    },
    "papermill": {
     "duration": 0.033868,
     "end_time": "2025-07-30T19:56:36.235456",
     "exception": false,
     "start_time": "2025-07-30T19:56:36.201588",
     "status": "completed"
    },
    "tags": []
   },
   "outputs": [],
   "source": [
    "y_train = y_train[keep_mask]"
   ]
  },
  {
   "cell_type": "markdown",
   "id": "493e2ac3",
   "metadata": {
    "papermill": {
     "duration": 0.023842,
     "end_time": "2025-07-30T19:56:36.284275",
     "exception": false,
     "start_time": "2025-07-30T19:56:36.260433",
     "status": "completed"
    },
    "tags": []
   },
   "source": [
    "# Model Training"
   ]
  },
  {
   "cell_type": "code",
   "execution_count": 41,
   "id": "679e1268",
   "metadata": {
    "execution": {
     "iopub.execute_input": "2025-07-30T19:56:36.333655Z",
     "iopub.status.busy": "2025-07-30T19:56:36.332848Z",
     "iopub.status.idle": "2025-07-30T19:56:36.443189Z",
     "shell.execute_reply": "2025-07-30T19:56:36.442394Z"
    },
    "papermill": {
     "duration": 0.13679,
     "end_time": "2025-07-30T19:56:36.444695",
     "exception": false,
     "start_time": "2025-07-30T19:56:36.307905",
     "status": "completed"
    },
    "tags": []
   },
   "outputs": [],
   "source": [
    "from sklearn.linear_model import LogisticRegression\n",
    "from sklearn.ensemble import GradientBoostingClassifier, RandomForestClassifier\n",
    "\n",
    "if (universe[\"model\"] == \"logreg\"):\n",
    "    model = LogisticRegression() #penalty=\"none\") #, solver=\"newton-cg\", max_iter=1) # include random_state=19 ?\n",
    "elif (universe[\"model\"] == \"penalized_logreg\"):\n",
    "    model = LogisticRegression(penalty=\"l2\", C=1.0) #, solver=\"newton-cg\", max_iter=1)\n",
    "elif (universe[\"model\"] == \"rf\"):\n",
    "    model = RandomForestClassifier(n_estimators=100, n_jobs=-1)\n",
    "elif (universe[\"model\"] == \"gbm\"):\n",
    "    model = GradientBoostingClassifier()\n",
    "elif (universe[\"model\"] == \"elasticnet\"):\n",
    "    model = LogisticRegression(penalty = 'elasticnet', solver = 'saga', l1_ratio = 0.5, max_iter=5000) # which solver to use?\n",
    "else:\n",
    "    raise \"Unsupported universe.model\""
   ]
  },
  {
   "cell_type": "code",
   "execution_count": 42,
   "id": "0cc8f744",
   "metadata": {
    "execution": {
     "iopub.execute_input": "2025-07-30T19:56:36.489038Z",
     "iopub.status.busy": "2025-07-30T19:56:36.488501Z",
     "iopub.status.idle": "2025-07-30T19:56:36.495377Z",
     "shell.execute_reply": "2025-07-30T19:56:36.494357Z"
    },
    "papermill": {
     "duration": 0.035018,
     "end_time": "2025-07-30T19:56:36.497055",
     "exception": false,
     "start_time": "2025-07-30T19:56:36.462037",
     "status": "completed"
    },
    "tags": []
   },
   "outputs": [],
   "source": [
    "import numpy as np\n",
    "from sklearn.pipeline import Pipeline\n",
    "from sklearn.preprocessing import StandardScaler\n",
    "\n",
    "model = Pipeline([\n",
    "    #(\"continuous_processor\", continuous_processor),\n",
    "    #(\"categorical_preprocessor\", categorical_preprocessor),\n",
    "    (\"scale\", StandardScaler() if universe[\"scale\"] == \"scale\" else None), \n",
    "    (\"model\", model),\n",
    "])"
   ]
  },
  {
   "cell_type": "code",
   "execution_count": 43,
   "id": "9442c04d",
   "metadata": {
    "execution": {
     "iopub.execute_input": "2025-07-30T19:56:36.545472Z",
     "iopub.status.busy": "2025-07-30T19:56:36.545013Z",
     "iopub.status.idle": "2025-07-30T19:56:57.165181Z",
     "shell.execute_reply": "2025-07-30T19:56:57.164095Z"
    },
    "papermill": {
     "duration": 20.644719,
     "end_time": "2025-07-30T19:56:57.166938",
     "exception": false,
     "start_time": "2025-07-30T19:56:36.522219",
     "status": "completed"
    },
    "tags": []
   },
   "outputs": [
    {
     "data": {
      "text/html": [
       "<style>#sk-container-id-1 {color: black;background-color: white;}#sk-container-id-1 pre{padding: 0;}#sk-container-id-1 div.sk-toggleable {background-color: white;}#sk-container-id-1 label.sk-toggleable__label {cursor: pointer;display: block;width: 100%;margin-bottom: 0;padding: 0.3em;box-sizing: border-box;text-align: center;}#sk-container-id-1 label.sk-toggleable__label-arrow:before {content: \"▸\";float: left;margin-right: 0.25em;color: #696969;}#sk-container-id-1 label.sk-toggleable__label-arrow:hover:before {color: black;}#sk-container-id-1 div.sk-estimator:hover label.sk-toggleable__label-arrow:before {color: black;}#sk-container-id-1 div.sk-toggleable__content {max-height: 0;max-width: 0;overflow: hidden;text-align: left;background-color: #f0f8ff;}#sk-container-id-1 div.sk-toggleable__content pre {margin: 0.2em;color: black;border-radius: 0.25em;background-color: #f0f8ff;}#sk-container-id-1 input.sk-toggleable__control:checked~div.sk-toggleable__content {max-height: 200px;max-width: 100%;overflow: auto;}#sk-container-id-1 input.sk-toggleable__control:checked~label.sk-toggleable__label-arrow:before {content: \"▾\";}#sk-container-id-1 div.sk-estimator input.sk-toggleable__control:checked~label.sk-toggleable__label {background-color: #d4ebff;}#sk-container-id-1 div.sk-label input.sk-toggleable__control:checked~label.sk-toggleable__label {background-color: #d4ebff;}#sk-container-id-1 input.sk-hidden--visually {border: 0;clip: rect(1px 1px 1px 1px);clip: rect(1px, 1px, 1px, 1px);height: 1px;margin: -1px;overflow: hidden;padding: 0;position: absolute;width: 1px;}#sk-container-id-1 div.sk-estimator {font-family: monospace;background-color: #f0f8ff;border: 1px dotted black;border-radius: 0.25em;box-sizing: border-box;margin-bottom: 0.5em;}#sk-container-id-1 div.sk-estimator:hover {background-color: #d4ebff;}#sk-container-id-1 div.sk-parallel-item::after {content: \"\";width: 100%;border-bottom: 1px solid gray;flex-grow: 1;}#sk-container-id-1 div.sk-label:hover label.sk-toggleable__label {background-color: #d4ebff;}#sk-container-id-1 div.sk-serial::before {content: \"\";position: absolute;border-left: 1px solid gray;box-sizing: border-box;top: 0;bottom: 0;left: 50%;z-index: 0;}#sk-container-id-1 div.sk-serial {display: flex;flex-direction: column;align-items: center;background-color: white;padding-right: 0.2em;padding-left: 0.2em;position: relative;}#sk-container-id-1 div.sk-item {position: relative;z-index: 1;}#sk-container-id-1 div.sk-parallel {display: flex;align-items: stretch;justify-content: center;background-color: white;position: relative;}#sk-container-id-1 div.sk-item::before, #sk-container-id-1 div.sk-parallel-item::before {content: \"\";position: absolute;border-left: 1px solid gray;box-sizing: border-box;top: 0;bottom: 0;left: 50%;z-index: -1;}#sk-container-id-1 div.sk-parallel-item {display: flex;flex-direction: column;z-index: 1;position: relative;background-color: white;}#sk-container-id-1 div.sk-parallel-item:first-child::after {align-self: flex-end;width: 50%;}#sk-container-id-1 div.sk-parallel-item:last-child::after {align-self: flex-start;width: 50%;}#sk-container-id-1 div.sk-parallel-item:only-child::after {width: 0;}#sk-container-id-1 div.sk-dashed-wrapped {border: 1px dashed gray;margin: 0 0.4em 0.5em 0.4em;box-sizing: border-box;padding-bottom: 0.4em;background-color: white;}#sk-container-id-1 div.sk-label label {font-family: monospace;font-weight: bold;display: inline-block;line-height: 1.2em;}#sk-container-id-1 div.sk-label-container {text-align: center;}#sk-container-id-1 div.sk-container {/* jupyter's `normalize.less` sets `[hidden] { display: none; }` but bootstrap.min.css set `[hidden] { display: none !important; }` so we also need the `!important` here to be able to override the default hidden behavior on the sphinx rendered scikit-learn.org. See: https://github.com/scikit-learn/scikit-learn/issues/21755 */display: inline-block !important;position: relative;}#sk-container-id-1 div.sk-text-repr-fallback {display: none;}</style><div id=\"sk-container-id-1\" class=\"sk-top-container\"><div class=\"sk-text-repr-fallback\"><pre>Pipeline(steps=[(&#x27;scale&#x27;, StandardScaler()),\n",
       "                (&#x27;model&#x27;,\n",
       "                 LogisticRegression(l1_ratio=0.5, max_iter=5000,\n",
       "                                    penalty=&#x27;elasticnet&#x27;, solver=&#x27;saga&#x27;))])</pre><b>In a Jupyter environment, please rerun this cell to show the HTML representation or trust the notebook. <br />On GitHub, the HTML representation is unable to render, please try loading this page with nbviewer.org.</b></div><div class=\"sk-container\" hidden><div class=\"sk-item sk-dashed-wrapped\"><div class=\"sk-label-container\"><div class=\"sk-label sk-toggleable\"><input class=\"sk-toggleable__control sk-hidden--visually\" id=\"sk-estimator-id-1\" type=\"checkbox\" ><label for=\"sk-estimator-id-1\" class=\"sk-toggleable__label sk-toggleable__label-arrow\">Pipeline</label><div class=\"sk-toggleable__content\"><pre>Pipeline(steps=[(&#x27;scale&#x27;, StandardScaler()),\n",
       "                (&#x27;model&#x27;,\n",
       "                 LogisticRegression(l1_ratio=0.5, max_iter=5000,\n",
       "                                    penalty=&#x27;elasticnet&#x27;, solver=&#x27;saga&#x27;))])</pre></div></div></div><div class=\"sk-serial\"><div class=\"sk-item\"><div class=\"sk-estimator sk-toggleable\"><input class=\"sk-toggleable__control sk-hidden--visually\" id=\"sk-estimator-id-2\" type=\"checkbox\" ><label for=\"sk-estimator-id-2\" class=\"sk-toggleable__label sk-toggleable__label-arrow\">StandardScaler</label><div class=\"sk-toggleable__content\"><pre>StandardScaler()</pre></div></div></div><div class=\"sk-item\"><div class=\"sk-estimator sk-toggleable\"><input class=\"sk-toggleable__control sk-hidden--visually\" id=\"sk-estimator-id-3\" type=\"checkbox\" ><label for=\"sk-estimator-id-3\" class=\"sk-toggleable__label sk-toggleable__label-arrow\">LogisticRegression</label><div class=\"sk-toggleable__content\"><pre>LogisticRegression(l1_ratio=0.5, max_iter=5000, penalty=&#x27;elasticnet&#x27;,\n",
       "                   solver=&#x27;saga&#x27;)</pre></div></div></div></div></div></div></div>"
      ],
      "text/plain": [
       "Pipeline(steps=[('scale', StandardScaler()),\n",
       "                ('model',\n",
       "                 LogisticRegression(l1_ratio=0.5, max_iter=5000,\n",
       "                                    penalty='elasticnet', solver='saga'))])"
      ]
     },
     "execution_count": 43,
     "metadata": {},
     "output_type": "execute_result"
    }
   ],
   "source": [
    "model.fit(X_train, y_train.values.ravel())"
   ]
  },
  {
   "cell_type": "code",
   "execution_count": 44,
   "id": "af59f8c0",
   "metadata": {
    "execution": {
     "iopub.execute_input": "2025-07-30T19:56:57.199802Z",
     "iopub.status.busy": "2025-07-30T19:56:57.199370Z",
     "iopub.status.idle": "2025-07-30T19:56:57.205185Z",
     "shell.execute_reply": "2025-07-30T19:56:57.204186Z"
    },
    "papermill": {
     "duration": 0.021679,
     "end_time": "2025-07-30T19:56:57.206738",
     "exception": false,
     "start_time": "2025-07-30T19:56:57.185059",
     "status": "completed"
    },
    "tags": []
   },
   "outputs": [],
   "source": [
    "from fairness_multiverse.universe import predict_w_threshold"
   ]
  },
  {
   "cell_type": "code",
   "execution_count": 45,
   "id": "a7cf2e16",
   "metadata": {
    "execution": {
     "iopub.execute_input": "2025-07-30T19:56:57.252513Z",
     "iopub.status.busy": "2025-07-30T19:56:57.251827Z",
     "iopub.status.idle": "2025-07-30T19:56:57.445306Z",
     "shell.execute_reply": "2025-07-30T19:56:57.444439Z"
    },
    "papermill": {
     "duration": 0.218119,
     "end_time": "2025-07-30T19:56:57.446898",
     "exception": false,
     "start_time": "2025-07-30T19:56:57.228779",
     "status": "completed"
    },
    "tags": []
   },
   "outputs": [
    {
     "data": {
      "text/plain": [
       "0.864730799242002"
      ]
     },
     "execution_count": 45,
     "metadata": {},
     "output_type": "execute_result"
    }
   ],
   "source": [
    "probs_test = model.predict_proba(X_test)\n",
    "\n",
    "'''\n",
    "Below code returns a boolean array (or binary 0/1 array depending on how it’s used) where each element \n",
    "is True if the probability of class 1 is greater than or equal to the threshold, and False otherwise.\n",
    "'''\n",
    "y_pred_default = predict_w_threshold(probs_test, 0.5)\n",
    "\n",
    "from sklearn.metrics import accuracy_score\n",
    "\n",
    "# Naive prediction\n",
    "accuracy_score(y_true = y_true, y_pred = y_pred_default)"
   ]
  },
  {
   "cell_type": "code",
   "execution_count": 46,
   "id": "081964c3",
   "metadata": {
    "execution": {
     "iopub.execute_input": "2025-07-30T19:56:57.497707Z",
     "iopub.status.busy": "2025-07-30T19:56:57.496894Z",
     "iopub.status.idle": "2025-07-30T19:56:57.669318Z",
     "shell.execute_reply": "2025-07-30T19:56:57.668442Z"
    },
    "papermill": {
     "duration": 0.200315,
     "end_time": "2025-07-30T19:56:57.670974",
     "exception": false,
     "start_time": "2025-07-30T19:56:57.470659",
     "status": "completed"
    },
    "tags": []
   },
   "outputs": [
    {
     "data": {
      "text/plain": [
       "array([0, 0, 0, ..., 0, 0, 0])"
      ]
     },
     "execution_count": 46,
     "metadata": {},
     "output_type": "execute_result"
    }
   ],
   "source": [
    "model.predict(X_test)"
   ]
  },
  {
   "cell_type": "markdown",
   "id": "56c9705b",
   "metadata": {
    "papermill": {
     "duration": 0.022455,
     "end_time": "2025-07-30T19:56:57.716499",
     "exception": false,
     "start_time": "2025-07-30T19:56:57.694044",
     "status": "completed"
    },
    "tags": []
   },
   "source": [
    "# Conformal Prediction"
   ]
  },
  {
   "cell_type": "code",
   "execution_count": 47,
   "id": "160ec6ff",
   "metadata": {
    "execution": {
     "iopub.execute_input": "2025-07-30T19:56:57.762613Z",
     "iopub.status.busy": "2025-07-30T19:56:57.761954Z",
     "iopub.status.idle": "2025-07-30T19:56:57.766921Z",
     "shell.execute_reply": "2025-07-30T19:56:57.766024Z"
    },
    "papermill": {
     "duration": 0.03028,
     "end_time": "2025-07-30T19:56:57.768464",
     "exception": false,
     "start_time": "2025-07-30T19:56:57.738184",
     "status": "completed"
    },
    "tags": []
   },
   "outputs": [],
   "source": [
    "# Miscoverage level for conformal prediction (10% allowed error rate => 90% target coverage)\n",
    "alpha = 0.1"
   ]
  },
  {
   "cell_type": "code",
   "execution_count": 48,
   "id": "eadf4555-3dd3-440e-8e35-f82a4ad9f855",
   "metadata": {
    "execution": {
     "iopub.execute_input": "2025-07-30T19:56:57.818141Z",
     "iopub.status.busy": "2025-07-30T19:56:57.817499Z",
     "iopub.status.idle": "2025-07-30T19:56:57.992025Z",
     "shell.execute_reply": "2025-07-30T19:56:57.991134Z"
    },
    "papermill": {
     "duration": 0.201089,
     "end_time": "2025-07-30T19:56:57.993874",
     "exception": false,
     "start_time": "2025-07-30T19:56:57.792785",
     "status": "completed"
    },
    "tags": []
   },
   "outputs": [],
   "source": [
    "probs_calib = model.predict_proba(X_calib)"
   ]
  },
  {
   "cell_type": "code",
   "execution_count": 49,
   "id": "2ed93547-6d5d-4983-9b36-1ecb300da49a",
   "metadata": {
    "execution": {
     "iopub.execute_input": "2025-07-30T19:56:58.042114Z",
     "iopub.status.busy": "2025-07-30T19:56:58.041472Z",
     "iopub.status.idle": "2025-07-30T19:56:58.046963Z",
     "shell.execute_reply": "2025-07-30T19:56:58.046032Z"
    },
    "papermill": {
     "duration": 0.030546,
     "end_time": "2025-07-30T19:56:58.049001",
     "exception": false,
     "start_time": "2025-07-30T19:56:58.018455",
     "status": "completed"
    },
    "tags": []
   },
   "outputs": [],
   "source": [
    "y_calib = y_calib.values.ravel().astype(int)"
   ]
  },
  {
   "cell_type": "code",
   "execution_count": 50,
   "id": "65d1320d-f588-4b38-9072-62af1ae97f7d",
   "metadata": {
    "execution": {
     "iopub.execute_input": "2025-07-30T19:56:58.099991Z",
     "iopub.status.busy": "2025-07-30T19:56:58.099285Z",
     "iopub.status.idle": "2025-07-30T19:56:58.107669Z",
     "shell.execute_reply": "2025-07-30T19:56:58.106813Z"
    },
    "papermill": {
     "duration": 0.033821,
     "end_time": "2025-07-30T19:56:58.109230",
     "exception": false,
     "start_time": "2025-07-30T19:56:58.075409",
     "status": "completed"
    },
    "tags": []
   },
   "outputs": [],
   "source": [
    "from fairness_multiverse.conformal import compute_nc_scores\n",
    "\n",
    "# Compute nonconformity scores on calibration set (1 - probability of true class)\n",
    "nc_scores = compute_nc_scores(probs_calib, y_calib)"
   ]
  },
  {
   "cell_type": "code",
   "execution_count": 51,
   "id": "df3b8ca3-53b7-43d5-9667-7c85da7aeda2",
   "metadata": {
    "execution": {
     "iopub.execute_input": "2025-07-30T19:56:58.157348Z",
     "iopub.status.busy": "2025-07-30T19:56:58.156703Z",
     "iopub.status.idle": "2025-07-30T19:56:58.164000Z",
     "shell.execute_reply": "2025-07-30T19:56:58.162943Z"
    },
    "papermill": {
     "duration": 0.033144,
     "end_time": "2025-07-30T19:56:58.165756",
     "exception": false,
     "start_time": "2025-07-30T19:56:58.132612",
     "status": "completed"
    },
    "tags": []
   },
   "outputs": [],
   "source": [
    "from fairness_multiverse.conformal import find_threshold\n",
    "\n",
    "# Find conformal threshold q_hat for the given alpha (split conformal method)\n",
    "q_hat = find_threshold(nc_scores, alpha)"
   ]
  },
  {
   "cell_type": "code",
   "execution_count": 52,
   "id": "4d29e6c1-0ef6-4aa4-b8fe-4fe79b0d033a",
   "metadata": {
    "execution": {
     "iopub.execute_input": "2025-07-30T19:56:58.213482Z",
     "iopub.status.busy": "2025-07-30T19:56:58.212952Z",
     "iopub.status.idle": "2025-07-30T19:56:58.220368Z",
     "shell.execute_reply": "2025-07-30T19:56:58.219383Z"
    },
    "papermill": {
     "duration": 0.03282,
     "end_time": "2025-07-30T19:56:58.221861",
     "exception": false,
     "start_time": "2025-07-30T19:56:58.189041",
     "status": "completed"
    },
    "tags": []
   },
   "outputs": [
    {
     "data": {
      "text/plain": [
       "0.6803347271970399"
      ]
     },
     "execution_count": 52,
     "metadata": {},
     "output_type": "execute_result"
    }
   ],
   "source": [
    "q_hat"
   ]
  },
  {
   "cell_type": "code",
   "execution_count": 53,
   "id": "92460794-cdac-4be2-ba28-f28c0515a6fb",
   "metadata": {
    "execution": {
     "iopub.execute_input": "2025-07-30T19:56:58.270491Z",
     "iopub.status.busy": "2025-07-30T19:56:58.269821Z",
     "iopub.status.idle": "2025-07-30T19:56:59.173356Z",
     "shell.execute_reply": "2025-07-30T19:56:59.172378Z"
    },
    "papermill": {
     "duration": 0.92963,
     "end_time": "2025-07-30T19:56:59.175131",
     "exception": false,
     "start_time": "2025-07-30T19:56:58.245501",
     "status": "completed"
    },
    "tags": []
   },
   "outputs": [],
   "source": [
    "from fairness_multiverse.conformal import predict_conformal_sets\n",
    "\n",
    "# Generate prediction sets for each test example\n",
    "pred_sets = predict_conformal_sets(model, X_test, q_hat)"
   ]
  },
  {
   "cell_type": "code",
   "execution_count": 54,
   "id": "d90c9a65-e6db-4f5d-80cd-e68fb7e46829",
   "metadata": {
    "execution": {
     "iopub.execute_input": "2025-07-30T19:56:59.223433Z",
     "iopub.status.busy": "2025-07-30T19:56:59.222951Z",
     "iopub.status.idle": "2025-07-30T19:56:59.228317Z",
     "shell.execute_reply": "2025-07-30T19:56:59.227422Z"
    },
    "papermill": {
     "duration": 0.031231,
     "end_time": "2025-07-30T19:56:59.230127",
     "exception": false,
     "start_time": "2025-07-30T19:56:59.198896",
     "status": "completed"
    },
    "tags": []
   },
   "outputs": [],
   "source": [
    "y_true = y_true.squeeze()"
   ]
  },
  {
   "cell_type": "code",
   "execution_count": 55,
   "id": "3a58a54a-1e68-46b9-927a-df01f18aebc8",
   "metadata": {
    "execution": {
     "iopub.execute_input": "2025-07-30T19:56:59.280796Z",
     "iopub.status.busy": "2025-07-30T19:56:59.280323Z",
     "iopub.status.idle": "2025-07-30T19:56:59.926966Z",
     "shell.execute_reply": "2025-07-30T19:56:59.926167Z"
    },
    "papermill": {
     "duration": 0.673985,
     "end_time": "2025-07-30T19:56:59.928804",
     "exception": false,
     "start_time": "2025-07-30T19:56:59.254819",
     "status": "completed"
    },
    "tags": []
   },
   "outputs": [],
   "source": [
    "from fairness_multiverse.conformal import evaluate_sets\n",
    "\n",
    "# Evaluate coverage and average set size on test data\n",
    "metrics = evaluate_sets(pred_sets, y_true)"
   ]
  },
  {
   "cell_type": "markdown",
   "id": "2b569c12-9aaa-4c88-98c9-bbcd0cf3ebb8",
   "metadata": {
    "papermill": {
     "duration": 0.024251,
     "end_time": "2025-07-30T19:56:59.978505",
     "exception": false,
     "start_time": "2025-07-30T19:56:59.954254",
     "status": "completed"
    },
    "tags": []
   },
   "source": [
    "# CP Metrics"
   ]
  },
  {
   "cell_type": "code",
   "execution_count": 56,
   "id": "5ce0a5cb-201f-45a0-ade5-94c7f0bd6095",
   "metadata": {
    "execution": {
     "iopub.execute_input": "2025-07-30T19:57:00.029369Z",
     "iopub.status.busy": "2025-07-30T19:57:00.028856Z",
     "iopub.status.idle": "2025-07-30T19:57:00.035825Z",
     "shell.execute_reply": "2025-07-30T19:57:00.034852Z"
    },
    "papermill": {
     "duration": 0.035145,
     "end_time": "2025-07-30T19:57:00.037409",
     "exception": false,
     "start_time": "2025-07-30T19:57:00.002264",
     "status": "completed"
    },
    "tags": []
   },
   "outputs": [
    {
     "data": {
      "text/plain": [
       "{'coverage': 0.9124289376881061, 'avg_size': 1.1261620778062646}"
      ]
     },
     "execution_count": 56,
     "metadata": {},
     "output_type": "execute_result"
    }
   ],
   "source": [
    "metrics"
   ]
  },
  {
   "cell_type": "code",
   "execution_count": 57,
   "id": "9b9a838d-31c9-430b-ae14-12baee460d17",
   "metadata": {
    "execution": {
     "iopub.execute_input": "2025-07-30T19:57:00.088379Z",
     "iopub.status.busy": "2025-07-30T19:57:00.087905Z",
     "iopub.status.idle": "2025-07-30T19:57:00.094804Z",
     "shell.execute_reply": "2025-07-30T19:57:00.093894Z"
    },
    "papermill": {
     "duration": 0.034528,
     "end_time": "2025-07-30T19:57:00.096513",
     "exception": false,
     "start_time": "2025-07-30T19:57:00.061985",
     "status": "completed"
    },
    "tags": []
   },
   "outputs": [],
   "source": [
    "example_universe = universe.copy()\n",
    "universe_training_year = example_universe.get(\"training_year\")\n",
    "universe_training_size = example_universe.get(\"training_size\")\n",
    "universe_scale = example_universe.get(\"scale\")\n",
    "universe_model = example_universe.get(\"model\")\n",
    "universe_exclude_features = example_universe.get(\"exclude_features\")\n",
    "universe_exclude_subgroups = example_universe.get(\"exclude_subgroups\")"
   ]
  },
  {
   "cell_type": "code",
   "execution_count": 58,
   "id": "f4b6a8ac-9dc0-4245-8a91-5b3b5999c4f9",
   "metadata": {
    "execution": {
     "iopub.execute_input": "2025-07-30T19:57:00.147080Z",
     "iopub.status.busy": "2025-07-30T19:57:00.146592Z",
     "iopub.status.idle": "2025-07-30T19:57:00.153098Z",
     "shell.execute_reply": "2025-07-30T19:57:00.152081Z"
    },
    "papermill": {
     "duration": 0.033903,
     "end_time": "2025-07-30T19:57:00.155098",
     "exception": false,
     "start_time": "2025-07-30T19:57:00.121195",
     "status": "completed"
    },
    "tags": []
   },
   "outputs": [],
   "source": [
    "cp_metrics_dict = {\n",
    "    \"universe_id\": [universe_id],\n",
    "    \"universe_training_year\": [universe_training_year],\n",
    "    \"universe_training_size\": [universe_training_size],\n",
    "    \"universe_scale\": [universe_scale],\n",
    "    \"universe_model\": [universe_model],\n",
    "    \"universe_exclude_features\": [universe_exclude_features],\n",
    "    \"universe_exclude_subgroups\": [universe_exclude_subgroups],\n",
    "    \"q_hat\": [q_hat],\n",
    "    \"coverage\": [metrics[\"coverage\"]],\n",
    "    \"avg_size\": [metrics[\"avg_size\"]],\n",
    "}"
   ]
  },
  {
   "cell_type": "code",
   "execution_count": 59,
   "id": "908acbb1-0371-4915-85ca-3fa520d2efe2",
   "metadata": {
    "execution": {
     "iopub.execute_input": "2025-07-30T19:57:00.207677Z",
     "iopub.status.busy": "2025-07-30T19:57:00.207094Z",
     "iopub.status.idle": "2025-07-30T19:57:00.215294Z",
     "shell.execute_reply": "2025-07-30T19:57:00.214317Z"
    },
    "papermill": {
     "duration": 0.03529,
     "end_time": "2025-07-30T19:57:00.216851",
     "exception": false,
     "start_time": "2025-07-30T19:57:00.181561",
     "status": "completed"
    },
    "tags": []
   },
   "outputs": [
    {
     "data": {
      "text/plain": [
       "{'universe_id': ['fef25a96ca926ece091170c5f2cbd5c8'],\n",
       " 'universe_training_year': ['2014'],\n",
       " 'universe_training_size': ['25k'],\n",
       " 'universe_scale': ['scale'],\n",
       " 'universe_model': ['elasticnet'],\n",
       " 'universe_exclude_features': ['age'],\n",
       " 'universe_exclude_subgroups': ['drop-non-german'],\n",
       " 'q_hat': [0.6803347271970399],\n",
       " 'coverage': [0.9124289376881061],\n",
       " 'avg_size': [1.1261620778062646]}"
      ]
     },
     "execution_count": 59,
     "metadata": {},
     "output_type": "execute_result"
    }
   ],
   "source": [
    "cp_metrics_dict"
   ]
  },
  {
   "cell_type": "code",
   "execution_count": 60,
   "id": "33007efc-14e9-4ec6-97ac-56a455c82265",
   "metadata": {
    "execution": {
     "iopub.execute_input": "2025-07-30T19:57:00.270060Z",
     "iopub.status.busy": "2025-07-30T19:57:00.269531Z",
     "iopub.status.idle": "2025-07-30T19:57:00.276411Z",
     "shell.execute_reply": "2025-07-30T19:57:00.275164Z"
    },
    "papermill": {
     "duration": 0.034909,
     "end_time": "2025-07-30T19:57:00.278440",
     "exception": false,
     "start_time": "2025-07-30T19:57:00.243531",
     "status": "completed"
    },
    "tags": []
   },
   "outputs": [],
   "source": [
    "cp_metrics_df = pd.DataFrame(cp_metrics_dict)"
   ]
  },
  {
   "cell_type": "code",
   "execution_count": 61,
   "id": "db12611b-57b2-4910-b9d0-355adfd6e7bf",
   "metadata": {
    "execution": {
     "iopub.execute_input": "2025-07-30T19:57:00.331657Z",
     "iopub.status.busy": "2025-07-30T19:57:00.331208Z",
     "iopub.status.idle": "2025-07-30T19:57:00.349452Z",
     "shell.execute_reply": "2025-07-30T19:57:00.348525Z"
    },
    "papermill": {
     "duration": 0.045807,
     "end_time": "2025-07-30T19:57:00.351063",
     "exception": false,
     "start_time": "2025-07-30T19:57:00.305256",
     "status": "completed"
    },
    "tags": []
   },
   "outputs": [
    {
     "data": {
      "text/html": [
       "<div>\n",
       "<style scoped>\n",
       "    .dataframe tbody tr th:only-of-type {\n",
       "        vertical-align: middle;\n",
       "    }\n",
       "\n",
       "    .dataframe tbody tr th {\n",
       "        vertical-align: top;\n",
       "    }\n",
       "\n",
       "    .dataframe thead th {\n",
       "        text-align: right;\n",
       "    }\n",
       "</style>\n",
       "<table border=\"1\" class=\"dataframe\">\n",
       "  <thead>\n",
       "    <tr style=\"text-align: right;\">\n",
       "      <th></th>\n",
       "      <th>universe_id</th>\n",
       "      <th>universe_training_year</th>\n",
       "      <th>universe_training_size</th>\n",
       "      <th>universe_scale</th>\n",
       "      <th>universe_model</th>\n",
       "      <th>universe_exclude_features</th>\n",
       "      <th>universe_exclude_subgroups</th>\n",
       "      <th>q_hat</th>\n",
       "      <th>coverage</th>\n",
       "      <th>avg_size</th>\n",
       "    </tr>\n",
       "  </thead>\n",
       "  <tbody>\n",
       "    <tr>\n",
       "      <th>0</th>\n",
       "      <td>fef25a96ca926ece091170c5f2cbd5c8</td>\n",
       "      <td>2014</td>\n",
       "      <td>25k</td>\n",
       "      <td>scale</td>\n",
       "      <td>elasticnet</td>\n",
       "      <td>age</td>\n",
       "      <td>drop-non-german</td>\n",
       "      <td>0.680335</td>\n",
       "      <td>0.912429</td>\n",
       "      <td>1.126162</td>\n",
       "    </tr>\n",
       "  </tbody>\n",
       "</table>\n",
       "</div>"
      ],
      "text/plain": [
       "                        universe_id universe_training_year  \\\n",
       "0  fef25a96ca926ece091170c5f2cbd5c8                   2014   \n",
       "\n",
       "  universe_training_size universe_scale universe_model  \\\n",
       "0                    25k          scale     elasticnet   \n",
       "\n",
       "  universe_exclude_features universe_exclude_subgroups     q_hat  coverage  \\\n",
       "0                       age            drop-non-german  0.680335  0.912429   \n",
       "\n",
       "   avg_size  \n",
       "0  1.126162  "
      ]
     },
     "execution_count": 61,
     "metadata": {},
     "output_type": "execute_result"
    }
   ],
   "source": [
    "cp_metrics_df"
   ]
  },
  {
   "cell_type": "code",
   "execution_count": 62,
   "id": "b7fbde55-a0a1-47e4-9af6-fe4a17fa8c61",
   "metadata": {
    "execution": {
     "iopub.execute_input": "2025-07-30T19:57:00.404325Z",
     "iopub.status.busy": "2025-07-30T19:57:00.403546Z",
     "iopub.status.idle": "2025-07-30T19:57:00.408591Z",
     "shell.execute_reply": "2025-07-30T19:57:00.407625Z"
    },
    "papermill": {
     "duration": 0.032322,
     "end_time": "2025-07-30T19:57:00.410244",
     "exception": false,
     "start_time": "2025-07-30T19:57:00.377922",
     "status": "completed"
    },
    "tags": []
   },
   "outputs": [],
   "source": [
    "# Conditional Coverage & looking at subgroups"
   ]
  },
  {
   "cell_type": "code",
   "execution_count": 63,
   "id": "027ae886-68dd-4141-96c7-805a5450e1ef",
   "metadata": {
    "execution": {
     "iopub.execute_input": "2025-07-30T19:57:00.462882Z",
     "iopub.status.busy": "2025-07-30T19:57:00.462190Z",
     "iopub.status.idle": "2025-07-30T19:57:00.736551Z",
     "shell.execute_reply": "2025-07-30T19:57:00.735395Z"
    },
    "papermill": {
     "duration": 0.302288,
     "end_time": "2025-07-30T19:57:00.738566",
     "exception": false,
     "start_time": "2025-07-30T19:57:00.436278",
     "status": "completed"
    },
    "tags": []
   },
   "outputs": [],
   "source": [
    "from fairness_multiverse.conformal import build_cp_groups\n",
    "\n",
    "cp_groups_df = build_cp_groups(pred_sets, y_true, X_test.index, org_test)\n",
    "#needs universe_id and setting"
   ]
  },
  {
   "cell_type": "code",
   "execution_count": 64,
   "id": "01d5802c-663a-4d1f-9d69-e036faaffbf7",
   "metadata": {
    "execution": {
     "iopub.execute_input": "2025-07-30T19:57:00.793583Z",
     "iopub.status.busy": "2025-07-30T19:57:00.793074Z",
     "iopub.status.idle": "2025-07-30T19:57:00.798314Z",
     "shell.execute_reply": "2025-07-30T19:57:00.797310Z"
    },
    "papermill": {
     "duration": 0.034408,
     "end_time": "2025-07-30T19:57:00.800123",
     "exception": false,
     "start_time": "2025-07-30T19:57:00.765715",
     "status": "completed"
    },
    "tags": []
   },
   "outputs": [],
   "source": [
    "#delete\n",
    "#cp_groups_df"
   ]
  },
  {
   "cell_type": "code",
   "execution_count": 65,
   "id": "fa424af1-d1eb-443d-b717-2d279ada8408",
   "metadata": {
    "execution": {
     "iopub.execute_input": "2025-07-30T19:57:00.853567Z",
     "iopub.status.busy": "2025-07-30T19:57:00.853071Z",
     "iopub.status.idle": "2025-07-30T19:57:00.858383Z",
     "shell.execute_reply": "2025-07-30T19:57:00.857128Z"
    },
    "papermill": {
     "duration": 0.034359,
     "end_time": "2025-07-30T19:57:00.860143",
     "exception": false,
     "start_time": "2025-07-30T19:57:00.825784",
     "status": "completed"
    },
    "tags": []
   },
   "outputs": [],
   "source": [
    "#delete\n",
    "#percentage = (cp_groups_df['nongerman_female'] == 1).mean() * 100\n",
    "#print(percentage)\n"
   ]
  },
  {
   "cell_type": "code",
   "execution_count": 66,
   "id": "6cbdab96-b2b2-45af-ad54-d0516db2e28d",
   "metadata": {
    "execution": {
     "iopub.execute_input": "2025-07-30T19:57:00.910553Z",
     "iopub.status.busy": "2025-07-30T19:57:00.909727Z",
     "iopub.status.idle": "2025-07-30T19:57:02.634563Z",
     "shell.execute_reply": "2025-07-30T19:57:02.633519Z"
    },
    "papermill": {
     "duration": 1.751098,
     "end_time": "2025-07-30T19:57:02.636566",
     "exception": false,
     "start_time": "2025-07-30T19:57:00.885468",
     "status": "completed"
    },
    "tags": []
   },
   "outputs": [],
   "source": [
    "# Define covered = 1 if true_label is in the predicted set\n",
    "cp_groups_df['covered'] = cp_groups_df.apply(\n",
    "    lambda r: int(r['true_label'] in r['pred_set']),\n",
    "    axis=1\n",
    ")"
   ]
  },
  {
   "cell_type": "code",
   "execution_count": 67,
   "id": "338ff529-1a6b-4b87-a931-8e4788d52aad",
   "metadata": {
    "execution": {
     "iopub.execute_input": "2025-07-30T19:57:02.679777Z",
     "iopub.status.busy": "2025-07-30T19:57:02.679375Z",
     "iopub.status.idle": "2025-07-30T19:57:02.685079Z",
     "shell.execute_reply": "2025-07-30T19:57:02.683890Z"
    },
    "papermill": {
     "duration": 0.022064,
     "end_time": "2025-07-30T19:57:02.686792",
     "exception": false,
     "start_time": "2025-07-30T19:57:02.664728",
     "status": "completed"
    },
    "tags": []
   },
   "outputs": [],
   "source": [
    "#cp_groups_df"
   ]
  },
  {
   "cell_type": "code",
   "execution_count": 68,
   "id": "90032e27-66df-4540-9169-4e89cfbaa758",
   "metadata": {
    "execution": {
     "iopub.execute_input": "2025-07-30T19:57:02.741511Z",
     "iopub.status.busy": "2025-07-30T19:57:02.741005Z",
     "iopub.status.idle": "2025-07-30T19:57:02.752979Z",
     "shell.execute_reply": "2025-07-30T19:57:02.752001Z"
    },
    "papermill": {
     "duration": 0.040946,
     "end_time": "2025-07-30T19:57:02.754664",
     "exception": false,
     "start_time": "2025-07-30T19:57:02.713718",
     "status": "completed"
    },
    "tags": []
   },
   "outputs": [],
   "source": [
    "subgroups = ['frau1','nongerman','nongerman_male','nongerman_female']\n",
    "\n",
    "# Conditional coverage for subgroup==1\n",
    "cond_coverage = {\n",
    "    g: cp_groups_df.loc[cp_groups_df[g]==1, 'covered'].mean()\n",
    "    for g in subgroups\n",
    "}"
   ]
  },
  {
   "cell_type": "code",
   "execution_count": 69,
   "id": "1e348fb1-b9c3-45bc-ba23-f016827a7e0d",
   "metadata": {
    "execution": {
     "iopub.execute_input": "2025-07-30T19:57:02.810941Z",
     "iopub.status.busy": "2025-07-30T19:57:02.810414Z",
     "iopub.status.idle": "2025-07-30T19:57:02.818615Z",
     "shell.execute_reply": "2025-07-30T19:57:02.817582Z"
    },
    "papermill": {
     "duration": 0.038686,
     "end_time": "2025-07-30T19:57:02.820251",
     "exception": false,
     "start_time": "2025-07-30T19:57:02.781565",
     "status": "completed"
    },
    "tags": []
   },
   "outputs": [
    {
     "data": {
      "text/plain": [
       "{'frau1': 0.9112548861032485,\n",
       " 'nongerman': 0.9082131027900971,\n",
       " 'nongerman_male': 0.924795100423309,\n",
       " 'nongerman_female': 0.8807749627421758}"
      ]
     },
     "execution_count": 69,
     "metadata": {},
     "output_type": "execute_result"
    }
   ],
   "source": [
    "cond_coverage"
   ]
  },
  {
   "cell_type": "code",
   "execution_count": 70,
   "id": "f5093324-c3dd-4d63-bc4c-8d945e5c8bbb",
   "metadata": {
    "execution": {
     "iopub.execute_input": "2025-07-30T19:57:02.877551Z",
     "iopub.status.busy": "2025-07-30T19:57:02.877012Z",
     "iopub.status.idle": "2025-07-30T19:57:02.884734Z",
     "shell.execute_reply": "2025-07-30T19:57:02.883703Z"
    },
    "papermill": {
     "duration": 0.038776,
     "end_time": "2025-07-30T19:57:02.886694",
     "exception": false,
     "start_time": "2025-07-30T19:57:02.847918",
     "status": "completed"
    },
    "tags": []
   },
   "outputs": [],
   "source": [
    "for subgroup, cov in cond_coverage.items():\n",
    "    cp_metrics_df[f\"cov_{subgroup}\"] = cov"
   ]
  },
  {
   "cell_type": "code",
   "execution_count": 71,
   "id": "6e872e10-dbe5-49e8-b554-5030c98ff75d",
   "metadata": {
    "execution": {
     "iopub.execute_input": "2025-07-30T19:57:02.942543Z",
     "iopub.status.busy": "2025-07-30T19:57:02.941791Z",
     "iopub.status.idle": "2025-07-30T19:57:02.961709Z",
     "shell.execute_reply": "2025-07-30T19:57:02.959786Z"
    },
    "papermill": {
     "duration": 0.044836,
     "end_time": "2025-07-30T19:57:02.963444",
     "exception": false,
     "start_time": "2025-07-30T19:57:02.918608",
     "status": "completed"
    },
    "tags": []
   },
   "outputs": [
    {
     "data": {
      "text/html": [
       "<div>\n",
       "<style scoped>\n",
       "    .dataframe tbody tr th:only-of-type {\n",
       "        vertical-align: middle;\n",
       "    }\n",
       "\n",
       "    .dataframe tbody tr th {\n",
       "        vertical-align: top;\n",
       "    }\n",
       "\n",
       "    .dataframe thead th {\n",
       "        text-align: right;\n",
       "    }\n",
       "</style>\n",
       "<table border=\"1\" class=\"dataframe\">\n",
       "  <thead>\n",
       "    <tr style=\"text-align: right;\">\n",
       "      <th></th>\n",
       "      <th>universe_id</th>\n",
       "      <th>universe_training_year</th>\n",
       "      <th>universe_training_size</th>\n",
       "      <th>universe_scale</th>\n",
       "      <th>universe_model</th>\n",
       "      <th>universe_exclude_features</th>\n",
       "      <th>universe_exclude_subgroups</th>\n",
       "      <th>q_hat</th>\n",
       "      <th>coverage</th>\n",
       "      <th>avg_size</th>\n",
       "      <th>cov_frau1</th>\n",
       "      <th>cov_nongerman</th>\n",
       "      <th>cov_nongerman_male</th>\n",
       "      <th>cov_nongerman_female</th>\n",
       "    </tr>\n",
       "  </thead>\n",
       "  <tbody>\n",
       "    <tr>\n",
       "      <th>0</th>\n",
       "      <td>fef25a96ca926ece091170c5f2cbd5c8</td>\n",
       "      <td>2014</td>\n",
       "      <td>25k</td>\n",
       "      <td>scale</td>\n",
       "      <td>elasticnet</td>\n",
       "      <td>age</td>\n",
       "      <td>drop-non-german</td>\n",
       "      <td>0.680335</td>\n",
       "      <td>0.912429</td>\n",
       "      <td>1.126162</td>\n",
       "      <td>0.911255</td>\n",
       "      <td>0.908213</td>\n",
       "      <td>0.924795</td>\n",
       "      <td>0.880775</td>\n",
       "    </tr>\n",
       "  </tbody>\n",
       "</table>\n",
       "</div>"
      ],
      "text/plain": [
       "                        universe_id universe_training_year  \\\n",
       "0  fef25a96ca926ece091170c5f2cbd5c8                   2014   \n",
       "\n",
       "  universe_training_size universe_scale universe_model  \\\n",
       "0                    25k          scale     elasticnet   \n",
       "\n",
       "  universe_exclude_features universe_exclude_subgroups     q_hat  coverage  \\\n",
       "0                       age            drop-non-german  0.680335  0.912429   \n",
       "\n",
       "   avg_size  cov_frau1  cov_nongerman  cov_nongerman_male  \\\n",
       "0  1.126162   0.911255       0.908213            0.924795   \n",
       "\n",
       "   cov_nongerman_female  \n",
       "0              0.880775  "
      ]
     },
     "execution_count": 71,
     "metadata": {},
     "output_type": "execute_result"
    }
   ],
   "source": [
    "cp_metrics_df"
   ]
  },
  {
   "cell_type": "markdown",
   "id": "33774451",
   "metadata": {
    "papermill": {
     "duration": 0.028355,
     "end_time": "2025-07-30T19:57:03.021854",
     "exception": false,
     "start_time": "2025-07-30T19:57:02.993499",
     "status": "completed"
    },
    "tags": []
   },
   "source": [
    "# (Fairness) Metrics"
   ]
  },
  {
   "cell_type": "code",
   "execution_count": 72,
   "id": "debc5d62",
   "metadata": {
    "execution": {
     "iopub.execute_input": "2025-07-30T19:57:03.078974Z",
     "iopub.status.busy": "2025-07-30T19:57:03.078285Z",
     "iopub.status.idle": "2025-07-30T19:57:03.100107Z",
     "shell.execute_reply": "2025-07-30T19:57:03.099136Z"
    },
    "papermill": {
     "duration": 0.052888,
     "end_time": "2025-07-30T19:57:03.102177",
     "exception": false,
     "start_time": "2025-07-30T19:57:03.049289",
     "status": "completed"
    },
    "tags": []
   },
   "outputs": [],
   "source": [
    "# do I need to include maxdeutsch1.missing?\n",
    "\n",
    "import numpy as np\n",
    "\n",
    "colname_to_bin = \"maxdeutsch1\"\n",
    "majority_value = org_train[colname_to_bin].mode()[0]\n",
    "\n",
    "org_test[\"majmin\"] = np.where(org_test[colname_to_bin] == majority_value, \"majority\", \"minority\")"
   ]
  },
  {
   "cell_type": "code",
   "execution_count": 73,
   "id": "06a50de5",
   "metadata": {
    "execution": {
     "iopub.execute_input": "2025-07-30T19:57:03.160785Z",
     "iopub.status.busy": "2025-07-30T19:57:03.159641Z",
     "iopub.status.idle": "2025-07-30T19:57:06.102042Z",
     "shell.execute_reply": "2025-07-30T19:57:06.101041Z"
    },
    "papermill": {
     "duration": 2.973453,
     "end_time": "2025-07-30T19:57:06.103899",
     "exception": false,
     "start_time": "2025-07-30T19:57:03.130446",
     "status": "completed"
    },
    "tags": []
   },
   "outputs": [],
   "source": [
    "example_universe = universe.copy()\n",
    "example_universe[\"cutoff\"] = example_universe[\"cutoff\"][0]\n",
    "example_universe[\"eval_fairness_grouping\"] = example_universe[\"eval_fairness_grouping\"][0]\n",
    "fairness_dict, metric_frame = universe_analysis.compute_metrics(\n",
    "    example_universe,\n",
    "    y_pred_prob=probs_test,\n",
    "    y_test=y_true,\n",
    "    org_test=org_test,\n",
    ")"
   ]
  },
  {
   "cell_type": "markdown",
   "id": "f95d4e02",
   "metadata": {
    "papermill": {
     "duration": 0.027178,
     "end_time": "2025-07-30T19:57:06.160302",
     "exception": false,
     "start_time": "2025-07-30T19:57:06.133124",
     "status": "completed"
    },
    "tags": []
   },
   "source": [
    "# Overall"
   ]
  },
  {
   "cell_type": "markdown",
   "id": "bdee4871",
   "metadata": {
    "papermill": {
     "duration": 0.016718,
     "end_time": "2025-07-30T19:57:06.204240",
     "exception": false,
     "start_time": "2025-07-30T19:57:06.187522",
     "status": "completed"
    },
    "tags": []
   },
   "source": [
    "Fairness\n",
    "Main fairness target: Equalized Odds. Seems to be a better fit than equal opportunity, since we're not only interested in Y = 1. Seems to be a better fit than demographic parity, since we also care about accuracy, not just equal distribution of preds.\n",
    "\n",
    "Pick column for computation of fairness metrics\n",
    "\n",
    "Performance\n",
    "Overall performance measures, most interesting in relation to the measures split by group below"
   ]
  },
  {
   "cell_type": "code",
   "execution_count": 74,
   "id": "c4e067c6",
   "metadata": {
    "execution": {
     "iopub.execute_input": "2025-07-30T19:57:06.233293Z",
     "iopub.status.busy": "2025-07-30T19:57:06.232892Z",
     "iopub.status.idle": "2025-07-30T19:57:06.240540Z",
     "shell.execute_reply": "2025-07-30T19:57:06.239570Z"
    },
    "papermill": {
     "duration": 0.024137,
     "end_time": "2025-07-30T19:57:06.242278",
     "exception": false,
     "start_time": "2025-07-30T19:57:06.218141",
     "status": "completed"
    },
    "tags": []
   },
   "outputs": [
    {
     "data": {
      "text/plain": [
       "accuracy                   0.225226\n",
       "balanced accuracy          0.550530\n",
       "f1                         0.246534\n",
       "precision                  0.140837\n",
       "false positive rate        0.887036\n",
       "false negative rate        0.011905\n",
       "selection rate             0.900000\n",
       "count                  89710.000000\n",
       "dtype: float64"
      ]
     },
     "execution_count": 74,
     "metadata": {},
     "output_type": "execute_result"
    }
   ],
   "source": [
    "metric_frame.overall"
   ]
  },
  {
   "cell_type": "markdown",
   "id": "e968fe9d",
   "metadata": {
    "papermill": {
     "duration": 0.013942,
     "end_time": "2025-07-30T19:57:06.273395",
     "exception": false,
     "start_time": "2025-07-30T19:57:06.259453",
     "status": "completed"
    },
    "tags": []
   },
   "source": [
    "By Group"
   ]
  },
  {
   "cell_type": "code",
   "execution_count": 75,
   "id": "ec325bce",
   "metadata": {
    "execution": {
     "iopub.execute_input": "2025-07-30T19:57:06.316778Z",
     "iopub.status.busy": "2025-07-30T19:57:06.316304Z",
     "iopub.status.idle": "2025-07-30T19:57:06.332565Z",
     "shell.execute_reply": "2025-07-30T19:57:06.331616Z"
    },
    "papermill": {
     "duration": 0.046598,
     "end_time": "2025-07-30T19:57:06.333940",
     "exception": false,
     "start_time": "2025-07-30T19:57:06.287342",
     "status": "completed"
    },
    "tags": []
   },
   "outputs": [
    {
     "data": {
      "text/html": [
       "<div>\n",
       "<style scoped>\n",
       "    .dataframe tbody tr th:only-of-type {\n",
       "        vertical-align: middle;\n",
       "    }\n",
       "\n",
       "    .dataframe tbody tr th {\n",
       "        vertical-align: top;\n",
       "    }\n",
       "\n",
       "    .dataframe thead th {\n",
       "        text-align: right;\n",
       "    }\n",
       "</style>\n",
       "<table border=\"1\" class=\"dataframe\">\n",
       "  <thead>\n",
       "    <tr style=\"text-align: right;\">\n",
       "      <th></th>\n",
       "      <th>accuracy</th>\n",
       "      <th>balanced accuracy</th>\n",
       "      <th>f1</th>\n",
       "      <th>precision</th>\n",
       "      <th>false positive rate</th>\n",
       "      <th>false negative rate</th>\n",
       "      <th>selection rate</th>\n",
       "      <th>count</th>\n",
       "    </tr>\n",
       "    <tr>\n",
       "      <th>majmin</th>\n",
       "      <th></th>\n",
       "      <th></th>\n",
       "      <th></th>\n",
       "      <th></th>\n",
       "      <th></th>\n",
       "      <th></th>\n",
       "      <th></th>\n",
       "      <th></th>\n",
       "    </tr>\n",
       "  </thead>\n",
       "  <tbody>\n",
       "    <tr>\n",
       "      <th>majority</th>\n",
       "      <td>0.245352</td>\n",
       "      <td>0.559800</td>\n",
       "      <td>0.256901</td>\n",
       "      <td>0.147664</td>\n",
       "      <td>0.867600</td>\n",
       "      <td>0.012801</td>\n",
       "      <td>0.883403</td>\n",
       "      <td>69170.0</td>\n",
       "    </tr>\n",
       "    <tr>\n",
       "      <th>minority</th>\n",
       "      <td>0.157449</td>\n",
       "      <td>0.520155</td>\n",
       "      <td>0.213435</td>\n",
       "      <td>0.119588</td>\n",
       "      <td>0.951244</td>\n",
       "      <td>0.008446</td>\n",
       "      <td>0.955891</td>\n",
       "      <td>20540.0</td>\n",
       "    </tr>\n",
       "  </tbody>\n",
       "</table>\n",
       "</div>"
      ],
      "text/plain": [
       "          accuracy  balanced accuracy        f1  precision  \\\n",
       "majmin                                                       \n",
       "majority  0.245352           0.559800  0.256901   0.147664   \n",
       "minority  0.157449           0.520155  0.213435   0.119588   \n",
       "\n",
       "          false positive rate  false negative rate  selection rate    count  \n",
       "majmin                                                                       \n",
       "majority             0.867600             0.012801        0.883403  69170.0  \n",
       "minority             0.951244             0.008446        0.955891  20540.0  "
      ]
     },
     "execution_count": 75,
     "metadata": {},
     "output_type": "execute_result"
    }
   ],
   "source": [
    "metric_frame.by_group"
   ]
  },
  {
   "cell_type": "code",
   "execution_count": 76,
   "id": "a9ddbe63",
   "metadata": {
    "execution": {
     "iopub.execute_input": "2025-07-30T19:57:06.381536Z",
     "iopub.status.busy": "2025-07-30T19:57:06.380698Z",
     "iopub.status.idle": "2025-07-30T19:57:08.809173Z",
     "shell.execute_reply": "2025-07-30T19:57:08.808220Z"
    },
    "papermill": {
     "duration": 2.46081,
     "end_time": "2025-07-30T19:57:08.810842",
     "exception": false,
     "start_time": "2025-07-30T19:57:06.350032",
     "status": "completed"
    },
    "tags": []
   },
   "outputs": [
    {
     "data": {
      "text/plain": [
       "array([[<Axes: title={'center': 'accuracy'}, xlabel='majmin'>,\n",
       "        <Axes: title={'center': 'balanced accuracy'}, xlabel='majmin'>,\n",
       "        <Axes: title={'center': 'f1'}, xlabel='majmin'>],\n",
       "       [<Axes: title={'center': 'precision'}, xlabel='majmin'>,\n",
       "        <Axes: title={'center': 'false positive rate'}, xlabel='majmin'>,\n",
       "        <Axes: title={'center': 'false negative rate'}, xlabel='majmin'>],\n",
       "       [<Axes: title={'center': 'selection rate'}, xlabel='majmin'>,\n",
       "        <Axes: title={'center': 'count'}, xlabel='majmin'>,\n",
       "        <Axes: xlabel='majmin'>]], dtype=object)"
      ]
     },
     "execution_count": 76,
     "metadata": {},
     "output_type": "execute_result"
    },
    {
     "data": {
      "image/png": "[encoded data removed]",
      "text/plain": [
       "<Figure size 1200x800 with 9 Axes>"
      ]
     },
     "metadata": {},
     "output_type": "display_data"
    }
   ],
   "source": [
    "# In a graphic\n",
    "metric_frame.by_group.plot.bar(\n",
    "    subplots=True,\n",
    "    layout=[3, 3],\n",
    "    legend=False,\n",
    "    figsize=[12, 8],\n",
    "    title=\"Show all metrics\",\n",
    ")"
   ]
  },
  {
   "cell_type": "markdown",
   "id": "f57a0bac",
   "metadata": {
    "papermill": {
     "duration": 0.03033,
     "end_time": "2025-07-30T19:57:08.871487",
     "exception": false,
     "start_time": "2025-07-30T19:57:08.841157",
     "status": "completed"
    },
    "tags": []
   },
   "source": [
    "# Final Output"
   ]
  },
  {
   "cell_type": "code",
   "execution_count": 77,
   "id": "96d280a3",
   "metadata": {
    "execution": {
     "iopub.execute_input": "2025-07-30T19:57:08.931918Z",
     "iopub.status.busy": "2025-07-30T19:57:08.931277Z",
     "iopub.status.idle": "2025-07-30T19:57:08.939565Z",
     "shell.execute_reply": "2025-07-30T19:57:08.938728Z"
    },
    "papermill": {
     "duration": 0.040858,
     "end_time": "2025-07-30T19:57:08.941143",
     "exception": false,
     "start_time": "2025-07-30T19:57:08.900285",
     "status": "completed"
    },
    "tags": []
   },
   "outputs": [
    {
     "data": {
      "text/plain": [
       "4"
      ]
     },
     "execution_count": 77,
     "metadata": {},
     "output_type": "execute_result"
    }
   ],
   "source": [
    "sub_universes = universe_analysis.generate_sub_universes()\n",
    "len(sub_universes)"
   ]
  },
  {
   "cell_type": "code",
   "execution_count": 78,
   "id": "92adf7ba",
   "metadata": {
    "execution": {
     "iopub.execute_input": "2025-07-30T19:57:09.001163Z",
     "iopub.status.busy": "2025-07-30T19:57:09.000741Z",
     "iopub.status.idle": "2025-07-30T19:57:09.006792Z",
     "shell.execute_reply": "2025-07-30T19:57:09.005805Z"
    },
    "papermill": {
     "duration": 0.038954,
     "end_time": "2025-07-30T19:57:09.008565",
     "exception": false,
     "start_time": "2025-07-30T19:57:08.969611",
     "status": "completed"
    },
    "tags": []
   },
   "outputs": [],
   "source": [
    "def filter_sub_universe_data(sub_universe, org_test):\n",
    "    # Keep all rows — no filtering\n",
    "    keep_rows_mask = np.ones(org_test.shape[0], dtype=bool)\n",
    "\n",
    "    print(f\"[INFO] Keeping all rows: {keep_rows_mask.sum()} rows retained.\")\n",
    "    return keep_rows_mask"
   ]
  },
  {
   "cell_type": "code",
   "execution_count": 79,
   "id": "4a759155",
   "metadata": {
    "execution": {
     "iopub.execute_input": "2025-07-30T19:57:09.081543Z",
     "iopub.status.busy": "2025-07-30T19:57:09.079748Z",
     "iopub.status.idle": "2025-07-30T19:57:19.849604Z",
     "shell.execute_reply": "2025-07-30T19:57:19.848451Z"
    },
    "papermill": {
     "duration": 10.804512,
     "end_time": "2025-07-30T19:57:19.851347",
     "exception": false,
     "start_time": "2025-07-30T19:57:09.046835",
     "status": "completed"
    },
    "tags": []
   },
   "outputs": [
    {
     "name": "stdout",
     "output_type": "stream",
     "text": [
      "Stopping execution_time clock.\n",
      "[INFO] Keeping all rows: 89710 rows retained.\n"
     ]
    },
    {
     "name": "stdout",
     "output_type": "stream",
     "text": [
      "[INFO] Keeping all rows: 89710 rows retained.\n"
     ]
    },
    {
     "name": "stdout",
     "output_type": "stream",
     "text": [
      "[INFO] Keeping all rows: 89710 rows retained.\n"
     ]
    },
    {
     "name": "stdout",
     "output_type": "stream",
     "text": [
      "[INFO] Keeping all rows: 89710 rows retained.\n"
     ]
    },
    {
     "data": {
      "text/html": [
       "<div>\n",
       "<style scoped>\n",
       "    .dataframe tbody tr th:only-of-type {\n",
       "        vertical-align: middle;\n",
       "    }\n",
       "\n",
       "    .dataframe tbody tr th {\n",
       "        vertical-align: top;\n",
       "    }\n",
       "\n",
       "    .dataframe thead th {\n",
       "        text-align: right;\n",
       "    }\n",
       "</style>\n",
       "<table border=\"1\" class=\"dataframe\">\n",
       "  <thead>\n",
       "    <tr style=\"text-align: right;\">\n",
       "      <th></th>\n",
       "      <th>run_no</th>\n",
       "      <th>universe_id</th>\n",
       "      <th>universe_settings</th>\n",
       "      <th>execution_time</th>\n",
       "      <th>test_size_n</th>\n",
       "      <th>test_size_frac</th>\n",
       "      <th>fair_main_equalized_odds_difference</th>\n",
       "      <th>fair_main_equalized_odds_ratio</th>\n",
       "      <th>fair_main_demographic_parity_difference</th>\n",
       "      <th>fair_main_demographic_parity_ratio</th>\n",
       "      <th>...</th>\n",
       "      <th>perf_grp_precision_0</th>\n",
       "      <th>perf_grp_precision_1</th>\n",
       "      <th>perf_grp_false positive rate_0</th>\n",
       "      <th>perf_grp_false positive rate_1</th>\n",
       "      <th>perf_grp_false negative rate_0</th>\n",
       "      <th>perf_grp_false negative rate_1</th>\n",
       "      <th>perf_grp_selection rate_0</th>\n",
       "      <th>perf_grp_selection rate_1</th>\n",
       "      <th>perf_grp_count_0</th>\n",
       "      <th>perf_grp_count_1</th>\n",
       "    </tr>\n",
       "  </thead>\n",
       "  <tbody>\n",
       "    <tr>\n",
       "      <th>0</th>\n",
       "      <td>14</td>\n",
       "      <td>fef25a96ca926ece091170c5f2cbd5c8</td>\n",
       "      <td>{\"cutoff\": \"quantile_0.1\", \"eval_fairness_grou...</td>\n",
       "      <td>47.537335</td>\n",
       "      <td>89710</td>\n",
       "      <td>1.0</td>\n",
       "      <td>0.083644</td>\n",
       "      <td>0.912069</td>\n",
       "      <td>0.072488</td>\n",
       "      <td>0.924167</td>\n",
       "      <td>...</td>\n",
       "      <td>NaN</td>\n",
       "      <td>NaN</td>\n",
       "      <td>NaN</td>\n",
       "      <td>NaN</td>\n",
       "      <td>NaN</td>\n",
       "      <td>NaN</td>\n",
       "      <td>NaN</td>\n",
       "      <td>NaN</td>\n",
       "      <td>NaN</td>\n",
       "      <td>NaN</td>\n",
       "    </tr>\n",
       "    <tr>\n",
       "      <th>0</th>\n",
       "      <td>14</td>\n",
       "      <td>fef25a96ca926ece091170c5f2cbd5c8</td>\n",
       "      <td>{\"cutoff\": \"quantile_0.1\", \"eval_fairness_grou...</td>\n",
       "      <td>47.537335</td>\n",
       "      <td>89710</td>\n",
       "      <td>1.0</td>\n",
       "      <td>0.083644</td>\n",
       "      <td>0.912069</td>\n",
       "      <td>0.072488</td>\n",
       "      <td>0.924167</td>\n",
       "      <td>...</td>\n",
       "      <td>0.119588</td>\n",
       "      <td>0.147664</td>\n",
       "      <td>0.951244</td>\n",
       "      <td>0.867600</td>\n",
       "      <td>0.008446</td>\n",
       "      <td>0.012801</td>\n",
       "      <td>0.955891</td>\n",
       "      <td>0.883403</td>\n",
       "      <td>20540.0</td>\n",
       "      <td>69170.0</td>\n",
       "    </tr>\n",
       "    <tr>\n",
       "      <th>0</th>\n",
       "      <td>14</td>\n",
       "      <td>fef25a96ca926ece091170c5f2cbd5c8</td>\n",
       "      <td>{\"cutoff\": \"quantile_0.25\", \"eval_fairness_gro...</td>\n",
       "      <td>47.537335</td>\n",
       "      <td>89710</td>\n",
       "      <td>1.0</td>\n",
       "      <td>0.152872</td>\n",
       "      <td>0.817621</td>\n",
       "      <td>0.132544</td>\n",
       "      <td>0.844467</td>\n",
       "      <td>...</td>\n",
       "      <td>NaN</td>\n",
       "      <td>NaN</td>\n",
       "      <td>NaN</td>\n",
       "      <td>NaN</td>\n",
       "      <td>NaN</td>\n",
       "      <td>NaN</td>\n",
       "      <td>NaN</td>\n",
       "      <td>NaN</td>\n",
       "      <td>NaN</td>\n",
       "      <td>NaN</td>\n",
       "    </tr>\n",
       "    <tr>\n",
       "      <th>0</th>\n",
       "      <td>14</td>\n",
       "      <td>fef25a96ca926ece091170c5f2cbd5c8</td>\n",
       "      <td>{\"cutoff\": \"quantile_0.25\", \"eval_fairness_gro...</td>\n",
       "      <td>47.537335</td>\n",
       "      <td>89710</td>\n",
       "      <td>1.0</td>\n",
       "      <td>0.152872</td>\n",
       "      <td>0.817621</td>\n",
       "      <td>0.132544</td>\n",
       "      <td>0.844467</td>\n",
       "      <td>...</td>\n",
       "      <td>0.129799</td>\n",
       "      <td>0.173510</td>\n",
       "      <td>0.838213</td>\n",
       "      <td>0.685341</td>\n",
       "      <td>0.040541</td>\n",
       "      <td>0.055033</td>\n",
       "      <td>0.852191</td>\n",
       "      <td>0.719647</td>\n",
       "      <td>20540.0</td>\n",
       "      <td>69170.0</td>\n",
       "    </tr>\n",
       "  </tbody>\n",
       "</table>\n",
       "<p>4 rows × 50 columns</p>\n",
       "</div>"
      ],
      "text/plain": [
       "  run_no                       universe_id  \\\n",
       "0     14  fef25a96ca926ece091170c5f2cbd5c8   \n",
       "0     14  fef25a96ca926ece091170c5f2cbd5c8   \n",
       "0     14  fef25a96ca926ece091170c5f2cbd5c8   \n",
       "0     14  fef25a96ca926ece091170c5f2cbd5c8   \n",
       "\n",
       "                                   universe_settings  execution_time  \\\n",
       "0  {\"cutoff\": \"quantile_0.1\", \"eval_fairness_grou...       47.537335   \n",
       "0  {\"cutoff\": \"quantile_0.1\", \"eval_fairness_grou...       47.537335   \n",
       "0  {\"cutoff\": \"quantile_0.25\", \"eval_fairness_gro...       47.537335   \n",
       "0  {\"cutoff\": \"quantile_0.25\", \"eval_fairness_gro...       47.537335   \n",
       "\n",
       "   test_size_n  test_size_frac  fair_main_equalized_odds_difference  \\\n",
       "0        89710             1.0                             0.083644   \n",
       "0        89710             1.0                             0.083644   \n",
       "0        89710             1.0                             0.152872   \n",
       "0        89710             1.0                             0.152872   \n",
       "\n",
       "   fair_main_equalized_odds_ratio  fair_main_demographic_parity_difference  \\\n",
       "0                        0.912069                                 0.072488   \n",
       "0                        0.912069                                 0.072488   \n",
       "0                        0.817621                                 0.132544   \n",
       "0                        0.817621                                 0.132544   \n",
       "\n",
       "   fair_main_demographic_parity_ratio  ...  perf_grp_precision_0  \\\n",
       "0                            0.924167  ...                   NaN   \n",
       "0                            0.924167  ...              0.119588   \n",
       "0                            0.844467  ...                   NaN   \n",
       "0                            0.844467  ...              0.129799   \n",
       "\n",
       "   perf_grp_precision_1  perf_grp_false positive rate_0  \\\n",
       "0                   NaN                             NaN   \n",
       "0              0.147664                        0.951244   \n",
       "0                   NaN                             NaN   \n",
       "0              0.173510                        0.838213   \n",
       "\n",
       "   perf_grp_false positive rate_1  perf_grp_false negative rate_0  \\\n",
       "0                             NaN                             NaN   \n",
       "0                        0.867600                        0.008446   \n",
       "0                             NaN                             NaN   \n",
       "0                        0.685341                        0.040541   \n",
       "\n",
       "   perf_grp_false negative rate_1  perf_grp_selection rate_0  \\\n",
       "0                             NaN                        NaN   \n",
       "0                        0.012801                   0.955891   \n",
       "0                             NaN                        NaN   \n",
       "0                        0.055033                   0.852191   \n",
       "\n",
       "   perf_grp_selection rate_1  perf_grp_count_0  perf_grp_count_1  \n",
       "0                        NaN               NaN               NaN  \n",
       "0                   0.883403           20540.0           69170.0  \n",
       "0                        NaN               NaN               NaN  \n",
       "0                   0.719647           20540.0           69170.0  \n",
       "\n",
       "[4 rows x 50 columns]"
      ]
     },
     "execution_count": 79,
     "metadata": {},
     "output_type": "execute_result"
    }
   ],
   "source": [
    "final_output = universe_analysis.generate_final_output(\n",
    "    y_pred_prob=probs_test,\n",
    "    y_test=y_true,\n",
    "    org_test=org_test,\n",
    "    filter_data=filter_sub_universe_data,\n",
    "    cp_metrics_df=cp_metrics_df,\n",
    "    save=True,\n",
    ")\n",
    "final_output"
   ]
  },
  {
   "cell_type": "code",
   "execution_count": null,
   "id": "721ff514-cb11-46f8-b6fc-50392f74b5cb",
   "metadata": {
    "papermill": {
     "duration": 0.030576,
     "end_time": "2025-07-30T19:57:19.914352",
     "exception": false,
     "start_time": "2025-07-30T19:57:19.883776",
     "status": "completed"
    },
    "tags": []
   },
   "outputs": [],
   "source": []
  }
 ],
 "metadata": {
  "celltoolbar": "Tags",
  "kernelspec": {
   "display_name": "Python (CMA Fairness)",
   "language": "python",
   "name": "cma_fair_env"
  },
  "language_info": {
   "codemirror_mode": {
    "name": "ipython",
    "version": 3
   },
   "file_extension": ".py",
   "mimetype": "text/x-python",
   "name": "python",
   "nbconvert_exporter": "python",
   "pygments_lexer": "ipython3",
   "version": "3.10.12"
  },
  "papermill": {
   "default_parameters": {},
   "duration": 62.456497,
   "end_time": "2025-07-30T19:57:20.762107",
   "environment_variables": {},
   "exception": null,
   "input_path": "universe_analysis.ipynb",
   "output_path": "output/runs/14/notebooks/m_14-fef25a96ca926ece091170c5f2cbd5c8.ipynb",
   "parameters": {
    "output_dir": "output",
    "run_no": "14",
    "seed": "2023",
    "universe": "{\"cutoff\": [\"quantile_0.1\", \"quantile_0.25\"], \"eval_fairness_grouping\": [\"majority-minority\", \"nationality-all\"], \"exclude_features\": \"age\", \"exclude_subgroups\": \"drop-non-german\", \"model\": \"elasticnet\", \"scale\": \"scale\", \"training_size\": \"25k\", \"training_year\": \"2014\"}",
    "universe_id": "fef25a96ca926ece091170c5f2cbd5c8"
   },
   "start_time": "2025-07-30T19:56:18.305610",
   "version": "2.6.0"
  }
 },
 "nbformat": 4,
 "nbformat_minor": 5
}