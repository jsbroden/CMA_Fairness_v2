{
 "cells": [
  {
   "cell_type": "code",
   "execution_count": 1,
   "id": "f159f837-637b-42ba-96b5-ec9a68c44524",
   "metadata": {
    "execution": {
     "iopub.execute_input": "2025-07-30T20:53:25.337500Z",
     "iopub.status.busy": "2025-07-30T20:53:25.336977Z",
     "iopub.status.idle": "2025-07-30T20:53:25.373069Z",
     "shell.execute_reply": "2025-07-30T20:53:25.371827Z"
    },
    "papermill": {
     "duration": 0.091092,
     "end_time": "2025-07-30T20:53:25.390392",
     "exception": false,
     "start_time": "2025-07-30T20:53:25.299300",
     "status": "completed"
    },
    "tags": []
   },
   "outputs": [
    {
     "name": "stdout",
     "output_type": "stream",
     "text": [
      "/dss/dsshome1/0C/ra93lal2/cma/CMA_Fairness_v2\n"
     ]
    },
    {
     "name": "stderr",
     "output_type": "stream",
     "text": [
      "/dss/dsshome1/0C/ra93lal2/.local/share/virtualenvs/CMA_Fairness_v2-3j10GkSs/lib/python3.10/site-packages/IPython/core/magics/osm.py:393: UserWarning: This is now an optional IPython functionality, using bookmarks requires you to install the `pickleshare` library.\n",
      "  bkms = self.shell.db.get('bookmarks', {})\n",
      "/dss/dsshome1/0C/ra93lal2/.local/share/virtualenvs/CMA_Fairness_v2-3j10GkSs/lib/python3.10/site-packages/IPython/core/magics/osm.py:417: UserWarning: This is now an optional IPython functionality, setting dhist requires you to install the `pickleshare` library.\n",
      "  self.shell.db['dhist'] = compress_dhist(dhist)[-100:]\n"
     ]
    }
   ],
   "source": [
    "%cd ~/cma/CMA_Fairness_v2"
   ]
  },
  {
   "cell_type": "markdown",
   "id": "de2603b9",
   "metadata": {
    "papermill": {
     "duration": 0.035789,
     "end_time": "2025-07-30T20:53:25.460444",
     "exception": false,
     "start_time": "2025-07-30T20:53:25.424655",
     "status": "completed"
    },
    "tags": []
   },
   "source": [
    "The following cell holds the definition of our parameters, these values can be overriden by rendering the with e.g. the following command:\n",
    "\n",
    "papermill -p alpha 0.2 -p ratio 0.3 universe_analysis.ipynb output/test_run.ipynb"
   ]
  },
  {
   "cell_type": "code",
   "execution_count": 2,
   "id": "a80968a0-40bb-4fa9-85ef-2d5eefb01975",
   "metadata": {
    "execution": {
     "iopub.execute_input": "2025-07-30T20:53:25.548824Z",
     "iopub.status.busy": "2025-07-30T20:53:25.548371Z",
     "iopub.status.idle": "2025-07-30T20:53:25.553847Z",
     "shell.execute_reply": "2025-07-30T20:53:25.552958Z"
    },
    "papermill": {
     "duration": 0.055738,
     "end_time": "2025-07-30T20:53:25.558121",
     "exception": false,
     "start_time": "2025-07-30T20:53:25.502383",
     "status": "completed"
    },
    "tags": []
   },
   "outputs": [
    {
     "name": "stdout",
     "output_type": "stream",
     "text": [
      "Current working directory: /dss/dsshome1/0C/ra93lal2/cma/CMA_Fairness_v2\n"
     ]
    }
   ],
   "source": [
    "import os\n",
    "print(\"Current working directory:\", os.getcwd())"
   ]
  },
  {
   "cell_type": "code",
   "execution_count": 3,
   "id": "2dce4c03",
   "metadata": {
    "execution": {
     "iopub.execute_input": "2025-07-30T20:53:25.612321Z",
     "iopub.status.busy": "2025-07-30T20:53:25.611922Z",
     "iopub.status.idle": "2025-07-30T20:53:25.618710Z",
     "shell.execute_reply": "2025-07-30T20:53:25.617468Z"
    },
    "papermill": {
     "duration": 0.031208,
     "end_time": "2025-07-30T20:53:25.621976",
     "exception": false,
     "start_time": "2025-07-30T20:53:25.590768",
     "status": "completed"
    },
    "tags": [
     "parameters"
    ]
   },
   "outputs": [],
   "source": [
    "run_no = 0\n",
    "universe_id = \"test\"\n",
    "universe = {\n",
    "    \"training_size\": \"25k\", # \"25k\", \"5k\", \"1k\"\n",
    "    \"training_year\": \"2014\", # \"2014\", \"2012_14\", \"2010_14\"\n",
    "    \"scale\": \"scale\", # \"scale\", \"do-not-scale\",\n",
    "    #\"stratify_split\": \"target\", # \"none\", \"target\", \"protected-attribute\", \"both\",\n",
    "    \"model\": \"elasticnet\", # \"logreg\", \"penalized_logreg\", \"rf\", \"gbm\", \"elasticnet\"\n",
    "    \"cutoff\": [\"quantile_0.15\", \"quantile_0.30\"],\n",
    "    \"exclude_features\": \"age\", # \"none\", \"nationality\", \"sex\", \"nationality-sex\", \"age\"\n",
    "    \"exclude_subgroups\": \"keep-all\", # \"keep-all\", \"drop-non-german\"\n",
    "    \"eval_fairness_grouping\": [\"majority-minority\", \"nationality-all\"]\n",
    "}\n",
    "\n",
    "output_dir=\"./output\"\n",
    "seed=0"
   ]
  },
  {
   "cell_type": "code",
   "execution_count": 4,
   "id": "e665be67",
   "metadata": {
    "execution": {
     "iopub.execute_input": "2025-07-30T20:53:25.703056Z",
     "iopub.status.busy": "2025-07-30T20:53:25.702582Z",
     "iopub.status.idle": "2025-07-30T20:53:25.708172Z",
     "shell.execute_reply": "2025-07-30T20:53:25.707221Z"
    },
    "papermill": {
     "duration": 0.033547,
     "end_time": "2025-07-30T20:53:25.711026",
     "exception": false,
     "start_time": "2025-07-30T20:53:25.677479",
     "status": "completed"
    },
    "tags": [
     "injected-parameters"
    ]
   },
   "outputs": [],
   "source": [
    "# Parameters\n",
    "universe_id = \"497e0dc2c04e71aa53bcad02bc750d7b\"\n",
    "run_no = \"14\"\n",
    "universe = \"{\\\"cutoff\\\": [\\\"quantile_0.1\\\", \\\"quantile_0.25\\\"], \\\"eval_fairness_grouping\\\": [\\\"majority-minority\\\", \\\"nationality-all\\\"], \\\"exclude_features\\\": \\\"none\\\", \\\"exclude_subgroups\\\": \\\"drop-non-german\\\", \\\"model\\\": \\\"gbm\\\", \\\"scale\\\": \\\"do-not-scale\\\", \\\"training_size\\\": \\\"5k\\\", \\\"training_year\\\": \\\"2014\\\"}\"\n",
    "output_dir = \"output\"\n",
    "seed = \"2023\"\n"
   ]
  },
  {
   "cell_type": "code",
   "execution_count": 5,
   "id": "1650acaf",
   "metadata": {
    "execution": {
     "iopub.execute_input": "2025-07-30T20:53:25.787717Z",
     "iopub.status.busy": "2025-07-30T20:53:25.786761Z",
     "iopub.status.idle": "2025-07-30T20:53:25.794515Z",
     "shell.execute_reply": "2025-07-30T20:53:25.793520Z"
    },
    "papermill": {
     "duration": 0.061544,
     "end_time": "2025-07-30T20:53:25.796134",
     "exception": false,
     "start_time": "2025-07-30T20:53:25.734590",
     "status": "completed"
    },
    "tags": []
   },
   "outputs": [],
   "source": [
    "import json\n",
    "# Parse universe into dict if it is passed as a string\n",
    "if isinstance(universe, str):\n",
    "    universe = json.loads(universe)"
   ]
  },
  {
   "cell_type": "code",
   "execution_count": 6,
   "id": "16620c48",
   "metadata": {
    "execution": {
     "iopub.execute_input": "2025-07-30T20:53:25.842213Z",
     "iopub.status.busy": "2025-07-30T20:53:25.841605Z",
     "iopub.status.idle": "2025-07-30T20:53:25.940918Z",
     "shell.execute_reply": "2025-07-30T20:53:25.939731Z"
    },
    "papermill": {
     "duration": 0.125599,
     "end_time": "2025-07-30T20:53:25.943656",
     "exception": false,
     "start_time": "2025-07-30T20:53:25.818057",
     "status": "completed"
    },
    "tags": []
   },
   "outputs": [],
   "source": [
    "# Auto-reload the custom package\n",
    "%load_ext autoreload\n",
    "%autoreload 1\n",
    "%aimport fairness_multiverse"
   ]
  },
  {
   "cell_type": "code",
   "execution_count": 7,
   "id": "01c5c9f3",
   "metadata": {
    "execution": {
     "iopub.execute_input": "2025-07-30T20:53:26.022465Z",
     "iopub.status.busy": "2025-07-30T20:53:26.022076Z",
     "iopub.status.idle": "2025-07-30T20:53:29.579452Z",
     "shell.execute_reply": "2025-07-30T20:53:29.578381Z"
    },
    "papermill": {
     "duration": 3.596676,
     "end_time": "2025-07-30T20:53:29.581698",
     "exception": false,
     "start_time": "2025-07-30T20:53:25.985022",
     "status": "completed"
    },
    "tags": []
   },
   "outputs": [],
   "source": [
    "from fairness_multiverse.universe import UniverseAnalysis\n",
    "\n",
    "universe_analysis = UniverseAnalysis(\n",
    "    run_no = run_no,\n",
    "    universe_id = universe_id,\n",
    "    universe = universe,\n",
    "    output_dir=output_dir,\n",
    ")"
   ]
  },
  {
   "cell_type": "code",
   "execution_count": 8,
   "id": "106241f5",
   "metadata": {
    "execution": {
     "iopub.execute_input": "2025-07-30T20:53:29.636363Z",
     "iopub.status.busy": "2025-07-30T20:53:29.635873Z",
     "iopub.status.idle": "2025-07-30T20:53:29.642923Z",
     "shell.execute_reply": "2025-07-30T20:53:29.641871Z"
    },
    "papermill": {
     "duration": 0.04124,
     "end_time": "2025-07-30T20:53:29.645015",
     "exception": false,
     "start_time": "2025-07-30T20:53:29.603775",
     "status": "completed"
    },
    "tags": []
   },
   "outputs": [
    {
     "name": "stdout",
     "output_type": "stream",
     "text": [
      "Using Seed: 2023\n"
     ]
    }
   ],
   "source": [
    "import numpy as np\n",
    "parsed_seed = int(seed)\n",
    "np.random.seed(parsed_seed)\n",
    "print(f\"Using Seed: {parsed_seed}\")"
   ]
  },
  {
   "cell_type": "markdown",
   "id": "e0ebdc57",
   "metadata": {
    "papermill": {
     "duration": 0.019062,
     "end_time": "2025-07-30T20:53:29.692411",
     "exception": false,
     "start_time": "2025-07-30T20:53:29.673349",
     "status": "completed"
    },
    "tags": []
   },
   "source": [
    "# Loading Data"
   ]
  },
  {
   "cell_type": "markdown",
   "id": "681925a3",
   "metadata": {
    "papermill": {
     "duration": 0.034619,
     "end_time": "2025-07-30T20:53:29.767273",
     "exception": false,
     "start_time": "2025-07-30T20:53:29.732654",
     "status": "completed"
    },
    "tags": []
   },
   "source": [
    "Load siab_train, siab_test, siab_calib and/or \n",
    "load siab_train_features, siab_train_labels"
   ]
  },
  {
   "cell_type": "code",
   "execution_count": 9,
   "id": "f0496b8a",
   "metadata": {
    "execution": {
     "iopub.execute_input": "2025-07-30T20:53:29.817903Z",
     "iopub.status.busy": "2025-07-30T20:53:29.817376Z",
     "iopub.status.idle": "2025-07-30T20:53:42.219493Z",
     "shell.execute_reply": "2025-07-30T20:53:42.218164Z"
    },
    "papermill": {
     "duration": 12.428016,
     "end_time": "2025-07-30T20:53:42.221690",
     "exception": false,
     "start_time": "2025-07-30T20:53:29.793674",
     "status": "completed"
    },
    "tags": []
   },
   "outputs": [
    {
     "name": "stdout",
     "output_type": "stream",
     "text": [
      "Loading SIAB data from cache: data/siab_cached.csv.gz\n"
     ]
    },
    {
     "name": "stdout",
     "output_type": "stream",
     "text": [
      "(643690, 164)\n"
     ]
    }
   ],
   "source": [
    "from pathlib import Path\n",
    "import pandas as pd\n",
    "\n",
    "# File paths\n",
    "raw_file = Path(\"data/raw/siab.csv\")\n",
    "cache_file = Path(\"data/siab_cached.csv.gz\")\n",
    "\n",
    "# Ensure cache directory exists\n",
    "cache_file.parent.mkdir(parents=True, exist_ok=True)\n",
    "\n",
    "# Load with simple caching\n",
    "if cache_file.exists():\n",
    "    print(f\"Loading SIAB data from cache: {cache_file}\")\n",
    "    siab = pd.read_csv(cache_file, compression='gzip')\n",
    "else:\n",
    "    print(f\"Cache not found. Reading raw SIAB data: {raw_file}\")\n",
    "    siab = pd.read_csv(raw_file)\n",
    "    siab.to_csv(cache_file, index=False, compression='gzip')\n",
    "    print(f\"Cached SIAB data to: {cache_file}\")\n",
    "\n",
    "# Now use `siab` DataFrame as needed\n",
    "print(siab.shape)"
   ]
  },
  {
   "cell_type": "code",
   "execution_count": 10,
   "id": "db0ca512-5f53-4dba-abdb-a2888bca41ba",
   "metadata": {
    "execution": {
     "iopub.execute_input": "2025-07-30T20:53:42.273672Z",
     "iopub.status.busy": "2025-07-30T20:53:42.272946Z",
     "iopub.status.idle": "2025-07-30T20:53:42.278891Z",
     "shell.execute_reply": "2025-07-30T20:53:42.277856Z"
    },
    "papermill": {
     "duration": 0.032288,
     "end_time": "2025-07-30T20:53:42.280459",
     "exception": false,
     "start_time": "2025-07-30T20:53:42.248171",
     "status": "completed"
    },
    "tags": []
   },
   "outputs": [],
   "source": [
    "#siab"
   ]
  },
  {
   "cell_type": "code",
   "execution_count": 11,
   "id": "a0edb063",
   "metadata": {
    "execution": {
     "iopub.execute_input": "2025-07-30T20:53:42.325863Z",
     "iopub.status.busy": "2025-07-30T20:53:42.325131Z",
     "iopub.status.idle": "2025-07-30T20:53:42.330331Z",
     "shell.execute_reply": "2025-07-30T20:53:42.329350Z"
    },
    "papermill": {
     "duration": 0.0296,
     "end_time": "2025-07-30T20:53:42.332012",
     "exception": false,
     "start_time": "2025-07-30T20:53:42.302412",
     "status": "completed"
    },
    "tags": []
   },
   "outputs": [],
   "source": [
    "#import pandas as pd\n",
    "#\n",
    "#X_train = pd.read_csv(\"./data/X_train.csv\")\n",
    "#y_train = pd.read_csv(\"./data/y_train.csv\")"
   ]
  },
  {
   "cell_type": "code",
   "execution_count": 12,
   "id": "63d08085",
   "metadata": {
    "execution": {
     "iopub.execute_input": "2025-07-30T20:53:42.377793Z",
     "iopub.status.busy": "2025-07-30T20:53:42.377286Z",
     "iopub.status.idle": "2025-07-30T20:53:42.382427Z",
     "shell.execute_reply": "2025-07-30T20:53:42.381292Z"
    },
    "papermill": {
     "duration": 0.0295,
     "end_time": "2025-07-30T20:53:42.384090",
     "exception": false,
     "start_time": "2025-07-30T20:53:42.354590",
     "status": "completed"
    },
    "tags": []
   },
   "outputs": [],
   "source": [
    "#X_test = pd.read_csv(\"./data/X_test.csv\")\n",
    "#y_true = pd.read_csv(\"./data/y_test.csv\")"
   ]
  },
  {
   "cell_type": "code",
   "execution_count": 13,
   "id": "98a8d0fa-1d3d-4ed8-bb2c-281470e24add",
   "metadata": {
    "execution": {
     "iopub.execute_input": "2025-07-30T20:53:42.430711Z",
     "iopub.status.busy": "2025-07-30T20:53:42.430090Z",
     "iopub.status.idle": "2025-07-30T20:53:42.435920Z",
     "shell.execute_reply": "2025-07-30T20:53:42.434894Z"
    },
    "papermill": {
     "duration": 0.030951,
     "end_time": "2025-07-30T20:53:42.437626",
     "exception": false,
     "start_time": "2025-07-30T20:53:42.406675",
     "status": "completed"
    },
    "tags": []
   },
   "outputs": [],
   "source": [
    "# Calibration data for conformal\n",
    "#X_calib = pd.read_csv(\"./data/X_calib.csv\")\n",
    "#y_calib = pd.read_csv(\"./data/y_calib.csv\")"
   ]
  },
  {
   "cell_type": "markdown",
   "id": "997051c5-15bd-4b69-9786-c3001a3ce484",
   "metadata": {
    "papermill": {
     "duration": 0.022507,
     "end_time": "2025-07-30T20:53:42.482397",
     "exception": false,
     "start_time": "2025-07-30T20:53:42.459890",
     "status": "completed"
    },
    "tags": []
   },
   "source": [
    "# Splitting Data and Setting Training Data Size"
   ]
  },
  {
   "cell_type": "code",
   "execution_count": 14,
   "id": "e993b61f-042d-41a6-8c81-f55681f86335",
   "metadata": {
    "execution": {
     "iopub.execute_input": "2025-07-30T20:53:42.529602Z",
     "iopub.status.busy": "2025-07-30T20:53:42.528630Z",
     "iopub.status.idle": "2025-07-30T20:53:42.543033Z",
     "shell.execute_reply": "2025-07-30T20:53:42.541922Z"
    },
    "papermill": {
     "duration": 0.039976,
     "end_time": "2025-07-30T20:53:42.544778",
     "exception": false,
     "start_time": "2025-07-30T20:53:42.504802",
     "status": "completed"
    },
    "tags": []
   },
   "outputs": [],
   "source": [
    "def sample_by_year_size(df,\n",
    "                        training_year: str,\n",
    "                        training_size: str,\n",
    "                        random_state: int = 42):\n",
    "    # --- parse training_year into a list of int years ---\n",
    "    if \"_\" in training_year:\n",
    "        start_str, end_str = training_year.split(\"_\", 1)\n",
    "        start = int(start_str)\n",
    "        end   = int(end_str) if len(end_str) == 4 else (int(end_str) + (start // 100)*100)\n",
    "        years = list(range(start, end + 1))\n",
    "    else:\n",
    "        years = [int(training_year)]\n",
    "\n",
    "    df = df[df[\"year\"].isin(years)].reset_index(drop=True)\n",
    "\n",
    "    # --- map training_size to total number of samples ---\n",
    "    total_map = {\"25k\": 25_000, \"5k\": 5_000, \"1k\": 1_000}\n",
    "    if training_size not in total_map:\n",
    "        return df  # e.g. \"all\"\n",
    "\n",
    "    total_samples = total_map[training_size]\n",
    "    n_years       = len(years)\n",
    "    base          = total_samples // n_years\n",
    "    remainder     = total_samples % n_years\n",
    "\n",
    "    # --- build a dict: year -> how many to sample ---\n",
    "    # give +1 to the first `remainder` years in ascending order\n",
    "    quotas = {\n",
    "        year: base + (1 if idx < remainder else 0)\n",
    "        for idx, year in enumerate(sorted(years))\n",
    "    }\n",
    "\n",
    "    # --- sample per‐year according to the quota dict ---\n",
    "    sampled = (\n",
    "        df\n",
    "        .groupby(\"year\", group_keys=False)\n",
    "        .apply(lambda grp: grp.sample(\n",
    "            n=min(len(grp), quotas[grp.name]),\n",
    "            random_state=random_state))\n",
    "        .reset_index(drop=True)\n",
    "    )\n",
    "\n",
    "    return sampled"
   ]
  },
  {
   "cell_type": "code",
   "execution_count": 15,
   "id": "c0ccd338-0e02-41f3-a09d-f56f9266e3fb",
   "metadata": {
    "execution": {
     "iopub.execute_input": "2025-07-30T20:53:42.592657Z",
     "iopub.status.busy": "2025-07-30T20:53:42.591339Z",
     "iopub.status.idle": "2025-07-30T20:53:42.597250Z",
     "shell.execute_reply": "2025-07-30T20:53:42.596205Z"
    },
    "papermill": {
     "duration": 0.031204,
     "end_time": "2025-07-30T20:53:42.598899",
     "exception": false,
     "start_time": "2025-07-30T20:53:42.567695",
     "status": "completed"
    },
    "tags": []
   },
   "outputs": [],
   "source": [
    "#universe[\"training_size\"]"
   ]
  },
  {
   "cell_type": "code",
   "execution_count": 16,
   "id": "ca707fd7-8047-4acd-bfa5-66248fbbf8e6",
   "metadata": {
    "execution": {
     "iopub.execute_input": "2025-07-30T20:53:42.647140Z",
     "iopub.status.busy": "2025-07-30T20:53:42.646487Z",
     "iopub.status.idle": "2025-07-30T20:53:42.651522Z",
     "shell.execute_reply": "2025-07-30T20:53:42.650460Z"
    },
    "papermill": {
     "duration": 0.030457,
     "end_time": "2025-07-30T20:53:42.653556",
     "exception": false,
     "start_time": "2025-07-30T20:53:42.623099",
     "status": "completed"
    },
    "tags": []
   },
   "outputs": [],
   "source": [
    "#universe[\"training_year\"]"
   ]
  },
  {
   "cell_type": "code",
   "execution_count": 17,
   "id": "aea9c6ef-6f46-42c8-85eb-5a62025c1508",
   "metadata": {
    "execution": {
     "iopub.execute_input": "2025-07-30T20:53:42.699131Z",
     "iopub.status.busy": "2025-07-30T20:53:42.698607Z",
     "iopub.status.idle": "2025-07-30T20:53:42.898472Z",
     "shell.execute_reply": "2025-07-30T20:53:42.897656Z"
    },
    "papermill": {
     "duration": 0.224028,
     "end_time": "2025-07-30T20:53:42.899939",
     "exception": false,
     "start_time": "2025-07-30T20:53:42.675911",
     "status": "completed"
    },
    "tags": []
   },
   "outputs": [],
   "source": [
    "siab_train = sample_by_year_size(siab,\n",
    "                               training_year=universe[\"training_year\"],\n",
    "                               training_size=universe[\"training_size\"])"
   ]
  },
  {
   "cell_type": "code",
   "execution_count": 18,
   "id": "8d3afb32-789d-442c-8d5d-9f5aa8dd2eed",
   "metadata": {
    "execution": {
     "iopub.execute_input": "2025-07-30T20:53:42.923784Z",
     "iopub.status.busy": "2025-07-30T20:53:42.923361Z",
     "iopub.status.idle": "2025-07-30T20:53:42.928647Z",
     "shell.execute_reply": "2025-07-30T20:53:42.927564Z"
    },
    "papermill": {
     "duration": 0.019158,
     "end_time": "2025-07-30T20:53:42.930109",
     "exception": false,
     "start_time": "2025-07-30T20:53:42.910951",
     "status": "completed"
    },
    "tags": []
   },
   "outputs": [],
   "source": [
    "#siab_train.shape"
   ]
  },
  {
   "cell_type": "code",
   "execution_count": 19,
   "id": "d582db68-1a4c-47fb-84fc-08518dc1975a",
   "metadata": {
    "execution": {
     "iopub.execute_input": "2025-07-30T20:53:42.972273Z",
     "iopub.status.busy": "2025-07-30T20:53:42.971386Z",
     "iopub.status.idle": "2025-07-30T20:53:42.977297Z",
     "shell.execute_reply": "2025-07-30T20:53:42.976233Z"
    },
    "papermill": {
     "duration": 0.027771,
     "end_time": "2025-07-30T20:53:42.978804",
     "exception": false,
     "start_time": "2025-07-30T20:53:42.951033",
     "status": "completed"
    },
    "tags": []
   },
   "outputs": [],
   "source": [
    "#display(siab_train.groupby(\"year\").size())"
   ]
  },
  {
   "cell_type": "code",
   "execution_count": 20,
   "id": "a561edb4-d032-42cb-8256-22eac1111c64",
   "metadata": {
    "execution": {
     "iopub.execute_input": "2025-07-30T20:53:43.019889Z",
     "iopub.status.busy": "2025-07-30T20:53:43.019472Z",
     "iopub.status.idle": "2025-07-30T20:53:43.247023Z",
     "shell.execute_reply": "2025-07-30T20:53:43.246078Z"
    },
    "papermill": {
     "duration": 0.250214,
     "end_time": "2025-07-30T20:53:43.248972",
     "exception": false,
     "start_time": "2025-07-30T20:53:42.998758",
     "status": "completed"
    },
    "tags": []
   },
   "outputs": [],
   "source": [
    "#siab_train = siab_s[siab_s.year < 2015]\n",
    "siab_calib = siab[siab.year == 2015]\n",
    "siab_test = siab[siab.year == 2016]"
   ]
  },
  {
   "cell_type": "code",
   "execution_count": 21,
   "id": "472de16f-c3db-4916-846b-1f0de9cf1746",
   "metadata": {
    "execution": {
     "iopub.execute_input": "2025-07-30T20:53:43.292023Z",
     "iopub.status.busy": "2025-07-30T20:53:43.291455Z",
     "iopub.status.idle": "2025-07-30T20:53:43.300317Z",
     "shell.execute_reply": "2025-07-30T20:53:43.299350Z"
    },
    "papermill": {
     "duration": 0.032275,
     "end_time": "2025-07-30T20:53:43.301957",
     "exception": false,
     "start_time": "2025-07-30T20:53:43.269682",
     "status": "completed"
    },
    "tags": []
   },
   "outputs": [],
   "source": [
    "X_train = siab_train.iloc[:,4:164]\n",
    "y_train = siab_train.iloc[:, [3]]"
   ]
  },
  {
   "cell_type": "code",
   "execution_count": 22,
   "id": "828c96af-f43a-4ed6-ba47-8ac73a47d56c",
   "metadata": {
    "execution": {
     "iopub.execute_input": "2025-07-30T20:53:43.348322Z",
     "iopub.status.busy": "2025-07-30T20:53:43.347586Z",
     "iopub.status.idle": "2025-07-30T20:53:43.378664Z",
     "shell.execute_reply": "2025-07-30T20:53:43.377651Z"
    },
    "papermill": {
     "duration": 0.057643,
     "end_time": "2025-07-30T20:53:43.380403",
     "exception": false,
     "start_time": "2025-07-30T20:53:43.322760",
     "status": "completed"
    },
    "tags": []
   },
   "outputs": [],
   "source": [
    "X_calib = siab_calib.iloc[:,4:164]\n",
    "y_calib = siab_calib.iloc[:, [3]]"
   ]
  },
  {
   "cell_type": "code",
   "execution_count": 23,
   "id": "c34be9c3-6bd6-476e-acd3-845840e303be",
   "metadata": {
    "execution": {
     "iopub.execute_input": "2025-07-30T20:53:43.422686Z",
     "iopub.status.busy": "2025-07-30T20:53:43.421842Z",
     "iopub.status.idle": "2025-07-30T20:53:43.477252Z",
     "shell.execute_reply": "2025-07-30T20:53:43.476196Z"
    },
    "papermill": {
     "duration": 0.077259,
     "end_time": "2025-07-30T20:53:43.479061",
     "exception": false,
     "start_time": "2025-07-30T20:53:43.401802",
     "status": "completed"
    },
    "tags": []
   },
   "outputs": [],
   "source": [
    "X_test = siab_test.iloc[:,4:164]\n",
    "y_true = siab_test.iloc[:, [3]]"
   ]
  },
  {
   "cell_type": "markdown",
   "id": "9901737e-04df-44f0-9100-f5ad144ed040",
   "metadata": {
    "papermill": {
     "duration": 0.01975,
     "end_time": "2025-07-30T20:53:43.525642",
     "exception": false,
     "start_time": "2025-07-30T20:53:43.505892",
     "status": "completed"
    },
    "tags": []
   },
   "source": [
    "# Splitting Data and Setting Training Data Size OLD VERSION"
   ]
  },
  {
   "cell_type": "code",
   "execution_count": 24,
   "id": "acbc8f7d-8fc8-4e86-8c59-5dcb0f58384b",
   "metadata": {
    "execution": {
     "iopub.execute_input": "2025-07-30T20:53:43.567961Z",
     "iopub.status.busy": "2025-07-30T20:53:43.567482Z",
     "iopub.status.idle": "2025-07-30T20:53:43.573369Z",
     "shell.execute_reply": "2025-07-30T20:53:43.572162Z"
    },
    "papermill": {
     "duration": 0.029041,
     "end_time": "2025-07-30T20:53:43.575059",
     "exception": false,
     "start_time": "2025-07-30T20:53:43.546018",
     "status": "completed"
    },
    "tags": []
   },
   "outputs": [],
   "source": [
    "#def sample_by_year(df, training_size, random_state=42):\n",
    "#    if training_size == \"2014\":\n",
    "#        return df[df[\"year\"] == 2014].reset_index(drop=True)\n",
    "#    \n",
    "#    size_map = {\n",
    "#        \"25k\": 5000,\n",
    "#        \"5k\": 1000,\n",
    "#        \"1k\": 200\n",
    "#    }\n",
    "#\n",
    "#    if training_size not in size_map:\n",
    "#        return df.reset_index(drop=True)  # use all data\n",
    "#\n",
    "#    n_per_year = size_map[training_size]\n",
    "#    grouped = df.groupby(\"year\")\n",
    "#    sampled = grouped.apply(lambda x: x.sample(n=min(n_per_year, len(x)), random_state=random_state))\n",
    "#    return sampled.reset_index(drop=True)"
   ]
  },
  {
   "cell_type": "code",
   "execution_count": 25,
   "id": "6d931f52-beaf-43ff-9e78-9d44a448d54e",
   "metadata": {
    "execution": {
     "iopub.execute_input": "2025-07-30T20:53:43.619121Z",
     "iopub.status.busy": "2025-07-30T20:53:43.618664Z",
     "iopub.status.idle": "2025-07-30T20:53:43.623486Z",
     "shell.execute_reply": "2025-07-30T20:53:43.622642Z"
    },
    "papermill": {
     "duration": 0.027697,
     "end_time": "2025-07-30T20:53:43.625233",
     "exception": false,
     "start_time": "2025-07-30T20:53:43.597536",
     "status": "completed"
    },
    "tags": []
   },
   "outputs": [],
   "source": [
    "#siab_s = sample_by_year(siab, universe[\"training_size\"])"
   ]
  },
  {
   "cell_type": "code",
   "execution_count": 26,
   "id": "5db0a40e-a4e2-4920-be85-b12ae061d70d",
   "metadata": {
    "execution": {
     "iopub.execute_input": "2025-07-30T20:53:43.666307Z",
     "iopub.status.busy": "2025-07-30T20:53:43.665616Z",
     "iopub.status.idle": "2025-07-30T20:53:43.670361Z",
     "shell.execute_reply": "2025-07-30T20:53:43.669393Z"
    },
    "papermill": {
     "duration": 0.026522,
     "end_time": "2025-07-30T20:53:43.671896",
     "exception": false,
     "start_time": "2025-07-30T20:53:43.645374",
     "status": "completed"
    },
    "tags": []
   },
   "outputs": [],
   "source": [
    "#display(siab_s.groupby(\"year\").size())"
   ]
  },
  {
   "cell_type": "code",
   "execution_count": 27,
   "id": "e6c733c5",
   "metadata": {
    "execution": {
     "iopub.execute_input": "2025-07-30T20:53:43.741228Z",
     "iopub.status.busy": "2025-07-30T20:53:43.740728Z",
     "iopub.status.idle": "2025-07-30T20:53:43.840311Z",
     "shell.execute_reply": "2025-07-30T20:53:43.839370Z"
    },
    "papermill": {
     "duration": 0.149081,
     "end_time": "2025-07-30T20:53:43.842254",
     "exception": false,
     "start_time": "2025-07-30T20:53:43.693173",
     "status": "completed"
    },
    "tags": []
   },
   "outputs": [],
   "source": [
    "# Auxiliary data needed downstream in the pipeline\n",
    "\n",
    "org_train = X_train.copy()\n",
    "org_test = X_test.copy()\n",
    "org_calib = X_calib.copy()"
   ]
  },
  {
   "cell_type": "code",
   "execution_count": 28,
   "id": "1466abac-c6da-4492-a62f-4240ae3783af",
   "metadata": {
    "execution": {
     "iopub.execute_input": "2025-07-30T20:53:43.886366Z",
     "iopub.status.busy": "2025-07-30T20:53:43.885907Z",
     "iopub.status.idle": "2025-07-30T20:53:43.892085Z",
     "shell.execute_reply": "2025-07-30T20:53:43.891124Z"
    },
    "papermill": {
     "duration": 0.029242,
     "end_time": "2025-07-30T20:53:43.893689",
     "exception": false,
     "start_time": "2025-07-30T20:53:43.864447",
     "status": "completed"
    },
    "tags": []
   },
   "outputs": [],
   "source": [
    "# put in other script?\n",
    "# Group sizes\n",
    "\n",
    "#def calculate_percentages(df, df_name):\n",
    "#    total_entries = len(df)\n",
    "#\n",
    "#    female_pct = (df['frau1'] == 1).mean() * 100\n",
    "#    non_german_pct = ((df['maxdeutsch1'] == 0) & (df['maxdeutsch.Missing.'] == 0)).mean() * 100\n",
    "#    non_german_male_pct = ((df['frau1'] == 0) & (df['maxdeutsch1'] == 0) & (df['maxdeutsch.Missing.'] == 0)).mean() * 100\n",
    "#    non_german_female_pct = ((df['frau1'] == 1) & (df['maxdeutsch1'] == 0) & (df['maxdeutsch.Missing.'] == 0)).mean() * 100\n",
    "#\n",
    "#    print(f\"--- {df_name} ---\")\n",
    "#    print(f\"Female: {female_pct:.2f}%\")\n",
    "#    print(f\"Non-German: {non_german_pct:.2f}%\")\n",
    "#    print(f\"Non-German Male: {non_german_male_pct:.2f}%\")\n",
    "#    print(f\"Non-German Female: {non_german_female_pct:.2f}%\\n\")\n",
    "#\n",
    "## Calculate for each DataFrame\n",
    "#calculate_percentages(siab_calib, \"siab_calib\")\n",
    "#calculate_percentages(siab_test, \"siab_test\")\n",
    "#calculate_percentages(siab_train, \"siab_train\")"
   ]
  },
  {
   "cell_type": "markdown",
   "id": "0a4a1b33",
   "metadata": {
    "papermill": {
     "duration": 0.020899,
     "end_time": "2025-07-30T20:53:43.939028",
     "exception": false,
     "start_time": "2025-07-30T20:53:43.918129",
     "status": "completed"
    },
    "tags": []
   },
   "source": [
    "# Preprocessing Data"
   ]
  },
  {
   "cell_type": "code",
   "execution_count": 29,
   "id": "ca879031",
   "metadata": {
    "execution": {
     "iopub.execute_input": "2025-07-30T20:53:43.986588Z",
     "iopub.status.busy": "2025-07-30T20:53:43.985812Z",
     "iopub.status.idle": "2025-07-30T20:53:43.992491Z",
     "shell.execute_reply": "2025-07-30T20:53:43.991446Z"
    },
    "papermill": {
     "duration": 0.033544,
     "end_time": "2025-07-30T20:53:43.994145",
     "exception": false,
     "start_time": "2025-07-30T20:53:43.960601",
     "status": "completed"
    },
    "tags": []
   },
   "outputs": [],
   "source": [
    "# EXCLUDE PROTECTED FEATURES\n",
    "# ----------------------\n",
    "# \"exclude_features\": \"none\", # \"nationality\", \"sex\", \"nationality-sex\"\n",
    "\n",
    "excluded_features = universe[\"exclude_features\"].split(\"-\") # split, e.g.: \"nationality-sex\" -> [\"nationality\", \"sex\"]\n",
    "excluded_features_dictionary = {\n",
    "    \"nationality\": [\"maxdeutsch1\", \"maxdeutsch.Missing.\"],\n",
    "    \"sex\": [\"frau1\"],\n",
    "    \"age\": [\"age\"],\n",
    "}\n"
   ]
  },
  {
   "cell_type": "code",
   "execution_count": 30,
   "id": "b745ac60",
   "metadata": {
    "execution": {
     "iopub.execute_input": "2025-07-30T20:53:44.038465Z",
     "iopub.status.busy": "2025-07-30T20:53:44.037772Z",
     "iopub.status.idle": "2025-07-30T20:53:44.044318Z",
     "shell.execute_reply": "2025-07-30T20:53:44.043480Z"
    },
    "papermill": {
     "duration": 0.030378,
     "end_time": "2025-07-30T20:53:44.046039",
     "exception": false,
     "start_time": "2025-07-30T20:53:44.015661",
     "status": "completed"
    },
    "tags": []
   },
   "outputs": [],
   "source": [
    "# Code nice names to column names\n",
    "\n",
    "excluded_features_columns = [\n",
    "    excluded_features_dictionary[f] for f in excluded_features if len(f) > 0 and f != \"none\"\n",
    "]"
   ]
  },
  {
   "cell_type": "code",
   "execution_count": 31,
   "id": "f84f73a2",
   "metadata": {
    "execution": {
     "iopub.execute_input": "2025-07-30T20:53:44.093215Z",
     "iopub.status.busy": "2025-07-30T20:53:44.092170Z",
     "iopub.status.idle": "2025-07-30T20:53:44.098784Z",
     "shell.execute_reply": "2025-07-30T20:53:44.097933Z"
    },
    "papermill": {
     "duration": 0.031636,
     "end_time": "2025-07-30T20:53:44.100543",
     "exception": false,
     "start_time": "2025-07-30T20:53:44.068907",
     "status": "completed"
    },
    "tags": []
   },
   "outputs": [],
   "source": [
    "from utils import flatten_once\n",
    "\n",
    "excluded_features_columns = flatten_once(excluded_features_columns)"
   ]
  },
  {
   "cell_type": "code",
   "execution_count": 32,
   "id": "884dea22",
   "metadata": {
    "execution": {
     "iopub.execute_input": "2025-07-30T20:53:44.145779Z",
     "iopub.status.busy": "2025-07-30T20:53:44.145286Z",
     "iopub.status.idle": "2025-07-30T20:53:44.151619Z",
     "shell.execute_reply": "2025-07-30T20:53:44.150587Z"
    },
    "papermill": {
     "duration": 0.030593,
     "end_time": "2025-07-30T20:53:44.153414",
     "exception": false,
     "start_time": "2025-07-30T20:53:44.122821",
     "status": "completed"
    },
    "tags": []
   },
   "outputs": [],
   "source": [
    "if len(excluded_features_columns) > 0:\n",
    "    print(f\"Dropping features: {excluded_features_columns}\")\n",
    "    X_train.drop(excluded_features_columns, axis=1, inplace=True)"
   ]
  },
  {
   "cell_type": "code",
   "execution_count": 33,
   "id": "95ab8b16",
   "metadata": {
    "execution": {
     "iopub.execute_input": "2025-07-30T20:53:44.198961Z",
     "iopub.status.busy": "2025-07-30T20:53:44.198262Z",
     "iopub.status.idle": "2025-07-30T20:53:44.204136Z",
     "shell.execute_reply": "2025-07-30T20:53:44.203242Z"
    },
    "papermill": {
     "duration": 0.030964,
     "end_time": "2025-07-30T20:53:44.206016",
     "exception": false,
     "start_time": "2025-07-30T20:53:44.175052",
     "status": "completed"
    },
    "tags": []
   },
   "outputs": [],
   "source": [
    "if len(excluded_features_columns) > 0:\n",
    "    print(f\"Dropping features: {excluded_features_columns}\")\n",
    "    X_test.drop(excluded_features_columns, axis=1, inplace=True)"
   ]
  },
  {
   "cell_type": "code",
   "execution_count": 34,
   "id": "1853aaf5-fb9f-46cb-a2b5-8ea4ae2237e4",
   "metadata": {
    "execution": {
     "iopub.execute_input": "2025-07-30T20:53:44.252593Z",
     "iopub.status.busy": "2025-07-30T20:53:44.252073Z",
     "iopub.status.idle": "2025-07-30T20:53:44.258865Z",
     "shell.execute_reply": "2025-07-30T20:53:44.257739Z"
    },
    "papermill": {
     "duration": 0.031375,
     "end_time": "2025-07-30T20:53:44.260742",
     "exception": false,
     "start_time": "2025-07-30T20:53:44.229367",
     "status": "completed"
    },
    "tags": []
   },
   "outputs": [],
   "source": [
    "if len(excluded_features_columns) > 0:\n",
    "    print(f\"Dropping features: {excluded_features_columns}\")\n",
    "    X_calib.drop(excluded_features_columns, axis=1, inplace=True)"
   ]
  },
  {
   "cell_type": "code",
   "execution_count": 35,
   "id": "6727d079-03e5-481e-9d38-292a90b7a0a8",
   "metadata": {
    "execution": {
     "iopub.execute_input": "2025-07-30T20:53:44.307988Z",
     "iopub.status.busy": "2025-07-30T20:53:44.307337Z",
     "iopub.status.idle": "2025-07-30T20:53:44.312474Z",
     "shell.execute_reply": "2025-07-30T20:53:44.311332Z"
    },
    "papermill": {
     "duration": 0.030011,
     "end_time": "2025-07-30T20:53:44.314223",
     "exception": false,
     "start_time": "2025-07-30T20:53:44.284212",
     "status": "completed"
    },
    "tags": []
   },
   "outputs": [],
   "source": [
    "# SPLIT & STRATIFY DATA\n",
    "# ----------------------"
   ]
  },
  {
   "cell_type": "code",
   "execution_count": 36,
   "id": "76c4dc6d",
   "metadata": {
    "execution": {
     "iopub.execute_input": "2025-07-30T20:53:44.362724Z",
     "iopub.status.busy": "2025-07-30T20:53:44.362009Z",
     "iopub.status.idle": "2025-07-30T20:53:44.368483Z",
     "shell.execute_reply": "2025-07-30T20:53:44.367300Z"
    },
    "papermill": {
     "duration": 0.03107,
     "end_time": "2025-07-30T20:53:44.370260",
     "exception": false,
     "start_time": "2025-07-30T20:53:44.339190",
     "status": "completed"
    },
    "tags": []
   },
   "outputs": [],
   "source": [
    "# EXCLUDE CERTAIN SUBGROUPS\n",
    "# ----------------------\n",
    "\n",
    "mode = universe.get(\"exclude_subgroups\", \"keep-all\") \n",
    "# Fetches the exclude_subgroups setting from the universe dict.\n",
    "# Defaults to \"keep-all\" if the key is missing."
   ]
  },
  {
   "cell_type": "code",
   "execution_count": 37,
   "id": "21994072",
   "metadata": {
    "execution": {
     "iopub.execute_input": "2025-07-30T20:53:44.417808Z",
     "iopub.status.busy": "2025-07-30T20:53:44.417110Z",
     "iopub.status.idle": "2025-07-30T20:53:44.425495Z",
     "shell.execute_reply": "2025-07-30T20:53:44.424535Z"
    },
    "papermill": {
     "duration": 0.034298,
     "end_time": "2025-07-30T20:53:44.427375",
     "exception": false,
     "start_time": "2025-07-30T20:53:44.393077",
     "status": "completed"
    },
    "tags": []
   },
   "outputs": [],
   "source": [
    "if mode == \"keep-all\":\n",
    "    keep_mask = pd.Series(True, index=org_train.index)\n",
    "\n",
    "# org_train contains the original feature columns from features_org (in Simson)\n",
    "# features_org contains unprocessed features, for me X_train at beginning ???\n",
    "# For keep-all, creates a boolean Series (keep_mask) of all True, so no rows are removed.\n",
    "\n",
    "elif mode == \"drop-non-german\":\n",
    "    keep_mask = org_train[\"maxdeutsch1\"] == 1 # ??? what about missing values?\n",
    "\n",
    "else:\n",
    "    raise ValueError(f\"Unsupported mode for exclude_subgroups: {mode}\")\n"
   ]
  },
  {
   "cell_type": "code",
   "execution_count": 38,
   "id": "71651440",
   "metadata": {
    "execution": {
     "iopub.execute_input": "2025-07-30T20:53:44.472536Z",
     "iopub.status.busy": "2025-07-30T20:53:44.471923Z",
     "iopub.status.idle": "2025-07-30T20:53:44.480249Z",
     "shell.execute_reply": "2025-07-30T20:53:44.479099Z"
    },
    "papermill": {
     "duration": 0.032332,
     "end_time": "2025-07-30T20:53:44.481860",
     "exception": false,
     "start_time": "2025-07-30T20:53:44.449528",
     "status": "completed"
    },
    "tags": []
   },
   "outputs": [
    {
     "name": "stdout",
     "output_type": "stream",
     "text": [
      "Dropping 741 rows (14.82%) where mode='drop-non-german'\n"
     ]
    }
   ],
   "source": [
    "n_drop = (~keep_mask).sum() # Calculates how many rows are set to be dropped\n",
    "if n_drop > 0:\n",
    "    pct = n_drop / len(keep_mask) * 100\n",
    "    print(f\"Dropping {n_drop} rows ({pct:.2f}%) where mode='{mode}'\")"
   ]
  },
  {
   "cell_type": "code",
   "execution_count": 39,
   "id": "5fb8eee5",
   "metadata": {
    "execution": {
     "iopub.execute_input": "2025-07-30T20:53:44.525336Z",
     "iopub.status.busy": "2025-07-30T20:53:44.524909Z",
     "iopub.status.idle": "2025-07-30T20:53:44.531803Z",
     "shell.execute_reply": "2025-07-30T20:53:44.530910Z"
    },
    "papermill": {
     "duration": 0.030096,
     "end_time": "2025-07-30T20:53:44.533491",
     "exception": false,
     "start_time": "2025-07-30T20:53:44.503395",
     "status": "completed"
    },
    "tags": []
   },
   "outputs": [],
   "source": [
    "X_train = X_train[keep_mask]"
   ]
  },
  {
   "cell_type": "code",
   "execution_count": 40,
   "id": "b202bb3a",
   "metadata": {
    "execution": {
     "iopub.execute_input": "2025-07-30T20:53:44.589494Z",
     "iopub.status.busy": "2025-07-30T20:53:44.589041Z",
     "iopub.status.idle": "2025-07-30T20:53:44.594582Z",
     "shell.execute_reply": "2025-07-30T20:53:44.593810Z"
    },
    "papermill": {
     "duration": 0.03724,
     "end_time": "2025-07-30T20:53:44.595899",
     "exception": false,
     "start_time": "2025-07-30T20:53:44.558659",
     "status": "completed"
    },
    "tags": []
   },
   "outputs": [],
   "source": [
    "y_train = y_train[keep_mask]"
   ]
  },
  {
   "cell_type": "markdown",
   "id": "493e2ac3",
   "metadata": {
    "papermill": {
     "duration": 0.01191,
     "end_time": "2025-07-30T20:53:44.621110",
     "exception": false,
     "start_time": "2025-07-30T20:53:44.609200",
     "status": "completed"
    },
    "tags": []
   },
   "source": [
    "# Model Training"
   ]
  },
  {
   "cell_type": "code",
   "execution_count": 41,
   "id": "679e1268",
   "metadata": {
    "execution": {
     "iopub.execute_input": "2025-07-30T20:53:44.645959Z",
     "iopub.status.busy": "2025-07-30T20:53:44.645407Z",
     "iopub.status.idle": "2025-07-30T20:53:44.731370Z",
     "shell.execute_reply": "2025-07-30T20:53:44.730475Z"
    },
    "papermill": {
     "duration": 0.10063,
     "end_time": "2025-07-30T20:53:44.733344",
     "exception": false,
     "start_time": "2025-07-30T20:53:44.632714",
     "status": "completed"
    },
    "tags": []
   },
   "outputs": [],
   "source": [
    "from sklearn.linear_model import LogisticRegression\n",
    "from sklearn.ensemble import GradientBoostingClassifier, RandomForestClassifier\n",
    "\n",
    "if (universe[\"model\"] == \"logreg\"):\n",
    "    model = LogisticRegression() #penalty=\"none\") #, solver=\"newton-cg\", max_iter=1) # include random_state=19 ?\n",
    "elif (universe[\"model\"] == \"penalized_logreg\"):\n",
    "    model = LogisticRegression(penalty=\"l2\", C=1.0) #, solver=\"newton-cg\", max_iter=1)\n",
    "elif (universe[\"model\"] == \"rf\"):\n",
    "    model = RandomForestClassifier(n_estimators=100, n_jobs=-1)\n",
    "elif (universe[\"model\"] == \"gbm\"):\n",
    "    model = GradientBoostingClassifier()\n",
    "elif (universe[\"model\"] == \"elasticnet\"):\n",
    "    model = LogisticRegression(penalty = 'elasticnet', solver = 'saga', l1_ratio = 0.5, max_iter=5000) # which solver to use?\n",
    "else:\n",
    "    raise \"Unsupported universe.model\""
   ]
  },
  {
   "cell_type": "code",
   "execution_count": 42,
   "id": "0cc8f744",
   "metadata": {
    "execution": {
     "iopub.execute_input": "2025-07-30T20:53:44.779654Z",
     "iopub.status.busy": "2025-07-30T20:53:44.779165Z",
     "iopub.status.idle": "2025-07-30T20:53:44.785012Z",
     "shell.execute_reply": "2025-07-30T20:53:44.784288Z"
    },
    "papermill": {
     "duration": 0.028745,
     "end_time": "2025-07-30T20:53:44.786300",
     "exception": false,
     "start_time": "2025-07-30T20:53:44.757555",
     "status": "completed"
    },
    "tags": []
   },
   "outputs": [],
   "source": [
    "import numpy as np\n",
    "from sklearn.pipeline import Pipeline\n",
    "from sklearn.preprocessing import StandardScaler\n",
    "\n",
    "model = Pipeline([\n",
    "    #(\"continuous_processor\", continuous_processor),\n",
    "    #(\"categorical_preprocessor\", categorical_preprocessor),\n",
    "    (\"scale\", StandardScaler() if universe[\"scale\"] == \"scale\" else None), \n",
    "    (\"model\", model),\n",
    "])"
   ]
  },
  {
   "cell_type": "code",
   "execution_count": 43,
   "id": "9442c04d",
   "metadata": {
    "execution": {
     "iopub.execute_input": "2025-07-30T20:53:44.813884Z",
     "iopub.status.busy": "2025-07-30T20:53:44.813364Z",
     "iopub.status.idle": "2025-07-30T20:53:49.405775Z",
     "shell.execute_reply": "2025-07-30T20:53:49.404632Z"
    },
    "papermill": {
     "duration": 4.608089,
     "end_time": "2025-07-30T20:53:49.407477",
     "exception": false,
     "start_time": "2025-07-30T20:53:44.799388",
     "status": "completed"
    },
    "tags": []
   },
   "outputs": [
    {
     "data": {
      "text/html": [
       "<style>#sk-container-id-1 {color: black;background-color: white;}#sk-container-id-1 pre{padding: 0;}#sk-container-id-1 div.sk-toggleable {background-color: white;}#sk-container-id-1 label.sk-toggleable__label {cursor: pointer;display: block;width: 100%;margin-bottom: 0;padding: 0.3em;box-sizing: border-box;text-align: center;}#sk-container-id-1 label.sk-toggleable__label-arrow:before {content: \"▸\";float: left;margin-right: 0.25em;color: #696969;}#sk-container-id-1 label.sk-toggleable__label-arrow:hover:before {color: black;}#sk-container-id-1 div.sk-estimator:hover label.sk-toggleable__label-arrow:before {color: black;}#sk-container-id-1 div.sk-toggleable__content {max-height: 0;max-width: 0;overflow: hidden;text-align: left;background-color: #f0f8ff;}#sk-container-id-1 div.sk-toggleable__content pre {margin: 0.2em;color: black;border-radius: 0.25em;background-color: #f0f8ff;}#sk-container-id-1 input.sk-toggleable__control:checked~div.sk-toggleable__content {max-height: 200px;max-width: 100%;overflow: auto;}#sk-container-id-1 input.sk-toggleable__control:checked~label.sk-toggleable__label-arrow:before {content: \"▾\";}#sk-container-id-1 div.sk-estimator input.sk-toggleable__control:checked~label.sk-toggleable__label {background-color: #d4ebff;}#sk-container-id-1 div.sk-label input.sk-toggleable__control:checked~label.sk-toggleable__label {background-color: #d4ebff;}#sk-container-id-1 input.sk-hidden--visually {border: 0;clip: rect(1px 1px 1px 1px);clip: rect(1px, 1px, 1px, 1px);height: 1px;margin: -1px;overflow: hidden;padding: 0;position: absolute;width: 1px;}#sk-container-id-1 div.sk-estimator {font-family: monospace;background-color: #f0f8ff;border: 1px dotted black;border-radius: 0.25em;box-sizing: border-box;margin-bottom: 0.5em;}#sk-container-id-1 div.sk-estimator:hover {background-color: #d4ebff;}#sk-container-id-1 div.sk-parallel-item::after {content: \"\";width: 100%;border-bottom: 1px solid gray;flex-grow: 1;}#sk-container-id-1 div.sk-label:hover label.sk-toggleable__label {background-color: #d4ebff;}#sk-container-id-1 div.sk-serial::before {content: \"\";position: absolute;border-left: 1px solid gray;box-sizing: border-box;top: 0;bottom: 0;left: 50%;z-index: 0;}#sk-container-id-1 div.sk-serial {display: flex;flex-direction: column;align-items: center;background-color: white;padding-right: 0.2em;padding-left: 0.2em;position: relative;}#sk-container-id-1 div.sk-item {position: relative;z-index: 1;}#sk-container-id-1 div.sk-parallel {display: flex;align-items: stretch;justify-content: center;background-color: white;position: relative;}#sk-container-id-1 div.sk-item::before, #sk-container-id-1 div.sk-parallel-item::before {content: \"\";position: absolute;border-left: 1px solid gray;box-sizing: border-box;top: 0;bottom: 0;left: 50%;z-index: -1;}#sk-container-id-1 div.sk-parallel-item {display: flex;flex-direction: column;z-index: 1;position: relative;background-color: white;}#sk-container-id-1 div.sk-parallel-item:first-child::after {align-self: flex-end;width: 50%;}#sk-container-id-1 div.sk-parallel-item:last-child::after {align-self: flex-start;width: 50%;}#sk-container-id-1 div.sk-parallel-item:only-child::after {width: 0;}#sk-container-id-1 div.sk-dashed-wrapped {border: 1px dashed gray;margin: 0 0.4em 0.5em 0.4em;box-sizing: border-box;padding-bottom: 0.4em;background-color: white;}#sk-container-id-1 div.sk-label label {font-family: monospace;font-weight: bold;display: inline-block;line-height: 1.2em;}#sk-container-id-1 div.sk-label-container {text-align: center;}#sk-container-id-1 div.sk-container {/* jupyter's `normalize.less` sets `[hidden] { display: none; }` but bootstrap.min.css set `[hidden] { display: none !important; }` so we also need the `!important` here to be able to override the default hidden behavior on the sphinx rendered scikit-learn.org. See: https://github.com/scikit-learn/scikit-learn/issues/21755 */display: inline-block !important;position: relative;}#sk-container-id-1 div.sk-text-repr-fallback {display: none;}</style><div id=\"sk-container-id-1\" class=\"sk-top-container\"><div class=\"sk-text-repr-fallback\"><pre>Pipeline(steps=[(&#x27;scale&#x27;, None), (&#x27;model&#x27;, GradientBoostingClassifier())])</pre><b>In a Jupyter environment, please rerun this cell to show the HTML representation or trust the notebook. <br />On GitHub, the HTML representation is unable to render, please try loading this page with nbviewer.org.</b></div><div class=\"sk-container\" hidden><div class=\"sk-item sk-dashed-wrapped\"><div class=\"sk-label-container\"><div class=\"sk-label sk-toggleable\"><input class=\"sk-toggleable__control sk-hidden--visually\" id=\"sk-estimator-id-1\" type=\"checkbox\" ><label for=\"sk-estimator-id-1\" class=\"sk-toggleable__label sk-toggleable__label-arrow\">Pipeline</label><div class=\"sk-toggleable__content\"><pre>Pipeline(steps=[(&#x27;scale&#x27;, None), (&#x27;model&#x27;, GradientBoostingClassifier())])</pre></div></div></div><div class=\"sk-serial\"><div class=\"sk-item\"><div class=\"sk-estimator sk-toggleable\"><input class=\"sk-toggleable__control sk-hidden--visually\" id=\"sk-estimator-id-2\" type=\"checkbox\" ><label for=\"sk-estimator-id-2\" class=\"sk-toggleable__label sk-toggleable__label-arrow\">None</label><div class=\"sk-toggleable__content\"><pre>None</pre></div></div></div><div class=\"sk-item\"><div class=\"sk-estimator sk-toggleable\"><input class=\"sk-toggleable__control sk-hidden--visually\" id=\"sk-estimator-id-3\" type=\"checkbox\" ><label for=\"sk-estimator-id-3\" class=\"sk-toggleable__label sk-toggleable__label-arrow\">GradientBoostingClassifier</label><div class=\"sk-toggleable__content\"><pre>GradientBoostingClassifier()</pre></div></div></div></div></div></div></div>"
      ],
      "text/plain": [
       "Pipeline(steps=[('scale', None), ('model', GradientBoostingClassifier())])"
      ]
     },
     "execution_count": 43,
     "metadata": {},
     "output_type": "execute_result"
    }
   ],
   "source": [
    "model.fit(X_train, y_train.values.ravel())"
   ]
  },
  {
   "cell_type": "code",
   "execution_count": 44,
   "id": "af59f8c0",
   "metadata": {
    "execution": {
     "iopub.execute_input": "2025-07-30T20:53:49.462042Z",
     "iopub.status.busy": "2025-07-30T20:53:49.461323Z",
     "iopub.status.idle": "2025-07-30T20:53:49.467383Z",
     "shell.execute_reply": "2025-07-30T20:53:49.466433Z"
    },
    "papermill": {
     "duration": 0.03419,
     "end_time": "2025-07-30T20:53:49.469217",
     "exception": false,
     "start_time": "2025-07-30T20:53:49.435027",
     "status": "completed"
    },
    "tags": []
   },
   "outputs": [],
   "source": [
    "from fairness_multiverse.universe import predict_w_threshold"
   ]
  },
  {
   "cell_type": "code",
   "execution_count": 45,
   "id": "a7cf2e16",
   "metadata": {
    "execution": {
     "iopub.execute_input": "2025-07-30T20:53:49.521243Z",
     "iopub.status.busy": "2025-07-30T20:53:49.520580Z",
     "iopub.status.idle": "2025-07-30T20:53:50.131614Z",
     "shell.execute_reply": "2025-07-30T20:53:50.130724Z"
    },
    "papermill": {
     "duration": 0.638599,
     "end_time": "2025-07-30T20:53:50.133283",
     "exception": false,
     "start_time": "2025-07-30T20:53:49.494684",
     "status": "completed"
    },
    "tags": []
   },
   "outputs": [
    {
     "data": {
      "text/plain": [
       "0.8660684427600045"
      ]
     },
     "execution_count": 45,
     "metadata": {},
     "output_type": "execute_result"
    }
   ],
   "source": [
    "probs_test = model.predict_proba(X_test)\n",
    "\n",
    "'''\n",
    "Below code returns a boolean array (or binary 0/1 array depending on how it’s used) where each element \n",
    "is True if the probability of class 1 is greater than or equal to the threshold, and False otherwise.\n",
    "'''\n",
    "y_pred_default = predict_w_threshold(probs_test, 0.5)\n",
    "\n",
    "from sklearn.metrics import accuracy_score\n",
    "\n",
    "# Naive prediction\n",
    "accuracy_score(y_true = y_true, y_pred = y_pred_default)"
   ]
  },
  {
   "cell_type": "code",
   "execution_count": 46,
   "id": "081964c3",
   "metadata": {
    "execution": {
     "iopub.execute_input": "2025-07-30T20:53:50.182495Z",
     "iopub.status.busy": "2025-07-30T20:53:50.181821Z",
     "iopub.status.idle": "2025-07-30T20:53:50.777025Z",
     "shell.execute_reply": "2025-07-30T20:53:50.776261Z"
    },
    "papermill": {
     "duration": 0.621006,
     "end_time": "2025-07-30T20:53:50.778212",
     "exception": false,
     "start_time": "2025-07-30T20:53:50.157206",
     "status": "completed"
    },
    "tags": []
   },
   "outputs": [
    {
     "data": {
      "text/plain": [
       "array([0, 0, 0, ..., 0, 0, 0])"
      ]
     },
     "execution_count": 46,
     "metadata": {},
     "output_type": "execute_result"
    }
   ],
   "source": [
    "model.predict(X_test)"
   ]
  },
  {
   "cell_type": "markdown",
   "id": "56c9705b",
   "metadata": {
    "papermill": {
     "duration": 0.011672,
     "end_time": "2025-07-30T20:53:50.802376",
     "exception": false,
     "start_time": "2025-07-30T20:53:50.790704",
     "status": "completed"
    },
    "tags": []
   },
   "source": [
    "# Conformal Prediction"
   ]
  },
  {
   "cell_type": "code",
   "execution_count": 47,
   "id": "160ec6ff",
   "metadata": {
    "execution": {
     "iopub.execute_input": "2025-07-30T20:53:50.841763Z",
     "iopub.status.busy": "2025-07-30T20:53:50.841302Z",
     "iopub.status.idle": "2025-07-30T20:53:50.846527Z",
     "shell.execute_reply": "2025-07-30T20:53:50.845448Z"
    },
    "papermill": {
     "duration": 0.024935,
     "end_time": "2025-07-30T20:53:50.848201",
     "exception": false,
     "start_time": "2025-07-30T20:53:50.823266",
     "status": "completed"
    },
    "tags": []
   },
   "outputs": [],
   "source": [
    "# Miscoverage level for conformal prediction (10% allowed error rate => 90% target coverage)\n",
    "alpha = 0.1"
   ]
  },
  {
   "cell_type": "code",
   "execution_count": 48,
   "id": "eadf4555-3dd3-440e-8e35-f82a4ad9f855",
   "metadata": {
    "execution": {
     "iopub.execute_input": "2025-07-30T20:53:50.892827Z",
     "iopub.status.busy": "2025-07-30T20:53:50.892489Z",
     "iopub.status.idle": "2025-07-30T20:53:51.411708Z",
     "shell.execute_reply": "2025-07-30T20:53:51.410803Z"
    },
    "papermill": {
     "duration": 0.540621,
     "end_time": "2025-07-30T20:53:51.413476",
     "exception": false,
     "start_time": "2025-07-30T20:53:50.872855",
     "status": "completed"
    },
    "tags": []
   },
   "outputs": [],
   "source": [
    "probs_calib = model.predict_proba(X_calib)"
   ]
  },
  {
   "cell_type": "code",
   "execution_count": 49,
   "id": "2ed93547-6d5d-4983-9b36-1ecb300da49a",
   "metadata": {
    "execution": {
     "iopub.execute_input": "2025-07-30T20:53:51.465097Z",
     "iopub.status.busy": "2025-07-30T20:53:51.464193Z",
     "iopub.status.idle": "2025-07-30T20:53:51.470169Z",
     "shell.execute_reply": "2025-07-30T20:53:51.469200Z"
    },
    "papermill": {
     "duration": 0.031809,
     "end_time": "2025-07-30T20:53:51.471804",
     "exception": false,
     "start_time": "2025-07-30T20:53:51.439995",
     "status": "completed"
    },
    "tags": []
   },
   "outputs": [],
   "source": [
    "y_calib = y_calib.values.ravel().astype(int)"
   ]
  },
  {
   "cell_type": "code",
   "execution_count": 50,
   "id": "65d1320d-f588-4b38-9072-62af1ae97f7d",
   "metadata": {
    "execution": {
     "iopub.execute_input": "2025-07-30T20:53:51.521200Z",
     "iopub.status.busy": "2025-07-30T20:53:51.520546Z",
     "iopub.status.idle": "2025-07-30T20:53:51.527963Z",
     "shell.execute_reply": "2025-07-30T20:53:51.527124Z"
    },
    "papermill": {
     "duration": 0.033567,
     "end_time": "2025-07-30T20:53:51.529624",
     "exception": false,
     "start_time": "2025-07-30T20:53:51.496057",
     "status": "completed"
    },
    "tags": []
   },
   "outputs": [],
   "source": [
    "from fairness_multiverse.conformal import compute_nc_scores\n",
    "\n",
    "# Compute nonconformity scores on calibration set (1 - probability of true class)\n",
    "nc_scores = compute_nc_scores(probs_calib, y_calib)"
   ]
  },
  {
   "cell_type": "code",
   "execution_count": 51,
   "id": "df3b8ca3-53b7-43d5-9667-7c85da7aeda2",
   "metadata": {
    "execution": {
     "iopub.execute_input": "2025-07-30T20:53:51.579766Z",
     "iopub.status.busy": "2025-07-30T20:53:51.579107Z",
     "iopub.status.idle": "2025-07-30T20:53:51.585665Z",
     "shell.execute_reply": "2025-07-30T20:53:51.584774Z"
    },
    "papermill": {
     "duration": 0.032787,
     "end_time": "2025-07-30T20:53:51.587216",
     "exception": false,
     "start_time": "2025-07-30T20:53:51.554429",
     "status": "completed"
    },
    "tags": []
   },
   "outputs": [],
   "source": [
    "from fairness_multiverse.conformal import find_threshold\n",
    "\n",
    "# Find conformal threshold q_hat for the given alpha (split conformal method)\n",
    "q_hat = find_threshold(nc_scores, alpha)"
   ]
  },
  {
   "cell_type": "code",
   "execution_count": 52,
   "id": "4d29e6c1-0ef6-4aa4-b8fe-4fe79b0d033a",
   "metadata": {
    "execution": {
     "iopub.execute_input": "2025-07-30T20:53:51.634064Z",
     "iopub.status.busy": "2025-07-30T20:53:51.633395Z",
     "iopub.status.idle": "2025-07-30T20:53:51.640716Z",
     "shell.execute_reply": "2025-07-30T20:53:51.639807Z"
    },
    "papermill": {
     "duration": 0.03208,
     "end_time": "2025-07-30T20:53:51.642367",
     "exception": false,
     "start_time": "2025-07-30T20:53:51.610287",
     "status": "completed"
    },
    "tags": []
   },
   "outputs": [
    {
     "data": {
      "text/plain": [
       "0.6892839953577328"
      ]
     },
     "execution_count": 52,
     "metadata": {},
     "output_type": "execute_result"
    }
   ],
   "source": [
    "q_hat"
   ]
  },
  {
   "cell_type": "code",
   "execution_count": 53,
   "id": "92460794-cdac-4be2-ba28-f28c0515a6fb",
   "metadata": {
    "execution": {
     "iopub.execute_input": "2025-07-30T20:53:51.689696Z",
     "iopub.status.busy": "2025-07-30T20:53:51.689003Z",
     "iopub.status.idle": "2025-07-30T20:53:52.815126Z",
     "shell.execute_reply": "2025-07-30T20:53:52.814073Z"
    },
    "papermill": {
     "duration": 1.15105,
     "end_time": "2025-07-30T20:53:52.817121",
     "exception": false,
     "start_time": "2025-07-30T20:53:51.666071",
     "status": "completed"
    },
    "tags": []
   },
   "outputs": [],
   "source": [
    "from fairness_multiverse.conformal import predict_conformal_sets\n",
    "\n",
    "# Generate prediction sets for each test example\n",
    "pred_sets = predict_conformal_sets(model, X_test, q_hat)"
   ]
  },
  {
   "cell_type": "code",
   "execution_count": 54,
   "id": "d90c9a65-e6db-4f5d-80cd-e68fb7e46829",
   "metadata": {
    "execution": {
     "iopub.execute_input": "2025-07-30T20:53:52.865188Z",
     "iopub.status.busy": "2025-07-30T20:53:52.864258Z",
     "iopub.status.idle": "2025-07-30T20:53:52.869969Z",
     "shell.execute_reply": "2025-07-30T20:53:52.868955Z"
    },
    "papermill": {
     "duration": 0.03086,
     "end_time": "2025-07-30T20:53:52.871589",
     "exception": false,
     "start_time": "2025-07-30T20:53:52.840729",
     "status": "completed"
    },
    "tags": []
   },
   "outputs": [],
   "source": [
    "y_true = y_true.squeeze()"
   ]
  },
  {
   "cell_type": "code",
   "execution_count": 55,
   "id": "3a58a54a-1e68-46b9-927a-df01f18aebc8",
   "metadata": {
    "execution": {
     "iopub.execute_input": "2025-07-30T20:53:52.918954Z",
     "iopub.status.busy": "2025-07-30T20:53:52.918459Z",
     "iopub.status.idle": "2025-07-30T20:53:53.829837Z",
     "shell.execute_reply": "2025-07-30T20:53:53.828811Z"
    },
    "papermill": {
     "duration": 0.936957,
     "end_time": "2025-07-30T20:53:53.831742",
     "exception": false,
     "start_time": "2025-07-30T20:53:52.894785",
     "status": "completed"
    },
    "tags": []
   },
   "outputs": [],
   "source": [
    "from fairness_multiverse.conformal import evaluate_sets\n",
    "\n",
    "# Evaluate coverage and average set size on test data\n",
    "metrics = evaluate_sets(pred_sets, y_true)"
   ]
  },
  {
   "cell_type": "markdown",
   "id": "2b569c12-9aaa-4c88-98c9-bbcd0cf3ebb8",
   "metadata": {
    "papermill": {
     "duration": 0.024384,
     "end_time": "2025-07-30T20:53:53.881820",
     "exception": false,
     "start_time": "2025-07-30T20:53:53.857436",
     "status": "completed"
    },
    "tags": []
   },
   "source": [
    "# CP Metrics"
   ]
  },
  {
   "cell_type": "code",
   "execution_count": 56,
   "id": "5ce0a5cb-201f-45a0-ade5-94c7f0bd6095",
   "metadata": {
    "execution": {
     "iopub.execute_input": "2025-07-30T20:53:53.933186Z",
     "iopub.status.busy": "2025-07-30T20:53:53.932657Z",
     "iopub.status.idle": "2025-07-30T20:53:53.940703Z",
     "shell.execute_reply": "2025-07-30T20:53:53.939694Z"
    },
    "papermill": {
     "duration": 0.036647,
     "end_time": "2025-07-30T20:53:53.942333",
     "exception": false,
     "start_time": "2025-07-30T20:53:53.905686",
     "status": "completed"
    },
    "tags": []
   },
   "outputs": [
    {
     "data": {
      "text/plain": [
       "{'coverage': 0.9100434734143351, 'avg_size': 1.1208560918515216}"
      ]
     },
     "execution_count": 56,
     "metadata": {},
     "output_type": "execute_result"
    }
   ],
   "source": [
    "metrics"
   ]
  },
  {
   "cell_type": "code",
   "execution_count": 57,
   "id": "9b9a838d-31c9-430b-ae14-12baee460d17",
   "metadata": {
    "execution": {
     "iopub.execute_input": "2025-07-30T20:53:53.995870Z",
     "iopub.status.busy": "2025-07-30T20:53:53.995152Z",
     "iopub.status.idle": "2025-07-30T20:53:54.002526Z",
     "shell.execute_reply": "2025-07-30T20:53:54.001501Z"
    },
    "papermill": {
     "duration": 0.036931,
     "end_time": "2025-07-30T20:53:54.004294",
     "exception": false,
     "start_time": "2025-07-30T20:53:53.967363",
     "status": "completed"
    },
    "tags": []
   },
   "outputs": [],
   "source": [
    "example_universe = universe.copy()\n",
    "universe_training_year = example_universe.get(\"training_year\")\n",
    "universe_training_size = example_universe.get(\"training_size\")\n",
    "universe_scale = example_universe.get(\"scale\")\n",
    "universe_model = example_universe.get(\"model\")\n",
    "universe_exclude_features = example_universe.get(\"exclude_features\")\n",
    "universe_exclude_subgroups = example_universe.get(\"exclude_subgroups\")"
   ]
  },
  {
   "cell_type": "code",
   "execution_count": 58,
   "id": "f4b6a8ac-9dc0-4245-8a91-5b3b5999c4f9",
   "metadata": {
    "execution": {
     "iopub.execute_input": "2025-07-30T20:53:54.057218Z",
     "iopub.status.busy": "2025-07-30T20:53:54.056686Z",
     "iopub.status.idle": "2025-07-30T20:53:54.063393Z",
     "shell.execute_reply": "2025-07-30T20:53:54.062420Z"
    },
    "papermill": {
     "duration": 0.034842,
     "end_time": "2025-07-30T20:53:54.065051",
     "exception": false,
     "start_time": "2025-07-30T20:53:54.030209",
     "status": "completed"
    },
    "tags": []
   },
   "outputs": [],
   "source": [
    "cp_metrics_dict = {\n",
    "    \"universe_id\": [universe_id],\n",
    "    \"universe_training_year\": [universe_training_year],\n",
    "    \"universe_training_size\": [universe_training_size],\n",
    "    \"universe_scale\": [universe_scale],\n",
    "    \"universe_model\": [universe_model],\n",
    "    \"universe_exclude_features\": [universe_exclude_features],\n",
    "    \"universe_exclude_subgroups\": [universe_exclude_subgroups],\n",
    "    \"q_hat\": [q_hat],\n",
    "    \"coverage\": [metrics[\"coverage\"]],\n",
    "    \"avg_size\": [metrics[\"avg_size\"]],\n",
    "}"
   ]
  },
  {
   "cell_type": "code",
   "execution_count": 59,
   "id": "908acbb1-0371-4915-85ca-3fa520d2efe2",
   "metadata": {
    "execution": {
     "iopub.execute_input": "2025-07-30T20:53:54.119406Z",
     "iopub.status.busy": "2025-07-30T20:53:54.118731Z",
     "iopub.status.idle": "2025-07-30T20:53:54.126464Z",
     "shell.execute_reply": "2025-07-30T20:53:54.125460Z"
    },
    "papermill": {
     "duration": 0.035708,
     "end_time": "2025-07-30T20:53:54.128163",
     "exception": false,
     "start_time": "2025-07-30T20:53:54.092455",
     "status": "completed"
    },
    "tags": []
   },
   "outputs": [
    {
     "data": {
      "text/plain": [
       "{'universe_id': ['497e0dc2c04e71aa53bcad02bc750d7b'],\n",
       " 'universe_training_year': ['2014'],\n",
       " 'universe_training_size': ['5k'],\n",
       " 'universe_scale': ['do-not-scale'],\n",
       " 'universe_model': ['gbm'],\n",
       " 'universe_exclude_features': ['none'],\n",
       " 'universe_exclude_subgroups': ['drop-non-german'],\n",
       " 'q_hat': [0.6892839953577328],\n",
       " 'coverage': [0.9100434734143351],\n",
       " 'avg_size': [1.1208560918515216]}"
      ]
     },
     "execution_count": 59,
     "metadata": {},
     "output_type": "execute_result"
    }
   ],
   "source": [
    "cp_metrics_dict"
   ]
  },
  {
   "cell_type": "code",
   "execution_count": 60,
   "id": "33007efc-14e9-4ec6-97ac-56a455c82265",
   "metadata": {
    "execution": {
     "iopub.execute_input": "2025-07-30T20:53:54.184396Z",
     "iopub.status.busy": "2025-07-30T20:53:54.183851Z",
     "iopub.status.idle": "2025-07-30T20:53:54.190714Z",
     "shell.execute_reply": "2025-07-30T20:53:54.189626Z"
    },
    "papermill": {
     "duration": 0.03816,
     "end_time": "2025-07-30T20:53:54.192337",
     "exception": false,
     "start_time": "2025-07-30T20:53:54.154177",
     "status": "completed"
    },
    "tags": []
   },
   "outputs": [],
   "source": [
    "cp_metrics_df = pd.DataFrame(cp_metrics_dict)"
   ]
  },
  {
   "cell_type": "code",
   "execution_count": 61,
   "id": "db12611b-57b2-4910-b9d0-355adfd6e7bf",
   "metadata": {
    "execution": {
     "iopub.execute_input": "2025-07-30T20:53:54.248024Z",
     "iopub.status.busy": "2025-07-30T20:53:54.247035Z",
     "iopub.status.idle": "2025-07-30T20:53:54.266612Z",
     "shell.execute_reply": "2025-07-30T20:53:54.265638Z"
    },
    "papermill": {
     "duration": 0.049919,
     "end_time": "2025-07-30T20:53:54.268590",
     "exception": false,
     "start_time": "2025-07-30T20:53:54.218671",
     "status": "completed"
    },
    "tags": []
   },
   "outputs": [
    {
     "data": {
      "text/html": [
       "<div>\n",
       "<style scoped>\n",
       "    .dataframe tbody tr th:only-of-type {\n",
       "        vertical-align: middle;\n",
       "    }\n",
       "\n",
       "    .dataframe tbody tr th {\n",
       "        vertical-align: top;\n",
       "    }\n",
       "\n",
       "    .dataframe thead th {\n",
       "        text-align: right;\n",
       "    }\n",
       "</style>\n",
       "<table border=\"1\" class=\"dataframe\">\n",
       "  <thead>\n",
       "    <tr style=\"text-align: right;\">\n",
       "      <th></th>\n",
       "      <th>universe_id</th>\n",
       "      <th>universe_training_year</th>\n",
       "      <th>universe_training_size</th>\n",
       "      <th>universe_scale</th>\n",
       "      <th>universe_model</th>\n",
       "      <th>universe_exclude_features</th>\n",
       "      <th>universe_exclude_subgroups</th>\n",
       "      <th>q_hat</th>\n",
       "      <th>coverage</th>\n",
       "      <th>avg_size</th>\n",
       "    </tr>\n",
       "  </thead>\n",
       "  <tbody>\n",
       "    <tr>\n",
       "      <th>0</th>\n",
       "      <td>497e0dc2c04e71aa53bcad02bc750d7b</td>\n",
       "      <td>2014</td>\n",
       "      <td>5k</td>\n",
       "      <td>do-not-scale</td>\n",
       "      <td>gbm</td>\n",
       "      <td>none</td>\n",
       "      <td>drop-non-german</td>\n",
       "      <td>0.689284</td>\n",
       "      <td>0.910043</td>\n",
       "      <td>1.120856</td>\n",
       "    </tr>\n",
       "  </tbody>\n",
       "</table>\n",
       "</div>"
      ],
      "text/plain": [
       "                        universe_id universe_training_year  \\\n",
       "0  497e0dc2c04e71aa53bcad02bc750d7b                   2014   \n",
       "\n",
       "  universe_training_size universe_scale universe_model  \\\n",
       "0                     5k   do-not-scale            gbm   \n",
       "\n",
       "  universe_exclude_features universe_exclude_subgroups     q_hat  coverage  \\\n",
       "0                      none            drop-non-german  0.689284  0.910043   \n",
       "\n",
       "   avg_size  \n",
       "0  1.120856  "
      ]
     },
     "execution_count": 61,
     "metadata": {},
     "output_type": "execute_result"
    }
   ],
   "source": [
    "cp_metrics_df"
   ]
  },
  {
   "cell_type": "code",
   "execution_count": 62,
   "id": "b7fbde55-a0a1-47e4-9af6-fe4a17fa8c61",
   "metadata": {
    "execution": {
     "iopub.execute_input": "2025-07-30T20:53:54.323573Z",
     "iopub.status.busy": "2025-07-30T20:53:54.322878Z",
     "iopub.status.idle": "2025-07-30T20:53:54.328442Z",
     "shell.execute_reply": "2025-07-30T20:53:54.327284Z"
    },
    "papermill": {
     "duration": 0.034668,
     "end_time": "2025-07-30T20:53:54.329999",
     "exception": false,
     "start_time": "2025-07-30T20:53:54.295331",
     "status": "completed"
    },
    "tags": []
   },
   "outputs": [],
   "source": [
    "# Conditional Coverage & looking at subgroups"
   ]
  },
  {
   "cell_type": "code",
   "execution_count": 63,
   "id": "027ae886-68dd-4141-96c7-805a5450e1ef",
   "metadata": {
    "execution": {
     "iopub.execute_input": "2025-07-30T20:53:54.384813Z",
     "iopub.status.busy": "2025-07-30T20:53:54.384430Z",
     "iopub.status.idle": "2025-07-30T20:53:54.666853Z",
     "shell.execute_reply": "2025-07-30T20:53:54.665594Z"
    },
    "papermill": {
     "duration": 0.313057,
     "end_time": "2025-07-30T20:53:54.668860",
     "exception": false,
     "start_time": "2025-07-30T20:53:54.355803",
     "status": "completed"
    },
    "tags": []
   },
   "outputs": [],
   "source": [
    "from fairness_multiverse.conformal import build_cp_groups\n",
    "\n",
    "cp_groups_df = build_cp_groups(pred_sets, y_true, X_test.index, org_test)\n",
    "#needs universe_id and setting"
   ]
  },
  {
   "cell_type": "code",
   "execution_count": 64,
   "id": "01d5802c-663a-4d1f-9d69-e036faaffbf7",
   "metadata": {
    "execution": {
     "iopub.execute_input": "2025-07-30T20:53:54.721267Z",
     "iopub.status.busy": "2025-07-30T20:53:54.720543Z",
     "iopub.status.idle": "2025-07-30T20:53:54.724951Z",
     "shell.execute_reply": "2025-07-30T20:53:54.724239Z"
    },
    "papermill": {
     "duration": 0.031278,
     "end_time": "2025-07-30T20:53:54.726263",
     "exception": false,
     "start_time": "2025-07-30T20:53:54.694985",
     "status": "completed"
    },
    "tags": []
   },
   "outputs": [],
   "source": [
    "#delete\n",
    "#cp_groups_df"
   ]
  },
  {
   "cell_type": "code",
   "execution_count": 65,
   "id": "fa424af1-d1eb-443d-b717-2d279ada8408",
   "metadata": {
    "execution": {
     "iopub.execute_input": "2025-07-30T20:53:54.754633Z",
     "iopub.status.busy": "2025-07-30T20:53:54.754250Z",
     "iopub.status.idle": "2025-07-30T20:53:54.759184Z",
     "shell.execute_reply": "2025-07-30T20:53:54.758314Z"
    },
    "papermill": {
     "duration": 0.02007,
     "end_time": "2025-07-30T20:53:54.760688",
     "exception": false,
     "start_time": "2025-07-30T20:53:54.740618",
     "status": "completed"
    },
    "tags": []
   },
   "outputs": [],
   "source": [
    "#delete\n",
    "#percentage = (cp_groups_df['nongerman_female'] == 1).mean() * 100\n",
    "#print(percentage)\n"
   ]
  },
  {
   "cell_type": "code",
   "execution_count": 66,
   "id": "6cbdab96-b2b2-45af-ad54-d0516db2e28d",
   "metadata": {
    "execution": {
     "iopub.execute_input": "2025-07-30T20:53:54.818573Z",
     "iopub.status.busy": "2025-07-30T20:53:54.817690Z",
     "iopub.status.idle": "2025-07-30T20:53:56.242832Z",
     "shell.execute_reply": "2025-07-30T20:53:56.241947Z"
    },
    "papermill": {
     "duration": 1.455828,
     "end_time": "2025-07-30T20:53:56.244719",
     "exception": false,
     "start_time": "2025-07-30T20:53:54.788891",
     "status": "completed"
    },
    "tags": []
   },
   "outputs": [],
   "source": [
    "# Define covered = 1 if true_label is in the predicted set\n",
    "cp_groups_df['covered'] = cp_groups_df.apply(\n",
    "    lambda r: int(r['true_label'] in r['pred_set']),\n",
    "    axis=1\n",
    ")"
   ]
  },
  {
   "cell_type": "code",
   "execution_count": 67,
   "id": "338ff529-1a6b-4b87-a931-8e4788d52aad",
   "metadata": {
    "execution": {
     "iopub.execute_input": "2025-07-30T20:53:56.276618Z",
     "iopub.status.busy": "2025-07-30T20:53:56.276250Z",
     "iopub.status.idle": "2025-07-30T20:53:56.280478Z",
     "shell.execute_reply": "2025-07-30T20:53:56.279717Z"
    },
    "papermill": {
     "duration": 0.020694,
     "end_time": "2025-07-30T20:53:56.281735",
     "exception": false,
     "start_time": "2025-07-30T20:53:56.261041",
     "status": "completed"
    },
    "tags": []
   },
   "outputs": [],
   "source": [
    "#cp_groups_df"
   ]
  },
  {
   "cell_type": "code",
   "execution_count": 68,
   "id": "90032e27-66df-4540-9169-4e89cfbaa758",
   "metadata": {
    "execution": {
     "iopub.execute_input": "2025-07-30T20:53:56.311219Z",
     "iopub.status.busy": "2025-07-30T20:53:56.310724Z",
     "iopub.status.idle": "2025-07-30T20:53:56.319697Z",
     "shell.execute_reply": "2025-07-30T20:53:56.318971Z"
    },
    "papermill": {
     "duration": 0.024486,
     "end_time": "2025-07-30T20:53:56.320976",
     "exception": false,
     "start_time": "2025-07-30T20:53:56.296490",
     "status": "completed"
    },
    "tags": []
   },
   "outputs": [],
   "source": [
    "subgroups = ['frau1','nongerman','nongerman_male','nongerman_female']\n",
    "\n",
    "# Conditional coverage for subgroup==1\n",
    "cond_coverage = {\n",
    "    g: cp_groups_df.loc[cp_groups_df[g]==1, 'covered'].mean()\n",
    "    for g in subgroups\n",
    "}"
   ]
  },
  {
   "cell_type": "code",
   "execution_count": 69,
   "id": "1e348fb1-b9c3-45bc-ba23-f016827a7e0d",
   "metadata": {
    "execution": {
     "iopub.execute_input": "2025-07-30T20:53:56.349530Z",
     "iopub.status.busy": "2025-07-30T20:53:56.349031Z",
     "iopub.status.idle": "2025-07-30T20:53:56.355559Z",
     "shell.execute_reply": "2025-07-30T20:53:56.354845Z"
    },
    "papermill": {
     "duration": 0.021898,
     "end_time": "2025-07-30T20:53:56.356954",
     "exception": false,
     "start_time": "2025-07-30T20:53:56.335056",
     "status": "completed"
    },
    "tags": []
   },
   "outputs": [
    {
     "data": {
      "text/plain": [
       "{'frau1': 0.9086669362447769,\n",
       " 'nongerman': 0.9087744905406164,\n",
       " 'nongerman_male': 0.924614968927317,\n",
       " 'nongerman_female': 0.8825633383010432}"
      ]
     },
     "execution_count": 69,
     "metadata": {},
     "output_type": "execute_result"
    }
   ],
   "source": [
    "cond_coverage"
   ]
  },
  {
   "cell_type": "code",
   "execution_count": 70,
   "id": "f5093324-c3dd-4d63-bc4c-8d945e5c8bbb",
   "metadata": {
    "execution": {
     "iopub.execute_input": "2025-07-30T20:53:56.386262Z",
     "iopub.status.busy": "2025-07-30T20:53:56.385762Z",
     "iopub.status.idle": "2025-07-30T20:53:56.391600Z",
     "shell.execute_reply": "2025-07-30T20:53:56.390941Z"
    },
    "papermill": {
     "duration": 0.021451,
     "end_time": "2025-07-30T20:53:56.392876",
     "exception": false,
     "start_time": "2025-07-30T20:53:56.371425",
     "status": "completed"
    },
    "tags": []
   },
   "outputs": [],
   "source": [
    "for subgroup, cov in cond_coverage.items():\n",
    "    cp_metrics_df[f\"cov_{subgroup}\"] = cov"
   ]
  },
  {
   "cell_type": "code",
   "execution_count": 71,
   "id": "6e872e10-dbe5-49e8-b554-5030c98ff75d",
   "metadata": {
    "execution": {
     "iopub.execute_input": "2025-07-30T20:53:56.423297Z",
     "iopub.status.busy": "2025-07-30T20:53:56.422766Z",
     "iopub.status.idle": "2025-07-30T20:53:56.436948Z",
     "shell.execute_reply": "2025-07-30T20:53:56.436109Z"
    },
    "papermill": {
     "duration": 0.03064,
     "end_time": "2025-07-30T20:53:56.438265",
     "exception": false,
     "start_time": "2025-07-30T20:53:56.407625",
     "status": "completed"
    },
    "tags": []
   },
   "outputs": [
    {
     "data": {
      "text/html": [
       "<div>\n",
       "<style scoped>\n",
       "    .dataframe tbody tr th:only-of-type {\n",
       "        vertical-align: middle;\n",
       "    }\n",
       "\n",
       "    .dataframe tbody tr th {\n",
       "        vertical-align: top;\n",
       "    }\n",
       "\n",
       "    .dataframe thead th {\n",
       "        text-align: right;\n",
       "    }\n",
       "</style>\n",
       "<table border=\"1\" class=\"dataframe\">\n",
       "  <thead>\n",
       "    <tr style=\"text-align: right;\">\n",
       "      <th></th>\n",
       "      <th>universe_id</th>\n",
       "      <th>universe_training_year</th>\n",
       "      <th>universe_training_size</th>\n",
       "      <th>universe_scale</th>\n",
       "      <th>universe_model</th>\n",
       "      <th>universe_exclude_features</th>\n",
       "      <th>universe_exclude_subgroups</th>\n",
       "      <th>q_hat</th>\n",
       "      <th>coverage</th>\n",
       "      <th>avg_size</th>\n",
       "      <th>cov_frau1</th>\n",
       "      <th>cov_nongerman</th>\n",
       "      <th>cov_nongerman_male</th>\n",
       "      <th>cov_nongerman_female</th>\n",
       "    </tr>\n",
       "  </thead>\n",
       "  <tbody>\n",
       "    <tr>\n",
       "      <th>0</th>\n",
       "      <td>497e0dc2c04e71aa53bcad02bc750d7b</td>\n",
       "      <td>2014</td>\n",
       "      <td>5k</td>\n",
       "      <td>do-not-scale</td>\n",
       "      <td>gbm</td>\n",
       "      <td>none</td>\n",
       "      <td>drop-non-german</td>\n",
       "      <td>0.689284</td>\n",
       "      <td>0.910043</td>\n",
       "      <td>1.120856</td>\n",
       "      <td>0.908667</td>\n",
       "      <td>0.908774</td>\n",
       "      <td>0.924615</td>\n",
       "      <td>0.882563</td>\n",
       "    </tr>\n",
       "  </tbody>\n",
       "</table>\n",
       "</div>"
      ],
      "text/plain": [
       "                        universe_id universe_training_year  \\\n",
       "0  497e0dc2c04e71aa53bcad02bc750d7b                   2014   \n",
       "\n",
       "  universe_training_size universe_scale universe_model  \\\n",
       "0                     5k   do-not-scale            gbm   \n",
       "\n",
       "  universe_exclude_features universe_exclude_subgroups     q_hat  coverage  \\\n",
       "0                      none            drop-non-german  0.689284  0.910043   \n",
       "\n",
       "   avg_size  cov_frau1  cov_nongerman  cov_nongerman_male  \\\n",
       "0  1.120856   0.908667       0.908774            0.924615   \n",
       "\n",
       "   cov_nongerman_female  \n",
       "0              0.882563  "
      ]
     },
     "execution_count": 71,
     "metadata": {},
     "output_type": "execute_result"
    }
   ],
   "source": [
    "cp_metrics_df"
   ]
  },
  {
   "cell_type": "markdown",
   "id": "33774451",
   "metadata": {
    "papermill": {
     "duration": 0.014303,
     "end_time": "2025-07-30T20:53:56.467513",
     "exception": false,
     "start_time": "2025-07-30T20:53:56.453210",
     "status": "completed"
    },
    "tags": []
   },
   "source": [
    "# (Fairness) Metrics"
   ]
  },
  {
   "cell_type": "code",
   "execution_count": 72,
   "id": "debc5d62",
   "metadata": {
    "execution": {
     "iopub.execute_input": "2025-07-30T20:53:56.498124Z",
     "iopub.status.busy": "2025-07-30T20:53:56.497430Z",
     "iopub.status.idle": "2025-07-30T20:53:56.518982Z",
     "shell.execute_reply": "2025-07-30T20:53:56.517956Z"
    },
    "papermill": {
     "duration": 0.039298,
     "end_time": "2025-07-30T20:53:56.521172",
     "exception": false,
     "start_time": "2025-07-30T20:53:56.481874",
     "status": "completed"
    },
    "tags": []
   },
   "outputs": [],
   "source": [
    "# do I need to include maxdeutsch1.missing?\n",
    "\n",
    "import numpy as np\n",
    "\n",
    "colname_to_bin = \"maxdeutsch1\"\n",
    "majority_value = org_train[colname_to_bin].mode()[0]\n",
    "\n",
    "org_test[\"majmin\"] = np.where(org_test[colname_to_bin] == majority_value, \"majority\", \"minority\")"
   ]
  },
  {
   "cell_type": "code",
   "execution_count": 73,
   "id": "06a50de5",
   "metadata": {
    "execution": {
     "iopub.execute_input": "2025-07-30T20:53:56.580991Z",
     "iopub.status.busy": "2025-07-30T20:53:56.580327Z",
     "iopub.status.idle": "2025-07-30T20:53:59.492843Z",
     "shell.execute_reply": "2025-07-30T20:53:59.491832Z"
    },
    "papermill": {
     "duration": 2.943641,
     "end_time": "2025-07-30T20:53:59.494683",
     "exception": false,
     "start_time": "2025-07-30T20:53:56.551042",
     "status": "completed"
    },
    "tags": []
   },
   "outputs": [],
   "source": [
    "example_universe = universe.copy()\n",
    "example_universe[\"cutoff\"] = example_universe[\"cutoff\"][0]\n",
    "example_universe[\"eval_fairness_grouping\"] = example_universe[\"eval_fairness_grouping\"][0]\n",
    "fairness_dict, metric_frame = universe_analysis.compute_metrics(\n",
    "    example_universe,\n",
    "    y_pred_prob=probs_test,\n",
    "    y_test=y_true,\n",
    "    org_test=org_test,\n",
    ")"
   ]
  },
  {
   "cell_type": "markdown",
   "id": "f95d4e02",
   "metadata": {
    "papermill": {
     "duration": 0.028356,
     "end_time": "2025-07-30T20:53:59.549806",
     "exception": false,
     "start_time": "2025-07-30T20:53:59.521450",
     "status": "completed"
    },
    "tags": []
   },
   "source": [
    "# Overall"
   ]
  },
  {
   "cell_type": "markdown",
   "id": "bdee4871",
   "metadata": {
    "papermill": {
     "duration": 0.027465,
     "end_time": "2025-07-30T20:53:59.604370",
     "exception": false,
     "start_time": "2025-07-30T20:53:59.576905",
     "status": "completed"
    },
    "tags": []
   },
   "source": [
    "Fairness\n",
    "Main fairness target: Equalized Odds. Seems to be a better fit than equal opportunity, since we're not only interested in Y = 1. Seems to be a better fit than demographic parity, since we also care about accuracy, not just equal distribution of preds.\n",
    "\n",
    "Pick column for computation of fairness metrics\n",
    "\n",
    "Performance\n",
    "Overall performance measures, most interesting in relation to the measures split by group below"
   ]
  },
  {
   "cell_type": "code",
   "execution_count": 74,
   "id": "c4e067c6",
   "metadata": {
    "execution": {
     "iopub.execute_input": "2025-07-30T20:53:59.660738Z",
     "iopub.status.busy": "2025-07-30T20:53:59.659964Z",
     "iopub.status.idle": "2025-07-30T20:53:59.669244Z",
     "shell.execute_reply": "2025-07-30T20:53:59.668068Z"
    },
    "papermill": {
     "duration": 0.0391,
     "end_time": "2025-07-30T20:53:59.670946",
     "exception": false,
     "start_time": "2025-07-30T20:53:59.631846",
     "status": "completed"
    },
    "tags": []
   },
   "outputs": [
    {
     "data": {
      "text/plain": [
       "accuracy                   0.224490\n",
       "balanced accuracy          0.548885\n",
       "f1                         0.245818\n",
       "precision                  0.140428\n",
       "false positive rate        0.887458\n",
       "false negative rate        0.014772\n",
       "selection rate             0.900000\n",
       "count                  89710.000000\n",
       "dtype: float64"
      ]
     },
     "execution_count": 74,
     "metadata": {},
     "output_type": "execute_result"
    }
   ],
   "source": [
    "metric_frame.overall"
   ]
  },
  {
   "cell_type": "markdown",
   "id": "e968fe9d",
   "metadata": {
    "papermill": {
     "duration": 0.028376,
     "end_time": "2025-07-30T20:53:59.727991",
     "exception": false,
     "start_time": "2025-07-30T20:53:59.699615",
     "status": "completed"
    },
    "tags": []
   },
   "source": [
    "By Group"
   ]
  },
  {
   "cell_type": "code",
   "execution_count": 75,
   "id": "ec325bce",
   "metadata": {
    "execution": {
     "iopub.execute_input": "2025-07-30T20:53:59.785103Z",
     "iopub.status.busy": "2025-07-30T20:53:59.784602Z",
     "iopub.status.idle": "2025-07-30T20:53:59.802397Z",
     "shell.execute_reply": "2025-07-30T20:53:59.801320Z"
    },
    "papermill": {
     "duration": 0.047529,
     "end_time": "2025-07-30T20:53:59.804073",
     "exception": false,
     "start_time": "2025-07-30T20:53:59.756544",
     "status": "completed"
    },
    "tags": []
   },
   "outputs": [
    {
     "data": {
      "text/html": [
       "<div>\n",
       "<style scoped>\n",
       "    .dataframe tbody tr th:only-of-type {\n",
       "        vertical-align: middle;\n",
       "    }\n",
       "\n",
       "    .dataframe tbody tr th {\n",
       "        vertical-align: top;\n",
       "    }\n",
       "\n",
       "    .dataframe thead th {\n",
       "        text-align: right;\n",
       "    }\n",
       "</style>\n",
       "<table border=\"1\" class=\"dataframe\">\n",
       "  <thead>\n",
       "    <tr style=\"text-align: right;\">\n",
       "      <th></th>\n",
       "      <th>accuracy</th>\n",
       "      <th>balanced accuracy</th>\n",
       "      <th>f1</th>\n",
       "      <th>precision</th>\n",
       "      <th>false positive rate</th>\n",
       "      <th>false negative rate</th>\n",
       "      <th>selection rate</th>\n",
       "      <th>count</th>\n",
       "    </tr>\n",
       "    <tr>\n",
       "      <th>majmin</th>\n",
       "      <th></th>\n",
       "      <th></th>\n",
       "      <th></th>\n",
       "      <th></th>\n",
       "      <th></th>\n",
       "      <th></th>\n",
       "      <th></th>\n",
       "      <th></th>\n",
       "    </tr>\n",
       "  </thead>\n",
       "  <tbody>\n",
       "    <tr>\n",
       "      <th>majority</th>\n",
       "      <td>0.244629</td>\n",
       "      <td>0.557667</td>\n",
       "      <td>0.255935</td>\n",
       "      <td>0.147116</td>\n",
       "      <td>0.867816</td>\n",
       "      <td>0.016849</td>\n",
       "      <td>0.883056</td>\n",
       "      <td>69170.0</td>\n",
       "    </tr>\n",
       "    <tr>\n",
       "      <th>minority</th>\n",
       "      <td>0.156670</td>\n",
       "      <td>0.520449</td>\n",
       "      <td>0.213566</td>\n",
       "      <td>0.119646</td>\n",
       "      <td>0.952344</td>\n",
       "      <td>0.006757</td>\n",
       "      <td>0.957059</td>\n",
       "      <td>20540.0</td>\n",
       "    </tr>\n",
       "  </tbody>\n",
       "</table>\n",
       "</div>"
      ],
      "text/plain": [
       "          accuracy  balanced accuracy        f1  precision  \\\n",
       "majmin                                                       \n",
       "majority  0.244629           0.557667  0.255935   0.147116   \n",
       "minority  0.156670           0.520449  0.213566   0.119646   \n",
       "\n",
       "          false positive rate  false negative rate  selection rate    count  \n",
       "majmin                                                                       \n",
       "majority             0.867816             0.016849        0.883056  69170.0  \n",
       "minority             0.952344             0.006757        0.957059  20540.0  "
      ]
     },
     "execution_count": 75,
     "metadata": {},
     "output_type": "execute_result"
    }
   ],
   "source": [
    "metric_frame.by_group"
   ]
  },
  {
   "cell_type": "code",
   "execution_count": 76,
   "id": "a9ddbe63",
   "metadata": {
    "execution": {
     "iopub.execute_input": "2025-07-30T20:53:59.862183Z",
     "iopub.status.busy": "2025-07-30T20:53:59.861250Z",
     "iopub.status.idle": "2025-07-30T20:54:02.323210Z",
     "shell.execute_reply": "2025-07-30T20:54:02.321299Z"
    },
    "papermill": {
     "duration": 2.492222,
     "end_time": "2025-07-30T20:54:02.324848",
     "exception": false,
     "start_time": "2025-07-30T20:53:59.832626",
     "status": "completed"
    },
    "tags": []
   },
   "outputs": [
    {
     "data": {
      "text/plain": [
       "array([[<Axes: title={'center': 'accuracy'}, xlabel='majmin'>,\n",
       "        <Axes: title={'center': 'balanced accuracy'}, xlabel='majmin'>,\n",
       "        <Axes: title={'center': 'f1'}, xlabel='majmin'>],\n",
       "       [<Axes: title={'center': 'precision'}, xlabel='majmin'>,\n",
       "        <Axes: title={'center': 'false positive rate'}, xlabel='majmin'>,\n",
       "        <Axes: title={'center': 'false negative rate'}, xlabel='majmin'>],\n",
       "       [<Axes: title={'center': 'selection rate'}, xlabel='majmin'>,\n",
       "        <Axes: title={'center': 'count'}, xlabel='majmin'>,\n",
       "        <Axes: xlabel='majmin'>]], dtype=object)"
      ]
     },
     "execution_count": 76,
     "metadata": {},
     "output_type": "execute_result"
    },
    {
     "data": {
      "image/png": "[encoded data removed]",
      "text/plain": [
       "<Figure size 1200x800 with 9 Axes>"
      ]
     },
     "metadata": {},
     "output_type": "display_data"
    }
   ],
   "source": [
    "# In a graphic\n",
    "metric_frame.by_group.plot.bar(\n",
    "    subplots=True,\n",
    "    layout=[3, 3],\n",
    "    legend=False,\n",
    "    figsize=[12, 8],\n",
    "    title=\"Show all metrics\",\n",
    ")"
   ]
  },
  {
   "cell_type": "markdown",
   "id": "f57a0bac",
   "metadata": {
    "papermill": {
     "duration": 0.029376,
     "end_time": "2025-07-30T20:54:02.385130",
     "exception": false,
     "start_time": "2025-07-30T20:54:02.355754",
     "status": "completed"
    },
    "tags": []
   },
   "source": [
    "# Final Output"
   ]
  },
  {
   "cell_type": "code",
   "execution_count": 77,
   "id": "96d280a3",
   "metadata": {
    "execution": {
     "iopub.execute_input": "2025-07-30T20:54:02.445074Z",
     "iopub.status.busy": "2025-07-30T20:54:02.443918Z",
     "iopub.status.idle": "2025-07-30T20:54:02.453231Z",
     "shell.execute_reply": "2025-07-30T20:54:02.452205Z"
    },
    "papermill": {
     "duration": 0.041358,
     "end_time": "2025-07-30T20:54:02.454894",
     "exception": false,
     "start_time": "2025-07-30T20:54:02.413536",
     "status": "completed"
    },
    "tags": []
   },
   "outputs": [
    {
     "data": {
      "text/plain": [
       "4"
      ]
     },
     "execution_count": 77,
     "metadata": {},
     "output_type": "execute_result"
    }
   ],
   "source": [
    "sub_universes = universe_analysis.generate_sub_universes()\n",
    "len(sub_universes)"
   ]
  },
  {
   "cell_type": "code",
   "execution_count": 78,
   "id": "92adf7ba",
   "metadata": {
    "execution": {
     "iopub.execute_input": "2025-07-30T20:54:02.515027Z",
     "iopub.status.busy": "2025-07-30T20:54:02.514340Z",
     "iopub.status.idle": "2025-07-30T20:54:02.520702Z",
     "shell.execute_reply": "2025-07-30T20:54:02.519742Z"
    },
    "papermill": {
     "duration": 0.038291,
     "end_time": "2025-07-30T20:54:02.522873",
     "exception": false,
     "start_time": "2025-07-30T20:54:02.484582",
     "status": "completed"
    },
    "tags": []
   },
   "outputs": [],
   "source": [
    "def filter_sub_universe_data(sub_universe, org_test):\n",
    "    # Keep all rows — no filtering\n",
    "    keep_rows_mask = np.ones(org_test.shape[0], dtype=bool)\n",
    "\n",
    "    print(f\"[INFO] Keeping all rows: {keep_rows_mask.sum()} rows retained.\")\n",
    "    return keep_rows_mask"
   ]
  },
  {
   "cell_type": "code",
   "execution_count": 79,
   "id": "4a759155",
   "metadata": {
    "execution": {
     "iopub.execute_input": "2025-07-30T20:54:02.584458Z",
     "iopub.status.busy": "2025-07-30T20:54:02.583491Z",
     "iopub.status.idle": "2025-07-30T20:54:12.911429Z",
     "shell.execute_reply": "2025-07-30T20:54:12.910724Z"
    },
    "papermill": {
     "duration": 10.359257,
     "end_time": "2025-07-30T20:54:12.912969",
     "exception": false,
     "start_time": "2025-07-30T20:54:02.553712",
     "status": "completed"
    },
    "tags": []
   },
   "outputs": [
    {
     "name": "stdout",
     "output_type": "stream",
     "text": [
      "Stopping execution_time clock.\n",
      "[INFO] Keeping all rows: 89710 rows retained.\n"
     ]
    },
    {
     "name": "stdout",
     "output_type": "stream",
     "text": [
      "[INFO] Keeping all rows: 89710 rows retained.\n"
     ]
    },
    {
     "name": "stdout",
     "output_type": "stream",
     "text": [
      "[INFO] Keeping all rows: 89710 rows retained.\n"
     ]
    },
    {
     "name": "stdout",
     "output_type": "stream",
     "text": [
      "[INFO] Keeping all rows: 89710 rows retained.\n"
     ]
    },
    {
     "data": {
      "text/html": [
       "<div>\n",
       "<style scoped>\n",
       "    .dataframe tbody tr th:only-of-type {\n",
       "        vertical-align: middle;\n",
       "    }\n",
       "\n",
       "    .dataframe tbody tr th {\n",
       "        vertical-align: top;\n",
       "    }\n",
       "\n",
       "    .dataframe thead th {\n",
       "        text-align: right;\n",
       "    }\n",
       "</style>\n",
       "<table border=\"1\" class=\"dataframe\">\n",
       "  <thead>\n",
       "    <tr style=\"text-align: right;\">\n",
       "      <th></th>\n",
       "      <th>run_no</th>\n",
       "      <th>universe_id</th>\n",
       "      <th>universe_settings</th>\n",
       "      <th>execution_time</th>\n",
       "      <th>test_size_n</th>\n",
       "      <th>test_size_frac</th>\n",
       "      <th>fair_main_equalized_odds_difference</th>\n",
       "      <th>fair_main_equalized_odds_ratio</th>\n",
       "      <th>fair_main_demographic_parity_difference</th>\n",
       "      <th>fair_main_demographic_parity_ratio</th>\n",
       "      <th>...</th>\n",
       "      <th>perf_grp_precision_0</th>\n",
       "      <th>perf_grp_precision_1</th>\n",
       "      <th>perf_grp_false positive rate_0</th>\n",
       "      <th>perf_grp_false positive rate_1</th>\n",
       "      <th>perf_grp_false negative rate_0</th>\n",
       "      <th>perf_grp_false negative rate_1</th>\n",
       "      <th>perf_grp_selection rate_0</th>\n",
       "      <th>perf_grp_selection rate_1</th>\n",
       "      <th>perf_grp_count_0</th>\n",
       "      <th>perf_grp_count_1</th>\n",
       "    </tr>\n",
       "  </thead>\n",
       "  <tbody>\n",
       "    <tr>\n",
       "      <th>0</th>\n",
       "      <td>14</td>\n",
       "      <td>497e0dc2c04e71aa53bcad02bc750d7b</td>\n",
       "      <td>{\"cutoff\": \"quantile_0.1\", \"eval_fairness_grou...</td>\n",
       "      <td>33.067056</td>\n",
       "      <td>89710</td>\n",
       "      <td>1.0</td>\n",
       "      <td>0.084528</td>\n",
       "      <td>0.911242</td>\n",
       "      <td>0.074003</td>\n",
       "      <td>0.922677</td>\n",
       "      <td>...</td>\n",
       "      <td>NaN</td>\n",
       "      <td>NaN</td>\n",
       "      <td>NaN</td>\n",
       "      <td>NaN</td>\n",
       "      <td>NaN</td>\n",
       "      <td>NaN</td>\n",
       "      <td>NaN</td>\n",
       "      <td>NaN</td>\n",
       "      <td>NaN</td>\n",
       "      <td>NaN</td>\n",
       "    </tr>\n",
       "    <tr>\n",
       "      <th>0</th>\n",
       "      <td>14</td>\n",
       "      <td>497e0dc2c04e71aa53bcad02bc750d7b</td>\n",
       "      <td>{\"cutoff\": \"quantile_0.1\", \"eval_fairness_grou...</td>\n",
       "      <td>33.067056</td>\n",
       "      <td>89710</td>\n",
       "      <td>1.0</td>\n",
       "      <td>0.084528</td>\n",
       "      <td>0.911242</td>\n",
       "      <td>0.074003</td>\n",
       "      <td>0.922677</td>\n",
       "      <td>...</td>\n",
       "      <td>0.119646</td>\n",
       "      <td>0.147116</td>\n",
       "      <td>0.952344</td>\n",
       "      <td>0.867816</td>\n",
       "      <td>0.006757</td>\n",
       "      <td>0.016849</td>\n",
       "      <td>0.957059</td>\n",
       "      <td>0.883056</td>\n",
       "      <td>20540.0</td>\n",
       "      <td>69170.0</td>\n",
       "    </tr>\n",
       "    <tr>\n",
       "      <th>0</th>\n",
       "      <td>14</td>\n",
       "      <td>497e0dc2c04e71aa53bcad02bc750d7b</td>\n",
       "      <td>{\"cutoff\": \"quantile_0.25\", \"eval_fairness_gro...</td>\n",
       "      <td>33.067056</td>\n",
       "      <td>89710</td>\n",
       "      <td>1.0</td>\n",
       "      <td>0.152540</td>\n",
       "      <td>0.819039</td>\n",
       "      <td>0.132883</td>\n",
       "      <td>0.844804</td>\n",
       "      <td>...</td>\n",
       "      <td>NaN</td>\n",
       "      <td>NaN</td>\n",
       "      <td>NaN</td>\n",
       "      <td>NaN</td>\n",
       "      <td>NaN</td>\n",
       "      <td>NaN</td>\n",
       "      <td>NaN</td>\n",
       "      <td>NaN</td>\n",
       "      <td>NaN</td>\n",
       "      <td>NaN</td>\n",
       "    </tr>\n",
       "    <tr>\n",
       "      <th>0</th>\n",
       "      <td>14</td>\n",
       "      <td>497e0dc2c04e71aa53bcad02bc750d7b</td>\n",
       "      <td>{\"cutoff\": \"quantile_0.25\", \"eval_fairness_gro...</td>\n",
       "      <td>33.067056</td>\n",
       "      <td>89710</td>\n",
       "      <td>1.0</td>\n",
       "      <td>0.152540</td>\n",
       "      <td>0.819039</td>\n",
       "      <td>0.132883</td>\n",
       "      <td>0.844804</td>\n",
       "      <td>...</td>\n",
       "      <td>0.129016</td>\n",
       "      <td>0.171663</td>\n",
       "      <td>0.842945</td>\n",
       "      <td>0.690405</td>\n",
       "      <td>0.041807</td>\n",
       "      <td>0.060284</td>\n",
       "      <td>0.856232</td>\n",
       "      <td>0.723348</td>\n",
       "      <td>20540.0</td>\n",
       "      <td>69170.0</td>\n",
       "    </tr>\n",
       "  </tbody>\n",
       "</table>\n",
       "<p>4 rows × 50 columns</p>\n",
       "</div>"
      ],
      "text/plain": [
       "  run_no                       universe_id  \\\n",
       "0     14  497e0dc2c04e71aa53bcad02bc750d7b   \n",
       "0     14  497e0dc2c04e71aa53bcad02bc750d7b   \n",
       "0     14  497e0dc2c04e71aa53bcad02bc750d7b   \n",
       "0     14  497e0dc2c04e71aa53bcad02bc750d7b   \n",
       "\n",
       "                                   universe_settings  execution_time  \\\n",
       "0  {\"cutoff\": \"quantile_0.1\", \"eval_fairness_grou...       33.067056   \n",
       "0  {\"cutoff\": \"quantile_0.1\", \"eval_fairness_grou...       33.067056   \n",
       "0  {\"cutoff\": \"quantile_0.25\", \"eval_fairness_gro...       33.067056   \n",
       "0  {\"cutoff\": \"quantile_0.25\", \"eval_fairness_gro...       33.067056   \n",
       "\n",
       "   test_size_n  test_size_frac  fair_main_equalized_odds_difference  \\\n",
       "0        89710             1.0                             0.084528   \n",
       "0        89710             1.0                             0.084528   \n",
       "0        89710             1.0                             0.152540   \n",
       "0        89710             1.0                             0.152540   \n",
       "\n",
       "   fair_main_equalized_odds_ratio  fair_main_demographic_parity_difference  \\\n",
       "0                        0.911242                                 0.074003   \n",
       "0                        0.911242                                 0.074003   \n",
       "0                        0.819039                                 0.132883   \n",
       "0                        0.819039                                 0.132883   \n",
       "\n",
       "   fair_main_demographic_parity_ratio  ...  perf_grp_precision_0  \\\n",
       "0                            0.922677  ...                   NaN   \n",
       "0                            0.922677  ...              0.119646   \n",
       "0                            0.844804  ...                   NaN   \n",
       "0                            0.844804  ...              0.129016   \n",
       "\n",
       "   perf_grp_precision_1  perf_grp_false positive rate_0  \\\n",
       "0                   NaN                             NaN   \n",
       "0              0.147116                        0.952344   \n",
       "0                   NaN                             NaN   \n",
       "0              0.171663                        0.842945   \n",
       "\n",
       "   perf_grp_false positive rate_1  perf_grp_false negative rate_0  \\\n",
       "0                             NaN                             NaN   \n",
       "0                        0.867816                        0.006757   \n",
       "0                             NaN                             NaN   \n",
       "0                        0.690405                        0.041807   \n",
       "\n",
       "   perf_grp_false negative rate_1  perf_grp_selection rate_0  \\\n",
       "0                             NaN                        NaN   \n",
       "0                        0.016849                   0.957059   \n",
       "0                             NaN                        NaN   \n",
       "0                        0.060284                   0.856232   \n",
       "\n",
       "   perf_grp_selection rate_1  perf_grp_count_0  perf_grp_count_1  \n",
       "0                        NaN               NaN               NaN  \n",
       "0                   0.883056           20540.0           69170.0  \n",
       "0                        NaN               NaN               NaN  \n",
       "0                   0.723348           20540.0           69170.0  \n",
       "\n",
       "[4 rows x 50 columns]"
      ]
     },
     "execution_count": 79,
     "metadata": {},
     "output_type": "execute_result"
    }
   ],
   "source": [
    "final_output = universe_analysis.generate_final_output(\n",
    "    y_pred_prob=probs_test,\n",
    "    y_test=y_true,\n",
    "    org_test=org_test,\n",
    "    filter_data=filter_sub_universe_data,\n",
    "    cp_metrics_df=cp_metrics_df,\n",
    "    save=True,\n",
    ")\n",
    "final_output"
   ]
  },
  {
   "cell_type": "code",
   "execution_count": null,
   "id": "721ff514-cb11-46f8-b6fc-50392f74b5cb",
   "metadata": {
    "papermill": {
     "duration": 0.029861,
     "end_time": "2025-07-30T20:54:12.990133",
     "exception": false,
     "start_time": "2025-07-30T20:54:12.960272",
     "status": "completed"
    },
    "tags": []
   },
   "outputs": [],
   "source": []
  }
 ],
 "metadata": {
  "celltoolbar": "Tags",
  "kernelspec": {
   "display_name": "Python (CMA Fairness)",
   "language": "python",
   "name": "cma_fair_env"
  },
  "language_info": {
   "codemirror_mode": {
    "name": "ipython",
    "version": 3
   },
   "file_extension": ".py",
   "mimetype": "text/x-python",
   "name": "python",
   "nbconvert_exporter": "python",
   "pygments_lexer": "ipython3",
   "version": "3.10.12"
  },
  "papermill": {
   "default_parameters": {},
   "duration": 50.279854,
   "end_time": "2025-07-30T20:54:13.840170",
   "environment_variables": {},
   "exception": null,
   "input_path": "universe_analysis.ipynb",
   "output_path": "output/runs/14/notebooks/m_14-497e0dc2c04e71aa53bcad02bc750d7b.ipynb",
   "parameters": {
    "output_dir": "output",
    "run_no": "14",
    "seed": "2023",
    "universe": "{\"cutoff\": [\"quantile_0.1\", \"quantile_0.25\"], \"eval_fairness_grouping\": [\"majority-minority\", \"nationality-all\"], \"exclude_features\": \"none\", \"exclude_subgroups\": \"drop-non-german\", \"model\": \"gbm\", \"scale\": \"do-not-scale\", \"training_size\": \"5k\", \"training_year\": \"2014\"}",
    "universe_id": "497e0dc2c04e71aa53bcad02bc750d7b"
   },
   "start_time": "2025-07-30T20:53:23.560316",
   "version": "2.6.0"
  }
 },
 "nbformat": 4,
 "nbformat_minor": 5
}