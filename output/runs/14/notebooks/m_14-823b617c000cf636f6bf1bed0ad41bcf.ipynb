{
 "cells": [
  {
   "cell_type": "code",
   "execution_count": 1,
   "id": "f159f837-637b-42ba-96b5-ec9a68c44524",
   "metadata": {
    "execution": {
     "iopub.execute_input": "2025-07-30T21:31:13.190779Z",
     "iopub.status.busy": "2025-07-30T21:31:13.190411Z",
     "iopub.status.idle": "2025-07-30T21:31:13.202421Z",
     "shell.execute_reply": "2025-07-30T21:31:13.201563Z"
    },
    "papermill": {
     "duration": 0.029203,
     "end_time": "2025-07-30T21:31:13.204811",
     "exception": false,
     "start_time": "2025-07-30T21:31:13.175608",
     "status": "completed"
    },
    "tags": []
   },
   "outputs": [
    {
     "name": "stdout",
     "output_type": "stream",
     "text": [
      "/dss/dsshome1/0C/ra93lal2/cma/CMA_Fairness_v2\n"
     ]
    },
    {
     "name": "stderr",
     "output_type": "stream",
     "text": [
      "/dss/dsshome1/0C/ra93lal2/.local/share/virtualenvs/CMA_Fairness_v2-3j10GkSs/lib/python3.10/site-packages/IPython/core/magics/osm.py:393: UserWarning: This is now an optional IPython functionality, using bookmarks requires you to install the `pickleshare` library.\n",
      "  bkms = self.shell.db.get('bookmarks', {})\n",
      "/dss/dsshome1/0C/ra93lal2/.local/share/virtualenvs/CMA_Fairness_v2-3j10GkSs/lib/python3.10/site-packages/IPython/core/magics/osm.py:417: UserWarning: This is now an optional IPython functionality, setting dhist requires you to install the `pickleshare` library.\n",
      "  self.shell.db['dhist'] = compress_dhist(dhist)[-100:]\n"
     ]
    }
   ],
   "source": [
    "%cd ~/cma/CMA_Fairness_v2"
   ]
  },
  {
   "cell_type": "markdown",
   "id": "de2603b9",
   "metadata": {
    "papermill": {
     "duration": 0.013274,
     "end_time": "2025-07-30T21:31:13.231897",
     "exception": false,
     "start_time": "2025-07-30T21:31:13.218623",
     "status": "completed"
    },
    "tags": []
   },
   "source": [
    "The following cell holds the definition of our parameters, these values can be overriden by rendering the with e.g. the following command:\n",
    "\n",
    "papermill -p alpha 0.2 -p ratio 0.3 universe_analysis.ipynb output/test_run.ipynb"
   ]
  },
  {
   "cell_type": "code",
   "execution_count": 2,
   "id": "a80968a0-40bb-4fa9-85ef-2d5eefb01975",
   "metadata": {
    "execution": {
     "iopub.execute_input": "2025-07-30T21:31:13.254932Z",
     "iopub.status.busy": "2025-07-30T21:31:13.254501Z",
     "iopub.status.idle": "2025-07-30T21:31:13.391567Z",
     "shell.execute_reply": "2025-07-30T21:31:13.390692Z"
    },
    "papermill": {
     "duration": 0.149959,
     "end_time": "2025-07-30T21:31:13.392985",
     "exception": false,
     "start_time": "2025-07-30T21:31:13.243026",
     "status": "completed"
    },
    "tags": []
   },
   "outputs": [
    {
     "name": "stdout",
     "output_type": "stream",
     "text": [
      "Current working directory: /dss/dsshome1/0C/ra93lal2/cma/CMA_Fairness_v2\n"
     ]
    }
   ],
   "source": [
    "import os\n",
    "print(\"Current working directory:\", os.getcwd())"
   ]
  },
  {
   "cell_type": "code",
   "execution_count": 3,
   "id": "2dce4c03",
   "metadata": {
    "execution": {
     "iopub.execute_input": "2025-07-30T21:31:13.430437Z",
     "iopub.status.busy": "2025-07-30T21:31:13.429934Z",
     "iopub.status.idle": "2025-07-30T21:31:13.436311Z",
     "shell.execute_reply": "2025-07-30T21:31:13.435342Z"
    },
    "papermill": {
     "duration": 0.029764,
     "end_time": "2025-07-30T21:31:13.438133",
     "exception": false,
     "start_time": "2025-07-30T21:31:13.408369",
     "status": "completed"
    },
    "tags": [
     "parameters"
    ]
   },
   "outputs": [],
   "source": [
    "run_no = 0\n",
    "universe_id = \"test\"\n",
    "universe = {\n",
    "    \"training_size\": \"25k\", # \"25k\", \"5k\", \"1k\"\n",
    "    \"training_year\": \"2014\", # \"2014\", \"2012_14\", \"2010_14\"\n",
    "    \"scale\": \"scale\", # \"scale\", \"do-not-scale\",\n",
    "    #\"stratify_split\": \"target\", # \"none\", \"target\", \"protected-attribute\", \"both\",\n",
    "    \"model\": \"elasticnet\", # \"logreg\", \"penalized_logreg\", \"rf\", \"gbm\", \"elasticnet\"\n",
    "    \"cutoff\": [\"quantile_0.15\", \"quantile_0.30\"],\n",
    "    \"exclude_features\": \"age\", # \"none\", \"nationality\", \"sex\", \"nationality-sex\", \"age\"\n",
    "    \"exclude_subgroups\": \"keep-all\", # \"keep-all\", \"drop-non-german\"\n",
    "    \"eval_fairness_grouping\": [\"majority-minority\", \"nationality-all\"]\n",
    "}\n",
    "\n",
    "output_dir=\"./output\"\n",
    "seed=0"
   ]
  },
  {
   "cell_type": "code",
   "execution_count": 4,
   "id": "cebd57b2",
   "metadata": {
    "execution": {
     "iopub.execute_input": "2025-07-30T21:31:13.464769Z",
     "iopub.status.busy": "2025-07-30T21:31:13.464390Z",
     "iopub.status.idle": "2025-07-30T21:31:13.468280Z",
     "shell.execute_reply": "2025-07-30T21:31:13.467545Z"
    },
    "papermill": {
     "duration": 0.016782,
     "end_time": "2025-07-30T21:31:13.469997",
     "exception": false,
     "start_time": "2025-07-30T21:31:13.453215",
     "status": "completed"
    },
    "tags": [
     "injected-parameters"
    ]
   },
   "outputs": [],
   "source": [
    "# Parameters\n",
    "universe_id = \"823b617c000cf636f6bf1bed0ad41bcf\"\n",
    "run_no = \"14\"\n",
    "universe = \"{\\\"cutoff\\\": [\\\"quantile_0.1\\\", \\\"quantile_0.25\\\"], \\\"eval_fairness_grouping\\\": [\\\"majority-minority\\\", \\\"nationality-all\\\"], \\\"exclude_features\\\": \\\"nationality-sex\\\", \\\"exclude_subgroups\\\": \\\"drop-non-german\\\", \\\"model\\\": \\\"gbm\\\", \\\"scale\\\": \\\"do-not-scale\\\", \\\"training_size\\\": \\\"1k\\\", \\\"training_year\\\": \\\"2014\\\"}\"\n",
    "output_dir = \"output\"\n",
    "seed = \"2023\"\n"
   ]
  },
  {
   "cell_type": "code",
   "execution_count": 5,
   "id": "1650acaf",
   "metadata": {
    "execution": {
     "iopub.execute_input": "2025-07-30T21:31:13.512250Z",
     "iopub.status.busy": "2025-07-30T21:31:13.511535Z",
     "iopub.status.idle": "2025-07-30T21:31:13.516553Z",
     "shell.execute_reply": "2025-07-30T21:31:13.515541Z"
    },
    "papermill": {
     "duration": 0.028012,
     "end_time": "2025-07-30T21:31:13.518075",
     "exception": false,
     "start_time": "2025-07-30T21:31:13.490063",
     "status": "completed"
    },
    "tags": []
   },
   "outputs": [],
   "source": [
    "import json\n",
    "# Parse universe into dict if it is passed as a string\n",
    "if isinstance(universe, str):\n",
    "    universe = json.loads(universe)"
   ]
  },
  {
   "cell_type": "code",
   "execution_count": 6,
   "id": "16620c48",
   "metadata": {
    "execution": {
     "iopub.execute_input": "2025-07-30T21:31:13.562309Z",
     "iopub.status.busy": "2025-07-30T21:31:13.561668Z",
     "iopub.status.idle": "2025-07-30T21:31:13.614637Z",
     "shell.execute_reply": "2025-07-30T21:31:13.613449Z"
    },
    "papermill": {
     "duration": 0.077535,
     "end_time": "2025-07-30T21:31:13.617059",
     "exception": false,
     "start_time": "2025-07-30T21:31:13.539524",
     "status": "completed"
    },
    "tags": []
   },
   "outputs": [],
   "source": [
    "# Auto-reload the custom package\n",
    "%load_ext autoreload\n",
    "%autoreload 1\n",
    "%aimport fairness_multiverse"
   ]
  },
  {
   "cell_type": "code",
   "execution_count": 7,
   "id": "01c5c9f3",
   "metadata": {
    "execution": {
     "iopub.execute_input": "2025-07-30T21:31:13.667363Z",
     "iopub.status.busy": "2025-07-30T21:31:13.666490Z",
     "iopub.status.idle": "2025-07-30T21:31:20.263187Z",
     "shell.execute_reply": "2025-07-30T21:31:20.261763Z"
    },
    "papermill": {
     "duration": 6.623279,
     "end_time": "2025-07-30T21:31:20.265189",
     "exception": false,
     "start_time": "2025-07-30T21:31:13.641910",
     "status": "completed"
    },
    "tags": []
   },
   "outputs": [],
   "source": [
    "from fairness_multiverse.universe import UniverseAnalysis\n",
    "\n",
    "universe_analysis = UniverseAnalysis(\n",
    "    run_no = run_no,\n",
    "    universe_id = universe_id,\n",
    "    universe = universe,\n",
    "    output_dir=output_dir,\n",
    ")"
   ]
  },
  {
   "cell_type": "code",
   "execution_count": 8,
   "id": "106241f5",
   "metadata": {
    "execution": {
     "iopub.execute_input": "2025-07-30T21:31:20.312909Z",
     "iopub.status.busy": "2025-07-30T21:31:20.312468Z",
     "iopub.status.idle": "2025-07-30T21:31:20.320486Z",
     "shell.execute_reply": "2025-07-30T21:31:20.319418Z"
    },
    "papermill": {
     "duration": 0.033269,
     "end_time": "2025-07-30T21:31:20.322168",
     "exception": false,
     "start_time": "2025-07-30T21:31:20.288899",
     "status": "completed"
    },
    "tags": []
   },
   "outputs": [
    {
     "name": "stdout",
     "output_type": "stream",
     "text": [
      "Using Seed: 2023\n"
     ]
    }
   ],
   "source": [
    "import numpy as np\n",
    "parsed_seed = int(seed)\n",
    "np.random.seed(parsed_seed)\n",
    "print(f\"Using Seed: {parsed_seed}\")"
   ]
  },
  {
   "cell_type": "markdown",
   "id": "e0ebdc57",
   "metadata": {
    "papermill": {
     "duration": 0.021065,
     "end_time": "2025-07-30T21:31:20.364990",
     "exception": false,
     "start_time": "2025-07-30T21:31:20.343925",
     "status": "completed"
    },
    "tags": []
   },
   "source": [
    "# Loading Data"
   ]
  },
  {
   "cell_type": "markdown",
   "id": "681925a3",
   "metadata": {
    "papermill": {
     "duration": 0.02124,
     "end_time": "2025-07-30T21:31:20.407241",
     "exception": false,
     "start_time": "2025-07-30T21:31:20.386001",
     "status": "completed"
    },
    "tags": []
   },
   "source": [
    "Load siab_train, siab_test, siab_calib and/or \n",
    "load siab_train_features, siab_train_labels"
   ]
  },
  {
   "cell_type": "code",
   "execution_count": 9,
   "id": "f0496b8a",
   "metadata": {
    "execution": {
     "iopub.execute_input": "2025-07-30T21:31:20.441471Z",
     "iopub.status.busy": "2025-07-30T21:31:20.440867Z",
     "iopub.status.idle": "2025-07-30T21:31:34.340303Z",
     "shell.execute_reply": "2025-07-30T21:31:34.338758Z"
    },
    "papermill": {
     "duration": 13.915784,
     "end_time": "2025-07-30T21:31:34.342021",
     "exception": false,
     "start_time": "2025-07-30T21:31:20.426237",
     "status": "completed"
    },
    "tags": []
   },
   "outputs": [
    {
     "name": "stdout",
     "output_type": "stream",
     "text": [
      "Loading SIAB data from cache: data/siab_cached.csv.gz\n"
     ]
    },
    {
     "name": "stdout",
     "output_type": "stream",
     "text": [
      "(643690, 164)\n"
     ]
    }
   ],
   "source": [
    "from pathlib import Path\n",
    "import pandas as pd\n",
    "\n",
    "# File paths\n",
    "raw_file = Path(\"data/raw/siab.csv\")\n",
    "cache_file = Path(\"data/siab_cached.csv.gz\")\n",
    "\n",
    "# Ensure cache directory exists\n",
    "cache_file.parent.mkdir(parents=True, exist_ok=True)\n",
    "\n",
    "# Load with simple caching\n",
    "if cache_file.exists():\n",
    "    print(f\"Loading SIAB data from cache: {cache_file}\")\n",
    "    siab = pd.read_csv(cache_file, compression='gzip')\n",
    "else:\n",
    "    print(f\"Cache not found. Reading raw SIAB data: {raw_file}\")\n",
    "    siab = pd.read_csv(raw_file)\n",
    "    siab.to_csv(cache_file, index=False, compression='gzip')\n",
    "    print(f\"Cached SIAB data to: {cache_file}\")\n",
    "\n",
    "# Now use `siab` DataFrame as needed\n",
    "print(siab.shape)"
   ]
  },
  {
   "cell_type": "code",
   "execution_count": 10,
   "id": "db0ca512-5f53-4dba-abdb-a2888bca41ba",
   "metadata": {
    "execution": {
     "iopub.execute_input": "2025-07-30T21:31:34.386108Z",
     "iopub.status.busy": "2025-07-30T21:31:34.385550Z",
     "iopub.status.idle": "2025-07-30T21:31:34.391669Z",
     "shell.execute_reply": "2025-07-30T21:31:34.390728Z"
    },
    "papermill": {
     "duration": 0.029025,
     "end_time": "2025-07-30T21:31:34.393599",
     "exception": false,
     "start_time": "2025-07-30T21:31:34.364574",
     "status": "completed"
    },
    "tags": []
   },
   "outputs": [],
   "source": [
    "#siab"
   ]
  },
  {
   "cell_type": "code",
   "execution_count": 11,
   "id": "a0edb063",
   "metadata": {
    "execution": {
     "iopub.execute_input": "2025-07-30T21:31:34.436128Z",
     "iopub.status.busy": "2025-07-30T21:31:34.435621Z",
     "iopub.status.idle": "2025-07-30T21:31:34.440345Z",
     "shell.execute_reply": "2025-07-30T21:31:34.439375Z"
    },
    "papermill": {
     "duration": 0.026883,
     "end_time": "2025-07-30T21:31:34.442011",
     "exception": false,
     "start_time": "2025-07-30T21:31:34.415128",
     "status": "completed"
    },
    "tags": []
   },
   "outputs": [],
   "source": [
    "#import pandas as pd\n",
    "#\n",
    "#X_train = pd.read_csv(\"./data/X_train.csv\")\n",
    "#y_train = pd.read_csv(\"./data/y_train.csv\")"
   ]
  },
  {
   "cell_type": "code",
   "execution_count": 12,
   "id": "63d08085",
   "metadata": {
    "execution": {
     "iopub.execute_input": "2025-07-30T21:31:34.489211Z",
     "iopub.status.busy": "2025-07-30T21:31:34.488657Z",
     "iopub.status.idle": "2025-07-30T21:31:34.493686Z",
     "shell.execute_reply": "2025-07-30T21:31:34.492705Z"
    },
    "papermill": {
     "duration": 0.030945,
     "end_time": "2025-07-30T21:31:34.495314",
     "exception": false,
     "start_time": "2025-07-30T21:31:34.464369",
     "status": "completed"
    },
    "tags": []
   },
   "outputs": [],
   "source": [
    "#X_test = pd.read_csv(\"./data/X_test.csv\")\n",
    "#y_true = pd.read_csv(\"./data/y_test.csv\")"
   ]
  },
  {
   "cell_type": "code",
   "execution_count": 13,
   "id": "98a8d0fa-1d3d-4ed8-bb2c-281470e24add",
   "metadata": {
    "execution": {
     "iopub.execute_input": "2025-07-30T21:31:34.541373Z",
     "iopub.status.busy": "2025-07-30T21:31:34.540833Z",
     "iopub.status.idle": "2025-07-30T21:31:34.545130Z",
     "shell.execute_reply": "2025-07-30T21:31:34.544213Z"
    },
    "papermill": {
     "duration": 0.028628,
     "end_time": "2025-07-30T21:31:34.546602",
     "exception": false,
     "start_time": "2025-07-30T21:31:34.517974",
     "status": "completed"
    },
    "tags": []
   },
   "outputs": [],
   "source": [
    "# Calibration data for conformal\n",
    "#X_calib = pd.read_csv(\"./data/X_calib.csv\")\n",
    "#y_calib = pd.read_csv(\"./data/y_calib.csv\")"
   ]
  },
  {
   "cell_type": "markdown",
   "id": "997051c5-15bd-4b69-9786-c3001a3ce484",
   "metadata": {
    "papermill": {
     "duration": 0.011598,
     "end_time": "2025-07-30T21:31:34.570588",
     "exception": false,
     "start_time": "2025-07-30T21:31:34.558990",
     "status": "completed"
    },
    "tags": []
   },
   "source": [
    "# Splitting Data and Setting Training Data Size"
   ]
  },
  {
   "cell_type": "code",
   "execution_count": 14,
   "id": "e993b61f-042d-41a6-8c81-f55681f86335",
   "metadata": {
    "execution": {
     "iopub.execute_input": "2025-07-30T21:31:34.593824Z",
     "iopub.status.busy": "2025-07-30T21:31:34.593539Z",
     "iopub.status.idle": "2025-07-30T21:31:34.602626Z",
     "shell.execute_reply": "2025-07-30T21:31:34.601952Z"
    },
    "papermill": {
     "duration": 0.021636,
     "end_time": "2025-07-30T21:31:34.603727",
     "exception": false,
     "start_time": "2025-07-30T21:31:34.582091",
     "status": "completed"
    },
    "tags": []
   },
   "outputs": [],
   "source": [
    "def sample_by_year_size(df,\n",
    "                        training_year: str,\n",
    "                        training_size: str,\n",
    "                        random_state: int = 42):\n",
    "    # --- parse training_year into a list of int years ---\n",
    "    if \"_\" in training_year:\n",
    "        start_str, end_str = training_year.split(\"_\", 1)\n",
    "        start = int(start_str)\n",
    "        end   = int(end_str) if len(end_str) == 4 else (int(end_str) + (start // 100)*100)\n",
    "        years = list(range(start, end + 1))\n",
    "    else:\n",
    "        years = [int(training_year)]\n",
    "\n",
    "    df = df[df[\"year\"].isin(years)].reset_index(drop=True)\n",
    "\n",
    "    # --- map training_size to total number of samples ---\n",
    "    total_map = {\"25k\": 25_000, \"5k\": 5_000, \"1k\": 1_000}\n",
    "    if training_size not in total_map:\n",
    "        return df  # e.g. \"all\"\n",
    "\n",
    "    total_samples = total_map[training_size]\n",
    "    n_years       = len(years)\n",
    "    base          = total_samples // n_years\n",
    "    remainder     = total_samples % n_years\n",
    "\n",
    "    # --- build a dict: year -> how many to sample ---\n",
    "    # give +1 to the first `remainder` years in ascending order\n",
    "    quotas = {\n",
    "        year: base + (1 if idx < remainder else 0)\n",
    "        for idx, year in enumerate(sorted(years))\n",
    "    }\n",
    "\n",
    "    # --- sample per‐year according to the quota dict ---\n",
    "    sampled = (\n",
    "        df\n",
    "        .groupby(\"year\", group_keys=False)\n",
    "        .apply(lambda grp: grp.sample(\n",
    "            n=min(len(grp), quotas[grp.name]),\n",
    "            random_state=random_state))\n",
    "        .reset_index(drop=True)\n",
    "    )\n",
    "\n",
    "    return sampled"
   ]
  },
  {
   "cell_type": "code",
   "execution_count": 15,
   "id": "c0ccd338-0e02-41f3-a09d-f56f9266e3fb",
   "metadata": {
    "execution": {
     "iopub.execute_input": "2025-07-30T21:31:34.629007Z",
     "iopub.status.busy": "2025-07-30T21:31:34.628619Z",
     "iopub.status.idle": "2025-07-30T21:31:34.633076Z",
     "shell.execute_reply": "2025-07-30T21:31:34.632204Z"
    },
    "papermill": {
     "duration": 0.018058,
     "end_time": "2025-07-30T21:31:34.634263",
     "exception": false,
     "start_time": "2025-07-30T21:31:34.616205",
     "status": "completed"
    },
    "tags": []
   },
   "outputs": [],
   "source": [
    "#universe[\"training_size\"]"
   ]
  },
  {
   "cell_type": "code",
   "execution_count": 16,
   "id": "ca707fd7-8047-4acd-bfa5-66248fbbf8e6",
   "metadata": {
    "execution": {
     "iopub.execute_input": "2025-07-30T21:31:34.675466Z",
     "iopub.status.busy": "2025-07-30T21:31:34.675105Z",
     "iopub.status.idle": "2025-07-30T21:31:34.679055Z",
     "shell.execute_reply": "2025-07-30T21:31:34.678238Z"
    },
    "papermill": {
     "duration": 0.029121,
     "end_time": "2025-07-30T21:31:34.680512",
     "exception": false,
     "start_time": "2025-07-30T21:31:34.651391",
     "status": "completed"
    },
    "tags": []
   },
   "outputs": [],
   "source": [
    "#universe[\"training_year\"]"
   ]
  },
  {
   "cell_type": "code",
   "execution_count": 17,
   "id": "aea9c6ef-6f46-42c8-85eb-5a62025c1508",
   "metadata": {
    "execution": {
     "iopub.execute_input": "2025-07-30T21:31:34.724856Z",
     "iopub.status.busy": "2025-07-30T21:31:34.724333Z",
     "iopub.status.idle": "2025-07-30T21:31:35.006168Z",
     "shell.execute_reply": "2025-07-30T21:31:35.005275Z"
    },
    "papermill": {
     "duration": 0.307162,
     "end_time": "2025-07-30T21:31:35.007582",
     "exception": false,
     "start_time": "2025-07-30T21:31:34.700420",
     "status": "completed"
    },
    "tags": []
   },
   "outputs": [],
   "source": [
    "siab_train = sample_by_year_size(siab,\n",
    "                               training_year=universe[\"training_year\"],\n",
    "                               training_size=universe[\"training_size\"])"
   ]
  },
  {
   "cell_type": "code",
   "execution_count": 18,
   "id": "8d3afb32-789d-442c-8d5d-9f5aa8dd2eed",
   "metadata": {
    "execution": {
     "iopub.execute_input": "2025-07-30T21:31:35.035833Z",
     "iopub.status.busy": "2025-07-30T21:31:35.035413Z",
     "iopub.status.idle": "2025-07-30T21:31:35.040164Z",
     "shell.execute_reply": "2025-07-30T21:31:35.039370Z"
    },
    "papermill": {
     "duration": 0.022021,
     "end_time": "2025-07-30T21:31:35.041276",
     "exception": false,
     "start_time": "2025-07-30T21:31:35.019255",
     "status": "completed"
    },
    "tags": []
   },
   "outputs": [],
   "source": [
    "#siab_train.shape"
   ]
  },
  {
   "cell_type": "code",
   "execution_count": 19,
   "id": "d582db68-1a4c-47fb-84fc-08518dc1975a",
   "metadata": {
    "execution": {
     "iopub.execute_input": "2025-07-30T21:31:35.072454Z",
     "iopub.status.busy": "2025-07-30T21:31:35.071897Z",
     "iopub.status.idle": "2025-07-30T21:31:35.135471Z",
     "shell.execute_reply": "2025-07-30T21:31:35.134491Z"
    },
    "papermill": {
     "duration": 0.08274,
     "end_time": "2025-07-30T21:31:35.137135",
     "exception": false,
     "start_time": "2025-07-30T21:31:35.054395",
     "status": "completed"
    },
    "tags": []
   },
   "outputs": [],
   "source": [
    "#display(siab_train.groupby(\"year\").size())"
   ]
  },
  {
   "cell_type": "code",
   "execution_count": 20,
   "id": "a561edb4-d032-42cb-8256-22eac1111c64",
   "metadata": {
    "execution": {
     "iopub.execute_input": "2025-07-30T21:31:35.180681Z",
     "iopub.status.busy": "2025-07-30T21:31:35.179229Z",
     "iopub.status.idle": "2025-07-30T21:31:35.470269Z",
     "shell.execute_reply": "2025-07-30T21:31:35.469163Z"
    },
    "papermill": {
     "duration": 0.316353,
     "end_time": "2025-07-30T21:31:35.472137",
     "exception": false,
     "start_time": "2025-07-30T21:31:35.155784",
     "status": "completed"
    },
    "tags": []
   },
   "outputs": [],
   "source": [
    "#siab_train = siab_s[siab_s.year < 2015]\n",
    "siab_calib = siab[siab.year == 2015]\n",
    "siab_test = siab[siab.year == 2016]"
   ]
  },
  {
   "cell_type": "code",
   "execution_count": 21,
   "id": "472de16f-c3db-4916-846b-1f0de9cf1746",
   "metadata": {
    "execution": {
     "iopub.execute_input": "2025-07-30T21:31:35.512260Z",
     "iopub.status.busy": "2025-07-30T21:31:35.511770Z",
     "iopub.status.idle": "2025-07-30T21:31:35.518923Z",
     "shell.execute_reply": "2025-07-30T21:31:35.517906Z"
    },
    "papermill": {
     "duration": 0.025156,
     "end_time": "2025-07-30T21:31:35.520612",
     "exception": false,
     "start_time": "2025-07-30T21:31:35.495456",
     "status": "completed"
    },
    "tags": []
   },
   "outputs": [],
   "source": [
    "X_train = siab_train.iloc[:,4:164]\n",
    "y_train = siab_train.iloc[:, [3]]"
   ]
  },
  {
   "cell_type": "code",
   "execution_count": 22,
   "id": "828c96af-f43a-4ed6-ba47-8ac73a47d56c",
   "metadata": {
    "execution": {
     "iopub.execute_input": "2025-07-30T21:31:35.570762Z",
     "iopub.status.busy": "2025-07-30T21:31:35.569685Z",
     "iopub.status.idle": "2025-07-30T21:31:35.637384Z",
     "shell.execute_reply": "2025-07-30T21:31:35.636105Z"
    },
    "papermill": {
     "duration": 0.094358,
     "end_time": "2025-07-30T21:31:35.638998",
     "exception": false,
     "start_time": "2025-07-30T21:31:35.544640",
     "status": "completed"
    },
    "tags": []
   },
   "outputs": [],
   "source": [
    "X_calib = siab_calib.iloc[:,4:164]\n",
    "y_calib = siab_calib.iloc[:, [3]]"
   ]
  },
  {
   "cell_type": "code",
   "execution_count": 23,
   "id": "c34be9c3-6bd6-476e-acd3-845840e303be",
   "metadata": {
    "execution": {
     "iopub.execute_input": "2025-07-30T21:31:35.665513Z",
     "iopub.status.busy": "2025-07-30T21:31:35.664951Z",
     "iopub.status.idle": "2025-07-30T21:31:35.835271Z",
     "shell.execute_reply": "2025-07-30T21:31:35.834410Z"
    },
    "papermill": {
     "duration": 0.185435,
     "end_time": "2025-07-30T21:31:35.836670",
     "exception": false,
     "start_time": "2025-07-30T21:31:35.651235",
     "status": "completed"
    },
    "tags": []
   },
   "outputs": [],
   "source": [
    "X_test = siab_test.iloc[:,4:164]\n",
    "y_true = siab_test.iloc[:, [3]]"
   ]
  },
  {
   "cell_type": "markdown",
   "id": "9901737e-04df-44f0-9100-f5ad144ed040",
   "metadata": {
    "papermill": {
     "duration": 0.030414,
     "end_time": "2025-07-30T21:31:35.879398",
     "exception": false,
     "start_time": "2025-07-30T21:31:35.848984",
     "status": "completed"
    },
    "tags": []
   },
   "source": [
    "# Splitting Data and Setting Training Data Size OLD VERSION"
   ]
  },
  {
   "cell_type": "code",
   "execution_count": 24,
   "id": "acbc8f7d-8fc8-4e86-8c59-5dcb0f58384b",
   "metadata": {
    "execution": {
     "iopub.execute_input": "2025-07-30T21:31:35.933383Z",
     "iopub.status.busy": "2025-07-30T21:31:35.932399Z",
     "iopub.status.idle": "2025-07-30T21:31:35.938290Z",
     "shell.execute_reply": "2025-07-30T21:31:35.937338Z"
    },
    "papermill": {
     "duration": 0.031827,
     "end_time": "2025-07-30T21:31:35.939902",
     "exception": false,
     "start_time": "2025-07-30T21:31:35.908075",
     "status": "completed"
    },
    "tags": []
   },
   "outputs": [],
   "source": [
    "#def sample_by_year(df, training_size, random_state=42):\n",
    "#    if training_size == \"2014\":\n",
    "#        return df[df[\"year\"] == 2014].reset_index(drop=True)\n",
    "#    \n",
    "#    size_map = {\n",
    "#        \"25k\": 5000,\n",
    "#        \"5k\": 1000,\n",
    "#        \"1k\": 200\n",
    "#    }\n",
    "#\n",
    "#    if training_size not in size_map:\n",
    "#        return df.reset_index(drop=True)  # use all data\n",
    "#\n",
    "#    n_per_year = size_map[training_size]\n",
    "#    grouped = df.groupby(\"year\")\n",
    "#    sampled = grouped.apply(lambda x: x.sample(n=min(n_per_year, len(x)), random_state=random_state))\n",
    "#    return sampled.reset_index(drop=True)"
   ]
  },
  {
   "cell_type": "code",
   "execution_count": 25,
   "id": "6d931f52-beaf-43ff-9e78-9d44a448d54e",
   "metadata": {
    "execution": {
     "iopub.execute_input": "2025-07-30T21:31:35.987391Z",
     "iopub.status.busy": "2025-07-30T21:31:35.986875Z",
     "iopub.status.idle": "2025-07-30T21:31:35.991581Z",
     "shell.execute_reply": "2025-07-30T21:31:35.990690Z"
    },
    "papermill": {
     "duration": 0.028639,
     "end_time": "2025-07-30T21:31:35.993259",
     "exception": false,
     "start_time": "2025-07-30T21:31:35.964620",
     "status": "completed"
    },
    "tags": []
   },
   "outputs": [],
   "source": [
    "#siab_s = sample_by_year(siab, universe[\"training_size\"])"
   ]
  },
  {
   "cell_type": "code",
   "execution_count": 26,
   "id": "5db0a40e-a4e2-4920-be85-b12ae061d70d",
   "metadata": {
    "execution": {
     "iopub.execute_input": "2025-07-30T21:31:36.042603Z",
     "iopub.status.busy": "2025-07-30T21:31:36.042246Z",
     "iopub.status.idle": "2025-07-30T21:31:36.046191Z",
     "shell.execute_reply": "2025-07-30T21:31:36.045519Z"
    },
    "papermill": {
     "duration": 0.030846,
     "end_time": "2025-07-30T21:31:36.048438",
     "exception": false,
     "start_time": "2025-07-30T21:31:36.017592",
     "status": "completed"
    },
    "tags": []
   },
   "outputs": [],
   "source": [
    "#display(siab_s.groupby(\"year\").size())"
   ]
  },
  {
   "cell_type": "code",
   "execution_count": 27,
   "id": "e6c733c5",
   "metadata": {
    "execution": {
     "iopub.execute_input": "2025-07-30T21:31:36.097930Z",
     "iopub.status.busy": "2025-07-30T21:31:36.097372Z",
     "iopub.status.idle": "2025-07-30T21:31:36.191796Z",
     "shell.execute_reply": "2025-07-30T21:31:36.190467Z"
    },
    "papermill": {
     "duration": 0.111273,
     "end_time": "2025-07-30T21:31:36.193493",
     "exception": false,
     "start_time": "2025-07-30T21:31:36.082220",
     "status": "completed"
    },
    "tags": []
   },
   "outputs": [],
   "source": [
    "# Auxiliary data needed downstream in the pipeline\n",
    "\n",
    "org_train = X_train.copy()\n",
    "org_test = X_test.copy()\n",
    "org_calib = X_calib.copy()"
   ]
  },
  {
   "cell_type": "code",
   "execution_count": 28,
   "id": "1466abac-c6da-4492-a62f-4240ae3783af",
   "metadata": {
    "execution": {
     "iopub.execute_input": "2025-07-30T21:31:36.228204Z",
     "iopub.status.busy": "2025-07-30T21:31:36.227695Z",
     "iopub.status.idle": "2025-07-30T21:31:36.233119Z",
     "shell.execute_reply": "2025-07-30T21:31:36.232410Z"
    },
    "papermill": {
     "duration": 0.027742,
     "end_time": "2025-07-30T21:31:36.234715",
     "exception": false,
     "start_time": "2025-07-30T21:31:36.206973",
     "status": "completed"
    },
    "tags": []
   },
   "outputs": [],
   "source": [
    "# put in other script?\n",
    "# Group sizes\n",
    "\n",
    "#def calculate_percentages(df, df_name):\n",
    "#    total_entries = len(df)\n",
    "#\n",
    "#    female_pct = (df['frau1'] == 1).mean() * 100\n",
    "#    non_german_pct = ((df['maxdeutsch1'] == 0) & (df['maxdeutsch.Missing.'] == 0)).mean() * 100\n",
    "#    non_german_male_pct = ((df['frau1'] == 0) & (df['maxdeutsch1'] == 0) & (df['maxdeutsch.Missing.'] == 0)).mean() * 100\n",
    "#    non_german_female_pct = ((df['frau1'] == 1) & (df['maxdeutsch1'] == 0) & (df['maxdeutsch.Missing.'] == 0)).mean() * 100\n",
    "#\n",
    "#    print(f\"--- {df_name} ---\")\n",
    "#    print(f\"Female: {female_pct:.2f}%\")\n",
    "#    print(f\"Non-German: {non_german_pct:.2f}%\")\n",
    "#    print(f\"Non-German Male: {non_german_male_pct:.2f}%\")\n",
    "#    print(f\"Non-German Female: {non_german_female_pct:.2f}%\\n\")\n",
    "#\n",
    "## Calculate for each DataFrame\n",
    "#calculate_percentages(siab_calib, \"siab_calib\")\n",
    "#calculate_percentages(siab_test, \"siab_test\")\n",
    "#calculate_percentages(siab_train, \"siab_train\")"
   ]
  },
  {
   "cell_type": "markdown",
   "id": "0a4a1b33",
   "metadata": {
    "papermill": {
     "duration": 0.023425,
     "end_time": "2025-07-30T21:31:36.282281",
     "exception": false,
     "start_time": "2025-07-30T21:31:36.258856",
     "status": "completed"
    },
    "tags": []
   },
   "source": [
    "# Preprocessing Data"
   ]
  },
  {
   "cell_type": "code",
   "execution_count": 29,
   "id": "ca879031",
   "metadata": {
    "execution": {
     "iopub.execute_input": "2025-07-30T21:31:36.322910Z",
     "iopub.status.busy": "2025-07-30T21:31:36.322483Z",
     "iopub.status.idle": "2025-07-30T21:31:36.327499Z",
     "shell.execute_reply": "2025-07-30T21:31:36.326778Z"
    },
    "papermill": {
     "duration": 0.031367,
     "end_time": "2025-07-30T21:31:36.329085",
     "exception": false,
     "start_time": "2025-07-30T21:31:36.297718",
     "status": "completed"
    },
    "tags": []
   },
   "outputs": [],
   "source": [
    "# EXCLUDE PROTECTED FEATURES\n",
    "# ----------------------\n",
    "# \"exclude_features\": \"none\", # \"nationality\", \"sex\", \"nationality-sex\"\n",
    "\n",
    "excluded_features = universe[\"exclude_features\"].split(\"-\") # split, e.g.: \"nationality-sex\" -> [\"nationality\", \"sex\"]\n",
    "excluded_features_dictionary = {\n",
    "    \"nationality\": [\"maxdeutsch1\", \"maxdeutsch.Missing.\"],\n",
    "    \"sex\": [\"frau1\"],\n",
    "    \"age\": [\"age\"],\n",
    "}\n"
   ]
  },
  {
   "cell_type": "code",
   "execution_count": 30,
   "id": "b745ac60",
   "metadata": {
    "execution": {
     "iopub.execute_input": "2025-07-30T21:31:36.356922Z",
     "iopub.status.busy": "2025-07-30T21:31:36.356583Z",
     "iopub.status.idle": "2025-07-30T21:31:36.468819Z",
     "shell.execute_reply": "2025-07-30T21:31:36.467970Z"
    },
    "papermill": {
     "duration": 0.128188,
     "end_time": "2025-07-30T21:31:36.470825",
     "exception": false,
     "start_time": "2025-07-30T21:31:36.342637",
     "status": "completed"
    },
    "tags": []
   },
   "outputs": [],
   "source": [
    "# Code nice names to column names\n",
    "\n",
    "excluded_features_columns = [\n",
    "    excluded_features_dictionary[f] for f in excluded_features if len(f) > 0 and f != \"none\"\n",
    "]"
   ]
  },
  {
   "cell_type": "code",
   "execution_count": 31,
   "id": "f84f73a2",
   "metadata": {
    "execution": {
     "iopub.execute_input": "2025-07-30T21:31:36.520010Z",
     "iopub.status.busy": "2025-07-30T21:31:36.519636Z",
     "iopub.status.idle": "2025-07-30T21:31:36.524405Z",
     "shell.execute_reply": "2025-07-30T21:31:36.523661Z"
    },
    "papermill": {
     "duration": 0.032233,
     "end_time": "2025-07-30T21:31:36.525752",
     "exception": false,
     "start_time": "2025-07-30T21:31:36.493519",
     "status": "completed"
    },
    "tags": []
   },
   "outputs": [],
   "source": [
    "from utils import flatten_once\n",
    "\n",
    "excluded_features_columns = flatten_once(excluded_features_columns)"
   ]
  },
  {
   "cell_type": "code",
   "execution_count": 32,
   "id": "884dea22",
   "metadata": {
    "execution": {
     "iopub.execute_input": "2025-07-30T21:31:36.565875Z",
     "iopub.status.busy": "2025-07-30T21:31:36.565535Z",
     "iopub.status.idle": "2025-07-30T21:31:36.572037Z",
     "shell.execute_reply": "2025-07-30T21:31:36.571278Z"
    },
    "papermill": {
     "duration": 0.031397,
     "end_time": "2025-07-30T21:31:36.573185",
     "exception": false,
     "start_time": "2025-07-30T21:31:36.541788",
     "status": "completed"
    },
    "tags": []
   },
   "outputs": [
    {
     "name": "stdout",
     "output_type": "stream",
     "text": [
      "Dropping features: ['maxdeutsch1', 'maxdeutsch.Missing.', 'frau1']\n"
     ]
    }
   ],
   "source": [
    "if len(excluded_features_columns) > 0:\n",
    "    print(f\"Dropping features: {excluded_features_columns}\")\n",
    "    X_train.drop(excluded_features_columns, axis=1, inplace=True)"
   ]
  },
  {
   "cell_type": "code",
   "execution_count": 33,
   "id": "95ab8b16",
   "metadata": {
    "execution": {
     "iopub.execute_input": "2025-07-30T21:31:36.611874Z",
     "iopub.status.busy": "2025-07-30T21:31:36.611519Z",
     "iopub.status.idle": "2025-07-30T21:31:36.664572Z",
     "shell.execute_reply": "2025-07-30T21:31:36.663586Z"
    },
    "papermill": {
     "duration": 0.077845,
     "end_time": "2025-07-30T21:31:36.665781",
     "exception": false,
     "start_time": "2025-07-30T21:31:36.587936",
     "status": "completed"
    },
    "tags": []
   },
   "outputs": [
    {
     "name": "stdout",
     "output_type": "stream",
     "text": [
      "Dropping features: ['maxdeutsch1', 'maxdeutsch.Missing.', 'frau1']\n"
     ]
    }
   ],
   "source": [
    "if len(excluded_features_columns) > 0:\n",
    "    print(f\"Dropping features: {excluded_features_columns}\")\n",
    "    X_test.drop(excluded_features_columns, axis=1, inplace=True)"
   ]
  },
  {
   "cell_type": "code",
   "execution_count": 34,
   "id": "1853aaf5-fb9f-46cb-a2b5-8ea4ae2237e4",
   "metadata": {
    "execution": {
     "iopub.execute_input": "2025-07-30T21:31:36.722858Z",
     "iopub.status.busy": "2025-07-30T21:31:36.722426Z",
     "iopub.status.idle": "2025-07-30T21:31:36.774443Z",
     "shell.execute_reply": "2025-07-30T21:31:36.773703Z"
    },
    "papermill": {
     "duration": 0.089883,
     "end_time": "2025-07-30T21:31:36.776171",
     "exception": false,
     "start_time": "2025-07-30T21:31:36.686288",
     "status": "completed"
    },
    "tags": []
   },
   "outputs": [
    {
     "name": "stdout",
     "output_type": "stream",
     "text": [
      "Dropping features: ['maxdeutsch1', 'maxdeutsch.Missing.', 'frau1']\n"
     ]
    }
   ],
   "source": [
    "if len(excluded_features_columns) > 0:\n",
    "    print(f\"Dropping features: {excluded_features_columns}\")\n",
    "    X_calib.drop(excluded_features_columns, axis=1, inplace=True)"
   ]
  },
  {
   "cell_type": "code",
   "execution_count": 35,
   "id": "6727d079-03e5-481e-9d38-292a90b7a0a8",
   "metadata": {
    "execution": {
     "iopub.execute_input": "2025-07-30T21:31:36.824817Z",
     "iopub.status.busy": "2025-07-30T21:31:36.824296Z",
     "iopub.status.idle": "2025-07-30T21:31:36.829297Z",
     "shell.execute_reply": "2025-07-30T21:31:36.828322Z"
    },
    "papermill": {
     "duration": 0.02956,
     "end_time": "2025-07-30T21:31:36.830943",
     "exception": false,
     "start_time": "2025-07-30T21:31:36.801383",
     "status": "completed"
    },
    "tags": []
   },
   "outputs": [],
   "source": [
    "# SPLIT & STRATIFY DATA\n",
    "# ----------------------"
   ]
  },
  {
   "cell_type": "code",
   "execution_count": 36,
   "id": "76c4dc6d",
   "metadata": {
    "execution": {
     "iopub.execute_input": "2025-07-30T21:31:36.882049Z",
     "iopub.status.busy": "2025-07-30T21:31:36.881655Z",
     "iopub.status.idle": "2025-07-30T21:31:36.885468Z",
     "shell.execute_reply": "2025-07-30T21:31:36.884746Z"
    },
    "papermill": {
     "duration": 0.030705,
     "end_time": "2025-07-30T21:31:36.886832",
     "exception": false,
     "start_time": "2025-07-30T21:31:36.856127",
     "status": "completed"
    },
    "tags": []
   },
   "outputs": [],
   "source": [
    "# EXCLUDE CERTAIN SUBGROUPS\n",
    "# ----------------------\n",
    "\n",
    "mode = universe.get(\"exclude_subgroups\", \"keep-all\") \n",
    "# Fetches the exclude_subgroups setting from the universe dict.\n",
    "# Defaults to \"keep-all\" if the key is missing."
   ]
  },
  {
   "cell_type": "code",
   "execution_count": 37,
   "id": "21994072",
   "metadata": {
    "execution": {
     "iopub.execute_input": "2025-07-30T21:31:36.913651Z",
     "iopub.status.busy": "2025-07-30T21:31:36.913129Z",
     "iopub.status.idle": "2025-07-30T21:31:36.919285Z",
     "shell.execute_reply": "2025-07-30T21:31:36.918339Z"
    },
    "papermill": {
     "duration": 0.021167,
     "end_time": "2025-07-30T21:31:36.920755",
     "exception": false,
     "start_time": "2025-07-30T21:31:36.899588",
     "status": "completed"
    },
    "tags": []
   },
   "outputs": [],
   "source": [
    "if mode == \"keep-all\":\n",
    "    keep_mask = pd.Series(True, index=org_train.index)\n",
    "\n",
    "# org_train contains the original feature columns from features_org (in Simson)\n",
    "# features_org contains unprocessed features, for me X_train at beginning ???\n",
    "# For keep-all, creates a boolean Series (keep_mask) of all True, so no rows are removed.\n",
    "\n",
    "elif mode == \"drop-non-german\":\n",
    "    keep_mask = org_train[\"maxdeutsch1\"] == 1 # ??? what about missing values?\n",
    "\n",
    "else:\n",
    "    raise ValueError(f\"Unsupported mode for exclude_subgroups: {mode}\")\n"
   ]
  },
  {
   "cell_type": "code",
   "execution_count": 38,
   "id": "71651440",
   "metadata": {
    "execution": {
     "iopub.execute_input": "2025-07-30T21:31:36.948857Z",
     "iopub.status.busy": "2025-07-30T21:31:36.948501Z",
     "iopub.status.idle": "2025-07-30T21:31:36.954435Z",
     "shell.execute_reply": "2025-07-30T21:31:36.953543Z"
    },
    "papermill": {
     "duration": 0.022585,
     "end_time": "2025-07-30T21:31:36.956022",
     "exception": false,
     "start_time": "2025-07-30T21:31:36.933437",
     "status": "completed"
    },
    "tags": []
   },
   "outputs": [
    {
     "name": "stdout",
     "output_type": "stream",
     "text": [
      "Dropping 147 rows (14.70%) where mode='drop-non-german'\n"
     ]
    }
   ],
   "source": [
    "n_drop = (~keep_mask).sum() # Calculates how many rows are set to be dropped\n",
    "if n_drop > 0:\n",
    "    pct = n_drop / len(keep_mask) * 100\n",
    "    print(f\"Dropping {n_drop} rows ({pct:.2f}%) where mode='{mode}'\")"
   ]
  },
  {
   "cell_type": "code",
   "execution_count": 39,
   "id": "5fb8eee5",
   "metadata": {
    "execution": {
     "iopub.execute_input": "2025-07-30T21:31:37.007761Z",
     "iopub.status.busy": "2025-07-30T21:31:37.007396Z",
     "iopub.status.idle": "2025-07-30T21:31:37.012335Z",
     "shell.execute_reply": "2025-07-30T21:31:37.011454Z"
    },
    "papermill": {
     "duration": 0.032527,
     "end_time": "2025-07-30T21:31:37.013978",
     "exception": false,
     "start_time": "2025-07-30T21:31:36.981451",
     "status": "completed"
    },
    "tags": []
   },
   "outputs": [],
   "source": [
    "X_train = X_train[keep_mask]"
   ]
  },
  {
   "cell_type": "code",
   "execution_count": 40,
   "id": "b202bb3a",
   "metadata": {
    "execution": {
     "iopub.execute_input": "2025-07-30T21:31:37.065124Z",
     "iopub.status.busy": "2025-07-30T21:31:37.064882Z",
     "iopub.status.idle": "2025-07-30T21:31:37.069007Z",
     "shell.execute_reply": "2025-07-30T21:31:37.068120Z"
    },
    "papermill": {
     "duration": 0.030201,
     "end_time": "2025-07-30T21:31:37.070072",
     "exception": false,
     "start_time": "2025-07-30T21:31:37.039871",
     "status": "completed"
    },
    "tags": []
   },
   "outputs": [],
   "source": [
    "y_train = y_train[keep_mask]"
   ]
  },
  {
   "cell_type": "markdown",
   "id": "493e2ac3",
   "metadata": {
    "papermill": {
     "duration": 0.012206,
     "end_time": "2025-07-30T21:31:37.098039",
     "exception": false,
     "start_time": "2025-07-30T21:31:37.085833",
     "status": "completed"
    },
    "tags": []
   },
   "source": [
    "# Model Training"
   ]
  },
  {
   "cell_type": "code",
   "execution_count": 41,
   "id": "679e1268",
   "metadata": {
    "execution": {
     "iopub.execute_input": "2025-07-30T21:31:37.121294Z",
     "iopub.status.busy": "2025-07-30T21:31:37.121052Z",
     "iopub.status.idle": "2025-07-30T21:31:37.200250Z",
     "shell.execute_reply": "2025-07-30T21:31:37.199436Z"
    },
    "papermill": {
     "duration": 0.092662,
     "end_time": "2025-07-30T21:31:37.202008",
     "exception": false,
     "start_time": "2025-07-30T21:31:37.109346",
     "status": "completed"
    },
    "tags": []
   },
   "outputs": [],
   "source": [
    "from sklearn.linear_model import LogisticRegression\n",
    "from sklearn.ensemble import GradientBoostingClassifier, RandomForestClassifier\n",
    "\n",
    "if (universe[\"model\"] == \"logreg\"):\n",
    "    model = LogisticRegression() #penalty=\"none\") #, solver=\"newton-cg\", max_iter=1) # include random_state=19 ?\n",
    "elif (universe[\"model\"] == \"penalized_logreg\"):\n",
    "    model = LogisticRegression(penalty=\"l2\", C=1.0) #, solver=\"newton-cg\", max_iter=1)\n",
    "elif (universe[\"model\"] == \"rf\"):\n",
    "    model = RandomForestClassifier(n_estimators=100, n_jobs=-1)\n",
    "elif (universe[\"model\"] == \"gbm\"):\n",
    "    model = GradientBoostingClassifier()\n",
    "elif (universe[\"model\"] == \"elasticnet\"):\n",
    "    model = LogisticRegression(penalty = 'elasticnet', solver = 'saga', l1_ratio = 0.5, max_iter=5000) # which solver to use?\n",
    "else:\n",
    "    raise \"Unsupported universe.model\""
   ]
  },
  {
   "cell_type": "code",
   "execution_count": 42,
   "id": "0cc8f744",
   "metadata": {
    "execution": {
     "iopub.execute_input": "2025-07-30T21:31:37.233417Z",
     "iopub.status.busy": "2025-07-30T21:31:37.232723Z",
     "iopub.status.idle": "2025-07-30T21:31:37.238619Z",
     "shell.execute_reply": "2025-07-30T21:31:37.237739Z"
    },
    "papermill": {
     "duration": 0.019744,
     "end_time": "2025-07-30T21:31:37.240227",
     "exception": false,
     "start_time": "2025-07-30T21:31:37.220483",
     "status": "completed"
    },
    "tags": []
   },
   "outputs": [],
   "source": [
    "import numpy as np\n",
    "from sklearn.pipeline import Pipeline\n",
    "from sklearn.preprocessing import StandardScaler\n",
    "\n",
    "model = Pipeline([\n",
    "    #(\"continuous_processor\", continuous_processor),\n",
    "    #(\"categorical_preprocessor\", categorical_preprocessor),\n",
    "    (\"scale\", StandardScaler() if universe[\"scale\"] == \"scale\" else None), \n",
    "    (\"model\", model),\n",
    "])"
   ]
  },
  {
   "cell_type": "code",
   "execution_count": 43,
   "id": "9442c04d",
   "metadata": {
    "execution": {
     "iopub.execute_input": "2025-07-30T21:31:37.287564Z",
     "iopub.status.busy": "2025-07-30T21:31:37.287319Z",
     "iopub.status.idle": "2025-07-30T21:31:38.190809Z",
     "shell.execute_reply": "2025-07-30T21:31:38.189893Z"
    },
    "papermill": {
     "duration": 0.928915,
     "end_time": "2025-07-30T21:31:38.192650",
     "exception": false,
     "start_time": "2025-07-30T21:31:37.263735",
     "status": "completed"
    },
    "tags": []
   },
   "outputs": [
    {
     "data": {
      "text/html": [
       "<style>#sk-container-id-1 {color: black;background-color: white;}#sk-container-id-1 pre{padding: 0;}#sk-container-id-1 div.sk-toggleable {background-color: white;}#sk-container-id-1 label.sk-toggleable__label {cursor: pointer;display: block;width: 100%;margin-bottom: 0;padding: 0.3em;box-sizing: border-box;text-align: center;}#sk-container-id-1 label.sk-toggleable__label-arrow:before {content: \"▸\";float: left;margin-right: 0.25em;color: #696969;}#sk-container-id-1 label.sk-toggleable__label-arrow:hover:before {color: black;}#sk-container-id-1 div.sk-estimator:hover label.sk-toggleable__label-arrow:before {color: black;}#sk-container-id-1 div.sk-toggleable__content {max-height: 0;max-width: 0;overflow: hidden;text-align: left;background-color: #f0f8ff;}#sk-container-id-1 div.sk-toggleable__content pre {margin: 0.2em;color: black;border-radius: 0.25em;background-color: #f0f8ff;}#sk-container-id-1 input.sk-toggleable__control:checked~div.sk-toggleable__content {max-height: 200px;max-width: 100%;overflow: auto;}#sk-container-id-1 input.sk-toggleable__control:checked~label.sk-toggleable__label-arrow:before {content: \"▾\";}#sk-container-id-1 div.sk-estimator input.sk-toggleable__control:checked~label.sk-toggleable__label {background-color: #d4ebff;}#sk-container-id-1 div.sk-label input.sk-toggleable__control:checked~label.sk-toggleable__label {background-color: #d4ebff;}#sk-container-id-1 input.sk-hidden--visually {border: 0;clip: rect(1px 1px 1px 1px);clip: rect(1px, 1px, 1px, 1px);height: 1px;margin: -1px;overflow: hidden;padding: 0;position: absolute;width: 1px;}#sk-container-id-1 div.sk-estimator {font-family: monospace;background-color: #f0f8ff;border: 1px dotted black;border-radius: 0.25em;box-sizing: border-box;margin-bottom: 0.5em;}#sk-container-id-1 div.sk-estimator:hover {background-color: #d4ebff;}#sk-container-id-1 div.sk-parallel-item::after {content: \"\";width: 100%;border-bottom: 1px solid gray;flex-grow: 1;}#sk-container-id-1 div.sk-label:hover label.sk-toggleable__label {background-color: #d4ebff;}#sk-container-id-1 div.sk-serial::before {content: \"\";position: absolute;border-left: 1px solid gray;box-sizing: border-box;top: 0;bottom: 0;left: 50%;z-index: 0;}#sk-container-id-1 div.sk-serial {display: flex;flex-direction: column;align-items: center;background-color: white;padding-right: 0.2em;padding-left: 0.2em;position: relative;}#sk-container-id-1 div.sk-item {position: relative;z-index: 1;}#sk-container-id-1 div.sk-parallel {display: flex;align-items: stretch;justify-content: center;background-color: white;position: relative;}#sk-container-id-1 div.sk-item::before, #sk-container-id-1 div.sk-parallel-item::before {content: \"\";position: absolute;border-left: 1px solid gray;box-sizing: border-box;top: 0;bottom: 0;left: 50%;z-index: -1;}#sk-container-id-1 div.sk-parallel-item {display: flex;flex-direction: column;z-index: 1;position: relative;background-color: white;}#sk-container-id-1 div.sk-parallel-item:first-child::after {align-self: flex-end;width: 50%;}#sk-container-id-1 div.sk-parallel-item:last-child::after {align-self: flex-start;width: 50%;}#sk-container-id-1 div.sk-parallel-item:only-child::after {width: 0;}#sk-container-id-1 div.sk-dashed-wrapped {border: 1px dashed gray;margin: 0 0.4em 0.5em 0.4em;box-sizing: border-box;padding-bottom: 0.4em;background-color: white;}#sk-container-id-1 div.sk-label label {font-family: monospace;font-weight: bold;display: inline-block;line-height: 1.2em;}#sk-container-id-1 div.sk-label-container {text-align: center;}#sk-container-id-1 div.sk-container {/* jupyter's `normalize.less` sets `[hidden] { display: none; }` but bootstrap.min.css set `[hidden] { display: none !important; }` so we also need the `!important` here to be able to override the default hidden behavior on the sphinx rendered scikit-learn.org. See: https://github.com/scikit-learn/scikit-learn/issues/21755 */display: inline-block !important;position: relative;}#sk-container-id-1 div.sk-text-repr-fallback {display: none;}</style><div id=\"sk-container-id-1\" class=\"sk-top-container\"><div class=\"sk-text-repr-fallback\"><pre>Pipeline(steps=[(&#x27;scale&#x27;, None), (&#x27;model&#x27;, GradientBoostingClassifier())])</pre><b>In a Jupyter environment, please rerun this cell to show the HTML representation or trust the notebook. <br />On GitHub, the HTML representation is unable to render, please try loading this page with nbviewer.org.</b></div><div class=\"sk-container\" hidden><div class=\"sk-item sk-dashed-wrapped\"><div class=\"sk-label-container\"><div class=\"sk-label sk-toggleable\"><input class=\"sk-toggleable__control sk-hidden--visually\" id=\"sk-estimator-id-1\" type=\"checkbox\" ><label for=\"sk-estimator-id-1\" class=\"sk-toggleable__label sk-toggleable__label-arrow\">Pipeline</label><div class=\"sk-toggleable__content\"><pre>Pipeline(steps=[(&#x27;scale&#x27;, None), (&#x27;model&#x27;, GradientBoostingClassifier())])</pre></div></div></div><div class=\"sk-serial\"><div class=\"sk-item\"><div class=\"sk-estimator sk-toggleable\"><input class=\"sk-toggleable__control sk-hidden--visually\" id=\"sk-estimator-id-2\" type=\"checkbox\" ><label for=\"sk-estimator-id-2\" class=\"sk-toggleable__label sk-toggleable__label-arrow\">None</label><div class=\"sk-toggleable__content\"><pre>None</pre></div></div></div><div class=\"sk-item\"><div class=\"sk-estimator sk-toggleable\"><input class=\"sk-toggleable__control sk-hidden--visually\" id=\"sk-estimator-id-3\" type=\"checkbox\" ><label for=\"sk-estimator-id-3\" class=\"sk-toggleable__label sk-toggleable__label-arrow\">GradientBoostingClassifier</label><div class=\"sk-toggleable__content\"><pre>GradientBoostingClassifier()</pre></div></div></div></div></div></div></div>"
      ],
      "text/plain": [
       "Pipeline(steps=[('scale', None), ('model', GradientBoostingClassifier())])"
      ]
     },
     "execution_count": 43,
     "metadata": {},
     "output_type": "execute_result"
    }
   ],
   "source": [
    "model.fit(X_train, y_train.values.ravel())"
   ]
  },
  {
   "cell_type": "code",
   "execution_count": 44,
   "id": "af59f8c0",
   "metadata": {
    "execution": {
     "iopub.execute_input": "2025-07-30T21:31:38.221664Z",
     "iopub.status.busy": "2025-07-30T21:31:38.221383Z",
     "iopub.status.idle": "2025-07-30T21:31:38.225364Z",
     "shell.execute_reply": "2025-07-30T21:31:38.224660Z"
    },
    "papermill": {
     "duration": 0.018246,
     "end_time": "2025-07-30T21:31:38.226831",
     "exception": false,
     "start_time": "2025-07-30T21:31:38.208585",
     "status": "completed"
    },
    "tags": []
   },
   "outputs": [],
   "source": [
    "from fairness_multiverse.universe import predict_w_threshold"
   ]
  },
  {
   "cell_type": "code",
   "execution_count": 45,
   "id": "a7cf2e16",
   "metadata": {
    "execution": {
     "iopub.execute_input": "2025-07-30T21:31:38.264790Z",
     "iopub.status.busy": "2025-07-30T21:31:38.264317Z",
     "iopub.status.idle": "2025-07-30T21:31:38.957502Z",
     "shell.execute_reply": "2025-07-30T21:31:38.956687Z"
    },
    "papermill": {
     "duration": 0.713897,
     "end_time": "2025-07-30T21:31:38.959009",
     "exception": false,
     "start_time": "2025-07-30T21:31:38.245112",
     "status": "completed"
    },
    "tags": []
   },
   "outputs": [
    {
     "data": {
      "text/plain": [
       "0.8476089622115707"
      ]
     },
     "execution_count": 45,
     "metadata": {},
     "output_type": "execute_result"
    }
   ],
   "source": [
    "probs_test = model.predict_proba(X_test)\n",
    "\n",
    "'''\n",
    "Below code returns a boolean array (or binary 0/1 array depending on how it’s used) where each element \n",
    "is True if the probability of class 1 is greater than or equal to the threshold, and False otherwise.\n",
    "'''\n",
    "y_pred_default = predict_w_threshold(probs_test, 0.5)\n",
    "\n",
    "from sklearn.metrics import accuracy_score\n",
    "\n",
    "# Naive prediction\n",
    "accuracy_score(y_true = y_true, y_pred = y_pred_default)"
   ]
  },
  {
   "cell_type": "code",
   "execution_count": 46,
   "id": "081964c3",
   "metadata": {
    "execution": {
     "iopub.execute_input": "2025-07-30T21:31:39.007596Z",
     "iopub.status.busy": "2025-07-30T21:31:39.007132Z",
     "iopub.status.idle": "2025-07-30T21:31:39.711522Z",
     "shell.execute_reply": "2025-07-30T21:31:39.710658Z"
    },
    "papermill": {
     "duration": 0.730841,
     "end_time": "2025-07-30T21:31:39.713312",
     "exception": false,
     "start_time": "2025-07-30T21:31:38.982471",
     "status": "completed"
    },
    "tags": []
   },
   "outputs": [
    {
     "data": {
      "text/plain": [
       "array([0, 0, 0, ..., 0, 0, 0])"
      ]
     },
     "execution_count": 46,
     "metadata": {},
     "output_type": "execute_result"
    }
   ],
   "source": [
    "model.predict(X_test)"
   ]
  },
  {
   "cell_type": "markdown",
   "id": "56c9705b",
   "metadata": {
    "papermill": {
     "duration": 0.012033,
     "end_time": "2025-07-30T21:31:39.806482",
     "exception": false,
     "start_time": "2025-07-30T21:31:39.794449",
     "status": "completed"
    },
    "tags": []
   },
   "source": [
    "# Conformal Prediction"
   ]
  },
  {
   "cell_type": "code",
   "execution_count": 47,
   "id": "160ec6ff",
   "metadata": {
    "execution": {
     "iopub.execute_input": "2025-07-30T21:31:39.832296Z",
     "iopub.status.busy": "2025-07-30T21:31:39.831886Z",
     "iopub.status.idle": "2025-07-30T21:31:39.837242Z",
     "shell.execute_reply": "2025-07-30T21:31:39.836377Z"
    },
    "papermill": {
     "duration": 0.019862,
     "end_time": "2025-07-30T21:31:39.838767",
     "exception": false,
     "start_time": "2025-07-30T21:31:39.818905",
     "status": "completed"
    },
    "tags": []
   },
   "outputs": [],
   "source": [
    "# Miscoverage level for conformal prediction (10% allowed error rate => 90% target coverage)\n",
    "alpha = 0.1"
   ]
  },
  {
   "cell_type": "code",
   "execution_count": 48,
   "id": "eadf4555-3dd3-440e-8e35-f82a4ad9f855",
   "metadata": {
    "execution": {
     "iopub.execute_input": "2025-07-30T21:31:39.892098Z",
     "iopub.status.busy": "2025-07-30T21:31:39.891230Z",
     "iopub.status.idle": "2025-07-30T21:31:40.607778Z",
     "shell.execute_reply": "2025-07-30T21:31:40.606674Z"
    },
    "papermill": {
     "duration": 0.745348,
     "end_time": "2025-07-30T21:31:40.609560",
     "exception": false,
     "start_time": "2025-07-30T21:31:39.864212",
     "status": "completed"
    },
    "tags": []
   },
   "outputs": [],
   "source": [
    "probs_calib = model.predict_proba(X_calib)"
   ]
  },
  {
   "cell_type": "code",
   "execution_count": 49,
   "id": "2ed93547-6d5d-4983-9b36-1ecb300da49a",
   "metadata": {
    "execution": {
     "iopub.execute_input": "2025-07-30T21:31:40.658667Z",
     "iopub.status.busy": "2025-07-30T21:31:40.658267Z",
     "iopub.status.idle": "2025-07-30T21:31:40.663442Z",
     "shell.execute_reply": "2025-07-30T21:31:40.662511Z"
    },
    "papermill": {
     "duration": 0.029725,
     "end_time": "2025-07-30T21:31:40.665005",
     "exception": false,
     "start_time": "2025-07-30T21:31:40.635280",
     "status": "completed"
    },
    "tags": []
   },
   "outputs": [],
   "source": [
    "y_calib = y_calib.values.ravel().astype(int)"
   ]
  },
  {
   "cell_type": "code",
   "execution_count": 50,
   "id": "65d1320d-f588-4b38-9072-62af1ae97f7d",
   "metadata": {
    "execution": {
     "iopub.execute_input": "2025-07-30T21:31:40.711842Z",
     "iopub.status.busy": "2025-07-30T21:31:40.711478Z",
     "iopub.status.idle": "2025-07-30T21:31:40.718348Z",
     "shell.execute_reply": "2025-07-30T21:31:40.717314Z"
    },
    "papermill": {
     "duration": 0.032227,
     "end_time": "2025-07-30T21:31:40.719936",
     "exception": false,
     "start_time": "2025-07-30T21:31:40.687709",
     "status": "completed"
    },
    "tags": []
   },
   "outputs": [],
   "source": [
    "from fairness_multiverse.conformal import compute_nc_scores\n",
    "\n",
    "# Compute nonconformity scores on calibration set (1 - probability of true class)\n",
    "nc_scores = compute_nc_scores(probs_calib, y_calib)"
   ]
  },
  {
   "cell_type": "code",
   "execution_count": 51,
   "id": "df3b8ca3-53b7-43d5-9667-7c85da7aeda2",
   "metadata": {
    "execution": {
     "iopub.execute_input": "2025-07-30T21:31:40.766787Z",
     "iopub.status.busy": "2025-07-30T21:31:40.766196Z",
     "iopub.status.idle": "2025-07-30T21:31:40.772167Z",
     "shell.execute_reply": "2025-07-30T21:31:40.771255Z"
    },
    "papermill": {
     "duration": 0.030405,
     "end_time": "2025-07-30T21:31:40.773772",
     "exception": false,
     "start_time": "2025-07-30T21:31:40.743367",
     "status": "completed"
    },
    "tags": []
   },
   "outputs": [],
   "source": [
    "from fairness_multiverse.conformal import find_threshold\n",
    "\n",
    "# Find conformal threshold q_hat for the given alpha (split conformal method)\n",
    "q_hat = find_threshold(nc_scores, alpha)"
   ]
  },
  {
   "cell_type": "code",
   "execution_count": 52,
   "id": "4d29e6c1-0ef6-4aa4-b8fe-4fe79b0d033a",
   "metadata": {
    "execution": {
     "iopub.execute_input": "2025-07-30T21:31:40.820871Z",
     "iopub.status.busy": "2025-07-30T21:31:40.820284Z",
     "iopub.status.idle": "2025-07-30T21:31:40.826524Z",
     "shell.execute_reply": "2025-07-30T21:31:40.825697Z"
    },
    "papermill": {
     "duration": 0.030623,
     "end_time": "2025-07-30T21:31:40.828025",
     "exception": false,
     "start_time": "2025-07-30T21:31:40.797402",
     "status": "completed"
    },
    "tags": []
   },
   "outputs": [
    {
     "data": {
      "text/plain": [
       "0.7590497701371088"
      ]
     },
     "execution_count": 52,
     "metadata": {},
     "output_type": "execute_result"
    }
   ],
   "source": [
    "q_hat"
   ]
  },
  {
   "cell_type": "code",
   "execution_count": 53,
   "id": "92460794-cdac-4be2-ba28-f28c0515a6fb",
   "metadata": {
    "execution": {
     "iopub.execute_input": "2025-07-30T21:31:40.877559Z",
     "iopub.status.busy": "2025-07-30T21:31:40.877093Z",
     "iopub.status.idle": "2025-07-30T21:31:42.392446Z",
     "shell.execute_reply": "2025-07-30T21:31:42.391385Z"
    },
    "papermill": {
     "duration": 1.542733,
     "end_time": "2025-07-30T21:31:42.394212",
     "exception": false,
     "start_time": "2025-07-30T21:31:40.851479",
     "status": "completed"
    },
    "tags": []
   },
   "outputs": [],
   "source": [
    "from fairness_multiverse.conformal import predict_conformal_sets\n",
    "\n",
    "# Generate prediction sets for each test example\n",
    "pred_sets = predict_conformal_sets(model, X_test, q_hat)"
   ]
  },
  {
   "cell_type": "code",
   "execution_count": 54,
   "id": "d90c9a65-e6db-4f5d-80cd-e68fb7e46829",
   "metadata": {
    "execution": {
     "iopub.execute_input": "2025-07-30T21:31:42.442534Z",
     "iopub.status.busy": "2025-07-30T21:31:42.442026Z",
     "iopub.status.idle": "2025-07-30T21:31:42.447001Z",
     "shell.execute_reply": "2025-07-30T21:31:42.446167Z"
    },
    "papermill": {
     "duration": 0.030607,
     "end_time": "2025-07-30T21:31:42.448513",
     "exception": false,
     "start_time": "2025-07-30T21:31:42.417906",
     "status": "completed"
    },
    "tags": []
   },
   "outputs": [],
   "source": [
    "y_true = y_true.squeeze()"
   ]
  },
  {
   "cell_type": "code",
   "execution_count": 55,
   "id": "3a58a54a-1e68-46b9-927a-df01f18aebc8",
   "metadata": {
    "execution": {
     "iopub.execute_input": "2025-07-30T21:31:42.495909Z",
     "iopub.status.busy": "2025-07-30T21:31:42.495304Z",
     "iopub.status.idle": "2025-07-30T21:31:43.314619Z",
     "shell.execute_reply": "2025-07-30T21:31:43.313860Z"
    },
    "papermill": {
     "duration": 0.844262,
     "end_time": "2025-07-30T21:31:43.316347",
     "exception": false,
     "start_time": "2025-07-30T21:31:42.472085",
     "status": "completed"
    },
    "tags": []
   },
   "outputs": [],
   "source": [
    "from fairness_multiverse.conformal import evaluate_sets\n",
    "\n",
    "# Evaluate coverage and average set size on test data\n",
    "metrics = evaluate_sets(pred_sets, y_true)"
   ]
  },
  {
   "cell_type": "markdown",
   "id": "2b569c12-9aaa-4c88-98c9-bbcd0cf3ebb8",
   "metadata": {
    "papermill": {
     "duration": 0.012653,
     "end_time": "2025-07-30T21:31:43.361301",
     "exception": false,
     "start_time": "2025-07-30T21:31:43.348648",
     "status": "completed"
    },
    "tags": []
   },
   "source": [
    "# CP Metrics"
   ]
  },
  {
   "cell_type": "code",
   "execution_count": 56,
   "id": "5ce0a5cb-201f-45a0-ade5-94c7f0bd6095",
   "metadata": {
    "execution": {
     "iopub.execute_input": "2025-07-30T21:31:43.388283Z",
     "iopub.status.busy": "2025-07-30T21:31:43.387960Z",
     "iopub.status.idle": "2025-07-30T21:31:43.394308Z",
     "shell.execute_reply": "2025-07-30T21:31:43.393524Z"
    },
    "papermill": {
     "duration": 0.02125,
     "end_time": "2025-07-30T21:31:43.395739",
     "exception": false,
     "start_time": "2025-07-30T21:31:43.374489",
     "status": "completed"
    },
    "tags": []
   },
   "outputs": [
    {
     "data": {
      "text/plain": [
       "{'coverage': 0.9090959759224166, 'avg_size': 1.159246460818192}"
      ]
     },
     "execution_count": 56,
     "metadata": {},
     "output_type": "execute_result"
    }
   ],
   "source": [
    "metrics"
   ]
  },
  {
   "cell_type": "code",
   "execution_count": 57,
   "id": "9b9a838d-31c9-430b-ae14-12baee460d17",
   "metadata": {
    "execution": {
     "iopub.execute_input": "2025-07-30T21:31:43.426613Z",
     "iopub.status.busy": "2025-07-30T21:31:43.426244Z",
     "iopub.status.idle": "2025-07-30T21:31:43.430640Z",
     "shell.execute_reply": "2025-07-30T21:31:43.429895Z"
    },
    "papermill": {
     "duration": 0.019122,
     "end_time": "2025-07-30T21:31:43.432120",
     "exception": false,
     "start_time": "2025-07-30T21:31:43.412998",
     "status": "completed"
    },
    "tags": []
   },
   "outputs": [],
   "source": [
    "example_universe = universe.copy()\n",
    "universe_training_year = example_universe.get(\"training_year\")\n",
    "universe_training_size = example_universe.get(\"training_size\")\n",
    "universe_scale = example_universe.get(\"scale\")\n",
    "universe_model = example_universe.get(\"model\")\n",
    "universe_exclude_features = example_universe.get(\"exclude_features\")\n",
    "universe_exclude_subgroups = example_universe.get(\"exclude_subgroups\")"
   ]
  },
  {
   "cell_type": "code",
   "execution_count": 58,
   "id": "f4b6a8ac-9dc0-4245-8a91-5b3b5999c4f9",
   "metadata": {
    "execution": {
     "iopub.execute_input": "2025-07-30T21:31:43.463411Z",
     "iopub.status.busy": "2025-07-30T21:31:43.462918Z",
     "iopub.status.idle": "2025-07-30T21:31:43.467777Z",
     "shell.execute_reply": "2025-07-30T21:31:43.466947Z"
    },
    "papermill": {
     "duration": 0.02392,
     "end_time": "2025-07-30T21:31:43.469331",
     "exception": false,
     "start_time": "2025-07-30T21:31:43.445411",
     "status": "completed"
    },
    "tags": []
   },
   "outputs": [],
   "source": [
    "cp_metrics_dict = {\n",
    "    \"universe_id\": [universe_id],\n",
    "    \"universe_training_year\": [universe_training_year],\n",
    "    \"universe_training_size\": [universe_training_size],\n",
    "    \"universe_scale\": [universe_scale],\n",
    "    \"universe_model\": [universe_model],\n",
    "    \"universe_exclude_features\": [universe_exclude_features],\n",
    "    \"universe_exclude_subgroups\": [universe_exclude_subgroups],\n",
    "    \"q_hat\": [q_hat],\n",
    "    \"coverage\": [metrics[\"coverage\"]],\n",
    "    \"avg_size\": [metrics[\"avg_size\"]],\n",
    "}"
   ]
  },
  {
   "cell_type": "code",
   "execution_count": 59,
   "id": "908acbb1-0371-4915-85ca-3fa520d2efe2",
   "metadata": {
    "execution": {
     "iopub.execute_input": "2025-07-30T21:31:43.519757Z",
     "iopub.status.busy": "2025-07-30T21:31:43.518938Z",
     "iopub.status.idle": "2025-07-30T21:31:43.526032Z",
     "shell.execute_reply": "2025-07-30T21:31:43.525113Z"
    },
    "papermill": {
     "duration": 0.03434,
     "end_time": "2025-07-30T21:31:43.527807",
     "exception": false,
     "start_time": "2025-07-30T21:31:43.493467",
     "status": "completed"
    },
    "tags": []
   },
   "outputs": [
    {
     "data": {
      "text/plain": [
       "{'universe_id': ['823b617c000cf636f6bf1bed0ad41bcf'],\n",
       " 'universe_training_year': ['2014'],\n",
       " 'universe_training_size': ['1k'],\n",
       " 'universe_scale': ['do-not-scale'],\n",
       " 'universe_model': ['gbm'],\n",
       " 'universe_exclude_features': ['nationality-sex'],\n",
       " 'universe_exclude_subgroups': ['drop-non-german'],\n",
       " 'q_hat': [0.7590497701371088],\n",
       " 'coverage': [0.9090959759224166],\n",
       " 'avg_size': [1.159246460818192]}"
      ]
     },
     "execution_count": 59,
     "metadata": {},
     "output_type": "execute_result"
    }
   ],
   "source": [
    "cp_metrics_dict"
   ]
  },
  {
   "cell_type": "code",
   "execution_count": 60,
   "id": "33007efc-14e9-4ec6-97ac-56a455c82265",
   "metadata": {
    "execution": {
     "iopub.execute_input": "2025-07-30T21:31:43.579093Z",
     "iopub.status.busy": "2025-07-30T21:31:43.578540Z",
     "iopub.status.idle": "2025-07-30T21:31:43.584620Z",
     "shell.execute_reply": "2025-07-30T21:31:43.583658Z"
    },
    "papermill": {
     "duration": 0.032464,
     "end_time": "2025-07-30T21:31:43.586468",
     "exception": false,
     "start_time": "2025-07-30T21:31:43.554004",
     "status": "completed"
    },
    "tags": []
   },
   "outputs": [],
   "source": [
    "cp_metrics_df = pd.DataFrame(cp_metrics_dict)"
   ]
  },
  {
   "cell_type": "code",
   "execution_count": 61,
   "id": "db12611b-57b2-4910-b9d0-355adfd6e7bf",
   "metadata": {
    "execution": {
     "iopub.execute_input": "2025-07-30T21:31:43.635421Z",
     "iopub.status.busy": "2025-07-30T21:31:43.634683Z",
     "iopub.status.idle": "2025-07-30T21:31:43.653197Z",
     "shell.execute_reply": "2025-07-30T21:31:43.652242Z"
    },
    "papermill": {
     "duration": 0.044735,
     "end_time": "2025-07-30T21:31:43.655029",
     "exception": false,
     "start_time": "2025-07-30T21:31:43.610294",
     "status": "completed"
    },
    "tags": []
   },
   "outputs": [
    {
     "data": {
      "text/html": [
       "<div>\n",
       "<style scoped>\n",
       "    .dataframe tbody tr th:only-of-type {\n",
       "        vertical-align: middle;\n",
       "    }\n",
       "\n",
       "    .dataframe tbody tr th {\n",
       "        vertical-align: top;\n",
       "    }\n",
       "\n",
       "    .dataframe thead th {\n",
       "        text-align: right;\n",
       "    }\n",
       "</style>\n",
       "<table border=\"1\" class=\"dataframe\">\n",
       "  <thead>\n",
       "    <tr style=\"text-align: right;\">\n",
       "      <th></th>\n",
       "      <th>universe_id</th>\n",
       "      <th>universe_training_year</th>\n",
       "      <th>universe_training_size</th>\n",
       "      <th>universe_scale</th>\n",
       "      <th>universe_model</th>\n",
       "      <th>universe_exclude_features</th>\n",
       "      <th>universe_exclude_subgroups</th>\n",
       "      <th>q_hat</th>\n",
       "      <th>coverage</th>\n",
       "      <th>avg_size</th>\n",
       "    </tr>\n",
       "  </thead>\n",
       "  <tbody>\n",
       "    <tr>\n",
       "      <th>0</th>\n",
       "      <td>823b617c000cf636f6bf1bed0ad41bcf</td>\n",
       "      <td>2014</td>\n",
       "      <td>1k</td>\n",
       "      <td>do-not-scale</td>\n",
       "      <td>gbm</td>\n",
       "      <td>nationality-sex</td>\n",
       "      <td>drop-non-german</td>\n",
       "      <td>0.75905</td>\n",
       "      <td>0.909096</td>\n",
       "      <td>1.159246</td>\n",
       "    </tr>\n",
       "  </tbody>\n",
       "</table>\n",
       "</div>"
      ],
      "text/plain": [
       "                        universe_id universe_training_year  \\\n",
       "0  823b617c000cf636f6bf1bed0ad41bcf                   2014   \n",
       "\n",
       "  universe_training_size universe_scale universe_model  \\\n",
       "0                     1k   do-not-scale            gbm   \n",
       "\n",
       "  universe_exclude_features universe_exclude_subgroups    q_hat  coverage  \\\n",
       "0           nationality-sex            drop-non-german  0.75905  0.909096   \n",
       "\n",
       "   avg_size  \n",
       "0  1.159246  "
      ]
     },
     "execution_count": 61,
     "metadata": {},
     "output_type": "execute_result"
    }
   ],
   "source": [
    "cp_metrics_df"
   ]
  },
  {
   "cell_type": "code",
   "execution_count": 62,
   "id": "b7fbde55-a0a1-47e4-9af6-fe4a17fa8c61",
   "metadata": {
    "execution": {
     "iopub.execute_input": "2025-07-30T21:31:43.706131Z",
     "iopub.status.busy": "2025-07-30T21:31:43.705647Z",
     "iopub.status.idle": "2025-07-30T21:31:43.710984Z",
     "shell.execute_reply": "2025-07-30T21:31:43.710103Z"
    },
    "papermill": {
     "duration": 0.033005,
     "end_time": "2025-07-30T21:31:43.713060",
     "exception": false,
     "start_time": "2025-07-30T21:31:43.680055",
     "status": "completed"
    },
    "tags": []
   },
   "outputs": [],
   "source": [
    "# Conditional Coverage & looking at subgroups"
   ]
  },
  {
   "cell_type": "code",
   "execution_count": 63,
   "id": "027ae886-68dd-4141-96c7-805a5450e1ef",
   "metadata": {
    "execution": {
     "iopub.execute_input": "2025-07-30T21:31:43.768910Z",
     "iopub.status.busy": "2025-07-30T21:31:43.768444Z",
     "iopub.status.idle": "2025-07-30T21:31:44.015342Z",
     "shell.execute_reply": "2025-07-30T21:31:44.014389Z"
    },
    "papermill": {
     "duration": 0.278256,
     "end_time": "2025-07-30T21:31:44.016871",
     "exception": false,
     "start_time": "2025-07-30T21:31:43.738615",
     "status": "completed"
    },
    "tags": []
   },
   "outputs": [],
   "source": [
    "from fairness_multiverse.conformal import build_cp_groups\n",
    "\n",
    "cp_groups_df = build_cp_groups(pred_sets, y_true, X_test.index, org_test)\n",
    "#needs universe_id and setting"
   ]
  },
  {
   "cell_type": "code",
   "execution_count": 64,
   "id": "01d5802c-663a-4d1f-9d69-e036faaffbf7",
   "metadata": {
    "execution": {
     "iopub.execute_input": "2025-07-30T21:31:44.072114Z",
     "iopub.status.busy": "2025-07-30T21:31:44.071442Z",
     "iopub.status.idle": "2025-07-30T21:31:44.076376Z",
     "shell.execute_reply": "2025-07-30T21:31:44.075335Z"
    },
    "papermill": {
     "duration": 0.035658,
     "end_time": "2025-07-30T21:31:44.078036",
     "exception": false,
     "start_time": "2025-07-30T21:31:44.042378",
     "status": "completed"
    },
    "tags": []
   },
   "outputs": [],
   "source": [
    "#delete\n",
    "#cp_groups_df"
   ]
  },
  {
   "cell_type": "code",
   "execution_count": 65,
   "id": "fa424af1-d1eb-443d-b717-2d279ada8408",
   "metadata": {
    "execution": {
     "iopub.execute_input": "2025-07-30T21:31:44.136478Z",
     "iopub.status.busy": "2025-07-30T21:31:44.135803Z",
     "iopub.status.idle": "2025-07-30T21:31:44.140681Z",
     "shell.execute_reply": "2025-07-30T21:31:44.139640Z"
    },
    "papermill": {
     "duration": 0.035018,
     "end_time": "2025-07-30T21:31:44.142303",
     "exception": false,
     "start_time": "2025-07-30T21:31:44.107285",
     "status": "completed"
    },
    "tags": []
   },
   "outputs": [],
   "source": [
    "#delete\n",
    "#percentage = (cp_groups_df['nongerman_female'] == 1).mean() * 100\n",
    "#print(percentage)\n"
   ]
  },
  {
   "cell_type": "code",
   "execution_count": 66,
   "id": "6cbdab96-b2b2-45af-ad54-d0516db2e28d",
   "metadata": {
    "execution": {
     "iopub.execute_input": "2025-07-30T21:31:44.192137Z",
     "iopub.status.busy": "2025-07-30T21:31:44.191745Z",
     "iopub.status.idle": "2025-07-30T21:31:45.866956Z",
     "shell.execute_reply": "2025-07-30T21:31:45.866093Z"
    },
    "papermill": {
     "duration": 1.701274,
     "end_time": "2025-07-30T21:31:45.868687",
     "exception": false,
     "start_time": "2025-07-30T21:31:44.167413",
     "status": "completed"
    },
    "tags": []
   },
   "outputs": [],
   "source": [
    "# Define covered = 1 if true_label is in the predicted set\n",
    "cp_groups_df['covered'] = cp_groups_df.apply(\n",
    "    lambda r: int(r['true_label'] in r['pred_set']),\n",
    "    axis=1\n",
    ")"
   ]
  },
  {
   "cell_type": "code",
   "execution_count": 67,
   "id": "338ff529-1a6b-4b87-a931-8e4788d52aad",
   "metadata": {
    "execution": {
     "iopub.execute_input": "2025-07-30T21:31:45.920777Z",
     "iopub.status.busy": "2025-07-30T21:31:45.920543Z",
     "iopub.status.idle": "2025-07-30T21:31:45.924885Z",
     "shell.execute_reply": "2025-07-30T21:31:45.923927Z"
    },
    "papermill": {
     "duration": 0.030506,
     "end_time": "2025-07-30T21:31:45.926506",
     "exception": false,
     "start_time": "2025-07-30T21:31:45.896000",
     "status": "completed"
    },
    "tags": []
   },
   "outputs": [],
   "source": [
    "#cp_groups_df"
   ]
  },
  {
   "cell_type": "code",
   "execution_count": 68,
   "id": "90032e27-66df-4540-9169-4e89cfbaa758",
   "metadata": {
    "execution": {
     "iopub.execute_input": "2025-07-30T21:31:45.976675Z",
     "iopub.status.busy": "2025-07-30T21:31:45.975881Z",
     "iopub.status.idle": "2025-07-30T21:31:45.986524Z",
     "shell.execute_reply": "2025-07-30T21:31:45.985581Z"
    },
    "papermill": {
     "duration": 0.036785,
     "end_time": "2025-07-30T21:31:45.988164",
     "exception": false,
     "start_time": "2025-07-30T21:31:45.951379",
     "status": "completed"
    },
    "tags": []
   },
   "outputs": [],
   "source": [
    "subgroups = ['frau1','nongerman','nongerman_male','nongerman_female']\n",
    "\n",
    "# Conditional coverage for subgroup==1\n",
    "cond_coverage = {\n",
    "    g: cp_groups_df.loc[cp_groups_df[g]==1, 'covered'].mean()\n",
    "    for g in subgroups\n",
    "}"
   ]
  },
  {
   "cell_type": "code",
   "execution_count": 69,
   "id": "1e348fb1-b9c3-45bc-ba23-f016827a7e0d",
   "metadata": {
    "execution": {
     "iopub.execute_input": "2025-07-30T21:31:46.038945Z",
     "iopub.status.busy": "2025-07-30T21:31:46.038157Z",
     "iopub.status.idle": "2025-07-30T21:31:46.045273Z",
     "shell.execute_reply": "2025-07-30T21:31:46.044314Z"
    },
    "papermill": {
     "duration": 0.033542,
     "end_time": "2025-07-30T21:31:46.046878",
     "exception": false,
     "start_time": "2025-07-30T21:31:46.013336",
     "status": "completed"
    },
    "tags": []
   },
   "outputs": [
    {
     "data": {
      "text/plain": [
       "{'frau1': 0.9076155816147728,\n",
       " 'nongerman': 0.9077639925896817,\n",
       " 'nongerman_male': 0.9233540484553724,\n",
       " 'nongerman_female': 0.8819672131147541}"
      ]
     },
     "execution_count": 69,
     "metadata": {},
     "output_type": "execute_result"
    }
   ],
   "source": [
    "cond_coverage"
   ]
  },
  {
   "cell_type": "code",
   "execution_count": 70,
   "id": "f5093324-c3dd-4d63-bc4c-8d945e5c8bbb",
   "metadata": {
    "execution": {
     "iopub.execute_input": "2025-07-30T21:31:46.086851Z",
     "iopub.status.busy": "2025-07-30T21:31:46.086447Z",
     "iopub.status.idle": "2025-07-30T21:31:46.091922Z",
     "shell.execute_reply": "2025-07-30T21:31:46.091160Z"
    },
    "papermill": {
     "duration": 0.022131,
     "end_time": "2025-07-30T21:31:46.093437",
     "exception": false,
     "start_time": "2025-07-30T21:31:46.071306",
     "status": "completed"
    },
    "tags": []
   },
   "outputs": [],
   "source": [
    "for subgroup, cov in cond_coverage.items():\n",
    "    cp_metrics_df[f\"cov_{subgroup}\"] = cov"
   ]
  },
  {
   "cell_type": "code",
   "execution_count": 71,
   "id": "6e872e10-dbe5-49e8-b554-5030c98ff75d",
   "metadata": {
    "execution": {
     "iopub.execute_input": "2025-07-30T21:31:46.122018Z",
     "iopub.status.busy": "2025-07-30T21:31:46.121647Z",
     "iopub.status.idle": "2025-07-30T21:31:46.134648Z",
     "shell.execute_reply": "2025-07-30T21:31:46.133969Z"
    },
    "papermill": {
     "duration": 0.028389,
     "end_time": "2025-07-30T21:31:46.135954",
     "exception": false,
     "start_time": "2025-07-30T21:31:46.107565",
     "status": "completed"
    },
    "tags": []
   },
   "outputs": [
    {
     "data": {
      "text/html": [
       "<div>\n",
       "<style scoped>\n",
       "    .dataframe tbody tr th:only-of-type {\n",
       "        vertical-align: middle;\n",
       "    }\n",
       "\n",
       "    .dataframe tbody tr th {\n",
       "        vertical-align: top;\n",
       "    }\n",
       "\n",
       "    .dataframe thead th {\n",
       "        text-align: right;\n",
       "    }\n",
       "</style>\n",
       "<table border=\"1\" class=\"dataframe\">\n",
       "  <thead>\n",
       "    <tr style=\"text-align: right;\">\n",
       "      <th></th>\n",
       "      <th>universe_id</th>\n",
       "      <th>universe_training_year</th>\n",
       "      <th>universe_training_size</th>\n",
       "      <th>universe_scale</th>\n",
       "      <th>universe_model</th>\n",
       "      <th>universe_exclude_features</th>\n",
       "      <th>universe_exclude_subgroups</th>\n",
       "      <th>q_hat</th>\n",
       "      <th>coverage</th>\n",
       "      <th>avg_size</th>\n",
       "      <th>cov_frau1</th>\n",
       "      <th>cov_nongerman</th>\n",
       "      <th>cov_nongerman_male</th>\n",
       "      <th>cov_nongerman_female</th>\n",
       "    </tr>\n",
       "  </thead>\n",
       "  <tbody>\n",
       "    <tr>\n",
       "      <th>0</th>\n",
       "      <td>823b617c000cf636f6bf1bed0ad41bcf</td>\n",
       "      <td>2014</td>\n",
       "      <td>1k</td>\n",
       "      <td>do-not-scale</td>\n",
       "      <td>gbm</td>\n",
       "      <td>nationality-sex</td>\n",
       "      <td>drop-non-german</td>\n",
       "      <td>0.75905</td>\n",
       "      <td>0.909096</td>\n",
       "      <td>1.159246</td>\n",
       "      <td>0.907616</td>\n",
       "      <td>0.907764</td>\n",
       "      <td>0.923354</td>\n",
       "      <td>0.881967</td>\n",
       "    </tr>\n",
       "  </tbody>\n",
       "</table>\n",
       "</div>"
      ],
      "text/plain": [
       "                        universe_id universe_training_year  \\\n",
       "0  823b617c000cf636f6bf1bed0ad41bcf                   2014   \n",
       "\n",
       "  universe_training_size universe_scale universe_model  \\\n",
       "0                     1k   do-not-scale            gbm   \n",
       "\n",
       "  universe_exclude_features universe_exclude_subgroups    q_hat  coverage  \\\n",
       "0           nationality-sex            drop-non-german  0.75905  0.909096   \n",
       "\n",
       "   avg_size  cov_frau1  cov_nongerman  cov_nongerman_male  \\\n",
       "0  1.159246   0.907616       0.907764            0.923354   \n",
       "\n",
       "   cov_nongerman_female  \n",
       "0              0.881967  "
      ]
     },
     "execution_count": 71,
     "metadata": {},
     "output_type": "execute_result"
    }
   ],
   "source": [
    "cp_metrics_df"
   ]
  },
  {
   "cell_type": "markdown",
   "id": "33774451",
   "metadata": {
    "papermill": {
     "duration": 0.01333,
     "end_time": "2025-07-30T21:31:46.164026",
     "exception": false,
     "start_time": "2025-07-30T21:31:46.150696",
     "status": "completed"
    },
    "tags": []
   },
   "source": [
    "# (Fairness) Metrics"
   ]
  },
  {
   "cell_type": "code",
   "execution_count": 72,
   "id": "debc5d62",
   "metadata": {
    "execution": {
     "iopub.execute_input": "2025-07-30T21:31:46.203118Z",
     "iopub.status.busy": "2025-07-30T21:31:46.202791Z",
     "iopub.status.idle": "2025-07-30T21:31:46.216004Z",
     "shell.execute_reply": "2025-07-30T21:31:46.215329Z"
    },
    "papermill": {
     "duration": 0.03556,
     "end_time": "2025-07-30T21:31:46.217375",
     "exception": false,
     "start_time": "2025-07-30T21:31:46.181815",
     "status": "completed"
    },
    "tags": []
   },
   "outputs": [],
   "source": [
    "# do I need to include maxdeutsch1.missing?\n",
    "\n",
    "import numpy as np\n",
    "\n",
    "colname_to_bin = \"maxdeutsch1\"\n",
    "majority_value = org_train[colname_to_bin].mode()[0]\n",
    "\n",
    "org_test[\"majmin\"] = np.where(org_test[colname_to_bin] == majority_value, \"majority\", \"minority\")"
   ]
  },
  {
   "cell_type": "code",
   "execution_count": 73,
   "id": "06a50de5",
   "metadata": {
    "execution": {
     "iopub.execute_input": "2025-07-30T21:31:46.246521Z",
     "iopub.status.busy": "2025-07-30T21:31:46.246088Z",
     "iopub.status.idle": "2025-07-30T21:31:49.129764Z",
     "shell.execute_reply": "2025-07-30T21:31:49.128861Z"
    },
    "papermill": {
     "duration": 2.899632,
     "end_time": "2025-07-30T21:31:49.131580",
     "exception": false,
     "start_time": "2025-07-30T21:31:46.231948",
     "status": "completed"
    },
    "tags": []
   },
   "outputs": [],
   "source": [
    "example_universe = universe.copy()\n",
    "example_universe[\"cutoff\"] = example_universe[\"cutoff\"][0]\n",
    "example_universe[\"eval_fairness_grouping\"] = example_universe[\"eval_fairness_grouping\"][0]\n",
    "fairness_dict, metric_frame = universe_analysis.compute_metrics(\n",
    "    example_universe,\n",
    "    y_pred_prob=probs_test,\n",
    "    y_test=y_true,\n",
    "    org_test=org_test,\n",
    ")"
   ]
  },
  {
   "cell_type": "markdown",
   "id": "f95d4e02",
   "metadata": {
    "papermill": {
     "duration": 0.024555,
     "end_time": "2025-07-30T21:31:49.182309",
     "exception": false,
     "start_time": "2025-07-30T21:31:49.157754",
     "status": "completed"
    },
    "tags": []
   },
   "source": [
    "# Overall"
   ]
  },
  {
   "cell_type": "markdown",
   "id": "bdee4871",
   "metadata": {
    "papermill": {
     "duration": 0.024499,
     "end_time": "2025-07-30T21:31:49.231630",
     "exception": false,
     "start_time": "2025-07-30T21:31:49.207131",
     "status": "completed"
    },
    "tags": []
   },
   "source": [
    "Fairness\n",
    "Main fairness target: Equalized Odds. Seems to be a better fit than equal opportunity, since we're not only interested in Y = 1. Seems to be a better fit than demographic parity, since we also care about accuracy, not just equal distribution of preds.\n",
    "\n",
    "Pick column for computation of fairness metrics\n",
    "\n",
    "Performance\n",
    "Overall performance measures, most interesting in relation to the measures split by group below"
   ]
  },
  {
   "cell_type": "code",
   "execution_count": 74,
   "id": "c4e067c6",
   "metadata": {
    "execution": {
     "iopub.execute_input": "2025-07-30T21:31:49.282885Z",
     "iopub.status.busy": "2025-07-30T21:31:49.282307Z",
     "iopub.status.idle": "2025-07-30T21:31:49.290557Z",
     "shell.execute_reply": "2025-07-30T21:31:49.289553Z"
    },
    "papermill": {
     "duration": 0.035828,
     "end_time": "2025-07-30T21:31:49.292160",
     "exception": false,
     "start_time": "2025-07-30T21:31:49.256332",
     "status": "completed"
    },
    "tags": []
   },
   "outputs": [
    {
     "data": {
      "text/plain": [
       "accuracy                   0.219563\n",
       "balanced accuracy          0.540649\n",
       "f1                         0.242259\n",
       "precision                  0.138362\n",
       "false positive rate        0.891243\n",
       "false negative rate        0.027459\n",
       "selection rate             0.901672\n",
       "count                  89710.000000\n",
       "dtype: float64"
      ]
     },
     "execution_count": 74,
     "metadata": {},
     "output_type": "execute_result"
    }
   ],
   "source": [
    "metric_frame.overall"
   ]
  },
  {
   "cell_type": "markdown",
   "id": "e968fe9d",
   "metadata": {
    "papermill": {
     "duration": 0.024991,
     "end_time": "2025-07-30T21:31:49.342463",
     "exception": false,
     "start_time": "2025-07-30T21:31:49.317472",
     "status": "completed"
    },
    "tags": []
   },
   "source": [
    "By Group"
   ]
  },
  {
   "cell_type": "code",
   "execution_count": 75,
   "id": "ec325bce",
   "metadata": {
    "execution": {
     "iopub.execute_input": "2025-07-30T21:31:49.395127Z",
     "iopub.status.busy": "2025-07-30T21:31:49.394658Z",
     "iopub.status.idle": "2025-07-30T21:31:49.409836Z",
     "shell.execute_reply": "2025-07-30T21:31:49.408792Z"
    },
    "papermill": {
     "duration": 0.043772,
     "end_time": "2025-07-30T21:31:49.411380",
     "exception": false,
     "start_time": "2025-07-30T21:31:49.367608",
     "status": "completed"
    },
    "tags": []
   },
   "outputs": [
    {
     "data": {
      "text/html": [
       "<div>\n",
       "<style scoped>\n",
       "    .dataframe tbody tr th:only-of-type {\n",
       "        vertical-align: middle;\n",
       "    }\n",
       "\n",
       "    .dataframe tbody tr th {\n",
       "        vertical-align: top;\n",
       "    }\n",
       "\n",
       "    .dataframe thead th {\n",
       "        text-align: right;\n",
       "    }\n",
       "</style>\n",
       "<table border=\"1\" class=\"dataframe\">\n",
       "  <thead>\n",
       "    <tr style=\"text-align: right;\">\n",
       "      <th></th>\n",
       "      <th>accuracy</th>\n",
       "      <th>balanced accuracy</th>\n",
       "      <th>f1</th>\n",
       "      <th>precision</th>\n",
       "      <th>false positive rate</th>\n",
       "      <th>false negative rate</th>\n",
       "      <th>selection rate</th>\n",
       "      <th>count</th>\n",
       "    </tr>\n",
       "    <tr>\n",
       "      <th>majmin</th>\n",
       "      <th></th>\n",
       "      <th></th>\n",
       "      <th></th>\n",
       "      <th></th>\n",
       "      <th></th>\n",
       "      <th></th>\n",
       "      <th></th>\n",
       "      <th></th>\n",
       "    </tr>\n",
       "  </thead>\n",
       "  <tbody>\n",
       "    <tr>\n",
       "      <th>majority</th>\n",
       "      <td>0.239005</td>\n",
       "      <td>0.548491</td>\n",
       "      <td>0.251812</td>\n",
       "      <td>0.144705</td>\n",
       "      <td>0.872164</td>\n",
       "      <td>0.030853</td>\n",
       "      <td>0.884979</td>\n",
       "      <td>69170.0</td>\n",
       "    </tr>\n",
       "    <tr>\n",
       "      <th>minority</th>\n",
       "      <td>0.154090</td>\n",
       "      <td>0.515686</td>\n",
       "      <td>0.211768</td>\n",
       "      <td>0.118628</td>\n",
       "      <td>0.954270</td>\n",
       "      <td>0.014358</td>\n",
       "      <td>0.957887</td>\n",
       "      <td>20540.0</td>\n",
       "    </tr>\n",
       "  </tbody>\n",
       "</table>\n",
       "</div>"
      ],
      "text/plain": [
       "          accuracy  balanced accuracy        f1  precision  \\\n",
       "majmin                                                       \n",
       "majority  0.239005           0.548491  0.251812   0.144705   \n",
       "minority  0.154090           0.515686  0.211768   0.118628   \n",
       "\n",
       "          false positive rate  false negative rate  selection rate    count  \n",
       "majmin                                                                       \n",
       "majority             0.872164             0.030853        0.884979  69170.0  \n",
       "minority             0.954270             0.014358        0.957887  20540.0  "
      ]
     },
     "execution_count": 75,
     "metadata": {},
     "output_type": "execute_result"
    }
   ],
   "source": [
    "metric_frame.by_group"
   ]
  },
  {
   "cell_type": "code",
   "execution_count": 76,
   "id": "a9ddbe63",
   "metadata": {
    "execution": {
     "iopub.execute_input": "2025-07-30T21:31:49.465259Z",
     "iopub.status.busy": "2025-07-30T21:31:49.464574Z",
     "iopub.status.idle": "2025-07-30T21:31:51.981639Z",
     "shell.execute_reply": "2025-07-30T21:31:51.980960Z"
    },
    "papermill": {
     "duration": 2.54461,
     "end_time": "2025-07-30T21:31:51.982941",
     "exception": false,
     "start_time": "2025-07-30T21:31:49.438331",
     "status": "completed"
    },
    "tags": []
   },
   "outputs": [
    {
     "data": {
      "text/plain": [
       "array([[<Axes: title={'center': 'accuracy'}, xlabel='majmin'>,\n",
       "        <Axes: title={'center': 'balanced accuracy'}, xlabel='majmin'>,\n",
       "        <Axes: title={'center': 'f1'}, xlabel='majmin'>],\n",
       "       [<Axes: title={'center': 'precision'}, xlabel='majmin'>,\n",
       "        <Axes: title={'center': 'false positive rate'}, xlabel='majmin'>,\n",
       "        <Axes: title={'center': 'false negative rate'}, xlabel='majmin'>],\n",
       "       [<Axes: title={'center': 'selection rate'}, xlabel='majmin'>,\n",
       "        <Axes: title={'center': 'count'}, xlabel='majmin'>,\n",
       "        <Axes: xlabel='majmin'>]], dtype=object)"
      ]
     },
     "execution_count": 76,
     "metadata": {},
     "output_type": "execute_result"
    },
    {
     "data": {
      "image/png": "[encoded data removed]",
      "text/plain": [
       "<Figure size 1200x800 with 9 Axes>"
      ]
     },
     "metadata": {},
     "output_type": "display_data"
    }
   ],
   "source": [
    "# In a graphic\n",
    "metric_frame.by_group.plot.bar(\n",
    "    subplots=True,\n",
    "    layout=[3, 3],\n",
    "    legend=False,\n",
    "    figsize=[12, 8],\n",
    "    title=\"Show all metrics\",\n",
    ")"
   ]
  },
  {
   "cell_type": "markdown",
   "id": "f57a0bac",
   "metadata": {
    "papermill": {
     "duration": 0.014854,
     "end_time": "2025-07-30T21:31:52.015554",
     "exception": false,
     "start_time": "2025-07-30T21:31:52.000700",
     "status": "completed"
    },
    "tags": []
   },
   "source": [
    "# Final Output"
   ]
  },
  {
   "cell_type": "code",
   "execution_count": 77,
   "id": "96d280a3",
   "metadata": {
    "execution": {
     "iopub.execute_input": "2025-07-30T21:31:52.049723Z",
     "iopub.status.busy": "2025-07-30T21:31:52.049019Z",
     "iopub.status.idle": "2025-07-30T21:31:52.056003Z",
     "shell.execute_reply": "2025-07-30T21:31:52.055171Z"
    },
    "papermill": {
     "duration": 0.02439,
     "end_time": "2025-07-30T21:31:52.057373",
     "exception": false,
     "start_time": "2025-07-30T21:31:52.032983",
     "status": "completed"
    },
    "tags": []
   },
   "outputs": [
    {
     "data": {
      "text/plain": [
       "4"
      ]
     },
     "execution_count": 77,
     "metadata": {},
     "output_type": "execute_result"
    }
   ],
   "source": [
    "sub_universes = universe_analysis.generate_sub_universes()\n",
    "len(sub_universes)"
   ]
  },
  {
   "cell_type": "code",
   "execution_count": 78,
   "id": "92adf7ba",
   "metadata": {
    "execution": {
     "iopub.execute_input": "2025-07-30T21:31:52.088447Z",
     "iopub.status.busy": "2025-07-30T21:31:52.087883Z",
     "iopub.status.idle": "2025-07-30T21:31:52.102770Z",
     "shell.execute_reply": "2025-07-30T21:31:52.101663Z"
    },
    "papermill": {
     "duration": 0.033218,
     "end_time": "2025-07-30T21:31:52.105768",
     "exception": false,
     "start_time": "2025-07-30T21:31:52.072550",
     "status": "completed"
    },
    "tags": []
   },
   "outputs": [],
   "source": [
    "def filter_sub_universe_data(sub_universe, org_test):\n",
    "    # Keep all rows — no filtering\n",
    "    keep_rows_mask = np.ones(org_test.shape[0], dtype=bool)\n",
    "\n",
    "    print(f\"[INFO] Keeping all rows: {keep_rows_mask.sum()} rows retained.\")\n",
    "    return keep_rows_mask"
   ]
  },
  {
   "cell_type": "code",
   "execution_count": 79,
   "id": "4a759155",
   "metadata": {
    "execution": {
     "iopub.execute_input": "2025-07-30T21:31:52.177820Z",
     "iopub.status.busy": "2025-07-30T21:31:52.177354Z",
     "iopub.status.idle": "2025-07-30T21:32:03.078124Z",
     "shell.execute_reply": "2025-07-30T21:32:03.077410Z"
    },
    "papermill": {
     "duration": 10.934976,
     "end_time": "2025-07-30T21:32:03.079607",
     "exception": false,
     "start_time": "2025-07-30T21:31:52.144631",
     "status": "completed"
    },
    "tags": []
   },
   "outputs": [
    {
     "name": "stdout",
     "output_type": "stream",
     "text": [
      "Stopping execution_time clock.\n",
      "[INFO] Keeping all rows: 89710 rows retained.\n"
     ]
    },
    {
     "name": "stdout",
     "output_type": "stream",
     "text": [
      "[INFO] Keeping all rows: 89710 rows retained.\n"
     ]
    },
    {
     "name": "stdout",
     "output_type": "stream",
     "text": [
      "[INFO] Keeping all rows: 89710 rows retained.\n"
     ]
    },
    {
     "name": "stdout",
     "output_type": "stream",
     "text": [
      "[INFO] Keeping all rows: 89710 rows retained.\n"
     ]
    },
    {
     "data": {
      "text/html": [
       "<div>\n",
       "<style scoped>\n",
       "    .dataframe tbody tr th:only-of-type {\n",
       "        vertical-align: middle;\n",
       "    }\n",
       "\n",
       "    .dataframe tbody tr th {\n",
       "        vertical-align: top;\n",
       "    }\n",
       "\n",
       "    .dataframe thead th {\n",
       "        text-align: right;\n",
       "    }\n",
       "</style>\n",
       "<table border=\"1\" class=\"dataframe\">\n",
       "  <thead>\n",
       "    <tr style=\"text-align: right;\">\n",
       "      <th></th>\n",
       "      <th>run_no</th>\n",
       "      <th>universe_id</th>\n",
       "      <th>universe_settings</th>\n",
       "      <th>execution_time</th>\n",
       "      <th>test_size_n</th>\n",
       "      <th>test_size_frac</th>\n",
       "      <th>fair_main_equalized_odds_difference</th>\n",
       "      <th>fair_main_equalized_odds_ratio</th>\n",
       "      <th>fair_main_demographic_parity_difference</th>\n",
       "      <th>fair_main_demographic_parity_ratio</th>\n",
       "      <th>...</th>\n",
       "      <th>perf_grp_precision_0</th>\n",
       "      <th>perf_grp_precision_1</th>\n",
       "      <th>perf_grp_false positive rate_0</th>\n",
       "      <th>perf_grp_false positive rate_1</th>\n",
       "      <th>perf_grp_false negative rate_0</th>\n",
       "      <th>perf_grp_false negative rate_1</th>\n",
       "      <th>perf_grp_selection rate_0</th>\n",
       "      <th>perf_grp_selection rate_1</th>\n",
       "      <th>perf_grp_count_0</th>\n",
       "      <th>perf_grp_count_1</th>\n",
       "    </tr>\n",
       "  </thead>\n",
       "  <tbody>\n",
       "    <tr>\n",
       "      <th>0</th>\n",
       "      <td>14</td>\n",
       "      <td>823b617c000cf636f6bf1bed0ad41bcf</td>\n",
       "      <td>{\"cutoff\": \"quantile_0.1\", \"eval_fairness_grou...</td>\n",
       "      <td>32.006891</td>\n",
       "      <td>89710</td>\n",
       "      <td>1.0</td>\n",
       "      <td>0.082106</td>\n",
       "      <td>0.913959</td>\n",
       "      <td>0.072908</td>\n",
       "      <td>0.923887</td>\n",
       "      <td>...</td>\n",
       "      <td>NaN</td>\n",
       "      <td>NaN</td>\n",
       "      <td>NaN</td>\n",
       "      <td>NaN</td>\n",
       "      <td>NaN</td>\n",
       "      <td>NaN</td>\n",
       "      <td>NaN</td>\n",
       "      <td>NaN</td>\n",
       "      <td>NaN</td>\n",
       "      <td>NaN</td>\n",
       "    </tr>\n",
       "    <tr>\n",
       "      <th>0</th>\n",
       "      <td>14</td>\n",
       "      <td>823b617c000cf636f6bf1bed0ad41bcf</td>\n",
       "      <td>{\"cutoff\": \"quantile_0.1\", \"eval_fairness_grou...</td>\n",
       "      <td>32.006891</td>\n",
       "      <td>89710</td>\n",
       "      <td>1.0</td>\n",
       "      <td>0.082106</td>\n",
       "      <td>0.913959</td>\n",
       "      <td>0.072908</td>\n",
       "      <td>0.923887</td>\n",
       "      <td>...</td>\n",
       "      <td>0.118628</td>\n",
       "      <td>0.144705</td>\n",
       "      <td>0.954270</td>\n",
       "      <td>0.872164</td>\n",
       "      <td>0.014358</td>\n",
       "      <td>0.030853</td>\n",
       "      <td>0.957887</td>\n",
       "      <td>0.884979</td>\n",
       "      <td>20540.0</td>\n",
       "      <td>69170.0</td>\n",
       "    </tr>\n",
       "    <tr>\n",
       "      <th>0</th>\n",
       "      <td>14</td>\n",
       "      <td>823b617c000cf636f6bf1bed0ad41bcf</td>\n",
       "      <td>{\"cutoff\": \"quantile_0.25\", \"eval_fairness_gro...</td>\n",
       "      <td>32.006891</td>\n",
       "      <td>89710</td>\n",
       "      <td>1.0</td>\n",
       "      <td>0.177553</td>\n",
       "      <td>0.794387</td>\n",
       "      <td>0.158332</td>\n",
       "      <td>0.818681</td>\n",
       "      <td>...</td>\n",
       "      <td>NaN</td>\n",
       "      <td>NaN</td>\n",
       "      <td>NaN</td>\n",
       "      <td>NaN</td>\n",
       "      <td>NaN</td>\n",
       "      <td>NaN</td>\n",
       "      <td>NaN</td>\n",
       "      <td>NaN</td>\n",
       "      <td>NaN</td>\n",
       "      <td>NaN</td>\n",
       "    </tr>\n",
       "    <tr>\n",
       "      <th>0</th>\n",
       "      <td>14</td>\n",
       "      <td>823b617c000cf636f6bf1bed0ad41bcf</td>\n",
       "      <td>{\"cutoff\": \"quantile_0.25\", \"eval_fairness_gro...</td>\n",
       "      <td>32.006891</td>\n",
       "      <td>89710</td>\n",
       "      <td>1.0</td>\n",
       "      <td>0.177553</td>\n",
       "      <td>0.794387</td>\n",
       "      <td>0.158332</td>\n",
       "      <td>0.818681</td>\n",
       "      <td>...</td>\n",
       "      <td>0.125112</td>\n",
       "      <td>0.167243</td>\n",
       "      <td>0.863526</td>\n",
       "      <td>0.685974</td>\n",
       "      <td>0.052365</td>\n",
       "      <td>0.095186</td>\n",
       "      <td>0.873223</td>\n",
       "      <td>0.714891</td>\n",
       "      <td>20540.0</td>\n",
       "      <td>69170.0</td>\n",
       "    </tr>\n",
       "  </tbody>\n",
       "</table>\n",
       "<p>4 rows × 50 columns</p>\n",
       "</div>"
      ],
      "text/plain": [
       "  run_no                       universe_id  \\\n",
       "0     14  823b617c000cf636f6bf1bed0ad41bcf   \n",
       "0     14  823b617c000cf636f6bf1bed0ad41bcf   \n",
       "0     14  823b617c000cf636f6bf1bed0ad41bcf   \n",
       "0     14  823b617c000cf636f6bf1bed0ad41bcf   \n",
       "\n",
       "                                   universe_settings  execution_time  \\\n",
       "0  {\"cutoff\": \"quantile_0.1\", \"eval_fairness_grou...       32.006891   \n",
       "0  {\"cutoff\": \"quantile_0.1\", \"eval_fairness_grou...       32.006891   \n",
       "0  {\"cutoff\": \"quantile_0.25\", \"eval_fairness_gro...       32.006891   \n",
       "0  {\"cutoff\": \"quantile_0.25\", \"eval_fairness_gro...       32.006891   \n",
       "\n",
       "   test_size_n  test_size_frac  fair_main_equalized_odds_difference  \\\n",
       "0        89710             1.0                             0.082106   \n",
       "0        89710             1.0                             0.082106   \n",
       "0        89710             1.0                             0.177553   \n",
       "0        89710             1.0                             0.177553   \n",
       "\n",
       "   fair_main_equalized_odds_ratio  fair_main_demographic_parity_difference  \\\n",
       "0                        0.913959                                 0.072908   \n",
       "0                        0.913959                                 0.072908   \n",
       "0                        0.794387                                 0.158332   \n",
       "0                        0.794387                                 0.158332   \n",
       "\n",
       "   fair_main_demographic_parity_ratio  ...  perf_grp_precision_0  \\\n",
       "0                            0.923887  ...                   NaN   \n",
       "0                            0.923887  ...              0.118628   \n",
       "0                            0.818681  ...                   NaN   \n",
       "0                            0.818681  ...              0.125112   \n",
       "\n",
       "   perf_grp_precision_1  perf_grp_false positive rate_0  \\\n",
       "0                   NaN                             NaN   \n",
       "0              0.144705                        0.954270   \n",
       "0                   NaN                             NaN   \n",
       "0              0.167243                        0.863526   \n",
       "\n",
       "   perf_grp_false positive rate_1  perf_grp_false negative rate_0  \\\n",
       "0                             NaN                             NaN   \n",
       "0                        0.872164                        0.014358   \n",
       "0                             NaN                             NaN   \n",
       "0                        0.685974                        0.052365   \n",
       "\n",
       "   perf_grp_false negative rate_1  perf_grp_selection rate_0  \\\n",
       "0                             NaN                        NaN   \n",
       "0                        0.030853                   0.957887   \n",
       "0                             NaN                        NaN   \n",
       "0                        0.095186                   0.873223   \n",
       "\n",
       "   perf_grp_selection rate_1  perf_grp_count_0  perf_grp_count_1  \n",
       "0                        NaN               NaN               NaN  \n",
       "0                   0.884979           20540.0           69170.0  \n",
       "0                        NaN               NaN               NaN  \n",
       "0                   0.714891           20540.0           69170.0  \n",
       "\n",
       "[4 rows x 50 columns]"
      ]
     },
     "execution_count": 79,
     "metadata": {},
     "output_type": "execute_result"
    }
   ],
   "source": [
    "final_output = universe_analysis.generate_final_output(\n",
    "    y_pred_prob=probs_test,\n",
    "    y_test=y_true,\n",
    "    org_test=org_test,\n",
    "    filter_data=filter_sub_universe_data,\n",
    "    cp_metrics_df=cp_metrics_df,\n",
    "    save=True,\n",
    ")\n",
    "final_output"
   ]
  },
  {
   "cell_type": "code",
   "execution_count": null,
   "id": "721ff514-cb11-46f8-b6fc-50392f74b5cb",
   "metadata": {
    "papermill": {
     "duration": 0.030279,
     "end_time": "2025-07-30T21:32:03.144287",
     "exception": false,
     "start_time": "2025-07-30T21:32:03.114008",
     "status": "completed"
    },
    "tags": []
   },
   "outputs": [],
   "source": []
  }
 ],
 "metadata": {
  "celltoolbar": "Tags",
  "kernelspec": {
   "display_name": "Python (CMA Fairness)",
   "language": "python",
   "name": "cma_fair_env"
  },
  "language_info": {
   "codemirror_mode": {
    "name": "ipython",
    "version": 3
   },
   "file_extension": ".py",
   "mimetype": "text/x-python",
   "name": "python",
   "nbconvert_exporter": "python",
   "pygments_lexer": "ipython3",
   "version": "3.10.12"
  },
  "papermill": {
   "default_parameters": {},
   "duration": 53.762883,
   "end_time": "2025-07-30T21:32:03.891902",
   "environment_variables": {},
   "exception": null,
   "input_path": "universe_analysis.ipynb",
   "output_path": "output/runs/14/notebooks/m_14-823b617c000cf636f6bf1bed0ad41bcf.ipynb",
   "parameters": {
    "output_dir": "output",
    "run_no": "14",
    "seed": "2023",
    "universe": "{\"cutoff\": [\"quantile_0.1\", \"quantile_0.25\"], \"eval_fairness_grouping\": [\"majority-minority\", \"nationality-all\"], \"exclude_features\": \"nationality-sex\", \"exclude_subgroups\": \"drop-non-german\", \"model\": \"gbm\", \"scale\": \"do-not-scale\", \"training_size\": \"1k\", \"training_year\": \"2014\"}",
    "universe_id": "823b617c000cf636f6bf1bed0ad41bcf"
   },
   "start_time": "2025-07-30T21:31:10.129019",
   "version": "2.6.0"
  }
 },
 "nbformat": 4,
 "nbformat_minor": 5
}