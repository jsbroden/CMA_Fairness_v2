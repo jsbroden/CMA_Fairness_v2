{
 "cells": [
  {
   "cell_type": "code",
   "execution_count": 1,
   "id": "f159f837-637b-42ba-96b5-ec9a68c44524",
   "metadata": {
    "execution": {
     "iopub.execute_input": "2025-07-30T21:03:05.301247Z",
     "iopub.status.busy": "2025-07-30T21:03:05.300604Z",
     "iopub.status.idle": "2025-07-30T21:03:05.314060Z",
     "shell.execute_reply": "2025-07-30T21:03:05.313095Z"
    },
    "papermill": {
     "duration": 0.036535,
     "end_time": "2025-07-30T21:03:05.315941",
     "exception": false,
     "start_time": "2025-07-30T21:03:05.279406",
     "status": "completed"
    },
    "tags": []
   },
   "outputs": [
    {
     "name": "stdout",
     "output_type": "stream",
     "text": [
      "/dss/dsshome1/0C/ra93lal2/cma/CMA_Fairness_v2\n"
     ]
    },
    {
     "name": "stderr",
     "output_type": "stream",
     "text": [
      "/dss/dsshome1/0C/ra93lal2/.local/share/virtualenvs/CMA_Fairness_v2-3j10GkSs/lib/python3.10/site-packages/IPython/core/magics/osm.py:393: UserWarning: This is now an optional IPython functionality, using bookmarks requires you to install the `pickleshare` library.\n",
      "  bkms = self.shell.db.get('bookmarks', {})\n",
      "/dss/dsshome1/0C/ra93lal2/.local/share/virtualenvs/CMA_Fairness_v2-3j10GkSs/lib/python3.10/site-packages/IPython/core/magics/osm.py:417: UserWarning: This is now an optional IPython functionality, setting dhist requires you to install the `pickleshare` library.\n",
      "  self.shell.db['dhist'] = compress_dhist(dhist)[-100:]\n"
     ]
    }
   ],
   "source": [
    "%cd ~/cma/CMA_Fairness_v2"
   ]
  },
  {
   "cell_type": "markdown",
   "id": "de2603b9",
   "metadata": {
    "papermill": {
     "duration": 0.019353,
     "end_time": "2025-07-30T21:03:05.355663",
     "exception": false,
     "start_time": "2025-07-30T21:03:05.336310",
     "status": "completed"
    },
    "tags": []
   },
   "source": [
    "The following cell holds the definition of our parameters, these values can be overriden by rendering the with e.g. the following command:\n",
    "\n",
    "papermill -p alpha 0.2 -p ratio 0.3 universe_analysis.ipynb output/test_run.ipynb"
   ]
  },
  {
   "cell_type": "code",
   "execution_count": 2,
   "id": "a80968a0-40bb-4fa9-85ef-2d5eefb01975",
   "metadata": {
    "execution": {
     "iopub.execute_input": "2025-07-30T21:03:05.398461Z",
     "iopub.status.busy": "2025-07-30T21:03:05.397838Z",
     "iopub.status.idle": "2025-07-30T21:03:05.403815Z",
     "shell.execute_reply": "2025-07-30T21:03:05.402366Z"
    },
    "papermill": {
     "duration": 0.02975,
     "end_time": "2025-07-30T21:03:05.405552",
     "exception": false,
     "start_time": "2025-07-30T21:03:05.375802",
     "status": "completed"
    },
    "tags": []
   },
   "outputs": [
    {
     "name": "stdout",
     "output_type": "stream",
     "text": [
      "Current working directory: /dss/dsshome1/0C/ra93lal2/cma/CMA_Fairness_v2\n"
     ]
    }
   ],
   "source": [
    "import os\n",
    "print(\"Current working directory:\", os.getcwd())"
   ]
  },
  {
   "cell_type": "code",
   "execution_count": 3,
   "id": "2dce4c03",
   "metadata": {
    "execution": {
     "iopub.execute_input": "2025-07-30T21:03:05.447565Z",
     "iopub.status.busy": "2025-07-30T21:03:05.447106Z",
     "iopub.status.idle": "2025-07-30T21:03:05.453539Z",
     "shell.execute_reply": "2025-07-30T21:03:05.452565Z"
    },
    "papermill": {
     "duration": 0.02927,
     "end_time": "2025-07-30T21:03:05.455222",
     "exception": false,
     "start_time": "2025-07-30T21:03:05.425952",
     "status": "completed"
    },
    "tags": [
     "parameters"
    ]
   },
   "outputs": [],
   "source": [
    "run_no = 0\n",
    "universe_id = \"test\"\n",
    "universe = {\n",
    "    \"training_size\": \"25k\", # \"25k\", \"5k\", \"1k\"\n",
    "    \"training_year\": \"2014\", # \"2014\", \"2012_14\", \"2010_14\"\n",
    "    \"scale\": \"scale\", # \"scale\", \"do-not-scale\",\n",
    "    #\"stratify_split\": \"target\", # \"none\", \"target\", \"protected-attribute\", \"both\",\n",
    "    \"model\": \"elasticnet\", # \"logreg\", \"penalized_logreg\", \"rf\", \"gbm\", \"elasticnet\"\n",
    "    \"cutoff\": [\"quantile_0.15\", \"quantile_0.30\"],\n",
    "    \"exclude_features\": \"age\", # \"none\", \"nationality\", \"sex\", \"nationality-sex\", \"age\"\n",
    "    \"exclude_subgroups\": \"keep-all\", # \"keep-all\", \"drop-non-german\"\n",
    "    \"eval_fairness_grouping\": [\"majority-minority\", \"nationality-all\"]\n",
    "}\n",
    "\n",
    "output_dir=\"./output\"\n",
    "seed=0"
   ]
  },
  {
   "cell_type": "code",
   "execution_count": 4,
   "id": "4038556e",
   "metadata": {
    "execution": {
     "iopub.execute_input": "2025-07-30T21:03:05.497982Z",
     "iopub.status.busy": "2025-07-30T21:03:05.497167Z",
     "iopub.status.idle": "2025-07-30T21:03:05.502731Z",
     "shell.execute_reply": "2025-07-30T21:03:05.501632Z"
    },
    "papermill": {
     "duration": 0.028159,
     "end_time": "2025-07-30T21:03:05.504459",
     "exception": false,
     "start_time": "2025-07-30T21:03:05.476300",
     "status": "completed"
    },
    "tags": [
     "injected-parameters"
    ]
   },
   "outputs": [],
   "source": [
    "# Parameters\n",
    "universe_id = \"522129ffe46aa5e3cc939fddb34c20d2\"\n",
    "run_no = \"14\"\n",
    "universe = \"{\\\"cutoff\\\": [\\\"quantile_0.1\\\", \\\"quantile_0.25\\\"], \\\"eval_fairness_grouping\\\": [\\\"majority-minority\\\", \\\"nationality-all\\\"], \\\"exclude_features\\\": \\\"sex\\\", \\\"exclude_subgroups\\\": \\\"drop-non-german\\\", \\\"model\\\": \\\"logreg\\\", \\\"scale\\\": \\\"do-not-scale\\\", \\\"training_size\\\": \\\"5k\\\", \\\"training_year\\\": \\\"2012_14\\\"}\"\n",
    "output_dir = \"output\"\n",
    "seed = \"2023\"\n"
   ]
  },
  {
   "cell_type": "code",
   "execution_count": 5,
   "id": "1650acaf",
   "metadata": {
    "execution": {
     "iopub.execute_input": "2025-07-30T21:03:05.547389Z",
     "iopub.status.busy": "2025-07-30T21:03:05.546604Z",
     "iopub.status.idle": "2025-07-30T21:03:05.551780Z",
     "shell.execute_reply": "2025-07-30T21:03:05.550780Z"
    },
    "papermill": {
     "duration": 0.027151,
     "end_time": "2025-07-30T21:03:05.553526",
     "exception": false,
     "start_time": "2025-07-30T21:03:05.526375",
     "status": "completed"
    },
    "tags": []
   },
   "outputs": [],
   "source": [
    "import json\n",
    "# Parse universe into dict if it is passed as a string\n",
    "if isinstance(universe, str):\n",
    "    universe = json.loads(universe)"
   ]
  },
  {
   "cell_type": "code",
   "execution_count": 6,
   "id": "16620c48",
   "metadata": {
    "execution": {
     "iopub.execute_input": "2025-07-30T21:03:05.596305Z",
     "iopub.status.busy": "2025-07-30T21:03:05.595825Z",
     "iopub.status.idle": "2025-07-30T21:03:05.639821Z",
     "shell.execute_reply": "2025-07-30T21:03:05.638976Z"
    },
    "papermill": {
     "duration": 0.067139,
     "end_time": "2025-07-30T21:03:05.641579",
     "exception": false,
     "start_time": "2025-07-30T21:03:05.574440",
     "status": "completed"
    },
    "tags": []
   },
   "outputs": [],
   "source": [
    "# Auto-reload the custom package\n",
    "%load_ext autoreload\n",
    "%autoreload 1\n",
    "%aimport fairness_multiverse"
   ]
  },
  {
   "cell_type": "code",
   "execution_count": 7,
   "id": "01c5c9f3",
   "metadata": {
    "execution": {
     "iopub.execute_input": "2025-07-30T21:03:05.684237Z",
     "iopub.status.busy": "2025-07-30T21:03:05.683841Z",
     "iopub.status.idle": "2025-07-30T21:03:07.635563Z",
     "shell.execute_reply": "2025-07-30T21:03:07.634586Z"
    },
    "papermill": {
     "duration": 1.97617,
     "end_time": "2025-07-30T21:03:07.637890",
     "exception": false,
     "start_time": "2025-07-30T21:03:05.661720",
     "status": "completed"
    },
    "tags": []
   },
   "outputs": [],
   "source": [
    "from fairness_multiverse.universe import UniverseAnalysis\n",
    "\n",
    "universe_analysis = UniverseAnalysis(\n",
    "    run_no = run_no,\n",
    "    universe_id = universe_id,\n",
    "    universe = universe,\n",
    "    output_dir=output_dir,\n",
    ")"
   ]
  },
  {
   "cell_type": "code",
   "execution_count": 8,
   "id": "106241f5",
   "metadata": {
    "execution": {
     "iopub.execute_input": "2025-07-30T21:03:07.680024Z",
     "iopub.status.busy": "2025-07-30T21:03:07.679397Z",
     "iopub.status.idle": "2025-07-30T21:03:07.685742Z",
     "shell.execute_reply": "2025-07-30T21:03:07.684876Z"
    },
    "papermill": {
     "duration": 0.028972,
     "end_time": "2025-07-30T21:03:07.687412",
     "exception": false,
     "start_time": "2025-07-30T21:03:07.658440",
     "status": "completed"
    },
    "tags": []
   },
   "outputs": [
    {
     "name": "stdout",
     "output_type": "stream",
     "text": [
      "Using Seed: 2023\n"
     ]
    }
   ],
   "source": [
    "import numpy as np\n",
    "parsed_seed = int(seed)\n",
    "np.random.seed(parsed_seed)\n",
    "print(f\"Using Seed: {parsed_seed}\")"
   ]
  },
  {
   "cell_type": "markdown",
   "id": "e0ebdc57",
   "metadata": {
    "papermill": {
     "duration": 0.019842,
     "end_time": "2025-07-30T21:03:07.727329",
     "exception": false,
     "start_time": "2025-07-30T21:03:07.707487",
     "status": "completed"
    },
    "tags": []
   },
   "source": [
    "# Loading Data"
   ]
  },
  {
   "cell_type": "markdown",
   "id": "681925a3",
   "metadata": {
    "papermill": {
     "duration": 0.019843,
     "end_time": "2025-07-30T21:03:07.767001",
     "exception": false,
     "start_time": "2025-07-30T21:03:07.747158",
     "status": "completed"
    },
    "tags": []
   },
   "source": [
    "Load siab_train, siab_test, siab_calib and/or \n",
    "load siab_train_features, siab_train_labels"
   ]
  },
  {
   "cell_type": "code",
   "execution_count": 9,
   "id": "f0496b8a",
   "metadata": {
    "execution": {
     "iopub.execute_input": "2025-07-30T21:03:07.808003Z",
     "iopub.status.busy": "2025-07-30T21:03:07.807456Z",
     "iopub.status.idle": "2025-07-30T21:03:19.742271Z",
     "shell.execute_reply": "2025-07-30T21:03:19.741117Z"
    },
    "papermill": {
     "duration": 11.957435,
     "end_time": "2025-07-30T21:03:19.744008",
     "exception": false,
     "start_time": "2025-07-30T21:03:07.786573",
     "status": "completed"
    },
    "tags": []
   },
   "outputs": [
    {
     "name": "stdout",
     "output_type": "stream",
     "text": [
      "Loading SIAB data from cache: data/siab_cached.csv.gz\n"
     ]
    },
    {
     "name": "stdout",
     "output_type": "stream",
     "text": [
      "(643690, 164)\n"
     ]
    }
   ],
   "source": [
    "from pathlib import Path\n",
    "import pandas as pd\n",
    "\n",
    "# File paths\n",
    "raw_file = Path(\"data/raw/siab.csv\")\n",
    "cache_file = Path(\"data/siab_cached.csv.gz\")\n",
    "\n",
    "# Ensure cache directory exists\n",
    "cache_file.parent.mkdir(parents=True, exist_ok=True)\n",
    "\n",
    "# Load with simple caching\n",
    "if cache_file.exists():\n",
    "    print(f\"Loading SIAB data from cache: {cache_file}\")\n",
    "    siab = pd.read_csv(cache_file, compression='gzip')\n",
    "else:\n",
    "    print(f\"Cache not found. Reading raw SIAB data: {raw_file}\")\n",
    "    siab = pd.read_csv(raw_file)\n",
    "    siab.to_csv(cache_file, index=False, compression='gzip')\n",
    "    print(f\"Cached SIAB data to: {cache_file}\")\n",
    "\n",
    "# Now use `siab` DataFrame as needed\n",
    "print(siab.shape)"
   ]
  },
  {
   "cell_type": "code",
   "execution_count": 10,
   "id": "db0ca512-5f53-4dba-abdb-a2888bca41ba",
   "metadata": {
    "execution": {
     "iopub.execute_input": "2025-07-30T21:03:19.790838Z",
     "iopub.status.busy": "2025-07-30T21:03:19.789832Z",
     "iopub.status.idle": "2025-07-30T21:03:19.795705Z",
     "shell.execute_reply": "2025-07-30T21:03:19.794798Z"
    },
    "papermill": {
     "duration": 0.030924,
     "end_time": "2025-07-30T21:03:19.797646",
     "exception": false,
     "start_time": "2025-07-30T21:03:19.766722",
     "status": "completed"
    },
    "tags": []
   },
   "outputs": [],
   "source": [
    "#siab"
   ]
  },
  {
   "cell_type": "code",
   "execution_count": 11,
   "id": "a0edb063",
   "metadata": {
    "execution": {
     "iopub.execute_input": "2025-07-30T21:03:19.840204Z",
     "iopub.status.busy": "2025-07-30T21:03:19.839566Z",
     "iopub.status.idle": "2025-07-30T21:03:19.844500Z",
     "shell.execute_reply": "2025-07-30T21:03:19.843399Z"
    },
    "papermill": {
     "duration": 0.027822,
     "end_time": "2025-07-30T21:03:19.846492",
     "exception": false,
     "start_time": "2025-07-30T21:03:19.818670",
     "status": "completed"
    },
    "tags": []
   },
   "outputs": [],
   "source": [
    "#import pandas as pd\n",
    "#\n",
    "#X_train = pd.read_csv(\"./data/X_train.csv\")\n",
    "#y_train = pd.read_csv(\"./data/y_train.csv\")"
   ]
  },
  {
   "cell_type": "code",
   "execution_count": 12,
   "id": "63d08085",
   "metadata": {
    "execution": {
     "iopub.execute_input": "2025-07-30T21:03:19.890272Z",
     "iopub.status.busy": "2025-07-30T21:03:19.889758Z",
     "iopub.status.idle": "2025-07-30T21:03:19.894740Z",
     "shell.execute_reply": "2025-07-30T21:03:19.893870Z"
    },
    "papermill": {
     "duration": 0.027909,
     "end_time": "2025-07-30T21:03:19.896418",
     "exception": false,
     "start_time": "2025-07-30T21:03:19.868509",
     "status": "completed"
    },
    "tags": []
   },
   "outputs": [],
   "source": [
    "#X_test = pd.read_csv(\"./data/X_test.csv\")\n",
    "#y_true = pd.read_csv(\"./data/y_test.csv\")"
   ]
  },
  {
   "cell_type": "code",
   "execution_count": 13,
   "id": "98a8d0fa-1d3d-4ed8-bb2c-281470e24add",
   "metadata": {
    "execution": {
     "iopub.execute_input": "2025-07-30T21:03:19.940910Z",
     "iopub.status.busy": "2025-07-30T21:03:19.940278Z",
     "iopub.status.idle": "2025-07-30T21:03:19.945515Z",
     "shell.execute_reply": "2025-07-30T21:03:19.944470Z"
    },
    "papermill": {
     "duration": 0.028789,
     "end_time": "2025-07-30T21:03:19.947039",
     "exception": false,
     "start_time": "2025-07-30T21:03:19.918250",
     "status": "completed"
    },
    "tags": []
   },
   "outputs": [],
   "source": [
    "# Calibration data for conformal\n",
    "#X_calib = pd.read_csv(\"./data/X_calib.csv\")\n",
    "#y_calib = pd.read_csv(\"./data/y_calib.csv\")"
   ]
  },
  {
   "cell_type": "markdown",
   "id": "997051c5-15bd-4b69-9786-c3001a3ce484",
   "metadata": {
    "papermill": {
     "duration": 0.021522,
     "end_time": "2025-07-30T21:03:19.989092",
     "exception": false,
     "start_time": "2025-07-30T21:03:19.967570",
     "status": "completed"
    },
    "tags": []
   },
   "source": [
    "# Splitting Data and Setting Training Data Size"
   ]
  },
  {
   "cell_type": "code",
   "execution_count": 14,
   "id": "e993b61f-042d-41a6-8c81-f55681f86335",
   "metadata": {
    "execution": {
     "iopub.execute_input": "2025-07-30T21:03:20.030734Z",
     "iopub.status.busy": "2025-07-30T21:03:20.030298Z",
     "iopub.status.idle": "2025-07-30T21:03:20.059150Z",
     "shell.execute_reply": "2025-07-30T21:03:20.058236Z"
    },
    "papermill": {
     "duration": 0.051449,
     "end_time": "2025-07-30T21:03:20.060998",
     "exception": false,
     "start_time": "2025-07-30T21:03:20.009549",
     "status": "completed"
    },
    "tags": []
   },
   "outputs": [],
   "source": [
    "def sample_by_year_size(df,\n",
    "                        training_year: str,\n",
    "                        training_size: str,\n",
    "                        random_state: int = 42):\n",
    "    # --- parse training_year into a list of int years ---\n",
    "    if \"_\" in training_year:\n",
    "        start_str, end_str = training_year.split(\"_\", 1)\n",
    "        start = int(start_str)\n",
    "        end   = int(end_str) if len(end_str) == 4 else (int(end_str) + (start // 100)*100)\n",
    "        years = list(range(start, end + 1))\n",
    "    else:\n",
    "        years = [int(training_year)]\n",
    "\n",
    "    df = df[df[\"year\"].isin(years)].reset_index(drop=True)\n",
    "\n",
    "    # --- map training_size to total number of samples ---\n",
    "    total_map = {\"25k\": 25_000, \"5k\": 5_000, \"1k\": 1_000}\n",
    "    if training_size not in total_map:\n",
    "        return df  # e.g. \"all\"\n",
    "\n",
    "    total_samples = total_map[training_size]\n",
    "    n_years       = len(years)\n",
    "    base          = total_samples // n_years\n",
    "    remainder     = total_samples % n_years\n",
    "\n",
    "    # --- build a dict: year -> how many to sample ---\n",
    "    # give +1 to the first `remainder` years in ascending order\n",
    "    quotas = {\n",
    "        year: base + (1 if idx < remainder else 0)\n",
    "        for idx, year in enumerate(sorted(years))\n",
    "    }\n",
    "\n",
    "    # --- sample per‐year according to the quota dict ---\n",
    "    sampled = (\n",
    "        df\n",
    "        .groupby(\"year\", group_keys=False)\n",
    "        .apply(lambda grp: grp.sample(\n",
    "            n=min(len(grp), quotas[grp.name]),\n",
    "            random_state=random_state))\n",
    "        .reset_index(drop=True)\n",
    "    )\n",
    "\n",
    "    return sampled"
   ]
  },
  {
   "cell_type": "code",
   "execution_count": 15,
   "id": "c0ccd338-0e02-41f3-a09d-f56f9266e3fb",
   "metadata": {
    "execution": {
     "iopub.execute_input": "2025-07-30T21:03:20.104586Z",
     "iopub.status.busy": "2025-07-30T21:03:20.104129Z",
     "iopub.status.idle": "2025-07-30T21:03:20.108995Z",
     "shell.execute_reply": "2025-07-30T21:03:20.107968Z"
    },
    "papermill": {
     "duration": 0.028121,
     "end_time": "2025-07-30T21:03:20.110877",
     "exception": false,
     "start_time": "2025-07-30T21:03:20.082756",
     "status": "completed"
    },
    "tags": []
   },
   "outputs": [],
   "source": [
    "#universe[\"training_size\"]"
   ]
  },
  {
   "cell_type": "code",
   "execution_count": 16,
   "id": "ca707fd7-8047-4acd-bfa5-66248fbbf8e6",
   "metadata": {
    "execution": {
     "iopub.execute_input": "2025-07-30T21:03:20.155685Z",
     "iopub.status.busy": "2025-07-30T21:03:20.155206Z",
     "iopub.status.idle": "2025-07-30T21:03:20.160170Z",
     "shell.execute_reply": "2025-07-30T21:03:20.159280Z"
    },
    "papermill": {
     "duration": 0.028802,
     "end_time": "2025-07-30T21:03:20.161794",
     "exception": false,
     "start_time": "2025-07-30T21:03:20.132992",
     "status": "completed"
    },
    "tags": []
   },
   "outputs": [],
   "source": [
    "#universe[\"training_year\"]"
   ]
  },
  {
   "cell_type": "code",
   "execution_count": 17,
   "id": "aea9c6ef-6f46-42c8-85eb-5a62025c1508",
   "metadata": {
    "execution": {
     "iopub.execute_input": "2025-07-30T21:03:20.207943Z",
     "iopub.status.busy": "2025-07-30T21:03:20.207265Z",
     "iopub.status.idle": "2025-07-30T21:03:20.817376Z",
     "shell.execute_reply": "2025-07-30T21:03:20.816331Z"
    },
    "papermill": {
     "duration": 0.634962,
     "end_time": "2025-07-30T21:03:20.819203",
     "exception": false,
     "start_time": "2025-07-30T21:03:20.184241",
     "status": "completed"
    },
    "tags": []
   },
   "outputs": [],
   "source": [
    "siab_train = sample_by_year_size(siab,\n",
    "                               training_year=universe[\"training_year\"],\n",
    "                               training_size=universe[\"training_size\"])"
   ]
  },
  {
   "cell_type": "code",
   "execution_count": 18,
   "id": "8d3afb32-789d-442c-8d5d-9f5aa8dd2eed",
   "metadata": {
    "execution": {
     "iopub.execute_input": "2025-07-30T21:03:20.860409Z",
     "iopub.status.busy": "2025-07-30T21:03:20.859912Z",
     "iopub.status.idle": "2025-07-30T21:03:20.865618Z",
     "shell.execute_reply": "2025-07-30T21:03:20.864612Z"
    },
    "papermill": {
     "duration": 0.02743,
     "end_time": "2025-07-30T21:03:20.867123",
     "exception": false,
     "start_time": "2025-07-30T21:03:20.839693",
     "status": "completed"
    },
    "tags": []
   },
   "outputs": [],
   "source": [
    "#siab_train.shape"
   ]
  },
  {
   "cell_type": "code",
   "execution_count": 19,
   "id": "d582db68-1a4c-47fb-84fc-08518dc1975a",
   "metadata": {
    "execution": {
     "iopub.execute_input": "2025-07-30T21:03:20.907823Z",
     "iopub.status.busy": "2025-07-30T21:03:20.907021Z",
     "iopub.status.idle": "2025-07-30T21:03:20.912207Z",
     "shell.execute_reply": "2025-07-30T21:03:20.911307Z"
    },
    "papermill": {
     "duration": 0.026718,
     "end_time": "2025-07-30T21:03:20.913789",
     "exception": false,
     "start_time": "2025-07-30T21:03:20.887071",
     "status": "completed"
    },
    "tags": []
   },
   "outputs": [],
   "source": [
    "#display(siab_train.groupby(\"year\").size())"
   ]
  },
  {
   "cell_type": "code",
   "execution_count": 20,
   "id": "a561edb4-d032-42cb-8256-22eac1111c64",
   "metadata": {
    "execution": {
     "iopub.execute_input": "2025-07-30T21:03:20.955551Z",
     "iopub.status.busy": "2025-07-30T21:03:20.954836Z",
     "iopub.status.idle": "2025-07-30T21:03:21.204101Z",
     "shell.execute_reply": "2025-07-30T21:03:21.203147Z"
    },
    "papermill": {
     "duration": 0.271656,
     "end_time": "2025-07-30T21:03:21.206087",
     "exception": false,
     "start_time": "2025-07-30T21:03:20.934431",
     "status": "completed"
    },
    "tags": []
   },
   "outputs": [],
   "source": [
    "#siab_train = siab_s[siab_s.year < 2015]\n",
    "siab_calib = siab[siab.year == 2015]\n",
    "siab_test = siab[siab.year == 2016]"
   ]
  },
  {
   "cell_type": "code",
   "execution_count": 21,
   "id": "472de16f-c3db-4916-846b-1f0de9cf1746",
   "metadata": {
    "execution": {
     "iopub.execute_input": "2025-07-30T21:03:21.250462Z",
     "iopub.status.busy": "2025-07-30T21:03:21.249781Z",
     "iopub.status.idle": "2025-07-30T21:03:21.258176Z",
     "shell.execute_reply": "2025-07-30T21:03:21.257205Z"
    },
    "papermill": {
     "duration": 0.033674,
     "end_time": "2025-07-30T21:03:21.259757",
     "exception": false,
     "start_time": "2025-07-30T21:03:21.226083",
     "status": "completed"
    },
    "tags": []
   },
   "outputs": [],
   "source": [
    "X_train = siab_train.iloc[:,4:164]\n",
    "y_train = siab_train.iloc[:, [3]]"
   ]
  },
  {
   "cell_type": "code",
   "execution_count": 22,
   "id": "828c96af-f43a-4ed6-ba47-8ac73a47d56c",
   "metadata": {
    "execution": {
     "iopub.execute_input": "2025-07-30T21:03:21.301846Z",
     "iopub.status.busy": "2025-07-30T21:03:21.300990Z",
     "iopub.status.idle": "2025-07-30T21:03:21.351743Z",
     "shell.execute_reply": "2025-07-30T21:03:21.350712Z"
    },
    "papermill": {
     "duration": 0.07309,
     "end_time": "2025-07-30T21:03:21.353605",
     "exception": false,
     "start_time": "2025-07-30T21:03:21.280515",
     "status": "completed"
    },
    "tags": []
   },
   "outputs": [],
   "source": [
    "X_calib = siab_calib.iloc[:,4:164]\n",
    "y_calib = siab_calib.iloc[:, [3]]"
   ]
  },
  {
   "cell_type": "code",
   "execution_count": 23,
   "id": "c34be9c3-6bd6-476e-acd3-845840e303be",
   "metadata": {
    "execution": {
     "iopub.execute_input": "2025-07-30T21:03:21.396239Z",
     "iopub.status.busy": "2025-07-30T21:03:21.395420Z",
     "iopub.status.idle": "2025-07-30T21:03:21.449141Z",
     "shell.execute_reply": "2025-07-30T21:03:21.448242Z"
    },
    "papermill": {
     "duration": 0.076744,
     "end_time": "2025-07-30T21:03:21.451272",
     "exception": false,
     "start_time": "2025-07-30T21:03:21.374528",
     "status": "completed"
    },
    "tags": []
   },
   "outputs": [],
   "source": [
    "X_test = siab_test.iloc[:,4:164]\n",
    "y_true = siab_test.iloc[:, [3]]"
   ]
  },
  {
   "cell_type": "markdown",
   "id": "9901737e-04df-44f0-9100-f5ad144ed040",
   "metadata": {
    "papermill": {
     "duration": 0.019213,
     "end_time": "2025-07-30T21:03:21.492099",
     "exception": false,
     "start_time": "2025-07-30T21:03:21.472886",
     "status": "completed"
    },
    "tags": []
   },
   "source": [
    "# Splitting Data and Setting Training Data Size OLD VERSION"
   ]
  },
  {
   "cell_type": "code",
   "execution_count": 24,
   "id": "acbc8f7d-8fc8-4e86-8c59-5dcb0f58384b",
   "metadata": {
    "execution": {
     "iopub.execute_input": "2025-07-30T21:03:21.534236Z",
     "iopub.status.busy": "2025-07-30T21:03:21.533401Z",
     "iopub.status.idle": "2025-07-30T21:03:21.538896Z",
     "shell.execute_reply": "2025-07-30T21:03:21.537961Z"
    },
    "papermill": {
     "duration": 0.027474,
     "end_time": "2025-07-30T21:03:21.540374",
     "exception": false,
     "start_time": "2025-07-30T21:03:21.512900",
     "status": "completed"
    },
    "tags": []
   },
   "outputs": [],
   "source": [
    "#def sample_by_year(df, training_size, random_state=42):\n",
    "#    if training_size == \"2014\":\n",
    "#        return df[df[\"year\"] == 2014].reset_index(drop=True)\n",
    "#    \n",
    "#    size_map = {\n",
    "#        \"25k\": 5000,\n",
    "#        \"5k\": 1000,\n",
    "#        \"1k\": 200\n",
    "#    }\n",
    "#\n",
    "#    if training_size not in size_map:\n",
    "#        return df.reset_index(drop=True)  # use all data\n",
    "#\n",
    "#    n_per_year = size_map[training_size]\n",
    "#    grouped = df.groupby(\"year\")\n",
    "#    sampled = grouped.apply(lambda x: x.sample(n=min(n_per_year, len(x)), random_state=random_state))\n",
    "#    return sampled.reset_index(drop=True)"
   ]
  },
  {
   "cell_type": "code",
   "execution_count": 25,
   "id": "6d931f52-beaf-43ff-9e78-9d44a448d54e",
   "metadata": {
    "execution": {
     "iopub.execute_input": "2025-07-30T21:03:21.581395Z",
     "iopub.status.busy": "2025-07-30T21:03:21.580963Z",
     "iopub.status.idle": "2025-07-30T21:03:21.585887Z",
     "shell.execute_reply": "2025-07-30T21:03:21.584946Z"
    },
    "papermill": {
     "duration": 0.026776,
     "end_time": "2025-07-30T21:03:21.587453",
     "exception": false,
     "start_time": "2025-07-30T21:03:21.560677",
     "status": "completed"
    },
    "tags": []
   },
   "outputs": [],
   "source": [
    "#siab_s = sample_by_year(siab, universe[\"training_size\"])"
   ]
  },
  {
   "cell_type": "code",
   "execution_count": 26,
   "id": "5db0a40e-a4e2-4920-be85-b12ae061d70d",
   "metadata": {
    "execution": {
     "iopub.execute_input": "2025-07-30T21:03:21.629931Z",
     "iopub.status.busy": "2025-07-30T21:03:21.629182Z",
     "iopub.status.idle": "2025-07-30T21:03:21.634368Z",
     "shell.execute_reply": "2025-07-30T21:03:21.633338Z"
    },
    "papermill": {
     "duration": 0.027871,
     "end_time": "2025-07-30T21:03:21.636382",
     "exception": false,
     "start_time": "2025-07-30T21:03:21.608511",
     "status": "completed"
    },
    "tags": []
   },
   "outputs": [],
   "source": [
    "#display(siab_s.groupby(\"year\").size())"
   ]
  },
  {
   "cell_type": "code",
   "execution_count": 27,
   "id": "e6c733c5",
   "metadata": {
    "execution": {
     "iopub.execute_input": "2025-07-30T21:03:21.678961Z",
     "iopub.status.busy": "2025-07-30T21:03:21.678488Z",
     "iopub.status.idle": "2025-07-30T21:03:21.772741Z",
     "shell.execute_reply": "2025-07-30T21:03:21.771837Z"
    },
    "papermill": {
     "duration": 0.117168,
     "end_time": "2025-07-30T21:03:21.774577",
     "exception": false,
     "start_time": "2025-07-30T21:03:21.657409",
     "status": "completed"
    },
    "tags": []
   },
   "outputs": [],
   "source": [
    "# Auxiliary data needed downstream in the pipeline\n",
    "\n",
    "org_train = X_train.copy()\n",
    "org_test = X_test.copy()\n",
    "org_calib = X_calib.copy()"
   ]
  },
  {
   "cell_type": "code",
   "execution_count": 28,
   "id": "1466abac-c6da-4492-a62f-4240ae3783af",
   "metadata": {
    "execution": {
     "iopub.execute_input": "2025-07-30T21:03:21.817166Z",
     "iopub.status.busy": "2025-07-30T21:03:21.816484Z",
     "iopub.status.idle": "2025-07-30T21:03:21.822481Z",
     "shell.execute_reply": "2025-07-30T21:03:21.821474Z"
    },
    "papermill": {
     "duration": 0.029251,
     "end_time": "2025-07-30T21:03:21.824187",
     "exception": false,
     "start_time": "2025-07-30T21:03:21.794936",
     "status": "completed"
    },
    "tags": []
   },
   "outputs": [],
   "source": [
    "# put in other script?\n",
    "# Group sizes\n",
    "\n",
    "#def calculate_percentages(df, df_name):\n",
    "#    total_entries = len(df)\n",
    "#\n",
    "#    female_pct = (df['frau1'] == 1).mean() * 100\n",
    "#    non_german_pct = ((df['maxdeutsch1'] == 0) & (df['maxdeutsch.Missing.'] == 0)).mean() * 100\n",
    "#    non_german_male_pct = ((df['frau1'] == 0) & (df['maxdeutsch1'] == 0) & (df['maxdeutsch.Missing.'] == 0)).mean() * 100\n",
    "#    non_german_female_pct = ((df['frau1'] == 1) & (df['maxdeutsch1'] == 0) & (df['maxdeutsch.Missing.'] == 0)).mean() * 100\n",
    "#\n",
    "#    print(f\"--- {df_name} ---\")\n",
    "#    print(f\"Female: {female_pct:.2f}%\")\n",
    "#    print(f\"Non-German: {non_german_pct:.2f}%\")\n",
    "#    print(f\"Non-German Male: {non_german_male_pct:.2f}%\")\n",
    "#    print(f\"Non-German Female: {non_german_female_pct:.2f}%\\n\")\n",
    "#\n",
    "## Calculate for each DataFrame\n",
    "#calculate_percentages(siab_calib, \"siab_calib\")\n",
    "#calculate_percentages(siab_test, \"siab_test\")\n",
    "#calculate_percentages(siab_train, \"siab_train\")"
   ]
  },
  {
   "cell_type": "markdown",
   "id": "0a4a1b33",
   "metadata": {
    "papermill": {
     "duration": 0.021483,
     "end_time": "2025-07-30T21:03:21.867326",
     "exception": false,
     "start_time": "2025-07-30T21:03:21.845843",
     "status": "completed"
    },
    "tags": []
   },
   "source": [
    "# Preprocessing Data"
   ]
  },
  {
   "cell_type": "code",
   "execution_count": 29,
   "id": "ca879031",
   "metadata": {
    "execution": {
     "iopub.execute_input": "2025-07-30T21:03:21.912060Z",
     "iopub.status.busy": "2025-07-30T21:03:21.911339Z",
     "iopub.status.idle": "2025-07-30T21:03:21.917644Z",
     "shell.execute_reply": "2025-07-30T21:03:21.916573Z"
    },
    "papermill": {
     "duration": 0.030744,
     "end_time": "2025-07-30T21:03:21.919501",
     "exception": false,
     "start_time": "2025-07-30T21:03:21.888757",
     "status": "completed"
    },
    "tags": []
   },
   "outputs": [],
   "source": [
    "# EXCLUDE PROTECTED FEATURES\n",
    "# ----------------------\n",
    "# \"exclude_features\": \"none\", # \"nationality\", \"sex\", \"nationality-sex\"\n",
    "\n",
    "excluded_features = universe[\"exclude_features\"].split(\"-\") # split, e.g.: \"nationality-sex\" -> [\"nationality\", \"sex\"]\n",
    "excluded_features_dictionary = {\n",
    "    \"nationality\": [\"maxdeutsch1\", \"maxdeutsch.Missing.\"],\n",
    "    \"sex\": [\"frau1\"],\n",
    "    \"age\": [\"age\"],\n",
    "}\n"
   ]
  },
  {
   "cell_type": "code",
   "execution_count": 30,
   "id": "b745ac60",
   "metadata": {
    "execution": {
     "iopub.execute_input": "2025-07-30T21:03:21.965507Z",
     "iopub.status.busy": "2025-07-30T21:03:21.965058Z",
     "iopub.status.idle": "2025-07-30T21:03:21.970665Z",
     "shell.execute_reply": "2025-07-30T21:03:21.969590Z"
    },
    "papermill": {
     "duration": 0.029945,
     "end_time": "2025-07-30T21:03:21.972385",
     "exception": false,
     "start_time": "2025-07-30T21:03:21.942440",
     "status": "completed"
    },
    "tags": []
   },
   "outputs": [],
   "source": [
    "# Code nice names to column names\n",
    "\n",
    "excluded_features_columns = [\n",
    "    excluded_features_dictionary[f] for f in excluded_features if len(f) > 0 and f != \"none\"\n",
    "]"
   ]
  },
  {
   "cell_type": "code",
   "execution_count": 31,
   "id": "f84f73a2",
   "metadata": {
    "execution": {
     "iopub.execute_input": "2025-07-30T21:03:22.018623Z",
     "iopub.status.busy": "2025-07-30T21:03:22.018177Z",
     "iopub.status.idle": "2025-07-30T21:03:22.024331Z",
     "shell.execute_reply": "2025-07-30T21:03:22.023443Z"
    },
    "papermill": {
     "duration": 0.030661,
     "end_time": "2025-07-30T21:03:22.025914",
     "exception": false,
     "start_time": "2025-07-30T21:03:21.995253",
     "status": "completed"
    },
    "tags": []
   },
   "outputs": [],
   "source": [
    "from utils import flatten_once\n",
    "\n",
    "excluded_features_columns = flatten_once(excluded_features_columns)"
   ]
  },
  {
   "cell_type": "code",
   "execution_count": 32,
   "id": "884dea22",
   "metadata": {
    "execution": {
     "iopub.execute_input": "2025-07-30T21:03:22.071157Z",
     "iopub.status.busy": "2025-07-30T21:03:22.070524Z",
     "iopub.status.idle": "2025-07-30T21:03:22.081836Z",
     "shell.execute_reply": "2025-07-30T21:03:22.080874Z"
    },
    "papermill": {
     "duration": 0.03613,
     "end_time": "2025-07-30T21:03:22.083391",
     "exception": false,
     "start_time": "2025-07-30T21:03:22.047261",
     "status": "completed"
    },
    "tags": []
   },
   "outputs": [
    {
     "name": "stdout",
     "output_type": "stream",
     "text": [
      "Dropping features: ['frau1']\n"
     ]
    }
   ],
   "source": [
    "if len(excluded_features_columns) > 0:\n",
    "    print(f\"Dropping features: {excluded_features_columns}\")\n",
    "    X_train.drop(excluded_features_columns, axis=1, inplace=True)"
   ]
  },
  {
   "cell_type": "code",
   "execution_count": 33,
   "id": "95ab8b16",
   "metadata": {
    "execution": {
     "iopub.execute_input": "2025-07-30T21:03:22.129339Z",
     "iopub.status.busy": "2025-07-30T21:03:22.128703Z",
     "iopub.status.idle": "2025-07-30T21:03:22.186739Z",
     "shell.execute_reply": "2025-07-30T21:03:22.185725Z"
    },
    "papermill": {
     "duration": 0.082925,
     "end_time": "2025-07-30T21:03:22.188545",
     "exception": false,
     "start_time": "2025-07-30T21:03:22.105620",
     "status": "completed"
    },
    "tags": []
   },
   "outputs": [
    {
     "name": "stdout",
     "output_type": "stream",
     "text": [
      "Dropping features: ['frau1']\n"
     ]
    }
   ],
   "source": [
    "if len(excluded_features_columns) > 0:\n",
    "    print(f\"Dropping features: {excluded_features_columns}\")\n",
    "    X_test.drop(excluded_features_columns, axis=1, inplace=True)"
   ]
  },
  {
   "cell_type": "code",
   "execution_count": 34,
   "id": "1853aaf5-fb9f-46cb-a2b5-8ea4ae2237e4",
   "metadata": {
    "execution": {
     "iopub.execute_input": "2025-07-30T21:03:22.238495Z",
     "iopub.status.busy": "2025-07-30T21:03:22.237500Z",
     "iopub.status.idle": "2025-07-30T21:03:22.293262Z",
     "shell.execute_reply": "2025-07-30T21:03:22.292195Z"
    },
    "papermill": {
     "duration": 0.083138,
     "end_time": "2025-07-30T21:03:22.294848",
     "exception": false,
     "start_time": "2025-07-30T21:03:22.211710",
     "status": "completed"
    },
    "tags": []
   },
   "outputs": [
    {
     "name": "stdout",
     "output_type": "stream",
     "text": [
      "Dropping features: ['frau1']\n"
     ]
    }
   ],
   "source": [
    "if len(excluded_features_columns) > 0:\n",
    "    print(f\"Dropping features: {excluded_features_columns}\")\n",
    "    X_calib.drop(excluded_features_columns, axis=1, inplace=True)"
   ]
  },
  {
   "cell_type": "code",
   "execution_count": 35,
   "id": "6727d079-03e5-481e-9d38-292a90b7a0a8",
   "metadata": {
    "execution": {
     "iopub.execute_input": "2025-07-30T21:03:22.342037Z",
     "iopub.status.busy": "2025-07-30T21:03:22.340394Z",
     "iopub.status.idle": "2025-07-30T21:03:22.346729Z",
     "shell.execute_reply": "2025-07-30T21:03:22.345716Z"
    },
    "papermill": {
     "duration": 0.032105,
     "end_time": "2025-07-30T21:03:22.348661",
     "exception": false,
     "start_time": "2025-07-30T21:03:22.316556",
     "status": "completed"
    },
    "tags": []
   },
   "outputs": [],
   "source": [
    "# SPLIT & STRATIFY DATA\n",
    "# ----------------------"
   ]
  },
  {
   "cell_type": "code",
   "execution_count": 36,
   "id": "76c4dc6d",
   "metadata": {
    "execution": {
     "iopub.execute_input": "2025-07-30T21:03:22.395400Z",
     "iopub.status.busy": "2025-07-30T21:03:22.394634Z",
     "iopub.status.idle": "2025-07-30T21:03:22.400470Z",
     "shell.execute_reply": "2025-07-30T21:03:22.399522Z"
    },
    "papermill": {
     "duration": 0.030183,
     "end_time": "2025-07-30T21:03:22.402149",
     "exception": false,
     "start_time": "2025-07-30T21:03:22.371966",
     "status": "completed"
    },
    "tags": []
   },
   "outputs": [],
   "source": [
    "# EXCLUDE CERTAIN SUBGROUPS\n",
    "# ----------------------\n",
    "\n",
    "mode = universe.get(\"exclude_subgroups\", \"keep-all\") \n",
    "# Fetches the exclude_subgroups setting from the universe dict.\n",
    "# Defaults to \"keep-all\" if the key is missing."
   ]
  },
  {
   "cell_type": "code",
   "execution_count": 37,
   "id": "21994072",
   "metadata": {
    "execution": {
     "iopub.execute_input": "2025-07-30T21:03:22.449954Z",
     "iopub.status.busy": "2025-07-30T21:03:22.449309Z",
     "iopub.status.idle": "2025-07-30T21:03:22.456502Z",
     "shell.execute_reply": "2025-07-30T21:03:22.455487Z"
    },
    "papermill": {
     "duration": 0.031688,
     "end_time": "2025-07-30T21:03:22.458142",
     "exception": false,
     "start_time": "2025-07-30T21:03:22.426454",
     "status": "completed"
    },
    "tags": []
   },
   "outputs": [],
   "source": [
    "if mode == \"keep-all\":\n",
    "    keep_mask = pd.Series(True, index=org_train.index)\n",
    "\n",
    "# org_train contains the original feature columns from features_org (in Simson)\n",
    "# features_org contains unprocessed features, for me X_train at beginning ???\n",
    "# For keep-all, creates a boolean Series (keep_mask) of all True, so no rows are removed.\n",
    "\n",
    "elif mode == \"drop-non-german\":\n",
    "    keep_mask = org_train[\"maxdeutsch1\"] == 1 # ??? what about missing values?\n",
    "\n",
    "else:\n",
    "    raise ValueError(f\"Unsupported mode for exclude_subgroups: {mode}\")\n"
   ]
  },
  {
   "cell_type": "code",
   "execution_count": 38,
   "id": "71651440",
   "metadata": {
    "execution": {
     "iopub.execute_input": "2025-07-30T21:03:22.505935Z",
     "iopub.status.busy": "2025-07-30T21:03:22.505333Z",
     "iopub.status.idle": "2025-07-30T21:03:22.512697Z",
     "shell.execute_reply": "2025-07-30T21:03:22.511748Z"
    },
    "papermill": {
     "duration": 0.032224,
     "end_time": "2025-07-30T21:03:22.514284",
     "exception": false,
     "start_time": "2025-07-30T21:03:22.482060",
     "status": "completed"
    },
    "tags": []
   },
   "outputs": [
    {
     "name": "stdout",
     "output_type": "stream",
     "text": [
      "Dropping 665 rows (13.30%) where mode='drop-non-german'\n"
     ]
    }
   ],
   "source": [
    "n_drop = (~keep_mask).sum() # Calculates how many rows are set to be dropped\n",
    "if n_drop > 0:\n",
    "    pct = n_drop / len(keep_mask) * 100\n",
    "    print(f\"Dropping {n_drop} rows ({pct:.2f}%) where mode='{mode}'\")"
   ]
  },
  {
   "cell_type": "code",
   "execution_count": 39,
   "id": "5fb8eee5",
   "metadata": {
    "execution": {
     "iopub.execute_input": "2025-07-30T21:03:22.561576Z",
     "iopub.status.busy": "2025-07-30T21:03:22.560945Z",
     "iopub.status.idle": "2025-07-30T21:03:22.569383Z",
     "shell.execute_reply": "2025-07-30T21:03:22.568315Z"
    },
    "papermill": {
     "duration": 0.034157,
     "end_time": "2025-07-30T21:03:22.571142",
     "exception": false,
     "start_time": "2025-07-30T21:03:22.536985",
     "status": "completed"
    },
    "tags": []
   },
   "outputs": [],
   "source": [
    "X_train = X_train[keep_mask]"
   ]
  },
  {
   "cell_type": "code",
   "execution_count": 40,
   "id": "b202bb3a",
   "metadata": {
    "execution": {
     "iopub.execute_input": "2025-07-30T21:03:22.619963Z",
     "iopub.status.busy": "2025-07-30T21:03:22.619514Z",
     "iopub.status.idle": "2025-07-30T21:03:22.625351Z",
     "shell.execute_reply": "2025-07-30T21:03:22.624455Z"
    },
    "papermill": {
     "duration": 0.032501,
     "end_time": "2025-07-30T21:03:22.627148",
     "exception": false,
     "start_time": "2025-07-30T21:03:22.594647",
     "status": "completed"
    },
    "tags": []
   },
   "outputs": [],
   "source": [
    "y_train = y_train[keep_mask]"
   ]
  },
  {
   "cell_type": "markdown",
   "id": "493e2ac3",
   "metadata": {
    "papermill": {
     "duration": 0.021803,
     "end_time": "2025-07-30T21:03:22.672016",
     "exception": false,
     "start_time": "2025-07-30T21:03:22.650213",
     "status": "completed"
    },
    "tags": []
   },
   "source": [
    "# Model Training"
   ]
  },
  {
   "cell_type": "code",
   "execution_count": 41,
   "id": "679e1268",
   "metadata": {
    "execution": {
     "iopub.execute_input": "2025-07-30T21:03:22.719692Z",
     "iopub.status.busy": "2025-07-30T21:03:22.719184Z",
     "iopub.status.idle": "2025-07-30T21:03:22.824072Z",
     "shell.execute_reply": "2025-07-30T21:03:22.823081Z"
    },
    "papermill": {
     "duration": 0.130583,
     "end_time": "2025-07-30T21:03:22.826033",
     "exception": false,
     "start_time": "2025-07-30T21:03:22.695450",
     "status": "completed"
    },
    "tags": []
   },
   "outputs": [],
   "source": [
    "from sklearn.linear_model import LogisticRegression\n",
    "from sklearn.ensemble import GradientBoostingClassifier, RandomForestClassifier\n",
    "\n",
    "if (universe[\"model\"] == \"logreg\"):\n",
    "    model = LogisticRegression() #penalty=\"none\") #, solver=\"newton-cg\", max_iter=1) # include random_state=19 ?\n",
    "elif (universe[\"model\"] == \"penalized_logreg\"):\n",
    "    model = LogisticRegression(penalty=\"l2\", C=1.0) #, solver=\"newton-cg\", max_iter=1)\n",
    "elif (universe[\"model\"] == \"rf\"):\n",
    "    model = RandomForestClassifier(n_estimators=100, n_jobs=-1)\n",
    "elif (universe[\"model\"] == \"gbm\"):\n",
    "    model = GradientBoostingClassifier()\n",
    "elif (universe[\"model\"] == \"elasticnet\"):\n",
    "    model = LogisticRegression(penalty = 'elasticnet', solver = 'saga', l1_ratio = 0.5, max_iter=5000) # which solver to use?\n",
    "else:\n",
    "    raise \"Unsupported universe.model\""
   ]
  },
  {
   "cell_type": "code",
   "execution_count": 42,
   "id": "0cc8f744",
   "metadata": {
    "execution": {
     "iopub.execute_input": "2025-07-30T21:03:22.873271Z",
     "iopub.status.busy": "2025-07-30T21:03:22.872626Z",
     "iopub.status.idle": "2025-07-30T21:03:22.878821Z",
     "shell.execute_reply": "2025-07-30T21:03:22.877731Z"
    },
    "papermill": {
     "duration": 0.031462,
     "end_time": "2025-07-30T21:03:22.880643",
     "exception": false,
     "start_time": "2025-07-30T21:03:22.849181",
     "status": "completed"
    },
    "tags": []
   },
   "outputs": [],
   "source": [
    "import numpy as np\n",
    "from sklearn.pipeline import Pipeline\n",
    "from sklearn.preprocessing import StandardScaler\n",
    "\n",
    "model = Pipeline([\n",
    "    #(\"continuous_processor\", continuous_processor),\n",
    "    #(\"categorical_preprocessor\", categorical_preprocessor),\n",
    "    (\"scale\", StandardScaler() if universe[\"scale\"] == \"scale\" else None), \n",
    "    (\"model\", model),\n",
    "])"
   ]
  },
  {
   "cell_type": "code",
   "execution_count": 43,
   "id": "9442c04d",
   "metadata": {
    "execution": {
     "iopub.execute_input": "2025-07-30T21:03:22.937382Z",
     "iopub.status.busy": "2025-07-30T21:03:22.936897Z",
     "iopub.status.idle": "2025-07-30T21:03:23.062566Z",
     "shell.execute_reply": "2025-07-30T21:03:23.061548Z"
    },
    "papermill": {
     "duration": 0.159518,
     "end_time": "2025-07-30T21:03:23.064242",
     "exception": false,
     "start_time": "2025-07-30T21:03:22.904724",
     "status": "completed"
    },
    "tags": []
   },
   "outputs": [
    {
     "name": "stderr",
     "output_type": "stream",
     "text": [
      "/dss/dsshome1/0C/ra93lal2/.local/share/virtualenvs/CMA_Fairness_v2-3j10GkSs/lib/python3.10/site-packages/sklearn/linear_model/_logistic.py:444: ConvergenceWarning: lbfgs failed to converge (status=1):\n",
      "STOP: TOTAL NO. of ITERATIONS REACHED LIMIT.\n",
      "\n",
      "Increase the number of iterations (max_iter) or scale the data as shown in:\n",
      "    https://scikit-learn.org/stable/modules/preprocessing.html\n",
      "Please also refer to the documentation for alternative solver options:\n",
      "    https://scikit-learn.org/stable/modules/linear_model.html#logistic-regression\n",
      "  n_iter_i = _check_optimize_result(\n"
     ]
    },
    {
     "data": {
      "text/html": [
       "<style>#sk-container-id-1 {color: black;background-color: white;}#sk-container-id-1 pre{padding: 0;}#sk-container-id-1 div.sk-toggleable {background-color: white;}#sk-container-id-1 label.sk-toggleable__label {cursor: pointer;display: block;width: 100%;margin-bottom: 0;padding: 0.3em;box-sizing: border-box;text-align: center;}#sk-container-id-1 label.sk-toggleable__label-arrow:before {content: \"▸\";float: left;margin-right: 0.25em;color: #696969;}#sk-container-id-1 label.sk-toggleable__label-arrow:hover:before {color: black;}#sk-container-id-1 div.sk-estimator:hover label.sk-toggleable__label-arrow:before {color: black;}#sk-container-id-1 div.sk-toggleable__content {max-height: 0;max-width: 0;overflow: hidden;text-align: left;background-color: #f0f8ff;}#sk-container-id-1 div.sk-toggleable__content pre {margin: 0.2em;color: black;border-radius: 0.25em;background-color: #f0f8ff;}#sk-container-id-1 input.sk-toggleable__control:checked~div.sk-toggleable__content {max-height: 200px;max-width: 100%;overflow: auto;}#sk-container-id-1 input.sk-toggleable__control:checked~label.sk-toggleable__label-arrow:before {content: \"▾\";}#sk-container-id-1 div.sk-estimator input.sk-toggleable__control:checked~label.sk-toggleable__label {background-color: #d4ebff;}#sk-container-id-1 div.sk-label input.sk-toggleable__control:checked~label.sk-toggleable__label {background-color: #d4ebff;}#sk-container-id-1 input.sk-hidden--visually {border: 0;clip: rect(1px 1px 1px 1px);clip: rect(1px, 1px, 1px, 1px);height: 1px;margin: -1px;overflow: hidden;padding: 0;position: absolute;width: 1px;}#sk-container-id-1 div.sk-estimator {font-family: monospace;background-color: #f0f8ff;border: 1px dotted black;border-radius: 0.25em;box-sizing: border-box;margin-bottom: 0.5em;}#sk-container-id-1 div.sk-estimator:hover {background-color: #d4ebff;}#sk-container-id-1 div.sk-parallel-item::after {content: \"\";width: 100%;border-bottom: 1px solid gray;flex-grow: 1;}#sk-container-id-1 div.sk-label:hover label.sk-toggleable__label {background-color: #d4ebff;}#sk-container-id-1 div.sk-serial::before {content: \"\";position: absolute;border-left: 1px solid gray;box-sizing: border-box;top: 0;bottom: 0;left: 50%;z-index: 0;}#sk-container-id-1 div.sk-serial {display: flex;flex-direction: column;align-items: center;background-color: white;padding-right: 0.2em;padding-left: 0.2em;position: relative;}#sk-container-id-1 div.sk-item {position: relative;z-index: 1;}#sk-container-id-1 div.sk-parallel {display: flex;align-items: stretch;justify-content: center;background-color: white;position: relative;}#sk-container-id-1 div.sk-item::before, #sk-container-id-1 div.sk-parallel-item::before {content: \"\";position: absolute;border-left: 1px solid gray;box-sizing: border-box;top: 0;bottom: 0;left: 50%;z-index: -1;}#sk-container-id-1 div.sk-parallel-item {display: flex;flex-direction: column;z-index: 1;position: relative;background-color: white;}#sk-container-id-1 div.sk-parallel-item:first-child::after {align-self: flex-end;width: 50%;}#sk-container-id-1 div.sk-parallel-item:last-child::after {align-self: flex-start;width: 50%;}#sk-container-id-1 div.sk-parallel-item:only-child::after {width: 0;}#sk-container-id-1 div.sk-dashed-wrapped {border: 1px dashed gray;margin: 0 0.4em 0.5em 0.4em;box-sizing: border-box;padding-bottom: 0.4em;background-color: white;}#sk-container-id-1 div.sk-label label {font-family: monospace;font-weight: bold;display: inline-block;line-height: 1.2em;}#sk-container-id-1 div.sk-label-container {text-align: center;}#sk-container-id-1 div.sk-container {/* jupyter's `normalize.less` sets `[hidden] { display: none; }` but bootstrap.min.css set `[hidden] { display: none !important; }` so we also need the `!important` here to be able to override the default hidden behavior on the sphinx rendered scikit-learn.org. See: https://github.com/scikit-learn/scikit-learn/issues/21755 */display: inline-block !important;position: relative;}#sk-container-id-1 div.sk-text-repr-fallback {display: none;}</style><div id=\"sk-container-id-1\" class=\"sk-top-container\"><div class=\"sk-text-repr-fallback\"><pre>Pipeline(steps=[(&#x27;scale&#x27;, None), (&#x27;model&#x27;, LogisticRegression())])</pre><b>In a Jupyter environment, please rerun this cell to show the HTML representation or trust the notebook. <br />On GitHub, the HTML representation is unable to render, please try loading this page with nbviewer.org.</b></div><div class=\"sk-container\" hidden><div class=\"sk-item sk-dashed-wrapped\"><div class=\"sk-label-container\"><div class=\"sk-label sk-toggleable\"><input class=\"sk-toggleable__control sk-hidden--visually\" id=\"sk-estimator-id-1\" type=\"checkbox\" ><label for=\"sk-estimator-id-1\" class=\"sk-toggleable__label sk-toggleable__label-arrow\">Pipeline</label><div class=\"sk-toggleable__content\"><pre>Pipeline(steps=[(&#x27;scale&#x27;, None), (&#x27;model&#x27;, LogisticRegression())])</pre></div></div></div><div class=\"sk-serial\"><div class=\"sk-item\"><div class=\"sk-estimator sk-toggleable\"><input class=\"sk-toggleable__control sk-hidden--visually\" id=\"sk-estimator-id-2\" type=\"checkbox\" ><label for=\"sk-estimator-id-2\" class=\"sk-toggleable__label sk-toggleable__label-arrow\">None</label><div class=\"sk-toggleable__content\"><pre>None</pre></div></div></div><div class=\"sk-item\"><div class=\"sk-estimator sk-toggleable\"><input class=\"sk-toggleable__control sk-hidden--visually\" id=\"sk-estimator-id-3\" type=\"checkbox\" ><label for=\"sk-estimator-id-3\" class=\"sk-toggleable__label sk-toggleable__label-arrow\">LogisticRegression</label><div class=\"sk-toggleable__content\"><pre>LogisticRegression()</pre></div></div></div></div></div></div></div>"
      ],
      "text/plain": [
       "Pipeline(steps=[('scale', None), ('model', LogisticRegression())])"
      ]
     },
     "execution_count": 43,
     "metadata": {},
     "output_type": "execute_result"
    }
   ],
   "source": [
    "model.fit(X_train, y_train.values.ravel())"
   ]
  },
  {
   "cell_type": "code",
   "execution_count": 44,
   "id": "af59f8c0",
   "metadata": {
    "execution": {
     "iopub.execute_input": "2025-07-30T21:03:23.113885Z",
     "iopub.status.busy": "2025-07-30T21:03:23.113226Z",
     "iopub.status.idle": "2025-07-30T21:03:23.118930Z",
     "shell.execute_reply": "2025-07-30T21:03:23.117922Z"
    },
    "papermill": {
     "duration": 0.032928,
     "end_time": "2025-07-30T21:03:23.120766",
     "exception": false,
     "start_time": "2025-07-30T21:03:23.087838",
     "status": "completed"
    },
    "tags": []
   },
   "outputs": [],
   "source": [
    "from fairness_multiverse.universe import predict_w_threshold"
   ]
  },
  {
   "cell_type": "code",
   "execution_count": 45,
   "id": "a7cf2e16",
   "metadata": {
    "execution": {
     "iopub.execute_input": "2025-07-30T21:03:23.172569Z",
     "iopub.status.busy": "2025-07-30T21:03:23.171546Z",
     "iopub.status.idle": "2025-07-30T21:03:23.272310Z",
     "shell.execute_reply": "2025-07-30T21:03:23.271374Z"
    },
    "papermill": {
     "duration": 0.128914,
     "end_time": "2025-07-30T21:03:23.273954",
     "exception": false,
     "start_time": "2025-07-30T21:03:23.145040",
     "status": "completed"
    },
    "tags": []
   },
   "outputs": [
    {
     "data": {
      "text/plain": [
       "0.8588451677627912"
      ]
     },
     "execution_count": 45,
     "metadata": {},
     "output_type": "execute_result"
    }
   ],
   "source": [
    "probs_test = model.predict_proba(X_test)\n",
    "\n",
    "'''\n",
    "Below code returns a boolean array (or binary 0/1 array depending on how it’s used) where each element \n",
    "is True if the probability of class 1 is greater than or equal to the threshold, and False otherwise.\n",
    "'''\n",
    "y_pred_default = predict_w_threshold(probs_test, 0.5)\n",
    "\n",
    "from sklearn.metrics import accuracy_score\n",
    "\n",
    "# Naive prediction\n",
    "accuracy_score(y_true = y_true, y_pred = y_pred_default)"
   ]
  },
  {
   "cell_type": "code",
   "execution_count": 46,
   "id": "081964c3",
   "metadata": {
    "execution": {
     "iopub.execute_input": "2025-07-30T21:03:23.320633Z",
     "iopub.status.busy": "2025-07-30T21:03:23.319747Z",
     "iopub.status.idle": "2025-07-30T21:03:23.407597Z",
     "shell.execute_reply": "2025-07-30T21:03:23.406672Z"
    },
    "papermill": {
     "duration": 0.113149,
     "end_time": "2025-07-30T21:03:23.409355",
     "exception": false,
     "start_time": "2025-07-30T21:03:23.296206",
     "status": "completed"
    },
    "tags": []
   },
   "outputs": [
    {
     "data": {
      "text/plain": [
       "array([0, 0, 0, ..., 0, 0, 0])"
      ]
     },
     "execution_count": 46,
     "metadata": {},
     "output_type": "execute_result"
    }
   ],
   "source": [
    "model.predict(X_test)"
   ]
  },
  {
   "cell_type": "markdown",
   "id": "56c9705b",
   "metadata": {
    "papermill": {
     "duration": 0.022523,
     "end_time": "2025-07-30T21:03:23.455438",
     "exception": false,
     "start_time": "2025-07-30T21:03:23.432915",
     "status": "completed"
    },
    "tags": []
   },
   "source": [
    "# Conformal Prediction"
   ]
  },
  {
   "cell_type": "code",
   "execution_count": 47,
   "id": "160ec6ff",
   "metadata": {
    "execution": {
     "iopub.execute_input": "2025-07-30T21:03:23.504492Z",
     "iopub.status.busy": "2025-07-30T21:03:23.503829Z",
     "iopub.status.idle": "2025-07-30T21:03:23.509230Z",
     "shell.execute_reply": "2025-07-30T21:03:23.508026Z"
    },
    "papermill": {
     "duration": 0.031174,
     "end_time": "2025-07-30T21:03:23.510700",
     "exception": false,
     "start_time": "2025-07-30T21:03:23.479526",
     "status": "completed"
    },
    "tags": []
   },
   "outputs": [],
   "source": [
    "# Miscoverage level for conformal prediction (10% allowed error rate => 90% target coverage)\n",
    "alpha = 0.1"
   ]
  },
  {
   "cell_type": "code",
   "execution_count": 48,
   "id": "eadf4555-3dd3-440e-8e35-f82a4ad9f855",
   "metadata": {
    "execution": {
     "iopub.execute_input": "2025-07-30T21:03:23.558441Z",
     "iopub.status.busy": "2025-07-30T21:03:23.557808Z",
     "iopub.status.idle": "2025-07-30T21:03:23.641087Z",
     "shell.execute_reply": "2025-07-30T21:03:23.640078Z"
    },
    "papermill": {
     "duration": 0.10887,
     "end_time": "2025-07-30T21:03:23.643123",
     "exception": false,
     "start_time": "2025-07-30T21:03:23.534253",
     "status": "completed"
    },
    "tags": []
   },
   "outputs": [],
   "source": [
    "probs_calib = model.predict_proba(X_calib)"
   ]
  },
  {
   "cell_type": "code",
   "execution_count": 49,
   "id": "2ed93547-6d5d-4983-9b36-1ecb300da49a",
   "metadata": {
    "execution": {
     "iopub.execute_input": "2025-07-30T21:03:23.691083Z",
     "iopub.status.busy": "2025-07-30T21:03:23.690298Z",
     "iopub.status.idle": "2025-07-30T21:03:23.696158Z",
     "shell.execute_reply": "2025-07-30T21:03:23.695209Z"
    },
    "papermill": {
     "duration": 0.031829,
     "end_time": "2025-07-30T21:03:23.697966",
     "exception": false,
     "start_time": "2025-07-30T21:03:23.666137",
     "status": "completed"
    },
    "tags": []
   },
   "outputs": [],
   "source": [
    "y_calib = y_calib.values.ravel().astype(int)"
   ]
  },
  {
   "cell_type": "code",
   "execution_count": 50,
   "id": "65d1320d-f588-4b38-9072-62af1ae97f7d",
   "metadata": {
    "execution": {
     "iopub.execute_input": "2025-07-30T21:03:23.750277Z",
     "iopub.status.busy": "2025-07-30T21:03:23.749808Z",
     "iopub.status.idle": "2025-07-30T21:03:23.756919Z",
     "shell.execute_reply": "2025-07-30T21:03:23.755886Z"
    },
    "papermill": {
     "duration": 0.033615,
     "end_time": "2025-07-30T21:03:23.758746",
     "exception": false,
     "start_time": "2025-07-30T21:03:23.725131",
     "status": "completed"
    },
    "tags": []
   },
   "outputs": [],
   "source": [
    "from fairness_multiverse.conformal import compute_nc_scores\n",
    "\n",
    "# Compute nonconformity scores on calibration set (1 - probability of true class)\n",
    "nc_scores = compute_nc_scores(probs_calib, y_calib)"
   ]
  },
  {
   "cell_type": "code",
   "execution_count": 51,
   "id": "df3b8ca3-53b7-43d5-9667-7c85da7aeda2",
   "metadata": {
    "execution": {
     "iopub.execute_input": "2025-07-30T21:03:23.808703Z",
     "iopub.status.busy": "2025-07-30T21:03:23.807902Z",
     "iopub.status.idle": "2025-07-30T21:03:23.814375Z",
     "shell.execute_reply": "2025-07-30T21:03:23.813486Z"
    },
    "papermill": {
     "duration": 0.032666,
     "end_time": "2025-07-30T21:03:23.815945",
     "exception": false,
     "start_time": "2025-07-30T21:03:23.783279",
     "status": "completed"
    },
    "tags": []
   },
   "outputs": [],
   "source": [
    "from fairness_multiverse.conformal import find_threshold\n",
    "\n",
    "# Find conformal threshold q_hat for the given alpha (split conformal method)\n",
    "q_hat = find_threshold(nc_scores, alpha)"
   ]
  },
  {
   "cell_type": "code",
   "execution_count": 52,
   "id": "4d29e6c1-0ef6-4aa4-b8fe-4fe79b0d033a",
   "metadata": {
    "execution": {
     "iopub.execute_input": "2025-07-30T21:03:23.865069Z",
     "iopub.status.busy": "2025-07-30T21:03:23.864120Z",
     "iopub.status.idle": "2025-07-30T21:03:23.871589Z",
     "shell.execute_reply": "2025-07-30T21:03:23.870753Z"
    },
    "papermill": {
     "duration": 0.032558,
     "end_time": "2025-07-30T21:03:23.873173",
     "exception": false,
     "start_time": "2025-07-30T21:03:23.840615",
     "status": "completed"
    },
    "tags": []
   },
   "outputs": [
    {
     "data": {
      "text/plain": [
       "0.6724981887605714"
      ]
     },
     "execution_count": 52,
     "metadata": {},
     "output_type": "execute_result"
    }
   ],
   "source": [
    "q_hat"
   ]
  },
  {
   "cell_type": "code",
   "execution_count": 53,
   "id": "92460794-cdac-4be2-ba28-f28c0515a6fb",
   "metadata": {
    "execution": {
     "iopub.execute_input": "2025-07-30T21:03:23.923229Z",
     "iopub.status.busy": "2025-07-30T21:03:23.922541Z",
     "iopub.status.idle": "2025-07-30T21:03:24.997877Z",
     "shell.execute_reply": "2025-07-30T21:03:24.996534Z"
    },
    "papermill": {
     "duration": 1.103132,
     "end_time": "2025-07-30T21:03:25.000187",
     "exception": false,
     "start_time": "2025-07-30T21:03:23.897055",
     "status": "completed"
    },
    "tags": []
   },
   "outputs": [],
   "source": [
    "from fairness_multiverse.conformal import predict_conformal_sets\n",
    "\n",
    "# Generate prediction sets for each test example\n",
    "pred_sets = predict_conformal_sets(model, X_test, q_hat)"
   ]
  },
  {
   "cell_type": "code",
   "execution_count": 54,
   "id": "d90c9a65-e6db-4f5d-80cd-e68fb7e46829",
   "metadata": {
    "execution": {
     "iopub.execute_input": "2025-07-30T21:03:25.054103Z",
     "iopub.status.busy": "2025-07-30T21:03:25.053276Z",
     "iopub.status.idle": "2025-07-30T21:03:25.060600Z",
     "shell.execute_reply": "2025-07-30T21:03:25.059258Z"
    },
    "papermill": {
     "duration": 0.034059,
     "end_time": "2025-07-30T21:03:25.062975",
     "exception": false,
     "start_time": "2025-07-30T21:03:25.028916",
     "status": "completed"
    },
    "tags": []
   },
   "outputs": [],
   "source": [
    "y_true = y_true.squeeze()"
   ]
  },
  {
   "cell_type": "code",
   "execution_count": 55,
   "id": "3a58a54a-1e68-46b9-927a-df01f18aebc8",
   "metadata": {
    "execution": {
     "iopub.execute_input": "2025-07-30T21:03:25.143138Z",
     "iopub.status.busy": "2025-07-30T21:03:25.142010Z",
     "iopub.status.idle": "2025-07-30T21:03:26.012260Z",
     "shell.execute_reply": "2025-07-30T21:03:26.011100Z"
    },
    "papermill": {
     "duration": 0.9134,
     "end_time": "2025-07-30T21:03:26.014396",
     "exception": false,
     "start_time": "2025-07-30T21:03:25.100996",
     "status": "completed"
    },
    "tags": []
   },
   "outputs": [],
   "source": [
    "from fairness_multiverse.conformal import evaluate_sets\n",
    "\n",
    "# Evaluate coverage and average set size on test data\n",
    "metrics = evaluate_sets(pred_sets, y_true)"
   ]
  },
  {
   "cell_type": "markdown",
   "id": "2b569c12-9aaa-4c88-98c9-bbcd0cf3ebb8",
   "metadata": {
    "papermill": {
     "duration": 0.02867,
     "end_time": "2025-07-30T21:03:26.069933",
     "exception": false,
     "start_time": "2025-07-30T21:03:26.041263",
     "status": "completed"
    },
    "tags": []
   },
   "source": [
    "# CP Metrics"
   ]
  },
  {
   "cell_type": "code",
   "execution_count": 56,
   "id": "5ce0a5cb-201f-45a0-ade5-94c7f0bd6095",
   "metadata": {
    "execution": {
     "iopub.execute_input": "2025-07-30T21:03:26.125486Z",
     "iopub.status.busy": "2025-07-30T21:03:26.124791Z",
     "iopub.status.idle": "2025-07-30T21:03:26.132563Z",
     "shell.execute_reply": "2025-07-30T21:03:26.131221Z"
    },
    "papermill": {
     "duration": 0.039025,
     "end_time": "2025-07-30T21:03:26.134535",
     "exception": false,
     "start_time": "2025-07-30T21:03:26.095510",
     "status": "completed"
    },
    "tags": []
   },
   "outputs": [
    {
     "data": {
      "text/plain": [
       "{'coverage': 0.9116263515773046, 'avg_size': 1.2111024411994205}"
      ]
     },
     "execution_count": 56,
     "metadata": {},
     "output_type": "execute_result"
    }
   ],
   "source": [
    "metrics"
   ]
  },
  {
   "cell_type": "code",
   "execution_count": 57,
   "id": "9b9a838d-31c9-430b-ae14-12baee460d17",
   "metadata": {
    "execution": {
     "iopub.execute_input": "2025-07-30T21:03:26.170877Z",
     "iopub.status.busy": "2025-07-30T21:03:26.170611Z",
     "iopub.status.idle": "2025-07-30T21:03:26.175989Z",
     "shell.execute_reply": "2025-07-30T21:03:26.175156Z"
    },
    "papermill": {
     "duration": 0.021562,
     "end_time": "2025-07-30T21:03:26.177823",
     "exception": false,
     "start_time": "2025-07-30T21:03:26.156261",
     "status": "completed"
    },
    "tags": []
   },
   "outputs": [],
   "source": [
    "example_universe = universe.copy()\n",
    "universe_training_year = example_universe.get(\"training_year\")\n",
    "universe_training_size = example_universe.get(\"training_size\")\n",
    "universe_scale = example_universe.get(\"scale\")\n",
    "universe_model = example_universe.get(\"model\")\n",
    "universe_exclude_features = example_universe.get(\"exclude_features\")\n",
    "universe_exclude_subgroups = example_universe.get(\"exclude_subgroups\")"
   ]
  },
  {
   "cell_type": "code",
   "execution_count": 58,
   "id": "f4b6a8ac-9dc0-4245-8a91-5b3b5999c4f9",
   "metadata": {
    "execution": {
     "iopub.execute_input": "2025-07-30T21:03:26.240791Z",
     "iopub.status.busy": "2025-07-30T21:03:26.240227Z",
     "iopub.status.idle": "2025-07-30T21:03:26.247929Z",
     "shell.execute_reply": "2025-07-30T21:03:26.246687Z"
    },
    "papermill": {
     "duration": 0.041817,
     "end_time": "2025-07-30T21:03:26.249886",
     "exception": false,
     "start_time": "2025-07-30T21:03:26.208069",
     "status": "completed"
    },
    "tags": []
   },
   "outputs": [],
   "source": [
    "cp_metrics_dict = {\n",
    "    \"universe_id\": [universe_id],\n",
    "    \"universe_training_year\": [universe_training_year],\n",
    "    \"universe_training_size\": [universe_training_size],\n",
    "    \"universe_scale\": [universe_scale],\n",
    "    \"universe_model\": [universe_model],\n",
    "    \"universe_exclude_features\": [universe_exclude_features],\n",
    "    \"universe_exclude_subgroups\": [universe_exclude_subgroups],\n",
    "    \"q_hat\": [q_hat],\n",
    "    \"coverage\": [metrics[\"coverage\"]],\n",
    "    \"avg_size\": [metrics[\"avg_size\"]],\n",
    "}"
   ]
  },
  {
   "cell_type": "code",
   "execution_count": 59,
   "id": "908acbb1-0371-4915-85ca-3fa520d2efe2",
   "metadata": {
    "execution": {
     "iopub.execute_input": "2025-07-30T21:03:26.310679Z",
     "iopub.status.busy": "2025-07-30T21:03:26.309913Z",
     "iopub.status.idle": "2025-07-30T21:03:26.319187Z",
     "shell.execute_reply": "2025-07-30T21:03:26.318017Z"
    },
    "papermill": {
     "duration": 0.041989,
     "end_time": "2025-07-30T21:03:26.321068",
     "exception": false,
     "start_time": "2025-07-30T21:03:26.279079",
     "status": "completed"
    },
    "tags": []
   },
   "outputs": [
    {
     "data": {
      "text/plain": [
       "{'universe_id': ['522129ffe46aa5e3cc939fddb34c20d2'],\n",
       " 'universe_training_year': ['2012_14'],\n",
       " 'universe_training_size': ['5k'],\n",
       " 'universe_scale': ['do-not-scale'],\n",
       " 'universe_model': ['logreg'],\n",
       " 'universe_exclude_features': ['sex'],\n",
       " 'universe_exclude_subgroups': ['drop-non-german'],\n",
       " 'q_hat': [0.6724981887605714],\n",
       " 'coverage': [0.9116263515773046],\n",
       " 'avg_size': [1.2111024411994205]}"
      ]
     },
     "execution_count": 59,
     "metadata": {},
     "output_type": "execute_result"
    }
   ],
   "source": [
    "cp_metrics_dict"
   ]
  },
  {
   "cell_type": "code",
   "execution_count": 60,
   "id": "33007efc-14e9-4ec6-97ac-56a455c82265",
   "metadata": {
    "execution": {
     "iopub.execute_input": "2025-07-30T21:03:26.380831Z",
     "iopub.status.busy": "2025-07-30T21:03:26.380295Z",
     "iopub.status.idle": "2025-07-30T21:03:26.386860Z",
     "shell.execute_reply": "2025-07-30T21:03:26.385860Z"
    },
    "papermill": {
     "duration": 0.038105,
     "end_time": "2025-07-30T21:03:26.388693",
     "exception": false,
     "start_time": "2025-07-30T21:03:26.350588",
     "status": "completed"
    },
    "tags": []
   },
   "outputs": [],
   "source": [
    "cp_metrics_df = pd.DataFrame(cp_metrics_dict)"
   ]
  },
  {
   "cell_type": "code",
   "execution_count": 61,
   "id": "db12611b-57b2-4910-b9d0-355adfd6e7bf",
   "metadata": {
    "execution": {
     "iopub.execute_input": "2025-07-30T21:03:26.448624Z",
     "iopub.status.busy": "2025-07-30T21:03:26.447996Z",
     "iopub.status.idle": "2025-07-30T21:03:26.468811Z",
     "shell.execute_reply": "2025-07-30T21:03:26.467572Z"
    },
    "papermill": {
     "duration": 0.052298,
     "end_time": "2025-07-30T21:03:26.470651",
     "exception": false,
     "start_time": "2025-07-30T21:03:26.418353",
     "status": "completed"
    },
    "tags": []
   },
   "outputs": [
    {
     "data": {
      "text/html": [
       "<div>\n",
       "<style scoped>\n",
       "    .dataframe tbody tr th:only-of-type {\n",
       "        vertical-align: middle;\n",
       "    }\n",
       "\n",
       "    .dataframe tbody tr th {\n",
       "        vertical-align: top;\n",
       "    }\n",
       "\n",
       "    .dataframe thead th {\n",
       "        text-align: right;\n",
       "    }\n",
       "</style>\n",
       "<table border=\"1\" class=\"dataframe\">\n",
       "  <thead>\n",
       "    <tr style=\"text-align: right;\">\n",
       "      <th></th>\n",
       "      <th>universe_id</th>\n",
       "      <th>universe_training_year</th>\n",
       "      <th>universe_training_size</th>\n",
       "      <th>universe_scale</th>\n",
       "      <th>universe_model</th>\n",
       "      <th>universe_exclude_features</th>\n",
       "      <th>universe_exclude_subgroups</th>\n",
       "      <th>q_hat</th>\n",
       "      <th>coverage</th>\n",
       "      <th>avg_size</th>\n",
       "    </tr>\n",
       "  </thead>\n",
       "  <tbody>\n",
       "    <tr>\n",
       "      <th>0</th>\n",
       "      <td>522129ffe46aa5e3cc939fddb34c20d2</td>\n",
       "      <td>2012_14</td>\n",
       "      <td>5k</td>\n",
       "      <td>do-not-scale</td>\n",
       "      <td>logreg</td>\n",
       "      <td>sex</td>\n",
       "      <td>drop-non-german</td>\n",
       "      <td>0.672498</td>\n",
       "      <td>0.911626</td>\n",
       "      <td>1.211102</td>\n",
       "    </tr>\n",
       "  </tbody>\n",
       "</table>\n",
       "</div>"
      ],
      "text/plain": [
       "                        universe_id universe_training_year  \\\n",
       "0  522129ffe46aa5e3cc939fddb34c20d2                2012_14   \n",
       "\n",
       "  universe_training_size universe_scale universe_model  \\\n",
       "0                     5k   do-not-scale         logreg   \n",
       "\n",
       "  universe_exclude_features universe_exclude_subgroups     q_hat  coverage  \\\n",
       "0                       sex            drop-non-german  0.672498  0.911626   \n",
       "\n",
       "   avg_size  \n",
       "0  1.211102  "
      ]
     },
     "execution_count": 61,
     "metadata": {},
     "output_type": "execute_result"
    }
   ],
   "source": [
    "cp_metrics_df"
   ]
  },
  {
   "cell_type": "code",
   "execution_count": 62,
   "id": "b7fbde55-a0a1-47e4-9af6-fe4a17fa8c61",
   "metadata": {
    "execution": {
     "iopub.execute_input": "2025-07-30T21:03:26.532234Z",
     "iopub.status.busy": "2025-07-30T21:03:26.531566Z",
     "iopub.status.idle": "2025-07-30T21:03:26.538257Z",
     "shell.execute_reply": "2025-07-30T21:03:26.537063Z"
    },
    "papermill": {
     "duration": 0.039682,
     "end_time": "2025-07-30T21:03:26.540400",
     "exception": false,
     "start_time": "2025-07-30T21:03:26.500718",
     "status": "completed"
    },
    "tags": []
   },
   "outputs": [],
   "source": [
    "# Conditional Coverage & looking at subgroups"
   ]
  },
  {
   "cell_type": "code",
   "execution_count": 63,
   "id": "027ae886-68dd-4141-96c7-805a5450e1ef",
   "metadata": {
    "execution": {
     "iopub.execute_input": "2025-07-30T21:03:26.602738Z",
     "iopub.status.busy": "2025-07-30T21:03:26.601870Z",
     "iopub.status.idle": "2025-07-30T21:03:26.993776Z",
     "shell.execute_reply": "2025-07-30T21:03:26.992534Z"
    },
    "papermill": {
     "duration": 0.425758,
     "end_time": "2025-07-30T21:03:26.995509",
     "exception": false,
     "start_time": "2025-07-30T21:03:26.569751",
     "status": "completed"
    },
    "tags": []
   },
   "outputs": [],
   "source": [
    "from fairness_multiverse.conformal import build_cp_groups\n",
    "\n",
    "cp_groups_df = build_cp_groups(pred_sets, y_true, X_test.index, org_test)\n",
    "#needs universe_id and setting"
   ]
  },
  {
   "cell_type": "code",
   "execution_count": 64,
   "id": "01d5802c-663a-4d1f-9d69-e036faaffbf7",
   "metadata": {
    "execution": {
     "iopub.execute_input": "2025-07-30T21:03:27.056220Z",
     "iopub.status.busy": "2025-07-30T21:03:27.055229Z",
     "iopub.status.idle": "2025-07-30T21:03:27.060953Z",
     "shell.execute_reply": "2025-07-30T21:03:27.059692Z"
    },
    "papermill": {
     "duration": 0.038276,
     "end_time": "2025-07-30T21:03:27.063154",
     "exception": false,
     "start_time": "2025-07-30T21:03:27.024878",
     "status": "completed"
    },
    "tags": []
   },
   "outputs": [],
   "source": [
    "#delete\n",
    "#cp_groups_df"
   ]
  },
  {
   "cell_type": "code",
   "execution_count": 65,
   "id": "fa424af1-d1eb-443d-b717-2d279ada8408",
   "metadata": {
    "execution": {
     "iopub.execute_input": "2025-07-30T21:03:27.125910Z",
     "iopub.status.busy": "2025-07-30T21:03:27.125322Z",
     "iopub.status.idle": "2025-07-30T21:03:27.131364Z",
     "shell.execute_reply": "2025-07-30T21:03:27.130260Z"
    },
    "papermill": {
     "duration": 0.039227,
     "end_time": "2025-07-30T21:03:27.133176",
     "exception": false,
     "start_time": "2025-07-30T21:03:27.093949",
     "status": "completed"
    },
    "tags": []
   },
   "outputs": [],
   "source": [
    "#delete\n",
    "#percentage = (cp_groups_df['nongerman_female'] == 1).mean() * 100\n",
    "#print(percentage)\n"
   ]
  },
  {
   "cell_type": "code",
   "execution_count": 66,
   "id": "6cbdab96-b2b2-45af-ad54-d0516db2e28d",
   "metadata": {
    "execution": {
     "iopub.execute_input": "2025-07-30T21:03:27.195577Z",
     "iopub.status.busy": "2025-07-30T21:03:27.194597Z",
     "iopub.status.idle": "2025-07-30T21:03:28.731767Z",
     "shell.execute_reply": "2025-07-30T21:03:28.730679Z"
    },
    "papermill": {
     "duration": 1.569699,
     "end_time": "2025-07-30T21:03:28.733437",
     "exception": false,
     "start_time": "2025-07-30T21:03:27.163738",
     "status": "completed"
    },
    "tags": []
   },
   "outputs": [],
   "source": [
    "# Define covered = 1 if true_label is in the predicted set\n",
    "cp_groups_df['covered'] = cp_groups_df.apply(\n",
    "    lambda r: int(r['true_label'] in r['pred_set']),\n",
    "    axis=1\n",
    ")"
   ]
  },
  {
   "cell_type": "code",
   "execution_count": 67,
   "id": "338ff529-1a6b-4b87-a931-8e4788d52aad",
   "metadata": {
    "execution": {
     "iopub.execute_input": "2025-07-30T21:03:28.787167Z",
     "iopub.status.busy": "2025-07-30T21:03:28.786730Z",
     "iopub.status.idle": "2025-07-30T21:03:28.791380Z",
     "shell.execute_reply": "2025-07-30T21:03:28.790499Z"
    },
    "papermill": {
     "duration": 0.034595,
     "end_time": "2025-07-30T21:03:28.792594",
     "exception": false,
     "start_time": "2025-07-30T21:03:28.757999",
     "status": "completed"
    },
    "tags": []
   },
   "outputs": [],
   "source": [
    "#cp_groups_df"
   ]
  },
  {
   "cell_type": "code",
   "execution_count": 68,
   "id": "90032e27-66df-4540-9169-4e89cfbaa758",
   "metadata": {
    "execution": {
     "iopub.execute_input": "2025-07-30T21:03:28.824153Z",
     "iopub.status.busy": "2025-07-30T21:03:28.823731Z",
     "iopub.status.idle": "2025-07-30T21:03:28.835111Z",
     "shell.execute_reply": "2025-07-30T21:03:28.834374Z"
    },
    "papermill": {
     "duration": 0.028443,
     "end_time": "2025-07-30T21:03:28.836573",
     "exception": false,
     "start_time": "2025-07-30T21:03:28.808130",
     "status": "completed"
    },
    "tags": []
   },
   "outputs": [],
   "source": [
    "subgroups = ['frau1','nongerman','nongerman_male','nongerman_female']\n",
    "\n",
    "# Conditional coverage for subgroup==1\n",
    "cond_coverage = {\n",
    "    g: cp_groups_df.loc[cp_groups_df[g]==1, 'covered'].mean()\n",
    "    for g in subgroups\n",
    "}"
   ]
  },
  {
   "cell_type": "code",
   "execution_count": 69,
   "id": "1e348fb1-b9c3-45bc-ba23-f016827a7e0d",
   "metadata": {
    "execution": {
     "iopub.execute_input": "2025-07-30T21:03:28.894137Z",
     "iopub.status.busy": "2025-07-30T21:03:28.893745Z",
     "iopub.status.idle": "2025-07-30T21:03:28.900975Z",
     "shell.execute_reply": "2025-07-30T21:03:28.899741Z"
    },
    "papermill": {
     "duration": 0.041417,
     "end_time": "2025-07-30T21:03:28.905576",
     "exception": false,
     "start_time": "2025-07-30T21:03:28.864159",
     "status": "completed"
    },
    "tags": []
   },
   "outputs": [
    {
     "data": {
      "text/plain": [
       "{'frau1': 0.9090173877881116,\n",
       " 'nongerman': 0.9335316903385168,\n",
       " 'nongerman_male': 0.9463208141943619,\n",
       " 'nongerman_female': 0.9123695976154993}"
      ]
     },
     "execution_count": 69,
     "metadata": {},
     "output_type": "execute_result"
    }
   ],
   "source": [
    "cond_coverage"
   ]
  },
  {
   "cell_type": "code",
   "execution_count": 70,
   "id": "f5093324-c3dd-4d63-bc4c-8d945e5c8bbb",
   "metadata": {
    "execution": {
     "iopub.execute_input": "2025-07-30T21:03:28.968448Z",
     "iopub.status.busy": "2025-07-30T21:03:28.967921Z",
     "iopub.status.idle": "2025-07-30T21:03:28.976055Z",
     "shell.execute_reply": "2025-07-30T21:03:28.974781Z"
    },
    "papermill": {
     "duration": 0.038407,
     "end_time": "2025-07-30T21:03:28.977697",
     "exception": false,
     "start_time": "2025-07-30T21:03:28.939290",
     "status": "completed"
    },
    "tags": []
   },
   "outputs": [],
   "source": [
    "for subgroup, cov in cond_coverage.items():\n",
    "    cp_metrics_df[f\"cov_{subgroup}\"] = cov"
   ]
  },
  {
   "cell_type": "code",
   "execution_count": 71,
   "id": "6e872e10-dbe5-49e8-b554-5030c98ff75d",
   "metadata": {
    "execution": {
     "iopub.execute_input": "2025-07-30T21:03:29.029950Z",
     "iopub.status.busy": "2025-07-30T21:03:29.029576Z",
     "iopub.status.idle": "2025-07-30T21:03:29.048214Z",
     "shell.execute_reply": "2025-07-30T21:03:29.047160Z"
    },
    "papermill": {
     "duration": 0.043832,
     "end_time": "2025-07-30T21:03:29.049827",
     "exception": false,
     "start_time": "2025-07-30T21:03:29.005995",
     "status": "completed"
    },
    "tags": []
   },
   "outputs": [
    {
     "data": {
      "text/html": [
       "<div>\n",
       "<style scoped>\n",
       "    .dataframe tbody tr th:only-of-type {\n",
       "        vertical-align: middle;\n",
       "    }\n",
       "\n",
       "    .dataframe tbody tr th {\n",
       "        vertical-align: top;\n",
       "    }\n",
       "\n",
       "    .dataframe thead th {\n",
       "        text-align: right;\n",
       "    }\n",
       "</style>\n",
       "<table border=\"1\" class=\"dataframe\">\n",
       "  <thead>\n",
       "    <tr style=\"text-align: right;\">\n",
       "      <th></th>\n",
       "      <th>universe_id</th>\n",
       "      <th>universe_training_year</th>\n",
       "      <th>universe_training_size</th>\n",
       "      <th>universe_scale</th>\n",
       "      <th>universe_model</th>\n",
       "      <th>universe_exclude_features</th>\n",
       "      <th>universe_exclude_subgroups</th>\n",
       "      <th>q_hat</th>\n",
       "      <th>coverage</th>\n",
       "      <th>avg_size</th>\n",
       "      <th>cov_frau1</th>\n",
       "      <th>cov_nongerman</th>\n",
       "      <th>cov_nongerman_male</th>\n",
       "      <th>cov_nongerman_female</th>\n",
       "    </tr>\n",
       "  </thead>\n",
       "  <tbody>\n",
       "    <tr>\n",
       "      <th>0</th>\n",
       "      <td>522129ffe46aa5e3cc939fddb34c20d2</td>\n",
       "      <td>2012_14</td>\n",
       "      <td>5k</td>\n",
       "      <td>do-not-scale</td>\n",
       "      <td>logreg</td>\n",
       "      <td>sex</td>\n",
       "      <td>drop-non-german</td>\n",
       "      <td>0.672498</td>\n",
       "      <td>0.911626</td>\n",
       "      <td>1.211102</td>\n",
       "      <td>0.909017</td>\n",
       "      <td>0.933532</td>\n",
       "      <td>0.946321</td>\n",
       "      <td>0.91237</td>\n",
       "    </tr>\n",
       "  </tbody>\n",
       "</table>\n",
       "</div>"
      ],
      "text/plain": [
       "                        universe_id universe_training_year  \\\n",
       "0  522129ffe46aa5e3cc939fddb34c20d2                2012_14   \n",
       "\n",
       "  universe_training_size universe_scale universe_model  \\\n",
       "0                     5k   do-not-scale         logreg   \n",
       "\n",
       "  universe_exclude_features universe_exclude_subgroups     q_hat  coverage  \\\n",
       "0                       sex            drop-non-german  0.672498  0.911626   \n",
       "\n",
       "   avg_size  cov_frau1  cov_nongerman  cov_nongerman_male  \\\n",
       "0  1.211102   0.909017       0.933532            0.946321   \n",
       "\n",
       "   cov_nongerman_female  \n",
       "0               0.91237  "
      ]
     },
     "execution_count": 71,
     "metadata": {},
     "output_type": "execute_result"
    }
   ],
   "source": [
    "cp_metrics_df"
   ]
  },
  {
   "cell_type": "markdown",
   "id": "33774451",
   "metadata": {
    "papermill": {
     "duration": 0.014828,
     "end_time": "2025-07-30T21:03:29.086692",
     "exception": false,
     "start_time": "2025-07-30T21:03:29.071864",
     "status": "completed"
    },
    "tags": []
   },
   "source": [
    "# (Fairness) Metrics"
   ]
  },
  {
   "cell_type": "code",
   "execution_count": 72,
   "id": "debc5d62",
   "metadata": {
    "execution": {
     "iopub.execute_input": "2025-07-30T21:03:29.121670Z",
     "iopub.status.busy": "2025-07-30T21:03:29.121129Z",
     "iopub.status.idle": "2025-07-30T21:03:29.136852Z",
     "shell.execute_reply": "2025-07-30T21:03:29.135905Z"
    },
    "papermill": {
     "duration": 0.038058,
     "end_time": "2025-07-30T21:03:29.138625",
     "exception": false,
     "start_time": "2025-07-30T21:03:29.100567",
     "status": "completed"
    },
    "tags": []
   },
   "outputs": [],
   "source": [
    "# do I need to include maxdeutsch1.missing?\n",
    "\n",
    "import numpy as np\n",
    "\n",
    "colname_to_bin = \"maxdeutsch1\"\n",
    "majority_value = org_train[colname_to_bin].mode()[0]\n",
    "\n",
    "org_test[\"majmin\"] = np.where(org_test[colname_to_bin] == majority_value, \"majority\", \"minority\")"
   ]
  },
  {
   "cell_type": "code",
   "execution_count": 73,
   "id": "06a50de5",
   "metadata": {
    "execution": {
     "iopub.execute_input": "2025-07-30T21:03:29.193205Z",
     "iopub.status.busy": "2025-07-30T21:03:29.192689Z",
     "iopub.status.idle": "2025-07-30T21:03:31.396484Z",
     "shell.execute_reply": "2025-07-30T21:03:31.395665Z"
    },
    "papermill": {
     "duration": 2.233082,
     "end_time": "2025-07-30T21:03:31.398318",
     "exception": false,
     "start_time": "2025-07-30T21:03:29.165236",
     "status": "completed"
    },
    "tags": []
   },
   "outputs": [],
   "source": [
    "example_universe = universe.copy()\n",
    "example_universe[\"cutoff\"] = example_universe[\"cutoff\"][0]\n",
    "example_universe[\"eval_fairness_grouping\"] = example_universe[\"eval_fairness_grouping\"][0]\n",
    "fairness_dict, metric_frame = universe_analysis.compute_metrics(\n",
    "    example_universe,\n",
    "    y_pred_prob=probs_test,\n",
    "    y_test=y_true,\n",
    "    org_test=org_test,\n",
    ")"
   ]
  },
  {
   "cell_type": "markdown",
   "id": "f95d4e02",
   "metadata": {
    "papermill": {
     "duration": 0.025811,
     "end_time": "2025-07-30T21:03:31.455384",
     "exception": false,
     "start_time": "2025-07-30T21:03:31.429573",
     "status": "completed"
    },
    "tags": []
   },
   "source": [
    "# Overall"
   ]
  },
  {
   "cell_type": "markdown",
   "id": "bdee4871",
   "metadata": {
    "papermill": {
     "duration": 0.026349,
     "end_time": "2025-07-30T21:03:31.509077",
     "exception": false,
     "start_time": "2025-07-30T21:03:31.482728",
     "status": "completed"
    },
    "tags": []
   },
   "source": [
    "Fairness\n",
    "Main fairness target: Equalized Odds. Seems to be a better fit than equal opportunity, since we're not only interested in Y = 1. Seems to be a better fit than demographic parity, since we also care about accuracy, not just equal distribution of preds.\n",
    "\n",
    "Pick column for computation of fairness metrics\n",
    "\n",
    "Performance\n",
    "Overall performance measures, most interesting in relation to the measures split by group below"
   ]
  },
  {
   "cell_type": "code",
   "execution_count": 74,
   "id": "c4e067c6",
   "metadata": {
    "execution": {
     "iopub.execute_input": "2025-07-30T21:03:31.563377Z",
     "iopub.status.busy": "2025-07-30T21:03:31.562661Z",
     "iopub.status.idle": "2025-07-30T21:03:31.571999Z",
     "shell.execute_reply": "2025-07-30T21:03:31.570811Z"
    },
    "papermill": {
     "duration": 0.038684,
     "end_time": "2025-07-30T21:03:31.573495",
     "exception": false,
     "start_time": "2025-07-30T21:03:31.534811",
     "status": "completed"
    },
    "tags": []
   },
   "outputs": [
    {
     "data": {
      "text/plain": [
       "accuracy                   0.218448\n",
       "balanced accuracy          0.535378\n",
       "f1                         0.239943\n",
       "precision                  0.137071\n",
       "false positive rate        0.890924\n",
       "false negative rate        0.038321\n",
       "selection rate             0.900000\n",
       "count                  89710.000000\n",
       "dtype: float64"
      ]
     },
     "execution_count": 74,
     "metadata": {},
     "output_type": "execute_result"
    }
   ],
   "source": [
    "metric_frame.overall"
   ]
  },
  {
   "cell_type": "markdown",
   "id": "e968fe9d",
   "metadata": {
    "papermill": {
     "duration": 0.026479,
     "end_time": "2025-07-30T21:03:31.626953",
     "exception": false,
     "start_time": "2025-07-30T21:03:31.600474",
     "status": "completed"
    },
    "tags": []
   },
   "source": [
    "By Group"
   ]
  },
  {
   "cell_type": "code",
   "execution_count": 75,
   "id": "ec325bce",
   "metadata": {
    "execution": {
     "iopub.execute_input": "2025-07-30T21:03:31.680891Z",
     "iopub.status.busy": "2025-07-30T21:03:31.680176Z",
     "iopub.status.idle": "2025-07-30T21:03:31.696767Z",
     "shell.execute_reply": "2025-07-30T21:03:31.695527Z"
    },
    "papermill": {
     "duration": 0.045754,
     "end_time": "2025-07-30T21:03:31.698325",
     "exception": false,
     "start_time": "2025-07-30T21:03:31.652571",
     "status": "completed"
    },
    "tags": []
   },
   "outputs": [
    {
     "data": {
      "text/html": [
       "<div>\n",
       "<style scoped>\n",
       "    .dataframe tbody tr th:only-of-type {\n",
       "        vertical-align: middle;\n",
       "    }\n",
       "\n",
       "    .dataframe tbody tr th {\n",
       "        vertical-align: top;\n",
       "    }\n",
       "\n",
       "    .dataframe thead th {\n",
       "        text-align: right;\n",
       "    }\n",
       "</style>\n",
       "<table border=\"1\" class=\"dataframe\">\n",
       "  <thead>\n",
       "    <tr style=\"text-align: right;\">\n",
       "      <th></th>\n",
       "      <th>accuracy</th>\n",
       "      <th>balanced accuracy</th>\n",
       "      <th>f1</th>\n",
       "      <th>precision</th>\n",
       "      <th>false positive rate</th>\n",
       "      <th>false negative rate</th>\n",
       "      <th>selection rate</th>\n",
       "      <th>count</th>\n",
       "    </tr>\n",
       "    <tr>\n",
       "      <th>majmin</th>\n",
       "      <th></th>\n",
       "      <th></th>\n",
       "      <th></th>\n",
       "      <th></th>\n",
       "      <th></th>\n",
       "      <th></th>\n",
       "      <th></th>\n",
       "      <th></th>\n",
       "    </tr>\n",
       "  </thead>\n",
       "  <tbody>\n",
       "    <tr>\n",
       "      <th>majority</th>\n",
       "      <td>0.240899</td>\n",
       "      <td>0.543786</td>\n",
       "      <td>0.249611</td>\n",
       "      <td>0.143557</td>\n",
       "      <td>0.867899</td>\n",
       "      <td>0.044530</td>\n",
       "      <td>0.879471</td>\n",
       "      <td>69170.0</td>\n",
       "    </tr>\n",
       "    <tr>\n",
       "      <th>minority</th>\n",
       "      <td>0.142843</td>\n",
       "      <td>0.509330</td>\n",
       "      <td>0.209572</td>\n",
       "      <td>0.117251</td>\n",
       "      <td>0.966982</td>\n",
       "      <td>0.014358</td>\n",
       "      <td>0.969133</td>\n",
       "      <td>20540.0</td>\n",
       "    </tr>\n",
       "  </tbody>\n",
       "</table>\n",
       "</div>"
      ],
      "text/plain": [
       "          accuracy  balanced accuracy        f1  precision  \\\n",
       "majmin                                                       \n",
       "majority  0.240899           0.543786  0.249611   0.143557   \n",
       "minority  0.142843           0.509330  0.209572   0.117251   \n",
       "\n",
       "          false positive rate  false negative rate  selection rate    count  \n",
       "majmin                                                                       \n",
       "majority             0.867899             0.044530        0.879471  69170.0  \n",
       "minority             0.966982             0.014358        0.969133  20540.0  "
      ]
     },
     "execution_count": 75,
     "metadata": {},
     "output_type": "execute_result"
    }
   ],
   "source": [
    "metric_frame.by_group"
   ]
  },
  {
   "cell_type": "code",
   "execution_count": 76,
   "id": "a9ddbe63",
   "metadata": {
    "execution": {
     "iopub.execute_input": "2025-07-30T21:03:31.755461Z",
     "iopub.status.busy": "2025-07-30T21:03:31.754774Z",
     "iopub.status.idle": "2025-07-30T21:03:33.713172Z",
     "shell.execute_reply": "2025-07-30T21:03:33.712450Z"
    },
    "papermill": {
     "duration": 1.988337,
     "end_time": "2025-07-30T21:03:33.714419",
     "exception": false,
     "start_time": "2025-07-30T21:03:31.726082",
     "status": "completed"
    },
    "tags": []
   },
   "outputs": [
    {
     "data": {
      "text/plain": [
       "array([[<Axes: title={'center': 'accuracy'}, xlabel='majmin'>,\n",
       "        <Axes: title={'center': 'balanced accuracy'}, xlabel='majmin'>,\n",
       "        <Axes: title={'center': 'f1'}, xlabel='majmin'>],\n",
       "       [<Axes: title={'center': 'precision'}, xlabel='majmin'>,\n",
       "        <Axes: title={'center': 'false positive rate'}, xlabel='majmin'>,\n",
       "        <Axes: title={'center': 'false negative rate'}, xlabel='majmin'>],\n",
       "       [<Axes: title={'center': 'selection rate'}, xlabel='majmin'>,\n",
       "        <Axes: title={'center': 'count'}, xlabel='majmin'>,\n",
       "        <Axes: xlabel='majmin'>]], dtype=object)"
      ]
     },
     "execution_count": 76,
     "metadata": {},
     "output_type": "execute_result"
    },
    {
     "data": {
      "image/png": "[encoded data removed]",
      "text/plain": [
       "<Figure size 1200x800 with 9 Axes>"
      ]
     },
     "metadata": {},
     "output_type": "display_data"
    }
   ],
   "source": [
    "# In a graphic\n",
    "metric_frame.by_group.plot.bar(\n",
    "    subplots=True,\n",
    "    layout=[3, 3],\n",
    "    legend=False,\n",
    "    figsize=[12, 8],\n",
    "    title=\"Show all metrics\",\n",
    ")"
   ]
  },
  {
   "cell_type": "markdown",
   "id": "f57a0bac",
   "metadata": {
    "papermill": {
     "duration": 0.014432,
     "end_time": "2025-07-30T21:03:33.747652",
     "exception": false,
     "start_time": "2025-07-30T21:03:33.733220",
     "status": "completed"
    },
    "tags": []
   },
   "source": [
    "# Final Output"
   ]
  },
  {
   "cell_type": "code",
   "execution_count": 77,
   "id": "96d280a3",
   "metadata": {
    "execution": {
     "iopub.execute_input": "2025-07-30T21:03:33.779566Z",
     "iopub.status.busy": "2025-07-30T21:03:33.778788Z",
     "iopub.status.idle": "2025-07-30T21:03:33.787436Z",
     "shell.execute_reply": "2025-07-30T21:03:33.786471Z"
    },
    "papermill": {
     "duration": 0.026926,
     "end_time": "2025-07-30T21:03:33.789126",
     "exception": false,
     "start_time": "2025-07-30T21:03:33.762200",
     "status": "completed"
    },
    "tags": []
   },
   "outputs": [
    {
     "data": {
      "text/plain": [
       "4"
      ]
     },
     "execution_count": 77,
     "metadata": {},
     "output_type": "execute_result"
    }
   ],
   "source": [
    "sub_universes = universe_analysis.generate_sub_universes()\n",
    "len(sub_universes)"
   ]
  },
  {
   "cell_type": "code",
   "execution_count": 78,
   "id": "92adf7ba",
   "metadata": {
    "execution": {
     "iopub.execute_input": "2025-07-30T21:03:33.848245Z",
     "iopub.status.busy": "2025-07-30T21:03:33.847555Z",
     "iopub.status.idle": "2025-07-30T21:03:33.854431Z",
     "shell.execute_reply": "2025-07-30T21:03:33.853390Z"
    },
    "papermill": {
     "duration": 0.037778,
     "end_time": "2025-07-30T21:03:33.856107",
     "exception": false,
     "start_time": "2025-07-30T21:03:33.818329",
     "status": "completed"
    },
    "tags": []
   },
   "outputs": [],
   "source": [
    "def filter_sub_universe_data(sub_universe, org_test):\n",
    "    # Keep all rows — no filtering\n",
    "    keep_rows_mask = np.ones(org_test.shape[0], dtype=bool)\n",
    "\n",
    "    print(f\"[INFO] Keeping all rows: {keep_rows_mask.sum()} rows retained.\")\n",
    "    return keep_rows_mask"
   ]
  },
  {
   "cell_type": "code",
   "execution_count": 79,
   "id": "4a759155",
   "metadata": {
    "execution": {
     "iopub.execute_input": "2025-07-30T21:03:33.916422Z",
     "iopub.status.busy": "2025-07-30T21:03:33.915469Z",
     "iopub.status.idle": "2025-07-30T21:03:43.786326Z",
     "shell.execute_reply": "2025-07-30T21:03:43.785371Z"
    },
    "papermill": {
     "duration": 9.902026,
     "end_time": "2025-07-30T21:03:43.787975",
     "exception": false,
     "start_time": "2025-07-30T21:03:33.885949",
     "status": "completed"
    },
    "tags": []
   },
   "outputs": [
    {
     "name": "stdout",
     "output_type": "stream",
     "text": [
      "Stopping execution_time clock.\n",
      "[INFO] Keeping all rows: 89710 rows retained.\n"
     ]
    },
    {
     "name": "stdout",
     "output_type": "stream",
     "text": [
      "[INFO] Keeping all rows: 89710 rows retained.\n"
     ]
    },
    {
     "name": "stdout",
     "output_type": "stream",
     "text": [
      "[INFO] Keeping all rows: 89710 rows retained.\n"
     ]
    },
    {
     "name": "stdout",
     "output_type": "stream",
     "text": [
      "[INFO] Keeping all rows: 89710 rows retained.\n"
     ]
    },
    {
     "data": {
      "text/html": [
       "<div>\n",
       "<style scoped>\n",
       "    .dataframe tbody tr th:only-of-type {\n",
       "        vertical-align: middle;\n",
       "    }\n",
       "\n",
       "    .dataframe tbody tr th {\n",
       "        vertical-align: top;\n",
       "    }\n",
       "\n",
       "    .dataframe thead th {\n",
       "        text-align: right;\n",
       "    }\n",
       "</style>\n",
       "<table border=\"1\" class=\"dataframe\">\n",
       "  <thead>\n",
       "    <tr style=\"text-align: right;\">\n",
       "      <th></th>\n",
       "      <th>run_no</th>\n",
       "      <th>universe_id</th>\n",
       "      <th>universe_settings</th>\n",
       "      <th>execution_time</th>\n",
       "      <th>test_size_n</th>\n",
       "      <th>test_size_frac</th>\n",
       "      <th>fair_main_equalized_odds_difference</th>\n",
       "      <th>fair_main_equalized_odds_ratio</th>\n",
       "      <th>fair_main_demographic_parity_difference</th>\n",
       "      <th>fair_main_demographic_parity_ratio</th>\n",
       "      <th>...</th>\n",
       "      <th>perf_grp_precision_0</th>\n",
       "      <th>perf_grp_precision_1</th>\n",
       "      <th>perf_grp_false positive rate_0</th>\n",
       "      <th>perf_grp_false positive rate_1</th>\n",
       "      <th>perf_grp_false negative rate_0</th>\n",
       "      <th>perf_grp_false negative rate_1</th>\n",
       "      <th>perf_grp_selection rate_0</th>\n",
       "      <th>perf_grp_selection rate_1</th>\n",
       "      <th>perf_grp_count_0</th>\n",
       "      <th>perf_grp_count_1</th>\n",
       "    </tr>\n",
       "  </thead>\n",
       "  <tbody>\n",
       "    <tr>\n",
       "      <th>0</th>\n",
       "      <td>14</td>\n",
       "      <td>522129ffe46aa5e3cc939fddb34c20d2</td>\n",
       "      <td>{\"cutoff\": \"quantile_0.1\", \"eval_fairness_grou...</td>\n",
       "      <td>26.341414</td>\n",
       "      <td>89710</td>\n",
       "      <td>1.0</td>\n",
       "      <td>0.099083</td>\n",
       "      <td>0.897534</td>\n",
       "      <td>0.089663</td>\n",
       "      <td>0.907482</td>\n",
       "      <td>...</td>\n",
       "      <td>NaN</td>\n",
       "      <td>NaN</td>\n",
       "      <td>NaN</td>\n",
       "      <td>NaN</td>\n",
       "      <td>NaN</td>\n",
       "      <td>NaN</td>\n",
       "      <td>NaN</td>\n",
       "      <td>NaN</td>\n",
       "      <td>NaN</td>\n",
       "      <td>NaN</td>\n",
       "    </tr>\n",
       "    <tr>\n",
       "      <th>0</th>\n",
       "      <td>14</td>\n",
       "      <td>522129ffe46aa5e3cc939fddb34c20d2</td>\n",
       "      <td>{\"cutoff\": \"quantile_0.1\", \"eval_fairness_grou...</td>\n",
       "      <td>26.341414</td>\n",
       "      <td>89710</td>\n",
       "      <td>1.0</td>\n",
       "      <td>0.099083</td>\n",
       "      <td>0.897534</td>\n",
       "      <td>0.089663</td>\n",
       "      <td>0.907482</td>\n",
       "      <td>...</td>\n",
       "      <td>0.117251</td>\n",
       "      <td>0.143557</td>\n",
       "      <td>0.966982</td>\n",
       "      <td>0.867899</td>\n",
       "      <td>0.014358</td>\n",
       "      <td>0.044530</td>\n",
       "      <td>0.969133</td>\n",
       "      <td>0.879471</td>\n",
       "      <td>20540.0</td>\n",
       "      <td>69170.0</td>\n",
       "    </tr>\n",
       "    <tr>\n",
       "      <th>0</th>\n",
       "      <td>14</td>\n",
       "      <td>522129ffe46aa5e3cc939fddb34c20d2</td>\n",
       "      <td>{\"cutoff\": \"quantile_0.25\", \"eval_fairness_gro...</td>\n",
       "      <td>26.341414</td>\n",
       "      <td>89710</td>\n",
       "      <td>1.0</td>\n",
       "      <td>0.224505</td>\n",
       "      <td>0.751374</td>\n",
       "      <td>0.205536</td>\n",
       "      <td>0.773756</td>\n",
       "      <td>...</td>\n",
       "      <td>NaN</td>\n",
       "      <td>NaN</td>\n",
       "      <td>NaN</td>\n",
       "      <td>NaN</td>\n",
       "      <td>NaN</td>\n",
       "      <td>NaN</td>\n",
       "      <td>NaN</td>\n",
       "      <td>NaN</td>\n",
       "      <td>NaN</td>\n",
       "      <td>NaN</td>\n",
       "    </tr>\n",
       "    <tr>\n",
       "      <th>0</th>\n",
       "      <td>14</td>\n",
       "      <td>522129ffe46aa5e3cc939fddb34c20d2</td>\n",
       "      <td>{\"cutoff\": \"quantile_0.25\", \"eval_fairness_gro...</td>\n",
       "      <td>26.341414</td>\n",
       "      <td>89710</td>\n",
       "      <td>1.0</td>\n",
       "      <td>0.224505</td>\n",
       "      <td>0.751374</td>\n",
       "      <td>0.205536</td>\n",
       "      <td>0.773756</td>\n",
       "      <td>...</td>\n",
       "      <td>0.120632</td>\n",
       "      <td>0.162334</td>\n",
       "      <td>0.902983</td>\n",
       "      <td>0.678477</td>\n",
       "      <td>0.049409</td>\n",
       "      <td>0.136433</td>\n",
       "      <td>0.908471</td>\n",
       "      <td>0.702935</td>\n",
       "      <td>20540.0</td>\n",
       "      <td>69170.0</td>\n",
       "    </tr>\n",
       "  </tbody>\n",
       "</table>\n",
       "<p>4 rows × 50 columns</p>\n",
       "</div>"
      ],
      "text/plain": [
       "  run_no                       universe_id  \\\n",
       "0     14  522129ffe46aa5e3cc939fddb34c20d2   \n",
       "0     14  522129ffe46aa5e3cc939fddb34c20d2   \n",
       "0     14  522129ffe46aa5e3cc939fddb34c20d2   \n",
       "0     14  522129ffe46aa5e3cc939fddb34c20d2   \n",
       "\n",
       "                                   universe_settings  execution_time  \\\n",
       "0  {\"cutoff\": \"quantile_0.1\", \"eval_fairness_grou...       26.341414   \n",
       "0  {\"cutoff\": \"quantile_0.1\", \"eval_fairness_grou...       26.341414   \n",
       "0  {\"cutoff\": \"quantile_0.25\", \"eval_fairness_gro...       26.341414   \n",
       "0  {\"cutoff\": \"quantile_0.25\", \"eval_fairness_gro...       26.341414   \n",
       "\n",
       "   test_size_n  test_size_frac  fair_main_equalized_odds_difference  \\\n",
       "0        89710             1.0                             0.099083   \n",
       "0        89710             1.0                             0.099083   \n",
       "0        89710             1.0                             0.224505   \n",
       "0        89710             1.0                             0.224505   \n",
       "\n",
       "   fair_main_equalized_odds_ratio  fair_main_demographic_parity_difference  \\\n",
       "0                        0.897534                                 0.089663   \n",
       "0                        0.897534                                 0.089663   \n",
       "0                        0.751374                                 0.205536   \n",
       "0                        0.751374                                 0.205536   \n",
       "\n",
       "   fair_main_demographic_parity_ratio  ...  perf_grp_precision_0  \\\n",
       "0                            0.907482  ...                   NaN   \n",
       "0                            0.907482  ...              0.117251   \n",
       "0                            0.773756  ...                   NaN   \n",
       "0                            0.773756  ...              0.120632   \n",
       "\n",
       "   perf_grp_precision_1  perf_grp_false positive rate_0  \\\n",
       "0                   NaN                             NaN   \n",
       "0              0.143557                        0.966982   \n",
       "0                   NaN                             NaN   \n",
       "0              0.162334                        0.902983   \n",
       "\n",
       "   perf_grp_false positive rate_1  perf_grp_false negative rate_0  \\\n",
       "0                             NaN                             NaN   \n",
       "0                        0.867899                        0.014358   \n",
       "0                             NaN                             NaN   \n",
       "0                        0.678477                        0.049409   \n",
       "\n",
       "   perf_grp_false negative rate_1  perf_grp_selection rate_0  \\\n",
       "0                             NaN                        NaN   \n",
       "0                        0.044530                   0.969133   \n",
       "0                             NaN                        NaN   \n",
       "0                        0.136433                   0.908471   \n",
       "\n",
       "   perf_grp_selection rate_1  perf_grp_count_0  perf_grp_count_1  \n",
       "0                        NaN               NaN               NaN  \n",
       "0                   0.879471           20540.0           69170.0  \n",
       "0                        NaN               NaN               NaN  \n",
       "0                   0.702935           20540.0           69170.0  \n",
       "\n",
       "[4 rows x 50 columns]"
      ]
     },
     "execution_count": 79,
     "metadata": {},
     "output_type": "execute_result"
    }
   ],
   "source": [
    "final_output = universe_analysis.generate_final_output(\n",
    "    y_pred_prob=probs_test,\n",
    "    y_test=y_true,\n",
    "    org_test=org_test,\n",
    "    filter_data=filter_sub_universe_data,\n",
    "    cp_metrics_df=cp_metrics_df,\n",
    "    save=True,\n",
    ")\n",
    "final_output"
   ]
  },
  {
   "cell_type": "code",
   "execution_count": null,
   "id": "721ff514-cb11-46f8-b6fc-50392f74b5cb",
   "metadata": {
    "papermill": {
     "duration": 0.030678,
     "end_time": "2025-07-30T21:03:43.854914",
     "exception": false,
     "start_time": "2025-07-30T21:03:43.824236",
     "status": "completed"
    },
    "tags": []
   },
   "outputs": [],
   "source": []
  }
 ],
 "metadata": {
  "celltoolbar": "Tags",
  "kernelspec": {
   "display_name": "Python (CMA Fairness)",
   "language": "python",
   "name": "cma_fair_env"
  },
  "language_info": {
   "codemirror_mode": {
    "name": "ipython",
    "version": 3
   },
   "file_extension": ".py",
   "mimetype": "text/x-python",
   "name": "python",
   "nbconvert_exporter": "python",
   "pygments_lexer": "ipython3",
   "version": "3.10.12"
  },
  "papermill": {
   "default_parameters": {},
   "duration": 40.5628,
   "end_time": "2025-07-30T21:03:44.705331",
   "environment_variables": {},
   "exception": null,
   "input_path": "universe_analysis.ipynb",
   "output_path": "output/runs/14/notebooks/m_14-522129ffe46aa5e3cc939fddb34c20d2.ipynb",
   "parameters": {
    "output_dir": "output",
    "run_no": "14",
    "seed": "2023",
    "universe": "{\"cutoff\": [\"quantile_0.1\", \"quantile_0.25\"], \"eval_fairness_grouping\": [\"majority-minority\", \"nationality-all\"], \"exclude_features\": \"sex\", \"exclude_subgroups\": \"drop-non-german\", \"model\": \"logreg\", \"scale\": \"do-not-scale\", \"training_size\": \"5k\", \"training_year\": \"2012_14\"}",
    "universe_id": "522129ffe46aa5e3cc939fddb34c20d2"
   },
   "start_time": "2025-07-30T21:03:04.142531",
   "version": "2.6.0"
  }
 },
 "nbformat": 4,
 "nbformat_minor": 5
}