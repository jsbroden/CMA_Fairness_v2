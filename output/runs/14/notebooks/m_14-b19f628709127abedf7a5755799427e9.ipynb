{
 "cells": [
  {
   "cell_type": "code",
   "execution_count": 1,
   "id": "f159f837-637b-42ba-96b5-ec9a68c44524",
   "metadata": {
    "execution": {
     "iopub.execute_input": "2025-07-30T21:24:03.313079Z",
     "iopub.status.busy": "2025-07-30T21:24:03.312647Z",
     "iopub.status.idle": "2025-07-30T21:24:03.326540Z",
     "shell.execute_reply": "2025-07-30T21:24:03.325371Z"
    },
    "papermill": {
     "duration": 0.042406,
     "end_time": "2025-07-30T21:24:03.328539",
     "exception": false,
     "start_time": "2025-07-30T21:24:03.286133",
     "status": "completed"
    },
    "tags": []
   },
   "outputs": [
    {
     "name": "stdout",
     "output_type": "stream",
     "text": [
      "/dss/dsshome1/0C/ra93lal2/cma/CMA_Fairness_v2\n"
     ]
    },
    {
     "name": "stderr",
     "output_type": "stream",
     "text": [
      "/dss/dsshome1/0C/ra93lal2/.local/share/virtualenvs/CMA_Fairness_v2-3j10GkSs/lib/python3.10/site-packages/IPython/core/magics/osm.py:393: UserWarning: This is now an optional IPython functionality, using bookmarks requires you to install the `pickleshare` library.\n",
      "  bkms = self.shell.db.get('bookmarks', {})\n",
      "/dss/dsshome1/0C/ra93lal2/.local/share/virtualenvs/CMA_Fairness_v2-3j10GkSs/lib/python3.10/site-packages/IPython/core/magics/osm.py:417: UserWarning: This is now an optional IPython functionality, setting dhist requires you to install the `pickleshare` library.\n",
      "  self.shell.db['dhist'] = compress_dhist(dhist)[-100:]\n"
     ]
    }
   ],
   "source": [
    "%cd ~/cma/CMA_Fairness_v2"
   ]
  },
  {
   "cell_type": "markdown",
   "id": "de2603b9",
   "metadata": {
    "papermill": {
     "duration": 0.021036,
     "end_time": "2025-07-30T21:24:03.370674",
     "exception": false,
     "start_time": "2025-07-30T21:24:03.349638",
     "status": "completed"
    },
    "tags": []
   },
   "source": [
    "The following cell holds the definition of our parameters, these values can be overriden by rendering the with e.g. the following command:\n",
    "\n",
    "papermill -p alpha 0.2 -p ratio 0.3 universe_analysis.ipynb output/test_run.ipynb"
   ]
  },
  {
   "cell_type": "code",
   "execution_count": 2,
   "id": "a80968a0-40bb-4fa9-85ef-2d5eefb01975",
   "metadata": {
    "execution": {
     "iopub.execute_input": "2025-07-30T21:24:03.411224Z",
     "iopub.status.busy": "2025-07-30T21:24:03.410775Z",
     "iopub.status.idle": "2025-07-30T21:24:03.415332Z",
     "shell.execute_reply": "2025-07-30T21:24:03.414506Z"
    },
    "papermill": {
     "duration": 0.026126,
     "end_time": "2025-07-30T21:24:03.417278",
     "exception": false,
     "start_time": "2025-07-30T21:24:03.391152",
     "status": "completed"
    },
    "tags": []
   },
   "outputs": [
    {
     "name": "stdout",
     "output_type": "stream",
     "text": [
      "Current working directory: /dss/dsshome1/0C/ra93lal2/cma/CMA_Fairness_v2\n"
     ]
    }
   ],
   "source": [
    "import os\n",
    "print(\"Current working directory:\", os.getcwd())"
   ]
  },
  {
   "cell_type": "code",
   "execution_count": 3,
   "id": "2dce4c03",
   "metadata": {
    "execution": {
     "iopub.execute_input": "2025-07-30T21:24:03.459871Z",
     "iopub.status.busy": "2025-07-30T21:24:03.459396Z",
     "iopub.status.idle": "2025-07-30T21:24:04.257060Z",
     "shell.execute_reply": "2025-07-30T21:24:04.256322Z"
    },
    "papermill": {
     "duration": 0.819026,
     "end_time": "2025-07-30T21:24:04.258773",
     "exception": false,
     "start_time": "2025-07-30T21:24:03.439747",
     "status": "completed"
    },
    "tags": [
     "parameters"
    ]
   },
   "outputs": [],
   "source": [
    "run_no = 0\n",
    "universe_id = \"test\"\n",
    "universe = {\n",
    "    \"training_size\": \"25k\", # \"25k\", \"5k\", \"1k\"\n",
    "    \"training_year\": \"2014\", # \"2014\", \"2012_14\", \"2010_14\"\n",
    "    \"scale\": \"scale\", # \"scale\", \"do-not-scale\",\n",
    "    #\"stratify_split\": \"target\", # \"none\", \"target\", \"protected-attribute\", \"both\",\n",
    "    \"model\": \"elasticnet\", # \"logreg\", \"penalized_logreg\", \"rf\", \"gbm\", \"elasticnet\"\n",
    "    \"cutoff\": [\"quantile_0.15\", \"quantile_0.30\"],\n",
    "    \"exclude_features\": \"age\", # \"none\", \"nationality\", \"sex\", \"nationality-sex\", \"age\"\n",
    "    \"exclude_subgroups\": \"keep-all\", # \"keep-all\", \"drop-non-german\"\n",
    "    \"eval_fairness_grouping\": [\"majority-minority\", \"nationality-all\"]\n",
    "}\n",
    "\n",
    "output_dir=\"./output\"\n",
    "seed=0"
   ]
  },
  {
   "cell_type": "code",
   "execution_count": 4,
   "id": "046d34ad",
   "metadata": {
    "execution": {
     "iopub.execute_input": "2025-07-30T21:24:04.301945Z",
     "iopub.status.busy": "2025-07-30T21:24:04.301449Z",
     "iopub.status.idle": "2025-07-30T21:24:04.306810Z",
     "shell.execute_reply": "2025-07-30T21:24:04.305881Z"
    },
    "papermill": {
     "duration": 0.026855,
     "end_time": "2025-07-30T21:24:04.308594",
     "exception": false,
     "start_time": "2025-07-30T21:24:04.281739",
     "status": "completed"
    },
    "tags": [
     "injected-parameters"
    ]
   },
   "outputs": [],
   "source": [
    "# Parameters\n",
    "universe_id = \"b19f628709127abedf7a5755799427e9\"\n",
    "run_no = \"14\"\n",
    "universe = \"{\\\"cutoff\\\": [\\\"quantile_0.1\\\", \\\"quantile_0.25\\\"], \\\"eval_fairness_grouping\\\": [\\\"majority-minority\\\", \\\"nationality-all\\\"], \\\"exclude_features\\\": \\\"none\\\", \\\"exclude_subgroups\\\": \\\"drop-non-german\\\", \\\"model\\\": \\\"rf\\\", \\\"scale\\\": \\\"scale\\\", \\\"training_size\\\": \\\"1k\\\", \\\"training_year\\\": \\\"2014\\\"}\"\n",
    "output_dir = \"output\"\n",
    "seed = \"2023\"\n"
   ]
  },
  {
   "cell_type": "code",
   "execution_count": 5,
   "id": "1650acaf",
   "metadata": {
    "execution": {
     "iopub.execute_input": "2025-07-30T21:24:04.350908Z",
     "iopub.status.busy": "2025-07-30T21:24:04.350470Z",
     "iopub.status.idle": "2025-07-30T21:24:04.375040Z",
     "shell.execute_reply": "2025-07-30T21:24:04.373644Z"
    },
    "papermill": {
     "duration": 0.047783,
     "end_time": "2025-07-30T21:24:04.377259",
     "exception": false,
     "start_time": "2025-07-30T21:24:04.329476",
     "status": "completed"
    },
    "tags": []
   },
   "outputs": [],
   "source": [
    "import json\n",
    "# Parse universe into dict if it is passed as a string\n",
    "if isinstance(universe, str):\n",
    "    universe = json.loads(universe)"
   ]
  },
  {
   "cell_type": "code",
   "execution_count": 6,
   "id": "16620c48",
   "metadata": {
    "execution": {
     "iopub.execute_input": "2025-07-30T21:24:04.423016Z",
     "iopub.status.busy": "2025-07-30T21:24:04.422676Z",
     "iopub.status.idle": "2025-07-30T21:24:04.467100Z",
     "shell.execute_reply": "2025-07-30T21:24:04.466066Z"
    },
    "papermill": {
     "duration": 0.068848,
     "end_time": "2025-07-30T21:24:04.469073",
     "exception": false,
     "start_time": "2025-07-30T21:24:04.400225",
     "status": "completed"
    },
    "tags": []
   },
   "outputs": [],
   "source": [
    "# Auto-reload the custom package\n",
    "%load_ext autoreload\n",
    "%autoreload 1\n",
    "%aimport fairness_multiverse"
   ]
  },
  {
   "cell_type": "code",
   "execution_count": 7,
   "id": "01c5c9f3",
   "metadata": {
    "execution": {
     "iopub.execute_input": "2025-07-30T21:24:04.512953Z",
     "iopub.status.busy": "2025-07-30T21:24:04.512465Z",
     "iopub.status.idle": "2025-07-30T21:24:06.598809Z",
     "shell.execute_reply": "2025-07-30T21:24:06.597877Z"
    },
    "papermill": {
     "duration": 2.110946,
     "end_time": "2025-07-30T21:24:06.600705",
     "exception": false,
     "start_time": "2025-07-30T21:24:04.489759",
     "status": "completed"
    },
    "tags": []
   },
   "outputs": [],
   "source": [
    "from fairness_multiverse.universe import UniverseAnalysis\n",
    "\n",
    "universe_analysis = UniverseAnalysis(\n",
    "    run_no = run_no,\n",
    "    universe_id = universe_id,\n",
    "    universe = universe,\n",
    "    output_dir=output_dir,\n",
    ")"
   ]
  },
  {
   "cell_type": "code",
   "execution_count": 8,
   "id": "106241f5",
   "metadata": {
    "execution": {
     "iopub.execute_input": "2025-07-30T21:24:06.648075Z",
     "iopub.status.busy": "2025-07-30T21:24:06.647640Z",
     "iopub.status.idle": "2025-07-30T21:24:06.654313Z",
     "shell.execute_reply": "2025-07-30T21:24:06.653043Z"
    },
    "papermill": {
     "duration": 0.033149,
     "end_time": "2025-07-30T21:24:06.656259",
     "exception": false,
     "start_time": "2025-07-30T21:24:06.623110",
     "status": "completed"
    },
    "tags": []
   },
   "outputs": [
    {
     "name": "stdout",
     "output_type": "stream",
     "text": [
      "Using Seed: 2023\n"
     ]
    }
   ],
   "source": [
    "import numpy as np\n",
    "parsed_seed = int(seed)\n",
    "np.random.seed(parsed_seed)\n",
    "print(f\"Using Seed: {parsed_seed}\")"
   ]
  },
  {
   "cell_type": "markdown",
   "id": "e0ebdc57",
   "metadata": {
    "papermill": {
     "duration": 0.021709,
     "end_time": "2025-07-30T21:24:06.699607",
     "exception": false,
     "start_time": "2025-07-30T21:24:06.677898",
     "status": "completed"
    },
    "tags": []
   },
   "source": [
    "# Loading Data"
   ]
  },
  {
   "cell_type": "markdown",
   "id": "681925a3",
   "metadata": {
    "papermill": {
     "duration": 0.022454,
     "end_time": "2025-07-30T21:24:06.745122",
     "exception": false,
     "start_time": "2025-07-30T21:24:06.722668",
     "status": "completed"
    },
    "tags": []
   },
   "source": [
    "Load siab_train, siab_test, siab_calib and/or \n",
    "load siab_train_features, siab_train_labels"
   ]
  },
  {
   "cell_type": "code",
   "execution_count": 9,
   "id": "f0496b8a",
   "metadata": {
    "execution": {
     "iopub.execute_input": "2025-07-30T21:24:06.793414Z",
     "iopub.status.busy": "2025-07-30T21:24:06.792334Z",
     "iopub.status.idle": "2025-07-30T21:24:19.174720Z",
     "shell.execute_reply": "2025-07-30T21:24:19.173608Z"
    },
    "papermill": {
     "duration": 12.408053,
     "end_time": "2025-07-30T21:24:19.176277",
     "exception": false,
     "start_time": "2025-07-30T21:24:06.768224",
     "status": "completed"
    },
    "tags": []
   },
   "outputs": [
    {
     "name": "stdout",
     "output_type": "stream",
     "text": [
      "Loading SIAB data from cache: data/siab_cached.csv.gz\n"
     ]
    },
    {
     "name": "stdout",
     "output_type": "stream",
     "text": [
      "(643690, 164)\n"
     ]
    }
   ],
   "source": [
    "from pathlib import Path\n",
    "import pandas as pd\n",
    "\n",
    "# File paths\n",
    "raw_file = Path(\"data/raw/siab.csv\")\n",
    "cache_file = Path(\"data/siab_cached.csv.gz\")\n",
    "\n",
    "# Ensure cache directory exists\n",
    "cache_file.parent.mkdir(parents=True, exist_ok=True)\n",
    "\n",
    "# Load with simple caching\n",
    "if cache_file.exists():\n",
    "    print(f\"Loading SIAB data from cache: {cache_file}\")\n",
    "    siab = pd.read_csv(cache_file, compression='gzip')\n",
    "else:\n",
    "    print(f\"Cache not found. Reading raw SIAB data: {raw_file}\")\n",
    "    siab = pd.read_csv(raw_file)\n",
    "    siab.to_csv(cache_file, index=False, compression='gzip')\n",
    "    print(f\"Cached SIAB data to: {cache_file}\")\n",
    "\n",
    "# Now use `siab` DataFrame as needed\n",
    "print(siab.shape)"
   ]
  },
  {
   "cell_type": "code",
   "execution_count": 10,
   "id": "db0ca512-5f53-4dba-abdb-a2888bca41ba",
   "metadata": {
    "execution": {
     "iopub.execute_input": "2025-07-30T21:24:19.218610Z",
     "iopub.status.busy": "2025-07-30T21:24:19.218078Z",
     "iopub.status.idle": "2025-07-30T21:24:19.224145Z",
     "shell.execute_reply": "2025-07-30T21:24:19.223114Z"
    },
    "papermill": {
     "duration": 0.027912,
     "end_time": "2025-07-30T21:24:19.225942",
     "exception": false,
     "start_time": "2025-07-30T21:24:19.198030",
     "status": "completed"
    },
    "tags": []
   },
   "outputs": [],
   "source": [
    "#siab"
   ]
  },
  {
   "cell_type": "code",
   "execution_count": 11,
   "id": "a0edb063",
   "metadata": {
    "execution": {
     "iopub.execute_input": "2025-07-30T21:24:19.267875Z",
     "iopub.status.busy": "2025-07-30T21:24:19.267380Z",
     "iopub.status.idle": "2025-07-30T21:24:19.272580Z",
     "shell.execute_reply": "2025-07-30T21:24:19.271672Z"
    },
    "papermill": {
     "duration": 0.02796,
     "end_time": "2025-07-30T21:24:19.274315",
     "exception": false,
     "start_time": "2025-07-30T21:24:19.246355",
     "status": "completed"
    },
    "tags": []
   },
   "outputs": [],
   "source": [
    "#import pandas as pd\n",
    "#\n",
    "#X_train = pd.read_csv(\"./data/X_train.csv\")\n",
    "#y_train = pd.read_csv(\"./data/y_train.csv\")"
   ]
  },
  {
   "cell_type": "code",
   "execution_count": 12,
   "id": "63d08085",
   "metadata": {
    "execution": {
     "iopub.execute_input": "2025-07-30T21:24:19.317416Z",
     "iopub.status.busy": "2025-07-30T21:24:19.316922Z",
     "iopub.status.idle": "2025-07-30T21:24:19.321742Z",
     "shell.execute_reply": "2025-07-30T21:24:19.320878Z"
    },
    "papermill": {
     "duration": 0.027977,
     "end_time": "2025-07-30T21:24:19.323172",
     "exception": false,
     "start_time": "2025-07-30T21:24:19.295195",
     "status": "completed"
    },
    "tags": []
   },
   "outputs": [],
   "source": [
    "#X_test = pd.read_csv(\"./data/X_test.csv\")\n",
    "#y_true = pd.read_csv(\"./data/y_test.csv\")"
   ]
  },
  {
   "cell_type": "code",
   "execution_count": 13,
   "id": "98a8d0fa-1d3d-4ed8-bb2c-281470e24add",
   "metadata": {
    "execution": {
     "iopub.execute_input": "2025-07-30T21:24:19.367729Z",
     "iopub.status.busy": "2025-07-30T21:24:19.366703Z",
     "iopub.status.idle": "2025-07-30T21:24:19.372295Z",
     "shell.execute_reply": "2025-07-30T21:24:19.371376Z"
    },
    "papermill": {
     "duration": 0.029716,
     "end_time": "2025-07-30T21:24:19.373928",
     "exception": false,
     "start_time": "2025-07-30T21:24:19.344212",
     "status": "completed"
    },
    "tags": []
   },
   "outputs": [],
   "source": [
    "# Calibration data for conformal\n",
    "#X_calib = pd.read_csv(\"./data/X_calib.csv\")\n",
    "#y_calib = pd.read_csv(\"./data/y_calib.csv\")"
   ]
  },
  {
   "cell_type": "markdown",
   "id": "997051c5-15bd-4b69-9786-c3001a3ce484",
   "metadata": {
    "papermill": {
     "duration": 0.02033,
     "end_time": "2025-07-30T21:24:19.415591",
     "exception": false,
     "start_time": "2025-07-30T21:24:19.395261",
     "status": "completed"
    },
    "tags": []
   },
   "source": [
    "# Splitting Data and Setting Training Data Size"
   ]
  },
  {
   "cell_type": "code",
   "execution_count": 14,
   "id": "e993b61f-042d-41a6-8c81-f55681f86335",
   "metadata": {
    "execution": {
     "iopub.execute_input": "2025-07-30T21:24:19.458092Z",
     "iopub.status.busy": "2025-07-30T21:24:19.457428Z",
     "iopub.status.idle": "2025-07-30T21:24:19.513343Z",
     "shell.execute_reply": "2025-07-30T21:24:19.512074Z"
    },
    "papermill": {
     "duration": 0.079425,
     "end_time": "2025-07-30T21:24:19.515388",
     "exception": false,
     "start_time": "2025-07-30T21:24:19.435963",
     "status": "completed"
    },
    "tags": []
   },
   "outputs": [],
   "source": [
    "def sample_by_year_size(df,\n",
    "                        training_year: str,\n",
    "                        training_size: str,\n",
    "                        random_state: int = 42):\n",
    "    # --- parse training_year into a list of int years ---\n",
    "    if \"_\" in training_year:\n",
    "        start_str, end_str = training_year.split(\"_\", 1)\n",
    "        start = int(start_str)\n",
    "        end   = int(end_str) if len(end_str) == 4 else (int(end_str) + (start // 100)*100)\n",
    "        years = list(range(start, end + 1))\n",
    "    else:\n",
    "        years = [int(training_year)]\n",
    "\n",
    "    df = df[df[\"year\"].isin(years)].reset_index(drop=True)\n",
    "\n",
    "    # --- map training_size to total number of samples ---\n",
    "    total_map = {\"25k\": 25_000, \"5k\": 5_000, \"1k\": 1_000}\n",
    "    if training_size not in total_map:\n",
    "        return df  # e.g. \"all\"\n",
    "\n",
    "    total_samples = total_map[training_size]\n",
    "    n_years       = len(years)\n",
    "    base          = total_samples // n_years\n",
    "    remainder     = total_samples % n_years\n",
    "\n",
    "    # --- build a dict: year -> how many to sample ---\n",
    "    # give +1 to the first `remainder` years in ascending order\n",
    "    quotas = {\n",
    "        year: base + (1 if idx < remainder else 0)\n",
    "        for idx, year in enumerate(sorted(years))\n",
    "    }\n",
    "\n",
    "    # --- sample per‐year according to the quota dict ---\n",
    "    sampled = (\n",
    "        df\n",
    "        .groupby(\"year\", group_keys=False)\n",
    "        .apply(lambda grp: grp.sample(\n",
    "            n=min(len(grp), quotas[grp.name]),\n",
    "            random_state=random_state))\n",
    "        .reset_index(drop=True)\n",
    "    )\n",
    "\n",
    "    return sampled"
   ]
  },
  {
   "cell_type": "code",
   "execution_count": 15,
   "id": "c0ccd338-0e02-41f3-a09d-f56f9266e3fb",
   "metadata": {
    "execution": {
     "iopub.execute_input": "2025-07-30T21:24:19.632304Z",
     "iopub.status.busy": "2025-07-30T21:24:19.631853Z",
     "iopub.status.idle": "2025-07-30T21:24:19.637179Z",
     "shell.execute_reply": "2025-07-30T21:24:19.636090Z"
    },
    "papermill": {
     "duration": 0.078379,
     "end_time": "2025-07-30T21:24:19.639804",
     "exception": false,
     "start_time": "2025-07-30T21:24:19.561425",
     "status": "completed"
    },
    "tags": []
   },
   "outputs": [],
   "source": [
    "#universe[\"training_size\"]"
   ]
  },
  {
   "cell_type": "code",
   "execution_count": 16,
   "id": "ca707fd7-8047-4acd-bfa5-66248fbbf8e6",
   "metadata": {
    "execution": {
     "iopub.execute_input": "2025-07-30T21:24:19.713634Z",
     "iopub.status.busy": "2025-07-30T21:24:19.713250Z",
     "iopub.status.idle": "2025-07-30T21:24:19.718208Z",
     "shell.execute_reply": "2025-07-30T21:24:19.717327Z"
    },
    "papermill": {
     "duration": 0.025109,
     "end_time": "2025-07-30T21:24:19.721445",
     "exception": false,
     "start_time": "2025-07-30T21:24:19.696336",
     "status": "completed"
    },
    "tags": []
   },
   "outputs": [],
   "source": [
    "#universe[\"training_year\"]"
   ]
  },
  {
   "cell_type": "code",
   "execution_count": 17,
   "id": "aea9c6ef-6f46-42c8-85eb-5a62025c1508",
   "metadata": {
    "execution": {
     "iopub.execute_input": "2025-07-30T21:24:19.769323Z",
     "iopub.status.busy": "2025-07-30T21:24:19.768921Z",
     "iopub.status.idle": "2025-07-30T21:24:20.115984Z",
     "shell.execute_reply": "2025-07-30T21:24:20.115067Z"
    },
    "papermill": {
     "duration": 0.376557,
     "end_time": "2025-07-30T21:24:20.117936",
     "exception": false,
     "start_time": "2025-07-30T21:24:19.741379",
     "status": "completed"
    },
    "tags": []
   },
   "outputs": [],
   "source": [
    "siab_train = sample_by_year_size(siab,\n",
    "                               training_year=universe[\"training_year\"],\n",
    "                               training_size=universe[\"training_size\"])"
   ]
  },
  {
   "cell_type": "code",
   "execution_count": 18,
   "id": "8d3afb32-789d-442c-8d5d-9f5aa8dd2eed",
   "metadata": {
    "execution": {
     "iopub.execute_input": "2025-07-30T21:24:20.162993Z",
     "iopub.status.busy": "2025-07-30T21:24:20.162235Z",
     "iopub.status.idle": "2025-07-30T21:24:20.167978Z",
     "shell.execute_reply": "2025-07-30T21:24:20.166843Z"
    },
    "papermill": {
     "duration": 0.030017,
     "end_time": "2025-07-30T21:24:20.169973",
     "exception": false,
     "start_time": "2025-07-30T21:24:20.139956",
     "status": "completed"
    },
    "tags": []
   },
   "outputs": [],
   "source": [
    "#siab_train.shape"
   ]
  },
  {
   "cell_type": "code",
   "execution_count": 19,
   "id": "d582db68-1a4c-47fb-84fc-08518dc1975a",
   "metadata": {
    "execution": {
     "iopub.execute_input": "2025-07-30T21:24:20.230692Z",
     "iopub.status.busy": "2025-07-30T21:24:20.229553Z",
     "iopub.status.idle": "2025-07-30T21:24:20.235718Z",
     "shell.execute_reply": "2025-07-30T21:24:20.234659Z"
    },
    "papermill": {
     "duration": 0.038577,
     "end_time": "2025-07-30T21:24:20.238166",
     "exception": false,
     "start_time": "2025-07-30T21:24:20.199589",
     "status": "completed"
    },
    "tags": []
   },
   "outputs": [],
   "source": [
    "#display(siab_train.groupby(\"year\").size())"
   ]
  },
  {
   "cell_type": "code",
   "execution_count": 20,
   "id": "a561edb4-d032-42cb-8256-22eac1111c64",
   "metadata": {
    "execution": {
     "iopub.execute_input": "2025-07-30T21:24:20.300157Z",
     "iopub.status.busy": "2025-07-30T21:24:20.299399Z",
     "iopub.status.idle": "2025-07-30T21:24:20.594044Z",
     "shell.execute_reply": "2025-07-30T21:24:20.592782Z"
    },
    "papermill": {
     "duration": 0.328577,
     "end_time": "2025-07-30T21:24:20.596394",
     "exception": false,
     "start_time": "2025-07-30T21:24:20.267817",
     "status": "completed"
    },
    "tags": []
   },
   "outputs": [],
   "source": [
    "#siab_train = siab_s[siab_s.year < 2015]\n",
    "siab_calib = siab[siab.year == 2015]\n",
    "siab_test = siab[siab.year == 2016]"
   ]
  },
  {
   "cell_type": "code",
   "execution_count": 21,
   "id": "472de16f-c3db-4916-846b-1f0de9cf1746",
   "metadata": {
    "execution": {
     "iopub.execute_input": "2025-07-30T21:24:20.662918Z",
     "iopub.status.busy": "2025-07-30T21:24:20.661869Z",
     "iopub.status.idle": "2025-07-30T21:24:20.670663Z",
     "shell.execute_reply": "2025-07-30T21:24:20.669340Z"
    },
    "papermill": {
     "duration": 0.056243,
     "end_time": "2025-07-30T21:24:20.679172",
     "exception": false,
     "start_time": "2025-07-30T21:24:20.622929",
     "status": "completed"
    },
    "tags": []
   },
   "outputs": [],
   "source": [
    "X_train = siab_train.iloc[:,4:164]\n",
    "y_train = siab_train.iloc[:, [3]]"
   ]
  },
  {
   "cell_type": "code",
   "execution_count": 22,
   "id": "828c96af-f43a-4ed6-ba47-8ac73a47d56c",
   "metadata": {
    "execution": {
     "iopub.execute_input": "2025-07-30T21:24:20.763375Z",
     "iopub.status.busy": "2025-07-30T21:24:20.762877Z",
     "iopub.status.idle": "2025-07-30T21:24:20.830981Z",
     "shell.execute_reply": "2025-07-30T21:24:20.829637Z"
    },
    "papermill": {
     "duration": 0.098594,
     "end_time": "2025-07-30T21:24:20.833984",
     "exception": false,
     "start_time": "2025-07-30T21:24:20.735390",
     "status": "completed"
    },
    "tags": []
   },
   "outputs": [],
   "source": [
    "X_calib = siab_calib.iloc[:,4:164]\n",
    "y_calib = siab_calib.iloc[:, [3]]"
   ]
  },
  {
   "cell_type": "code",
   "execution_count": 23,
   "id": "c34be9c3-6bd6-476e-acd3-845840e303be",
   "metadata": {
    "execution": {
     "iopub.execute_input": "2025-07-30T21:24:20.889996Z",
     "iopub.status.busy": "2025-07-30T21:24:20.889479Z",
     "iopub.status.idle": "2025-07-30T21:24:20.959688Z",
     "shell.execute_reply": "2025-07-30T21:24:20.958391Z"
    },
    "papermill": {
     "duration": 0.100414,
     "end_time": "2025-07-30T21:24:20.962603",
     "exception": false,
     "start_time": "2025-07-30T21:24:20.862189",
     "status": "completed"
    },
    "tags": []
   },
   "outputs": [],
   "source": [
    "X_test = siab_test.iloc[:,4:164]\n",
    "y_true = siab_test.iloc[:, [3]]"
   ]
  },
  {
   "cell_type": "markdown",
   "id": "9901737e-04df-44f0-9100-f5ad144ed040",
   "metadata": {
    "papermill": {
     "duration": 0.027198,
     "end_time": "2025-07-30T21:24:21.017982",
     "exception": false,
     "start_time": "2025-07-30T21:24:20.990784",
     "status": "completed"
    },
    "tags": []
   },
   "source": [
    "# Splitting Data and Setting Training Data Size OLD VERSION"
   ]
  },
  {
   "cell_type": "code",
   "execution_count": 24,
   "id": "acbc8f7d-8fc8-4e86-8c59-5dcb0f58384b",
   "metadata": {
    "execution": {
     "iopub.execute_input": "2025-07-30T21:24:21.109912Z",
     "iopub.status.busy": "2025-07-30T21:24:21.108968Z",
     "iopub.status.idle": "2025-07-30T21:24:21.114697Z",
     "shell.execute_reply": "2025-07-30T21:24:21.113714Z"
    },
    "papermill": {
     "duration": 0.057155,
     "end_time": "2025-07-30T21:24:21.116627",
     "exception": false,
     "start_time": "2025-07-30T21:24:21.059472",
     "status": "completed"
    },
    "tags": []
   },
   "outputs": [],
   "source": [
    "#def sample_by_year(df, training_size, random_state=42):\n",
    "#    if training_size == \"2014\":\n",
    "#        return df[df[\"year\"] == 2014].reset_index(drop=True)\n",
    "#    \n",
    "#    size_map = {\n",
    "#        \"25k\": 5000,\n",
    "#        \"5k\": 1000,\n",
    "#        \"1k\": 200\n",
    "#    }\n",
    "#\n",
    "#    if training_size not in size_map:\n",
    "#        return df.reset_index(drop=True)  # use all data\n",
    "#\n",
    "#    n_per_year = size_map[training_size]\n",
    "#    grouped = df.groupby(\"year\")\n",
    "#    sampled = grouped.apply(lambda x: x.sample(n=min(n_per_year, len(x)), random_state=random_state))\n",
    "#    return sampled.reset_index(drop=True)"
   ]
  },
  {
   "cell_type": "code",
   "execution_count": 25,
   "id": "6d931f52-beaf-43ff-9e78-9d44a448d54e",
   "metadata": {
    "execution": {
     "iopub.execute_input": "2025-07-30T21:24:21.172109Z",
     "iopub.status.busy": "2025-07-30T21:24:21.171560Z",
     "iopub.status.idle": "2025-07-30T21:24:21.177205Z",
     "shell.execute_reply": "2025-07-30T21:24:21.176210Z"
    },
    "papermill": {
     "duration": 0.034991,
     "end_time": "2025-07-30T21:24:21.178783",
     "exception": false,
     "start_time": "2025-07-30T21:24:21.143792",
     "status": "completed"
    },
    "tags": []
   },
   "outputs": [],
   "source": [
    "#siab_s = sample_by_year(siab, universe[\"training_size\"])"
   ]
  },
  {
   "cell_type": "code",
   "execution_count": 26,
   "id": "5db0a40e-a4e2-4920-be85-b12ae061d70d",
   "metadata": {
    "execution": {
     "iopub.execute_input": "2025-07-30T21:24:21.237226Z",
     "iopub.status.busy": "2025-07-30T21:24:21.236619Z",
     "iopub.status.idle": "2025-07-30T21:24:21.241421Z",
     "shell.execute_reply": "2025-07-30T21:24:21.240530Z"
    },
    "papermill": {
     "duration": 0.039794,
     "end_time": "2025-07-30T21:24:21.242829",
     "exception": false,
     "start_time": "2025-07-30T21:24:21.203035",
     "status": "completed"
    },
    "tags": []
   },
   "outputs": [],
   "source": [
    "#display(siab_s.groupby(\"year\").size())"
   ]
  },
  {
   "cell_type": "code",
   "execution_count": 27,
   "id": "e6c733c5",
   "metadata": {
    "execution": {
     "iopub.execute_input": "2025-07-30T21:24:21.268714Z",
     "iopub.status.busy": "2025-07-30T21:24:21.268351Z",
     "iopub.status.idle": "2025-07-30T21:24:21.361904Z",
     "shell.execute_reply": "2025-07-30T21:24:21.361153Z"
    },
    "papermill": {
     "duration": 0.10762,
     "end_time": "2025-07-30T21:24:21.363377",
     "exception": false,
     "start_time": "2025-07-30T21:24:21.255757",
     "status": "completed"
    },
    "tags": []
   },
   "outputs": [],
   "source": [
    "# Auxiliary data needed downstream in the pipeline\n",
    "\n",
    "org_train = X_train.copy()\n",
    "org_test = X_test.copy()\n",
    "org_calib = X_calib.copy()"
   ]
  },
  {
   "cell_type": "code",
   "execution_count": 28,
   "id": "1466abac-c6da-4492-a62f-4240ae3783af",
   "metadata": {
    "execution": {
     "iopub.execute_input": "2025-07-30T21:24:21.388511Z",
     "iopub.status.busy": "2025-07-30T21:24:21.387998Z",
     "iopub.status.idle": "2025-07-30T21:24:21.392804Z",
     "shell.execute_reply": "2025-07-30T21:24:21.392100Z"
    },
    "papermill": {
     "duration": 0.018351,
     "end_time": "2025-07-30T21:24:21.394099",
     "exception": false,
     "start_time": "2025-07-30T21:24:21.375748",
     "status": "completed"
    },
    "tags": []
   },
   "outputs": [],
   "source": [
    "# put in other script?\n",
    "# Group sizes\n",
    "\n",
    "#def calculate_percentages(df, df_name):\n",
    "#    total_entries = len(df)\n",
    "#\n",
    "#    female_pct = (df['frau1'] == 1).mean() * 100\n",
    "#    non_german_pct = ((df['maxdeutsch1'] == 0) & (df['maxdeutsch.Missing.'] == 0)).mean() * 100\n",
    "#    non_german_male_pct = ((df['frau1'] == 0) & (df['maxdeutsch1'] == 0) & (df['maxdeutsch.Missing.'] == 0)).mean() * 100\n",
    "#    non_german_female_pct = ((df['frau1'] == 1) & (df['maxdeutsch1'] == 0) & (df['maxdeutsch.Missing.'] == 0)).mean() * 100\n",
    "#\n",
    "#    print(f\"--- {df_name} ---\")\n",
    "#    print(f\"Female: {female_pct:.2f}%\")\n",
    "#    print(f\"Non-German: {non_german_pct:.2f}%\")\n",
    "#    print(f\"Non-German Male: {non_german_male_pct:.2f}%\")\n",
    "#    print(f\"Non-German Female: {non_german_female_pct:.2f}%\\n\")\n",
    "#\n",
    "## Calculate for each DataFrame\n",
    "#calculate_percentages(siab_calib, \"siab_calib\")\n",
    "#calculate_percentages(siab_test, \"siab_test\")\n",
    "#calculate_percentages(siab_train, \"siab_train\")"
   ]
  },
  {
   "cell_type": "markdown",
   "id": "0a4a1b33",
   "metadata": {
    "papermill": {
     "duration": 0.012277,
     "end_time": "2025-07-30T21:24:21.419539",
     "exception": false,
     "start_time": "2025-07-30T21:24:21.407262",
     "status": "completed"
    },
    "tags": []
   },
   "source": [
    "# Preprocessing Data"
   ]
  },
  {
   "cell_type": "code",
   "execution_count": 29,
   "id": "ca879031",
   "metadata": {
    "execution": {
     "iopub.execute_input": "2025-07-30T21:24:21.444443Z",
     "iopub.status.busy": "2025-07-30T21:24:21.443857Z",
     "iopub.status.idle": "2025-07-30T21:24:21.448809Z",
     "shell.execute_reply": "2025-07-30T21:24:21.448140Z"
    },
    "papermill": {
     "duration": 0.018746,
     "end_time": "2025-07-30T21:24:21.450179",
     "exception": false,
     "start_time": "2025-07-30T21:24:21.431433",
     "status": "completed"
    },
    "tags": []
   },
   "outputs": [],
   "source": [
    "# EXCLUDE PROTECTED FEATURES\n",
    "# ----------------------\n",
    "# \"exclude_features\": \"none\", # \"nationality\", \"sex\", \"nationality-sex\"\n",
    "\n",
    "excluded_features = universe[\"exclude_features\"].split(\"-\") # split, e.g.: \"nationality-sex\" -> [\"nationality\", \"sex\"]\n",
    "excluded_features_dictionary = {\n",
    "    \"nationality\": [\"maxdeutsch1\", \"maxdeutsch.Missing.\"],\n",
    "    \"sex\": [\"frau1\"],\n",
    "    \"age\": [\"age\"],\n",
    "}\n"
   ]
  },
  {
   "cell_type": "code",
   "execution_count": 30,
   "id": "b745ac60",
   "metadata": {
    "execution": {
     "iopub.execute_input": "2025-07-30T21:24:21.476424Z",
     "iopub.status.busy": "2025-07-30T21:24:21.475871Z",
     "iopub.status.idle": "2025-07-30T21:24:21.480733Z",
     "shell.execute_reply": "2025-07-30T21:24:21.480067Z"
    },
    "papermill": {
     "duration": 0.018655,
     "end_time": "2025-07-30T21:24:21.482126",
     "exception": false,
     "start_time": "2025-07-30T21:24:21.463471",
     "status": "completed"
    },
    "tags": []
   },
   "outputs": [],
   "source": [
    "# Code nice names to column names\n",
    "\n",
    "excluded_features_columns = [\n",
    "    excluded_features_dictionary[f] for f in excluded_features if len(f) > 0 and f != \"none\"\n",
    "]"
   ]
  },
  {
   "cell_type": "code",
   "execution_count": 31,
   "id": "f84f73a2",
   "metadata": {
    "execution": {
     "iopub.execute_input": "2025-07-30T21:24:21.508491Z",
     "iopub.status.busy": "2025-07-30T21:24:21.507539Z",
     "iopub.status.idle": "2025-07-30T21:24:21.512956Z",
     "shell.execute_reply": "2025-07-30T21:24:21.512181Z"
    },
    "papermill": {
     "duration": 0.019321,
     "end_time": "2025-07-30T21:24:21.514299",
     "exception": false,
     "start_time": "2025-07-30T21:24:21.494978",
     "status": "completed"
    },
    "tags": []
   },
   "outputs": [],
   "source": [
    "from utils import flatten_once\n",
    "\n",
    "excluded_features_columns = flatten_once(excluded_features_columns)"
   ]
  },
  {
   "cell_type": "code",
   "execution_count": 32,
   "id": "884dea22",
   "metadata": {
    "execution": {
     "iopub.execute_input": "2025-07-30T21:24:21.540376Z",
     "iopub.status.busy": "2025-07-30T21:24:21.539959Z",
     "iopub.status.idle": "2025-07-30T21:24:21.545366Z",
     "shell.execute_reply": "2025-07-30T21:24:21.544578Z"
    },
    "papermill": {
     "duration": 0.021077,
     "end_time": "2025-07-30T21:24:21.548167",
     "exception": false,
     "start_time": "2025-07-30T21:24:21.527090",
     "status": "completed"
    },
    "tags": []
   },
   "outputs": [],
   "source": [
    "if len(excluded_features_columns) > 0:\n",
    "    print(f\"Dropping features: {excluded_features_columns}\")\n",
    "    X_train.drop(excluded_features_columns, axis=1, inplace=True)"
   ]
  },
  {
   "cell_type": "code",
   "execution_count": 33,
   "id": "95ab8b16",
   "metadata": {
    "execution": {
     "iopub.execute_input": "2025-07-30T21:24:21.612841Z",
     "iopub.status.busy": "2025-07-30T21:24:21.612462Z",
     "iopub.status.idle": "2025-07-30T21:24:21.618008Z",
     "shell.execute_reply": "2025-07-30T21:24:21.617150Z"
    },
    "papermill": {
     "duration": 0.062906,
     "end_time": "2025-07-30T21:24:21.632223",
     "exception": false,
     "start_time": "2025-07-30T21:24:21.569317",
     "status": "completed"
    },
    "tags": []
   },
   "outputs": [],
   "source": [
    "if len(excluded_features_columns) > 0:\n",
    "    print(f\"Dropping features: {excluded_features_columns}\")\n",
    "    X_test.drop(excluded_features_columns, axis=1, inplace=True)"
   ]
  },
  {
   "cell_type": "code",
   "execution_count": 34,
   "id": "1853aaf5-fb9f-46cb-a2b5-8ea4ae2237e4",
   "metadata": {
    "execution": {
     "iopub.execute_input": "2025-07-30T21:24:21.725333Z",
     "iopub.status.busy": "2025-07-30T21:24:21.724949Z",
     "iopub.status.idle": "2025-07-30T21:24:21.732126Z",
     "shell.execute_reply": "2025-07-30T21:24:21.731333Z"
    },
    "papermill": {
     "duration": 0.060779,
     "end_time": "2025-07-30T21:24:21.733824",
     "exception": false,
     "start_time": "2025-07-30T21:24:21.673045",
     "status": "completed"
    },
    "tags": []
   },
   "outputs": [],
   "source": [
    "if len(excluded_features_columns) > 0:\n",
    "    print(f\"Dropping features: {excluded_features_columns}\")\n",
    "    X_calib.drop(excluded_features_columns, axis=1, inplace=True)"
   ]
  },
  {
   "cell_type": "code",
   "execution_count": 35,
   "id": "6727d079-03e5-481e-9d38-292a90b7a0a8",
   "metadata": {
    "execution": {
     "iopub.execute_input": "2025-07-30T21:24:21.853387Z",
     "iopub.status.busy": "2025-07-30T21:24:21.852522Z",
     "iopub.status.idle": "2025-07-30T21:24:21.857628Z",
     "shell.execute_reply": "2025-07-30T21:24:21.856559Z"
    },
    "papermill": {
     "duration": 0.08806,
     "end_time": "2025-07-30T21:24:21.859308",
     "exception": false,
     "start_time": "2025-07-30T21:24:21.771248",
     "status": "completed"
    },
    "tags": []
   },
   "outputs": [],
   "source": [
    "# SPLIT & STRATIFY DATA\n",
    "# ----------------------"
   ]
  },
  {
   "cell_type": "code",
   "execution_count": 36,
   "id": "76c4dc6d",
   "metadata": {
    "execution": {
     "iopub.execute_input": "2025-07-30T21:24:21.945297Z",
     "iopub.status.busy": "2025-07-30T21:24:21.944716Z",
     "iopub.status.idle": "2025-07-30T21:24:21.950527Z",
     "shell.execute_reply": "2025-07-30T21:24:21.949541Z"
    },
    "papermill": {
     "duration": 0.045946,
     "end_time": "2025-07-30T21:24:21.952821",
     "exception": false,
     "start_time": "2025-07-30T21:24:21.906875",
     "status": "completed"
    },
    "tags": []
   },
   "outputs": [],
   "source": [
    "# EXCLUDE CERTAIN SUBGROUPS\n",
    "# ----------------------\n",
    "\n",
    "mode = universe.get(\"exclude_subgroups\", \"keep-all\") \n",
    "# Fetches the exclude_subgroups setting from the universe dict.\n",
    "# Defaults to \"keep-all\" if the key is missing."
   ]
  },
  {
   "cell_type": "code",
   "execution_count": 37,
   "id": "21994072",
   "metadata": {
    "execution": {
     "iopub.execute_input": "2025-07-30T21:24:21.997619Z",
     "iopub.status.busy": "2025-07-30T21:24:21.997203Z",
     "iopub.status.idle": "2025-07-30T21:24:22.004344Z",
     "shell.execute_reply": "2025-07-30T21:24:22.003347Z"
    },
    "papermill": {
     "duration": 0.033301,
     "end_time": "2025-07-30T21:24:22.008003",
     "exception": false,
     "start_time": "2025-07-30T21:24:21.974702",
     "status": "completed"
    },
    "tags": []
   },
   "outputs": [],
   "source": [
    "if mode == \"keep-all\":\n",
    "    keep_mask = pd.Series(True, index=org_train.index)\n",
    "\n",
    "# org_train contains the original feature columns from features_org (in Simson)\n",
    "# features_org contains unprocessed features, for me X_train at beginning ???\n",
    "# For keep-all, creates a boolean Series (keep_mask) of all True, so no rows are removed.\n",
    "\n",
    "elif mode == \"drop-non-german\":\n",
    "    keep_mask = org_train[\"maxdeutsch1\"] == 1 # ??? what about missing values?\n",
    "\n",
    "else:\n",
    "    raise ValueError(f\"Unsupported mode for exclude_subgroups: {mode}\")\n"
   ]
  },
  {
   "cell_type": "code",
   "execution_count": 38,
   "id": "71651440",
   "metadata": {
    "execution": {
     "iopub.execute_input": "2025-07-30T21:24:22.075443Z",
     "iopub.status.busy": "2025-07-30T21:24:22.075000Z",
     "iopub.status.idle": "2025-07-30T21:24:22.083220Z",
     "shell.execute_reply": "2025-07-30T21:24:22.082027Z"
    },
    "papermill": {
     "duration": 0.044911,
     "end_time": "2025-07-30T21:24:22.097266",
     "exception": false,
     "start_time": "2025-07-30T21:24:22.052355",
     "status": "completed"
    },
    "tags": []
   },
   "outputs": [
    {
     "name": "stdout",
     "output_type": "stream",
     "text": [
      "Dropping 147 rows (14.70%) where mode='drop-non-german'\n"
     ]
    }
   ],
   "source": [
    "n_drop = (~keep_mask).sum() # Calculates how many rows are set to be dropped\n",
    "if n_drop > 0:\n",
    "    pct = n_drop / len(keep_mask) * 100\n",
    "    print(f\"Dropping {n_drop} rows ({pct:.2f}%) where mode='{mode}'\")"
   ]
  },
  {
   "cell_type": "code",
   "execution_count": 39,
   "id": "5fb8eee5",
   "metadata": {
    "execution": {
     "iopub.execute_input": "2025-07-30T21:24:22.208414Z",
     "iopub.status.busy": "2025-07-30T21:24:22.207981Z",
     "iopub.status.idle": "2025-07-30T21:24:22.213647Z",
     "shell.execute_reply": "2025-07-30T21:24:22.212904Z"
    },
    "papermill": {
     "duration": 0.026915,
     "end_time": "2025-07-30T21:24:22.215075",
     "exception": false,
     "start_time": "2025-07-30T21:24:22.188160",
     "status": "completed"
    },
    "tags": []
   },
   "outputs": [],
   "source": [
    "X_train = X_train[keep_mask]"
   ]
  },
  {
   "cell_type": "code",
   "execution_count": 40,
   "id": "b202bb3a",
   "metadata": {
    "execution": {
     "iopub.execute_input": "2025-07-30T21:24:22.240718Z",
     "iopub.status.busy": "2025-07-30T21:24:22.240317Z",
     "iopub.status.idle": "2025-07-30T21:24:22.245859Z",
     "shell.execute_reply": "2025-07-30T21:24:22.245072Z"
    },
    "papermill": {
     "duration": 0.019246,
     "end_time": "2025-07-30T21:24:22.247097",
     "exception": false,
     "start_time": "2025-07-30T21:24:22.227851",
     "status": "completed"
    },
    "tags": []
   },
   "outputs": [],
   "source": [
    "y_train = y_train[keep_mask]"
   ]
  },
  {
   "cell_type": "markdown",
   "id": "493e2ac3",
   "metadata": {
    "papermill": {
     "duration": 0.011469,
     "end_time": "2025-07-30T21:24:22.271658",
     "exception": false,
     "start_time": "2025-07-30T21:24:22.260189",
     "status": "completed"
    },
    "tags": []
   },
   "source": [
    "# Model Training"
   ]
  },
  {
   "cell_type": "code",
   "execution_count": 41,
   "id": "679e1268",
   "metadata": {
    "execution": {
     "iopub.execute_input": "2025-07-30T21:24:22.295757Z",
     "iopub.status.busy": "2025-07-30T21:24:22.295259Z",
     "iopub.status.idle": "2025-07-30T21:24:22.374224Z",
     "shell.execute_reply": "2025-07-30T21:24:22.373496Z"
    },
    "papermill": {
     "duration": 0.093673,
     "end_time": "2025-07-30T21:24:22.376791",
     "exception": false,
     "start_time": "2025-07-30T21:24:22.283118",
     "status": "completed"
    },
    "tags": []
   },
   "outputs": [],
   "source": [
    "from sklearn.linear_model import LogisticRegression\n",
    "from sklearn.ensemble import GradientBoostingClassifier, RandomForestClassifier\n",
    "\n",
    "if (universe[\"model\"] == \"logreg\"):\n",
    "    model = LogisticRegression() #penalty=\"none\") #, solver=\"newton-cg\", max_iter=1) # include random_state=19 ?\n",
    "elif (universe[\"model\"] == \"penalized_logreg\"):\n",
    "    model = LogisticRegression(penalty=\"l2\", C=1.0) #, solver=\"newton-cg\", max_iter=1)\n",
    "elif (universe[\"model\"] == \"rf\"):\n",
    "    model = RandomForestClassifier(n_estimators=100, n_jobs=-1)\n",
    "elif (universe[\"model\"] == \"gbm\"):\n",
    "    model = GradientBoostingClassifier()\n",
    "elif (universe[\"model\"] == \"elasticnet\"):\n",
    "    model = LogisticRegression(penalty = 'elasticnet', solver = 'saga', l1_ratio = 0.5, max_iter=5000) # which solver to use?\n",
    "else:\n",
    "    raise \"Unsupported universe.model\""
   ]
  },
  {
   "cell_type": "code",
   "execution_count": 42,
   "id": "0cc8f744",
   "metadata": {
    "execution": {
     "iopub.execute_input": "2025-07-30T21:24:22.406429Z",
     "iopub.status.busy": "2025-07-30T21:24:22.405964Z",
     "iopub.status.idle": "2025-07-30T21:24:22.411278Z",
     "shell.execute_reply": "2025-07-30T21:24:22.410602Z"
    },
    "papermill": {
     "duration": 0.019375,
     "end_time": "2025-07-30T21:24:22.412593",
     "exception": false,
     "start_time": "2025-07-30T21:24:22.393218",
     "status": "completed"
    },
    "tags": []
   },
   "outputs": [],
   "source": [
    "import numpy as np\n",
    "from sklearn.pipeline import Pipeline\n",
    "from sklearn.preprocessing import StandardScaler\n",
    "\n",
    "model = Pipeline([\n",
    "    #(\"continuous_processor\", continuous_processor),\n",
    "    #(\"categorical_preprocessor\", categorical_preprocessor),\n",
    "    (\"scale\", StandardScaler() if universe[\"scale\"] == \"scale\" else None), \n",
    "    (\"model\", model),\n",
    "])"
   ]
  },
  {
   "cell_type": "code",
   "execution_count": 43,
   "id": "9442c04d",
   "metadata": {
    "execution": {
     "iopub.execute_input": "2025-07-30T21:24:22.438961Z",
     "iopub.status.busy": "2025-07-30T21:24:22.438621Z",
     "iopub.status.idle": "2025-07-30T21:24:22.761234Z",
     "shell.execute_reply": "2025-07-30T21:24:22.760423Z"
    },
    "papermill": {
     "duration": 0.336747,
     "end_time": "2025-07-30T21:24:22.762514",
     "exception": false,
     "start_time": "2025-07-30T21:24:22.425767",
     "status": "completed"
    },
    "tags": []
   },
   "outputs": [
    {
     "data": {
      "text/html": [
       "<style>#sk-container-id-1 {color: black;background-color: white;}#sk-container-id-1 pre{padding: 0;}#sk-container-id-1 div.sk-toggleable {background-color: white;}#sk-container-id-1 label.sk-toggleable__label {cursor: pointer;display: block;width: 100%;margin-bottom: 0;padding: 0.3em;box-sizing: border-box;text-align: center;}#sk-container-id-1 label.sk-toggleable__label-arrow:before {content: \"▸\";float: left;margin-right: 0.25em;color: #696969;}#sk-container-id-1 label.sk-toggleable__label-arrow:hover:before {color: black;}#sk-container-id-1 div.sk-estimator:hover label.sk-toggleable__label-arrow:before {color: black;}#sk-container-id-1 div.sk-toggleable__content {max-height: 0;max-width: 0;overflow: hidden;text-align: left;background-color: #f0f8ff;}#sk-container-id-1 div.sk-toggleable__content pre {margin: 0.2em;color: black;border-radius: 0.25em;background-color: #f0f8ff;}#sk-container-id-1 input.sk-toggleable__control:checked~div.sk-toggleable__content {max-height: 200px;max-width: 100%;overflow: auto;}#sk-container-id-1 input.sk-toggleable__control:checked~label.sk-toggleable__label-arrow:before {content: \"▾\";}#sk-container-id-1 div.sk-estimator input.sk-toggleable__control:checked~label.sk-toggleable__label {background-color: #d4ebff;}#sk-container-id-1 div.sk-label input.sk-toggleable__control:checked~label.sk-toggleable__label {background-color: #d4ebff;}#sk-container-id-1 input.sk-hidden--visually {border: 0;clip: rect(1px 1px 1px 1px);clip: rect(1px, 1px, 1px, 1px);height: 1px;margin: -1px;overflow: hidden;padding: 0;position: absolute;width: 1px;}#sk-container-id-1 div.sk-estimator {font-family: monospace;background-color: #f0f8ff;border: 1px dotted black;border-radius: 0.25em;box-sizing: border-box;margin-bottom: 0.5em;}#sk-container-id-1 div.sk-estimator:hover {background-color: #d4ebff;}#sk-container-id-1 div.sk-parallel-item::after {content: \"\";width: 100%;border-bottom: 1px solid gray;flex-grow: 1;}#sk-container-id-1 div.sk-label:hover label.sk-toggleable__label {background-color: #d4ebff;}#sk-container-id-1 div.sk-serial::before {content: \"\";position: absolute;border-left: 1px solid gray;box-sizing: border-box;top: 0;bottom: 0;left: 50%;z-index: 0;}#sk-container-id-1 div.sk-serial {display: flex;flex-direction: column;align-items: center;background-color: white;padding-right: 0.2em;padding-left: 0.2em;position: relative;}#sk-container-id-1 div.sk-item {position: relative;z-index: 1;}#sk-container-id-1 div.sk-parallel {display: flex;align-items: stretch;justify-content: center;background-color: white;position: relative;}#sk-container-id-1 div.sk-item::before, #sk-container-id-1 div.sk-parallel-item::before {content: \"\";position: absolute;border-left: 1px solid gray;box-sizing: border-box;top: 0;bottom: 0;left: 50%;z-index: -1;}#sk-container-id-1 div.sk-parallel-item {display: flex;flex-direction: column;z-index: 1;position: relative;background-color: white;}#sk-container-id-1 div.sk-parallel-item:first-child::after {align-self: flex-end;width: 50%;}#sk-container-id-1 div.sk-parallel-item:last-child::after {align-self: flex-start;width: 50%;}#sk-container-id-1 div.sk-parallel-item:only-child::after {width: 0;}#sk-container-id-1 div.sk-dashed-wrapped {border: 1px dashed gray;margin: 0 0.4em 0.5em 0.4em;box-sizing: border-box;padding-bottom: 0.4em;background-color: white;}#sk-container-id-1 div.sk-label label {font-family: monospace;font-weight: bold;display: inline-block;line-height: 1.2em;}#sk-container-id-1 div.sk-label-container {text-align: center;}#sk-container-id-1 div.sk-container {/* jupyter's `normalize.less` sets `[hidden] { display: none; }` but bootstrap.min.css set `[hidden] { display: none !important; }` so we also need the `!important` here to be able to override the default hidden behavior on the sphinx rendered scikit-learn.org. See: https://github.com/scikit-learn/scikit-learn/issues/21755 */display: inline-block !important;position: relative;}#sk-container-id-1 div.sk-text-repr-fallback {display: none;}</style><div id=\"sk-container-id-1\" class=\"sk-top-container\"><div class=\"sk-text-repr-fallback\"><pre>Pipeline(steps=[(&#x27;scale&#x27;, StandardScaler()),\n",
       "                (&#x27;model&#x27;, RandomForestClassifier(n_jobs=-1))])</pre><b>In a Jupyter environment, please rerun this cell to show the HTML representation or trust the notebook. <br />On GitHub, the HTML representation is unable to render, please try loading this page with nbviewer.org.</b></div><div class=\"sk-container\" hidden><div class=\"sk-item sk-dashed-wrapped\"><div class=\"sk-label-container\"><div class=\"sk-label sk-toggleable\"><input class=\"sk-toggleable__control sk-hidden--visually\" id=\"sk-estimator-id-1\" type=\"checkbox\" ><label for=\"sk-estimator-id-1\" class=\"sk-toggleable__label sk-toggleable__label-arrow\">Pipeline</label><div class=\"sk-toggleable__content\"><pre>Pipeline(steps=[(&#x27;scale&#x27;, StandardScaler()),\n",
       "                (&#x27;model&#x27;, RandomForestClassifier(n_jobs=-1))])</pre></div></div></div><div class=\"sk-serial\"><div class=\"sk-item\"><div class=\"sk-estimator sk-toggleable\"><input class=\"sk-toggleable__control sk-hidden--visually\" id=\"sk-estimator-id-2\" type=\"checkbox\" ><label for=\"sk-estimator-id-2\" class=\"sk-toggleable__label sk-toggleable__label-arrow\">StandardScaler</label><div class=\"sk-toggleable__content\"><pre>StandardScaler()</pre></div></div></div><div class=\"sk-item\"><div class=\"sk-estimator sk-toggleable\"><input class=\"sk-toggleable__control sk-hidden--visually\" id=\"sk-estimator-id-3\" type=\"checkbox\" ><label for=\"sk-estimator-id-3\" class=\"sk-toggleable__label sk-toggleable__label-arrow\">RandomForestClassifier</label><div class=\"sk-toggleable__content\"><pre>RandomForestClassifier(n_jobs=-1)</pre></div></div></div></div></div></div></div>"
      ],
      "text/plain": [
       "Pipeline(steps=[('scale', StandardScaler()),\n",
       "                ('model', RandomForestClassifier(n_jobs=-1))])"
      ]
     },
     "execution_count": 43,
     "metadata": {},
     "output_type": "execute_result"
    }
   ],
   "source": [
    "model.fit(X_train, y_train.values.ravel())"
   ]
  },
  {
   "cell_type": "code",
   "execution_count": 44,
   "id": "af59f8c0",
   "metadata": {
    "execution": {
     "iopub.execute_input": "2025-07-30T21:24:22.789023Z",
     "iopub.status.busy": "2025-07-30T21:24:22.788524Z",
     "iopub.status.idle": "2025-07-30T21:24:22.793439Z",
     "shell.execute_reply": "2025-07-30T21:24:22.792495Z"
    },
    "papermill": {
     "duration": 0.057542,
     "end_time": "2025-07-30T21:24:22.832687",
     "exception": false,
     "start_time": "2025-07-30T21:24:22.775145",
     "status": "completed"
    },
    "tags": []
   },
   "outputs": [],
   "source": [
    "from fairness_multiverse.universe import predict_w_threshold"
   ]
  },
  {
   "cell_type": "code",
   "execution_count": 45,
   "id": "a7cf2e16",
   "metadata": {
    "execution": {
     "iopub.execute_input": "2025-07-30T21:24:22.886518Z",
     "iopub.status.busy": "2025-07-30T21:24:22.886122Z",
     "iopub.status.idle": "2025-07-30T21:24:23.913243Z",
     "shell.execute_reply": "2025-07-30T21:24:23.912073Z"
    },
    "papermill": {
     "duration": 1.052463,
     "end_time": "2025-07-30T21:24:23.915317",
     "exception": false,
     "start_time": "2025-07-30T21:24:22.862854",
     "status": "completed"
    },
    "tags": []
   },
   "outputs": [
    {
     "data": {
      "text/plain": [
       "0.8612306320365622"
      ]
     },
     "execution_count": 45,
     "metadata": {},
     "output_type": "execute_result"
    }
   ],
   "source": [
    "probs_test = model.predict_proba(X_test)\n",
    "\n",
    "'''\n",
    "Below code returns a boolean array (or binary 0/1 array depending on how it’s used) where each element \n",
    "is True if the probability of class 1 is greater than or equal to the threshold, and False otherwise.\n",
    "'''\n",
    "y_pred_default = predict_w_threshold(probs_test, 0.5)\n",
    "\n",
    "from sklearn.metrics import accuracy_score\n",
    "\n",
    "# Naive prediction\n",
    "accuracy_score(y_true = y_true, y_pred = y_pred_default)"
   ]
  },
  {
   "cell_type": "code",
   "execution_count": 46,
   "id": "081964c3",
   "metadata": {
    "execution": {
     "iopub.execute_input": "2025-07-30T21:24:23.977678Z",
     "iopub.status.busy": "2025-07-30T21:24:23.976701Z",
     "iopub.status.idle": "2025-07-30T21:24:24.770637Z",
     "shell.execute_reply": "2025-07-30T21:24:24.769472Z"
    },
    "papermill": {
     "duration": 0.822099,
     "end_time": "2025-07-30T21:24:24.772082",
     "exception": false,
     "start_time": "2025-07-30T21:24:23.949983",
     "status": "completed"
    },
    "tags": []
   },
   "outputs": [
    {
     "data": {
      "text/plain": [
       "array([0, 0, 0, ..., 0, 0, 0])"
      ]
     },
     "execution_count": 46,
     "metadata": {},
     "output_type": "execute_result"
    }
   ],
   "source": [
    "model.predict(X_test)"
   ]
  },
  {
   "cell_type": "markdown",
   "id": "56c9705b",
   "metadata": {
    "papermill": {
     "duration": 0.011576,
     "end_time": "2025-07-30T21:24:24.797306",
     "exception": false,
     "start_time": "2025-07-30T21:24:24.785730",
     "status": "completed"
    },
    "tags": []
   },
   "source": [
    "# Conformal Prediction"
   ]
  },
  {
   "cell_type": "code",
   "execution_count": 47,
   "id": "160ec6ff",
   "metadata": {
    "execution": {
     "iopub.execute_input": "2025-07-30T21:24:24.835497Z",
     "iopub.status.busy": "2025-07-30T21:24:24.834755Z",
     "iopub.status.idle": "2025-07-30T21:24:24.841365Z",
     "shell.execute_reply": "2025-07-30T21:24:24.840103Z"
    },
    "papermill": {
     "duration": 0.034774,
     "end_time": "2025-07-30T21:24:24.843850",
     "exception": false,
     "start_time": "2025-07-30T21:24:24.809076",
     "status": "completed"
    },
    "tags": []
   },
   "outputs": [],
   "source": [
    "# Miscoverage level for conformal prediction (10% allowed error rate => 90% target coverage)\n",
    "alpha = 0.1"
   ]
  },
  {
   "cell_type": "code",
   "execution_count": 48,
   "id": "eadf4555-3dd3-440e-8e35-f82a4ad9f855",
   "metadata": {
    "execution": {
     "iopub.execute_input": "2025-07-30T21:24:24.895376Z",
     "iopub.status.busy": "2025-07-30T21:24:24.894931Z",
     "iopub.status.idle": "2025-07-30T21:24:25.638059Z",
     "shell.execute_reply": "2025-07-30T21:24:25.637108Z"
    },
    "papermill": {
     "duration": 0.771032,
     "end_time": "2025-07-30T21:24:25.639889",
     "exception": false,
     "start_time": "2025-07-30T21:24:24.868857",
     "status": "completed"
    },
    "tags": []
   },
   "outputs": [],
   "source": [
    "probs_calib = model.predict_proba(X_calib)"
   ]
  },
  {
   "cell_type": "code",
   "execution_count": 49,
   "id": "2ed93547-6d5d-4983-9b36-1ecb300da49a",
   "metadata": {
    "execution": {
     "iopub.execute_input": "2025-07-30T21:24:25.684726Z",
     "iopub.status.busy": "2025-07-30T21:24:25.684242Z",
     "iopub.status.idle": "2025-07-30T21:24:25.690088Z",
     "shell.execute_reply": "2025-07-30T21:24:25.689138Z"
    },
    "papermill": {
     "duration": 0.030151,
     "end_time": "2025-07-30T21:24:25.691653",
     "exception": false,
     "start_time": "2025-07-30T21:24:25.661502",
     "status": "completed"
    },
    "tags": []
   },
   "outputs": [],
   "source": [
    "y_calib = y_calib.values.ravel().astype(int)"
   ]
  },
  {
   "cell_type": "code",
   "execution_count": 50,
   "id": "65d1320d-f588-4b38-9072-62af1ae97f7d",
   "metadata": {
    "execution": {
     "iopub.execute_input": "2025-07-30T21:24:25.740669Z",
     "iopub.status.busy": "2025-07-30T21:24:25.739699Z",
     "iopub.status.idle": "2025-07-30T21:24:25.746903Z",
     "shell.execute_reply": "2025-07-30T21:24:25.745963Z"
    },
    "papermill": {
     "duration": 0.032989,
     "end_time": "2025-07-30T21:24:25.749296",
     "exception": false,
     "start_time": "2025-07-30T21:24:25.716307",
     "status": "completed"
    },
    "tags": []
   },
   "outputs": [],
   "source": [
    "from fairness_multiverse.conformal import compute_nc_scores\n",
    "\n",
    "# Compute nonconformity scores on calibration set (1 - probability of true class)\n",
    "nc_scores = compute_nc_scores(probs_calib, y_calib)"
   ]
  },
  {
   "cell_type": "code",
   "execution_count": 51,
   "id": "df3b8ca3-53b7-43d5-9667-7c85da7aeda2",
   "metadata": {
    "execution": {
     "iopub.execute_input": "2025-07-30T21:24:25.796243Z",
     "iopub.status.busy": "2025-07-30T21:24:25.795821Z",
     "iopub.status.idle": "2025-07-30T21:24:25.802300Z",
     "shell.execute_reply": "2025-07-30T21:24:25.801270Z"
    },
    "papermill": {
     "duration": 0.030858,
     "end_time": "2025-07-30T21:24:25.803619",
     "exception": false,
     "start_time": "2025-07-30T21:24:25.772761",
     "status": "completed"
    },
    "tags": []
   },
   "outputs": [],
   "source": [
    "from fairness_multiverse.conformal import find_threshold\n",
    "\n",
    "# Find conformal threshold q_hat for the given alpha (split conformal method)\n",
    "q_hat = find_threshold(nc_scores, alpha)"
   ]
  },
  {
   "cell_type": "code",
   "execution_count": 52,
   "id": "4d29e6c1-0ef6-4aa4-b8fe-4fe79b0d033a",
   "metadata": {
    "execution": {
     "iopub.execute_input": "2025-07-30T21:24:25.849739Z",
     "iopub.status.busy": "2025-07-30T21:24:25.849401Z",
     "iopub.status.idle": "2025-07-30T21:24:25.856359Z",
     "shell.execute_reply": "2025-07-30T21:24:25.855422Z"
    },
    "papermill": {
     "duration": 0.030426,
     "end_time": "2025-07-30T21:24:25.857984",
     "exception": false,
     "start_time": "2025-07-30T21:24:25.827558",
     "status": "completed"
    },
    "tags": []
   },
   "outputs": [
    {
     "data": {
      "text/plain": [
       "0.6599999999999999"
      ]
     },
     "execution_count": 52,
     "metadata": {},
     "output_type": "execute_result"
    }
   ],
   "source": [
    "q_hat"
   ]
  },
  {
   "cell_type": "code",
   "execution_count": 53,
   "id": "92460794-cdac-4be2-ba28-f28c0515a6fb",
   "metadata": {
    "execution": {
     "iopub.execute_input": "2025-07-30T21:24:25.900949Z",
     "iopub.status.busy": "2025-07-30T21:24:25.900550Z",
     "iopub.status.idle": "2025-07-30T21:24:27.644691Z",
     "shell.execute_reply": "2025-07-30T21:24:27.625186Z"
    },
    "papermill": {
     "duration": 1.768572,
     "end_time": "2025-07-30T21:24:27.648321",
     "exception": false,
     "start_time": "2025-07-30T21:24:25.879749",
     "status": "completed"
    },
    "tags": []
   },
   "outputs": [],
   "source": [
    "from fairness_multiverse.conformal import predict_conformal_sets\n",
    "\n",
    "# Generate prediction sets for each test example\n",
    "pred_sets = predict_conformal_sets(model, X_test, q_hat)"
   ]
  },
  {
   "cell_type": "code",
   "execution_count": 54,
   "id": "d90c9a65-e6db-4f5d-80cd-e68fb7e46829",
   "metadata": {
    "execution": {
     "iopub.execute_input": "2025-07-30T21:24:27.698828Z",
     "iopub.status.busy": "2025-07-30T21:24:27.698446Z",
     "iopub.status.idle": "2025-07-30T21:24:27.704116Z",
     "shell.execute_reply": "2025-07-30T21:24:27.703063Z"
    },
    "papermill": {
     "duration": 0.037038,
     "end_time": "2025-07-30T21:24:27.706854",
     "exception": false,
     "start_time": "2025-07-30T21:24:27.669816",
     "status": "completed"
    },
    "tags": []
   },
   "outputs": [],
   "source": [
    "y_true = y_true.squeeze()"
   ]
  },
  {
   "cell_type": "code",
   "execution_count": 55,
   "id": "3a58a54a-1e68-46b9-927a-df01f18aebc8",
   "metadata": {
    "execution": {
     "iopub.execute_input": "2025-07-30T21:24:27.755621Z",
     "iopub.status.busy": "2025-07-30T21:24:27.755184Z",
     "iopub.status.idle": "2025-07-30T21:24:28.695986Z",
     "shell.execute_reply": "2025-07-30T21:24:28.694999Z"
    },
    "papermill": {
     "duration": 0.967321,
     "end_time": "2025-07-30T21:24:28.698091",
     "exception": false,
     "start_time": "2025-07-30T21:24:27.730770",
     "status": "completed"
    },
    "tags": []
   },
   "outputs": [],
   "source": [
    "from fairness_multiverse.conformal import evaluate_sets\n",
    "\n",
    "# Evaluate coverage and average set size on test data\n",
    "metrics = evaluate_sets(pred_sets, y_true)"
   ]
  },
  {
   "cell_type": "markdown",
   "id": "2b569c12-9aaa-4c88-98c9-bbcd0cf3ebb8",
   "metadata": {
    "papermill": {
     "duration": 0.047533,
     "end_time": "2025-07-30T21:24:28.783372",
     "exception": false,
     "start_time": "2025-07-30T21:24:28.735839",
     "status": "completed"
    },
    "tags": []
   },
   "source": [
    "# CP Metrics"
   ]
  },
  {
   "cell_type": "code",
   "execution_count": 56,
   "id": "5ce0a5cb-201f-45a0-ade5-94c7f0bd6095",
   "metadata": {
    "execution": {
     "iopub.execute_input": "2025-07-30T21:24:28.839425Z",
     "iopub.status.busy": "2025-07-30T21:24:28.838893Z",
     "iopub.status.idle": "2025-07-30T21:24:28.846413Z",
     "shell.execute_reply": "2025-07-30T21:24:28.845481Z"
    },
    "papermill": {
     "duration": 0.037426,
     "end_time": "2025-07-30T21:24:28.848185",
     "exception": false,
     "start_time": "2025-07-30T21:24:28.810759",
     "status": "completed"
    },
    "tags": []
   },
   "outputs": [
    {
     "data": {
      "text/plain": [
       "{'coverage': 0.9119496154274885, 'avg_size': 1.1394827778397056}"
      ]
     },
     "execution_count": 56,
     "metadata": {},
     "output_type": "execute_result"
    }
   ],
   "source": [
    "metrics"
   ]
  },
  {
   "cell_type": "code",
   "execution_count": 57,
   "id": "9b9a838d-31c9-430b-ae14-12baee460d17",
   "metadata": {
    "execution": {
     "iopub.execute_input": "2025-07-30T21:24:28.908751Z",
     "iopub.status.busy": "2025-07-30T21:24:28.907881Z",
     "iopub.status.idle": "2025-07-30T21:24:28.915286Z",
     "shell.execute_reply": "2025-07-30T21:24:28.914285Z"
    },
    "papermill": {
     "duration": 0.040374,
     "end_time": "2025-07-30T21:24:28.917520",
     "exception": false,
     "start_time": "2025-07-30T21:24:28.877146",
     "status": "completed"
    },
    "tags": []
   },
   "outputs": [],
   "source": [
    "example_universe = universe.copy()\n",
    "universe_training_year = example_universe.get(\"training_year\")\n",
    "universe_training_size = example_universe.get(\"training_size\")\n",
    "universe_scale = example_universe.get(\"scale\")\n",
    "universe_model = example_universe.get(\"model\")\n",
    "universe_exclude_features = example_universe.get(\"exclude_features\")\n",
    "universe_exclude_subgroups = example_universe.get(\"exclude_subgroups\")"
   ]
  },
  {
   "cell_type": "code",
   "execution_count": 58,
   "id": "f4b6a8ac-9dc0-4245-8a91-5b3b5999c4f9",
   "metadata": {
    "execution": {
     "iopub.execute_input": "2025-07-30T21:24:28.976419Z",
     "iopub.status.busy": "2025-07-30T21:24:28.975862Z",
     "iopub.status.idle": "2025-07-30T21:24:28.982311Z",
     "shell.execute_reply": "2025-07-30T21:24:28.981295Z"
    },
    "papermill": {
     "duration": 0.038408,
     "end_time": "2025-07-30T21:24:28.984758",
     "exception": false,
     "start_time": "2025-07-30T21:24:28.946350",
     "status": "completed"
    },
    "tags": []
   },
   "outputs": [],
   "source": [
    "cp_metrics_dict = {\n",
    "    \"universe_id\": [universe_id],\n",
    "    \"universe_training_year\": [universe_training_year],\n",
    "    \"universe_training_size\": [universe_training_size],\n",
    "    \"universe_scale\": [universe_scale],\n",
    "    \"universe_model\": [universe_model],\n",
    "    \"universe_exclude_features\": [universe_exclude_features],\n",
    "    \"universe_exclude_subgroups\": [universe_exclude_subgroups],\n",
    "    \"q_hat\": [q_hat],\n",
    "    \"coverage\": [metrics[\"coverage\"]],\n",
    "    \"avg_size\": [metrics[\"avg_size\"]],\n",
    "}"
   ]
  },
  {
   "cell_type": "code",
   "execution_count": 59,
   "id": "908acbb1-0371-4915-85ca-3fa520d2efe2",
   "metadata": {
    "execution": {
     "iopub.execute_input": "2025-07-30T21:24:29.034419Z",
     "iopub.status.busy": "2025-07-30T21:24:29.033979Z",
     "iopub.status.idle": "2025-07-30T21:24:29.041847Z",
     "shell.execute_reply": "2025-07-30T21:24:29.040916Z"
    },
    "papermill": {
     "duration": 0.029551,
     "end_time": "2025-07-30T21:24:29.043134",
     "exception": false,
     "start_time": "2025-07-30T21:24:29.013583",
     "status": "completed"
    },
    "tags": []
   },
   "outputs": [
    {
     "data": {
      "text/plain": [
       "{'universe_id': ['b19f628709127abedf7a5755799427e9'],\n",
       " 'universe_training_year': ['2014'],\n",
       " 'universe_training_size': ['1k'],\n",
       " 'universe_scale': ['scale'],\n",
       " 'universe_model': ['rf'],\n",
       " 'universe_exclude_features': ['none'],\n",
       " 'universe_exclude_subgroups': ['drop-non-german'],\n",
       " 'q_hat': [0.6599999999999999],\n",
       " 'coverage': [0.9119496154274885],\n",
       " 'avg_size': [1.1394827778397056]}"
      ]
     },
     "execution_count": 59,
     "metadata": {},
     "output_type": "execute_result"
    }
   ],
   "source": [
    "cp_metrics_dict"
   ]
  },
  {
   "cell_type": "code",
   "execution_count": 60,
   "id": "33007efc-14e9-4ec6-97ac-56a455c82265",
   "metadata": {
    "execution": {
     "iopub.execute_input": "2025-07-30T21:24:29.075067Z",
     "iopub.status.busy": "2025-07-30T21:24:29.074680Z",
     "iopub.status.idle": "2025-07-30T21:24:29.081054Z",
     "shell.execute_reply": "2025-07-30T21:24:29.079980Z"
    },
    "papermill": {
     "duration": 0.025716,
     "end_time": "2025-07-30T21:24:29.083022",
     "exception": false,
     "start_time": "2025-07-30T21:24:29.057306",
     "status": "completed"
    },
    "tags": []
   },
   "outputs": [],
   "source": [
    "cp_metrics_df = pd.DataFrame(cp_metrics_dict)"
   ]
  },
  {
   "cell_type": "code",
   "execution_count": 61,
   "id": "db12611b-57b2-4910-b9d0-355adfd6e7bf",
   "metadata": {
    "execution": {
     "iopub.execute_input": "2025-07-30T21:24:29.140798Z",
     "iopub.status.busy": "2025-07-30T21:24:29.140235Z",
     "iopub.status.idle": "2025-07-30T21:24:29.164289Z",
     "shell.execute_reply": "2025-07-30T21:24:29.163169Z"
    },
    "papermill": {
     "duration": 0.054773,
     "end_time": "2025-07-30T21:24:29.166084",
     "exception": false,
     "start_time": "2025-07-30T21:24:29.111311",
     "status": "completed"
    },
    "tags": []
   },
   "outputs": [
    {
     "data": {
      "text/html": [
       "<div>\n",
       "<style scoped>\n",
       "    .dataframe tbody tr th:only-of-type {\n",
       "        vertical-align: middle;\n",
       "    }\n",
       "\n",
       "    .dataframe tbody tr th {\n",
       "        vertical-align: top;\n",
       "    }\n",
       "\n",
       "    .dataframe thead th {\n",
       "        text-align: right;\n",
       "    }\n",
       "</style>\n",
       "<table border=\"1\" class=\"dataframe\">\n",
       "  <thead>\n",
       "    <tr style=\"text-align: right;\">\n",
       "      <th></th>\n",
       "      <th>universe_id</th>\n",
       "      <th>universe_training_year</th>\n",
       "      <th>universe_training_size</th>\n",
       "      <th>universe_scale</th>\n",
       "      <th>universe_model</th>\n",
       "      <th>universe_exclude_features</th>\n",
       "      <th>universe_exclude_subgroups</th>\n",
       "      <th>q_hat</th>\n",
       "      <th>coverage</th>\n",
       "      <th>avg_size</th>\n",
       "    </tr>\n",
       "  </thead>\n",
       "  <tbody>\n",
       "    <tr>\n",
       "      <th>0</th>\n",
       "      <td>b19f628709127abedf7a5755799427e9</td>\n",
       "      <td>2014</td>\n",
       "      <td>1k</td>\n",
       "      <td>scale</td>\n",
       "      <td>rf</td>\n",
       "      <td>none</td>\n",
       "      <td>drop-non-german</td>\n",
       "      <td>0.66</td>\n",
       "      <td>0.91195</td>\n",
       "      <td>1.139483</td>\n",
       "    </tr>\n",
       "  </tbody>\n",
       "</table>\n",
       "</div>"
      ],
      "text/plain": [
       "                        universe_id universe_training_year  \\\n",
       "0  b19f628709127abedf7a5755799427e9                   2014   \n",
       "\n",
       "  universe_training_size universe_scale universe_model  \\\n",
       "0                     1k          scale             rf   \n",
       "\n",
       "  universe_exclude_features universe_exclude_subgroups  q_hat  coverage  \\\n",
       "0                      none            drop-non-german   0.66   0.91195   \n",
       "\n",
       "   avg_size  \n",
       "0  1.139483  "
      ]
     },
     "execution_count": 61,
     "metadata": {},
     "output_type": "execute_result"
    }
   ],
   "source": [
    "cp_metrics_df"
   ]
  },
  {
   "cell_type": "code",
   "execution_count": 62,
   "id": "b7fbde55-a0a1-47e4-9af6-fe4a17fa8c61",
   "metadata": {
    "execution": {
     "iopub.execute_input": "2025-07-30T21:24:29.225159Z",
     "iopub.status.busy": "2025-07-30T21:24:29.224194Z",
     "iopub.status.idle": "2025-07-30T21:24:29.229735Z",
     "shell.execute_reply": "2025-07-30T21:24:29.228569Z"
    },
    "papermill": {
     "duration": 0.048096,
     "end_time": "2025-07-30T21:24:29.242577",
     "exception": false,
     "start_time": "2025-07-30T21:24:29.194481",
     "status": "completed"
    },
    "tags": []
   },
   "outputs": [],
   "source": [
    "# Conditional Coverage & looking at subgroups"
   ]
  },
  {
   "cell_type": "code",
   "execution_count": 63,
   "id": "027ae886-68dd-4141-96c7-805a5450e1ef",
   "metadata": {
    "execution": {
     "iopub.execute_input": "2025-07-30T21:24:29.295962Z",
     "iopub.status.busy": "2025-07-30T21:24:29.295565Z",
     "iopub.status.idle": "2025-07-30T21:24:29.591606Z",
     "shell.execute_reply": "2025-07-30T21:24:29.590587Z"
    },
    "papermill": {
     "duration": 0.324147,
     "end_time": "2025-07-30T21:24:29.593963",
     "exception": false,
     "start_time": "2025-07-30T21:24:29.269816",
     "status": "completed"
    },
    "tags": []
   },
   "outputs": [],
   "source": [
    "from fairness_multiverse.conformal import build_cp_groups\n",
    "\n",
    "cp_groups_df = build_cp_groups(pred_sets, y_true, X_test.index, org_test)\n",
    "#needs universe_id and setting"
   ]
  },
  {
   "cell_type": "code",
   "execution_count": 64,
   "id": "01d5802c-663a-4d1f-9d69-e036faaffbf7",
   "metadata": {
    "execution": {
     "iopub.execute_input": "2025-07-30T21:24:29.650119Z",
     "iopub.status.busy": "2025-07-30T21:24:29.649655Z",
     "iopub.status.idle": "2025-07-30T21:24:29.654863Z",
     "shell.execute_reply": "2025-07-30T21:24:29.653895Z"
    },
    "papermill": {
     "duration": 0.035668,
     "end_time": "2025-07-30T21:24:29.657324",
     "exception": false,
     "start_time": "2025-07-30T21:24:29.621656",
     "status": "completed"
    },
    "tags": []
   },
   "outputs": [],
   "source": [
    "#delete\n",
    "#cp_groups_df"
   ]
  },
  {
   "cell_type": "code",
   "execution_count": 65,
   "id": "fa424af1-d1eb-443d-b717-2d279ada8408",
   "metadata": {
    "execution": {
     "iopub.execute_input": "2025-07-30T21:24:29.711704Z",
     "iopub.status.busy": "2025-07-30T21:24:29.711320Z",
     "iopub.status.idle": "2025-07-30T21:24:29.716233Z",
     "shell.execute_reply": "2025-07-30T21:24:29.715130Z"
    },
    "papermill": {
     "duration": 0.035638,
     "end_time": "2025-07-30T21:24:29.719287",
     "exception": false,
     "start_time": "2025-07-30T21:24:29.683649",
     "status": "completed"
    },
    "tags": []
   },
   "outputs": [],
   "source": [
    "#delete\n",
    "#percentage = (cp_groups_df['nongerman_female'] == 1).mean() * 100\n",
    "#print(percentage)\n"
   ]
  },
  {
   "cell_type": "code",
   "execution_count": 66,
   "id": "6cbdab96-b2b2-45af-ad54-d0516db2e28d",
   "metadata": {
    "execution": {
     "iopub.execute_input": "2025-07-30T21:24:29.779567Z",
     "iopub.status.busy": "2025-07-30T21:24:29.778995Z",
     "iopub.status.idle": "2025-07-30T21:24:31.331035Z",
     "shell.execute_reply": "2025-07-30T21:24:31.330014Z"
    },
    "papermill": {
     "duration": 1.585107,
     "end_time": "2025-07-30T21:24:31.333129",
     "exception": false,
     "start_time": "2025-07-30T21:24:29.748022",
     "status": "completed"
    },
    "tags": []
   },
   "outputs": [],
   "source": [
    "# Define covered = 1 if true_label is in the predicted set\n",
    "cp_groups_df['covered'] = cp_groups_df.apply(\n",
    "    lambda r: int(r['true_label'] in r['pred_set']),\n",
    "    axis=1\n",
    ")"
   ]
  },
  {
   "cell_type": "code",
   "execution_count": 67,
   "id": "338ff529-1a6b-4b87-a931-8e4788d52aad",
   "metadata": {
    "execution": {
     "iopub.execute_input": "2025-07-30T21:24:31.381548Z",
     "iopub.status.busy": "2025-07-30T21:24:31.381079Z",
     "iopub.status.idle": "2025-07-30T21:24:31.386359Z",
     "shell.execute_reply": "2025-07-30T21:24:31.385463Z"
    },
    "papermill": {
     "duration": 0.023894,
     "end_time": "2025-07-30T21:24:31.388008",
     "exception": false,
     "start_time": "2025-07-30T21:24:31.364114",
     "status": "completed"
    },
    "tags": []
   },
   "outputs": [],
   "source": [
    "#cp_groups_df"
   ]
  },
  {
   "cell_type": "code",
   "execution_count": 68,
   "id": "90032e27-66df-4540-9169-4e89cfbaa758",
   "metadata": {
    "execution": {
     "iopub.execute_input": "2025-07-30T21:24:31.448793Z",
     "iopub.status.busy": "2025-07-30T21:24:31.448106Z",
     "iopub.status.idle": "2025-07-30T21:24:31.459913Z",
     "shell.execute_reply": "2025-07-30T21:24:31.458981Z"
    },
    "papermill": {
     "duration": 0.044523,
     "end_time": "2025-07-30T21:24:31.461726",
     "exception": false,
     "start_time": "2025-07-30T21:24:31.417203",
     "status": "completed"
    },
    "tags": []
   },
   "outputs": [],
   "source": [
    "subgroups = ['frau1','nongerman','nongerman_male','nongerman_female']\n",
    "\n",
    "# Conditional coverage for subgroup==1\n",
    "cond_coverage = {\n",
    "    g: cp_groups_df.loc[cp_groups_df[g]==1, 'covered'].mean()\n",
    "    for g in subgroups\n",
    "}"
   ]
  },
  {
   "cell_type": "code",
   "execution_count": 69,
   "id": "1e348fb1-b9c3-45bc-ba23-f016827a7e0d",
   "metadata": {
    "execution": {
     "iopub.execute_input": "2025-07-30T21:24:31.511750Z",
     "iopub.status.busy": "2025-07-30T21:24:31.511273Z",
     "iopub.status.idle": "2025-07-30T21:24:31.518750Z",
     "shell.execute_reply": "2025-07-30T21:24:31.517711Z"
    },
    "papermill": {
     "duration": 0.029771,
     "end_time": "2025-07-30T21:24:31.520609",
     "exception": false,
     "start_time": "2025-07-30T21:24:31.490838",
     "status": "completed"
    },
    "tags": []
   },
   "outputs": [
    {
     "data": {
      "text/plain": [
       "{'frau1': 0.9072381722604125,\n",
       " 'nongerman': 0.9060798293381238,\n",
       " 'nongerman_male': 0.9254255606592813,\n",
       " 'nongerman_female': 0.8740685543964233}"
      ]
     },
     "execution_count": 69,
     "metadata": {},
     "output_type": "execute_result"
    }
   ],
   "source": [
    "cond_coverage"
   ]
  },
  {
   "cell_type": "code",
   "execution_count": 70,
   "id": "f5093324-c3dd-4d63-bc4c-8d945e5c8bbb",
   "metadata": {
    "execution": {
     "iopub.execute_input": "2025-07-30T21:24:31.578481Z",
     "iopub.status.busy": "2025-07-30T21:24:31.577975Z",
     "iopub.status.idle": "2025-07-30T21:24:31.585812Z",
     "shell.execute_reply": "2025-07-30T21:24:31.584811Z"
    },
    "papermill": {
     "duration": 0.038972,
     "end_time": "2025-07-30T21:24:31.587682",
     "exception": false,
     "start_time": "2025-07-30T21:24:31.548710",
     "status": "completed"
    },
    "tags": []
   },
   "outputs": [],
   "source": [
    "for subgroup, cov in cond_coverage.items():\n",
    "    cp_metrics_df[f\"cov_{subgroup}\"] = cov"
   ]
  },
  {
   "cell_type": "code",
   "execution_count": 71,
   "id": "6e872e10-dbe5-49e8-b554-5030c98ff75d",
   "metadata": {
    "execution": {
     "iopub.execute_input": "2025-07-30T21:24:31.651758Z",
     "iopub.status.busy": "2025-07-30T21:24:31.651190Z",
     "iopub.status.idle": "2025-07-30T21:24:31.674146Z",
     "shell.execute_reply": "2025-07-30T21:24:31.672933Z"
    },
    "papermill": {
     "duration": 0.057698,
     "end_time": "2025-07-30T21:24:31.676211",
     "exception": false,
     "start_time": "2025-07-30T21:24:31.618513",
     "status": "completed"
    },
    "tags": []
   },
   "outputs": [
    {
     "data": {
      "text/html": [
       "<div>\n",
       "<style scoped>\n",
       "    .dataframe tbody tr th:only-of-type {\n",
       "        vertical-align: middle;\n",
       "    }\n",
       "\n",
       "    .dataframe tbody tr th {\n",
       "        vertical-align: top;\n",
       "    }\n",
       "\n",
       "    .dataframe thead th {\n",
       "        text-align: right;\n",
       "    }\n",
       "</style>\n",
       "<table border=\"1\" class=\"dataframe\">\n",
       "  <thead>\n",
       "    <tr style=\"text-align: right;\">\n",
       "      <th></th>\n",
       "      <th>universe_id</th>\n",
       "      <th>universe_training_year</th>\n",
       "      <th>universe_training_size</th>\n",
       "      <th>universe_scale</th>\n",
       "      <th>universe_model</th>\n",
       "      <th>universe_exclude_features</th>\n",
       "      <th>universe_exclude_subgroups</th>\n",
       "      <th>q_hat</th>\n",
       "      <th>coverage</th>\n",
       "      <th>avg_size</th>\n",
       "      <th>cov_frau1</th>\n",
       "      <th>cov_nongerman</th>\n",
       "      <th>cov_nongerman_male</th>\n",
       "      <th>cov_nongerman_female</th>\n",
       "    </tr>\n",
       "  </thead>\n",
       "  <tbody>\n",
       "    <tr>\n",
       "      <th>0</th>\n",
       "      <td>b19f628709127abedf7a5755799427e9</td>\n",
       "      <td>2014</td>\n",
       "      <td>1k</td>\n",
       "      <td>scale</td>\n",
       "      <td>rf</td>\n",
       "      <td>none</td>\n",
       "      <td>drop-non-german</td>\n",
       "      <td>0.66</td>\n",
       "      <td>0.91195</td>\n",
       "      <td>1.139483</td>\n",
       "      <td>0.907238</td>\n",
       "      <td>0.90608</td>\n",
       "      <td>0.925426</td>\n",
       "      <td>0.874069</td>\n",
       "    </tr>\n",
       "  </tbody>\n",
       "</table>\n",
       "</div>"
      ],
      "text/plain": [
       "                        universe_id universe_training_year  \\\n",
       "0  b19f628709127abedf7a5755799427e9                   2014   \n",
       "\n",
       "  universe_training_size universe_scale universe_model  \\\n",
       "0                     1k          scale             rf   \n",
       "\n",
       "  universe_exclude_features universe_exclude_subgroups  q_hat  coverage  \\\n",
       "0                      none            drop-non-german   0.66   0.91195   \n",
       "\n",
       "   avg_size  cov_frau1  cov_nongerman  cov_nongerman_male  \\\n",
       "0  1.139483   0.907238        0.90608            0.925426   \n",
       "\n",
       "   cov_nongerman_female  \n",
       "0              0.874069  "
      ]
     },
     "execution_count": 71,
     "metadata": {},
     "output_type": "execute_result"
    }
   ],
   "source": [
    "cp_metrics_df"
   ]
  },
  {
   "cell_type": "markdown",
   "id": "33774451",
   "metadata": {
    "papermill": {
     "duration": 0.01703,
     "end_time": "2025-07-30T21:24:31.713839",
     "exception": false,
     "start_time": "2025-07-30T21:24:31.696809",
     "status": "completed"
    },
    "tags": []
   },
   "source": [
    "# (Fairness) Metrics"
   ]
  },
  {
   "cell_type": "code",
   "execution_count": 72,
   "id": "debc5d62",
   "metadata": {
    "execution": {
     "iopub.execute_input": "2025-07-30T21:24:31.742857Z",
     "iopub.status.busy": "2025-07-30T21:24:31.742502Z",
     "iopub.status.idle": "2025-07-30T21:24:31.756728Z",
     "shell.execute_reply": "2025-07-30T21:24:31.755807Z"
    },
    "papermill": {
     "duration": 0.030231,
     "end_time": "2025-07-30T21:24:31.758060",
     "exception": false,
     "start_time": "2025-07-30T21:24:31.727829",
     "status": "completed"
    },
    "tags": []
   },
   "outputs": [],
   "source": [
    "# do I need to include maxdeutsch1.missing?\n",
    "\n",
    "import numpy as np\n",
    "\n",
    "colname_to_bin = \"maxdeutsch1\"\n",
    "majority_value = org_train[colname_to_bin].mode()[0]\n",
    "\n",
    "org_test[\"majmin\"] = np.where(org_test[colname_to_bin] == majority_value, \"majority\", \"minority\")"
   ]
  },
  {
   "cell_type": "code",
   "execution_count": 73,
   "id": "06a50de5",
   "metadata": {
    "execution": {
     "iopub.execute_input": "2025-07-30T21:24:31.793491Z",
     "iopub.status.busy": "2025-07-30T21:24:31.792624Z",
     "iopub.status.idle": "2025-07-30T21:24:33.720378Z",
     "shell.execute_reply": "2025-07-30T21:24:33.719626Z"
    },
    "papermill": {
     "duration": 1.945168,
     "end_time": "2025-07-30T21:24:33.722152",
     "exception": false,
     "start_time": "2025-07-30T21:24:31.776984",
     "status": "completed"
    },
    "tags": []
   },
   "outputs": [],
   "source": [
    "example_universe = universe.copy()\n",
    "example_universe[\"cutoff\"] = example_universe[\"cutoff\"][0]\n",
    "example_universe[\"eval_fairness_grouping\"] = example_universe[\"eval_fairness_grouping\"][0]\n",
    "fairness_dict, metric_frame = universe_analysis.compute_metrics(\n",
    "    example_universe,\n",
    "    y_pred_prob=probs_test,\n",
    "    y_test=y_true,\n",
    "    org_test=org_test,\n",
    ")"
   ]
  },
  {
   "cell_type": "markdown",
   "id": "f95d4e02",
   "metadata": {
    "papermill": {
     "duration": 0.027268,
     "end_time": "2025-07-30T21:24:33.777470",
     "exception": false,
     "start_time": "2025-07-30T21:24:33.750202",
     "status": "completed"
    },
    "tags": []
   },
   "source": [
    "# Overall"
   ]
  },
  {
   "cell_type": "markdown",
   "id": "bdee4871",
   "metadata": {
    "papermill": {
     "duration": 0.027282,
     "end_time": "2025-07-30T21:24:33.832039",
     "exception": false,
     "start_time": "2025-07-30T21:24:33.804757",
     "status": "completed"
    },
    "tags": []
   },
   "source": [
    "Fairness\n",
    "Main fairness target: Equalized Odds. Seems to be a better fit than equal opportunity, since we're not only interested in Y = 1. Seems to be a better fit than demographic parity, since we also care about accuracy, not just equal distribution of preds.\n",
    "\n",
    "Pick column for computation of fairness metrics\n",
    "\n",
    "Performance\n",
    "Overall performance measures, most interesting in relation to the measures split by group below"
   ]
  },
  {
   "cell_type": "code",
   "execution_count": 74,
   "id": "c4e067c6",
   "metadata": {
    "execution": {
     "iopub.execute_input": "2025-07-30T21:24:33.884598Z",
     "iopub.status.busy": "2025-07-30T21:24:33.883665Z",
     "iopub.status.idle": "2025-07-30T21:24:33.892230Z",
     "shell.execute_reply": "2025-07-30T21:24:33.891291Z"
    },
    "papermill": {
     "duration": 0.038098,
     "end_time": "2025-07-30T21:24:33.893820",
     "exception": false,
     "start_time": "2025-07-30T21:24:33.855722",
     "status": "completed"
    },
    "tags": []
   },
   "outputs": [
    {
     "data": {
      "text/plain": [
       "accuracy                   0.200011\n",
       "balanced accuracy          0.533621\n",
       "f1                         0.239571\n",
       "precision                  0.136420\n",
       "false positive rate        0.915117\n",
       "false negative rate        0.017640\n",
       "selection rate             0.923743\n",
       "count                  89710.000000\n",
       "dtype: float64"
      ]
     },
     "execution_count": 74,
     "metadata": {},
     "output_type": "execute_result"
    }
   ],
   "source": [
    "metric_frame.overall"
   ]
  },
  {
   "cell_type": "markdown",
   "id": "e968fe9d",
   "metadata": {
    "papermill": {
     "duration": 0.02741,
     "end_time": "2025-07-30T21:24:33.946712",
     "exception": false,
     "start_time": "2025-07-30T21:24:33.919302",
     "status": "completed"
    },
    "tags": []
   },
   "source": [
    "By Group"
   ]
  },
  {
   "cell_type": "code",
   "execution_count": 75,
   "id": "ec325bce",
   "metadata": {
    "execution": {
     "iopub.execute_input": "2025-07-30T21:24:33.998516Z",
     "iopub.status.busy": "2025-07-30T21:24:33.997997Z",
     "iopub.status.idle": "2025-07-30T21:24:34.014752Z",
     "shell.execute_reply": "2025-07-30T21:24:34.013791Z"
    },
    "papermill": {
     "duration": 0.042449,
     "end_time": "2025-07-30T21:24:34.016741",
     "exception": false,
     "start_time": "2025-07-30T21:24:33.974292",
     "status": "completed"
    },
    "tags": []
   },
   "outputs": [
    {
     "data": {
      "text/html": [
       "<div>\n",
       "<style scoped>\n",
       "    .dataframe tbody tr th:only-of-type {\n",
       "        vertical-align: middle;\n",
       "    }\n",
       "\n",
       "    .dataframe tbody tr th {\n",
       "        vertical-align: top;\n",
       "    }\n",
       "\n",
       "    .dataframe thead th {\n",
       "        text-align: right;\n",
       "    }\n",
       "</style>\n",
       "<table border=\"1\" class=\"dataframe\">\n",
       "  <thead>\n",
       "    <tr style=\"text-align: right;\">\n",
       "      <th></th>\n",
       "      <th>accuracy</th>\n",
       "      <th>balanced accuracy</th>\n",
       "      <th>f1</th>\n",
       "      <th>precision</th>\n",
       "      <th>false positive rate</th>\n",
       "      <th>false negative rate</th>\n",
       "      <th>selection rate</th>\n",
       "      <th>count</th>\n",
       "    </tr>\n",
       "    <tr>\n",
       "      <th>majmin</th>\n",
       "      <th></th>\n",
       "      <th></th>\n",
       "      <th></th>\n",
       "      <th></th>\n",
       "      <th></th>\n",
       "      <th></th>\n",
       "      <th></th>\n",
       "      <th></th>\n",
       "    </tr>\n",
       "  </thead>\n",
       "  <tbody>\n",
       "    <tr>\n",
       "      <th>majority</th>\n",
       "      <td>0.207344</td>\n",
       "      <td>0.537531</td>\n",
       "      <td>0.247468</td>\n",
       "      <td>0.141483</td>\n",
       "      <td>0.911261</td>\n",
       "      <td>0.013676</td>\n",
       "      <td>0.921180</td>\n",
       "      <td>69170.0</td>\n",
       "    </tr>\n",
       "    <tr>\n",
       "      <th>minority</th>\n",
       "      <td>0.175316</td>\n",
       "      <td>0.519602</td>\n",
       "      <td>0.212835</td>\n",
       "      <td>0.119576</td>\n",
       "      <td>0.927856</td>\n",
       "      <td>0.032939</td>\n",
       "      <td>0.932376</td>\n",
       "      <td>20540.0</td>\n",
       "    </tr>\n",
       "  </tbody>\n",
       "</table>\n",
       "</div>"
      ],
      "text/plain": [
       "          accuracy  balanced accuracy        f1  precision  \\\n",
       "majmin                                                       \n",
       "majority  0.207344           0.537531  0.247468   0.141483   \n",
       "minority  0.175316           0.519602  0.212835   0.119576   \n",
       "\n",
       "          false positive rate  false negative rate  selection rate    count  \n",
       "majmin                                                                       \n",
       "majority             0.911261             0.013676        0.921180  69170.0  \n",
       "minority             0.927856             0.032939        0.932376  20540.0  "
      ]
     },
     "execution_count": 75,
     "metadata": {},
     "output_type": "execute_result"
    }
   ],
   "source": [
    "metric_frame.by_group"
   ]
  },
  {
   "cell_type": "code",
   "execution_count": 76,
   "id": "a9ddbe63",
   "metadata": {
    "execution": {
     "iopub.execute_input": "2025-07-30T21:24:34.074258Z",
     "iopub.status.busy": "2025-07-30T21:24:34.073595Z",
     "iopub.status.idle": "2025-07-30T21:24:36.278339Z",
     "shell.execute_reply": "2025-07-30T21:24:36.277438Z"
    },
    "papermill": {
     "duration": 2.234874,
     "end_time": "2025-07-30T21:24:36.279921",
     "exception": false,
     "start_time": "2025-07-30T21:24:34.045047",
     "status": "completed"
    },
    "tags": []
   },
   "outputs": [
    {
     "data": {
      "text/plain": [
       "array([[<Axes: title={'center': 'accuracy'}, xlabel='majmin'>,\n",
       "        <Axes: title={'center': 'balanced accuracy'}, xlabel='majmin'>,\n",
       "        <Axes: title={'center': 'f1'}, xlabel='majmin'>],\n",
       "       [<Axes: title={'center': 'precision'}, xlabel='majmin'>,\n",
       "        <Axes: title={'center': 'false positive rate'}, xlabel='majmin'>,\n",
       "        <Axes: title={'center': 'false negative rate'}, xlabel='majmin'>],\n",
       "       [<Axes: title={'center': 'selection rate'}, xlabel='majmin'>,\n",
       "        <Axes: title={'center': 'count'}, xlabel='majmin'>,\n",
       "        <Axes: xlabel='majmin'>]], dtype=object)"
      ]
     },
     "execution_count": 76,
     "metadata": {},
     "output_type": "execute_result"
    },
    {
     "data": {
      "image/png": "[encoded data removed]",
      "text/plain": [
       "<Figure size 1200x800 with 9 Axes>"
      ]
     },
     "metadata": {},
     "output_type": "display_data"
    }
   ],
   "source": [
    "# In a graphic\n",
    "metric_frame.by_group.plot.bar(\n",
    "    subplots=True,\n",
    "    layout=[3, 3],\n",
    "    legend=False,\n",
    "    figsize=[12, 8],\n",
    "    title=\"Show all metrics\",\n",
    ")"
   ]
  },
  {
   "cell_type": "markdown",
   "id": "f57a0bac",
   "metadata": {
    "papermill": {
     "duration": 0.028485,
     "end_time": "2025-07-30T21:24:36.340867",
     "exception": false,
     "start_time": "2025-07-30T21:24:36.312382",
     "status": "completed"
    },
    "tags": []
   },
   "source": [
    "# Final Output"
   ]
  },
  {
   "cell_type": "code",
   "execution_count": 77,
   "id": "96d280a3",
   "metadata": {
    "execution": {
     "iopub.execute_input": "2025-07-30T21:24:36.398103Z",
     "iopub.status.busy": "2025-07-30T21:24:36.397440Z",
     "iopub.status.idle": "2025-07-30T21:24:36.405643Z",
     "shell.execute_reply": "2025-07-30T21:24:36.404772Z"
    },
    "papermill": {
     "duration": 0.038666,
     "end_time": "2025-07-30T21:24:36.407232",
     "exception": false,
     "start_time": "2025-07-30T21:24:36.368566",
     "status": "completed"
    },
    "tags": []
   },
   "outputs": [
    {
     "data": {
      "text/plain": [
       "4"
      ]
     },
     "execution_count": 77,
     "metadata": {},
     "output_type": "execute_result"
    }
   ],
   "source": [
    "sub_universes = universe_analysis.generate_sub_universes()\n",
    "len(sub_universes)"
   ]
  },
  {
   "cell_type": "code",
   "execution_count": 78,
   "id": "92adf7ba",
   "metadata": {
    "execution": {
     "iopub.execute_input": "2025-07-30T21:24:36.464679Z",
     "iopub.status.busy": "2025-07-30T21:24:36.463960Z",
     "iopub.status.idle": "2025-07-30T21:24:36.470061Z",
     "shell.execute_reply": "2025-07-30T21:24:36.469132Z"
    },
    "papermill": {
     "duration": 0.036883,
     "end_time": "2025-07-30T21:24:36.471491",
     "exception": false,
     "start_time": "2025-07-30T21:24:36.434608",
     "status": "completed"
    },
    "tags": []
   },
   "outputs": [],
   "source": [
    "def filter_sub_universe_data(sub_universe, org_test):\n",
    "    # Keep all rows — no filtering\n",
    "    keep_rows_mask = np.ones(org_test.shape[0], dtype=bool)\n",
    "\n",
    "    print(f\"[INFO] Keeping all rows: {keep_rows_mask.sum()} rows retained.\")\n",
    "    return keep_rows_mask"
   ]
  },
  {
   "cell_type": "code",
   "execution_count": 79,
   "id": "4a759155",
   "metadata": {
    "execution": {
     "iopub.execute_input": "2025-07-30T21:24:36.528614Z",
     "iopub.status.busy": "2025-07-30T21:24:36.527983Z",
     "iopub.status.idle": "2025-07-30T21:24:46.704925Z",
     "shell.execute_reply": "2025-07-30T21:24:46.703714Z"
    },
    "papermill": {
     "duration": 10.207763,
     "end_time": "2025-07-30T21:24:46.706649",
     "exception": false,
     "start_time": "2025-07-30T21:24:36.498886",
     "status": "completed"
    },
    "tags": []
   },
   "outputs": [
    {
     "name": "stdout",
     "output_type": "stream",
     "text": [
      "Stopping execution_time clock.\n",
      "[INFO] Keeping all rows: 89710 rows retained.\n"
     ]
    },
    {
     "name": "stdout",
     "output_type": "stream",
     "text": [
      "[INFO] Keeping all rows: 89710 rows retained.\n"
     ]
    },
    {
     "name": "stdout",
     "output_type": "stream",
     "text": [
      "[INFO] Keeping all rows: 89710 rows retained.\n"
     ]
    },
    {
     "name": "stdout",
     "output_type": "stream",
     "text": [
      "[INFO] Keeping all rows: 89710 rows retained.\n"
     ]
    },
    {
     "data": {
      "text/html": [
       "<div>\n",
       "<style scoped>\n",
       "    .dataframe tbody tr th:only-of-type {\n",
       "        vertical-align: middle;\n",
       "    }\n",
       "\n",
       "    .dataframe tbody tr th {\n",
       "        vertical-align: top;\n",
       "    }\n",
       "\n",
       "    .dataframe thead th {\n",
       "        text-align: right;\n",
       "    }\n",
       "</style>\n",
       "<table border=\"1\" class=\"dataframe\">\n",
       "  <thead>\n",
       "    <tr style=\"text-align: right;\">\n",
       "      <th></th>\n",
       "      <th>run_no</th>\n",
       "      <th>universe_id</th>\n",
       "      <th>universe_settings</th>\n",
       "      <th>execution_time</th>\n",
       "      <th>test_size_n</th>\n",
       "      <th>test_size_frac</th>\n",
       "      <th>fair_main_equalized_odds_difference</th>\n",
       "      <th>fair_main_equalized_odds_ratio</th>\n",
       "      <th>fair_main_demographic_parity_difference</th>\n",
       "      <th>fair_main_demographic_parity_ratio</th>\n",
       "      <th>...</th>\n",
       "      <th>perf_grp_precision_0</th>\n",
       "      <th>perf_grp_precision_1</th>\n",
       "      <th>perf_grp_false positive rate_0</th>\n",
       "      <th>perf_grp_false positive rate_1</th>\n",
       "      <th>perf_grp_false negative rate_0</th>\n",
       "      <th>perf_grp_false negative rate_1</th>\n",
       "      <th>perf_grp_selection rate_0</th>\n",
       "      <th>perf_grp_selection rate_1</th>\n",
       "      <th>perf_grp_count_0</th>\n",
       "      <th>perf_grp_count_1</th>\n",
       "    </tr>\n",
       "  </thead>\n",
       "  <tbody>\n",
       "    <tr>\n",
       "      <th>0</th>\n",
       "      <td>14</td>\n",
       "      <td>b19f628709127abedf7a5755799427e9</td>\n",
       "      <td>{\"cutoff\": \"quantile_0.1\", \"eval_fairness_grou...</td>\n",
       "      <td>29.988935</td>\n",
       "      <td>89710</td>\n",
       "      <td>1.0</td>\n",
       "      <td>0.019263</td>\n",
       "      <td>0.980470</td>\n",
       "      <td>0.011196</td>\n",
       "      <td>0.987992</td>\n",
       "      <td>...</td>\n",
       "      <td>NaN</td>\n",
       "      <td>NaN</td>\n",
       "      <td>NaN</td>\n",
       "      <td>NaN</td>\n",
       "      <td>NaN</td>\n",
       "      <td>NaN</td>\n",
       "      <td>NaN</td>\n",
       "      <td>NaN</td>\n",
       "      <td>NaN</td>\n",
       "      <td>NaN</td>\n",
       "    </tr>\n",
       "    <tr>\n",
       "      <th>0</th>\n",
       "      <td>14</td>\n",
       "      <td>b19f628709127abedf7a5755799427e9</td>\n",
       "      <td>{\"cutoff\": \"quantile_0.1\", \"eval_fairness_grou...</td>\n",
       "      <td>29.988935</td>\n",
       "      <td>89710</td>\n",
       "      <td>1.0</td>\n",
       "      <td>0.019263</td>\n",
       "      <td>0.980470</td>\n",
       "      <td>0.011196</td>\n",
       "      <td>0.987992</td>\n",
       "      <td>...</td>\n",
       "      <td>0.119576</td>\n",
       "      <td>0.141483</td>\n",
       "      <td>0.927856</td>\n",
       "      <td>0.911261</td>\n",
       "      <td>0.032939</td>\n",
       "      <td>0.013676</td>\n",
       "      <td>0.932376</td>\n",
       "      <td>0.921180</td>\n",
       "      <td>20540.0</td>\n",
       "      <td>69170.0</td>\n",
       "    </tr>\n",
       "    <tr>\n",
       "      <th>0</th>\n",
       "      <td>14</td>\n",
       "      <td>b19f628709127abedf7a5755799427e9</td>\n",
       "      <td>{\"cutoff\": \"quantile_0.25\", \"eval_fairness_gro...</td>\n",
       "      <td>29.988935</td>\n",
       "      <td>89710</td>\n",
       "      <td>1.0</td>\n",
       "      <td>0.045272</td>\n",
       "      <td>0.951952</td>\n",
       "      <td>0.023210</td>\n",
       "      <td>0.970432</td>\n",
       "      <td>...</td>\n",
       "      <td>NaN</td>\n",
       "      <td>NaN</td>\n",
       "      <td>NaN</td>\n",
       "      <td>NaN</td>\n",
       "      <td>NaN</td>\n",
       "      <td>NaN</td>\n",
       "      <td>NaN</td>\n",
       "      <td>NaN</td>\n",
       "      <td>NaN</td>\n",
       "      <td>NaN</td>\n",
       "    </tr>\n",
       "    <tr>\n",
       "      <th>0</th>\n",
       "      <td>14</td>\n",
       "      <td>b19f628709127abedf7a5755799427e9</td>\n",
       "      <td>{\"cutoff\": \"quantile_0.25\", \"eval_fairness_gro...</td>\n",
       "      <td>29.988935</td>\n",
       "      <td>89710</td>\n",
       "      <td>1.0</td>\n",
       "      <td>0.045272</td>\n",
       "      <td>0.951952</td>\n",
       "      <td>0.023210</td>\n",
       "      <td>0.970432</td>\n",
       "      <td>...</td>\n",
       "      <td>0.131737</td>\n",
       "      <td>0.163447</td>\n",
       "      <td>0.770361</td>\n",
       "      <td>0.734266</td>\n",
       "      <td>0.103041</td>\n",
       "      <td>0.057768</td>\n",
       "      <td>0.784956</td>\n",
       "      <td>0.761746</td>\n",
       "      <td>20540.0</td>\n",
       "      <td>69170.0</td>\n",
       "    </tr>\n",
       "  </tbody>\n",
       "</table>\n",
       "<p>4 rows × 50 columns</p>\n",
       "</div>"
      ],
      "text/plain": [
       "  run_no                       universe_id  \\\n",
       "0     14  b19f628709127abedf7a5755799427e9   \n",
       "0     14  b19f628709127abedf7a5755799427e9   \n",
       "0     14  b19f628709127abedf7a5755799427e9   \n",
       "0     14  b19f628709127abedf7a5755799427e9   \n",
       "\n",
       "                                   universe_settings  execution_time  \\\n",
       "0  {\"cutoff\": \"quantile_0.1\", \"eval_fairness_grou...       29.988935   \n",
       "0  {\"cutoff\": \"quantile_0.1\", \"eval_fairness_grou...       29.988935   \n",
       "0  {\"cutoff\": \"quantile_0.25\", \"eval_fairness_gro...       29.988935   \n",
       "0  {\"cutoff\": \"quantile_0.25\", \"eval_fairness_gro...       29.988935   \n",
       "\n",
       "   test_size_n  test_size_frac  fair_main_equalized_odds_difference  \\\n",
       "0        89710             1.0                             0.019263   \n",
       "0        89710             1.0                             0.019263   \n",
       "0        89710             1.0                             0.045272   \n",
       "0        89710             1.0                             0.045272   \n",
       "\n",
       "   fair_main_equalized_odds_ratio  fair_main_demographic_parity_difference  \\\n",
       "0                        0.980470                                 0.011196   \n",
       "0                        0.980470                                 0.011196   \n",
       "0                        0.951952                                 0.023210   \n",
       "0                        0.951952                                 0.023210   \n",
       "\n",
       "   fair_main_demographic_parity_ratio  ...  perf_grp_precision_0  \\\n",
       "0                            0.987992  ...                   NaN   \n",
       "0                            0.987992  ...              0.119576   \n",
       "0                            0.970432  ...                   NaN   \n",
       "0                            0.970432  ...              0.131737   \n",
       "\n",
       "   perf_grp_precision_1  perf_grp_false positive rate_0  \\\n",
       "0                   NaN                             NaN   \n",
       "0              0.141483                        0.927856   \n",
       "0                   NaN                             NaN   \n",
       "0              0.163447                        0.770361   \n",
       "\n",
       "   perf_grp_false positive rate_1  perf_grp_false negative rate_0  \\\n",
       "0                             NaN                             NaN   \n",
       "0                        0.911261                        0.032939   \n",
       "0                             NaN                             NaN   \n",
       "0                        0.734266                        0.103041   \n",
       "\n",
       "   perf_grp_false negative rate_1  perf_grp_selection rate_0  \\\n",
       "0                             NaN                        NaN   \n",
       "0                        0.013676                   0.932376   \n",
       "0                             NaN                        NaN   \n",
       "0                        0.057768                   0.784956   \n",
       "\n",
       "   perf_grp_selection rate_1  perf_grp_count_0  perf_grp_count_1  \n",
       "0                        NaN               NaN               NaN  \n",
       "0                   0.921180           20540.0           69170.0  \n",
       "0                        NaN               NaN               NaN  \n",
       "0                   0.761746           20540.0           69170.0  \n",
       "\n",
       "[4 rows x 50 columns]"
      ]
     },
     "execution_count": 79,
     "metadata": {},
     "output_type": "execute_result"
    }
   ],
   "source": [
    "final_output = universe_analysis.generate_final_output(\n",
    "    y_pred_prob=probs_test,\n",
    "    y_test=y_true,\n",
    "    org_test=org_test,\n",
    "    filter_data=filter_sub_universe_data,\n",
    "    cp_metrics_df=cp_metrics_df,\n",
    "    save=True,\n",
    ")\n",
    "final_output"
   ]
  },
  {
   "cell_type": "code",
   "execution_count": null,
   "id": "721ff514-cb11-46f8-b6fc-50392f74b5cb",
   "metadata": {
    "papermill": {
     "duration": 0.025654,
     "end_time": "2025-07-30T21:24:46.759315",
     "exception": false,
     "start_time": "2025-07-30T21:24:46.733661",
     "status": "completed"
    },
    "tags": []
   },
   "outputs": [],
   "source": []
  }
 ],
 "metadata": {
  "celltoolbar": "Tags",
  "kernelspec": {
   "display_name": "Python (CMA Fairness)",
   "language": "python",
   "name": "cma_fair_env"
  },
  "language_info": {
   "codemirror_mode": {
    "name": "ipython",
    "version": 3
   },
   "file_extension": ".py",
   "mimetype": "text/x-python",
   "name": "python",
   "nbconvert_exporter": "python",
   "pygments_lexer": "ipython3",
   "version": "3.10.12"
  },
  "papermill": {
   "default_parameters": {},
   "duration": 45.710077,
   "end_time": "2025-07-30T21:24:47.705962",
   "environment_variables": {},
   "exception": null,
   "input_path": "universe_analysis.ipynb",
   "output_path": "output/runs/14/notebooks/m_14-b19f628709127abedf7a5755799427e9.ipynb",
   "parameters": {
    "output_dir": "output",
    "run_no": "14",
    "seed": "2023",
    "universe": "{\"cutoff\": [\"quantile_0.1\", \"quantile_0.25\"], \"eval_fairness_grouping\": [\"majority-minority\", \"nationality-all\"], \"exclude_features\": \"none\", \"exclude_subgroups\": \"drop-non-german\", \"model\": \"rf\", \"scale\": \"scale\", \"training_size\": \"1k\", \"training_year\": \"2014\"}",
    "universe_id": "b19f628709127abedf7a5755799427e9"
   },
   "start_time": "2025-07-30T21:24:01.995885",
   "version": "2.6.0"
  }
 },
 "nbformat": 4,
 "nbformat_minor": 5
}