{
 "cells": [
  {
   "cell_type": "code",
   "execution_count": 1,
   "id": "f159f837-637b-42ba-96b5-ec9a68c44524",
   "metadata": {
    "execution": {
     "iopub.execute_input": "2025-07-30T20:13:55.667539Z",
     "iopub.status.busy": "2025-07-30T20:13:55.667056Z",
     "iopub.status.idle": "2025-07-30T20:13:55.681398Z",
     "shell.execute_reply": "2025-07-30T20:13:55.680139Z"
    },
    "papermill": {
     "duration": 0.037345,
     "end_time": "2025-07-30T20:13:55.683148",
     "exception": false,
     "start_time": "2025-07-30T20:13:55.645803",
     "status": "completed"
    },
    "tags": []
   },
   "outputs": [
    {
     "name": "stdout",
     "output_type": "stream",
     "text": [
      "/dss/dsshome1/0C/ra93lal2/cma/CMA_Fairness_v2\n"
     ]
    },
    {
     "name": "stderr",
     "output_type": "stream",
     "text": [
      "/dss/dsshome1/0C/ra93lal2/.local/share/virtualenvs/CMA_Fairness_v2-3j10GkSs/lib/python3.10/site-packages/IPython/core/magics/osm.py:393: UserWarning: This is now an optional IPython functionality, using bookmarks requires you to install the `pickleshare` library.\n",
      "  bkms = self.shell.db.get('bookmarks', {})\n",
      "/dss/dsshome1/0C/ra93lal2/.local/share/virtualenvs/CMA_Fairness_v2-3j10GkSs/lib/python3.10/site-packages/IPython/core/magics/osm.py:417: UserWarning: This is now an optional IPython functionality, setting dhist requires you to install the `pickleshare` library.\n",
      "  self.shell.db['dhist'] = compress_dhist(dhist)[-100:]\n"
     ]
    }
   ],
   "source": [
    "%cd ~/cma/CMA_Fairness_v2"
   ]
  },
  {
   "cell_type": "markdown",
   "id": "de2603b9",
   "metadata": {
    "papermill": {
     "duration": 0.009588,
     "end_time": "2025-07-30T20:13:55.710091",
     "exception": false,
     "start_time": "2025-07-30T20:13:55.700503",
     "status": "completed"
    },
    "tags": []
   },
   "source": [
    "The following cell holds the definition of our parameters, these values can be overriden by rendering the with e.g. the following command:\n",
    "\n",
    "papermill -p alpha 0.2 -p ratio 0.3 universe_analysis.ipynb output/test_run.ipynb"
   ]
  },
  {
   "cell_type": "code",
   "execution_count": 2,
   "id": "a80968a0-40bb-4fa9-85ef-2d5eefb01975",
   "metadata": {
    "execution": {
     "iopub.execute_input": "2025-07-30T20:13:55.731108Z",
     "iopub.status.busy": "2025-07-30T20:13:55.730730Z",
     "iopub.status.idle": "2025-07-30T20:13:55.736132Z",
     "shell.execute_reply": "2025-07-30T20:13:55.734986Z"
    },
    "papermill": {
     "duration": 0.017546,
     "end_time": "2025-07-30T20:13:55.737468",
     "exception": false,
     "start_time": "2025-07-30T20:13:55.719922",
     "status": "completed"
    },
    "tags": []
   },
   "outputs": [
    {
     "name": "stdout",
     "output_type": "stream",
     "text": [
      "Current working directory: /dss/dsshome1/0C/ra93lal2/cma/CMA_Fairness_v2\n"
     ]
    }
   ],
   "source": [
    "import os\n",
    "print(\"Current working directory:\", os.getcwd())"
   ]
  },
  {
   "cell_type": "code",
   "execution_count": 3,
   "id": "2dce4c03",
   "metadata": {
    "execution": {
     "iopub.execute_input": "2025-07-30T20:13:55.759058Z",
     "iopub.status.busy": "2025-07-30T20:13:55.758583Z",
     "iopub.status.idle": "2025-07-30T20:13:55.763081Z",
     "shell.execute_reply": "2025-07-30T20:13:55.762349Z"
    },
    "papermill": {
     "duration": 0.016279,
     "end_time": "2025-07-30T20:13:55.764539",
     "exception": false,
     "start_time": "2025-07-30T20:13:55.748260",
     "status": "completed"
    },
    "tags": [
     "parameters"
    ]
   },
   "outputs": [],
   "source": [
    "run_no = 0\n",
    "universe_id = \"test\"\n",
    "universe = {\n",
    "    \"training_size\": \"25k\", # \"25k\", \"5k\", \"1k\"\n",
    "    \"training_year\": \"2014\", # \"2014\", \"2012_14\", \"2010_14\"\n",
    "    \"scale\": \"scale\", # \"scale\", \"do-not-scale\",\n",
    "    #\"stratify_split\": \"target\", # \"none\", \"target\", \"protected-attribute\", \"both\",\n",
    "    \"model\": \"elasticnet\", # \"logreg\", \"penalized_logreg\", \"rf\", \"gbm\", \"elasticnet\"\n",
    "    \"cutoff\": [\"quantile_0.15\", \"quantile_0.30\"],\n",
    "    \"exclude_features\": \"age\", # \"none\", \"nationality\", \"sex\", \"nationality-sex\", \"age\"\n",
    "    \"exclude_subgroups\": \"keep-all\", # \"keep-all\", \"drop-non-german\"\n",
    "    \"eval_fairness_grouping\": [\"majority-minority\", \"nationality-all\"]\n",
    "}\n",
    "\n",
    "output_dir=\"./output\"\n",
    "seed=0"
   ]
  },
  {
   "cell_type": "code",
   "execution_count": 4,
   "id": "ee1ab2e8",
   "metadata": {
    "execution": {
     "iopub.execute_input": "2025-07-30T20:13:55.786224Z",
     "iopub.status.busy": "2025-07-30T20:13:55.785841Z",
     "iopub.status.idle": "2025-07-30T20:13:55.789912Z",
     "shell.execute_reply": "2025-07-30T20:13:55.789085Z"
    },
    "papermill": {
     "duration": 0.016027,
     "end_time": "2025-07-30T20:13:55.791215",
     "exception": false,
     "start_time": "2025-07-30T20:13:55.775188",
     "status": "completed"
    },
    "tags": [
     "injected-parameters"
    ]
   },
   "outputs": [],
   "source": [
    "# Parameters\n",
    "universe_id = \"c91e5249afd0b969184da7c6ba766422\"\n",
    "run_no = \"14\"\n",
    "universe = \"{\\\"cutoff\\\": [\\\"quantile_0.1\\\", \\\"quantile_0.25\\\"], \\\"eval_fairness_grouping\\\": [\\\"majority-minority\\\", \\\"nationality-all\\\"], \\\"exclude_features\\\": \\\"none\\\", \\\"exclude_subgroups\\\": \\\"drop-non-german\\\", \\\"model\\\": \\\"elasticnet\\\", \\\"scale\\\": \\\"scale\\\", \\\"training_size\\\": \\\"25k\\\", \\\"training_year\\\": \\\"2012_14\\\"}\"\n",
    "output_dir = \"output\"\n",
    "seed = \"2023\"\n"
   ]
  },
  {
   "cell_type": "code",
   "execution_count": 5,
   "id": "1650acaf",
   "metadata": {
    "execution": {
     "iopub.execute_input": "2025-07-30T20:13:55.816784Z",
     "iopub.status.busy": "2025-07-30T20:13:55.816283Z",
     "iopub.status.idle": "2025-07-30T20:13:55.820326Z",
     "shell.execute_reply": "2025-07-30T20:13:55.819564Z"
    },
    "papermill": {
     "duration": 0.015947,
     "end_time": "2025-07-30T20:13:55.821578",
     "exception": false,
     "start_time": "2025-07-30T20:13:55.805631",
     "status": "completed"
    },
    "tags": []
   },
   "outputs": [],
   "source": [
    "import json\n",
    "# Parse universe into dict if it is passed as a string\n",
    "if isinstance(universe, str):\n",
    "    universe = json.loads(universe)"
   ]
  },
  {
   "cell_type": "code",
   "execution_count": 6,
   "id": "16620c48",
   "metadata": {
    "execution": {
     "iopub.execute_input": "2025-07-30T20:13:55.843390Z",
     "iopub.status.busy": "2025-07-30T20:13:55.842976Z",
     "iopub.status.idle": "2025-07-30T20:13:55.889299Z",
     "shell.execute_reply": "2025-07-30T20:13:55.888216Z"
    },
    "papermill": {
     "duration": 0.058901,
     "end_time": "2025-07-30T20:13:55.891344",
     "exception": false,
     "start_time": "2025-07-30T20:13:55.832443",
     "status": "completed"
    },
    "tags": []
   },
   "outputs": [],
   "source": [
    "# Auto-reload the custom package\n",
    "%load_ext autoreload\n",
    "%autoreload 1\n",
    "%aimport fairness_multiverse"
   ]
  },
  {
   "cell_type": "code",
   "execution_count": 7,
   "id": "01c5c9f3",
   "metadata": {
    "execution": {
     "iopub.execute_input": "2025-07-30T20:13:55.932164Z",
     "iopub.status.busy": "2025-07-30T20:13:55.931265Z",
     "iopub.status.idle": "2025-07-30T20:13:57.759959Z",
     "shell.execute_reply": "2025-07-30T20:13:57.759001Z"
    },
    "papermill": {
     "duration": 1.850311,
     "end_time": "2025-07-30T20:13:57.761430",
     "exception": false,
     "start_time": "2025-07-30T20:13:55.911119",
     "status": "completed"
    },
    "tags": []
   },
   "outputs": [],
   "source": [
    "from fairness_multiverse.universe import UniverseAnalysis\n",
    "\n",
    "universe_analysis = UniverseAnalysis(\n",
    "    run_no = run_no,\n",
    "    universe_id = universe_id,\n",
    "    universe = universe,\n",
    "    output_dir=output_dir,\n",
    ")"
   ]
  },
  {
   "cell_type": "code",
   "execution_count": 8,
   "id": "106241f5",
   "metadata": {
    "execution": {
     "iopub.execute_input": "2025-07-30T20:13:57.783675Z",
     "iopub.status.busy": "2025-07-30T20:13:57.783347Z",
     "iopub.status.idle": "2025-07-30T20:13:57.788801Z",
     "shell.execute_reply": "2025-07-30T20:13:57.788091Z"
    },
    "papermill": {
     "duration": 0.017641,
     "end_time": "2025-07-30T20:13:57.790070",
     "exception": false,
     "start_time": "2025-07-30T20:13:57.772429",
     "status": "completed"
    },
    "tags": []
   },
   "outputs": [
    {
     "name": "stdout",
     "output_type": "stream",
     "text": [
      "Using Seed: 2023\n"
     ]
    }
   ],
   "source": [
    "import numpy as np\n",
    "parsed_seed = int(seed)\n",
    "np.random.seed(parsed_seed)\n",
    "print(f\"Using Seed: {parsed_seed}\")"
   ]
  },
  {
   "cell_type": "markdown",
   "id": "e0ebdc57",
   "metadata": {
    "papermill": {
     "duration": 0.009888,
     "end_time": "2025-07-30T20:13:57.810623",
     "exception": false,
     "start_time": "2025-07-30T20:13:57.800735",
     "status": "completed"
    },
    "tags": []
   },
   "source": [
    "# Loading Data"
   ]
  },
  {
   "cell_type": "markdown",
   "id": "681925a3",
   "metadata": {
    "papermill": {
     "duration": 0.010346,
     "end_time": "2025-07-30T20:13:57.831641",
     "exception": false,
     "start_time": "2025-07-30T20:13:57.821295",
     "status": "completed"
    },
    "tags": []
   },
   "source": [
    "Load siab_train, siab_test, siab_calib and/or \n",
    "load siab_train_features, siab_train_labels"
   ]
  },
  {
   "cell_type": "code",
   "execution_count": 9,
   "id": "f0496b8a",
   "metadata": {
    "execution": {
     "iopub.execute_input": "2025-07-30T20:13:57.853090Z",
     "iopub.status.busy": "2025-07-30T20:13:57.852763Z",
     "iopub.status.idle": "2025-07-30T20:14:09.804718Z",
     "shell.execute_reply": "2025-07-30T20:14:09.803616Z"
    },
    "papermill": {
     "duration": 11.964351,
     "end_time": "2025-07-30T20:14:09.806343",
     "exception": false,
     "start_time": "2025-07-30T20:13:57.841992",
     "status": "completed"
    },
    "tags": []
   },
   "outputs": [
    {
     "name": "stdout",
     "output_type": "stream",
     "text": [
      "Loading SIAB data from cache: data/siab_cached.csv.gz\n"
     ]
    },
    {
     "name": "stdout",
     "output_type": "stream",
     "text": [
      "(643690, 164)\n"
     ]
    }
   ],
   "source": [
    "from pathlib import Path\n",
    "import pandas as pd\n",
    "\n",
    "# File paths\n",
    "raw_file = Path(\"data/raw/siab.csv\")\n",
    "cache_file = Path(\"data/siab_cached.csv.gz\")\n",
    "\n",
    "# Ensure cache directory exists\n",
    "cache_file.parent.mkdir(parents=True, exist_ok=True)\n",
    "\n",
    "# Load with simple caching\n",
    "if cache_file.exists():\n",
    "    print(f\"Loading SIAB data from cache: {cache_file}\")\n",
    "    siab = pd.read_csv(cache_file, compression='gzip')\n",
    "else:\n",
    "    print(f\"Cache not found. Reading raw SIAB data: {raw_file}\")\n",
    "    siab = pd.read_csv(raw_file)\n",
    "    siab.to_csv(cache_file, index=False, compression='gzip')\n",
    "    print(f\"Cached SIAB data to: {cache_file}\")\n",
    "\n",
    "# Now use `siab` DataFrame as needed\n",
    "print(siab.shape)"
   ]
  },
  {
   "cell_type": "code",
   "execution_count": 10,
   "id": "db0ca512-5f53-4dba-abdb-a2888bca41ba",
   "metadata": {
    "execution": {
     "iopub.execute_input": "2025-07-30T20:14:09.847838Z",
     "iopub.status.busy": "2025-07-30T20:14:09.847021Z",
     "iopub.status.idle": "2025-07-30T20:14:09.853032Z",
     "shell.execute_reply": "2025-07-30T20:14:09.852086Z"
    },
    "papermill": {
     "duration": 0.027334,
     "end_time": "2025-07-30T20:14:09.854465",
     "exception": false,
     "start_time": "2025-07-30T20:14:09.827131",
     "status": "completed"
    },
    "tags": []
   },
   "outputs": [],
   "source": [
    "#siab"
   ]
  },
  {
   "cell_type": "code",
   "execution_count": 11,
   "id": "a0edb063",
   "metadata": {
    "execution": {
     "iopub.execute_input": "2025-07-30T20:14:09.893715Z",
     "iopub.status.busy": "2025-07-30T20:14:09.893190Z",
     "iopub.status.idle": "2025-07-30T20:14:09.898168Z",
     "shell.execute_reply": "2025-07-30T20:14:09.897094Z"
    },
    "papermill": {
     "duration": 0.026195,
     "end_time": "2025-07-30T20:14:09.899824",
     "exception": false,
     "start_time": "2025-07-30T20:14:09.873629",
     "status": "completed"
    },
    "tags": []
   },
   "outputs": [],
   "source": [
    "#import pandas as pd\n",
    "#\n",
    "#X_train = pd.read_csv(\"./data/X_train.csv\")\n",
    "#y_train = pd.read_csv(\"./data/y_train.csv\")"
   ]
  },
  {
   "cell_type": "code",
   "execution_count": 12,
   "id": "63d08085",
   "metadata": {
    "execution": {
     "iopub.execute_input": "2025-07-30T20:14:09.939683Z",
     "iopub.status.busy": "2025-07-30T20:14:09.938889Z",
     "iopub.status.idle": "2025-07-30T20:14:09.944140Z",
     "shell.execute_reply": "2025-07-30T20:14:09.943225Z"
    },
    "papermill": {
     "duration": 0.026703,
     "end_time": "2025-07-30T20:14:09.945779",
     "exception": false,
     "start_time": "2025-07-30T20:14:09.919076",
     "status": "completed"
    },
    "tags": []
   },
   "outputs": [],
   "source": [
    "#X_test = pd.read_csv(\"./data/X_test.csv\")\n",
    "#y_true = pd.read_csv(\"./data/y_test.csv\")"
   ]
  },
  {
   "cell_type": "code",
   "execution_count": 13,
   "id": "98a8d0fa-1d3d-4ed8-bb2c-281470e24add",
   "metadata": {
    "execution": {
     "iopub.execute_input": "2025-07-30T20:14:09.985591Z",
     "iopub.status.busy": "2025-07-30T20:14:09.984756Z",
     "iopub.status.idle": "2025-07-30T20:14:09.989743Z",
     "shell.execute_reply": "2025-07-30T20:14:09.988733Z"
    },
    "papermill": {
     "duration": 0.026401,
     "end_time": "2025-07-30T20:14:09.991433",
     "exception": false,
     "start_time": "2025-07-30T20:14:09.965032",
     "status": "completed"
    },
    "tags": []
   },
   "outputs": [],
   "source": [
    "# Calibration data for conformal\n",
    "#X_calib = pd.read_csv(\"./data/X_calib.csv\")\n",
    "#y_calib = pd.read_csv(\"./data/y_calib.csv\")"
   ]
  },
  {
   "cell_type": "markdown",
   "id": "997051c5-15bd-4b69-9786-c3001a3ce484",
   "metadata": {
    "papermill": {
     "duration": 0.018239,
     "end_time": "2025-07-30T20:14:10.028952",
     "exception": false,
     "start_time": "2025-07-30T20:14:10.010713",
     "status": "completed"
    },
    "tags": []
   },
   "source": [
    "# Splitting Data and Setting Training Data Size"
   ]
  },
  {
   "cell_type": "code",
   "execution_count": 14,
   "id": "e993b61f-042d-41a6-8c81-f55681f86335",
   "metadata": {
    "execution": {
     "iopub.execute_input": "2025-07-30T20:14:10.067976Z",
     "iopub.status.busy": "2025-07-30T20:14:10.067107Z",
     "iopub.status.idle": "2025-07-30T20:14:10.080123Z",
     "shell.execute_reply": "2025-07-30T20:14:10.079163Z"
    },
    "papermill": {
     "duration": 0.034216,
     "end_time": "2025-07-30T20:14:10.081753",
     "exception": false,
     "start_time": "2025-07-30T20:14:10.047537",
     "status": "completed"
    },
    "tags": []
   },
   "outputs": [],
   "source": [
    "def sample_by_year_size(df,\n",
    "                        training_year: str,\n",
    "                        training_size: str,\n",
    "                        random_state: int = 42):\n",
    "    # --- parse training_year into a list of int years ---\n",
    "    if \"_\" in training_year:\n",
    "        start_str, end_str = training_year.split(\"_\", 1)\n",
    "        start = int(start_str)\n",
    "        end   = int(end_str) if len(end_str) == 4 else (int(end_str) + (start // 100)*100)\n",
    "        years = list(range(start, end + 1))\n",
    "    else:\n",
    "        years = [int(training_year)]\n",
    "\n",
    "    df = df[df[\"year\"].isin(years)].reset_index(drop=True)\n",
    "\n",
    "    # --- map training_size to total number of samples ---\n",
    "    total_map = {\"25k\": 25_000, \"5k\": 5_000, \"1k\": 1_000}\n",
    "    if training_size not in total_map:\n",
    "        return df  # e.g. \"all\"\n",
    "\n",
    "    total_samples = total_map[training_size]\n",
    "    n_years       = len(years)\n",
    "    base          = total_samples // n_years\n",
    "    remainder     = total_samples % n_years\n",
    "\n",
    "    # --- build a dict: year -> how many to sample ---\n",
    "    # give +1 to the first `remainder` years in ascending order\n",
    "    quotas = {\n",
    "        year: base + (1 if idx < remainder else 0)\n",
    "        for idx, year in enumerate(sorted(years))\n",
    "    }\n",
    "\n",
    "    # --- sample per‐year according to the quota dict ---\n",
    "    sampled = (\n",
    "        df\n",
    "        .groupby(\"year\", group_keys=False)\n",
    "        .apply(lambda grp: grp.sample(\n",
    "            n=min(len(grp), quotas[grp.name]),\n",
    "            random_state=random_state))\n",
    "        .reset_index(drop=True)\n",
    "    )\n",
    "\n",
    "    return sampled"
   ]
  },
  {
   "cell_type": "code",
   "execution_count": 15,
   "id": "c0ccd338-0e02-41f3-a09d-f56f9266e3fb",
   "metadata": {
    "execution": {
     "iopub.execute_input": "2025-07-30T20:14:10.121938Z",
     "iopub.status.busy": "2025-07-30T20:14:10.121045Z",
     "iopub.status.idle": "2025-07-30T20:14:10.126344Z",
     "shell.execute_reply": "2025-07-30T20:14:10.125394Z"
    },
    "papermill": {
     "duration": 0.026332,
     "end_time": "2025-07-30T20:14:10.127951",
     "exception": false,
     "start_time": "2025-07-30T20:14:10.101619",
     "status": "completed"
    },
    "tags": []
   },
   "outputs": [],
   "source": [
    "#universe[\"training_size\"]"
   ]
  },
  {
   "cell_type": "code",
   "execution_count": 16,
   "id": "ca707fd7-8047-4acd-bfa5-66248fbbf8e6",
   "metadata": {
    "execution": {
     "iopub.execute_input": "2025-07-30T20:14:10.168475Z",
     "iopub.status.busy": "2025-07-30T20:14:10.167734Z",
     "iopub.status.idle": "2025-07-30T20:14:10.172787Z",
     "shell.execute_reply": "2025-07-30T20:14:10.171871Z"
    },
    "papermill": {
     "duration": 0.026371,
     "end_time": "2025-07-30T20:14:10.174459",
     "exception": false,
     "start_time": "2025-07-30T20:14:10.148088",
     "status": "completed"
    },
    "tags": []
   },
   "outputs": [],
   "source": [
    "#universe[\"training_year\"]"
   ]
  },
  {
   "cell_type": "code",
   "execution_count": 17,
   "id": "aea9c6ef-6f46-42c8-85eb-5a62025c1508",
   "metadata": {
    "execution": {
     "iopub.execute_input": "2025-07-30T20:14:10.213985Z",
     "iopub.status.busy": "2025-07-30T20:14:10.213549Z",
     "iopub.status.idle": "2025-07-30T20:14:10.884651Z",
     "shell.execute_reply": "2025-07-30T20:14:10.883604Z"
    },
    "papermill": {
     "duration": 0.692579,
     "end_time": "2025-07-30T20:14:10.886481",
     "exception": false,
     "start_time": "2025-07-30T20:14:10.193902",
     "status": "completed"
    },
    "tags": []
   },
   "outputs": [],
   "source": [
    "siab_train = sample_by_year_size(siab,\n",
    "                               training_year=universe[\"training_year\"],\n",
    "                               training_size=universe[\"training_size\"])"
   ]
  },
  {
   "cell_type": "code",
   "execution_count": 18,
   "id": "8d3afb32-789d-442c-8d5d-9f5aa8dd2eed",
   "metadata": {
    "execution": {
     "iopub.execute_input": "2025-07-30T20:14:10.926940Z",
     "iopub.status.busy": "2025-07-30T20:14:10.926126Z",
     "iopub.status.idle": "2025-07-30T20:14:10.931725Z",
     "shell.execute_reply": "2025-07-30T20:14:10.930808Z"
    },
    "papermill": {
     "duration": 0.027091,
     "end_time": "2025-07-30T20:14:10.933290",
     "exception": false,
     "start_time": "2025-07-30T20:14:10.906199",
     "status": "completed"
    },
    "tags": []
   },
   "outputs": [],
   "source": [
    "#siab_train.shape"
   ]
  },
  {
   "cell_type": "code",
   "execution_count": 19,
   "id": "d582db68-1a4c-47fb-84fc-08518dc1975a",
   "metadata": {
    "execution": {
     "iopub.execute_input": "2025-07-30T20:14:10.973439Z",
     "iopub.status.busy": "2025-07-30T20:14:10.972910Z",
     "iopub.status.idle": "2025-07-30T20:14:10.978143Z",
     "shell.execute_reply": "2025-07-30T20:14:10.977165Z"
    },
    "papermill": {
     "duration": 0.026573,
     "end_time": "2025-07-30T20:14:10.979640",
     "exception": false,
     "start_time": "2025-07-30T20:14:10.953067",
     "status": "completed"
    },
    "tags": []
   },
   "outputs": [],
   "source": [
    "#display(siab_train.groupby(\"year\").size())"
   ]
  },
  {
   "cell_type": "code",
   "execution_count": 20,
   "id": "a561edb4-d032-42cb-8256-22eac1111c64",
   "metadata": {
    "execution": {
     "iopub.execute_input": "2025-07-30T20:14:11.019626Z",
     "iopub.status.busy": "2025-07-30T20:14:11.019164Z",
     "iopub.status.idle": "2025-07-30T20:14:11.235733Z",
     "shell.execute_reply": "2025-07-30T20:14:11.234822Z"
    },
    "papermill": {
     "duration": 0.238223,
     "end_time": "2025-07-30T20:14:11.237601",
     "exception": false,
     "start_time": "2025-07-30T20:14:10.999378",
     "status": "completed"
    },
    "tags": []
   },
   "outputs": [],
   "source": [
    "#siab_train = siab_s[siab_s.year < 2015]\n",
    "siab_calib = siab[siab.year == 2015]\n",
    "siab_test = siab[siab.year == 2016]"
   ]
  },
  {
   "cell_type": "code",
   "execution_count": 21,
   "id": "472de16f-c3db-4916-846b-1f0de9cf1746",
   "metadata": {
    "execution": {
     "iopub.execute_input": "2025-07-30T20:14:11.282425Z",
     "iopub.status.busy": "2025-07-30T20:14:11.281972Z",
     "iopub.status.idle": "2025-07-30T20:14:11.297067Z",
     "shell.execute_reply": "2025-07-30T20:14:11.296129Z"
    },
    "papermill": {
     "duration": 0.039219,
     "end_time": "2025-07-30T20:14:11.298813",
     "exception": false,
     "start_time": "2025-07-30T20:14:11.259594",
     "status": "completed"
    },
    "tags": []
   },
   "outputs": [],
   "source": [
    "X_train = siab_train.iloc[:,4:164]\n",
    "y_train = siab_train.iloc[:, [3]]"
   ]
  },
  {
   "cell_type": "code",
   "execution_count": 22,
   "id": "828c96af-f43a-4ed6-ba47-8ac73a47d56c",
   "metadata": {
    "execution": {
     "iopub.execute_input": "2025-07-30T20:14:11.344181Z",
     "iopub.status.busy": "2025-07-30T20:14:11.343283Z",
     "iopub.status.idle": "2025-07-30T20:14:11.395416Z",
     "shell.execute_reply": "2025-07-30T20:14:11.394452Z"
    },
    "papermill": {
     "duration": 0.076112,
     "end_time": "2025-07-30T20:14:11.397061",
     "exception": false,
     "start_time": "2025-07-30T20:14:11.320949",
     "status": "completed"
    },
    "tags": []
   },
   "outputs": [],
   "source": [
    "X_calib = siab_calib.iloc[:,4:164]\n",
    "y_calib = siab_calib.iloc[:, [3]]"
   ]
  },
  {
   "cell_type": "code",
   "execution_count": 23,
   "id": "c34be9c3-6bd6-476e-acd3-845840e303be",
   "metadata": {
    "execution": {
     "iopub.execute_input": "2025-07-30T20:14:11.437974Z",
     "iopub.status.busy": "2025-07-30T20:14:11.437530Z",
     "iopub.status.idle": "2025-07-30T20:14:11.490325Z",
     "shell.execute_reply": "2025-07-30T20:14:11.489248Z"
    },
    "papermill": {
     "duration": 0.074647,
     "end_time": "2025-07-30T20:14:11.492283",
     "exception": false,
     "start_time": "2025-07-30T20:14:11.417636",
     "status": "completed"
    },
    "tags": []
   },
   "outputs": [],
   "source": [
    "X_test = siab_test.iloc[:,4:164]\n",
    "y_true = siab_test.iloc[:, [3]]"
   ]
  },
  {
   "cell_type": "markdown",
   "id": "9901737e-04df-44f0-9100-f5ad144ed040",
   "metadata": {
    "papermill": {
     "duration": 0.020316,
     "end_time": "2025-07-30T20:14:11.535031",
     "exception": false,
     "start_time": "2025-07-30T20:14:11.514715",
     "status": "completed"
    },
    "tags": []
   },
   "source": [
    "# Splitting Data and Setting Training Data Size OLD VERSION"
   ]
  },
  {
   "cell_type": "code",
   "execution_count": 24,
   "id": "acbc8f7d-8fc8-4e86-8c59-5dcb0f58384b",
   "metadata": {
    "execution": {
     "iopub.execute_input": "2025-07-30T20:14:11.578347Z",
     "iopub.status.busy": "2025-07-30T20:14:11.577890Z",
     "iopub.status.idle": "2025-07-30T20:14:11.583685Z",
     "shell.execute_reply": "2025-07-30T20:14:11.582741Z"
    },
    "papermill": {
     "duration": 0.030224,
     "end_time": "2025-07-30T20:14:11.585432",
     "exception": false,
     "start_time": "2025-07-30T20:14:11.555208",
     "status": "completed"
    },
    "tags": []
   },
   "outputs": [],
   "source": [
    "#def sample_by_year(df, training_size, random_state=42):\n",
    "#    if training_size == \"2014\":\n",
    "#        return df[df[\"year\"] == 2014].reset_index(drop=True)\n",
    "#    \n",
    "#    size_map = {\n",
    "#        \"25k\": 5000,\n",
    "#        \"5k\": 1000,\n",
    "#        \"1k\": 200\n",
    "#    }\n",
    "#\n",
    "#    if training_size not in size_map:\n",
    "#        return df.reset_index(drop=True)  # use all data\n",
    "#\n",
    "#    n_per_year = size_map[training_size]\n",
    "#    grouped = df.groupby(\"year\")\n",
    "#    sampled = grouped.apply(lambda x: x.sample(n=min(n_per_year, len(x)), random_state=random_state))\n",
    "#    return sampled.reset_index(drop=True)"
   ]
  },
  {
   "cell_type": "code",
   "execution_count": 25,
   "id": "6d931f52-beaf-43ff-9e78-9d44a448d54e",
   "metadata": {
    "execution": {
     "iopub.execute_input": "2025-07-30T20:14:11.628450Z",
     "iopub.status.busy": "2025-07-30T20:14:11.627801Z",
     "iopub.status.idle": "2025-07-30T20:14:11.633897Z",
     "shell.execute_reply": "2025-07-30T20:14:11.632733Z"
    },
    "papermill": {
     "duration": 0.03001,
     "end_time": "2025-07-30T20:14:11.636725",
     "exception": false,
     "start_time": "2025-07-30T20:14:11.606715",
     "status": "completed"
    },
    "tags": []
   },
   "outputs": [],
   "source": [
    "#siab_s = sample_by_year(siab, universe[\"training_size\"])"
   ]
  },
  {
   "cell_type": "code",
   "execution_count": 26,
   "id": "5db0a40e-a4e2-4920-be85-b12ae061d70d",
   "metadata": {
    "execution": {
     "iopub.execute_input": "2025-07-30T20:14:11.680074Z",
     "iopub.status.busy": "2025-07-30T20:14:11.679422Z",
     "iopub.status.idle": "2025-07-30T20:14:11.685223Z",
     "shell.execute_reply": "2025-07-30T20:14:11.684240Z"
    },
    "papermill": {
     "duration": 0.028521,
     "end_time": "2025-07-30T20:14:11.686777",
     "exception": false,
     "start_time": "2025-07-30T20:14:11.658256",
     "status": "completed"
    },
    "tags": []
   },
   "outputs": [],
   "source": [
    "#display(siab_s.groupby(\"year\").size())"
   ]
  },
  {
   "cell_type": "code",
   "execution_count": 27,
   "id": "e6c733c5",
   "metadata": {
    "execution": {
     "iopub.execute_input": "2025-07-30T20:14:11.728430Z",
     "iopub.status.busy": "2025-07-30T20:14:11.727788Z",
     "iopub.status.idle": "2025-07-30T20:14:11.830092Z",
     "shell.execute_reply": "2025-07-30T20:14:11.829051Z"
    },
    "papermill": {
     "duration": 0.125137,
     "end_time": "2025-07-30T20:14:11.832539",
     "exception": false,
     "start_time": "2025-07-30T20:14:11.707402",
     "status": "completed"
    },
    "tags": []
   },
   "outputs": [],
   "source": [
    "# Auxiliary data needed downstream in the pipeline\n",
    "\n",
    "org_train = X_train.copy()\n",
    "org_test = X_test.copy()\n",
    "org_calib = X_calib.copy()"
   ]
  },
  {
   "cell_type": "code",
   "execution_count": 28,
   "id": "1466abac-c6da-4492-a62f-4240ae3783af",
   "metadata": {
    "execution": {
     "iopub.execute_input": "2025-07-30T20:14:11.887973Z",
     "iopub.status.busy": "2025-07-30T20:14:11.887328Z",
     "iopub.status.idle": "2025-07-30T20:14:11.893076Z",
     "shell.execute_reply": "2025-07-30T20:14:11.892069Z"
    },
    "papermill": {
     "duration": 0.03302,
     "end_time": "2025-07-30T20:14:11.894631",
     "exception": false,
     "start_time": "2025-07-30T20:14:11.861611",
     "status": "completed"
    },
    "tags": []
   },
   "outputs": [],
   "source": [
    "# put in other script?\n",
    "# Group sizes\n",
    "\n",
    "#def calculate_percentages(df, df_name):\n",
    "#    total_entries = len(df)\n",
    "#\n",
    "#    female_pct = (df['frau1'] == 1).mean() * 100\n",
    "#    non_german_pct = ((df['maxdeutsch1'] == 0) & (df['maxdeutsch.Missing.'] == 0)).mean() * 100\n",
    "#    non_german_male_pct = ((df['frau1'] == 0) & (df['maxdeutsch1'] == 0) & (df['maxdeutsch.Missing.'] == 0)).mean() * 100\n",
    "#    non_german_female_pct = ((df['frau1'] == 1) & (df['maxdeutsch1'] == 0) & (df['maxdeutsch.Missing.'] == 0)).mean() * 100\n",
    "#\n",
    "#    print(f\"--- {df_name} ---\")\n",
    "#    print(f\"Female: {female_pct:.2f}%\")\n",
    "#    print(f\"Non-German: {non_german_pct:.2f}%\")\n",
    "#    print(f\"Non-German Male: {non_german_male_pct:.2f}%\")\n",
    "#    print(f\"Non-German Female: {non_german_female_pct:.2f}%\\n\")\n",
    "#\n",
    "## Calculate for each DataFrame\n",
    "#calculate_percentages(siab_calib, \"siab_calib\")\n",
    "#calculate_percentages(siab_test, \"siab_test\")\n",
    "#calculate_percentages(siab_train, \"siab_train\")"
   ]
  },
  {
   "cell_type": "markdown",
   "id": "0a4a1b33",
   "metadata": {
    "papermill": {
     "duration": 0.019604,
     "end_time": "2025-07-30T20:14:11.935017",
     "exception": false,
     "start_time": "2025-07-30T20:14:11.915413",
     "status": "completed"
    },
    "tags": []
   },
   "source": [
    "# Preprocessing Data"
   ]
  },
  {
   "cell_type": "code",
   "execution_count": 29,
   "id": "ca879031",
   "metadata": {
    "execution": {
     "iopub.execute_input": "2025-07-30T20:14:11.976068Z",
     "iopub.status.busy": "2025-07-30T20:14:11.975406Z",
     "iopub.status.idle": "2025-07-30T20:14:11.981281Z",
     "shell.execute_reply": "2025-07-30T20:14:11.980460Z"
    },
    "papermill": {
     "duration": 0.028312,
     "end_time": "2025-07-30T20:14:11.982839",
     "exception": false,
     "start_time": "2025-07-30T20:14:11.954527",
     "status": "completed"
    },
    "tags": []
   },
   "outputs": [],
   "source": [
    "# EXCLUDE PROTECTED FEATURES\n",
    "# ----------------------\n",
    "# \"exclude_features\": \"none\", # \"nationality\", \"sex\", \"nationality-sex\"\n",
    "\n",
    "excluded_features = universe[\"exclude_features\"].split(\"-\") # split, e.g.: \"nationality-sex\" -> [\"nationality\", \"sex\"]\n",
    "excluded_features_dictionary = {\n",
    "    \"nationality\": [\"maxdeutsch1\", \"maxdeutsch.Missing.\"],\n",
    "    \"sex\": [\"frau1\"],\n",
    "    \"age\": [\"age\"],\n",
    "}\n"
   ]
  },
  {
   "cell_type": "code",
   "execution_count": 30,
   "id": "b745ac60",
   "metadata": {
    "execution": {
     "iopub.execute_input": "2025-07-30T20:14:12.025026Z",
     "iopub.status.busy": "2025-07-30T20:14:12.024390Z",
     "iopub.status.idle": "2025-07-30T20:14:12.030320Z",
     "shell.execute_reply": "2025-07-30T20:14:12.029389Z"
    },
    "papermill": {
     "duration": 0.028252,
     "end_time": "2025-07-30T20:14:12.031930",
     "exception": false,
     "start_time": "2025-07-30T20:14:12.003678",
     "status": "completed"
    },
    "tags": []
   },
   "outputs": [],
   "source": [
    "# Code nice names to column names\n",
    "\n",
    "excluded_features_columns = [\n",
    "    excluded_features_dictionary[f] for f in excluded_features if len(f) > 0 and f != \"none\"\n",
    "]"
   ]
  },
  {
   "cell_type": "code",
   "execution_count": 31,
   "id": "f84f73a2",
   "metadata": {
    "execution": {
     "iopub.execute_input": "2025-07-30T20:14:12.074070Z",
     "iopub.status.busy": "2025-07-30T20:14:12.073433Z",
     "iopub.status.idle": "2025-07-30T20:14:12.080304Z",
     "shell.execute_reply": "2025-07-30T20:14:12.079429Z"
    },
    "papermill": {
     "duration": 0.029589,
     "end_time": "2025-07-30T20:14:12.082061",
     "exception": false,
     "start_time": "2025-07-30T20:14:12.052472",
     "status": "completed"
    },
    "tags": []
   },
   "outputs": [],
   "source": [
    "from utils import flatten_once\n",
    "\n",
    "excluded_features_columns = flatten_once(excluded_features_columns)"
   ]
  },
  {
   "cell_type": "code",
   "execution_count": 32,
   "id": "884dea22",
   "metadata": {
    "execution": {
     "iopub.execute_input": "2025-07-30T20:14:12.124877Z",
     "iopub.status.busy": "2025-07-30T20:14:12.123318Z",
     "iopub.status.idle": "2025-07-30T20:14:12.130032Z",
     "shell.execute_reply": "2025-07-30T20:14:12.128847Z"
    },
    "papermill": {
     "duration": 0.029274,
     "end_time": "2025-07-30T20:14:12.131698",
     "exception": false,
     "start_time": "2025-07-30T20:14:12.102424",
     "status": "completed"
    },
    "tags": []
   },
   "outputs": [],
   "source": [
    "if len(excluded_features_columns) > 0:\n",
    "    print(f\"Dropping features: {excluded_features_columns}\")\n",
    "    X_train.drop(excluded_features_columns, axis=1, inplace=True)"
   ]
  },
  {
   "cell_type": "code",
   "execution_count": 33,
   "id": "95ab8b16",
   "metadata": {
    "execution": {
     "iopub.execute_input": "2025-07-30T20:14:12.176771Z",
     "iopub.status.busy": "2025-07-30T20:14:12.176134Z",
     "iopub.status.idle": "2025-07-30T20:14:12.181551Z",
     "shell.execute_reply": "2025-07-30T20:14:12.180755Z"
    },
    "papermill": {
     "duration": 0.02889,
     "end_time": "2025-07-30T20:14:12.183033",
     "exception": false,
     "start_time": "2025-07-30T20:14:12.154143",
     "status": "completed"
    },
    "tags": []
   },
   "outputs": [],
   "source": [
    "if len(excluded_features_columns) > 0:\n",
    "    print(f\"Dropping features: {excluded_features_columns}\")\n",
    "    X_test.drop(excluded_features_columns, axis=1, inplace=True)"
   ]
  },
  {
   "cell_type": "code",
   "execution_count": 34,
   "id": "1853aaf5-fb9f-46cb-a2b5-8ea4ae2237e4",
   "metadata": {
    "execution": {
     "iopub.execute_input": "2025-07-30T20:14:12.227029Z",
     "iopub.status.busy": "2025-07-30T20:14:12.226392Z",
     "iopub.status.idle": "2025-07-30T20:14:12.232140Z",
     "shell.execute_reply": "2025-07-30T20:14:12.231198Z"
    },
    "papermill": {
     "duration": 0.029705,
     "end_time": "2025-07-30T20:14:12.233760",
     "exception": false,
     "start_time": "2025-07-30T20:14:12.204055",
     "status": "completed"
    },
    "tags": []
   },
   "outputs": [],
   "source": [
    "if len(excluded_features_columns) > 0:\n",
    "    print(f\"Dropping features: {excluded_features_columns}\")\n",
    "    X_calib.drop(excluded_features_columns, axis=1, inplace=True)"
   ]
  },
  {
   "cell_type": "code",
   "execution_count": 35,
   "id": "6727d079-03e5-481e-9d38-292a90b7a0a8",
   "metadata": {
    "execution": {
     "iopub.execute_input": "2025-07-30T20:14:12.283634Z",
     "iopub.status.busy": "2025-07-30T20:14:12.282928Z",
     "iopub.status.idle": "2025-07-30T20:14:12.288040Z",
     "shell.execute_reply": "2025-07-30T20:14:12.287155Z"
    },
    "papermill": {
     "duration": 0.03278,
     "end_time": "2025-07-30T20:14:12.289576",
     "exception": false,
     "start_time": "2025-07-30T20:14:12.256796",
     "status": "completed"
    },
    "tags": []
   },
   "outputs": [],
   "source": [
    "# SPLIT & STRATIFY DATA\n",
    "# ----------------------"
   ]
  },
  {
   "cell_type": "code",
   "execution_count": 36,
   "id": "76c4dc6d",
   "metadata": {
    "execution": {
     "iopub.execute_input": "2025-07-30T20:14:12.333211Z",
     "iopub.status.busy": "2025-07-30T20:14:12.332568Z",
     "iopub.status.idle": "2025-07-30T20:14:12.338356Z",
     "shell.execute_reply": "2025-07-30T20:14:12.337315Z"
    },
    "papermill": {
     "duration": 0.029052,
     "end_time": "2025-07-30T20:14:12.339939",
     "exception": false,
     "start_time": "2025-07-30T20:14:12.310887",
     "status": "completed"
    },
    "tags": []
   },
   "outputs": [],
   "source": [
    "# EXCLUDE CERTAIN SUBGROUPS\n",
    "# ----------------------\n",
    "\n",
    "mode = universe.get(\"exclude_subgroups\", \"keep-all\") \n",
    "# Fetches the exclude_subgroups setting from the universe dict.\n",
    "# Defaults to \"keep-all\" if the key is missing."
   ]
  },
  {
   "cell_type": "code",
   "execution_count": 37,
   "id": "21994072",
   "metadata": {
    "execution": {
     "iopub.execute_input": "2025-07-30T20:14:12.385472Z",
     "iopub.status.busy": "2025-07-30T20:14:12.384824Z",
     "iopub.status.idle": "2025-07-30T20:14:12.391546Z",
     "shell.execute_reply": "2025-07-30T20:14:12.390721Z"
    },
    "papermill": {
     "duration": 0.03139,
     "end_time": "2025-07-30T20:14:12.393137",
     "exception": false,
     "start_time": "2025-07-30T20:14:12.361747",
     "status": "completed"
    },
    "tags": []
   },
   "outputs": [],
   "source": [
    "if mode == \"keep-all\":\n",
    "    keep_mask = pd.Series(True, index=org_train.index)\n",
    "\n",
    "# org_train contains the original feature columns from features_org (in Simson)\n",
    "# features_org contains unprocessed features, for me X_train at beginning ???\n",
    "# For keep-all, creates a boolean Series (keep_mask) of all True, so no rows are removed.\n",
    "\n",
    "elif mode == \"drop-non-german\":\n",
    "    keep_mask = org_train[\"maxdeutsch1\"] == 1 # ??? what about missing values?\n",
    "\n",
    "else:\n",
    "    raise ValueError(f\"Unsupported mode for exclude_subgroups: {mode}\")\n"
   ]
  },
  {
   "cell_type": "code",
   "execution_count": 38,
   "id": "71651440",
   "metadata": {
    "execution": {
     "iopub.execute_input": "2025-07-30T20:14:12.437246Z",
     "iopub.status.busy": "2025-07-30T20:14:12.436610Z",
     "iopub.status.idle": "2025-07-30T20:14:12.444158Z",
     "shell.execute_reply": "2025-07-30T20:14:12.443244Z"
    },
    "papermill": {
     "duration": 0.03134,
     "end_time": "2025-07-30T20:14:12.445741",
     "exception": false,
     "start_time": "2025-07-30T20:14:12.414401",
     "status": "completed"
    },
    "tags": []
   },
   "outputs": [
    {
     "name": "stdout",
     "output_type": "stream",
     "text": [
      "Dropping 3481 rows (13.92%) where mode='drop-non-german'\n"
     ]
    }
   ],
   "source": [
    "n_drop = (~keep_mask).sum() # Calculates how many rows are set to be dropped\n",
    "if n_drop > 0:\n",
    "    pct = n_drop / len(keep_mask) * 100\n",
    "    print(f\"Dropping {n_drop} rows ({pct:.2f}%) where mode='{mode}'\")"
   ]
  },
  {
   "cell_type": "code",
   "execution_count": 39,
   "id": "5fb8eee5",
   "metadata": {
    "execution": {
     "iopub.execute_input": "2025-07-30T20:14:12.491390Z",
     "iopub.status.busy": "2025-07-30T20:14:12.490750Z",
     "iopub.status.idle": "2025-07-30T20:14:12.504519Z",
     "shell.execute_reply": "2025-07-30T20:14:12.503571Z"
    },
    "papermill": {
     "duration": 0.038248,
     "end_time": "2025-07-30T20:14:12.506185",
     "exception": false,
     "start_time": "2025-07-30T20:14:12.467937",
     "status": "completed"
    },
    "tags": []
   },
   "outputs": [],
   "source": [
    "X_train = X_train[keep_mask]"
   ]
  },
  {
   "cell_type": "code",
   "execution_count": 40,
   "id": "b202bb3a",
   "metadata": {
    "execution": {
     "iopub.execute_input": "2025-07-30T20:14:12.550306Z",
     "iopub.status.busy": "2025-07-30T20:14:12.549632Z",
     "iopub.status.idle": "2025-07-30T20:14:12.556345Z",
     "shell.execute_reply": "2025-07-30T20:14:12.555363Z"
    },
    "papermill": {
     "duration": 0.030399,
     "end_time": "2025-07-30T20:14:12.558103",
     "exception": false,
     "start_time": "2025-07-30T20:14:12.527704",
     "status": "completed"
    },
    "tags": []
   },
   "outputs": [],
   "source": [
    "y_train = y_train[keep_mask]"
   ]
  },
  {
   "cell_type": "markdown",
   "id": "493e2ac3",
   "metadata": {
    "papermill": {
     "duration": 0.021188,
     "end_time": "2025-07-30T20:14:12.602114",
     "exception": false,
     "start_time": "2025-07-30T20:14:12.580926",
     "status": "completed"
    },
    "tags": []
   },
   "source": [
    "# Model Training"
   ]
  },
  {
   "cell_type": "code",
   "execution_count": 41,
   "id": "679e1268",
   "metadata": {
    "execution": {
     "iopub.execute_input": "2025-07-30T20:14:12.650685Z",
     "iopub.status.busy": "2025-07-30T20:14:12.650044Z",
     "iopub.status.idle": "2025-07-30T20:14:12.748978Z",
     "shell.execute_reply": "2025-07-30T20:14:12.748092Z"
    },
    "papermill": {
     "duration": 0.124097,
     "end_time": "2025-07-30T20:14:12.750738",
     "exception": false,
     "start_time": "2025-07-30T20:14:12.626641",
     "status": "completed"
    },
    "tags": []
   },
   "outputs": [],
   "source": [
    "from sklearn.linear_model import LogisticRegression\n",
    "from sklearn.ensemble import GradientBoostingClassifier, RandomForestClassifier\n",
    "\n",
    "if (universe[\"model\"] == \"logreg\"):\n",
    "    model = LogisticRegression() #penalty=\"none\") #, solver=\"newton-cg\", max_iter=1) # include random_state=19 ?\n",
    "elif (universe[\"model\"] == \"penalized_logreg\"):\n",
    "    model = LogisticRegression(penalty=\"l2\", C=1.0) #, solver=\"newton-cg\", max_iter=1)\n",
    "elif (universe[\"model\"] == \"rf\"):\n",
    "    model = RandomForestClassifier(n_estimators=100, n_jobs=-1)\n",
    "elif (universe[\"model\"] == \"gbm\"):\n",
    "    model = GradientBoostingClassifier()\n",
    "elif (universe[\"model\"] == \"elasticnet\"):\n",
    "    model = LogisticRegression(penalty = 'elasticnet', solver = 'saga', l1_ratio = 0.5, max_iter=5000) # which solver to use?\n",
    "else:\n",
    "    raise \"Unsupported universe.model\""
   ]
  },
  {
   "cell_type": "code",
   "execution_count": 42,
   "id": "0cc8f744",
   "metadata": {
    "execution": {
     "iopub.execute_input": "2025-07-30T20:14:12.797841Z",
     "iopub.status.busy": "2025-07-30T20:14:12.797194Z",
     "iopub.status.idle": "2025-07-30T20:14:12.803478Z",
     "shell.execute_reply": "2025-07-30T20:14:12.802452Z"
    },
    "papermill": {
     "duration": 0.032485,
     "end_time": "2025-07-30T20:14:12.805114",
     "exception": false,
     "start_time": "2025-07-30T20:14:12.772629",
     "status": "completed"
    },
    "tags": []
   },
   "outputs": [],
   "source": [
    "import numpy as np\n",
    "from sklearn.pipeline import Pipeline\n",
    "from sklearn.preprocessing import StandardScaler\n",
    "\n",
    "model = Pipeline([\n",
    "    #(\"continuous_processor\", continuous_processor),\n",
    "    #(\"categorical_preprocessor\", categorical_preprocessor),\n",
    "    (\"scale\", StandardScaler() if universe[\"scale\"] == \"scale\" else None), \n",
    "    (\"model\", model),\n",
    "])"
   ]
  },
  {
   "cell_type": "code",
   "execution_count": 43,
   "id": "9442c04d",
   "metadata": {
    "execution": {
     "iopub.execute_input": "2025-07-30T20:14:12.851139Z",
     "iopub.status.busy": "2025-07-30T20:14:12.850493Z",
     "iopub.status.idle": "2025-07-30T20:14:33.427229Z",
     "shell.execute_reply": "2025-07-30T20:14:33.426374Z"
    },
    "papermill": {
     "duration": 20.601398,
     "end_time": "2025-07-30T20:14:33.428932",
     "exception": false,
     "start_time": "2025-07-30T20:14:12.827534",
     "status": "completed"
    },
    "tags": []
   },
   "outputs": [
    {
     "data": {
      "text/html": [
       "<style>#sk-container-id-1 {color: black;background-color: white;}#sk-container-id-1 pre{padding: 0;}#sk-container-id-1 div.sk-toggleable {background-color: white;}#sk-container-id-1 label.sk-toggleable__label {cursor: pointer;display: block;width: 100%;margin-bottom: 0;padding: 0.3em;box-sizing: border-box;text-align: center;}#sk-container-id-1 label.sk-toggleable__label-arrow:before {content: \"▸\";float: left;margin-right: 0.25em;color: #696969;}#sk-container-id-1 label.sk-toggleable__label-arrow:hover:before {color: black;}#sk-container-id-1 div.sk-estimator:hover label.sk-toggleable__label-arrow:before {color: black;}#sk-container-id-1 div.sk-toggleable__content {max-height: 0;max-width: 0;overflow: hidden;text-align: left;background-color: #f0f8ff;}#sk-container-id-1 div.sk-toggleable__content pre {margin: 0.2em;color: black;border-radius: 0.25em;background-color: #f0f8ff;}#sk-container-id-1 input.sk-toggleable__control:checked~div.sk-toggleable__content {max-height: 200px;max-width: 100%;overflow: auto;}#sk-container-id-1 input.sk-toggleable__control:checked~label.sk-toggleable__label-arrow:before {content: \"▾\";}#sk-container-id-1 div.sk-estimator input.sk-toggleable__control:checked~label.sk-toggleable__label {background-color: #d4ebff;}#sk-container-id-1 div.sk-label input.sk-toggleable__control:checked~label.sk-toggleable__label {background-color: #d4ebff;}#sk-container-id-1 input.sk-hidden--visually {border: 0;clip: rect(1px 1px 1px 1px);clip: rect(1px, 1px, 1px, 1px);height: 1px;margin: -1px;overflow: hidden;padding: 0;position: absolute;width: 1px;}#sk-container-id-1 div.sk-estimator {font-family: monospace;background-color: #f0f8ff;border: 1px dotted black;border-radius: 0.25em;box-sizing: border-box;margin-bottom: 0.5em;}#sk-container-id-1 div.sk-estimator:hover {background-color: #d4ebff;}#sk-container-id-1 div.sk-parallel-item::after {content: \"\";width: 100%;border-bottom: 1px solid gray;flex-grow: 1;}#sk-container-id-1 div.sk-label:hover label.sk-toggleable__label {background-color: #d4ebff;}#sk-container-id-1 div.sk-serial::before {content: \"\";position: absolute;border-left: 1px solid gray;box-sizing: border-box;top: 0;bottom: 0;left: 50%;z-index: 0;}#sk-container-id-1 div.sk-serial {display: flex;flex-direction: column;align-items: center;background-color: white;padding-right: 0.2em;padding-left: 0.2em;position: relative;}#sk-container-id-1 div.sk-item {position: relative;z-index: 1;}#sk-container-id-1 div.sk-parallel {display: flex;align-items: stretch;justify-content: center;background-color: white;position: relative;}#sk-container-id-1 div.sk-item::before, #sk-container-id-1 div.sk-parallel-item::before {content: \"\";position: absolute;border-left: 1px solid gray;box-sizing: border-box;top: 0;bottom: 0;left: 50%;z-index: -1;}#sk-container-id-1 div.sk-parallel-item {display: flex;flex-direction: column;z-index: 1;position: relative;background-color: white;}#sk-container-id-1 div.sk-parallel-item:first-child::after {align-self: flex-end;width: 50%;}#sk-container-id-1 div.sk-parallel-item:last-child::after {align-self: flex-start;width: 50%;}#sk-container-id-1 div.sk-parallel-item:only-child::after {width: 0;}#sk-container-id-1 div.sk-dashed-wrapped {border: 1px dashed gray;margin: 0 0.4em 0.5em 0.4em;box-sizing: border-box;padding-bottom: 0.4em;background-color: white;}#sk-container-id-1 div.sk-label label {font-family: monospace;font-weight: bold;display: inline-block;line-height: 1.2em;}#sk-container-id-1 div.sk-label-container {text-align: center;}#sk-container-id-1 div.sk-container {/* jupyter's `normalize.less` sets `[hidden] { display: none; }` but bootstrap.min.css set `[hidden] { display: none !important; }` so we also need the `!important` here to be able to override the default hidden behavior on the sphinx rendered scikit-learn.org. See: https://github.com/scikit-learn/scikit-learn/issues/21755 */display: inline-block !important;position: relative;}#sk-container-id-1 div.sk-text-repr-fallback {display: none;}</style><div id=\"sk-container-id-1\" class=\"sk-top-container\"><div class=\"sk-text-repr-fallback\"><pre>Pipeline(steps=[(&#x27;scale&#x27;, StandardScaler()),\n",
       "                (&#x27;model&#x27;,\n",
       "                 LogisticRegression(l1_ratio=0.5, max_iter=5000,\n",
       "                                    penalty=&#x27;elasticnet&#x27;, solver=&#x27;saga&#x27;))])</pre><b>In a Jupyter environment, please rerun this cell to show the HTML representation or trust the notebook. <br />On GitHub, the HTML representation is unable to render, please try loading this page with nbviewer.org.</b></div><div class=\"sk-container\" hidden><div class=\"sk-item sk-dashed-wrapped\"><div class=\"sk-label-container\"><div class=\"sk-label sk-toggleable\"><input class=\"sk-toggleable__control sk-hidden--visually\" id=\"sk-estimator-id-1\" type=\"checkbox\" ><label for=\"sk-estimator-id-1\" class=\"sk-toggleable__label sk-toggleable__label-arrow\">Pipeline</label><div class=\"sk-toggleable__content\"><pre>Pipeline(steps=[(&#x27;scale&#x27;, StandardScaler()),\n",
       "                (&#x27;model&#x27;,\n",
       "                 LogisticRegression(l1_ratio=0.5, max_iter=5000,\n",
       "                                    penalty=&#x27;elasticnet&#x27;, solver=&#x27;saga&#x27;))])</pre></div></div></div><div class=\"sk-serial\"><div class=\"sk-item\"><div class=\"sk-estimator sk-toggleable\"><input class=\"sk-toggleable__control sk-hidden--visually\" id=\"sk-estimator-id-2\" type=\"checkbox\" ><label for=\"sk-estimator-id-2\" class=\"sk-toggleable__label sk-toggleable__label-arrow\">StandardScaler</label><div class=\"sk-toggleable__content\"><pre>StandardScaler()</pre></div></div></div><div class=\"sk-item\"><div class=\"sk-estimator sk-toggleable\"><input class=\"sk-toggleable__control sk-hidden--visually\" id=\"sk-estimator-id-3\" type=\"checkbox\" ><label for=\"sk-estimator-id-3\" class=\"sk-toggleable__label sk-toggleable__label-arrow\">LogisticRegression</label><div class=\"sk-toggleable__content\"><pre>LogisticRegression(l1_ratio=0.5, max_iter=5000, penalty=&#x27;elasticnet&#x27;,\n",
       "                   solver=&#x27;saga&#x27;)</pre></div></div></div></div></div></div></div>"
      ],
      "text/plain": [
       "Pipeline(steps=[('scale', StandardScaler()),\n",
       "                ('model',\n",
       "                 LogisticRegression(l1_ratio=0.5, max_iter=5000,\n",
       "                                    penalty='elasticnet', solver='saga'))])"
      ]
     },
     "execution_count": 43,
     "metadata": {},
     "output_type": "execute_result"
    }
   ],
   "source": [
    "model.fit(X_train, y_train.values.ravel())"
   ]
  },
  {
   "cell_type": "code",
   "execution_count": 44,
   "id": "af59f8c0",
   "metadata": {
    "execution": {
     "iopub.execute_input": "2025-07-30T20:14:33.475463Z",
     "iopub.status.busy": "2025-07-30T20:14:33.474816Z",
     "iopub.status.idle": "2025-07-30T20:14:33.480301Z",
     "shell.execute_reply": "2025-07-30T20:14:33.479287Z"
    },
    "papermill": {
     "duration": 0.02922,
     "end_time": "2025-07-30T20:14:33.481896",
     "exception": false,
     "start_time": "2025-07-30T20:14:33.452676",
     "status": "completed"
    },
    "tags": []
   },
   "outputs": [],
   "source": [
    "from fairness_multiverse.universe import predict_w_threshold"
   ]
  },
  {
   "cell_type": "code",
   "execution_count": 45,
   "id": "a7cf2e16",
   "metadata": {
    "execution": {
     "iopub.execute_input": "2025-07-30T20:14:33.526509Z",
     "iopub.status.busy": "2025-07-30T20:14:33.525662Z",
     "iopub.status.idle": "2025-07-30T20:14:33.729490Z",
     "shell.execute_reply": "2025-07-30T20:14:33.728439Z"
    },
    "papermill": {
     "duration": 0.227226,
     "end_time": "2025-07-30T20:14:33.731080",
     "exception": false,
     "start_time": "2025-07-30T20:14:33.503854",
     "status": "completed"
    },
    "tags": []
   },
   "outputs": [
    {
     "data": {
      "text/plain": [
       "0.8616876602385465"
      ]
     },
     "execution_count": 45,
     "metadata": {},
     "output_type": "execute_result"
    }
   ],
   "source": [
    "probs_test = model.predict_proba(X_test)\n",
    "\n",
    "'''\n",
    "Below code returns a boolean array (or binary 0/1 array depending on how it’s used) where each element \n",
    "is True if the probability of class 1 is greater than or equal to the threshold, and False otherwise.\n",
    "'''\n",
    "y_pred_default = predict_w_threshold(probs_test, 0.5)\n",
    "\n",
    "from sklearn.metrics import accuracy_score\n",
    "\n",
    "# Naive prediction\n",
    "accuracy_score(y_true = y_true, y_pred = y_pred_default)"
   ]
  },
  {
   "cell_type": "code",
   "execution_count": 46,
   "id": "081964c3",
   "metadata": {
    "execution": {
     "iopub.execute_input": "2025-07-30T20:14:33.776537Z",
     "iopub.status.busy": "2025-07-30T20:14:33.775807Z",
     "iopub.status.idle": "2025-07-30T20:14:33.957232Z",
     "shell.execute_reply": "2025-07-30T20:14:33.956287Z"
    },
    "papermill": {
     "duration": 0.205459,
     "end_time": "2025-07-30T20:14:33.958830",
     "exception": false,
     "start_time": "2025-07-30T20:14:33.753371",
     "status": "completed"
    },
    "tags": []
   },
   "outputs": [
    {
     "data": {
      "text/plain": [
       "array([0, 0, 0, ..., 0, 0, 0])"
      ]
     },
     "execution_count": 46,
     "metadata": {},
     "output_type": "execute_result"
    }
   ],
   "source": [
    "model.predict(X_test)"
   ]
  },
  {
   "cell_type": "markdown",
   "id": "56c9705b",
   "metadata": {
    "papermill": {
     "duration": 0.021139,
     "end_time": "2025-07-30T20:14:34.001894",
     "exception": false,
     "start_time": "2025-07-30T20:14:33.980755",
     "status": "completed"
    },
    "tags": []
   },
   "source": [
    "# Conformal Prediction"
   ]
  },
  {
   "cell_type": "code",
   "execution_count": 47,
   "id": "160ec6ff",
   "metadata": {
    "execution": {
     "iopub.execute_input": "2025-07-30T20:14:34.046824Z",
     "iopub.status.busy": "2025-07-30T20:14:34.045998Z",
     "iopub.status.idle": "2025-07-30T20:14:34.051441Z",
     "shell.execute_reply": "2025-07-30T20:14:34.050603Z"
    },
    "papermill": {
     "duration": 0.029729,
     "end_time": "2025-07-30T20:14:34.053054",
     "exception": false,
     "start_time": "2025-07-30T20:14:34.023325",
     "status": "completed"
    },
    "tags": []
   },
   "outputs": [],
   "source": [
    "# Miscoverage level for conformal prediction (10% allowed error rate => 90% target coverage)\n",
    "alpha = 0.1"
   ]
  },
  {
   "cell_type": "code",
   "execution_count": 48,
   "id": "eadf4555-3dd3-440e-8e35-f82a4ad9f855",
   "metadata": {
    "execution": {
     "iopub.execute_input": "2025-07-30T20:14:34.098431Z",
     "iopub.status.busy": "2025-07-30T20:14:34.097659Z",
     "iopub.status.idle": "2025-07-30T20:14:34.278238Z",
     "shell.execute_reply": "2025-07-30T20:14:34.277322Z"
    },
    "papermill": {
     "duration": 0.205124,
     "end_time": "2025-07-30T20:14:34.280061",
     "exception": false,
     "start_time": "2025-07-30T20:14:34.074937",
     "status": "completed"
    },
    "tags": []
   },
   "outputs": [],
   "source": [
    "probs_calib = model.predict_proba(X_calib)"
   ]
  },
  {
   "cell_type": "code",
   "execution_count": 49,
   "id": "2ed93547-6d5d-4983-9b36-1ecb300da49a",
   "metadata": {
    "execution": {
     "iopub.execute_input": "2025-07-30T20:14:34.325341Z",
     "iopub.status.busy": "2025-07-30T20:14:34.324722Z",
     "iopub.status.idle": "2025-07-30T20:14:34.330132Z",
     "shell.execute_reply": "2025-07-30T20:14:34.329299Z"
    },
    "papermill": {
     "duration": 0.029626,
     "end_time": "2025-07-30T20:14:34.331621",
     "exception": false,
     "start_time": "2025-07-30T20:14:34.301995",
     "status": "completed"
    },
    "tags": []
   },
   "outputs": [],
   "source": [
    "y_calib = y_calib.values.ravel().astype(int)"
   ]
  },
  {
   "cell_type": "code",
   "execution_count": 50,
   "id": "65d1320d-f588-4b38-9072-62af1ae97f7d",
   "metadata": {
    "execution": {
     "iopub.execute_input": "2025-07-30T20:14:34.377369Z",
     "iopub.status.busy": "2025-07-30T20:14:34.376608Z",
     "iopub.status.idle": "2025-07-30T20:14:34.384749Z",
     "shell.execute_reply": "2025-07-30T20:14:34.383708Z"
    },
    "papermill": {
     "duration": 0.03265,
     "end_time": "2025-07-30T20:14:34.386506",
     "exception": false,
     "start_time": "2025-07-30T20:14:34.353856",
     "status": "completed"
    },
    "tags": []
   },
   "outputs": [],
   "source": [
    "from fairness_multiverse.conformal import compute_nc_scores\n",
    "\n",
    "# Compute nonconformity scores on calibration set (1 - probability of true class)\n",
    "nc_scores = compute_nc_scores(probs_calib, y_calib)"
   ]
  },
  {
   "cell_type": "code",
   "execution_count": 51,
   "id": "df3b8ca3-53b7-43d5-9667-7c85da7aeda2",
   "metadata": {
    "execution": {
     "iopub.execute_input": "2025-07-30T20:14:34.432976Z",
     "iopub.status.busy": "2025-07-30T20:14:34.432142Z",
     "iopub.status.idle": "2025-07-30T20:14:34.438615Z",
     "shell.execute_reply": "2025-07-30T20:14:34.437824Z"
    },
    "papermill": {
     "duration": 0.031396,
     "end_time": "2025-07-30T20:14:34.440143",
     "exception": false,
     "start_time": "2025-07-30T20:14:34.408747",
     "status": "completed"
    },
    "tags": []
   },
   "outputs": [],
   "source": [
    "from fairness_multiverse.conformal import find_threshold\n",
    "\n",
    "# Find conformal threshold q_hat for the given alpha (split conformal method)\n",
    "q_hat = find_threshold(nc_scores, alpha)"
   ]
  },
  {
   "cell_type": "code",
   "execution_count": 52,
   "id": "4d29e6c1-0ef6-4aa4-b8fe-4fe79b0d033a",
   "metadata": {
    "execution": {
     "iopub.execute_input": "2025-07-30T20:14:34.486620Z",
     "iopub.status.busy": "2025-07-30T20:14:34.485773Z",
     "iopub.status.idle": "2025-07-30T20:14:34.492986Z",
     "shell.execute_reply": "2025-07-30T20:14:34.491946Z"
    },
    "papermill": {
     "duration": 0.0316,
     "end_time": "2025-07-30T20:14:34.494632",
     "exception": false,
     "start_time": "2025-07-30T20:14:34.463032",
     "status": "completed"
    },
    "tags": []
   },
   "outputs": [
    {
     "data": {
      "text/plain": [
       "0.6622578190904158"
      ]
     },
     "execution_count": 52,
     "metadata": {},
     "output_type": "execute_result"
    }
   ],
   "source": [
    "q_hat"
   ]
  },
  {
   "cell_type": "code",
   "execution_count": 53,
   "id": "92460794-cdac-4be2-ba28-f28c0515a6fb",
   "metadata": {
    "execution": {
     "iopub.execute_input": "2025-07-30T20:14:34.543891Z",
     "iopub.status.busy": "2025-07-30T20:14:34.543240Z",
     "iopub.status.idle": "2025-07-30T20:14:35.418146Z",
     "shell.execute_reply": "2025-07-30T20:14:35.417192Z"
    },
    "papermill": {
     "duration": 0.901095,
     "end_time": "2025-07-30T20:14:35.420058",
     "exception": false,
     "start_time": "2025-07-30T20:14:34.518963",
     "status": "completed"
    },
    "tags": []
   },
   "outputs": [],
   "source": [
    "from fairness_multiverse.conformal import predict_conformal_sets\n",
    "\n",
    "# Generate prediction sets for each test example\n",
    "pred_sets = predict_conformal_sets(model, X_test, q_hat)"
   ]
  },
  {
   "cell_type": "code",
   "execution_count": 54,
   "id": "d90c9a65-e6db-4f5d-80cd-e68fb7e46829",
   "metadata": {
    "execution": {
     "iopub.execute_input": "2025-07-30T20:14:35.469851Z",
     "iopub.status.busy": "2025-07-30T20:14:35.469214Z",
     "iopub.status.idle": "2025-07-30T20:14:35.474677Z",
     "shell.execute_reply": "2025-07-30T20:14:35.473659Z"
    },
    "papermill": {
     "duration": 0.032073,
     "end_time": "2025-07-30T20:14:35.476420",
     "exception": false,
     "start_time": "2025-07-30T20:14:35.444347",
     "status": "completed"
    },
    "tags": []
   },
   "outputs": [],
   "source": [
    "y_true = y_true.squeeze()"
   ]
  },
  {
   "cell_type": "code",
   "execution_count": 55,
   "id": "3a58a54a-1e68-46b9-927a-df01f18aebc8",
   "metadata": {
    "execution": {
     "iopub.execute_input": "2025-07-30T20:14:35.526134Z",
     "iopub.status.busy": "2025-07-30T20:14:35.525449Z",
     "iopub.status.idle": "2025-07-30T20:14:36.369662Z",
     "shell.execute_reply": "2025-07-30T20:14:36.368744Z"
    },
    "papermill": {
     "duration": 0.871363,
     "end_time": "2025-07-30T20:14:36.371548",
     "exception": false,
     "start_time": "2025-07-30T20:14:35.500185",
     "status": "completed"
    },
    "tags": []
   },
   "outputs": [],
   "source": [
    "from fairness_multiverse.conformal import evaluate_sets\n",
    "\n",
    "# Evaluate coverage and average set size on test data\n",
    "metrics = evaluate_sets(pred_sets, y_true)"
   ]
  },
  {
   "cell_type": "markdown",
   "id": "2b569c12-9aaa-4c88-98c9-bbcd0cf3ebb8",
   "metadata": {
    "papermill": {
     "duration": 0.023983,
     "end_time": "2025-07-30T20:14:36.421279",
     "exception": false,
     "start_time": "2025-07-30T20:14:36.397296",
     "status": "completed"
    },
    "tags": []
   },
   "source": [
    "# CP Metrics"
   ]
  },
  {
   "cell_type": "code",
   "execution_count": 56,
   "id": "5ce0a5cb-201f-45a0-ade5-94c7f0bd6095",
   "metadata": {
    "execution": {
     "iopub.execute_input": "2025-07-30T20:14:36.469752Z",
     "iopub.status.busy": "2025-07-30T20:14:36.469101Z",
     "iopub.status.idle": "2025-07-30T20:14:36.477156Z",
     "shell.execute_reply": "2025-07-30T20:14:36.476118Z"
    },
    "papermill": {
     "duration": 0.034326,
     "end_time": "2025-07-30T20:14:36.478936",
     "exception": false,
     "start_time": "2025-07-30T20:14:36.444610",
     "status": "completed"
    },
    "tags": []
   },
   "outputs": [
    {
     "data": {
      "text/plain": [
       "{'coverage': 0.9112807936684874, 'avg_size': 1.124902463493479}"
      ]
     },
     "execution_count": 56,
     "metadata": {},
     "output_type": "execute_result"
    }
   ],
   "source": [
    "metrics"
   ]
  },
  {
   "cell_type": "code",
   "execution_count": 57,
   "id": "9b9a838d-31c9-430b-ae14-12baee460d17",
   "metadata": {
    "execution": {
     "iopub.execute_input": "2025-07-30T20:14:36.530376Z",
     "iopub.status.busy": "2025-07-30T20:14:36.529514Z",
     "iopub.status.idle": "2025-07-30T20:14:36.535869Z",
     "shell.execute_reply": "2025-07-30T20:14:36.535027Z"
    },
    "papermill": {
     "duration": 0.031275,
     "end_time": "2025-07-30T20:14:36.537547",
     "exception": false,
     "start_time": "2025-07-30T20:14:36.506272",
     "status": "completed"
    },
    "tags": []
   },
   "outputs": [],
   "source": [
    "example_universe = universe.copy()\n",
    "universe_training_year = example_universe.get(\"training_year\")\n",
    "universe_training_size = example_universe.get(\"training_size\")\n",
    "universe_scale = example_universe.get(\"scale\")\n",
    "universe_model = example_universe.get(\"model\")\n",
    "universe_exclude_features = example_universe.get(\"exclude_features\")\n",
    "universe_exclude_subgroups = example_universe.get(\"exclude_subgroups\")"
   ]
  },
  {
   "cell_type": "code",
   "execution_count": 58,
   "id": "f4b6a8ac-9dc0-4245-8a91-5b3b5999c4f9",
   "metadata": {
    "execution": {
     "iopub.execute_input": "2025-07-30T20:14:36.584417Z",
     "iopub.status.busy": "2025-07-30T20:14:36.583735Z",
     "iopub.status.idle": "2025-07-30T20:14:36.590516Z",
     "shell.execute_reply": "2025-07-30T20:14:36.589521Z"
    },
    "papermill": {
     "duration": 0.031513,
     "end_time": "2025-07-30T20:14:36.592072",
     "exception": false,
     "start_time": "2025-07-30T20:14:36.560559",
     "status": "completed"
    },
    "tags": []
   },
   "outputs": [],
   "source": [
    "cp_metrics_dict = {\n",
    "    \"universe_id\": [universe_id],\n",
    "    \"universe_training_year\": [universe_training_year],\n",
    "    \"universe_training_size\": [universe_training_size],\n",
    "    \"universe_scale\": [universe_scale],\n",
    "    \"universe_model\": [universe_model],\n",
    "    \"universe_exclude_features\": [universe_exclude_features],\n",
    "    \"universe_exclude_subgroups\": [universe_exclude_subgroups],\n",
    "    \"q_hat\": [q_hat],\n",
    "    \"coverage\": [metrics[\"coverage\"]],\n",
    "    \"avg_size\": [metrics[\"avg_size\"]],\n",
    "}"
   ]
  },
  {
   "cell_type": "code",
   "execution_count": 59,
   "id": "908acbb1-0371-4915-85ca-3fa520d2efe2",
   "metadata": {
    "execution": {
     "iopub.execute_input": "2025-07-30T20:14:36.639355Z",
     "iopub.status.busy": "2025-07-30T20:14:36.638705Z",
     "iopub.status.idle": "2025-07-30T20:14:36.646248Z",
     "shell.execute_reply": "2025-07-30T20:14:36.645402Z"
    },
    "papermill": {
     "duration": 0.032348,
     "end_time": "2025-07-30T20:14:36.647894",
     "exception": false,
     "start_time": "2025-07-30T20:14:36.615546",
     "status": "completed"
    },
    "tags": []
   },
   "outputs": [
    {
     "data": {
      "text/plain": [
       "{'universe_id': ['c91e5249afd0b969184da7c6ba766422'],\n",
       " 'universe_training_year': ['2012_14'],\n",
       " 'universe_training_size': ['25k'],\n",
       " 'universe_scale': ['scale'],\n",
       " 'universe_model': ['elasticnet'],\n",
       " 'universe_exclude_features': ['none'],\n",
       " 'universe_exclude_subgroups': ['drop-non-german'],\n",
       " 'q_hat': [0.6622578190904158],\n",
       " 'coverage': [0.9112807936684874],\n",
       " 'avg_size': [1.124902463493479]}"
      ]
     },
     "execution_count": 59,
     "metadata": {},
     "output_type": "execute_result"
    }
   ],
   "source": [
    "cp_metrics_dict"
   ]
  },
  {
   "cell_type": "code",
   "execution_count": 60,
   "id": "33007efc-14e9-4ec6-97ac-56a455c82265",
   "metadata": {
    "execution": {
     "iopub.execute_input": "2025-07-30T20:14:36.695360Z",
     "iopub.status.busy": "2025-07-30T20:14:36.694608Z",
     "iopub.status.idle": "2025-07-30T20:14:36.701451Z",
     "shell.execute_reply": "2025-07-30T20:14:36.700454Z"
    },
    "papermill": {
     "duration": 0.031927,
     "end_time": "2025-07-30T20:14:36.702951",
     "exception": false,
     "start_time": "2025-07-30T20:14:36.671024",
     "status": "completed"
    },
    "tags": []
   },
   "outputs": [],
   "source": [
    "cp_metrics_df = pd.DataFrame(cp_metrics_dict)"
   ]
  },
  {
   "cell_type": "code",
   "execution_count": 61,
   "id": "db12611b-57b2-4910-b9d0-355adfd6e7bf",
   "metadata": {
    "execution": {
     "iopub.execute_input": "2025-07-30T20:14:36.751101Z",
     "iopub.status.busy": "2025-07-30T20:14:36.750335Z",
     "iopub.status.idle": "2025-07-30T20:14:36.769387Z",
     "shell.execute_reply": "2025-07-30T20:14:36.768534Z"
    },
    "papermill": {
     "duration": 0.044499,
     "end_time": "2025-07-30T20:14:36.770868",
     "exception": false,
     "start_time": "2025-07-30T20:14:36.726369",
     "status": "completed"
    },
    "tags": []
   },
   "outputs": [
    {
     "data": {
      "text/html": [
       "<div>\n",
       "<style scoped>\n",
       "    .dataframe tbody tr th:only-of-type {\n",
       "        vertical-align: middle;\n",
       "    }\n",
       "\n",
       "    .dataframe tbody tr th {\n",
       "        vertical-align: top;\n",
       "    }\n",
       "\n",
       "    .dataframe thead th {\n",
       "        text-align: right;\n",
       "    }\n",
       "</style>\n",
       "<table border=\"1\" class=\"dataframe\">\n",
       "  <thead>\n",
       "    <tr style=\"text-align: right;\">\n",
       "      <th></th>\n",
       "      <th>universe_id</th>\n",
       "      <th>universe_training_year</th>\n",
       "      <th>universe_training_size</th>\n",
       "      <th>universe_scale</th>\n",
       "      <th>universe_model</th>\n",
       "      <th>universe_exclude_features</th>\n",
       "      <th>universe_exclude_subgroups</th>\n",
       "      <th>q_hat</th>\n",
       "      <th>coverage</th>\n",
       "      <th>avg_size</th>\n",
       "    </tr>\n",
       "  </thead>\n",
       "  <tbody>\n",
       "    <tr>\n",
       "      <th>0</th>\n",
       "      <td>c91e5249afd0b969184da7c6ba766422</td>\n",
       "      <td>2012_14</td>\n",
       "      <td>25k</td>\n",
       "      <td>scale</td>\n",
       "      <td>elasticnet</td>\n",
       "      <td>none</td>\n",
       "      <td>drop-non-german</td>\n",
       "      <td>0.662258</td>\n",
       "      <td>0.911281</td>\n",
       "      <td>1.124902</td>\n",
       "    </tr>\n",
       "  </tbody>\n",
       "</table>\n",
       "</div>"
      ],
      "text/plain": [
       "                        universe_id universe_training_year  \\\n",
       "0  c91e5249afd0b969184da7c6ba766422                2012_14   \n",
       "\n",
       "  universe_training_size universe_scale universe_model  \\\n",
       "0                    25k          scale     elasticnet   \n",
       "\n",
       "  universe_exclude_features universe_exclude_subgroups     q_hat  coverage  \\\n",
       "0                      none            drop-non-german  0.662258  0.911281   \n",
       "\n",
       "   avg_size  \n",
       "0  1.124902  "
      ]
     },
     "execution_count": 61,
     "metadata": {},
     "output_type": "execute_result"
    }
   ],
   "source": [
    "cp_metrics_df"
   ]
  },
  {
   "cell_type": "code",
   "execution_count": 62,
   "id": "b7fbde55-a0a1-47e4-9af6-fe4a17fa8c61",
   "metadata": {
    "execution": {
     "iopub.execute_input": "2025-07-30T20:14:36.818915Z",
     "iopub.status.busy": "2025-07-30T20:14:36.818284Z",
     "iopub.status.idle": "2025-07-30T20:14:36.823438Z",
     "shell.execute_reply": "2025-07-30T20:14:36.822481Z"
    },
    "papermill": {
     "duration": 0.030565,
     "end_time": "2025-07-30T20:14:36.825067",
     "exception": false,
     "start_time": "2025-07-30T20:14:36.794502",
     "status": "completed"
    },
    "tags": []
   },
   "outputs": [],
   "source": [
    "# Conditional Coverage & looking at subgroups"
   ]
  },
  {
   "cell_type": "code",
   "execution_count": 63,
   "id": "027ae886-68dd-4141-96c7-805a5450e1ef",
   "metadata": {
    "execution": {
     "iopub.execute_input": "2025-07-30T20:14:36.873584Z",
     "iopub.status.busy": "2025-07-30T20:14:36.873034Z",
     "iopub.status.idle": "2025-07-30T20:14:37.135463Z",
     "shell.execute_reply": "2025-07-30T20:14:37.134570Z"
    },
    "papermill": {
     "duration": 0.288298,
     "end_time": "2025-07-30T20:14:37.137276",
     "exception": false,
     "start_time": "2025-07-30T20:14:36.848978",
     "status": "completed"
    },
    "tags": []
   },
   "outputs": [],
   "source": [
    "from fairness_multiverse.conformal import build_cp_groups\n",
    "\n",
    "cp_groups_df = build_cp_groups(pred_sets, y_true, X_test.index, org_test)\n",
    "#needs universe_id and setting"
   ]
  },
  {
   "cell_type": "code",
   "execution_count": 64,
   "id": "01d5802c-663a-4d1f-9d69-e036faaffbf7",
   "metadata": {
    "execution": {
     "iopub.execute_input": "2025-07-30T20:14:37.185922Z",
     "iopub.status.busy": "2025-07-30T20:14:37.185302Z",
     "iopub.status.idle": "2025-07-30T20:14:37.190346Z",
     "shell.execute_reply": "2025-07-30T20:14:37.189349Z"
    },
    "papermill": {
     "duration": 0.030565,
     "end_time": "2025-07-30T20:14:37.191845",
     "exception": false,
     "start_time": "2025-07-30T20:14:37.161280",
     "status": "completed"
    },
    "tags": []
   },
   "outputs": [],
   "source": [
    "#delete\n",
    "#cp_groups_df"
   ]
  },
  {
   "cell_type": "code",
   "execution_count": 65,
   "id": "fa424af1-d1eb-443d-b717-2d279ada8408",
   "metadata": {
    "execution": {
     "iopub.execute_input": "2025-07-30T20:14:37.240418Z",
     "iopub.status.busy": "2025-07-30T20:14:37.239952Z",
     "iopub.status.idle": "2025-07-30T20:14:37.244707Z",
     "shell.execute_reply": "2025-07-30T20:14:37.243806Z"
    },
    "papermill": {
     "duration": 0.0305,
     "end_time": "2025-07-30T20:14:37.246304",
     "exception": false,
     "start_time": "2025-07-30T20:14:37.215804",
     "status": "completed"
    },
    "tags": []
   },
   "outputs": [],
   "source": [
    "#delete\n",
    "#percentage = (cp_groups_df['nongerman_female'] == 1).mean() * 100\n",
    "#print(percentage)\n"
   ]
  },
  {
   "cell_type": "code",
   "execution_count": 66,
   "id": "6cbdab96-b2b2-45af-ad54-d0516db2e28d",
   "metadata": {
    "execution": {
     "iopub.execute_input": "2025-07-30T20:14:37.295126Z",
     "iopub.status.busy": "2025-07-30T20:14:37.294496Z",
     "iopub.status.idle": "2025-07-30T20:14:38.476524Z",
     "shell.execute_reply": "2025-07-30T20:14:38.475669Z"
    },
    "papermill": {
     "duration": 1.207658,
     "end_time": "2025-07-30T20:14:38.478025",
     "exception": false,
     "start_time": "2025-07-30T20:14:37.270367",
     "status": "completed"
    },
    "tags": []
   },
   "outputs": [],
   "source": [
    "# Define covered = 1 if true_label is in the predicted set\n",
    "cp_groups_df['covered'] = cp_groups_df.apply(\n",
    "    lambda r: int(r['true_label'] in r['pred_set']),\n",
    "    axis=1\n",
    ")"
   ]
  },
  {
   "cell_type": "code",
   "execution_count": 67,
   "id": "338ff529-1a6b-4b87-a931-8e4788d52aad",
   "metadata": {
    "execution": {
     "iopub.execute_input": "2025-07-30T20:14:38.509054Z",
     "iopub.status.busy": "2025-07-30T20:14:38.508540Z",
     "iopub.status.idle": "2025-07-30T20:14:38.513329Z",
     "shell.execute_reply": "2025-07-30T20:14:38.512445Z"
    },
    "papermill": {
     "duration": 0.02103,
     "end_time": "2025-07-30T20:14:38.514857",
     "exception": false,
     "start_time": "2025-07-30T20:14:38.493827",
     "status": "completed"
    },
    "tags": []
   },
   "outputs": [],
   "source": [
    "#cp_groups_df"
   ]
  },
  {
   "cell_type": "code",
   "execution_count": 68,
   "id": "90032e27-66df-4540-9169-4e89cfbaa758",
   "metadata": {
    "execution": {
     "iopub.execute_input": "2025-07-30T20:14:38.544916Z",
     "iopub.status.busy": "2025-07-30T20:14:38.544407Z",
     "iopub.status.idle": "2025-07-30T20:14:38.554462Z",
     "shell.execute_reply": "2025-07-30T20:14:38.553614Z"
    },
    "papermill": {
     "duration": 0.02641,
     "end_time": "2025-07-30T20:14:38.556165",
     "exception": false,
     "start_time": "2025-07-30T20:14:38.529755",
     "status": "completed"
    },
    "tags": []
   },
   "outputs": [],
   "source": [
    "subgroups = ['frau1','nongerman','nongerman_male','nongerman_female']\n",
    "\n",
    "# Conditional coverage for subgroup==1\n",
    "cond_coverage = {\n",
    "    g: cp_groups_df.loc[cp_groups_df[g]==1, 'covered'].mean()\n",
    "    for g in subgroups\n",
    "}"
   ]
  },
  {
   "cell_type": "code",
   "execution_count": 69,
   "id": "1e348fb1-b9c3-45bc-ba23-f016827a7e0d",
   "metadata": {
    "execution": {
     "iopub.execute_input": "2025-07-30T20:14:38.611260Z",
     "iopub.status.busy": "2025-07-30T20:14:38.610794Z",
     "iopub.status.idle": "2025-07-30T20:14:38.618458Z",
     "shell.execute_reply": "2025-07-30T20:14:38.617414Z"
    },
    "papermill": {
     "duration": 0.036859,
     "end_time": "2025-07-30T20:14:38.619768",
     "exception": false,
     "start_time": "2025-07-30T20:14:38.582909",
     "status": "completed"
    },
    "tags": []
   },
   "outputs": [
    {
     "data": {
      "text/plain": [
       "{'frau1': 0.9083973581345195,\n",
       " 'nongerman': 0.9095042946162915,\n",
       " 'nongerman_male': 0.9263262181392417,\n",
       " 'nongerman_female': 0.8816691505216095}"
      ]
     },
     "execution_count": 69,
     "metadata": {},
     "output_type": "execute_result"
    }
   ],
   "source": [
    "cond_coverage"
   ]
  },
  {
   "cell_type": "code",
   "execution_count": 70,
   "id": "f5093324-c3dd-4d63-bc4c-8d945e5c8bbb",
   "metadata": {
    "execution": {
     "iopub.execute_input": "2025-07-30T20:14:38.676171Z",
     "iopub.status.busy": "2025-07-30T20:14:38.675796Z",
     "iopub.status.idle": "2025-07-30T20:14:38.682805Z",
     "shell.execute_reply": "2025-07-30T20:14:38.682057Z"
    },
    "papermill": {
     "duration": 0.035926,
     "end_time": "2025-07-30T20:14:38.684412",
     "exception": false,
     "start_time": "2025-07-30T20:14:38.648486",
     "status": "completed"
    },
    "tags": []
   },
   "outputs": [],
   "source": [
    "for subgroup, cov in cond_coverage.items():\n",
    "    cp_metrics_df[f\"cov_{subgroup}\"] = cov"
   ]
  },
  {
   "cell_type": "code",
   "execution_count": 71,
   "id": "6e872e10-dbe5-49e8-b554-5030c98ff75d",
   "metadata": {
    "execution": {
     "iopub.execute_input": "2025-07-30T20:14:38.740955Z",
     "iopub.status.busy": "2025-07-30T20:14:38.740569Z",
     "iopub.status.idle": "2025-07-30T20:14:38.760676Z",
     "shell.execute_reply": "2025-07-30T20:14:38.759712Z"
    },
    "papermill": {
     "duration": 0.049345,
     "end_time": "2025-07-30T20:14:38.762627",
     "exception": false,
     "start_time": "2025-07-30T20:14:38.713282",
     "status": "completed"
    },
    "tags": []
   },
   "outputs": [
    {
     "data": {
      "text/html": [
       "<div>\n",
       "<style scoped>\n",
       "    .dataframe tbody tr th:only-of-type {\n",
       "        vertical-align: middle;\n",
       "    }\n",
       "\n",
       "    .dataframe tbody tr th {\n",
       "        vertical-align: top;\n",
       "    }\n",
       "\n",
       "    .dataframe thead th {\n",
       "        text-align: right;\n",
       "    }\n",
       "</style>\n",
       "<table border=\"1\" class=\"dataframe\">\n",
       "  <thead>\n",
       "    <tr style=\"text-align: right;\">\n",
       "      <th></th>\n",
       "      <th>universe_id</th>\n",
       "      <th>universe_training_year</th>\n",
       "      <th>universe_training_size</th>\n",
       "      <th>universe_scale</th>\n",
       "      <th>universe_model</th>\n",
       "      <th>universe_exclude_features</th>\n",
       "      <th>universe_exclude_subgroups</th>\n",
       "      <th>q_hat</th>\n",
       "      <th>coverage</th>\n",
       "      <th>avg_size</th>\n",
       "      <th>cov_frau1</th>\n",
       "      <th>cov_nongerman</th>\n",
       "      <th>cov_nongerman_male</th>\n",
       "      <th>cov_nongerman_female</th>\n",
       "    </tr>\n",
       "  </thead>\n",
       "  <tbody>\n",
       "    <tr>\n",
       "      <th>0</th>\n",
       "      <td>c91e5249afd0b969184da7c6ba766422</td>\n",
       "      <td>2012_14</td>\n",
       "      <td>25k</td>\n",
       "      <td>scale</td>\n",
       "      <td>elasticnet</td>\n",
       "      <td>none</td>\n",
       "      <td>drop-non-german</td>\n",
       "      <td>0.662258</td>\n",
       "      <td>0.911281</td>\n",
       "      <td>1.124902</td>\n",
       "      <td>0.908397</td>\n",
       "      <td>0.909504</td>\n",
       "      <td>0.926326</td>\n",
       "      <td>0.881669</td>\n",
       "    </tr>\n",
       "  </tbody>\n",
       "</table>\n",
       "</div>"
      ],
      "text/plain": [
       "                        universe_id universe_training_year  \\\n",
       "0  c91e5249afd0b969184da7c6ba766422                2012_14   \n",
       "\n",
       "  universe_training_size universe_scale universe_model  \\\n",
       "0                    25k          scale     elasticnet   \n",
       "\n",
       "  universe_exclude_features universe_exclude_subgroups     q_hat  coverage  \\\n",
       "0                      none            drop-non-german  0.662258  0.911281   \n",
       "\n",
       "   avg_size  cov_frau1  cov_nongerman  cov_nongerman_male  \\\n",
       "0  1.124902   0.908397       0.909504            0.926326   \n",
       "\n",
       "   cov_nongerman_female  \n",
       "0              0.881669  "
      ]
     },
     "execution_count": 71,
     "metadata": {},
     "output_type": "execute_result"
    }
   ],
   "source": [
    "cp_metrics_df"
   ]
  },
  {
   "cell_type": "markdown",
   "id": "33774451",
   "metadata": {
    "papermill": {
     "duration": 0.025435,
     "end_time": "2025-07-30T20:14:38.813662",
     "exception": false,
     "start_time": "2025-07-30T20:14:38.788227",
     "status": "completed"
    },
    "tags": []
   },
   "source": [
    "# (Fairness) Metrics"
   ]
  },
  {
   "cell_type": "code",
   "execution_count": 72,
   "id": "debc5d62",
   "metadata": {
    "execution": {
     "iopub.execute_input": "2025-07-30T20:14:38.866176Z",
     "iopub.status.busy": "2025-07-30T20:14:38.865649Z",
     "iopub.status.idle": "2025-07-30T20:14:38.891140Z",
     "shell.execute_reply": "2025-07-30T20:14:38.890203Z"
    },
    "papermill": {
     "duration": 0.053224,
     "end_time": "2025-07-30T20:14:38.892958",
     "exception": false,
     "start_time": "2025-07-30T20:14:38.839734",
     "status": "completed"
    },
    "tags": []
   },
   "outputs": [],
   "source": [
    "# do I need to include maxdeutsch1.missing?\n",
    "\n",
    "import numpy as np\n",
    "\n",
    "colname_to_bin = \"maxdeutsch1\"\n",
    "majority_value = org_train[colname_to_bin].mode()[0]\n",
    "\n",
    "org_test[\"majmin\"] = np.where(org_test[colname_to_bin] == majority_value, \"majority\", \"minority\")"
   ]
  },
  {
   "cell_type": "code",
   "execution_count": 73,
   "id": "06a50de5",
   "metadata": {
    "execution": {
     "iopub.execute_input": "2025-07-30T20:14:38.958544Z",
     "iopub.status.busy": "2025-07-30T20:14:38.958056Z",
     "iopub.status.idle": "2025-07-30T20:14:41.276465Z",
     "shell.execute_reply": "2025-07-30T20:14:41.275719Z"
    },
    "papermill": {
     "duration": 2.35867,
     "end_time": "2025-07-30T20:14:41.277875",
     "exception": false,
     "start_time": "2025-07-30T20:14:38.919205",
     "status": "completed"
    },
    "tags": []
   },
   "outputs": [],
   "source": [
    "example_universe = universe.copy()\n",
    "example_universe[\"cutoff\"] = example_universe[\"cutoff\"][0]\n",
    "example_universe[\"eval_fairness_grouping\"] = example_universe[\"eval_fairness_grouping\"][0]\n",
    "fairness_dict, metric_frame = universe_analysis.compute_metrics(\n",
    "    example_universe,\n",
    "    y_pred_prob=probs_test,\n",
    "    y_test=y_true,\n",
    "    org_test=org_test,\n",
    ")"
   ]
  },
  {
   "cell_type": "markdown",
   "id": "f95d4e02",
   "metadata": {
    "papermill": {
     "duration": 0.018741,
     "end_time": "2025-07-30T20:14:41.311683",
     "exception": false,
     "start_time": "2025-07-30T20:14:41.292942",
     "status": "completed"
    },
    "tags": []
   },
   "source": [
    "# Overall"
   ]
  },
  {
   "cell_type": "markdown",
   "id": "bdee4871",
   "metadata": {
    "papermill": {
     "duration": 0.013643,
     "end_time": "2025-07-30T20:14:41.338763",
     "exception": false,
     "start_time": "2025-07-30T20:14:41.325120",
     "status": "completed"
    },
    "tags": []
   },
   "source": [
    "Fairness\n",
    "Main fairness target: Equalized Odds. Seems to be a better fit than equal opportunity, since we're not only interested in Y = 1. Seems to be a better fit than demographic parity, since we also care about accuracy, not just equal distribution of preds.\n",
    "\n",
    "Pick column for computation of fairness metrics\n",
    "\n",
    "Performance\n",
    "Overall performance measures, most interesting in relation to the measures split by group below"
   ]
  },
  {
   "cell_type": "code",
   "execution_count": 74,
   "id": "c4e067c6",
   "metadata": {
    "execution": {
     "iopub.execute_input": "2025-07-30T20:14:41.378043Z",
     "iopub.status.busy": "2025-07-30T20:14:41.377703Z",
     "iopub.status.idle": "2025-07-30T20:14:41.384757Z",
     "shell.execute_reply": "2025-07-30T20:14:41.383920Z"
    },
    "papermill": {
     "duration": 0.032767,
     "end_time": "2025-07-30T20:14:41.386119",
     "exception": false,
     "start_time": "2025-07-30T20:14:41.353352",
     "status": "completed"
    },
    "tags": []
   },
   "outputs": [
    {
     "data": {
      "text/plain": [
       "accuracy                   0.225359\n",
       "balanced accuracy          0.550829\n",
       "f1                         0.246664\n",
       "precision                  0.140911\n",
       "false positive rate        0.886959\n",
       "false negative rate        0.011383\n",
       "selection rate             0.900000\n",
       "count                  89710.000000\n",
       "dtype: float64"
      ]
     },
     "execution_count": 74,
     "metadata": {},
     "output_type": "execute_result"
    }
   ],
   "source": [
    "metric_frame.overall"
   ]
  },
  {
   "cell_type": "markdown",
   "id": "e968fe9d",
   "metadata": {
    "papermill": {
     "duration": 0.013071,
     "end_time": "2025-07-30T20:14:41.413323",
     "exception": false,
     "start_time": "2025-07-30T20:14:41.400252",
     "status": "completed"
    },
    "tags": []
   },
   "source": [
    "By Group"
   ]
  },
  {
   "cell_type": "code",
   "execution_count": 75,
   "id": "ec325bce",
   "metadata": {
    "execution": {
     "iopub.execute_input": "2025-07-30T20:14:41.445257Z",
     "iopub.status.busy": "2025-07-30T20:14:41.444913Z",
     "iopub.status.idle": "2025-07-30T20:14:41.456988Z",
     "shell.execute_reply": "2025-07-30T20:14:41.456155Z"
    },
    "papermill": {
     "duration": 0.02832,
     "end_time": "2025-07-30T20:14:41.458284",
     "exception": false,
     "start_time": "2025-07-30T20:14:41.429964",
     "status": "completed"
    },
    "tags": []
   },
   "outputs": [
    {
     "data": {
      "text/html": [
       "<div>\n",
       "<style scoped>\n",
       "    .dataframe tbody tr th:only-of-type {\n",
       "        vertical-align: middle;\n",
       "    }\n",
       "\n",
       "    .dataframe tbody tr th {\n",
       "        vertical-align: top;\n",
       "    }\n",
       "\n",
       "    .dataframe thead th {\n",
       "        text-align: right;\n",
       "    }\n",
       "</style>\n",
       "<table border=\"1\" class=\"dataframe\">\n",
       "  <thead>\n",
       "    <tr style=\"text-align: right;\">\n",
       "      <th></th>\n",
       "      <th>accuracy</th>\n",
       "      <th>balanced accuracy</th>\n",
       "      <th>f1</th>\n",
       "      <th>precision</th>\n",
       "      <th>false positive rate</th>\n",
       "      <th>false negative rate</th>\n",
       "      <th>selection rate</th>\n",
       "      <th>count</th>\n",
       "    </tr>\n",
       "    <tr>\n",
       "      <th>majmin</th>\n",
       "      <th></th>\n",
       "      <th></th>\n",
       "      <th></th>\n",
       "      <th></th>\n",
       "      <th></th>\n",
       "      <th></th>\n",
       "      <th></th>\n",
       "      <th></th>\n",
       "    </tr>\n",
       "  </thead>\n",
       "  <tbody>\n",
       "    <tr>\n",
       "      <th>majority</th>\n",
       "      <td>0.246552</td>\n",
       "      <td>0.560677</td>\n",
       "      <td>0.257289</td>\n",
       "      <td>0.147911</td>\n",
       "      <td>0.866284</td>\n",
       "      <td>0.012363</td>\n",
       "      <td>0.882319</td>\n",
       "      <td>69170.0</td>\n",
       "    </tr>\n",
       "    <tr>\n",
       "      <th>minority</th>\n",
       "      <td>0.153992</td>\n",
       "      <td>0.518569</td>\n",
       "      <td>0.212891</td>\n",
       "      <td>0.119235</td>\n",
       "      <td>0.955261</td>\n",
       "      <td>0.007601</td>\n",
       "      <td>0.959542</td>\n",
       "      <td>20540.0</td>\n",
       "    </tr>\n",
       "  </tbody>\n",
       "</table>\n",
       "</div>"
      ],
      "text/plain": [
       "          accuracy  balanced accuracy        f1  precision  \\\n",
       "majmin                                                       \n",
       "majority  0.246552           0.560677  0.257289   0.147911   \n",
       "minority  0.153992           0.518569  0.212891   0.119235   \n",
       "\n",
       "          false positive rate  false negative rate  selection rate    count  \n",
       "majmin                                                                       \n",
       "majority             0.866284             0.012363        0.882319  69170.0  \n",
       "minority             0.955261             0.007601        0.959542  20540.0  "
      ]
     },
     "execution_count": 75,
     "metadata": {},
     "output_type": "execute_result"
    }
   ],
   "source": [
    "metric_frame.by_group"
   ]
  },
  {
   "cell_type": "code",
   "execution_count": 76,
   "id": "a9ddbe63",
   "metadata": {
    "execution": {
     "iopub.execute_input": "2025-07-30T20:14:41.497515Z",
     "iopub.status.busy": "2025-07-30T20:14:41.497084Z",
     "iopub.status.idle": "2025-07-30T20:14:44.084062Z",
     "shell.execute_reply": "2025-07-30T20:14:44.082998Z"
    },
    "papermill": {
     "duration": 2.613348,
     "end_time": "2025-07-30T20:14:44.085939",
     "exception": false,
     "start_time": "2025-07-30T20:14:41.472591",
     "status": "completed"
    },
    "tags": []
   },
   "outputs": [
    {
     "data": {
      "text/plain": [
       "array([[<Axes: title={'center': 'accuracy'}, xlabel='majmin'>,\n",
       "        <Axes: title={'center': 'balanced accuracy'}, xlabel='majmin'>,\n",
       "        <Axes: title={'center': 'f1'}, xlabel='majmin'>],\n",
       "       [<Axes: title={'center': 'precision'}, xlabel='majmin'>,\n",
       "        <Axes: title={'center': 'false positive rate'}, xlabel='majmin'>,\n",
       "        <Axes: title={'center': 'false negative rate'}, xlabel='majmin'>],\n",
       "       [<Axes: title={'center': 'selection rate'}, xlabel='majmin'>,\n",
       "        <Axes: title={'center': 'count'}, xlabel='majmin'>,\n",
       "        <Axes: xlabel='majmin'>]], dtype=object)"
      ]
     },
     "execution_count": 76,
     "metadata": {},
     "output_type": "execute_result"
    },
    {
     "data": {
      "image/png": "[encoded data removed]",
      "text/plain": [
       "<Figure size 1200x800 with 9 Axes>"
      ]
     },
     "metadata": {},
     "output_type": "display_data"
    }
   ],
   "source": [
    "# In a graphic\n",
    "metric_frame.by_group.plot.bar(\n",
    "    subplots=True,\n",
    "    layout=[3, 3],\n",
    "    legend=False,\n",
    "    figsize=[12, 8],\n",
    "    title=\"Show all metrics\",\n",
    ")"
   ]
  },
  {
   "cell_type": "markdown",
   "id": "f57a0bac",
   "metadata": {
    "papermill": {
     "duration": 0.026645,
     "end_time": "2025-07-30T20:14:44.142250",
     "exception": false,
     "start_time": "2025-07-30T20:14:44.115605",
     "status": "completed"
    },
    "tags": []
   },
   "source": [
    "# Final Output"
   ]
  },
  {
   "cell_type": "code",
   "execution_count": 77,
   "id": "96d280a3",
   "metadata": {
    "execution": {
     "iopub.execute_input": "2025-07-30T20:14:44.197248Z",
     "iopub.status.busy": "2025-07-30T20:14:44.196616Z",
     "iopub.status.idle": "2025-07-30T20:14:44.204766Z",
     "shell.execute_reply": "2025-07-30T20:14:44.203865Z"
    },
    "papermill": {
     "duration": 0.037298,
     "end_time": "2025-07-30T20:14:44.206237",
     "exception": false,
     "start_time": "2025-07-30T20:14:44.168939",
     "status": "completed"
    },
    "tags": []
   },
   "outputs": [
    {
     "data": {
      "text/plain": [
       "4"
      ]
     },
     "execution_count": 77,
     "metadata": {},
     "output_type": "execute_result"
    }
   ],
   "source": [
    "sub_universes = universe_analysis.generate_sub_universes()\n",
    "len(sub_universes)"
   ]
  },
  {
   "cell_type": "code",
   "execution_count": 78,
   "id": "92adf7ba",
   "metadata": {
    "execution": {
     "iopub.execute_input": "2025-07-30T20:14:44.261545Z",
     "iopub.status.busy": "2025-07-30T20:14:44.260569Z",
     "iopub.status.idle": "2025-07-30T20:14:44.267099Z",
     "shell.execute_reply": "2025-07-30T20:14:44.266203Z"
    },
    "papermill": {
     "duration": 0.036318,
     "end_time": "2025-07-30T20:14:44.268773",
     "exception": false,
     "start_time": "2025-07-30T20:14:44.232455",
     "status": "completed"
    },
    "tags": []
   },
   "outputs": [],
   "source": [
    "def filter_sub_universe_data(sub_universe, org_test):\n",
    "    # Keep all rows — no filtering\n",
    "    keep_rows_mask = np.ones(org_test.shape[0], dtype=bool)\n",
    "\n",
    "    print(f\"[INFO] Keeping all rows: {keep_rows_mask.sum()} rows retained.\")\n",
    "    return keep_rows_mask"
   ]
  },
  {
   "cell_type": "code",
   "execution_count": 79,
   "id": "4a759155",
   "metadata": {
    "execution": {
     "iopub.execute_input": "2025-07-30T20:14:44.332827Z",
     "iopub.status.busy": "2025-07-30T20:14:44.331849Z",
     "iopub.status.idle": "2025-07-30T20:14:54.761116Z",
     "shell.execute_reply": "2025-07-30T20:14:54.760159Z"
    },
    "papermill": {
     "duration": 10.462898,
     "end_time": "2025-07-30T20:14:54.762798",
     "exception": false,
     "start_time": "2025-07-30T20:14:44.299900",
     "status": "completed"
    },
    "tags": []
   },
   "outputs": [
    {
     "name": "stdout",
     "output_type": "stream",
     "text": [
      "Stopping execution_time clock.\n",
      "[INFO] Keeping all rows: 89710 rows retained.\n"
     ]
    },
    {
     "name": "stdout",
     "output_type": "stream",
     "text": [
      "[INFO] Keeping all rows: 89710 rows retained.\n"
     ]
    },
    {
     "name": "stdout",
     "output_type": "stream",
     "text": [
      "[INFO] Keeping all rows: 89710 rows retained.\n"
     ]
    },
    {
     "name": "stdout",
     "output_type": "stream",
     "text": [
      "[INFO] Keeping all rows: 89710 rows retained.\n"
     ]
    },
    {
     "data": {
      "text/html": [
       "<div>\n",
       "<style scoped>\n",
       "    .dataframe tbody tr th:only-of-type {\n",
       "        vertical-align: middle;\n",
       "    }\n",
       "\n",
       "    .dataframe tbody tr th {\n",
       "        vertical-align: top;\n",
       "    }\n",
       "\n",
       "    .dataframe thead th {\n",
       "        text-align: right;\n",
       "    }\n",
       "</style>\n",
       "<table border=\"1\" class=\"dataframe\">\n",
       "  <thead>\n",
       "    <tr style=\"text-align: right;\">\n",
       "      <th></th>\n",
       "      <th>run_no</th>\n",
       "      <th>universe_id</th>\n",
       "      <th>universe_settings</th>\n",
       "      <th>execution_time</th>\n",
       "      <th>test_size_n</th>\n",
       "      <th>test_size_frac</th>\n",
       "      <th>fair_main_equalized_odds_difference</th>\n",
       "      <th>fair_main_equalized_odds_ratio</th>\n",
       "      <th>fair_main_demographic_parity_difference</th>\n",
       "      <th>fair_main_demographic_parity_ratio</th>\n",
       "      <th>...</th>\n",
       "      <th>perf_grp_precision_0</th>\n",
       "      <th>perf_grp_precision_1</th>\n",
       "      <th>perf_grp_false positive rate_0</th>\n",
       "      <th>perf_grp_false positive rate_1</th>\n",
       "      <th>perf_grp_false negative rate_0</th>\n",
       "      <th>perf_grp_false negative rate_1</th>\n",
       "      <th>perf_grp_selection rate_0</th>\n",
       "      <th>perf_grp_selection rate_1</th>\n",
       "      <th>perf_grp_count_0</th>\n",
       "      <th>perf_grp_count_1</th>\n",
       "    </tr>\n",
       "  </thead>\n",
       "  <tbody>\n",
       "    <tr>\n",
       "      <th>0</th>\n",
       "      <td>14</td>\n",
       "      <td>c91e5249afd0b969184da7c6ba766422</td>\n",
       "      <td>{\"cutoff\": \"quantile_0.1\", \"eval_fairness_grou...</td>\n",
       "      <td>46.637813</td>\n",
       "      <td>89710</td>\n",
       "      <td>1.0</td>\n",
       "      <td>0.088977</td>\n",
       "      <td>0.906855</td>\n",
       "      <td>0.077223</td>\n",
       "      <td>0.919521</td>\n",
       "      <td>...</td>\n",
       "      <td>NaN</td>\n",
       "      <td>NaN</td>\n",
       "      <td>NaN</td>\n",
       "      <td>NaN</td>\n",
       "      <td>NaN</td>\n",
       "      <td>NaN</td>\n",
       "      <td>NaN</td>\n",
       "      <td>NaN</td>\n",
       "      <td>NaN</td>\n",
       "      <td>NaN</td>\n",
       "    </tr>\n",
       "    <tr>\n",
       "      <th>0</th>\n",
       "      <td>14</td>\n",
       "      <td>c91e5249afd0b969184da7c6ba766422</td>\n",
       "      <td>{\"cutoff\": \"quantile_0.1\", \"eval_fairness_grou...</td>\n",
       "      <td>46.637813</td>\n",
       "      <td>89710</td>\n",
       "      <td>1.0</td>\n",
       "      <td>0.088977</td>\n",
       "      <td>0.906855</td>\n",
       "      <td>0.077223</td>\n",
       "      <td>0.919521</td>\n",
       "      <td>...</td>\n",
       "      <td>0.119235</td>\n",
       "      <td>0.147911</td>\n",
       "      <td>0.955261</td>\n",
       "      <td>0.866284</td>\n",
       "      <td>0.007601</td>\n",
       "      <td>0.012363</td>\n",
       "      <td>0.959542</td>\n",
       "      <td>0.882319</td>\n",
       "      <td>20540.0</td>\n",
       "      <td>69170.0</td>\n",
       "    </tr>\n",
       "    <tr>\n",
       "      <th>0</th>\n",
       "      <td>14</td>\n",
       "      <td>c91e5249afd0b969184da7c6ba766422</td>\n",
       "      <td>{\"cutoff\": \"quantile_0.25\", \"eval_fairness_gro...</td>\n",
       "      <td>46.637813</td>\n",
       "      <td>89710</td>\n",
       "      <td>1.0</td>\n",
       "      <td>0.106650</td>\n",
       "      <td>0.867139</td>\n",
       "      <td>0.087712</td>\n",
       "      <td>0.892723</td>\n",
       "      <td>...</td>\n",
       "      <td>NaN</td>\n",
       "      <td>NaN</td>\n",
       "      <td>NaN</td>\n",
       "      <td>NaN</td>\n",
       "      <td>NaN</td>\n",
       "      <td>NaN</td>\n",
       "      <td>NaN</td>\n",
       "      <td>NaN</td>\n",
       "      <td>NaN</td>\n",
       "      <td>NaN</td>\n",
       "    </tr>\n",
       "    <tr>\n",
       "      <th>0</th>\n",
       "      <td>14</td>\n",
       "      <td>c91e5249afd0b969184da7c6ba766422</td>\n",
       "      <td>{\"cutoff\": \"quantile_0.25\", \"eval_fairness_gro...</td>\n",
       "      <td>46.637813</td>\n",
       "      <td>89710</td>\n",
       "      <td>1.0</td>\n",
       "      <td>0.106650</td>\n",
       "      <td>0.867139</td>\n",
       "      <td>0.087712</td>\n",
       "      <td>0.892723</td>\n",
       "      <td>...</td>\n",
       "      <td>0.131416</td>\n",
       "      <td>0.172378</td>\n",
       "      <td>0.802718</td>\n",
       "      <td>0.696069</td>\n",
       "      <td>0.067990</td>\n",
       "      <td>0.047812</td>\n",
       "      <td>0.817624</td>\n",
       "      <td>0.729912</td>\n",
       "      <td>20540.0</td>\n",
       "      <td>69170.0</td>\n",
       "    </tr>\n",
       "  </tbody>\n",
       "</table>\n",
       "<p>4 rows × 50 columns</p>\n",
       "</div>"
      ],
      "text/plain": [
       "  run_no                       universe_id  \\\n",
       "0     14  c91e5249afd0b969184da7c6ba766422   \n",
       "0     14  c91e5249afd0b969184da7c6ba766422   \n",
       "0     14  c91e5249afd0b969184da7c6ba766422   \n",
       "0     14  c91e5249afd0b969184da7c6ba766422   \n",
       "\n",
       "                                   universe_settings  execution_time  \\\n",
       "0  {\"cutoff\": \"quantile_0.1\", \"eval_fairness_grou...       46.637813   \n",
       "0  {\"cutoff\": \"quantile_0.1\", \"eval_fairness_grou...       46.637813   \n",
       "0  {\"cutoff\": \"quantile_0.25\", \"eval_fairness_gro...       46.637813   \n",
       "0  {\"cutoff\": \"quantile_0.25\", \"eval_fairness_gro...       46.637813   \n",
       "\n",
       "   test_size_n  test_size_frac  fair_main_equalized_odds_difference  \\\n",
       "0        89710             1.0                             0.088977   \n",
       "0        89710             1.0                             0.088977   \n",
       "0        89710             1.0                             0.106650   \n",
       "0        89710             1.0                             0.106650   \n",
       "\n",
       "   fair_main_equalized_odds_ratio  fair_main_demographic_parity_difference  \\\n",
       "0                        0.906855                                 0.077223   \n",
       "0                        0.906855                                 0.077223   \n",
       "0                        0.867139                                 0.087712   \n",
       "0                        0.867139                                 0.087712   \n",
       "\n",
       "   fair_main_demographic_parity_ratio  ...  perf_grp_precision_0  \\\n",
       "0                            0.919521  ...                   NaN   \n",
       "0                            0.919521  ...              0.119235   \n",
       "0                            0.892723  ...                   NaN   \n",
       "0                            0.892723  ...              0.131416   \n",
       "\n",
       "   perf_grp_precision_1  perf_grp_false positive rate_0  \\\n",
       "0                   NaN                             NaN   \n",
       "0              0.147911                        0.955261   \n",
       "0                   NaN                             NaN   \n",
       "0              0.172378                        0.802718   \n",
       "\n",
       "   perf_grp_false positive rate_1  perf_grp_false negative rate_0  \\\n",
       "0                             NaN                             NaN   \n",
       "0                        0.866284                        0.007601   \n",
       "0                             NaN                             NaN   \n",
       "0                        0.696069                        0.067990   \n",
       "\n",
       "   perf_grp_false negative rate_1  perf_grp_selection rate_0  \\\n",
       "0                             NaN                        NaN   \n",
       "0                        0.012363                   0.959542   \n",
       "0                             NaN                        NaN   \n",
       "0                        0.047812                   0.817624   \n",
       "\n",
       "   perf_grp_selection rate_1  perf_grp_count_0  perf_grp_count_1  \n",
       "0                        NaN               NaN               NaN  \n",
       "0                   0.882319           20540.0           69170.0  \n",
       "0                        NaN               NaN               NaN  \n",
       "0                   0.729912           20540.0           69170.0  \n",
       "\n",
       "[4 rows x 50 columns]"
      ]
     },
     "execution_count": 79,
     "metadata": {},
     "output_type": "execute_result"
    }
   ],
   "source": [
    "final_output = universe_analysis.generate_final_output(\n",
    "    y_pred_prob=probs_test,\n",
    "    y_test=y_true,\n",
    "    org_test=org_test,\n",
    "    filter_data=filter_sub_universe_data,\n",
    "    cp_metrics_df=cp_metrics_df,\n",
    "    save=True,\n",
    ")\n",
    "final_output"
   ]
  },
  {
   "cell_type": "code",
   "execution_count": null,
   "id": "721ff514-cb11-46f8-b6fc-50392f74b5cb",
   "metadata": {
    "papermill": {
     "duration": 0.032446,
     "end_time": "2025-07-30T20:14:54.832870",
     "exception": false,
     "start_time": "2025-07-30T20:14:54.800424",
     "status": "completed"
    },
    "tags": []
   },
   "outputs": [],
   "source": []
  }
 ],
 "metadata": {
  "celltoolbar": "Tags",
  "kernelspec": {
   "display_name": "Python (CMA Fairness)",
   "language": "python",
   "name": "cma_fair_env"
  },
  "language_info": {
   "codemirror_mode": {
    "name": "ipython",
    "version": 3
   },
   "file_extension": ".py",
   "mimetype": "text/x-python",
   "name": "python",
   "nbconvert_exporter": "python",
   "pygments_lexer": "ipython3",
   "version": "3.10.12"
  },
  "papermill": {
   "default_parameters": {},
   "duration": 60.894356,
   "end_time": "2025-07-30T20:14:55.685139",
   "environment_variables": {},
   "exception": null,
   "input_path": "universe_analysis.ipynb",
   "output_path": "output/runs/14/notebooks/m_14-c91e5249afd0b969184da7c6ba766422.ipynb",
   "parameters": {
    "output_dir": "output",
    "run_no": "14",
    "seed": "2023",
    "universe": "{\"cutoff\": [\"quantile_0.1\", \"quantile_0.25\"], \"eval_fairness_grouping\": [\"majority-minority\", \"nationality-all\"], \"exclude_features\": \"none\", \"exclude_subgroups\": \"drop-non-german\", \"model\": \"elasticnet\", \"scale\": \"scale\", \"training_size\": \"25k\", \"training_year\": \"2012_14\"}",
    "universe_id": "c91e5249afd0b969184da7c6ba766422"
   },
   "start_time": "2025-07-30T20:13:54.790783",
   "version": "2.6.0"
  }
 },
 "nbformat": 4,
 "nbformat_minor": 5
}