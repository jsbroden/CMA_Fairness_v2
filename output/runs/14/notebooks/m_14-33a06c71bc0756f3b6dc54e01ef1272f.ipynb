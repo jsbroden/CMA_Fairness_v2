{
 "cells": [
  {
   "cell_type": "code",
   "execution_count": 1,
   "id": "f159f837-637b-42ba-96b5-ec9a68c44524",
   "metadata": {
    "execution": {
     "iopub.execute_input": "2025-07-30T20:50:51.843512Z",
     "iopub.status.busy": "2025-07-30T20:50:51.843045Z",
     "iopub.status.idle": "2025-07-30T20:50:51.856780Z",
     "shell.execute_reply": "2025-07-30T20:50:51.855376Z"
    },
    "papermill": {
     "duration": 0.035691,
     "end_time": "2025-07-30T20:50:51.858383",
     "exception": false,
     "start_time": "2025-07-30T20:50:51.822692",
     "status": "completed"
    },
    "tags": []
   },
   "outputs": [
    {
     "name": "stdout",
     "output_type": "stream",
     "text": [
      "/dss/dsshome1/0C/ra93lal2/cma/CMA_Fairness_v2\n"
     ]
    },
    {
     "name": "stderr",
     "output_type": "stream",
     "text": [
      "/dss/dsshome1/0C/ra93lal2/.local/share/virtualenvs/CMA_Fairness_v2-3j10GkSs/lib/python3.10/site-packages/IPython/core/magics/osm.py:393: UserWarning: This is now an optional IPython functionality, using bookmarks requires you to install the `pickleshare` library.\n",
      "  bkms = self.shell.db.get('bookmarks', {})\n",
      "/dss/dsshome1/0C/ra93lal2/.local/share/virtualenvs/CMA_Fairness_v2-3j10GkSs/lib/python3.10/site-packages/IPython/core/magics/osm.py:417: UserWarning: This is now an optional IPython functionality, setting dhist requires you to install the `pickleshare` library.\n",
      "  self.shell.db['dhist'] = compress_dhist(dhist)[-100:]\n"
     ]
    }
   ],
   "source": [
    "%cd ~/cma/CMA_Fairness_v2"
   ]
  },
  {
   "cell_type": "markdown",
   "id": "de2603b9",
   "metadata": {
    "papermill": {
     "duration": 0.019574,
     "end_time": "2025-07-30T20:50:51.898217",
     "exception": false,
     "start_time": "2025-07-30T20:50:51.878643",
     "status": "completed"
    },
    "tags": []
   },
   "source": [
    "The following cell holds the definition of our parameters, these values can be overriden by rendering the with e.g. the following command:\n",
    "\n",
    "papermill -p alpha 0.2 -p ratio 0.3 universe_analysis.ipynb output/test_run.ipynb"
   ]
  },
  {
   "cell_type": "code",
   "execution_count": 2,
   "id": "a80968a0-40bb-4fa9-85ef-2d5eefb01975",
   "metadata": {
    "execution": {
     "iopub.execute_input": "2025-07-30T20:50:51.941083Z",
     "iopub.status.busy": "2025-07-30T20:50:51.940181Z",
     "iopub.status.idle": "2025-07-30T20:50:51.945541Z",
     "shell.execute_reply": "2025-07-30T20:50:51.944588Z"
    },
    "papermill": {
     "duration": 0.027069,
     "end_time": "2025-07-30T20:50:51.947174",
     "exception": false,
     "start_time": "2025-07-30T20:50:51.920105",
     "status": "completed"
    },
    "tags": []
   },
   "outputs": [
    {
     "name": "stdout",
     "output_type": "stream",
     "text": [
      "Current working directory: /dss/dsshome1/0C/ra93lal2/cma/CMA_Fairness_v2\n"
     ]
    }
   ],
   "source": [
    "import os\n",
    "print(\"Current working directory:\", os.getcwd())"
   ]
  },
  {
   "cell_type": "code",
   "execution_count": 3,
   "id": "2dce4c03",
   "metadata": {
    "execution": {
     "iopub.execute_input": "2025-07-30T20:50:51.987777Z",
     "iopub.status.busy": "2025-07-30T20:50:51.986928Z",
     "iopub.status.idle": "2025-07-30T20:50:51.993299Z",
     "shell.execute_reply": "2025-07-30T20:50:51.992302Z"
    },
    "papermill": {
     "duration": 0.028321,
     "end_time": "2025-07-30T20:50:51.995091",
     "exception": false,
     "start_time": "2025-07-30T20:50:51.966770",
     "status": "completed"
    },
    "tags": [
     "parameters"
    ]
   },
   "outputs": [],
   "source": [
    "run_no = 0\n",
    "universe_id = \"test\"\n",
    "universe = {\n",
    "    \"training_size\": \"25k\", # \"25k\", \"5k\", \"1k\"\n",
    "    \"training_year\": \"2014\", # \"2014\", \"2012_14\", \"2010_14\"\n",
    "    \"scale\": \"scale\", # \"scale\", \"do-not-scale\",\n",
    "    #\"stratify_split\": \"target\", # \"none\", \"target\", \"protected-attribute\", \"both\",\n",
    "    \"model\": \"elasticnet\", # \"logreg\", \"penalized_logreg\", \"rf\", \"gbm\", \"elasticnet\"\n",
    "    \"cutoff\": [\"quantile_0.15\", \"quantile_0.30\"],\n",
    "    \"exclude_features\": \"age\", # \"none\", \"nationality\", \"sex\", \"nationality-sex\", \"age\"\n",
    "    \"exclude_subgroups\": \"keep-all\", # \"keep-all\", \"drop-non-german\"\n",
    "    \"eval_fairness_grouping\": [\"majority-minority\", \"nationality-all\"]\n",
    "}\n",
    "\n",
    "output_dir=\"./output\"\n",
    "seed=0"
   ]
  },
  {
   "cell_type": "code",
   "execution_count": 4,
   "id": "e51f0e73",
   "metadata": {
    "execution": {
     "iopub.execute_input": "2025-07-30T20:50:52.040735Z",
     "iopub.status.busy": "2025-07-30T20:50:52.040081Z",
     "iopub.status.idle": "2025-07-30T20:50:52.045700Z",
     "shell.execute_reply": "2025-07-30T20:50:52.044754Z"
    },
    "papermill": {
     "duration": 0.030302,
     "end_time": "2025-07-30T20:50:52.047309",
     "exception": false,
     "start_time": "2025-07-30T20:50:52.017007",
     "status": "completed"
    },
    "tags": [
     "injected-parameters"
    ]
   },
   "outputs": [],
   "source": [
    "# Parameters\n",
    "universe_id = \"33a06c71bc0756f3b6dc54e01ef1272f\"\n",
    "run_no = \"14\"\n",
    "universe = \"{\\\"cutoff\\\": [\\\"quantile_0.1\\\", \\\"quantile_0.25\\\"], \\\"eval_fairness_grouping\\\": [\\\"majority-minority\\\", \\\"nationality-all\\\"], \\\"exclude_features\\\": \\\"sex\\\", \\\"exclude_subgroups\\\": \\\"drop-non-german\\\", \\\"model\\\": \\\"logreg\\\", \\\"scale\\\": \\\"do-not-scale\\\", \\\"training_size\\\": \\\"5k\\\", \\\"training_year\\\": \\\"2014\\\"}\"\n",
    "output_dir = \"output\"\n",
    "seed = \"2023\"\n"
   ]
  },
  {
   "cell_type": "code",
   "execution_count": 5,
   "id": "1650acaf",
   "metadata": {
    "execution": {
     "iopub.execute_input": "2025-07-30T20:50:52.089876Z",
     "iopub.status.busy": "2025-07-30T20:50:52.089236Z",
     "iopub.status.idle": "2025-07-30T20:50:52.094016Z",
     "shell.execute_reply": "2025-07-30T20:50:52.093150Z"
    },
    "papermill": {
     "duration": 0.027316,
     "end_time": "2025-07-30T20:50:52.095587",
     "exception": false,
     "start_time": "2025-07-30T20:50:52.068271",
     "status": "completed"
    },
    "tags": []
   },
   "outputs": [],
   "source": [
    "import json\n",
    "# Parse universe into dict if it is passed as a string\n",
    "if isinstance(universe, str):\n",
    "    universe = json.loads(universe)"
   ]
  },
  {
   "cell_type": "code",
   "execution_count": 6,
   "id": "16620c48",
   "metadata": {
    "execution": {
     "iopub.execute_input": "2025-07-30T20:50:52.135626Z",
     "iopub.status.busy": "2025-07-30T20:50:52.135204Z",
     "iopub.status.idle": "2025-07-30T20:50:52.163386Z",
     "shell.execute_reply": "2025-07-30T20:50:52.162707Z"
    },
    "papermill": {
     "duration": 0.048274,
     "end_time": "2025-07-30T20:50:52.164677",
     "exception": false,
     "start_time": "2025-07-30T20:50:52.116403",
     "status": "completed"
    },
    "tags": []
   },
   "outputs": [],
   "source": [
    "# Auto-reload the custom package\n",
    "%load_ext autoreload\n",
    "%autoreload 1\n",
    "%aimport fairness_multiverse"
   ]
  },
  {
   "cell_type": "code",
   "execution_count": 7,
   "id": "01c5c9f3",
   "metadata": {
    "execution": {
     "iopub.execute_input": "2025-07-30T20:50:52.215903Z",
     "iopub.status.busy": "2025-07-30T20:50:52.215422Z",
     "iopub.status.idle": "2025-07-30T20:50:54.072347Z",
     "shell.execute_reply": "2025-07-30T20:50:54.071234Z"
    },
    "papermill": {
     "duration": 1.884665,
     "end_time": "2025-07-30T20:50:54.074356",
     "exception": false,
     "start_time": "2025-07-30T20:50:52.189691",
     "status": "completed"
    },
    "tags": []
   },
   "outputs": [],
   "source": [
    "from fairness_multiverse.universe import UniverseAnalysis\n",
    "\n",
    "universe_analysis = UniverseAnalysis(\n",
    "    run_no = run_no,\n",
    "    universe_id = universe_id,\n",
    "    universe = universe,\n",
    "    output_dir=output_dir,\n",
    ")"
   ]
  },
  {
   "cell_type": "code",
   "execution_count": 8,
   "id": "106241f5",
   "metadata": {
    "execution": {
     "iopub.execute_input": "2025-07-30T20:50:54.118048Z",
     "iopub.status.busy": "2025-07-30T20:50:54.117294Z",
     "iopub.status.idle": "2025-07-30T20:50:54.124876Z",
     "shell.execute_reply": "2025-07-30T20:50:54.123782Z"
    },
    "papermill": {
     "duration": 0.032532,
     "end_time": "2025-07-30T20:50:54.126867",
     "exception": false,
     "start_time": "2025-07-30T20:50:54.094335",
     "status": "completed"
    },
    "tags": []
   },
   "outputs": [
    {
     "name": "stdout",
     "output_type": "stream",
     "text": [
      "Using Seed: 2023\n"
     ]
    }
   ],
   "source": [
    "import numpy as np\n",
    "parsed_seed = int(seed)\n",
    "np.random.seed(parsed_seed)\n",
    "print(f\"Using Seed: {parsed_seed}\")"
   ]
  },
  {
   "cell_type": "markdown",
   "id": "e0ebdc57",
   "metadata": {
    "papermill": {
     "duration": 0.019374,
     "end_time": "2025-07-30T20:50:54.166908",
     "exception": false,
     "start_time": "2025-07-30T20:50:54.147534",
     "status": "completed"
    },
    "tags": []
   },
   "source": [
    "# Loading Data"
   ]
  },
  {
   "cell_type": "markdown",
   "id": "681925a3",
   "metadata": {
    "papermill": {
     "duration": 0.020398,
     "end_time": "2025-07-30T20:50:54.207524",
     "exception": false,
     "start_time": "2025-07-30T20:50:54.187126",
     "status": "completed"
    },
    "tags": []
   },
   "source": [
    "Load siab_train, siab_test, siab_calib and/or \n",
    "load siab_train_features, siab_train_labels"
   ]
  },
  {
   "cell_type": "code",
   "execution_count": 9,
   "id": "f0496b8a",
   "metadata": {
    "execution": {
     "iopub.execute_input": "2025-07-30T20:50:54.247641Z",
     "iopub.status.busy": "2025-07-30T20:50:54.246783Z",
     "iopub.status.idle": "2025-07-30T20:51:06.593128Z",
     "shell.execute_reply": "2025-07-30T20:51:06.591937Z"
    },
    "papermill": {
     "duration": 12.368627,
     "end_time": "2025-07-30T20:51:06.594859",
     "exception": false,
     "start_time": "2025-07-30T20:50:54.226232",
     "status": "completed"
    },
    "tags": []
   },
   "outputs": [
    {
     "name": "stdout",
     "output_type": "stream",
     "text": [
      "Loading SIAB data from cache: data/siab_cached.csv.gz\n"
     ]
    },
    {
     "name": "stdout",
     "output_type": "stream",
     "text": [
      "(643690, 164)\n"
     ]
    }
   ],
   "source": [
    "from pathlib import Path\n",
    "import pandas as pd\n",
    "\n",
    "# File paths\n",
    "raw_file = Path(\"data/raw/siab.csv\")\n",
    "cache_file = Path(\"data/siab_cached.csv.gz\")\n",
    "\n",
    "# Ensure cache directory exists\n",
    "cache_file.parent.mkdir(parents=True, exist_ok=True)\n",
    "\n",
    "# Load with simple caching\n",
    "if cache_file.exists():\n",
    "    print(f\"Loading SIAB data from cache: {cache_file}\")\n",
    "    siab = pd.read_csv(cache_file, compression='gzip')\n",
    "else:\n",
    "    print(f\"Cache not found. Reading raw SIAB data: {raw_file}\")\n",
    "    siab = pd.read_csv(raw_file)\n",
    "    siab.to_csv(cache_file, index=False, compression='gzip')\n",
    "    print(f\"Cached SIAB data to: {cache_file}\")\n",
    "\n",
    "# Now use `siab` DataFrame as needed\n",
    "print(siab.shape)"
   ]
  },
  {
   "cell_type": "code",
   "execution_count": 10,
   "id": "db0ca512-5f53-4dba-abdb-a2888bca41ba",
   "metadata": {
    "execution": {
     "iopub.execute_input": "2025-07-30T20:51:06.642050Z",
     "iopub.status.busy": "2025-07-30T20:51:06.641353Z",
     "iopub.status.idle": "2025-07-30T20:51:06.647249Z",
     "shell.execute_reply": "2025-07-30T20:51:06.646366Z"
    },
    "papermill": {
     "duration": 0.029514,
     "end_time": "2025-07-30T20:51:06.648890",
     "exception": false,
     "start_time": "2025-07-30T20:51:06.619376",
     "status": "completed"
    },
    "tags": []
   },
   "outputs": [],
   "source": [
    "#siab"
   ]
  },
  {
   "cell_type": "code",
   "execution_count": 11,
   "id": "a0edb063",
   "metadata": {
    "execution": {
     "iopub.execute_input": "2025-07-30T20:51:06.693777Z",
     "iopub.status.busy": "2025-07-30T20:51:06.693127Z",
     "iopub.status.idle": "2025-07-30T20:51:06.698007Z",
     "shell.execute_reply": "2025-07-30T20:51:06.697101Z"
    },
    "papermill": {
     "duration": 0.028376,
     "end_time": "2025-07-30T20:51:06.699450",
     "exception": false,
     "start_time": "2025-07-30T20:51:06.671074",
     "status": "completed"
    },
    "tags": []
   },
   "outputs": [],
   "source": [
    "#import pandas as pd\n",
    "#\n",
    "#X_train = pd.read_csv(\"./data/X_train.csv\")\n",
    "#y_train = pd.read_csv(\"./data/y_train.csv\")"
   ]
  },
  {
   "cell_type": "code",
   "execution_count": 12,
   "id": "63d08085",
   "metadata": {
    "execution": {
     "iopub.execute_input": "2025-07-30T20:51:06.744069Z",
     "iopub.status.busy": "2025-07-30T20:51:06.743403Z",
     "iopub.status.idle": "2025-07-30T20:51:06.748339Z",
     "shell.execute_reply": "2025-07-30T20:51:06.747340Z"
    },
    "papermill": {
     "duration": 0.02921,
     "end_time": "2025-07-30T20:51:06.750093",
     "exception": false,
     "start_time": "2025-07-30T20:51:06.720883",
     "status": "completed"
    },
    "tags": []
   },
   "outputs": [],
   "source": [
    "#X_test = pd.read_csv(\"./data/X_test.csv\")\n",
    "#y_true = pd.read_csv(\"./data/y_test.csv\")"
   ]
  },
  {
   "cell_type": "code",
   "execution_count": 13,
   "id": "98a8d0fa-1d3d-4ed8-bb2c-281470e24add",
   "metadata": {
    "execution": {
     "iopub.execute_input": "2025-07-30T20:51:06.794357Z",
     "iopub.status.busy": "2025-07-30T20:51:06.793700Z",
     "iopub.status.idle": "2025-07-30T20:51:06.799288Z",
     "shell.execute_reply": "2025-07-30T20:51:06.798313Z"
    },
    "papermill": {
     "duration": 0.028798,
     "end_time": "2025-07-30T20:51:06.800969",
     "exception": false,
     "start_time": "2025-07-30T20:51:06.772171",
     "status": "completed"
    },
    "tags": []
   },
   "outputs": [],
   "source": [
    "# Calibration data for conformal\n",
    "#X_calib = pd.read_csv(\"./data/X_calib.csv\")\n",
    "#y_calib = pd.read_csv(\"./data/y_calib.csv\")"
   ]
  },
  {
   "cell_type": "markdown",
   "id": "997051c5-15bd-4b69-9786-c3001a3ce484",
   "metadata": {
    "papermill": {
     "duration": 0.019482,
     "end_time": "2025-07-30T20:51:06.841157",
     "exception": false,
     "start_time": "2025-07-30T20:51:06.821675",
     "status": "completed"
    },
    "tags": []
   },
   "source": [
    "# Splitting Data and Setting Training Data Size"
   ]
  },
  {
   "cell_type": "code",
   "execution_count": 14,
   "id": "e993b61f-042d-41a6-8c81-f55681f86335",
   "metadata": {
    "execution": {
     "iopub.execute_input": "2025-07-30T20:51:06.881469Z",
     "iopub.status.busy": "2025-07-30T20:51:06.880781Z",
     "iopub.status.idle": "2025-07-30T20:51:06.894407Z",
     "shell.execute_reply": "2025-07-30T20:51:06.893366Z"
    },
    "papermill": {
     "duration": 0.035616,
     "end_time": "2025-07-30T20:51:06.895861",
     "exception": false,
     "start_time": "2025-07-30T20:51:06.860245",
     "status": "completed"
    },
    "tags": []
   },
   "outputs": [],
   "source": [
    "def sample_by_year_size(df,\n",
    "                        training_year: str,\n",
    "                        training_size: str,\n",
    "                        random_state: int = 42):\n",
    "    # --- parse training_year into a list of int years ---\n",
    "    if \"_\" in training_year:\n",
    "        start_str, end_str = training_year.split(\"_\", 1)\n",
    "        start = int(start_str)\n",
    "        end   = int(end_str) if len(end_str) == 4 else (int(end_str) + (start // 100)*100)\n",
    "        years = list(range(start, end + 1))\n",
    "    else:\n",
    "        years = [int(training_year)]\n",
    "\n",
    "    df = df[df[\"year\"].isin(years)].reset_index(drop=True)\n",
    "\n",
    "    # --- map training_size to total number of samples ---\n",
    "    total_map = {\"25k\": 25_000, \"5k\": 5_000, \"1k\": 1_000}\n",
    "    if training_size not in total_map:\n",
    "        return df  # e.g. \"all\"\n",
    "\n",
    "    total_samples = total_map[training_size]\n",
    "    n_years       = len(years)\n",
    "    base          = total_samples // n_years\n",
    "    remainder     = total_samples % n_years\n",
    "\n",
    "    # --- build a dict: year -> how many to sample ---\n",
    "    # give +1 to the first `remainder` years in ascending order\n",
    "    quotas = {\n",
    "        year: base + (1 if idx < remainder else 0)\n",
    "        for idx, year in enumerate(sorted(years))\n",
    "    }\n",
    "\n",
    "    # --- sample per‐year according to the quota dict ---\n",
    "    sampled = (\n",
    "        df\n",
    "        .groupby(\"year\", group_keys=False)\n",
    "        .apply(lambda grp: grp.sample(\n",
    "            n=min(len(grp), quotas[grp.name]),\n",
    "            random_state=random_state))\n",
    "        .reset_index(drop=True)\n",
    "    )\n",
    "\n",
    "    return sampled"
   ]
  },
  {
   "cell_type": "code",
   "execution_count": 15,
   "id": "c0ccd338-0e02-41f3-a09d-f56f9266e3fb",
   "metadata": {
    "execution": {
     "iopub.execute_input": "2025-07-30T20:51:06.937481Z",
     "iopub.status.busy": "2025-07-30T20:51:06.936782Z",
     "iopub.status.idle": "2025-07-30T20:51:06.942023Z",
     "shell.execute_reply": "2025-07-30T20:51:06.940993Z"
    },
    "papermill": {
     "duration": 0.02742,
     "end_time": "2025-07-30T20:51:06.943693",
     "exception": false,
     "start_time": "2025-07-30T20:51:06.916273",
     "status": "completed"
    },
    "tags": []
   },
   "outputs": [],
   "source": [
    "#universe[\"training_size\"]"
   ]
  },
  {
   "cell_type": "code",
   "execution_count": 16,
   "id": "ca707fd7-8047-4acd-bfa5-66248fbbf8e6",
   "metadata": {
    "execution": {
     "iopub.execute_input": "2025-07-30T20:51:06.986005Z",
     "iopub.status.busy": "2025-07-30T20:51:06.985311Z",
     "iopub.status.idle": "2025-07-30T20:51:06.990532Z",
     "shell.execute_reply": "2025-07-30T20:51:06.989546Z"
    },
    "papermill": {
     "duration": 0.028139,
     "end_time": "2025-07-30T20:51:06.992282",
     "exception": false,
     "start_time": "2025-07-30T20:51:06.964143",
     "status": "completed"
    },
    "tags": []
   },
   "outputs": [],
   "source": [
    "#universe[\"training_year\"]"
   ]
  },
  {
   "cell_type": "code",
   "execution_count": 17,
   "id": "aea9c6ef-6f46-42c8-85eb-5a62025c1508",
   "metadata": {
    "execution": {
     "iopub.execute_input": "2025-07-30T20:51:07.034140Z",
     "iopub.status.busy": "2025-07-30T20:51:07.033657Z",
     "iopub.status.idle": "2025-07-30T20:51:07.303678Z",
     "shell.execute_reply": "2025-07-30T20:51:07.302752Z"
    },
    "papermill": {
     "duration": 0.292807,
     "end_time": "2025-07-30T20:51:07.305438",
     "exception": false,
     "start_time": "2025-07-30T20:51:07.012631",
     "status": "completed"
    },
    "tags": []
   },
   "outputs": [],
   "source": [
    "siab_train = sample_by_year_size(siab,\n",
    "                               training_year=universe[\"training_year\"],\n",
    "                               training_size=universe[\"training_size\"])"
   ]
  },
  {
   "cell_type": "code",
   "execution_count": 18,
   "id": "8d3afb32-789d-442c-8d5d-9f5aa8dd2eed",
   "metadata": {
    "execution": {
     "iopub.execute_input": "2025-07-30T20:51:07.346808Z",
     "iopub.status.busy": "2025-07-30T20:51:07.346161Z",
     "iopub.status.idle": "2025-07-30T20:51:07.351140Z",
     "shell.execute_reply": "2025-07-30T20:51:07.350216Z"
    },
    "papermill": {
     "duration": 0.028081,
     "end_time": "2025-07-30T20:51:07.353216",
     "exception": false,
     "start_time": "2025-07-30T20:51:07.325135",
     "status": "completed"
    },
    "tags": []
   },
   "outputs": [],
   "source": [
    "#siab_train.shape"
   ]
  },
  {
   "cell_type": "code",
   "execution_count": 19,
   "id": "d582db68-1a4c-47fb-84fc-08518dc1975a",
   "metadata": {
    "execution": {
     "iopub.execute_input": "2025-07-30T20:51:07.395752Z",
     "iopub.status.busy": "2025-07-30T20:51:07.395072Z",
     "iopub.status.idle": "2025-07-30T20:51:07.400318Z",
     "shell.execute_reply": "2025-07-30T20:51:07.399230Z"
    },
    "papermill": {
     "duration": 0.028136,
     "end_time": "2025-07-30T20:51:07.402008",
     "exception": false,
     "start_time": "2025-07-30T20:51:07.373872",
     "status": "completed"
    },
    "tags": []
   },
   "outputs": [],
   "source": [
    "#display(siab_train.groupby(\"year\").size())"
   ]
  },
  {
   "cell_type": "code",
   "execution_count": 20,
   "id": "a561edb4-d032-42cb-8256-22eac1111c64",
   "metadata": {
    "execution": {
     "iopub.execute_input": "2025-07-30T20:51:07.444198Z",
     "iopub.status.busy": "2025-07-30T20:51:07.443618Z",
     "iopub.status.idle": "2025-07-30T20:51:07.707881Z",
     "shell.execute_reply": "2025-07-30T20:51:07.706948Z"
    },
    "papermill": {
     "duration": 0.287357,
     "end_time": "2025-07-30T20:51:07.709829",
     "exception": false,
     "start_time": "2025-07-30T20:51:07.422472",
     "status": "completed"
    },
    "tags": []
   },
   "outputs": [],
   "source": [
    "#siab_train = siab_s[siab_s.year < 2015]\n",
    "siab_calib = siab[siab.year == 2015]\n",
    "siab_test = siab[siab.year == 2016]"
   ]
  },
  {
   "cell_type": "code",
   "execution_count": 21,
   "id": "472de16f-c3db-4916-846b-1f0de9cf1746",
   "metadata": {
    "execution": {
     "iopub.execute_input": "2025-07-30T20:51:07.751335Z",
     "iopub.status.busy": "2025-07-30T20:51:07.750634Z",
     "iopub.status.idle": "2025-07-30T20:51:07.759051Z",
     "shell.execute_reply": "2025-07-30T20:51:07.758114Z"
    },
    "papermill": {
     "duration": 0.031209,
     "end_time": "2025-07-30T20:51:07.760844",
     "exception": false,
     "start_time": "2025-07-30T20:51:07.729635",
     "status": "completed"
    },
    "tags": []
   },
   "outputs": [],
   "source": [
    "X_train = siab_train.iloc[:,4:164]\n",
    "y_train = siab_train.iloc[:, [3]]"
   ]
  },
  {
   "cell_type": "code",
   "execution_count": 22,
   "id": "828c96af-f43a-4ed6-ba47-8ac73a47d56c",
   "metadata": {
    "execution": {
     "iopub.execute_input": "2025-07-30T20:51:07.806189Z",
     "iopub.status.busy": "2025-07-30T20:51:07.805526Z",
     "iopub.status.idle": "2025-07-30T20:51:07.860623Z",
     "shell.execute_reply": "2025-07-30T20:51:07.859595Z"
    },
    "papermill": {
     "duration": 0.079361,
     "end_time": "2025-07-30T20:51:07.862734",
     "exception": false,
     "start_time": "2025-07-30T20:51:07.783373",
     "status": "completed"
    },
    "tags": []
   },
   "outputs": [],
   "source": [
    "X_calib = siab_calib.iloc[:,4:164]\n",
    "y_calib = siab_calib.iloc[:, [3]]"
   ]
  },
  {
   "cell_type": "code",
   "execution_count": 23,
   "id": "c34be9c3-6bd6-476e-acd3-845840e303be",
   "metadata": {
    "execution": {
     "iopub.execute_input": "2025-07-30T20:51:07.908320Z",
     "iopub.status.busy": "2025-07-30T20:51:07.907656Z",
     "iopub.status.idle": "2025-07-30T20:51:07.957618Z",
     "shell.execute_reply": "2025-07-30T20:51:07.956520Z"
    },
    "papermill": {
     "duration": 0.07407,
     "end_time": "2025-07-30T20:51:07.959705",
     "exception": false,
     "start_time": "2025-07-30T20:51:07.885635",
     "status": "completed"
    },
    "tags": []
   },
   "outputs": [],
   "source": [
    "X_test = siab_test.iloc[:,4:164]\n",
    "y_true = siab_test.iloc[:, [3]]"
   ]
  },
  {
   "cell_type": "markdown",
   "id": "9901737e-04df-44f0-9100-f5ad144ed040",
   "metadata": {
    "papermill": {
     "duration": 0.021591,
     "end_time": "2025-07-30T20:51:08.004198",
     "exception": false,
     "start_time": "2025-07-30T20:51:07.982607",
     "status": "completed"
    },
    "tags": []
   },
   "source": [
    "# Splitting Data and Setting Training Data Size OLD VERSION"
   ]
  },
  {
   "cell_type": "code",
   "execution_count": 24,
   "id": "acbc8f7d-8fc8-4e86-8c59-5dcb0f58384b",
   "metadata": {
    "execution": {
     "iopub.execute_input": "2025-07-30T20:51:08.048730Z",
     "iopub.status.busy": "2025-07-30T20:51:08.048070Z",
     "iopub.status.idle": "2025-07-30T20:51:08.053491Z",
     "shell.execute_reply": "2025-07-30T20:51:08.052600Z"
    },
    "papermill": {
     "duration": 0.029929,
     "end_time": "2025-07-30T20:51:08.054991",
     "exception": false,
     "start_time": "2025-07-30T20:51:08.025062",
     "status": "completed"
    },
    "tags": []
   },
   "outputs": [],
   "source": [
    "#def sample_by_year(df, training_size, random_state=42):\n",
    "#    if training_size == \"2014\":\n",
    "#        return df[df[\"year\"] == 2014].reset_index(drop=True)\n",
    "#    \n",
    "#    size_map = {\n",
    "#        \"25k\": 5000,\n",
    "#        \"5k\": 1000,\n",
    "#        \"1k\": 200\n",
    "#    }\n",
    "#\n",
    "#    if training_size not in size_map:\n",
    "#        return df.reset_index(drop=True)  # use all data\n",
    "#\n",
    "#    n_per_year = size_map[training_size]\n",
    "#    grouped = df.groupby(\"year\")\n",
    "#    sampled = grouped.apply(lambda x: x.sample(n=min(n_per_year, len(x)), random_state=random_state))\n",
    "#    return sampled.reset_index(drop=True)"
   ]
  },
  {
   "cell_type": "code",
   "execution_count": 25,
   "id": "6d931f52-beaf-43ff-9e78-9d44a448d54e",
   "metadata": {
    "execution": {
     "iopub.execute_input": "2025-07-30T20:51:08.097577Z",
     "iopub.status.busy": "2025-07-30T20:51:08.096877Z",
     "iopub.status.idle": "2025-07-30T20:51:08.102192Z",
     "shell.execute_reply": "2025-07-30T20:51:08.101154Z"
    },
    "papermill": {
     "duration": 0.028289,
     "end_time": "2025-07-30T20:51:08.104098",
     "exception": false,
     "start_time": "2025-07-30T20:51:08.075809",
     "status": "completed"
    },
    "tags": []
   },
   "outputs": [],
   "source": [
    "#siab_s = sample_by_year(siab, universe[\"training_size\"])"
   ]
  },
  {
   "cell_type": "code",
   "execution_count": 26,
   "id": "5db0a40e-a4e2-4920-be85-b12ae061d70d",
   "metadata": {
    "execution": {
     "iopub.execute_input": "2025-07-30T20:51:08.147020Z",
     "iopub.status.busy": "2025-07-30T20:51:08.146112Z",
     "iopub.status.idle": "2025-07-30T20:51:08.151750Z",
     "shell.execute_reply": "2025-07-30T20:51:08.150731Z"
    },
    "papermill": {
     "duration": 0.028477,
     "end_time": "2025-07-30T20:51:08.153419",
     "exception": false,
     "start_time": "2025-07-30T20:51:08.124942",
     "status": "completed"
    },
    "tags": []
   },
   "outputs": [],
   "source": [
    "#display(siab_s.groupby(\"year\").size())"
   ]
  },
  {
   "cell_type": "code",
   "execution_count": 27,
   "id": "e6c733c5",
   "metadata": {
    "execution": {
     "iopub.execute_input": "2025-07-30T20:51:08.196310Z",
     "iopub.status.busy": "2025-07-30T20:51:08.195624Z",
     "iopub.status.idle": "2025-07-30T20:51:08.293158Z",
     "shell.execute_reply": "2025-07-30T20:51:08.292253Z"
    },
    "papermill": {
     "duration": 0.120614,
     "end_time": "2025-07-30T20:51:08.295053",
     "exception": false,
     "start_time": "2025-07-30T20:51:08.174439",
     "status": "completed"
    },
    "tags": []
   },
   "outputs": [],
   "source": [
    "# Auxiliary data needed downstream in the pipeline\n",
    "\n",
    "org_train = X_train.copy()\n",
    "org_test = X_test.copy()\n",
    "org_calib = X_calib.copy()"
   ]
  },
  {
   "cell_type": "code",
   "execution_count": 28,
   "id": "1466abac-c6da-4492-a62f-4240ae3783af",
   "metadata": {
    "execution": {
     "iopub.execute_input": "2025-07-30T20:51:08.343354Z",
     "iopub.status.busy": "2025-07-30T20:51:08.342653Z",
     "iopub.status.idle": "2025-07-30T20:51:08.349024Z",
     "shell.execute_reply": "2025-07-30T20:51:08.348013Z"
    },
    "papermill": {
     "duration": 0.031704,
     "end_time": "2025-07-30T20:51:08.351919",
     "exception": false,
     "start_time": "2025-07-30T20:51:08.320215",
     "status": "completed"
    },
    "tags": []
   },
   "outputs": [],
   "source": [
    "# put in other script?\n",
    "# Group sizes\n",
    "\n",
    "#def calculate_percentages(df, df_name):\n",
    "#    total_entries = len(df)\n",
    "#\n",
    "#    female_pct = (df['frau1'] == 1).mean() * 100\n",
    "#    non_german_pct = ((df['maxdeutsch1'] == 0) & (df['maxdeutsch.Missing.'] == 0)).mean() * 100\n",
    "#    non_german_male_pct = ((df['frau1'] == 0) & (df['maxdeutsch1'] == 0) & (df['maxdeutsch.Missing.'] == 0)).mean() * 100\n",
    "#    non_german_female_pct = ((df['frau1'] == 1) & (df['maxdeutsch1'] == 0) & (df['maxdeutsch.Missing.'] == 0)).mean() * 100\n",
    "#\n",
    "#    print(f\"--- {df_name} ---\")\n",
    "#    print(f\"Female: {female_pct:.2f}%\")\n",
    "#    print(f\"Non-German: {non_german_pct:.2f}%\")\n",
    "#    print(f\"Non-German Male: {non_german_male_pct:.2f}%\")\n",
    "#    print(f\"Non-German Female: {non_german_female_pct:.2f}%\\n\")\n",
    "#\n",
    "## Calculate for each DataFrame\n",
    "#calculate_percentages(siab_calib, \"siab_calib\")\n",
    "#calculate_percentages(siab_test, \"siab_test\")\n",
    "#calculate_percentages(siab_train, \"siab_train\")"
   ]
  },
  {
   "cell_type": "markdown",
   "id": "0a4a1b33",
   "metadata": {
    "papermill": {
     "duration": 0.021721,
     "end_time": "2025-07-30T20:51:08.397314",
     "exception": false,
     "start_time": "2025-07-30T20:51:08.375593",
     "status": "completed"
    },
    "tags": []
   },
   "source": [
    "# Preprocessing Data"
   ]
  },
  {
   "cell_type": "code",
   "execution_count": 29,
   "id": "ca879031",
   "metadata": {
    "execution": {
     "iopub.execute_input": "2025-07-30T20:51:08.442562Z",
     "iopub.status.busy": "2025-07-30T20:51:08.441874Z",
     "iopub.status.idle": "2025-07-30T20:51:08.449397Z",
     "shell.execute_reply": "2025-07-30T20:51:08.448454Z"
    },
    "papermill": {
     "duration": 0.032091,
     "end_time": "2025-07-30T20:51:08.451356",
     "exception": false,
     "start_time": "2025-07-30T20:51:08.419265",
     "status": "completed"
    },
    "tags": []
   },
   "outputs": [],
   "source": [
    "# EXCLUDE PROTECTED FEATURES\n",
    "# ----------------------\n",
    "# \"exclude_features\": \"none\", # \"nationality\", \"sex\", \"nationality-sex\"\n",
    "\n",
    "excluded_features = universe[\"exclude_features\"].split(\"-\") # split, e.g.: \"nationality-sex\" -> [\"nationality\", \"sex\"]\n",
    "excluded_features_dictionary = {\n",
    "    \"nationality\": [\"maxdeutsch1\", \"maxdeutsch.Missing.\"],\n",
    "    \"sex\": [\"frau1\"],\n",
    "    \"age\": [\"age\"],\n",
    "}\n"
   ]
  },
  {
   "cell_type": "code",
   "execution_count": 30,
   "id": "b745ac60",
   "metadata": {
    "execution": {
     "iopub.execute_input": "2025-07-30T20:51:08.498629Z",
     "iopub.status.busy": "2025-07-30T20:51:08.498040Z",
     "iopub.status.idle": "2025-07-30T20:51:08.503762Z",
     "shell.execute_reply": "2025-07-30T20:51:08.502761Z"
    },
    "papermill": {
     "duration": 0.030568,
     "end_time": "2025-07-30T20:51:08.505748",
     "exception": false,
     "start_time": "2025-07-30T20:51:08.475180",
     "status": "completed"
    },
    "tags": []
   },
   "outputs": [],
   "source": [
    "# Code nice names to column names\n",
    "\n",
    "excluded_features_columns = [\n",
    "    excluded_features_dictionary[f] for f in excluded_features if len(f) > 0 and f != \"none\"\n",
    "]"
   ]
  },
  {
   "cell_type": "code",
   "execution_count": 31,
   "id": "f84f73a2",
   "metadata": {
    "execution": {
     "iopub.execute_input": "2025-07-30T20:51:08.552826Z",
     "iopub.status.busy": "2025-07-30T20:51:08.552368Z",
     "iopub.status.idle": "2025-07-30T20:51:08.558758Z",
     "shell.execute_reply": "2025-07-30T20:51:08.557807Z"
    },
    "papermill": {
     "duration": 0.031305,
     "end_time": "2025-07-30T20:51:08.560360",
     "exception": false,
     "start_time": "2025-07-30T20:51:08.529055",
     "status": "completed"
    },
    "tags": []
   },
   "outputs": [],
   "source": [
    "from utils import flatten_once\n",
    "\n",
    "excluded_features_columns = flatten_once(excluded_features_columns)"
   ]
  },
  {
   "cell_type": "code",
   "execution_count": 32,
   "id": "884dea22",
   "metadata": {
    "execution": {
     "iopub.execute_input": "2025-07-30T20:51:08.607014Z",
     "iopub.status.busy": "2025-07-30T20:51:08.606551Z",
     "iopub.status.idle": "2025-07-30T20:51:08.615025Z",
     "shell.execute_reply": "2025-07-30T20:51:08.614188Z"
    },
    "papermill": {
     "duration": 0.033629,
     "end_time": "2025-07-30T20:51:08.616622",
     "exception": false,
     "start_time": "2025-07-30T20:51:08.582993",
     "status": "completed"
    },
    "tags": []
   },
   "outputs": [
    {
     "name": "stdout",
     "output_type": "stream",
     "text": [
      "Dropping features: ['frau1']\n"
     ]
    }
   ],
   "source": [
    "if len(excluded_features_columns) > 0:\n",
    "    print(f\"Dropping features: {excluded_features_columns}\")\n",
    "    X_train.drop(excluded_features_columns, axis=1, inplace=True)"
   ]
  },
  {
   "cell_type": "code",
   "execution_count": 33,
   "id": "95ab8b16",
   "metadata": {
    "execution": {
     "iopub.execute_input": "2025-07-30T20:51:08.667941Z",
     "iopub.status.busy": "2025-07-30T20:51:08.667069Z",
     "iopub.status.idle": "2025-07-30T20:51:08.718964Z",
     "shell.execute_reply": "2025-07-30T20:51:08.717730Z"
    },
    "papermill": {
     "duration": 0.081088,
     "end_time": "2025-07-30T20:51:08.721069",
     "exception": false,
     "start_time": "2025-07-30T20:51:08.639981",
     "status": "completed"
    },
    "tags": []
   },
   "outputs": [
    {
     "name": "stdout",
     "output_type": "stream",
     "text": [
      "Dropping features: ['frau1']\n"
     ]
    }
   ],
   "source": [
    "if len(excluded_features_columns) > 0:\n",
    "    print(f\"Dropping features: {excluded_features_columns}\")\n",
    "    X_test.drop(excluded_features_columns, axis=1, inplace=True)"
   ]
  },
  {
   "cell_type": "code",
   "execution_count": 34,
   "id": "1853aaf5-fb9f-46cb-a2b5-8ea4ae2237e4",
   "metadata": {
    "execution": {
     "iopub.execute_input": "2025-07-30T20:51:08.773440Z",
     "iopub.status.busy": "2025-07-30T20:51:08.772923Z",
     "iopub.status.idle": "2025-07-30T20:51:08.827404Z",
     "shell.execute_reply": "2025-07-30T20:51:08.826401Z"
    },
    "papermill": {
     "duration": 0.084668,
     "end_time": "2025-07-30T20:51:08.829172",
     "exception": false,
     "start_time": "2025-07-30T20:51:08.744504",
     "status": "completed"
    },
    "tags": []
   },
   "outputs": [
    {
     "name": "stdout",
     "output_type": "stream",
     "text": [
      "Dropping features: ['frau1']\n"
     ]
    }
   ],
   "source": [
    "if len(excluded_features_columns) > 0:\n",
    "    print(f\"Dropping features: {excluded_features_columns}\")\n",
    "    X_calib.drop(excluded_features_columns, axis=1, inplace=True)"
   ]
  },
  {
   "cell_type": "code",
   "execution_count": 35,
   "id": "6727d079-03e5-481e-9d38-292a90b7a0a8",
   "metadata": {
    "execution": {
     "iopub.execute_input": "2025-07-30T20:51:08.877907Z",
     "iopub.status.busy": "2025-07-30T20:51:08.877177Z",
     "iopub.status.idle": "2025-07-30T20:51:08.882502Z",
     "shell.execute_reply": "2025-07-30T20:51:08.881554Z"
    },
    "papermill": {
     "duration": 0.032452,
     "end_time": "2025-07-30T20:51:08.884369",
     "exception": false,
     "start_time": "2025-07-30T20:51:08.851917",
     "status": "completed"
    },
    "tags": []
   },
   "outputs": [],
   "source": [
    "# SPLIT & STRATIFY DATA\n",
    "# ----------------------"
   ]
  },
  {
   "cell_type": "code",
   "execution_count": 36,
   "id": "76c4dc6d",
   "metadata": {
    "execution": {
     "iopub.execute_input": "2025-07-30T20:51:08.933469Z",
     "iopub.status.busy": "2025-07-30T20:51:08.932575Z",
     "iopub.status.idle": "2025-07-30T20:51:08.938271Z",
     "shell.execute_reply": "2025-07-30T20:51:08.937251Z"
    },
    "papermill": {
     "duration": 0.030924,
     "end_time": "2025-07-30T20:51:08.939756",
     "exception": false,
     "start_time": "2025-07-30T20:51:08.908832",
     "status": "completed"
    },
    "tags": []
   },
   "outputs": [],
   "source": [
    "# EXCLUDE CERTAIN SUBGROUPS\n",
    "# ----------------------\n",
    "\n",
    "mode = universe.get(\"exclude_subgroups\", \"keep-all\") \n",
    "# Fetches the exclude_subgroups setting from the universe dict.\n",
    "# Defaults to \"keep-all\" if the key is missing."
   ]
  },
  {
   "cell_type": "code",
   "execution_count": 37,
   "id": "21994072",
   "metadata": {
    "execution": {
     "iopub.execute_input": "2025-07-30T20:51:08.989552Z",
     "iopub.status.busy": "2025-07-30T20:51:08.988903Z",
     "iopub.status.idle": "2025-07-30T20:51:08.995791Z",
     "shell.execute_reply": "2025-07-30T20:51:08.994765Z"
    },
    "papermill": {
     "duration": 0.033552,
     "end_time": "2025-07-30T20:51:08.997551",
     "exception": false,
     "start_time": "2025-07-30T20:51:08.963999",
     "status": "completed"
    },
    "tags": []
   },
   "outputs": [],
   "source": [
    "if mode == \"keep-all\":\n",
    "    keep_mask = pd.Series(True, index=org_train.index)\n",
    "\n",
    "# org_train contains the original feature columns from features_org (in Simson)\n",
    "# features_org contains unprocessed features, for me X_train at beginning ???\n",
    "# For keep-all, creates a boolean Series (keep_mask) of all True, so no rows are removed.\n",
    "\n",
    "elif mode == \"drop-non-german\":\n",
    "    keep_mask = org_train[\"maxdeutsch1\"] == 1 # ??? what about missing values?\n",
    "\n",
    "else:\n",
    "    raise ValueError(f\"Unsupported mode for exclude_subgroups: {mode}\")\n"
   ]
  },
  {
   "cell_type": "code",
   "execution_count": 38,
   "id": "71651440",
   "metadata": {
    "execution": {
     "iopub.execute_input": "2025-07-30T20:51:09.061698Z",
     "iopub.status.busy": "2025-07-30T20:51:09.061163Z",
     "iopub.status.idle": "2025-07-30T20:51:09.068713Z",
     "shell.execute_reply": "2025-07-30T20:51:09.067781Z"
    },
    "papermill": {
     "duration": 0.049274,
     "end_time": "2025-07-30T20:51:09.070549",
     "exception": false,
     "start_time": "2025-07-30T20:51:09.021275",
     "status": "completed"
    },
    "tags": []
   },
   "outputs": [
    {
     "name": "stdout",
     "output_type": "stream",
     "text": [
      "Dropping 741 rows (14.82%) where mode='drop-non-german'\n"
     ]
    }
   ],
   "source": [
    "n_drop = (~keep_mask).sum() # Calculates how many rows are set to be dropped\n",
    "if n_drop > 0:\n",
    "    pct = n_drop / len(keep_mask) * 100\n",
    "    print(f\"Dropping {n_drop} rows ({pct:.2f}%) where mode='{mode}'\")"
   ]
  },
  {
   "cell_type": "code",
   "execution_count": 39,
   "id": "5fb8eee5",
   "metadata": {
    "execution": {
     "iopub.execute_input": "2025-07-30T20:51:09.117917Z",
     "iopub.status.busy": "2025-07-30T20:51:09.117397Z",
     "iopub.status.idle": "2025-07-30T20:51:09.125452Z",
     "shell.execute_reply": "2025-07-30T20:51:09.124489Z"
    },
    "papermill": {
     "duration": 0.032902,
     "end_time": "2025-07-30T20:51:09.127395",
     "exception": false,
     "start_time": "2025-07-30T20:51:09.094493",
     "status": "completed"
    },
    "tags": []
   },
   "outputs": [],
   "source": [
    "X_train = X_train[keep_mask]"
   ]
  },
  {
   "cell_type": "code",
   "execution_count": 40,
   "id": "b202bb3a",
   "metadata": {
    "execution": {
     "iopub.execute_input": "2025-07-30T20:51:09.173385Z",
     "iopub.status.busy": "2025-07-30T20:51:09.172863Z",
     "iopub.status.idle": "2025-07-30T20:51:09.178612Z",
     "shell.execute_reply": "2025-07-30T20:51:09.177759Z"
    },
    "papermill": {
     "duration": 0.030334,
     "end_time": "2025-07-30T20:51:09.180094",
     "exception": false,
     "start_time": "2025-07-30T20:51:09.149760",
     "status": "completed"
    },
    "tags": []
   },
   "outputs": [],
   "source": [
    "y_train = y_train[keep_mask]"
   ]
  },
  {
   "cell_type": "markdown",
   "id": "493e2ac3",
   "metadata": {
    "papermill": {
     "duration": 0.022075,
     "end_time": "2025-07-30T20:51:09.224314",
     "exception": false,
     "start_time": "2025-07-30T20:51:09.202239",
     "status": "completed"
    },
    "tags": []
   },
   "source": [
    "# Model Training"
   ]
  },
  {
   "cell_type": "code",
   "execution_count": 41,
   "id": "679e1268",
   "metadata": {
    "execution": {
     "iopub.execute_input": "2025-07-30T20:51:09.269396Z",
     "iopub.status.busy": "2025-07-30T20:51:09.268883Z",
     "iopub.status.idle": "2025-07-30T20:51:09.374209Z",
     "shell.execute_reply": "2025-07-30T20:51:09.373319Z"
    },
    "papermill": {
     "duration": 0.130334,
     "end_time": "2025-07-30T20:51:09.376156",
     "exception": false,
     "start_time": "2025-07-30T20:51:09.245822",
     "status": "completed"
    },
    "tags": []
   },
   "outputs": [],
   "source": [
    "from sklearn.linear_model import LogisticRegression\n",
    "from sklearn.ensemble import GradientBoostingClassifier, RandomForestClassifier\n",
    "\n",
    "if (universe[\"model\"] == \"logreg\"):\n",
    "    model = LogisticRegression() #penalty=\"none\") #, solver=\"newton-cg\", max_iter=1) # include random_state=19 ?\n",
    "elif (universe[\"model\"] == \"penalized_logreg\"):\n",
    "    model = LogisticRegression(penalty=\"l2\", C=1.0) #, solver=\"newton-cg\", max_iter=1)\n",
    "elif (universe[\"model\"] == \"rf\"):\n",
    "    model = RandomForestClassifier(n_estimators=100, n_jobs=-1)\n",
    "elif (universe[\"model\"] == \"gbm\"):\n",
    "    model = GradientBoostingClassifier()\n",
    "elif (universe[\"model\"] == \"elasticnet\"):\n",
    "    model = LogisticRegression(penalty = 'elasticnet', solver = 'saga', l1_ratio = 0.5, max_iter=5000) # which solver to use?\n",
    "else:\n",
    "    raise \"Unsupported universe.model\""
   ]
  },
  {
   "cell_type": "code",
   "execution_count": 42,
   "id": "0cc8f744",
   "metadata": {
    "execution": {
     "iopub.execute_input": "2025-07-30T20:51:09.421436Z",
     "iopub.status.busy": "2025-07-30T20:51:09.420791Z",
     "iopub.status.idle": "2025-07-30T20:51:09.427368Z",
     "shell.execute_reply": "2025-07-30T20:51:09.426448Z"
    },
    "papermill": {
     "duration": 0.031275,
     "end_time": "2025-07-30T20:51:09.429026",
     "exception": false,
     "start_time": "2025-07-30T20:51:09.397751",
     "status": "completed"
    },
    "tags": []
   },
   "outputs": [],
   "source": [
    "import numpy as np\n",
    "from sklearn.pipeline import Pipeline\n",
    "from sklearn.preprocessing import StandardScaler\n",
    "\n",
    "model = Pipeline([\n",
    "    #(\"continuous_processor\", continuous_processor),\n",
    "    #(\"categorical_preprocessor\", categorical_preprocessor),\n",
    "    (\"scale\", StandardScaler() if universe[\"scale\"] == \"scale\" else None), \n",
    "    (\"model\", model),\n",
    "])"
   ]
  },
  {
   "cell_type": "code",
   "execution_count": 43,
   "id": "9442c04d",
   "metadata": {
    "execution": {
     "iopub.execute_input": "2025-07-30T20:51:09.493229Z",
     "iopub.status.busy": "2025-07-30T20:51:09.492308Z",
     "iopub.status.idle": "2025-07-30T20:51:09.627207Z",
     "shell.execute_reply": "2025-07-30T20:51:09.626273Z"
    },
    "papermill": {
     "duration": 0.176056,
     "end_time": "2025-07-30T20:51:09.629025",
     "exception": false,
     "start_time": "2025-07-30T20:51:09.452969",
     "status": "completed"
    },
    "tags": []
   },
   "outputs": [
    {
     "name": "stderr",
     "output_type": "stream",
     "text": [
      "/dss/dsshome1/0C/ra93lal2/.local/share/virtualenvs/CMA_Fairness_v2-3j10GkSs/lib/python3.10/site-packages/sklearn/linear_model/_logistic.py:444: ConvergenceWarning: lbfgs failed to converge (status=1):\n",
      "STOP: TOTAL NO. of ITERATIONS REACHED LIMIT.\n",
      "\n",
      "Increase the number of iterations (max_iter) or scale the data as shown in:\n",
      "    https://scikit-learn.org/stable/modules/preprocessing.html\n",
      "Please also refer to the documentation for alternative solver options:\n",
      "    https://scikit-learn.org/stable/modules/linear_model.html#logistic-regression\n",
      "  n_iter_i = _check_optimize_result(\n"
     ]
    },
    {
     "data": {
      "text/html": [
       "<style>#sk-container-id-1 {color: black;background-color: white;}#sk-container-id-1 pre{padding: 0;}#sk-container-id-1 div.sk-toggleable {background-color: white;}#sk-container-id-1 label.sk-toggleable__label {cursor: pointer;display: block;width: 100%;margin-bottom: 0;padding: 0.3em;box-sizing: border-box;text-align: center;}#sk-container-id-1 label.sk-toggleable__label-arrow:before {content: \"▸\";float: left;margin-right: 0.25em;color: #696969;}#sk-container-id-1 label.sk-toggleable__label-arrow:hover:before {color: black;}#sk-container-id-1 div.sk-estimator:hover label.sk-toggleable__label-arrow:before {color: black;}#sk-container-id-1 div.sk-toggleable__content {max-height: 0;max-width: 0;overflow: hidden;text-align: left;background-color: #f0f8ff;}#sk-container-id-1 div.sk-toggleable__content pre {margin: 0.2em;color: black;border-radius: 0.25em;background-color: #f0f8ff;}#sk-container-id-1 input.sk-toggleable__control:checked~div.sk-toggleable__content {max-height: 200px;max-width: 100%;overflow: auto;}#sk-container-id-1 input.sk-toggleable__control:checked~label.sk-toggleable__label-arrow:before {content: \"▾\";}#sk-container-id-1 div.sk-estimator input.sk-toggleable__control:checked~label.sk-toggleable__label {background-color: #d4ebff;}#sk-container-id-1 div.sk-label input.sk-toggleable__control:checked~label.sk-toggleable__label {background-color: #d4ebff;}#sk-container-id-1 input.sk-hidden--visually {border: 0;clip: rect(1px 1px 1px 1px);clip: rect(1px, 1px, 1px, 1px);height: 1px;margin: -1px;overflow: hidden;padding: 0;position: absolute;width: 1px;}#sk-container-id-1 div.sk-estimator {font-family: monospace;background-color: #f0f8ff;border: 1px dotted black;border-radius: 0.25em;box-sizing: border-box;margin-bottom: 0.5em;}#sk-container-id-1 div.sk-estimator:hover {background-color: #d4ebff;}#sk-container-id-1 div.sk-parallel-item::after {content: \"\";width: 100%;border-bottom: 1px solid gray;flex-grow: 1;}#sk-container-id-1 div.sk-label:hover label.sk-toggleable__label {background-color: #d4ebff;}#sk-container-id-1 div.sk-serial::before {content: \"\";position: absolute;border-left: 1px solid gray;box-sizing: border-box;top: 0;bottom: 0;left: 50%;z-index: 0;}#sk-container-id-1 div.sk-serial {display: flex;flex-direction: column;align-items: center;background-color: white;padding-right: 0.2em;padding-left: 0.2em;position: relative;}#sk-container-id-1 div.sk-item {position: relative;z-index: 1;}#sk-container-id-1 div.sk-parallel {display: flex;align-items: stretch;justify-content: center;background-color: white;position: relative;}#sk-container-id-1 div.sk-item::before, #sk-container-id-1 div.sk-parallel-item::before {content: \"\";position: absolute;border-left: 1px solid gray;box-sizing: border-box;top: 0;bottom: 0;left: 50%;z-index: -1;}#sk-container-id-1 div.sk-parallel-item {display: flex;flex-direction: column;z-index: 1;position: relative;background-color: white;}#sk-container-id-1 div.sk-parallel-item:first-child::after {align-self: flex-end;width: 50%;}#sk-container-id-1 div.sk-parallel-item:last-child::after {align-self: flex-start;width: 50%;}#sk-container-id-1 div.sk-parallel-item:only-child::after {width: 0;}#sk-container-id-1 div.sk-dashed-wrapped {border: 1px dashed gray;margin: 0 0.4em 0.5em 0.4em;box-sizing: border-box;padding-bottom: 0.4em;background-color: white;}#sk-container-id-1 div.sk-label label {font-family: monospace;font-weight: bold;display: inline-block;line-height: 1.2em;}#sk-container-id-1 div.sk-label-container {text-align: center;}#sk-container-id-1 div.sk-container {/* jupyter's `normalize.less` sets `[hidden] { display: none; }` but bootstrap.min.css set `[hidden] { display: none !important; }` so we also need the `!important` here to be able to override the default hidden behavior on the sphinx rendered scikit-learn.org. See: https://github.com/scikit-learn/scikit-learn/issues/21755 */display: inline-block !important;position: relative;}#sk-container-id-1 div.sk-text-repr-fallback {display: none;}</style><div id=\"sk-container-id-1\" class=\"sk-top-container\"><div class=\"sk-text-repr-fallback\"><pre>Pipeline(steps=[(&#x27;scale&#x27;, None), (&#x27;model&#x27;, LogisticRegression())])</pre><b>In a Jupyter environment, please rerun this cell to show the HTML representation or trust the notebook. <br />On GitHub, the HTML representation is unable to render, please try loading this page with nbviewer.org.</b></div><div class=\"sk-container\" hidden><div class=\"sk-item sk-dashed-wrapped\"><div class=\"sk-label-container\"><div class=\"sk-label sk-toggleable\"><input class=\"sk-toggleable__control sk-hidden--visually\" id=\"sk-estimator-id-1\" type=\"checkbox\" ><label for=\"sk-estimator-id-1\" class=\"sk-toggleable__label sk-toggleable__label-arrow\">Pipeline</label><div class=\"sk-toggleable__content\"><pre>Pipeline(steps=[(&#x27;scale&#x27;, None), (&#x27;model&#x27;, LogisticRegression())])</pre></div></div></div><div class=\"sk-serial\"><div class=\"sk-item\"><div class=\"sk-estimator sk-toggleable\"><input class=\"sk-toggleable__control sk-hidden--visually\" id=\"sk-estimator-id-2\" type=\"checkbox\" ><label for=\"sk-estimator-id-2\" class=\"sk-toggleable__label sk-toggleable__label-arrow\">None</label><div class=\"sk-toggleable__content\"><pre>None</pre></div></div></div><div class=\"sk-item\"><div class=\"sk-estimator sk-toggleable\"><input class=\"sk-toggleable__control sk-hidden--visually\" id=\"sk-estimator-id-3\" type=\"checkbox\" ><label for=\"sk-estimator-id-3\" class=\"sk-toggleable__label sk-toggleable__label-arrow\">LogisticRegression</label><div class=\"sk-toggleable__content\"><pre>LogisticRegression()</pre></div></div></div></div></div></div></div>"
      ],
      "text/plain": [
       "Pipeline(steps=[('scale', None), ('model', LogisticRegression())])"
      ]
     },
     "execution_count": 43,
     "metadata": {},
     "output_type": "execute_result"
    }
   ],
   "source": [
    "model.fit(X_train, y_train.values.ravel())"
   ]
  },
  {
   "cell_type": "code",
   "execution_count": 44,
   "id": "af59f8c0",
   "metadata": {
    "execution": {
     "iopub.execute_input": "2025-07-30T20:51:09.674672Z",
     "iopub.status.busy": "2025-07-30T20:51:09.674178Z",
     "iopub.status.idle": "2025-07-30T20:51:09.679705Z",
     "shell.execute_reply": "2025-07-30T20:51:09.678625Z"
    },
    "papermill": {
     "duration": 0.030352,
     "end_time": "2025-07-30T20:51:09.681632",
     "exception": false,
     "start_time": "2025-07-30T20:51:09.651280",
     "status": "completed"
    },
    "tags": []
   },
   "outputs": [],
   "source": [
    "from fairness_multiverse.universe import predict_w_threshold"
   ]
  },
  {
   "cell_type": "code",
   "execution_count": 45,
   "id": "a7cf2e16",
   "metadata": {
    "execution": {
     "iopub.execute_input": "2025-07-30T20:51:09.729028Z",
     "iopub.status.busy": "2025-07-30T20:51:09.728625Z",
     "iopub.status.idle": "2025-07-30T20:51:09.832899Z",
     "shell.execute_reply": "2025-07-30T20:51:09.831843Z"
    },
    "papermill": {
     "duration": 0.130115,
     "end_time": "2025-07-30T20:51:09.834810",
     "exception": false,
     "start_time": "2025-07-30T20:51:09.704695",
     "status": "completed"
    },
    "tags": []
   },
   "outputs": [
    {
     "data": {
      "text/plain": [
       "0.8596589009029094"
      ]
     },
     "execution_count": 45,
     "metadata": {},
     "output_type": "execute_result"
    }
   ],
   "source": [
    "probs_test = model.predict_proba(X_test)\n",
    "\n",
    "'''\n",
    "Below code returns a boolean array (or binary 0/1 array depending on how it’s used) where each element \n",
    "is True if the probability of class 1 is greater than or equal to the threshold, and False otherwise.\n",
    "'''\n",
    "y_pred_default = predict_w_threshold(probs_test, 0.5)\n",
    "\n",
    "from sklearn.metrics import accuracy_score\n",
    "\n",
    "# Naive prediction\n",
    "accuracy_score(y_true = y_true, y_pred = y_pred_default)"
   ]
  },
  {
   "cell_type": "code",
   "execution_count": 46,
   "id": "081964c3",
   "metadata": {
    "execution": {
     "iopub.execute_input": "2025-07-30T20:51:09.897318Z",
     "iopub.status.busy": "2025-07-30T20:51:09.896821Z",
     "iopub.status.idle": "2025-07-30T20:51:09.984225Z",
     "shell.execute_reply": "2025-07-30T20:51:09.983221Z"
    },
    "papermill": {
     "duration": 0.127336,
     "end_time": "2025-07-30T20:51:09.985915",
     "exception": false,
     "start_time": "2025-07-30T20:51:09.858579",
     "status": "completed"
    },
    "tags": []
   },
   "outputs": [
    {
     "data": {
      "text/plain": [
       "array([0, 0, 0, ..., 0, 0, 0])"
      ]
     },
     "execution_count": 46,
     "metadata": {},
     "output_type": "execute_result"
    }
   ],
   "source": [
    "model.predict(X_test)"
   ]
  },
  {
   "cell_type": "markdown",
   "id": "56c9705b",
   "metadata": {
    "papermill": {
     "duration": 0.022405,
     "end_time": "2025-07-30T20:51:10.031207",
     "exception": false,
     "start_time": "2025-07-30T20:51:10.008802",
     "status": "completed"
    },
    "tags": []
   },
   "source": [
    "# Conformal Prediction"
   ]
  },
  {
   "cell_type": "code",
   "execution_count": 47,
   "id": "160ec6ff",
   "metadata": {
    "execution": {
     "iopub.execute_input": "2025-07-30T20:51:10.078615Z",
     "iopub.status.busy": "2025-07-30T20:51:10.077618Z",
     "iopub.status.idle": "2025-07-30T20:51:10.084687Z",
     "shell.execute_reply": "2025-07-30T20:51:10.083446Z"
    },
    "papermill": {
     "duration": 0.044627,
     "end_time": "2025-07-30T20:51:10.098089",
     "exception": false,
     "start_time": "2025-07-30T20:51:10.053462",
     "status": "completed"
    },
    "tags": []
   },
   "outputs": [],
   "source": [
    "# Miscoverage level for conformal prediction (10% allowed error rate => 90% target coverage)\n",
    "alpha = 0.1"
   ]
  },
  {
   "cell_type": "code",
   "execution_count": 48,
   "id": "eadf4555-3dd3-440e-8e35-f82a4ad9f855",
   "metadata": {
    "execution": {
     "iopub.execute_input": "2025-07-30T20:51:10.146420Z",
     "iopub.status.busy": "2025-07-30T20:51:10.145917Z",
     "iopub.status.idle": "2025-07-30T20:51:10.272374Z",
     "shell.execute_reply": "2025-07-30T20:51:10.271457Z"
    },
    "papermill": {
     "duration": 0.151371,
     "end_time": "2025-07-30T20:51:10.274140",
     "exception": false,
     "start_time": "2025-07-30T20:51:10.122769",
     "status": "completed"
    },
    "tags": []
   },
   "outputs": [],
   "source": [
    "probs_calib = model.predict_proba(X_calib)"
   ]
  },
  {
   "cell_type": "code",
   "execution_count": 49,
   "id": "2ed93547-6d5d-4983-9b36-1ecb300da49a",
   "metadata": {
    "execution": {
     "iopub.execute_input": "2025-07-30T20:51:10.324517Z",
     "iopub.status.busy": "2025-07-30T20:51:10.323713Z",
     "iopub.status.idle": "2025-07-30T20:51:10.329591Z",
     "shell.execute_reply": "2025-07-30T20:51:10.328582Z"
    },
    "papermill": {
     "duration": 0.032089,
     "end_time": "2025-07-30T20:51:10.331311",
     "exception": false,
     "start_time": "2025-07-30T20:51:10.299222",
     "status": "completed"
    },
    "tags": []
   },
   "outputs": [],
   "source": [
    "y_calib = y_calib.values.ravel().astype(int)"
   ]
  },
  {
   "cell_type": "code",
   "execution_count": 50,
   "id": "65d1320d-f588-4b38-9072-62af1ae97f7d",
   "metadata": {
    "execution": {
     "iopub.execute_input": "2025-07-30T20:51:10.380573Z",
     "iopub.status.busy": "2025-07-30T20:51:10.379924Z",
     "iopub.status.idle": "2025-07-30T20:51:10.387626Z",
     "shell.execute_reply": "2025-07-30T20:51:10.386655Z"
    },
    "papermill": {
     "duration": 0.034581,
     "end_time": "2025-07-30T20:51:10.389360",
     "exception": false,
     "start_time": "2025-07-30T20:51:10.354779",
     "status": "completed"
    },
    "tags": []
   },
   "outputs": [],
   "source": [
    "from fairness_multiverse.conformal import compute_nc_scores\n",
    "\n",
    "# Compute nonconformity scores on calibration set (1 - probability of true class)\n",
    "nc_scores = compute_nc_scores(probs_calib, y_calib)"
   ]
  },
  {
   "cell_type": "code",
   "execution_count": 51,
   "id": "df3b8ca3-53b7-43d5-9667-7c85da7aeda2",
   "metadata": {
    "execution": {
     "iopub.execute_input": "2025-07-30T20:51:10.437109Z",
     "iopub.status.busy": "2025-07-30T20:51:10.436555Z",
     "iopub.status.idle": "2025-07-30T20:51:10.443777Z",
     "shell.execute_reply": "2025-07-30T20:51:10.442765Z"
    },
    "papermill": {
     "duration": 0.033005,
     "end_time": "2025-07-30T20:51:10.445453",
     "exception": false,
     "start_time": "2025-07-30T20:51:10.412448",
     "status": "completed"
    },
    "tags": []
   },
   "outputs": [],
   "source": [
    "from fairness_multiverse.conformal import find_threshold\n",
    "\n",
    "# Find conformal threshold q_hat for the given alpha (split conformal method)\n",
    "q_hat = find_threshold(nc_scores, alpha)"
   ]
  },
  {
   "cell_type": "code",
   "execution_count": 52,
   "id": "4d29e6c1-0ef6-4aa4-b8fe-4fe79b0d033a",
   "metadata": {
    "execution": {
     "iopub.execute_input": "2025-07-30T20:51:10.493867Z",
     "iopub.status.busy": "2025-07-30T20:51:10.492897Z",
     "iopub.status.idle": "2025-07-30T20:51:10.500008Z",
     "shell.execute_reply": "2025-07-30T20:51:10.499061Z"
    },
    "papermill": {
     "duration": 0.032759,
     "end_time": "2025-07-30T20:51:10.501498",
     "exception": false,
     "start_time": "2025-07-30T20:51:10.468739",
     "status": "completed"
    },
    "tags": []
   },
   "outputs": [
    {
     "data": {
      "text/plain": [
       "0.6678258571934361"
      ]
     },
     "execution_count": 52,
     "metadata": {},
     "output_type": "execute_result"
    }
   ],
   "source": [
    "q_hat"
   ]
  },
  {
   "cell_type": "code",
   "execution_count": 53,
   "id": "92460794-cdac-4be2-ba28-f28c0515a6fb",
   "metadata": {
    "execution": {
     "iopub.execute_input": "2025-07-30T20:51:10.550538Z",
     "iopub.status.busy": "2025-07-30T20:51:10.548735Z",
     "iopub.status.idle": "2025-07-30T20:51:11.736812Z",
     "shell.execute_reply": "2025-07-30T20:51:11.735601Z"
    },
    "papermill": {
     "duration": 1.215003,
     "end_time": "2025-07-30T20:51:11.739405",
     "exception": false,
     "start_time": "2025-07-30T20:51:10.524402",
     "status": "completed"
    },
    "tags": []
   },
   "outputs": [],
   "source": [
    "from fairness_multiverse.conformal import predict_conformal_sets\n",
    "\n",
    "# Generate prediction sets for each test example\n",
    "pred_sets = predict_conformal_sets(model, X_test, q_hat)"
   ]
  },
  {
   "cell_type": "code",
   "execution_count": 54,
   "id": "d90c9a65-e6db-4f5d-80cd-e68fb7e46829",
   "metadata": {
    "execution": {
     "iopub.execute_input": "2025-07-30T20:51:11.804310Z",
     "iopub.status.busy": "2025-07-30T20:51:11.803676Z",
     "iopub.status.idle": "2025-07-30T20:51:11.811118Z",
     "shell.execute_reply": "2025-07-30T20:51:11.810026Z"
    },
    "papermill": {
     "duration": 0.048206,
     "end_time": "2025-07-30T20:51:11.813650",
     "exception": false,
     "start_time": "2025-07-30T20:51:11.765444",
     "status": "completed"
    },
    "tags": []
   },
   "outputs": [],
   "source": [
    "y_true = y_true.squeeze()"
   ]
  },
  {
   "cell_type": "code",
   "execution_count": 55,
   "id": "3a58a54a-1e68-46b9-927a-df01f18aebc8",
   "metadata": {
    "execution": {
     "iopub.execute_input": "2025-07-30T20:51:11.889566Z",
     "iopub.status.busy": "2025-07-30T20:51:11.889061Z",
     "iopub.status.idle": "2025-07-30T20:51:12.862853Z",
     "shell.execute_reply": "2025-07-30T20:51:12.861943Z"
    },
    "papermill": {
     "duration": 1.014789,
     "end_time": "2025-07-30T20:51:12.864905",
     "exception": false,
     "start_time": "2025-07-30T20:51:11.850116",
     "status": "completed"
    },
    "tags": []
   },
   "outputs": [],
   "source": [
    "from fairness_multiverse.conformal import evaluate_sets\n",
    "\n",
    "# Evaluate coverage and average set size on test data\n",
    "metrics = evaluate_sets(pred_sets, y_true)"
   ]
  },
  {
   "cell_type": "markdown",
   "id": "2b569c12-9aaa-4c88-98c9-bbcd0cf3ebb8",
   "metadata": {
    "papermill": {
     "duration": 0.024732,
     "end_time": "2025-07-30T20:51:12.918187",
     "exception": false,
     "start_time": "2025-07-30T20:51:12.893455",
     "status": "completed"
    },
    "tags": []
   },
   "source": [
    "# CP Metrics"
   ]
  },
  {
   "cell_type": "code",
   "execution_count": 56,
   "id": "5ce0a5cb-201f-45a0-ade5-94c7f0bd6095",
   "metadata": {
    "execution": {
     "iopub.execute_input": "2025-07-30T20:51:12.968204Z",
     "iopub.status.busy": "2025-07-30T20:51:12.967648Z",
     "iopub.status.idle": "2025-07-30T20:51:12.976287Z",
     "shell.execute_reply": "2025-07-30T20:51:12.975029Z"
    },
    "papermill": {
     "duration": 0.036106,
     "end_time": "2025-07-30T20:51:12.978297",
     "exception": false,
     "start_time": "2025-07-30T20:51:12.942191",
     "status": "completed"
    },
    "tags": []
   },
   "outputs": [
    {
     "data": {
      "text/plain": [
       "{'coverage': 0.9111247352580537, 'avg_size': 1.2174005127633485}"
      ]
     },
     "execution_count": 56,
     "metadata": {},
     "output_type": "execute_result"
    }
   ],
   "source": [
    "metrics"
   ]
  },
  {
   "cell_type": "code",
   "execution_count": 57,
   "id": "9b9a838d-31c9-430b-ae14-12baee460d17",
   "metadata": {
    "execution": {
     "iopub.execute_input": "2025-07-30T20:51:13.030951Z",
     "iopub.status.busy": "2025-07-30T20:51:13.030530Z",
     "iopub.status.idle": "2025-07-30T20:51:13.039184Z",
     "shell.execute_reply": "2025-07-30T20:51:13.037908Z"
    },
    "papermill": {
     "duration": 0.035358,
     "end_time": "2025-07-30T20:51:13.040804",
     "exception": false,
     "start_time": "2025-07-30T20:51:13.005446",
     "status": "completed"
    },
    "tags": []
   },
   "outputs": [],
   "source": [
    "example_universe = universe.copy()\n",
    "universe_training_year = example_universe.get(\"training_year\")\n",
    "universe_training_size = example_universe.get(\"training_size\")\n",
    "universe_scale = example_universe.get(\"scale\")\n",
    "universe_model = example_universe.get(\"model\")\n",
    "universe_exclude_features = example_universe.get(\"exclude_features\")\n",
    "universe_exclude_subgroups = example_universe.get(\"exclude_subgroups\")"
   ]
  },
  {
   "cell_type": "code",
   "execution_count": 58,
   "id": "f4b6a8ac-9dc0-4245-8a91-5b3b5999c4f9",
   "metadata": {
    "execution": {
     "iopub.execute_input": "2025-07-30T20:51:13.089277Z",
     "iopub.status.busy": "2025-07-30T20:51:13.088796Z",
     "iopub.status.idle": "2025-07-30T20:51:13.095366Z",
     "shell.execute_reply": "2025-07-30T20:51:13.094351Z"
    },
    "papermill": {
     "duration": 0.031886,
     "end_time": "2025-07-30T20:51:13.096840",
     "exception": false,
     "start_time": "2025-07-30T20:51:13.064954",
     "status": "completed"
    },
    "tags": []
   },
   "outputs": [],
   "source": [
    "cp_metrics_dict = {\n",
    "    \"universe_id\": [universe_id],\n",
    "    \"universe_training_year\": [universe_training_year],\n",
    "    \"universe_training_size\": [universe_training_size],\n",
    "    \"universe_scale\": [universe_scale],\n",
    "    \"universe_model\": [universe_model],\n",
    "    \"universe_exclude_features\": [universe_exclude_features],\n",
    "    \"universe_exclude_subgroups\": [universe_exclude_subgroups],\n",
    "    \"q_hat\": [q_hat],\n",
    "    \"coverage\": [metrics[\"coverage\"]],\n",
    "    \"avg_size\": [metrics[\"avg_size\"]],\n",
    "}"
   ]
  },
  {
   "cell_type": "code",
   "execution_count": 59,
   "id": "908acbb1-0371-4915-85ca-3fa520d2efe2",
   "metadata": {
    "execution": {
     "iopub.execute_input": "2025-07-30T20:51:13.145226Z",
     "iopub.status.busy": "2025-07-30T20:51:13.144696Z",
     "iopub.status.idle": "2025-07-30T20:51:13.153454Z",
     "shell.execute_reply": "2025-07-30T20:51:13.152180Z"
    },
    "papermill": {
     "duration": 0.033943,
     "end_time": "2025-07-30T20:51:13.154951",
     "exception": false,
     "start_time": "2025-07-30T20:51:13.121008",
     "status": "completed"
    },
    "tags": []
   },
   "outputs": [
    {
     "data": {
      "text/plain": [
       "{'universe_id': ['33a06c71bc0756f3b6dc54e01ef1272f'],\n",
       " 'universe_training_year': ['2014'],\n",
       " 'universe_training_size': ['5k'],\n",
       " 'universe_scale': ['do-not-scale'],\n",
       " 'universe_model': ['logreg'],\n",
       " 'universe_exclude_features': ['sex'],\n",
       " 'universe_exclude_subgroups': ['drop-non-german'],\n",
       " 'q_hat': [0.6678258571934361],\n",
       " 'coverage': [0.9111247352580537],\n",
       " 'avg_size': [1.2174005127633485]}"
      ]
     },
     "execution_count": 59,
     "metadata": {},
     "output_type": "execute_result"
    }
   ],
   "source": [
    "cp_metrics_dict"
   ]
  },
  {
   "cell_type": "code",
   "execution_count": 60,
   "id": "33007efc-14e9-4ec6-97ac-56a455c82265",
   "metadata": {
    "execution": {
     "iopub.execute_input": "2025-07-30T20:51:13.205524Z",
     "iopub.status.busy": "2025-07-30T20:51:13.205008Z",
     "iopub.status.idle": "2025-07-30T20:51:13.211125Z",
     "shell.execute_reply": "2025-07-30T20:51:13.210376Z"
    },
    "papermill": {
     "duration": 0.032228,
     "end_time": "2025-07-30T20:51:13.212282",
     "exception": false,
     "start_time": "2025-07-30T20:51:13.180054",
     "status": "completed"
    },
    "tags": []
   },
   "outputs": [],
   "source": [
    "cp_metrics_df = pd.DataFrame(cp_metrics_dict)"
   ]
  },
  {
   "cell_type": "code",
   "execution_count": 61,
   "id": "db12611b-57b2-4910-b9d0-355adfd6e7bf",
   "metadata": {
    "execution": {
     "iopub.execute_input": "2025-07-30T20:51:13.242497Z",
     "iopub.status.busy": "2025-07-30T20:51:13.242045Z",
     "iopub.status.idle": "2025-07-30T20:51:13.290876Z",
     "shell.execute_reply": "2025-07-30T20:51:13.290078Z"
    },
    "papermill": {
     "duration": 0.065534,
     "end_time": "2025-07-30T20:51:13.292263",
     "exception": false,
     "start_time": "2025-07-30T20:51:13.226729",
     "status": "completed"
    },
    "tags": []
   },
   "outputs": [
    {
     "data": {
      "text/html": [
       "<div>\n",
       "<style scoped>\n",
       "    .dataframe tbody tr th:only-of-type {\n",
       "        vertical-align: middle;\n",
       "    }\n",
       "\n",
       "    .dataframe tbody tr th {\n",
       "        vertical-align: top;\n",
       "    }\n",
       "\n",
       "    .dataframe thead th {\n",
       "        text-align: right;\n",
       "    }\n",
       "</style>\n",
       "<table border=\"1\" class=\"dataframe\">\n",
       "  <thead>\n",
       "    <tr style=\"text-align: right;\">\n",
       "      <th></th>\n",
       "      <th>universe_id</th>\n",
       "      <th>universe_training_year</th>\n",
       "      <th>universe_training_size</th>\n",
       "      <th>universe_scale</th>\n",
       "      <th>universe_model</th>\n",
       "      <th>universe_exclude_features</th>\n",
       "      <th>universe_exclude_subgroups</th>\n",
       "      <th>q_hat</th>\n",
       "      <th>coverage</th>\n",
       "      <th>avg_size</th>\n",
       "    </tr>\n",
       "  </thead>\n",
       "  <tbody>\n",
       "    <tr>\n",
       "      <th>0</th>\n",
       "      <td>33a06c71bc0756f3b6dc54e01ef1272f</td>\n",
       "      <td>2014</td>\n",
       "      <td>5k</td>\n",
       "      <td>do-not-scale</td>\n",
       "      <td>logreg</td>\n",
       "      <td>sex</td>\n",
       "      <td>drop-non-german</td>\n",
       "      <td>0.667826</td>\n",
       "      <td>0.911125</td>\n",
       "      <td>1.217401</td>\n",
       "    </tr>\n",
       "  </tbody>\n",
       "</table>\n",
       "</div>"
      ],
      "text/plain": [
       "                        universe_id universe_training_year  \\\n",
       "0  33a06c71bc0756f3b6dc54e01ef1272f                   2014   \n",
       "\n",
       "  universe_training_size universe_scale universe_model  \\\n",
       "0                     5k   do-not-scale         logreg   \n",
       "\n",
       "  universe_exclude_features universe_exclude_subgroups     q_hat  coverage  \\\n",
       "0                       sex            drop-non-german  0.667826  0.911125   \n",
       "\n",
       "   avg_size  \n",
       "0  1.217401  "
      ]
     },
     "execution_count": 61,
     "metadata": {},
     "output_type": "execute_result"
    }
   ],
   "source": [
    "cp_metrics_df"
   ]
  },
  {
   "cell_type": "code",
   "execution_count": 62,
   "id": "b7fbde55-a0a1-47e4-9af6-fe4a17fa8c61",
   "metadata": {
    "execution": {
     "iopub.execute_input": "2025-07-30T20:51:13.321510Z",
     "iopub.status.busy": "2025-07-30T20:51:13.321169Z",
     "iopub.status.idle": "2025-07-30T20:51:13.325151Z",
     "shell.execute_reply": "2025-07-30T20:51:13.324429Z"
    },
    "papermill": {
     "duration": 0.020121,
     "end_time": "2025-07-30T20:51:13.326344",
     "exception": false,
     "start_time": "2025-07-30T20:51:13.306223",
     "status": "completed"
    },
    "tags": []
   },
   "outputs": [],
   "source": [
    "# Conditional Coverage & looking at subgroups"
   ]
  },
  {
   "cell_type": "code",
   "execution_count": 63,
   "id": "027ae886-68dd-4141-96c7-805a5450e1ef",
   "metadata": {
    "execution": {
     "iopub.execute_input": "2025-07-30T20:51:13.357463Z",
     "iopub.status.busy": "2025-07-30T20:51:13.357125Z",
     "iopub.status.idle": "2025-07-30T20:51:13.602099Z",
     "shell.execute_reply": "2025-07-30T20:51:13.601075Z"
    },
    "papermill": {
     "duration": 0.262795,
     "end_time": "2025-07-30T20:51:13.603879",
     "exception": false,
     "start_time": "2025-07-30T20:51:13.341084",
     "status": "completed"
    },
    "tags": []
   },
   "outputs": [],
   "source": [
    "from fairness_multiverse.conformal import build_cp_groups\n",
    "\n",
    "cp_groups_df = build_cp_groups(pred_sets, y_true, X_test.index, org_test)\n",
    "#needs universe_id and setting"
   ]
  },
  {
   "cell_type": "code",
   "execution_count": 64,
   "id": "01d5802c-663a-4d1f-9d69-e036faaffbf7",
   "metadata": {
    "execution": {
     "iopub.execute_input": "2025-07-30T20:51:13.673320Z",
     "iopub.status.busy": "2025-07-30T20:51:13.672830Z",
     "iopub.status.idle": "2025-07-30T20:51:13.678757Z",
     "shell.execute_reply": "2025-07-30T20:51:13.677853Z"
    },
    "papermill": {
     "duration": 0.037336,
     "end_time": "2025-07-30T20:51:13.680392",
     "exception": false,
     "start_time": "2025-07-30T20:51:13.643056",
     "status": "completed"
    },
    "tags": []
   },
   "outputs": [],
   "source": [
    "#delete\n",
    "#cp_groups_df"
   ]
  },
  {
   "cell_type": "code",
   "execution_count": 65,
   "id": "fa424af1-d1eb-443d-b717-2d279ada8408",
   "metadata": {
    "execution": {
     "iopub.execute_input": "2025-07-30T20:51:13.731476Z",
     "iopub.status.busy": "2025-07-30T20:51:13.730893Z",
     "iopub.status.idle": "2025-07-30T20:51:13.735822Z",
     "shell.execute_reply": "2025-07-30T20:51:13.734913Z"
    },
    "papermill": {
     "duration": 0.031335,
     "end_time": "2025-07-30T20:51:13.737462",
     "exception": false,
     "start_time": "2025-07-30T20:51:13.706127",
     "status": "completed"
    },
    "tags": []
   },
   "outputs": [],
   "source": [
    "#delete\n",
    "#percentage = (cp_groups_df['nongerman_female'] == 1).mean() * 100\n",
    "#print(percentage)\n"
   ]
  },
  {
   "cell_type": "code",
   "execution_count": 66,
   "id": "6cbdab96-b2b2-45af-ad54-d0516db2e28d",
   "metadata": {
    "execution": {
     "iopub.execute_input": "2025-07-30T20:51:13.791502Z",
     "iopub.status.busy": "2025-07-30T20:51:13.790801Z",
     "iopub.status.idle": "2025-07-30T20:51:15.312007Z",
     "shell.execute_reply": "2025-07-30T20:51:15.311156Z"
    },
    "papermill": {
     "duration": 1.550371,
     "end_time": "2025-07-30T20:51:15.313452",
     "exception": false,
     "start_time": "2025-07-30T20:51:13.763081",
     "status": "completed"
    },
    "tags": []
   },
   "outputs": [],
   "source": [
    "# Define covered = 1 if true_label is in the predicted set\n",
    "cp_groups_df['covered'] = cp_groups_df.apply(\n",
    "    lambda r: int(r['true_label'] in r['pred_set']),\n",
    "    axis=1\n",
    ")"
   ]
  },
  {
   "cell_type": "code",
   "execution_count": 67,
   "id": "338ff529-1a6b-4b87-a931-8e4788d52aad",
   "metadata": {
    "execution": {
     "iopub.execute_input": "2025-07-30T20:51:15.346445Z",
     "iopub.status.busy": "2025-07-30T20:51:15.346127Z",
     "iopub.status.idle": "2025-07-30T20:51:15.350133Z",
     "shell.execute_reply": "2025-07-30T20:51:15.349426Z"
    },
    "papermill": {
     "duration": 0.022688,
     "end_time": "2025-07-30T20:51:15.351317",
     "exception": false,
     "start_time": "2025-07-30T20:51:15.328629",
     "status": "completed"
    },
    "tags": []
   },
   "outputs": [],
   "source": [
    "#cp_groups_df"
   ]
  },
  {
   "cell_type": "code",
   "execution_count": 68,
   "id": "90032e27-66df-4540-9169-4e89cfbaa758",
   "metadata": {
    "execution": {
     "iopub.execute_input": "2025-07-30T20:51:15.407190Z",
     "iopub.status.busy": "2025-07-30T20:51:15.406757Z",
     "iopub.status.idle": "2025-07-30T20:51:15.418408Z",
     "shell.execute_reply": "2025-07-30T20:51:15.417201Z"
    },
    "papermill": {
     "duration": 0.048018,
     "end_time": "2025-07-30T20:51:15.425304",
     "exception": false,
     "start_time": "2025-07-30T20:51:15.377286",
     "status": "completed"
    },
    "tags": []
   },
   "outputs": [],
   "source": [
    "subgroups = ['frau1','nongerman','nongerman_male','nongerman_female']\n",
    "\n",
    "# Conditional coverage for subgroup==1\n",
    "cond_coverage = {\n",
    "    g: cp_groups_df.loc[cp_groups_df[g]==1, 'covered'].mean()\n",
    "    for g in subgroups\n",
    "}"
   ]
  },
  {
   "cell_type": "code",
   "execution_count": 69,
   "id": "1e348fb1-b9c3-45bc-ba23-f016827a7e0d",
   "metadata": {
    "execution": {
     "iopub.execute_input": "2025-07-30T20:51:15.487306Z",
     "iopub.status.busy": "2025-07-30T20:51:15.486886Z",
     "iopub.status.idle": "2025-07-30T20:51:15.494317Z",
     "shell.execute_reply": "2025-07-30T20:51:15.493376Z"
    },
    "papermill": {
     "duration": 0.039912,
     "end_time": "2025-07-30T20:51:15.496018",
     "exception": false,
     "start_time": "2025-07-30T20:51:15.456106",
     "status": "completed"
    },
    "tags": []
   },
   "outputs": [
    {
     "data": {
      "text/plain": [
       "{'frau1': 0.9085591050006739,\n",
       " 'nongerman': 0.9361702127659575,\n",
       " 'nongerman_male': 0.949022786634243,\n",
       " 'nongerman_female': 0.914903129657228}"
      ]
     },
     "execution_count": 69,
     "metadata": {},
     "output_type": "execute_result"
    }
   ],
   "source": [
    "cond_coverage"
   ]
  },
  {
   "cell_type": "code",
   "execution_count": 70,
   "id": "f5093324-c3dd-4d63-bc4c-8d945e5c8bbb",
   "metadata": {
    "execution": {
     "iopub.execute_input": "2025-07-30T20:51:15.534437Z",
     "iopub.status.busy": "2025-07-30T20:51:15.534029Z",
     "iopub.status.idle": "2025-07-30T20:51:15.539559Z",
     "shell.execute_reply": "2025-07-30T20:51:15.538718Z"
    },
    "papermill": {
     "duration": 0.021534,
     "end_time": "2025-07-30T20:51:15.541164",
     "exception": false,
     "start_time": "2025-07-30T20:51:15.519630",
     "status": "completed"
    },
    "tags": []
   },
   "outputs": [],
   "source": [
    "for subgroup, cov in cond_coverage.items():\n",
    "    cp_metrics_df[f\"cov_{subgroup}\"] = cov"
   ]
  },
  {
   "cell_type": "code",
   "execution_count": 71,
   "id": "6e872e10-dbe5-49e8-b554-5030c98ff75d",
   "metadata": {
    "execution": {
     "iopub.execute_input": "2025-07-30T20:51:15.615111Z",
     "iopub.status.busy": "2025-07-30T20:51:15.614629Z",
     "iopub.status.idle": "2025-07-30T20:51:15.633969Z",
     "shell.execute_reply": "2025-07-30T20:51:15.632953Z"
    },
    "papermill": {
     "duration": 0.058388,
     "end_time": "2025-07-30T20:51:15.635500",
     "exception": false,
     "start_time": "2025-07-30T20:51:15.577112",
     "status": "completed"
    },
    "tags": []
   },
   "outputs": [
    {
     "data": {
      "text/html": [
       "<div>\n",
       "<style scoped>\n",
       "    .dataframe tbody tr th:only-of-type {\n",
       "        vertical-align: middle;\n",
       "    }\n",
       "\n",
       "    .dataframe tbody tr th {\n",
       "        vertical-align: top;\n",
       "    }\n",
       "\n",
       "    .dataframe thead th {\n",
       "        text-align: right;\n",
       "    }\n",
       "</style>\n",
       "<table border=\"1\" class=\"dataframe\">\n",
       "  <thead>\n",
       "    <tr style=\"text-align: right;\">\n",
       "      <th></th>\n",
       "      <th>universe_id</th>\n",
       "      <th>universe_training_year</th>\n",
       "      <th>universe_training_size</th>\n",
       "      <th>universe_scale</th>\n",
       "      <th>universe_model</th>\n",
       "      <th>universe_exclude_features</th>\n",
       "      <th>universe_exclude_subgroups</th>\n",
       "      <th>q_hat</th>\n",
       "      <th>coverage</th>\n",
       "      <th>avg_size</th>\n",
       "      <th>cov_frau1</th>\n",
       "      <th>cov_nongerman</th>\n",
       "      <th>cov_nongerman_male</th>\n",
       "      <th>cov_nongerman_female</th>\n",
       "    </tr>\n",
       "  </thead>\n",
       "  <tbody>\n",
       "    <tr>\n",
       "      <th>0</th>\n",
       "      <td>33a06c71bc0756f3b6dc54e01ef1272f</td>\n",
       "      <td>2014</td>\n",
       "      <td>5k</td>\n",
       "      <td>do-not-scale</td>\n",
       "      <td>logreg</td>\n",
       "      <td>sex</td>\n",
       "      <td>drop-non-german</td>\n",
       "      <td>0.667826</td>\n",
       "      <td>0.911125</td>\n",
       "      <td>1.217401</td>\n",
       "      <td>0.908559</td>\n",
       "      <td>0.93617</td>\n",
       "      <td>0.949023</td>\n",
       "      <td>0.914903</td>\n",
       "    </tr>\n",
       "  </tbody>\n",
       "</table>\n",
       "</div>"
      ],
      "text/plain": [
       "                        universe_id universe_training_year  \\\n",
       "0  33a06c71bc0756f3b6dc54e01ef1272f                   2014   \n",
       "\n",
       "  universe_training_size universe_scale universe_model  \\\n",
       "0                     5k   do-not-scale         logreg   \n",
       "\n",
       "  universe_exclude_features universe_exclude_subgroups     q_hat  coverage  \\\n",
       "0                       sex            drop-non-german  0.667826  0.911125   \n",
       "\n",
       "   avg_size  cov_frau1  cov_nongerman  cov_nongerman_male  \\\n",
       "0  1.217401   0.908559        0.93617            0.949023   \n",
       "\n",
       "   cov_nongerman_female  \n",
       "0              0.914903  "
      ]
     },
     "execution_count": 71,
     "metadata": {},
     "output_type": "execute_result"
    }
   ],
   "source": [
    "cp_metrics_df"
   ]
  },
  {
   "cell_type": "markdown",
   "id": "33774451",
   "metadata": {
    "papermill": {
     "duration": 0.027435,
     "end_time": "2025-07-30T20:51:15.691880",
     "exception": false,
     "start_time": "2025-07-30T20:51:15.664445",
     "status": "completed"
    },
    "tags": []
   },
   "source": [
    "# (Fairness) Metrics"
   ]
  },
  {
   "cell_type": "code",
   "execution_count": 72,
   "id": "debc5d62",
   "metadata": {
    "execution": {
     "iopub.execute_input": "2025-07-30T20:51:15.750436Z",
     "iopub.status.busy": "2025-07-30T20:51:15.749943Z",
     "iopub.status.idle": "2025-07-30T20:51:15.771836Z",
     "shell.execute_reply": "2025-07-30T20:51:15.770923Z"
    },
    "papermill": {
     "duration": 0.053628,
     "end_time": "2025-07-30T20:51:15.773719",
     "exception": false,
     "start_time": "2025-07-30T20:51:15.720091",
     "status": "completed"
    },
    "tags": []
   },
   "outputs": [],
   "source": [
    "# do I need to include maxdeutsch1.missing?\n",
    "\n",
    "import numpy as np\n",
    "\n",
    "colname_to_bin = \"maxdeutsch1\"\n",
    "majority_value = org_train[colname_to_bin].mode()[0]\n",
    "\n",
    "org_test[\"majmin\"] = np.where(org_test[colname_to_bin] == majority_value, \"majority\", \"minority\")"
   ]
  },
  {
   "cell_type": "code",
   "execution_count": 73,
   "id": "06a50de5",
   "metadata": {
    "execution": {
     "iopub.execute_input": "2025-07-30T20:51:15.834507Z",
     "iopub.status.busy": "2025-07-30T20:51:15.833721Z",
     "iopub.status.idle": "2025-07-30T20:51:18.180147Z",
     "shell.execute_reply": "2025-07-30T20:51:18.179179Z"
    },
    "papermill": {
     "duration": 2.378547,
     "end_time": "2025-07-30T20:51:18.182118",
     "exception": false,
     "start_time": "2025-07-30T20:51:15.803571",
     "status": "completed"
    },
    "tags": []
   },
   "outputs": [],
   "source": [
    "example_universe = universe.copy()\n",
    "example_universe[\"cutoff\"] = example_universe[\"cutoff\"][0]\n",
    "example_universe[\"eval_fairness_grouping\"] = example_universe[\"eval_fairness_grouping\"][0]\n",
    "fairness_dict, metric_frame = universe_analysis.compute_metrics(\n",
    "    example_universe,\n",
    "    y_pred_prob=probs_test,\n",
    "    y_test=y_true,\n",
    "    org_test=org_test,\n",
    ")"
   ]
  },
  {
   "cell_type": "markdown",
   "id": "f95d4e02",
   "metadata": {
    "papermill": {
     "duration": 0.028637,
     "end_time": "2025-07-30T20:51:18.243192",
     "exception": false,
     "start_time": "2025-07-30T20:51:18.214555",
     "status": "completed"
    },
    "tags": []
   },
   "source": [
    "# Overall"
   ]
  },
  {
   "cell_type": "markdown",
   "id": "bdee4871",
   "metadata": {
    "papermill": {
     "duration": 0.028244,
     "end_time": "2025-07-30T20:51:18.299727",
     "exception": false,
     "start_time": "2025-07-30T20:51:18.271483",
     "status": "completed"
    },
    "tags": []
   },
   "source": [
    "Fairness\n",
    "Main fairness target: Equalized Odds. Seems to be a better fit than equal opportunity, since we're not only interested in Y = 1. Seems to be a better fit than demographic parity, since we also care about accuracy, not just equal distribution of preds.\n",
    "\n",
    "Pick column for computation of fairness metrics\n",
    "\n",
    "Performance\n",
    "Overall performance measures, most interesting in relation to the measures split by group below"
   ]
  },
  {
   "cell_type": "code",
   "execution_count": 74,
   "id": "c4e067c6",
   "metadata": {
    "execution": {
     "iopub.execute_input": "2025-07-30T20:51:18.357264Z",
     "iopub.status.busy": "2025-07-30T20:51:18.356343Z",
     "iopub.status.idle": "2025-07-30T20:51:18.365188Z",
     "shell.execute_reply": "2025-07-30T20:51:18.364213Z"
    },
    "papermill": {
     "duration": 0.039469,
     "end_time": "2025-07-30T20:51:18.367012",
     "exception": false,
     "start_time": "2025-07-30T20:51:18.327543",
     "status": "completed"
    },
    "tags": []
   },
   "outputs": [
    {
     "data": {
      "text/plain": [
       "accuracy                   0.217066\n",
       "balanced accuracy          0.532287\n",
       "f1                         0.238599\n",
       "precision                  0.136303\n",
       "false positive rate        0.891716\n",
       "false negative rate        0.043709\n",
       "selection rate             0.900000\n",
       "count                  89710.000000\n",
       "dtype: float64"
      ]
     },
     "execution_count": 74,
     "metadata": {},
     "output_type": "execute_result"
    }
   ],
   "source": [
    "metric_frame.overall"
   ]
  },
  {
   "cell_type": "markdown",
   "id": "e968fe9d",
   "metadata": {
    "papermill": {
     "duration": 0.02353,
     "end_time": "2025-07-30T20:51:18.419531",
     "exception": false,
     "start_time": "2025-07-30T20:51:18.396001",
     "status": "completed"
    },
    "tags": []
   },
   "source": [
    "By Group"
   ]
  },
  {
   "cell_type": "code",
   "execution_count": 75,
   "id": "ec325bce",
   "metadata": {
    "execution": {
     "iopub.execute_input": "2025-07-30T20:51:18.463010Z",
     "iopub.status.busy": "2025-07-30T20:51:18.462524Z",
     "iopub.status.idle": "2025-07-30T20:51:18.474912Z",
     "shell.execute_reply": "2025-07-30T20:51:18.474241Z"
    },
    "papermill": {
     "duration": 0.039018,
     "end_time": "2025-07-30T20:51:18.476321",
     "exception": false,
     "start_time": "2025-07-30T20:51:18.437303",
     "status": "completed"
    },
    "tags": []
   },
   "outputs": [
    {
     "data": {
      "text/html": [
       "<div>\n",
       "<style scoped>\n",
       "    .dataframe tbody tr th:only-of-type {\n",
       "        vertical-align: middle;\n",
       "    }\n",
       "\n",
       "    .dataframe tbody tr th {\n",
       "        vertical-align: top;\n",
       "    }\n",
       "\n",
       "    .dataframe thead th {\n",
       "        text-align: right;\n",
       "    }\n",
       "</style>\n",
       "<table border=\"1\" class=\"dataframe\">\n",
       "  <thead>\n",
       "    <tr style=\"text-align: right;\">\n",
       "      <th></th>\n",
       "      <th>accuracy</th>\n",
       "      <th>balanced accuracy</th>\n",
       "      <th>f1</th>\n",
       "      <th>precision</th>\n",
       "      <th>false positive rate</th>\n",
       "      <th>false negative rate</th>\n",
       "      <th>selection rate</th>\n",
       "      <th>count</th>\n",
       "    </tr>\n",
       "    <tr>\n",
       "      <th>majmin</th>\n",
       "      <th></th>\n",
       "      <th></th>\n",
       "      <th></th>\n",
       "      <th></th>\n",
       "      <th></th>\n",
       "      <th></th>\n",
       "      <th></th>\n",
       "      <th></th>\n",
       "    </tr>\n",
       "  </thead>\n",
       "  <tbody>\n",
       "    <tr>\n",
       "      <th>majority</th>\n",
       "      <td>0.238658</td>\n",
       "      <td>0.539897</td>\n",
       "      <td>0.247858</td>\n",
       "      <td>0.142536</td>\n",
       "      <td>0.869549</td>\n",
       "      <td>0.050656</td>\n",
       "      <td>0.880093</td>\n",
       "      <td>69170.0</td>\n",
       "    </tr>\n",
       "    <tr>\n",
       "      <th>minority</th>\n",
       "      <td>0.144352</td>\n",
       "      <td>0.509081</td>\n",
       "      <td>0.209437</td>\n",
       "      <td>0.117203</td>\n",
       "      <td>0.964946</td>\n",
       "      <td>0.016892</td>\n",
       "      <td>0.967040</td>\n",
       "      <td>20540.0</td>\n",
       "    </tr>\n",
       "  </tbody>\n",
       "</table>\n",
       "</div>"
      ],
      "text/plain": [
       "          accuracy  balanced accuracy        f1  precision  \\\n",
       "majmin                                                       \n",
       "majority  0.238658           0.539897  0.247858   0.142536   \n",
       "minority  0.144352           0.509081  0.209437   0.117203   \n",
       "\n",
       "          false positive rate  false negative rate  selection rate    count  \n",
       "majmin                                                                       \n",
       "majority             0.869549             0.050656        0.880093  69170.0  \n",
       "minority             0.964946             0.016892        0.967040  20540.0  "
      ]
     },
     "execution_count": 75,
     "metadata": {},
     "output_type": "execute_result"
    }
   ],
   "source": [
    "metric_frame.by_group"
   ]
  },
  {
   "cell_type": "code",
   "execution_count": 76,
   "id": "a9ddbe63",
   "metadata": {
    "execution": {
     "iopub.execute_input": "2025-07-30T20:51:18.524921Z",
     "iopub.status.busy": "2025-07-30T20:51:18.524170Z",
     "iopub.status.idle": "2025-07-30T20:51:20.983494Z",
     "shell.execute_reply": "2025-07-30T20:51:20.982295Z"
    },
    "papermill": {
     "duration": 2.491592,
     "end_time": "2025-07-30T20:51:20.985369",
     "exception": false,
     "start_time": "2025-07-30T20:51:18.493777",
     "status": "completed"
    },
    "tags": []
   },
   "outputs": [
    {
     "data": {
      "text/plain": [
       "array([[<Axes: title={'center': 'accuracy'}, xlabel='majmin'>,\n",
       "        <Axes: title={'center': 'balanced accuracy'}, xlabel='majmin'>,\n",
       "        <Axes: title={'center': 'f1'}, xlabel='majmin'>],\n",
       "       [<Axes: title={'center': 'precision'}, xlabel='majmin'>,\n",
       "        <Axes: title={'center': 'false positive rate'}, xlabel='majmin'>,\n",
       "        <Axes: title={'center': 'false negative rate'}, xlabel='majmin'>],\n",
       "       [<Axes: title={'center': 'selection rate'}, xlabel='majmin'>,\n",
       "        <Axes: title={'center': 'count'}, xlabel='majmin'>,\n",
       "        <Axes: xlabel='majmin'>]], dtype=object)"
      ]
     },
     "execution_count": 76,
     "metadata": {},
     "output_type": "execute_result"
    },
    {
     "data": {
      "image/png": "[encoded data removed]",
      "text/plain": [
       "<Figure size 1200x800 with 9 Axes>"
      ]
     },
     "metadata": {},
     "output_type": "display_data"
    }
   ],
   "source": [
    "# In a graphic\n",
    "metric_frame.by_group.plot.bar(\n",
    "    subplots=True,\n",
    "    layout=[3, 3],\n",
    "    legend=False,\n",
    "    figsize=[12, 8],\n",
    "    title=\"Show all metrics\",\n",
    ")"
   ]
  },
  {
   "cell_type": "markdown",
   "id": "f57a0bac",
   "metadata": {
    "papermill": {
     "duration": 0.025786,
     "end_time": "2025-07-30T20:51:21.043440",
     "exception": false,
     "start_time": "2025-07-30T20:51:21.017654",
     "status": "completed"
    },
    "tags": []
   },
   "source": [
    "# Final Output"
   ]
  },
  {
   "cell_type": "code",
   "execution_count": 77,
   "id": "96d280a3",
   "metadata": {
    "execution": {
     "iopub.execute_input": "2025-07-30T20:51:21.105082Z",
     "iopub.status.busy": "2025-07-30T20:51:21.104081Z",
     "iopub.status.idle": "2025-07-30T20:51:21.114186Z",
     "shell.execute_reply": "2025-07-30T20:51:21.113237Z"
    },
    "papermill": {
     "duration": 0.042441,
     "end_time": "2025-07-30T20:51:21.116128",
     "exception": false,
     "start_time": "2025-07-30T20:51:21.073687",
     "status": "completed"
    },
    "tags": []
   },
   "outputs": [
    {
     "data": {
      "text/plain": [
       "4"
      ]
     },
     "execution_count": 77,
     "metadata": {},
     "output_type": "execute_result"
    }
   ],
   "source": [
    "sub_universes = universe_analysis.generate_sub_universes()\n",
    "len(sub_universes)"
   ]
  },
  {
   "cell_type": "code",
   "execution_count": 78,
   "id": "92adf7ba",
   "metadata": {
    "execution": {
     "iopub.execute_input": "2025-07-30T20:51:21.176738Z",
     "iopub.status.busy": "2025-07-30T20:51:21.176204Z",
     "iopub.status.idle": "2025-07-30T20:51:21.186386Z",
     "shell.execute_reply": "2025-07-30T20:51:21.185625Z"
    },
    "papermill": {
     "duration": 0.040915,
     "end_time": "2025-07-30T20:51:21.187888",
     "exception": false,
     "start_time": "2025-07-30T20:51:21.146973",
     "status": "completed"
    },
    "tags": []
   },
   "outputs": [],
   "source": [
    "def filter_sub_universe_data(sub_universe, org_test):\n",
    "    # Keep all rows — no filtering\n",
    "    keep_rows_mask = np.ones(org_test.shape[0], dtype=bool)\n",
    "\n",
    "    print(f\"[INFO] Keeping all rows: {keep_rows_mask.sum()} rows retained.\")\n",
    "    return keep_rows_mask"
   ]
  },
  {
   "cell_type": "code",
   "execution_count": 79,
   "id": "4a759155",
   "metadata": {
    "execution": {
     "iopub.execute_input": "2025-07-30T20:51:21.247804Z",
     "iopub.status.busy": "2025-07-30T20:51:21.246971Z",
     "iopub.status.idle": "2025-07-30T20:51:31.602228Z",
     "shell.execute_reply": "2025-07-30T20:51:31.601293Z"
    },
    "papermill": {
     "duration": 10.390164,
     "end_time": "2025-07-30T20:51:31.603947",
     "exception": false,
     "start_time": "2025-07-30T20:51:21.213783",
     "status": "completed"
    },
    "tags": []
   },
   "outputs": [
    {
     "name": "stdout",
     "output_type": "stream",
     "text": [
      "Stopping execution_time clock.\n",
      "[INFO] Keeping all rows: 89710 rows retained.\n"
     ]
    },
    {
     "name": "stdout",
     "output_type": "stream",
     "text": [
      "[INFO] Keeping all rows: 89710 rows retained.\n"
     ]
    },
    {
     "name": "stdout",
     "output_type": "stream",
     "text": [
      "[INFO] Keeping all rows: 89710 rows retained.\n"
     ]
    },
    {
     "name": "stdout",
     "output_type": "stream",
     "text": [
      "[INFO] Keeping all rows: 89710 rows retained.\n"
     ]
    },
    {
     "data": {
      "text/html": [
       "<div>\n",
       "<style scoped>\n",
       "    .dataframe tbody tr th:only-of-type {\n",
       "        vertical-align: middle;\n",
       "    }\n",
       "\n",
       "    .dataframe tbody tr th {\n",
       "        vertical-align: top;\n",
       "    }\n",
       "\n",
       "    .dataframe thead th {\n",
       "        text-align: right;\n",
       "    }\n",
       "</style>\n",
       "<table border=\"1\" class=\"dataframe\">\n",
       "  <thead>\n",
       "    <tr style=\"text-align: right;\">\n",
       "      <th></th>\n",
       "      <th>run_no</th>\n",
       "      <th>universe_id</th>\n",
       "      <th>universe_settings</th>\n",
       "      <th>execution_time</th>\n",
       "      <th>test_size_n</th>\n",
       "      <th>test_size_frac</th>\n",
       "      <th>fair_main_equalized_odds_difference</th>\n",
       "      <th>fair_main_equalized_odds_ratio</th>\n",
       "      <th>fair_main_demographic_parity_difference</th>\n",
       "      <th>fair_main_demographic_parity_ratio</th>\n",
       "      <th>...</th>\n",
       "      <th>perf_grp_precision_0</th>\n",
       "      <th>perf_grp_precision_1</th>\n",
       "      <th>perf_grp_false positive rate_0</th>\n",
       "      <th>perf_grp_false positive rate_1</th>\n",
       "      <th>perf_grp_false negative rate_0</th>\n",
       "      <th>perf_grp_false negative rate_1</th>\n",
       "      <th>perf_grp_selection rate_0</th>\n",
       "      <th>perf_grp_selection rate_1</th>\n",
       "      <th>perf_grp_count_0</th>\n",
       "      <th>perf_grp_count_1</th>\n",
       "    </tr>\n",
       "  </thead>\n",
       "  <tbody>\n",
       "    <tr>\n",
       "      <th>0</th>\n",
       "      <td>14</td>\n",
       "      <td>33a06c71bc0756f3b6dc54e01ef1272f</td>\n",
       "      <td>{\"cutoff\": \"quantile_0.1\", \"eval_fairness_grou...</td>\n",
       "      <td>27.237172</td>\n",
       "      <td>89710</td>\n",
       "      <td>1.0</td>\n",
       "      <td>0.095398</td>\n",
       "      <td>0.901137</td>\n",
       "      <td>0.086947</td>\n",
       "      <td>0.910089</td>\n",
       "      <td>...</td>\n",
       "      <td>NaN</td>\n",
       "      <td>NaN</td>\n",
       "      <td>NaN</td>\n",
       "      <td>NaN</td>\n",
       "      <td>NaN</td>\n",
       "      <td>NaN</td>\n",
       "      <td>NaN</td>\n",
       "      <td>NaN</td>\n",
       "      <td>NaN</td>\n",
       "      <td>NaN</td>\n",
       "    </tr>\n",
       "    <tr>\n",
       "      <th>0</th>\n",
       "      <td>14</td>\n",
       "      <td>33a06c71bc0756f3b6dc54e01ef1272f</td>\n",
       "      <td>{\"cutoff\": \"quantile_0.1\", \"eval_fairness_grou...</td>\n",
       "      <td>27.237172</td>\n",
       "      <td>89710</td>\n",
       "      <td>1.0</td>\n",
       "      <td>0.095398</td>\n",
       "      <td>0.901137</td>\n",
       "      <td>0.086947</td>\n",
       "      <td>0.910089</td>\n",
       "      <td>...</td>\n",
       "      <td>0.117203</td>\n",
       "      <td>0.142536</td>\n",
       "      <td>0.964946</td>\n",
       "      <td>0.869549</td>\n",
       "      <td>0.016892</td>\n",
       "      <td>0.050656</td>\n",
       "      <td>0.967040</td>\n",
       "      <td>0.880093</td>\n",
       "      <td>20540.0</td>\n",
       "      <td>69170.0</td>\n",
       "    </tr>\n",
       "    <tr>\n",
       "      <th>0</th>\n",
       "      <td>14</td>\n",
       "      <td>33a06c71bc0756f3b6dc54e01ef1272f</td>\n",
       "      <td>{\"cutoff\": \"quantile_0.25\", \"eval_fairness_gro...</td>\n",
       "      <td>27.237172</td>\n",
       "      <td>89710</td>\n",
       "      <td>1.0</td>\n",
       "      <td>0.216795</td>\n",
       "      <td>0.758366</td>\n",
       "      <td>0.198843</td>\n",
       "      <td>0.779873</td>\n",
       "      <td>...</td>\n",
       "      <td>NaN</td>\n",
       "      <td>NaN</td>\n",
       "      <td>NaN</td>\n",
       "      <td>NaN</td>\n",
       "      <td>NaN</td>\n",
       "      <td>NaN</td>\n",
       "      <td>NaN</td>\n",
       "      <td>NaN</td>\n",
       "      <td>NaN</td>\n",
       "      <td>NaN</td>\n",
       "    </tr>\n",
       "    <tr>\n",
       "      <th>0</th>\n",
       "      <td>14</td>\n",
       "      <td>33a06c71bc0756f3b6dc54e01ef1272f</td>\n",
       "      <td>{\"cutoff\": \"quantile_0.25\", \"eval_fairness_gro...</td>\n",
       "      <td>27.237172</td>\n",
       "      <td>89710</td>\n",
       "      <td>1.0</td>\n",
       "      <td>0.216795</td>\n",
       "      <td>0.758366</td>\n",
       "      <td>0.198843</td>\n",
       "      <td>0.779873</td>\n",
       "      <td>...</td>\n",
       "      <td>0.121268</td>\n",
       "      <td>0.161776</td>\n",
       "      <td>0.897204</td>\n",
       "      <td>0.680410</td>\n",
       "      <td>0.049831</td>\n",
       "      <td>0.137527</td>\n",
       "      <td>0.903311</td>\n",
       "      <td>0.704467</td>\n",
       "      <td>20540.0</td>\n",
       "      <td>69170.0</td>\n",
       "    </tr>\n",
       "  </tbody>\n",
       "</table>\n",
       "<p>4 rows × 50 columns</p>\n",
       "</div>"
      ],
      "text/plain": [
       "  run_no                       universe_id  \\\n",
       "0     14  33a06c71bc0756f3b6dc54e01ef1272f   \n",
       "0     14  33a06c71bc0756f3b6dc54e01ef1272f   \n",
       "0     14  33a06c71bc0756f3b6dc54e01ef1272f   \n",
       "0     14  33a06c71bc0756f3b6dc54e01ef1272f   \n",
       "\n",
       "                                   universe_settings  execution_time  \\\n",
       "0  {\"cutoff\": \"quantile_0.1\", \"eval_fairness_grou...       27.237172   \n",
       "0  {\"cutoff\": \"quantile_0.1\", \"eval_fairness_grou...       27.237172   \n",
       "0  {\"cutoff\": \"quantile_0.25\", \"eval_fairness_gro...       27.237172   \n",
       "0  {\"cutoff\": \"quantile_0.25\", \"eval_fairness_gro...       27.237172   \n",
       "\n",
       "   test_size_n  test_size_frac  fair_main_equalized_odds_difference  \\\n",
       "0        89710             1.0                             0.095398   \n",
       "0        89710             1.0                             0.095398   \n",
       "0        89710             1.0                             0.216795   \n",
       "0        89710             1.0                             0.216795   \n",
       "\n",
       "   fair_main_equalized_odds_ratio  fair_main_demographic_parity_difference  \\\n",
       "0                        0.901137                                 0.086947   \n",
       "0                        0.901137                                 0.086947   \n",
       "0                        0.758366                                 0.198843   \n",
       "0                        0.758366                                 0.198843   \n",
       "\n",
       "   fair_main_demographic_parity_ratio  ...  perf_grp_precision_0  \\\n",
       "0                            0.910089  ...                   NaN   \n",
       "0                            0.910089  ...              0.117203   \n",
       "0                            0.779873  ...                   NaN   \n",
       "0                            0.779873  ...              0.121268   \n",
       "\n",
       "   perf_grp_precision_1  perf_grp_false positive rate_0  \\\n",
       "0                   NaN                             NaN   \n",
       "0              0.142536                        0.964946   \n",
       "0                   NaN                             NaN   \n",
       "0              0.161776                        0.897204   \n",
       "\n",
       "   perf_grp_false positive rate_1  perf_grp_false negative rate_0  \\\n",
       "0                             NaN                             NaN   \n",
       "0                        0.869549                        0.016892   \n",
       "0                             NaN                             NaN   \n",
       "0                        0.680410                        0.049831   \n",
       "\n",
       "   perf_grp_false negative rate_1  perf_grp_selection rate_0  \\\n",
       "0                             NaN                        NaN   \n",
       "0                        0.050656                   0.967040   \n",
       "0                             NaN                        NaN   \n",
       "0                        0.137527                   0.903311   \n",
       "\n",
       "   perf_grp_selection rate_1  perf_grp_count_0  perf_grp_count_1  \n",
       "0                        NaN               NaN               NaN  \n",
       "0                   0.880093           20540.0           69170.0  \n",
       "0                        NaN               NaN               NaN  \n",
       "0                   0.704467           20540.0           69170.0  \n",
       "\n",
       "[4 rows x 50 columns]"
      ]
     },
     "execution_count": 79,
     "metadata": {},
     "output_type": "execute_result"
    }
   ],
   "source": [
    "final_output = universe_analysis.generate_final_output(\n",
    "    y_pred_prob=probs_test,\n",
    "    y_test=y_true,\n",
    "    org_test=org_test,\n",
    "    filter_data=filter_sub_universe_data,\n",
    "    cp_metrics_df=cp_metrics_df,\n",
    "    save=True,\n",
    ")\n",
    "final_output"
   ]
  },
  {
   "cell_type": "code",
   "execution_count": null,
   "id": "721ff514-cb11-46f8-b6fc-50392f74b5cb",
   "metadata": {
    "papermill": {
     "duration": 0.039897,
     "end_time": "2025-07-30T20:51:31.682114",
     "exception": false,
     "start_time": "2025-07-30T20:51:31.642217",
     "status": "completed"
    },
    "tags": []
   },
   "outputs": [],
   "source": []
  }
 ],
 "metadata": {
  "celltoolbar": "Tags",
  "kernelspec": {
   "display_name": "Python (CMA Fairness)",
   "language": "python",
   "name": "cma_fair_env"
  },
  "language_info": {
   "codemirror_mode": {
    "name": "ipython",
    "version": 3
   },
   "file_extension": ".py",
   "mimetype": "text/x-python",
   "name": "python",
   "nbconvert_exporter": "python",
   "pygments_lexer": "ipython3",
   "version": "3.10.12"
  },
  "papermill": {
   "default_parameters": {},
   "duration": 41.659595,
   "end_time": "2025-07-30T20:51:32.430247",
   "environment_variables": {},
   "exception": null,
   "input_path": "universe_analysis.ipynb",
   "output_path": "output/runs/14/notebooks/m_14-33a06c71bc0756f3b6dc54e01ef1272f.ipynb",
   "parameters": {
    "output_dir": "output",
    "run_no": "14",
    "seed": "2023",
    "universe": "{\"cutoff\": [\"quantile_0.1\", \"quantile_0.25\"], \"eval_fairness_grouping\": [\"majority-minority\", \"nationality-all\"], \"exclude_features\": \"sex\", \"exclude_subgroups\": \"drop-non-german\", \"model\": \"logreg\", \"scale\": \"do-not-scale\", \"training_size\": \"5k\", \"training_year\": \"2014\"}",
    "universe_id": "33a06c71bc0756f3b6dc54e01ef1272f"
   },
   "start_time": "2025-07-30T20:50:50.770652",
   "version": "2.6.0"
  }
 },
 "nbformat": 4,
 "nbformat_minor": 5
}