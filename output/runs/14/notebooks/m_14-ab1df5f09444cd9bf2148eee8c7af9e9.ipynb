{
 "cells": [
  {
   "cell_type": "code",
   "execution_count": 1,
   "id": "f159f837-637b-42ba-96b5-ec9a68c44524",
   "metadata": {
    "execution": {
     "iopub.execute_input": "2025-07-30T21:23:05.380687Z",
     "iopub.status.busy": "2025-07-30T21:23:05.380252Z",
     "iopub.status.idle": "2025-07-30T21:23:05.393986Z",
     "shell.execute_reply": "2025-07-30T21:23:05.393118Z"
    },
    "papermill": {
     "duration": 0.036297,
     "end_time": "2025-07-30T21:23:05.395704",
     "exception": false,
     "start_time": "2025-07-30T21:23:05.359407",
     "status": "completed"
    },
    "tags": []
   },
   "outputs": [
    {
     "name": "stdout",
     "output_type": "stream",
     "text": [
      "/dss/dsshome1/0C/ra93lal2/cma/CMA_Fairness_v2\n"
     ]
    },
    {
     "name": "stderr",
     "output_type": "stream",
     "text": [
      "/dss/dsshome1/0C/ra93lal2/.local/share/virtualenvs/CMA_Fairness_v2-3j10GkSs/lib/python3.10/site-packages/IPython/core/magics/osm.py:393: UserWarning: This is now an optional IPython functionality, using bookmarks requires you to install the `pickleshare` library.\n",
      "  bkms = self.shell.db.get('bookmarks', {})\n",
      "/dss/dsshome1/0C/ra93lal2/.local/share/virtualenvs/CMA_Fairness_v2-3j10GkSs/lib/python3.10/site-packages/IPython/core/magics/osm.py:417: UserWarning: This is now an optional IPython functionality, setting dhist requires you to install the `pickleshare` library.\n",
      "  self.shell.db['dhist'] = compress_dhist(dhist)[-100:]\n"
     ]
    }
   ],
   "source": [
    "%cd ~/cma/CMA_Fairness_v2"
   ]
  },
  {
   "cell_type": "markdown",
   "id": "de2603b9",
   "metadata": {
    "papermill": {
     "duration": 0.022727,
     "end_time": "2025-07-30T21:23:05.437747",
     "exception": false,
     "start_time": "2025-07-30T21:23:05.415020",
     "status": "completed"
    },
    "tags": []
   },
   "source": [
    "The following cell holds the definition of our parameters, these values can be overriden by rendering the with e.g. the following command:\n",
    "\n",
    "papermill -p alpha 0.2 -p ratio 0.3 universe_analysis.ipynb output/test_run.ipynb"
   ]
  },
  {
   "cell_type": "code",
   "execution_count": 2,
   "id": "a80968a0-40bb-4fa9-85ef-2d5eefb01975",
   "metadata": {
    "execution": {
     "iopub.execute_input": "2025-07-30T21:23:05.484270Z",
     "iopub.status.busy": "2025-07-30T21:23:05.483717Z",
     "iopub.status.idle": "2025-07-30T21:23:05.490287Z",
     "shell.execute_reply": "2025-07-30T21:23:05.488806Z"
    },
    "papermill": {
     "duration": 0.030805,
     "end_time": "2025-07-30T21:23:05.492237",
     "exception": false,
     "start_time": "2025-07-30T21:23:05.461432",
     "status": "completed"
    },
    "tags": []
   },
   "outputs": [
    {
     "name": "stdout",
     "output_type": "stream",
     "text": [
      "Current working directory: /dss/dsshome1/0C/ra93lal2/cma/CMA_Fairness_v2\n"
     ]
    }
   ],
   "source": [
    "import os\n",
    "print(\"Current working directory:\", os.getcwd())"
   ]
  },
  {
   "cell_type": "code",
   "execution_count": 3,
   "id": "2dce4c03",
   "metadata": {
    "execution": {
     "iopub.execute_input": "2025-07-30T21:23:05.516909Z",
     "iopub.status.busy": "2025-07-30T21:23:05.516511Z",
     "iopub.status.idle": "2025-07-30T21:23:05.522529Z",
     "shell.execute_reply": "2025-07-30T21:23:05.521645Z"
    },
    "papermill": {
     "duration": 0.018941,
     "end_time": "2025-07-30T21:23:05.523785",
     "exception": false,
     "start_time": "2025-07-30T21:23:05.504844",
     "status": "completed"
    },
    "tags": [
     "parameters"
    ]
   },
   "outputs": [],
   "source": [
    "run_no = 0\n",
    "universe_id = \"test\"\n",
    "universe = {\n",
    "    \"training_size\": \"25k\", # \"25k\", \"5k\", \"1k\"\n",
    "    \"training_year\": \"2014\", # \"2014\", \"2012_14\", \"2010_14\"\n",
    "    \"scale\": \"scale\", # \"scale\", \"do-not-scale\",\n",
    "    #\"stratify_split\": \"target\", # \"none\", \"target\", \"protected-attribute\", \"both\",\n",
    "    \"model\": \"elasticnet\", # \"logreg\", \"penalized_logreg\", \"rf\", \"gbm\", \"elasticnet\"\n",
    "    \"cutoff\": [\"quantile_0.15\", \"quantile_0.30\"],\n",
    "    \"exclude_features\": \"age\", # \"none\", \"nationality\", \"sex\", \"nationality-sex\", \"age\"\n",
    "    \"exclude_subgroups\": \"keep-all\", # \"keep-all\", \"drop-non-german\"\n",
    "    \"eval_fairness_grouping\": [\"majority-minority\", \"nationality-all\"]\n",
    "}\n",
    "\n",
    "output_dir=\"./output\"\n",
    "seed=0"
   ]
  },
  {
   "cell_type": "code",
   "execution_count": 4,
   "id": "4ab4b2b3",
   "metadata": {
    "execution": {
     "iopub.execute_input": "2025-07-30T21:23:05.547209Z",
     "iopub.status.busy": "2025-07-30T21:23:05.546567Z",
     "iopub.status.idle": "2025-07-30T21:23:05.551245Z",
     "shell.execute_reply": "2025-07-30T21:23:05.550591Z"
    },
    "papermill": {
     "duration": 0.018194,
     "end_time": "2025-07-30T21:23:05.552812",
     "exception": false,
     "start_time": "2025-07-30T21:23:05.534618",
     "status": "completed"
    },
    "tags": [
     "injected-parameters"
    ]
   },
   "outputs": [],
   "source": [
    "# Parameters\n",
    "universe_id = \"ab1df5f09444cd9bf2148eee8c7af9e9\"\n",
    "run_no = \"14\"\n",
    "universe = \"{\\\"cutoff\\\": [\\\"quantile_0.1\\\", \\\"quantile_0.25\\\"], \\\"eval_fairness_grouping\\\": [\\\"majority-minority\\\", \\\"nationality-all\\\"], \\\"exclude_features\\\": \\\"none\\\", \\\"exclude_subgroups\\\": \\\"keep-all\\\", \\\"model\\\": \\\"penalized_logreg\\\", \\\"scale\\\": \\\"scale\\\", \\\"training_size\\\": \\\"1k\\\", \\\"training_year\\\": \\\"2014\\\"}\"\n",
    "output_dir = \"output\"\n",
    "seed = \"2023\"\n"
   ]
  },
  {
   "cell_type": "code",
   "execution_count": 5,
   "id": "1650acaf",
   "metadata": {
    "execution": {
     "iopub.execute_input": "2025-07-30T21:23:05.592743Z",
     "iopub.status.busy": "2025-07-30T21:23:05.592406Z",
     "iopub.status.idle": "2025-07-30T21:23:05.596575Z",
     "shell.execute_reply": "2025-07-30T21:23:05.595773Z"
    },
    "papermill": {
     "duration": 0.025003,
     "end_time": "2025-07-30T21:23:05.597827",
     "exception": false,
     "start_time": "2025-07-30T21:23:05.572824",
     "status": "completed"
    },
    "tags": []
   },
   "outputs": [],
   "source": [
    "import json\n",
    "# Parse universe into dict if it is passed as a string\n",
    "if isinstance(universe, str):\n",
    "    universe = json.loads(universe)"
   ]
  },
  {
   "cell_type": "code",
   "execution_count": 6,
   "id": "16620c48",
   "metadata": {
    "execution": {
     "iopub.execute_input": "2025-07-30T21:23:05.638884Z",
     "iopub.status.busy": "2025-07-30T21:23:05.638432Z",
     "iopub.status.idle": "2025-07-30T21:23:05.681601Z",
     "shell.execute_reply": "2025-07-30T21:23:05.680700Z"
    },
    "papermill": {
     "duration": 0.068656,
     "end_time": "2025-07-30T21:23:05.683523",
     "exception": false,
     "start_time": "2025-07-30T21:23:05.614867",
     "status": "completed"
    },
    "tags": []
   },
   "outputs": [],
   "source": [
    "# Auto-reload the custom package\n",
    "%load_ext autoreload\n",
    "%autoreload 1\n",
    "%aimport fairness_multiverse"
   ]
  },
  {
   "cell_type": "code",
   "execution_count": 7,
   "id": "01c5c9f3",
   "metadata": {
    "execution": {
     "iopub.execute_input": "2025-07-30T21:23:05.729975Z",
     "iopub.status.busy": "2025-07-30T21:23:05.729501Z",
     "iopub.status.idle": "2025-07-30T21:23:07.765817Z",
     "shell.execute_reply": "2025-07-30T21:23:07.764729Z"
    },
    "papermill": {
     "duration": 2.061624,
     "end_time": "2025-07-30T21:23:07.767654",
     "exception": false,
     "start_time": "2025-07-30T21:23:05.706030",
     "status": "completed"
    },
    "tags": []
   },
   "outputs": [],
   "source": [
    "from fairness_multiverse.universe import UniverseAnalysis\n",
    "\n",
    "universe_analysis = UniverseAnalysis(\n",
    "    run_no = run_no,\n",
    "    universe_id = universe_id,\n",
    "    universe = universe,\n",
    "    output_dir=output_dir,\n",
    ")"
   ]
  },
  {
   "cell_type": "code",
   "execution_count": 8,
   "id": "106241f5",
   "metadata": {
    "execution": {
     "iopub.execute_input": "2025-07-30T21:23:07.816128Z",
     "iopub.status.busy": "2025-07-30T21:23:07.815606Z",
     "iopub.status.idle": "2025-07-30T21:23:07.822454Z",
     "shell.execute_reply": "2025-07-30T21:23:07.821496Z"
    },
    "papermill": {
     "duration": 0.031703,
     "end_time": "2025-07-30T21:23:07.824355",
     "exception": false,
     "start_time": "2025-07-30T21:23:07.792652",
     "status": "completed"
    },
    "tags": []
   },
   "outputs": [
    {
     "name": "stdout",
     "output_type": "stream",
     "text": [
      "Using Seed: 2023\n"
     ]
    }
   ],
   "source": [
    "import numpy as np\n",
    "parsed_seed = int(seed)\n",
    "np.random.seed(parsed_seed)\n",
    "print(f\"Using Seed: {parsed_seed}\")"
   ]
  },
  {
   "cell_type": "markdown",
   "id": "e0ebdc57",
   "metadata": {
    "papermill": {
     "duration": 0.022223,
     "end_time": "2025-07-30T21:23:07.869475",
     "exception": false,
     "start_time": "2025-07-30T21:23:07.847252",
     "status": "completed"
    },
    "tags": []
   },
   "source": [
    "# Loading Data"
   ]
  },
  {
   "cell_type": "markdown",
   "id": "681925a3",
   "metadata": {
    "papermill": {
     "duration": 0.021422,
     "end_time": "2025-07-30T21:23:07.911058",
     "exception": false,
     "start_time": "2025-07-30T21:23:07.889636",
     "status": "completed"
    },
    "tags": []
   },
   "source": [
    "Load siab_train, siab_test, siab_calib and/or \n",
    "load siab_train_features, siab_train_labels"
   ]
  },
  {
   "cell_type": "code",
   "execution_count": 9,
   "id": "f0496b8a",
   "metadata": {
    "execution": {
     "iopub.execute_input": "2025-07-30T21:23:07.957938Z",
     "iopub.status.busy": "2025-07-30T21:23:07.957249Z",
     "iopub.status.idle": "2025-07-30T21:23:20.406061Z",
     "shell.execute_reply": "2025-07-30T21:23:20.404873Z"
    },
    "papermill": {
     "duration": 12.475035,
     "end_time": "2025-07-30T21:23:20.407802",
     "exception": false,
     "start_time": "2025-07-30T21:23:07.932767",
     "status": "completed"
    },
    "tags": []
   },
   "outputs": [
    {
     "name": "stdout",
     "output_type": "stream",
     "text": [
      "Loading SIAB data from cache: data/siab_cached.csv.gz\n"
     ]
    },
    {
     "name": "stdout",
     "output_type": "stream",
     "text": [
      "(643690, 164)\n"
     ]
    }
   ],
   "source": [
    "from pathlib import Path\n",
    "import pandas as pd\n",
    "\n",
    "# File paths\n",
    "raw_file = Path(\"data/raw/siab.csv\")\n",
    "cache_file = Path(\"data/siab_cached.csv.gz\")\n",
    "\n",
    "# Ensure cache directory exists\n",
    "cache_file.parent.mkdir(parents=True, exist_ok=True)\n",
    "\n",
    "# Load with simple caching\n",
    "if cache_file.exists():\n",
    "    print(f\"Loading SIAB data from cache: {cache_file}\")\n",
    "    siab = pd.read_csv(cache_file, compression='gzip')\n",
    "else:\n",
    "    print(f\"Cache not found. Reading raw SIAB data: {raw_file}\")\n",
    "    siab = pd.read_csv(raw_file)\n",
    "    siab.to_csv(cache_file, index=False, compression='gzip')\n",
    "    print(f\"Cached SIAB data to: {cache_file}\")\n",
    "\n",
    "# Now use `siab` DataFrame as needed\n",
    "print(siab.shape)"
   ]
  },
  {
   "cell_type": "code",
   "execution_count": 10,
   "id": "db0ca512-5f53-4dba-abdb-a2888bca41ba",
   "metadata": {
    "execution": {
     "iopub.execute_input": "2025-07-30T21:23:20.457923Z",
     "iopub.status.busy": "2025-07-30T21:23:20.457409Z",
     "iopub.status.idle": "2025-07-30T21:23:20.467792Z",
     "shell.execute_reply": "2025-07-30T21:23:20.466806Z"
    },
    "papermill": {
     "duration": 0.034894,
     "end_time": "2025-07-30T21:23:20.469229",
     "exception": false,
     "start_time": "2025-07-30T21:23:20.434335",
     "status": "completed"
    },
    "tags": []
   },
   "outputs": [],
   "source": [
    "#siab"
   ]
  },
  {
   "cell_type": "code",
   "execution_count": 11,
   "id": "a0edb063",
   "metadata": {
    "execution": {
     "iopub.execute_input": "2025-07-30T21:23:20.492693Z",
     "iopub.status.busy": "2025-07-30T21:23:20.492353Z",
     "iopub.status.idle": "2025-07-30T21:23:20.496605Z",
     "shell.execute_reply": "2025-07-30T21:23:20.495514Z"
    },
    "papermill": {
     "duration": 0.01774,
     "end_time": "2025-07-30T21:23:20.498504",
     "exception": false,
     "start_time": "2025-07-30T21:23:20.480764",
     "status": "completed"
    },
    "tags": []
   },
   "outputs": [],
   "source": [
    "#import pandas as pd\n",
    "#\n",
    "#X_train = pd.read_csv(\"./data/X_train.csv\")\n",
    "#y_train = pd.read_csv(\"./data/y_train.csv\")"
   ]
  },
  {
   "cell_type": "code",
   "execution_count": 12,
   "id": "63d08085",
   "metadata": {
    "execution": {
     "iopub.execute_input": "2025-07-30T21:23:20.545815Z",
     "iopub.status.busy": "2025-07-30T21:23:20.545326Z",
     "iopub.status.idle": "2025-07-30T21:23:20.550658Z",
     "shell.execute_reply": "2025-07-30T21:23:20.549535Z"
    },
    "papermill": {
     "duration": 0.030694,
     "end_time": "2025-07-30T21:23:20.552693",
     "exception": false,
     "start_time": "2025-07-30T21:23:20.521999",
     "status": "completed"
    },
    "tags": []
   },
   "outputs": [],
   "source": [
    "#X_test = pd.read_csv(\"./data/X_test.csv\")\n",
    "#y_true = pd.read_csv(\"./data/y_test.csv\")"
   ]
  },
  {
   "cell_type": "code",
   "execution_count": 13,
   "id": "98a8d0fa-1d3d-4ed8-bb2c-281470e24add",
   "metadata": {
    "execution": {
     "iopub.execute_input": "2025-07-30T21:23:20.597674Z",
     "iopub.status.busy": "2025-07-30T21:23:20.597266Z",
     "iopub.status.idle": "2025-07-30T21:23:20.601910Z",
     "shell.execute_reply": "2025-07-30T21:23:20.600833Z"
    },
    "papermill": {
     "duration": 0.029007,
     "end_time": "2025-07-30T21:23:20.603669",
     "exception": false,
     "start_time": "2025-07-30T21:23:20.574662",
     "status": "completed"
    },
    "tags": []
   },
   "outputs": [],
   "source": [
    "# Calibration data for conformal\n",
    "#X_calib = pd.read_csv(\"./data/X_calib.csv\")\n",
    "#y_calib = pd.read_csv(\"./data/y_calib.csv\")"
   ]
  },
  {
   "cell_type": "markdown",
   "id": "997051c5-15bd-4b69-9786-c3001a3ce484",
   "metadata": {
    "papermill": {
     "duration": 0.013423,
     "end_time": "2025-07-30T21:23:20.641009",
     "exception": false,
     "start_time": "2025-07-30T21:23:20.627586",
     "status": "completed"
    },
    "tags": []
   },
   "source": [
    "# Splitting Data and Setting Training Data Size"
   ]
  },
  {
   "cell_type": "code",
   "execution_count": 14,
   "id": "e993b61f-042d-41a6-8c81-f55681f86335",
   "metadata": {
    "execution": {
     "iopub.execute_input": "2025-07-30T21:23:20.679918Z",
     "iopub.status.busy": "2025-07-30T21:23:20.679504Z",
     "iopub.status.idle": "2025-07-30T21:23:20.693460Z",
     "shell.execute_reply": "2025-07-30T21:23:20.692541Z"
    },
    "papermill": {
     "duration": 0.038433,
     "end_time": "2025-07-30T21:23:20.695177",
     "exception": false,
     "start_time": "2025-07-30T21:23:20.656744",
     "status": "completed"
    },
    "tags": []
   },
   "outputs": [],
   "source": [
    "def sample_by_year_size(df,\n",
    "                        training_year: str,\n",
    "                        training_size: str,\n",
    "                        random_state: int = 42):\n",
    "    # --- parse training_year into a list of int years ---\n",
    "    if \"_\" in training_year:\n",
    "        start_str, end_str = training_year.split(\"_\", 1)\n",
    "        start = int(start_str)\n",
    "        end   = int(end_str) if len(end_str) == 4 else (int(end_str) + (start // 100)*100)\n",
    "        years = list(range(start, end + 1))\n",
    "    else:\n",
    "        years = [int(training_year)]\n",
    "\n",
    "    df = df[df[\"year\"].isin(years)].reset_index(drop=True)\n",
    "\n",
    "    # --- map training_size to total number of samples ---\n",
    "    total_map = {\"25k\": 25_000, \"5k\": 5_000, \"1k\": 1_000}\n",
    "    if training_size not in total_map:\n",
    "        return df  # e.g. \"all\"\n",
    "\n",
    "    total_samples = total_map[training_size]\n",
    "    n_years       = len(years)\n",
    "    base          = total_samples // n_years\n",
    "    remainder     = total_samples % n_years\n",
    "\n",
    "    # --- build a dict: year -> how many to sample ---\n",
    "    # give +1 to the first `remainder` years in ascending order\n",
    "    quotas = {\n",
    "        year: base + (1 if idx < remainder else 0)\n",
    "        for idx, year in enumerate(sorted(years))\n",
    "    }\n",
    "\n",
    "    # --- sample per‐year according to the quota dict ---\n",
    "    sampled = (\n",
    "        df\n",
    "        .groupby(\"year\", group_keys=False)\n",
    "        .apply(lambda grp: grp.sample(\n",
    "            n=min(len(grp), quotas[grp.name]),\n",
    "            random_state=random_state))\n",
    "        .reset_index(drop=True)\n",
    "    )\n",
    "\n",
    "    return sampled"
   ]
  },
  {
   "cell_type": "code",
   "execution_count": 15,
   "id": "c0ccd338-0e02-41f3-a09d-f56f9266e3fb",
   "metadata": {
    "execution": {
     "iopub.execute_input": "2025-07-30T21:23:20.741485Z",
     "iopub.status.busy": "2025-07-30T21:23:20.740900Z",
     "iopub.status.idle": "2025-07-30T21:23:20.746877Z",
     "shell.execute_reply": "2025-07-30T21:23:20.745751Z"
    },
    "papermill": {
     "duration": 0.030945,
     "end_time": "2025-07-30T21:23:20.748516",
     "exception": false,
     "start_time": "2025-07-30T21:23:20.717571",
     "status": "completed"
    },
    "tags": []
   },
   "outputs": [],
   "source": [
    "#universe[\"training_size\"]"
   ]
  },
  {
   "cell_type": "code",
   "execution_count": 16,
   "id": "ca707fd7-8047-4acd-bfa5-66248fbbf8e6",
   "metadata": {
    "execution": {
     "iopub.execute_input": "2025-07-30T21:23:20.772759Z",
     "iopub.status.busy": "2025-07-30T21:23:20.772372Z",
     "iopub.status.idle": "2025-07-30T21:23:20.936703Z",
     "shell.execute_reply": "2025-07-30T21:23:20.935479Z"
    },
    "papermill": {
     "duration": 0.177353,
     "end_time": "2025-07-30T21:23:20.938695",
     "exception": false,
     "start_time": "2025-07-30T21:23:20.761342",
     "status": "completed"
    },
    "tags": []
   },
   "outputs": [],
   "source": [
    "#universe[\"training_year\"]"
   ]
  },
  {
   "cell_type": "code",
   "execution_count": 17,
   "id": "aea9c6ef-6f46-42c8-85eb-5a62025c1508",
   "metadata": {
    "execution": {
     "iopub.execute_input": "2025-07-30T21:23:20.984022Z",
     "iopub.status.busy": "2025-07-30T21:23:20.983440Z",
     "iopub.status.idle": "2025-07-30T21:23:21.200907Z",
     "shell.execute_reply": "2025-07-30T21:23:21.199872Z"
    },
    "papermill": {
     "duration": 0.242891,
     "end_time": "2025-07-30T21:23:21.202846",
     "exception": false,
     "start_time": "2025-07-30T21:23:20.959955",
     "status": "completed"
    },
    "tags": []
   },
   "outputs": [],
   "source": [
    "siab_train = sample_by_year_size(siab,\n",
    "                               training_year=universe[\"training_year\"],\n",
    "                               training_size=universe[\"training_size\"])"
   ]
  },
  {
   "cell_type": "code",
   "execution_count": 18,
   "id": "8d3afb32-789d-442c-8d5d-9f5aa8dd2eed",
   "metadata": {
    "execution": {
     "iopub.execute_input": "2025-07-30T21:23:21.244388Z",
     "iopub.status.busy": "2025-07-30T21:23:21.243979Z",
     "iopub.status.idle": "2025-07-30T21:23:21.250000Z",
     "shell.execute_reply": "2025-07-30T21:23:21.249102Z"
    },
    "papermill": {
     "duration": 0.027832,
     "end_time": "2025-07-30T21:23:21.251564",
     "exception": false,
     "start_time": "2025-07-30T21:23:21.223732",
     "status": "completed"
    },
    "tags": []
   },
   "outputs": [],
   "source": [
    "#siab_train.shape"
   ]
  },
  {
   "cell_type": "code",
   "execution_count": 19,
   "id": "d582db68-1a4c-47fb-84fc-08518dc1975a",
   "metadata": {
    "execution": {
     "iopub.execute_input": "2025-07-30T21:23:21.304214Z",
     "iopub.status.busy": "2025-07-30T21:23:21.303639Z",
     "iopub.status.idle": "2025-07-30T21:23:21.309162Z",
     "shell.execute_reply": "2025-07-30T21:23:21.307929Z"
    },
    "papermill": {
     "duration": 0.036286,
     "end_time": "2025-07-30T21:23:21.310792",
     "exception": false,
     "start_time": "2025-07-30T21:23:21.274506",
     "status": "completed"
    },
    "tags": []
   },
   "outputs": [],
   "source": [
    "#display(siab_train.groupby(\"year\").size())"
   ]
  },
  {
   "cell_type": "code",
   "execution_count": 20,
   "id": "a561edb4-d032-42cb-8256-22eac1111c64",
   "metadata": {
    "execution": {
     "iopub.execute_input": "2025-07-30T21:23:21.357021Z",
     "iopub.status.busy": "2025-07-30T21:23:21.356624Z",
     "iopub.status.idle": "2025-07-30T21:23:21.620073Z",
     "shell.execute_reply": "2025-07-30T21:23:21.618980Z"
    },
    "papermill": {
     "duration": 0.288279,
     "end_time": "2025-07-30T21:23:21.621982",
     "exception": false,
     "start_time": "2025-07-30T21:23:21.333703",
     "status": "completed"
    },
    "tags": []
   },
   "outputs": [],
   "source": [
    "#siab_train = siab_s[siab_s.year < 2015]\n",
    "siab_calib = siab[siab.year == 2015]\n",
    "siab_test = siab[siab.year == 2016]"
   ]
  },
  {
   "cell_type": "code",
   "execution_count": 21,
   "id": "472de16f-c3db-4916-846b-1f0de9cf1746",
   "metadata": {
    "execution": {
     "iopub.execute_input": "2025-07-30T21:23:21.661022Z",
     "iopub.status.busy": "2025-07-30T21:23:21.660400Z",
     "iopub.status.idle": "2025-07-30T21:23:21.668219Z",
     "shell.execute_reply": "2025-07-30T21:23:21.667472Z"
    },
    "papermill": {
     "duration": 0.027549,
     "end_time": "2025-07-30T21:23:21.669665",
     "exception": false,
     "start_time": "2025-07-30T21:23:21.642116",
     "status": "completed"
    },
    "tags": []
   },
   "outputs": [],
   "source": [
    "X_train = siab_train.iloc[:,4:164]\n",
    "y_train = siab_train.iloc[:, [3]]"
   ]
  },
  {
   "cell_type": "code",
   "execution_count": 22,
   "id": "828c96af-f43a-4ed6-ba47-8ac73a47d56c",
   "metadata": {
    "execution": {
     "iopub.execute_input": "2025-07-30T21:23:21.713120Z",
     "iopub.status.busy": "2025-07-30T21:23:21.712659Z",
     "iopub.status.idle": "2025-07-30T21:23:21.765045Z",
     "shell.execute_reply": "2025-07-30T21:23:21.763854Z"
    },
    "papermill": {
     "duration": 0.07877,
     "end_time": "2025-07-30T21:23:21.767378",
     "exception": false,
     "start_time": "2025-07-30T21:23:21.688608",
     "status": "completed"
    },
    "tags": []
   },
   "outputs": [],
   "source": [
    "X_calib = siab_calib.iloc[:,4:164]\n",
    "y_calib = siab_calib.iloc[:, [3]]"
   ]
  },
  {
   "cell_type": "code",
   "execution_count": 23,
   "id": "c34be9c3-6bd6-476e-acd3-845840e303be",
   "metadata": {
    "execution": {
     "iopub.execute_input": "2025-07-30T21:23:21.815930Z",
     "iopub.status.busy": "2025-07-30T21:23:21.815450Z",
     "iopub.status.idle": "2025-07-30T21:23:21.873445Z",
     "shell.execute_reply": "2025-07-30T21:23:21.872467Z"
    },
    "papermill": {
     "duration": 0.082056,
     "end_time": "2025-07-30T21:23:21.875099",
     "exception": false,
     "start_time": "2025-07-30T21:23:21.793043",
     "status": "completed"
    },
    "tags": []
   },
   "outputs": [],
   "source": [
    "X_test = siab_test.iloc[:,4:164]\n",
    "y_true = siab_test.iloc[:, [3]]"
   ]
  },
  {
   "cell_type": "markdown",
   "id": "9901737e-04df-44f0-9100-f5ad144ed040",
   "metadata": {
    "papermill": {
     "duration": 0.020314,
     "end_time": "2025-07-30T21:23:21.917626",
     "exception": false,
     "start_time": "2025-07-30T21:23:21.897312",
     "status": "completed"
    },
    "tags": []
   },
   "source": [
    "# Splitting Data and Setting Training Data Size OLD VERSION"
   ]
  },
  {
   "cell_type": "code",
   "execution_count": 24,
   "id": "acbc8f7d-8fc8-4e86-8c59-5dcb0f58384b",
   "metadata": {
    "execution": {
     "iopub.execute_input": "2025-07-30T21:23:21.960342Z",
     "iopub.status.busy": "2025-07-30T21:23:21.959722Z",
     "iopub.status.idle": "2025-07-30T21:23:21.966752Z",
     "shell.execute_reply": "2025-07-30T21:23:21.965483Z"
    },
    "papermill": {
     "duration": 0.031033,
     "end_time": "2025-07-30T21:23:21.969236",
     "exception": false,
     "start_time": "2025-07-30T21:23:21.938203",
     "status": "completed"
    },
    "tags": []
   },
   "outputs": [],
   "source": [
    "#def sample_by_year(df, training_size, random_state=42):\n",
    "#    if training_size == \"2014\":\n",
    "#        return df[df[\"year\"] == 2014].reset_index(drop=True)\n",
    "#    \n",
    "#    size_map = {\n",
    "#        \"25k\": 5000,\n",
    "#        \"5k\": 1000,\n",
    "#        \"1k\": 200\n",
    "#    }\n",
    "#\n",
    "#    if training_size not in size_map:\n",
    "#        return df.reset_index(drop=True)  # use all data\n",
    "#\n",
    "#    n_per_year = size_map[training_size]\n",
    "#    grouped = df.groupby(\"year\")\n",
    "#    sampled = grouped.apply(lambda x: x.sample(n=min(n_per_year, len(x)), random_state=random_state))\n",
    "#    return sampled.reset_index(drop=True)"
   ]
  },
  {
   "cell_type": "code",
   "execution_count": 25,
   "id": "6d931f52-beaf-43ff-9e78-9d44a448d54e",
   "metadata": {
    "execution": {
     "iopub.execute_input": "2025-07-30T21:23:22.036277Z",
     "iopub.status.busy": "2025-07-30T21:23:22.035402Z",
     "iopub.status.idle": "2025-07-30T21:23:22.040782Z",
     "shell.execute_reply": "2025-07-30T21:23:22.039780Z"
    },
    "papermill": {
     "duration": 0.041533,
     "end_time": "2025-07-30T21:23:22.043074",
     "exception": false,
     "start_time": "2025-07-30T21:23:22.001541",
     "status": "completed"
    },
    "tags": []
   },
   "outputs": [],
   "source": [
    "#siab_s = sample_by_year(siab, universe[\"training_size\"])"
   ]
  },
  {
   "cell_type": "code",
   "execution_count": 26,
   "id": "5db0a40e-a4e2-4920-be85-b12ae061d70d",
   "metadata": {
    "execution": {
     "iopub.execute_input": "2025-07-30T21:23:22.093587Z",
     "iopub.status.busy": "2025-07-30T21:23:22.093135Z",
     "iopub.status.idle": "2025-07-30T21:23:22.098387Z",
     "shell.execute_reply": "2025-07-30T21:23:22.097421Z"
    },
    "papermill": {
     "duration": 0.030945,
     "end_time": "2025-07-30T21:23:22.100205",
     "exception": false,
     "start_time": "2025-07-30T21:23:22.069260",
     "status": "completed"
    },
    "tags": []
   },
   "outputs": [],
   "source": [
    "#display(siab_s.groupby(\"year\").size())"
   ]
  },
  {
   "cell_type": "code",
   "execution_count": 27,
   "id": "e6c733c5",
   "metadata": {
    "execution": {
     "iopub.execute_input": "2025-07-30T21:23:22.149607Z",
     "iopub.status.busy": "2025-07-30T21:23:22.148507Z",
     "iopub.status.idle": "2025-07-30T21:23:22.305812Z",
     "shell.execute_reply": "2025-07-30T21:23:22.304605Z"
    },
    "papermill": {
     "duration": 0.185778,
     "end_time": "2025-07-30T21:23:22.309533",
     "exception": false,
     "start_time": "2025-07-30T21:23:22.123755",
     "status": "completed"
    },
    "tags": []
   },
   "outputs": [],
   "source": [
    "# Auxiliary data needed downstream in the pipeline\n",
    "\n",
    "org_train = X_train.copy()\n",
    "org_test = X_test.copy()\n",
    "org_calib = X_calib.copy()"
   ]
  },
  {
   "cell_type": "code",
   "execution_count": 28,
   "id": "1466abac-c6da-4492-a62f-4240ae3783af",
   "metadata": {
    "execution": {
     "iopub.execute_input": "2025-07-30T21:23:22.355131Z",
     "iopub.status.busy": "2025-07-30T21:23:22.354617Z",
     "iopub.status.idle": "2025-07-30T21:23:22.360804Z",
     "shell.execute_reply": "2025-07-30T21:23:22.359747Z"
    },
    "papermill": {
     "duration": 0.030219,
     "end_time": "2025-07-30T21:23:22.362599",
     "exception": false,
     "start_time": "2025-07-30T21:23:22.332380",
     "status": "completed"
    },
    "tags": []
   },
   "outputs": [],
   "source": [
    "# put in other script?\n",
    "# Group sizes\n",
    "\n",
    "#def calculate_percentages(df, df_name):\n",
    "#    total_entries = len(df)\n",
    "#\n",
    "#    female_pct = (df['frau1'] == 1).mean() * 100\n",
    "#    non_german_pct = ((df['maxdeutsch1'] == 0) & (df['maxdeutsch.Missing.'] == 0)).mean() * 100\n",
    "#    non_german_male_pct = ((df['frau1'] == 0) & (df['maxdeutsch1'] == 0) & (df['maxdeutsch.Missing.'] == 0)).mean() * 100\n",
    "#    non_german_female_pct = ((df['frau1'] == 1) & (df['maxdeutsch1'] == 0) & (df['maxdeutsch.Missing.'] == 0)).mean() * 100\n",
    "#\n",
    "#    print(f\"--- {df_name} ---\")\n",
    "#    print(f\"Female: {female_pct:.2f}%\")\n",
    "#    print(f\"Non-German: {non_german_pct:.2f}%\")\n",
    "#    print(f\"Non-German Male: {non_german_male_pct:.2f}%\")\n",
    "#    print(f\"Non-German Female: {non_german_female_pct:.2f}%\\n\")\n",
    "#\n",
    "## Calculate for each DataFrame\n",
    "#calculate_percentages(siab_calib, \"siab_calib\")\n",
    "#calculate_percentages(siab_test, \"siab_test\")\n",
    "#calculate_percentages(siab_train, \"siab_train\")"
   ]
  },
  {
   "cell_type": "markdown",
   "id": "0a4a1b33",
   "metadata": {
    "papermill": {
     "duration": 0.024583,
     "end_time": "2025-07-30T21:23:22.410351",
     "exception": false,
     "start_time": "2025-07-30T21:23:22.385768",
     "status": "completed"
    },
    "tags": []
   },
   "source": [
    "# Preprocessing Data"
   ]
  },
  {
   "cell_type": "code",
   "execution_count": 29,
   "id": "ca879031",
   "metadata": {
    "execution": {
     "iopub.execute_input": "2025-07-30T21:23:22.472076Z",
     "iopub.status.busy": "2025-07-30T21:23:22.471524Z",
     "iopub.status.idle": "2025-07-30T21:23:22.479024Z",
     "shell.execute_reply": "2025-07-30T21:23:22.477699Z"
    },
    "papermill": {
     "duration": 0.041184,
     "end_time": "2025-07-30T21:23:22.481386",
     "exception": false,
     "start_time": "2025-07-30T21:23:22.440202",
     "status": "completed"
    },
    "tags": []
   },
   "outputs": [],
   "source": [
    "# EXCLUDE PROTECTED FEATURES\n",
    "# ----------------------\n",
    "# \"exclude_features\": \"none\", # \"nationality\", \"sex\", \"nationality-sex\"\n",
    "\n",
    "excluded_features = universe[\"exclude_features\"].split(\"-\") # split, e.g.: \"nationality-sex\" -> [\"nationality\", \"sex\"]\n",
    "excluded_features_dictionary = {\n",
    "    \"nationality\": [\"maxdeutsch1\", \"maxdeutsch.Missing.\"],\n",
    "    \"sex\": [\"frau1\"],\n",
    "    \"age\": [\"age\"],\n",
    "}\n"
   ]
  },
  {
   "cell_type": "code",
   "execution_count": 30,
   "id": "b745ac60",
   "metadata": {
    "execution": {
     "iopub.execute_input": "2025-07-30T21:23:22.551804Z",
     "iopub.status.busy": "2025-07-30T21:23:22.550897Z",
     "iopub.status.idle": "2025-07-30T21:23:22.558971Z",
     "shell.execute_reply": "2025-07-30T21:23:22.557451Z"
    },
    "papermill": {
     "duration": 0.045326,
     "end_time": "2025-07-30T21:23:22.561448",
     "exception": false,
     "start_time": "2025-07-30T21:23:22.516122",
     "status": "completed"
    },
    "tags": []
   },
   "outputs": [],
   "source": [
    "# Code nice names to column names\n",
    "\n",
    "excluded_features_columns = [\n",
    "    excluded_features_dictionary[f] for f in excluded_features if len(f) > 0 and f != \"none\"\n",
    "]"
   ]
  },
  {
   "cell_type": "code",
   "execution_count": 31,
   "id": "f84f73a2",
   "metadata": {
    "execution": {
     "iopub.execute_input": "2025-07-30T21:23:22.625726Z",
     "iopub.status.busy": "2025-07-30T21:23:22.625131Z",
     "iopub.status.idle": "2025-07-30T21:23:22.631525Z",
     "shell.execute_reply": "2025-07-30T21:23:22.630784Z"
    },
    "papermill": {
     "duration": 0.038602,
     "end_time": "2025-07-30T21:23:22.633004",
     "exception": false,
     "start_time": "2025-07-30T21:23:22.594402",
     "status": "completed"
    },
    "tags": []
   },
   "outputs": [],
   "source": [
    "from utils import flatten_once\n",
    "\n",
    "excluded_features_columns = flatten_once(excluded_features_columns)"
   ]
  },
  {
   "cell_type": "code",
   "execution_count": 32,
   "id": "884dea22",
   "metadata": {
    "execution": {
     "iopub.execute_input": "2025-07-30T21:23:22.664761Z",
     "iopub.status.busy": "2025-07-30T21:23:22.664242Z",
     "iopub.status.idle": "2025-07-30T21:23:22.669177Z",
     "shell.execute_reply": "2025-07-30T21:23:22.668220Z"
    },
    "papermill": {
     "duration": 0.024567,
     "end_time": "2025-07-30T21:23:22.670900",
     "exception": false,
     "start_time": "2025-07-30T21:23:22.646333",
     "status": "completed"
    },
    "tags": []
   },
   "outputs": [],
   "source": [
    "if len(excluded_features_columns) > 0:\n",
    "    print(f\"Dropping features: {excluded_features_columns}\")\n",
    "    X_train.drop(excluded_features_columns, axis=1, inplace=True)"
   ]
  },
  {
   "cell_type": "code",
   "execution_count": 33,
   "id": "95ab8b16",
   "metadata": {
    "execution": {
     "iopub.execute_input": "2025-07-30T21:23:22.718061Z",
     "iopub.status.busy": "2025-07-30T21:23:22.717543Z",
     "iopub.status.idle": "2025-07-30T21:23:22.723232Z",
     "shell.execute_reply": "2025-07-30T21:23:22.722340Z"
    },
    "papermill": {
     "duration": 0.031665,
     "end_time": "2025-07-30T21:23:22.725103",
     "exception": false,
     "start_time": "2025-07-30T21:23:22.693438",
     "status": "completed"
    },
    "tags": []
   },
   "outputs": [],
   "source": [
    "if len(excluded_features_columns) > 0:\n",
    "    print(f\"Dropping features: {excluded_features_columns}\")\n",
    "    X_test.drop(excluded_features_columns, axis=1, inplace=True)"
   ]
  },
  {
   "cell_type": "code",
   "execution_count": 34,
   "id": "1853aaf5-fb9f-46cb-a2b5-8ea4ae2237e4",
   "metadata": {
    "execution": {
     "iopub.execute_input": "2025-07-30T21:23:22.772872Z",
     "iopub.status.busy": "2025-07-30T21:23:22.772453Z",
     "iopub.status.idle": "2025-07-30T21:23:22.778272Z",
     "shell.execute_reply": "2025-07-30T21:23:22.777415Z"
    },
    "papermill": {
     "duration": 0.031979,
     "end_time": "2025-07-30T21:23:22.779734",
     "exception": false,
     "start_time": "2025-07-30T21:23:22.747755",
     "status": "completed"
    },
    "tags": []
   },
   "outputs": [],
   "source": [
    "if len(excluded_features_columns) > 0:\n",
    "    print(f\"Dropping features: {excluded_features_columns}\")\n",
    "    X_calib.drop(excluded_features_columns, axis=1, inplace=True)"
   ]
  },
  {
   "cell_type": "code",
   "execution_count": 35,
   "id": "6727d079-03e5-481e-9d38-292a90b7a0a8",
   "metadata": {
    "execution": {
     "iopub.execute_input": "2025-07-30T21:23:22.807687Z",
     "iopub.status.busy": "2025-07-30T21:23:22.806970Z",
     "iopub.status.idle": "2025-07-30T21:23:22.811761Z",
     "shell.execute_reply": "2025-07-30T21:23:22.810650Z"
    },
    "papermill": {
     "duration": 0.020926,
     "end_time": "2025-07-30T21:23:22.813499",
     "exception": false,
     "start_time": "2025-07-30T21:23:22.792573",
     "status": "completed"
    },
    "tags": []
   },
   "outputs": [],
   "source": [
    "# SPLIT & STRATIFY DATA\n",
    "# ----------------------"
   ]
  },
  {
   "cell_type": "code",
   "execution_count": 36,
   "id": "76c4dc6d",
   "metadata": {
    "execution": {
     "iopub.execute_input": "2025-07-30T21:23:22.840752Z",
     "iopub.status.busy": "2025-07-30T21:23:22.840404Z",
     "iopub.status.idle": "2025-07-30T21:23:22.845793Z",
     "shell.execute_reply": "2025-07-30T21:23:22.844701Z"
    },
    "papermill": {
     "duration": 0.021197,
     "end_time": "2025-07-30T21:23:22.847594",
     "exception": false,
     "start_time": "2025-07-30T21:23:22.826397",
     "status": "completed"
    },
    "tags": []
   },
   "outputs": [],
   "source": [
    "# EXCLUDE CERTAIN SUBGROUPS\n",
    "# ----------------------\n",
    "\n",
    "mode = universe.get(\"exclude_subgroups\", \"keep-all\") \n",
    "# Fetches the exclude_subgroups setting from the universe dict.\n",
    "# Defaults to \"keep-all\" if the key is missing."
   ]
  },
  {
   "cell_type": "code",
   "execution_count": 37,
   "id": "21994072",
   "metadata": {
    "execution": {
     "iopub.execute_input": "2025-07-30T21:23:22.896799Z",
     "iopub.status.busy": "2025-07-30T21:23:22.896320Z",
     "iopub.status.idle": "2025-07-30T21:23:22.903151Z",
     "shell.execute_reply": "2025-07-30T21:23:22.902284Z"
    },
    "papermill": {
     "duration": 0.03313,
     "end_time": "2025-07-30T21:23:22.904936",
     "exception": false,
     "start_time": "2025-07-30T21:23:22.871806",
     "status": "completed"
    },
    "tags": []
   },
   "outputs": [],
   "source": [
    "if mode == \"keep-all\":\n",
    "    keep_mask = pd.Series(True, index=org_train.index)\n",
    "\n",
    "# org_train contains the original feature columns from features_org (in Simson)\n",
    "# features_org contains unprocessed features, for me X_train at beginning ???\n",
    "# For keep-all, creates a boolean Series (keep_mask) of all True, so no rows are removed.\n",
    "\n",
    "elif mode == \"drop-non-german\":\n",
    "    keep_mask = org_train[\"maxdeutsch1\"] == 1 # ??? what about missing values?\n",
    "\n",
    "else:\n",
    "    raise ValueError(f\"Unsupported mode for exclude_subgroups: {mode}\")\n"
   ]
  },
  {
   "cell_type": "code",
   "execution_count": 38,
   "id": "71651440",
   "metadata": {
    "execution": {
     "iopub.execute_input": "2025-07-30T21:23:22.935156Z",
     "iopub.status.busy": "2025-07-30T21:23:22.934661Z",
     "iopub.status.idle": "2025-07-30T21:23:22.941556Z",
     "shell.execute_reply": "2025-07-30T21:23:22.940377Z"
    },
    "papermill": {
     "duration": 0.022098,
     "end_time": "2025-07-30T21:23:22.943361",
     "exception": false,
     "start_time": "2025-07-30T21:23:22.921263",
     "status": "completed"
    },
    "tags": []
   },
   "outputs": [],
   "source": [
    "n_drop = (~keep_mask).sum() # Calculates how many rows are set to be dropped\n",
    "if n_drop > 0:\n",
    "    pct = n_drop / len(keep_mask) * 100\n",
    "    print(f\"Dropping {n_drop} rows ({pct:.2f}%) where mode='{mode}'\")"
   ]
  },
  {
   "cell_type": "code",
   "execution_count": 39,
   "id": "5fb8eee5",
   "metadata": {
    "execution": {
     "iopub.execute_input": "2025-07-30T21:23:22.993984Z",
     "iopub.status.busy": "2025-07-30T21:23:22.993330Z",
     "iopub.status.idle": "2025-07-30T21:23:23.001748Z",
     "shell.execute_reply": "2025-07-30T21:23:23.000417Z"
    },
    "papermill": {
     "duration": 0.035038,
     "end_time": "2025-07-30T21:23:23.003636",
     "exception": false,
     "start_time": "2025-07-30T21:23:22.968598",
     "status": "completed"
    },
    "tags": []
   },
   "outputs": [],
   "source": [
    "X_train = X_train[keep_mask]"
   ]
  },
  {
   "cell_type": "code",
   "execution_count": 40,
   "id": "b202bb3a",
   "metadata": {
    "execution": {
     "iopub.execute_input": "2025-07-30T21:23:23.053652Z",
     "iopub.status.busy": "2025-07-30T21:23:23.052684Z",
     "iopub.status.idle": "2025-07-30T21:23:23.060579Z",
     "shell.execute_reply": "2025-07-30T21:23:23.059286Z"
    },
    "papermill": {
     "duration": 0.034806,
     "end_time": "2025-07-30T21:23:23.062648",
     "exception": false,
     "start_time": "2025-07-30T21:23:23.027842",
     "status": "completed"
    },
    "tags": []
   },
   "outputs": [],
   "source": [
    "y_train = y_train[keep_mask]"
   ]
  },
  {
   "cell_type": "markdown",
   "id": "493e2ac3",
   "metadata": {
    "papermill": {
     "duration": 0.026096,
     "end_time": "2025-07-30T21:23:23.113565",
     "exception": false,
     "start_time": "2025-07-30T21:23:23.087469",
     "status": "completed"
    },
    "tags": []
   },
   "source": [
    "# Model Training"
   ]
  },
  {
   "cell_type": "code",
   "execution_count": 41,
   "id": "679e1268",
   "metadata": {
    "execution": {
     "iopub.execute_input": "2025-07-30T21:23:23.159930Z",
     "iopub.status.busy": "2025-07-30T21:23:23.159416Z",
     "iopub.status.idle": "2025-07-30T21:23:23.265649Z",
     "shell.execute_reply": "2025-07-30T21:23:23.264533Z"
    },
    "papermill": {
     "duration": 0.132425,
     "end_time": "2025-07-30T21:23:23.268003",
     "exception": false,
     "start_time": "2025-07-30T21:23:23.135578",
     "status": "completed"
    },
    "tags": []
   },
   "outputs": [],
   "source": [
    "from sklearn.linear_model import LogisticRegression\n",
    "from sklearn.ensemble import GradientBoostingClassifier, RandomForestClassifier\n",
    "\n",
    "if (universe[\"model\"] == \"logreg\"):\n",
    "    model = LogisticRegression() #penalty=\"none\") #, solver=\"newton-cg\", max_iter=1) # include random_state=19 ?\n",
    "elif (universe[\"model\"] == \"penalized_logreg\"):\n",
    "    model = LogisticRegression(penalty=\"l2\", C=1.0) #, solver=\"newton-cg\", max_iter=1)\n",
    "elif (universe[\"model\"] == \"rf\"):\n",
    "    model = RandomForestClassifier(n_estimators=100, n_jobs=-1)\n",
    "elif (universe[\"model\"] == \"gbm\"):\n",
    "    model = GradientBoostingClassifier()\n",
    "elif (universe[\"model\"] == \"elasticnet\"):\n",
    "    model = LogisticRegression(penalty = 'elasticnet', solver = 'saga', l1_ratio = 0.5, max_iter=5000) # which solver to use?\n",
    "else:\n",
    "    raise \"Unsupported universe.model\""
   ]
  },
  {
   "cell_type": "code",
   "execution_count": 42,
   "id": "0cc8f744",
   "metadata": {
    "execution": {
     "iopub.execute_input": "2025-07-30T21:23:23.293450Z",
     "iopub.status.busy": "2025-07-30T21:23:23.292936Z",
     "iopub.status.idle": "2025-07-30T21:23:23.298453Z",
     "shell.execute_reply": "2025-07-30T21:23:23.297521Z"
    },
    "papermill": {
     "duration": 0.019847,
     "end_time": "2025-07-30T21:23:23.300257",
     "exception": false,
     "start_time": "2025-07-30T21:23:23.280410",
     "status": "completed"
    },
    "tags": []
   },
   "outputs": [],
   "source": [
    "import numpy as np\n",
    "from sklearn.pipeline import Pipeline\n",
    "from sklearn.preprocessing import StandardScaler\n",
    "\n",
    "model = Pipeline([\n",
    "    #(\"continuous_processor\", continuous_processor),\n",
    "    #(\"categorical_preprocessor\", categorical_preprocessor),\n",
    "    (\"scale\", StandardScaler() if universe[\"scale\"] == \"scale\" else None), \n",
    "    (\"model\", model),\n",
    "])"
   ]
  },
  {
   "cell_type": "code",
   "execution_count": 43,
   "id": "9442c04d",
   "metadata": {
    "execution": {
     "iopub.execute_input": "2025-07-30T21:23:23.330105Z",
     "iopub.status.busy": "2025-07-30T21:23:23.329750Z",
     "iopub.status.idle": "2025-07-30T21:23:23.402373Z",
     "shell.execute_reply": "2025-07-30T21:23:23.401451Z"
    },
    "papermill": {
     "duration": 0.087314,
     "end_time": "2025-07-30T21:23:23.403987",
     "exception": false,
     "start_time": "2025-07-30T21:23:23.316673",
     "status": "completed"
    },
    "tags": []
   },
   "outputs": [
    {
     "name": "stderr",
     "output_type": "stream",
     "text": [
      "/dss/dsshome1/0C/ra93lal2/.local/share/virtualenvs/CMA_Fairness_v2-3j10GkSs/lib/python3.10/site-packages/sklearn/linear_model/_logistic.py:444: ConvergenceWarning: lbfgs failed to converge (status=1):\n",
      "STOP: TOTAL NO. of ITERATIONS REACHED LIMIT.\n",
      "\n",
      "Increase the number of iterations (max_iter) or scale the data as shown in:\n",
      "    https://scikit-learn.org/stable/modules/preprocessing.html\n",
      "Please also refer to the documentation for alternative solver options:\n",
      "    https://scikit-learn.org/stable/modules/linear_model.html#logistic-regression\n",
      "  n_iter_i = _check_optimize_result(\n"
     ]
    },
    {
     "data": {
      "text/html": [
       "<style>#sk-container-id-1 {color: black;background-color: white;}#sk-container-id-1 pre{padding: 0;}#sk-container-id-1 div.sk-toggleable {background-color: white;}#sk-container-id-1 label.sk-toggleable__label {cursor: pointer;display: block;width: 100%;margin-bottom: 0;padding: 0.3em;box-sizing: border-box;text-align: center;}#sk-container-id-1 label.sk-toggleable__label-arrow:before {content: \"▸\";float: left;margin-right: 0.25em;color: #696969;}#sk-container-id-1 label.sk-toggleable__label-arrow:hover:before {color: black;}#sk-container-id-1 div.sk-estimator:hover label.sk-toggleable__label-arrow:before {color: black;}#sk-container-id-1 div.sk-toggleable__content {max-height: 0;max-width: 0;overflow: hidden;text-align: left;background-color: #f0f8ff;}#sk-container-id-1 div.sk-toggleable__content pre {margin: 0.2em;color: black;border-radius: 0.25em;background-color: #f0f8ff;}#sk-container-id-1 input.sk-toggleable__control:checked~div.sk-toggleable__content {max-height: 200px;max-width: 100%;overflow: auto;}#sk-container-id-1 input.sk-toggleable__control:checked~label.sk-toggleable__label-arrow:before {content: \"▾\";}#sk-container-id-1 div.sk-estimator input.sk-toggleable__control:checked~label.sk-toggleable__label {background-color: #d4ebff;}#sk-container-id-1 div.sk-label input.sk-toggleable__control:checked~label.sk-toggleable__label {background-color: #d4ebff;}#sk-container-id-1 input.sk-hidden--visually {border: 0;clip: rect(1px 1px 1px 1px);clip: rect(1px, 1px, 1px, 1px);height: 1px;margin: -1px;overflow: hidden;padding: 0;position: absolute;width: 1px;}#sk-container-id-1 div.sk-estimator {font-family: monospace;background-color: #f0f8ff;border: 1px dotted black;border-radius: 0.25em;box-sizing: border-box;margin-bottom: 0.5em;}#sk-container-id-1 div.sk-estimator:hover {background-color: #d4ebff;}#sk-container-id-1 div.sk-parallel-item::after {content: \"\";width: 100%;border-bottom: 1px solid gray;flex-grow: 1;}#sk-container-id-1 div.sk-label:hover label.sk-toggleable__label {background-color: #d4ebff;}#sk-container-id-1 div.sk-serial::before {content: \"\";position: absolute;border-left: 1px solid gray;box-sizing: border-box;top: 0;bottom: 0;left: 50%;z-index: 0;}#sk-container-id-1 div.sk-serial {display: flex;flex-direction: column;align-items: center;background-color: white;padding-right: 0.2em;padding-left: 0.2em;position: relative;}#sk-container-id-1 div.sk-item {position: relative;z-index: 1;}#sk-container-id-1 div.sk-parallel {display: flex;align-items: stretch;justify-content: center;background-color: white;position: relative;}#sk-container-id-1 div.sk-item::before, #sk-container-id-1 div.sk-parallel-item::before {content: \"\";position: absolute;border-left: 1px solid gray;box-sizing: border-box;top: 0;bottom: 0;left: 50%;z-index: -1;}#sk-container-id-1 div.sk-parallel-item {display: flex;flex-direction: column;z-index: 1;position: relative;background-color: white;}#sk-container-id-1 div.sk-parallel-item:first-child::after {align-self: flex-end;width: 50%;}#sk-container-id-1 div.sk-parallel-item:last-child::after {align-self: flex-start;width: 50%;}#sk-container-id-1 div.sk-parallel-item:only-child::after {width: 0;}#sk-container-id-1 div.sk-dashed-wrapped {border: 1px dashed gray;margin: 0 0.4em 0.5em 0.4em;box-sizing: border-box;padding-bottom: 0.4em;background-color: white;}#sk-container-id-1 div.sk-label label {font-family: monospace;font-weight: bold;display: inline-block;line-height: 1.2em;}#sk-container-id-1 div.sk-label-container {text-align: center;}#sk-container-id-1 div.sk-container {/* jupyter's `normalize.less` sets `[hidden] { display: none; }` but bootstrap.min.css set `[hidden] { display: none !important; }` so we also need the `!important` here to be able to override the default hidden behavior on the sphinx rendered scikit-learn.org. See: https://github.com/scikit-learn/scikit-learn/issues/21755 */display: inline-block !important;position: relative;}#sk-container-id-1 div.sk-text-repr-fallback {display: none;}</style><div id=\"sk-container-id-1\" class=\"sk-top-container\"><div class=\"sk-text-repr-fallback\"><pre>Pipeline(steps=[(&#x27;scale&#x27;, StandardScaler()), (&#x27;model&#x27;, LogisticRegression())])</pre><b>In a Jupyter environment, please rerun this cell to show the HTML representation or trust the notebook. <br />On GitHub, the HTML representation is unable to render, please try loading this page with nbviewer.org.</b></div><div class=\"sk-container\" hidden><div class=\"sk-item sk-dashed-wrapped\"><div class=\"sk-label-container\"><div class=\"sk-label sk-toggleable\"><input class=\"sk-toggleable__control sk-hidden--visually\" id=\"sk-estimator-id-1\" type=\"checkbox\" ><label for=\"sk-estimator-id-1\" class=\"sk-toggleable__label sk-toggleable__label-arrow\">Pipeline</label><div class=\"sk-toggleable__content\"><pre>Pipeline(steps=[(&#x27;scale&#x27;, StandardScaler()), (&#x27;model&#x27;, LogisticRegression())])</pre></div></div></div><div class=\"sk-serial\"><div class=\"sk-item\"><div class=\"sk-estimator sk-toggleable\"><input class=\"sk-toggleable__control sk-hidden--visually\" id=\"sk-estimator-id-2\" type=\"checkbox\" ><label for=\"sk-estimator-id-2\" class=\"sk-toggleable__label sk-toggleable__label-arrow\">StandardScaler</label><div class=\"sk-toggleable__content\"><pre>StandardScaler()</pre></div></div></div><div class=\"sk-item\"><div class=\"sk-estimator sk-toggleable\"><input class=\"sk-toggleable__control sk-hidden--visually\" id=\"sk-estimator-id-3\" type=\"checkbox\" ><label for=\"sk-estimator-id-3\" class=\"sk-toggleable__label sk-toggleable__label-arrow\">LogisticRegression</label><div class=\"sk-toggleable__content\"><pre>LogisticRegression()</pre></div></div></div></div></div></div></div>"
      ],
      "text/plain": [
       "Pipeline(steps=[('scale', StandardScaler()), ('model', LogisticRegression())])"
      ]
     },
     "execution_count": 43,
     "metadata": {},
     "output_type": "execute_result"
    }
   ],
   "source": [
    "model.fit(X_train, y_train.values.ravel())"
   ]
  },
  {
   "cell_type": "code",
   "execution_count": 44,
   "id": "af59f8c0",
   "metadata": {
    "execution": {
     "iopub.execute_input": "2025-07-30T21:23:23.454230Z",
     "iopub.status.busy": "2025-07-30T21:23:23.453425Z",
     "iopub.status.idle": "2025-07-30T21:23:23.459264Z",
     "shell.execute_reply": "2025-07-30T21:23:23.458298Z"
    },
    "papermill": {
     "duration": 0.033261,
     "end_time": "2025-07-30T21:23:23.461153",
     "exception": false,
     "start_time": "2025-07-30T21:23:23.427892",
     "status": "completed"
    },
    "tags": []
   },
   "outputs": [],
   "source": [
    "from fairness_multiverse.universe import predict_w_threshold"
   ]
  },
  {
   "cell_type": "code",
   "execution_count": 45,
   "id": "a7cf2e16",
   "metadata": {
    "execution": {
     "iopub.execute_input": "2025-07-30T21:23:23.511919Z",
     "iopub.status.busy": "2025-07-30T21:23:23.511415Z",
     "iopub.status.idle": "2025-07-30T21:23:23.699921Z",
     "shell.execute_reply": "2025-07-30T21:23:23.698827Z"
    },
    "papermill": {
     "duration": 0.216139,
     "end_time": "2025-07-30T21:23:23.702052",
     "exception": false,
     "start_time": "2025-07-30T21:23:23.485913",
     "status": "completed"
    },
    "tags": []
   },
   "outputs": [
    {
     "data": {
      "text/plain": [
       "0.8172444543529149"
      ]
     },
     "execution_count": 45,
     "metadata": {},
     "output_type": "execute_result"
    }
   ],
   "source": [
    "probs_test = model.predict_proba(X_test)\n",
    "\n",
    "'''\n",
    "Below code returns a boolean array (or binary 0/1 array depending on how it’s used) where each element \n",
    "is True if the probability of class 1 is greater than or equal to the threshold, and False otherwise.\n",
    "'''\n",
    "y_pred_default = predict_w_threshold(probs_test, 0.5)\n",
    "\n",
    "from sklearn.metrics import accuracy_score\n",
    "\n",
    "# Naive prediction\n",
    "accuracy_score(y_true = y_true, y_pred = y_pred_default)"
   ]
  },
  {
   "cell_type": "code",
   "execution_count": 46,
   "id": "081964c3",
   "metadata": {
    "execution": {
     "iopub.execute_input": "2025-07-30T21:23:23.757037Z",
     "iopub.status.busy": "2025-07-30T21:23:23.755918Z",
     "iopub.status.idle": "2025-07-30T21:23:23.998593Z",
     "shell.execute_reply": "2025-07-30T21:23:23.997563Z"
    },
    "papermill": {
     "duration": 0.272551,
     "end_time": "2025-07-30T21:23:24.000746",
     "exception": false,
     "start_time": "2025-07-30T21:23:23.728195",
     "status": "completed"
    },
    "tags": []
   },
   "outputs": [
    {
     "data": {
      "text/plain": [
       "array([0, 0, 0, ..., 0, 0, 0])"
      ]
     },
     "execution_count": 46,
     "metadata": {},
     "output_type": "execute_result"
    }
   ],
   "source": [
    "model.predict(X_test)"
   ]
  },
  {
   "cell_type": "markdown",
   "id": "56c9705b",
   "metadata": {
    "papermill": {
     "duration": 0.023766,
     "end_time": "2025-07-30T21:23:24.049987",
     "exception": false,
     "start_time": "2025-07-30T21:23:24.026221",
     "status": "completed"
    },
    "tags": []
   },
   "source": [
    "# Conformal Prediction"
   ]
  },
  {
   "cell_type": "code",
   "execution_count": 47,
   "id": "160ec6ff",
   "metadata": {
    "execution": {
     "iopub.execute_input": "2025-07-30T21:23:24.100395Z",
     "iopub.status.busy": "2025-07-30T21:23:24.099267Z",
     "iopub.status.idle": "2025-07-30T21:23:24.105020Z",
     "shell.execute_reply": "2025-07-30T21:23:24.103998Z"
    },
    "papermill": {
     "duration": 0.033373,
     "end_time": "2025-07-30T21:23:24.107401",
     "exception": false,
     "start_time": "2025-07-30T21:23:24.074028",
     "status": "completed"
    },
    "tags": []
   },
   "outputs": [],
   "source": [
    "# Miscoverage level for conformal prediction (10% allowed error rate => 90% target coverage)\n",
    "alpha = 0.1"
   ]
  },
  {
   "cell_type": "code",
   "execution_count": 48,
   "id": "eadf4555-3dd3-440e-8e35-f82a4ad9f855",
   "metadata": {
    "execution": {
     "iopub.execute_input": "2025-07-30T21:23:24.159080Z",
     "iopub.status.busy": "2025-07-30T21:23:24.158556Z",
     "iopub.status.idle": "2025-07-30T21:23:24.345141Z",
     "shell.execute_reply": "2025-07-30T21:23:24.344106Z"
    },
    "papermill": {
     "duration": 0.214191,
     "end_time": "2025-07-30T21:23:24.346996",
     "exception": false,
     "start_time": "2025-07-30T21:23:24.132805",
     "status": "completed"
    },
    "tags": []
   },
   "outputs": [],
   "source": [
    "probs_calib = model.predict_proba(X_calib)"
   ]
  },
  {
   "cell_type": "code",
   "execution_count": 49,
   "id": "2ed93547-6d5d-4983-9b36-1ecb300da49a",
   "metadata": {
    "execution": {
     "iopub.execute_input": "2025-07-30T21:23:24.399342Z",
     "iopub.status.busy": "2025-07-30T21:23:24.398844Z",
     "iopub.status.idle": "2025-07-30T21:23:24.404732Z",
     "shell.execute_reply": "2025-07-30T21:23:24.403783Z"
    },
    "papermill": {
     "duration": 0.032942,
     "end_time": "2025-07-30T21:23:24.406515",
     "exception": false,
     "start_time": "2025-07-30T21:23:24.373573",
     "status": "completed"
    },
    "tags": []
   },
   "outputs": [],
   "source": [
    "y_calib = y_calib.values.ravel().astype(int)"
   ]
  },
  {
   "cell_type": "code",
   "execution_count": 50,
   "id": "65d1320d-f588-4b38-9072-62af1ae97f7d",
   "metadata": {
    "execution": {
     "iopub.execute_input": "2025-07-30T21:23:24.456504Z",
     "iopub.status.busy": "2025-07-30T21:23:24.455965Z",
     "iopub.status.idle": "2025-07-30T21:23:24.463547Z",
     "shell.execute_reply": "2025-07-30T21:23:24.462617Z"
    },
    "papermill": {
     "duration": 0.03354,
     "end_time": "2025-07-30T21:23:24.465341",
     "exception": false,
     "start_time": "2025-07-30T21:23:24.431801",
     "status": "completed"
    },
    "tags": []
   },
   "outputs": [],
   "source": [
    "from fairness_multiverse.conformal import compute_nc_scores\n",
    "\n",
    "# Compute nonconformity scores on calibration set (1 - probability of true class)\n",
    "nc_scores = compute_nc_scores(probs_calib, y_calib)"
   ]
  },
  {
   "cell_type": "code",
   "execution_count": 51,
   "id": "df3b8ca3-53b7-43d5-9667-7c85da7aeda2",
   "metadata": {
    "execution": {
     "iopub.execute_input": "2025-07-30T21:23:24.514764Z",
     "iopub.status.busy": "2025-07-30T21:23:24.513887Z",
     "iopub.status.idle": "2025-07-30T21:23:24.521033Z",
     "shell.execute_reply": "2025-07-30T21:23:24.520130Z"
    },
    "papermill": {
     "duration": 0.033364,
     "end_time": "2025-07-30T21:23:24.522563",
     "exception": false,
     "start_time": "2025-07-30T21:23:24.489199",
     "status": "completed"
    },
    "tags": []
   },
   "outputs": [],
   "source": [
    "from fairness_multiverse.conformal import find_threshold\n",
    "\n",
    "# Find conformal threshold q_hat for the given alpha (split conformal method)\n",
    "q_hat = find_threshold(nc_scores, alpha)"
   ]
  },
  {
   "cell_type": "code",
   "execution_count": 52,
   "id": "4d29e6c1-0ef6-4aa4-b8fe-4fe79b0d033a",
   "metadata": {
    "execution": {
     "iopub.execute_input": "2025-07-30T21:23:24.572119Z",
     "iopub.status.busy": "2025-07-30T21:23:24.571296Z",
     "iopub.status.idle": "2025-07-30T21:23:24.578931Z",
     "shell.execute_reply": "2025-07-30T21:23:24.577848Z"
    },
    "papermill": {
     "duration": 0.034214,
     "end_time": "2025-07-30T21:23:24.580839",
     "exception": false,
     "start_time": "2025-07-30T21:23:24.546625",
     "status": "completed"
    },
    "tags": []
   },
   "outputs": [
    {
     "data": {
      "text/plain": [
       "0.8062584726756573"
      ]
     },
     "execution_count": 52,
     "metadata": {},
     "output_type": "execute_result"
    }
   ],
   "source": [
    "q_hat"
   ]
  },
  {
   "cell_type": "code",
   "execution_count": 53,
   "id": "92460794-cdac-4be2-ba28-f28c0515a6fb",
   "metadata": {
    "execution": {
     "iopub.execute_input": "2025-07-30T21:23:24.630933Z",
     "iopub.status.busy": "2025-07-30T21:23:24.630321Z",
     "iopub.status.idle": "2025-07-30T21:23:25.552201Z",
     "shell.execute_reply": "2025-07-30T21:23:25.550051Z"
    },
    "papermill": {
     "duration": 0.949264,
     "end_time": "2025-07-30T21:23:25.554380",
     "exception": false,
     "start_time": "2025-07-30T21:23:24.605116",
     "status": "completed"
    },
    "tags": []
   },
   "outputs": [],
   "source": [
    "from fairness_multiverse.conformal import predict_conformal_sets\n",
    "\n",
    "# Generate prediction sets for each test example\n",
    "pred_sets = predict_conformal_sets(model, X_test, q_hat)"
   ]
  },
  {
   "cell_type": "code",
   "execution_count": 54,
   "id": "d90c9a65-e6db-4f5d-80cd-e68fb7e46829",
   "metadata": {
    "execution": {
     "iopub.execute_input": "2025-07-30T21:23:25.610802Z",
     "iopub.status.busy": "2025-07-30T21:23:25.610207Z",
     "iopub.status.idle": "2025-07-30T21:23:25.616461Z",
     "shell.execute_reply": "2025-07-30T21:23:25.615192Z"
    },
    "papermill": {
     "duration": 0.034493,
     "end_time": "2025-07-30T21:23:25.618165",
     "exception": false,
     "start_time": "2025-07-30T21:23:25.583672",
     "status": "completed"
    },
    "tags": []
   },
   "outputs": [],
   "source": [
    "y_true = y_true.squeeze()"
   ]
  },
  {
   "cell_type": "code",
   "execution_count": 55,
   "id": "3a58a54a-1e68-46b9-927a-df01f18aebc8",
   "metadata": {
    "execution": {
     "iopub.execute_input": "2025-07-30T21:23:25.668940Z",
     "iopub.status.busy": "2025-07-30T21:23:25.668426Z",
     "iopub.status.idle": "2025-07-30T21:23:26.621338Z",
     "shell.execute_reply": "2025-07-30T21:23:26.620348Z"
    },
    "papermill": {
     "duration": 0.980298,
     "end_time": "2025-07-30T21:23:26.623311",
     "exception": false,
     "start_time": "2025-07-30T21:23:25.643013",
     "status": "completed"
    },
    "tags": []
   },
   "outputs": [],
   "source": [
    "from fairness_multiverse.conformal import evaluate_sets\n",
    "\n",
    "# Evaluate coverage and average set size on test data\n",
    "metrics = evaluate_sets(pred_sets, y_true)"
   ]
  },
  {
   "cell_type": "markdown",
   "id": "2b569c12-9aaa-4c88-98c9-bbcd0cf3ebb8",
   "metadata": {
    "papermill": {
     "duration": 0.024642,
     "end_time": "2025-07-30T21:23:26.678960",
     "exception": false,
     "start_time": "2025-07-30T21:23:26.654318",
     "status": "completed"
    },
    "tags": []
   },
   "source": [
    "# CP Metrics"
   ]
  },
  {
   "cell_type": "code",
   "execution_count": 56,
   "id": "5ce0a5cb-201f-45a0-ade5-94c7f0bd6095",
   "metadata": {
    "execution": {
     "iopub.execute_input": "2025-07-30T21:23:26.717675Z",
     "iopub.status.busy": "2025-07-30T21:23:26.717264Z",
     "iopub.status.idle": "2025-07-30T21:23:26.723321Z",
     "shell.execute_reply": "2025-07-30T21:23:26.722629Z"
    },
    "papermill": {
     "duration": 0.022236,
     "end_time": "2025-07-30T21:23:26.724636",
     "exception": false,
     "start_time": "2025-07-30T21:23:26.702400",
     "status": "completed"
    },
    "tags": []
   },
   "outputs": [
    {
     "data": {
      "text/plain": [
       "{'coverage': 0.906342659681195, 'avg_size': 1.2407646862111248}"
      ]
     },
     "execution_count": 56,
     "metadata": {},
     "output_type": "execute_result"
    }
   ],
   "source": [
    "metrics"
   ]
  },
  {
   "cell_type": "code",
   "execution_count": 57,
   "id": "9b9a838d-31c9-430b-ae14-12baee460d17",
   "metadata": {
    "execution": {
     "iopub.execute_input": "2025-07-30T21:23:26.752931Z",
     "iopub.status.busy": "2025-07-30T21:23:26.752438Z",
     "iopub.status.idle": "2025-07-30T21:23:26.757815Z",
     "shell.execute_reply": "2025-07-30T21:23:26.757111Z"
    },
    "papermill": {
     "duration": 0.020772,
     "end_time": "2025-07-30T21:23:26.759111",
     "exception": false,
     "start_time": "2025-07-30T21:23:26.738339",
     "status": "completed"
    },
    "tags": []
   },
   "outputs": [],
   "source": [
    "example_universe = universe.copy()\n",
    "universe_training_year = example_universe.get(\"training_year\")\n",
    "universe_training_size = example_universe.get(\"training_size\")\n",
    "universe_scale = example_universe.get(\"scale\")\n",
    "universe_model = example_universe.get(\"model\")\n",
    "universe_exclude_features = example_universe.get(\"exclude_features\")\n",
    "universe_exclude_subgroups = example_universe.get(\"exclude_subgroups\")"
   ]
  },
  {
   "cell_type": "code",
   "execution_count": 58,
   "id": "f4b6a8ac-9dc0-4245-8a91-5b3b5999c4f9",
   "metadata": {
    "execution": {
     "iopub.execute_input": "2025-07-30T21:23:26.787854Z",
     "iopub.status.busy": "2025-07-30T21:23:26.787358Z",
     "iopub.status.idle": "2025-07-30T21:23:26.792832Z",
     "shell.execute_reply": "2025-07-30T21:23:26.792102Z"
    },
    "papermill": {
     "duration": 0.020643,
     "end_time": "2025-07-30T21:23:26.794168",
     "exception": false,
     "start_time": "2025-07-30T21:23:26.773525",
     "status": "completed"
    },
    "tags": []
   },
   "outputs": [],
   "source": [
    "cp_metrics_dict = {\n",
    "    \"universe_id\": [universe_id],\n",
    "    \"universe_training_year\": [universe_training_year],\n",
    "    \"universe_training_size\": [universe_training_size],\n",
    "    \"universe_scale\": [universe_scale],\n",
    "    \"universe_model\": [universe_model],\n",
    "    \"universe_exclude_features\": [universe_exclude_features],\n",
    "    \"universe_exclude_subgroups\": [universe_exclude_subgroups],\n",
    "    \"q_hat\": [q_hat],\n",
    "    \"coverage\": [metrics[\"coverage\"]],\n",
    "    \"avg_size\": [metrics[\"avg_size\"]],\n",
    "}"
   ]
  },
  {
   "cell_type": "code",
   "execution_count": 59,
   "id": "908acbb1-0371-4915-85ca-3fa520d2efe2",
   "metadata": {
    "execution": {
     "iopub.execute_input": "2025-07-30T21:23:26.823063Z",
     "iopub.status.busy": "2025-07-30T21:23:26.822571Z",
     "iopub.status.idle": "2025-07-30T21:23:26.829431Z",
     "shell.execute_reply": "2025-07-30T21:23:26.828689Z"
    },
    "papermill": {
     "duration": 0.022368,
     "end_time": "2025-07-30T21:23:26.830769",
     "exception": false,
     "start_time": "2025-07-30T21:23:26.808401",
     "status": "completed"
    },
    "tags": []
   },
   "outputs": [
    {
     "data": {
      "text/plain": [
       "{'universe_id': ['ab1df5f09444cd9bf2148eee8c7af9e9'],\n",
       " 'universe_training_year': ['2014'],\n",
       " 'universe_training_size': ['1k'],\n",
       " 'universe_scale': ['scale'],\n",
       " 'universe_model': ['penalized_logreg'],\n",
       " 'universe_exclude_features': ['none'],\n",
       " 'universe_exclude_subgroups': ['keep-all'],\n",
       " 'q_hat': [0.8062584726756573],\n",
       " 'coverage': [0.906342659681195],\n",
       " 'avg_size': [1.2407646862111248]}"
      ]
     },
     "execution_count": 59,
     "metadata": {},
     "output_type": "execute_result"
    }
   ],
   "source": [
    "cp_metrics_dict"
   ]
  },
  {
   "cell_type": "code",
   "execution_count": 60,
   "id": "33007efc-14e9-4ec6-97ac-56a455c82265",
   "metadata": {
    "execution": {
     "iopub.execute_input": "2025-07-30T21:23:26.860147Z",
     "iopub.status.busy": "2025-07-30T21:23:26.859750Z",
     "iopub.status.idle": "2025-07-30T21:23:26.864973Z",
     "shell.execute_reply": "2025-07-30T21:23:26.864232Z"
    },
    "papermill": {
     "duration": 0.021242,
     "end_time": "2025-07-30T21:23:26.866276",
     "exception": false,
     "start_time": "2025-07-30T21:23:26.845034",
     "status": "completed"
    },
    "tags": []
   },
   "outputs": [],
   "source": [
    "cp_metrics_df = pd.DataFrame(cp_metrics_dict)"
   ]
  },
  {
   "cell_type": "code",
   "execution_count": 61,
   "id": "db12611b-57b2-4910-b9d0-355adfd6e7bf",
   "metadata": {
    "execution": {
     "iopub.execute_input": "2025-07-30T21:23:26.900236Z",
     "iopub.status.busy": "2025-07-30T21:23:26.899690Z",
     "iopub.status.idle": "2025-07-30T21:23:26.914650Z",
     "shell.execute_reply": "2025-07-30T21:23:26.913989Z"
    },
    "papermill": {
     "duration": 0.035722,
     "end_time": "2025-07-30T21:23:26.915892",
     "exception": false,
     "start_time": "2025-07-30T21:23:26.880170",
     "status": "completed"
    },
    "tags": []
   },
   "outputs": [
    {
     "data": {
      "text/html": [
       "<div>\n",
       "<style scoped>\n",
       "    .dataframe tbody tr th:only-of-type {\n",
       "        vertical-align: middle;\n",
       "    }\n",
       "\n",
       "    .dataframe tbody tr th {\n",
       "        vertical-align: top;\n",
       "    }\n",
       "\n",
       "    .dataframe thead th {\n",
       "        text-align: right;\n",
       "    }\n",
       "</style>\n",
       "<table border=\"1\" class=\"dataframe\">\n",
       "  <thead>\n",
       "    <tr style=\"text-align: right;\">\n",
       "      <th></th>\n",
       "      <th>universe_id</th>\n",
       "      <th>universe_training_year</th>\n",
       "      <th>universe_training_size</th>\n",
       "      <th>universe_scale</th>\n",
       "      <th>universe_model</th>\n",
       "      <th>universe_exclude_features</th>\n",
       "      <th>universe_exclude_subgroups</th>\n",
       "      <th>q_hat</th>\n",
       "      <th>coverage</th>\n",
       "      <th>avg_size</th>\n",
       "    </tr>\n",
       "  </thead>\n",
       "  <tbody>\n",
       "    <tr>\n",
       "      <th>0</th>\n",
       "      <td>ab1df5f09444cd9bf2148eee8c7af9e9</td>\n",
       "      <td>2014</td>\n",
       "      <td>1k</td>\n",
       "      <td>scale</td>\n",
       "      <td>penalized_logreg</td>\n",
       "      <td>none</td>\n",
       "      <td>keep-all</td>\n",
       "      <td>0.806258</td>\n",
       "      <td>0.906343</td>\n",
       "      <td>1.240765</td>\n",
       "    </tr>\n",
       "  </tbody>\n",
       "</table>\n",
       "</div>"
      ],
      "text/plain": [
       "                        universe_id universe_training_year  \\\n",
       "0  ab1df5f09444cd9bf2148eee8c7af9e9                   2014   \n",
       "\n",
       "  universe_training_size universe_scale    universe_model  \\\n",
       "0                     1k          scale  penalized_logreg   \n",
       "\n",
       "  universe_exclude_features universe_exclude_subgroups     q_hat  coverage  \\\n",
       "0                      none                   keep-all  0.806258  0.906343   \n",
       "\n",
       "   avg_size  \n",
       "0  1.240765  "
      ]
     },
     "execution_count": 61,
     "metadata": {},
     "output_type": "execute_result"
    }
   ],
   "source": [
    "cp_metrics_df"
   ]
  },
  {
   "cell_type": "code",
   "execution_count": 62,
   "id": "b7fbde55-a0a1-47e4-9af6-fe4a17fa8c61",
   "metadata": {
    "execution": {
     "iopub.execute_input": "2025-07-30T21:23:26.943039Z",
     "iopub.status.busy": "2025-07-30T21:23:26.942419Z",
     "iopub.status.idle": "2025-07-30T21:23:26.946754Z",
     "shell.execute_reply": "2025-07-30T21:23:26.946070Z"
    },
    "papermill": {
     "duration": 0.018894,
     "end_time": "2025-07-30T21:23:26.947972",
     "exception": false,
     "start_time": "2025-07-30T21:23:26.929078",
     "status": "completed"
    },
    "tags": []
   },
   "outputs": [],
   "source": [
    "# Conditional Coverage & looking at subgroups"
   ]
  },
  {
   "cell_type": "code",
   "execution_count": 63,
   "id": "027ae886-68dd-4141-96c7-805a5450e1ef",
   "metadata": {
    "execution": {
     "iopub.execute_input": "2025-07-30T21:23:26.975107Z",
     "iopub.status.busy": "2025-07-30T21:23:26.974519Z",
     "iopub.status.idle": "2025-07-30T21:23:27.146665Z",
     "shell.execute_reply": "2025-07-30T21:23:27.145924Z"
    },
    "papermill": {
     "duration": 0.186813,
     "end_time": "2025-07-30T21:23:27.148142",
     "exception": false,
     "start_time": "2025-07-30T21:23:26.961329",
     "status": "completed"
    },
    "tags": []
   },
   "outputs": [],
   "source": [
    "from fairness_multiverse.conformal import build_cp_groups\n",
    "\n",
    "cp_groups_df = build_cp_groups(pred_sets, y_true, X_test.index, org_test)\n",
    "#needs universe_id and setting"
   ]
  },
  {
   "cell_type": "code",
   "execution_count": 64,
   "id": "01d5802c-663a-4d1f-9d69-e036faaffbf7",
   "metadata": {
    "execution": {
     "iopub.execute_input": "2025-07-30T21:23:27.176327Z",
     "iopub.status.busy": "2025-07-30T21:23:27.175949Z",
     "iopub.status.idle": "2025-07-30T21:23:27.180116Z",
     "shell.execute_reply": "2025-07-30T21:23:27.179278Z"
    },
    "papermill": {
     "duration": 0.019663,
     "end_time": "2025-07-30T21:23:27.181427",
     "exception": false,
     "start_time": "2025-07-30T21:23:27.161764",
     "status": "completed"
    },
    "tags": []
   },
   "outputs": [],
   "source": [
    "#delete\n",
    "#cp_groups_df"
   ]
  },
  {
   "cell_type": "code",
   "execution_count": 65,
   "id": "fa424af1-d1eb-443d-b717-2d279ada8408",
   "metadata": {
    "execution": {
     "iopub.execute_input": "2025-07-30T21:23:27.209198Z",
     "iopub.status.busy": "2025-07-30T21:23:27.208531Z",
     "iopub.status.idle": "2025-07-30T21:23:27.212814Z",
     "shell.execute_reply": "2025-07-30T21:23:27.212111Z"
    },
    "papermill": {
     "duration": 0.019072,
     "end_time": "2025-07-30T21:23:27.214230",
     "exception": false,
     "start_time": "2025-07-30T21:23:27.195158",
     "status": "completed"
    },
    "tags": []
   },
   "outputs": [],
   "source": [
    "#delete\n",
    "#percentage = (cp_groups_df['nongerman_female'] == 1).mean() * 100\n",
    "#print(percentage)\n"
   ]
  },
  {
   "cell_type": "code",
   "execution_count": 66,
   "id": "6cbdab96-b2b2-45af-ad54-d0516db2e28d",
   "metadata": {
    "execution": {
     "iopub.execute_input": "2025-07-30T21:23:27.240961Z",
     "iopub.status.busy": "2025-07-30T21:23:27.240477Z",
     "iopub.status.idle": "2025-07-30T21:23:28.482312Z",
     "shell.execute_reply": "2025-07-30T21:23:28.481594Z"
    },
    "papermill": {
     "duration": 1.256353,
     "end_time": "2025-07-30T21:23:28.483706",
     "exception": false,
     "start_time": "2025-07-30T21:23:27.227353",
     "status": "completed"
    },
    "tags": []
   },
   "outputs": [],
   "source": [
    "# Define covered = 1 if true_label is in the predicted set\n",
    "cp_groups_df['covered'] = cp_groups_df.apply(\n",
    "    lambda r: int(r['true_label'] in r['pred_set']),\n",
    "    axis=1\n",
    ")"
   ]
  },
  {
   "cell_type": "code",
   "execution_count": 67,
   "id": "338ff529-1a6b-4b87-a931-8e4788d52aad",
   "metadata": {
    "execution": {
     "iopub.execute_input": "2025-07-30T21:23:28.511559Z",
     "iopub.status.busy": "2025-07-30T21:23:28.510909Z",
     "iopub.status.idle": "2025-07-30T21:23:28.515041Z",
     "shell.execute_reply": "2025-07-30T21:23:28.514289Z"
    },
    "papermill": {
     "duration": 0.018892,
     "end_time": "2025-07-30T21:23:28.516284",
     "exception": false,
     "start_time": "2025-07-30T21:23:28.497392",
     "status": "completed"
    },
    "tags": []
   },
   "outputs": [],
   "source": [
    "#cp_groups_df"
   ]
  },
  {
   "cell_type": "code",
   "execution_count": 68,
   "id": "90032e27-66df-4540-9169-4e89cfbaa758",
   "metadata": {
    "execution": {
     "iopub.execute_input": "2025-07-30T21:23:28.544192Z",
     "iopub.status.busy": "2025-07-30T21:23:28.543528Z",
     "iopub.status.idle": "2025-07-30T21:23:28.552365Z",
     "shell.execute_reply": "2025-07-30T21:23:28.551615Z"
    },
    "papermill": {
     "duration": 0.023715,
     "end_time": "2025-07-30T21:23:28.553732",
     "exception": false,
     "start_time": "2025-07-30T21:23:28.530017",
     "status": "completed"
    },
    "tags": []
   },
   "outputs": [],
   "source": [
    "subgroups = ['frau1','nongerman','nongerman_male','nongerman_female']\n",
    "\n",
    "# Conditional coverage for subgroup==1\n",
    "cond_coverage = {\n",
    "    g: cp_groups_df.loc[cp_groups_df[g]==1, 'covered'].mean()\n",
    "    for g in subgroups\n",
    "}"
   ]
  },
  {
   "cell_type": "code",
   "execution_count": 69,
   "id": "1e348fb1-b9c3-45bc-ba23-f016827a7e0d",
   "metadata": {
    "execution": {
     "iopub.execute_input": "2025-07-30T21:23:28.580878Z",
     "iopub.status.busy": "2025-07-30T21:23:28.580492Z",
     "iopub.status.idle": "2025-07-30T21:23:28.586584Z",
     "shell.execute_reply": "2025-07-30T21:23:28.585845Z"
    },
    "papermill": {
     "duration": 0.020767,
     "end_time": "2025-07-30T21:23:28.587821",
     "exception": false,
     "start_time": "2025-07-30T21:23:28.567054",
     "status": "completed"
    },
    "tags": []
   },
   "outputs": [
    {
     "data": {
      "text/plain": [
       "{'frau1': 0.9048119692680955,\n",
       " 'nongerman': 0.9113007354179532,\n",
       " 'nongerman_male': 0.9283076645951545,\n",
       " 'nongerman_female': 0.8831594634873323}"
      ]
     },
     "execution_count": 69,
     "metadata": {},
     "output_type": "execute_result"
    }
   ],
   "source": [
    "cond_coverage"
   ]
  },
  {
   "cell_type": "code",
   "execution_count": 70,
   "id": "f5093324-c3dd-4d63-bc4c-8d945e5c8bbb",
   "metadata": {
    "execution": {
     "iopub.execute_input": "2025-07-30T21:23:28.615933Z",
     "iopub.status.busy": "2025-07-30T21:23:28.615265Z",
     "iopub.status.idle": "2025-07-30T21:23:28.625676Z",
     "shell.execute_reply": "2025-07-30T21:23:28.624652Z"
    },
    "papermill": {
     "duration": 0.025906,
     "end_time": "2025-07-30T21:23:28.627349",
     "exception": false,
     "start_time": "2025-07-30T21:23:28.601443",
     "status": "completed"
    },
    "tags": []
   },
   "outputs": [],
   "source": [
    "for subgroup, cov in cond_coverage.items():\n",
    "    cp_metrics_df[f\"cov_{subgroup}\"] = cov"
   ]
  },
  {
   "cell_type": "code",
   "execution_count": 71,
   "id": "6e872e10-dbe5-49e8-b554-5030c98ff75d",
   "metadata": {
    "execution": {
     "iopub.execute_input": "2025-07-30T21:23:28.681156Z",
     "iopub.status.busy": "2025-07-30T21:23:28.680734Z",
     "iopub.status.idle": "2025-07-30T21:23:28.702763Z",
     "shell.execute_reply": "2025-07-30T21:23:28.701790Z"
    },
    "papermill": {
     "duration": 0.050592,
     "end_time": "2025-07-30T21:23:28.704560",
     "exception": false,
     "start_time": "2025-07-30T21:23:28.653968",
     "status": "completed"
    },
    "tags": []
   },
   "outputs": [
    {
     "data": {
      "text/html": [
       "<div>\n",
       "<style scoped>\n",
       "    .dataframe tbody tr th:only-of-type {\n",
       "        vertical-align: middle;\n",
       "    }\n",
       "\n",
       "    .dataframe tbody tr th {\n",
       "        vertical-align: top;\n",
       "    }\n",
       "\n",
       "    .dataframe thead th {\n",
       "        text-align: right;\n",
       "    }\n",
       "</style>\n",
       "<table border=\"1\" class=\"dataframe\">\n",
       "  <thead>\n",
       "    <tr style=\"text-align: right;\">\n",
       "      <th></th>\n",
       "      <th>universe_id</th>\n",
       "      <th>universe_training_year</th>\n",
       "      <th>universe_training_size</th>\n",
       "      <th>universe_scale</th>\n",
       "      <th>universe_model</th>\n",
       "      <th>universe_exclude_features</th>\n",
       "      <th>universe_exclude_subgroups</th>\n",
       "      <th>q_hat</th>\n",
       "      <th>coverage</th>\n",
       "      <th>avg_size</th>\n",
       "      <th>cov_frau1</th>\n",
       "      <th>cov_nongerman</th>\n",
       "      <th>cov_nongerman_male</th>\n",
       "      <th>cov_nongerman_female</th>\n",
       "    </tr>\n",
       "  </thead>\n",
       "  <tbody>\n",
       "    <tr>\n",
       "      <th>0</th>\n",
       "      <td>ab1df5f09444cd9bf2148eee8c7af9e9</td>\n",
       "      <td>2014</td>\n",
       "      <td>1k</td>\n",
       "      <td>scale</td>\n",
       "      <td>penalized_logreg</td>\n",
       "      <td>none</td>\n",
       "      <td>keep-all</td>\n",
       "      <td>0.806258</td>\n",
       "      <td>0.906343</td>\n",
       "      <td>1.240765</td>\n",
       "      <td>0.904812</td>\n",
       "      <td>0.911301</td>\n",
       "      <td>0.928308</td>\n",
       "      <td>0.883159</td>\n",
       "    </tr>\n",
       "  </tbody>\n",
       "</table>\n",
       "</div>"
      ],
      "text/plain": [
       "                        universe_id universe_training_year  \\\n",
       "0  ab1df5f09444cd9bf2148eee8c7af9e9                   2014   \n",
       "\n",
       "  universe_training_size universe_scale    universe_model  \\\n",
       "0                     1k          scale  penalized_logreg   \n",
       "\n",
       "  universe_exclude_features universe_exclude_subgroups     q_hat  coverage  \\\n",
       "0                      none                   keep-all  0.806258  0.906343   \n",
       "\n",
       "   avg_size  cov_frau1  cov_nongerman  cov_nongerman_male  \\\n",
       "0  1.240765   0.904812       0.911301            0.928308   \n",
       "\n",
       "   cov_nongerman_female  \n",
       "0              0.883159  "
      ]
     },
     "execution_count": 71,
     "metadata": {},
     "output_type": "execute_result"
    }
   ],
   "source": [
    "cp_metrics_df"
   ]
  },
  {
   "cell_type": "markdown",
   "id": "33774451",
   "metadata": {
    "papermill": {
     "duration": 0.026983,
     "end_time": "2025-07-30T21:23:28.755231",
     "exception": false,
     "start_time": "2025-07-30T21:23:28.728248",
     "status": "completed"
    },
    "tags": []
   },
   "source": [
    "# (Fairness) Metrics"
   ]
  },
  {
   "cell_type": "code",
   "execution_count": 72,
   "id": "debc5d62",
   "metadata": {
    "execution": {
     "iopub.execute_input": "2025-07-30T21:23:28.800498Z",
     "iopub.status.busy": "2025-07-30T21:23:28.799878Z",
     "iopub.status.idle": "2025-07-30T21:23:28.813886Z",
     "shell.execute_reply": "2025-07-30T21:23:28.813190Z"
    },
    "papermill": {
     "duration": 0.033516,
     "end_time": "2025-07-30T21:23:28.815221",
     "exception": false,
     "start_time": "2025-07-30T21:23:28.781705",
     "status": "completed"
    },
    "tags": []
   },
   "outputs": [],
   "source": [
    "# do I need to include maxdeutsch1.missing?\n",
    "\n",
    "import numpy as np\n",
    "\n",
    "colname_to_bin = \"maxdeutsch1\"\n",
    "majority_value = org_train[colname_to_bin].mode()[0]\n",
    "\n",
    "org_test[\"majmin\"] = np.where(org_test[colname_to_bin] == majority_value, \"majority\", \"minority\")"
   ]
  },
  {
   "cell_type": "code",
   "execution_count": 73,
   "id": "06a50de5",
   "metadata": {
    "execution": {
     "iopub.execute_input": "2025-07-30T21:23:28.846480Z",
     "iopub.status.busy": "2025-07-30T21:23:28.845725Z",
     "iopub.status.idle": "2025-07-30T21:23:31.265270Z",
     "shell.execute_reply": "2025-07-30T21:23:31.264002Z"
    },
    "papermill": {
     "duration": 2.438197,
     "end_time": "2025-07-30T21:23:31.267490",
     "exception": false,
     "start_time": "2025-07-30T21:23:28.829293",
     "status": "completed"
    },
    "tags": []
   },
   "outputs": [],
   "source": [
    "example_universe = universe.copy()\n",
    "example_universe[\"cutoff\"] = example_universe[\"cutoff\"][0]\n",
    "example_universe[\"eval_fairness_grouping\"] = example_universe[\"eval_fairness_grouping\"][0]\n",
    "fairness_dict, metric_frame = universe_analysis.compute_metrics(\n",
    "    example_universe,\n",
    "    y_pred_prob=probs_test,\n",
    "    y_test=y_true,\n",
    "    org_test=org_test,\n",
    ")"
   ]
  },
  {
   "cell_type": "markdown",
   "id": "f95d4e02",
   "metadata": {
    "papermill": {
     "duration": 0.034931,
     "end_time": "2025-07-30T21:23:31.335214",
     "exception": false,
     "start_time": "2025-07-30T21:23:31.300283",
     "status": "completed"
    },
    "tags": []
   },
   "source": [
    "# Overall"
   ]
  },
  {
   "cell_type": "markdown",
   "id": "bdee4871",
   "metadata": {
    "papermill": {
     "duration": 0.026969,
     "end_time": "2025-07-30T21:23:31.389854",
     "exception": false,
     "start_time": "2025-07-30T21:23:31.362885",
     "status": "completed"
    },
    "tags": []
   },
   "source": [
    "Fairness\n",
    "Main fairness target: Equalized Odds. Seems to be a better fit than equal opportunity, since we're not only interested in Y = 1. Seems to be a better fit than demographic parity, since we also care about accuracy, not just equal distribution of preds.\n",
    "\n",
    "Pick column for computation of fairness metrics\n",
    "\n",
    "Performance\n",
    "Overall performance measures, most interesting in relation to the measures split by group below"
   ]
  },
  {
   "cell_type": "code",
   "execution_count": 74,
   "id": "c4e067c6",
   "metadata": {
    "execution": {
     "iopub.execute_input": "2025-07-30T21:23:31.446795Z",
     "iopub.status.busy": "2025-07-30T21:23:31.446284Z",
     "iopub.status.idle": "2025-07-30T21:23:31.455309Z",
     "shell.execute_reply": "2025-07-30T21:23:31.454349Z"
    },
    "papermill": {
     "duration": 0.038636,
     "end_time": "2025-07-30T21:23:31.457053",
     "exception": false,
     "start_time": "2025-07-30T21:23:31.418417",
     "status": "completed"
    },
    "tags": []
   },
   "outputs": [
    {
     "data": {
      "text/plain": [
       "accuracy                   0.218092\n",
       "balanced accuracy          0.534580\n",
       "f1                         0.239596\n",
       "precision                  0.136873\n",
       "false positive rate        0.891128\n",
       "false negative rate        0.039712\n",
       "selection rate             0.900000\n",
       "count                  89710.000000\n",
       "dtype: float64"
      ]
     },
     "execution_count": 74,
     "metadata": {},
     "output_type": "execute_result"
    }
   ],
   "source": [
    "metric_frame.overall"
   ]
  },
  {
   "cell_type": "markdown",
   "id": "e968fe9d",
   "metadata": {
    "papermill": {
     "duration": 0.027447,
     "end_time": "2025-07-30T21:23:31.512907",
     "exception": false,
     "start_time": "2025-07-30T21:23:31.485460",
     "status": "completed"
    },
    "tags": []
   },
   "source": [
    "By Group"
   ]
  },
  {
   "cell_type": "code",
   "execution_count": 75,
   "id": "ec325bce",
   "metadata": {
    "execution": {
     "iopub.execute_input": "2025-07-30T21:23:31.567602Z",
     "iopub.status.busy": "2025-07-30T21:23:31.567084Z",
     "iopub.status.idle": "2025-07-30T21:23:31.585280Z",
     "shell.execute_reply": "2025-07-30T21:23:31.584204Z"
    },
    "papermill": {
     "duration": 0.04867,
     "end_time": "2025-07-30T21:23:31.587177",
     "exception": false,
     "start_time": "2025-07-30T21:23:31.538507",
     "status": "completed"
    },
    "tags": []
   },
   "outputs": [
    {
     "data": {
      "text/html": [
       "<div>\n",
       "<style scoped>\n",
       "    .dataframe tbody tr th:only-of-type {\n",
       "        vertical-align: middle;\n",
       "    }\n",
       "\n",
       "    .dataframe tbody tr th {\n",
       "        vertical-align: top;\n",
       "    }\n",
       "\n",
       "    .dataframe thead th {\n",
       "        text-align: right;\n",
       "    }\n",
       "</style>\n",
       "<table border=\"1\" class=\"dataframe\">\n",
       "  <thead>\n",
       "    <tr style=\"text-align: right;\">\n",
       "      <th></th>\n",
       "      <th>accuracy</th>\n",
       "      <th>balanced accuracy</th>\n",
       "      <th>f1</th>\n",
       "      <th>precision</th>\n",
       "      <th>false positive rate</th>\n",
       "      <th>false negative rate</th>\n",
       "      <th>selection rate</th>\n",
       "      <th>count</th>\n",
       "    </tr>\n",
       "    <tr>\n",
       "      <th>majmin</th>\n",
       "      <th></th>\n",
       "      <th></th>\n",
       "      <th></th>\n",
       "      <th></th>\n",
       "      <th></th>\n",
       "      <th></th>\n",
       "      <th></th>\n",
       "      <th></th>\n",
       "    </tr>\n",
       "  </thead>\n",
       "  <tbody>\n",
       "    <tr>\n",
       "      <th>majority</th>\n",
       "      <td>0.233136</td>\n",
       "      <td>0.540194</td>\n",
       "      <td>0.248115</td>\n",
       "      <td>0.142522</td>\n",
       "      <td>0.877161</td>\n",
       "      <td>0.042451</td>\n",
       "      <td>0.887784</td>\n",
       "      <td>69170.0</td>\n",
       "    </tr>\n",
       "    <tr>\n",
       "      <th>minority</th>\n",
       "      <td>0.167429</td>\n",
       "      <td>0.516798</td>\n",
       "      <td>0.211899</td>\n",
       "      <td>0.118928</td>\n",
       "      <td>0.937266</td>\n",
       "      <td>0.029139</td>\n",
       "      <td>0.941139</td>\n",
       "      <td>20540.0</td>\n",
       "    </tr>\n",
       "  </tbody>\n",
       "</table>\n",
       "</div>"
      ],
      "text/plain": [
       "          accuracy  balanced accuracy        f1  precision  \\\n",
       "majmin                                                       \n",
       "majority  0.233136           0.540194  0.248115   0.142522   \n",
       "minority  0.167429           0.516798  0.211899   0.118928   \n",
       "\n",
       "          false positive rate  false negative rate  selection rate    count  \n",
       "majmin                                                                       \n",
       "majority             0.877161             0.042451        0.887784  69170.0  \n",
       "minority             0.937266             0.029139        0.941139  20540.0  "
      ]
     },
     "execution_count": 75,
     "metadata": {},
     "output_type": "execute_result"
    }
   ],
   "source": [
    "metric_frame.by_group"
   ]
  },
  {
   "cell_type": "code",
   "execution_count": 76,
   "id": "a9ddbe63",
   "metadata": {
    "execution": {
     "iopub.execute_input": "2025-07-30T21:23:31.654443Z",
     "iopub.status.busy": "2025-07-30T21:23:31.653512Z",
     "iopub.status.idle": "2025-07-30T21:23:33.946404Z",
     "shell.execute_reply": "2025-07-30T21:23:33.945578Z"
    },
    "papermill": {
     "duration": 2.326732,
     "end_time": "2025-07-30T21:23:33.948227",
     "exception": false,
     "start_time": "2025-07-30T21:23:31.621495",
     "status": "completed"
    },
    "tags": []
   },
   "outputs": [
    {
     "data": {
      "text/plain": [
       "array([[<Axes: title={'center': 'accuracy'}, xlabel='majmin'>,\n",
       "        <Axes: title={'center': 'balanced accuracy'}, xlabel='majmin'>,\n",
       "        <Axes: title={'center': 'f1'}, xlabel='majmin'>],\n",
       "       [<Axes: title={'center': 'precision'}, xlabel='majmin'>,\n",
       "        <Axes: title={'center': 'false positive rate'}, xlabel='majmin'>,\n",
       "        <Axes: title={'center': 'false negative rate'}, xlabel='majmin'>],\n",
       "       [<Axes: title={'center': 'selection rate'}, xlabel='majmin'>,\n",
       "        <Axes: title={'center': 'count'}, xlabel='majmin'>,\n",
       "        <Axes: xlabel='majmin'>]], dtype=object)"
      ]
     },
     "execution_count": 76,
     "metadata": {},
     "output_type": "execute_result"
    },
    {
     "data": {
      "image/png": "[encoded data removed]",
      "text/plain": [
       "<Figure size 1200x800 with 9 Axes>"
      ]
     },
     "metadata": {},
     "output_type": "display_data"
    }
   ],
   "source": [
    "# In a graphic\n",
    "metric_frame.by_group.plot.bar(\n",
    "    subplots=True,\n",
    "    layout=[3, 3],\n",
    "    legend=False,\n",
    "    figsize=[12, 8],\n",
    "    title=\"Show all metrics\",\n",
    ")"
   ]
  },
  {
   "cell_type": "markdown",
   "id": "f57a0bac",
   "metadata": {
    "papermill": {
     "duration": 0.028117,
     "end_time": "2025-07-30T21:23:34.027992",
     "exception": false,
     "start_time": "2025-07-30T21:23:33.999875",
     "status": "completed"
    },
    "tags": []
   },
   "source": [
    "# Final Output"
   ]
  },
  {
   "cell_type": "code",
   "execution_count": 77,
   "id": "96d280a3",
   "metadata": {
    "execution": {
     "iopub.execute_input": "2025-07-30T21:23:34.086437Z",
     "iopub.status.busy": "2025-07-30T21:23:34.085808Z",
     "iopub.status.idle": "2025-07-30T21:23:34.094496Z",
     "shell.execute_reply": "2025-07-30T21:23:34.093503Z"
    },
    "papermill": {
     "duration": 0.039839,
     "end_time": "2025-07-30T21:23:34.096063",
     "exception": false,
     "start_time": "2025-07-30T21:23:34.056224",
     "status": "completed"
    },
    "tags": []
   },
   "outputs": [
    {
     "data": {
      "text/plain": [
       "4"
      ]
     },
     "execution_count": 77,
     "metadata": {},
     "output_type": "execute_result"
    }
   ],
   "source": [
    "sub_universes = universe_analysis.generate_sub_universes()\n",
    "len(sub_universes)"
   ]
  },
  {
   "cell_type": "code",
   "execution_count": 78,
   "id": "92adf7ba",
   "metadata": {
    "execution": {
     "iopub.execute_input": "2025-07-30T21:23:34.154451Z",
     "iopub.status.busy": "2025-07-30T21:23:34.153802Z",
     "iopub.status.idle": "2025-07-30T21:23:34.160187Z",
     "shell.execute_reply": "2025-07-30T21:23:34.159299Z"
    },
    "papermill": {
     "duration": 0.037331,
     "end_time": "2025-07-30T21:23:34.161934",
     "exception": false,
     "start_time": "2025-07-30T21:23:34.124603",
     "status": "completed"
    },
    "tags": []
   },
   "outputs": [],
   "source": [
    "def filter_sub_universe_data(sub_universe, org_test):\n",
    "    # Keep all rows — no filtering\n",
    "    keep_rows_mask = np.ones(org_test.shape[0], dtype=bool)\n",
    "\n",
    "    print(f\"[INFO] Keeping all rows: {keep_rows_mask.sum()} rows retained.\")\n",
    "    return keep_rows_mask"
   ]
  },
  {
   "cell_type": "code",
   "execution_count": 79,
   "id": "4a759155",
   "metadata": {
    "execution": {
     "iopub.execute_input": "2025-07-30T21:23:34.223499Z",
     "iopub.status.busy": "2025-07-30T21:23:34.222886Z",
     "iopub.status.idle": "2025-07-30T21:23:44.376498Z",
     "shell.execute_reply": "2025-07-30T21:23:44.375551Z"
    },
    "papermill": {
     "duration": 10.186473,
     "end_time": "2025-07-30T21:23:44.378094",
     "exception": false,
     "start_time": "2025-07-30T21:23:34.191621",
     "status": "completed"
    },
    "tags": []
   },
   "outputs": [
    {
     "name": "stdout",
     "output_type": "stream",
     "text": [
      "Stopping execution_time clock.\n",
      "[INFO] Keeping all rows: 89710 rows retained.\n"
     ]
    },
    {
     "name": "stdout",
     "output_type": "stream",
     "text": [
      "[INFO] Keeping all rows: 89710 rows retained.\n"
     ]
    },
    {
     "name": "stdout",
     "output_type": "stream",
     "text": [
      "[INFO] Keeping all rows: 89710 rows retained.\n"
     ]
    },
    {
     "name": "stdout",
     "output_type": "stream",
     "text": [
      "[INFO] Keeping all rows: 89710 rows retained.\n"
     ]
    },
    {
     "data": {
      "text/html": [
       "<div>\n",
       "<style scoped>\n",
       "    .dataframe tbody tr th:only-of-type {\n",
       "        vertical-align: middle;\n",
       "    }\n",
       "\n",
       "    .dataframe tbody tr th {\n",
       "        vertical-align: top;\n",
       "    }\n",
       "\n",
       "    .dataframe thead th {\n",
       "        text-align: right;\n",
       "    }\n",
       "</style>\n",
       "<table border=\"1\" class=\"dataframe\">\n",
       "  <thead>\n",
       "    <tr style=\"text-align: right;\">\n",
       "      <th></th>\n",
       "      <th>run_no</th>\n",
       "      <th>universe_id</th>\n",
       "      <th>universe_settings</th>\n",
       "      <th>execution_time</th>\n",
       "      <th>test_size_n</th>\n",
       "      <th>test_size_frac</th>\n",
       "      <th>fair_main_equalized_odds_difference</th>\n",
       "      <th>fair_main_equalized_odds_ratio</th>\n",
       "      <th>fair_main_demographic_parity_difference</th>\n",
       "      <th>fair_main_demographic_parity_ratio</th>\n",
       "      <th>...</th>\n",
       "      <th>perf_grp_precision_0</th>\n",
       "      <th>perf_grp_precision_1</th>\n",
       "      <th>perf_grp_false positive rate_0</th>\n",
       "      <th>perf_grp_false positive rate_1</th>\n",
       "      <th>perf_grp_false negative rate_0</th>\n",
       "      <th>perf_grp_false negative rate_1</th>\n",
       "      <th>perf_grp_selection rate_0</th>\n",
       "      <th>perf_grp_selection rate_1</th>\n",
       "      <th>perf_grp_count_0</th>\n",
       "      <th>perf_grp_count_1</th>\n",
       "    </tr>\n",
       "  </thead>\n",
       "  <tbody>\n",
       "    <tr>\n",
       "      <th>0</th>\n",
       "      <td>14</td>\n",
       "      <td>ab1df5f09444cd9bf2148eee8c7af9e9</td>\n",
       "      <td>{\"cutoff\": \"quantile_0.1\", \"eval_fairness_grou...</td>\n",
       "      <td>26.531239</td>\n",
       "      <td>89710</td>\n",
       "      <td>1.0</td>\n",
       "      <td>0.060105</td>\n",
       "      <td>0.935872</td>\n",
       "      <td>0.053356</td>\n",
       "      <td>0.943308</td>\n",
       "      <td>...</td>\n",
       "      <td>NaN</td>\n",
       "      <td>NaN</td>\n",
       "      <td>NaN</td>\n",
       "      <td>NaN</td>\n",
       "      <td>NaN</td>\n",
       "      <td>NaN</td>\n",
       "      <td>NaN</td>\n",
       "      <td>NaN</td>\n",
       "      <td>NaN</td>\n",
       "      <td>NaN</td>\n",
       "    </tr>\n",
       "    <tr>\n",
       "      <th>0</th>\n",
       "      <td>14</td>\n",
       "      <td>ab1df5f09444cd9bf2148eee8c7af9e9</td>\n",
       "      <td>{\"cutoff\": \"quantile_0.1\", \"eval_fairness_grou...</td>\n",
       "      <td>26.531239</td>\n",
       "      <td>89710</td>\n",
       "      <td>1.0</td>\n",
       "      <td>0.060105</td>\n",
       "      <td>0.935872</td>\n",
       "      <td>0.053356</td>\n",
       "      <td>0.943308</td>\n",
       "      <td>...</td>\n",
       "      <td>0.118928</td>\n",
       "      <td>0.142522</td>\n",
       "      <td>0.937266</td>\n",
       "      <td>0.877161</td>\n",
       "      <td>0.029139</td>\n",
       "      <td>0.042451</td>\n",
       "      <td>0.941139</td>\n",
       "      <td>0.887784</td>\n",
       "      <td>20540.0</td>\n",
       "      <td>69170.0</td>\n",
       "    </tr>\n",
       "    <tr>\n",
       "      <th>0</th>\n",
       "      <td>14</td>\n",
       "      <td>ab1df5f09444cd9bf2148eee8c7af9e9</td>\n",
       "      <td>{\"cutoff\": \"quantile_0.25\", \"eval_fairness_gro...</td>\n",
       "      <td>26.531239</td>\n",
       "      <td>89710</td>\n",
       "      <td>1.0</td>\n",
       "      <td>0.051329</td>\n",
       "      <td>0.933394</td>\n",
       "      <td>0.041429</td>\n",
       "      <td>0.947018</td>\n",
       "      <td>...</td>\n",
       "      <td>NaN</td>\n",
       "      <td>NaN</td>\n",
       "      <td>NaN</td>\n",
       "      <td>NaN</td>\n",
       "      <td>NaN</td>\n",
       "      <td>NaN</td>\n",
       "      <td>NaN</td>\n",
       "      <td>NaN</td>\n",
       "      <td>NaN</td>\n",
       "      <td>NaN</td>\n",
       "    </tr>\n",
       "    <tr>\n",
       "      <th>0</th>\n",
       "      <td>14</td>\n",
       "      <td>ab1df5f09444cd9bf2148eee8c7af9e9</td>\n",
       "      <td>{\"cutoff\": \"quantile_0.25\", \"eval_fairness_gro...</td>\n",
       "      <td>26.531239</td>\n",
       "      <td>89710</td>\n",
       "      <td>1.0</td>\n",
       "      <td>0.051329</td>\n",
       "      <td>0.933394</td>\n",
       "      <td>0.041429</td>\n",
       "      <td>0.947018</td>\n",
       "      <td>...</td>\n",
       "      <td>0.128074</td>\n",
       "      <td>0.156986</td>\n",
       "      <td>0.770636</td>\n",
       "      <td>0.719307</td>\n",
       "      <td>0.131334</td>\n",
       "      <td>0.120241</td>\n",
       "      <td>0.781938</td>\n",
       "      <td>0.740509</td>\n",
       "      <td>20540.0</td>\n",
       "      <td>69170.0</td>\n",
       "    </tr>\n",
       "  </tbody>\n",
       "</table>\n",
       "<p>4 rows × 50 columns</p>\n",
       "</div>"
      ],
      "text/plain": [
       "  run_no                       universe_id  \\\n",
       "0     14  ab1df5f09444cd9bf2148eee8c7af9e9   \n",
       "0     14  ab1df5f09444cd9bf2148eee8c7af9e9   \n",
       "0     14  ab1df5f09444cd9bf2148eee8c7af9e9   \n",
       "0     14  ab1df5f09444cd9bf2148eee8c7af9e9   \n",
       "\n",
       "                                   universe_settings  execution_time  \\\n",
       "0  {\"cutoff\": \"quantile_0.1\", \"eval_fairness_grou...       26.531239   \n",
       "0  {\"cutoff\": \"quantile_0.1\", \"eval_fairness_grou...       26.531239   \n",
       "0  {\"cutoff\": \"quantile_0.25\", \"eval_fairness_gro...       26.531239   \n",
       "0  {\"cutoff\": \"quantile_0.25\", \"eval_fairness_gro...       26.531239   \n",
       "\n",
       "   test_size_n  test_size_frac  fair_main_equalized_odds_difference  \\\n",
       "0        89710             1.0                             0.060105   \n",
       "0        89710             1.0                             0.060105   \n",
       "0        89710             1.0                             0.051329   \n",
       "0        89710             1.0                             0.051329   \n",
       "\n",
       "   fair_main_equalized_odds_ratio  fair_main_demographic_parity_difference  \\\n",
       "0                        0.935872                                 0.053356   \n",
       "0                        0.935872                                 0.053356   \n",
       "0                        0.933394                                 0.041429   \n",
       "0                        0.933394                                 0.041429   \n",
       "\n",
       "   fair_main_demographic_parity_ratio  ...  perf_grp_precision_0  \\\n",
       "0                            0.943308  ...                   NaN   \n",
       "0                            0.943308  ...              0.118928   \n",
       "0                            0.947018  ...                   NaN   \n",
       "0                            0.947018  ...              0.128074   \n",
       "\n",
       "   perf_grp_precision_1  perf_grp_false positive rate_0  \\\n",
       "0                   NaN                             NaN   \n",
       "0              0.142522                        0.937266   \n",
       "0                   NaN                             NaN   \n",
       "0              0.156986                        0.770636   \n",
       "\n",
       "   perf_grp_false positive rate_1  perf_grp_false negative rate_0  \\\n",
       "0                             NaN                             NaN   \n",
       "0                        0.877161                        0.029139   \n",
       "0                             NaN                             NaN   \n",
       "0                        0.719307                        0.131334   \n",
       "\n",
       "   perf_grp_false negative rate_1  perf_grp_selection rate_0  \\\n",
       "0                             NaN                        NaN   \n",
       "0                        0.042451                   0.941139   \n",
       "0                             NaN                        NaN   \n",
       "0                        0.120241                   0.781938   \n",
       "\n",
       "   perf_grp_selection rate_1  perf_grp_count_0  perf_grp_count_1  \n",
       "0                        NaN               NaN               NaN  \n",
       "0                   0.887784           20540.0           69170.0  \n",
       "0                        NaN               NaN               NaN  \n",
       "0                   0.740509           20540.0           69170.0  \n",
       "\n",
       "[4 rows x 50 columns]"
      ]
     },
     "execution_count": 79,
     "metadata": {},
     "output_type": "execute_result"
    }
   ],
   "source": [
    "final_output = universe_analysis.generate_final_output(\n",
    "    y_pred_prob=probs_test,\n",
    "    y_test=y_true,\n",
    "    org_test=org_test,\n",
    "    filter_data=filter_sub_universe_data,\n",
    "    cp_metrics_df=cp_metrics_df,\n",
    "    save=True,\n",
    ")\n",
    "final_output"
   ]
  },
  {
   "cell_type": "code",
   "execution_count": null,
   "id": "721ff514-cb11-46f8-b6fc-50392f74b5cb",
   "metadata": {
    "papermill": {
     "duration": 0.027175,
     "end_time": "2025-07-30T21:23:44.436256",
     "exception": false,
     "start_time": "2025-07-30T21:23:44.409081",
     "status": "completed"
    },
    "tags": []
   },
   "outputs": [],
   "source": []
  }
 ],
 "metadata": {
  "celltoolbar": "Tags",
  "kernelspec": {
   "display_name": "Python (CMA Fairness)",
   "language": "python",
   "name": "cma_fair_env"
  },
  "language_info": {
   "codemirror_mode": {
    "name": "ipython",
    "version": 3
   },
   "file_extension": ".py",
   "mimetype": "text/x-python",
   "name": "python",
   "nbconvert_exporter": "python",
   "pygments_lexer": "ipython3",
   "version": "3.10.12"
  },
  "papermill": {
   "default_parameters": {},
   "duration": 41.156914,
   "end_time": "2025-07-30T21:23:45.182189",
   "environment_variables": {},
   "exception": null,
   "input_path": "universe_analysis.ipynb",
   "output_path": "output/runs/14/notebooks/m_14-ab1df5f09444cd9bf2148eee8c7af9e9.ipynb",
   "parameters": {
    "output_dir": "output",
    "run_no": "14",
    "seed": "2023",
    "universe": "{\"cutoff\": [\"quantile_0.1\", \"quantile_0.25\"], \"eval_fairness_grouping\": [\"majority-minority\", \"nationality-all\"], \"exclude_features\": \"none\", \"exclude_subgroups\": \"keep-all\", \"model\": \"penalized_logreg\", \"scale\": \"scale\", \"training_size\": \"1k\", \"training_year\": \"2014\"}",
    "universe_id": "ab1df5f09444cd9bf2148eee8c7af9e9"
   },
   "start_time": "2025-07-30T21:23:04.025275",
   "version": "2.6.0"
  }
 },
 "nbformat": 4,
 "nbformat_minor": 5
}