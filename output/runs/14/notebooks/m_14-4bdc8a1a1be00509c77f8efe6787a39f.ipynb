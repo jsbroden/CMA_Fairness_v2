{
 "cells": [
  {
   "cell_type": "code",
   "execution_count": 1,
   "id": "f159f837-637b-42ba-96b5-ec9a68c44524",
   "metadata": {
    "execution": {
     "iopub.execute_input": "2025-07-30T21:37:06.706507Z",
     "iopub.status.busy": "2025-07-30T21:37:06.706171Z",
     "iopub.status.idle": "2025-07-30T21:37:06.715638Z",
     "shell.execute_reply": "2025-07-30T21:37:06.714774Z"
    },
    "papermill": {
     "duration": 0.023501,
     "end_time": "2025-07-30T21:37:06.717921",
     "exception": false,
     "start_time": "2025-07-30T21:37:06.694420",
     "status": "completed"
    },
    "tags": []
   },
   "outputs": [
    {
     "name": "stdout",
     "output_type": "stream",
     "text": [
      "/dss/dsshome1/0C/ra93lal2/cma/CMA_Fairness_v2\n"
     ]
    },
    {
     "name": "stderr",
     "output_type": "stream",
     "text": [
      "/dss/dsshome1/0C/ra93lal2/.local/share/virtualenvs/CMA_Fairness_v2-3j10GkSs/lib/python3.10/site-packages/IPython/core/magics/osm.py:393: UserWarning: This is now an optional IPython functionality, using bookmarks requires you to install the `pickleshare` library.\n",
      "  bkms = self.shell.db.get('bookmarks', {})\n",
      "/dss/dsshome1/0C/ra93lal2/.local/share/virtualenvs/CMA_Fairness_v2-3j10GkSs/lib/python3.10/site-packages/IPython/core/magics/osm.py:417: UserWarning: This is now an optional IPython functionality, setting dhist requires you to install the `pickleshare` library.\n",
      "  self.shell.db['dhist'] = compress_dhist(dhist)[-100:]\n"
     ]
    }
   ],
   "source": [
    "%cd ~/cma/CMA_Fairness_v2"
   ]
  },
  {
   "cell_type": "markdown",
   "id": "de2603b9",
   "metadata": {
    "papermill": {
     "duration": 0.010576,
     "end_time": "2025-07-30T21:37:06.739517",
     "exception": false,
     "start_time": "2025-07-30T21:37:06.728941",
     "status": "completed"
    },
    "tags": []
   },
   "source": [
    "The following cell holds the definition of our parameters, these values can be overriden by rendering the with e.g. the following command:\n",
    "\n",
    "papermill -p alpha 0.2 -p ratio 0.3 universe_analysis.ipynb output/test_run.ipynb"
   ]
  },
  {
   "cell_type": "code",
   "execution_count": 2,
   "id": "a80968a0-40bb-4fa9-85ef-2d5eefb01975",
   "metadata": {
    "execution": {
     "iopub.execute_input": "2025-07-30T21:37:06.761295Z",
     "iopub.status.busy": "2025-07-30T21:37:06.760812Z",
     "iopub.status.idle": "2025-07-30T21:37:06.765759Z",
     "shell.execute_reply": "2025-07-30T21:37:06.765049Z"
    },
    "papermill": {
     "duration": 0.01737,
     "end_time": "2025-07-30T21:37:06.767056",
     "exception": false,
     "start_time": "2025-07-30T21:37:06.749686",
     "status": "completed"
    },
    "tags": []
   },
   "outputs": [
    {
     "name": "stdout",
     "output_type": "stream",
     "text": [
      "Current working directory: /dss/dsshome1/0C/ra93lal2/cma/CMA_Fairness_v2\n"
     ]
    }
   ],
   "source": [
    "import os\n",
    "print(\"Current working directory:\", os.getcwd())"
   ]
  },
  {
   "cell_type": "code",
   "execution_count": 3,
   "id": "2dce4c03",
   "metadata": {
    "execution": {
     "iopub.execute_input": "2025-07-30T21:37:06.790254Z",
     "iopub.status.busy": "2025-07-30T21:37:06.789767Z",
     "iopub.status.idle": "2025-07-30T21:37:06.794949Z",
     "shell.execute_reply": "2025-07-30T21:37:06.794286Z"
    },
    "papermill": {
     "duration": 0.018283,
     "end_time": "2025-07-30T21:37:06.796302",
     "exception": false,
     "start_time": "2025-07-30T21:37:06.778019",
     "status": "completed"
    },
    "tags": [
     "parameters"
    ]
   },
   "outputs": [],
   "source": [
    "run_no = 0\n",
    "universe_id = \"test\"\n",
    "universe = {\n",
    "    \"training_size\": \"25k\", # \"25k\", \"5k\", \"1k\"\n",
    "    \"training_year\": \"2014\", # \"2014\", \"2012_14\", \"2010_14\"\n",
    "    \"scale\": \"scale\", # \"scale\", \"do-not-scale\",\n",
    "    #\"stratify_split\": \"target\", # \"none\", \"target\", \"protected-attribute\", \"both\",\n",
    "    \"model\": \"elasticnet\", # \"logreg\", \"penalized_logreg\", \"rf\", \"gbm\", \"elasticnet\"\n",
    "    \"cutoff\": [\"quantile_0.15\", \"quantile_0.30\"],\n",
    "    \"exclude_features\": \"age\", # \"none\", \"nationality\", \"sex\", \"nationality-sex\", \"age\"\n",
    "    \"exclude_subgroups\": \"keep-all\", # \"keep-all\", \"drop-non-german\"\n",
    "    \"eval_fairness_grouping\": [\"majority-minority\", \"nationality-all\"]\n",
    "}\n",
    "\n",
    "output_dir=\"./output\"\n",
    "seed=0"
   ]
  },
  {
   "cell_type": "code",
   "execution_count": 4,
   "id": "9575b00d",
   "metadata": {
    "execution": {
     "iopub.execute_input": "2025-07-30T21:37:06.818705Z",
     "iopub.status.busy": "2025-07-30T21:37:06.818215Z",
     "iopub.status.idle": "2025-07-30T21:37:06.822380Z",
     "shell.execute_reply": "2025-07-30T21:37:06.821716Z"
    },
    "papermill": {
     "duration": 0.016349,
     "end_time": "2025-07-30T21:37:06.823650",
     "exception": false,
     "start_time": "2025-07-30T21:37:06.807301",
     "status": "completed"
    },
    "tags": [
     "injected-parameters"
    ]
   },
   "outputs": [],
   "source": [
    "# Parameters\n",
    "universe_id = \"4bdc8a1a1be00509c77f8efe6787a39f\"\n",
    "run_no = \"14\"\n",
    "universe = \"{\\\"cutoff\\\": [\\\"quantile_0.1\\\", \\\"quantile_0.25\\\"], \\\"eval_fairness_grouping\\\": [\\\"majority-minority\\\", \\\"nationality-all\\\"], \\\"exclude_features\\\": \\\"nationality\\\", \\\"exclude_subgroups\\\": \\\"keep-all\\\", \\\"model\\\": \\\"elasticnet\\\", \\\"scale\\\": \\\"scale\\\", \\\"training_size\\\": \\\"1k\\\", \\\"training_year\\\": \\\"2012_14\\\"}\"\n",
    "output_dir = \"output\"\n",
    "seed = \"2023\"\n"
   ]
  },
  {
   "cell_type": "code",
   "execution_count": 5,
   "id": "1650acaf",
   "metadata": {
    "execution": {
     "iopub.execute_input": "2025-07-30T21:37:06.845586Z",
     "iopub.status.busy": "2025-07-30T21:37:06.845134Z",
     "iopub.status.idle": "2025-07-30T21:37:06.849467Z",
     "shell.execute_reply": "2025-07-30T21:37:06.848808Z"
    },
    "papermill": {
     "duration": 0.016379,
     "end_time": "2025-07-30T21:37:06.850810",
     "exception": false,
     "start_time": "2025-07-30T21:37:06.834431",
     "status": "completed"
    },
    "tags": []
   },
   "outputs": [],
   "source": [
    "import json\n",
    "# Parse universe into dict if it is passed as a string\n",
    "if isinstance(universe, str):\n",
    "    universe = json.loads(universe)"
   ]
  },
  {
   "cell_type": "code",
   "execution_count": 6,
   "id": "16620c48",
   "metadata": {
    "execution": {
     "iopub.execute_input": "2025-07-30T21:37:06.873003Z",
     "iopub.status.busy": "2025-07-30T21:37:06.872541Z",
     "iopub.status.idle": "2025-07-30T21:37:06.900082Z",
     "shell.execute_reply": "2025-07-30T21:37:06.899368Z"
    },
    "papermill": {
     "duration": 0.039713,
     "end_time": "2025-07-30T21:37:06.901462",
     "exception": false,
     "start_time": "2025-07-30T21:37:06.861749",
     "status": "completed"
    },
    "tags": []
   },
   "outputs": [],
   "source": [
    "# Auto-reload the custom package\n",
    "%load_ext autoreload\n",
    "%autoreload 1\n",
    "%aimport fairness_multiverse"
   ]
  },
  {
   "cell_type": "code",
   "execution_count": 7,
   "id": "01c5c9f3",
   "metadata": {
    "execution": {
     "iopub.execute_input": "2025-07-30T21:37:06.923726Z",
     "iopub.status.busy": "2025-07-30T21:37:06.922943Z",
     "iopub.status.idle": "2025-07-30T21:37:08.540460Z",
     "shell.execute_reply": "2025-07-30T21:37:08.539628Z"
    },
    "papermill": {
     "duration": 1.629827,
     "end_time": "2025-07-30T21:37:08.541900",
     "exception": false,
     "start_time": "2025-07-30T21:37:06.912073",
     "status": "completed"
    },
    "tags": []
   },
   "outputs": [],
   "source": [
    "from fairness_multiverse.universe import UniverseAnalysis\n",
    "\n",
    "universe_analysis = UniverseAnalysis(\n",
    "    run_no = run_no,\n",
    "    universe_id = universe_id,\n",
    "    universe = universe,\n",
    "    output_dir=output_dir,\n",
    ")"
   ]
  },
  {
   "cell_type": "code",
   "execution_count": 8,
   "id": "106241f5",
   "metadata": {
    "execution": {
     "iopub.execute_input": "2025-07-30T21:37:08.589426Z",
     "iopub.status.busy": "2025-07-30T21:37:08.588917Z",
     "iopub.status.idle": "2025-07-30T21:37:08.596367Z",
     "shell.execute_reply": "2025-07-30T21:37:08.595250Z"
    },
    "papermill": {
     "duration": 0.037966,
     "end_time": "2025-07-30T21:37:08.598157",
     "exception": false,
     "start_time": "2025-07-30T21:37:08.560191",
     "status": "completed"
    },
    "tags": []
   },
   "outputs": [
    {
     "name": "stdout",
     "output_type": "stream",
     "text": [
      "Using Seed: 2023\n"
     ]
    }
   ],
   "source": [
    "import numpy as np\n",
    "parsed_seed = int(seed)\n",
    "np.random.seed(parsed_seed)\n",
    "print(f\"Using Seed: {parsed_seed}\")"
   ]
  },
  {
   "cell_type": "markdown",
   "id": "e0ebdc57",
   "metadata": {
    "papermill": {
     "duration": 0.022815,
     "end_time": "2025-07-30T21:37:08.644328",
     "exception": false,
     "start_time": "2025-07-30T21:37:08.621513",
     "status": "completed"
    },
    "tags": []
   },
   "source": [
    "# Loading Data"
   ]
  },
  {
   "cell_type": "markdown",
   "id": "681925a3",
   "metadata": {
    "papermill": {
     "duration": 0.023799,
     "end_time": "2025-07-30T21:37:08.691844",
     "exception": false,
     "start_time": "2025-07-30T21:37:08.668045",
     "status": "completed"
    },
    "tags": []
   },
   "source": [
    "Load siab_train, siab_test, siab_calib and/or \n",
    "load siab_train_features, siab_train_labels"
   ]
  },
  {
   "cell_type": "code",
   "execution_count": 9,
   "id": "f0496b8a",
   "metadata": {
    "execution": {
     "iopub.execute_input": "2025-07-30T21:37:08.741930Z",
     "iopub.status.busy": "2025-07-30T21:37:08.740905Z",
     "iopub.status.idle": "2025-07-30T21:37:20.712152Z",
     "shell.execute_reply": "2025-07-30T21:37:20.711187Z"
    },
    "papermill": {
     "duration": 11.997807,
     "end_time": "2025-07-30T21:37:20.713530",
     "exception": false,
     "start_time": "2025-07-30T21:37:08.715723",
     "status": "completed"
    },
    "tags": []
   },
   "outputs": [
    {
     "name": "stdout",
     "output_type": "stream",
     "text": [
      "Loading SIAB data from cache: data/siab_cached.csv.gz\n"
     ]
    },
    {
     "name": "stdout",
     "output_type": "stream",
     "text": [
      "(643690, 164)\n"
     ]
    }
   ],
   "source": [
    "from pathlib import Path\n",
    "import pandas as pd\n",
    "\n",
    "# File paths\n",
    "raw_file = Path(\"data/raw/siab.csv\")\n",
    "cache_file = Path(\"data/siab_cached.csv.gz\")\n",
    "\n",
    "# Ensure cache directory exists\n",
    "cache_file.parent.mkdir(parents=True, exist_ok=True)\n",
    "\n",
    "# Load with simple caching\n",
    "if cache_file.exists():\n",
    "    print(f\"Loading SIAB data from cache: {cache_file}\")\n",
    "    siab = pd.read_csv(cache_file, compression='gzip')\n",
    "else:\n",
    "    print(f\"Cache not found. Reading raw SIAB data: {raw_file}\")\n",
    "    siab = pd.read_csv(raw_file)\n",
    "    siab.to_csv(cache_file, index=False, compression='gzip')\n",
    "    print(f\"Cached SIAB data to: {cache_file}\")\n",
    "\n",
    "# Now use `siab` DataFrame as needed\n",
    "print(siab.shape)"
   ]
  },
  {
   "cell_type": "code",
   "execution_count": 10,
   "id": "db0ca512-5f53-4dba-abdb-a2888bca41ba",
   "metadata": {
    "execution": {
     "iopub.execute_input": "2025-07-30T21:37:20.738732Z",
     "iopub.status.busy": "2025-07-30T21:37:20.738460Z",
     "iopub.status.idle": "2025-07-30T21:37:20.743376Z",
     "shell.execute_reply": "2025-07-30T21:37:20.742118Z"
    },
    "papermill": {
     "duration": 0.017724,
     "end_time": "2025-07-30T21:37:20.744954",
     "exception": false,
     "start_time": "2025-07-30T21:37:20.727230",
     "status": "completed"
    },
    "tags": []
   },
   "outputs": [],
   "source": [
    "#siab"
   ]
  },
  {
   "cell_type": "code",
   "execution_count": 11,
   "id": "a0edb063",
   "metadata": {
    "execution": {
     "iopub.execute_input": "2025-07-30T21:37:20.788024Z",
     "iopub.status.busy": "2025-07-30T21:37:20.787127Z",
     "iopub.status.idle": "2025-07-30T21:37:20.792165Z",
     "shell.execute_reply": "2025-07-30T21:37:20.791147Z"
    },
    "papermill": {
     "duration": 0.027382,
     "end_time": "2025-07-30T21:37:20.793779",
     "exception": false,
     "start_time": "2025-07-30T21:37:20.766397",
     "status": "completed"
    },
    "tags": []
   },
   "outputs": [],
   "source": [
    "#import pandas as pd\n",
    "#\n",
    "#X_train = pd.read_csv(\"./data/X_train.csv\")\n",
    "#y_train = pd.read_csv(\"./data/y_train.csv\")"
   ]
  },
  {
   "cell_type": "code",
   "execution_count": 12,
   "id": "63d08085",
   "metadata": {
    "execution": {
     "iopub.execute_input": "2025-07-30T21:37:20.838698Z",
     "iopub.status.busy": "2025-07-30T21:37:20.838178Z",
     "iopub.status.idle": "2025-07-30T21:37:20.843380Z",
     "shell.execute_reply": "2025-07-30T21:37:20.842366Z"
    },
    "papermill": {
     "duration": 0.029368,
     "end_time": "2025-07-30T21:37:20.845251",
     "exception": false,
     "start_time": "2025-07-30T21:37:20.815883",
     "status": "completed"
    },
    "tags": []
   },
   "outputs": [],
   "source": [
    "#X_test = pd.read_csv(\"./data/X_test.csv\")\n",
    "#y_true = pd.read_csv(\"./data/y_test.csv\")"
   ]
  },
  {
   "cell_type": "code",
   "execution_count": 13,
   "id": "98a8d0fa-1d3d-4ed8-bb2c-281470e24add",
   "metadata": {
    "execution": {
     "iopub.execute_input": "2025-07-30T21:37:20.887106Z",
     "iopub.status.busy": "2025-07-30T21:37:20.886643Z",
     "iopub.status.idle": "2025-07-30T21:37:20.891633Z",
     "shell.execute_reply": "2025-07-30T21:37:20.890818Z"
    },
    "papermill": {
     "duration": 0.027225,
     "end_time": "2025-07-30T21:37:20.893266",
     "exception": false,
     "start_time": "2025-07-30T21:37:20.866041",
     "status": "completed"
    },
    "tags": []
   },
   "outputs": [],
   "source": [
    "# Calibration data for conformal\n",
    "#X_calib = pd.read_csv(\"./data/X_calib.csv\")\n",
    "#y_calib = pd.read_csv(\"./data/y_calib.csv\")"
   ]
  },
  {
   "cell_type": "markdown",
   "id": "997051c5-15bd-4b69-9786-c3001a3ce484",
   "metadata": {
    "papermill": {
     "duration": 0.020729,
     "end_time": "2025-07-30T21:37:20.933283",
     "exception": false,
     "start_time": "2025-07-30T21:37:20.912554",
     "status": "completed"
    },
    "tags": []
   },
   "source": [
    "# Splitting Data and Setting Training Data Size"
   ]
  },
  {
   "cell_type": "code",
   "execution_count": 14,
   "id": "e993b61f-042d-41a6-8c81-f55681f86335",
   "metadata": {
    "execution": {
     "iopub.execute_input": "2025-07-30T21:37:20.973843Z",
     "iopub.status.busy": "2025-07-30T21:37:20.973380Z",
     "iopub.status.idle": "2025-07-30T21:37:20.987029Z",
     "shell.execute_reply": "2025-07-30T21:37:20.986058Z"
    },
    "papermill": {
     "duration": 0.037125,
     "end_time": "2025-07-30T21:37:20.989953",
     "exception": false,
     "start_time": "2025-07-30T21:37:20.952828",
     "status": "completed"
    },
    "tags": []
   },
   "outputs": [],
   "source": [
    "def sample_by_year_size(df,\n",
    "                        training_year: str,\n",
    "                        training_size: str,\n",
    "                        random_state: int = 42):\n",
    "    # --- parse training_year into a list of int years ---\n",
    "    if \"_\" in training_year:\n",
    "        start_str, end_str = training_year.split(\"_\", 1)\n",
    "        start = int(start_str)\n",
    "        end   = int(end_str) if len(end_str) == 4 else (int(end_str) + (start // 100)*100)\n",
    "        years = list(range(start, end + 1))\n",
    "    else:\n",
    "        years = [int(training_year)]\n",
    "\n",
    "    df = df[df[\"year\"].isin(years)].reset_index(drop=True)\n",
    "\n",
    "    # --- map training_size to total number of samples ---\n",
    "    total_map = {\"25k\": 25_000, \"5k\": 5_000, \"1k\": 1_000}\n",
    "    if training_size not in total_map:\n",
    "        return df  # e.g. \"all\"\n",
    "\n",
    "    total_samples = total_map[training_size]\n",
    "    n_years       = len(years)\n",
    "    base          = total_samples // n_years\n",
    "    remainder     = total_samples % n_years\n",
    "\n",
    "    # --- build a dict: year -> how many to sample ---\n",
    "    # give +1 to the first `remainder` years in ascending order\n",
    "    quotas = {\n",
    "        year: base + (1 if idx < remainder else 0)\n",
    "        for idx, year in enumerate(sorted(years))\n",
    "    }\n",
    "\n",
    "    # --- sample per‐year according to the quota dict ---\n",
    "    sampled = (\n",
    "        df\n",
    "        .groupby(\"year\", group_keys=False)\n",
    "        .apply(lambda grp: grp.sample(\n",
    "            n=min(len(grp), quotas[grp.name]),\n",
    "            random_state=random_state))\n",
    "        .reset_index(drop=True)\n",
    "    )\n",
    "\n",
    "    return sampled"
   ]
  },
  {
   "cell_type": "code",
   "execution_count": 15,
   "id": "c0ccd338-0e02-41f3-a09d-f56f9266e3fb",
   "metadata": {
    "execution": {
     "iopub.execute_input": "2025-07-30T21:37:21.035525Z",
     "iopub.status.busy": "2025-07-30T21:37:21.034920Z",
     "iopub.status.idle": "2025-07-30T21:37:21.040092Z",
     "shell.execute_reply": "2025-07-30T21:37:21.038774Z"
    },
    "papermill": {
     "duration": 0.029281,
     "end_time": "2025-07-30T21:37:21.041821",
     "exception": false,
     "start_time": "2025-07-30T21:37:21.012540",
     "status": "completed"
    },
    "tags": []
   },
   "outputs": [],
   "source": [
    "#universe[\"training_size\"]"
   ]
  },
  {
   "cell_type": "code",
   "execution_count": 16,
   "id": "ca707fd7-8047-4acd-bfa5-66248fbbf8e6",
   "metadata": {
    "execution": {
     "iopub.execute_input": "2025-07-30T21:37:21.089564Z",
     "iopub.status.busy": "2025-07-30T21:37:21.089094Z",
     "iopub.status.idle": "2025-07-30T21:37:21.093989Z",
     "shell.execute_reply": "2025-07-30T21:37:21.093155Z"
    },
    "papermill": {
     "duration": 0.029887,
     "end_time": "2025-07-30T21:37:21.095678",
     "exception": false,
     "start_time": "2025-07-30T21:37:21.065791",
     "status": "completed"
    },
    "tags": []
   },
   "outputs": [],
   "source": [
    "#universe[\"training_year\"]"
   ]
  },
  {
   "cell_type": "code",
   "execution_count": 17,
   "id": "aea9c6ef-6f46-42c8-85eb-5a62025c1508",
   "metadata": {
    "execution": {
     "iopub.execute_input": "2025-07-30T21:37:21.139902Z",
     "iopub.status.busy": "2025-07-30T21:37:21.139308Z",
     "iopub.status.idle": "2025-07-30T21:37:21.716181Z",
     "shell.execute_reply": "2025-07-30T21:37:21.715285Z"
    },
    "papermill": {
     "duration": 0.601599,
     "end_time": "2025-07-30T21:37:21.718016",
     "exception": false,
     "start_time": "2025-07-30T21:37:21.116417",
     "status": "completed"
    },
    "tags": []
   },
   "outputs": [],
   "source": [
    "siab_train = sample_by_year_size(siab,\n",
    "                               training_year=universe[\"training_year\"],\n",
    "                               training_size=universe[\"training_size\"])"
   ]
  },
  {
   "cell_type": "code",
   "execution_count": 18,
   "id": "8d3afb32-789d-442c-8d5d-9f5aa8dd2eed",
   "metadata": {
    "execution": {
     "iopub.execute_input": "2025-07-30T21:37:21.762045Z",
     "iopub.status.busy": "2025-07-30T21:37:21.761605Z",
     "iopub.status.idle": "2025-07-30T21:37:21.766564Z",
     "shell.execute_reply": "2025-07-30T21:37:21.765666Z"
    },
    "papermill": {
     "duration": 0.028551,
     "end_time": "2025-07-30T21:37:21.768112",
     "exception": false,
     "start_time": "2025-07-30T21:37:21.739561",
     "status": "completed"
    },
    "tags": []
   },
   "outputs": [],
   "source": [
    "#siab_train.shape"
   ]
  },
  {
   "cell_type": "code",
   "execution_count": 19,
   "id": "d582db68-1a4c-47fb-84fc-08518dc1975a",
   "metadata": {
    "execution": {
     "iopub.execute_input": "2025-07-30T21:37:21.810158Z",
     "iopub.status.busy": "2025-07-30T21:37:21.809503Z",
     "iopub.status.idle": "2025-07-30T21:37:21.814233Z",
     "shell.execute_reply": "2025-07-30T21:37:21.813411Z"
    },
    "papermill": {
     "duration": 0.026932,
     "end_time": "2025-07-30T21:37:21.815823",
     "exception": false,
     "start_time": "2025-07-30T21:37:21.788891",
     "status": "completed"
    },
    "tags": []
   },
   "outputs": [],
   "source": [
    "#display(siab_train.groupby(\"year\").size())"
   ]
  },
  {
   "cell_type": "code",
   "execution_count": 20,
   "id": "a561edb4-d032-42cb-8256-22eac1111c64",
   "metadata": {
    "execution": {
     "iopub.execute_input": "2025-07-30T21:37:21.857075Z",
     "iopub.status.busy": "2025-07-30T21:37:21.856635Z",
     "iopub.status.idle": "2025-07-30T21:37:22.059325Z",
     "shell.execute_reply": "2025-07-30T21:37:22.058402Z"
    },
    "papermill": {
     "duration": 0.225245,
     "end_time": "2025-07-30T21:37:22.061315",
     "exception": false,
     "start_time": "2025-07-30T21:37:21.836070",
     "status": "completed"
    },
    "tags": []
   },
   "outputs": [],
   "source": [
    "#siab_train = siab_s[siab_s.year < 2015]\n",
    "siab_calib = siab[siab.year == 2015]\n",
    "siab_test = siab[siab.year == 2016]"
   ]
  },
  {
   "cell_type": "code",
   "execution_count": 21,
   "id": "472de16f-c3db-4916-846b-1f0de9cf1746",
   "metadata": {
    "execution": {
     "iopub.execute_input": "2025-07-30T21:37:22.105687Z",
     "iopub.status.busy": "2025-07-30T21:37:22.105040Z",
     "iopub.status.idle": "2025-07-30T21:37:22.112546Z",
     "shell.execute_reply": "2025-07-30T21:37:22.111528Z"
    },
    "papermill": {
     "duration": 0.031718,
     "end_time": "2025-07-30T21:37:22.114318",
     "exception": false,
     "start_time": "2025-07-30T21:37:22.082600",
     "status": "completed"
    },
    "tags": []
   },
   "outputs": [],
   "source": [
    "X_train = siab_train.iloc[:,4:164]\n",
    "y_train = siab_train.iloc[:, [3]]"
   ]
  },
  {
   "cell_type": "code",
   "execution_count": 22,
   "id": "828c96af-f43a-4ed6-ba47-8ac73a47d56c",
   "metadata": {
    "execution": {
     "iopub.execute_input": "2025-07-30T21:37:22.160240Z",
     "iopub.status.busy": "2025-07-30T21:37:22.159601Z",
     "iopub.status.idle": "2025-07-30T21:37:22.209990Z",
     "shell.execute_reply": "2025-07-30T21:37:22.209007Z"
    },
    "papermill": {
     "duration": 0.074546,
     "end_time": "2025-07-30T21:37:22.211551",
     "exception": false,
     "start_time": "2025-07-30T21:37:22.137005",
     "status": "completed"
    },
    "tags": []
   },
   "outputs": [],
   "source": [
    "X_calib = siab_calib.iloc[:,4:164]\n",
    "y_calib = siab_calib.iloc[:, [3]]"
   ]
  },
  {
   "cell_type": "code",
   "execution_count": 23,
   "id": "c34be9c3-6bd6-476e-acd3-845840e303be",
   "metadata": {
    "execution": {
     "iopub.execute_input": "2025-07-30T21:37:22.258231Z",
     "iopub.status.busy": "2025-07-30T21:37:22.257777Z",
     "iopub.status.idle": "2025-07-30T21:37:22.307999Z",
     "shell.execute_reply": "2025-07-30T21:37:22.307010Z"
    },
    "papermill": {
     "duration": 0.074871,
     "end_time": "2025-07-30T21:37:22.309898",
     "exception": false,
     "start_time": "2025-07-30T21:37:22.235027",
     "status": "completed"
    },
    "tags": []
   },
   "outputs": [],
   "source": [
    "X_test = siab_test.iloc[:,4:164]\n",
    "y_true = siab_test.iloc[:, [3]]"
   ]
  },
  {
   "cell_type": "markdown",
   "id": "9901737e-04df-44f0-9100-f5ad144ed040",
   "metadata": {
    "papermill": {
     "duration": 0.021944,
     "end_time": "2025-07-30T21:37:22.353834",
     "exception": false,
     "start_time": "2025-07-30T21:37:22.331890",
     "status": "completed"
    },
    "tags": []
   },
   "source": [
    "# Splitting Data and Setting Training Data Size OLD VERSION"
   ]
  },
  {
   "cell_type": "code",
   "execution_count": 24,
   "id": "acbc8f7d-8fc8-4e86-8c59-5dcb0f58384b",
   "metadata": {
    "execution": {
     "iopub.execute_input": "2025-07-30T21:37:22.398046Z",
     "iopub.status.busy": "2025-07-30T21:37:22.397127Z",
     "iopub.status.idle": "2025-07-30T21:37:22.403261Z",
     "shell.execute_reply": "2025-07-30T21:37:22.402219Z"
    },
    "papermill": {
     "duration": 0.030201,
     "end_time": "2025-07-30T21:37:22.404700",
     "exception": false,
     "start_time": "2025-07-30T21:37:22.374499",
     "status": "completed"
    },
    "tags": []
   },
   "outputs": [],
   "source": [
    "#def sample_by_year(df, training_size, random_state=42):\n",
    "#    if training_size == \"2014\":\n",
    "#        return df[df[\"year\"] == 2014].reset_index(drop=True)\n",
    "#    \n",
    "#    size_map = {\n",
    "#        \"25k\": 5000,\n",
    "#        \"5k\": 1000,\n",
    "#        \"1k\": 200\n",
    "#    }\n",
    "#\n",
    "#    if training_size not in size_map:\n",
    "#        return df.reset_index(drop=True)  # use all data\n",
    "#\n",
    "#    n_per_year = size_map[training_size]\n",
    "#    grouped = df.groupby(\"year\")\n",
    "#    sampled = grouped.apply(lambda x: x.sample(n=min(n_per_year, len(x)), random_state=random_state))\n",
    "#    return sampled.reset_index(drop=True)"
   ]
  },
  {
   "cell_type": "code",
   "execution_count": 25,
   "id": "6d931f52-beaf-43ff-9e78-9d44a448d54e",
   "metadata": {
    "execution": {
     "iopub.execute_input": "2025-07-30T21:37:22.449048Z",
     "iopub.status.busy": "2025-07-30T21:37:22.448118Z",
     "iopub.status.idle": "2025-07-30T21:37:22.453461Z",
     "shell.execute_reply": "2025-07-30T21:37:22.452615Z"
    },
    "papermill": {
     "duration": 0.029257,
     "end_time": "2025-07-30T21:37:22.455057",
     "exception": false,
     "start_time": "2025-07-30T21:37:22.425800",
     "status": "completed"
    },
    "tags": []
   },
   "outputs": [],
   "source": [
    "#siab_s = sample_by_year(siab, universe[\"training_size\"])"
   ]
  },
  {
   "cell_type": "code",
   "execution_count": 26,
   "id": "5db0a40e-a4e2-4920-be85-b12ae061d70d",
   "metadata": {
    "execution": {
     "iopub.execute_input": "2025-07-30T21:37:22.497061Z",
     "iopub.status.busy": "2025-07-30T21:37:22.496143Z",
     "iopub.status.idle": "2025-07-30T21:37:22.501460Z",
     "shell.execute_reply": "2025-07-30T21:37:22.500535Z"
    },
    "papermill": {
     "duration": 0.028111,
     "end_time": "2025-07-30T21:37:22.503157",
     "exception": false,
     "start_time": "2025-07-30T21:37:22.475046",
     "status": "completed"
    },
    "tags": []
   },
   "outputs": [],
   "source": [
    "#display(siab_s.groupby(\"year\").size())"
   ]
  },
  {
   "cell_type": "code",
   "execution_count": 27,
   "id": "e6c733c5",
   "metadata": {
    "execution": {
     "iopub.execute_input": "2025-07-30T21:37:22.545339Z",
     "iopub.status.busy": "2025-07-30T21:37:22.544489Z",
     "iopub.status.idle": "2025-07-30T21:37:22.640473Z",
     "shell.execute_reply": "2025-07-30T21:37:22.639550Z"
    },
    "papermill": {
     "duration": 0.118564,
     "end_time": "2025-07-30T21:37:22.642321",
     "exception": false,
     "start_time": "2025-07-30T21:37:22.523757",
     "status": "completed"
    },
    "tags": []
   },
   "outputs": [],
   "source": [
    "# Auxiliary data needed downstream in the pipeline\n",
    "\n",
    "org_train = X_train.copy()\n",
    "org_test = X_test.copy()\n",
    "org_calib = X_calib.copy()"
   ]
  },
  {
   "cell_type": "code",
   "execution_count": 28,
   "id": "1466abac-c6da-4492-a62f-4240ae3783af",
   "metadata": {
    "execution": {
     "iopub.execute_input": "2025-07-30T21:37:22.686748Z",
     "iopub.status.busy": "2025-07-30T21:37:22.686096Z",
     "iopub.status.idle": "2025-07-30T21:37:22.691729Z",
     "shell.execute_reply": "2025-07-30T21:37:22.690835Z"
    },
    "papermill": {
     "duration": 0.029475,
     "end_time": "2025-07-30T21:37:22.693457",
     "exception": false,
     "start_time": "2025-07-30T21:37:22.663982",
     "status": "completed"
    },
    "tags": []
   },
   "outputs": [],
   "source": [
    "# put in other script?\n",
    "# Group sizes\n",
    "\n",
    "#def calculate_percentages(df, df_name):\n",
    "#    total_entries = len(df)\n",
    "#\n",
    "#    female_pct = (df['frau1'] == 1).mean() * 100\n",
    "#    non_german_pct = ((df['maxdeutsch1'] == 0) & (df['maxdeutsch.Missing.'] == 0)).mean() * 100\n",
    "#    non_german_male_pct = ((df['frau1'] == 0) & (df['maxdeutsch1'] == 0) & (df['maxdeutsch.Missing.'] == 0)).mean() * 100\n",
    "#    non_german_female_pct = ((df['frau1'] == 1) & (df['maxdeutsch1'] == 0) & (df['maxdeutsch.Missing.'] == 0)).mean() * 100\n",
    "#\n",
    "#    print(f\"--- {df_name} ---\")\n",
    "#    print(f\"Female: {female_pct:.2f}%\")\n",
    "#    print(f\"Non-German: {non_german_pct:.2f}%\")\n",
    "#    print(f\"Non-German Male: {non_german_male_pct:.2f}%\")\n",
    "#    print(f\"Non-German Female: {non_german_female_pct:.2f}%\\n\")\n",
    "#\n",
    "## Calculate for each DataFrame\n",
    "#calculate_percentages(siab_calib, \"siab_calib\")\n",
    "#calculate_percentages(siab_test, \"siab_test\")\n",
    "#calculate_percentages(siab_train, \"siab_train\")"
   ]
  },
  {
   "cell_type": "markdown",
   "id": "0a4a1b33",
   "metadata": {
    "papermill": {
     "duration": 0.022944,
     "end_time": "2025-07-30T21:37:22.737456",
     "exception": false,
     "start_time": "2025-07-30T21:37:22.714512",
     "status": "completed"
    },
    "tags": []
   },
   "source": [
    "# Preprocessing Data"
   ]
  },
  {
   "cell_type": "code",
   "execution_count": 29,
   "id": "ca879031",
   "metadata": {
    "execution": {
     "iopub.execute_input": "2025-07-30T21:37:22.781932Z",
     "iopub.status.busy": "2025-07-30T21:37:22.781287Z",
     "iopub.status.idle": "2025-07-30T21:37:22.787365Z",
     "shell.execute_reply": "2025-07-30T21:37:22.786435Z"
    },
    "papermill": {
     "duration": 0.03013,
     "end_time": "2025-07-30T21:37:22.788961",
     "exception": false,
     "start_time": "2025-07-30T21:37:22.758831",
     "status": "completed"
    },
    "tags": []
   },
   "outputs": [],
   "source": [
    "# EXCLUDE PROTECTED FEATURES\n",
    "# ----------------------\n",
    "# \"exclude_features\": \"none\", # \"nationality\", \"sex\", \"nationality-sex\"\n",
    "\n",
    "excluded_features = universe[\"exclude_features\"].split(\"-\") # split, e.g.: \"nationality-sex\" -> [\"nationality\", \"sex\"]\n",
    "excluded_features_dictionary = {\n",
    "    \"nationality\": [\"maxdeutsch1\", \"maxdeutsch.Missing.\"],\n",
    "    \"sex\": [\"frau1\"],\n",
    "    \"age\": [\"age\"],\n",
    "}\n"
   ]
  },
  {
   "cell_type": "code",
   "execution_count": 30,
   "id": "b745ac60",
   "metadata": {
    "execution": {
     "iopub.execute_input": "2025-07-30T21:37:22.836250Z",
     "iopub.status.busy": "2025-07-30T21:37:22.835576Z",
     "iopub.status.idle": "2025-07-30T21:37:22.841237Z",
     "shell.execute_reply": "2025-07-30T21:37:22.840205Z"
    },
    "papermill": {
     "duration": 0.030579,
     "end_time": "2025-07-30T21:37:22.842773",
     "exception": false,
     "start_time": "2025-07-30T21:37:22.812194",
     "status": "completed"
    },
    "tags": []
   },
   "outputs": [],
   "source": [
    "# Code nice names to column names\n",
    "\n",
    "excluded_features_columns = [\n",
    "    excluded_features_dictionary[f] for f in excluded_features if len(f) > 0 and f != \"none\"\n",
    "]"
   ]
  },
  {
   "cell_type": "code",
   "execution_count": 31,
   "id": "f84f73a2",
   "metadata": {
    "execution": {
     "iopub.execute_input": "2025-07-30T21:37:22.890198Z",
     "iopub.status.busy": "2025-07-30T21:37:22.889368Z",
     "iopub.status.idle": "2025-07-30T21:37:22.897164Z",
     "shell.execute_reply": "2025-07-30T21:37:22.896180Z"
    },
    "papermill": {
     "duration": 0.033601,
     "end_time": "2025-07-30T21:37:22.898961",
     "exception": false,
     "start_time": "2025-07-30T21:37:22.865360",
     "status": "completed"
    },
    "tags": []
   },
   "outputs": [],
   "source": [
    "from utils import flatten_once\n",
    "\n",
    "excluded_features_columns = flatten_once(excluded_features_columns)"
   ]
  },
  {
   "cell_type": "code",
   "execution_count": 32,
   "id": "884dea22",
   "metadata": {
    "execution": {
     "iopub.execute_input": "2025-07-30T21:37:22.945285Z",
     "iopub.status.busy": "2025-07-30T21:37:22.944560Z",
     "iopub.status.idle": "2025-07-30T21:37:22.952996Z",
     "shell.execute_reply": "2025-07-30T21:37:22.951965Z"
    },
    "papermill": {
     "duration": 0.032857,
     "end_time": "2025-07-30T21:37:22.954645",
     "exception": false,
     "start_time": "2025-07-30T21:37:22.921788",
     "status": "completed"
    },
    "tags": []
   },
   "outputs": [
    {
     "name": "stdout",
     "output_type": "stream",
     "text": [
      "Dropping features: ['maxdeutsch1', 'maxdeutsch.Missing.']\n"
     ]
    }
   ],
   "source": [
    "if len(excluded_features_columns) > 0:\n",
    "    print(f\"Dropping features: {excluded_features_columns}\")\n",
    "    X_train.drop(excluded_features_columns, axis=1, inplace=True)"
   ]
  },
  {
   "cell_type": "code",
   "execution_count": 33,
   "id": "95ab8b16",
   "metadata": {
    "execution": {
     "iopub.execute_input": "2025-07-30T21:37:22.999674Z",
     "iopub.status.busy": "2025-07-30T21:37:22.998954Z",
     "iopub.status.idle": "2025-07-30T21:37:23.059972Z",
     "shell.execute_reply": "2025-07-30T21:37:23.058884Z"
    },
    "papermill": {
     "duration": 0.085037,
     "end_time": "2025-07-30T21:37:23.061736",
     "exception": false,
     "start_time": "2025-07-30T21:37:22.976699",
     "status": "completed"
    },
    "tags": []
   },
   "outputs": [
    {
     "name": "stdout",
     "output_type": "stream",
     "text": [
      "Dropping features: ['maxdeutsch1', 'maxdeutsch.Missing.']\n"
     ]
    }
   ],
   "source": [
    "if len(excluded_features_columns) > 0:\n",
    "    print(f\"Dropping features: {excluded_features_columns}\")\n",
    "    X_test.drop(excluded_features_columns, axis=1, inplace=True)"
   ]
  },
  {
   "cell_type": "code",
   "execution_count": 34,
   "id": "1853aaf5-fb9f-46cb-a2b5-8ea4ae2237e4",
   "metadata": {
    "execution": {
     "iopub.execute_input": "2025-07-30T21:37:23.121343Z",
     "iopub.status.busy": "2025-07-30T21:37:23.120827Z",
     "iopub.status.idle": "2025-07-30T21:37:23.171465Z",
     "shell.execute_reply": "2025-07-30T21:37:23.170292Z"
    },
    "papermill": {
     "duration": 0.084908,
     "end_time": "2025-07-30T21:37:23.173124",
     "exception": false,
     "start_time": "2025-07-30T21:37:23.088216",
     "status": "completed"
    },
    "tags": []
   },
   "outputs": [
    {
     "name": "stdout",
     "output_type": "stream",
     "text": [
      "Dropping features: ['maxdeutsch1', 'maxdeutsch.Missing.']\n"
     ]
    }
   ],
   "source": [
    "if len(excluded_features_columns) > 0:\n",
    "    print(f\"Dropping features: {excluded_features_columns}\")\n",
    "    X_calib.drop(excluded_features_columns, axis=1, inplace=True)"
   ]
  },
  {
   "cell_type": "code",
   "execution_count": 35,
   "id": "6727d079-03e5-481e-9d38-292a90b7a0a8",
   "metadata": {
    "execution": {
     "iopub.execute_input": "2025-07-30T21:37:23.219212Z",
     "iopub.status.busy": "2025-07-30T21:37:23.218596Z",
     "iopub.status.idle": "2025-07-30T21:37:23.224527Z",
     "shell.execute_reply": "2025-07-30T21:37:23.223592Z"
    },
    "papermill": {
     "duration": 0.030478,
     "end_time": "2025-07-30T21:37:23.226297",
     "exception": false,
     "start_time": "2025-07-30T21:37:23.195819",
     "status": "completed"
    },
    "tags": []
   },
   "outputs": [],
   "source": [
    "# SPLIT & STRATIFY DATA\n",
    "# ----------------------"
   ]
  },
  {
   "cell_type": "code",
   "execution_count": 36,
   "id": "76c4dc6d",
   "metadata": {
    "execution": {
     "iopub.execute_input": "2025-07-30T21:37:23.271771Z",
     "iopub.status.busy": "2025-07-30T21:37:23.271295Z",
     "iopub.status.idle": "2025-07-30T21:37:23.276456Z",
     "shell.execute_reply": "2025-07-30T21:37:23.275525Z"
    },
    "papermill": {
     "duration": 0.029205,
     "end_time": "2025-07-30T21:37:23.278049",
     "exception": false,
     "start_time": "2025-07-30T21:37:23.248844",
     "status": "completed"
    },
    "tags": []
   },
   "outputs": [],
   "source": [
    "# EXCLUDE CERTAIN SUBGROUPS\n",
    "# ----------------------\n",
    "\n",
    "mode = universe.get(\"exclude_subgroups\", \"keep-all\") \n",
    "# Fetches the exclude_subgroups setting from the universe dict.\n",
    "# Defaults to \"keep-all\" if the key is missing."
   ]
  },
  {
   "cell_type": "code",
   "execution_count": 37,
   "id": "21994072",
   "metadata": {
    "execution": {
     "iopub.execute_input": "2025-07-30T21:37:23.321361Z",
     "iopub.status.busy": "2025-07-30T21:37:23.320746Z",
     "iopub.status.idle": "2025-07-30T21:37:23.327394Z",
     "shell.execute_reply": "2025-07-30T21:37:23.326592Z"
    },
    "papermill": {
     "duration": 0.029877,
     "end_time": "2025-07-30T21:37:23.329050",
     "exception": false,
     "start_time": "2025-07-30T21:37:23.299173",
     "status": "completed"
    },
    "tags": []
   },
   "outputs": [],
   "source": [
    "if mode == \"keep-all\":\n",
    "    keep_mask = pd.Series(True, index=org_train.index)\n",
    "\n",
    "# org_train contains the original feature columns from features_org (in Simson)\n",
    "# features_org contains unprocessed features, for me X_train at beginning ???\n",
    "# For keep-all, creates a boolean Series (keep_mask) of all True, so no rows are removed.\n",
    "\n",
    "elif mode == \"drop-non-german\":\n",
    "    keep_mask = org_train[\"maxdeutsch1\"] == 1 # ??? what about missing values?\n",
    "\n",
    "else:\n",
    "    raise ValueError(f\"Unsupported mode for exclude_subgroups: {mode}\")\n"
   ]
  },
  {
   "cell_type": "code",
   "execution_count": 38,
   "id": "71651440",
   "metadata": {
    "execution": {
     "iopub.execute_input": "2025-07-30T21:37:23.372563Z",
     "iopub.status.busy": "2025-07-30T21:37:23.371944Z",
     "iopub.status.idle": "2025-07-30T21:37:23.378064Z",
     "shell.execute_reply": "2025-07-30T21:37:23.377221Z"
    },
    "papermill": {
     "duration": 0.029307,
     "end_time": "2025-07-30T21:37:23.379723",
     "exception": false,
     "start_time": "2025-07-30T21:37:23.350416",
     "status": "completed"
    },
    "tags": []
   },
   "outputs": [],
   "source": [
    "n_drop = (~keep_mask).sum() # Calculates how many rows are set to be dropped\n",
    "if n_drop > 0:\n",
    "    pct = n_drop / len(keep_mask) * 100\n",
    "    print(f\"Dropping {n_drop} rows ({pct:.2f}%) where mode='{mode}'\")"
   ]
  },
  {
   "cell_type": "code",
   "execution_count": 39,
   "id": "5fb8eee5",
   "metadata": {
    "execution": {
     "iopub.execute_input": "2025-07-30T21:37:23.426858Z",
     "iopub.status.busy": "2025-07-30T21:37:23.426197Z",
     "iopub.status.idle": "2025-07-30T21:37:23.432274Z",
     "shell.execute_reply": "2025-07-30T21:37:23.431459Z"
    },
    "papermill": {
     "duration": 0.030717,
     "end_time": "2025-07-30T21:37:23.433717",
     "exception": false,
     "start_time": "2025-07-30T21:37:23.403000",
     "status": "completed"
    },
    "tags": []
   },
   "outputs": [],
   "source": [
    "X_train = X_train[keep_mask]"
   ]
  },
  {
   "cell_type": "code",
   "execution_count": 40,
   "id": "b202bb3a",
   "metadata": {
    "execution": {
     "iopub.execute_input": "2025-07-30T21:37:23.478910Z",
     "iopub.status.busy": "2025-07-30T21:37:23.478292Z",
     "iopub.status.idle": "2025-07-30T21:37:23.484179Z",
     "shell.execute_reply": "2025-07-30T21:37:23.483336Z"
    },
    "papermill": {
     "duration": 0.030346,
     "end_time": "2025-07-30T21:37:23.485637",
     "exception": false,
     "start_time": "2025-07-30T21:37:23.455291",
     "status": "completed"
    },
    "tags": []
   },
   "outputs": [],
   "source": [
    "y_train = y_train[keep_mask]"
   ]
  },
  {
   "cell_type": "markdown",
   "id": "493e2ac3",
   "metadata": {
    "papermill": {
     "duration": 0.023366,
     "end_time": "2025-07-30T21:37:23.531461",
     "exception": false,
     "start_time": "2025-07-30T21:37:23.508095",
     "status": "completed"
    },
    "tags": []
   },
   "source": [
    "# Model Training"
   ]
  },
  {
   "cell_type": "code",
   "execution_count": 41,
   "id": "679e1268",
   "metadata": {
    "execution": {
     "iopub.execute_input": "2025-07-30T21:37:23.575190Z",
     "iopub.status.busy": "2025-07-30T21:37:23.574514Z",
     "iopub.status.idle": "2025-07-30T21:37:23.679148Z",
     "shell.execute_reply": "2025-07-30T21:37:23.678203Z"
    },
    "papermill": {
     "duration": 0.128914,
     "end_time": "2025-07-30T21:37:23.681353",
     "exception": false,
     "start_time": "2025-07-30T21:37:23.552439",
     "status": "completed"
    },
    "tags": []
   },
   "outputs": [],
   "source": [
    "from sklearn.linear_model import LogisticRegression\n",
    "from sklearn.ensemble import GradientBoostingClassifier, RandomForestClassifier\n",
    "\n",
    "if (universe[\"model\"] == \"logreg\"):\n",
    "    model = LogisticRegression() #penalty=\"none\") #, solver=\"newton-cg\", max_iter=1) # include random_state=19 ?\n",
    "elif (universe[\"model\"] == \"penalized_logreg\"):\n",
    "    model = LogisticRegression(penalty=\"l2\", C=1.0) #, solver=\"newton-cg\", max_iter=1)\n",
    "elif (universe[\"model\"] == \"rf\"):\n",
    "    model = RandomForestClassifier(n_estimators=100, n_jobs=-1)\n",
    "elif (universe[\"model\"] == \"gbm\"):\n",
    "    model = GradientBoostingClassifier()\n",
    "elif (universe[\"model\"] == \"elasticnet\"):\n",
    "    model = LogisticRegression(penalty = 'elasticnet', solver = 'saga', l1_ratio = 0.5, max_iter=5000) # which solver to use?\n",
    "else:\n",
    "    raise \"Unsupported universe.model\""
   ]
  },
  {
   "cell_type": "code",
   "execution_count": 42,
   "id": "0cc8f744",
   "metadata": {
    "execution": {
     "iopub.execute_input": "2025-07-30T21:37:23.728846Z",
     "iopub.status.busy": "2025-07-30T21:37:23.728163Z",
     "iopub.status.idle": "2025-07-30T21:37:23.735287Z",
     "shell.execute_reply": "2025-07-30T21:37:23.733714Z"
    },
    "papermill": {
     "duration": 0.03307,
     "end_time": "2025-07-30T21:37:23.737369",
     "exception": false,
     "start_time": "2025-07-30T21:37:23.704299",
     "status": "completed"
    },
    "tags": []
   },
   "outputs": [],
   "source": [
    "import numpy as np\n",
    "from sklearn.pipeline import Pipeline\n",
    "from sklearn.preprocessing import StandardScaler\n",
    "\n",
    "model = Pipeline([\n",
    "    #(\"continuous_processor\", continuous_processor),\n",
    "    #(\"categorical_preprocessor\", categorical_preprocessor),\n",
    "    (\"scale\", StandardScaler() if universe[\"scale\"] == \"scale\" else None), \n",
    "    (\"model\", model),\n",
    "])"
   ]
  },
  {
   "cell_type": "code",
   "execution_count": 43,
   "id": "9442c04d",
   "metadata": {
    "execution": {
     "iopub.execute_input": "2025-07-30T21:37:23.787135Z",
     "iopub.status.busy": "2025-07-30T21:37:23.786485Z",
     "iopub.status.idle": "2025-07-30T21:37:28.654547Z",
     "shell.execute_reply": "2025-07-30T21:37:28.653697Z"
    },
    "papermill": {
     "duration": 4.893824,
     "end_time": "2025-07-30T21:37:28.656171",
     "exception": false,
     "start_time": "2025-07-30T21:37:23.762347",
     "status": "completed"
    },
    "tags": []
   },
   "outputs": [
    {
     "data": {
      "text/html": [
       "<style>#sk-container-id-1 {color: black;background-color: white;}#sk-container-id-1 pre{padding: 0;}#sk-container-id-1 div.sk-toggleable {background-color: white;}#sk-container-id-1 label.sk-toggleable__label {cursor: pointer;display: block;width: 100%;margin-bottom: 0;padding: 0.3em;box-sizing: border-box;text-align: center;}#sk-container-id-1 label.sk-toggleable__label-arrow:before {content: \"▸\";float: left;margin-right: 0.25em;color: #696969;}#sk-container-id-1 label.sk-toggleable__label-arrow:hover:before {color: black;}#sk-container-id-1 div.sk-estimator:hover label.sk-toggleable__label-arrow:before {color: black;}#sk-container-id-1 div.sk-toggleable__content {max-height: 0;max-width: 0;overflow: hidden;text-align: left;background-color: #f0f8ff;}#sk-container-id-1 div.sk-toggleable__content pre {margin: 0.2em;color: black;border-radius: 0.25em;background-color: #f0f8ff;}#sk-container-id-1 input.sk-toggleable__control:checked~div.sk-toggleable__content {max-height: 200px;max-width: 100%;overflow: auto;}#sk-container-id-1 input.sk-toggleable__control:checked~label.sk-toggleable__label-arrow:before {content: \"▾\";}#sk-container-id-1 div.sk-estimator input.sk-toggleable__control:checked~label.sk-toggleable__label {background-color: #d4ebff;}#sk-container-id-1 div.sk-label input.sk-toggleable__control:checked~label.sk-toggleable__label {background-color: #d4ebff;}#sk-container-id-1 input.sk-hidden--visually {border: 0;clip: rect(1px 1px 1px 1px);clip: rect(1px, 1px, 1px, 1px);height: 1px;margin: -1px;overflow: hidden;padding: 0;position: absolute;width: 1px;}#sk-container-id-1 div.sk-estimator {font-family: monospace;background-color: #f0f8ff;border: 1px dotted black;border-radius: 0.25em;box-sizing: border-box;margin-bottom: 0.5em;}#sk-container-id-1 div.sk-estimator:hover {background-color: #d4ebff;}#sk-container-id-1 div.sk-parallel-item::after {content: \"\";width: 100%;border-bottom: 1px solid gray;flex-grow: 1;}#sk-container-id-1 div.sk-label:hover label.sk-toggleable__label {background-color: #d4ebff;}#sk-container-id-1 div.sk-serial::before {content: \"\";position: absolute;border-left: 1px solid gray;box-sizing: border-box;top: 0;bottom: 0;left: 50%;z-index: 0;}#sk-container-id-1 div.sk-serial {display: flex;flex-direction: column;align-items: center;background-color: white;padding-right: 0.2em;padding-left: 0.2em;position: relative;}#sk-container-id-1 div.sk-item {position: relative;z-index: 1;}#sk-container-id-1 div.sk-parallel {display: flex;align-items: stretch;justify-content: center;background-color: white;position: relative;}#sk-container-id-1 div.sk-item::before, #sk-container-id-1 div.sk-parallel-item::before {content: \"\";position: absolute;border-left: 1px solid gray;box-sizing: border-box;top: 0;bottom: 0;left: 50%;z-index: -1;}#sk-container-id-1 div.sk-parallel-item {display: flex;flex-direction: column;z-index: 1;position: relative;background-color: white;}#sk-container-id-1 div.sk-parallel-item:first-child::after {align-self: flex-end;width: 50%;}#sk-container-id-1 div.sk-parallel-item:last-child::after {align-self: flex-start;width: 50%;}#sk-container-id-1 div.sk-parallel-item:only-child::after {width: 0;}#sk-container-id-1 div.sk-dashed-wrapped {border: 1px dashed gray;margin: 0 0.4em 0.5em 0.4em;box-sizing: border-box;padding-bottom: 0.4em;background-color: white;}#sk-container-id-1 div.sk-label label {font-family: monospace;font-weight: bold;display: inline-block;line-height: 1.2em;}#sk-container-id-1 div.sk-label-container {text-align: center;}#sk-container-id-1 div.sk-container {/* jupyter's `normalize.less` sets `[hidden] { display: none; }` but bootstrap.min.css set `[hidden] { display: none !important; }` so we also need the `!important` here to be able to override the default hidden behavior on the sphinx rendered scikit-learn.org. See: https://github.com/scikit-learn/scikit-learn/issues/21755 */display: inline-block !important;position: relative;}#sk-container-id-1 div.sk-text-repr-fallback {display: none;}</style><div id=\"sk-container-id-1\" class=\"sk-top-container\"><div class=\"sk-text-repr-fallback\"><pre>Pipeline(steps=[(&#x27;scale&#x27;, StandardScaler()),\n",
       "                (&#x27;model&#x27;,\n",
       "                 LogisticRegression(l1_ratio=0.5, max_iter=5000,\n",
       "                                    penalty=&#x27;elasticnet&#x27;, solver=&#x27;saga&#x27;))])</pre><b>In a Jupyter environment, please rerun this cell to show the HTML representation or trust the notebook. <br />On GitHub, the HTML representation is unable to render, please try loading this page with nbviewer.org.</b></div><div class=\"sk-container\" hidden><div class=\"sk-item sk-dashed-wrapped\"><div class=\"sk-label-container\"><div class=\"sk-label sk-toggleable\"><input class=\"sk-toggleable__control sk-hidden--visually\" id=\"sk-estimator-id-1\" type=\"checkbox\" ><label for=\"sk-estimator-id-1\" class=\"sk-toggleable__label sk-toggleable__label-arrow\">Pipeline</label><div class=\"sk-toggleable__content\"><pre>Pipeline(steps=[(&#x27;scale&#x27;, StandardScaler()),\n",
       "                (&#x27;model&#x27;,\n",
       "                 LogisticRegression(l1_ratio=0.5, max_iter=5000,\n",
       "                                    penalty=&#x27;elasticnet&#x27;, solver=&#x27;saga&#x27;))])</pre></div></div></div><div class=\"sk-serial\"><div class=\"sk-item\"><div class=\"sk-estimator sk-toggleable\"><input class=\"sk-toggleable__control sk-hidden--visually\" id=\"sk-estimator-id-2\" type=\"checkbox\" ><label for=\"sk-estimator-id-2\" class=\"sk-toggleable__label sk-toggleable__label-arrow\">StandardScaler</label><div class=\"sk-toggleable__content\"><pre>StandardScaler()</pre></div></div></div><div class=\"sk-item\"><div class=\"sk-estimator sk-toggleable\"><input class=\"sk-toggleable__control sk-hidden--visually\" id=\"sk-estimator-id-3\" type=\"checkbox\" ><label for=\"sk-estimator-id-3\" class=\"sk-toggleable__label sk-toggleable__label-arrow\">LogisticRegression</label><div class=\"sk-toggleable__content\"><pre>LogisticRegression(l1_ratio=0.5, max_iter=5000, penalty=&#x27;elasticnet&#x27;,\n",
       "                   solver=&#x27;saga&#x27;)</pre></div></div></div></div></div></div></div>"
      ],
      "text/plain": [
       "Pipeline(steps=[('scale', StandardScaler()),\n",
       "                ('model',\n",
       "                 LogisticRegression(l1_ratio=0.5, max_iter=5000,\n",
       "                                    penalty='elasticnet', solver='saga'))])"
      ]
     },
     "execution_count": 43,
     "metadata": {},
     "output_type": "execute_result"
    }
   ],
   "source": [
    "model.fit(X_train, y_train.values.ravel())"
   ]
  },
  {
   "cell_type": "code",
   "execution_count": 44,
   "id": "af59f8c0",
   "metadata": {
    "execution": {
     "iopub.execute_input": "2025-07-30T21:37:28.703666Z",
     "iopub.status.busy": "2025-07-30T21:37:28.703227Z",
     "iopub.status.idle": "2025-07-30T21:37:28.708523Z",
     "shell.execute_reply": "2025-07-30T21:37:28.707541Z"
    },
    "papermill": {
     "duration": 0.029689,
     "end_time": "2025-07-30T21:37:28.710148",
     "exception": false,
     "start_time": "2025-07-30T21:37:28.680459",
     "status": "completed"
    },
    "tags": []
   },
   "outputs": [],
   "source": [
    "from fairness_multiverse.universe import predict_w_threshold"
   ]
  },
  {
   "cell_type": "code",
   "execution_count": 45,
   "id": "a7cf2e16",
   "metadata": {
    "execution": {
     "iopub.execute_input": "2025-07-30T21:37:28.755965Z",
     "iopub.status.busy": "2025-07-30T21:37:28.755281Z",
     "iopub.status.idle": "2025-07-30T21:37:28.954599Z",
     "shell.execute_reply": "2025-07-30T21:37:28.953740Z"
    },
    "papermill": {
     "duration": 0.223658,
     "end_time": "2025-07-30T21:37:28.956174",
     "exception": false,
     "start_time": "2025-07-30T21:37:28.732516",
     "status": "completed"
    },
    "tags": []
   },
   "outputs": [
    {
     "data": {
      "text/plain": [
       "0.8244454352914948"
      ]
     },
     "execution_count": 45,
     "metadata": {},
     "output_type": "execute_result"
    }
   ],
   "source": [
    "probs_test = model.predict_proba(X_test)\n",
    "\n",
    "'''\n",
    "Below code returns a boolean array (or binary 0/1 array depending on how it’s used) where each element \n",
    "is True if the probability of class 1 is greater than or equal to the threshold, and False otherwise.\n",
    "'''\n",
    "y_pred_default = predict_w_threshold(probs_test, 0.5)\n",
    "\n",
    "from sklearn.metrics import accuracy_score\n",
    "\n",
    "# Naive prediction\n",
    "accuracy_score(y_true = y_true, y_pred = y_pred_default)"
   ]
  },
  {
   "cell_type": "code",
   "execution_count": 46,
   "id": "081964c3",
   "metadata": {
    "execution": {
     "iopub.execute_input": "2025-07-30T21:37:29.002258Z",
     "iopub.status.busy": "2025-07-30T21:37:29.001876Z",
     "iopub.status.idle": "2025-07-30T21:37:29.189227Z",
     "shell.execute_reply": "2025-07-30T21:37:29.188258Z"
    },
    "papermill": {
     "duration": 0.212457,
     "end_time": "2025-07-30T21:37:29.190805",
     "exception": false,
     "start_time": "2025-07-30T21:37:28.978348",
     "status": "completed"
    },
    "tags": []
   },
   "outputs": [
    {
     "data": {
      "text/plain": [
       "array([0, 0, 0, ..., 0, 0, 0])"
      ]
     },
     "execution_count": 46,
     "metadata": {},
     "output_type": "execute_result"
    }
   ],
   "source": [
    "model.predict(X_test)"
   ]
  },
  {
   "cell_type": "markdown",
   "id": "56c9705b",
   "metadata": {
    "papermill": {
     "duration": 0.022466,
     "end_time": "2025-07-30T21:37:29.236302",
     "exception": false,
     "start_time": "2025-07-30T21:37:29.213836",
     "status": "completed"
    },
    "tags": []
   },
   "source": [
    "# Conformal Prediction"
   ]
  },
  {
   "cell_type": "code",
   "execution_count": 47,
   "id": "160ec6ff",
   "metadata": {
    "execution": {
     "iopub.execute_input": "2025-07-30T21:37:29.283676Z",
     "iopub.status.busy": "2025-07-30T21:37:29.283178Z",
     "iopub.status.idle": "2025-07-30T21:37:29.288489Z",
     "shell.execute_reply": "2025-07-30T21:37:29.287538Z"
    },
    "papermill": {
     "duration": 0.030178,
     "end_time": "2025-07-30T21:37:29.290030",
     "exception": false,
     "start_time": "2025-07-30T21:37:29.259852",
     "status": "completed"
    },
    "tags": []
   },
   "outputs": [],
   "source": [
    "# Miscoverage level for conformal prediction (10% allowed error rate => 90% target coverage)\n",
    "alpha = 0.1"
   ]
  },
  {
   "cell_type": "code",
   "execution_count": 48,
   "id": "eadf4555-3dd3-440e-8e35-f82a4ad9f855",
   "metadata": {
    "execution": {
     "iopub.execute_input": "2025-07-30T21:37:29.338093Z",
     "iopub.status.busy": "2025-07-30T21:37:29.337275Z",
     "iopub.status.idle": "2025-07-30T21:37:29.525363Z",
     "shell.execute_reply": "2025-07-30T21:37:29.524313Z"
    },
    "papermill": {
     "duration": 0.213923,
     "end_time": "2025-07-30T21:37:29.527337",
     "exception": false,
     "start_time": "2025-07-30T21:37:29.313414",
     "status": "completed"
    },
    "tags": []
   },
   "outputs": [],
   "source": [
    "probs_calib = model.predict_proba(X_calib)"
   ]
  },
  {
   "cell_type": "code",
   "execution_count": 49,
   "id": "2ed93547-6d5d-4983-9b36-1ecb300da49a",
   "metadata": {
    "execution": {
     "iopub.execute_input": "2025-07-30T21:37:29.593639Z",
     "iopub.status.busy": "2025-07-30T21:37:29.592961Z",
     "iopub.status.idle": "2025-07-30T21:37:29.599572Z",
     "shell.execute_reply": "2025-07-30T21:37:29.598552Z"
    },
    "papermill": {
     "duration": 0.044213,
     "end_time": "2025-07-30T21:37:29.601483",
     "exception": false,
     "start_time": "2025-07-30T21:37:29.557270",
     "status": "completed"
    },
    "tags": []
   },
   "outputs": [],
   "source": [
    "y_calib = y_calib.values.ravel().astype(int)"
   ]
  },
  {
   "cell_type": "code",
   "execution_count": 50,
   "id": "65d1320d-f588-4b38-9072-62af1ae97f7d",
   "metadata": {
    "execution": {
     "iopub.execute_input": "2025-07-30T21:37:29.650180Z",
     "iopub.status.busy": "2025-07-30T21:37:29.649619Z",
     "iopub.status.idle": "2025-07-30T21:37:29.657266Z",
     "shell.execute_reply": "2025-07-30T21:37:29.656406Z"
    },
    "papermill": {
     "duration": 0.033164,
     "end_time": "2025-07-30T21:37:29.658828",
     "exception": false,
     "start_time": "2025-07-30T21:37:29.625664",
     "status": "completed"
    },
    "tags": []
   },
   "outputs": [],
   "source": [
    "from fairness_multiverse.conformal import compute_nc_scores\n",
    "\n",
    "# Compute nonconformity scores on calibration set (1 - probability of true class)\n",
    "nc_scores = compute_nc_scores(probs_calib, y_calib)"
   ]
  },
  {
   "cell_type": "code",
   "execution_count": 51,
   "id": "df3b8ca3-53b7-43d5-9667-7c85da7aeda2",
   "metadata": {
    "execution": {
     "iopub.execute_input": "2025-07-30T21:37:29.706805Z",
     "iopub.status.busy": "2025-07-30T21:37:29.706292Z",
     "iopub.status.idle": "2025-07-30T21:37:29.713260Z",
     "shell.execute_reply": "2025-07-30T21:37:29.712173Z"
    },
    "papermill": {
     "duration": 0.032777,
     "end_time": "2025-07-30T21:37:29.715072",
     "exception": false,
     "start_time": "2025-07-30T21:37:29.682295",
     "status": "completed"
    },
    "tags": []
   },
   "outputs": [],
   "source": [
    "from fairness_multiverse.conformal import find_threshold\n",
    "\n",
    "# Find conformal threshold q_hat for the given alpha (split conformal method)\n",
    "q_hat = find_threshold(nc_scores, alpha)"
   ]
  },
  {
   "cell_type": "code",
   "execution_count": 52,
   "id": "4d29e6c1-0ef6-4aa4-b8fe-4fe79b0d033a",
   "metadata": {
    "execution": {
     "iopub.execute_input": "2025-07-30T21:37:29.763506Z",
     "iopub.status.busy": "2025-07-30T21:37:29.762999Z",
     "iopub.status.idle": "2025-07-30T21:37:29.770316Z",
     "shell.execute_reply": "2025-07-30T21:37:29.769360Z"
    },
    "papermill": {
     "duration": 0.032862,
     "end_time": "2025-07-30T21:37:29.771860",
     "exception": false,
     "start_time": "2025-07-30T21:37:29.738998",
     "status": "completed"
    },
    "tags": []
   },
   "outputs": [
    {
     "data": {
      "text/plain": [
       "0.7951134070188505"
      ]
     },
     "execution_count": 52,
     "metadata": {},
     "output_type": "execute_result"
    }
   ],
   "source": [
    "q_hat"
   ]
  },
  {
   "cell_type": "code",
   "execution_count": 53,
   "id": "92460794-cdac-4be2-ba28-f28c0515a6fb",
   "metadata": {
    "execution": {
     "iopub.execute_input": "2025-07-30T21:37:29.822135Z",
     "iopub.status.busy": "2025-07-30T21:37:29.821786Z",
     "iopub.status.idle": "2025-07-30T21:37:30.476528Z",
     "shell.execute_reply": "2025-07-30T21:37:30.475563Z"
    },
    "papermill": {
     "duration": 0.682308,
     "end_time": "2025-07-30T21:37:30.478396",
     "exception": false,
     "start_time": "2025-07-30T21:37:29.796088",
     "status": "completed"
    },
    "tags": []
   },
   "outputs": [],
   "source": [
    "from fairness_multiverse.conformal import predict_conformal_sets\n",
    "\n",
    "# Generate prediction sets for each test example\n",
    "pred_sets = predict_conformal_sets(model, X_test, q_hat)"
   ]
  },
  {
   "cell_type": "code",
   "execution_count": 54,
   "id": "d90c9a65-e6db-4f5d-80cd-e68fb7e46829",
   "metadata": {
    "execution": {
     "iopub.execute_input": "2025-07-30T21:37:30.526947Z",
     "iopub.status.busy": "2025-07-30T21:37:30.526114Z",
     "iopub.status.idle": "2025-07-30T21:37:30.531859Z",
     "shell.execute_reply": "2025-07-30T21:37:30.531042Z"
    },
    "papermill": {
     "duration": 0.030956,
     "end_time": "2025-07-30T21:37:30.533393",
     "exception": false,
     "start_time": "2025-07-30T21:37:30.502437",
     "status": "completed"
    },
    "tags": []
   },
   "outputs": [],
   "source": [
    "y_true = y_true.squeeze()"
   ]
  },
  {
   "cell_type": "code",
   "execution_count": 55,
   "id": "3a58a54a-1e68-46b9-927a-df01f18aebc8",
   "metadata": {
    "execution": {
     "iopub.execute_input": "2025-07-30T21:37:30.581551Z",
     "iopub.status.busy": "2025-07-30T21:37:30.581065Z",
     "iopub.status.idle": "2025-07-30T21:37:31.081660Z",
     "shell.execute_reply": "2025-07-30T21:37:31.080886Z"
    },
    "papermill": {
     "duration": 0.526025,
     "end_time": "2025-07-30T21:37:31.083525",
     "exception": false,
     "start_time": "2025-07-30T21:37:30.557500",
     "status": "completed"
    },
    "tags": []
   },
   "outputs": [],
   "source": [
    "from fairness_multiverse.conformal import evaluate_sets\n",
    "\n",
    "# Evaluate coverage and average set size on test data\n",
    "metrics = evaluate_sets(pred_sets, y_true)"
   ]
  },
  {
   "cell_type": "markdown",
   "id": "2b569c12-9aaa-4c88-98c9-bbcd0cf3ebb8",
   "metadata": {
    "papermill": {
     "duration": 0.023489,
     "end_time": "2025-07-30T21:37:31.131174",
     "exception": false,
     "start_time": "2025-07-30T21:37:31.107685",
     "status": "completed"
    },
    "tags": []
   },
   "source": [
    "# CP Metrics"
   ]
  },
  {
   "cell_type": "code",
   "execution_count": 56,
   "id": "5ce0a5cb-201f-45a0-ade5-94c7f0bd6095",
   "metadata": {
    "execution": {
     "iopub.execute_input": "2025-07-30T21:37:31.181596Z",
     "iopub.status.busy": "2025-07-30T21:37:31.180591Z",
     "iopub.status.idle": "2025-07-30T21:37:31.188357Z",
     "shell.execute_reply": "2025-07-30T21:37:31.187298Z"
    },
    "papermill": {
     "duration": 0.034791,
     "end_time": "2025-07-30T21:37:31.190036",
     "exception": false,
     "start_time": "2025-07-30T21:37:31.155245",
     "status": "completed"
    },
    "tags": []
   },
   "outputs": [
    {
     "data": {
      "text/plain": [
       "{'coverage': 0.9091628580983168, 'avg_size': 1.2373091071229518}"
      ]
     },
     "execution_count": 56,
     "metadata": {},
     "output_type": "execute_result"
    }
   ],
   "source": [
    "metrics"
   ]
  },
  {
   "cell_type": "code",
   "execution_count": 57,
   "id": "9b9a838d-31c9-430b-ae14-12baee460d17",
   "metadata": {
    "execution": {
     "iopub.execute_input": "2025-07-30T21:37:31.240883Z",
     "iopub.status.busy": "2025-07-30T21:37:31.240182Z",
     "iopub.status.idle": "2025-07-30T21:37:31.247454Z",
     "shell.execute_reply": "2025-07-30T21:37:31.246422Z"
    },
    "papermill": {
     "duration": 0.034009,
     "end_time": "2025-07-30T21:37:31.249314",
     "exception": false,
     "start_time": "2025-07-30T21:37:31.215305",
     "status": "completed"
    },
    "tags": []
   },
   "outputs": [],
   "source": [
    "example_universe = universe.copy()\n",
    "universe_training_year = example_universe.get(\"training_year\")\n",
    "universe_training_size = example_universe.get(\"training_size\")\n",
    "universe_scale = example_universe.get(\"scale\")\n",
    "universe_model = example_universe.get(\"model\")\n",
    "universe_exclude_features = example_universe.get(\"exclude_features\")\n",
    "universe_exclude_subgroups = example_universe.get(\"exclude_subgroups\")"
   ]
  },
  {
   "cell_type": "code",
   "execution_count": 58,
   "id": "f4b6a8ac-9dc0-4245-8a91-5b3b5999c4f9",
   "metadata": {
    "execution": {
     "iopub.execute_input": "2025-07-30T21:37:31.304680Z",
     "iopub.status.busy": "2025-07-30T21:37:31.303983Z",
     "iopub.status.idle": "2025-07-30T21:37:31.311263Z",
     "shell.execute_reply": "2025-07-30T21:37:31.310101Z"
    },
    "papermill": {
     "duration": 0.036505,
     "end_time": "2025-07-30T21:37:31.313078",
     "exception": false,
     "start_time": "2025-07-30T21:37:31.276573",
     "status": "completed"
    },
    "tags": []
   },
   "outputs": [],
   "source": [
    "cp_metrics_dict = {\n",
    "    \"universe_id\": [universe_id],\n",
    "    \"universe_training_year\": [universe_training_year],\n",
    "    \"universe_training_size\": [universe_training_size],\n",
    "    \"universe_scale\": [universe_scale],\n",
    "    \"universe_model\": [universe_model],\n",
    "    \"universe_exclude_features\": [universe_exclude_features],\n",
    "    \"universe_exclude_subgroups\": [universe_exclude_subgroups],\n",
    "    \"q_hat\": [q_hat],\n",
    "    \"coverage\": [metrics[\"coverage\"]],\n",
    "    \"avg_size\": [metrics[\"avg_size\"]],\n",
    "}"
   ]
  },
  {
   "cell_type": "code",
   "execution_count": 59,
   "id": "908acbb1-0371-4915-85ca-3fa520d2efe2",
   "metadata": {
    "execution": {
     "iopub.execute_input": "2025-07-30T21:37:31.374007Z",
     "iopub.status.busy": "2025-07-30T21:37:31.373482Z",
     "iopub.status.idle": "2025-07-30T21:37:31.380064Z",
     "shell.execute_reply": "2025-07-30T21:37:31.379389Z"
    },
    "papermill": {
     "duration": 0.039019,
     "end_time": "2025-07-30T21:37:31.381420",
     "exception": false,
     "start_time": "2025-07-30T21:37:31.342401",
     "status": "completed"
    },
    "tags": []
   },
   "outputs": [
    {
     "data": {
      "text/plain": [
       "{'universe_id': ['4bdc8a1a1be00509c77f8efe6787a39f'],\n",
       " 'universe_training_year': ['2012_14'],\n",
       " 'universe_training_size': ['1k'],\n",
       " 'universe_scale': ['scale'],\n",
       " 'universe_model': ['elasticnet'],\n",
       " 'universe_exclude_features': ['nationality'],\n",
       " 'universe_exclude_subgroups': ['keep-all'],\n",
       " 'q_hat': [0.7951134070188505],\n",
       " 'coverage': [0.9091628580983168],\n",
       " 'avg_size': [1.2373091071229518]}"
      ]
     },
     "execution_count": 59,
     "metadata": {},
     "output_type": "execute_result"
    }
   ],
   "source": [
    "cp_metrics_dict"
   ]
  },
  {
   "cell_type": "code",
   "execution_count": 60,
   "id": "33007efc-14e9-4ec6-97ac-56a455c82265",
   "metadata": {
    "execution": {
     "iopub.execute_input": "2025-07-30T21:37:31.411978Z",
     "iopub.status.busy": "2025-07-30T21:37:31.411453Z",
     "iopub.status.idle": "2025-07-30T21:37:31.417208Z",
     "shell.execute_reply": "2025-07-30T21:37:31.416454Z"
    },
    "papermill": {
     "duration": 0.022576,
     "end_time": "2025-07-30T21:37:31.418668",
     "exception": false,
     "start_time": "2025-07-30T21:37:31.396092",
     "status": "completed"
    },
    "tags": []
   },
   "outputs": [],
   "source": [
    "cp_metrics_df = pd.DataFrame(cp_metrics_dict)"
   ]
  },
  {
   "cell_type": "code",
   "execution_count": 61,
   "id": "db12611b-57b2-4910-b9d0-355adfd6e7bf",
   "metadata": {
    "execution": {
     "iopub.execute_input": "2025-07-30T21:37:31.448158Z",
     "iopub.status.busy": "2025-07-30T21:37:31.447732Z",
     "iopub.status.idle": "2025-07-30T21:37:31.466364Z",
     "shell.execute_reply": "2025-07-30T21:37:31.465687Z"
    },
    "papermill": {
     "duration": 0.034264,
     "end_time": "2025-07-30T21:37:31.467544",
     "exception": false,
     "start_time": "2025-07-30T21:37:31.433280",
     "status": "completed"
    },
    "tags": []
   },
   "outputs": [
    {
     "data": {
      "text/html": [
       "<div>\n",
       "<style scoped>\n",
       "    .dataframe tbody tr th:only-of-type {\n",
       "        vertical-align: middle;\n",
       "    }\n",
       "\n",
       "    .dataframe tbody tr th {\n",
       "        vertical-align: top;\n",
       "    }\n",
       "\n",
       "    .dataframe thead th {\n",
       "        text-align: right;\n",
       "    }\n",
       "</style>\n",
       "<table border=\"1\" class=\"dataframe\">\n",
       "  <thead>\n",
       "    <tr style=\"text-align: right;\">\n",
       "      <th></th>\n",
       "      <th>universe_id</th>\n",
       "      <th>universe_training_year</th>\n",
       "      <th>universe_training_size</th>\n",
       "      <th>universe_scale</th>\n",
       "      <th>universe_model</th>\n",
       "      <th>universe_exclude_features</th>\n",
       "      <th>universe_exclude_subgroups</th>\n",
       "      <th>q_hat</th>\n",
       "      <th>coverage</th>\n",
       "      <th>avg_size</th>\n",
       "    </tr>\n",
       "  </thead>\n",
       "  <tbody>\n",
       "    <tr>\n",
       "      <th>0</th>\n",
       "      <td>4bdc8a1a1be00509c77f8efe6787a39f</td>\n",
       "      <td>2012_14</td>\n",
       "      <td>1k</td>\n",
       "      <td>scale</td>\n",
       "      <td>elasticnet</td>\n",
       "      <td>nationality</td>\n",
       "      <td>keep-all</td>\n",
       "      <td>0.795113</td>\n",
       "      <td>0.909163</td>\n",
       "      <td>1.237309</td>\n",
       "    </tr>\n",
       "  </tbody>\n",
       "</table>\n",
       "</div>"
      ],
      "text/plain": [
       "                        universe_id universe_training_year  \\\n",
       "0  4bdc8a1a1be00509c77f8efe6787a39f                2012_14   \n",
       "\n",
       "  universe_training_size universe_scale universe_model  \\\n",
       "0                     1k          scale     elasticnet   \n",
       "\n",
       "  universe_exclude_features universe_exclude_subgroups     q_hat  coverage  \\\n",
       "0               nationality                   keep-all  0.795113  0.909163   \n",
       "\n",
       "   avg_size  \n",
       "0  1.237309  "
      ]
     },
     "execution_count": 61,
     "metadata": {},
     "output_type": "execute_result"
    }
   ],
   "source": [
    "cp_metrics_df"
   ]
  },
  {
   "cell_type": "code",
   "execution_count": 62,
   "id": "b7fbde55-a0a1-47e4-9af6-fe4a17fa8c61",
   "metadata": {
    "execution": {
     "iopub.execute_input": "2025-07-30T21:37:31.496228Z",
     "iopub.status.busy": "2025-07-30T21:37:31.495724Z",
     "iopub.status.idle": "2025-07-30T21:37:31.500405Z",
     "shell.execute_reply": "2025-07-30T21:37:31.499562Z"
    },
    "papermill": {
     "duration": 0.020735,
     "end_time": "2025-07-30T21:37:31.502017",
     "exception": false,
     "start_time": "2025-07-30T21:37:31.481282",
     "status": "completed"
    },
    "tags": []
   },
   "outputs": [],
   "source": [
    "# Conditional Coverage & looking at subgroups"
   ]
  },
  {
   "cell_type": "code",
   "execution_count": 63,
   "id": "027ae886-68dd-4141-96c7-805a5450e1ef",
   "metadata": {
    "execution": {
     "iopub.execute_input": "2025-07-30T21:37:31.552397Z",
     "iopub.status.busy": "2025-07-30T21:37:31.551601Z",
     "iopub.status.idle": "2025-07-30T21:37:31.828927Z",
     "shell.execute_reply": "2025-07-30T21:37:31.827964Z"
    },
    "papermill": {
     "duration": 0.304779,
     "end_time": "2025-07-30T21:37:31.830832",
     "exception": false,
     "start_time": "2025-07-30T21:37:31.526053",
     "status": "completed"
    },
    "tags": []
   },
   "outputs": [],
   "source": [
    "from fairness_multiverse.conformal import build_cp_groups\n",
    "\n",
    "cp_groups_df = build_cp_groups(pred_sets, y_true, X_test.index, org_test)\n",
    "#needs universe_id and setting"
   ]
  },
  {
   "cell_type": "code",
   "execution_count": 64,
   "id": "01d5802c-663a-4d1f-9d69-e036faaffbf7",
   "metadata": {
    "execution": {
     "iopub.execute_input": "2025-07-30T21:37:31.884537Z",
     "iopub.status.busy": "2025-07-30T21:37:31.883477Z",
     "iopub.status.idle": "2025-07-30T21:37:31.889056Z",
     "shell.execute_reply": "2025-07-30T21:37:31.888002Z"
    },
    "papermill": {
     "duration": 0.034272,
     "end_time": "2025-07-30T21:37:31.890846",
     "exception": false,
     "start_time": "2025-07-30T21:37:31.856574",
     "status": "completed"
    },
    "tags": []
   },
   "outputs": [],
   "source": [
    "#delete\n",
    "#cp_groups_df"
   ]
  },
  {
   "cell_type": "code",
   "execution_count": 65,
   "id": "fa424af1-d1eb-443d-b717-2d279ada8408",
   "metadata": {
    "execution": {
     "iopub.execute_input": "2025-07-30T21:37:31.948038Z",
     "iopub.status.busy": "2025-07-30T21:37:31.947352Z",
     "iopub.status.idle": "2025-07-30T21:37:31.952512Z",
     "shell.execute_reply": "2025-07-30T21:37:31.951486Z"
    },
    "papermill": {
     "duration": 0.035188,
     "end_time": "2025-07-30T21:37:31.954125",
     "exception": false,
     "start_time": "2025-07-30T21:37:31.918937",
     "status": "completed"
    },
    "tags": []
   },
   "outputs": [],
   "source": [
    "#delete\n",
    "#percentage = (cp_groups_df['nongerman_female'] == 1).mean() * 100\n",
    "#print(percentage)\n"
   ]
  },
  {
   "cell_type": "code",
   "execution_count": 66,
   "id": "6cbdab96-b2b2-45af-ad54-d0516db2e28d",
   "metadata": {
    "execution": {
     "iopub.execute_input": "2025-07-30T21:37:32.010858Z",
     "iopub.status.busy": "2025-07-30T21:37:32.010185Z",
     "iopub.status.idle": "2025-07-30T21:37:33.559136Z",
     "shell.execute_reply": "2025-07-30T21:37:33.558196Z"
    },
    "papermill": {
     "duration": 1.579201,
     "end_time": "2025-07-30T21:37:33.561141",
     "exception": false,
     "start_time": "2025-07-30T21:37:31.981940",
     "status": "completed"
    },
    "tags": []
   },
   "outputs": [],
   "source": [
    "# Define covered = 1 if true_label is in the predicted set\n",
    "cp_groups_df['covered'] = cp_groups_df.apply(\n",
    "    lambda r: int(r['true_label'] in r['pred_set']),\n",
    "    axis=1\n",
    ")"
   ]
  },
  {
   "cell_type": "code",
   "execution_count": 67,
   "id": "338ff529-1a6b-4b87-a931-8e4788d52aad",
   "metadata": {
    "execution": {
     "iopub.execute_input": "2025-07-30T21:37:33.620824Z",
     "iopub.status.busy": "2025-07-30T21:37:33.620154Z",
     "iopub.status.idle": "2025-07-30T21:37:33.625574Z",
     "shell.execute_reply": "2025-07-30T21:37:33.624730Z"
    },
    "papermill": {
     "duration": 0.037196,
     "end_time": "2025-07-30T21:37:33.627073",
     "exception": false,
     "start_time": "2025-07-30T21:37:33.589877",
     "status": "completed"
    },
    "tags": []
   },
   "outputs": [],
   "source": [
    "#cp_groups_df"
   ]
  },
  {
   "cell_type": "code",
   "execution_count": 68,
   "id": "90032e27-66df-4540-9169-4e89cfbaa758",
   "metadata": {
    "execution": {
     "iopub.execute_input": "2025-07-30T21:37:33.679132Z",
     "iopub.status.busy": "2025-07-30T21:37:33.678421Z",
     "iopub.status.idle": "2025-07-30T21:37:33.690548Z",
     "shell.execute_reply": "2025-07-30T21:37:33.689644Z"
    },
    "papermill": {
     "duration": 0.040105,
     "end_time": "2025-07-30T21:37:33.692275",
     "exception": false,
     "start_time": "2025-07-30T21:37:33.652170",
     "status": "completed"
    },
    "tags": []
   },
   "outputs": [],
   "source": [
    "subgroups = ['frau1','nongerman','nongerman_male','nongerman_female']\n",
    "\n",
    "# Conditional coverage for subgroup==1\n",
    "cond_coverage = {\n",
    "    g: cp_groups_df.loc[cp_groups_df[g]==1, 'covered'].mean()\n",
    "    for g in subgroups\n",
    "}"
   ]
  },
  {
   "cell_type": "code",
   "execution_count": 69,
   "id": "1e348fb1-b9c3-45bc-ba23-f016827a7e0d",
   "metadata": {
    "execution": {
     "iopub.execute_input": "2025-07-30T21:37:33.744389Z",
     "iopub.status.busy": "2025-07-30T21:37:33.743609Z",
     "iopub.status.idle": "2025-07-30T21:37:33.751782Z",
     "shell.execute_reply": "2025-07-30T21:37:33.750828Z"
    },
    "papermill": {
     "duration": 0.035719,
     "end_time": "2025-07-30T21:37:33.753365",
     "exception": false,
     "start_time": "2025-07-30T21:37:33.717646",
     "status": "completed"
    },
    "tags": []
   },
   "outputs": [
    {
     "data": {
      "text/plain": [
       "{'frau1': 0.9019544412993665,\n",
       " 'nongerman': 0.9134340088699264,\n",
       " 'nongerman_male': 0.9315500315230117,\n",
       " 'nongerman_female': 0.8834575260804769}"
      ]
     },
     "execution_count": 69,
     "metadata": {},
     "output_type": "execute_result"
    }
   ],
   "source": [
    "cond_coverage"
   ]
  },
  {
   "cell_type": "code",
   "execution_count": 70,
   "id": "f5093324-c3dd-4d63-bc4c-8d945e5c8bbb",
   "metadata": {
    "execution": {
     "iopub.execute_input": "2025-07-30T21:37:33.803904Z",
     "iopub.status.busy": "2025-07-30T21:37:33.803551Z",
     "iopub.status.idle": "2025-07-30T21:37:33.811182Z",
     "shell.execute_reply": "2025-07-30T21:37:33.810117Z"
    },
    "papermill": {
     "duration": 0.034983,
     "end_time": "2025-07-30T21:37:33.812911",
     "exception": false,
     "start_time": "2025-07-30T21:37:33.777928",
     "status": "completed"
    },
    "tags": []
   },
   "outputs": [],
   "source": [
    "for subgroup, cov in cond_coverage.items():\n",
    "    cp_metrics_df[f\"cov_{subgroup}\"] = cov"
   ]
  },
  {
   "cell_type": "code",
   "execution_count": 71,
   "id": "6e872e10-dbe5-49e8-b554-5030c98ff75d",
   "metadata": {
    "execution": {
     "iopub.execute_input": "2025-07-30T21:37:33.868236Z",
     "iopub.status.busy": "2025-07-30T21:37:33.867730Z",
     "iopub.status.idle": "2025-07-30T21:37:33.886876Z",
     "shell.execute_reply": "2025-07-30T21:37:33.885978Z"
    },
    "papermill": {
     "duration": 0.050399,
     "end_time": "2025-07-30T21:37:33.888654",
     "exception": false,
     "start_time": "2025-07-30T21:37:33.838255",
     "status": "completed"
    },
    "tags": []
   },
   "outputs": [
    {
     "data": {
      "text/html": [
       "<div>\n",
       "<style scoped>\n",
       "    .dataframe tbody tr th:only-of-type {\n",
       "        vertical-align: middle;\n",
       "    }\n",
       "\n",
       "    .dataframe tbody tr th {\n",
       "        vertical-align: top;\n",
       "    }\n",
       "\n",
       "    .dataframe thead th {\n",
       "        text-align: right;\n",
       "    }\n",
       "</style>\n",
       "<table border=\"1\" class=\"dataframe\">\n",
       "  <thead>\n",
       "    <tr style=\"text-align: right;\">\n",
       "      <th></th>\n",
       "      <th>universe_id</th>\n",
       "      <th>universe_training_year</th>\n",
       "      <th>universe_training_size</th>\n",
       "      <th>universe_scale</th>\n",
       "      <th>universe_model</th>\n",
       "      <th>universe_exclude_features</th>\n",
       "      <th>universe_exclude_subgroups</th>\n",
       "      <th>q_hat</th>\n",
       "      <th>coverage</th>\n",
       "      <th>avg_size</th>\n",
       "      <th>cov_frau1</th>\n",
       "      <th>cov_nongerman</th>\n",
       "      <th>cov_nongerman_male</th>\n",
       "      <th>cov_nongerman_female</th>\n",
       "    </tr>\n",
       "  </thead>\n",
       "  <tbody>\n",
       "    <tr>\n",
       "      <th>0</th>\n",
       "      <td>4bdc8a1a1be00509c77f8efe6787a39f</td>\n",
       "      <td>2012_14</td>\n",
       "      <td>1k</td>\n",
       "      <td>scale</td>\n",
       "      <td>elasticnet</td>\n",
       "      <td>nationality</td>\n",
       "      <td>keep-all</td>\n",
       "      <td>0.795113</td>\n",
       "      <td>0.909163</td>\n",
       "      <td>1.237309</td>\n",
       "      <td>0.901954</td>\n",
       "      <td>0.913434</td>\n",
       "      <td>0.93155</td>\n",
       "      <td>0.883458</td>\n",
       "    </tr>\n",
       "  </tbody>\n",
       "</table>\n",
       "</div>"
      ],
      "text/plain": [
       "                        universe_id universe_training_year  \\\n",
       "0  4bdc8a1a1be00509c77f8efe6787a39f                2012_14   \n",
       "\n",
       "  universe_training_size universe_scale universe_model  \\\n",
       "0                     1k          scale     elasticnet   \n",
       "\n",
       "  universe_exclude_features universe_exclude_subgroups     q_hat  coverage  \\\n",
       "0               nationality                   keep-all  0.795113  0.909163   \n",
       "\n",
       "   avg_size  cov_frau1  cov_nongerman  cov_nongerman_male  \\\n",
       "0  1.237309   0.901954       0.913434             0.93155   \n",
       "\n",
       "   cov_nongerman_female  \n",
       "0              0.883458  "
      ]
     },
     "execution_count": 71,
     "metadata": {},
     "output_type": "execute_result"
    }
   ],
   "source": [
    "cp_metrics_df"
   ]
  },
  {
   "cell_type": "markdown",
   "id": "33774451",
   "metadata": {
    "papermill": {
     "duration": 0.031471,
     "end_time": "2025-07-30T21:37:33.953161",
     "exception": false,
     "start_time": "2025-07-30T21:37:33.921690",
     "status": "completed"
    },
    "tags": []
   },
   "source": [
    "# (Fairness) Metrics"
   ]
  },
  {
   "cell_type": "code",
   "execution_count": 72,
   "id": "debc5d62",
   "metadata": {
    "execution": {
     "iopub.execute_input": "2025-07-30T21:37:34.018561Z",
     "iopub.status.busy": "2025-07-30T21:37:34.018148Z",
     "iopub.status.idle": "2025-07-30T21:37:34.039752Z",
     "shell.execute_reply": "2025-07-30T21:37:34.038833Z"
    },
    "papermill": {
     "duration": 0.052389,
     "end_time": "2025-07-30T21:37:34.041578",
     "exception": false,
     "start_time": "2025-07-30T21:37:33.989189",
     "status": "completed"
    },
    "tags": []
   },
   "outputs": [],
   "source": [
    "# do I need to include maxdeutsch1.missing?\n",
    "\n",
    "import numpy as np\n",
    "\n",
    "colname_to_bin = \"maxdeutsch1\"\n",
    "majority_value = org_train[colname_to_bin].mode()[0]\n",
    "\n",
    "org_test[\"majmin\"] = np.where(org_test[colname_to_bin] == majority_value, \"majority\", \"minority\")"
   ]
  },
  {
   "cell_type": "code",
   "execution_count": 73,
   "id": "06a50de5",
   "metadata": {
    "execution": {
     "iopub.execute_input": "2025-07-30T21:37:34.094547Z",
     "iopub.status.busy": "2025-07-30T21:37:34.093845Z",
     "iopub.status.idle": "2025-07-30T21:37:36.522649Z",
     "shell.execute_reply": "2025-07-30T21:37:36.521553Z"
    },
    "papermill": {
     "duration": 2.45819,
     "end_time": "2025-07-30T21:37:36.525161",
     "exception": false,
     "start_time": "2025-07-30T21:37:34.066971",
     "status": "completed"
    },
    "tags": []
   },
   "outputs": [],
   "source": [
    "example_universe = universe.copy()\n",
    "example_universe[\"cutoff\"] = example_universe[\"cutoff\"][0]\n",
    "example_universe[\"eval_fairness_grouping\"] = example_universe[\"eval_fairness_grouping\"][0]\n",
    "fairness_dict, metric_frame = universe_analysis.compute_metrics(\n",
    "    example_universe,\n",
    "    y_pred_prob=probs_test,\n",
    "    y_test=y_true,\n",
    "    org_test=org_test,\n",
    ")"
   ]
  },
  {
   "cell_type": "markdown",
   "id": "f95d4e02",
   "metadata": {
    "papermill": {
     "duration": 0.039198,
     "end_time": "2025-07-30T21:37:36.606514",
     "exception": false,
     "start_time": "2025-07-30T21:37:36.567316",
     "status": "completed"
    },
    "tags": []
   },
   "source": [
    "# Overall"
   ]
  },
  {
   "cell_type": "markdown",
   "id": "bdee4871",
   "metadata": {
    "papermill": {
     "duration": 0.037364,
     "end_time": "2025-07-30T21:37:36.682873",
     "exception": false,
     "start_time": "2025-07-30T21:37:36.645509",
     "status": "completed"
    },
    "tags": []
   },
   "source": [
    "Fairness\n",
    "Main fairness target: Equalized Odds. Seems to be a better fit than equal opportunity, since we're not only interested in Y = 1. Seems to be a better fit than demographic parity, since we also care about accuracy, not just equal distribution of preds.\n",
    "\n",
    "Pick column for computation of fairness metrics\n",
    "\n",
    "Performance\n",
    "Overall performance measures, most interesting in relation to the measures split by group below"
   ]
  },
  {
   "cell_type": "code",
   "execution_count": 74,
   "id": "c4e067c6",
   "metadata": {
    "execution": {
     "iopub.execute_input": "2025-07-30T21:37:36.759150Z",
     "iopub.status.busy": "2025-07-30T21:37:36.758632Z",
     "iopub.status.idle": "2025-07-30T21:37:36.768246Z",
     "shell.execute_reply": "2025-07-30T21:37:36.766999Z"
    },
    "papermill": {
     "duration": 0.049894,
     "end_time": "2025-07-30T21:37:36.770415",
     "exception": false,
     "start_time": "2025-07-30T21:37:36.720521",
     "status": "completed"
    },
    "tags": []
   },
   "outputs": [
    {
     "data": {
      "text/plain": [
       "accuracy                   0.218025\n",
       "balanced accuracy          0.534431\n",
       "f1                         0.239531\n",
       "precision                  0.136836\n",
       "false positive rate        0.891166\n",
       "false negative rate        0.039972\n",
       "selection rate             0.900000\n",
       "count                  89710.000000\n",
       "dtype: float64"
      ]
     },
     "execution_count": 74,
     "metadata": {},
     "output_type": "execute_result"
    }
   ],
   "source": [
    "metric_frame.overall"
   ]
  },
  {
   "cell_type": "markdown",
   "id": "e968fe9d",
   "metadata": {
    "papermill": {
     "duration": 0.027675,
     "end_time": "2025-07-30T21:37:36.837490",
     "exception": false,
     "start_time": "2025-07-30T21:37:36.809815",
     "status": "completed"
    },
    "tags": []
   },
   "source": [
    "By Group"
   ]
  },
  {
   "cell_type": "code",
   "execution_count": 75,
   "id": "ec325bce",
   "metadata": {
    "execution": {
     "iopub.execute_input": "2025-07-30T21:37:36.906236Z",
     "iopub.status.busy": "2025-07-30T21:37:36.905244Z",
     "iopub.status.idle": "2025-07-30T21:37:36.927811Z",
     "shell.execute_reply": "2025-07-30T21:37:36.926404Z"
    },
    "papermill": {
     "duration": 0.066286,
     "end_time": "2025-07-30T21:37:36.930160",
     "exception": false,
     "start_time": "2025-07-30T21:37:36.863874",
     "status": "completed"
    },
    "tags": []
   },
   "outputs": [
    {
     "data": {
      "text/html": [
       "<div>\n",
       "<style scoped>\n",
       "    .dataframe tbody tr th:only-of-type {\n",
       "        vertical-align: middle;\n",
       "    }\n",
       "\n",
       "    .dataframe tbody tr th {\n",
       "        vertical-align: top;\n",
       "    }\n",
       "\n",
       "    .dataframe thead th {\n",
       "        text-align: right;\n",
       "    }\n",
       "</style>\n",
       "<table border=\"1\" class=\"dataframe\">\n",
       "  <thead>\n",
       "    <tr style=\"text-align: right;\">\n",
       "      <th></th>\n",
       "      <th>accuracy</th>\n",
       "      <th>balanced accuracy</th>\n",
       "      <th>f1</th>\n",
       "      <th>precision</th>\n",
       "      <th>false positive rate</th>\n",
       "      <th>false negative rate</th>\n",
       "      <th>selection rate</th>\n",
       "      <th>count</th>\n",
       "    </tr>\n",
       "    <tr>\n",
       "      <th>majmin</th>\n",
       "      <th></th>\n",
       "      <th></th>\n",
       "      <th></th>\n",
       "      <th></th>\n",
       "      <th></th>\n",
       "      <th></th>\n",
       "      <th></th>\n",
       "      <th></th>\n",
       "    </tr>\n",
       "  </thead>\n",
       "  <tbody>\n",
       "    <tr>\n",
       "      <th>majority</th>\n",
       "      <td>0.237242</td>\n",
       "      <td>0.541029</td>\n",
       "      <td>0.248412</td>\n",
       "      <td>0.142799</td>\n",
       "      <td>0.871881</td>\n",
       "      <td>0.046061</td>\n",
       "      <td>0.882724</td>\n",
       "      <td>69170.0</td>\n",
       "    </tr>\n",
       "    <tr>\n",
       "      <th>minority</th>\n",
       "      <td>0.153311</td>\n",
       "      <td>0.514327</td>\n",
       "      <td>0.211257</td>\n",
       "      <td>0.118337</td>\n",
       "      <td>0.954876</td>\n",
       "      <td>0.016470</td>\n",
       "      <td>0.958179</td>\n",
       "      <td>20540.0</td>\n",
       "    </tr>\n",
       "  </tbody>\n",
       "</table>\n",
       "</div>"
      ],
      "text/plain": [
       "          accuracy  balanced accuracy        f1  precision  \\\n",
       "majmin                                                       \n",
       "majority  0.237242           0.541029  0.248412   0.142799   \n",
       "minority  0.153311           0.514327  0.211257   0.118337   \n",
       "\n",
       "          false positive rate  false negative rate  selection rate    count  \n",
       "majmin                                                                       \n",
       "majority             0.871881             0.046061        0.882724  69170.0  \n",
       "minority             0.954876             0.016470        0.958179  20540.0  "
      ]
     },
     "execution_count": 75,
     "metadata": {},
     "output_type": "execute_result"
    }
   ],
   "source": [
    "metric_frame.by_group"
   ]
  },
  {
   "cell_type": "code",
   "execution_count": 76,
   "id": "a9ddbe63",
   "metadata": {
    "execution": {
     "iopub.execute_input": "2025-07-30T21:37:36.979037Z",
     "iopub.status.busy": "2025-07-30T21:37:36.978315Z",
     "iopub.status.idle": "2025-07-30T21:37:39.227068Z",
     "shell.execute_reply": "2025-07-30T21:37:39.226053Z"
    },
    "papermill": {
     "duration": 2.265783,
     "end_time": "2025-07-30T21:37:39.228731",
     "exception": false,
     "start_time": "2025-07-30T21:37:36.962948",
     "status": "completed"
    },
    "tags": []
   },
   "outputs": [
    {
     "data": {
      "text/plain": [
       "array([[<Axes: title={'center': 'accuracy'}, xlabel='majmin'>,\n",
       "        <Axes: title={'center': 'balanced accuracy'}, xlabel='majmin'>,\n",
       "        <Axes: title={'center': 'f1'}, xlabel='majmin'>],\n",
       "       [<Axes: title={'center': 'precision'}, xlabel='majmin'>,\n",
       "        <Axes: title={'center': 'false positive rate'}, xlabel='majmin'>,\n",
       "        <Axes: title={'center': 'false negative rate'}, xlabel='majmin'>],\n",
       "       [<Axes: title={'center': 'selection rate'}, xlabel='majmin'>,\n",
       "        <Axes: title={'center': 'count'}, xlabel='majmin'>,\n",
       "        <Axes: xlabel='majmin'>]], dtype=object)"
      ]
     },
     "execution_count": 76,
     "metadata": {},
     "output_type": "execute_result"
    },
    {
     "data": {
      "image/png": "[encoded data removed]",
      "text/plain": [
       "<Figure size 1200x800 with 9 Axes>"
      ]
     },
     "metadata": {},
     "output_type": "display_data"
    }
   ],
   "source": [
    "# In a graphic\n",
    "metric_frame.by_group.plot.bar(\n",
    "    subplots=True,\n",
    "    layout=[3, 3],\n",
    "    legend=False,\n",
    "    figsize=[12, 8],\n",
    "    title=\"Show all metrics\",\n",
    ")"
   ]
  },
  {
   "cell_type": "markdown",
   "id": "f57a0bac",
   "metadata": {
    "papermill": {
     "duration": 0.028624,
     "end_time": "2025-07-30T21:37:39.304623",
     "exception": false,
     "start_time": "2025-07-30T21:37:39.275999",
     "status": "completed"
    },
    "tags": []
   },
   "source": [
    "# Final Output"
   ]
  },
  {
   "cell_type": "code",
   "execution_count": 77,
   "id": "96d280a3",
   "metadata": {
    "execution": {
     "iopub.execute_input": "2025-07-30T21:37:39.365010Z",
     "iopub.status.busy": "2025-07-30T21:37:39.364447Z",
     "iopub.status.idle": "2025-07-30T21:37:39.371631Z",
     "shell.execute_reply": "2025-07-30T21:37:39.370701Z"
    },
    "papermill": {
     "duration": 0.039785,
     "end_time": "2025-07-30T21:37:39.373195",
     "exception": false,
     "start_time": "2025-07-30T21:37:39.333410",
     "status": "completed"
    },
    "tags": []
   },
   "outputs": [
    {
     "data": {
      "text/plain": [
       "4"
      ]
     },
     "execution_count": 77,
     "metadata": {},
     "output_type": "execute_result"
    }
   ],
   "source": [
    "sub_universes = universe_analysis.generate_sub_universes()\n",
    "len(sub_universes)"
   ]
  },
  {
   "cell_type": "code",
   "execution_count": 78,
   "id": "92adf7ba",
   "metadata": {
    "execution": {
     "iopub.execute_input": "2025-07-30T21:37:39.429026Z",
     "iopub.status.busy": "2025-07-30T21:37:39.428484Z",
     "iopub.status.idle": "2025-07-30T21:37:39.433410Z",
     "shell.execute_reply": "2025-07-30T21:37:39.432518Z"
    },
    "papermill": {
     "duration": 0.035291,
     "end_time": "2025-07-30T21:37:39.435306",
     "exception": false,
     "start_time": "2025-07-30T21:37:39.400015",
     "status": "completed"
    },
    "tags": []
   },
   "outputs": [],
   "source": [
    "def filter_sub_universe_data(sub_universe, org_test):\n",
    "    # Keep all rows — no filtering\n",
    "    keep_rows_mask = np.ones(org_test.shape[0], dtype=bool)\n",
    "\n",
    "    print(f\"[INFO] Keeping all rows: {keep_rows_mask.sum()} rows retained.\")\n",
    "    return keep_rows_mask"
   ]
  },
  {
   "cell_type": "code",
   "execution_count": 79,
   "id": "4a759155",
   "metadata": {
    "execution": {
     "iopub.execute_input": "2025-07-30T21:37:39.493932Z",
     "iopub.status.busy": "2025-07-30T21:37:39.493014Z",
     "iopub.status.idle": "2025-07-30T21:37:49.237871Z",
     "shell.execute_reply": "2025-07-30T21:37:49.236998Z"
    },
    "papermill": {
     "duration": 9.774728,
     "end_time": "2025-07-30T21:37:49.239175",
     "exception": false,
     "start_time": "2025-07-30T21:37:39.464447",
     "status": "completed"
    },
    "tags": []
   },
   "outputs": [
    {
     "name": "stdout",
     "output_type": "stream",
     "text": [
      "Stopping execution_time clock.\n",
      "[INFO] Keeping all rows: 89710 rows retained.\n"
     ]
    },
    {
     "name": "stdout",
     "output_type": "stream",
     "text": [
      "[INFO] Keeping all rows: 89710 rows retained.\n"
     ]
    },
    {
     "name": "stdout",
     "output_type": "stream",
     "text": [
      "[INFO] Keeping all rows: 89710 rows retained.\n"
     ]
    },
    {
     "name": "stdout",
     "output_type": "stream",
     "text": [
      "[INFO] Keeping all rows: 89710 rows retained.\n"
     ]
    },
    {
     "data": {
      "text/html": [
       "<div>\n",
       "<style scoped>\n",
       "    .dataframe tbody tr th:only-of-type {\n",
       "        vertical-align: middle;\n",
       "    }\n",
       "\n",
       "    .dataframe tbody tr th {\n",
       "        vertical-align: top;\n",
       "    }\n",
       "\n",
       "    .dataframe thead th {\n",
       "        text-align: right;\n",
       "    }\n",
       "</style>\n",
       "<table border=\"1\" class=\"dataframe\">\n",
       "  <thead>\n",
       "    <tr style=\"text-align: right;\">\n",
       "      <th></th>\n",
       "      <th>run_no</th>\n",
       "      <th>universe_id</th>\n",
       "      <th>universe_settings</th>\n",
       "      <th>execution_time</th>\n",
       "      <th>test_size_n</th>\n",
       "      <th>test_size_frac</th>\n",
       "      <th>fair_main_equalized_odds_difference</th>\n",
       "      <th>fair_main_equalized_odds_ratio</th>\n",
       "      <th>fair_main_demographic_parity_difference</th>\n",
       "      <th>fair_main_demographic_parity_ratio</th>\n",
       "      <th>...</th>\n",
       "      <th>perf_grp_precision_0</th>\n",
       "      <th>perf_grp_precision_1</th>\n",
       "      <th>perf_grp_false positive rate_0</th>\n",
       "      <th>perf_grp_false positive rate_1</th>\n",
       "      <th>perf_grp_false negative rate_0</th>\n",
       "      <th>perf_grp_false negative rate_1</th>\n",
       "      <th>perf_grp_selection rate_0</th>\n",
       "      <th>perf_grp_selection rate_1</th>\n",
       "      <th>perf_grp_count_0</th>\n",
       "      <th>perf_grp_count_1</th>\n",
       "    </tr>\n",
       "  </thead>\n",
       "  <tbody>\n",
       "    <tr>\n",
       "      <th>0</th>\n",
       "      <td>14</td>\n",
       "      <td>4bdc8a1a1be00509c77f8efe6787a39f</td>\n",
       "      <td>{\"cutoff\": \"quantile_0.1\", \"eval_fairness_grou...</td>\n",
       "      <td>31.016621</td>\n",
       "      <td>89710</td>\n",
       "      <td>1.0</td>\n",
       "      <td>0.082995</td>\n",
       "      <td>0.913083</td>\n",
       "      <td>0.075455</td>\n",
       "      <td>0.921251</td>\n",
       "      <td>...</td>\n",
       "      <td>NaN</td>\n",
       "      <td>NaN</td>\n",
       "      <td>NaN</td>\n",
       "      <td>NaN</td>\n",
       "      <td>NaN</td>\n",
       "      <td>NaN</td>\n",
       "      <td>NaN</td>\n",
       "      <td>NaN</td>\n",
       "      <td>NaN</td>\n",
       "      <td>NaN</td>\n",
       "    </tr>\n",
       "    <tr>\n",
       "      <th>0</th>\n",
       "      <td>14</td>\n",
       "      <td>4bdc8a1a1be00509c77f8efe6787a39f</td>\n",
       "      <td>{\"cutoff\": \"quantile_0.1\", \"eval_fairness_grou...</td>\n",
       "      <td>31.016621</td>\n",
       "      <td>89710</td>\n",
       "      <td>1.0</td>\n",
       "      <td>0.082995</td>\n",
       "      <td>0.913083</td>\n",
       "      <td>0.075455</td>\n",
       "      <td>0.921251</td>\n",
       "      <td>...</td>\n",
       "      <td>0.118337</td>\n",
       "      <td>0.142799</td>\n",
       "      <td>0.954876</td>\n",
       "      <td>0.871881</td>\n",
       "      <td>0.016470</td>\n",
       "      <td>0.046061</td>\n",
       "      <td>0.958179</td>\n",
       "      <td>0.882724</td>\n",
       "      <td>20540.0</td>\n",
       "      <td>69170.0</td>\n",
       "    </tr>\n",
       "    <tr>\n",
       "      <th>0</th>\n",
       "      <td>14</td>\n",
       "      <td>4bdc8a1a1be00509c77f8efe6787a39f</td>\n",
       "      <td>{\"cutoff\": \"quantile_0.25\", \"eval_fairness_gro...</td>\n",
       "      <td>31.016621</td>\n",
       "      <td>89710</td>\n",
       "      <td>1.0</td>\n",
       "      <td>0.169208</td>\n",
       "      <td>0.803310</td>\n",
       "      <td>0.153949</td>\n",
       "      <td>0.822781</td>\n",
       "      <td>...</td>\n",
       "      <td>NaN</td>\n",
       "      <td>NaN</td>\n",
       "      <td>NaN</td>\n",
       "      <td>NaN</td>\n",
       "      <td>NaN</td>\n",
       "      <td>NaN</td>\n",
       "      <td>NaN</td>\n",
       "      <td>NaN</td>\n",
       "      <td>NaN</td>\n",
       "      <td>NaN</td>\n",
       "    </tr>\n",
       "    <tr>\n",
       "      <th>0</th>\n",
       "      <td>14</td>\n",
       "      <td>4bdc8a1a1be00509c77f8efe6787a39f</td>\n",
       "      <td>{\"cutoff\": \"quantile_0.25\", \"eval_fairness_gro...</td>\n",
       "      <td>31.016621</td>\n",
       "      <td>89710</td>\n",
       "      <td>1.0</td>\n",
       "      <td>0.169208</td>\n",
       "      <td>0.803310</td>\n",
       "      <td>0.153949</td>\n",
       "      <td>0.822781</td>\n",
       "      <td>...</td>\n",
       "      <td>0.123858</td>\n",
       "      <td>0.160885</td>\n",
       "      <td>0.860280</td>\n",
       "      <td>0.691071</td>\n",
       "      <td>0.066723</td>\n",
       "      <td>0.129759</td>\n",
       "      <td>0.868695</td>\n",
       "      <td>0.714746</td>\n",
       "      <td>20540.0</td>\n",
       "      <td>69170.0</td>\n",
       "    </tr>\n",
       "  </tbody>\n",
       "</table>\n",
       "<p>4 rows × 50 columns</p>\n",
       "</div>"
      ],
      "text/plain": [
       "  run_no                       universe_id  \\\n",
       "0     14  4bdc8a1a1be00509c77f8efe6787a39f   \n",
       "0     14  4bdc8a1a1be00509c77f8efe6787a39f   \n",
       "0     14  4bdc8a1a1be00509c77f8efe6787a39f   \n",
       "0     14  4bdc8a1a1be00509c77f8efe6787a39f   \n",
       "\n",
       "                                   universe_settings  execution_time  \\\n",
       "0  {\"cutoff\": \"quantile_0.1\", \"eval_fairness_grou...       31.016621   \n",
       "0  {\"cutoff\": \"quantile_0.1\", \"eval_fairness_grou...       31.016621   \n",
       "0  {\"cutoff\": \"quantile_0.25\", \"eval_fairness_gro...       31.016621   \n",
       "0  {\"cutoff\": \"quantile_0.25\", \"eval_fairness_gro...       31.016621   \n",
       "\n",
       "   test_size_n  test_size_frac  fair_main_equalized_odds_difference  \\\n",
       "0        89710             1.0                             0.082995   \n",
       "0        89710             1.0                             0.082995   \n",
       "0        89710             1.0                             0.169208   \n",
       "0        89710             1.0                             0.169208   \n",
       "\n",
       "   fair_main_equalized_odds_ratio  fair_main_demographic_parity_difference  \\\n",
       "0                        0.913083                                 0.075455   \n",
       "0                        0.913083                                 0.075455   \n",
       "0                        0.803310                                 0.153949   \n",
       "0                        0.803310                                 0.153949   \n",
       "\n",
       "   fair_main_demographic_parity_ratio  ...  perf_grp_precision_0  \\\n",
       "0                            0.921251  ...                   NaN   \n",
       "0                            0.921251  ...              0.118337   \n",
       "0                            0.822781  ...                   NaN   \n",
       "0                            0.822781  ...              0.123858   \n",
       "\n",
       "   perf_grp_precision_1  perf_grp_false positive rate_0  \\\n",
       "0                   NaN                             NaN   \n",
       "0              0.142799                        0.954876   \n",
       "0                   NaN                             NaN   \n",
       "0              0.160885                        0.860280   \n",
       "\n",
       "   perf_grp_false positive rate_1  perf_grp_false negative rate_0  \\\n",
       "0                             NaN                             NaN   \n",
       "0                        0.871881                        0.016470   \n",
       "0                             NaN                             NaN   \n",
       "0                        0.691071                        0.066723   \n",
       "\n",
       "   perf_grp_false negative rate_1  perf_grp_selection rate_0  \\\n",
       "0                             NaN                        NaN   \n",
       "0                        0.046061                   0.958179   \n",
       "0                             NaN                        NaN   \n",
       "0                        0.129759                   0.868695   \n",
       "\n",
       "   perf_grp_selection rate_1  perf_grp_count_0  perf_grp_count_1  \n",
       "0                        NaN               NaN               NaN  \n",
       "0                   0.882724           20540.0           69170.0  \n",
       "0                        NaN               NaN               NaN  \n",
       "0                   0.714746           20540.0           69170.0  \n",
       "\n",
       "[4 rows x 50 columns]"
      ]
     },
     "execution_count": 79,
     "metadata": {},
     "output_type": "execute_result"
    }
   ],
   "source": [
    "final_output = universe_analysis.generate_final_output(\n",
    "    y_pred_prob=probs_test,\n",
    "    y_test=y_true,\n",
    "    org_test=org_test,\n",
    "    filter_data=filter_sub_universe_data,\n",
    "    cp_metrics_df=cp_metrics_df,\n",
    "    save=True,\n",
    ")\n",
    "final_output"
   ]
  },
  {
   "cell_type": "code",
   "execution_count": null,
   "id": "721ff514-cb11-46f8-b6fc-50392f74b5cb",
   "metadata": {
    "papermill": {
     "duration": 0.016588,
     "end_time": "2025-07-30T21:37:49.274753",
     "exception": false,
     "start_time": "2025-07-30T21:37:49.258165",
     "status": "completed"
    },
    "tags": []
   },
   "outputs": [],
   "source": []
  }
 ],
 "metadata": {
  "celltoolbar": "Tags",
  "kernelspec": {
   "display_name": "Python (CMA Fairness)",
   "language": "python",
   "name": "cma_fair_env"
  },
  "language_info": {
   "codemirror_mode": {
    "name": "ipython",
    "version": 3
   },
   "file_extension": ".py",
   "mimetype": "text/x-python",
   "name": "python",
   "nbconvert_exporter": "python",
   "pygments_lexer": "ipython3",
   "version": "3.10.12"
  },
  "papermill": {
   "default_parameters": {},
   "duration": 44.416378,
   "end_time": "2025-07-30T21:37:49.907889",
   "environment_variables": {},
   "exception": null,
   "input_path": "universe_analysis.ipynb",
   "output_path": "output/runs/14/notebooks/m_14-4bdc8a1a1be00509c77f8efe6787a39f.ipynb",
   "parameters": {
    "output_dir": "output",
    "run_no": "14",
    "seed": "2023",
    "universe": "{\"cutoff\": [\"quantile_0.1\", \"quantile_0.25\"], \"eval_fairness_grouping\": [\"majority-minority\", \"nationality-all\"], \"exclude_features\": \"nationality\", \"exclude_subgroups\": \"keep-all\", \"model\": \"elasticnet\", \"scale\": \"scale\", \"training_size\": \"1k\", \"training_year\": \"2012_14\"}",
    "universe_id": "4bdc8a1a1be00509c77f8efe6787a39f"
   },
   "start_time": "2025-07-30T21:37:05.491511",
   "version": "2.6.0"
  }
 },
 "nbformat": 4,
 "nbformat_minor": 5
}