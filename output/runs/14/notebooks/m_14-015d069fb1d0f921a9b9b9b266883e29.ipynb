{
 "cells": [
  {
   "cell_type": "code",
   "execution_count": 1,
   "id": "f159f837-637b-42ba-96b5-ec9a68c44524",
   "metadata": {
    "execution": {
     "iopub.execute_input": "2025-07-30T20:17:42.330124Z",
     "iopub.status.busy": "2025-07-30T20:17:42.329722Z",
     "iopub.status.idle": "2025-07-30T20:17:42.348772Z",
     "shell.execute_reply": "2025-07-30T20:17:42.347534Z"
    },
    "papermill": {
     "duration": 0.084658,
     "end_time": "2025-07-30T20:17:42.351052",
     "exception": false,
     "start_time": "2025-07-30T20:17:42.266394",
     "status": "completed"
    },
    "tags": []
   },
   "outputs": [
    {
     "name": "stdout",
     "output_type": "stream",
     "text": [
      "/dss/dsshome1/0C/ra93lal2/cma/CMA_Fairness_v2\n"
     ]
    },
    {
     "name": "stderr",
     "output_type": "stream",
     "text": [
      "/dss/dsshome1/0C/ra93lal2/.local/share/virtualenvs/CMA_Fairness_v2-3j10GkSs/lib/python3.10/site-packages/IPython/core/magics/osm.py:393: UserWarning: This is now an optional IPython functionality, using bookmarks requires you to install the `pickleshare` library.\n",
      "  bkms = self.shell.db.get('bookmarks', {})\n",
      "/dss/dsshome1/0C/ra93lal2/.local/share/virtualenvs/CMA_Fairness_v2-3j10GkSs/lib/python3.10/site-packages/IPython/core/magics/osm.py:417: UserWarning: This is now an optional IPython functionality, setting dhist requires you to install the `pickleshare` library.\n",
      "  self.shell.db['dhist'] = compress_dhist(dhist)[-100:]\n"
     ]
    }
   ],
   "source": [
    "%cd ~/cma/CMA_Fairness_v2"
   ]
  },
  {
   "cell_type": "markdown",
   "id": "de2603b9",
   "metadata": {
    "papermill": {
     "duration": 0.037063,
     "end_time": "2025-07-30T20:17:42.433717",
     "exception": false,
     "start_time": "2025-07-30T20:17:42.396654",
     "status": "completed"
    },
    "tags": []
   },
   "source": [
    "The following cell holds the definition of our parameters, these values can be overriden by rendering the with e.g. the following command:\n",
    "\n",
    "papermill -p alpha 0.2 -p ratio 0.3 universe_analysis.ipynb output/test_run.ipynb"
   ]
  },
  {
   "cell_type": "code",
   "execution_count": 2,
   "id": "a80968a0-40bb-4fa9-85ef-2d5eefb01975",
   "metadata": {
    "execution": {
     "iopub.execute_input": "2025-07-30T20:17:42.497811Z",
     "iopub.status.busy": "2025-07-30T20:17:42.497384Z",
     "iopub.status.idle": "2025-07-30T20:17:42.503433Z",
     "shell.execute_reply": "2025-07-30T20:17:42.502357Z"
    },
    "papermill": {
     "duration": 0.037868,
     "end_time": "2025-07-30T20:17:42.509062",
     "exception": false,
     "start_time": "2025-07-30T20:17:42.471194",
     "status": "completed"
    },
    "tags": []
   },
   "outputs": [
    {
     "name": "stdout",
     "output_type": "stream",
     "text": [
      "Current working directory: /dss/dsshome1/0C/ra93lal2/cma/CMA_Fairness_v2\n"
     ]
    }
   ],
   "source": [
    "import os\n",
    "print(\"Current working directory:\", os.getcwd())"
   ]
  },
  {
   "cell_type": "code",
   "execution_count": 3,
   "id": "2dce4c03",
   "metadata": {
    "execution": {
     "iopub.execute_input": "2025-07-30T20:17:42.636467Z",
     "iopub.status.busy": "2025-07-30T20:17:42.635933Z",
     "iopub.status.idle": "2025-07-30T20:17:42.644384Z",
     "shell.execute_reply": "2025-07-30T20:17:42.643279Z"
    },
    "papermill": {
     "duration": 0.123559,
     "end_time": "2025-07-30T20:17:42.654749",
     "exception": false,
     "start_time": "2025-07-30T20:17:42.531190",
     "status": "completed"
    },
    "tags": [
     "parameters"
    ]
   },
   "outputs": [],
   "source": [
    "run_no = 0\n",
    "universe_id = \"test\"\n",
    "universe = {\n",
    "    \"training_size\": \"25k\", # \"25k\", \"5k\", \"1k\"\n",
    "    \"training_year\": \"2014\", # \"2014\", \"2012_14\", \"2010_14\"\n",
    "    \"scale\": \"scale\", # \"scale\", \"do-not-scale\",\n",
    "    #\"stratify_split\": \"target\", # \"none\", \"target\", \"protected-attribute\", \"both\",\n",
    "    \"model\": \"elasticnet\", # \"logreg\", \"penalized_logreg\", \"rf\", \"gbm\", \"elasticnet\"\n",
    "    \"cutoff\": [\"quantile_0.15\", \"quantile_0.30\"],\n",
    "    \"exclude_features\": \"age\", # \"none\", \"nationality\", \"sex\", \"nationality-sex\", \"age\"\n",
    "    \"exclude_subgroups\": \"keep-all\", # \"keep-all\", \"drop-non-german\"\n",
    "    \"eval_fairness_grouping\": [\"majority-minority\", \"nationality-all\"]\n",
    "}\n",
    "\n",
    "output_dir=\"./output\"\n",
    "seed=0"
   ]
  },
  {
   "cell_type": "code",
   "execution_count": 4,
   "id": "acf981ed",
   "metadata": {
    "execution": {
     "iopub.execute_input": "2025-07-30T20:17:42.774023Z",
     "iopub.status.busy": "2025-07-30T20:17:42.773618Z",
     "iopub.status.idle": "2025-07-30T20:17:42.779927Z",
     "shell.execute_reply": "2025-07-30T20:17:42.778616Z"
    },
    "papermill": {
     "duration": 0.060699,
     "end_time": "2025-07-30T20:17:42.783541",
     "exception": false,
     "start_time": "2025-07-30T20:17:42.722842",
     "status": "completed"
    },
    "tags": [
     "injected-parameters"
    ]
   },
   "outputs": [],
   "source": [
    "# Parameters\n",
    "universe_id = \"015d069fb1d0f921a9b9b9b266883e29\"\n",
    "run_no = \"14\"\n",
    "universe = \"{\\\"cutoff\\\": [\\\"quantile_0.1\\\", \\\"quantile_0.25\\\"], \\\"eval_fairness_grouping\\\": [\\\"majority-minority\\\", \\\"nationality-all\\\"], \\\"exclude_features\\\": \\\"nationality\\\", \\\"exclude_subgroups\\\": \\\"drop-non-german\\\", \\\"model\\\": \\\"rf\\\", \\\"scale\\\": \\\"do-not-scale\\\", \\\"training_size\\\": \\\"25k\\\", \\\"training_year\\\": \\\"2012_14\\\"}\"\n",
    "output_dir = \"output\"\n",
    "seed = \"2023\"\n"
   ]
  },
  {
   "cell_type": "code",
   "execution_count": 5,
   "id": "1650acaf",
   "metadata": {
    "execution": {
     "iopub.execute_input": "2025-07-30T20:17:42.888734Z",
     "iopub.status.busy": "2025-07-30T20:17:42.888305Z",
     "iopub.status.idle": "2025-07-30T20:17:42.893704Z",
     "shell.execute_reply": "2025-07-30T20:17:42.892593Z"
    },
    "papermill": {
     "duration": 0.032287,
     "end_time": "2025-07-30T20:17:42.897040",
     "exception": false,
     "start_time": "2025-07-30T20:17:42.864753",
     "status": "completed"
    },
    "tags": []
   },
   "outputs": [],
   "source": [
    "import json\n",
    "# Parse universe into dict if it is passed as a string\n",
    "if isinstance(universe, str):\n",
    "    universe = json.loads(universe)"
   ]
  },
  {
   "cell_type": "code",
   "execution_count": 6,
   "id": "16620c48",
   "metadata": {
    "execution": {
     "iopub.execute_input": "2025-07-30T20:17:42.950861Z",
     "iopub.status.busy": "2025-07-30T20:17:42.950434Z",
     "iopub.status.idle": "2025-07-30T20:17:43.103944Z",
     "shell.execute_reply": "2025-07-30T20:17:43.102926Z"
    },
    "papermill": {
     "duration": 0.18638,
     "end_time": "2025-07-30T20:17:43.105936",
     "exception": false,
     "start_time": "2025-07-30T20:17:42.919556",
     "status": "completed"
    },
    "tags": []
   },
   "outputs": [],
   "source": [
    "# Auto-reload the custom package\n",
    "%load_ext autoreload\n",
    "%autoreload 1\n",
    "%aimport fairness_multiverse"
   ]
  },
  {
   "cell_type": "code",
   "execution_count": 7,
   "id": "01c5c9f3",
   "metadata": {
    "execution": {
     "iopub.execute_input": "2025-07-30T20:17:43.211237Z",
     "iopub.status.busy": "2025-07-30T20:17:43.210836Z",
     "iopub.status.idle": "2025-07-30T20:17:46.840886Z",
     "shell.execute_reply": "2025-07-30T20:17:46.839738Z"
    },
    "papermill": {
     "duration": 3.682062,
     "end_time": "2025-07-30T20:17:46.842817",
     "exception": false,
     "start_time": "2025-07-30T20:17:43.160755",
     "status": "completed"
    },
    "tags": []
   },
   "outputs": [],
   "source": [
    "from fairness_multiverse.universe import UniverseAnalysis\n",
    "\n",
    "universe_analysis = UniverseAnalysis(\n",
    "    run_no = run_no,\n",
    "    universe_id = universe_id,\n",
    "    universe = universe,\n",
    "    output_dir=output_dir,\n",
    ")"
   ]
  },
  {
   "cell_type": "code",
   "execution_count": 8,
   "id": "106241f5",
   "metadata": {
    "execution": {
     "iopub.execute_input": "2025-07-30T20:17:46.887224Z",
     "iopub.status.busy": "2025-07-30T20:17:46.886840Z",
     "iopub.status.idle": "2025-07-30T20:17:46.892895Z",
     "shell.execute_reply": "2025-07-30T20:17:46.891840Z"
    },
    "papermill": {
     "duration": 0.029594,
     "end_time": "2025-07-30T20:17:46.894632",
     "exception": false,
     "start_time": "2025-07-30T20:17:46.865038",
     "status": "completed"
    },
    "tags": []
   },
   "outputs": [
    {
     "name": "stdout",
     "output_type": "stream",
     "text": [
      "Using Seed: 2023\n"
     ]
    }
   ],
   "source": [
    "import numpy as np\n",
    "parsed_seed = int(seed)\n",
    "np.random.seed(parsed_seed)\n",
    "print(f\"Using Seed: {parsed_seed}\")"
   ]
  },
  {
   "cell_type": "markdown",
   "id": "e0ebdc57",
   "metadata": {
    "papermill": {
     "duration": 0.021108,
     "end_time": "2025-07-30T20:17:46.937341",
     "exception": false,
     "start_time": "2025-07-30T20:17:46.916233",
     "status": "completed"
    },
    "tags": []
   },
   "source": [
    "# Loading Data"
   ]
  },
  {
   "cell_type": "markdown",
   "id": "681925a3",
   "metadata": {
    "papermill": {
     "duration": 0.015795,
     "end_time": "2025-07-30T20:17:46.966859",
     "exception": false,
     "start_time": "2025-07-30T20:17:46.951064",
     "status": "completed"
    },
    "tags": []
   },
   "source": [
    "Load siab_train, siab_test, siab_calib and/or \n",
    "load siab_train_features, siab_train_labels"
   ]
  },
  {
   "cell_type": "code",
   "execution_count": 9,
   "id": "f0496b8a",
   "metadata": {
    "execution": {
     "iopub.execute_input": "2025-07-30T20:17:47.005378Z",
     "iopub.status.busy": "2025-07-30T20:17:47.004884Z",
     "iopub.status.idle": "2025-07-30T20:17:59.821494Z",
     "shell.execute_reply": "2025-07-30T20:17:59.820234Z"
    },
    "papermill": {
     "duration": 12.835735,
     "end_time": "2025-07-30T20:17:59.823139",
     "exception": false,
     "start_time": "2025-07-30T20:17:46.987404",
     "status": "completed"
    },
    "tags": []
   },
   "outputs": [
    {
     "name": "stdout",
     "output_type": "stream",
     "text": [
      "Loading SIAB data from cache: data/siab_cached.csv.gz\n"
     ]
    },
    {
     "name": "stdout",
     "output_type": "stream",
     "text": [
      "(643690, 164)\n"
     ]
    }
   ],
   "source": [
    "from pathlib import Path\n",
    "import pandas as pd\n",
    "\n",
    "# File paths\n",
    "raw_file = Path(\"data/raw/siab.csv\")\n",
    "cache_file = Path(\"data/siab_cached.csv.gz\")\n",
    "\n",
    "# Ensure cache directory exists\n",
    "cache_file.parent.mkdir(parents=True, exist_ok=True)\n",
    "\n",
    "# Load with simple caching\n",
    "if cache_file.exists():\n",
    "    print(f\"Loading SIAB data from cache: {cache_file}\")\n",
    "    siab = pd.read_csv(cache_file, compression='gzip')\n",
    "else:\n",
    "    print(f\"Cache not found. Reading raw SIAB data: {raw_file}\")\n",
    "    siab = pd.read_csv(raw_file)\n",
    "    siab.to_csv(cache_file, index=False, compression='gzip')\n",
    "    print(f\"Cached SIAB data to: {cache_file}\")\n",
    "\n",
    "# Now use `siab` DataFrame as needed\n",
    "print(siab.shape)"
   ]
  },
  {
   "cell_type": "code",
   "execution_count": 10,
   "id": "db0ca512-5f53-4dba-abdb-a2888bca41ba",
   "metadata": {
    "execution": {
     "iopub.execute_input": "2025-07-30T20:17:59.871453Z",
     "iopub.status.busy": "2025-07-30T20:17:59.870704Z",
     "iopub.status.idle": "2025-07-30T20:17:59.876643Z",
     "shell.execute_reply": "2025-07-30T20:17:59.875629Z"
    },
    "papermill": {
     "duration": 0.031405,
     "end_time": "2025-07-30T20:17:59.878548",
     "exception": false,
     "start_time": "2025-07-30T20:17:59.847143",
     "status": "completed"
    },
    "tags": []
   },
   "outputs": [],
   "source": [
    "#siab"
   ]
  },
  {
   "cell_type": "code",
   "execution_count": 11,
   "id": "a0edb063",
   "metadata": {
    "execution": {
     "iopub.execute_input": "2025-07-30T20:17:59.922015Z",
     "iopub.status.busy": "2025-07-30T20:17:59.921238Z",
     "iopub.status.idle": "2025-07-30T20:17:59.926484Z",
     "shell.execute_reply": "2025-07-30T20:17:59.925529Z"
    },
    "papermill": {
     "duration": 0.028517,
     "end_time": "2025-07-30T20:17:59.928005",
     "exception": false,
     "start_time": "2025-07-30T20:17:59.899488",
     "status": "completed"
    },
    "tags": []
   },
   "outputs": [],
   "source": [
    "#import pandas as pd\n",
    "#\n",
    "#X_train = pd.read_csv(\"./data/X_train.csv\")\n",
    "#y_train = pd.read_csv(\"./data/y_train.csv\")"
   ]
  },
  {
   "cell_type": "code",
   "execution_count": 12,
   "id": "63d08085",
   "metadata": {
    "execution": {
     "iopub.execute_input": "2025-07-30T20:17:59.963417Z",
     "iopub.status.busy": "2025-07-30T20:17:59.963067Z",
     "iopub.status.idle": "2025-07-30T20:17:59.968382Z",
     "shell.execute_reply": "2025-07-30T20:17:59.967233Z"
    },
    "papermill": {
     "duration": 0.020123,
     "end_time": "2025-07-30T20:17:59.970016",
     "exception": false,
     "start_time": "2025-07-30T20:17:59.949893",
     "status": "completed"
    },
    "tags": []
   },
   "outputs": [],
   "source": [
    "#X_test = pd.read_csv(\"./data/X_test.csv\")\n",
    "#y_true = pd.read_csv(\"./data/y_test.csv\")"
   ]
  },
  {
   "cell_type": "code",
   "execution_count": 13,
   "id": "98a8d0fa-1d3d-4ed8-bb2c-281470e24add",
   "metadata": {
    "execution": {
     "iopub.execute_input": "2025-07-30T20:18:00.014047Z",
     "iopub.status.busy": "2025-07-30T20:18:00.013091Z",
     "iopub.status.idle": "2025-07-30T20:18:00.018335Z",
     "shell.execute_reply": "2025-07-30T20:18:00.017399Z"
    },
    "papermill": {
     "duration": 0.02871,
     "end_time": "2025-07-30T20:18:00.020092",
     "exception": false,
     "start_time": "2025-07-30T20:17:59.991382",
     "status": "completed"
    },
    "tags": []
   },
   "outputs": [],
   "source": [
    "# Calibration data for conformal\n",
    "#X_calib = pd.read_csv(\"./data/X_calib.csv\")\n",
    "#y_calib = pd.read_csv(\"./data/y_calib.csv\")"
   ]
  },
  {
   "cell_type": "markdown",
   "id": "997051c5-15bd-4b69-9786-c3001a3ce484",
   "metadata": {
    "papermill": {
     "duration": 0.019789,
     "end_time": "2025-07-30T20:18:00.061291",
     "exception": false,
     "start_time": "2025-07-30T20:18:00.041502",
     "status": "completed"
    },
    "tags": []
   },
   "source": [
    "# Splitting Data and Setting Training Data Size"
   ]
  },
  {
   "cell_type": "code",
   "execution_count": 14,
   "id": "e993b61f-042d-41a6-8c81-f55681f86335",
   "metadata": {
    "execution": {
     "iopub.execute_input": "2025-07-30T20:18:00.104013Z",
     "iopub.status.busy": "2025-07-30T20:18:00.103504Z",
     "iopub.status.idle": "2025-07-30T20:18:00.116549Z",
     "shell.execute_reply": "2025-07-30T20:18:00.115470Z"
    },
    "papermill": {
     "duration": 0.036785,
     "end_time": "2025-07-30T20:18:00.118268",
     "exception": false,
     "start_time": "2025-07-30T20:18:00.081483",
     "status": "completed"
    },
    "tags": []
   },
   "outputs": [],
   "source": [
    "def sample_by_year_size(df,\n",
    "                        training_year: str,\n",
    "                        training_size: str,\n",
    "                        random_state: int = 42):\n",
    "    # --- parse training_year into a list of int years ---\n",
    "    if \"_\" in training_year:\n",
    "        start_str, end_str = training_year.split(\"_\", 1)\n",
    "        start = int(start_str)\n",
    "        end   = int(end_str) if len(end_str) == 4 else (int(end_str) + (start // 100)*100)\n",
    "        years = list(range(start, end + 1))\n",
    "    else:\n",
    "        years = [int(training_year)]\n",
    "\n",
    "    df = df[df[\"year\"].isin(years)].reset_index(drop=True)\n",
    "\n",
    "    # --- map training_size to total number of samples ---\n",
    "    total_map = {\"25k\": 25_000, \"5k\": 5_000, \"1k\": 1_000}\n",
    "    if training_size not in total_map:\n",
    "        return df  # e.g. \"all\"\n",
    "\n",
    "    total_samples = total_map[training_size]\n",
    "    n_years       = len(years)\n",
    "    base          = total_samples // n_years\n",
    "    remainder     = total_samples % n_years\n",
    "\n",
    "    # --- build a dict: year -> how many to sample ---\n",
    "    # give +1 to the first `remainder` years in ascending order\n",
    "    quotas = {\n",
    "        year: base + (1 if idx < remainder else 0)\n",
    "        for idx, year in enumerate(sorted(years))\n",
    "    }\n",
    "\n",
    "    # --- sample per‐year according to the quota dict ---\n",
    "    sampled = (\n",
    "        df\n",
    "        .groupby(\"year\", group_keys=False)\n",
    "        .apply(lambda grp: grp.sample(\n",
    "            n=min(len(grp), quotas[grp.name]),\n",
    "            random_state=random_state))\n",
    "        .reset_index(drop=True)\n",
    "    )\n",
    "\n",
    "    return sampled"
   ]
  },
  {
   "cell_type": "code",
   "execution_count": 15,
   "id": "c0ccd338-0e02-41f3-a09d-f56f9266e3fb",
   "metadata": {
    "execution": {
     "iopub.execute_input": "2025-07-30T20:18:00.162072Z",
     "iopub.status.busy": "2025-07-30T20:18:00.161621Z",
     "iopub.status.idle": "2025-07-30T20:18:00.166897Z",
     "shell.execute_reply": "2025-07-30T20:18:00.165876Z"
    },
    "papermill": {
     "duration": 0.028859,
     "end_time": "2025-07-30T20:18:00.168590",
     "exception": false,
     "start_time": "2025-07-30T20:18:00.139731",
     "status": "completed"
    },
    "tags": []
   },
   "outputs": [],
   "source": [
    "#universe[\"training_size\"]"
   ]
  },
  {
   "cell_type": "code",
   "execution_count": 16,
   "id": "ca707fd7-8047-4acd-bfa5-66248fbbf8e6",
   "metadata": {
    "execution": {
     "iopub.execute_input": "2025-07-30T20:18:00.211399Z",
     "iopub.status.busy": "2025-07-30T20:18:00.210749Z",
     "iopub.status.idle": "2025-07-30T20:18:00.215918Z",
     "shell.execute_reply": "2025-07-30T20:18:00.214910Z"
    },
    "papermill": {
     "duration": 0.02815,
     "end_time": "2025-07-30T20:18:00.217516",
     "exception": false,
     "start_time": "2025-07-30T20:18:00.189366",
     "status": "completed"
    },
    "tags": []
   },
   "outputs": [],
   "source": [
    "#universe[\"training_year\"]"
   ]
  },
  {
   "cell_type": "code",
   "execution_count": 17,
   "id": "aea9c6ef-6f46-42c8-85eb-5a62025c1508",
   "metadata": {
    "execution": {
     "iopub.execute_input": "2025-07-30T20:18:00.260691Z",
     "iopub.status.busy": "2025-07-30T20:18:00.260045Z",
     "iopub.status.idle": "2025-07-30T20:18:00.921128Z",
     "shell.execute_reply": "2025-07-30T20:18:00.920162Z"
    },
    "papermill": {
     "duration": 0.683547,
     "end_time": "2025-07-30T20:18:00.922661",
     "exception": false,
     "start_time": "2025-07-30T20:18:00.239114",
     "status": "completed"
    },
    "tags": []
   },
   "outputs": [],
   "source": [
    "siab_train = sample_by_year_size(siab,\n",
    "                               training_year=universe[\"training_year\"],\n",
    "                               training_size=universe[\"training_size\"])"
   ]
  },
  {
   "cell_type": "code",
   "execution_count": 18,
   "id": "8d3afb32-789d-442c-8d5d-9f5aa8dd2eed",
   "metadata": {
    "execution": {
     "iopub.execute_input": "2025-07-30T20:18:00.963747Z",
     "iopub.status.busy": "2025-07-30T20:18:00.963327Z",
     "iopub.status.idle": "2025-07-30T20:18:00.968279Z",
     "shell.execute_reply": "2025-07-30T20:18:00.967149Z"
    },
    "papermill": {
     "duration": 0.027223,
     "end_time": "2025-07-30T20:18:00.969810",
     "exception": false,
     "start_time": "2025-07-30T20:18:00.942587",
     "status": "completed"
    },
    "tags": []
   },
   "outputs": [],
   "source": [
    "#siab_train.shape"
   ]
  },
  {
   "cell_type": "code",
   "execution_count": 19,
   "id": "d582db68-1a4c-47fb-84fc-08518dc1975a",
   "metadata": {
    "execution": {
     "iopub.execute_input": "2025-07-30T20:18:01.011937Z",
     "iopub.status.busy": "2025-07-30T20:18:01.011363Z",
     "iopub.status.idle": "2025-07-30T20:18:01.016657Z",
     "shell.execute_reply": "2025-07-30T20:18:01.015619Z"
    },
    "papermill": {
     "duration": 0.028131,
     "end_time": "2025-07-30T20:18:01.018115",
     "exception": false,
     "start_time": "2025-07-30T20:18:00.989984",
     "status": "completed"
    },
    "tags": []
   },
   "outputs": [],
   "source": [
    "#display(siab_train.groupby(\"year\").size())"
   ]
  },
  {
   "cell_type": "code",
   "execution_count": 20,
   "id": "a561edb4-d032-42cb-8256-22eac1111c64",
   "metadata": {
    "execution": {
     "iopub.execute_input": "2025-07-30T20:18:01.059191Z",
     "iopub.status.busy": "2025-07-30T20:18:01.058708Z",
     "iopub.status.idle": "2025-07-30T20:18:01.327598Z",
     "shell.execute_reply": "2025-07-30T20:18:01.326680Z"
    },
    "papermill": {
     "duration": 0.291286,
     "end_time": "2025-07-30T20:18:01.329435",
     "exception": false,
     "start_time": "2025-07-30T20:18:01.038149",
     "status": "completed"
    },
    "tags": []
   },
   "outputs": [],
   "source": [
    "#siab_train = siab_s[siab_s.year < 2015]\n",
    "siab_calib = siab[siab.year == 2015]\n",
    "siab_test = siab[siab.year == 2016]"
   ]
  },
  {
   "cell_type": "code",
   "execution_count": 21,
   "id": "472de16f-c3db-4916-846b-1f0de9cf1746",
   "metadata": {
    "execution": {
     "iopub.execute_input": "2025-07-30T20:18:01.372056Z",
     "iopub.status.busy": "2025-07-30T20:18:01.371354Z",
     "iopub.status.idle": "2025-07-30T20:18:01.385933Z",
     "shell.execute_reply": "2025-07-30T20:18:01.384980Z"
    },
    "papermill": {
     "duration": 0.037543,
     "end_time": "2025-07-30T20:18:01.387440",
     "exception": false,
     "start_time": "2025-07-30T20:18:01.349897",
     "status": "completed"
    },
    "tags": []
   },
   "outputs": [],
   "source": [
    "X_train = siab_train.iloc[:,4:164]\n",
    "y_train = siab_train.iloc[:, [3]]"
   ]
  },
  {
   "cell_type": "code",
   "execution_count": 22,
   "id": "828c96af-f43a-4ed6-ba47-8ac73a47d56c",
   "metadata": {
    "execution": {
     "iopub.execute_input": "2025-07-30T20:18:01.431528Z",
     "iopub.status.busy": "2025-07-30T20:18:01.430981Z",
     "iopub.status.idle": "2025-07-30T20:18:01.482221Z",
     "shell.execute_reply": "2025-07-30T20:18:01.481158Z"
    },
    "papermill": {
     "duration": 0.074032,
     "end_time": "2025-07-30T20:18:01.484014",
     "exception": false,
     "start_time": "2025-07-30T20:18:01.409982",
     "status": "completed"
    },
    "tags": []
   },
   "outputs": [],
   "source": [
    "X_calib = siab_calib.iloc[:,4:164]\n",
    "y_calib = siab_calib.iloc[:, [3]]"
   ]
  },
  {
   "cell_type": "code",
   "execution_count": 23,
   "id": "c34be9c3-6bd6-476e-acd3-845840e303be",
   "metadata": {
    "execution": {
     "iopub.execute_input": "2025-07-30T20:18:01.528732Z",
     "iopub.status.busy": "2025-07-30T20:18:01.527837Z",
     "iopub.status.idle": "2025-07-30T20:18:01.578185Z",
     "shell.execute_reply": "2025-07-30T20:18:01.577249Z"
    },
    "papermill": {
     "duration": 0.07477,
     "end_time": "2025-07-30T20:18:01.580295",
     "exception": false,
     "start_time": "2025-07-30T20:18:01.505525",
     "status": "completed"
    },
    "tags": []
   },
   "outputs": [],
   "source": [
    "X_test = siab_test.iloc[:,4:164]\n",
    "y_true = siab_test.iloc[:, [3]]"
   ]
  },
  {
   "cell_type": "markdown",
   "id": "9901737e-04df-44f0-9100-f5ad144ed040",
   "metadata": {
    "papermill": {
     "duration": 0.020963,
     "end_time": "2025-07-30T20:18:01.624109",
     "exception": false,
     "start_time": "2025-07-30T20:18:01.603146",
     "status": "completed"
    },
    "tags": []
   },
   "source": [
    "# Splitting Data and Setting Training Data Size OLD VERSION"
   ]
  },
  {
   "cell_type": "code",
   "execution_count": 24,
   "id": "acbc8f7d-8fc8-4e86-8c59-5dcb0f58384b",
   "metadata": {
    "execution": {
     "iopub.execute_input": "2025-07-30T20:18:01.669054Z",
     "iopub.status.busy": "2025-07-30T20:18:01.668405Z",
     "iopub.status.idle": "2025-07-30T20:18:01.674634Z",
     "shell.execute_reply": "2025-07-30T20:18:01.673664Z"
    },
    "papermill": {
     "duration": 0.030614,
     "end_time": "2025-07-30T20:18:01.676089",
     "exception": false,
     "start_time": "2025-07-30T20:18:01.645475",
     "status": "completed"
    },
    "tags": []
   },
   "outputs": [],
   "source": [
    "#def sample_by_year(df, training_size, random_state=42):\n",
    "#    if training_size == \"2014\":\n",
    "#        return df[df[\"year\"] == 2014].reset_index(drop=True)\n",
    "#    \n",
    "#    size_map = {\n",
    "#        \"25k\": 5000,\n",
    "#        \"5k\": 1000,\n",
    "#        \"1k\": 200\n",
    "#    }\n",
    "#\n",
    "#    if training_size not in size_map:\n",
    "#        return df.reset_index(drop=True)  # use all data\n",
    "#\n",
    "#    n_per_year = size_map[training_size]\n",
    "#    grouped = df.groupby(\"year\")\n",
    "#    sampled = grouped.apply(lambda x: x.sample(n=min(n_per_year, len(x)), random_state=random_state))\n",
    "#    return sampled.reset_index(drop=True)"
   ]
  },
  {
   "cell_type": "code",
   "execution_count": 25,
   "id": "6d931f52-beaf-43ff-9e78-9d44a448d54e",
   "metadata": {
    "execution": {
     "iopub.execute_input": "2025-07-30T20:18:01.721112Z",
     "iopub.status.busy": "2025-07-30T20:18:01.720649Z",
     "iopub.status.idle": "2025-07-30T20:18:01.725798Z",
     "shell.execute_reply": "2025-07-30T20:18:01.724881Z"
    },
    "papermill": {
     "duration": 0.029733,
     "end_time": "2025-07-30T20:18:01.727648",
     "exception": false,
     "start_time": "2025-07-30T20:18:01.697915",
     "status": "completed"
    },
    "tags": []
   },
   "outputs": [],
   "source": [
    "#siab_s = sample_by_year(siab, universe[\"training_size\"])"
   ]
  },
  {
   "cell_type": "code",
   "execution_count": 26,
   "id": "5db0a40e-a4e2-4920-be85-b12ae061d70d",
   "metadata": {
    "execution": {
     "iopub.execute_input": "2025-07-30T20:18:01.773171Z",
     "iopub.status.busy": "2025-07-30T20:18:01.772489Z",
     "iopub.status.idle": "2025-07-30T20:18:01.777625Z",
     "shell.execute_reply": "2025-07-30T20:18:01.776698Z"
    },
    "papermill": {
     "duration": 0.029482,
     "end_time": "2025-07-30T20:18:01.779200",
     "exception": false,
     "start_time": "2025-07-30T20:18:01.749718",
     "status": "completed"
    },
    "tags": []
   },
   "outputs": [],
   "source": [
    "#display(siab_s.groupby(\"year\").size())"
   ]
  },
  {
   "cell_type": "code",
   "execution_count": 27,
   "id": "e6c733c5",
   "metadata": {
    "execution": {
     "iopub.execute_input": "2025-07-30T20:18:01.824903Z",
     "iopub.status.busy": "2025-07-30T20:18:01.824411Z",
     "iopub.status.idle": "2025-07-30T20:18:01.921347Z",
     "shell.execute_reply": "2025-07-30T20:18:01.920382Z"
    },
    "papermill": {
     "duration": 0.121302,
     "end_time": "2025-07-30T20:18:01.923317",
     "exception": false,
     "start_time": "2025-07-30T20:18:01.802015",
     "status": "completed"
    },
    "tags": []
   },
   "outputs": [],
   "source": [
    "# Auxiliary data needed downstream in the pipeline\n",
    "\n",
    "org_train = X_train.copy()\n",
    "org_test = X_test.copy()\n",
    "org_calib = X_calib.copy()"
   ]
  },
  {
   "cell_type": "code",
   "execution_count": 28,
   "id": "1466abac-c6da-4492-a62f-4240ae3783af",
   "metadata": {
    "execution": {
     "iopub.execute_input": "2025-07-30T20:18:01.969444Z",
     "iopub.status.busy": "2025-07-30T20:18:01.968618Z",
     "iopub.status.idle": "2025-07-30T20:18:01.974227Z",
     "shell.execute_reply": "2025-07-30T20:18:01.973373Z"
    },
    "papermill": {
     "duration": 0.029983,
     "end_time": "2025-07-30T20:18:01.975881",
     "exception": false,
     "start_time": "2025-07-30T20:18:01.945898",
     "status": "completed"
    },
    "tags": []
   },
   "outputs": [],
   "source": [
    "# put in other script?\n",
    "# Group sizes\n",
    "\n",
    "#def calculate_percentages(df, df_name):\n",
    "#    total_entries = len(df)\n",
    "#\n",
    "#    female_pct = (df['frau1'] == 1).mean() * 100\n",
    "#    non_german_pct = ((df['maxdeutsch1'] == 0) & (df['maxdeutsch.Missing.'] == 0)).mean() * 100\n",
    "#    non_german_male_pct = ((df['frau1'] == 0) & (df['maxdeutsch1'] == 0) & (df['maxdeutsch.Missing.'] == 0)).mean() * 100\n",
    "#    non_german_female_pct = ((df['frau1'] == 1) & (df['maxdeutsch1'] == 0) & (df['maxdeutsch.Missing.'] == 0)).mean() * 100\n",
    "#\n",
    "#    print(f\"--- {df_name} ---\")\n",
    "#    print(f\"Female: {female_pct:.2f}%\")\n",
    "#    print(f\"Non-German: {non_german_pct:.2f}%\")\n",
    "#    print(f\"Non-German Male: {non_german_male_pct:.2f}%\")\n",
    "#    print(f\"Non-German Female: {non_german_female_pct:.2f}%\\n\")\n",
    "#\n",
    "## Calculate for each DataFrame\n",
    "#calculate_percentages(siab_calib, \"siab_calib\")\n",
    "#calculate_percentages(siab_test, \"siab_test\")\n",
    "#calculate_percentages(siab_train, \"siab_train\")"
   ]
  },
  {
   "cell_type": "markdown",
   "id": "0a4a1b33",
   "metadata": {
    "papermill": {
     "duration": 0.022586,
     "end_time": "2025-07-30T20:18:02.019835",
     "exception": false,
     "start_time": "2025-07-30T20:18:01.997249",
     "status": "completed"
    },
    "tags": []
   },
   "source": [
    "# Preprocessing Data"
   ]
  },
  {
   "cell_type": "code",
   "execution_count": 29,
   "id": "ca879031",
   "metadata": {
    "execution": {
     "iopub.execute_input": "2025-07-30T20:18:02.063144Z",
     "iopub.status.busy": "2025-07-30T20:18:02.062467Z",
     "iopub.status.idle": "2025-07-30T20:18:02.068557Z",
     "shell.execute_reply": "2025-07-30T20:18:02.067627Z"
    },
    "papermill": {
     "duration": 0.029368,
     "end_time": "2025-07-30T20:18:02.070136",
     "exception": false,
     "start_time": "2025-07-30T20:18:02.040768",
     "status": "completed"
    },
    "tags": []
   },
   "outputs": [],
   "source": [
    "# EXCLUDE PROTECTED FEATURES\n",
    "# ----------------------\n",
    "# \"exclude_features\": \"none\", # \"nationality\", \"sex\", \"nationality-sex\"\n",
    "\n",
    "excluded_features = universe[\"exclude_features\"].split(\"-\") # split, e.g.: \"nationality-sex\" -> [\"nationality\", \"sex\"]\n",
    "excluded_features_dictionary = {\n",
    "    \"nationality\": [\"maxdeutsch1\", \"maxdeutsch.Missing.\"],\n",
    "    \"sex\": [\"frau1\"],\n",
    "    \"age\": [\"age\"],\n",
    "}\n"
   ]
  },
  {
   "cell_type": "code",
   "execution_count": 30,
   "id": "b745ac60",
   "metadata": {
    "execution": {
     "iopub.execute_input": "2025-07-30T20:18:02.115256Z",
     "iopub.status.busy": "2025-07-30T20:18:02.114329Z",
     "iopub.status.idle": "2025-07-30T20:18:02.120194Z",
     "shell.execute_reply": "2025-07-30T20:18:02.119280Z"
    },
    "papermill": {
     "duration": 0.029429,
     "end_time": "2025-07-30T20:18:02.122025",
     "exception": false,
     "start_time": "2025-07-30T20:18:02.092596",
     "status": "completed"
    },
    "tags": []
   },
   "outputs": [],
   "source": [
    "# Code nice names to column names\n",
    "\n",
    "excluded_features_columns = [\n",
    "    excluded_features_dictionary[f] for f in excluded_features if len(f) > 0 and f != \"none\"\n",
    "]"
   ]
  },
  {
   "cell_type": "code",
   "execution_count": 31,
   "id": "f84f73a2",
   "metadata": {
    "execution": {
     "iopub.execute_input": "2025-07-30T20:18:02.169825Z",
     "iopub.status.busy": "2025-07-30T20:18:02.169323Z",
     "iopub.status.idle": "2025-07-30T20:18:02.175756Z",
     "shell.execute_reply": "2025-07-30T20:18:02.174805Z"
    },
    "papermill": {
     "duration": 0.030617,
     "end_time": "2025-07-30T20:18:02.177320",
     "exception": false,
     "start_time": "2025-07-30T20:18:02.146703",
     "status": "completed"
    },
    "tags": []
   },
   "outputs": [],
   "source": [
    "from utils import flatten_once\n",
    "\n",
    "excluded_features_columns = flatten_once(excluded_features_columns)"
   ]
  },
  {
   "cell_type": "code",
   "execution_count": 32,
   "id": "884dea22",
   "metadata": {
    "execution": {
     "iopub.execute_input": "2025-07-30T20:18:02.221553Z",
     "iopub.status.busy": "2025-07-30T20:18:02.220997Z",
     "iopub.status.idle": "2025-07-30T20:18:02.237257Z",
     "shell.execute_reply": "2025-07-30T20:18:02.236257Z"
    },
    "papermill": {
     "duration": 0.040535,
     "end_time": "2025-07-30T20:18:02.238884",
     "exception": false,
     "start_time": "2025-07-30T20:18:02.198349",
     "status": "completed"
    },
    "tags": []
   },
   "outputs": [
    {
     "name": "stdout",
     "output_type": "stream",
     "text": [
      "Dropping features: ['maxdeutsch1', 'maxdeutsch.Missing.']\n"
     ]
    }
   ],
   "source": [
    "if len(excluded_features_columns) > 0:\n",
    "    print(f\"Dropping features: {excluded_features_columns}\")\n",
    "    X_train.drop(excluded_features_columns, axis=1, inplace=True)"
   ]
  },
  {
   "cell_type": "code",
   "execution_count": 33,
   "id": "95ab8b16",
   "metadata": {
    "execution": {
     "iopub.execute_input": "2025-07-30T20:18:02.284659Z",
     "iopub.status.busy": "2025-07-30T20:18:02.283891Z",
     "iopub.status.idle": "2025-07-30T20:18:02.338420Z",
     "shell.execute_reply": "2025-07-30T20:18:02.337223Z"
    },
    "papermill": {
     "duration": 0.078425,
     "end_time": "2025-07-30T20:18:02.340116",
     "exception": false,
     "start_time": "2025-07-30T20:18:02.261691",
     "status": "completed"
    },
    "tags": []
   },
   "outputs": [
    {
     "name": "stdout",
     "output_type": "stream",
     "text": [
      "Dropping features: ['maxdeutsch1', 'maxdeutsch.Missing.']\n"
     ]
    }
   ],
   "source": [
    "if len(excluded_features_columns) > 0:\n",
    "    print(f\"Dropping features: {excluded_features_columns}\")\n",
    "    X_test.drop(excluded_features_columns, axis=1, inplace=True)"
   ]
  },
  {
   "cell_type": "code",
   "execution_count": 34,
   "id": "1853aaf5-fb9f-46cb-a2b5-8ea4ae2237e4",
   "metadata": {
    "execution": {
     "iopub.execute_input": "2025-07-30T20:18:02.388474Z",
     "iopub.status.busy": "2025-07-30T20:18:02.387511Z",
     "iopub.status.idle": "2025-07-30T20:18:02.441296Z",
     "shell.execute_reply": "2025-07-30T20:18:02.440122Z"
    },
    "papermill": {
     "duration": 0.079708,
     "end_time": "2025-07-30T20:18:02.443036",
     "exception": false,
     "start_time": "2025-07-30T20:18:02.363328",
     "status": "completed"
    },
    "tags": []
   },
   "outputs": [
    {
     "name": "stdout",
     "output_type": "stream",
     "text": [
      "Dropping features: ['maxdeutsch1', 'maxdeutsch.Missing.']\n"
     ]
    }
   ],
   "source": [
    "if len(excluded_features_columns) > 0:\n",
    "    print(f\"Dropping features: {excluded_features_columns}\")\n",
    "    X_calib.drop(excluded_features_columns, axis=1, inplace=True)"
   ]
  },
  {
   "cell_type": "code",
   "execution_count": 35,
   "id": "6727d079-03e5-481e-9d38-292a90b7a0a8",
   "metadata": {
    "execution": {
     "iopub.execute_input": "2025-07-30T20:18:02.491714Z",
     "iopub.status.busy": "2025-07-30T20:18:02.491129Z",
     "iopub.status.idle": "2025-07-30T20:18:02.496409Z",
     "shell.execute_reply": "2025-07-30T20:18:02.495331Z"
    },
    "papermill": {
     "duration": 0.031051,
     "end_time": "2025-07-30T20:18:02.498080",
     "exception": false,
     "start_time": "2025-07-30T20:18:02.467029",
     "status": "completed"
    },
    "tags": []
   },
   "outputs": [],
   "source": [
    "# SPLIT & STRATIFY DATA\n",
    "# ----------------------"
   ]
  },
  {
   "cell_type": "code",
   "execution_count": 36,
   "id": "76c4dc6d",
   "metadata": {
    "execution": {
     "iopub.execute_input": "2025-07-30T20:18:02.547902Z",
     "iopub.status.busy": "2025-07-30T20:18:02.547192Z",
     "iopub.status.idle": "2025-07-30T20:18:02.552814Z",
     "shell.execute_reply": "2025-07-30T20:18:02.551837Z"
    },
    "papermill": {
     "duration": 0.031788,
     "end_time": "2025-07-30T20:18:02.554433",
     "exception": false,
     "start_time": "2025-07-30T20:18:02.522645",
     "status": "completed"
    },
    "tags": []
   },
   "outputs": [],
   "source": [
    "# EXCLUDE CERTAIN SUBGROUPS\n",
    "# ----------------------\n",
    "\n",
    "mode = universe.get(\"exclude_subgroups\", \"keep-all\") \n",
    "# Fetches the exclude_subgroups setting from the universe dict.\n",
    "# Defaults to \"keep-all\" if the key is missing."
   ]
  },
  {
   "cell_type": "code",
   "execution_count": 37,
   "id": "21994072",
   "metadata": {
    "execution": {
     "iopub.execute_input": "2025-07-30T20:18:02.602886Z",
     "iopub.status.busy": "2025-07-30T20:18:02.601837Z",
     "iopub.status.idle": "2025-07-30T20:18:02.609105Z",
     "shell.execute_reply": "2025-07-30T20:18:02.608105Z"
    },
    "papermill": {
     "duration": 0.033109,
     "end_time": "2025-07-30T20:18:02.610733",
     "exception": false,
     "start_time": "2025-07-30T20:18:02.577624",
     "status": "completed"
    },
    "tags": []
   },
   "outputs": [],
   "source": [
    "if mode == \"keep-all\":\n",
    "    keep_mask = pd.Series(True, index=org_train.index)\n",
    "\n",
    "# org_train contains the original feature columns from features_org (in Simson)\n",
    "# features_org contains unprocessed features, for me X_train at beginning ???\n",
    "# For keep-all, creates a boolean Series (keep_mask) of all True, so no rows are removed.\n",
    "\n",
    "elif mode == \"drop-non-german\":\n",
    "    keep_mask = org_train[\"maxdeutsch1\"] == 1 # ??? what about missing values?\n",
    "\n",
    "else:\n",
    "    raise ValueError(f\"Unsupported mode for exclude_subgroups: {mode}\")\n"
   ]
  },
  {
   "cell_type": "code",
   "execution_count": 38,
   "id": "71651440",
   "metadata": {
    "execution": {
     "iopub.execute_input": "2025-07-30T20:18:02.659600Z",
     "iopub.status.busy": "2025-07-30T20:18:02.658664Z",
     "iopub.status.idle": "2025-07-30T20:18:02.666446Z",
     "shell.execute_reply": "2025-07-30T20:18:02.665465Z"
    },
    "papermill": {
     "duration": 0.033698,
     "end_time": "2025-07-30T20:18:02.668232",
     "exception": false,
     "start_time": "2025-07-30T20:18:02.634534",
     "status": "completed"
    },
    "tags": []
   },
   "outputs": [
    {
     "name": "stdout",
     "output_type": "stream",
     "text": [
      "Dropping 3481 rows (13.92%) where mode='drop-non-german'\n"
     ]
    }
   ],
   "source": [
    "n_drop = (~keep_mask).sum() # Calculates how many rows are set to be dropped\n",
    "if n_drop > 0:\n",
    "    pct = n_drop / len(keep_mask) * 100\n",
    "    print(f\"Dropping {n_drop} rows ({pct:.2f}%) where mode='{mode}'\")"
   ]
  },
  {
   "cell_type": "code",
   "execution_count": 39,
   "id": "5fb8eee5",
   "metadata": {
    "execution": {
     "iopub.execute_input": "2025-07-30T20:18:02.722507Z",
     "iopub.status.busy": "2025-07-30T20:18:02.722003Z",
     "iopub.status.idle": "2025-07-30T20:18:02.736632Z",
     "shell.execute_reply": "2025-07-30T20:18:02.735629Z"
    },
    "papermill": {
     "duration": 0.041761,
     "end_time": "2025-07-30T20:18:02.738585",
     "exception": false,
     "start_time": "2025-07-30T20:18:02.696824",
     "status": "completed"
    },
    "tags": []
   },
   "outputs": [],
   "source": [
    "X_train = X_train[keep_mask]"
   ]
  },
  {
   "cell_type": "code",
   "execution_count": 40,
   "id": "b202bb3a",
   "metadata": {
    "execution": {
     "iopub.execute_input": "2025-07-30T20:18:02.788195Z",
     "iopub.status.busy": "2025-07-30T20:18:02.787480Z",
     "iopub.status.idle": "2025-07-30T20:18:02.794309Z",
     "shell.execute_reply": "2025-07-30T20:18:02.793457Z"
    },
    "papermill": {
     "duration": 0.033202,
     "end_time": "2025-07-30T20:18:02.795782",
     "exception": false,
     "start_time": "2025-07-30T20:18:02.762580",
     "status": "completed"
    },
    "tags": []
   },
   "outputs": [],
   "source": [
    "y_train = y_train[keep_mask]"
   ]
  },
  {
   "cell_type": "markdown",
   "id": "493e2ac3",
   "metadata": {
    "papermill": {
     "duration": 0.023043,
     "end_time": "2025-07-30T20:18:02.842017",
     "exception": false,
     "start_time": "2025-07-30T20:18:02.818974",
     "status": "completed"
    },
    "tags": []
   },
   "source": [
    "# Model Training"
   ]
  },
  {
   "cell_type": "code",
   "execution_count": 41,
   "id": "679e1268",
   "metadata": {
    "execution": {
     "iopub.execute_input": "2025-07-30T20:18:02.886709Z",
     "iopub.status.busy": "2025-07-30T20:18:02.885916Z",
     "iopub.status.idle": "2025-07-30T20:18:02.989259Z",
     "shell.execute_reply": "2025-07-30T20:18:02.988360Z"
    },
    "papermill": {
     "duration": 0.127945,
     "end_time": "2025-07-30T20:18:02.991036",
     "exception": false,
     "start_time": "2025-07-30T20:18:02.863091",
     "status": "completed"
    },
    "tags": []
   },
   "outputs": [],
   "source": [
    "from sklearn.linear_model import LogisticRegression\n",
    "from sklearn.ensemble import GradientBoostingClassifier, RandomForestClassifier\n",
    "\n",
    "if (universe[\"model\"] == \"logreg\"):\n",
    "    model = LogisticRegression() #penalty=\"none\") #, solver=\"newton-cg\", max_iter=1) # include random_state=19 ?\n",
    "elif (universe[\"model\"] == \"penalized_logreg\"):\n",
    "    model = LogisticRegression(penalty=\"l2\", C=1.0) #, solver=\"newton-cg\", max_iter=1)\n",
    "elif (universe[\"model\"] == \"rf\"):\n",
    "    model = RandomForestClassifier(n_estimators=100, n_jobs=-1)\n",
    "elif (universe[\"model\"] == \"gbm\"):\n",
    "    model = GradientBoostingClassifier()\n",
    "elif (universe[\"model\"] == \"elasticnet\"):\n",
    "    model = LogisticRegression(penalty = 'elasticnet', solver = 'saga', l1_ratio = 0.5, max_iter=5000) # which solver to use?\n",
    "else:\n",
    "    raise \"Unsupported universe.model\""
   ]
  },
  {
   "cell_type": "code",
   "execution_count": 42,
   "id": "0cc8f744",
   "metadata": {
    "execution": {
     "iopub.execute_input": "2025-07-30T20:18:03.039376Z",
     "iopub.status.busy": "2025-07-30T20:18:03.038914Z",
     "iopub.status.idle": "2025-07-30T20:18:03.045000Z",
     "shell.execute_reply": "2025-07-30T20:18:03.044093Z"
    },
    "papermill": {
     "duration": 0.03236,
     "end_time": "2025-07-30T20:18:03.046633",
     "exception": false,
     "start_time": "2025-07-30T20:18:03.014273",
     "status": "completed"
    },
    "tags": []
   },
   "outputs": [],
   "source": [
    "import numpy as np\n",
    "from sklearn.pipeline import Pipeline\n",
    "from sklearn.preprocessing import StandardScaler\n",
    "\n",
    "model = Pipeline([\n",
    "    #(\"continuous_processor\", continuous_processor),\n",
    "    #(\"categorical_preprocessor\", categorical_preprocessor),\n",
    "    (\"scale\", StandardScaler() if universe[\"scale\"] == \"scale\" else None), \n",
    "    (\"model\", model),\n",
    "])"
   ]
  },
  {
   "cell_type": "code",
   "execution_count": 43,
   "id": "9442c04d",
   "metadata": {
    "execution": {
     "iopub.execute_input": "2025-07-30T20:18:03.093475Z",
     "iopub.status.busy": "2025-07-30T20:18:03.093090Z",
     "iopub.status.idle": "2025-07-30T20:18:06.259690Z",
     "shell.execute_reply": "2025-07-30T20:18:06.258875Z"
    },
    "papermill": {
     "duration": 3.191812,
     "end_time": "2025-07-30T20:18:06.260915",
     "exception": false,
     "start_time": "2025-07-30T20:18:03.069103",
     "status": "completed"
    },
    "tags": []
   },
   "outputs": [
    {
     "data": {
      "text/html": [
       "<style>#sk-container-id-1 {color: black;background-color: white;}#sk-container-id-1 pre{padding: 0;}#sk-container-id-1 div.sk-toggleable {background-color: white;}#sk-container-id-1 label.sk-toggleable__label {cursor: pointer;display: block;width: 100%;margin-bottom: 0;padding: 0.3em;box-sizing: border-box;text-align: center;}#sk-container-id-1 label.sk-toggleable__label-arrow:before {content: \"▸\";float: left;margin-right: 0.25em;color: #696969;}#sk-container-id-1 label.sk-toggleable__label-arrow:hover:before {color: black;}#sk-container-id-1 div.sk-estimator:hover label.sk-toggleable__label-arrow:before {color: black;}#sk-container-id-1 div.sk-toggleable__content {max-height: 0;max-width: 0;overflow: hidden;text-align: left;background-color: #f0f8ff;}#sk-container-id-1 div.sk-toggleable__content pre {margin: 0.2em;color: black;border-radius: 0.25em;background-color: #f0f8ff;}#sk-container-id-1 input.sk-toggleable__control:checked~div.sk-toggleable__content {max-height: 200px;max-width: 100%;overflow: auto;}#sk-container-id-1 input.sk-toggleable__control:checked~label.sk-toggleable__label-arrow:before {content: \"▾\";}#sk-container-id-1 div.sk-estimator input.sk-toggleable__control:checked~label.sk-toggleable__label {background-color: #d4ebff;}#sk-container-id-1 div.sk-label input.sk-toggleable__control:checked~label.sk-toggleable__label {background-color: #d4ebff;}#sk-container-id-1 input.sk-hidden--visually {border: 0;clip: rect(1px 1px 1px 1px);clip: rect(1px, 1px, 1px, 1px);height: 1px;margin: -1px;overflow: hidden;padding: 0;position: absolute;width: 1px;}#sk-container-id-1 div.sk-estimator {font-family: monospace;background-color: #f0f8ff;border: 1px dotted black;border-radius: 0.25em;box-sizing: border-box;margin-bottom: 0.5em;}#sk-container-id-1 div.sk-estimator:hover {background-color: #d4ebff;}#sk-container-id-1 div.sk-parallel-item::after {content: \"\";width: 100%;border-bottom: 1px solid gray;flex-grow: 1;}#sk-container-id-1 div.sk-label:hover label.sk-toggleable__label {background-color: #d4ebff;}#sk-container-id-1 div.sk-serial::before {content: \"\";position: absolute;border-left: 1px solid gray;box-sizing: border-box;top: 0;bottom: 0;left: 50%;z-index: 0;}#sk-container-id-1 div.sk-serial {display: flex;flex-direction: column;align-items: center;background-color: white;padding-right: 0.2em;padding-left: 0.2em;position: relative;}#sk-container-id-1 div.sk-item {position: relative;z-index: 1;}#sk-container-id-1 div.sk-parallel {display: flex;align-items: stretch;justify-content: center;background-color: white;position: relative;}#sk-container-id-1 div.sk-item::before, #sk-container-id-1 div.sk-parallel-item::before {content: \"\";position: absolute;border-left: 1px solid gray;box-sizing: border-box;top: 0;bottom: 0;left: 50%;z-index: -1;}#sk-container-id-1 div.sk-parallel-item {display: flex;flex-direction: column;z-index: 1;position: relative;background-color: white;}#sk-container-id-1 div.sk-parallel-item:first-child::after {align-self: flex-end;width: 50%;}#sk-container-id-1 div.sk-parallel-item:last-child::after {align-self: flex-start;width: 50%;}#sk-container-id-1 div.sk-parallel-item:only-child::after {width: 0;}#sk-container-id-1 div.sk-dashed-wrapped {border: 1px dashed gray;margin: 0 0.4em 0.5em 0.4em;box-sizing: border-box;padding-bottom: 0.4em;background-color: white;}#sk-container-id-1 div.sk-label label {font-family: monospace;font-weight: bold;display: inline-block;line-height: 1.2em;}#sk-container-id-1 div.sk-label-container {text-align: center;}#sk-container-id-1 div.sk-container {/* jupyter's `normalize.less` sets `[hidden] { display: none; }` but bootstrap.min.css set `[hidden] { display: none !important; }` so we also need the `!important` here to be able to override the default hidden behavior on the sphinx rendered scikit-learn.org. See: https://github.com/scikit-learn/scikit-learn/issues/21755 */display: inline-block !important;position: relative;}#sk-container-id-1 div.sk-text-repr-fallback {display: none;}</style><div id=\"sk-container-id-1\" class=\"sk-top-container\"><div class=\"sk-text-repr-fallback\"><pre>Pipeline(steps=[(&#x27;scale&#x27;, None), (&#x27;model&#x27;, RandomForestClassifier(n_jobs=-1))])</pre><b>In a Jupyter environment, please rerun this cell to show the HTML representation or trust the notebook. <br />On GitHub, the HTML representation is unable to render, please try loading this page with nbviewer.org.</b></div><div class=\"sk-container\" hidden><div class=\"sk-item sk-dashed-wrapped\"><div class=\"sk-label-container\"><div class=\"sk-label sk-toggleable\"><input class=\"sk-toggleable__control sk-hidden--visually\" id=\"sk-estimator-id-1\" type=\"checkbox\" ><label for=\"sk-estimator-id-1\" class=\"sk-toggleable__label sk-toggleable__label-arrow\">Pipeline</label><div class=\"sk-toggleable__content\"><pre>Pipeline(steps=[(&#x27;scale&#x27;, None), (&#x27;model&#x27;, RandomForestClassifier(n_jobs=-1))])</pre></div></div></div><div class=\"sk-serial\"><div class=\"sk-item\"><div class=\"sk-estimator sk-toggleable\"><input class=\"sk-toggleable__control sk-hidden--visually\" id=\"sk-estimator-id-2\" type=\"checkbox\" ><label for=\"sk-estimator-id-2\" class=\"sk-toggleable__label sk-toggleable__label-arrow\">None</label><div class=\"sk-toggleable__content\"><pre>None</pre></div></div></div><div class=\"sk-item\"><div class=\"sk-estimator sk-toggleable\"><input class=\"sk-toggleable__control sk-hidden--visually\" id=\"sk-estimator-id-3\" type=\"checkbox\" ><label for=\"sk-estimator-id-3\" class=\"sk-toggleable__label sk-toggleable__label-arrow\">RandomForestClassifier</label><div class=\"sk-toggleable__content\"><pre>RandomForestClassifier(n_jobs=-1)</pre></div></div></div></div></div></div></div>"
      ],
      "text/plain": [
       "Pipeline(steps=[('scale', None), ('model', RandomForestClassifier(n_jobs=-1))])"
      ]
     },
     "execution_count": 43,
     "metadata": {},
     "output_type": "execute_result"
    }
   ],
   "source": [
    "model.fit(X_train, y_train.values.ravel())"
   ]
  },
  {
   "cell_type": "code",
   "execution_count": 44,
   "id": "af59f8c0",
   "metadata": {
    "execution": {
     "iopub.execute_input": "2025-07-30T20:18:06.288498Z",
     "iopub.status.busy": "2025-07-30T20:18:06.287959Z",
     "iopub.status.idle": "2025-07-30T20:18:06.292763Z",
     "shell.execute_reply": "2025-07-30T20:18:06.292000Z"
    },
    "papermill": {
     "duration": 0.020556,
     "end_time": "2025-07-30T20:18:06.295039",
     "exception": false,
     "start_time": "2025-07-30T20:18:06.274483",
     "status": "completed"
    },
    "tags": []
   },
   "outputs": [],
   "source": [
    "from fairness_multiverse.universe import predict_w_threshold"
   ]
  },
  {
   "cell_type": "code",
   "execution_count": 45,
   "id": "a7cf2e16",
   "metadata": {
    "execution": {
     "iopub.execute_input": "2025-07-30T20:18:06.324643Z",
     "iopub.status.busy": "2025-07-30T20:18:06.324103Z",
     "iopub.status.idle": "2025-07-30T20:18:07.345674Z",
     "shell.execute_reply": "2025-07-30T20:18:07.344708Z"
    },
    "papermill": {
     "duration": 1.036932,
     "end_time": "2025-07-30T20:18:07.347302",
     "exception": false,
     "start_time": "2025-07-30T20:18:06.310370",
     "status": "completed"
    },
    "tags": []
   },
   "outputs": [
    {
     "data": {
      "text/plain": [
       "0.8657451789098205"
      ]
     },
     "execution_count": 45,
     "metadata": {},
     "output_type": "execute_result"
    }
   ],
   "source": [
    "probs_test = model.predict_proba(X_test)\n",
    "\n",
    "'''\n",
    "Below code returns a boolean array (or binary 0/1 array depending on how it’s used) where each element \n",
    "is True if the probability of class 1 is greater than or equal to the threshold, and False otherwise.\n",
    "'''\n",
    "y_pred_default = predict_w_threshold(probs_test, 0.5)\n",
    "\n",
    "from sklearn.metrics import accuracy_score\n",
    "\n",
    "# Naive prediction\n",
    "accuracy_score(y_true = y_true, y_pred = y_pred_default)"
   ]
  },
  {
   "cell_type": "code",
   "execution_count": 46,
   "id": "081964c3",
   "metadata": {
    "execution": {
     "iopub.execute_input": "2025-07-30T20:18:07.398842Z",
     "iopub.status.busy": "2025-07-30T20:18:07.397947Z",
     "iopub.status.idle": "2025-07-30T20:18:08.490582Z",
     "shell.execute_reply": "2025-07-30T20:18:08.489425Z"
    },
    "papermill": {
     "duration": 1.120722,
     "end_time": "2025-07-30T20:18:08.492342",
     "exception": false,
     "start_time": "2025-07-30T20:18:07.371620",
     "status": "completed"
    },
    "tags": []
   },
   "outputs": [
    {
     "data": {
      "text/plain": [
       "array([0, 0, 0, ..., 0, 0, 0])"
      ]
     },
     "execution_count": 46,
     "metadata": {},
     "output_type": "execute_result"
    }
   ],
   "source": [
    "model.predict(X_test)"
   ]
  },
  {
   "cell_type": "markdown",
   "id": "56c9705b",
   "metadata": {
    "papermill": {
     "duration": 0.024086,
     "end_time": "2025-07-30T20:18:08.545158",
     "exception": false,
     "start_time": "2025-07-30T20:18:08.521072",
     "status": "completed"
    },
    "tags": []
   },
   "source": [
    "# Conformal Prediction"
   ]
  },
  {
   "cell_type": "code",
   "execution_count": 47,
   "id": "160ec6ff",
   "metadata": {
    "execution": {
     "iopub.execute_input": "2025-07-30T20:18:08.665183Z",
     "iopub.status.busy": "2025-07-30T20:18:08.664676Z",
     "iopub.status.idle": "2025-07-30T20:18:08.670202Z",
     "shell.execute_reply": "2025-07-30T20:18:08.669202Z"
    },
    "papermill": {
     "duration": 0.100051,
     "end_time": "2025-07-30T20:18:08.671932",
     "exception": false,
     "start_time": "2025-07-30T20:18:08.571881",
     "status": "completed"
    },
    "tags": []
   },
   "outputs": [],
   "source": [
    "# Miscoverage level for conformal prediction (10% allowed error rate => 90% target coverage)\n",
    "alpha = 0.1"
   ]
  },
  {
   "cell_type": "code",
   "execution_count": 48,
   "id": "eadf4555-3dd3-440e-8e35-f82a4ad9f855",
   "metadata": {
    "execution": {
     "iopub.execute_input": "2025-07-30T20:18:08.727496Z",
     "iopub.status.busy": "2025-07-30T20:18:08.726903Z",
     "iopub.status.idle": "2025-07-30T20:18:09.740878Z",
     "shell.execute_reply": "2025-07-30T20:18:09.739704Z"
    },
    "papermill": {
     "duration": 1.043565,
     "end_time": "2025-07-30T20:18:09.742584",
     "exception": false,
     "start_time": "2025-07-30T20:18:08.699019",
     "status": "completed"
    },
    "tags": []
   },
   "outputs": [],
   "source": [
    "probs_calib = model.predict_proba(X_calib)"
   ]
  },
  {
   "cell_type": "code",
   "execution_count": 49,
   "id": "2ed93547-6d5d-4983-9b36-1ecb300da49a",
   "metadata": {
    "execution": {
     "iopub.execute_input": "2025-07-30T20:18:09.789525Z",
     "iopub.status.busy": "2025-07-30T20:18:09.788999Z",
     "iopub.status.idle": "2025-07-30T20:18:09.794286Z",
     "shell.execute_reply": "2025-07-30T20:18:09.793513Z"
    },
    "papermill": {
     "duration": 0.026627,
     "end_time": "2025-07-30T20:18:09.795669",
     "exception": false,
     "start_time": "2025-07-30T20:18:09.769042",
     "status": "completed"
    },
    "tags": []
   },
   "outputs": [],
   "source": [
    "y_calib = y_calib.values.ravel().astype(int)"
   ]
  },
  {
   "cell_type": "code",
   "execution_count": 50,
   "id": "65d1320d-f588-4b38-9072-62af1ae97f7d",
   "metadata": {
    "execution": {
     "iopub.execute_input": "2025-07-30T20:18:09.829266Z",
     "iopub.status.busy": "2025-07-30T20:18:09.828794Z",
     "iopub.status.idle": "2025-07-30T20:18:09.836162Z",
     "shell.execute_reply": "2025-07-30T20:18:09.835312Z"
    },
    "papermill": {
     "duration": 0.02837,
     "end_time": "2025-07-30T20:18:09.837722",
     "exception": false,
     "start_time": "2025-07-30T20:18:09.809352",
     "status": "completed"
    },
    "tags": []
   },
   "outputs": [],
   "source": [
    "from fairness_multiverse.conformal import compute_nc_scores\n",
    "\n",
    "# Compute nonconformity scores on calibration set (1 - probability of true class)\n",
    "nc_scores = compute_nc_scores(probs_calib, y_calib)"
   ]
  },
  {
   "cell_type": "code",
   "execution_count": 51,
   "id": "df3b8ca3-53b7-43d5-9667-7c85da7aeda2",
   "metadata": {
    "execution": {
     "iopub.execute_input": "2025-07-30T20:18:09.888227Z",
     "iopub.status.busy": "2025-07-30T20:18:09.887406Z",
     "iopub.status.idle": "2025-07-30T20:18:09.894634Z",
     "shell.execute_reply": "2025-07-30T20:18:09.893736Z"
    },
    "papermill": {
     "duration": 0.030782,
     "end_time": "2025-07-30T20:18:09.896432",
     "exception": false,
     "start_time": "2025-07-30T20:18:09.865650",
     "status": "completed"
    },
    "tags": []
   },
   "outputs": [],
   "source": [
    "from fairness_multiverse.conformal import find_threshold\n",
    "\n",
    "# Find conformal threshold q_hat for the given alpha (split conformal method)\n",
    "q_hat = find_threshold(nc_scores, alpha)"
   ]
  },
  {
   "cell_type": "code",
   "execution_count": 52,
   "id": "4d29e6c1-0ef6-4aa4-b8fe-4fe79b0d033a",
   "metadata": {
    "execution": {
     "iopub.execute_input": "2025-07-30T20:18:09.953482Z",
     "iopub.status.busy": "2025-07-30T20:18:09.952680Z",
     "iopub.status.idle": "2025-07-30T20:18:09.959956Z",
     "shell.execute_reply": "2025-07-30T20:18:09.958949Z"
    },
    "papermill": {
     "duration": 0.037274,
     "end_time": "2025-07-30T20:18:09.961670",
     "exception": false,
     "start_time": "2025-07-30T20:18:09.924396",
     "status": "completed"
    },
    "tags": []
   },
   "outputs": [
    {
     "data": {
      "text/plain": [
       "0.65"
      ]
     },
     "execution_count": 52,
     "metadata": {},
     "output_type": "execute_result"
    }
   ],
   "source": [
    "q_hat"
   ]
  },
  {
   "cell_type": "code",
   "execution_count": 53,
   "id": "92460794-cdac-4be2-ba28-f28c0515a6fb",
   "metadata": {
    "execution": {
     "iopub.execute_input": "2025-07-30T20:18:10.014364Z",
     "iopub.status.busy": "2025-07-30T20:18:10.013820Z",
     "iopub.status.idle": "2025-07-30T20:18:12.258524Z",
     "shell.execute_reply": "2025-07-30T20:18:12.257457Z"
    },
    "papermill": {
     "duration": 2.273863,
     "end_time": "2025-07-30T20:18:12.260469",
     "exception": false,
     "start_time": "2025-07-30T20:18:09.986606",
     "status": "completed"
    },
    "tags": []
   },
   "outputs": [],
   "source": [
    "from fairness_multiverse.conformal import predict_conformal_sets\n",
    "\n",
    "# Generate prediction sets for each test example\n",
    "pred_sets = predict_conformal_sets(model, X_test, q_hat)"
   ]
  },
  {
   "cell_type": "code",
   "execution_count": 54,
   "id": "d90c9a65-e6db-4f5d-80cd-e68fb7e46829",
   "metadata": {
    "execution": {
     "iopub.execute_input": "2025-07-30T20:18:12.328224Z",
     "iopub.status.busy": "2025-07-30T20:18:12.327692Z",
     "iopub.status.idle": "2025-07-30T20:18:12.333819Z",
     "shell.execute_reply": "2025-07-30T20:18:12.332873Z"
    },
    "papermill": {
     "duration": 0.036193,
     "end_time": "2025-07-30T20:18:12.336756",
     "exception": false,
     "start_time": "2025-07-30T20:18:12.300563",
     "status": "completed"
    },
    "tags": []
   },
   "outputs": [],
   "source": [
    "y_true = y_true.squeeze()"
   ]
  },
  {
   "cell_type": "code",
   "execution_count": 55,
   "id": "3a58a54a-1e68-46b9-927a-df01f18aebc8",
   "metadata": {
    "execution": {
     "iopub.execute_input": "2025-07-30T20:18:12.438880Z",
     "iopub.status.busy": "2025-07-30T20:18:12.438465Z",
     "iopub.status.idle": "2025-07-30T20:18:13.964764Z",
     "shell.execute_reply": "2025-07-30T20:18:13.954102Z"
    },
    "papermill": {
     "duration": 1.58483,
     "end_time": "2025-07-30T20:18:13.969578",
     "exception": false,
     "start_time": "2025-07-30T20:18:12.384748",
     "status": "completed"
    },
    "tags": []
   },
   "outputs": [],
   "source": [
    "from fairness_multiverse.conformal import evaluate_sets\n",
    "\n",
    "# Evaluate coverage and average set size on test data\n",
    "metrics = evaluate_sets(pred_sets, y_true)"
   ]
  },
  {
   "cell_type": "markdown",
   "id": "2b569c12-9aaa-4c88-98c9-bbcd0cf3ebb8",
   "metadata": {
    "papermill": {
     "duration": 0.047019,
     "end_time": "2025-07-30T20:18:14.125604",
     "exception": false,
     "start_time": "2025-07-30T20:18:14.078585",
     "status": "completed"
    },
    "tags": []
   },
   "source": [
    "# CP Metrics"
   ]
  },
  {
   "cell_type": "code",
   "execution_count": 56,
   "id": "5ce0a5cb-201f-45a0-ade5-94c7f0bd6095",
   "metadata": {
    "execution": {
     "iopub.execute_input": "2025-07-30T20:18:14.262486Z",
     "iopub.status.busy": "2025-07-30T20:18:14.262063Z",
     "iopub.status.idle": "2025-07-30T20:18:14.269517Z",
     "shell.execute_reply": "2025-07-30T20:18:14.268399Z"
    },
    "papermill": {
     "duration": 0.109351,
     "end_time": "2025-07-30T20:18:14.276551",
     "exception": false,
     "start_time": "2025-07-30T20:18:14.167200",
     "status": "completed"
    },
    "tags": []
   },
   "outputs": [
    {
     "data": {
      "text/plain": [
       "{'coverage': 0.9130085832125738, 'avg_size': 1.1366291383346339}"
      ]
     },
     "execution_count": 56,
     "metadata": {},
     "output_type": "execute_result"
    }
   ],
   "source": [
    "metrics"
   ]
  },
  {
   "cell_type": "code",
   "execution_count": 57,
   "id": "9b9a838d-31c9-430b-ae14-12baee460d17",
   "metadata": {
    "execution": {
     "iopub.execute_input": "2025-07-30T20:18:14.401019Z",
     "iopub.status.busy": "2025-07-30T20:18:14.400529Z",
     "iopub.status.idle": "2025-07-30T20:18:14.407367Z",
     "shell.execute_reply": "2025-07-30T20:18:14.406225Z"
    },
    "papermill": {
     "duration": 0.054186,
     "end_time": "2025-07-30T20:18:14.410760",
     "exception": false,
     "start_time": "2025-07-30T20:18:14.356574",
     "status": "completed"
    },
    "tags": []
   },
   "outputs": [],
   "source": [
    "example_universe = universe.copy()\n",
    "universe_training_year = example_universe.get(\"training_year\")\n",
    "universe_training_size = example_universe.get(\"training_size\")\n",
    "universe_scale = example_universe.get(\"scale\")\n",
    "universe_model = example_universe.get(\"model\")\n",
    "universe_exclude_features = example_universe.get(\"exclude_features\")\n",
    "universe_exclude_subgroups = example_universe.get(\"exclude_subgroups\")"
   ]
  },
  {
   "cell_type": "code",
   "execution_count": 58,
   "id": "f4b6a8ac-9dc0-4245-8a91-5b3b5999c4f9",
   "metadata": {
    "execution": {
     "iopub.execute_input": "2025-07-30T20:18:14.557293Z",
     "iopub.status.busy": "2025-07-30T20:18:14.556857Z",
     "iopub.status.idle": "2025-07-30T20:18:14.565042Z",
     "shell.execute_reply": "2025-07-30T20:18:14.564024Z"
    },
    "papermill": {
     "duration": 0.089715,
     "end_time": "2025-07-30T20:18:14.567108",
     "exception": false,
     "start_time": "2025-07-30T20:18:14.477393",
     "status": "completed"
    },
    "tags": []
   },
   "outputs": [],
   "source": [
    "cp_metrics_dict = {\n",
    "    \"universe_id\": [universe_id],\n",
    "    \"universe_training_year\": [universe_training_year],\n",
    "    \"universe_training_size\": [universe_training_size],\n",
    "    \"universe_scale\": [universe_scale],\n",
    "    \"universe_model\": [universe_model],\n",
    "    \"universe_exclude_features\": [universe_exclude_features],\n",
    "    \"universe_exclude_subgroups\": [universe_exclude_subgroups],\n",
    "    \"q_hat\": [q_hat],\n",
    "    \"coverage\": [metrics[\"coverage\"]],\n",
    "    \"avg_size\": [metrics[\"avg_size\"]],\n",
    "}"
   ]
  },
  {
   "cell_type": "code",
   "execution_count": 59,
   "id": "908acbb1-0371-4915-85ca-3fa520d2efe2",
   "metadata": {
    "execution": {
     "iopub.execute_input": "2025-07-30T20:18:14.720733Z",
     "iopub.status.busy": "2025-07-30T20:18:14.720297Z",
     "iopub.status.idle": "2025-07-30T20:18:14.729165Z",
     "shell.execute_reply": "2025-07-30T20:18:14.728340Z"
    },
    "papermill": {
     "duration": 0.08423,
     "end_time": "2025-07-30T20:18:14.731711",
     "exception": false,
     "start_time": "2025-07-30T20:18:14.647481",
     "status": "completed"
    },
    "tags": []
   },
   "outputs": [
    {
     "data": {
      "text/plain": [
       "{'universe_id': ['015d069fb1d0f921a9b9b9b266883e29'],\n",
       " 'universe_training_year': ['2012_14'],\n",
       " 'universe_training_size': ['25k'],\n",
       " 'universe_scale': ['do-not-scale'],\n",
       " 'universe_model': ['rf'],\n",
       " 'universe_exclude_features': ['nationality'],\n",
       " 'universe_exclude_subgroups': ['drop-non-german'],\n",
       " 'q_hat': [0.65],\n",
       " 'coverage': [0.9130085832125738],\n",
       " 'avg_size': [1.1366291383346339]}"
      ]
     },
     "execution_count": 59,
     "metadata": {},
     "output_type": "execute_result"
    }
   ],
   "source": [
    "cp_metrics_dict"
   ]
  },
  {
   "cell_type": "code",
   "execution_count": 60,
   "id": "33007efc-14e9-4ec6-97ac-56a455c82265",
   "metadata": {
    "execution": {
     "iopub.execute_input": "2025-07-30T20:18:14.847861Z",
     "iopub.status.busy": "2025-07-30T20:18:14.847439Z",
     "iopub.status.idle": "2025-07-30T20:18:14.855304Z",
     "shell.execute_reply": "2025-07-30T20:18:14.854197Z"
    },
    "papermill": {
     "duration": 0.062224,
     "end_time": "2025-07-30T20:18:14.857394",
     "exception": false,
     "start_time": "2025-07-30T20:18:14.795170",
     "status": "completed"
    },
    "tags": []
   },
   "outputs": [],
   "source": [
    "cp_metrics_df = pd.DataFrame(cp_metrics_dict)"
   ]
  },
  {
   "cell_type": "code",
   "execution_count": 61,
   "id": "db12611b-57b2-4910-b9d0-355adfd6e7bf",
   "metadata": {
    "execution": {
     "iopub.execute_input": "2025-07-30T20:18:14.936659Z",
     "iopub.status.busy": "2025-07-30T20:18:14.936164Z",
     "iopub.status.idle": "2025-07-30T20:18:14.951479Z",
     "shell.execute_reply": "2025-07-30T20:18:14.950294Z"
    },
    "papermill": {
     "duration": 0.046109,
     "end_time": "2025-07-30T20:18:14.953249",
     "exception": false,
     "start_time": "2025-07-30T20:18:14.907140",
     "status": "completed"
    },
    "tags": []
   },
   "outputs": [
    {
     "data": {
      "text/html": [
       "<div>\n",
       "<style scoped>\n",
       "    .dataframe tbody tr th:only-of-type {\n",
       "        vertical-align: middle;\n",
       "    }\n",
       "\n",
       "    .dataframe tbody tr th {\n",
       "        vertical-align: top;\n",
       "    }\n",
       "\n",
       "    .dataframe thead th {\n",
       "        text-align: right;\n",
       "    }\n",
       "</style>\n",
       "<table border=\"1\" class=\"dataframe\">\n",
       "  <thead>\n",
       "    <tr style=\"text-align: right;\">\n",
       "      <th></th>\n",
       "      <th>universe_id</th>\n",
       "      <th>universe_training_year</th>\n",
       "      <th>universe_training_size</th>\n",
       "      <th>universe_scale</th>\n",
       "      <th>universe_model</th>\n",
       "      <th>universe_exclude_features</th>\n",
       "      <th>universe_exclude_subgroups</th>\n",
       "      <th>q_hat</th>\n",
       "      <th>coverage</th>\n",
       "      <th>avg_size</th>\n",
       "    </tr>\n",
       "  </thead>\n",
       "  <tbody>\n",
       "    <tr>\n",
       "      <th>0</th>\n",
       "      <td>015d069fb1d0f921a9b9b9b266883e29</td>\n",
       "      <td>2012_14</td>\n",
       "      <td>25k</td>\n",
       "      <td>do-not-scale</td>\n",
       "      <td>rf</td>\n",
       "      <td>nationality</td>\n",
       "      <td>drop-non-german</td>\n",
       "      <td>0.65</td>\n",
       "      <td>0.913009</td>\n",
       "      <td>1.136629</td>\n",
       "    </tr>\n",
       "  </tbody>\n",
       "</table>\n",
       "</div>"
      ],
      "text/plain": [
       "                        universe_id universe_training_year  \\\n",
       "0  015d069fb1d0f921a9b9b9b266883e29                2012_14   \n",
       "\n",
       "  universe_training_size universe_scale universe_model  \\\n",
       "0                    25k   do-not-scale             rf   \n",
       "\n",
       "  universe_exclude_features universe_exclude_subgroups  q_hat  coverage  \\\n",
       "0               nationality            drop-non-german   0.65  0.913009   \n",
       "\n",
       "   avg_size  \n",
       "0  1.136629  "
      ]
     },
     "execution_count": 61,
     "metadata": {},
     "output_type": "execute_result"
    }
   ],
   "source": [
    "cp_metrics_df"
   ]
  },
  {
   "cell_type": "code",
   "execution_count": 62,
   "id": "b7fbde55-a0a1-47e4-9af6-fe4a17fa8c61",
   "metadata": {
    "execution": {
     "iopub.execute_input": "2025-07-30T20:18:15.007040Z",
     "iopub.status.busy": "2025-07-30T20:18:15.006522Z",
     "iopub.status.idle": "2025-07-30T20:18:15.011484Z",
     "shell.execute_reply": "2025-07-30T20:18:15.010826Z"
    },
    "papermill": {
     "duration": 0.032354,
     "end_time": "2025-07-30T20:18:15.012728",
     "exception": false,
     "start_time": "2025-07-30T20:18:14.980374",
     "status": "completed"
    },
    "tags": []
   },
   "outputs": [],
   "source": [
    "# Conditional Coverage & looking at subgroups"
   ]
  },
  {
   "cell_type": "code",
   "execution_count": 63,
   "id": "027ae886-68dd-4141-96c7-805a5450e1ef",
   "metadata": {
    "execution": {
     "iopub.execute_input": "2025-07-30T20:18:15.067851Z",
     "iopub.status.busy": "2025-07-30T20:18:15.067369Z",
     "iopub.status.idle": "2025-07-30T20:18:15.458070Z",
     "shell.execute_reply": "2025-07-30T20:18:15.457116Z"
    },
    "papermill": {
     "duration": 0.422372,
     "end_time": "2025-07-30T20:18:15.459809",
     "exception": false,
     "start_time": "2025-07-30T20:18:15.037437",
     "status": "completed"
    },
    "tags": []
   },
   "outputs": [],
   "source": [
    "from fairness_multiverse.conformal import build_cp_groups\n",
    "\n",
    "cp_groups_df = build_cp_groups(pred_sets, y_true, X_test.index, org_test)\n",
    "#needs universe_id and setting"
   ]
  },
  {
   "cell_type": "code",
   "execution_count": 64,
   "id": "01d5802c-663a-4d1f-9d69-e036faaffbf7",
   "metadata": {
    "execution": {
     "iopub.execute_input": "2025-07-30T20:18:15.557971Z",
     "iopub.status.busy": "2025-07-30T20:18:15.557531Z",
     "iopub.status.idle": "2025-07-30T20:18:15.562882Z",
     "shell.execute_reply": "2025-07-30T20:18:15.561986Z"
    },
    "papermill": {
     "duration": 0.068076,
     "end_time": "2025-07-30T20:18:15.564742",
     "exception": false,
     "start_time": "2025-07-30T20:18:15.496666",
     "status": "completed"
    },
    "tags": []
   },
   "outputs": [],
   "source": [
    "#delete\n",
    "#cp_groups_df"
   ]
  },
  {
   "cell_type": "code",
   "execution_count": 65,
   "id": "fa424af1-d1eb-443d-b717-2d279ada8408",
   "metadata": {
    "execution": {
     "iopub.execute_input": "2025-07-30T20:18:15.681755Z",
     "iopub.status.busy": "2025-07-30T20:18:15.681306Z",
     "iopub.status.idle": "2025-07-30T20:18:15.686535Z",
     "shell.execute_reply": "2025-07-30T20:18:15.685691Z"
    },
    "papermill": {
     "duration": 0.061289,
     "end_time": "2025-07-30T20:18:15.689617",
     "exception": false,
     "start_time": "2025-07-30T20:18:15.628328",
     "status": "completed"
    },
    "tags": []
   },
   "outputs": [],
   "source": [
    "#delete\n",
    "#percentage = (cp_groups_df['nongerman_female'] == 1).mean() * 100\n",
    "#print(percentage)\n"
   ]
  },
  {
   "cell_type": "code",
   "execution_count": 66,
   "id": "6cbdab96-b2b2-45af-ad54-d0516db2e28d",
   "metadata": {
    "execution": {
     "iopub.execute_input": "2025-07-30T20:18:15.798718Z",
     "iopub.status.busy": "2025-07-30T20:18:15.798283Z",
     "iopub.status.idle": "2025-07-30T20:18:18.437599Z",
     "shell.execute_reply": "2025-07-30T20:18:18.436146Z"
    },
    "papermill": {
     "duration": 2.682953,
     "end_time": "2025-07-30T20:18:18.439598",
     "exception": false,
     "start_time": "2025-07-30T20:18:15.756645",
     "status": "completed"
    },
    "tags": []
   },
   "outputs": [],
   "source": [
    "# Define covered = 1 if true_label is in the predicted set\n",
    "cp_groups_df['covered'] = cp_groups_df.apply(\n",
    "    lambda r: int(r['true_label'] in r['pred_set']),\n",
    "    axis=1\n",
    ")"
   ]
  },
  {
   "cell_type": "code",
   "execution_count": 67,
   "id": "338ff529-1a6b-4b87-a931-8e4788d52aad",
   "metadata": {
    "execution": {
     "iopub.execute_input": "2025-07-30T20:18:18.547449Z",
     "iopub.status.busy": "2025-07-30T20:18:18.547049Z",
     "iopub.status.idle": "2025-07-30T20:18:18.553305Z",
     "shell.execute_reply": "2025-07-30T20:18:18.552379Z"
    },
    "papermill": {
     "duration": 0.070527,
     "end_time": "2025-07-30T20:18:18.555556",
     "exception": false,
     "start_time": "2025-07-30T20:18:18.485029",
     "status": "completed"
    },
    "tags": []
   },
   "outputs": [],
   "source": [
    "#cp_groups_df"
   ]
  },
  {
   "cell_type": "code",
   "execution_count": 68,
   "id": "90032e27-66df-4540-9169-4e89cfbaa758",
   "metadata": {
    "execution": {
     "iopub.execute_input": "2025-07-30T20:18:18.724171Z",
     "iopub.status.busy": "2025-07-30T20:18:18.723726Z",
     "iopub.status.idle": "2025-07-30T20:18:18.739800Z",
     "shell.execute_reply": "2025-07-30T20:18:18.738464Z"
    },
    "papermill": {
     "duration": 0.118839,
     "end_time": "2025-07-30T20:18:18.743225",
     "exception": false,
     "start_time": "2025-07-30T20:18:18.624386",
     "status": "completed"
    },
    "tags": []
   },
   "outputs": [],
   "source": [
    "subgroups = ['frau1','nongerman','nongerman_male','nongerman_female']\n",
    "\n",
    "# Conditional coverage for subgroup==1\n",
    "cond_coverage = {\n",
    "    g: cp_groups_df.loc[cp_groups_df[g]==1, 'covered'].mean()\n",
    "    for g in subgroups\n",
    "}"
   ]
  },
  {
   "cell_type": "code",
   "execution_count": 69,
   "id": "1e348fb1-b9c3-45bc-ba23-f016827a7e0d",
   "metadata": {
    "execution": {
     "iopub.execute_input": "2025-07-30T20:18:18.920764Z",
     "iopub.status.busy": "2025-07-30T20:18:18.920347Z",
     "iopub.status.idle": "2025-07-30T20:18:18.927925Z",
     "shell.execute_reply": "2025-07-30T20:18:18.926941Z"
    },
    "papermill": {
     "duration": 0.079881,
     "end_time": "2025-07-30T20:18:18.932176",
     "exception": false,
     "start_time": "2025-07-30T20:18:18.852295",
     "status": "completed"
    },
    "tags": []
   },
   "outputs": [
    {
     "data": {
      "text/plain": [
       "{'frau1': 0.9123062407332525,\n",
       " 'nongerman': 0.9078201313647336,\n",
       " 'nongerman_male': 0.9238944429433487,\n",
       " 'nongerman_female': 0.8812220566318927}"
      ]
     },
     "execution_count": 69,
     "metadata": {},
     "output_type": "execute_result"
    }
   ],
   "source": [
    "cond_coverage"
   ]
  },
  {
   "cell_type": "code",
   "execution_count": 70,
   "id": "f5093324-c3dd-4d63-bc4c-8d945e5c8bbb",
   "metadata": {
    "execution": {
     "iopub.execute_input": "2025-07-30T20:18:19.074588Z",
     "iopub.status.busy": "2025-07-30T20:18:19.074184Z",
     "iopub.status.idle": "2025-07-30T20:18:19.081870Z",
     "shell.execute_reply": "2025-07-30T20:18:19.080915Z"
    },
    "papermill": {
     "duration": 0.058373,
     "end_time": "2025-07-30T20:18:19.085102",
     "exception": false,
     "start_time": "2025-07-30T20:18:19.026729",
     "status": "completed"
    },
    "tags": []
   },
   "outputs": [],
   "source": [
    "for subgroup, cov in cond_coverage.items():\n",
    "    cp_metrics_df[f\"cov_{subgroup}\"] = cov"
   ]
  },
  {
   "cell_type": "code",
   "execution_count": 71,
   "id": "6e872e10-dbe5-49e8-b554-5030c98ff75d",
   "metadata": {
    "execution": {
     "iopub.execute_input": "2025-07-30T20:18:19.142801Z",
     "iopub.status.busy": "2025-07-30T20:18:19.142396Z",
     "iopub.status.idle": "2025-07-30T20:18:19.167349Z",
     "shell.execute_reply": "2025-07-30T20:18:19.166258Z"
    },
    "papermill": {
     "duration": 0.055498,
     "end_time": "2025-07-30T20:18:19.169715",
     "exception": false,
     "start_time": "2025-07-30T20:18:19.114217",
     "status": "completed"
    },
    "tags": []
   },
   "outputs": [
    {
     "data": {
      "text/html": [
       "<div>\n",
       "<style scoped>\n",
       "    .dataframe tbody tr th:only-of-type {\n",
       "        vertical-align: middle;\n",
       "    }\n",
       "\n",
       "    .dataframe tbody tr th {\n",
       "        vertical-align: top;\n",
       "    }\n",
       "\n",
       "    .dataframe thead th {\n",
       "        text-align: right;\n",
       "    }\n",
       "</style>\n",
       "<table border=\"1\" class=\"dataframe\">\n",
       "  <thead>\n",
       "    <tr style=\"text-align: right;\">\n",
       "      <th></th>\n",
       "      <th>universe_id</th>\n",
       "      <th>universe_training_year</th>\n",
       "      <th>universe_training_size</th>\n",
       "      <th>universe_scale</th>\n",
       "      <th>universe_model</th>\n",
       "      <th>universe_exclude_features</th>\n",
       "      <th>universe_exclude_subgroups</th>\n",
       "      <th>q_hat</th>\n",
       "      <th>coverage</th>\n",
       "      <th>avg_size</th>\n",
       "      <th>cov_frau1</th>\n",
       "      <th>cov_nongerman</th>\n",
       "      <th>cov_nongerman_male</th>\n",
       "      <th>cov_nongerman_female</th>\n",
       "    </tr>\n",
       "  </thead>\n",
       "  <tbody>\n",
       "    <tr>\n",
       "      <th>0</th>\n",
       "      <td>015d069fb1d0f921a9b9b9b266883e29</td>\n",
       "      <td>2012_14</td>\n",
       "      <td>25k</td>\n",
       "      <td>do-not-scale</td>\n",
       "      <td>rf</td>\n",
       "      <td>nationality</td>\n",
       "      <td>drop-non-german</td>\n",
       "      <td>0.65</td>\n",
       "      <td>0.913009</td>\n",
       "      <td>1.136629</td>\n",
       "      <td>0.912306</td>\n",
       "      <td>0.90782</td>\n",
       "      <td>0.923894</td>\n",
       "      <td>0.881222</td>\n",
       "    </tr>\n",
       "  </tbody>\n",
       "</table>\n",
       "</div>"
      ],
      "text/plain": [
       "                        universe_id universe_training_year  \\\n",
       "0  015d069fb1d0f921a9b9b9b266883e29                2012_14   \n",
       "\n",
       "  universe_training_size universe_scale universe_model  \\\n",
       "0                    25k   do-not-scale             rf   \n",
       "\n",
       "  universe_exclude_features universe_exclude_subgroups  q_hat  coverage  \\\n",
       "0               nationality            drop-non-german   0.65  0.913009   \n",
       "\n",
       "   avg_size  cov_frau1  cov_nongerman  cov_nongerman_male  \\\n",
       "0  1.136629   0.912306        0.90782            0.923894   \n",
       "\n",
       "   cov_nongerman_female  \n",
       "0              0.881222  "
      ]
     },
     "execution_count": 71,
     "metadata": {},
     "output_type": "execute_result"
    }
   ],
   "source": [
    "cp_metrics_df"
   ]
  },
  {
   "cell_type": "markdown",
   "id": "33774451",
   "metadata": {
    "papermill": {
     "duration": 0.027362,
     "end_time": "2025-07-30T20:18:19.225357",
     "exception": false,
     "start_time": "2025-07-30T20:18:19.197995",
     "status": "completed"
    },
    "tags": []
   },
   "source": [
    "# (Fairness) Metrics"
   ]
  },
  {
   "cell_type": "code",
   "execution_count": 72,
   "id": "debc5d62",
   "metadata": {
    "execution": {
     "iopub.execute_input": "2025-07-30T20:18:19.292878Z",
     "iopub.status.busy": "2025-07-30T20:18:19.292547Z",
     "iopub.status.idle": "2025-07-30T20:18:19.316799Z",
     "shell.execute_reply": "2025-07-30T20:18:19.315817Z"
    },
    "papermill": {
     "duration": 0.06332,
     "end_time": "2025-07-30T20:18:19.318606",
     "exception": false,
     "start_time": "2025-07-30T20:18:19.255286",
     "status": "completed"
    },
    "tags": []
   },
   "outputs": [],
   "source": [
    "# do I need to include maxdeutsch1.missing?\n",
    "\n",
    "import numpy as np\n",
    "\n",
    "colname_to_bin = \"maxdeutsch1\"\n",
    "majority_value = org_train[colname_to_bin].mode()[0]\n",
    "\n",
    "org_test[\"majmin\"] = np.where(org_test[colname_to_bin] == majority_value, \"majority\", \"minority\")"
   ]
  },
  {
   "cell_type": "code",
   "execution_count": 73,
   "id": "06a50de5",
   "metadata": {
    "execution": {
     "iopub.execute_input": "2025-07-30T20:18:19.378960Z",
     "iopub.status.busy": "2025-07-30T20:18:19.377208Z",
     "iopub.status.idle": "2025-07-30T20:18:22.735525Z",
     "shell.execute_reply": "2025-07-30T20:18:22.732652Z"
    },
    "papermill": {
     "duration": 3.389951,
     "end_time": "2025-07-30T20:18:22.737662",
     "exception": false,
     "start_time": "2025-07-30T20:18:19.347711",
     "status": "completed"
    },
    "tags": []
   },
   "outputs": [],
   "source": [
    "example_universe = universe.copy()\n",
    "example_universe[\"cutoff\"] = example_universe[\"cutoff\"][0]\n",
    "example_universe[\"eval_fairness_grouping\"] = example_universe[\"eval_fairness_grouping\"][0]\n",
    "fairness_dict, metric_frame = universe_analysis.compute_metrics(\n",
    "    example_universe,\n",
    "    y_pred_prob=probs_test,\n",
    "    y_test=y_true,\n",
    "    org_test=org_test,\n",
    ")"
   ]
  },
  {
   "cell_type": "markdown",
   "id": "f95d4e02",
   "metadata": {
    "papermill": {
     "duration": 0.06726,
     "end_time": "2025-07-30T20:18:22.836408",
     "exception": false,
     "start_time": "2025-07-30T20:18:22.769148",
     "status": "completed"
    },
    "tags": []
   },
   "source": [
    "# Overall"
   ]
  },
  {
   "cell_type": "markdown",
   "id": "bdee4871",
   "metadata": {
    "papermill": {
     "duration": 0.068559,
     "end_time": "2025-07-30T20:18:22.964886",
     "exception": false,
     "start_time": "2025-07-30T20:18:22.896327",
     "status": "completed"
    },
    "tags": []
   },
   "source": [
    "Fairness\n",
    "Main fairness target: Equalized Odds. Seems to be a better fit than equal opportunity, since we're not only interested in Y = 1. Seems to be a better fit than demographic parity, since we also care about accuracy, not just equal distribution of preds.\n",
    "\n",
    "Pick column for computation of fairness metrics\n",
    "\n",
    "Performance\n",
    "Overall performance measures, most interesting in relation to the measures split by group below"
   ]
  },
  {
   "cell_type": "code",
   "execution_count": 74,
   "id": "c4e067c6",
   "metadata": {
    "execution": {
     "iopub.execute_input": "2025-07-30T20:18:23.068371Z",
     "iopub.status.busy": "2025-07-30T20:18:23.067409Z",
     "iopub.status.idle": "2025-07-30T20:18:23.079028Z",
     "shell.execute_reply": "2025-07-30T20:18:23.077609Z"
    },
    "papermill": {
     "duration": 0.078416,
     "end_time": "2025-07-30T20:18:23.080833",
     "exception": false,
     "start_time": "2025-07-30T20:18:23.002417",
     "status": "completed"
    },
    "tags": []
   },
   "outputs": [
    {
     "data": {
      "text/plain": [
       "accuracy                   0.192643\n",
       "balanced accuracy          0.529877\n",
       "f1                         0.238113\n",
       "precision                  0.135454\n",
       "false positive rate        0.923736\n",
       "false negative rate        0.016510\n",
       "selection rate             0.931401\n",
       "count                  89710.000000\n",
       "dtype: float64"
      ]
     },
     "execution_count": 74,
     "metadata": {},
     "output_type": "execute_result"
    }
   ],
   "source": [
    "metric_frame.overall"
   ]
  },
  {
   "cell_type": "markdown",
   "id": "e968fe9d",
   "metadata": {
    "papermill": {
     "duration": 0.056745,
     "end_time": "2025-07-30T20:18:23.228902",
     "exception": false,
     "start_time": "2025-07-30T20:18:23.172157",
     "status": "completed"
    },
    "tags": []
   },
   "source": [
    "By Group"
   ]
  },
  {
   "cell_type": "code",
   "execution_count": 75,
   "id": "ec325bce",
   "metadata": {
    "execution": {
     "iopub.execute_input": "2025-07-30T20:18:23.338716Z",
     "iopub.status.busy": "2025-07-30T20:18:23.338150Z",
     "iopub.status.idle": "2025-07-30T20:18:23.384794Z",
     "shell.execute_reply": "2025-07-30T20:18:23.383233Z"
    },
    "papermill": {
     "duration": 0.098483,
     "end_time": "2025-07-30T20:18:23.386972",
     "exception": false,
     "start_time": "2025-07-30T20:18:23.288489",
     "status": "completed"
    },
    "tags": []
   },
   "outputs": [
    {
     "data": {
      "text/html": [
       "<div>\n",
       "<style scoped>\n",
       "    .dataframe tbody tr th:only-of-type {\n",
       "        vertical-align: middle;\n",
       "    }\n",
       "\n",
       "    .dataframe tbody tr th {\n",
       "        vertical-align: top;\n",
       "    }\n",
       "\n",
       "    .dataframe thead th {\n",
       "        text-align: right;\n",
       "    }\n",
       "</style>\n",
       "<table border=\"1\" class=\"dataframe\">\n",
       "  <thead>\n",
       "    <tr style=\"text-align: right;\">\n",
       "      <th></th>\n",
       "      <th>accuracy</th>\n",
       "      <th>balanced accuracy</th>\n",
       "      <th>f1</th>\n",
       "      <th>precision</th>\n",
       "      <th>false positive rate</th>\n",
       "      <th>false negative rate</th>\n",
       "      <th>selection rate</th>\n",
       "      <th>count</th>\n",
       "    </tr>\n",
       "    <tr>\n",
       "      <th>majmin</th>\n",
       "      <th></th>\n",
       "      <th></th>\n",
       "      <th></th>\n",
       "      <th></th>\n",
       "      <th></th>\n",
       "      <th></th>\n",
       "      <th></th>\n",
       "      <th></th>\n",
       "    </tr>\n",
       "  </thead>\n",
       "  <tbody>\n",
       "    <tr>\n",
       "      <th>majority</th>\n",
       "      <td>0.192974</td>\n",
       "      <td>0.530875</td>\n",
       "      <td>0.244853</td>\n",
       "      <td>0.139699</td>\n",
       "      <td>0.928402</td>\n",
       "      <td>0.009847</td>\n",
       "      <td>0.936562</td>\n",
       "      <td>69170.0</td>\n",
       "    </tr>\n",
       "    <tr>\n",
       "      <th>minority</th>\n",
       "      <td>0.191529</td>\n",
       "      <td>0.524725</td>\n",
       "      <td>0.214549</td>\n",
       "      <td>0.120805</td>\n",
       "      <td>0.908320</td>\n",
       "      <td>0.042230</td>\n",
       "      <td>0.914021</td>\n",
       "      <td>20540.0</td>\n",
       "    </tr>\n",
       "  </tbody>\n",
       "</table>\n",
       "</div>"
      ],
      "text/plain": [
       "          accuracy  balanced accuracy        f1  precision  \\\n",
       "majmin                                                       \n",
       "majority  0.192974           0.530875  0.244853   0.139699   \n",
       "minority  0.191529           0.524725  0.214549   0.120805   \n",
       "\n",
       "          false positive rate  false negative rate  selection rate    count  \n",
       "majmin                                                                       \n",
       "majority             0.928402             0.009847        0.936562  69170.0  \n",
       "minority             0.908320             0.042230        0.914021  20540.0  "
      ]
     },
     "execution_count": 75,
     "metadata": {},
     "output_type": "execute_result"
    }
   ],
   "source": [
    "metric_frame.by_group"
   ]
  },
  {
   "cell_type": "code",
   "execution_count": 76,
   "id": "a9ddbe63",
   "metadata": {
    "execution": {
     "iopub.execute_input": "2025-07-30T20:18:23.510259Z",
     "iopub.status.busy": "2025-07-30T20:18:23.509675Z",
     "iopub.status.idle": "2025-07-30T20:18:26.727571Z",
     "shell.execute_reply": "2025-07-30T20:18:26.726483Z"
    },
    "papermill": {
     "duration": 3.256395,
     "end_time": "2025-07-30T20:18:26.729180",
     "exception": false,
     "start_time": "2025-07-30T20:18:23.472785",
     "status": "completed"
    },
    "tags": []
   },
   "outputs": [
    {
     "data": {
      "text/plain": [
       "array([[<Axes: title={'center': 'accuracy'}, xlabel='majmin'>,\n",
       "        <Axes: title={'center': 'balanced accuracy'}, xlabel='majmin'>,\n",
       "        <Axes: title={'center': 'f1'}, xlabel='majmin'>],\n",
       "       [<Axes: title={'center': 'precision'}, xlabel='majmin'>,\n",
       "        <Axes: title={'center': 'false positive rate'}, xlabel='majmin'>,\n",
       "        <Axes: title={'center': 'false negative rate'}, xlabel='majmin'>],\n",
       "       [<Axes: title={'center': 'selection rate'}, xlabel='majmin'>,\n",
       "        <Axes: title={'center': 'count'}, xlabel='majmin'>,\n",
       "        <Axes: xlabel='majmin'>]], dtype=object)"
      ]
     },
     "execution_count": 76,
     "metadata": {},
     "output_type": "execute_result"
    },
    {
     "data": {
      "image/png": "[encoded data removed]",
      "text/plain": [
       "<Figure size 1200x800 with 9 Axes>"
      ]
     },
     "metadata": {},
     "output_type": "display_data"
    }
   ],
   "source": [
    "# In a graphic\n",
    "metric_frame.by_group.plot.bar(\n",
    "    subplots=True,\n",
    "    layout=[3, 3],\n",
    "    legend=False,\n",
    "    figsize=[12, 8],\n",
    "    title=\"Show all metrics\",\n",
    ")"
   ]
  },
  {
   "cell_type": "markdown",
   "id": "f57a0bac",
   "metadata": {
    "papermill": {
     "duration": 0.040087,
     "end_time": "2025-07-30T20:18:26.808367",
     "exception": false,
     "start_time": "2025-07-30T20:18:26.768280",
     "status": "completed"
    },
    "tags": []
   },
   "source": [
    "# Final Output"
   ]
  },
  {
   "cell_type": "code",
   "execution_count": 77,
   "id": "96d280a3",
   "metadata": {
    "execution": {
     "iopub.execute_input": "2025-07-30T20:18:26.917306Z",
     "iopub.status.busy": "2025-07-30T20:18:26.916735Z",
     "iopub.status.idle": "2025-07-30T20:18:26.924553Z",
     "shell.execute_reply": "2025-07-30T20:18:26.923538Z"
    },
    "papermill": {
     "duration": 0.054706,
     "end_time": "2025-07-30T20:18:26.926987",
     "exception": false,
     "start_time": "2025-07-30T20:18:26.872281",
     "status": "completed"
    },
    "tags": []
   },
   "outputs": [
    {
     "data": {
      "text/plain": [
       "4"
      ]
     },
     "execution_count": 77,
     "metadata": {},
     "output_type": "execute_result"
    }
   ],
   "source": [
    "sub_universes = universe_analysis.generate_sub_universes()\n",
    "len(sub_universes)"
   ]
  },
  {
   "cell_type": "code",
   "execution_count": 78,
   "id": "92adf7ba",
   "metadata": {
    "execution": {
     "iopub.execute_input": "2025-07-30T20:18:27.002013Z",
     "iopub.status.busy": "2025-07-30T20:18:27.001635Z",
     "iopub.status.idle": "2025-07-30T20:18:27.008019Z",
     "shell.execute_reply": "2025-07-30T20:18:27.006956Z"
    },
    "papermill": {
     "duration": 0.056611,
     "end_time": "2025-07-30T20:18:27.010369",
     "exception": false,
     "start_time": "2025-07-30T20:18:26.953758",
     "status": "completed"
    },
    "tags": []
   },
   "outputs": [],
   "source": [
    "def filter_sub_universe_data(sub_universe, org_test):\n",
    "    # Keep all rows — no filtering\n",
    "    keep_rows_mask = np.ones(org_test.shape[0], dtype=bool)\n",
    "\n",
    "    print(f\"[INFO] Keeping all rows: {keep_rows_mask.sum()} rows retained.\")\n",
    "    return keep_rows_mask"
   ]
  },
  {
   "cell_type": "code",
   "execution_count": 79,
   "id": "4a759155",
   "metadata": {
    "execution": {
     "iopub.execute_input": "2025-07-30T20:18:27.071461Z",
     "iopub.status.busy": "2025-07-30T20:18:27.070971Z",
     "iopub.status.idle": "2025-07-30T20:18:40.466541Z",
     "shell.execute_reply": "2025-07-30T20:18:40.465291Z"
    },
    "papermill": {
     "duration": 13.425476,
     "end_time": "2025-07-30T20:18:40.468413",
     "exception": false,
     "start_time": "2025-07-30T20:18:27.042937",
     "status": "completed"
    },
    "tags": []
   },
   "outputs": [
    {
     "name": "stdout",
     "output_type": "stream",
     "text": [
      "Stopping execution_time clock.\n",
      "[INFO] Keeping all rows: 89710 rows retained.\n"
     ]
    },
    {
     "name": "stdout",
     "output_type": "stream",
     "text": [
      "[INFO] Keeping all rows: 89710 rows retained.\n"
     ]
    },
    {
     "name": "stdout",
     "output_type": "stream",
     "text": [
      "[INFO] Keeping all rows: 89710 rows retained.\n"
     ]
    },
    {
     "name": "stdout",
     "output_type": "stream",
     "text": [
      "[INFO] Keeping all rows: 89710 rows retained.\n"
     ]
    },
    {
     "data": {
      "text/html": [
       "<div>\n",
       "<style scoped>\n",
       "    .dataframe tbody tr th:only-of-type {\n",
       "        vertical-align: middle;\n",
       "    }\n",
       "\n",
       "    .dataframe tbody tr th {\n",
       "        vertical-align: top;\n",
       "    }\n",
       "\n",
       "    .dataframe thead th {\n",
       "        text-align: right;\n",
       "    }\n",
       "</style>\n",
       "<table border=\"1\" class=\"dataframe\">\n",
       "  <thead>\n",
       "    <tr style=\"text-align: right;\">\n",
       "      <th></th>\n",
       "      <th>run_no</th>\n",
       "      <th>universe_id</th>\n",
       "      <th>universe_settings</th>\n",
       "      <th>execution_time</th>\n",
       "      <th>test_size_n</th>\n",
       "      <th>test_size_frac</th>\n",
       "      <th>fair_main_equalized_odds_difference</th>\n",
       "      <th>fair_main_equalized_odds_ratio</th>\n",
       "      <th>fair_main_demographic_parity_difference</th>\n",
       "      <th>fair_main_demographic_parity_ratio</th>\n",
       "      <th>...</th>\n",
       "      <th>perf_grp_precision_0</th>\n",
       "      <th>perf_grp_precision_1</th>\n",
       "      <th>perf_grp_false positive rate_0</th>\n",
       "      <th>perf_grp_false positive rate_1</th>\n",
       "      <th>perf_grp_false negative rate_0</th>\n",
       "      <th>perf_grp_false negative rate_1</th>\n",
       "      <th>perf_grp_selection rate_0</th>\n",
       "      <th>perf_grp_selection rate_1</th>\n",
       "      <th>perf_grp_count_0</th>\n",
       "      <th>perf_grp_count_1</th>\n",
       "    </tr>\n",
       "  </thead>\n",
       "  <tbody>\n",
       "    <tr>\n",
       "      <th>0</th>\n",
       "      <td>14</td>\n",
       "      <td>015d069fb1d0f921a9b9b9b266883e29</td>\n",
       "      <td>{\"cutoff\": \"quantile_0.1\", \"eval_fairness_grou...</td>\n",
       "      <td>40.297375</td>\n",
       "      <td>89710</td>\n",
       "      <td>1.0</td>\n",
       "      <td>0.032383</td>\n",
       "      <td>0.967295</td>\n",
       "      <td>0.022541</td>\n",
       "      <td>0.975933</td>\n",
       "      <td>...</td>\n",
       "      <td>NaN</td>\n",
       "      <td>NaN</td>\n",
       "      <td>NaN</td>\n",
       "      <td>NaN</td>\n",
       "      <td>NaN</td>\n",
       "      <td>NaN</td>\n",
       "      <td>NaN</td>\n",
       "      <td>NaN</td>\n",
       "      <td>NaN</td>\n",
       "      <td>NaN</td>\n",
       "    </tr>\n",
       "    <tr>\n",
       "      <th>0</th>\n",
       "      <td>14</td>\n",
       "      <td>015d069fb1d0f921a9b9b9b266883e29</td>\n",
       "      <td>{\"cutoff\": \"quantile_0.1\", \"eval_fairness_grou...</td>\n",
       "      <td>40.297375</td>\n",
       "      <td>89710</td>\n",
       "      <td>1.0</td>\n",
       "      <td>0.032383</td>\n",
       "      <td>0.967295</td>\n",
       "      <td>0.022541</td>\n",
       "      <td>0.975933</td>\n",
       "      <td>...</td>\n",
       "      <td>0.120805</td>\n",
       "      <td>0.139699</td>\n",
       "      <td>0.908320</td>\n",
       "      <td>0.928402</td>\n",
       "      <td>0.042230</td>\n",
       "      <td>0.009847</td>\n",
       "      <td>0.914021</td>\n",
       "      <td>0.936562</td>\n",
       "      <td>20540.0</td>\n",
       "      <td>69170.0</td>\n",
       "    </tr>\n",
       "    <tr>\n",
       "      <th>0</th>\n",
       "      <td>14</td>\n",
       "      <td>015d069fb1d0f921a9b9b9b266883e29</td>\n",
       "      <td>{\"cutoff\": \"quantile_0.25\", \"eval_fairness_gro...</td>\n",
       "      <td>40.297375</td>\n",
       "      <td>89710</td>\n",
       "      <td>1.0</td>\n",
       "      <td>0.075230</td>\n",
       "      <td>0.921354</td>\n",
       "      <td>0.040066</td>\n",
       "      <td>0.948964</td>\n",
       "      <td>...</td>\n",
       "      <td>NaN</td>\n",
       "      <td>NaN</td>\n",
       "      <td>NaN</td>\n",
       "      <td>NaN</td>\n",
       "      <td>NaN</td>\n",
       "      <td>NaN</td>\n",
       "      <td>NaN</td>\n",
       "      <td>NaN</td>\n",
       "      <td>NaN</td>\n",
       "      <td>NaN</td>\n",
       "    </tr>\n",
       "    <tr>\n",
       "      <th>0</th>\n",
       "      <td>14</td>\n",
       "      <td>015d069fb1d0f921a9b9b9b266883e29</td>\n",
       "      <td>{\"cutoff\": \"quantile_0.25\", \"eval_fairness_gro...</td>\n",
       "      <td>40.297375</td>\n",
       "      <td>89710</td>\n",
       "      <td>1.0</td>\n",
       "      <td>0.075230</td>\n",
       "      <td>0.921354</td>\n",
       "      <td>0.040066</td>\n",
       "      <td>0.948964</td>\n",
       "      <td>...</td>\n",
       "      <td>0.136387</td>\n",
       "      <td>0.161007</td>\n",
       "      <td>0.727218</td>\n",
       "      <td>0.758937</td>\n",
       "      <td>0.118666</td>\n",
       "      <td>0.043435</td>\n",
       "      <td>0.744985</td>\n",
       "      <td>0.785051</td>\n",
       "      <td>20540.0</td>\n",
       "      <td>69170.0</td>\n",
       "    </tr>\n",
       "  </tbody>\n",
       "</table>\n",
       "<p>4 rows × 50 columns</p>\n",
       "</div>"
      ],
      "text/plain": [
       "  run_no                       universe_id  \\\n",
       "0     14  015d069fb1d0f921a9b9b9b266883e29   \n",
       "0     14  015d069fb1d0f921a9b9b9b266883e29   \n",
       "0     14  015d069fb1d0f921a9b9b9b266883e29   \n",
       "0     14  015d069fb1d0f921a9b9b9b266883e29   \n",
       "\n",
       "                                   universe_settings  execution_time  \\\n",
       "0  {\"cutoff\": \"quantile_0.1\", \"eval_fairness_grou...       40.297375   \n",
       "0  {\"cutoff\": \"quantile_0.1\", \"eval_fairness_grou...       40.297375   \n",
       "0  {\"cutoff\": \"quantile_0.25\", \"eval_fairness_gro...       40.297375   \n",
       "0  {\"cutoff\": \"quantile_0.25\", \"eval_fairness_gro...       40.297375   \n",
       "\n",
       "   test_size_n  test_size_frac  fair_main_equalized_odds_difference  \\\n",
       "0        89710             1.0                             0.032383   \n",
       "0        89710             1.0                             0.032383   \n",
       "0        89710             1.0                             0.075230   \n",
       "0        89710             1.0                             0.075230   \n",
       "\n",
       "   fair_main_equalized_odds_ratio  fair_main_demographic_parity_difference  \\\n",
       "0                        0.967295                                 0.022541   \n",
       "0                        0.967295                                 0.022541   \n",
       "0                        0.921354                                 0.040066   \n",
       "0                        0.921354                                 0.040066   \n",
       "\n",
       "   fair_main_demographic_parity_ratio  ...  perf_grp_precision_0  \\\n",
       "0                            0.975933  ...                   NaN   \n",
       "0                            0.975933  ...              0.120805   \n",
       "0                            0.948964  ...                   NaN   \n",
       "0                            0.948964  ...              0.136387   \n",
       "\n",
       "   perf_grp_precision_1  perf_grp_false positive rate_0  \\\n",
       "0                   NaN                             NaN   \n",
       "0              0.139699                        0.908320   \n",
       "0                   NaN                             NaN   \n",
       "0              0.161007                        0.727218   \n",
       "\n",
       "   perf_grp_false positive rate_1  perf_grp_false negative rate_0  \\\n",
       "0                             NaN                             NaN   \n",
       "0                        0.928402                        0.042230   \n",
       "0                             NaN                             NaN   \n",
       "0                        0.758937                        0.118666   \n",
       "\n",
       "   perf_grp_false negative rate_1  perf_grp_selection rate_0  \\\n",
       "0                             NaN                        NaN   \n",
       "0                        0.009847                   0.914021   \n",
       "0                             NaN                        NaN   \n",
       "0                        0.043435                   0.744985   \n",
       "\n",
       "   perf_grp_selection rate_1  perf_grp_count_0  perf_grp_count_1  \n",
       "0                        NaN               NaN               NaN  \n",
       "0                   0.936562           20540.0           69170.0  \n",
       "0                        NaN               NaN               NaN  \n",
       "0                   0.785051           20540.0           69170.0  \n",
       "\n",
       "[4 rows x 50 columns]"
      ]
     },
     "execution_count": 79,
     "metadata": {},
     "output_type": "execute_result"
    }
   ],
   "source": [
    "final_output = universe_analysis.generate_final_output(\n",
    "    y_pred_prob=probs_test,\n",
    "    y_test=y_true,\n",
    "    org_test=org_test,\n",
    "    filter_data=filter_sub_universe_data,\n",
    "    cp_metrics_df=cp_metrics_df,\n",
    "    save=True,\n",
    ")\n",
    "final_output"
   ]
  },
  {
   "cell_type": "code",
   "execution_count": null,
   "id": "721ff514-cb11-46f8-b6fc-50392f74b5cb",
   "metadata": {
    "papermill": {
     "duration": 0.030847,
     "end_time": "2025-07-30T20:18:40.562722",
     "exception": false,
     "start_time": "2025-07-30T20:18:40.531875",
     "status": "completed"
    },
    "tags": []
   },
   "outputs": [],
   "source": []
  }
 ],
 "metadata": {
  "celltoolbar": "Tags",
  "kernelspec": {
   "display_name": "Python (CMA Fairness)",
   "language": "python",
   "name": "cma_fair_env"
  },
  "language_info": {
   "codemirror_mode": {
    "name": "ipython",
    "version": 3
   },
   "file_extension": ".py",
   "mimetype": "text/x-python",
   "name": "python",
   "nbconvert_exporter": "python",
   "pygments_lexer": "ipython3",
   "version": "3.10.12"
  },
  "papermill": {
   "default_parameters": {},
   "duration": 61.665098,
   "end_time": "2025-07-30T20:18:42.061382",
   "environment_variables": {},
   "exception": null,
   "input_path": "universe_analysis.ipynb",
   "output_path": "output/runs/14/notebooks/m_14-015d069fb1d0f921a9b9b9b266883e29.ipynb",
   "parameters": {
    "output_dir": "output",
    "run_no": "14",
    "seed": "2023",
    "universe": "{\"cutoff\": [\"quantile_0.1\", \"quantile_0.25\"], \"eval_fairness_grouping\": [\"majority-minority\", \"nationality-all\"], \"exclude_features\": \"nationality\", \"exclude_subgroups\": \"drop-non-german\", \"model\": \"rf\", \"scale\": \"do-not-scale\", \"training_size\": \"25k\", \"training_year\": \"2012_14\"}",
    "universe_id": "015d069fb1d0f921a9b9b9b266883e29"
   },
   "start_time": "2025-07-30T20:17:40.396284",
   "version": "2.6.0"
  }
 },
 "nbformat": 4,
 "nbformat_minor": 5
}