{
 "cells": [
  {
   "cell_type": "code",
   "execution_count": 1,
   "id": "f159f837-637b-42ba-96b5-ec9a68c44524",
   "metadata": {
    "execution": {
     "iopub.execute_input": "2025-07-30T21:17:36.801303Z",
     "iopub.status.busy": "2025-07-30T21:17:36.800421Z",
     "iopub.status.idle": "2025-07-30T21:17:36.813396Z",
     "shell.execute_reply": "2025-07-30T21:17:36.812481Z"
    },
    "papermill": {
     "duration": 0.034537,
     "end_time": "2025-07-30T21:17:36.814906",
     "exception": false,
     "start_time": "2025-07-30T21:17:36.780369",
     "status": "completed"
    },
    "tags": []
   },
   "outputs": [
    {
     "name": "stdout",
     "output_type": "stream",
     "text": [
      "/dss/dsshome1/0C/ra93lal2/cma/CMA_Fairness_v2\n"
     ]
    },
    {
     "name": "stderr",
     "output_type": "stream",
     "text": [
      "/dss/dsshome1/0C/ra93lal2/.local/share/virtualenvs/CMA_Fairness_v2-3j10GkSs/lib/python3.10/site-packages/IPython/core/magics/osm.py:393: UserWarning: This is now an optional IPython functionality, using bookmarks requires you to install the `pickleshare` library.\n",
      "  bkms = self.shell.db.get('bookmarks', {})\n",
      "/dss/dsshome1/0C/ra93lal2/.local/share/virtualenvs/CMA_Fairness_v2-3j10GkSs/lib/python3.10/site-packages/IPython/core/magics/osm.py:417: UserWarning: This is now an optional IPython functionality, setting dhist requires you to install the `pickleshare` library.\n",
      "  self.shell.db['dhist'] = compress_dhist(dhist)[-100:]\n"
     ]
    }
   ],
   "source": [
    "%cd ~/cma/CMA_Fairness_v2"
   ]
  },
  {
   "cell_type": "markdown",
   "id": "de2603b9",
   "metadata": {
    "papermill": {
     "duration": 0.018645,
     "end_time": "2025-07-30T21:17:36.852768",
     "exception": false,
     "start_time": "2025-07-30T21:17:36.834123",
     "status": "completed"
    },
    "tags": []
   },
   "source": [
    "The following cell holds the definition of our parameters, these values can be overriden by rendering the with e.g. the following command:\n",
    "\n",
    "papermill -p alpha 0.2 -p ratio 0.3 universe_analysis.ipynb output/test_run.ipynb"
   ]
  },
  {
   "cell_type": "code",
   "execution_count": 2,
   "id": "a80968a0-40bb-4fa9-85ef-2d5eefb01975",
   "metadata": {
    "execution": {
     "iopub.execute_input": "2025-07-30T21:17:36.892258Z",
     "iopub.status.busy": "2025-07-30T21:17:36.891327Z",
     "iopub.status.idle": "2025-07-30T21:17:36.897136Z",
     "shell.execute_reply": "2025-07-30T21:17:36.896115Z"
    },
    "papermill": {
     "duration": 0.027672,
     "end_time": "2025-07-30T21:17:36.898767",
     "exception": false,
     "start_time": "2025-07-30T21:17:36.871095",
     "status": "completed"
    },
    "tags": []
   },
   "outputs": [
    {
     "name": "stdout",
     "output_type": "stream",
     "text": [
      "Current working directory: /dss/dsshome1/0C/ra93lal2/cma/CMA_Fairness_v2\n"
     ]
    }
   ],
   "source": [
    "import os\n",
    "print(\"Current working directory:\", os.getcwd())"
   ]
  },
  {
   "cell_type": "code",
   "execution_count": 3,
   "id": "2dce4c03",
   "metadata": {
    "execution": {
     "iopub.execute_input": "2025-07-30T21:17:36.938174Z",
     "iopub.status.busy": "2025-07-30T21:17:36.937501Z",
     "iopub.status.idle": "2025-07-30T21:17:36.943961Z",
     "shell.execute_reply": "2025-07-30T21:17:36.943178Z"
    },
    "papermill": {
     "duration": 0.027645,
     "end_time": "2025-07-30T21:17:36.945559",
     "exception": false,
     "start_time": "2025-07-30T21:17:36.917914",
     "status": "completed"
    },
    "tags": [
     "parameters"
    ]
   },
   "outputs": [],
   "source": [
    "run_no = 0\n",
    "universe_id = \"test\"\n",
    "universe = {\n",
    "    \"training_size\": \"25k\", # \"25k\", \"5k\", \"1k\"\n",
    "    \"training_year\": \"2014\", # \"2014\", \"2012_14\", \"2010_14\"\n",
    "    \"scale\": \"scale\", # \"scale\", \"do-not-scale\",\n",
    "    #\"stratify_split\": \"target\", # \"none\", \"target\", \"protected-attribute\", \"both\",\n",
    "    \"model\": \"elasticnet\", # \"logreg\", \"penalized_logreg\", \"rf\", \"gbm\", \"elasticnet\"\n",
    "    \"cutoff\": [\"quantile_0.15\", \"quantile_0.30\"],\n",
    "    \"exclude_features\": \"age\", # \"none\", \"nationality\", \"sex\", \"nationality-sex\", \"age\"\n",
    "    \"exclude_subgroups\": \"keep-all\", # \"keep-all\", \"drop-non-german\"\n",
    "    \"eval_fairness_grouping\": [\"majority-minority\", \"nationality-all\"]\n",
    "}\n",
    "\n",
    "output_dir=\"./output\"\n",
    "seed=0"
   ]
  },
  {
   "cell_type": "code",
   "execution_count": 4,
   "id": "c7685344",
   "metadata": {
    "execution": {
     "iopub.execute_input": "2025-07-30T21:17:36.985040Z",
     "iopub.status.busy": "2025-07-30T21:17:36.984347Z",
     "iopub.status.idle": "2025-07-30T21:17:36.990052Z",
     "shell.execute_reply": "2025-07-30T21:17:36.989210Z"
    },
    "papermill": {
     "duration": 0.027186,
     "end_time": "2025-07-30T21:17:36.991883",
     "exception": false,
     "start_time": "2025-07-30T21:17:36.964697",
     "status": "completed"
    },
    "tags": [
     "injected-parameters"
    ]
   },
   "outputs": [],
   "source": [
    "# Parameters\n",
    "universe_id = \"dab432966aae4ef6c8ec4eb3c7a1f849\"\n",
    "run_no = \"14\"\n",
    "universe = \"{\\\"cutoff\\\": [\\\"quantile_0.1\\\", \\\"quantile_0.25\\\"], \\\"eval_fairness_grouping\\\": [\\\"majority-minority\\\", \\\"nationality-all\\\"], \\\"exclude_features\\\": \\\"nationality-sex\\\", \\\"exclude_subgroups\\\": \\\"keep-all\\\", \\\"model\\\": \\\"rf\\\", \\\"scale\\\": \\\"do-not-scale\\\", \\\"training_size\\\": \\\"5k\\\", \\\"training_year\\\": \\\"2010_14\\\"}\"\n",
    "output_dir = \"output\"\n",
    "seed = \"2023\"\n"
   ]
  },
  {
   "cell_type": "code",
   "execution_count": 5,
   "id": "1650acaf",
   "metadata": {
    "execution": {
     "iopub.execute_input": "2025-07-30T21:17:37.032086Z",
     "iopub.status.busy": "2025-07-30T21:17:37.031387Z",
     "iopub.status.idle": "2025-07-30T21:17:37.036717Z",
     "shell.execute_reply": "2025-07-30T21:17:37.035690Z"
    },
    "papermill": {
     "duration": 0.026539,
     "end_time": "2025-07-30T21:17:37.038299",
     "exception": false,
     "start_time": "2025-07-30T21:17:37.011760",
     "status": "completed"
    },
    "tags": []
   },
   "outputs": [],
   "source": [
    "import json\n",
    "# Parse universe into dict if it is passed as a string\n",
    "if isinstance(universe, str):\n",
    "    universe = json.loads(universe)"
   ]
  },
  {
   "cell_type": "code",
   "execution_count": 6,
   "id": "16620c48",
   "metadata": {
    "execution": {
     "iopub.execute_input": "2025-07-30T21:17:37.079800Z",
     "iopub.status.busy": "2025-07-30T21:17:37.078896Z",
     "iopub.status.idle": "2025-07-30T21:17:37.124171Z",
     "shell.execute_reply": "2025-07-30T21:17:37.123171Z"
    },
    "papermill": {
     "duration": 0.067089,
     "end_time": "2025-07-30T21:17:37.126068",
     "exception": false,
     "start_time": "2025-07-30T21:17:37.058979",
     "status": "completed"
    },
    "tags": []
   },
   "outputs": [],
   "source": [
    "# Auto-reload the custom package\n",
    "%load_ext autoreload\n",
    "%autoreload 1\n",
    "%aimport fairness_multiverse"
   ]
  },
  {
   "cell_type": "code",
   "execution_count": 7,
   "id": "01c5c9f3",
   "metadata": {
    "execution": {
     "iopub.execute_input": "2025-07-30T21:17:37.167275Z",
     "iopub.status.busy": "2025-07-30T21:17:37.166369Z",
     "iopub.status.idle": "2025-07-30T21:17:39.137200Z",
     "shell.execute_reply": "2025-07-30T21:17:39.136171Z"
    },
    "papermill": {
     "duration": 1.99353,
     "end_time": "2025-07-30T21:17:39.139160",
     "exception": false,
     "start_time": "2025-07-30T21:17:37.145630",
     "status": "completed"
    },
    "tags": []
   },
   "outputs": [],
   "source": [
    "from fairness_multiverse.universe import UniverseAnalysis\n",
    "\n",
    "universe_analysis = UniverseAnalysis(\n",
    "    run_no = run_no,\n",
    "    universe_id = universe_id,\n",
    "    universe = universe,\n",
    "    output_dir=output_dir,\n",
    ")"
   ]
  },
  {
   "cell_type": "code",
   "execution_count": 8,
   "id": "106241f5",
   "metadata": {
    "execution": {
     "iopub.execute_input": "2025-07-30T21:17:39.183022Z",
     "iopub.status.busy": "2025-07-30T21:17:39.182110Z",
     "iopub.status.idle": "2025-07-30T21:17:39.188577Z",
     "shell.execute_reply": "2025-07-30T21:17:39.187630Z"
    },
    "papermill": {
     "duration": 0.028661,
     "end_time": "2025-07-30T21:17:39.190246",
     "exception": false,
     "start_time": "2025-07-30T21:17:39.161585",
     "status": "completed"
    },
    "tags": []
   },
   "outputs": [
    {
     "name": "stdout",
     "output_type": "stream",
     "text": [
      "Using Seed: 2023\n"
     ]
    }
   ],
   "source": [
    "import numpy as np\n",
    "parsed_seed = int(seed)\n",
    "np.random.seed(parsed_seed)\n",
    "print(f\"Using Seed: {parsed_seed}\")"
   ]
  },
  {
   "cell_type": "markdown",
   "id": "e0ebdc57",
   "metadata": {
    "papermill": {
     "duration": 0.020078,
     "end_time": "2025-07-30T21:17:39.231295",
     "exception": false,
     "start_time": "2025-07-30T21:17:39.211217",
     "status": "completed"
    },
    "tags": []
   },
   "source": [
    "# Loading Data"
   ]
  },
  {
   "cell_type": "markdown",
   "id": "681925a3",
   "metadata": {
    "papermill": {
     "duration": 0.020179,
     "end_time": "2025-07-30T21:17:39.270826",
     "exception": false,
     "start_time": "2025-07-30T21:17:39.250647",
     "status": "completed"
    },
    "tags": []
   },
   "source": [
    "Load siab_train, siab_test, siab_calib and/or \n",
    "load siab_train_features, siab_train_labels"
   ]
  },
  {
   "cell_type": "code",
   "execution_count": 9,
   "id": "f0496b8a",
   "metadata": {
    "execution": {
     "iopub.execute_input": "2025-07-30T21:17:39.312515Z",
     "iopub.status.busy": "2025-07-30T21:17:39.312056Z",
     "iopub.status.idle": "2025-07-30T21:17:52.722328Z",
     "shell.execute_reply": "2025-07-30T21:17:52.721111Z"
    },
    "papermill": {
     "duration": 13.432347,
     "end_time": "2025-07-30T21:17:52.724060",
     "exception": false,
     "start_time": "2025-07-30T21:17:39.291713",
     "status": "completed"
    },
    "tags": []
   },
   "outputs": [
    {
     "name": "stdout",
     "output_type": "stream",
     "text": [
      "Loading SIAB data from cache: data/siab_cached.csv.gz\n"
     ]
    },
    {
     "name": "stdout",
     "output_type": "stream",
     "text": [
      "(643690, 164)\n"
     ]
    }
   ],
   "source": [
    "from pathlib import Path\n",
    "import pandas as pd\n",
    "\n",
    "# File paths\n",
    "raw_file = Path(\"data/raw/siab.csv\")\n",
    "cache_file = Path(\"data/siab_cached.csv.gz\")\n",
    "\n",
    "# Ensure cache directory exists\n",
    "cache_file.parent.mkdir(parents=True, exist_ok=True)\n",
    "\n",
    "# Load with simple caching\n",
    "if cache_file.exists():\n",
    "    print(f\"Loading SIAB data from cache: {cache_file}\")\n",
    "    siab = pd.read_csv(cache_file, compression='gzip')\n",
    "else:\n",
    "    print(f\"Cache not found. Reading raw SIAB data: {raw_file}\")\n",
    "    siab = pd.read_csv(raw_file)\n",
    "    siab.to_csv(cache_file, index=False, compression='gzip')\n",
    "    print(f\"Cached SIAB data to: {cache_file}\")\n",
    "\n",
    "# Now use `siab` DataFrame as needed\n",
    "print(siab.shape)"
   ]
  },
  {
   "cell_type": "code",
   "execution_count": 10,
   "id": "db0ca512-5f53-4dba-abdb-a2888bca41ba",
   "metadata": {
    "execution": {
     "iopub.execute_input": "2025-07-30T21:17:52.775176Z",
     "iopub.status.busy": "2025-07-30T21:17:52.774792Z",
     "iopub.status.idle": "2025-07-30T21:17:52.780526Z",
     "shell.execute_reply": "2025-07-30T21:17:52.779481Z"
    },
    "papermill": {
     "duration": 0.037711,
     "end_time": "2025-07-30T21:17:52.783168",
     "exception": false,
     "start_time": "2025-07-30T21:17:52.745457",
     "status": "completed"
    },
    "tags": []
   },
   "outputs": [],
   "source": [
    "#siab"
   ]
  },
  {
   "cell_type": "code",
   "execution_count": 11,
   "id": "a0edb063",
   "metadata": {
    "execution": {
     "iopub.execute_input": "2025-07-30T21:17:52.840365Z",
     "iopub.status.busy": "2025-07-30T21:17:52.839941Z",
     "iopub.status.idle": "2025-07-30T21:17:52.845163Z",
     "shell.execute_reply": "2025-07-30T21:17:52.844027Z"
    },
    "papermill": {
     "duration": 0.021847,
     "end_time": "2025-07-30T21:17:52.848061",
     "exception": false,
     "start_time": "2025-07-30T21:17:52.826214",
     "status": "completed"
    },
    "tags": []
   },
   "outputs": [],
   "source": [
    "#import pandas as pd\n",
    "#\n",
    "#X_train = pd.read_csv(\"./data/X_train.csv\")\n",
    "#y_train = pd.read_csv(\"./data/y_train.csv\")"
   ]
  },
  {
   "cell_type": "code",
   "execution_count": 12,
   "id": "63d08085",
   "metadata": {
    "execution": {
     "iopub.execute_input": "2025-07-30T21:17:52.887903Z",
     "iopub.status.busy": "2025-07-30T21:17:52.887509Z",
     "iopub.status.idle": "2025-07-30T21:17:52.892639Z",
     "shell.execute_reply": "2025-07-30T21:17:52.891564Z"
    },
    "papermill": {
     "duration": 0.025183,
     "end_time": "2025-07-30T21:17:52.894989",
     "exception": false,
     "start_time": "2025-07-30T21:17:52.869806",
     "status": "completed"
    },
    "tags": []
   },
   "outputs": [],
   "source": [
    "#X_test = pd.read_csv(\"./data/X_test.csv\")\n",
    "#y_true = pd.read_csv(\"./data/y_test.csv\")"
   ]
  },
  {
   "cell_type": "code",
   "execution_count": 13,
   "id": "98a8d0fa-1d3d-4ed8-bb2c-281470e24add",
   "metadata": {
    "execution": {
     "iopub.execute_input": "2025-07-30T21:17:52.938172Z",
     "iopub.status.busy": "2025-07-30T21:17:52.937760Z",
     "iopub.status.idle": "2025-07-30T21:17:52.942961Z",
     "shell.execute_reply": "2025-07-30T21:17:52.941908Z"
    },
    "papermill": {
     "duration": 0.02732,
     "end_time": "2025-07-30T21:17:52.944965",
     "exception": false,
     "start_time": "2025-07-30T21:17:52.917645",
     "status": "completed"
    },
    "tags": []
   },
   "outputs": [],
   "source": [
    "# Calibration data for conformal\n",
    "#X_calib = pd.read_csv(\"./data/X_calib.csv\")\n",
    "#y_calib = pd.read_csv(\"./data/y_calib.csv\")"
   ]
  },
  {
   "cell_type": "markdown",
   "id": "997051c5-15bd-4b69-9786-c3001a3ce484",
   "metadata": {
    "papermill": {
     "duration": 0.020878,
     "end_time": "2025-07-30T21:17:53.001408",
     "exception": false,
     "start_time": "2025-07-30T21:17:52.980530",
     "status": "completed"
    },
    "tags": []
   },
   "source": [
    "# Splitting Data and Setting Training Data Size"
   ]
  },
  {
   "cell_type": "code",
   "execution_count": 14,
   "id": "e993b61f-042d-41a6-8c81-f55681f86335",
   "metadata": {
    "execution": {
     "iopub.execute_input": "2025-07-30T21:17:53.044192Z",
     "iopub.status.busy": "2025-07-30T21:17:53.043740Z",
     "iopub.status.idle": "2025-07-30T21:17:53.054856Z",
     "shell.execute_reply": "2025-07-30T21:17:53.053763Z"
    },
    "papermill": {
     "duration": 0.034631,
     "end_time": "2025-07-30T21:17:53.057109",
     "exception": false,
     "start_time": "2025-07-30T21:17:53.022478",
     "status": "completed"
    },
    "tags": []
   },
   "outputs": [],
   "source": [
    "def sample_by_year_size(df,\n",
    "                        training_year: str,\n",
    "                        training_size: str,\n",
    "                        random_state: int = 42):\n",
    "    # --- parse training_year into a list of int years ---\n",
    "    if \"_\" in training_year:\n",
    "        start_str, end_str = training_year.split(\"_\", 1)\n",
    "        start = int(start_str)\n",
    "        end   = int(end_str) if len(end_str) == 4 else (int(end_str) + (start // 100)*100)\n",
    "        years = list(range(start, end + 1))\n",
    "    else:\n",
    "        years = [int(training_year)]\n",
    "\n",
    "    df = df[df[\"year\"].isin(years)].reset_index(drop=True)\n",
    "\n",
    "    # --- map training_size to total number of samples ---\n",
    "    total_map = {\"25k\": 25_000, \"5k\": 5_000, \"1k\": 1_000}\n",
    "    if training_size not in total_map:\n",
    "        return df  # e.g. \"all\"\n",
    "\n",
    "    total_samples = total_map[training_size]\n",
    "    n_years       = len(years)\n",
    "    base          = total_samples // n_years\n",
    "    remainder     = total_samples % n_years\n",
    "\n",
    "    # --- build a dict: year -> how many to sample ---\n",
    "    # give +1 to the first `remainder` years in ascending order\n",
    "    quotas = {\n",
    "        year: base + (1 if idx < remainder else 0)\n",
    "        for idx, year in enumerate(sorted(years))\n",
    "    }\n",
    "\n",
    "    # --- sample per‐year according to the quota dict ---\n",
    "    sampled = (\n",
    "        df\n",
    "        .groupby(\"year\", group_keys=False)\n",
    "        .apply(lambda grp: grp.sample(\n",
    "            n=min(len(grp), quotas[grp.name]),\n",
    "            random_state=random_state))\n",
    "        .reset_index(drop=True)\n",
    "    )\n",
    "\n",
    "    return sampled"
   ]
  },
  {
   "cell_type": "code",
   "execution_count": 15,
   "id": "c0ccd338-0e02-41f3-a09d-f56f9266e3fb",
   "metadata": {
    "execution": {
     "iopub.execute_input": "2025-07-30T21:17:53.096003Z",
     "iopub.status.busy": "2025-07-30T21:17:53.095610Z",
     "iopub.status.idle": "2025-07-30T21:17:53.100784Z",
     "shell.execute_reply": "2025-07-30T21:17:53.099715Z"
    },
    "papermill": {
     "duration": 0.028565,
     "end_time": "2025-07-30T21:17:53.103731",
     "exception": false,
     "start_time": "2025-07-30T21:17:53.075166",
     "status": "completed"
    },
    "tags": []
   },
   "outputs": [],
   "source": [
    "#universe[\"training_size\"]"
   ]
  },
  {
   "cell_type": "code",
   "execution_count": 16,
   "id": "ca707fd7-8047-4acd-bfa5-66248fbbf8e6",
   "metadata": {
    "execution": {
     "iopub.execute_input": "2025-07-30T21:17:53.190831Z",
     "iopub.status.busy": "2025-07-30T21:17:53.190432Z",
     "iopub.status.idle": "2025-07-30T21:17:53.195985Z",
     "shell.execute_reply": "2025-07-30T21:17:53.194673Z"
    },
    "papermill": {
     "duration": 0.030557,
     "end_time": "2025-07-30T21:17:53.199203",
     "exception": false,
     "start_time": "2025-07-30T21:17:53.168646",
     "status": "completed"
    },
    "tags": []
   },
   "outputs": [],
   "source": [
    "#universe[\"training_year\"]"
   ]
  },
  {
   "cell_type": "code",
   "execution_count": 17,
   "id": "aea9c6ef-6f46-42c8-85eb-5a62025c1508",
   "metadata": {
    "execution": {
     "iopub.execute_input": "2025-07-30T21:17:53.256738Z",
     "iopub.status.busy": "2025-07-30T21:17:53.256298Z",
     "iopub.status.idle": "2025-07-30T21:17:54.438003Z",
     "shell.execute_reply": "2025-07-30T21:17:54.437042Z"
    },
    "papermill": {
     "duration": 1.21918,
     "end_time": "2025-07-30T21:17:54.439859",
     "exception": false,
     "start_time": "2025-07-30T21:17:53.220679",
     "status": "completed"
    },
    "tags": []
   },
   "outputs": [],
   "source": [
    "siab_train = sample_by_year_size(siab,\n",
    "                               training_year=universe[\"training_year\"],\n",
    "                               training_size=universe[\"training_size\"])"
   ]
  },
  {
   "cell_type": "code",
   "execution_count": 18,
   "id": "8d3afb32-789d-442c-8d5d-9f5aa8dd2eed",
   "metadata": {
    "execution": {
     "iopub.execute_input": "2025-07-30T21:17:54.615619Z",
     "iopub.status.busy": "2025-07-30T21:17:54.615201Z",
     "iopub.status.idle": "2025-07-30T21:17:54.637353Z",
     "shell.execute_reply": "2025-07-30T21:17:54.636136Z"
    },
    "papermill": {
     "duration": 0.151319,
     "end_time": "2025-07-30T21:17:54.639467",
     "exception": false,
     "start_time": "2025-07-30T21:17:54.488148",
     "status": "completed"
    },
    "tags": []
   },
   "outputs": [],
   "source": [
    "#siab_train.shape"
   ]
  },
  {
   "cell_type": "code",
   "execution_count": 19,
   "id": "d582db68-1a4c-47fb-84fc-08518dc1975a",
   "metadata": {
    "execution": {
     "iopub.execute_input": "2025-07-30T21:17:54.722318Z",
     "iopub.status.busy": "2025-07-30T21:17:54.721881Z",
     "iopub.status.idle": "2025-07-30T21:17:54.727480Z",
     "shell.execute_reply": "2025-07-30T21:17:54.726344Z"
    },
    "papermill": {
     "duration": 0.051845,
     "end_time": "2025-07-30T21:17:54.730632",
     "exception": false,
     "start_time": "2025-07-30T21:17:54.678787",
     "status": "completed"
    },
    "tags": []
   },
   "outputs": [],
   "source": [
    "#display(siab_train.groupby(\"year\").size())"
   ]
  },
  {
   "cell_type": "code",
   "execution_count": 20,
   "id": "a561edb4-d032-42cb-8256-22eac1111c64",
   "metadata": {
    "execution": {
     "iopub.execute_input": "2025-07-30T21:17:54.781639Z",
     "iopub.status.busy": "2025-07-30T21:17:54.781229Z",
     "iopub.status.idle": "2025-07-30T21:17:55.064143Z",
     "shell.execute_reply": "2025-07-30T21:17:55.063032Z"
    },
    "papermill": {
     "duration": 0.31107,
     "end_time": "2025-07-30T21:17:55.066329",
     "exception": false,
     "start_time": "2025-07-30T21:17:54.755259",
     "status": "completed"
    },
    "tags": []
   },
   "outputs": [],
   "source": [
    "#siab_train = siab_s[siab_s.year < 2015]\n",
    "siab_calib = siab[siab.year == 2015]\n",
    "siab_test = siab[siab.year == 2016]"
   ]
  },
  {
   "cell_type": "code",
   "execution_count": 21,
   "id": "472de16f-c3db-4916-846b-1f0de9cf1746",
   "metadata": {
    "execution": {
     "iopub.execute_input": "2025-07-30T21:17:55.150991Z",
     "iopub.status.busy": "2025-07-30T21:17:55.150428Z",
     "iopub.status.idle": "2025-07-30T21:17:55.163948Z",
     "shell.execute_reply": "2025-07-30T21:17:55.162737Z"
    },
    "papermill": {
     "duration": 0.050076,
     "end_time": "2025-07-30T21:17:55.165933",
     "exception": false,
     "start_time": "2025-07-30T21:17:55.115857",
     "status": "completed"
    },
    "tags": []
   },
   "outputs": [],
   "source": [
    "X_train = siab_train.iloc[:,4:164]\n",
    "y_train = siab_train.iloc[:, [3]]"
   ]
  },
  {
   "cell_type": "code",
   "execution_count": 22,
   "id": "828c96af-f43a-4ed6-ba47-8ac73a47d56c",
   "metadata": {
    "execution": {
     "iopub.execute_input": "2025-07-30T21:17:55.214420Z",
     "iopub.status.busy": "2025-07-30T21:17:55.213984Z",
     "iopub.status.idle": "2025-07-30T21:17:55.366657Z",
     "shell.execute_reply": "2025-07-30T21:17:55.365718Z"
    },
    "papermill": {
     "duration": 0.178627,
     "end_time": "2025-07-30T21:17:55.368746",
     "exception": false,
     "start_time": "2025-07-30T21:17:55.190119",
     "status": "completed"
    },
    "tags": []
   },
   "outputs": [],
   "source": [
    "X_calib = siab_calib.iloc[:,4:164]\n",
    "y_calib = siab_calib.iloc[:, [3]]"
   ]
  },
  {
   "cell_type": "code",
   "execution_count": 23,
   "id": "c34be9c3-6bd6-476e-acd3-845840e303be",
   "metadata": {
    "execution": {
     "iopub.execute_input": "2025-07-30T21:17:55.454138Z",
     "iopub.status.busy": "2025-07-30T21:17:55.453620Z",
     "iopub.status.idle": "2025-07-30T21:17:55.550510Z",
     "shell.execute_reply": "2025-07-30T21:17:55.549193Z"
    },
    "papermill": {
     "duration": 0.156011,
     "end_time": "2025-07-30T21:17:55.552415",
     "exception": false,
     "start_time": "2025-07-30T21:17:55.396404",
     "status": "completed"
    },
    "tags": []
   },
   "outputs": [],
   "source": [
    "X_test = siab_test.iloc[:,4:164]\n",
    "y_true = siab_test.iloc[:, [3]]"
   ]
  },
  {
   "cell_type": "markdown",
   "id": "9901737e-04df-44f0-9100-f5ad144ed040",
   "metadata": {
    "papermill": {
     "duration": 0.049442,
     "end_time": "2025-07-30T21:17:55.660855",
     "exception": false,
     "start_time": "2025-07-30T21:17:55.611413",
     "status": "completed"
    },
    "tags": []
   },
   "source": [
    "# Splitting Data and Setting Training Data Size OLD VERSION"
   ]
  },
  {
   "cell_type": "code",
   "execution_count": 24,
   "id": "acbc8f7d-8fc8-4e86-8c59-5dcb0f58384b",
   "metadata": {
    "execution": {
     "iopub.execute_input": "2025-07-30T21:17:55.709861Z",
     "iopub.status.busy": "2025-07-30T21:17:55.709424Z",
     "iopub.status.idle": "2025-07-30T21:17:55.715799Z",
     "shell.execute_reply": "2025-07-30T21:17:55.714564Z"
    },
    "papermill": {
     "duration": 0.03506,
     "end_time": "2025-07-30T21:17:55.719506",
     "exception": false,
     "start_time": "2025-07-30T21:17:55.684446",
     "status": "completed"
    },
    "tags": []
   },
   "outputs": [],
   "source": [
    "#def sample_by_year(df, training_size, random_state=42):\n",
    "#    if training_size == \"2014\":\n",
    "#        return df[df[\"year\"] == 2014].reset_index(drop=True)\n",
    "#    \n",
    "#    size_map = {\n",
    "#        \"25k\": 5000,\n",
    "#        \"5k\": 1000,\n",
    "#        \"1k\": 200\n",
    "#    }\n",
    "#\n",
    "#    if training_size not in size_map:\n",
    "#        return df.reset_index(drop=True)  # use all data\n",
    "#\n",
    "#    n_per_year = size_map[training_size]\n",
    "#    grouped = df.groupby(\"year\")\n",
    "#    sampled = grouped.apply(lambda x: x.sample(n=min(n_per_year, len(x)), random_state=random_state))\n",
    "#    return sampled.reset_index(drop=True)"
   ]
  },
  {
   "cell_type": "code",
   "execution_count": 25,
   "id": "6d931f52-beaf-43ff-9e78-9d44a448d54e",
   "metadata": {
    "execution": {
     "iopub.execute_input": "2025-07-30T21:17:55.770475Z",
     "iopub.status.busy": "2025-07-30T21:17:55.770046Z",
     "iopub.status.idle": "2025-07-30T21:17:55.775754Z",
     "shell.execute_reply": "2025-07-30T21:17:55.774595Z"
    },
    "papermill": {
     "duration": 0.047125,
     "end_time": "2025-07-30T21:17:55.792189",
     "exception": false,
     "start_time": "2025-07-30T21:17:55.745064",
     "status": "completed"
    },
    "tags": []
   },
   "outputs": [],
   "source": [
    "#siab_s = sample_by_year(siab, universe[\"training_size\"])"
   ]
  },
  {
   "cell_type": "code",
   "execution_count": 26,
   "id": "5db0a40e-a4e2-4920-be85-b12ae061d70d",
   "metadata": {
    "execution": {
     "iopub.execute_input": "2025-07-30T21:17:55.857444Z",
     "iopub.status.busy": "2025-07-30T21:17:55.857015Z",
     "iopub.status.idle": "2025-07-30T21:17:55.865760Z",
     "shell.execute_reply": "2025-07-30T21:17:55.864664Z"
    },
    "papermill": {
     "duration": 0.043366,
     "end_time": "2025-07-30T21:17:55.871638",
     "exception": false,
     "start_time": "2025-07-30T21:17:55.828272",
     "status": "completed"
    },
    "tags": []
   },
   "outputs": [],
   "source": [
    "#display(siab_s.groupby(\"year\").size())"
   ]
  },
  {
   "cell_type": "code",
   "execution_count": 27,
   "id": "e6c733c5",
   "metadata": {
    "execution": {
     "iopub.execute_input": "2025-07-30T21:17:55.961085Z",
     "iopub.status.busy": "2025-07-30T21:17:55.960224Z",
     "iopub.status.idle": "2025-07-30T21:17:56.113414Z",
     "shell.execute_reply": "2025-07-30T21:17:56.112123Z"
    },
    "papermill": {
     "duration": 0.206443,
     "end_time": "2025-07-30T21:17:56.115539",
     "exception": false,
     "start_time": "2025-07-30T21:17:55.909096",
     "status": "completed"
    },
    "tags": []
   },
   "outputs": [],
   "source": [
    "# Auxiliary data needed downstream in the pipeline\n",
    "\n",
    "org_train = X_train.copy()\n",
    "org_test = X_test.copy()\n",
    "org_calib = X_calib.copy()"
   ]
  },
  {
   "cell_type": "code",
   "execution_count": 28,
   "id": "1466abac-c6da-4492-a62f-4240ae3783af",
   "metadata": {
    "execution": {
     "iopub.execute_input": "2025-07-30T21:17:56.214221Z",
     "iopub.status.busy": "2025-07-30T21:17:56.213814Z",
     "iopub.status.idle": "2025-07-30T21:17:56.220421Z",
     "shell.execute_reply": "2025-07-30T21:17:56.219489Z"
    },
    "papermill": {
     "duration": 0.064962,
     "end_time": "2025-07-30T21:17:56.222567",
     "exception": false,
     "start_time": "2025-07-30T21:17:56.157605",
     "status": "completed"
    },
    "tags": []
   },
   "outputs": [],
   "source": [
    "# put in other script?\n",
    "# Group sizes\n",
    "\n",
    "#def calculate_percentages(df, df_name):\n",
    "#    total_entries = len(df)\n",
    "#\n",
    "#    female_pct = (df['frau1'] == 1).mean() * 100\n",
    "#    non_german_pct = ((df['maxdeutsch1'] == 0) & (df['maxdeutsch.Missing.'] == 0)).mean() * 100\n",
    "#    non_german_male_pct = ((df['frau1'] == 0) & (df['maxdeutsch1'] == 0) & (df['maxdeutsch.Missing.'] == 0)).mean() * 100\n",
    "#    non_german_female_pct = ((df['frau1'] == 1) & (df['maxdeutsch1'] == 0) & (df['maxdeutsch.Missing.'] == 0)).mean() * 100\n",
    "#\n",
    "#    print(f\"--- {df_name} ---\")\n",
    "#    print(f\"Female: {female_pct:.2f}%\")\n",
    "#    print(f\"Non-German: {non_german_pct:.2f}%\")\n",
    "#    print(f\"Non-German Male: {non_german_male_pct:.2f}%\")\n",
    "#    print(f\"Non-German Female: {non_german_female_pct:.2f}%\\n\")\n",
    "#\n",
    "## Calculate for each DataFrame\n",
    "#calculate_percentages(siab_calib, \"siab_calib\")\n",
    "#calculate_percentages(siab_test, \"siab_test\")\n",
    "#calculate_percentages(siab_train, \"siab_train\")"
   ]
  },
  {
   "cell_type": "markdown",
   "id": "0a4a1b33",
   "metadata": {
    "papermill": {
     "duration": 0.034178,
     "end_time": "2025-07-30T21:17:56.315122",
     "exception": false,
     "start_time": "2025-07-30T21:17:56.280944",
     "status": "completed"
    },
    "tags": []
   },
   "source": [
    "# Preprocessing Data"
   ]
  },
  {
   "cell_type": "code",
   "execution_count": 29,
   "id": "ca879031",
   "metadata": {
    "execution": {
     "iopub.execute_input": "2025-07-30T21:17:56.377730Z",
     "iopub.status.busy": "2025-07-30T21:17:56.377306Z",
     "iopub.status.idle": "2025-07-30T21:17:56.383398Z",
     "shell.execute_reply": "2025-07-30T21:17:56.382518Z"
    },
    "papermill": {
     "duration": 0.054116,
     "end_time": "2025-07-30T21:17:56.397898",
     "exception": false,
     "start_time": "2025-07-30T21:17:56.343782",
     "status": "completed"
    },
    "tags": []
   },
   "outputs": [],
   "source": [
    "# EXCLUDE PROTECTED FEATURES\n",
    "# ----------------------\n",
    "# \"exclude_features\": \"none\", # \"nationality\", \"sex\", \"nationality-sex\"\n",
    "\n",
    "excluded_features = universe[\"exclude_features\"].split(\"-\") # split, e.g.: \"nationality-sex\" -> [\"nationality\", \"sex\"]\n",
    "excluded_features_dictionary = {\n",
    "    \"nationality\": [\"maxdeutsch1\", \"maxdeutsch.Missing.\"],\n",
    "    \"sex\": [\"frau1\"],\n",
    "    \"age\": [\"age\"],\n",
    "}\n"
   ]
  },
  {
   "cell_type": "code",
   "execution_count": 30,
   "id": "b745ac60",
   "metadata": {
    "execution": {
     "iopub.execute_input": "2025-07-30T21:17:56.496705Z",
     "iopub.status.busy": "2025-07-30T21:17:56.496277Z",
     "iopub.status.idle": "2025-07-30T21:17:56.502577Z",
     "shell.execute_reply": "2025-07-30T21:17:56.501446Z"
    },
    "papermill": {
     "duration": 0.062543,
     "end_time": "2025-07-30T21:17:56.512826",
     "exception": false,
     "start_time": "2025-07-30T21:17:56.450283",
     "status": "completed"
    },
    "tags": []
   },
   "outputs": [],
   "source": [
    "# Code nice names to column names\n",
    "\n",
    "excluded_features_columns = [\n",
    "    excluded_features_dictionary[f] for f in excluded_features if len(f) > 0 and f != \"none\"\n",
    "]"
   ]
  },
  {
   "cell_type": "code",
   "execution_count": 31,
   "id": "f84f73a2",
   "metadata": {
    "execution": {
     "iopub.execute_input": "2025-07-30T21:17:56.557439Z",
     "iopub.status.busy": "2025-07-30T21:17:56.557040Z",
     "iopub.status.idle": "2025-07-30T21:17:56.563389Z",
     "shell.execute_reply": "2025-07-30T21:17:56.562299Z"
    },
    "papermill": {
     "duration": 0.031892,
     "end_time": "2025-07-30T21:17:56.566608",
     "exception": false,
     "start_time": "2025-07-30T21:17:56.534716",
     "status": "completed"
    },
    "tags": []
   },
   "outputs": [],
   "source": [
    "from utils import flatten_once\n",
    "\n",
    "excluded_features_columns = flatten_once(excluded_features_columns)"
   ]
  },
  {
   "cell_type": "code",
   "execution_count": 32,
   "id": "884dea22",
   "metadata": {
    "execution": {
     "iopub.execute_input": "2025-07-30T21:17:56.619315Z",
     "iopub.status.busy": "2025-07-30T21:17:56.618428Z",
     "iopub.status.idle": "2025-07-30T21:17:56.628199Z",
     "shell.execute_reply": "2025-07-30T21:17:56.627168Z"
    },
    "papermill": {
     "duration": 0.031441,
     "end_time": "2025-07-30T21:17:56.630508",
     "exception": false,
     "start_time": "2025-07-30T21:17:56.599067",
     "status": "completed"
    },
    "tags": []
   },
   "outputs": [
    {
     "name": "stdout",
     "output_type": "stream",
     "text": [
      "Dropping features: ['maxdeutsch1', 'maxdeutsch.Missing.', 'frau1']\n"
     ]
    }
   ],
   "source": [
    "if len(excluded_features_columns) > 0:\n",
    "    print(f\"Dropping features: {excluded_features_columns}\")\n",
    "    X_train.drop(excluded_features_columns, axis=1, inplace=True)"
   ]
  },
  {
   "cell_type": "code",
   "execution_count": 33,
   "id": "95ab8b16",
   "metadata": {
    "execution": {
     "iopub.execute_input": "2025-07-30T21:17:56.677931Z",
     "iopub.status.busy": "2025-07-30T21:17:56.677499Z",
     "iopub.status.idle": "2025-07-30T21:17:56.735431Z",
     "shell.execute_reply": "2025-07-30T21:17:56.734280Z"
    },
    "papermill": {
     "duration": 0.084277,
     "end_time": "2025-07-30T21:17:56.737551",
     "exception": false,
     "start_time": "2025-07-30T21:17:56.653274",
     "status": "completed"
    },
    "tags": []
   },
   "outputs": [
    {
     "name": "stdout",
     "output_type": "stream",
     "text": [
      "Dropping features: ['maxdeutsch1', 'maxdeutsch.Missing.', 'frau1']\n"
     ]
    }
   ],
   "source": [
    "if len(excluded_features_columns) > 0:\n",
    "    print(f\"Dropping features: {excluded_features_columns}\")\n",
    "    X_test.drop(excluded_features_columns, axis=1, inplace=True)"
   ]
  },
  {
   "cell_type": "code",
   "execution_count": 34,
   "id": "1853aaf5-fb9f-46cb-a2b5-8ea4ae2237e4",
   "metadata": {
    "execution": {
     "iopub.execute_input": "2025-07-30T21:17:56.785945Z",
     "iopub.status.busy": "2025-07-30T21:17:56.785571Z",
     "iopub.status.idle": "2025-07-30T21:17:56.841146Z",
     "shell.execute_reply": "2025-07-30T21:17:56.839938Z"
    },
    "papermill": {
     "duration": 0.081232,
     "end_time": "2025-07-30T21:17:56.843238",
     "exception": false,
     "start_time": "2025-07-30T21:17:56.762006",
     "status": "completed"
    },
    "tags": []
   },
   "outputs": [
    {
     "name": "stdout",
     "output_type": "stream",
     "text": [
      "Dropping features: ['maxdeutsch1', 'maxdeutsch.Missing.', 'frau1']\n"
     ]
    }
   ],
   "source": [
    "if len(excluded_features_columns) > 0:\n",
    "    print(f\"Dropping features: {excluded_features_columns}\")\n",
    "    X_calib.drop(excluded_features_columns, axis=1, inplace=True)"
   ]
  },
  {
   "cell_type": "code",
   "execution_count": 35,
   "id": "6727d079-03e5-481e-9d38-292a90b7a0a8",
   "metadata": {
    "execution": {
     "iopub.execute_input": "2025-07-30T21:17:56.891174Z",
     "iopub.status.busy": "2025-07-30T21:17:56.890317Z",
     "iopub.status.idle": "2025-07-30T21:17:56.895762Z",
     "shell.execute_reply": "2025-07-30T21:17:56.894632Z"
    },
    "papermill": {
     "duration": 0.033955,
     "end_time": "2025-07-30T21:17:56.901112",
     "exception": false,
     "start_time": "2025-07-30T21:17:56.867157",
     "status": "completed"
    },
    "tags": []
   },
   "outputs": [],
   "source": [
    "# SPLIT & STRATIFY DATA\n",
    "# ----------------------"
   ]
  },
  {
   "cell_type": "code",
   "execution_count": 36,
   "id": "76c4dc6d",
   "metadata": {
    "execution": {
     "iopub.execute_input": "2025-07-30T21:17:56.964138Z",
     "iopub.status.busy": "2025-07-30T21:17:56.963690Z",
     "iopub.status.idle": "2025-07-30T21:17:56.969357Z",
     "shell.execute_reply": "2025-07-30T21:17:56.968403Z"
    },
    "papermill": {
     "duration": 0.032175,
     "end_time": "2025-07-30T21:17:56.972258",
     "exception": false,
     "start_time": "2025-07-30T21:17:56.940083",
     "status": "completed"
    },
    "tags": []
   },
   "outputs": [],
   "source": [
    "# EXCLUDE CERTAIN SUBGROUPS\n",
    "# ----------------------\n",
    "\n",
    "mode = universe.get(\"exclude_subgroups\", \"keep-all\") \n",
    "# Fetches the exclude_subgroups setting from the universe dict.\n",
    "# Defaults to \"keep-all\" if the key is missing."
   ]
  },
  {
   "cell_type": "code",
   "execution_count": 37,
   "id": "21994072",
   "metadata": {
    "execution": {
     "iopub.execute_input": "2025-07-30T21:17:57.021269Z",
     "iopub.status.busy": "2025-07-30T21:17:57.020800Z",
     "iopub.status.idle": "2025-07-30T21:17:57.027620Z",
     "shell.execute_reply": "2025-07-30T21:17:57.026761Z"
    },
    "papermill": {
     "duration": 0.033955,
     "end_time": "2025-07-30T21:17:57.030372",
     "exception": false,
     "start_time": "2025-07-30T21:17:56.996417",
     "status": "completed"
    },
    "tags": []
   },
   "outputs": [],
   "source": [
    "if mode == \"keep-all\":\n",
    "    keep_mask = pd.Series(True, index=org_train.index)\n",
    "\n",
    "# org_train contains the original feature columns from features_org (in Simson)\n",
    "# features_org contains unprocessed features, for me X_train at beginning ???\n",
    "# For keep-all, creates a boolean Series (keep_mask) of all True, so no rows are removed.\n",
    "\n",
    "elif mode == \"drop-non-german\":\n",
    "    keep_mask = org_train[\"maxdeutsch1\"] == 1 # ??? what about missing values?\n",
    "\n",
    "else:\n",
    "    raise ValueError(f\"Unsupported mode for exclude_subgroups: {mode}\")\n"
   ]
  },
  {
   "cell_type": "code",
   "execution_count": 38,
   "id": "71651440",
   "metadata": {
    "execution": {
     "iopub.execute_input": "2025-07-30T21:17:57.079002Z",
     "iopub.status.busy": "2025-07-30T21:17:57.078493Z",
     "iopub.status.idle": "2025-07-30T21:17:57.086048Z",
     "shell.execute_reply": "2025-07-30T21:17:57.084737Z"
    },
    "papermill": {
     "duration": 0.03367,
     "end_time": "2025-07-30T21:17:57.088096",
     "exception": false,
     "start_time": "2025-07-30T21:17:57.054426",
     "status": "completed"
    },
    "tags": []
   },
   "outputs": [],
   "source": [
    "n_drop = (~keep_mask).sum() # Calculates how many rows are set to be dropped\n",
    "if n_drop > 0:\n",
    "    pct = n_drop / len(keep_mask) * 100\n",
    "    print(f\"Dropping {n_drop} rows ({pct:.2f}%) where mode='{mode}'\")"
   ]
  },
  {
   "cell_type": "code",
   "execution_count": 39,
   "id": "5fb8eee5",
   "metadata": {
    "execution": {
     "iopub.execute_input": "2025-07-30T21:17:57.153953Z",
     "iopub.status.busy": "2025-07-30T21:17:57.153521Z",
     "iopub.status.idle": "2025-07-30T21:17:57.162463Z",
     "shell.execute_reply": "2025-07-30T21:17:57.161274Z"
    },
    "papermill": {
     "duration": 0.037935,
     "end_time": "2025-07-30T21:17:57.165377",
     "exception": false,
     "start_time": "2025-07-30T21:17:57.127442",
     "status": "completed"
    },
    "tags": []
   },
   "outputs": [],
   "source": [
    "X_train = X_train[keep_mask]"
   ]
  },
  {
   "cell_type": "code",
   "execution_count": 40,
   "id": "b202bb3a",
   "metadata": {
    "execution": {
     "iopub.execute_input": "2025-07-30T21:17:57.216135Z",
     "iopub.status.busy": "2025-07-30T21:17:57.215690Z",
     "iopub.status.idle": "2025-07-30T21:17:57.222449Z",
     "shell.execute_reply": "2025-07-30T21:17:57.221254Z"
    },
    "papermill": {
     "duration": 0.034861,
     "end_time": "2025-07-30T21:17:57.225615",
     "exception": false,
     "start_time": "2025-07-30T21:17:57.190754",
     "status": "completed"
    },
    "tags": []
   },
   "outputs": [],
   "source": [
    "y_train = y_train[keep_mask]"
   ]
  },
  {
   "cell_type": "markdown",
   "id": "493e2ac3",
   "metadata": {
    "papermill": {
     "duration": 0.022825,
     "end_time": "2025-07-30T21:17:57.272653",
     "exception": false,
     "start_time": "2025-07-30T21:17:57.249828",
     "status": "completed"
    },
    "tags": []
   },
   "source": [
    "# Model Training"
   ]
  },
  {
   "cell_type": "code",
   "execution_count": 41,
   "id": "679e1268",
   "metadata": {
    "execution": {
     "iopub.execute_input": "2025-07-30T21:17:57.322715Z",
     "iopub.status.busy": "2025-07-30T21:17:57.322240Z",
     "iopub.status.idle": "2025-07-30T21:17:57.520742Z",
     "shell.execute_reply": "2025-07-30T21:17:57.519727Z"
    },
    "papermill": {
     "duration": 0.224173,
     "end_time": "2025-07-30T21:17:57.522323",
     "exception": false,
     "start_time": "2025-07-30T21:17:57.298150",
     "status": "completed"
    },
    "tags": []
   },
   "outputs": [],
   "source": [
    "from sklearn.linear_model import LogisticRegression\n",
    "from sklearn.ensemble import GradientBoostingClassifier, RandomForestClassifier\n",
    "\n",
    "if (universe[\"model\"] == \"logreg\"):\n",
    "    model = LogisticRegression() #penalty=\"none\") #, solver=\"newton-cg\", max_iter=1) # include random_state=19 ?\n",
    "elif (universe[\"model\"] == \"penalized_logreg\"):\n",
    "    model = LogisticRegression(penalty=\"l2\", C=1.0) #, solver=\"newton-cg\", max_iter=1)\n",
    "elif (universe[\"model\"] == \"rf\"):\n",
    "    model = RandomForestClassifier(n_estimators=100, n_jobs=-1)\n",
    "elif (universe[\"model\"] == \"gbm\"):\n",
    "    model = GradientBoostingClassifier()\n",
    "elif (universe[\"model\"] == \"elasticnet\"):\n",
    "    model = LogisticRegression(penalty = 'elasticnet', solver = 'saga', l1_ratio = 0.5, max_iter=5000) # which solver to use?\n",
    "else:\n",
    "    raise \"Unsupported universe.model\""
   ]
  },
  {
   "cell_type": "code",
   "execution_count": 42,
   "id": "0cc8f744",
   "metadata": {
    "execution": {
     "iopub.execute_input": "2025-07-30T21:17:57.604322Z",
     "iopub.status.busy": "2025-07-30T21:17:57.603886Z",
     "iopub.status.idle": "2025-07-30T21:17:57.610289Z",
     "shell.execute_reply": "2025-07-30T21:17:57.608987Z"
    },
    "papermill": {
     "duration": 0.057087,
     "end_time": "2025-07-30T21:17:57.612002",
     "exception": false,
     "start_time": "2025-07-30T21:17:57.554915",
     "status": "completed"
    },
    "tags": []
   },
   "outputs": [],
   "source": [
    "import numpy as np\n",
    "from sklearn.pipeline import Pipeline\n",
    "from sklearn.preprocessing import StandardScaler\n",
    "\n",
    "model = Pipeline([\n",
    "    #(\"continuous_processor\", continuous_processor),\n",
    "    #(\"categorical_preprocessor\", categorical_preprocessor),\n",
    "    (\"scale\", StandardScaler() if universe[\"scale\"] == \"scale\" else None), \n",
    "    (\"model\", model),\n",
    "])"
   ]
  },
  {
   "cell_type": "code",
   "execution_count": 43,
   "id": "9442c04d",
   "metadata": {
    "execution": {
     "iopub.execute_input": "2025-07-30T21:17:57.708575Z",
     "iopub.status.busy": "2025-07-30T21:17:57.708150Z",
     "iopub.status.idle": "2025-07-30T21:17:59.040673Z",
     "shell.execute_reply": "2025-07-30T21:17:59.039534Z"
    },
    "papermill": {
     "duration": 1.407841,
     "end_time": "2025-07-30T21:17:59.042375",
     "exception": false,
     "start_time": "2025-07-30T21:17:57.634534",
     "status": "completed"
    },
    "tags": []
   },
   "outputs": [
    {
     "data": {
      "text/html": [
       "<style>#sk-container-id-1 {color: black;background-color: white;}#sk-container-id-1 pre{padding: 0;}#sk-container-id-1 div.sk-toggleable {background-color: white;}#sk-container-id-1 label.sk-toggleable__label {cursor: pointer;display: block;width: 100%;margin-bottom: 0;padding: 0.3em;box-sizing: border-box;text-align: center;}#sk-container-id-1 label.sk-toggleable__label-arrow:before {content: \"▸\";float: left;margin-right: 0.25em;color: #696969;}#sk-container-id-1 label.sk-toggleable__label-arrow:hover:before {color: black;}#sk-container-id-1 div.sk-estimator:hover label.sk-toggleable__label-arrow:before {color: black;}#sk-container-id-1 div.sk-toggleable__content {max-height: 0;max-width: 0;overflow: hidden;text-align: left;background-color: #f0f8ff;}#sk-container-id-1 div.sk-toggleable__content pre {margin: 0.2em;color: black;border-radius: 0.25em;background-color: #f0f8ff;}#sk-container-id-1 input.sk-toggleable__control:checked~div.sk-toggleable__content {max-height: 200px;max-width: 100%;overflow: auto;}#sk-container-id-1 input.sk-toggleable__control:checked~label.sk-toggleable__label-arrow:before {content: \"▾\";}#sk-container-id-1 div.sk-estimator input.sk-toggleable__control:checked~label.sk-toggleable__label {background-color: #d4ebff;}#sk-container-id-1 div.sk-label input.sk-toggleable__control:checked~label.sk-toggleable__label {background-color: #d4ebff;}#sk-container-id-1 input.sk-hidden--visually {border: 0;clip: rect(1px 1px 1px 1px);clip: rect(1px, 1px, 1px, 1px);height: 1px;margin: -1px;overflow: hidden;padding: 0;position: absolute;width: 1px;}#sk-container-id-1 div.sk-estimator {font-family: monospace;background-color: #f0f8ff;border: 1px dotted black;border-radius: 0.25em;box-sizing: border-box;margin-bottom: 0.5em;}#sk-container-id-1 div.sk-estimator:hover {background-color: #d4ebff;}#sk-container-id-1 div.sk-parallel-item::after {content: \"\";width: 100%;border-bottom: 1px solid gray;flex-grow: 1;}#sk-container-id-1 div.sk-label:hover label.sk-toggleable__label {background-color: #d4ebff;}#sk-container-id-1 div.sk-serial::before {content: \"\";position: absolute;border-left: 1px solid gray;box-sizing: border-box;top: 0;bottom: 0;left: 50%;z-index: 0;}#sk-container-id-1 div.sk-serial {display: flex;flex-direction: column;align-items: center;background-color: white;padding-right: 0.2em;padding-left: 0.2em;position: relative;}#sk-container-id-1 div.sk-item {position: relative;z-index: 1;}#sk-container-id-1 div.sk-parallel {display: flex;align-items: stretch;justify-content: center;background-color: white;position: relative;}#sk-container-id-1 div.sk-item::before, #sk-container-id-1 div.sk-parallel-item::before {content: \"\";position: absolute;border-left: 1px solid gray;box-sizing: border-box;top: 0;bottom: 0;left: 50%;z-index: -1;}#sk-container-id-1 div.sk-parallel-item {display: flex;flex-direction: column;z-index: 1;position: relative;background-color: white;}#sk-container-id-1 div.sk-parallel-item:first-child::after {align-self: flex-end;width: 50%;}#sk-container-id-1 div.sk-parallel-item:last-child::after {align-self: flex-start;width: 50%;}#sk-container-id-1 div.sk-parallel-item:only-child::after {width: 0;}#sk-container-id-1 div.sk-dashed-wrapped {border: 1px dashed gray;margin: 0 0.4em 0.5em 0.4em;box-sizing: border-box;padding-bottom: 0.4em;background-color: white;}#sk-container-id-1 div.sk-label label {font-family: monospace;font-weight: bold;display: inline-block;line-height: 1.2em;}#sk-container-id-1 div.sk-label-container {text-align: center;}#sk-container-id-1 div.sk-container {/* jupyter's `normalize.less` sets `[hidden] { display: none; }` but bootstrap.min.css set `[hidden] { display: none !important; }` so we also need the `!important` here to be able to override the default hidden behavior on the sphinx rendered scikit-learn.org. See: https://github.com/scikit-learn/scikit-learn/issues/21755 */display: inline-block !important;position: relative;}#sk-container-id-1 div.sk-text-repr-fallback {display: none;}</style><div id=\"sk-container-id-1\" class=\"sk-top-container\"><div class=\"sk-text-repr-fallback\"><pre>Pipeline(steps=[(&#x27;scale&#x27;, None), (&#x27;model&#x27;, RandomForestClassifier(n_jobs=-1))])</pre><b>In a Jupyter environment, please rerun this cell to show the HTML representation or trust the notebook. <br />On GitHub, the HTML representation is unable to render, please try loading this page with nbviewer.org.</b></div><div class=\"sk-container\" hidden><div class=\"sk-item sk-dashed-wrapped\"><div class=\"sk-label-container\"><div class=\"sk-label sk-toggleable\"><input class=\"sk-toggleable__control sk-hidden--visually\" id=\"sk-estimator-id-1\" type=\"checkbox\" ><label for=\"sk-estimator-id-1\" class=\"sk-toggleable__label sk-toggleable__label-arrow\">Pipeline</label><div class=\"sk-toggleable__content\"><pre>Pipeline(steps=[(&#x27;scale&#x27;, None), (&#x27;model&#x27;, RandomForestClassifier(n_jobs=-1))])</pre></div></div></div><div class=\"sk-serial\"><div class=\"sk-item\"><div class=\"sk-estimator sk-toggleable\"><input class=\"sk-toggleable__control sk-hidden--visually\" id=\"sk-estimator-id-2\" type=\"checkbox\" ><label for=\"sk-estimator-id-2\" class=\"sk-toggleable__label sk-toggleable__label-arrow\">None</label><div class=\"sk-toggleable__content\"><pre>None</pre></div></div></div><div class=\"sk-item\"><div class=\"sk-estimator sk-toggleable\"><input class=\"sk-toggleable__control sk-hidden--visually\" id=\"sk-estimator-id-3\" type=\"checkbox\" ><label for=\"sk-estimator-id-3\" class=\"sk-toggleable__label sk-toggleable__label-arrow\">RandomForestClassifier</label><div class=\"sk-toggleable__content\"><pre>RandomForestClassifier(n_jobs=-1)</pre></div></div></div></div></div></div></div>"
      ],
      "text/plain": [
       "Pipeline(steps=[('scale', None), ('model', RandomForestClassifier(n_jobs=-1))])"
      ]
     },
     "execution_count": 43,
     "metadata": {},
     "output_type": "execute_result"
    }
   ],
   "source": [
    "model.fit(X_train, y_train.values.ravel())"
   ]
  },
  {
   "cell_type": "code",
   "execution_count": 44,
   "id": "af59f8c0",
   "metadata": {
    "execution": {
     "iopub.execute_input": "2025-07-30T21:17:59.078537Z",
     "iopub.status.busy": "2025-07-30T21:17:59.078073Z",
     "iopub.status.idle": "2025-07-30T21:17:59.085246Z",
     "shell.execute_reply": "2025-07-30T21:17:59.084260Z"
    },
    "papermill": {
     "duration": 0.026445,
     "end_time": "2025-07-30T21:17:59.088692",
     "exception": false,
     "start_time": "2025-07-30T21:17:59.062247",
     "status": "completed"
    },
    "tags": []
   },
   "outputs": [],
   "source": [
    "from fairness_multiverse.universe import predict_w_threshold"
   ]
  },
  {
   "cell_type": "code",
   "execution_count": 45,
   "id": "a7cf2e16",
   "metadata": {
    "execution": {
     "iopub.execute_input": "2025-07-30T21:17:59.116873Z",
     "iopub.status.busy": "2025-07-30T21:17:59.116335Z",
     "iopub.status.idle": "2025-07-30T21:18:00.289078Z",
     "shell.execute_reply": "2025-07-30T21:18:00.288129Z"
    },
    "papermill": {
     "duration": 1.188974,
     "end_time": "2025-07-30T21:18:00.290760",
     "exception": false,
     "start_time": "2025-07-30T21:17:59.101786",
     "status": "completed"
    },
    "tags": []
   },
   "outputs": [
    {
     "data": {
      "text/plain": [
       "0.8665923531378887"
      ]
     },
     "execution_count": 45,
     "metadata": {},
     "output_type": "execute_result"
    }
   ],
   "source": [
    "probs_test = model.predict_proba(X_test)\n",
    "\n",
    "'''\n",
    "Below code returns a boolean array (or binary 0/1 array depending on how it’s used) where each element \n",
    "is True if the probability of class 1 is greater than or equal to the threshold, and False otherwise.\n",
    "'''\n",
    "y_pred_default = predict_w_threshold(probs_test, 0.5)\n",
    "\n",
    "from sklearn.metrics import accuracy_score\n",
    "\n",
    "# Naive prediction\n",
    "accuracy_score(y_true = y_true, y_pred = y_pred_default)"
   ]
  },
  {
   "cell_type": "code",
   "execution_count": 46,
   "id": "081964c3",
   "metadata": {
    "execution": {
     "iopub.execute_input": "2025-07-30T21:18:00.340440Z",
     "iopub.status.busy": "2025-07-30T21:18:00.339704Z",
     "iopub.status.idle": "2025-07-30T21:18:01.173087Z",
     "shell.execute_reply": "2025-07-30T21:18:01.172286Z"
    },
    "papermill": {
     "duration": 0.861677,
     "end_time": "2025-07-30T21:18:01.174265",
     "exception": false,
     "start_time": "2025-07-30T21:18:00.312588",
     "status": "completed"
    },
    "tags": []
   },
   "outputs": [
    {
     "data": {
      "text/plain": [
       "array([0, 0, 0, ..., 0, 0, 0])"
      ]
     },
     "execution_count": 46,
     "metadata": {},
     "output_type": "execute_result"
    }
   ],
   "source": [
    "model.predict(X_test)"
   ]
  },
  {
   "cell_type": "markdown",
   "id": "56c9705b",
   "metadata": {
    "papermill": {
     "duration": 0.025112,
     "end_time": "2025-07-30T21:18:01.212313",
     "exception": false,
     "start_time": "2025-07-30T21:18:01.187201",
     "status": "completed"
    },
    "tags": []
   },
   "source": [
    "# Conformal Prediction"
   ]
  },
  {
   "cell_type": "code",
   "execution_count": 47,
   "id": "160ec6ff",
   "metadata": {
    "execution": {
     "iopub.execute_input": "2025-07-30T21:18:01.265969Z",
     "iopub.status.busy": "2025-07-30T21:18:01.265329Z",
     "iopub.status.idle": "2025-07-30T21:18:01.271239Z",
     "shell.execute_reply": "2025-07-30T21:18:01.270265Z"
    },
    "papermill": {
     "duration": 0.034299,
     "end_time": "2025-07-30T21:18:01.273143",
     "exception": false,
     "start_time": "2025-07-30T21:18:01.238844",
     "status": "completed"
    },
    "tags": []
   },
   "outputs": [],
   "source": [
    "# Miscoverage level for conformal prediction (10% allowed error rate => 90% target coverage)\n",
    "alpha = 0.1"
   ]
  },
  {
   "cell_type": "code",
   "execution_count": 48,
   "id": "eadf4555-3dd3-440e-8e35-f82a4ad9f855",
   "metadata": {
    "execution": {
     "iopub.execute_input": "2025-07-30T21:18:01.333741Z",
     "iopub.status.busy": "2025-07-30T21:18:01.333181Z",
     "iopub.status.idle": "2025-07-30T21:18:02.248579Z",
     "shell.execute_reply": "2025-07-30T21:18:02.247744Z"
    },
    "papermill": {
     "duration": 0.948607,
     "end_time": "2025-07-30T21:18:02.250424",
     "exception": false,
     "start_time": "2025-07-30T21:18:01.301817",
     "status": "completed"
    },
    "tags": []
   },
   "outputs": [],
   "source": [
    "probs_calib = model.predict_proba(X_calib)"
   ]
  },
  {
   "cell_type": "code",
   "execution_count": 49,
   "id": "2ed93547-6d5d-4983-9b36-1ecb300da49a",
   "metadata": {
    "execution": {
     "iopub.execute_input": "2025-07-30T21:18:02.307958Z",
     "iopub.status.busy": "2025-07-30T21:18:02.307491Z",
     "iopub.status.idle": "2025-07-30T21:18:02.312904Z",
     "shell.execute_reply": "2025-07-30T21:18:02.312232Z"
    },
    "papermill": {
     "duration": 0.047951,
     "end_time": "2025-07-30T21:18:02.326301",
     "exception": false,
     "start_time": "2025-07-30T21:18:02.278350",
     "status": "completed"
    },
    "tags": []
   },
   "outputs": [],
   "source": [
    "y_calib = y_calib.values.ravel().astype(int)"
   ]
  },
  {
   "cell_type": "code",
   "execution_count": 50,
   "id": "65d1320d-f588-4b38-9072-62af1ae97f7d",
   "metadata": {
    "execution": {
     "iopub.execute_input": "2025-07-30T21:18:02.384343Z",
     "iopub.status.busy": "2025-07-30T21:18:02.383814Z",
     "iopub.status.idle": "2025-07-30T21:18:02.391658Z",
     "shell.execute_reply": "2025-07-30T21:18:02.390537Z"
    },
    "papermill": {
     "duration": 0.039699,
     "end_time": "2025-07-30T21:18:02.393837",
     "exception": false,
     "start_time": "2025-07-30T21:18:02.354138",
     "status": "completed"
    },
    "tags": []
   },
   "outputs": [],
   "source": [
    "from fairness_multiverse.conformal import compute_nc_scores\n",
    "\n",
    "# Compute nonconformity scores on calibration set (1 - probability of true class)\n",
    "nc_scores = compute_nc_scores(probs_calib, y_calib)"
   ]
  },
  {
   "cell_type": "code",
   "execution_count": 51,
   "id": "df3b8ca3-53b7-43d5-9667-7c85da7aeda2",
   "metadata": {
    "execution": {
     "iopub.execute_input": "2025-07-30T21:18:02.450966Z",
     "iopub.status.busy": "2025-07-30T21:18:02.450415Z",
     "iopub.status.idle": "2025-07-30T21:18:02.458093Z",
     "shell.execute_reply": "2025-07-30T21:18:02.457103Z"
    },
    "papermill": {
     "duration": 0.037942,
     "end_time": "2025-07-30T21:18:02.459812",
     "exception": false,
     "start_time": "2025-07-30T21:18:02.421870",
     "status": "completed"
    },
    "tags": []
   },
   "outputs": [],
   "source": [
    "from fairness_multiverse.conformal import find_threshold\n",
    "\n",
    "# Find conformal threshold q_hat for the given alpha (split conformal method)\n",
    "q_hat = find_threshold(nc_scores, alpha)"
   ]
  },
  {
   "cell_type": "code",
   "execution_count": 52,
   "id": "4d29e6c1-0ef6-4aa4-b8fe-4fe79b0d033a",
   "metadata": {
    "execution": {
     "iopub.execute_input": "2025-07-30T21:18:02.516952Z",
     "iopub.status.busy": "2025-07-30T21:18:02.516428Z",
     "iopub.status.idle": "2025-07-30T21:18:02.524289Z",
     "shell.execute_reply": "2025-07-30T21:18:02.523283Z"
    },
    "papermill": {
     "duration": 0.038388,
     "end_time": "2025-07-30T21:18:02.526147",
     "exception": false,
     "start_time": "2025-07-30T21:18:02.487759",
     "status": "completed"
    },
    "tags": []
   },
   "outputs": [
    {
     "data": {
      "text/plain": [
       "0.6699999999999999"
      ]
     },
     "execution_count": 52,
     "metadata": {},
     "output_type": "execute_result"
    }
   ],
   "source": [
    "q_hat"
   ]
  },
  {
   "cell_type": "code",
   "execution_count": 53,
   "id": "92460794-cdac-4be2-ba28-f28c0515a6fb",
   "metadata": {
    "execution": {
     "iopub.execute_input": "2025-07-30T21:18:02.583764Z",
     "iopub.status.busy": "2025-07-30T21:18:02.583170Z",
     "iopub.status.idle": "2025-07-30T21:18:04.089502Z",
     "shell.execute_reply": "2025-07-30T21:18:04.088431Z"
    },
    "papermill": {
     "duration": 1.536861,
     "end_time": "2025-07-30T21:18:04.090956",
     "exception": false,
     "start_time": "2025-07-30T21:18:02.554095",
     "status": "completed"
    },
    "tags": []
   },
   "outputs": [],
   "source": [
    "from fairness_multiverse.conformal import predict_conformal_sets\n",
    "\n",
    "# Generate prediction sets for each test example\n",
    "pred_sets = predict_conformal_sets(model, X_test, q_hat)"
   ]
  },
  {
   "cell_type": "code",
   "execution_count": 54,
   "id": "d90c9a65-e6db-4f5d-80cd-e68fb7e46829",
   "metadata": {
    "execution": {
     "iopub.execute_input": "2025-07-30T21:18:04.139815Z",
     "iopub.status.busy": "2025-07-30T21:18:04.139392Z",
     "iopub.status.idle": "2025-07-30T21:18:04.144607Z",
     "shell.execute_reply": "2025-07-30T21:18:04.143926Z"
    },
    "papermill": {
     "duration": 0.032111,
     "end_time": "2025-07-30T21:18:04.146126",
     "exception": false,
     "start_time": "2025-07-30T21:18:04.114015",
     "status": "completed"
    },
    "tags": []
   },
   "outputs": [],
   "source": [
    "y_true = y_true.squeeze()"
   ]
  },
  {
   "cell_type": "code",
   "execution_count": 55,
   "id": "3a58a54a-1e68-46b9-927a-df01f18aebc8",
   "metadata": {
    "execution": {
     "iopub.execute_input": "2025-07-30T21:18:04.195558Z",
     "iopub.status.busy": "2025-07-30T21:18:04.194817Z",
     "iopub.status.idle": "2025-07-30T21:18:05.104465Z",
     "shell.execute_reply": "2025-07-30T21:18:05.103373Z"
    },
    "papermill": {
     "duration": 0.934238,
     "end_time": "2025-07-30T21:18:05.106386",
     "exception": false,
     "start_time": "2025-07-30T21:18:04.172148",
     "status": "completed"
    },
    "tags": []
   },
   "outputs": [],
   "source": [
    "from fairness_multiverse.conformal import evaluate_sets\n",
    "\n",
    "# Evaluate coverage and average set size on test data\n",
    "metrics = evaluate_sets(pred_sets, y_true)"
   ]
  },
  {
   "cell_type": "markdown",
   "id": "2b569c12-9aaa-4c88-98c9-bbcd0cf3ebb8",
   "metadata": {
    "papermill": {
     "duration": 0.024248,
     "end_time": "2025-07-30T21:18:05.156256",
     "exception": false,
     "start_time": "2025-07-30T21:18:05.132008",
     "status": "completed"
    },
    "tags": []
   },
   "source": [
    "# CP Metrics"
   ]
  },
  {
   "cell_type": "code",
   "execution_count": 56,
   "id": "5ce0a5cb-201f-45a0-ade5-94c7f0bd6095",
   "metadata": {
    "execution": {
     "iopub.execute_input": "2025-07-30T21:18:05.211063Z",
     "iopub.status.busy": "2025-07-30T21:18:05.210570Z",
     "iopub.status.idle": "2025-07-30T21:18:05.218596Z",
     "shell.execute_reply": "2025-07-30T21:18:05.217655Z"
    },
    "papermill": {
     "duration": 0.03695,
     "end_time": "2025-07-30T21:18:05.221623",
     "exception": false,
     "start_time": "2025-07-30T21:18:05.184673",
     "status": "completed"
    },
    "tags": []
   },
   "outputs": [
    {
     "data": {
      "text/plain": [
       "{'coverage': 0.9143239326719429, 'avg_size': 1.1482331958533052}"
      ]
     },
     "execution_count": 56,
     "metadata": {},
     "output_type": "execute_result"
    }
   ],
   "source": [
    "metrics"
   ]
  },
  {
   "cell_type": "code",
   "execution_count": 57,
   "id": "9b9a838d-31c9-430b-ae14-12baee460d17",
   "metadata": {
    "execution": {
     "iopub.execute_input": "2025-07-30T21:18:05.273331Z",
     "iopub.status.busy": "2025-07-30T21:18:05.272939Z",
     "iopub.status.idle": "2025-07-30T21:18:05.279453Z",
     "shell.execute_reply": "2025-07-30T21:18:05.278492Z"
    },
    "papermill": {
     "duration": 0.034234,
     "end_time": "2025-07-30T21:18:05.281409",
     "exception": false,
     "start_time": "2025-07-30T21:18:05.247175",
     "status": "completed"
    },
    "tags": []
   },
   "outputs": [],
   "source": [
    "example_universe = universe.copy()\n",
    "universe_training_year = example_universe.get(\"training_year\")\n",
    "universe_training_size = example_universe.get(\"training_size\")\n",
    "universe_scale = example_universe.get(\"scale\")\n",
    "universe_model = example_universe.get(\"model\")\n",
    "universe_exclude_features = example_universe.get(\"exclude_features\")\n",
    "universe_exclude_subgroups = example_universe.get(\"exclude_subgroups\")"
   ]
  },
  {
   "cell_type": "code",
   "execution_count": 58,
   "id": "f4b6a8ac-9dc0-4245-8a91-5b3b5999c4f9",
   "metadata": {
    "execution": {
     "iopub.execute_input": "2025-07-30T21:18:05.334523Z",
     "iopub.status.busy": "2025-07-30T21:18:05.334109Z",
     "iopub.status.idle": "2025-07-30T21:18:05.341600Z",
     "shell.execute_reply": "2025-07-30T21:18:05.340574Z"
    },
    "papermill": {
     "duration": 0.037032,
     "end_time": "2025-07-30T21:18:05.344997",
     "exception": false,
     "start_time": "2025-07-30T21:18:05.307965",
     "status": "completed"
    },
    "tags": []
   },
   "outputs": [],
   "source": [
    "cp_metrics_dict = {\n",
    "    \"universe_id\": [universe_id],\n",
    "    \"universe_training_year\": [universe_training_year],\n",
    "    \"universe_training_size\": [universe_training_size],\n",
    "    \"universe_scale\": [universe_scale],\n",
    "    \"universe_model\": [universe_model],\n",
    "    \"universe_exclude_features\": [universe_exclude_features],\n",
    "    \"universe_exclude_subgroups\": [universe_exclude_subgroups],\n",
    "    \"q_hat\": [q_hat],\n",
    "    \"coverage\": [metrics[\"coverage\"]],\n",
    "    \"avg_size\": [metrics[\"avg_size\"]],\n",
    "}"
   ]
  },
  {
   "cell_type": "code",
   "execution_count": 59,
   "id": "908acbb1-0371-4915-85ca-3fa520d2efe2",
   "metadata": {
    "execution": {
     "iopub.execute_input": "2025-07-30T21:18:05.409493Z",
     "iopub.status.busy": "2025-07-30T21:18:05.409099Z",
     "iopub.status.idle": "2025-07-30T21:18:05.417027Z",
     "shell.execute_reply": "2025-07-30T21:18:05.415969Z"
    },
    "papermill": {
     "duration": 0.037794,
     "end_time": "2025-07-30T21:18:05.421022",
     "exception": false,
     "start_time": "2025-07-30T21:18:05.383228",
     "status": "completed"
    },
    "tags": []
   },
   "outputs": [
    {
     "data": {
      "text/plain": [
       "{'universe_id': ['dab432966aae4ef6c8ec4eb3c7a1f849'],\n",
       " 'universe_training_year': ['2010_14'],\n",
       " 'universe_training_size': ['5k'],\n",
       " 'universe_scale': ['do-not-scale'],\n",
       " 'universe_model': ['rf'],\n",
       " 'universe_exclude_features': ['nationality-sex'],\n",
       " 'universe_exclude_subgroups': ['keep-all'],\n",
       " 'q_hat': [0.6699999999999999],\n",
       " 'coverage': [0.9143239326719429],\n",
       " 'avg_size': [1.1482331958533052]}"
      ]
     },
     "execution_count": 59,
     "metadata": {},
     "output_type": "execute_result"
    }
   ],
   "source": [
    "cp_metrics_dict"
   ]
  },
  {
   "cell_type": "code",
   "execution_count": 60,
   "id": "33007efc-14e9-4ec6-97ac-56a455c82265",
   "metadata": {
    "execution": {
     "iopub.execute_input": "2025-07-30T21:18:05.472488Z",
     "iopub.status.busy": "2025-07-30T21:18:05.472006Z",
     "iopub.status.idle": "2025-07-30T21:18:05.478587Z",
     "shell.execute_reply": "2025-07-30T21:18:05.477560Z"
    },
    "papermill": {
     "duration": 0.035274,
     "end_time": "2025-07-30T21:18:05.481359",
     "exception": false,
     "start_time": "2025-07-30T21:18:05.446085",
     "status": "completed"
    },
    "tags": []
   },
   "outputs": [],
   "source": [
    "cp_metrics_df = pd.DataFrame(cp_metrics_dict)"
   ]
  },
  {
   "cell_type": "code",
   "execution_count": 61,
   "id": "db12611b-57b2-4910-b9d0-355adfd6e7bf",
   "metadata": {
    "execution": {
     "iopub.execute_input": "2025-07-30T21:18:05.535184Z",
     "iopub.status.busy": "2025-07-30T21:18:05.534788Z",
     "iopub.status.idle": "2025-07-30T21:18:05.565252Z",
     "shell.execute_reply": "2025-07-30T21:18:05.563874Z"
    },
    "papermill": {
     "duration": 0.05947,
     "end_time": "2025-07-30T21:18:05.567739",
     "exception": false,
     "start_time": "2025-07-30T21:18:05.508269",
     "status": "completed"
    },
    "tags": []
   },
   "outputs": [
    {
     "data": {
      "text/html": [
       "<div>\n",
       "<style scoped>\n",
       "    .dataframe tbody tr th:only-of-type {\n",
       "        vertical-align: middle;\n",
       "    }\n",
       "\n",
       "    .dataframe tbody tr th {\n",
       "        vertical-align: top;\n",
       "    }\n",
       "\n",
       "    .dataframe thead th {\n",
       "        text-align: right;\n",
       "    }\n",
       "</style>\n",
       "<table border=\"1\" class=\"dataframe\">\n",
       "  <thead>\n",
       "    <tr style=\"text-align: right;\">\n",
       "      <th></th>\n",
       "      <th>universe_id</th>\n",
       "      <th>universe_training_year</th>\n",
       "      <th>universe_training_size</th>\n",
       "      <th>universe_scale</th>\n",
       "      <th>universe_model</th>\n",
       "      <th>universe_exclude_features</th>\n",
       "      <th>universe_exclude_subgroups</th>\n",
       "      <th>q_hat</th>\n",
       "      <th>coverage</th>\n",
       "      <th>avg_size</th>\n",
       "    </tr>\n",
       "  </thead>\n",
       "  <tbody>\n",
       "    <tr>\n",
       "      <th>0</th>\n",
       "      <td>dab432966aae4ef6c8ec4eb3c7a1f849</td>\n",
       "      <td>2010_14</td>\n",
       "      <td>5k</td>\n",
       "      <td>do-not-scale</td>\n",
       "      <td>rf</td>\n",
       "      <td>nationality-sex</td>\n",
       "      <td>keep-all</td>\n",
       "      <td>0.67</td>\n",
       "      <td>0.914324</td>\n",
       "      <td>1.148233</td>\n",
       "    </tr>\n",
       "  </tbody>\n",
       "</table>\n",
       "</div>"
      ],
      "text/plain": [
       "                        universe_id universe_training_year  \\\n",
       "0  dab432966aae4ef6c8ec4eb3c7a1f849                2010_14   \n",
       "\n",
       "  universe_training_size universe_scale universe_model  \\\n",
       "0                     5k   do-not-scale             rf   \n",
       "\n",
       "  universe_exclude_features universe_exclude_subgroups  q_hat  coverage  \\\n",
       "0           nationality-sex                   keep-all   0.67  0.914324   \n",
       "\n",
       "   avg_size  \n",
       "0  1.148233  "
      ]
     },
     "execution_count": 61,
     "metadata": {},
     "output_type": "execute_result"
    }
   ],
   "source": [
    "cp_metrics_df"
   ]
  },
  {
   "cell_type": "code",
   "execution_count": 62,
   "id": "b7fbde55-a0a1-47e4-9af6-fe4a17fa8c61",
   "metadata": {
    "execution": {
     "iopub.execute_input": "2025-07-30T21:18:05.646099Z",
     "iopub.status.busy": "2025-07-30T21:18:05.645522Z",
     "iopub.status.idle": "2025-07-30T21:18:05.652954Z",
     "shell.execute_reply": "2025-07-30T21:18:05.651355Z"
    },
    "papermill": {
     "duration": 0.051698,
     "end_time": "2025-07-30T21:18:05.657817",
     "exception": false,
     "start_time": "2025-07-30T21:18:05.606119",
     "status": "completed"
    },
    "tags": []
   },
   "outputs": [],
   "source": [
    "# Conditional Coverage & looking at subgroups"
   ]
  },
  {
   "cell_type": "code",
   "execution_count": 63,
   "id": "027ae886-68dd-4141-96c7-805a5450e1ef",
   "metadata": {
    "execution": {
     "iopub.execute_input": "2025-07-30T21:18:05.735885Z",
     "iopub.status.busy": "2025-07-30T21:18:05.735490Z",
     "iopub.status.idle": "2025-07-30T21:18:06.078978Z",
     "shell.execute_reply": "2025-07-30T21:18:06.077713Z"
    },
    "papermill": {
     "duration": 0.384564,
     "end_time": "2025-07-30T21:18:06.080999",
     "exception": false,
     "start_time": "2025-07-30T21:18:05.696435",
     "status": "completed"
    },
    "tags": []
   },
   "outputs": [],
   "source": [
    "from fairness_multiverse.conformal import build_cp_groups\n",
    "\n",
    "cp_groups_df = build_cp_groups(pred_sets, y_true, X_test.index, org_test)\n",
    "#needs universe_id and setting"
   ]
  },
  {
   "cell_type": "code",
   "execution_count": 64,
   "id": "01d5802c-663a-4d1f-9d69-e036faaffbf7",
   "metadata": {
    "execution": {
     "iopub.execute_input": "2025-07-30T21:18:06.206485Z",
     "iopub.status.busy": "2025-07-30T21:18:06.206080Z",
     "iopub.status.idle": "2025-07-30T21:18:06.211114Z",
     "shell.execute_reply": "2025-07-30T21:18:06.210042Z"
    },
    "papermill": {
     "duration": 0.091019,
     "end_time": "2025-07-30T21:18:06.213361",
     "exception": false,
     "start_time": "2025-07-30T21:18:06.122342",
     "status": "completed"
    },
    "tags": []
   },
   "outputs": [],
   "source": [
    "#delete\n",
    "#cp_groups_df"
   ]
  },
  {
   "cell_type": "code",
   "execution_count": 65,
   "id": "fa424af1-d1eb-443d-b717-2d279ada8408",
   "metadata": {
    "execution": {
     "iopub.execute_input": "2025-07-30T21:18:06.315216Z",
     "iopub.status.busy": "2025-07-30T21:18:06.314821Z",
     "iopub.status.idle": "2025-07-30T21:18:06.320488Z",
     "shell.execute_reply": "2025-07-30T21:18:06.319366Z"
    },
    "papermill": {
     "duration": 0.062822,
     "end_time": "2025-07-30T21:18:06.322282",
     "exception": false,
     "start_time": "2025-07-30T21:18:06.259460",
     "status": "completed"
    },
    "tags": []
   },
   "outputs": [],
   "source": [
    "#delete\n",
    "#percentage = (cp_groups_df['nongerman_female'] == 1).mean() * 100\n",
    "#print(percentage)\n"
   ]
  },
  {
   "cell_type": "code",
   "execution_count": 66,
   "id": "6cbdab96-b2b2-45af-ad54-d0516db2e28d",
   "metadata": {
    "execution": {
     "iopub.execute_input": "2025-07-30T21:18:06.384786Z",
     "iopub.status.busy": "2025-07-30T21:18:06.384383Z",
     "iopub.status.idle": "2025-07-30T21:18:08.126819Z",
     "shell.execute_reply": "2025-07-30T21:18:08.125722Z"
    },
    "papermill": {
     "duration": 1.772035,
     "end_time": "2025-07-30T21:18:08.129335",
     "exception": false,
     "start_time": "2025-07-30T21:18:06.357300",
     "status": "completed"
    },
    "tags": []
   },
   "outputs": [],
   "source": [
    "# Define covered = 1 if true_label is in the predicted set\n",
    "cp_groups_df['covered'] = cp_groups_df.apply(\n",
    "    lambda r: int(r['true_label'] in r['pred_set']),\n",
    "    axis=1\n",
    ")"
   ]
  },
  {
   "cell_type": "code",
   "execution_count": 67,
   "id": "338ff529-1a6b-4b87-a931-8e4788d52aad",
   "metadata": {
    "execution": {
     "iopub.execute_input": "2025-07-30T21:18:08.189425Z",
     "iopub.status.busy": "2025-07-30T21:18:08.189045Z",
     "iopub.status.idle": "2025-07-30T21:18:08.194345Z",
     "shell.execute_reply": "2025-07-30T21:18:08.193360Z"
    },
    "papermill": {
     "duration": 0.035693,
     "end_time": "2025-07-30T21:18:08.197196",
     "exception": false,
     "start_time": "2025-07-30T21:18:08.161503",
     "status": "completed"
    },
    "tags": []
   },
   "outputs": [],
   "source": [
    "#cp_groups_df"
   ]
  },
  {
   "cell_type": "code",
   "execution_count": 68,
   "id": "90032e27-66df-4540-9169-4e89cfbaa758",
   "metadata": {
    "execution": {
     "iopub.execute_input": "2025-07-30T21:18:08.249366Z",
     "iopub.status.busy": "2025-07-30T21:18:08.248981Z",
     "iopub.status.idle": "2025-07-30T21:18:08.261878Z",
     "shell.execute_reply": "2025-07-30T21:18:08.260728Z"
    },
    "papermill": {
     "duration": 0.041958,
     "end_time": "2025-07-30T21:18:08.264225",
     "exception": false,
     "start_time": "2025-07-30T21:18:08.222267",
     "status": "completed"
    },
    "tags": []
   },
   "outputs": [],
   "source": [
    "subgroups = ['frau1','nongerman','nongerman_male','nongerman_female']\n",
    "\n",
    "# Conditional coverage for subgroup==1\n",
    "cond_coverage = {\n",
    "    g: cp_groups_df.loc[cp_groups_df[g]==1, 'covered'].mean()\n",
    "    for g in subgroups\n",
    "}"
   ]
  },
  {
   "cell_type": "code",
   "execution_count": 69,
   "id": "1e348fb1-b9c3-45bc-ba23-f016827a7e0d",
   "metadata": {
    "execution": {
     "iopub.execute_input": "2025-07-30T21:18:08.316908Z",
     "iopub.status.busy": "2025-07-30T21:18:08.316393Z",
     "iopub.status.idle": "2025-07-30T21:18:08.324267Z",
     "shell.execute_reply": "2025-07-30T21:18:08.323210Z"
    },
    "papermill": {
     "duration": 0.037442,
     "end_time": "2025-07-30T21:18:08.328407",
     "exception": false,
     "start_time": "2025-07-30T21:18:08.290965",
     "status": "completed"
    },
    "tags": []
   },
   "outputs": [
    {
     "data": {
      "text/plain": [
       "{'frau1': 0.9114705485914544,\n",
       " 'nongerman': 0.9122550945938359,\n",
       " 'nongerman_male': 0.9263262181392417,\n",
       " 'nongerman_female': 0.8889716840536512}"
      ]
     },
     "execution_count": 69,
     "metadata": {},
     "output_type": "execute_result"
    }
   ],
   "source": [
    "cond_coverage"
   ]
  },
  {
   "cell_type": "code",
   "execution_count": 70,
   "id": "f5093324-c3dd-4d63-bc4c-8d945e5c8bbb",
   "metadata": {
    "execution": {
     "iopub.execute_input": "2025-07-30T21:18:08.383137Z",
     "iopub.status.busy": "2025-07-30T21:18:08.382748Z",
     "iopub.status.idle": "2025-07-30T21:18:08.390202Z",
     "shell.execute_reply": "2025-07-30T21:18:08.389137Z"
    },
    "papermill": {
     "duration": 0.036399,
     "end_time": "2025-07-30T21:18:08.392790",
     "exception": false,
     "start_time": "2025-07-30T21:18:08.356391",
     "status": "completed"
    },
    "tags": []
   },
   "outputs": [],
   "source": [
    "for subgroup, cov in cond_coverage.items():\n",
    "    cp_metrics_df[f\"cov_{subgroup}\"] = cov"
   ]
  },
  {
   "cell_type": "code",
   "execution_count": 71,
   "id": "6e872e10-dbe5-49e8-b554-5030c98ff75d",
   "metadata": {
    "execution": {
     "iopub.execute_input": "2025-07-30T21:18:08.486138Z",
     "iopub.status.busy": "2025-07-30T21:18:08.485714Z",
     "iopub.status.idle": "2025-07-30T21:18:08.506548Z",
     "shell.execute_reply": "2025-07-30T21:18:08.505560Z"
    },
    "papermill": {
     "duration": 0.083373,
     "end_time": "2025-07-30T21:18:08.508417",
     "exception": false,
     "start_time": "2025-07-30T21:18:08.425044",
     "status": "completed"
    },
    "tags": []
   },
   "outputs": [
    {
     "data": {
      "text/html": [
       "<div>\n",
       "<style scoped>\n",
       "    .dataframe tbody tr th:only-of-type {\n",
       "        vertical-align: middle;\n",
       "    }\n",
       "\n",
       "    .dataframe tbody tr th {\n",
       "        vertical-align: top;\n",
       "    }\n",
       "\n",
       "    .dataframe thead th {\n",
       "        text-align: right;\n",
       "    }\n",
       "</style>\n",
       "<table border=\"1\" class=\"dataframe\">\n",
       "  <thead>\n",
       "    <tr style=\"text-align: right;\">\n",
       "      <th></th>\n",
       "      <th>universe_id</th>\n",
       "      <th>universe_training_year</th>\n",
       "      <th>universe_training_size</th>\n",
       "      <th>universe_scale</th>\n",
       "      <th>universe_model</th>\n",
       "      <th>universe_exclude_features</th>\n",
       "      <th>universe_exclude_subgroups</th>\n",
       "      <th>q_hat</th>\n",
       "      <th>coverage</th>\n",
       "      <th>avg_size</th>\n",
       "      <th>cov_frau1</th>\n",
       "      <th>cov_nongerman</th>\n",
       "      <th>cov_nongerman_male</th>\n",
       "      <th>cov_nongerman_female</th>\n",
       "    </tr>\n",
       "  </thead>\n",
       "  <tbody>\n",
       "    <tr>\n",
       "      <th>0</th>\n",
       "      <td>dab432966aae4ef6c8ec4eb3c7a1f849</td>\n",
       "      <td>2010_14</td>\n",
       "      <td>5k</td>\n",
       "      <td>do-not-scale</td>\n",
       "      <td>rf</td>\n",
       "      <td>nationality-sex</td>\n",
       "      <td>keep-all</td>\n",
       "      <td>0.67</td>\n",
       "      <td>0.914324</td>\n",
       "      <td>1.148233</td>\n",
       "      <td>0.911471</td>\n",
       "      <td>0.912255</td>\n",
       "      <td>0.926326</td>\n",
       "      <td>0.888972</td>\n",
       "    </tr>\n",
       "  </tbody>\n",
       "</table>\n",
       "</div>"
      ],
      "text/plain": [
       "                        universe_id universe_training_year  \\\n",
       "0  dab432966aae4ef6c8ec4eb3c7a1f849                2010_14   \n",
       "\n",
       "  universe_training_size universe_scale universe_model  \\\n",
       "0                     5k   do-not-scale             rf   \n",
       "\n",
       "  universe_exclude_features universe_exclude_subgroups  q_hat  coverage  \\\n",
       "0           nationality-sex                   keep-all   0.67  0.914324   \n",
       "\n",
       "   avg_size  cov_frau1  cov_nongerman  cov_nongerman_male  \\\n",
       "0  1.148233   0.911471       0.912255            0.926326   \n",
       "\n",
       "   cov_nongerman_female  \n",
       "0              0.888972  "
      ]
     },
     "execution_count": 71,
     "metadata": {},
     "output_type": "execute_result"
    }
   ],
   "source": [
    "cp_metrics_df"
   ]
  },
  {
   "cell_type": "markdown",
   "id": "33774451",
   "metadata": {
    "papermill": {
     "duration": 0.022205,
     "end_time": "2025-07-30T21:18:08.556262",
     "exception": false,
     "start_time": "2025-07-30T21:18:08.534057",
     "status": "completed"
    },
    "tags": []
   },
   "source": [
    "# (Fairness) Metrics"
   ]
  },
  {
   "cell_type": "code",
   "execution_count": 72,
   "id": "debc5d62",
   "metadata": {
    "execution": {
     "iopub.execute_input": "2025-07-30T21:18:08.597123Z",
     "iopub.status.busy": "2025-07-30T21:18:08.596756Z",
     "iopub.status.idle": "2025-07-30T21:18:08.613956Z",
     "shell.execute_reply": "2025-07-30T21:18:08.613185Z"
    },
    "papermill": {
     "duration": 0.034087,
     "end_time": "2025-07-30T21:18:08.615298",
     "exception": false,
     "start_time": "2025-07-30T21:18:08.581211",
     "status": "completed"
    },
    "tags": []
   },
   "outputs": [],
   "source": [
    "# do I need to include maxdeutsch1.missing?\n",
    "\n",
    "import numpy as np\n",
    "\n",
    "colname_to_bin = \"maxdeutsch1\"\n",
    "majority_value = org_train[colname_to_bin].mode()[0]\n",
    "\n",
    "org_test[\"majmin\"] = np.where(org_test[colname_to_bin] == majority_value, \"majority\", \"minority\")"
   ]
  },
  {
   "cell_type": "code",
   "execution_count": 73,
   "id": "06a50de5",
   "metadata": {
    "execution": {
     "iopub.execute_input": "2025-07-30T21:18:08.650058Z",
     "iopub.status.busy": "2025-07-30T21:18:08.649511Z",
     "iopub.status.idle": "2025-07-30T21:18:11.507859Z",
     "shell.execute_reply": "2025-07-30T21:18:11.502850Z"
    },
    "papermill": {
     "duration": 2.879405,
     "end_time": "2025-07-30T21:18:11.509638",
     "exception": false,
     "start_time": "2025-07-30T21:18:08.630233",
     "status": "completed"
    },
    "tags": []
   },
   "outputs": [],
   "source": [
    "example_universe = universe.copy()\n",
    "example_universe[\"cutoff\"] = example_universe[\"cutoff\"][0]\n",
    "example_universe[\"eval_fairness_grouping\"] = example_universe[\"eval_fairness_grouping\"][0]\n",
    "fairness_dict, metric_frame = universe_analysis.compute_metrics(\n",
    "    example_universe,\n",
    "    y_pred_prob=probs_test,\n",
    "    y_test=y_true,\n",
    "    org_test=org_test,\n",
    ")"
   ]
  },
  {
   "cell_type": "markdown",
   "id": "f95d4e02",
   "metadata": {
    "papermill": {
     "duration": 0.045512,
     "end_time": "2025-07-30T21:18:11.601639",
     "exception": false,
     "start_time": "2025-07-30T21:18:11.556127",
     "status": "completed"
    },
    "tags": []
   },
   "source": [
    "# Overall"
   ]
  },
  {
   "cell_type": "markdown",
   "id": "bdee4871",
   "metadata": {
    "papermill": {
     "duration": 0.026287,
     "end_time": "2025-07-30T21:18:11.682946",
     "exception": false,
     "start_time": "2025-07-30T21:18:11.656659",
     "status": "completed"
    },
    "tags": []
   },
   "source": [
    "Fairness\n",
    "Main fairness target: Equalized Odds. Seems to be a better fit than equal opportunity, since we're not only interested in Y = 1. Seems to be a better fit than demographic parity, since we also care about accuracy, not just equal distribution of preds.\n",
    "\n",
    "Pick column for computation of fairness metrics\n",
    "\n",
    "Performance\n",
    "Overall performance measures, most interesting in relation to the measures split by group below"
   ]
  },
  {
   "cell_type": "code",
   "execution_count": 74,
   "id": "c4e067c6",
   "metadata": {
    "execution": {
     "iopub.execute_input": "2025-07-30T21:18:11.753713Z",
     "iopub.status.busy": "2025-07-30T21:18:11.753238Z",
     "iopub.status.idle": "2025-07-30T21:18:11.762380Z",
     "shell.execute_reply": "2025-07-30T21:18:11.761485Z"
    },
    "papermill": {
     "duration": 0.04964,
     "end_time": "2025-07-30T21:18:11.766882",
     "exception": false,
     "start_time": "2025-07-30T21:18:11.717242",
     "status": "completed"
    },
    "tags": []
   },
   "outputs": [
    {
     "data": {
      "text/plain": [
       "accuracy                   0.204882\n",
       "balanced accuracy          0.534192\n",
       "f1                         0.239714\n",
       "precision                  0.136614\n",
       "false positive rate        0.908762\n",
       "false negative rate        0.022854\n",
       "selection rate             0.917534\n",
       "count                  89710.000000\n",
       "dtype: float64"
      ]
     },
     "execution_count": 74,
     "metadata": {},
     "output_type": "execute_result"
    }
   ],
   "source": [
    "metric_frame.overall"
   ]
  },
  {
   "cell_type": "markdown",
   "id": "e968fe9d",
   "metadata": {
    "papermill": {
     "duration": 0.027422,
     "end_time": "2025-07-30T21:18:11.822325",
     "exception": false,
     "start_time": "2025-07-30T21:18:11.794903",
     "status": "completed"
    },
    "tags": []
   },
   "source": [
    "By Group"
   ]
  },
  {
   "cell_type": "code",
   "execution_count": 75,
   "id": "ec325bce",
   "metadata": {
    "execution": {
     "iopub.execute_input": "2025-07-30T21:18:11.875672Z",
     "iopub.status.busy": "2025-07-30T21:18:11.875203Z",
     "iopub.status.idle": "2025-07-30T21:18:11.890745Z",
     "shell.execute_reply": "2025-07-30T21:18:11.889793Z"
    },
    "papermill": {
     "duration": 0.045321,
     "end_time": "2025-07-30T21:18:11.892460",
     "exception": false,
     "start_time": "2025-07-30T21:18:11.847139",
     "status": "completed"
    },
    "tags": []
   },
   "outputs": [
    {
     "data": {
      "text/html": [
       "<div>\n",
       "<style scoped>\n",
       "    .dataframe tbody tr th:only-of-type {\n",
       "        vertical-align: middle;\n",
       "    }\n",
       "\n",
       "    .dataframe tbody tr th {\n",
       "        vertical-align: top;\n",
       "    }\n",
       "\n",
       "    .dataframe thead th {\n",
       "        text-align: right;\n",
       "    }\n",
       "</style>\n",
       "<table border=\"1\" class=\"dataframe\">\n",
       "  <thead>\n",
       "    <tr style=\"text-align: right;\">\n",
       "      <th></th>\n",
       "      <th>accuracy</th>\n",
       "      <th>balanced accuracy</th>\n",
       "      <th>f1</th>\n",
       "      <th>precision</th>\n",
       "      <th>false positive rate</th>\n",
       "      <th>false negative rate</th>\n",
       "      <th>selection rate</th>\n",
       "      <th>count</th>\n",
       "    </tr>\n",
       "    <tr>\n",
       "      <th>majmin</th>\n",
       "      <th></th>\n",
       "      <th></th>\n",
       "      <th></th>\n",
       "      <th></th>\n",
       "      <th></th>\n",
       "      <th></th>\n",
       "      <th></th>\n",
       "      <th></th>\n",
       "    </tr>\n",
       "  </thead>\n",
       "  <tbody>\n",
       "    <tr>\n",
       "      <th>majority</th>\n",
       "      <td>0.196776</td>\n",
       "      <td>0.533483</td>\n",
       "      <td>0.245911</td>\n",
       "      <td>0.140369</td>\n",
       "      <td>0.924171</td>\n",
       "      <td>0.008862</td>\n",
       "      <td>0.933020</td>\n",
       "      <td>69170.0</td>\n",
       "    </tr>\n",
       "    <tr>\n",
       "      <th>minority</th>\n",
       "      <td>0.232181</td>\n",
       "      <td>0.532642</td>\n",
       "      <td>0.217048</td>\n",
       "      <td>0.122982</td>\n",
       "      <td>0.857858</td>\n",
       "      <td>0.076858</td>\n",
       "      <td>0.865385</td>\n",
       "      <td>20540.0</td>\n",
       "    </tr>\n",
       "  </tbody>\n",
       "</table>\n",
       "</div>"
      ],
      "text/plain": [
       "          accuracy  balanced accuracy        f1  precision  \\\n",
       "majmin                                                       \n",
       "majority  0.196776           0.533483  0.245911   0.140369   \n",
       "minority  0.232181           0.532642  0.217048   0.122982   \n",
       "\n",
       "          false positive rate  false negative rate  selection rate    count  \n",
       "majmin                                                                       \n",
       "majority             0.924171             0.008862        0.933020  69170.0  \n",
       "minority             0.857858             0.076858        0.865385  20540.0  "
      ]
     },
     "execution_count": 75,
     "metadata": {},
     "output_type": "execute_result"
    }
   ],
   "source": [
    "metric_frame.by_group"
   ]
  },
  {
   "cell_type": "code",
   "execution_count": 76,
   "id": "a9ddbe63",
   "metadata": {
    "execution": {
     "iopub.execute_input": "2025-07-30T21:18:11.952756Z",
     "iopub.status.busy": "2025-07-30T21:18:11.952250Z",
     "iopub.status.idle": "2025-07-30T21:18:14.363824Z",
     "shell.execute_reply": "2025-07-30T21:18:14.362948Z"
    },
    "papermill": {
     "duration": 2.443272,
     "end_time": "2025-07-30T21:18:14.365080",
     "exception": false,
     "start_time": "2025-07-30T21:18:11.921808",
     "status": "completed"
    },
    "tags": []
   },
   "outputs": [
    {
     "data": {
      "text/plain": [
       "array([[<Axes: title={'center': 'accuracy'}, xlabel='majmin'>,\n",
       "        <Axes: title={'center': 'balanced accuracy'}, xlabel='majmin'>,\n",
       "        <Axes: title={'center': 'f1'}, xlabel='majmin'>],\n",
       "       [<Axes: title={'center': 'precision'}, xlabel='majmin'>,\n",
       "        <Axes: title={'center': 'false positive rate'}, xlabel='majmin'>,\n",
       "        <Axes: title={'center': 'false negative rate'}, xlabel='majmin'>],\n",
       "       [<Axes: title={'center': 'selection rate'}, xlabel='majmin'>,\n",
       "        <Axes: title={'center': 'count'}, xlabel='majmin'>,\n",
       "        <Axes: xlabel='majmin'>]], dtype=object)"
      ]
     },
     "execution_count": 76,
     "metadata": {},
     "output_type": "execute_result"
    },
    {
     "data": {
      "image/png": "[encoded data removed]",
      "text/plain": [
       "<Figure size 1200x800 with 9 Axes>"
      ]
     },
     "metadata": {},
     "output_type": "display_data"
    }
   ],
   "source": [
    "# In a graphic\n",
    "metric_frame.by_group.plot.bar(\n",
    "    subplots=True,\n",
    "    layout=[3, 3],\n",
    "    legend=False,\n",
    "    figsize=[12, 8],\n",
    "    title=\"Show all metrics\",\n",
    ")"
   ]
  },
  {
   "cell_type": "markdown",
   "id": "f57a0bac",
   "metadata": {
    "papermill": {
     "duration": 0.026234,
     "end_time": "2025-07-30T21:18:14.418118",
     "exception": false,
     "start_time": "2025-07-30T21:18:14.391884",
     "status": "completed"
    },
    "tags": []
   },
   "source": [
    "# Final Output"
   ]
  },
  {
   "cell_type": "code",
   "execution_count": 77,
   "id": "96d280a3",
   "metadata": {
    "execution": {
     "iopub.execute_input": "2025-07-30T21:18:14.472774Z",
     "iopub.status.busy": "2025-07-30T21:18:14.472260Z",
     "iopub.status.idle": "2025-07-30T21:18:14.480796Z",
     "shell.execute_reply": "2025-07-30T21:18:14.479737Z"
    },
    "papermill": {
     "duration": 0.040637,
     "end_time": "2025-07-30T21:18:14.485152",
     "exception": false,
     "start_time": "2025-07-30T21:18:14.444515",
     "status": "completed"
    },
    "tags": []
   },
   "outputs": [
    {
     "data": {
      "text/plain": [
       "4"
      ]
     },
     "execution_count": 77,
     "metadata": {},
     "output_type": "execute_result"
    }
   ],
   "source": [
    "sub_universes = universe_analysis.generate_sub_universes()\n",
    "len(sub_universes)"
   ]
  },
  {
   "cell_type": "code",
   "execution_count": 78,
   "id": "92adf7ba",
   "metadata": {
    "execution": {
     "iopub.execute_input": "2025-07-30T21:18:14.546671Z",
     "iopub.status.busy": "2025-07-30T21:18:14.546192Z",
     "iopub.status.idle": "2025-07-30T21:18:14.552189Z",
     "shell.execute_reply": "2025-07-30T21:18:14.551281Z"
    },
    "papermill": {
     "duration": 0.039374,
     "end_time": "2025-07-30T21:18:14.553843",
     "exception": false,
     "start_time": "2025-07-30T21:18:14.514469",
     "status": "completed"
    },
    "tags": []
   },
   "outputs": [],
   "source": [
    "def filter_sub_universe_data(sub_universe, org_test):\n",
    "    # Keep all rows — no filtering\n",
    "    keep_rows_mask = np.ones(org_test.shape[0], dtype=bool)\n",
    "\n",
    "    print(f\"[INFO] Keeping all rows: {keep_rows_mask.sum()} rows retained.\")\n",
    "    return keep_rows_mask"
   ]
  },
  {
   "cell_type": "code",
   "execution_count": 79,
   "id": "4a759155",
   "metadata": {
    "execution": {
     "iopub.execute_input": "2025-07-30T21:18:14.649709Z",
     "iopub.status.busy": "2025-07-30T21:18:14.649247Z",
     "iopub.status.idle": "2025-07-30T21:18:23.231288Z",
     "shell.execute_reply": "2025-07-30T21:18:23.230299Z"
    },
    "papermill": {
     "duration": 8.648143,
     "end_time": "2025-07-30T21:18:23.233247",
     "exception": false,
     "start_time": "2025-07-30T21:18:14.585104",
     "status": "completed"
    },
    "tags": []
   },
   "outputs": [
    {
     "name": "stdout",
     "output_type": "stream",
     "text": [
      "Stopping execution_time clock.\n",
      "[INFO] Keeping all rows: 89710 rows retained.\n"
     ]
    },
    {
     "name": "stdout",
     "output_type": "stream",
     "text": [
      "[INFO] Keeping all rows: 89710 rows retained.\n"
     ]
    },
    {
     "name": "stdout",
     "output_type": "stream",
     "text": [
      "[INFO] Keeping all rows: 89710 rows retained.\n"
     ]
    },
    {
     "name": "stdout",
     "output_type": "stream",
     "text": [
      "[INFO] Keeping all rows: 89710 rows retained.\n"
     ]
    },
    {
     "data": {
      "text/html": [
       "<div>\n",
       "<style scoped>\n",
       "    .dataframe tbody tr th:only-of-type {\n",
       "        vertical-align: middle;\n",
       "    }\n",
       "\n",
       "    .dataframe tbody tr th {\n",
       "        vertical-align: top;\n",
       "    }\n",
       "\n",
       "    .dataframe thead th {\n",
       "        text-align: right;\n",
       "    }\n",
       "</style>\n",
       "<table border=\"1\" class=\"dataframe\">\n",
       "  <thead>\n",
       "    <tr style=\"text-align: right;\">\n",
       "      <th></th>\n",
       "      <th>run_no</th>\n",
       "      <th>universe_id</th>\n",
       "      <th>universe_settings</th>\n",
       "      <th>execution_time</th>\n",
       "      <th>test_size_n</th>\n",
       "      <th>test_size_frac</th>\n",
       "      <th>fair_main_equalized_odds_difference</th>\n",
       "      <th>fair_main_equalized_odds_ratio</th>\n",
       "      <th>fair_main_demographic_parity_difference</th>\n",
       "      <th>fair_main_demographic_parity_ratio</th>\n",
       "      <th>...</th>\n",
       "      <th>perf_grp_precision_0</th>\n",
       "      <th>perf_grp_precision_1</th>\n",
       "      <th>perf_grp_false positive rate_0</th>\n",
       "      <th>perf_grp_false positive rate_1</th>\n",
       "      <th>perf_grp_false negative rate_0</th>\n",
       "      <th>perf_grp_false negative rate_1</th>\n",
       "      <th>perf_grp_selection rate_0</th>\n",
       "      <th>perf_grp_selection rate_1</th>\n",
       "      <th>perf_grp_count_0</th>\n",
       "      <th>perf_grp_count_1</th>\n",
       "    </tr>\n",
       "  </thead>\n",
       "  <tbody>\n",
       "    <tr>\n",
       "      <th>0</th>\n",
       "      <td>14</td>\n",
       "      <td>dab432966aae4ef6c8ec4eb3c7a1f849</td>\n",
       "      <td>{\"cutoff\": \"quantile_0.1\", \"eval_fairness_grou...</td>\n",
       "      <td>35.574035</td>\n",
       "      <td>89710</td>\n",
       "      <td>1.0</td>\n",
       "      <td>0.067996</td>\n",
       "      <td>0.928246</td>\n",
       "      <td>0.067635</td>\n",
       "      <td>0.927509</td>\n",
       "      <td>...</td>\n",
       "      <td>NaN</td>\n",
       "      <td>NaN</td>\n",
       "      <td>NaN</td>\n",
       "      <td>NaN</td>\n",
       "      <td>NaN</td>\n",
       "      <td>NaN</td>\n",
       "      <td>NaN</td>\n",
       "      <td>NaN</td>\n",
       "      <td>NaN</td>\n",
       "      <td>NaN</td>\n",
       "    </tr>\n",
       "    <tr>\n",
       "      <th>0</th>\n",
       "      <td>14</td>\n",
       "      <td>dab432966aae4ef6c8ec4eb3c7a1f849</td>\n",
       "      <td>{\"cutoff\": \"quantile_0.1\", \"eval_fairness_grou...</td>\n",
       "      <td>35.574035</td>\n",
       "      <td>89710</td>\n",
       "      <td>1.0</td>\n",
       "      <td>0.067996</td>\n",
       "      <td>0.928246</td>\n",
       "      <td>0.067635</td>\n",
       "      <td>0.927509</td>\n",
       "      <td>...</td>\n",
       "      <td>0.122982</td>\n",
       "      <td>0.140369</td>\n",
       "      <td>0.857858</td>\n",
       "      <td>0.924171</td>\n",
       "      <td>0.076858</td>\n",
       "      <td>0.008862</td>\n",
       "      <td>0.865385</td>\n",
       "      <td>0.933020</td>\n",
       "      <td>20540.0</td>\n",
       "      <td>69170.0</td>\n",
       "    </tr>\n",
       "    <tr>\n",
       "      <th>0</th>\n",
       "      <td>14</td>\n",
       "      <td>dab432966aae4ef6c8ec4eb3c7a1f849</td>\n",
       "      <td>{\"cutoff\": \"quantile_0.25\", \"eval_fairness_gro...</td>\n",
       "      <td>35.574035</td>\n",
       "      <td>89710</td>\n",
       "      <td>1.0</td>\n",
       "      <td>0.125341</td>\n",
       "      <td>0.869236</td>\n",
       "      <td>0.075578</td>\n",
       "      <td>0.904176</td>\n",
       "      <td>...</td>\n",
       "      <td>NaN</td>\n",
       "      <td>NaN</td>\n",
       "      <td>NaN</td>\n",
       "      <td>NaN</td>\n",
       "      <td>NaN</td>\n",
       "      <td>NaN</td>\n",
       "      <td>NaN</td>\n",
       "      <td>NaN</td>\n",
       "      <td>NaN</td>\n",
       "      <td>NaN</td>\n",
       "    </tr>\n",
       "    <tr>\n",
       "      <th>0</th>\n",
       "      <td>14</td>\n",
       "      <td>dab432966aae4ef6c8ec4eb3c7a1f849</td>\n",
       "      <td>{\"cutoff\": \"quantile_0.25\", \"eval_fairness_gro...</td>\n",
       "      <td>35.574035</td>\n",
       "      <td>89710</td>\n",
       "      <td>1.0</td>\n",
       "      <td>0.125341</td>\n",
       "      <td>0.869236</td>\n",
       "      <td>0.075578</td>\n",
       "      <td>0.904176</td>\n",
       "      <td>...</td>\n",
       "      <td>0.134694</td>\n",
       "      <td>0.160587</td>\n",
       "      <td>0.697502</td>\n",
       "      <td>0.762869</td>\n",
       "      <td>0.166807</td>\n",
       "      <td>0.041466</td>\n",
       "      <td>0.713145</td>\n",
       "      <td>0.788723</td>\n",
       "      <td>20540.0</td>\n",
       "      <td>69170.0</td>\n",
       "    </tr>\n",
       "  </tbody>\n",
       "</table>\n",
       "<p>4 rows × 50 columns</p>\n",
       "</div>"
      ],
      "text/plain": [
       "  run_no                       universe_id  \\\n",
       "0     14  dab432966aae4ef6c8ec4eb3c7a1f849   \n",
       "0     14  dab432966aae4ef6c8ec4eb3c7a1f849   \n",
       "0     14  dab432966aae4ef6c8ec4eb3c7a1f849   \n",
       "0     14  dab432966aae4ef6c8ec4eb3c7a1f849   \n",
       "\n",
       "                                   universe_settings  execution_time  \\\n",
       "0  {\"cutoff\": \"quantile_0.1\", \"eval_fairness_grou...       35.574035   \n",
       "0  {\"cutoff\": \"quantile_0.1\", \"eval_fairness_grou...       35.574035   \n",
       "0  {\"cutoff\": \"quantile_0.25\", \"eval_fairness_gro...       35.574035   \n",
       "0  {\"cutoff\": \"quantile_0.25\", \"eval_fairness_gro...       35.574035   \n",
       "\n",
       "   test_size_n  test_size_frac  fair_main_equalized_odds_difference  \\\n",
       "0        89710             1.0                             0.067996   \n",
       "0        89710             1.0                             0.067996   \n",
       "0        89710             1.0                             0.125341   \n",
       "0        89710             1.0                             0.125341   \n",
       "\n",
       "   fair_main_equalized_odds_ratio  fair_main_demographic_parity_difference  \\\n",
       "0                        0.928246                                 0.067635   \n",
       "0                        0.928246                                 0.067635   \n",
       "0                        0.869236                                 0.075578   \n",
       "0                        0.869236                                 0.075578   \n",
       "\n",
       "   fair_main_demographic_parity_ratio  ...  perf_grp_precision_0  \\\n",
       "0                            0.927509  ...                   NaN   \n",
       "0                            0.927509  ...              0.122982   \n",
       "0                            0.904176  ...                   NaN   \n",
       "0                            0.904176  ...              0.134694   \n",
       "\n",
       "   perf_grp_precision_1  perf_grp_false positive rate_0  \\\n",
       "0                   NaN                             NaN   \n",
       "0              0.140369                        0.857858   \n",
       "0                   NaN                             NaN   \n",
       "0              0.160587                        0.697502   \n",
       "\n",
       "   perf_grp_false positive rate_1  perf_grp_false negative rate_0  \\\n",
       "0                             NaN                             NaN   \n",
       "0                        0.924171                        0.076858   \n",
       "0                             NaN                             NaN   \n",
       "0                        0.762869                        0.166807   \n",
       "\n",
       "   perf_grp_false negative rate_1  perf_grp_selection rate_0  \\\n",
       "0                             NaN                        NaN   \n",
       "0                        0.008862                   0.865385   \n",
       "0                             NaN                        NaN   \n",
       "0                        0.041466                   0.713145   \n",
       "\n",
       "   perf_grp_selection rate_1  perf_grp_count_0  perf_grp_count_1  \n",
       "0                        NaN               NaN               NaN  \n",
       "0                   0.933020           20540.0           69170.0  \n",
       "0                        NaN               NaN               NaN  \n",
       "0                   0.788723           20540.0           69170.0  \n",
       "\n",
       "[4 rows x 50 columns]"
      ]
     },
     "execution_count": 79,
     "metadata": {},
     "output_type": "execute_result"
    }
   ],
   "source": [
    "final_output = universe_analysis.generate_final_output(\n",
    "    y_pred_prob=probs_test,\n",
    "    y_test=y_true,\n",
    "    org_test=org_test,\n",
    "    filter_data=filter_sub_universe_data,\n",
    "    cp_metrics_df=cp_metrics_df,\n",
    "    save=True,\n",
    ")\n",
    "final_output"
   ]
  },
  {
   "cell_type": "code",
   "execution_count": null,
   "id": "721ff514-cb11-46f8-b6fc-50392f74b5cb",
   "metadata": {
    "papermill": {
     "duration": 0.03531,
     "end_time": "2025-07-30T21:18:23.306186",
     "exception": false,
     "start_time": "2025-07-30T21:18:23.270876",
     "status": "completed"
    },
    "tags": []
   },
   "outputs": [],
   "source": []
  }
 ],
 "metadata": {
  "celltoolbar": "Tags",
  "kernelspec": {
   "display_name": "Python (CMA Fairness)",
   "language": "python",
   "name": "cma_fair_env"
  },
  "language_info": {
   "codemirror_mode": {
    "name": "ipython",
    "version": 3
   },
   "file_extension": ".py",
   "mimetype": "text/x-python",
   "name": "python",
   "nbconvert_exporter": "python",
   "pygments_lexer": "ipython3",
   "version": "3.10.12"
  },
  "papermill": {
   "default_parameters": {},
   "duration": 48.508799,
   "end_time": "2025-07-30T21:18:24.159748",
   "environment_variables": {},
   "exception": null,
   "input_path": "universe_analysis.ipynb",
   "output_path": "output/runs/14/notebooks/m_14-dab432966aae4ef6c8ec4eb3c7a1f849.ipynb",
   "parameters": {
    "output_dir": "output",
    "run_no": "14",
    "seed": "2023",
    "universe": "{\"cutoff\": [\"quantile_0.1\", \"quantile_0.25\"], \"eval_fairness_grouping\": [\"majority-minority\", \"nationality-all\"], \"exclude_features\": \"nationality-sex\", \"exclude_subgroups\": \"keep-all\", \"model\": \"rf\", \"scale\": \"do-not-scale\", \"training_size\": \"5k\", \"training_year\": \"2010_14\"}",
    "universe_id": "dab432966aae4ef6c8ec4eb3c7a1f849"
   },
   "start_time": "2025-07-30T21:17:35.650949",
   "version": "2.6.0"
  }
 },
 "nbformat": 4,
 "nbformat_minor": 5
}