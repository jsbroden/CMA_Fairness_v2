{
 "cells": [
  {
   "cell_type": "code",
   "execution_count": 1,
   "id": "f159f837-637b-42ba-96b5-ec9a68c44524",
   "metadata": {
    "execution": {
     "iopub.execute_input": "2025-07-30T20:56:34.031317Z",
     "iopub.status.busy": "2025-07-30T20:56:34.030459Z",
     "iopub.status.idle": "2025-07-30T20:56:34.044098Z",
     "shell.execute_reply": "2025-07-30T20:56:34.043005Z"
    },
    "papermill": {
     "duration": 0.03658,
     "end_time": "2025-07-30T20:56:34.046324",
     "exception": false,
     "start_time": "2025-07-30T20:56:34.009744",
     "status": "completed"
    },
    "tags": []
   },
   "outputs": [
    {
     "name": "stdout",
     "output_type": "stream",
     "text": [
      "/dss/dsshome1/0C/ra93lal2/cma/CMA_Fairness_v2\n"
     ]
    },
    {
     "name": "stderr",
     "output_type": "stream",
     "text": [
      "/dss/dsshome1/0C/ra93lal2/.local/share/virtualenvs/CMA_Fairness_v2-3j10GkSs/lib/python3.10/site-packages/IPython/core/magics/osm.py:393: UserWarning: This is now an optional IPython functionality, using bookmarks requires you to install the `pickleshare` library.\n",
      "  bkms = self.shell.db.get('bookmarks', {})\n",
      "/dss/dsshome1/0C/ra93lal2/.local/share/virtualenvs/CMA_Fairness_v2-3j10GkSs/lib/python3.10/site-packages/IPython/core/magics/osm.py:417: UserWarning: This is now an optional IPython functionality, setting dhist requires you to install the `pickleshare` library.\n",
      "  self.shell.db['dhist'] = compress_dhist(dhist)[-100:]\n"
     ]
    }
   ],
   "source": [
    "%cd ~/cma/CMA_Fairness_v2"
   ]
  },
  {
   "cell_type": "markdown",
   "id": "de2603b9",
   "metadata": {
    "papermill": {
     "duration": 0.018715,
     "end_time": "2025-07-30T20:56:34.129907",
     "exception": false,
     "start_time": "2025-07-30T20:56:34.111192",
     "status": "completed"
    },
    "tags": []
   },
   "source": [
    "The following cell holds the definition of our parameters, these values can be overriden by rendering the with e.g. the following command:\n",
    "\n",
    "papermill -p alpha 0.2 -p ratio 0.3 universe_analysis.ipynb output/test_run.ipynb"
   ]
  },
  {
   "cell_type": "code",
   "execution_count": 2,
   "id": "a80968a0-40bb-4fa9-85ef-2d5eefb01975",
   "metadata": {
    "execution": {
     "iopub.execute_input": "2025-07-30T20:56:34.168867Z",
     "iopub.status.busy": "2025-07-30T20:56:34.168009Z",
     "iopub.status.idle": "2025-07-30T20:56:34.173482Z",
     "shell.execute_reply": "2025-07-30T20:56:34.172583Z"
    },
    "papermill": {
     "duration": 0.02656,
     "end_time": "2025-07-30T20:56:34.175149",
     "exception": false,
     "start_time": "2025-07-30T20:56:34.148589",
     "status": "completed"
    },
    "tags": []
   },
   "outputs": [
    {
     "name": "stdout",
     "output_type": "stream",
     "text": [
      "Current working directory: /dss/dsshome1/0C/ra93lal2/cma/CMA_Fairness_v2\n"
     ]
    }
   ],
   "source": [
    "import os\n",
    "print(\"Current working directory:\", os.getcwd())"
   ]
  },
  {
   "cell_type": "code",
   "execution_count": 3,
   "id": "2dce4c03",
   "metadata": {
    "execution": {
     "iopub.execute_input": "2025-07-30T20:56:34.220981Z",
     "iopub.status.busy": "2025-07-30T20:56:34.220153Z",
     "iopub.status.idle": "2025-07-30T20:56:34.227129Z",
     "shell.execute_reply": "2025-07-30T20:56:34.226069Z"
    },
    "papermill": {
     "duration": 0.031655,
     "end_time": "2025-07-30T20:56:34.229059",
     "exception": false,
     "start_time": "2025-07-30T20:56:34.197404",
     "status": "completed"
    },
    "tags": [
     "parameters"
    ]
   },
   "outputs": [],
   "source": [
    "run_no = 0\n",
    "universe_id = \"test\"\n",
    "universe = {\n",
    "    \"training_size\": \"25k\", # \"25k\", \"5k\", \"1k\"\n",
    "    \"training_year\": \"2014\", # \"2014\", \"2012_14\", \"2010_14\"\n",
    "    \"scale\": \"scale\", # \"scale\", \"do-not-scale\",\n",
    "    #\"stratify_split\": \"target\", # \"none\", \"target\", \"protected-attribute\", \"both\",\n",
    "    \"model\": \"elasticnet\", # \"logreg\", \"penalized_logreg\", \"rf\", \"gbm\", \"elasticnet\"\n",
    "    \"cutoff\": [\"quantile_0.15\", \"quantile_0.30\"],\n",
    "    \"exclude_features\": \"age\", # \"none\", \"nationality\", \"sex\", \"nationality-sex\", \"age\"\n",
    "    \"exclude_subgroups\": \"keep-all\", # \"keep-all\", \"drop-non-german\"\n",
    "    \"eval_fairness_grouping\": [\"majority-minority\", \"nationality-all\"]\n",
    "}\n",
    "\n",
    "output_dir=\"./output\"\n",
    "seed=0"
   ]
  },
  {
   "cell_type": "code",
   "execution_count": 4,
   "id": "8c7dd278",
   "metadata": {
    "execution": {
     "iopub.execute_input": "2025-07-30T20:56:34.274178Z",
     "iopub.status.busy": "2025-07-30T20:56:34.273422Z",
     "iopub.status.idle": "2025-07-30T20:56:34.278694Z",
     "shell.execute_reply": "2025-07-30T20:56:34.277844Z"
    },
    "papermill": {
     "duration": 0.029051,
     "end_time": "2025-07-30T20:56:34.280263",
     "exception": false,
     "start_time": "2025-07-30T20:56:34.251212",
     "status": "completed"
    },
    "tags": [
     "injected-parameters"
    ]
   },
   "outputs": [],
   "source": [
    "# Parameters\n",
    "universe_id = \"7cd5f5999ea85f41ef62929c9b77ac22\"\n",
    "run_no = \"14\"\n",
    "universe = \"{\\\"cutoff\\\": [\\\"quantile_0.1\\\", \\\"quantile_0.25\\\"], \\\"eval_fairness_grouping\\\": [\\\"majority-minority\\\", \\\"nationality-all\\\"], \\\"exclude_features\\\": \\\"age\\\", \\\"exclude_subgroups\\\": \\\"drop-non-german\\\", \\\"model\\\": \\\"elasticnet\\\", \\\"scale\\\": \\\"do-not-scale\\\", \\\"training_size\\\": \\\"5k\\\", \\\"training_year\\\": \\\"2014\\\"}\"\n",
    "output_dir = \"output\"\n",
    "seed = \"2023\"\n"
   ]
  },
  {
   "cell_type": "code",
   "execution_count": 5,
   "id": "1650acaf",
   "metadata": {
    "execution": {
     "iopub.execute_input": "2025-07-30T20:56:34.320155Z",
     "iopub.status.busy": "2025-07-30T20:56:34.319353Z",
     "iopub.status.idle": "2025-07-30T20:56:34.324431Z",
     "shell.execute_reply": "2025-07-30T20:56:34.323424Z"
    },
    "papermill": {
     "duration": 0.02661,
     "end_time": "2025-07-30T20:56:34.326290",
     "exception": false,
     "start_time": "2025-07-30T20:56:34.299680",
     "status": "completed"
    },
    "tags": []
   },
   "outputs": [],
   "source": [
    "import json\n",
    "# Parse universe into dict if it is passed as a string\n",
    "if isinstance(universe, str):\n",
    "    universe = json.loads(universe)"
   ]
  },
  {
   "cell_type": "code",
   "execution_count": 6,
   "id": "16620c48",
   "metadata": {
    "execution": {
     "iopub.execute_input": "2025-07-30T20:56:34.371434Z",
     "iopub.status.busy": "2025-07-30T20:56:34.370618Z",
     "iopub.status.idle": "2025-07-30T20:56:34.414708Z",
     "shell.execute_reply": "2025-07-30T20:56:34.413787Z"
    },
    "papermill": {
     "duration": 0.068226,
     "end_time": "2025-07-30T20:56:34.416740",
     "exception": false,
     "start_time": "2025-07-30T20:56:34.348514",
     "status": "completed"
    },
    "tags": []
   },
   "outputs": [],
   "source": [
    "# Auto-reload the custom package\n",
    "%load_ext autoreload\n",
    "%autoreload 1\n",
    "%aimport fairness_multiverse"
   ]
  },
  {
   "cell_type": "code",
   "execution_count": 7,
   "id": "01c5c9f3",
   "metadata": {
    "execution": {
     "iopub.execute_input": "2025-07-30T20:56:34.460100Z",
     "iopub.status.busy": "2025-07-30T20:56:34.459442Z",
     "iopub.status.idle": "2025-07-30T20:56:36.341979Z",
     "shell.execute_reply": "2025-07-30T20:56:36.341141Z"
    },
    "papermill": {
     "duration": 1.905852,
     "end_time": "2025-07-30T20:56:36.343505",
     "exception": false,
     "start_time": "2025-07-30T20:56:34.437653",
     "status": "completed"
    },
    "tags": []
   },
   "outputs": [],
   "source": [
    "from fairness_multiverse.universe import UniverseAnalysis\n",
    "\n",
    "universe_analysis = UniverseAnalysis(\n",
    "    run_no = run_no,\n",
    "    universe_id = universe_id,\n",
    "    universe = universe,\n",
    "    output_dir=output_dir,\n",
    ")"
   ]
  },
  {
   "cell_type": "code",
   "execution_count": 8,
   "id": "106241f5",
   "metadata": {
    "execution": {
     "iopub.execute_input": "2025-07-30T20:56:36.366253Z",
     "iopub.status.busy": "2025-07-30T20:56:36.365678Z",
     "iopub.status.idle": "2025-07-30T20:56:36.371010Z",
     "shell.execute_reply": "2025-07-30T20:56:36.370264Z"
    },
    "papermill": {
     "duration": 0.017838,
     "end_time": "2025-07-30T20:56:36.372438",
     "exception": false,
     "start_time": "2025-07-30T20:56:36.354600",
     "status": "completed"
    },
    "tags": []
   },
   "outputs": [
    {
     "name": "stdout",
     "output_type": "stream",
     "text": [
      "Using Seed: 2023\n"
     ]
    }
   ],
   "source": [
    "import numpy as np\n",
    "parsed_seed = int(seed)\n",
    "np.random.seed(parsed_seed)\n",
    "print(f\"Using Seed: {parsed_seed}\")"
   ]
  },
  {
   "cell_type": "markdown",
   "id": "e0ebdc57",
   "metadata": {
    "papermill": {
     "duration": 0.017157,
     "end_time": "2025-07-30T20:56:36.400671",
     "exception": false,
     "start_time": "2025-07-30T20:56:36.383514",
     "status": "completed"
    },
    "tags": []
   },
   "source": [
    "# Loading Data"
   ]
  },
  {
   "cell_type": "markdown",
   "id": "681925a3",
   "metadata": {
    "papermill": {
     "duration": 0.022934,
     "end_time": "2025-07-30T20:56:36.447155",
     "exception": false,
     "start_time": "2025-07-30T20:56:36.424221",
     "status": "completed"
    },
    "tags": []
   },
   "source": [
    "Load siab_train, siab_test, siab_calib and/or \n",
    "load siab_train_features, siab_train_labels"
   ]
  },
  {
   "cell_type": "code",
   "execution_count": 9,
   "id": "f0496b8a",
   "metadata": {
    "execution": {
     "iopub.execute_input": "2025-07-30T20:56:36.494039Z",
     "iopub.status.busy": "2025-07-30T20:56:36.493610Z",
     "iopub.status.idle": "2025-07-30T20:56:48.630269Z",
     "shell.execute_reply": "2025-07-30T20:56:48.629161Z"
    },
    "papermill": {
     "duration": 12.161909,
     "end_time": "2025-07-30T20:56:48.632139",
     "exception": false,
     "start_time": "2025-07-30T20:56:36.470230",
     "status": "completed"
    },
    "tags": []
   },
   "outputs": [
    {
     "name": "stdout",
     "output_type": "stream",
     "text": [
      "Loading SIAB data from cache: data/siab_cached.csv.gz\n"
     ]
    },
    {
     "name": "stdout",
     "output_type": "stream",
     "text": [
      "(643690, 164)\n"
     ]
    }
   ],
   "source": [
    "from pathlib import Path\n",
    "import pandas as pd\n",
    "\n",
    "# File paths\n",
    "raw_file = Path(\"data/raw/siab.csv\")\n",
    "cache_file = Path(\"data/siab_cached.csv.gz\")\n",
    "\n",
    "# Ensure cache directory exists\n",
    "cache_file.parent.mkdir(parents=True, exist_ok=True)\n",
    "\n",
    "# Load with simple caching\n",
    "if cache_file.exists():\n",
    "    print(f\"Loading SIAB data from cache: {cache_file}\")\n",
    "    siab = pd.read_csv(cache_file, compression='gzip')\n",
    "else:\n",
    "    print(f\"Cache not found. Reading raw SIAB data: {raw_file}\")\n",
    "    siab = pd.read_csv(raw_file)\n",
    "    siab.to_csv(cache_file, index=False, compression='gzip')\n",
    "    print(f\"Cached SIAB data to: {cache_file}\")\n",
    "\n",
    "# Now use `siab` DataFrame as needed\n",
    "print(siab.shape)"
   ]
  },
  {
   "cell_type": "code",
   "execution_count": 10,
   "id": "db0ca512-5f53-4dba-abdb-a2888bca41ba",
   "metadata": {
    "execution": {
     "iopub.execute_input": "2025-07-30T20:56:48.677006Z",
     "iopub.status.busy": "2025-07-30T20:56:48.676479Z",
     "iopub.status.idle": "2025-07-30T20:56:48.682147Z",
     "shell.execute_reply": "2025-07-30T20:56:48.681169Z"
    },
    "papermill": {
     "duration": 0.028087,
     "end_time": "2025-07-30T20:56:48.683986",
     "exception": false,
     "start_time": "2025-07-30T20:56:48.655899",
     "status": "completed"
    },
    "tags": []
   },
   "outputs": [],
   "source": [
    "#siab"
   ]
  },
  {
   "cell_type": "code",
   "execution_count": 11,
   "id": "a0edb063",
   "metadata": {
    "execution": {
     "iopub.execute_input": "2025-07-30T20:56:48.728489Z",
     "iopub.status.busy": "2025-07-30T20:56:48.727945Z",
     "iopub.status.idle": "2025-07-30T20:56:48.733132Z",
     "shell.execute_reply": "2025-07-30T20:56:48.732140Z"
    },
    "papermill": {
     "duration": 0.028561,
     "end_time": "2025-07-30T20:56:48.734769",
     "exception": false,
     "start_time": "2025-07-30T20:56:48.706208",
     "status": "completed"
    },
    "tags": []
   },
   "outputs": [],
   "source": [
    "#import pandas as pd\n",
    "#\n",
    "#X_train = pd.read_csv(\"./data/X_train.csv\")\n",
    "#y_train = pd.read_csv(\"./data/y_train.csv\")"
   ]
  },
  {
   "cell_type": "code",
   "execution_count": 12,
   "id": "63d08085",
   "metadata": {
    "execution": {
     "iopub.execute_input": "2025-07-30T20:56:48.778019Z",
     "iopub.status.busy": "2025-07-30T20:56:48.776983Z",
     "iopub.status.idle": "2025-07-30T20:56:48.782140Z",
     "shell.execute_reply": "2025-07-30T20:56:48.781260Z"
    },
    "papermill": {
     "duration": 0.028483,
     "end_time": "2025-07-30T20:56:48.783710",
     "exception": false,
     "start_time": "2025-07-30T20:56:48.755227",
     "status": "completed"
    },
    "tags": []
   },
   "outputs": [],
   "source": [
    "#X_test = pd.read_csv(\"./data/X_test.csv\")\n",
    "#y_true = pd.read_csv(\"./data/y_test.csv\")"
   ]
  },
  {
   "cell_type": "code",
   "execution_count": 13,
   "id": "98a8d0fa-1d3d-4ed8-bb2c-281470e24add",
   "metadata": {
    "execution": {
     "iopub.execute_input": "2025-07-30T20:56:48.826094Z",
     "iopub.status.busy": "2025-07-30T20:56:48.825635Z",
     "iopub.status.idle": "2025-07-30T20:56:48.830728Z",
     "shell.execute_reply": "2025-07-30T20:56:48.829756Z"
    },
    "papermill": {
     "duration": 0.027805,
     "end_time": "2025-07-30T20:56:48.832441",
     "exception": false,
     "start_time": "2025-07-30T20:56:48.804636",
     "status": "completed"
    },
    "tags": []
   },
   "outputs": [],
   "source": [
    "# Calibration data for conformal\n",
    "#X_calib = pd.read_csv(\"./data/X_calib.csv\")\n",
    "#y_calib = pd.read_csv(\"./data/y_calib.csv\")"
   ]
  },
  {
   "cell_type": "markdown",
   "id": "997051c5-15bd-4b69-9786-c3001a3ce484",
   "metadata": {
    "papermill": {
     "duration": 0.020338,
     "end_time": "2025-07-30T20:56:48.874467",
     "exception": false,
     "start_time": "2025-07-30T20:56:48.854129",
     "status": "completed"
    },
    "tags": []
   },
   "source": [
    "# Splitting Data and Setting Training Data Size"
   ]
  },
  {
   "cell_type": "code",
   "execution_count": 14,
   "id": "e993b61f-042d-41a6-8c81-f55681f86335",
   "metadata": {
    "execution": {
     "iopub.execute_input": "2025-07-30T20:56:48.918019Z",
     "iopub.status.busy": "2025-07-30T20:56:48.917336Z",
     "iopub.status.idle": "2025-07-30T20:56:48.931065Z",
     "shell.execute_reply": "2025-07-30T20:56:48.930143Z"
    },
    "papermill": {
     "duration": 0.038358,
     "end_time": "2025-07-30T20:56:48.932672",
     "exception": false,
     "start_time": "2025-07-30T20:56:48.894314",
     "status": "completed"
    },
    "tags": []
   },
   "outputs": [],
   "source": [
    "def sample_by_year_size(df,\n",
    "                        training_year: str,\n",
    "                        training_size: str,\n",
    "                        random_state: int = 42):\n",
    "    # --- parse training_year into a list of int years ---\n",
    "    if \"_\" in training_year:\n",
    "        start_str, end_str = training_year.split(\"_\", 1)\n",
    "        start = int(start_str)\n",
    "        end   = int(end_str) if len(end_str) == 4 else (int(end_str) + (start // 100)*100)\n",
    "        years = list(range(start, end + 1))\n",
    "    else:\n",
    "        years = [int(training_year)]\n",
    "\n",
    "    df = df[df[\"year\"].isin(years)].reset_index(drop=True)\n",
    "\n",
    "    # --- map training_size to total number of samples ---\n",
    "    total_map = {\"25k\": 25_000, \"5k\": 5_000, \"1k\": 1_000}\n",
    "    if training_size not in total_map:\n",
    "        return df  # e.g. \"all\"\n",
    "\n",
    "    total_samples = total_map[training_size]\n",
    "    n_years       = len(years)\n",
    "    base          = total_samples // n_years\n",
    "    remainder     = total_samples % n_years\n",
    "\n",
    "    # --- build a dict: year -> how many to sample ---\n",
    "    # give +1 to the first `remainder` years in ascending order\n",
    "    quotas = {\n",
    "        year: base + (1 if idx < remainder else 0)\n",
    "        for idx, year in enumerate(sorted(years))\n",
    "    }\n",
    "\n",
    "    # --- sample per‐year according to the quota dict ---\n",
    "    sampled = (\n",
    "        df\n",
    "        .groupby(\"year\", group_keys=False)\n",
    "        .apply(lambda grp: grp.sample(\n",
    "            n=min(len(grp), quotas[grp.name]),\n",
    "            random_state=random_state))\n",
    "        .reset_index(drop=True)\n",
    "    )\n",
    "\n",
    "    return sampled"
   ]
  },
  {
   "cell_type": "code",
   "execution_count": 15,
   "id": "c0ccd338-0e02-41f3-a09d-f56f9266e3fb",
   "metadata": {
    "execution": {
     "iopub.execute_input": "2025-07-30T20:56:48.978004Z",
     "iopub.status.busy": "2025-07-30T20:56:48.977333Z",
     "iopub.status.idle": "2025-07-30T20:56:48.982757Z",
     "shell.execute_reply": "2025-07-30T20:56:48.981782Z"
    },
    "papermill": {
     "duration": 0.030384,
     "end_time": "2025-07-30T20:56:48.984327",
     "exception": false,
     "start_time": "2025-07-30T20:56:48.953943",
     "status": "completed"
    },
    "tags": []
   },
   "outputs": [],
   "source": [
    "#universe[\"training_size\"]"
   ]
  },
  {
   "cell_type": "code",
   "execution_count": 16,
   "id": "ca707fd7-8047-4acd-bfa5-66248fbbf8e6",
   "metadata": {
    "execution": {
     "iopub.execute_input": "2025-07-30T20:56:49.028573Z",
     "iopub.status.busy": "2025-07-30T20:56:49.027823Z",
     "iopub.status.idle": "2025-07-30T20:56:49.032945Z",
     "shell.execute_reply": "2025-07-30T20:56:49.032005Z"
    },
    "papermill": {
     "duration": 0.028124,
     "end_time": "2025-07-30T20:56:49.034535",
     "exception": false,
     "start_time": "2025-07-30T20:56:49.006411",
     "status": "completed"
    },
    "tags": []
   },
   "outputs": [],
   "source": [
    "#universe[\"training_year\"]"
   ]
  },
  {
   "cell_type": "code",
   "execution_count": 17,
   "id": "aea9c6ef-6f46-42c8-85eb-5a62025c1508",
   "metadata": {
    "execution": {
     "iopub.execute_input": "2025-07-30T20:56:49.079131Z",
     "iopub.status.busy": "2025-07-30T20:56:49.078495Z",
     "iopub.status.idle": "2025-07-30T20:56:49.287160Z",
     "shell.execute_reply": "2025-07-30T20:56:49.286204Z"
    },
    "papermill": {
     "duration": 0.23267,
     "end_time": "2025-07-30T20:56:49.289081",
     "exception": false,
     "start_time": "2025-07-30T20:56:49.056411",
     "status": "completed"
    },
    "tags": []
   },
   "outputs": [],
   "source": [
    "siab_train = sample_by_year_size(siab,\n",
    "                               training_year=universe[\"training_year\"],\n",
    "                               training_size=universe[\"training_size\"])"
   ]
  },
  {
   "cell_type": "code",
   "execution_count": 18,
   "id": "8d3afb32-789d-442c-8d5d-9f5aa8dd2eed",
   "metadata": {
    "execution": {
     "iopub.execute_input": "2025-07-30T20:56:49.330630Z",
     "iopub.status.busy": "2025-07-30T20:56:49.329974Z",
     "iopub.status.idle": "2025-07-30T20:56:49.334836Z",
     "shell.execute_reply": "2025-07-30T20:56:49.333849Z"
    },
    "papermill": {
     "duration": 0.02725,
     "end_time": "2025-07-30T20:56:49.336694",
     "exception": false,
     "start_time": "2025-07-30T20:56:49.309444",
     "status": "completed"
    },
    "tags": []
   },
   "outputs": [],
   "source": [
    "#siab_train.shape"
   ]
  },
  {
   "cell_type": "code",
   "execution_count": 19,
   "id": "d582db68-1a4c-47fb-84fc-08518dc1975a",
   "metadata": {
    "execution": {
     "iopub.execute_input": "2025-07-30T20:56:49.378824Z",
     "iopub.status.busy": "2025-07-30T20:56:49.377896Z",
     "iopub.status.idle": "2025-07-30T20:56:49.383113Z",
     "shell.execute_reply": "2025-07-30T20:56:49.382171Z"
    },
    "papermill": {
     "duration": 0.027659,
     "end_time": "2025-07-30T20:56:49.384712",
     "exception": false,
     "start_time": "2025-07-30T20:56:49.357053",
     "status": "completed"
    },
    "tags": []
   },
   "outputs": [],
   "source": [
    "#display(siab_train.groupby(\"year\").size())"
   ]
  },
  {
   "cell_type": "code",
   "execution_count": 20,
   "id": "a561edb4-d032-42cb-8256-22eac1111c64",
   "metadata": {
    "execution": {
     "iopub.execute_input": "2025-07-30T20:56:49.426710Z",
     "iopub.status.busy": "2025-07-30T20:56:49.425928Z",
     "iopub.status.idle": "2025-07-30T20:56:49.644777Z",
     "shell.execute_reply": "2025-07-30T20:56:49.643766Z"
    },
    "papermill": {
     "duration": 0.241356,
     "end_time": "2025-07-30T20:56:49.646556",
     "exception": false,
     "start_time": "2025-07-30T20:56:49.405200",
     "status": "completed"
    },
    "tags": []
   },
   "outputs": [],
   "source": [
    "#siab_train = siab_s[siab_s.year < 2015]\n",
    "siab_calib = siab[siab.year == 2015]\n",
    "siab_test = siab[siab.year == 2016]"
   ]
  },
  {
   "cell_type": "code",
   "execution_count": 21,
   "id": "472de16f-c3db-4916-846b-1f0de9cf1746",
   "metadata": {
    "execution": {
     "iopub.execute_input": "2025-07-30T20:56:49.691293Z",
     "iopub.status.busy": "2025-07-30T20:56:49.690644Z",
     "iopub.status.idle": "2025-07-30T20:56:49.698997Z",
     "shell.execute_reply": "2025-07-30T20:56:49.697982Z"
    },
    "papermill": {
     "duration": 0.032712,
     "end_time": "2025-07-30T20:56:49.700737",
     "exception": false,
     "start_time": "2025-07-30T20:56:49.668025",
     "status": "completed"
    },
    "tags": []
   },
   "outputs": [],
   "source": [
    "X_train = siab_train.iloc[:,4:164]\n",
    "y_train = siab_train.iloc[:, [3]]"
   ]
  },
  {
   "cell_type": "code",
   "execution_count": 22,
   "id": "828c96af-f43a-4ed6-ba47-8ac73a47d56c",
   "metadata": {
    "execution": {
     "iopub.execute_input": "2025-07-30T20:56:49.744218Z",
     "iopub.status.busy": "2025-07-30T20:56:49.743573Z",
     "iopub.status.idle": "2025-07-30T20:56:49.792202Z",
     "shell.execute_reply": "2025-07-30T20:56:49.791167Z"
    },
    "papermill": {
     "duration": 0.071568,
     "end_time": "2025-07-30T20:56:49.793849",
     "exception": false,
     "start_time": "2025-07-30T20:56:49.722281",
     "status": "completed"
    },
    "tags": []
   },
   "outputs": [],
   "source": [
    "X_calib = siab_calib.iloc[:,4:164]\n",
    "y_calib = siab_calib.iloc[:, [3]]"
   ]
  },
  {
   "cell_type": "code",
   "execution_count": 23,
   "id": "c34be9c3-6bd6-476e-acd3-845840e303be",
   "metadata": {
    "execution": {
     "iopub.execute_input": "2025-07-30T20:56:49.836834Z",
     "iopub.status.busy": "2025-07-30T20:56:49.836045Z",
     "iopub.status.idle": "2025-07-30T20:56:49.889446Z",
     "shell.execute_reply": "2025-07-30T20:56:49.888449Z"
    },
    "papermill": {
     "duration": 0.075948,
     "end_time": "2025-07-30T20:56:49.891098",
     "exception": false,
     "start_time": "2025-07-30T20:56:49.815150",
     "status": "completed"
    },
    "tags": []
   },
   "outputs": [],
   "source": [
    "X_test = siab_test.iloc[:,4:164]\n",
    "y_true = siab_test.iloc[:, [3]]"
   ]
  },
  {
   "cell_type": "markdown",
   "id": "9901737e-04df-44f0-9100-f5ad144ed040",
   "metadata": {
    "papermill": {
     "duration": 0.019854,
     "end_time": "2025-07-30T20:56:49.932129",
     "exception": false,
     "start_time": "2025-07-30T20:56:49.912275",
     "status": "completed"
    },
    "tags": []
   },
   "source": [
    "# Splitting Data and Setting Training Data Size OLD VERSION"
   ]
  },
  {
   "cell_type": "code",
   "execution_count": 24,
   "id": "acbc8f7d-8fc8-4e86-8c59-5dcb0f58384b",
   "metadata": {
    "execution": {
     "iopub.execute_input": "2025-07-30T20:56:49.974283Z",
     "iopub.status.busy": "2025-07-30T20:56:49.973713Z",
     "iopub.status.idle": "2025-07-30T20:56:49.979339Z",
     "shell.execute_reply": "2025-07-30T20:56:49.978492Z"
    },
    "papermill": {
     "duration": 0.028569,
     "end_time": "2025-07-30T20:56:49.980958",
     "exception": false,
     "start_time": "2025-07-30T20:56:49.952389",
     "status": "completed"
    },
    "tags": []
   },
   "outputs": [],
   "source": [
    "#def sample_by_year(df, training_size, random_state=42):\n",
    "#    if training_size == \"2014\":\n",
    "#        return df[df[\"year\"] == 2014].reset_index(drop=True)\n",
    "#    \n",
    "#    size_map = {\n",
    "#        \"25k\": 5000,\n",
    "#        \"5k\": 1000,\n",
    "#        \"1k\": 200\n",
    "#    }\n",
    "#\n",
    "#    if training_size not in size_map:\n",
    "#        return df.reset_index(drop=True)  # use all data\n",
    "#\n",
    "#    n_per_year = size_map[training_size]\n",
    "#    grouped = df.groupby(\"year\")\n",
    "#    sampled = grouped.apply(lambda x: x.sample(n=min(n_per_year, len(x)), random_state=random_state))\n",
    "#    return sampled.reset_index(drop=True)"
   ]
  },
  {
   "cell_type": "code",
   "execution_count": 25,
   "id": "6d931f52-beaf-43ff-9e78-9d44a448d54e",
   "metadata": {
    "execution": {
     "iopub.execute_input": "2025-07-30T20:56:50.023455Z",
     "iopub.status.busy": "2025-07-30T20:56:50.022781Z",
     "iopub.status.idle": "2025-07-30T20:56:50.027981Z",
     "shell.execute_reply": "2025-07-30T20:56:50.027009Z"
    },
    "papermill": {
     "duration": 0.028021,
     "end_time": "2025-07-30T20:56:50.029500",
     "exception": false,
     "start_time": "2025-07-30T20:56:50.001479",
     "status": "completed"
    },
    "tags": []
   },
   "outputs": [],
   "source": [
    "#siab_s = sample_by_year(siab, universe[\"training_size\"])"
   ]
  },
  {
   "cell_type": "code",
   "execution_count": 26,
   "id": "5db0a40e-a4e2-4920-be85-b12ae061d70d",
   "metadata": {
    "execution": {
     "iopub.execute_input": "2025-07-30T20:56:50.072120Z",
     "iopub.status.busy": "2025-07-30T20:56:50.071351Z",
     "iopub.status.idle": "2025-07-30T20:56:50.076478Z",
     "shell.execute_reply": "2025-07-30T20:56:50.075528Z"
    },
    "papermill": {
     "duration": 0.02776,
     "end_time": "2025-07-30T20:56:50.077896",
     "exception": false,
     "start_time": "2025-07-30T20:56:50.050136",
     "status": "completed"
    },
    "tags": []
   },
   "outputs": [],
   "source": [
    "#display(siab_s.groupby(\"year\").size())"
   ]
  },
  {
   "cell_type": "code",
   "execution_count": 27,
   "id": "e6c733c5",
   "metadata": {
    "execution": {
     "iopub.execute_input": "2025-07-30T20:56:50.120755Z",
     "iopub.status.busy": "2025-07-30T20:56:50.119837Z",
     "iopub.status.idle": "2025-07-30T20:56:50.217642Z",
     "shell.execute_reply": "2025-07-30T20:56:50.216713Z"
    },
    "papermill": {
     "duration": 0.121534,
     "end_time": "2025-07-30T20:56:50.219757",
     "exception": false,
     "start_time": "2025-07-30T20:56:50.098223",
     "status": "completed"
    },
    "tags": []
   },
   "outputs": [],
   "source": [
    "# Auxiliary data needed downstream in the pipeline\n",
    "\n",
    "org_train = X_train.copy()\n",
    "org_test = X_test.copy()\n",
    "org_calib = X_calib.copy()"
   ]
  },
  {
   "cell_type": "code",
   "execution_count": 28,
   "id": "1466abac-c6da-4492-a62f-4240ae3783af",
   "metadata": {
    "execution": {
     "iopub.execute_input": "2025-07-30T20:56:50.264968Z",
     "iopub.status.busy": "2025-07-30T20:56:50.264311Z",
     "iopub.status.idle": "2025-07-30T20:56:50.270186Z",
     "shell.execute_reply": "2025-07-30T20:56:50.269293Z"
    },
    "papermill": {
     "duration": 0.029598,
     "end_time": "2025-07-30T20:56:50.271685",
     "exception": false,
     "start_time": "2025-07-30T20:56:50.242087",
     "status": "completed"
    },
    "tags": []
   },
   "outputs": [],
   "source": [
    "# put in other script?\n",
    "# Group sizes\n",
    "\n",
    "#def calculate_percentages(df, df_name):\n",
    "#    total_entries = len(df)\n",
    "#\n",
    "#    female_pct = (df['frau1'] == 1).mean() * 100\n",
    "#    non_german_pct = ((df['maxdeutsch1'] == 0) & (df['maxdeutsch.Missing.'] == 0)).mean() * 100\n",
    "#    non_german_male_pct = ((df['frau1'] == 0) & (df['maxdeutsch1'] == 0) & (df['maxdeutsch.Missing.'] == 0)).mean() * 100\n",
    "#    non_german_female_pct = ((df['frau1'] == 1) & (df['maxdeutsch1'] == 0) & (df['maxdeutsch.Missing.'] == 0)).mean() * 100\n",
    "#\n",
    "#    print(f\"--- {df_name} ---\")\n",
    "#    print(f\"Female: {female_pct:.2f}%\")\n",
    "#    print(f\"Non-German: {non_german_pct:.2f}%\")\n",
    "#    print(f\"Non-German Male: {non_german_male_pct:.2f}%\")\n",
    "#    print(f\"Non-German Female: {non_german_female_pct:.2f}%\\n\")\n",
    "#\n",
    "## Calculate for each DataFrame\n",
    "#calculate_percentages(siab_calib, \"siab_calib\")\n",
    "#calculate_percentages(siab_test, \"siab_test\")\n",
    "#calculate_percentages(siab_train, \"siab_train\")"
   ]
  },
  {
   "cell_type": "markdown",
   "id": "0a4a1b33",
   "metadata": {
    "papermill": {
     "duration": 0.021672,
     "end_time": "2025-07-30T20:56:50.315853",
     "exception": false,
     "start_time": "2025-07-30T20:56:50.294181",
     "status": "completed"
    },
    "tags": []
   },
   "source": [
    "# Preprocessing Data"
   ]
  },
  {
   "cell_type": "code",
   "execution_count": 29,
   "id": "ca879031",
   "metadata": {
    "execution": {
     "iopub.execute_input": "2025-07-30T20:56:50.360591Z",
     "iopub.status.busy": "2025-07-30T20:56:50.359835Z",
     "iopub.status.idle": "2025-07-30T20:56:50.366101Z",
     "shell.execute_reply": "2025-07-30T20:56:50.365044Z"
    },
    "papermill": {
     "duration": 0.031318,
     "end_time": "2025-07-30T20:56:50.367806",
     "exception": false,
     "start_time": "2025-07-30T20:56:50.336488",
     "status": "completed"
    },
    "tags": []
   },
   "outputs": [],
   "source": [
    "# EXCLUDE PROTECTED FEATURES\n",
    "# ----------------------\n",
    "# \"exclude_features\": \"none\", # \"nationality\", \"sex\", \"nationality-sex\"\n",
    "\n",
    "excluded_features = universe[\"exclude_features\"].split(\"-\") # split, e.g.: \"nationality-sex\" -> [\"nationality\", \"sex\"]\n",
    "excluded_features_dictionary = {\n",
    "    \"nationality\": [\"maxdeutsch1\", \"maxdeutsch.Missing.\"],\n",
    "    \"sex\": [\"frau1\"],\n",
    "    \"age\": [\"age\"],\n",
    "}\n"
   ]
  },
  {
   "cell_type": "code",
   "execution_count": 30,
   "id": "b745ac60",
   "metadata": {
    "execution": {
     "iopub.execute_input": "2025-07-30T20:56:50.413682Z",
     "iopub.status.busy": "2025-07-30T20:56:50.412738Z",
     "iopub.status.idle": "2025-07-30T20:56:50.418792Z",
     "shell.execute_reply": "2025-07-30T20:56:50.417866Z"
    },
    "papermill": {
     "duration": 0.030131,
     "end_time": "2025-07-30T20:56:50.420419",
     "exception": false,
     "start_time": "2025-07-30T20:56:50.390288",
     "status": "completed"
    },
    "tags": []
   },
   "outputs": [],
   "source": [
    "# Code nice names to column names\n",
    "\n",
    "excluded_features_columns = [\n",
    "    excluded_features_dictionary[f] for f in excluded_features if len(f) > 0 and f != \"none\"\n",
    "]"
   ]
  },
  {
   "cell_type": "code",
   "execution_count": 31,
   "id": "f84f73a2",
   "metadata": {
    "execution": {
     "iopub.execute_input": "2025-07-30T20:56:50.463859Z",
     "iopub.status.busy": "2025-07-30T20:56:50.463048Z",
     "iopub.status.idle": "2025-07-30T20:56:50.469406Z",
     "shell.execute_reply": "2025-07-30T20:56:50.468439Z"
    },
    "papermill": {
     "duration": 0.029574,
     "end_time": "2025-07-30T20:56:50.471002",
     "exception": false,
     "start_time": "2025-07-30T20:56:50.441428",
     "status": "completed"
    },
    "tags": []
   },
   "outputs": [],
   "source": [
    "from utils import flatten_once\n",
    "\n",
    "excluded_features_columns = flatten_once(excluded_features_columns)"
   ]
  },
  {
   "cell_type": "code",
   "execution_count": 32,
   "id": "884dea22",
   "metadata": {
    "execution": {
     "iopub.execute_input": "2025-07-30T20:56:50.514108Z",
     "iopub.status.busy": "2025-07-30T20:56:50.513556Z",
     "iopub.status.idle": "2025-07-30T20:56:50.523325Z",
     "shell.execute_reply": "2025-07-30T20:56:50.522480Z"
    },
    "papermill": {
     "duration": 0.032801,
     "end_time": "2025-07-30T20:56:50.524858",
     "exception": false,
     "start_time": "2025-07-30T20:56:50.492057",
     "status": "completed"
    },
    "tags": []
   },
   "outputs": [
    {
     "name": "stdout",
     "output_type": "stream",
     "text": [
      "Dropping features: ['age']\n"
     ]
    }
   ],
   "source": [
    "if len(excluded_features_columns) > 0:\n",
    "    print(f\"Dropping features: {excluded_features_columns}\")\n",
    "    X_train.drop(excluded_features_columns, axis=1, inplace=True)"
   ]
  },
  {
   "cell_type": "code",
   "execution_count": 33,
   "id": "95ab8b16",
   "metadata": {
    "execution": {
     "iopub.execute_input": "2025-07-30T20:56:50.569494Z",
     "iopub.status.busy": "2025-07-30T20:56:50.568855Z",
     "iopub.status.idle": "2025-07-30T20:56:50.621827Z",
     "shell.execute_reply": "2025-07-30T20:56:50.620748Z"
    },
    "papermill": {
     "duration": 0.077785,
     "end_time": "2025-07-30T20:56:50.624144",
     "exception": false,
     "start_time": "2025-07-30T20:56:50.546359",
     "status": "completed"
    },
    "tags": []
   },
   "outputs": [
    {
     "name": "stdout",
     "output_type": "stream",
     "text": [
      "Dropping features: ['age']\n"
     ]
    }
   ],
   "source": [
    "if len(excluded_features_columns) > 0:\n",
    "    print(f\"Dropping features: {excluded_features_columns}\")\n",
    "    X_test.drop(excluded_features_columns, axis=1, inplace=True)"
   ]
  },
  {
   "cell_type": "code",
   "execution_count": 34,
   "id": "1853aaf5-fb9f-46cb-a2b5-8ea4ae2237e4",
   "metadata": {
    "execution": {
     "iopub.execute_input": "2025-07-30T20:56:50.669108Z",
     "iopub.status.busy": "2025-07-30T20:56:50.668249Z",
     "iopub.status.idle": "2025-07-30T20:56:50.719475Z",
     "shell.execute_reply": "2025-07-30T20:56:50.718569Z"
    },
    "papermill": {
     "duration": 0.074822,
     "end_time": "2025-07-30T20:56:50.721198",
     "exception": false,
     "start_time": "2025-07-30T20:56:50.646376",
     "status": "completed"
    },
    "tags": []
   },
   "outputs": [
    {
     "name": "stdout",
     "output_type": "stream",
     "text": [
      "Dropping features: ['age']\n"
     ]
    }
   ],
   "source": [
    "if len(excluded_features_columns) > 0:\n",
    "    print(f\"Dropping features: {excluded_features_columns}\")\n",
    "    X_calib.drop(excluded_features_columns, axis=1, inplace=True)"
   ]
  },
  {
   "cell_type": "code",
   "execution_count": 35,
   "id": "6727d079-03e5-481e-9d38-292a90b7a0a8",
   "metadata": {
    "execution": {
     "iopub.execute_input": "2025-07-30T20:56:50.767628Z",
     "iopub.status.busy": "2025-07-30T20:56:50.766761Z",
     "iopub.status.idle": "2025-07-30T20:56:50.772001Z",
     "shell.execute_reply": "2025-07-30T20:56:50.771116Z"
    },
    "papermill": {
     "duration": 0.029686,
     "end_time": "2025-07-30T20:56:50.773698",
     "exception": false,
     "start_time": "2025-07-30T20:56:50.744012",
     "status": "completed"
    },
    "tags": []
   },
   "outputs": [],
   "source": [
    "# SPLIT & STRATIFY DATA\n",
    "# ----------------------"
   ]
  },
  {
   "cell_type": "code",
   "execution_count": 36,
   "id": "76c4dc6d",
   "metadata": {
    "execution": {
     "iopub.execute_input": "2025-07-30T20:56:50.820912Z",
     "iopub.status.busy": "2025-07-30T20:56:50.820248Z",
     "iopub.status.idle": "2025-07-30T20:56:50.825507Z",
     "shell.execute_reply": "2025-07-30T20:56:50.824599Z"
    },
    "papermill": {
     "duration": 0.029898,
     "end_time": "2025-07-30T20:56:50.826986",
     "exception": false,
     "start_time": "2025-07-30T20:56:50.797088",
     "status": "completed"
    },
    "tags": []
   },
   "outputs": [],
   "source": [
    "# EXCLUDE CERTAIN SUBGROUPS\n",
    "# ----------------------\n",
    "\n",
    "mode = universe.get(\"exclude_subgroups\", \"keep-all\") \n",
    "# Fetches the exclude_subgroups setting from the universe dict.\n",
    "# Defaults to \"keep-all\" if the key is missing."
   ]
  },
  {
   "cell_type": "code",
   "execution_count": 37,
   "id": "21994072",
   "metadata": {
    "execution": {
     "iopub.execute_input": "2025-07-30T20:56:50.871551Z",
     "iopub.status.busy": "2025-07-30T20:56:50.870663Z",
     "iopub.status.idle": "2025-07-30T20:56:50.877831Z",
     "shell.execute_reply": "2025-07-30T20:56:50.876830Z"
    },
    "papermill": {
     "duration": 0.031055,
     "end_time": "2025-07-30T20:56:50.879532",
     "exception": false,
     "start_time": "2025-07-30T20:56:50.848477",
     "status": "completed"
    },
    "tags": []
   },
   "outputs": [],
   "source": [
    "if mode == \"keep-all\":\n",
    "    keep_mask = pd.Series(True, index=org_train.index)\n",
    "\n",
    "# org_train contains the original feature columns from features_org (in Simson)\n",
    "# features_org contains unprocessed features, for me X_train at beginning ???\n",
    "# For keep-all, creates a boolean Series (keep_mask) of all True, so no rows are removed.\n",
    "\n",
    "elif mode == \"drop-non-german\":\n",
    "    keep_mask = org_train[\"maxdeutsch1\"] == 1 # ??? what about missing values?\n",
    "\n",
    "else:\n",
    "    raise ValueError(f\"Unsupported mode for exclude_subgroups: {mode}\")\n"
   ]
  },
  {
   "cell_type": "code",
   "execution_count": 38,
   "id": "71651440",
   "metadata": {
    "execution": {
     "iopub.execute_input": "2025-07-30T20:56:50.924490Z",
     "iopub.status.busy": "2025-07-30T20:56:50.923875Z",
     "iopub.status.idle": "2025-07-30T20:56:50.932542Z",
     "shell.execute_reply": "2025-07-30T20:56:50.931659Z"
    },
    "papermill": {
     "duration": 0.032573,
     "end_time": "2025-07-30T20:56:50.934186",
     "exception": false,
     "start_time": "2025-07-30T20:56:50.901613",
     "status": "completed"
    },
    "tags": []
   },
   "outputs": [
    {
     "name": "stdout",
     "output_type": "stream",
     "text": [
      "Dropping 741 rows (14.82%) where mode='drop-non-german'\n"
     ]
    }
   ],
   "source": [
    "n_drop = (~keep_mask).sum() # Calculates how many rows are set to be dropped\n",
    "if n_drop > 0:\n",
    "    pct = n_drop / len(keep_mask) * 100\n",
    "    print(f\"Dropping {n_drop} rows ({pct:.2f}%) where mode='{mode}'\")"
   ]
  },
  {
   "cell_type": "code",
   "execution_count": 39,
   "id": "5fb8eee5",
   "metadata": {
    "execution": {
     "iopub.execute_input": "2025-07-30T20:56:50.979589Z",
     "iopub.status.busy": "2025-07-30T20:56:50.979128Z",
     "iopub.status.idle": "2025-07-30T20:56:50.986461Z",
     "shell.execute_reply": "2025-07-30T20:56:50.985513Z"
    },
    "papermill": {
     "duration": 0.031976,
     "end_time": "2025-07-30T20:56:50.988133",
     "exception": false,
     "start_time": "2025-07-30T20:56:50.956157",
     "status": "completed"
    },
    "tags": []
   },
   "outputs": [],
   "source": [
    "X_train = X_train[keep_mask]"
   ]
  },
  {
   "cell_type": "code",
   "execution_count": 40,
   "id": "b202bb3a",
   "metadata": {
    "execution": {
     "iopub.execute_input": "2025-07-30T20:56:51.036125Z",
     "iopub.status.busy": "2025-07-30T20:56:51.035429Z",
     "iopub.status.idle": "2025-07-30T20:56:51.041421Z",
     "shell.execute_reply": "2025-07-30T20:56:51.040517Z"
    },
    "papermill": {
     "duration": 0.031633,
     "end_time": "2025-07-30T20:56:51.043086",
     "exception": false,
     "start_time": "2025-07-30T20:56:51.011453",
     "status": "completed"
    },
    "tags": []
   },
   "outputs": [],
   "source": [
    "y_train = y_train[keep_mask]"
   ]
  },
  {
   "cell_type": "markdown",
   "id": "493e2ac3",
   "metadata": {
    "papermill": {
     "duration": 0.021995,
     "end_time": "2025-07-30T20:56:51.089171",
     "exception": false,
     "start_time": "2025-07-30T20:56:51.067176",
     "status": "completed"
    },
    "tags": []
   },
   "source": [
    "# Model Training"
   ]
  },
  {
   "cell_type": "code",
   "execution_count": 41,
   "id": "679e1268",
   "metadata": {
    "execution": {
     "iopub.execute_input": "2025-07-30T20:56:51.134656Z",
     "iopub.status.busy": "2025-07-30T20:56:51.134086Z",
     "iopub.status.idle": "2025-07-30T20:56:51.250206Z",
     "shell.execute_reply": "2025-07-30T20:56:51.249304Z"
    },
    "papermill": {
     "duration": 0.141098,
     "end_time": "2025-07-30T20:56:51.252102",
     "exception": false,
     "start_time": "2025-07-30T20:56:51.111004",
     "status": "completed"
    },
    "tags": []
   },
   "outputs": [],
   "source": [
    "from sklearn.linear_model import LogisticRegression\n",
    "from sklearn.ensemble import GradientBoostingClassifier, RandomForestClassifier\n",
    "\n",
    "if (universe[\"model\"] == \"logreg\"):\n",
    "    model = LogisticRegression() #penalty=\"none\") #, solver=\"newton-cg\", max_iter=1) # include random_state=19 ?\n",
    "elif (universe[\"model\"] == \"penalized_logreg\"):\n",
    "    model = LogisticRegression(penalty=\"l2\", C=1.0) #, solver=\"newton-cg\", max_iter=1)\n",
    "elif (universe[\"model\"] == \"rf\"):\n",
    "    model = RandomForestClassifier(n_estimators=100, n_jobs=-1)\n",
    "elif (universe[\"model\"] == \"gbm\"):\n",
    "    model = GradientBoostingClassifier()\n",
    "elif (universe[\"model\"] == \"elasticnet\"):\n",
    "    model = LogisticRegression(penalty = 'elasticnet', solver = 'saga', l1_ratio = 0.5, max_iter=5000) # which solver to use?\n",
    "else:\n",
    "    raise \"Unsupported universe.model\""
   ]
  },
  {
   "cell_type": "code",
   "execution_count": 42,
   "id": "0cc8f744",
   "metadata": {
    "execution": {
     "iopub.execute_input": "2025-07-30T20:56:51.298686Z",
     "iopub.status.busy": "2025-07-30T20:56:51.298157Z",
     "iopub.status.idle": "2025-07-30T20:56:51.305733Z",
     "shell.execute_reply": "2025-07-30T20:56:51.303706Z"
    },
    "papermill": {
     "duration": 0.032926,
     "end_time": "2025-07-30T20:56:51.307297",
     "exception": false,
     "start_time": "2025-07-30T20:56:51.274371",
     "status": "completed"
    },
    "tags": []
   },
   "outputs": [],
   "source": [
    "import numpy as np\n",
    "from sklearn.pipeline import Pipeline\n",
    "from sklearn.preprocessing import StandardScaler\n",
    "\n",
    "model = Pipeline([\n",
    "    #(\"continuous_processor\", continuous_processor),\n",
    "    #(\"categorical_preprocessor\", categorical_preprocessor),\n",
    "    (\"scale\", StandardScaler() if universe[\"scale\"] == \"scale\" else None), \n",
    "    (\"model\", model),\n",
    "])"
   ]
  },
  {
   "cell_type": "code",
   "execution_count": 43,
   "id": "9442c04d",
   "metadata": {
    "execution": {
     "iopub.execute_input": "2025-07-30T20:56:51.354123Z",
     "iopub.status.busy": "2025-07-30T20:56:51.353454Z",
     "iopub.status.idle": "2025-07-30T20:57:58.910543Z",
     "shell.execute_reply": "2025-07-30T20:57:58.909495Z"
    },
    "papermill": {
     "duration": 67.620734,
     "end_time": "2025-07-30T20:57:58.950965",
     "exception": false,
     "start_time": "2025-07-30T20:56:51.330231",
     "status": "completed"
    },
    "tags": []
   },
   "outputs": [
    {
     "data": {
      "text/html": [
       "<style>#sk-container-id-1 {color: black;background-color: white;}#sk-container-id-1 pre{padding: 0;}#sk-container-id-1 div.sk-toggleable {background-color: white;}#sk-container-id-1 label.sk-toggleable__label {cursor: pointer;display: block;width: 100%;margin-bottom: 0;padding: 0.3em;box-sizing: border-box;text-align: center;}#sk-container-id-1 label.sk-toggleable__label-arrow:before {content: \"▸\";float: left;margin-right: 0.25em;color: #696969;}#sk-container-id-1 label.sk-toggleable__label-arrow:hover:before {color: black;}#sk-container-id-1 div.sk-estimator:hover label.sk-toggleable__label-arrow:before {color: black;}#sk-container-id-1 div.sk-toggleable__content {max-height: 0;max-width: 0;overflow: hidden;text-align: left;background-color: #f0f8ff;}#sk-container-id-1 div.sk-toggleable__content pre {margin: 0.2em;color: black;border-radius: 0.25em;background-color: #f0f8ff;}#sk-container-id-1 input.sk-toggleable__control:checked~div.sk-toggleable__content {max-height: 200px;max-width: 100%;overflow: auto;}#sk-container-id-1 input.sk-toggleable__control:checked~label.sk-toggleable__label-arrow:before {content: \"▾\";}#sk-container-id-1 div.sk-estimator input.sk-toggleable__control:checked~label.sk-toggleable__label {background-color: #d4ebff;}#sk-container-id-1 div.sk-label input.sk-toggleable__control:checked~label.sk-toggleable__label {background-color: #d4ebff;}#sk-container-id-1 input.sk-hidden--visually {border: 0;clip: rect(1px 1px 1px 1px);clip: rect(1px, 1px, 1px, 1px);height: 1px;margin: -1px;overflow: hidden;padding: 0;position: absolute;width: 1px;}#sk-container-id-1 div.sk-estimator {font-family: monospace;background-color: #f0f8ff;border: 1px dotted black;border-radius: 0.25em;box-sizing: border-box;margin-bottom: 0.5em;}#sk-container-id-1 div.sk-estimator:hover {background-color: #d4ebff;}#sk-container-id-1 div.sk-parallel-item::after {content: \"\";width: 100%;border-bottom: 1px solid gray;flex-grow: 1;}#sk-container-id-1 div.sk-label:hover label.sk-toggleable__label {background-color: #d4ebff;}#sk-container-id-1 div.sk-serial::before {content: \"\";position: absolute;border-left: 1px solid gray;box-sizing: border-box;top: 0;bottom: 0;left: 50%;z-index: 0;}#sk-container-id-1 div.sk-serial {display: flex;flex-direction: column;align-items: center;background-color: white;padding-right: 0.2em;padding-left: 0.2em;position: relative;}#sk-container-id-1 div.sk-item {position: relative;z-index: 1;}#sk-container-id-1 div.sk-parallel {display: flex;align-items: stretch;justify-content: center;background-color: white;position: relative;}#sk-container-id-1 div.sk-item::before, #sk-container-id-1 div.sk-parallel-item::before {content: \"\";position: absolute;border-left: 1px solid gray;box-sizing: border-box;top: 0;bottom: 0;left: 50%;z-index: -1;}#sk-container-id-1 div.sk-parallel-item {display: flex;flex-direction: column;z-index: 1;position: relative;background-color: white;}#sk-container-id-1 div.sk-parallel-item:first-child::after {align-self: flex-end;width: 50%;}#sk-container-id-1 div.sk-parallel-item:last-child::after {align-self: flex-start;width: 50%;}#sk-container-id-1 div.sk-parallel-item:only-child::after {width: 0;}#sk-container-id-1 div.sk-dashed-wrapped {border: 1px dashed gray;margin: 0 0.4em 0.5em 0.4em;box-sizing: border-box;padding-bottom: 0.4em;background-color: white;}#sk-container-id-1 div.sk-label label {font-family: monospace;font-weight: bold;display: inline-block;line-height: 1.2em;}#sk-container-id-1 div.sk-label-container {text-align: center;}#sk-container-id-1 div.sk-container {/* jupyter's `normalize.less` sets `[hidden] { display: none; }` but bootstrap.min.css set `[hidden] { display: none !important; }` so we also need the `!important` here to be able to override the default hidden behavior on the sphinx rendered scikit-learn.org. See: https://github.com/scikit-learn/scikit-learn/issues/21755 */display: inline-block !important;position: relative;}#sk-container-id-1 div.sk-text-repr-fallback {display: none;}</style><div id=\"sk-container-id-1\" class=\"sk-top-container\"><div class=\"sk-text-repr-fallback\"><pre>Pipeline(steps=[(&#x27;scale&#x27;, None),\n",
       "                (&#x27;model&#x27;,\n",
       "                 LogisticRegression(l1_ratio=0.5, max_iter=5000,\n",
       "                                    penalty=&#x27;elasticnet&#x27;, solver=&#x27;saga&#x27;))])</pre><b>In a Jupyter environment, please rerun this cell to show the HTML representation or trust the notebook. <br />On GitHub, the HTML representation is unable to render, please try loading this page with nbviewer.org.</b></div><div class=\"sk-container\" hidden><div class=\"sk-item sk-dashed-wrapped\"><div class=\"sk-label-container\"><div class=\"sk-label sk-toggleable\"><input class=\"sk-toggleable__control sk-hidden--visually\" id=\"sk-estimator-id-1\" type=\"checkbox\" ><label for=\"sk-estimator-id-1\" class=\"sk-toggleable__label sk-toggleable__label-arrow\">Pipeline</label><div class=\"sk-toggleable__content\"><pre>Pipeline(steps=[(&#x27;scale&#x27;, None),\n",
       "                (&#x27;model&#x27;,\n",
       "                 LogisticRegression(l1_ratio=0.5, max_iter=5000,\n",
       "                                    penalty=&#x27;elasticnet&#x27;, solver=&#x27;saga&#x27;))])</pre></div></div></div><div class=\"sk-serial\"><div class=\"sk-item\"><div class=\"sk-estimator sk-toggleable\"><input class=\"sk-toggleable__control sk-hidden--visually\" id=\"sk-estimator-id-2\" type=\"checkbox\" ><label for=\"sk-estimator-id-2\" class=\"sk-toggleable__label sk-toggleable__label-arrow\">None</label><div class=\"sk-toggleable__content\"><pre>None</pre></div></div></div><div class=\"sk-item\"><div class=\"sk-estimator sk-toggleable\"><input class=\"sk-toggleable__control sk-hidden--visually\" id=\"sk-estimator-id-3\" type=\"checkbox\" ><label for=\"sk-estimator-id-3\" class=\"sk-toggleable__label sk-toggleable__label-arrow\">LogisticRegression</label><div class=\"sk-toggleable__content\"><pre>LogisticRegression(l1_ratio=0.5, max_iter=5000, penalty=&#x27;elasticnet&#x27;,\n",
       "                   solver=&#x27;saga&#x27;)</pre></div></div></div></div></div></div></div>"
      ],
      "text/plain": [
       "Pipeline(steps=[('scale', None),\n",
       "                ('model',\n",
       "                 LogisticRegression(l1_ratio=0.5, max_iter=5000,\n",
       "                                    penalty='elasticnet', solver='saga'))])"
      ]
     },
     "execution_count": 43,
     "metadata": {},
     "output_type": "execute_result"
    }
   ],
   "source": [
    "model.fit(X_train, y_train.values.ravel())"
   ]
  },
  {
   "cell_type": "code",
   "execution_count": 44,
   "id": "af59f8c0",
   "metadata": {
    "execution": {
     "iopub.execute_input": "2025-07-30T20:57:58.976482Z",
     "iopub.status.busy": "2025-07-30T20:57:58.975861Z",
     "iopub.status.idle": "2025-07-30T20:57:58.980939Z",
     "shell.execute_reply": "2025-07-30T20:57:58.980224Z"
    },
    "papermill": {
     "duration": 0.019467,
     "end_time": "2025-07-30T20:57:58.982431",
     "exception": false,
     "start_time": "2025-07-30T20:57:58.962964",
     "status": "completed"
    },
    "tags": []
   },
   "outputs": [],
   "source": [
    "from fairness_multiverse.universe import predict_w_threshold"
   ]
  },
  {
   "cell_type": "code",
   "execution_count": 45,
   "id": "a7cf2e16",
   "metadata": {
    "execution": {
     "iopub.execute_input": "2025-07-30T20:57:59.013937Z",
     "iopub.status.busy": "2025-07-30T20:57:59.013592Z",
     "iopub.status.idle": "2025-07-30T20:57:59.105841Z",
     "shell.execute_reply": "2025-07-30T20:57:59.104987Z"
    },
    "papermill": {
     "duration": 0.108007,
     "end_time": "2025-07-30T20:57:59.107151",
     "exception": false,
     "start_time": "2025-07-30T20:57:58.999144",
     "status": "completed"
    },
    "tags": []
   },
   "outputs": [
    {
     "data": {
      "text/plain": [
       "0.8563259391372199"
      ]
     },
     "execution_count": 45,
     "metadata": {},
     "output_type": "execute_result"
    }
   ],
   "source": [
    "probs_test = model.predict_proba(X_test)\n",
    "\n",
    "'''\n",
    "Below code returns a boolean array (or binary 0/1 array depending on how it’s used) where each element \n",
    "is True if the probability of class 1 is greater than or equal to the threshold, and False otherwise.\n",
    "'''\n",
    "y_pred_default = predict_w_threshold(probs_test, 0.5)\n",
    "\n",
    "from sklearn.metrics import accuracy_score\n",
    "\n",
    "# Naive prediction\n",
    "accuracy_score(y_true = y_true, y_pred = y_pred_default)"
   ]
  },
  {
   "cell_type": "code",
   "execution_count": 46,
   "id": "081964c3",
   "metadata": {
    "execution": {
     "iopub.execute_input": "2025-07-30T20:57:59.138462Z",
     "iopub.status.busy": "2025-07-30T20:57:59.138010Z",
     "iopub.status.idle": "2025-07-30T20:57:59.219672Z",
     "shell.execute_reply": "2025-07-30T20:57:59.218815Z"
    },
    "papermill": {
     "duration": 0.099379,
     "end_time": "2025-07-30T20:57:59.221136",
     "exception": false,
     "start_time": "2025-07-30T20:57:59.121757",
     "status": "completed"
    },
    "tags": []
   },
   "outputs": [
    {
     "data": {
      "text/plain": [
       "array([0, 0, 0, ..., 0, 0, 0])"
      ]
     },
     "execution_count": 46,
     "metadata": {},
     "output_type": "execute_result"
    }
   ],
   "source": [
    "model.predict(X_test)"
   ]
  },
  {
   "cell_type": "markdown",
   "id": "56c9705b",
   "metadata": {
    "papermill": {
     "duration": 0.021601,
     "end_time": "2025-07-30T20:57:59.266287",
     "exception": false,
     "start_time": "2025-07-30T20:57:59.244686",
     "status": "completed"
    },
    "tags": []
   },
   "source": [
    "# Conformal Prediction"
   ]
  },
  {
   "cell_type": "code",
   "execution_count": 47,
   "id": "160ec6ff",
   "metadata": {
    "execution": {
     "iopub.execute_input": "2025-07-30T20:57:59.300569Z",
     "iopub.status.busy": "2025-07-30T20:57:59.299886Z",
     "iopub.status.idle": "2025-07-30T20:57:59.305029Z",
     "shell.execute_reply": "2025-07-30T20:57:59.304133Z"
    },
    "papermill": {
     "duration": 0.019301,
     "end_time": "2025-07-30T20:57:59.306214",
     "exception": false,
     "start_time": "2025-07-30T20:57:59.286913",
     "status": "completed"
    },
    "tags": []
   },
   "outputs": [],
   "source": [
    "# Miscoverage level for conformal prediction (10% allowed error rate => 90% target coverage)\n",
    "alpha = 0.1"
   ]
  },
  {
   "cell_type": "code",
   "execution_count": 48,
   "id": "eadf4555-3dd3-440e-8e35-f82a4ad9f855",
   "metadata": {
    "execution": {
     "iopub.execute_input": "2025-07-30T20:57:59.335152Z",
     "iopub.status.busy": "2025-07-30T20:57:59.334745Z",
     "iopub.status.idle": "2025-07-30T20:57:59.421379Z",
     "shell.execute_reply": "2025-07-30T20:57:59.420352Z"
    },
    "papermill": {
     "duration": 0.102409,
     "end_time": "2025-07-30T20:57:59.423380",
     "exception": false,
     "start_time": "2025-07-30T20:57:59.320971",
     "status": "completed"
    },
    "tags": []
   },
   "outputs": [],
   "source": [
    "probs_calib = model.predict_proba(X_calib)"
   ]
  },
  {
   "cell_type": "code",
   "execution_count": 49,
   "id": "2ed93547-6d5d-4983-9b36-1ecb300da49a",
   "metadata": {
    "execution": {
     "iopub.execute_input": "2025-07-30T20:57:59.453531Z",
     "iopub.status.busy": "2025-07-30T20:57:59.453181Z",
     "iopub.status.idle": "2025-07-30T20:57:59.458480Z",
     "shell.execute_reply": "2025-07-30T20:57:59.457693Z"
    },
    "papermill": {
     "duration": 0.020273,
     "end_time": "2025-07-30T20:57:59.459794",
     "exception": false,
     "start_time": "2025-07-30T20:57:59.439521",
     "status": "completed"
    },
    "tags": []
   },
   "outputs": [],
   "source": [
    "y_calib = y_calib.values.ravel().astype(int)"
   ]
  },
  {
   "cell_type": "code",
   "execution_count": 50,
   "id": "65d1320d-f588-4b38-9072-62af1ae97f7d",
   "metadata": {
    "execution": {
     "iopub.execute_input": "2025-07-30T20:57:59.488013Z",
     "iopub.status.busy": "2025-07-30T20:57:59.487555Z",
     "iopub.status.idle": "2025-07-30T20:57:59.494086Z",
     "shell.execute_reply": "2025-07-30T20:57:59.493308Z"
    },
    "papermill": {
     "duration": 0.021448,
     "end_time": "2025-07-30T20:57:59.495392",
     "exception": false,
     "start_time": "2025-07-30T20:57:59.473944",
     "status": "completed"
    },
    "tags": []
   },
   "outputs": [],
   "source": [
    "from fairness_multiverse.conformal import compute_nc_scores\n",
    "\n",
    "# Compute nonconformity scores on calibration set (1 - probability of true class)\n",
    "nc_scores = compute_nc_scores(probs_calib, y_calib)"
   ]
  },
  {
   "cell_type": "code",
   "execution_count": 51,
   "id": "df3b8ca3-53b7-43d5-9667-7c85da7aeda2",
   "metadata": {
    "execution": {
     "iopub.execute_input": "2025-07-30T20:57:59.522792Z",
     "iopub.status.busy": "2025-07-30T20:57:59.522029Z",
     "iopub.status.idle": "2025-07-30T20:57:59.527782Z",
     "shell.execute_reply": "2025-07-30T20:57:59.527117Z"
    },
    "papermill": {
     "duration": 0.020269,
     "end_time": "2025-07-30T20:57:59.529091",
     "exception": false,
     "start_time": "2025-07-30T20:57:59.508822",
     "status": "completed"
    },
    "tags": []
   },
   "outputs": [],
   "source": [
    "from fairness_multiverse.conformal import find_threshold\n",
    "\n",
    "# Find conformal threshold q_hat for the given alpha (split conformal method)\n",
    "q_hat = find_threshold(nc_scores, alpha)"
   ]
  },
  {
   "cell_type": "code",
   "execution_count": 52,
   "id": "4d29e6c1-0ef6-4aa4-b8fe-4fe79b0d033a",
   "metadata": {
    "execution": {
     "iopub.execute_input": "2025-07-30T20:57:59.557268Z",
     "iopub.status.busy": "2025-07-30T20:57:59.556456Z",
     "iopub.status.idle": "2025-07-30T20:57:59.563951Z",
     "shell.execute_reply": "2025-07-30T20:57:59.562966Z"
    },
    "papermill": {
     "duration": 0.022867,
     "end_time": "2025-07-30T20:57:59.565555",
     "exception": false,
     "start_time": "2025-07-30T20:57:59.542688",
     "status": "completed"
    },
    "tags": []
   },
   "outputs": [
    {
     "data": {
      "text/plain": [
       "0.6389699104955059"
      ]
     },
     "execution_count": 52,
     "metadata": {},
     "output_type": "execute_result"
    }
   ],
   "source": [
    "q_hat"
   ]
  },
  {
   "cell_type": "code",
   "execution_count": 53,
   "id": "92460794-cdac-4be2-ba28-f28c0515a6fb",
   "metadata": {
    "execution": {
     "iopub.execute_input": "2025-07-30T20:57:59.619161Z",
     "iopub.status.busy": "2025-07-30T20:57:59.618306Z",
     "iopub.status.idle": "2025-07-30T20:58:00.263154Z",
     "shell.execute_reply": "2025-07-30T20:58:00.262384Z"
    },
    "papermill": {
     "duration": 0.673399,
     "end_time": "2025-07-30T20:58:00.264574",
     "exception": false,
     "start_time": "2025-07-30T20:57:59.591175",
     "status": "completed"
    },
    "tags": []
   },
   "outputs": [],
   "source": [
    "from fairness_multiverse.conformal import predict_conformal_sets\n",
    "\n",
    "# Generate prediction sets for each test example\n",
    "pred_sets = predict_conformal_sets(model, X_test, q_hat)"
   ]
  },
  {
   "cell_type": "code",
   "execution_count": 54,
   "id": "d90c9a65-e6db-4f5d-80cd-e68fb7e46829",
   "metadata": {
    "execution": {
     "iopub.execute_input": "2025-07-30T20:58:00.292472Z",
     "iopub.status.busy": "2025-07-30T20:58:00.292089Z",
     "iopub.status.idle": "2025-07-30T20:58:00.298001Z",
     "shell.execute_reply": "2025-07-30T20:58:00.297166Z"
    },
    "papermill": {
     "duration": 0.021396,
     "end_time": "2025-07-30T20:58:00.299287",
     "exception": false,
     "start_time": "2025-07-30T20:58:00.277891",
     "status": "completed"
    },
    "tags": []
   },
   "outputs": [],
   "source": [
    "y_true = y_true.squeeze()"
   ]
  },
  {
   "cell_type": "code",
   "execution_count": 55,
   "id": "3a58a54a-1e68-46b9-927a-df01f18aebc8",
   "metadata": {
    "execution": {
     "iopub.execute_input": "2025-07-30T20:58:00.331522Z",
     "iopub.status.busy": "2025-07-30T20:58:00.331137Z",
     "iopub.status.idle": "2025-07-30T20:58:01.388930Z",
     "shell.execute_reply": "2025-07-30T20:58:01.387731Z"
    },
    "papermill": {
     "duration": 1.073577,
     "end_time": "2025-07-30T20:58:01.390970",
     "exception": false,
     "start_time": "2025-07-30T20:58:00.317393",
     "status": "completed"
    },
    "tags": []
   },
   "outputs": [],
   "source": [
    "from fairness_multiverse.conformal import evaluate_sets\n",
    "\n",
    "# Evaluate coverage and average set size on test data\n",
    "metrics = evaluate_sets(pred_sets, y_true)"
   ]
  },
  {
   "cell_type": "markdown",
   "id": "2b569c12-9aaa-4c88-98c9-bbcd0cf3ebb8",
   "metadata": {
    "papermill": {
     "duration": 0.025958,
     "end_time": "2025-07-30T20:58:01.444876",
     "exception": false,
     "start_time": "2025-07-30T20:58:01.418918",
     "status": "completed"
    },
    "tags": []
   },
   "source": [
    "# CP Metrics"
   ]
  },
  {
   "cell_type": "code",
   "execution_count": 56,
   "id": "5ce0a5cb-201f-45a0-ade5-94c7f0bd6095",
   "metadata": {
    "execution": {
     "iopub.execute_input": "2025-07-30T20:58:01.498328Z",
     "iopub.status.busy": "2025-07-30T20:58:01.497650Z",
     "iopub.status.idle": "2025-07-30T20:58:01.505210Z",
     "shell.execute_reply": "2025-07-30T20:58:01.504085Z"
    },
    "papermill": {
     "duration": 0.03631,
     "end_time": "2025-07-30T20:58:01.506965",
     "exception": false,
     "start_time": "2025-07-30T20:58:01.470655",
     "status": "completed"
    },
    "tags": []
   },
   "outputs": [
    {
     "data": {
      "text/plain": [
       "{'coverage': 0.9127299074796567, 'avg_size': 1.2490580760227399}"
      ]
     },
     "execution_count": 56,
     "metadata": {},
     "output_type": "execute_result"
    }
   ],
   "source": [
    "metrics"
   ]
  },
  {
   "cell_type": "code",
   "execution_count": 57,
   "id": "9b9a838d-31c9-430b-ae14-12baee460d17",
   "metadata": {
    "execution": {
     "iopub.execute_input": "2025-07-30T20:58:01.561214Z",
     "iopub.status.busy": "2025-07-30T20:58:01.560724Z",
     "iopub.status.idle": "2025-07-30T20:58:01.567570Z",
     "shell.execute_reply": "2025-07-30T20:58:01.566728Z"
    },
    "papermill": {
     "duration": 0.035527,
     "end_time": "2025-07-30T20:58:01.569513",
     "exception": false,
     "start_time": "2025-07-30T20:58:01.533986",
     "status": "completed"
    },
    "tags": []
   },
   "outputs": [],
   "source": [
    "example_universe = universe.copy()\n",
    "universe_training_year = example_universe.get(\"training_year\")\n",
    "universe_training_size = example_universe.get(\"training_size\")\n",
    "universe_scale = example_universe.get(\"scale\")\n",
    "universe_model = example_universe.get(\"model\")\n",
    "universe_exclude_features = example_universe.get(\"exclude_features\")\n",
    "universe_exclude_subgroups = example_universe.get(\"exclude_subgroups\")"
   ]
  },
  {
   "cell_type": "code",
   "execution_count": 58,
   "id": "f4b6a8ac-9dc0-4245-8a91-5b3b5999c4f9",
   "metadata": {
    "execution": {
     "iopub.execute_input": "2025-07-30T20:58:01.624131Z",
     "iopub.status.busy": "2025-07-30T20:58:01.623102Z",
     "iopub.status.idle": "2025-07-30T20:58:01.629900Z",
     "shell.execute_reply": "2025-07-30T20:58:01.629128Z"
    },
    "papermill": {
     "duration": 0.035244,
     "end_time": "2025-07-30T20:58:01.631355",
     "exception": false,
     "start_time": "2025-07-30T20:58:01.596111",
     "status": "completed"
    },
    "tags": []
   },
   "outputs": [],
   "source": [
    "cp_metrics_dict = {\n",
    "    \"universe_id\": [universe_id],\n",
    "    \"universe_training_year\": [universe_training_year],\n",
    "    \"universe_training_size\": [universe_training_size],\n",
    "    \"universe_scale\": [universe_scale],\n",
    "    \"universe_model\": [universe_model],\n",
    "    \"universe_exclude_features\": [universe_exclude_features],\n",
    "    \"universe_exclude_subgroups\": [universe_exclude_subgroups],\n",
    "    \"q_hat\": [q_hat],\n",
    "    \"coverage\": [metrics[\"coverage\"]],\n",
    "    \"avg_size\": [metrics[\"avg_size\"]],\n",
    "}"
   ]
  },
  {
   "cell_type": "code",
   "execution_count": 59,
   "id": "908acbb1-0371-4915-85ca-3fa520d2efe2",
   "metadata": {
    "execution": {
     "iopub.execute_input": "2025-07-30T20:58:01.660594Z",
     "iopub.status.busy": "2025-07-30T20:58:01.659936Z",
     "iopub.status.idle": "2025-07-30T20:58:01.668252Z",
     "shell.execute_reply": "2025-07-30T20:58:01.667219Z"
    },
    "papermill": {
     "duration": 0.024589,
     "end_time": "2025-07-30T20:58:01.670565",
     "exception": false,
     "start_time": "2025-07-30T20:58:01.645976",
     "status": "completed"
    },
    "tags": []
   },
   "outputs": [
    {
     "data": {
      "text/plain": [
       "{'universe_id': ['7cd5f5999ea85f41ef62929c9b77ac22'],\n",
       " 'universe_training_year': ['2014'],\n",
       " 'universe_training_size': ['5k'],\n",
       " 'universe_scale': ['do-not-scale'],\n",
       " 'universe_model': ['elasticnet'],\n",
       " 'universe_exclude_features': ['age'],\n",
       " 'universe_exclude_subgroups': ['drop-non-german'],\n",
       " 'q_hat': [0.6389699104955059],\n",
       " 'coverage': [0.9127299074796567],\n",
       " 'avg_size': [1.2490580760227399]}"
      ]
     },
     "execution_count": 59,
     "metadata": {},
     "output_type": "execute_result"
    }
   ],
   "source": [
    "cp_metrics_dict"
   ]
  },
  {
   "cell_type": "code",
   "execution_count": 60,
   "id": "33007efc-14e9-4ec6-97ac-56a455c82265",
   "metadata": {
    "execution": {
     "iopub.execute_input": "2025-07-30T20:58:01.731540Z",
     "iopub.status.busy": "2025-07-30T20:58:01.730656Z",
     "iopub.status.idle": "2025-07-30T20:58:01.737770Z",
     "shell.execute_reply": "2025-07-30T20:58:01.736750Z"
    },
    "papermill": {
     "duration": 0.035357,
     "end_time": "2025-07-30T20:58:01.739493",
     "exception": false,
     "start_time": "2025-07-30T20:58:01.704136",
     "status": "completed"
    },
    "tags": []
   },
   "outputs": [],
   "source": [
    "cp_metrics_df = pd.DataFrame(cp_metrics_dict)"
   ]
  },
  {
   "cell_type": "code",
   "execution_count": 61,
   "id": "db12611b-57b2-4910-b9d0-355adfd6e7bf",
   "metadata": {
    "execution": {
     "iopub.execute_input": "2025-07-30T20:58:01.777861Z",
     "iopub.status.busy": "2025-07-30T20:58:01.777123Z",
     "iopub.status.idle": "2025-07-30T20:58:01.796880Z",
     "shell.execute_reply": "2025-07-30T20:58:01.795817Z"
    },
    "papermill": {
     "duration": 0.037373,
     "end_time": "2025-07-30T20:58:01.798950",
     "exception": false,
     "start_time": "2025-07-30T20:58:01.761577",
     "status": "completed"
    },
    "tags": []
   },
   "outputs": [
    {
     "data": {
      "text/html": [
       "<div>\n",
       "<style scoped>\n",
       "    .dataframe tbody tr th:only-of-type {\n",
       "        vertical-align: middle;\n",
       "    }\n",
       "\n",
       "    .dataframe tbody tr th {\n",
       "        vertical-align: top;\n",
       "    }\n",
       "\n",
       "    .dataframe thead th {\n",
       "        text-align: right;\n",
       "    }\n",
       "</style>\n",
       "<table border=\"1\" class=\"dataframe\">\n",
       "  <thead>\n",
       "    <tr style=\"text-align: right;\">\n",
       "      <th></th>\n",
       "      <th>universe_id</th>\n",
       "      <th>universe_training_year</th>\n",
       "      <th>universe_training_size</th>\n",
       "      <th>universe_scale</th>\n",
       "      <th>universe_model</th>\n",
       "      <th>universe_exclude_features</th>\n",
       "      <th>universe_exclude_subgroups</th>\n",
       "      <th>q_hat</th>\n",
       "      <th>coverage</th>\n",
       "      <th>avg_size</th>\n",
       "    </tr>\n",
       "  </thead>\n",
       "  <tbody>\n",
       "    <tr>\n",
       "      <th>0</th>\n",
       "      <td>7cd5f5999ea85f41ef62929c9b77ac22</td>\n",
       "      <td>2014</td>\n",
       "      <td>5k</td>\n",
       "      <td>do-not-scale</td>\n",
       "      <td>elasticnet</td>\n",
       "      <td>age</td>\n",
       "      <td>drop-non-german</td>\n",
       "      <td>0.63897</td>\n",
       "      <td>0.91273</td>\n",
       "      <td>1.249058</td>\n",
       "    </tr>\n",
       "  </tbody>\n",
       "</table>\n",
       "</div>"
      ],
      "text/plain": [
       "                        universe_id universe_training_year  \\\n",
       "0  7cd5f5999ea85f41ef62929c9b77ac22                   2014   \n",
       "\n",
       "  universe_training_size universe_scale universe_model  \\\n",
       "0                     5k   do-not-scale     elasticnet   \n",
       "\n",
       "  universe_exclude_features universe_exclude_subgroups    q_hat  coverage  \\\n",
       "0                       age            drop-non-german  0.63897   0.91273   \n",
       "\n",
       "   avg_size  \n",
       "0  1.249058  "
      ]
     },
     "execution_count": 61,
     "metadata": {},
     "output_type": "execute_result"
    }
   ],
   "source": [
    "cp_metrics_df"
   ]
  },
  {
   "cell_type": "code",
   "execution_count": 62,
   "id": "b7fbde55-a0a1-47e4-9af6-fe4a17fa8c61",
   "metadata": {
    "execution": {
     "iopub.execute_input": "2025-07-30T20:58:01.853050Z",
     "iopub.status.busy": "2025-07-30T20:58:01.852624Z",
     "iopub.status.idle": "2025-07-30T20:58:01.857135Z",
     "shell.execute_reply": "2025-07-30T20:58:01.856420Z"
    },
    "papermill": {
     "duration": 0.029757,
     "end_time": "2025-07-30T20:58:01.858463",
     "exception": false,
     "start_time": "2025-07-30T20:58:01.828706",
     "status": "completed"
    },
    "tags": []
   },
   "outputs": [],
   "source": [
    "# Conditional Coverage & looking at subgroups"
   ]
  },
  {
   "cell_type": "code",
   "execution_count": 63,
   "id": "027ae886-68dd-4141-96c7-805a5450e1ef",
   "metadata": {
    "execution": {
     "iopub.execute_input": "2025-07-30T20:58:01.907651Z",
     "iopub.status.busy": "2025-07-30T20:58:01.907209Z",
     "iopub.status.idle": "2025-07-30T20:58:02.137043Z",
     "shell.execute_reply": "2025-07-30T20:58:02.136182Z"
    },
    "papermill": {
     "duration": 0.259661,
     "end_time": "2025-07-30T20:58:02.138477",
     "exception": false,
     "start_time": "2025-07-30T20:58:01.878816",
     "status": "completed"
    },
    "tags": []
   },
   "outputs": [],
   "source": [
    "from fairness_multiverse.conformal import build_cp_groups\n",
    "\n",
    "cp_groups_df = build_cp_groups(pred_sets, y_true, X_test.index, org_test)\n",
    "#needs universe_id and setting"
   ]
  },
  {
   "cell_type": "code",
   "execution_count": 64,
   "id": "01d5802c-663a-4d1f-9d69-e036faaffbf7",
   "metadata": {
    "execution": {
     "iopub.execute_input": "2025-07-30T20:58:02.166502Z",
     "iopub.status.busy": "2025-07-30T20:58:02.166140Z",
     "iopub.status.idle": "2025-07-30T20:58:02.170583Z",
     "shell.execute_reply": "2025-07-30T20:58:02.169835Z"
    },
    "papermill": {
     "duration": 0.019311,
     "end_time": "2025-07-30T20:58:02.171769",
     "exception": false,
     "start_time": "2025-07-30T20:58:02.152458",
     "status": "completed"
    },
    "tags": []
   },
   "outputs": [],
   "source": [
    "#delete\n",
    "#cp_groups_df"
   ]
  },
  {
   "cell_type": "code",
   "execution_count": 65,
   "id": "fa424af1-d1eb-443d-b717-2d279ada8408",
   "metadata": {
    "execution": {
     "iopub.execute_input": "2025-07-30T20:58:02.200182Z",
     "iopub.status.busy": "2025-07-30T20:58:02.199565Z",
     "iopub.status.idle": "2025-07-30T20:58:02.204418Z",
     "shell.execute_reply": "2025-07-30T20:58:02.203376Z"
    },
    "papermill": {
     "duration": 0.021437,
     "end_time": "2025-07-30T20:58:02.206910",
     "exception": false,
     "start_time": "2025-07-30T20:58:02.185473",
     "status": "completed"
    },
    "tags": []
   },
   "outputs": [],
   "source": [
    "#delete\n",
    "#percentage = (cp_groups_df['nongerman_female'] == 1).mean() * 100\n",
    "#print(percentage)\n"
   ]
  },
  {
   "cell_type": "code",
   "execution_count": 66,
   "id": "6cbdab96-b2b2-45af-ad54-d0516db2e28d",
   "metadata": {
    "execution": {
     "iopub.execute_input": "2025-07-30T20:58:02.260262Z",
     "iopub.status.busy": "2025-07-30T20:58:02.259701Z",
     "iopub.status.idle": "2025-07-30T20:58:03.927160Z",
     "shell.execute_reply": "2025-07-30T20:58:03.926099Z"
    },
    "papermill": {
     "duration": 1.695428,
     "end_time": "2025-07-30T20:58:03.929292",
     "exception": false,
     "start_time": "2025-07-30T20:58:02.233864",
     "status": "completed"
    },
    "tags": []
   },
   "outputs": [],
   "source": [
    "# Define covered = 1 if true_label is in the predicted set\n",
    "cp_groups_df['covered'] = cp_groups_df.apply(\n",
    "    lambda r: int(r['true_label'] in r['pred_set']),\n",
    "    axis=1\n",
    ")"
   ]
  },
  {
   "cell_type": "code",
   "execution_count": 67,
   "id": "338ff529-1a6b-4b87-a931-8e4788d52aad",
   "metadata": {
    "execution": {
     "iopub.execute_input": "2025-07-30T20:58:03.989804Z",
     "iopub.status.busy": "2025-07-30T20:58:03.988910Z",
     "iopub.status.idle": "2025-07-30T20:58:03.994321Z",
     "shell.execute_reply": "2025-07-30T20:58:03.993207Z"
    },
    "papermill": {
     "duration": 0.036846,
     "end_time": "2025-07-30T20:58:03.996174",
     "exception": false,
     "start_time": "2025-07-30T20:58:03.959328",
     "status": "completed"
    },
    "tags": []
   },
   "outputs": [],
   "source": [
    "#cp_groups_df"
   ]
  },
  {
   "cell_type": "code",
   "execution_count": 68,
   "id": "90032e27-66df-4540-9169-4e89cfbaa758",
   "metadata": {
    "execution": {
     "iopub.execute_input": "2025-07-30T20:58:04.055114Z",
     "iopub.status.busy": "2025-07-30T20:58:04.054406Z",
     "iopub.status.idle": "2025-07-30T20:58:04.066691Z",
     "shell.execute_reply": "2025-07-30T20:58:04.065573Z"
    },
    "papermill": {
     "duration": 0.044128,
     "end_time": "2025-07-30T20:58:04.068910",
     "exception": false,
     "start_time": "2025-07-30T20:58:04.024782",
     "status": "completed"
    },
    "tags": []
   },
   "outputs": [],
   "source": [
    "subgroups = ['frau1','nongerman','nongerman_male','nongerman_female']\n",
    "\n",
    "# Conditional coverage for subgroup==1\n",
    "cond_coverage = {\n",
    "    g: cp_groups_df.loc[cp_groups_df[g]==1, 'covered'].mean()\n",
    "    for g in subgroups\n",
    "}"
   ]
  },
  {
   "cell_type": "code",
   "execution_count": 69,
   "id": "1e348fb1-b9c3-45bc-ba23-f016827a7e0d",
   "metadata": {
    "execution": {
     "iopub.execute_input": "2025-07-30T20:58:04.125415Z",
     "iopub.status.busy": "2025-07-30T20:58:04.124695Z",
     "iopub.status.idle": "2025-07-30T20:58:04.132364Z",
     "shell.execute_reply": "2025-07-30T20:58:04.131255Z"
    },
    "papermill": {
     "duration": 0.037902,
     "end_time": "2025-07-30T20:58:04.134095",
     "exception": false,
     "start_time": "2025-07-30T20:58:04.096193",
     "status": "completed"
    },
    "tags": []
   },
   "outputs": [
    {
     "data": {
      "text/plain": [
       "{'frau1': 0.9118479579458147,\n",
       " 'nongerman': 0.9610958288890137,\n",
       " 'nongerman_male': 0.9675763307214267,\n",
       " 'nongerman_female': 0.9503725782414307}"
      ]
     },
     "execution_count": 69,
     "metadata": {},
     "output_type": "execute_result"
    }
   ],
   "source": [
    "cond_coverage"
   ]
  },
  {
   "cell_type": "code",
   "execution_count": 70,
   "id": "f5093324-c3dd-4d63-bc4c-8d945e5c8bbb",
   "metadata": {
    "execution": {
     "iopub.execute_input": "2025-07-30T20:58:04.194893Z",
     "iopub.status.busy": "2025-07-30T20:58:04.193969Z",
     "iopub.status.idle": "2025-07-30T20:58:04.201610Z",
     "shell.execute_reply": "2025-07-30T20:58:04.200581Z"
    },
    "papermill": {
     "duration": 0.039311,
     "end_time": "2025-07-30T20:58:04.203310",
     "exception": false,
     "start_time": "2025-07-30T20:58:04.163999",
     "status": "completed"
    },
    "tags": []
   },
   "outputs": [],
   "source": [
    "for subgroup, cov in cond_coverage.items():\n",
    "    cp_metrics_df[f\"cov_{subgroup}\"] = cov"
   ]
  },
  {
   "cell_type": "code",
   "execution_count": 71,
   "id": "6e872e10-dbe5-49e8-b554-5030c98ff75d",
   "metadata": {
    "execution": {
     "iopub.execute_input": "2025-07-30T20:58:04.263078Z",
     "iopub.status.busy": "2025-07-30T20:58:04.262239Z",
     "iopub.status.idle": "2025-07-30T20:58:04.282116Z",
     "shell.execute_reply": "2025-07-30T20:58:04.281056Z"
    },
    "papermill": {
     "duration": 0.05122,
     "end_time": "2025-07-30T20:58:04.283920",
     "exception": false,
     "start_time": "2025-07-30T20:58:04.232700",
     "status": "completed"
    },
    "tags": []
   },
   "outputs": [
    {
     "data": {
      "text/html": [
       "<div>\n",
       "<style scoped>\n",
       "    .dataframe tbody tr th:only-of-type {\n",
       "        vertical-align: middle;\n",
       "    }\n",
       "\n",
       "    .dataframe tbody tr th {\n",
       "        vertical-align: top;\n",
       "    }\n",
       "\n",
       "    .dataframe thead th {\n",
       "        text-align: right;\n",
       "    }\n",
       "</style>\n",
       "<table border=\"1\" class=\"dataframe\">\n",
       "  <thead>\n",
       "    <tr style=\"text-align: right;\">\n",
       "      <th></th>\n",
       "      <th>universe_id</th>\n",
       "      <th>universe_training_year</th>\n",
       "      <th>universe_training_size</th>\n",
       "      <th>universe_scale</th>\n",
       "      <th>universe_model</th>\n",
       "      <th>universe_exclude_features</th>\n",
       "      <th>universe_exclude_subgroups</th>\n",
       "      <th>q_hat</th>\n",
       "      <th>coverage</th>\n",
       "      <th>avg_size</th>\n",
       "      <th>cov_frau1</th>\n",
       "      <th>cov_nongerman</th>\n",
       "      <th>cov_nongerman_male</th>\n",
       "      <th>cov_nongerman_female</th>\n",
       "    </tr>\n",
       "  </thead>\n",
       "  <tbody>\n",
       "    <tr>\n",
       "      <th>0</th>\n",
       "      <td>7cd5f5999ea85f41ef62929c9b77ac22</td>\n",
       "      <td>2014</td>\n",
       "      <td>5k</td>\n",
       "      <td>do-not-scale</td>\n",
       "      <td>elasticnet</td>\n",
       "      <td>age</td>\n",
       "      <td>drop-non-german</td>\n",
       "      <td>0.63897</td>\n",
       "      <td>0.91273</td>\n",
       "      <td>1.249058</td>\n",
       "      <td>0.911848</td>\n",
       "      <td>0.961096</td>\n",
       "      <td>0.967576</td>\n",
       "      <td>0.950373</td>\n",
       "    </tr>\n",
       "  </tbody>\n",
       "</table>\n",
       "</div>"
      ],
      "text/plain": [
       "                        universe_id universe_training_year  \\\n",
       "0  7cd5f5999ea85f41ef62929c9b77ac22                   2014   \n",
       "\n",
       "  universe_training_size universe_scale universe_model  \\\n",
       "0                     5k   do-not-scale     elasticnet   \n",
       "\n",
       "  universe_exclude_features universe_exclude_subgroups    q_hat  coverage  \\\n",
       "0                       age            drop-non-german  0.63897   0.91273   \n",
       "\n",
       "   avg_size  cov_frau1  cov_nongerman  cov_nongerman_male  \\\n",
       "0  1.249058   0.911848       0.961096            0.967576   \n",
       "\n",
       "   cov_nongerman_female  \n",
       "0              0.950373  "
      ]
     },
     "execution_count": 71,
     "metadata": {},
     "output_type": "execute_result"
    }
   ],
   "source": [
    "cp_metrics_df"
   ]
  },
  {
   "cell_type": "markdown",
   "id": "33774451",
   "metadata": {
    "papermill": {
     "duration": 0.02634,
     "end_time": "2025-07-30T20:58:04.337762",
     "exception": false,
     "start_time": "2025-07-30T20:58:04.311422",
     "status": "completed"
    },
    "tags": []
   },
   "source": [
    "# (Fairness) Metrics"
   ]
  },
  {
   "cell_type": "code",
   "execution_count": 72,
   "id": "debc5d62",
   "metadata": {
    "execution": {
     "iopub.execute_input": "2025-07-30T20:58:04.392694Z",
     "iopub.status.busy": "2025-07-30T20:58:04.392142Z",
     "iopub.status.idle": "2025-07-30T20:58:04.413419Z",
     "shell.execute_reply": "2025-07-30T20:58:04.412392Z"
    },
    "papermill": {
     "duration": 0.050323,
     "end_time": "2025-07-30T20:58:04.415199",
     "exception": false,
     "start_time": "2025-07-30T20:58:04.364876",
     "status": "completed"
    },
    "tags": []
   },
   "outputs": [],
   "source": [
    "# do I need to include maxdeutsch1.missing?\n",
    "\n",
    "import numpy as np\n",
    "\n",
    "colname_to_bin = \"maxdeutsch1\"\n",
    "majority_value = org_train[colname_to_bin].mode()[0]\n",
    "\n",
    "org_test[\"majmin\"] = np.where(org_test[colname_to_bin] == majority_value, \"majority\", \"minority\")"
   ]
  },
  {
   "cell_type": "code",
   "execution_count": 73,
   "id": "06a50de5",
   "metadata": {
    "execution": {
     "iopub.execute_input": "2025-07-30T20:58:04.474044Z",
     "iopub.status.busy": "2025-07-30T20:58:04.473576Z",
     "iopub.status.idle": "2025-07-30T20:58:07.272573Z",
     "shell.execute_reply": "2025-07-30T20:58:07.271311Z"
    },
    "papermill": {
     "duration": 2.831412,
     "end_time": "2025-07-30T20:58:07.274450",
     "exception": false,
     "start_time": "2025-07-30T20:58:04.443038",
     "status": "completed"
    },
    "tags": []
   },
   "outputs": [],
   "source": [
    "example_universe = universe.copy()\n",
    "example_universe[\"cutoff\"] = example_universe[\"cutoff\"][0]\n",
    "example_universe[\"eval_fairness_grouping\"] = example_universe[\"eval_fairness_grouping\"][0]\n",
    "fairness_dict, metric_frame = universe_analysis.compute_metrics(\n",
    "    example_universe,\n",
    "    y_pred_prob=probs_test,\n",
    "    y_test=y_true,\n",
    "    org_test=org_test,\n",
    ")"
   ]
  },
  {
   "cell_type": "markdown",
   "id": "f95d4e02",
   "metadata": {
    "papermill": {
     "duration": 0.02515,
     "end_time": "2025-07-30T20:58:07.328476",
     "exception": false,
     "start_time": "2025-07-30T20:58:07.303326",
     "status": "completed"
    },
    "tags": []
   },
   "source": [
    "# Overall"
   ]
  },
  {
   "cell_type": "markdown",
   "id": "bdee4871",
   "metadata": {
    "papermill": {
     "duration": 0.025396,
     "end_time": "2025-07-30T20:58:07.379522",
     "exception": false,
     "start_time": "2025-07-30T20:58:07.354126",
     "status": "completed"
    },
    "tags": []
   },
   "source": [
    "Fairness\n",
    "Main fairness target: Equalized Odds. Seems to be a better fit than equal opportunity, since we're not only interested in Y = 1. Seems to be a better fit than demographic parity, since we also care about accuracy, not just equal distribution of preds.\n",
    "\n",
    "Pick column for computation of fairness metrics\n",
    "\n",
    "Performance\n",
    "Overall performance measures, most interesting in relation to the measures split by group below"
   ]
  },
  {
   "cell_type": "code",
   "execution_count": 74,
   "id": "c4e067c6",
   "metadata": {
    "execution": {
     "iopub.execute_input": "2025-07-30T20:58:07.432008Z",
     "iopub.status.busy": "2025-07-30T20:58:07.431405Z",
     "iopub.status.idle": "2025-07-30T20:58:07.440957Z",
     "shell.execute_reply": "2025-07-30T20:58:07.440019Z"
    },
    "papermill": {
     "duration": 0.037208,
     "end_time": "2025-07-30T20:58:07.442529",
     "exception": false,
     "start_time": "2025-07-30T20:58:07.405321",
     "status": "completed"
    },
    "tags": []
   },
   "outputs": [
    {
     "data": {
      "text/plain": [
       "accuracy                   0.217869\n",
       "balanced accuracy          0.534082\n",
       "f1                         0.239379\n",
       "precision                  0.136749\n",
       "false positive rate        0.891256\n",
       "false negative rate        0.040580\n",
       "selection rate             0.900000\n",
       "count                  89710.000000\n",
       "dtype: float64"
      ]
     },
     "execution_count": 74,
     "metadata": {},
     "output_type": "execute_result"
    }
   ],
   "source": [
    "metric_frame.overall"
   ]
  },
  {
   "cell_type": "markdown",
   "id": "e968fe9d",
   "metadata": {
    "papermill": {
     "duration": 0.026941,
     "end_time": "2025-07-30T20:58:07.495338",
     "exception": false,
     "start_time": "2025-07-30T20:58:07.468397",
     "status": "completed"
    },
    "tags": []
   },
   "source": [
    "By Group"
   ]
  },
  {
   "cell_type": "code",
   "execution_count": 75,
   "id": "ec325bce",
   "metadata": {
    "execution": {
     "iopub.execute_input": "2025-07-30T20:58:07.551619Z",
     "iopub.status.busy": "2025-07-30T20:58:07.551149Z",
     "iopub.status.idle": "2025-07-30T20:58:07.566146Z",
     "shell.execute_reply": "2025-07-30T20:58:07.565292Z"
    },
    "papermill": {
     "duration": 0.043585,
     "end_time": "2025-07-30T20:58:07.567648",
     "exception": false,
     "start_time": "2025-07-30T20:58:07.524063",
     "status": "completed"
    },
    "tags": []
   },
   "outputs": [
    {
     "data": {
      "text/html": [
       "<div>\n",
       "<style scoped>\n",
       "    .dataframe tbody tr th:only-of-type {\n",
       "        vertical-align: middle;\n",
       "    }\n",
       "\n",
       "    .dataframe tbody tr th {\n",
       "        vertical-align: top;\n",
       "    }\n",
       "\n",
       "    .dataframe thead th {\n",
       "        text-align: right;\n",
       "    }\n",
       "</style>\n",
       "<table border=\"1\" class=\"dataframe\">\n",
       "  <thead>\n",
       "    <tr style=\"text-align: right;\">\n",
       "      <th></th>\n",
       "      <th>accuracy</th>\n",
       "      <th>balanced accuracy</th>\n",
       "      <th>f1</th>\n",
       "      <th>precision</th>\n",
       "      <th>false positive rate</th>\n",
       "      <th>false negative rate</th>\n",
       "      <th>selection rate</th>\n",
       "      <th>count</th>\n",
       "    </tr>\n",
       "    <tr>\n",
       "      <th>majmin</th>\n",
       "      <th></th>\n",
       "      <th></th>\n",
       "      <th></th>\n",
       "      <th></th>\n",
       "      <th></th>\n",
       "      <th></th>\n",
       "      <th></th>\n",
       "      <th></th>\n",
       "    </tr>\n",
       "  </thead>\n",
       "  <tbody>\n",
       "    <tr>\n",
       "      <th>majority</th>\n",
       "      <td>0.240061</td>\n",
       "      <td>0.542143</td>\n",
       "      <td>0.248868</td>\n",
       "      <td>0.143127</td>\n",
       "      <td>0.868449</td>\n",
       "      <td>0.047265</td>\n",
       "      <td>0.879587</td>\n",
       "      <td>69170.0</td>\n",
       "    </tr>\n",
       "    <tr>\n",
       "      <th>minority</th>\n",
       "      <td>0.143135</td>\n",
       "      <td>0.509311</td>\n",
       "      <td>0.209557</td>\n",
       "      <td>0.117248</td>\n",
       "      <td>0.966597</td>\n",
       "      <td>0.014780</td>\n",
       "      <td>0.968744</td>\n",
       "      <td>20540.0</td>\n",
       "    </tr>\n",
       "  </tbody>\n",
       "</table>\n",
       "</div>"
      ],
      "text/plain": [
       "          accuracy  balanced accuracy        f1  precision  \\\n",
       "majmin                                                       \n",
       "majority  0.240061           0.542143  0.248868   0.143127   \n",
       "minority  0.143135           0.509311  0.209557   0.117248   \n",
       "\n",
       "          false positive rate  false negative rate  selection rate    count  \n",
       "majmin                                                                       \n",
       "majority             0.868449             0.047265        0.879587  69170.0  \n",
       "minority             0.966597             0.014780        0.968744  20540.0  "
      ]
     },
     "execution_count": 75,
     "metadata": {},
     "output_type": "execute_result"
    }
   ],
   "source": [
    "metric_frame.by_group"
   ]
  },
  {
   "cell_type": "code",
   "execution_count": 76,
   "id": "a9ddbe63",
   "metadata": {
    "execution": {
     "iopub.execute_input": "2025-07-30T20:58:07.621781Z",
     "iopub.status.busy": "2025-07-30T20:58:07.621145Z",
     "iopub.status.idle": "2025-07-30T20:58:09.661745Z",
     "shell.execute_reply": "2025-07-30T20:58:09.660765Z"
    },
    "papermill": {
     "duration": 2.069118,
     "end_time": "2025-07-30T20:58:09.663166",
     "exception": false,
     "start_time": "2025-07-30T20:58:07.594048",
     "status": "completed"
    },
    "tags": []
   },
   "outputs": [
    {
     "data": {
      "text/plain": [
       "array([[<Axes: title={'center': 'accuracy'}, xlabel='majmin'>,\n",
       "        <Axes: title={'center': 'balanced accuracy'}, xlabel='majmin'>,\n",
       "        <Axes: title={'center': 'f1'}, xlabel='majmin'>],\n",
       "       [<Axes: title={'center': 'precision'}, xlabel='majmin'>,\n",
       "        <Axes: title={'center': 'false positive rate'}, xlabel='majmin'>,\n",
       "        <Axes: title={'center': 'false negative rate'}, xlabel='majmin'>],\n",
       "       [<Axes: title={'center': 'selection rate'}, xlabel='majmin'>,\n",
       "        <Axes: title={'center': 'count'}, xlabel='majmin'>,\n",
       "        <Axes: xlabel='majmin'>]], dtype=object)"
      ]
     },
     "execution_count": 76,
     "metadata": {},
     "output_type": "execute_result"
    },
    {
     "data": {
      "image/png": "[encoded data removed]",
      "text/plain": [
       "<Figure size 1200x800 with 9 Axes>"
      ]
     },
     "metadata": {},
     "output_type": "display_data"
    }
   ],
   "source": [
    "# In a graphic\n",
    "metric_frame.by_group.plot.bar(\n",
    "    subplots=True,\n",
    "    layout=[3, 3],\n",
    "    legend=False,\n",
    "    figsize=[12, 8],\n",
    "    title=\"Show all metrics\",\n",
    ")"
   ]
  },
  {
   "cell_type": "markdown",
   "id": "f57a0bac",
   "metadata": {
    "papermill": {
     "duration": 0.014387,
     "end_time": "2025-07-30T20:58:09.695141",
     "exception": false,
     "start_time": "2025-07-30T20:58:09.680754",
     "status": "completed"
    },
    "tags": []
   },
   "source": [
    "# Final Output"
   ]
  },
  {
   "cell_type": "code",
   "execution_count": 77,
   "id": "96d280a3",
   "metadata": {
    "execution": {
     "iopub.execute_input": "2025-07-30T20:58:09.733384Z",
     "iopub.status.busy": "2025-07-30T20:58:09.732421Z",
     "iopub.status.idle": "2025-07-30T20:58:09.739352Z",
     "shell.execute_reply": "2025-07-30T20:58:09.738617Z"
    },
    "papermill": {
     "duration": 0.028678,
     "end_time": "2025-07-30T20:58:09.740648",
     "exception": false,
     "start_time": "2025-07-30T20:58:09.711970",
     "status": "completed"
    },
    "tags": []
   },
   "outputs": [
    {
     "data": {
      "text/plain": [
       "4"
      ]
     },
     "execution_count": 77,
     "metadata": {},
     "output_type": "execute_result"
    }
   ],
   "source": [
    "sub_universes = universe_analysis.generate_sub_universes()\n",
    "len(sub_universes)"
   ]
  },
  {
   "cell_type": "code",
   "execution_count": 78,
   "id": "92adf7ba",
   "metadata": {
    "execution": {
     "iopub.execute_input": "2025-07-30T20:58:09.778242Z",
     "iopub.status.busy": "2025-07-30T20:58:09.777119Z",
     "iopub.status.idle": "2025-07-30T20:58:09.784647Z",
     "shell.execute_reply": "2025-07-30T20:58:09.783449Z"
    },
    "papermill": {
     "duration": 0.030603,
     "end_time": "2025-07-30T20:58:09.786879",
     "exception": false,
     "start_time": "2025-07-30T20:58:09.756276",
     "status": "completed"
    },
    "tags": []
   },
   "outputs": [],
   "source": [
    "def filter_sub_universe_data(sub_universe, org_test):\n",
    "    # Keep all rows — no filtering\n",
    "    keep_rows_mask = np.ones(org_test.shape[0], dtype=bool)\n",
    "\n",
    "    print(f\"[INFO] Keeping all rows: {keep_rows_mask.sum()} rows retained.\")\n",
    "    return keep_rows_mask"
   ]
  },
  {
   "cell_type": "code",
   "execution_count": 79,
   "id": "4a759155",
   "metadata": {
    "execution": {
     "iopub.execute_input": "2025-07-30T20:58:09.841918Z",
     "iopub.status.busy": "2025-07-30T20:58:09.841532Z",
     "iopub.status.idle": "2025-07-30T20:58:18.908895Z",
     "shell.execute_reply": "2025-07-30T20:58:18.908175Z"
    },
    "papermill": {
     "duration": 9.085337,
     "end_time": "2025-07-30T20:58:18.910129",
     "exception": false,
     "start_time": "2025-07-30T20:58:09.824792",
     "status": "completed"
    },
    "tags": []
   },
   "outputs": [
    {
     "name": "stdout",
     "output_type": "stream",
     "text": [
      "Stopping execution_time clock.\n",
      "[INFO] Keeping all rows: 89710 rows retained.\n"
     ]
    },
    {
     "name": "stdout",
     "output_type": "stream",
     "text": [
      "[INFO] Keeping all rows: 89710 rows retained.\n"
     ]
    },
    {
     "name": "stdout",
     "output_type": "stream",
     "text": [
      "[INFO] Keeping all rows: 89710 rows retained.\n"
     ]
    },
    {
     "name": "stdout",
     "output_type": "stream",
     "text": [
      "[INFO] Keeping all rows: 89710 rows retained.\n"
     ]
    },
    {
     "data": {
      "text/html": [
       "<div>\n",
       "<style scoped>\n",
       "    .dataframe tbody tr th:only-of-type {\n",
       "        vertical-align: middle;\n",
       "    }\n",
       "\n",
       "    .dataframe tbody tr th {\n",
       "        vertical-align: top;\n",
       "    }\n",
       "\n",
       "    .dataframe thead th {\n",
       "        text-align: right;\n",
       "    }\n",
       "</style>\n",
       "<table border=\"1\" class=\"dataframe\">\n",
       "  <thead>\n",
       "    <tr style=\"text-align: right;\">\n",
       "      <th></th>\n",
       "      <th>run_no</th>\n",
       "      <th>universe_id</th>\n",
       "      <th>universe_settings</th>\n",
       "      <th>execution_time</th>\n",
       "      <th>test_size_n</th>\n",
       "      <th>test_size_frac</th>\n",
       "      <th>fair_main_equalized_odds_difference</th>\n",
       "      <th>fair_main_equalized_odds_ratio</th>\n",
       "      <th>fair_main_demographic_parity_difference</th>\n",
       "      <th>fair_main_demographic_parity_ratio</th>\n",
       "      <th>...</th>\n",
       "      <th>perf_grp_precision_0</th>\n",
       "      <th>perf_grp_precision_1</th>\n",
       "      <th>perf_grp_false positive rate_0</th>\n",
       "      <th>perf_grp_false positive rate_1</th>\n",
       "      <th>perf_grp_false negative rate_0</th>\n",
       "      <th>perf_grp_false negative rate_1</th>\n",
       "      <th>perf_grp_selection rate_0</th>\n",
       "      <th>perf_grp_selection rate_1</th>\n",
       "      <th>perf_grp_count_0</th>\n",
       "      <th>perf_grp_count_1</th>\n",
       "    </tr>\n",
       "  </thead>\n",
       "  <tbody>\n",
       "    <tr>\n",
       "      <th>0</th>\n",
       "      <td>14</td>\n",
       "      <td>7cd5f5999ea85f41ef62929c9b77ac22</td>\n",
       "      <td>{\"cutoff\": \"quantile_0.1\", \"eval_fairness_grou...</td>\n",
       "      <td>93.545241</td>\n",
       "      <td>89710</td>\n",
       "      <td>1.0</td>\n",
       "      <td>0.098148</td>\n",
       "      <td>0.898460</td>\n",
       "      <td>0.089157</td>\n",
       "      <td>0.907966</td>\n",
       "      <td>...</td>\n",
       "      <td>NaN</td>\n",
       "      <td>NaN</td>\n",
       "      <td>NaN</td>\n",
       "      <td>NaN</td>\n",
       "      <td>NaN</td>\n",
       "      <td>NaN</td>\n",
       "      <td>NaN</td>\n",
       "      <td>NaN</td>\n",
       "      <td>NaN</td>\n",
       "      <td>NaN</td>\n",
       "    </tr>\n",
       "    <tr>\n",
       "      <th>0</th>\n",
       "      <td>14</td>\n",
       "      <td>7cd5f5999ea85f41ef62929c9b77ac22</td>\n",
       "      <td>{\"cutoff\": \"quantile_0.1\", \"eval_fairness_grou...</td>\n",
       "      <td>93.545241</td>\n",
       "      <td>89710</td>\n",
       "      <td>1.0</td>\n",
       "      <td>0.098148</td>\n",
       "      <td>0.898460</td>\n",
       "      <td>0.089157</td>\n",
       "      <td>0.907966</td>\n",
       "      <td>...</td>\n",
       "      <td>0.117248</td>\n",
       "      <td>0.143127</td>\n",
       "      <td>0.966597</td>\n",
       "      <td>0.868449</td>\n",
       "      <td>0.014780</td>\n",
       "      <td>0.047265</td>\n",
       "      <td>0.968744</td>\n",
       "      <td>0.879587</td>\n",
       "      <td>20540.0</td>\n",
       "      <td>69170.0</td>\n",
       "    </tr>\n",
       "    <tr>\n",
       "      <th>0</th>\n",
       "      <td>14</td>\n",
       "      <td>7cd5f5999ea85f41ef62929c9b77ac22</td>\n",
       "      <td>{\"cutoff\": \"quantile_0.25\", \"eval_fairness_gro...</td>\n",
       "      <td>93.545241</td>\n",
       "      <td>89710</td>\n",
       "      <td>1.0</td>\n",
       "      <td>0.237756</td>\n",
       "      <td>0.739651</td>\n",
       "      <td>0.217912</td>\n",
       "      <td>0.762626</td>\n",
       "      <td>...</td>\n",
       "      <td>NaN</td>\n",
       "      <td>NaN</td>\n",
       "      <td>NaN</td>\n",
       "      <td>NaN</td>\n",
       "      <td>NaN</td>\n",
       "      <td>NaN</td>\n",
       "      <td>NaN</td>\n",
       "      <td>NaN</td>\n",
       "      <td>NaN</td>\n",
       "      <td>NaN</td>\n",
       "    </tr>\n",
       "    <tr>\n",
       "      <th>0</th>\n",
       "      <td>14</td>\n",
       "      <td>7cd5f5999ea85f41ef62929c9b77ac22</td>\n",
       "      <td>{\"cutoff\": \"quantile_0.25\", \"eval_fairness_gro...</td>\n",
       "      <td>93.545241</td>\n",
       "      <td>89710</td>\n",
       "      <td>1.0</td>\n",
       "      <td>0.237756</td>\n",
       "      <td>0.739651</td>\n",
       "      <td>0.217912</td>\n",
       "      <td>0.762626</td>\n",
       "      <td>...</td>\n",
       "      <td>0.119909</td>\n",
       "      <td>0.162681</td>\n",
       "      <td>0.913218</td>\n",
       "      <td>0.675462</td>\n",
       "      <td>0.045186</td>\n",
       "      <td>0.138074</td>\n",
       "      <td>0.918014</td>\n",
       "      <td>0.700101</td>\n",
       "      <td>20540.0</td>\n",
       "      <td>69170.0</td>\n",
       "    </tr>\n",
       "  </tbody>\n",
       "</table>\n",
       "<p>4 rows × 50 columns</p>\n",
       "</div>"
      ],
      "text/plain": [
       "  run_no                       universe_id  \\\n",
       "0     14  7cd5f5999ea85f41ef62929c9b77ac22   \n",
       "0     14  7cd5f5999ea85f41ef62929c9b77ac22   \n",
       "0     14  7cd5f5999ea85f41ef62929c9b77ac22   \n",
       "0     14  7cd5f5999ea85f41ef62929c9b77ac22   \n",
       "\n",
       "                                   universe_settings  execution_time  \\\n",
       "0  {\"cutoff\": \"quantile_0.1\", \"eval_fairness_grou...       93.545241   \n",
       "0  {\"cutoff\": \"quantile_0.1\", \"eval_fairness_grou...       93.545241   \n",
       "0  {\"cutoff\": \"quantile_0.25\", \"eval_fairness_gro...       93.545241   \n",
       "0  {\"cutoff\": \"quantile_0.25\", \"eval_fairness_gro...       93.545241   \n",
       "\n",
       "   test_size_n  test_size_frac  fair_main_equalized_odds_difference  \\\n",
       "0        89710             1.0                             0.098148   \n",
       "0        89710             1.0                             0.098148   \n",
       "0        89710             1.0                             0.237756   \n",
       "0        89710             1.0                             0.237756   \n",
       "\n",
       "   fair_main_equalized_odds_ratio  fair_main_demographic_parity_difference  \\\n",
       "0                        0.898460                                 0.089157   \n",
       "0                        0.898460                                 0.089157   \n",
       "0                        0.739651                                 0.217912   \n",
       "0                        0.739651                                 0.217912   \n",
       "\n",
       "   fair_main_demographic_parity_ratio  ...  perf_grp_precision_0  \\\n",
       "0                            0.907966  ...                   NaN   \n",
       "0                            0.907966  ...              0.117248   \n",
       "0                            0.762626  ...                   NaN   \n",
       "0                            0.762626  ...              0.119909   \n",
       "\n",
       "   perf_grp_precision_1  perf_grp_false positive rate_0  \\\n",
       "0                   NaN                             NaN   \n",
       "0              0.143127                        0.966597   \n",
       "0                   NaN                             NaN   \n",
       "0              0.162681                        0.913218   \n",
       "\n",
       "   perf_grp_false positive rate_1  perf_grp_false negative rate_0  \\\n",
       "0                             NaN                             NaN   \n",
       "0                        0.868449                        0.014780   \n",
       "0                             NaN                             NaN   \n",
       "0                        0.675462                        0.045186   \n",
       "\n",
       "   perf_grp_false negative rate_1  perf_grp_selection rate_0  \\\n",
       "0                             NaN                        NaN   \n",
       "0                        0.047265                   0.968744   \n",
       "0                             NaN                        NaN   \n",
       "0                        0.138074                   0.918014   \n",
       "\n",
       "   perf_grp_selection rate_1  perf_grp_count_0  perf_grp_count_1  \n",
       "0                        NaN               NaN               NaN  \n",
       "0                   0.879587           20540.0           69170.0  \n",
       "0                        NaN               NaN               NaN  \n",
       "0                   0.700101           20540.0           69170.0  \n",
       "\n",
       "[4 rows x 50 columns]"
      ]
     },
     "execution_count": 79,
     "metadata": {},
     "output_type": "execute_result"
    }
   ],
   "source": [
    "final_output = universe_analysis.generate_final_output(\n",
    "    y_pred_prob=probs_test,\n",
    "    y_test=y_true,\n",
    "    org_test=org_test,\n",
    "    filter_data=filter_sub_universe_data,\n",
    "    cp_metrics_df=cp_metrics_df,\n",
    "    save=True,\n",
    ")\n",
    "final_output"
   ]
  },
  {
   "cell_type": "code",
   "execution_count": null,
   "id": "721ff514-cb11-46f8-b6fc-50392f74b5cb",
   "metadata": {
    "papermill": {
     "duration": 0.018262,
     "end_time": "2025-07-30T20:58:18.961607",
     "exception": false,
     "start_time": "2025-07-30T20:58:18.943345",
     "status": "completed"
    },
    "tags": []
   },
   "outputs": [],
   "source": []
  }
 ],
 "metadata": {
  "celltoolbar": "Tags",
  "kernelspec": {
   "display_name": "Python (CMA Fairness)",
   "language": "python",
   "name": "cma_fair_env"
  },
  "language_info": {
   "codemirror_mode": {
    "name": "ipython",
    "version": 3
   },
   "file_extension": ".py",
   "mimetype": "text/x-python",
   "name": "python",
   "nbconvert_exporter": "python",
   "pygments_lexer": "ipython3",
   "version": "3.10.12"
  },
  "papermill": {
   "default_parameters": {},
   "duration": 106.794561,
   "end_time": "2025-07-30T20:58:19.698034",
   "environment_variables": {},
   "exception": null,
   "input_path": "universe_analysis.ipynb",
   "output_path": "output/runs/14/notebooks/m_14-7cd5f5999ea85f41ef62929c9b77ac22.ipynb",
   "parameters": {
    "output_dir": "output",
    "run_no": "14",
    "seed": "2023",
    "universe": "{\"cutoff\": [\"quantile_0.1\", \"quantile_0.25\"], \"eval_fairness_grouping\": [\"majority-minority\", \"nationality-all\"], \"exclude_features\": \"age\", \"exclude_subgroups\": \"drop-non-german\", \"model\": \"elasticnet\", \"scale\": \"do-not-scale\", \"training_size\": \"5k\", \"training_year\": \"2014\"}",
    "universe_id": "7cd5f5999ea85f41ef62929c9b77ac22"
   },
   "start_time": "2025-07-30T20:56:32.903473",
   "version": "2.6.0"
  }
 },
 "nbformat": 4,
 "nbformat_minor": 5
}