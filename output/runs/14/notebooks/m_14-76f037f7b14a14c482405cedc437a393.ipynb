{
 "cells": [
  {
   "cell_type": "code",
   "execution_count": 1,
   "id": "f159f837-637b-42ba-96b5-ec9a68c44524",
   "metadata": {
    "execution": {
     "iopub.execute_input": "2025-07-30T20:33:04.420680Z",
     "iopub.status.busy": "2025-07-30T20:33:04.420050Z",
     "iopub.status.idle": "2025-07-30T20:33:04.432776Z",
     "shell.execute_reply": "2025-07-30T20:33:04.431812Z"
    },
    "papermill": {
     "duration": 0.033564,
     "end_time": "2025-07-30T20:33:04.434308",
     "exception": false,
     "start_time": "2025-07-30T20:33:04.400744",
     "status": "completed"
    },
    "tags": []
   },
   "outputs": [
    {
     "name": "stdout",
     "output_type": "stream",
     "text": [
      "/dss/dsshome1/0C/ra93lal2/cma/CMA_Fairness_v2\n"
     ]
    },
    {
     "name": "stderr",
     "output_type": "stream",
     "text": [
      "/dss/dsshome1/0C/ra93lal2/.local/share/virtualenvs/CMA_Fairness_v2-3j10GkSs/lib/python3.10/site-packages/IPython/core/magics/osm.py:393: UserWarning: This is now an optional IPython functionality, using bookmarks requires you to install the `pickleshare` library.\n",
      "  bkms = self.shell.db.get('bookmarks', {})\n",
      "/dss/dsshome1/0C/ra93lal2/.local/share/virtualenvs/CMA_Fairness_v2-3j10GkSs/lib/python3.10/site-packages/IPython/core/magics/osm.py:417: UserWarning: This is now an optional IPython functionality, setting dhist requires you to install the `pickleshare` library.\n",
      "  self.shell.db['dhist'] = compress_dhist(dhist)[-100:]\n"
     ]
    }
   ],
   "source": [
    "%cd ~/cma/CMA_Fairness_v2"
   ]
  },
  {
   "cell_type": "markdown",
   "id": "de2603b9",
   "metadata": {
    "papermill": {
     "duration": 0.01775,
     "end_time": "2025-07-30T20:33:04.470100",
     "exception": false,
     "start_time": "2025-07-30T20:33:04.452350",
     "status": "completed"
    },
    "tags": []
   },
   "source": [
    "The following cell holds the definition of our parameters, these values can be overriden by rendering the with e.g. the following command:\n",
    "\n",
    "papermill -p alpha 0.2 -p ratio 0.3 universe_analysis.ipynb output/test_run.ipynb"
   ]
  },
  {
   "cell_type": "code",
   "execution_count": 2,
   "id": "a80968a0-40bb-4fa9-85ef-2d5eefb01975",
   "metadata": {
    "execution": {
     "iopub.execute_input": "2025-07-30T20:33:04.506685Z",
     "iopub.status.busy": "2025-07-30T20:33:04.506064Z",
     "iopub.status.idle": "2025-07-30T20:33:04.511791Z",
     "shell.execute_reply": "2025-07-30T20:33:04.510897Z"
    },
    "papermill": {
     "duration": 0.025577,
     "end_time": "2025-07-30T20:33:04.513217",
     "exception": false,
     "start_time": "2025-07-30T20:33:04.487640",
     "status": "completed"
    },
    "tags": []
   },
   "outputs": [
    {
     "name": "stdout",
     "output_type": "stream",
     "text": [
      "Current working directory: /dss/dsshome1/0C/ra93lal2/cma/CMA_Fairness_v2\n"
     ]
    }
   ],
   "source": [
    "import os\n",
    "print(\"Current working directory:\", os.getcwd())"
   ]
  },
  {
   "cell_type": "code",
   "execution_count": 3,
   "id": "2dce4c03",
   "metadata": {
    "execution": {
     "iopub.execute_input": "2025-07-30T20:33:04.551684Z",
     "iopub.status.busy": "2025-07-30T20:33:04.551042Z",
     "iopub.status.idle": "2025-07-30T20:33:04.557340Z",
     "shell.execute_reply": "2025-07-30T20:33:04.556428Z"
    },
    "papermill": {
     "duration": 0.027601,
     "end_time": "2025-07-30T20:33:04.559098",
     "exception": false,
     "start_time": "2025-07-30T20:33:04.531497",
     "status": "completed"
    },
    "tags": [
     "parameters"
    ]
   },
   "outputs": [],
   "source": [
    "run_no = 0\n",
    "universe_id = \"test\"\n",
    "universe = {\n",
    "    \"training_size\": \"25k\", # \"25k\", \"5k\", \"1k\"\n",
    "    \"training_year\": \"2014\", # \"2014\", \"2012_14\", \"2010_14\"\n",
    "    \"scale\": \"scale\", # \"scale\", \"do-not-scale\",\n",
    "    #\"stratify_split\": \"target\", # \"none\", \"target\", \"protected-attribute\", \"both\",\n",
    "    \"model\": \"elasticnet\", # \"logreg\", \"penalized_logreg\", \"rf\", \"gbm\", \"elasticnet\"\n",
    "    \"cutoff\": [\"quantile_0.15\", \"quantile_0.30\"],\n",
    "    \"exclude_features\": \"age\", # \"none\", \"nationality\", \"sex\", \"nationality-sex\", \"age\"\n",
    "    \"exclude_subgroups\": \"keep-all\", # \"keep-all\", \"drop-non-german\"\n",
    "    \"eval_fairness_grouping\": [\"majority-minority\", \"nationality-all\"]\n",
    "}\n",
    "\n",
    "output_dir=\"./output\"\n",
    "seed=0"
   ]
  },
  {
   "cell_type": "code",
   "execution_count": 4,
   "id": "1659cf80",
   "metadata": {
    "execution": {
     "iopub.execute_input": "2025-07-30T20:33:04.597845Z",
     "iopub.status.busy": "2025-07-30T20:33:04.597238Z",
     "iopub.status.idle": "2025-07-30T20:33:04.602478Z",
     "shell.execute_reply": "2025-07-30T20:33:04.601584Z"
    },
    "papermill": {
     "duration": 0.025742,
     "end_time": "2025-07-30T20:33:04.603800",
     "exception": false,
     "start_time": "2025-07-30T20:33:04.578058",
     "status": "completed"
    },
    "tags": [
     "injected-parameters"
    ]
   },
   "outputs": [],
   "source": [
    "# Parameters\n",
    "universe_id = \"76f037f7b14a14c482405cedc437a393\"\n",
    "run_no = \"14\"\n",
    "universe = \"{\\\"cutoff\\\": [\\\"quantile_0.1\\\", \\\"quantile_0.25\\\"], \\\"eval_fairness_grouping\\\": [\\\"majority-minority\\\", \\\"nationality-all\\\"], \\\"exclude_features\\\": \\\"age\\\", \\\"exclude_subgroups\\\": \\\"drop-non-german\\\", \\\"model\\\": \\\"elasticnet\\\", \\\"scale\\\": \\\"scale\\\", \\\"training_size\\\": \\\"25k\\\", \\\"training_year\\\": \\\"2010_14\\\"}\"\n",
    "output_dir = \"output\"\n",
    "seed = \"2023\"\n"
   ]
  },
  {
   "cell_type": "code",
   "execution_count": 5,
   "id": "1650acaf",
   "metadata": {
    "execution": {
     "iopub.execute_input": "2025-07-30T20:33:04.642145Z",
     "iopub.status.busy": "2025-07-30T20:33:04.641226Z",
     "iopub.status.idle": "2025-07-30T20:33:04.646041Z",
     "shell.execute_reply": "2025-07-30T20:33:04.645269Z"
    },
    "papermill": {
     "duration": 0.025354,
     "end_time": "2025-07-30T20:33:04.647504",
     "exception": false,
     "start_time": "2025-07-30T20:33:04.622150",
     "status": "completed"
    },
    "tags": []
   },
   "outputs": [],
   "source": [
    "import json\n",
    "# Parse universe into dict if it is passed as a string\n",
    "if isinstance(universe, str):\n",
    "    universe = json.loads(universe)"
   ]
  },
  {
   "cell_type": "code",
   "execution_count": 6,
   "id": "16620c48",
   "metadata": {
    "execution": {
     "iopub.execute_input": "2025-07-30T20:33:04.685653Z",
     "iopub.status.busy": "2025-07-30T20:33:04.685053Z",
     "iopub.status.idle": "2025-07-30T20:33:04.726112Z",
     "shell.execute_reply": "2025-07-30T20:33:04.725290Z"
    },
    "papermill": {
     "duration": 0.062023,
     "end_time": "2025-07-30T20:33:04.727862",
     "exception": false,
     "start_time": "2025-07-30T20:33:04.665839",
     "status": "completed"
    },
    "tags": []
   },
   "outputs": [],
   "source": [
    "# Auto-reload the custom package\n",
    "%load_ext autoreload\n",
    "%autoreload 1\n",
    "%aimport fairness_multiverse"
   ]
  },
  {
   "cell_type": "code",
   "execution_count": 7,
   "id": "01c5c9f3",
   "metadata": {
    "execution": {
     "iopub.execute_input": "2025-07-30T20:33:04.766214Z",
     "iopub.status.busy": "2025-07-30T20:33:04.765598Z",
     "iopub.status.idle": "2025-07-30T20:33:06.610160Z",
     "shell.execute_reply": "2025-07-30T20:33:06.609144Z"
    },
    "papermill": {
     "duration": 1.865544,
     "end_time": "2025-07-30T20:33:06.612130",
     "exception": false,
     "start_time": "2025-07-30T20:33:04.746586",
     "status": "completed"
    },
    "tags": []
   },
   "outputs": [],
   "source": [
    "from fairness_multiverse.universe import UniverseAnalysis\n",
    "\n",
    "universe_analysis = UniverseAnalysis(\n",
    "    run_no = run_no,\n",
    "    universe_id = universe_id,\n",
    "    universe = universe,\n",
    "    output_dir=output_dir,\n",
    ")"
   ]
  },
  {
   "cell_type": "code",
   "execution_count": 8,
   "id": "106241f5",
   "metadata": {
    "execution": {
     "iopub.execute_input": "2025-07-30T20:33:06.651818Z",
     "iopub.status.busy": "2025-07-30T20:33:06.651156Z",
     "iopub.status.idle": "2025-07-30T20:33:06.657850Z",
     "shell.execute_reply": "2025-07-30T20:33:06.656959Z"
    },
    "papermill": {
     "duration": 0.028162,
     "end_time": "2025-07-30T20:33:06.659374",
     "exception": false,
     "start_time": "2025-07-30T20:33:06.631212",
     "status": "completed"
    },
    "tags": []
   },
   "outputs": [
    {
     "name": "stdout",
     "output_type": "stream",
     "text": [
      "Using Seed: 2023\n"
     ]
    }
   ],
   "source": [
    "import numpy as np\n",
    "parsed_seed = int(seed)\n",
    "np.random.seed(parsed_seed)\n",
    "print(f\"Using Seed: {parsed_seed}\")"
   ]
  },
  {
   "cell_type": "markdown",
   "id": "e0ebdc57",
   "metadata": {
    "papermill": {
     "duration": 0.018829,
     "end_time": "2025-07-30T20:33:06.697293",
     "exception": false,
     "start_time": "2025-07-30T20:33:06.678464",
     "status": "completed"
    },
    "tags": []
   },
   "source": [
    "# Loading Data"
   ]
  },
  {
   "cell_type": "markdown",
   "id": "681925a3",
   "metadata": {
    "papermill": {
     "duration": 0.020079,
     "end_time": "2025-07-30T20:33:06.736458",
     "exception": false,
     "start_time": "2025-07-30T20:33:06.716379",
     "status": "completed"
    },
    "tags": []
   },
   "source": [
    "Load siab_train, siab_test, siab_calib and/or \n",
    "load siab_train_features, siab_train_labels"
   ]
  },
  {
   "cell_type": "code",
   "execution_count": 9,
   "id": "f0496b8a",
   "metadata": {
    "execution": {
     "iopub.execute_input": "2025-07-30T20:33:06.774768Z",
     "iopub.status.busy": "2025-07-30T20:33:06.774298Z",
     "iopub.status.idle": "2025-07-30T20:33:18.794001Z",
     "shell.execute_reply": "2025-07-30T20:33:18.792521Z"
    },
    "papermill": {
     "duration": 12.041025,
     "end_time": "2025-07-30T20:33:18.795624",
     "exception": false,
     "start_time": "2025-07-30T20:33:06.754599",
     "status": "completed"
    },
    "tags": []
   },
   "outputs": [
    {
     "name": "stdout",
     "output_type": "stream",
     "text": [
      "Loading SIAB data from cache: data/siab_cached.csv.gz\n"
     ]
    },
    {
     "name": "stdout",
     "output_type": "stream",
     "text": [
      "(643690, 164)\n"
     ]
    }
   ],
   "source": [
    "from pathlib import Path\n",
    "import pandas as pd\n",
    "\n",
    "# File paths\n",
    "raw_file = Path(\"data/raw/siab.csv\")\n",
    "cache_file = Path(\"data/siab_cached.csv.gz\")\n",
    "\n",
    "# Ensure cache directory exists\n",
    "cache_file.parent.mkdir(parents=True, exist_ok=True)\n",
    "\n",
    "# Load with simple caching\n",
    "if cache_file.exists():\n",
    "    print(f\"Loading SIAB data from cache: {cache_file}\")\n",
    "    siab = pd.read_csv(cache_file, compression='gzip')\n",
    "else:\n",
    "    print(f\"Cache not found. Reading raw SIAB data: {raw_file}\")\n",
    "    siab = pd.read_csv(raw_file)\n",
    "    siab.to_csv(cache_file, index=False, compression='gzip')\n",
    "    print(f\"Cached SIAB data to: {cache_file}\")\n",
    "\n",
    "# Now use `siab` DataFrame as needed\n",
    "print(siab.shape)"
   ]
  },
  {
   "cell_type": "code",
   "execution_count": 10,
   "id": "db0ca512-5f53-4dba-abdb-a2888bca41ba",
   "metadata": {
    "execution": {
     "iopub.execute_input": "2025-07-30T20:33:18.840644Z",
     "iopub.status.busy": "2025-07-30T20:33:18.840137Z",
     "iopub.status.idle": "2025-07-30T20:33:18.848353Z",
     "shell.execute_reply": "2025-07-30T20:33:18.847205Z"
    },
    "papermill": {
     "duration": 0.031136,
     "end_time": "2025-07-30T20:33:18.849803",
     "exception": false,
     "start_time": "2025-07-30T20:33:18.818667",
     "status": "completed"
    },
    "tags": []
   },
   "outputs": [],
   "source": [
    "#siab"
   ]
  },
  {
   "cell_type": "code",
   "execution_count": 11,
   "id": "a0edb063",
   "metadata": {
    "execution": {
     "iopub.execute_input": "2025-07-30T20:33:18.889505Z",
     "iopub.status.busy": "2025-07-30T20:33:18.888600Z",
     "iopub.status.idle": "2025-07-30T20:33:18.911331Z",
     "shell.execute_reply": "2025-07-30T20:33:18.909907Z"
    },
    "papermill": {
     "duration": 0.044592,
     "end_time": "2025-07-30T20:33:18.913155",
     "exception": false,
     "start_time": "2025-07-30T20:33:18.868563",
     "status": "completed"
    },
    "tags": []
   },
   "outputs": [],
   "source": [
    "#import pandas as pd\n",
    "#\n",
    "#X_train = pd.read_csv(\"./data/X_train.csv\")\n",
    "#y_train = pd.read_csv(\"./data/y_train.csv\")"
   ]
  },
  {
   "cell_type": "code",
   "execution_count": 12,
   "id": "63d08085",
   "metadata": {
    "execution": {
     "iopub.execute_input": "2025-07-30T20:33:18.953190Z",
     "iopub.status.busy": "2025-07-30T20:33:18.952502Z",
     "iopub.status.idle": "2025-07-30T20:33:18.957450Z",
     "shell.execute_reply": "2025-07-30T20:33:18.956550Z"
    },
    "papermill": {
     "duration": 0.0263,
     "end_time": "2025-07-30T20:33:18.959200",
     "exception": false,
     "start_time": "2025-07-30T20:33:18.932900",
     "status": "completed"
    },
    "tags": []
   },
   "outputs": [],
   "source": [
    "#X_test = pd.read_csv(\"./data/X_test.csv\")\n",
    "#y_true = pd.read_csv(\"./data/y_test.csv\")"
   ]
  },
  {
   "cell_type": "code",
   "execution_count": 13,
   "id": "98a8d0fa-1d3d-4ed8-bb2c-281470e24add",
   "metadata": {
    "execution": {
     "iopub.execute_input": "2025-07-30T20:33:18.998983Z",
     "iopub.status.busy": "2025-07-30T20:33:18.998527Z",
     "iopub.status.idle": "2025-07-30T20:33:19.003541Z",
     "shell.execute_reply": "2025-07-30T20:33:19.002646Z"
    },
    "papermill": {
     "duration": 0.026885,
     "end_time": "2025-07-30T20:33:19.005175",
     "exception": false,
     "start_time": "2025-07-30T20:33:18.978290",
     "status": "completed"
    },
    "tags": []
   },
   "outputs": [],
   "source": [
    "# Calibration data for conformal\n",
    "#X_calib = pd.read_csv(\"./data/X_calib.csv\")\n",
    "#y_calib = pd.read_csv(\"./data/y_calib.csv\")"
   ]
  },
  {
   "cell_type": "markdown",
   "id": "997051c5-15bd-4b69-9786-c3001a3ce484",
   "metadata": {
    "papermill": {
     "duration": 0.019373,
     "end_time": "2025-07-30T20:33:19.043915",
     "exception": false,
     "start_time": "2025-07-30T20:33:19.024542",
     "status": "completed"
    },
    "tags": []
   },
   "source": [
    "# Splitting Data and Setting Training Data Size"
   ]
  },
  {
   "cell_type": "code",
   "execution_count": 14,
   "id": "e993b61f-042d-41a6-8c81-f55681f86335",
   "metadata": {
    "execution": {
     "iopub.execute_input": "2025-07-30T20:33:19.083054Z",
     "iopub.status.busy": "2025-07-30T20:33:19.082595Z",
     "iopub.status.idle": "2025-07-30T20:33:19.096734Z",
     "shell.execute_reply": "2025-07-30T20:33:19.095776Z"
    },
    "papermill": {
     "duration": 0.035226,
     "end_time": "2025-07-30T20:33:19.098178",
     "exception": false,
     "start_time": "2025-07-30T20:33:19.062952",
     "status": "completed"
    },
    "tags": []
   },
   "outputs": [],
   "source": [
    "def sample_by_year_size(df,\n",
    "                        training_year: str,\n",
    "                        training_size: str,\n",
    "                        random_state: int = 42):\n",
    "    # --- parse training_year into a list of int years ---\n",
    "    if \"_\" in training_year:\n",
    "        start_str, end_str = training_year.split(\"_\", 1)\n",
    "        start = int(start_str)\n",
    "        end   = int(end_str) if len(end_str) == 4 else (int(end_str) + (start // 100)*100)\n",
    "        years = list(range(start, end + 1))\n",
    "    else:\n",
    "        years = [int(training_year)]\n",
    "\n",
    "    df = df[df[\"year\"].isin(years)].reset_index(drop=True)\n",
    "\n",
    "    # --- map training_size to total number of samples ---\n",
    "    total_map = {\"25k\": 25_000, \"5k\": 5_000, \"1k\": 1_000}\n",
    "    if training_size not in total_map:\n",
    "        return df  # e.g. \"all\"\n",
    "\n",
    "    total_samples = total_map[training_size]\n",
    "    n_years       = len(years)\n",
    "    base          = total_samples // n_years\n",
    "    remainder     = total_samples % n_years\n",
    "\n",
    "    # --- build a dict: year -> how many to sample ---\n",
    "    # give +1 to the first `remainder` years in ascending order\n",
    "    quotas = {\n",
    "        year: base + (1 if idx < remainder else 0)\n",
    "        for idx, year in enumerate(sorted(years))\n",
    "    }\n",
    "\n",
    "    # --- sample per‐year according to the quota dict ---\n",
    "    sampled = (\n",
    "        df\n",
    "        .groupby(\"year\", group_keys=False)\n",
    "        .apply(lambda grp: grp.sample(\n",
    "            n=min(len(grp), quotas[grp.name]),\n",
    "            random_state=random_state))\n",
    "        .reset_index(drop=True)\n",
    "    )\n",
    "\n",
    "    return sampled"
   ]
  },
  {
   "cell_type": "code",
   "execution_count": 15,
   "id": "c0ccd338-0e02-41f3-a09d-f56f9266e3fb",
   "metadata": {
    "execution": {
     "iopub.execute_input": "2025-07-30T20:33:19.138552Z",
     "iopub.status.busy": "2025-07-30T20:33:19.138104Z",
     "iopub.status.idle": "2025-07-30T20:33:19.143054Z",
     "shell.execute_reply": "2025-07-30T20:33:19.142189Z"
    },
    "papermill": {
     "duration": 0.026405,
     "end_time": "2025-07-30T20:33:19.144670",
     "exception": false,
     "start_time": "2025-07-30T20:33:19.118265",
     "status": "completed"
    },
    "tags": []
   },
   "outputs": [],
   "source": [
    "#universe[\"training_size\"]"
   ]
  },
  {
   "cell_type": "code",
   "execution_count": 16,
   "id": "ca707fd7-8047-4acd-bfa5-66248fbbf8e6",
   "metadata": {
    "execution": {
     "iopub.execute_input": "2025-07-30T20:33:19.185573Z",
     "iopub.status.busy": "2025-07-30T20:33:19.185128Z",
     "iopub.status.idle": "2025-07-30T20:33:19.189933Z",
     "shell.execute_reply": "2025-07-30T20:33:19.188981Z"
    },
    "papermill": {
     "duration": 0.027788,
     "end_time": "2025-07-30T20:33:19.191398",
     "exception": false,
     "start_time": "2025-07-30T20:33:19.163610",
     "status": "completed"
    },
    "tags": []
   },
   "outputs": [],
   "source": [
    "#universe[\"training_year\"]"
   ]
  },
  {
   "cell_type": "code",
   "execution_count": 17,
   "id": "aea9c6ef-6f46-42c8-85eb-5a62025c1508",
   "metadata": {
    "execution": {
     "iopub.execute_input": "2025-07-30T20:33:19.230464Z",
     "iopub.status.busy": "2025-07-30T20:33:19.229801Z",
     "iopub.status.idle": "2025-07-30T20:33:20.256228Z",
     "shell.execute_reply": "2025-07-30T20:33:20.255332Z"
    },
    "papermill": {
     "duration": 1.047793,
     "end_time": "2025-07-30T20:33:20.257972",
     "exception": false,
     "start_time": "2025-07-30T20:33:19.210179",
     "status": "completed"
    },
    "tags": []
   },
   "outputs": [],
   "source": [
    "siab_train = sample_by_year_size(siab,\n",
    "                               training_year=universe[\"training_year\"],\n",
    "                               training_size=universe[\"training_size\"])"
   ]
  },
  {
   "cell_type": "code",
   "execution_count": 18,
   "id": "8d3afb32-789d-442c-8d5d-9f5aa8dd2eed",
   "metadata": {
    "execution": {
     "iopub.execute_input": "2025-07-30T20:33:20.297982Z",
     "iopub.status.busy": "2025-07-30T20:33:20.297347Z",
     "iopub.status.idle": "2025-07-30T20:33:20.302110Z",
     "shell.execute_reply": "2025-07-30T20:33:20.301211Z"
    },
    "papermill": {
     "duration": 0.026227,
     "end_time": "2025-07-30T20:33:20.303606",
     "exception": false,
     "start_time": "2025-07-30T20:33:20.277379",
     "status": "completed"
    },
    "tags": []
   },
   "outputs": [],
   "source": [
    "#siab_train.shape"
   ]
  },
  {
   "cell_type": "code",
   "execution_count": 19,
   "id": "d582db68-1a4c-47fb-84fc-08518dc1975a",
   "metadata": {
    "execution": {
     "iopub.execute_input": "2025-07-30T20:33:20.343237Z",
     "iopub.status.busy": "2025-07-30T20:33:20.342585Z",
     "iopub.status.idle": "2025-07-30T20:33:20.347832Z",
     "shell.execute_reply": "2025-07-30T20:33:20.346926Z"
    },
    "papermill": {
     "duration": 0.026501,
     "end_time": "2025-07-30T20:33:20.349343",
     "exception": false,
     "start_time": "2025-07-30T20:33:20.322842",
     "status": "completed"
    },
    "tags": []
   },
   "outputs": [],
   "source": [
    "#display(siab_train.groupby(\"year\").size())"
   ]
  },
  {
   "cell_type": "code",
   "execution_count": 20,
   "id": "a561edb4-d032-42cb-8256-22eac1111c64",
   "metadata": {
    "execution": {
     "iopub.execute_input": "2025-07-30T20:33:20.389014Z",
     "iopub.status.busy": "2025-07-30T20:33:20.388355Z",
     "iopub.status.idle": "2025-07-30T20:33:20.590572Z",
     "shell.execute_reply": "2025-07-30T20:33:20.589696Z"
    },
    "papermill": {
     "duration": 0.223834,
     "end_time": "2025-07-30T20:33:20.592450",
     "exception": false,
     "start_time": "2025-07-30T20:33:20.368616",
     "status": "completed"
    },
    "tags": []
   },
   "outputs": [],
   "source": [
    "#siab_train = siab_s[siab_s.year < 2015]\n",
    "siab_calib = siab[siab.year == 2015]\n",
    "siab_test = siab[siab.year == 2016]"
   ]
  },
  {
   "cell_type": "code",
   "execution_count": 21,
   "id": "472de16f-c3db-4916-846b-1f0de9cf1746",
   "metadata": {
    "execution": {
     "iopub.execute_input": "2025-07-30T20:33:20.632913Z",
     "iopub.status.busy": "2025-07-30T20:33:20.632223Z",
     "iopub.status.idle": "2025-07-30T20:33:20.646551Z",
     "shell.execute_reply": "2025-07-30T20:33:20.645537Z"
    },
    "papermill": {
     "duration": 0.0361,
     "end_time": "2025-07-30T20:33:20.648318",
     "exception": false,
     "start_time": "2025-07-30T20:33:20.612218",
     "status": "completed"
    },
    "tags": []
   },
   "outputs": [],
   "source": [
    "X_train = siab_train.iloc[:,4:164]\n",
    "y_train = siab_train.iloc[:, [3]]"
   ]
  },
  {
   "cell_type": "code",
   "execution_count": 22,
   "id": "828c96af-f43a-4ed6-ba47-8ac73a47d56c",
   "metadata": {
    "execution": {
     "iopub.execute_input": "2025-07-30T20:33:20.688695Z",
     "iopub.status.busy": "2025-07-30T20:33:20.688246Z",
     "iopub.status.idle": "2025-07-30T20:33:20.741382Z",
     "shell.execute_reply": "2025-07-30T20:33:20.740375Z"
    },
    "papermill": {
     "duration": 0.074989,
     "end_time": "2025-07-30T20:33:20.742877",
     "exception": false,
     "start_time": "2025-07-30T20:33:20.667888",
     "status": "completed"
    },
    "tags": []
   },
   "outputs": [],
   "source": [
    "X_calib = siab_calib.iloc[:,4:164]\n",
    "y_calib = siab_calib.iloc[:, [3]]"
   ]
  },
  {
   "cell_type": "code",
   "execution_count": 23,
   "id": "c34be9c3-6bd6-476e-acd3-845840e303be",
   "metadata": {
    "execution": {
     "iopub.execute_input": "2025-07-30T20:33:20.783637Z",
     "iopub.status.busy": "2025-07-30T20:33:20.783003Z",
     "iopub.status.idle": "2025-07-30T20:33:20.836931Z",
     "shell.execute_reply": "2025-07-30T20:33:20.835890Z"
    },
    "papermill": {
     "duration": 0.075712,
     "end_time": "2025-07-30T20:33:20.838562",
     "exception": false,
     "start_time": "2025-07-30T20:33:20.762850",
     "status": "completed"
    },
    "tags": []
   },
   "outputs": [],
   "source": [
    "X_test = siab_test.iloc[:,4:164]\n",
    "y_true = siab_test.iloc[:, [3]]"
   ]
  },
  {
   "cell_type": "markdown",
   "id": "9901737e-04df-44f0-9100-f5ad144ed040",
   "metadata": {
    "papermill": {
     "duration": 0.019053,
     "end_time": "2025-07-30T20:33:20.878966",
     "exception": false,
     "start_time": "2025-07-30T20:33:20.859913",
     "status": "completed"
    },
    "tags": []
   },
   "source": [
    "# Splitting Data and Setting Training Data Size OLD VERSION"
   ]
  },
  {
   "cell_type": "code",
   "execution_count": 24,
   "id": "acbc8f7d-8fc8-4e86-8c59-5dcb0f58384b",
   "metadata": {
    "execution": {
     "iopub.execute_input": "2025-07-30T20:33:20.919437Z",
     "iopub.status.busy": "2025-07-30T20:33:20.918477Z",
     "iopub.status.idle": "2025-07-30T20:33:20.924014Z",
     "shell.execute_reply": "2025-07-30T20:33:20.923167Z"
    },
    "papermill": {
     "duration": 0.027568,
     "end_time": "2025-07-30T20:33:20.925637",
     "exception": false,
     "start_time": "2025-07-30T20:33:20.898069",
     "status": "completed"
    },
    "tags": []
   },
   "outputs": [],
   "source": [
    "#def sample_by_year(df, training_size, random_state=42):\n",
    "#    if training_size == \"2014\":\n",
    "#        return df[df[\"year\"] == 2014].reset_index(drop=True)\n",
    "#    \n",
    "#    size_map = {\n",
    "#        \"25k\": 5000,\n",
    "#        \"5k\": 1000,\n",
    "#        \"1k\": 200\n",
    "#    }\n",
    "#\n",
    "#    if training_size not in size_map:\n",
    "#        return df.reset_index(drop=True)  # use all data\n",
    "#\n",
    "#    n_per_year = size_map[training_size]\n",
    "#    grouped = df.groupby(\"year\")\n",
    "#    sampled = grouped.apply(lambda x: x.sample(n=min(n_per_year, len(x)), random_state=random_state))\n",
    "#    return sampled.reset_index(drop=True)"
   ]
  },
  {
   "cell_type": "code",
   "execution_count": 25,
   "id": "6d931f52-beaf-43ff-9e78-9d44a448d54e",
   "metadata": {
    "execution": {
     "iopub.execute_input": "2025-07-30T20:33:20.967181Z",
     "iopub.status.busy": "2025-07-30T20:33:20.966368Z",
     "iopub.status.idle": "2025-07-30T20:33:20.971325Z",
     "shell.execute_reply": "2025-07-30T20:33:20.970459Z"
    },
    "papermill": {
     "duration": 0.027625,
     "end_time": "2025-07-30T20:33:20.972850",
     "exception": false,
     "start_time": "2025-07-30T20:33:20.945225",
     "status": "completed"
    },
    "tags": []
   },
   "outputs": [],
   "source": [
    "#siab_s = sample_by_year(siab, universe[\"training_size\"])"
   ]
  },
  {
   "cell_type": "code",
   "execution_count": 26,
   "id": "5db0a40e-a4e2-4920-be85-b12ae061d70d",
   "metadata": {
    "execution": {
     "iopub.execute_input": "2025-07-30T20:33:21.013421Z",
     "iopub.status.busy": "2025-07-30T20:33:21.012963Z",
     "iopub.status.idle": "2025-07-30T20:33:21.017889Z",
     "shell.execute_reply": "2025-07-30T20:33:21.017060Z"
    },
    "papermill": {
     "duration": 0.026884,
     "end_time": "2025-07-30T20:33:21.019346",
     "exception": false,
     "start_time": "2025-07-30T20:33:20.992462",
     "status": "completed"
    },
    "tags": []
   },
   "outputs": [],
   "source": [
    "#display(siab_s.groupby(\"year\").size())"
   ]
  },
  {
   "cell_type": "code",
   "execution_count": 27,
   "id": "e6c733c5",
   "metadata": {
    "execution": {
     "iopub.execute_input": "2025-07-30T20:33:21.059450Z",
     "iopub.status.busy": "2025-07-30T20:33:21.059014Z",
     "iopub.status.idle": "2025-07-30T20:33:21.152318Z",
     "shell.execute_reply": "2025-07-30T20:33:21.151432Z"
    },
    "papermill": {
     "duration": 0.115248,
     "end_time": "2025-07-30T20:33:21.154139",
     "exception": false,
     "start_time": "2025-07-30T20:33:21.038891",
     "status": "completed"
    },
    "tags": []
   },
   "outputs": [],
   "source": [
    "# Auxiliary data needed downstream in the pipeline\n",
    "\n",
    "org_train = X_train.copy()\n",
    "org_test = X_test.copy()\n",
    "org_calib = X_calib.copy()"
   ]
  },
  {
   "cell_type": "code",
   "execution_count": 28,
   "id": "1466abac-c6da-4492-a62f-4240ae3783af",
   "metadata": {
    "execution": {
     "iopub.execute_input": "2025-07-30T20:33:21.196735Z",
     "iopub.status.busy": "2025-07-30T20:33:21.196272Z",
     "iopub.status.idle": "2025-07-30T20:33:21.201768Z",
     "shell.execute_reply": "2025-07-30T20:33:21.200939Z"
    },
    "papermill": {
     "duration": 0.028967,
     "end_time": "2025-07-30T20:33:21.203379",
     "exception": false,
     "start_time": "2025-07-30T20:33:21.174412",
     "status": "completed"
    },
    "tags": []
   },
   "outputs": [],
   "source": [
    "# put in other script?\n",
    "# Group sizes\n",
    "\n",
    "#def calculate_percentages(df, df_name):\n",
    "#    total_entries = len(df)\n",
    "#\n",
    "#    female_pct = (df['frau1'] == 1).mean() * 100\n",
    "#    non_german_pct = ((df['maxdeutsch1'] == 0) & (df['maxdeutsch.Missing.'] == 0)).mean() * 100\n",
    "#    non_german_male_pct = ((df['frau1'] == 0) & (df['maxdeutsch1'] == 0) & (df['maxdeutsch.Missing.'] == 0)).mean() * 100\n",
    "#    non_german_female_pct = ((df['frau1'] == 1) & (df['maxdeutsch1'] == 0) & (df['maxdeutsch.Missing.'] == 0)).mean() * 100\n",
    "#\n",
    "#    print(f\"--- {df_name} ---\")\n",
    "#    print(f\"Female: {female_pct:.2f}%\")\n",
    "#    print(f\"Non-German: {non_german_pct:.2f}%\")\n",
    "#    print(f\"Non-German Male: {non_german_male_pct:.2f}%\")\n",
    "#    print(f\"Non-German Female: {non_german_female_pct:.2f}%\\n\")\n",
    "#\n",
    "## Calculate for each DataFrame\n",
    "#calculate_percentages(siab_calib, \"siab_calib\")\n",
    "#calculate_percentages(siab_test, \"siab_test\")\n",
    "#calculate_percentages(siab_train, \"siab_train\")"
   ]
  },
  {
   "cell_type": "markdown",
   "id": "0a4a1b33",
   "metadata": {
    "papermill": {
     "duration": 0.019205,
     "end_time": "2025-07-30T20:33:21.242438",
     "exception": false,
     "start_time": "2025-07-30T20:33:21.223233",
     "status": "completed"
    },
    "tags": []
   },
   "source": [
    "# Preprocessing Data"
   ]
  },
  {
   "cell_type": "code",
   "execution_count": 29,
   "id": "ca879031",
   "metadata": {
    "execution": {
     "iopub.execute_input": "2025-07-30T20:33:21.283122Z",
     "iopub.status.busy": "2025-07-30T20:33:21.282473Z",
     "iopub.status.idle": "2025-07-30T20:33:21.288580Z",
     "shell.execute_reply": "2025-07-30T20:33:21.287651Z"
    },
    "papermill": {
     "duration": 0.028179,
     "end_time": "2025-07-30T20:33:21.289960",
     "exception": false,
     "start_time": "2025-07-30T20:33:21.261781",
     "status": "completed"
    },
    "tags": []
   },
   "outputs": [],
   "source": [
    "# EXCLUDE PROTECTED FEATURES\n",
    "# ----------------------\n",
    "# \"exclude_features\": \"none\", # \"nationality\", \"sex\", \"nationality-sex\"\n",
    "\n",
    "excluded_features = universe[\"exclude_features\"].split(\"-\") # split, e.g.: \"nationality-sex\" -> [\"nationality\", \"sex\"]\n",
    "excluded_features_dictionary = {\n",
    "    \"nationality\": [\"maxdeutsch1\", \"maxdeutsch.Missing.\"],\n",
    "    \"sex\": [\"frau1\"],\n",
    "    \"age\": [\"age\"],\n",
    "}\n"
   ]
  },
  {
   "cell_type": "code",
   "execution_count": 30,
   "id": "b745ac60",
   "metadata": {
    "execution": {
     "iopub.execute_input": "2025-07-30T20:33:21.331180Z",
     "iopub.status.busy": "2025-07-30T20:33:21.330559Z",
     "iopub.status.idle": "2025-07-30T20:33:21.335814Z",
     "shell.execute_reply": "2025-07-30T20:33:21.335009Z"
    },
    "papermill": {
     "duration": 0.027187,
     "end_time": "2025-07-30T20:33:21.337276",
     "exception": false,
     "start_time": "2025-07-30T20:33:21.310089",
     "status": "completed"
    },
    "tags": []
   },
   "outputs": [],
   "source": [
    "# Code nice names to column names\n",
    "\n",
    "excluded_features_columns = [\n",
    "    excluded_features_dictionary[f] for f in excluded_features if len(f) > 0 and f != \"none\"\n",
    "]"
   ]
  },
  {
   "cell_type": "code",
   "execution_count": 31,
   "id": "f84f73a2",
   "metadata": {
    "execution": {
     "iopub.execute_input": "2025-07-30T20:33:21.378718Z",
     "iopub.status.busy": "2025-07-30T20:33:21.378201Z",
     "iopub.status.idle": "2025-07-30T20:33:21.384225Z",
     "shell.execute_reply": "2025-07-30T20:33:21.383348Z"
    },
    "papermill": {
     "duration": 0.02857,
     "end_time": "2025-07-30T20:33:21.385676",
     "exception": false,
     "start_time": "2025-07-30T20:33:21.357106",
     "status": "completed"
    },
    "tags": []
   },
   "outputs": [],
   "source": [
    "from utils import flatten_once\n",
    "\n",
    "excluded_features_columns = flatten_once(excluded_features_columns)"
   ]
  },
  {
   "cell_type": "code",
   "execution_count": 32,
   "id": "884dea22",
   "metadata": {
    "execution": {
     "iopub.execute_input": "2025-07-30T20:33:21.427114Z",
     "iopub.status.busy": "2025-07-30T20:33:21.426443Z",
     "iopub.status.idle": "2025-07-30T20:33:21.451983Z",
     "shell.execute_reply": "2025-07-30T20:33:21.451063Z"
    },
    "papermill": {
     "duration": 0.047827,
     "end_time": "2025-07-30T20:33:21.453415",
     "exception": false,
     "start_time": "2025-07-30T20:33:21.405588",
     "status": "completed"
    },
    "tags": []
   },
   "outputs": [
    {
     "name": "stdout",
     "output_type": "stream",
     "text": [
      "Dropping features: ['age']\n"
     ]
    }
   ],
   "source": [
    "if len(excluded_features_columns) > 0:\n",
    "    print(f\"Dropping features: {excluded_features_columns}\")\n",
    "    X_train.drop(excluded_features_columns, axis=1, inplace=True)"
   ]
  },
  {
   "cell_type": "code",
   "execution_count": 33,
   "id": "95ab8b16",
   "metadata": {
    "execution": {
     "iopub.execute_input": "2025-07-30T20:33:21.495490Z",
     "iopub.status.busy": "2025-07-30T20:33:21.494872Z",
     "iopub.status.idle": "2025-07-30T20:33:21.550605Z",
     "shell.execute_reply": "2025-07-30T20:33:21.549581Z"
    },
    "papermill": {
     "duration": 0.078962,
     "end_time": "2025-07-30T20:33:21.553149",
     "exception": false,
     "start_time": "2025-07-30T20:33:21.474187",
     "status": "completed"
    },
    "tags": []
   },
   "outputs": [
    {
     "name": "stdout",
     "output_type": "stream",
     "text": [
      "Dropping features: ['age']\n"
     ]
    }
   ],
   "source": [
    "if len(excluded_features_columns) > 0:\n",
    "    print(f\"Dropping features: {excluded_features_columns}\")\n",
    "    X_test.drop(excluded_features_columns, axis=1, inplace=True)"
   ]
  },
  {
   "cell_type": "code",
   "execution_count": 34,
   "id": "1853aaf5-fb9f-46cb-a2b5-8ea4ae2237e4",
   "metadata": {
    "execution": {
     "iopub.execute_input": "2025-07-30T20:33:21.596518Z",
     "iopub.status.busy": "2025-07-30T20:33:21.595837Z",
     "iopub.status.idle": "2025-07-30T20:33:21.648036Z",
     "shell.execute_reply": "2025-07-30T20:33:21.647111Z"
    },
    "papermill": {
     "duration": 0.075417,
     "end_time": "2025-07-30T20:33:21.649734",
     "exception": false,
     "start_time": "2025-07-30T20:33:21.574317",
     "status": "completed"
    },
    "tags": []
   },
   "outputs": [
    {
     "name": "stdout",
     "output_type": "stream",
     "text": [
      "Dropping features: ['age']\n"
     ]
    }
   ],
   "source": [
    "if len(excluded_features_columns) > 0:\n",
    "    print(f\"Dropping features: {excluded_features_columns}\")\n",
    "    X_calib.drop(excluded_features_columns, axis=1, inplace=True)"
   ]
  },
  {
   "cell_type": "code",
   "execution_count": 35,
   "id": "6727d079-03e5-481e-9d38-292a90b7a0a8",
   "metadata": {
    "execution": {
     "iopub.execute_input": "2025-07-30T20:33:21.692172Z",
     "iopub.status.busy": "2025-07-30T20:33:21.691534Z",
     "iopub.status.idle": "2025-07-30T20:33:21.696164Z",
     "shell.execute_reply": "2025-07-30T20:33:21.695282Z"
    },
    "papermill": {
     "duration": 0.027245,
     "end_time": "2025-07-30T20:33:21.697704",
     "exception": false,
     "start_time": "2025-07-30T20:33:21.670459",
     "status": "completed"
    },
    "tags": []
   },
   "outputs": [],
   "source": [
    "# SPLIT & STRATIFY DATA\n",
    "# ----------------------"
   ]
  },
  {
   "cell_type": "code",
   "execution_count": 36,
   "id": "76c4dc6d",
   "metadata": {
    "execution": {
     "iopub.execute_input": "2025-07-30T20:33:21.739438Z",
     "iopub.status.busy": "2025-07-30T20:33:21.738830Z",
     "iopub.status.idle": "2025-07-30T20:33:21.743823Z",
     "shell.execute_reply": "2025-07-30T20:33:21.742992Z"
    },
    "papermill": {
     "duration": 0.027222,
     "end_time": "2025-07-30T20:33:21.745313",
     "exception": false,
     "start_time": "2025-07-30T20:33:21.718091",
     "status": "completed"
    },
    "tags": []
   },
   "outputs": [],
   "source": [
    "# EXCLUDE CERTAIN SUBGROUPS\n",
    "# ----------------------\n",
    "\n",
    "mode = universe.get(\"exclude_subgroups\", \"keep-all\") \n",
    "# Fetches the exclude_subgroups setting from the universe dict.\n",
    "# Defaults to \"keep-all\" if the key is missing."
   ]
  },
  {
   "cell_type": "code",
   "execution_count": 37,
   "id": "21994072",
   "metadata": {
    "execution": {
     "iopub.execute_input": "2025-07-30T20:33:21.787053Z",
     "iopub.status.busy": "2025-07-30T20:33:21.786324Z",
     "iopub.status.idle": "2025-07-30T20:33:21.793525Z",
     "shell.execute_reply": "2025-07-30T20:33:21.792663Z"
    },
    "papermill": {
     "duration": 0.029508,
     "end_time": "2025-07-30T20:33:21.795003",
     "exception": false,
     "start_time": "2025-07-30T20:33:21.765495",
     "status": "completed"
    },
    "tags": []
   },
   "outputs": [],
   "source": [
    "if mode == \"keep-all\":\n",
    "    keep_mask = pd.Series(True, index=org_train.index)\n",
    "\n",
    "# org_train contains the original feature columns from features_org (in Simson)\n",
    "# features_org contains unprocessed features, for me X_train at beginning ???\n",
    "# For keep-all, creates a boolean Series (keep_mask) of all True, so no rows are removed.\n",
    "\n",
    "elif mode == \"drop-non-german\":\n",
    "    keep_mask = org_train[\"maxdeutsch1\"] == 1 # ??? what about missing values?\n",
    "\n",
    "else:\n",
    "    raise ValueError(f\"Unsupported mode for exclude_subgroups: {mode}\")\n"
   ]
  },
  {
   "cell_type": "code",
   "execution_count": 38,
   "id": "71651440",
   "metadata": {
    "execution": {
     "iopub.execute_input": "2025-07-30T20:33:21.837383Z",
     "iopub.status.busy": "2025-07-30T20:33:21.836745Z",
     "iopub.status.idle": "2025-07-30T20:33:21.843929Z",
     "shell.execute_reply": "2025-07-30T20:33:21.843015Z"
    },
    "papermill": {
     "duration": 0.029867,
     "end_time": "2025-07-30T20:33:21.845456",
     "exception": false,
     "start_time": "2025-07-30T20:33:21.815589",
     "status": "completed"
    },
    "tags": []
   },
   "outputs": [
    {
     "name": "stdout",
     "output_type": "stream",
     "text": [
      "Dropping 3312 rows (13.25%) where mode='drop-non-german'\n"
     ]
    }
   ],
   "source": [
    "n_drop = (~keep_mask).sum() # Calculates how many rows are set to be dropped\n",
    "if n_drop > 0:\n",
    "    pct = n_drop / len(keep_mask) * 100\n",
    "    print(f\"Dropping {n_drop} rows ({pct:.2f}%) where mode='{mode}'\")"
   ]
  },
  {
   "cell_type": "code",
   "execution_count": 39,
   "id": "5fb8eee5",
   "metadata": {
    "execution": {
     "iopub.execute_input": "2025-07-30T20:33:21.888520Z",
     "iopub.status.busy": "2025-07-30T20:33:21.887916Z",
     "iopub.status.idle": "2025-07-30T20:33:21.902869Z",
     "shell.execute_reply": "2025-07-30T20:33:21.901814Z"
    },
    "papermill": {
     "duration": 0.038714,
     "end_time": "2025-07-30T20:33:21.904806",
     "exception": false,
     "start_time": "2025-07-30T20:33:21.866092",
     "status": "completed"
    },
    "tags": []
   },
   "outputs": [],
   "source": [
    "X_train = X_train[keep_mask]"
   ]
  },
  {
   "cell_type": "code",
   "execution_count": 40,
   "id": "b202bb3a",
   "metadata": {
    "execution": {
     "iopub.execute_input": "2025-07-30T20:33:21.949968Z",
     "iopub.status.busy": "2025-07-30T20:33:21.949168Z",
     "iopub.status.idle": "2025-07-30T20:33:21.957004Z",
     "shell.execute_reply": "2025-07-30T20:33:21.955967Z"
    },
    "papermill": {
     "duration": 0.032268,
     "end_time": "2025-07-30T20:33:21.958678",
     "exception": false,
     "start_time": "2025-07-30T20:33:21.926410",
     "status": "completed"
    },
    "tags": []
   },
   "outputs": [],
   "source": [
    "y_train = y_train[keep_mask]"
   ]
  },
  {
   "cell_type": "markdown",
   "id": "493e2ac3",
   "metadata": {
    "papermill": {
     "duration": 0.020325,
     "end_time": "2025-07-30T20:33:22.000527",
     "exception": false,
     "start_time": "2025-07-30T20:33:21.980202",
     "status": "completed"
    },
    "tags": []
   },
   "source": [
    "# Model Training"
   ]
  },
  {
   "cell_type": "code",
   "execution_count": 41,
   "id": "679e1268",
   "metadata": {
    "execution": {
     "iopub.execute_input": "2025-07-30T20:33:22.043524Z",
     "iopub.status.busy": "2025-07-30T20:33:22.042882Z",
     "iopub.status.idle": "2025-07-30T20:33:22.142196Z",
     "shell.execute_reply": "2025-07-30T20:33:22.141243Z"
    },
    "papermill": {
     "duration": 0.122865,
     "end_time": "2025-07-30T20:33:22.143994",
     "exception": false,
     "start_time": "2025-07-30T20:33:22.021129",
     "status": "completed"
    },
    "tags": []
   },
   "outputs": [],
   "source": [
    "from sklearn.linear_model import LogisticRegression\n",
    "from sklearn.ensemble import GradientBoostingClassifier, RandomForestClassifier\n",
    "\n",
    "if (universe[\"model\"] == \"logreg\"):\n",
    "    model = LogisticRegression() #penalty=\"none\") #, solver=\"newton-cg\", max_iter=1) # include random_state=19 ?\n",
    "elif (universe[\"model\"] == \"penalized_logreg\"):\n",
    "    model = LogisticRegression(penalty=\"l2\", C=1.0) #, solver=\"newton-cg\", max_iter=1)\n",
    "elif (universe[\"model\"] == \"rf\"):\n",
    "    model = RandomForestClassifier(n_estimators=100, n_jobs=-1)\n",
    "elif (universe[\"model\"] == \"gbm\"):\n",
    "    model = GradientBoostingClassifier()\n",
    "elif (universe[\"model\"] == \"elasticnet\"):\n",
    "    model = LogisticRegression(penalty = 'elasticnet', solver = 'saga', l1_ratio = 0.5, max_iter=5000) # which solver to use?\n",
    "else:\n",
    "    raise \"Unsupported universe.model\""
   ]
  },
  {
   "cell_type": "code",
   "execution_count": 42,
   "id": "0cc8f744",
   "metadata": {
    "execution": {
     "iopub.execute_input": "2025-07-30T20:33:22.189869Z",
     "iopub.status.busy": "2025-07-30T20:33:22.189228Z",
     "iopub.status.idle": "2025-07-30T20:33:22.195406Z",
     "shell.execute_reply": "2025-07-30T20:33:22.194466Z"
    },
    "papermill": {
     "duration": 0.031524,
     "end_time": "2025-07-30T20:33:22.196860",
     "exception": false,
     "start_time": "2025-07-30T20:33:22.165336",
     "status": "completed"
    },
    "tags": []
   },
   "outputs": [],
   "source": [
    "import numpy as np\n",
    "from sklearn.pipeline import Pipeline\n",
    "from sklearn.preprocessing import StandardScaler\n",
    "\n",
    "model = Pipeline([\n",
    "    #(\"continuous_processor\", continuous_processor),\n",
    "    #(\"categorical_preprocessor\", categorical_preprocessor),\n",
    "    (\"scale\", StandardScaler() if universe[\"scale\"] == \"scale\" else None), \n",
    "    (\"model\", model),\n",
    "])"
   ]
  },
  {
   "cell_type": "code",
   "execution_count": 43,
   "id": "9442c04d",
   "metadata": {
    "execution": {
     "iopub.execute_input": "2025-07-30T20:33:22.242228Z",
     "iopub.status.busy": "2025-07-30T20:33:22.241547Z",
     "iopub.status.idle": "2025-07-30T20:33:36.689307Z",
     "shell.execute_reply": "2025-07-30T20:33:36.688333Z"
    },
    "papermill": {
     "duration": 14.472159,
     "end_time": "2025-07-30T20:33:36.690997",
     "exception": false,
     "start_time": "2025-07-30T20:33:22.218838",
     "status": "completed"
    },
    "tags": []
   },
   "outputs": [
    {
     "data": {
      "text/html": [
       "<style>#sk-container-id-1 {color: black;background-color: white;}#sk-container-id-1 pre{padding: 0;}#sk-container-id-1 div.sk-toggleable {background-color: white;}#sk-container-id-1 label.sk-toggleable__label {cursor: pointer;display: block;width: 100%;margin-bottom: 0;padding: 0.3em;box-sizing: border-box;text-align: center;}#sk-container-id-1 label.sk-toggleable__label-arrow:before {content: \"▸\";float: left;margin-right: 0.25em;color: #696969;}#sk-container-id-1 label.sk-toggleable__label-arrow:hover:before {color: black;}#sk-container-id-1 div.sk-estimator:hover label.sk-toggleable__label-arrow:before {color: black;}#sk-container-id-1 div.sk-toggleable__content {max-height: 0;max-width: 0;overflow: hidden;text-align: left;background-color: #f0f8ff;}#sk-container-id-1 div.sk-toggleable__content pre {margin: 0.2em;color: black;border-radius: 0.25em;background-color: #f0f8ff;}#sk-container-id-1 input.sk-toggleable__control:checked~div.sk-toggleable__content {max-height: 200px;max-width: 100%;overflow: auto;}#sk-container-id-1 input.sk-toggleable__control:checked~label.sk-toggleable__label-arrow:before {content: \"▾\";}#sk-container-id-1 div.sk-estimator input.sk-toggleable__control:checked~label.sk-toggleable__label {background-color: #d4ebff;}#sk-container-id-1 div.sk-label input.sk-toggleable__control:checked~label.sk-toggleable__label {background-color: #d4ebff;}#sk-container-id-1 input.sk-hidden--visually {border: 0;clip: rect(1px 1px 1px 1px);clip: rect(1px, 1px, 1px, 1px);height: 1px;margin: -1px;overflow: hidden;padding: 0;position: absolute;width: 1px;}#sk-container-id-1 div.sk-estimator {font-family: monospace;background-color: #f0f8ff;border: 1px dotted black;border-radius: 0.25em;box-sizing: border-box;margin-bottom: 0.5em;}#sk-container-id-1 div.sk-estimator:hover {background-color: #d4ebff;}#sk-container-id-1 div.sk-parallel-item::after {content: \"\";width: 100%;border-bottom: 1px solid gray;flex-grow: 1;}#sk-container-id-1 div.sk-label:hover label.sk-toggleable__label {background-color: #d4ebff;}#sk-container-id-1 div.sk-serial::before {content: \"\";position: absolute;border-left: 1px solid gray;box-sizing: border-box;top: 0;bottom: 0;left: 50%;z-index: 0;}#sk-container-id-1 div.sk-serial {display: flex;flex-direction: column;align-items: center;background-color: white;padding-right: 0.2em;padding-left: 0.2em;position: relative;}#sk-container-id-1 div.sk-item {position: relative;z-index: 1;}#sk-container-id-1 div.sk-parallel {display: flex;align-items: stretch;justify-content: center;background-color: white;position: relative;}#sk-container-id-1 div.sk-item::before, #sk-container-id-1 div.sk-parallel-item::before {content: \"\";position: absolute;border-left: 1px solid gray;box-sizing: border-box;top: 0;bottom: 0;left: 50%;z-index: -1;}#sk-container-id-1 div.sk-parallel-item {display: flex;flex-direction: column;z-index: 1;position: relative;background-color: white;}#sk-container-id-1 div.sk-parallel-item:first-child::after {align-self: flex-end;width: 50%;}#sk-container-id-1 div.sk-parallel-item:last-child::after {align-self: flex-start;width: 50%;}#sk-container-id-1 div.sk-parallel-item:only-child::after {width: 0;}#sk-container-id-1 div.sk-dashed-wrapped {border: 1px dashed gray;margin: 0 0.4em 0.5em 0.4em;box-sizing: border-box;padding-bottom: 0.4em;background-color: white;}#sk-container-id-1 div.sk-label label {font-family: monospace;font-weight: bold;display: inline-block;line-height: 1.2em;}#sk-container-id-1 div.sk-label-container {text-align: center;}#sk-container-id-1 div.sk-container {/* jupyter's `normalize.less` sets `[hidden] { display: none; }` but bootstrap.min.css set `[hidden] { display: none !important; }` so we also need the `!important` here to be able to override the default hidden behavior on the sphinx rendered scikit-learn.org. See: https://github.com/scikit-learn/scikit-learn/issues/21755 */display: inline-block !important;position: relative;}#sk-container-id-1 div.sk-text-repr-fallback {display: none;}</style><div id=\"sk-container-id-1\" class=\"sk-top-container\"><div class=\"sk-text-repr-fallback\"><pre>Pipeline(steps=[(&#x27;scale&#x27;, StandardScaler()),\n",
       "                (&#x27;model&#x27;,\n",
       "                 LogisticRegression(l1_ratio=0.5, max_iter=5000,\n",
       "                                    penalty=&#x27;elasticnet&#x27;, solver=&#x27;saga&#x27;))])</pre><b>In a Jupyter environment, please rerun this cell to show the HTML representation or trust the notebook. <br />On GitHub, the HTML representation is unable to render, please try loading this page with nbviewer.org.</b></div><div class=\"sk-container\" hidden><div class=\"sk-item sk-dashed-wrapped\"><div class=\"sk-label-container\"><div class=\"sk-label sk-toggleable\"><input class=\"sk-toggleable__control sk-hidden--visually\" id=\"sk-estimator-id-1\" type=\"checkbox\" ><label for=\"sk-estimator-id-1\" class=\"sk-toggleable__label sk-toggleable__label-arrow\">Pipeline</label><div class=\"sk-toggleable__content\"><pre>Pipeline(steps=[(&#x27;scale&#x27;, StandardScaler()),\n",
       "                (&#x27;model&#x27;,\n",
       "                 LogisticRegression(l1_ratio=0.5, max_iter=5000,\n",
       "                                    penalty=&#x27;elasticnet&#x27;, solver=&#x27;saga&#x27;))])</pre></div></div></div><div class=\"sk-serial\"><div class=\"sk-item\"><div class=\"sk-estimator sk-toggleable\"><input class=\"sk-toggleable__control sk-hidden--visually\" id=\"sk-estimator-id-2\" type=\"checkbox\" ><label for=\"sk-estimator-id-2\" class=\"sk-toggleable__label sk-toggleable__label-arrow\">StandardScaler</label><div class=\"sk-toggleable__content\"><pre>StandardScaler()</pre></div></div></div><div class=\"sk-item\"><div class=\"sk-estimator sk-toggleable\"><input class=\"sk-toggleable__control sk-hidden--visually\" id=\"sk-estimator-id-3\" type=\"checkbox\" ><label for=\"sk-estimator-id-3\" class=\"sk-toggleable__label sk-toggleable__label-arrow\">LogisticRegression</label><div class=\"sk-toggleable__content\"><pre>LogisticRegression(l1_ratio=0.5, max_iter=5000, penalty=&#x27;elasticnet&#x27;,\n",
       "                   solver=&#x27;saga&#x27;)</pre></div></div></div></div></div></div></div>"
      ],
      "text/plain": [
       "Pipeline(steps=[('scale', StandardScaler()),\n",
       "                ('model',\n",
       "                 LogisticRegression(l1_ratio=0.5, max_iter=5000,\n",
       "                                    penalty='elasticnet', solver='saga'))])"
      ]
     },
     "execution_count": 43,
     "metadata": {},
     "output_type": "execute_result"
    }
   ],
   "source": [
    "model.fit(X_train, y_train.values.ravel())"
   ]
  },
  {
   "cell_type": "code",
   "execution_count": 44,
   "id": "af59f8c0",
   "metadata": {
    "execution": {
     "iopub.execute_input": "2025-07-30T20:33:36.746607Z",
     "iopub.status.busy": "2025-07-30T20:33:36.746182Z",
     "iopub.status.idle": "2025-07-30T20:33:36.751666Z",
     "shell.execute_reply": "2025-07-30T20:33:36.750675Z"
    },
    "papermill": {
     "duration": 0.034995,
     "end_time": "2025-07-30T20:33:36.753519",
     "exception": false,
     "start_time": "2025-07-30T20:33:36.718524",
     "status": "completed"
    },
    "tags": []
   },
   "outputs": [],
   "source": [
    "from fairness_multiverse.universe import predict_w_threshold"
   ]
  },
  {
   "cell_type": "code",
   "execution_count": 45,
   "id": "a7cf2e16",
   "metadata": {
    "execution": {
     "iopub.execute_input": "2025-07-30T20:33:36.807446Z",
     "iopub.status.busy": "2025-07-30T20:33:36.806550Z",
     "iopub.status.idle": "2025-07-30T20:33:36.996847Z",
     "shell.execute_reply": "2025-07-30T20:33:36.996167Z"
    },
    "papermill": {
     "duration": 0.218339,
     "end_time": "2025-07-30T20:33:36.998043",
     "exception": false,
     "start_time": "2025-07-30T20:33:36.779704",
     "status": "completed"
    },
    "tags": []
   },
   "outputs": [
    {
     "data": {
      "text/plain": [
       "0.8572177014825549"
      ]
     },
     "execution_count": 45,
     "metadata": {},
     "output_type": "execute_result"
    }
   ],
   "source": [
    "probs_test = model.predict_proba(X_test)\n",
    "\n",
    "'''\n",
    "Below code returns a boolean array (or binary 0/1 array depending on how it’s used) where each element \n",
    "is True if the probability of class 1 is greater than or equal to the threshold, and False otherwise.\n",
    "'''\n",
    "y_pred_default = predict_w_threshold(probs_test, 0.5)\n",
    "\n",
    "from sklearn.metrics import accuracy_score\n",
    "\n",
    "# Naive prediction\n",
    "accuracy_score(y_true = y_true, y_pred = y_pred_default)"
   ]
  },
  {
   "cell_type": "code",
   "execution_count": 46,
   "id": "081964c3",
   "metadata": {
    "execution": {
     "iopub.execute_input": "2025-07-30T20:33:37.024734Z",
     "iopub.status.busy": "2025-07-30T20:33:37.024233Z",
     "iopub.status.idle": "2025-07-30T20:33:37.196859Z",
     "shell.execute_reply": "2025-07-30T20:33:37.195865Z"
    },
    "papermill": {
     "duration": 0.187766,
     "end_time": "2025-07-30T20:33:37.198635",
     "exception": false,
     "start_time": "2025-07-30T20:33:37.010869",
     "status": "completed"
    },
    "tags": []
   },
   "outputs": [
    {
     "data": {
      "text/plain": [
       "array([0, 0, 0, ..., 0, 0, 0])"
      ]
     },
     "execution_count": 46,
     "metadata": {},
     "output_type": "execute_result"
    }
   ],
   "source": [
    "model.predict(X_test)"
   ]
  },
  {
   "cell_type": "markdown",
   "id": "56c9705b",
   "metadata": {
    "papermill": {
     "duration": 0.026773,
     "end_time": "2025-07-30T20:33:37.252850",
     "exception": false,
     "start_time": "2025-07-30T20:33:37.226077",
     "status": "completed"
    },
    "tags": []
   },
   "source": [
    "# Conformal Prediction"
   ]
  },
  {
   "cell_type": "code",
   "execution_count": 47,
   "id": "160ec6ff",
   "metadata": {
    "execution": {
     "iopub.execute_input": "2025-07-30T20:33:37.302015Z",
     "iopub.status.busy": "2025-07-30T20:33:37.301070Z",
     "iopub.status.idle": "2025-07-30T20:33:37.306646Z",
     "shell.execute_reply": "2025-07-30T20:33:37.305556Z"
    },
    "papermill": {
     "duration": 0.031693,
     "end_time": "2025-07-30T20:33:37.308209",
     "exception": false,
     "start_time": "2025-07-30T20:33:37.276516",
     "status": "completed"
    },
    "tags": []
   },
   "outputs": [],
   "source": [
    "# Miscoverage level for conformal prediction (10% allowed error rate => 90% target coverage)\n",
    "alpha = 0.1"
   ]
  },
  {
   "cell_type": "code",
   "execution_count": 48,
   "id": "eadf4555-3dd3-440e-8e35-f82a4ad9f855",
   "metadata": {
    "execution": {
     "iopub.execute_input": "2025-07-30T20:33:37.359650Z",
     "iopub.status.busy": "2025-07-30T20:33:37.359125Z",
     "iopub.status.idle": "2025-07-30T20:33:37.550596Z",
     "shell.execute_reply": "2025-07-30T20:33:37.549548Z"
    },
    "papermill": {
     "duration": 0.218773,
     "end_time": "2025-07-30T20:33:37.552507",
     "exception": false,
     "start_time": "2025-07-30T20:33:37.333734",
     "status": "completed"
    },
    "tags": []
   },
   "outputs": [],
   "source": [
    "probs_calib = model.predict_proba(X_calib)"
   ]
  },
  {
   "cell_type": "code",
   "execution_count": 49,
   "id": "2ed93547-6d5d-4983-9b36-1ecb300da49a",
   "metadata": {
    "execution": {
     "iopub.execute_input": "2025-07-30T20:33:37.583201Z",
     "iopub.status.busy": "2025-07-30T20:33:37.582821Z",
     "iopub.status.idle": "2025-07-30T20:33:37.587824Z",
     "shell.execute_reply": "2025-07-30T20:33:37.587006Z"
    },
    "papermill": {
     "duration": 0.019609,
     "end_time": "2025-07-30T20:33:37.589128",
     "exception": false,
     "start_time": "2025-07-30T20:33:37.569519",
     "status": "completed"
    },
    "tags": []
   },
   "outputs": [],
   "source": [
    "y_calib = y_calib.values.ravel().astype(int)"
   ]
  },
  {
   "cell_type": "code",
   "execution_count": 50,
   "id": "65d1320d-f588-4b38-9072-62af1ae97f7d",
   "metadata": {
    "execution": {
     "iopub.execute_input": "2025-07-30T20:33:37.615505Z",
     "iopub.status.busy": "2025-07-30T20:33:37.614974Z",
     "iopub.status.idle": "2025-07-30T20:33:37.620681Z",
     "shell.execute_reply": "2025-07-30T20:33:37.620011Z"
    },
    "papermill": {
     "duration": 0.019507,
     "end_time": "2025-07-30T20:33:37.621989",
     "exception": false,
     "start_time": "2025-07-30T20:33:37.602482",
     "status": "completed"
    },
    "tags": []
   },
   "outputs": [],
   "source": [
    "from fairness_multiverse.conformal import compute_nc_scores\n",
    "\n",
    "# Compute nonconformity scores on calibration set (1 - probability of true class)\n",
    "nc_scores = compute_nc_scores(probs_calib, y_calib)"
   ]
  },
  {
   "cell_type": "code",
   "execution_count": 51,
   "id": "df3b8ca3-53b7-43d5-9667-7c85da7aeda2",
   "metadata": {
    "execution": {
     "iopub.execute_input": "2025-07-30T20:33:37.656409Z",
     "iopub.status.busy": "2025-07-30T20:33:37.655527Z",
     "iopub.status.idle": "2025-07-30T20:33:37.662519Z",
     "shell.execute_reply": "2025-07-30T20:33:37.661571Z"
    },
    "papermill": {
     "duration": 0.029619,
     "end_time": "2025-07-30T20:33:37.664187",
     "exception": false,
     "start_time": "2025-07-30T20:33:37.634568",
     "status": "completed"
    },
    "tags": []
   },
   "outputs": [],
   "source": [
    "from fairness_multiverse.conformal import find_threshold\n",
    "\n",
    "# Find conformal threshold q_hat for the given alpha (split conformal method)\n",
    "q_hat = find_threshold(nc_scores, alpha)"
   ]
  },
  {
   "cell_type": "code",
   "execution_count": 52,
   "id": "4d29e6c1-0ef6-4aa4-b8fe-4fe79b0d033a",
   "metadata": {
    "execution": {
     "iopub.execute_input": "2025-07-30T20:33:37.713837Z",
     "iopub.status.busy": "2025-07-30T20:33:37.713318Z",
     "iopub.status.idle": "2025-07-30T20:33:37.720792Z",
     "shell.execute_reply": "2025-07-30T20:33:37.719750Z"
    },
    "papermill": {
     "duration": 0.035268,
     "end_time": "2025-07-30T20:33:37.722460",
     "exception": false,
     "start_time": "2025-07-30T20:33:37.687192",
     "status": "completed"
    },
    "tags": []
   },
   "outputs": [
    {
     "data": {
      "text/plain": [
       "0.667180862271235"
      ]
     },
     "execution_count": 52,
     "metadata": {},
     "output_type": "execute_result"
    }
   ],
   "source": [
    "q_hat"
   ]
  },
  {
   "cell_type": "code",
   "execution_count": 53,
   "id": "92460794-cdac-4be2-ba28-f28c0515a6fb",
   "metadata": {
    "execution": {
     "iopub.execute_input": "2025-07-30T20:33:37.771574Z",
     "iopub.status.busy": "2025-07-30T20:33:37.770909Z",
     "iopub.status.idle": "2025-07-30T20:33:38.632985Z",
     "shell.execute_reply": "2025-07-30T20:33:38.632158Z"
    },
    "papermill": {
     "duration": 0.88591,
     "end_time": "2025-07-30T20:33:38.634855",
     "exception": false,
     "start_time": "2025-07-30T20:33:37.748945",
     "status": "completed"
    },
    "tags": []
   },
   "outputs": [],
   "source": [
    "from fairness_multiverse.conformal import predict_conformal_sets\n",
    "\n",
    "# Generate prediction sets for each test example\n",
    "pred_sets = predict_conformal_sets(model, X_test, q_hat)"
   ]
  },
  {
   "cell_type": "code",
   "execution_count": 54,
   "id": "d90c9a65-e6db-4f5d-80cd-e68fb7e46829",
   "metadata": {
    "execution": {
     "iopub.execute_input": "2025-07-30T20:33:38.685134Z",
     "iopub.status.busy": "2025-07-30T20:33:38.684640Z",
     "iopub.status.idle": "2025-07-30T20:33:38.689061Z",
     "shell.execute_reply": "2025-07-30T20:33:38.688370Z"
    },
    "papermill": {
     "duration": 0.030871,
     "end_time": "2025-07-30T20:33:38.690551",
     "exception": false,
     "start_time": "2025-07-30T20:33:38.659680",
     "status": "completed"
    },
    "tags": []
   },
   "outputs": [],
   "source": [
    "y_true = y_true.squeeze()"
   ]
  },
  {
   "cell_type": "code",
   "execution_count": 55,
   "id": "3a58a54a-1e68-46b9-927a-df01f18aebc8",
   "metadata": {
    "execution": {
     "iopub.execute_input": "2025-07-30T20:33:38.740323Z",
     "iopub.status.busy": "2025-07-30T20:33:38.740003Z",
     "iopub.status.idle": "2025-07-30T20:33:39.501626Z",
     "shell.execute_reply": "2025-07-30T20:33:39.500615Z"
    },
    "papermill": {
     "duration": 0.788299,
     "end_time": "2025-07-30T20:33:39.503794",
     "exception": false,
     "start_time": "2025-07-30T20:33:38.715495",
     "status": "completed"
    },
    "tags": []
   },
   "outputs": [],
   "source": [
    "from fairness_multiverse.conformal import evaluate_sets\n",
    "\n",
    "# Evaluate coverage and average set size on test data\n",
    "metrics = evaluate_sets(pred_sets, y_true)"
   ]
  },
  {
   "cell_type": "markdown",
   "id": "2b569c12-9aaa-4c88-98c9-bbcd0cf3ebb8",
   "metadata": {
    "papermill": {
     "duration": 0.023986,
     "end_time": "2025-07-30T20:33:39.552843",
     "exception": false,
     "start_time": "2025-07-30T20:33:39.528857",
     "status": "completed"
    },
    "tags": []
   },
   "source": [
    "# CP Metrics"
   ]
  },
  {
   "cell_type": "code",
   "execution_count": 56,
   "id": "5ce0a5cb-201f-45a0-ade5-94c7f0bd6095",
   "metadata": {
    "execution": {
     "iopub.execute_input": "2025-07-30T20:33:39.604917Z",
     "iopub.status.busy": "2025-07-30T20:33:39.604065Z",
     "iopub.status.idle": "2025-07-30T20:33:39.611939Z",
     "shell.execute_reply": "2025-07-30T20:33:39.610970Z"
    },
    "papermill": {
     "duration": 0.035532,
     "end_time": "2025-07-30T20:33:39.613488",
     "exception": false,
     "start_time": "2025-07-30T20:33:39.577956",
     "status": "completed"
    },
    "tags": []
   },
   "outputs": [
    {
     "data": {
      "text/plain": [
       "{'coverage': 0.9090179467171998, 'avg_size': 1.1262401070114814}"
      ]
     },
     "execution_count": 56,
     "metadata": {},
     "output_type": "execute_result"
    }
   ],
   "source": [
    "metrics"
   ]
  },
  {
   "cell_type": "code",
   "execution_count": 57,
   "id": "9b9a838d-31c9-430b-ae14-12baee460d17",
   "metadata": {
    "execution": {
     "iopub.execute_input": "2025-07-30T20:33:39.666028Z",
     "iopub.status.busy": "2025-07-30T20:33:39.665325Z",
     "iopub.status.idle": "2025-07-30T20:33:39.671782Z",
     "shell.execute_reply": "2025-07-30T20:33:39.670762Z"
    },
    "papermill": {
     "duration": 0.034365,
     "end_time": "2025-07-30T20:33:39.673435",
     "exception": false,
     "start_time": "2025-07-30T20:33:39.639070",
     "status": "completed"
    },
    "tags": []
   },
   "outputs": [],
   "source": [
    "example_universe = universe.copy()\n",
    "universe_training_year = example_universe.get(\"training_year\")\n",
    "universe_training_size = example_universe.get(\"training_size\")\n",
    "universe_scale = example_universe.get(\"scale\")\n",
    "universe_model = example_universe.get(\"model\")\n",
    "universe_exclude_features = example_universe.get(\"exclude_features\")\n",
    "universe_exclude_subgroups = example_universe.get(\"exclude_subgroups\")"
   ]
  },
  {
   "cell_type": "code",
   "execution_count": 58,
   "id": "f4b6a8ac-9dc0-4245-8a91-5b3b5999c4f9",
   "metadata": {
    "execution": {
     "iopub.execute_input": "2025-07-30T20:33:39.726905Z",
     "iopub.status.busy": "2025-07-30T20:33:39.726330Z",
     "iopub.status.idle": "2025-07-30T20:33:39.732897Z",
     "shell.execute_reply": "2025-07-30T20:33:39.731961Z"
    },
    "papermill": {
     "duration": 0.035453,
     "end_time": "2025-07-30T20:33:39.735022",
     "exception": false,
     "start_time": "2025-07-30T20:33:39.699569",
     "status": "completed"
    },
    "tags": []
   },
   "outputs": [],
   "source": [
    "cp_metrics_dict = {\n",
    "    \"universe_id\": [universe_id],\n",
    "    \"universe_training_year\": [universe_training_year],\n",
    "    \"universe_training_size\": [universe_training_size],\n",
    "    \"universe_scale\": [universe_scale],\n",
    "    \"universe_model\": [universe_model],\n",
    "    \"universe_exclude_features\": [universe_exclude_features],\n",
    "    \"universe_exclude_subgroups\": [universe_exclude_subgroups],\n",
    "    \"q_hat\": [q_hat],\n",
    "    \"coverage\": [metrics[\"coverage\"]],\n",
    "    \"avg_size\": [metrics[\"avg_size\"]],\n",
    "}"
   ]
  },
  {
   "cell_type": "code",
   "execution_count": 59,
   "id": "908acbb1-0371-4915-85ca-3fa520d2efe2",
   "metadata": {
    "execution": {
     "iopub.execute_input": "2025-07-30T20:33:39.790016Z",
     "iopub.status.busy": "2025-07-30T20:33:39.789115Z",
     "iopub.status.idle": "2025-07-30T20:33:39.796778Z",
     "shell.execute_reply": "2025-07-30T20:33:39.795875Z"
    },
    "papermill": {
     "duration": 0.036475,
     "end_time": "2025-07-30T20:33:39.798355",
     "exception": false,
     "start_time": "2025-07-30T20:33:39.761880",
     "status": "completed"
    },
    "tags": []
   },
   "outputs": [
    {
     "data": {
      "text/plain": [
       "{'universe_id': ['76f037f7b14a14c482405cedc437a393'],\n",
       " 'universe_training_year': ['2010_14'],\n",
       " 'universe_training_size': ['25k'],\n",
       " 'universe_scale': ['scale'],\n",
       " 'universe_model': ['elasticnet'],\n",
       " 'universe_exclude_features': ['age'],\n",
       " 'universe_exclude_subgroups': ['drop-non-german'],\n",
       " 'q_hat': [0.667180862271235],\n",
       " 'coverage': [0.9090179467171998],\n",
       " 'avg_size': [1.1262401070114814]}"
      ]
     },
     "execution_count": 59,
     "metadata": {},
     "output_type": "execute_result"
    }
   ],
   "source": [
    "cp_metrics_dict"
   ]
  },
  {
   "cell_type": "code",
   "execution_count": 60,
   "id": "33007efc-14e9-4ec6-97ac-56a455c82265",
   "metadata": {
    "execution": {
     "iopub.execute_input": "2025-07-30T20:33:39.853291Z",
     "iopub.status.busy": "2025-07-30T20:33:39.852648Z",
     "iopub.status.idle": "2025-07-30T20:33:39.859697Z",
     "shell.execute_reply": "2025-07-30T20:33:39.858690Z"
    },
    "papermill": {
     "duration": 0.036482,
     "end_time": "2025-07-30T20:33:39.861468",
     "exception": false,
     "start_time": "2025-07-30T20:33:39.824986",
     "status": "completed"
    },
    "tags": []
   },
   "outputs": [],
   "source": [
    "cp_metrics_df = pd.DataFrame(cp_metrics_dict)"
   ]
  },
  {
   "cell_type": "code",
   "execution_count": 61,
   "id": "db12611b-57b2-4910-b9d0-355adfd6e7bf",
   "metadata": {
    "execution": {
     "iopub.execute_input": "2025-07-30T20:33:39.918402Z",
     "iopub.status.busy": "2025-07-30T20:33:39.917871Z",
     "iopub.status.idle": "2025-07-30T20:33:39.938150Z",
     "shell.execute_reply": "2025-07-30T20:33:39.937256Z"
    },
    "papermill": {
     "duration": 0.050692,
     "end_time": "2025-07-30T20:33:39.939829",
     "exception": false,
     "start_time": "2025-07-30T20:33:39.889137",
     "status": "completed"
    },
    "tags": []
   },
   "outputs": [
    {
     "data": {
      "text/html": [
       "<div>\n",
       "<style scoped>\n",
       "    .dataframe tbody tr th:only-of-type {\n",
       "        vertical-align: middle;\n",
       "    }\n",
       "\n",
       "    .dataframe tbody tr th {\n",
       "        vertical-align: top;\n",
       "    }\n",
       "\n",
       "    .dataframe thead th {\n",
       "        text-align: right;\n",
       "    }\n",
       "</style>\n",
       "<table border=\"1\" class=\"dataframe\">\n",
       "  <thead>\n",
       "    <tr style=\"text-align: right;\">\n",
       "      <th></th>\n",
       "      <th>universe_id</th>\n",
       "      <th>universe_training_year</th>\n",
       "      <th>universe_training_size</th>\n",
       "      <th>universe_scale</th>\n",
       "      <th>universe_model</th>\n",
       "      <th>universe_exclude_features</th>\n",
       "      <th>universe_exclude_subgroups</th>\n",
       "      <th>q_hat</th>\n",
       "      <th>coverage</th>\n",
       "      <th>avg_size</th>\n",
       "    </tr>\n",
       "  </thead>\n",
       "  <tbody>\n",
       "    <tr>\n",
       "      <th>0</th>\n",
       "      <td>76f037f7b14a14c482405cedc437a393</td>\n",
       "      <td>2010_14</td>\n",
       "      <td>25k</td>\n",
       "      <td>scale</td>\n",
       "      <td>elasticnet</td>\n",
       "      <td>age</td>\n",
       "      <td>drop-non-german</td>\n",
       "      <td>0.667181</td>\n",
       "      <td>0.909018</td>\n",
       "      <td>1.12624</td>\n",
       "    </tr>\n",
       "  </tbody>\n",
       "</table>\n",
       "</div>"
      ],
      "text/plain": [
       "                        universe_id universe_training_year  \\\n",
       "0  76f037f7b14a14c482405cedc437a393                2010_14   \n",
       "\n",
       "  universe_training_size universe_scale universe_model  \\\n",
       "0                    25k          scale     elasticnet   \n",
       "\n",
       "  universe_exclude_features universe_exclude_subgroups     q_hat  coverage  \\\n",
       "0                       age            drop-non-german  0.667181  0.909018   \n",
       "\n",
       "   avg_size  \n",
       "0   1.12624  "
      ]
     },
     "execution_count": 61,
     "metadata": {},
     "output_type": "execute_result"
    }
   ],
   "source": [
    "cp_metrics_df"
   ]
  },
  {
   "cell_type": "code",
   "execution_count": 62,
   "id": "b7fbde55-a0a1-47e4-9af6-fe4a17fa8c61",
   "metadata": {
    "execution": {
     "iopub.execute_input": "2025-07-30T20:33:39.997950Z",
     "iopub.status.busy": "2025-07-30T20:33:39.997274Z",
     "iopub.status.idle": "2025-07-30T20:33:40.003001Z",
     "shell.execute_reply": "2025-07-30T20:33:40.002007Z"
    },
    "papermill": {
     "duration": 0.036202,
     "end_time": "2025-07-30T20:33:40.004733",
     "exception": false,
     "start_time": "2025-07-30T20:33:39.968531",
     "status": "completed"
    },
    "tags": []
   },
   "outputs": [],
   "source": [
    "# Conditional Coverage & looking at subgroups"
   ]
  },
  {
   "cell_type": "code",
   "execution_count": 63,
   "id": "027ae886-68dd-4141-96c7-805a5450e1ef",
   "metadata": {
    "execution": {
     "iopub.execute_input": "2025-07-30T20:33:40.060300Z",
     "iopub.status.busy": "2025-07-30T20:33:40.059717Z",
     "iopub.status.idle": "2025-07-30T20:33:40.336354Z",
     "shell.execute_reply": "2025-07-30T20:33:40.335324Z"
    },
    "papermill": {
     "duration": 0.305932,
     "end_time": "2025-07-30T20:33:40.338378",
     "exception": false,
     "start_time": "2025-07-30T20:33:40.032446",
     "status": "completed"
    },
    "tags": []
   },
   "outputs": [],
   "source": [
    "from fairness_multiverse.conformal import build_cp_groups\n",
    "\n",
    "cp_groups_df = build_cp_groups(pred_sets, y_true, X_test.index, org_test)\n",
    "#needs universe_id and setting"
   ]
  },
  {
   "cell_type": "code",
   "execution_count": 64,
   "id": "01d5802c-663a-4d1f-9d69-e036faaffbf7",
   "metadata": {
    "execution": {
     "iopub.execute_input": "2025-07-30T20:33:40.396217Z",
     "iopub.status.busy": "2025-07-30T20:33:40.395638Z",
     "iopub.status.idle": "2025-07-30T20:33:40.400752Z",
     "shell.execute_reply": "2025-07-30T20:33:40.399759Z"
    },
    "papermill": {
     "duration": 0.035644,
     "end_time": "2025-07-30T20:33:40.402390",
     "exception": false,
     "start_time": "2025-07-30T20:33:40.366746",
     "status": "completed"
    },
    "tags": []
   },
   "outputs": [],
   "source": [
    "#delete\n",
    "#cp_groups_df"
   ]
  },
  {
   "cell_type": "code",
   "execution_count": 65,
   "id": "fa424af1-d1eb-443d-b717-2d279ada8408",
   "metadata": {
    "execution": {
     "iopub.execute_input": "2025-07-30T20:33:40.455187Z",
     "iopub.status.busy": "2025-07-30T20:33:40.454221Z",
     "iopub.status.idle": "2025-07-30T20:33:40.459661Z",
     "shell.execute_reply": "2025-07-30T20:33:40.458623Z"
    },
    "papermill": {
     "duration": 0.03337,
     "end_time": "2025-07-30T20:33:40.461513",
     "exception": false,
     "start_time": "2025-07-30T20:33:40.428143",
     "status": "completed"
    },
    "tags": []
   },
   "outputs": [],
   "source": [
    "#delete\n",
    "#percentage = (cp_groups_df['nongerman_female'] == 1).mean() * 100\n",
    "#print(percentage)\n"
   ]
  },
  {
   "cell_type": "code",
   "execution_count": 66,
   "id": "6cbdab96-b2b2-45af-ad54-d0516db2e28d",
   "metadata": {
    "execution": {
     "iopub.execute_input": "2025-07-30T20:33:40.515587Z",
     "iopub.status.busy": "2025-07-30T20:33:40.514540Z",
     "iopub.status.idle": "2025-07-30T20:33:42.080987Z",
     "shell.execute_reply": "2025-07-30T20:33:42.079543Z"
    },
    "papermill": {
     "duration": 1.594933,
     "end_time": "2025-07-30T20:33:42.083020",
     "exception": false,
     "start_time": "2025-07-30T20:33:40.488087",
     "status": "completed"
    },
    "tags": []
   },
   "outputs": [],
   "source": [
    "# Define covered = 1 if true_label is in the predicted set\n",
    "cp_groups_df['covered'] = cp_groups_df.apply(\n",
    "    lambda r: int(r['true_label'] in r['pred_set']),\n",
    "    axis=1\n",
    ")"
   ]
  },
  {
   "cell_type": "code",
   "execution_count": 67,
   "id": "338ff529-1a6b-4b87-a931-8e4788d52aad",
   "metadata": {
    "execution": {
     "iopub.execute_input": "2025-07-30T20:33:42.137124Z",
     "iopub.status.busy": "2025-07-30T20:33:42.136390Z",
     "iopub.status.idle": "2025-07-30T20:33:42.142366Z",
     "shell.execute_reply": "2025-07-30T20:33:42.141347Z"
    },
    "papermill": {
     "duration": 0.035086,
     "end_time": "2025-07-30T20:33:42.143989",
     "exception": false,
     "start_time": "2025-07-30T20:33:42.108903",
     "status": "completed"
    },
    "tags": []
   },
   "outputs": [],
   "source": [
    "#cp_groups_df"
   ]
  },
  {
   "cell_type": "code",
   "execution_count": 68,
   "id": "90032e27-66df-4540-9169-4e89cfbaa758",
   "metadata": {
    "execution": {
     "iopub.execute_input": "2025-07-30T20:33:42.254512Z",
     "iopub.status.busy": "2025-07-30T20:33:42.253851Z",
     "iopub.status.idle": "2025-07-30T20:33:42.265733Z",
     "shell.execute_reply": "2025-07-30T20:33:42.264859Z"
    },
    "papermill": {
     "duration": 0.096698,
     "end_time": "2025-07-30T20:33:42.267268",
     "exception": false,
     "start_time": "2025-07-30T20:33:42.170570",
     "status": "completed"
    },
    "tags": []
   },
   "outputs": [],
   "source": [
    "subgroups = ['frau1','nongerman','nongerman_male','nongerman_female']\n",
    "\n",
    "# Conditional coverage for subgroup==1\n",
    "cond_coverage = {\n",
    "    g: cp_groups_df.loc[cp_groups_df[g]==1, 'covered'].mean()\n",
    "    for g in subgroups\n",
    "}"
   ]
  },
  {
   "cell_type": "code",
   "execution_count": 69,
   "id": "1e348fb1-b9c3-45bc-ba23-f016827a7e0d",
   "metadata": {
    "execution": {
     "iopub.execute_input": "2025-07-30T20:33:42.322268Z",
     "iopub.status.busy": "2025-07-30T20:33:42.321607Z",
     "iopub.status.idle": "2025-07-30T20:33:42.329751Z",
     "shell.execute_reply": "2025-07-30T20:33:42.328792Z"
    },
    "papermill": {
     "duration": 0.036722,
     "end_time": "2025-07-30T20:33:42.331434",
     "exception": false,
     "start_time": "2025-07-30T20:33:42.294712",
     "status": "completed"
    },
    "tags": []
   },
   "outputs": [
    {
     "data": {
      "text/plain": [
       "{'frau1': 0.906860762906052,\n",
       " 'nongerman': 0.9050131926121372,\n",
       " 'nongerman_male': 0.9227235882194001,\n",
       " 'nongerman_female': 0.8757078986587183}"
      ]
     },
     "execution_count": 69,
     "metadata": {},
     "output_type": "execute_result"
    }
   ],
   "source": [
    "cond_coverage"
   ]
  },
  {
   "cell_type": "code",
   "execution_count": 70,
   "id": "f5093324-c3dd-4d63-bc4c-8d945e5c8bbb",
   "metadata": {
    "execution": {
     "iopub.execute_input": "2025-07-30T20:33:42.387296Z",
     "iopub.status.busy": "2025-07-30T20:33:42.386629Z",
     "iopub.status.idle": "2025-07-30T20:33:42.395051Z",
     "shell.execute_reply": "2025-07-30T20:33:42.393783Z"
    },
    "papermill": {
     "duration": 0.03816,
     "end_time": "2025-07-30T20:33:42.396771",
     "exception": false,
     "start_time": "2025-07-30T20:33:42.358611",
     "status": "completed"
    },
    "tags": []
   },
   "outputs": [],
   "source": [
    "for subgroup, cov in cond_coverage.items():\n",
    "    cp_metrics_df[f\"cov_{subgroup}\"] = cov"
   ]
  },
  {
   "cell_type": "code",
   "execution_count": 71,
   "id": "6e872e10-dbe5-49e8-b554-5030c98ff75d",
   "metadata": {
    "execution": {
     "iopub.execute_input": "2025-07-30T20:33:42.452743Z",
     "iopub.status.busy": "2025-07-30T20:33:42.452087Z",
     "iopub.status.idle": "2025-07-30T20:33:42.471911Z",
     "shell.execute_reply": "2025-07-30T20:33:42.470825Z"
    },
    "papermill": {
     "duration": 0.049387,
     "end_time": "2025-07-30T20:33:42.473507",
     "exception": false,
     "start_time": "2025-07-30T20:33:42.424120",
     "status": "completed"
    },
    "tags": []
   },
   "outputs": [
    {
     "data": {
      "text/html": [
       "<div>\n",
       "<style scoped>\n",
       "    .dataframe tbody tr th:only-of-type {\n",
       "        vertical-align: middle;\n",
       "    }\n",
       "\n",
       "    .dataframe tbody tr th {\n",
       "        vertical-align: top;\n",
       "    }\n",
       "\n",
       "    .dataframe thead th {\n",
       "        text-align: right;\n",
       "    }\n",
       "</style>\n",
       "<table border=\"1\" class=\"dataframe\">\n",
       "  <thead>\n",
       "    <tr style=\"text-align: right;\">\n",
       "      <th></th>\n",
       "      <th>universe_id</th>\n",
       "      <th>universe_training_year</th>\n",
       "      <th>universe_training_size</th>\n",
       "      <th>universe_scale</th>\n",
       "      <th>universe_model</th>\n",
       "      <th>universe_exclude_features</th>\n",
       "      <th>universe_exclude_subgroups</th>\n",
       "      <th>q_hat</th>\n",
       "      <th>coverage</th>\n",
       "      <th>avg_size</th>\n",
       "      <th>cov_frau1</th>\n",
       "      <th>cov_nongerman</th>\n",
       "      <th>cov_nongerman_male</th>\n",
       "      <th>cov_nongerman_female</th>\n",
       "    </tr>\n",
       "  </thead>\n",
       "  <tbody>\n",
       "    <tr>\n",
       "      <th>0</th>\n",
       "      <td>76f037f7b14a14c482405cedc437a393</td>\n",
       "      <td>2010_14</td>\n",
       "      <td>25k</td>\n",
       "      <td>scale</td>\n",
       "      <td>elasticnet</td>\n",
       "      <td>age</td>\n",
       "      <td>drop-non-german</td>\n",
       "      <td>0.667181</td>\n",
       "      <td>0.909018</td>\n",
       "      <td>1.12624</td>\n",
       "      <td>0.906861</td>\n",
       "      <td>0.905013</td>\n",
       "      <td>0.922724</td>\n",
       "      <td>0.875708</td>\n",
       "    </tr>\n",
       "  </tbody>\n",
       "</table>\n",
       "</div>"
      ],
      "text/plain": [
       "                        universe_id universe_training_year  \\\n",
       "0  76f037f7b14a14c482405cedc437a393                2010_14   \n",
       "\n",
       "  universe_training_size universe_scale universe_model  \\\n",
       "0                    25k          scale     elasticnet   \n",
       "\n",
       "  universe_exclude_features universe_exclude_subgroups     q_hat  coverage  \\\n",
       "0                       age            drop-non-german  0.667181  0.909018   \n",
       "\n",
       "   avg_size  cov_frau1  cov_nongerman  cov_nongerman_male  \\\n",
       "0   1.12624   0.906861       0.905013            0.922724   \n",
       "\n",
       "   cov_nongerman_female  \n",
       "0              0.875708  "
      ]
     },
     "execution_count": 71,
     "metadata": {},
     "output_type": "execute_result"
    }
   ],
   "source": [
    "cp_metrics_df"
   ]
  },
  {
   "cell_type": "markdown",
   "id": "33774451",
   "metadata": {
    "papermill": {
     "duration": 0.024643,
     "end_time": "2025-07-30T20:33:42.524913",
     "exception": false,
     "start_time": "2025-07-30T20:33:42.500270",
     "status": "completed"
    },
    "tags": []
   },
   "source": [
    "# (Fairness) Metrics"
   ]
  },
  {
   "cell_type": "code",
   "execution_count": 72,
   "id": "debc5d62",
   "metadata": {
    "execution": {
     "iopub.execute_input": "2025-07-30T20:33:42.578340Z",
     "iopub.status.busy": "2025-07-30T20:33:42.577728Z",
     "iopub.status.idle": "2025-07-30T20:33:42.599045Z",
     "shell.execute_reply": "2025-07-30T20:33:42.598037Z"
    },
    "papermill": {
     "duration": 0.050191,
     "end_time": "2025-07-30T20:33:42.600892",
     "exception": false,
     "start_time": "2025-07-30T20:33:42.550701",
     "status": "completed"
    },
    "tags": []
   },
   "outputs": [],
   "source": [
    "# do I need to include maxdeutsch1.missing?\n",
    "\n",
    "import numpy as np\n",
    "\n",
    "colname_to_bin = \"maxdeutsch1\"\n",
    "majority_value = org_train[colname_to_bin].mode()[0]\n",
    "\n",
    "org_test[\"majmin\"] = np.where(org_test[colname_to_bin] == majority_value, \"majority\", \"minority\")"
   ]
  },
  {
   "cell_type": "code",
   "execution_count": 73,
   "id": "06a50de5",
   "metadata": {
    "execution": {
     "iopub.execute_input": "2025-07-30T20:33:42.656194Z",
     "iopub.status.busy": "2025-07-30T20:33:42.655265Z",
     "iopub.status.idle": "2025-07-30T20:33:45.452675Z",
     "shell.execute_reply": "2025-07-30T20:33:45.451405Z"
    },
    "papermill": {
     "duration": 2.827122,
     "end_time": "2025-07-30T20:33:45.455065",
     "exception": false,
     "start_time": "2025-07-30T20:33:42.627943",
     "status": "completed"
    },
    "tags": []
   },
   "outputs": [],
   "source": [
    "example_universe = universe.copy()\n",
    "example_universe[\"cutoff\"] = example_universe[\"cutoff\"][0]\n",
    "example_universe[\"eval_fairness_grouping\"] = example_universe[\"eval_fairness_grouping\"][0]\n",
    "fairness_dict, metric_frame = universe_analysis.compute_metrics(\n",
    "    example_universe,\n",
    "    y_pred_prob=probs_test,\n",
    "    y_test=y_true,\n",
    "    org_test=org_test,\n",
    ")"
   ]
  },
  {
   "cell_type": "markdown",
   "id": "f95d4e02",
   "metadata": {
    "papermill": {
     "duration": 0.025419,
     "end_time": "2025-07-30T20:33:45.508086",
     "exception": false,
     "start_time": "2025-07-30T20:33:45.482667",
     "status": "completed"
    },
    "tags": []
   },
   "source": [
    "# Overall"
   ]
  },
  {
   "cell_type": "markdown",
   "id": "bdee4871",
   "metadata": {
    "papermill": {
     "duration": 0.025448,
     "end_time": "2025-07-30T20:33:45.559715",
     "exception": false,
     "start_time": "2025-07-30T20:33:45.534267",
     "status": "completed"
    },
    "tags": []
   },
   "source": [
    "Fairness\n",
    "Main fairness target: Equalized Odds. Seems to be a better fit than equal opportunity, since we're not only interested in Y = 1. Seems to be a better fit than demographic parity, since we also care about accuracy, not just equal distribution of preds.\n",
    "\n",
    "Pick column for computation of fairness metrics\n",
    "\n",
    "Performance\n",
    "Overall performance measures, most interesting in relation to the measures split by group below"
   ]
  },
  {
   "cell_type": "code",
   "execution_count": 74,
   "id": "c4e067c6",
   "metadata": {
    "execution": {
     "iopub.execute_input": "2025-07-30T20:33:45.612991Z",
     "iopub.status.busy": "2025-07-30T20:33:45.612318Z",
     "iopub.status.idle": "2025-07-30T20:33:45.621253Z",
     "shell.execute_reply": "2025-07-30T20:33:45.620375Z"
    },
    "papermill": {
     "duration": 0.037578,
     "end_time": "2025-07-30T20:33:45.622695",
     "exception": false,
     "start_time": "2025-07-30T20:33:45.585117",
     "status": "completed"
    },
    "tags": []
   },
   "outputs": [
    {
     "data": {
      "text/plain": [
       "accuracy                   0.225114\n",
       "balanced accuracy          0.550280\n",
       "f1                         0.246425\n",
       "precision                  0.140775\n",
       "false positive rate        0.887100\n",
       "false negative rate        0.012339\n",
       "selection rate             0.900000\n",
       "count                  89710.000000\n",
       "dtype: float64"
      ]
     },
     "execution_count": 74,
     "metadata": {},
     "output_type": "execute_result"
    }
   ],
   "source": [
    "metric_frame.overall"
   ]
  },
  {
   "cell_type": "markdown",
   "id": "e968fe9d",
   "metadata": {
    "papermill": {
     "duration": 0.025916,
     "end_time": "2025-07-30T20:33:45.674806",
     "exception": false,
     "start_time": "2025-07-30T20:33:45.648890",
     "status": "completed"
    },
    "tags": []
   },
   "source": [
    "By Group"
   ]
  },
  {
   "cell_type": "code",
   "execution_count": 75,
   "id": "ec325bce",
   "metadata": {
    "execution": {
     "iopub.execute_input": "2025-07-30T20:33:45.728964Z",
     "iopub.status.busy": "2025-07-30T20:33:45.728501Z",
     "iopub.status.idle": "2025-07-30T20:33:45.744741Z",
     "shell.execute_reply": "2025-07-30T20:33:45.743842Z"
    },
    "papermill": {
     "duration": 0.044759,
     "end_time": "2025-07-30T20:33:45.746280",
     "exception": false,
     "start_time": "2025-07-30T20:33:45.701521",
     "status": "completed"
    },
    "tags": []
   },
   "outputs": [
    {
     "data": {
      "text/html": [
       "<div>\n",
       "<style scoped>\n",
       "    .dataframe tbody tr th:only-of-type {\n",
       "        vertical-align: middle;\n",
       "    }\n",
       "\n",
       "    .dataframe tbody tr th {\n",
       "        vertical-align: top;\n",
       "    }\n",
       "\n",
       "    .dataframe thead th {\n",
       "        text-align: right;\n",
       "    }\n",
       "</style>\n",
       "<table border=\"1\" class=\"dataframe\">\n",
       "  <thead>\n",
       "    <tr style=\"text-align: right;\">\n",
       "      <th></th>\n",
       "      <th>accuracy</th>\n",
       "      <th>balanced accuracy</th>\n",
       "      <th>f1</th>\n",
       "      <th>precision</th>\n",
       "      <th>false positive rate</th>\n",
       "      <th>false negative rate</th>\n",
       "      <th>selection rate</th>\n",
       "      <th>count</th>\n",
       "    </tr>\n",
       "    <tr>\n",
       "      <th>majmin</th>\n",
       "      <th></th>\n",
       "      <th></th>\n",
       "      <th></th>\n",
       "      <th></th>\n",
       "      <th></th>\n",
       "      <th></th>\n",
       "      <th></th>\n",
       "      <th></th>\n",
       "    </tr>\n",
       "  </thead>\n",
       "  <tbody>\n",
       "    <tr>\n",
       "      <th>majority</th>\n",
       "      <td>0.244586</td>\n",
       "      <td>0.559405</td>\n",
       "      <td>0.256728</td>\n",
       "      <td>0.147547</td>\n",
       "      <td>0.868499</td>\n",
       "      <td>0.012691</td>\n",
       "      <td>0.884198</td>\n",
       "      <td>69170.0</td>\n",
       "    </tr>\n",
       "    <tr>\n",
       "      <th>minority</th>\n",
       "      <td>0.159542</td>\n",
       "      <td>0.520237</td>\n",
       "      <td>0.213423</td>\n",
       "      <td>0.119618</td>\n",
       "      <td>0.948547</td>\n",
       "      <td>0.010980</td>\n",
       "      <td>0.953213</td>\n",
       "      <td>20540.0</td>\n",
       "    </tr>\n",
       "  </tbody>\n",
       "</table>\n",
       "</div>"
      ],
      "text/plain": [
       "          accuracy  balanced accuracy        f1  precision  \\\n",
       "majmin                                                       \n",
       "majority  0.244586           0.559405  0.256728   0.147547   \n",
       "minority  0.159542           0.520237  0.213423   0.119618   \n",
       "\n",
       "          false positive rate  false negative rate  selection rate    count  \n",
       "majmin                                                                       \n",
       "majority             0.868499             0.012691        0.884198  69170.0  \n",
       "minority             0.948547             0.010980        0.953213  20540.0  "
      ]
     },
     "execution_count": 75,
     "metadata": {},
     "output_type": "execute_result"
    }
   ],
   "source": [
    "metric_frame.by_group"
   ]
  },
  {
   "cell_type": "code",
   "execution_count": 76,
   "id": "a9ddbe63",
   "metadata": {
    "execution": {
     "iopub.execute_input": "2025-07-30T20:33:45.805059Z",
     "iopub.status.busy": "2025-07-30T20:33:45.804417Z",
     "iopub.status.idle": "2025-07-30T20:33:47.765886Z",
     "shell.execute_reply": "2025-07-30T20:33:47.764906Z"
    },
    "papermill": {
     "duration": 1.994905,
     "end_time": "2025-07-30T20:33:47.767727",
     "exception": false,
     "start_time": "2025-07-30T20:33:45.772822",
     "status": "completed"
    },
    "tags": []
   },
   "outputs": [
    {
     "data": {
      "text/plain": [
       "array([[<Axes: title={'center': 'accuracy'}, xlabel='majmin'>,\n",
       "        <Axes: title={'center': 'balanced accuracy'}, xlabel='majmin'>,\n",
       "        <Axes: title={'center': 'f1'}, xlabel='majmin'>],\n",
       "       [<Axes: title={'center': 'precision'}, xlabel='majmin'>,\n",
       "        <Axes: title={'center': 'false positive rate'}, xlabel='majmin'>,\n",
       "        <Axes: title={'center': 'false negative rate'}, xlabel='majmin'>],\n",
       "       [<Axes: title={'center': 'selection rate'}, xlabel='majmin'>,\n",
       "        <Axes: title={'center': 'count'}, xlabel='majmin'>,\n",
       "        <Axes: xlabel='majmin'>]], dtype=object)"
      ]
     },
     "execution_count": 76,
     "metadata": {},
     "output_type": "execute_result"
    },
    {
     "data": {
      "image/png": "[encoded data removed]",
      "text/plain": [
       "<Figure size 1200x800 with 9 Axes>"
      ]
     },
     "metadata": {},
     "output_type": "display_data"
    }
   ],
   "source": [
    "# In a graphic\n",
    "metric_frame.by_group.plot.bar(\n",
    "    subplots=True,\n",
    "    layout=[3, 3],\n",
    "    legend=False,\n",
    "    figsize=[12, 8],\n",
    "    title=\"Show all metrics\",\n",
    ")"
   ]
  },
  {
   "cell_type": "markdown",
   "id": "f57a0bac",
   "metadata": {
    "papermill": {
     "duration": 0.031064,
     "end_time": "2025-07-30T20:33:47.830780",
     "exception": false,
     "start_time": "2025-07-30T20:33:47.799716",
     "status": "completed"
    },
    "tags": []
   },
   "source": [
    "# Final Output"
   ]
  },
  {
   "cell_type": "code",
   "execution_count": 77,
   "id": "96d280a3",
   "metadata": {
    "execution": {
     "iopub.execute_input": "2025-07-30T20:33:47.891541Z",
     "iopub.status.busy": "2025-07-30T20:33:47.891125Z",
     "iopub.status.idle": "2025-07-30T20:33:47.899174Z",
     "shell.execute_reply": "2025-07-30T20:33:47.898226Z"
    },
    "papermill": {
     "duration": 0.039924,
     "end_time": "2025-07-30T20:33:47.900892",
     "exception": false,
     "start_time": "2025-07-30T20:33:47.860968",
     "status": "completed"
    },
    "tags": []
   },
   "outputs": [
    {
     "data": {
      "text/plain": [
       "4"
      ]
     },
     "execution_count": 77,
     "metadata": {},
     "output_type": "execute_result"
    }
   ],
   "source": [
    "sub_universes = universe_analysis.generate_sub_universes()\n",
    "len(sub_universes)"
   ]
  },
  {
   "cell_type": "code",
   "execution_count": 78,
   "id": "92adf7ba",
   "metadata": {
    "execution": {
     "iopub.execute_input": "2025-07-30T20:33:47.962624Z",
     "iopub.status.busy": "2025-07-30T20:33:47.962210Z",
     "iopub.status.idle": "2025-07-30T20:33:47.968601Z",
     "shell.execute_reply": "2025-07-30T20:33:47.967517Z"
    },
    "papermill": {
     "duration": 0.03848,
     "end_time": "2025-07-30T20:33:47.970601",
     "exception": false,
     "start_time": "2025-07-30T20:33:47.932121",
     "status": "completed"
    },
    "tags": []
   },
   "outputs": [],
   "source": [
    "def filter_sub_universe_data(sub_universe, org_test):\n",
    "    # Keep all rows — no filtering\n",
    "    keep_rows_mask = np.ones(org_test.shape[0], dtype=bool)\n",
    "\n",
    "    print(f\"[INFO] Keeping all rows: {keep_rows_mask.sum()} rows retained.\")\n",
    "    return keep_rows_mask"
   ]
  },
  {
   "cell_type": "code",
   "execution_count": 79,
   "id": "4a759155",
   "metadata": {
    "execution": {
     "iopub.execute_input": "2025-07-30T20:33:48.033187Z",
     "iopub.status.busy": "2025-07-30T20:33:48.032704Z",
     "iopub.status.idle": "2025-07-30T20:33:57.551558Z",
     "shell.execute_reply": "2025-07-30T20:33:57.550816Z"
    },
    "papermill": {
     "duration": 9.552977,
     "end_time": "2025-07-30T20:33:57.552875",
     "exception": false,
     "start_time": "2025-07-30T20:33:47.999898",
     "status": "completed"
    },
    "tags": []
   },
   "outputs": [
    {
     "name": "stdout",
     "output_type": "stream",
     "text": [
      "Stopping execution_time clock.\n",
      "[INFO] Keeping all rows: 89710 rows retained.\n"
     ]
    },
    {
     "name": "stdout",
     "output_type": "stream",
     "text": [
      "[INFO] Keeping all rows: 89710 rows retained.\n"
     ]
    },
    {
     "name": "stdout",
     "output_type": "stream",
     "text": [
      "[INFO] Keeping all rows: 89710 rows retained.\n"
     ]
    },
    {
     "name": "stdout",
     "output_type": "stream",
     "text": [
      "[INFO] Keeping all rows: 89710 rows retained.\n"
     ]
    },
    {
     "data": {
      "text/html": [
       "<div>\n",
       "<style scoped>\n",
       "    .dataframe tbody tr th:only-of-type {\n",
       "        vertical-align: middle;\n",
       "    }\n",
       "\n",
       "    .dataframe tbody tr th {\n",
       "        vertical-align: top;\n",
       "    }\n",
       "\n",
       "    .dataframe thead th {\n",
       "        text-align: right;\n",
       "    }\n",
       "</style>\n",
       "<table border=\"1\" class=\"dataframe\">\n",
       "  <thead>\n",
       "    <tr style=\"text-align: right;\">\n",
       "      <th></th>\n",
       "      <th>run_no</th>\n",
       "      <th>universe_id</th>\n",
       "      <th>universe_settings</th>\n",
       "      <th>execution_time</th>\n",
       "      <th>test_size_n</th>\n",
       "      <th>test_size_frac</th>\n",
       "      <th>fair_main_equalized_odds_difference</th>\n",
       "      <th>fair_main_equalized_odds_ratio</th>\n",
       "      <th>fair_main_demographic_parity_difference</th>\n",
       "      <th>fair_main_demographic_parity_ratio</th>\n",
       "      <th>...</th>\n",
       "      <th>perf_grp_precision_0</th>\n",
       "      <th>perf_grp_precision_1</th>\n",
       "      <th>perf_grp_false positive rate_0</th>\n",
       "      <th>perf_grp_false positive rate_1</th>\n",
       "      <th>perf_grp_false negative rate_0</th>\n",
       "      <th>perf_grp_false negative rate_1</th>\n",
       "      <th>perf_grp_selection rate_0</th>\n",
       "      <th>perf_grp_selection rate_1</th>\n",
       "      <th>perf_grp_count_0</th>\n",
       "      <th>perf_grp_count_1</th>\n",
       "    </tr>\n",
       "  </thead>\n",
       "  <tbody>\n",
       "    <tr>\n",
       "      <th>0</th>\n",
       "      <td>14</td>\n",
       "      <td>76f037f7b14a14c482405cedc437a393</td>\n",
       "      <td>{\"cutoff\": \"quantile_0.1\", \"eval_fairness_grou...</td>\n",
       "      <td>41.481879</td>\n",
       "      <td>89710</td>\n",
       "      <td>1.0</td>\n",
       "      <td>0.080048</td>\n",
       "      <td>0.915610</td>\n",
       "      <td>0.069015</td>\n",
       "      <td>0.927598</td>\n",
       "      <td>...</td>\n",
       "      <td>NaN</td>\n",
       "      <td>NaN</td>\n",
       "      <td>NaN</td>\n",
       "      <td>NaN</td>\n",
       "      <td>NaN</td>\n",
       "      <td>NaN</td>\n",
       "      <td>NaN</td>\n",
       "      <td>NaN</td>\n",
       "      <td>NaN</td>\n",
       "      <td>NaN</td>\n",
       "    </tr>\n",
       "    <tr>\n",
       "      <th>0</th>\n",
       "      <td>14</td>\n",
       "      <td>76f037f7b14a14c482405cedc437a393</td>\n",
       "      <td>{\"cutoff\": \"quantile_0.1\", \"eval_fairness_grou...</td>\n",
       "      <td>41.481879</td>\n",
       "      <td>89710</td>\n",
       "      <td>1.0</td>\n",
       "      <td>0.080048</td>\n",
       "      <td>0.915610</td>\n",
       "      <td>0.069015</td>\n",
       "      <td>0.927598</td>\n",
       "      <td>...</td>\n",
       "      <td>0.119618</td>\n",
       "      <td>0.147547</td>\n",
       "      <td>0.948547</td>\n",
       "      <td>0.868499</td>\n",
       "      <td>0.010980</td>\n",
       "      <td>0.012691</td>\n",
       "      <td>0.953213</td>\n",
       "      <td>0.884198</td>\n",
       "      <td>20540.0</td>\n",
       "      <td>69170.0</td>\n",
       "    </tr>\n",
       "    <tr>\n",
       "      <th>0</th>\n",
       "      <td>14</td>\n",
       "      <td>76f037f7b14a14c482405cedc437a393</td>\n",
       "      <td>{\"cutoff\": \"quantile_0.25\", \"eval_fairness_gro...</td>\n",
       "      <td>41.481879</td>\n",
       "      <td>89710</td>\n",
       "      <td>1.0</td>\n",
       "      <td>0.158645</td>\n",
       "      <td>0.811735</td>\n",
       "      <td>0.137658</td>\n",
       "      <td>0.839210</td>\n",
       "      <td>...</td>\n",
       "      <td>NaN</td>\n",
       "      <td>NaN</td>\n",
       "      <td>NaN</td>\n",
       "      <td>NaN</td>\n",
       "      <td>NaN</td>\n",
       "      <td>NaN</td>\n",
       "      <td>NaN</td>\n",
       "      <td>NaN</td>\n",
       "      <td>NaN</td>\n",
       "      <td>NaN</td>\n",
       "    </tr>\n",
       "    <tr>\n",
       "      <th>0</th>\n",
       "      <td>14</td>\n",
       "      <td>76f037f7b14a14c482405cedc437a393</td>\n",
       "      <td>{\"cutoff\": \"quantile_0.25\", \"eval_fairness_gro...</td>\n",
       "      <td>41.481879</td>\n",
       "      <td>89710</td>\n",
       "      <td>1.0</td>\n",
       "      <td>0.158645</td>\n",
       "      <td>0.811735</td>\n",
       "      <td>0.137658</td>\n",
       "      <td>0.839210</td>\n",
       "      <td>...</td>\n",
       "      <td>0.129201</td>\n",
       "      <td>0.173753</td>\n",
       "      <td>0.842670</td>\n",
       "      <td>0.684025</td>\n",
       "      <td>0.040541</td>\n",
       "      <td>0.055252</td>\n",
       "      <td>0.856134</td>\n",
       "      <td>0.718476</td>\n",
       "      <td>20540.0</td>\n",
       "      <td>69170.0</td>\n",
       "    </tr>\n",
       "  </tbody>\n",
       "</table>\n",
       "<p>4 rows × 50 columns</p>\n",
       "</div>"
      ],
      "text/plain": [
       "  run_no                       universe_id  \\\n",
       "0     14  76f037f7b14a14c482405cedc437a393   \n",
       "0     14  76f037f7b14a14c482405cedc437a393   \n",
       "0     14  76f037f7b14a14c482405cedc437a393   \n",
       "0     14  76f037f7b14a14c482405cedc437a393   \n",
       "\n",
       "                                   universe_settings  execution_time  \\\n",
       "0  {\"cutoff\": \"quantile_0.1\", \"eval_fairness_grou...       41.481879   \n",
       "0  {\"cutoff\": \"quantile_0.1\", \"eval_fairness_grou...       41.481879   \n",
       "0  {\"cutoff\": \"quantile_0.25\", \"eval_fairness_gro...       41.481879   \n",
       "0  {\"cutoff\": \"quantile_0.25\", \"eval_fairness_gro...       41.481879   \n",
       "\n",
       "   test_size_n  test_size_frac  fair_main_equalized_odds_difference  \\\n",
       "0        89710             1.0                             0.080048   \n",
       "0        89710             1.0                             0.080048   \n",
       "0        89710             1.0                             0.158645   \n",
       "0        89710             1.0                             0.158645   \n",
       "\n",
       "   fair_main_equalized_odds_ratio  fair_main_demographic_parity_difference  \\\n",
       "0                        0.915610                                 0.069015   \n",
       "0                        0.915610                                 0.069015   \n",
       "0                        0.811735                                 0.137658   \n",
       "0                        0.811735                                 0.137658   \n",
       "\n",
       "   fair_main_demographic_parity_ratio  ...  perf_grp_precision_0  \\\n",
       "0                            0.927598  ...                   NaN   \n",
       "0                            0.927598  ...              0.119618   \n",
       "0                            0.839210  ...                   NaN   \n",
       "0                            0.839210  ...              0.129201   \n",
       "\n",
       "   perf_grp_precision_1  perf_grp_false positive rate_0  \\\n",
       "0                   NaN                             NaN   \n",
       "0              0.147547                        0.948547   \n",
       "0                   NaN                             NaN   \n",
       "0              0.173753                        0.842670   \n",
       "\n",
       "   perf_grp_false positive rate_1  perf_grp_false negative rate_0  \\\n",
       "0                             NaN                             NaN   \n",
       "0                        0.868499                        0.010980   \n",
       "0                             NaN                             NaN   \n",
       "0                        0.684025                        0.040541   \n",
       "\n",
       "   perf_grp_false negative rate_1  perf_grp_selection rate_0  \\\n",
       "0                             NaN                        NaN   \n",
       "0                        0.012691                   0.953213   \n",
       "0                             NaN                        NaN   \n",
       "0                        0.055252                   0.856134   \n",
       "\n",
       "   perf_grp_selection rate_1  perf_grp_count_0  perf_grp_count_1  \n",
       "0                        NaN               NaN               NaN  \n",
       "0                   0.884198           20540.0           69170.0  \n",
       "0                        NaN               NaN               NaN  \n",
       "0                   0.718476           20540.0           69170.0  \n",
       "\n",
       "[4 rows x 50 columns]"
      ]
     },
     "execution_count": 79,
     "metadata": {},
     "output_type": "execute_result"
    }
   ],
   "source": [
    "final_output = universe_analysis.generate_final_output(\n",
    "    y_pred_prob=probs_test,\n",
    "    y_test=y_true,\n",
    "    org_test=org_test,\n",
    "    filter_data=filter_sub_universe_data,\n",
    "    cp_metrics_df=cp_metrics_df,\n",
    "    save=True,\n",
    ")\n",
    "final_output"
   ]
  },
  {
   "cell_type": "code",
   "execution_count": null,
   "id": "721ff514-cb11-46f8-b6fc-50392f74b5cb",
   "metadata": {
    "papermill": {
     "duration": 0.016558,
     "end_time": "2025-07-30T20:33:57.588120",
     "exception": false,
     "start_time": "2025-07-30T20:33:57.571562",
     "status": "completed"
    },
    "tags": []
   },
   "outputs": [],
   "source": []
  }
 ],
 "metadata": {
  "celltoolbar": "Tags",
  "kernelspec": {
   "display_name": "Python (CMA Fairness)",
   "language": "python",
   "name": "cma_fair_env"
  },
  "language_info": {
   "codemirror_mode": {
    "name": "ipython",
    "version": 3
   },
   "file_extension": ".py",
   "mimetype": "text/x-python",
   "name": "python",
   "nbconvert_exporter": "python",
   "pygments_lexer": "ipython3",
   "version": "3.10.12"
  },
  "papermill": {
   "default_parameters": {},
   "duration": 55.023586,
   "end_time": "2025-07-30T20:33:58.323278",
   "environment_variables": {},
   "exception": null,
   "input_path": "universe_analysis.ipynb",
   "output_path": "output/runs/14/notebooks/m_14-76f037f7b14a14c482405cedc437a393.ipynb",
   "parameters": {
    "output_dir": "output",
    "run_no": "14",
    "seed": "2023",
    "universe": "{\"cutoff\": [\"quantile_0.1\", \"quantile_0.25\"], \"eval_fairness_grouping\": [\"majority-minority\", \"nationality-all\"], \"exclude_features\": \"age\", \"exclude_subgroups\": \"drop-non-german\", \"model\": \"elasticnet\", \"scale\": \"scale\", \"training_size\": \"25k\", \"training_year\": \"2010_14\"}",
    "universe_id": "76f037f7b14a14c482405cedc437a393"
   },
   "start_time": "2025-07-30T20:33:03.299692",
   "version": "2.6.0"
  }
 },
 "nbformat": 4,
 "nbformat_minor": 5
}